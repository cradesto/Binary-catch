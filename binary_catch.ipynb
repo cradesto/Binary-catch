{
 "cells": [
  {
   "cell_type": "markdown",
   "metadata": {},
   "source": [
    "# Binary catch\n",
    "\n",
    "**При каких условиях два тела, налетающие друг на друга с бесконечности (в системе центра масс) станут связной системой из-за испускания гравволн?**"
   ]
  },
  {
   "cell_type": "code",
   "execution_count": 2,
   "metadata": {
    "vscode": {
     "languageId": "wolfram"
    }
   },
   "outputs": [
    {
     "name": "stdout",
     "output_type": "stream",
     "text": [
      "  (CleanSlate) Contexts purged: {Global`}\n",
      "  (CleanSlate) Approximate kernel memory recovered: 0 Kb\n"
     ]
    }
   ],
   "source": [
    "(* https://mathematica.stackexchange.com/questions/850/how-do-i-clear-all-user-defined-symbols/861#861 *)\n",
    "<< Utilities`CleanSlate`\n",
    "CleanSlate[];\n",
    "\n",
    "ClearAll[\"Global`*\"]\n",
    "(* ClearSystemCache[] *)\n",
    "(* https://mathematica.stackexchange.com/questions/111605/quit-vs-clearallglobal *)\n",
    "if[Length[Names[\"Global`*\"]] > 0, Remove[\"Global`*\"]];\n",
    "\n",
    "(* PacletInstall[\n",
    "    \"TensorSimplify\",\n",
    "\n",
    "    \"Site\" -> \"http://raw.githubusercontent.com/carlwoll/TensorSimplify/master\"\n",
    "]; *)\n",
    "<<TensorSimplify`"
   ]
  },
  {
   "cell_type": "markdown",
   "metadata": {},
   "source": [
    "## Einstein Summation"
   ]
  },
  {
   "cell_type": "code",
   "execution_count": 11,
   "metadata": {
    "vscode": {
     "languageId": "wolfram"
    }
   },
   "outputs": [],
   "source": [
    "ClearAll@EinsteinSummation\n",
    "\n",
    "EinsteinSummation[in_List, arrays_] := Module[\n",
    "  {res =\n",
    "    isum[in -> Cases[Tally @ Flatten @ in, {_, 1}][[All, 1]], arrays]},\n",
    "  res /; res =!= $Failed\n",
    "  ]\n",
    "\n",
    "EinsteinSummation[in_List -> out_, arrays_] := Module[\n",
    "  {res = isum[in -> out, arrays]},\n",
    "  res /; res =!= $Failed\n",
    "  ]\n",
    "\n",
    "isum[in_List -> out_, arrays_List] := Catch@Module[\n",
    "  {indices, contracted, uncontracted, contractions, transpose},\n",
    "  If[Length[in] != Length[arrays],\n",
    "    Message[EinsteinSummation::length, Length[in], Length[arrays]];\n",
    "    Throw[$Failed]];\n",
    "  MapThread[\n",
    "    If[IntegerQ@TensorRank[#1] && Length[#1] != TensorRank[#2],\n",
    "      Message[EinsteinSummation::shape, #1, #2];\n",
    "      Throw[$Failed]] &, {in, arrays}];\n",
    "  indices = Tally[Flatten[in, 1]];\n",
    "  If[DeleteCases[indices, {_, 1 | 2}] =!= {},\n",
    "    Message[EinsteinSummation::repeat,\n",
    "      Cases[indices, {x_, Except[1 | 2]} :> x]];\n",
    "    Throw[$Failed]];\n",
    "  uncontracted = Cases[indices, {x_, 1} :> x];\n",
    "  If[Sort[uncontracted] =!= Sort[out],\n",
    "    Message[EinsteinSummation::output, uncontracted, out];\n",
    "    Throw[$Failed]];\n",
    "  contracted = Cases[indices, {x_, 2} :> x];\n",
    "  contractions = Flatten[Position[Flatten[in, 1], #]] & /@ contracted;\n",
    "  transpose = FindPermutation[uncontracted, out];\n",
    "  Activate@\n",
    "    TensorTranspose[\n",
    "      TensorContract[Inactive[TensorProduct] @@ arrays, contractions],\n",
    "    transpose]]\n",
    "\n",
    "EinsteinSummation::length =\n",
    "  \"Number of index specifications (`1`) does not match the number of \\\n",
    "tensors (`2`)\";\n",
    "EinsteinSummation::shape =\n",
    "  \"Index specification `1` does not match the tensor rank of `2`\";\n",
    "EinsteinSummation::repeat =\n",
    "  \"Index specifications `1` are repeated more than twice\";\n",
    "EinsteinSummation::output =\n",
    "  \"The uncontracted indices don't match the desired output\";"
   ]
  },
  {
   "cell_type": "code",
   "execution_count": 19,
   "metadata": {
    "vscode": {
     "languageId": "wolfram"
    }
   },
   "outputs": [],
   "source": [
    "(* Правила для скрытия аргументов в TraditionalForm *)\n",
    "\n",
    "Unprotect[Subscript, OverHat, Derivative];\n",
    "\n",
    "MakeBoxes[OverHat[r_][OverHat[t]], TraditionalForm] :=\n",
    "  MakeBoxes[OverHat[r], TraditionalForm]\n",
    "\n",
    "MakeBoxes[\\[Phi][OverHat[t]], TraditionalForm] :=\n",
    "  MakeBoxes[\\[Phi], TraditionalForm]\n",
    "\n",
    "MakeBoxes[Subscript[OverHat[r], n_][OverHat[t]], TraditionalForm] :=\n",
    "  SubscriptBox[OverscriptBox[\"r\", \"^\"], ToString[n]];\n",
    "\n",
    "MakeBoxes[OverHat[\\[Omega]][OverHat[t]], TraditionalForm] :=\n",
    "  OverscriptBox[\"\\[Omega]\", \"^\"];\n",
    "\n",
    "MakeBoxes[Derivative[n_][f_][OverHat[t]], TraditionalForm] := Module[{primes},\n",
    "  primes = StringJoin[Table[\"\\[Prime]\", n]];\n",
    "  SuperscriptBox[ToBoxes[f], primes]\n",
    "];\n",
    "\n",
    "Protect[Subscript, OverHat, Derivative];"
   ]
  },
  {
   "cell_type": "markdown",
   "metadata": {},
   "source": [
    "$\\hat{r}_k$"
   ]
  },
  {
   "cell_type": "code",
   "execution_count": 28,
   "metadata": {
    "vscode": {
     "languageId": "wolfram"
    }
   },
   "outputs": [
    {
     "data": {
      "text/html": [
       "<div><img alt=\"Output\" src=\"data:image/png;base64,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\"></div>"
      ],
      "text/plain": [
       "FormBox[TagBox[RowBox[{\"(\", \"⁠\", \n",
       "\n",
       " \n",
       ">         TagBox[GridBox[{{RowBox[{OverscriptBox[\"r\", \"^\"], \" \", \n",
       "\n",
       " \n",
       ">               RowBox[{\"cos\", \"(\", \"ϕ\", \")\"}]}]}, \n",
       "\n",
       " \n",
       ">            {RowBox[{OverscriptBox[\"r\", \"^\"], \" \", RowBox[{\"sin\", \"(\", \"ϕ\", \")\"}]}]}}, \n",
       "\n",
       " \n",
       ">           Rule[RowSpacings, 1], Rule[ColumnAlignments, Center], \n",
       "\n",
       " \n",
       ">           Rule[ColumnAlignments, Left]], Column], \"⁠\", \")\"}], \n",
       "\n",
       " \n",
       ">       Function[BoxForm`e$, MatrixForm[BoxForm`e$]]], TraditionalForm]\n"
      ]
     },
     "execution_count": 28,
     "metadata": {
      "text/html": [],
      "text/plain": []
     },
     "output_type": "execute_result"
    }
   ],
   "source": [
    "rh = {OverHat[r][OverHat[t]]*Cos[\\[Phi][OverHat[t]]], OverHat[r][OverHat[t]]*Sin[\\[Phi][OverHat[t]]]};\n",
    "rh // MatrixForm // TraditionalForm"
   ]
  },
  {
   "cell_type": "code",
   "execution_count": 29,
   "metadata": {
    "vscode": {
     "languageId": "wolfram"
    }
   },
   "outputs": [],
   "source": [
    "$Assumptions = {\n",
    "  {OverHat[r][OverHat[t]], Subscript[OverHat[r],2][OverHat[t]], OverHat[t], u} \\[Element] PositiveReals\n",
    "};\n",
    "$Assumptions = Join[$Assumptions, {rh \\[Element] NonNegativeReals}];"
   ]
  },
  {
   "cell_type": "markdown",
   "metadata": {},
   "source": [
    "## Система движения в декартовых координатах\n",
    "$$\n",
    "\\frac{d^2r_k}{dt^2} = -\\frac{G(m_A+m_B)}{r^3}r_k - \\frac{2}{5}f_{ki}^{(5)}r_i\n",
    "$$\n",
    "\n",
    "Ч.Мизнер, К.Торн, Дж.Уилер Гравтация, Т.3, §36.8, стр. 222\n",
    "\n",
    "Введём обозначения для полной и приведённой масс\n",
    "$$\n",
    "M=m_A+m_B; \\quad\n",
    "\\mu = m_{AB} = \\frac{m_A m_B}{M}\n",
    "$$\n",
    "Задача двух самогравитирующих тел с массами $m_A$ и $m_B$\n",
    "в системе отсчёта центра масс всегда сводится\n",
    "к задаче движения тела массы $\\mu$\n",
    "в центральном поле массы $M$.\n",
    "\n",
    "$f_{ki}$ - квадрупольный момент системы.\n",
    "Задача решается методом последовательных приближений\n",
    "Первоначально строится решение в приближении Ньютона,\n",
    "затем для полученной конфигурации находится квадрупольный момент\n",
    "и находится его пятая производная по времени.\n",
    "Уже на следубщем шаге (уравнение выше)\n",
    "находятся решение с **заданной** функций от времени (**и только времени**) $f_{ki}^{(5)}$."
   ]
  },
  {
   "cell_type": "markdown",
   "metadata": {},
   "source": [
    "### Безразмерные единицы\n",
    "$$\n",
    "\\begin{align}\n",
    "r &= b\\hat{r} \\\\\n",
    "t &= t_0\\hat{t} \\\\\n",
    "f_{ij} &= b^2\\frac{G}{c^5}\\mu\\hat{f}_{ij} \\\\\n",
    "f_{ij}^{(5)} &= \\frac{b^2}{t_0^5}\\frac{G}{c^5}\\mu\\hat{f}_{ij}^{(5)}\n",
    "\\end{align}\n",
    "$$"
   ]
  },
  {
   "cell_type": "markdown",
   "metadata": {},
   "source": [
    "$\\hat{f}_{ki}$"
   ]
  },
  {
   "cell_type": "code",
   "execution_count": 32,
   "metadata": {
    "vscode": {
     "languageId": "wolfram"
    }
   },
   "outputs": [
    {
     "data": {
      "text/html": [
       "<div><img alt=\"Output\" src=\"data:image/png;base64,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\"></div>"
      ],
      "text/plain": [
       "FormBox[TagBox[RowBox[{\"(\", \"⁠\", \n",
       "\n",
       " \n",
       ">         GridBox[{{RowBox[{FractionBox[\"1\", \"6\"], \" \", \n",
       "\n",
       " \n",
       ">              SuperscriptBox[OverscriptBox[\"r\", \"^\"], \"2\"], \" \", \n",
       "\n",
       " \n",
       ">              RowBox[{\"(\", RowBox[{RowBox[{\"3\", \" \", \n",
       "\n",
       " \n",
       ">                    RowBox[{\"cos\", \"(\", RowBox[{\"2\", \" \", \"ϕ\"}], \")\"}]}], \"+\",\\\n",
       " \n",
       ">    \"1\"}]\\\n",
       ", \")\"}]}], RowBox[{SuperscriptBox[OverscriptBox[\"r\", \"^\"], \"2\"], \" \", \n",
       "\n",
       " \n",
       ">              RowBox[{\"sin\", \"(\", \"ϕ\", \")\"}], \" \", RowBox[{\"cos\", \"(\", \"ϕ\", \")\"}]}]}, \n",
       "\n",
       " \n",
       ">           {RowBox[{SuperscriptBox[OverscriptBox[\"r\", \"^\"], \"2\"], \" \", \n",
       "\n",
       " \n",
       ">              RowBox[{\"sin\", \"(\", \"ϕ\", \")\"}], \" \", RowBox[{\"cos\", \"(\", \"ϕ\", \")\"}]}], \n",
       "\n",
       " \n",
       ">            RowBox[{FractionBox[\"1\", \"3\"], \" \", \n",
       "\n",
       " \n",
       ">              SuperscriptBox[OverscriptBox[\"r\", \"^\"], \"2\"], \" \", \n",
       "\n",
       " \n",
       ">              RowBox[{\"(\", RowBox[{RowBox[{\"3\", \" \", \n",
       "\n",
       " \n",
       ">                    RowBox[{SuperscriptBox[\"sin\", \"2\"], \"(\", \"ϕ\", \")\"}]}], \"-\", \"1\"}], \n",
       "\n",
       " \n",
       ">                \")\"}]}]}}, Rule[RowSpacings, 1], Rule[ColumnSpacings, 1], \n",
       "\n",
       " \n",
       ">          Rule[RowAlignments, Baseline], Rule[ColumnAlignments, Center]], \"⁠\", \")\"}], \n",
       "\n",
       " \n",
       ">       Function[BoxForm`e$, MatrixForm[BoxForm`e$]]], TraditionalForm]\n"
      ]
     },
     "execution_count": 32,
     "metadata": {
      "text/html": [],
      "text/plain": []
     },
     "output_type": "execute_result"
    }
   ],
   "source": [
    "fh = Simplify[Array[rh[[#]]*rh[[#2]] - 1/3*KroneckerDelta[#, #2]*(OverHat[r][OverHat[t]])^2 &, {2, 2}], Trig -> True];\n",
    "fh // MatrixForm // TraditionalForm"
   ]
  },
  {
   "cell_type": "markdown",
   "metadata": {},
   "source": [
    "<span style=\"color:brown\">**NB:**</span> Здесь и далее мы не записываем компоненты квадрупольного момента для $z$, так как они сворачиваются с нулевыми $r_z$.\n",
    "\n",
    "Однако нужно запомнить, что след полного квадрупольного момента и его пятой производной **нулевой**!"
   ]
  },
  {
   "cell_type": "markdown",
   "metadata": {},
   "source": [
    "$\\hat{f}_{ki}^{(5)}$ - заданная функция (см. выше)"
   ]
  },
  {
   "cell_type": "code",
   "execution_count": 36,
   "metadata": {
    "vscode": {
     "languageId": "wolfram"
    }
   },
   "outputs": [
    {
     "data": {
      "text/html": [
       "<div><img alt=\"Output\" src=\"data:image/png;base64,iVBORw0KGgoAAAANSUhEUgAAAKUAAABWCAIAAAAhT8E6AAAAznpUWHRSYXcgcHJvZmlsZSB0eXBlIGV4aWYAAHjabU/bDQMhDPtnio4Q8nBgHK5HpW7Q8RsO1IqqlkgcxwmQ+uv5SLcBzpTUvKACFNCqlVuQQhMzZ6pXvNBs9fKuJ8PSW0j2baAv/dh1X34uP4uIJ5FxQ3DRNbAWCU89t1kfy8+tlH2R0IZKn6f/rVWcYciuEZXJHTV4SUEjwZjM8cAdCGPGyaT3yB3uMQYfDmljcIC77+6eICGc4wsyjkmLLBFZSoxm0UvhiCbKx+peH0lvXAlavT40SLMAAAAJcEhZcwAAFiUAABYlAUlSJPAAAAA8dEVYdFNvZnR3YXJlAENyZWF0ZWQgd2l0aCB0aGUgV29sZnJhbSBMYW5ndWFnZSA6IHd3dy53b2xmcmFtLmNvbVyipoUAAAAhdEVYdENyZWF0aW9uIFRpbWUAMjAyNTowMzoyOCAxNDowMjo1NAHBvjIAABFLSURBVHhe7Z151E7VF8eRJqRRoZKpkqJMldJClGHRhFKihcqYlZXStEooqj+KZLYItZpVNFkqTRpppJahEDKkCSUafh9rP7/z3vc+97l33/ve6eG5f7zrfZ5nn3P2PvucffbZZ5/vLf3ff/+Vyrfno48++vjjj4XrP//8c9euXXfeeWe+CeHNbyRiou/8ev7999/TTjvN2lvvv/9+fomg4TYiMct4D7MUUPzzzz/M4LfffhteXnvttf333//d/z8ffvjhOeecw/eTJk2aOXNmCpgNzsKGDRuuuOIKhHUR89prr/3mm2+Ct+Ey1v7++2/lSPzjjz8wqhriYDQI2aVLFynbsmXLvn37fv/997aq4KFevXoTJkwI1oRnKSZcpGJu3bq1Ro0aTz/9tLuYjO+jjz56xYoVLgwzYnL9WirXD8yffv36efYCBDfffDPD7aijjlq3bp2G3i/NxIkTTzzxxN9//52CixcvNkO7YcOG7733nrW2b7/99ogjjrB96be5XPSRiomGLrzwwhtuuEFadxfzoYceYkXbvn17LlZXrVp1zTXX/Pbbb9kEzvqeNWtWs2bNpIvdn5dffrl06dKig/POO09pErxqLfqdWXX44Ydjq+Wrr776asiQIeeee+5BBx0kjdom9PXXX48B0NevpIxazPnz5yPLzz//rBSTPnG3ZAsWLDj99NPXr19vE9BB30899dRxxx2HefHsix9++OHII4+sXr36l19+OXjwYDi+/fbbPUv5Ili2bBnVZntkmzdvbt++PT+VK1du7dq1ps6xY8eWL18+3GEXg5jDhg079thjs3sml5hMre7du7v35IwZM04++eQtW7ZYyez6xiTSXy+88IKnVuhTbAC+EjwJMSPugAMOeP311z3L6gmmTp2KUh1NE1O/W7du/PrYY4+ZCt98802+WbJkib4Jd8p4xMSYt2nTxpETRzFZamvXru0pY7t27ZgV1GAoi+mbH84888zmzZt7VgTB7t2733jjjZ07d1qJv/766+XLl2uKK2lwzRwHvhQXM4jrbmr78ccf+WbatGnK+j3J4hETM3njjTfmYiZbTMwYYnouuHjyrLZTpkwxNRfbjz333HPEMWhY4+6XLVv2/PPPP/DAA63Ep556Kr6VpriSBoMh+xPH5/jjj+f7OnXqmF8ZsvzPhk1ZvydZbGIK5+GKSc+0bdv27rvvJiolNRfT96hRoypXrnzRRRd59kI2AfNg9OjRrCvVqlXr06fPr7/+GqCS7CLsPfBiclX1/PPPs/ow7AyBEFeqVCmU1rMrIebVs2dPZMQKMj3CagWG/YpZoUIF47S6sIEDy7a+KDJhZvrSpUsphh/vaeKyCVD2pZdeStdj4Xv37k09jKkA9WQXwc+kNjYY/MQMaN26NWv2J598wsc1a9awYcUrsZZ65pln9ttvv59++imU1m2VEPDBPYQBli24Qt5t27aF0hBaadSokVSlEZNoBF2haRoOsXbsaIS4aP3GtUaGJ554QlOLjYY9EmUffPBBvr/jjjtYM8aNGxegnuwihHGOOeYYs/fo2LGjjGVCK3iLCxcutBW57rrr8H1CadpWCbPkkEMOqVKlCs4j4+nQQw9lNcFOhtIW84ROM760u5gscKz31lXZnYcWLVrQYxKhKtL32WefzbcrV670KwCbPAzLwQcfvGPHDimLMfdbiQv9Sy+9dMIJJ2zatEnGPnOdTYRpy1rw008/xTCG6zCa+gcNGkT/3HXXXfINsba//vorRDHZX/Xo0UMqdBfznnvuYd10CaLZuBo6dCiciw+b0TduNp4RxsrquyuFoXmq69Chg5I+ABmeAbPZthew1cOwY7v54osvBqjfswjaxXojJkPKkzgYAWajVatW999/v3txAq4EUggJ6FshegbnxKSL9L1o0SK+qlu3rr4WQ3nGGWcYYx6guLLIvHnzCPG6ELMLJ/qmrM0vGQEJZKxYsaJ+VvltAnr2+vg97sEiIjOOts2lOQLMME8IFprSe3ReqhT+G57aBRdcIFs9zcMQIWpPFHfgwIHQE/vF42ASdO7cWVM8L2iY1jiAsDp79mw8RxbsESNG8JEoU7jbzkh7Y/Xq1Ti2rLl7dmUyLkSMq6++Wj8qb7nlFpZ8jkkoyCaV/3lQtr6G9FPiCohcog8ix/KRM9n0M284ZNQK//hAGX3j1vK5f//+fsXo1asXBc866yy/BfOInvi89Nerr76aR2xbWZUAFMG0TLyFnQCf2WP4NSySVyQZB3vrIzKyX2ratGmeyojnAedoOaNvibdp4jVWgVm85fxqX9A3zmyA+ZCS8SGaRcvF9M0y7Is/juUl6rsv6DuvZRTNllTfYugIhlStWtXXQMkjYgY0e+58H9Oyfhfpmz2fLFG+NLEvLN4cKbJs5bu+RbMED0qUn7ov6FtkZNt50kkn+ZoM6SQOru+NGzfKRsVlYWNAcaZEMIdQKJSEPPmfsHN2X5Cn8Pjjj4vl5GHnY24UJNtxwoa7Z65hnnWBsD/RUOKmIhGhLfLA4pZOdmkNGjSg4QceeEC/v+QYgyIc1LjE/4jJkKYDGWrmDJHDdf5/5ZVXbK0Q8CNB57DDDqtVqxY/8T9nmmTa6JmJjpIsWHgmJTRXE0rm77vvPrICqYrjBqmKox1cn+g4t9Ys0UCOGTPxlgD6lis8V111lTvHe/Z8ZcqQQ8FhAIE9nlxHMkRkqZBj2VtvvVXOHOPpC5dWcHDEs/U8c9Mwz1E06wI5J9IiqXYyvmN4QtA3ab90BEbYk10ZTJ4nVxBAVr9+/XCzSz3ZcyGQGy10lmclSublrEFGz2effabM8Pds3ZPA6Dvg+k2mHHYMY37xxRd7rkCywHNk604pZOQJYcw964yHgKWHhiRjJxTmOTWWlZu/48ePF/XH+fjQNxnpLPCcOcIfScfkMJHZKKfCLg+bGRn7XIRxp8SXgYAEsTjlz24LVxFNSBxp7ty5eBUcK3iypGSevCIWCLqCvBJ6hpidZ80hE4gp0KzfJB3QNmYcZ/uUU04h/1mTx8KBCrlNFGRVpiG2s9IiRtuaH8L3pB2S40FkgHUOj/eXX37xNFOhE7ChIOkDbmVbwT+axCwX5m1iwjBnS2QMcC9QkvLieYKs32wesLScpDI4cCzxvFx4/eKLL7gq8Mgjj+CiQ4ZjwvgYM2YMKbB8ZGhzlkzuKZmHjz766FtvvYUZZ3cnmRjDhw/H7mkuuETRWZdffjk8kKmP6TLZS44NMTjcmTdiEng2NchFHBn9sT1B9A1zHKCSRsLK7elSIQ9SXXbZZZh9CpLEyEcWeymIYZCzBxYw8qjoWcldwSfnJIcZxvSKrS9sDUnMgAQHbIw7D0jhzrwR86abbjJVTZ48mdnieVUgXPED6lvPBOufbQ9jS7nCaJPVis0kbmM13ezEHG8P6ZuOk9KTeSOm4Qr7kZ1WGzXPJfXPPZ0IAra2jB+JNpgHS05GFPkwpBvjE5nvmd9yWJsXjyfzRkwRh4uu+GgsXklJ58M/D5dFgos4+WQxh1tt2moTMVkEGf3chWMhxydIkMnE9E2ogRsxCUoeT9MiJolvRE+JrLF4+z2EDJfPxPQdrhgpr41LeyxeyouYkcpS0Hek3Zu6ygv6Tp1KImWooO9Iuzd1lRf0nTqVRMpQQd+Rdm/qKi/oO3UqiZShgr4j7d7UVV7Qd+pUEilDBX1H2r2pqzxz/5ssTNKpSF8RlNCUP5EAg6dMZo5lAY41IF0ffPDBww8/TMZAMDZJnueyfonyU6M+wstVf0TA4EmJk6tdwRkwD1AMJeEwzPNQ+CBvl7yGYENPUyoN+OcxiMlJGnAd0iGAXQGiaGDeOWGT78PBP9fkr+UaX5ECRUujacA/j1pM8iS5dilJNSTYgP1FHhHQDLZu1+CfZ2sqtPyWqIGiYT0N+OdRi0m6KlcRyOMTVRn8Ne5t33bbbTaoc0/886j0HQNQdBrwz2MQEzwV7t8YPZEU27VrV9LcxIYzO21Ajp745zaVhzC/4wGKThz/PB4xwRl2xEcG7lKyu8yrD0SRGvxzq8pD0Hc8QNGJ45/HICbpmiS9IKmjh0RGFBfwSAO3/qrEPzdFQvDP4wGK5oYw+OeOGYz0EZhxjH12lsbJ5yIE/xNL0Lj9GpoYxBR0fuE8+wE0EgQwsv0Fk0EeiFnyMfIaEaw0ocXXIsLDThz/3NahUeBhC4a8O/45Fzas6DqBYd7D0TdDjwsyI0eO5HIz8MRk5REM8jv0HOlThX/+zjvvcOmJkc3eif+xLgL1UcJH0Npz4Z9ze4trizZQeoiV+Oc23sLRN3uGOXPmECugO7jUj6UNC3EeUwYk9nfffQffGD3CTIBACgwE949Y87jRA0a1kYrVjktPTZo0KaEOsouzM+aWE9diuE2IjPzDu6/8Ilo5csXcZTNm3iJHT8I/V7FkMBF4AV5fADDNA7FBffQnqSzpJYm3RIqHnR7880jxsElNZ6qILgiVC5wS1zAaN27MfTPbZswv/jl1huCfG98vajzsNOCfR42HzeVI7t+Y10Jxo4oZzAscHD12v/jnIes7BjzsxPHPY8DDJlCKYecSrqOOzZcB8M+t+g6+fpNATxCf5fPzzz+X1ZSPzz77rL/lREcNQj8XTrmL5UIOXjWtB3vZTq5qmdYIxSNX2FmzubHMR+sOUCeBNxX3wrlHKAgiLg8BKHredhnPu3ZDIQOHdYJvPMH1rUOvgIftPhFT9SuX79Ev+6YMPpOAq9x7771+uSzgYfvtsUToJRSPccrYc7mnaY3gKE3EvgOxmNd42KJZtFxM34KCqH8KeNj6vkqWUjRbpG8JjwAy4YutAh62r+5KkFg0S1QnM7+J4PDZQHsqOSvgYSs7KlkyJrdkm7GKZ/Qt6zlvdvbF2b6weO8FeNh7XlNTqhSnMhxGZPQt/jqR0YK+bT2wF+Bhi1oJ5uByZvRN/jkxW4FUU6pcg4etrCrNZBo87DTzD2+8OZS/cr6S0Td5cRyZ8OI6VK7kXqJdQKjyesNcRZT45+CUEVrikXpYVsi+9rtZULLtl0z0bX3ltK0GJfMJ4p/L24wzEO5m+y9vFX3yySeVAQENHrYG/5wFEhw+TA0HuvKmRGK0cDJ9+nQlJ9GReeJh65lPEP+cTEj6U94EXPR+YMHa52Xmyu5T4mEr8c8FnFVGG71M0gTBICUn0ZEp8bCVzCeCf06MhBwhjLn0UpG++YBlJuVd84pgdm6s9xhzW2q0Y9dr8M/xIcnKM+j5nTp1wsuITpHKmsXmoU53ej3z8eOfCzi1Qf0tpm+yX/kNEGhH8QA35UBFDuwE/pmkC03HDRgwAGJScNyJOSAiIAANPoTnaxM07QajIXmIBUXeAwwWIkkHGqxTJfO8eNT0PjnnS5cuDcakvhRXFwCBNNOymL6Z2cxFa+K7td5geNgYMTm8y35tiY1pgdhlmeH2EGesepFCpAyGhw0DSubpDVKgSMniRPXKK68MkXPHqoCwxTFi+Jpfi+mbb4GzJ8rqqBtfeNimASX+OfQkAaJv4Cb79OkTdUe41K/Hw7ZWkov5ZPHPL7nkktatW1sXaLu+kYHzfMJtjiDFejxsJf65FRicjQ2DkdFGKwnqW4+HbWXSkflk8c9xfmvWrEmYxMqng775mYNxdpzZlxP1alDin1uBwakcb5FLsPpWUkWZzXyC+OfcLa1Xr152BpyzvulH0oPwswJ3qB7/3DTBekG6sWZ3EJir6ArmYj4R/HMCaji8ji+IyKlvusb6fpHQe4q3b/FCImNC8N7xEz1fKRA6G6FU6MK8TUzuNpOlH0qjLpVwGpZr2rjpO1K2yNpn7MMZex5cJKI31rU80qbDqlzDvIgJcAonUvih7MGSNWCJ6Vs6HeF5xUGXLl3Me4vCUkYM9eiZx3snfO3yUsoYuJUm/gf/s2id3SFUugAAAABJRU5ErkJggg==\"></div>"
      ],
      "text/plain": [
       "FormBox[TagBox[RowBox[{\"(\", \"⁠\", \n",
       "\n",
       " \n",
       ">         GridBox[{{TemplateBox[List[SubscriptBox[OverscriptBox[\"f\", \"^\"], \n",
       "\n",
       " \n",
       ">               RowBox[List[\"x\", \",\", \"x\"]]], \"\\\"(5)\\\"\"], \"Superscript\", \n",
       "\n",
       " \n",
       ">             Rule[SyntaxForm, SuperscriptBox]], \n",
       "\n",
       " \n",
       ">            TemplateBox[List[SubscriptBox[OverscriptBox[\"f\", \"^\"], \n",
       "\n",
       " \n",
       ">               RowBox[List[\"x\", \",\", \"y\"]]], \"\\\"(5)\\\"\"], \"Superscript\", \n",
       "\n",
       " \n",
       ">             Rule[SyntaxForm, SuperscriptBox]]}, \n",
       "\n",
       " \n",
       ">           {TemplateBox[List[SubscriptBox[OverscriptBox[\"f\", \"^\"], \n",
       "\n",
       " \n",
       ">               RowBox[List[\"x\", \",\", \"y\"]]], \"\\\"(5)\\\"\"], \"Superscript\", \n",
       "\n",
       " \n",
       ">             Rule[SyntaxForm, SuperscriptBox]], \n",
       "\n",
       " \n",
       ">            TemplateBox[List[SubscriptBox[OverscriptBox[\"f\", \"^\"], \n",
       "\n",
       " \n",
       ">               RowBox[List[\"y\", \",\", \"y\"]]], \"\\\"(5)\\\"\"], \"Superscript\", \n",
       "\n",
       " \n",
       ">             Rule[SyntaxForm, SuperscriptBox]]}}, Rule[RowSpacings, 1], \n",
       "\n",
       " \n",
       ">          Rule[ColumnSpacings, 1], Rule[RowAlignments, Baseline], \n",
       "\n",
       " \n",
       ">          Rule[ColumnAlignments, Center]], \"⁠\", \")\"}], \n",
       "\n",
       " \n",
       ">       Function[BoxForm`e$, MatrixForm[BoxForm`e$]]], TraditionalForm]\n"
      ]
     },
     "execution_count": 36,
     "metadata": {
      "text/html": [],
      "text/plain": []
     },
     "output_type": "execute_result"
    }
   ],
   "source": [
    "(* fh5 = Array[Superscript[Subscript[OverHat[f], {x, y}[[#1]], {x, y}[[#2]]], \"(5)\"] &, {2, 2}] *)\n",
    "(* Symmetric version *)\n",
    "fh5 = Array[If[#1 <= #2,\n",
    "                    Superscript[Subscript[OverHat[f], {x, y}[[#1]], {x, y}[[#2]]], \"(5)\"],\n",
    "                    Superscript[Subscript[OverHat[f], {x, y}[[#2]], {x, y}[[#1]]], \"(5)\"]] &, {2, 2}];\n",
    "fh5 // MatrixForm // TraditionalForm"
   ]
  },
  {
   "cell_type": "markdown",
   "metadata": {},
   "source": [
    "$\\hat{f}_{ki}^{(5)}\\hat{r}_i$"
   ]
  },
  {
   "cell_type": "code",
   "execution_count": 38,
   "metadata": {
    "vscode": {
     "languageId": "wolfram"
    }
   },
   "outputs": [
    {
     "data": {
      "text/html": [
       "<div><img alt=\"Output\" src=\"data:image/png;base64,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\"></div>"
      ],
      "text/plain": [
       "FormBox[TagBox[RowBox[{\"(\", \"⁠\", \n",
       "\n",
       " \n",
       ">         TagBox[GridBox[{{RowBox[{RowBox[{OverscriptBox[\"r\", \"^\"], \" \", \n",
       "\n",
       " \n",
       ">                 RowBox[{\"sin\", \"(\", \"ϕ\", \")\"}], \" \", \n",
       "\n",
       " \n",
       ">                 TemplateBox[List[SubscriptBox[OverscriptBox[\"f\", \"^\"], \n",
       "\n",
       " \n",
       ">                    RowBox[List[\"x\", \",\", \"y\"]]], \"\\\"(5)\\\"\"], \"Superscript\", \n",
       "\n",
       " \n",
       ">                  Rule[SyntaxForm, SuperscriptBox]]}], \"+\", \n",
       "\n",
       " \n",
       ">               RowBox[{OverscriptBox[\"r\", \"^\"], \" \", RowBox[{\"cos\", \"(\", \"ϕ\", \")\"}], \n",
       "\n",
       " \n",
       ">                 \" \", TemplateBox[List[SubscriptBox[OverscriptBox[\"f\", \"^\"], \n",
       "\n",
       " \n",
       ">                    RowBox[List[\"x\", \",\", \"x\"]]], \"\\\"(5)\\\"\"], \"Superscript\", \n",
       "\n",
       " \n",
       ">                  Rule[SyntaxForm, SuperscriptBox]]}]}]}, \n",
       "\n",
       " \n",
       ">            {RowBox[{RowBox[{OverscriptBox[\"r\", \"^\"], \" \", \n",
       "\n",
       " \n",
       ">                 RowBox[{\"cos\", \"(\", \"ϕ\", \")\"}], \" \", \n",
       "\n",
       " \n",
       ">                 TemplateBox[List[SubscriptBox[OverscriptBox[\"f\", \"^\"], \n",
       "\n",
       " \n",
       ">                    RowBox[List[\"x\", \",\", \"y\"]]], \"\\\"(5)\\\"\"], \"Superscript\", \n",
       "\n",
       " \n",
       ">                  Rule[SyntaxForm, SuperscriptBox]]}], \"+\", \n",
       "\n",
       " \n",
       ">               RowBox[{OverscriptBox[\"r\", \"^\"], \" \", RowBox[{\"sin\", \"(\", \"ϕ\", \")\"}], \n",
       "\n",
       " \n",
       ">                 \" \", TemplateBox[List[SubscriptBox[OverscriptBox[\"f\", \"^\"], \n",
       "\n",
       " \n",
       ">                    RowBox[List[\"y\", \",\", \"y\"]]], \"\\\"(5)\\\"\"], \"Superscript\", \n",
       "\n",
       " \n",
       ">                  Rule[SyntaxForm, SuperscriptBox]]}]}]}}, Rule[RowSpacings, 1], \n",
       "\n",
       " \n",
       ">           Rule[ColumnAlignments, Center], Rule[ColumnAlignments, Left]], Column], \"⁠\",\\\n",
       " \n",
       ">    \n",
       "      \")\"}], Function[BoxForm`e$, MatrixForm[BoxForm`e$]]], TraditionalForm]\n"
      ]
     },
     "execution_count": 38,
     "metadata": {
      "text/html": [],
      "text/plain": []
     },
     "output_type": "execute_result"
    }
   ],
   "source": [
    "fh5rh = EinsteinSummation[{{k, i}, {i}}, {fh5, rh}];\n",
    "fh5rh // MatrixForm // TraditionalForm"
   ]
  },
  {
   "cell_type": "markdown",
   "metadata": {},
   "source": [
    "Система движения в безразмерной записи будет выглядеть как"
   ]
  },
  {
   "cell_type": "markdown",
   "metadata": {},
   "source": [
    "$$\n",
    "\\frac{d^2\\hat{r}_k}{d\\hat{t}^2} = -\\frac{t_0^2}{b^3}\\frac{GM}{\\hat{r}^3}\\hat{r}_k - \\frac{2}{5}\\frac{b^2}{t_0^3}\\frac{G}{c^5}\\mu\\hat{f}_{ki}^{(5)}\\hat{r}_i\n",
    "$$"
   ]
  },
  {
   "cell_type": "markdown",
   "metadata": {},
   "source": [
    "Пусть $t_0 = \\sqrt{\\frac{b^3}{GM}}$, а $b$ - прицельное расстояние, тогда система движения перепишется как\n",
    "\n",
    "$$\n",
    "\\frac{d^2\\hat{r}_k}{d\\hat{t}^2} + \\frac{\\hat{r}_k}{\\hat{r}^3} = - \\epsilon_G\\hat{f}_{ki}^{(5)}\\hat{r}_i\\quad,\n",
    "$$\n",
    "или\n",
    "$$\n",
    "\\hat{r}_k^{(2)} + \\frac{\\hat{r}_k}{\\hat{r}^3} = - \\epsilon_G\\hat{f}_{ki}^{(5)}\\hat{r}_i\\quad,\n",
    "$$\n",
    "\n",
    "где безразмерная постоянная\n",
    "$\\epsilon_G =\n",
    "  \\frac{2}{5}\\frac{b^2}{t_0^3}\\frac{G}{c^5}\\mu\n",
    "  = \\frac{2}{5}\\frac{\\mu}{M} \\left( \\frac{GM}{bc^2} \\right)^{\\frac{5}{2}}\n",
    "  = \\frac{2}{5}\\frac{\\mu}{M} \\left( \\frac{r_s}{2b} \\right)^{\\frac{5}{2}}$.\n",
    "\n",
    "Здесь $r_s = \\frac{2 G M}{c^2}$ - сумма радиусов Шварцшильда двух тел.\n",
    "Заметим, что $f_{ij}^{(5)} = \\frac{5}{2}\\frac{\\epsilon_G}{t_0^2}\\hat{f}_{ij}^{(5)}$\n",
    "\n",
    "Можно еще записать, что\n",
    "$\\epsilon_G\n",
    "  = \\frac{2}{5}\\frac{q}{(1 + q)^2} \\left( \\frac{r_s}{2b} \\right)^{\\frac{5}{2}}$,\n",
    "где $q = \\frac{m_1}{m_2}$ - отношение меньшей массы тела к большей, $m_1 < m_2$.\n",
    "Откуда можно видеть, что $\\epsilon_G \\ll 1$, когда $q \\ll 1$ или/и $r_s \\ll b$.\n",
    "\n",
    "<span style=\"color:brown\">**NB:**</span> Но обязательно ли условие $\\epsilon_G \\ll 1$? Обсудим ниже."
   ]
  },
  {
   "cell_type": "markdown",
   "metadata": {},
   "source": [
    "## Переход к полярным координатам от декартовых\n",
    "Повернём систему с помощью матрицы вращения $R_{ij}(\\phi)$ на угол $\\phi$ по **часовой** стрелке"
   ]
  },
  {
   "cell_type": "code",
   "execution_count": 39,
   "metadata": {
    "vscode": {
     "languageId": "wolfram"
    }
   },
   "outputs": [
    {
     "data": {
      "text/html": [
       "<div><img alt=\"Output\" src=\"data:image/png;base64,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\"></div>"
      ],
      "text/plain": [
       "FormBox[TagBox[RowBox[{\"(\", \"⁠\", \n",
       "\n",
       " \n",
       ">         GridBox[{{RowBox[{\"cos\", \"(\", \"ϕ\", \")\"}], RowBox[{\"sin\", \"(\", \"ϕ\", \")\"}]}, \n",
       "\n",
       " \n",
       ">           {RowBox[{\"-\", RowBox[{\"sin\", \"(\", \"ϕ\", \")\"}]}], \n",
       "\n",
       " \n",
       ">            RowBox[{\"cos\", \"(\", \"ϕ\", \")\"}]}}, Rule[RowSpacings, 1], \n",
       "\n",
       " \n",
       ">          Rule[ColumnSpacings, 1], Rule[RowAlignments, Baseline], \n",
       "\n",
       " \n",
       ">          Rule[ColumnAlignments, Center]], \"⁠\", \")\"}], \n",
       "\n",
       " \n",
       ">       Function[BoxForm`e$, MatrixForm[BoxForm`e$]]], TraditionalForm]\n"
      ]
     },
     "execution_count": 39,
     "metadata": {
      "text/html": [],
      "text/plain": []
     },
     "output_type": "execute_result"
    }
   ],
   "source": [
    "RotationMatrix[-\\[Phi]] // MatrixForm // TraditionalForm"
   ]
  },
  {
   "cell_type": "markdown",
   "metadata": {},
   "source": [
    "#### LHS системы после поворота"
   ]
  },
  {
   "cell_type": "code",
   "execution_count": 41,
   "metadata": {
    "vscode": {
     "languageId": "wolfram"
    }
   },
   "outputs": [
    {
     "data": {
      "text/html": [
       "<div><img alt=\"Output\" src=\"data:image/png;base64,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\"></div>"
      ],
      "text/plain": [
       "FormBox[TagBox[RowBox[{\"(\", \"⁠\", \n",
       "      TagBox[GridBox[{{RowBox[{RowBox[{\"-\", \n",
       "\n",
       " \n",
       ">                 RowBox[{\"2\", \" \", SuperscriptBox[OverscriptBox[\"r\", \"^\"], \"′\"], \n",
       "\n",
       " \n",
       ">                   \" \", SuperscriptBox[\"ϕ\", \"′\"], \" \", \n",
       "\n",
       " \n",
       ">                   RowBox[{\"sin\", \"(\", \"ϕ\", \")\"}]}]}], \"+\", \n",
       "\n",
       " \n",
       ">               RowBox[{OverscriptBox[\"r\", \"^\"], \" \", \n",
       "\n",
       " \n",
       ">                 RowBox[{\"(\", RowBox[{RowBox[{SuperscriptBox[RowBox[\n",
       "\n",
       " \n",
       ">                         {\"(\", SuperscriptBox[\"ϕ\", \"′\"], \")\"}], \"2\"], \" \", \n",
       "\n",
       " \n",
       ">                       RowBox[{\"(\", \n",
       "\n",
       " \n",
       ">                         RowBox[{\"-\", RowBox[{\"cos\", \"(\", \"ϕ\", \")\"}]}], \")\"}]}], \n",
       "\n",
       " \n",
       ">                     \"-\", RowBox[{SuperscriptBox[\"ϕ\", \"′′\"], \" \", \n",
       "\n",
       " \n",
       ">                       RowBox[{\"sin\", \"(\", \"ϕ\", \")\"}]}]}], \")\"}]}], \"+\", \n",
       "\n",
       " \n",
       ">               RowBox[{SuperscriptBox[OverscriptBox[\"r\", \"^\"], \"′′\"], \" \", \n",
       "\n",
       " \n",
       ">                 RowBox[{\"cos\", \"(\", \"ϕ\", \")\"}]}], \"+\", \n",
       "\n",
       " \n",
       ">               FractionBox[RowBox[{\"cos\", \"(\", \"ϕ\", \")\"}], \n",
       "\n",
       " \n",
       ">                SuperscriptBox[OverscriptBox[\"r\", \"^\"], \"2\"]]}]}, \n",
       "\n",
       " \n",
       ">            {RowBox[{RowBox[{\"2\", \" \", SuperscriptBox[OverscriptBox[\"r\", \"^\"], \"′\"], \n",
       "\n",
       " \n",
       ">                 \" \", SuperscriptBox[\"ϕ\", \"′\"], \" \", RowBox[{\"cos\", \"(\", \"ϕ\",\\\n",
       " \n",
       ">    \")\"}]}]\\\n",
       ", \"+\", RowBox[{OverscriptBox[\"r\", \"^\"], \" \", \n",
       "\n",
       " \n",
       ">                 RowBox[{\"(\", RowBox[{RowBox[{SuperscriptBox[\"ϕ\", \"′′\"], \" \", \n",
       "\n",
       " \n",
       ">                       RowBox[{\"cos\", \"(\", \"ϕ\", \")\"}]}], \"-\", \n",
       "\n",
       " \n",
       ">                     RowBox[{SuperscriptBox[RowBox[{\"(\", \n",
       "\n",
       " \n",
       ">                          SuperscriptBox[\"ϕ\", \"′\"], \")\"}], \"2\"], \" \", \n",
       "\n",
       " \n",
       ">                       RowBox[{\"sin\", \"(\", \"ϕ\", \")\"}]}]}], \")\"}]}], \"+\", \n",
       "\n",
       " \n",
       ">               RowBox[{SuperscriptBox[OverscriptBox[\"r\", \"^\"], \"′′\"], \" \", \n",
       "\n",
       " \n",
       ">                 RowBox[{\"sin\", \"(\", \"ϕ\", \")\"}]}], \"+\", \n",
       "\n",
       " \n",
       ">               FractionBox[RowBox[{\"sin\", \"(\", \"ϕ\", \")\"}], \n",
       "\n",
       " \n",
       ">                SuperscriptBox[OverscriptBox[\"r\", \"^\"], \"2\"]]}]}}, \n",
       "\n",
       " \n",
       ">           Rule[RowSpacings, 1], Rule[ColumnAlignments, Center], \n",
       "\n",
       " \n",
       ">           Rule[ColumnAlignments, Left]], Column], \"⁠\", \")\"}], \n",
       "\n",
       " \n",
       ">       Function[BoxForm`e$, MatrixForm[BoxForm`e$]]], TraditionalForm]\n"
      ]
     },
     "execution_count": 41,
     "metadata": {
      "text/html": [],
      "text/plain": []
     },
     "output_type": "execute_result"
    }
   ],
   "source": [
    "LHSMotion = D[rh, {OverHat[t], 2}] + Simplify[rh / Norm[rh]^3];\n",
    "LHSMotion // MatrixForm // TraditionalForm"
   ]
  },
  {
   "cell_type": "code",
   "execution_count": 42,
   "metadata": {
    "vscode": {
     "languageId": "wolfram"
    }
   },
   "outputs": [
    {
     "data": {
      "text/html": [
       "<div><img alt=\"Output\" src=\"data:image/png;base64,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\"></div>"
      ],
      "text/plain": [
       "FormBox[TagBox[RowBox[{\"(\", \"⁠\", \n",
       "      TagBox[GridBox[{{RowBox[{RowBox[{\"-\", \n",
       "\n",
       " \n",
       ">                 RowBox[{RowBox[{OverscriptBox[\"r\", \"^\"]}], \" \", \n",
       "\n",
       " \n",
       ">                   SuperscriptBox[RowBox[{\"(\", SuperscriptBox[\"ϕ\", \"′\"], \")\"}], \n",
       "\n",
       " \n",
       ">                    \"2\"]}]}], \"+\", SuperscriptBox[OverscriptBox[\"r\", \"^\"], \"′′\"], \n",
       "\n",
       " \n",
       ">               \"+\", FractionBox[\"1\", SuperscriptBox[OverscriptBox[\"r\", \"^\"],\\\n",
       " \n",
       ">    \"2\"]]}]}\\\n",
       ", {RowBox[{RowBox[{OverscriptBox[\"r\", \"^\"], \" \", SuperscriptBox[\"ϕ\",\\\n",
       " \n",
       ">    \"′′\"]}], \"+\", \n",
       "            RowBox[{\"2\", \" \", SuperscriptBox[OverscriptBox[\"r\",\\\n",
       " \n",
       ">    \"^\"], \"′\"], \" \", \n",
       "              SuperscriptBox[\"ϕ\", \"′\"]}]}]}}, Rule[RowSpacings,\\\n",
       " \n",
       ">    1], \n",
       "        Rule[ColumnAlignments, Center], Rule[ColumnAlignments, Left]],\\\n",
       " \n",
       ">    Column], \"⁠\", \n",
       "      \")\"}], Function[BoxForm`e$, MatrixForm[BoxForm`e$]]],\\\n",
       " \n",
       ">    TraditionalForm]\n"
      ]
     },
     "execution_count": 42,
     "metadata": {
      "text/html": [],
      "text/plain": []
     },
     "output_type": "execute_result"
    }
   ],
   "source": [
    "RotatedLHSMotion = Simplify[RotationMatrix[-\\[Phi][OverHat[t]]] . LHSMotion, Trig -> True] // MatrixForm // TraditionalForm"
   ]
  },
  {
   "cell_type": "markdown",
   "metadata": {},
   "source": [
    "Так как $\\hat{\\omega} \\equiv \\phi^{(1)}$, то"
   ]
  },
  {
   "cell_type": "code",
   "execution_count": 44,
   "metadata": {
    "vscode": {
     "languageId": "wolfram"
    }
   },
   "outputs": [
    {
     "data": {
      "text/html": [
       "<div><img alt=\"Output\" src=\"data:image/png;base64,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\"></div>"
      ],
      "text/plain": [
       "FormBox[TagBox[RowBox[{\"(\", \"⁠\", \n",
       "\n",
       " \n",
       ">         TagBox[GridBox[{{RowBox[{RowBox[{RowBox[{\"-\", OverscriptBox[\"r\", \"^\"]}], \n",
       "\n",
       " \n",
       ">                 \" \", SuperscriptBox[OverscriptBox[\"ω\", \"^\"], \"2\"]}], \"+\", \n",
       "\n",
       " \n",
       ">               SuperscriptBox[OverscriptBox[\"r\", \"^\"], \"′′\"], \"+\", \n",
       "\n",
       " \n",
       ">               FractionBox[\"1\", SuperscriptBox[OverscriptBox[\"r\", \"^\"], \"2\"]]}]}, \n",
       "\n",
       " \n",
       ">            {RowBox[{RowBox[{\"2\", \" \", OverscriptBox[\"ω\", \"^\"], \" \", \n",
       "\n",
       " \n",
       ">                 SuperscriptBox[OverscriptBox[\"r\", \"^\"], \"′\"]}], \"+\", \n",
       "\n",
       " \n",
       ">               RowBox[{OverscriptBox[\"r\", \"^\"], \" \", \n",
       "\n",
       " \n",
       ">                 SuperscriptBox[OverscriptBox[\"ω\", \"^\"], \"′\"]}]}]}}, \n",
       "\n",
       " \n",
       ">           Rule[RowSpacings, 1], Rule[ColumnAlignments, Center], \n",
       "\n",
       " \n",
       ">           Rule[ColumnAlignments, Left]], Column], \"⁠\", \")\"}], \n",
       "\n",
       " \n",
       ">       Function[BoxForm`e$, MatrixForm[BoxForm`e$]]], TraditionalForm]\n"
      ]
     },
     "execution_count": 44,
     "metadata": {
      "text/html": [],
      "text/plain": []
     },
     "output_type": "execute_result"
    }
   ],
   "source": [
    "OmegaReplace = Derivative[n_][\\[Phi]][OverHat[t]] :> Derivative[n-1][OverHat[\\[Omega]]][OverHat[t]];\n",
    "\n",
    "OmegaLHSMotion = RotatedLHSMotion /. OmegaReplace // TraditionalForm"
   ]
  },
  {
   "cell_type": "markdown",
   "metadata": {},
   "source": [
    "### RHS системы после поворота"
   ]
  },
  {
   "cell_type": "code",
   "execution_count": 46,
   "metadata": {
    "vscode": {
     "languageId": "wolfram"
    }
   },
   "outputs": [
    {
     "data": {
      "text/html": [
       "<div><img alt=\"Output\" src=\"data:image/png;base64,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\"></div>"
      ],
      "text/plain": [
       "FormBox[TagBox[RowBox[{\"(\", \"⁠\", \n",
       "\n",
       " \n",
       ">         TagBox[GridBox[{{RowBox[{OverscriptBox[\"r\", \"^\"], \" \", \n",
       "\n",
       " \n",
       ">               RowBox[{\"(\", RowBox[{\"-\", SubscriptBox[\"ϵ\", \"G\"]}], \")\"}], \" \", \n",
       "\n",
       " \n",
       ">               RowBox[{\"(\", RowBox[{RowBox[{RowBox[{\"sin\", \"(\", \n",
       "\n",
       " \n",
       ">                       RowBox[{\"2\", \" \", \"ϕ\"}], \")\"}], \" \", \n",
       "\n",
       " \n",
       ">                     TemplateBox[List[SubscriptBox[OverscriptBox[\"f\", \"^\"], \n",
       "\n",
       " \n",
       ">                        RowBox[List[\"x\", \",\", \"y\"]]], \"\\\"(5)\\\"\"], \"Superscript\", \n",
       "\n",
       " \n",
       ">                      Rule[SyntaxForm, SuperscriptBox]]}], \"+\", \n",
       "\n",
       " \n",
       ">                   RowBox[{RowBox[{SuperscriptBox[\"cos\", \"2\"], \"(\", \"ϕ\", \")\"}], \n",
       "\n",
       " \n",
       ">                     \" \", TemplateBox[List[SubscriptBox[OverscriptBox[\"f\", \"^\"], \n",
       "\n",
       " \n",
       ">                        RowBox[List[\"x\", \",\", \"x\"]]], \"\\\"(5)\\\"\"], \"Superscript\", \n",
       "\n",
       " \n",
       ">                      Rule[SyntaxForm, SuperscriptBox]]}], \"+\", \n",
       "\n",
       " \n",
       ">                   RowBox[{RowBox[{SuperscriptBox[\"sin\", \"2\"], \"(\", \"ϕ\", \")\"}], \n",
       "\n",
       " \n",
       ">                     \" \", TemplateBox[List[SubscriptBox[OverscriptBox[\"f\", \"^\"], \n",
       "\n",
       " \n",
       ">                        RowBox[List[\"y\", \",\", \"y\"]]], \"\\\"(5)\\\"\"], \"Superscript\", \n",
       "\n",
       " \n",
       ">                      Rule[SyntaxForm, SuperscriptBox]]}]}], \")\"}]}]}, \n",
       "\n",
       " \n",
       ">            {RowBox[{RowBox[{\"-\", FractionBox[\"1\", \"2\"]}], \" \", \n",
       "\n",
       " \n",
       ">               OverscriptBox[\"r\", \"^\"], \" \", SubscriptBox[\"ϵ\", \"G\"], \" \", \n",
       "\n",
       " \n",
       ">               RowBox[{\"(\", RowBox[{RowBox[{RowBox[{\"sin\", \"(\", \n",
       "\n",
       " \n",
       ">                       RowBox[{\"2\", \" \", \"ϕ\"}], \")\"}], \" \", \n",
       "\n",
       " \n",
       ">                     RowBox[{\"(\", RowBox[{TemplateBox[List[SubscriptBox[\n",
       "\n",
       " \n",
       ">                            OverscriptBox[\"f\", \"^\"], \n",
       "\n",
       " \n",
       ">                            RowBox[List[\"y\", \",\", \"y\"]]], \"\\\"(5)\\\"\"], \n",
       "\n",
       " \n",
       ">                          \"Superscript\", Rule[SyntaxForm, SuperscriptBox]], \"-\", \n",
       "\n",
       " \n",
       ">                         TemplateBox[List[SubscriptBox[OverscriptBox[\"f\", \"^\"], \n",
       "\n",
       " \n",
       ">                            RowBox[List[\"x\", \",\", \"x\"]]], \"\\\"(5)\\\"\"], \n",
       "\n",
       " \n",
       ">                          \"Superscript\", Rule[SyntaxForm, SuperscriptBox]]}], \")\"}]}\\\n",
       "\n",
       " \n",
       ">   ], \"+\", RowBox[{\"2\", \" \", RowBox[{\"cos\", \"(\", RowBox[{\"2\", \" \", \"ϕ\"}], \")\"}], \n",
       "\n",
       " \n",
       ">                     \" \", TemplateBox[List[SubscriptBox[OverscriptBox[\"f\", \"^\"], \n",
       "\n",
       " \n",
       ">                        RowBox[List[\"x\", \",\", \"y\"]]], \"\\\"(5)\\\"\"], \"Superscript\", \n",
       "\n",
       " \n",
       ">                      Rule[SyntaxForm, SuperscriptBox]]}]}], \")\"}]}]}}, \n",
       "\n",
       " \n",
       ">           Rule[RowSpacings, 1], Rule[ColumnAlignments, Center], \n",
       "\n",
       " \n",
       ">           Rule[ColumnAlignments, Left]], Column], \"⁠\", \")\"}], \n",
       "\n",
       " \n",
       ">       Function[BoxForm`e$, MatrixForm[BoxForm`e$]]], TraditionalForm]\n"
      ]
     },
     "execution_count": 46,
     "metadata": {
      "text/html": [],
      "text/plain": []
     },
     "output_type": "execute_result"
    }
   ],
   "source": [
    "RHSMotion = -Subscript[\\[Epsilon], G] FullSimplify[RotationMatrix[-\\[Phi][OverHat[t]]] . fh5rh, Trig -> True];\n",
    "RHSMotion // MatrixForm // TraditionalForm"
   ]
  },
  {
   "cell_type": "markdown",
   "metadata": {},
   "source": [
    "<span style=\"color:brown\">**NB:**</span> Полученные выражения <span style=\"color:green\">**совпадают**</span> с уравнениями (10) и (9) из файла Binary.pdf"
   ]
  },
  {
   "cell_type": "markdown",
   "metadata": {
    "vscode": {
     "languageId": "wolfram"
    }
   },
   "source": [
    "## Получим теперь **энергетическую** систему уравнений\n",
    "\n",
    "В задаче двух тел без учёта гравитационного излучения в системе центра масс в полярных координатах радиус-вектор $\\hat{r}_k$ задаётся как:\n",
    "$$\n",
    "\\hat{r}_k = \\hat{r} e_{1k} \\quad,\n",
    "$$\n",
    "где:\n",
    "- $\\hat{r}$ — расстояние между телами,\n",
    "- $e_{1k}$ — единичный вектор в направлении $\\hat{r}_k$.\n",
    "\n",
    "Скорость в полярных координатах выражается как:\n",
    "$$\n",
    "\\hat{r}_k^{(1)} = \\hat{r}^{(1)} e_{1k} + \\hat{r} \\phi^{(1)} e_{2k} \\quad,\n",
    "$$\n",
    "где:\n",
    "- $\\hat{r}^{(1)}$ — радиальная скорость\n",
    "- $\\hat{\\omega} \\equiv \\phi^{(1)}$ — угловая скорость\n",
    "- $e_{2k}$ — единичный вектор, перпендикулярный $e_{1k}$.\n",
    "\n",
    "### **Кинетическая энергия**\n",
    "Кинетическая энергия $T$ в полярных координатах выражается через радиальную и тангенциальную составляющие скорости:\n",
    "$$\n",
    "T = \\mu\\frac{b^2}{2 t_0^2} (\\hat{r}_k^{(1)})^2 = \\mu\\frac{b^2}{2 t_0^2} \\left( (\\hat{r}^{(1)})^2 + \\hat{r}^2 \\hat{\\omega}^2 \\right) = \\frac{G \\mu M}{b} \\frac{1}{2}\\left( (\\hat{r}^{(1)})^2 + \\hat{r}^2 \\hat{\\omega}^2 \\right)\n",
    "$$\n",
    "\n",
    "### **Потенциальная энергия**\n",
    "Потенциальная энергия $U$ зависит только от расстояния $\\hat{r}$:\n",
    "- Для гравитационного взаимодействия:\n",
    "  $$\n",
    "  U = -\\frac{G m_A m_B}{b \\hat{r}} = -\\frac{G \\mu M}{b \\hat{r}}.\n",
    "  $$\n",
    "\n",
    "### **Полная энергия**\n",
    "Полная энергия $E$ в полярных координатах:\n",
    "$$\n",
    "E = T + U = \\frac{G \\mu M}{b}\\left(\\frac{(\\hat{r}^{(1)})^2}{2} + \\frac{\\hat{r}^2 \\hat{\\omega}^2}{2} - \\frac{1}{\\hat{r}}\\right) = \\frac{G \\mu M}{b} \\hat{E}\n",
    "$$\n",
    "\n",
    "Здесь $\\hat{E}$ - безразмерная энергия:"
   ]
  },
  {
   "cell_type": "code",
   "execution_count": 48,
   "metadata": {
    "vscode": {
     "languageId": "wolfram"
    }
   },
   "outputs": [
    {
     "data": {
      "text/html": [
       "<div><img alt=\"Output\" src=\"data:image/png;base64,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\"></div>"
      ],
      "text/plain": [
       "FormBox[RowBox[{RowBox[{FractionBox[\"1\", \"2\"], \" \", \n",
       "\n",
       " \n",
       ">          SuperscriptBox[OverscriptBox[\"r\", \"^\"], \"2\"], \" \", \n",
       "\n",
       " \n",
       ">          SuperscriptBox[OverscriptBox[\"ω\", \"^\"], \"2\"]}], \"+\", \n",
       "\n",
       " \n",
       ">        RowBox[{FractionBox[\"1\", \"2\"], \" \", \n",
       "\n",
       " \n",
       ">          SuperscriptBox[RowBox[{\"(\", SuperscriptBox[OverscriptBox[\"r\", \"^\"], \"′\"], \n",
       "\n",
       " \n",
       ">             \")\"}], \"2\"]}], \"-\", FractionBox[\"1\", OverscriptBox[\"r\", \"^\"]]}], \n",
       "\n",
       " \n",
       ">      TraditionalForm]\n"
      ]
     },
     "execution_count": 48,
     "metadata": {
      "text/html": [],
      "text/plain": []
     },
     "output_type": "execute_result"
    }
   ],
   "source": [
    "Energy = (D[OverHat[r][OverHat[t]], OverHat[t]])^2/2 + (OverHat[r][OverHat[t]] OverHat[\\[Omega]][OverHat[t]])^2/2 - 1/OverHat[r][OverHat[t]];\n",
    "Energy // TraditionalForm"
   ]
  },
  {
   "cell_type": "markdown",
   "metadata": {},
   "source": [
    "### **Момента импульса**\n",
    "Момент импульса $J$ в системе центра масс:\n",
    "$$\n",
    "J = \\mu\\frac{b^2}{t_0} \\hat{r}^2 \\hat{\\omega} = \\mu(G M b)^{1/2} \\hat{r}^2 \\hat{\\omega} = \\mu(G M b)^{1/2} \\hat{J}\n",
    "$$\n",
    "\n",
    "Здесь $\\hat{J}$ - безразмерный момент импульса:"
   ]
  },
  {
   "cell_type": "code",
   "execution_count": 50,
   "metadata": {
    "vscode": {
     "languageId": "wolfram"
    }
   },
   "outputs": [
    {
     "data": {
      "text/html": [
       "<div><img alt=\"Output\" src=\"data:image/png;base64,iVBORw0KGgoAAAANSUhEUgAAACsAAAAeCAIAAAA6iHCJAAAAz3pUWHRSYXcgcHJvZmlsZSB0eXBlIGV4aWYAAHjabU/bDQMhDPtnio4QkuDAOFyPk7pBx294tBVVLRE7zgMI7fm4wq2DIwVNllEAcmjRwtVFponJkcqIA3ysWtz9ENvyq1vpW8DbP3bfsBbmn0XEU0i/wbXoGliLhKcf68yP1c81532R0IZCn6f/zVWMkRBNPSqTGYrrHFw6ITElw4U74I0RJ5PenRvMfAzWO6T2wQ5utne3AHHj7F+QfpJUZ/HIkn00ig6HPSZJfKzq+Eh4AZQUWuf/NUdTAAAACXBIWXMAABYlAAAWJQFJUiTwAAAAPHRFWHRTb2Z0d2FyZQBDcmVhdGVkIHdpdGggdGhlIFdvbGZyYW0gTGFuZ3VhZ2UgOiB3d3cud29sZnJhbS5jb21coqaFAAAAIXRFWHRDcmVhdGlvbiBUaW1lADIwMjU6MDM6MjggMTQ6MDI6NTV2xo6kAAAD4UlEQVRIS+1WWyizYRzf5pCcYg5RSAsltSSnjBsuJCXhwgXKaTndyCEtXLgk5W45lVpzKFdEGKJGSYjWLuRQuHLOnBnf7+1Zz/Ztbc/eb9+Xm++trff9P//n9//9j88j/P7+FrCeo6OjsbGxi4uLuLi4mpqa0NBQ1g4+62Dg+JmZmfHw8HBzcyOoQUFBh4eHrE081gWOdQ0GQ1hY2OTk5MfHx/r6ekpKCkgUFRXxsMBSZTBQq9Xd3d0UZHZ2FgyioqJYsDzWGQz0ej3CQPHe39+RkcTERB4WWKoiWjPQfHl5QbQtqyg+Pt7X15dKrq6uoJCTk8On0jgnbZHNCJRiW1sbpMHBwah5e7x7enoCAwPBg+XYb+uOkU1ZmJubEwqFhFdWVtbn56etjdPTU5hfWVnhZZ6JzDE4Pz9Hj0VHRx8cHDQ3N4OEQqGwMoNqkEqlo6OjvMw7gyyAu5mZmRkZGZeXlwRdqVR6enouLi5SY9ApKCjo7e3lZd4ZZAAKUFkI7OvrqyW6TqejY+fr66uqqqqzs5MqPD09tbS0MNkwkQmCED8keGtra2dnZ3d3VyaTodyWlpYGBgbEYvHQ0FBXVxfeKyoqSKGAKzRra2tbW1sddwRaF+y9vLys1GARPphbDN/9/f2FhYVED6GemJhwd3cnn01NTbZmkCOaMnuR0Gg0GKYjIyO2CmdnZxgq29vbZMnUC3d3d8TS9PR0SEhIX1+fj48PXhx0poMsLCwswIfKykp7OqmpqQkJCUaj0cxgbW0N5gMCArKzs4eHh7Hw+Pj49vbGTLatAhrKz88P5+ft7a297eXl5TAHTSiYZuLq6ipE9/f3Dw8P1dXVeEcMEG1esw/KQJTL5Wjdjo4ODA+yHS7hKEFzUTS4iveNjQ1OQmimpaWRZRyAf+A33TI+Pg4Qb29vpJUKS0pKkPjr62sqQW9Dra6uzpQFhEsk4oKRn5/vinnsRRKBU1xcbIkTExOTl5dnKZFIJFAjpy5neHl5GW1DSPENu5X+/v4+JLGxsVSOrjk+Pk5PT6cStMnJyQk+yW2DY4Dux394eDiYusIAZXRzcwMEy2vc4OAgHE1OTqbIaHi848JnOmOxHBkZCRFOBBdTgO3oAkBhfBEolCQcg2Rvb49IMN84v0Wizc1NIhHgDkLYabVa1xk0NDSQSmxvb8f9CnGur6/HkZabm6tSqcrKyrAKllNTU9SWAFEicSPzwcUH47axsdHf3x+YuGpgcj8/P8/PzyclJWGoR0RElJaWWl10uXPBldzb24uBZnm5ghqoIDa2+v+KgfNeme+Jzu/5u5r/GZCJ9LPPzzP4BQb1kOuG8iQqAAAAAElFTkSuQmCC\"></div>"
      ],
      "text/plain": [
       "FormBox[RowBox[{SuperscriptBox[OverscriptBox[\"r\", \"^\"], \"2\"], \" \", \n",
       "\n",
       " \n",
       ">        OverscriptBox[\"ω\", \"^\"]}], TraditionalForm]\n"
      ]
     },
     "execution_count": 50,
     "metadata": {
      "text/html": [],
      "text/plain": []
     },
     "output_type": "execute_result"
    }
   ],
   "source": [
    "AngularMomentum = (OverHat[r][OverHat[t]])^2 OverHat[\\[Omega]][OverHat[t]];\n",
    "AngularMomentum // TraditionalForm"
   ]
  },
  {
   "cell_type": "markdown",
   "metadata": {},
   "source": [
    "Отсюда $\\frac{1}{\\hat{r}^{(1)}}\\left(\\frac{d\\hat{E}}{d\\hat{t}} - \\hat{\\omega} \\frac{d\\hat{J}}{d\\hat{t}}\\right)$"
   ]
  },
  {
   "cell_type": "code",
   "execution_count": 51,
   "metadata": {
    "vscode": {
     "languageId": "wolfram"
    }
   },
   "outputs": [
    {
     "data": {
      "text/html": [
       "<div><img alt=\"Output\" src=\"data:image/png;base64,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\"></div>"
      ],
      "text/plain": [
       "FormBox[RowBox[{RowBox[{\"-\", RowBox[{RowBox[{OverscriptBox[\"r\", \"^\"]}], \" \", \n",
       "\n",
       " \n",
       ">            SuperscriptBox[OverscriptBox[\"ω\", \"^\"], \"2\"]}]}], \"+\", \n",
       "\n",
       " \n",
       ">        SuperscriptBox[OverscriptBox[\"r\", \"^\"], \"′′\"], \"+\", \n",
       "\n",
       " \n",
       ">        FractionBox[\"1\", SuperscriptBox[OverscriptBox[\"r\", \"^\"], \"2\"]]}],\\\n",
       " \n",
       ">    TraditionalForm]\n"
      ]
     },
     "execution_count": 51,
     "metadata": {
      "text/html": [],
      "text/plain": []
     },
     "output_type": "execute_result"
    }
   ],
   "source": [
    "Simplify[(D[Energy, OverHat[t]] - (AngularMomentum/OverHat[r][OverHat[t]]^2)(D[AngularMomentum, OverHat[t]]))/(D[OverHat[r][OverHat[t]], OverHat[t]])] // TraditionalForm"
   ]
  },
  {
   "cell_type": "markdown",
   "metadata": {},
   "source": [
    "Что совпадает с **первой** строкой повернутой LHS системы движения"
   ]
  },
  {
   "cell_type": "markdown",
   "metadata": {},
   "source": [
    "Отсюда $\\frac{1}{\\hat{r}}\\frac{d\\hat{J}}{d\\hat{t}}$"
   ]
  },
  {
   "cell_type": "code",
   "execution_count": 52,
   "metadata": {
    "vscode": {
     "languageId": "wolfram"
    }
   },
   "outputs": [
    {
     "data": {
      "text/html": [
       "<div><img alt=\"Output\" src=\"data:image/png;base64,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\"></div>"
      ],
      "text/plain": [
       "FormBox[RowBox[{RowBox[{\"2\", \" \", OverscriptBox[\"ω\", \"^\"], \" \", \n",
       "\n",
       " \n",
       ">          SuperscriptBox[OverscriptBox[\"r\", \"^\"], \"′\"]}], \"+\", \n",
       "\n",
       " \n",
       ">        RowBox[{OverscriptBox[\"r\", \"^\"], \" \", \n",
       "\n",
       " \n",
       ">          SuperscriptBox[OverscriptBox[\"ω\", \"^\"], \"′\"]}]}], TraditionalForm]\n"
      ]
     },
     "execution_count": 52,
     "metadata": {
      "text/html": [],
      "text/plain": []
     },
     "output_type": "execute_result"
    }
   ],
   "source": [
    "Simplify[D[AngularMomentum, OverHat[t]]/OverHat[r][OverHat[t]]] // TraditionalForm"
   ]
  },
  {
   "cell_type": "markdown",
   "metadata": {},
   "source": [
    "Что совпадает со **второй** строкой повернутой LHS системы движения"
   ]
  },
  {
   "cell_type": "markdown",
   "metadata": {},
   "source": [
    "Таким образом, мы можем выписать новую **энергетическую** систему уравнений\n",
    "\n",
    "$$\n",
    "\\begin{align}\n",
    "\\frac{d\\hat{E}}{d\\hat{t}} &= - \\epsilon_G \\left(\\hat{r}^{(1)} R_{xi}(-\\phi) \\hat{f}_{ij}^{(5)}\\hat{r}_j + \\hat{r}\\hat\\omega R_{yi}(-\\phi) \\hat{f}_{ij}^{(5)}\\hat{r}_j \\right)\n",
    "\\\\\n",
    "\\frac{d\\hat{J}}{d\\hat{t}} &= - \\epsilon_G \\hat{r} R_{yi}(-\\phi) \\hat{f}_{ij}^{(5)}\\hat{r}_j\n",
    "\\end{align}\n",
    "$$"
   ]
  },
  {
   "cell_type": "markdown",
   "metadata": {},
   "source": [
    "Или\n",
    "\n",
    "$$\n",
    "\\left(\\frac{d\\hat{E}}{d\\hat{t}}, \\frac{d\\hat{J}}{d\\hat{t}}\\right) = - \\epsilon_G T_{nk} R_{ki}(-\\phi) \\hat{f}_{ij}^{(5)}\\hat{r}_j\\quad,\n",
    "$$"
   ]
  },
  {
   "cell_type": "markdown",
   "metadata": {},
   "source": [
    "Здесь\n",
    "$$\n",
    "T = \n",
    "\\begin{bmatrix}\n",
    "\\hat{r}^{(1)} & \\hat{r}\\hat{\\omega} \\\\\n",
    "0 & \\hat{r}\n",
    "\\end{bmatrix}\n",
    "$$\n",
    "матрица трансформации:"
   ]
  },
  {
   "cell_type": "code",
   "execution_count": 54,
   "metadata": {
    "vscode": {
     "languageId": "wolfram"
    }
   },
   "outputs": [
    {
     "data": {
      "text/html": [
       "<div><img alt=\"Output\" src=\"data:image/png;base64,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\"></div>"
      ],
      "text/plain": [
       "FormBox[TagBox[RowBox[{\"(\", \"⁠\", \n",
       "\n",
       " \n",
       ">         GridBox[{{SuperscriptBox[OverscriptBox[\"r\", \"^\"], \"′\"], \n",
       "\n",
       " \n",
       ">            RowBox[{OverscriptBox[\"r\", \"^\"], \" \", OverscriptBox[\"ω\", \"^\"]}]}, \n",
       "\n",
       " \n",
       ">           {\"0\", OverscriptBox[\"r\", \"^\"]}}, Rule[RowSpacings, 1], \n",
       "\n",
       " \n",
       ">          Rule[ColumnSpacings, 1], Rule[RowAlignments, Baseline], \n",
       "\n",
       " \n",
       ">          Rule[ColumnAlignments, Center]], \"⁠\", \")\"}], \n",
       "\n",
       " \n",
       ">       Function[BoxForm`e$, MatrixForm[BoxForm`e$]]], TraditionalForm]\n"
      ]
     },
     "execution_count": 54,
     "metadata": {
      "text/html": [],
      "text/plain": []
     },
     "output_type": "execute_result"
    }
   ],
   "source": [
    "Transform = {{D[OverHat[r][OverHat[t]], OverHat[t]], OverHat[r][OverHat[t]] OverHat[\\[Omega]][OverHat[t]]}, {0, OverHat[r][OverHat[t]]}};\n",
    "Transform // MatrixForm // TraditionalForm"
   ]
  },
  {
   "cell_type": "markdown",
   "metadata": {},
   "source": [
    "Итак правая часть энергетической системы запишется как"
   ]
  },
  {
   "cell_type": "code",
   "execution_count": 56,
   "metadata": {
    "vscode": {
     "languageId": "wolfram"
    }
   },
   "outputs": [
    {
     "data": {
      "text/html": [
       "<div><img alt=\"Output\" src=\"data:image/png;base64,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\"></div>"
      ],
      "text/plain": [
       "FormBox[TagBox[RowBox[{\"(\", \"⁠\", \n",
       "\n",
       " \n",
       ">         TagBox[GridBox[{{RowBox[{FractionBox[\"1\", \"2\"], \" \", \n",
       "\n",
       " \n",
       ">               OverscriptBox[\"r\", \"^\"], \" \", SubscriptBox[\"ϵ\", \"G\"], \" \", \n",
       "\n",
       " \n",
       ">               RowBox[{\"(\", RowBox[{RowBox[{OverscriptBox[\"r\", \"^\"], \" \", \n",
       "\n",
       " \n",
       ">                     OverscriptBox[\"ω\", \"^\"], \" \", \n",
       "\n",
       " \n",
       ">                     RowBox[{\"(\", RowBox[{RowBox[{RowBox[{\"sin\", \"(\", \n",
       "\n",
       " \n",
       ">                             RowBox[{\"2\", \" \", \"ϕ\"}], \")\"}], \" \", \n",
       "\n",
       " \n",
       ">                           RowBox[{\"(\", \n",
       "\n",
       " \n",
       ">                             RowBox[{TemplateBox[List[SubscriptBox[\n",
       "\n",
       " \n",
       ">                            OverscriptBox[\"f\", \"^\"], \n",
       "\n",
       " \n",
       ">                            RowBox[List[\"x\", \",\", \"x\"]]], \"\\\"(5)\\\"\"], \n",
       "\n",
       " \n",
       ">                             \"Superscript\", Rule[SyntaxForm, SuperscriptBox]], \n",
       "\n",
       " \n",
       ">                             \"-\", \n",
       "\n",
       " \n",
       ">                             TemplateBox[List[SubscriptBox[OverscriptB\\\n",
       "\n",
       " \n",
       ">   ox[\"f\", \"^\"], RowBox[List[\"y\", \",\", \"y\"]]], \"\\\"(5)\\\"\"], \"Superscript\", \n",
       "\n",
       " \n",
       ">                             Rule[SyntaxForm, SuperscriptBox]]}], \")\"}]}], \"-\", \n",
       "\n",
       " \n",
       ">                         RowBox[{\"2\", \" \", \n",
       "\n",
       " \n",
       ">                           RowBox[{\"cos\", \"(\", RowBox[{\"2\", \" \", \"ϕ\"}], \")\"}], \n",
       "\n",
       " \n",
       ">                           \" \", TemplateBox[List[SubscriptBox[OverscriptB\\\n",
       "\n",
       " \n",
       ">   ox[\"f\", \"^\"], RowBox[List[\"x\", \",\", \"y\"]]], \"\\\"(5)\\\"\"], \"Superscript\", \n",
       "\n",
       " \n",
       ">                            Rule[SyntaxForm, SuperscriptBox]]}]}], \")\"}]}], \"-\", \n",
       "\n",
       " \n",
       ">                   RowBox[{\"2\", \" \", SuperscriptBox[OverscriptBox[\"r\", \"^\"], \"′\"], \n",
       "\n",
       " \n",
       ">                     \" \", RowBox[{\"(\", \n",
       "\n",
       " \n",
       ">                       RowBox[{RowBox[{RowBox[{\"sin\", \"(\", \n",
       "\n",
       " \n",
       ">                             RowBox[{\"2\", \" \", \"ϕ\"}], \")\"}], \" \", \n",
       "\n",
       " \n",
       ">                           TemplateBox[List[SubscriptBox[OverscriptBox[\"f\", \n",
       "\n",
       " \n",
       ">                             \"^\"], RowBox[List[\"x\", \",\", \"y\"]]], \"\\\"(5)\\\"\"], \n",
       "\n",
       " \n",
       ">                            \"Superscript\", Rule[SyntaxForm, SuperscriptBox]]}], \n",
       "\n",
       " \n",
       ">                         \"+\", RowBox[{RowBox[{SuperscriptBox[\"cos\", \"2\"], \"(\", \n",
       "\n",
       " \n",
       ">                             \"ϕ\", \")\"}], \" \", \n",
       "\n",
       " \n",
       ">                           TemplateBox[List[SubscriptBox[OverscriptBox[\"f\", \n",
       "\n",
       " \n",
       ">                             \"^\"], RowBox[List[\"x\", \",\", \"x\"]]], \"\\\"(5)\\\"\"], \n",
       "\n",
       " \n",
       ">                            \"Superscript\", Rule[SyntaxForm, SuperscriptBox]]}], \n",
       "\n",
       " \n",
       ">                         \"+\", RowBox[{RowBox[{SuperscriptBox[\"sin\", \"2\"], \"(\", \n",
       "\n",
       " \n",
       ">                             \"ϕ\", \")\"}], \" \", \n",
       "\n",
       " \n",
       ">                           TemplateBox[List[SubscriptBox[OverscriptBox[\"f\", \n",
       "\n",
       " \n",
       ">                             \"^\"], RowBox[List[\"y\", \",\", \"y\"]]], \"\\\"(5)\\\"\"], \n",
       "\n",
       " \n",
       ">                            \"Superscript\", Rule[SyntaxForm, SuperscriptBox]]}]}], \n",
       "\n",
       " \n",
       ">                       \")\"}]}]}], \")\"}]}]}, \n",
       "\n",
       " \n",
       ">            {RowBox[{RowBox[{\"-\", FractionBox[\"1\", \"2\"]}], \" \", \n",
       "\n",
       " \n",
       ">               SuperscriptBox[OverscriptBox[\"r\", \"^\"], \"2\"], \" \", \n",
       "\n",
       " \n",
       ">               SubscriptBox[\"ϵ\", \"G\"], \" \", \n",
       "\n",
       " \n",
       ">               RowBox[{\"(\", RowBox[{RowBox[{RowBox[{\"sin\", \"(\", \n",
       "\n",
       " \n",
       ">                       RowBox[{\"2\", \" \", \"ϕ\"}], \")\"}], \" \", \n",
       "\n",
       " \n",
       ">                     RowBox[{\"(\", RowBox[{TemplateBox[List[SubscriptBox[\n",
       "\n",
       " \n",
       ">                            OverscriptBox[\"f\", \"^\"], \n",
       "\n",
       " \n",
       ">                            RowBox[List[\"y\", \",\", \"y\"]]], \"\\\"(5)\\\"\"], \n",
       "\n",
       " \n",
       ">                          \"Superscript\", Rule[SyntaxForm, SuperscriptBox]], \"-\", \n",
       "\n",
       " \n",
       ">                         TemplateBox[List[SubscriptBox[OverscriptBox[\"f\", \"^\"], \n",
       "\n",
       " \n",
       ">                            RowBox[List[\"x\", \",\", \"x\"]]], \"\\\"(5)\\\"\"], \n",
       "\n",
       " \n",
       ">                          \"Superscript\", Rule[SyntaxForm, SuperscriptBox]]}], \")\"}]}\\\n",
       "\n",
       " \n",
       ">   ], \"+\", RowBox[{\"2\", \" \", RowBox[{\"cos\", \"(\", RowBox[{\"2\", \" \", \"ϕ\"}], \")\"}], \n",
       "\n",
       " \n",
       ">                     \" \", TemplateBox[List[SubscriptBox[OverscriptBox[\"f\", \"^\"], \n",
       "\n",
       " \n",
       ">                        RowBox[List[\"x\", \",\", \"y\"]]], \"\\\"(5)\\\"\"], \"Superscript\", \n",
       "\n",
       " \n",
       ">                      Rule[SyntaxForm, SuperscriptBox]]}]}], \")\"}]}]}}, \n",
       "\n",
       " \n",
       ">           Rule[RowSpacings, 1], Rule[ColumnAlignments, Center], \n",
       "\n",
       " \n",
       ">           Rule[ColumnAlignments, Left]], Column], \"⁠\", \")\"}], \n",
       "\n",
       " \n",
       ">       Function[BoxForm`e$, MatrixForm[BoxForm`e$]]], TraditionalForm]\n"
      ]
     },
     "execution_count": 56,
     "metadata": {
      "text/html": [],
      "text/plain": []
     },
     "output_type": "execute_result"
    }
   ],
   "source": [
    "RHSEnegry = FullSimplify[Transform . RHSMotion, Trig -> True];\n",
    "RHSEnegry // MatrixForm // TraditionalForm"
   ]
  },
  {
   "cell_type": "markdown",
   "metadata": {},
   "source": [
    "## **Другой Способ** получения уравнений движения и энергетических уравнений через лагранжев формализм в полярных координатах"
   ]
  },
  {
   "cell_type": "markdown",
   "metadata": {},
   "source": [
    "### **Лагранжиан системы**\n",
    "Лагранжиан $L$ в полярных координатах $(r, \\phi)$ выражается как:\n",
    "$$\n",
    "L = T - (U + \\mu\\Phi),\n",
    "$$\n",
    "где:\n",
    "- $T$ — кинетическая энергия,\n",
    "- $U$ — потенциальная энергия\n",
    "- $\\Phi = \\frac{1}{5}f_{ij}^{(5)}r_i r_j = \\frac{\\epsilon_G}{2}\\frac{b^2}{t_0^2}\\hat{f}_{ij}^{(5)}\\hat{r}_i \\hat{r}_j = \\frac{5}{2}\\epsilon_G\\frac{GM}{b}\\hat{\\Phi}$ - малый потенциал \"реакции излучения\""
   ]
  },
  {
   "cell_type": "markdown",
   "metadata": {},
   "source": [
    "Безразмерный малый потенциал \"реакции излучения\" $\\hat{\\Phi} = \\frac{1}{5}\\hat{f}_{ij}^{(5)}\\hat{r}_i\\hat{r}_j$\n",
    "\n",
    "В ближней зоне грав. источника будем иметь $\\mu \\Phi \\ll U$.\n",
    "Откуда получаем $\\frac{5}{2}\\epsilon_{G}\\hat{r}\\hat{\\Phi} \\ll 1$.\n",
    "\n",
    "<span style=\"color:brown\">**NB:**</span>\n",
    "Для достаточно больших $\\hat{r}$, но все еще в ближней зоне, может оказаться, что\n",
    "$\\hat{r}\\hat{\\Phi} \\ll 1$, так как $\\hat{f}_{ij}$ очень медленно меняется.\n",
    "Следовательно условие $\\epsilon_G \\ll 1$ необязательно."
   ]
  },
  {
   "cell_type": "code",
   "execution_count": 58,
   "metadata": {
    "vscode": {
     "languageId": "wolfram"
    }
   },
   "outputs": [
    {
     "data": {
      "text/html": [
       "<div><img alt=\"Output\" src=\"data:image/png;base64,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\"></div>"
      ],
      "text/plain": [
       "FormBox[RowBox[{FractionBox[\"1\", \"5\"], \" \", \n",
       "\n",
       " \n",
       ">        RowBox[{\"(\", RowBox[{RowBox[{OverscriptBox[\"r\", \"^\"], \" \", \n",
       "\n",
       " \n",
       ">              RowBox[{\"cos\", \"(\", \"ϕ\", \")\"}], \" \", \n",
       "\n",
       " \n",
       ">              RowBox[{\"(\", RowBox[{RowBox[{OverscriptBox[\"r\", \"^\"], \" \", \n",
       "\n",
       " \n",
       ">                    RowBox[{\"sin\", \"(\", \"ϕ\", \")\"}], \" \", \n",
       "\n",
       " \n",
       ">                    TemplateBox[List[SubscriptBox[OverscriptBox[\"f\", \"^\"], \n",
       "\n",
       " \n",
       ">                       RowBox[List[\"x\", \",\", \"y\"]]], \"\\\"(5)\\\"\"], \"Superscript\", \n",
       "\n",
       " \n",
       ">                     Rule[SyntaxForm, SuperscriptBox]]}], \"+\", \n",
       "\n",
       " \n",
       ">                  RowBox[{OverscriptBox[\"r\", \"^\"], \" \", \n",
       "\n",
       " \n",
       ">                    RowBox[{\"cos\", \"(\", \"ϕ\", \")\"}], \" \", \n",
       "\n",
       " \n",
       ">                    TemplateBox[List[SubscriptBox[OverscriptBox[\"f\", \"^\"], \n",
       "\n",
       " \n",
       ">                       RowBox[List[\"x\", \",\", \"x\"]]], \"\\\"(5)\\\"\"], \"Superscript\", \n",
       "\n",
       " \n",
       ">                     Rule[SyntaxForm, SuperscriptBox]]}]}], \")\"}]}], \"+\", \n",
       "\n",
       " \n",
       ">            RowBox[{OverscriptBox[\"r\", \"^\"], \" \", RowBox[{\"sin\", \"(\", \"ϕ\", \")\"}], \" \", \n",
       "\n",
       " \n",
       ">              RowBox[{\"(\", RowBox[{RowBox[{OverscriptBox[\"r\", \"^\"], \" \", \n",
       "\n",
       " \n",
       ">                    RowBox[{\"cos\", \"(\", \"ϕ\", \")\"}], \" \", \n",
       "\n",
       " \n",
       ">                    TemplateBox[List[SubscriptBox[OverscriptBox[\"f\", \"^\"], \n",
       "\n",
       " \n",
       ">                       RowBox[List[\"x\", \",\", \"y\"]]], \"\\\"(5)\\\"\"], \"Superscript\", \n",
       "\n",
       " \n",
       ">                     Rule[SyntaxForm, SuperscriptBox]]}], \"+\", \n",
       "\n",
       " \n",
       ">                  RowBox[{OverscriptBox[\"r\", \"^\"], \" \", RowBox[{\"sin\", \"(\", \"ϕ\", \")\"}],\\\n",
       " \n",
       ">    \n",
       "                 \" \", TemplateBox[List[SubscriptBox[OverscriptBox[\"f\", \"^\"], \n",
       "\n",
       " \n",
       ">                       RowBox[List[\"y\", \",\", \"y\"]]], \"\\\"(5)\\\"\"], \"Superscript\", \n",
       "\n",
       " \n",
       ">                     Rule[SyntaxForm, SuperscriptBox]]}]}], \")\"}]}]}], \")\"}]}], \n",
       "\n",
       " \n",
       ">      TraditionalForm]\n"
      ]
     },
     "execution_count": 58,
     "metadata": {
      "text/html": [],
      "text/plain": []
     },
     "output_type": "execute_result"
    }
   ],
   "source": [
    "fh5rhrh = 1/5 EinsteinSummation[{{i, j}, {i}, {j}}, {fh5, rh, rh}];\n",
    "fh5rhrh // TraditionalForm"
   ]
  },
  {
   "cell_type": "markdown",
   "metadata": {},
   "source": [
    "Безразмерный лагранжиан\n",
    "\n",
    "$$\n",
    "\\hat{L} = \\hat{T} - (\\hat{U} + \\frac{5}{2}\\epsilon_G\\hat{\\Phi}),\n",
    "$$\n",
    "или\n",
    "$$\n",
    "\\hat{L} = \\frac{1}{2} \\left((\\hat{r}^{(1)})^2 + \\hat{r}^2 \\hat{\\omega}^2 \\right) + \\frac{1}{\\hat{r}} - \\frac{\\epsilon_G}{2}\\hat{f}_{ij}^{(5)}\\hat{r}_i \\hat{r}_j.\n",
    "$$"
   ]
  },
  {
   "cell_type": "markdown",
   "metadata": {},
   "source": [
    "### **Уравнения Эйлера-Лагранжа**\n",
    "Уравнения Эйлера-Лагранжа имеют вид:\n",
    "$$\n",
    "\\frac{d}{dt} \\left( \\frac{\\partial \\hat{L}}{\\partial \\dot{q}_i} \\right) - \\frac{\\partial \\hat{L}}{\\partial q_i} = 0,\n",
    "$$\n",
    "где $q_i$ — обобщённые координаты ($\\hat{r}$ и $\\phi$)."
   ]
  },
  {
   "cell_type": "markdown",
   "metadata": {},
   "source": [
    "---\n",
    "\n",
    "#### Уравнение для координаты $\\hat{r}$:\n",
    "$$\n",
    "\\frac{d}{d\\hat{t}} \\left(\\frac{\\partial \\hat{L}}{\\partial \\hat{r}^{(1)}} \\right) - \\frac{\\partial \\hat{L}}{\\partial \\hat{r}} = 0.\n",
    "$$\n",
    "Вычислим производные:\n",
    "$$\n",
    "\\frac{\\partial \\hat{L}}{\\partial \\hat{r}^{(1)}} = \\hat{r}^{(1)}, \\quad \\frac{d}{d\\hat{t}} \\left( \\frac{\\partial \\hat{L}}{\\partial \\hat{r}^{(1)}} \\right) = \\hat{r}^{(2)},\n",
    "$$\n",
    "$$\n",
    "\\frac{\\partial \\hat{L}}{\\partial \\hat{r}} = \\hat{r} \\hat{\\omega}^2 - \\frac{1}{\\hat{r}^2} - \\frac{5}{2}\\epsilon_G\\frac{\\partial \\hat{\\Phi}}{\\partial \\hat{r}}.\n",
    "$$\n",
    "Подставляем в уравнение Эйлера-Лагранжа:\n",
    "$$\n",
    "\\hat{r}^{(2)} - \\hat{r} \\hat{\\omega}^2 + \\frac{1}{\\hat{r}^2} = - \\frac{5}{2}\\epsilon_G\\frac{\\partial \\hat{\\Phi}}{\\partial \\hat{r}}.\n",
    "$$\n",
    "\n",
    "Это **радиальное уравнение движения**.\n",
    "\n",
    "Здесь \n",
    "$$\n",
    "\\frac{\\partial \\hat{\\Phi}}{\\partial \\hat{r}} = \\frac{1}{5}\\hat{f}_{ij}^{(5)}\\left(\\frac{\\partial \\hat{r}_i}{\\partial \\hat{r}}\\hat{r}_j + \\hat{r}_i\\frac{\\partial \\hat{r}_j}{\\partial \\hat{r}}\\right)\n",
    "$$"
   ]
  },
  {
   "cell_type": "markdown",
   "metadata": {},
   "source": [
    "Правая часть радиального уравнения движения будет выглядеть как"
   ]
  },
  {
   "cell_type": "code",
   "execution_count": 60,
   "metadata": {
    "vscode": {
     "languageId": "wolfram"
    }
   },
   "outputs": [
    {
     "data": {
      "text/html": [
       "<div><img alt=\"Output\" src=\"data:image/png;base64,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\"></div>"
      ],
      "text/plain": [
       "FormBox[RowBox[{OverscriptBox[\"r\", \"^\"], \" \", \n",
       "\n",
       " \n",
       ">        RowBox[{\"(\", RowBox[{\"-\", SubscriptBox[\"ϵ\", \"G\"]}], \")\"}], \" \", \n",
       "\n",
       " \n",
       ">        RowBox[{\"(\", RowBox[{RowBox[{RowBox[{\"sin\", \"(\", RowBox[{\"2\", \" \", \"ϕ\"}], \n",
       "\n",
       " \n",
       ">                \")\"}], \" \", TemplateBox[List[SubscriptBox[OverscriptBox[\"f\", \"^\"], \n",
       "\n",
       " \n",
       ">                 RowBox[List[\"x\", \",\", \"y\"]]], \"\\\"(5)\\\"\"], \"Superscript\", \n",
       "\n",
       " \n",
       ">               Rule[SyntaxForm, SuperscriptBox]]}], \"+\", \n",
       "\n",
       " \n",
       ">            RowBox[{RowBox[{SuperscriptBox[\"cos\", \"2\"], \"(\", \"ϕ\", \")\"}], \" \", \n",
       "\n",
       " \n",
       ">              TemplateBox[List[SubscriptBox[OverscriptBox[\"f\", \"^\"], \n",
       "\n",
       " \n",
       ">                 RowBox[List[\"x\", \",\", \"x\"]]], \"\\\"(5)\\\"\"], \"Superscript\", \n",
       "\n",
       " \n",
       ">               Rule[SyntaxForm, SuperscriptBox]]}], \"+\", \n",
       "\n",
       " \n",
       ">            RowBox[{RowBox[{SuperscriptBox[\"sin\", \"2\"], \"(\", \"ϕ\", \")\"}], \" \", \n",
       "\n",
       " \n",
       ">              TemplateBox[List[SubscriptBox[OverscriptBox[\"f\", \"^\"], \n",
       "\n",
       " \n",
       ">                 RowBox[List[\"y\", \",\", \"y\"]]], \"\\\"(5)\\\"\"], \"Superscript\", \n",
       "\n",
       " \n",
       ">               Rule[SyntaxForm, SuperscriptBox]]}]}], \")\"}]}], TraditionalForm]\n"
      ]
     },
     "execution_count": 60,
     "metadata": {
      "text/html": [],
      "text/plain": []
     },
     "output_type": "execute_result"
    }
   ],
   "source": [
    "RHSMotionRadialLagrange = - 1/2 Subscript[\\[Epsilon], G] FullSimplify[EinsteinSummation[{{i, j}, {i}, {j}}, {fh5, D[rh, OverHat[r][OverHat[t]]], rh}] + EinsteinSummation[{{i, j}, {i}, {j}}, {fh5, rh, D[rh, OverHat[r][OverHat[t]]]}]];\n",
    "RHSMotionRadialLagrange // TraditionalForm"
   ]
  },
  {
   "cell_type": "markdown",
   "metadata": {},
   "source": [
    "<span style=\"color:brown\">**NB:**</span> Выражение <span style=\"color:green\">**совпадает**</span> с раннее полученным уравнением и с уравнением (10) из файла Binary.pdf"
   ]
  },
  {
   "cell_type": "code",
   "execution_count": 61,
   "metadata": {
    "vscode": {
     "languageId": "wolfram"
    }
   },
   "outputs": [
    {
     "data": {
      "text/html": [
       "<div><pre style=\"&#102;&#111;&#110;&#116;&#45;&#102;&#97;&#109;&#105;&#108;&#121;&#58;&#32;&#34;&#67;&#111;&#117;&#114;&#105;&#101;&#114;&#32;&#78;&#101;&#119;&#34;&#44;&#67;&#111;&#117;&#114;&#105;&#101;&#114;&#44;&#109;&#111;&#110;&#111;&#115;&#112;&#97;&#99;&#101;&#59;\">&#48;</pre></div>"
      ],
      "text/plain": [
       "0"
      ]
     },
     "execution_count": 61,
     "metadata": {
      "text/html": [],
      "text/plain": []
     },
     "output_type": "execute_result"
    }
   ],
   "source": [
    "RHSMotion[[1]] - RHSMotionRadialLagrange"
   ]
  },
  {
   "cell_type": "markdown",
   "metadata": {},
   "source": [
    "---\n",
    "\n",
    "#### Уравнение для координаты $\\phi$:\n",
    "$$\n",
    "\\frac{d}{d\\hat{t}} \\left(\\frac{\\partial \\hat{L}}{\\partial \\hat{\\omega}} \\right) - \\frac{\\partial \\hat{L}}{\\partial \\phi} = 0.\n",
    "$$\n",
    "Вычислим производные:\n",
    "$$\n",
    "\\frac{\\partial \\hat{L}}{\\partial \\hat{\\omega}} = \\hat{r}^2 \\hat{\\omega}, \\quad \\frac{d}{d\\hat{t}} \\left( \\frac{\\partial \\hat{L}}{\\partial \\hat{\\omega}} \\right) = \\frac{d}{d\\hat{t}} \\left( \\hat{r}^2 \\hat{\\omega} \\right),\n",
    "$$\n",
    "$$\n",
    "\\frac{\\partial \\hat{L}}{\\partial \\phi} = - \\frac{5}{2}\\epsilon_G\\frac{\\partial \\hat{\\Phi}}{\\partial \\phi}.\n",
    "$$\n",
    "Подставляем в уравнение Эйлера-Лагранжа:\n",
    "$$\n",
    "\\frac{1}{\\hat{r}}\\frac{d}{d\\hat{t}} \\left( \\hat{r}^2 \\hat{\\omega} \\right) = \\frac{1}{\\hat{r}}\\frac{d\\hat{J}}{d\\hat{t}} = - \\frac{5}{2}\\frac{\\epsilon_G}{\\hat{r}}\\frac{\\partial \\hat{\\Phi}}{\\partial \\phi}.\n",
    "$$\n",
    "\n",
    "Здесь \n",
    "$$\n",
    "\\frac{\\partial \\hat{\\Phi}}{\\partial \\phi} = \\frac{1}{5}\\hat{f}_{ij}^{(5)}\\left(\\frac{\\partial \\hat{r}_i}{\\partial \\phi}\\hat{r}_j + \\hat{r}_i\\frac{\\partial \\hat{r}_j}{\\partial \\phi}\\right)\n",
    "$$"
   ]
  },
  {
   "cell_type": "markdown",
   "metadata": {},
   "source": [
    "Правая часть уравнения движения для $\\phi$ будет выглядеть как"
   ]
  },
  {
   "cell_type": "code",
   "execution_count": 63,
   "metadata": {
    "vscode": {
     "languageId": "wolfram"
    }
   },
   "outputs": [
    {
     "data": {
      "text/html": [
       "<div><img alt=\"Output\" src=\"data:image/png;base64,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\"></div>"
      ],
      "text/plain": [
       "FormBox[RowBox[{RowBox[{\"-\", FractionBox[\"1\", \"2\"]}], \" \", OverscriptBox[\"r\", \"^\"], \n",
       "\n",
       " \n",
       ">        \" \", SubscriptBox[\"ϵ\", \"G\"], \" \", \n",
       "\n",
       " \n",
       ">        RowBox[{\"(\", RowBox[{RowBox[{RowBox[{\"sin\", \"(\", RowBox[{\"2\", \" \", \"ϕ\"}], \n",
       "\n",
       " \n",
       ">                \")\"}], \" \", RowBox[{\"(\", \n",
       "\n",
       " \n",
       ">                RowBox[{TemplateBox[List[SubscriptBox[OverscriptBox[\"f\", \"^\"], \n",
       "\n",
       " \n",
       ">                     RowBox[List[\"y\", \",\", \"y\"]]], \"\\\"(5)\\\"\"], \"Superscript\", \n",
       "\n",
       " \n",
       ">                   Rule[SyntaxForm, SuperscriptBox]], \"-\", \n",
       "\n",
       " \n",
       ">                  TemplateBox[List[SubscriptBox[OverscriptBox[\"f\", \"^\"], \n",
       "\n",
       " \n",
       ">                     RowBox[List[\"x\", \",\", \"x\"]]], \"\\\"(5)\\\"\"], \"Superscript\", \n",
       "\n",
       " \n",
       ">                   Rule[SyntaxForm, SuperscriptBox]]}], \")\"}]}], \"+\", \n",
       "\n",
       " \n",
       ">            RowBox[{\"2\", \" \", RowBox[{\"cos\", \"(\", RowBox[{\"2\", \" \", \"ϕ\"}], \")\"}], \" \", \n",
       "\n",
       " \n",
       ">              TemplateBox[List[SubscriptBox[OverscriptBox[\"f\", \"^\"], \n",
       "\n",
       " \n",
       ">                 RowBox[List[\"x\", \",\", \"y\"]]], \"\\\"(5)\\\"\"], \"Superscript\", \n",
       "\n",
       " \n",
       ">               Rule[SyntaxForm, SuperscriptBox]]}]}], \")\"}]}], TraditionalForm]\n"
      ]
     },
     "execution_count": 63,
     "metadata": {
      "text/html": [],
      "text/plain": []
     },
     "output_type": "execute_result"
    }
   ],
   "source": [
    "RHSMotionPhiLagrange = - 1/2 Subscript[\\[Epsilon], G] FullSimplify[EinsteinSummation[{{i, j}, {i}, {j}}, {fh5, D[rh, \\[Phi][OverHat[t]]], rh}] + EinsteinSummation[{{i, j}, {i}, {j}}, {fh5, rh, D[rh, \\[Phi][OverHat[t]]]}]]/OverHat[r][OverHat[t]];\n",
    "RHSMotionPhiLagrange // TraditionalForm"
   ]
  },
  {
   "cell_type": "markdown",
   "metadata": {},
   "source": [
    "<span style=\"color:brown\">**NB:**</span> Выражение <span style=\"color:green\">**совпадает**</span> с раннее полученным уравнением и с уравнением (9) из файла Binary.pdf"
   ]
  },
  {
   "cell_type": "code",
   "execution_count": 64,
   "metadata": {
    "vscode": {
     "languageId": "wolfram"
    }
   },
   "outputs": [
    {
     "data": {
      "text/html": [
       "<div><pre style=\"&#102;&#111;&#110;&#116;&#45;&#102;&#97;&#109;&#105;&#108;&#121;&#58;&#32;&#34;&#67;&#111;&#117;&#114;&#105;&#101;&#114;&#32;&#78;&#101;&#119;&#34;&#44;&#67;&#111;&#117;&#114;&#105;&#101;&#114;&#44;&#109;&#111;&#110;&#111;&#115;&#112;&#97;&#99;&#101;&#59;\">&#48;</pre></div>"
      ],
      "text/plain": [
       "0"
      ]
     },
     "execution_count": 64,
     "metadata": {
      "text/html": [],
      "text/plain": []
     },
     "output_type": "execute_result"
    }
   ],
   "source": [
    "RHSMotion[[2]] - RHSMotionPhiLagrange"
   ]
  },
  {
   "cell_type": "markdown",
   "metadata": {},
   "source": [
    "## Получим **энергетическую** систему уравнений в подходе Лагранжа"
   ]
  },
  {
   "cell_type": "markdown",
   "metadata": {},
   "source": [
    "Заметим, что энергия системы:\n",
    "$$\n",
    "\\hat{E} = \\frac{(\\hat{r}^{(1)})^2}{2} + \\frac{\\hat{r}^2 \\hat{\\omega}^2}{2} - \\frac{1}{\\hat{r}}\n",
    "$$\n",
    "$$\n",
    "\\frac{1}{\\hat{r}^{(1)}}\\left(\\frac{d\\hat{E}}{d\\hat{t}} - \\hat{\\omega} \\frac{d\\hat{J}}{d\\hat{t}}\\right) = \\hat{r}^{(2)} - \\hat{r} \\hat{\\omega}^2 + \\frac{1}{\\hat{r}^2}\n",
    "$$\n",
    "\n",
    "А также уравнение для изменения момента импульса системы есть\n",
    "$$\n",
    "\\frac{d\\hat{J}}{d\\hat{t}} = - \\frac{5}{2}\\epsilon_G\\frac{\\partial \\hat{\\Phi}}{\\partial \\phi}.\n",
    "$$\n",
    "\n",
    "Итоговая энергетическая система, выведенная по-новому будет записываться как:\n",
    "\n",
    "$$\n",
    "\\begin{align}\n",
    "\\frac{d\\hat{E}}{d\\hat{t}} &= - \\frac{5}{2}\\epsilon_G\\left(\\hat{r}^{(1)}\\frac{\\partial \\hat{\\Phi}}{\\partial \\hat{r}} + \\hat{\\omega} \\frac{\\partial \\hat{\\Phi}}{\\partial \\phi}\\right)\n",
    "  = - \\frac{\\epsilon_G}{2}\\hat{f}_{ij}^{(5)}\\left(\\frac{d\\hat{r}_i}{d\\hat{t}}\\hat{r}_j + \\hat{r}_i\\frac{d\\hat{r}_j}{d\\hat{t}}\\right)\n",
    "  = - \\frac{\\epsilon_G}{2}\\hat{f}_{ij}^{(5)}\\frac{d(\\hat{r}_i \\hat{r}_j)}{d\\hat{t}}\n",
    "\\\\\n",
    "\\frac{d\\hat{J}}{d\\hat{t}} &= - \\frac{5}{2}\\epsilon_G\\frac{\\partial \\hat{\\Phi}}{\\partial \\phi}\n",
    "  = - \\frac{\\epsilon_G}{2}\\hat{f}_{ij}^{(5)}\\left(\\frac{\\partial \\hat{r}_i}{\\partial \\phi}\\hat{r}_j + \\hat{r}_i\\frac{\\partial \\hat{r}_j}{\\partial \\phi}\\right)\n",
    "  = - \\frac{\\epsilon_G}{2}\\hat{f}_{ij}^{(5)}\\frac{d(\\hat{r}_i \\hat{r}_j)}{d\\phi}\n",
    "\\end{align}\n",
    "$$"
   ]
  },
  {
   "cell_type": "code",
   "execution_count": 66,
   "metadata": {
    "vscode": {
     "languageId": "wolfram"
    }
   },
   "outputs": [
    {
     "data": {
      "text/html": [
       "<div><img alt=\"Output\" src=\"data:image/png;base64,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\"></div>"
      ],
      "text/plain": [
       "FormBox[TagBox[RowBox[{\"(\", \"⁠\", \n",
       "\n",
       " \n",
       ">         TagBox[GridBox[{{RowBox[{OverscriptBox[\"r\", \"^\"], \" \", \n",
       "\n",
       " \n",
       ">               RowBox[{\"(\", RowBox[{\"-\", SubscriptBox[\"ϵ\", \"G\"]}], \")\"}], \" \", \n",
       "\n",
       " \n",
       ">               RowBox[{\"(\", RowBox[{RowBox[{OverscriptBox[\"r\", \"^\"], \" \", \n",
       "\n",
       " \n",
       ">                     OverscriptBox[\"ω\", \"^\"], \" \", \n",
       "\n",
       " \n",
       ">                     RowBox[{\"(\", RowBox[{RowBox[{RowBox[{\"cos\", \"(\", \n",
       "\n",
       " \n",
       ">                             RowBox[{\"2\", \" \", \"ϕ\"}], \")\"}], \" \", \n",
       "\n",
       " \n",
       ">                           TemplateBox[List[SubscriptBox[OverscriptBox[\"f\", \n",
       "\n",
       " \n",
       ">                             \"^\"], RowBox[List[\"x\", \",\", \"y\"]]], \"\\\"(5)\\\"\"], \n",
       "\n",
       " \n",
       ">                            \"Superscript\", Rule[SyntaxForm, SuperscriptBox]]}], \n",
       "\n",
       " \n",
       ">                         \"+\", RowBox[{RowBox[{\"sin\", \"(\", \"ϕ\", \")\"}], \" \", \n",
       "\n",
       " \n",
       ">                           RowBox[{\"cos\", \"(\", \"ϕ\", \")\"}], \" \", \n",
       "\n",
       " \n",
       ">                           RowBox[{\"(\", \n",
       "\n",
       " \n",
       ">                             RowBox[{TemplateBox[List[SubscriptBox[\n",
       "\n",
       " \n",
       ">                             OverscriptBox[\"f\", \"^\"], \n",
       "\n",
       " \n",
       ">                             RowBox[List[\"y\", \",\", \"y\"]]], \"\\\"(5)\\\"\"], \n",
       "\n",
       " \n",
       ">                             \"Superscript\", Rule[SyntaxForm, SuperscriptBox]], \n",
       "\n",
       " \n",
       ">                              \"-\", \n",
       "\n",
       " \n",
       ">                              TemplateBox[List[SubscriptBox[OverscriptB\\\n",
       "\n",
       " \n",
       ">   ox[\"f\", \"^\"], RowBox[List[\"x\", \",\", \"x\"]]], \"\\\"(5)\\\"\"], \"Superscript\", \n",
       "\n",
       " \n",
       ">                              Rule[SyntaxForm, SuperscriptBox]]}], \")\"}]}]}], \")\"}]\\\n",
       "\n",
       " \n",
       ">   }], \"+\", RowBox[{SuperscriptBox[OverscriptBox[\"r\", \"^\"], \"′\"], \" \", \n",
       "\n",
       " \n",
       ">                     RowBox[{\"(\", RowBox[{RowBox[{RowBox[{\"sin\", \"(\", \n",
       "\n",
       " \n",
       ">                             RowBox[{\"2\", \" \", \"ϕ\"}], \")\"}], \" \", \n",
       "\n",
       " \n",
       ">                           TemplateBox[List[SubscriptBox[OverscriptBox[\"f\", \n",
       "\n",
       " \n",
       ">                             \"^\"], RowBox[List[\"x\", \",\", \"y\"]]], \"\\\"(5)\\\"\"], \n",
       "\n",
       " \n",
       ">                            \"Superscript\", Rule[SyntaxForm, SuperscriptBox]]}], \n",
       "\n",
       " \n",
       ">                         \"+\", RowBox[{RowBox[{SuperscriptBox[\"cos\", \"2\"], \"(\", \n",
       "\n",
       " \n",
       ">                             \"ϕ\", \")\"}], \" \", \n",
       "\n",
       " \n",
       ">                           TemplateBox[List[SubscriptBox[OverscriptBox[\"f\", \n",
       "\n",
       " \n",
       ">                             \"^\"], RowBox[List[\"x\", \",\", \"x\"]]], \"\\\"(5)\\\"\"], \n",
       "\n",
       " \n",
       ">                            \"Superscript\", Rule[SyntaxForm, SuperscriptBox]]}], \n",
       "\n",
       " \n",
       ">                         \"+\", RowBox[{RowBox[{SuperscriptBox[\"sin\", \"2\"], \"(\", \n",
       "\n",
       " \n",
       ">                             \"ϕ\", \")\"}], \" \", \n",
       "\n",
       " \n",
       ">                           TemplateBox[List[SubscriptBox[OverscriptBox[\"f\", \n",
       "\n",
       " \n",
       ">                             \"^\"], RowBox[List[\"y\", \",\", \"y\"]]], \"\\\"(5)\\\"\"], \n",
       "\n",
       " \n",
       ">                            \"Superscript\", Rule[SyntaxForm, SuperscriptBox]]}]}], \n",
       "\n",
       " \n",
       ">                       \")\"}]}]}], \")\"}]}]}, \n",
       "\n",
       " \n",
       ">            {RowBox[{RowBox[{\"-\", FractionBox[\"1\", \"2\"]}], \" \", \n",
       "\n",
       " \n",
       ">               SuperscriptBox[OverscriptBox[\"r\", \"^\"], \"2\"], \" \", \n",
       "\n",
       " \n",
       ">               SubscriptBox[\"ϵ\", \"G\"], \" \", \n",
       "\n",
       " \n",
       ">               RowBox[{\"(\", RowBox[{RowBox[{RowBox[{\"sin\", \"(\", \n",
       "\n",
       " \n",
       ">                       RowBox[{\"2\", \" \", \"ϕ\"}], \")\"}], \" \", \n",
       "\n",
       " \n",
       ">                     RowBox[{\"(\", RowBox[{TemplateBox[List[SubscriptBox[\n",
       "\n",
       " \n",
       ">                            OverscriptBox[\"f\", \"^\"], \n",
       "\n",
       " \n",
       ">                            RowBox[List[\"y\", \",\", \"y\"]]], \"\\\"(5)\\\"\"], \n",
       "\n",
       " \n",
       ">                          \"Superscript\", Rule[SyntaxForm, SuperscriptBox]], \"-\", \n",
       "\n",
       " \n",
       ">                         TemplateBox[List[SubscriptBox[OverscriptBox[\"f\", \"^\"], \n",
       "\n",
       " \n",
       ">                            RowBox[List[\"x\", \",\", \"x\"]]], \"\\\"(5)\\\"\"], \n",
       "\n",
       " \n",
       ">                          \"Superscript\", Rule[SyntaxForm, SuperscriptBox]]}], \")\"}]}\\\n",
       "\n",
       " \n",
       ">   ], \"+\", RowBox[{\"2\", \" \", RowBox[{\"cos\", \"(\", RowBox[{\"2\", \" \", \"ϕ\"}], \")\"}], \n",
       "\n",
       " \n",
       ">                     \" \", TemplateBox[List[SubscriptBox[OverscriptBox[\"f\", \"^\"], \n",
       "\n",
       " \n",
       ">                        RowBox[List[\"x\", \",\", \"y\"]]], \"\\\"(5)\\\"\"], \"Superscript\", \n",
       "\n",
       " \n",
       ">                      Rule[SyntaxForm, SuperscriptBox]]}]}], \")\"}]}]}}, \n",
       "\n",
       " \n",
       ">           Rule[RowSpacings, 1], Rule[ColumnAlignments, Center], \n",
       "\n",
       " \n",
       ">           Rule[ColumnAlignments, Left]], Column], \"⁠\", \")\"}], \n",
       "\n",
       " \n",
       ">       Function[BoxForm`e$, MatrixForm[BoxForm`e$]]], TraditionalForm]\n"
      ]
     },
     "execution_count": 66,
     "metadata": {
      "text/html": [],
      "text/plain": []
     },
     "output_type": "execute_result"
    }
   ],
   "source": [
    "RHSEnegryLagrange = - 5/2 Subscript[\\[Epsilon],G] FullSimplify[{\n",
    "  D[fh5rhrh, OverHat[t]] /. OmegaReplace,\n",
    "  D[fh5rhrh, \\[Phi][OverHat[t]]]\n",
    "}, Trig -> True];\n",
    "\n",
    "RHSEnegryLagrange // MatrixForm // TraditionalForm"
   ]
  },
  {
   "cell_type": "markdown",
   "metadata": {},
   "source": [
    "<span style=\"color:brown\">**NB:**</span> Выражения полностью <span style=\"color:green\">**совпадают**</span> с предыдущим ньютоновым подходом!"
   ]
  },
  {
   "cell_type": "code",
   "execution_count": 67,
   "metadata": {
    "vscode": {
     "languageId": "wolfram"
    }
   },
   "outputs": [
    {
     "data": {
      "text/html": [
       "<div><img alt=\"Output\" src=\"data:image/png;base64,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\"></div>"
      ],
      "text/plain": [
       "0\n",
       "\n",
       "0"
      ]
     },
     "execution_count": 67,
     "metadata": {
      "text/html": [],
      "text/plain": []
     },
     "output_type": "execute_result"
    }
   ],
   "source": [
    "FullSimplify[RHSEnegryLagrange - RHSEnegry] // MatrixForm"
   ]
  },
  {
   "cell_type": "markdown",
   "metadata": {},
   "source": [
    "В **размерной** же записи наши уравнения превращаются в\n",
    "$$\n",
    "\\begin{align}\n",
    "\\frac{dE}{dt} &=\n",
    "  - \\frac{1}{5}f_{ij}^{(5)} \\mu \\frac{d(r_i r_j)}{dt}\n",
    "  = - \\frac{1}{5}\\frac{c^5}{G}f_{ij}^{(5)} \\frac{d}{dt}\\left(f_{ij} + \\frac{1}{3} \\delta_{ij}r^2\\right)\n",
    "  = - \\frac{1}{5}\\frac{c^5}{G}f_{ij}^{(5)} \\frac{df_{ij}}{dt}\n",
    "\\\\\n",
    "\\frac{dJ}{dt} &=\n",
    "  - \\frac{1}{5}f_{ij}^{(5)} \\mu \\frac{d(r_i r_j)}{d\\phi}\n",
    "  = - \\frac{1}{5}\\frac{c^5}{G}f_{ij}^{(5)} \\frac{d}{d\\phi}\\left(f_{ij} + \\frac{1}{3} \\delta_{ij}r^2\\right)\n",
    "  = - \\frac{1}{5}\\frac{c^5}{G}f_{ij}^{(5)} \\frac{df_{ij}}{d\\phi}\n",
    "  = - \\frac{2}{5}\\frac{c^5}{G}\\epsilon_{ij}f_{ik}^{(5)} f_{kj}\n",
    "\\end{align}\n",
    "$$\n",
    "\n",
    "Здесь учтено, что квадрупольный момент бесследовый\n",
    "$$\n",
    "\\begin{align}\n",
    "\\text{Tr}(f_{ij}) &= \\delta_{ij}f_{ij} = 0\n",
    "\\\\\n",
    "\\text{Tr}(f^{(5)}_{ij}) &= \\delta_{ij}f^{(5)}_{ij} = 0\n",
    "\\\\\n",
    "\\end{align}\n",
    "$$"
   ]
  },
  {
   "cell_type": "code",
   "execution_count": 70,
   "metadata": {
    "vscode": {
     "languageId": "wolfram"
    }
   },
   "outputs": [
    {
     "data": {
      "text/html": [
       "<div><img alt=\"Output\" src=\"data:image/png;base64,iVBORw0KGgoAAAANSUhEUgAAAgIAAAA8CAIAAACbyEVvAAAAznpUWHRSYXcgcHJvZmlsZSB0eXBlIGV4aWYAAHjabU/RbQUhDPtnio4QkuDAONw9ntQNOn7NQVVR1YjEcRIj0vj6fKePCc2SvERFA4Tw5k07SZWFlbO0Jy4oz1IPPdm9SO6Uym8DY+vXqQe2X/1jtP3F5gvk5nthG5kuPfdVX3tee62nkcmB9kPy/7VbKApyOKOrRKCR10TKhKJSAm/cAAczXip+Mw9EcA0xJ6zPxQkdcU6PBKPwml+weYt1ZmNUq1zN5o+ijMWg1+4+H0nfTXBauI8ZI+sAAAAJcEhZcwAAFiUAABYlAUlSJPAAAAA8dEVYdFNvZnR3YXJlAENyZWF0ZWQgd2l0aCB0aGUgV29sZnJhbSBMYW5ndWFnZSA6IHd3dy53b2xmcmFtLmNvbVyipoUAAAAhdEVYdENyZWF0aW9uIFRpbWUAMjAyNTowMzoyOCAxNDowMjo1Nu/P3x4AABqTSURBVHhe7Z11lN62ssBvyszMnDK3KTMzMzOnzNyU0hRS5rwyM3PaW+b2lpmZmft+fXOejq5ky7Itf5+8kf/Ys+uVRtJ4RjMaUq+///77X+Gezz//vH///ossssjKK68cDmqClDCQMJAwkDDQFAaGCgX4q6++2m+//aaccsoBAwZ8+OGHocAmOAkDCQMJAwkDjWIgjBgYOHBgnz59Bg0a9OOPPzY63QQ8YSBhIGEgYSAsBsKIgeWWW+6VV1657bbbwk4uQUsYSBhIGEgYaBoDYcRA7969hx566HHGGafp6Sb4CQMJAwkDCQNhMRBGDISdU4KWMJAwkDCQMNAxDCQx0DFUp4ESBhIGEgZixEASAzF+lTSnhIGEgYSBjmEgiYGOoToNlDCQMJAwECMGkhiI8aukOSUMJAwkDHQMA0kMdAzVaaCEgYSBhIEYMdArYDGJ999/f7LJJmOVZ5xxxnbbbRfDcp944omPP/54lVVWiWEyXZ9DVNj4888/zzzzzL/++kvQ8sgjj5x00knjjTde17HUgQn4r/3QQw895JBDevXq1YFZpSFaioEA5IQYCPW89957gkfEQCiYdeB8+eWXFLd4/vnn6wDpMX1jw8ZVV12lc93SSy/dY1BduBD/tW+44YbHHHNMIcDUYEjGQH1y+ldA9EUlBlAzl19+ebgo4ALbC8oHG7/++utPP/1Ey+aWefvtt6PbCvx555335JNP/vf/Px999BEv33777a222oqSJM3NIRMyq2btv/32W3PjUmhrnXXW+eOPP/LWzvstt9zypZde0ufw5ptvjjjiiIMHD25uYglycAxEy0p55NRjxcDRRx897LDDsuzg37iNAAuxgQgfe+yxUc/33XffhhZIrZGJJpoIGx3w77///lFHHfXBBx9k8zWGYwKcDGS77Niz1157sXbS4D/44IMmBpWj2JVXXule+6OPPopZ7PXXX9fnsP32208wwQTU7m1iYglmcAxEzkqZ5BRSDLzwwgtyzD/11FMDIpcd4cILL9xmm2122WWXG264wQcy6uQYY4yx7bbb+jTu8W0KsfH7778vuOCC8u0wQ6OzB8fJG2+8wSZ73333CWRVh3yEEUagMO0PP/ygRuRzU6icfTn4HPIA3nLLLcr4vvDCCweXQJhul1lmmZ133rlw7TQ48cQTZ555Zh0hnJPA0uGHH94xhKSBKmMgflbKJKeQYgCVU7aSFVZYoTIejY4cr9gUgEnNIgGOMCgEfvbZZ9MSZbOw5ZDQoBAb++yzD+ji5zPPPDPppJOOO+64WDDCYmbrrbdecsklFUwUhfXWW2/yySeXbzrttNN+//336r933XUXLzuj/xLXwDFoiimmwIe02267Me7+++8fdu133nknYKnELmDda6fBmGOOaXjXVlxxxYknnpgtJuzEErTgGGgFK9nkFEYMnH766bPOOqvu8ZtlllmCKOMoQZQvRYJxrD722GNliEKvL5OBt4OrdcGJpjMA3djAVjP88MOff/75MhmMNvPMM8+iiy4aFnszzTTTrrvuaq/30ksvHW200fimSlmWOfDmpptuaho/rHGhhRZaYIEFPvvsMxmL/Xe44Ya74447Ag5NtA+buOfaacaJZOONN9bbMysQIjal9ESLgbawkk1OYcRAcx+GLUmpUYwy11xzwQ9qz8oc94EHHqBNcg4Lcgqx8dprrxluSYxI99xzT0Ax8PXXX2N1OffcczO/FyXKhxpqKEzn+n+xIGEsao6uBDL6NSv95Zdf9IGwbYKTgENjEVp22WX91471dpppptHbv/vuu5A0x+KAs0qggmOgLaxkk1NEYsB2r2NUffLJJ/WvRZwJ/HD99dc7PmHfvn1pg5pZ9jMzXNku8bevjI2AS2Or5Ys89NBDeTDRx5ETutEDjZhTYMA5dBEUB9PMk5BMyV47AVSg67vvvtPnzPG6Y4ayLuIqDe3GQChWMsgplixiTLSEkYw00khYZpVxCSVR1H/1YB0ifm7++efXXxq/kyTFG+XzdLTU/8V2Ocooo/Tr18+zvWczJkzoC/rgfPPNt/nmm1999dWeHUM1K4uNxx57jHmSBohd6JprrgkyDYxOwFGZYjZMHBJTTz31MMMMo/6FSNb/DDKNQiBNrJ1BsTKVWrs0Js5Nn7DQM1pR4SoqN2ADgj432mgjjuCYj+HETz/9tDK0jnXsOovlrbQJcgrFSiY5xSB+Pd3r2BZQrA466CDHnDFlIEt4ysa/i4UaV2FNhDz88MMKwuWXX85MDCpZY401atpb8J16Wi3KYoM4TiaMPU2CvkYeeWTdc1sZM6+++irQ8qK8fv75Z4JHd999dx3+DDPMsMUWW1QesULHhtbOTPDNsLdmTilz7QcffDAaidGeCCJw2Fy8EJZATmAGrY411lh33313BWQ22iUqFstbaUPkFIqVDHKKwijk6V7fcccdUavd8RJ4jyFljjxlCREGQwXG1122o2oPS1NCg6HF1owaTpzfhBNOyDmjf//+ekELQqpKjbLBBhsA54ILLpBexPOMP/746k8HqFLYQKtiO2agb7/99osvvhh99NFR0llUqalmNkYaYetX2bDXXnvt3HPPjelDZAyYx4Gsp4wxKKgjwKn+0J4Qmls7EyDWmUOtzKRw7bRZe+21l1pqKWPmOMwhbKjIc0VlmzEo8InxO+qoozi/QgYiEkhZ0J1zZcGGbR8hi2UusDlyCsVKBjl1Xwx4utfZ9YinZodyE9Z5550H7SItwtJfITSMGJyjkQEq5oQ/SZTlWK36ytx4SBEqBKgasCNLVDuOHfUSXQNV/bTTTguIDSJxGQVVVGCS2IW3xn+e7pYIyCWWWELaUD5ILB7kdiAPCNM0zhwEjCIGPvnkk1CjF8JpdO3Yc/mCEv9auHYIiSPvOeecY8xZjHvszoVrqdBAgA8aNEj1ZeufbbbZhFzr6EYVJpPXJU4Wy5xto+QUhJUMcuq+GPBxr1NxAIVR6g24H/GIbrLJJkUNA/8fUxVbm8r/JLwVKx5quzHM4osvLqzlv8ddd911tMewYIBCBjAimHGsxB8bbPrIFQYyfPKh0ARCJplkEuXbR5y//PLLumBTAzETbNOUmQs1dCGcptfOBAgAVTTpWDstDzvsMIwzdrQCzjOhnCbSKfbYY4/VV1/dQBSqhozIvlOIww40iJPF7IU3TU5BWMkgp+6LgUICevbZZ9Gy33nnHdWSKKC87Q8jLISLgpkJFt383nvvRSND/aSAjG2jf/HFF42O4Esp+G+99RZGcxsyVm/UPd26jfnSMHZLrwMPPLCsGMjLacI4NuOMM3Jmd6R6ubGhL4QNmonhIGkuXIpKCfiB3TkfeHTWXXddIibLunYKqcjRoANrZ+sne47EF/c8yQxAB4fkMjcXoRzia+ssNrMvbhgjaJhmnAWJ0fAUAxhCUXpwijosSPwLXtYTpI3JONgzWhaz8dkBcqrPSsgqnZy6Lwaw96F3nHDCCXgmMRFQ1AVCQT3Blw1C0a8xHRAaRPgKz2abbYbBh2QcI9ZbfQwxwdtuZHY3gvZIRcZKy0MUCrmaqrYBuz+hqGxS6tBNMaLjjjuO8B7290suuYQafpikBHG9e/fWd14gE+PEe5/MW4mDwlDuyclIfhk3M/71rLPO4l8OV2oeNtToWOT/5/8ejNGAwhkgf3q6oD1XoZqxwZ1yyimOXnjAbHtI2VE823d47egc0Jg7OoBEM0dZPdmUH3/8cc8F1mwGY0rqvrs2DPoZEg4j3lRTTQVb8cCkRHOo0ZHoAwYMkIxxlgBDkTROeRh9em72jJnF2stKOjl1Xwyw45BvzM4u2igE1KdPH9lw55xzTkJ35Hf9yVP2+SSEOdISl6zBA+IZV+rYwIED+VOSRTHZE7st8JUYwFEmpdZ4ULqx8BDGriSBXhVZSgXYRptMJsRhQGPkWSGLshtiHFAlNOhF8Azalt5R0kBAWp4jNw8bCgjIR9TxyErBtvzZRFmhwiV3uEHr1i7BbDhOOoMoMR9jeKQeVN6IKFKoU/jARAdCSxU/FjWjpAtHCvQ23lA4FoHBqQhznxAb9VbVmc/BngCJmcXay0o6OXVfDAgexamy0korEQ4EDRFVyZ8V8khnn312Otr6CzUDeI+zTn02nA033nij+nPNNdfUxQDvVaU8ElwxZPNGTBY0IxJcBSxB37zh+FLInNRIwP6O3kQNQkdjDFaEbSCrkVVSSRyzshwjyJnAMKX3nW666Xifl0+Xhw1jdFUhHHd94Sp6WIMWrR0DIN+a0P7OfAJImuHgx7zhOLgQXEd0GVEMqo0EpBN2LG8kEQcNRi/iTSSSSAIVDOZmz5hZrL2spJNTLGJgscUWgyzwU00//fRiPawWpsaWDRz73hv0d96jtijDKxYVvfYc5G6IgW+++UaI9cgjj1QfW8q08Sizicyc8MdC5hRqRvFxtMRoIIehiy++mGYSSkuUIb9LJp2Rjyrr4tCdCTMPG0ZjSWpDj2PJhavoYQ1atHY5MbsrqYT6OhhF0XWgH8ySeTAlpd8gSA6s0CQaDL0QDyg9Nn1yJkCh4T0nCfFFudkzZhZrLyvp5PSPtZGvgnnB/SjPsmyC8mDAQWUufIjw0XvZv2PT4DjJe6JisMhLyAok4u6V+V9S8HlvJ6DieOA9dlVccJin0U2I5tYzjcVSpj+ZN//JLZs8zFl+4TjMT6pyumeLTxsGxhwE2zhawj8wklyYQzMEFfYoYRKZLacBvbuMK3OwnzxsGC1BC2+wfZErUAHnne+CCl9EsO9yqPKZWIvWLlQNt2auqzIX29A49aIVsYPjmCWDLA+NYquRsgTqQdPivRzucRrjw+MX3AZ6G8wR4rViAxF6drNnzCzWXlb6L3JCmkksSuFje7e4S7awFw0KS41iixA4iP2a6owYvGyNyUiSxJZixBpR4ZKOely24jf9NIA7Qab63HPPyVRFXN16662OmXOpFvs19cXcuW8cgEQEytyQNGhkqioZQYf8yzikE1TDS26tyhw9DxtGY9G2qAVdE/md6Z63DxqkSFCWz3xatHbZTG2/lyyzMhfbWNpzzz1xCRTmDwt1XXHFFXl4xjYrH4X6hkYbVS1Ycsvd7Bkzi7WXlXRy+kcFRvfkfOd+CGe29WWcPP/xeMhIcksLUSt4OAr4yBVHG5mkXcIFYyW+NSKI2FhpgEmHEH6pa1/zIZAJCA7dk3/h7QDplOhx18l56qmn4AfUf1H8UVQ5teAvkRlyTuenUWRJxhXhYT952NBbgiupVKP85DUR0nR37AlF1PrP/yX2yf20a+2OwkQsszIXGygiToywPWySxP84sIeaL2dNYvnymqnztFQO1x+xSPAIibrZM2YWay8r/Rc5+WhMTbfBHCEbXP2ByFECFHZ/AxS5AvIGqpVwHR6yeVWsQuXTAKdgQNneCBmOfVxCjBw2VjVVTPyA4qQib8S9xkmC3zk7o6DBLYZ7WdZyxBFHZKIuDxt6Y+UJJ1izPv7bBaFdayecl2/NHt0ckjkBoIXY7JM5oswH5rVzTTgrYwomR0cYTaWmKzgqo15CHtzsGTOLtZeVdHLqfoVREgVIXYFWiH93aB+e/xLrNvYro/0OO+zw9NNP85JK7tTT4NjL7+SFEQLkCTmvmVjnsefYDZAxWHLQ4jl2GDZWygpRf9/oQoIob9SJAccA8kNCZjFMYVDiTCYfTz0ybp5nIg8bOgQxjpPKIEFHQ9TTrrULVVfzmfl8VpxSq622GqHSuM309ljwSeixIYj2BvNSbUL/L4oL2gnnWvxwUhGTrBejO214Q7CKkLebPWNmsfaykk5O3RcDYhFi7+NWQh9idbeRjY9oZbsZ51x5yVlVInD4Rc6bPOLyFY+WPGy78gvKjnqpPMOo+fJSDDjkdtojQtxYTrlWl+RJIvHlueiii/ASo7/rxeakL1FS/EQyIQ8YlFRksQiRXEpJJXLoDPuvHG7UHOwJOLChGstW6K7dbUPuGW/atXahapXOEvYTkEGJFYj0FzZ3RasoTMcffzzmNQnoNB4IW97gEEbfJ72ArZ/YZcytuAPRt1B9JNCZf0lNFPVA0vyOh0AZjhzsGTOL6YtqMTk1d8D0hIyDAVTaJRU9uxvNsMAAza7HO8ccc2BUkchLHnFuqyQX9lwJ04QoVdUKueGBR7//ROQHj4r7hH/40675pVpmsiuZAfYCMfRLJBJKGYk5/AIf4i/BfkrqAPnfRhex6eN1yMNVHjb09uTo6cvJBMUBHy4ln0j+iz/cSGST9+gXgwcPRmJJOhvnPH7Py/eu9n3D9ipcO4owH0Jlm1PtgP3LTtaDfhDeiHwVcUsogQoiCDVncWs1ccM2B1ZVUjSTXO0iK7Iowgrs9qQ9qiwBRJckJ+JPRhmSXuhAwn3KJOtmz5hZrAlW8qS6mnSlk1P38waE/twJ6/4LlvQu9BSjC6datkt2eUpBoHSTnUsUvzAtxlZ1Nzp9OR9QSwstRs/gRUUiak1l29KMrRkIMgql0Hijsz0bZSY7qZd5uaBo92RdqqFhHrbyvJrSWJYyZZ5aex42VAN2NLFBOapHsO8QjwRaKLZBR35nephr7Y+y9957E9cENEoFYHaX/BR3DJX/lw3esnDt7OyrrroqNEP1f6nxQDk/VqRX4pRZYUgRNwxWO3mDHQOiCjhndfqUTMawjxjf8x6Uccdw4EQZPEEUB1Y9U4yO/AlhQDNgEiMnaZsoZCBK9yg42DNyFgvOSv5UV4cGDHLqvhiosxi7r5g1+Wn8SypUo25T2ownyG0qagjMo4SvbLrppqHWguJPWWauGXCUemZjYqNBjTK4Tp9DHjZUG6kiSY2XwpmLCx3pSAqoXEiQ2QVzFgISexcWBs5VPJ0sEle4Cr2B59q5JoGFc4MQfZEcCGnMevZAUBT+FTQM+RfeUZGaoR78WLJN66XLQwGvDwf1hf3LUTEJcuUWUhQaMoTs41Qhe0bLYg2xkifVVf5wBjn1NDEgIafN3c6Rh3dS0lB27Pjoyt+JcnVYhBzd2Y6RPXmndelYiA2xXKkLYRzDEd9NS2zHhVenIZlomXfXWGWEBO/ouXa2XQQbIlkmQNGRvBqCO+20kzpXkTnFsSngnAnMBjh6tDv1JOCIsYGKk8UUljzJifY+rORPddU+k0FOzYqBJmqju5ctJvVMk0U1fPn3op4El4I5Ll73B0UcBbGhjpu/yCHCCoFiVQEbWGk4yMuRHGMX1h7j9vNMmBLFxJmgcBVSlqNaLZBC4DUbVFs7fiMpCsvhRskDeyZ4Vlm4mDcxmrsldNmFSI4LxpOyHXtS+9hYrBo5ebKSJ9VV+74GOQUTA8T/Gkk9xMNwLu6wTYAdDd2t1PVe1fCY2QsHKWVY6l/ciD/WvgZEjYg2QaoXKTmFM7exwe4v1yNjEsGCr7atQlBiFi+Ur9hGxEoeoUug8tqlFBrhLniDlJ/Txhhrx9HCHQ9YSNZff/1ClJZqIOHFPmK4FNjWNY6HxSqTkycreVJdtS9okFMwMZAZM+CZ0F9tJXm9JOyyW9pokMAYArFVUJO9TMwyhZYZ1cvGhoRmkXRK7rGd15OJVcy++CrIgcAowWaHBFIF5Y34JZI/pIQARAyoJvyZdailwtoZToqdgCujLApfwXDeoMFR1RXPPLE3deZp95VMF66+CAu2jdDiYbEK5OTPSnlUF+STGeQURgxwpSKFqFAD2XTUQ/IIIYNBJl0KiNTe0WtKl+rewxrb2ECL4SjAgaPwPEFLNBfsbNxbQPYyrlEQSzAu2QySFE2QFREgbP1ESaFfYL0lJoT3nAIJG6dMHrFMUeHTf+36tIkow/GDJ0Z3z1IHl1Q+zp2UAFGNJbFDRGDYR2pjBJcuYSc5pEHzJyd/VlI4zKS6UBg2yCmMGEDrp+x4txRwAzUURYFhEHehUNZqOHWwASESXMyhQUrdER1EACs2JaSI4ERKDWOFk7Kp3BIhDswDDjiAP4m29D+1RI5kPPZGLXGQI9l5+lUT1CEnfMvH11JqvZzASMdlDqV6pcbxYMCflfRi7zbVBVmRTU4BxABqEYHDGEMjiWHANE+mJTddBEFZ24HUxAbnPP1CQQL7JLZPPfiEKDWMsmNkHmReqNtSZBJhTK1v28sFO6Ft6PcpYiXAeB18mZKCi9ANDjkB7BgGPFlJkVke1dWfsE1OAcQAWhI0yoNdiAQrLpnrujyQNPd0ghaKaQ4bWGmxg9vpVPUpNR4InHHJgcg0oJEcgK9eeUdITecy4SZmjmuaYxn7SBPAE8wYMGCwkoPq6s/WJqcAYsC4U4L9F028sFh5/cU4IBBwiaUi706uRoeOEHhz2CD6OMKIoCCfAFWGaFq0eyrk6NZ/HTiefA4EFJfFEYL3mCiJJuLiSA8k055qIkHWlYDEiQFhJR+qqzn/THIKIAa4Lxd9k0IicrGcem6++eaaM67TnTQfmMeuw1MHZnv7JmyU/XZs6GuttRalnwqDnYjooDCf+27RsqMbwgYHNfVx6wBJfVuBAX+qq7wcdBebnAKIATUh5Aw3u6p6xezCPkX2K6/H3ZFsaa628MmPbWgCUYFN2Ijqc/hPBj0GPuK6JP8uqWXCQB4G8sgppBiQsSkeou4tkpupu/WQ0Eta7xB4zXomwhM2ukWHdcZFj6GKkX2vSx2Yqe8Qi4E8cgp/3wABhdy2KHX8MarqZqIO/477jghuqWyenoSNNtIAFifubLHvf23jWtKcu46BPHLqhWBsYnLcREEyERWY5SqGLj4sUF1t0cVpRDJ0wkYkH8JzGul7eSIqNfPBQB45hT8NyGyoXcxPqTjf3SfJAB3/CRvdpcayo6fvVRZjqb0DA3nk1JQYIOOU2cjtcelJGEgYSBhIGIgWA02JAUr6UG1RrtJNT8JAwkDCQMJAtBioKwbY7vv27XvZZZfpPgauaiIupV+/flw4F+3K08QSBhIGEgYSBsBAXRcx1SO4nRxAeIPJ2qXaPjKASnNkVMptQQnLCQMJAwkDCQMxY6CuGKC8MLdNqQuOqXzCBUnIA/IqY152mlvCQMJAwkDCgGCgrhgABGV1uTAaSUCuFsVVKECfkJswkDCQMJAw0BYM/C978oDl9+Bh4wAAAABJRU5ErkJggg==\"></div>"
      ],
      "text/plain": [
       "FormBox[RowBox[{RowBox[{\"-\", FractionBox[\"1\", \"5\"]}], \" \", \n",
       "\n",
       " \n",
       ">        SuperscriptBox[OverscriptBox[\"r\", \"^\"], \"2\"], \" \", \n",
       "\n",
       " \n",
       ">        RowBox[{\"(\", RowBox[{RowBox[{RowBox[{\"sin\", \"(\", RowBox[{\"2\", \" \", \"ϕ\"}], \n",
       "\n",
       " \n",
       ">                \")\"}], \" \", RowBox[{\"(\", \n",
       "\n",
       " \n",
       ">                RowBox[{TemplateBox[List[SubscriptBox[OverscriptBox[\"f\", \"^\"], \n",
       "\n",
       " \n",
       ">                     RowBox[List[\"x\", \",\", \"x\"]]], \"\\\"(5)\\\"\"], \"Superscript\", \n",
       "\n",
       " \n",
       ">                   Rule[SyntaxForm, SuperscriptBox]], \"-\", \n",
       "\n",
       " \n",
       ">                  TemplateBox[List[SubscriptBox[OverscriptBox[\"f\", \"^\"], \n",
       "\n",
       " \n",
       ">                     RowBox[List[\"y\", \",\", \"y\"]]], \"\\\"(5)\\\"\"], \"Superscript\", \n",
       "\n",
       " \n",
       ">                   Rule[SyntaxForm, SuperscriptBox]]}], \")\"}]}], \"-\", \n",
       "\n",
       " \n",
       ">            RowBox[{\"2\", \" \", RowBox[{\"cos\", \"(\", RowBox[{\"2\", \" \", \"ϕ\"}], \")\"}], \" \", \n",
       "\n",
       " \n",
       ">              TemplateBox[List[SubscriptBox[OverscriptBox[\"f\", \"^\"], \n",
       "\n",
       " \n",
       ">                 RowBox[List[\"x\", \",\", \"y\"]]], \"\\\"(5)\\\"\"], \"Superscript\", \n",
       "\n",
       " \n",
       ">               Rule[SyntaxForm, SuperscriptBox]]}]}], \")\"}]}], TraditionalForm]\n"
      ]
     },
     "execution_count": 70,
     "metadata": {
      "text/html": [],
      "text/plain": []
     },
     "output_type": "execute_result"
    }
   ],
   "source": [
    "(* Доказатество последнего равенства в уравнении для изменения момента импульса *)\n",
    "leviCivitaArray = Normal[LeviCivitaTensor[2]];\n",
    "-2/5 FullSimplify[EinsteinSummation[{{i, j}, {i, k}, {k, j}}, {leviCivitaArray, fh5, fh}]] // TraditionalForm"
   ]
  },
  {
   "cell_type": "markdown",
   "metadata": {},
   "source": [
    "<span style=\"color:brown\">**NB:**</span> Выражения полностью <span style=\"color:green\">**совпадают**</span>\n",
    "с $dE/dt, dJ/dt$ из задачника Лайтман А., Пресс В., Прайс Р., Тюкольки С. - 1979 - Сборник задач по теории относительности и гравитации (Решение задачи 18.5, стр. 446-447)\n",
    "\n",
    "Не стоит забывать, что в задачнике система геометризированных единиц $G = c = 1$."
   ]
  },
  {
   "cell_type": "markdown",
   "metadata": {},
   "source": [
    "# Получим другим способом **энергетическую** систему уравнений через Гамильтонов подход\n",
    "\n",
    "## Гамильтониан системы\n",
    "\n",
    "$$\n",
    "H = T + (U + \\mu \\Phi) = E + \\mu \\Phi\n",
    "$$\n",
    "\n",
    "В обезразмеренном виде это будет\n",
    "\n",
    "$$\n",
    "\\hat{H} = \\hat{T} + (\\hat{U} + \\frac{5}{2}\\epsilon_G\\hat{\\Phi}) = \\hat{E} + \\frac{5}{2}\\epsilon_G\\hat{\\Phi}\n",
    "$$\n",
    "\n",
    "Общая форма уравнений Гамильтона гласит:\n",
    "$$\n",
    "\\frac{dA}{dt} = \\frac{\\partial A}{\\partial t} + \\{A, \\hat{H}\\},\n",
    "$$\n",
    "где $\\{A, B\\} = \\frac{\\partial A}{\\partial q_i}\\frac{\\partial B}{\\partial p_i} - \\frac{\\partial A}{\\partial p_i}\\frac{\\partial B}{\\partial q_i}$ - скобка Пуассона,\n",
    "а $q_i$ и $p_i$ - обобщённые координаты и импульсы соотвественно.\n",
    "\n",
    "В нашей задаче обобщённые координаты $(r, \\phi)$.\n",
    "\n",
    "А обобщённые импульсы это - радиальный импульс\n",
    "$p_{r} = \\frac{\\partial \\hat{L}}{\\partial \\dot{r}} = \\hat{r}^{(1)}$,\n",
    "\n",
    "и угловой импульс\n",
    "$p_{\\phi} = \\frac{\\partial \\hat{L}}{\\partial \\dot{\\phi}} = \\frac{\\partial \\hat{L}}{\\partial \\hat{\\omega}} = \\hat{r}^2 \\hat{\\omega} = \\hat{J}$, что есть момент импульса.\n",
    "\n",
    "Найдем как энергия $\\hat{E}$​ (без учета диссипации) эволюционирует под действием полного гамильтониана $Н$.\n",
    "\n",
    "Для этого заметим, что $\\{\\hat{E}, \\hat{E}\\} = 0$, а $\\frac{\\partial \\hat{T}}{\\partial t} = \\frac{\\partial \\hat{U}}{\\partial t} = \\frac{\\partial \\hat{E}}{\\partial t} = 0$, так как кинетическая и потенциальная энергии явно не зависят от времени.\n",
    "\n",
    "Отсюда получаем\n",
    "$$\n",
    "\\frac{d\\hat{E}}{d\\hat{t}} = \\frac{\\partial \\hat{E}}{\\partial \\hat{t}} + \\{\\hat{E}, \\hat{H}\\} = \\frac{5}{2}\\epsilon_G\\{\\hat{E}, \\hat{\\Phi}\\}.\n",
    "$$\n",
    "\n",
    "Учитывая, что уравнения Гамильтона для $\\hat{H}$ есть\n",
    "$$\n",
    "\\begin{align}\n",
    "\\frac{\\partial \\hat{H}}{\\partial q_i} = \\frac{\\partial \\hat{E}}{\\partial q_i} + \\frac{5}{2}\\epsilon_G\\frac{\\partial \\hat{\\Phi}}{\\partial q_i} &= -\\dot{p}_i\n",
    "\\\\\n",
    "\\frac{\\partial \\hat{H}}{\\partial p_i} = \\frac{\\partial \\hat{E}}{\\partial p_i} + \\frac{5}{2}\\epsilon_G\\frac{\\partial \\hat{\\Phi}}{\\partial p_i} &= \\dot{q}_i,\n",
    "\\end{align}\n",
    "$$\n",
    "а $\\frac{\\partial \\hat{\\Phi}}{\\partial p_i} = 0$, то получим\n",
    "$$\n",
    "\\frac{d\\hat{E}}{d\\hat{t}} = -\\frac{5}{2}\\epsilon_G \\dot{q}_i\\frac{\\partial \\hat{\\Phi}}{\\partial q_i} = - \\frac{5}{2}\\epsilon_G\\left(\\hat{r}^{(1)}\\frac{\\partial \\hat{\\Phi}}{\\partial \\hat{r}} + \\hat{\\omega} \\frac{\\partial \\hat{\\Phi}}{\\partial \\phi}\\right).\n",
    "$$\n",
    "\n",
    "Найдем как момент импульса $\\hat{J}$​ (без учета диссипации) эволюционирует под действием полного гамильтониана $\\hat{Н}$.\n",
    "\n",
    "Так как у $\\hat{J} = p_{\\phi}$ нет явной зависимости от времени, а обобщённые координаты и импульсы независимые переменные, то частные производные равны\n",
    "$$\n",
    "\\frac{\\partial \\hat{J}}{\\partial \\hat{t}} = \\frac{\\partial \\hat{J}}{\\partial \\hat{r}} = \\frac{\\partial \\hat{J}}{\\partial \\phi} = \\frac{\\partial \\hat{J}}{\\partial p_r} = 0,\n",
    "\\quad\n",
    "\\frac{\\partial \\hat{J}}{\\partial p_{\\phi}} = 1.\n",
    "$$\n",
    "Отсюда находим\n",
    "$$\n",
    "\\frac{d\\hat{J}}{d\\hat{t}} = \\frac{\\partial \\hat{J}}{\\partial \\hat{t}} + \\{\\hat{J}, \\hat{H}\\} = - \\frac{\\partial \\hat{H}}{\\partial \\phi} = -\\frac{5}{2}\\epsilon_G\\frac{\\partial \\hat{\\Phi}}{\\partial \\phi}.\n",
    "$$\n",
    "\n",
    "<span style=\"color:brown\">**NB:**</span> Выражения для $\\frac{d\\hat{E}}{dt}$ и $\\frac{d\\hat{J}}{dt}$ полностью <span style=\"color:green\">**совпадают**</span> с предыдущими подходами!"
   ]
  },
  {
   "cell_type": "markdown",
   "metadata": {},
   "source": [
    "# Итоговая система **энергетических** уравнений:\n",
    "\n",
    "$$\n",
    "\\begin{align}\n",
    "\\tag{dJ/dt}\n",
    "\\frac{d\\hat{J}}{d\\hat{t}} &= -\\frac{1}{2} \\epsilon_G\n",
    "\\hat{r}^2\n",
    "\\left(\n",
    "  \\sin (2 \\phi ) \\left(\\hat{f}_{y,y}{}^{\\text{(5)}}-\\hat{f}_{x,x}{}^{\\text{(5)}}\\right)+2 \\cos (2 \\phi ) \\hat{f}_{x,y}{}^{\\text{(5)}}\n",
    "\\right)\n",
    "= \\epsilon_G I_J\n",
    "\\\\\n",
    "\\tag{dE/dt}\n",
    "\\frac{d\\hat{E}}{d\\hat{t}} &= \\epsilon_G\n",
    "\\left(\n",
    "  I_J\\hat{\\omega}\n",
    "  -\\hat{r} \\hat{r}'\n",
    "  \\left(\n",
    "  \\sin (2 \\phi ) \\hat{f}_{x,y}{}^{\\text{(5)}}+\\cos ^2(\\phi ) \\hat{f}_{x,x}{}^{\\text{(5)}}+\\sin ^2(\\phi ) \\hat{f}_{y,y}{}^{\\text{(5)}}\n",
    "  \\right)\n",
    "\\right)\n",
    "= \\epsilon_G I_E\n",
    "\\end{align}\n",
    "$$"
   ]
  },
  {
   "cell_type": "markdown",
   "metadata": {},
   "source": [
    "# RHS уравнения (dJ/dt)\n",
    "\n",
    "Введём новое обозначение $\\hat{r}^2 \\equiv \\hat{r}_2$"
   ]
  },
  {
   "cell_type": "code",
   "execution_count": 71,
   "metadata": {
    "vscode": {
     "languageId": "wolfram"
    }
   },
   "outputs": [],
   "source": [
    "ToR2Replacement = {\n",
    "  OverHat[r][OverHat[t]] -> Sqrt[Subscript[OverHat[r],2][OverHat[t]]],\n",
    "  Derivative[n_][OverHat[r]][OverHat[t]] :> D[Sqrt[Subscript[OverHat[r], 2][OverHat[t]]], {OverHat[t], n}]\n",
    "};"
   ]
  },
  {
   "cell_type": "markdown",
   "metadata": {},
   "source": [
    "и подставим в (dJ/dt) значения $\\hat{f}_{i,j}^{(5)}$:"
   ]
  },
  {
   "cell_type": "code",
   "execution_count": 77,
   "metadata": {
    "vscode": {
     "languageId": "wolfram"
    }
   },
   "outputs": [
    {
     "data": {
      "text/html": [
       "<div><img alt=\"Output\" src=\"data:image/png;base64,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\"></div>"
      ],
      "text/plain": [
       "FormBox[RowBox[{SubscriptBox[OverscriptBox[\"r\", \"^\"], \"2\"], \" \", \n",
       "\n",
       " \n",
       ">        RowBox[{\"(\", RowBox[{RowBox[{\"-\", \n",
       "\n",
       " \n",
       ">              RowBox[{\"5\", \" \", SuperscriptBox[SubscriptBox[OverscriptBox[\"r\", \"^\"], \n",
       "\n",
       " \n",
       ">                  \"2\"], \"′\"], \" \", SuperscriptBox[OverscriptBox[\"ω\", \"^\"], \"′′′\"]}]}], \n",
       "\n",
       " \n",
       ">            \"-\", RowBox[{\"10\", \" \", SuperscriptBox[SubscriptBox[OverscriptBox[\"r\", \n",
       "\n",
       " \n",
       ">                 \"^\"], \"2\"], \"′′′\"], \" \", SuperscriptBox[OverscriptBox[\"ω\", \"^\"],\\\n",
       " \n",
       ">    \"′\"]}]\\\n",
       ", \"+\", RowBox[{\"120\", \" \", SuperscriptBox[OverscriptBox[\"ω\", \"^\"], \"2\"], \"\\\n",
       " \n",
       ">    \", \n",
       "           SuperscriptBox[SubscriptBox[OverscriptBox[\"r\", \"^\"], \"2\"], \"′\"], \"\\\n",
       " \n",
       ">    \", \n",
       "           SuperscriptBox[OverscriptBox[\"ω\", \"^\"], \"′\"]}], \"+\", \n",
       "\n",
       " \n",
       ">            RowBox[{\"60\", \" \", SubscriptBox[OverscriptBox[\"r\", \"^\"], \"2\"], \" \", \n",
       "\n",
       " \n",
       ">              OverscriptBox[\"ω\", \"^\"], \" \", \n",
       "           SuperscriptBox[RowBox[{\"(\", \n",
       "\n",
       " \n",
       ">                 SuperscriptBox[OverscriptBox[\"ω\", \"^\"], \"′\"], \")\"}], \"2\"]}], \"+\", \n",
       "\n",
       " \n",
       ">            RowBox[{\"40\", \" \", SuperscriptBox[OverscriptBox[\"ω\", \"^\"], \"3\"], \" \", \n",
       "\n",
       " \n",
       ">              SuperscriptBox[SubscriptBox[OverscriptBox[\"r\", \"^\"], \"2\"], \"′′\"]}], \"+\", \n",
       "\n",
       " \n",
       ">            RowBox[{\"40\", \" \", SubscriptBox[OverscriptBox[\"r\", \"^\"], \"2\"], \" \", \n",
       "\n",
       " \n",
       ">              SuperscriptBox[OverscriptBox[\"ω\", \"^\"], \"2\"], \" \", \n",
       "\n",
       " \n",
       ">              SuperscriptBox[OverscriptBox[\"ω\", \"^\"], \"′′\"]}], \"-\", \n",
       "\n",
       " \n",
       ">            RowBox[{\"10\", \" \", SuperscriptBox[SubscriptBox[OverscriptBox[\"r\", \"^\"], \n",
       "\n",
       " \n",
       ">                \"2\"], \"′′\"], \" \", SuperscriptBox[OverscriptBox[\"ω\", \"^\"], \"′′\"]}], \"-\",\\\n",
       " \n",
       ">    \n",
       "         RowBox[{\"5\", \" \", OverscriptBox[\"ω\", \"^\"], \" \", \n",
       "\n",
       " \n",
       ">              SuperscriptBox[SubscriptBox[OverscriptBox[\"r\", \"^\"], \"2\"], \"′′′′\"]}],\\\n",
       " \n",
       ">    \"-\", \n",
       "         RowBox[{SubscriptBox[OverscriptBox[\"r\", \"^\"], \"2\"], \" \", \n",
       "\n",
       " \n",
       ">              SuperscriptBox[OverscriptBox[\"ω\", \"^\"], \"′′′′\"]}], \"-\", \n",
       "\n",
       " \n",
       ">            RowBox[{RowBox[{\"16\"}], \" \", SubscriptBox[OverscriptBox[\"r\", \"^\"], \"2\"], \n",
       "\n",
       " \n",
       ">              \" \", SuperscriptBox[OverscriptBox[\"ω\", \"^\"], \"5\"]}]}], \")\"}]}], \n",
       "\n",
       " \n",
       ">      TraditionalForm]\n"
      ]
     },
     "execution_count": 77,
     "metadata": {
      "text/html": [],
      "text/plain": []
     },
     "output_type": "execute_result"
    }
   ],
   "source": [
    "fh1 = fh /. ToR2Replacement;\n",
    "fh5Symbolic = Simplify[D[fh1, {OverHat[t], 5}], Trig -> True];\n",
    "\n",
    "Fh5Replacement = Flatten[{\n",
    "  Outer[\n",
    "    Superscript[Subscript[OverHat[f], #1, #2], \"(5)\"] -> fh5Symbolic[[#1 /. {x -> 1, y -> 2}, #2 /. {x -> 1, y -> 2}]] &,\n",
    "    {x, y}, {x, y}\n",
    "  ],\n",
    "  ToR2Replacement,\n",
    "  OmegaReplace\n",
    "}];\n",
    "\n",
    "dJdtTemp = RHSEnegryLagrange[[2]] //. Fh5Replacement;\n",
    "dJdt = Subscript[OverHat[r],2][OverHat[t]]*Expand[Simplify[dJdtTemp/Subscript[\\[Epsilon], G], Trig -> True]/Subscript[OverHat[r],2][OverHat[t]]];\n",
    "dJdt // TraditionalForm"
   ]
  },
  {
   "cell_type": "markdown",
   "metadata": {},
   "source": [
    "<span style=\"color:brown\">**NB:**</span> В файле Binary.pdf выводится <span style=\"color:green\">**точно такое же**</span> выражение"
   ]
  },
  {
   "cell_type": "markdown",
   "metadata": {},
   "source": [
    "$$\n",
    "I_J = I_1 = \\hat{r}_2 \\left[ 120\\hat{r}_2^{(1)}\\hat{\\omega}^2\\hat{\\omega}^{(1)} - 5\\hat{r}_2^{(1)}\\hat{\\omega}^{(3)} - 16\\hat{r}_2\\hat{\\omega}^5 - 10\\hat{r}_2^{(2)}\\hat{\\omega}^{(2)} + 60\\hat{r}_2\\hat{\\omega}(\\hat{\\omega}^{(1)})^2\n",
    "- 10\\hat{r}_2^{(3)}\\hat{\\omega}^{(1)} + 40\\hat{r}_2^{(2)}\\hat{\\omega}^3 - 5\\hat{r}_2^{(4)}\\hat{\\omega} - \\hat{r}_2\\hat{\\omega}^{(4)} + 40\\hat{r}_2\\hat{\\omega}^2\\hat{\\omega}^{(2)} \\right]\n",
    "$$"
   ]
  },
  {
   "cell_type": "code",
   "execution_count": 79,
   "metadata": {
    "vscode": {
     "languageId": "wolfram"
    }
   },
   "outputs": [
    {
     "data": {
      "text/html": [
       "<div><pre style=\"&#102;&#111;&#110;&#116;&#45;&#102;&#97;&#109;&#105;&#108;&#121;&#58;&#32;&#34;&#67;&#111;&#117;&#114;&#105;&#101;&#114;&#32;&#78;&#101;&#119;&#34;&#44;&#67;&#111;&#117;&#114;&#105;&#101;&#114;&#44;&#109;&#111;&#110;&#111;&#115;&#112;&#97;&#99;&#101;&#59;\">&#48;</pre></div>"
      ],
      "text/plain": [
       "0"
      ]
     },
     "execution_count": 79,
     "metadata": {
      "text/html": [],
      "text/plain": []
     },
     "output_type": "execute_result"
    }
   ],
   "source": [
    "I1 = Subscript[OverHat[r], 2][OverHat[t]] * (\n",
    "    120 * Derivative[1][Subscript[OverHat[r], 2]][OverHat[t]] *\n",
    "    OverHat[\\[Omega]][OverHat[t]]^2 * Derivative[1][OverHat[\\[Omega]]][OverHat[t]]\n",
    "    - 5 * Derivative[1][Subscript[OverHat[r], 2]][OverHat[t]] *\n",
    "    Derivative[3][OverHat[\\[Omega]]][OverHat[t]]\n",
    "    - 16 * Subscript[OverHat[r], 2][OverHat[t]] *\n",
    "    OverHat[\\[Omega]][OverHat[t]]^5\n",
    "    - 10 * Derivative[2][Subscript[OverHat[r], 2]][OverHat[t]] *\n",
    "    Derivative[2][OverHat[\\[Omega]]][OverHat[t]]\n",
    "    + 60 * Subscript[OverHat[r], 2][OverHat[t]] *\n",
    "    OverHat[\\[Omega]][OverHat[t]] * Derivative[1][OverHat[\\[Omega]]][OverHat[t]]^2\n",
    "    - 10 * Derivative[3][Subscript[OverHat[r], 2]][OverHat[t]] *\n",
    "    Derivative[1][OverHat[\\[Omega]]][OverHat[t]]\n",
    "    + 40 * Derivative[2][Subscript[OverHat[r], 2]][OverHat[t]] *\n",
    "    OverHat[\\[Omega]][OverHat[t]]^3\n",
    "    - 5 * Derivative[4][Subscript[OverHat[r], 2]][OverHat[t]] *\n",
    "    OverHat[\\[Omega]][OverHat[t]]\n",
    "    - Subscript[OverHat[r], 2][OverHat[t]] *\n",
    "    Derivative[4][OverHat[\\[Omega]]][OverHat[t]]\n",
    "    + 40 * Subscript[OverHat[r], 2][OverHat[t]] *\n",
    "    OverHat[\\[Omega]][OverHat[t]]^2 * Derivative[2][OverHat[\\[Omega]]][OverHat[t]]\n",
    ");\n",
    "dJdt - I1"
   ]
  },
  {
   "cell_type": "markdown",
   "metadata": {},
   "source": [
    "# RHS уравнения (dE/dt)\n",
    "\n",
    "Подставим в (dE/dt) значения $\\hat{f}_{i,j}^{(5)}$:"
   ]
  },
  {
   "cell_type": "code",
   "execution_count": 82,
   "metadata": {
    "vscode": {
     "languageId": "wolfram"
    }
   },
   "outputs": [
    {
     "data": {
      "text/html": [
       "<div><img alt=\"Output\" src=\"data:image/png;base64,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\"></div>"
      ],
      "text/plain": [
       "FormBox[RowBox[{FractionBox[\"1\", \"3\"], \" \", \n",
       "\n",
       " \n",
       ">        RowBox[{\"(\", RowBox[{RowBox[{OverscriptBox[\"ω\", \"^\"], \" \", \n",
       "\n",
       " \n",
       ">              RowBox[{\"(\", RowBox[{RowBox[{\"-\", \n",
       "\n",
       " \n",
       ">                    RowBox[{\"3\", \" \", SubscriptBox[OverscriptBox[\"r\", \"^\"], \"2\"], \n",
       "\n",
       " \n",
       ">                      \" \", RowBox[{\"(\", \n",
       "\n",
       " \n",
       ">                        RowBox[{RowBox[{\"10\", \" \", \n",
       "\n",
       " \n",
       ">                            SuperscriptBox[SubscriptBox[OverscriptBox[\"r\", \"^\"], \n",
       "\n",
       " \n",
       ">                              \"2\"], \"′′′\"], \" \", \n",
       "\n",
       " \n",
       ">                            SuperscriptBox[OverscriptBox[\"ω\", \"^\"], \"′\"]}], \"+\", \n",
       "\n",
       " \n",
       ">                          RowBox[{\"10\", \" \", \n",
       "\n",
       " \n",
       ">                            SuperscriptBox[SubscriptBox[OverscriptBox[\"r\", \"^\"], \n",
       "\n",
       " \n",
       ">                              \"2\"], \"′′\"], \" \", \n",
       "\n",
       " \n",
       ">                            SuperscriptBox[OverscriptBox[\"ω\", \"^\"], \"′′\"]}], \"+\", \n",
       "\n",
       " \n",
       ">                          RowBox[{SubscriptBox[OverscriptBox[\"r\", \"^\"], \"2\"], \" \", \n",
       "\n",
       " \n",
       ">                            SuperscriptBox[OverscriptBox[\"ω\", \"^\"], \"′′′′\"]}]}], \")\"}]\\\n",
       "\n",
       " \n",
       ">   }]}], \"+\", RowBox[{\"60\", \" \", SuperscriptBox[RowBox[{\"(\", \n",
       "\n",
       " \n",
       ">                       SuperscriptBox[SubscriptBox[OverscriptBox[\"r\", \"^\"], \"2\"], \n",
       "\n",
       " \n",
       ">                        \"′\"], \")\"}], \"2\"], \" \", \n",
       "\n",
       " \n",
       ">                    SuperscriptBox[OverscriptBox[\"ω\", \"^\"], \"′′\"]}], \"+\", \n",
       "\n",
       " \n",
       ">                  RowBox[{\"90\", \" \", \n",
       "\n",
       " \n",
       ">                    SuperscriptBox[SubscriptBox[OverscriptBox[\"r\", \"^\"], \"2\"], \"′\"], \n",
       "\n",
       " \n",
       ">                    \" \", SuperscriptBox[SubscriptBox[OverscriptBox[\"r\", \"^\"], \"2\"], \n",
       "\n",
       " \n",
       ">                     \"′′\"], \" \", SuperscriptBox[OverscriptBox[\"ω\", \"^\"], \"′\"]}]}],\\\n",
       " \n",
       ">    \")\"}]\\\n",
       "}], \"+\", RowBox[{SuperscriptBox[SubscriptBox[OverscriptBox[\"r\", \"^\"], \"2\"],\\\n",
       " \n",
       ">    \"′\"], \n",
       "           \" \", RowBox[{\"(\", RowBox[{RowBox[{\"30\", \" \", \n",
       "\n",
       " \n",
       ">                    SubscriptBox[OverscriptBox[\"r\", \"^\"], \"2\"], \" \", \n",
       "\n",
       " \n",
       ">                    SuperscriptBox[OverscriptBox[\"ω\", \"^\"], \"′\"], \" \", \n",
       "\n",
       " \n",
       ">                    SuperscriptBox[OverscriptBox[\"ω\", \"^\"], \"′′\"]}], \"+\", \n",
       "\n",
       " \n",
       ">                  RowBox[{\"45\", \" \", \n",
       "\n",
       " \n",
       ">                    SuperscriptBox[SubscriptBox[OverscriptBox[\"r\", \"^\"], \"2\"], \"′\"], \n",
       "\n",
       " \n",
       ">                    \" \", SuperscriptBox[RowBox[{\"(\", \n",
       "\n",
       " \n",
       ">                       SuperscriptBox[OverscriptBox[\"ω\", \"^\"], \"′\"], \")\"}], \"2\"]}], \n",
       "\n",
       " \n",
       ">                  \"-\", SuperscriptBox[SubscriptBox[OverscriptBox[\"r\", \"^\"], \"2\"], \n",
       "\n",
       " \n",
       ">                   \"′′′′′\"]}], \")\"}]}], \"-\", \n",
       "\n",
       " \n",
       ">            RowBox[{\"60\", \" \", SuperscriptBox[OverscriptBox[\"ω\", \"^\"], \"4\"], \" \", \n",
       "\n",
       " \n",
       ">              RowBox[{\"(\", RowBox[{SuperscriptBox[RowBox[{\"(\", \n",
       "\n",
       " \n",
       ">                     SuperscriptBox[SubscriptBox[OverscriptBox[\"r\", \"^\"], \"2\"], \n",
       "\n",
       " \n",
       ">                      \"′\"], \")\"}], \"2\"], \"-\", \n",
       "\n",
       " \n",
       ">                  RowBox[{\"2\", \" \", SubscriptBox[OverscriptBox[\"r\", \"^\"], \"2\"], \" \", \n",
       "\n",
       " \n",
       ">                    SuperscriptBox[SubscriptBox[OverscriptBox[\"r\", \"^\"], \"2\"],\\\n",
       " \n",
       ">    \"′′\"]}]}\\\n",
       "], \")\"}]}], \"+\", RowBox[{\"120\", \" \", SubscriptBox[OverscriptBox[\"r\",\\\n",
       " \n",
       ">    \"^\"], \"2\"], \n",
       "           \" \", SuperscriptBox[OverscriptBox[\"ω\", \"^\"], \"3\"], \" \", \n",
       "\n",
       " \n",
       ">              RowBox[{\"(\", RowBox[{RowBox[{\"2\", \" \", \n",
       "\n",
       " \n",
       ">                    SuperscriptBox[SubscriptBox[OverscriptBox[\"r\", \"^\"], \"2\"], \"′\"], \n",
       "\n",
       " \n",
       ">                    \" \", SuperscriptBox[OverscriptBox[\"ω\", \"^\"], \"′\"]}], \"+\", \n",
       "\n",
       " \n",
       ">                  RowBox[{SubscriptBox[OverscriptBox[\"r\", \"^\"], \"2\"], \" \", \n",
       "\n",
       " \n",
       ">                    SuperscriptBox[OverscriptBox[\"ω\", \"^\"], \"′′\"]}]}], \")\"}]}], \"+\", \n",
       "\n",
       " \n",
       ">            RowBox[{\"15\", \" \", SuperscriptBox[OverscriptBox[\"ω\", \"^\"], \"2\"], \" \", \n",
       "\n",
       " \n",
       ">              RowBox[{\"(\", RowBox[{RowBox[{\"12\", \" \", \n",
       "\n",
       " \n",
       ">                    SubsuperscriptBox[OverscriptBox[\"r\", \"^\"], \"2\", \"2\"], \" \", \n",
       "\n",
       " \n",
       ">                    SuperscriptBox[RowBox[{\"(\", \n",
       "\n",
       " \n",
       ">                       SuperscriptBox[OverscriptBox[\"ω\", \"^\"], \"′\"], \")\"}], \"2\"]}], \n",
       "\n",
       " \n",
       ">                  \"+\", RowBox[{\"2\", \" \", \n",
       "\n",
       " \n",
       ">                    SuperscriptBox[SubscriptBox[OverscriptBox[\"r\", \"^\"], \"2\"], \"′\"], \n",
       "\n",
       " \n",
       ">                    \" \", SuperscriptBox[SubscriptBox[OverscriptBox[\"r\", \"^\"], \"2\"], \n",
       "\n",
       " \n",
       ">                     \"′′′\"]}], \"-\", RowBox[{SubscriptBox[OverscriptBox[\"r\", \"^\"], \n",
       "\n",
       " \n",
       ">                     \"2\"], \" \", SuperscriptBox[SubscriptBox[OverscriptBox[\"r\", \"^\"], \n",
       "\n",
       " \n",
       ">                      \"2\"], \"′′′′\"]}]}], \")\"}]}], \"-\", \n",
       "\n",
       " \n",
       ">            RowBox[{RowBox[{\"48\"}], \" \", \n",
       "\n",
       " \n",
       ">              SubsuperscriptBox[OverscriptBox[\"r\", \"^\"], \"2\", \"2\"], \" \", \n",
       "\n",
       " \n",
       ">              SuperscriptBox[OverscriptBox[\"ω\", \"^\"], \"6\"]}]}], \")\"}]}],\\\n",
       " \n",
       ">    TraditionalForm]\n"
      ]
     },
     "execution_count": 82,
     "metadata": {
      "text/html": [],
      "text/plain": []
     },
     "output_type": "execute_result"
    }
   ],
   "source": [
    "dEdtTemp = RHSEnegryLagrange[[1]] //. Fh5Replacement;\n",
    "dEdt = Simplify[dEdtTemp/Subscript[\\[Epsilon], G], Trig -> True];\n",
    "dEdt // TraditionalForm"
   ]
  },
  {
   "cell_type": "markdown",
   "metadata": {},
   "source": [
    "<span style=\"color:brown\">**NB:**</span> В файлах Binary.pdf и binary_catch1.pdf выводится <span style=\"color:green\">**точно такие же**</span> выражения для правой части (dE/dt),\n",
    "а именно $I_E = I_1\\hat{\\omega} + I_2\\frac{\\dot{r}}{r}$, где\n",
    "$$\n",
    "I_2 = 2\\hat{r}_2 \\left[ -40\\hat{r}_2\\hat{\\omega}^3\\hat{\\omega}^{(1)} - 20\\hat{\\omega}^4\\hat{r}_2^{(1)} + 5\\hat{r}_2\\hat{\\omega}\\hat{\\omega}^{(3)} + 10\\hat{r}_2\\hat{\\omega}^{(1)}\\hat{\\omega}^{(2)} + 10\\hat{\\omega}^2\\hat{r}_2^{(3)} + 30\\hat{\\omega}\\hat{\\omega}^{(1)}\\hat{r}_2^{(2)} + 20\\hat{\\omega}\\hat{\\omega}^{(2)}\\hat{r}_2^{(1)} + 15\\hat{r}_2^{(1)}(\\hat{\\omega}^{(1)})^2 - \\frac{1}{3}\\hat{r}_2^{(5)} \\right]\n",
    "$$"
   ]
  },
  {
   "cell_type": "code",
   "execution_count": 84,
   "metadata": {
    "vscode": {
     "languageId": "wolfram"
    }
   },
   "outputs": [
    {
     "data": {
      "text/html": [
       "<div><pre style=\"&#102;&#111;&#110;&#116;&#45;&#102;&#97;&#109;&#105;&#108;&#121;&#58;&#32;&#34;&#67;&#111;&#117;&#114;&#105;&#101;&#114;&#32;&#78;&#101;&#119;&#34;&#44;&#67;&#111;&#117;&#114;&#105;&#101;&#114;&#44;&#109;&#111;&#110;&#111;&#115;&#112;&#97;&#99;&#101;&#59;\">&#48;</pre></div>"
      ],
      "text/plain": [
       "0"
      ]
     },
     "execution_count": 84,
     "metadata": {
      "text/html": [],
      "text/plain": []
     },
     "output_type": "execute_result"
    }
   ],
   "source": [
    "I2 = 2 * Subscript[OverHat[r], 2][OverHat[t]] * (\n",
    "    -40 * Subscript[OverHat[r], 2][OverHat[t]] *\n",
    "    OverHat[\\[Omega]][OverHat[t]]^3 * Derivative[1][OverHat[\\[Omega]]][OverHat[t]]\n",
    "    - 20 * OverHat[\\[Omega]][OverHat[t]]^4 *\n",
    "    Derivative[1][Subscript[OverHat[r], 2]][OverHat[t]]\n",
    "    + 5 * Subscript[OverHat[r], 2][OverHat[t]] *\n",
    "    OverHat[\\[Omega]][OverHat[t]] * Derivative[3][OverHat[\\[Omega]]][OverHat[t]]\n",
    "    + 10 * Subscript[OverHat[r], 2][OverHat[t]] *\n",
    "    Derivative[1][OverHat[\\[Omega]]][OverHat[t]] *\n",
    "    Derivative[2][OverHat[\\[Omega]]][OverHat[t]]\n",
    "    + 10 * OverHat[\\[Omega]][OverHat[t]]^2 *\n",
    "    Derivative[3][Subscript[OverHat[r], 2]][OverHat[t]]\n",
    "    + 30 * OverHat[\\[Omega]][OverHat[t]] *\n",
    "    Derivative[1][OverHat[\\[Omega]]][OverHat[t]] *\n",
    "    Derivative[2][Subscript[OverHat[r], 2]][OverHat[t]]\n",
    "    + 20 * OverHat[\\[Omega]][OverHat[t]] *\n",
    "    Derivative[2][OverHat[\\[Omega]]][OverHat[t]] *\n",
    "    Derivative[1][Subscript[OverHat[r], 2]][OverHat[t]]\n",
    "    + 15 * Derivative[1][Subscript[OverHat[r], 2]][OverHat[t]] *\n",
    "    Derivative[1][OverHat[\\[Omega]]][OverHat[t]]^2\n",
    "    - (1/3) * Derivative[5][Subscript[OverHat[r], 2]][OverHat[t]]\n",
    ");\n",
    "Simplify[(I2*D[OverHat[r][OverHat[t]], OverHat[t]]/OverHat[r][OverHat[t]] + I1*OverHat[\\[Omega]][OverHat[t]] /. ToR2Replacement) - dEdt]"
   ]
  },
  {
   "cell_type": "markdown",
   "metadata": {},
   "source": [
    "# Итоговые $I_J$, $I_E$\n",
    "\n",
    "$$\n",
    "\\begin{align}\n",
    "\\tag{IJ}\\\n",
    "I_J &= \\hat{r}_2 \\left[ 120\\hat{r}_2^{(1)}\\hat{\\omega}^2\\hat{\\omega}^{(1)} - 5\\hat{r}_2^{(1)}\\hat{\\omega}^{(3)} - 16\\hat{r}_2\\hat{\\omega}^5 - 10\\hat{r}_2^{(2)}\\hat{\\omega}^{(2)} + 60\\hat{r}_2\\hat{\\omega}(\\hat{\\omega}^{(1)})^2\n",
    "- 10\\hat{r}_2^{(3)}\\hat{\\omega}^{(1)} + 40\\hat{r}_2^{(2)}\\hat{\\omega}^3 - 5\\hat{r}_2^{(4)}\\hat{\\omega} - \\hat{r}_2\\hat{\\omega}^{(4)} + 40\\hat{r}_2\\hat{\\omega}^2\\hat{\\omega}^{(2)} \\right]\n",
    "\\\\\n",
    "\\tag{IE}\n",
    "I_E &= I_J\\hat{\\omega} + \\hat{r}_2^{(1)} \\left[ -40\\hat{r}_2\\hat{\\omega}^3\\hat{\\omega}^{(1)} - 20\\hat{\\omega}^4\\hat{r}_2^{(1)} + 5\\hat{r}_2\\hat{\\omega}\\hat{\\omega}^{(3)} + 10\\hat{r}_2\\hat{\\omega}^{(1)}\\hat{\\omega}^{(2)} + 10\\hat{\\omega}^2\\hat{r}_2^{(3)} + 30\\hat{\\omega}\\hat{\\omega}^{(1)}\\hat{r}_2^{(2)} + 20\\hat{\\omega}\\hat{\\omega}^{(2)}\\hat{r}_2^{(1)} + 15\\hat{r}_2^{(1)}(\\hat{\\omega}^{(1)})^2 - \\frac{1}{3}\\hat{r}_2^{(5)} \\right]\n",
    "\\end{align}\n",
    "$$"
   ]
  },
  {
   "cell_type": "markdown",
   "metadata": {
    "vscode": {
     "languageId": "wolfram"
    }
   },
   "source": [
    "# Исключения из рассмотрения $u \\equiv 0$ и $r_p \\equiv 0$.\n",
    "\n",
    "Сохранение момента импульса\n",
    "$r_p v_p = v_{\\infty} b$.\n",
    "\n",
    "Здесь $r_p$ - расстояние до перицентра, а $v_p$ - скорость пролетающего тела в нем.\n",
    "\n",
    "Минимальная длина гравитационной волны $\\lambda_\\text{gw} \\sim cT_\\text{gw}$\n",
    "\n",
    "$T_\\text{gw} \\sim \\frac{r_p}{v_p} = \\frac{r_p^2}{v_{\\infty} b}$\n",
    "\n",
    "Тогда $\\lambda_\\text{gw} \\sim \\frac{c}{v_{\\infty}}\\frac{r_p^2}{b}$.\n",
    "\n",
    "Условие медленного движения есть\n",
    "\n",
    "$r_p \\ll \\lambda_\\text{gw}$ откуда получаем\n",
    "\n",
    "$\\frac{v_{\\infty}}{с} \\ll \\frac{r_p}{b} = \\frac{v_\\infty}{v_p} \\lesssim 1$.\n",
    "\n",
    "Или в безразмерном виде\n",
    "\n",
    "$u = \\frac{v_{\\infty} t_0}{b} \\ll \\frac{c t_0}{b} = \\sqrt{\\frac{c^2 b}{G M}}$.\n",
    "\n",
    "Далее рассмотрим условие слабой гравитации\n",
    "\n",
    "$r_p \\gg r_s = \\frac{2GM}{c^2}$\n",
    "\n",
    "Это исключает $r_p \\equiv 0$.\n",
    "\n",
    "Так как $r_p = b\\frac{\\sqrt{u^4 + 1} - 1}{u^2}$,\n",
    "\n",
    "то для малых $u$ получим\n",
    "\n",
    "$u \\gg \\sqrt{\\frac{2 r_s}{b}} = 2\\frac{b}{t_0 c}$.\n",
    "\n",
    "Объединяя условия на $u$ можно написать\n",
    "\n",
    "$\\sqrt{\\frac{2 r_s}{b}} = \\frac{2b}{t_0 c} \\ll u \\ll \\frac{c t_0}{b} = \\sqrt{\\frac{2 b}{r_s}}$.\n",
    "\n",
    "Откуда следует, что при достаточно большом прицельном расстоянии у нас может быть сколь угодно малая скорость $u$,\n",
    "но исключает $u \\equiv 0$.\n",
    "\n",
    "$\\frac{r_s}{b} \\ll \\frac{v_{\\infty}}{с} \\ll \\frac{r_p}{b} \\lesssim 1$"
   ]
  },
  {
   "cell_type": "markdown",
   "metadata": {},
   "source": [
    "# Попытка численного решения начального уравнения движения\n",
    "\n",
    "$$\n",
    "\\hat{r}_k^{(2)} + \\frac{\\hat{r}_k}{\\hat{r}^3} = - \\epsilon_G\\hat{f}_{ki}^{(5)}\\hat{r}_i\n",
    "$$"
   ]
  },
  {
   "cell_type": "code",
   "execution_count": 104,
   "metadata": {
    "vscode": {
     "languageId": "wolfram"
    }
   },
   "outputs": [
    {
     "data": {
      "text/html": [
       "<div><img alt=\"Output\" src=\"data:image/png;base64,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\"></div>"
      ],
      "text/plain": [
       "  ^\n",
       "{{r -> InterpolatingFunction[{{0., 95.}}, <>], \n",
       " \n",
       ">    ϕ -> InterpolatingFunction[{{0., 95.}}, <>]}}"
      ]
     },
     "execution_count": 104,
     "metadata": {
      "text/html": [],
      "text/plain": []
     },
     "output_type": "execute_result"
    }
   ],
   "source": [
    "Clear[rxNum, ryNum, uxNum, uyNum, tMaxNum, rhRules, icsNum, MaxDNum, epsilonGNum]\n",
    "\n",
    "rxNum = 10^3;\n",
    "uxNum = 0;\n",
    "\n",
    "(* зафиксированные *)\n",
    "(* ryNum = 1; *)\n",
    "ryNum = 0;\n",
    "uyNum = 0;\n",
    "\n",
    "(* Newton *)\n",
    "(* epsilonGNum = 0; *)\n",
    "epsilonGNum = 10^(-3);\n",
    "tMaxNum = 9.5*10^1;\n",
    "\n",
    "rhNum = {\n",
    "  Subscript[OverHat[r], \"x\"][OverHat[t]], Subscript[OverHat[r], \"y\"][OverHat[t]]\n",
    "  };\n",
    "D[rhNum, OverHat[t]];\n",
    "\n",
    "rhRules[MaxDNum_] := Join[\n",
    "  Thread[rhNum -> ({rxNum, ryNum} /. OverHat[t] -> 0)],\n",
    "  Thread[D[rhNum, OverHat[t]] -> ({uxNum, uyNum} /. OverHat[t] -> 0)],\n",
    "  Flatten[Table[\n",
    "    Thread[D[rhNum, {OverHat[t], i}] -> {0, 0}],\n",
    "    {i, 2, Max[MaxDNum, 2]}\n",
    "  ]] /. OverHat[t] -> 0,\n",
    "  {OverHat[t] -> 0}\n",
    "];\n",
    "\n",
    "icsNum[MaxDNum_] := Join[\n",
    "  Simplify[Table[D[OverHat[r][OverHat[t]] -> Sqrt[rhNum.rhNum], {OverHat[t], i}], {i, 0, Max[MaxDNum, 1]}] //. rhRules[MaxDNum]],\n",
    "  Simplify[Table[D[\\[Phi][OverHat[t]] -> ArcTan[rhNum[[1]], rhNum[[2]]], {OverHat[t], i}], {i, 0, Max[MaxDNum, 1]}] //. rhRules[MaxDNum]]\n",
    "];\n",
    "\n",
    "fh5SymbolicNum = Simplify[D[fh, {OverHat[t], 5}], Trig -> True];\n",
    "\n",
    "Fh5ReplacementNum = Flatten[{\n",
    "  Outer[\n",
    "    Superscript[Subscript[OverHat[f], #1, #2], \"(5)\"] -> fh5SymbolicNum[[#1 /. {x -> 1, y -> 2}, #2 /. {x -> 1, y -> 2}]] &,\n",
    "    {x, y}, {x, y}\n",
    "  ]\n",
    "}];\n",
    "\n",
    "sysNum = Simplify[D[rh, {OverHat[t], 2}] + rh/OverHat[r][OverHat[t]]^3 + epsilonGNum*fh5rh //. Fh5ReplacementNum];\n",
    "eqnsNum = {sysNum[[1]] == 0, sysNum[[2]] == 0};\n",
    "solNum = NDSolve[Join[eqnsNum, icsNum[If[epsilonGNum == 0, 1, 4]]] /. Rule -> Equal, {OverHat[r], \\[Phi]}, {OverHat[t], 0, tMaxNum}\n",
    "  (* WorkingPrecision -> 30,\n",
    "  PrecisionGoal -> 20,\n",
    "  AccuracyGoal -> 20,\n",
    "  Method -> \"StiffnessSwitching\",\n",
    "  MaxSteps -> 10^7 *)\n",
    "]"
   ]
  },
  {
   "cell_type": "code",
   "execution_count": 115,
   "metadata": {
    "vscode": {
     "languageId": "wolfram"
    }
   },
   "outputs": [
    {
     "data": {
      "text/html": [
       "<div><img alt=\"Output\" src=\"data:image/png;base64,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\"></div>"
      ],
      "text/plain": [
       "-Graphics-"
      ]
     },
     "execution_count": 115,
     "metadata": {
      "text/html": [],
      "text/plain": []
     },
     "output_type": "execute_result"
    }
   ],
   "source": [
    "tMaxNum2 = tMaxNum;\n",
    "\n",
    "RNum = OverHat[r][t] /. solNum[[1]];\n",
    "PhiNum = \\[Phi][t] /. solNum[[1]];\n",
    "dRDtNum = D[OverHat[r][t] /. solNum[[1]], t];\n",
    "OmegaNum = D[\\[Phi][t] /. solNum[[1]], t];\n",
    "\n",
    "PlotR = Plot[RNum, {t, 0, tMaxNum2},\n",
    "  AxesLabel -> {TraditionalForm[OverHat[t]], TraditionalForm[OverHat[r]]},\n",
    "  PlotRange -> All,\n",
    "  ScalingFunctions -> {\"Linear\", \"Log\"}\n",
    "];\n",
    "\n",
    "PlotRxRy = ParametricPlot[\n",
    "  {RNum Cos[PhiNum], RNum Sin[PhiNum]},\n",
    "  {t, 0, tMaxNum2},\n",
    "  AxesLabel -> {TraditionalForm[Subscript[OverHat[r], \"x\"]], TraditionalForm[Subscript[OverHat[r], \"y\"]]},\n",
    "  PlotRange -> All,\n",
    "  ScalingFunctions -> {\"Linear\", \"Linear\"}\n",
    "];\n",
    "\n",
    "PlotDRDt = Plot[dRDtNum, {t, 0, tMaxNum2},\n",
    "  AxesLabel -> {\n",
    "  TraditionalForm[OverHat[t]],\n",
    "  Style[TraditionalForm[HoldForm[D[OverHat[r], OverHat[t]]]], FontSize -> 7]\n",
    "  },\n",
    "  PlotRange -> All,\n",
    "  ScalingFunctions -> {\"Log\", \"SignedLog\"}\n",
    "];\n",
    "\n",
    "PlotPhi = Plot[PhiNum, {t, 0, tMaxNum2},\n",
    "  AxesLabel -> {TraditionalForm[OverHat[t]], TraditionalForm[OverHat[\\[Phi]]]},\n",
    "  PlotRange -> All,\n",
    "  ScalingFunctions -> {\"Linear\", \"Linear\"},\n",
    "  PlotStyle -> Red\n",
    "];\n",
    "\n",
    "PlotOmega = Plot[OmegaNum, {t, 0, tMaxNum2},\n",
    "  AxesLabel -> {TraditionalForm[OverHat[t]], TraditionalForm[OverHat[\\[Omega]]]},\n",
    "  PlotRange -> All,\n",
    "  ScalingFunctions -> {\"Log\", \"SignedLog\"},\n",
    "  PlotStyle -> Red\n",
    "];\n",
    "\n",
    "GraphicsRow[{PlotR, PlotRxRy, PlotDRDt, PlotPhi, PlotOmega}]"
   ]
  },
  {
   "cell_type": "code",
   "execution_count": 126,
   "metadata": {
    "vscode": {
     "languageId": "wolfram"
    }
   },
   "outputs": [
    {
     "data": {
      "text/html": [
       "<div><img alt=\"Output\" src=\"data:image/png;base64,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\"></div>"
      ],
      "text/plain": [
       "-Graphics-"
      ]
     },
     "execution_count": 126,
     "metadata": {
      "text/html": [],
      "text/plain": []
     },
     "output_type": "execute_result"
    }
   ],
   "source": [
    "EnergyNewtonNum = Energy /. OverHat[\\[Omega]][OverHat[t]] -> D[\\[Phi][OverHat[t]], OverHat[t]] /. OverHat[t] -> 0 /. icsNum[1];\n",
    "\n",
    "EnergyNum = Energy /. {\n",
    "  OverHat[r][OverHat[t]] -> RNum,\n",
    "  D[OverHat[r][OverHat[t]], OverHat[t]] -> dRDtNum,\n",
    "  OverHat[\\[Omega]][OverHat[t]] -> OmegaNum\n",
    "  };\n",
    "\n",
    "plotENewton = Plot[\n",
    "  EnergyNewtonNum, {t, 0, tMaxNum2},\n",
    "  PlotStyle -> Red,\n",
    "  PlotLegends -> {\"E Newton\"}\n",
    "];\n",
    "\n",
    "plotE = Plot[EnergyNum, {t, 0, tMaxNum2},\n",
    "  AxesLabel -> {TraditionalForm[OverHat[t]], \"E\"},\n",
    "  PlotLegends -> {TraditionalForm[\"E\"[OverHat[t]]]},\n",
    "  PlotRange -> All\n",
    "];\n",
    "\n",
    "PlotsE = Show[plotENewton, plotE, PlotRange -> All];\n",
    "\n",
    "AngularMomentumNewtonNum = AngularMomentum /. OverHat[\\[Omega]][OverHat[t]] -> D[\\[Phi][OverHat[t]], OverHat[t]] /. OverHat[t] -> 0 /. icsNum[1];\n",
    "\n",
    "AngularMomentumNum = AngularMomentum /. {\n",
    "  OverHat[r][OverHat[t]] -> RNum,\n",
    "  OverHat[\\[Omega]][OverHat[t]] -> OmegaNum\n",
    "};\n",
    "\n",
    "plotJNewton = Plot[\n",
    "  AngularMomentumNewtonNum, {t, 0, tMaxNum2},\n",
    "  PlotStyle -> Red,\n",
    "  ScalingFunctions -> {\"Log\", \"Linear\"},\n",
    "  PlotLegends -> {\"J Newton\"}\n",
    "];\n",
    "\n",
    "plotJ = Plot[AngularMomentumNum, {t, 0, tMaxNum2},\n",
    "  AxesLabel -> {TraditionalForm[OverHat[t]], \"J\"},\n",
    "  ScalingFunctions -> {\"Log\", \"Linear\"},\n",
    "  PlotLegends -> {TraditionalForm[\"J\"[OverHat[t]]]},\n",
    "  PlotRange -> All\n",
    "];\n",
    "\n",
    "PlotsJ = Show[plotJNewton, plotJ, PlotRange -> All];\n",
    "\n",
    "GraphicsRow[{PlotsE, PlotsJ}]"
   ]
  },
  {
   "cell_type": "markdown",
   "metadata": {},
   "source": [
    "<span style=\"color:brown\">**NB:**</span> Как можно видеть, численное решение при помощи Mathematica с участием пятой производной по времени пока невыполнимая задача."
   ]
  },
  {
   "cell_type": "markdown",
   "metadata": {},
   "source": [
    "# Потеря энергии за один период обращения"
   ]
  },
  {
   "cell_type": "markdown",
   "metadata": {},
   "source": [
    "Энергию гравитационного излучения невозможно локализовать в области меньше длины одной волны.\n",
    "\n",
    "Поэтому мгновенные изменения энергии и момента не имеют физического смысла.\n",
    "\n",
    "Однако, если мы просуммируем энергию и момент по полному периоду обращения, то с такими величинами можно работать.\n",
    "\n",
    "Рассчитаем в **нулевом приближении**, сколько энергии уносится из системы\n",
    "\n",
    "гравитационными волнами за один полный оборот, интегрируя по ньютоновской гиперболической траектории\n",
    "\n",
    "начиная с момента, когда тело \"бесконечно\" далеко, до момента минимального сближения (до перицентра) и обратно:\n",
    "$$\n",
    "\\Delta \\hat{E} = 2 \\epsilon_G \\int\\limits_{\\hat{t}_{\\text{min}}}^{\\infty}I_E(\\hat{t}) d \\hat{t}.\n",
    "$$"
   ]
  },
  {
   "cell_type": "markdown",
   "metadata": {},
   "source": [
    "В приближении Ньютона $I_J$ и $I_E$ равны нулю.\n",
    "Тогда и момент импульса и энергия сохраняются.\n",
    "\n",
    "$\\hat{J} = |\\vec{\\hat{r}} \\times \\vec{\\hat{v}}| = |\\vec{\\hat{r}}_\\infty \\times \\vec{\\hat{v}}_\\infty| = \\hat{r}\\hat{v}_\\infty \\sin(\\phi)$\n",
    "\n",
    "Так как $\\phi = \\pi/2$ на бесконечности, то $\\hat{J} = b\\hat{v}_\\infty = u$,\n",
    "то $u$ - безразмерная скорость на бесконечности.\n",
    "\n",
    "Отсюда следует, что $\\hat{\\omega} = \\frac{u}{\\hat{r}_2}$"
   ]
  },
  {
   "cell_type": "code",
   "execution_count": 127,
   "metadata": {
    "vscode": {
     "languageId": "wolfram"
    }
   },
   "outputs": [],
   "source": [
    "OmegaReplace2 = {\n",
    "   OverHat[\\[Omega]][OverHat[t]] -> u/Subscript[OverHat[r], 2][OverHat[t]],\n",
    "   Derivative[n_][OverHat[\\[Omega]]][OverHat[t]] :> u D[1/Subscript[OverHat[r], 2][OverHat[t]], {OverHat[t], n}]\n",
    "};"
   ]
  },
  {
   "cell_type": "markdown",
   "metadata": {},
   "source": [
    "Заменим переменные\n",
    "$$\n",
    "\\Delta \\hat{E} = - 2 \\epsilon_G \\int\\limits_{\\hat{r}_2^{\\text{min}}}^{\\infty}\\frac{I_E(\\hat{r}_2)}{\\hat{r}_2^{(1)}}d \\hat{r}_2,\n",
    "$$"
   ]
  },
  {
   "cell_type": "markdown",
   "metadata": {},
   "source": [
    "Здесь $\\hat{r}_2^{\\text{min}}$ - квадрат минимального расстояния между объектами:"
   ]
  },
  {
   "cell_type": "code",
   "execution_count": 129,
   "metadata": {
    "vscode": {
     "languageId": "wolfram"
    }
   },
   "outputs": [
    {
     "data": {
      "text/html": [
       "<div><img alt=\"Output\" src=\"data:image/png;base64,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\"></div>"
      ],
      "text/plain": [
       "FormBox[FractionBox[RowBox[{SuperscriptBox[\"u\", \"4\"], \"-\", \n",
       "\n",
       " \n",
       ">         RowBox[{\"2\", \" \", SqrtBox[RowBox[{SuperscriptBox[\"u\", \"4\"], \"+\", \"1\"}]]}],\\\n",
       " \n",
       ">    \"+\", \n",
       "      \"2\"}], SuperscriptBox[\"u\", \"4\"]], TraditionalForm]\n"
      ]
     },
     "execution_count": 129,
     "metadata": {
      "text/html": [],
      "text/plain": []
     },
     "output_type": "execute_result"
    }
   ],
   "source": [
    "rMin2[u_] := (2 + u^4 - 2 Sqrt[1 + u^4])/u^4;\n",
    "rMin2[u] // TraditionalForm"
   ]
  },
  {
   "cell_type": "code",
   "execution_count": 132,
   "metadata": {
    "vscode": {
     "languageId": "wolfram"
    }
   },
   "outputs": [
    {
     "data": {
      "text/html": [
       "<div><img alt=\"Output\" src=\"data:image/png;base64,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\"></div>"
      ],
      "text/plain": [
       "FormBox[RowBox[{FractionBox[RowBox[{\"16\", \" \", SuperscriptBox[\"u\", \"6\"]}], \n",
       "\n",
       " \n",
       ">         RowBox[{SubsuperscriptBox[OverscriptBox[\"r\", \"^\"], \"2\", \"4\"], \" \", \n",
       "\n",
       " \n",
       ">           SuperscriptBox[SubscriptBox[OverscriptBox[\"r\", \"^\"], \"2\"], \"′\"]}]], \"-\", \n",
       "\n",
       " \n",
       ">        FractionBox[RowBox[{\"40\", \" \", SuperscriptBox[\"u\", \"4\"], \" \", \n",
       "\n",
       " \n",
       ">           SuperscriptBox[SubscriptBox[OverscriptBox[\"r\", \"^\"], \"2\"], \"′\"]}], \n",
       "\n",
       " \n",
       ">         SubsuperscriptBox[OverscriptBox[\"r\", \"^\"], \"2\", \"4\"]], \"-\", \n",
       "\n",
       " \n",
       ">        FractionBox[RowBox[{\"4\", \" \", SuperscriptBox[\"u\", \"2\"], \" \", \n",
       "\n",
       " \n",
       ">           SuperscriptBox[RowBox[{\"(\", \n",
       "\n",
       " \n",
       ">              SuperscriptBox[SubscriptBox[OverscriptBox[\"r\", \"^\"], \"2\"], \"′′\"], \")\"}], \n",
       "\n",
       " \n",
       ">            \"2\"]}], RowBox[{SubsuperscriptBox[OverscriptBox[\"r\", \"^\"], \"2\", \"2\"], \" \", \n",
       "\n",
       " \n",
       ">           SuperscriptBox[SubscriptBox[OverscriptBox[\"r\", \"^\"], \"2\"], \"′\"]}]], \"+\", \n",
       "\n",
       " \n",
       ">        FractionBox[RowBox[{\"24\", \" \", SuperscriptBox[\"u\", \"2\"], \" \", \n",
       "\n",
       " \n",
       ">           SuperscriptBox[SubscriptBox[OverscriptBox[\"r\", \"^\"], \"2\"], \"′\"], \" \", \n",
       "\n",
       " \n",
       ">           SuperscriptBox[SubscriptBox[OverscriptBox[\"r\", \"^\"], \"2\"], \"′′\"]}], \n",
       "\n",
       " \n",
       ">         SubsuperscriptBox[OverscriptBox[\"r\", \"^\"], \"2\", \"3\"]], \"+\", \n",
       "\n",
       " \n",
       ">        FractionBox[RowBox[{\"4\", \" \", SuperscriptBox[\"u\", \"2\"], \" \", \n",
       "\n",
       " \n",
       ">           SuperscriptBox[SubscriptBox[OverscriptBox[\"r\", \"^\"], \"2\"], \"′′′′\"]}], \n",
       "\n",
       " \n",
       ">         RowBox[{SubscriptBox[OverscriptBox[\"r\", \"^\"], \"2\"], \" \", \n",
       "\n",
       " \n",
       ">           SuperscriptBox[SubscriptBox[OverscriptBox[\"r\", \"^\"], \"2\"], \"′\"]}]], \"-\", \n",
       "\n",
       " \n",
       ">        FractionBox[RowBox[{\"11\", \" \", SuperscriptBox[\"u\", \"2\"], \" \", \n",
       "\n",
       " \n",
       ">           SuperscriptBox[RowBox[{\"(\", \n",
       "\n",
       " \n",
       ">              SuperscriptBox[SubscriptBox[OverscriptBox[\"r\", \"^\"], \"2\"], \"′\"], \")\"}], \n",
       "\n",
       " \n",
       ">            \"3\"]}], SubsuperscriptBox[OverscriptBox[\"r\", \"^\"], \"2\", \"4\"]], \"-\", \n",
       "\n",
       " \n",
       ">        FractionBox[RowBox[{\"12\", \" \", SuperscriptBox[\"u\", \"2\"], \" \", \n",
       "\n",
       " \n",
       ">           SuperscriptBox[SubscriptBox[OverscriptBox[\"r\", \"^\"], \"2\"], \"′′′\"]}], \n",
       "\n",
       " \n",
       ">         SubsuperscriptBox[OverscriptBox[\"r\", \"^\"], \"2\", \"2\"]], \"+\", \n",
       "\n",
       " \n",
       ">        FractionBox[SuperscriptBox[SubscriptBox[OverscriptBox[\"r\", \"^\"], \"2\"],\\\n",
       " \n",
       ">    \"′′′′′\"], \n",
       "      \"3\"]}], TraditionalForm]\n"
      ]
     },
     "execution_count": 132,
     "metadata": {
      "text/html": [],
      "text/plain": []
     },
     "output_type": "execute_result"
    }
   ],
   "source": [
    "(* Минус учтём сразу *)\n",
    "dEdr = Simplify[-dEdt/D[Subscript[OverHat[r], 2][OverHat[t]], OverHat[t]] //. OmegaReplace2];\n",
    "Expand[Simplify[dEdr]] // TraditionalForm"
   ]
  },
  {
   "cell_type": "markdown",
   "metadata": {},
   "source": [
    "<span style=\"color:brown\">**NB:**</span> Выражение для $dE/dr$ <span style=\"color:green\">**сопадает**</span> с выраженем для интегранта из binary_catch1.pdf, если учесть деление на $\\hat{r}_2^{(1)}$"
   ]
  },
  {
   "cell_type": "markdown",
   "metadata": {},
   "source": [
    "Из сохранения энергии следует, что\n",
    "$\\hat{E} = \\hat{E}_\\infty = \\frac{u^2}{2} = \\left(\\frac{(\\hat{r}^{(1)})^2}{2} + \\frac{\\hat{r}^2 \\hat{\\omega}^2}{2} - \\frac{1}{\\hat{r}}\\right)$\n",
    "\n",
    "Тогда можно найти $\\hat{r}_2^{(1)}$ в приближении Ньютона без диссипации:"
   ]
  },
  {
   "cell_type": "code",
   "execution_count": 135,
   "metadata": {
    "vscode": {
     "languageId": "wolfram"
    }
   },
   "outputs": [
    {
     "data": {
      "text/html": [
       "<div><img alt=\"Output\" src=\"data:image/png;base64,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\"></div>"
      ],
      "text/plain": [
       "FormBox[RowBox[{RowBox[{\"-\", \"2\"}], \" \", \n",
       "\n",
       " \n",
       ">        SqrtBox[RowBox[{RowBox[{SubscriptBox[OverscriptBox[\"r\", \"^\"], \"2\"], \" \", \n",
       "\n",
       " \n",
       ">             SuperscriptBox[\"u\", \"2\"]}], \"+\", \n",
       "\n",
       " \n",
       ">           RowBox[{\"2\", \" \", SqrtBox[SubscriptBox[OverscriptBox[\"r\", \"^\"], \"2\"]]}],\\\n",
       " \n",
       ">    \"-\", \n",
       "        SuperscriptBox[\"u\", \"2\"]}]]}], TraditionalForm]\n"
      ]
     },
     "execution_count": 135,
     "metadata": {
      "text/html": [],
      "text/plain": []
     },
     "output_type": "execute_result"
    }
   ],
   "source": [
    "eq = Energy - u^2/2 //. Flatten[{\n",
    "  ToR2Replacement,\n",
    "  OmegaReplace2,\n",
    "  D[Subscript[OverHat[r], 2][OverHat[t]], OverHat[t]]^2 -> x^2\n",
    "}];\n",
    "\n",
    "sol = Solve[eq == 0, x][[1]];\n",
    "\n",
    "x /. sol[[1]] // TraditionalForm"
   ]
  },
  {
   "cell_type": "markdown",
   "metadata": {},
   "source": [
    "А также $\\hat{r}_2^{(i)}$ для $i = 1\\dots5$"
   ]
  },
  {
   "cell_type": "code",
   "execution_count": 139,
   "metadata": {
    "vscode": {
     "languageId": "wolfram"
    }
   },
   "outputs": [
    {
     "data": {
      "text/html": [
       "<div><img alt=\"Output\" src=\"data:image/png;base64,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\"></div>"
      ],
      "text/plain": [
       "FormBox[RowBox[{\"{\", RowBox[{RowBox[{RowBox[{\"-\", \"2\"}], \" \", \n",
       "\n",
       " \n",
       ">            SqrtBox[RowBox[{RowBox[{SubscriptBox[OverscriptBox[\"r\", \"^\"], \"2\"], \" \", \n",
       "\n",
       " \n",
       ">                 SuperscriptBox[\"u\", \"2\"]}], \"+\", \n",
       "\n",
       " \n",
       ">               RowBox[{\"2\", \" \", SqrtBox[SubscriptBox[OverscriptBox[\"r\", \"^\"], \"2\"]]}],\\\n",
       " \n",
       ">    \n",
       "            \"-\", SuperscriptBox[\"u\", \"2\"]}]]}], \",\", \n",
       "\n",
       " \n",
       ">          RowBox[{\"2\", \" \", RowBox[{\"(\", \n",
       "           RowBox[{FractionBox[\"1\", \n",
       "\n",
       " \n",
       ">                 SqrtBox[SubscriptBox[OverscriptBox[\"r\", \"^\"], \"2\"]]], \"+\", \n",
       "\n",
       " \n",
       ">                SuperscriptBox[\"u\", \"2\"]}], \")\"}]}], \",\", \n",
       "\n",
       " \n",
       ">          FractionBox[RowBox[{\"2\", \" \", \n",
       "\n",
       " \n",
       ">             SqrtBox[RowBox[{RowBox[{SubscriptBox[OverscriptBox[\"r\", \"^\"], \"2\"], \" \", \n",
       "\n",
       " \n",
       ">                  SuperscriptBox[\"u\", \"2\"]}], \"+\", \n",
       "\n",
       " \n",
       ">                RowBox[{\"2\", \" \", SqrtBox[SubscriptBox[OverscriptBox[\"r\", \"^\"], \n",
       "\n",
       " \n",
       ">                    \"2\"]]}], \"-\", SuperscriptBox[\"u\", \"2\"]}]]}], \n",
       "\n",
       " \n",
       ">           SubsuperscriptBox[OverscriptBox[\"r\", \"^\"], \"2\", RowBox[{\"3\", \"/\", \"2\"}]]], \n",
       "\n",
       " \n",
       ">          \",\", FractionBox[RowBox[{\"2\", \" \", \n",
       "\n",
       " \n",
       ">             RowBox[{\"(\", RowBox[{RowBox[{\"2\", \" \", \n",
       "\n",
       " \n",
       ">                   SubscriptBox[OverscriptBox[\"r\", \"^\"], \"2\"], \" \", \n",
       "\n",
       " \n",
       ">                   SuperscriptBox[\"u\", \"2\"]}], \"+\", \n",
       "\n",
       " \n",
       ">                 RowBox[{\"5\", \" \", SqrtBox[SubscriptBox[OverscriptBox[\"r\", \"^\"], \n",
       "\n",
       " \n",
       ">                     \"2\"]]}], \"-\", RowBox[{\"3\", \" \", SuperscriptBox[\"u\", \"2\"]}]}],\\\n",
       " \n",
       ">    \")\"}\\\n",
       "]}], SubsuperscriptBox[OverscriptBox[\"r\", \"^\"], \"2\", RowBox[{\"5\", \"/\",\\\n",
       " \n",
       ">    \"2\"}]]], \",\", \n",
       "       FractionBox[RowBox[{\"2\", \" \", \n",
       "\n",
       " \n",
       ">             SqrtBox[RowBox[{RowBox[{SubscriptBox[OverscriptBox[\"r\", \"^\"], \"2\"], \" \", \n",
       "\n",
       " \n",
       ">                  SuperscriptBox[\"u\", \"2\"]}], \"+\", \n",
       "\n",
       " \n",
       ">                RowBox[{\"2\", \" \", SqrtBox[SubscriptBox[OverscriptBox[\"r\", \"^\"], \n",
       "\n",
       " \n",
       ">                    \"2\"]]}], \"-\", SuperscriptBox[\"u\", \"2\"]}]], \" \", \n",
       "\n",
       " \n",
       ">             RowBox[{\"(\", RowBox[{RowBox[{\"6\", \" \", \n",
       "\n",
       " \n",
       ">                   SubscriptBox[OverscriptBox[\"r\", \"^\"], \"2\"], \" \", \n",
       "\n",
       " \n",
       ">                   SuperscriptBox[\"u\", \"2\"]}], \"+\", \n",
       "\n",
       " \n",
       ">                 RowBox[{\"20\", \" \", SqrtBox[SubscriptBox[OverscriptBox[\"r\", \"^\"], \n",
       "\n",
       " \n",
       ">                     \"2\"]]}], \"-\", RowBox[{\"15\", \" \", SuperscriptBox[\"u\", \"2\"]}]}],\\\n",
       " \n",
       ">    \")\"}\\\n",
       "]}], SubsuperscriptBox[OverscriptBox[\"r\", \"^\"], \"2\", RowBox[{\"7\", \"/\",\\\n",
       " \n",
       ">    \"2\"}]]]}], \"}\"}]\\\n",
       ", TraditionalForm]\n"
      ]
     },
     "execution_count": 139,
     "metadata": {
      "text/html": [],
      "text/plain": []
     },
     "output_type": "execute_result"
    }
   ],
   "source": [
    "replacementRule = D[Subscript[OverHat[r], 2][OverHat[t]], OverHat[t]] :> x /. sol[[1]];\n",
    "\n",
    "(* Рекурсивно вычисляем производные *)\n",
    "dr2 = NestList[\n",
    "   Simplify[D[#, OverHat[t]] /. replacementRule] &,\n",
    "   x /. sol[[1]],\n",
    "   4\n",
    "];\n",
    "\n",
    "dr2 // TraditionalForm"
   ]
  },
  {
   "cell_type": "markdown",
   "metadata": {},
   "source": [
    "Заменяя вхождение **всех** производных в выражении для $d\\hat{E}/d\\hat{r}_2$, получим"
   ]
  },
  {
   "cell_type": "code",
   "execution_count": 141,
   "metadata": {
    "vscode": {
     "languageId": "wolfram"
    }
   },
   "outputs": [
    {
     "data": {
      "text/html": [
       "<div><img alt=\"Output\" src=\"data:image/png;base64,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\"></div>"
      ],
      "text/plain": [
       "FormBox[FractionBox[RowBox[{\"2\", \" \", \n",
       "      RowBox[{\"(\", RowBox[{RowBox[{\"6\", \" \", \n",
       "\n",
       " \n",
       ">               SubsuperscriptBox[OverscriptBox[\"r\", \"^\"], \"2\", \"2\"], \" \", \n",
       "\n",
       " \n",
       ">               SuperscriptBox[\"u\", \"4\"]}], \"+\", \n",
       "\n",
       " \n",
       ">             RowBox[{SubscriptBox[OverscriptBox[\"r\", \"^\"], \"2\"], \" \", \n",
       "\n",
       " \n",
       ">               RowBox[{\"(\", RowBox[{RowBox[{\"51\", \" \", SuperscriptBox[\"u\", \"4\"]}], \n",
       "\n",
       " \n",
       ">                   \"+\", \"40\"}], \")\"}]}], \"+\", \n",
       "\n",
       " \n",
       ">             RowBox[{\"32\", \" \", SubsuperscriptBox[OverscriptBox[\"r\", \"^\"], \"2\", \n",
       "\n",
       " \n",
       ">                RowBox[{\"3\", \"/\", \"2\"}]], \" \", SuperscriptBox[\"u\", \"2\"]}], \"+\", \n",
       "\n",
       " \n",
       ">             RowBox[{\"100\", \" \", SqrtBox[SubscriptBox[OverscriptBox[\"r\", \"^\"], \"2\"]], \n",
       "\n",
       " \n",
       ">               \" \", SuperscriptBox[\"u\", \"2\"]}], \"-\", \n",
       "\n",
       " \n",
       ">             RowBox[{\"75\", \" \", SuperscriptBox[\"u\", \"4\"]}]}], \")\"}]}], \n",
       "\n",
       " \n",
       ">       RowBox[{\"3\", \" \", SubsuperscriptBox[OverscriptBox[\"r\", \"^\"], \"2\", \n",
       "\n",
       " \n",
       ">          RowBox[{\"7\", \"/\", \"2\"}]], \" \", \n",
       "\n",
       " \n",
       ">         SqrtBox[RowBox[{RowBox[{SubscriptBox[OverscriptBox[\"r\", \"^\"], \"2\"], \" \", \n",
       "\n",
       " \n",
       ">              SuperscriptBox[\"u\", \"2\"]}], \"+\", \n",
       "\n",
       " \n",
       ">            RowBox[{\"2\", \" \", SqrtBox[SubscriptBox[OverscriptBox[\"r\", \"^\"], \"2\"]]}],\\\n",
       " \n",
       ">    \"-\", \n",
       "         SuperscriptBox[\"u\", \"2\"]}]]}]], TraditionalForm]\n"
      ]
     },
     "execution_count": 141,
     "metadata": {
      "text/html": [],
      "text/plain": []
     },
     "output_type": "execute_result"
    }
   ],
   "source": [
    "dEdrFinal = Fold[ (* Последовательно применяем замены *)\n",
    "  Simplify[#1 /.\n",
    "    D[Subscript[OverHat[r], 2][OverHat[t]], {OverHat[t], #2}] -> dr2[[#2]]] &,\n",
    "  dEdr,\n",
    "  Range[5]\n",
    "];\n",
    "\n",
    "Simplify[dEdrFinal] // TraditionalForm"
   ]
  },
  {
   "cell_type": "code",
   "execution_count": 142,
   "metadata": {
    "vscode": {
     "languageId": "wolfram"
    }
   },
   "outputs": [
    {
     "data": {
      "text/html": [
       "<div><img alt=\"Output\" src=\"data:image/png;base64,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\"></div>"
      ],
      "text/plain": [
       "FormBox[FractionBox[RowBox[{\"40\", \" \", SqrtBox[\"2\"]}], \n",
       "\n",
       " \n",
       ">       RowBox[{\"3\", \" \", SubsuperscriptBox[OverscriptBox[\"r\", \"^\"], \"2\", \n",
       "\n",
       " \n",
       ">          RowBox[{\"11\", \"/\", \"4\"}]]}]], TraditionalForm]\n"
      ]
     },
     "execution_count": 142,
     "metadata": {
      "text/html": [],
      "text/plain": []
     },
     "output_type": "execute_result"
    }
   ],
   "source": [
    "dEdrFinal /. u -> 0 // TraditionalForm"
   ]
  },
  {
   "cell_type": "markdown",
   "metadata": {},
   "source": [
    "<span style=\"color:brown\">**NB:**</span> Последняя величина положительна, что кажется странным, так как мы имеем дело с потерей энергии. Однако, $u \\equiv 0$ недопустимое значение скорости.\n",
    "А при скоростях отличных от нуля $d\\hat{E}/d\\hat{r}_2$ отрицальна при малых $\\hat{r}$, как раз при тех значениях где набирается основной интеграл $\\Delta \\hat{E}$."
   ]
  },
  {
   "cell_type": "markdown",
   "metadata": {},
   "source": [
    "$$\n",
    "  \\Delta \\hat{E}(u) = \\epsilon_G \\frac{4}{3}\\int\\limits_{\\hat{r}_2^\\text{min}}^\\infty \\frac{32 \\hat{r}_2^{3/2} u^2+6 \\hat{r}_2^2 u^4+\\hat{r}_2 \\left(51 u^4+40\\right)+100 \\sqrt{\\hat{r}_2} u^2-75 u^4}{\\hat{r}_2^{7/2} \\sqrt{\\hat{r}_2 u^2+2 \\sqrt{\\hat{r}_2}-u^2}} \\, d\\hat{r}_2,\n",
    "$$\n",
    "где при $\\hat{r}_2 \\ge \\hat{r}_2^{\\text{min}}$ выражение $\\hat{r}_2u^2 + 2\\sqrt{\\hat{r}_2} - u^2 \\ge 0$."
   ]
  },
  {
   "cell_type": "markdown",
   "metadata": {},
   "source": [
    "Полученный выше интеграл **компактнее**, чем тот, что рассмотрен в файле binary_catch2.pdf\n",
    "$$\n",
    "  \\Delta \\hat{E}(u) = \\epsilon_G \\frac{4}{3}\\int\\limits_{\\hat{r}_2^\\text{min}}^\\infty \\frac{24\\hat{r}_2^2u^6 + 48u^6\\hat{r}_2 + 120\\hat{r}_2^{3/2}u^4 - 96u^6 + 96u^4\\sqrt{\\hat{r}_2} - u^2\\hat{r}_2^2 + 133u^2\\hat{r}_2 - 2\\hat{r}_2^{3/2}}{\\hat{r}_2^4\\sqrt{u^2\\hat{r}_2 + 2\\sqrt{\\hat{r}_2} - u^2}} \\, d\\hat{r}_2,\n",
    "$$"
   ]
  },
  {
   "cell_type": "markdown",
   "metadata": {},
   "source": [
    "<span style=\"color:brown\">**NB:**</span> Однако, будучи аналитически взятым, будет полностью <span style=\"color:green\">**совпадать!**</span>\n",
    "\n",
    "Смотри подробности в файле binary_catch_integral.ipynb\n",
    " \n",
    "Там компактный интеграл назван $I_5$, а второй $I_4$.\n",
    "\n",
    "Выпишем ответ:"
   ]
  },
  {
   "cell_type": "code",
   "execution_count": 144,
   "metadata": {
    "vscode": {
     "languageId": "wolfram"
    }
   },
   "outputs": [
    {
     "data": {
      "text/html": [
       "<div><img alt=\"Output\" src=\"data:image/png;base64,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\"></div>"
      ],
      "text/plain": [
       "FormBox[RowBox[{\"-\", FractionBox[RowBox[{SubscriptBox[\"ϵ\", \"G\"], \" \", \n",
       "\n",
       " \n",
       ">           RowBox[{\"(\", RowBox[{RowBox[{RowBox[{\"(\", \n",
       "\n",
       " \n",
       ">                   RowBox[{RowBox[{\"673\", \" \", SuperscriptBox[\"u\", \"4\"]}], \"+\", \n",
       "\n",
       " \n",
       ">                     \"1275\"}], \")\"}], \" \", SuperscriptBox[\"u\", \"2\"]}], \"+\", \n",
       "\n",
       " \n",
       ">               RowBox[{\"3\", \" \", RowBox[{\"(\", \n",
       "\n",
       " \n",
       ">                   RowBox[{RowBox[{\"37\", \" \", SuperscriptBox[\"u\", \"8\"]}], \"+\", \n",
       "\n",
       " \n",
       ">                     RowBox[{\"366\", \" \", SuperscriptBox[\"u\", \"4\"]}], \"+\", \"425\"}],\\\n",
       " \n",
       ">    \")\"}\\\n",
       "], \" \", RowBox[{\"(\", RowBox[{RowBox[{SuperscriptBox[\"tan\", RowBox[{\"-\",\\\n",
       " \n",
       ">    \"1\"}]], \n",
       "                    \"(\", FractionBox[\"1\", SuperscriptBox[\"u\", \"2\"]],\\\n",
       " \n",
       ">    \")\"}], \"+\", \n",
       "                  FractionBox[\"π\", \"2\"]}], \")\"}]}]}], \")\"}]}], \n",
       "\n",
       " \n",
       ">         RowBox[{\"9\", \" \", SuperscriptBox[\"u\", \"7\"]}]]}], TraditionalForm]\n"
      ]
     },
     "execution_count": 144,
     "metadata": {
      "text/html": [],
      "text/plain": []
     },
     "output_type": "execute_result"
    }
   ],
   "source": [
    "DeltaE = -Subscript[\\[Epsilon], G]/9*(u^2*(1275 + 673*u^4) + 3*(425 + 366*u^4 + 37*u^8)*(Pi/2 + ArcTan[u^(-2)]))/u^7;\n",
    "DeltaE // TraditionalForm"
   ]
  },
  {
   "cell_type": "code",
   "execution_count": 145,
   "metadata": {
    "vscode": {
     "languageId": "wolfram"
    }
   },
   "outputs": [
    {
     "data": {
      "text/html": [
       "<div>&#36;&#36;&#45;&#92;&#102;&#114;&#97;&#99;&#123;&#92;&#101;&#112;&#115;&#105;&#108;&#111;&#110;&#32;&#95;&#71;&#32;&#92;&#108;&#101;&#102;&#116;&#40;&#92;&#108;&#101;&#102;&#116;&#40;&#54;&#55;&#51;&#32;&#117;&#94;&#52;&#43;&#49;&#50;&#55;&#53;&#92;&#114;&#105;&#103;&#104;&#116;&#41;&#32;&#117;&#94;&#50;&#43;&#51;&#32;&#92;&#108;&#101;&#102;&#116;&#40;&#51;&#55;&#32;&#117;&#94;&#56;&#43;&#51;&#54;&#54;&#32;&#117;&#94;&#52;&#43;&#52;&#50;&#53;&#92;&#114;&#105;&#103;&#104;&#116;&#41;&#32;&#92;&#108;&#101;&#102;&#116;&#40;&#92;&#116;&#97;&#110;&#32;&#94;&#123;&#45;&#49;&#125;&#92;&#108;&#101;&#102;&#116;&#40;&#92;&#102;&#114;&#97;&#99;&#123;&#49;&#125;&#123;&#117;&#94;&#50;&#125;&#92;&#114;&#105;&#103;&#104;&#116;&#41;&#43;&#92;&#102;&#114;&#97;&#99;&#123;&#92;&#112;&#105;&#32;&#125;&#123;&#50;&#125;&#92;&#114;&#105;&#103;&#104;&#116;&#41;&#92;&#114;&#105;&#103;&#104;&#116;&#41;&#125;&#123;&#57;&#32;&#117;&#94;&#55;&#125;&#36;&#36;</div>"
      ],
      "text/plain": [
       "-\\frac{\\epsilon _G \\left(\\left(673 u^4+1275\\right) u^2+3 \\left(37 u^8+366 u^4+425\\right)\\\n",
       " \n",
       ">   \\left(\\tan ^{-1}\\left(\\frac{1}{u^2}\\right)+\\frac{\\pi }{2}\\right)\\right)}{9 u^7}"
      ]
     },
     "execution_count": 145,
     "metadata": {
      "text/html": [],
      "text/plain": []
     },
     "output_type": "execute_result"
    }
   ],
   "source": [
    "TeXForm[DeltaE]"
   ]
  },
  {
   "cell_type": "markdown",
   "metadata": {},
   "source": [
    "<span style=\"color:brown\">**NB:**</span> Почему при малых $u$ значения $\\Delta \\hat{E}(u)$ безгранично растут?\n",
    "\n",
    "В задаче расчёта средней потери энергии на грав изулчение предполагается близость к Ньютоновской орбите.\n",
    "При малых скоростях, однако, мы видим, что первоначальная положительная малая почти нулевая полная энергия\n",
    "теряется, превращаясь в сколько угодно большую отрицательную энергию.\n",
    "Кажется, что мы сильно отклоняемся от близости к ньютоновской орбиты и не имеем право интегрировать вдоль неё.\n",
    "\n",
    "Однако, в нашей модели, когда одно тело налетает на другое из бесконечности, в приближении Ньютона возможны только два типа орбит:\n",
    "гиперболическая орбита и вырожденная гипербола (прямое падение).\n",
    "В случае малых скоростей как раз будет прямое падение."
   ]
  },
  {
   "cell_type": "code",
   "execution_count": 146,
   "metadata": {
    "vscode": {
     "languageId": "wolfram"
    }
   },
   "outputs": [
    {
     "data": {
      "text/html": [
       "<div><img alt=\"Output\" src=\"data:image/png;base64,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\"></div>"
      ],
      "text/plain": [
       "FormBox[InterpretationBox[RowBox[{RowBox[{\"-\", \n",
       "\n",
       " \n",
       ">           FractionBox[RowBox[{\"425\", \" \", \n",
       "\n",
       " \n",
       ">              RowBox[{\"(\", RowBox[{\"π\", \" \", SubscriptBox[\"ϵ\", \"G\"]}], \")\"}]}], \n",
       "\n",
       " \n",
       ">            RowBox[{\"3\", \" \", SuperscriptBox[\"u\", \"7\"]}]]}], \"+\", \n",
       "\n",
       " \n",
       ">         InterpretationBox[RowBox[{\"O\", \"(\", \n",
       "\n",
       " \n",
       ">            FractionBox[\"1\", SuperscriptBox[\"u\", \"3\"]], \")\"}], \n",
       "\n",
       " \n",
       ">          SeriesData[u, 0, List[], -7, -3, 1], Rule[Editable, False]]}], \n",
       "\n",
       " \n",
       ">       SeriesData[u, 0, List[Times[Rational[-425, 3], Pi, Subscript[\\[Epsilon], G]]], \n",
       "\n",
       " \n",
       ">        -7, -3, 1], Rule[Editable, False]], TraditionalForm]\n"
      ]
     },
     "execution_count": 146,
     "metadata": {
      "text/html": [],
      "text/plain": []
     },
     "output_type": "execute_result"
    }
   ],
   "source": [
    "Simplify[Series[DeltaE, {u, 0, -4}]] // TraditionalForm"
   ]
  },
  {
   "cell_type": "markdown",
   "metadata": {},
   "source": [
    "<span style=\"color:brown\">**NB:**</span> Отсюда имеем $|\\Delta \\hat{E}| \\sim \\frac{\\epsilon_g}{u^7} \\sim \\left(\\frac{r_s}{2b}\\right)^{5/2}\\frac{1}{u^7} \\ll \\left(\\frac{r_s}{2b}\\right)^{5/2}\\left(\\frac{b}{2r_s}\\right)^{7/2} \\propto \\frac{b}{r_s}$.\n",
    "\n",
    "То есть если уменьшать физическую $v_{\\infty}$ до нуля, при фиксированном $b$, то энергия не будет расти безгранично."
   ]
  },
  {
   "cell_type": "markdown",
   "metadata": {},
   "source": [
    "## Условия захвата\n",
    "\n",
    "На бесконечнос энергия объекта была $u^2/2$\n",
    "\n",
    "Если $2|\\Delta \\hat{E}| > u^2$, то гиперболическая орбита превратится в эллиптическую за один полный оборот,\n",
    "\n",
    "далее тело уже не сможет \"уходить\" на бесконечность.\n",
    "\n",
    "Из-за ограничения локализации точнее условие захвата поставить **нельзя**"
   ]
  },
  {
   "cell_type": "code",
   "execution_count": 149,
   "metadata": {
    "vscode": {
     "languageId": "wolfram"
    }
   },
   "outputs": [
    {
     "data": {
      "text/html": [
       "<div><img alt=\"Output\" src=\"data:image/png;base64,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\"></div>"
      ],
      "text/plain": [
       "FormBox[RowBox[{SuperscriptBox[\"u\", \"9\"], \"<\", \n",
       "\n",
       " \n",
       ">        RowBox[{FractionBox[\"2\", \"9\"], \" \", SubscriptBox[\"ϵ\", \"G\"], \" \", \n",
       "\n",
       " \n",
       ">          RowBox[{\"(\", RowBox[{RowBox[{RowBox[{\"(\", \n",
       "\n",
       " \n",
       ">                  RowBox[{RowBox[{\"673\", \" \", SuperscriptBox[\"u\", \"4\"]}], \"+\", \n",
       "\n",
       " \n",
       ">                    \"1275\"}], \")\"}], \" \", SuperscriptBox[\"u\", \"2\"]}], \"+\", \n",
       "\n",
       " \n",
       ">              RowBox[{FractionBox[\"3\", \"2\"], \" \", \n",
       "\n",
       " \n",
       ">                RowBox[{\"(\", RowBox[{RowBox[{\"37\", \" \", SuperscriptBox[\"u\", \"8\"]}], \n",
       "\n",
       " \n",
       ">                    \"+\", RowBox[{\"366\", \" \", SuperscriptBox[\"u\", \"4\"]}], \"+\", \"425\"}], \n",
       "\n",
       " \n",
       ">                  \")\"}], \" \", RowBox[{\"(\", \n",
       "               RowBox[{RowBox[{\"2\", \" \", \n",
       "\n",
       " \n",
       ">                      RowBox[{SuperscriptBox[\"tan\", RowBox[{\"-\", \"1\"}]], \"(\", \n",
       "\n",
       " \n",
       ">                        FractionBox[\"1\", SuperscriptBox[\"u\", \"2\"]], \")\"}]}], \"+\",\\\n",
       " \n",
       ">    \"π\"}], \n",
       "               \")\"}]}]}], \")\"}]}]}], TraditionalForm]\n"
      ]
     },
     "execution_count": 149,
     "metadata": {
      "text/html": [],
      "text/plain": []
     },
     "output_type": "execute_result"
    }
   ],
   "source": [
    "DeltaE2 = Simplify[DeltaE + u^2/2];\n",
    "uMax2 = Simplify[2 u^7 DeltaE2];\n",
    "Simplify[uMax2 < 0] // TraditionalForm"
   ]
  },
  {
   "cell_type": "markdown",
   "metadata": {},
   "source": [
    "<span style=\"color:brown\">**NB:**</span> Условие захвата, <span style=\"color:green\">**совпадает**</span> с условием из файла binary_catch.pdf"
   ]
  },
  {
   "cell_type": "markdown",
   "metadata": {},
   "source": [
    "<span style=\"color:red\">**TODO:**</span> Сравнить условия захвата при $u \\rightarrow 0$ с другими авторами"
   ]
  },
  {
   "cell_type": "code",
   "execution_count": 150,
   "metadata": {
    "vscode": {
     "languageId": "wolfram"
    }
   },
   "outputs": [
    {
     "data": {
      "text/html": [
       "<div><img alt=\"Output\" src=\"data:image/png;base64,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\"></div>"
      ],
      "text/plain": [
       "FormBox[InterpretationBox[RowBox[{FractionBox[RowBox[{\"850\", \" \", \"π\", \" \", \n",
       "\n",
       " \n",
       ">            SubscriptBox[\"ϵ\", \"G\"]}], \"3\"], \"+\", \n",
       "\n",
       " \n",
       ">         InterpretationBox[RowBox[{\"O\", \"(\", SuperscriptBox[\"u\", \"1\"], \")\"}], \n",
       "\n",
       " \n",
       ">          SeriesData[u, 0, List[], 0, 1, 1], Rule[Editable, False]]}], \n",
       "\n",
       " \n",
       ">       SeriesData[u, 0, List[Times[Rational[850, 3], Pi, Subscript[\\[Epsilon], G]]], 0,\\\n",
       " \n",
       ">    \n",
       "     1, 1], Rule[Editable, False]], TraditionalForm]\n"
      ]
     },
     "execution_count": 150,
     "metadata": {
      "text/html": [],
      "text/plain": []
     },
     "output_type": "execute_result"
    }
   ],
   "source": [
    "Simplify[Series[(u^9 - uMax2), {u, 0, 0}]] // TraditionalForm"
   ]
  },
  {
   "cell_type": "markdown",
   "metadata": {},
   "source": [
    "## Поведение $\\hat{E}_1$ в зависимости от начальной сокрости $u$ и параметра $\\epsilon_G$\n",
    "\n",
    "$$\n",
    "\\hat{E}_1 = \\hat{E}_0 + \\Delta \\hat{E}\n",
    "$$\n",
    "\n",
    "$\\epsilon_G = \\frac{2}{5}\\frac{\\mu}{M} \\left( \\frac{r_s}{2b} \\right)^{\\frac{5}{2}}$,\n",
    "где $r_s = \\frac{2 G M}{c^2}$ - сумма радиусов Шварцшильда двух тел.\n",
    "\n",
    "При прицельных параметрах $b$ сравнимых с радиусом Шварцшильда, $\\epsilon_G$ не мал (смотри $\\epsilon_G = 10$)\n",
    "энергия всегда отрицальна при скоростях $u < 100$, то есть тела уже в захвате.\n",
    "\n",
    "Если прицельный параметр много больше, чем $r_s$, то есть $\\epsilon_G$ мал,\n",
    "то существует такая скорость $u < 100$, при значении которой (и меньших скоростях) происходит захват."
   ]
  },
  {
   "cell_type": "code",
   "execution_count": 151,
   "metadata": {
    "vscode": {
     "languageId": "wolfram"
    }
   },
   "outputs": [
    {
     "data": {
      "text/html": [
       "<div><img alt=\"Output\" src=\"data:image/png;base64,iVBORw0KGgoAAAANSUhEUgAABAMAAAGyCAIAAAAecpoOAAAAynpUWHRSYXcgcHJvZmlsZSB0eXBlIGV4aWYAAHjabU9bDgIhDPznFB6hL6ZwHNbFxBt4fIugBuMkdIbpK039cb+ly4AwJcteUAEKWLUqLUShiclM9RUnlGy5m58OmZJbcP4m0CfzsfuOyVJ+BpGsRWNDaLXVsAapTJ/b/B+rXlop+yClDfUt+P/f1AUZ7BbRhNxRQ5cUMghZKDtuuAJRyDiF7Brc4R5t8FGhbTQOSPe9uidoGOc4QcfL2oI1omiJVlb7OJGX46PHOU9QIFqy/OnxCgAAAAlwSFlzAAAWJQAAFiUBSVIk8AAAADx0RVh0U29mdHdhcmUAQ3JlYXRlZCB3aXRoIHRoZSBXb2xmcmFtIExhbmd1YWdlIDogd3d3LndvbGZyYW0uY29tXKKmhQAAACF0RVh0Q3JlYXRpb24gVGltZQAyMDI1OjAzOjI4IDE0OjAzOjAyLWmIJwAAIABJREFUeF7snQd4k9X3x9+sJk2696DQAZS99wYZCjJEQRE3Ki7cCu6J/nH+XLgniiAoIigoU/Ze3VBKW7r3yJ7/b3hrCGmapG2aJul5nz550uS+9577uW/hnHvP4BgMBoYuIkAEiAARIAJEgAgQASJABDoYAW4Hmy9NlwgQASJABIgAESACRIAIEAEjAbIE6DkgAkSACBABIkAEiAARIAIdkQBZAh1x1WnORIAIEAEiQASIABEgAkSA4ylxAocOHUpNTW1qwTgczsKFC0UikUWDbdu2ZWVl3XnnnRKJhBabCBABIkAEiAARIAJEgAgQARMBj7EEVq9e/e+//9pYubfeeiswMNC8wbFjx7788kt88uabb4aEhNCqEwEiQASIABEgAkSACBABIuCplkCXLl0mTpxodf2GDh3K5/PZr3DQsWfPnnXr1mk0GrIE6HEnAkSACBABIkAEiAARIAKNCXjYmcCwYcMWLVpkeyHLy8u///77c+fOmZrRmQA9+kSACBABIkAEiAARIAJEwIKAF0YMHzlyBGYAzgduuukmHo9HS04EiAARIAJEgAgQASJABIhAYwJeaAkgOHjs2LGvvPIK/IgQSUyrTgSIABEgAkSACBABIkAEiEBjAh7mHRQeHt67d+/G0+jZs+eAAQMaf/7AAw/odDryDqJHnwgQASJABIgAESACRIAIWBDwsDMBxADstnYhVSgtLREgAkSACBABIkAEiAARIAKOE/CwM4FOnTqNGjWq8fSQU6hr1650JuD4wlNLIkAEiAARIAJEgAgQgQ5OwMPOBGJiYq6ydlk1Azr40tL0iQARIAJEgAgQASJABIiADQIeZgnQWhIBIkAEiAARIAJEgAgQASLgFAJkCTgFI3VCBIgAESACRIAIEAEiQAQ8jICHWQJ6vR65gKxeqCvsYexJXCJABIgAESACRIAIEAEi0H4EPCxi2AYo1BFDAQGLBpRFtP0eLRqZCBABIkAEiAARIAJEwK0JeMyZAJfbElHZGsMtu9et142EIwJEgAgQASJABIgAESACrSPgMWcCrZsm3U0EiAARIAJEgAgQASJABIjAFQRastFOCIkAESACRIAIEAEiQASIABHwdAJkCXj6CpL8RIAIEAEiQASIABEgAkSgJQTIEmgJNbqHCBABIkAEiAARIAJEgAh4OgGyBDx9BUl+IkAEiAARIAJEgAgQASLQEgJkCbSEGt1DBIgAESACRIAIEAEiQAQ8nQBZAp6+giQ/ESACRIAIEAEiQASIABFoCQGyBFpCje4hAkSACBABIkAEiAARIAKeToAsAU9fQZKfCBABIkAEiAARIAJEgAi0hABZAi2hRvcQASJABIgAESACRIAIEAFPJ0CWgKevIMlPBIgAESACRIAIEAEiQARaQoAsgZZQo3uIABEgAkSACBABIkAEiICnEyBLwNNXkOQnAkSACBABIkAEiAARIAItIUCWQEuo0T1EgAgQASJABIgAESACRMDTCXiPJbB48WJPXwySnwgQASJABIgAESACRIAIuIyA91gCLkNGAxEBIkAEiAARIAJEgAgQAS8gQJaAFywiTYEIEAEiQASIABEgAkSACDSbAFkCzUZGNxABIkAEiAARIAJEgAgQAS8gQJaAFywiTYEIEAEiQASIABEgAkSACDSbAFkCzUZGNxABIkAEiAARIAJEgAgQAS8gQJaAFywiTYEIEAEiQASIABEgAkSACDSbAFkCzUZGNxABIkAEiAARIAJEgAgQAS8gQJaAFywiTYEIEAEiQASIABEgAkSACDSbAFkCzUZGNxABIkAEiAARIAJEgAgQAS8gQJaAFywiTYEIEAEiQASIABEgAkSACDSbgFdZAosvXc1mQDcQASJABIgAESACRIAIEIGOR8CrLIHPL10dbxFpxkSACBABIkAEiAARIAJEoNkEvMoSaPbs6QYiQASIABEgAkSACBABItBRCZAl0FFXnuZNBIgAESACRIAIEAEi0LEJkCXQsdefZk8EiAARIAJEgAgQASLQUQmQJdBRV57mTQSIABEgAkSACBABItCxCZAl0LHXn2ZPBIgAESACRIAIEAEi0FEJkCXQUVee5k0EiAARIAJEgAgQASLQsQmQJdCx159mTwSIABEgAh2JQM6586fOnOtIM6a5EgEiYIsAWQL0fBABIkAEiAAR8GYCJaWVG9dtfPuzbY9+U7ricNJPRwXePFuaGxEgAs0hwDEYDM1p775tUV2Yyoq57/KQZESACBABIuBCAjV1slNnctLyVRdUMfWCGIuRX5tSGREZ6kJxaCgiQATclACdCbjpwpBYRIAIEAEiQASaRUCmUB88mvnVumPPfHNh6Ubxz7l9z+iHNDYD0OfBw9nN6pkaEwEi4K0EyBLw1pWleREBIkAEiID3E1Br9KfOnP/ht6PPf3P2ifW877J6HFUNqfJJYDgcq5Pn62TRtft0co33o6EZEgEi4AAB8g5yABI1IQJEgAgQASLgNgT0eiYr++KZs2VZFb7F3CQ9V2hbNK5eHSpLC68/GSqr6FRbE6PKTlj2mqBLsttMiAQhAkSg3QiQJdBu6GlgIkAEiAARIAIOEkBMX25+6emMwswyQYEhQcPzs3OjQR8szwqW5YfIKjvX5Mcqs8JVZ3mGhqMA8XX3ia+9y8GhqRkRIAJeTIAsAS9eXJoaESACRIAIeDaB4tKaU6l5GSWGPE1nJT/E7mQCFOdDZBeCZNWxdYVx8nORyjQfvdx0l1rAzYnQy7olTZmzkusfbLc3akAEiIDXEyBLwOuXmCZIBIgAESACnkSgqlZ+OuVCeoE6Rxkj5UfaFV2iKgyRnvVXSP3kTKSytEftn0HaQvO76oJEGeHK85FMQShj4HK4HN6LU/6S+ATZ7ZkaEAEi4PUEyBLw+iWmCRIBIkAEiIC7E5DK1adTL6Tnyc7Lwqr5ne2KK9RUhEkzA+RVEdKKuPq8EM2FcGWmeQ4QA59fFu2fElJ7LlJfJ7GMHp7bd+nILnPtjkINiAAR8HoCZAl4/RLTBIkAESACRMAdCajU+tSM3NScmuzawDIesv3YyeYn0NWHStMC5OWh0rq4+otRqoww5TkeozWfm94/oLhz4PHAsnOhKi3fevqg+OD+45MW9oka745QSCYiQARcS4AsAdfyptGIABEgAkSgAxPQ6ZmMcwUpZ8vOVUuKmQQ918c2DK5eGSZLD5QXB8pknepKolSZkcp0c9d/9nZ9p4SCOL9DAfkXxHVNddgpsMeAmKn9YyYH+dr3OOrAS0RTJwIdiwBZAh1rvWm2RIAIEAEi4GICSPtzPq/sTGZRVrlPgSFeyxXbFoBj0IbIM4NkF/3lymhpRbTiXJQiRaKrtLzLR8hNHggDYL/4fI4ut6k+wyVdBsZOGxAzJdzPvtORi8nQcF5PoLa2tqCgQK1W9+jRw9fX1+vn64kTJEvAE1eNZCYCRIAIEAF3J1BQUnM67WJmCZOn7aziBdoR12AIUpwLluX6KRXh9bUxigtRytQgdV5j/x5uUDi/36jSLqEHhefSqg7qDTqrPQeIwqH9D4q9OjaQ6ga44lGprKzs1auXIyNdd911n332mSMtW9Dmu+++W7p0KW48cOBAUlIS3sTFxUERv+OOO1asWNGCDlt2y6FDhyDJunXrqqqq2B64XG63bt369ev38MMPjxkzpmXdtv4ug8EwadKkPXv2QLa5c62EyuTm5r722mughzcAOHr06Hnz5k2ePLn1Q7ttD06wBOrr65955plx48bNnz/fYp7p6em///57UVFR3759J06c2L179+Y20Gg0a9asOX36tEgkGjVqFNYPb6zSXLx48eeff+62oEkwIkAEiAAR8HoCFdXyU6m5GYWaC8oYGT/c7nz9lPmhsnN+ClmwTBEjv4ikn+ZZ/81v53fp4dN/bF3XhKNM6vHCrTJ1tdXOhXxJv+hJg2KnJYYORpYguwJQA2cRKCkpiY6OdqQ3aJa//PKLIy1b0Objjz9esmQJboQC1rNnT7zh8/k6ne7ee+91jY6kUqmg63/xxRdNCc/j8Z599tkXX3wRgrVggq28BeNC0Ucna9eubay17tq1a/r06Uql0nwU2DCYzqJFi1o5tNve3lpLANbVnDlz/vjjDyz8Bx98YD7PVatW3XnnnXj+2A8FAsEPP/xw0003mdrYbYDFGD58+JkzZ0y3wI7cvHlzYKCVzRWyBNz2ISPBiAARIAJeTKBOhrQ/uen58vPy8FperN2Z+qrLQqUZ/oraADUTVVeEvX8YAEK9zMqNPL6gxxCfgeN0vQeelp84enFzYW2m1f45DDc5YuSQTtN7RY4V8OyUHLYrITVoAQGTJRAfHw9t0kYPQ4cOxQ59C4Zw5JaVK1c++OCDaJmZmZmcbDwOcqUlgMOH8ePH40CAFRVb6djDxV5wQEBASkrK/v37N2zYwH61YMGC1atXOzIjZ7XRarUvvfTSG2+8wXbY2BIoLCzs3bs33Jmg+j/22GNjx47NyMh46623qquNVvdvv/2GwxxnCeNW/bTKEgAvGADQ7zElC0uguLgYx2Qymey9996bMGHCX3/9BRMQZsOxY8cGDhyI9nYboM2yZctwmAXtHyuBw4EnnngCt8PwMD1J5ijJEnCrB4uEIQJEgAh4MQGFCml/8lIv1GbXBVVwuzAc61l6TAR8tLVh0tQARaVEzY/UKiOrj0QqUv21ZVYRccT+Pv1G+wwYJ+gz8oIs80Der2mle3T6hvLAFrdE+CUMjZsxKHZ6gCjUi4G7/9RMlsANN9wAz5P2EhiKFrsDa9pxd6Ul8Pzzzy9fvhyjh4aGwiZpvOmOjWPsEcNlCNo29OzGriJtxO3kyZN33XXXqVOnTP03tgQef/zx999/Hw2+/fZbk6kGAwY+LzU1NTBpYMm0kXjt223LLQHszd93330wodgJWFgCsPbg1QPtn30mcL3wwguvv/46VuLrr7/Gr3YbpKWl9e/f38fHB39dsCZxCwyPTp06yeXy8+fPw+a2AEeWQPs+STQ6ESACRMC7CWh0TMbZwpTs8myk/eEkGDh2fBt4OkWYLCVQXipW8cIE4sj6lMiK/SHqCxzGYBUUNzQa2j9OAATdByr1yuMFfx3M+7VMmmu1sYjvhzCAoXEzOwf39m7snjI7p1gCUOKlUqlVxwdzDvDAwfaon5+fI3DsWgJQc6FlQTV3pDfs+mNzXSy2EvV+9uxZ7KnjW4yIfVuocFY7hHIIDRBf3XPPPTaciBwRxsE2OAfAaQAEQ3tolZgC3lhYAnq9PiQkBHpmTEzMxYsXzWk89NBDn3zyCW6BOTFgwAAHB/WgZg4tvNX53HLLLTAD4LiPIAGLBgD6559/4sPbbrvN9NXtt9+O93gC8KDbbYCWW7ZsQUucALBmAC78beBX3Pvzzz97EGISlQgQASJABDyUgF7PnM0tX7815Y0fMx/5SfnJ8dg9tQOKuN2aMgM4ek2Y9FTX0j/75W0aXXFmgqZ8atmu6y68OTHr6V5Fq0LVOY3NAAQAiOfcG/TyTyFvbfS7+YnymIBf0956bfuMjWnvNjYDOAyne/jwhQNfQ5Hg6/sta4EZYNCpPHQtvFLsadOmjRgxAmEDcJ2YMmVKcHBwUFAQVFJsnOfk5FhMGZ9Ae+7SpQsUcX9/f+yNTp061SLkAE4s6BAX1FnbxDAiAjjDw8MxKHobNmwYfOhhY5jftX79enQFZyeoXtjYRfgsVDI0htMH/GcUCoV54x9//JHVtuHB0ZQZgG8RJpGYmIg8QuXl5a5ZUyj9rGDYs8ahhNVBEVYBMwBfLVy40MIouvnmm9lbwNY1Art4lJZbAvDgxyOyfft22E8WQmPPHmHEUNxZHzX26tq1Kx5udkffbgO0h+2FVzya5p2zv+KwxsWYaDgiQASIABHoOATyi2s37Uh7+6f0R1bVv7svfFtF3zymh45rPV8FY9AHyzMSy7b0zd84vPTkOBF3irBydvm309KX9DvzSnTlPr6hkfLN4fK7D5QseDz4rT+CXvxBPPNuQ0znYxf//Gjfov/tve1w/kaN7oqYRZAPk8RdnXzfs1dtvGf4hwNip7YsGECT/ats/Xh9raWK2XFW1t1meuTIkcOHD7/55puzZ8+GQgXdCRLCMR2Jd6CmV1RUmASGZg83la+++io/Px96OT7Hbuy2bdtuvPFGeFuYmiFHCzrEhbOFpiaLbdbrr79+xowZu3fvZoeAbnb06FGE0g4aNCg1NdV0I4ZAV/v27UOQJzx/kFEHpgJGh2PP//73P6hkcAI3NTbt0t566602OCNiGOPCQciqp3dbLBCHw5k1axYmiHDWprLO4BCDHRpRHBYymBRRWAttIV6799lyS+Dvv//GkwS+jefAJo0KCwuz+AqWAD6BFWi3AZpZbWPqod3BkQBEgAgQASLgTQRKqxT/7M38YE3qo99XL98RuLm4d7ahl5rn39QcAxQ58RX/9Ln4++D8faMkfld1iZgVnDMrb9ngvXd3OvmxqL7Ayo18gaDfGL87ng95f2vQ0s99J9/EC42qkBVsTv/w9e3Xrj39an7NZSWMvZ3L4fWLvuq+ESuXTlx/Vbc7W1wUzKCuV/z7sHL/MoOyUrHnMUMTUQfetKDtNRcoytiBbuoypVExFw/+62j/wAMPwC8a6ibcUfAtNH5o+ab2iJxk/bGfe+45tIfmCvshNtYYoQ6/dnMPeLsTf/XVV9nt7cjISPjnHD9+fOPGjWyiTIwOpZ/dQTddsE8Q+YBtX2jS8NfAuAgDwLewGXAOwDZDm+zsbLzBZj9KB9iWAYlNm9LI7QrfggY7d+7EBIcMGWLjXpPR1Vh3hbMTjkFwLwojtGB097+l5ZaAjbmxNmJjRzecQOFzmJ52G6CZ1TamHqyOjlABi8v9F4AkJAJEgAgQgfYiUCPV/Hs4+9N1Z578vvTFv3x/zeuRru2j4Bn/q7J6iVVFnSt39CrYMCBn21CGM753v2sHh88P2zH6wG3xf90vPvazQWFlI5YjkvgMm+J/3xuhH2wLfOQ90dhZXP8g9J9ZduDLww+v2HX9vzk/yTWWtYEDRRHTkhc/d9WmWwe/kRQ2uDWIdBUpsk2ztLlb2E70VenqE8bISM+6NDq9QqNz5Y9Wbz2iwzY3KNlIltjUZXJ4tujk6aefhjM6vG6Q+vOjjz5C9CoaQIXFIQDb8t9//8Ur4lYRcgnfm8GDB8M2wMY8+61JI7e7ptDX0QOaQbOH/QB3I5wDYMsc27vsXj6sETZw1vyCfoxEjvCuufrqqzGuyU/GtK9v0pKRKQi7/nbFcKQBDCH4Stm+EJlgtyt2E9n2xboG4WKNHIuL7QHqq71uPPL7lkcMm6bLJq81jxjG+RGcyZAj6MSJE+ZUEGmBygBI14qIDdsNkG4I3m849oIZhwfU1AmqEyCLE3JU4WjJgjdFDHvkA0hCEwEiQARcS0CuMpzJyEu7UJddF1LF62R3cKGm0pj2R14tVAvFAUlxSQGd4gSRsjOcM9vUZ/Yzqitcpc174/gF+gycIBw8UdBzKIcvMH2l02tPFW3bfX5VSf15q6MjEmBkl+t7RY7BgYBd8ew2UJ9dqzr8CmN+CMATCYe94NPdsgSQ3a7at8Hbe/I2ZV72lnGBME+O7Tyrp/2iEKwkDtYTwF64uXs99jcRsItX1LEyNxJQpwyZUeDhgyQ22PJH/yjLBSU+IiICnu5wzzZNHz5FnTt3RmNoVvjQbj2BL7/8ErUF0PLTTz9F3hdzjKWlpailhX1YmBmstwwOAR599FG8QQrHp556yrwxlGN4MZlaQiuDOxMawJxgU0qaXzhwYB2fkNrI9Io333zzDSyHppbymmuu2bp1q+2FRg0HOEQ5/jDAoIKGifYWEcOwxN5++218jmCMhIQEiw5Z9RVw2HMPL7va5EyAjRwwFZYzIWM/wVmB3QZoZrWNqQcvWwaaDhEgAkSACLQdAbWWOZVR/OOmlJd+uPD4L/pvU+OPyPrZMAP4Oml07cEexb8PyN3cu6RwcETXSZPG33Tv+AUTyoYWrwz94nrN10vVR7dbNQM4ASGiCXMDnvgYLkD+dzzn03eUyQxQ65T7Lqz9v13Xrzn1cmMzQCwIGJ+4cOnEXxEJ0CdqfOvNAINeqzz0kurg8+ZmADekl2TmHx5nBrTds+H0nrGp/39NX6Z89ubjYuvT4qwAO9NsynWT2w824/FrWVkZQnhxJoBCwiiUCzceKNnIxcmaAY5ce/fuZZvBwduiPZyF2Oq/yAJk8VWfPn0sPmFTOCKFEfs5du7ZN1bjE+CAhIgIXHDWxwUzg70aK4rmo8AKesXehQMKR2Ztt40pG5KFZxR7I3saAMcnu/14YoM2sQTYMntwumKDWtgLvm6wcfEGbm12G6AZawnAQjXHir8BtgdPZE0yEwEiQASIgMsI6PRM5oXKX7amvv7juUdWqz89Hr23tm8JF9k/rW+0c/WqiPpj3Us29s/d2Ccvo49v7KihY2bfdtXdT/Wa0rcwIW2l/vWZdR8+rjq01aC04iTACQwVTbwh4KlPQ979y+/WZT69hnG4lweSqWv+yfpy+faZG9Peq1GUWEDoHNTnxv4vPj9587W9Hg6T2D+mcIShMTBg212arCuKNwl63Caevo4baLnl6UiH1MZBAvBXgZre1IWUO437QTqgxh/CmR4fwleH1baRuod15ccFRx1s0sM/AkcE2INvrLjbEJVNSQTFF1mDGjdj9Xvs36Pok/m3rDDmF6s6s3v8uJDIiH1jNWcRopOvNbscLCMA7yCkM7J9wSHFwXWx3cyU/MaqccJ+2JRnl1MEaMdO2sQSEAqF7AGTuQ8PnIJgVOEhw4NrtwGIwFsOr2w2UtOFIgZ4b34u1o7saGgiQASIABFwKwJQSy4U1W/cnrFiddbDP8rf3x+6o6LPRaabnmt9x5Rj0IXKznQt29wv77d+F45104YO7jli2g2T7np60PV3xg2KLQzY+3HNU9fWvfuQau9Gg9zo3mBxcYMjRJNvDFz2hdEAuOVpnx6DOVfmZa+SF/2e+s7y7bO2nfvKIhgAhYH7x0x5ZOz3S8Z8PSRuRsvSAVnlr5eXybfcqCs5ePlbvlg0/kPR8Bc4PEc3j91qZSGMgMcR8bmu/OFz7RSMcxYiBBU01ZUpLwvUUOT9REUm5PQ0bU7DPwcRAkh3Y9eLxtQ/q8FbTfeCz00u/haRzXbPHBBIwMbawi3cworAhxByk9m1aNEiZ6FzVj82LAFYO/DgwkCmcw9nDeom/bRJnADmhigWGL44zIJDGx5xWLSwBv/55593332XjYOx2wCZqmAl4xAA5gQyZ+EWvEH5AhwIwERubJlRnICbPFIkBhEgAkTAxQSKKpVn0vLTi3S56lgVt6EETZMyGAxBirMhsvMShZyvCeX6xsXG+3ZOlHROFAeGGLVkbW6G6sg/qiPb9NXWawCjDTco3GfoZOHQyfzEPk0pVUV153Zn/3C6eIfeYKz5an7xucKhcdfCFyhU4vwjbn19vvyf2w3Sy3lOOH6dfCd9xgu+nNfbxQvUEYZrWWUxNk7Aao0taD7w5EE4L1xrLAAi0gC7q9D+kdIH4+JbUzO7cQIYi41CRoxsY1Vq5syZ7JYrdDBo/6Y4gaysLIuNfPgRoeYuvPxxQMGKZ6rAhYhkJDiyseg40MCZCavX4WSjqZbwjLJwDGncEobN2LFjHX/AmooTgAGDmAf0A4APPvigeYcI4WAjBxApAckdH8tTWrbJmQAmf/fdd2PvH48pIoPhxYVXmAHIycqGnjjSAOcGsBlgiiFkBEEtuGAH41fEuHjrAY2nPDQkJxEgAkSg3QlU1Wt3Hs75eF364z9UvrJFtCG/e5a2pw0zwE+Z36USST/XD7rwT+dSQ1Jgn6GjJ8y+a8TdTybNmB/bd0iQn75SvvmbqmdvqHntdsXfP1k1Azh+QYgBCHz6s+B3Nvvd9Jggqa9VM6C0Puf7Y0vf33PLyaJ/LMwAX4H/VV3vfO6qjXP7Pt0mZkBdrnzrzeZmAC98kHjGr2QGtPsTa0MAONBbfFtXV8dq2Kx6iqBYxLNiK33Hjh34FWcC0Ig+/PBDBLCy/tIowWRefMDGWIg8Zr9lkxGZX3DcYCXBBrndQ4DGQ8Ctn/0QdQkQX2tDBlN0ge1FQeFabCjbvuBB5JSVRc0r9rTEolKb+Sfe6pDiBEuALcZmUZINRbBRjQLUEBqyYsUKvMIMWLVqlamZ3QboE6Hc77zzDv6d/fzShTfwk8PZglNWnTohAkSACBABzyJQrzQcOHnxiw3pS38ofmYjf+25xBRVLxnXStY/dl6+6tK4qp29C9YPytmcWFQfy+3ap9/YyfNG3f1Utxvu6jx8fFh0nC+jlCn3bqxZsbh66Wz5hs/0pfmNmXB8JcLR1wY89kHIe8YYAEHyoKbOAarkhWtOvfLuvzenluy26AdZQWf2euS5q/64usd9fsImE5W2ZkX00gL537cY5Jfj6/hxV/lO+4Ersp9FsTXj0r2tJAC9Gb4z5p0gjyeb15LNgg8/dWhEyLSDbWmTaz4+l0gkrCWAlESmmFfbwsC3gn164X9vER2LEwA2GnPOnDktmBFEZXfTcZ6AUaxW5MWknnzySRQ0aEH/bXoLtphZSwbnMOYVxJRK5ffff4/PUVLAFKfRppK4vnMneAfZFhpObKgojID0xuEm7I12GyDsGNEwarXaZLFZHZG8g1z/9NCIRIAIEIG2JqDUMGnZpSnZldk1/uVMJzg42x7RR1sTJk0JlJeKVAK9IZ4nFHeKF8ddcv4JCr3sIm/QaTWph5QH/1Kf3MNo1db79BH5DBgrHDbVp89IjsCOe32tsnzHuW9QHrixL1CkX8KEpFsHxk7jcflth0uvrJT/daOhPs80BD9pjmjU/5kHLrfd6NSzyTsoOTl5wYIFtoFArWd9/VnvIFbRRH5P5EmH6onN/pdeegn0hNlJAAAgAElEQVTKD6oHoKQAXCTQAIHIrIZ6//33L1y4EBmE4MqPygNQrPEhvHrgjI03dr2D0AYqL6vdwsPns88+Q1gmErrADMBmK8wMmBbQhll/mGZ5B6E9hIevjqleL5JvYs8eyZRQnAuuPvDAYasLs3AwI0Q+IAVqU6wQb4CzETt/7z4+jZN+2rilKe8g3IIDFqwdsEdFRSHHKOCguBvOYbAE+BZLhn1tr3zO29wScBk1sgRchpoGIgJEgAi0KQGNjjmbV30mq/RspbDYEGfg2FGgeTpFuOx0kKxQpEIMcJyeGxgRLeycJIlLFEd18uXxrjAeEAYAA0B1+B9DfbX1WfD4Pv1GGw2A/mM5QpHdmaq08l3ZP/ybs1qrV1k0jgvqNbnbop4Ro5s6Q7DbuYMNDFqFfOtCfWWKqb2g6zzhqOVtPa6D4nWEZg7WE2BRQMeFuok3JkvAhAiuE2zeRSi48K0wZfjBeyTCh6rNtsQJALbe2bhe6O44UmCzjjpiCcD5HtvbqBDMdoUoYVN8MKSCrmwKCWiuJYDeICFcu+HIbWPRMWtkB4VJAwvBxc+GDUsAksAfCQlgWZFggIEw+x52F+wByiLq4sWi4YgAESACRKADEYDyk10o/XX72TdXn3/kJ9WHB4J3V/YoYpD007quwNFrwutPdC/dMCB3HdL+hFeGBAkGdu8/asoNPRY9kTT/7i4jJobFdhGbzAB9fbX87x+rn78RYQDK7WutmgH8pL6SW5aiDkDAQ28Lh02xawboDfoj+RtRJHhH9rcWZkCkf+LtQ1Y8POZbFAhzgTqu3Pe0uRnAT5hJZoCL/3iaVVjXwqF6/vz52HJm3XtYM2DKlClbtmwxT/QJd2uUWx05ciQ7L/j0Q32HozUSdGIPnjUDWLXe6htz8eCmgVsQw4n6TmjMmgEQCWGZCEQ2jww2ydl4duwnjT+Hn9LKlSsPHjyI0GS2f9MFaXHKAQenc+fOoSKt680AdpoWfMwlfPPNN1EWDWGu+JA1AyAk4lSRx9JbzQDMkc4EXPxvBQ1HBIgAESACDQSQ9LOgQnU6vSCzWJenjlVzJXbQGPQh8oxLaX8UPE2YhhfH43NiO/uy2/+hEUYnCosL3g6a9CPKPb+rT/7L6LRW++eGxQhHTReNuIYXaZk03YY8udUpSA9aWJtp0SZUHDu1+70DYqdyOU6IxHPkWVGlfK4+8Y6pJS9mjO9VX3C4TSamdKRPauMaAuyZALyJVq9eDa99+M8gAzt8VExJLRuLAe8auAnB4R6xv/CatjAqmit2Xl5eZmYmvOTRG5sG1IkXZlRYWFhQUAC7BUccyC/vAqvYKfLDLwh+6cACu8hbk4eaQJEl4JRnhjohAkSACBABRwmU1epOZxRkXFTlKCIV3Ct2Da12EaDIDpVm+iukAnWAmpvAcHgh4T7w+4cBENPFl8+3rnDrqstU+zYp9/6hr7yiRtLl///E/sIhVwlHzRB06++o6JfaydW1mzM+PnrR6JZtfvkLQ6d2v2do3Mw2jQewGFRXfkq+5Sbmv0Sl3OBk8TVrOQJ7NlWzJkyN24yAuSXQZoNQx0TAFgGyBOj5IAJEgAgQgTYnUCtnTmcVpeVKz9eH1HPtbz1KVIVh0tQAeZWPylfD7Wrg+AhFXGz8GxP/J4n9Aprc8DbodeozB1R7NuCVMVyuc395hjyeT99RwpEzfPqPsRsH3JjLqaJtv6e+K1NfEWOA+gDjE2+e2PU2Id/o4OGyy6CRyv6YeTlnqDBIcu3vXD/n1yhw2Yw62kBkCXS0FXfD+ZIl4IaLQiIRASJABLyBgEzFpJ6vxE92TUAVxxgfafsSaioj6k8GKCpESr6WSdJzJUgUFBkrwt5/lyRxRIzItmuBrrwQJwCq/Zv0NRVWB+JFdRGOmy0adS3XP8ieLFa+r1WU/ZqyIqNsn8V3qBN8bc8lQb6RLeizlbcoD76gObvG1InvVV/yO01oZZ90uysJkCXgSto0llUCZAnQg0EEiAARIAJOI6DSMpl5dSlny85WikoNMYw9X3mBrh6Bv0HyEl8Vo9N30XGNme8l/nxs/He55P0vFDVEQDYlojESIOWAYvsaTdph620EQngBicbPEXQb0OJ5nijYuiH1baVWat5DhF8CCoQlhQ5qcbetuVFbekyx9XK2SkHP20XDnm9Nh3Sv6wmQJeB65jSiBQGyBOiRIAJEgAgQgVYR0OqY7GLFmczirDJ+kS5Gby/pJ1evDJeeCpbliZU6Rhej4cVgeCT5iUHsb1dj4n+rsb+NRTSoFMr9fyp3rNGVWCkHZuwzrrto3GzhiGu4Yr8Wz1Chqf/1zP+dLt5u3gOPK5jc7a6JSbe5MiTAXACDQS/fNFtf3RCvzAlIkMzaxOFZiZlu8cTpRhcQQBYdFNwNCQlhk4rSRQRcT4AsAdczpxGJABEgAh5PAKkOc8s1ZzKLMosNFzXRWo4dHZRj0IbKzoRIz0uUKp42XMWNZ2uEBYUIukD7T5LEIvZX4GiyHV1VqXLHL8gIZJDXN0bJEYlRDUA4bo4goVcrQRfWZv1wfFmVvMi8n/jg/vP6PxvhF9/Kzltzu/rcL6oDz5l68L36Z36ksRgtXUSACBCBZhEgS6BZuKgxESACRKBDEyis0p85W5xxUX1BGaHm2EtQYzAEK9JDpVl+CplAHaTkdUXaH+ATCDix8WIYAPD/CQhuXrJLzfkUxbaf1cd3MXpjEnSLi5/YRzRuzqVSAMYCrq28UDAYeUK1+ssViBEZPL3HA2MSbmzfZIgGnUr222SDvISdID9xtu/Yy1lEWzlrup0IEIEORYAsgQ613DRZIkAEiECzCZTXM/D7T8uT5shC5RwHkn4qc5D2x19e46MSq3jJhv+OC5D6k9X+oztb1v21K5NBp4X2DxtAm9NQGPWKW3h8aP++Uxbwu/Sw25UjDbR6zW8pK45e3GTeODYg+eZBr7bvUQArjzprterQSw2ycX0kc7dzJdGOzIvaEAEiQAQsCJAlQI8EESACRIAIWBJA0s+UnOq0nJrsusA6xhjFa/sSqwojpKcC5BVClY+G013H9Wfb+wi5cQnG7X/bqT9tdK6X1cELCL5A+uqyxs04foGiCdf7TryBG2Q/M6m9STR8L1PXfHf06dzq0+btR8XPm9nrEb4blOtCmlTZhikG6UVWPEGvO0VDn3VwatSMCBABIkCWAD0DRIAIEAEiYIUAkn5m5MtSzpWfrRZXGSLsMhJqqiKkx4JkxSIlV8ckaXiXdfGwSKFx+7+rJKqTiMs1xgO04NLXVyv+Xq3ctc6glDe+nReb6Dv5JuHIazgCZ4bJVsgKvjr8SKW8wDSiD893Xr9nUTO4BVNoi1s0ef8odz/Y0DMOBK7fxRXbX6y2kIT6JAJEwAsI0JmAFywiTYEIEAEi0EICSg1ztkgF55+sckGpLsKxpJ/Hg2UXkfZHb4hT8+Iua8zY/k9s8P5HGtAWCnTpNhQEkP/9o3L3r4xa1bgfQd9RcATy6T28NUNYvbekPufzgw9K1VWmb8MkcXcMeTvSP8HpY7W4Q/k/d+iK97O3C7rNE416o8Vd0Y1EgAgQAbIE6BkgAkSACHQsAhodc75Ul3K2NLOEKdREGi5F8dq4LiX9PBEqzRErVRxdlJKXZG4whEYK443b/+KoTr4t3v43jY6kQIotPyj3bGS0l+N0G771EYlGzRBNvokf3aUtFgxmwGcHHzAvHtw1dMhtQ/7PV9Dg6dQWgza3T72sWLZ+PMMY2BvFMzfxQpwTGtFcSag9ESAC3kGALAHvWEeaBREgAkTAFgFj0s9KQ8rZ8owiTb4yXMfxsc0LST/DZKfZtD88bYiC18PAuZzkR+DDRdZ/o/d/V4lf67b/TWLo66rkf35nPAfQaixk4wSE4BBANP46riSgjZa5sRkwuNP0ef2ea69yAU1NU5XymfrEu+y33NC+kmt/ayMg1C0RIAIdhABZAh1koWmaRIAIdDgCBgNTUMOknq9Kz5fnykLVHHuJNY1JP9PC69P8FbUCtb+C30t/5S3BYT7G7f9ukui4Zif/sUFfr5AqtqxCXiBGrbRoxg0K973mViQG5fiI2m79KmQXP95/j/lpwOj4ebN7P9G+qUKtzlf2xyx9dQb7lXD4Sz49bmk7LNQzESACHYEAWQIdYZVpjkSACHQgAiW1TFpufVpuXU59oIKxX1s3QJEdUX/SX1ElVAmVvN467hV5Qnl8Tqd4cXw3Y/hvQFDzcv/bhW7QapW718s3fW2Q1lraAKFRvtfcLhozkyOwc3xhdxTbDaSqqo/3310pLzQ1gxkwp8+Trey2LW7XSwtkv05s6JnDlcw7wPUNbYuBqE8iQAQ6DgGyBDrOWtNMiQAR8FoClVIm/aIi9Xx1do2flLHvQiNRFUTWHw2Ul4lUPBUnWcOLtEADpR+qPwyA2HhfPt/R0r/N4qtOPyL76S1dSb6lDRASKZ51t3DkDA6/VWHHjgij1ak/O3h/Xs3lGgVuawZgOurMH1WHX2HnxYscJr76J0fmSG2IABEgAjYIeJUlwM7z888/pyUnAkSACHg9gVoFk1moTjlfda5SVKMPsjtfkaY8sv5wkKzQV2nQMYlKfrzFLRwOA7ef+O4SuACFhDszNafFQAgLlq39n/rYDksBAkLFM+4QTZjL4Tv58KEpOL+cft28fNiQTtfeOOAFuyTbq4F852LdxZ3s6MLBT/v0uae9JKFxiQAR8BoCXmUJkA3gNc8lTYQIEAGrBJDyP6tEl5pdlVXGq9DZL/gl0NZC+w+RXRArNQZ9nJzfnWmUKUjky0Xgb0I3PxT/Eors5BFq5brAHUjxz09wB7IICeCIxL5X3+I7dSFHaC+YoZUSmN1+omDrz6f+q9TLMN3Dh9819D13CxE2yWsw6KU/D2Y0UvYTyhrkvAeBeiICHZoAWQIdevlp8kSACLg/AaT8zy4zBv5mFuuL1SF2U/7zdfII6ZFQ6VmJQsnoIuSCPgZrmYJCI3ziu/nB/wfFv1wTGnvJHehtXUneFcw5HNHY2eLr7uMG2DdsnLhYlbLC9/feqtLK2D7DJZ2XjPnWV2A/rMKJMjSrK11VpnzTTPYWjjBYcuNh16xas4SkxkSACHgcAbIEPG7JSGAiQAS8n4Ax5X85k3qhDv4/BYpgB1L+q5DyP0KeJpbV8zTBMkF/PVfSGBOPx+mUYAz/xY9/oIs8cCAGsgPJ1vxPte8PC5H48T0ltywVJPRy8YoaDIaVBxbnVp9mx+VzhY+M/S7KP9HFYjRrOHXWatWhhhMMXtwk8STyg20WP2pMBIiAdQJkCdCTQQSIABFwCwI6PXOhgkHGT/zky4N0jJ14WY5BFyo7HSU/7a+o4SrEckF/Ldf6trqvhAfVP6G7H2oACwRtEv5rg6A67bD029f01WXmbTiSQMn1DwjHzuZwXS0PxDiQu35D6tsmeeb2XTqyy1y3eAiaFkKx/xlt9nr2e59BTwr7LnZzgUk8IkAEPIIAWQIesUwkJBEgAt5JQG9g8quYjAI18n7m1vtrGHsZMy+l/I+WnwjTVnKkAinTR82LaQoN6/+TkCyJjHGR/4+FJAaNSvbLh8qd6674nHUHuv4Brp/9KOe2WHWpqnrFrhuU2gaH+54Ro+8a9l5bDOTcPmWbZuur0tk+fad+z48e5dz+qTciQAQ6JgGyBDrmutOsiQARaDcCKPhVWMNkFmmR8v98jURlsJ+lByn/Y2SHozllYg2vXNpNwU1kkOjH2oUd9tguYuT/wQmA09P/NwuZtji3/tNndIXnze/iRSf43fWiILF3s7pybuPfUt46mPcr26eQJ35qwtpA3wjnDuH03gx6nfSnfoxezfaMIAGuyKVhFU6fEXVIBIiAmxAgS8BNFoLEIAJEwMsJoOAXQn6h/Z+rFCoM9jPkSFQXo+sPdBYUhfG5tfLEovqujdP+mJD5CLnw/0lMNub/8RG2bf4fR9ZJdXRb/TevXZEgiMNFdiDx7HvbulKYbfFQTvjt3TfqkUb10nVtr0fGJ97syIzat42+9oLs96msDBxRmN+NB9tXHhqdCBABryFAloDXLCVNhAgQAbcjUF7PZJUaK/6eLedJdWK78vmqS6LqD8Tz87oEcvTchJyK5NpaW270fgF87P0nJktiuogRDWy3fxc0QDCufMOnij+/Mx+LGx7rf8+rgqS+LhDA9hBrTr1yvOAvtk2ouBMOBNw2baj5RLT5OxS77mM/4UWNEE9b1e4kSQAiQAS8gwBZAt6xjjQLIkAE3IVAlcyo/afny7JKmFqtlQQ+FoIKNVVR9fs7G852j+IEhSYWy/vk5HBl9Vob80EAQEIyDAC/iGiRu0z7khx6hUz61YvqU3vNpRKOuBoJgri+9lG09VxqFKVv7rzOdCCwcOBrA2IbNtrbeuhW9q9O+1p17P/YTgTJN4tGNFQabmW3dDsRIAJEgCwBegaIABEgAq0lUCs3av8ZBcrMIl2Vxr7Ki4JfUfWHOmlTu4drE7omyoWDcgskF7KkSoW+KVHYAsCJPfwSEQAQ7LoEoI6j0ddU1P7vUd3Fs5dv4Qv8Fj4lGjfH8U7atOXm9A//zfmJHQIFBJ6csJbLaYfMRS2Yo/LQy5qsBsmFQ5b59F7Ugk7oFiLgegK1tbUFBQVqtbpHjx6+vva9Il0vIY1IlgA9A0SACBCBlhCoVzJnof0XaTIL1OUq+9o/XydDwa9YxYluocpuXeMCu44urYvMzqi/kCXTqJs0ALg8TudEcVIPv/jufr7i9g8AaIqUrqyg9p0H9ZXFpgacgNCAh95yB48gViSNTvXa9msVmjr213n9nhvWeVZLFr497pGuH2eQNbAVjnjVJ3lBe0hBY9oiUFlZ2auXQ5Uxrrvuus8++6yNaH733XdLly5F5wcOHEhKSsKbuLg4KOJ33HHHihUr2mjQxt0eOnQIkqxbt66qqor9lsvlduvWrV+/fg8//PCYMWNcJgk70N69ez/44IPMzMycnJygoCCYJVddddUTTzwhErnXsaqLsbDDkSXQLthpUCJABDySgExl1P6zinXY/i9RwO/fjms+T68Ilx6PkR1JCqxPTooKTh4liup9MUeenV6fY9MAEAg4XbpJknr449XHx933rZEmqPbt+w21laZFRckw/4fe5gW7UU6eU0XbfjrxPCuhWBD4wuTNfJ69nK1u85DWr+ptShwkHPuOT+JstxGNBGkgUFJSEh0d7QiOefPm/fLLL460bEGbjz/+eMmSJbgxPT29Z8+eeMPn83U63b333vv5566oRqdSqaDrf/HFF00Jz+Pxnn322RdffBGCtWCCLbjlrrvu+vbbbxvfmJiYuHHjxj59+rSgT2+6hSwBb1pNmgsRIALOJyBXM+eg/Zfoof0XyXC6bUf75+rV4bITUdJDieKK5ISw0ORRfvEDDQw//7wsO0MKFyC1qskTAKGIiwAAnACgBBif7+4GAMtaV3qxZsW95maAT/8x/ovf4Ajda7Pt6yOPZZYdYGUel7BgZu9Hnf+stFmP9d93ZxgD27141p+8YPxKl3sRMFkC8fHx06dPtyHc0KFDsUPfRtKvXLnywQcfROfY/05OTsYbV1oCOHwYP348DgTY2U2ePHnUqFF9+/YNCAhISUnZv3//hg0b2K8WLFiwevXqNoJg3u2HH374yCOP4JOQkJCnn366f//+OL2BUYRTAnwIM+Do0aMd/GSALAEXPIc0BBEgAh5GQKFmsssaXP8L64UGe9o/x6ANk50ypv0RFid3DgxLHhGQNJzn46vTGS7myM6l2zEAxH48hP/CAIiNF3O5bpECyMEF01WV1r6xyLx+sHD0tX53PMfhupcjk1xd+8q2a0yxwo+NXRUT6DHKtF5VLVszzLQiklszuW6G18GnxbubmSyBG264AV4x7TVZJO/CCQBrALAyuNISeP7555cvX45BQ0NDYZPMnz/fgsMff/xx5513wmUIzkIZGRndu7ftnyFQBAcH19fXwyMIpkinTp1YeUAJpsjatWvx/uuvv8ahQXutlzuM6xl7Tu5AimQgAkTAuwkoNUxqIfPrCWb5JtVjv+g/3s1sy2AK6kVNmQEcgy5Udrp38crppU89Klz+2Miy+x687dqH3+w2Z1lQj/HFRYadm0u+fvf85jVFWWfqrJ4DiCW8vkMCr7ut052PJk6YHhmXKPEsM0Avr69772FzM0A0Ya7fnS+4mxmA5zatdK/JDIj0T/QgM8CotWhkl//0+HhI3MvK8u5/Flw8O2iuCLG1Oyg8cKTShiLZFo05HA5U/2Y53tTU1Oj1TR5UWvSPXX+5XG5VwrNnz7KhCBh9x44djc0AfDVr1qxPPvkEbzDiO++8Y3emrWxw4sQJmAHoBCEBJjMAv4KSKWri+PHjrRzF028nS8DTV5DkJwJEoOUEjNp/EfPbCeaNzZrH1uo/2sX8k87k1+IQoIl/Gw36YHlqr5IvphY9/hDn+UcHnbvv3rmzn3i7x/yXQvtP54uDyouV+7eVf/fBhd9XFaSftGcAPJY4/ppIlATGf0stn0M73Ymqt/WfPasrvmAaXzhmFrKFuudc0ksvJzbtFz2pnZi1dFhVjelOrn9cS3uh+9yRwLRp00aMGIGwgb/++mvKlCnYwMbuNfxYsHGO2FYLifHJPffc06VLF7FY7O/vD9V26tSpFiEHv/32GzrEdfHiRdsTxogTJ04MDw/HoOht2LBh8N2HjWF+1/r169EVnJ2guGOzf/To0fDzQWPERj/22GMKhcK88Y8//qjVGtMfQ+2GE05ToyNMAg76yCNUXl7e1kuCIeCLFRsbi9lZjBUZGcl+UlRU1NZiuHn/5B3k5gtE4hEBIuBkAiqt0fMHgb+Zxdr8Kq6+KaXfNKzBEKTIhOdPrPp0chQvsvugwG6jfSMSzcWqrVafTa3HT3WFuilxfSU8+P907eUf28XXPdXlZoGWrf1A8U9DXkvc6DPkKv/Fyzlcd9xdwmnAS39PUWobdtYfGft9p8AezZps+zbWFu5VbG/wXuBFjxJP/b595aHRrRJomXcQtHBsyQ8YMCA1NZVVo01X586dsV0dFhbGfgLNfuTIkYWFhY1Hh9nwzTffsJ87EjGMkwds2MNmaNwVVHz4zJiCaJFv59FHH4Xqf/XVVzd2eUIzhARIJA2Z05AaKDs7G31iLr1797bxnGAusEDa1zsfpxYIY4CQL7300ssvv9yRn2p3/Fe7I68HzZ0IEIG2IIC9/7QiZsNJ5v+26B5dY/hwJ7M1jcmt4tswAwIVZ5NLv52Y+9Bi+YOPdNt7700j5i37oP+d70eNvtVkBihk2jNHa9Z/k7/q49zDuyutmgFI/dlncOCcWzvd9ZjRBahTvEeeAFgsiur4LnMzgN+1n//dr7inGQDJC2oyTGaAxCcoNsAYRulBl8HsTIAjDPIgyTumqNg+h07f1MU68Vtcp06dQvsHHnggLS0NOX8eeughNMjPz7/xxhtN7ZctW8aaAc899xzaHzt27M0338RuNz5BYhx84jjtV199lTUDsC+OJD+wN5BCh1WLMfpNN91kYZPAwQZmQExMDAyDLVu2YFyEAbAaP84B2HHRhjUDsNmPHJ22hUFi0/Y1A7BGyF/EComDDsfReWVLOhPwymWlSREBIsBA+88uZ86WGNP+5Fdx9PaifoEsUHEOe/9R0qNdQxTR3foGdR/j13kAh2eZ6k6r0Z/PlGal1CEfqKEhoYslcKQBRRWw7n0D4hI8LAjY7qODKOGal242yI3et7i4wRFBL3zPDTRqBu557T6/6s+Mj1nZ+kdPvmWwMaLRgy515o+qww1FhQXdF4hGvupBwjtRVF3NOYOsxIkd2u2KG9SVK3EoMSi6cjCLKBx7ZLLLgR/smQBuR1ob83z/cLB577338DkqDyxevBhv4AsESwCpeJCBxyQ5vHfgbINf0Z51u7d7JgB9HTmFoApDs4cNEBUVxfaGT5DRaNWqVXj/1ltvPfXUU3jDngngDY4mkIyINQBw7dmzBzmC8AbeTVu3bsUbhP+y5RTgh3P48GG7bB1pAEPo77//tt0SthDMJ0d6M2+DPKcfffQRPpkxY8bmzZube7uXtSdLwMsWlKZDBDo0AWPOH2j/pfgx5FUi7aJ9//sARbZR+68/lBRQF92tDzx/AhKHcgXWM2CWFikzTtaeTatvKhMovGM6J0mS+wYkdJfwBd556IpCwpqUhnScDI8f+MxXggSHCiq116P5/bGnU0v+ZUe/rs9To+JvaC9JWjau6sxK9cn32Xt9+i4WDnqyZf14+l3Kg89rzhqTvbjsEo58zaf7TQ4O56AlgL1wc/d61hLAa25uLlzwTWMh0yWykSIsGNo5mwuf9b2JiIhA+p3hw4ebWm7fvh1+RGjs42Osj2HXEvjyyy9RWwAtP/300/vuu898dqWlpShGBkNl8ODBOHPAVyZLwGQbmNojmKG6utrUcvfu3Yg6wLe33nrrDz/8YAENBw5s5C6S9phe8QZOTcgx2hTha665hjUzbFyo4dBcR3/4Ar3yitG0RkgGrAhYRA4usbc2I0vAW1eW5kUEOgoBY77/sksp/0sNF6sc1/4PRtUfTBCXRyf1Cuw+OqDrSL7Ivylk8ALKTKnPOFVbVd5kGEB0nG9yX3+EAYh8vTm1i+rw3/VfvGACJbnpMd8p7l7vFqWF65QNsYmPjv0hNtDDvINUx95Sp33JMvcZ9ISw7xXaW0f5O2cYT7EEUM/r9ttvb2pdoK8j1tb0LWsJYPN7zZo1FreMGzcOOe8RQnDy5El8hXph0PLZNqjUC8d97GfjiMAiTZBdS+C2225jN/7LysrgrG8xKLrFNjwCA+rqjNW4TZYAwouhl5s3HjRoEASDJKdPn8bncE8aOHAg3qCCcuMIBNPRh8VwsB/YswWrFyIWsrKybD/h0Oaxwe/gXwFcrYARJhDa+/n5wdPJ9dWOHRTVlc3IElp8dH0AACAASURBVHAlbRqLCBAB5xCQKpmzl7R/bP8X1mCXycG9f6P231lQEJPUE9o/tv8FfrZ8WvR6Q162LONUXe45aVNJ9kIjfLr3Cejex98/UOCcublxL3q5tPrZ6w311ayM/O4DA5/+zM2jn6WqKlQSaBCY6/P61bt4XBdVNnXWSioPvqg5+zPbm3D4Sz49bnFWz57Vj6dYAs2qJ8CqyBauQey6LFy4ELW3BAIBNunxCtX8+uuvxwmA+arhdtgDL7zwgikxv11LALov/IssnJRMfeKUgC1FjI12bLebLAEk47eoxcv2gx39M2fOoH1FRQVrVwwZMgS1uiwerVtuucU8OyryjeJCG9uWgHOfT2BEDYFNmzahW3DDG4oQYAl75+G1c58e6o0IEAF3IFArZ47mMqsPMy9vYp5Yb/h8D7MzC8Ggtg4B4PefXPb9uOz7Fp6feq/vR7eOFt7w8HNjn/0j6cYVYQNn2TADEPt7YAeSgeb8ubYoJ8uKGYBEQANHBi9Y3GXB4vjBo0M6ghmAZ0Cx+WuTGcDwBf63P+vmZoBRoak7Z3p6o/wTPc4MgPDm9QQ4Aj93+GNsFxm4gV15MWNc+cMVN/jQt/V8oeg3NYTpTwy+Q9iYRxks5PREVC7bHv45iNlFoky7XjSm/mED4H1Tf7k8XsORpkVkM+t6ZONCIAGb5ggp/IuLiy1aQkho3qZr0aJFbY3Uon84Pk2YMIE1A5CGFTYMmQEmRHQm4OKnkYYjAkSgGQQqpMaMn3D+wd5/WUOEqs3bkfFTeTayzuj3H6vLiErsiY1/bP/7RiQ5MioOAaD3nzlSU5R/RZ7sy/9icpj4bpKeAwLx6llVwByZvu02CBSufmYuo9WwzcSz7xXPurv13bZ1D5vSP9iTs5odZWjczPn9n2/rEZ3ev2LXA9r8bWy3ogmfCLpMdfoQ1GHrCbQmiyiqBCCHj4UMrHcQnHAal75CpMGuXbug/SOlD8bFjaZmds8EMNZXX32FW7BJbx6ZwI4+c+ZMNoIWhQWg/ZvOBOClY1EP2OJMALcg5RFbNez1119HgiMbSBF1sHTpUjSwfSYAjyNo8LaXBobN2LFjbbdBFiaYARcuGIufILABEzTFSbd+3b2gBzoT8IJFpCkQAa8iUFzL7DnLfL2PWfYb89zvzLcHmH3ZNs0AgyFYnt6j9JsJ2ffcnD7yDsObNw3Wzr7nkXGv/pt85+dRY25zxAxQyHXH9lX+8NGFreuLrZoBwWE+oyaHoRjwjBtjE5P9OpoZgCdM8dd3JjMA+YJ8r/YMH5WM0suJVlRa67VR3fzvx6C9bJdy+A2bwW4uM4nXLAJHjhyxaA9fINbrBporXuGr8/bbb2MrHVnw8SvOBHAy8OGHHyKGmE0kCpd9+Oc4Migij9lm//7bEEZvugvFg1lJEERr9xCg8VgIbmY/fO2119jggaYujaZhQ8G2wM888wziFmxfCLGw3QmwTJo0iTUDUOEYWY/IDLAgRpaAI3841IYIEIE2JAAX/PxKZnsG8+m/zBPrjM4/Px1hjuQy1U2rbRyDLlR2plfJ5xPP3Xlz6qBbta/O6ye/9o77xy3f3/Pe72Im3COJ7eWg40pZsXLHHyXf/S/n0K5Kad0VlX0wZ4EPt/egwBvuilt4f/ygkSFiPw9zMXfWsukqipR7jQfr7IUDAY6P9fRKzhrRWf3Uq6pMXUX4xTurW5f2Y2YJMHzPwO5SPp4/GPRm1nHFdL3//vusYz3c7vFaVVWFWAJk2kFyTzb9DnuhqhdrCSAlEev2Y/eCWsz+24iKwhZ1A3ACgDBifDVnzhy7/TRuAFEffPBBfI7zBIxitXIZJvXkk0+ioEEL+m/ZLeB2/vx53AubASI5SKllY3noXeQd5KELR2ITAc8moNExuRVGtx84/5yvMOb+t3tx9Jow+enI+sOR9Qcj5adC4roFdh8D5x//+EFcvh0f1sad63SGnEzp6SPVJQVKq0OjEjC8gJJ6+gm8NBmoXeDmDWqW36XNSWU/4YZGB7/5a+MyC83q0GWNn9480sDo2eEWDXu/R8Qolw3trIFkm2brq9LZ3sTX/s4LtVW91VmDUj/NJWDyDkK2fkSm2r4d6inr629KqoN0PcjvicQ7SqUSm/0ofIsE/0gNtHPnTqFQiJao2ouyX3hz//33I5h4xIgRcOVHUnwo1vgQXj3ILoo3dr2D0Aab999/b6xUDQ8f1CtAHQAkLYUZsHz5cpgZMC3glZSQkIAGzfIOQnsID18dNgMpLiQ+gv6NZEpIcARXH4QQwB0IVg37LWaEyAekQG2KFeIN2BRGNi6cXbCiWr0QDwB5WNsJ/kim+Arzxl27dgXP5i63N7X3KkuAXRg27J0uIkAE3I2ATMWcL2/w+8+rYnQN6pktMXl6RZj0ZGT9oaj6w+HyE0Gx3S/l/BnjnziU59NCNwm5TJt2vDb1eI1MaqXYJ1/AQTWAfkODQiOM//vSBQJ6lbLqwfHIBM7SEE2a57fQWHXI/S+tTvPMljEmOV+btlMkkLi/2BYSyn6/Wl9r3NTEJZ79Fy+owbvD4ybi3QI7WE+AhQAdl/VRaZxek8vlwgbAV1BwUaLLlOgT7+HsDlW74UkQi7H1zsb1QnfHkQKbxNMRSwDO90jwjwrBbFeIEjbFB0MqeA2ZQgKaawmgN0j4+OOPs5k6m7owa2T0h0ljkQLV6U8I6iUjFantbnF8wfpcddjLq7yDYAOQGdBhH2WauHsSyClnNp5ifjrMvLKJeXwd88lu5u90JqfClhkg0NbF1uwcdPGNazJmLzjRc279S9O71028adGoN070e+LPLjOfDeoxrmVmQEWpatvvxXAEOvxvZWMzICBIMHpKOCIBJs6IJDPA/HGSb/zcZAZcUkbvcc+HrbFU9epK04cSQbAnmgGQ36C/fGTG4Tb7+MtTFsvT5TRl3XFkIlD3zZvNnz8fpwSs4wprBkyZMgXZ7s3z/aOa2LZt20aOHMneCJ9+qO9Iio8sotiDZ80AXCYxLN6YixcZGYlbli1bFhgYiFtYMwAioWIAApHNI4NNcjaeHftJ48/hp7Ry5cqDBw8iNJnt33RBWpxywMHp3LlzyOvf1mYAxkUchd3laNbC2e3NExt41ZkAmQGe+AiSzF5GAP+LIbNnRjGzO4upVpgrkLYmKtJURMDtRwrPn8Mh8jRxZBI2/gO7jQroNlIgCWk9otJCxbF9VRfOyqx2FZcoxiEA0gE5GFrQenk8q4fqFxfoChv2pHmxScGvNuS2d/9Z5FanfLK/IcFRp8Aej4w1ekR43CVdN9YgN+aHwSW5YQ9XEu1xUyCBmyLAngnAmwilA+C1D/8ZpL2Hf5GNwrfwroGbEBzuEfsLzxYLo6K5qPPy8jIzM5FECL2xaUCdeGFGhYWFBQUFsFtwxIECxvRvrBPxOqsrsgScRZL6IQIdl4BCzVyoYLLLjc4/eKOyDLu1TsZPlQ+9P6L+CAyAQOV5UVh8QLdRxqSf3Ub7BFhWvmwx3IJcOWyAggtWoo8FPpwe/QJhAyAvUIv79/ob9Qpp1aPTTFmD/O59XTTcY7JYnineuer4M+wa9Yoce+fQdzxxvaRrhxuUDa7VkvmHuL62yuF54gQ7sszmlkBH5kBzb0cCZAm0I3wamgh4MAFk+ofnj1H7L0OVX5T3cuAy6IMV6ZH1Ry9t/x8Ra0p9gmNY1R/b/8JgYwYMJ15552VH91RaDQgOChH0HRrUs3+Aj7ChjI4Tx/WyrlSH/6n/oiEHPzeiU8ibv3nQBPfnrvs9tUH7H9H5uuv7LfMg4U2i1q8eyGik7K9+C45zfAI8cRYks1UCZAnQg9HuBLwqTqDdaZIARMCLCai1xmDfv9OMuT6fWm/M9P/1fubfs2yV36YvgwF+/52r/pyctRBO/7PSpo2p+WhoIr/v9U8NeuHAkJePdlv4v4hh85xrBhTmyX/9Ln/T6sLGZkBkjGjGjTELH4jvPyyYzABHHlf1mX2mZsLBkxy5xX3aSFXVJmH8hMHuI1jzJDGLE2AoTqB57Kg1ESACdgjQmQA9IkSACDRJoBIb/xXGvX8k+ixAth+Hdv4ZkaY8QnosUJ7lpy6Mr/rdRy8X+IUGdIXnj/HHN7Jr2xEvL1Ee3FGRn2PFFwhZQYeMDY1LcCjldttJ6Fk9I/seXIMM0hpW7MBlXwq69fegKfyW8tbBvF9ZgWf3fmJMwnwPEt4kav333RE2zP7qd2smh0sHWZ64jNZlpjMB71lLj50JWQIeu3QkOBFoAwLY+M+rNGr/cPfHa+3l2qY2BzMYgpRnI+qPhkuPRkiPBqjy0JovDg7oOpwN/BVHJ7eBsFd0Ka3THNxVmXXGSvLpLl0lQ8aGRHdqYdbRtpbcnfvXXjxX83JDpm2Or1/Ih9s8Sw398fhzp4u3s4QXDHx1UOw0d6ZtVTaDXidd1aPhKw7X/7Ysj5sCCWyDALLooOBuSEgIFb6l56S9CJAl0F7kaVwi4BYE9AamuNZY5AuqP34Kax3N9sPXyUNlp7D3D9U/XHpcqDOWw+T5BgQkjWD3/sUxjlb5bSUInVZ/4mD18X1VWq3lmQVsgBETQsOjqSxrCxkrdvwiW93gZ+8zYFzAEg+LuP3i0JJzFUfYyS8a9r8eEQ0ZGFuIoz1uQwpR6ape/1kCfP/bMtpDChqTCBABryVAloDXLi1NjAg0RaBa3qD651Yy+HEw1Q9681fmQukPlx3Ha7A8nXupdCtXKAlMGoF0nwj8lcT24VyZJ7utVyH3nHTP3+V11ZY1iuELNGJSGJ0DtJJ/3efPq4/8w3Yinv+weNotrezQxbd/sPeOgtoG1XnJ6K87B/dxsQCtH86gU0l//E9sro//rWmt75N6IAJEgAiYCJAlQA8DEfB+AlIlk1tldPthf2oc9PnBHr9OESY7xar+2P4XaRtSGXJ9fAMShwVcyvnjF9evXTxGpPXaPVvLcjIbcqqYVjE0wmfUVeE4DfD+dW37GVYtu05fXsiOE/jMV4Ku/dp+TGeO8NaueeWyfLbHJ8evifRPcGbvLunLoFVIf/oPO0/kf0uKS4alQYgAEegoBMgS6CgrTfPsUARkKib/kuqPLf+8KqbKekEta0gMhgBVTpgU2v+JcOmxYHkGlzGWn8TFFYj8E4ZcqvY1yq/zAC5P0I5I00/W7ttWrlYZDyVMl0jMGzkxtNfAQCpe45Sl0culVUv+SxbE5YWu3M0RCJ3Ss8s6eXXb9HpVQ5nh5ydvDhQ5rU6Fy6Zg0EilyCLKXnyJ/8JTLhuaBiICRKAjECBLoCOsMs3R+wlA9S+oNir97K5/ueVGuS0CQk1lmOxkuPQkXnECwHr8sxeH5+MfP+iS9j/aP34gl9/+iqBcpt25qTT33BXGDYfD9BkcNGJiqFBEaVWc9rRrzp6sXbGY7Y4Xmxj86hqnde2qjp7dMl6jU7KjvX71LiHf8zJHGdT10p8HNQAT+PnffNJV8GgcIkAEOgQBsgQ6xDLTJL2PALb5L1YxF6uNr/nVzdn1x+6+XhkqSwm/pPeHSU/4qy+a8+Fw+djyD+w+Gnv//vGDeT5ulHLnwlkpzACFvOGYghUbJQImzogIi6KwYCc/5opdv8p+XMF2Khw+zf/e15w8QNt39/TmEYb/8m+umHGQy/G8EjoGVY10zdAGVD6B/guOtT02GoEIEIEORIAsgQ602DRVzyWg1zMldcZdf/j8sNq/TN2M2XD16mBFZqjsNH7CZGeCFJkmn5+GXjgcSac+xoyfMAASh/GEbudkr9MZDu4oP3W4IbE9KzZfwBk5Kazf0CByB2rG0+BwU+nP7yq3r2Wbi6+7T3ztXQ7f6hYNcRqAM4GGR4Xr8+b0vW4hVjOF0CurZGuHszdxhMF+NzWkQmpmN9ScCBABImCdAFkC9GQQAXckUKdkCquZwppLP9VMUS2juWIf3I7MHIM2SJEVKjsTdkn7D1Zk8AyW2XWM6l10srHgV/cxgV1H8sWB7gjikkwyqXbLuiKLgsFRnURT5kQFBvu4rdieLljt+49oUg+ys/C//03hkKs8a0Yyde3L/0xlZfYVBLw6bZtnyc9Kq1dUyn4Zwb7niEL8bjzsibMgmYkAEXBbAmQJuO3SkGAdiADqeUHXZ5V+9rVe1bzpY48/WJMbVHvskvZ/JkSexjNY70IY2jkoeSwyfsL138c/rHnDtEdrlA3evKZIVq81DY48pUPHhQ4eHcLlctpDoo4yZvVzN+hKGhLvBL20it+5zcvDOZdstaLkjR2z2T4DRRHPT97k3P5d05teXiZbN7rBEvAN95t/wDXj0ihEgAh0EAJkCXSQhaZpuhEB5O8vqTXW88IP3sAGKK//z5fZYTGFPH2koDJEluJXvAMGAE4ArO76s/2h3C/cfgKTxwYljxOFdnZ4kPZvmJct27q+SKO5XDLMP5A/7froqFg3il5of0xtIIHBYKi8byyjbfBCC/loJ1fs1wbjtGGXZdK8t3fPZwcIk8Qtnbi+DQdrs671shLZ+rENloA40m/evjYbijomAkSgIxIgS6AjrjrN2ZUEkNWHVfpZvR+vVfKWjO8vYuKCDVG80sDqI745G/j5/9jeD+fwhfD4v6T9j3V9wa+WzLDRPZln6nb8UWIwKxzcOVE8dW60yJcSBDkFsK1O9HVVVY9d3aCA+vqFfryzzYd09gDFddnv7VnI9hrln/TE+NXOHsEV/emlRbJfG6IdOJJovxv2uGJUGoMIEIEOQ4AsgQ6z1DTRticAV37s7pfVM6V1Da9Q/Zvr58OKKeAx0YFMbBDTKZiJ9lf7VRzSZG6qTt2mqS+3NY9Lgb9B3cfCAIAZgAoAbT/pthoBFQN2bi41773/8KAxU8IpOLitiF/ZrzYvs+bV29jPPDSFaEFNxgf77mCnEBvY49Gx37sGnXNH0UsLZL9OZPvkSGL9btjt3P6pNyJABDo4AbIEOvgDQNNvIQGtjqmUNWj8ZXVMKQyAuhZu9hv/g4f3gh8TG9yg+sMACPdnGJ26JnN35cnNVSl/61S2CgTwJSFBPScE95wY1GOCwC+khVNyp9syTtXu2HSFGTD+moi+Q4LcSUYvl0V9el/dh4+zkxT0HhH4+IceN+HcqjOfHLiHFbtLUJ+HxnztcVOAwPq6PNmGyQ2WgH9nv7k7PHEWJDMRIAJuS8CrLIHGlD///HO3RU+CeQQBuKbUKJhKqbFWV4XU+Aav+KmRN9uz3zRfhLlC748JZKICjRv/eMV7H37D93otDIB/K09uqkr9R6esb5ISh+PfZXBQr4kwACRx/bxpp/x8Zv3W9cUmpyDEB8MjqGtP2EZ0uY6Acu9G6XfL2fGEo2b4L3rJdWM7aaTzFcc/O/QA21li6KD7R37qpI5d2o2+Lle2Ycp/lkAXv7nbXTo8DUYEiIC3E/AqS4D0fm9/XNtwfjo9U6sw1ueqlhtfWXUfP3iv1bdqXD6XiQwwavymnwh/hm/N0b0+90T50V8rTmzUyqubGpIn9AvqOTG4z+TgnpO8Y/vfYqbFBYrffyhA9QD2c5gB18yLSejuYbGqrXpi3ONm+Z/fyX9bycrie/WtknlL3EOuZkiRVX7oq8OPsDd0Dxt+zwjPO9aA5PraHNnv0xosgYAEv+v+aQYCakoEiAARsEeALAF7hOh7LyKgNzB1igZdn9X48Vp96RVmgFlgagvnDCefEIlR74eub/wJYKICmFA/xnauS42sqvzIutKDqxWl2U0NLPAPD+0/PaTv1QHdRnJ5ghbK5/a3IVXo2q/y5NKG0gkcjtEMSEwmM6AdVk665n3ltp/ZgcU3LBFfc2s7CNG6IdNL93579Em2j54Ro+8a9l7r+mufu3U15+Qbp7NjcwO7SuZsaR85aFQiQAS8lABZAl66sI5Na/HixV5wkGI+C2ztoyYX1PraS8o9+wP3HvYNvjJPROMYJOutoPQHiS9r/JGX9P5wP+ub/U0NJCtML/73q/JjGww66xWDLxkAM0IHXhuQOJyD7XGvvnAOsOGHiygfllLwbt9OT2CuV82M7DnAfeud2V4NT//jqv/6FdWBP9k5+t35gmjMTI97+s4U71x1/BlW7L5RE28b8n8tnkI7rqau+qz8jxkNlkBQN8nsv1o8C9zYjhNpjdh0LxEgAm1HwMt1i7YDRz23CwEk54Gnfm4Fk1LA7D/PbE1lfjlmFOT97cyrm5kn1zEPrmaW/ca8uYVZ+S/z0xFmcwqzN5tJKWTyqy7t+rdo21/iw3QJYQZ3Zqb2YhYOYx6ZxLw6i/l4AfN/c5nHpzC3jDB+3j/O6Pxj1efHKqjqtB1pH88//daUssNrG5sBSP8fNeb23kvWD3n1ROK85SgA7PVmACgd2lVhXkUYhcM81wxol78O5w5qkNeZOuSIPTJIQ683r0b3XyCOczG5oDeDWXVxDuXPdQFxGoIIdCwCZAl0rPV259mizi7cdfIqmdQi5lAOsy2d2XCSWXWIWbmbWbGVef535uE1zEM/M8/+zry5lfl4N/PDQWbDKWZHpnFOmSXG0rzI19kiVb+BSoCI6RLKDIxjJvVg5g1m7h/PPD+D+eBG5r35zLPTmXvHMdcPYsZ1Z3rFGP1/HFf6LZhXntl6+q1pGV/cVntuv8VXHC4/pN/VPe7+ZsjrJxPnvdFBDAAWQlG+/OTBy9ERnZPEIyaGuvPj6vWy6WWXo9W5kgBPnK/OTIfmea4ObTALVOLQf9me+CSSzETArQnQPytuvTxeIxycdpBsBxvz0PIP5jD/pDO/nmC+O8B8tJN5YwvzzAZmyc/MkjXGN/gVH357gFl/gtmaxuzLZk4XMDkVxtQ9KM3b+stPaMzQ3y+WGd+duW4Ac9do5okpzPI5zCcLmLdvYJ69hrlvPHPjEGZyT2ZAHCp5MSLn+eTXnT985t0ZWV8vkhWmWkxEGNqly6znBr96vMeir0P6TvPiSACrK6jT6ndemTN06nXR3pQNqfXPret7MCguJ67l+EpcL0DrRzSY6dAcD9ahzfY3EDpDFxEgAkTAqQQ6qCUAX0mnYnSoM6cP6vQOHZmGjUGxqY8CumlFzL5zzKbTxu18NIbTzhPrmAdWM0t/Y5b/ZdTyYQDADIAxAJMAhgEOAaq2LlabHYBbEWNvM9bLH7p+ENM7hhmVxFzTh7lpKHPfOGbpNOaNS+r+u/OYF2YwD05kbh7GXN2HGZ7AdI805vRs8R6/I9BUNUVZ39yb+uFcaf4pi/YBXUfiEGDQ8/tir3pgyZPPOdKbc9s4/SlqQYfHD1TXVGnM59XcKsLNGtTBxnab2W3g3JVycW8GpbEU9nP8gXjl+Lo0aNtZYPWGy5sHuz4tcjFADOf4RGy1NLNnHt8UaXcWjg9qtyvHG2RmZn788cd//XVFDMMff/yBD7Ozm0yE4Hj/1JIIEIG2I+BVlgD+BWyXfwTbbnnctmck4UEl3VMXjZ760Ozf+pt5ar1xU//lTcyHO5lVh40O+tjOxwWnHanKafPgcZggX+NWfa9oZkQCM6UnM9eoqDBLJjHPXWN03F95M/MOdP1rmYcnMbePZOYMYCYmMwM7M4nhxhw+baruW52kwWAo2ff9yeXjK083BF82NONwQgdc2++prX2WrMchQEcIA2jqIZDWaU7srzJ922ewp4YIO+0pd4+ODEqZSRCOSOweQjVPCr25X03zbnWn1i0Lb3LtDCoqKlJSUnJycsyHPX/+PD6sqrr81+1aoWg0tyBQW1ublpZ28uRJhULhFgKREI0IeEbuINLv6dElAkSACBABIuAaAs3NKbdv375Vq1b17dv3oYceMkn4/vvv46xg0aJFw4YNc43Y7TtKZWVlr169HJHhuuuu++yzzxxp2YI233333dKlS3HjgQMHkpKS8CYuLk6tVt9xxx0rVqxoQYctu+XQoUOQZN26dSZTkMvlduvWrV+/fg8//PCYMWNa1m3r78L23KRJk/bs2QPZ5s6d2/oOvaAHz7AEHAFtshaa+0+YI513zDbY+L9YxZwrY86VGl9l1hNdOsQGzq0SIYOQ3ABf46s/+yP8742Igfu+r49DXXlEI4NeX3Z4Td4fy7XyGnOB/ToPiJ/7ckDCUI+YhQuErKvW/Ljygv6/kMiJMyJ6Dwpywbg0hG0CBr2u8p6RDW043LCvDnkisX0XftmY9i4r+ej4eXP6NNQW8Ky56MpOyrfMZ2Xmhg+QTF/nhvKTJYBFKSkpiY6OdmR15s2b98svvzjSsgVt4JG1ZImxDmB6enrPnj3xhs/n63S6e++91zXakUqlgq7/xRdfNCU8j8d79tlnX3zxRQjWggm28haM+9prr6GTtWvXzp/f8JfVyj49/XavsgRc85R7+pLblR+Z+JF2Ex78WaWMvDnaP+pnBYuNTjghYiZYYnwPT57AS6/Q+3le5Ylmi2Ld+SMXfntBVnBFWDBqA3eZ/XzkqFsoENac3bbfi7NSGnLUBAYLFj4Qz7Vdhs3u40sNnEFAr5BWPTSJ7YkjkoR+sssZvbq6jz05qzelf8COOjZhwazej7paAmeMpy07rthyE9sTL3yQePpaZ/Tq5D7IEgBQkyUQHx8/fXpDMTiroIcOHYodeievwX/drVy58sEHH8RvOJBJTk7GG1daAjh8GD9+PA4EWHEmT548atQoHBYFBATAVez/2bsO8CaOpn3qknsv2AYbTO+99x4ghDRCSQIEAumFkEJ6/iSkki8hlRBIIIUUAiT03kLv1YAN7hX3oi7972nF6SzLkixLsmTfcs89x2lvd3b2JO/svPPOf//9t379evLRtGnTfv31VxcpwWKzGo3mzTfffP/998mnnCXAaImzBNz5Hnp0Xwj2PZNOE/WkFtolJ3bxY4JoEv2oQGNWXSz9m85y36KOlMVZ8APcOr3R7NPANoMSpy+VBMfYpdkmUyk3U/7XqgxmuKMnR7Xt4pVslY1vxnQlt4oWGpcyvIDQ0M+8Mq/tvpSfN19ZoShSZQAAIABJREFURmZnaMsZEzs87Y0zpck7Id82nUguiOjlM96Y+NmjxmLREli6dOnVq1ebDjqIsQTuvfdeIE8aaoKAfoEHAL0zO+7utARee+219957D72HhobCJqm56Y448tmzZwMyBLDQlStX2rRp4x5FIVBhzpw5Z8+aSDs4S4DRfJPZp3XPu+aFvYDCf8sF6u1/6WDfjeesmQEyEdU+irqjE/X4UDo2FyQ8yKs1rQ8dkov4XdDvNGUzQKuSZ2z99Mx7Q8zMAL5I2mLy6x0eX8uZAWZfDmQU3rs5j7kZGiFu09kr01d54Zfetsh6pSm2jyeR2n7AI2voWPkE+F6cT8BrWER1DM7P8D6UlZmS03nkC+KJQmERjxBbm5IBgVNRYeL5ZdeH2xlL/zoBb0pKSszmzooA2PWvqqKJxWqWa9eukVAE9L57926L2Js777zzq6++Qh30+Mknn9gcqVMqwA+AYBViBojFjQiI7BTtAHbopHa4ZrxMAxotdSqN+nw3tXg9bQBk1/LLg/S6yLQFfv3X7qATbD07iprcjc6ni+1/rjAauHXmnzPvD8nYtlSnVrDVEtZjcvdXD8SMWMAhgmq+LUd2FxTmm8Bng8dGcFrynO9UdeIgr0wmQC81WNxB/MaRT4Dy0HwCIhGdeEWhMP0AYp0HQiHPeaU9VpKxY8f269cPYQPgYB09enRwcHBQUFBISAg2zs24mDAE3Jk3b16LFi18fHz8/f1jY2PHjBljFnLw999/o0GUjAyTx9Xi8NHj8OHDw8PD0Slaw1oZGHrYGOzKf/31F5oC2AkTis3+gQMHAueDyoiNfu6558zogH7++WcgcPD4woULu3btWpvOESbRsmVLmUxWUFDgnnnB9j8RDAEMcEq4p1Mv6oWzBLxospwjanElnbsX7P7LD1KXcywn5U0IpSZ3pdNsYeMfmbaQczcuhOLw2zUnoCLzwoXPp1z78TFVcTW2ct/YTp2e2dDm4a85V4DFtzb5cvnZY6ZY6nZdAmLjOePSOV9wp7Sik7MoRL0zrZjBEjDlE+DzGiA20SlzQVXLMeyhlgCWhmSdmpqaSkaNtZdaXS1JiHO00ehaOX78+LFjx5YsWTJ58uRdu3aVl9NxU8XFxSDewTKdbU1hZT9kyJAVK1akp6eTLfysrKydO3dOnToVuBdGMdnZ2WgQpTanAWrC83DPPfdMmDBh3759pAts8584cQKhtD169Lh40RTkhi7QFNBfDzzwAJA/4COCqYDeAez53//+B+OhstL0W/Hbb0bo2oMPPmhlohAxjH4BEGJiBlw9q9hmgi8CA/z888+lUm91crpOS5wl4DrdelzLWcXUD4eoxRvo3L01Of6x0AfIZ2Zf6qN7qJfHU3d0plqEUlxGy9pmUV1RmLx20flPxpffOM6uI/ILbfXAJ10Wbg1oyREEWVZedrp854Zc5jP/QOHgseEe921p2gLpWZYA32stgUaYY9hT3fhgh/Tz8wNC/eOPP/7ggw9eeeUVLPWa7HcIC2XsQNdWCIjfrAC4gvqPP/44qPfB+UPIWLHixyqfqf/yyy9jXY77r776KuqfPHkS9kNMDB1+tmrVKjYC3qbm33nnHbgOUC0yMhIkP6dOndq4cSOie3EHvWPRT3bQmQL7BJEPzZo1w0p669at6BdhAPgUNgP8AKQa6pAsctjsb9eunXUZQGzqzhX5nj17MMBevXrZ1EzTrNCoIoZrTiHHJkR0cqOA2nqROk//hlgoLULodLy9WlB+nKlsx8+AqvxWzt7vcg7+qFNVw0ryBKLoIY/EjntWKOXw7rXqEVHCG3/JUquMvKF8PnX3rLioGJkdiuequE8DisObK354m/Qn6TfOf9477uvbeT1tSfp6b/JPpL3xbR8b0XqW89p2X0ua7EPynbNJf4LogT5jfnRf33XpKS0tbeXKlYiaxUOAiWO3GCtCgMXnzp0Lqpy6tFRr3ct5hzJLrjilKTsb6RA5KDaIJuK0p9jJIgpgD3sfHcgcwPTR/osvvsjm+wfABiHXuI/MA4QkHVggWAKg4gEDDyMP0DsA2+C/qE9g9zZZRLFeB6cQzBWs7GEDREVFkdZwB4xGyAuB648++mjRokW4wNL/2Wdp0q2wsDCQEREDAAV8/OAIwgXQTdu2bcMFvAQknQKmHm4EezRmsw4Moe3bt1uvBlsI5pPNppgK+/fvHzZsGP7LRQwzOmlUlgC37q/5ZQAR0D9nqUs5Fr4miADu34oa2IqKDbb/S9Ska6pKc7N2f5N3+GezeAAoJbjDyPgpb8kiWjZpBdkafOr1iu3rctRqUwTkyDsj23flkgrbUpzbP5fv/K1y7WekW+nIqX7TF7pdBCd0uOnysv03jBuWE9o/OayVNcSCE/pzTROarIPyXUbsh6DZIJ/Rq1zTj3NaRbQr1rVYYpLIAeeWv84vOZa+wbltWm/tns4v92sxxc4e7bQEsBfOhtcTSwBnAKsAwWf6Qp4ysJEC4YPVObb8cR+OFyziIyIigHTv27cvUxOYoubNm6MyiYW1aQl8//33yC2Amt98882CBQvYo8vLy0MyMhgqPXv2hM8BHzGWAGMbMPURzAAUE1MTXiDAmfApoEGrV682UxocDgT4BMcRc8YFrEdwjNam4fHjxxMzw0pBDgcAouycI1TjLIGauuLQQfa/P15Ws6Cc+u4AtWSrBTMA1J8EBYRQYM4MsGdeFUWZKX+8curt/jn7V5iZAbKIVu0X/Nx+/mrODLCuydNHijatzWabAf2Gh3JmgD2vn/vr6CpMHAJ8X2+ldtXqTTh1Ac/5C1N3zQuLO8hTI4YZVQQGBiKe1RVmgLu07YR+kM8LEKnaCsNnz+4Jgb9sMwAfYfe9e/fuuGBgP+PGjcN/8/PzEcKLeFwkEsbGPGA8WGSDi9N+SpyDBw+SrhEqYDZagIVI9l+wAJl91KlTJ7M7sD1wh4kGQaAzqWAxPgHOB0REoACsjwIzgxQmA7FFvcMKettWAWjKCXPWtJvgfAKNcP7lKmrzBWrPVepWxuXUUxsqi7ND4jo3az88KLpNQhg1viPVJdZyAACygdQkK8BPw8iRIz1ZTdhpACwVoVSuyBcoL7iZtfPLghN/6XXVcJNQiMg/PGb0U9GDHuYJvDYY0S3zWlWp2bsp7+Y1U2AZuu07NLT3EKOjGf/10neP0Z+VlxC42w0bNmDXCltf2DNzG392fea2YvUSxX5jAiDfGYtkI2j4gdeVdec/OJpuHMWUTi8OiDdf95iNCEGTmKmaw8RKCxux5D7WPWvXrj137hx2doHTGDFihKvhzprMffLd80jvgpihPqNW1DYRVl5Cm2LbrOAJs+8tPoE65RMgPgEzaBDR9owZM5B7C2YVNulxBisr1u7wALDnAo8j8Pf1119nflhs+gSw1ge+yAykxLQJLwGBV+AnC9vtjE8AecHMjAHSDn7Wzp8/j/qIPAYNES4Ax8da3+yFmTlzJpsdFZYGMTbgSSAoI7cVzidQU9WcJeC2188dHcHt9l8ytf4sHRB87dCa/ctnI8cI6ZgvEH385ernFxhzVVqUBsuUmmFe+LYzWwjuGEMd+4Cr8a677oK3FOxg+M2q49PWqlflXsvc8QWdH4DN3WF4QhwYHTPq8cj+05EuwIk9Nsqmks6XHdqRr5AbAwMwRoShgzO0S2/jBhIZtTe+e8x8WXkJAboFGyAT84c/5/CbIyDPw+e67MsXVWf2ESH9F7wv6U2HEnpd+ePcuycy/iVi39fl1T7N77Q+BGaJYFYNay+yGwKWTKAyyLqHFPw8btq0CRvhrlOOJnOvfDeN5UARxAzzGfW9xb6svIQ2xbZZwXWjq1PLdJxAqZvjBAbHBtoIfmWG4FhmMWIJIAj43XffNdMGsQSw2Y9dduJmgcGGn5R169bt3buXDTGCPwGod+I0sGkJwP8AxiFfX1+Lm/fIT4yMYGgHVEWITGAsASSJM9vFMLME8AgsAdgDSBmWmZkJK8LK5AJrBJ8GKnCWQJ2+Ai6qzKGDXKTYBmg2vYj6cBu15hhtBlSV5Bxe8zSPzx/w4LKnv77w/Ksf8ijdoidmIM2eFcmIF/KZZ55BhBBTPHnVgj0GeA+dTg9cmXnx6spHzy4ZfuvUejMzQBIS13Lqhz3eOBw9ZA5nBlh/y3Oz5Ot+TN+1MZdtBkik/EnTY8zMALTjde8eM3YrL2FOTg4MVPxdXLZsGXbUEA6ImDz8dbf+NWyA344aXepKTUzw/ECT68YTZLNfBq2OhQ7i20YHkZcQa332DyCuAXchnb711lswA7AAApcizAbsfYJdET9B9ovkSM1qLKKW/2Rb/yW0KbbNCo6I7YJnEL87ps08dx72mwH1HC4wPzVbIAkBsBPPoK1wAcLQzZs3I4oA56eeeorE+8JdAFvCThnI+ww/g8XUbyAsIu0wfjA7m0U1BPjijF85oP/tf8pKTXwlETFsvXjyTqVTlOCORrCR0DgKImAax0AcGIVSrf/zpH7+z/pH1xiPVv3oTcd+dy8+dkOv09FNggkYd/AjUlv7N2/eRAVECzkgQIM88u+//xICNVKw5Kq/GOUZ5y8vn/Xf081qHqf+b1De0d91GnX9e2n0LeRnyzf9nrnsnatmx58/pJUWq2oO3+vePWYI1l9CYkUvXryYqW/za+gh70bhCxML5vQmhyYvw0OkqqsYq0++8sK/fchxNmuXzccffvhhzBf2XC3WBGEieNDBh4NlN6mArVxQZ8LSwwtss3GHK6jSdpb9mEiOyt0W/sxZfwltim2zgsOSN7UHYfmTP0ZAB9k/dgKvB+7f7BG8ZsTXhFRi+AisQdhHx19weKjYNbGvT/4OgjIfibrwEfYdiBjAJZKaeG/xX2aNxDAUYRPNrFOYB8QAQMw3+QhJA0hr8AmYVUaWMdwHOoi5z4CCJBIJFvFWlMA4QOATsFKNeDmsFzgf7Nc2ajLAB3hR6vRgI67M+QRsvWUe//m1POqdTdTOKwjJN8qKtX/62c34z/J3HuqTYAwJIH/kgHC1SGaMj8h+GHgAPH7ERgGBO8SPI3C6CBKov8zwAyStmHP+43HFF3eYteYT3bb1Q191X7w/ou/9XEiAFVVjK+j4wcJV/7vx+4r0m1erRQUIBLwBI8NAGBoQZGFr1uvePUYJVl5CaAObdqj50EMPMfVtfg3r/ybXvwW9TqsrYfkEgr0120N1n4DtYB7r7yFo1PHjCSwiE9mJhRr+i4lmEirVX/mWWjBFDPMs5ROw/ktoU2ybFVwzKK7VahpA5AksOvatzz77jADrCQs+ImsRS4C9dpB7YknK1ATIh1gCiFcB9N8eteKPJknojozCZnkDgAUi3gm82PY0ZVYHogJchJvIPoZeSMoCs4JBvfDCC0ho4ED73CMu0gBnCbhIse5oVqmhfj1OfbqTKqio1l2sIEWtKMdfqc4d2zIfJCYmgvMLIXEpKSkWhSN/BfGbgkh9hCXB5f3VV1+ZJR53x6js7gNOfFApY4MEuxd2P2ShIrEBzn08tuiCOW8xUgW3nbOi60u7w3veBahVfXpp3M9WlKk3rc38Zkny8X2FleXmodXxrX2nL2jRY0AIv5Y81V737jGzaeUlxBcNEZz4GoK62/6voSe8J7riAkpnjC/i+QfzRBJPkMoBGTQ6FfOU0BY6SKVSYQ8V6yqQpmP3FAlfwUnCDnwkmC5wpbMlIf8F9MsB8ex9xBY6yPovoU2xbVawV06u3m0N4H2wRXjzNhvlT54DbhC71HgPAdrBljlZKyMqnWwfACNE2PoxX1htI1QXdikqf/rppyDkwX3EtdtpCWC9TrYn8MOLAC2Q8cO0AL4fYccEYoRlABbrjs0nchowpgsWEqA/AocSsnphW+S9997DnZYtW0JmSI72O3bsmJCQYKUjWD74Plov7OwKjsnMPUVzuzaO0tTQQcn5+lfXm+BABBf08t/6C5l60LDgza6J84ExgPsAtlqccfzlq/l9wE8P2IQ8/A0hzlAH0EEVmRevrJhjEQt07tOJRRdtwwk8XDOuFg+kQBdPlaxfnV4TCETu/LEiLeNmpU0xvPfdY4ZW8yV07GtoU1duqKC8fIKBBhX/3yw39OiiLr4+vIBBB10vOGG9F4vBG4BVYPlCHiRABTPsEEmwikWYi4aAZlWpWxl0UNWeJ6x0ZPGX0KbYNiu4bmiNrGUGHWTPyhKVyfAZ8k3mKeDNyDVWydihZ7SEnxQ2URXW/QT2Q9bup0+fJjVtooNQB8HNbCIgph00hcADNhCoTuggIgCMnMcee8y6EhAn/cUXXyAA2v3vAIcOqqlzbpvTnu+sZ9XR6qiNZ6mPd5i7Aoa1od6cSHWKoSOBIHFNOgt893AfbgGL4yF/CPHrAI8e0pcgtTiSlWCTjIQWeJYK6i1NZdalpB/mnvtoTNF586wlfi26Iz9Al+f/De7o0dyp9daB4w0UF6rOHC1evzpj5dKUvZvzMlPlNduKjJFOmhZz3yPNY+NtO6wb5bvn2NfQ8Vlx3pO6fDpOkRRBZJzzGnZ3S2qtgulSLLBB80VeQqAmENeBRRW2S7G7hG1XhHaApwUfWZxQ6z+qzhkw++eXV+c/2TbFtlnBOaNoAq2w19M2h8ss90lNUGAD/EM29YE3w3n06NEAbhFeTlLg/AHnT//+/cl/8acc7yciVcAiCmJ+knyA/s7eNg/MLtjigRwcj8DrRdYJBDMMkZDJC287myOIkbPm6MidmvdhroB96MiRI4hwMFuHQFp4OQBwun79OsKdkYvapqKcXsHKiJzel7c0WOefFW8ZWGOV81YF9ckOastFU1QARhrhTy0aQ03rQ0kNGGyybVBz+U78cbXlfEFKc3x7QYgxZcoU+BMQ8wR3Hr6oMKCZzCaNQKuVWZdv2wBbzYZD2wDz13R5flNwezpRIlfYGlDItTeSKvZtyVvz5c1fvk79b2dBVprcooUYECQcMSnyvjnNWyT62qnDRvnuOfY1tFNjLq2myb7BtC+Iau7SvlzauEpjslHFApn1vgBrxn4/wTBgUYUITrCqI+YbP6RkW9TihFr/UXXO6Kqhg2h4d52KTbFtVqhTd025Mlbt9u9wmzHzYD2NQF5g6I8dO7Znzx6EwO3YsYMNLCSKJbxVIA4CYQ7oa7F5j0dwQRiESMF+PBGDWdAD5Yv/Em5QpiCod8mSJYh6R25j5PFFs0gwvGXLlnbtqrGmYr1OWsOqwGxysVrA/dqY0JD+bPny5QAdoX0gETAcrP4BfAKYB6HPyJvWUK/K4MGDyYhqJlZrKJEavF/OEmjwKaiDACdSqf/bTN0wxfLRzw5vS70+gUo05r2h7xDcfM3UfeRObdTX2AzALwhiCRiB4B/o0aMH/gtyiTpI6alV5fk3klbOO/fR6KLzNWyA5t2MNkCHEZ4qfgPIBcR/8uXyA9vyf1uetuKTlC1/Zl88VVpabGJmZMsUHi3pMSB45uPxDz3VskO3utGrN8p3z7GvYQNMc40utVksSyC6pSeI5JgMKq2SeVBkyycAakWE3uJVZPdF4NTkB9DihFr/UXVM7BpP1SvHsE2xbVZw0ii4ZmxrAFtviDwBdt968Bv+TMMkgCsAa30z34LtPmrUwJs/duxYuBrCwsIceNz6IxgR2gfLEFwcwCeTSGWueJoGOEvA02bEsjwqDbXmKLXiEKVgLcMCZdQzI6kHelPi6h42ktEDtjhxMpIC9x82EnDBZt5kdwYyspowR8KSYUYv4B0qY0mpqSq5+febyA9QdG6LmfB+sAEeXd1l4eZgzgag09bostPlQP5sW5f90xc3wAK0bV3O+RMlhXmmFZWZAkMjxH2Ghs54PH7q3BYDRoYHhYodeD0a5bvn2NfQAe05/RFN+lWmTWEcHVzkpUWlZfkEhDbQQfiFxJ4ogcowhf0DSBZnqMOuQIhWavtRdY7ebEUMW+/Fptg2KzhnFFwrnAY4DXiqBjhLwFNnhiVXXhn1wTbqUHI1UbvEUm9MpDpYyuIHrx8cefiTxk4YDPAfYIXx8fEW04XAwefv7w/bnaQyIQWOb8KJYeYu9AKV3RZRp1Vn7//h9P8NzNm/Qq+rxmnj17yr0QZowvEASoU2K63q7LHinRtzf/02dfmHyX//lAHkT/LlivJScwogZt4RzxbX0mfw2PCHnkyYNj++z5DQYIcMANJgY333HPgaesI3S5ufqa8sI5LwpL78CC+OE1BqTDFREoGNeJW7774bEAszyhRgqZkfQMLcQphhmQJgBq4B4Hbh3FXLcV7nLVWbYtus4MKhcU1zGuA04AEa4CwBD5gEqyJcyKKWbKWySkyVhHzaD/DEMMqvdnK/J598Eg98/PHHiM3HBc64xgUwf0xDSJYJxB44BHCnS5cuCH1DNQD4mApvvvkmNsBgBvTu3dvT1WRJvqKLO85+MDL17zfgE2B/Dhug3aM/dVm4panFBCPHXPEtVfKV8mP7bm3+I+unZTe+/zhl/erMQzsKrp4vKypAzi9r8xwaKenaN2jiA83mLUqcPCO2a5/ggGDbeVttvjmN8t0jo7bna2hTP26uoE4+x/QoTOjgvd58rU6j0Rl9WXyeQCy0EScwbNgwDPzHH38ERJtoAMlW33//fVwQjNB9992HOEsgng8cOEAqYKsF6OrY2FjEVrlpmuoOrrApts0Kbhoa1w2nAU4DDaQBzhJoIMXb1+3Wi9RXeyk5CxEUGUC9Mp6ODbBe5s6di71/hAEBnwd+AJwRrwMA4rPPPss8CFIgYA1BYIw7CFdCHhNcfPnll0gZ+NJLLyF+DjTASKiJOw0S4G+fhizXAjXQpa+mJn0/W5FfLXmCJCS2zaxvYAOEdBxVn/a95dnyUnVacuXpw0U7N+Ss/T7tuw+Sf/kmddtfOScOFiHzV3lJrbv+ZIB8AS8qRtq9f/CEqc3mvtBq2qMtBo+JiG/tJxI783ejkb177HfDnq+hp71L6qRTjEjCxC6eJp798ig0JpyPRGg7eH3+/PlgN1coFMBeI2AArMTdunUD+Ackm9OnT0e/cPI8//zzCDRELMECQ7njjjvw32+++YbJNWa/eHWoWT90kE2xbVaog6hc1bprANkAwOi/dOnSuj/KPcFpwDkacOZfdOdIxLVi0ACyhi0/QG04S7F3afvEU4vHU7E0F6iNAq4uUBDAZ43MOGAkwBlmAJgx2NFFZLePuYP0JagAzCjC4+AZwHYX2DOw4zVypKeTaZIhkLOqLD/5txeQJqz02iG2jgQSv+aTFnd/9UBY9zttKc9bP5dXaTNTq86fKAaz51+r0pd/lPzTFzf//S3r8O5bVy+U38pVarW22WCDQkRtOvsD+XPv7Lj5L7a6d07zgaPCE9r4SWVG4mpXaMd73z1GG+yXkLlpz9fQFfqsT5vqS8eYx0Xt6OSmXlrkaiPGCfJLhX42RwECx+3bt0+dOhVs6L/88gtI2RE5ALpD4H8Yxwh4HpE4Cf8FrRAKLkA0NHHiRJuN16eCXm+y2Hk8a6yLFl9CdG1TbJsV6iM/96x1DbRu3RoALTb5D6cxTgNu1gCv0VDFY0cHP81uVp+LugNV6Nf7qiGCkJv13h7UyPZ17rC4uBi5TuHUjouzC++L9wGhAgUFBfh5cu1GV52HYuMBnVqRvXd55s5lOlX1hAk8fmT/6XF3LBL7O58YwdmDqEN7WNYXFyhv5asQzluYTx+VFca8sPa3AmMwOEwcHiUJi5LiHBEtEUtcuOK3Lpj3vns2FV7Xr6HNBl1UQZOWVPIOjYShi1gaumw3T+gEAJiLpLXebHrxpWX/zSF1YgLbPTv4JzvFQIQVfjPBrYnfQIvgKDAxXLt2DWFU4EKxM6urnV1brKZK+kV57C3ykajtdGm/tx1rzabYNis41i/3FKcBTgMergHOEvC4CUrKpb0BlTT1v7H4iqlHh1DtTHzBHidzgwtUfGXvjd9fUhYbAb6MPIFth8Tf9aZvs2oEyQ0urWMCAOpzy7joV2HdD8S/AwnfZL6C0AhJaLgYoP+wSPpCgLgTrnAaMGig8q8v5VtXE2WIuw8LeNIUNeR1GkrKP/zD8eeI2G3C+s7r94XXDYEIrLr8o/LEe+Ra1O4had/XvXQgnNicBjgNeKYGOEvAs+Zl9xXqr9OUjgXiiA2iHhtGhdl2bnvWQNwmjbqyKPXvtwpOrjPrURaZGD/5De+NCSbRvQW5yoIcBc6wAVRKEyesneoVS/ghWPRj6R8hDgnHWSLzabAtfztl5qo1lAb0Ol3xi3fqimlaTBS/ee9I+41rKGHq3+/JjM2/n3uHtNM9Zuz07sbr+rfs5hZUF1coT31otAQ6PiLt9bKbBeC64zTAaaBxa4CzBDxlftVa6pdj1BFTSh9asJ4tqFn9zdMFeIrEHiDHrdMbb657XV1B50lgitA3OG78wqgBD/IEDZDJ3GGtABuDpX9etiI/W5mfrbiVr9RqbMP62d0hwDckDOt+eulPDAD/QG+FdjisRu5BhzWgPHuwfNlC4+OABn22jSe1wbzpcF9ueHBv8uotSV+RjgYnTLuzo4kswQ29O7EL5flvVGeM4aTizgskPW7PkRP74JriNMBpoAlroFFZAmQevTFaoLiK+mY/lcZa0CKYd3I3anynJvxuWh26siTnxh+vFF/aWa0Wjx899JG4sc8JfeqW47ahtAw6/9xMBZJ55WbJYQCoVXXb9fcPFBr2+w04nwgxsnrxEVDCFU4DDmmg9KMF6qunyaOSQZP8Z3s3CuWfS58dvLmWDOeOdk8MT7wd/+CQchrwIeXZL1TnlhEBxF2fknR7ugGF4brmNMBpoPFpoFFZAt5oA+CVSimgvt1PlSlMb5dMRD0yiOoc0/jeNyeMCHvneUd+Sdvwf1plBbs5n2YdEqd9glwBTujDlU2UlahzMuTkKMxnhYPY6hRQH7LfT0P8DYCfBozutSUs97mXaUB97Uzph/MZoYPeWCNsYYur2LOR+e2VAAAgAElEQVSHuObU4vM5u4mM07q93SPWW5FOytOfqi58a7QEuj8v6fKYZyuek47TAKcBL9MAZwk08IQduE6tPUFpWXvBUQHU48Mo5A3gSk0NyPNvpKxdVJZylP0RsgbFjXs2ZuQTHgsHQrAv+D2zUuU4V5TZYPFnhubjKwiPpil96CNaGhDEQX2474RLNADruvTdWZrUK6R1UfvegS8YcTUu6c8tjX5xaE5GySXS1YL+37QK7eGWbp3fieLkB+pLP5B2JT1fEnea6/w+uBY5DXAaaMIa4CyBBpt8hAX/eZLac7WaAF1iqDkDKZm4waTy2I71Om32nu/St36i1xjzhhJR/RN6tZr2qU9koqdJrlLpMm9WpadUZtysKi1iJYerXVCpjB/RTBrZTIpzRLTU19+b4hw8Tf+cPPZrQLF/fcXqJUz9wFdWiLw5pxgZyNs7xleoisj14hEbgn2i7VeIR9VUHHtbnfQzEUnS53Vxe2+FOXmUVjlhOA1wGmA0wFkCDfMyIHHYikPU+cxqvU/oTE3qQtU9nXzDDMGdvVZmXkz+bSHO7E75Yp8Wdy6OGjTLIue3O8Vj91VSqEpNrky7XpmVVqWzA/YPkE90nAwHsvkGhnAmYEPNW9PtV1uQVfLWTL3CmJFX3GtkwGMmq8BL9aLUVL22bTgRns8TLLnjIM5eOhbFf4vVyX8aLYEB74lb3++lA+HE5jTAacAzNcBZAg0wL6Vy6su9VLpxu8qw0yOkZg2gejRvAGE8vEu4AjK2LUW+MEpXLW1WUPvhre7/UBLiEbEUAFcA9J+SVJF6vdLm9r9AyMOuf7PmhtV/rFQi9dYFioe/OZx49mhAr1KULJmnTb/tmpTIgt/9QxASac+znlwnszTp84MPEwnDfONeGv6XJ0trXTb5gec0NzeROtLBn4paNtos6d47R5zknAa8WgNcUiF3T19WCfXB1mpmQJAP9eJYzgywMBGKwoyLn9+duf1/bDNA6BPceuYXHRb83OBmACj/Af7Zsylv5dIbf/+Uee5YSW1mAJ9PYenfZ0jolIdiH13U6u6H4/oND2uR6MuZAe7++nH9sTQAM7t8+RsmM4CifO97uhGYARhiXrmJjznCL967p13DYpMQyrx7LJz0nAY4DXieBjhLwK1zcjmH+mg7VVRl6jQumHplHBUb7FYxvKIz5Ao499Ho8tSTbGnDekzu/ur+8N73NOwQ4AHYtxkGQMo/v2ZdPlMqr6rmr2BkCwwRde0TNGlazLxFiVj99xkaGtPCh8vp27Bzx/VONAAzoOKHt1Vn9jEKEfccLhvewN8sZ81OTlky01SUfytnNdsg7ei1JkuAJ5A2iAxcp5wGOA00Yg1wloD7JvdQMrVsD6VgxY6CJ/SFMRR8Alxha0CrrEr+deG1nx7XKsqZ+6KAyHbzfmzz8Nciv9CGUldpser4/sLVX95c92PGxdOlCrmFOABs/8cl+AwaEz7z8fgHn0gYPDYCe/8iMfdFa6hJ4/q1oAG9Ul62bJHy6DbmM0FMK7/ZbzQaZWWWmqgYmgW09upx6dXGEA56FCLur4VXTyYnPKcBT9QAt0Bxx6zo9dT6M9SaoxT4gpgyrA31+FBKyjFDVp+BiswL5z4Zl3/MmBKIfBjccXS3l3aFdBrtjtmq0YdKqbt4uuSvVelrvkw9fqCwrNgCERDI/tt09h9/b/TcRYmTZ8Z26xuMPF8NIi3XKacB6xrQ5KSVvDdbff4QU40fGh3w3Bd8mW/jUJ1Or8ssNTKiYkQxge28e1xqU+IUnrCRzJF3zwgnPaeBxqUBzhJw+XyqtTRN0DYjsTXdHdLA3teTmtaHwv4xVxgNIO42e+/yC0snKfJTmJvIFZBwz7vtH/1R5Bfifl3lZcl3/5u78rOUfZvzkQy4pgASKb9D94BJ02MeWdhqzF3Rrdr7i7ntf/fPE9ejfRrQ63TyXWtL3pmpzTLB6PlhzQIXfS0IDrevDS+olVN2Xakx7qP7ioPCfGO9QOjaRWT7BHhiP68eCyc8pwFOAx6oAW4p6tpJqVBSn+2iTqaZehELqAVDqVHtXduv17WuKr915duZqRve1mtNO+6yyNZdFm6OHjLbzcPRqHVA///+fdqfKzOunC3TqFmuHIMoAgEvsb3fhKnN5jzfasTEqBatfHHHzUJy3XEaqJMG6CzC786q/G0ppTJl5BA0bxu0eIUg3CM4uOo0HCuVkwtPMZ8mhHRzVrMN1Y6e7RMQcZZAQ80D1y+ngUarAc4ScOHU5pXRNEEpBaYu/KXUwtFUtzgXduqNTRdf2Xfuw5ElSfvYwkcOmNnlha2+MR3cOaKqCs3RvbdW/e8GGIEKcqulMCNigPpz+ITIOc+3HHdvs4Q2fpwB4M7Z4fpyTAPq5POlnz9X+uF8TVoSuwVJv3FBL3/PDwxzrFmPfepq/mFGtsTQnh4rpz2C6fU6SmUKl6JE/vY8xdXhNMBpgNOA/Rrg8gnYr6u61YQB8NVeqlJleio6kHpyOBXG7emwFKnTqtP/XZK99zu2cgWywMRpn4R2vaNuGq9f7eJbqjNHi5POl+m05h4ANOwXIGzfLaB918CAIC6wo36K5p52lwb0aqXy1F7Fnj81KRfM+uTJfH2nvyAdMMFdsrivH7m6/K0dY3V6I50XMgkgn4D7und2T3placXaXsZWRX7+0884uweuPU4DnAaaugY4S8Alb8DZDDo2ABECTGkbST02lJJxQaQsfatKc6+unG/GExrQqm/rB5dJgt0HV8hOl585UnTzGouggyVkfGvfTj0Dm7fy5fM5/I9Lvixco87VgF6rARBIdXyn8sQuvdwUbMr0Iu4z2vf+ZxtTYABbgcfT//nz/HvkDjIJLBr2u3PV6+bWdGVpletHkU55frF+9+x1swBcd5wGOA00eg1wloDzp3j/Neq3ExT4gpjSvyX1YD9KwEGxWMouSzl2ddV8dTkLO8Xjx417LnbMMzy+m9LupiVXnjhYWFsocMcegZ16BnFOAOd/Q7gWXaABbXG++spJ9cUjqotH9JVlFnsQJnb1ve8pUWIXF/TvKU1+9d+jqcXniDSjWj8ytu2jniKZQ3Jo889Ubb2fPMoP6+I7YZ1DzXAPcRrgNMBpoFYNcJaAk1+ODWeprRertTmpCzWxMf/ldUSB2ftWpG58h505GE6A1g99FdCytyPN1f2Z1OsVxw8U5WdboAPC0r9bv6D23QJFIs50q7tmuSfcpQG9Rq26dFR5fKfmxkVdYS6l1VjpWdSpv2zcg+L2t3Em7hLSzf1kl13/7MBMplNvhwZhIOr0nYq9j5MRCWKH+4xc7maVct1xGqinBkpLSzMzM1UqVbt27WQyLkl2PdXpksc5S8BpatXqqNVHqKM3TQ0CTjKjLzUo0WldNIKGkDUsZe0LyB/MHktQ++FtHvpS6BPkhgGm36g8trcwz5INEBEt6TEgpGU7v8YEBNIrquhDibNcr5LrlQq9ij4otUqvVlEalV6DswbLSiwlkXeW0mopnYbS6UDqijNS0dKTctvDpaf0muTzFA9AKR5cN6K23Sken4IPB6HT4MSlL4Q8AX02XIjos1BECUU8oZASig3XYp6IPuibIgk50//FTTzFlVo0gFxg2vxMbV66NjdNm31Tk5WizblJT5bVwvMPlvQfLx0yRRjdoimo9rczb57OMqZLaxXac0H/r7191KqkX5TH3iKjELW+TzrgfW8fUSOWv7CwsEMHuygupkyZ8u2337pIFT/++ONLL72Exg8fPtyqFZ1gOy4uDgvxWbNmffjhhy7qtGazR48ehSR//vlnUVER+ZTP57du3bpLly5PP/30oEGD3CYJ6Sg1NfX//u//oBNcQC0DBw687777Ro0yQu9sCjN37tyKCgtgSzzYp0+f559/3mYLnlyBswScMzvIHPzdAepyjqk1sIU+OoRCFmGuMBqQF9y8+sMjVTmm9J/4KHbsc3HjnqfXkS4uWP0f3lWQlSav2Q/SAPcYEBzTwmvyd+pAdJpzU5OTqsvPxHqdJ/XRVZToy0voc1W5rrJcX1Wmr6rQKyqrwdRcrOH6Ng+jQgyrwGAYiKX0Bf4rllDkgj5LDRWkxpsSYx2mAv0U/Qh931ATJoekvlK563mYZ7qKUnoSy4t0ZUW6klv0UZyH/X5tYa6+osR+QXh+geKugyW9R4k69Gk69lVe+c1P90+H/UoUNavXxx2jhtivNM+sqTy9VHXhGyKbuMuTku7PeKacnFTQQG5ubnR0tD2qwBr0jz/+sKemA3W+/PLLp556Cg9evny5fXuasFwoFGq12kcfffS776qRczjQuD2PKJVKrPWXL6/VfyUQCBYvXvzGG29AMHsarH+dvXv33nHHHQpFNRQALBMI+cgjj9hsv6CgICIiorZqd95558aN1TY3bTboaRU4S8AJM1Iqp77cS6Ub7V66QX8JTRMU39jY+eqlq6KLO66veVqrMDHiCWQBrWd+4YbMwWUlanCDXrvIIuO7PZSEtr59BoeGR0vrNTaXPYyloe5WtvZWjrYwW1eYpyvKo5eGJQW6kkJs1Lus28bVsMG0oI0H2h0Bu4I4JYzuCEoEfwVxVtAX+JtJX9A+DYMfAxd8Ae3lgLsDF/SZb3CD8DRpV+mc4YY4cmE8stjClIXLREffBHENnCrYsIebBaAd2vGiodRKOGHA50PBJ6OU0y4aOGrklQjq1ckr9JXlqFZPvQsTOoo69hN37i9s2dFtwTb1lNmJj6849szVgqOkwUi/hIVDf+PRzivvLvJDizQpG8gYJP3fFbeZ6t3jadTSM5ZAfHw81p1Wxtq7d2/s0LtIGV9//fUTTzyBxpOSktq2bUv/QLnREoDzYejQoXAIkNFh033AgAGdO3cOCAi4cOHCf//9t379evLRtGnTfv31Vxcpgd1sVlZWx44dAVLC0v+5554bPHjwlStXPvroo+LiYlT7+++/4aKxLsbOnTvHjBmDOgkJCb6+5nm+McbPPvvMDQNxXRecJVBf3SJpwOe7qUIW8Uy4H/XMSCqc432+rVpkNs3Y+knmjs/ZuvZp1r7dIyukYfH1nQCrzysV2pOHis4dL6nJDQoboO/QsLBIT9kzBm5Hm5sK7Ad2+mkESF6GriATK0WX6odr3Ks1wA+JhHkjCG8m6thf0m+sIDDUq4dTH+HPZG3/9cwbTAsP9/qwU9Sw+jToIc9WbZuuzTtBhJGNWimMGewhgnFi1NQAYwnce++9QMU0lIoA7IQHAL0zO+7utARee+21996jybtCQ0Nhk9x/vzHendHGP//8M3v2bECGsC7HirxNmzauVhSgO2SlvmrVKsYAg1kyZMiQkpISGCqwT6zL8PHHH7/44ouoc+PGDRgDrhbY/e1zlkC9dF4zaUB8KO0NQAYxrhANqCuLr69+oiRpP1shYT3vavXAJwKxC4OHsCd74WTJiQOFCrkRLcAI0LylT78RYREN6gfAjzWAPZqM6zi0mdc0mSnY+3fJOwOQjNQX8CGeBIeUJ5EZkDPAz9zeICfb4UZkP3bBb+9/Yz+V7H+Tgv/SQus0KedpxBFCCHg8YctOhl1wOroAH9FBqzC5DHvhhu1wNYX8zPSmuJqOQzCe6fgEOkQBZ+yCG870f5H4lsQkcMWiBgQCfmi0ICJOENVcEBUvjGkpiE3k+3D7DbSyiqtylh6YqdAYUbwtQ3s81t+IqPH2t6niz0H6qjwyCt8pO/kB8d4+okYsv1MsASzigUcPDAy0riggcNRqtZ+fXfmJbFoCWBBjzx5Lc3tmB7v+Go3Gx8cCmPbatWvYfcen6PHkyZNdu3a12ODatWvhEMBH8+bNswIiskcYm3V0Ol1ISAgcAs2aNcvIyGCP8cknn/zqq6/QwpkzZ7p1s5aMfMaMGXBfoB2Egtjs0RsrcJaA47NWM2kAogIeHUyJ3YR8c1xytz1ZkXnh6g9zlUWZTI88vrDFXW80G2obmVcfITNuVB7YXoBkYWaNwAMwcHR4XELDxANoi/JA84JDffOyNv0aDeKvV+Fhz4fGxPsFiTsP4PsH4oLvF8TzDeD7BvB8/HkyPySQ8iKYOGwGPewBGAYqJX2hRmQzEDWA0xhwNXSUM33fEPFs+pS+b6hmuHm7gvEptKaul47d+TDsMcwdJjEgBAcvMBTZfwXBEdj454dG8YPC3RBL487hOqsvlUb+9eH5WWXG6CMhX/zckDXIJOCs9huwHb26quLX22spnsBv5gUen8ts2IATYqNrxyyBsWPHYp2KfWss67F1fezYsfLy8uDg4MmTJ7/++ustW7Zk94o96SVLluzYsQNsPFjjxsTEIEYZwazsrXfAXQB9wVPwSyBWGBe1WQJbtmzBbvfFixdv3bqFlT0W8ePGjXv11VclEpOr/K+//vrkk0+wCN60aRO6xiOnTp2CEQLcESR///332XRAgP4jKhc9ImT5gw8+qE1fsHbgCsjJyUELDFjIRfOK0QGbhMYXLVpE1MIURA8jbhj/hZ7feecdKwJAMwi6AAoIMCEXydmwzXKWgIP6r5k0ABxBM/rQu6hcIRooOLUh+dfn9RoloxCRf3jb2csDWvVxnYrKS9UHdxTcSDKP8ff1F/YfHtq2S4A7ocPYJtdmXkeaJ/X1c6DcAb6/zgMXSwRhMfywaEFoNL0ljEUhjuBwel2IvXyu2NIAzYBEzAPaC2GwKwweCcYdQanhrwB7kpq+STsxDB4MXMAswbXRy0GTKdHuDng/CJ+STq++cfE2sRIlTGhvWKbzSAgBxaPDCQiHEm2J0REIRtIkOo4Zxhs8M2IZ7ajB4QODzY/vEwCPja3RcJ+ba0CjU/94YtHVgiPMB5M7Pj8ooZGA6bW3LlRtvpsMjRcQ7zelca5CGs1r7ZglgEU/tuSxJ401K3bT2dpo3rw5lt1hYcaIQ2xp9+/fH6j3mhoD3mblypXkvj0Rw1iLw3iAzVCzKZgWv//+e6dOnchHn3/++bPPPuvv7w8joSbkCdUQEsBA50ENlJycjKcwFqyercwsxhIeHi6VuvxHD/xFUA4kQYg2ArXZIkHbIhH9Z/See+6BwVObtHK5HMOHxl5++WWEfxw4cCAlJQUmFqYMloxF34jXvdKcJeDIlP1zjtp8odqDyBiAvAFcIRrA8itjy8dmgQH+Cb1gBogDI12kJeBTzh4tBhwIlJjsLoCC6TkwpFvfYKG78gNosm+qr5ygj6unweRj73ixlgyPAdujIDpeENVCENkcUBB+EBd1bq/+uHpNTQNqrWL1qcVJ+SaMb6eooQ/3qrbt59U6UV//S3H4FTIEYfPRsuFeT4rq1dNhU3jGErj77ruxmK6tPnajQJ7DfEosAfLfxx9/HMG+qACEPRb0uDNixAh4AEh9glHBBbbtsajFQhZb1KhGbAMG4mKPJfDmm2+SXfDIyEjs4vfs2RNOhmXLlu3atQs3sYg/e/YsCTMglgARDwAbbPZjOx+fwlFAoDKgQ50/fz4u4MoAxAgX8BLgmj1Gm6pzXQXICW8A2t+zZ8/w4cPNOoLAELVv375MiHNNSY4fP44KFiVMTEyEpUEcC15dOEugbtOHDcFfjlOHaKPXWLikAWYa1Krk19c8VXR+K/t+1ODZ8VPeBAF93dRtd20whO7+J7eowBwO1L5bQP8RYT6+Lgds6eSV6svHVef/U186qivOt0dwQEGEcW0Eca2FhgMGgBdRXtozQK4OpwHXaaBMcevHky9mlFxiuogJbIfwAImwYbB/rhip4tjb6qSfScvirk9Juj3til68qE35zt9U5w65U2DZmOniLvau8+xkEcUucmWlCRrKWAKISWXz/S9cuHDp0qUYLLPUjo2NxaLfLMIVm9lkqxv1serFhU1LANv2wPYAXISVPXwOUVFRRKW4g4DaNWvW4BpAGrKAZiwBuCZARoQ4YFIZW+PgCMIF9sW3baOTeCD8l6RTAL8+ME5OmaapU6du377delOASF26ZPodMKsM5M+7776Lm+fOnUMqA7NPwfKUlpYG+ND58+dr6wWRDMTUIQWGEOwHgIWqqqrwXxg8sCJ69fLupI2cJVCH11Wlob4/RJ03gd4pLmmAmfqUxVlXvp9dlWX6WvIE4lbTPo7ofW8dFF2XqlqN7tj+wjNHim8nvzI+HBkjHTIuIrKZa52PgP6rzuxXnT2A7X/rSV5psUQSYYt2oladEGgrjG8vCGtWl4E6UhdMlkBRq7QKtVap1ik1WiXQFBqdSqvTaPUanFEBPBM6PZgvDanEWAX7UnTIMI+fW34Tjwj4QgFPGB3Q2kfkL+CLcAjpQ0yfBThLRAIJrh2RknuG00AdNXA1/+jas29XqEzMzeG+LR4f8K2fJKSOLXl09crN9+huGRcoshHfCuNGerS4rheu4qf3FQeMnKqu743uwe+hV6RDbVBMMpLYaQkAEgPACfMUsQRwRsYrsqdOCnbcsU5F9DBW5yC9wR2CvQGxPeh32LvU2MgHjgiVxWIxqtm0BL7//nvkFkDNb775ZsGCBWxN5uXlIesWDBV4CRDyi48YS4CxDZj6CB4AESdTc9++fWTT/cEHH1y9erXZBAFkj9133CR/aJg/NwA1ERy/xTJ+/HhiZlgpyOGQnV0r3wbsK8RC4HGLtD9A+MBCwJAJqMligaMGisJHsMHg6oE9hmtwHz322GMkKQQMDOiKAI28tDQqS4DMgYtyZ1Qqqa/2USALYoqfIWlAAgffuK2R8tRTSSseUZebdCTyD2s3d6V/fE8XfT1ys+S7/8kziwyWyvgDRobDG+C6kABkelIe36k6uUuTesX60Hi+gaI23UVtuglbd4MHgKaor3dRaCoLKtIySi4XV+WWKguwQMfqvEpdLqePMjCooIJCXanSyrGCr3dvdWgAAHmhQCIWSEUCKc6GQyYWynDGTi3OUpyFPriWCn0lQl+cyQUOmcgXT9WhM65qk9RAlar038tfnMzcxB49DNR5fT/3lzQqElW9Rl7xaw8k9SYj9b3/KF/WqAbowPvrLZYA8nk9/PDDtQ0Q63Ww2jOfEksAm99g1DF7BDSXBw8exGoVyB98hHxhBDKEgtUngPsTJkzA8tQsP5dNS+Chhx4iG//5+fkA65t1imaxDQ9kfFlZGT5iLAHECmNdzq7co0cPCAZJsJjGfUCGunfvjgvQ89eMQGCDoNiNwH4gvgWLBSvvq1erpSKtWS0oKAiJzGpr4a233nr77bfxKXiNYEqZVcMG//Xr1xHtAFLR2lqArwPDhI0EzwA7KgCRA7CCyNjhIUGaAgdeaQ95pFFZAi6yATBVRZXUF3uonFLTrIX60kkDIk0GvIdMaIOJUXBiXfJvL2APmpHAJ6Zj+3mrJMEuSbOsgStgXyECA8xcATAAYAbIfEwoTCdqBJlfYQAoj+/QpNT6q0F3J5aK2vYQt+8tat9LgNW/Q+mNNFpVkTynqCq7RJ5bLM/FuUSRX6YoKFUUAB7txEF5TlOIsZUK/WQif6nIT4YLcQB9FvmTQyry9xEF4MC1jzhQJvJDfc8RnpPE1RqAX+tw2rrd11fB3GX31Ta8/8we7+KdcbUAbm5fk3VQvmsO6ZTn38LvbhrA3cSLt1gCdconQJbIZtAgMtEkMACbzdikxxlLc8S2Eig/U/A47AFgYBhifpuWwKBBg8CgbwZSYhqEl4AspbDRju12xhLAWpkJIyaVSTsMtAYERMSuAFTmxAljEgym2ZkzZ4Iiifkv1uUo+K91S6D+LzyD7QGGpybcH5An+F7sSSlgURL4aubMob+kYCOF66D+0jZUC5wlYFvz2SXU53uoEhoSZiwxQdQzI6jAxoNHta0EKzXg5kvf9EHWLuNeBakZ0mVc65nLBBKX6Cg3U77rn9ySwmoEkX4BwuETI1u0Ms//V6+xGR4GFz4gQIr/NqkvHaO582sp/Mjm4q6DQOgJJ0CdiH2gwGJ5Tn5FKo6CivSCyoxblemlCruCDeo/Ou9tAf4EmSgQ/hAf2AzESBAH+OKOONBXjPv0BW08iAM4m8F7ZxmSV6nKjqVvOHjzt3IlK5E7TdXEH9VmzqjWjwDD5tUDtCi84sT76ss0JgRF1OYBaX+anLGJF2RdtDMKy1mKovkbgiPsbK0+3EEIAiZwdnYhlgB8CMAIEfAJ6Duxnb9u3bq9e/eyIUaAFWH7HNv5qGPTEkC6XIQag/AHzdYcGkKWEa+M+6D3ARKGsQSwN2+WBczMEsAjsARgD4CzH/HHsCKs6A1YIwQfo4KrLQGQn06aNAkd1fRp4C8vtIqtfTACbd682c5ZZleDIQQl4A4TpOFAI57wCGcJ2JiF5HwaFFTFAlm0iaQeH0rJaDweVyitsvLa6ieLL+5g6yJm9NPNJ7zo2F64dZ0SVwCiAsyqdegeMGh0OCg3nTslmuwbigMblUe26CtY/qDqfQhbdRb3GC7pNhiEP3b2rtRUZZddzy67llOWjCO3PAVIHjufrVM1LJVoiI6QhuswUH6A+wnoH2c+T8gDZxEPce98s/lCFjE9aDL1uqzSqypNFU2cqdcBjY3KiDFAvIHWEHIA34UaZ50KngpEHdRJPLdVhquBtg2M5gFsBpgKQbiDM7lpuA7k4ElumxF7OsLf6ZtFZ49n/HMue7dGZyIjJs9G+rec2vX1uCA6QrFRlop1I/QVGWRo0mFfiVqMaZTDbEyDqo8lYDHHFkEHAYSDuF4zRcEMgDEADD2YPdEvPmWq2bQE0NeKFSvwCDbp2ZEJpAusm7F6xgWSl8EIqZMlwOTqglUD28bK5NppCQBxBFiO9ZcEzg0ryJzTp08Dw4MWoBYYOeymEJhBEgbXTDXArgZnAmSAompSDzFmBmK72Ygvr3urOUvA2pQhd9j3BykNK/Npj+bUnIGUyMkLTq97bYwCK4oyk76fVZVtwsrzhJLE6UvDe97liiHlZCIqwIIrYMSkyOYtnekKoJ0Ap/bI967TXD9b20CEiV0kvUdLevrJn9YAACAASURBVI20h+gTsblY7qcVX0wvuQh8P1D+WGQ7rCIs5bGERVQAjbwX+fpLwjpEDjTAZmjkDGASt/H3Pm5e2sISoEOTtQpDjDJ9NsQry5VaOWwJpQYXOOOoJJEM9H/Vhmv6qIBp4bBOnPIgjCViEtAWgsFaMLoXYDYYXQ3wMARBvU7pjmvEogbwZblZdOZi7oELuXsBh6tZB1ElIxNnDWk5HaZsY9WhtvBi1abbgap8sd8Dx3ki7q3z9NmujyWAdLxY9bJHCCwQ4oCxWCdGArA6v/zyC9h7pk+fPnKkKXYcwCEQAYFTCFs5wP0D7mLTEmBW4Yg8JvvlTAEfDhbHaAe0QoSctE6WAAJne/fujaeQmwz0QbXlGEaF995777XXXsOFdZ9A/SOGoUZ4JzAumFX79+9nD5bRA/iXALuy/HOk1QJ/hVhnzAVYhszqYAgYCG7WdDh4+staXT7OEqh1vg5epwlD2TD0YW2oqb3pxEFcgQbKbp64ivjgClPybVFABB0f3IKOGXJu0ah1Rw1RAWbNduwROHAUXAFOwwYgEkCxd5183zp9WTUcAtOvIKaVpP8dkr5jkOTL+hixJk4rPp9SeAb7mukll+oK7kf0baA0IsQ3JlgWFSyLDpZFBuKQRgRKw7Hcd656PaQ1uBdgD8jViHjGmQRAVzuq1GXAiBvO5Qp1RX2sqfoMGVgjg4eBMQ8QtBBwG49EHA64Q58b8VK1Pgqs+SxW/1mlSTeLziUXnrpReLo2FxlM3wHx9w5r9SB061wBPK01xbF31El0TCeKMG6UbARNXcIVD9dAfSwBDM1sXY44V0S74j5Q+6D6YXLlIioXLgK2Cxfwd3Deg8WfpAq2aQlgvQ6iT/jcEIsMQD874BhZhBcvXoxOgXoH9h0XdbIEUJ9xC4BZCCRFSK1gNmuwbZDBALkLVCoaa+FqSwBdELwTNAYdEp5TFIVCAV8ByEARGw0cVGBgrT8pjJPEzGDAUwgNhyUGGlZQDzHp1Tz8LbUoHmcJWJ61Teepf6vTy07uSt1RK9WVN059vWTOP/ZHyu8v0qlYbxff2E7t5v0oCbIGDXSsSzoqYGNuSVG1DWP/QOGIiZFxznMFaDJT5Dt+UR7bjhSzNeUE97+k33jpoInC5m2tjAKb4tjyv1ZwPLnwZFrxBfs3ubGUjPRLiPSPB/wm3K95mG9ciE8MR8ppVdU6hbrcwJhUBhw5sRDoQ1VaqSqtUtNn3MQZ1RrKZpAIfEjowu0oZzr0mXhvEL2ACAcS54A6Tc3PAFsuryI1tywZGLms0ms4W+e5gjHcv8XdfZvfBb059jPiRU/p1VUVfw6k1EYMt3TYMlELGv/NFQ/XAGMJYJN+2rRp1qVFiDDW7qjDkOpgSYqlM4h3sEj94osvkPwLBP8IZkVKLGyxoyYSfmHligvwVyKEoF+/fsC4Y0n9wgsv4CYWrLAlcGHTEkAdMJP+9NNPuADMHfkKsD5G4CwW/djhhoUAhn6gkghypq6WAIQHVocwkKLA2AAtElbMsDfg9ABWB0t/UHCSTzEi7KZju702XeXk5BAKIysFECYiam2FyZ+AJTuiKTDk9PT0Rx55BIrFI+xYbchGJg7xzYR7FAUSTpw4EWqBtQCLAsPBNZ5FCwiHQAUm4YN1OT35U84SMJ8dgKN/O04duG66D+qXB/tSAxM9eR7dJ5vF/MGhXSckzvxcIKZ/15xY0Nfpw8VH994yIwjq1CNwgPNcAUgFULV1tfrCYYuSi9r1lA65C5EAPFGtoSFYbiblH76Sd+jarWNY4tjUAPb7w3ybxwS2bRbQGgSI0QGJ2Om3+RRXwTENINQBkwILAeYBsRMqDReG6xJyjQucEf/gWBf1fwpxGmBDIhRJhDGJECgZsF7M2Ui6aqBepVlZXRGKU/+xsFuA66ZMeQuEVyXyvEt5B3LLUipUxYCK2WmbYYwdIwf3jJvQOqxPowwLtqht1eVVyhPvk4940hDf+w7xuEwdzn0vXdOanfkESOdY45KUXjXpNRFxCxsAH2GBC4wNQ/SJ62HDhmGpTVrA9j+g/DAGcI21+7///ktIPO2xBAB8B8E/9shJU0iPRdpBgVRA0TDBwXW1BNACJHz++ecJB39tBaOG0wMmjRkFqmtmhnrllVc++OAD0jjMKuiNXMOawpqemGQoWPSDiAkXYAT64YcfGGFefvllJukbscqYFmBIwJGCKXOR5O5plrMEqulZraVWHKIQHsAUhAQ8OpjqQqeS4Aql0yiTf33+1qlquV1ixz4XN36h0xclVZWaXRty02+wOJsoCq6AkZOiYhOcQ0mkuni06t8fNMk0H7BZ4Ul9JQMnSoffK4yuNQ64sDLrYu6+i7n7gQKyubIB2XmL4E7Ngzo1D+4UG9jOdZlQ9UDbqyuxrajXVFIaBVjJEdat1yopELzqVHpkGNBpaAYkrHoRD4wYX9rMYoIWYKTQCcUokLHwBRRPoKvM1suLeEgOLZDwA1ry/WJwgWxxONMXQimF9SjOQqxKvfunEC8AwhVuWwjEWiih3QtGy+H2taoEOdo84bcAU2VM1CCUwfmAvA3EPLidz0GGXG+Ga2R8Q943kv0NweJ0Pjj6zBPy+cJKZQkCwYUC+qavOBiBJZh++h994M2g8//QuefoeHGtVqc1BIsjQFyNLHVMTAgJ/zDEftCwLmJxVahKKpTFNSN97VFdgCSsbUT/DpGD24b3g/z2PNJo6uALW/n3SL3cGCAh7vKkpPszjWZ0jXsgBQUFSPtl5xixFieViSVw//33IzUYFvEkcy3K6NGjsd8P9wK7wUOHDmHpeeTIEeamn58f+PgRAcykCsYSnDBaMmw/WLwCioNlNyEFIgVrWaCPUJkh98RyFgmDEfzarl07phpkIGz92FlHBi62MOgXPPpMugOzgSPQFlnDkHuLTR4KaZF/YODAgSAOYtIV26mxelYD5xKcJwiBIO3AApk7dy58IEAxMS0jkQLhX6oZwI0MCQgsRnoyUhl/J5GdADAnTFw9BfOExzlLwDQLchVNE3SdRd7oI6Zzh7XitmsNSlJXFiWtmFN+w8QTzBdJE2d8Ftb9Tqe/ypk3q3ZsyKmqqMZF06mnwRUgdsKKU3XhcNXG7zU3LaQo54fHyEZNlQycxJdZDtEDx/+57F04sspsZDwJljVLDOvZMqR7y9BuQPvUU0tY4uvlt/RV+Thrii7r8k/qsYxTliFKmxL56VVllKpMryrHcr+eHTn4OF9MiXyQ5Ywn8qGEvghwpGMc6bMfDkjIE/vzRP70GQAPcQDO9AErwtsKVsBGNwKNQQIkyehhADaJAJOAViJnZG72tsE1mLyIgYkP7pIQ0rVVWK8o/5YNJkdDd6w8+4Xq3DKjFEKZ7z37+NJGlTi5oRXscf0TSwCgFBCGajQa4GdIEDBidmuTFegawISwwsZiNDExsZ4b0giERSAyuHHQGgKOnasgjAiRx0DRkFhk2BJO3zSsk8DABSGPAQYLpwdSktXpWVSGJwePw4WCLApWQgvq2myD1+csAeMUlFbRSQOySkwzEuJDPT2Sim7kkWn2voHygptXvntQUXCTeUDkF4rAAP/4HvY2YV89nU5//EDhyYPVAnaRNnjU5Kj41k5IHqS6fLxq/beaG0avKFso8IHKxj0o7jYEvJo1hQWA5GzWjtNZ28H/Y2UoQIG3Du/bJqxP67DewT6ORE3oNQpdeZquPAMcgrqKLH1lDr0xX5mjV5iCs+3TpTfU4osNtkEgJQnkSYJ4OIsNZ/o6hCfFGUcwfXibzYDtdKOTgQ5gQNACHf0ME8Kwa24IbKDDG+hrHHUNKPeGqbUmI9wOEX7xYAIFNC4moE1MYLsAqZOXIN6oIm1pStU/dzLGvLjzfEkPGgLOlUasAbYl0IiHyQ3NkzXAWQL07OSVUZ/vpgorTTPVLJA2A4KdA0Lx5BfALtnKUo7DG6CpMlH3yCIT289fIw2tNdDHrnZrVKooU+9Yn5udXo1cv1lz2ZgpUX4BdF6V+hRN6pXKP5epk4yRTOymRJ36+0ycLWrdrWb7CAJOyj9yPP2fK/mHrPDlA/HfPmJQh8hBsUEd6gRo1slv6Yqv6kqTdaU3dKUpurI0fRVNDs0Vcw0AuCIN5klDgZymD9pOCMF2Kfu/MCq8VG8gzyGmwm3eJJpACWAb8l8CvCF0q+BgpWlY1ZUeAlKyrnARX+IvDTVwXkWA/RPDifZvBYActv+bGuzH5puJBO1VW6fqCo0bDXjVfafs9N5X2uZ4uQpEA5wlwL0JDa4BzhKgUm9Ry/ZSFSzob2I49fgwyrdpwVNrfRULTm1I/uU5/JViagQkDmj3yAqhj5PdJanXK8ARpJBXA1T0HhzSe0gocl/V56uiLcyt+vtr5dFtNRsRdxvsM2muML59zY+AAjqWvvFkxiaEPFrsHfuaCaHdO0cN7xQ1NEhmg1SUtABMtq7sJv7Yawsv64qu6Equ6hWW6UodHy9PQNEQHQM4RyjlCWQ4UwIxD3hrAHj4Ijr6kI4BENLBAMgpRuP7GfViIxv6p1OKGWIJtLqS67qqPBJXwPNrxgOVPoINSNQBghC0CsNZjjMr2MBx2ev7JDwMsA1kYTxpGM58mA0yWA64vn2Gb8H74xmIlmCXIkUDnahBW4W8DSRpA53DARe38zkQKL8h75uSTgCnVZF8cPRZr9HpNEXyHOKOwMQbkjHz6cAAOm4EBx0yYAgboF8SJKET8AWGhHR0UIFQIMYqn8QkSOgQBQQx+8rorM+EFgm0qsF+kmDXxcPU91XxvOcVh19VX/+DkUs65H+iBDp4kSuNWwOcJdC459crRtfULYHL2dQ3+ykVC46O4OB5gyhxo01ZU7fXMnPH5+mbP2I/E97nvlYPfMxHCKnzCuIQj+wuOHuMhc0CMYKfYMyU6Nj4evlldFUV8i0/yneupTTm6HmggHwmz6vJCoolEYiADqf9dTX/SG1xwAkh3bo2G9UlegTigG2qQa8o1hac1hac1Rac0xZeYMgBbT5YowKP3hH3ieDJwoGz15dnYI+cj1WvX6wwqt9t5L0/T+hkBic75QSoSa+pokALo8YZIcv0gcEaLiroAAaweaqYo7Rhohpg+cCZAKXRRzhfFk4uDEcY/d8mQFJp54Ry1dypAeX5b1VnPmV6FLYYJxt2O1rAnXJwfbldA5wl4HaVcx2aa6BJWwLHb1I/Hqa0rGSvA1tRM/tSXs4H5Zy3XKdV3/j9pfxjv7Obixv/Qty455zTwe1WSotV29fl5OdU42Np3spn9OQoma/jBpleq1Hs+7vqn+/1FaVmAos69vWZ8pgowZhhhPkUG6snMzcfvLn2ViWLPYr1cIRfQs/Y8T1ixtn0AADzo809ps09qs07AcxP3TSG1apvDD+gBd8vjucXA7oenm8037cZvVptdElVafsBkbXKUr2qlKLPiIG+fSiK9Uoc+C99ptyTgRheBaORcNtC8IkwGAxGa4Hjc6zby8zVtkMDygvfqU5/wlTk+Tf3nbieM0rt0FxjqHL9+nW1Wg0GG4b8pzGMihuDV2mg6VoCu65Qf56qNlfjO1F3WQCKe9V8OklYjbzs6sp5pdcOmf44CcSJ05eG95ripB6MzdxIqti5MVetMiGCgEboPyKse3+gOBxHBKmunKz87RNtlpHwi5FZENva9/6nxR37mo2iTHHr0M3fj6avt5gNABSN3WJG94mb3Dy4o5XhY1GL1b8m+5A255CuJNleRYGdM6g1P6iNICiRH9iSH5DA84/jlps1tUc7FhRFzKFTmq5v3yykDEAXlxY6dhlWAe2ZgQ+B9s/wcPaBe8FwDd4krnAasFsDep1WeeI9Jp0w/ZzIz+eOPwRBre1ug6vIaYDTAKeBemmgiVoCf5+mttOp+owFS86pvanh1rLH1kvL3vWwojADNEHyPFNyNaFPULu5KwNamS+g6zMugHCO7Ss8eagaSh7pAsbeHR0V6zi+RVuUV/n7/1Qnd5vJxg8K95myQDJgghkvELb/96WsOZm5xWI+YBD/929xT7dmo0HWXttgdZU5mow9msx92twjYO63rRNJkCC0Ew5+SAdBcDteQItGg1y3PXYX16CzKCgK9YpbOjl91lc/6xS3AElyrQggSyWgIwOIizYPfIipAMdCBBf96Vrle1vruopsxcGF2nwWh4FQJhu1UhjZy9uGwsnLaYDTgBdroMlZAsiRs+YodYS1WSzgU3MGUL3ivXgWnSh6Rcb5K989pC435rVBy9KweNAEySKcyfCtVGjBEZSWzGJroqiW7fxGToqUSAWODQdwIMQDAA5EKatRD1ESmc/4h2RjZvAk1ajr8yvSdl9fdSZre03Sd4RFdm02elDC/XFB5ggiRjZQ/ajTtmnSd+gKLSQlqDYEGB/B7QQRPQXh3QRhXQH7cWyA3FP11wAC32lTAWkZ5AVAcOFsOG4ZjAf6AnEO9e+l1haQi01mwBoZ7AT6mtgJ5A4dzey4H8yFYnNNO1sD2AdBcLDy5AfVooaQVXrkcmFkb2f3xrXHaYDTAKcBaxpoWpaASkMtP0hdyDJpRCKkHhtKtXeE9r0RvljFl/dcXTVfpzIthvwTerWbu0rk58zUNoX5yi1/ZJcWqxkNIjBj0JjwLr2DHdapJi2pfOU72kxzTA7yBPve8wQ/sFpcL2yAnddWnMveWTMg2EcU2L/F3QPi762N3VxXnq6+uUWTullXnGT1i8Xnh3ZCIK8AR0QPmsaHK96gAdqrACOB9icU6KtgG+QbLATjtYHoiRVX5NwR8YTG8GUGawRPghRGAhei4FxFN3BrmtxjypMf6kAewCqIBZKN/F4QzDmmG3h2uO45DTRBDTQhS6BSSX25l7rBIoT0l1BPj6Ca22Z/aRIvRt6RX1P+eJnmi7xdwnpMRgphPlLYOq9cv1S++99cjdq0nPLxFYy/r1l0nIOIIL1GXfXvShAEsSWHvCAG9Z2xSNSyE1t2EIPuuPb96cxtNf0AoT4xQ1rO6B03AayINYeLkFb1zU3qGxt0BWetKAORvsLYoYJmg2ADcFAQ5701ntISUN0GlwJtG+jk+QZTwWAtGGwGXLs0rPk26xFtG9AWAmE9MkYscKxHnvKS1CYH/ADarAOqS98jmsisjiBmiHTQRyC99fQxcPJxGuA00Bg10IQsgROp1ApTBCwV5kc9M5KK8NZMRE5+GdO3fJy5/X/sRpuNfKzFpFedCFdA8uAje26dOWJKT4buomKk4+5r5ufvIEcQ7Qr44W1tVjVyHp5vgM/dj0uH3MUOCUBu113XVx1O/VOr15jpLtIvYWTr2WAF5YOJv3qh/3jnHlFf+0OTvpNJ/FlD9TxBeHdB3Ahh7AhBMBfn5+Q307uaA2OswYdAGwm0qWC8NjoWKE113Jpzx0azHtHeAz6SJ+DCkFGBHHxyzTmmnKtwu1vDK6G58Y/q2u/6MlOOduPTSMXQ80Vxu5l2N8ZV5DTAaYDTgJM10IQsAWhuywVq4zlag7HBtDcg0MFtaCfPQcM2B7bQlLWLCo7/aRKDx0u4593owbOcKJi8Srv975zMm9VA2B17BA4ZF4FkRQ50ZHAF/CDf8pOZK0DSf7zv1Gf5/iagkUan/i/1z93XV9bkBYr2TxzVek7n6BE1DR6EnKqv/6m+/ru+ItOyeDw+kD/C+PHCuNFYezkwBO6RpqYBOp0C7UwA1og2Em57FQzXSN+mrnCtQoQyY8I1OvMaUq0ZDvoaeZpD6Q1pSZATLX/XjsUbWqe5BDL3atK2g02YTtVXowhbjJf0epnv18wbRsPJyGmA00Cj1UDTsgQwjWtPUFkl1ONDKZm40U6q/QPTKiqSVs4tvXqQeYQvkrZ5+OuQzmPtb8RmzYJcBQIDyktNm/F8AW/Y+IgO3R3MUmzRFcAPCvN7aLG46yC2PGezd2658nWxPNtMSPgBxrR9FOmBay59kP9LdeUnTdq22pAegohewoSJwvhxnDff5tRzFezXAJ1aoRruCJ4EhCsQDFK+a0MUiJQ8AbEKbhsJoXQQM+6QM9LYSUIoSSBHdWVlTuEU0uSf0uYd12b/pyu5VltNQfRASfdn4Eu0//XganIa4DTAacBFGnCCJVBeXv7KK68MGTLk/vvvN5Py8uXLGzZsyM7O7ty58/Dhw9u0aVPXCsi4sXbt2nPnzkml0gEDBowYMQIXFnUxf/787777zqaadECI6yihg/w0Npv3pgqq0tzL3z5YlW2iUxX6hrR/9Cf/+B5OHMbV82V7NudpNabAAF9/4R33RUfGOOKRqdUVMGCC77Tn+T4msFd68aUNlz7NKDEn9gmSRY1rO797zDg+j88eJiDgIAJSXV6lKzhjcfhI9yNKvEfUcjJSfTlRP1xTnAbs0QArRIE2D1jERwYnA0IUXAo9YkRE2jtxEDEM6LgFaRD9XzgTJIEUDAbYCfS14YLvzDTk9qioQerAmaMrvqYrvqotuqS9dV5fnm5NDL4IfgBxx9kgEW4QablOOQ1wGuA0UFMD9bUEAKS+6667/vnnn6effvrzzz9nd7BmzZrZs2drtcYIVJFItHr16gceeICpY7OCQqHo27fv+fPnmUcGDRq0adOmwEALe8l2WgLcS0A0UJVz9fJ3M1XFps1ymi10wc+y8ARnqQiBAf/tLDh3vITdYLPmsnH3Rvs4lDzYTldAhbJoS9LXJzL+NRuIVOg7InHW4IQHhIJq/iC9Rg4gkOrSSn0li1WKeVggEbYYJ2p9nyCyD4edcNa7wbXjdA3o1ZVgQaWtApr4iByEBMl41B7o4nRZDA0KfY2GgRjmQSAdQI8LcQAuyJkS4cKfR5/9kE7Lw10NQHZh0a8tvKjNOaIrT9NX5oJFCumx7cR0IXkINhGE2EfgkISued24VjkNcBpwWAP1sgRKS0thAGB9j+7NLIGcnJwOHTpUVlYuXbp02LBhW7ZsWbx4McyGkydPdu9Ou0RtVkCdl19++cMPP8Tq/6OPPoJzYOHChXgchsf69etrDpizBOx/CUqvH0764RGt3JRlya9Fd3gDRH5Ow7sjY8C2v3IyqgcGdOkdBLZQPr/OgQF2ugJ0eu2R1HXbrn6r0FTLVIBQYHCDjm4zz1dczYbEX3dV0hr15R/1ympxzESTvIB4cdvpolZ30/udXOE04OUaMEQpEFMBadfAgGQ4G7Ir6AwXdi5qXaUGhDGIYBL4IrKZJ/SlL3AHF/R9GSXAtYwSSnmg9kJaBvosxsHDmY9DBFgOhd8VgQTXNLoJH9FOPx5FUjTo4ZPE3x8djdfXaSjQBug0eq0a1pEeeak19KHXVOGAEmhFqcroQ1mMZg0ZrG/ZlTTQTDUIJQrrJogbLmo+lh/otB0WV+mfa5fTAKeBpqoBxy0B7M0vWLAgK8u4jWpmCUybNg2oHqz+33vvPaLb119//d13350zZ84PP/yA/9qscOnSpa5du4rF4tzc3ICAADwCwyM2NraqqiolJSU+Pt5syjhLwM53uODUhuRfnqX/Ct4uwZ3GIDZAIHYErmOx05Ii1aa1WSWFpi4EQt7wCZHtutDzWNeiSbta/sNbZgRBNaMCMkourzv/QVbZVbP2O0UNu6PdE+F+zdn38WdedflHHJS6vKY8gmaDxR1mgwyUcwLUdbK4+t6rAb1WaVj1MkZCEZbCOvoOLgxnrLYtfV+8d8jOl5wn4IcgjWAvQVRfYVRfeD+c3wXXIqcBTgOcBpyqAcctgaCgICzNAdwHgGfJkiVsS0Cn0+FTxA8kJSW1bWtMlZKcnNy6dWsfH5+ysjIssKxXEAgEn3zyyaJFi2Aw/Prrr8yQH3zwwZ9//vn9999HZAJnCTjwJmTt+jrtX6NtRh6PGvQwmILYhJsONMt+JDO1auuf2UqFiSvDP1CIjAER0ZYDPKx3J9/9R+Ufn1Mak1GB+pLqUQEarWr7teX7U34xyxKAsOC7Oi1MDKuWs5P2A1xehcPCDihfLEqcImo/SxCUWE8lcI9zGmiUGtDr1HplicEqoA0DvaqE/m/1g1KW4r5FtpxGqBOhLz8oURDUhjYAQjsBBcQTOvJD1wg1ww2J0wCnAS/RgOOWwNixYx999NG77777q6++euqpp9iWwPXr1xEcDDR/SUk1jHhoaGhRUdHVq1dhCVivgE9nzJgBG+Czzz579tlnGWUuW7YMHZmZB+RTzidg/ZXT63Q3/34j9+AqdjVkDIgZ9bgT39VLp0v2b81HTDZTomKlE+5vJqt7YICusqxi1buqM/vY4tV0BaQXX/z93P/lV6Syq0mEvmPazBsYf5+Ab8pUgC1PkAKpLiynVKXmQxb5g9Jb1P7hxofiVWp0Kq1OrdWrdXoN4FPkAE4CCZZRbiuChlDwwB2DE30WAMGlpypUWqmQLxXxfUUCPwnu1RnW5cRXi2vKizRAv1mA2QBdQ1sFpXplmV4NsE0pxQBv1EDglMPDoFdV6EGf6moG1frrTiBFEje+T5SuMpsni+D7t8DSX5Qwge8TWf+2uRY4DXAa4DTQgBpw3BJghP7yyy/NLIFjx47169evVatW8AOwxwafAO4cOnRIKBRarzBw4MDx48dv27YNUcUzZ5qyrvzyyy/476hRo3bu3GmmNVgCNfVoD5tQA2rfbV3rNMprq58sOreF6ZEnECXO+F94z7ucJYPF+OC2XQJGTIgQCKux9NjTozr5fPny13SFCMszFcnAib4PPMcQBKm1SiQMrukK6NZszKQOzwRIw5gnsS7R3NioPLNUX5lj3rskCEAgcbsHvSUlMFbnxVXqmyWKS7kVhVXqEoVGLOAFyUS4X2k4qtRauVonV2sVtA1gomyyR+3W68AUkAh4EiEfRgHOtJEg5MtEMBUEMiHfRyzwEfF9RPTZVywghx/rzBkS9Z+CxtoCbTloKhH0TCHu2XAY/gvgvpyi4fvA8VcRQD991uKspLQqHHqcdTjUOuT9wDXsV7zyCETm8Y1R+iOiGQAAIABJREFUAURltBELI5dP4cDuAHIIIpxAIKJjDEjUAR2TgIAEHzp2GQcd1nybBwlESUjWhhgGrnAa4DTAaaAxasAllsCePXtGjhzZo0ePU6dOsZXWp0+fEydO7NixA+Af6xVGjx4NWtKDBw+ClWjSpElMI4g8njBhAuhE//vvv5qWALfut/iKaqpKk1bMLksxpbgXyALaPfJDYOsBznqlVUrttnU56SnVEof1HxHWc2BIXbvAmkC+bU3V39+wU4bxZL5+s16X9BrBtAZXwNqz7xRUprHbD5JG3tt1cdvwfuybmtxjypNLdIXmdKLgOhR1mituO8MDc69iNZ9TpswpV+VVqPIrVHmV9BnrfhzOXdzXdXYcro+FGAwDfwkOIc4BEmGAVBggEQTiv1JhoFQYdPuAReFwL9yDnAY4DXAa4DTAaYDTQJ00YG4JpKam3rxZIyP67SaxlPf19TXroKZP4PDhw9jUB0fQ6dOn2ZW7deuGzAB79+5FHLD1CqAbGjNmDDb+N27ceOeddzKNIDvBlClThg4dum/fPs4SsGemlSXZl7+ZIc815bgRB0aDLdS3WTt7HrenTlmx+t+1WcW3sCFnLEIRb8xd0S3b1XkXTVdeXL7iLfXFI+x+hQkd/Oe/Jwg3svjX5gro23zyxA7PgCqUeVZbmqI8+ZE2c4/5KIAFgg3Q/mFPsAGA1ckuU6aWKNJKFBk4ShVZZcpiuSkLmz1T0JjqiPhwcRgMA5nIaB7IaFMhWCYKlglDZKIQHxF8EY1pyNxYOA1wGuA0wGmA00BDacDcEiAMP7VJg5U94QBll5qWAMyJhISEFi1a4IJds3nz5hkZGWgkODjYegX0MmvWrJ9++mnVqlW4YBpZuXLlI488AtsAFgJnCdh8aSqzk658O1NVaoLEyKLadHjsF0mQ0/LbZ6dXIX+wQm6KDPALEE6Y2iw8qs5hc6qkUxXfv64rucUel2zMDJ97nuAJjXB/i1EBcAXc1/XVNuF9mQcBQVae/UKdtIb6f/auAzqKqo1m+2567wmhJqH33otIFRGRotKRpkgRAUFEBWlSRaQjIgpI7wjSe4dAQi9JSCc923f/u7z8M5NNm002ob05OXs2M29euTOB776vXGO2nEX2JaFEEvKJrPqIl1gYFGE8dxOz7uPnufLhc+XjZGWJbvPDsJaKhYggwheE94hffCJQh6QEMIH/2UUWkXP9IoUA/ATxRckqHaI2cAnNrBlmVOiLW1gDBCOBD4AYuJk+TdzAVWGiCviV/GCZhfVBr1MEKAIUAYoARYAiYGPOBGBhIyAnP2CmT5+OOp6FMgG1Wg0lYHgPUCZIKMzevYPEGIqBogZoXFwckokLbuDp6YkKpChJNGvWrK+//poZEb+iatDw4cN//fVXygQKfn9T759DUBBXNMChXP3QIevEtlarjn/7WuqxvXHc/GAvX3nHj3zt7Nk8XT5/ZMhmztq9Srl79Yuy39mHwN7JYeA0aY2m5HeergBTSsD9reorc1HbxGxocVBHWe3xQocAPlOyYhvk6d5PyroVl3k7PjM8ITMqVV2czrEdDgvYQSpKzNIiKB+JvO62kgYBTvhCgvJxErH7CokILRHWb8VCqFq9KfEAKcjIQCCf+FHiU4vkBFNmAj4R15SFdAWtARkLJHUBnxlqHS4VZ9WW3gsfAvgAkDF92r34zP4uBWeQiKhLwVJEaXuKAEWAIkAReDMRKJE8AUBVoUIFVP0/cuQIyowS5A4fPozof+gAkOijQhugWihqhjZr1uzEiRMM9lAZQ4bAunXr+vXrR5lAAa9k4rU999Z/bkqn+//hWqNjpU9/EYplVnmRYXCfOZJ49WwOQa6KVRzadPUSWxi5oU9OgCtAeydHIJm4Ui2HoT+IXDzJbHm6AvTPw1XnvjUkXDNbo8izjqzuRJFHTausnU8nKNcD0//qs/TrsRkgALCb+dzFtMGWtre91MdRhk8ve6mnvdTDTuJpJ4VF+5qG0cPJAFaQptalq9nPNJUuTa1PVenwg9Rn04+yNBIhwBNADIAqPgGsu50JXtOnrQTZCxY9KdqYIkARoAhQBCgCrzUCJcUEFi5cOGbMmHfffRceBolEAoXgzp07I1f4559/Hjt2LCArtAEcC4gvio+PR0oAsodxC76AV/j5+UF0jGiNcQ9aRZRBI+bEGhQM5e6vezfrX7b7D9YSDdBqDIe2xzy6m0PHt0ELt3rNLZYo1ty+kL58ijGDU21WIFB0Gmj73mAIdGJFeoMOBYKO3l9vphXQILBb58pfMFkBqC6C0kDa8N/NqpgL7P3BASRl2pfCXynY0d0k5cWotEtRaWFI9eVdtwd7/GVdFEEu8kBnub+T3N9RBuvfVMfzrTzgWwAlMHEDJUsPXpAE3XOl9rlSh9JJqIhaQtggjIpQAngSQBXAvkASPPBpb3Im0PJHJQQ77ZYiQBGgCFAEXhYCJcUEMjIyUEUUdny9evVgvqOaEKoGIeH47NmzJF6o0AZoM2fOHIQGQYwMzgH8un79eqVSuXv3bpCK3HhRJgBMYIw+3T0z+kiO0KnAzpP8242y1huWma6DfnBCLBviIhYL2r7nXaGyg6VDZB3YkPXPL1zbXeDo5jBkurRyfdJVijLuzytTHiff4PacOytAF3dJdfprY/rTHBMQyaTVhkmrDhGIrOMGyW91CIa5EJV29mnquchUPpm+sPCDXBSV3G0ruCkquNmWc1UgL9ZS6N7y9ulqsAITJUhSaoH58ywwBO2LT11ipgZnSoIogJsRH4KJHphIgokhmNiCvdRNIbZiFNZb/nDp8ikCFIE3CQFI0EZFRWk0mpCQEIVC8SYt7Y1ZixWYAEL2R44cCf0vqIBxcUG6cK9evaAtQE6CBkAcAJJhTJtCG6AlfAjTpk3LzDRtP4MSfPPNN8gfyBN9ygQMeu39jWMTL21j8BEIxeX7/OxZr4e13tekePXuv6Iz0tjKNnb2ok69/CzVDzaqlelrf9BcPMydmKRyfYch3wsdswuP3oo9AckwpTaN2yYPV8CVn02ugJwZreKAtrL6U4X2VkuMzg1gslJ78nHKiUcpV56lIxOgYIQR1VPVy66Kl32oh22whx0tfWOtFzLPfhCJhKeDiqtIpTB9ZrLf8SsuFfa4LJ4dSAKIARgCIQam7y/8CfhEJJLF3dEbKAIUgdcQgaSkpMqVK/OZOEog/vbbb3xaFqENwqdJdiWqOGJDFl8CAgJgiKP4yuzZs4vQYdFuOXfuHGayZcsW6MmSHrALDFGp6tWrQx8Wkd5F67bId8Hg/OGHH4AJvgAWlK/88MMPIU5VhA4R9w5p3SpVqqAYZhFufwVvsQITKHhVycnJSBjw8vLCu5hny0IbGAyGu3fv4j1GagHIQH7DveVMQK/KiFgzOPXOSQYfodQ2ZNAq55AW1nrtnj7M3L8lBqFBTIce3jLQAHsHy2wdfXxU2i9f6aMfsBMTCGy7DVN06k82VnUG7b7wX04++ps7c0e5x0c1pnILBL1wBUw0pueQFBDY+ckbThP7t7LWqs36QWj78ccp/z14jhyAgg1KRPjU9nWo5etQw8fex6Fk/RIltNg3slvCExIyTTwhIVMDnoBP/Eq+IwHauqtGuBHeBJLskf3FLvtXqLNZdyzaG0WAIvASEYiNjfXx8eEzAdigmzdv5tOyCG1IOUfcePv27dDQUHyBlitKtgwdOrR0NJcQ2g1bf8WKFflNHopS2NL99ttvMbEiLLAIt6B4fceOHVUqFfdeMBNMEuUoLerwyZMnoDHwcgBbIGzRva9s4xJnAqW28reZCWjSEsKXf5wZFcagLXFwD/1sg31ANWvhf/tq6tG9cZzSPjZBFe3ad/eRSC2zZjQ3z6SvmGrMSmcmJrBzdBj6o7RqthxYYmbUn1e+iUqN4M48xLNJr5rf2kmdyUlTVkBergBJcF9ZnQkmoVBrH8gAPv0k9eDdpPNRaTAl8+sepXvq+jnU83es6+fo60itf2s/hpLvD2nN2fQgSws1N0ISkPSBL8h1tu74cBdwGQJDGGiskXVxpr1RBEoHAYYJoDIK7M4CBkXUNLc8unWnR8I00GdERERwcHApMwFs2kLxCQ4BsihsukMKtlq1asjtvHnzJiq+bN++nVzq3bv3xo0brbv2PHuLjo7G/j2ClGD6I38VdWjCw8MRfI5taLTftm0bXDQ8p4EloDF2t9GeMgGeoJVqs7eWCSgTHt1e1kedxEbJyz3KVh72p9y9jFUeAHIPzh1Nunw6R1HOanWdm7X3EFqS1WoSD973e9b2ZdxUZpF/BcdRcxnVsOvPDm+5MVOtY3ORUf6+Y8jI5uX6MHHYebsC7APkTX4Se7OSAlZZOzq5l5i1907ioXvPkQKcX5/+TrImZZwbBTpV97anleythfyr1g8KQMUT7wGEn6H6nGmiCqYfa5MEvEKMA4GhCqSKFHUjvGpvBZ0PRYBBgGECPXr0QFTMy0IG/9XCA0AIAJlDafoEpkyZMmPGDAzq5uYGTtKzZ08zHFBFZsCAAQgZgl0Oi5wbMV5CiKFKDYld5+pTwaZHKZqUlBQQFfCTQocGw5n54kD9G9KYMoFCQXsJDd5OJpDx9Hr48k+0GUkM4vaBNUM/+0Ninx1tX8wnodcZDu+Ku3eL3cJHh03bedRs6GJRz0ZVVvrq7zRXjnHvktZv59B/qkBm0iCDXMDOW/PPP93BbeCi8P249o+BLlXIydJ0BaCCzeH7z3eGJ0IFLL+VlndVtC7v0izIGRnAFqFBG79hCEBXgWEFL7iBiSTAk4BP64YbETcCYQVeDtnhRvgVesxvGKR0ORSB1w4BqzABGPGopwLNpYKXjwgcmKT29vZ8UCqUCcAgxp49o/5UcJ+wiXU6XZ6h2gjkxu47rmLES5cu1ahRI8+u/v77bzgEcGnIkCEFBBHxWVqhbRBe7urqCoeAr68vlG25axw1atTSpUvRw9WrV2vWLKjI+MOHD997772wMFPYBQETdOtNYgKWhXYUCjptUJoIJIcfC1vSg0sDXCq3qfL5P9aiAcos/Y4NUVwagDJBHT/0tZQG6GOfpPw4IAcNEAhte37h+NkMQgPiMx4vPjXAjAZU8241pvkfDA2AKyBzV2dt+DpucrDAPkDRfoO84XdWjAiKTFUtOhP5/oYbc08+zZMGlHGWD6zr+2fPKmt7VP6klg+lAaX5zr+aYyEFHBVg6/o7dgx271/Hd0LzMvM6VvyjZ5WDA2vt7Vdj7Qehs9qXH9s0sG9N77YVXOE4MlWJLVKRWBRXxTt54nHKlrD4X85GTf334dDtEV3/uNF29ZW+m8LG7r0758ST36/EHLibdO1ZegxKLFk9OfrVfAB0VhSB1xYB5J42bNgQaQP79u2D5pKLi4uzszOMV2ycwwA1WxbOwHpGgXUY4g4ODlB6feedd8xSDhDugg5xwPAtGBWM2KpVKw8PDwyK3lDWBbH74Bjcu/755x90hWAnmNTY7EeiLTgDGiM3GpE2KOfIbQwZKNAAnBk3blx+NABXkSZRrlw51BFKSEgo6eeGUH7QAIzSt29fM6rTp08fMjoQK3gayAwmNABxXydPnkT4U0lPu5T7p3kCpQy41YZLuLgVlYKMBraMj0f9nhV6zRWIrJOCk/JcgzJBqc+zHWGYt8JO1LmXH1SELVqD5vrJ9JXfGpVswI9JPHjYTGloPdLPxcg928PmavVsKo9IKOla+cvGQdklj0rNFXA5Om3LzfgzT03/auQ+sB37TgXX9pXcUADUIgRoY4pAbgQMRiMKGcFvQH6IDwE/semaAuLQLEUSdAPCCCQDwdvBpFPBuBReU4k6SxGg7SkCpYZA0XwCsMKxJY89adiaxIxmjsDAwMuXL7u7u5MzsOwbNWqEqPfcKwJtWLNmDTnPJ2MYu9qI28nTAoaJv2nTpqpVq5LeFi1ahMqQMP0hD5U75AnNkBJgZ2dHGqM00P379/EFa4FzoADksRYwELncMnOiCI8S9YsADm4EXwID4fYAtKF2hTMffPABCE8BnSO3YcSIEV999dWwYcPAwUCfIG/1JvkEKBMowqv18m+J/m/Zk50/cufh13ZUmS6TrDWzmEjl3k3RKiVbR8XFXdqlt5+jswVBCKbEgF2rsnat5M5KFBjsOHKOyN1UYEGn14ADXIjcxW3gbhfwSe2Zvk7Z1Wb1yXdVx78wpHIKDdnYwBVgxawA7JsefZj81/XY+0k5tjfIrGBL1Q9w7BTs3jTImeYAWOsFo/0UgECWVs8QA4YqxKWbspZ5q9UVDrCDTJTNCl4whOyII3spdO6oNkLh8NEWFIFcCDBMoHv37jCm80MIf18onsNcJUyA/ApzE8m+aIAIexj0OAM5JkiykvbY1SYptiinDqMWhuy///6LZoQbMCEufJgAirN///33uAt1HVFbs06dOiiGs2TJksOHTaW9YcRfu3aNpBkQJkCmhwAb1CdFZD+uzps3D1VTcRLlUBGbjS/p6elE8hWb/fjOXeNLfFkwT1jwmABUrWDBm80EE8ZUGzRowKQ45znVrKws+BMY3kKZwEt8oIUM/ZbkCcC8frxjeswxjnktEJTt/r1P84HWejYIB/p3Z6yBY3T4BSkQFCSTs/94FTqWUa1KXz1Nc/kot6WsUQf7fpMFElNRnVRl/O+XJ0am3OI2qO33bvdqX8vE2Zvumrub1Bd+sNHncFZasUAQKgLtu5O08VpsbIYm94qgKds5xL1LqAfspELXSxtQBEoaAbgRUOeU4QZ4aUEYYtPVOJOltVrxU8QtkXxlEzdwkOETP0QngTLhkn7EtP+CETi+Pz78Wt4+2xKCrvm7npVrFRKyzwzNs4ooNpWJRBI5GCYwYcIEbr1/BNjMnz+fa2ojFghGv1mGKzazyVY32sPqxZdCmQC27VFTCNE+sOzhc/D29iYzwRlUNILuE76jtA4xoBkmANcEihEhD5g0PnHiBAmSQXTTgQMH8AXpv0ROAVFGjJBUMZ/LRx99dPDgwYI78fPzu3UrhyHBbT916tQffzRtmyLCB1IGZl0h2gdVQVHa6MaNHAKmBY/45jEBmidQzBe1VG+Hdti99SO5NEAgklbqt8yKNODq2ecHt8VwaUBIdceuffwtogH65PjU2UNz0AChyK73WIfB0wkNeJh0deHJflwaIBHKetaY2rvWdEIDjJp05fHR6rNTuDTAilkBCKDeGhbf66+w+aee5qYBIR62U1uX/adv9cH1/CgNKNVXnA6WPwJCgclGr+Ztj2QDpByMaxo4+90Kv39Y5cAANhvhyyYBvat7tS7nUtnTDnp2RYATfoeoVPXl6PS9d5LWXHo289jjL/bc7fV3WJtVVz7488aInRHTjzxcfiF6x+0E6Go/eq6ExnYRRqG3UASKgIDBYNTpSvUH9LsI8yz4FhjcuRuAD2Cnn3seFfdJQjCzXU0EemHHc+1s1CmCZ+DOnTsoa8NzqiiuT+YAK5mhAfgV295z584loT65fRogKgwNQAMU3sGc8SUxMZGMGxcXR76Q0qVmB8qJYusdB3gCDtRRJQdq+BQw7bS0NET5F3yQYqD5HUzaAwKccrdBSgZOYsufJ3RvajMaHfTaPFmTdtjqwal3We0wkcw+ZMgap4pNrLIGeBtOHky4cTHbTUn6rN/CrX7z7D0AnqNoH91O/2W8ISX7XwfcJXBwcRz+kyS4Nunh9KPNu24vNBhZAwIRQf3rzvFyKEca6JPCQAOM6WxdVJwUV+ghrz+1+JnB8APsDk/ccC0WUdpmK0IgUPOyzj2recHY4rlY2owi8CojoNWj8qmW+A1IEgKTlmBFpWXkP7/IQ/h/LaP/JyTAq0YDjV7l1+O1mxs0bW5dKVWfQMtOnlVrZ+vYFAoX4xNABHm/fv3yay+VSpFry1wlPgFsfqOijtktsLaRn4oUAkT+4BL0wkjIEA5sbyNwv1OnTnARmOlzFeoT+PTTT8nGf3x8PIL1zQZFt9iGh90MKxyXGJ8A0os7dOjAbVy7dm1MDDMhUrsIGapVqxa+oOJ+7gwEbhAUtxME3BeQgAtCApJTMPKw5iFkll+b7777bvr06biKukZIYzBrhkine/fuIduhYEJidteb5xOgTKDQv+5XokEe2mGOnpWHbbDzKygph//UdTrDoe2xDyMymFuEQps2XbyDq5vC/vgf6ouH01dPt9Gy8TwmxYAv5ovcTP5HlArdenPW5ah93A5DPZv0rvW9QpJtfGtur1NfnmNj4JjpYjt5o+8l5bryn0aeLaEItv9u0rrLz2AbmTWQCAUdg9161fD2o3JgxUSZ3v46IADan6TUxb1gCPCJIQkh+0uGBskI1loB/qyIHgJDEhj1NKmIuqOtBfNb1M/rwgQs0hMgJrJZaBB5qCQxAFmtiCbCJ0xz5LaSUH7mwO3gA9jdZwrzF8oEIJGLCvpmQUpMh0iKJVLEz549g2QywwRgKzNpxKQx6YcJrYFzgPCKunXrXrx40ey9/Pjjj0kNH3LALseBLwUzgeK/3KhSStIY4FqBR8KsQ4Q8IduBp6QAcy9lAsV/LiXVwxucJ5CXdli5ysM3yt0CrIImqoUiPzg2iq3eI5UJkRjgX9ayIjlZu1dl7cghMC6t2cxhyA8CuamfZGXs75e+js4pHty24qB3Kg0hG4dGdYrq9ERd5BHuooSulRUtFgkdg4q50nNPU5edj3qUnENsHH1CqqlrqHvvGt7uRQqlKOas6O0UgVcNATCBF9xAbcYQcvvQijNzuAuQhMDUMmIyExzl1il9Vpy50XtfWQRQxh0BQqU5PZFIwF9Aszi1gxAaRMLZuQdhAvAhQGGAVLmBhgC287du3YoIH24FT2S+Yvsc2/loUygTQOFRBBQhCgjd5gYTKcvIV8Z5lPdBZgLDBLA3b6YCZsYEcAuYAPgAooyQfwwWUcCTQh4Cko/RoKSZwJ49e7p06YKBcvs0sCECVFFGCTVS9+7dy/+9evOYAN2Y4f/0X07LjMgbYQvf40oI25epVe3LndaiAWnJ2q1rn3JpgJ2DuHu/AItogFGrTls+xYwGKN792GHkXEID7ideWnSyH5cGyMR2/evObR88lNAAffyVzN1dzWiAJORj246bi0kD7idljdl7d8KB+2Y0ADXge9fw2ty76ueNAigNeDkvNx311UPATiqCZF7jMs7dq3gOb+j/Xdtyv3UL2f5x9SODav3Vq+qCThUntigzoI5Ph0putX0dfB1l2PgvwiKeK3Xh8ZnHHiZvuhEH+Y5vDj0YvC288/rr76y5+snmW+P33YMwwvorMQdfCCM8S6PCCEXA+A28BXa5RCIszR/+NKCYcCNQJ3cPRBAAO/GEBuDAl4EDB8JsxU42PhEvRAL94S4wSzMoYD6QI8BV+BlI/I/Z8fRpdlyup6enpYtCjBNuQRICU9LU0h7M2iPiCKFKBR8IoCpgFGRFk6u5xRmQK0zEmAsueFrMJbwWt1Mm8Eo/ppQ7J8IWf8DVDnOu3LrKqC3W0g6Le6basvZpCkc0wM1T+uHAAHcvU14vz8OQmpg6e5jmwiG2vUhsP2Cq3YdfYDsFJ0883Lji3OeZGjYDwdM+6Iuma6t4N8dV8HL1zd+yDvQxZsawPUgc5C1/kTeYJhBZMBOzCaPq4k/HHg/aGo70R+4lVEf5sJrnpt5Vhzfwd6HirDwfM232diMgEQkRO1fHz6SeNqCO76SWQQs7V/q7V9XDg2pt+7g62MJ3bcoOb+DXvYpH40AncAkkDxQBMKg1P0lRXYhK2xORuOrSsxmcfOXuG24M3xEx7fDDX89FId3/5OMUiKylqHLUXy/CiPQWisCrgMCFCxfMpgEznRS0QYlPfCJWB+m8gwYNOnLE5DZH9jB2shcvXowEYhTPwRmE7DPJuwWviAmXP378uFlL5M6SmcCAhi/CUmRQeojcgsqkJHkgvwPODT6dT5o0CY6Ogg9CP/I7KlSoQOSQzfTXuGdyRw3xmdub1IYygVf3aSZc3hG+/FODhs1qh3ZY6OC1IqmpgEDxj8f3Mravj1RmsmHBqBYKb4C9owUlR3RP76T80F/3iK3hBeEwp69+lTc1+eM0etXGK1N3315ktGGrJVT1bvF50zWe9qZtCYMqSXl4oObKzzacBGKhe027rrslZdoXeY3YQoTSap9Nt5AYwPUlY/cSe5kbPzL5ASgHKDK89EaKAIMAfHpwqaFUUevyroiy+7JJ4Kx3K0B+e1//mgf611zXozIKHBF95TblXap62XnaFcWLgL/ixCztrfhMSH/8zXEjdF1/vd2aq0Rfefbxx8gC2ncnERKBkSkq/CNAHxNF4HVBAHbz7t27ubNdsGABCaxH2D0+nz9/jlwC7LWjuCe2z5iWCPIhTADV7onJW+gBjQLiioeisJmWGWKBiHeiW7duhfaTuwGmiuAinEfFHoySp3IZFjV+/HiiZlAKB+KmCD+B6wB6w8yIKpXq999/x6/IjUZdo1KYyas8BM0YfkWfzrNjqx5vn8adnF+bEWW65qgyVpyp37qScmxfPLdCWqWqDm26esP9yr9b9ZVj0A+20XDkgX3LOX7xs8jD9A9TclbM2ktfxaTdYzoU2AjeCf6sTYX+2RFBqBF0dEQOVwC8n1UGy2qPFQgtYCNmEz71OGXJ2ciYdHOJgDp+DiMb+ldw4/VvJX8QaEuKAEXAIgSg5ZeYacpUfqGHkF3OiAgtK61qvkMXHMSDZC172plKGxFhBFAXUZGCmixaJm38tiHA5AmgjGbv3r0LXj7MelIVlCmqA5N05cqVKLwDIxWb/RD/QpgNklkhiSWTmXzjCGIhtuzw4cORQtCwYUMEt0AODIY1TiIaftcuk0xnoXkCaAPjmNjBiPWHNBh0ABBuBBowY8YM0AxQC9jNZcuWRQOL8gTQHpNv1qzZpUuXyPJR+Ah79iimhAJHCPW5cuUKEgPAashVrAjh+5BSzg+rmJj24JBmAAAgAElEQVSYPEOYuO3huyBTze9g9BMQSYVsCiwZEVDwrgBY3MLN1cbcyINDfjM8MPl1+OblCVAm8Cr+Y/Vk98zow0u5Mwt6f7pvy8HWmuu5o4mXTmX/KZI+azd2adTa3aKSf1n71mVtNeUVMYekaiOHYTOEClMVoMfJN9dd/CpTwxb6lYvt+9b+IcSzMWmvvb9dBbkAA2uvC2Qu8qZzxf4msZKiHYgnRswxypyb3R7kIh/RwL9hIF+BmKKNTu+iCFAEiolAmkrHyiq/qHxKfp5naa2YKAoWALEFcANCDMAW8Onx4lekMkO3oZiroLe/nQjwVBYj4MDGJSH+uctrIuOW1PuHgQvpAKbQJ763bNkSpjbpAR4AbL2TSHfY7nApkCKefJgAav9jIzwsLIx0BT1g0g8OzApRQ0xysKVMAD1ghmPHjl22bFkBrwFWjeKeoDRmJVBL6M1BlNGsWbNI56BVjMgA2BT4AKFkOEBLUIgJX5CMsXr16vwm8+YxARodVEIvXhG7Nep19/4cw6UBApGk4qdLrUUDUHvh8M5YLg3A/3otOng2buPBnwYYddr0Vd+Z0QB5216Oo+cTGnA5av9vZ4dzaQC0AkY3W0dogNGgVZ3/XnV6ApcGiLzq23bdXWQagF3GP67GfLrllhkNwKbgV80C135QmdKAIr6R9DaKQCkigNpBFd1tmwY5f1DVc0RD/+n/z1dGNgJyEhZ3rvRNy6DBdX27hLjX93cs4yxXSIryXxjKzyRkZscaIWV5ydmoqf8+HLYjAqkIbVZf7bnx5qhdd77/7xGqjZGEhIiETJRO4oZklCIkdKjXBgHY0/znCnOf27hnz57YnCbhPYQGtGvXbv/+/dx6/whnR82fRo0akRsR0w/zHepjMF6xB09oAA5mGmZfuNPz8vLCLRMnTnRyMm2QERqAKUExAFWJuDWCmHnmXh05k/s84pRQfejs2bNDhgwh/TMHZgsvBwKcUMUf6c6lQwMw+k8//bR+/XqSA01oAIZGvVRkXTM0IE/o8nygBBOLHjf/F+OltKQ+gZcCe96D6jXKu2s/S77NltEUyuxCBq1yDjZl1hb/0KgN+7c8i3zEJh6IxYL2H/iUrWSBkJYhMy196QTtnSvsfEQi+74T5C3exxn8Z3ngzm//3V/HnW01n9a9anwrFZtot0GZqDr2uT4+23VImklC+8vqfi0QFrGA4IPnSmQGI32QOyiinLpV8RxYx8dBVsRuiw847YEiQBEoaQTS1TqEFTHeA6iFkEAjBCDprehHwH/8QoGHrcTD5D3I9ifgCzwJ+HRV0HCjkn7Ob2z/xCeAoBQUDEXUPuJnUNUH8UVM0ZvcK0d0DcKEEHCP3F9kxJqRCkuRQgmdiIgIxNOjN9TXt/T2gttjRdHR0SgqCt4CF0f58uX57zladyakN8QFQccAiwXbIQLD9AAClAm8Kq+BNjM5fEW/jMeXmQlJ7N1Ch22wD6hulSlmZuh2/xWdGMtqfsltRV16+Xr5WZB/rE+ITlv4pT72CTMlgZ2jw/BZ0lBTShPyg/+6Oi0s9hh3wm0rDnyn0v9LhSZcVx4baczK1iQ3NRPJ5I1nFlk1DK6AP6/FIjkYX7iD1vC2H9M0sJyrBUuzCsi0E4oAReAVQcAA9bQsLSEJoAfZX0zfNclKK1ccQrgRyICJJBCqwPlETgJES14RTOg0XkEEuEzgFZwendLbgMAbxQTIAyPyeK/XoU6Ovr2sjzLuPjNtmVsgtMMUHgXlwfBfY3KSZtfGqPQU9v8/JxdJ1z5+Tq4WlAnTPgxLWzzOmM6G/gu9Ap1GLxB5mQTOUpRxay+Of5ZmUg0kh1go7VljSi2/7BJAmnub1eem50gMsPNTtP5V5FqZ/0K4LfN0BSAcCGnB71ZyK1qf9C6KAEXgjUdAozcgOgjcAIWGGZ6AX0ES0tVWk1hmYHSQieA6ACVwf+FDQIoC3AjuL8640LSEN/5tK2yBlAkUhhC9XuIIvFFM4HXkAHjCWTF3QAM0qbHM07bzqwpvgNTRJNxd/CM2Srnn72iVkq2p5+Ur79zbT2FrQVCj+vJRU5kgLetSEFes6ThqrtDeFAUYmXIbNCBdncT5z88VwmGBLlVxxqjXqC/8qL37F3ctIp8mihYLBbKiuOfgAdh4LXZdLldA6/IuY5oEggwUHzTaA0WAIvAWIgBBAxMleMEKGLYAlwI4Q0mQBAQxghi4vWAF+JL9aZf9Hf+UvdxQirfwBSj9JVMmUPqY0xHNEKBM4CW/EmkPLyIoSK9ky904VWwSPHi1WO5glZk9uptxcGuMTscGzwRVtENuAGQa+fevPPhn5pbFSAJgbpE1aA/tMIHE5FK4/uzw39e+1xlYkuDrWHFAvZ+dFV64asiKR0SQIeEadzhplSHS2uMEQguoCHN7nq4AbK2NaxrYvKwL/0XRlhQBigBFgD8CIAkJeTEEEIbUkhE4Q2aCm0IMnkBIgivYAn598QXBSPhEnSP+86ctX00EKBN4NZ/LWzUrygRe5uN+fvPg3d9HoJQOMwm3ml0qfrJYKLYgaKeABdy6knpsXxxXNCC0pmOrTl78FdSNBn3mxnmqo1u5oyg6DbB9fxjZrDp0d+W/d1dxr1bxatGn1nSSH6yPv6I8NsqoTGAbiBXyJrMlQR2KgDt1BRQBNHoLRYAiUNIIINwo8YXfAJ9wJjCfOINcBesmLnPXAqcByp4SbuD2ghu8IAliyCbiE4WYaEXUkn70xe8fVXQguOvq6kqKitKDIlD6CFAmUPqYZ48Yd/avB5smoKYmMwPvZv3Ldv9BkLO4WJHnd+F40oUTbLgO+qnXzLVBSwsqAxhVWWnLv9HeOM3OAWWCPp1M9IO1evWma99fjznMnWHL8p90DBlJSIIpMeDsNBsjm5wgcAhUtFomcqlUhEU9fK6cmatAEHUFFAFJegtFgCJQagggcRkJyhBIRi0jeA9ADAhhwJkSijhilgaHgbPcxArw7yT30xln5OIyLnIIrJUaDnQgigBF4JVFgDKBl/Noov5d8nRPts4FmUFgpwn+74y2ymwMBiP0g29fZSOOTKIBHT2r1rYgKF+fnJC2eIz+KZsBLFDYOYyYLa1cH5NMUyWuu/QV0gOYCYsE4h7VJ9cNMKlyGI0G9aXZ2ttruMsR+TVXNF8gkDpaukbqCrAUMdqeIkAReC0QUOsM4AaEJ5Avps8XhAE/GRrrpy8zsMzvWLGuv8X/Gr8WqNJJUgQoAhYhQJmARXBZoTEq7j/aOjX25Fq2L4Gw/EdzvBoVIk7Oc2yd1nBga8zje5msjQ7RgO4+5YItEA3QRd5LWzTGkBzPdCJ083YcvUDsVx5nnqXdW3NhbKqKvWonde5Xd05Z1xomGqDNUJ4Yq486yp2wtNpwaa0vBQILkhPI7THp6u+OPAqPZ5eDk9QVwPNloM0oAhSB1xcBhie8oAea50odvkBu2fSp1KYoOelfli9y7Qeh5d1MOlb0oAhQBN5yBCgTKNUXwKDT3P/zy8QrO5lRBWJZcP9lrtWyS20WczbKLD3KBMVFs4kHcoWwUy8/H38LKutrws6mL5uE0CBmMuKgUMcvfhY6mSKL7sSf++PyJLWevQr94IH1fna19cVVQ0a08sgQQ8o9diEiubzZXEmZd4uwtOOPkmcff2K2MUYLBBUBSXoLRYAi8IYhoDcYk1U6EAOGG4AhIBIJJAFn8KVgl8L2j6sjweANw4QuhyJAESgCApQJFAG0It6iV2dGrBqUevckc79I4Rg65HfH8qZ4m+IfaSlaiAakJGmZrhycxF37+Lu4W5B/rDq1O+P3mTYG1istrdnMYegMgUyObs892bE9bI7ByF4N8WzSt/YPcrEdrpryg48ON6qeszzH1kvRernIrYqlq0MG3tKzUdtvc1KNbUwxr+OaBbagBYIsRZO2pwhQBN4+BLR6A/hAsjKbHsCHAOaAX/ElRaX7rVsILT309r0UdMUUgTwQoEyglF4LTXpi+PKPMyNvMuNJnbxDh/1p5xtilRkkxKp2b4zOymRtdHcvWZfefnYOFhTXz9q1KmvnCu585G0+sus1BknMCGraF7H02IM/uFebBPXsWmWM8EXMj/bBDtWZb7jCYUK3aorWvwltPS1dYGSqatrhh/eTlNwbmwY5f928DNUKsBRM2p4iQBGgCFAEKAIUAYpAfghYHLdNoSwCAqqkp2EL3+PSALln+apf7rQWDYh6lLXt90guDfAPUnTv58+fBhj1uvS1P+agAQKBXe+x9n1Q9V+IMkEbrnzDpQECG8F7VcZ2qzoONAAkQX1lnurUV1waIA7qYPvuxiLQgEP3kgZvDefSAGxcfdE4YOY75SkNKMK7R2+hCFAEKAIUAYoARYAiQJnAS3sHMqNv3VzQVZX4mJmBfWDNal/ukLv6W2VO926lIyhIq2FlvypWcejSx18q41shzlQtdPE49ald7HzEUocRsxRte+FMpiZl+bmRN2KOMFclQhnyg5uW/QhnjNos1bGRmpvLuWuRVh8lb75IIDYFFPE/INwz6/jjH48+VurYyqp+jrJl3UJ6VLXYscB/XNqSIkARoAhQBCgCFAGKwNuJAPUJlOxzT713JmxRd206G+/uHNKyyqgtEjtXqwx87XzywW0xBtZytqnZ0OWd971FULHndxhSE1PnDNOGnWWaC+ycnL76VVa7Fc4kZDxdcmrQk2Q2qMlB5jq88fIq3s1x1ZAZk3Wgt+7pv+xQQqm8+QJZrdFEUoD/AbmAIdvC993JIYCA5ODV3UOD3WmBC/5A0pYUAYoARYAiQBGgCFAE+CJAmQBfpIrQLuna3tvL+urVGcy97nW7hwxdJ5JZwbRFTM6ZIwmnDuXIqW3azgM//K1wXcyTlBmDdE8imBkK3X2dJ6+SVKiOM4+eX/vl9KCkrCjmqpd92c+brAlwDsUZfcL1rD3dDc9ZSQGB3B0RQZKynS3FandE4tDt4U9S2JJHUpHgq2aB37UpZyvl69mwdFDaniJAEaAIUAQoAhQBisBbjgBlAiX1AsSeWn9n3WdGvYYZwKfl0IofLxaKrFC4Ddphh3fFXTmTzFrwQpt23bzhEOC/Hu2966k/DTIkxTC3oFqo8+TVIu8yOHM1+uDyc6OytGnM1QpudUc2WeVi64Mz2kd7sw70MaoS2Qm4hNp23ibyMEkK8D+ytPrvjjyce+KJRs9GN5Vxlq94P7RLqAf/fmhLigBFgCJAEaAIUAQoAhQBSxGgTMBSxHi1jzww/+GWSdDaZVqX6fpN2fen8d+tL2AYrcYA0YA7N1gbXSIVoExQcDULBCPVl/5LnTfSmMnppHoTpwm/CZ3cMPSRe2s3Xv1Wb2ALktb17zy4wSKFxCRPpr6xTHXiyxz5wYHtbDv8LbQzkQT+R2SK6rPtEf89YPkM7u1QyW1l99ByrhYIIPAfkbakCFAEKAIUAYoARYAiQBFgEKBMwMovg9FgeLB5UuT+n9l+haIKfRf6tRlhlZGgHbb9j6inD1hhL4Wd6P1PAwLKmSr68zyU//6d/tskGx3rr5A17+b4+TyBTKE36DZfn3Hgzm/crtoHf/ZRzakiodho0ClPT9Jcnc+9Kq36mbzlUoHEspCnM09Shu6I4EYEKcTCKa2CJrUMkovpa8nzSdJmFAGKAEWAIkARoAhQBIqOADW5io5d7jsNOvXddcPiTq9nmZZEHjp4rWf9D60yTFqyduvap/HP2Hh6RxdJj/4Bnj58q/QguyBj08LMv+dz/RW23T5z6DdZIBSpdVlrL46/GMkWERIJJb1rfd+24kDM36hJVx4epLv/D4fkSOVN58rqjLfI14E5rLv8bOLBB5kaVv2ggptiVffQdyqaPBL0oAhQBCgCFAGKAEWAIkARKAUEKBOwGsg6VfrtZR8nXd/L9Ci2da4ycpNLlTZWGQPaYf+sfZrynI3Y8fCR9RgQ4OTKV0LYqNWk/zZZdWgjOx+RyH7QNNsug3AmXZ207OzwOwlsESGFxHFogyW1/drjqiHjWdb+j/QxZ9h7pU6Kd9ZJynezaHWw/icferDmMpucgNvbV3Rd9l5IgDNfPmPRiLQxRYAiQBGgCFAEKAIUAYpAnghQJmCdF0OTlnBrcY+0+6yhLHX2rTp6h0PZulYZIOoxtMOiuNphAWVtERRka8dXQtiQlZ46/3PNJVYWQCC3dRy9UN64E2YYn/EE1UKjU9kiQi4K38+brC7nVgtX9UlhWft6GFLuMWsROATaddwi9qpn0eoeJytRI+j0k1TmLhQ7hWrYN63KymhEkEVQ0sYUAYoARYAiQBGgCFAEio0AZQLFhtDGBqphNyEhHB3G9KXwqlhtzE5b74pW6N3GxqQd9ie0w1jVgEpVHTr39pNK+T4+/fO41FlDdHevMvMROrs7TVwhrdIAZx49v/7L6cHJSnaf3t8p5POmqzzsA3FVF3nEVCZIyZYrFXrUtO24RehU1qLVnXiU/NmOiMhUNXOXs1y8oHMlqhpmEYy0MUWAIkARoAhQBCgCFAFrIcDXlLTWeG9ePxlRN0ED1ElPmKXZB9WpOnq7zNnXKou9fiEP7TAUDOWvHaaLfpA6c5A++iEzH5FPWafJa8QBlXDmRsx/K86NUnKqhYZ4Nhne6DcHmSlkXxO+XvnfcBudkrlXXKaDbfsNQrkFymgGo3Hlxegp/z5UalkyE+phi8SAmj4OVkGJdkIRoAhQBCgCFAGKAEWAImApApQJWIpYjvap904jKEibzpbVd67cGrkBEjsL6voXMINzRxNPHsyhHdakrbtF2mHau1dTZw01JMezpnzFmk6TVorcvHHm5MO/N1yerDOwRYQaBL43oN5cqVhhNBpUF2aoL/yAVGHmXmmVIfIWiwQiGX/U0tW6rw/c/+NqLPeWjsFuS7oGe9rzzXDgPxxtSRGgCFAEKAIUAYoARYAiwBMBygR4ApVHs8Rre5AizJUQ9qjXA5WCRFIr1MKHdtiR3bGXTj1nBha+0A6r1ciCzXiTaMDPnxuz0llTvnZLp3FLhHaOKOCz+9bCXbcXGDmGPqqF9qg+WSgQGXVK1dER2vB17LJh/jf8XlZ3gkVlgh4+R2JAxPlIVrVAJBSMbRo4sUWQVETfvaK/e/ROigBFgCJAEaAIUAQoAsVHgFpjRcQw9tTvKBjKlRD2bT0cugECEd8U3gIG1mkN+zY/C7/Gkf2SCDr3skw7TPnfFjPRAHmrHg7DZwkkMp1es+HKNyce/cXSDIHooxrfkmqhBmVi1oG+SA9gZyi2U7RZIQ3ubRFYSAwYtiMiOo1NDHCzlSzuXKlbZSoebBGQtDFFgCJAEaAIUAReSwRSU1Nv3bp19epVpZINM34tV5LXpA0Gw5kXR0ZGRsGLunv3LpqlpKSU3Nrv37+PIZ4/Z3eQeY5FmQBPoHI0g3DYwy2Tc0gIvzc16L0pFu2X5zewSqnfsSHq8b1MpoHcVtTt04DA8hZoh2VuXZr559wcogHvD7f/eIJAKMzSpK04//mNGNbQl4lsB9VfUDfAVETIkPowa28PQ9JNZnSBrbdth7/Efs0tQmrDtVgkBqh0bGJAFU87iAdX8zapFNODIkARoAhQBCgCbxICSUlJXvyOYcOGldzC161bR2bx4MEDMkpAQAB+/frrr0tu0Nw9nzt3Dst0c3NzdnauWrVq7dq17e3tQ0JCevbseerUqdKcidlYCIho1aqVSCTatm1bntN4/PjxoEGDQkNDFQoFZv7ZZ58dPnw4vwnv2bOnyYtj0aJFBSwqKiqqXr16LVq0SEjIEe/NHwcwje+++w49+Pr62traVq9evVevXhcvXuT2sGXLFsykT58+/LslLSkTsAyxbAnhAxyRXUgIf7zIr7V1/rAz0rRb10XGRrHaYQ7OYmiHefnyrbVv1OvSV32n3Pc7uzChyH7gt7adB+BMclbM0jNDHj2/xlx1lLmPaLy8koepiJAu/nLmvp7GzGjmqtAlFGWCRK6h/GHS6A0/Hn204gLbCe7tGuq+uEsld1sJ/35oS4oARYAiQBGgCLwuCGi12nh+RxF2bfmDAJORzEKjyc4AjImJwa8luhvNnZ5arYb13KhRo+XLl3NXiu3zO3fuwFpt2bLlt99+q9Pp+C/Kii2nTZt27NgxTCbPCRw9ehQcYM2aNRERESqVCt6MFStWtG/ffvXq1XnOYcGCBeT80qVLGcBztxwyZEhaWhqoUcWKRSkpeeHChQoVKkyfPv3EiRN4mvCu3Lx5c9OmTQ0bNhw/fjwz3Jdffunn53fw4EHM2SLEBKBHFt3wyjbGm4fXrkSnZ5IQXj/q+fV9rKEskQcPXOlSubVVxn2eoN61MTojjf3zcPOSde3tZ+fAN+LIqMpK+3Wi9tY5dj4yhePwn6TVGuNMdOrd1Re+hIIYc9XTvuzgBgtdFKbsYe2TA6oT42w42cMiv+aKFosFEgt8ESlKLYTDwuJYhwYSA8Y0CegaSiOCrPKO0E4oAhQBigBF4FVEIDY21sfHBzMLCgrq2LFjAVPE9nD//v1LaA2//vrryJEj0Tls2eDgYHwRi8V6vX7o0KElbSNhLFjD2LeGQ4Csrm3bto0bN65WrZqjoyOM19OnT2/fvp1c6t2798aNHJ3TEoKD0y1Mf9CAmTNnknOwpOGg4A4bHR1dpUoVhDMJhcIxY8Y0a9YsPDx8zpw5ycnJaAYfwvvvv89tf+3atVq1TJpL5Pj9998//fTT3Ov4448/cN7JyQnRO+7u7pYuFPOpWbMmPBW4sUuXLsANbhYg/PPPP2dmmmwt9P/xxx+TbsFh4NCA+wWkC94DnmO9UUyArLmE3nVICEesHMjVDoOEcOhn6x2C6vDEuuBmMZHKPX9Hq1VsOI1fGUWnj3ylMhHP/g1pz9MWfql7wqqDCRxcHEcvkJStjB7uJlxYf+lrtT6L6a2ca63+9eYqJKY6nprb69QX8efB0kJJxZ5IERYI+Y6OTpAfPPHA/dgMthKRg0z0Y7vytXxpqVCez5A2owhQBCgCFIHXEgGGCfTo0QM73y9rDdjehd2P0UEAyBxKkwlMmTJlxowZGBRxQeAkZqY2zu/atWvAgAHwFcDahp1dqZKpmnkpHEhUGDhwIGx3ZqzcTGDs2LFkj3/t2rUMVQOBad68OTwqoDRgMtypog2s/8DAQKwCEUSw1zGK2VrwLBATBQ7w1VdfgVQUYaW4i0R2Yft/7ty5TA9YC3wC8MAg+uvp06fkPNgOfsWrCCYzfz4neqXAgd+o6CBwgBKiAflKCFuJBjy6m4HcAC4NKB9i37WPH38aoI+LTJk5iEsDhJ7+zpNXExpwJfogvAFcGlDDt92QBotBA/CvhuriTPVF/OlyqoXWHC1vPMMiGnDmaerwnRFcGhDgJFveLYTSgCL85dNbKAIUAYoAReAtRACGI/aAC1047L/8UlSRrwjTn6EBhXaFBjBzES3DpyXaYNc/K4vdUuTehaTY2bNn4wxGP3LkSG4agEtdu3ZFIA2+YMR58+bxHLSYzeAHqF+/PqEBUmne5csxH2yoowG20rlb+3Bo9O3bF+eRjMslErC2//rLVHYFe/CjRo3CF1xFcJHZVDdv3gwagIeCuJWireL48eO4Edv833//PbcHEA/4B3AmMjKSST8A8iBaOIkAISSu8BzxjWICPNdsaTNV4pMSlRC+fS0VlYL0OtYQr1rH6d0ePiIx36ejfXQbNMCQwIbmi4NCQQNEnv5Y7LEHG/66+q3BaNokIEfzcn361vpBLJIa9WrV8dHa22tZTARieZPZshqm15r/selG3KQD97nCYXX9HH7rFuLvxDe9gf9YtCVFgCJAEaAIUATeDAQQg46dXdiL+/bta9eunYuLC2I/XF1dYc89fMjqgZLF4gwizsuUKYOcUQcHB39//3feeQf3cqFAEAs6xAEDsWCIMCJyZz08PDAoeoOtjPB9cAzuXf/88w+6QrATDGVs9iMhFXE+aFy5cmXsOpuVA9qwYQMJvh83blyNGjXyG/3DDz8sV64c8nGLnD5r6aPH9j+Z2BdffAGnRJ633759m3Aw2P3wV3DbMDm43CRjeDxAipB5DCbQuXNneAZwC5M2wNxOdvHxmMqXL2/ptEl7AAWvQoMGDfDFrAdvb1NoNw4kDzCXBg8eDOKBwKFly5bxHJGvrcmzuzevWWZU2M2FXUtOQvjSqaT/dsdxkzXqt3Br2dGLfxkiTdjZ1LnDjRlsaSpJ1UZOE34TOrhgv3/XrQV7w5dwn0uXyl92qTwa/RvVqcpD/XVP9rNXUS207UpJhe78n6POYJx9/PHSc1HcdBPUCZ3ToaKDjG96A//haEuKAEWAIkARoAi8MQggGfT8+fM//fTTe++9hwiT9HST/g8C01ECCGZ6YiKrWwrLHmEqq1atQigI2cJHXPu///770UcfIe6FAeTZs2foEEcBdS3hefjggw86deqE3FkyBLb5UYjmhx9+QJGfsLAwpjcMga5Q7QeVahD5g31xUAWMjsCehQsXgjyQUHVykD1yHJ988kkBDwjWM8ZFgBCTM1DSTxMGD3wRWCAq/MjleW9QXrp0iUwDWRxm88EyyRmwBfIFycS//fYbvoADIEkXK0IaBn5FKSE4RpjbEdxP4oXwcIu8RpAxoJ1n/SJShQleDlAFpn+wLPgx8OvOnTt5DkqZQEFApd47E7b4gxKSEIaZfuJA/LmjrPtGILBp1cmzfnM3ng/P9Dqe3Z+2eKyNmi3TK2vS2fGLnwUyhc6ghWjAyUd/M72JBOK+tX9sXs7kTjJkRGft/0gfn/3q44xA4WmqFurblP/oqSrdmL13995hlyAS2HzZJADaYWKhgH8/tCVFgCJAEaAIUATeDARIXZr8DhLEb3YgsATtR4wYgWI1MDdJtAksflj5TPuJEyfCLsf5b775Bu1huYI/wAzFGcS1cwNXCoURcSZkexvVRRFGcvnyZViNyO7FGYwOo9+srvjQytIAACAASURBVA74CTIfEDYDS3r//v0YF2kAaAzOAD8AGQ5tEAaDL2QPu+A5IJY9P4u80MkXocF///2HBdatW7eAexnSlTupFyE3cIPgXhQDJT1g1cShwcT8YCdeIpHAruOWE4XXhbRH8nERpl3wLeicMAGsyyzkCUnbOI/HippRfMalTCBflJKu7b29rG8JSQjr9cZD22NvXGQ38kUiQYcevlVqO/N5bKRN1oENGaum2XD+WVF06u8w8Fuomym1GSvPf8EVDZCL7QY3WFTTtx1u1Cfdytr3oSE1u9gwzgidKlhaLfRxsvKzHRHXY1g1DXupCK6A7lU8+S+BtqQIUAQoAhQBigAfBNQpz+ClL80fbabFIk1YCIxsGIX5HYiuyXOxEyZMQAA9om5QxXLJkiXIXkUzmLBwApD2JF4ceas//vgjYm/q1KkDboCNeXKVscgLRRL2OnpAM1j24A8IN4IfAFvmqD5J9vLBRnJHucA+vnHjBqJr3n33XYzLxMkw+/qMlYwNaeyRFzoNPg1AhBArVfCBaj+FdoVoq0LbMOkZhOSYHaQHJkGCwI4wLQR3kZbgVHCz4AucOaTWEA6wJnziXj6TLHSG3AbwPPTr1w9nADWKCJndC98RzoCWHDp0iE+3b1TtICumC8ee/uPhlklcZS7fVsPKWEk7TKMx7N/8LPIRm3MjlQk79/L1DbTl88zIA87ctFD1LysSbCMQ2PUep2hjKomVqkpYdX50bDpr6EM0YFCDhb6OpkK2uuiTymOjbHTs6CKv+orWywTSvP95ynNKF6LSph1+mKlh9zb8HGWz3q1QxpkmBvB8hrQZRYAiQBGgCFiAwINNE+LO/GnBDcVuWu6j2d6Ns+szFtoZUzuo4JbYC+eG1yNGHwm7+EQkCZckIN0T1UgR4YMCNdjyR58oRQ8j3tPTE5HuiBpnRkHcCILU0ZhsDP/yyy+ff/45vmB3H6QCX8xqB61cuZKEsiCO3EzjLC4uDuHsCPgBzSDRMtjhRpV6fEEFG1S/4S4NBi5MXqYlAn4QzoQGoBPr1683AwEOBxL4RCrXM/XrkaRLQlnyPDp06HDgwIGC8UTlVgREFfp0mAYgVBA0wK9mtYPAxEhMP5IxypYta9Yh0nOvX78OcPAIEJGFuH80AKGCf4ZpefLkSWKCw2cCsoQvwB+1XPGwmLKq/OdZQMsnT55g1x+faJNnSSKUECVuGSR+QIWg0EEpE8gDosgD86EizL0ADuDXenihaPJpoMzU7forOiGGTcqxsxd17evv5injc7vpT0inTV89XXOBQ/XEEofB02X1TK69uPRHoAEpqjimN0/7IHgDskUD7v2jOjvFhpM9LA7qKG86RyDiOzq63RWesODUUz0nM6Cmjz2qhTrKaWIAz2dIm1EEKAIUAYqAZQi8LkwA9h/Zr83zgL2OXFvmEmEC2Pz++282lJdchVkJ45KpTQn7HlY+uQSJWezNI9AfLgKzMkGFMgEUxkEFenSC0BGkC5tNEt3COYBgGChh4RLDBBCLAruc2xieBATBYyYwkXGeKa6Povu55XvJMnMDAv5AQlnyPGCsw6gt+C2BxwCeCv5vUn5MAAq+xGjGdntu/S/UCb137x4kh1FUFHyJJAPAM2Pm4UG4DkgOnC0kPxgaAoAR+dZ79+7lzhCRRYQXFXDgPUFGeO4GV65cwXMH7cQleCHw2uSuEwWGRpwYcPjwURmjTCAHzpAQfrR1SuypHAK9FXr/7Fn/Q/7vWQEt05K1OzdGpT7XMm2c3SRd+/g7OvMV3zUoM9OXTtCGsxLTAoWdw6h50hCTrMGj59fXXhyn1LJvWJBL9QH15tlKnXBVfX2p5lq2J5FMQFJlkKzO1/yzk/GKL78QvfE6SzPQSecQd5oYYJXXg3ZCEaAIUAQoAvkh8LowAYv0BIiJjA1pUn+Te6CIDbS3EGWETXp8wqaE5WeWOYrbYRdOnTqVKcxfKBNo2rQp6uKj+hA32ZcZF14CEl6BjXZstzNMABYw7GDu9Eg/2NFH1BDOI86e8AqErSM312wtkL7iVkeFJU2M6YKZQEn8LeTHBGAxk6B/7N9zXS5kDgiOgpcmt6RAATNEKJGdnUmYFdQLsgPclkX2dSDcCLVZSS44Khqh2zzLxcJUk8lkEL1GQvPu3bsLhZHmCbAQGXSau78P59IAoUQeOnittWhAYqzqn3VPuTTA01f+Qf9AC2hAalLqnGE5aICTm9PXywkNCIs9tuLcKC4NqOLVYmjDX0ADjAa96uzUnDRAIKs/VV53In8aoNYZph15xKUBSAoe1dB/QvMyND+40L802oAiQBGgCFAEioOA1NnX1q9Kaf5I7AqPLy/Oiph7Yejn1w/zfzS2n7Exv3r1auwxMwUlsfuLDAGUuyk0iobpHxwA3/P7r58J8TfLbM6vDD/TLWxlkmuLTWtuUUvSAJOEScocqLxpFdys2AmjyIuiRmbdwrAmDg34H/iPiBqjpLFZTVL+PZi1BFeBxjChAdAaA6T5qUbg4RbwRuWeAPUJZGOiV2VErBqYeo8VkDNJCA/93aFsQcnm/J9o9JOsvZueadSseEdgOdsOH/pKpHzJGLTDUud/bkhk4+FE3oGOYxaL3E2C0mceb90RNtfIUQdrGPj++9UmCAVCo06lOvGlLvIIO1uRTN5svqSMKdCN55Gi0kEx4FY8Wy9MLhZOa1O2SRkL/jB4jkWbUQQoAhQBigBF4PVCoGgaw8QnkGcUB4kOQhAOisCYQYFMA4hYwfpHSR8SKMI0K9QngLFIFjI26XOnL8PWRClMXEW1UFj/jE8AUTpmesBmPgHcgpJHRDXMLIA+93NkdHML9gkg4gihOAW/BiA2FlXmyc8nAAKDnAeMBQBHjhzJHRQpHCRzwFKdYBA21BuF04ZAyhzIwSBPrYAD62rdujXTAAVeEfSPX0HVMEOzBA+zfjAo4YpMkknBY/E1Q1+vP0hLZ6tJTwxb8gGXBkidfKqO3m4tGvAgPH3nn9FcGlCpqkOnXn78aYDucXjKT4O5NEBctorTxFWEBhy8s3x72BwuDWgf/NkH1SeaaIA6JevQpzlogNTJ9p31FtGAyBTVsB0RXBrgqhAv6VKJ0gBL3zTaniJAEaAIUAQoAmYIQFXA7AxigUjUDTFPEauDfFZspUO7F7/CzoNnYPHixUhgJYVEEbLPFR8oAGEmCJ4UI+IeCGghM8EGeaFOgNxDwO4kJ2G2kuSB/A4ErvB5ByZNmoS8hYIPpFjw6arQNhUqVCDeEjOlNu6Z3FFDBXeL8Co0yF3KEwFUiNsp+ODSAJQqIjQASsMgFQXTADRj3gQygUIPygRsVElPwxa+h8JkDFgKrwrVxuy09a5UKHx8GoRdTtn/T4yBk2Bbs4Fzu27eKBvK53a00YSdS5kzzJieXZcKZyTVGjt9tUzo4Azl4M3XZxy+Z5LIJodQIOpZY0rbiiadEZNowL6PDAkmYQtyCOx8bDtuEnnW5jk0ml2PSR+2M+JZGpviXNZFvvz90GAPUwAcPSgCFAGKAEWAIkARKA4CsJvN4rlRx5ME1pMq+AhZQS4BKu1gW5opvIPziEQnTAAliYghW+gBE5OEBsG4NNMNgAeAmK3dunUrtJ/cDTBVspsOfwJGyZ03jEtY1Pjx4yFoUIT+S/QWuEcIk4EfhlEQw6/YXydR/siiJpIL/A8iPIxiRNxHxv920hKZyqQSEZ41skTAiwrtgZQVwoE6p4U2RoO3PTooM/oWRAO06SaFCHLYl6kd+tnv1ooOvHAi6cJxVngL/Tdu4167sQWhh6pzBzLWTOeKBkA7zL7fZIgGaPWqPy5/Ex5vkpYgh0Qk/6T2zFCvJviufx6uPDzYqGR1JYQuwYq2q4W2XnzeDNLm3/vPZx17rDWwdYLq+Dn80K48pAP4d0JbUgQoAhQBigBF4M1GgIkOCg4O7t3bpOBZwAGznsRvMEV1YGiivicK78D0xGb/tGnToFCGFFVICiD7Ey1Rk55YqMOHD0cyccOGDRHKD+UBGNY4iageVBfFl0Kjg9AGJi+xbhHhA61ciBggHRY0YMaMGbBZQS1gDZN4GIuig9Aek0esDqPXi8JH2LNHMSVEtCPUBxE4RF2YIIMVIfOBmMt5Hsg3ICWMCjjgu8hd9LOA9vlFB+EWOFjw7AC7t7c3yhYBHIi7wQ+DR4CreWZ1Fzw3EB48R7TJnW/N/28BkgVEFgAZ20hGz/NG6JoRQkgOZJ8T8gAWAV9HoWO91Uwg9f7ZiJUD9Cq20o5zaKvggStFUtPfZzEP/Dkd3x8fdtnE6ckBEt66i1doDVMZH56H8tBG6AZwGys69LPrYeLcWZrUNRfHPUm+yVy1lTgNqr8g0MWksqGLOas8OsJGy8p+ibwbKFpBNMCkk8fzWH8lZtWlHGV6Owa7jW9G84N54kebUQQoAhQBisDbggBPPQECB2xcmJv4kru8JhJMYYziEgzc8+fPM4U+8R2F8GFqkx7gAcDWO8nrhRUIl0KtWrXwnQ8TQPA9trehEEy6Qug5kx+MWcFWZlICLGUC6A0zhCwaxAoKePBYNUp2gtLkl/Naci9NAUwAgyIeadasWWR0EDAgTL6Dd4EPMInaPKcHRoRkbjRG+gQEpHnexW0GOQIiClHwceLECW6yBCLHUGUID7HQGqyk27c3Oijp+n6ThDCHBrjX7R46ZJ1VaIBeZziwNYZLA8RiQaePfPnTAJN22JYlOWjAC+0wQgNSlHFLzwzl0gAXhc+oJqsIDdA+2qM8PIhLAyAaoGi7hj8N0BmMPx17bEYDBtf1ndgiiJYJKuxPkl6nCFAEKAIUgbcOAYuEdc3qyaA0JLacSXgPoQHt2rWDMcet948gdWhaNWrUiCCLmH6Y7wgcR0IqLE5CA3Aw0zD7wp0eBHFxC7aNUfAetxAagCmhuiUSkbmZwcw8c6+OnMl9HnFKv/7669mzZ5GaTPpnDswWXg4EOGGvGvIIpU8DyDLNgOLOEKJgkEWDfBtOEhqASSIuH4IAltIA3IscDxKpz7+yk9mfDdwUfP6QuE8BLwZkDXAX3ER87kWbt9QnAJ3CB5sn2hjZSj4+LYcGdfuWf0nNAvDVqPUoExT9RMm0kcmFnXv7+fjzdTUY9bqMtT+qz+5jRxGJTdph9dvhTGzag5UXRqep2IgmH8eKg+svdJSbCnhpbq1RX/qJOz1J5QGyupP4Ly1Do59y6MGVZ6yrRCIUTGoZ1LaCBUFNPN8/2owiQBGgCFAEKAJvLQLEJ4BoIkgHIGof8TMo848YFaaoZW5kEF2DMCEE3CP3F7EfxSxSiZhybDwjSh69kTKgVjywoujo6KioKJincHFAb4u/KWLFaRShK8QFQfEAsIAXWVQ81GysmTNnQocYdAI4F/BMizDD/G5BMgkimsANQLd4xk29HkwAZVlRG7XgFwiSEEQOo9Aj6tCip3vncJuV6fKNX9uiOG5yj5WVYZIQToxl82vtHcVd+/i5evAV8TWqVWnLJmpvnmE6F8htHUbOkVaujzMPk66uvThepWPDfsq71elfd45cYg83AjiA9rZJlpw5ZHUnSqtYULg3PkPz1f57j5Kz/Y/ox0Em+ql9here9oUCSxtQBCgCFAGKAEWAIsAfAS4T4H8Xbfm6IADChrRdfBZaWdVaK0I8Ehw+kHIjStJ8jlc9OghVb5FxgoxpOJXg6UAKNp9V5dcGtvLDf6bkoAFCUYU+861FA1Kfa/5ZF8mlAS7u0h4DAvjTAENGSurc4TlogKOr04TlhAbcjDm28vwXXBpQ3afN4AaLTDRAr1GdHJuDBkAXrdl8i2jAg6QsVAvl0gA/R9lv3UIoDSjOW0fvpQhQBCgCFAGKAEXgLUQA8VGQWcDCsVXNZB2UHA5IGAANgENg8uTJ/Ed5pZnAlClTEGeGlHakRcOphCqqUFcucjGmFxLCI2JPslvmMJVDBq32bGCdYrQJMZAQjkxLZqvkevtBQjjA3jFf7UCz56RPik39aYju0S3mvNDDz3nSKnGZYJw5+2TbH5cn6gzZqnU40yTow761fxQLJUZNOhIDdI840hUSe0XbVZJyfKPE0Nvl6LSRu+4kZrHzr+plt6xbSICTnP/7RFtSBCgCFAGKAEWAIkARoAgQBGCUI/IqMjISJaFKFBOYx8jBwBD45JNnzJqaJTqt4nQOUTfoaKBqEursIgkdEhtDhw5F7jwU9YrWbcKlrUlXTTW2yCFSOFUe8bdrVVPkffGPqMdZ29ZHKTNNaTfkKFPB7r1P/OUKvtU2dVEPUmcO0sdmV4E1zTAwGDRA5OmP7wfvrNh2czZXO6xD8PBuVcdDO8ygTMg60Fcfe44ZWqDwsH13o9inMf91HbqXNH7//SwtmzjRoqzzgk6VnOVi/p3QlhQBigBFgCJAEaAIUAQoAgwCSARft24d0jmQM8BUUC0JfFD5FMJw4ADfffedRf2/unkC48aNmz9//rlz5xhRN2ScwD+AVHpkpudeJJ88gft/jYs/9zfulTp5hw770843xCKw8mt8/3b6oR2xXO2wkOqOKBgqFPLVDtPevZq2eJxRyUb/S0LrITdAqLCDdhg4wPmnO5nRoR3Wo/rkegGdccaQ9jjr3wHGjCiWBjiWtW23VmjPVpYtdI1/XI1ZeTFHtdAeVT1HNfIXvhAfoQdFgCJAEaAIUAQoAiWBANI6Ibjr6upKiorS401FALvY2OCGIADPLN4i4IDAmfDwcBSAwh66Rbe/ukyga9euBw8eRNVbaG2g/iusfywPCdH5LY8PEzAa9BGrByvjH1QevlHuatprL/5x81IKdAO4/dRq5AL5MP4J8uorx9KXT7HRsWE/0nptUSlIIJZo9eo/r0y5FXeC6V8ilH1S56ds7bDEG8rDQ4zqbJEOtBF61LRtvUIgd+G5Lr3BuPD0053hidz2Ixv6f1TdAvUxnmPRZhQBigBFgCJAEaAIUAQoAq8UAq8uE6hduzbIDdKF4RZghDYgVvf336ZN/dwHHyaAuwxalV6TZS0J4fPHEy+eYA1x9N+krXutRhZU21Qd357xx2xuPVN5m4/seo8FkVBq09dcGPc4+TqzWFuJ4wvtMBPb00WfUB4bZaNja5WK/FspWiwSiPnWKlXpDN8dfnjmKat9hmqh37QKal3egvm/Um8znQxFgCJAEaAIUAQoAhQBigB/BF7djGEo8EGpDo6z1atXowAT4p8CAgLwuW3bNv7Ly90SWcJWoQHIzDi2N45LAxBK0/Y9b4toQNbuVRnrf+LSANvuI+z7jAMNSFXGQzuMSwOcFd4jTdphJhqgfbBDeeQzLg0QV+ihaPUrfxqQotSO3n2HSwPspaL5nSpSGlCct4veSxGgCFAEKAIUAYoAReA1QqA0mEB6ejqKKG3evDk3LgiPQ8XT8ePHo0zQvn37GBlttETZUHz2799/4MCB+A4FPsi84QwktV86viYJ4X9iwq6wu+mQEO7cyw/pATznZjQYMjbMztqxgm0vFNkPmGrbqT/OxGc8/uX04Lh0tmSqt0N5SAh72pfBVU3YStWpr2yMOuZeabVhiiY/CYR8s3sjU1XDdt4JT8hievCyl/76XnANHwee86fNKAIUAYoARYAiQBGgCFAEXncESpwJYO8cAgdLly49ffq0GViw++vWrfvpp5/+/PPPM2bMgGI25LWx/U+a+fmZcl67devG3EWUkx88ePByQYeE8K6N0Q8i2OxeuULY7VN/FAviOTGjTpu+/BvV0a1se4nMcdQceVPTAp8k31x6ekiKKo65Wta15ojGK5zkHgBTdWGG+jJXFk0gazBNVnscz6HR7FZcxoidd56lsdpnFd0UqBYa5MI3rIj/WLQlRYAiQBGgCFAEKAIUAYrAK4tAyTIBmPXY1N+1i63dyQUCdY5QG7Rp06ZnzpxBTjBYwalTp9CetEEsED65FZcIB4C29ktEExLC236Pin7CRudDQviD/oHefnzNaIMyI23BF5pLR5hVCOwcncYvldZohjPhcaeXnx2ZpU1jrlb1bjGkwWIF0Q47MUYbvo5dvlAqb7FIGvIxf0BOPk4Zveduqor1J9T3d1zSNdjdlq/oAf+xaEuKAEWAIkARoAhQBCgCFIFXGYESZAKoZ1SlSpX169fnuf5bt27NmzdPoVDs3bu3UaNGzZs3P3z4MKKAQBtQaAm3wJOAzyVLluj12UX6t241baI3bmxBmXzrQm+SEF4bmRjH7qYTCWF88hzIkJqUOmeYNuIy017o4uk0cYWkQnWcuRS5d92lr7QGtv+Gge9/UmeWRCQzajOUhwfrHu9lB4J2WLs1kqAOPIdGsx23E6YceqDRG5lbOlRym/VuBVsJX9ED/mPRlhQBigBFgCJAEaAIUAQoAq84AiXIBGDKR0dHt27detKkSblR2L9/P0x8BP84OmbH1kOTGb8aDIa//voL7du3b9+wYUPQA0QNrVq1asSIEX/++Wf16tWRMJAfpigfZHZYEf1sCeGUYkgIx0el/DRY//QuMyuRT5DT5NVi33I4c/T++k3Xv4d6AHO1XcXBH1Sf+EI7LPGFdthZ5pJA4Wn77l9i7wb8F7jqYvT8U09ZEmBj06+2z6SWQWLeogf8x6ItKQIUAYoARYAiQBGgCFAEXn0ESpAJQBHsn3/+gSnv6+ubG4irV6/iZP369bmXyK83b94kJw8dOtSnT5///vtvyJAhqCDUqlUr8AeGOeTuc3muw1oPwAoSwk/ugAYYEqKZKYnLV3OauFLk6oXo/123FuyLWMoa+jaC7tW+fid4CM4Y0p5k7etpeH6bvQrtsI6bRa58ZdF0BuNPxx6vvxrLMhCBzYTmZQbVzeO5WAsx2g9FgCJAEaAIUAQoAhQBisArjkAJMgHogn3wwQf5CWyRBAB3d3cuQJDZw68JCQnkpIODA/wAKD10/fp1tD9y5EiepKKkIYaEMFKEtRoDMxBqBHX6yFci4YueJvxi6pzPjGms8oCkWmOncUuF9k56g+6vq9+efMSKJIiEEmiHNSrTHcPpk8Ky9vc0ZkQyQwvda9p12MRfQlip1U86eH//3SSmB7lYOLN9hc4hOZAvaQxp/xQBigBFgCJAEaAIUAQoAq8aAnxtWavPOzMzE30iIojbs4uLSRw3K4utbolfZTIZgoLs7PhW5rHuVG9eTjmwNcbAia2HhHCbrl5C3kE16ouH0xaMNqrYRckad3L8fJ5AJlfrslZfGHP12SGOmW6H/OBqPq1wRvfsdNaBj40qlj+I/Fratl/PX0LYJBqw5+75SDb/2EkuXtS5UqPAHLBbFzHaG0WAIkARoAhQBCgCFAGKwGuBgMVMAOm8R/M/iH3P55DL5WiGwBhuY41Gg18lkleljs2F40nH98VzZwgJ4SZtPfJzdOReuPK/LSgYaqNna/Uo3v3YfuC3ApE4Q53829nh9xIvMHc5yNyGN15e3q02zmgf7VEeGWKjY/EUl++uaL2Mv3ZYdJp6+M47ERzRAB8H6bL3gkM9Xw6n4vNW0DYUAYoARYAiQBGgCFAEKAKlhoDFTADx+kgCzu+4e5dNhy14DSTOh1sklPnVzFFQalhwBzJJCO+Lu3CCDaopgoRw5vblmX/OBd1herbrOdruwy9AJJ5nRS89MyQqNYK55G4XAO0wX8eKOKO5vQ4FQ20MbHaytOpQRdPZ/LXD7iRkDt8RATLA9F/J3fa3biH+TiYCRg+KAEWAIkARoAhQBCgCFAGKgMVMAFX/Ifqb3+Hh4cETU8IE4uJY/Sz8Gh9v2oAnmmIv8TBJCG+NCbtcHAlhffrvM5V7VrOrEInsB09XtO+LM8/S7v1yekhiJhv97+8UChrgamvCRH15nvriDO7yZfW+kdX5ij8g5yNTv9h9NyWnaMDiLpVcFK+Ks4X/WmhLigBFgCJAEaAIUAQoAhSBEkJAYBafUxLD/PLLL59//vkXX3yxaNEipv8NGzZ88sknzZo1O3HiBHMSKmOQIl63bl2/fv0snQnqh6J0kKV35W4PCeG9m55xtcNkcmGX3n7e/ny1w4xadfryqZqrx9jOpXLHkbOlVRvhzIOkK+sujldxwn4qeTToV2e2VKwwGnSqM9/oHmxjbxRK5E3nSMp25r8uJAfPOf6Yk9dg076i69ctaLVQ/hDSlhQBigBFgCJAEaAIUATeCgQs9glYC5UPP/zQy8sLosIMEzh27BjEhv39/d9//31rjWJpPyYJ4fW5JYQD+NMAQ1ZG6vwvuDRAYO/k9NUyQgNuxhxbdX40lwbU8ms/sN58Ew3QKZX/Dc9BA8S2ijYrLaIBf1yNQcFQLg3oW9P7m1ZlqWiApW8CbU8RoAhQBCgCFAGKAEXgjUfgpTEBVAQaO3YsPBIdOnQY9uLo2LEjfl22bFkBigEl+jxSkzX/rItMjDWXEHb1kPEc15CSmDp7qO6uSSqBHEI3b6eJqyTlquD7uSfb/7g8UWcwZUWTo1nZ3r1rThcJxUZ1StahT/XRx5hLArmr7bt/in2b8B3aaFxw6unKi8/YHmxsRjcO+Kz+Sw614jl/2owiQBGgCFAEKAIUAYoARaCUESgNJiAUmkYhn9xjwoQJ8+bNQ/osEQTDlxkzZnTubEEkjBXBSohVbV0bmZZcDAnhuKcmCeGo+8ysRH7lnCatEvuUwZl/767aenOW0YbNHu4YMrJrlS+xakNmTNb+XoaEa6wRbx9g22GzyK0qzwVq9IZv/324/Xa2DgPukooE09uW+6CqJ88eaDOKAEWAIkARoAhQBCgCFIG3DYHSyBMoGFODwYCKQ6gfWqFCBVtb2yI/gOLkCUBCGLkBXO2wMhXs3u3hw187TPc4PBWiARkpzPzFFWo4jp4vtHUwGA07wuadfbKVuSQUiHpUn1wvwMR59Mn3lIcHGrNYAWChS6ii3Rqhgq/yV7paN/ngg+uxGUz/9lLRT+3L1/BxKDKY9EaKAEWAIkARoAhQBCgCFIE3ZURy1gAAIABJREFUHoHS8AkUDCJ8BSEhIdAOKw4NKM5zehBuLiEcXM3BMgnh2xdS5gzj0gBpzWZO45aABuj0mg1XvuHSAIlQ1r/uHEIDdPGXsw704tIAkXdDBAXxpwGJmZrPd9/l0gAPO8nSrsGUBhTnlaD3UgQoAhQBigBFgCJAEXgbEHj5TODlohx2JWX/PzkkhGs2dGn7nrcFEsIX/k1b+KWNWsksRNa0i8PIOQKpXKXNWHXhy5sx/zGXFBLHoY2Whno1NdGAyCPKQ/1sNKwAsLhMB0Xb1QIp3738JymqYTvvPHzODl3WRb7svZCyrnzLHL1c8OnoFAGKAEWAIkARoAhQBCgCLxGBt5oJXDyRdGxvDgnhxm3cm7azREL4yOb0FVNySAh36OcwYKpAKEpXJy07O+xB0mXm6TrJPUc2Xh7kUg1ntPe2KI+OsNGz2cmSkI/lLRYKRFKeb0NYXMaInRHxGWz+cTVv+1+6Bnva8+2B50C0GUWAIkARoAhQBCgCFIEiIJCamnrr1q2rV68qleyuZRH6eTVvQXw7il7iyMhgI7TznCrC4NEsJYWNIbf6iu7fv48hzBR7+YzyljIBFCk6vj/u/PEcEsJtunrVbuzKBzXSJnPbssyN83JICPcaa9djJC4lZkYtPT0ECmJMb572ZaEd5uVQDmfUN35TnZlsYzQwV6W1xsgbTBMI+D6OM09Sxuy9l67WMz00DXKe37Gig0zMf/60JUWAIkARoAhQBCgCVkEgKSkJtdH5HCiWaJUR8+wEikxkDg8ePCANAgIC8OvXX39dcoPm7vncuXNYppubm7Ozc9WqVWvXrm1vb49Q8J49e6J8fGnOxGwsmH+tWrUSiUTbtnG0mziNHj9+PGjQoNDQUIVCgZkjB/Xw4cP5TXjPnj1NXhxcvazcjaOiourVq9eiRYuEBLayi0UgDB48uFc+x/z580lXW7ZswUz69OljUc9o/PIzhi2dcX7t+WcM6/XGf3fE3L/NEjixWID84KCK9jwnYzToM/6YrT6xg20vEjkM+k7WoD3ORKfeWXX+ywzNc+ZqGeeqA+vPt5U64RVUX/hRG7GevVEglDX8QVqpJ8+h0WxvROLck08MbBUim66h7mOaBIqEAv6d0JYUAYoARYAiQBGgCFgLgdjYWB8fHz69QU9p8+bNfFoWoQ3RcsWNt2/fhjmLL2KxWK/XDx061Crqq4VOSa1WQ0l2xYoV+bWEFT558uRvv/0WEyu0N6s3wLg//PADut20aRNoiVn/R48eRUV7lUrFPY90ViwH9CD3ZEAqoIWF83j0oBBSad5BGSiXf+DAgVGjRi1ZsqQIKwJ/8PTMtxRk165dd+7ciW7hdalYsWJ0dDQeNB43/4HeOiag0Rj2bX4W9SiLwQgSwp17+fkE8I2tfyEhPEVz9TiLskzhOAISwg1x5n7ixXWXvlZzJIRDPJt8UmemVCQ36jWqUxN0j/eyNwql8haLJIFt+T+w9VdiVl1iRQNw44A6PgPq+PLvgbakCFAEKAIUAYoARcC6CDBMICgoCNZkAZ1je7h///7WHZ3p7ddffx050hSbEBERERwcjC+lyQRQBxI733AIkPm0bdu2cePG1apVg07UzZs3T58+vX37dnKpd+/eGzduLCEQ8uxWp9NNmzZt5syZ5GpuJgAbukqV/7V3HtBRFe0bT7LZZNNJhISPBEgghN6khd4+QlVQEEQQAUE6gsAnVdFPRZqANEFABRX+Nj4BQaoU6UUEBQKIhBYpoYVs+ub/LMOZvdlNNjebwpJ95nBydu/OnZn7m+tx3pn3fZ+qcGfC0n/06NFNmzY9ffr0jBkz7ty5g/o4QzDTvT1+/Hjt2rVlX1988UWfPn0su161ahWu+/n5wXuneHG1aSGV7WzdujUqKgpXwsLCvLy8zLoA5Dlz5oiLK1asgMWC45fo6OhSpdSuDB3LEkhMSFu3+urNWJN3vpeP67MvBT8VqFo7TP/g/vwxSu0wSAj7jpqnDauCOThxbfvXx99ON5hECeqEdHihxiSjdlhqQuIvw9Jj95qmUOvj0XqJa1A9lf8lGDIy5u29rBQNwBnAG03KPFu5hMoWWI0ESIAESIAESKAgCEhLoFu3bvDTKIgu1LQJ1wOcAKCm3HEvTEtg8uTJEIZC7/ALgk1iuem+bt26fv36wZcdq22ssyMiItQ8VN7rIFChf//+WLvLpiwtAcjdiiX1Z599Jk01GDDNmjWDfz9MGlgyypGgDlb/ZcqUwVPAg6hWrVroxWyomAv4RMEGGDduHIwK2x5k5syZEODCvRcuXIAxYKURWDtwBsOrCEtGeg3l2Klax/QcG7L/CvfvpkJCWGkGFHtK261f6VyYAVlJCBebsEyYAfsufo+EoUozoHm53j1qvgUzwJAUp9/cW2kGOHsEerZfrd4MgHbY29vMtcP+26Y8zQD7f/E4QhIgARIgARJQQwALR+xJ51gTHjjZhahCrhRL/1w53mCZi8jXHDsVFbDrr9ebvCqUdyEodvr06cII2b59u6UZgJ/gyrJw4UJ8QI/QllXZaR6r4Rygfv36wgzIzoEH48GGOipgK125tY8DjV69ehnXePv2KQ0JrLZXr16N69iDh9sPPuBXOBeZDRVuYDADMCnwYLf5KUS/AQEB1s0AQR6GFj7AnQmBKyp7dCBL4M6tFKWEcFApXde+ZXz8tCpJpWctIbxcU9IoIbwl+tO1f8xQSgh3qvJ6pyojjBLC8Zf1G3sY4v6QHTn7hnl2+Ebjbzy2U1MepKSP2Xhu19+mkHNoh83pGNE0tJia21mHBEiABEiABEjADgm0bds2MjIS68WNGze2adPG398fIbZY82E9hw1gswHjysCBA8uWLQv9JR8fn5CQEDiNmIUcwIkFDaJcvnzZ+vOiR7i5lyhRAp2iNayV4UMPG0N513fffYem4OyEhTI2+xGQCj8fVK5SpQp2nc3SAX355ZfYk8btY8aMqVmzZna9I0yiXLlyiMe1OXw2t/OI7X8xMAQw4FAiy9sRViFsMKz7cV6hrCNjcJVBxjjxgFGEmAdYAp06dcLJAG6RXjrydmzn4zOmqXz58rkdtqwvLAFEXatpAbHFWHkmJCQsXrxYTX3UcSBLALLBrZ8JElzKlPPs8nKIh6dGJSZICN+dNtBwy+SgDwlhv/GfavxLQEL4+xMfbj23TDYFCeEXa01tXs4Yvp1++7R+U4+M+BjTr8VreLZf4+IdrLLrW/rU4euif481xTdDO2xR54rIGaqyBVYjARIgARIgARKwQwKHDh06ePDgtGnTOnfuDA+T+Ph4DBKO6UgBhGX6rVu35JixsoebyrJlyy5duiS28OHXDg/yHj16wO9FVrt27RoaRLGS1xInD127du3YsSOiXUUX2OY/fPgwQmmx3PzjD9PGJbpAU8j2g7w18PzBvjhMBfQOx565c+fCeMCKU3Yt9shRXn75ZSuosXpGv3AQkjEDBT0vWBnjLAIPiAw/Op0uy+6OHDkiriOKw6wCHlNcgbUgPiCk+JNPPsEH2ADBwcF4IhGhi1RCOBiRtyOGWPgLYXJtfkaYW3D6x+1169bds2cP7DFMNwIeQC/LwxlYWTjHQH0RRqymOJAlAByVavo1/nfxiGo+HV8M1rqpffaUU4fuzRySEW8MGRElk4Tw0YkHLj2KgMFPkBDuV29WnZD2+Jz2z0H9zy9lJJqSRmlKNfGMWuWiU5ur9PLdpKH/O6PUDgt9qB0W6q82vlnNS8A6JEACJEACJEAC+UIAC2XsQGdXhBO/WcGmL+oPHToUqfex3BTeJljxY5Uv648fPx7rclyfNGkS6mPlCvsBy1BcgV+70nElx6d49913xfY2sovCjeTo0aNYNSLwFFfQOxb9YgddFtgniHyA2wxW0ps2bUK/CAPAr7AZcA4gqqEO3GDwAZv98Iy3Pgb4sme3Is9x8DZU2LFjBx4QK2kr90qjyzKoFy43OAbBvUgGKlrAU4sDDenzg514rVaLIA1lOlGcuoj6CD62YdjiFgQqiHfgww8/hCkIewzTjRl8/vnncfBiFrogbkHQNv5iWm/cyCSZld0Y1K6GbX4Ge7uxdsOAqOf+pdGoTbiZfNgoIZyRpMg1pJAQ/vTQ6yf/MbmFeWp9BzdcVCmwEZ46NWZz4tb+TqmKXKVhz3q0Xuqs9VTJ5NSNhKHrov9RaIdVC/JaSO0wlfhYjQRIgARIoAgROHvdaWd0of67ZpMMFBbZWBRmV+Bdk+WcICQUDvTwukHqT+SaRPQqqmEJi0MAUX/XLmPGQsStvvfee1gC1qlTB7YBNubFr3JFnuOEY72OFlANK3vYD3A3wjkAtsw3b94s9vJhjVh6uWB9fOLECXjXtGvXDv1KPxm5ry9XydiQxh55jsNQUwGGEHylrBdk+8mxKXhb5VhHhmcII8esiBbkHrzADjctOHeJmrCpcMyCDzjMEbmGUGA14S/uVTPI7EZoZuMhOhkmDdzDUB9TiUW/PM2QLcBgwGeYJVu2bMnxwVHB4SwBNVBkncQd3yJhaJYSwveTjBLCF+KOycrFdEHDGn9axr8arqREr07aOcLJYBIA1lbpp2s6y9lFbVjCwcv3Rm04ey/JZJc3KeuH2ABqh+VqBlmZBEiABEigaBA49LfT6sOF+u+8jTJQ1nhnGZsLT33s9CtvQ8Z95ILEFZmRE3vtYvEHdx1ZE3mK4CAE7xGZHDPHuUZUqxjDlClTSpYsKevDOR5O7SJJJRzrzdqBoaJcImOtiTGjjtxKv379urhFpC41KzhwaPCwwNMGBR44omDD28qA79+/jwW69SKX3Tk+uPUKMkBCbP+bFVgjuCIsAQCHsYQPMKKUEQU40hF1pG6DOCRBjn+4J9k8PGkJwAiEhxjmGm5O+CACsnFcgECF1FRTykpcFN5BKOfOmfRtrQzAsbKI5momEtYuSdywXHmL14ujPdr0NL76CZc/PTjytt4UNhDkHTagwbxiHsY4hOTfF6Qcn6e80a3OOPdquVB52HIubtqumHSFeFinSsXHNKF2WK4mkJVJgARIgASKDoEvDzjtMa6sCq/0auDUrILa7mQWUWzqv/LKK9ndhtw1iLWVv2I9jdQ92Pxes2aN2S1YbcMvXOamhF4YVMNEnRo1amBvHo7+WB2apQnKUVkMiXGQ4R6NwHUE4cJmnaJZHA5gNYxVOH6Cr8uoUaPwAY4ukMdSVsZJApzgMZLff/8d12VyfSTdt5TvFY9pyQQBA8KVJcsCg0S4yFspWKPjpELtJD08WmnRogXqm2URnTp16jvvvIPrcPTH2t2sQezEY1UNyWGYLrB5RDAATmbMTngQUIGdeBy2iPhgaAgAI+Ktf/pJISTl5ATPIhEQYqXgPUFEOCogJAOc0Sk8kcRRgCiwAXAuJODv3r1b6YAE60gcYsBWsSLxJpuiJZDFREBCOGHV9KTMEsLe/d/WRbZD7Sv3zkBCOCHFFDZQ1r96/3qQEPbNyDAkH3w3NforU6POGl2jD7Thz6t/TdecuL7owCNfNHFXn9olB9RTG2GsviPWJAESIAESIIEnhcCTYgnkSk9ALJGx4y7ybyoLkthAewteRojKxV+sKeF/gqhiZR3cDnsAu/syMX+OlkCTJk3gXI41pTLYV7Y5ePBgsaWNyGPo5kpLACtgrIOVXYt2sP0MryFcx+GAsCvgu4JNa7Nn6d27tzI7KlbSYjFt3RIoiDczO0sAK2bh9I9DGJxdmHUN5ygk5bSUFLAyQhwOiAMWmF6QHVDWFJLD1p8O8DEF1usgYEAEi8OvTJxIiAJrxN3dHQcFCGhev359jhjpHWSOKCM1JX7RhExmgJvOd+RHwgyAhPAn+4YozYDKgY0HRS4wmgGQEN41KpMZoNF5tFqs3gzA5C08cEVpBuA8aVTj0jQDcnyPWYEESIAESKBoE4gIcmoeUaj/SvkVElEs9LPrSTqWYPsZG/PLly/HHrPwFELB7i8iBOBmk+PKUrYv9pWz81eRLv5mkc3ZpeGXzWKtLGJtjx07Fhsba/Y4GCSWpLLAoaWQyKruRiryIqmR2U1Ym4kDDeEjpLIgx6ioaZaTVOXtaqpJ888s4Swm18obZdkyLYFMTAz6B/c+GpHy2055FRLCfuMWu1VriCuQEMZpQHK6KXq4bkjHV+rO0Gp0GakPEre9mhZjjA55VNz8PKNWuoa0VDOdqJNmyHjvl4v/d+KRpx2uaF2cp/673PNVA1W2wGokQAIkQAIkUFQJ1A9zeql+of4LL6z//WaZ40UIAmAnXq7q8AF7wHA1wf40/sJfSDj647jALMzAyjuAOFf8igMB4f9jVpCwSFwJDMz1w8PHCTdKia68v4fwOIKrkvUCB6q8d4QWpCVgKeMQExMj7KJcBf7CbBD5kSxlE5CtVWkXZflZhoDjjAKJjyw1y9CyjJEQKaRkQZJTEdJgmQcpS1ZFyhLAyU5eVNwM927dmz4o7axJLNolIMhv/DJtOWNk+iMJ4QxTCK9RQrjWQwnhxDj9z73S/zkgETt7loSEsCawtsoXNDE1ffzP57eeN1minlqXmR0qtCxnjMhhIQESIAESIAESKKoEoCpg9mhYpguvG/iC4y8cRRDOi610aPfiK84EcDLw8ccfIyZVrALhSq4UH7ACSjrBi2REyoLloxgJlsU5HgJYdtG3b19xEStd4b+eXTGLcM2u2oQJExC3YL0I8yPvJTw8XJyWmCm1Ka9Yeg1Z7xcePqhgaebBgQp+O9ZLq1atcC8sEKiSdenSRbJV9iijyc3Stso3QQwgx1KkLAE4t8mQ7Ryf3KxC+vXLdz8YkH7FFGetCS7nN3G567+sSQijEUP8Jf2m7obbj/QmcMXFr7xRQriY2jiju0lpSBN06IrJOg/wcJ3/TMWnS2URwJ7b52J9EiABEiABEiABeyaAdbOZPzfyeArHepEFHy4riCVYsWLFuHHj4KwinwWe6MISwPazMpzUysNiiSlcg6AobKYbgKgAsWzF0tMGXBjqsGHDcCPy8KAXy7hh/ISHGjt2LNLh29B+gd4C5yux2sYhg1QQw1fsrwsvf0RRC8kF9UUID+OQQTll6m9HTThriYhqnNV8//33yntxZCSSmeJcSKQNlQWHGOKzOP/JsRQpSyDHp82uQlrMmbvTBmSWEK7h9+ZSjX9gThLCp/QbISH86DQN7bsUr2WUEPZSZYehfmx88tAfz5y+afI4CvZ1X9S5UoXiamUHbH5q3kgCJEACJEACJJC/BBBciyw01guEY806RXwwstnAuRynAcj3L9bKCFEVaYjgIwSpAXzA3j9W2wjVxW4xKs+ePVvs4mORqtISwHodMay4Bb43kDFGQkysU7GLjLBj4WIE0wKLdduYzJo1S5ouiG+uXbs29LDg3AJfJojj4goUcDFm4UMPZ5uwsDArHcHyOZNTyVJay7bBI6cTfPpBo3Xr1sjGAzcniAQjIFsYBkOGDEEuoFy1LPb14colso7aVtCvsNxwIoQIcsw77DcIBeDdEDHfyHokQpNlQQoj8RkPoqpTPHPRKJB6tu1Bkk8dujW0+c3+9eS/u3NHG5IT0VpqWvIXh98cu76+/Dfhp6anr+8VHaXGHrj/Va37n4fLfwlb+xtS9eqHcf5WQpdVvzddckT+G/D9qTv6FPUtsCYJkAAJkAAJkMBjJ2AZJmtlEYbKYsCWQagywBSrZOzQy+eCK4hSlxfrfhndi7U74nRFTaiSiX6xfhVXRDXlGgkJT5WJgJRCYNhgRuJO2alULlNeFL82btwYzSJ3kBl5GDlYvFpfgCLlEVyb4CNU+LOGbEVibLC7LHuHaJocOdLvyM+RkZFwncrtaGUOJeT2ye29yvpvvvmmclTKgeGkCLaBWeMi3yviiVV26uhnAsmHt92f83omCeHGnXyHz3B20yWlPlh2aFT2EsI/m0sIl+vs0WqJs+ujiP4c7bDjsfHD15+N05v0IOoG+8x7JqKYh1r1sRy7YAUSIAESIAESIIFCIJArYV2zfDJQicKSTmzqC9mvNm3aQKFWme8fTurQtGrY0Ji/BAULUywBoT6GTWuozGL3XVyXwzD7oBweBHFxC1a9YpNbhMNiSFhBIjJVZqQRF82alSRFg5ZPDXNl0aJF+/fvRzJ7s010jBY72XBwQm5+hDubKSEUwhxZfyL8Om3atJUrV4poaaE1hkEisyrONGS+JvXjRIyH8NRXn9kpy8ZxrgLXIByniFGh4JQA0wRjBslnzd4lvBjiTOCZZ55ROVSH1hNI/OW7hK9mIvOqhOXR7mWvF0bga3xyHNIEXbtvzHcrip8u8LXI+YHeofgMCeHkA28jZ6v8VVulv3vd8epl5PZcvPvO9gsp6aYWWpf3n9QyzNXFdiE6lVPOaiRAAiRAAiRAAvZAQOgJ9OzZE44f8PrA1j5cPiDTK1PZWA4SMQPY74fDPWJ/EeeaxySV8CmHAw685NGaylQz6rnhia5evXrlyhUsT3HEAb0t9csk9b0URE345UPxAFiw4M5V8lCzwUD7GT5XMCfA2cqcqnwEHCVhVLC+cBSTnasSXKrgR4Q6MLesO1/JTh3XEkj4cWniumVK+l7dX/do2wtXbiVcWXZwZJz+qvw10DtsoElCeH7K8Y+VN7rXedOt2gCVE4lq607f/OjXSwoFYacXqgUObxjypPwXov5JWZMESIAESIAESCA7AkpLgJSKHgEYbAjbxV/EfqjP9JoXDhCXwIEPpNyEkrSa4ojeQRkGw4NVH2YyAzQa7wHvCDPg6r3ohXsHKs2AssWqDWu0pJhHECSEkw5MzWQGQEK48YxcmQFfHIudtSeTGfBa/eARjUrTDFDzvrIOCZAACZAACZAACTwRBLBzP3z4cAwVmS2Fu1GBFgQ6wwzAgcDEiRPVd+RwloBRQviTiUk7fzAxcnP3HTFb19AYYHH+1pHF+4c8SDHl9a8U2Pi1hgs93fyylxB+TiVuQ0bGnF8vLT9iko/WODuNb162dy2jMggLCZAACZAACZAACZBAUSKARTk8r5D0E0HSBfpciA9GDAa6wN/KlSur78uxLAFD4oP7c19PObpDAnL28vMbu8iteiNcORG7AyHCyWnGrEyi1Anp0LfuDLf8kBBOTTdM3f732lM3ZeNuGuf3o8p3qGhU52YhARIgARIgARIgARIoYgQQCP75558jnAMxA4jxKLinQwAxUsrCBkBe0Vz14kBxAoZ7cffmvp5+yRQE7OIf6PvGfNdSxnS2+2N+WHtyRoYiCBgSwh0rD4fTDiSEE7f1V2qHQULYo80K9dph+pT0iVv+OnYtXs6Nt5tmervw6iW9czVbrEwCJEACJEACJFBkCCCsE8k0AwICkL6zyDwUH8SSwLfffgt1gm7duqmM4rWB4YYNG06fPo0EUMoUsWracSBLIPnYL/ELTTlZNf8K833jY01AEDBtPbtsy9lPlbw6VR7ZvLwxbMAQf1m/tW8m7TC/8h5tPlOvHXZbnzpu07lzcSYZkRJe2tkdKoT6q803qmYiWYcESIAESIAESIAESIAEckXAgbyD3J9u6fXiG4KOa/nqfuOXwgyAhPAPJ2cozQAXZ02Pmm8JMyD99mn9xu7mEsLtVqs3A67eTx66LlppBpQtpoOEMM2AXL2mrEwCJEACJEACJEACJJDvBBzIEgA7jzYvenR4RVu9kd+YhS7efmmG1K+OTd4f873EqnVx71t3Zt3SHXEl7Z+D+p9fyki6JX/VBDfzbLvSWeevchrO3tIP/fHMtfumaPEqgV4Ln60Y5O2msgVWIwESIAESIAESIAESIIECIuBYlgAgenUd5jtytrO7LiktAdphJ2K3S7IeWl+kCaocZBTQTo3ZkkcJ4aNX749YH30nMU22H1nad26nCF+dawHNJZslARIgARIgARIgARIgAfUEHM4SABpnF82D5Nuf7BvyV9wRSQoSwhANCPWvjispZ9ck7RrhZEiRv2qr9NM1mensonYR/8uFO+M2nU9MNWqGi9Iu4qkP2obrXB0RuPrXkTVJgARIgARIgARIgAQKjYAjLkxv668u2Dvw6v1oSTnQO3R442VBPuVwJfn3Bcn7pzhlmBbxbnXG6epNVK/8tfbPG1O3XUhTaAj3rBE0oXlZVxfnQptXdkQCJEACJEACJEACJEAC1gk4nCVw7d7ZBXsHxOmvSC5lilUb2mjpIwnhg++kHJ9nQmaUEJ7uXu019a8RhMPm7L2cobhhWGTIkMgQ9YaE+r5YkwRIgARIgARIgARIgARsJuBYlsCFuN8W7x8cn2xSdqhYouGghgu9hITw7lGpZ740odS4e7RcpA1/XiVcSAjP2hPzxbFYWV/j4jy5ZWiPGsZEpSwkQAIkQAIkQAIkQAIkYFcEHMgSOHNj/6cHRyJQWE7A08Ht+tWb9VBCOCFx+8C0i5tMc+Pm6xm10rV0K5WzlZJueGvrhXWnTYmGEBLwYdvyURWeUtkCq5EACZAACZAACZAACZBAYRJwIEsg0Lusp9ZXwm0W1vPFWlM1Lq6GpDj95l7psfvkT86eQZ7t1mgCn1Y5Ewkp6WM3ntt98a6s7+uuQZqgBqX9VLbAaiRAAiRAAiRAAiRAAiRQyAQcyBII8Cw1oME8nas3EHeoNOyZqqPgu294cEW/sYch7k/J3cW3nGf7bzT+FVTORJw+FdlCj8c+kPUDvd0Wdq4E6QCVLbAaCZAACZAACZAACZAACRQ+AQeyBAD3X77h/evP7l5zSsvwPviafvvMQwnhGJMZULyGZ/s1Lt6lVM7ElXtJ0A47H5co64f66xZ3rgghYZUtsBoJkAAJkAAJkAAJkAAJPBYCjmUJAHFYQK16pTvhQ9r1w/qfe2Yk3pTcNaWaeEatUi8hHG2UEI6OjTfJDlQLMkoIl/CihPBjeZnZKQmQAAmQAAmQAAmQQC4IOJwlINikXtqWuKWvU6rJpcc17FmP1kudtZ4q4UH3uS3RAAAKR0lEQVRCeOT66LtJJgnhhmX85nSM8HFXqz6msiNWIwESIAESIAESIAESIIGCIOCIlkDKuW+Sdg7LJCFcua+u6SxnF61KxJYSwu0jnno/qrw7JYRVEmQ1EiABEiABEiABEiCBx03A4SyB5BOLk/dNyiQh/PQYXf1J6pW/LCWEX6oZNKFFKCWEH/fLzP5JgARIgARIgARIgARyQcCBLIGMjIykg/9N+e0jEx5nF12jD9yrD1YPzFJCeHhkyOAGIepbYE0SIAESIAESIAESIAESsAcCDmQJpJ7/NvXMShN0SAi3WKSt8ILKachOQrg7JYRVEmQ1EiABEiABEiABEiABeyLgjJ1yexqP7WMZNGiQuHnJkiVZtpJhSEd4QNrl7cZftT6ID3YNqquyP0gIv7v9b6V2GCSE/9umHLXDVAJkNRIgARIgARIgARIgAXsjUKQsgexsAAk9Iz0ZKYMM8Zc82qzQ+FdUORmQEJ6w+bxSOwwSwjPaV6B2mEqArEYCJEACJEACJEACJGCHBBzIOwj0neER1HqpZwdICKs1AyghbIdvLYdEAiRAAiRAAiRAAiSQdwKOZQkYjQE3HxfvYJXgrt5PtpQQXvQsJYRV8mM1EiABEiABEiABEiAB+yXgcJaA+qk4a5QQPmMpIRzoTQlh9RRZkwRIgARIgARIgARIwE4J0BLIemKOXYsfsT76TiIlhO30xeWwSIAESIAESIAESIAE8kiAlkAWAHdeuDNu47nEVIP8rR0lhPP4ovF2EiABEiABEiABEiABOyNAS8B8Qv536ubb2y6kGkzJVXvWCJrQvCwlhO3s1eVwSIAESIAESIAESIAE8kSAlkAmfJ8dvfbRr5eUCgvDIkOGRIY4OzvnCTNvJgESIAESIAESIAESIAE7I0BL4NGEQEJ49q+XPjsaKydI4+w0uWVoD0oI29kry+GQAAmQAAmQAAmQAAnkCwFaAkaMkBCGR9CPp25Kpu6uLtPahkdVeCpfKLMREiABEiABEiABEiABErA3ArQEnPQp6eM2nd/19105Nz7umrkdK0SW8bO32eJ4SIAESIAESIAESIAESCC/CDi6JXBbn4psob9di5dAA720C5+tWDXIO78Qsx0SIAESIAESIAESIAESsEMCDm0JXIOE8Lroc3GJcmLKFtMt6lwp1N/DDqeKQyIBEiABEiABEiABEiCBfCTguJbAuYcSwjAGJM2qgV44DaCEcD6+XmyKBEiABEiABEiABEjAbgk4qCUAdyA4Bd1WSAhHlvad0ynCV+dqt1PFgZEACZAACZAACZAACZBAPhJ4MiyBlJSUfHzmXX/fGbvxnF4hIRxVIeCDtuE61yeDRj6iYFMkQAIkQAIkQAIkQAIOS8Cu1743b97s1atX8eLFfXx82rRps3Tp0rzP07rTN9/amklCGIoBk1qEUkI472zZAgmQAAmQAAmQAAmQwBNEwH4tgXv37tWrV+/rr7+OiIgYOHDgyZMnBw0aNG3atLzA/fxY7Kw9mSSEBzcIhoowJYTzQpX3kgAJkAAJkAAJkAAJPIkE7NcSeO+992JiYrD637t374IFCy5dutS9e/dJkybt2LHDNtAbo2+tOHJN3gsJ4QktQl+qWdK21ngXCZAACZAACZAACZAACTzRBOzXEti/fz/IvvXWW2LD3s3NbdiwYRkZGd98841txP8dHlC7lI+4103j/H7b8PYRlBC2jSXvIgESIAESIAESIAESeOIJ2K8loNfrQTchIUEyjo2Nxee//vrLNupuGpcPospXeMrD200zp2NEI0oI28aRd5EACZAACZAACZAACRQJAvZrCVSsWBGEv/rqK8l57dq1+Hznzh2byXu5aWa2r7Coc8XqJSkhbDNF3kgCJEACJEACJEACJFAUCNivJTBgwAAAnjVr1ujRo7dt2/bqq6/+8MMPuAIHobyAD/DUUkI4LwB5LwmQAAmQAAmQAAmQQNEgUBiWQHx8/PDhw7P0709NTV21atXYsWMnT568cePGpKQkibV169ZTpkyBj9DcuXORQnTFihVoBL/6+fkVDfR8ChIgARIgARIgARIgARJ4jASc87jFnuPQ0X6XLl3WrVs3cuTIefPmKetj3d+gQYMTJ07Ii02aNNmwYYNyrX/06FEkC0LQMIwBT09PZBTt0aPHmjVrLPtFlqElS5bkOB5WIAESIAESIAESIAESIAESAIGCPROAJkDfvn1hBmTJeurUqTADsPrft2/frl276tat++uvv6K+qHz27FkcI4SGho4bNw6HBjVr1tyyZQuu169fnzNHAiRAAiRAAiRAAiRAAiSQRwIFaAlgd79q1aorV67Mcoh//vknYgA8PDx++umnhg0bNmvWDMEA3t7eMBsuXryIW5BFFNv/cA0Stz948GDhwoW+vr7dunXL4zPzdhIgARIgARIgARIgARIggQK0BHr37n316tVWrVpNmDDBEvSmTZvS09PhOITFvfgVTkH4ajAYVq9eja+9evXCgQAsARwIQFmsRYsWp0+fnj9/fpkyZbKbNjgImRVOMAmQAAmQAAmQAAmQAAmQQJYECtASQAzAd999h53+UqVKWfb922+/4aKZq4/4evLkSfx1dXWF3z/Mg9mzZ48YMSIlJWX69Ol9+vSxMpGob1Y46yRAAiRAAiRAAiRAAiRAAoVtCWzevLlr165CIdiy3L59GxeLFy+u/CkgIABfb968KS5GRUXFxMScO3cO/kKIKPjPf/7DWSQBEiABEiABEiABEiABEsgXAgV4JmB9fEI82CwlqL+/Py4KdWFRNBpNeHh42bJl8+Vp2QgJkAAJkAAJkAAJkAAJkIAgkGtLANvzv2RfxPpeTdHpdKhmlsMULkC4qNVq1bTAOiRAAiRAAiRAAiRAAiRAAjYTyLUlsHz5cgQBZ1eQ+lPlUETwgPARkkV8pXaYSoasRgIkQAIkQAIkQAIkQAI2E8i1JYCs//2zLyVKlFA5FGEJXL9+XVn/xo0b+BocHKyyEVYjARIgARIgARIgARIgARKwjUCuLYHOnTvjWCC7EhISonIcVapUQU2ICSjrQ4IAX5F0SGUjrEYCJEACJEACJEACJEACJGAbgVxbArZ1Y3nXCy+8EBQUBFHh3bt3i1937twJsWHYEs8991x+9cJ2SIAESIAESIAESIAESIAEsiTw2CwBd3f3N954AxHD7du3H/ywdOjQAV8XL14stcY4ZyRAAiRAAiRAAiRAAiRAAgVEoDAsARcXYy/ir7JAH2DWrFkQHBByYPjw/vvvd+rUybZHRQu23ci7SIAESIAESIAESIAESMABCTib5fEsfAQGgwEZh5A/FLoBnp6ehT8A9kgCJEACJEACJEACJEACDkjg8VsCDgidj0wCJEACJEACJEACJEACj51AYXgHPfaH5ABIgARIgARIgARIgARIgATMCNAS4CtBAiRAAiRAAiRAAiRAAo5IgJaAI846n5kESIAESIAESIAESIAEaAnwHSABEiABEiABEiABEiABRyTw/x60HZraxmarAAAAAElFTkSuQmCC\"></div>"
      ],
      "text/plain": [
       "Legended[-Graphics-, Placed[LineLegend[{Directive[Opacity[1.], RGBColor[0.24, 0.6, 0.8], \n",
       " \n",
       ">       AbsoluteThickness[2]], Directive[Opacity[1.], RGBColor[0.95, 0.627, 0.1425], \n",
       " \n",
       ">       AbsoluteThickness[2]], Directive[Opacity[1.], RGBColor[0.455, 0.7, 0.21], \n",
       " \n",
       ">       AbsoluteThickness[2]], Directive[Opacity[1.], \n",
       " \n",
       ">       RGBColor[0.922526, 0.385626, 0.209179], AbsoluteThickness[2]], \n",
       " \n",
       ">      Directive[Opacity[1.], RGBColor[0.578, 0.51, 0.85], AbsoluteThickness[2]], \n",
       " \n",
       ">      Directive[Opacity[1.], RGBColor[0.772079, 0.431554, 0.102387], \n",
       " \n",
       ">       AbsoluteThickness[2]], Directive[Opacity[1.], RGBColor[0.4, 0.64, 1.], \n",
       " \n",
       ">       AbsoluteThickness[2]]}, {EpsilonG = 10, EpsilonG = 2, EpsilonG = 1, \n",
       " \n",
       ">      EpsilonG = 0.5, EpsilonG = 0.1, EpsilonG = 10^(-2), EpsilonG = 10^(-5)}, \n",
       " \n",
       ">     LegendMarkers -> None, LabelStyle -> {}, LegendLayout -> Column], After, Identity]]"
      ]
     },
     "execution_count": 151,
     "metadata": {
      "text/html": [],
      "text/plain": []
     },
     "output_type": "execute_result"
    }
   ],
   "source": [
    "Plot[\n",
    "  {\n",
    "    u^2/2 + DeltaE /. Subscript[\\[Epsilon], G] -> 10,\n",
    "    u^2/2 + DeltaE /. Subscript[\\[Epsilon], G] -> 2,\n",
    "    u^2/2 + DeltaE /. Subscript[\\[Epsilon], G] -> 1,\n",
    "    u^2/2 + DeltaE /. Subscript[\\[Epsilon], G] -> 0.5,\n",
    "    u^2/2 + DeltaE /. Subscript[\\[Epsilon], G] -> 0.1,\n",
    "    u^2/2 + DeltaE /. Subscript[\\[Epsilon], G] -> 10^(-2),\n",
    "    u^2/2 + DeltaE /. Subscript[\\[Epsilon], G] -> 10^(-5)\n",
    "  },\n",
    "  {u, 0.0, 100},\n",
    "  AxesLabel -> {\"u\", \"E1\"},\n",
    "  PlotLegends -> {\n",
    "    \"EpsilonG = 10\",\n",
    "    \"EpsilonG = 2\",\n",
    "    \"EpsilonG = 1\",\n",
    "    \"EpsilonG = 0.5\",\n",
    "    \"EpsilonG = 0.1\",\n",
    "    \"EpsilonG = 10^(-2)\",\n",
    "    \"EpsilonG = 10^(-5)\"\n",
    "    },\n",
    "  PlotRange -> All,\n",
    "  ScalingFunctions -> {\"Log\", \"SignedLog\"}\n",
    "]"
   ]
  },
  {
   "cell_type": "markdown",
   "metadata": {},
   "source": [
    "Но при движении пары объектов происходит и уменьшение момента импульса.\n",
    "В тот момент, когда начальный импульс уменьшится до нуля тела начнут падать друг на друга, даже если\n",
    "полная энергия при этом у системы больше нуля.\n",
    "\n",
    "Следовательно, необходимо скорректировать условие захвата."
   ]
  },
  {
   "cell_type": "markdown",
   "metadata": {},
   "source": [
    "# Потеря момента за один период обращения\n",
    "\n",
    "$$\n",
    "\\Delta \\hat{J} = 2 \\epsilon_G \\int\\limits_{\\hat{t}_{\\text{min}}}^{\\infty}I_J(\\hat{t}) d \\hat{t}\n",
    "= - 2 \\epsilon_G \\int\\limits_{\\hat{r}_2^{\\text{min}}}^{\\infty}\\frac{I_J(\\hat{r}_2)}{\\hat{r}_2^{(1)}}d \\hat{r}_2,\n",
    "$$\n",
    "\n",
    "где мы заменим $\\hat{\\omega}$ на $\\frac{u}{\\hat{r}_2}$"
   ]
  },
  {
   "cell_type": "code",
   "execution_count": 154,
   "metadata": {
    "vscode": {
     "languageId": "wolfram"
    }
   },
   "outputs": [
    {
     "data": {
      "text/html": [
       "<div><img alt=\"Output\" src=\"data:image/png;base64,iVBORw0KGgoAAAANSUhEUgAAAyEAAABICAIAAABun22rAAAAzHpUWHRSYXcgcHJvZmlsZSB0eXBlIGV4aWYAAHjabU9RbkMhDPvnFDtCSIIDx+G1VNoNevyawjoxzRKJ48RBSeP5/UhfE5oleYmKBgjhzZt2kioLK2dp7/gGPbbVQ0++TblTKr8NjK1fpx7YC+ufRaKL2PyB3Hwb9iLTpee+6mvPa6/1XGRyoP2Q/H/tFoqCHM7oKhFo5DWRMqGolMADN4CDGXcVvzEPRNCGmBPWp3FCR5zTI8Eo3OcJNl+xzmyMapXWbP5R2Nfrw+c5LxYfWogJ3pPPAAAACXBIWXMAABYlAAAWJQFJUiTwAAAAPHRFWHRTb2Z0d2FyZQBDcmVhdGVkIHdpdGggdGhlIFdvbGZyYW0gTGFuZ3VhZ2UgOiB3d3cud29sZnJhbS5jb21coqaFAAAAIXRFWHRDcmVhdGlvbiBUaW1lADIwMjU6MDM6MjggMTQ6MDM6MDItaYgnAAAgAElEQVR4Xu2defxWRfXHM3fNrRQBU5AQxS1F01JxF1HUXLESyBQRQ82FTFP0F76UQETMhYSXCxhiZikKrhlquK+olAtuSe77Lqb93r/O6zfd133uM3fu3Jnnud/nOfePwud75syZz5yZOXPmzJnF/v3vf3+let999913//33i1yffPLJokWLTjnllOqJGVeif/3rX5dccskdd9zRpUuXgw46aNNNN41bn3JvLAJffPHFFVdcMXfu3GWWWWannXbaa6+9Glu/1qYIKAJtisCTTz550UUXvfzyywMGDNhnn31WWGGFNgUifrMXq6CNhUgbb7zxE088YZp/1113bbXVVvHRqFYNAwcOvOWWW3r37o25+eWXX1522WU//vGPqyWiSuOLANuGXXbZ5c4771x88cUxtmBz9NFHn3vuub78tJwioAgoAk4IzJs37zvf+Q6L7MKFC1977bUePXo888wzX/3qV50KK1FBBKoI60033bTkkkv+9f+/e++9tw0NrBtvvLFr167//Oc/77nnHlZiuvW8884r2LlKXl0Exo4du9xyy7GPfP311/k3gv7mN795/PHHqyuxSqYIKAIdHwFcGKeddhqr6oMPPsj6suuuuz733HM33HBDx29ZRVtQRRvrrLPO2nLLLb/5zW9u85+Pf1cUvJhivfXWW2efffbyyy9PJVtvvfX666+v7tyYeDea9/XXX89BIafAX//610844YTNNtsMCZj1Gi2H1qcIKALthMA//vGPY489tk+fPjQaJ/qhhx7KP3RxiacC4W2szz//nEAib4kffvjhOXPm/Pa3v1177bVZeDgl9GbVoQsOGjSIASBNwJ2Lw+OYY47JbRF7FMLX6IJcSiVIIcDhHdA15uick99JkyatssoqRoY99tiDf2Nvab8IArG7Q0dKUU1rZ8RKLmqVgrpbt27bbbedEemhhx5inU3+UlTaDkQfe1bJhMJmY73xxhs///nP2XDngojTZfz48ZgF3/72tzfYYIMyRx5LLbXUyJEj8dwQCIy9hR8LeytXgBgEzClXX301jeLomsDAX/7yl9g6tRWxXkI2ZMgQnK6E1Nx8882fffZZQHk4NNxxxx2RYbfddstl+4tf/IITKDlkzCVOEdCDFC9aKiz9hx9+SOi3izUZtt6XXnoJ0ICOXi7KmW0Avf/CCy+YgrlIEvogjivzYUMvu+yy3/ve94rWHpCe8wIa4sIwdjeF7Y7MFnmPlHfeeWfo0KEzZ850724XSMvTTJ06lYnikUceKc8qNmK5Q6aWIFKjLGwDLmpFhQ+onJaq33zzzeOPP37cuHHMV0UlLE/PjPc/9b/JkyeXryLFIeyskprkbRqLJVH7oV4nnniiHFSx4c6kkR8J14WA/Te20cknnzx//nwLcaE/Eaey++67IwArH+7NQmXLE3/00Ud9+/ZNdRLN/POf/5xk/v777++www6Q7b///tdccw0rNM6nTTbZhEWovAxwYLCx9IoYnJmynbKwnT179mKLLSbECI830V2Gxx57TAq++OKL7qWCU/7kJz9BBkyN4JxTDJlfnnrqKfkRVLHppfkASDhgodq5lEBBhpyUSiFJ3ANjxM6QZfsb3/jGqFGjCtUbkJirFd/97ndpxeqrr+7CNmo3he2OzOaUGSmnnnqqDMbM7nZBLwbN3//+d5ko2OPF4B8QMcSzD5laghgtsvCMt6jVq/Tuu+82fwoItWXyYaUm/kQmPdYsFq8Gg0xMmMWK6t+/f1h5ws4qtctlSqWTwn+ltiUTJ07s2bMns61AYLGxWKVkO47v6tFHHw0LCtxwEZGzAP5s0YIztzM84IADqBcj78wzz8TcJG5G0OjcufPbb79tyu633378iIfJ/MK2gF++//3v566sji2CD/PmqquuCluuFtYrhZHOOt29e3e6n+N2iDH4HKuAjDYmVw73ggEpr7rqKgE5to3FbYo111zzd7/7nQgv3jv+Fx8Av6+22mp4AR3bhauVsmwwuJgjRVJIosA777zzq6++amE4YsSIfv362Q1oR3mKkmFSc0zABCHWuYuNFbubwnZHLSAlR8q3vvUtgCJmNLO7i+IfhB7HuUnsEsPGCotY7pCpJQiCkiOT2ItaSgziE4YPH77RRht9+umn/Cks1LmTD84UDmrQZxYOR3yCkLH/J96aeplvOf/BojKfRIaRVyJIRYZJ2FklNcnbNTbDxiJzBhBIMYuN9d5776277roQdOrUCb9fWEQMN3bYVEFyrEj8M9k+8MADVHrppZeav2JXcQwqgFx44YXy+2233Sa/kFvBUHLiK3E2XAMMKPPll18OTw7RMnnSXxyqcvsS558QYBmz8LtPuES/sZuh0wPKXIgVk4uJT4pqY2FggYzpRI5il156afKQibSvvPIKx7KYHY5eQMLV6ZekCyqFJPqw7777rrPOOu+++24mIOwfNtxwQ0ZTIbhCEVMvyMNNsnPl2lixuyl4d6SAKjlSZGZgRaRbhXPTBw4yENHBRWyZi9yHvKMKBUcsd8jUEjiKWp6sMYuakZP9M1EoqJPM28Ghzp18RBJcKmhOvQmqPKq1HK699lpme674pP6EVwWri1AKwnIC1ht8VkmNervGZthY0jaO5yw2FljsvffeELD9xQwKCEeKFT5wajEuh3gVJTlzSk1atlRd5AIVQNh2yJ8OPvhg/nONNdZIUYrvjYsbAaUlkQk8ze45xRkXCAaf7ITMR4Kxp59+2kUGXMowZ6Z2IY5Bw1zDkSum1RFHHIEk8WwsHFR4Iuk40wog+tvf/pZsFMfEgOliYzEKCCBlp2GQz0Ty448/XmuttZhMa12bGHz4gONtUdw765BDDsm1sRrQTWG7o7b5JUcKMwMLAL0snJs+cJABXUWkadOmRbKxwiKWO2RqCdx1uCRlwxY1Iyd7M4xj4wIPC7XUYpl8jBhcLcR7FOrgxaUXyFbzxz/+sZaSREWo8bbbbuvCxJ0m7KySGvW5GutpY0lGHz48je5N9aA844wzCAtr8CLEepNad5Ech7xkaRMby/irWDtT7TLgBIxOw/BfYokluEzggWFuEdxjGObYFrmUkQhAjEH+7LPPHnXUUfFsLHoQ6y2gOhFFwR7j9ttvN7DUQ3L69OkpdxdFOF5nC0uwvClONgesrkgg29m62FiN6Sbv5td2hzerzIKyyT7yyCNzuztsvRZunPWwx/vpT3/KPyLZWGXaUotY7pCJ3YmW5jRsURMZuDbB7HHccceVQdiUrYXa/Clz8klWSgDxgQceGESMkkzYw6DGpGIuySdg8fIa62ljcQlLhjS7KN694eofJ2v2kCwcA1wTnTJlCjMCIcYsqAaI66677qSTTsJZhaIQvIIfCJ88fyVYhLXfEoQUEMpcVhycSzKF888/H2IT9VZ7fvenP/1JwLn44otr2brgQCmORw877DDZMX/wwQecXo0ZM8YiJHnkZsyYwZVM7hbJ0RWnBgSKAWau8YSXJfgRQy6ehgCtYDMnJ7MuNpYjgLUCcH5Kp4Bq8k9lcGNGSHGrhySKzZBhSjUWFZvXlVdeGZuP+HE+XGuEZLFeppyR7jCWpMy1sYp2E97+WbNmjR49mqNSfOlGPLSRwc7HsWytzIwyHMYTJkxAbzfffHPct1wfAWdmDLYZ9jbWdkdY/gxGbCyuuRi2zR04iEE8KLF0+CpcbCy/gVOmR2oRyx0yLp1YUtXrFfdY1GDlp+c4jaS6ZOhnWKhNM1OTD04dgp+YDOVwkMUXrTZBJpGwdWTLsQCTpEQvZH5+aEed5HM11sfGMuYFKsLJi9gT8uHUyZw6wYuw3x/84Ady+QVfgglo4E9Eq/Aj9gH/3nPPPYUVW3xijJJOAsd+ikQmoRhYAwsWLKAKCRTjIyg+VaM5VWSBqRXGEQdO7oT/euuth92ZawORsFROb/mIu8fewu8l/8lSZ8ckknvMpSNYcTlr44aBELvYWI4A1tYurwVgASf/VAY37KSUSWRBUu7i4ZeldpSfINP/HzT//X8uK7iAFoPGbmN5dBOTuOQ5TI0RtlL8wnYlMwSNBeDwww/H1oRmxRVX5MalSUGMyWVveG131NKX4Y/A2HxJnk0cOIjBFo7IQomhdLGx/AZOWMRyh4xLJ8bQf79FDUn89FyWD16zSbYlLNRJzsnJB88F13qonbWYUznyDTHKYkBalCfOGqQyN3Yzi/uhHXWSz9VYHxtLrs7xcduOzSV9RkwZ1pX8yCVwDOd6+HKJAJrkzUyTZVTMCMri4iLuPtf7UrQLS9KLG5MrYMKHUGVp7znnnJPibF6zZrXwxoGCBNpjtrsfkzNURCTydTGKCN7CluUfqYWhJA5hiwMRF0zMVU0XG0sEyFWklJzsjUCGTVLt0t4Y3DgHRADc8mEBDMXNbmP5dZNEV/CZACak5ZVGfrGH3DHvQ0NeVoYbmy48Yfwnrq9QjY3NP5ScFj6sx1/72teYioXGxcbyGzhSqgUQs3dKmUXNQ89JsYZKs6bUShUD6tTkQ+AXBjfHIw1QVPcqcLKAiVHpegU90IZVYyb5TJl9bCxjTiVjR/BXcz1KplQuwWVWhv0kFnQydlveOeZuFxzc+6PBlJh9bBk5uGQuk6q5XCqNNTfUjEgmDWDqIMkQRMIBnx/ycALFcSFnslTHOQtBSFIv5jYJzEAbV0rYWxvefYGBTogbx82Gg6ON5QGggEOGs1pp7bhxwkJA8bBhw5j7CKHwbqzsJVgXvTlELWixsby7SV7YxB1lLhAwjiSo0Z4MbPvtt4eGeyc4cSXVnLHCg3RHbP5RewrmrJFbbLEF10TMBszRxvIYONIWC2LVnFuKdoH3okZFHnouePJEaa2cMaCu+OQjIIhrX46JLJ8H2nBrzCSfKbaPjSVKgEsgdffK5D5mQcqsjJtuYpcQ2yEEHJTKkRbzRdFR0TB6JjIcbywV+JNNpRzASVtq/Vhz586VP+GibCQOkh2Rj1OVlCuRQ3dOOc3jPGTScrxyGA9k7jGQ9EsOiM3naGN5KJIEfnIuWdsiC25YqLjTKWigw9LywwTApXealabBLnY9G6tMN5GYl/biiDJVy+NofJyn15OHvRZvPAgZj0wkyYJ0R2z+fupRqBSbJa6+J8NWHG0sj4GDYBbE+GsF55ZCYAqx96JGWQ89l/AYIjpSokaCuuKTDyBIKA4JknL7zgNteDZmks8U3ue9QiI9ZdUxC49MiCYPnulR+d18xpfAiYn8+Ktf/UoeNyTkKEVcnf8kfRm+FuJ4CBEzUgkIfJxppkTFByu/cC0/sxWRcOCwVarDtjMJ3/lPPAFYvTgXCR5ibSP/k+Txby7CXM9EDHLYkmLYfKI5POIkvyQfqCmpSCR2h8NKK61U2+p6uEHJVSOeGcDOICZUrh2x9fR7KspUTdB0c5EvVLt3NzHdSGDiTjvtJDXixCKEiH9whG15NYhSKCpkLHvyjKP5gnRHbP6F4PUgJqsQrmhuSLAsmYGDoSOs7rzzTn7krYKAM48FsWrOLR6oei9qfnpebzqKBHX1J58//OEP9Jrk9LZ8fmjDsDGTfLbk9cxGS36s008/XXixFqaK4+zh93pOKbFAwVFKJcMMiXfLNWCbQsB9N043fv/736dq51KGgMA1ydSfrrzySvlTvSeAYuDAYYqcwtTmksCFgxVvhJQHKJlTmoKnqVQS39m/TF+62TgWUiSJn+MSVqrVFtygxB5NpvWXVw1MwtJCAOIDl8YmGRbiEJW4nh/Lu5uMy8QEhnM/XBBIvotQ2yh5pYBPLhcnvyDdEZt/1G6CuVwasH+ZZ+J+A4dSFsSqObd4dIH3ouan54Sd0IO1y0okqCs++dBfPXr0AJDcbEd+aDdsks9UPB8/ljzNw5fa0HM+RaAAv/fq1at2CjAWKNFC/JWt6o9+9CPZzuL35ngrb95owt9xX7GP5y7DwIEDU9WzMxBvnGRJTX6iByR84k5sw3DgIUXwpzoETlWKf9HcUuRPRItzbsgs3ARAE1ViC2Jrpj55qISQMvldHhJIfX6KJIGADLYUNwtu4EnXm+zzFBS3ih90EnTJyTitay7yhWr37iZx1vIIhIRpYhkwUnAK8m+701p2nJizqTkhVHfE5l8IXg9ilufagSNp+vm4PMtfCWULNXDgUw8x/lTNucUDVb9FjYr89LzedBQJ6opPPtyNJWqI4EvzhGK9HvRDu2GTfLbY9Ux+ix+Lm+dynJxy4Ri/FDHCtWyNBcqdQf5KWSYCuR3GvSF+Sb6L6bERCV6Ey1BEKNfGVLFOswBQnbxvw8FH6gVoaRQJfjJFioSDXFThpmdugnIyskCZeaUlOIZFGcrVEvulMz8ATeqNlEjuuFGQSwxcePa7MSCzJ7lOimLSGPrc/FhJMVy6SZy1pGuhINtoDFMSy8kcxETBXdfM18fl+iffBRdckNtwj+6IzT9X5kgETEGCmyXJi9/AKYRYlecWO/J+i5pxDRbVcwmxl0wu5osHdcUnHwlccXlg129Wadgkn6ljdWPezYCUlJupjyN/QEnFXZKJlB/ZtmYu80ya/JXEa7CCkhv7XB/FQOFHruZxlEP4RaQJyIMtzUc2NoWkpTAfQQ/jx48n68/PfvYzeDIs5WFLmmOqYOVgs86xHRwy642Eg/jMXBIskbWLjqs95/VAKXgRl8XbD0D8pvLaaDL5LfK748ZekLsC9gtxFkA496R2c74ZHLqSDGXyYnvtwselm2SnPnnyZDSNQMZf//rXJNHlF55EJCINH/Bf/vKX2rokYAtvn7nAW08ev+6Izd8FvRg0LjaW38BxR4x2VXluyYXdY1GDp5+ek1URPR88eHBSqnhQV3zykeMLcxPO0lN+aDdski9mY8mEyLf77rtnlhTbk2xYePkg4CCAPTrnIPXcUXLSzBEbszkXyvArPP/881IFqobtVZ00TizDOIREtszPHBvTCtpCq7kcCwhERkv6n4kTJ9ZTlBg48PKPyMmVRvtUAuYYWMl0CblTTyMJXBZvbwDJdJoyiN1xAwRyNRFozGm4HyByzpjp4vVjGLAUCaZNVGzygfN6VeR2E3cnRSE5FuRKNlnsOemTLC0EEvTt27desis5lKdUbuv8uiM2/1yxIxG42Fh+A8cdsYrPLS7IF13UvPWcFQQ9Z5VJShUP6ipPPhwUAgUn4Lkd5Id2Iyd5VxsLrxL5Z5O2BdvQzHSaXD0l+T2URF3guSEi1ZIRwGQ04ORbXgNkZpfYFPCtfR8wF/F4BOSesRhYPOuRrBrjkuv93DZnwHDREs+WfR2NgYMk66IX7AlLufBIz2a+8BMPzEKc5QFz8vtbSnkDOHv2bJgnX/t2xA1h8LPioPVOu4DLk3Nn3GAVSals4MWlhP84GWGGscVNQK6nWbrApZsk6IpxgTklmURk28aNVy7q1ktTLHubTN95Uh7v7ojNv5C2ByTmdrNcJSb0pB5bv4HjiFj15xZHtAstavD003MKslzSX/PmzTOCRYK6spOPNJwjQnBwjF3xQLthk3w9Bat7VuiokZBxwZ7Uq/L4kf3j1nHq9QkcP/yYG0KUx7j5fyevCalHOSi05Lg3UjYFB0AmMDY3i27zoXSQwBtAXCnkkn3qqaccKvkvCbl2ScNR5mFyOaYh/36hejs0MYd9uEuTuaTZADBGkg+0+TWwfHfY643N36/VQUp5Dxx77a00t0hL3Rc1bz3HrUBwJzNSoZ71gLrikw/BmuzoHB9M9EY7F+R4oz6AjZUrvRI0HQEsP4KaeWfaSMLG13Hr0HThAwqAIwqnqctRlKmUl87x45q3nPmdhymSLxzkiscLnvhri06muWzbk6B8d9hxi82/9XpN5xbvPiVlOd5Hu884ydwDap18XHon6qhfDAks52L6p9ZAAHOKELEhQ4bIgQIB4AQYci1LAmva6iPsj+NCDqw5MyWHhb3t7LFw6UPMvWIoGSx4s4ilIGKP159ccON+Lumgtttuu3PPPTe3OheG7UxTvjtid3cb9o7OLWU6HTOL24UkuJYX6+1fUah18slD9P/+HntWUT+Wi5nbsWm421WrahyZObpnO3bjs6QnEBBzk6yD9qYRxyBPaKU+l8ubhjOXQuTtSP1KIhCkOywyxOZfsvnVLK5zS/l+IecTznUmJTsrD6h18sntnQaMevVjuVi6StOCCDC6MDRjN4wn9hw9XrElUf6KgCJQTQQizRKR2FYTw8pKpTZWZbtGBVMEFAFFQBFQBBSBDoyAz1s6Hbi5KroioAgoAoqAIqAIKAINQUBtrIbArJUoAtEQmDlzJu9Rcqk7Wg3KOAoChODQcTwjEYW7MlUEFIEKIKA2VgU6QUVQBEogcMstt/DEE+FlJXho0SYgQHJ2Om7OnDlNqFurVAQUgYYgoDZWQ2DWShQBRUARUAQUAUWgzRBQG6vNOlybqwgoAoqAIqAIKAINQUBtrIbArJUoAoqAIqAIKAKKQJsh8N/cDWSkHDVqVMWbz2swa665Zj0heSmFZxPtTeDtagsHyt57772XXnppxXGILR5JyXnNNyrO119//axZs2I3pCPy5+noM8880yI56ZuTzzPwqCrP+/D82XLLLWdK8czzCiusYGEyadIkXpDoiPhUWebRo0evvvrqjgPnjTfe4BWBoUOHMq2ZIrkTFE+vTJ8+vcoghJVt//3332WXXRwhzSTLhZRVg3fKw4rdQbnx8v1RRx3lPvlkUuZOPqeddtqrr77aQSHKFXu//fbr16+fIfuvjcVbrYMGDcot31wCUmb37NmzngzHHXfcOeeckyshN7AWX3zxemREEI8ZMyaXSWsTzJ49O7lgpxobBOfLLrts6tSprQ2jX+s6d+48Y8aMemXff//9lVZaKZczyzaJ7C1kbKjmzp2by0cJCiEwbdo0yxYuyMBhczJhwoRCUnVo4iOOOGLgwIFR5/w333zzgAMO6NAohRJ+iy22GDt2bOzJh8db2SiGkrlqfIYPH37ggQdm2FhVE9RDnltvvfWuu+6yF2RPw+oiz/bp54eA4uyHW5BSn3/+OQ+cJVmx6D788MMnnnhiMqH8DjvswCOJQWpUJqEQSA2cDz74AGtpyy237N+/v6lCJ6hCaOtcVAiuksS1k08mQ518krBonveSWqfFFYEmIzBixIgLL7zwo48+srgemyyiVp+FAGeFnTp1IkXWuHHjFCFFQBFoSQQ05r0lu1UbpQgoAoqAIqAIKAJNRkBtrCZ3gFavCCgCioAioAgoAi2JgNpYLdmt2ihFQBFQBBQBRUARaDICamM1uQO0ekWgJAJESXOHQ69xlISx8cXpOCqV/9VPEVAEWhKBwjHvJD645JJL7rjjji5duhx00EGbbrppS+LS9EYpzk3vAhWgUggsWLCAfB8LFy7s1asXOaWIFq+UeCqMIhAEgSeffPKiiy56+eWXBwwYsM8++9iz3AWpUZlERaCwjUWqEjJI9e7d+/777//yyy+Z9ch1EVXE9mSuOLdnv2urMxEgPwWZ/ZhwvvjiCwhI03rPPfess846Cpci0EoIzJs3j7S0G2+8MXuJ1157rUePHs8884x6Ojt0FxdzU994441du3YlWykTHOmGafl5553XodtfTeEV50L9smjRok8++SSZ+rxQ8SQxTGBFGhhvDlowOAIffvjhsGHDLr/88k8//RQPOovQW2+9RT6w4BW1OUNV/uYqAPiTAJ2HRh588EEW2V133fW555674YYbmitVx6q9gjpczMZiajv77LOXX355cN96663XX3999WTGUEHF2R3Vl156Cbuf1FA8KeNeqh4lT2rASjYS5bkphyAIXHfdddhYpE5eYokltt1221NPPRW2rENBmCsTg4Aqf3OVgdTnxx57bJ8+fRCDl0gOPfRQ/qErbKFOqaIOY/dlfrjlP/74YzwE9Qh4b2jllVe+9tpr6xEkf//ss8/gBk8X4raiCYtzW0FHY3E4YevLICTo+6abbiqDAC8Imcjxvn37EhJXiNtZZ511wgknFCqixCkEMocDTzGSEt1QMiktueSSm2yyiaIXEAFV/oBg5rLKnfbhgLmw2Wab5bJSAoNASR2OhORX6vEl+zDr1qqrrsrBcC0NDkycWDzVifGUKxnmOfETcMO9n0ucIuBJtcGDBz///PNFC3YU+oA4d5QmB5RTXnLlfx955BHeiVtttdXwP/nxxx+Glnbv3v2xxx5jNwlbHGPurCglpt6LL77oXkopUwjYh4MQi4vx+OOPV/RCIaDKHwpJRz52PecBAJ62ZL83Z84cR4ZKVlKH4wGYbWPZ7UGWtGWXXVZWFB7bwpdgka+kp4HgemoZP358PAiayDkgzk1sRbOqJmqNF/q45SoCvPLKK0Tq8EhfUf8TZSmyzTbbbLXVVq+//rpwmzRp0lJLLXXzzTc7tk7CgxgOjvRKVouA4zZ09OjRq6yyCuuQYhgEAVX+IDC6M7Hr+fz58/FfyPLKieE111zjzrltKcvrcDzoMmwsF3uQ2z0sP3i50AOuFlrkK+Np4KVb+LPUcbciHgTN4hwW52a1oon1Pv3005wiJQXgzb7bbrvNw8ZiJ0BBQqqT3J544gmqcGzg2muvzYSIxjrSK1kKAZfhQBFc2hhYdJYCGAoBVf5QSLrwcdRzQnIHDRrE8odn3YVtm9OU1+F4AKZtrEL2IDd9UIJjjjmmnnwlPQ1Et8B/1KhR8drfLM5hcW5WK7ReQYCrQCgq/n8FxA8Bx+FAVBbX2i+++GK/WrRUDARU+d1RddRzw7Bnz55MLO+++657FUpZNQTSNlYhe5BQLTSAUN96rSrjaSAqsFu3buuuu27Ku1A1BP3kCYuznwwdvRQXm2fMmDFy5Mgdd9xRDHF8q7vtthupcXFoFWod+RpICjBhwgTKbr755ig2+QKI+CGg3uVWB9sM/FhFKy0kYWsTuwwH1qe99tpr3LhxrQ1FU1pXZiip8rt3mYueJ7lxtZB7hZwauVfRtjHTAYEAAAcHSURBVJRldDgqaGkbq9Biw/LDberHH3+8nohlmn333XcT9Hf77bdHbX+zmIfFuVmtaG69pBHZe++9JXCBpRd7C22U/5w1a1Yh2dgMHH744WussQZlV1xxxXfeeYfIKmGFyZXLaq211nKP3Mrl1p4E9rmCHdchhxxyyimnGHCwaDXsPZSqlBlKqvyFeqHQmsjlWVKWFOLftsRldDgqaGkby77YMMcddthhOIeRCb898cVjxoyxyFem2Uyg1BW18U1kHhbnJjakuVVjDIkldPXVV3OpEJcqydv4R+Zl2FxRjz76aFjtscceI0aM2HPPPffdd1/+86STTsotaNlm5JZVAkHAPldwzYps1wcffPBP/vP98Ic/5EUdiwddUS2KgPdQUuUvBLVFz3lCp3///ty2kcNB0sJxV9rcwilUS3sSe+twVLiy7xXWW2zkxinfeuutt/POO7vs3b2bTZx7S54SJrszIM5RtaSyzHFzoo3kaeO4cMqUKcjJGZ/JJ8Lp0rRp00hfCc4zZ87MbcX2228PN94IQ73hA/3bb79tSqGQJ598Mi9HnXHGGTxzkctNCYoiUG+uGDt2rEw7yY+rMLr8FEXYQm8fSqr8AaGup+f33Xcf+0OUnGv75Npl1oIyYL0tz6qaOpxtY1kWG1YdFhj3E2J7s1u+1+0NDIhzeyIpKb/lRC+V4RZLi3mKP3HdT2iYsywokSN3mWWWEUpex0tRsqck76VhRSYt9yuH7dk1Hq3WucIDtFBFLENJlT8UyMLHoucEbJHcO5lxN2zVrc2tmjqcYWPZF5uinWRpNqzaeXsUFuei/dIa9CZqioj1VIvIooTjnefruQVtHCFkCq3XcO7AioGF4ZuiYcrr3LnzlVdeyQwo7+VBxklia2BYnVbY54rqyNmSktQbSqr8wbtb9Tw4pMKwmjqcYWNZFhsPaCyrYJtvj8Li7NE1Hb0ILlV5kX7AgAG1bcESSp708SoFlCZhaS295Hbne+CBB1J/nT59OtOi+REvF2SE+nZ0AKsmv2WuqJqoLSaPZSip8gfva9Xz4JDCsLI6nGFjWRYbWlIoxsXSbN0eBcQ5hspWn+dVV11V72iPs2zeDE42gQftIbYkYpDcypkPhOl7eQ1QBrvFjADt7POOjb9lKKnyhwVf9TwsnoZbZXU4w8ayLDZFY1wszdbtUUCcI2ltxdkOHToUq6hLly4uid25o0okab1YdZIvi7l2wQUX5LZa38vLhciDwDJXwK3Nfd4eeBYq4j6UVPkLAVtLrHpeEsB6xSurw2kby77YFI1xsTS7zbdHYXGOpLUVZ8vFZqwi3IG5cnI9hyh1y4MBpA6HFem1CN7K5abv5eVC5EFgmSvU5+2BZ6Ei7kNJlb8QsLXEquclAaxXvLI6nLax7ItN0RgX92a32/YoLM6RtLbKbLHRxfM0d+7cXDnJd9WvXz/L4+UDBw6EFelIclnpe3m5EPkRWOYK9Xn7QepYyn0oqfI7QmohUz0vj2EthyrrcNrGsiw2RWNc3JsNZO22PQqIcwyVrT5P8vVhFXXq1Ck3jcjUqVM33HDD9957z9IoDhzhdv7559sbru/lRVIM+1zR5j7vSJgbto5DSZW/fEeonpfHMJNDlXU4bWM5LjbSTnuMi2Oz4dOG26OAOEfS2tZg+9e//nWDDTYgg0P55uh7eeUxrMfBfa6AQ7v5vOPB7s5Zld8dKwul6nkQGP2YNEuHs3OQurQhN8bFhQk0uj2yAxUKZ8fuaCWyRx99dKONNnrhhRdMo6644gqsLo826nt5HqBFKtJuPu9IMLqzVeV3xyogpep5QDCbqMOL0QyJayn6HXnkkdymnj17tnmItygH6DnoIZfjNttsY17p8WDS2kWC4NzaEGW2bsGCBYQP9u7dm4dxIEDP8WbNnz//2WefXXrppYsCwuuZEydOHDJkCO+UU5ZXnh566CH8uCNHjizKSunLIIDF3KdPH56n5PWkMny0rDsCqvzuWIWiVD0PhaTwaaYO+5mKLjEuuZybaFrmylYRgiA4V6QtjRRj0aJF3bt3rx2lLpcQa+WcPHlyLSt9L6+RHSp1qc+78Zir8jcec9XzsJg3V4d9/Fjc5Bo+fPitt94qQUXeXzNNS2+hG1gwFM4NFFmrUgRiIaA+71jIKt8qIaB6XqXeCCBLYRtr3rx5gwcP5jmRbt26Sf0zZszgPirnfYXEmTJlyrBhw1JF8A0sXLhQ3h5v8y8Uzm0Ooza/NRBgX0tioa5du55++unSIp775IGj8ePHt0YDtRWKAAionreeGhSzscLGuLQemqFapDiHQlL5tAYC6vNujX7UVtgRUD1vPQ0pYGORwrFXr17E4qVQIMZlwoQJrQdNs1qkODcLea23mgioz7ua/aJShUVA9TwsnhXh9r9mmqcYgUxgyQAAAABJRU5ErkJggg==\"></div>"
      ],
      "text/plain": [
       "FormBox[RowBox[{FractionBox[RowBox[{\"16\", \" \", SuperscriptBox[\"u\", \"5\"]}], \n",
       "\n",
       " \n",
       ">         RowBox[{SubsuperscriptBox[OverscriptBox[\"r\", \"^\"], \"2\", \"3\"], \" \", \n",
       "\n",
       " \n",
       ">           SuperscriptBox[SubscriptBox[OverscriptBox[\"r\", \"^\"], \"2\"], \"′\"]}]], \"-\", \n",
       "\n",
       " \n",
       ">        FractionBox[RowBox[{\"20\", \" \", SuperscriptBox[\"u\", \"3\"], \" \", \n",
       "\n",
       " \n",
       ">           SuperscriptBox[SubscriptBox[OverscriptBox[\"r\", \"^\"], \"2\"], \"′\"]}], \n",
       "\n",
       " \n",
       ">         SubsuperscriptBox[OverscriptBox[\"r\", \"^\"], \"2\", \"3\"]], \"-\", \n",
       "\n",
       " \n",
       ">        FractionBox[RowBox[{\"4\", \" \", \"u\", \" \", \n",
       "        SuperscriptBox[RowBox[{\"(\", \n",
       "\n",
       " \n",
       ">              SuperscriptBox[SubscriptBox[OverscriptBox[\"r\", \"^\"], \"2\"], \"′′\"], \")\"}], \n",
       "\n",
       " \n",
       ">            \"2\"]}], RowBox[{SubscriptBox[OverscriptBox[\"r\", \"^\"], \"2\"], \" \", \n",
       "\n",
       " \n",
       ">           SuperscriptBox[SubscriptBox[OverscriptBox[\"r\", \"^\"], \"2\"], \"′\"]}]], \"+\", \n",
       "\n",
       " \n",
       ">        FractionBox[RowBox[{\"14\", \" \", \"u\", \" \", \n",
       "\n",
       " \n",
       ">           SuperscriptBox[SubscriptBox[OverscriptBox[\"r\", \"^\"], \"2\"], \"′\"], \" \", \n",
       "\n",
       " \n",
       ">           SuperscriptBox[SubscriptBox[OverscriptBox[\"r\", \"^\"], \"2\"], \"′′\"]}], \n",
       "\n",
       " \n",
       ">         SubsuperscriptBox[OverscriptBox[\"r\", \"^\"], \"2\", \"2\"]], \"+\", \n",
       "\n",
       " \n",
       ">        FractionBox[RowBox[{\"4\", \" \", \"u\", \" \", \n",
       "\n",
       " \n",
       ">           SuperscriptBox[SubscriptBox[OverscriptBox[\"r\", \"^\"], \"2\"], \"′′′′\"]}], \n",
       "\n",
       " \n",
       ">         SuperscriptBox[SubscriptBox[OverscriptBox[\"r\", \"^\"], \"2\"], \"′\"]], \"-\", \n",
       "\n",
       " \n",
       ">        FractionBox[RowBox[{\"6\", \" \", \"u\", \" \", \n",
       "        SuperscriptBox[RowBox[{\"(\", \n",
       "\n",
       " \n",
       ">              SuperscriptBox[SubscriptBox[OverscriptBox[\"r\", \"^\"], \"2\"], \"′\"], \")\"}], \n",
       "\n",
       " \n",
       ">            \"3\"]}], SubsuperscriptBox[OverscriptBox[\"r\", \"^\"], \"2\", \"3\"]], \"-\", \n",
       "\n",
       " \n",
       ">        FractionBox[RowBox[{\"7\", \" \", \"u\", \" \", \n",
       "\n",
       " \n",
       ">           SuperscriptBox[SubscriptBox[OverscriptBox[\"r\", \"^\"], \"2\"], \"′′′\"]}], \n",
       "\n",
       " \n",
       ">         SubscriptBox[OverscriptBox[\"r\", \"^\"], \"2\"]]}], TraditionalForm]\n"
      ]
     },
     "execution_count": 154,
     "metadata": {
      "text/html": [],
      "text/plain": []
     },
     "output_type": "execute_result"
    }
   ],
   "source": [
    "(* Минус учтём сразу *)\n",
    "dJdr = Simplify[-dJdt/D[Subscript[OverHat[r], 2][OverHat[t]], OverHat[t]] //. OmegaReplace2];\n",
    "Expand[Simplify[dJdr]] // TraditionalForm"
   ]
  },
  {
   "cell_type": "markdown",
   "metadata": {},
   "source": [
    "<span style=\"color:brown\">**NB:**</span> Выражение для $dJ/dr$ <span style=\"color:green\">**сопадает**</span> с выраженем для интегранта из binary_catch3.pdf, если учесть деление на $\\hat{r}_2^{(1)}$"
   ]
  },
  {
   "cell_type": "markdown",
   "metadata": {
    "vscode": {
     "languageId": "wolfram"
    }
   },
   "source": [
    "Заменяя вхождение **всех** производных в выражении для $dJ/dr$, получим"
   ]
  },
  {
   "cell_type": "code",
   "execution_count": 156,
   "metadata": {
    "vscode": {
     "languageId": "wolfram"
    }
   },
   "outputs": [
    {
     "data": {
      "text/html": [
       "<div><img alt=\"Output\" src=\"data:image/png;base64,iVBORw0KGgoAAAANSUhEUgAAATgAAABZCAIAAAAlwq92AAAAy3pUWHRSYXcgcHJvZmlsZSB0eXBlIGV4aWYAAHjabU9bDgIhDPznFB6hL6ZwHNbFxBt4fIugBuMkdIbpK039cb+ly4AwJcteUAEKWLUqLUShiclM9RVf0LIU737KdQpuYeVvAn35x+47Jkv5GUSyNo0NodVWwxqkMn1u83+semml7IOUNtS34P9/UxdksFtEE3JHDV1SyCBkoey44QpEIeMUsmtwh3u0wUeFttE4IN336p6gYZzjBB0vawvWiKIlWlnt40Rejo8e5zwBIbtakBsXmOoAAAAJcEhZcwAAFiUAABYlAUlSJPAAAAA8dEVYdFNvZnR3YXJlAENyZWF0ZWQgd2l0aCB0aGUgV29sZnJhbSBMYW5ndWFnZSA6IHd3dy53b2xmcmFtLmNvbVyipoUAAAAhdEVYdENyZWF0aW9uIFRpbWUAMjAyNTowMzoyOCAxNDowMzowMi1piCcAAB80SURBVHhe7Z15/E5FF8DftrciS1ooS8pSUVHaSLZkbaVIKC0iKopUQh8qERJJISEtlhZrkaiUkhKtIhElKlmSpPX99p4+0zR3v8/c5/nFvX/4/NznzJkzZ+acOdvc2eOPP/74T/qkHEg5kLc5sGfeJi+lLq9zYMuWLXvuueceNp4hQ4bk9dHmjr490h01d8zfFXp+6aWXrrrqqvnz52c+mCJFihQoUCBzPLskhlRQM5rWlStXjh079ssvvyxfvvzVV1996KGHZoTuX9i4X79+b7/99jPPPPMvpD2rJP/2229PPvnk66+/vt9++5111lnnnXdetO7ZUfPIM3To0DxCSUgypk2bts8+++y1117C8YMOOmjFihUh2+4yYBdddFHfvn13meEkNJCdO3fWqFGDRaJWyw033KD6GjZs2O+//+7fdV7xUe+4444FCxZE0zE5hf7hhx+uueaa8ePH//TTT6+++uopp5zy3Xff3XrrrTklKgedv/POOyeffHIOOv5Xddm/f/98+fJ99dVX33zzDX9DO9vSBx98IIN46623evbsGTCghFRIJLSPPfbYwQcfzBgitcot8BNPPNGrVy9Fw/Tp02F0qVKlcktVlnvfuHEjUSQ0VJb7/dd1hx7ftGmTIrtKlSqslkcffVTewEacpjFjxviM6z85H/N777333//+l63JCiWYED/++OPPP/9sBZsPko8//njbtm0KgB4xgytXrpx0v3kK/6xZs4466iiDJMw8piDQlstTAwkk5ttvvw2E8QLAO8Xu0H/FfkRQp0yZol5OnDiR9bNkyRIvJC7BJECJDYBl+fLlCHqlSpU6depUtGjRhGwNYjDEDOkL3ay6gAZE97XXXsPrK1GiRNWqVS+88MLixYsH0tCtW7cBAwawPy9dujQMfCDCkABYNXTXpUuXgQMHhmwSA4xeMJnefffd77///thjj23cuDEuohPP2rVrR4wY8f777zP3tWvXPuecc4488sgY3QU2ufvuu+mFRaYgv/jiixNPPFG8gHvuuScQQ/YBELl7770Xj/Hcc8917X316tXjxo3Tf9q6dSsW06effqov0Uwox2l6/PHHP//8cz36eNxxx+FEEJt0x2xI8Pbt288880wDlLg5UfjYGsWnIVk4bHdES4fBEmjQoAE0XHfddZMnT+7cuTOZusMOOwzZ86dh5syZipWM4tdff02CZlecffr0OfDAAzPRu4GkTpgwAV4ZU9OkSRNjmE8//fS+++7LlA0fPpwm6FmasCwC8ccAuOCCC1j0quEvv/xyxhlnCIVMBPttDJzJNRH1kT9/fsh76KGHvDpq27atU1R69Ohhi7DNmzcTd8QpNRCSRiYg7OVHmKbvxRdfDJWNGjUilMeoEA8hulixYrqRbYvoBx54ACE01vf5559Pj3pYDDDeFCpUCK3m1TW6nPGXLl0aHX/jjTcC3717d1t0+uNBByOlc+fOTa47UiDMItOBdYNs6MF9Ni7VL7bT3nvvjZC8+eab8pLdgFaILrE66+Rh7MybN0+hveWWW2A7/0JGyZIlDznkkHXr1lnvNB7C+++/v2zZssow9BLUDRs2wGfGdYz2oOzIwMXr19mqY8eO9erVQ6kZPyHAzN2gQYNcO/qHoLIaYLTu1CKcopJ50NC2aFV4KlasiAmno2XipbtVq1bp78V4a9OmjSsN7CrVq1evVq2aikgxE7i+s2fPtk6zgRBP9YQTThg9enSiHWHlnnrqqV9//bXqhR6FUZhP6qVYQ+hZnRgMFl4irnZdd4hBI2ATSV8vvPAC6kAFSNavX08EpWbNmtm0a3ym4JNPPoESvAZhmpegsnNSdJHEniS0YVRj4qI9XUllIZGQDxZUXCxcQQOO3IOMrX379nbXInMJ2mbNmulor732Wl4WLFjQ6EsyH6icNWvWOMlAP7GhkSnRf/rwww+TTmwy92xuuvlnl0WCDXMIGXBGGvA/ZWrYBwDD55H/jhw5UicDM0Tek/i1SB6ORrly5RRCWE2ATcePG8Wk5BFBFcLw3n0ElZQbLkOLFi2c250VvhFzYWci0OCFrWXLlpDnusL/kUdl8yU8ICNRz+mnn451ary08t/FixeDh5SGjo2oEv/FyjW6YIS8YdbfeOMNZ+8IcJ06dVjN+k80YSVZIdUVCewmKoAWvPnmmwWAaGfXrl1D9jh16lQaMqJAeHiCvURI2YBUDqG8x5+XPwjn6JBlypQR55b4XGBf4QGMDCqsxjjSm9Mpk6JS/OEx5woSc4C99KmnnmJTJX6J0xhmdkJSS3ajQ4cOaDflTtIRhUp6c/wF/qu2ff2nf0gg1pTBa0CJs0uEhi3blSaiz6B+5JFHWEzYn5isCoxYGY4iKUfXhkLQ4Ycfrv8qOg+XgMCm/h4nWf6L5nZiYy8ldDx48OBWrVphceEaoc6RGehBHkKyUoFhP8PQO++8s2nTpuJ3yYMcMhwedjD+C36pH7zy/8+ll16KhCg6Azt98cUXCRFjjgZCsmhwXZxgTA0vCXGL64VfKjCGemL6cM94v3DhwsC+wgMYgmp3CsKTYRESP1awMRZ4RRQTLYxR4NNFyMVPqWmtWrUOOOCA3r17s1SuuOKK+vXro6ZZqzpykQVXQQ3Oo4rjSqCfzly3bFbtJZdcsv/++wNGSE13hGTFsKBdGyIG/Gp4d4xHSDdiM2ojJSjnxIb0tmvXTvIxmM2YBqeddprgIeQd1W7BgTnppJOkuV4fR+yUN2wR+BiYl875wysOX7aBfgUDCiUqeQoexxUMzLq8wUXnv9DgRChGMnYHCyt2d0ZDdgbcIt30tTgFtog08PibvpgkCA9+vixm9cyYMcOLnjCLH4kgxulcLYQ8DbSSFiKY6uwuWFBxXGnMbunPOzQEYKRVFJgqCfSK6Ej1I+kEHTPBXqeEAAAS1/fOtqQNoZYsGakLmtx2220xZl3tTmhW1fzss88GIftbDITOJhkKKh4+apEQJYtPkEu8Da/B2RfhJeGej4PkbIXh55USw2bBIdJLPqS5TJ+VKbDC5EiCqoARLZYlcR1hGirJv/oqxuJ3Hd1zzz1HdyjcyIL62WefoaFZAf6EYoMRi6cPPSN6+eWX8wa/EYvRlSzsCgAMdUWqg8XH+8KFC6vgBNsU3o5w7fnnn/eaQtmNiYcRWicwAJgK37HmKFTEpWQlYQwHLgJJCLE5q1gIrBBf3ZkBC8TmCpChoFIoAjFY+wq5OD96EFj9JBkvnvD5kkWLFmFWMAuuUw8PjXC99GVxCuJx1b+V/45qtMXY4ZiL8A1/1QtzvMXvio3IOX0RW4kmqJhJ7JAsVjKT/uMnvirjIT4kkHiqGFq8wejyanvEEUcA4EyLY1ViafMTFgjxfUIm8l//pYY6EAnnwTfWO/U/u+BKnlT8sC2rXzl1Kch1ey/SYiKaR2BWPfi0YEMZ6S/xzMPgxCFHayijV5pIcbzrjlq3bl1+csbSXfvCcSD2jrMtsQ1MKicY2qp169bGe7tToCMnCaRzyfVvZVn4MDCSoIKHflFVMOGyyy7zQhtv8btimzNnDn2RxY0mqPiWSEiYmiTO6dABoW3lAsl2ykMY2WuEFAkA4Iofj5SUKVsu2oWYNQMgdOk1BsEv2ogHpW70SNkQGgerj81Bzi7w+GgfpSOJLggq/HNpZTjhYYRKYHBrBYP/E6YCBqMD+wVzy8giiKmPfnRSJR47AfxAghk7LglcwiQhnUMrbCIEw2jYsGFDxRz1k8UpMLqTCpbAJzAVFFVQIeP666+nX6I+XqyLt/hdsb388sv0hRxFEFTKHtDZlHEGTi0Asv8QHBJgZEDxlCM8XhgkQIoQBnYhA+AhyuoFrOaS6JcB4392wYlQ6UgOIsmvzZs3FwJYoIHUugLg9lCKrT8SryI/rL985ZVX/PGz5RJ+R/DEttcfopRCpDOghS/Ae+KNUYmXCgpi6UZDDGxSC17ilPkUGJiJkBvcc/6XgGrgSYAYgkpxNRzQbSuDtniL33UiJMKMFg4rqOxy6FEKu8PMq9p/HnzwQeB37NjBSiLiQpfsmT5hxqOPPhqYwOIhIhYCCU6fmahQoQIwHCAyaA5zdsFoIjpSOXukH9nbJRXpVeEVhlEGTAwfFWnHNIC9rn4j5yhEUA3jnBkR34FsUFQ6JahGgkcvt2C5E/p2xqstTkFUOkPCxxBUDjPCAT5k4dpF7MXvik0ipuTSnL+6VDKwB1JsTVqC0ItMvDy4Lq5HhPGyKNYFQDxvXBqyMrhD/I2DyrasIqg6Nv4W6x/7zXhv/JegPxl/8CA/XscXSGZCBg3ZNIzmNJTjf+rBBsb7FVXi+rCt8V7CV8SQKK+FFThg/JfAL/EYNd/+lNv9lTWBWwg92CBYRzpyyn3JY6P1JR+mDBCBIXILk+GD13kRHzqxltkxWDd6PpkMKpEk44SA3Smwy7pMsLHL4U0Qx3ZFEnvxu2ITWRC5MB9DdrH6cMMIEONvqAdfBWWMqcaSdco6GylIydXy08MPP4wrTHJJzihQHkxqyOk0ChIJapO88lGHUqeK/vavNJbCVxgaeIjZ6+yCToNEsIlpoYCOP/54tKmc2KKuAMuTCiG9Ej2kLneCRd1RUVhClT41hLKZFPSOlAGTAQaGrB27qOqRQ0i8NEo1w5NNjlrigspJoeTDWXRtdwrCkxcJUjk1KH2jIVYkGQE+a6RbbRQPMXCv7RQMsRe/K9nSHRue89d/5FHR1qq+yVXiP/roIycKcQ4JNqJ6qZLBPyHaIc3ZARBgr5MHZDuB8TrYjqMrDhI4qRPynw9WIZDENgOnzevsgmqooj5gY8WzIpk5iY2RWIOkeInZDAVV39CcU8OZJ8FPNEWi03AeWcXsJzXHXoo1lckRPNEp1F3JIubwh3OhW5yCwEmMDaCOyBrnFkCoKmSIaOA7YDRRwk1ukgXj43DFXvyuQ8DZhM9o5ABB5XyGq3zKS9IkrthVvSLmkGQ+WSKyfZOANQq1dQyUVgJjOE54pGye1NygxdmcYZYzauIkQ/SLc/UYkP5nFxSwJDNI9iCTMkkywRjeCExgxCLkMmKjA6FXkllHQurYZ170vU5aEWiBdahOHrqgbowzgCGpcgVju6b8jY7kXCvHCfU6EGlidwoyoda1LYtK8vbqwVbSRWLUqFGIpfqVv7EryT74UxJ78builUp719hQcGVSGJbhtKgAqcATeOSlf7icMmXIMgqpcCCJXkKrj4SHIckJE3h2QTXBfsYz0ctu2JqIpoSvFohHod1W2EdMShg1F6ZfYqpMFibGsmXL0KG6aR2mucCEn4LwOC1CYkwRT2E7lTNxITHHW/yuyDmgBpOdMXOA7QhqyCEZYLjO6Okw9mo8/HorAipoUD0fiDfCuskc826CAYGXdBrnHDiiHGPU6RQEMg1ZINxgnNaUVjn+ADfRVFKjWFZS/JDQQ7kCjgeWuaQTGTb7Nv42e45xMi4hAnYNtEQK5bQwbjBB5kiDSqcgkF0sS8IxRObdP5sUKOWJAsiRVP8PJWZIQPizCxl2tMs3xwKShLbPB4dcmZBOQZi1IdUOXgVCOd5RoYxoG+kQSvMDVU4KkHMOEEOmUBEnKv3otvW5IObHtzhk63I+iXy6IdIYsKZIDHrRFwlVCpw0BziZRFbcCJ8m3enugJ+wPEpQPAvXJ/c7KgFVyj4ItBLxT+ibL7vDTGdtjGTFyf1krbvdpCNEAAeBPJzUluTFHZWqo0mTJhHpkmxv+uRxDqRSan2C+FYR+QiOqntJKT3mfkeVYbP1cz6TfIl1LqQIUw7kcQ5Q7kYliRzPzrumr6Lsz2SRdqtFHmduSl7KAVscCLPy88qOamvMKZ6UA7skB3If9d0l2ZoOKuWAXQ6kgmqXnym2lAOJcCAV1ETYmiJNOWCXA3/7qBTcqqsZ7PaRYks5kHIgKgc43a3f2fe3oFKnLp+KTZ+UAykHcs4BPlBKUaEiI4365nxGUgJSDgRzIPVRg3mUQqQcyDkHUkHN+RSkBKQcCOZAKqjBPEohUg7knAOpoOZ8ClICUg4EcyAV1GAepRApB3LOgVRQcz4FKQEpB4I5kKZn/uIRF6JyX1Mww1KIlAPeHOA2iYSOaqaC+hfX+bIeXySUO/bSJ+VAPA7w0Xa59936kwrqXyzllgA+Bd6iRQvrLE4RphzInAOpj/onDzm5y4f5uc4wc4amGFIOJMGBVFD/5OqqVav4tJR8tDZ9Ug7kQQ7kwPTls4N8c52rloQd3PbBJfPcGuzkDpBcPME9PJj+3EWnHyawy8qpU6fefvvt6k4+u8hTbNw3y6WGmfOB65i5/ypzPP9GDDkQVL62xjWBillcDczF7zrv5NZdpJSf5s+fz2cK+RsArq8cMmRIEly+6667uOFCbqdMH+scaNWqFbeHZO5ZcMOa3Ee6Gz45EFQ+jc/McdmmsLtMmTLGpazcd87Ddwm59I6rGQnGctOJXBDKpanc9WR9njhPBFo2VeuYU4RwgFt/uD4zxn3nKff+5kCYWzEswnCnXYECBbBmve4F3b59O1e8cesu1zpt2rRJdV2lShWIRm4tEqNQVahQAes3CcwhcXLJH3eHc2UWVkNuKQlJcHgw7mjHPuK0c/gmeRmSWydQ6FxszV2mcst7dp5sX7uo1KpcE+y8vfPZZ5+tWbMmti7XTuosEOdkypQp1vmyc+dOPnyMbWYdc0iEEFCjRg1Gh5EvGhRxDdk274PhoHLrfN6nMwyF06ZNw09W08SFzitWrAjTMHOYbEd969evj53Jt4b5ND7XeGMAI6u6hcMNHFxwgg6WLVQ9qGSujqxatap1c4hba7GuE8pTh6G2f//++fLlY4Dc/szfNBk6dCh3EIdpm/dhULi7xo1SLFRMnvHjx7N0MQyx+LiHJXvVbJnLuisGgroYt+Q8vPATzi1YsCDrjGIgBUMYiYtS9euG5afNmzejvXr27JkEtVwoQLWDEzMbHUNgIEl0quPMppGf9Fic+NHLffr0Md5njbcWx8s66dWrl0I4ffp0Vm+pUqUsduGDKinTV76TxsWs3Cnk1T1bGTsnW5kCmDNnDnusE75jx4716tVDjJNgCkqR+kED89q1a1ENDIFfk+hU4cymka86RftMnjy5ZcuW7HWNGjXCB9mwYUNCwyxbtix3H+nIs8ZbuyOiJGbbtm0KJ5sQZnDlypXt9uKFLRFBnTlzprqcgns1iJR4dV+tWjUglQR26NDBqX3HjRtHZH/r1q0JcYSLtAYPHqwjh54zzjhDrErImzVrVkJdu6Jt27YtRn5ygQrCdUyKYTMXKVKEVKf1YW7ZsgUG6mPJLW8tDnDdunXwsEuXLhZxZnVHJa3CXlS6dGlSKVTPMpju3bt7UdC8eXM0rvyKmi9evDi+mQ7MWYSKFSsmGjPEYTbWqKSC+HfJkiUlS5bknmVmJTvzkaiRL0OQJDYbad++fbEXVG6sWLFiepjdynhhLAzUUeWQt1ZGpJCwo+CmkZ6wizZLOyqbZ/Xq1dkniYtIl1wjT5569uzZTgp27NhBquamm26Sn7gUXQmtvFm6dCnpTd1lxbNFdC2yhuQBKl83/LhVmdiSygOtX78eH5JAtI9dYJGeRI186OSycKR0zJgximaEs1KlSrLBDh8+3OJYQEVsjNCgwplb3loc2urVq5HSuXPnWsTpj8qy6YthA/WExfReKc2TKDapF5wiQppi66OT2C2xxAQY7Y5nqxqSsCpcuDBh3iv+/7Rp0wY3lS3XQJ4hp6ipYMPUkUAq3oj+BgoZVBYENWkjn0FhqumSI8MkhimC2r59+wz5aTRn9ybfqF7mkLcWx8Xq5c710aNHW8QZiMqyoPr3R1kv/jcLAglEYjGMde+cmvgFCxYIBjx1jGdn7oEmgUOKBDBy5MjatWtHapIQcGwjn9B0165djYCNF5FXXnmloYaAJAYrd71bF1Qiha7GVEI8zAJa9DU15xRaZaEvvQv7gspJFIpmWTp16tSRhApT1bBhQ2KMbE3EhJYtW7ZmzRpjnKwefKQs5EKMfkkOGdUF/vRHmh4mdfHixaNGjSJIRnRKr6kgdU6sletrBWEmRj5eBjKmGyORiAQYH0SS+MOGDYva1geeNCNuxcaNGxWMRd5apBNUhLtmzJiBidekSZNu3bop5KxYpokHD4iXrE80XY8ePXSA7MST7AvqoEGDqNSVzRDFg9CqC8/hhRd/MZDatWtnl/thsLGdsqnqkPHod+0L15csIiFcWJE/f349q1yuXDleos5omKGRn7mgiuOKsbNy5cowTAsJg4LWc2+0ssjbkDSEBCOSwldUZNESY1Ot0KS8QYtJ0oF4CqYHXpi4Y3xmoHz58gMGDAjZSyZg9gUVaghdypg5KIMHyEhYpvzhk1Pl4JtRM5jJqMK3hSoMcgM+Bv0+PVKMBSsaNGigYLDwhT8s5cyN/MwFlT0BYohjhedbGEiULz5qorwNQ0ZIGJaBTMrChQtVE85v8YZACW9Q6E5fjECpipuG7CgeWCKCSnknQ8IRxfrF8IMyyq9whOKRmGErJoCzcl47HrYZgV/jV3/6I5VlYyyhC+CGrncp6eYNsWWvkwmRhpyhoGKQs9rY+rBUI/ULMMkJNhZOKbo2JGpF1Dc53kal1h+er9sxKVTLqaghnBHXPaGSuEj0JyKoVFqJ7iFilH23U42fFYxHgSi6VggCRiEUISsnv3zoj1qWrQ6j46xKR/hp4gvEDmJRRUDKSj1iuHITn/6S6p8w64C6KLZ6VidJ7zDwCoZpZYehTIKuKSZznWUyqM4iCou8NQgm8KFzwPVvp1JWSLjmkLFwaES9oV5NljFR8UjMSQI4EUHlxKnPCCPtSPHGjFIkLkIqnzAmGxfEIJNOVBQk6ROjALzoJ0ZNxGvChAlkoaQsG8yEH3yIhAxgWNCIhIDJdsqj5y0iDVPKSAKfMPkknGRc06g1SUT+sAYpmSDUzJlEKFFRMTUQwjOoSJwIY2gWeatjxocMZAgAehxIb64MHz42Iu9x1wWhEVyINFMWge0fHGduKPFl5I0bNyZ6ZLCPUuamTZvyq3y0gRomTFOJrFh8yI7iHhMIRVaJuBIqYPuaN2+e0QUqs2jRogQP9Pc+9FNusXz58t69ews8o0POKctGl3sRj5MGJQyZf4Gh7ooUnABT4MFWH2PUKB3l5dIc9XHfffchAOyNChs2GwabKuR07WXs2LFwgGhfs2bNIpFBkTZbkxBPpJQTiBgmcghJ4aG2gXA6Sjk53uqYUZ0ovsBRsAyoXXGC8X0P+QAFEyR/EAWcOHEif5CwQB8FYk4cwKLQC6pJkyYJ0cikgTzGjpQ5eRSRiKnpDBqx1DgSYXThQ3/Usmylp/mACL2QBWERyEk96lrUHpvhGOP5qOyiyNWIESMy7J3oA1YGIyKiq6NCgFnryfE2Q7KN5mL48OEuec9ZNvQpZw+d47Lbb3hs9k1fubacrcxpeuXqoBCXN0OSYeUiRVg1Tt/Mh36DrYFl2cpBZbehLXs78RUJAovBzM4ffqq8IGMIKoFNTFZDtMBPOSHHgKOShMHCiDDvdUOXqoCBAwcaqCzyNiqR/vDioIpmwehlLCK6PKwQshXOzL9dAgKx2RdUQggMz7WEKOqOFEh9SAD6xQjkee+991QTYnrstM5YtA/9RneBZdnyJS75vgH5pxIlSpBZRTvwkqpaCgZr1aoVcgg+YFEFFfUBDdRjY52qhyAZckUusVOnTlFJwuyUL61ScK/aMmqC5wYqi7yNSqQ/vETmCY8Rx6a8vF+/fnzVgDd4Rhj5nGXDb7LbY1RslgUVkRA9xFeRAkkJ3JECMYQHYAdTKlNa8VUXKo0NDOHpD1OWLVGfQoUKobDx2wnP0kr407p1a5ayT2I5/NAiCSrqyfiUnNCjHry18F0rSKq4wcDndTg7xUtOOznzXnZ5G4NIryYqEFW3bl2cbeoZsLYk5kc9A0cCqUyy2F08VJYFFZ+H4WHrh3HAAnekeENybUU1BYRRYkJ4QwD4RCiH7AzgkPSHLMtGW4kA8Bk+qbDFTSW9zBvyls6a23jjpUbP2M188PiHr6hzjEcDrdiiIYNVzt/sz8ccc0yivI1Np2tDRFQUDTIpqSbZUVE3mAk5TDEqai0Lanj2hdmRwmMLAynOofqYA1KKrIZpaMBEKstGQRgnbNkAeRkmdxKDthw2Ea1EtBmnjmQppd0xiInE2xj4vZpQ7MEBKf2ICDsNp5Gzdg45cCy5EdSQO1Ig9ZEA5DAXVThinmH3xvimYQ7LsiMNNifAUuNNfpXMnPHRjDD0pLz14VIOBDVXWhMuyAdWiJcQQyLRH+MToTksyw6z1nMLw7koOYVD4ifG+f6Ut3lIUHOrNSVzTX6MLCKRz6i+R27LsnMrhCF754OaYgA7v9jsjyHlrT9/7FcmGVFE478c1KBKi8SmFM3wuQaKYPmcF7Vs/g1t/UphKoc/CXVQ4EptkC20KR7hAOc2qTMjdpreuGV5SYTUlFbA8oLWVIVH1OtbGVSKxOAApYvkNlK22OVAtndUy2omOjrMXW6aoWSXaEfnzp2jI0hbBHCASCF1FFHrh1O2+nMg21da5Hw+cJ/kGoLMbwHM+VjyJgF8WTKVUutTs9vtqHCQkje+S7po0SIKxKwzNEWYciAJDux2OypMJDHDx5xSKU1iPaU4E+LA/wCvPbL9IJQATQAAAABJRU5ErkJggg==\"></div>"
      ],
      "text/plain": [
       "FormBox[FractionBox[RowBox[{\"2\", \" \", \"u\", \" \", \n",
       "\n",
       " \n",
       ">         RowBox[{\"(\", RowBox[{RowBox[{\"9\", \" \", \n",
       "\n",
       " \n",
       ">               SubscriptBox[OverscriptBox[\"r\", \"^\"], \"2\"], \" \", \n",
       "\n",
       " \n",
       ">               SuperscriptBox[\"u\", \"2\"]}], \"+\", \n",
       "\n",
       " \n",
       ">             RowBox[{\"20\", \" \", SqrtBox[SubscriptBox[OverscriptBox[\"r\", \"^\"], \"2\"]]}], \n",
       "\n",
       " \n",
       ">             \"-\", RowBox[{\"15\", \" \", SuperscriptBox[\"u\", \"2\"]}]}], \")\"}]}], \n",
       "\n",
       " \n",
       ">       RowBox[{SubsuperscriptBox[OverscriptBox[\"r\", \"^\"], \"2\", RowBox[{\"5\", \"/\",\\\n",
       " \n",
       ">    \"2\"}]], \n",
       "      \" \", SqrtBox[RowBox[{RowBox[{SubscriptBox[OverscriptBox[\"r\", \"^\"],\\\n",
       " \n",
       ">    \"2\"], \" \", \n",
       "           SuperscriptBox[\"u\", \"2\"]}], \"+\", \n",
       "\n",
       " \n",
       ">            RowBox[{\"2\", \" \", SqrtBox[SubscriptBox[OverscriptBox[\"r\", \"^\"], \"2\"]]}],\\\n",
       " \n",
       ">    \"-\", \n",
       "         SuperscriptBox[\"u\", \"2\"]}]]}]], TraditionalForm]\n"
      ]
     },
     "execution_count": 156,
     "metadata": {
      "text/html": [],
      "text/plain": []
     },
     "output_type": "execute_result"
    }
   ],
   "source": [
    "dJdrFinal = Fold[ (* Последовательно применяем замены *)\n",
    "  Simplify[#1 /.\n",
    "    D[Subscript[OverHat[r], 2][OverHat[t]], {OverHat[t], #2}] -> dr2[[#2]]] &,\n",
    "  dJdr,\n",
    "  Range[5]\n",
    "];\n",
    "\n",
    "Simplify[dJdrFinal] // TraditionalForm"
   ]
  },
  {
   "cell_type": "markdown",
   "metadata": {},
   "source": [
    "$$\n",
    "  \\Delta \\hat{J}(u) = 4 \\epsilon_G \\int\\limits_{\\hat{r}_2^\\text{min}}^\\infty \\frac{u \\left(20\\sqrt{\\hat{r}_2} - 15u^2 + 9\\hat{r}_2 u^2\\right)}{\\hat{r}_2^{\\frac{5}{2}} \\sqrt{2\\sqrt{\\hat{r}_2} - u^2 + \\hat{r}_2 u^2}} \\, d\\hat{r}_2,\n",
    "$$\n",
    "где при $\\hat{r}_2 \\ge \\hat{r}_2^{\\text{min}}$ выражение $\\hat{r}_2u^2 + 2\\sqrt{\\hat{r}_2} - u^2 \\ge 0$.\n",
    "\n",
    "Полученный выше интеграл **компактнее**, чем тот, что рассмотрен в файле binary_catch3.pdf\n",
    "\n",
    "Смотри подробности в файле binary_catch_integral.ipynb\n",
    " \n",
    "Выпишем ответ:"
   ]
  },
  {
   "cell_type": "code",
   "execution_count": 158,
   "metadata": {
    "vscode": {
     "languageId": "wolfram"
    }
   },
   "outputs": [
    {
     "data": {
      "text/html": [
       "<div><img alt=\"Output\" src=\"data:image/png;base64,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\"></div>"
      ],
      "text/plain": [
       "FormBox[RowBox[{\"4\", \" \", SubscriptBox[\"ϵ\", \"G\"], \" \", \n",
       "\n",
       " \n",
       ">        RowBox[{\"(\", RowBox[{RowBox[{\"-\", \n",
       "\n",
       " \n",
       ">              RowBox[{RowBox[{\"2\"}], \" \", SuperscriptBox[\"u\", \"2\"]}]}], \"-\", \n",
       "\n",
       " \n",
       ">            FractionBox[\"15\", SuperscriptBox[\"u\", \"2\"]], \"-\", \n",
       "\n",
       " \n",
       ">            FractionBox[RowBox[{RowBox[{\"(\", \n",
       "\n",
       " \n",
       ">                 RowBox[{RowBox[{\"7\", \" \", SuperscriptBox[\"u\", \"4\"]}], \"+\", \"15\"}], \n",
       "\n",
       " \n",
       ">                 \")\"}], \" \", RowBox[{\"(\", \n",
       "              RowBox[{RowBox[{\"2\", \" \", \n",
       "\n",
       " \n",
       ">                     RowBox[{SuperscriptBox[\"tan\", RowBox[{\"-\", \"1\"}]], \"(\", \n",
       "\n",
       " \n",
       ">                       FractionBox[\"1\", SuperscriptBox[\"u\", \"2\"]], \")\"}]}], \"+\", \"π\"}],\\\n",
       " \n",
       ">    \n",
       "              \")\"}]}], RowBox[{\"2\", \" \", SuperscriptBox[\"u\", \"4\"]}]]}], \")\"}]}], \n",
       "\n",
       " \n",
       ">      TraditionalForm]\n"
      ]
     },
     "execution_count": 158,
     "metadata": {
      "text/html": [],
      "text/plain": []
     },
     "output_type": "execute_result"
    }
   ],
   "source": [
    "DeltaJ = 4*Subscript[\\[Epsilon], G]*(-15/u^2 - 2*u^2 - ((15 + 7*u^4)*(Pi + 2*ArcTan[u^(-2)]))/(2*u^4));\n",
    "DeltaJ // TraditionalForm"
   ]
  },
  {
   "cell_type": "code",
   "execution_count": 159,
   "metadata": {
    "vscode": {
     "languageId": "wolfram"
    }
   },
   "outputs": [
    {
     "data": {
      "text/html": [
       "<div>&#36;&#36;&#52;&#32;&#92;&#101;&#112;&#115;&#105;&#108;&#111;&#110;&#32;&#95;&#71;&#32;&#92;&#108;&#101;&#102;&#116;&#40;&#45;&#50;&#32;&#117;&#94;&#50;&#45;&#92;&#102;&#114;&#97;&#99;&#123;&#49;&#53;&#125;&#123;&#117;&#94;&#50;&#125;&#45;&#92;&#102;&#114;&#97;&#99;&#123;&#92;&#108;&#101;&#102;&#116;&#40;&#55;&#32;&#117;&#94;&#52;&#43;&#49;&#53;&#92;&#114;&#105;&#103;&#104;&#116;&#41;&#32;&#92;&#108;&#101;&#102;&#116;&#40;&#50;&#32;&#92;&#116;&#97;&#110;&#32;&#94;&#123;&#45;&#49;&#125;&#92;&#108;&#101;&#102;&#116;&#40;&#92;&#102;&#114;&#97;&#99;&#123;&#49;&#125;&#123;&#117;&#94;&#50;&#125;&#92;&#114;&#105;&#103;&#104;&#116;&#41;&#43;&#92;&#112;&#105;&#32;&#92;&#114;&#105;&#103;&#104;&#116;&#41;&#125;&#123;&#50;&#32;&#117;&#94;&#52;&#125;&#92;&#114;&#105;&#103;&#104;&#116;&#41;&#36;&#36;</div>"
      ],
      "text/plain": [
       "4 \\epsilon _G \\left(-2 u^2-\\frac{15}{u^2}-\\frac{\\left(7 u^4+15\\right) \\left(2 \\tan\\\n",
       " \n",
       ">   ^{-1}\\left(\\frac{1}{u^2}\\right)+\\pi \\right)}{2 u^4}\\right)"
      ]
     },
     "execution_count": 159,
     "metadata": {
      "text/html": [],
      "text/plain": []
     },
     "output_type": "execute_result"
    }
   ],
   "source": [
    "TeXForm[DeltaJ]"
   ]
  },
  {
   "cell_type": "markdown",
   "metadata": {},
   "source": [
    "В пределе малых $u$ для $\\Delta \\hat{J}(u)$ получаем\n",
    "\n",
    "<span style=\"color:brown\">**NB:**</span> Почему при малых $u$ значения $\\Delta \\hat{J}(u)$ безгранично растут по модулю?\n",
    "\n",
    "При движении пары объектов происходит уменьшение момента импульса.\n",
    "В тот момент, когда начальный импульс уменьшится до нуля тела начнут падать друг на друга,\n",
    "и момент должен перестать меняться.\n",
    "\n",
    "Нужно интегрировать с бесконечноти не до перицентра $\\hat{r}_2^\\text{min}$, а до такой точки на орбите, где обнуляется момент импульса."
   ]
  },
  {
   "cell_type": "code",
   "execution_count": 161,
   "metadata": {
    "vscode": {
     "languageId": "wolfram"
    }
   },
   "outputs": [
    {
     "data": {
      "text/html": [
       "<div><img alt=\"Output\" src=\"data:image/png;base64,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\"></div>"
      ],
      "text/plain": [
       "FormBox[RowBox[{\"-\", FractionBox[RowBox[{\"60\", \" \", \"π\", \" \", \n",
       "\n",
       " \n",
       ">           SubscriptBox[\"ϵ\", \"G\"]}], SuperscriptBox[\"u\", \"4\"]]}], TraditionalForm]\n"
      ]
     },
     "execution_count": 161,
     "metadata": {
      "text/html": [],
      "text/plain": []
     },
     "output_type": "execute_result"
    }
   ],
   "source": [
    "DeltaJSmallu = Normal[Simplify[Series[DeltaJ, {u, 0, -1}]]];\n",
    "DeltaJSmallu // TraditionalForm"
   ]
  },
  {
   "cell_type": "markdown",
   "metadata": {},
   "source": [
    "## Поведение $\\hat{J}_1$ в зависимости от начальной сокрости $u$ и параметра $\\epsilon_G$\n",
    "\n",
    "$$\n",
    "\\hat{J}_1 = \\hat{J}_0 + \\Delta \\hat{J}\n",
    "$$\n",
    "\n",
    "$\\epsilon_G = \\frac{2}{5}\\frac{\\mu}{M} \\left( \\frac{r_s}{2b} \\right)^{\\frac{5}{2}}$,\n",
    "где $r_s = \\frac{2 G M}{c^2}$ - сумма радиусов Шварцшильда двух тел.\n",
    "\n",
    "При прицельных параметрах $b$ сравнимых с радиусом Шварцшильда, $\\epsilon_G$ не мал (смотри $\\epsilon_G = 0.1, 0.5, 1, 2, 10$),\n",
    "момент полностью \"съедается\" на одном проходе вдоль гиперболической траектории.\n",
    "\n",
    "Если прицельный параметр много больше, чем $r_s$, то есть $\\epsilon_G$ мал ($\\epsilon_G = 10^{-5}$),\n",
    "то только на совсем малых скоростях может \"съесться\" момент.\n",
    "\n",
    "<span style=\"color:red\">**TODO_6:**</span> Нет отрицательного момнета!"
   ]
  },
  {
   "cell_type": "code",
   "execution_count": 162,
   "metadata": {
    "vscode": {
     "languageId": "wolfram"
    }
   },
   "outputs": [
    {
     "data": {
      "text/html": [
       "<div><img alt=\"Output\" src=\"data:image/png;base64,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\"></div>"
      ],
      "text/plain": [
       "Legended[-Graphics-, Placed[LineLegend[{Directive[Opacity[1.], RGBColor[0.24, 0.6, 0.8], \n",
       " \n",
       ">       AbsoluteThickness[2]], Directive[Opacity[1.], RGBColor[0.95, 0.627, 0.1425], \n",
       " \n",
       ">       AbsoluteThickness[2]], Directive[Opacity[1.], RGBColor[0.455, 0.7, 0.21], \n",
       " \n",
       ">       AbsoluteThickness[2]], Directive[Opacity[1.], \n",
       " \n",
       ">       RGBColor[0.922526, 0.385626, 0.209179], AbsoluteThickness[2]], \n",
       " \n",
       ">      Directive[Opacity[1.], RGBColor[0.578, 0.51, 0.85], AbsoluteThickness[2]], \n",
       " \n",
       ">      Directive[Opacity[1.], RGBColor[0.772079, 0.431554, 0.102387], \n",
       " \n",
       ">       AbsoluteThickness[2]], Directive[Opacity[1.], RGBColor[0.4, 0.64, 1.], \n",
       " \n",
       ">       AbsoluteThickness[2]]}, {EpsilonG = 10, EpsilonG = 2, EpsilonG = 1, \n",
       " \n",
       ">      EpsilonG = 0.5, EpsilonG = 0.1, EpsilonG = 10^(-2), EpsilonG = 10^(-5)}, \n",
       " \n",
       ">     LegendMarkers -> None, LabelStyle -> {}, LegendLayout -> Column], After, Identity]]"
      ]
     },
     "execution_count": 162,
     "metadata": {
      "text/html": [],
      "text/plain": []
     },
     "output_type": "execute_result"
    }
   ],
   "source": [
    "Plot[\n",
    "  {\n",
    "    u + DeltaJ /. Subscript[\\[Epsilon], G] -> 10,\n",
    "    u + DeltaJ /. Subscript[\\[Epsilon], G] -> 2,\n",
    "    u + DeltaJ /. Subscript[\\[Epsilon], G] -> 1,\n",
    "    u + DeltaJ /. Subscript[\\[Epsilon], G] -> 0.5,\n",
    "    u + DeltaJ /. Subscript[\\[Epsilon], G] -> 0.1,\n",
    "    u + DeltaJ /. Subscript[\\[Epsilon], G] -> 10^(-2),\n",
    "    u + DeltaJ /. Subscript[\\[Epsilon], G] -> 10^(-5)\n",
    "  },\n",
    "  {u, 0.0, 100},\n",
    "  AxesLabel -> {\"u\", \"J1\"},\n",
    "  PlotLegends -> {\n",
    "    \"EpsilonG = 10\",\n",
    "    \"EpsilonG = 2\",\n",
    "    \"EpsilonG = 1\",\n",
    "    \"EpsilonG = 0.5\",\n",
    "    \"EpsilonG = 0.1\",\n",
    "    \"EpsilonG = 10^(-2)\",\n",
    "    \"EpsilonG = 10^(-5)\"\n",
    "    },\n",
    "  PlotRange -> All,\n",
    "  ScalingFunctions -> {\"Log\", \"SignedLog\"}\n",
    "]"
   ]
  },
  {
   "cell_type": "markdown",
   "metadata": {},
   "source": [
    "<span style=\"color:red\">**TODO_7:**</span> Где быстрее набирается интеграл потерь момента импульса?\n",
    "\n",
    "Смотри файл binary_catch_integral.ipynb (График первообразной $\\tilde{I}_7(u_i, r)$)"
   ]
  },
  {
   "cell_type": "code",
   "execution_count": 163,
   "metadata": {
    "vscode": {
     "languageId": "wolfram"
    }
   },
   "outputs": [
    {
     "data": {
      "text/html": [
       "<div><img alt=\"Output\" src=\"data:image/png;base64,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\"></div>"
      ],
      "text/plain": [
       "     ^ ^ 5      ^ ^ 3  ^    ^ 2      ^ ^ 2 ^  ^\n",
       "(-16 J[t]  + 20 J[t]  (r )'[t]  + 40 J[t]  r [t] \n",
       "                        2                   2\n",
       " \n",
       "            ^   ^   ^    ^    ^  ^   ^    ^\n",
       ">      (-2 (J)'[t] (r )'[t] + r [t] (J)''[t]) - \n",
       "                     2         2\n",
       " \n",
       "      ^  ^    ^   ^      ^    ^ 3      ^  ^   ^    ^   ^     ^      ^  ^ 2  ^  (3) ^\n",
       ">     r [t] ((J)'[t] (6 (r )'[t]  - 11 r [t] (r )'[t] (r )''[t] + 6 r [t]  (r )   [t]) + \n",
       "       2                  2             2      2        2            2       2\n",
       " \n",
       "         ^  ^       ^    ^ 2  ^    ^      ^  ^   ^    ^   ^     ^\n",
       ">        r [t] (-3 (r )'[t]  (J)''[t] + 4 r [t] (J)''[t] (r )''[t] + \n",
       "          2          2                     2               2\n",
       " \n",
       "            ^  ^   ^    ^   ^ (3) ^    ^  ^ 2  ^ (4) ^\n",
       ">           r [t] (r )'[t] (J)   [t] + r [t]  (J)   [t])) + \n",
       "             2      2                   2\n",
       " \n",
       "      ^ ^      ^    ^ 4      ^  ^   ^    ^ 2  ^     ^\n",
       ">     J[t] (6 (r )'[t]  - 14 r [t] (r )'[t]  (r )''[t] + \n",
       "                2             2      2         2\n",
       " \n",
       "         ^  ^ 2      ^   ^ 2      ^     ^ 2      ^    ^   ^  (3) ^\n",
       ">        r [t]  (60 (J)'[t]  + 4 (r )''[t]  + 7 (r )'[t] (r )   [t]) - \n",
       "          2                        2              2        2\n",
       " \n",
       "           ^  ^ 3  ^  (4) ^      ^  ^ 3\n",
       ">        4 r [t]  (r )   [t])) / r [t]\n",
       "            2       2             2"
      ]
     },
     "execution_count": 163,
     "metadata": {
      "text/html": [],
      "text/plain": []
     },
     "output_type": "execute_result"
    }
   ],
   "source": [
    "Simplify[dJdt /. {\n",
    "  OverHat[\\[Omega]][OverHat[t]] -> OverHat[J][OverHat[t]]/Subscript[OverHat[r],2][OverHat[t]],\n",
    "  Derivative[n_][OverHat[\\[Omega]]][OverHat[t]] :> D[OverHat[J][OverHat[t]]/Subscript[OverHat[r], 2][OverHat[t]], {OverHat[t], n}]\n",
    "}]"
   ]
  },
  {
   "cell_type": "code",
   "execution_count": null,
   "metadata": {
    "vscode": {
     "languageId": "wolfram"
    }
   },
   "outputs": [],
   "source": []
  }
 ],
 "metadata": {
  "kernelspec": {
   "display_name": "Wolfram Language 14.2",
   "language": "Wolfram Language",
   "name": "wolframlanguage14.2"
  },
  "language_info": {
   "codemirror_mode": "mathematica",
   "file_extension": ".m",
   "mimetype": "application/vnd.wolfram.m",
   "name": "Wolfram Language",
   "pygments_lexer": "mathematica",
   "version": "12.0"
  }
 },
 "nbformat": 4,
 "nbformat_minor": 2
}
