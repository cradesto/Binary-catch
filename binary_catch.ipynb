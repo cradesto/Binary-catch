{
 "cells": [
  {
   "cell_type": "markdown",
   "metadata": {},
   "source": [
    "# Binary catch\n",
    "\n",
    "**При каких условиях два тела, налетающие друг на друга с бесконечности (в системе центра масс) станут связной системой из-за испускания гравволн?**"
   ]
  },
  {
   "cell_type": "code",
   "execution_count": 1,
   "metadata": {
    "vscode": {
     "languageId": "wolfram"
    }
   },
   "outputs": [
    {
     "name": "stdout",
     "output_type": "stream",
     "text": [
      "  (CleanSlate) Contexts purged: {Global`}\n",
      "  (CleanSlate) Approximate kernel memory recovered: 1 Kb\n"
     ]
    }
   ],
   "source": [
    "(* https://mathematica.stackexchange.com/questions/850/how-do-i-clear-all-user-defined-symbols/861#861 *)\n",
    "<< Utilities`CleanSlate`\n",
    "CleanSlate[];\n",
    "\n",
    "ClearAll[\"Global`*\"]\n",
    "(* ClearSystemCache[] *)\n",
    "(* https://mathematica.stackexchange.com/questions/111605/quit-vs-clearallglobal *)\n",
    "if[Length[Names[\"Global`*\"]] > 0, Remove[\"Global`*\"]];\n",
    "\n",
    "(* PacletInstall[\n",
    "    \"TensorSimplify\",\n",
    "\n",
    "    \"Site\" -> \"http://raw.githubusercontent.com/carlwoll/TensorSimplify/master\"\n",
    "]; *)\n",
    "<<TensorSimplify`"
   ]
  },
  {
   "cell_type": "markdown",
   "metadata": {},
   "source": [
    "## Einstein Summation"
   ]
  },
  {
   "cell_type": "code",
   "execution_count": 10,
   "metadata": {
    "vscode": {
     "languageId": "wolfram"
    }
   },
   "outputs": [],
   "source": [
    "ClearAll@EinsteinSummation\n",
    "\n",
    "EinsteinSummation[in_List, arrays_] := Module[\n",
    "  {res =\n",
    "    isum[in -> Cases[Tally @ Flatten @ in, {_, 1}][[All, 1]], arrays]},\n",
    "  res /; res =!= $Failed\n",
    "  ]\n",
    "\n",
    "EinsteinSummation[in_List -> out_, arrays_] := Module[\n",
    "  {res = isum[in -> out, arrays]},\n",
    "  res /; res =!= $Failed\n",
    "  ]\n",
    "\n",
    "isum[in_List -> out_, arrays_List] := Catch@Module[\n",
    "  {indices, contracted, uncontracted, contractions, transpose},\n",
    "  If[Length[in] != Length[arrays],\n",
    "    Message[EinsteinSummation::length, Length[in], Length[arrays]];\n",
    "    Throw[$Failed]];\n",
    "  MapThread[\n",
    "    If[IntegerQ@TensorRank[#1] && Length[#1] != TensorRank[#2],\n",
    "      Message[EinsteinSummation::shape, #1, #2];\n",
    "      Throw[$Failed]] &, {in, arrays}];\n",
    "  indices = Tally[Flatten[in, 1]];\n",
    "  If[DeleteCases[indices, {_, 1 | 2}] =!= {},\n",
    "    Message[EinsteinSummation::repeat,\n",
    "      Cases[indices, {x_, Except[1 | 2]} :> x]];\n",
    "    Throw[$Failed]];\n",
    "  uncontracted = Cases[indices, {x_, 1} :> x];\n",
    "  If[Sort[uncontracted] =!= Sort[out],\n",
    "    Message[EinsteinSummation::output, uncontracted, out];\n",
    "    Throw[$Failed]];\n",
    "  contracted = Cases[indices, {x_, 2} :> x];\n",
    "  contractions = Flatten[Position[Flatten[in, 1], #]] & /@ contracted;\n",
    "  transpose = FindPermutation[uncontracted, out];\n",
    "  Activate@\n",
    "    TensorTranspose[\n",
    "      TensorContract[Inactive[TensorProduct] @@ arrays, contractions],\n",
    "    transpose]]\n",
    "\n",
    "EinsteinSummation::length =\n",
    "  \"Number of index specifications (`1`) does not match the number of \\\n",
    "tensors (`2`)\";\n",
    "EinsteinSummation::shape =\n",
    "  \"Index specification `1` does not match the tensor rank of `2`\";\n",
    "EinsteinSummation::repeat =\n",
    "  \"Index specifications `1` are repeated more than twice\";\n",
    "EinsteinSummation::output =\n",
    "  \"The uncontracted indices don't match the desired output\";"
   ]
  },
  {
   "cell_type": "code",
   "execution_count": 18,
   "metadata": {
    "vscode": {
     "languageId": "wolfram"
    }
   },
   "outputs": [],
   "source": [
    "(* Правила для скрытия аргументов в TraditionalForm *)\n",
    "\n",
    "Unprotect[Subscript, OverHat, Derivative];\n",
    "\n",
    "MakeBoxes[OverHat[r_][OverHat[t]], TraditionalForm] :=\n",
    "  MakeBoxes[OverHat[r], TraditionalForm]\n",
    "\n",
    "MakeBoxes[\\[Phi][OverHat[t]], TraditionalForm] :=\n",
    "  MakeBoxes[\\[Phi], TraditionalForm]\n",
    "\n",
    "MakeBoxes[Subscript[OverHat[r], n_][OverHat[t]], TraditionalForm] :=\n",
    "  SubscriptBox[OverscriptBox[\"r\", \"^\"], ToString[n]];\n",
    "\n",
    "MakeBoxes[OverHat[\\[Omega]][OverHat[t]], TraditionalForm] :=\n",
    "  OverscriptBox[\"\\[Omega]\", \"^\"];\n",
    "\n",
    "MakeBoxes[Derivative[n_][f_][OverHat[t]], TraditionalForm] := Module[{primes},\n",
    "  primes = StringJoin[Table[\"\\[Prime]\", n]];\n",
    "  SuperscriptBox[ToBoxes[f], primes]\n",
    "];\n",
    "\n",
    "Protect[Subscript, OverHat, Derivative];"
   ]
  },
  {
   "cell_type": "markdown",
   "metadata": {},
   "source": [
    "$\\hat{r}_k$"
   ]
  },
  {
   "cell_type": "code",
   "execution_count": 27,
   "metadata": {
    "vscode": {
     "languageId": "wolfram"
    }
   },
   "outputs": [
    {
     "data": {
      "text/html": [
       "<div><img alt=\"Output\" src=\"data:image/png;base64,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\"></div>"
      ],
      "text/plain": [
       "FormBox[TagBox[RowBox[{\"(\", \"⁠\", \n",
       "\n",
       " \n",
       ">         TagBox[GridBox[{{RowBox[{OverscriptBox[\"r\", \"^\"], \" \", \n",
       "\n",
       " \n",
       ">               RowBox[{\"cos\", \"(\", \"ϕ\", \")\"}]}]}, \n",
       "\n",
       " \n",
       ">            {RowBox[{OverscriptBox[\"r\", \"^\"], \" \", RowBox[{\"sin\", \"(\", \"ϕ\", \")\"}]}]}}, \n",
       "\n",
       " \n",
       ">           Rule[RowSpacings, 1], Rule[ColumnAlignments, Center], \n",
       "\n",
       " \n",
       ">           Rule[ColumnAlignments, Left]], Column], \"⁠\", \")\"}], \n",
       "\n",
       " \n",
       ">       Function[BoxForm`e$, MatrixForm[BoxForm`e$]]], TraditionalForm]\n"
      ]
     },
     "execution_count": 27,
     "metadata": {
      "text/html": [],
      "text/plain": []
     },
     "output_type": "execute_result"
    }
   ],
   "source": [
    "rh = {OverHat[r][OverHat[t]]*Cos[\\[Phi][OverHat[t]]], OverHat[r][OverHat[t]]*Sin[\\[Phi][OverHat[t]]]};\n",
    "rh // MatrixForm // TraditionalForm"
   ]
  },
  {
   "cell_type": "code",
   "execution_count": 28,
   "metadata": {
    "vscode": {
     "languageId": "wolfram"
    }
   },
   "outputs": [],
   "source": [
    "$Assumptions = {\n",
    "  {OverHat[r][OverHat[t]], Subscript[OverHat[r],2][OverHat[t]], OverHat[t], u} \\[Element] PositiveReals\n",
    "};\n",
    "$Assumptions = Join[$Assumptions, {rh \\[Element] NonNegativeReals}];"
   ]
  },
  {
   "cell_type": "markdown",
   "metadata": {},
   "source": [
    "## Система движения в декартовых координатах\n",
    "$$\n",
    "\\frac{d^2r_k}{dt^2} = -\\frac{G(m_A+m_B)}{r^3}r_k - \\frac{2}{5}f_{ki}^{(5)}r_i\n",
    "$$\n",
    "\n",
    "Ч.Мизнер, К.Торн, Дж.Уилер Гравтация, Т.3, §36.8, стр. 222\n",
    "\n",
    "Введём обозначения для полной и приведённой масс\n",
    "$$\n",
    "M=m_A+m_B; \\quad\n",
    "\\mu = m_{AB} = \\frac{m_A m_B}{M}\n",
    "$$\n",
    "Задача двух самогравитирующих тел с массами $m_A$ и $m_B$\n",
    "в системе отсчёта центра масс всегда сводится\n",
    "к задаче движения тела массы $\\mu$\n",
    "в центральном поле массы $M$.\n",
    "\n",
    "$f_{ki}$ - квадрупольный момент системы.\n",
    "Задача решается методом последовательных приближений\n",
    "Первоначально строится решение в приближении Ньютона,\n",
    "затем для полученной конфигурации находится квадрупольный момент\n",
    "и находится его пятая производная по времени.\n",
    "Уже на следубщем шаге (уравнение выше)\n",
    "находятся решение с **заданной** функций от времени (**и только времени**) $f_{ki}^{(5)}$."
   ]
  },
  {
   "cell_type": "markdown",
   "metadata": {},
   "source": [
    "### Безразмерные единицы\n",
    "$$\n",
    "\\begin{align}\n",
    "r &= b\\hat{r} \\\\\n",
    "t &= t_0\\hat{t} \\\\\n",
    "f_{ij} &= b^2\\frac{G}{c^5}\\mu\\hat{f}_{ij} \\\\\n",
    "f_{ij}^{(5)} &= \\frac{b^2}{t_0^5}\\frac{G}{c^5}\\mu\\hat{f}_{ij}^{(5)}\n",
    "\\end{align}\n",
    "$$"
   ]
  },
  {
   "cell_type": "markdown",
   "metadata": {},
   "source": [
    "$\\hat{f}_{ki}$"
   ]
  },
  {
   "cell_type": "code",
   "execution_count": 31,
   "metadata": {
    "vscode": {
     "languageId": "wolfram"
    }
   },
   "outputs": [
    {
     "data": {
      "text/html": [
       "<div><img alt=\"Output\" src=\"data:image/png;base64,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\"></div>"
      ],
      "text/plain": [
       "FormBox[TagBox[RowBox[{\"(\", \"⁠\", \n",
       "\n",
       " \n",
       ">         GridBox[{{RowBox[{FractionBox[\"1\", \"6\"], \" \", \n",
       "\n",
       " \n",
       ">              SuperscriptBox[OverscriptBox[\"r\", \"^\"], \"2\"], \" \", \n",
       "\n",
       " \n",
       ">              RowBox[{\"(\", RowBox[{RowBox[{\"3\", \" \", \n",
       "\n",
       " \n",
       ">                    RowBox[{\"cos\", \"(\", RowBox[{\"2\", \" \", \"ϕ\"}], \")\"}]}], \"+\",\\\n",
       " \n",
       ">    \"1\"}]\\\n",
       ", \")\"}]}], RowBox[{SuperscriptBox[OverscriptBox[\"r\", \"^\"], \"2\"], \" \", \n",
       "\n",
       " \n",
       ">              RowBox[{\"sin\", \"(\", \"ϕ\", \")\"}], \" \", RowBox[{\"cos\", \"(\", \"ϕ\", \")\"}]}]}, \n",
       "\n",
       " \n",
       ">           {RowBox[{SuperscriptBox[OverscriptBox[\"r\", \"^\"], \"2\"], \" \", \n",
       "\n",
       " \n",
       ">              RowBox[{\"sin\", \"(\", \"ϕ\", \")\"}], \" \", RowBox[{\"cos\", \"(\", \"ϕ\", \")\"}]}], \n",
       "\n",
       " \n",
       ">            RowBox[{FractionBox[\"1\", \"3\"], \" \", \n",
       "\n",
       " \n",
       ">              SuperscriptBox[OverscriptBox[\"r\", \"^\"], \"2\"], \" \", \n",
       "\n",
       " \n",
       ">              RowBox[{\"(\", RowBox[{RowBox[{\"3\", \" \", \n",
       "\n",
       " \n",
       ">                    RowBox[{SuperscriptBox[\"sin\", \"2\"], \"(\", \"ϕ\", \")\"}]}], \"-\", \"1\"}], \n",
       "\n",
       " \n",
       ">                \")\"}]}]}}, Rule[RowSpacings, 1], Rule[ColumnSpacings, 1], \n",
       "\n",
       " \n",
       ">          Rule[RowAlignments, Baseline], Rule[ColumnAlignments, Center]], \"⁠\", \")\"}], \n",
       "\n",
       " \n",
       ">       Function[BoxForm`e$, MatrixForm[BoxForm`e$]]], TraditionalForm]\n"
      ]
     },
     "execution_count": 31,
     "metadata": {
      "text/html": [],
      "text/plain": []
     },
     "output_type": "execute_result"
    }
   ],
   "source": [
    "fh = Simplify[Array[rh[[#]]*rh[[#2]] - 1/3*KroneckerDelta[#, #2]*(OverHat[r][OverHat[t]])^2 &, {2, 2}], Trig -> True];\n",
    "fh // MatrixForm // TraditionalForm"
   ]
  },
  {
   "cell_type": "markdown",
   "metadata": {},
   "source": [
    "<span style=\"color:brown\">**NB:**</span> Здесь и далее мы не записываем компоненты квадрупольного момента для $z$, так как они сворачиваются с нулевыми $r_z$.\n",
    "\n",
    "Однако нужно запомнить, что след полного квадрупольного момента и его пятой производной **нулевой**!"
   ]
  },
  {
   "cell_type": "markdown",
   "metadata": {},
   "source": [
    "$\\hat{f}_{ki}^{(5)}$ - заданная функция (см. выше)"
   ]
  },
  {
   "cell_type": "code",
   "execution_count": 35,
   "metadata": {
    "vscode": {
     "languageId": "wolfram"
    }
   },
   "outputs": [
    {
     "data": {
      "text/html": [
       "<div><img alt=\"Output\" src=\"data:image/png;base64,iVBORw0KGgoAAAANSUhEUgAAAHEAAAA6CAIAAAAIgyEoAAAAzXpUWHRSYXcgcHJvZmlsZSB0eXBlIGV4aWYAAHjabU/bDQMhDPtnio4QkuDAONwdJ3WDjt/wUCuqWiI2zgtCez3v8OjgSEGTZRSAHFq0cHWRaWJypDLigC32++YHqcuvbqVvAm35x+4bJnP+GUQ8hfQNrkVXwxokPP24Fh6rnmvO+yChDaDP0//eVYyREE09KpMZiuscXDohMSXDjRPwwoiLSU/nBjNvg/UKqb2xg5vt1S1A3Lj6F6SfJNVZPLL4PolShu6+CvGxsuMj4Q1MWVqzJKb94QAAAAlwSFlzAAAOxAAADsQBlSsOGwAAADx0RVh0U29mdHdhcmUAQ3JlYXRlZCB3aXRoIHRoZSBXb2xmcmFtIExhbmd1YWdlIDogd3d3LndvbGZyYW0uY29tXKKmhQAAACF0RVh0Q3JlYXRpb24gVGltZQAyMDI1OjAzOjI0IDE5OjI1OjQwg0uh/QAACA5JREFUeJztnG1IU+8bx6+dmSNjGW2DZSaaNSgYTjLNzHSEZPlKK00hiiQLwh5FKqLIyAjthVSEK3pRWPRAvREbysisiGazzVrTtNQemLjphutUe3Dn/+L423+57WznnHtuP35+37jd932u68O1c9/buc/XA0TkJJPJBAKBUCgUCoUvXryIIImv2LABrdH19fULFy589+4draMCaffu3UjikIoeNgy8pNPpVCoVBFBXV1d3d3dbW9vx48dtNlugYUHV09Pz/v17ABAKhd7tarV6YGCAWcxIsWk0mq6urpmtnup2dHQcOHCAovwPHz6cmpoiCMJoNHZ2djL7DMfHx8+fP08QhNvtLioqamho2LFjR0lJicViIQjixIkTdrudQdgIsp0+ffrBgwfeLdM1NZlMubm5OI5TZ21ubt67d++qVasOHz7sdrsZcCsUiqdPn5Lcg4ODZKNcLq+pqfHuZSaWeMzYXC5XYWHh58+fPS3Tc7+mpqa0tDQuLo5iXjx+/LixsfHGjRtXrlxRKpU/f/5kMLmGh4fFYjEAcDic1NRUsjE9Pd1gMACAWCweGhpiEBYJHjM2LpdbVVW1f/9+TwsGACaT6d69e2VlZdQp6+rqiouLMQzbtGlTX18fn8+nCw0AfD4fx3EAuH///qVLl8hGjUazbt06AMBxnFlYJHiM2YqKijQaTW9vL/kWAwClUpmfny8SiSjydXR06HS6zZs30wWdodzcXL1eDwDr169/9erVyZMnL1y4IJVKa2pqAMBgMOTk5DAIiwSPMVtsbGxxcbFSqZx+TxBEeXl5bW1toFXG4XBUVFQkJydzOJyysrKdO3d+/PiR7lLlraamJofD4ds+OTmpUCjoRkOLx5itqalJLpeTr4EgCLFY3NzcTJ0sLy9PIpEwRf1LU1NTAwMDvu39/f2MY6LCY8zW2to6b9488vPA3G732NhYUlIS9bzQ6XSZmZlsZpZHGIatWLHCt10ikTCOiQqPMVtSUpLT6RwfHwcAzGKxuN3uBQsWUBwwPDxstVqzsrLY4IZP0YBHFtBsNgMANjExAQDz58+nOECr1QIAqvMUuaIBjyzg9HlK/gla09jY2LS0tNnho6towCMLOH2e/vnzBwC4XC7FAVqtViaT8Xi82eGjq2jAi4mJAYDfv38D+fs0qLRabdROfIg+vOA1tVqtIyMj2dnZvl16vb6qqqqystJut5eXl+/atSv0XlRihofj+NmzZ5OTkx0OBwAcOnTo5s2byJiePXsGAAaDIdAvr87OTgD4/v27394vX74kJiZevXp1cnLSd9uGuheJGOO53e5FixaRex8ZGRmfPn1ig0FuMN65c4cgiJigRddqtVKpdOnSpX57U1JSeDxeamqq32th6l4kYozH4XAkEonRaIyLi1u7du3KlStRIQWc+xaLpbCwcHR09O3btwcPHgw0zGq1xsTEGI1GBr1shARv2bJlExMTt2/fPnfuHEK2gDXl8Xh2u72kpCQhIWHfvn2+A6xWK47j169fP3bsmEql+vbtW39/v8PhSElJ+fr1q99ehNws8cgxS5Ys6e3tFQgE1PtHtBV0PQ2kurq6NWvW6PV6i8UilUrr6+vJdplMplarA/XOmqjxyNdnzpzJyspyuVzs03mvp8xr6leTk5PV1dVIQoVDM/Cqqqra29uRRPauaUi/T0OXzWa7fPky2pgI5cFTq9Uul0soFBYUFCDPEvx7n5YSEhLQBkQrEs/tdldUVGRkZFy7di0cWRDX9F8hDMMGBwfDGD98of+zmqspes3VFL3maopeczVFr7maolcka5qeni4UCkUikUgkevnyZQRJfMWGjV5NL168GB8fT95TY6+0tDSz2WwymUwm04YNG9gHRIjHho1GTaPZf4oKDwkbjZqOjY09evQoJyenpaWlp6cn9AO9NTEx0dbWJpVKCYLo6+trbGwsLS3dtm2b1WrNzMy8desWeTODgdjjIWNDuy8VVGH1n0aQjfm+lEKhqKysXL169ZEjRwiCoH8qhNF/yh4PFRuNmiLx9IbPf8oeDxUbjZoi8fSGyX+KBA8ZW4jraXt7OwCoVCr2yxZa/ykpVHiM2ejdO0Hu6UXrP0WLx5iNyf0ohJ7ecCjieH9973M4nFCWCISe3nAoSvDIYmLk/++4XC6KodFgmqVQNOA5nU74x9mLLV68GP4x+QVSNJhmKRQNeGQByStaTCAQQAg1jbhplkLRgEcWkCwmFh8fz+VyqTcdosE0S6FowCMLOH2ecjicxMRE6qsuCtNsxDyewfCosyNnGxoaiouLIxdSIAiisrKSvED2K4vFAgAtLS2BBsyax5MuHnV2tGwNDQ1FRUXkawwAtm7dqlarA30COp0OAPLy8gIN8PZ4xsbGend5PJ6jo6NoPZ6h4FFnR8vW3d29ZcsW8jUGAAUFBRqNZmRkxO9oatMsRMjjGSIedXZUbDabrbW19a+a8vn8o0eP3r1713tcKKZZX4/nhw8fvA2eEDaPZ4ie3hnZw+Q/ffLkyfbt25cvXz79nlwCfv36tXHjxrGxMc8CgeN4fn5+dnZ2bW0t+QgHX/n1eHobPAmkHk9vhYLnNzty/ymO43K53Gw2e1r+/+wOvV6/Z88elgl8/acIPZ4MNCN7OPyn1dXVr1+/9m7567k9RqPx+fPnbBL8+PHDs1f25s0bp9N56tQpNgEZy292Dx4qtp6eHt99LHrPQgpdU1NTqampZWVl3pNi1kSdPdxsHILRbaU5Ueh/J1PXtmyizZsAAAAASUVORK5CYII=\"></div>"
      ],
      "text/plain": [
       "FormBox[TagBox[RowBox[{\"(\", \"⁠\", \n",
       "\n",
       " \n",
       ">         GridBox[{{TemplateBox[List[SubscriptBox[OverscriptBox[\"f\", \"^\"], \n",
       "\n",
       " \n",
       ">               RowBox[List[\"x\", \",\", \"x\"]]], \"\\\"(5)\\\"\"], \"Superscript\", \n",
       "\n",
       " \n",
       ">             Rule[SyntaxForm, SuperscriptBox]], \n",
       "\n",
       " \n",
       ">            TemplateBox[List[SubscriptBox[OverscriptBox[\"f\", \"^\"], \n",
       "\n",
       " \n",
       ">               RowBox[List[\"x\", \",\", \"y\"]]], \"\\\"(5)\\\"\"], \"Superscript\", \n",
       "\n",
       " \n",
       ">             Rule[SyntaxForm, SuperscriptBox]]}, \n",
       "\n",
       " \n",
       ">           {TemplateBox[List[SubscriptBox[OverscriptBox[\"f\", \"^\"], \n",
       "\n",
       " \n",
       ">               RowBox[List[\"x\", \",\", \"y\"]]], \"\\\"(5)\\\"\"], \"Superscript\", \n",
       "\n",
       " \n",
       ">             Rule[SyntaxForm, SuperscriptBox]], \n",
       "\n",
       " \n",
       ">            TemplateBox[List[SubscriptBox[OverscriptBox[\"f\", \"^\"], \n",
       "\n",
       " \n",
       ">               RowBox[List[\"y\", \",\", \"y\"]]], \"\\\"(5)\\\"\"], \"Superscript\", \n",
       "\n",
       " \n",
       ">             Rule[SyntaxForm, SuperscriptBox]]}}, Rule[RowSpacings, 1], \n",
       "\n",
       " \n",
       ">          Rule[ColumnSpacings, 1], Rule[RowAlignments, Baseline], \n",
       "\n",
       " \n",
       ">          Rule[ColumnAlignments, Center]], \"⁠\", \")\"}], \n",
       "\n",
       " \n",
       ">       Function[BoxForm`e$, MatrixForm[BoxForm`e$]]], TraditionalForm]\n"
      ]
     },
     "execution_count": 35,
     "metadata": {
      "text/html": [],
      "text/plain": []
     },
     "output_type": "execute_result"
    }
   ],
   "source": [
    "(* fh5 = Array[Superscript[Subscript[OverHat[f], {x, y}[[#1]], {x, y}[[#2]]], \"(5)\"] &, {2, 2}] *)\n",
    "(* Symmetric version *)\n",
    "fh5 = Array[If[#1 <= #2,\n",
    "                    Superscript[Subscript[OverHat[f], {x, y}[[#1]], {x, y}[[#2]]], \"(5)\"],\n",
    "                    Superscript[Subscript[OverHat[f], {x, y}[[#2]], {x, y}[[#1]]], \"(5)\"]] &, {2, 2}];\n",
    "fh5 // MatrixForm // TraditionalForm"
   ]
  },
  {
   "cell_type": "markdown",
   "metadata": {},
   "source": [
    "$\\hat{f}_{ki}^{(5)}\\hat{r}_i$"
   ]
  },
  {
   "cell_type": "code",
   "execution_count": 37,
   "metadata": {
    "vscode": {
     "languageId": "wolfram"
    }
   },
   "outputs": [
    {
     "data": {
      "text/html": [
       "<div><img alt=\"Output\" src=\"data:image/png;base64,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\"></div>"
      ],
      "text/plain": [
       "FormBox[TagBox[RowBox[{\"(\", \"⁠\", \n",
       "\n",
       " \n",
       ">         TagBox[GridBox[{{RowBox[{RowBox[{OverscriptBox[\"r\", \"^\"], \" \", \n",
       "\n",
       " \n",
       ">                 RowBox[{\"sin\", \"(\", \"ϕ\", \")\"}], \" \", \n",
       "\n",
       " \n",
       ">                 TemplateBox[List[SubscriptBox[OverscriptBox[\"f\", \"^\"], \n",
       "\n",
       " \n",
       ">                    RowBox[List[\"x\", \",\", \"y\"]]], \"\\\"(5)\\\"\"], \"Superscript\", \n",
       "\n",
       " \n",
       ">                  Rule[SyntaxForm, SuperscriptBox]]}], \"+\", \n",
       "\n",
       " \n",
       ">               RowBox[{OverscriptBox[\"r\", \"^\"], \" \", RowBox[{\"cos\", \"(\", \"ϕ\", \")\"}], \n",
       "\n",
       " \n",
       ">                 \" \", TemplateBox[List[SubscriptBox[OverscriptBox[\"f\", \"^\"], \n",
       "\n",
       " \n",
       ">                    RowBox[List[\"x\", \",\", \"x\"]]], \"\\\"(5)\\\"\"], \"Superscript\", \n",
       "\n",
       " \n",
       ">                  Rule[SyntaxForm, SuperscriptBox]]}]}]}, \n",
       "\n",
       " \n",
       ">            {RowBox[{RowBox[{OverscriptBox[\"r\", \"^\"], \" \", \n",
       "\n",
       " \n",
       ">                 RowBox[{\"cos\", \"(\", \"ϕ\", \")\"}], \" \", \n",
       "\n",
       " \n",
       ">                 TemplateBox[List[SubscriptBox[OverscriptBox[\"f\", \"^\"], \n",
       "\n",
       " \n",
       ">                    RowBox[List[\"x\", \",\", \"y\"]]], \"\\\"(5)\\\"\"], \"Superscript\", \n",
       "\n",
       " \n",
       ">                  Rule[SyntaxForm, SuperscriptBox]]}], \"+\", \n",
       "\n",
       " \n",
       ">               RowBox[{OverscriptBox[\"r\", \"^\"], \" \", RowBox[{\"sin\", \"(\", \"ϕ\", \")\"}], \n",
       "\n",
       " \n",
       ">                 \" \", TemplateBox[List[SubscriptBox[OverscriptBox[\"f\", \"^\"], \n",
       "\n",
       " \n",
       ">                    RowBox[List[\"y\", \",\", \"y\"]]], \"\\\"(5)\\\"\"], \"Superscript\", \n",
       "\n",
       " \n",
       ">                  Rule[SyntaxForm, SuperscriptBox]]}]}]}}, Rule[RowSpacings, 1], \n",
       "\n",
       " \n",
       ">           Rule[ColumnAlignments, Center], Rule[ColumnAlignments, Left]], Column], \"⁠\",\\\n",
       " \n",
       ">    \n",
       "      \")\"}], Function[BoxForm`e$, MatrixForm[BoxForm`e$]]], TraditionalForm]\n"
      ]
     },
     "execution_count": 37,
     "metadata": {
      "text/html": [],
      "text/plain": []
     },
     "output_type": "execute_result"
    }
   ],
   "source": [
    "fh5rh = EinsteinSummation[{{k, i}, {i}}, {fh5, rh}];\n",
    "fh5rh // MatrixForm // TraditionalForm"
   ]
  },
  {
   "cell_type": "markdown",
   "metadata": {},
   "source": [
    "Система движения в безразмерной записи будет выглядеть как"
   ]
  },
  {
   "cell_type": "markdown",
   "metadata": {},
   "source": [
    "$$\n",
    "\\frac{d^2\\hat{r}_k}{d\\hat{t}^2} = -\\frac{t_0^2}{b^3}\\frac{GM}{\\hat{r}^3}\\hat{r}_k - \\frac{2}{5}\\frac{b^2}{t_0^3}\\frac{G}{c^5}\\mu\\hat{f}_{ki}^{(5)}\\hat{r}_i\n",
    "$$"
   ]
  },
  {
   "cell_type": "markdown",
   "metadata": {},
   "source": [
    "Пусть $t_0 = \\sqrt{\\frac{b^3}{GM}}$, а $b$ - прицельное расстояние, тогда система движения перепишется как\n",
    "\n",
    "$$\n",
    "\\frac{d^2\\hat{r}_k}{d\\hat{t}^2} + \\frac{\\hat{r}_k}{\\hat{r}^3} = - \\epsilon_G\\hat{f}_{ki}^{(5)}\\hat{r}_i\\quad,\n",
    "$$\n",
    "или\n",
    "$$\n",
    "\\hat{r}_k^{(2)} + \\frac{\\hat{r}_k}{\\hat{r}^3} = - \\epsilon_G\\hat{f}_{ki}^{(5)}\\hat{r}_i\\quad,\n",
    "$$\n",
    "\n",
    "где безразмерная постоянная\n",
    "$\\epsilon_G =\n",
    "  \\frac{2}{5}\\frac{b^2}{t_0^3}\\frac{G}{c^5}\\mu\n",
    "  = \\frac{2}{5}\\frac{\\mu}{M} \\left( \\frac{GM}{bc^2} \\right)^{\\frac{5}{2}}\n",
    "  = \\frac{2}{5}\\frac{\\mu}{M} \\left( \\frac{r_s}{2b} \\right)^{\\frac{5}{2}}$.\n",
    "\n",
    "Здесь $r_s = \\frac{2 G M}{c^2}$ - сумма радиусов Шварцшильда двух тел.\n",
    "Заметим, что $f_{ij}^{(5)} = \\frac{5}{2}\\frac{\\epsilon_G}{t_0^2}\\hat{f}_{ij}^{(5)}$\n",
    "\n",
    "Можно еще записать, что\n",
    "$\\epsilon_G\n",
    "  = \\frac{2}{5}\\frac{q}{(1 + q)^2} \\left( \\frac{r_s}{2b} \\right)^{\\frac{5}{2}}$,\n",
    "где $q = \\frac{m_1}{m_2}$ - отношение меньшей массы тела к большей, $m_1 < m_2$.\n",
    "Откуда можно видеть, что $\\epsilon_G \\ll 1$, когда $q \\ll 1$ или/и $r_s \\ll b$.\n",
    "\n",
    "<span style=\"color:brown\">**NB:**</span> Но обязательно ли условие $\\epsilon_G \\ll 1$? Обсудим ниже."
   ]
  },
  {
   "cell_type": "markdown",
   "metadata": {},
   "source": [
    "## Переход к полярным координатам от декартовых\n",
    "Повернём систему с помощью матрицы вращения $R_{ij}(\\phi)$ на угол $\\phi$ по **часовой** стрелке"
   ]
  },
  {
   "cell_type": "code",
   "execution_count": 38,
   "metadata": {
    "vscode": {
     "languageId": "wolfram"
    }
   },
   "outputs": [
    {
     "data": {
      "text/html": [
       "<div><img alt=\"Output\" src=\"data:image/png;base64,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\"></div>"
      ],
      "text/plain": [
       "FormBox[TagBox[RowBox[{\"(\", \"⁠\", \n",
       "\n",
       " \n",
       ">         GridBox[{{RowBox[{\"cos\", \"(\", \"ϕ\", \")\"}], RowBox[{\"sin\", \"(\", \"ϕ\", \")\"}]}, \n",
       "\n",
       " \n",
       ">           {RowBox[{\"-\", RowBox[{\"sin\", \"(\", \"ϕ\", \")\"}]}], \n",
       "\n",
       " \n",
       ">            RowBox[{\"cos\", \"(\", \"ϕ\", \")\"}]}}, Rule[RowSpacings, 1], \n",
       "\n",
       " \n",
       ">          Rule[ColumnSpacings, 1], Rule[RowAlignments, Baseline], \n",
       "\n",
       " \n",
       ">          Rule[ColumnAlignments, Center]], \"⁠\", \")\"}], \n",
       "\n",
       " \n",
       ">       Function[BoxForm`e$, MatrixForm[BoxForm`e$]]], TraditionalForm]\n"
      ]
     },
     "execution_count": 38,
     "metadata": {
      "text/html": [],
      "text/plain": []
     },
     "output_type": "execute_result"
    }
   ],
   "source": [
    "RotationMatrix[-\\[Phi]] // MatrixForm // TraditionalForm"
   ]
  },
  {
   "cell_type": "markdown",
   "metadata": {},
   "source": [
    "#### LHS системы после поворота"
   ]
  },
  {
   "cell_type": "code",
   "execution_count": 40,
   "metadata": {
    "vscode": {
     "languageId": "wolfram"
    }
   },
   "outputs": [
    {
     "data": {
      "text/html": [
       "<div><img alt=\"Output\" src=\"data:image/png;base64,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\"></div>"
      ],
      "text/plain": [
       "FormBox[TagBox[RowBox[{\"(\", \"⁠\", \n",
       "      TagBox[GridBox[{{RowBox[{RowBox[{\"-\", \n",
       "\n",
       " \n",
       ">                 RowBox[{\"2\", \" \", SuperscriptBox[OverscriptBox[\"r\", \"^\"], \"′\"], \n",
       "\n",
       " \n",
       ">                   \" \", SuperscriptBox[\"ϕ\", \"′\"], \" \", \n",
       "\n",
       " \n",
       ">                   RowBox[{\"sin\", \"(\", \"ϕ\", \")\"}]}]}], \"+\", \n",
       "\n",
       " \n",
       ">               RowBox[{OverscriptBox[\"r\", \"^\"], \" \", \n",
       "\n",
       " \n",
       ">                 RowBox[{\"(\", RowBox[{RowBox[{SuperscriptBox[RowBox[\n",
       "\n",
       " \n",
       ">                         {\"(\", SuperscriptBox[\"ϕ\", \"′\"], \")\"}], \"2\"], \" \", \n",
       "\n",
       " \n",
       ">                       RowBox[{\"(\", \n",
       "\n",
       " \n",
       ">                         RowBox[{\"-\", RowBox[{\"cos\", \"(\", \"ϕ\", \")\"}]}], \")\"}]}], \n",
       "\n",
       " \n",
       ">                     \"-\", RowBox[{SuperscriptBox[\"ϕ\", \"′′\"], \" \", \n",
       "\n",
       " \n",
       ">                       RowBox[{\"sin\", \"(\", \"ϕ\", \")\"}]}]}], \")\"}]}], \"+\", \n",
       "\n",
       " \n",
       ">               RowBox[{SuperscriptBox[OverscriptBox[\"r\", \"^\"], \"′′\"], \" \", \n",
       "\n",
       " \n",
       ">                 RowBox[{\"cos\", \"(\", \"ϕ\", \")\"}]}], \"+\", \n",
       "\n",
       " \n",
       ">               FractionBox[RowBox[{\"cos\", \"(\", \"ϕ\", \")\"}], \n",
       "\n",
       " \n",
       ">                SuperscriptBox[OverscriptBox[\"r\", \"^\"], \"2\"]]}]}, \n",
       "\n",
       " \n",
       ">            {RowBox[{RowBox[{\"2\", \" \", SuperscriptBox[OverscriptBox[\"r\", \"^\"], \"′\"], \n",
       "\n",
       " \n",
       ">                 \" \", SuperscriptBox[\"ϕ\", \"′\"], \" \", RowBox[{\"cos\", \"(\", \"ϕ\",\\\n",
       " \n",
       ">    \")\"}]}]\\\n",
       ", \"+\", RowBox[{OverscriptBox[\"r\", \"^\"], \" \", \n",
       "\n",
       " \n",
       ">                 RowBox[{\"(\", RowBox[{RowBox[{SuperscriptBox[\"ϕ\", \"′′\"], \" \", \n",
       "\n",
       " \n",
       ">                       RowBox[{\"cos\", \"(\", \"ϕ\", \")\"}]}], \"-\", \n",
       "\n",
       " \n",
       ">                     RowBox[{SuperscriptBox[RowBox[{\"(\", \n",
       "\n",
       " \n",
       ">                          SuperscriptBox[\"ϕ\", \"′\"], \")\"}], \"2\"], \" \", \n",
       "\n",
       " \n",
       ">                       RowBox[{\"sin\", \"(\", \"ϕ\", \")\"}]}]}], \")\"}]}], \"+\", \n",
       "\n",
       " \n",
       ">               RowBox[{SuperscriptBox[OverscriptBox[\"r\", \"^\"], \"′′\"], \" \", \n",
       "\n",
       " \n",
       ">                 RowBox[{\"sin\", \"(\", \"ϕ\", \")\"}]}], \"+\", \n",
       "\n",
       " \n",
       ">               FractionBox[RowBox[{\"sin\", \"(\", \"ϕ\", \")\"}], \n",
       "\n",
       " \n",
       ">                SuperscriptBox[OverscriptBox[\"r\", \"^\"], \"2\"]]}]}}, \n",
       "\n",
       " \n",
       ">           Rule[RowSpacings, 1], Rule[ColumnAlignments, Center], \n",
       "\n",
       " \n",
       ">           Rule[ColumnAlignments, Left]], Column], \"⁠\", \")\"}], \n",
       "\n",
       " \n",
       ">       Function[BoxForm`e$, MatrixForm[BoxForm`e$]]], TraditionalForm]\n"
      ]
     },
     "execution_count": 40,
     "metadata": {
      "text/html": [],
      "text/plain": []
     },
     "output_type": "execute_result"
    }
   ],
   "source": [
    "LHSMotion = D[rh, {OverHat[t], 2}] + Simplify[rh / Norm[rh]^3];\n",
    "LHSMotion // MatrixForm // TraditionalForm"
   ]
  },
  {
   "cell_type": "code",
   "execution_count": 41,
   "metadata": {
    "vscode": {
     "languageId": "wolfram"
    }
   },
   "outputs": [
    {
     "data": {
      "text/html": [
       "<div><img alt=\"Output\" src=\"data:image/png;base64,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\"></div>"
      ],
      "text/plain": [
       "FormBox[TagBox[RowBox[{\"(\", \"⁠\", \n",
       "      TagBox[GridBox[{{RowBox[{RowBox[{\"-\", \n",
       "\n",
       " \n",
       ">                 RowBox[{RowBox[{OverscriptBox[\"r\", \"^\"]}], \" \", \n",
       "\n",
       " \n",
       ">                   SuperscriptBox[RowBox[{\"(\", SuperscriptBox[\"ϕ\", \"′\"], \")\"}], \n",
       "\n",
       " \n",
       ">                    \"2\"]}]}], \"+\", SuperscriptBox[OverscriptBox[\"r\", \"^\"], \"′′\"], \n",
       "\n",
       " \n",
       ">               \"+\", FractionBox[\"1\", SuperscriptBox[OverscriptBox[\"r\", \"^\"],\\\n",
       " \n",
       ">    \"2\"]]}]}\\\n",
       ", {RowBox[{RowBox[{OverscriptBox[\"r\", \"^\"], \" \", SuperscriptBox[\"ϕ\",\\\n",
       " \n",
       ">    \"′′\"]}], \"+\", \n",
       "            RowBox[{\"2\", \" \", SuperscriptBox[OverscriptBox[\"r\",\\\n",
       " \n",
       ">    \"^\"], \"′\"], \" \", \n",
       "              SuperscriptBox[\"ϕ\", \"′\"]}]}]}}, Rule[RowSpacings,\\\n",
       " \n",
       ">    1], \n",
       "        Rule[ColumnAlignments, Center], Rule[ColumnAlignments, Left]],\\\n",
       " \n",
       ">    Column], \"⁠\", \n",
       "      \")\"}], Function[BoxForm`e$, MatrixForm[BoxForm`e$]]],\\\n",
       " \n",
       ">    TraditionalForm]\n"
      ]
     },
     "execution_count": 41,
     "metadata": {
      "text/html": [],
      "text/plain": []
     },
     "output_type": "execute_result"
    }
   ],
   "source": [
    "RotatedLHSMotion = Simplify[RotationMatrix[-\\[Phi][OverHat[t]]] . LHSMotion, Trig -> True] // MatrixForm // TraditionalForm"
   ]
  },
  {
   "cell_type": "markdown",
   "metadata": {},
   "source": [
    "Так как $\\hat{\\omega} \\equiv \\phi^{(1)}$, то"
   ]
  },
  {
   "cell_type": "code",
   "execution_count": 43,
   "metadata": {
    "vscode": {
     "languageId": "wolfram"
    }
   },
   "outputs": [
    {
     "data": {
      "text/html": [
       "<div><img alt=\"Output\" src=\"data:image/png;base64,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\"></div>"
      ],
      "text/plain": [
       "FormBox[TagBox[RowBox[{\"(\", \"⁠\", \n",
       "\n",
       " \n",
       ">         TagBox[GridBox[{{RowBox[{RowBox[{RowBox[{\"-\", OverscriptBox[\"r\", \"^\"]}], \n",
       "\n",
       " \n",
       ">                 \" \", SuperscriptBox[OverscriptBox[\"ω\", \"^\"], \"2\"]}], \"+\", \n",
       "\n",
       " \n",
       ">               SuperscriptBox[OverscriptBox[\"r\", \"^\"], \"′′\"], \"+\", \n",
       "\n",
       " \n",
       ">               FractionBox[\"1\", SuperscriptBox[OverscriptBox[\"r\", \"^\"], \"2\"]]}]}, \n",
       "\n",
       " \n",
       ">            {RowBox[{RowBox[{\"2\", \" \", OverscriptBox[\"ω\", \"^\"], \" \", \n",
       "\n",
       " \n",
       ">                 SuperscriptBox[OverscriptBox[\"r\", \"^\"], \"′\"]}], \"+\", \n",
       "\n",
       " \n",
       ">               RowBox[{OverscriptBox[\"r\", \"^\"], \" \", \n",
       "\n",
       " \n",
       ">                 SuperscriptBox[OverscriptBox[\"ω\", \"^\"], \"′\"]}]}]}}, \n",
       "\n",
       " \n",
       ">           Rule[RowSpacings, 1], Rule[ColumnAlignments, Center], \n",
       "\n",
       " \n",
       ">           Rule[ColumnAlignments, Left]], Column], \"⁠\", \")\"}], \n",
       "\n",
       " \n",
       ">       Function[BoxForm`e$, MatrixForm[BoxForm`e$]]], TraditionalForm]\n"
      ]
     },
     "execution_count": 43,
     "metadata": {
      "text/html": [],
      "text/plain": []
     },
     "output_type": "execute_result"
    }
   ],
   "source": [
    "OmegaReplace = Derivative[n_][\\[Phi]][OverHat[t]] :> Derivative[n-1][OverHat[\\[Omega]]][OverHat[t]];\n",
    "\n",
    "OmegaLHSMotion = RotatedLHSMotion /. OmegaReplace // TraditionalForm"
   ]
  },
  {
   "cell_type": "markdown",
   "metadata": {},
   "source": [
    "### RHS системы после поворота"
   ]
  },
  {
   "cell_type": "code",
   "execution_count": 45,
   "metadata": {
    "vscode": {
     "languageId": "wolfram"
    }
   },
   "outputs": [
    {
     "data": {
      "text/html": [
       "<div><img alt=\"Output\" src=\"data:image/png;base64,iVBORw0KGgoAAAANSUhEUgAAAYkAAAA+CAIAAABRB3CTAAAAzHpUWHRSYXcgcHJvZmlsZSB0eXBlIGV4aWYAAHjabU/bDQMhDPtnio6QFw6Mw/Wo1A06fsNBVVHVErFxXkrqr+cj3QaEKVn2ggpQwKpVaSEKTUxmqlecVl2Kdz9pn4JbWPmbwMc/dt8xWcrPIJIpdGwIrbYa1iCV6XOb/2PVSytlH6S0AR/B//+mLshgt4gm5I4auqSQQchC2fHAHYhCxilk9+AO92iDjwpto3FAuu/VPUHDOMcJOl7WFqwRRWOfstZLD9+U5VjZ65D0BmCiWsKyv9tyAAAACXBIWXMAAA7EAAAOxAGVKw4bAAAAPHRFWHRTb2Z0d2FyZQBDcmVhdGVkIHdpdGggdGhlIFdvbGZyYW0gTGFuZ3VhZ2UgOiB3d3cud29sZnJhbS5jb21coqaFAAAAIXRFWHRDcmVhdGlvbiBUaW1lADIwMjU6MDM6MjQgMTk6MjU6NDH0TJFrAAAgAElEQVR4nO2deVxUVf/Hz+AwUCqbgyEBI6m4IAKxiKQii0KSqSSLRhL6QIoLvdJKBTEhzcrHIDEDfHopaBq4lKkJCiIvTENEBlnEhUaGTRYZFhm2mfP74/Tc333uvXOZ5Q6DNe9/mLPe7/3c7z3ce86557AghECjVFdXT506Va2HcHR0FAqFLBYLAHDu3Lm5c+eq9XBaRhpaB2AKGiUZv5F1GKxLCb777rvBwUFy/BdffGFoaFhaWsrIUezt7VtbW1taWlpaWrR++UKgdQCmGDYlIYTJycmMHAXxP21TWVlZbm4ug7XT8/jx47KyMltbW0J8QUHB7du3L126tGXLlq6uLqXrLykpuXfvHgCAy+Xi44uKih4+fKh0tVrUjdYBmGI4lZw2bVplZaVywkql0oMHD0ql0v+Jhf8lLy/vgw8+gMNIWFjYnTt3yPFZWVkSiQRC2NjYmJ+fr1zlbW1tCQkJEEKpVOrv7//1118HBgYGBAS0t7dDCLdt29bX16eC7UMgkUg++eST9evXr1mz5v333x8YGFDfsYaBvr4+pJuKNDc3y5Ptb+AA9Aybewyzknw+/7333lPuKCUlJaGhof39/VjMX21Ta2vrvHnznj9/rly9StDe3m5tbS2VSilTU1JS1qxZM3369OjoaFl56ElNTf3tt98ghFKp9NGjRyjS09Nz69at+FQ1kZOT4+DggH5PmDDh1KlT6juWQvT09EyfPn3Tpk3yF5FIJFu3bu3t7VX96KWlpf/5z3/kzKyiDwy/A8iv7TC7x3AqOWnSpLa2NuXsPHLkSHx8PBb8651uy5YtgYGBL7/8shLPY8px/vx5Ly8v1KlG4OzZs/v3709LSzt48ODly5e7u7uVqF8gEJiZmQEAWCzWpEmTUKSjo2NVVRUAwMzM7M8//1TB/CHw9vbOz88HAKAr2traqr5jKcTAwEBbW1tLS4v8RRITE5cuXaqnpwcA6Ozs/PjjjxcvXhwaGuri4pKWlqbQ0e3t7Z88eVJRUTFkTtV9YPgdQH5th9M9hllJb2/vX375RVZV9J1fYWFhaWlp1dXVKKgDAGhpaTl58mRISIiiRqtCXl7e66+/TpkUHx+/fPlyHR0db2/v+/fvjx07Von6x44d+/z5cwDATz/99OWXX6LIO3fuuLm5AQCeP3+uXLVyoqOjY2hoCADIz8+XSqUBAQFDFiG+bKsHAwOD+vr6kydPypm/u7v72rVrWK/nsmXLTp06dfr06ePHj2/evDkyMvLnn3+mr4FwXlFRUZ9//vmQx1XdB4bfAeTXVgn3AMp6yDAr+frrr+fl5VHWM2TnF5vNXrZs2aFDh1BQBwBw+fLlBQsWmJqaKmq0KhQXF0+ePJkcf+XKFT6f7+vrq2L98+bNQ/+f3d3db9y4sX379j179tjZ2W3duhUAUFVV9cYbb6h4iCGpqqrat29fcXHxhAkTsEiJRJKYmFhXV4fP6eLicunSJXzM3bt3jx8/rg6r2Gx2b2+vnJnPnDnz5ptvot+9vb1FRUVbtmxBz9cLFixAGWiKk8/rlVde6e7upn9SYMQHNOIACmkrv3sAkpJyusfwK/naa6/duXOHsp7m5ubMzEx3d/cTJ06UlJRQ5lm5cuX/nyaEcOXKlZ988olyr4jKMTg4yOFw+Hw+PrK/v3/VqlUTJ05ksVjBwcEhISGVlZWqHCUpKQnftYbR2dmZmppKWeTGjRsBAQERERG2traLFy+uqKhA8Q8fPly2bFlAQMC7776LnlqxIgKBIDAwMDg42Nvbe+HChUKhEMXfvXs3IiKC3IUXHh5OOPH6+np9fX1yzpMnT3711VeKnPH/QDZMJBIFBwdbWlqGhIRACDs6OtasWTNt2rQ9e/bcvHlzxYoVXC7XxsYG332wYsWKW7du4evEOixEIhEAYOHChbIMkHVeMTExR48epSzCrA8o4QByorq28rsHlKEkvXtoSsmysjJdXV1y7358fLy3t/f48eNbW1tDQ0O5XG59fT25QvTK+eDBA4j6ws3MzFJSUpS2WwkaGxsBALW1teQkDw8PGxsbRo4ikUgePnxIjq+urqbMf/XqVQ6Hc/HiRQhhe3s7l8t1dnaGENbW1o4ZMyYqKgplu3jxIgAgPT0dBefMmbN9+3b029fXt7CwEELY2trq7+8/ODiIFUE/fvzxx7Vr1xKOe/LkST8/P0qT3Nzc7t69K+sEU1JSysvLZaVSGtbR0cHhcND9AyEUi8UcDmf8+PGxsbEikai5uXnmzJkmJiY9PT0oA4/Ha2hooKwfTTeh+a8m67xSU1M3btwoqxRkzgcUdQAMemGhytoq5B5QtpL07gE1oWRtbS0AgNzuDA4OLl261Nvbe9u2bbGxse+88w5lYwchNDMz+/777yGEQCKR6OjoKD1m0dXVFR8f7+PjExYWdvDgQTlL8fl8AADlsLSRkVFoaKhyxqjInDlzZsyYgQXz8/N//fVXCOH69esBAE+ePMGSZs2axePxIIQDAwM6Ojp79uzBiqCr9dlnn40ZM8bMzMzMzMzY2PjTTz9FGdCTOVZPbm7uzp07XV1dFy1a9Oabb5Jbgb179/7rX/+SZfAHH3xw7do1yiRZhkEIjYyMsPsHBZ2cnLDgv//9bwBAaWkphLC9vR0AQDnWLpVKfXx8rKysWlpayKn055WVlTV37lxZJwU16gMIGmEhE9rK6R5wKCXp3QNqQknkM5QtpqOjo6Oj45D/GFxdXT/77DMIIUBv/gUFBUrYIRaL7ezsli9fTnjabG1t3bBhQ1xc3DfffLNhw4bw8HCRSITPcPPmTQAA9s8ZA3X4y9/GMQjq7VuxYgU5ycXFxcTEBB/z3nvvAQDQbTl79uxRo0aFhIQMqWFzczMAoLW1FQXT09PfffddqVRqZ2cnEAi2b98eGBhIKHL16lVzc3NZFdLfQrIMI98/wcHBWDAjIwMAgB4E7t+/r6urS1n59u3bXVxcGhsbyUlDntfly5enTJkiy2wN+gAGvbCQCW3JENwDyqEkvXtoREl0H5HP8fnz52w2m+zhZDw9PdE8DPazZ88AAC+99BK5XwpCmJ2dTY43MzNzcHAAABw/fryiouLatWv4yQcCgWDJkiVJSUleXl4oxsPDg8Ph4Gvo7+8HAIwaNYpQMxpcdHV1pewnUyvoNZNyFKOxsdHIyAgfY2xsDABoaGjgcrlnz57dtWvXsWPHTp06NXfu3DNnzowfP57yEEKhcNSoUSYmJgCA2trajRs3VlRUdHR0sFgsHo9nY2Nz7tw5QhEul9vU1DQ4OMhms1EM/qIIhcKioiLU+YpdFAz5DcPP5MD/7ujowI6LJzY2trKy8vr162S3kee82Gx2R0cHpSVAcz4gv7CACW3J4N0DyKck2T3waERJdFP39fUR4ouLiwcHB+WZDPDSSy+hRkmnra0NyG6bLlOBTU8oKSnhcDj+/v5ubm5ubm5lZWUAgLVr1wYFBWENEwDg/fffJ9QPIQRUl6q0tJTD4djb2w95AoyDhimfPn1KTpowYQLhXkLdwObm5v39/cbGxmlpaY8ePYqIiCgsLIyLi5N1iMHBQV1dXXTWGRkZtra2FhYWv//+u5+fHwDgzz//tLGxIRTR09OTSqX4wWP8RUG3EOGiIBQyjMZgHR3iF5cxMTG1tbWnT5+m9Bl5zktHR4fyI0qEpnxATmEBQ9qSwbsHkE9Jsnvg0YiSyGEgaQWBmzdvstnsRYsWDVnDSy+9hBqlv4Y8yY8w6DCJiYk0tbz88stOTk6FhYVYDJ/Pz8/PT09Px2cLDw8nFNTV1QUASCQS9AOjtLTUwcEBTfMbZgwMDHg8XkFBgVgsxu66xMTEDz/80NnZ+fbt20Kh0NLSEsXz+XwrKysul3v//v3Dhw8nJSVZWVmlpqaWl5djM8fImJqa9vb29vf3czicmpoaVFthYaG/v79UKs3Kyjpw4AChSGdnp6GhIf6pE39R1q1bFxISgsbyCdTU1MhvmCwMDQ0lEgk+5tixY2VlZefPn8duIaFQaGBggGbroOMOeV4DAwNYfjKa8gE5hQUMaUsG7x5APiXJ7oFHI0qi/zrkg966dcvZ2XnMmDFD1sBms8ViMVBxHQI/Pz8+ny8UCrGYK1euTJ8+/dVXX6UvqK+vDwAYGBggxJeWlmrkhQ6xa9eu7u7uiIgIkUjU09Nz6NChhoYGAMC2bdtGjx799ddfo2zZ2dl8Pj8hIQEAMG7cuCNHjqCxCalU2tDQ4OnpKat+KysrExMT1AtgY2Pz4MEDAEBFRYW7u/u3337r6emJ/j3iEQgEyv3fozGM8J+WEESNEYoxNjbGP5y3tbVFR0f7+fnl5ORkZ2dnZ2efPXs2NDQU/2wlz3mJxWL0UkyJZn1AHhjRlgzePYB8StK7h0aURDc1usHx3Lp1S1ZbL5Nr164BAKqqqpTr+kpJSZk9e/bq1as3bNjw22+/rV+/3tfXF0vNyMhITk5OTk5++vQpvpRAIAAAEAYdUA//iRMnyEcpLy+PiIhYs2ZNb29vSEgIYeiBPlUhfvzxRycnJyMjo8mTJ+/atQt9JwkhrK6ufvvtt4OCglavXu3t7X3u3DkUL5VK9+3bN2fOnLCwMF9f3x07dsgaGUWEh4cfOXIEQtjd3R0UFBQZGenq6rp79270ETY5/+bNm5OSkmTVRtNlS2lYXV1dZGQkAGDcuHFxcXGEIIQwKyvLyckJAODl5XX16lUIoZGRUXd3N6oTm7CLx83NDX9cec7r2LFjsq6Rcj7Q3d0dFxfH4/HQkOKmTZvS0tJkiSYP9H3hTGlLBnMPKJ+SNO4hS0l6rVRXsr6+HgBQU1ODjxQIBObm5nl5efLUEBwc7OHhASFUtW0iEBsbO3/+fHyMqalpZmYmIVtvby+LxSJMBkNfGNXV1VHWXFNTY2FhkZyc3NnZSR7Vpk8dOQgEAi8vL6zJKygoIIuD0dbWNn/+fLFYPFzWUeDp6Uk5sYUe+vPau3fvgQMHKJOU9gGpVGpkZPT48WMIobOzM5q898JBcA9IqyS9e9AoSa+VikpWVVWxWCzyELz8YG0Tw2vLBQYG3rt37/HjxyhYVVXV2dnp7+9PyKanp8fj8Qgdz6WlpXZ2drLeB62trfX09CZNmjR27FjyCzZ96siBx+MlJCRgvQYlJSWyvifo7+//6quv0tPTyY/Hw4mPj4+szwtooDkvAEBlZaWPjw9lktI+wGKxbGxsGhsbm5qaXFxcpkyZoqjNIwGCewDZSg7pHjRK0mulopJPnz61tLSkHCdRFIbbplmzZl24cCEhISExMTE9Pf348eM7duygXN7AwcHhyZMnAID29nY/P7+mpqbi4uINGzbIqlkkErHZbDTSr2jqiMLd3T0wMBD1Vujq6hoYGFBmu3///o4dO3g83vBaR2TlypUXLlxQtBTNefX39zc2NtrZ2eEjGfEBS0vLZ8+epaen7969W1GDRw549wCylZTlHnIqSa+VKkrW1tYyNTJIMS1CRdzd3d3d3YfM5uHhgVbS09PT6+vrCwgImDdvXkREBDmnSCTS1dU9fPjwRx99lJub6+Pj09PTY21tPXXq1OvXrxsYGJBT1b0AuYpgLhUVFSUrz6xZs4bLHDqsra319fXr6uosLCzkL0VzXpmZmevWrSNEqugDVlZWAIAJEyaUlZWZmZkN81frjINvcWQpKcs9hlQSQdCqv7+fKSXLy8vnz5+vaClqmO1vkp+amho7Ozt5csbHxzs5OVVUVLS3t9vZ2e3duxfFOzg4FBUVyUrVwhQtLS1MfQre3t4eHR2tREF6H0C/4+LiZs+ejX2kpoUGslZMKeng4KBEByUedfWFK4Snp6dAIFCubGdnp0KLN2pRhQcPHjQ1Nalez+3btxlZPxNB8IHIyMicnBymKv97Q9CKKSWFQiFqVlRBXX3hCrFz586jR48qV7arqwt9OallGJgyZcorr7yiej3Ozs4MTgXEfKCoqGhwcJDL5S5cuJCpyv+uUGrFlJJHjx6NjY1lylTm+5vkx9PT8+eff25tbSVs3iAP5ubm6jBJywsE8gGpVLpq1SpnZ2fK6Vda8MjSihElnz171tzcLGsEVgk02TYBAL788suioiLGOs+0/PPQ0dF59OiRpq14MaDXSkUlKyoqsBV7GUHDbZO+vr62YdKi5W/AvHnzmK1Qw/v6atGiRQsl2rZJixYtIxFt26RFi5aRiLZt0qJFy0hE2zZp0aJlJKJtm7Ro0TIS0bZN/1wcHR25XK6pqampqSl+YWUtzPJi6TxyrH2x2yZG1ml+sfjiiy8MDQ3JC+wrgb29fWtra0tLS0tLy9y5c1Wv8AWF0oteIJ0ZNBXQWksQSt13n1rapuzs7OXLl8uzUooqfPfddzTbdfwtKSgouH379qVLl7Zs2dLV1aVcJSUlJWh1GvKnQkVFRQ8fPlTVyhcKSi9iRGfwX6nVqjOzpgKSV+BNhRAmJydjSYQg46ilbfL19Q0PD1dFqSF5/PhxWVmZra2t+g4xAmlubj59+vQbb7xx4sQJJZajBAA8e/bs0qVLaHWa+/fv79+/Pygo6J133kG7Wrm6uv7www9o98B/ArK8SHWdwX+lnjlzplp1ZtBUSq/Amzpt2rTKykqsqSIEmUdNa6RcuHBh5syZzNaJJyws7M6dO+qrXx76+voot01XgubmZkbqGZLU1FS0v7xUKn306BGK9PT03Lp1KyGDZmFKW3ph1epFSMkRrjOC3ivwpvL5/Pfeew8rSAgywohYI0VpRCJRQUGBo6OjBm2QSqUxMTGMrIsMAGhoaPjhhx/kyZmamrp27doZM2Z8+OGHkLRD4ZAIBAIzMzMAAIvFmjRpEop0dHSsqqpCv83MzLBtiBhBLBbPmDFj8+bN8hdhUFsaYYf0IkakHgadVbQTDOUVeFNnzZr1+++/o313yUEyqvSFvZBt0/nz5728vLDtGzs7Oz/++OPFixeHhoa6uLikpaUNgw2JiYlLly5FqxGpboC9vf2TJ08qKiros509e3b//v1paWkHDx68fPlyd3e3ogcaO3Ys2rH+p59+wr4av3PnjpubG/r9/Plzyo3XlWZgYKCtra2lpUX+Ipi2ahWW4EUEmJJa3TqrbicYyisIpnp7e//yyy+ygnhU7Qt7Ed/pwsLCDh06hAU9PT0tLCyeP38OIURbCmP7x6mJrq6ut956S0UD8Fv9QAibmppCQkLoi9jb26u4PG5hYWFKSgqEsLa2dsmSJdu2bfv88883btyIbSUUFxdH2FxMdQYGBuTPjNdWrcISvIgAU1KrW2fV7YRDeQXB1O+//x6/OSAhiCcrKwtdi8bGxvz8fDmNUfuavGptm2xtbbOzs9FvsVg8evTob775BgXRBhWqbJ8pD0ePHsXcWjkDnJ2df/31V0LkW2+91dLSIqtITk4OACA3N1cFwyGEMCkpSdYGn52dnampqSrWT4n8u+xh2qpbWLwXEVC31EzpzJSdUBFTc3Jypk+fLitIQCKRUG4KS4N626bc3NxVq1YZGBgcPnyY8V7ewcFBDofD5/OxGIFAgJ0/GgdZuHAhZdkbN24EBARERETY2touXry4oqICxT98+HDZsmUBAQHvvvsuekbFVx4YGBgcHOzt7b1w4UKhUAghXLFixa1bt5QwAFFfX6+vr48eB/DExMQcPXqUnL+/v3/VqlUTJ05ksVjBwcEhISGEbUcVQiKRyFptvrq6WulqIZVWIpEoODjY0tISPbl0dHSsWbNm2rRpe/bsuXnz5ooVK7hcro2NDb5XGK+t+oQlexFieKRWUWfItJ1QEVPLysp0dXWxZ2FCECM+Pt7b23v8+PGtra2hoaFcLre+vl4eS0bEXgbKgbYnq62tpUzNzc0FAFA+5V69epXD4Vy8eBFC2N7ezuVynZ2dIYS1tbVjxoyJiopC2S5evAgASE9PR8E5c+Zs374d/fb19S0sLIQQ8ng8wobp8hiAcfLkST8/P3J8amrqxo0bZZXy8PCwsbGhqXYYSElJKS8vl5VKqVVHRweHw8HeqsRiMYfDGT9+fGxsrEgkam5unjlzpomJCbYTrCxtmRWW3otGgtTyoBE70QMs1tAQghiDg4NLly719vbetm1bbGzsO++8I+tpncCIaJu6urri4+N9fHzCwsIOHjwoZyk+nw8AoBxglkqlPj4+VlZWlG9Gc+bMmTFjBhbMz89HD//r168HADx58gRLmjVrFo/HgxAODAzo6Ojs2bMHK1JdXY12mqfc2ZzeAAhhbm7uzp07XV1dFy1a9OabbxJuwqysrLlz58o6cSMjI3W/qw7JBx98cO3aNcokSq3QbyMjI3yPj5GRkZOTExZEq+iXlpZCCGVpy7iwNF4ER4bU8qARO9E1unv3LmUQj6Ojo6Ojo6IPiVjbpLE1eXt7e93d3SdPnvzLL78QNv5ta2vbtWvXuHHjjI2NHz161NPT88033xgaGqLUnp4eAADldh0xMTEdHR1//PEHeSZuT08PeonAYjw8PNCP4uJiExMTtGsgwt7ePiMjA22y4OLiEhcXd+/evaioKFSkurpaV1eXcmdzGgMAABkZGdnZ2RkZGT///HNmZmZKSkp0dHRmZiaWYezYsYR92DEEAoFIJJo9ezZl6kiAzWaTtZLF5MmTsd/jx48HAKABpqdPn1Jqy7iwNF408qVGaMpOdHXQuB45iNHT03Pv3r3ly5fb2NgodyAF2iYIYXZ2NjnezMzMwcEBC4aEhBAyBAQEBAUFESKPHz9eUVFx7do1QsMkEAiWLFmSlJTk5eWFYjw8PPDOiqaojho1ilBhbGxsZWXl9evXKefFoGd4ylHbxsZGIyMjfIyxsTEAoKGhgcvlnj17dteuXceOHTt16tTcuXPPnDnT0dHBZlPoRm9AbW3txo0bKyoqOjo6WCwWj8ezsbE5d+4cPg+bze7o6CCXBQCgGSKurq6UqWoFf92FQmFRUVFvby8gXXcAAFkr1O6QwY/c439TaqsOYWV5EdCc1HLeXxiashOJ1tfXRxnEKC4uHhwcJLcG8sOWNb+DDITw8uXL5HgHBwe8dtu3bydkoNzarKSkhMPh+Pv7o2BqairaRnnt2rVBQUFYwwQAeP/99/FOCSEE/+vQAICYmBihUHj69GnKVgMAgHZPpnwqmTBhQk1NDT4Gdbuam5v39/cbGxunpaXt3Lnz888/T0tLi4uLW716tY4OcV7YkAZkZGTY2tpaWFhcunTJz88PAPDnn38S/qXo6OjI+kKwtLSUw+EwtdO8QuCvO2qbGhoaAOm6U2r1/fffK3SswcFBgrZqEpbSixCaklrO+wtDU3aiCwT/O8mTEMS4efMmm81etGiREodA14U9ZswYAMDAwIA8NiUmJg6ZTU6xXn75ZScnJ8IiDHw+Pz8/H81kwQgPD8cHdXV1AQASiQT9AAAcO3asrKzs/PnzmKsJhUIDAwPsNRAAYGBgwOPxCgoKxGIx1tIlJiZ++OGHzs7Ot2/fFgqFlpaWmBlWVlZcLvf+/fuHDx9OSkqysrJKTU0tLy+vrq42NDSUSCR4k+QxoKamBtVfWFjo7+8vlUqzsrIOHDiAr2dgYABfBE9paamDgwODG0/KD/66r1u3LiQkZMGCBeRsNTU1ZK0UPRZBW/UJS/YiDE1JLef9haEpO1Erjx2XEMS4deuWs7Mzal4Uor+/H73f6JiYmAAAxGKxihYrip+fH5/PFwqF+MgrV65Mnz791VdfpSmor68PcI1pW1tbdHS0n59fTk5OdnZ2dnb22bNnQ0NDyY82u3bt6u7ujoiIEIlEPT09hw4dQv//t23bNnr06K+//hply87O5vP5CQkJAIBx48YdOXIEjURIpdKGhgZPT09jY2P8E6ycBtjY2Dx48AAAUFFR4e7u/u2333p6eqL/8xhisRi9TpIpLS3VyAud/FBqhZKkUqlUKsVyEoKoMUIxeG3VKizBi/CMfKkRmrITiYYEJAcxbt26Rfk/bEjEYjFqlAB6D5d/1iaDpKSkzJ49e/Xq1Rs2bEAzXNavX+/r64tlyMjISE5OTk5Ofvr0KRYpEAgAANhADOUepG5ubpRH/PHHH52cnIyMjCZPnrxr1y5sAnF1dfXbb78dFBS0evVqb29vbPKxVCrdt2/fnDlzwsLCfH19d+zYgcZBjYyMuru7FTKgu7s7KCgoMjLS1dV19+7dBw8eJM9JO3bsGOWwCxoKOXHiBDmpvLw8IiJizZo1vb29ISEh+OLd3d1xcXE8Hg8Ne23atCktLY1SFvmhGaej1Kquri4yMhIAMG7cuLi4OEIQQpiVleXk5AQA8PLyunr1KsRpq1ZhCV6EIUtqGjHVofOQ0LgEpPUKmiQ5qa+vBwBgM8UJQYRAIDA3N8/Ly1O0cgihh4fHRx99BCEEEEJdXV38bEMNEhsbO3/+fHyMqalpZmYmPqa3t5fFYqk400xFPD09ZU1fpKegoIBwOnj27t174MABcnx+fj4AoK6ujrJUTU2NhYVFcnJyZ2cnYfRdKpUaGRk9fvwYQujs7PzgwQMlbB5mlNNWUWFleRGN1DRiDr/O9C4Bab2CJkkeqqqqWCwWNh+NEFQdR0dHNBNFBwAwceJEZj89V5rAwMB79+49fvwYBauqqjo7O7H+coSenh6Px5M11j48+Pj4KLdWTklJia+vr6zUyspKyu3kS0tL7ezsZL3qWltb6+npTZo0aezYsYTRdxaLZWNj09jY2NTU5OLiMmXKFCVsHmaU01ZRYWV5EY3UNGIOv870LgFovYImSR6ePn1qaWmJddoSgqpTU1MzceJEgNYhWLRoEYM7ykul0k8//TQqKmrt2rXh4eEKLU05a9asCxcuJCQkJCYmpqenHz9+fMeOHYRJBgAABweHJ0+eMGWwEqxcufLChQtKFNTV1TUwMKBM6u/vb2xstLOzw2La29v9/PyampqKi4s3bNggq06RSMRms9EkCQ7RnsYAAAMASURBVDKWlpbPnj1LT0/fvXu3EgYPP8ppq5CwCLwXySk1jZjDo7OcdgJar6B3mCGpra3Fj3cRgirS2tra1dW1cOFCgOY3LV68ODY2lqnac3Nzc3Jy7t69CwAwNzc/c+ZMcHCw/MXd3d2HXMzXw8MDrR+qKaytrfX19evq6iwsLBQqGBUVJSspMzNz3bp1+Bg9Pb2+vr6AgIB58+ZFRESQi4hEIl1d3cOHD3/00Ue5ubk+Pj49PT3W1tZTp069fv06mk06YcKEsrIyMzMzNIti5KOctgoJi8B70ZBSI/Bi9vf3D7/O8thJ9oqOjo4lS5Zcv37dwMCA7DBTp05VyIby8vL58+fLCqrIjRs3nJ2d/9IQQtjT0zN69GimenAkEolIJIIQSqXSV155JTk5mZFq8dTU1KD1QzVIS0uL6mtTYLS3t0dHRytaKj4+3snJqaKior293c7Obu/evSjewcGhqKgI/Y6Li5s9e/bg4CBTpg4DDGpLI6wSXkQQc2TqTOkVyFRZDqMQDg4O+A5BQlBFAgMDExIS0G+A/nz55ZcxMTFMHQCRl5dnamoq65tYFfH09BQIBOqoWX4ePHjQ1NTESFW3b9/u7e1lpKrOzs5NmzZhwcjIyJycHEZqHk6Y0pZeWEW9CC/mC6QzwVRVEAqF6GM3yqCKdHR0vPbaa+jJBmJt08DAwIIFC9BAAyNUVlYuWrQI/wEts+Tl5X322WdqqvyFpr6+Hk10+OOPPwYGBnbs2KFpi0Yu8nsRWcwXSGfMVNVJSEi4cuWKrKCKREdHZ2VlYUGA/aqrqwsLC2NkLPDu3bsRERHkZXSYZfPmzTQrsf3DkUgkkyZNCg4Obm1t1bQtIxp5vIhGzH+Uzm1tbfjnL0JQRU6ePElYjATgA52dnTdv3lTxGK2trf7+/tiLN1ovSR2IxeLr16+rqXIt/xC0XiQ/BQUF+GcXQlAVJBIJmnmLhwWV2piBht27d+/fvx99R9PX1xcZGblv3z5mD6FFi5a/Pcy3TVq0aNGiOv8HUZnF5LfGTA8AAAAASUVORK5CYII=\"></div>"
      ],
      "text/plain": [
       "FormBox[TagBox[RowBox[{\"(\", \"⁠\", \n",
       "\n",
       " \n",
       ">         TagBox[GridBox[{{RowBox[{OverscriptBox[\"r\", \"^\"], \" \", \n",
       "\n",
       " \n",
       ">               RowBox[{\"(\", RowBox[{\"-\", SubscriptBox[\"ϵ\", \"G\"]}], \")\"}], \" \", \n",
       "\n",
       " \n",
       ">               RowBox[{\"(\", RowBox[{RowBox[{RowBox[{\"sin\", \"(\", \n",
       "\n",
       " \n",
       ">                       RowBox[{\"2\", \" \", \"ϕ\"}], \")\"}], \" \", \n",
       "\n",
       " \n",
       ">                     TemplateBox[List[SubscriptBox[OverscriptBox[\"f\", \"^\"], \n",
       "\n",
       " \n",
       ">                        RowBox[List[\"x\", \",\", \"y\"]]], \"\\\"(5)\\\"\"], \"Superscript\", \n",
       "\n",
       " \n",
       ">                      Rule[SyntaxForm, SuperscriptBox]]}], \"+\", \n",
       "\n",
       " \n",
       ">                   RowBox[{RowBox[{SuperscriptBox[\"cos\", \"2\"], \"(\", \"ϕ\", \")\"}], \n",
       "\n",
       " \n",
       ">                     \" \", TemplateBox[List[SubscriptBox[OverscriptBox[\"f\", \"^\"], \n",
       "\n",
       " \n",
       ">                        RowBox[List[\"x\", \",\", \"x\"]]], \"\\\"(5)\\\"\"], \"Superscript\", \n",
       "\n",
       " \n",
       ">                      Rule[SyntaxForm, SuperscriptBox]]}], \"+\", \n",
       "\n",
       " \n",
       ">                   RowBox[{RowBox[{SuperscriptBox[\"sin\", \"2\"], \"(\", \"ϕ\", \")\"}], \n",
       "\n",
       " \n",
       ">                     \" \", TemplateBox[List[SubscriptBox[OverscriptBox[\"f\", \"^\"], \n",
       "\n",
       " \n",
       ">                        RowBox[List[\"y\", \",\", \"y\"]]], \"\\\"(5)\\\"\"], \"Superscript\", \n",
       "\n",
       " \n",
       ">                      Rule[SyntaxForm, SuperscriptBox]]}]}], \")\"}]}]}, \n",
       "\n",
       " \n",
       ">            {RowBox[{RowBox[{\"-\", FractionBox[\"1\", \"2\"]}], \" \", \n",
       "\n",
       " \n",
       ">               OverscriptBox[\"r\", \"^\"], \" \", SubscriptBox[\"ϵ\", \"G\"], \" \", \n",
       "\n",
       " \n",
       ">               RowBox[{\"(\", RowBox[{RowBox[{RowBox[{\"sin\", \"(\", \n",
       "\n",
       " \n",
       ">                       RowBox[{\"2\", \" \", \"ϕ\"}], \")\"}], \" \", \n",
       "\n",
       " \n",
       ">                     RowBox[{\"(\", RowBox[{TemplateBox[List[SubscriptBox[\n",
       "\n",
       " \n",
       ">                            OverscriptBox[\"f\", \"^\"], \n",
       "\n",
       " \n",
       ">                            RowBox[List[\"y\", \",\", \"y\"]]], \"\\\"(5)\\\"\"], \n",
       "\n",
       " \n",
       ">                          \"Superscript\", Rule[SyntaxForm, SuperscriptBox]], \"-\", \n",
       "\n",
       " \n",
       ">                         TemplateBox[List[SubscriptBox[OverscriptBox[\"f\", \"^\"], \n",
       "\n",
       " \n",
       ">                            RowBox[List[\"x\", \",\", \"x\"]]], \"\\\"(5)\\\"\"], \n",
       "\n",
       " \n",
       ">                          \"Superscript\", Rule[SyntaxForm, SuperscriptBox]]}], \")\"}]}\\\n",
       "\n",
       " \n",
       ">   ], \"+\", RowBox[{\"2\", \" \", RowBox[{\"cos\", \"(\", RowBox[{\"2\", \" \", \"ϕ\"}], \")\"}], \n",
       "\n",
       " \n",
       ">                     \" \", TemplateBox[List[SubscriptBox[OverscriptBox[\"f\", \"^\"], \n",
       "\n",
       " \n",
       ">                        RowBox[List[\"x\", \",\", \"y\"]]], \"\\\"(5)\\\"\"], \"Superscript\", \n",
       "\n",
       " \n",
       ">                      Rule[SyntaxForm, SuperscriptBox]]}]}], \")\"}]}]}}, \n",
       "\n",
       " \n",
       ">           Rule[RowSpacings, 1], Rule[ColumnAlignments, Center], \n",
       "\n",
       " \n",
       ">           Rule[ColumnAlignments, Left]], Column], \"⁠\", \")\"}], \n",
       "\n",
       " \n",
       ">       Function[BoxForm`e$, MatrixForm[BoxForm`e$]]], TraditionalForm]\n"
      ]
     },
     "execution_count": 45,
     "metadata": {
      "text/html": [],
      "text/plain": []
     },
     "output_type": "execute_result"
    }
   ],
   "source": [
    "RHSMotion = -Subscript[\\[Epsilon], G] FullSimplify[RotationMatrix[-\\[Phi][OverHat[t]]] . fh5rh, Trig -> True];\n",
    "RHSMotion // MatrixForm // TraditionalForm"
   ]
  },
  {
   "cell_type": "markdown",
   "metadata": {},
   "source": [
    "<span style=\"color:brown\">**NB:**</span> Полученные выражения <span style=\"color:green\">**совпадают**</span> с уравнениями (10) и (9) из файла Binary.pdf"
   ]
  },
  {
   "cell_type": "markdown",
   "metadata": {
    "vscode": {
     "languageId": "wolfram"
    }
   },
   "source": [
    "## Получим теперь **энергетическую** систему уравнений\n",
    "\n",
    "В задаче двух тел без учёта гравитационного излучения в системе центра масс в полярных координатах радиус-вектор $\\hat{r}_k$ задаётся как:\n",
    "$$\n",
    "\\hat{r}_k = \\hat{r} e_{1k} \\quad,\n",
    "$$\n",
    "где:\n",
    "- $\\hat{r}$ — расстояние между телами,\n",
    "- $e_{1k}$ — единичный вектор в направлении $\\hat{r}_k$.\n",
    "\n",
    "Скорость в полярных координатах выражается как:\n",
    "$$\n",
    "\\hat{r}_k^{(1)} = \\hat{r}^{(1)} e_{1k} + \\hat{r} \\phi^{(1)} e_{2k} \\quad,\n",
    "$$\n",
    "где:\n",
    "- $\\hat{r}^{(1)}$ — радиальная скорость\n",
    "- $\\hat{\\omega} \\equiv \\phi^{(1)}$ — угловая скорость\n",
    "- $e_{2k}$ — единичный вектор, перпендикулярный $e_{1k}$.\n",
    "\n",
    "### **Кинетическая энергия**\n",
    "Кинетическая энергия $T$ в полярных координатах выражается через радиальную и тангенциальную составляющие скорости:\n",
    "$$\n",
    "T = \\mu\\frac{b^2}{2 t_0^2} (\\hat{r}_k^{(1)})^2 = \\mu\\frac{b^2}{2 t_0^2} \\left( (\\hat{r}^{(1)})^2 + \\hat{r}^2 \\hat{\\omega}^2 \\right) = \\frac{G \\mu M}{b} \\frac{1}{2}\\left( (\\hat{r}^{(1)})^2 + \\hat{r}^2 \\hat{\\omega}^2 \\right)\n",
    "$$\n",
    "\n",
    "### **Потенциальная энергия**\n",
    "Потенциальная энергия $U$ зависит только от расстояния $\\hat{r}$:\n",
    "- Для гравитационного взаимодействия:\n",
    "  $$\n",
    "  U = -\\frac{G m_A m_B}{b \\hat{r}} = -\\frac{G \\mu M}{b \\hat{r}}.\n",
    "  $$\n",
    "\n",
    "### **Полная энергия**\n",
    "Полная энергия $E$ в полярных координатах:\n",
    "$$\n",
    "E = T + U = \\frac{G \\mu M}{b}\\left(\\frac{(\\hat{r}^{(1)})^2}{2} + \\frac{\\hat{r}^2 \\hat{\\omega}^2}{2} - \\frac{1}{\\hat{r}}\\right) = \\frac{G \\mu M}{b} \\hat{E}\n",
    "$$\n",
    "\n",
    "Здесь $\\hat{E}$ - безразмерная энергия:"
   ]
  },
  {
   "cell_type": "code",
   "execution_count": 47,
   "metadata": {
    "vscode": {
     "languageId": "wolfram"
    }
   },
   "outputs": [
    {
     "data": {
      "text/html": [
       "<div><img alt=\"Output\" src=\"data:image/png;base64,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\"></div>"
      ],
      "text/plain": [
       "FormBox[RowBox[{RowBox[{FractionBox[\"1\", \"2\"], \" \", \n",
       "\n",
       " \n",
       ">          SuperscriptBox[OverscriptBox[\"r\", \"^\"], \"2\"], \" \", \n",
       "\n",
       " \n",
       ">          SuperscriptBox[OverscriptBox[\"ω\", \"^\"], \"2\"]}], \"+\", \n",
       "\n",
       " \n",
       ">        RowBox[{FractionBox[\"1\", \"2\"], \" \", \n",
       "\n",
       " \n",
       ">          SuperscriptBox[RowBox[{\"(\", SuperscriptBox[OverscriptBox[\"r\", \"^\"], \"′\"], \n",
       "\n",
       " \n",
       ">             \")\"}], \"2\"]}], \"-\", FractionBox[\"1\", OverscriptBox[\"r\", \"^\"]]}], \n",
       "\n",
       " \n",
       ">      TraditionalForm]\n"
      ]
     },
     "execution_count": 47,
     "metadata": {
      "text/html": [],
      "text/plain": []
     },
     "output_type": "execute_result"
    }
   ],
   "source": [
    "Energy = (D[OverHat[r][OverHat[t]], OverHat[t]])^2/2 + (OverHat[r][OverHat[t]] OverHat[\\[Omega]][OverHat[t]])^2/2 - 1/OverHat[r][OverHat[t]];\n",
    "Energy // TraditionalForm"
   ]
  },
  {
   "cell_type": "markdown",
   "metadata": {},
   "source": [
    "### **Момента импульса**\n",
    "Момент импульса $J$ в системе центра масс:\n",
    "$$\n",
    "J = \\mu\\frac{b^2}{t_0} \\hat{r}^2 \\hat{\\omega} = \\mu(G M b)^{1/2} \\hat{r}^2 \\hat{\\omega} = \\mu(G M b)^{1/2} \\hat{J}\n",
    "$$\n",
    "\n",
    "Здесь $\\hat{J}$ - безразмерный момент импульса:"
   ]
  },
  {
   "cell_type": "code",
   "execution_count": 49,
   "metadata": {
    "vscode": {
     "languageId": "wolfram"
    }
   },
   "outputs": [
    {
     "data": {
      "text/html": [
       "<div><img alt=\"Output\" src=\"data:image/png;base64,iVBORw0KGgoAAAANSUhEUgAAAB4AAAAVCAIAAADelck2AAAAzXpUWHRSYXcgcHJvZmlsZSB0eXBlIGV4aWYAAHjabU/bDQMhDPtnio6QFw6Mw/Wo1A06fsOBWlHVErHjPIDUX89Hug0IU7LsBRWggFWr0kIUmpjMVK84k75qvPuJ8/JbWPlbwBrgY/cdk6X8LCKZQscNodXWwFqkMn1uMz9Wv7RS9kVKG0Cfp//NTV2QwW4RTcgdNXRJIYOQhbLjgTsQjYxTyO7BHe4xBh8d2sbggHTfu3uChnGOL+g4WVuwRhSN+5S1Xnr4pizHql4fSW9Q31q06uPRcwAAAAlwSFlzAAAOxAAADsQBlSsOGwAAADx0RVh0U29mdHdhcmUAQ3JlYXRlZCB3aXRoIHRoZSBXb2xmcmFtIExhbmd1YWdlIDogd3d3LndvbGZyYW0uY29tXKKmhQAAACF0RVh0Q3JlYXRpb24gVGltZQAyMDI1OjAzOjI0IDE5OjI1OjQx9EyRawAAAhZJREFUOI3tlD/s6VAUx+/vpSaNIAhdrYZKGExEExK6iNisZoNBrAYxS0wGiaUEo8UgbSJ0q8mfhKQWEikDOgjt/Q1tvB9PpZL3tvedTs89+Zxv7j09XxBC8EqyLBcKhdPpdLlcZFmu1WoIgrys1BTUUL/fx3FciV0uV7PZ1KrU0i+tlgRB0DSt9JZlWRCEzyz/dF0qlUwmE8dxT80Hg4Hdbt9sNp+6VtEMwyQSieFwGA6Hj8fj/Xg6nUYikfV6/Z7y0paKbrfbkiRBCLfbLU3TSpLjuEwmI4rie66WrYdnlCRJlmUlFgQhHo/fbjfls9fraaFf2vqNLhaLBEE4HA5BENLptM1my+VyKIo6nU6n02mxWPL5/Hvvf+oLQggAkCQpmUyez2e/348gyGw2oyjKYDB8PBUvJ8Tr9Xq93sViod9XtVpttVo/M5VKZTQaPVyIKIoIgqRSKf3cdrtNkuRTkmXZaDT6gGYYBgDQ7XZ1cvf7vdVqvRv0eDzX6xVCOBwOURRVkurfOB6PEQSJRCI6r7HRaBiNxkAgAADgeR7HcWXDzOfz+6pR0SzL+nw+FEV1oieTidvtvtsiCEKJ6/V6PB5/RodCIZ1cAACGYYfDAQBwvV47nY7ZbAYAUBS1Wq3K5bJaBCHkeR7DsMFgoP8Nd7tdMBiMxWLZbHY+n8disUQiQZLkcrm816hz/S+kuVT/o/+6vgEU/V8JParcngAAAABJRU5ErkJggg==\"></div>"
      ],
      "text/plain": [
       "FormBox[RowBox[{SuperscriptBox[OverscriptBox[\"r\", \"^\"], \"2\"], \" \", \n",
       "\n",
       " \n",
       ">        OverscriptBox[\"ω\", \"^\"]}], TraditionalForm]\n"
      ]
     },
     "execution_count": 49,
     "metadata": {
      "text/html": [],
      "text/plain": []
     },
     "output_type": "execute_result"
    }
   ],
   "source": [
    "AngularMomentum = (OverHat[r][OverHat[t]])^2 OverHat[\\[Omega]][OverHat[t]];\n",
    "AngularMomentum // TraditionalForm"
   ]
  },
  {
   "cell_type": "markdown",
   "metadata": {},
   "source": [
    "Отсюда $\\frac{1}{\\hat{r}^{(1)}}\\left(\\frac{d\\hat{E}}{d\\hat{t}} - \\hat{\\omega} \\frac{d\\hat{J}}{d\\hat{t}}\\right)$"
   ]
  },
  {
   "cell_type": "code",
   "execution_count": 50,
   "metadata": {
    "vscode": {
     "languageId": "wolfram"
    }
   },
   "outputs": [
    {
     "data": {
      "text/html": [
       "<div><img alt=\"Output\" src=\"data:image/png;base64,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\"></div>"
      ],
      "text/plain": [
       "FormBox[RowBox[{RowBox[{\"-\", RowBox[{RowBox[{OverscriptBox[\"r\", \"^\"]}], \" \", \n",
       "\n",
       " \n",
       ">            SuperscriptBox[OverscriptBox[\"ω\", \"^\"], \"2\"]}]}], \"+\", \n",
       "\n",
       " \n",
       ">        SuperscriptBox[OverscriptBox[\"r\", \"^\"], \"′′\"], \"+\", \n",
       "\n",
       " \n",
       ">        FractionBox[\"1\", SuperscriptBox[OverscriptBox[\"r\", \"^\"], \"2\"]]}],\\\n",
       " \n",
       ">    TraditionalForm]\n"
      ]
     },
     "execution_count": 50,
     "metadata": {
      "text/html": [],
      "text/plain": []
     },
     "output_type": "execute_result"
    }
   ],
   "source": [
    "Simplify[(D[Energy, OverHat[t]] - (AngularMomentum/OverHat[r][OverHat[t]]^2)(D[AngularMomentum, OverHat[t]]))/(D[OverHat[r][OverHat[t]], OverHat[t]])] // TraditionalForm"
   ]
  },
  {
   "cell_type": "markdown",
   "metadata": {},
   "source": [
    "Что совпадает с **первой** строкой повернутой LHS системы движения"
   ]
  },
  {
   "cell_type": "markdown",
   "metadata": {},
   "source": [
    "Отсюда $\\frac{1}{\\hat{r}}\\frac{d\\hat{J}}{d\\hat{t}}$"
   ]
  },
  {
   "cell_type": "code",
   "execution_count": 51,
   "metadata": {
    "vscode": {
     "languageId": "wolfram"
    }
   },
   "outputs": [
    {
     "data": {
      "text/html": [
       "<div><img alt=\"Output\" src=\"data:image/png;base64,iVBORw0KGgoAAAANSUhEUgAAAFMAAAAVCAIAAAC10UUmAAAAz3pUWHRSYXcgcHJvZmlsZSB0eXBlIGV4aWYAAHjabU9bDsMgDPvnFDtCXjhwHLpSaTfY8RcK29RploiN84LUn48j3QaEKVn2ggpQwKpVaSEKTUxmqmc8kXXl+OonzstvYeVvAn3529V3TJbyM4hkCh0bQquthjVIZfrc5n1b9dJKuQ56P3UB9Hn637upCzLYLaIJuaOGLilkELJQdhy4A1HI2IXsHtzhHm3wUaFtNA5I92t1T9Aw9vEFHSdrC9aIorFPWeuph2/Ksq3s+ZH0Ag0lWoZRI+xeAAAACXBIWXMAAA7EAAAOxAGVKw4bAAAAPHRFWHRTb2Z0d2FyZQBDcmVhdGVkIHdpdGggdGhlIFdvbGZyYW0gTGFuZ3VhZ2UgOiB3d3cud29sZnJhbS5jb21coqaFAAAAIXRFWHRDcmVhdGlvbiBUaW1lADIwMjU6MDM6MjQgMTk6MjU6NDH0TJFrAAADTUlEQVRYhe2XTUgqURiGP4fTIgxtERESbWoXwQgKRYt+pl9zIxEIzd42IUQEUasW/UBQBG7cRG4klIJo0bTQpD+JQGlRBkVDUkKZVCQGzXjuYi5ec2ycqS4t7F2dc/jmPc975vCNqjDGUJQifhrgx/Sb/D9oZmZGq9WGw+HMSiqVisfj324rX+8AMMZPT0+jo6O9vb2Dg4MGg8HpdGJJTU9PazSaUCgkURMIBCwWy97eXnt7+/Pzs7A4MjIyPDwsbS6tvLbyIbMBAGPc1tZWXV2dTCYxxi6XCwDW19e/uLfH4+F5HmMci8V2dnYwxjzP19XVXV1dyc8px1Y+ZA4ApFIptVq9sLAgzK+vrwGApukv7i3slE6nM1O/3z8/Py8zoXxb+ZA5AIAxZlk24/X4+AgAnZ2dX4GbmpqiKKqysjIej9M0XVFRcXNzs7u7y3Hct9vKfzwHQIXff899Ph9FUWNjY3Nzc59uQjzP9/f3v7y8GI1GhNDZ2Znb7S4pKZF+yul0Njc319fXf6/th8o+lXQ63dHRUVNTc39/Lz4zh8OxurqavbK0tHRwcJD3gPV6vV6vPz8/l/9ObDab3++XriloKx/yXfLx8XGj0RiLxcR1Ho/HbDbnLAaDwe7ubnFxMplECA0MDEhkEKtg8oK2iiBR5uVPTk6enp4GAoHS0tKce5FIJGw22+bmpjBtaGgIhUIIIY7j9vf3xffo+PiY4zir1SrnxjEMI4yj0ejR0dHr6ysAVFVVkSSpyFYp5N/kExMT0WjU6/UihMRFLpdLrVY3NTUBAMuyJEkKZZFIJG/94eEhQqirq0tO8q2trezkt7e3AECSpDi5tK1SSAQAKysrJycnGxsbKpUqA6HRaLRarTANh8O1tbWZ7SmKEsbLy8t9fX1i02AwaDAYysrKCiYnCGJxcVEYDw0NWa3W1tbWj4qlbZVCEg8PD3a7vaenZ3t7m2EYhmHW1tZomiaIfz9sdTpdIpEAgLe3N6/XW15eDgBut/vy8nJ2djYvokSAT0vaVikkOBwO8WJjY2N2M7i7u2tpaTGZTHa7PRKJmEwmi8ViNpsvLi7EnYNlWZ1O5/P5JHpVXkl3uIK2iiCx+HtePPr9l1p8+k1efPoDZ73gBkaVPfcAAAAASUVORK5CYII=\"></div>"
      ],
      "text/plain": [
       "FormBox[RowBox[{RowBox[{\"2\", \" \", OverscriptBox[\"ω\", \"^\"], \" \", \n",
       "\n",
       " \n",
       ">          SuperscriptBox[OverscriptBox[\"r\", \"^\"], \"′\"]}], \"+\", \n",
       "\n",
       " \n",
       ">        RowBox[{OverscriptBox[\"r\", \"^\"], \" \", \n",
       "\n",
       " \n",
       ">          SuperscriptBox[OverscriptBox[\"ω\", \"^\"], \"′\"]}]}], TraditionalForm]\n"
      ]
     },
     "execution_count": 51,
     "metadata": {
      "text/html": [],
      "text/plain": []
     },
     "output_type": "execute_result"
    }
   ],
   "source": [
    "Simplify[D[AngularMomentum, OverHat[t]]/OverHat[r][OverHat[t]]] // TraditionalForm"
   ]
  },
  {
   "cell_type": "markdown",
   "metadata": {},
   "source": [
    "Что совпадает со **второй** строкой повернутой LHS системы движения"
   ]
  },
  {
   "cell_type": "markdown",
   "metadata": {},
   "source": [
    "Таким образом, мы можем выписать новую **энергетическую** систему уравнений\n",
    "\n",
    "$$\n",
    "\\begin{align}\n",
    "\\frac{d\\hat{E}}{d\\hat{t}} &= - \\epsilon_G \\left(\\hat{r}^{(1)} R_{xi}(-\\phi) \\hat{f}_{ij}^{(5)}\\hat{r}_j + \\hat{r}\\hat\\omega R_{yi}(-\\phi) \\hat{f}_{ij}^{(5)}\\hat{r}_j \\right)\n",
    "\\\\\n",
    "\\frac{d\\hat{J}}{d\\hat{t}} &= - \\epsilon_G \\hat{r} R_{yi}(-\\phi) \\hat{f}_{ij}^{(5)}\\hat{r}_j\n",
    "\\end{align}\n",
    "$$"
   ]
  },
  {
   "cell_type": "markdown",
   "metadata": {},
   "source": [
    "Или\n",
    "\n",
    "$$\n",
    "\\left(\\frac{d\\hat{E}}{d\\hat{t}}, \\frac{d\\hat{J}}{d\\hat{t}}\\right) = - \\epsilon_G T_{nk} R_{ki}(-\\phi) \\hat{f}_{ij}^{(5)}\\hat{r}_j\\quad,\n",
    "$$"
   ]
  },
  {
   "cell_type": "markdown",
   "metadata": {},
   "source": [
    "Здесь\n",
    "$$\n",
    "T = \n",
    "\\begin{bmatrix}\n",
    "\\hat{r}^{(1)} & \\hat{r}\\hat{\\omega} \\\\\n",
    "0 & \\hat{r}\n",
    "\\end{bmatrix}\n",
    "$$\n",
    "матрица трансформации:"
   ]
  },
  {
   "cell_type": "code",
   "execution_count": 53,
   "metadata": {
    "vscode": {
     "languageId": "wolfram"
    }
   },
   "outputs": [
    {
     "data": {
      "text/html": [
       "<div><img alt=\"Output\" src=\"data:image/png;base64,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\"></div>"
      ],
      "text/plain": [
       "FormBox[TagBox[RowBox[{\"(\", \"⁠\", \n",
       "\n",
       " \n",
       ">         GridBox[{{SuperscriptBox[OverscriptBox[\"r\", \"^\"], \"′\"], \n",
       "\n",
       " \n",
       ">            RowBox[{OverscriptBox[\"r\", \"^\"], \" \", OverscriptBox[\"ω\", \"^\"]}]}, \n",
       "\n",
       " \n",
       ">           {\"0\", OverscriptBox[\"r\", \"^\"]}}, Rule[RowSpacings, 1], \n",
       "\n",
       " \n",
       ">          Rule[ColumnSpacings, 1], Rule[RowAlignments, Baseline], \n",
       "\n",
       " \n",
       ">          Rule[ColumnAlignments, Center]], \"⁠\", \")\"}], \n",
       "\n",
       " \n",
       ">       Function[BoxForm`e$, MatrixForm[BoxForm`e$]]], TraditionalForm]\n"
      ]
     },
     "execution_count": 53,
     "metadata": {
      "text/html": [],
      "text/plain": []
     },
     "output_type": "execute_result"
    }
   ],
   "source": [
    "Transform = {{D[OverHat[r][OverHat[t]], OverHat[t]], OverHat[r][OverHat[t]] OverHat[\\[Omega]][OverHat[t]]}, {0, OverHat[r][OverHat[t]]}};\n",
    "Transform // MatrixForm // TraditionalForm"
   ]
  },
  {
   "cell_type": "markdown",
   "metadata": {},
   "source": [
    "Итак правая часть энергетической системы запишется как"
   ]
  },
  {
   "cell_type": "code",
   "execution_count": 55,
   "metadata": {
    "vscode": {
     "languageId": "wolfram"
    }
   },
   "outputs": [
    {
     "data": {
      "text/html": [
       "<div><img alt=\"Output\" src=\"data:image/png;base64,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\"></div>"
      ],
      "text/plain": [
       "FormBox[TagBox[RowBox[{\"(\", \"⁠\", \n",
       "\n",
       " \n",
       ">         TagBox[GridBox[{{RowBox[{FractionBox[\"1\", \"2\"], \" \", \n",
       "\n",
       " \n",
       ">               OverscriptBox[\"r\", \"^\"], \" \", SubscriptBox[\"ϵ\", \"G\"], \" \", \n",
       "\n",
       " \n",
       ">               RowBox[{\"(\", RowBox[{RowBox[{OverscriptBox[\"r\", \"^\"], \" \", \n",
       "\n",
       " \n",
       ">                     OverscriptBox[\"ω\", \"^\"], \" \", \n",
       "\n",
       " \n",
       ">                     RowBox[{\"(\", RowBox[{RowBox[{RowBox[{\"sin\", \"(\", \n",
       "\n",
       " \n",
       ">                             RowBox[{\"2\", \" \", \"ϕ\"}], \")\"}], \" \", \n",
       "\n",
       " \n",
       ">                           RowBox[{\"(\", \n",
       "\n",
       " \n",
       ">                             RowBox[{TemplateBox[List[SubscriptBox[\n",
       "\n",
       " \n",
       ">                            OverscriptBox[\"f\", \"^\"], \n",
       "\n",
       " \n",
       ">                            RowBox[List[\"x\", \",\", \"x\"]]], \"\\\"(5)\\\"\"], \n",
       "\n",
       " \n",
       ">                             \"Superscript\", Rule[SyntaxForm, SuperscriptBox]], \n",
       "\n",
       " \n",
       ">                             \"-\", \n",
       "\n",
       " \n",
       ">                             TemplateBox[List[SubscriptBox[OverscriptB\\\n",
       "\n",
       " \n",
       ">   ox[\"f\", \"^\"], RowBox[List[\"y\", \",\", \"y\"]]], \"\\\"(5)\\\"\"], \"Superscript\", \n",
       "\n",
       " \n",
       ">                             Rule[SyntaxForm, SuperscriptBox]]}], \")\"}]}], \"-\", \n",
       "\n",
       " \n",
       ">                         RowBox[{\"2\", \" \", \n",
       "\n",
       " \n",
       ">                           RowBox[{\"cos\", \"(\", RowBox[{\"2\", \" \", \"ϕ\"}], \")\"}], \n",
       "\n",
       " \n",
       ">                           \" \", TemplateBox[List[SubscriptBox[OverscriptB\\\n",
       "\n",
       " \n",
       ">   ox[\"f\", \"^\"], RowBox[List[\"x\", \",\", \"y\"]]], \"\\\"(5)\\\"\"], \"Superscript\", \n",
       "\n",
       " \n",
       ">                            Rule[SyntaxForm, SuperscriptBox]]}]}], \")\"}]}], \"-\", \n",
       "\n",
       " \n",
       ">                   RowBox[{\"2\", \" \", SuperscriptBox[OverscriptBox[\"r\", \"^\"], \"′\"], \n",
       "\n",
       " \n",
       ">                     \" \", RowBox[{\"(\", \n",
       "\n",
       " \n",
       ">                       RowBox[{RowBox[{RowBox[{\"sin\", \"(\", \n",
       "\n",
       " \n",
       ">                             RowBox[{\"2\", \" \", \"ϕ\"}], \")\"}], \" \", \n",
       "\n",
       " \n",
       ">                           TemplateBox[List[SubscriptBox[OverscriptBox[\"f\", \n",
       "\n",
       " \n",
       ">                             \"^\"], RowBox[List[\"x\", \",\", \"y\"]]], \"\\\"(5)\\\"\"], \n",
       "\n",
       " \n",
       ">                            \"Superscript\", Rule[SyntaxForm, SuperscriptBox]]}], \n",
       "\n",
       " \n",
       ">                         \"+\", RowBox[{RowBox[{SuperscriptBox[\"cos\", \"2\"], \"(\", \n",
       "\n",
       " \n",
       ">                             \"ϕ\", \")\"}], \" \", \n",
       "\n",
       " \n",
       ">                           TemplateBox[List[SubscriptBox[OverscriptBox[\"f\", \n",
       "\n",
       " \n",
       ">                             \"^\"], RowBox[List[\"x\", \",\", \"x\"]]], \"\\\"(5)\\\"\"], \n",
       "\n",
       " \n",
       ">                            \"Superscript\", Rule[SyntaxForm, SuperscriptBox]]}], \n",
       "\n",
       " \n",
       ">                         \"+\", RowBox[{RowBox[{SuperscriptBox[\"sin\", \"2\"], \"(\", \n",
       "\n",
       " \n",
       ">                             \"ϕ\", \")\"}], \" \", \n",
       "\n",
       " \n",
       ">                           TemplateBox[List[SubscriptBox[OverscriptBox[\"f\", \n",
       "\n",
       " \n",
       ">                             \"^\"], RowBox[List[\"y\", \",\", \"y\"]]], \"\\\"(5)\\\"\"], \n",
       "\n",
       " \n",
       ">                            \"Superscript\", Rule[SyntaxForm, SuperscriptBox]]}]}], \n",
       "\n",
       " \n",
       ">                       \")\"}]}]}], \")\"}]}]}, \n",
       "\n",
       " \n",
       ">            {RowBox[{RowBox[{\"-\", FractionBox[\"1\", \"2\"]}], \" \", \n",
       "\n",
       " \n",
       ">               SuperscriptBox[OverscriptBox[\"r\", \"^\"], \"2\"], \" \", \n",
       "\n",
       " \n",
       ">               SubscriptBox[\"ϵ\", \"G\"], \" \", \n",
       "\n",
       " \n",
       ">               RowBox[{\"(\", RowBox[{RowBox[{RowBox[{\"sin\", \"(\", \n",
       "\n",
       " \n",
       ">                       RowBox[{\"2\", \" \", \"ϕ\"}], \")\"}], \" \", \n",
       "\n",
       " \n",
       ">                     RowBox[{\"(\", RowBox[{TemplateBox[List[SubscriptBox[\n",
       "\n",
       " \n",
       ">                            OverscriptBox[\"f\", \"^\"], \n",
       "\n",
       " \n",
       ">                            RowBox[List[\"y\", \",\", \"y\"]]], \"\\\"(5)\\\"\"], \n",
       "\n",
       " \n",
       ">                          \"Superscript\", Rule[SyntaxForm, SuperscriptBox]], \"-\", \n",
       "\n",
       " \n",
       ">                         TemplateBox[List[SubscriptBox[OverscriptBox[\"f\", \"^\"], \n",
       "\n",
       " \n",
       ">                            RowBox[List[\"x\", \",\", \"x\"]]], \"\\\"(5)\\\"\"], \n",
       "\n",
       " \n",
       ">                          \"Superscript\", Rule[SyntaxForm, SuperscriptBox]]}], \")\"}]}\\\n",
       "\n",
       " \n",
       ">   ], \"+\", RowBox[{\"2\", \" \", RowBox[{\"cos\", \"(\", RowBox[{\"2\", \" \", \"ϕ\"}], \")\"}], \n",
       "\n",
       " \n",
       ">                     \" \", TemplateBox[List[SubscriptBox[OverscriptBox[\"f\", \"^\"], \n",
       "\n",
       " \n",
       ">                        RowBox[List[\"x\", \",\", \"y\"]]], \"\\\"(5)\\\"\"], \"Superscript\", \n",
       "\n",
       " \n",
       ">                      Rule[SyntaxForm, SuperscriptBox]]}]}], \")\"}]}]}}, \n",
       "\n",
       " \n",
       ">           Rule[RowSpacings, 1], Rule[ColumnAlignments, Center], \n",
       "\n",
       " \n",
       ">           Rule[ColumnAlignments, Left]], Column], \"⁠\", \")\"}], \n",
       "\n",
       " \n",
       ">       Function[BoxForm`e$, MatrixForm[BoxForm`e$]]], TraditionalForm]\n"
      ]
     },
     "execution_count": 55,
     "metadata": {
      "text/html": [],
      "text/plain": []
     },
     "output_type": "execute_result"
    }
   ],
   "source": [
    "RHSEnegry = FullSimplify[Transform . RHSMotion, Trig -> True];\n",
    "RHSEnegry // MatrixForm // TraditionalForm"
   ]
  },
  {
   "cell_type": "markdown",
   "metadata": {},
   "source": [
    "## **Другой Способ** получения уравнений движения и энергетических уравнений через лагранжев формализм в полярных координатах"
   ]
  },
  {
   "cell_type": "markdown",
   "metadata": {},
   "source": [
    "### **Лагранжиан системы**\n",
    "Лагранжиан $L$ в полярных координатах $(r, \\phi)$ выражается как:\n",
    "$$\n",
    "L = T - (U + \\mu\\Phi),\n",
    "$$\n",
    "где:\n",
    "- $T$ — кинетическая энергия,\n",
    "- $U$ — потенциальная энергия\n",
    "- $\\Phi = \\frac{1}{5}f_{ij}^{(5)}r_i r_j = \\frac{\\epsilon_G}{2}\\frac{b^2}{t_0^2}\\hat{f}_{ij}^{(5)}\\hat{r}_i \\hat{r}_j = \\frac{5}{2}\\epsilon_G\\frac{GM}{b}\\hat{\\Phi}$ - малый потенциал \"реакции излучения\""
   ]
  },
  {
   "cell_type": "markdown",
   "metadata": {},
   "source": [
    "Безразмерный малый потенциал \"реакции излучения\" $\\hat{\\Phi} = \\frac{1}{5}\\hat{f}_{ij}^{(5)}\\hat{r}_i\\hat{r}_j$\n",
    "\n",
    "В ближней зоне грав. источника будем иметь $\\mu \\Phi \\ll U$.\n",
    "Откуда получаем $\\frac{5}{2}\\epsilon_{G}\\hat{r}\\hat{\\Phi} \\ll 1$.\n",
    "\n",
    "<span style=\"color:brown\">**NB:**</span>\n",
    "Для достаточно больших $\\hat{r}$, но все еще в ближней зоне, может оказаться, что\n",
    "$\\hat{r}\\hat{\\Phi} \\ll 1$, так как $\\hat{f}_{ij}$ очень медленно меняется.\n",
    "Следовательно условие $\\epsilon_G \\ll 1$ необязательно."
   ]
  },
  {
   "cell_type": "code",
   "execution_count": 57,
   "metadata": {
    "vscode": {
     "languageId": "wolfram"
    }
   },
   "outputs": [
    {
     "data": {
      "text/html": [
       "<div><img alt=\"Output\" src=\"data:image/png;base64,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\"></div>"
      ],
      "text/plain": [
       "FormBox[RowBox[{FractionBox[\"1\", \"5\"], \" \", \n",
       "\n",
       " \n",
       ">        RowBox[{\"(\", RowBox[{RowBox[{OverscriptBox[\"r\", \"^\"], \" \", \n",
       "\n",
       " \n",
       ">              RowBox[{\"cos\", \"(\", \"ϕ\", \")\"}], \" \", \n",
       "\n",
       " \n",
       ">              RowBox[{\"(\", RowBox[{RowBox[{OverscriptBox[\"r\", \"^\"], \" \", \n",
       "\n",
       " \n",
       ">                    RowBox[{\"sin\", \"(\", \"ϕ\", \")\"}], \" \", \n",
       "\n",
       " \n",
       ">                    TemplateBox[List[SubscriptBox[OverscriptBox[\"f\", \"^\"], \n",
       "\n",
       " \n",
       ">                       RowBox[List[\"x\", \",\", \"y\"]]], \"\\\"(5)\\\"\"], \"Superscript\", \n",
       "\n",
       " \n",
       ">                     Rule[SyntaxForm, SuperscriptBox]]}], \"+\", \n",
       "\n",
       " \n",
       ">                  RowBox[{OverscriptBox[\"r\", \"^\"], \" \", \n",
       "\n",
       " \n",
       ">                    RowBox[{\"cos\", \"(\", \"ϕ\", \")\"}], \" \", \n",
       "\n",
       " \n",
       ">                    TemplateBox[List[SubscriptBox[OverscriptBox[\"f\", \"^\"], \n",
       "\n",
       " \n",
       ">                       RowBox[List[\"x\", \",\", \"x\"]]], \"\\\"(5)\\\"\"], \"Superscript\", \n",
       "\n",
       " \n",
       ">                     Rule[SyntaxForm, SuperscriptBox]]}]}], \")\"}]}], \"+\", \n",
       "\n",
       " \n",
       ">            RowBox[{OverscriptBox[\"r\", \"^\"], \" \", RowBox[{\"sin\", \"(\", \"ϕ\", \")\"}], \" \", \n",
       "\n",
       " \n",
       ">              RowBox[{\"(\", RowBox[{RowBox[{OverscriptBox[\"r\", \"^\"], \" \", \n",
       "\n",
       " \n",
       ">                    RowBox[{\"cos\", \"(\", \"ϕ\", \")\"}], \" \", \n",
       "\n",
       " \n",
       ">                    TemplateBox[List[SubscriptBox[OverscriptBox[\"f\", \"^\"], \n",
       "\n",
       " \n",
       ">                       RowBox[List[\"x\", \",\", \"y\"]]], \"\\\"(5)\\\"\"], \"Superscript\", \n",
       "\n",
       " \n",
       ">                     Rule[SyntaxForm, SuperscriptBox]]}], \"+\", \n",
       "\n",
       " \n",
       ">                  RowBox[{OverscriptBox[\"r\", \"^\"], \" \", RowBox[{\"sin\", \"(\", \"ϕ\", \")\"}],\\\n",
       " \n",
       ">    \n",
       "                 \" \", TemplateBox[List[SubscriptBox[OverscriptBox[\"f\", \"^\"], \n",
       "\n",
       " \n",
       ">                       RowBox[List[\"y\", \",\", \"y\"]]], \"\\\"(5)\\\"\"], \"Superscript\", \n",
       "\n",
       " \n",
       ">                     Rule[SyntaxForm, SuperscriptBox]]}]}], \")\"}]}]}], \")\"}]}], \n",
       "\n",
       " \n",
       ">      TraditionalForm]\n"
      ]
     },
     "execution_count": 57,
     "metadata": {
      "text/html": [],
      "text/plain": []
     },
     "output_type": "execute_result"
    }
   ],
   "source": [
    "fh5rhrh = 1/5 EinsteinSummation[{{i, j}, {i}, {j}}, {fh5, rh, rh}];\n",
    "fh5rhrh // TraditionalForm"
   ]
  },
  {
   "cell_type": "markdown",
   "metadata": {},
   "source": [
    "Безразмерный лагранжиан\n",
    "\n",
    "$$\n",
    "\\hat{L} = \\hat{T} - (\\hat{U} + \\frac{5}{2}\\epsilon_G\\hat{\\Phi}),\n",
    "$$\n",
    "или\n",
    "$$\n",
    "\\hat{L} = \\frac{1}{2} \\left((\\hat{r}^{(1)})^2 + \\hat{r}^2 \\hat{\\omega}^2 \\right) + \\frac{1}{\\hat{r}} - \\frac{\\epsilon_G}{2}\\hat{f}_{ij}^{(5)}\\hat{r}_i \\hat{r}_j.\n",
    "$$"
   ]
  },
  {
   "cell_type": "markdown",
   "metadata": {},
   "source": [
    "### **Уравнения Эйлера-Лагранжа**\n",
    "Уравнения Эйлера-Лагранжа имеют вид:\n",
    "$$\n",
    "\\frac{d}{dt} \\left( \\frac{\\partial \\hat{L}}{\\partial \\dot{q}_i} \\right) - \\frac{\\partial \\hat{L}}{\\partial q_i} = 0,\n",
    "$$\n",
    "где $q_i$ — обобщённые координаты ($\\hat{r}$ и $\\phi$)."
   ]
  },
  {
   "cell_type": "markdown",
   "metadata": {},
   "source": [
    "---\n",
    "\n",
    "#### Уравнение для координаты $\\hat{r}$:\n",
    "$$\n",
    "\\frac{d}{d\\hat{t}} \\left(\\frac{\\partial \\hat{L}}{\\partial \\hat{r}^{(1)}} \\right) - \\frac{\\partial \\hat{L}}{\\partial \\hat{r}} = 0.\n",
    "$$\n",
    "Вычислим производные:\n",
    "$$\n",
    "\\frac{\\partial \\hat{L}}{\\partial \\hat{r}^{(1)}} = \\hat{r}^{(1)}, \\quad \\frac{d}{d\\hat{t}} \\left( \\frac{\\partial \\hat{L}}{\\partial \\hat{r}^{(1)}} \\right) = \\hat{r}^{(2)},\n",
    "$$\n",
    "$$\n",
    "\\frac{\\partial \\hat{L}}{\\partial \\hat{r}} = \\hat{r} \\hat{\\omega}^2 - \\frac{1}{\\hat{r}^2} - \\frac{5}{2}\\epsilon_G\\frac{\\partial \\hat{\\Phi}}{\\partial \\hat{r}}.\n",
    "$$\n",
    "Подставляем в уравнение Эйлера-Лагранжа:\n",
    "$$\n",
    "\\hat{r}^{(2)} - \\hat{r} \\hat{\\omega}^2 + \\frac{1}{\\hat{r}^2} = - \\frac{5}{2}\\epsilon_G\\frac{\\partial \\hat{\\Phi}}{\\partial \\hat{r}}.\n",
    "$$\n",
    "\n",
    "Это **радиальное уравнение движения**.\n",
    "\n",
    "Здесь \n",
    "$$\n",
    "\\frac{\\partial \\hat{\\Phi}}{\\partial \\hat{r}} = \\frac{1}{5}\\hat{f}_{ij}^{(5)}\\left(\\frac{\\partial \\hat{r}_i}{\\partial \\hat{r}}\\hat{r}_j + \\hat{r}_i\\frac{\\partial \\hat{r}_j}{\\partial \\hat{r}}\\right)\n",
    "$$"
   ]
  },
  {
   "cell_type": "markdown",
   "metadata": {},
   "source": [
    "Правая часть радиального уравнения движения будет выглядеть как"
   ]
  },
  {
   "cell_type": "code",
   "execution_count": 59,
   "metadata": {
    "vscode": {
     "languageId": "wolfram"
    }
   },
   "outputs": [
    {
     "data": {
      "text/html": [
       "<div><img alt=\"Output\" src=\"data:image/png;base64,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\"></div>"
      ],
      "text/plain": [
       "FormBox[RowBox[{OverscriptBox[\"r\", \"^\"], \" \", \n",
       "\n",
       " \n",
       ">        RowBox[{\"(\", RowBox[{\"-\", SubscriptBox[\"ϵ\", \"G\"]}], \")\"}], \" \", \n",
       "\n",
       " \n",
       ">        RowBox[{\"(\", RowBox[{RowBox[{RowBox[{\"sin\", \"(\", RowBox[{\"2\", \" \", \"ϕ\"}], \n",
       "\n",
       " \n",
       ">                \")\"}], \" \", TemplateBox[List[SubscriptBox[OverscriptBox[\"f\", \"^\"], \n",
       "\n",
       " \n",
       ">                 RowBox[List[\"x\", \",\", \"y\"]]], \"\\\"(5)\\\"\"], \"Superscript\", \n",
       "\n",
       " \n",
       ">               Rule[SyntaxForm, SuperscriptBox]]}], \"+\", \n",
       "\n",
       " \n",
       ">            RowBox[{RowBox[{SuperscriptBox[\"cos\", \"2\"], \"(\", \"ϕ\", \")\"}], \" \", \n",
       "\n",
       " \n",
       ">              TemplateBox[List[SubscriptBox[OverscriptBox[\"f\", \"^\"], \n",
       "\n",
       " \n",
       ">                 RowBox[List[\"x\", \",\", \"x\"]]], \"\\\"(5)\\\"\"], \"Superscript\", \n",
       "\n",
       " \n",
       ">               Rule[SyntaxForm, SuperscriptBox]]}], \"+\", \n",
       "\n",
       " \n",
       ">            RowBox[{RowBox[{SuperscriptBox[\"sin\", \"2\"], \"(\", \"ϕ\", \")\"}], \" \", \n",
       "\n",
       " \n",
       ">              TemplateBox[List[SubscriptBox[OverscriptBox[\"f\", \"^\"], \n",
       "\n",
       " \n",
       ">                 RowBox[List[\"y\", \",\", \"y\"]]], \"\\\"(5)\\\"\"], \"Superscript\", \n",
       "\n",
       " \n",
       ">               Rule[SyntaxForm, SuperscriptBox]]}]}], \")\"}]}], TraditionalForm]\n"
      ]
     },
     "execution_count": 59,
     "metadata": {
      "text/html": [],
      "text/plain": []
     },
     "output_type": "execute_result"
    }
   ],
   "source": [
    "RHSMotionRadialLagrange = - 1/2 Subscript[\\[Epsilon], G] FullSimplify[EinsteinSummation[{{i, j}, {i}, {j}}, {fh5, D[rh, OverHat[r][OverHat[t]]], rh}] + EinsteinSummation[{{i, j}, {i}, {j}}, {fh5, rh, D[rh, OverHat[r][OverHat[t]]]}]];\n",
    "RHSMotionRadialLagrange // TraditionalForm"
   ]
  },
  {
   "cell_type": "markdown",
   "metadata": {},
   "source": [
    "<span style=\"color:brown\">**NB:**</span> Выражение <span style=\"color:green\">**совпадает**</span> с раннее полученным уравнением и с уравнением (10) из файла Binary.pdf"
   ]
  },
  {
   "cell_type": "code",
   "execution_count": 60,
   "metadata": {
    "vscode": {
     "languageId": "wolfram"
    }
   },
   "outputs": [
    {
     "data": {
      "text/html": [
       "<div><pre style=\"&#102;&#111;&#110;&#116;&#45;&#102;&#97;&#109;&#105;&#108;&#121;&#58;&#32;&#34;&#67;&#111;&#117;&#114;&#105;&#101;&#114;&#32;&#78;&#101;&#119;&#34;&#44;&#67;&#111;&#117;&#114;&#105;&#101;&#114;&#44;&#109;&#111;&#110;&#111;&#115;&#112;&#97;&#99;&#101;&#59;\">&#48;</pre></div>"
      ],
      "text/plain": [
       "0"
      ]
     },
     "execution_count": 60,
     "metadata": {
      "text/html": [],
      "text/plain": []
     },
     "output_type": "execute_result"
    }
   ],
   "source": [
    "RHSMotion[[1]] - RHSMotionRadialLagrange"
   ]
  },
  {
   "cell_type": "markdown",
   "metadata": {},
   "source": [
    "---\n",
    "\n",
    "#### Уравнение для координаты $\\phi$:\n",
    "$$\n",
    "\\frac{d}{d\\hat{t}} \\left(\\frac{\\partial \\hat{L}}{\\partial \\hat{\\omega}} \\right) - \\frac{\\partial \\hat{L}}{\\partial \\phi} = 0.\n",
    "$$\n",
    "Вычислим производные:\n",
    "$$\n",
    "\\frac{\\partial \\hat{L}}{\\partial \\hat{\\omega}} = \\hat{r}^2 \\hat{\\omega}, \\quad \\frac{d}{d\\hat{t}} \\left( \\frac{\\partial \\hat{L}}{\\partial \\hat{\\omega}} \\right) = \\frac{d}{d\\hat{t}} \\left( \\hat{r}^2 \\hat{\\omega} \\right),\n",
    "$$\n",
    "$$\n",
    "\\frac{\\partial \\hat{L}}{\\partial \\phi} = - \\frac{5}{2}\\epsilon_G\\frac{\\partial \\hat{\\Phi}}{\\partial \\phi}.\n",
    "$$\n",
    "Подставляем в уравнение Эйлера-Лагранжа:\n",
    "$$\n",
    "\\frac{1}{\\hat{r}}\\frac{d}{d\\hat{t}} \\left( \\hat{r}^2 \\hat{\\omega} \\right) = \\frac{1}{\\hat{r}}\\frac{d\\hat{J}}{d\\hat{t}} = - \\frac{5}{2}\\frac{\\epsilon_G}{\\hat{r}}\\frac{\\partial \\hat{\\Phi}}{\\partial \\phi}.\n",
    "$$\n",
    "\n",
    "Здесь \n",
    "$$\n",
    "\\frac{\\partial \\hat{\\Phi}}{\\partial \\phi} = \\frac{1}{5}\\hat{f}_{ij}^{(5)}\\left(\\frac{\\partial \\hat{r}_i}{\\partial \\phi}\\hat{r}_j + \\hat{r}_i\\frac{\\partial \\hat{r}_j}{\\partial \\phi}\\right)\n",
    "$$"
   ]
  },
  {
   "cell_type": "markdown",
   "metadata": {},
   "source": [
    "Правая часть уравнения движения для $\\phi$ будет выглядеть как"
   ]
  },
  {
   "cell_type": "code",
   "execution_count": 62,
   "metadata": {
    "vscode": {
     "languageId": "wolfram"
    }
   },
   "outputs": [
    {
     "data": {
      "text/html": [
       "<div><img alt=\"Output\" src=\"data:image/png;base64,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\"></div>"
      ],
      "text/plain": [
       "FormBox[RowBox[{RowBox[{\"-\", FractionBox[\"1\", \"2\"]}], \" \", OverscriptBox[\"r\", \"^\"], \n",
       "\n",
       " \n",
       ">        \" \", SubscriptBox[\"ϵ\", \"G\"], \" \", \n",
       "\n",
       " \n",
       ">        RowBox[{\"(\", RowBox[{RowBox[{RowBox[{\"sin\", \"(\", RowBox[{\"2\", \" \", \"ϕ\"}], \n",
       "\n",
       " \n",
       ">                \")\"}], \" \", RowBox[{\"(\", \n",
       "\n",
       " \n",
       ">                RowBox[{TemplateBox[List[SubscriptBox[OverscriptBox[\"f\", \"^\"], \n",
       "\n",
       " \n",
       ">                     RowBox[List[\"y\", \",\", \"y\"]]], \"\\\"(5)\\\"\"], \"Superscript\", \n",
       "\n",
       " \n",
       ">                   Rule[SyntaxForm, SuperscriptBox]], \"-\", \n",
       "\n",
       " \n",
       ">                  TemplateBox[List[SubscriptBox[OverscriptBox[\"f\", \"^\"], \n",
       "\n",
       " \n",
       ">                     RowBox[List[\"x\", \",\", \"x\"]]], \"\\\"(5)\\\"\"], \"Superscript\", \n",
       "\n",
       " \n",
       ">                   Rule[SyntaxForm, SuperscriptBox]]}], \")\"}]}], \"+\", \n",
       "\n",
       " \n",
       ">            RowBox[{\"2\", \" \", RowBox[{\"cos\", \"(\", RowBox[{\"2\", \" \", \"ϕ\"}], \")\"}], \" \", \n",
       "\n",
       " \n",
       ">              TemplateBox[List[SubscriptBox[OverscriptBox[\"f\", \"^\"], \n",
       "\n",
       " \n",
       ">                 RowBox[List[\"x\", \",\", \"y\"]]], \"\\\"(5)\\\"\"], \"Superscript\", \n",
       "\n",
       " \n",
       ">               Rule[SyntaxForm, SuperscriptBox]]}]}], \")\"}]}], TraditionalForm]\n"
      ]
     },
     "execution_count": 62,
     "metadata": {
      "text/html": [],
      "text/plain": []
     },
     "output_type": "execute_result"
    }
   ],
   "source": [
    "RHSMotionPhiLagrange = - 1/2 Subscript[\\[Epsilon], G] FullSimplify[EinsteinSummation[{{i, j}, {i}, {j}}, {fh5, D[rh, \\[Phi][OverHat[t]]], rh}] + EinsteinSummation[{{i, j}, {i}, {j}}, {fh5, rh, D[rh, \\[Phi][OverHat[t]]]}]]/OverHat[r][OverHat[t]];\n",
    "RHSMotionPhiLagrange // TraditionalForm"
   ]
  },
  {
   "cell_type": "markdown",
   "metadata": {},
   "source": [
    "<span style=\"color:brown\">**NB:**</span> Выражение <span style=\"color:green\">**совпадает**</span> с раннее полученным уравнением и с уравнением (9) из файла Binary.pdf"
   ]
  },
  {
   "cell_type": "code",
   "execution_count": 63,
   "metadata": {
    "vscode": {
     "languageId": "wolfram"
    }
   },
   "outputs": [
    {
     "data": {
      "text/html": [
       "<div><pre style=\"&#102;&#111;&#110;&#116;&#45;&#102;&#97;&#109;&#105;&#108;&#121;&#58;&#32;&#34;&#67;&#111;&#117;&#114;&#105;&#101;&#114;&#32;&#78;&#101;&#119;&#34;&#44;&#67;&#111;&#117;&#114;&#105;&#101;&#114;&#44;&#109;&#111;&#110;&#111;&#115;&#112;&#97;&#99;&#101;&#59;\">&#48;</pre></div>"
      ],
      "text/plain": [
       "0"
      ]
     },
     "execution_count": 63,
     "metadata": {
      "text/html": [],
      "text/plain": []
     },
     "output_type": "execute_result"
    }
   ],
   "source": [
    "RHSMotion[[2]] - RHSMotionPhiLagrange"
   ]
  },
  {
   "cell_type": "markdown",
   "metadata": {},
   "source": [
    "## Получим **энергетическую** систему уравнений в подходе Лагранжа"
   ]
  },
  {
   "cell_type": "markdown",
   "metadata": {},
   "source": [
    "Заметим, что энергия системы:\n",
    "$$\n",
    "\\hat{E} = \\frac{(\\hat{r}^{(1)})^2}{2} + \\frac{\\hat{r}^2 \\hat{\\omega}^2}{2} - \\frac{1}{\\hat{r}}\n",
    "$$\n",
    "$$\n",
    "\\frac{1}{\\hat{r}^{(1)}}\\left(\\frac{d\\hat{E}}{d\\hat{t}} - \\hat{\\omega} \\frac{d\\hat{J}}{d\\hat{t}}\\right) = \\hat{r}^{(2)} - \\hat{r} \\hat{\\omega}^2 + \\frac{1}{\\hat{r}^2}\n",
    "$$\n",
    "\n",
    "А также уравнение для изменения момента импульса системы есть\n",
    "$$\n",
    "\\frac{d\\hat{J}}{d\\hat{t}} = - \\frac{5}{2}\\epsilon_G\\frac{\\partial \\hat{\\Phi}}{\\partial \\phi}.\n",
    "$$\n",
    "\n",
    "Итоговая энергетическая система, выведенная по-новому будет записываться как:\n",
    "\n",
    "$$\n",
    "\\begin{align}\n",
    "\\frac{d\\hat{E}}{d\\hat{t}} &= - \\frac{5}{2}\\epsilon_G\\left(\\hat{r}^{(1)}\\frac{\\partial \\hat{\\Phi}}{\\partial \\hat{r}} + \\hat{\\omega} \\frac{\\partial \\hat{\\Phi}}{\\partial \\phi}\\right)\n",
    "  = - \\frac{\\epsilon_G}{2}\\hat{f}_{ij}^{(5)}\\left(\\frac{d\\hat{r}_i}{d\\hat{t}}\\hat{r}_j + \\hat{r}_i\\frac{d\\hat{r}_j}{d\\hat{t}}\\right)\n",
    "  = - \\frac{\\epsilon_G}{2}\\hat{f}_{ij}^{(5)}\\frac{d(\\hat{r}_i \\hat{r}_j)}{d\\hat{t}}\n",
    "\\\\\n",
    "\\frac{d\\hat{J}}{d\\hat{t}} &= - \\frac{5}{2}\\epsilon_G\\frac{\\partial \\hat{\\Phi}}{\\partial \\phi}\n",
    "  = - \\frac{\\epsilon_G}{2}\\hat{f}_{ij}^{(5)}\\left(\\frac{\\partial \\hat{r}_i}{\\partial \\phi}\\hat{r}_j + \\hat{r}_i\\frac{\\partial \\hat{r}_j}{\\partial \\phi}\\right)\n",
    "  = - \\frac{\\epsilon_G}{2}\\hat{f}_{ij}^{(5)}\\frac{d(\\hat{r}_i \\hat{r}_j)}{d\\phi}\n",
    "\\end{align}\n",
    "$$"
   ]
  },
  {
   "cell_type": "code",
   "execution_count": 65,
   "metadata": {
    "vscode": {
     "languageId": "wolfram"
    }
   },
   "outputs": [
    {
     "data": {
      "text/html": [
       "<div><img alt=\"Output\" src=\"data:image/png;base64,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\"></div>"
      ],
      "text/plain": [
       "FormBox[TagBox[RowBox[{\"(\", \"⁠\", \n",
       "\n",
       " \n",
       ">         TagBox[GridBox[{{RowBox[{OverscriptBox[\"r\", \"^\"], \" \", \n",
       "\n",
       " \n",
       ">               RowBox[{\"(\", RowBox[{\"-\", SubscriptBox[\"ϵ\", \"G\"]}], \")\"}], \" \", \n",
       "\n",
       " \n",
       ">               RowBox[{\"(\", RowBox[{RowBox[{OverscriptBox[\"r\", \"^\"], \" \", \n",
       "\n",
       " \n",
       ">                     OverscriptBox[\"ω\", \"^\"], \" \", \n",
       "\n",
       " \n",
       ">                     RowBox[{\"(\", RowBox[{RowBox[{RowBox[{\"cos\", \"(\", \n",
       "\n",
       " \n",
       ">                             RowBox[{\"2\", \" \", \"ϕ\"}], \")\"}], \" \", \n",
       "\n",
       " \n",
       ">                           TemplateBox[List[SubscriptBox[OverscriptBox[\"f\", \n",
       "\n",
       " \n",
       ">                             \"^\"], RowBox[List[\"x\", \",\", \"y\"]]], \"\\\"(5)\\\"\"], \n",
       "\n",
       " \n",
       ">                            \"Superscript\", Rule[SyntaxForm, SuperscriptBox]]}], \n",
       "\n",
       " \n",
       ">                         \"+\", RowBox[{RowBox[{\"sin\", \"(\", \"ϕ\", \")\"}], \" \", \n",
       "\n",
       " \n",
       ">                           RowBox[{\"cos\", \"(\", \"ϕ\", \")\"}], \" \", \n",
       "\n",
       " \n",
       ">                           RowBox[{\"(\", \n",
       "\n",
       " \n",
       ">                             RowBox[{TemplateBox[List[SubscriptBox[\n",
       "\n",
       " \n",
       ">                             OverscriptBox[\"f\", \"^\"], \n",
       "\n",
       " \n",
       ">                             RowBox[List[\"y\", \",\", \"y\"]]], \"\\\"(5)\\\"\"], \n",
       "\n",
       " \n",
       ">                             \"Superscript\", Rule[SyntaxForm, SuperscriptBox]], \n",
       "\n",
       " \n",
       ">                              \"-\", \n",
       "\n",
       " \n",
       ">                              TemplateBox[List[SubscriptBox[OverscriptB\\\n",
       "\n",
       " \n",
       ">   ox[\"f\", \"^\"], RowBox[List[\"x\", \",\", \"x\"]]], \"\\\"(5)\\\"\"], \"Superscript\", \n",
       "\n",
       " \n",
       ">                              Rule[SyntaxForm, SuperscriptBox]]}], \")\"}]}]}], \")\"}]\\\n",
       "\n",
       " \n",
       ">   }], \"+\", RowBox[{SuperscriptBox[OverscriptBox[\"r\", \"^\"], \"′\"], \" \", \n",
       "\n",
       " \n",
       ">                     RowBox[{\"(\", RowBox[{RowBox[{RowBox[{\"sin\", \"(\", \n",
       "\n",
       " \n",
       ">                             RowBox[{\"2\", \" \", \"ϕ\"}], \")\"}], \" \", \n",
       "\n",
       " \n",
       ">                           TemplateBox[List[SubscriptBox[OverscriptBox[\"f\", \n",
       "\n",
       " \n",
       ">                             \"^\"], RowBox[List[\"x\", \",\", \"y\"]]], \"\\\"(5)\\\"\"], \n",
       "\n",
       " \n",
       ">                            \"Superscript\", Rule[SyntaxForm, SuperscriptBox]]}], \n",
       "\n",
       " \n",
       ">                         \"+\", RowBox[{RowBox[{SuperscriptBox[\"cos\", \"2\"], \"(\", \n",
       "\n",
       " \n",
       ">                             \"ϕ\", \")\"}], \" \", \n",
       "\n",
       " \n",
       ">                           TemplateBox[List[SubscriptBox[OverscriptBox[\"f\", \n",
       "\n",
       " \n",
       ">                             \"^\"], RowBox[List[\"x\", \",\", \"x\"]]], \"\\\"(5)\\\"\"], \n",
       "\n",
       " \n",
       ">                            \"Superscript\", Rule[SyntaxForm, SuperscriptBox]]}], \n",
       "\n",
       " \n",
       ">                         \"+\", RowBox[{RowBox[{SuperscriptBox[\"sin\", \"2\"], \"(\", \n",
       "\n",
       " \n",
       ">                             \"ϕ\", \")\"}], \" \", \n",
       "\n",
       " \n",
       ">                           TemplateBox[List[SubscriptBox[OverscriptBox[\"f\", \n",
       "\n",
       " \n",
       ">                             \"^\"], RowBox[List[\"y\", \",\", \"y\"]]], \"\\\"(5)\\\"\"], \n",
       "\n",
       " \n",
       ">                            \"Superscript\", Rule[SyntaxForm, SuperscriptBox]]}]}], \n",
       "\n",
       " \n",
       ">                       \")\"}]}]}], \")\"}]}]}, \n",
       "\n",
       " \n",
       ">            {RowBox[{RowBox[{\"-\", FractionBox[\"1\", \"2\"]}], \" \", \n",
       "\n",
       " \n",
       ">               SuperscriptBox[OverscriptBox[\"r\", \"^\"], \"2\"], \" \", \n",
       "\n",
       " \n",
       ">               SubscriptBox[\"ϵ\", \"G\"], \" \", \n",
       "\n",
       " \n",
       ">               RowBox[{\"(\", RowBox[{RowBox[{RowBox[{\"sin\", \"(\", \n",
       "\n",
       " \n",
       ">                       RowBox[{\"2\", \" \", \"ϕ\"}], \")\"}], \" \", \n",
       "\n",
       " \n",
       ">                     RowBox[{\"(\", RowBox[{TemplateBox[List[SubscriptBox[\n",
       "\n",
       " \n",
       ">                            OverscriptBox[\"f\", \"^\"], \n",
       "\n",
       " \n",
       ">                            RowBox[List[\"y\", \",\", \"y\"]]], \"\\\"(5)\\\"\"], \n",
       "\n",
       " \n",
       ">                          \"Superscript\", Rule[SyntaxForm, SuperscriptBox]], \"-\", \n",
       "\n",
       " \n",
       ">                         TemplateBox[List[SubscriptBox[OverscriptBox[\"f\", \"^\"], \n",
       "\n",
       " \n",
       ">                            RowBox[List[\"x\", \",\", \"x\"]]], \"\\\"(5)\\\"\"], \n",
       "\n",
       " \n",
       ">                          \"Superscript\", Rule[SyntaxForm, SuperscriptBox]]}], \")\"}]}\\\n",
       "\n",
       " \n",
       ">   ], \"+\", RowBox[{\"2\", \" \", RowBox[{\"cos\", \"(\", RowBox[{\"2\", \" \", \"ϕ\"}], \")\"}], \n",
       "\n",
       " \n",
       ">                     \" \", TemplateBox[List[SubscriptBox[OverscriptBox[\"f\", \"^\"], \n",
       "\n",
       " \n",
       ">                        RowBox[List[\"x\", \",\", \"y\"]]], \"\\\"(5)\\\"\"], \"Superscript\", \n",
       "\n",
       " \n",
       ">                      Rule[SyntaxForm, SuperscriptBox]]}]}], \")\"}]}]}}, \n",
       "\n",
       " \n",
       ">           Rule[RowSpacings, 1], Rule[ColumnAlignments, Center], \n",
       "\n",
       " \n",
       ">           Rule[ColumnAlignments, Left]], Column], \"⁠\", \")\"}], \n",
       "\n",
       " \n",
       ">       Function[BoxForm`e$, MatrixForm[BoxForm`e$]]], TraditionalForm]\n"
      ]
     },
     "execution_count": 65,
     "metadata": {
      "text/html": [],
      "text/plain": []
     },
     "output_type": "execute_result"
    }
   ],
   "source": [
    "RHSEnegryLagrange = - 5/2 Subscript[\\[Epsilon],G] FullSimplify[{\n",
    "  D[fh5rhrh, OverHat[t]] /. OmegaReplace,\n",
    "  D[fh5rhrh, \\[Phi][OverHat[t]]]\n",
    "}, Trig -> True];\n",
    "\n",
    "RHSEnegryLagrange // MatrixForm // TraditionalForm"
   ]
  },
  {
   "cell_type": "markdown",
   "metadata": {},
   "source": [
    "<span style=\"color:brown\">**NB:**</span> Выражения полностью <span style=\"color:green\">**совпадают**</span> с предыдущим ньютоновым подходом!"
   ]
  },
  {
   "cell_type": "code",
   "execution_count": 66,
   "metadata": {
    "vscode": {
     "languageId": "wolfram"
    }
   },
   "outputs": [
    {
     "data": {
      "text/html": [
       "<div><img alt=\"Output\" src=\"data:image/png;base64,iVBORw0KGgoAAAANSUhEUgAAACcAAAAnCAIAAAADwcZiAAAAznpUWHRSYXcgcHJvZmlsZSB0eXBlIGV4aWYAAHjabU9bDgMhCPz3FD0CAg56HLfrJr1Bj198tI1NJxGG4SWhPR9XuHVwpKDJMgpADi1auDrJNDF9pDLsANvKxV0P70SsLqVvAm3px64b1sD8M4h4EukbnIuuhjVIeOqxzvhY9Vxz3gcJbQB9vv43VjFGQjR1q0xmKM5zcOoOiSkZLtwBL4w4mfTuvsHM22C9Qmpv7OBme3ULEBfOfoL0l6S6F7csvk+ilMG7riJ8rOw4JLwAEtxajByUD5kAAAAJcEhZcwAADsQAAA7EAZUrDhsAAAA8dEVYdFNvZnR3YXJlAENyZWF0ZWQgd2l0aCB0aGUgV29sZnJhbSBMYW5ndWFnZSA6IHd3dy53b2xmcmFtLmNvbVyipoUAAAAhdEVYdENyZWF0aW9uIFRpbWUAMjAyNTowMzoyNCAxOToyNTo0MxpC8EcAAAObSURBVFiFzVfPS/NaEL3xZ4ppF02xIrUUKYK0QlTcuBBEXSmYgIvuBUUF14o7/wOhK8FdFoKUWtypWAh0Z6Boq0XEQqxgLWnUViM29b5FQd5L7k0aPuV7Z5eZ4Zw7ycydCYAoKIpSKBSQrkqlsrKyQtM0RVEsy0qShAyDEF5cXOBcLQAFnudbWtCuSCRyfHy8u7sbi8VkWZ6amlJVFRl5dHQkSRLSBZBn2djYQNoFQSAI4juJl5cXmqZ3dnaQwZlMZnt7u9lcb29vu7u7cccfHR0dGhpqPLpcroWFhUQigQwOhUKZTAbpQqgmEomZmRlkdDabZRgGAHB5eZlMJgEADMNcXV0hgwEAgUAA+ZIRqtlsNhQKIVkURaFpGgAwNzc3PT1dLBZpmi6XyzjVsbExQRCsVSGEn5+fBEHgiBoYGRkJBoMulwtCaBI2PDycSqWM9jbd8/X1tc/nw7HQNC3LMgAgHo83LLIsN7JHor+/P5/PG+36XEVRDIfDOJZwOJxOp/9tSafT38VlBEEQra2t1qq5XC4YDOJY5ufnRVH8FlYU5eDggOM4XDwAwOv1lkolvVXXSZFI5OnpCXenQAhZlg0EAvF4/PT0dHx8fHBwUFVVk/itrS1RFC36tVQqeTwek7PzPD87O7u4uMiyrNfrPTk5IUnSJL63t7dQKOiM+mr6+voyL+Curq5oNBqNRk1idKr39/c6oz5Xy56xi56ensfHRwvVHwdFUe/v72aqmqa1t7f/rCpJksah9B/VWq32F1Q1TWtr09fXH8LhcFioAgCQV8mfoKOjo1armamSJKlp2s+qaprmcDjMVH/8ozal+htQVdVa1fINV6vV1dVVj8fjdDo5jjPeOzpUKhVrVfMpDezsiA28vr5SFKW36qYBx3EmA8TWjtjA4eHh3t6excyhKMpY6N+wtSM2UCwW/X6/zqhX9fl8Dw8POAq7OyIAQJIka1W/3393d4ejsLsjAgDy+XxfX5+F6sDAwM3NjQlLA03uiACAt7c3Yw3rb12GYWKxGI7C7o5Yr9c7OzuNdn2ubrf7+fkZx2J3R8zlcsiFHnE3OZ3Oj48PJIvdHTGVSk1MTCAcxg7jef7s7AzXf7Z2xKWlJaQXoVoulzc3N3FE1Wp1bW3N7XZTFMVxHO7nGkJYr9eXl5eRLvT/6/r6Oo6reQiCsL+/j3ShZ87k5OT5+TnuazWJZDLJsizSRUCrhvsN/Pp8/R+p/gOHQyBwwg10GQAAAABJRU5ErkJggg==\"></div>"
      ],
      "text/plain": [
       "0\n",
       "\n",
       "0"
      ]
     },
     "execution_count": 66,
     "metadata": {
      "text/html": [],
      "text/plain": []
     },
     "output_type": "execute_result"
    }
   ],
   "source": [
    "FullSimplify[RHSEnegryLagrange - RHSEnegry] // MatrixForm"
   ]
  },
  {
   "cell_type": "markdown",
   "metadata": {},
   "source": [
    "В **размерной** же записи наши уравнения превращаются в\n",
    "$$\n",
    "\\begin{align}\n",
    "\\frac{dE}{dt} &=\n",
    "  - \\frac{1}{5}f_{ij}^{(5)} \\mu \\frac{d(r_i r_j)}{dt}\n",
    "  = - \\frac{1}{5}\\frac{c^5}{G}f_{ij}^{(5)} \\frac{d}{dt}\\left(f_{ij} + \\frac{1}{3} \\delta_{ij}r^2\\right)\n",
    "  = - \\frac{1}{5}\\frac{c^5}{G}f_{ij}^{(5)} \\frac{df_{ij}}{dt}\n",
    "\\\\\n",
    "\\frac{dJ}{dt} &=\n",
    "  - \\frac{1}{5}f_{ij}^{(5)} \\mu \\frac{d(r_i r_j)}{d\\phi}\n",
    "  = - \\frac{1}{5}\\frac{c^5}{G}f_{ij}^{(5)} \\frac{d}{d\\phi}\\left(f_{ij} + \\frac{1}{3} \\delta_{ij}r^2\\right)\n",
    "  = - \\frac{1}{5}\\frac{c^5}{G}f_{ij}^{(5)} \\frac{df_{ij}}{d\\phi}\n",
    "  = - \\frac{2}{5}\\frac{c^5}{G}\\epsilon_{ij}f_{ik}^{(5)} f_{kj}\n",
    "\\end{align}\n",
    "$$\n",
    "\n",
    "Здесь учтено, что квадрупольный момент бесследовый\n",
    "$$\n",
    "\\begin{align}\n",
    "\\text{Tr}(f_{ij}) &= \\delta_{ij}f_{ij} = 0\n",
    "\\\\\n",
    "\\text{Tr}(f^{(5)}_{ij}) &= \\delta_{ij}f^{(5)}_{ij} = 0\n",
    "\\\\\n",
    "\\end{align}\n",
    "$$"
   ]
  },
  {
   "cell_type": "code",
   "execution_count": 69,
   "metadata": {
    "vscode": {
     "languageId": "wolfram"
    }
   },
   "outputs": [
    {
     "data": {
      "text/html": [
       "<div><img alt=\"Output\" src=\"data:image/png;base64,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\"></div>"
      ],
      "text/plain": [
       "FormBox[RowBox[{RowBox[{\"-\", FractionBox[\"1\", \"5\"]}], \" \", \n",
       "\n",
       " \n",
       ">        SuperscriptBox[OverscriptBox[\"r\", \"^\"], \"2\"], \" \", \n",
       "\n",
       " \n",
       ">        RowBox[{\"(\", RowBox[{RowBox[{RowBox[{\"sin\", \"(\", RowBox[{\"2\", \" \", \"ϕ\"}], \n",
       "\n",
       " \n",
       ">                \")\"}], \" \", RowBox[{\"(\", \n",
       "\n",
       " \n",
       ">                RowBox[{TemplateBox[List[SubscriptBox[OverscriptBox[\"f\", \"^\"], \n",
       "\n",
       " \n",
       ">                     RowBox[List[\"x\", \",\", \"x\"]]], \"\\\"(5)\\\"\"], \"Superscript\", \n",
       "\n",
       " \n",
       ">                   Rule[SyntaxForm, SuperscriptBox]], \"-\", \n",
       "\n",
       " \n",
       ">                  TemplateBox[List[SubscriptBox[OverscriptBox[\"f\", \"^\"], \n",
       "\n",
       " \n",
       ">                     RowBox[List[\"y\", \",\", \"y\"]]], \"\\\"(5)\\\"\"], \"Superscript\", \n",
       "\n",
       " \n",
       ">                   Rule[SyntaxForm, SuperscriptBox]]}], \")\"}]}], \"-\", \n",
       "\n",
       " \n",
       ">            RowBox[{\"2\", \" \", RowBox[{\"cos\", \"(\", RowBox[{\"2\", \" \", \"ϕ\"}], \")\"}], \" \", \n",
       "\n",
       " \n",
       ">              TemplateBox[List[SubscriptBox[OverscriptBox[\"f\", \"^\"], \n",
       "\n",
       " \n",
       ">                 RowBox[List[\"x\", \",\", \"y\"]]], \"\\\"(5)\\\"\"], \"Superscript\", \n",
       "\n",
       " \n",
       ">               Rule[SyntaxForm, SuperscriptBox]]}]}], \")\"}]}], TraditionalForm]\n"
      ]
     },
     "execution_count": 69,
     "metadata": {
      "text/html": [],
      "text/plain": []
     },
     "output_type": "execute_result"
    }
   ],
   "source": [
    "(* Доказатество последнего равенства в уравнении для изменениия момента импульса *)\n",
    "leviCivitaArray = Normal[LeviCivitaTensor[2]];\n",
    "-2/5 FullSimplify[EinsteinSummation[{{i, j}, {i, k}, {k, j}}, {leviCivitaArray, fh5, fh}]] // TraditionalForm"
   ]
  },
  {
   "cell_type": "markdown",
   "metadata": {},
   "source": [
    "<span style=\"color:brown\">**NB:**</span> Выражения полностью <span style=\"color:green\">**совпадают**</span>\n",
    "с $dE/dt, dJ/dt$ из задачника Лайтман А., Пресс В., Прайс Р., Тюкольки С. - 1979 - Сборник задач по теории относительности и гравитации (Решение задачи 18.5, стр. 446-447)\n",
    "\n",
    "Не стоит забывать, что в задачнике система геометризированных единиц $G = c = 1$."
   ]
  },
  {
   "cell_type": "markdown",
   "metadata": {},
   "source": [
    "# Получим другим способом **энергетическую** систему уравнений через Гамильтонов подход\n",
    "\n",
    "## Гамильтониан системы\n",
    "\n",
    "$$\n",
    "H = T + (U + \\mu \\Phi) = E + \\mu \\Phi\n",
    "$$\n",
    "\n",
    "В обезразмеренном виде это будет\n",
    "\n",
    "$$\n",
    "\\hat{H} = \\hat{T} + (\\hat{U} + \\frac{5}{2}\\epsilon_G\\hat{\\Phi}) = \\hat{E} + \\frac{5}{2}\\epsilon_G\\hat{\\Phi}\n",
    "$$\n",
    "\n",
    "Общая форма уравнений Гамильтона гласит:\n",
    "$$\n",
    "\\frac{dA}{dt} = \\frac{\\partial A}{\\partial t} + \\{A, \\hat{H}\\},\n",
    "$$\n",
    "где $\\{A, B\\} = \\frac{\\partial A}{\\partial q_i}\\frac{\\partial B}{\\partial p_i} - \\frac{\\partial A}{\\partial p_i}\\frac{\\partial B}{\\partial q_i}$ - скобка Пуассона,\n",
    "а $q_i$ и $p_i$ - обобщённые координаты и импульсы соотвественно.\n",
    "\n",
    "В нашей задаче обобщённые координаты $(r, \\phi)$.\n",
    "\n",
    "А обобщённые импульсы это - радиальный импульс\n",
    "$p_{r} = \\frac{\\partial \\hat{L}}{\\partial \\dot{r}} = \\hat{r}^{(1)}$,\n",
    "\n",
    "и угловой импульс\n",
    "$p_{\\phi} = \\frac{\\partial \\hat{L}}{\\partial \\dot{\\phi}} = \\frac{\\partial \\hat{L}}{\\partial \\hat{\\omega}} = \\hat{r}^2 \\hat{\\omega} = \\hat{J}$, что есть момент импульса.\n",
    "\n",
    "Найдем как энергия $\\hat{E}$​ (без учета диссипации) эволюционирует под действием полного гамильтониана $Н$.\n",
    "\n",
    "Для этого заметим, что $\\{\\hat{E}, \\hat{E}\\} = 0$, а $\\frac{\\partial \\hat{T}}{\\partial t} = \\frac{\\partial \\hat{U}}{\\partial t} = \\frac{\\partial \\hat{E}}{\\partial t} = 0$, так как кинетическая и потенциальная энергии явно не зависят от времени.\n",
    "\n",
    "Отсюда получаем\n",
    "$$\n",
    "\\frac{d\\hat{E}}{d\\hat{t}} = \\frac{\\partial \\hat{E}}{\\partial \\hat{t}} + \\{\\hat{E}, \\hat{H}\\} = \\frac{5}{2}\\epsilon_G\\{\\hat{E}, \\hat{\\Phi}\\}.\n",
    "$$\n",
    "\n",
    "Учитывая, что уравнения Гамильтона для $\\hat{H}$ есть\n",
    "$$\n",
    "\\begin{align}\n",
    "\\frac{\\partial \\hat{H}}{\\partial q_i} = \\frac{\\partial \\hat{E}}{\\partial q_i} + \\frac{5}{2}\\epsilon_G\\frac{\\partial \\hat{\\Phi}}{\\partial q_i} &= -\\dot{p}_i\n",
    "\\\\\n",
    "\\frac{\\partial \\hat{H}}{\\partial p_i} = \\frac{\\partial \\hat{E}}{\\partial p_i} + \\frac{5}{2}\\epsilon_G\\frac{\\partial \\hat{\\Phi}}{\\partial p_i} &= \\dot{q}_i,\n",
    "\\end{align}\n",
    "$$\n",
    "а $\\frac{\\partial \\hat{\\Phi}}{\\partial p_i} = 0$, то получим\n",
    "$$\n",
    "\\frac{d\\hat{E}}{d\\hat{t}} = -\\frac{5}{2}\\epsilon_G \\dot{q}_i\\frac{\\partial \\hat{\\Phi}}{\\partial q_i} = - \\frac{5}{2}\\epsilon_G\\left(\\hat{r}^{(1)}\\frac{\\partial \\hat{\\Phi}}{\\partial \\hat{r}} + \\hat{\\omega} \\frac{\\partial \\hat{\\Phi}}{\\partial \\phi}\\right).\n",
    "$$\n",
    "\n",
    "Найдем как момент импульса $\\hat{J}$​ (без учета диссипации) эволюционирует под действием полного гамильтониана $\\hat{Н}$.\n",
    "\n",
    "Так как у $\\hat{J} = p_{\\phi}$ нет явной зависимости от времени, а обобщённые координаты и импульсы независимые переменные, то частные производные равны\n",
    "$$\n",
    "\\frac{\\partial \\hat{J}}{\\partial \\hat{t}} = \\frac{\\partial \\hat{J}}{\\partial \\hat{r}} = \\frac{\\partial \\hat{J}}{\\partial \\phi} = \\frac{\\partial \\hat{J}}{\\partial p_r} = 0,\n",
    "\\quad\n",
    "\\frac{\\partial \\hat{J}}{\\partial p_{\\phi}} = 1.\n",
    "$$\n",
    "Отсюда находим\n",
    "$$\n",
    "\\frac{d\\hat{J}}{d\\hat{t}} = \\frac{\\partial \\hat{J}}{\\partial \\hat{t}} + \\{\\hat{J}, \\hat{H}\\} = - \\frac{\\partial \\hat{H}}{\\partial \\phi} = -\\frac{5}{2}\\epsilon_G\\frac{\\partial \\hat{\\Phi}}{\\partial \\phi}.\n",
    "$$\n",
    "\n",
    "<span style=\"color:brown\">**NB:**</span> Выражения для $\\frac{d\\hat{E}}{dt}$ и $\\frac{d\\hat{J}}{dt}$ полностью <span style=\"color:green\">**совпадают**</span> с предыдущими подходами!"
   ]
  },
  {
   "cell_type": "markdown",
   "metadata": {},
   "source": [
    "# Итоговая система **энергетических** уравнений:\n",
    "\n",
    "$$\n",
    "\\begin{align}\n",
    "\\tag{dJ/dt}\n",
    "\\frac{d\\hat{J}}{d\\hat{t}} &= -\\frac{1}{2} \\epsilon_G\n",
    "\\hat{r}^2\n",
    "\\left(\n",
    "  \\sin (2 \\phi ) \\left(\\hat{f}_{y,y}{}^{\\text{(5)}}-\\hat{f}_{x,x}{}^{\\text{(5)}}\\right)+2 \\cos (2 \\phi ) \\hat{f}_{x,y}{}^{\\text{(5)}}\n",
    "\\right)\n",
    "= \\epsilon_G I_J\n",
    "\\\\\n",
    "\\tag{dE/dt}\n",
    "\\frac{d\\hat{E}}{d\\hat{t}} &= \\epsilon_G\n",
    "\\left(\n",
    "  I_J\\hat{\\omega}\n",
    "  -\\hat{r} \\hat{r}'\n",
    "  \\left(\n",
    "  \\sin (2 \\phi ) \\hat{f}_{x,y}{}^{\\text{(5)}}+\\cos ^2(\\phi ) \\hat{f}_{x,x}{}^{\\text{(5)}}+\\sin ^2(\\phi ) \\hat{f}_{y,y}{}^{\\text{(5)}}\n",
    "  \\right)\n",
    "\\right)\n",
    "= \\epsilon_G I_E\n",
    "\\end{align}\n",
    "$$"
   ]
  },
  {
   "cell_type": "markdown",
   "metadata": {},
   "source": [
    "# RHS уравнения (dJ/dt)\n",
    "\n",
    "Введём новое обозначение $\\hat{r}^2 \\equiv \\hat{r}_2$"
   ]
  },
  {
   "cell_type": "code",
   "execution_count": 70,
   "metadata": {
    "vscode": {
     "languageId": "wolfram"
    }
   },
   "outputs": [],
   "source": [
    "ToR2Replacement = {\n",
    "  OverHat[r][OverHat[t]] -> Sqrt[Subscript[OverHat[r],2][OverHat[t]]],\n",
    "  Derivative[n_][OverHat[r]][OverHat[t]] :> D[Sqrt[Subscript[OverHat[r], 2][OverHat[t]]], {OverHat[t], n}]\n",
    "};"
   ]
  },
  {
   "cell_type": "markdown",
   "metadata": {},
   "source": [
    "и подставим в (dJ/dt) значения $\\hat{f}_{i,j}^{(5)}$:"
   ]
  },
  {
   "cell_type": "code",
   "execution_count": 76,
   "metadata": {
    "vscode": {
     "languageId": "wolfram"
    }
   },
   "outputs": [
    {
     "data": {
      "text/html": [
       "<div><img alt=\"Output\" src=\"data:image/png;base64,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\"></div>"
      ],
      "text/plain": [
       "FormBox[RowBox[{SubscriptBox[OverscriptBox[\"r\", \"^\"], \"2\"], \" \", \n",
       "\n",
       " \n",
       ">        RowBox[{\"(\", RowBox[{RowBox[{\"-\", \n",
       "\n",
       " \n",
       ">              RowBox[{\"5\", \" \", SuperscriptBox[SubscriptBox[OverscriptBox[\"r\", \"^\"], \n",
       "\n",
       " \n",
       ">                  \"2\"], \"′\"], \" \", SuperscriptBox[OverscriptBox[\"ω\", \"^\"], \"′′′\"]}]}], \n",
       "\n",
       " \n",
       ">            \"-\", RowBox[{\"10\", \" \", SuperscriptBox[SubscriptBox[OverscriptBox[\"r\", \n",
       "\n",
       " \n",
       ">                 \"^\"], \"2\"], \"′′′\"], \" \", SuperscriptBox[OverscriptBox[\"ω\", \"^\"],\\\n",
       " \n",
       ">    \"′\"]}]\\\n",
       ", \"+\", RowBox[{\"120\", \" \", SuperscriptBox[OverscriptBox[\"ω\", \"^\"], \"2\"], \"\\\n",
       " \n",
       ">    \", \n",
       "           SuperscriptBox[SubscriptBox[OverscriptBox[\"r\", \"^\"], \"2\"], \"′\"], \"\\\n",
       " \n",
       ">    \", \n",
       "           SuperscriptBox[OverscriptBox[\"ω\", \"^\"], \"′\"]}], \"+\", \n",
       "\n",
       " \n",
       ">            RowBox[{\"60\", \" \", SubscriptBox[OverscriptBox[\"r\", \"^\"], \"2\"], \" \", \n",
       "\n",
       " \n",
       ">              OverscriptBox[\"ω\", \"^\"], \" \", \n",
       "           SuperscriptBox[RowBox[{\"(\", \n",
       "\n",
       " \n",
       ">                 SuperscriptBox[OverscriptBox[\"ω\", \"^\"], \"′\"], \")\"}], \"2\"]}], \"+\", \n",
       "\n",
       " \n",
       ">            RowBox[{\"40\", \" \", SuperscriptBox[OverscriptBox[\"ω\", \"^\"], \"3\"], \" \", \n",
       "\n",
       " \n",
       ">              SuperscriptBox[SubscriptBox[OverscriptBox[\"r\", \"^\"], \"2\"], \"′′\"]}], \"+\", \n",
       "\n",
       " \n",
       ">            RowBox[{\"40\", \" \", SubscriptBox[OverscriptBox[\"r\", \"^\"], \"2\"], \" \", \n",
       "\n",
       " \n",
       ">              SuperscriptBox[OverscriptBox[\"ω\", \"^\"], \"2\"], \" \", \n",
       "\n",
       " \n",
       ">              SuperscriptBox[OverscriptBox[\"ω\", \"^\"], \"′′\"]}], \"-\", \n",
       "\n",
       " \n",
       ">            RowBox[{\"10\", \" \", SuperscriptBox[SubscriptBox[OverscriptBox[\"r\", \"^\"], \n",
       "\n",
       " \n",
       ">                \"2\"], \"′′\"], \" \", SuperscriptBox[OverscriptBox[\"ω\", \"^\"], \"′′\"]}], \"-\",\\\n",
       " \n",
       ">    \n",
       "         RowBox[{\"5\", \" \", OverscriptBox[\"ω\", \"^\"], \" \", \n",
       "\n",
       " \n",
       ">              SuperscriptBox[SubscriptBox[OverscriptBox[\"r\", \"^\"], \"2\"], \"′′′′\"]}],\\\n",
       " \n",
       ">    \"-\", \n",
       "         RowBox[{SubscriptBox[OverscriptBox[\"r\", \"^\"], \"2\"], \" \", \n",
       "\n",
       " \n",
       ">              SuperscriptBox[OverscriptBox[\"ω\", \"^\"], \"′′′′\"]}], \"-\", \n",
       "\n",
       " \n",
       ">            RowBox[{RowBox[{\"16\"}], \" \", SubscriptBox[OverscriptBox[\"r\", \"^\"], \"2\"], \n",
       "\n",
       " \n",
       ">              \" \", SuperscriptBox[OverscriptBox[\"ω\", \"^\"], \"5\"]}]}], \")\"}]}], \n",
       "\n",
       " \n",
       ">      TraditionalForm]\n"
      ]
     },
     "execution_count": 76,
     "metadata": {
      "text/html": [],
      "text/plain": []
     },
     "output_type": "execute_result"
    }
   ],
   "source": [
    "fh1 = fh /. ToR2Replacement;\n",
    "fh5Symbolic = Simplify[D[fh1, {OverHat[t], 5}], Trig -> True];\n",
    "\n",
    "Fh5Replacement = Flatten[{\n",
    "  Outer[\n",
    "    Superscript[Subscript[OverHat[f], #1, #2], \"(5)\"] -> fh5Symbolic[[#1 /. {x -> 1, y -> 2}, #2 /. {x -> 1, y -> 2}]] &,\n",
    "    {x, y}, {x, y}\n",
    "  ],\n",
    "  ToR2Replacement,\n",
    "  OmegaReplace\n",
    "}];\n",
    "\n",
    "dJdtTemp = RHSEnegryLagrange[[2]] //. Fh5Replacement;\n",
    "dJdt = Subscript[OverHat[r],2][OverHat[t]]*Expand[Simplify[dJdtTemp/Subscript[\\[Epsilon], G], Trig -> True]/Subscript[OverHat[r],2][OverHat[t]]];\n",
    "dJdt // TraditionalForm"
   ]
  },
  {
   "cell_type": "markdown",
   "metadata": {},
   "source": [
    "<span style=\"color:brown\">**NB:**</span> В файле Binary.pdf выводится <span style=\"color:green\">**точно такое же**</span> выражение"
   ]
  },
  {
   "cell_type": "markdown",
   "metadata": {},
   "source": [
    "$$\n",
    "I_J = I_1 = \\hat{r}_2 \\left[ 120\\hat{r}_2^{(1)}\\hat{\\omega}^2\\hat{\\omega}^{(1)} - 5\\hat{r}_2^{(1)}\\hat{\\omega}^{(3)} - 16\\hat{r}_2\\hat{\\omega}^5 - 10\\hat{r}_2^{(2)}\\hat{\\omega}^{(2)} + 60\\hat{r}_2\\hat{\\omega}(\\hat{\\omega}^{(1)})^2\n",
    "- 10\\hat{r}_2^{(3)}\\hat{\\omega}^{(1)} + 40\\hat{r}_2^{(2)}\\hat{\\omega}^3 - 5\\hat{r}_2^{(4)}\\hat{\\omega} - \\hat{r}_2\\hat{\\omega}^{(4)} + 40\\hat{r}_2\\hat{\\omega}^2\\hat{\\omega}^{(2)} \\right]\n",
    "$$"
   ]
  },
  {
   "cell_type": "code",
   "execution_count": 78,
   "metadata": {
    "vscode": {
     "languageId": "wolfram"
    }
   },
   "outputs": [
    {
     "data": {
      "text/html": [
       "<div><pre style=\"&#102;&#111;&#110;&#116;&#45;&#102;&#97;&#109;&#105;&#108;&#121;&#58;&#32;&#34;&#67;&#111;&#117;&#114;&#105;&#101;&#114;&#32;&#78;&#101;&#119;&#34;&#44;&#67;&#111;&#117;&#114;&#105;&#101;&#114;&#44;&#109;&#111;&#110;&#111;&#115;&#112;&#97;&#99;&#101;&#59;\">&#48;</pre></div>"
      ],
      "text/plain": [
       "0"
      ]
     },
     "execution_count": 78,
     "metadata": {
      "text/html": [],
      "text/plain": []
     },
     "output_type": "execute_result"
    }
   ],
   "source": [
    "I1 = Subscript[OverHat[r], 2][OverHat[t]] * (\n",
    "    120 * Derivative[1][Subscript[OverHat[r], 2]][OverHat[t]] *\n",
    "    OverHat[\\[Omega]][OverHat[t]]^2 * Derivative[1][OverHat[\\[Omega]]][OverHat[t]]\n",
    "    - 5 * Derivative[1][Subscript[OverHat[r], 2]][OverHat[t]] *\n",
    "    Derivative[3][OverHat[\\[Omega]]][OverHat[t]]\n",
    "    - 16 * Subscript[OverHat[r], 2][OverHat[t]] *\n",
    "    OverHat[\\[Omega]][OverHat[t]]^5\n",
    "    - 10 * Derivative[2][Subscript[OverHat[r], 2]][OverHat[t]] *\n",
    "    Derivative[2][OverHat[\\[Omega]]][OverHat[t]]\n",
    "    + 60 * Subscript[OverHat[r], 2][OverHat[t]] *\n",
    "    OverHat[\\[Omega]][OverHat[t]] * Derivative[1][OverHat[\\[Omega]]][OverHat[t]]^2\n",
    "    - 10 * Derivative[3][Subscript[OverHat[r], 2]][OverHat[t]] *\n",
    "    Derivative[1][OverHat[\\[Omega]]][OverHat[t]]\n",
    "    + 40 * Derivative[2][Subscript[OverHat[r], 2]][OverHat[t]] *\n",
    "    OverHat[\\[Omega]][OverHat[t]]^3\n",
    "    - 5 * Derivative[4][Subscript[OverHat[r], 2]][OverHat[t]] *\n",
    "    OverHat[\\[Omega]][OverHat[t]]\n",
    "    - Subscript[OverHat[r], 2][OverHat[t]] *\n",
    "    Derivative[4][OverHat[\\[Omega]]][OverHat[t]]\n",
    "    + 40 * Subscript[OverHat[r], 2][OverHat[t]] *\n",
    "    OverHat[\\[Omega]][OverHat[t]]^2 * Derivative[2][OverHat[\\[Omega]]][OverHat[t]]\n",
    ");\n",
    "dJdt - I1"
   ]
  },
  {
   "cell_type": "markdown",
   "metadata": {},
   "source": [
    "# RHS уравнения (dE/dt)\n",
    "\n",
    "Подставим в (dE/dt) значения $\\hat{f}_{i,j}^{(5)}$:"
   ]
  },
  {
   "cell_type": "code",
   "execution_count": 81,
   "metadata": {
    "vscode": {
     "languageId": "wolfram"
    }
   },
   "outputs": [
    {
     "data": {
      "text/html": [
       "<div><img alt=\"Output\" src=\"data:image/png;base64,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\"></div>"
      ],
      "text/plain": [
       "FormBox[RowBox[{FractionBox[\"1\", \"3\"], \" \", \n",
       "\n",
       " \n",
       ">        RowBox[{\"(\", RowBox[{RowBox[{OverscriptBox[\"ω\", \"^\"], \" \", \n",
       "\n",
       " \n",
       ">              RowBox[{\"(\", RowBox[{RowBox[{\"-\", \n",
       "\n",
       " \n",
       ">                    RowBox[{\"3\", \" \", SubscriptBox[OverscriptBox[\"r\", \"^\"], \"2\"], \n",
       "\n",
       " \n",
       ">                      \" \", RowBox[{\"(\", \n",
       "\n",
       " \n",
       ">                        RowBox[{RowBox[{\"10\", \" \", \n",
       "\n",
       " \n",
       ">                            SuperscriptBox[SubscriptBox[OverscriptBox[\"r\", \"^\"], \n",
       "\n",
       " \n",
       ">                              \"2\"], \"′′′\"], \" \", \n",
       "\n",
       " \n",
       ">                            SuperscriptBox[OverscriptBox[\"ω\", \"^\"], \"′\"]}], \"+\", \n",
       "\n",
       " \n",
       ">                          RowBox[{\"10\", \" \", \n",
       "\n",
       " \n",
       ">                            SuperscriptBox[SubscriptBox[OverscriptBox[\"r\", \"^\"], \n",
       "\n",
       " \n",
       ">                              \"2\"], \"′′\"], \" \", \n",
       "\n",
       " \n",
       ">                            SuperscriptBox[OverscriptBox[\"ω\", \"^\"], \"′′\"]}], \"+\", \n",
       "\n",
       " \n",
       ">                          RowBox[{SubscriptBox[OverscriptBox[\"r\", \"^\"], \"2\"], \" \", \n",
       "\n",
       " \n",
       ">                            SuperscriptBox[OverscriptBox[\"ω\", \"^\"], \"′′′′\"]}]}], \")\"}]\\\n",
       "\n",
       " \n",
       ">   }]}], \"+\", RowBox[{\"60\", \" \", SuperscriptBox[RowBox[{\"(\", \n",
       "\n",
       " \n",
       ">                       SuperscriptBox[SubscriptBox[OverscriptBox[\"r\", \"^\"], \"2\"], \n",
       "\n",
       " \n",
       ">                        \"′\"], \")\"}], \"2\"], \" \", \n",
       "\n",
       " \n",
       ">                    SuperscriptBox[OverscriptBox[\"ω\", \"^\"], \"′′\"]}], \"+\", \n",
       "\n",
       " \n",
       ">                  RowBox[{\"90\", \" \", \n",
       "\n",
       " \n",
       ">                    SuperscriptBox[SubscriptBox[OverscriptBox[\"r\", \"^\"], \"2\"], \"′\"], \n",
       "\n",
       " \n",
       ">                    \" \", SuperscriptBox[SubscriptBox[OverscriptBox[\"r\", \"^\"], \"2\"], \n",
       "\n",
       " \n",
       ">                     \"′′\"], \" \", SuperscriptBox[OverscriptBox[\"ω\", \"^\"], \"′\"]}]}],\\\n",
       " \n",
       ">    \")\"}]\\\n",
       "}], \"+\", RowBox[{SuperscriptBox[SubscriptBox[OverscriptBox[\"r\", \"^\"], \"2\"],\\\n",
       " \n",
       ">    \"′\"], \n",
       "           \" \", RowBox[{\"(\", RowBox[{RowBox[{\"30\", \" \", \n",
       "\n",
       " \n",
       ">                    SubscriptBox[OverscriptBox[\"r\", \"^\"], \"2\"], \" \", \n",
       "\n",
       " \n",
       ">                    SuperscriptBox[OverscriptBox[\"ω\", \"^\"], \"′\"], \" \", \n",
       "\n",
       " \n",
       ">                    SuperscriptBox[OverscriptBox[\"ω\", \"^\"], \"′′\"]}], \"+\", \n",
       "\n",
       " \n",
       ">                  RowBox[{\"45\", \" \", \n",
       "\n",
       " \n",
       ">                    SuperscriptBox[SubscriptBox[OverscriptBox[\"r\", \"^\"], \"2\"], \"′\"], \n",
       "\n",
       " \n",
       ">                    \" \", SuperscriptBox[RowBox[{\"(\", \n",
       "\n",
       " \n",
       ">                       SuperscriptBox[OverscriptBox[\"ω\", \"^\"], \"′\"], \")\"}], \"2\"]}], \n",
       "\n",
       " \n",
       ">                  \"-\", SuperscriptBox[SubscriptBox[OverscriptBox[\"r\", \"^\"], \"2\"], \n",
       "\n",
       " \n",
       ">                   \"′′′′′\"]}], \")\"}]}], \"-\", \n",
       "\n",
       " \n",
       ">            RowBox[{\"60\", \" \", SuperscriptBox[OverscriptBox[\"ω\", \"^\"], \"4\"], \" \", \n",
       "\n",
       " \n",
       ">              RowBox[{\"(\", RowBox[{SuperscriptBox[RowBox[{\"(\", \n",
       "\n",
       " \n",
       ">                     SuperscriptBox[SubscriptBox[OverscriptBox[\"r\", \"^\"], \"2\"], \n",
       "\n",
       " \n",
       ">                      \"′\"], \")\"}], \"2\"], \"-\", \n",
       "\n",
       " \n",
       ">                  RowBox[{\"2\", \" \", SubscriptBox[OverscriptBox[\"r\", \"^\"], \"2\"], \" \", \n",
       "\n",
       " \n",
       ">                    SuperscriptBox[SubscriptBox[OverscriptBox[\"r\", \"^\"], \"2\"],\\\n",
       " \n",
       ">    \"′′\"]}]}\\\n",
       "], \")\"}]}], \"+\", RowBox[{\"120\", \" \", SubscriptBox[OverscriptBox[\"r\",\\\n",
       " \n",
       ">    \"^\"], \"2\"], \n",
       "           \" \", SuperscriptBox[OverscriptBox[\"ω\", \"^\"], \"3\"], \" \", \n",
       "\n",
       " \n",
       ">              RowBox[{\"(\", RowBox[{RowBox[{\"2\", \" \", \n",
       "\n",
       " \n",
       ">                    SuperscriptBox[SubscriptBox[OverscriptBox[\"r\", \"^\"], \"2\"], \"′\"], \n",
       "\n",
       " \n",
       ">                    \" \", SuperscriptBox[OverscriptBox[\"ω\", \"^\"], \"′\"]}], \"+\", \n",
       "\n",
       " \n",
       ">                  RowBox[{SubscriptBox[OverscriptBox[\"r\", \"^\"], \"2\"], \" \", \n",
       "\n",
       " \n",
       ">                    SuperscriptBox[OverscriptBox[\"ω\", \"^\"], \"′′\"]}]}], \")\"}]}], \"+\", \n",
       "\n",
       " \n",
       ">            RowBox[{\"15\", \" \", SuperscriptBox[OverscriptBox[\"ω\", \"^\"], \"2\"], \" \", \n",
       "\n",
       " \n",
       ">              RowBox[{\"(\", RowBox[{RowBox[{\"12\", \" \", \n",
       "\n",
       " \n",
       ">                    SubsuperscriptBox[OverscriptBox[\"r\", \"^\"], \"2\", \"2\"], \" \", \n",
       "\n",
       " \n",
       ">                    SuperscriptBox[RowBox[{\"(\", \n",
       "\n",
       " \n",
       ">                       SuperscriptBox[OverscriptBox[\"ω\", \"^\"], \"′\"], \")\"}], \"2\"]}], \n",
       "\n",
       " \n",
       ">                  \"+\", RowBox[{\"2\", \" \", \n",
       "\n",
       " \n",
       ">                    SuperscriptBox[SubscriptBox[OverscriptBox[\"r\", \"^\"], \"2\"], \"′\"], \n",
       "\n",
       " \n",
       ">                    \" \", SuperscriptBox[SubscriptBox[OverscriptBox[\"r\", \"^\"], \"2\"], \n",
       "\n",
       " \n",
       ">                     \"′′′\"]}], \"-\", RowBox[{SubscriptBox[OverscriptBox[\"r\", \"^\"], \n",
       "\n",
       " \n",
       ">                     \"2\"], \" \", SuperscriptBox[SubscriptBox[OverscriptBox[\"r\", \"^\"], \n",
       "\n",
       " \n",
       ">                      \"2\"], \"′′′′\"]}]}], \")\"}]}], \"-\", \n",
       "\n",
       " \n",
       ">            RowBox[{RowBox[{\"48\"}], \" \", \n",
       "\n",
       " \n",
       ">              SubsuperscriptBox[OverscriptBox[\"r\", \"^\"], \"2\", \"2\"], \" \", \n",
       "\n",
       " \n",
       ">              SuperscriptBox[OverscriptBox[\"ω\", \"^\"], \"6\"]}]}], \")\"}]}],\\\n",
       " \n",
       ">    TraditionalForm]\n"
      ]
     },
     "execution_count": 81,
     "metadata": {
      "text/html": [],
      "text/plain": []
     },
     "output_type": "execute_result"
    }
   ],
   "source": [
    "dEdtTemp = RHSEnegryLagrange[[1]] //. Fh5Replacement;\n",
    "dEdt = Simplify[dEdtTemp/Subscript[\\[Epsilon], G], Trig -> True];\n",
    "dEdt // TraditionalForm"
   ]
  },
  {
   "cell_type": "markdown",
   "metadata": {},
   "source": [
    "<span style=\"color:brown\">**NB:**</span> В файлах Binary.pdf и binary_catch1.pdf выводится <span style=\"color:green\">**точно такие же**</span> выражения для правой части (dE/dt),\n",
    "а именно $I_E = I_1\\hat{\\omega} + I_2\\frac{\\dot{r}}{r}$, где\n",
    "$$\n",
    "I_2 = 2\\hat{r}_2 \\left[ -40\\hat{r}_2\\hat{\\omega}^3\\hat{\\omega}^{(1)} - 20\\hat{\\omega}^4\\hat{r}_2^{(1)} + 5\\hat{r}_2\\hat{\\omega}\\hat{\\omega}^{(3)} + 10\\hat{r}_2\\hat{\\omega}^{(1)}\\hat{\\omega}^{(2)} + 10\\hat{\\omega}^2\\hat{r}_2^{(3)} + 30\\hat{\\omega}\\hat{\\omega}^{(1)}\\hat{r}_2^{(2)} + 20\\hat{\\omega}\\hat{\\omega}^{(2)}\\hat{r}_2^{(1)} + 15\\hat{r}_2^{(1)}(\\hat{\\omega}^{(1)})^2 - \\frac{1}{3}\\hat{r}_2^{(5)} \\right]\n",
    "$$"
   ]
  },
  {
   "cell_type": "code",
   "execution_count": 83,
   "metadata": {
    "vscode": {
     "languageId": "wolfram"
    }
   },
   "outputs": [
    {
     "data": {
      "text/html": [
       "<div><pre style=\"&#102;&#111;&#110;&#116;&#45;&#102;&#97;&#109;&#105;&#108;&#121;&#58;&#32;&#34;&#67;&#111;&#117;&#114;&#105;&#101;&#114;&#32;&#78;&#101;&#119;&#34;&#44;&#67;&#111;&#117;&#114;&#105;&#101;&#114;&#44;&#109;&#111;&#110;&#111;&#115;&#112;&#97;&#99;&#101;&#59;\">&#48;</pre></div>"
      ],
      "text/plain": [
       "0"
      ]
     },
     "execution_count": 83,
     "metadata": {
      "text/html": [],
      "text/plain": []
     },
     "output_type": "execute_result"
    }
   ],
   "source": [
    "I2 = 2 * Subscript[OverHat[r], 2][OverHat[t]] * (\n",
    "    -40 * Subscript[OverHat[r], 2][OverHat[t]] *\n",
    "    OverHat[\\[Omega]][OverHat[t]]^3 * Derivative[1][OverHat[\\[Omega]]][OverHat[t]]\n",
    "    - 20 * OverHat[\\[Omega]][OverHat[t]]^4 *\n",
    "    Derivative[1][Subscript[OverHat[r], 2]][OverHat[t]]\n",
    "    + 5 * Subscript[OverHat[r], 2][OverHat[t]] *\n",
    "    OverHat[\\[Omega]][OverHat[t]] * Derivative[3][OverHat[\\[Omega]]][OverHat[t]]\n",
    "    + 10 * Subscript[OverHat[r], 2][OverHat[t]] *\n",
    "    Derivative[1][OverHat[\\[Omega]]][OverHat[t]] *\n",
    "    Derivative[2][OverHat[\\[Omega]]][OverHat[t]]\n",
    "    + 10 * OverHat[\\[Omega]][OverHat[t]]^2 *\n",
    "    Derivative[3][Subscript[OverHat[r], 2]][OverHat[t]]\n",
    "    + 30 * OverHat[\\[Omega]][OverHat[t]] *\n",
    "    Derivative[1][OverHat[\\[Omega]]][OverHat[t]] *\n",
    "    Derivative[2][Subscript[OverHat[r], 2]][OverHat[t]]\n",
    "    + 20 * OverHat[\\[Omega]][OverHat[t]] *\n",
    "    Derivative[2][OverHat[\\[Omega]]][OverHat[t]] *\n",
    "    Derivative[1][Subscript[OverHat[r], 2]][OverHat[t]]\n",
    "    + 15 * Derivative[1][Subscript[OverHat[r], 2]][OverHat[t]] *\n",
    "    Derivative[1][OverHat[\\[Omega]]][OverHat[t]]^2\n",
    "    - (1/3) * Derivative[5][Subscript[OverHat[r], 2]][OverHat[t]]\n",
    ");\n",
    "Simplify[(I2*D[OverHat[r][OverHat[t]], OverHat[t]]/OverHat[r][OverHat[t]] + I1*OverHat[\\[Omega]][OverHat[t]] /. ToR2Replacement) - dEdt]"
   ]
  },
  {
   "cell_type": "markdown",
   "metadata": {},
   "source": [
    "# Итоговые $I_J$, $I_E$\n",
    "\n",
    "$$\n",
    "\\begin{align}\n",
    "\\tag{IJ}\\\n",
    "I_J &= \\hat{r}_2 \\left[ 120\\hat{r}_2^{(1)}\\hat{\\omega}^2\\hat{\\omega}^{(1)} - 5\\hat{r}_2^{(1)}\\hat{\\omega}^{(3)} - 16\\hat{r}_2\\hat{\\omega}^5 - 10\\hat{r}_2^{(2)}\\hat{\\omega}^{(2)} + 60\\hat{r}_2\\hat{\\omega}(\\hat{\\omega}^{(1)})^2\n",
    "- 10\\hat{r}_2^{(3)}\\hat{\\omega}^{(1)} + 40\\hat{r}_2^{(2)}\\hat{\\omega}^3 - 5\\hat{r}_2^{(4)}\\hat{\\omega} - \\hat{r}_2\\hat{\\omega}^{(4)} + 40\\hat{r}_2\\hat{\\omega}^2\\hat{\\omega}^{(2)} \\right]\n",
    "\\\\\n",
    "\\tag{IE}\n",
    "I_E &= I_J\\hat{\\omega} + \\hat{r}_2^{(1)} \\left[ -40\\hat{r}_2\\hat{\\omega}^3\\hat{\\omega}^{(1)} - 20\\hat{\\omega}^4\\hat{r}_2^{(1)} + 5\\hat{r}_2\\hat{\\omega}\\hat{\\omega}^{(3)} + 10\\hat{r}_2\\hat{\\omega}^{(1)}\\hat{\\omega}^{(2)} + 10\\hat{\\omega}^2\\hat{r}_2^{(3)} + 30\\hat{\\omega}\\hat{\\omega}^{(1)}\\hat{r}_2^{(2)} + 20\\hat{\\omega}\\hat{\\omega}^{(2)}\\hat{r}_2^{(1)} + 15\\hat{r}_2^{(1)}(\\hat{\\omega}^{(1)})^2 - \\frac{1}{3}\\hat{r}_2^{(5)} \\right]\n",
    "\\end{align}\n",
    "$$"
   ]
  },
  {
   "cell_type": "markdown",
   "metadata": {},
   "source": [
    "# Попытка численного решения начального уравнения движения\n",
    "\n",
    "$$\n",
    "\\hat{r}_k^{(2)} + \\frac{\\hat{r}_k}{\\hat{r}^3} = - \\epsilon_G\\hat{f}_{ki}^{(5)}\\hat{r}_i\n",
    "$$"
   ]
  },
  {
   "cell_type": "code",
   "execution_count": 103,
   "metadata": {
    "vscode": {
     "languageId": "wolfram"
    }
   },
   "outputs": [
    {
     "data": {
      "text/html": [
       "<div><img alt=\"Output\" src=\"data:image/png;base64,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\"></div>"
      ],
      "text/plain": [
       "  ^\n",
       "{{r -> InterpolatingFunction[{{0., 95.}}, <>], \n",
       " \n",
       ">    ϕ -> InterpolatingFunction[{{0., 95.}}, <>]}}"
      ]
     },
     "execution_count": 103,
     "metadata": {
      "text/html": [],
      "text/plain": []
     },
     "output_type": "execute_result"
    }
   ],
   "source": [
    "Clear[rxNum, ryNum, uxNum, uyNum, tMaxNum, rhRules, icsNum, MaxDNum, epsilonGNum]\n",
    "\n",
    "rxNum = 10^3;\n",
    "uxNum = 0;\n",
    "\n",
    "(* зафиксированные *)\n",
    "(* ryNum = 1; *)\n",
    "ryNum = 0;\n",
    "uyNum = 0;\n",
    "\n",
    "(* Newton *)\n",
    "(* epsilonGNum = 0; *)\n",
    "epsilonGNum = 10^(-3);\n",
    "tMaxNum = 9.5*10^1;\n",
    "\n",
    "rhNum = {\n",
    "  Subscript[OverHat[r], \"x\"][OverHat[t]], Subscript[OverHat[r], \"y\"][OverHat[t]]\n",
    "  };\n",
    "D[rhNum, OverHat[t]];\n",
    "\n",
    "rhRules[MaxDNum_] := Join[\n",
    "  Thread[rhNum -> ({rxNum, ryNum} /. OverHat[t] -> 0)],\n",
    "  Thread[D[rhNum, OverHat[t]] -> ({uxNum, uyNum} /. OverHat[t] -> 0)],\n",
    "  Flatten[Table[\n",
    "    Thread[D[rhNum, {OverHat[t], i}] -> {0, 0}],\n",
    "    {i, 2, Max[MaxDNum, 2]}\n",
    "  ]] /. OverHat[t] -> 0,\n",
    "  {OverHat[t] -> 0}\n",
    "];\n",
    "\n",
    "icsNum[MaxDNum_] := Join[\n",
    "  Simplify[Table[D[OverHat[r][OverHat[t]] -> Sqrt[rhNum.rhNum], {OverHat[t], i}], {i, 0, Max[MaxDNum, 1]}] //. rhRules[MaxDNum]],\n",
    "  Simplify[Table[D[\\[Phi][OverHat[t]] -> ArcTan[rhNum[[1]], rhNum[[2]]], {OverHat[t], i}], {i, 0, Max[MaxDNum, 1]}] //. rhRules[MaxDNum]]\n",
    "];\n",
    "\n",
    "fh5SymbolicNum = Simplify[D[fh, {OverHat[t], 5}], Trig -> True];\n",
    "\n",
    "Fh5ReplacementNum = Flatten[{\n",
    "  Outer[\n",
    "    Superscript[Subscript[OverHat[f], #1, #2], \"(5)\"] -> fh5SymbolicNum[[#1 /. {x -> 1, y -> 2}, #2 /. {x -> 1, y -> 2}]] &,\n",
    "    {x, y}, {x, y}\n",
    "  ]\n",
    "}];\n",
    "\n",
    "sysNum = Simplify[D[rh, {OverHat[t], 2}] + rh/OverHat[r][OverHat[t]]^3 + epsilonGNum*fh5rh //. Fh5ReplacementNum];\n",
    "eqnsNum = {sysNum[[1]] == 0, sysNum[[2]] == 0};\n",
    "solNum = NDSolve[Join[eqnsNum, icsNum[If[epsilonGNum == 0, 1, 4]]] /. Rule -> Equal, {OverHat[r], \\[Phi]}, {OverHat[t], 0, tMaxNum}\n",
    "  (* WorkingPrecision -> 30,\n",
    "  PrecisionGoal -> 20,\n",
    "  AccuracyGoal -> 20,\n",
    "  Method -> \"StiffnessSwitching\",\n",
    "  MaxSteps -> 10^7 *)\n",
    "]"
   ]
  },
  {
   "cell_type": "code",
   "execution_count": 114,
   "metadata": {
    "vscode": {
     "languageId": "wolfram"
    }
   },
   "outputs": [
    {
     "data": {
      "text/html": [
       "<div><img alt=\"Output\" src=\"data:image/png;base64,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\"></div>"
      ],
      "text/plain": [
       "-Graphics-"
      ]
     },
     "execution_count": 114,
     "metadata": {
      "text/html": [],
      "text/plain": []
     },
     "output_type": "execute_result"
    }
   ],
   "source": [
    "tMaxNum2 = tMaxNum;\n",
    "\n",
    "RNum = OverHat[r][t] /. solNum[[1]];\n",
    "PhiNum = \\[Phi][t] /. solNum[[1]];\n",
    "dRDtNum = D[OverHat[r][t] /. solNum[[1]], t];\n",
    "OmegaNum = D[\\[Phi][t] /. solNum[[1]], t];\n",
    "\n",
    "PlotR = Plot[RNum, {t, 0, tMaxNum2},\n",
    "  AxesLabel -> {TraditionalForm[OverHat[t]], TraditionalForm[OverHat[r]]},\n",
    "  PlotRange -> All,\n",
    "  ScalingFunctions -> {\"Linear\", \"Log\"}\n",
    "];\n",
    "\n",
    "PlotRxRy = ParametricPlot[\n",
    "  {RNum Cos[PhiNum], RNum Sin[PhiNum]},\n",
    "  {t, 0, tMaxNum2},\n",
    "  AxesLabel -> {TraditionalForm[Subscript[OverHat[r], \"x\"]], TraditionalForm[Subscript[OverHat[r], \"y\"]]},\n",
    "  PlotRange -> All,\n",
    "  ScalingFunctions -> {\"Linear\", \"Linear\"}\n",
    "];\n",
    "\n",
    "PlotDRDt = Plot[dRDtNum, {t, 0, tMaxNum2},\n",
    "  AxesLabel -> {\n",
    "  TraditionalForm[OverHat[t]],\n",
    "  Style[TraditionalForm[HoldForm[D[OverHat[r], OverHat[t]]]], FontSize -> 7]\n",
    "  },\n",
    "  PlotRange -> All,\n",
    "  ScalingFunctions -> {\"Log\", \"SignedLog\"}\n",
    "];\n",
    "\n",
    "PlotPhi = Plot[PhiNum, {t, 0, tMaxNum2},\n",
    "  AxesLabel -> {TraditionalForm[OverHat[t]], TraditionalForm[OverHat[\\[Phi]]]},\n",
    "  PlotRange -> All,\n",
    "  ScalingFunctions -> {\"Linear\", \"Linear\"},\n",
    "  PlotStyle -> Red\n",
    "];\n",
    "\n",
    "PlotOmega = Plot[OmegaNum, {t, 0, tMaxNum2},\n",
    "  AxesLabel -> {TraditionalForm[OverHat[t]], TraditionalForm[OverHat[\\[Omega]]]},\n",
    "  PlotRange -> All,\n",
    "  ScalingFunctions -> {\"Log\", \"SignedLog\"},\n",
    "  PlotStyle -> Red\n",
    "];\n",
    "\n",
    "GraphicsRow[{PlotR, PlotRxRy, PlotDRDt, PlotPhi, PlotOmega}]"
   ]
  },
  {
   "cell_type": "code",
   "execution_count": 125,
   "metadata": {
    "vscode": {
     "languageId": "wolfram"
    }
   },
   "outputs": [
    {
     "data": {
      "text/html": [
       "<div><img alt=\"Output\" src=\"data:image/png;base64,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\"></div>"
      ],
      "text/plain": [
       "-Graphics-"
      ]
     },
     "execution_count": 125,
     "metadata": {
      "text/html": [],
      "text/plain": []
     },
     "output_type": "execute_result"
    }
   ],
   "source": [
    "EnergyNewtonNum = Energy /. OverHat[\\[Omega]][OverHat[t]] -> D[\\[Phi][OverHat[t]], OverHat[t]] /. OverHat[t] -> 0 /. icsNum[1];\n",
    "\n",
    "EnergyNum = Energy /. {\n",
    "  OverHat[r][OverHat[t]] -> RNum,\n",
    "  D[OverHat[r][OverHat[t]], OverHat[t]] -> dRDtNum,\n",
    "  OverHat[\\[Omega]][OverHat[t]] -> OmegaNum\n",
    "  };\n",
    "\n",
    "plotENewton = Plot[\n",
    "  EnergyNewtonNum, {t, 0, tMaxNum2},\n",
    "  PlotStyle -> Red,\n",
    "  PlotLegends -> {\"E Newton\"}\n",
    "];\n",
    "\n",
    "plotE = Plot[EnergyNum, {t, 0, tMaxNum2},\n",
    "  AxesLabel -> {TraditionalForm[OverHat[t]], \"E\"},\n",
    "  PlotLegends -> {TraditionalForm[\"E\"[OverHat[t]]]},\n",
    "  PlotRange -> All\n",
    "];\n",
    "\n",
    "PlotsE = Show[plotENewton, plotE, PlotRange -> All];\n",
    "\n",
    "AngularMomentumNewtonNum = AngularMomentum /. OverHat[\\[Omega]][OverHat[t]] -> D[\\[Phi][OverHat[t]], OverHat[t]] /. OverHat[t] -> 0 /. icsNum[1];\n",
    "\n",
    "AngularMomentumNum = AngularMomentum /. {\n",
    "  OverHat[r][OverHat[t]] -> RNum,\n",
    "  OverHat[\\[Omega]][OverHat[t]] -> OmegaNum\n",
    "};\n",
    "\n",
    "plotJNewton = Plot[\n",
    "  AngularMomentumNewtonNum, {t, 0, tMaxNum2},\n",
    "  PlotStyle -> Red,\n",
    "  ScalingFunctions -> {\"Log\", \"Linear\"},\n",
    "  PlotLegends -> {\"J Newton\"}\n",
    "];\n",
    "\n",
    "plotJ = Plot[AngularMomentumNum, {t, 0, tMaxNum2},\n",
    "  AxesLabel -> {TraditionalForm[OverHat[t]], \"J\"},\n",
    "  ScalingFunctions -> {\"Log\", \"Linear\"},\n",
    "  PlotLegends -> {TraditionalForm[\"J\"[OverHat[t]]]},\n",
    "  PlotRange -> All\n",
    "];\n",
    "\n",
    "PlotsJ = Show[plotJNewton, plotJ, PlotRange -> All];\n",
    "\n",
    "GraphicsRow[{PlotsE, PlotsJ}]"
   ]
  },
  {
   "cell_type": "markdown",
   "metadata": {},
   "source": [
    "<span style=\"color:brown\">**NB:**</span> Как можно видеть, численное решение при помощи Mathematica с участием пятой производной по времени пока невыполнимая задача."
   ]
  },
  {
   "cell_type": "markdown",
   "metadata": {},
   "source": [
    "# Потеря энергии за один период обращения"
   ]
  },
  {
   "cell_type": "markdown",
   "metadata": {},
   "source": [
    "Энергию гравитационного излучения невозможно локализовать в области меньше длины одной волны.\n",
    "\n",
    "Поэтому мгновенные изменения энергии и момента не имеют физического смысла.\n",
    "\n",
    "Однако, если мы просуммируем энергию и момент по полному периоду обращения, то с такими величинами можно работать.\n",
    "\n",
    "Рассчитаем в **нулевом приближении**, сколько энергии уносится из системы\n",
    "\n",
    "гравитационными волнами за один полный оборот, интегрируя по ньютоновской гиперболической траектории\n",
    "\n",
    "начиная с момента, когда тело \"бесконечно\" далеко, до момента минимального сближения (до перицентра) и обратно:\n",
    "$$\n",
    "\\Delta \\hat{E} = 2 \\epsilon_G \\int\\limits_{\\hat{t}_{\\text{min}}}^{\\infty}I_E(\\hat{t}) d \\hat{t}.\n",
    "$$"
   ]
  },
  {
   "cell_type": "markdown",
   "metadata": {},
   "source": [
    "В приближении Ньютона $I_J$ и $I_E$ равны нулю.\n",
    "Тогда и момент импульса и энергия сохраняются.\n",
    "\n",
    "$\\hat{J} = |\\vec{\\hat{r}} \\times \\vec{\\hat{v}}| = |\\vec{\\hat{r}}_\\infty \\times \\vec{\\hat{v}}_\\infty| = \\hat{r}\\hat{v}_\\infty \\sin(\\phi)$\n",
    "\n",
    "Так как $\\phi = \\pi/2$ на бесконечности, то $\\hat{J} = b\\hat{v}_\\infty = u$,\n",
    "то $u$ - безразмерная скорость на бесконечности.\n",
    "\n",
    "Отсюда следует, что $\\hat{\\omega} = \\frac{u}{\\hat{r}_2}$"
   ]
  },
  {
   "cell_type": "code",
   "execution_count": 126,
   "metadata": {
    "vscode": {
     "languageId": "wolfram"
    }
   },
   "outputs": [],
   "source": [
    "OmegaReplace2 = {\n",
    "   OverHat[\\[Omega]][OverHat[t]] -> u/Subscript[OverHat[r], 2][OverHat[t]],\n",
    "   Derivative[n_][OverHat[\\[Omega]]][OverHat[t]] :> u D[1/Subscript[OverHat[r], 2][OverHat[t]], {OverHat[t], n}]\n",
    "};"
   ]
  },
  {
   "cell_type": "markdown",
   "metadata": {},
   "source": [
    "Заменим переменные\n",
    "$$\n",
    "\\Delta \\hat{E} = - 2 \\epsilon_G \\int\\limits_{\\hat{r}_2^{\\text{min}}}^{\\infty}\\frac{I_E(\\hat{r}_2)}{\\hat{r}_2^{(1)}}d \\hat{r}_2,\n",
    "$$"
   ]
  },
  {
   "cell_type": "markdown",
   "metadata": {},
   "source": [
    "Здесь $\\hat{r}_2^{\\text{min}}$ - квадрат минимального расстояния между объектами:"
   ]
  },
  {
   "cell_type": "code",
   "execution_count": 128,
   "metadata": {
    "vscode": {
     "languageId": "wolfram"
    }
   },
   "outputs": [
    {
     "data": {
      "text/html": [
       "<div><img alt=\"Output\" src=\"data:image/png;base64,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\"></div>"
      ],
      "text/plain": [
       "FormBox[FractionBox[RowBox[{SuperscriptBox[\"u\", \"4\"], \"-\", \n",
       "\n",
       " \n",
       ">         RowBox[{\"2\", \" \", SqrtBox[RowBox[{SuperscriptBox[\"u\", \"4\"], \"+\", \"1\"}]]}],\\\n",
       " \n",
       ">    \"+\", \n",
       "      \"2\"}], SuperscriptBox[\"u\", \"4\"]], TraditionalForm]\n"
      ]
     },
     "execution_count": 128,
     "metadata": {
      "text/html": [],
      "text/plain": []
     },
     "output_type": "execute_result"
    }
   ],
   "source": [
    "rMin2[u_] := (2 + u^4 - 2 Sqrt[1 + u^4])/u^4;\n",
    "rMin2[u] // TraditionalForm"
   ]
  },
  {
   "cell_type": "code",
   "execution_count": 131,
   "metadata": {
    "vscode": {
     "languageId": "wolfram"
    }
   },
   "outputs": [
    {
     "data": {
      "text/html": [
       "<div><img alt=\"Output\" src=\"data:image/png;base64,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\"></div>"
      ],
      "text/plain": [
       "FormBox[RowBox[{FractionBox[RowBox[{\"16\", \" \", SuperscriptBox[\"u\", \"6\"]}], \n",
       "\n",
       " \n",
       ">         RowBox[{SubsuperscriptBox[OverscriptBox[\"r\", \"^\"], \"2\", \"4\"], \" \", \n",
       "\n",
       " \n",
       ">           SuperscriptBox[SubscriptBox[OverscriptBox[\"r\", \"^\"], \"2\"], \"′\"]}]], \"-\", \n",
       "\n",
       " \n",
       ">        FractionBox[RowBox[{\"40\", \" \", SuperscriptBox[\"u\", \"4\"], \" \", \n",
       "\n",
       " \n",
       ">           SuperscriptBox[SubscriptBox[OverscriptBox[\"r\", \"^\"], \"2\"], \"′\"]}], \n",
       "\n",
       " \n",
       ">         SubsuperscriptBox[OverscriptBox[\"r\", \"^\"], \"2\", \"4\"]], \"-\", \n",
       "\n",
       " \n",
       ">        FractionBox[RowBox[{\"4\", \" \", SuperscriptBox[\"u\", \"2\"], \" \", \n",
       "\n",
       " \n",
       ">           SuperscriptBox[RowBox[{\"(\", \n",
       "\n",
       " \n",
       ">              SuperscriptBox[SubscriptBox[OverscriptBox[\"r\", \"^\"], \"2\"], \"′′\"], \")\"}], \n",
       "\n",
       " \n",
       ">            \"2\"]}], RowBox[{SubsuperscriptBox[OverscriptBox[\"r\", \"^\"], \"2\", \"2\"], \" \", \n",
       "\n",
       " \n",
       ">           SuperscriptBox[SubscriptBox[OverscriptBox[\"r\", \"^\"], \"2\"], \"′\"]}]], \"+\", \n",
       "\n",
       " \n",
       ">        FractionBox[RowBox[{\"24\", \" \", SuperscriptBox[\"u\", \"2\"], \" \", \n",
       "\n",
       " \n",
       ">           SuperscriptBox[SubscriptBox[OverscriptBox[\"r\", \"^\"], \"2\"], \"′\"], \" \", \n",
       "\n",
       " \n",
       ">           SuperscriptBox[SubscriptBox[OverscriptBox[\"r\", \"^\"], \"2\"], \"′′\"]}], \n",
       "\n",
       " \n",
       ">         SubsuperscriptBox[OverscriptBox[\"r\", \"^\"], \"2\", \"3\"]], \"+\", \n",
       "\n",
       " \n",
       ">        FractionBox[RowBox[{\"4\", \" \", SuperscriptBox[\"u\", \"2\"], \" \", \n",
       "\n",
       " \n",
       ">           SuperscriptBox[SubscriptBox[OverscriptBox[\"r\", \"^\"], \"2\"], \"′′′′\"]}], \n",
       "\n",
       " \n",
       ">         RowBox[{SubscriptBox[OverscriptBox[\"r\", \"^\"], \"2\"], \" \", \n",
       "\n",
       " \n",
       ">           SuperscriptBox[SubscriptBox[OverscriptBox[\"r\", \"^\"], \"2\"], \"′\"]}]], \"-\", \n",
       "\n",
       " \n",
       ">        FractionBox[RowBox[{\"11\", \" \", SuperscriptBox[\"u\", \"2\"], \" \", \n",
       "\n",
       " \n",
       ">           SuperscriptBox[RowBox[{\"(\", \n",
       "\n",
       " \n",
       ">              SuperscriptBox[SubscriptBox[OverscriptBox[\"r\", \"^\"], \"2\"], \"′\"], \")\"}], \n",
       "\n",
       " \n",
       ">            \"3\"]}], SubsuperscriptBox[OverscriptBox[\"r\", \"^\"], \"2\", \"4\"]], \"-\", \n",
       "\n",
       " \n",
       ">        FractionBox[RowBox[{\"12\", \" \", SuperscriptBox[\"u\", \"2\"], \" \", \n",
       "\n",
       " \n",
       ">           SuperscriptBox[SubscriptBox[OverscriptBox[\"r\", \"^\"], \"2\"], \"′′′\"]}], \n",
       "\n",
       " \n",
       ">         SubsuperscriptBox[OverscriptBox[\"r\", \"^\"], \"2\", \"2\"]], \"+\", \n",
       "\n",
       " \n",
       ">        FractionBox[SuperscriptBox[SubscriptBox[OverscriptBox[\"r\", \"^\"], \"2\"],\\\n",
       " \n",
       ">    \"′′′′′\"], \n",
       "      \"3\"]}], TraditionalForm]\n"
      ]
     },
     "execution_count": 131,
     "metadata": {
      "text/html": [],
      "text/plain": []
     },
     "output_type": "execute_result"
    }
   ],
   "source": [
    "(* Минус учтём сразу *)\n",
    "dEdr = Simplify[-dEdt/D[Subscript[OverHat[r], 2][OverHat[t]], OverHat[t]] //. OmegaReplace2];\n",
    "Expand[Simplify[dEdr]] // TraditionalForm"
   ]
  },
  {
   "cell_type": "markdown",
   "metadata": {},
   "source": [
    "<span style=\"color:brown\">**NB:**</span> Выражение для $dE/dr$ <span style=\"color:green\">**сопадает**</span> с выраженем для интегранта из binary_catch1.pdf, если учесть деление на $\\hat{r}_2^{(1)}$"
   ]
  },
  {
   "cell_type": "markdown",
   "metadata": {},
   "source": [
    "Из сохранения энергии следует, что\n",
    "$\\hat{E} = \\hat{E}_\\infty = \\frac{u^2}{2} = \\left(\\frac{(\\hat{r}^{(1)})^2}{2} + \\frac{\\hat{r}^2 \\hat{\\omega}^2}{2} - \\frac{1}{\\hat{r}}\\right)$\n",
    "\n",
    "Тогда можно найти $\\hat{r}_2^{(1)}$ в приближении Ньютона без диссипации:"
   ]
  },
  {
   "cell_type": "code",
   "execution_count": 134,
   "metadata": {
    "vscode": {
     "languageId": "wolfram"
    }
   },
   "outputs": [
    {
     "data": {
      "text/html": [
       "<div><img alt=\"Output\" src=\"data:image/png;base64,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\"></div>"
      ],
      "text/plain": [
       "FormBox[RowBox[{RowBox[{\"-\", \"2\"}], \" \", \n",
       "\n",
       " \n",
       ">        SqrtBox[RowBox[{RowBox[{SubscriptBox[OverscriptBox[\"r\", \"^\"], \"2\"], \" \", \n",
       "\n",
       " \n",
       ">             SuperscriptBox[\"u\", \"2\"]}], \"+\", \n",
       "\n",
       " \n",
       ">           RowBox[{\"2\", \" \", SqrtBox[SubscriptBox[OverscriptBox[\"r\", \"^\"], \"2\"]]}],\\\n",
       " \n",
       ">    \"-\", \n",
       "        SuperscriptBox[\"u\", \"2\"]}]]}], TraditionalForm]\n"
      ]
     },
     "execution_count": 134,
     "metadata": {
      "text/html": [],
      "text/plain": []
     },
     "output_type": "execute_result"
    }
   ],
   "source": [
    "eq = Energy - u^2/2 //. Flatten[{\n",
    "  ToR2Replacement,\n",
    "  OmegaReplace2,\n",
    "  D[Subscript[OverHat[r], 2][OverHat[t]], OverHat[t]]^2 -> x^2\n",
    "}];\n",
    "\n",
    "sol = Solve[eq == 0, x][[1]];\n",
    "\n",
    "x /. sol[[1]] // TraditionalForm"
   ]
  },
  {
   "cell_type": "markdown",
   "metadata": {},
   "source": [
    "А также $\\hat{r}_2^{(i)}$ для $i = 1\\dots5$"
   ]
  },
  {
   "cell_type": "code",
   "execution_count": 138,
   "metadata": {
    "vscode": {
     "languageId": "wolfram"
    }
   },
   "outputs": [
    {
     "data": {
      "text/html": [
       "<div><img alt=\"Output\" src=\"data:image/png;base64,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\"></div>"
      ],
      "text/plain": [
       "FormBox[RowBox[{\"{\", RowBox[{RowBox[{RowBox[{\"-\", \"2\"}], \" \", \n",
       "\n",
       " \n",
       ">            SqrtBox[RowBox[{RowBox[{SubscriptBox[OverscriptBox[\"r\", \"^\"], \"2\"], \" \", \n",
       "\n",
       " \n",
       ">                 SuperscriptBox[\"u\", \"2\"]}], \"+\", \n",
       "\n",
       " \n",
       ">               RowBox[{\"2\", \" \", SqrtBox[SubscriptBox[OverscriptBox[\"r\", \"^\"], \"2\"]]}],\\\n",
       " \n",
       ">    \n",
       "            \"-\", SuperscriptBox[\"u\", \"2\"]}]]}], \",\", \n",
       "\n",
       " \n",
       ">          RowBox[{\"2\", \" \", RowBox[{\"(\", \n",
       "           RowBox[{FractionBox[\"1\", \n",
       "\n",
       " \n",
       ">                 SqrtBox[SubscriptBox[OverscriptBox[\"r\", \"^\"], \"2\"]]], \"+\", \n",
       "\n",
       " \n",
       ">                SuperscriptBox[\"u\", \"2\"]}], \")\"}]}], \",\", \n",
       "\n",
       " \n",
       ">          FractionBox[RowBox[{\"2\", \" \", \n",
       "\n",
       " \n",
       ">             SqrtBox[RowBox[{RowBox[{SubscriptBox[OverscriptBox[\"r\", \"^\"], \"2\"], \" \", \n",
       "\n",
       " \n",
       ">                  SuperscriptBox[\"u\", \"2\"]}], \"+\", \n",
       "\n",
       " \n",
       ">                RowBox[{\"2\", \" \", SqrtBox[SubscriptBox[OverscriptBox[\"r\", \"^\"], \n",
       "\n",
       " \n",
       ">                    \"2\"]]}], \"-\", SuperscriptBox[\"u\", \"2\"]}]]}], \n",
       "\n",
       " \n",
       ">           SubsuperscriptBox[OverscriptBox[\"r\", \"^\"], \"2\", RowBox[{\"3\", \"/\", \"2\"}]]], \n",
       "\n",
       " \n",
       ">          \",\", FractionBox[RowBox[{\"2\", \" \", \n",
       "\n",
       " \n",
       ">             RowBox[{\"(\", RowBox[{RowBox[{\"2\", \" \", \n",
       "\n",
       " \n",
       ">                   SubscriptBox[OverscriptBox[\"r\", \"^\"], \"2\"], \" \", \n",
       "\n",
       " \n",
       ">                   SuperscriptBox[\"u\", \"2\"]}], \"+\", \n",
       "\n",
       " \n",
       ">                 RowBox[{\"5\", \" \", SqrtBox[SubscriptBox[OverscriptBox[\"r\", \"^\"], \n",
       "\n",
       " \n",
       ">                     \"2\"]]}], \"-\", RowBox[{\"3\", \" \", SuperscriptBox[\"u\", \"2\"]}]}],\\\n",
       " \n",
       ">    \")\"}\\\n",
       "]}], SubsuperscriptBox[OverscriptBox[\"r\", \"^\"], \"2\", RowBox[{\"5\", \"/\",\\\n",
       " \n",
       ">    \"2\"}]]], \",\", \n",
       "       FractionBox[RowBox[{\"2\", \" \", \n",
       "\n",
       " \n",
       ">             SqrtBox[RowBox[{RowBox[{SubscriptBox[OverscriptBox[\"r\", \"^\"], \"2\"], \" \", \n",
       "\n",
       " \n",
       ">                  SuperscriptBox[\"u\", \"2\"]}], \"+\", \n",
       "\n",
       " \n",
       ">                RowBox[{\"2\", \" \", SqrtBox[SubscriptBox[OverscriptBox[\"r\", \"^\"], \n",
       "\n",
       " \n",
       ">                    \"2\"]]}], \"-\", SuperscriptBox[\"u\", \"2\"]}]], \" \", \n",
       "\n",
       " \n",
       ">             RowBox[{\"(\", RowBox[{RowBox[{\"6\", \" \", \n",
       "\n",
       " \n",
       ">                   SubscriptBox[OverscriptBox[\"r\", \"^\"], \"2\"], \" \", \n",
       "\n",
       " \n",
       ">                   SuperscriptBox[\"u\", \"2\"]}], \"+\", \n",
       "\n",
       " \n",
       ">                 RowBox[{\"20\", \" \", SqrtBox[SubscriptBox[OverscriptBox[\"r\", \"^\"], \n",
       "\n",
       " \n",
       ">                     \"2\"]]}], \"-\", RowBox[{\"15\", \" \", SuperscriptBox[\"u\", \"2\"]}]}],\\\n",
       " \n",
       ">    \")\"}\\\n",
       "]}], SubsuperscriptBox[OverscriptBox[\"r\", \"^\"], \"2\", RowBox[{\"7\", \"/\",\\\n",
       " \n",
       ">    \"2\"}]]]}], \"}\"}]\\\n",
       ", TraditionalForm]\n"
      ]
     },
     "execution_count": 138,
     "metadata": {
      "text/html": [],
      "text/plain": []
     },
     "output_type": "execute_result"
    }
   ],
   "source": [
    "replacementRule = D[Subscript[OverHat[r], 2][OverHat[t]], OverHat[t]] :> x /. sol[[1]];\n",
    "\n",
    "(* Рекурсивно вычисляем производные *)\n",
    "dr2 = NestList[\n",
    "   Simplify[D[#, OverHat[t]] /. replacementRule] &,\n",
    "   x /. sol[[1]],\n",
    "   4\n",
    "];\n",
    "\n",
    "dr2 // TraditionalForm"
   ]
  },
  {
   "cell_type": "code",
   "execution_count": 139,
   "metadata": {
    "vscode": {
     "languageId": "wolfram"
    }
   },
   "outputs": [
    {
     "data": {
      "text/html": [
       "<div><img alt=\"Output\" src=\"data:image/png;base64,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\"></div>"
      ],
      "text/plain": [
       "            ^  ^ 1/4       2       2 Sqrt[2]    10    40 Sqrt[2]\n",
       "{-2 Sqrt[2] r [t]   , -----------, ---------, ------, ----------}\n",
       "             2             ^  ^    ^  ^ 5/4   ^  ^ 2  ^  ^ 11/4\n",
       "                      Sqrt[r [t]]  r [t]      r [t]   r [t]\n",
       "                            2       2          2       2"
      ]
     },
     "execution_count": 139,
     "metadata": {
      "text/html": [],
      "text/plain": []
     },
     "output_type": "execute_result"
    }
   ],
   "source": [
    "dr2 /. u -> 0"
   ]
  },
  {
   "cell_type": "code",
   "execution_count": 145,
   "metadata": {
    "vscode": {
     "languageId": "wolfram"
    }
   },
   "outputs": [
    {
     "data": {
      "text/html": [
       "<style>\n",
       "\t\t\t\t\t\t\t\t\t\t\t\t\t.grid-container {\n",
       "\t\t\t\t\t\t\t\t\t\t\t\t\t\tdisplay: inline-grid;\n",
       "\t\t\t\t\t\t\t\t\t\t\t\t\t\tgrid-template-columns: auto;\n",
       "\t\t\t\t\t\t\t\t\t\t\t\t\t}\n",
       "\t\t\t\t\t\t\t\t\t\t\t\t</style>\n",
       "\n",
       "\t\t\t\t\t\t\t\t\t\t\t\t<div><div class=\"grid-container\"><div class=\"grid-item\"><img alt=\"Output\" src=\"data:image/png;base64,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\"></div><div class=\"grid-item\"><img alt=\"Output\" src=\"data:image/png;base64,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\"></div><div class=\"grid-item\"><img alt=\"Output\" src=\"data:image/png;base64,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\"></div><div class=\"grid-item\"><img alt=\"Output\" src=\"data:image/png;base64,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\"></div></div></div>"
      ],
      "text/plain": [
       "-Graphics-\n",
       "-Graphics-\n",
       "FormBox[RowBox[{\"{\", RowBox[{RowBox[{\"-\", \n",
       "\n",
       " \n",
       ">            SqrtBox[RowBox[{FractionBox[\"2\", RowBox[{\"r\", \"(\", \"t\", \")\"}]], \"-\", \n",
       "\n",
       " \n",
       ">               FractionBox[\"1\", \"500\"]}]]}], \",\", \n",
       "\n",
       " \n",
       ">          RowBox[{\"-\", FractionBox[\"1\", \n",
       "\n",
       " \n",
       ">             SuperscriptBox[RowBox[{\"r\", \"(\", \"t\", \")\"}], \"2\"]]}], \",\", \n",
       "\n",
       " \n",
       ">          RowBox[{\"-\", FractionBox[RowBox[{\"2\", \" \", \n",
       "\n",
       " \n",
       ">               SqrtBox[RowBox[{FractionBox[\"2\", RowBox[{\"r\", \"(\", \"t\", \")\"}]], \"-\", \n",
       "\n",
       " \n",
       ">                  FractionBox[\"1\", \"500\"]}]]}], \n",
       "\n",
       " \n",
       ">             SuperscriptBox[RowBox[{\"r\", \"(\", \"t\", \")\"}], \"3\"]]}], \",\", \n",
       "\n",
       " \n",
       ">          FractionBox[RowBox[{RowBox[{\"3\", \" \", RowBox[{\"r\", \"(\", \"t\", \")\"}]}], \"-\", \n",
       "\n",
       " \n",
       ">             \"3500\"}], RowBox[{\"250\", \" \", \n",
       "\n",
       " \n",
       ">             SuperscriptBox[RowBox[{\"r\", \"(\", \"t\", \")\"}], \"5\"]}]], \",\", \n",
       "\n",
       " \n",
       ">          FractionBox[RowBox[{SqrtBox[RowBox[{FractionBox[\"200\", \n",
       "\n",
       " \n",
       ">                 RowBox[{\"r\", \"(\", \"t\", \")\"}]], \"-\", FractionBox[\"1\", \"5\"]}]], \" \", \n",
       "\n",
       " \n",
       ">             RowBox[{\"(\", RowBox[{RowBox[{\"3\", \" \", RowBox[{\"r\", \"(\", \"t\", \")\"}]}], \n",
       "\n",
       " \n",
       ">                 \"-\", \"4375\"}], \")\"}]}], \n",
       "\n",
       " \n",
       ">           RowBox[{\"625\", \" \", SuperscriptBox[RowBox[{\"r\", \"(\", \"t\", \")\"}], \"6\"]}]]}], \n",
       "\n",
       " \n",
       ">        \"}\"}], TraditionalForm]\n",
       "\n",
       "-Graphics-"
      ]
     },
     "execution_count": 145,
     "metadata": {
      "text/html": [],
      "text/plain": []
     },
     "output_type": "execute_result"
    }
   ],
   "source": [
    "tMaxNum = 10^4;\n",
    "rNum = 10^3;\n",
    "\n",
    "solNum = NDSolve[{\n",
    "    r''[t] + 1/r[t]^2 == 0,\n",
    "    r[0] == rNum, (* начальное значение r *)\n",
    "    r'[0] == 0 (* начальная скорость dr/dt *)\n",
    "  }, r[t], {t, 0, tMaxNum},\n",
    "  WorkingPrecision -> 30,\n",
    "  PrecisionGoal -> 20,\n",
    "  AccuracyGoal -> 20,\n",
    "  Method -> \"StiffnessSwitching\"\n",
    "];\n",
    "\n",
    "rFunc[t_] = r[t] /. solNum;\n",
    "drdtNum = {rFunc', rFunc'', rFunc''', rFunc'''', rFunc'''''};\n",
    "Plot[rFunc[t], {t, 0, tMaxNum}, ScalingFunctions -> {\"Log\", \"Linear\"}, PlotRange -> All]\n",
    "Plot[1/2(drdtNum[[1]][t])^2-1/rFunc[t], {t, 0, tMaxNum}, PlotRange -> All]\n",
    "\n",
    "replacementRule2 = D[r[t], t] :> -Sqrt[2*(-1/rNum+1/r[t])];\n",
    "\n",
    "drdt = NestList[\n",
    "  Simplify[D[#, t] /. replacementRule2] &,\n",
    "  -Sqrt[2*(-1/rNum+1/r[t])],\n",
    "  4\n",
    "];\n",
    "\n",
    "Simplify[drdt, {r[t] \\[Element] NonNegativeReals}] // TraditionalForm\n",
    "\n",
    "Plot[\n",
    "  {\n",
    "    drdtNum[[5]][t],\n",
    "    drdt[[5]] /. r[t] -> rFunc[t]\n",
    "  },\n",
    "  {t, 0, tMaxNum},\n",
    "  PlotRange -> All,\n",
    "  ScalingFunctions -> {\"Log\", \"SignedLog\"}\n",
    "]"
   ]
  },
  {
   "cell_type": "markdown",
   "metadata": {},
   "source": [
    "Заменяя вхождение **всех** производных в выражении для $dE/dr$, получим"
   ]
  },
  {
   "cell_type": "code",
   "execution_count": 152,
   "metadata": {
    "vscode": {
     "languageId": "wolfram"
    }
   },
   "outputs": [
    {
     "data": {
      "text/html": [
       "<div><img alt=\"Output\" src=\"data:image/png;base64,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\"></div>"
      ],
      "text/plain": [
       "FormBox[FractionBox[RowBox[{\"2\", \" \", \n",
       "      RowBox[{\"(\", RowBox[{RowBox[{\"6\", \" \", \n",
       "\n",
       " \n",
       ">               SubsuperscriptBox[OverscriptBox[\"r\", \"^\"], \"2\", \"2\"], \" \", \n",
       "\n",
       " \n",
       ">               SuperscriptBox[\"u\", \"4\"]}], \"+\", \n",
       "\n",
       " \n",
       ">             RowBox[{SubscriptBox[OverscriptBox[\"r\", \"^\"], \"2\"], \" \", \n",
       "\n",
       " \n",
       ">               RowBox[{\"(\", RowBox[{RowBox[{\"51\", \" \", SuperscriptBox[\"u\", \"4\"]}], \n",
       "\n",
       " \n",
       ">                   \"+\", \"40\"}], \")\"}]}], \"+\", \n",
       "\n",
       " \n",
       ">             RowBox[{\"32\", \" \", SubsuperscriptBox[OverscriptBox[\"r\", \"^\"], \"2\", \n",
       "\n",
       " \n",
       ">                RowBox[{\"3\", \"/\", \"2\"}]], \" \", SuperscriptBox[\"u\", \"2\"]}], \"+\", \n",
       "\n",
       " \n",
       ">             RowBox[{\"100\", \" \", SqrtBox[SubscriptBox[OverscriptBox[\"r\", \"^\"], \"2\"]], \n",
       "\n",
       " \n",
       ">               \" \", SuperscriptBox[\"u\", \"2\"]}], \"-\", \n",
       "\n",
       " \n",
       ">             RowBox[{\"75\", \" \", SuperscriptBox[\"u\", \"4\"]}]}], \")\"}]}], \n",
       "\n",
       " \n",
       ">       RowBox[{\"3\", \" \", SubsuperscriptBox[OverscriptBox[\"r\", \"^\"], \"2\", \n",
       "\n",
       " \n",
       ">          RowBox[{\"7\", \"/\", \"2\"}]], \" \", \n",
       "\n",
       " \n",
       ">         SqrtBox[RowBox[{RowBox[{SubscriptBox[OverscriptBox[\"r\", \"^\"], \"2\"], \" \", \n",
       "\n",
       " \n",
       ">              SuperscriptBox[\"u\", \"2\"]}], \"+\", \n",
       "\n",
       " \n",
       ">            RowBox[{\"2\", \" \", SqrtBox[SubscriptBox[OverscriptBox[\"r\", \"^\"], \"2\"]]}],\\\n",
       " \n",
       ">    \"-\", \n",
       "         SuperscriptBox[\"u\", \"2\"]}]]}]], TraditionalForm]\n"
      ]
     },
     "execution_count": 152,
     "metadata": {
      "text/html": [],
      "text/plain": []
     },
     "output_type": "execute_result"
    }
   ],
   "source": [
    "dEdrFinal = Fold[ (* Последовательно применяем замены *)\n",
    "  Simplify[#1 /.\n",
    "    D[Subscript[OverHat[r], 2][OverHat[t]], {OverHat[t], #2}] -> dr2[[#2]]] &,\n",
    "  dEdr,\n",
    "  Range[5]\n",
    "];\n",
    "\n",
    "Simplify[dEdrFinal] // TraditionalForm"
   ]
  },
  {
   "cell_type": "code",
   "execution_count": 153,
   "metadata": {
    "vscode": {
     "languageId": "wolfram"
    }
   },
   "outputs": [
    {
     "data": {
      "text/html": [
       "<div><img alt=\"Output\" src=\"data:image/png;base64,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\"></div>"
      ],
      "text/plain": [
       "40 Sqrt[2]\n",
       "-----------\n",
       "  ^  ^ 11/4\n",
       "3 r [t]\n",
       "   2"
      ]
     },
     "execution_count": 153,
     "metadata": {
      "text/html": [],
      "text/plain": []
     },
     "output_type": "execute_result"
    }
   ],
   "source": [
    "dEdrFinal /. u -> 0"
   ]
  },
  {
   "cell_type": "markdown",
   "metadata": {},
   "source": [
    "$$\n",
    "  \\Delta \\hat{E}(u) = \\epsilon_G \\frac{4}{3}\\int\\limits_{\\hat{r}_2^\\text{min}}^\\infty \\frac{32 \\hat{r}_2^{3/2} u^2+6 \\hat{r}_2^2 u^4+\\hat{r}_2 \\left(51 u^4+40\\right)+100 \\sqrt{\\hat{r}_2} u^2-75 u^4}{\\hat{r}_2^{7/2} \\sqrt{\\hat{r}_2 u^2+2 \\sqrt{\\hat{r}_2}-u^2}} \\, d\\hat{r}_2,\n",
    "$$\n",
    "где при $\\hat{r}_2 \\ge \\hat{r}_2^{\\text{min}}$ выражение $\\hat{r}_2u^2 + 2\\sqrt{\\hat{r}_2} - u^2 \\ge 0$."
   ]
  },
  {
   "cell_type": "markdown",
   "metadata": {},
   "source": [
    "Полученный выше интеграл **компактнее**, чем тот, что рассмотрен в файле binary_catch2.pdf\n",
    "$$\n",
    "  \\Delta \\hat{E}(u) = \\epsilon_G \\frac{4}{3}\\int\\limits_{\\hat{r}_2^\\text{min}}^\\infty \\frac{24\\hat{r}_2^2u^6 + 48u^6\\hat{r}_2 + 120\\hat{r}_2^{3/2}u^4 - 96u^6 + 96u^4\\sqrt{\\hat{r}_2} - u^2\\hat{r}_2^2 + 133u^2\\hat{r}_2 - 2\\hat{r}_2^{3/2}}{\\hat{r}_2^4\\sqrt{u^2\\hat{r}_2 + 2\\sqrt{\\hat{r}_2} - u^2}} \\, d\\hat{r}_2,\n",
    "$$"
   ]
  },
  {
   "cell_type": "markdown",
   "metadata": {},
   "source": [
    "<span style=\"color:brown\">**NB:**</span> Однако, будучи аналитически взятым, будет полностью <span style=\"color:green\">**совпадать!**</span>\n",
    "\n",
    "Смотри подробности в файле binary_catch_integral.ipynb\n",
    " \n",
    "Там компактный интеграл назван $I_5$, а второй $I_4$.\n",
    "\n",
    "Выпишем ответ:"
   ]
  },
  {
   "cell_type": "code",
   "execution_count": 155,
   "metadata": {
    "vscode": {
     "languageId": "wolfram"
    }
   },
   "outputs": [
    {
     "data": {
      "text/html": [
       "<div><img alt=\"Output\" src=\"data:image/png;base64,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\"></div>"
      ],
      "text/plain": [
       "FormBox[RowBox[{\"-\", FractionBox[RowBox[{SubscriptBox[\"ϵ\", \"G\"], \" \", \n",
       "\n",
       " \n",
       ">           RowBox[{\"(\", RowBox[{RowBox[{RowBox[{\"(\", \n",
       "\n",
       " \n",
       ">                   RowBox[{RowBox[{\"673\", \" \", SuperscriptBox[\"u\", \"4\"]}], \"+\", \n",
       "\n",
       " \n",
       ">                     \"1275\"}], \")\"}], \" \", SuperscriptBox[\"u\", \"2\"]}], \"+\", \n",
       "\n",
       " \n",
       ">               RowBox[{\"3\", \" \", RowBox[{\"(\", \n",
       "\n",
       " \n",
       ">                   RowBox[{RowBox[{\"37\", \" \", SuperscriptBox[\"u\", \"8\"]}], \"+\", \n",
       "\n",
       " \n",
       ">                     RowBox[{\"366\", \" \", SuperscriptBox[\"u\", \"4\"]}], \"+\", \"425\"}],\\\n",
       " \n",
       ">    \")\"}\\\n",
       "], \" \", RowBox[{\"(\", RowBox[{RowBox[{SuperscriptBox[\"tan\", RowBox[{\"-\",\\\n",
       " \n",
       ">    \"1\"}]], \n",
       "                    \"(\", FractionBox[\"1\", SuperscriptBox[\"u\", \"2\"]],\\\n",
       " \n",
       ">    \")\"}], \"+\", \n",
       "                  FractionBox[\"π\", \"2\"]}], \")\"}]}]}], \")\"}]}], \n",
       "\n",
       " \n",
       ">         RowBox[{\"9\", \" \", SuperscriptBox[\"u\", \"7\"]}]]}], TraditionalForm]\n"
      ]
     },
     "execution_count": 155,
     "metadata": {
      "text/html": [],
      "text/plain": []
     },
     "output_type": "execute_result"
    }
   ],
   "source": [
    "DeltaE = -Subscript[\\[Epsilon], G]/9*(u^2*(1275 + 673*u^4) + 3*(425 + 366*u^4 + 37*u^8)*(Pi/2 + ArcTan[u^(-2)]))/u^7;\n",
    "DeltaE // TraditionalForm"
   ]
  },
  {
   "cell_type": "code",
   "execution_count": 156,
   "metadata": {
    "vscode": {
     "languageId": "wolfram"
    }
   },
   "outputs": [
    {
     "data": {
      "text/html": [
       "<div>&#36;&#36;&#45;&#92;&#102;&#114;&#97;&#99;&#123;&#92;&#101;&#112;&#115;&#105;&#108;&#111;&#110;&#32;&#95;&#71;&#32;&#92;&#108;&#101;&#102;&#116;&#40;&#92;&#108;&#101;&#102;&#116;&#40;&#54;&#55;&#51;&#32;&#117;&#94;&#52;&#43;&#49;&#50;&#55;&#53;&#92;&#114;&#105;&#103;&#104;&#116;&#41;&#32;&#117;&#94;&#50;&#43;&#51;&#32;&#92;&#108;&#101;&#102;&#116;&#40;&#51;&#55;&#32;&#117;&#94;&#56;&#43;&#51;&#54;&#54;&#32;&#117;&#94;&#52;&#43;&#52;&#50;&#53;&#92;&#114;&#105;&#103;&#104;&#116;&#41;&#32;&#92;&#108;&#101;&#102;&#116;&#40;&#92;&#116;&#97;&#110;&#32;&#94;&#123;&#45;&#49;&#125;&#92;&#108;&#101;&#102;&#116;&#40;&#92;&#102;&#114;&#97;&#99;&#123;&#49;&#125;&#123;&#117;&#94;&#50;&#125;&#92;&#114;&#105;&#103;&#104;&#116;&#41;&#43;&#92;&#102;&#114;&#97;&#99;&#123;&#92;&#112;&#105;&#32;&#125;&#123;&#50;&#125;&#92;&#114;&#105;&#103;&#104;&#116;&#41;&#92;&#114;&#105;&#103;&#104;&#116;&#41;&#125;&#123;&#57;&#32;&#117;&#94;&#55;&#125;&#36;&#36;</div>"
      ],
      "text/plain": [
       "-\\frac{\\epsilon _G \\left(\\left(673 u^4+1275\\right) u^2+3 \\left(37 u^8+366 u^4+425\\right)\\\n",
       " \n",
       ">   \\left(\\tan ^{-1}\\left(\\frac{1}{u^2}\\right)+\\frac{\\pi }{2}\\right)\\right)}{9 u^7}"
      ]
     },
     "execution_count": 156,
     "metadata": {
      "text/html": [],
      "text/plain": []
     },
     "output_type": "execute_result"
    }
   ],
   "source": [
    "TeXForm[DeltaE]"
   ]
  },
  {
   "cell_type": "markdown",
   "metadata": {},
   "source": [
    "<span style=\"color:brown\">**NB:**</span> Почему при малых $u$ значения $\\Delta \\hat{E}(u)$ безгранично растут?\n",
    "\n",
    "В задаче расчёта средней потери энергии на грав изулчение предполагается близость к Ньютоновской орбите.\n",
    "При малых скоростях, однако, мы видим, что первоначальная положительная малая почти нулевая полная энергия\n",
    "теряется, превращаясь в сколько угодно большую отрицательную энергию.\n",
    "Кажется, что мы сильно отклоняемся от близости к ньютоновской орбиты и не имеем право интегрировать вдоль неё.\n",
    "\n",
    "Однако, в нашей модели, когда одно тело налетает на другое из бесконечности, в приближении Ньютона возможны только два типа орбит:\n",
    "гиперболическая орбита и вырожденная гипербола (прямое падение).\n",
    "В случае малых скоростей как раз будет прямое падение.\n",
    "И даже неограниченная потеря энергии на грав излучения не меняет формы этой \"орбиты\": мы **можем** интегрировать вдоль неё."
   ]
  },
  {
   "cell_type": "code",
   "execution_count": 157,
   "metadata": {
    "vscode": {
     "languageId": "wolfram"
    }
   },
   "outputs": [
    {
     "data": {
      "text/html": [
       "<div><img alt=\"Output\" src=\"data:image/png;base64,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\"></div>"
      ],
      "text/plain": [
       "FormBox[InterpretationBox[RowBox[{RowBox[{\"-\", \n",
       "\n",
       " \n",
       ">           FractionBox[RowBox[{\"425\", \" \", \n",
       "\n",
       " \n",
       ">              RowBox[{\"(\", RowBox[{\"π\", \" \", SubscriptBox[\"ϵ\", \"G\"]}], \")\"}]}], \n",
       "\n",
       " \n",
       ">            RowBox[{\"3\", \" \", SuperscriptBox[\"u\", \"7\"]}]]}], \"+\", \n",
       "\n",
       " \n",
       ">         InterpretationBox[RowBox[{\"O\", \"(\", \n",
       "\n",
       " \n",
       ">            FractionBox[\"1\", SuperscriptBox[\"u\", \"3\"]], \")\"}], \n",
       "\n",
       " \n",
       ">          SeriesData[u, 0, List[], -7, -3, 1], Rule[Editable, False]]}], \n",
       "\n",
       " \n",
       ">       SeriesData[u, 0, List[Times[Rational[-425, 3], Pi, Subscript[\\[Epsilon], G]]], \n",
       "\n",
       " \n",
       ">        -7, -3, 1], Rule[Editable, False]], TraditionalForm]\n"
      ]
     },
     "execution_count": 157,
     "metadata": {
      "text/html": [],
      "text/plain": []
     },
     "output_type": "execute_result"
    }
   ],
   "source": [
    "Simplify[Series[DeltaE, {u, 0, -4}]] // TraditionalForm"
   ]
  },
  {
   "cell_type": "markdown",
   "metadata": {},
   "source": [
    "## Условия захвата\n",
    "\n",
    "На бесконечнос энергия объекта была $u^2/2$\n",
    "\n",
    "Если $2|\\Delta \\hat{E}| > u^2$, то гиперболическая орбита превратится в эллиптическую за один полный оборот,\n",
    "\n",
    "далее тело уже не сможет \"уходить\" на бесконечность.\n",
    "\n",
    "Из-за ограничения локализации точнее условие захвата поставить **нельзя**"
   ]
  },
  {
   "cell_type": "code",
   "execution_count": 160,
   "metadata": {
    "vscode": {
     "languageId": "wolfram"
    }
   },
   "outputs": [
    {
     "data": {
      "text/html": [
       "<div><img alt=\"Output\" src=\"data:image/png;base64,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\"></div>"
      ],
      "text/plain": [
       "FormBox[RowBox[{SuperscriptBox[\"u\", \"9\"], \"<\", \n",
       "\n",
       " \n",
       ">        RowBox[{FractionBox[\"2\", \"9\"], \" \", SubscriptBox[\"ϵ\", \"G\"], \" \", \n",
       "\n",
       " \n",
       ">          RowBox[{\"(\", RowBox[{RowBox[{RowBox[{\"(\", \n",
       "\n",
       " \n",
       ">                  RowBox[{RowBox[{\"673\", \" \", SuperscriptBox[\"u\", \"4\"]}], \"+\", \n",
       "\n",
       " \n",
       ">                    \"1275\"}], \")\"}], \" \", SuperscriptBox[\"u\", \"2\"]}], \"+\", \n",
       "\n",
       " \n",
       ">              RowBox[{FractionBox[\"3\", \"2\"], \" \", \n",
       "\n",
       " \n",
       ">                RowBox[{\"(\", RowBox[{RowBox[{\"37\", \" \", SuperscriptBox[\"u\", \"8\"]}], \n",
       "\n",
       " \n",
       ">                    \"+\", RowBox[{\"366\", \" \", SuperscriptBox[\"u\", \"4\"]}], \"+\", \"425\"}], \n",
       "\n",
       " \n",
       ">                  \")\"}], \" \", RowBox[{\"(\", \n",
       "               RowBox[{RowBox[{\"2\", \" \", \n",
       "\n",
       " \n",
       ">                      RowBox[{SuperscriptBox[\"tan\", RowBox[{\"-\", \"1\"}]], \"(\", \n",
       "\n",
       " \n",
       ">                        FractionBox[\"1\", SuperscriptBox[\"u\", \"2\"]], \")\"}]}], \"+\",\\\n",
       " \n",
       ">    \"π\"}], \n",
       "               \")\"}]}]}], \")\"}]}]}], TraditionalForm]\n"
      ]
     },
     "execution_count": 160,
     "metadata": {
      "text/html": [],
      "text/plain": []
     },
     "output_type": "execute_result"
    }
   ],
   "source": [
    "DeltaE2 = Simplify[DeltaE + u^2/2];\n",
    "uMax2 = Simplify[2 u^7 DeltaE2];\n",
    "Simplify[uMax2 < 0] // TraditionalForm"
   ]
  },
  {
   "cell_type": "markdown",
   "metadata": {},
   "source": [
    "<span style=\"color:brown\">**NB:**</span> Условие захвата, <span style=\"color:green\">**совпадает**</span> с условием из файла binary_catch.pdf"
   ]
  },
  {
   "cell_type": "markdown",
   "metadata": {},
   "source": [
    "<span style=\"color:red\">**TODO:**</span> Сравнить условия захвата при $u \\rightarrow 0$ с другими авторами"
   ]
  },
  {
   "cell_type": "code",
   "execution_count": 161,
   "metadata": {
    "vscode": {
     "languageId": "wolfram"
    }
   },
   "outputs": [
    {
     "data": {
      "text/html": [
       "<div><img alt=\"Output\" src=\"data:image/png;base64,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\"></div>"
      ],
      "text/plain": [
       "FormBox[InterpretationBox[RowBox[{FractionBox[RowBox[{\"850\", \" \", \"π\", \" \", \n",
       "\n",
       " \n",
       ">            SubscriptBox[\"ϵ\", \"G\"]}], \"3\"], \"+\", \n",
       "\n",
       " \n",
       ">         InterpretationBox[RowBox[{\"O\", \"(\", SuperscriptBox[\"u\", \"1\"], \")\"}], \n",
       "\n",
       " \n",
       ">          SeriesData[u, 0, List[], 0, 1, 1], Rule[Editable, False]]}], \n",
       "\n",
       " \n",
       ">       SeriesData[u, 0, List[Times[Rational[850, 3], Pi, Subscript[\\[Epsilon], G]]], 0,\\\n",
       " \n",
       ">    \n",
       "     1, 1], Rule[Editable, False]], TraditionalForm]\n"
      ]
     },
     "execution_count": 161,
     "metadata": {
      "text/html": [],
      "text/plain": []
     },
     "output_type": "execute_result"
    }
   ],
   "source": [
    "Simplify[Series[(u^9 - uMax2), {u, 0, 0}]] // TraditionalForm"
   ]
  },
  {
   "cell_type": "markdown",
   "metadata": {},
   "source": [
    "## Поведение $\\hat{E}_1$ в зависимости от начальной сокрости $u$ и параметра $\\epsilon_G$\n",
    "\n",
    "$$\n",
    "\\hat{E}_1 = \\hat{E}_0 + \\Delta \\hat{E}\n",
    "$$\n",
    "\n",
    "$\\epsilon_G = \\frac{2}{5}\\frac{\\mu}{M} \\left( \\frac{r_s}{2b} \\right)^{\\frac{5}{2}}$,\n",
    "где $r_s = \\frac{2 G M}{c^2}$ - сумма радиусов Шварцшильда двух тел.\n",
    "\n",
    "При прицельных параметрах $b$ сравнимых с радиусом Шварцшильда, $\\epsilon_G$ не мал (смотри $\\epsilon_G = 10$)\n",
    "энергия всегда отрицальна при скоростях $u < 100$, то есть тела уже в захвате.\n",
    "\n",
    "Если прицельный параметр много больше, чем $r_s$, то есть $\\epsilon_G$ мал,\n",
    "то существует такая скорость $u < 100$, при значении которой (и меньших скоростях) происходит захват."
   ]
  },
  {
   "cell_type": "code",
   "execution_count": 162,
   "metadata": {
    "vscode": {
     "languageId": "wolfram"
    }
   },
   "outputs": [
    {
     "data": {
      "text/html": [
       "<div><img alt=\"Output\" src=\"data:image/png;base64,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\"></div>"
      ],
      "text/plain": [
       "Legended[-Graphics-, Placed[LineLegend[{Directive[Opacity[1.], \n",
       " \n",
       ">       RGBColor[0.368417, 0.506779, 0.709798], AbsoluteThickness[2]], \n",
       " \n",
       ">      Directive[Opacity[1.], RGBColor[0.880722, 0.611041, 0.142051], \n",
       " \n",
       ">       AbsoluteThickness[2]], Directive[Opacity[1.], \n",
       " \n",
       ">       RGBColor[0.560181, 0.691569, 0.194885], AbsoluteThickness[2]], \n",
       " \n",
       ">      Directive[Opacity[1.], RGBColor[0.922526, 0.385626, 0.209179], \n",
       " \n",
       ">       AbsoluteThickness[2]], Directive[Opacity[1.], \n",
       " \n",
       ">       RGBColor[0.528488, 0.470624, 0.701351], AbsoluteThickness[2]], \n",
       " \n",
       ">      Directive[Opacity[1.], RGBColor[0.772079, 0.431554, 0.102387], \n",
       " \n",
       ">       AbsoluteThickness[2]], Directive[Opacity[1.], \n",
       " \n",
       ">       RGBColor[0.363898, 0.618501, 0.782349], AbsoluteThickness[2]]}, \n",
       " \n",
       ">     {EpsilonG = 10, EpsilonG = 2, EpsilonG = 1, EpsilonG = 0.5, EpsilonG = 0.1, \n",
       " \n",
       ">      EpsilonG = 10^(-2), EpsilonG = 10^(-5)}, LegendMarkers -> None, LabelStyle -> {}, \n",
       " \n",
       ">     LegendLayout -> Column], After, Identity]]"
      ]
     },
     "execution_count": 162,
     "metadata": {
      "text/html": [],
      "text/plain": []
     },
     "output_type": "execute_result"
    }
   ],
   "source": [
    "Plot[\n",
    "  {\n",
    "    u^2/2 + DeltaE /. Subscript[\\[Epsilon], G] -> 10,\n",
    "    u^2/2 + DeltaE /. Subscript[\\[Epsilon], G] -> 2,\n",
    "    u^2/2 + DeltaE /. Subscript[\\[Epsilon], G] -> 1,\n",
    "    u^2/2 + DeltaE /. Subscript[\\[Epsilon], G] -> 0.5,\n",
    "    u^2/2 + DeltaE /. Subscript[\\[Epsilon], G] -> 0.1,\n",
    "    u^2/2 + DeltaE /. Subscript[\\[Epsilon], G] -> 10^(-2),\n",
    "    u^2/2 + DeltaE /. Subscript[\\[Epsilon], G] -> 10^(-5)\n",
    "  },\n",
    "  {u, 0.0, 100},\n",
    "  AxesLabel -> {\"u\", \"E1\"},\n",
    "  PlotLegends -> {\n",
    "    \"EpsilonG = 10\",\n",
    "    \"EpsilonG = 2\",\n",
    "    \"EpsilonG = 1\",\n",
    "    \"EpsilonG = 0.5\",\n",
    "    \"EpsilonG = 0.1\",\n",
    "    \"EpsilonG = 10^(-2)\",\n",
    "    \"EpsilonG = 10^(-5)\"\n",
    "    },\n",
    "  PlotRange -> All,\n",
    "  ScalingFunctions -> {\"Log\", \"SignedLog\"}\n",
    "]"
   ]
  },
  {
   "cell_type": "markdown",
   "metadata": {},
   "source": [
    "Но при движении пары объектов происходит и уменьшение момента импульса.\n",
    "В тот момент, когда начальный импульс уменьшится до нуля тела начнут падать друг на друга, даже если\n",
    "полная энергия при этом у системы больше нуля.\n",
    "\n",
    "Следовательно, необходимо скорректировать условие захвата."
   ]
  },
  {
   "cell_type": "markdown",
   "metadata": {},
   "source": [
    "# Потеря момента за один период обращения\n",
    "\n",
    "$$\n",
    "\\Delta \\hat{J} = 2 \\epsilon_G \\int\\limits_{\\hat{t}_{\\text{min}}}^{\\infty}I_J(\\hat{t}) d \\hat{t}\n",
    "= - 2 \\epsilon_G \\int\\limits_{\\hat{r}_2^{\\text{min}}}^{\\infty}\\frac{I_J(\\hat{r}_2)}{\\hat{r}_2^{(1)}}d \\hat{r}_2,\n",
    "$$\n",
    "\n",
    "где мы заменим $\\hat{\\omega}$ на $\\frac{u}{\\hat{r}_2}$"
   ]
  },
  {
   "cell_type": "code",
   "execution_count": 165,
   "metadata": {
    "vscode": {
     "languageId": "wolfram"
    }
   },
   "outputs": [
    {
     "data": {
      "text/html": [
       "<div><img alt=\"Output\" src=\"data:image/png;base64,iVBORw0KGgoAAAANSUhEUgAAAi0AAAA0CAIAAADJzZ9fAAAAznpUWHRSYXcgcHJvZmlsZSB0eXBlIGV4aWYAAHjabU/bDQMhDPtnio6QBzgwDtfjpG7Q8Rsep4qqlkiMkzgQ2vt1hUeHMIWYLKMA5IglFqlOMk3MzFRGHJCTZKmbHjROwtWl9C2gLf3YdcMyzD9Gy5+0b3B+G9syUpk613k/Vr/UnHcjpQ24Cf+/RzVBAlv0GIXMUJzn4NQTklAyXHgC3sg4heLTc4OZj8F6h9Y+2CHN9u4WoC6c/QvaT9LqWT2K+j5lLYN3PfljjlUdHwkfVaJavu6h5+UAAAAJcEhZcwAADsQAAA7EAZUrDhsAAAA8dEVYdFNvZnR3YXJlAENyZWF0ZWQgd2l0aCB0aGUgV29sZnJhbSBMYW5ndWFnZSA6IHd3dy53b2xmcmFtLmNvbVyipoUAAAAhdEVYdENyZWF0aW9uIFRpbWUAMjAyNTowMzoyNCAxOToyNTo1NwQ0BR8AABMMSURBVHic7Z1/TBPn/8AfSp2OMVEEpR0gGjWbCUJV0PkDJ9UO6eZAIyOGKZixYTLEXygoyyY4ZYo6MxYCauJcFn+gEtlkyhRbhIgDRERAM6JQELe0OBRbftjeff+4z+7bteV67T29o9fn9Vfv6fvu3j+f5348d+eG4zhAIBAIBIIjhGzuTCKRdHZ2urm5AQBKSkoWLVrE5t7tY3BwMDU11dvbWygUCgSC7OxsrjVyYjAMy8zM7OvrGxwcxDDs2LFjQiGrGYhAjExcvJ9htRcICQlpaGhgc4/Mqamp0Wq1RUVFOp3Oy8tLLpfPmzePa6WclevXr5eXlxM5IBaLL1y48PHHH3OtFALBPS7ezwjY3JmPjw+bu4PCkiVLfv75ZwDAq1evcBx/8803h5Pcv3+/l5fX3bt3WdSOJWCZJpVKFQoFAADHcQzDNBoNBOU4AopPeJkzvDSKDkwMp9/PjBwgBvr/x6Hnz5/n5OTExcW9/fbbP/zwg4lcd3f3unXr1q9fHxkZuWzZssbGRlv3hOP4gwcP8vLy4uLiVq9e3dvby1T3f3nx4kV6enp0dHRCQkJYWNixY8eM/y0tLY2Ojo6Pj4+Ojv7111/t2H5DQ0NeXl5aWtr58+dnzpxpUaaysrK2trasrGzbtm19fX0UW+vv73dE//vy5cuAgICkpCToW7bDtOFsFAgEXl5eAACFQoFh2KpVq2ApSZ29BBBdBCXcEB3LEG49Y9G6rq4u5sqQMO++rELTcIoI0uln7MDf39/NjEuXLjHcrK32Wslh/F8MBsPDhw8PHToEAPjuu+9wIx49euTj43P06FFiMSoqavr06biNYBjW1tZG/F66dOn27dtt3cJwLF261N/fX6vV4jh+6tQpAEBJSQnx1++//z5q1KgbN27gOH7t2rXXXnuN+G0TAwMD/f391dXVU6dObWxstChTXFxsMBhwHH/69KlCoaDY2tatW1NTU23VwSrbtm0TCoWJiYnQt2yHadQ2trS0yGSyjo4OiEpSZC8JRBdBCTd0x9oNt54x/1FaWhocHMxcGQIo3ZdVaBpOEUE6/YytdHV1RUREFBcX//ov58+fHz9+PNFbMsFWe6lzGJgs379/37yS165dKxKJiL3iOP7kyZPr169Ta0mcXVIoJ5fLqbdAk/7+/jfeeOPIkSPEokqlAgAkJCQQi1KpNDQ0lBQODg6Oioqi2Bq12nK5PCUlhULAYDBgGEYtMG3atMePH1PI2MHdu3fXrVvn5+dHpyuhthHHcb1ef+TIkc7OTuNG+qYZ23jnzp2ffvrJWKyhoSE5OZl5GVjEYvYSwHURAZRw2+dYiND3DE234HYZZWxdXFzcuXPnaO7LKtC7L5xxjeCWSoPEaj9DH5VK1dXVZdxSXFy8Y8cO6rWg57/VHLZ+f8hgMFy6dCkqKkog+J+wWCyOjIy0KFxQULBy5UqRSHT16lWipa+v75133ikoKDh79uy3335LNNbX18+fP9/qrukwZsyY5ubmtLQ0YnHs2LEAgL///hsA8OzZM4VCMXfuXFI4LCzs2rVrL168oK92bm7uuXPniMahoSGxWGxRjZycnGXLlolEomfPnn3yySe+vr7d3d3mYpWVlSkpKUFBQUxMNgHH8S1btuzdu5dajMJGE8nk5OTIyEh/f39i0VbTjG2USCRCofDgwYOETE9PT1ZWVkFBgYeHBwCgrKzMfrNtAbqLoISbiWNhQccz9N0CGBhF/tDpdG5ubmvWrIFiIKzuy0SSYY0As9Kg2c/YSkBAwFtvvUUuYhhWWFi4c+dOi8KOy3+rOWx9HGpra9NqtWKxuLy8XCaTzZkzZ8uWLeZdOUFKSkpgYKBarSbnZFdUVDx48GDhwoULFiyorq7OzMz85ptvgoODt2/fbnXXNJk8eTIxFxwAUF9fDwCQSCQAAJVKZTAYJk+eTEoGBgbq9XrzS88UakdFRf3444979uzZvHlzUFDQcGrv2rXL09MzODg4Ly8vKChoyZIlvr6+5mJCoXDz5s2MLf4PJ06cWLhwYUBAALUYhY3GYqdPnxYIBLNmzSJbbDXNxMb4+PiLFy8SNzPz8/OVSqW/v79IJPL29q6srLTXaNuA6yIAKdwMHQsFOp6h7xbAwCjyR3d3d15eHnPTCGB1X8ZizGuEwLg0aPYzDCksLIyNjfX29rb4r+Py33oOm5wfmV/ZqK6uBgAsWLDg+++/f/bsWUlJiYeHx+LFi4c7F3v//ffnzp1LLiYlJU2YMIH69A0WGIYtW7aMcCWO4+Xl5QCAw4cPkwLE/QOLt4iYqy2RSCQSycOHD+03wHZ6e3tDQkL6+vpwHLd6aYWOjWFhYWVlZSYrMjRt3759n376qX3r2oTF63LQXUQAJdyc5AwJfc/YVB3cGmWCI7oviDXCWmngON7T0xMeHq7X6ylkWM5/EuvPD+E4DgDw9fX94osvAAAxMTEbN248dOhQVVWV+YOor169qqqq2rhxI7E4MDBw8eJFqVRKnq84lN27dz9//vz27dvGE8Tp7Jq52jqdrqmpKTY2dsaMGUQLO89sZmdnp6WleXp6WpWkY6Nara6trQ0PDzdekblp4eHh+fn5NtsGCbguIoASbq5yhoSmZ2yqDs6NMgF69wW3Rtgsjezs7FWrVrm7uw8nwHL+G2Nd1M/PDwAQFhZGtkRERBw6dKi5udk8kLW1tVqt9r333iMWCwsLnz9/vnTpUvoK2U1WVlZLS4tSqXz99deJFuJU8eXLl6QMMb9w4sSJ0NWuq6vT6/Xx8fFkCwvPbD58+LCqqoq8xEwNHRs7Ozvd3d1NTtuZm+bj4/PXX3/p9Xr2354A3UUEUMLNSc6Q0PeMTdXBrVHmQO++4NYIa6XR1tZWVFTU1tZGIcNy/htj/f6QSCQSCATGV1SJZ6xGjx5tLnzjxg2BQEAEWKPREE9mkYY5jt27d6tUqvPnz5ODEAAgMDBQIBAQM+gIOjs7hUIheXcRotq3bt0SCoUymYxsYeGZzZKSkqGhoTlz5hDnyBqNprS0VCKR/PLLL+bCdGzU6/WjRo0yOfxhbtro0aMxDMMwzD4zmQDdRQRQws1JzpDQ94xN1cGtUeZA777g1ghrpXHgwIHp06dTT39gOf//g8l1OotX2KOioqRSKbl4/PhxAEB9fb35ZT6ZTBYSEkL83rVr1+eff+7j44NhGMRZmOacPHnygw8+ML6IqVKpent7cRyPjIyUSCRk+6xZsyzO22audkxMzPz58y3+VVFRQcwnobkpu6G+xE/HxkePHgEABgcHjVdkbtrt27e9vLzomsEAinnbBMxdRAAl3CMhZ0goPGNTdYwoowjgdl9wa4Sd0sAwzNfXd/ny5dRiLOe/MabnQ4ODgwCAoaEh48bt27dXV1fX1tYSAkVFRR9++OHs2bPNR7U///zTy8urv7//22+/jY2N7erqkkgkZWVl48aNs214pE1PT09aWlpUVFR5efnVq1evXr168eLFhIQEYppmRkbG/fv3b968CQBQKBStra3p6emOULumpsbigUNra2tubm5dXZ1IJLLfSHro9XqDwTDcv3RsDAwM9Pb2fvz4sfGKzE1rb28PCQmxzRi7sJi9xjB3EQGUcI+EnCGh8IxN1TGijCKA233BrRF2SkOtVqvVaotT2oxhOf//AzkiaTSa9PR04qRsypQpaWlpt2/fJv/97bffVqxYkZiYGBMTk56e3t/fb3FY27Rp07hx49asWUO8OiE9Pd3f37+wsNCmsdEmLL7ExXisLikpWbFiRUJCQnR0dGlpqSPUbm9vF4vFFRUVJu0OfWbTmEuXLq1btw4AMGnSpL1791qUoWljUlLS8ePHyUUopm3atIl8mt1BUGcvDtVFUHzCec6QWPUM/eoYOUaZALf7glgjLJQGjuMajWbChAkHDx6kFmMz/00wvS6HgIVGo5HL5eQsycuXL3OrD03a29sjIyPJh88tYpNpPT09ERERw1U+b4ASbifNGWr4ZxSsGuFTaTCMMqvv23YpuHpmkyGTJ0/Oyck5fPgwhQx904aGhg4cOHDq1KkxY8Y4QNkRBJRwO2nOUMM/o6DUCM9Kg2GU3XD0PVaEGR0dHW5uboGBgQy3c+/evaCgIOJlSwgEn2BYI6g0jEHjEAKBQCC4BF2XQyAQCASXoHEIMaIpKipqbm7mWgsnAzkN4VygcQgxorlz545areZaCycDOQ3hXKBxCIFAIBBcIgQADAwMnDhxgv19z5w50/wlejiOk19hMsbPzy80NNSksampyUmngfr4+Ji/B9Am29VqNfnhLOclICBg5cqVJo3Gfujs7Pzjjz8GBgbAMH5QqVQWXxbHY4KDgyMiIkwabXLavXv3iJeMjHA2bNhg/MZIYGONAABOnDhB+MHp8PDwSEpKMmm0yXytVnvy5EkHqcec6OjoKVOmEL//95JXTmbNWdwpjuNXrlwxbw8NDTV3NPEMlEOUczCubLsxVv1AdKnE1x4t+mG4jbgaNjnNWZLHXEmbamS4jTgFvO8ijHVD87YRI5qUlJT4+HgWXtnOJ5DTEM4Fuj+EQCAQCC5B4xACgUAguARdl0MgEAgEl7D9nWbnYnBwMDU11dvbWygUCgSC7OxsrjVCjCwwDMvMzOzr6xscHMQw7NixY+x/+xzBIaiLgIL1mnFlR9fU1Gi12qKiIp1O5+XlJZfL582bx7VSiBHE9evXy8vLGxoaAABisfjChQvm0/F5yf79+3Nzc5VK5XCz1FwE3ncRLAXa6pchFArF2rVrcRzXarVCobCmpsamD0s4Hfv27Rs7dmxDQ4NxY29vr7u7e3NzM1daIUYIJulhMBiIL9BjGDZp0qT8/HxOtWMJpVIZGxtbVVUVGRn54sULCkmdTqdWq1lTjB1cp4ugH2iGWBiHLHoZp+Ho4VZ0Isz9fufOnYMHD65fv76kpIRr7SBgd4x4EFzmUJRlRUWFr69vd3c3V7qxSXFxMfEVuKdPnyoUCgrJrVu3pqamsqUXG/C+izCGfqAZYjoOWaw0Oo7mxyGSud8HBgb6+/urq6unTp3a2NjItYKMsPvohh/BZc5wZdnS0iKTyTo6OrhTjQMMBgOGYdQC06ZNe/z4MVsasQG/uwiLWA00c0zHIYuVRsfRvDlEGs7pcrk8JSWFfX0gYvfRDW+CCwWTDGloaEhOTtZqtRyqxDLZ2dlSqXTixIkajSYhIcHHx+fJkyfmYjdu3MjLy2NfPUfD4y7CBJqBZo7l+0N2O9qpD5HMnZ6ZmXn27Fni3+XLl2dnZ3OrIRTsPrpx6uBCwTxD7t+/L5fL9Xo9IXD58mVuNWQHvV7/0UcfSaXSjIyMrKys1atXDw0NmYvdvHmT9Aw/cJEugoRmoJlj+vxQTk6OUqlsampqaWnZvHnzlStXkpOTQ0ND4+LiAAAymWzx4sVffvml+XwH8xUbGxvFYrGJmEKhqK+v37Ztm+NmXtiNwWBYvXr1y5cvw8LChEJha2trRkbGV199FR4e/s8//+h0uqNHj5q8ddG5oBkju1ccycGFgnmGzJw588iRI56engCAwcHBzz77LDc3l2s12WD27NkAgDNnzsyYMYNrXdiD912EOewE2nQcstvR5iuePn161KhRJmJVVVXvvvuuu7u740xiAr+ri2aM7F5xhAcXCvzOEJoQc5RjY2N58MZ3W3GpBGAt0KbPD7m7u6tUKgBAUlIS6ejLly9b3ZDFFc1ZtGiR/co6GJ1O19TUFBsby9cMoxkju1ccycGFAu8zhCZ1dXV6vT4+Pp5scZHneV0tAdgLtMl1OuIhoTVr1th6gc/uFUcOSqUSAHDhwgWuFXEUrhxcKPA+Q2iSm5srFAr7+vrIlvLy8tDQUOK3SCQ6c+YMR6o5FldLANYCbTqUmQ+ANOHBIdKtW7eEQqFMJiNbnM4EauyOEQ+CCwXeZwhNampq5s6dS9wVI5BKpQqFAgCA4ziGYRqNhjPlHImrJQB7gbY6ABoMhh07dmzcuHHDhg2JiYmvXr3iduR0HDExMfPnzzducToTqLE7RjwILhR4nyE08fPzy8jIsPgXv5/ndbUEYC3QpkO3+QBI8w1aPDhEqqmpSUxMNG5xOhOosTtGPAguFHifIXTo6OgQCATG5wQkra2tubm5dXV1IpGIfcVYwKUSgNVAWx0Aab5By9kPkdrb28VicUVFhcV/ncIEq9gdI2cPLhRcIUOYwPvneVECEDgi0P8Zh+x2NMWKPHjlCQ9MwBnEiN/BhQLyg0ajccHneUlcJwEcFGjr79smsM/RPDhE4oEJ1NhtIO89QxPkBxzHv/76a09PTz8/Pz8/v/Hjx+/cuZNrjdjDpRLAQYGmNQ7Z52geHCLxwARq7DaQ956hCfKDi4MSAAoCqzeQenp6srKyCgoKPDw8AABlZWU07zzl5+crlUp/f3+RSOTt7V1ZWcnoRhYX8MAEauw2kPeeoQnyg4uDEgAKpu/1MWfPnj15eXku+AYtBAKBQLCA9XEIgUAgEAjHYf26HAKBQCAQjuP/AEsCNGzt8eelAAAAAElFTkSuQmCC\"></div>"
      ],
      "text/plain": [
       "FormBox[RowBox[{FractionBox[RowBox[{\"16\", \" \", SuperscriptBox[\"u\", \"5\"]}], \n",
       "\n",
       " \n",
       ">         RowBox[{SubsuperscriptBox[OverscriptBox[\"r\", \"^\"], \"2\", \"3\"], \" \", \n",
       "\n",
       " \n",
       ">           SuperscriptBox[SubscriptBox[OverscriptBox[\"r\", \"^\"], \"2\"], \"′\"]}]], \"-\", \n",
       "\n",
       " \n",
       ">        FractionBox[RowBox[{\"20\", \" \", SuperscriptBox[\"u\", \"3\"], \" \", \n",
       "\n",
       " \n",
       ">           SuperscriptBox[SubscriptBox[OverscriptBox[\"r\", \"^\"], \"2\"], \"′\"]}], \n",
       "\n",
       " \n",
       ">         SubsuperscriptBox[OverscriptBox[\"r\", \"^\"], \"2\", \"3\"]], \"-\", \n",
       "\n",
       " \n",
       ">        FractionBox[RowBox[{\"4\", \" \", \"u\", \" \", \n",
       "        SuperscriptBox[RowBox[{\"(\", \n",
       "\n",
       " \n",
       ">              SuperscriptBox[SubscriptBox[OverscriptBox[\"r\", \"^\"], \"2\"], \"′′\"], \")\"}], \n",
       "\n",
       " \n",
       ">            \"2\"]}], RowBox[{SubscriptBox[OverscriptBox[\"r\", \"^\"], \"2\"], \" \", \n",
       "\n",
       " \n",
       ">           SuperscriptBox[SubscriptBox[OverscriptBox[\"r\", \"^\"], \"2\"], \"′\"]}]], \"+\", \n",
       "\n",
       " \n",
       ">        FractionBox[RowBox[{\"14\", \" \", \"u\", \" \", \n",
       "\n",
       " \n",
       ">           SuperscriptBox[SubscriptBox[OverscriptBox[\"r\", \"^\"], \"2\"], \"′\"], \" \", \n",
       "\n",
       " \n",
       ">           SuperscriptBox[SubscriptBox[OverscriptBox[\"r\", \"^\"], \"2\"], \"′′\"]}], \n",
       "\n",
       " \n",
       ">         SubsuperscriptBox[OverscriptBox[\"r\", \"^\"], \"2\", \"2\"]], \"+\", \n",
       "\n",
       " \n",
       ">        FractionBox[RowBox[{\"4\", \" \", \"u\", \" \", \n",
       "\n",
       " \n",
       ">           SuperscriptBox[SubscriptBox[OverscriptBox[\"r\", \"^\"], \"2\"], \"′′′′\"]}], \n",
       "\n",
       " \n",
       ">         SuperscriptBox[SubscriptBox[OverscriptBox[\"r\", \"^\"], \"2\"], \"′\"]], \"-\", \n",
       "\n",
       " \n",
       ">        FractionBox[RowBox[{\"6\", \" \", \"u\", \" \", \n",
       "        SuperscriptBox[RowBox[{\"(\", \n",
       "\n",
       " \n",
       ">              SuperscriptBox[SubscriptBox[OverscriptBox[\"r\", \"^\"], \"2\"], \"′\"], \")\"}], \n",
       "\n",
       " \n",
       ">            \"3\"]}], SubsuperscriptBox[OverscriptBox[\"r\", \"^\"], \"2\", \"3\"]], \"-\", \n",
       "\n",
       " \n",
       ">        FractionBox[RowBox[{\"7\", \" \", \"u\", \" \", \n",
       "\n",
       " \n",
       ">           SuperscriptBox[SubscriptBox[OverscriptBox[\"r\", \"^\"], \"2\"], \"′′′\"]}], \n",
       "\n",
       " \n",
       ">         SubscriptBox[OverscriptBox[\"r\", \"^\"], \"2\"]]}], TraditionalForm]\n"
      ]
     },
     "execution_count": 165,
     "metadata": {
      "text/html": [],
      "text/plain": []
     },
     "output_type": "execute_result"
    }
   ],
   "source": [
    "(* Минус учтём сразу *)\n",
    "dJdr = Simplify[-dJdt/D[Subscript[OverHat[r], 2][OverHat[t]], OverHat[t]] //. OmegaReplace2];\n",
    "Expand[Simplify[dJdr]] // TraditionalForm"
   ]
  },
  {
   "cell_type": "markdown",
   "metadata": {},
   "source": [
    "<span style=\"color:brown\">**NB:**</span> Выражение для $dJ/dr$ <span style=\"color:green\">**сопадает**</span> с выраженем для интегранта из binary_catch3.pdf, если учесть деление на $\\hat{r}_2^{(1)}$"
   ]
  },
  {
   "cell_type": "markdown",
   "metadata": {
    "vscode": {
     "languageId": "wolfram"
    }
   },
   "source": [
    "Заменяя вхождение **всех** производных в выражении для $dJ/dr$, получим"
   ]
  },
  {
   "cell_type": "code",
   "execution_count": 167,
   "metadata": {
    "vscode": {
     "languageId": "wolfram"
    }
   },
   "outputs": [
    {
     "data": {
      "text/html": [
       "<div><img alt=\"Output\" src=\"data:image/png;base64,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\"></div>"
      ],
      "text/plain": [
       "FormBox[FractionBox[RowBox[{\"2\", \" \", \"u\", \" \", \n",
       "\n",
       " \n",
       ">         RowBox[{\"(\", RowBox[{RowBox[{\"9\", \" \", \n",
       "\n",
       " \n",
       ">               SubscriptBox[OverscriptBox[\"r\", \"^\"], \"2\"], \" \", \n",
       "\n",
       " \n",
       ">               SuperscriptBox[\"u\", \"2\"]}], \"+\", \n",
       "\n",
       " \n",
       ">             RowBox[{\"20\", \" \", SqrtBox[SubscriptBox[OverscriptBox[\"r\", \"^\"], \"2\"]]}], \n",
       "\n",
       " \n",
       ">             \"-\", RowBox[{\"15\", \" \", SuperscriptBox[\"u\", \"2\"]}]}], \")\"}]}], \n",
       "\n",
       " \n",
       ">       RowBox[{SubsuperscriptBox[OverscriptBox[\"r\", \"^\"], \"2\", RowBox[{\"5\", \"/\",\\\n",
       " \n",
       ">    \"2\"}]], \n",
       "      \" \", SqrtBox[RowBox[{RowBox[{SubscriptBox[OverscriptBox[\"r\", \"^\"],\\\n",
       " \n",
       ">    \"2\"], \" \", \n",
       "           SuperscriptBox[\"u\", \"2\"]}], \"+\", \n",
       "\n",
       " \n",
       ">            RowBox[{\"2\", \" \", SqrtBox[SubscriptBox[OverscriptBox[\"r\", \"^\"], \"2\"]]}],\\\n",
       " \n",
       ">    \"-\", \n",
       "         SuperscriptBox[\"u\", \"2\"]}]]}]], TraditionalForm]\n"
      ]
     },
     "execution_count": 167,
     "metadata": {
      "text/html": [],
      "text/plain": []
     },
     "output_type": "execute_result"
    }
   ],
   "source": [
    "dJdrFinal = Fold[ (* Последовательно применяем замены *)\n",
    "  Simplify[#1 /.\n",
    "    D[Subscript[OverHat[r], 2][OverHat[t]], {OverHat[t], #2}] -> dr2[[#2]]] &,\n",
    "  dJdr,\n",
    "  Range[5]\n",
    "];\n",
    "\n",
    "Simplify[dJdrFinal] // TraditionalForm"
   ]
  },
  {
   "cell_type": "markdown",
   "metadata": {},
   "source": [
    "$$\n",
    "  \\Delta \\hat{J}(u) = 4 \\epsilon_G \\int\\limits_{\\hat{r}_2^\\text{min}}^\\infty \\frac{u \\left(20\\sqrt{\\hat{r}_2} - 15u^2 + 9\\hat{r}_2 u^2\\right)}{\\hat{r}_2^{\\frac{5}{2}} \\sqrt{2\\sqrt{\\hat{r}_2} - u^2 + \\hat{r}_2 u^2}} \\, d\\hat{r}_2,\n",
    "$$\n",
    "где при $\\hat{r}_2 \\ge \\hat{r}_2^{\\text{min}}$ выражение $\\hat{r}_2u^2 + 2\\sqrt{\\hat{r}_2} - u^2 \\ge 0$.\n",
    "\n",
    "Полученный выше интеграл **компактнее**, чем тот, что рассмотрен в файле binary_catch3.pdf\n",
    "\n",
    "Смотри подробности в файле binary_catch_integral.ipynb\n",
    " \n",
    "Выпишем ответ:"
   ]
  },
  {
   "cell_type": "code",
   "execution_count": 169,
   "metadata": {
    "vscode": {
     "languageId": "wolfram"
    }
   },
   "outputs": [
    {
     "data": {
      "text/html": [
       "<div><img alt=\"Output\" src=\"data:image/png;base64,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\"></div>"
      ],
      "text/plain": [
       "FormBox[RowBox[{\"4\", \" \", SubscriptBox[\"ϵ\", \"G\"], \" \", \n",
       "\n",
       " \n",
       ">        RowBox[{\"(\", RowBox[{RowBox[{\"-\", \n",
       "\n",
       " \n",
       ">              RowBox[{RowBox[{\"2\"}], \" \", SuperscriptBox[\"u\", \"2\"]}]}], \"-\", \n",
       "\n",
       " \n",
       ">            FractionBox[\"15\", SuperscriptBox[\"u\", \"2\"]], \"-\", \n",
       "\n",
       " \n",
       ">            FractionBox[RowBox[{RowBox[{\"(\", \n",
       "\n",
       " \n",
       ">                 RowBox[{RowBox[{\"7\", \" \", SuperscriptBox[\"u\", \"4\"]}], \"+\", \"15\"}], \n",
       "\n",
       " \n",
       ">                 \")\"}], \" \", RowBox[{\"(\", \n",
       "              RowBox[{RowBox[{\"2\", \" \", \n",
       "\n",
       " \n",
       ">                     RowBox[{SuperscriptBox[\"tan\", RowBox[{\"-\", \"1\"}]], \"(\", \n",
       "\n",
       " \n",
       ">                       FractionBox[\"1\", SuperscriptBox[\"u\", \"2\"]], \")\"}]}], \"+\", \"π\"}],\\\n",
       " \n",
       ">    \n",
       "              \")\"}]}], RowBox[{\"2\", \" \", SuperscriptBox[\"u\", \"4\"]}]]}], \")\"}]}], \n",
       "\n",
       " \n",
       ">      TraditionalForm]\n"
      ]
     },
     "execution_count": 169,
     "metadata": {
      "text/html": [],
      "text/plain": []
     },
     "output_type": "execute_result"
    }
   ],
   "source": [
    "DeltaJ = 4*Subscript[\\[Epsilon], G]*(-15/u^2 - 2*u^2 - ((15 + 7*u^4)*(Pi + 2*ArcTan[u^(-2)]))/(2*u^4));\n",
    "DeltaJ // TraditionalForm"
   ]
  },
  {
   "cell_type": "code",
   "execution_count": 170,
   "metadata": {
    "vscode": {
     "languageId": "wolfram"
    }
   },
   "outputs": [
    {
     "data": {
      "text/html": [
       "<div>&#36;&#36;&#52;&#32;&#92;&#101;&#112;&#115;&#105;&#108;&#111;&#110;&#32;&#95;&#71;&#32;&#92;&#108;&#101;&#102;&#116;&#40;&#45;&#50;&#32;&#117;&#94;&#50;&#45;&#92;&#102;&#114;&#97;&#99;&#123;&#49;&#53;&#125;&#123;&#117;&#94;&#50;&#125;&#45;&#92;&#102;&#114;&#97;&#99;&#123;&#92;&#108;&#101;&#102;&#116;&#40;&#55;&#32;&#117;&#94;&#52;&#43;&#49;&#53;&#92;&#114;&#105;&#103;&#104;&#116;&#41;&#32;&#92;&#108;&#101;&#102;&#116;&#40;&#50;&#32;&#92;&#116;&#97;&#110;&#32;&#94;&#123;&#45;&#49;&#125;&#92;&#108;&#101;&#102;&#116;&#40;&#92;&#102;&#114;&#97;&#99;&#123;&#49;&#125;&#123;&#117;&#94;&#50;&#125;&#92;&#114;&#105;&#103;&#104;&#116;&#41;&#43;&#92;&#112;&#105;&#32;&#92;&#114;&#105;&#103;&#104;&#116;&#41;&#125;&#123;&#50;&#32;&#117;&#94;&#52;&#125;&#92;&#114;&#105;&#103;&#104;&#116;&#41;&#36;&#36;</div>"
      ],
      "text/plain": [
       "4 \\epsilon _G \\left(-2 u^2-\\frac{15}{u^2}-\\frac{\\left(7 u^4+15\\right) \\left(2 \\tan\\\n",
       " \n",
       ">   ^{-1}\\left(\\frac{1}{u^2}\\right)+\\pi \\right)}{2 u^4}\\right)"
      ]
     },
     "execution_count": 170,
     "metadata": {
      "text/html": [],
      "text/plain": []
     },
     "output_type": "execute_result"
    }
   ],
   "source": [
    "TeXForm[DeltaJ]"
   ]
  },
  {
   "cell_type": "markdown",
   "metadata": {},
   "source": [
    "В пределе малых $u$ для $\\Delta \\hat{J}(u)$ получаем\n",
    "\n",
    "<span style=\"color:brown\">**NB:**</span> Почему при малых $u$ значения $\\Delta \\hat{J}(u)$ безгранично растут по модулю?\n",
    "\n",
    "При движении пары объектов происходит уменьшение момента импульса.\n",
    "В тот момент, когда начальный импульс уменьшится до нуля тела начнут падать друг на друга,\n",
    "и момент должен перестать меняться.\n",
    "\n",
    "Нужно интегрировать с бесконечноти не до перицентра $\\hat{r}_2^\\text{min}$, а до такой точки на орбите, где обнуляется момент импульса."
   ]
  },
  {
   "cell_type": "code",
   "execution_count": 172,
   "metadata": {
    "vscode": {
     "languageId": "wolfram"
    }
   },
   "outputs": [
    {
     "data": {
      "text/html": [
       "<div><img alt=\"Output\" src=\"data:image/png;base64,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\"></div>"
      ],
      "text/plain": [
       "FormBox[RowBox[{\"-\", FractionBox[RowBox[{\"60\", \" \", \"π\", \" \", \n",
       "\n",
       " \n",
       ">           SubscriptBox[\"ϵ\", \"G\"]}], SuperscriptBox[\"u\", \"4\"]]}], TraditionalForm]\n"
      ]
     },
     "execution_count": 172,
     "metadata": {
      "text/html": [],
      "text/plain": []
     },
     "output_type": "execute_result"
    }
   ],
   "source": [
    "DeltaJSmallu = Normal[Simplify[Series[DeltaJ, {u, 0, -1}]]];\n",
    "DeltaJSmallu // TraditionalForm"
   ]
  },
  {
   "cell_type": "markdown",
   "metadata": {},
   "source": [
    "## Поведение $\\hat{J}_1$ в зависимости от начальной сокрости $u$ и параметра $\\epsilon_G$\n",
    "\n",
    "$$\n",
    "\\hat{J}_1 = \\hat{J}_0 + \\Delta \\hat{J}\n",
    "$$\n",
    "\n",
    "$\\epsilon_G = \\frac{2}{5}\\frac{\\mu}{M} \\left( \\frac{r_s}{2b} \\right)^{\\frac{5}{2}}$,\n",
    "где $r_s = \\frac{2 G M}{c^2}$ - сумма радиусов Шварцшильда двух тел.\n",
    "\n",
    "При прицельных параметрах $b$ сравнимых с радиусом Шварцшильда, $\\epsilon_G$ не мал (смотри $\\epsilon_G = 0.1, 0.5, 1, 2, 10$),\n",
    "момент полностью \"съедается\" на одном проходе вдоль гиперболической траектории.\n",
    "\n",
    "Если прицельный параметр много больше, чем $r_s$, то есть $\\epsilon_G$ мал ($\\epsilon_G = 10^{-5}$),\n",
    "то только на совсем малых скоростях может \"съесться\" момент.\n",
    "\n",
    "<span style=\"color:red\">**TODO_6:**</span> Нет отрицательного момнета!"
   ]
  },
  {
   "cell_type": "code",
   "execution_count": 173,
   "metadata": {
    "vscode": {
     "languageId": "wolfram"
    }
   },
   "outputs": [
    {
     "data": {
      "text/html": [
       "<div><img alt=\"Output\" src=\"data:image/png;base64,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\"></div>"
      ],
      "text/plain": [
       "Legended[-Graphics-, Placed[LineLegend[{Directive[Opacity[1.], \n",
       " \n",
       ">       RGBColor[0.368417, 0.506779, 0.709798], AbsoluteThickness[2]], \n",
       " \n",
       ">      Directive[Opacity[1.], RGBColor[0.880722, 0.611041, 0.142051], \n",
       " \n",
       ">       AbsoluteThickness[2]], Directive[Opacity[1.], \n",
       " \n",
       ">       RGBColor[0.560181, 0.691569, 0.194885], AbsoluteThickness[2]], \n",
       " \n",
       ">      Directive[Opacity[1.], RGBColor[0.922526, 0.385626, 0.209179], \n",
       " \n",
       ">       AbsoluteThickness[2]], Directive[Opacity[1.], \n",
       " \n",
       ">       RGBColor[0.528488, 0.470624, 0.701351], AbsoluteThickness[2]], \n",
       " \n",
       ">      Directive[Opacity[1.], RGBColor[0.772079, 0.431554, 0.102387], \n",
       " \n",
       ">       AbsoluteThickness[2]], Directive[Opacity[1.], \n",
       " \n",
       ">       RGBColor[0.363898, 0.618501, 0.782349], AbsoluteThickness[2]]}, \n",
       " \n",
       ">     {EpsilonG = 10, EpsilonG = 2, EpsilonG = 1, EpsilonG = 0.5, EpsilonG = 0.1, \n",
       " \n",
       ">      EpsilonG = 10^(-2), EpsilonG = 10^(-5)}, LegendMarkers -> None, LabelStyle -> {}, \n",
       " \n",
       ">     LegendLayout -> Column], After, Identity]]"
      ]
     },
     "execution_count": 173,
     "metadata": {
      "text/html": [],
      "text/plain": []
     },
     "output_type": "execute_result"
    }
   ],
   "source": [
    "Plot[\n",
    "  {\n",
    "    u + DeltaJ /. Subscript[\\[Epsilon], G] -> 10,\n",
    "    u + DeltaJ /. Subscript[\\[Epsilon], G] -> 2,\n",
    "    u + DeltaJ /. Subscript[\\[Epsilon], G] -> 1,\n",
    "    u + DeltaJ /. Subscript[\\[Epsilon], G] -> 0.5,\n",
    "    u + DeltaJ /. Subscript[\\[Epsilon], G] -> 0.1,\n",
    "    u + DeltaJ /. Subscript[\\[Epsilon], G] -> 10^(-2),\n",
    "    u + DeltaJ /. Subscript[\\[Epsilon], G] -> 10^(-5)\n",
    "  },\n",
    "  {u, 0.0, 100},\n",
    "  AxesLabel -> {\"u\", \"J1\"},\n",
    "  PlotLegends -> {\n",
    "    \"EpsilonG = 10\",\n",
    "    \"EpsilonG = 2\",\n",
    "    \"EpsilonG = 1\",\n",
    "    \"EpsilonG = 0.5\",\n",
    "    \"EpsilonG = 0.1\",\n",
    "    \"EpsilonG = 10^(-2)\",\n",
    "    \"EpsilonG = 10^(-5)\"\n",
    "    },\n",
    "  PlotRange -> All,\n",
    "  ScalingFunctions -> {\"Log\", \"SignedLog\"}\n",
    "]"
   ]
  },
  {
   "cell_type": "markdown",
   "metadata": {},
   "source": [
    "<span style=\"color:red\">**TODO_7:**</span> Где быстрее набирается интеграл потерь момента импульса?\n",
    "\n",
    "Смотри файл binary_catch_integral.ipynb (График первообразной $\\tilde{I}_7(u_i, r)$)"
   ]
  },
  {
   "cell_type": "markdown",
   "metadata": {},
   "source": [
    "# Время слияния\n",
    "\n",
    "Пусть у нас есть \n",
    "$$\n",
    "\\begin{align}\n",
    "\\hat{E}_1 &= \\hat{E}_0 + \\Delta \\hat{E}\n",
    "\\\\\n",
    "\\hat{J}_1 &= \\hat{J}_0 + \\Delta \\hat{J}\n",
    "\\end{align}\n",
    "$$\n",
    "нужно получить время слияния $\\tau$ и параметры орбиты.\n",
    "\n",
    "$a = b/\\sqrt{1-e^2}$,\n",
    "\n",
    "$J = \\mu\\sqrt{GMa(1-e^2)} = \\mu\\sqrt{GMb}\\sqrt{\\frac{b}{a}}$\n",
    "\n",
    "Момент системы после одного полного оборота вдоль ньютоновской гиперболической орбиты с учетом излучения гравволн\n",
    "$$\n",
    "  \\hat{J}_1 = \\hat{J}_0 + \\Delta \\hat{J} = u - 4 \\epsilon_G \\left(2 u^2+\\frac{15}{u^2}+\\frac{\\left(7 u^4+15\\right) \\left(2 \\tan ^{-1}\\left(\\frac{1}{u^2}\\right)+\\pi \\right)}{2 u^4}\\right) \\approx \\sqrt{\\frac{b}{a}} = \\hat{a}^{-1/2}\n",
    "$$\n",
    "\n",
    "Отсюда характерная длина большой полуоси эллиптической орбиты в случае выполнения условия захвата после одного полного оборота будет\n",
    "$$\n",
    "a \\approx b\\hat{J}_1^{-2}\n",
    "$$\n",
    "\n",
    "А время, за которое расстояние между объектов уменьшится до нуля будет\n",
    "$$\n",
    "\\tau \\approx \\frac{5}{8}\\frac{c^5}{G^3}\\frac{b^4}{\\mu M^2} \\frac{1}{\\hat{J}_1^8}\n",
    "$$"
   ]
  },
  {
   "cell_type": "markdown",
   "metadata": {},
   "source": [
    "<span style=\"color:red\">**TODO_8:**</span> Переделать расчет $\\tau$"
   ]
  },
  {
   "cell_type": "code",
   "execution_count": 174,
   "metadata": {
    "vscode": {
     "languageId": "wolfram"
    }
   },
   "outputs": [],
   "source": [
    "(*J1Smallu = - 60 Pi eG / u^4;\n",
    "eG = 2/5*\\[Mu]/M*(G M / (b c^2))^(5/2);\n",
    "u = v/Sqrt[(G*M)/b];\n",
    "N[5/8*c^5/G^3*b^4/(\\[Mu]*M^2*J1Smallu)^(8)]*)"
   ]
  },
  {
   "cell_type": "markdown",
   "metadata": {},
   "source": [
    "Сохранение момента импульса\n",
    "$r_p v_p = v_{\\infty} b$.\n",
    "\n",
    "Здесь $r_p$ - расстояние до перицентра, а $v_p$ - скорость пролетающего тела в нем.\n",
    "\n",
    "Минимальная длина гравитационной волны $\\lambda_\\text{gw} \\sim cT_\\text{gw}$\n",
    "\n",
    "$T_\\text{gw} \\sim \\frac{r_p}{v_p} = \\frac{r_p^2}{v_{\\infty} b}$\n",
    "\n",
    "Тогда $\\lambda_\\text{gw} \\sim \\frac{c}{v_{\\infty}}\\frac{r_p^2}{b}$.\n",
    "\n",
    "Условие медленного движения есть\n",
    "\n",
    "$r_p \\ll \\lambda_\\text{gw}$ откуда получаем\n",
    "\n",
    "$\\frac{v_{\\infty}}{с} \\ll \\frac{r_p}{b} \\sim 1$.\n",
    "\n",
    "Или в безразмерном виде\n",
    "\n",
    "$u = \\frac{v_{\\infty} t_0}{b} \\ll \\frac{c t_0}{b} = \\sqrt{\\frac{c^2 b}{G M}}$.\n",
    "\n",
    "Далее рассмотрим условие слабой гравитации\n",
    "\n",
    "$r_p \\gg r_s = \\frac{2GM}{c^2}$\n",
    "\n",
    "Так как $r_p = b\\frac{\\sqrt{u^4 + 1} - 1}{u^2}$,\n",
    "\n",
    "то для малых $u$ получим\n",
    "\n",
    "$u \\gg \\sqrt{\\frac{2 r_s}{b}} = 2\\frac{b}{t_0 c}$.\n",
    "\n",
    "Объединяя условия на $u$ можно написать\n",
    "\n",
    "$\\sqrt{\\frac{2 r_s}{b}} = \\frac{2b}{t_0 c} \\ll u \\ll \\frac{c t_0}{b} = \\sqrt{\\frac{2 b}{r_s}}$.\n",
    "\n",
    "Откуда следует, что при достаточно большом прицельном расстоянии у нас может быть сколь угодно малая скорость $u$."
   ]
  }
 ],
 "metadata": {
  "kernelspec": {
   "display_name": "Wolfram Language 14.1",
   "language": "Wolfram Language",
   "name": "wolframlanguage14.1"
  },
  "language_info": {
   "codemirror_mode": "mathematica",
   "file_extension": ".m",
   "mimetype": "application/vnd.wolfram.m",
   "name": "Wolfram Language",
   "pygments_lexer": "mathematica",
   "version": "12.0"
  }
 },
 "nbformat": 4,
 "nbformat_minor": 2
}
