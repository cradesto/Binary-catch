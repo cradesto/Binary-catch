{
 "cells": [
  {
   "cell_type": "markdown",
   "metadata": {},
   "source": [
    "# Binary catch\n",
    "\n",
    "**При каких условиях два тела, налетающие друг на друга с бесконечности (в системе центра масс) станут связной системой из-за испускания гравволн?**"
   ]
  },
  {
   "cell_type": "code",
   "execution_count": 10,
   "metadata": {
    "vscode": {
     "languageId": "wolfram"
    }
   },
   "outputs": [
    {
     "name": "stdout",
     "output_type": "stream",
     "text": [
      "  (CleanSlate) Contexts purged: {Global`}\n",
      "  (CleanSlate) Approximate kernel memory recovered: 3 Kb\n"
     ]
    }
   ],
   "source": [
    "(* https://mathematica.stackexchange.com/questions/850/how-do-i-clear-all-user-defined-symbols/861#861 *)\n",
    "<< Utilities`CleanSlate`\n",
    "CleanSlate[];\n",
    "\n",
    "ClearAll[\"Global`*\"]\n",
    "(* ClearSystemCache[] *)\n",
    "(* https://mathematica.stackexchange.com/questions/111605/quit-vs-clearallglobal *)\n",
    "if[Length[Names[\"Global`*\"]] > 0, Remove[\"Global`*\"]];\n",
    "\n",
    "(* PacletInstall[\n",
    "    \"TensorSimplify\",\n",
    "\n",
    "    \"Site\" -> \"http://raw.githubusercontent.com/carlwoll/TensorSimplify/master\"\n",
    "]; *)\n",
    "<<TensorSimplify`"
   ]
  },
  {
   "cell_type": "markdown",
   "metadata": {},
   "source": [
    "## Einstein Summation"
   ]
  },
  {
   "cell_type": "code",
   "execution_count": 19,
   "metadata": {
    "vscode": {
     "languageId": "wolfram"
    }
   },
   "outputs": [],
   "source": [
    "ClearAll@EinsteinSummation\n",
    "\n",
    "EinsteinSummation[in_List, arrays_] := Module[\n",
    "  {res =\n",
    "    isum[in -> Cases[Tally @ Flatten @ in, {_, 1}][[All, 1]], arrays]},\n",
    "  res /; res =!= $Failed\n",
    "  ]\n",
    "\n",
    "EinsteinSummation[in_List -> out_, arrays_] := Module[\n",
    "  {res = isum[in -> out, arrays]},\n",
    "  res /; res =!= $Failed\n",
    "  ]\n",
    "\n",
    "isum[in_List -> out_, arrays_List] := Catch@Module[\n",
    "  {indices, contracted, uncontracted, contractions, transpose},\n",
    "  If[Length[in] != Length[arrays],\n",
    "    Message[EinsteinSummation::length, Length[in], Length[arrays]];\n",
    "    Throw[$Failed]];\n",
    "  MapThread[\n",
    "    If[IntegerQ@TensorRank[#1] && Length[#1] != TensorRank[#2],\n",
    "      Message[EinsteinSummation::shape, #1, #2];\n",
    "      Throw[$Failed]] &, {in, arrays}];\n",
    "  indices = Tally[Flatten[in, 1]];\n",
    "  If[DeleteCases[indices, {_, 1 | 2}] =!= {},\n",
    "    Message[EinsteinSummation::repeat,\n",
    "      Cases[indices, {x_, Except[1 | 2]} :> x]];\n",
    "    Throw[$Failed]];\n",
    "  uncontracted = Cases[indices, {x_, 1} :> x];\n",
    "  If[Sort[uncontracted] =!= Sort[out],\n",
    "    Message[EinsteinSummation::output, uncontracted, out];\n",
    "    Throw[$Failed]];\n",
    "  contracted = Cases[indices, {x_, 2} :> x];\n",
    "  contractions = Flatten[Position[Flatten[in, 1], #]] & /@ contracted;\n",
    "  transpose = FindPermutation[uncontracted, out];\n",
    "  Activate@\n",
    "    TensorTranspose[\n",
    "      TensorContract[Inactive[TensorProduct] @@ arrays, contractions],\n",
    "    transpose]]\n",
    "\n",
    "EinsteinSummation::length =\n",
    "  \"Number of index specifications (`1`) does not match the number of \\\n",
    "tensors (`2`)\";\n",
    "EinsteinSummation::shape =\n",
    "  \"Index specification `1` does not match the tensor rank of `2`\";\n",
    "EinsteinSummation::repeat =\n",
    "  \"Index specifications `1` are repeated more than twice\";\n",
    "EinsteinSummation::output =\n",
    "  \"The uncontracted indices don't match the desired output\";"
   ]
  },
  {
   "cell_type": "code",
   "execution_count": 27,
   "metadata": {
    "vscode": {
     "languageId": "wolfram"
    }
   },
   "outputs": [],
   "source": [
    "(* Правила для скрытия аргументов в TraditionalForm *)\n",
    "\n",
    "Unprotect[Subscript, OverHat, Derivative];\n",
    "\n",
    "MakeBoxes[OverHat[r_][OverHat[t]], TraditionalForm] :=\n",
    "  MakeBoxes[OverHat[r], TraditionalForm]\n",
    "\n",
    "MakeBoxes[\\[Phi][OverHat[t]], TraditionalForm] :=\n",
    "  MakeBoxes[\\[Phi], TraditionalForm]\n",
    "\n",
    "MakeBoxes[Subscript[OverHat[r], n_][OverHat[t]], TraditionalForm] :=\n",
    "  SubscriptBox[OverscriptBox[\"r\", \"^\"], ToString[n]];\n",
    "\n",
    "MakeBoxes[OverHat[\\[Omega]][OverHat[t]], TraditionalForm] :=\n",
    "  OverscriptBox[\"\\[Omega]\", \"^\"];\n",
    "\n",
    "MakeBoxes[Derivative[n_][f_][OverHat[t]], TraditionalForm] := Module[{primes},\n",
    "  primes = StringJoin[Table[\"\\[Prime]\", n]];\n",
    "  SuperscriptBox[ToBoxes[f], primes]\n",
    "];\n",
    "\n",
    "Protect[Subscript, OverHat, Derivative];"
   ]
  },
  {
   "cell_type": "markdown",
   "metadata": {},
   "source": [
    "$\\hat{r}_k$"
   ]
  },
  {
   "cell_type": "code",
   "execution_count": 36,
   "metadata": {
    "vscode": {
     "languageId": "wolfram"
    }
   },
   "outputs": [
    {
     "data": {
      "text/html": [
       "<div><img alt=\"Output\" src=\"data:image/png;base64,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\"></div>"
      ],
      "text/plain": [
       "FormBox[TagBox[RowBox[{\"(\", \"⁠\", \n",
       "\n",
       " \n",
       ">         TagBox[GridBox[{{RowBox[{OverscriptBox[\"r\", \"^\"], \" \", \n",
       "\n",
       " \n",
       ">               RowBox[{\"cos\", \"(\", \"ϕ\", \")\"}]}]}, \n",
       "\n",
       " \n",
       ">            {RowBox[{OverscriptBox[\"r\", \"^\"], \" \", RowBox[{\"sin\", \"(\", \"ϕ\", \")\"}]}]}}, \n",
       "\n",
       " \n",
       ">           Rule[RowSpacings, 1], Rule[ColumnAlignments, Center], \n",
       "\n",
       " \n",
       ">           Rule[ColumnAlignments, Left]], Column], \"⁠\", \")\"}], \n",
       "\n",
       " \n",
       ">       Function[BoxForm`e$, MatrixForm[BoxForm`e$]]], TraditionalForm]\n"
      ]
     },
     "execution_count": 36,
     "metadata": {
      "text/html": [],
      "text/plain": []
     },
     "output_type": "execute_result"
    }
   ],
   "source": [
    "rh = {OverHat[r][OverHat[t]]*Cos[\\[Phi][OverHat[t]]], OverHat[r][OverHat[t]]*Sin[\\[Phi][OverHat[t]]]};\n",
    "rh // MatrixForm // TraditionalForm"
   ]
  },
  {
   "cell_type": "code",
   "execution_count": 37,
   "metadata": {
    "vscode": {
     "languageId": "wolfram"
    }
   },
   "outputs": [],
   "source": [
    "$Assumptions = {\n",
    "  {OverHat[r][OverHat[t]], Subscript[OverHat[r],2][OverHat[t]], OverHat[t], u} \\[Element] PositiveReals\n",
    "};\n",
    "$Assumptions = Join[$Assumptions, {rh \\[Element] NonNegativeReals}];"
   ]
  },
  {
   "cell_type": "markdown",
   "metadata": {},
   "source": [
    "## Система движения в декартовых координатах\n",
    "$$\n",
    "\\frac{d^2r_k}{dt^2} = -\\frac{G(m_A+m_B)}{r^3}r_k - \\frac{2}{5}f_{ki}^{(5)}r_i\n",
    "$$\n",
    "\n",
    "Ч.Мизнер, К.Торн, Дж.Уилер Гравтация, Т.3, §36.8, стр. 222\n",
    "\n",
    "Введём обозначения для полной и приведённой масс\n",
    "$$\n",
    "M=m_A+m_B; \\quad\n",
    "\\mu = m_{AB} = \\frac{m_A m_B}{M}\n",
    "$$\n",
    "Задача двух самогравитирующих тел с массами $m_A$ и $m_B$\n",
    "в системе отсчёта центра масс всегда сводится\n",
    "к задаче движения тела массы $\\mu$\n",
    "в центральном поле массы $M$.\n",
    "\n",
    "$f_{ki}$ - квадрупольный момент системы.\n",
    "Задача решается методом последовательных приближений\n",
    "Первоначально строится решение в приближении Ньютона,\n",
    "затем для полученной конфигурации находится квадрупольный момент\n",
    "и находится его пятая производная по времени.\n",
    "Уже на следубщем шаге (уравнение выше)\n",
    "находятся решение с **заданной** функций от времени (**и только времени**) $f_{ki}^{(5)}$."
   ]
  },
  {
   "cell_type": "markdown",
   "metadata": {},
   "source": [
    "### Безразмерные единицы\n",
    "$$\n",
    "\\begin{align}\n",
    "r &= b\\hat{r} \\\\\n",
    "t &= t_0\\hat{t} \\\\\n",
    "f_{ij} &= b^2\\frac{G}{c^5}\\mu\\hat{f}_{ij} \\\\\n",
    "f_{ij}^{(5)} &= \\frac{b^2}{t_0^5}\\frac{G}{c^5}\\mu\\hat{f}_{ij}^{(5)}\n",
    "\\end{align}\n",
    "$$"
   ]
  },
  {
   "cell_type": "markdown",
   "metadata": {},
   "source": [
    "$\\hat{f}_{ki}$"
   ]
  },
  {
   "cell_type": "code",
   "execution_count": 40,
   "metadata": {
    "vscode": {
     "languageId": "wolfram"
    }
   },
   "outputs": [
    {
     "data": {
      "text/html": [
       "<div><img alt=\"Output\" src=\"data:image/png;base64,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\"></div>"
      ],
      "text/plain": [
       "FormBox[TagBox[RowBox[{\"(\", \"⁠\", \n",
       "\n",
       " \n",
       ">         GridBox[{{RowBox[{FractionBox[\"1\", \"6\"], \" \", \n",
       "\n",
       " \n",
       ">              SuperscriptBox[OverscriptBox[\"r\", \"^\"], \"2\"], \" \", \n",
       "\n",
       " \n",
       ">              RowBox[{\"(\", RowBox[{RowBox[{\"3\", \" \", \n",
       "\n",
       " \n",
       ">                    RowBox[{\"cos\", \"(\", RowBox[{\"2\", \" \", \"ϕ\"}], \")\"}]}], \"+\",\\\n",
       " \n",
       ">    \"1\"}]\\\n",
       ", \")\"}]}], RowBox[{SuperscriptBox[OverscriptBox[\"r\", \"^\"], \"2\"], \" \", \n",
       "\n",
       " \n",
       ">              RowBox[{\"sin\", \"(\", \"ϕ\", \")\"}], \" \", RowBox[{\"cos\", \"(\", \"ϕ\", \")\"}]}]}, \n",
       "\n",
       " \n",
       ">           {RowBox[{SuperscriptBox[OverscriptBox[\"r\", \"^\"], \"2\"], \" \", \n",
       "\n",
       " \n",
       ">              RowBox[{\"sin\", \"(\", \"ϕ\", \")\"}], \" \", RowBox[{\"cos\", \"(\", \"ϕ\", \")\"}]}], \n",
       "\n",
       " \n",
       ">            RowBox[{FractionBox[\"1\", \"3\"], \" \", \n",
       "\n",
       " \n",
       ">              SuperscriptBox[OverscriptBox[\"r\", \"^\"], \"2\"], \" \", \n",
       "\n",
       " \n",
       ">              RowBox[{\"(\", RowBox[{RowBox[{\"3\", \" \", \n",
       "\n",
       " \n",
       ">                    RowBox[{SuperscriptBox[\"sin\", \"2\"], \"(\", \"ϕ\", \")\"}]}], \"-\", \"1\"}], \n",
       "\n",
       " \n",
       ">                \")\"}]}]}}, Rule[RowSpacings, 1], Rule[ColumnSpacings, 1], \n",
       "\n",
       " \n",
       ">          Rule[RowAlignments, Baseline], Rule[ColumnAlignments, Center]], \"⁠\", \")\"}], \n",
       "\n",
       " \n",
       ">       Function[BoxForm`e$, MatrixForm[BoxForm`e$]]], TraditionalForm]\n"
      ]
     },
     "execution_count": 40,
     "metadata": {
      "text/html": [],
      "text/plain": []
     },
     "output_type": "execute_result"
    }
   ],
   "source": [
    "fh = Simplify[Array[rh[[#]]*rh[[#2]] - 1/3*KroneckerDelta[#, #2]*(OverHat[r][OverHat[t]])^2 &, {2, 2}], Trig -> True];\n",
    "fh // MatrixForm // TraditionalForm"
   ]
  },
  {
   "cell_type": "markdown",
   "metadata": {},
   "source": [
    "<span style=\"color:brown\">**NB:**</span> Здесь и далее мы не записываем компоненты квадрупольного момента для $z$, так как они сворачиваются с нулевыми $r_z$.\n",
    "\n",
    "Однако нужно запомнить, что след полного квадрупольного момента и его пятой производной **нулевой**!"
   ]
  },
  {
   "cell_type": "markdown",
   "metadata": {},
   "source": [
    "$\\hat{f}_{ki}^{(5)}$ - заданная функция (см. выше)"
   ]
  },
  {
   "cell_type": "code",
   "execution_count": 44,
   "metadata": {
    "vscode": {
     "languageId": "wolfram"
    }
   },
   "outputs": [
    {
     "data": {
      "text/html": [
       "<div><img alt=\"Output\" src=\"data:image/png;base64,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\"></div>"
      ],
      "text/plain": [
       "FormBox[TagBox[RowBox[{\"(\", \"⁠\", \n",
       "\n",
       " \n",
       ">         GridBox[{{TemplateBox[List[SubscriptBox[OverscriptBox[\"f\", \"^\"], \n",
       "\n",
       " \n",
       ">               RowBox[List[\"x\", \",\", \"x\"]]], \"\\\"(5)\\\"\"], \"Superscript\", \n",
       "\n",
       " \n",
       ">             Rule[SyntaxForm, SuperscriptBox]], \n",
       "\n",
       " \n",
       ">            TemplateBox[List[SubscriptBox[OverscriptBox[\"f\", \"^\"], \n",
       "\n",
       " \n",
       ">               RowBox[List[\"x\", \",\", \"y\"]]], \"\\\"(5)\\\"\"], \"Superscript\", \n",
       "\n",
       " \n",
       ">             Rule[SyntaxForm, SuperscriptBox]]}, \n",
       "\n",
       " \n",
       ">           {TemplateBox[List[SubscriptBox[OverscriptBox[\"f\", \"^\"], \n",
       "\n",
       " \n",
       ">               RowBox[List[\"x\", \",\", \"y\"]]], \"\\\"(5)\\\"\"], \"Superscript\", \n",
       "\n",
       " \n",
       ">             Rule[SyntaxForm, SuperscriptBox]], \n",
       "\n",
       " \n",
       ">            TemplateBox[List[SubscriptBox[OverscriptBox[\"f\", \"^\"], \n",
       "\n",
       " \n",
       ">               RowBox[List[\"y\", \",\", \"y\"]]], \"\\\"(5)\\\"\"], \"Superscript\", \n",
       "\n",
       " \n",
       ">             Rule[SyntaxForm, SuperscriptBox]]}}, Rule[RowSpacings, 1], \n",
       "\n",
       " \n",
       ">          Rule[ColumnSpacings, 1], Rule[RowAlignments, Baseline], \n",
       "\n",
       " \n",
       ">          Rule[ColumnAlignments, Center]], \"⁠\", \")\"}], \n",
       "\n",
       " \n",
       ">       Function[BoxForm`e$, MatrixForm[BoxForm`e$]]], TraditionalForm]\n"
      ]
     },
     "execution_count": 44,
     "metadata": {
      "text/html": [],
      "text/plain": []
     },
     "output_type": "execute_result"
    }
   ],
   "source": [
    "(* fh5 = Array[Superscript[Subscript[OverHat[f], {x, y}[[#1]], {x, y}[[#2]]], \"(5)\"] &, {2, 2}] *)\n",
    "(* Symmetric version *)\n",
    "fh5 = Array[If[#1 <= #2,\n",
    "                    Superscript[Subscript[OverHat[f], {x, y}[[#1]], {x, y}[[#2]]], \"(5)\"],\n",
    "                    Superscript[Subscript[OverHat[f], {x, y}[[#2]], {x, y}[[#1]]], \"(5)\"]] &, {2, 2}];\n",
    "fh5 // MatrixForm // TraditionalForm"
   ]
  },
  {
   "cell_type": "markdown",
   "metadata": {},
   "source": [
    "$\\hat{f}_{ki}^{(5)}\\hat{r}_i$"
   ]
  },
  {
   "cell_type": "code",
   "execution_count": 46,
   "metadata": {
    "vscode": {
     "languageId": "wolfram"
    }
   },
   "outputs": [
    {
     "data": {
      "text/html": [
       "<div><img alt=\"Output\" src=\"data:image/png;base64,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\"></div>"
      ],
      "text/plain": [
       "FormBox[TagBox[RowBox[{\"(\", \"⁠\", \n",
       "\n",
       " \n",
       ">         TagBox[GridBox[{{RowBox[{RowBox[{OverscriptBox[\"r\", \"^\"], \" \", \n",
       "\n",
       " \n",
       ">                 RowBox[{\"sin\", \"(\", \"ϕ\", \")\"}], \" \", \n",
       "\n",
       " \n",
       ">                 TemplateBox[List[SubscriptBox[OverscriptBox[\"f\", \"^\"], \n",
       "\n",
       " \n",
       ">                    RowBox[List[\"x\", \",\", \"y\"]]], \"\\\"(5)\\\"\"], \"Superscript\", \n",
       "\n",
       " \n",
       ">                  Rule[SyntaxForm, SuperscriptBox]]}], \"+\", \n",
       "\n",
       " \n",
       ">               RowBox[{OverscriptBox[\"r\", \"^\"], \" \", RowBox[{\"cos\", \"(\", \"ϕ\", \")\"}], \n",
       "\n",
       " \n",
       ">                 \" \", TemplateBox[List[SubscriptBox[OverscriptBox[\"f\", \"^\"], \n",
       "\n",
       " \n",
       ">                    RowBox[List[\"x\", \",\", \"x\"]]], \"\\\"(5)\\\"\"], \"Superscript\", \n",
       "\n",
       " \n",
       ">                  Rule[SyntaxForm, SuperscriptBox]]}]}]}, \n",
       "\n",
       " \n",
       ">            {RowBox[{RowBox[{OverscriptBox[\"r\", \"^\"], \" \", \n",
       "\n",
       " \n",
       ">                 RowBox[{\"cos\", \"(\", \"ϕ\", \")\"}], \" \", \n",
       "\n",
       " \n",
       ">                 TemplateBox[List[SubscriptBox[OverscriptBox[\"f\", \"^\"], \n",
       "\n",
       " \n",
       ">                    RowBox[List[\"x\", \",\", \"y\"]]], \"\\\"(5)\\\"\"], \"Superscript\", \n",
       "\n",
       " \n",
       ">                  Rule[SyntaxForm, SuperscriptBox]]}], \"+\", \n",
       "\n",
       " \n",
       ">               RowBox[{OverscriptBox[\"r\", \"^\"], \" \", RowBox[{\"sin\", \"(\", \"ϕ\", \")\"}], \n",
       "\n",
       " \n",
       ">                 \" \", TemplateBox[List[SubscriptBox[OverscriptBox[\"f\", \"^\"], \n",
       "\n",
       " \n",
       ">                    RowBox[List[\"y\", \",\", \"y\"]]], \"\\\"(5)\\\"\"], \"Superscript\", \n",
       "\n",
       " \n",
       ">                  Rule[SyntaxForm, SuperscriptBox]]}]}]}}, Rule[RowSpacings, 1], \n",
       "\n",
       " \n",
       ">           Rule[ColumnAlignments, Center], Rule[ColumnAlignments, Left]], Column], \"⁠\",\\\n",
       " \n",
       ">    \n",
       "      \")\"}], Function[BoxForm`e$, MatrixForm[BoxForm`e$]]], TraditionalForm]\n"
      ]
     },
     "execution_count": 46,
     "metadata": {
      "text/html": [],
      "text/plain": []
     },
     "output_type": "execute_result"
    }
   ],
   "source": [
    "fh5rh = EinsteinSummation[{{k, i}, {i}}, {fh5, rh}];\n",
    "fh5rh // MatrixForm // TraditionalForm"
   ]
  },
  {
   "cell_type": "markdown",
   "metadata": {},
   "source": [
    "Система движения в безразмерной записи будет выглядеть как"
   ]
  },
  {
   "cell_type": "markdown",
   "metadata": {},
   "source": [
    "$$\n",
    "\\frac{d^2\\hat{r}_k}{d\\hat{t}^2} = -\\frac{t_0^2}{b^3}\\frac{GM}{\\hat{r}^3}\\hat{r}_k - \\frac{2}{5}\\frac{b^2}{t_0^3}\\frac{G}{c^5}\\mu\\hat{f}_{ki}^{(5)}\\hat{r}_i\n",
    "$$"
   ]
  },
  {
   "cell_type": "markdown",
   "metadata": {},
   "source": [
    "Пусть $t_0 = \\sqrt{\\frac{b^3}{GM}}$, а $b$ - прицельное расстояние, тогда система движения перепишется как\n",
    "\n",
    "$$\n",
    "\\frac{d^2\\hat{r}_k}{d\\hat{t}^2} + \\frac{\\hat{r}_k}{\\hat{r}^3} = - \\epsilon_G\\hat{f}_{ki}^{(5)}\\hat{r}_i\\quad,\n",
    "$$\n",
    "или\n",
    "$$\n",
    "\\hat{r}_k^{(2)} + \\frac{\\hat{r}_k}{\\hat{r}^3} = - \\epsilon_G\\hat{f}_{ki}^{(5)}\\hat{r}_i\\quad,\n",
    "$$\n",
    "\n",
    "где безразмерная постоянная\n",
    "$\\epsilon_G =\n",
    "  \\frac{2}{5}\\frac{b^2}{t_0^3}\\frac{G}{c^5}\\mu\n",
    "  = \\frac{2}{5}\\frac{\\mu}{M} \\left( \\frac{GM}{bc^2} \\right)^{\\frac{5}{2}}\n",
    "  = \\frac{2}{5}\\frac{\\mu}{M} \\left( \\frac{r_s}{2b} \\right)^{\\frac{5}{2}}$.\n",
    "\n",
    "Здесь $r_s = \\frac{2 G M}{c^2}$ - сумма радиусов Шварцшильда двух тел.\n",
    "Заметим, что $f_{ij}^{(5)} = \\frac{5}{2}\\frac{\\epsilon_G}{t_0^2}\\hat{f}_{ij}^{(5)}$\n",
    "\n",
    "Можно еще записать, что\n",
    "$\\epsilon_G\n",
    "  = \\frac{2}{5}\\frac{q}{(1 + q)^2} \\left( \\frac{r_s}{2b} \\right)^{\\frac{5}{2}}$,\n",
    "где $q = \\frac{m_1}{m_2}$ - отношение меньшей массы тела к большей, $m_1 < m_2$.\n",
    "Откуда можно видеть, что $\\epsilon_G \\ll 1$, когда $q \\ll 1$ или/и $r_s \\ll b$.\n",
    "\n",
    "<span style=\"color:brown\">**NB:**</span> Но обязательно ли условие $\\epsilon_G \\ll 1$? Обсудим ниже."
   ]
  },
  {
   "cell_type": "markdown",
   "metadata": {},
   "source": [
    "## Переход к полярным координатам от декартовых\n",
    "Повернём систему с помощью матрицы вращения $R_{ij}(\\phi)$ на угол $\\phi$ по **часовой** стрелке"
   ]
  },
  {
   "cell_type": "code",
   "execution_count": 47,
   "metadata": {
    "vscode": {
     "languageId": "wolfram"
    }
   },
   "outputs": [
    {
     "data": {
      "text/html": [
       "<div><img alt=\"Output\" src=\"data:image/png;base64,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\"></div>"
      ],
      "text/plain": [
       "FormBox[TagBox[RowBox[{\"(\", \"⁠\", \n",
       "\n",
       " \n",
       ">         GridBox[{{RowBox[{\"cos\", \"(\", \"ϕ\", \")\"}], RowBox[{\"sin\", \"(\", \"ϕ\", \")\"}]}, \n",
       "\n",
       " \n",
       ">           {RowBox[{\"-\", RowBox[{\"sin\", \"(\", \"ϕ\", \")\"}]}], \n",
       "\n",
       " \n",
       ">            RowBox[{\"cos\", \"(\", \"ϕ\", \")\"}]}}, Rule[RowSpacings, 1], \n",
       "\n",
       " \n",
       ">          Rule[ColumnSpacings, 1], Rule[RowAlignments, Baseline], \n",
       "\n",
       " \n",
       ">          Rule[ColumnAlignments, Center]], \"⁠\", \")\"}], \n",
       "\n",
       " \n",
       ">       Function[BoxForm`e$, MatrixForm[BoxForm`e$]]], TraditionalForm]\n"
      ]
     },
     "execution_count": 47,
     "metadata": {
      "text/html": [],
      "text/plain": []
     },
     "output_type": "execute_result"
    }
   ],
   "source": [
    "RotationMatrix[-\\[Phi]] // MatrixForm // TraditionalForm"
   ]
  },
  {
   "cell_type": "markdown",
   "metadata": {},
   "source": [
    "#### LHS системы после поворота"
   ]
  },
  {
   "cell_type": "code",
   "execution_count": 49,
   "metadata": {
    "vscode": {
     "languageId": "wolfram"
    }
   },
   "outputs": [
    {
     "data": {
      "text/html": [
       "<div><img alt=\"Output\" src=\"data:image/png;base64,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\"></div>"
      ],
      "text/plain": [
       "FormBox[TagBox[RowBox[{\"(\", \"⁠\", \n",
       "      TagBox[GridBox[{{RowBox[{RowBox[{\"-\", \n",
       "\n",
       " \n",
       ">                 RowBox[{\"2\", \" \", SuperscriptBox[OverscriptBox[\"r\", \"^\"], \"′\"], \n",
       "\n",
       " \n",
       ">                   \" \", SuperscriptBox[\"ϕ\", \"′\"], \" \", \n",
       "\n",
       " \n",
       ">                   RowBox[{\"sin\", \"(\", \"ϕ\", \")\"}]}]}], \"+\", \n",
       "\n",
       " \n",
       ">               RowBox[{OverscriptBox[\"r\", \"^\"], \" \", \n",
       "\n",
       " \n",
       ">                 RowBox[{\"(\", RowBox[{RowBox[{SuperscriptBox[RowBox[\n",
       "\n",
       " \n",
       ">                         {\"(\", SuperscriptBox[\"ϕ\", \"′\"], \")\"}], \"2\"], \" \", \n",
       "\n",
       " \n",
       ">                       RowBox[{\"(\", \n",
       "\n",
       " \n",
       ">                         RowBox[{\"-\", RowBox[{\"cos\", \"(\", \"ϕ\", \")\"}]}], \")\"}]}], \n",
       "\n",
       " \n",
       ">                     \"-\", RowBox[{SuperscriptBox[\"ϕ\", \"′′\"], \" \", \n",
       "\n",
       " \n",
       ">                       RowBox[{\"sin\", \"(\", \"ϕ\", \")\"}]}]}], \")\"}]}], \"+\", \n",
       "\n",
       " \n",
       ">               RowBox[{SuperscriptBox[OverscriptBox[\"r\", \"^\"], \"′′\"], \" \", \n",
       "\n",
       " \n",
       ">                 RowBox[{\"cos\", \"(\", \"ϕ\", \")\"}]}], \"+\", \n",
       "\n",
       " \n",
       ">               FractionBox[RowBox[{\"cos\", \"(\", \"ϕ\", \")\"}], \n",
       "\n",
       " \n",
       ">                SuperscriptBox[OverscriptBox[\"r\", \"^\"], \"2\"]]}]}, \n",
       "\n",
       " \n",
       ">            {RowBox[{RowBox[{\"2\", \" \", SuperscriptBox[OverscriptBox[\"r\", \"^\"], \"′\"], \n",
       "\n",
       " \n",
       ">                 \" \", SuperscriptBox[\"ϕ\", \"′\"], \" \", RowBox[{\"cos\", \"(\", \"ϕ\",\\\n",
       " \n",
       ">    \")\"}]}]\\\n",
       ", \"+\", RowBox[{OverscriptBox[\"r\", \"^\"], \" \", \n",
       "\n",
       " \n",
       ">                 RowBox[{\"(\", RowBox[{RowBox[{SuperscriptBox[\"ϕ\", \"′′\"], \" \", \n",
       "\n",
       " \n",
       ">                       RowBox[{\"cos\", \"(\", \"ϕ\", \")\"}]}], \"-\", \n",
       "\n",
       " \n",
       ">                     RowBox[{SuperscriptBox[RowBox[{\"(\", \n",
       "\n",
       " \n",
       ">                          SuperscriptBox[\"ϕ\", \"′\"], \")\"}], \"2\"], \" \", \n",
       "\n",
       " \n",
       ">                       RowBox[{\"sin\", \"(\", \"ϕ\", \")\"}]}]}], \")\"}]}], \"+\", \n",
       "\n",
       " \n",
       ">               RowBox[{SuperscriptBox[OverscriptBox[\"r\", \"^\"], \"′′\"], \" \", \n",
       "\n",
       " \n",
       ">                 RowBox[{\"sin\", \"(\", \"ϕ\", \")\"}]}], \"+\", \n",
       "\n",
       " \n",
       ">               FractionBox[RowBox[{\"sin\", \"(\", \"ϕ\", \")\"}], \n",
       "\n",
       " \n",
       ">                SuperscriptBox[OverscriptBox[\"r\", \"^\"], \"2\"]]}]}}, \n",
       "\n",
       " \n",
       ">           Rule[RowSpacings, 1], Rule[ColumnAlignments, Center], \n",
       "\n",
       " \n",
       ">           Rule[ColumnAlignments, Left]], Column], \"⁠\", \")\"}], \n",
       "\n",
       " \n",
       ">       Function[BoxForm`e$, MatrixForm[BoxForm`e$]]], TraditionalForm]\n"
      ]
     },
     "execution_count": 49,
     "metadata": {
      "text/html": [],
      "text/plain": []
     },
     "output_type": "execute_result"
    }
   ],
   "source": [
    "LHSMotion = D[rh, {OverHat[t], 2}] + Simplify[rh / Norm[rh]^3];\n",
    "LHSMotion // MatrixForm // TraditionalForm"
   ]
  },
  {
   "cell_type": "code",
   "execution_count": 50,
   "metadata": {
    "vscode": {
     "languageId": "wolfram"
    }
   },
   "outputs": [
    {
     "data": {
      "text/html": [
       "<div><img alt=\"Output\" src=\"data:image/png;base64,iVBORw0KGgoAAAANSUhEUgAAAIsAAAA4CAIAAABCJZxzAAAA0HpUWHRSYXcgcHJvZmlsZSB0eXBlIGV4aWYAAHjabU9bjgMhDPvnFHuEPMCB4zAtlXqDHn9NQbuiqiVi48SZIY3X85F+Jkwl5RIVDRAit9ysU1RZWKzS3nVZ1+7p6SffIe20yn8DY/vX6QcWW/1YJLaEzy9Qe96Bvcht+drX/drz1ms9F7kcgPz9+td79jAUaGTWbBKBRl0TJQnFpAQeuAEcVNxN8o08EMEYYk54n8EJG3FOjwSncZ9P8HmKd7KzqldG1UGd6XW6Ytfuvh+SfgFdXFq4lD84sAAAAAlwSFlzAAAOxAAADsQBlSsOGwAAADx0RVh0U29mdHdhcmUAQ3JlYXRlZCB3aXRoIHRoZSBXb2xmcmFtIExhbmd1YWdlIDogd3d3LndvbGZyYW0uY29tXKKmhQAAACF0RVh0Q3JlYXRpb24gVGltZQAyMDI1OjAzOjE4IDE2OjQwOjMwAQLEzgAACkRJREFUeJztnH1MUt8fxw8PfdN0WqhETrE/ylbpws1cc9kDTAVrZZlmja2Zpa7ZbDV70tbjqjlXzazU0i3dqqVls6KwFFErU4OszHL5FNNMsTQNwuCe7x+33fgFXOFe8Ef78vrrnnPPed83fLhwOdw3FAghcGAzxGJxXl7e58+fnz59SkyBbl1DNgJBkAMHDoyOjmo0GgRBLl++TKf/Hc4jIyM1Gk1GRgZxCahHS0vL48ePof1RWVnJ4XDQ7VmzZt24ceP/68ci7t27FxAQYObggoKCsbEx/R4qViqJRHLx4kUej0egzKdOnXJ3d3/58iXxVwouPB6vpqYGAAAhRBBEqVSSFLS1YcJER0cLhcLBwcHfXWihlEplWFjY9+/fCbxGpFLpunXr6uvruVzut2/fCChgqFSqwcFBnAHV1dVeXl59fX1kjmLUMHboCT1YikXnEISwsbExNjYWa/6q0JYtW3Jycog5KC0t1el0EMJPnz7V1NRYNBediLF79+6dO3eaGvz27duIiIienh5iPjGMGsYOje+BAJZWCELI5XLv3LmDbgMI4cDAwD///DMwMEDGh06nQxDE6C6tVnv27FmFQvFHf3Bw8N27d/UV5syZ09XVBSGUyWQlJSX6g+Vy+fbt24md5RMaxg6t78FaEKhQYWFhWFgYug0ghMXFxREREYQdHDt2jMfjMZlMpVIpFAo9PT17e3v1ByQkJLS0tPwxq7e318nJSf8Zl0gk2dnZWPP69etZWVnotlKpXLVqlVarRZv3798n7Nao4bKyMvTQf3ggT1VV1ebNm93c3C5dumT+OTA8POzs7Pz161eIVmjTpk179+4lbEKr1a5du5bH4+3fvz8zMzMmJmZ8fBzbe+3atcTERMNZ169f5/P5+j11dXVYDVCWLFkil8shhEeOHHF1dWWxWCwWa8aMGfv27TNlJj8//82bN5Yalkgk6KENPRDQtwpz5869efMmRCvEYrHy8/PJyAUFBQUFBb1//95w1+LFi0UikX5PVVXVoUOHQkJCIiIiBAIBzsf+yZMnt23bZpGT5ORkiURCxrBV9MnD5/NTUlIghFQEQQYGBthsNuELRJVK9fr16zlz5vj7+/+xa3BwsKmpKSQkBOspKSkpKio6evSoWq0uKCjgcDhpaWmmlENCQkQiEWFjBAzbD2w2u7+/HwBA//r1K4IgLi4uhoMghGKx2LCfxWJxOBys2dzcrNVq4+PjDUcqFAoajcZgMNDmx48fU1NTW1tbR0ZGKBSKn5+fv79/eXm5KZeenp79/f1arRZ/BUHfp0KhaGxs/PHjh6FPcwyT1+/r6zPnOyWbzTb63GK4uLgMDQ0BAOhfvnwBADg7Oxt19vDhQ8N+Doej7+zZs2d0Oj0iIsJwpFarnTJlCoVCQZslJSULFy708fERiUR8Ph8A0NXVhfNCnjp1KoIgCILgPJI/fKLPYF9fn6FPcwyT1/f29m5razNTGQdnZ2e0NODZs2cAADKfftHR0UuWLDG6q7OzEwCg0WjQ5tatW+Pi4iCEBw4ckEqlOp1u/vz5Dx48MKX8/Plzd3d3i8yY8zmBY9gq+lbh+PHjLBYLQkhFT1gajUa42g0NDStWrDC6i81mMxiMrq4utOnv79/e3g4AaG1tDQ0NzcnJWblyJXoyGaW7u3vRokWEjREwbCMQBNm3b9+OHTsSExMTEhK0Wu2EU+h0ulqtBuTXtnt6eqhUqql3DBqNtnbt2vr6+nnz5gEAUlNTZTJZcnJyf3//yZMnGQxGbm4ujviTJ09iYmJIOrTIsI2oqqqqrKyUy+UAAG9v71u3bm3cuNHcyRKJBADQ1tZmo7O1u7uby+Xqr+7U1taiV/r4DA0NLVu2TK1W28jYZKLT6YaHhyGECILMnDkzNzd3wino2i7UX9u2EX5+fsePHz9z5gzWI5PJIiMj8WeNj49nZWUVFxc7OTnZ2KCt+PDhQ3x8/NjYGACASqW6u7sDAGpqahAEWb9+vfk6Nq8QACA0NDQ2Nvbjx49oc8qUKW5ubvhT3r17d/DgQT8/P9u7sxUtLS15eXl1dXVYT1tb2+nTp5ubm2fNmmWBkK3f5RygWLryO3nvcv9ZtFrtz58/0e2hoaHMzMxLly5NmzYNAGDRQsnf8Wv/X8fr16+TkpIEAsGrV69oNNqCBQukUqmPjw8AQKPRJCUlRUVFmSnlqJBNCAwMpFAoOp3u4sWLGo3G19f38OHDxKQc73I2YXx8XCaThYaGMplMX19fMlKOCtkEuVzOZDKt8r3YUSGb0NDQEB4eji0Zk8FRIZvQ0tIiEAisIuW4UrAJRUVF1pJynEP2jqNC9o6jQvaOo0L2jqNC9o6jQvaOo0L2jqNC9o6jQvbO31chW8Tn7DaSB6xeoW/fvqWnp0dFRQmFwsWLF1++fJmAiFqtNpWDrK2tbWpqEolEe/bsGR0dxR9sJoaaxNySd2Ic696nsHLlSh8fH/TX+OLiYgBAeXn5hLPMT+IZxufIR+YszRCacmvd8B52n4I1K6RWq11cXM6ePYs20Zt7hEIh/iycJJ5RjGbnSDqHuBlCfUy5tXp473eF0H9iaG1ttYpud3c39jiHh4cBAOHh4TjjJ0zi6YOTnSPDhBlCc9xaPbx34sQJJpMJIaSi0RH0FmHy+Pn5YT9bvXjxAgAQFBSEM762tnbFihXoHTAodDp9165dRgcfPHjQ1dU1MDAwOzt79uzZy5cv9/DwMDUYo6CgoLW1FWeAoayXl5elbnFsE0OtVnt4eAAA6NatEAaE8NSpU2w2Oz093eiA6urqmpoasVg8ffr0qKiowsJC9D6/pUuXmtKk0WjoO2dCQoL54SyZTIY/2BzZCd3i2CaGWq1GS0NlMBgUCkWlUln3ABkZGSMjI8+fP/f09DTca1ESD8NG2bkJZYm5Je/q1zlEo9E8PDwUCoUV1TMzM9++fSuVSo0GxyxN4mGYn52DlqTm8GUJuyWJQqFAT1M6ACAsLKyjo8Na0hkZGQqFoqyszFS00dIkHob52TloSWoOX5awW5J0dHSgCRY6ACAqKqqiosIqulevXn316lVFRQV2vaBQKNzc3NA7/1E6OzvRW8jq6+tXrVqFIEhpaal+OMIUDQ0NwcHBrq6uE46kUqnnzp1Dt1NSUuLj43EiXfiyhN2SQaVS9fT0oC8IKgBAIBA8evRoZGSEpO7Q0FBaWhqfz6+srBSLxWKx+Pbt20KhkEr9n5ULS5N4GDbKzuHLEnZLhoqKioCAgF+XlOjVd3R0dGFhIclL+AsXLhgezDAxOjY2FhcXl5SUFBIScvTo0fPnz5vzVbG7u9vb27u6utpSV/jJ0wllibklyerVq69evYpu/6qQQqHgcrk/f/609bExzEzi2QmT6ba9vT0yMhJr/v4HwNLSUpx/Y7E6586dGxkZmbTDkWTS3I6Ojq5Zs0Z/9ej3J8SGDRsEAgG6TDcJmJPEsx8mzW1xcfGVK1dmz56N9VCg459o7Zu/7xe8/xqOCtk7/wJSgFN7i+a4kwAAAABJRU5ErkJggg==\"></div>"
      ],
      "text/plain": [
       "FormBox[TagBox[RowBox[{\"(\", \"⁠\", \n",
       "      TagBox[GridBox[{{RowBox[{RowBox[{\"-\", \n",
       "\n",
       " \n",
       ">                 RowBox[{RowBox[{OverscriptBox[\"r\", \"^\"]}], \" \", \n",
       "\n",
       " \n",
       ">                   SuperscriptBox[RowBox[{\"(\", SuperscriptBox[\"ϕ\", \"′\"], \")\"}], \n",
       "\n",
       " \n",
       ">                    \"2\"]}]}], \"+\", SuperscriptBox[OverscriptBox[\"r\", \"^\"], \"′′\"], \n",
       "\n",
       " \n",
       ">               \"+\", FractionBox[\"1\", SuperscriptBox[OverscriptBox[\"r\", \"^\"],\\\n",
       " \n",
       ">    \"2\"]]}]}\\\n",
       ", {RowBox[{RowBox[{OverscriptBox[\"r\", \"^\"], \" \", SuperscriptBox[\"ϕ\",\\\n",
       " \n",
       ">    \"′′\"]}], \"+\", \n",
       "            RowBox[{\"2\", \" \", SuperscriptBox[OverscriptBox[\"r\",\\\n",
       " \n",
       ">    \"^\"], \"′\"], \" \", \n",
       "              SuperscriptBox[\"ϕ\", \"′\"]}]}]}}, Rule[RowSpacings,\\\n",
       " \n",
       ">    1], \n",
       "        Rule[ColumnAlignments, Center], Rule[ColumnAlignments, Left]],\\\n",
       " \n",
       ">    Column], \"⁠\", \n",
       "      \")\"}], Function[BoxForm`e$, MatrixForm[BoxForm`e$]]],\\\n",
       " \n",
       ">    TraditionalForm]\n"
      ]
     },
     "execution_count": 50,
     "metadata": {
      "text/html": [],
      "text/plain": []
     },
     "output_type": "execute_result"
    }
   ],
   "source": [
    "RotatedLHSMotion = Simplify[RotationMatrix[-\\[Phi][OverHat[t]]] . LHSMotion, Trig -> True] // MatrixForm // TraditionalForm"
   ]
  },
  {
   "cell_type": "markdown",
   "metadata": {},
   "source": [
    "Так как $\\hat{\\omega} \\equiv \\phi^{(1)}$, то"
   ]
  },
  {
   "cell_type": "code",
   "execution_count": 52,
   "metadata": {
    "vscode": {
     "languageId": "wolfram"
    }
   },
   "outputs": [
    {
     "data": {
      "text/html": [
       "<div><img alt=\"Output\" src=\"data:image/png;base64,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\"></div>"
      ],
      "text/plain": [
       "FormBox[TagBox[RowBox[{\"(\", \"⁠\", \n",
       "\n",
       " \n",
       ">         TagBox[GridBox[{{RowBox[{RowBox[{RowBox[{\"-\", OverscriptBox[\"r\", \"^\"]}], \n",
       "\n",
       " \n",
       ">                 \" \", SuperscriptBox[OverscriptBox[\"ω\", \"^\"], \"2\"]}], \"+\", \n",
       "\n",
       " \n",
       ">               SuperscriptBox[OverscriptBox[\"r\", \"^\"], \"′′\"], \"+\", \n",
       "\n",
       " \n",
       ">               FractionBox[\"1\", SuperscriptBox[OverscriptBox[\"r\", \"^\"], \"2\"]]}]}, \n",
       "\n",
       " \n",
       ">            {RowBox[{RowBox[{\"2\", \" \", OverscriptBox[\"ω\", \"^\"], \" \", \n",
       "\n",
       " \n",
       ">                 SuperscriptBox[OverscriptBox[\"r\", \"^\"], \"′\"]}], \"+\", \n",
       "\n",
       " \n",
       ">               RowBox[{OverscriptBox[\"r\", \"^\"], \" \", \n",
       "\n",
       " \n",
       ">                 SuperscriptBox[OverscriptBox[\"ω\", \"^\"], \"′\"]}]}]}}, \n",
       "\n",
       " \n",
       ">           Rule[RowSpacings, 1], Rule[ColumnAlignments, Center], \n",
       "\n",
       " \n",
       ">           Rule[ColumnAlignments, Left]], Column], \"⁠\", \")\"}], \n",
       "\n",
       " \n",
       ">       Function[BoxForm`e$, MatrixForm[BoxForm`e$]]], TraditionalForm]\n"
      ]
     },
     "execution_count": 52,
     "metadata": {
      "text/html": [],
      "text/plain": []
     },
     "output_type": "execute_result"
    }
   ],
   "source": [
    "OmegaReplace = Derivative[n_][\\[Phi]][OverHat[t]] :> Derivative[n-1][OverHat[\\[Omega]]][OverHat[t]];\n",
    "\n",
    "OmegaLHSMotion = RotatedLHSMotion /. OmegaReplace // TraditionalForm"
   ]
  },
  {
   "cell_type": "markdown",
   "metadata": {},
   "source": [
    "### RHS системы после поворота"
   ]
  },
  {
   "cell_type": "code",
   "execution_count": 53,
   "metadata": {
    "vscode": {
     "languageId": "wolfram"
    }
   },
   "outputs": [
    {
     "data": {
      "text/html": [
       "<div><img alt=\"Output\" src=\"data:image/png;base64,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\"></div>"
      ],
      "text/plain": [
       "FormBox[TagBox[RowBox[{\"(\", \"⁠\", \n",
       "\n",
       " \n",
       ">         TagBox[GridBox[{{RowBox[{OverscriptBox[\"r\", \"^\"], \" \", \n",
       "\n",
       " \n",
       ">               RowBox[{\"(\", RowBox[{\"-\", SubscriptBox[\"ϵ\", \"G\"]}], \")\"}], \" \", \n",
       "\n",
       " \n",
       ">               RowBox[{\"(\", RowBox[{RowBox[{RowBox[{\"sin\", \"(\", \n",
       "\n",
       " \n",
       ">                       RowBox[{\"2\", \" \", \"ϕ\"}], \")\"}], \" \", \n",
       "\n",
       " \n",
       ">                     TemplateBox[List[SubscriptBox[OverscriptBox[\"f\", \"^\"], \n",
       "\n",
       " \n",
       ">                        RowBox[List[\"x\", \",\", \"y\"]]], \"\\\"(5)\\\"\"], \"Superscript\", \n",
       "\n",
       " \n",
       ">                      Rule[SyntaxForm, SuperscriptBox]]}], \"+\", \n",
       "\n",
       " \n",
       ">                   RowBox[{RowBox[{SuperscriptBox[\"cos\", \"2\"], \"(\", \"ϕ\", \")\"}], \n",
       "\n",
       " \n",
       ">                     \" \", TemplateBox[List[SubscriptBox[OverscriptBox[\"f\", \"^\"], \n",
       "\n",
       " \n",
       ">                        RowBox[List[\"x\", \",\", \"x\"]]], \"\\\"(5)\\\"\"], \"Superscript\", \n",
       "\n",
       " \n",
       ">                      Rule[SyntaxForm, SuperscriptBox]]}], \"+\", \n",
       "\n",
       " \n",
       ">                   RowBox[{RowBox[{SuperscriptBox[\"sin\", \"2\"], \"(\", \"ϕ\", \")\"}], \n",
       "\n",
       " \n",
       ">                     \" \", TemplateBox[List[SubscriptBox[OverscriptBox[\"f\", \"^\"], \n",
       "\n",
       " \n",
       ">                        RowBox[List[\"y\", \",\", \"y\"]]], \"\\\"(5)\\\"\"], \"Superscript\", \n",
       "\n",
       " \n",
       ">                      Rule[SyntaxForm, SuperscriptBox]]}]}], \")\"}]}]}, \n",
       "\n",
       " \n",
       ">            {RowBox[{RowBox[{\"-\", FractionBox[\"1\", \"2\"]}], \" \", \n",
       "\n",
       " \n",
       ">               OverscriptBox[\"r\", \"^\"], \" \", SubscriptBox[\"ϵ\", \"G\"], \" \", \n",
       "\n",
       " \n",
       ">               RowBox[{\"(\", RowBox[{RowBox[{RowBox[{\"sin\", \"(\", \n",
       "\n",
       " \n",
       ">                       RowBox[{\"2\", \" \", \"ϕ\"}], \")\"}], \" \", \n",
       "\n",
       " \n",
       ">                     RowBox[{\"(\", RowBox[{TemplateBox[List[SubscriptBox[\n",
       "\n",
       " \n",
       ">                            OverscriptBox[\"f\", \"^\"], \n",
       "\n",
       " \n",
       ">                            RowBox[List[\"y\", \",\", \"y\"]]], \"\\\"(5)\\\"\"], \n",
       "\n",
       " \n",
       ">                          \"Superscript\", Rule[SyntaxForm, SuperscriptBox]], \"-\", \n",
       "\n",
       " \n",
       ">                         TemplateBox[List[SubscriptBox[OverscriptBox[\"f\", \"^\"], \n",
       "\n",
       " \n",
       ">                            RowBox[List[\"x\", \",\", \"x\"]]], \"\\\"(5)\\\"\"], \n",
       "\n",
       " \n",
       ">                          \"Superscript\", Rule[SyntaxForm, SuperscriptBox]]}], \")\"}]}\\\n",
       "\n",
       " \n",
       ">   ], \"+\", RowBox[{\"2\", \" \", RowBox[{\"cos\", \"(\", RowBox[{\"2\", \" \", \"ϕ\"}], \")\"}], \n",
       "\n",
       " \n",
       ">                     \" \", TemplateBox[List[SubscriptBox[OverscriptBox[\"f\", \"^\"], \n",
       "\n",
       " \n",
       ">                        RowBox[List[\"x\", \",\", \"y\"]]], \"\\\"(5)\\\"\"], \"Superscript\", \n",
       "\n",
       " \n",
       ">                      Rule[SyntaxForm, SuperscriptBox]]}]}], \")\"}]}]}}, \n",
       "\n",
       " \n",
       ">           Rule[RowSpacings, 1], Rule[ColumnAlignments, Center], \n",
       "\n",
       " \n",
       ">           Rule[ColumnAlignments, Left]], Column], \"⁠\", \")\"}], \n",
       "\n",
       " \n",
       ">       Function[BoxForm`e$, MatrixForm[BoxForm`e$]]], TraditionalForm]\n"
      ]
     },
     "execution_count": 54,
     "metadata": {
      "text/html": [],
      "text/plain": []
     },
     "output_type": "execute_result"
    }
   ],
   "source": [
    "RHSMotion = -Subscript[\\[Epsilon], G] FullSimplify[RotationMatrix[-\\[Phi][OverHat[t]]] . fh5rh, Trig -> True];\n",
    "RHSMotion // MatrixForm // TraditionalForm"
   ]
  },
  {
   "cell_type": "markdown",
   "metadata": {},
   "source": [
    "<span style=\"color:brown\">**NB:**</span> Полученные выражения <span style=\"color:green\">**совпадают**</span> с уравнениями (10) и (9) из файла Binary.pdf"
   ]
  },
  {
   "cell_type": "markdown",
   "metadata": {
    "vscode": {
     "languageId": "wolfram"
    }
   },
   "source": [
    "## Получим теперь **энергетическую** систему уравнений\n",
    "\n",
    "В задаче двух тел без учёта гравитационного излучения в системе центра масс в полярных координатах радиус-вектор $\\hat{r}_k$ задаётся как:\n",
    "$$\n",
    "\\hat{r}_k = \\hat{r} e_{1k} \\quad,\n",
    "$$\n",
    "где:\n",
    "- $\\hat{r}$ — расстояние между телами,\n",
    "- $e_{1k}$ — единичный вектор в направлении $\\hat{r}_k$.\n",
    "\n",
    "Скорость в полярных координатах выражается как:\n",
    "$$\n",
    "\\hat{r}_k^{(1)} = \\hat{r}^{(1)} e_{1k} + \\hat{r} \\phi^{(1)} e_{2k} \\quad,\n",
    "$$\n",
    "где:\n",
    "- $\\hat{r}^{(1)}$ — радиальная скорость\n",
    "- $\\hat{\\omega} \\equiv \\phi^{(1)}$ — угловая скорость\n",
    "- $e_{2k}$ — единичный вектор, перпендикулярный $e_{1k}$.\n",
    "\n",
    "### **Кинетическая энергия**\n",
    "Кинетическая энергия $T$ в полярных координатах выражается через радиальную и тангенциальную составляющие скорости:\n",
    "$$\n",
    "T = \\mu\\frac{b^2}{2 t_0^2} (\\hat{r}_k^{(1)})^2 = \\mu\\frac{b^2}{2 t_0^2} \\left( (\\hat{r}^{(1)})^2 + \\hat{r}^2 \\hat{\\omega}^2 \\right) = \\frac{G \\mu M}{b} \\frac{1}{2}\\left( (\\hat{r}^{(1)})^2 + \\hat{r}^2 \\hat{\\omega}^2 \\right)\n",
    "$$\n",
    "\n",
    "### **Потенциальная энергия**\n",
    "Потенциальная энергия $U$ зависит только от расстояния $\\hat{r}$:\n",
    "- Для гравитационного взаимодействия:\n",
    "  $$\n",
    "  U = -\\frac{G m_A m_B}{b \\hat{r}} = -\\frac{G \\mu M}{b \\hat{r}}.\n",
    "  $$\n",
    "\n",
    "### **Полная энергия**\n",
    "Полная энергия $E$ в полярных координатах:\n",
    "$$\n",
    "E = T + U = \\frac{G \\mu M}{b}\\left(\\frac{(\\hat{r}^{(1)})^2}{2} + \\frac{\\hat{r}^2 \\hat{\\omega}^2}{2} - \\frac{1}{\\hat{r}}\\right) = \\frac{G \\mu M}{b} \\hat{E}\n",
    "$$\n",
    "\n",
    "Здесь $\\hat{E}$ - безразмерная энергия:"
   ]
  },
  {
   "cell_type": "code",
   "execution_count": 56,
   "metadata": {
    "vscode": {
     "languageId": "wolfram"
    }
   },
   "outputs": [
    {
     "data": {
      "text/html": [
       "<div><img alt=\"Output\" src=\"data:image/png;base64,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\"></div>"
      ],
      "text/plain": [
       "FormBox[RowBox[{RowBox[{FractionBox[\"1\", \"2\"], \" \", \n",
       "\n",
       " \n",
       ">          SuperscriptBox[OverscriptBox[\"r\", \"^\"], \"2\"], \" \", \n",
       "\n",
       " \n",
       ">          SuperscriptBox[OverscriptBox[\"ω\", \"^\"], \"2\"]}], \"+\", \n",
       "\n",
       " \n",
       ">        RowBox[{FractionBox[\"1\", \"2\"], \" \", \n",
       "\n",
       " \n",
       ">          SuperscriptBox[RowBox[{\"(\", SuperscriptBox[OverscriptBox[\"r\", \"^\"], \"′\"], \n",
       "\n",
       " \n",
       ">             \")\"}], \"2\"]}], \"-\", FractionBox[\"1\", OverscriptBox[\"r\", \"^\"]]}], \n",
       "\n",
       " \n",
       ">      TraditionalForm]\n"
      ]
     },
     "execution_count": 56,
     "metadata": {
      "text/html": [],
      "text/plain": []
     },
     "output_type": "execute_result"
    }
   ],
   "source": [
    "Energy = (D[OverHat[r][OverHat[t]], OverHat[t]])^2/2 + (OverHat[r][OverHat[t]] OverHat[\\[Omega]][OverHat[t]])^2/2 - 1/OverHat[r][OverHat[t]];\n",
    "Energy // TraditionalForm"
   ]
  },
  {
   "cell_type": "markdown",
   "metadata": {},
   "source": [
    "### **Момента импульса**\n",
    "Момент импульса $J$ в системе центра масс:\n",
    "$$\n",
    "J = \\mu\\frac{b^2}{t_0} \\hat{r}^2 \\hat{\\omega} = \\mu(G M b)^{1/2} \\hat{r}^2 \\hat{\\omega} = \\mu(G M b)^{1/2} \\hat{J}\n",
    "$$\n",
    "\n",
    "Здесь $\\hat{J}$ - безразмерный момент импульса:"
   ]
  },
  {
   "cell_type": "code",
   "execution_count": 58,
   "metadata": {
    "vscode": {
     "languageId": "wolfram"
    }
   },
   "outputs": [
    {
     "data": {
      "text/html": [
       "<div><img alt=\"Output\" src=\"data:image/png;base64,iVBORw0KGgoAAAANSUhEUgAAAB4AAAAVCAIAAADelck2AAAAz3pUWHRSYXcgcHJvZmlsZSB0eXBlIGV4aWYAAHjabU/rjYMhDPvPFDdCHuDAOHwtlbpBxz9T0J2oGonYceIAabyej/Qzw1RSLlHRAGHklpt1kiorFqq0d17F2D099aRl651S+W9gG/Q69cBCqx+LxBbxeQO5523Yi9yWrn3V1563Xuu5yOUIyN/Tv9bZw1CgkZmzSQQaeU2kBBSTEnjgBnBQcTfJN+JABG2IOeF9GmfYiHN6JDiF+/yCz1O8E51ZvdKqDvJMrVNVu3b3/ZH0C1CfWrDzvCdBAAAACXBIWXMAAA7EAAAOxAGVKw4bAAAAPHRFWHRTb2Z0d2FyZQBDcmVhdGVkIHdpdGggdGhlIFdvbGZyYW0gTGFuZ3VhZ2UgOiB3d3cud29sZnJhbS5jb21coqaFAAAAIXRFWHRDcmVhdGlvbiBUaW1lADIwMjU6MDM6MTggMTY6NDA6MzF2BfRYAAACFklEQVQ4je2UP+zpUBTH7++lJo0gCF2thkoYTEQTErqI2Kxmg0GsBjFLTAaJpQSjxSBtInSryZ+EpBYSKQM6CO39DW28H0+lkve2951Ozz35nG/uPT1fEELwSrIsFwqF0+l0uVxkWa7VagiCvKzUFNRQv9/HcVyJXS5Xs9nUqtTSL62WBEHQNK30lmVZEITPLP90XSqVTCYTx3FPzQeDgd1u32w2n7pW0QzDJBKJ4XAYDoePx+P9eDqdRiKR9Xr9nvLSloput9uSJEEIt9stTdNKkuO4TCYjiuJ7rpath2eUJEmWZSUWBCEej99uN+Wz1+tpoV/a+o0uFosEQTgcDkEQ0um0zWbL5XIoijqdTqfTabFY8vn8e+9/6gtCCACQJCmZTJ7PZ7/fjyDIbDajKMpgMHw8FS8nxOv1er3exWKh31e1Wm21Wj8zlUplNBo9XIgoigiCpFIp/dx2u02S5FOSZdloNPqAZhgGANDtdnVy9/u91Wq9G/R4PNfrFUI4HA5RFFWS6t84Ho8RBIlEIjqvsdFoGI3GQCAAAOB5HsdxZcPM5/P7qlHRLMv6fD4URXWiJ5OJ2+2+2yIIQonr9Xo8Hn9Gh0IhnVwAAIZhh8MBAHC9XjudjtlsBgBQFLVarcrlsloEIeR5HsOwwWCg/w13u10wGIzFYtlsdj6fx2KxRCJBkuRyubzXqHP9L6S5VP+j/7q+ART9Xwk9qtyeAAAAAElFTkSuQmCC\"></div>"
      ],
      "text/plain": [
       "FormBox[RowBox[{SuperscriptBox[OverscriptBox[\"r\", \"^\"], \"2\"], \" \", \n",
       "\n",
       " \n",
       ">        OverscriptBox[\"ω\", \"^\"]}], TraditionalForm]\n"
      ]
     },
     "execution_count": 58,
     "metadata": {
      "text/html": [],
      "text/plain": []
     },
     "output_type": "execute_result"
    }
   ],
   "source": [
    "AngularMomentum = (OverHat[r][OverHat[t]])^2 OverHat[\\[Omega]][OverHat[t]];\n",
    "AngularMomentum // TraditionalForm"
   ]
  },
  {
   "cell_type": "markdown",
   "metadata": {},
   "source": [
    "Отсюда $\\frac{1}{\\hat{r}^{(1)}}\\left(\\frac{d\\hat{E}}{d\\hat{t}} - \\hat{\\omega} \\frac{d\\hat{J}}{d\\hat{t}}\\right)$"
   ]
  },
  {
   "cell_type": "code",
   "execution_count": 59,
   "metadata": {
    "vscode": {
     "languageId": "wolfram"
    }
   },
   "outputs": [
    {
     "data": {
      "text/html": [
       "<div><img alt=\"Output\" src=\"data:image/png;base64,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\"></div>"
      ],
      "text/plain": [
       "FormBox[RowBox[{RowBox[{\"-\", RowBox[{RowBox[{OverscriptBox[\"r\", \"^\"]}], \" \", \n",
       "\n",
       " \n",
       ">            SuperscriptBox[OverscriptBox[\"ω\", \"^\"], \"2\"]}]}], \"+\", \n",
       "\n",
       " \n",
       ">        SuperscriptBox[OverscriptBox[\"r\", \"^\"], \"′′\"], \"+\", \n",
       "\n",
       " \n",
       ">        FractionBox[\"1\", SuperscriptBox[OverscriptBox[\"r\", \"^\"], \"2\"]]}],\\\n",
       " \n",
       ">    TraditionalForm]\n"
      ]
     },
     "execution_count": 59,
     "metadata": {
      "text/html": [],
      "text/plain": []
     },
     "output_type": "execute_result"
    }
   ],
   "source": [
    "Simplify[(D[Energy, OverHat[t]] - (AngularMomentum/OverHat[r][OverHat[t]]^2)(D[AngularMomentum, OverHat[t]]))/(D[OverHat[r][OverHat[t]], OverHat[t]])] // TraditionalForm"
   ]
  },
  {
   "cell_type": "markdown",
   "metadata": {},
   "source": [
    "Что совпадает с **первой** строкой повернутой LHS системы движения"
   ]
  },
  {
   "cell_type": "markdown",
   "metadata": {},
   "source": [
    "Отсюда $\\frac{1}{\\hat{r}}\\frac{d\\hat{J}}{d\\hat{t}}$"
   ]
  },
  {
   "cell_type": "code",
   "execution_count": 60,
   "metadata": {
    "vscode": {
     "languageId": "wolfram"
    }
   },
   "outputs": [
    {
     "data": {
      "text/html": [
       "<div><img alt=\"Output\" src=\"data:image/png;base64,iVBORw0KGgoAAAANSUhEUgAAAFMAAAAVCAIAAAC10UUmAAAA0XpUWHRSYXcgcHJvZmlsZSB0eXBlIGV4aWYAAHjabU/bjQMhEPuniiuBeeCBctiESNfBlX9mIYk2iiXGHs8DSOPv95F+JlRy8hIVDciEN2/aKWpeWCy5nfFEsV2Tq5+kbL/TKu8CxvaPqx9YrPVjUdYlbN5Abb4H9iLT5Utf+bH7tdd6XfR86gby6+lfc7dQFEg4o2uOQKOuiZKEorkEHrgBbBTcNfuNPBDBMcTssD4HJ3TEtXskGI37/ILNU6yTjVGsclQM1E6v0xU9dvX8SPoHDOVagqLFlBUAAAAJcEhZcwAADsQAAA7EAZUrDhsAAAA8dEVYdFNvZnR3YXJlAENyZWF0ZWQgd2l0aCB0aGUgV29sZnJhbSBMYW5ndWFnZSA6IHd3dy53b2xmcmFtLmNvbVyipoUAAAAhdEVYdENyZWF0aW9uIFRpbWUAMjAyNTowMzoxOCAxNjo0MDozMXYF9FgAAANNSURBVFiF7ZdNSCpRGIY/h9MiDG0RERJtahfBCApFi36mX3MjEQjN3jYhRARRqxb9QFAEbtxEbiSUgmjRtNCkP4lAaVEGRUNSQplUJAbNeO5iLl5zbJypLi3sXZ1z+OY9z3vm8I2qMMZQlCJ+GuDH9Jv8P2hmZkar1YbD4cxKKpWKx+Pfbitf7wAwxk9PT6Ojo729vYODgwaDwel0YklNT09rNJpQKCRREwgELBbL3t5ee3v78/OzsDgyMjI8PCxtLq28tvIhswEAY9zW1lZdXZ1MJjHGLpcLANbX17+4t8fj4XkeYxyLxXZ2djDGPM/X1dVdXV3JzynHVj5kDgCkUim1Wr2wsCDMr6+vAYCm6S/uLeyUTqczU7/fPz8/LzOhfFv5kDkAgDFmWTbj9fj4CACdnZ1fgZuamqIoqrKyMh6P0zRdUVFxc3Ozu7vLcdy328p/PAdAhd9/z30+H0VRY2Njc3Nzn25CPM/39/e/vLwYjUaE0NnZmdvtLikpkX7K6XQ2NzfX19d/r+2Hyj6VdDrd0dFRU1Nzf38vPjOHw7G6upq9srS0dHBwkPeA9Xq9Xq8/Pz+X/05sNpvf75euKWgrH/Jd8vHxcaPRGIvFxHUej8dsNucsBoPB7u5ucXEymUQIDQwMSGQQq2DygraKIFHm5U9OTp6engYCgdLS0px7kUgkbDbb5uamMG1oaAiFQgghjuP29/fF9+j4+JjjOKvVKufGMQwjjKPR6NHR0evrKwBUVVWRJKnIVink3+QTExPRaNTr9SKExEUul0utVjc1NQEAy7IkSQplkUgkb/3h4SFCqKurS07yra2t7OS3t7cAQJKkOLm0rVJIBAArKysnJycbGxsqlSoDodFotFqtMA2Hw7W1tZntKYoSxsvLy319fWLTYDBoMBjKysoKJicIYnFxURgPDQ1ZrdbW1taPiqVtlUISDw8Pdru9p6dne3ubYRiGYdbW1miaJoh/P2x1Ol0ikQCAt7c3r9dbXl4OAG63+/LycnZ2Ni+iRIBPS9pWKSQ4HA7xYmNjY3YzuLu7a2lpMZlMdrs9EomYTCaLxWI2my8uLsSdg2VZnU7n8/kkelVeSXe4graKILH4e148+v2XWnz6TV58+gNnveAGRpU99wAAAABJRU5ErkJggg==\"></div>"
      ],
      "text/plain": [
       "FormBox[RowBox[{RowBox[{\"2\", \" \", OverscriptBox[\"ω\", \"^\"], \" \", \n",
       "\n",
       " \n",
       ">          SuperscriptBox[OverscriptBox[\"r\", \"^\"], \"′\"]}], \"+\", \n",
       "\n",
       " \n",
       ">        RowBox[{OverscriptBox[\"r\", \"^\"], \" \", \n",
       "\n",
       " \n",
       ">          SuperscriptBox[OverscriptBox[\"ω\", \"^\"], \"′\"]}]}], TraditionalForm]\n"
      ]
     },
     "execution_count": 60,
     "metadata": {
      "text/html": [],
      "text/plain": []
     },
     "output_type": "execute_result"
    }
   ],
   "source": [
    "Simplify[D[AngularMomentum, OverHat[t]]/OverHat[r][OverHat[t]]] // TraditionalForm"
   ]
  },
  {
   "cell_type": "markdown",
   "metadata": {},
   "source": [
    "Что совпадает со **второй** строкой повернутой LHS системы движения"
   ]
  },
  {
   "cell_type": "markdown",
   "metadata": {},
   "source": [
    "Таким образом, мы можем выписать новую **энергетическую** систему уравнений\n",
    "\n",
    "$$\n",
    "\\begin{align}\n",
    "\\frac{d\\hat{E}}{d\\hat{t}} &= - \\epsilon_G \\left(\\hat{r}^{(1)} R_{xi}(-\\phi) \\hat{f}_{ij}^{(5)}\\hat{r}_j + \\hat{r}\\hat\\omega R_{yi}(-\\phi) \\hat{f}_{ij}^{(5)}\\hat{r}_j \\right)\n",
    "\\\\\n",
    "\\frac{d\\hat{J}}{d\\hat{t}} &= - \\epsilon_G \\hat{r} R_{yi}(-\\phi) \\hat{f}_{ij}^{(5)}\\hat{r}_j\n",
    "\\end{align}\n",
    "$$"
   ]
  },
  {
   "cell_type": "markdown",
   "metadata": {},
   "source": [
    "Или\n",
    "\n",
    "$$\n",
    "\\left(\\frac{d\\hat{E}}{d\\hat{t}}, \\frac{d\\hat{J}}{d\\hat{t}}\\right) = - \\epsilon_G T_{nk} R_{ki}(-\\phi) \\hat{f}_{ij}^{(5)}\\hat{r}_j\\quad,\n",
    "$$"
   ]
  },
  {
   "cell_type": "markdown",
   "metadata": {},
   "source": [
    "Здесь\n",
    "$$\n",
    "T = \n",
    "\\begin{bmatrix}\n",
    "\\hat{r}^{(1)} & \\hat{r}\\hat{\\omega} \\\\\n",
    "0 & \\hat{r}\n",
    "\\end{bmatrix}\n",
    "$$\n",
    "матрица трансформации:"
   ]
  },
  {
   "cell_type": "code",
   "execution_count": 62,
   "metadata": {
    "vscode": {
     "languageId": "wolfram"
    }
   },
   "outputs": [
    {
     "data": {
      "text/html": [
       "<div><img alt=\"Output\" src=\"data:image/png;base64,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\"></div>"
      ],
      "text/plain": [
       "FormBox[TagBox[RowBox[{\"(\", \"⁠\", \n",
       "\n",
       " \n",
       ">         GridBox[{{SuperscriptBox[OverscriptBox[\"r\", \"^\"], \"′\"], \n",
       "\n",
       " \n",
       ">            RowBox[{OverscriptBox[\"r\", \"^\"], \" \", OverscriptBox[\"ω\", \"^\"]}]}, \n",
       "\n",
       " \n",
       ">           {\"0\", OverscriptBox[\"r\", \"^\"]}}, Rule[RowSpacings, 1], \n",
       "\n",
       " \n",
       ">          Rule[ColumnSpacings, 1], Rule[RowAlignments, Baseline], \n",
       "\n",
       " \n",
       ">          Rule[ColumnAlignments, Center]], \"⁠\", \")\"}], \n",
       "\n",
       " \n",
       ">       Function[BoxForm`e$, MatrixForm[BoxForm`e$]]], TraditionalForm]\n"
      ]
     },
     "execution_count": 62,
     "metadata": {
      "text/html": [],
      "text/plain": []
     },
     "output_type": "execute_result"
    }
   ],
   "source": [
    "Transform = {{D[OverHat[r][OverHat[t]], OverHat[t]], OverHat[r][OverHat[t]] OverHat[\\[Omega]][OverHat[t]]}, {0, OverHat[r][OverHat[t]]}};\n",
    "Transform // MatrixForm // TraditionalForm"
   ]
  },
  {
   "cell_type": "markdown",
   "metadata": {},
   "source": [
    "Итак правая часть энергетической системы запишется как"
   ]
  },
  {
   "cell_type": "code",
   "execution_count": 64,
   "metadata": {
    "vscode": {
     "languageId": "wolfram"
    }
   },
   "outputs": [
    {
     "data": {
      "text/html": [
       "<div><img alt=\"Output\" src=\"data:image/png;base64,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\"></div>"
      ],
      "text/plain": [
       "FormBox[TagBox[RowBox[{\"(\", \"⁠\", \n",
       "\n",
       " \n",
       ">         TagBox[GridBox[{{RowBox[{FractionBox[\"1\", \"2\"], \" \", \n",
       "\n",
       " \n",
       ">               OverscriptBox[\"r\", \"^\"], \" \", SubscriptBox[\"ϵ\", \"G\"], \" \", \n",
       "\n",
       " \n",
       ">               RowBox[{\"(\", RowBox[{RowBox[{OverscriptBox[\"r\", \"^\"], \" \", \n",
       "\n",
       " \n",
       ">                     OverscriptBox[\"ω\", \"^\"], \" \", \n",
       "\n",
       " \n",
       ">                     RowBox[{\"(\", RowBox[{RowBox[{RowBox[{\"sin\", \"(\", \n",
       "\n",
       " \n",
       ">                             RowBox[{\"2\", \" \", \"ϕ\"}], \")\"}], \" \", \n",
       "\n",
       " \n",
       ">                           RowBox[{\"(\", \n",
       "\n",
       " \n",
       ">                             RowBox[{TemplateBox[List[SubscriptBox[\n",
       "\n",
       " \n",
       ">                            OverscriptBox[\"f\", \"^\"], \n",
       "\n",
       " \n",
       ">                            RowBox[List[\"x\", \",\", \"x\"]]], \"\\\"(5)\\\"\"], \n",
       "\n",
       " \n",
       ">                             \"Superscript\", Rule[SyntaxForm, SuperscriptBox]], \n",
       "\n",
       " \n",
       ">                             \"-\", \n",
       "\n",
       " \n",
       ">                             TemplateBox[List[SubscriptBox[OverscriptB\\\n",
       "\n",
       " \n",
       ">   ox[\"f\", \"^\"], RowBox[List[\"y\", \",\", \"y\"]]], \"\\\"(5)\\\"\"], \"Superscript\", \n",
       "\n",
       " \n",
       ">                             Rule[SyntaxForm, SuperscriptBox]]}], \")\"}]}], \"-\", \n",
       "\n",
       " \n",
       ">                         RowBox[{\"2\", \" \", \n",
       "\n",
       " \n",
       ">                           RowBox[{\"cos\", \"(\", RowBox[{\"2\", \" \", \"ϕ\"}], \")\"}], \n",
       "\n",
       " \n",
       ">                           \" \", TemplateBox[List[SubscriptBox[OverscriptB\\\n",
       "\n",
       " \n",
       ">   ox[\"f\", \"^\"], RowBox[List[\"x\", \",\", \"y\"]]], \"\\\"(5)\\\"\"], \"Superscript\", \n",
       "\n",
       " \n",
       ">                            Rule[SyntaxForm, SuperscriptBox]]}]}], \")\"}]}], \"-\", \n",
       "\n",
       " \n",
       ">                   RowBox[{\"2\", \" \", SuperscriptBox[OverscriptBox[\"r\", \"^\"], \"′\"], \n",
       "\n",
       " \n",
       ">                     \" \", RowBox[{\"(\", \n",
       "\n",
       " \n",
       ">                       RowBox[{RowBox[{RowBox[{\"sin\", \"(\", \n",
       "\n",
       " \n",
       ">                             RowBox[{\"2\", \" \", \"ϕ\"}], \")\"}], \" \", \n",
       "\n",
       " \n",
       ">                           TemplateBox[List[SubscriptBox[OverscriptBox[\"f\", \n",
       "\n",
       " \n",
       ">                             \"^\"], RowBox[List[\"x\", \",\", \"y\"]]], \"\\\"(5)\\\"\"], \n",
       "\n",
       " \n",
       ">                            \"Superscript\", Rule[SyntaxForm, SuperscriptBox]]}], \n",
       "\n",
       " \n",
       ">                         \"+\", RowBox[{RowBox[{SuperscriptBox[\"cos\", \"2\"], \"(\", \n",
       "\n",
       " \n",
       ">                             \"ϕ\", \")\"}], \" \", \n",
       "\n",
       " \n",
       ">                           TemplateBox[List[SubscriptBox[OverscriptBox[\"f\", \n",
       "\n",
       " \n",
       ">                             \"^\"], RowBox[List[\"x\", \",\", \"x\"]]], \"\\\"(5)\\\"\"], \n",
       "\n",
       " \n",
       ">                            \"Superscript\", Rule[SyntaxForm, SuperscriptBox]]}], \n",
       "\n",
       " \n",
       ">                         \"+\", RowBox[{RowBox[{SuperscriptBox[\"sin\", \"2\"], \"(\", \n",
       "\n",
       " \n",
       ">                             \"ϕ\", \")\"}], \" \", \n",
       "\n",
       " \n",
       ">                           TemplateBox[List[SubscriptBox[OverscriptBox[\"f\", \n",
       "\n",
       " \n",
       ">                             \"^\"], RowBox[List[\"y\", \",\", \"y\"]]], \"\\\"(5)\\\"\"], \n",
       "\n",
       " \n",
       ">                            \"Superscript\", Rule[SyntaxForm, SuperscriptBox]]}]}], \n",
       "\n",
       " \n",
       ">                       \")\"}]}]}], \")\"}]}]}, \n",
       "\n",
       " \n",
       ">            {RowBox[{RowBox[{\"-\", FractionBox[\"1\", \"2\"]}], \" \", \n",
       "\n",
       " \n",
       ">               SuperscriptBox[OverscriptBox[\"r\", \"^\"], \"2\"], \" \", \n",
       "\n",
       " \n",
       ">               SubscriptBox[\"ϵ\", \"G\"], \" \", \n",
       "\n",
       " \n",
       ">               RowBox[{\"(\", RowBox[{RowBox[{RowBox[{\"sin\", \"(\", \n",
       "\n",
       " \n",
       ">                       RowBox[{\"2\", \" \", \"ϕ\"}], \")\"}], \" \", \n",
       "\n",
       " \n",
       ">                     RowBox[{\"(\", RowBox[{TemplateBox[List[SubscriptBox[\n",
       "\n",
       " \n",
       ">                            OverscriptBox[\"f\", \"^\"], \n",
       "\n",
       " \n",
       ">                            RowBox[List[\"y\", \",\", \"y\"]]], \"\\\"(5)\\\"\"], \n",
       "\n",
       " \n",
       ">                          \"Superscript\", Rule[SyntaxForm, SuperscriptBox]], \"-\", \n",
       "\n",
       " \n",
       ">                         TemplateBox[List[SubscriptBox[OverscriptBox[\"f\", \"^\"], \n",
       "\n",
       " \n",
       ">                            RowBox[List[\"x\", \",\", \"x\"]]], \"\\\"(5)\\\"\"], \n",
       "\n",
       " \n",
       ">                          \"Superscript\", Rule[SyntaxForm, SuperscriptBox]]}], \")\"}]}\\\n",
       "\n",
       " \n",
       ">   ], \"+\", RowBox[{\"2\", \" \", RowBox[{\"cos\", \"(\", RowBox[{\"2\", \" \", \"ϕ\"}], \")\"}], \n",
       "\n",
       " \n",
       ">                     \" \", TemplateBox[List[SubscriptBox[OverscriptBox[\"f\", \"^\"], \n",
       "\n",
       " \n",
       ">                        RowBox[List[\"x\", \",\", \"y\"]]], \"\\\"(5)\\\"\"], \"Superscript\", \n",
       "\n",
       " \n",
       ">                      Rule[SyntaxForm, SuperscriptBox]]}]}], \")\"}]}]}}, \n",
       "\n",
       " \n",
       ">           Rule[RowSpacings, 1], Rule[ColumnAlignments, Center], \n",
       "\n",
       " \n",
       ">           Rule[ColumnAlignments, Left]], Column], \"⁠\", \")\"}], \n",
       "\n",
       " \n",
       ">       Function[BoxForm`e$, MatrixForm[BoxForm`e$]]], TraditionalForm]\n"
      ]
     },
     "execution_count": 64,
     "metadata": {
      "text/html": [],
      "text/plain": []
     },
     "output_type": "execute_result"
    }
   ],
   "source": [
    "RHSEnegry = FullSimplify[Transform . RHSMotion, Trig -> True];\n",
    "RHSEnegry // MatrixForm // TraditionalForm"
   ]
  },
  {
   "cell_type": "markdown",
   "metadata": {},
   "source": [
    "## **Другой Способ** получения уравнений движения и энергетических уравнений через лагранжев формализм в полярных координатах"
   ]
  },
  {
   "cell_type": "markdown",
   "metadata": {},
   "source": [
    "### **Лагранжиан системы**\n",
    "Лагранжиан $L$ в полярных координатах $(r, \\phi)$ выражается как:\n",
    "$$\n",
    "L = T - (U + \\mu\\Phi),\n",
    "$$\n",
    "где:\n",
    "- $T$ — кинетическая энергия,\n",
    "- $U$ — потенциальная энергия\n",
    "- $\\Phi = \\frac{1}{5}f_{ij}^{(5)}r_i r_j = \\frac{\\epsilon_G}{2}\\frac{b^2}{t_0^2}\\hat{f}_{ij}^{(5)}\\hat{r}_i \\hat{r}_j = \\frac{5}{2}\\epsilon_G\\frac{GM}{b}\\hat{\\Phi}$ - малый потенциал \"реакции излучения\""
   ]
  },
  {
   "cell_type": "markdown",
   "metadata": {},
   "source": [
    "Безразмерный малый потенциал \"реакции излучения\" $\\hat{\\Phi} = \\frac{1}{5}\\hat{f}_{ij}^{(5)}\\hat{r}_i\\hat{r}_j$\n",
    "\n",
    "В ближней зоне грав. источника будем иметь $\\mu \\Phi \\ll U$.\n",
    "Откуда получаем $\\frac{5}{2}\\epsilon_{G}\\hat{r}\\hat{\\Phi} \\ll 1$.\n",
    "\n",
    "<span style=\"color:brown\">**NB:**</span>\n",
    "Для достаточно больших $\\hat{r}$, но все еще в ближней зоне, может оказаться, что\n",
    "$\\hat{r}\\hat{\\Phi} \\ll 1$, так как $\\hat{f}_{ij}$ очень медленно меняется.\n",
    "Следовательно условие $\\epsilon_G \\ll 1$ необязательно."
   ]
  },
  {
   "cell_type": "code",
   "execution_count": 66,
   "metadata": {
    "vscode": {
     "languageId": "wolfram"
    }
   },
   "outputs": [
    {
     "data": {
      "text/html": [
       "<div><img alt=\"Output\" src=\"data:image/png;base64,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\"></div>"
      ],
      "text/plain": [
       "FormBox[RowBox[{FractionBox[\"1\", \"5\"], \" \", \n",
       "\n",
       " \n",
       ">        RowBox[{\"(\", RowBox[{RowBox[{OverscriptBox[\"r\", \"^\"], \" \", \n",
       "\n",
       " \n",
       ">              RowBox[{\"cos\", \"(\", \"ϕ\", \")\"}], \" \", \n",
       "\n",
       " \n",
       ">              RowBox[{\"(\", RowBox[{RowBox[{OverscriptBox[\"r\", \"^\"], \" \", \n",
       "\n",
       " \n",
       ">                    RowBox[{\"sin\", \"(\", \"ϕ\", \")\"}], \" \", \n",
       "\n",
       " \n",
       ">                    TemplateBox[List[SubscriptBox[OverscriptBox[\"f\", \"^\"], \n",
       "\n",
       " \n",
       ">                       RowBox[List[\"x\", \",\", \"y\"]]], \"\\\"(5)\\\"\"], \"Superscript\", \n",
       "\n",
       " \n",
       ">                     Rule[SyntaxForm, SuperscriptBox]]}], \"+\", \n",
       "\n",
       " \n",
       ">                  RowBox[{OverscriptBox[\"r\", \"^\"], \" \", \n",
       "\n",
       " \n",
       ">                    RowBox[{\"cos\", \"(\", \"ϕ\", \")\"}], \" \", \n",
       "\n",
       " \n",
       ">                    TemplateBox[List[SubscriptBox[OverscriptBox[\"f\", \"^\"], \n",
       "\n",
       " \n",
       ">                       RowBox[List[\"x\", \",\", \"x\"]]], \"\\\"(5)\\\"\"], \"Superscript\", \n",
       "\n",
       " \n",
       ">                     Rule[SyntaxForm, SuperscriptBox]]}]}], \")\"}]}], \"+\", \n",
       "\n",
       " \n",
       ">            RowBox[{OverscriptBox[\"r\", \"^\"], \" \", RowBox[{\"sin\", \"(\", \"ϕ\", \")\"}], \" \", \n",
       "\n",
       " \n",
       ">              RowBox[{\"(\", RowBox[{RowBox[{OverscriptBox[\"r\", \"^\"], \" \", \n",
       "\n",
       " \n",
       ">                    RowBox[{\"cos\", \"(\", \"ϕ\", \")\"}], \" \", \n",
       "\n",
       " \n",
       ">                    TemplateBox[List[SubscriptBox[OverscriptBox[\"f\", \"^\"], \n",
       "\n",
       " \n",
       ">                       RowBox[List[\"x\", \",\", \"y\"]]], \"\\\"(5)\\\"\"], \"Superscript\", \n",
       "\n",
       " \n",
       ">                     Rule[SyntaxForm, SuperscriptBox]]}], \"+\", \n",
       "\n",
       " \n",
       ">                  RowBox[{OverscriptBox[\"r\", \"^\"], \" \", RowBox[{\"sin\", \"(\", \"ϕ\", \")\"}],\\\n",
       " \n",
       ">    \n",
       "                 \" \", TemplateBox[List[SubscriptBox[OverscriptBox[\"f\", \"^\"], \n",
       "\n",
       " \n",
       ">                       RowBox[List[\"y\", \",\", \"y\"]]], \"\\\"(5)\\\"\"], \"Superscript\", \n",
       "\n",
       " \n",
       ">                     Rule[SyntaxForm, SuperscriptBox]]}]}], \")\"}]}]}], \")\"}]}], \n",
       "\n",
       " \n",
       ">      TraditionalForm]\n"
      ]
     },
     "execution_count": 66,
     "metadata": {
      "text/html": [],
      "text/plain": []
     },
     "output_type": "execute_result"
    }
   ],
   "source": [
    "fh5rhrh = 1/5 EinsteinSummation[{{i, j}, {i}, {j}}, {fh5, rh, rh}];\n",
    "fh5rhrh // TraditionalForm"
   ]
  },
  {
   "cell_type": "markdown",
   "metadata": {},
   "source": [
    "Безразмерный лагранжиан\n",
    "\n",
    "$$\n",
    "\\hat{L} = \\hat{T} - (\\hat{U} + \\frac{5}{2}\\epsilon_G\\hat{\\Phi}),\n",
    "$$\n",
    "или\n",
    "$$\n",
    "\\hat{L} = \\frac{1}{2} \\left((\\hat{r}^{(1)})^2 + \\hat{r}^2 \\hat{\\omega}^2 \\right) + \\frac{1}{\\hat{r}} - \\frac{\\epsilon_G}{2}\\hat{f}_{ij}^{(5)}\\hat{r}_i \\hat{r}_j.\n",
    "$$"
   ]
  },
  {
   "cell_type": "markdown",
   "metadata": {},
   "source": [
    "### **Уравнения Эйлера-Лагранжа**\n",
    "Уравнения Эйлера-Лагранжа имеют вид:\n",
    "$$\n",
    "\\frac{d}{dt} \\left( \\frac{\\partial \\hat{L}}{\\partial \\dot{q}_i} \\right) - \\frac{\\partial \\hat{L}}{\\partial q_i} = 0,\n",
    "$$\n",
    "где $q_i$ — обобщённые координаты ($\\hat{r}$ и $\\phi$)."
   ]
  },
  {
   "cell_type": "markdown",
   "metadata": {},
   "source": [
    "---\n",
    "\n",
    "#### Уравнение для координаты $\\hat{r}$:\n",
    "$$\n",
    "\\frac{d}{d\\hat{t}} \\left(\\frac{\\partial \\hat{L}}{\\partial \\hat{r}^{(1)}} \\right) - \\frac{\\partial \\hat{L}}{\\partial \\hat{r}} = 0.\n",
    "$$\n",
    "Вычислим производные:\n",
    "$$\n",
    "\\frac{\\partial \\hat{L}}{\\partial \\hat{r}^{(1)}} = \\hat{r}^{(1)}, \\quad \\frac{d}{d\\hat{t}} \\left( \\frac{\\partial \\hat{L}}{\\partial \\hat{r}^{(1)}} \\right) = \\hat{r}^{(2)},\n",
    "$$\n",
    "$$\n",
    "\\frac{\\partial \\hat{L}}{\\partial \\hat{r}} = \\hat{r} \\hat{\\omega}^2 - \\frac{1}{\\hat{r}^2} - \\frac{5}{2}\\epsilon_G\\frac{\\partial \\hat{\\Phi}}{\\partial \\hat{r}}.\n",
    "$$\n",
    "Подставляем в уравнение Эйлера-Лагранжа:\n",
    "$$\n",
    "\\hat{r}^{(2)} - \\hat{r} \\hat{\\omega}^2 + \\frac{1}{\\hat{r}^2} = - \\frac{5}{2}\\epsilon_G\\frac{\\partial \\hat{\\Phi}}{\\partial \\hat{r}}.\n",
    "$$\n",
    "\n",
    "Это **радиальное уравнение движения**.\n",
    "\n",
    "Здесь \n",
    "$$\n",
    "\\frac{\\partial \\hat{\\Phi}}{\\partial \\hat{r}} = \\frac{1}{5}\\hat{f}_{ij}^{(5)}\\left(\\frac{\\partial \\hat{r}_i}{\\partial \\hat{r}}\\hat{r}_j + \\hat{r}_i\\frac{\\partial \\hat{r}_j}{\\partial \\hat{r}}\\right)\n",
    "$$"
   ]
  },
  {
   "cell_type": "markdown",
   "metadata": {},
   "source": [
    "Правая часть радиального уравнения движения будет выглядеть как"
   ]
  },
  {
   "cell_type": "code",
   "execution_count": 68,
   "metadata": {
    "vscode": {
     "languageId": "wolfram"
    }
   },
   "outputs": [
    {
     "data": {
      "text/html": [
       "<div><img alt=\"Output\" src=\"data:image/png;base64,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\"></div>"
      ],
      "text/plain": [
       "FormBox[RowBox[{OverscriptBox[\"r\", \"^\"], \" \", \n",
       "\n",
       " \n",
       ">        RowBox[{\"(\", RowBox[{\"-\", SubscriptBox[\"ϵ\", \"G\"]}], \")\"}], \" \", \n",
       "\n",
       " \n",
       ">        RowBox[{\"(\", RowBox[{RowBox[{RowBox[{\"sin\", \"(\", RowBox[{\"2\", \" \", \"ϕ\"}], \n",
       "\n",
       " \n",
       ">                \")\"}], \" \", TemplateBox[List[SubscriptBox[OverscriptBox[\"f\", \"^\"], \n",
       "\n",
       " \n",
       ">                 RowBox[List[\"x\", \",\", \"y\"]]], \"\\\"(5)\\\"\"], \"Superscript\", \n",
       "\n",
       " \n",
       ">               Rule[SyntaxForm, SuperscriptBox]]}], \"+\", \n",
       "\n",
       " \n",
       ">            RowBox[{RowBox[{SuperscriptBox[\"cos\", \"2\"], \"(\", \"ϕ\", \")\"}], \" \", \n",
       "\n",
       " \n",
       ">              TemplateBox[List[SubscriptBox[OverscriptBox[\"f\", \"^\"], \n",
       "\n",
       " \n",
       ">                 RowBox[List[\"x\", \",\", \"x\"]]], \"\\\"(5)\\\"\"], \"Superscript\", \n",
       "\n",
       " \n",
       ">               Rule[SyntaxForm, SuperscriptBox]]}], \"+\", \n",
       "\n",
       " \n",
       ">            RowBox[{RowBox[{SuperscriptBox[\"sin\", \"2\"], \"(\", \"ϕ\", \")\"}], \" \", \n",
       "\n",
       " \n",
       ">              TemplateBox[List[SubscriptBox[OverscriptBox[\"f\", \"^\"], \n",
       "\n",
       " \n",
       ">                 RowBox[List[\"y\", \",\", \"y\"]]], \"\\\"(5)\\\"\"], \"Superscript\", \n",
       "\n",
       " \n",
       ">               Rule[SyntaxForm, SuperscriptBox]]}]}], \")\"}]}], TraditionalForm]\n"
      ]
     },
     "execution_count": 68,
     "metadata": {
      "text/html": [],
      "text/plain": []
     },
     "output_type": "execute_result"
    }
   ],
   "source": [
    "RHSMotionRadialLagrange = - 1/2 Subscript[\\[Epsilon], G] FullSimplify[EinsteinSummation[{{i, j}, {i}, {j}}, {fh5, D[rh, OverHat[r][OverHat[t]]], rh}] + EinsteinSummation[{{i, j}, {i}, {j}}, {fh5, rh, D[rh, OverHat[r][OverHat[t]]]}]];\n",
    "RHSMotionRadialLagrange // TraditionalForm"
   ]
  },
  {
   "cell_type": "markdown",
   "metadata": {},
   "source": [
    "<span style=\"color:brown\">**NB:**</span> Выражение <span style=\"color:green\">**совпадает**</span> с раннее полученным уравнением и с уравнением (10) из файла Binary.pdf"
   ]
  },
  {
   "cell_type": "code",
   "execution_count": 69,
   "metadata": {
    "vscode": {
     "languageId": "wolfram"
    }
   },
   "outputs": [
    {
     "data": {
      "text/html": [
       "<div><pre style=\"&#102;&#111;&#110;&#116;&#45;&#102;&#97;&#109;&#105;&#108;&#121;&#58;&#32;&#34;&#67;&#111;&#117;&#114;&#105;&#101;&#114;&#32;&#78;&#101;&#119;&#34;&#44;&#67;&#111;&#117;&#114;&#105;&#101;&#114;&#44;&#109;&#111;&#110;&#111;&#115;&#112;&#97;&#99;&#101;&#59;\">&#48;</pre></div>"
      ],
      "text/plain": [
       "0"
      ]
     },
     "execution_count": 69,
     "metadata": {
      "text/html": [],
      "text/plain": []
     },
     "output_type": "execute_result"
    }
   ],
   "source": [
    "RHSMotion[[1]] - RHSMotionRadialLagrange"
   ]
  },
  {
   "cell_type": "markdown",
   "metadata": {},
   "source": [
    "---\n",
    "\n",
    "#### Уравнение для координаты $\\phi$:\n",
    "$$\n",
    "\\frac{d}{d\\hat{t}} \\left(\\frac{\\partial \\hat{L}}{\\partial \\hat{\\omega}} \\right) - \\frac{\\partial \\hat{L}}{\\partial \\phi} = 0.\n",
    "$$\n",
    "Вычислим производные:\n",
    "$$\n",
    "\\frac{\\partial \\hat{L}}{\\partial \\hat{\\omega}} = \\hat{r}^2 \\hat{\\omega}, \\quad \\frac{d}{d\\hat{t}} \\left( \\frac{\\partial \\hat{L}}{\\partial \\hat{\\omega}} \\right) = \\frac{d}{d\\hat{t}} \\left( \\hat{r}^2 \\hat{\\omega} \\right),\n",
    "$$\n",
    "$$\n",
    "\\frac{\\partial \\hat{L}}{\\partial \\phi} = - \\frac{5}{2}\\epsilon_G\\frac{\\partial \\hat{\\Phi}}{\\partial \\phi}.\n",
    "$$\n",
    "Подставляем в уравнение Эйлера-Лагранжа:\n",
    "$$\n",
    "\\frac{1}{\\hat{r}}\\frac{d}{d\\hat{t}} \\left( \\hat{r}^2 \\hat{\\omega} \\right) = \\frac{1}{\\hat{r}}\\frac{d\\hat{J}}{d\\hat{t}} = - \\frac{5}{2}\\frac{\\epsilon_G}{\\hat{r}}\\frac{\\partial \\hat{\\Phi}}{\\partial \\phi}.\n",
    "$$\n",
    "\n",
    "Здесь \n",
    "$$\n",
    "\\frac{\\partial \\hat{\\Phi}}{\\partial \\phi} = \\frac{1}{5}\\hat{f}_{ij}^{(5)}\\left(\\frac{\\partial \\hat{r}_i}{\\partial \\phi}\\hat{r}_j + \\hat{r}_i\\frac{\\partial \\hat{r}_j}{\\partial \\phi}\\right)\n",
    "$$"
   ]
  },
  {
   "cell_type": "markdown",
   "metadata": {},
   "source": [
    "Правая часть уравнения движения для $\\phi$ будет выглядеть как"
   ]
  },
  {
   "cell_type": "code",
   "execution_count": 71,
   "metadata": {
    "vscode": {
     "languageId": "wolfram"
    }
   },
   "outputs": [
    {
     "data": {
      "text/html": [
       "<div><img alt=\"Output\" src=\"data:image/png;base64,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\"></div>"
      ],
      "text/plain": [
       "FormBox[RowBox[{RowBox[{\"-\", FractionBox[\"1\", \"2\"]}], \" \", OverscriptBox[\"r\", \"^\"], \n",
       "\n",
       " \n",
       ">        \" \", SubscriptBox[\"ϵ\", \"G\"], \" \", \n",
       "\n",
       " \n",
       ">        RowBox[{\"(\", RowBox[{RowBox[{RowBox[{\"sin\", \"(\", RowBox[{\"2\", \" \", \"ϕ\"}], \n",
       "\n",
       " \n",
       ">                \")\"}], \" \", RowBox[{\"(\", \n",
       "\n",
       " \n",
       ">                RowBox[{TemplateBox[List[SubscriptBox[OverscriptBox[\"f\", \"^\"], \n",
       "\n",
       " \n",
       ">                     RowBox[List[\"y\", \",\", \"y\"]]], \"\\\"(5)\\\"\"], \"Superscript\", \n",
       "\n",
       " \n",
       ">                   Rule[SyntaxForm, SuperscriptBox]], \"-\", \n",
       "\n",
       " \n",
       ">                  TemplateBox[List[SubscriptBox[OverscriptBox[\"f\", \"^\"], \n",
       "\n",
       " \n",
       ">                     RowBox[List[\"x\", \",\", \"x\"]]], \"\\\"(5)\\\"\"], \"Superscript\", \n",
       "\n",
       " \n",
       ">                   Rule[SyntaxForm, SuperscriptBox]]}], \")\"}]}], \"+\", \n",
       "\n",
       " \n",
       ">            RowBox[{\"2\", \" \", RowBox[{\"cos\", \"(\", RowBox[{\"2\", \" \", \"ϕ\"}], \")\"}], \" \", \n",
       "\n",
       " \n",
       ">              TemplateBox[List[SubscriptBox[OverscriptBox[\"f\", \"^\"], \n",
       "\n",
       " \n",
       ">                 RowBox[List[\"x\", \",\", \"y\"]]], \"\\\"(5)\\\"\"], \"Superscript\", \n",
       "\n",
       " \n",
       ">               Rule[SyntaxForm, SuperscriptBox]]}]}], \")\"}]}], TraditionalForm]\n"
      ]
     },
     "execution_count": 71,
     "metadata": {
      "text/html": [],
      "text/plain": []
     },
     "output_type": "execute_result"
    }
   ],
   "source": [
    "RHSMotionPhiLagrange = - 1/2 Subscript[\\[Epsilon], G] FullSimplify[EinsteinSummation[{{i, j}, {i}, {j}}, {fh5, D[rh, \\[Phi][OverHat[t]]], rh}] + EinsteinSummation[{{i, j}, {i}, {j}}, {fh5, rh, D[rh, \\[Phi][OverHat[t]]]}]]/OverHat[r][OverHat[t]];\n",
    "RHSMotionPhiLagrange // TraditionalForm"
   ]
  },
  {
   "cell_type": "markdown",
   "metadata": {},
   "source": [
    "<span style=\"color:brown\">**NB:**</span> Выражение <span style=\"color:green\">**совпадает**</span> с раннее полученным уравнением и с уравнением (9) из файла Binary.pdf"
   ]
  },
  {
   "cell_type": "code",
   "execution_count": 72,
   "metadata": {
    "vscode": {
     "languageId": "wolfram"
    }
   },
   "outputs": [
    {
     "data": {
      "text/html": [
       "<div><pre style=\"&#102;&#111;&#110;&#116;&#45;&#102;&#97;&#109;&#105;&#108;&#121;&#58;&#32;&#34;&#67;&#111;&#117;&#114;&#105;&#101;&#114;&#32;&#78;&#101;&#119;&#34;&#44;&#67;&#111;&#117;&#114;&#105;&#101;&#114;&#44;&#109;&#111;&#110;&#111;&#115;&#112;&#97;&#99;&#101;&#59;\">&#48;</pre></div>"
      ],
      "text/plain": [
       "0"
      ]
     },
     "execution_count": 72,
     "metadata": {
      "text/html": [],
      "text/plain": []
     },
     "output_type": "execute_result"
    }
   ],
   "source": [
    "RHSMotion[[2]] - RHSMotionPhiLagrange"
   ]
  },
  {
   "cell_type": "markdown",
   "metadata": {},
   "source": [
    "## Получим **энергетическую** систему уравнений в подходе Лагранжа"
   ]
  },
  {
   "cell_type": "markdown",
   "metadata": {},
   "source": [
    "Заметим, что энергия системы:\n",
    "$$\n",
    "\\hat{E} = \\frac{(\\hat{r}^{(1)})^2}{2} + \\frac{\\hat{r}^2 \\hat{\\omega}^2}{2} - \\frac{1}{\\hat{r}}\n",
    "$$\n",
    "$$\n",
    "\\frac{1}{\\hat{r}^{(1)}}\\left(\\frac{d\\hat{E}}{d\\hat{t}} - \\hat{\\omega} \\frac{d\\hat{J}}{d\\hat{t}}\\right) = \\hat{r}^{(2)} - \\hat{r} \\hat{\\omega}^2 + \\frac{1}{\\hat{r}^2}\n",
    "$$\n",
    "\n",
    "А также уравнение для изменения момента импульса системы есть\n",
    "$$\n",
    "\\frac{d\\hat{J}}{d\\hat{t}} = - \\frac{5}{2}\\epsilon_G\\frac{\\partial \\hat{\\Phi}}{\\partial \\phi}.\n",
    "$$\n",
    "\n",
    "Итоговая энергетическая система, выведенная по-новому будет записываться как:\n",
    "\n",
    "$$\n",
    "\\begin{align}\n",
    "\\frac{d\\hat{E}}{d\\hat{t}} &= - \\frac{5}{2}\\epsilon_G\\left(\\hat{r}^{(1)}\\frac{\\partial \\hat{\\Phi}}{\\partial \\hat{r}} + \\hat{\\omega} \\frac{\\partial \\hat{\\Phi}}{\\partial \\phi}\\right)\n",
    "  = - \\frac{\\epsilon_G}{2}\\hat{f}_{ij}^{(5)}\\left(\\frac{d\\hat{r}_i}{d\\hat{t}}\\hat{r}_j + \\hat{r}_i\\frac{d\\hat{r}_j}{d\\hat{t}}\\right)\n",
    "  = - \\frac{\\epsilon_G}{2}\\hat{f}_{ij}^{(5)}\\frac{d(\\hat{r}_i \\hat{r}_j)}{d\\hat{t}}\n",
    "\\\\\n",
    "\\frac{d\\hat{J}}{d\\hat{t}} &= - \\frac{5}{2}\\epsilon_G\\frac{\\partial \\hat{\\Phi}}{\\partial \\phi}\n",
    "  = - \\frac{\\epsilon_G}{2}\\hat{f}_{ij}^{(5)}\\left(\\frac{\\partial \\hat{r}_i}{\\partial \\phi}\\hat{r}_j + \\hat{r}_i\\frac{\\partial \\hat{r}_j}{\\partial \\phi}\\right)\n",
    "  = - \\frac{\\epsilon_G}{2}\\hat{f}_{ij}^{(5)}\\frac{d(\\hat{r}_i \\hat{r}_j)}{d\\phi}\n",
    "\\end{align}\n",
    "$$"
   ]
  },
  {
   "cell_type": "code",
   "execution_count": 74,
   "metadata": {
    "vscode": {
     "languageId": "wolfram"
    }
   },
   "outputs": [
    {
     "data": {
      "text/html": [
       "<div><img alt=\"Output\" src=\"data:image/png;base64,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\"></div>"
      ],
      "text/plain": [
       "FormBox[TagBox[RowBox[{\"(\", \"⁠\", \n",
       "\n",
       " \n",
       ">         TagBox[GridBox[{{RowBox[{OverscriptBox[\"r\", \"^\"], \" \", \n",
       "\n",
       " \n",
       ">               RowBox[{\"(\", RowBox[{\"-\", SubscriptBox[\"ϵ\", \"G\"]}], \")\"}], \" \", \n",
       "\n",
       " \n",
       ">               RowBox[{\"(\", RowBox[{RowBox[{OverscriptBox[\"r\", \"^\"], \" \", \n",
       "\n",
       " \n",
       ">                     OverscriptBox[\"ω\", \"^\"], \" \", \n",
       "\n",
       " \n",
       ">                     RowBox[{\"(\", RowBox[{RowBox[{RowBox[{\"cos\", \"(\", \n",
       "\n",
       " \n",
       ">                             RowBox[{\"2\", \" \", \"ϕ\"}], \")\"}], \" \", \n",
       "\n",
       " \n",
       ">                           TemplateBox[List[SubscriptBox[OverscriptBox[\"f\", \n",
       "\n",
       " \n",
       ">                             \"^\"], RowBox[List[\"x\", \",\", \"y\"]]], \"\\\"(5)\\\"\"], \n",
       "\n",
       " \n",
       ">                            \"Superscript\", Rule[SyntaxForm, SuperscriptBox]]}], \n",
       "\n",
       " \n",
       ">                         \"+\", RowBox[{RowBox[{\"sin\", \"(\", \"ϕ\", \")\"}], \" \", \n",
       "\n",
       " \n",
       ">                           RowBox[{\"cos\", \"(\", \"ϕ\", \")\"}], \" \", \n",
       "\n",
       " \n",
       ">                           RowBox[{\"(\", \n",
       "\n",
       " \n",
       ">                             RowBox[{TemplateBox[List[SubscriptBox[\n",
       "\n",
       " \n",
       ">                             OverscriptBox[\"f\", \"^\"], \n",
       "\n",
       " \n",
       ">                             RowBox[List[\"y\", \",\", \"y\"]]], \"\\\"(5)\\\"\"], \n",
       "\n",
       " \n",
       ">                             \"Superscript\", Rule[SyntaxForm, SuperscriptBox]], \n",
       "\n",
       " \n",
       ">                              \"-\", \n",
       "\n",
       " \n",
       ">                              TemplateBox[List[SubscriptBox[OverscriptB\\\n",
       "\n",
       " \n",
       ">   ox[\"f\", \"^\"], RowBox[List[\"x\", \",\", \"x\"]]], \"\\\"(5)\\\"\"], \"Superscript\", \n",
       "\n",
       " \n",
       ">                              Rule[SyntaxForm, SuperscriptBox]]}], \")\"}]}]}], \")\"}]\\\n",
       "\n",
       " \n",
       ">   }], \"+\", RowBox[{SuperscriptBox[OverscriptBox[\"r\", \"^\"], \"′\"], \" \", \n",
       "\n",
       " \n",
       ">                     RowBox[{\"(\", RowBox[{RowBox[{RowBox[{\"sin\", \"(\", \n",
       "\n",
       " \n",
       ">                             RowBox[{\"2\", \" \", \"ϕ\"}], \")\"}], \" \", \n",
       "\n",
       " \n",
       ">                           TemplateBox[List[SubscriptBox[OverscriptBox[\"f\", \n",
       "\n",
       " \n",
       ">                             \"^\"], RowBox[List[\"x\", \",\", \"y\"]]], \"\\\"(5)\\\"\"], \n",
       "\n",
       " \n",
       ">                            \"Superscript\", Rule[SyntaxForm, SuperscriptBox]]}], \n",
       "\n",
       " \n",
       ">                         \"+\", RowBox[{RowBox[{SuperscriptBox[\"cos\", \"2\"], \"(\", \n",
       "\n",
       " \n",
       ">                             \"ϕ\", \")\"}], \" \", \n",
       "\n",
       " \n",
       ">                           TemplateBox[List[SubscriptBox[OverscriptBox[\"f\", \n",
       "\n",
       " \n",
       ">                             \"^\"], RowBox[List[\"x\", \",\", \"x\"]]], \"\\\"(5)\\\"\"], \n",
       "\n",
       " \n",
       ">                            \"Superscript\", Rule[SyntaxForm, SuperscriptBox]]}], \n",
       "\n",
       " \n",
       ">                         \"+\", RowBox[{RowBox[{SuperscriptBox[\"sin\", \"2\"], \"(\", \n",
       "\n",
       " \n",
       ">                             \"ϕ\", \")\"}], \" \", \n",
       "\n",
       " \n",
       ">                           TemplateBox[List[SubscriptBox[OverscriptBox[\"f\", \n",
       "\n",
       " \n",
       ">                             \"^\"], RowBox[List[\"y\", \",\", \"y\"]]], \"\\\"(5)\\\"\"], \n",
       "\n",
       " \n",
       ">                            \"Superscript\", Rule[SyntaxForm, SuperscriptBox]]}]}], \n",
       "\n",
       " \n",
       ">                       \")\"}]}]}], \")\"}]}]}, \n",
       "\n",
       " \n",
       ">            {RowBox[{RowBox[{\"-\", FractionBox[\"1\", \"2\"]}], \" \", \n",
       "\n",
       " \n",
       ">               SuperscriptBox[OverscriptBox[\"r\", \"^\"], \"2\"], \" \", \n",
       "\n",
       " \n",
       ">               SubscriptBox[\"ϵ\", \"G\"], \" \", \n",
       "\n",
       " \n",
       ">               RowBox[{\"(\", RowBox[{RowBox[{RowBox[{\"sin\", \"(\", \n",
       "\n",
       " \n",
       ">                       RowBox[{\"2\", \" \", \"ϕ\"}], \")\"}], \" \", \n",
       "\n",
       " \n",
       ">                     RowBox[{\"(\", RowBox[{TemplateBox[List[SubscriptBox[\n",
       "\n",
       " \n",
       ">                            OverscriptBox[\"f\", \"^\"], \n",
       "\n",
       " \n",
       ">                            RowBox[List[\"y\", \",\", \"y\"]]], \"\\\"(5)\\\"\"], \n",
       "\n",
       " \n",
       ">                          \"Superscript\", Rule[SyntaxForm, SuperscriptBox]], \"-\", \n",
       "\n",
       " \n",
       ">                         TemplateBox[List[SubscriptBox[OverscriptBox[\"f\", \"^\"], \n",
       "\n",
       " \n",
       ">                            RowBox[List[\"x\", \",\", \"x\"]]], \"\\\"(5)\\\"\"], \n",
       "\n",
       " \n",
       ">                          \"Superscript\", Rule[SyntaxForm, SuperscriptBox]]}], \")\"}]}\\\n",
       "\n",
       " \n",
       ">   ], \"+\", RowBox[{\"2\", \" \", RowBox[{\"cos\", \"(\", RowBox[{\"2\", \" \", \"ϕ\"}], \")\"}], \n",
       "\n",
       " \n",
       ">                     \" \", TemplateBox[List[SubscriptBox[OverscriptBox[\"f\", \"^\"], \n",
       "\n",
       " \n",
       ">                        RowBox[List[\"x\", \",\", \"y\"]]], \"\\\"(5)\\\"\"], \"Superscript\", \n",
       "\n",
       " \n",
       ">                      Rule[SyntaxForm, SuperscriptBox]]}]}], \")\"}]}]}}, \n",
       "\n",
       " \n",
       ">           Rule[RowSpacings, 1], Rule[ColumnAlignments, Center], \n",
       "\n",
       " \n",
       ">           Rule[ColumnAlignments, Left]], Column], \"⁠\", \")\"}], \n",
       "\n",
       " \n",
       ">       Function[BoxForm`e$, MatrixForm[BoxForm`e$]]], TraditionalForm]\n"
      ]
     },
     "execution_count": 74,
     "metadata": {
      "text/html": [],
      "text/plain": []
     },
     "output_type": "execute_result"
    }
   ],
   "source": [
    "RHSEnegryLagrange = - 5/2 Subscript[\\[Epsilon],G] FullSimplify[{\n",
    "  D[fh5rhrh, OverHat[t]] /. OmegaReplace,\n",
    "  D[fh5rhrh, \\[Phi][OverHat[t]]]\n",
    "}, Trig -> True];\n",
    "\n",
    "RHSEnegryLagrange // MatrixForm // TraditionalForm"
   ]
  },
  {
   "cell_type": "markdown",
   "metadata": {},
   "source": [
    "<span style=\"color:brown\">**NB:**</span> Выражения полностью <span style=\"color:green\">**совпадают**</span> с предыдущим ньютоновым подходом!"
   ]
  },
  {
   "cell_type": "code",
   "execution_count": 75,
   "metadata": {
    "vscode": {
     "languageId": "wolfram"
    }
   },
   "outputs": [
    {
     "data": {
      "text/html": [
       "<div><img alt=\"Output\" src=\"data:image/png;base64,iVBORw0KGgoAAAANSUhEUgAAACcAAAAnCAIAAAADwcZiAAAAz3pUWHRSYXcgcHJvZmlsZSB0eXBlIGV4aWYAAHjabU/RbUQhDPtnio4QkuDAOLw7TuoGHb/mQVtRnSUSx04CpPH1+UofE5oleYmKBgjhzZt2kioLK2dpd7yhsb186unHyJ1S+TMwtn6demAvrP8WiS5i8wZy8z2wF5kuPfdVX7tfe63nIpMDkN+nv63dQlGQwxldJQKNvCZSJhSVEnjhAbAx46niD+aBCI4hZof1OTihI87ukWAUnvMLNk+xzmyM2SpHs4HcqXWqqtd274+kbxKMWoc1t2FvAAAACXBIWXMAAA7EAAAOxAGVKw4bAAAAPHRFWHRTb2Z0d2FyZQBDcmVhdGVkIHdpdGggdGhlIFdvbGZyYW0gTGFuZ3VhZ2UgOiB3d3cud29sZnJhbS5jb21coqaFAAAAIXRFWHRDcmVhdGlvbiBUaW1lADIwMjU6MDM6MTggMTY6NDA6MzLvDKXiAAADm0lEQVRYhc1Xz0vzWhC98WeKaRdNsSK1FCmCtEJU3LgQRF0pmICL7gVFBdeKO/8DoSvBXRaClFrcqVgIdGegaKtFxEKsYC1p1FYjNvW+RUHeS+5NGj7le2eXmeGcO8nMnQmAKCiKUigUkK5KpbKyskLTNEVRLMtKkoQMgxBeXFzgXC0ABZ7nW1rQrkgkcnx8vLu7G4vFZFmemppSVRUZeXR0JEkS0gWQZ9nY2EDaBUEgCOI7iZeXF5qmd3Z2kMGZTGZ7e7vZXG9vb7u7u3HHHx0dHRoaajy6XK6FhYVEIoEMDoVCmUwG6UKoJhKJmZkZZHQ2m2UYBgBweXmZTCYBAAzDXF1dIYMBAIFAAPmSEarZbDYUCiFZFEWhaRoAMDc3Nz09XSwWaZoul8s41bGxMUEQrFUhhJ+fnwRB4IgaGBkZCQaDLpcLQmgSNjw8nEqljPY23fP19bXP58Ox0DQtyzIAIB6PNyyyLDeyR6K/vz+fzxvt+lxFUQyHwziWcDicTqf/bUmn09/FZQRBEK2trdaquVwuGAziWObn50VR/BZWFOXg4IDjOFw8AMDr9ZZKJb1V10mRSOTp6Ql3p0AIWZYNBALxePz09HR8fHxwcFBVVZP4ra0tURQt+rVUKnk8HpOz8zw/Ozu7uLjIsqzX6z05OSFJ0iS+t7e3UCjojPpq+vr6Mi/grq6uaDQajUZNYnSq9/f3OqM+V8uesYuenp7Hx0cL1R8HRVHv7+9mqpqmtbe3/6wqSZLGofQf1Vqt9hdUNU1ra9PX1x/C4XBYqAIAkFfJn6Cjo6NWq5mpkiSpadrPqmqa5nA4zFR//KM2pfobUFXVWtXyDVer1dXVVY/H43Q6OY4z3js6VCoVa1XzKQ3s7IgNvL6+UhSlt+qmAcdxJgPE1o7YwOHh4d7ensXMoSjKWOjfsLUjNlAsFv1+v86oV/X5fA8PDzgKuzsiAECSJGtVv99/d3eHo7C7IwIA8vl8X1+fherAwMDNzY0JSwNN7ogAgLe3N2MN629dhmFisRiOwu6OWK/XOzs7jXZ9rm63+/n5Gcdid0fM5XLIhR5xNzmdzo+PDySL3R0xlUpNTEwgHMYO43n+7OwM13+2dsSlpSWkF6FaLpc3NzdxRNVqdW1tze12UxTFcRzu5xpCWK/Xl5eXkS70/+v6+jqOq3kIgrC/v490oWfO5OTk+fk57ms1iWQyybIs0kVAq4b7Dfz6fP0fqf4Dh0MgcMINdBkAAAAASUVORK5CYII=\"></div>"
      ],
      "text/plain": [
       "0\n",
       "\n",
       "0"
      ]
     },
     "execution_count": 75,
     "metadata": {
      "text/html": [],
      "text/plain": []
     },
     "output_type": "execute_result"
    }
   ],
   "source": [
    "FullSimplify[RHSEnegryLagrange - RHSEnegry] // MatrixForm"
   ]
  },
  {
   "cell_type": "markdown",
   "metadata": {},
   "source": [
    "В **размерной** же записи наши уравнения превращаются в\n",
    "$$\n",
    "\\begin{align}\n",
    "\\frac{dE}{dt} &=\n",
    "  = - \\frac{1}{5}f_{ij}^{(5)} \\mu \\frac{d(r_i r_j)}{dt}\n",
    "  = - \\frac{1}{5}\\frac{c^5}{G}f_{ij}^{(5)} \\frac{d}{dt}\\left(f_{ij} + \\frac{1}{3} \\delta_{ij}r^2\\right)\n",
    "  = - \\frac{1}{5}\\frac{c^5}{G}f_{ij}^{(5)} \\frac{df_{ij}}{dt}\n",
    "\\\\\n",
    "\\frac{dJ}{dt} &=\n",
    "  = - \\frac{1}{5}f_{ij}^{(5)} \\mu \\frac{d(r_i r_j)}{d\\phi}\n",
    "  = - \\frac{1}{5}\\frac{c^5}{G}f_{ij}^{(5)} \\frac{d}{d\\phi}\\left(f_{ij} + \\frac{1}{3} \\delta_{ij}r^2\\right)\n",
    "  = - \\frac{1}{5}\\frac{c^5}{G}f_{ij}^{(5)} \\frac{df_{ij}}{d\\phi}\n",
    "  = - \\frac{2}{5}\\frac{c^5}{G}\\epsilon_{ij}f_{ik}^{(5)} f_{kj}\n",
    "\\end{align}\n",
    "$$\n",
    "\n",
    "Здесь учтено, что квадрупольный момент бесследовый\n",
    "$$\n",
    "\\begin{align}\n",
    "\\text{Tr}(f_{ij}) &= \\delta_{ij}f_{ij} = 0\n",
    "\\\\\n",
    "\\text{Tr}(f^{(5)}_{ij}) &= \\delta_{ij}f^{(5)}_{ij} = 0\n",
    "\\\\\n",
    "\\end{align}\n",
    "$$"
   ]
  },
  {
   "cell_type": "code",
   "execution_count": 78,
   "metadata": {
    "vscode": {
     "languageId": "wolfram"
    }
   },
   "outputs": [
    {
     "data": {
      "text/html": [
       "<div><img alt=\"Output\" src=\"data:image/png;base64,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\"></div>"
      ],
      "text/plain": [
       "FormBox[RowBox[{RowBox[{\"-\", FractionBox[\"1\", \"5\"]}], \" \", \n",
       "\n",
       " \n",
       ">        SuperscriptBox[OverscriptBox[\"r\", \"^\"], \"2\"], \" \", \n",
       "\n",
       " \n",
       ">        RowBox[{\"(\", RowBox[{RowBox[{RowBox[{\"sin\", \"(\", RowBox[{\"2\", \" \", \"ϕ\"}], \n",
       "\n",
       " \n",
       ">                \")\"}], \" \", RowBox[{\"(\", \n",
       "\n",
       " \n",
       ">                RowBox[{TemplateBox[List[SubscriptBox[OverscriptBox[\"f\", \"^\"], \n",
       "\n",
       " \n",
       ">                     RowBox[List[\"x\", \",\", \"x\"]]], \"\\\"(5)\\\"\"], \"Superscript\", \n",
       "\n",
       " \n",
       ">                   Rule[SyntaxForm, SuperscriptBox]], \"-\", \n",
       "\n",
       " \n",
       ">                  TemplateBox[List[SubscriptBox[OverscriptBox[\"f\", \"^\"], \n",
       "\n",
       " \n",
       ">                     RowBox[List[\"y\", \",\", \"y\"]]], \"\\\"(5)\\\"\"], \"Superscript\", \n",
       "\n",
       " \n",
       ">                   Rule[SyntaxForm, SuperscriptBox]]}], \")\"}]}], \"-\", \n",
       "\n",
       " \n",
       ">            RowBox[{\"2\", \" \", RowBox[{\"cos\", \"(\", RowBox[{\"2\", \" \", \"ϕ\"}], \")\"}], \" \", \n",
       "\n",
       " \n",
       ">              TemplateBox[List[SubscriptBox[OverscriptBox[\"f\", \"^\"], \n",
       "\n",
       " \n",
       ">                 RowBox[List[\"x\", \",\", \"y\"]]], \"\\\"(5)\\\"\"], \"Superscript\", \n",
       "\n",
       " \n",
       ">               Rule[SyntaxForm, SuperscriptBox]]}]}], \")\"}]}], TraditionalForm]\n"
      ]
     },
     "execution_count": 78,
     "metadata": {
      "text/html": [],
      "text/plain": []
     },
     "output_type": "execute_result"
    }
   ],
   "source": [
    "(* Доказатество последнего равенства в уравнении для изменениия момента импульса *)\n",
    "leviCivitaArray = Normal[LeviCivitaTensor[2]];\n",
    "-2/5 FullSimplify[EinsteinSummation[{{i, j}, {i, k}, {k, j}}, {leviCivitaArray, fh5, fh}]] // TraditionalForm"
   ]
  },
  {
   "cell_type": "markdown",
   "metadata": {},
   "source": [
    "<span style=\"color:brown\">**NB:**</span> Выражения полностью <span style=\"color:green\">**совпадают**</span>\n",
    "с $dE/dt, dJ/dt$ из задачника Лайтман А., Пресс В., Прайс Р., Тюкольки С. - 1979 - Сборник задач по теории относительности и гравитации (Решение задачи 18.5, стр. 446-447)\n",
    "\n",
    "Не стоит забывать, что в задачнике система геометризированных единиц $G = c = 1$."
   ]
  },
  {
   "cell_type": "markdown",
   "metadata": {},
   "source": [
    "# Итоговая система **энергетических** уравнений:\n",
    "\n",
    "$$\n",
    "\\begin{align}\n",
    "\\tag{dJ/dt}\n",
    "\\frac{d\\hat{J}}{d\\hat{t}} &= -\\frac{1}{2} \\epsilon_G\n",
    "\\hat{r}^2\n",
    "\\left(\n",
    "  \\sin (2 \\phi ) \\left(\\hat{f}_{y,y}{}^{\\text{(5)}}-\\hat{f}_{x,x}{}^{\\text{(5)}}\\right)+2 \\cos (2 \\phi ) \\hat{f}_{x,y}{}^{\\text{(5)}}\n",
    "\\right)\n",
    "= \\epsilon_G I_J\n",
    "\\\\\n",
    "\\tag{dE/dt}\n",
    "\\frac{d\\hat{E}}{d\\hat{t}} &= \\epsilon_G\n",
    "\\left(\n",
    "  I_J\\hat{\\omega}\n",
    "  -\\hat{r} \\hat{r}'\n",
    "  \\left(\n",
    "  \\sin (2 \\phi ) \\hat{f}_{x,y}{}^{\\text{(5)}}+\\cos ^2(\\phi ) \\hat{f}_{x,x}{}^{\\text{(5)}}+\\sin ^2(\\phi ) \\hat{f}_{y,y}{}^{\\text{(5)}}\n",
    "  \\right)\n",
    "\\right)\n",
    "= \\epsilon_G I_E\n",
    "\\end{align}\n",
    "$$"
   ]
  },
  {
   "cell_type": "markdown",
   "metadata": {},
   "source": [
    "# RHS уравнения (dJ/dt)\n",
    "\n",
    "Введём новое обозначение $\\hat{r}^2 \\equiv \\hat{r}_2$"
   ]
  },
  {
   "cell_type": "code",
   "execution_count": 79,
   "metadata": {
    "vscode": {
     "languageId": "wolfram"
    }
   },
   "outputs": [],
   "source": [
    "ToR2Replacement = {\n",
    "  OverHat[r][OverHat[t]] -> Sqrt[Subscript[OverHat[r],2][OverHat[t]]],\n",
    "  Derivative[n_][OverHat[r]][OverHat[t]] :> D[Sqrt[Subscript[OverHat[r], 2][OverHat[t]]], {OverHat[t], n}]\n",
    "};"
   ]
  },
  {
   "cell_type": "markdown",
   "metadata": {},
   "source": [
    "и подставим в (dJ/dt) значения $\\hat{f}_{i,j}^{(5)}$:"
   ]
  },
  {
   "cell_type": "code",
   "execution_count": 85,
   "metadata": {
    "vscode": {
     "languageId": "wolfram"
    }
   },
   "outputs": [
    {
     "data": {
      "text/html": [
       "<div><img alt=\"Output\" src=\"data:image/png;base64,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\"></div>"
      ],
      "text/plain": [
       "FormBox[RowBox[{SubscriptBox[OverscriptBox[\"r\", \"^\"], \"2\"], \" \", \n",
       "\n",
       " \n",
       ">        RowBox[{\"(\", RowBox[{RowBox[{\"-\", \n",
       "\n",
       " \n",
       ">              RowBox[{\"5\", \" \", SuperscriptBox[SubscriptBox[OverscriptBox[\"r\", \"^\"], \n",
       "\n",
       " \n",
       ">                  \"2\"], \"′\"], \" \", SuperscriptBox[OverscriptBox[\"ω\", \"^\"], \"′′′\"]}]}], \n",
       "\n",
       " \n",
       ">            \"-\", RowBox[{\"10\", \" \", SuperscriptBox[SubscriptBox[OverscriptBox[\"r\", \n",
       "\n",
       " \n",
       ">                 \"^\"], \"2\"], \"′′′\"], \" \", SuperscriptBox[OverscriptBox[\"ω\", \"^\"],\\\n",
       " \n",
       ">    \"′\"]}]\\\n",
       ", \"+\", RowBox[{\"120\", \" \", SuperscriptBox[OverscriptBox[\"ω\", \"^\"], \"2\"], \"\\\n",
       " \n",
       ">    \", \n",
       "           SuperscriptBox[SubscriptBox[OverscriptBox[\"r\", \"^\"], \"2\"], \"′\"], \"\\\n",
       " \n",
       ">    \", \n",
       "           SuperscriptBox[OverscriptBox[\"ω\", \"^\"], \"′\"]}], \"+\", \n",
       "\n",
       " \n",
       ">            RowBox[{\"60\", \" \", SubscriptBox[OverscriptBox[\"r\", \"^\"], \"2\"], \" \", \n",
       "\n",
       " \n",
       ">              OverscriptBox[\"ω\", \"^\"], \" \", \n",
       "           SuperscriptBox[RowBox[{\"(\", \n",
       "\n",
       " \n",
       ">                 SuperscriptBox[OverscriptBox[\"ω\", \"^\"], \"′\"], \")\"}], \"2\"]}], \"+\", \n",
       "\n",
       " \n",
       ">            RowBox[{\"40\", \" \", SuperscriptBox[OverscriptBox[\"ω\", \"^\"], \"3\"], \" \", \n",
       "\n",
       " \n",
       ">              SuperscriptBox[SubscriptBox[OverscriptBox[\"r\", \"^\"], \"2\"], \"′′\"]}], \"+\", \n",
       "\n",
       " \n",
       ">            RowBox[{\"40\", \" \", SubscriptBox[OverscriptBox[\"r\", \"^\"], \"2\"], \" \", \n",
       "\n",
       " \n",
       ">              SuperscriptBox[OverscriptBox[\"ω\", \"^\"], \"2\"], \" \", \n",
       "\n",
       " \n",
       ">              SuperscriptBox[OverscriptBox[\"ω\", \"^\"], \"′′\"]}], \"-\", \n",
       "\n",
       " \n",
       ">            RowBox[{\"10\", \" \", SuperscriptBox[SubscriptBox[OverscriptBox[\"r\", \"^\"], \n",
       "\n",
       " \n",
       ">                \"2\"], \"′′\"], \" \", SuperscriptBox[OverscriptBox[\"ω\", \"^\"], \"′′\"]}], \"-\",\\\n",
       " \n",
       ">    \n",
       "         RowBox[{\"5\", \" \", OverscriptBox[\"ω\", \"^\"], \" \", \n",
       "\n",
       " \n",
       ">              SuperscriptBox[SubscriptBox[OverscriptBox[\"r\", \"^\"], \"2\"], \"′′′′\"]}],\\\n",
       " \n",
       ">    \"-\", \n",
       "         RowBox[{SubscriptBox[OverscriptBox[\"r\", \"^\"], \"2\"], \" \", \n",
       "\n",
       " \n",
       ">              SuperscriptBox[OverscriptBox[\"ω\", \"^\"], \"′′′′\"]}], \"-\", \n",
       "\n",
       " \n",
       ">            RowBox[{RowBox[{\"16\"}], \" \", SubscriptBox[OverscriptBox[\"r\", \"^\"], \"2\"], \n",
       "\n",
       " \n",
       ">              \" \", SuperscriptBox[OverscriptBox[\"ω\", \"^\"], \"5\"]}]}], \")\"}]}], \n",
       "\n",
       " \n",
       ">      TraditionalForm]\n"
      ]
     },
     "execution_count": 85,
     "metadata": {
      "text/html": [],
      "text/plain": []
     },
     "output_type": "execute_result"
    }
   ],
   "source": [
    "fh1 = fh /. ToR2Replacement;\n",
    "fh5Symbolic = Simplify[D[fh1, {OverHat[t], 5}], Trig -> True];\n",
    "\n",
    "Fh5Replacement = Flatten[{\n",
    "  Outer[\n",
    "    Superscript[Subscript[OverHat[f], #1, #2], \"(5)\"] -> fh5Symbolic[[#1 /. {x -> 1, y -> 2}, #2 /. {x -> 1, y -> 2}]] &,\n",
    "    {x, y}, {x, y}\n",
    "  ],\n",
    "  ToR2Replacement,\n",
    "  OmegaReplace\n",
    "}];\n",
    "\n",
    "dJdtTemp = RHSEnegryLagrange[[2]] //. Fh5Replacement;\n",
    "dJdt = Subscript[OverHat[r],2][OverHat[t]]*Expand[Simplify[dJdtTemp/Subscript[\\[Epsilon], G], Trig -> True]/Subscript[OverHat[r],2][OverHat[t]]];\n",
    "dJdt // TraditionalForm"
   ]
  },
  {
   "cell_type": "markdown",
   "metadata": {},
   "source": [
    "<span style=\"color:brown\">**NB:**</span> В файле Binary.pdf выводится <span style=\"color:green\">**точно такое же**</span> выражение"
   ]
  },
  {
   "cell_type": "markdown",
   "metadata": {},
   "source": [
    "$$\n",
    "I_J = I_1 = \\hat{r}_2 \\left[ 120\\hat{r}_2^{(1)}\\hat{\\omega}^2\\hat{\\omega}^{(1)} - 5\\hat{r}_2^{(1)}\\hat{\\omega}^{(3)} - 16\\hat{r}_2\\hat{\\omega}^5 - 10\\hat{r}_2^{(2)}\\hat{\\omega}^{(2)} + 60\\hat{r}_2\\hat{\\omega}(\\hat{\\omega}^{(1)})^2\n",
    "- 10\\hat{r}_2^{(3)}\\hat{\\omega}^{(1)} + 40\\hat{r}_2^{(2)}\\hat{\\omega}^3 - 5\\hat{r}_2^{(4)}\\hat{\\omega} - \\hat{r}_2\\hat{\\omega}^{(4)} + 40\\hat{r}_2\\hat{\\omega}^2\\hat{\\omega}^{(2)} \\right]\n",
    "$$"
   ]
  },
  {
   "cell_type": "code",
   "execution_count": 87,
   "metadata": {
    "vscode": {
     "languageId": "wolfram"
    }
   },
   "outputs": [
    {
     "data": {
      "text/html": [
       "<div><pre style=\"&#102;&#111;&#110;&#116;&#45;&#102;&#97;&#109;&#105;&#108;&#121;&#58;&#32;&#34;&#67;&#111;&#117;&#114;&#105;&#101;&#114;&#32;&#78;&#101;&#119;&#34;&#44;&#67;&#111;&#117;&#114;&#105;&#101;&#114;&#44;&#109;&#111;&#110;&#111;&#115;&#112;&#97;&#99;&#101;&#59;\">&#48;</pre></div>"
      ],
      "text/plain": [
       "0"
      ]
     },
     "execution_count": 87,
     "metadata": {
      "text/html": [],
      "text/plain": []
     },
     "output_type": "execute_result"
    }
   ],
   "source": [
    "I1 = Subscript[OverHat[r], 2][OverHat[t]] * (\n",
    "    120 * Derivative[1][Subscript[OverHat[r], 2]][OverHat[t]] *\n",
    "    OverHat[\\[Omega]][OverHat[t]]^2 * Derivative[1][OverHat[\\[Omega]]][OverHat[t]]\n",
    "    - 5 * Derivative[1][Subscript[OverHat[r], 2]][OverHat[t]] *\n",
    "    Derivative[3][OverHat[\\[Omega]]][OverHat[t]]\n",
    "    - 16 * Subscript[OverHat[r], 2][OverHat[t]] *\n",
    "    OverHat[\\[Omega]][OverHat[t]]^5\n",
    "    - 10 * Derivative[2][Subscript[OverHat[r], 2]][OverHat[t]] *\n",
    "    Derivative[2][OverHat[\\[Omega]]][OverHat[t]]\n",
    "    + 60 * Subscript[OverHat[r], 2][OverHat[t]] *\n",
    "    OverHat[\\[Omega]][OverHat[t]] * Derivative[1][OverHat[\\[Omega]]][OverHat[t]]^2\n",
    "    - 10 * Derivative[3][Subscript[OverHat[r], 2]][OverHat[t]] *\n",
    "    Derivative[1][OverHat[\\[Omega]]][OverHat[t]]\n",
    "    + 40 * Derivative[2][Subscript[OverHat[r], 2]][OverHat[t]] *\n",
    "    OverHat[\\[Omega]][OverHat[t]]^3\n",
    "    - 5 * Derivative[4][Subscript[OverHat[r], 2]][OverHat[t]] *\n",
    "    OverHat[\\[Omega]][OverHat[t]]\n",
    "    - Subscript[OverHat[r], 2][OverHat[t]] *\n",
    "    Derivative[4][OverHat[\\[Omega]]][OverHat[t]]\n",
    "    + 40 * Subscript[OverHat[r], 2][OverHat[t]] *\n",
    "    OverHat[\\[Omega]][OverHat[t]]^2 * Derivative[2][OverHat[\\[Omega]]][OverHat[t]]\n",
    ");\n",
    "dJdt - I1"
   ]
  },
  {
   "cell_type": "markdown",
   "metadata": {},
   "source": [
    "# RHS уравнения (dE/dt)\n",
    "\n",
    "Подставим в (dE/dt) значения $\\hat{f}_{i,j}^{(5)}$:"
   ]
  },
  {
   "cell_type": "code",
   "execution_count": 90,
   "metadata": {
    "vscode": {
     "languageId": "wolfram"
    }
   },
   "outputs": [
    {
     "data": {
      "text/html": [
       "<div><img alt=\"Output\" src=\"data:image/png;base64,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\"></div>"
      ],
      "text/plain": [
       "FormBox[RowBox[{FractionBox[\"1\", \"3\"], \" \", \n",
       "\n",
       " \n",
       ">        RowBox[{\"(\", RowBox[{RowBox[{OverscriptBox[\"ω\", \"^\"], \" \", \n",
       "\n",
       " \n",
       ">              RowBox[{\"(\", RowBox[{RowBox[{\"-\", \n",
       "\n",
       " \n",
       ">                    RowBox[{\"3\", \" \", SubscriptBox[OverscriptBox[\"r\", \"^\"], \"2\"], \n",
       "\n",
       " \n",
       ">                      \" \", RowBox[{\"(\", \n",
       "\n",
       " \n",
       ">                        RowBox[{RowBox[{\"10\", \" \", \n",
       "\n",
       " \n",
       ">                            SuperscriptBox[SubscriptBox[OverscriptBox[\"r\", \"^\"], \n",
       "\n",
       " \n",
       ">                              \"2\"], \"′′′\"], \" \", \n",
       "\n",
       " \n",
       ">                            SuperscriptBox[OverscriptBox[\"ω\", \"^\"], \"′\"]}], \"+\", \n",
       "\n",
       " \n",
       ">                          RowBox[{\"10\", \" \", \n",
       "\n",
       " \n",
       ">                            SuperscriptBox[SubscriptBox[OverscriptBox[\"r\", \"^\"], \n",
       "\n",
       " \n",
       ">                              \"2\"], \"′′\"], \" \", \n",
       "\n",
       " \n",
       ">                            SuperscriptBox[OverscriptBox[\"ω\", \"^\"], \"′′\"]}], \"+\", \n",
       "\n",
       " \n",
       ">                          RowBox[{SubscriptBox[OverscriptBox[\"r\", \"^\"], \"2\"], \" \", \n",
       "\n",
       " \n",
       ">                            SuperscriptBox[OverscriptBox[\"ω\", \"^\"], \"′′′′\"]}]}], \")\"}]\\\n",
       "\n",
       " \n",
       ">   }]}], \"+\", RowBox[{\"60\", \" \", SuperscriptBox[RowBox[{\"(\", \n",
       "\n",
       " \n",
       ">                       SuperscriptBox[SubscriptBox[OverscriptBox[\"r\", \"^\"], \"2\"], \n",
       "\n",
       " \n",
       ">                        \"′\"], \")\"}], \"2\"], \" \", \n",
       "\n",
       " \n",
       ">                    SuperscriptBox[OverscriptBox[\"ω\", \"^\"], \"′′\"]}], \"+\", \n",
       "\n",
       " \n",
       ">                  RowBox[{\"90\", \" \", \n",
       "\n",
       " \n",
       ">                    SuperscriptBox[SubscriptBox[OverscriptBox[\"r\", \"^\"], \"2\"], \"′\"], \n",
       "\n",
       " \n",
       ">                    \" \", SuperscriptBox[SubscriptBox[OverscriptBox[\"r\", \"^\"], \"2\"], \n",
       "\n",
       " \n",
       ">                     \"′′\"], \" \", SuperscriptBox[OverscriptBox[\"ω\", \"^\"], \"′\"]}]}],\\\n",
       " \n",
       ">    \")\"}]\\\n",
       "}], \"+\", RowBox[{SuperscriptBox[SubscriptBox[OverscriptBox[\"r\", \"^\"], \"2\"],\\\n",
       " \n",
       ">    \"′\"], \n",
       "           \" \", RowBox[{\"(\", RowBox[{RowBox[{\"30\", \" \", \n",
       "\n",
       " \n",
       ">                    SubscriptBox[OverscriptBox[\"r\", \"^\"], \"2\"], \" \", \n",
       "\n",
       " \n",
       ">                    SuperscriptBox[OverscriptBox[\"ω\", \"^\"], \"′\"], \" \", \n",
       "\n",
       " \n",
       ">                    SuperscriptBox[OverscriptBox[\"ω\", \"^\"], \"′′\"]}], \"+\", \n",
       "\n",
       " \n",
       ">                  RowBox[{\"45\", \" \", \n",
       "\n",
       " \n",
       ">                    SuperscriptBox[SubscriptBox[OverscriptBox[\"r\", \"^\"], \"2\"], \"′\"], \n",
       "\n",
       " \n",
       ">                    \" \", SuperscriptBox[RowBox[{\"(\", \n",
       "\n",
       " \n",
       ">                       SuperscriptBox[OverscriptBox[\"ω\", \"^\"], \"′\"], \")\"}], \"2\"]}], \n",
       "\n",
       " \n",
       ">                  \"-\", SuperscriptBox[SubscriptBox[OverscriptBox[\"r\", \"^\"], \"2\"], \n",
       "\n",
       " \n",
       ">                   \"′′′′′\"]}], \")\"}]}], \"-\", \n",
       "\n",
       " \n",
       ">            RowBox[{\"60\", \" \", SuperscriptBox[OverscriptBox[\"ω\", \"^\"], \"4\"], \" \", \n",
       "\n",
       " \n",
       ">              RowBox[{\"(\", RowBox[{SuperscriptBox[RowBox[{\"(\", \n",
       "\n",
       " \n",
       ">                     SuperscriptBox[SubscriptBox[OverscriptBox[\"r\", \"^\"], \"2\"], \n",
       "\n",
       " \n",
       ">                      \"′\"], \")\"}], \"2\"], \"-\", \n",
       "\n",
       " \n",
       ">                  RowBox[{\"2\", \" \", SubscriptBox[OverscriptBox[\"r\", \"^\"], \"2\"], \" \", \n",
       "\n",
       " \n",
       ">                    SuperscriptBox[SubscriptBox[OverscriptBox[\"r\", \"^\"], \"2\"],\\\n",
       " \n",
       ">    \"′′\"]}]}\\\n",
       "], \")\"}]}], \"+\", RowBox[{\"120\", \" \", SubscriptBox[OverscriptBox[\"r\",\\\n",
       " \n",
       ">    \"^\"], \"2\"], \n",
       "           \" \", SuperscriptBox[OverscriptBox[\"ω\", \"^\"], \"3\"], \" \", \n",
       "\n",
       " \n",
       ">              RowBox[{\"(\", RowBox[{RowBox[{\"2\", \" \", \n",
       "\n",
       " \n",
       ">                    SuperscriptBox[SubscriptBox[OverscriptBox[\"r\", \"^\"], \"2\"], \"′\"], \n",
       "\n",
       " \n",
       ">                    \" \", SuperscriptBox[OverscriptBox[\"ω\", \"^\"], \"′\"]}], \"+\", \n",
       "\n",
       " \n",
       ">                  RowBox[{SubscriptBox[OverscriptBox[\"r\", \"^\"], \"2\"], \" \", \n",
       "\n",
       " \n",
       ">                    SuperscriptBox[OverscriptBox[\"ω\", \"^\"], \"′′\"]}]}], \")\"}]}], \"+\", \n",
       "\n",
       " \n",
       ">            RowBox[{\"15\", \" \", SuperscriptBox[OverscriptBox[\"ω\", \"^\"], \"2\"], \" \", \n",
       "\n",
       " \n",
       ">              RowBox[{\"(\", RowBox[{RowBox[{\"12\", \" \", \n",
       "\n",
       " \n",
       ">                    SubsuperscriptBox[OverscriptBox[\"r\", \"^\"], \"2\", \"2\"], \" \", \n",
       "\n",
       " \n",
       ">                    SuperscriptBox[RowBox[{\"(\", \n",
       "\n",
       " \n",
       ">                       SuperscriptBox[OverscriptBox[\"ω\", \"^\"], \"′\"], \")\"}], \"2\"]}], \n",
       "\n",
       " \n",
       ">                  \"+\", RowBox[{\"2\", \" \", \n",
       "\n",
       " \n",
       ">                    SuperscriptBox[SubscriptBox[OverscriptBox[\"r\", \"^\"], \"2\"], \"′\"], \n",
       "\n",
       " \n",
       ">                    \" \", SuperscriptBox[SubscriptBox[OverscriptBox[\"r\", \"^\"], \"2\"], \n",
       "\n",
       " \n",
       ">                     \"′′′\"]}], \"-\", RowBox[{SubscriptBox[OverscriptBox[\"r\", \"^\"], \n",
       "\n",
       " \n",
       ">                     \"2\"], \" \", SuperscriptBox[SubscriptBox[OverscriptBox[\"r\", \"^\"], \n",
       "\n",
       " \n",
       ">                      \"2\"], \"′′′′\"]}]}], \")\"}]}], \"-\", \n",
       "\n",
       " \n",
       ">            RowBox[{RowBox[{\"48\"}], \" \", \n",
       "\n",
       " \n",
       ">              SubsuperscriptBox[OverscriptBox[\"r\", \"^\"], \"2\", \"2\"], \" \", \n",
       "\n",
       " \n",
       ">              SuperscriptBox[OverscriptBox[\"ω\", \"^\"], \"6\"]}]}], \")\"}]}],\\\n",
       " \n",
       ">    TraditionalForm]\n"
      ]
     },
     "execution_count": 90,
     "metadata": {
      "text/html": [],
      "text/plain": []
     },
     "output_type": "execute_result"
    }
   ],
   "source": [
    "dEdtTemp = RHSEnegryLagrange[[1]] //. Fh5Replacement;\n",
    "dEdt = Simplify[dEdtTemp/Subscript[\\[Epsilon], G], Trig -> True];\n",
    "dEdt // TraditionalForm"
   ]
  },
  {
   "cell_type": "markdown",
   "metadata": {},
   "source": [
    "<span style=\"color:brown\">**NB:**</span> В файлах Binary.pdf и binary_catch1.pdf выводится <span style=\"color:green\">**точно такие же**</span> выражения для правой части (dE/dt),\n",
    "а именно $I_E = I_1\\hat{\\omega} + I_2\\frac{\\dot{r}}{r}$, где\n",
    "$$\n",
    "I_2 = 2\\hat{r}_2 \\left[ -40\\hat{r}_2\\hat{\\omega}^3\\hat{\\omega}^{(1)} - 20\\hat{\\omega}^4\\hat{r}_2^{(1)} + 5\\hat{r}_2\\hat{\\omega}\\hat{\\omega}^{(3)} + 10\\hat{r}_2\\hat{\\omega}^{(1)}\\hat{\\omega}^{(2)} + 10\\hat{\\omega}^2\\hat{r}_2^{(3)} + 30\\hat{\\omega}\\hat{\\omega}^{(1)}\\hat{r}_2^{(2)} + 20\\hat{\\omega}\\hat{\\omega}^{(2)}\\hat{r}_2^{(1)} + 15\\hat{r}_2^{(1)}(\\hat{\\omega}^{(1)})^2 - \\frac{1}{3}\\hat{r}_2^{(5)} \\right]\n",
    "$$"
   ]
  },
  {
   "cell_type": "code",
   "execution_count": 92,
   "metadata": {
    "vscode": {
     "languageId": "wolfram"
    }
   },
   "outputs": [
    {
     "data": {
      "text/html": [
       "<div><pre style=\"&#102;&#111;&#110;&#116;&#45;&#102;&#97;&#109;&#105;&#108;&#121;&#58;&#32;&#34;&#67;&#111;&#117;&#114;&#105;&#101;&#114;&#32;&#78;&#101;&#119;&#34;&#44;&#67;&#111;&#117;&#114;&#105;&#101;&#114;&#44;&#109;&#111;&#110;&#111;&#115;&#112;&#97;&#99;&#101;&#59;\">&#48;</pre></div>"
      ],
      "text/plain": [
       "0"
      ]
     },
     "execution_count": 92,
     "metadata": {
      "text/html": [],
      "text/plain": []
     },
     "output_type": "execute_result"
    }
   ],
   "source": [
    "I2 = 2 * Subscript[OverHat[r], 2][OverHat[t]] * (\n",
    "    -40 * Subscript[OverHat[r], 2][OverHat[t]] *\n",
    "    OverHat[\\[Omega]][OverHat[t]]^3 * Derivative[1][OverHat[\\[Omega]]][OverHat[t]]\n",
    "    - 20 * OverHat[\\[Omega]][OverHat[t]]^4 *\n",
    "    Derivative[1][Subscript[OverHat[r], 2]][OverHat[t]]\n",
    "    + 5 * Subscript[OverHat[r], 2][OverHat[t]] *\n",
    "    OverHat[\\[Omega]][OverHat[t]] * Derivative[3][OverHat[\\[Omega]]][OverHat[t]]\n",
    "    + 10 * Subscript[OverHat[r], 2][OverHat[t]] *\n",
    "    Derivative[1][OverHat[\\[Omega]]][OverHat[t]] *\n",
    "    Derivative[2][OverHat[\\[Omega]]][OverHat[t]]\n",
    "    + 10 * OverHat[\\[Omega]][OverHat[t]]^2 *\n",
    "    Derivative[3][Subscript[OverHat[r], 2]][OverHat[t]]\n",
    "    + 30 * OverHat[\\[Omega]][OverHat[t]] *\n",
    "    Derivative[1][OverHat[\\[Omega]]][OverHat[t]] *\n",
    "    Derivative[2][Subscript[OverHat[r], 2]][OverHat[t]]\n",
    "    + 20 * OverHat[\\[Omega]][OverHat[t]] *\n",
    "    Derivative[2][OverHat[\\[Omega]]][OverHat[t]] *\n",
    "    Derivative[1][Subscript[OverHat[r], 2]][OverHat[t]]\n",
    "    + 15 * Derivative[1][Subscript[OverHat[r], 2]][OverHat[t]] *\n",
    "    Derivative[1][OverHat[\\[Omega]]][OverHat[t]]^2\n",
    "    - (1/3) * Derivative[5][Subscript[OverHat[r], 2]][OverHat[t]]\n",
    ");\n",
    "Simplify[(I2*D[OverHat[r][OverHat[t]], OverHat[t]]/OverHat[r][OverHat[t]] + I1*OverHat[\\[Omega]][OverHat[t]] /. ToR2Replacement) - dEdt]"
   ]
  },
  {
   "cell_type": "markdown",
   "metadata": {},
   "source": [
    "# Итоговые $I_J$, $I_E$\n",
    "\n",
    "$$\n",
    "\\begin{align}\n",
    "\\tag{IJ}\\\n",
    "I_J &= \\hat{r}_2 \\left[ 120\\hat{r}_2^{(1)}\\hat{\\omega}^2\\hat{\\omega}^{(1)} - 5\\hat{r}_2^{(1)}\\hat{\\omega}^{(3)} - 16\\hat{r}_2\\hat{\\omega}^5 - 10\\hat{r}_2^{(2)}\\hat{\\omega}^{(2)} + 60\\hat{r}_2\\hat{\\omega}(\\hat{\\omega}^{(1)})^2\n",
    "- 10\\hat{r}_2^{(3)}\\hat{\\omega}^{(1)} + 40\\hat{r}_2^{(2)}\\hat{\\omega}^3 - 5\\hat{r}_2^{(4)}\\hat{\\omega} - \\hat{r}_2\\hat{\\omega}^{(4)} + 40\\hat{r}_2\\hat{\\omega}^2\\hat{\\omega}^{(2)} \\right]\n",
    "\\\\\n",
    "\\tag{IE}\n",
    "I_E &= I_J\\hat{\\omega} + \\hat{r}_2^{(1)} \\left[ -40\\hat{r}_2\\hat{\\omega}^3\\hat{\\omega}^{(1)} - 20\\hat{\\omega}^4\\hat{r}_2^{(1)} + 5\\hat{r}_2\\hat{\\omega}\\hat{\\omega}^{(3)} + 10\\hat{r}_2\\hat{\\omega}^{(1)}\\hat{\\omega}^{(2)} + 10\\hat{\\omega}^2\\hat{r}_2^{(3)} + 30\\hat{\\omega}\\hat{\\omega}^{(1)}\\hat{r}_2^{(2)} + 20\\hat{\\omega}\\hat{\\omega}^{(2)}\\hat{r}_2^{(1)} + 15\\hat{r}_2^{(1)}(\\hat{\\omega}^{(1)})^2 - \\frac{1}{3}\\hat{r}_2^{(5)} \\right]\n",
    "\\end{align}\n",
    "$$"
   ]
  },
  {
   "cell_type": "markdown",
   "metadata": {},
   "source": [
    "# Попытка численного решения начального уравнения движения\n",
    "\n",
    "$$\n",
    "\\hat{r}_k^{(2)} + \\frac{\\hat{r}_k}{\\hat{r}^3} = - \\epsilon_G\\hat{f}_{ki}^{(5)}\\hat{r}_i\n",
    "$$"
   ]
  },
  {
   "cell_type": "code",
   "execution_count": 111,
   "metadata": {
    "vscode": {
     "languageId": "wolfram"
    }
   },
   "outputs": [
    {
     "data": {
      "text/html": [
       "<div><img alt=\"Output\" src=\"data:image/png;base64,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\"></div>"
      ],
      "text/plain": [
       "  ^\n",
       "{{r -> InterpolatingFunction[{{0., 200.}}, <>], \n",
       " \n",
       ">    ϕ -> InterpolatingFunction[{{0., 200.}}, <>]}}"
      ]
     },
     "execution_count": 111,
     "metadata": {
      "text/html": [],
      "text/plain": []
     },
     "output_type": "execute_result"
    }
   ],
   "source": [
    "Clear[rxNum, ryNum, uxNum, uyNum, tMaxNum, rhRules, icsNum, MaxDNum, epsilonGNum]\n",
    "\n",
    "rxNum = 10^2;\n",
    "uxNum = -0.0;\n",
    "\n",
    "(* зафиксированны *)\n",
    "ryNum = 1;\n",
    "uyNum = 0;\n",
    "\n",
    "(* Newton *)\n",
    "epsilonGNum = 0;\n",
    "epsilonGNum = 0.1;\n",
    "tMaxNum = 2*10^2;\n",
    "\n",
    "rhNum = {\n",
    "  Subscript[OverHat[r], \"x\"][OverHat[t]], Subscript[OverHat[r], \"y\"][OverHat[t]]\n",
    "  };\n",
    "D[rhNum, OverHat[t]];\n",
    "\n",
    "rhRules[MaxDNum_] := Join[\n",
    "  Thread[rhNum -> ({rxNum, ryNum} /. OverHat[t] -> 0)],\n",
    "  Thread[D[rhNum, OverHat[t]] -> ({uxNum, uyNum} /. OverHat[t] -> 0)],\n",
    "  Flatten[Table[\n",
    "    Thread[D[rhNum, {OverHat[t], i}] -> {0, 0}],\n",
    "    {i, 2, Max[MaxDNum, 2]}\n",
    "  ]] /. OverHat[t] -> 0,\n",
    "  {OverHat[t] -> 0}\n",
    "];\n",
    "\n",
    "icsNum[MaxDNum_] := Join[\n",
    "  Simplify[Table[D[OverHat[r][OverHat[t]] -> Sqrt[rhNum.rhNum], {OverHat[t], i}], {i, 0, Max[MaxDNum, 1]}] //. rhRules[MaxDNum]],\n",
    "  Simplify[Table[D[\\[Phi][OverHat[t]] -> ArcTan[rhNum[[1]], rhNum[[2]]], {OverHat[t], i}], {i, 0, Max[MaxDNum, 1]}] //. rhRules[MaxDNum]]\n",
    "];\n",
    "\n",
    "fh5SymbolicNum = Simplify[D[fh, {OverHat[t], 5}], Trig -> True];\n",
    "\n",
    "Fh5ReplacementNum = Flatten[{\n",
    "  Outer[\n",
    "    Superscript[Subscript[OverHat[f], #1, #2], \"(5)\"] -> fh5SymbolicNum[[#1 /. {x -> 1, y -> 2}, #2 /. {x -> 1, y -> 2}]] &,\n",
    "    {x, y}, {x, y}\n",
    "  ]\n",
    "}];\n",
    "\n",
    "sysNum = Simplify[D[rh, {OverHat[t], 2}] + rh/OverHat[r][OverHat[t]]^3 + epsilonGNum*fh5rh //. Fh5ReplacementNum];\n",
    "eqnsNum = {sysNum[[1]] == 0, sysNum[[2]] == 0};\n",
    "solNum = NDSolve[Join[eqnsNum, icsNum[If[epsilonGNum == 0, 1, 4]]] /. Rule -> Equal, {OverHat[r], \\[Phi]}, {OverHat[t], 0, tMaxNum}\n",
    "  (* WorkingPrecision -> 30,\n",
    "  PrecisionGoal -> 20,\n",
    "  AccuracyGoal -> 20,\n",
    "  Method -> \"StiffnessSwitching\",\n",
    "  MaxSteps -> 10^7 *)\n",
    "]"
   ]
  },
  {
   "cell_type": "code",
   "execution_count": 122,
   "metadata": {
    "vscode": {
     "languageId": "wolfram"
    }
   },
   "outputs": [
    {
     "data": {
      "text/html": [
       "<div><img alt=\"Output\" src=\"data:image/png;base64,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\"></div>"
      ],
      "text/plain": [
       "-Graphics-"
      ]
     },
     "execution_count": 122,
     "metadata": {
      "text/html": [],
      "text/plain": []
     },
     "output_type": "execute_result"
    }
   ],
   "source": [
    "tMaxNum2 = tMaxNum;\n",
    "\n",
    "RNum = OverHat[r][t] /. solNum[[1]];\n",
    "PhiNum = \\[Phi][t] /. solNum[[1]];\n",
    "dRDtNum = D[OverHat[r][t] /. solNum[[1]], t];\n",
    "OmegaNum = D[\\[Phi][t] /. solNum[[1]], t];\n",
    "\n",
    "PlotR = Plot[RNum, {t, 0, tMaxNum2},\n",
    "  AxesLabel -> {TraditionalForm[OverHat[t]], TraditionalForm[OverHat[r]]},\n",
    "  PlotRange -> All,\n",
    "  ScalingFunctions -> {\"Log\", \"Log\"}\n",
    "];\n",
    "\n",
    "PlotRxRy = ParametricPlot[\n",
    "  {RNum Cos[PhiNum], RNum Sin[PhiNum]},\n",
    "  {t, 0, tMaxNum2},\n",
    "  AxesLabel -> {TraditionalForm[Subscript[OverHat[r], \"x\"]], TraditionalForm[Subscript[OverHat[r], \"y\"]]},\n",
    "  PlotRange -> All,\n",
    "  ScalingFunctions -> {\"SignedLog\", \"SignedLog\"}\n",
    "];\n",
    "\n",
    "PlotDRDt = Plot[dRDtNum, {t, 0, tMaxNum2},\n",
    "  AxesLabel -> {\n",
    "  TraditionalForm[OverHat[t]],\n",
    "  Style[TraditionalForm[HoldForm[D[OverHat[r], OverHat[t]]]], FontSize -> 7]\n",
    "  },\n",
    "  PlotRange -> All,\n",
    "  ScalingFunctions -> {\"Log\", \"SignedLog\"}\n",
    "];\n",
    "\n",
    "PlotPhi = Plot[PhiNum, {t, 0, tMaxNum2},\n",
    "  AxesLabel -> {TraditionalForm[OverHat[t]], TraditionalForm[OverHat[\\[Phi]]]},\n",
    "  PlotRange -> All,\n",
    "  ScalingFunctions -> {\"Linear\", \"Linear\"},\n",
    "  PlotStyle -> Red\n",
    "];\n",
    "\n",
    "PlotOmega = Plot[OmegaNum, {t, 0, tMaxNum2},\n",
    "  AxesLabel -> {TraditionalForm[OverHat[t]], TraditionalForm[OverHat[\\[Omega]]]},\n",
    "  PlotRange -> All,\n",
    "  ScalingFunctions -> {\"Log\", \"SignedLog\"},\n",
    "  PlotStyle -> Red\n",
    "];\n",
    "\n",
    "GraphicsRow[{PlotR, PlotRxRy, PlotDRDt, PlotPhi, PlotOmega}]"
   ]
  },
  {
   "cell_type": "code",
   "execution_count": 133,
   "metadata": {
    "vscode": {
     "languageId": "wolfram"
    }
   },
   "outputs": [
    {
     "data": {
      "text/html": [
       "<div><img alt=\"Output\" src=\"data:image/png;base64,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\"></div>"
      ],
      "text/plain": [
       "-Graphics-"
      ]
     },
     "execution_count": 133,
     "metadata": {
      "text/html": [],
      "text/plain": []
     },
     "output_type": "execute_result"
    }
   ],
   "source": [
    "EnergyNewtonNum = Energy /. OverHat[\\[Omega]][OverHat[t]] -> D[\\[Phi][OverHat[t]], OverHat[t]] /. OverHat[t] -> 0 /. icsNum[1];\n",
    "\n",
    "EnergyNum = Energy /. {\n",
    "  OverHat[r][OverHat[t]] -> RNum,\n",
    "  D[OverHat[r][OverHat[t]], OverHat[t]] -> dRDtNum,\n",
    "  OverHat[\\[Omega]][OverHat[t]] -> OmegaNum\n",
    "  };\n",
    "\n",
    "plotENewton = Plot[\n",
    "  EnergyNewtonNum, {t, 0, tMaxNum2},\n",
    "  PlotStyle -> Red,\n",
    "  ScalingFunctions -> {\"Log\", \"Linear\"},\n",
    "  PlotLegends -> {\"E Newton\"}\n",
    "];\n",
    "\n",
    "plotE = Plot[EnergyNum, {t, 0, tMaxNum2},\n",
    "  AxesLabel -> {TraditionalForm[OverHat[t]], \"E\"},\n",
    "  ScalingFunctions -> {\"Log\", \"Linear\"},\n",
    "  PlotLegends -> {TraditionalForm[\"E\"[OverHat[t]]]},\n",
    "  PlotRange -> All\n",
    "];\n",
    "\n",
    "PlotsE = Show[plotENewton, plotE, PlotRange -> All];\n",
    "\n",
    "AngularMomentumNewtonNum = AngularMomentum /. OverHat[\\[Omega]][OverHat[t]] -> D[\\[Phi][OverHat[t]], OverHat[t]] /. OverHat[t] -> 0 /. icsNum[1];\n",
    "\n",
    "AngularMomentumNum = AngularMomentum /. {\n",
    "  OverHat[r][OverHat[t]] -> RNum,\n",
    "  OverHat[\\[Omega]][OverHat[t]] -> OmegaNum\n",
    "};\n",
    "\n",
    "plotJNewton = Plot[\n",
    "  AngularMomentumNewtonNum, {t, 0, tMaxNum2},\n",
    "  PlotStyle -> Red,\n",
    "  ScalingFunctions -> {\"Log\", \"Linear\"},\n",
    "  PlotLegends -> {\"J Newton\"}\n",
    "];\n",
    "\n",
    "plotJ = Plot[AngularMomentumNum, {t, 0, tMaxNum2},\n",
    "  AxesLabel -> {TraditionalForm[OverHat[t]], \"J\"},\n",
    "  ScalingFunctions -> {\"Log\", \"Linear\"},\n",
    "  PlotLegends -> {TraditionalForm[\"J\"[OverHat[t]]]},\n",
    "  PlotRange -> All\n",
    "];\n",
    "\n",
    "PlotsJ = Show[plotJNewton, plotJ, PlotRange -> All];\n",
    "\n",
    "GraphicsRow[{PlotsE, PlotsJ}]"
   ]
  },
  {
   "cell_type": "markdown",
   "metadata": {},
   "source": [
    "<span style=\"color:brown\">**NB:**</span> Как можно видеть, численное решение при помощи Mathematica с участием пятой производной по времени пока не выполнимая задача."
   ]
  },
  {
   "cell_type": "markdown",
   "metadata": {},
   "source": [
    "# Потеря энергии за один период обращения"
   ]
  },
  {
   "cell_type": "markdown",
   "metadata": {},
   "source": [
    "Энергию гравитационного излучения невозможно локализовать в области меньше длины одной волны.\n",
    "\n",
    "Поэтому мгновенные изменения энергии и момента не имеют физического смысла.\n",
    "\n",
    "Однако, если мы просуммируем энергию и момент по полному периоду обращения, то с такими величинами можно работать.\n",
    "\n",
    "Рассчитаем в **нулевом приближении**, сколько энергии уносится из системы\n",
    "\n",
    "гравитационными волнами за один полный оборот, интегрируя по ньютоновской гиперболической траектории\n",
    "\n",
    "начиная с момента, когда тело \"бесконечно\" далеко, до момента минимального сближения (до перицентра) и обратно:\n",
    "$$\n",
    "\\Delta \\hat{E} = 2 \\epsilon_G \\int\\limits_{\\hat{t}_{\\text{min}}}^{\\infty}I_E(\\hat{t}) d \\hat{t}.\n",
    "$$"
   ]
  },
  {
   "cell_type": "markdown",
   "metadata": {},
   "source": [
    "В приближении Ньютона $I_J$ и $I_E$ равны нулю.\n",
    "Тогда и момент импульса и энергия сохраняются.\n",
    "\n",
    "$\\hat{J} = |\\vec{\\hat{r}} \\times \\vec{\\hat{v}}| = |\\vec{\\hat{r}}_\\infty \\times \\vec{\\hat{v}}_\\infty| = \\hat{r}\\hat{v}_\\infty \\sin(\\phi)$\n",
    "\n",
    "Так как $\\phi = \\pi/2$ на бесконечности, то $\\hat{J} = b\\hat{v}_\\infty = u$,\n",
    "то $u$ - безразмерная скорость на бесконечности.\n",
    "\n",
    "Отсюда следует, что $\\hat{\\omega} = \\frac{u}{\\hat{r}_2}$"
   ]
  },
  {
   "cell_type": "code",
   "execution_count": 134,
   "metadata": {
    "vscode": {
     "languageId": "wolfram"
    }
   },
   "outputs": [],
   "source": [
    "OmegaReplace2 = {\n",
    "   OverHat[\\[Omega]][OverHat[t]] -> u/Subscript[OverHat[r], 2][OverHat[t]],\n",
    "   Derivative[n_][OverHat[\\[Omega]]][OverHat[t]] :> u D[1/Subscript[OverHat[r], 2][OverHat[t]], {OverHat[t], n}]\n",
    "};"
   ]
  },
  {
   "cell_type": "markdown",
   "metadata": {},
   "source": [
    "Заменим переменные\n",
    "$$\n",
    "\\Delta \\hat{E} = - 2 \\epsilon_G \\int\\limits_{\\hat{r}_2^{\\text{min}}}^{\\infty}\\frac{I_E(\\hat{r}_2)}{\\hat{r}_2^{(1)}}d \\hat{r}_2,\n",
    "$$"
   ]
  },
  {
   "cell_type": "markdown",
   "metadata": {},
   "source": [
    "Здесь $\\hat{r}_2^{\\text{min}}$ - квадрат минимального расстояния между объектами:"
   ]
  },
  {
   "cell_type": "code",
   "execution_count": 136,
   "metadata": {
    "vscode": {
     "languageId": "wolfram"
    }
   },
   "outputs": [
    {
     "data": {
      "text/html": [
       "<div><img alt=\"Output\" src=\"data:image/png;base64,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\"></div>"
      ],
      "text/plain": [
       "FormBox[FractionBox[RowBox[{SuperscriptBox[\"u\", \"4\"], \"-\", \n",
       "\n",
       " \n",
       ">         RowBox[{\"2\", \" \", SqrtBox[RowBox[{SuperscriptBox[\"u\", \"4\"], \"+\", \"1\"}]]}],\\\n",
       " \n",
       ">    \"+\", \n",
       "      \"2\"}], SuperscriptBox[\"u\", \"4\"]], TraditionalForm]\n"
      ]
     },
     "execution_count": 136,
     "metadata": {
      "text/html": [],
      "text/plain": []
     },
     "output_type": "execute_result"
    }
   ],
   "source": [
    "rMin2[u_] := (2 + u^4 - 2 Sqrt[1 + u^4])/u^4;\n",
    "rMin2[u] // TraditionalForm"
   ]
  },
  {
   "cell_type": "code",
   "execution_count": 139,
   "metadata": {
    "vscode": {
     "languageId": "wolfram"
    }
   },
   "outputs": [
    {
     "data": {
      "text/html": [
       "<div><img alt=\"Output\" src=\"data:image/png;base64,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\"></div>"
      ],
      "text/plain": [
       "FormBox[RowBox[{FractionBox[RowBox[{\"16\", \" \", SuperscriptBox[\"u\", \"6\"]}], \n",
       "\n",
       " \n",
       ">         RowBox[{SubsuperscriptBox[OverscriptBox[\"r\", \"^\"], \"2\", \"4\"], \" \", \n",
       "\n",
       " \n",
       ">           SuperscriptBox[SubscriptBox[OverscriptBox[\"r\", \"^\"], \"2\"], \"′\"]}]], \"-\", \n",
       "\n",
       " \n",
       ">        FractionBox[RowBox[{\"40\", \" \", SuperscriptBox[\"u\", \"4\"], \" \", \n",
       "\n",
       " \n",
       ">           SuperscriptBox[SubscriptBox[OverscriptBox[\"r\", \"^\"], \"2\"], \"′\"]}], \n",
       "\n",
       " \n",
       ">         SubsuperscriptBox[OverscriptBox[\"r\", \"^\"], \"2\", \"4\"]], \"-\", \n",
       "\n",
       " \n",
       ">        FractionBox[RowBox[{\"4\", \" \", SuperscriptBox[\"u\", \"2\"], \" \", \n",
       "\n",
       " \n",
       ">           SuperscriptBox[RowBox[{\"(\", \n",
       "\n",
       " \n",
       ">              SuperscriptBox[SubscriptBox[OverscriptBox[\"r\", \"^\"], \"2\"], \"′′\"], \")\"}], \n",
       "\n",
       " \n",
       ">            \"2\"]}], RowBox[{SubsuperscriptBox[OverscriptBox[\"r\", \"^\"], \"2\", \"2\"], \" \", \n",
       "\n",
       " \n",
       ">           SuperscriptBox[SubscriptBox[OverscriptBox[\"r\", \"^\"], \"2\"], \"′\"]}]], \"+\", \n",
       "\n",
       " \n",
       ">        FractionBox[RowBox[{\"24\", \" \", SuperscriptBox[\"u\", \"2\"], \" \", \n",
       "\n",
       " \n",
       ">           SuperscriptBox[SubscriptBox[OverscriptBox[\"r\", \"^\"], \"2\"], \"′\"], \" \", \n",
       "\n",
       " \n",
       ">           SuperscriptBox[SubscriptBox[OverscriptBox[\"r\", \"^\"], \"2\"], \"′′\"]}], \n",
       "\n",
       " \n",
       ">         SubsuperscriptBox[OverscriptBox[\"r\", \"^\"], \"2\", \"3\"]], \"+\", \n",
       "\n",
       " \n",
       ">        FractionBox[RowBox[{\"4\", \" \", SuperscriptBox[\"u\", \"2\"], \" \", \n",
       "\n",
       " \n",
       ">           SuperscriptBox[SubscriptBox[OverscriptBox[\"r\", \"^\"], \"2\"], \"′′′′\"]}], \n",
       "\n",
       " \n",
       ">         RowBox[{SubscriptBox[OverscriptBox[\"r\", \"^\"], \"2\"], \" \", \n",
       "\n",
       " \n",
       ">           SuperscriptBox[SubscriptBox[OverscriptBox[\"r\", \"^\"], \"2\"], \"′\"]}]], \"-\", \n",
       "\n",
       " \n",
       ">        FractionBox[RowBox[{\"11\", \" \", SuperscriptBox[\"u\", \"2\"], \" \", \n",
       "\n",
       " \n",
       ">           SuperscriptBox[RowBox[{\"(\", \n",
       "\n",
       " \n",
       ">              SuperscriptBox[SubscriptBox[OverscriptBox[\"r\", \"^\"], \"2\"], \"′\"], \")\"}], \n",
       "\n",
       " \n",
       ">            \"3\"]}], SubsuperscriptBox[OverscriptBox[\"r\", \"^\"], \"2\", \"4\"]], \"-\", \n",
       "\n",
       " \n",
       ">        FractionBox[RowBox[{\"12\", \" \", SuperscriptBox[\"u\", \"2\"], \" \", \n",
       "\n",
       " \n",
       ">           SuperscriptBox[SubscriptBox[OverscriptBox[\"r\", \"^\"], \"2\"], \"′′′\"]}], \n",
       "\n",
       " \n",
       ">         SubsuperscriptBox[OverscriptBox[\"r\", \"^\"], \"2\", \"2\"]], \"+\", \n",
       "\n",
       " \n",
       ">        FractionBox[SuperscriptBox[SubscriptBox[OverscriptBox[\"r\", \"^\"], \"2\"],\\\n",
       " \n",
       ">    \"′′′′′\"], \n",
       "      \"3\"]}], TraditionalForm]\n"
      ]
     },
     "execution_count": 139,
     "metadata": {
      "text/html": [],
      "text/plain": []
     },
     "output_type": "execute_result"
    }
   ],
   "source": [
    "(* Минус учтём сразу *)\n",
    "dEdr = Simplify[-dEdt/D[Subscript[OverHat[r], 2][OverHat[t]], OverHat[t]] //. OmegaReplace2];\n",
    "Expand[Simplify[dEdr]] // TraditionalForm"
   ]
  },
  {
   "cell_type": "markdown",
   "metadata": {},
   "source": [
    "<span style=\"color:brown\">**NB:**</span> Выражение для $dE/dr$ <span style=\"color:green\">**сопадает**</span> с выраженем для интегранта из binary_catch1.pdf, если учесть деление на $\\hat{r}_2^{(1)}$"
   ]
  },
  {
   "cell_type": "markdown",
   "metadata": {},
   "source": [
    "Из сохранения энергии следует, что\n",
    "$\\hat{E} = \\hat{E}_\\infty = \\frac{u^2}{2} = \\left(\\frac{(\\hat{r}^{(1)})^2}{2} + \\frac{\\hat{r}^2 \\hat{\\omega}^2}{2} - \\frac{1}{\\hat{r}}\\right)$\n",
    "\n",
    "Тогда можно найти $\\hat{r}_2^{(1)}$:"
   ]
  },
  {
   "cell_type": "code",
   "execution_count": 142,
   "metadata": {
    "vscode": {
     "languageId": "wolfram"
    }
   },
   "outputs": [
    {
     "data": {
      "text/html": [
       "<div><img alt=\"Output\" src=\"data:image/png;base64,iVBORw0KGgoAAAANSUhEUgAAALIAAAAdCAIAAACBoqEEAAAAzHpUWHRSYXcgcHJvZmlsZSB0eXBlIGV4aWYAAHjabU/bDcMgEPtnio5wL3wwDkmI1A06fo8EtaKqJc7G94LUX88zPQaEKVn2ggpQwKpVaSEK3biZqV7xwiYzx6uf+Jh+Cyt/E+jT31bfcbOUn0E0N+jYEFptNsxBKrfPbX2RtFLWQUoLQJ+n/72buiCD3SKakDtq6JJCBiELZceJHYhCxiFke3CHe7TBR4W20Tgg3dfqnqBhHOMLOk7WFqwRWUu0siK0hTeiyDaz10fSG46gWt+0dTQvAAAACXBIWXMAAA7EAAAOxAGVKw4bAAAAPHRFWHRTb2Z0d2FyZQBDcmVhdGVkIHdpdGggdGhlIFdvbGZyYW0gTGFuZ3VhZ2UgOiB3d3cud29sZnJhbS5jb21coqaFAAAAIXRFWHRDcmVhdGlvbiBUaW1lADIwMjU6MDM6MTggMTY6NDA6NDKgTTMlAAAHKElEQVRoge2ba0xS/x/Hv1zaj2oL5mWGkrVsmauVGG09aEsS0Far0EwrWqvVrLXFg7Is7EEzR7a2ntActmWX9aCL1JManIZCY0upRhchu6yLYKWh4zJDBc75PTi/nZ0/GOcCB9z+vh7x/fD9fj+f92cfzvnyOcBCEASkEbvdrlKpli5dmk6ns5Bk9+7d+/fvBwCw0lwW169f5/F4e/bsSafTWajCTrM/p9O5atWqNDudhSrcNPsbGBgoLi5Os9OM4/F4Xr9+TXVVSUlJUVERE/EQku6ymJyc/Oeff9LsNON0dnYGAoHFixdTWlVQUMBQPISktSx8Pp9AIGDUBQzDZ86cCQaDk5OTMAxfu3aNy0136cfjcDg6Ozv5fH6mA/kPwiylNWVOp3PlypWMujCbzRAEORwOAEB+fn5XV1ddXR2jHskQCARmTk0AEllK65Gzv7+f6fNmRUWFxWIBACAIAsOw1+tl1B0ZRkZGcnNzMx3F/0CYpbSWRfzVQqvV8vl8Gsexv8Fms9HPpcVigWG4uro6VTvT5tWrV2vXrsVbUq6aKsRZQojw+/0nT57cvHnz3r17JRJJR0cH4ZK/UVVVNTU1hQ2tVqtSqbTZbJs2bQoEArS3jcflcikUiu/fvyezSaqEt7S0dHd3Y0PmVFMlQZaIy0IqlYpEovHxcQRBbt26BQB4+PAhvThkMhl+eP/+/Wg0iiDIz58/LRYLvT3jcTgchw8fRgNOhlQJr66u9vl82JAh1VRJnCWCsgiFQvPnz79y5Qo6HBwcBACoVCoacYyMjNTX18fbo9EoDMM0NkQQJBwOx1i8Xu+WLVsikQg6fPz4Mb2dUyg85sOAkoxqqtDIEsHZgsfjOZ1OtVqNDhcsWAAAGB4epnE/iz9YtLS0yGQyoVA4Nja2b9++3NzcHz9+kNmqvb1927ZtQqHQZDKhlmAwWFJS0t7ertPprFarSCQSCoVZWVnPnj2jESpInXCv15udnY230FZNlaSyRKnuzGYzAODUqVM0alan0xkMBrwlEols3769oqKiqampubm5pqYGf/JIAAzDx44d43A42MX50aNHAIA3b96Qj0ev1/f395OcTFu40Wi8dOkS3kJbNVWSyRKFsoBhWCaTFRYW/v79m0aUR44c+fjxY4xRLBaLxeIPHz5Q3a2yslIikWDDAwcOZGdnU7osNzQ09PT0kJlJXngwGIyxtLa2ms3mGCNt1VShnSUKX1A1Go3f7+/r68vJyUk8s7u7G4KgGOOXL19inqf/+fPn3bt3y5YtW758OfkwAADhcNhms5WXl6PDiYkJg8GwceNGFotFaR+SkBE+NTWl1WqXLFkyNDSEtzscjrKyMryFtmqqJJMlLoIg2L0Hz8KFC0tLS7Fhc3Ozy+WyWq1z585NsN3Q0NC5c+dsNtu8efPkcjkWAYIg0WiUw+HgJ798+TISidTX12MWkq3rFy9ejI+PY4L1er3f75dKpYRq8WLdbrfdbp+YmIgXi4eMcLfbrdFodu7cyePxzp8/39HRgb3l9/tj+v20VcfEj2fa+GlnCaBlYTQa498oLS3FPGk0Grfb/eDBA8LnCzabTavVejweiUQCQVBlZSVq//Xrl1AojJn8/PlzLperUCgwC8nWdU9PD5vN3rBhAwDA6/XeuXMHAIDpTwBeLFoW6HEPLxYPSeEFBQU3b95ksVjDw8NHjx49ceIE+pR4dHQ0KysrVapj4sczbfy0s/Sfp8TcuHFj69at+BvS4OAg/ov4tMhksvLycmwIQdDFixdj5uzYsWP9+vV4SzQaRXeGYTgvL0+n0027uUKhWLNmDfr67NmzDQ0NOTk5MAzfu3ePUA4G4dmChvBwOFxcXFxTU4MOIQhqa2uLmUNbNVWSyRLB2WJ0dFStVldVVUEQZDKZTCaTwWBQqVRsNsHC06dPWyyWvr4+dDjtQ7Le3t6Y4iXZuv706ROfzw+FQm1tbUql0uPxiMXiJ0+epPDxLD3hXC63tbW1q6vLbreD6dreIAnVVEkqS4mr5urVq/FLYop9WmAYLisrUyqV6PDQoUNfv37FT/j27Vt+fj6+K4xB2Lo+fvy4QCCora39/PkzgiCNjY0ikUiv1xNGhSfx1SIZ4evWrZNKpTAM19bWjo2N4d9NRjVVkskStb4FJe7evctisd6/f48giFwuRzu+hKSqdZ1B0CaH0WiUy+Ukl8w01QyWRSQSKSoqOnjwIPq9n8ySVLWuM45CoVixYsWuXbvITJ6Bqhl8sM7hcBobG2/fvt3b27to0SIyS1LVus44Wq12YGAgpmPxN2aiakaLLhQK5eXlrV69+vLly4w6moHU1dU9ffo001HQhNmf4fB4PLVa/fbt2//DPwFcuHCB5NViBsL434d8Pl9hYaHL5RKJRIw6miWFMP6jPYFA0NTUlMHfts9Cg3T82TAcDs+ZM4dpL7OkkH8BiDPMsIvldxUAAAAASUVORK5CYII=\"></div>"
      ],
      "text/plain": [
       "FormBox[RowBox[{RowBox[{\"-\", \"2\"}], \" \", \n",
       "\n",
       " \n",
       ">        SqrtBox[RowBox[{RowBox[{SubscriptBox[OverscriptBox[\"r\", \"^\"], \"2\"], \" \", \n",
       "\n",
       " \n",
       ">             SuperscriptBox[\"u\", \"2\"]}], \"+\", \n",
       "\n",
       " \n",
       ">           RowBox[{\"2\", \" \", SqrtBox[SubscriptBox[OverscriptBox[\"r\", \"^\"], \"2\"]]}],\\\n",
       " \n",
       ">    \"-\", \n",
       "        SuperscriptBox[\"u\", \"2\"]}]]}], TraditionalForm]\n"
      ]
     },
     "execution_count": 142,
     "metadata": {
      "text/html": [],
      "text/plain": []
     },
     "output_type": "execute_result"
    }
   ],
   "source": [
    "eq = Energy - u^2/2 //. Flatten[{\n",
    "  ToR2Replacement,\n",
    "  OmegaReplace2,\n",
    "  D[Subscript[OverHat[r], 2][OverHat[t]], OverHat[t]]^2 -> x^2\n",
    "}];\n",
    "\n",
    "sol = Solve[eq == 0, x][[1]];\n",
    "\n",
    "x /. sol[[1]] // TraditionalForm"
   ]
  },
  {
   "cell_type": "markdown",
   "metadata": {},
   "source": [
    "А также $\\hat{r}_2^{(i)}$ для $i = 1\\dots5$"
   ]
  },
  {
   "cell_type": "code",
   "execution_count": 146,
   "metadata": {
    "vscode": {
     "languageId": "wolfram"
    }
   },
   "outputs": [
    {
     "data": {
      "text/html": [
       "<div><img alt=\"Output\" src=\"data:image/png;base64,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\"></div>"
      ],
      "text/plain": [
       "FormBox[RowBox[{\"{\", RowBox[{RowBox[{RowBox[{\"-\", \"2\"}], \" \", \n",
       "\n",
       " \n",
       ">            SqrtBox[RowBox[{RowBox[{SubscriptBox[OverscriptBox[\"r\", \"^\"], \"2\"], \" \", \n",
       "\n",
       " \n",
       ">                 SuperscriptBox[\"u\", \"2\"]}], \"+\", \n",
       "\n",
       " \n",
       ">               RowBox[{\"2\", \" \", SqrtBox[SubscriptBox[OverscriptBox[\"r\", \"^\"], \"2\"]]}],\\\n",
       " \n",
       ">    \n",
       "            \"-\", SuperscriptBox[\"u\", \"2\"]}]]}], \",\", \n",
       "\n",
       " \n",
       ">          RowBox[{\"2\", \" \", RowBox[{\"(\", \n",
       "           RowBox[{FractionBox[\"1\", \n",
       "\n",
       " \n",
       ">                 SqrtBox[SubscriptBox[OverscriptBox[\"r\", \"^\"], \"2\"]]], \"+\", \n",
       "\n",
       " \n",
       ">                SuperscriptBox[\"u\", \"2\"]}], \")\"}]}], \",\", \n",
       "\n",
       " \n",
       ">          FractionBox[RowBox[{\"2\", \" \", \n",
       "\n",
       " \n",
       ">             SqrtBox[RowBox[{RowBox[{SubscriptBox[OverscriptBox[\"r\", \"^\"], \"2\"], \" \", \n",
       "\n",
       " \n",
       ">                  SuperscriptBox[\"u\", \"2\"]}], \"+\", \n",
       "\n",
       " \n",
       ">                RowBox[{\"2\", \" \", SqrtBox[SubscriptBox[OverscriptBox[\"r\", \"^\"], \n",
       "\n",
       " \n",
       ">                    \"2\"]]}], \"-\", SuperscriptBox[\"u\", \"2\"]}]]}], \n",
       "\n",
       " \n",
       ">           SubsuperscriptBox[OverscriptBox[\"r\", \"^\"], \"2\", RowBox[{\"3\", \"/\", \"2\"}]]], \n",
       "\n",
       " \n",
       ">          \",\", FractionBox[RowBox[{\"2\", \" \", \n",
       "\n",
       " \n",
       ">             RowBox[{\"(\", RowBox[{RowBox[{\"2\", \" \", \n",
       "\n",
       " \n",
       ">                   SubscriptBox[OverscriptBox[\"r\", \"^\"], \"2\"], \" \", \n",
       "\n",
       " \n",
       ">                   SuperscriptBox[\"u\", \"2\"]}], \"+\", \n",
       "\n",
       " \n",
       ">                 RowBox[{\"5\", \" \", SqrtBox[SubscriptBox[OverscriptBox[\"r\", \"^\"], \n",
       "\n",
       " \n",
       ">                     \"2\"]]}], \"-\", RowBox[{\"3\", \" \", SuperscriptBox[\"u\", \"2\"]}]}],\\\n",
       " \n",
       ">    \")\"}\\\n",
       "]}], SubsuperscriptBox[OverscriptBox[\"r\", \"^\"], \"2\", RowBox[{\"5\", \"/\",\\\n",
       " \n",
       ">    \"2\"}]]], \",\", \n",
       "       FractionBox[RowBox[{\"2\", \" \", \n",
       "\n",
       " \n",
       ">             SqrtBox[RowBox[{RowBox[{SubscriptBox[OverscriptBox[\"r\", \"^\"], \"2\"], \" \", \n",
       "\n",
       " \n",
       ">                  SuperscriptBox[\"u\", \"2\"]}], \"+\", \n",
       "\n",
       " \n",
       ">                RowBox[{\"2\", \" \", SqrtBox[SubscriptBox[OverscriptBox[\"r\", \"^\"], \n",
       "\n",
       " \n",
       ">                    \"2\"]]}], \"-\", SuperscriptBox[\"u\", \"2\"]}]], \" \", \n",
       "\n",
       " \n",
       ">             RowBox[{\"(\", RowBox[{RowBox[{\"6\", \" \", \n",
       "\n",
       " \n",
       ">                   SubscriptBox[OverscriptBox[\"r\", \"^\"], \"2\"], \" \", \n",
       "\n",
       " \n",
       ">                   SuperscriptBox[\"u\", \"2\"]}], \"+\", \n",
       "\n",
       " \n",
       ">                 RowBox[{\"20\", \" \", SqrtBox[SubscriptBox[OverscriptBox[\"r\", \"^\"], \n",
       "\n",
       " \n",
       ">                     \"2\"]]}], \"-\", RowBox[{\"15\", \" \", SuperscriptBox[\"u\", \"2\"]}]}],\\\n",
       " \n",
       ">    \")\"}\\\n",
       "]}], SubsuperscriptBox[OverscriptBox[\"r\", \"^\"], \"2\", RowBox[{\"7\", \"/\",\\\n",
       " \n",
       ">    \"2\"}]]]}], \"}\"}]\\\n",
       ", TraditionalForm]\n"
      ]
     },
     "execution_count": 146,
     "metadata": {
      "text/html": [],
      "text/plain": []
     },
     "output_type": "execute_result"
    }
   ],
   "source": [
    "replacementRule = D[Subscript[OverHat[r], 2][OverHat[t]], OverHat[t]] :> x /. sol[[1]];\n",
    "\n",
    "(* Рекурсивно вычисляем производные *)\n",
    "dr2 = NestList[\n",
    "   Simplify[D[#, OverHat[t]] /. replacementRule] &,\n",
    "   x /. sol[[1]],\n",
    "   4\n",
    "];\n",
    "\n",
    "dr2 // TraditionalForm"
   ]
  },
  {
   "cell_type": "markdown",
   "metadata": {},
   "source": [
    "Заменяя вхождение **всех** производных в выражении для $dE/dr$, получим"
   ]
  },
  {
   "cell_type": "code",
   "execution_count": 148,
   "metadata": {
    "vscode": {
     "languageId": "wolfram"
    }
   },
   "outputs": [
    {
     "data": {
      "text/html": [
       "<div><img alt=\"Output\" src=\"data:image/png;base64,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\"></div>"
      ],
      "text/plain": [
       "FormBox[FractionBox[RowBox[{\"2\", \" \", \n",
       "      RowBox[{\"(\", RowBox[{RowBox[{\"6\", \" \", \n",
       "\n",
       " \n",
       ">               SubsuperscriptBox[OverscriptBox[\"r\", \"^\"], \"2\", \"2\"], \" \", \n",
       "\n",
       " \n",
       ">               SuperscriptBox[\"u\", \"4\"]}], \"+\", \n",
       "\n",
       " \n",
       ">             RowBox[{SubscriptBox[OverscriptBox[\"r\", \"^\"], \"2\"], \" \", \n",
       "\n",
       " \n",
       ">               RowBox[{\"(\", RowBox[{RowBox[{\"51\", \" \", SuperscriptBox[\"u\", \"4\"]}], \n",
       "\n",
       " \n",
       ">                   \"+\", \"40\"}], \")\"}]}], \"+\", \n",
       "\n",
       " \n",
       ">             RowBox[{\"32\", \" \", SubsuperscriptBox[OverscriptBox[\"r\", \"^\"], \"2\", \n",
       "\n",
       " \n",
       ">                RowBox[{\"3\", \"/\", \"2\"}]], \" \", SuperscriptBox[\"u\", \"2\"]}], \"+\", \n",
       "\n",
       " \n",
       ">             RowBox[{\"100\", \" \", SqrtBox[SubscriptBox[OverscriptBox[\"r\", \"^\"], \"2\"]], \n",
       "\n",
       " \n",
       ">               \" \", SuperscriptBox[\"u\", \"2\"]}], \"-\", \n",
       "\n",
       " \n",
       ">             RowBox[{\"75\", \" \", SuperscriptBox[\"u\", \"4\"]}]}], \")\"}]}], \n",
       "\n",
       " \n",
       ">       RowBox[{\"3\", \" \", SubsuperscriptBox[OverscriptBox[\"r\", \"^\"], \"2\", \n",
       "\n",
       " \n",
       ">          RowBox[{\"7\", \"/\", \"2\"}]], \" \", \n",
       "\n",
       " \n",
       ">         SqrtBox[RowBox[{RowBox[{SubscriptBox[OverscriptBox[\"r\", \"^\"], \"2\"], \" \", \n",
       "\n",
       " \n",
       ">              SuperscriptBox[\"u\", \"2\"]}], \"+\", \n",
       "\n",
       " \n",
       ">            RowBox[{\"2\", \" \", SqrtBox[SubscriptBox[OverscriptBox[\"r\", \"^\"], \"2\"]]}],\\\n",
       " \n",
       ">    \"-\", \n",
       "         SuperscriptBox[\"u\", \"2\"]}]]}]], TraditionalForm]\n"
      ]
     },
     "execution_count": 148,
     "metadata": {
      "text/html": [],
      "text/plain": []
     },
     "output_type": "execute_result"
    }
   ],
   "source": [
    "dEdrFinal = Fold[ (* Последовательно применяем замены *)\n",
    "  Simplify[#1 /.\n",
    "    D[Subscript[OverHat[r], 2][OverHat[t]], {OverHat[t], #2}] -> dr2[[#2]]] &,\n",
    "  dEdr,\n",
    "  Range[5]\n",
    "];\n",
    "\n",
    "Simplify[dEdrFinal] // TraditionalForm"
   ]
  },
  {
   "cell_type": "markdown",
   "metadata": {},
   "source": [
    "$$\n",
    "  \\Delta \\hat{E}(u) = \\epsilon_G \\frac{4}{3}\\int\\limits_{\\hat{r}_2^\\text{min}}^\\infty \\frac{32 \\hat{r}_2^{3/2} u^2+6 \\hat{r}_2^2 u^4+\\hat{r}_2 \\left(51 u^4+40\\right)+100 \\sqrt{\\hat{r}_2} u^2-75 u^4}{\\hat{r}_2^{7/2} \\sqrt{\\hat{r}_2 u^2+2 \\sqrt{\\hat{r}_2}-u^2}} \\, d\\hat{r}_2,\n",
    "$$\n",
    "где при $\\hat{r}_2 \\ge \\hat{r}_2^{\\text{min}}$ выражение $\\hat{r}_2u^2 + 2\\sqrt{\\hat{r}_2} - u^2 \\ge 0$."
   ]
  },
  {
   "cell_type": "markdown",
   "metadata": {},
   "source": [
    "Полученный выше интеграл **компактнее**, чем тот, что рассмотрен в файле binary_catch2.pdf\n",
    "$$\n",
    "  \\Delta \\hat{E}(u) = \\epsilon_G \\frac{4}{3}\\int\\limits_{\\hat{r}_2^\\text{min}}^\\infty \\frac{24\\hat{r}_2^2u^6 + 48u^6\\hat{r}_2 + 120\\hat{r}_2^{3/2}u^4 - 96u^6 + 96u^4\\sqrt{\\hat{r}_2} - u^2\\hat{r}_2^2 + 133u^2\\hat{r}_2 - 2\\hat{r}_2^{3/2}}{\\hat{r}_2^4\\sqrt{u^2\\hat{r}_2 + 2\\sqrt{\\hat{r}_2} - u^2}} \\, d\\hat{r}_2,\n",
    "$$"
   ]
  },
  {
   "cell_type": "markdown",
   "metadata": {},
   "source": [
    "<span style=\"color:brown\">**NB:**</span> Однако, будучи аналитически взятым будет полностью <span style=\"color:green\">**совпадать!**</span>\n",
    "\n",
    "Смотри подробности в файле binary_catch_integral.ipynb\n",
    " \n",
    "Там компактный интеграл назван $I_5$, а второй $I_4$.\n",
    "\n",
    "Выпишем ответ:"
   ]
  },
  {
   "cell_type": "code",
   "execution_count": 150,
   "metadata": {
    "vscode": {
     "languageId": "wolfram"
    }
   },
   "outputs": [
    {
     "data": {
      "text/html": [
       "<div><img alt=\"Output\" src=\"data:image/png;base64,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\"></div>"
      ],
      "text/plain": [
       "FormBox[RowBox[{\"-\", FractionBox[RowBox[{SubscriptBox[\"ϵ\", \"G\"], \" \", \n",
       "\n",
       " \n",
       ">           RowBox[{\"(\", RowBox[{RowBox[{RowBox[{\"(\", \n",
       "\n",
       " \n",
       ">                   RowBox[{RowBox[{\"673\", \" \", SuperscriptBox[\"u\", \"4\"]}], \"+\", \n",
       "\n",
       " \n",
       ">                     \"1275\"}], \")\"}], \" \", SuperscriptBox[\"u\", \"2\"]}], \"+\", \n",
       "\n",
       " \n",
       ">               RowBox[{\"3\", \" \", RowBox[{\"(\", \n",
       "\n",
       " \n",
       ">                   RowBox[{RowBox[{\"37\", \" \", SuperscriptBox[\"u\", \"8\"]}], \"+\", \n",
       "\n",
       " \n",
       ">                     RowBox[{\"366\", \" \", SuperscriptBox[\"u\", \"4\"]}], \"+\", \"425\"}],\\\n",
       " \n",
       ">    \")\"}\\\n",
       "], \" \", RowBox[{\"(\", RowBox[{RowBox[{SuperscriptBox[\"tan\", RowBox[{\"-\",\\\n",
       " \n",
       ">    \"1\"}]], \n",
       "                    \"(\", FractionBox[\"1\", SuperscriptBox[\"u\", \"2\"]],\\\n",
       " \n",
       ">    \")\"}], \"+\", \n",
       "                  FractionBox[\"π\", \"2\"]}], \")\"}]}]}], \")\"}]}], \n",
       "\n",
       " \n",
       ">         RowBox[{\"9\", \" \", SuperscriptBox[\"u\", \"7\"]}]]}], TraditionalForm]\n"
      ]
     },
     "execution_count": 150,
     "metadata": {
      "text/html": [],
      "text/plain": []
     },
     "output_type": "execute_result"
    }
   ],
   "source": [
    "DeltaE = -Subscript[\\[Epsilon], G]/9*(u^2*(1275 + 673*u^4) + 3*(425 + 366*u^4 + 37*u^8)*(Pi/2 + ArcTan[u^(-2)]))/u^7;\n",
    "DeltaE // TraditionalForm"
   ]
  },
  {
   "cell_type": "code",
   "execution_count": 151,
   "metadata": {
    "vscode": {
     "languageId": "wolfram"
    }
   },
   "outputs": [
    {
     "data": {
      "text/html": [
       "<div>&#36;&#36;&#45;&#92;&#102;&#114;&#97;&#99;&#123;&#92;&#101;&#112;&#115;&#105;&#108;&#111;&#110;&#32;&#95;&#71;&#32;&#92;&#108;&#101;&#102;&#116;&#40;&#92;&#108;&#101;&#102;&#116;&#40;&#54;&#55;&#51;&#32;&#117;&#94;&#52;&#43;&#49;&#50;&#55;&#53;&#92;&#114;&#105;&#103;&#104;&#116;&#41;&#32;&#117;&#94;&#50;&#43;&#51;&#32;&#92;&#108;&#101;&#102;&#116;&#40;&#51;&#55;&#32;&#117;&#94;&#56;&#43;&#51;&#54;&#54;&#32;&#117;&#94;&#52;&#43;&#52;&#50;&#53;&#92;&#114;&#105;&#103;&#104;&#116;&#41;&#32;&#92;&#108;&#101;&#102;&#116;&#40;&#92;&#116;&#97;&#110;&#32;&#94;&#123;&#45;&#49;&#125;&#92;&#108;&#101;&#102;&#116;&#40;&#92;&#102;&#114;&#97;&#99;&#123;&#49;&#125;&#123;&#117;&#94;&#50;&#125;&#92;&#114;&#105;&#103;&#104;&#116;&#41;&#43;&#92;&#102;&#114;&#97;&#99;&#123;&#92;&#112;&#105;&#32;&#125;&#123;&#50;&#125;&#92;&#114;&#105;&#103;&#104;&#116;&#41;&#92;&#114;&#105;&#103;&#104;&#116;&#41;&#125;&#123;&#57;&#32;&#117;&#94;&#55;&#125;&#36;&#36;</div>"
      ],
      "text/plain": [
       "-\\frac{\\epsilon _G \\left(\\left(673 u^4+1275\\right) u^2+3 \\left(37 u^8+366 u^4+425\\right)\\\n",
       " \n",
       ">   \\left(\\tan ^{-1}\\left(\\frac{1}{u^2}\\right)+\\frac{\\pi }{2}\\right)\\right)}{9 u^7}"
      ]
     },
     "execution_count": 151,
     "metadata": {
      "text/html": [],
      "text/plain": []
     },
     "output_type": "execute_result"
    }
   ],
   "source": [
    "TeXForm[DeltaE]"
   ]
  },
  {
   "cell_type": "markdown",
   "metadata": {},
   "source": [
    "<span style=\"color:brown\">**NB:**</span> Почему при малых $u$ значения $\\Delta \\hat{E}(u)$ безгранично растут?\n",
    "\n",
    "В задаче расчёта средней потери энергии на грав изулчение предполагается близость к Ньютоновской орбите.\n",
    "При малых скоростях, однако, мы видим, что первоначальная положительная малая почти нулевая полная энергия\n",
    "теряется, превращаясь в сколько угодно большую отрицательную энергию.\n",
    "Кажется, что мы сильно отклоняемся от близости к ньютоновской орбиты и не имеем право интегрировать вдоль неё.\n",
    "\n",
    "Однако, в нашей моделе, когда одно тело налетает на другое из бесконечности, в приближении Ньютона возможны только два типа орбит:\n",
    "гиперболическая орбита и вырожденная гипербола (прямое падение).\n",
    "В случае малых скоростей как раз будет прямое падение.\n",
    "И даже неограниченная потеря энергии на грав излучения не меняет формы этой \"орбиты\": мы **можем** интегрироваться вдоль неё."
   ]
  },
  {
   "cell_type": "code",
   "execution_count": 152,
   "metadata": {
    "vscode": {
     "languageId": "wolfram"
    }
   },
   "outputs": [
    {
     "data": {
      "text/html": [
       "<div><img alt=\"Output\" src=\"data:image/png;base64,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\"></div>"
      ],
      "text/plain": [
       "FormBox[InterpretationBox[RowBox[{RowBox[{\"-\", \n",
       "\n",
       " \n",
       ">           FractionBox[RowBox[{\"425\", \" \", \n",
       "\n",
       " \n",
       ">              RowBox[{\"(\", RowBox[{\"π\", \" \", SubscriptBox[\"ϵ\", \"G\"]}], \")\"}]}], \n",
       "\n",
       " \n",
       ">            RowBox[{\"3\", \" \", SuperscriptBox[\"u\", \"7\"]}]]}], \"+\", \n",
       "\n",
       " \n",
       ">         InterpretationBox[RowBox[{\"O\", \"(\", \n",
       "\n",
       " \n",
       ">            FractionBox[\"1\", SuperscriptBox[\"u\", \"3\"]], \")\"}], \n",
       "\n",
       " \n",
       ">          SeriesData[u, 0, List[], -7, -3, 1], Rule[Editable, False]]}], \n",
       "\n",
       " \n",
       ">       SeriesData[u, 0, List[Times[Rational[-425, 3], Pi, Subscript[\\[Epsilon], G]]], \n",
       "\n",
       " \n",
       ">        -7, -3, 1], Rule[Editable, False]], TraditionalForm]\n"
      ]
     },
     "execution_count": 152,
     "metadata": {
      "text/html": [],
      "text/plain": []
     },
     "output_type": "execute_result"
    }
   ],
   "source": [
    "Simplify[Series[DeltaE, {u, 0, -4}]] // TraditionalForm"
   ]
  },
  {
   "cell_type": "markdown",
   "metadata": {},
   "source": [
    "## Условия захвата\n",
    "\n",
    "На бесконечнос энергия объекта была $u^2/2$\n",
    "\n",
    "Если $2|\\Delta \\hat{E}| > u^2$, то гиперболическая орбита превратится в эллиптическую за один полный оборот,\n",
    "\n",
    "далее тело уже не сможет \"уходить\" на бесконечность.\n",
    "\n",
    "Из-за ограничения локализации точнее условие захвата поставить **нельзя**"
   ]
  },
  {
   "cell_type": "code",
   "execution_count": 155,
   "metadata": {
    "vscode": {
     "languageId": "wolfram"
    }
   },
   "outputs": [
    {
     "data": {
      "text/html": [
       "<div><img alt=\"Output\" src=\"data:image/png;base64,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\"></div>"
      ],
      "text/plain": [
       "FormBox[RowBox[{SuperscriptBox[\"u\", \"9\"], \"<\", \n",
       "\n",
       " \n",
       ">        RowBox[{FractionBox[\"2\", \"9\"], \" \", SubscriptBox[\"ϵ\", \"G\"], \" \", \n",
       "\n",
       " \n",
       ">          RowBox[{\"(\", RowBox[{RowBox[{RowBox[{\"(\", \n",
       "\n",
       " \n",
       ">                  RowBox[{RowBox[{\"673\", \" \", SuperscriptBox[\"u\", \"4\"]}], \"+\", \n",
       "\n",
       " \n",
       ">                    \"1275\"}], \")\"}], \" \", SuperscriptBox[\"u\", \"2\"]}], \"+\", \n",
       "\n",
       " \n",
       ">              RowBox[{FractionBox[\"3\", \"2\"], \" \", \n",
       "\n",
       " \n",
       ">                RowBox[{\"(\", RowBox[{RowBox[{\"37\", \" \", SuperscriptBox[\"u\", \"8\"]}], \n",
       "\n",
       " \n",
       ">                    \"+\", RowBox[{\"366\", \" \", SuperscriptBox[\"u\", \"4\"]}], \"+\", \"425\"}], \n",
       "\n",
       " \n",
       ">                  \")\"}], \" \", RowBox[{\"(\", \n",
       "               RowBox[{RowBox[{\"2\", \" \", \n",
       "\n",
       " \n",
       ">                      RowBox[{SuperscriptBox[\"tan\", RowBox[{\"-\", \"1\"}]], \"(\", \n",
       "\n",
       " \n",
       ">                        FractionBox[\"1\", SuperscriptBox[\"u\", \"2\"]], \")\"}]}], \"+\",\\\n",
       " \n",
       ">    \"π\"}], \n",
       "               \")\"}]}]}], \")\"}]}]}], TraditionalForm]\n"
      ]
     },
     "execution_count": 155,
     "metadata": {
      "text/html": [],
      "text/plain": []
     },
     "output_type": "execute_result"
    }
   ],
   "source": [
    "DeltaE2 = Simplify[DeltaE + u^2/2];\n",
    "uMax2 = Simplify[2 u^7 DeltaE2];\n",
    "Simplify[uMax2 < 0] // TraditionalForm"
   ]
  },
  {
   "cell_type": "markdown",
   "metadata": {},
   "source": [
    "<span style=\"color:brown\">**NB:**</span> Условие захвата, <span style=\"color:green\">**совпадает**</span> с условием из файла binary_catch.pdf"
   ]
  },
  {
   "cell_type": "markdown",
   "metadata": {},
   "source": [
    "<span style=\"color:red\">**TODO:**</span> Сравнить условия захвата при $u \\rightarrow 0$ с другими авторами"
   ]
  },
  {
   "cell_type": "code",
   "execution_count": 156,
   "metadata": {
    "vscode": {
     "languageId": "wolfram"
    }
   },
   "outputs": [
    {
     "data": {
      "text/html": [
       "<div><img alt=\"Output\" src=\"data:image/png;base64,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\"></div>"
      ],
      "text/plain": [
       "FormBox[InterpretationBox[RowBox[{FractionBox[RowBox[{\"850\", \" \", \"π\", \" \", \n",
       "\n",
       " \n",
       ">            SubscriptBox[\"ϵ\", \"G\"]}], \"3\"], \"+\", \n",
       "\n",
       " \n",
       ">         InterpretationBox[RowBox[{\"O\", \"(\", SuperscriptBox[\"u\", \"1\"], \")\"}], \n",
       "\n",
       " \n",
       ">          SeriesData[u, 0, List[], 0, 1, 1], Rule[Editable, False]]}], \n",
       "\n",
       " \n",
       ">       SeriesData[u, 0, List[Times[Rational[850, 3], Pi, Subscript[\\[Epsilon], G]]], 0,\\\n",
       " \n",
       ">    \n",
       "     1, 1], Rule[Editable, False]], TraditionalForm]\n"
      ]
     },
     "execution_count": 156,
     "metadata": {
      "text/html": [],
      "text/plain": []
     },
     "output_type": "execute_result"
    }
   ],
   "source": [
    "Simplify[Series[(u^9 - uMax2), {u, 0, 0}]] // TraditionalForm"
   ]
  },
  {
   "cell_type": "markdown",
   "metadata": {},
   "source": [
    "## Поведение $\\hat{E}_1$ в зависимости от начальной сокрости $u$ и параметра $\\epsilon_G$\n",
    "\n",
    "$$\n",
    "\\hat{E}_1 = \\hat{E}_0 + \\Delta \\hat{E}\n",
    "$$\n",
    "\n",
    "$\\epsilon_G = \\frac{2}{5}\\frac{\\mu}{M} \\left( \\frac{r_s}{2b} \\right)^{\\frac{5}{2}}$,\n",
    "где $r_s = \\frac{2 G M}{c^2}$ - сумма радиусов Шварцшильда двух тел.\n",
    "\n",
    "При прицельных параметрах $b$ сравнимых с радиусом Шварцшильда, $\\epsilon_G$ не мал (смотри $\\epsilon_G = 10$)\n",
    "энергия всегда отрицальна при скоростях $u < 100$, то есть тела уже в захвате.\n",
    "\n",
    "Если прицельный параметр много больше, чем $r_s$, то есть $\\epsilon_G$ мал,\n",
    "то существует такая скорость $u < 100$, при значении которой (и меньших скоростях) происходит захват."
   ]
  },
  {
   "cell_type": "code",
   "execution_count": 157,
   "metadata": {
    "vscode": {
     "languageId": "wolfram"
    }
   },
   "outputs": [
    {
     "data": {
      "text/html": [
       "<div><img alt=\"Output\" src=\"data:image/png;base64,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\"></div>"
      ],
      "text/plain": [
       "Legended[-Graphics-, Placed[LineLegend[{Directive[Opacity[1.], \n",
       " \n",
       ">       RGBColor[0.368417, 0.506779, 0.709798], AbsoluteThickness[2]], \n",
       " \n",
       ">      Directive[Opacity[1.], RGBColor[0.880722, 0.611041, 0.142051], \n",
       " \n",
       ">       AbsoluteThickness[2]], Directive[Opacity[1.], \n",
       " \n",
       ">       RGBColor[0.560181, 0.691569, 0.194885], AbsoluteThickness[2]], \n",
       " \n",
       ">      Directive[Opacity[1.], RGBColor[0.922526, 0.385626, 0.209179], \n",
       " \n",
       ">       AbsoluteThickness[2]], Directive[Opacity[1.], \n",
       " \n",
       ">       RGBColor[0.528488, 0.470624, 0.701351], AbsoluteThickness[2]], \n",
       " \n",
       ">      Directive[Opacity[1.], RGBColor[0.772079, 0.431554, 0.102387], \n",
       " \n",
       ">       AbsoluteThickness[2]], Directive[Opacity[1.], \n",
       " \n",
       ">       RGBColor[0.363898, 0.618501, 0.782349], AbsoluteThickness[2]]}, \n",
       " \n",
       ">     {EpsilonG = 10, EpsilonG = 2, EpsilonG = 1, EpsilonG = 0.5, EpsilonG = 0.1, \n",
       " \n",
       ">      EpsilonG = 10^(-2), EpsilonG = 10^(-5)}, LegendMarkers -> None, LabelStyle -> {}, \n",
       " \n",
       ">     LegendLayout -> Column], After, Identity]]"
      ]
     },
     "execution_count": 157,
     "metadata": {
      "text/html": [],
      "text/plain": []
     },
     "output_type": "execute_result"
    }
   ],
   "source": [
    "Plot[\n",
    "  {\n",
    "    u^2/2 + DeltaE /. Subscript[\\[Epsilon], G] -> 10,\n",
    "    u^2/2 + DeltaE /. Subscript[\\[Epsilon], G] -> 2,\n",
    "    u^2/2 + DeltaE /. Subscript[\\[Epsilon], G] -> 1,\n",
    "    u^2/2 + DeltaE /. Subscript[\\[Epsilon], G] -> 0.5,\n",
    "    u^2/2 + DeltaE /. Subscript[\\[Epsilon], G] -> 0.1,\n",
    "    u^2/2 + DeltaE /. Subscript[\\[Epsilon], G] -> 10^(-2),\n",
    "    u^2/2 + DeltaE /. Subscript[\\[Epsilon], G] -> 10^(-5)\n",
    "  },\n",
    "  {u, 0.0, 100},\n",
    "  AxesLabel -> {\"u\", \"E1\"},\n",
    "  PlotLegends -> {\n",
    "    \"EpsilonG = 10\",\n",
    "    \"EpsilonG = 2\",\n",
    "    \"EpsilonG = 1\",\n",
    "    \"EpsilonG = 0.5\",\n",
    "    \"EpsilonG = 0.1\",\n",
    "    \"EpsilonG = 10^(-2)\",\n",
    "    \"EpsilonG = 10^(-5)\"\n",
    "    },\n",
    "  PlotRange -> All,\n",
    "  ScalingFunctions -> {\"Log\", \"SignedLog\"}\n",
    "]"
   ]
  },
  {
   "cell_type": "markdown",
   "metadata": {},
   "source": [
    "Но при движении пары объектов происходит и уменьшение момента импульса.\n",
    "В тот момент, когда начальный импульс уменьшится до нуля тела начнут падать друг на друга, даже если\n",
    "полная энергия при этом у системы больше нуля.\n",
    "\n",
    "Следовательно, необходимо скорректировать условие захвата."
   ]
  },
  {
   "cell_type": "markdown",
   "metadata": {},
   "source": [
    "# Потеря момента за один период обращения\n",
    "\n",
    "$$\n",
    "\\Delta \\hat{J} = 2 \\epsilon_G \\int\\limits_{\\hat{t}_{\\text{min}}}^{\\infty}I_J(\\hat{t}) d \\hat{t}\n",
    "= - 2 \\epsilon_G \\int\\limits_{\\hat{r}_2^{\\text{min}}}^{\\infty}\\frac{I_J(\\hat{r}_2)}{\\hat{r}_2^{(1)}}d \\hat{r}_2,\n",
    "$$\n",
    "\n",
    "где мы заменим $\\hat{\\omega}$ на $\\frac{u}{\\hat{r}_2}$"
   ]
  },
  {
   "cell_type": "code",
   "execution_count": 160,
   "metadata": {
    "vscode": {
     "languageId": "wolfram"
    }
   },
   "outputs": [
    {
     "data": {
      "text/html": [
       "<div><img alt=\"Output\" src=\"data:image/png;base64,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\"></div>"
      ],
      "text/plain": [
       "FormBox[RowBox[{FractionBox[RowBox[{\"16\", \" \", SuperscriptBox[\"u\", \"5\"]}], \n",
       "\n",
       " \n",
       ">         RowBox[{SubsuperscriptBox[OverscriptBox[\"r\", \"^\"], \"2\", \"3\"], \" \", \n",
       "\n",
       " \n",
       ">           SuperscriptBox[SubscriptBox[OverscriptBox[\"r\", \"^\"], \"2\"], \"′\"]}]], \"-\", \n",
       "\n",
       " \n",
       ">        FractionBox[RowBox[{\"20\", \" \", SuperscriptBox[\"u\", \"3\"], \" \", \n",
       "\n",
       " \n",
       ">           SuperscriptBox[SubscriptBox[OverscriptBox[\"r\", \"^\"], \"2\"], \"′\"]}], \n",
       "\n",
       " \n",
       ">         SubsuperscriptBox[OverscriptBox[\"r\", \"^\"], \"2\", \"3\"]], \"-\", \n",
       "\n",
       " \n",
       ">        FractionBox[RowBox[{\"4\", \" \", \"u\", \" \", \n",
       "        SuperscriptBox[RowBox[{\"(\", \n",
       "\n",
       " \n",
       ">              SuperscriptBox[SubscriptBox[OverscriptBox[\"r\", \"^\"], \"2\"], \"′′\"], \")\"}], \n",
       "\n",
       " \n",
       ">            \"2\"]}], RowBox[{SubscriptBox[OverscriptBox[\"r\", \"^\"], \"2\"], \" \", \n",
       "\n",
       " \n",
       ">           SuperscriptBox[SubscriptBox[OverscriptBox[\"r\", \"^\"], \"2\"], \"′\"]}]], \"+\", \n",
       "\n",
       " \n",
       ">        FractionBox[RowBox[{\"14\", \" \", \"u\", \" \", \n",
       "\n",
       " \n",
       ">           SuperscriptBox[SubscriptBox[OverscriptBox[\"r\", \"^\"], \"2\"], \"′\"], \" \", \n",
       "\n",
       " \n",
       ">           SuperscriptBox[SubscriptBox[OverscriptBox[\"r\", \"^\"], \"2\"], \"′′\"]}], \n",
       "\n",
       " \n",
       ">         SubsuperscriptBox[OverscriptBox[\"r\", \"^\"], \"2\", \"2\"]], \"+\", \n",
       "\n",
       " \n",
       ">        FractionBox[RowBox[{\"4\", \" \", \"u\", \" \", \n",
       "\n",
       " \n",
       ">           SuperscriptBox[SubscriptBox[OverscriptBox[\"r\", \"^\"], \"2\"], \"′′′′\"]}], \n",
       "\n",
       " \n",
       ">         SuperscriptBox[SubscriptBox[OverscriptBox[\"r\", \"^\"], \"2\"], \"′\"]], \"-\", \n",
       "\n",
       " \n",
       ">        FractionBox[RowBox[{\"6\", \" \", \"u\", \" \", \n",
       "        SuperscriptBox[RowBox[{\"(\", \n",
       "\n",
       " \n",
       ">              SuperscriptBox[SubscriptBox[OverscriptBox[\"r\", \"^\"], \"2\"], \"′\"], \")\"}], \n",
       "\n",
       " \n",
       ">            \"3\"]}], SubsuperscriptBox[OverscriptBox[\"r\", \"^\"], \"2\", \"3\"]], \"-\", \n",
       "\n",
       " \n",
       ">        FractionBox[RowBox[{\"7\", \" \", \"u\", \" \", \n",
       "\n",
       " \n",
       ">           SuperscriptBox[SubscriptBox[OverscriptBox[\"r\", \"^\"], \"2\"], \"′′′\"]}], \n",
       "\n",
       " \n",
       ">         SubscriptBox[OverscriptBox[\"r\", \"^\"], \"2\"]]}], TraditionalForm]\n"
      ]
     },
     "execution_count": 160,
     "metadata": {
      "text/html": [],
      "text/plain": []
     },
     "output_type": "execute_result"
    }
   ],
   "source": [
    "(* Минус учтём сразу *)\n",
    "dJdr = Simplify[-dJdt/D[Subscript[OverHat[r], 2][OverHat[t]], OverHat[t]] //. OmegaReplace2];\n",
    "Expand[Simplify[dJdr]] // TraditionalForm"
   ]
  },
  {
   "cell_type": "markdown",
   "metadata": {},
   "source": [
    "<span style=\"color:brown\">**NB:**</span> Выражение для $dJ/dr$ <span style=\"color:green\">**сопадает**</span> с выраженем для интегранта из binary_catch3.pdf, если учесть деление на $\\hat{r}_2^{(1)}$"
   ]
  },
  {
   "cell_type": "markdown",
   "metadata": {
    "vscode": {
     "languageId": "wolfram"
    }
   },
   "source": [
    "Заменяя вхождение **всех** производных в выражении для $dJ/dr$, получим"
   ]
  },
  {
   "cell_type": "code",
   "execution_count": 162,
   "metadata": {
    "vscode": {
     "languageId": "wolfram"
    }
   },
   "outputs": [
    {
     "data": {
      "text/html": [
       "<div><img alt=\"Output\" src=\"data:image/png;base64,iVBORw0KGgoAAAANSUhEUgAAAN0AAABACAIAAAARXuXQAAAAznpUWHRSYXcgcHJvZmlsZSB0eXBlIGV4aWYAAHjabU/bDQMhDPtnio4QkuDAOFzhpG7Q8RsO2oqqlogd5wGE/nyc4TbAkYImyygAObRo4eoi08TkSOWKF1pbtbj7Qd9+dSt9C+jLP3bfMJnzzyLiKWTc4FrWZluLhKcf68yP1c81532R0AbQ5+l/cxVjJERTj8pkhuI6B5dOSEzJcOIOeGNEY9K7c4eZj8FGh9QxOMDd9u4eIG608QUZJ0l1Fo9Rso9GgWt1b0TlY1Wvj4QXl/la5JR2th8AAAAJcEhZcwAADsQAAA7EAZUrDhsAAAA8dEVYdFNvZnR3YXJlAENyZWF0ZWQgd2l0aCB0aGUgV29sZnJhbSBMYW5ndWFnZSA6IHd3dy53b2xmcmFtLmNvbVyipoUAAAAhdEVYdENyZWF0aW9uIFRpbWUAMjAyNTowMzoxOCAxNjo0MDo0NEkulhAAABFCSURBVHic7Z15UNTWH8AfCygWpsiloAzqVAoORVmE6pS2CIsUUVE8qnbWWqwV6lG0I6OISktbkSlelKN4Deo4o9VqpaKyKnJYW9CVWmDBglaWw+FaYJF7N+/3x+svjUl2CdmERdzPX3kv7/jmm29eXvKS79cIQgh45tGjRy4uLnz3MsJYunTp8+fPjYyMBlUrJSXljTfe4EkkztFiGCZ8952amurr68t3LyOPtra2W7du6VsKfoEQJicnb9q0ibqLX7t8/PjxX3/9tWHDBl57GRAMw6Kjozs6Onp7ezEMO3r0qIkJ7xekLjQ1Ndna2upbCi6hPQWurq5JSUmVlZXOzs7kCpBP1qxZI5VKee2CCRKJxMPDA207ODicPXtWv/IMyLVr1xISEvQtBZdoOgUPHz5cvXo1tbyAv0ukra0tPz9fKBTy1wVDRCJRbm4uAABCiGFYc3OzviUaAKlUOnPmTH1LwSWaTsH06dPv3r2rUChI5f+zS6VSGRUVFRwcLBaLvb29jx49qqMomZmZ/v7++MwdQnjgwIGQkJBVq1aJRCKpVKqlbnx8vKWl5Z9//qmjDAiBQGBpaQkAyM3NxTBsyZIlrJvSrqXMzMzg4OCVK1cGBwdfuXKFdS8PHjzw9PQk5nCrEFra29u/+eabDz/80NXVNSUlhbgrMzPT6EViY2MH1biWUyASiS5fvkyugI+cfn5+jo6OnZ2dEMJTp04BAC5duqTL0L1mzZqUlBQ8uWPHDhcXl46ODgjh8ePHzczMZDIZbcW8vLzQ0NA7d+74+/srlUpdZCAik8kCAwOrq6t1aUSLlm7cuGFqanr79m0I4c2bN0eNGoW2WeDv709M8qQQEmq1+tGjR/v37wcAHDp0iLgrIyMjKCjoCoHGxkYWXdCegh9//FEsFpNK/muX3d3d5ubmBw8eREm5XA4AoJYm0d/fr2Wvm5tbdnY22m5sbBw9evS+ffvwitbW1hs2bKCteP78ebVarVar6+vrc3NztcvAULDi4uLPPvsM2RNrtGtJJBLhUygIobu7e1BQEItempqali9fTszRXSHMKS0tpdplUlJSUlIS80ZoDUPTKZBIJNOmTSNl/nsfNzMzKysri4yMRMnXX38dANDQ0EA7JqelpYWEhDg4OGRnZ6Ocjo6OadOmpaWl4WXUanVlZaW9vT1KlpSU9Pb24q/WTExMPDw8cnJyaNsvLy8PDAx0cHAYNWrUsWPH7Ozs6uvrmdwsNAmWmJi4a9eutLS01157DQBw9epVJq1R0aIlhUKRm5vr5eWFF/b29r5586ZSqRxsL9TJJWuFcIVSqZw0adKAxbQYRktLi6ZTYG9vX1VVpVKpiE39N7+cNGkSPhdEkz9NjywRERFOTk5NTU3vvvsuysnJyamoqPDx8cHLNDU19fX1WVlZoSQ6ed3d3XgBS0vLqqoqDMOo7e/cudPCwsLd3T0xMXHy5Mm+vr52dnYDKkWLYE+ePMnLy3N0dHRwcLC2ts7Pz9fSyJEjR8rKyjTt1aQluVyuVquJJ8/JyUmlUtXW1jKRnAjVLlkrhCuUSqWZmVlsbGxoaOjGjRsLCwtpi2kxjOTkZE2nYOzYsf39/Y2NjS+0RR1vMQwLCAhAHWgaqD/44AMvLy88GRYWZmNjg2EYnvPw4UMAQGtrK0oWFRUBADZt2oQXmD59Ojpg2vaFQqFQKHz06JEmAVgLNiDh4eFM5oUkLUkkEgDAgQMH8AJoosZiirl06dKWlhZSJmuFDBba+3h4ePi6devKy8sbGhpWr14tEAh++ukn2uos9N/a2goAKC4uJmbSvCeKiYlpb28vLCzU9Gq3v7//zp07c+bMQcmenp6LFy/6+voSF826uroAAKNHj0ZJT0/PmTNnZmRk3L17t7+///Dhw+3t7QCA3t5eavtdXV0lJSVTp0598803aQXQBBPBuIJWS4PqCEJ4/vz5rVu3kvJbW1utra2JOawVwhV79uw5evSoq6vruHHj0tPT7ezsoqKiqMXY6X/UqFEAgM7OTmImedlj165dMpksLy9vzJgxmhq6d+9eZ2cn3n16enp7e7ufnx+xTF9fHwDA2NgYJY2NjX/55ZctW7YsWLDA2dn5888/9/T0rK6utrCwoLZ///59lUq1cuVKPIfhgg0TwWiBEOJTopqamqKiop6eHgCAvb29h4cHtTxVS+jG+vz5c7xMR0cHAGDcuHG0PT558iQ2NhZCeObMmdWrV+NvhVpaWkhGCXRQCOnQiGg6NFomTJiAb48ZM8bLyysrK0uhUJBEZad/ZCSkEeqFg4mJiampqblw4YL2Zbrbt28LBAI0h2hubj5z5gwAAJcGASEEL44fjo6OFy5cwJPJycnjx483MzOjtv/777+bmJgEBgbiObdu3ZJIJMXFxQCACRMm/PzzzytWrGAnGC0QwuvXr6NtZJfowcLDw4N68mi15OTkJBAI0BM63o6JiYmjoyNtjyqVKjU11dzcXCaTRUdH46ZD+0adtUJIh0aE9tAYgt5EQsoXP+z0LxAIaFrD7+gZGRkLFiwgTgXkcnlbWxt1QhAYGDhjxgy0vXPnzvDwcFtbWwzDiHOO3377DQDQ3d2N51RVVanVarSNYZiNjc2KFStoJxyLFy+ePXs2MUetViNJMAwbP358cnIybUUmgg2I9vmlFi35+/sLhUI8f/r06UzeEyGLvHXrFkru3btXIpGQyrBWCAuo80u5XD5r1qz6+no8x9vb28nJiVqXnf7RlK+goICY+e/8sqWlJTIyMigoSCKRZGdnZ2dnX7x4USwWI1smUVlZaWlp2d3dnZCQEBoaWltbKxQKr169OnbsWLwMGgj7+/tREsMwT0/P3bt3o+SJEyd6e3tjYmJoL6A//viDdJExXLBhIpguaNfSjh07SktLCwoKkJzl5eW0kzASc+fO9ff3j46OhhACupUeoINCWIDup2gahujq6iouLo6OjkbJ/Pz8e/fuxcfHU+uy0z8yEvKdE5knad0JQbpGcb744ouxY8cuX768qqoKQhgVFeXo6Jienk4s8/TpUwAA8SLLysqaNWuWn5+fWCxetmxZZWUlbeNPnz6dMGFCTk4OddeACzZMBBsQLePlgFq6dOnSvHnzxGJxcHBwZmYmwx7Ry4oLFy5AykoP1E0hg6K5uTkqKgrdhadMmRIZGVlYWIh25efnBwQEhISErFu3bt68eVevXqVtgZ3+6+rqAABPnjwhZvL1PVFPT4+RkZGmlUYWcLJgM2xZunSpi4tLQ0PDsmXLGFYZMQopLy83MjLq6uoiZvL4ndvkyZNZLxCTaG5unj9/vkqlQsmsrCxOmh0+VFRUGBsbr1ixYu/evUzKjySF5ObmUmerPH7n5uHhUV1dzUlTWlYLRgYuLi5r1649d+4cw8/bRpJC5HL5jBkzSJlGkLf/ew4dOlRbW5uYmMhT+yOMuro6Z2fnmpoaGxsbfcsypGzfvt3Ozm7btm3ETB7Hy0WLFqHVOQNMmDhx4sGDB181owQASCSSxYsXkzJ5tMspU6bY2tpydSt/FVi/fr2+RRhqamtrLS0tp06dSsrn0S4BALt3787IyOC1i5EEH+v4w5yMjIxdu3ZR8/m1Sz8/P4VCMfz/pzGgFxQKRWNjY0BAAHUXj889iJ6enqKiovfff5/XXgy8jBQUFHh5edF+IcS7XRowwAJ+7+MGDLDDYJcGhiMmAAC1Wv3PP//oWxIDrzoODg7m5uZo2whC2NHR8dFHH+lXJgMGYmJiZs+ejbYNzz0GhiOG+aWB4YjBLg0MRwx2aWA4Mqzdk2rnxo0bLS0t+pbCAA1mZmbUT4QGxUtsl7Gxsa/gBzgvBbp/gDJ0dqlWq3E3B7rT2to6ceLETz75hKsGDQwruLdLoVBYU1ODrphLly7hLpQOHTq0ZcuWnTt3cuLnvKyszM3NjTOhDQwzuLfLGTNmID8QVHJychh6iRiQ0tLSt956i72ULydqtTosLIzWCZ4WHB0d9+3bx5NIPMG9XdJ623rw4IFQKJwzZw5Xfs7Lysr0HuZi6KmoqLCwsIiLixtULQ6nT0MGx3YJIayoqEhMTCwqKlKr1cePH0e+FvLy8jZv3syhl4jKykrqx/cjHqlU+s4774ywECq0cD9eHj58GPkF9vf3/+67777//nsAgEqlwqeS5eXl+/btu3//voODA+teVCqVqakpJwLTMjxD/kil0oiICH1L8R88aom//9W//PLL+fPnQwj//vtv3Dk+J14iGhoaVq1axYGImhmeIX+CgoJwXwbDAf60pOt6Dyl+x7lz5xISEtC2VCpFn4dkZ2cjH3lanGwPCtqHcW4jiXAY8oerADRqtRpQJotDED9FCzwGRtLFqKnxO+Ry+cKFC3fs2PHtt99u2rQJ+RnEw1B89dVXFhYW9vb29vb2VlZW27dvZ9fvDz/8QIrhwl8kkZycHORnn3ULXAWgQSEHiDlDEz+FCbpriYROdskkfkddXd3p06d16YVKeHg4yR3c+fPn+/v7MQx79uwZi0gimgK+6O4wjV0AGlpOnTp18uRJYo6OR80CWkVx61YOoZNdxsXFiUSicePGNTc3i8ViW1vburo6UpkjR44oFApdeqEyd+5c4jSLiRi0pKamLly40N7e/sqVKyhHqVS6urqmpqZC7hymPX36FPfj2tbWBgCYO3cui3YiIyNLS0vxJOujZoEWRfHkVk6n+SWT+B0KhQKPlsIJEEIMw4jTLM7jqvj4+AxqKswutMpgqaiocHV1xZNDGTxFk6Lc3Nw4eWCgotNTvbGxMboxhYWFaQqVEBISoksXVJ49e0Z0Q89QDFqMjIyqqqqEQiF6qwoAuHz5so2Njbu7e1xcHHKYBgDo7e1dv359cHCwpnYePHjApF8IYXx8vJOTExM/wiSQC3Di1cj6qFmgSVE5OTnMtTQ4dBlsOzs7TUxMSEHjuIUa+iU7Oxt/kNJRjL6+PnNz823btqFkd3e3paXlkiVLBtsOw5A/0dHR3t7ez549G7BkUVGRXC4n5pSVlW3evJmYMwTKx+FKUczRabykxu/gEAjhmTNnkpOTCwoKiK/Qy8rKSCvjtGIweeXLOq4K4CK0Ci1KpXLPnj0nT55ctGgR0bUTNU7FUAZP0UVR7NDJLqnxO7haAHj8+HFcXJyrq+u9e/fOnTsnFovxXaWlpaGhodrFAMwiibCOqwK4CK1Cy7FjxyIiIjw8PNauXbtt2zb8CpRKpZ9++qn2o+YveIouimKJLoMtNX4HVwsACoWit7cXQrh8+XJ3d3fi3TwgIACPt6JJDMgskggncVWgDqFVNKFSqdzc3BYuXEgUlfSOZiiDp3ClKObo9DxOjd/B1QKAlZUVCs+2ffv2kpKSa9eu4VcR+H8kIi1iAGaRRPiOqwIGGYAGx9jYOD4+/tdff71z5w74/0MPaawdyuApQ6AoMqwtWkv8DsjpAoBIJHrvvffwTteuXctcDO2vfDmJqwJ1C62iCQzDfHx8fHx8MAyTyWQbN24k7h2y4CkIrhTFHF6+2+BWNcgZ9t27dyGEWVlZ+/fvZ1jxZY8kggbLzMzM06dPnzhxgkmVl/2Qcbi3S85Vg2GYUChctGgRhDAhIeH69etMao2MSCIhISFubm6bN29++PDhgIVHxiEjOLZLnlRz9uxZAIBMJvv4449ra2uZVOHqGxH9UlpaKhAIrKys+vr6Biw8Mg4ZwbF/oq+//joxMRFFb0YLAJz8WaJSqVxcXHx9feVy+Y0bN14pP+RhYWEymaywsFDfggwt+r4wmJKWlmZqaioSifQtyFBTXV29detWfUsx1Lw0/ty6u7snT568ePHi9PR0fcsy1LS1tfH4RmZYov9/VhgyZsyYyMhINEN41XjVjBK8XP4vW1tbKysr3377bX0LYoB3/geRivolsPoomAAAAABJRU5ErkJggg==\"></div>"
      ],
      "text/plain": [
       "FormBox[FractionBox[RowBox[{\"2\", \" \", \"u\", \" \", \n",
       "\n",
       " \n",
       ">         RowBox[{\"(\", RowBox[{RowBox[{\"9\", \" \", \n",
       "\n",
       " \n",
       ">               SubscriptBox[OverscriptBox[\"r\", \"^\"], \"2\"], \" \", \n",
       "\n",
       " \n",
       ">               SuperscriptBox[\"u\", \"2\"]}], \"+\", \n",
       "\n",
       " \n",
       ">             RowBox[{\"20\", \" \", SqrtBox[SubscriptBox[OverscriptBox[\"r\", \"^\"], \"2\"]]}], \n",
       "\n",
       " \n",
       ">             \"-\", RowBox[{\"15\", \" \", SuperscriptBox[\"u\", \"2\"]}]}], \")\"}]}], \n",
       "\n",
       " \n",
       ">       RowBox[{SubsuperscriptBox[OverscriptBox[\"r\", \"^\"], \"2\", RowBox[{\"5\", \"/\",\\\n",
       " \n",
       ">    \"2\"}]], \n",
       "      \" \", SqrtBox[RowBox[{RowBox[{SubscriptBox[OverscriptBox[\"r\", \"^\"],\\\n",
       " \n",
       ">    \"2\"], \" \", \n",
       "           SuperscriptBox[\"u\", \"2\"]}], \"+\", \n",
       "\n",
       " \n",
       ">            RowBox[{\"2\", \" \", SqrtBox[SubscriptBox[OverscriptBox[\"r\", \"^\"], \"2\"]]}],\\\n",
       " \n",
       ">    \"-\", \n",
       "         SuperscriptBox[\"u\", \"2\"]}]]}]], TraditionalForm]\n"
      ]
     },
     "execution_count": 162,
     "metadata": {
      "text/html": [],
      "text/plain": []
     },
     "output_type": "execute_result"
    }
   ],
   "source": [
    "dJdrFinal = Fold[ (* Последовательно применяем замены *)\n",
    "  Simplify[#1 /.\n",
    "    D[Subscript[OverHat[r], 2][OverHat[t]], {OverHat[t], #2}] -> dr2[[#2]]] &,\n",
    "  dJdr,\n",
    "  Range[5]\n",
    "];\n",
    "\n",
    "Simplify[dJdrFinal] // TraditionalForm"
   ]
  },
  {
   "cell_type": "markdown",
   "metadata": {},
   "source": [
    "$$\n",
    "  \\Delta \\hat{J}(u) = 4 \\epsilon_G \\int\\limits_{\\hat{r}_2^\\text{min}}^\\infty \\frac{u \\left(20\\sqrt{\\hat{r}_2} - 15u^2 + 9\\hat{r}_2 u^2\\right)}{\\hat{r}_2^{\\frac{5}{2}} \\sqrt{2\\sqrt{\\hat{r}_2} - u^2 + \\hat{r}_2 u^2}} \\, d\\hat{r}_2,\n",
    "$$\n",
    "где при $\\hat{r}_2 \\ge \\hat{r}_2^{\\text{min}}$ выражение $\\hat{r}_2u^2 + 2\\sqrt{\\hat{r}_2} - u^2 \\ge 0$.\n",
    "\n",
    "Полученный выше интеграл **компактнее**, чем тот, что рассмотрен в файле binary_catch3.pdf\n",
    "\n",
    "Смотри подробности в файле binary_catch_integral.ipynb\n",
    " \n",
    "Выпишем ответ:"
   ]
  },
  {
   "cell_type": "code",
   "execution_count": 164,
   "metadata": {
    "vscode": {
     "languageId": "wolfram"
    }
   },
   "outputs": [
    {
     "data": {
      "text/html": [
       "<div><img alt=\"Output\" src=\"data:image/png;base64,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\"></div>"
      ],
      "text/plain": [
       "FormBox[RowBox[{\"4\", \" \", SubscriptBox[\"ϵ\", \"G\"], \" \", \n",
       "\n",
       " \n",
       ">        RowBox[{\"(\", RowBox[{RowBox[{\"-\", \n",
       "\n",
       " \n",
       ">              RowBox[{RowBox[{\"2\"}], \" \", SuperscriptBox[\"u\", \"2\"]}]}], \"-\", \n",
       "\n",
       " \n",
       ">            FractionBox[\"15\", SuperscriptBox[\"u\", \"2\"]], \"-\", \n",
       "\n",
       " \n",
       ">            FractionBox[RowBox[{RowBox[{\"(\", \n",
       "\n",
       " \n",
       ">                 RowBox[{RowBox[{\"7\", \" \", SuperscriptBox[\"u\", \"4\"]}], \"+\", \"15\"}], \n",
       "\n",
       " \n",
       ">                 \")\"}], \" \", RowBox[{\"(\", \n",
       "              RowBox[{RowBox[{\"2\", \" \", \n",
       "\n",
       " \n",
       ">                     RowBox[{SuperscriptBox[\"tan\", RowBox[{\"-\", \"1\"}]], \"(\", \n",
       "\n",
       " \n",
       ">                       FractionBox[\"1\", SuperscriptBox[\"u\", \"2\"]], \")\"}]}], \"+\", \"π\"}],\\\n",
       " \n",
       ">    \n",
       "              \")\"}]}], RowBox[{\"2\", \" \", SuperscriptBox[\"u\", \"4\"]}]]}], \")\"}]}], \n",
       "\n",
       " \n",
       ">      TraditionalForm]\n"
      ]
     },
     "execution_count": 164,
     "metadata": {
      "text/html": [],
      "text/plain": []
     },
     "output_type": "execute_result"
    }
   ],
   "source": [
    "DeltaJ = 4*Subscript[\\[Epsilon], G]*(-15/u^2 - 2*u^2 - ((15 + 7*u^4)*(Pi + 2*ArcTan[u^(-2)]))/(2*u^4));\n",
    "DeltaJ // TraditionalForm"
   ]
  },
  {
   "cell_type": "code",
   "execution_count": 165,
   "metadata": {
    "vscode": {
     "languageId": "wolfram"
    }
   },
   "outputs": [
    {
     "data": {
      "text/html": [
       "<div>&#36;&#36;&#52;&#32;&#92;&#101;&#112;&#115;&#105;&#108;&#111;&#110;&#32;&#95;&#71;&#32;&#92;&#108;&#101;&#102;&#116;&#40;&#45;&#50;&#32;&#117;&#94;&#50;&#45;&#92;&#102;&#114;&#97;&#99;&#123;&#49;&#53;&#125;&#123;&#117;&#94;&#50;&#125;&#45;&#92;&#102;&#114;&#97;&#99;&#123;&#92;&#108;&#101;&#102;&#116;&#40;&#55;&#32;&#117;&#94;&#52;&#43;&#49;&#53;&#92;&#114;&#105;&#103;&#104;&#116;&#41;&#32;&#92;&#108;&#101;&#102;&#116;&#40;&#50;&#32;&#92;&#116;&#97;&#110;&#32;&#94;&#123;&#45;&#49;&#125;&#92;&#108;&#101;&#102;&#116;&#40;&#92;&#102;&#114;&#97;&#99;&#123;&#49;&#125;&#123;&#117;&#94;&#50;&#125;&#92;&#114;&#105;&#103;&#104;&#116;&#41;&#43;&#92;&#112;&#105;&#32;&#92;&#114;&#105;&#103;&#104;&#116;&#41;&#125;&#123;&#50;&#32;&#117;&#94;&#52;&#125;&#92;&#114;&#105;&#103;&#104;&#116;&#41;&#36;&#36;</div>"
      ],
      "text/plain": [
       "4 \\epsilon _G \\left(-2 u^2-\\frac{15}{u^2}-\\frac{\\left(7 u^4+15\\right) \\left(2 \\tan\\\n",
       " \n",
       ">   ^{-1}\\left(\\frac{1}{u^2}\\right)+\\pi \\right)}{2 u^4}\\right)"
      ]
     },
     "execution_count": 165,
     "metadata": {
      "text/html": [],
      "text/plain": []
     },
     "output_type": "execute_result"
    }
   ],
   "source": [
    "TeXForm[DeltaJ]"
   ]
  },
  {
   "cell_type": "markdown",
   "metadata": {},
   "source": [
    "В пределе малых $u$ для $\\Delta \\hat{J}(u)$ получаем\n",
    "\n",
    "<span style=\"color:brown\">**NB:**</span> Почему при малых $u$ значения $\\Delta \\hat{J}(u)$ безгранично растут по модулю?\n",
    "\n",
    "При движении пары объектов происходит уменьшение момента импульса.\n",
    "В тот момент, когда начальный импульс уменьшится до нуля тела начнут падать друг на друга,\n",
    "и момент должен перестать меняться.\n",
    "\n",
    "Нужно интегрировать с бесконечноти не до перицентра $\\hat{r}_2^\\text{min}$, а до такой точки на орбите, где обнуляется момент импульса."
   ]
  },
  {
   "cell_type": "code",
   "execution_count": 167,
   "metadata": {
    "vscode": {
     "languageId": "wolfram"
    }
   },
   "outputs": [
    {
     "data": {
      "text/html": [
       "<div><img alt=\"Output\" src=\"data:image/png;base64,iVBORw0KGgoAAAANSUhEUgAAAEMAAAAuCAIAAAD8wjOgAAAA0XpUWHRSYXcgcHJvZmlsZSB0eXBlIGV4aWYAAHjabVBbjgMhDPvnFHuEkAQHjsO0VOoN9vhrBrrVVLVEbJwHjzR+n4/0M6FZkpeoaIAQ3rxpp6iysDhLO+MJt53LVz/p2H6nVd4JvPzj6gcWa/0YJLqEzROozXfDHmS6/NzX/tj12mu9DnpddQPyf/Wve7dQFORwRleJQKOuiZKEolICD9wAFmbcVfxGHohgG2JWWJ+NEzriWj0SjMZ9PsHmKtbJxpitsjUbqPnDZ3Q9dvZ8SPoDTw5atvLPMfkAAAAJcEhZcwAADsQAAA7EAZUrDhsAAAA8dEVYdFNvZnR3YXJlAENyZWF0ZWQgd2l0aCB0aGUgV29sZnJhbSBMYW5ndWFnZSA6IHd3dy53b2xmcmFtLmNvbVyipoUAAAAhdEVYdENyZWF0aW9uIFRpbWUAMjAyNTowMzoxOCAxNjo0MDo0NEkulhAAAAWaSURBVGiB7ZlrSJNfHMfPHjeXd01HM8TeKHjJmhdyXvBuzmwyQRNDbEtF1N5ECCJZoSFEiIZTNu1dFFjgjcjyNpShUqhtUFKOgjkVy4FO5yZu/v4vDjzo9G8zN2fi99X5XZ7z+33Yc87DOaMAADoRImzdgMV0SnL8RD1Q9vz8fGVlJYVCmZ2dJQiivr7+8uXLONTT0yMSiVxdXTUaTVlZ2fXr163Q7b4Cs/Xjxw8vL69nz55hk8Ph+Pv743F/fz+NRpNIJAAwMDBgb2+Px0epA5DcvHnT29vbaDRic25ubnBwEI+Tk5NZLBaZGRISwuFwLNilOTKXxGAwODk5CQSC3SG1Wm1nZ1dUVER6bt++TaVSV1ZWLNOjeTJ3xSsUCq1We/78+b6+vqtXr4aHh9+9e1ej0SCElEql0Wi8cOECmezr62swGFQqlVXWw//IXBK1Wo0Qkkgk379/b29vr66ubm1txcv69+/fCCEnJycy2cXFBSH069ev7TNUVVW5uLhQtikjI2N3obW1tdra2tTUVD6fLxQKzScxd+8CAIQQg8G4c+cOQojH45WWltbX10ulUpxAoVD2eXxoaCg3N9fHx2djY0MgEERFRY2NjdHpdJM0vV4fHR3t5+fX3d3t6Oi4PaRWqx8+fOjp6enh4aFQKNbX1xsaGtzc3Ha0aI4UCgVC6PHjx6Snu7sbISQSiaamphBCtbW1ZOjRo0cIoS9fvpCera0tAODxeAsLC9PT0zk5OXtWaWtrIwhiaWnJxP/z58+LFy+SGwwAxMXFra+v/8068fb2JggCLwws/ArR6XRfX1+CIJRKJRmanZ2lUqk+Pj6kh0KhrK6u6nQ6JpM5OjoaHx+/Z5XJyUl7e/uMjAw2m81ms+VyOfYXFhbeuHEjKSmJzOTz+Q4ODjseNvM3AQAOh5OcnEyaz58/RwhNTEwAQFJSUmhoKBm6dOnS7l24qampubkZAIqLi6VS6Z4l7t27FxMTY+L8/PkzQRAqlWr/9g5AMjAwcObMmY8fPwKAXq+/cuUKl8vFob6+PhqNNjIyAgASiYRGo21/EwDg1atX7u7uarUaAFJSUnJzc/cs0d/f7+zsrFQqtzufPn0aHBz8x/YOQAIAvb296enpfD6fx+NVVFTodDoy1NnZmZ6enp+ff+3atZ6eHpMHAwICGhsb8biuro7BYGxsbOxZQiwWR0ZGFhQUlJeX9/b2AkBpaWlaWhqZ8OLFC6FQKBQKFxcX/57EJrp//35cXNx2D4PBeP36tUnaP0Aik8nwzovNr1+/0ul0rVZrkkaBf+HMODo62traymKxzp49++3bNzqd/uDBA5Ocf4PEHJ2ck9YpyfHTySGhAsCHDx92B5hMJovFwuPx8fGJiYmjbezPcnR0FAgEpEkFgPfv3+/OY7FYJAnesI+oQbNl0tLpLnz8dEpy/GR7kqqqqpycnMPPY2MSmUw2PDxskalsSWI0GsVicX5+vkVmsyWJSCQqKCggCMv0YDOSxcXFmZkZNpttqQmP6MtoMBio1B23hCUlJaurq+fOnZPL5UqlMi8vr6am5lA1rHpwbWlp4XK5TCbz7du32KPRaAICAlpaWsgckUiUnZ19+FrWJdna2iovL7ezs1teXsaerq4uhJBMJsPm+Ph4ZmZmYGAgvnw6jKx+I5GWlhYREUGaAoHA09MTX65aVtZd8Zubm1KpNCEhAZt6vb6joyM+Pn7/6/C/k3VJPn36pNVqSRKxWLyyspKYmGiNWtYlkUgkBEHExsYihJaWll6+fIkQIsEsK+uSjIyMhISE4H85GhoawsLCvLy8goOD37x5Y/Fa1iWZmZlxc3PT6XRPnjzJyspSqVShoaHv3r1zd3e3eC3rknC5XLlcfuvWrezs7IiIiKCgoOnp6bm5udTUVIvXOjmn3/8A5QWd6NurVmQAAAAASUVORK5CYII=\"></div>"
      ],
      "text/plain": [
       "FormBox[RowBox[{\"-\", FractionBox[RowBox[{\"60\", \" \", \"π\", \" \", \n",
       "\n",
       " \n",
       ">           SubscriptBox[\"ϵ\", \"G\"]}], SuperscriptBox[\"u\", \"4\"]]}], TraditionalForm]\n"
      ]
     },
     "execution_count": 167,
     "metadata": {
      "text/html": [],
      "text/plain": []
     },
     "output_type": "execute_result"
    }
   ],
   "source": [
    "DeltaJSmallu = Normal[Simplify[Series[DeltaJ, {u, 0, -1}]]];\n",
    "DeltaJSmallu // TraditionalForm"
   ]
  },
  {
   "cell_type": "markdown",
   "metadata": {},
   "source": [
    "## Поведение $\\hat{J}_1$ в зависимости от начальной сокрости $u$ и параметра $\\epsilon_G$\n",
    "\n",
    "$$\n",
    "\\hat{J}_1 = \\hat{J}_0 + \\Delta \\hat{J}\n",
    "$$\n",
    "\n",
    "$\\epsilon_G = \\frac{2}{5}\\frac{\\mu}{M} \\left( \\frac{r_s}{2b} \\right)^{\\frac{5}{2}}$,\n",
    "где $r_s = \\frac{2 G M}{c^2}$ - сумма радиусов Шварцшильда двух тел.\n",
    "\n",
    "При прицельных параметрах $b$ сравнимых с радиусом Шварцшильда, $\\epsilon_G$ не мал (смотри $\\epsilon_G = 0.1, 0.5, 1, 2, 10$),\n",
    "момент полностью \"съедается\" на одном проходе вдоль гиперболической траектории.\n",
    "\n",
    "Если прицельный параметр много больше, чем $r_s$, то есть $\\epsilon_G$ мал ($\\epsilon_G = 10^{-5}$),\n",
    "то только на совсем малых скоростях может \"съесться\" момент.\n",
    "\n",
    "<span style=\"color:red\">**TODO_6:**</span> Нет отрицательного момнета!"
   ]
  },
  {
   "cell_type": "code",
   "execution_count": 168,
   "metadata": {
    "vscode": {
     "languageId": "wolfram"
    }
   },
   "outputs": [
    {
     "data": {
      "text/html": [
       "<div><img alt=\"Output\" src=\"data:image/png;base64,iVBORw0KGgoAAAANSUhEUgAAAqgAAAEjCAIAAABxRWSNAAAAznpUWHRSYXcgcHJvZmlsZSB0eXBlIGV4aWYAAHjabU/bDQMhDPtnio6QFw6Mw/Wo1A06fsNBVVHVErHjPFBSfz0f6TYgTMmyF1SAAlatSgtRaGIyU73ihVZIlrv5SXRKbsH5W0CfzMfuOyZL+Vm09pOOH0KrrYG1SGX63GZ+rH5ppeyLlDbgI/h/buqCDHaLaELuqKFLChmELJQdD9yBaGScQnYP7nCPMfjo0DYGB6T73t0TNIxznKDjZW3BGpG1xCgrQlt4I2Y5VvU6JL0BWHlaupxXa6IAAAAJcEhZcwAADsQAAA7EAZUrDhsAAAA8dEVYdFNvZnR3YXJlAENyZWF0ZWQgd2l0aCB0aGUgV29sZnJhbSBMYW5ndWFnZSA6IHd3dy53b2xmcmFtLmNvbVyipoUAAAAhdEVYdENyZWF0aW9uIFRpbWUAMjAyNTowMzoxOCAxNjo0MDo0NT4ppoYAACAASURBVHic7N15XNP1/wDw9+7tM7axjcEY9yEO5dJUvGhopiZalremAVqIWf70i4aaWb/CI8vqh33F+oZXlsrX+mqaWqihkkcmCgICQxkbN2xsY/fx+f3xocWXywPYBryfDx8+9nlvn8/nNa7X3jcORVEAQRAEQdDggHd0ABAEQRAE2Q9M/BAEQRA0iDgs8VdXVyclJZnNZluJXq9XKpWOigeCIAiCBgMnqvGfPXv2ypUrjo4CgiAIggYyp0j8BQUFBw8e/OWXXxwdCARBEAQNcE6R+FEU9fb29vHxcXQgEARBEDTAER0dAAAAREREAAAkEomjA4EgCIKgAc4pavwQBEEQBNmHXRO/QqG4du2aPe8IQRAEQVBbdk389fX1hw4dMhgMAACdTkcgEPB42OQAQRAEQfZj17zr5eVFIBAuXLig0Wh+++23wMBAmPghCIIgyJ7sOrjPxcVlxYoVP/zww7lz5/z9/ZctW2bPu0MQBEEQhIOb9EAQBEHQ4AFb2iEIgiBoEIGJH4IgCIIGEZj4IQiCIGgQgYkfgiAIggYRmPghCIIgaBCBiR+CIAiCBhGY+CEIgiBoEIGJH4IgCIIGEZj4IQiCIGgQgYkfgiAIggYRxyf+pKQkR4cAQRAEQYOF4xM/BEEQBEF2AxM/BEEQBA0iMPFDEARB0CACEz8EQRAEDSIw8UMQBEHQIAITPwRBEPS40tLScF2oqqp66ssuXbp09OjR2OMhQ4a89dZbPQ8VRdHvv/9+0qRJXl5eDAYjKipq/fr19fX1Pb9yu7totdrevWZfIzo6AAiCIKif2b59O5vNblfo6urqkGA6haLorFmzzpw5Ex0dvWTJEnd394KCgj179mRmZubm5gqFwt660dmzZ5OSkqRSadvChoaGtWvXXrhwgUajzZw58+OPP6ZSqb11x56DiR+CIAh6MkuXLvXy8urFC+7bt89qtfbiBXfu3Hn27Nn09PTVq1fbCjdv3iwSiebMmVNYWNgrd2lsbHzvvffaFRoMhrFjx5rN5vXr12s0ml27dpWUlJw/f75X7tgrYOKHIAiCHAxBkF68WnFx8ZYtWxISEtpmfQBASEjI+++/n5qampeXN2LEiJ7c4u7du6tWrbp9+7Zer/f29m771OHDhx8+fJifnx8WFobddOHChdevXx87dmxP7tiLYB8/BEEQ1GsSExOPHj36zTffjBo1ytXVddKkSdeuXbM9e+XKlcmTJ7PZbDc3t5kzZxYXF2PlCQkJtj7+toxG4+bNm4cPH85kMqOjo/fv3297auXKlUeOHDly5EhMTAzWhX/u3DnsqaysLLPZvHHjxo4XTEpKUigUPcz6AAA2m7148eJPPvlk3Lhx7Z769ttvR40ahWV9AMArr7zCZDLbRu5wsMYPQRAEPZnvvvuOw+G0LWGxWHPnzgUAXLt27ebNmwqFYu3atVQq9euvvxaJRDk5OePGjROLxdOmTYuOjk5LS1Or1enp6XFxcWKxGI/vsgo6e/bsixcvrlu3TigUZmdnJyYm1tTUbNq0CQBw48aNvLw8jUaTmpqqUql27949Z84cqVTK4XDy8/MRBAkMDOy7r4Cvr++bb74JALhz5067Dn6JRDJlyhTbIYlECg0NLSoq6rtgnhRM/BAEQf3en/frTBZLr1zKj8/y5NK7f82GDRvalQiFQizxAwBKSkoKCwtDQkIAAImJicOGDduyZUt2dvbFixd1Ot3hw4extvHw8PCsrCyFQsHlcju9y4ULF86ePXvkyJHFixcDAJYtW0an07dv356cnIwNLSwqKiovL3d3dwcAuLu7z5s3r6CgQCQSNTc38/l8HA5nu1RCQsKBAwdshykpKbt27Wp3O6VS+eGHH3YMIy4ubtKkSd1/QWxQFK2urm73jrhcbmVl5WNewQ5g4ocgCHp6LQazRK6VNGoqmjQKnXHzC8McEsbBM/eUGkOvXGrxtFBPbkD3r5HJZN0M7hOJRFjWBwAgCJKQkLBz504URcPCwnA43KJFi1atWjV58uQZM2bMmDGjm7vk5uYiCLJw4UJbyfLlyzMyMvLz80UiEXYjLOsDALDWe7PZDAAICAi4fPmy2WwmEltz3GuvvWbrYu84HA9jNBqvX7/esfxJ+wVQFO1Y2E2rhv05ReLHNujbt2+fowOBIAjqDgqAUmuqaNJImjQVTRqJXNvY8l/pVqkzsWgkR4XnJNoNdvP19dXpdA0NDePHjz99+vTu3bvj4+ONRmN4ePiqVatWrlzZ1XVkMpmnp2fblIldWSKRYId8Pr/TE4VCoclkKioqioiIwEpiY2NjY2MBAGazec2aNZ2exePxrl69+vhvs1M4HM7Dw0Mul7ctlMvlvTsJooecIvHDlA9BkHNCAWhQGyRNGolcK2nSSOSaZq2pqxdz6WSF1uiQxL/ipQiTuXemw/l4MHp4hXYr+UilUgqFgrV+Y7V8nU538+bNjIyM5ORkNzc3Wx9BOwKBoLa2FkVRW6N9dXU1aPPBom1jfltxcXGpqanbtm07evRou6fOnz9vMHTeNIKiqFKp7FhOo9EoFEpXb7Yjf3//ttMFLRZLaWnp/PnzH/8Kfc0pEj8EQZCTsKJojVKP1eklTVqJXKM1dt53jgOAz6L5cRB/N7ofB/Hj0l0oDvuLGhHMc9StO8rJySkvLw8KCgIA6HS6AwcOREdHEwiEjRs3/vzzz3l5eTQaTSQSjRkz5vjx46WlpV1dZ/z48RqNJisry5Y1MzMzEQSJjIzsPgChULhy5co9e/bExsa2bVEoKSlJTk7u6qyqqiofH5+O5du3b09NTe3+jm0tWrTorbfeqqio8Pf3BwCcP39eLpdjwxScBEz8EAQNamaLVdaskzRpsWRfqdAau6g6E/A4L1eaP5fux6X7cRBfDkIlEewcrZPoOKofADBhwgRsRTwEQWJjY1NSUqhU6r59+6RS6eHDhwEAMTExO3bsePHFFxcsWNDS0nLixAkSiTRz5syu7jJ16tSpU6fGx8cXFRUNHTo0Ozs7MzMzLS2tq8GAbaWlpUkkkuTk5IMHD8bGxvJ4vPz8/GPHjs2bN6+rcXY8Hu/SpUsdy590dsCrr766e/fuWbNmbd68WaVSbd68+bnnnouJiXmii/QpmPghCBpcDGZrpVxT0YQ13WtlCq3F2sloLAAAiYD35SD+XLofF/Hn0r1daUSCEw3RcqCOo/oBABkZGVjiX7hwYVhYWEZGhlQqjYqKunTp0oQJEwAAM2bMOHDgwGeffZacnEyj0UaOHJmdnW3rhu/UqVOntm7deuzYMZlMFhoaun///vj4+MeJkMlknjp1at++fadOncrMzKTRaKNHjz506NC8efMOHTrU6SqBFAoFGwfQQ0wm8+rVq2+//fbatWtpNNr8+fM//fTTnl+2F+E6HX9oT0lJSbCPH4KgvqMxmCvkWkmjRiLXVDRpapX6rv7q0UgEv7/SvB+H7smiEvCd9yJDXQkNDY2Njd27d6+jA4G6BGv8EAQNKCgAzVpjBdZD36SpaNI0aYxdvZhJJflz6f5cBMv3PBdqF8PFIGjggIkfgqD+DUVBvVpf8dfA+4omrVrf3cB7fy4d66f359JdkcE+9Q4ahGDihyCon7FY0WqlrrVCL9dImrR6U5cD7z2Y1NbheFzE36ED7weJL774gsdzoikGUEfwdwCCIGdntFhlcq1Ebht4rzNbHjnwHvHn0n3Yg3fgvaNMnTrV0SFAjwATPwRBTkdrtFTKW6fRVzRpqpv11i6GIZMJeF8O4gcH3kPQY4OJH4Igx2vWmiRyjW2BvHp1l8vOI2SCH5fux6H7cxF/Lp3PouLheDwIehIw8UMQZG/YcLzWRXCbtBK5RqnrcjieK0Ly42Bj8RA/Dt2NQYF5HoJ6AiZ+CIL6nMWKVjXr2qx43+VwPACAO4Pqx0X8uHR/DuLHpcM9byCod8HED0FQ79OZLFK5VtLaT6+tUmjNXayOR8DjBCzaX5me7sNBEDIcjgdBfQgmfgiCekGz1lQp11TItZVNGolcW6fSd/VKMhHvy0H8OK3D8bxcaSQ4HA+C7AgmfgiCnhiKgjq1Hmu0r3xUJz2DSvTj0H25CDYiz4MJh+NBkCPBxA9B0KNhW9hV/rU0nlTRXSc9j0Hx47TuVOvHRVwRMszzEOQ8YOKHIKgTGoO5Uq6tlGslck2lXFvVrOtqC7u/O+k5dD8u4suhw056CHJmMPFDEARQFDS0GCrlGolcK5VrJd1ubEMlEXw5iB8H8eXQ/bgI7KSHoP4FJn4IGoxMFmtVs07SpK2Ua7Cava7rpns2Qsaq8n4cBG5hB0H9HUz8EDQoqPVmLMdL5NpKeXeL4OJwQMCi2Qbe+3IQBhXOpIeggQMmfggagKwoWqvUY8PxsEXvFdoum+4pRLwPB/Hj0LEGfG82QibCpnsIGrBg4oeggQBbMKey9Z9GqtCZuti/DgDARsitnfRcui8H8WDApnsIGkRg4oeg/gcbiydVaCvlWqlcWynvblcbbNS9LwfxxTI9G2FQ4S8+BA1e8PcfgvoBvcnSmuYVWqlc1/00ejqFaBt178tBBCwq3KkWgiAbmPghyOlgm9dJFVhtXitVaLup0AMAPJhUrEKP9dOz6XDBHAiCugQTPwQ5nsZolsl1UgVWoddKFVqDucseehqJ4MNBfDmIDxvx4SDerjQqCS6YA0HQ43KKxJ+UlAQA2Ldvn6MDgSB7sFjRGqUeS/MyhbZSrpV3vVoO7q8KvQ8H8WEjvhyE6wI3pIccJi0t7d133+30KZlM5uXl9XSXXbp06f379//44w8AwJAhQ6ZPn56env70UQIAAEBR9OjRo1999VVpaalKpQoKCnr++efXr1/v7u7ewyv3d06R+GHKhwYwFAC5xiiVa2WtmV5Xrexy+VsAAEImYAneh4P4suHkOsgZbd++nc1mtyt0dXV1SDCdQlF01qxZZ86ciY6OXrJkibu7e0FBwZ49ezIzM3Nzc4VCYc9vcfLkyS+//PLPP/9EEEQkEm3bts3X17fnl7UDp0j8EDSQtG23lyl0Vc1arbHLgXgEPI6PVejZrXV62EMPOb+lS5c+deW+U/v27bNau+zeego7d+48e/Zsenr66tWrbYWbN28WiURz5swpLCzs4fX379+/YsWK5557bufOnU1NTbt3775y5crdu3ed6tNPV2Dih6AeMZqt1UqdTKGzVei7WSoHAMChk73ZiA+b5s1GfNhwyD0EAQAAgiC9eLXi4uItW7YkJCS0zfoAgJCQkPfffz81NTUvL2/EiBE9ucW7774rEonOnj1LIBAAAC+88EJkZOS//vWvlJSUHoVuFzDxQ9ATMFusNSq9TKGrUmhlzTqZQteg1nfZag8AjUTwZiM+HJoPG/FmI95sGp0Mf+mggSwxMXHq1KkajWbv3r1isXjEiBHbtm0bN24c9uyVK1e2bt2al5dHIBDGjh27a9eu0NBQAEBCQsK9e/ewPv62jEbjBx988J///EcqlYaGhq5cuTIhIQF7auXKlTExMQCAjIyMO3fuBAUF7dixY/r06QCArKwss9m8cePGjuElJSVho8p6oqGhobq6etOmTVjWBwBERER4eHj0vCHBPuDfIAjqksWK1qr0MoW2qllX1ayTKXR1qi6XuAd/LZXjw0G82a2ZngPb7aGB6LvvvuNwOG1LWCzW3LlzAQDXrl27efOmQqFYu3YtlUr9+uuvRSJRTk7OuHHjxGLxtGnToqOj09LS1Gp1enp6XFycWCzG47ts9Jo9e/bFixfXrVsnFAqzs7MTExNramo2bdoEALhx40ZeXp5Go0lNTVWpVLt3754zZ45UKuVwOPn5+QiCBAYG9tHbZ7FY9+7d8/b2tpWUlZXV1dX13R17F0z8ENTKbEXrVPrqZp2sWSdTaKubdbUqfTej8HA4wGdSvVwRbzbNy5XmzUb4TCoBDxM95ADqe/utZl2vXIrmNYHMi+z+NRs2bGhXIhQKscQPACgpKSksLAwJCQEAJCYmDhs2bMuWLdnZ2RcvXtTpdIcPH8ZSZnh4eFZWlkKh4HK5nd7lwoULZ8+ePXLkyOLFiwEAy5Yto9Pp27dvT05OxoYWFhUVlZeXY6P03d3d582bV1BQIBKJmpub+Xw+rs1K1AkJCQcOHLAdpqSk7Nq1q93tlErlhx9+2DGMuLi4SZMmtS0hk8nDhw+3HT548GDWrFk8Hu+NN97o7qvmNGDihwYpo8Vaq9RXK3VVzbrqZl1Vs66u+zQPAI9B8XJFvNg0b1eaNxvxZFHhPvSQk1Dlf2XRNfbKpfAk5JGJv/uZeyKRCMv6AAAEQRISEnbu3ImiaFhYGA6HW7Ro0apVqyZPnjxjxowZM2Z0c5fc3FwEQRYuXGgrWb58eUZGRn5+vkgkwm5km5uH9dmbzWYAQEBAwOXLl81mM5HYmuNee+21sWPHYo/fe++9Tm9nNBqvX7/esbyb0QA6ne6TTz7ZuXOnQCD49ddfPTw8unk7zgMmfmhQ0Bot1UpddbOuulmHPWhQG7rpmwcAuLlQsKo8VqcXsGhwWh0EPY62beAAAF9fX51O19DQMH78+NOnT+/evTs+Pt5oNIaHh69atWrlypVdXUcmk3l6erbtCMCuLJFIsEM+n9/piUKh0GQyFRUVRUREYCWxsbGxsbEAALPZvGbNmk7P4vF4V69effy3+fvvvyckJNTW1m7atGnt2rU0Gu3xz3UsmPihgQYFQKExVit1NUpddbMee9CsNXVzCg4AHoPq5UrzcqV5sWlerjRPFo0C0zzUf7i/cBC1djlr9IkQ6T2ttlZVVbU9lEqlFAoFa8/Havk6ne7mzZsZGRnJyclubm62PoJ2BAJBbW0tiqK2Rvvq6mrQ5oMFrottJePi4lJTU7dt23b06NF2T50/f95g6HwBbBRFlUplx3IajUahUNoV5uTkTJ8+ffr06VeuXOl3KwLBxA/1bwaztVapq1Hpa5T6WqWuRqmvUeq6We8WAEDA4zyYVAGLJnClCVhUbzbCZ1HJsNEe6s9I7BBHh/C3nJyc8vLyoKAgAIBOpztw4EB0dDSBQNi4cePPP/+cl5dHo9FEItGYMWOOHz9eWlra1XXGjx+v0WiysrLmz5+PlWRmZiIIEhn5iJ4IoVC4cuXKPXv2xMbGtm1RKCkpSU5O7uqsqqoqHx+fjuXbt29PTU1tW2K1WpcvXz5+/Pgffvihqw8fzgwmfqjfsKJoU4uxVqWvVupqsTSv0nez2C2GTMR7smgCFtWLjXixaAJXqjsDDsGDoB7pOKofADBhwgRsRTwEQWJjY1NSUqhU6r59+6RS6eHDhwEAMTExO3bsePHFFxcsWNDS0nLixAkSiTRz5syu7jJ16tSpU6fGx8cXFRUNHTo0Ozs7MzMzLS2tq8GAbaWlpUkkkuTk5IMHD8bGxvJ4vPz8/GPHjs2bN6+ysrLTU3g83qVLlzqWdxyrf+PGjfLy8pEjR3788cdty6OioqZNm/bI2BwOJn7IGaEAqHSmOpW+RqmvU+lrVLpapb5ObTBbHrG2F4tG8nal8Vk0gSvVk0UTsGhshNwPP5FDkFPrOKofAJCRkYEl/oULF4aFhWVkZEil0qioqEuXLk2YMAEAMGPGjAMHDnz22WfJyck0Gm3kyJHZ2dm2bvhOnTp1auvWrceOHZPJZKGhofv374+Pj3+cCJlM5qlTp/bt23fq1KnMzEwajTZ69OhDhw7Nmzfv0KFDna4SSKFQsHEAj1RWVgYAyMrKysrKalu+cuXKfpH4cWjXk5LtIykpCa7VP5jZcnytSl+v0teq9HVqQ51K381+8xgSAc9nUvksqieL5smiejKpfBYNIT/hPnUoajFqzdpmi05l1qkserVZp7IYNBZ9i9Wksxq1VqPeatJbzUarWY9azKjVjFr+DgyHx+PwBByBjCOSCSQqnkwjUF0IVCYRYZFcuCQ6h8TyILP4eCL5Kb4yENQfhYaGxsbG7t2719GBQF2CNX7IfqwoKtcY69SGepW+Tq2vVxnq1fo6lb77LnkAAA4HeC5ULM3zma0PuHTKI6vyVqPOqK43qRqMqjqTutHU0mRSN5hamkwtcnOL3KRVmDVy1GLutXfYBZILl+rmR3ULoHkEIwIh3Ws4xVUAYEMEBEGOABM/1Cd0JkuD2tCgNtSr9fV/PWhsMZi7nihvw0bIfCbVg0n1YFL5LKqAReUxqMSueuVR1KRVGBXVBkWVobnaqKg2quqNyhpjc61RWWcxtPTim8LhCTg8AeCJOBwO4PCo1YKajQAHHvnRwdTSZGppUlfctpWQ6BxGwChmUDRraAxdMAx+CIAgyG7sl/hRFC0rK7Ot6gANDEaLtanF0NBiaFAbGv/6v1al72Y/OhscABw62YNJdWdQ3ZmU1mTPoHY+XR61GpV1+qZKg1yqb6o0KKoMiios31tN+icNm4iwSC5uRDqbiLCICJuIsIg0FhFhEahMAoVOoLpg/+NJNAIFwROpOBKlNet3CkWtFpPVqLUadRZDi1mnMmuazVqFUVlnVNUbm6v1TVJ9U4VFp7adYdLI5fd+kd/7BQBAZnlwwqe7jZjFDIoGODi5AOrfvvjiCx6P5+gooO7Yr4///PnzO3bs6DhmEvbx9wsGs7WxxYDl+KYWY2OLoaHF0NhiUOq6mx9vQyTgeS4UHoPiwaC6MykeDKoHk8JzoXS6MZ3VbDQ0SXT1D/QND/WNFfomqUFeqW+SopbHuhcAgEBxIbM8yCwPEtODzOSRmR4khhuZ6UF04ZIZbkQXDg7vgLYus7ZZW1OirbmvkRWqH97S1pa0ewGF4+Mxfgl//KtEevudziEIgnqLPf78FRQUHDx48MCBA+Hh4Xa4HfTULFZUoTU2aYxyjbGpxdCkMTZpDI0thmatqcXwuB3hbITs5kLhMSjuDIo7g4o9cKV1MbQeRQ3N1bq6Ml39A339A13DQ33DA71cBtBH78xNoNDJrgIKW0BxFZDb/u/qSaDQn+R92wkRcWUGRTODorFDs06lKsuVF2Yrii6aVPUAAINcWnl6h+yXL/gTX/Oa8iaJ3n66FARBUM/ZI/FbLBYfH58pU6bU1dXZ4XZQ97DsrtAa5RqjXGOU2x5ojM064+M3ALFoJK4LhYf9Y1CwZM+lk7tbvh5Fjao6bXUxVvHV1pbp6sosBk33N8KTKBSOD5Xr2/o/15fK9aVwvIk0Vr/uGifSmJyIFzgRLwDUqnpws/7GsfobxwEAVqOu+mJG/bXvfGas5098rcv+BQiCoKdij8QfFRUVFRXl4uLy7bff2uF2EIqCFoNJoTU1a40KrQlL8wqtsVlrUmiNKp3p8Xt38DgcGyFxXShuLhQ3OtmNQXGjU7guFK4L+XGWukOtFl29WCMr1MjuaaoKNbJ7Zm1zN6/HEUg0XgCVF0BzD6TyAmi8QCovgMx0H+A93zg8M2gsM2hswMv/W5t7SJadbtGpzTrVwxNbGm+fHLI0ncr1dXSIEAQNHE4xqj8pKcn2GPb3Pw6zxarUm5U6k0pnatYZm7W2/03NWqNSZ+pml7lOMakkNp3MpZO5dAqXTua6kDl0MpdOcUVI+CesVRtV9eqHt1okt9WSOxppfjcVepILl+YxhMYPRjyG0DyCae5BZFfBYK7gEmgMrylv8p9NqMreIzv/BQBA/fDW3Y+nhiz7kj38OUdHB0HQAOEUiR8m+3YMZqtSZ1LpTSqdqe0D5V8PHmfMfDt4HM4VIbERsitC4tIpHITMppM5dDIHIbMRUqeD7J4gYLlMWfa76sENlfi6vrGi8wBIFIQ/lO4dhvBDEK/hiEAI+7A7RSAjvjM2uI+ZX3pwVUvlXYteXfx1fNCCHR7jljg6NAiCBgKnSPyDisFsVetNKr1ZrTep9WaV3mR7gBU2a02mRy1M2ykCHsekklwREotGcqWRWQiJg5CxTM9GyAwq8Unr7t2zGnXKslxF0cXm+zmdJns8kUz3jXTxDnfxjaR7h9E8gh0ylr6forr5h689VfGf/63J+Qag1vKjG1CLhT9xmaPjgiCo34N/iHsNCoDBZMGStwrL5bpOErzxqZI6hk4hsmgkFpXEpJFYNBKTRmJRSVw6mYWQXGkkFwrJDmPdLDq1vPAXef45RdHFjhPoySw+MyiaETiaGTgG8RwKM31P4PDEgFf+l+Ye/CBrIwDgwb83kV35nLCpjo4LgqD+Df5dflwoADqjBRsc14y1wLdpe8cy/dPV1DFYfZ1BJTJteZ2KZXci9oBBJXW5el3fQ60WZcnl+hvH5Pd+sZr+azdrEp3DEopYQ8azQiZSOT79eqS9E+JPXAZwuAfHUwGKlh58MzLlLM0j2NFBQRDUj8FNetrTGi2NrcvUGORao0JjlP81Ht74qCXlAQC065m6sYntCskEPINKZFBJ2P/Mvx4zqSTmX4U0MqG3EmbvfknN2ua634/UXj1oUFS1LXfxiWAPn8IOe97FO2wAjLp3kp/DrsKoPL1D9ms6AIDuHR6x7iccgWT30JyXk3/vIMjZDOoav9FsrVHqqpp1NUp9rUpfq9I3qB9rrdm2iHgck0bCqulMKvHP62DBKN+/kjqRQSUxaSRKp2vQOj2TRl5z6auay5ltR+ZT3fw9xi1yG/kShePjwNgGG9+4DaoHN1XlNzSygqqLGd7Pv+XoiCAI6q+cPSG1nenXK1crrlGdLqj+8jfxhhN3Xz/8x5ZT9zIul5+8W3XjYZOkSdNp1qddz/RhI2FerInBbi9GCF6N9nszNnjzjGEfz4nMWDLqm9fGfD5/xP++GJby/NA3YoIAAHHhns8O4UX5uAbyXHgMSrus3/076ubZTp/q3a+PjdWok53//M/3o2W/pmNZH0cguY9dGJFyduS7V72mrH6crN/r3zu7nfV0V+vb7x0OP2RpOo5ABADIfvnCqKx9gnOfkDN84+wcRlfPPmn5U1u/fn11dTX2+OjRoydPnuzdljZQJAAAIABJREFU60NQW05R48d+i/qolcxksZbUqu9VK4trVQCA7eeKu3oli0bis6juDKqbCzaXncJzIbMR8urrmWmzB9Fiw83Fl8qPpxrkMuyQ5ML1FK3gx8QTaUzHBjbIUdhevnGpklMfWY062S9fBM7b7uiIIAjql+zUx99HFVMIgiDn98hazfr169euXSsQCAAAR48epdFoL730kl1CgwYjO9X4u/m5t30m6JUaf71a/0eF4pZEXt7QfiN2ChEv5DOD3V2CeC4BbnQ62SlaO5yHojC7/NgGo7J1PwXe6Ln+L2+Fa+w4m9qrh7DZfYJJb/jP3urocKDe5/AB19CA5xTJr+cpX6kzXXvQ+Ht5U0VT+wViA9zoUT7scAErwI1OcNx0OGdmVNZV/Li1Me8n7JDC9gpe9ClraIxjo4I65R69QHb+M6OqviYn0+u5N0kMN0dHBPUOq7V10lBFRcWwYcMcGww0sDlF4n9qRov1T4kiV9xYUN3c9lMykYAf7skc5ceJ9HZ1ReDEpy6hVkvt1YOVp3daDK0NJPyYeL9Zm5xzW1sIAIAnUQSTkyv+8wFqNct+TQ945QNHRwT1Ajqdfv369dmzZ4vF4qqqKpj4oT5lv3n89+/fFwqFHcufbvKrVKG9VFL/e3lj23H4BDwu3Is1PsgtytuVShq8e708ppbKuw+Op7ZI87FDhB8SOH+Hbbd4yGlZjbrbH03AOmVGvnuVygtwdERQTxUXF585c6a2tjY0NHT48OE4HC46Gv4mQn3FTjV+uVw+atSolpb2/e5PymJFb0nkvxbXldap25aHeDAmBLmNCeDAnvvHYdGpJWd21F49CFAUAIAnUX2mrxVMSoLLwvQLeDLNd8YG8ff/AACUZ20cnvw9XC2xvwsNDQ0NDXV0FNBg0efz+OVy+Ycffjhx4kSNpsvtWR+HzmQ5V1jzj3/f+fI3sS3rc+jkFyO9Ppkb9e6MYZOGusOs/2go2vjnf25ve7b2ygEs67OHTY7aeMlrymqY9fsR3ph5dO9wAICy5ErjndOODgcaRNLS0nBdqKqqevT5XVi6dOno0aOxx0OGDHnrrV5YogpF0e+//37SpEleXl4MBiMqKmr9+vX19fU9v3K7u2i12t69Zl/r80xptVqZTOYrr7ySlpb2dFdQaI1n79XmlNbrTH+36od7sZ4TekT5uPbujnMDm77hYfnxVGXpVeyQzOIHzPmQG/ECrC/2Ozg8IWjBjvzdswBqffjvzayQCXD+BWRP27dvZ7PZ7QpdXV0dEkynUBSdNWvWmTNnoqOjlyxZ4u7uXlBQsGfPnszMzNzc3E77nZ/O2bNnk5KSpFJpb13QDvo88bu5ua1Zs6a8vPwpEn9ji+Gn/OrLZQ0Wa+tABDIR/+wQ3tRhfD6T2tuRDhwqlUqj0Xh6etpKrCZ9VfYe2a97UIsJAIDDEzxFy31e+AeB4uK4MKFWKIqWlZWFhIQ80VkuvlGCSW9UX8wwtTQ9OPbO0MSv+yg8qJ2n+34NMEuXLvXy8urFC+7bt882r6FX7Ny58+zZs+np6atXr7YVbt68WSQSzZkzp7CwsFfu0tjY+N577/XKpezJKZbsTWoDK1FojZm5D9efuHuppB7L+i4U4vxnfL6YP2LZWH9nyPpSqXT69OksFmv8+PH5+fkdXyAQCGwtYB0/Gvep7du3f/XVV7ZDReGFO9snSc99hmV9F7+oiJSz/rO3wqyP+eqrr9o2V37xxRd2DuCXX35pu8KVXq9PTk7m8XhCofDYsWPdnOj7QgrVzR8A0HT354ZbJ/o6TidRWlra9vv18ssvY+U5OTkjRoxgs9nz58+Xy+V9F0C77xcAYM+ePYGBgQKBYPPmzbbsZbd4BgYEQVxceu0vUnFx8ZYtWxISEtpmfQBASEjI+++/X11dnZeX18Nb3L17d8KECT4+Pn/++WcPL2V/vZn4t2zZsqKNLVu2POaJ+9rASjQGS05pa8rn0skJ4wO+WDBiZoSATnGWXvwFCxaEh4eLxeK5c+fGxcWZTKa2z2o0mtra2nv37onFYrFYfPv2bftEdebMmYSEhE8++QQ7NMhl9/+1vPirZfqmSgAAEXENWrAzYu1PdK/h9omnXygrK0tKShL/JT4+3m63LigoSElJWbJkSdvCDz744P79+3l5eXv27FmxYkVRUVFXp+PJtCFLPse2Riw/ul5XJ+7ziJ1AWVlZVFSU7fu1d+9eAEBTU9NLL72UmppaXFxMIBCSk5P74tadfr/Onz+/bdu2EydOXL58+ccff8T+iNknHueUmJh49OjRb775ZtSoUa6urpMmTbp27Zrt2StXrkyePJnNZru5uc2cObO4uHUN9YSEBFsff1tGo3Hz5s3Dhw9nMpnR0dH79++3PbVy5cojR44cOXIkJiYG68I/d+4c9lRWVpbZbN64cWPHCyYlJSkUihEjRvTwbbLZ7MWLF3/yySfjxo3r4aXsrzfz6MiRI5VKpe2QxWI99aW82bQxAdwHjS2zIgQxwTxnW3jnzz//LCgouHTpEoVCWbdu3T//+c+ffvrplVdesb2grKzMy8tr+HB751cURaOiogoKClCrpSp7j/TcZ1aTHnvKY+wi3xc3wZ7gjsrKymbNmhUUFGT/W1ssFh8fnylTptTVtS6YaLVa//nPf/7888/e3t7e3t7z58/PyMj4v//7v66uwAgc7TN9nfTsJ1aToShjSeSGXwf8lgplZWVhYWHtvl8HDhwYPXr0ggULAAAff/xxYGBgfX29u7t779664/cLALBnz54333wTSyQbN27ctWtXcnKyfeJxoO+++47D+a8/JiwWa+7cuQCAa9eu3bx5U6FQrF27lkqlfv311yKRKCcnZ9y4cWKxeNq0adHR0WlpaWq1Oj09PS4uTiwW4/FdVkFnz5598eLFdevWCYXC7OzsxMTEmpqaTZs2AQBu3LiRl5en0WhSU1NVKtXu3bvnzJkjlUo5HE5+fj6CIIGBgX33FfD19X3zzTcBAHfu3OlfHfygdxO/rc2tV7w2zp9GIjhbyseUlZWFhoZSKBTscMSIEWLxf1W2xGIxiqIjRowoKyuLiIj49NNP7fOpcObMmQCAa5fO1uYekjS3NkLQvcMC521n+I+0QwD9kVgsPnz4cEpKCoIgixYtSktLs31n+1pUVFRUVJSLi8u3336LldTX16tUKlt1ZOTIkWfOnOn+Ij7T1qgr/mwuvmSQy0oPrAxNOoTDO0vDWF8Qi8WFhYW+vr5qtXry5Mnp6ekCgaCsrMz2RfPx8XF1da2oqOj1RNvx+wUAKCsrs1XoR44cif0psE88bV0u/NRg6tHMKZuhXlN9eWO7f82GDRvalQiFQizxAwBKSkoKCwuxYRCJiYnDhg3bsmVLdnb2xYsXdTrd4cOHvb29AQDh4eFZWVkKhYLL5XZ6lwsXLpw9e/bIkSOLFy8GACxbtoxOp2/fvj05ORnrPy0qKiovL8e+sO7u7vPmzSsoKBCJRM3NzXw+H9dm2HJCQsKBAwdshykpKbt27Wp3O6VS+eGHH3YMIy4ubtKkSd1/QfoX5/0D4eI0rfodNTQ0MJl/16tYLFa7KSI6nS4yMnLnzp0+Pj579+6Ni4srKSnh8Xh9HZhZo6g4+WFzyWUXFhEABoHG8I17hz9hGQ4PlzPqEpvNnj179smTJyUSycKFC2k0Wqe//PbR0NBAIBAQBMEOO/5odQKHD1n2ZcFnM3X1D5rv5zw8sWVgb9xHJBKjo6O3bt2Koujbb7+9YMGCK1euNDQ0YLkE81hft17S9q8Bi8XS6XQtLS32j+e+7JzW0NQrl3JjBj8y8ctksm4G94lEItvgRwRBEhISdu7ciaJoWFgYDodbtGjRqlWrJk+ePGPGjBkzZnRzl9zcXARBFi5caCtZvnx5RkZGfn6+SCTCbmT7OIV90jKbzQCAgICAy5cvm81mIrE1j7z22mtjx7a+qa6G4xmNxuvXr3cs73m/gLOxU3INCgoaSDtPcDgctfrvFYRUKlW7NqWlS5cuXboUe5yamvqvf/0rJyfH9nG4T6Bow60TFT9+YNK0DiNyG/FiwJz/JTH6/NNGf3flyhXsQURExKZNm3bs2OHAxM/hcCwWi06no9FoAACVStWuQbVTRIQlfP1gwWczzVpl7dVDVK6fYPLKvg/WMT7//HPb488++8zHx6exsbHjr+TjfN16Rdtbq1QqMplMp9MdGI8zaPuhBwDg6+ur0+kaGhrGjx9/+vTp3bt3x8fHG43G8PDwVatWrVzZ5c+qTCbz9PRs2xGAXVkikWCHfD6/0xOFQqHJZCoqKoqIiMBKYmNjY2NjAQBms3nNmjWdnsXj8a5evfr4b7P/ct5atTMLCQm5f/++0Wgkk8kAgIKCgvnz57d9wcmTJ729vZ955hnskEAg0Ol9uPq9rv7Bg6xUZWlu6+0odN7omSHxe/vujgNGTU3NTz/9tGLFCuyPS19/px6Jz+czmcz8/HxsxdaCgoLHnDZGcw8cmvB10d7FqNVccfJDIuLqPnbho0/rh/bu3fvyyy9jf/EJBAIOh6NSqSEhIRcvXsReUFtbq1Ao7DZoIyQkJD8//4UXXgAAFBQUDBkyBIfD2T+ehCmnQC9VrvD4nq7l1W4lH6lUSqFQsPZ8rJav0+lu3ryZkZGRnJzs5ubWVaVIIBDU1taiKGprtK+urgZtPljguliDJC4uLjU1ddu2bUePHm331Pnz5w0GQ6dnoSjadpiaDY1Gs1v3n304xXS+fmf06NEBAQG7du0ym83ffvutXC6fNWsWAODmzZs5OTkAgOLi4rlz5/7xxx9qtfrTTz/V6/UxMX2y2Z3VbJSd//zuzuewrI/DE72mrGYPfx6b5QU9kouLy+bNm7du3drY2FhYWLh9+/ZXX33VgfEQCIT4+PiPPvpIo9HcvXv3+PHjy5cvf8xzWSEThrz6BbYck/j7fwzUCX4nT558/fXXHzx4UFdXt27dupdfftnFxWXp0qVXr169cOGCwWD44IMP4uLiPDw87BPPihUr9u7dW1lZKZfLP/nkkxUrVgAA7B8PiUAjEZFe+UfoceLPyckpLy/HHut0ugMHDkRHRxMIhI0bN0ZGRlqtVhqNJhKJMjMz8Xh8aWlpV9cZP368RqPJysqylWRmZiIIEhkZ2X0AQqFw5cqVx44dy8jIaFteUlLSzQyLqqoqdmc+++yzx3rb/Qes8T+lkydPJiYm7t69e8iQIb/88gv2eXDv3r21tbUikeidd94BACxZsqSurm7s2LHnz5/vxSmqNuoHf4iPptgmcTH8RwYt2IUIhLjjS3v9XgMVg8HIzc1dvXp1cHAwl8tNSkpqN/HX/nbu3Pnmm28GBQW5urqmp6c/Uf+i2zOzLfqW8uPvAADKvv0fAABv1Jy+CtRBjh8/vnbt2okTJ1qt1lmzZmGTV/l8/o8//rhu3bqqqiqRSNR20ldfe/nllx88eBAbG2s0Gl999dW3337bsfHYR8dR/QCACRMmYCviIQgSGxubkpJCpVL37dsnlUoPHz4MAIiJidmxY8eLL764YMGClpaWEydOkEgkbEhyp6ZOnTp16tT4+PiioqKhQ4dmZ2dnZmampaV1NRiwrbS0NIlEkpycfPDgwdjYWB6Pl5+ff+zYsXnz5lVWVnZ6Co/Hu3TpUsfyPp0d4Bioo73xxhuODqH/MetbHpzYkrvGK/dtQe7bguvvDK25egi1WhwdF+QUqnO+wX4wct8W1F77ztHhQAPKRx991FU2ycjIQFFUKBQmJSWlp6djk++fffbZK1eu2E4/cOBAZGQknU53c3ObOnWq7an4+PhRo0Zhj4ODg1evXo091uv177zzjlAodHFxGT169P79+22XioqKWrFihe0Qm0+RnZ3dNtqMjIwZM2a4u7v7+fnNnTv3+PHjKIoePHiw7XV6aMWKFd7e3r11Nfuw37a8XXm6bXkHM2XpVfH3KQZ568xRTvi0wPk7yMyBM0UY6rmay5kPT7SuoOU/e6tg0huOjQcaPEJDQ2NjY7GFlSDnBJv6+xOLTl1x6qO631vnEJMYvMB527iR3c2HgQYnz2cTcQTSg+OpAICK/3xgbK72n/0etsYfBEGDHEz8/Yai6GL5sQ3G5hrskDd6bsArHxARJ9oOC3Iq/AlLiVSXsm//B7Waq3/7Wt8kDVm2B0+mOTouCIIcDCb+fsCiUz/8YUv9zdahrWRXz6AFH7OHTXZsVJDzc3vmZSKdXZL5hsWgkRecK/jiZeHrmRRXgaPjggayL774wg6LlUE9Afv4nZ2y9Kr4yFpDczV26DHhVf8X3yVQGY6NCupHNFVFxV8tw9qKSAw3YeK/GIGd7IYCQdAgAfv8nJfVqHv4w3uFXy7Asj6ZxR++Oito/k6Y9aEnQvcaFplylhEwCgBgUjfe2zO37toRRwcFQZDDwMTvpFokd+7umlaT8w126DFuyYjNOawh4x0bFdRPkRi84auz3KMXAABQi7n86Iby71Osps7XL4MgaGCDffxOB7WYpec/q/o1HbVaAAAkBi940afs4c85Oi6of8MTycGLPqV7DXv44wcAtdZd/15deWdowlc09wG3OAkEQd2CNX7noq0tzd89U3b+cyzrc6PiojZehFkf6h04nKdoxfDVx0lMdwCAtrr47q5pDX/829FhQRBkV7DG7zRQtDb3UMV/PsAaYIk0ZuC8bW4jZ4MudqFwHiiKatQGZbNO1axTK/Utar1WY9RpjXqdyWgwm4wWs8litlhRK2q1ongcDofD4Qk4IolAJBHIZAKFQqTSSDQ6mUYnu7hQXZgUFyaVwaIyGFQc3tnfe3/ECh4Xtf586aE3lWW/W43asm/XKIp/C5ybRkRYjg4NgiB7gInfKZhamsq//4f83q/YoatQFLx4N5nV+Y6TDoYCZbO2rkbVUKNqrG9pqm+RN2nMJkuv34dAwDPZNFcOwnGjc7guXB7dzYPhwqAC+GGgx0hM92Grjlb9ukd67lPUamn880dV+fUhSz5nhUx0dGgQBPU5p5jOhz0YtJP6mksul327xqSqBwDgiWS/l7Z4xiQ4VUXfbLZWSxVVFYqqSkW1VKHVGB95Cg6PQxAymUokkwgEIp5IIgAACEQ8akGtVhRFUbPZajCYDXqT2WQx6M2PGQkVIXnwme4Clocn00PA4rq74GGrQA+oH94qO/y2vql1d3PP2Nf94t6Bi/xA0MDmFIl/0KZ8q9lYeXpH9aXWt494CkNe+xLxFDo2qlYoqKtRPixteFjWIKtUWMzWTl/FYFFdOQiX5+LKoTNdqQwWjcGgIi5kMpn4+FVz1IrqdSZNi6GlxaBRG9RKvbJZ2yzXKhU6eWML6PonlEQieHq7CnxcvfzY3n4cGp385O9zsLMYWip+/KDu2nfYIZXrF7z4U2bwOMdGBUFQ34GJ32F0deLSQ29qZPewQ8+YBL+X3sWTqI6NymKxVj5oKrlXI75f36LSt3sWh8Nx3Ojefhx3AZPvxXLzYFAofdtbhKKoSqlvqlM3NbQ01Krra1WNdWpzF59CODwXbz+2jz/HN5DLYiN9GtgAI7/3S/n3KaaWJuzQY9wSv5feJdKYjo0KgqC+ABO/I6Bo3bUjD3/YajXpAQAkOid4yWfs4VMcGZEVlZQ3Ft6tLius1etNbZ/C43ECH7ZfsJtPAEfg40omO3hcCGpF5Y2a2iplXY2yRtpcW6U0dTbCgM2l+wVx/YPc/ILdaAhsCXg0U0tTxY8fNNw6gR2SmO6Bc9PgFlAQNPDAxG9vZp2q/GhK050z2KHr0GeDX/3CgZvqyhs1+X9U3suTtaj/azkXBpMaHOoRGMLzC3ZzeLLvhtWK1lerZBK5rEIulcg16g6L0uCAp5er/xC34KEeAh9XOFOge833fys/9o5BLsMOOeHTA+elOek4UwiCngpM/HbVIrlTcmClQS4FAODwBL8XNwtiX3fIZqkWi7W0sPb2tQpphbxtOYuNhIZ7CsMFfC9W/xs/j4JmubbyYZOkvFFS3tjS4UMAjU4OGuoeHOoRMITX150U/ZfFoJH+vKs65xuAWgEABCrD78XN/PFL4K6+EDQwwMRvL6i1+revJae2oVYzAIDq5hey7J8uflH2D0TTYrh9XXLnpqRt5ZiGkIdHeQ2LFAh82P0v33cKBU2NLRVljQ/K6ivLm9p1B+AJON8AbrDQI1jo4cqFowE60VJ5R/x9ira6GDt08Y0MnLfNxdcBP7EQBPUumPjtwdTSJD7yP4qii9ih28iXghY4YK8dRaPm+uXye7dlFsvfg+MChvAix/gOEXoQiAO2PmcxWysfNpWX1IuL65rl2nbPunkwhGGeQ8M8eR6MAfKhp5egFnPVxb2yc7ut5tYJnO5jF/rNTCUx4KarENSPwcTf51Tia6WH3jQq6wAAeBIlYM5HHmMX2Xmafn2t6tol8f2CGtu3m0whRo3xHRntP7jquyhoamwR368rL66XSuSo9b9++Nlu9KFhnsIwT76gH3Zz9Bld/YOHJ95tvp+DHRKoDN8X/sGPScARYF8JBPVLMPH3JdQqPf+F9NxurK8U4YeExO+18zT9uhrV1ezSsqJaWwmTRYsWBYU/4+3MQ/bsQK8zPSipL7lX86C0oV1HAIuNDB3OD40UeHq5wk8AAACAovJ75x/+8D42PAUAQPMYEjjnQ9bQGMfGBUHQU4CJv6+YWprKDr9lqyd5jF0UMOdDe66J1lTfcvnXkpJ7NbYSNw/G+NhgYYQArnbXlslkeVDaUHKvRlxcZzT81xqCrlxkWITXsEiBm4e9+2WckNWkr76YIfs1HZuGCgDghE31f/l9qpufYwODIOiJwMTfJ1TlN0oPJrc275OR4IW73J6Zbbe7a1sMl38puXtLavvmuvOZMc+HBId64JxpJWBnYzFbK8SN9+/VlBXV6nX/tZgBj88YFuEVGilw5QymnpHOGBRVkpMfNub9hB3iCET+xHifaf9DpLMdGxgEQY8JJv7ehlqrLmZUnt6B7auLCIRDE76iuQfZ5+YWi/XP3ytyL5Qa/qq58jwYz04TDhF6wCbrx2e1oJLyxuKC6pJ7Ne32ERD4uA4f4T0sQjDIlwdWlv3+8MQWbc197JBAY3g//7bns4kOX3oS6mtpaWnvvvtup0/JZDIvL6+nu+zSpUvv37//xx9/AACGDBkyffr09PT0p48SAAAAiqJHjx796quvSktLVSpVUFDQ888/v379end3h62b4iQGdS9vrzNrFGVH1igKL2CH7mMXBs75yE7N+ygoL6nPPlOoaNRgBS4MyuS4YaERAljLf1J4Ai4ghBcQwpv2UviD0vqi/GpxUR02DqBa2lwtbb5wujBwqHtYlFdwqAe2/9BgwxoyPnLD+fqbWdIzHxtV9RadWnIqrfbyft+Z7/BGvQJn/A9427dvZ7Pbt/G4uro6JJhOoSg6a9asM2fOREdHL1myxN3dvaCgYM+ePZmZmbm5uUJhL4y1un379jvvvHPr1i0/P78VK1asXr2605fdvHkzOjq6XWFjYyOXy+15DE8HJv5eo5bkle5PMiiqAAB4EjVw/g73MfPsc+um+pYLZwoflDZghyQSYVxs8JiYwMGZk3oRgYgfMow/ZBjfaDSLi+uK71aLS+pRK2q1ouLiOnFxHYVCHBruGTbC2yeAM9g+YOHwRI+xi9xGvlRz6euqC19aDBpDc3XZt2uqf/va/6UtcIffgW3p0qVPXbnv1L59+6zWzvfgeDo7d+48e/Zsenp623y8efNmkUg0Z86cwsLCHl4/Pz9/4sSJI0eO3L59+927d9966y21Wr1x48aOrywvLwcAvP/++0Ti3wkXQRzZaQgTf29A0Zqcf1Wc+gi1mAEANI/goQn77DN6X68zXb1QevtahfWvmWnDo7xip4cyWLDFtTeRycRhkV7DIr10WmNxfvW9vKrqSgUAwGAw59+S5t+SMlm04SO8Ip7xYbvRHR2sXRHIiPe0NR7jl0jPf1aX+y1qNWtk9wq/XMAKmeA3a7OLb6SjA4T6h95NhMXFxVu2bElISGhXCw8JCXn//fdTU1Pz8vJGjBjRk1t8/PHHHh4e58+fp9Nbf+U/+eSTNWvWdHwjYrHY3d1969atPbld74Itcj1l1qnuZ77+8Mf3sazPG/VKxD9+tkfWR0HR3ap9n166lfsQy/p8b9bSlRNmLRgBs37foSHkkWP9lyVPSPrHpAnPhbj+tQegSqm79pt436eXvs34/c4fle1GBgx4JIZb4Ny0qI2XbJv6KEtz8z+dcf+bFdraEsfGBtlZYmLi0aNHv/nmm1GjRrm6uk6aNOnatWu2Z69cuTJ58mQ2m+3m5jZz5szi4talIRMSEkaPHt3xakajcfPmzcOHD2cymdHR0fv377c9tXLlyiNHjhw5ciQmJobBYERFRZ07dw57Kisry2w2d1r/TkpKUigUPcz6JpPp2LFj8+bNs2X9+Ph4uVx+8uTJji8Wi8XBwcE9uV2vgzX+HtFUFZZkvq5vlAAA8ERywNyPPMYutsPiPCql7vx/Csrv12OHdAYldnpo2Aivwdba7EBsN3rMlJCY50JkEvm9PFnx3WpsQKVMIpdJ5Nmn7oUM9wx/xts/yG3wbAtEcw8cmvi1+uEtyak01YObAAB5/ll5wTneM6/4vLCO6ubv6AChXvPdd99xOJy2JSwWa+7cuQCAa9eu3bx5U6FQrF27lkqlfv311yKRKCcnZ9y4cWKxeNq0adHR0WlpaWq1Oj09PS4uTiwW4/FdVkFnz5598eLFdevWCYXC7OzsxMTEmpqaTZs2AQBu3LiRl5en0WhSU1NVKtXu3bvnzJkjlUo5HE5+fj6CIIGBgX309qurq81mc2Tk3w1a2OOioqKOLy4vL7dYLC+88MLvv//O4XCmTJmyY8cOB3bwA5j4e6L++tEH/95kNRkAAFRewNCEfXSv4X19UxRF865Lfjt332g0AwDLlSRJAAAgAElEQVRweNwzY/2fnTqUDLeccQgc8PbnePtznp8VJi6pL7glLS+tR62o2WwtultVdLeKwaQOH+kdOcqHzR0sXQCMgFFhb//QfP83yekdGtk9gKINt0403v6P+9hFPtP+h+zq6egAByb1lxtQjapXLkWdPI886rnuX7Nhw4Z2JUKhEEv8AICSkpLCwsKQkBAAQGJi4rBhw7Zs2ZKdnX3x4kWdTnf48GFvb28AQHh4eFZWlkKh6CoLXrhw4ezZs0eOHFm8eDEAYNmyZXQ6ffv27cnJydjQwqKiovLycmyUvru7+7x58woKCkQiUXNzM5/Pb1sRSkhIOHDggO0wJSVl165d7W6nVCo//PDDjmHExcVNmjSpbUlVVRUAoG3YVCoVQZDm5uaOp4vF4sbGxuTk5AULFpSUlKSnp//222/5+fk0mv2WdWkHZounYTXpH/x7c/31o9ghNzIuePGndlh7v6m+5ecf7lZJFNihh4A1Y06Eh4DV1/d9LFartUWJapSorgXVa1GjHpiMqMUMsPmiOBwOTwAkMo5EwVFpOCodh7jg6EwcmWbn1Yv7CIGIHzqcP3Q4X6M2FN6pyv9T2linBgCoVfrrv4mv/yb2DeBGjPIZGuZJIg+CEZc4nGvoJFehqOnu2cqfP9bViVGrpe73b+tvHONPXOY1ZbUD96EeqMzifKtK/ujXPQbyCNEjX9P9zD2RSIRlfQAAgiAJCQk7d+5EUTQsLAyHwy1atGjVqlWTJ0+eMWPGjBkzurlLbm4ugiALFy60lSxfvjwjIyM/P18kEmE3ss3Nw1rvzWYzACAgIODy5ctms9k2nu61114bO3Ys9vi9997r9HZGo/H69esdyzv2C3Q1DrHTpou0tLTQ0NDx48djh88999zzzz+fkZGxdu3aTi9iBzDxPzF9o6Qk83VNVSEAAIcn+r30rkC0oq+zl8Vivf6b+PdLYmx/HQIRHzNl6JiJgXiC3bMmarU21ZqrH1rrpZY6mbWp2iKvQ5sbrS3N4MnXhMCRyDgGB8/i4l3d8BwPPJdP4PDxbgKChw8O6ZeL5dEZlDExgWMmBtZWKwv+lBberdJrTQCAyodNlQ+bfjl1b1ikIGKUr8B7ECwGjMNzo+I4EdMabv0oPfuJQS5DLaaanG/qfv/WY/xSrylvwvTfi3B0Js5qefTrHgeJ0sMLYBV6G19fX51O19DQMH78+NOnT+/evTs+Pt5oNIaHh69atWrlypVdXUcmk3l6erbNptiVJRIJdsjn8zs9USgUmkymoqKiiIgIrCQ2NjY2NhYAYDab16xZ0+lZPB7v6tWrj/MGPT09AQBy+d+ftAwGg1ar7fTD0PLly9seTpkyhc/n37p163Fu1Edg4n8y8oLzZUfWWHRqAACZ5TE0fh8jsJMBKb2rvkb10/G8hlo1dugTwHnhlUiO3UaPo1ZLjcT84J65othcWWKRiVGDrteubTKi8lqrvLbjUzgXVwLfl8D3J3oFEryCCF6BeJZbv2kewAG+F4vvxZo8Y1hZUW3+n9IHZQ0ABUaD+c7Nyjs3K93cGeGjvMNGeNNdevpH1snh8ET3MfPcRr5Ud+1I1a97jMpaq8lQk/Ovut8Pe4x/1eu5N8ksD0fHOBC4fnTc0SH8DWsJt5FKpRQKBWsYx2r5Op3u5s2bGRkZycnJbm5utj6CdgQCQW1tLYqitkb76upq0OaDRVejmuLi4lJTU7dt23b06NF2T50/f95gMHR6FoqiSqWyYzmNRqNQ/uv3VCAQkEiktnMCsd59P7/2y1c3NDQ8ePAgMjKSSv17zDWRSHRxcek0BvuAif9xoRZz5c8fV2V/iR2yQiaELPuyr/cnRa3ojcvll7NLrBYUAECmECe/EBo5xrfPB/GhqKXmoanwhqnktqnsDtrSyS9DKxwez+Li3TzxDDaeycXRGTiEgaPQcFQERyQDIglgn9atFmCxoGYjatSjei2q12GdAlZ1M6pstCrlVpUc28ro7xBams3iZrM43/Y7inNhEX2HEv2ERP9Qon8onuvp/J8DCES8MEIgjBColLp7f8ry/5Ri+wI31qsv/Vycc+5+cKhH5GjfwCG8gT0GEE8ke8YkeIxbUn/9e9kv//dX+v+mLvewx4SlMP0PMDk5OeXl5UFBQQAAnU534MCB6OhoAoGwcePGn3/+OS8vj0ajiUSiMWPGHD9+vLS0tKvrjB8/XqPRZGVlzZ8/HyvJzMxEEKTtqLpOCYXClStX7tmzJzY2tm2LQklJSXJycldnVVVV+fj4dCzfvn17ampq2xIajTZ79uwTJ068//77JBIJAPD9998zmcy4uLh251ZWVo4dO/bdd9+1jR64du2aTCabONGRC13AxP9YTKr6kgMrVeU3sEPv59/2mZGCw/dtZ22zXHv6+B2ZpLU1KWAIb8acyD6dqoeajebiW8a7V413r3ZeC6fRCd5DiD5DCJ7+BM8AAs8Lz3EHvfJ1sFqszY1Wea2lvsraVGOpk1rqKi21ElSr/ju8FqWp6Kap6GZrMC4sUmAYMSiCGBxBDBiGozhspMzjYLJo4ycPGTcpWPpQnn9Lev9ejdlksVrR0sLa0sJaBosa8YxPxCgfFnsg7wWAJ5L5E19zH7vo7/RvNmLp333cYu/n3yKzOm+5hZxNx1H9AIAJEyZgK+IhCBIbG5uSkkKlUvft2yeVSg8fPgwAiImJ2bFjx4svvrhgwYKWlpYTJ06QSKSZM2d2dZepU6dOnTo1Pj6+qKho6NCh2dnZmZmZaWlpjzMkPi0tTSKRJCcnHzx4MDY2lsfj5efnY3PwKisrOz2Fx+NdunSpY3mnswPWr18fGxs7b968xMTE27dvf/rppx988AFWj79x40ZKSsrrr7++bNmyZ555ZsGCBR9//HFVVZVIJKqoqPj8889jYmKWLFnyyLfQd2DifzTVg5sl+5NMqnoAAJHGDH71/zhhz/ftLVFw51blhdOFJqMFAEAmE5+bOSxylG9f9QpbzMbCG8Yb5413r6A6TbsnCV5BpOBI4pBIYmAYwd27ryrZeAKe44HneBCD23yWR1GrWmGRiS0ysbmq3CItM1eVA3Pr9jloi9KYn2vMz8VOJ/oJSSFRxCFRpJARODqzT4LsMRwO5xvI9Q3kPv9iWPHdqju3KmtlSgCAWqnPvViWe6nMP5gXNcpnyDA+gThg19joNP3XXjlQ9/sR9+gFXlNWUblwuz9n13FUPwAgIyMDS/z/z955xrdRZX//zkgaVVu2ZcuWi9x7k524xYnthCSkF8AENqEkIQuB/HeBhQWWtiybsrDAwwIhWVqWEAgJpDhxenWc5t57leQu2bL6jEYzz4sxtqw4seOCHUffDy+4d65mrmNrzr3nnvM7jz32WERExK5du2QymUQiuXjxYnJyMgBgyZIle/bs+eSTTzZv3sxms2NjY8+dO9d/DD8kGRkZ77777s8//yyXy0NDQ7/77runn356JDO0t7fPyMjYvXt3RkbGt99+y2az4+Livv/++/T09O+//37I6Dwmk0nFAYyEuLi4s2fPvvPOO08++aSvr+9HH3304osvUpdUKlV2dvaiRYuo5k8//fTRRx8dPHjw4MGD3t7eW7Zseeutt+6Qwfg7YCvSc0coSb6j/yQJHADA9QgP3vjVRL+VdBr05KGSuqoOqunp47QsXTIhReFIEpdWo9nH0JwzVs582MGFEZ6ARCXTg2Nhu6lUdQ034a2NeGM53lSBN1aY5XVDRBRCEN07hBEaxwiLpwdEQ8iUPkTvaFOX5ErLC1uMxoF6gGwOEhHrKYkTC4STeRD4O0DgWL/5p3ogmOYcu8pjwRaOW9Dkzs3G6AgNDU1LS/vyyy8neyI2bovN8N8WM6qr/+kVRWEG1RQmrPFL3zbRxceqy9tPHSox6DEAAEyDUhaGJMz2G/fTX9KoR2+eQi8dwqWDTtdobt7IzHlI7Fy6OHjqH58DAEhUjzdV4jVFptoivK6URPVWAyA6Qg+MZoTFM8Li6eJgMKmr7DuAm8zV5e3FuVJpg9Ky39PHSRInDo4UMaZ12QXChHbmHGg59wXaLevrgiBB1BLPhX/iekZM6tRs3DU2wz/1sRn+oTF01FV984yhoxYAANEYfulbJ1qSz4SZzx0vL87tO3xycbNbviZG6DbOLmtzV4vx3M/o1WOWLn3Y3ok5aymS8CDdK/CesPdDQ5hxWa2pKg+vLjBVFQyxCODxkYgkRlQyEpE0Zc8CehS64jxpab5cpx0IPGay6OESz+h4satoik57XCDNuKLgiPzsZ4aOuv5Ox7B5ngv+9DvkztgYL2yGf+pjM/xDoCzOrNv3khnVAQCYjh7BG76a6FojnW3qoz8VKLu0VDMxxX/OguDxPeXFGysMp/Zi+RcHgudhGhKTykpdzQiNG+NWGCcwPao0Yr2oSYOatCazHseNZtJEkgRB4hCgwRAMw3QazGTQWAw6G6HzWIg9C3FgM/gwPAGBJmYcbyw3VeRgFbl4fSmwym+GYHpAFBI9G4lKprn7TcG1DmEm66o6inKlDTWdwOIL6ubJl8R5h0W7T2OhRpIwd5eclJ/5VNcyoH5q75/oMf8Fx9C5U/CXZcOKM2fOuLi4jFEM38aEMiUMP/U/U8H8kwTenLGt9WLfTBxCUgOf/JzBtQ5eHddHgvwbTRdOVJhxAgDAs2ctf1Ti7e88jk8wVRcYjn1jqszt74H5zqy0h5ipq2H+3epFk1pjV7emoVvTqNLJevUtGkObxtCBmjTDf/Q2sBA+hymwY7nacUT2bDd7jrs9x53P9eIyncB4RDOSRr2pptBUet1Uft3cIbO6CgtESEwqEpvKCJSMT3rCuKJWGUryZMV5Uk2vsb+TgdDCoz0k8d5unlNDtHEiIMmeigvyM/9P01TQ38dxD/Wc/4IgZjk0EYtFGzbuG6aE4Z8KJh8AYNJ0Ve/ZrK7rKyTl+eCLXotentCcPYMOy/y1uK6yL44vINR16cPRbC4yXvc3VRcYMr4yVeX399DFQayFa5nxCwBtpK9OPdrd2l3U3lPWoaroUlcbsdvn9I8rCJ3ryPN2svMT2PkL7Pxd7AN5bOEYlwLmDpmpJBsruWqqLgDmQQX0IB4fiZ6DxKYxwhKmWjwgSZANtV3FOdLaqg6SGPjCurrzJfHiMIkHc7o6AEhSXX+j5fzOnooL/X1MJy+PBzYLE9ZMdMCNDRvTFZvh70PTmFf93R+x3g4AAJ3DD3zic8eweRP6xOYG5bGfC7VqIwCARofnLQmbkegzXgl7eHOV/tcvTOU3+3sYQTHspesZ4QkjcZYasV6pIkfWdVOuzO/RNt9+IMTnenCZzjyWC4flzEEcmQx7JoPHoLMZNDYMM2CIBkEwAMBMmAgCNxOYCTeYzHrUpEVNGgPWo0e7dUaFDlXqjJ1mwnT7BwEAAAvhC/khQn6oq0Oo0CGMz3Ef9TqANOpNFTlYcbap+Aqh6Rn0IyEsRkQiEpuGRM+ZarLBWg1amicrypX29gxEMDAYtLBoD0m8WDR9ZYB1LRUt53cqCo72H1TROQ6i1I1uc56eWIecDRvTEZvhB4Ak27L3NB36e1/OnmdE8IavWALxxD2QIMjs8zXXLtZSx7cCF97Kx2OF4xS3RfQq9Yd2oleP9+e5McISOCufGZQffxt6tE11bRcb2i+39ZQCYP2HAUM0Z/tAZ/tAF36wI8/HiefNY7vB0Hh5REgD1qvRt/Xq5SqdTKWT92iberTNBqzndh9gIXyRY6TIMVrkFOXmGMGgjUrAhyTwhnKs4BJWcMncOfgggEZHwhOQuAWIZGqtAEiSbK5TFOVIayraCQsHgFBkL4kXh0s8mazp6QAwKptbL+zuvLmfKokJAIAZLGHCGve5z7Kcban/NmyMlPvd8JsxfcPPr3XlHaKawoRH/dK3T6gLUdNrPLq/QN7Up8cniRM/sCx8XCq2kSbMePYnw/Hv+gPa6X4RnEe2MIJj7/xBlU5W03K6uuW0UlNvdYmNOHo5zxQ5Rbs7SVzsgyYkEO+OGDCVUl2nUNd2qWsU6jqFutZMYLcOgyGa0CHUwynGQxDrIZjBZNx9+jtJmlsbqBUALq0edKlvBTAfkaRMqRWAXouWFsiLcqQ9yoEcDTqDFhblLokXu3s5TksHgEnT1Xb5m7Yre8zG3yJLIFgQvdhj3vM8b8mkTs2GjXuD+9rwG7saq755Rt9WBaicvUf+6Zq0dkLDhhtquo4dKDToMAAAwqQveTg6JHI8ypOTJFZ4Sffzp4SileqgCT056X9CYlLv8ONguK6m5XS5NKOtp8SyH4ZoXs7xPq7J3i5JTnY+4xJhN14QBK7U1HeoyttVFR09ZQpNHUlaK3BBEOzqECZ2TvByiRc5RdPhu46ZIBRtaP4FrOASXlc86EL/CiAmDWL/XkWShoUEzY3Kopzm6rI2qqYDhYubnSTeOzzGg8ViTOLsJgizUdNx/cfWS19hqrb+Tnv/RI8HNjuGzQPQFBVssGFjKnD/Gv7usjO1e/9EbRoQB1HIhq8ndLtAEGTW2eobl/oSlN29HFY+Hjsuwuy4tEa//xNTdV8EH8TisJdtZC1YA9Fva/A6e6tKmg5WyU/i5oFYcTqN6euaEug+30c4C6FPGat2R0y4vkNV0dJd2Kosau0pNuHWuft0GHEXxHg5x4tdEoT8EOgu7QHR04nlX0Bzz+F1g9ZGEB1hRM9mJixkRM2GGOMWjDlG9DqsrEBelNPcrRjkAAiNFEkSvD2mowOANOOKwqOtF3ZZ5v6xXQM85m12nvkQfPuvgA0b9zP3o+EnCbPs5L/lZ/5DNflByUFPfcng3W1i211g5d6Pn+2XuiiERhvrpoTUa/S/fG7MOtJ3nA9BzNnLOas33y5JjySJ+vaLBfX7WruLLPt9hMmhXkv93FJHeUw+NSBIs6K3RqrIkSty5coCyzUNBYfp5CNM9nGd7e2SyGTcncee6O7oWwHUl1r2Q2wuEpPGTHiQERY3VbIBSSBtVBblSKvL2szmAXeIi+tvDgD2tHMAkKSq5krr+S9V1Vn9fQw7F9Gc9a6zn7BF/9mwYcV9Z/hxXU/N91tUVZeopscDz4uXvTahacEN1Z3HDhRRKrwsFmNpenRg2JhLkJEkln9Bt+9DQt23mGAESTiPvUz3DhlyOG5Gy2VHC+p/6NXJ+zvtOe4R4tXh4pVc1hhkA0iz2aAwGxSEQWlGVQSqIk06wmQgzSggMCpeEgAIgukApkM0FsxgQwwujNjBiD3McqKxnGC2AGZwx/dAwUyY2ntKpYocadfN9p5Sq+MACII9nGJ8XGf7us4W2Pnd1aMJRRuaexa9edosq7Xsh+0dkZnzmQkP0v0jp4jIjEGHld7qAKDDoVHuknhvD/E0dABQwf/KwgzyN8kmmMESxqeL0v7IFg5RYM2GjfuT+8vw6+SlVd9sovTAaUxewNpPBNFLJu5xBEFmnam6cbkvYk7k5bBqPNz7RE+Xbt8HWOFlqgnbO3LX/hWZMW9Ie2PC9cVNBwvq9+rR7v5Ob5ckid/jPsJZd+n6Js36TlN3NdZTg/c24RoprpbiunZAmof/6B2B6Gwa143OFdF5HjQ7T4admM73ptv7wMg4RNJhuK5FWdDYkd3UeU2tb7G6as8W+Yvm+ruluQti7ipDwdzaiOacwW6escoFoLl4IImLmEmLaa4TmBhyF9zZARA7DSMA0J6WtqxvO67ts4j+g5zCF4jSNvEDkqbIssyGjUnkPjL8nTkHGw68RiUCsV0DQzZ+zXYNmLjHaTXo0Z/yZY3j6t4nCWPWEf3Bz/qU9iGYvfBx9so/DlmKHjcbixt/zqv7nwFTUT0wRAsTr4j1W+tkN9LdD2HSYZ2FaEce2lWCKcoI422T6yYCGtuF4eDPcAxkOAYxnEIQp2CIPpbDCLJb29zUkd3YcaWlu5AgBgn4sBC+n2tqgGiu2CWRThuxgA9J4s1V6M3TWO5ZoqfL8grdN4yZtASJWwDbT4nyhnodVlogK8qR9lhFAES5S+LF0y8CwIxqO6//1Hr5a7R7wMvFcQ91T/uj84xVtuN/G/cz94XhJ82mxkPvtGd/TzUFkmUBf/iYxpzA+LXmBmXGTwVUnRUEoS9fIxm7e9/cIdXt2WqqKaSaNM8A3tNv0X3Dbh1JkOby5iM3anbrjAqqh05jRvs+Fuu3diRefZLA0Y48o/yKsfU6pqy43YYeojHpPHe6nZjGE9E4QhrbBWY6wEw+jNhBDC5EQyAaAv22hyYJM0mYSNxI4noS1xOo2oyqCGMPYVSaDUqzrg3XdZh17eQtB/NWz2Q4+CKCCMQ5AnGORARhEGOU7hMM10m7cho7surbL1lpEdJpLB9hkr9onq9wNgsZsSYuSZhqCtHrJ7G885YFkAAMM8ITmUmLkZhUCJkCSnP3WQoASeDdJadaL+zSNBf2dzLsXNxmP+U2+8kJjeyxYWPKMv0NP9bbXv3tJkrxG4Jp3ivedE/748S5+0iSvHG5PutMNfUP6+bJX/2HGWN17xNmw6m9hqNfkzgGAAB0Bmf5M+zFTwwpuytT5F4u+1Ch7ksfoNOYMX5rY/3XsRGHYR6CaQyyi4bm80Z5FmHSWl+GYIZDANMliuEUwnAMZDgE0Dgu453pRxLGHpNaimukeG+jqbcJ720wqepI8xCJ+31TcgxiCmOYrrFM15l0O49RzIckibaekvq2S3XtFywDIACV1ugSH+S+0N8tbeQrABJDTSXZ6I1TWMlVS1VgiMVBZs5nJi9lBEZPhWSz2zkAwqLcJQne7tNOBFDTkNt66Stlycl+7T+YjrjMfFg0dxPHLXhy52bDxu/MNDf86rrr1XueM2kUAACGnXPQ07v4AUkT9CwAgFFvOnawsL6qk2rGJHrPXxo+xiJ75g6p9uu/4w1lVJMeKOE99TeayOfWkb06eVb5J/XtF/t7JH6PJwQ9w0bu5GomzUaD9JK+/phBdpEcLJoL0VhMtxksUSLTdSbiEgHRJmPDShK4Ro71VJkU5VhPrUlZjmtbhxxI47qx3OKYbvFMUQKD73P3iwBSqWmob7tU336xQ1VheeG3FcACf7e5d7EC0PaiuefQGyetUgFhZxFz1lJm0mKa0OsuZzgB3MYBIHSzlyRMQxFAtFvWlvVtx/WfBo7/AXAIThGlbXIMTZsKCzIbNn4Hpq/hJ8nWy183H32fiu+184kNXv9fxGE81HJuQ5tcdWRffq/KAABgMGiLH4oKk3iM6Y4kabz0q/7ApySGAgAAncF97GVW2upbX08Yrsup+aawYV+/3H2A6IGU8BftOXeYAIl1lWhrftHXH7fa3zMcAtjieWyvVEQYOwXLoBHGbkxRhnaVYF3FaGcRgapuHUPjurHcZ1H/0Tgud/sIjaGjru18beu51u5iS+liStooyGNBgGgekzFSiWVzpwy9fgq9ltkvr0RBD4hizlrKjJs/FdQAh3QAMBi00Gj3mHjvaVYFwIxqO2/83Hb5G6NyoA4FW+gvSt3oEvfIhB4C2rAxFZieht+M6et/ekVRcJRqus1+0mf1exMYzkOCgptN549XUFHTAhfe6nUznIVjepsTPV3a7/7RX2WHETyDt/EdWGC9cCFJokJ2/FrlZzpUSfW42AelRrzi6TzztpPFDbr6DG3lPkxZadmPCMI5vos4vovp9veQ7Dlp6m1CO/LRjjy0PRdXS28dwXAMZLnPYrknM0XxMOPu3uk6Y1dt2/maljPWKwCY7iOcFeyx6C7ED0gSrys2XsvEcs9ZBgFADASJnctMXsYIjQPwZO84SdDcoCjMkdaUD3YAiOxj4r3DYqZVGUCSMPeUn2u99FV/QU4AAI1t55r4B1HKeqbTFPDH2LAxMUxDw29UNFV9vZES4oXpiN+j/xImPDqO97cCw/CTh0oqi/s2c6HR7osfikKQMb0f0Zwzur3/IvUaAABERzgPP89a8NitG/0OVcWFkm39fmk24jArdEuEeNXtkvTMunZN+f+0NQcJdCCcjc5z5wY+xPVfQef7jmXOUwGzvsPYdhNtu2lsuYprrTP3IJjOdItne6WyvObe7VmAxQpgkPYRncbyd0sN9ljkLUyijUwbmMRQU1EWev0EVnYdEAP5dbCjkDlrKTN56VTIA9Rr0ZICeVFOs0ppUQYQoYVFe8TEe7t5jjjm8V5A11LedvkbRf5hAv8tmgSCnSIfdE/daO+faEv/szH9mG6Gv6f8XM3eLWaDBgDAdPIM3vAVzytqvG5+K8pO7aF9ecpOLQAApkHzl4XHJoyptC6pU+t++ADNOUM16eIg3jPv0Tz8rYaZzIYbVbsKGvZR0jQwRJP4PZ4QtOl2gnQmVYO6ZLeu/iggBkL0OT4LeSGPs9xnTcejTRJXy4yt14ytV42t1y0XOhR0Oy+211y2VypTlACNPHkPAJ1RUdN6prrlVHtPmWU/k2EXIHogxHOxp2DGCNURiF4FeuMUmn3c3NowaG4BUczkZcy4BZNeDoAkyeZ6ZdHNZqsygG7ufEm8OEzigUwjB4BJo+i4tq8te49J3dnfyfUIF6VudI5dOaGFu2zY+J2ZRoafJGSnPpGd+phq8YPnBD21c0LVOqtKWk/8WoJhOADAns9etXaGu9cwkfN3xlRTqP3v20RPJwAAQDB78ZOclZsA3Tq9Stp181zxP/u1aLyc4+ZFveHI8xn6nj01vYWf6xtP9XuqYaaDXegfeKFraRzhWGZ7z0CaMWWlUZ5laMlGOwqsshMhOpvtmcL2XsD2SoOZd7GR7dW31LScrm451Z9AQcFluYR4LA7xXOzCDxqRU4EkcWk1mn0cvXmK1KkHJoYwkRnzmMnLGSGxk74y02nQ0nxZUY5U1TPgAEAQepjEXZLg7eY+fRwApNmkKDzWdvkbrXTAtUPnOromrXWb8xTTwX0S5zZF2Lp161tvvTXkJblc7uExysCmJ554oqqqKjc3FwAQGBi4aNGiz2XZ1wEAACAASURBVD77bPSzBAAAQJLk/v37//vf/9bU1KjVan9//wULFrz66qtC4eS8+kiSNBgMHM44lGgZI9PE8OP63tq9W3oqLlBNzwX/57XkVWjCtNMJM3nxZEXu1Uaq6RvksmJNDJszhhgCwqw/9o3h2LdUrhHNxYP3zN/pAdFWo4xYb1b5JxWyDKrJYQrmRr4W6P7AkAbGpKrvLfh/+sZT/T10O0/76Oe4ASsnJz5/CkCgvcbWqwbpJYP8MmHsHnQNorFECWzvB9ji+XTeXbzflZr66pbTVfKTVrKAAjv/EM/FwZ6L7dkjCiklccxUchXNPo6VXh10BCAQMZOXspKXwc6TbHVIkmyuUxTmSGutHACefEm8d1iU+/RxAJCkprmg7fI3yqLM32SnAQTTnCIXiVI32Psl3M/+f8rwb9++3dHROl1o3bp1XO4o3VTjbvhJkly+fHlmZmZCQkJKSopQKCwtLT1w4ACHw7l69WpIyNDq5ndFQUHBa6+9lpeX5+3t/cwzz2zZsuXO40+cOPHss8/KZLI7D/sdmA6GX99aWfX1RipAl8bkBqz9fxMqxKtVG4/8WCBv7gYAAAjMnheUPC8Qgkf/IiC62zX/fQev7dthMJMWc9e9BrGsVoVkTeu5S6X/6lfeDRevmBP20pDZZWZDV2/eJ9raX/tTlhmOQfyYLRyfheBuVGmnMySBKcoMsov6pjOmnhqri4ggnO29gOO7iOFgfchyhzu29ZRVyTNrWs70SyVSeAhiQjyXBrnPH2EiAKHuRq+fRLMzzK2Nlv2M4BnM2cuRGXOHFGr8PdFp0JJ8WfGtDoAYD0m8eDo5ALDe9vbs/3Vc/cGkG1gmcj3C3FI2uMxYfX/6/ynDP5bN/ZDo9XqCIHg8Hhgnw79jx44333zz008/tbTHNTU1qampTk5O5eXlY5xwSUlJYmJibGzsunXriouLd+3atW3btjfeeON24xUKxaJFizo6OmyGH4AxG/6uvEP1+18lTEYAANs1IGTjNxMqxCttVB79sU+Sj8VmrFgT4xc8Jq8Rln9Bu2drXxwfi8N98g1mwoNWY3So8nzxPxva+8T57Tke86PfErsk3Ho30oxpyveoi3YSpr64cYZjID/2RY73/El3F09ZcG2LofmcofmssT0XDC7nw3AM5Pgs4vguZjgGjvBuBIE3d12vkp+sb7+Im9H+fhqM+Lmlhnkt83ZJgkeSJEmSeFMFmn0MvXl6UBYAi8OMX8ics4LuGz65+06SJJtqFUU5zTWVHeStDoBo9zGGuE4dCBOqKDjadvlrXcuAtaBzHV2T/uCW/CTTyXMS5/b7M0GG35KxG/7KysqoqKinnnrq66+/trq0e/fu119//cKFCzExMWOZ5Lp1665evVpWVkY5OTZv3nzgwAGZTHarJ7+4uPj5558vKCgwGo2enp42ww/AGAw/aTY1HflHW9a3VFMQvTRg7cc0Jm9cZ2f5PHAzu/7SqSrqHefmwV+9dkySfCRm1O//f8bLh6gm3S+C98f3aS7W36W6tvPniv9JycpCEBzrtzYx5LmhUshIffNZ1c0duKbvr4rGcXWIf43rt9Rm8kcIYewxyC7qm88Z5VesxIMZDv4c38Uc30UMx5Gd3AOA4br69ktVshPNXdct+9mIY4jn4lCvZUJ+8EhuRWIoVngJvZJhqsy17Ke5+zJnr2AmLZn0WgBaDVqaJyvKlfZObwcASaobc9suf9NdcrK/+h8V/y+a8zQ/MPk+8f8Pa/g3bNiwcOFCnU735Zdf1tXVxcTEbNu2LSmpTzntypUr7777bmFhIY1GS0xM/PDDD0NDQwEA69evLysru9XVj2HYe++9d+TIEZlMFhoa+txzz61fv5661XPPPTdnzhwAwK5du4qKivz9/Xfs2LFo0SIAwD/+8Y933323rq7O33/kTru7wGQycTicl1566YMPPqB6bt68mZiY+OOPPz7++ONWg6VS6bFjxwAA+/btk8lkNsMPwGgNP6burP7uj5qGXAAAgGDv5W94zNs8cV88FMVPHCyqLm+nmpI48fwVEfQxSPKZW+o1u97sC+eGIPbipzir/mglwYuaNJdKP6iUZ1JNR573oth/ujqE33o3U3dVz42txrYbVBNicPiSF+zCn4Zotkoko4HEDQb5FX3TSYP0AmnSW15i8H05fss4/ssZI85+1KHKavmpSvnxrt5qy36BnX+Y17IQz6UjLItMKNrQa8eN2ccJZdtAL0xDJHOYs1cgkUlgwoJaRsJtHQAefEnCtIoAwFRt7dnfd1wb5P9nuwaIUja4xD08gXuPqQFl+D/44AMnp0Gh03w+/5FHHgEAhIaG0mi0np6el156icViffXVV5WVlZcvX05KSqqrq4uKikpISEhPT9doNJ999hmCIHV1dTAM387wL1my5MKFCy+//HJISMi5c+f27t27devWv/3tbwCAmJgYBEF0Ot3rr7+uVqs//vjjtrY2mUzm5OT0yCOPnDx5UqvVQhNjFJqbm318fH744Ye1a9dSPUajkc1mv/XWW++///7tPrVp06ZTp05NBcM/0q+iWq3W6XQi0QQq340cdUNO9XfPUlk3dK5j8NO7+EGzJ+5xyk7toR/ylF1aAACdDi9cFRk1YwziHiRpvHxYv/9j0oQBAGC+M2/Te4zQOKtRMkXumcJ3NIYOAAAA0Az/dUmhL9BvyRQnjN2q/E+01Qd+81FDvKCH+TNfprHvWq7ORj8Qnc3xWcjxWUiajUb5FX3jSYP0AnV6Yupt7C38rLfwM0QQyvFbzvFbQucN4/DkMgWx/mtj/dcq1LWVsswqeSaltqTU1F+p+DS78jNvl6Qwr+V+orRbf7+WwM4i9opN7OUbTZV56JUMrOASiWOAMGMFl7CCS7CDCzN5GXP2cppwcjzPEAT5Brn4BrloNWhJnrQ4R0qpWLa39J46VHLheEWYxF0S7+3mcc87ABAHkXjZa54PvqgozGi/8p1WWgwAMHTUNRz8W/Ox7cHrdzmEpE32HCecv/71r1Y9ISEhlOEHAFRXV5eXlwcFBQEANmzYEBYW9vbbb587d+7ChQsGg2Hv3r2enp4AgMjIyIMHD/b09AgEQ1dLOn/+/MmTJ/ft2/eHP/wBAPDkk09yudzt27dv3ryZCi2sqKior6+novSFQmF6enppaWlqaqpKpXJzc7O0+uvXr9+zZ09/85VXXvnwww+tHtfb2zuk2V66dOncuXMte1paWgAAltNmsVgcDkelGkJIdAoyUsO/fft2Fov17rvvUk2ZTLZp06br16+Hh4fv2rUrKioKAGA0Gl966aVffvlFIBC89957a9asoQZ//vnnH3/8sdFoXL9+/fvvvw+PRZ6MJNuufNd0+D0q1JbnFRW84asJPWOrKm3L/KXIhJkBAA6OnNXrZriOwXVJGnTa77dhOWepJhKVzN3wDmw3yFWLm9GrlZ8VNvxINe3ZooWx//AUzLjlXoS2ar8q798E1qc6znSd6Zj0FiIYwiVgY3RANBbbewHbewFpRo0t2frGk/qmMyRuAABgykpMWanK/YDpGsvxW8rxXUJjD7Nxd7YPnBP+YnLY/8m6cirlx+vaLuBmlCSJps6rTZ1XmQy7YI8HQ72Wixwj7nQEAMGMsHhGWDypU6M3T6NXMnBpNQCAUHUZMr8zZH7HCJ7BnLMCmTEPQu5Cn2Ac4dkxZ80NTEoNaKxTFN1srq3qIAkSw/CiHGlRjtTNgx+T4B1670cAwAymMD5dGPeIprmw/coeRWEGaTYRJiPXY3K+gN/9J0uvu005q7tk9vyg6LhhVKTufMafmppKWX0AAIfDWb9+/b/+9S+SJCMiIiAIevzxx59//vl58+YtWbJkyZI7BWJfvXqVw+E89thj/T0bN27ctWtXSUlJamoq9aD+3DzqzB7HcQCAr69vVlYWjuN0et+f2VNPPZWYmEj9/zvvvDPk4zAMu3Hjxq39t0YDEARx6zAAwJis2+/I8N+9zMzMX3755YcffrDM3VyzZk1ycvLevXv37t27dOnShoYGBoPx3nvvVVVVFRYWVlVVrV69OjIyMiws7PTp09u2bcvMzLSzs1uxYoWnp+fmzZtHN1cCM9QfeL0r9xeqKUx8zO+RbTBjot5uBEFeOlWZc6VPXMUvWLji0RgWZ/RFS3FpjXbXG+YOGQAA0OjcR7awFjxudTzRqao8VfhWt6YvnDtcvCI14lWEbp0hY1I1dGe/iXbkUU06z90h/jWO7+LxLpdnow+IxmSLH2CLH3CabTTIsvQNxw3SC6QZBQCgHQVoR0HPja0sUSLHfznH50EYuZNaMwzRvIVJ3sIkDNfVtp6tkB1rURYCAFCTpqTpl5KmXxx5PmFey0K9lvFYd4obhbj2rHnprHnpZnmd8UoGev0EJQNgqs43VedD+z5kJj7InLOS7j0OaUujAIIhvyAXvyAXrdpYkicrypWqf3MAnDxUcj6zIlziIUnwdhWNtOTBFAWC7Hxi7XxifVa93XH9J9zQy7CbHGebVoNSQcdjB8OGrsQ9cqgNfT9isdhgMHR1dc2aNev48eMff/zx008/jWFYZGTk888//9xzz93uPnK5XCQSWVpT6s7NzX1FFtzchi53HhISYjKZKioqqE0pACAtLS0tLQ0AgOP4n//85yE/5eLikp2dPZIfkHJ+d3cPnPWgKKrX6ycu4HF8Gd7wkyQpkUhKS0v7e/Lz80tLSy9evMhkMl9++eWdO3ceO3Zs1apVO3fuPHHihKenp6en56OPPrpr167//Oc/n3/++QsvvECtmN54440PP/xwdIYf7ZZVfb2RiqqFaHS/h7e6zlo7cYf6Oi169McCaaMSAAAgMPuBoOR5gaM/LiJJY9Zh/Y8fU3V1YWd3u83b6T6hg4cQBQ37rlZ+RhA4AICNOM6XvOXvNtf6ToRJU/JVb+HnVCU9CGbYRW3iSzbft6n5vzMQjUWdAhAmnUF6Xt9w3CDPAoQZkISx9Zqx9VrPtXfZ4nlc/xUsz9Q7x1ggdG64eFW4eFWvTl4hP14pO67WtwIAerRNVys/v1a1U+ySEO61ctgjAJpnAPfxlznpW0yFWcaso6bKHECSpEFrvPir8eKvdHEQc85KZuKiySoFxLNnzZoXmJQW0FjbVZgjraMcACheeLO58GazyNNBkiAOjbrnHQAMOxfPhX+axAm4evCN+vHZ8fN4Y91NUZ7wfmQyGZPJpBzj1C7fYDDk5OTs2rVr8+bNzs7O/WcEVri7u7e3t5Mk2f/ubW1tBRYLi9u9k5cuXfr6669v27Zt//79VpdOnz6NokOvkEiS7O21VvkEALDZbCZz0L+Ju7s7g8GwzAmsqKgAAHh73xuFTob/si1btgwAkJeX199TW1sbGhra/w8RExNTV1fX2dmpVqv7XSKxsbGZmZnU4H5LHxsbW1c3SOZshKiqs2r2bMb1KgAAwncL3vi1nfeYMjHuTIu05/C+fK3aCMYjZ4806nXfb0dvnqaaSOxc3vq3rN7CelR5pvDdps5rVNPPLXV+9NscprXsINZVorzyN1NPX4wY03Wm0+ytDAe/Uc9t3CEBwHECM5kx3Gw2k2aCBADAEIBhiE6DEQYNYdBoY9A8mDrADC7XfwXXfwWB9uqbTuvrM4xtNwEApBnTN57SN56CmXyO72Ku/0qm6zDSe3yuZ1Lwc4lBf2zpLqyUHatpPWfC9SRJNHdeb+68zmTYh3gsChOvcHUIvYNHB6IjSNx8JG4+oWwzZh9HszOI7g4AAC6twfd9qD/wKTLzAeacFYyg2EkJPodgyC9Y6Bcs1KiNJXmy4t8cAG1yVZtcdf54RXiMhyT+3ncATB6PPh0/2VMY4PLly/X19VREvcFg2LNnT0JCAo1Ge+ONN06cOFFYWMhms1NTU+Pj4w8cOFBTYy2k0c+sWbN0Ot3BgwcffbSv3sq3337L4XCio63FzawICQl57rnnPv/887S0NEuPQnV19R12ni0tLV5eQ8Rvbd++/fXXX7fsYbPZq1at+vXXX//+978zGAwAwE8//WRvb7906dI7T2yKMJpVdldXl739wPeTz+d3dnZ2dXXRaLT+FEaq02own883GAxarZZSaejn2Wef7f9/6wh/kmw5/0Xz8X9RwWv2AUnBT385gc40EhTcaDqXWU6VJnN1569eN8NhDDl7ZnmdZufr5g4pAADQ6Nw1L7LmpVu9eZu7rp8ueEePKgEAdBhJiXglyudhq1c8iRtU+Z9oyv9H/TvADK5D/Gu84DWTkqqHm4l2pa6zR9+l0it7jT1qY68WVesxrR7TG01mYpg8EQYd5rAYXBbDjovYcxE7DuJox3K0Zwns2c4ObAGffW+tDGAmnxf8KC/4UbO+Q1d/XF+fgSkrAAAE2qut2q+t2k/nuXP8l3MDVt9ZDgiCYE/BDE/BjLTI12pbz1VIM+TKfAAAalIXNx0objogsAsIF68I8Vxy64pw0HwEIs7KTZzlG00VOcYrR7HCy8CMkyYMvX4SvX6SJvRizlnOTF4G80eUSjDu2NmzkucFzkoLaKztKsqR1vY7AG40F95oFnk5SOKngwNg2vPjjz9aRfUDAJKTkylFPA6Hk5aW9sorr7BYrN27d8tksr179wIA5syZs2PHjhUrVqxZs0ar1f76668MBoPaWw7JwoULFy5c+PTTT1dUVAQHB587d+7bb7/dunXr7YIBLdm6dWtzc/PmzZv/97//paWlubi4lJSU/Pzzz+np6VLpEGU8AQAuLi4XL168td/Pb4jN1auvvpqWlpaenr5hw4aCgoKPPvrovffeo0zbzZs3X3nllU2bNj355JPDznNSGPh25ebmWhndZ599Ni7OOtocAODk5KTRaPqbarXaz8/PycnJbDYbDAY2m011Un8WloPVajWCILdqOt4unc9s1NTue6m75CTVFKVt8lnxFkSbqDeCyWQ+fbi0rFBONaNmeC1cGUFnjDZFiiSNV47qf/x3X/S+s7vdc9vovmGWQ8yE6VrVzvy6/1FNgV3AkpnbBXbW5gFtz1Vm/RXX9E2MLX7AadbfadyhD7cmAo0ea2hRNbWppR1qWYe6s8cwlixQE070atFeLQoUQ1yFIMiZz3YTcF2dOCJnnrszz0PI43MnJ07trqBxXO0jN9pHbjSp6nX1Gfq6o1SFQFzbqi7erS7ejThHcgNWcfyW0th3em0xaOwwr+VhXst79S0VsmMV0gyNoR0AoNTUZZV/nF3xqa9rSrh4pY9rMnwHHUYYZkQkMiISCU0Pdv2kMeuIua0JAGDulOl/3ak/vAuJms1MWYlEzpqUJEBLB0CpRQRAm0zVJrM5AO4Bbo3qBwDs2rWLMvyPPfZYRETErl27ZDKZRCK5ePFicnIyAGDJkiV79uz55JNPNm/ezGazY2Njz507138MPyQZGRnvvvvuzz//LJfLQ0NDv/vuu6effnokM7S3t8/IyNi9e3dGRsa3337LZrPj4uK+//779PT077//fsjoPCaTScUBjIS4uLizZ8++8847Tz75pK+v70cfffTiiy9Sl1QqVXZ2NqUoMDUZyONvbGy8fPmy5bXU1FRf375k5SeeeCIgIICK6s/NzZ0/f35XVxeCIACA0NDQ999/f/Xq1U5OTmfOnElISAAAbN68mUajff7550uXLk1JSXnttdcAAD///PP7779fVjaorNnt8vgNHbVV3zxj6KgDAMAMVsDj/3aesXrcf/5+VN36Qz/kdbapAQA0GrxgRYQkTjzqUDkSM+r27kCvnaCaSGwab/3bVu59lU52Mv+N/qK60b6Pzgl7iT64UhxpxnrzP1GXfkOV2KGxBY5J73J8F/0OQXzdamNFo6K6ubtG1tOu1N15MIfFsOMw7LlMDovBRugsJo1Bp8EQRKfDJEmSJDATBG4mMBOBmcx61KQ34lo9ptFjBhQfyWTsOIiXq53Y1d5HxPcR2bsJuBOUnjuukGhHga7+mL7+GIENVN8BMI3tmcINWM0WzxtJYUCSJOTKvHJpRl3rOZwYOMTlMgWhXsvCxCudblOfyeoueEOZMesolnOGxAa0iWC+M3P28klMAuybHUFaOgD6+0WeDpJ48TRIAbivCA0NTUtL+/LLLyd7IjZuy0gFfCwNPwBAIpGkp6e/9tpr+/fv/8tf/iKVSplM5p///OeGhob9+/fX1dXNmzfv3LlzMTExhw8ffumll7Kysng83oMPPrh27dr+ZRHFkIZfXXe9YveTBKYHALAE4uCN33A9wsCEUV/deWx/odFoAgDY8VkPrZ0pGkOdPXOHVLPzdbO8DgAAYJjzyP+xF/7Byr1fJT9xvmSbCdcDAFgIf4HkXX+3NKv7mLqrFJde6T/R5/gtc5r197uqIHfXMyfIWllPUU1nSV1nS5d2yDHOfLanq52HM89VwHXms50dOAI+i04b5YmDmSA1OlSlRbt6DEq1obvX2Nmj6+zRd3TrcfPQCTMAABZC8xbx/T0c/D0cArwcHcYcizShkITJKLukqz1ikF3or/gCAIARO47vEm7gaqZr7EhWcqhJW9Nyulx21KoisMgxKly8Mshj4a3ZH0NMxqhHc86gVzLwhkE3YYTOZM5ZicTOhRiTKfqkVRupKgCUBgAFwqSHSzwk8eKxZNLa+N2wGf6pzygNf3Nz84YNG4qKigIDA3fv3k2FWhiNxhdeeCEzM9PBweGdd96hJBcAAB999NEXX3yBYdi6deu2bdtmlek4pOHH9aqSfy8xKpsdw+YFPvEZnTOmcrd3gCTJqxdqs8/XUEVrvf2dVz4ey+GO/t2H5Z3Xfvc+adQDAGAHF7vnttIDJZYDTGbDxZIdFbJjVNNTMGNR7D95bNfB0zKrS7/tzf+YshMwk++U/E+O70Q5jswEWdmovFneWlDdqTVYBwY72LECPB2CvBx93R3EbvYs5PfwDJMkqVQbW7u08k5Na5e2uUPd0qm5XfSAM58d7O0UJHYKFju6OfOmrCuAQFX6hhO6uiNoZ6FlP93emxuwmhu4algtIAqlpr5CmlEhO27AegZuQmMFuS8MF6/0EEhGsoywSgKkgDh2zKTFrJRVNM8JLHgxLCRBWmoA9Pe7efJj4qeDBsD0xmb4pz5TV7JX11LRU3bGc+GfJi5+zWgwHfu5sL66k2ompvinPBgCjzqyzIzrDn5mPPsT1WKExvH++E8rHXWlpj4z769Umj4EwUnBz8UFboAG/4C4Rq7MehVt70ujYHulOc3eRuNMSDyjtF19pVh+o6xVPVj6g82kh/s5R/o7h/o4C504U8GUmgmyXalrauttauttbO1taus14UO4BOw4SIiPU7ivc5jvVJn5reDqJl3dUV3tYSoIoB+WKIEb+BDHZxHEGD6e1EyYmjqzy6VHGzuySYvaQg5cr3DxymFlAChIE4YVXkKzjloVAqD7hrNSViHxC26pEvm7ov0tBWCQA2D6VQGYXpw5c8bFxWWMJXBsTChT1/BPNJ1t6kM/5Km69QAABKEvTY8Ojhi9IDHR06nZ9Te8roRqspdv5KzYBAb7Nipkxy6UbMfNRgAAjyVcPGObhyB28G1Ibc2vPTfep/ThITrbMeFvvJA1436ib8TMN8paLxVIG1sHJa062bPiQkWxwcJAsdMUD603E6S8U1MvV9XKeqqald1q461jnPnscD/nMD9BmI+z/Ri8OBMFSaAdedraQ/rGk5YVASA6m+OziBv0MMstbiSrXp1RUSk/XtZ8RKUbiFWGINhHOCtcvNrPdc5IigGau1rQ7Aw0+zih6hq4CZONxC9gpaya3EqAt3UAePxWBnC6VAGwYeP34T41/OWFLScPl+AmMwBA4MJ76ImZApfRl9YwVdzU7H6b1KoAABDX3m7TPxiRsywH4GbjxdId5dIMqukjnPVg7PtsZJAzgMDU3dlv6Rv7UhiYrrGClA/o9uMsB9HRrT+X23SlSG4ZVWfHQWZFeSSGi3w9HKa0tb893WpjtbS7prm7vFHZ0T1EKKLY1T4qwCU6UOjv6TDV1jQkbtA3ndbVHja2XqeiOCnodp7cwIe5gatHdgRAtiiLyqVHalrP4halBblMQajX8nDxSkfeCP6WCDNWdgPNOoIVXwEWYc80D39Wykpm0hKIO5lh9lYigBQMhBYe7dFXBWBq/WJt2Jii3HeGnzCT50+U519roprB4W5L0yWj3zGQhOHYt/qMrwBJAgDovuF2z2+HnQYl2nVrGjPz/qrU1AMAIAhODt0yw/9JK/c+2lGgvPRyv+PXYeZf7KM2gTska9099XJV5rWGgqr2/t83DEGSIGFarDjC33mq2cKxoNKilY3K8gZFWYOiR2PtCeCyGJH+LlGBLlEBLnacqeUGwLWt+vqj2ppDuLrJohtiuSdxgx7meC+A6LeWY7YGw3U1LafLpEesYgA9BDHh4lWB7vOHqulsDdGrQK9moleOmjvlA/OgI8iMucyUVYzgyVEBorhdCoCrO18SLw6TeDBtDgAbNu7I/WX4tRr0yI/58qZuAAAEQakLgxNTA0afs6dTa756x1TaJ7fHmpfOXfMioA8S86+UZ54v3trv3l8yc4e7k2TwXczq4t2qgv8A0gwAoNuLndM+QVzulNh6d5MEoLJRmXGlrrJJ2d/pYMeaG+uVFuvlYDedhX5JANqVuvIGRUWjorROgeGDFMghAPw8HaIDhDFBQi83+6m08CHRjgJdza+6xkzLIwCYweP4LeUGPcwUjih8T6mpL5ceqZRlGrCBimEInRvsuShCvMrVIWz4m5CEqaYQvXwEy79IqU1T0IRezDkrmMnLYP7wOioTx5ApAAwGLTTaPSbeW+TpYHMA2LAxJPeR4W9p7jm8L0+rQQEAbA6y8vFYn4DRi5fhzVWaL16jKqNDTDb36TeZ8QsHDTCjF0t3lEuPUk0fYfKDse+zkUHpCWZ9p/LSX4xtffWguP4rHJPfgxnjU8+bMvlHLtdWSwcqSfiIEobShQAAIABJREFU+IsSfePDRdNpiz8SzARZJ+spru0sqh0iU9GZz44NcY0Ndg2aSsENJG7QN53S1Rzq/wuhYDj4cYPSuQErR1J82UyYGtovl0kPN3fesDxHcLYPjBCvCvFcwkKGD5EjdWqUUgFqqR/ohWEkeg4zZRUSkQQmrygZSZBNdYqinOaaykEOAKHIXhIvDpd4Mlk2B4ANG4O4Pww/JcR7vJwgSACAmwd/9bqZfIfhHZ63A806qtv3IbUHool87J7/F83d13KASifLzH21S10Dbu/eN0gvKrP+SqAqAABEZzslv8cNWDVecXwNLaqDF6orGgd2+WG+gmXJ/mF+zlPFrE0eCpWhuK6zuLazolFplRrAZTMkgcIZIa4R/i7MUYs2jje4Rq6rPaSrPTQoCwCisb3SeEGPsLzSoBGE72kM7RXSjHLpUbWhrb+TBjMCRPPCxau8nOOgYQMJSRJvLDdmHcFyzpLowCYbdhQy56xgzV4OC0YfHjt2tBq0NF9WlCPt7Rlwk1AOAEm8t7vNAWDDxm9Mf8OPm8ynjpSWFfwmxDvTa+HKSDp9lBsUEkN1+z5Es/vC9JCZD/DWv22V8lTXdvFM4TsYrgMAcJmCxTN3eApmDLqJGVXlfqgp71PqRQThznM/ofMHLR1GTY/GePB89dWSAQsRGeCyck5AoJfjHT51f4KazJWNyoLqjoLqDs3gymYMOhwdKIwLc5MECllTJGucygKo/kXfeJK0CN+jsQXcgFXcoEcYDsMn35MkIVPklEmP1LddNBOm/n57jnu4eGWY1wo7K0mJIW9i0KE5Z9CsI3hT5UAvBDHCE1gpq5DoOVYHXr8nJEk21SmKc6Q1Fe2EzQFgw8ZQTHPDr+rRH96b1zFOQrzmrhbtztdxaTUAAMAwN/1PrAWPW0Y5EQR+tfLz/Prvqaan88zFM7ZzmYPOQfHeRsWFP2HdVVTTLmKDw8y/3Ll+6wjBcPOp643HsusxU99hdpDYcc38kABPm8kfBoIk6+Wq/KqO/Kr2Tov9IgCAQYejAlziwkSSQCF7akSNESatvuGEruYXKyEgplDCDXqE47d0JKdFRqy3Up5Z1nxEqRkomAlBsLdLUoT3aj/XlJEkAeLSGvTKUfT6SdIwcHoC2zsyZy1jpqykuYrv5scaZ3RatLRAXpwj7bEQnKYzaGFR7tHxYg8vR5sDwMZ9y3Q2/I01XUf3FxgNJgCAnT1r9bqZ7mMQ4sVKrmq/eofUawAAMF/Ae247I2hQmJ7O2JWZ91prdxHVjAvckBSy2aqMir4hU5n9NypiC2byBan/ZnuljXpK/ZAA5Fa0/Xy2StHb54B1deI+vjBUEiS0vdzuChKA1i5tflV7bkW7tENteYlOgyMDXOLD3GKCXKfICsCkqtfV/KKrO2I2DNQ7gmgsju9iXvAjTLe4EZwcke095eXSI9UtpykfFQWH6RTqtTxCvNJxBIUASMyI5V9As46Yaoos+xnBscw5K5EZ8yBk0jSVSZKUNiiLcqU1Ze1mCxFoF1c7Sbx3eIwHiz1pzgkbNiaL6Wn4SZK8fqku62x1nxCvn2Dl47GcUSu6E4T+2NeGjK+pFiMohvfcNqt4Zpki92T+G3q0GwDAZNgtiv2nr+ucQVMyoz03tmqr+nT9WKIEQdrHNM7w2mrD0tTWu+90RY20T72VzaSvSg2cH+c9av18GxSdPfrciracivamtkEyR3QaHB3okhjhLgkUIlMgDoAkcKPskrbmF4PsEpUbQkG3F/MCH+YGPUzjDO+9N5kNta1ny5qP9K9cKTwEMRHi1YHu8+m04RNAzO3NaNZR9FomoRnQEp4iMsAGHVZaIC/Kae5WWDgA6HBIpLskXuzp7WRzANi4f5iGhh814scPFtVWtFPNhDn+qYtGL8RL6tSa/75tKrtONdkPruU8/AKwKA1MkkRe3Z5rVTsp2VShQ+iymR/YcwYpruDqZsWF/8OU1IEoxI95gR+zZexp+ho9duBc1ZUiOfUrhCAoLdbr4blBUy09/V6nq0efW9meU9FmJXTIZNBigl0TI9wj/Z2nwjLLbOjS1R3VVR8w9TYO9EIw2zOFG5zO9po3khjAbm1TefORCtkxy0IACJ0b4rk4wvshIT9k+HngJqwoy5h1xFSRAyxeL1NCBpgE0kZlUY60uqzN0gEgEPIk8d4RMR5s23fHxn3AdDP8ik7Nob151KKegdCWPBwdGuU+6rvh0mrNF38lFFTOHoe34W1k5gOWA1CT5nThOw3tfeWMo3zSUyP+QoMHvTv0jSe7r7xBmHQAABpbIEj7mOU+SNdvFJAAXC9t2Xeqsr+mTqiPYO2DYV6udnf+oI2xoFAZbpa33uoD4LAYcaFuCeGiEB/BFMgGJNGOQl3NL1YyADS2gBuwmhuUznDwG/YWZsLU2JFV1ny4qXOQmKCQHxLhvTrYYzFzBGEEhKLVeCUDzT42WAaYw0xYyExZRfcJnUQVoCEdADQ6HBIhksR7e/nYHAA2pjPTyvBXlbZl/lJkwswAAEdn7kPrZrqMwRCiV4/r9u4gTRgAgObmbbflQ5rIx3JAl7rmeO4rvTo5AIAOIw9I3g71XGo5gDRjqpztmoofqCZLlCBI+2Ts5XYUvYY9x8tK6/tepnwe86kl4bEhbrY31e9Gu1J3s7ztRllrq2KQJACfx0wMd58V5e4t4k/6r4M06XWNJ3Q1B9GOAst+pusMXlA6x2/JSHQANYb2cunRsubDWmNnfyedxgxyXxjhvdrdKXr4MALCjJVeQy8fwUquAotiQnRxEDNlFTNxEcQeH+GK0UA5AHKl1aWDHABOLjxJvDgyxpM9BUs82LAxZqaJ4ScI8tLJypzsBqoZGOq67NGYUeftkDim//Fj4+VDVBOZMY+3/m2IPajYeYXs2IXirTiBAQAcuF7L4j5yth90hIlrWxTn/w9TlAIAxsu9T5DkuZzmXy5UoyYzAIAGQ0uT/VfMCWCMNjvRxlggAWjp1Nwoa71R3tY1OBdAJODOivJIinB3cZzM6nYUv8UAHjYbBnQdYAaX47eMF5yOuEQNa7xJkmjuul7WfLih/TJhEUbgZOcbIV4d6rXMSplqSIieLvTqMeOVo5QLjQJCmEjcAlbKKrp/5GQ6APRYWYG8KEeqtBB3otHgoAg3Sby3t6/A5gCwMZ2YDoZfr0WP/FQgbVACAAAEUuYHJ80NgEb7EiG6OzQ7X8cbywEAAII5j7zAfnCd5SvJTGCXyj4sbfqVagaI5i6QvGfl+TTILikvv0KgvQAAmMl3nvspyyN5dPPpR96p+fZYaX1Ln/yqrzt/w/JIsetkFk2xQUEC0Niiul7WerOsrVeHWl4K9HJMinSPDxNNeuAFSeAG2QVd9UGD7JJlP8MxiBeczvVfCbOGT/vUo8oK2fGy5sOWlQBhmB7gNjfC+6GRqQARpspc4+UjWOFlYB6oFEVz9+urA8SbvGK7JJA3dxflSCtLW80Wyk6OzlxJnDgy1nP0AcI2bEwl7nnD3ypTHf4hT6M2AgBYLMaKx2L8gkcfKm+qzNPufpOKSYbtHHnPbWOEDNLeURvaMnNf7VBVAAAgCJ4d9qcZ/k8M2jCRZlXBf9RFO6kW022m89xPxxi9j5uJY1fqj2XXmQkSAIDQaQ/NDVqY4DMFjpNtDMJMkJWNymulLflV7UZsYGdMg6GoQGFypIckSDjp7hmzrl1be0hXcxDXWBTggRls7wW84HSW+6wR1AImW5SFpc2H6lrPUU4vCnuOR4R4Vbh4BZc1/HkWoelBr51As46Y25sHpjE16gAZ9aayQnlRrlTRoenvhGlQULhIEi/29hOMel9hw8ZU4N42/EW50rNHy6jDOaHI/qF1Mx2cRutZJUnD6R/0v3xBHUPS/SLsnt8BOw4y2M2d108W/M2I9QIAOEzBklsk+cwGpfLSS8bWvhQA+8hnHGa+AuAxufdburS7Dxc1t/fllIf5CtYvixROAQeyjTuAmcyFNZ3XS1tK6rrMFvpxHBYjPkw0O9ojwMtxkk0HSRjbbmhrDhqazpDmAeNN53lwgx7hBT1M4w6vv4ua1FXyk6XNhxTq2v5OCIJ9XWdHiB/ycU2Ghz3bIkm8rtiYdQTLPUfF01DQhF7MlJXM5GWwvdNd/2jjBQlapD1FudLKklbcNLCMcxBwJHHekTM8uTYHgI17k3vV8OM4cTajrDi3z98YLvFY9FAUY7RJ1aRRr/32H1j+BarJmvsw57GXIPqAb5YkiZzab65X7aIinN2dJEtn/stqW4N25Cku/Nms7wQAwIidIOVfbO8Fo5vPbw8lz9xsOnC+GjcTAACEQXtycfhsiadtr3EPoTVgN8rarpW09J/RULg4cpKjPJKjPCZ9DUegvbr6o9rqg6bf1CQBAABAbM8UbvCjbPFcCB5W4obsUFWUNh+ubjllwgdiHbgsl3DxigjxKqvs1qFvodegN04aLx8xyweUBAFMQyQprJSVjPDESawDZDSaKopaim5KO9sHNJ1gGAoKc5PEi70DnG0OABv3Fvek4Vf3Gg7/kN8mVwEAYBh6YGn4jCSf0QvxtjVpvvirua0JAAAxEO6TbzBnDQrOR02aUwVvNXZcoZqx/utmh/5psKApqSn7rifnA0o+BRGEOc/7jG4/Jr1SZa/hq6Ml/bV0w/2cn1kR5WQ/navoTm/alLprJS3XSlr61RUpgsSOs6M948NEk60GSGKKMm31QX19BpV6StGXBBj8KGMEtSRMuL6m9Uxp86H2njLLfrFLYoT3an+3VKtM16FmQeJNFcbLh63rADm5seYsZ85eATsNL0Y0UZCgTa4qypVWFLeYLM5xHJw40TPFkTO9eHY2B4CNe4N7z/A3NyiP/Jhv0GEAAC6PuWrtDC+f0TsDsfwL2m/+QaJ6AADsLLJ74QO6ONhygEJdeyz3L1TOHoPGXhjz90D3Qft4AtN0Z72ubz5DNXnBaxyT3oZoo38FkABcK2nZe7LcgOIAAAYdXjM/ZH6ct21XMQ0gSbJG2nO1pCWnoo36/VIw6PCMELc50Z5hfgJ4Un/RJG7QN57UVh9EO/Is+5muM3khj3J8Fo0kCVChriuTHq6UZaKmgS0yG3EI81oe7r3aaSQywFQdoMuH8WYLPwQEI5FJzJRVSFSypYjW7wyG4hVFLUW50vaWATkHGIb8Q1wlcWK/IBdoWgffbN269a233hryklwu9/AY3rszJE888URVVVVubi4AIDAwcNGiRZ999tnoZwkAAIAkyf379//3v/+tqalRq9X+/v4LFix49dVXhcJxkEy1fIrBYOBw7qXj13vK8JMgJ7vh4slKas4eYsfVa2fwRr0JJsz6X3caTu2lWoyIRLtN71tFFFfJT5wrfh83owAAR57P8riPnOwG7XtM3VVd57fg6mYAAERjOSW/xw18aJTzAQAAoDVgezLLcn+THfR15z+7KlrkPHmJzjYmBgw3F1R3ZBe3lNUrLL+DjnasWVEes6M93Cf7l25SNehqDmprDxHG7v5OGLHj+K/gBa9BBKHD3gEnsLrW82XSw3LFoDWEu5Mk0vuhEcoA49JqNOsIev0kaRw4RID5AmbycmbKSprLKM3MuNDe0luUK60obMGwgTXcqrUzQiImszzxREMZ/u3btzs6WqeBrFu3jsvlDvmpYRl3w0+S5PLlyzMzMxMSElJSUoRCYWlp6YEDBzgcztWrV0NCRqBBOTJOnDjx7LPPymQyy86urq6XXnrp/PnzbDZ72bJlH3zwAYs18NdOkmRwcLBAILh+/brV3Y4ePapSqZ566qlhn3v06NEvvvgiPz+fw+GkpqZu27ZNLBZXVlb+73//27Fjx50/e88YfhNmPnGouLK4lWrGJHrPXxZOG61OKqHp0e5+01TZ9z5iL9/IWbHJ8hDRTJiyyj8qbjxANQNEDyyM+TtCH/Q3ras70p39NlUglW7n5Tx/J+I0pj+msgbFf48U92pRAAAMQStTApbPCbCF7k9vVBrjtdLW7GJ5S9cgLSA/D4c5Es/EcBGHNZlVZEjCZGg+r63+2dhy1VLCD3GO4AWv4fgvG0klQJVOWtZ8pEJ2TI8OCAkwGbwQzyUR3g+52AcNPw3UgOWeM2YdwetLLfsZYfGslFWMmBTLiJzfGQzDK4tbi3KkbXIVm4NseWM+bbITNyYUyvCPZXM/JHq9niAIHo8Hxsnw79ix48033/z000+3bNnS31lTU5Oamurk5FReXj7WGQMAAFAoFIsWLero6LA0/CiKhoWF4Tj+5z//WafTffjhh0lJSadPn+4fcP78+SeeeEKv11+6dEkiGSj21t7eHhMTk52d7e/vf+fnfvfdd88888wDDzzw6KOPKpXKjz/+mMViFRcX8/n8hISEF1544c5Lh3vD8KuU+l9/yO1q1wAAaHR40arIyBleo34i3lih2fka0d3x/9s707CmrvXtrwxkZk4YEwZBCJMMIoMKiYKooNYJ0NrWqVbQ6vnbamtrTz09LVWrtafVU7G11Dr0CFgVZy2iIIg4MIOESSEQpjAnZM5+P2zeGGYEFdT1++CVtbL32itcJs/eaz3PfQMAMGQqbd2/Ce49DHVE0sZL9z+pa80HA9TsISp5691vNI47ZKsgY853WMLIS+pVauSvFN6lO90CRObG1PWLPGwtxq6gGfJyQQB4ImhPz6vJLBSIJQpNPx6H9WabTfewdJlAH9stAKWoVlz6l6j0tEqsJb+DJ1MmhNIcIoimnkOqAKnVysqGtMKqM71kgE0NXNysFzlYzu51Y90vqtoKaVqS7M4l1Cezexo0A9K0MGLgQpyZ9bN/sudGg6C9raXL8bV+3AcvLPBrM/rA/+jRo0mTJq1cufLIkSO93jp8+PD27dtTUlI8PT1HM8m8vLwNGzZkZ2dLpVImk6kd+I8cOfLBBx/k5+e7uroCAOLj45ctW5aZmenn54ceEBERwWaz29ra5HJ5bGys5sR169apVKq4uLghr25paeno6Pj333/jcDgAQH5+vru7+969e7du3ZqUlLRu3bqqqioyecBduXER+NEXA4X/Cl7jhVM5UqkCAKBvQF70rrfZKCKiLC1JdPI7oFQAAHAWtrof7u3lGl7T/PDyg09Rnz0ywTDUezeLPkX7AKVIIEzZJG/KBwAADNZg8kd6k9YNo/R5QBpbuw6dya38/1nfXC/WitnO48H2DfLyUarUeWVNGfm1uaUN2nWAhrqkae6W092Z5sYjXEp9PiAqae0dUWmCpCoZUWvlKBjY0RwjqPYLsaShE246JHVF1UlF1UkiScPTEXBkB8vZbtaLzQxdhlYSVMjl2TdlqWcVvB5qxDoOHsTAhYTJQWNoBPzaM2TgX7NmTUhIiFgsPnToUHl5uaen57fffuvv74++e/v27Z07d+bk5OBwOD8/v7179zo5OQEAVq9eXVhY2HepXy6Xf/XVV+fOnePz+U5OTlFRUatXr0aHioqKCggIAADExsbm5uba2dnt3r17zpw5AIB///vfO3fuLC8vH/LRecRUV1dfuHABAHDy5Ek+n68d+LlcbldX171799CmQqGg0+nLli1DY1xDQ4ONjQ2Px+vs7PTz8xMIBLq6ugAAgUBga2ubkZHh7e09+KWbmppMTEwOHjy4ceNGTaeZmdncuXN///13pVJpbW29ffv2TZs2DTTCuLAVHyjkIwiSkVKWfqMUfTywnchYsMxzxPZZiFLedXKfNO0c2iT4zKKt2oEhamdkINkVJ28X/wf12TMzdJ3nvZdG7pFFLK1NF97copa1AQCwJCP6jB9G6biTWSg4erFQKlcCAKgknTXz3bydzEYzIOSVBo/DTmabTmabdnbJMwsEt/Nqqus7AACtndKL6RUX0ysmsgwDPMauCgCDIzEDSMwAlaRZXH5OXJqgaKsEACjaKlqzdrXd30u2DqE5RpAs/Ae5FdYjm/s7Rvk5fPCkMaOw6mxlQxqCqBUqSVH1uaLqc3Q9e1frxU7MUKLOgEtoGB0C0Xc20Xe2qqFalpYky7iIim4pSnMVpbmYP78fD0bArzd//vmnkVGPmzx9ff2lS5cCADIzM+/du9fa2rplyxYSifTrr79yOJzU1FR/f//y8vLZs2f7+vrGxMR0dnYeOHAgLCysvLwcO3Ct5sKFC1NSUj766CM2m52cnLxmzZq6urrPP/8cAJCVlZWTkyMWi7dv397R0bF///4lS5bw+XwjI6P8/HwKhTJhwtB+VCPGysoKjbu5ubm9NvirqqqCg4M1TR0dHScnp+LiYrQZFxcXHBxsZWUFAPDy8jpx4kR0dDQA4NSpUwwGY8ioDwDQ19cvLCxkMpmanrKysoaGBvTz4vH4sLCwEydOjPfA3y9SqeL8qZxKXrc1iD/XPnCW44jTZdUtDZ0/f6p8XAwAAFgsNXwzadZybWkwhbLr79yvSgV/o81+fPYQdXtebPvD/6CrlEQTD/rMAzjqyIO0VK46fqUoPa9bPc3RyihqsQcs2IOg6FIIIb42Ib421fUdt/NqMgsEnV1yAEAZv7WM33riavEUJ7NAD6ajtdGYlHvgyMZ6bmv13NbIGh6KShK6Hl9BVFJErex6fLnr8WU8zZLqEE5zWDLIFwSDwdqaBtiaBoilwmL++aLq86gMsLCj/FbBd+lF/7G3CHazXmxpPNgmAs7UihK+ibIoStsIGOnqlN5IkN5IwE9wJQUuJPgE97y/fz3RXoAZJRgMdsglzE8++aRXD5vNRgM/AIDH4xUVFTk4OAAA1qxZ4+zs/M9//jM5OTklJUUikRw/fhwNWm5ubomJia2trcbGxv1e5caNG1euXDl58uTbb78NAHjvvfeoVOquXbuio6PR1MLi4uKKigo0S9/ExCQ8PLygoIDD4bS1tZmZmWl/NVavXn306FFNc+vWrXv37u11ufb29q+//rrvNMLCwmbMmDH4H0QDgiACgaDXJzI2Nq6urkbf/fXXXzW7GFFRUejHAQBcuXIFXcAYEgKB4OLiomlWVlbOnz+fwWB88MEHaM+MGTN+++03oVBIp9P7HWGcBn5hQ+fp4/fbmrsAADoEXFi4x2gSZRUlD0Wxn3cL8eoZ0qJ26Th6aR/QKnpy4f7Wls5KAAAeS5jpvsOZNV/7ALW8ozl1q6T6JtrUdX7PwHf7MIRNBuRJXfvPf+U2tIgBABgMZiHHfkGA/dhu4kLGJ1ZmeivMnCOD2bmljbfzavLKmhAEkStUGfm1Gfm1DAPKdA/LAHemsf7QVXYvAAzR1Jto6m3o/0VXxQURL17e/AgAoBTVtmf/pz3nJzIzkOYYSWbNGES/kkqiT5m4ZsrE1TXCh4XVZ8sEN1RquVItL6m5XFJz2ZBm7Wq10Ik1n0IceBMBr0PwDiJ4B6mFddLbSRojYGVloaiyEHNqP9F3NpGzCG/93BK5xyEPvvRWdDYNfdwwsF30L3PuusGPGXyPn8PhoFEfAEChUFavXr1nzx4EQVxdXTEYzPLlyzds2DBz5szQ0NDQ0NBBrpKRkUGhUJYtW6bpWbt2bWxsbH5+PofDQS+kqc1D9+yVSiUAwNbWNi0tTalU4vHdMW7lypWaLfYvv/yy38vJ5fK7d+/27X/WbIB+N9DRVY3m5ubo6Oi5c+einUuWLKmuru7o6NDT0ysqKlq1atUzXUgikezbt2/Pnj0WFhZ///23qWn3+rSDg4NarS4pKZk+fXq/J47TwI/DYdFKfSMGbfE7k+kmI3XXRRDJ9ZNdiQe7hXjt3HSjd2MNeyjuVdTfvJb9pVwpBgDoUSzmTdlnot/jB0LeUiK8sVHZUQ0AwODJRtNjqHY9bguebUYAXM96HP93CbqDa6RHil7s6WA1tD8K5E0Gj8N6O5l5O5m1dUoz8mvTcmvqm8UAgKa2rrO3ys7dKnOxowd6sLwcTcfECwBL0KM5raA5rZALC0W8hG4VIEQt4d+S8G/hKAzqxCU0h/BBVa0wTLo3k+7Ndf3kUc2lgqoz6I14q6jqdvGPGSX/tTPjulovsqL7DuIDhKWbUxZFUd5ap20EjEi7pKlnpaln8VaOxMCFRL/ZY2kE/GagvQoNALCyspJIJE1NTVOnTr148eL+/ftXrVoll8vd3Nw2bNgQFRU10Dg1NTXm5ubaGwHoyFVV3f4OZmb9Lymx2WyFQlFcXDxp0iS0h8vlcrlcAACabN/vWQwGIz09ffgfs18wGIypqWlLS4t2Z0tLC3qfRKfTt23bpuknEAiffvopAECtVjc2Nmoe0BsaGoKCgvoOvmXLlrVr16Kv79y5s3r16vr6+s8//3zLli3aqXzoHUBdXV3fEVDGaeA3pFPnR3rmP+CHLfUYubuurEsU97X8wQ20SZoZTo38P4B/+piOIOo7JT/fL+tOobQxmTrHK4ZE6JE5KC5Pakn/ortmT8+GEfxfHcOhq48GQixVHEnKz+Z15zR5O5mtme9GHdN6LcirhYEuKWyaXeg0u3J+6+3cmqwigVSuQgAorBAWVgipJB1/N4tAT5a12djYNhLorkZ0V0Pfz7oqL4t48bLGHACAqqupIy+2Iy+WZDGV5hhOtg7B4AbM1CER9D0nvO05YXldS35B1ZlSwXWlSqZWK8sEyWWCZD2KhavVQmerBTTSwBosWBzBPYDgHqBubZSlX5DePq9urgMAKKt5yhN7uhJ+JEwJJnEW4Se4jqEP0HPHyG22StIx9HHDgGQy2oS42tpa7SafzycSiejqN/qUL5FI7t27FxsbGx0dTafTNXsEvbCwsKivr0cQRLNoLxAIgNaNxUD7XGFhYdu3b//2229PnTrV661r167JZLJ+z0IQpL29vW8/mUwmEp8hXdTGxka7XFClUpWWlkZERAxyChaLxePxmon1WufQgCZCAgBSU1PnzJkzZ86c27dv99UjksvlAAACYcBv2TgN/AAAe7apPXvk8pyqhurOg9tUgscAFeJd+TnRv8eakkTeduXhZ9VNWWhCAiugAAAgAElEQVTT12Gdn+N67YcJRK1oy/q2s/gE2qRYhxgF7sYSRrr2AMBjQfvB09nCNgkAAI/Dvj3baaa39evzwwN5iWAAmMgynMgyfHu28/3iurRcfml1KwBALFUk369Kvl9lZaYX6MH0d7OgkcegwB2DJ1MdllAdlihay0S8BHH5WdSiWiq4IxXcwRL1qfaLaI4ROoYTBxnD3Mjd3Mid47q1pPZKYdXZpnYeAKCjS3Cn5OdMXuxwfICwhibk+WvJYasVxfekqWfluWlArULkUlnGRVnGRZzFBBJnIdE/FEN9Hbyt7SL3jPUUnpKamlpRUYFm1EskkqNHj/r6+uJwuM8+++zy5cs5OTlkMpnD4fj4+CQkJJSWlg40ztSpU8VicWJioiZqxsXFUSgUd3f3wSfAZrOjoqIOHjzI5XK1VxR4PB66od4vtbW1LFY/heK7du3avn374FfUZvny5Zs2bXry5ImNjQ0A4Nq1ay0tLWiawiCYmZkJhUL0ta6u7kDyiAAAtVq9du3aqVOnnjlzpt9bn6amJgCAhYXFQCOM38A/GuS5aaIjOxGJGAwgxNvQVnzx/tZOST0AgKhDm+MVY2vaI6tC1dUgvLEJfV4BGKyB91a9Se8PWWU0EAgAyfee/O/6I3R538SQ8mG411g9k0FeJ0gEXIAHM8CDWd8svp1bk55X0yaSAQCq6ztOXC0+9XfJZLYpx5PlbDs2TrI6hhMN/XYYTNkqqfpbxEtAjSvVsvbOoqOdRUeJJp5UxwjqhLBBZICJOrruNhHuNuENbY8Kq86U1F5VKLsQRF1Zn1ZZn0YjmbhYveVivVCPPHAOEBar4+qn4+qnbm+W3bkkSzunaqwBAKgEleL/7e9KPEjwnkkMXKjj4Pk6LQC8aPpm9QMApk2bhiriUSgULpe7detWEol0+PBhPp9//PhxAEBAQMDu3bsXLFgQGRkpEon++usvHR2defPmDXSVkJCQkJCQVatWFRcXOzo6Jicnx8XFxcTEDJQMqE1MTExVVVV0dPQff/zB5XIZDEZ+fn58fHx4eDiaZ9cXBoNx8+bNvv3PWh3wzjvv7N+/f/78+Tt27Ojo6NixY0dQUNCQiXs+Pj65ubnDGT8rK6uiosLLy+u7777T7vfw8Jg9ezYAAC1qcHNzG2iE1y7wq9VdSb9ILnav3uu4+Op+8E0vId6i6qSU/F0qtRwAYKxrP9/newNqj7s8aV1W881/qCTNoLtm7z8kC/8Rz6hLqvjtQsGDR90qvD7O5mvmu421IwvkdcPMmBoe5Lh4hkNBeVNabg0qA6BUqbOK6rKK6ugG5AAPZqAHa0zKRjA4ImXCPMqEecqOKlHpaXHpXypJEwBA1pgja8xpu/sNxW4+zTGCQHcd+N4aY2rgbGrgHOjykbYPkEjamFX6a1bpEWsTPzfrxRNMOT3ds3qA1Tcmz32PPOcdRUm2LO2cLPsmUCoQpVx296rs7lWcmTUx8C3i1DCsLky4GZq+Wf0AgNjYWDTwL1u2zNXVNTY2ls/ne3h43Lx5c9q0aQCA0NDQo0eP/vDDD9HR0WQy2cvLKzk5WbMN3y/nz5/fuXNnfHx8TU2Nk5PT77//PswMOD09vfPnzx8+fPj8+fNxcXFkMnnKlCnHjh0LDw8/duyYWq3uewqRSETzAEaJnp5eenr65s2b0a33iIiI77//fsizQkNDN27cKJfLB1miRykrKwMAJCYmJiYmavdHRUWhgT8tLW3WrFnaIsG9GBcCPiOw5e0XRNzR+cs/FYXd6sfksNWUhet7CvHKbxXuLXjyF9p0sAyZ5f6lDr5HKX9HQVzb/b3dPnsMd0bQgeEYkw/EY0H7f0/nNLV1AQDwOOyK2c4zvK3gYwXkRdMhlmfk16bl8AXCp0rAGABc7RgcT5anowl+pHLXowdRK6X8W6LSBAk/Fc26RSEYsamOkVT7BcMRwezXB4hCNHJmzXe1XtzrVr7/aYjaZHcuS9POoc6c3eDwBC8uibNIhz15NKpcbzJOTk5cLvfQoUNjPZFXDLFYbG1tfejQofDw8FGOY2FhkZiYGBISMtAxr0/gV/LLOg9uUwsFAAAMiUJb+y+CF1f7AJGk4eKDbeiDAgaDDXDe4mX3dg8hXkVX8+3Puh5fRps0pxWGvp8PkoU0OAgANx9Un7xWrFSpAQAmhpSNSz1tzKEKL+TlgQBQWdOWlsu/W1gn1TKS0aUQpk2yDPRkWTLGMr9dJa4XlZ0R8xKUoqe5YBgciWI7l8aOIJpOHnJzTamSldfdKKw+18sHiEWf4mK10N4iCD8cI+DyPGnaOfn9ZEQh13TjGJbEwLeI0+Zj9YdeVYZoAwP/iNm1a1dycvKNGzdGM8ihQ4eOHj2alZU1yDGvSeCXZV4RH/sWkcsAADhzG92N3+HMbbQPqBE+uPxwOyrESyEahXrvYRpP1j5A0f5YmBytaKsAAGBwRKNp/x6Nz55Urjp6qSCzoNtSCC7vQ8YWmUJ1v7guLaeGV92jysiOacDxZPm6mJMIY/efE1FLBXdEvARJ1d/9yQAvwpKGXntvE1cXVp0t5l9Av+MoRB09J1aYm/UiY92hJfyQrk7Z3avStHMqftnTXiyW4B5ADFxIcPUHA6vLQbSBgX/EyOVyHx+fffv2aQv/PRNisdjFxSUpKWnw/MdXP/CrlOKEH6XJ8WiL4DWDtnYnhtRLiPfP28U/oEK85oZuYd7f9RLi7aq63pL6iVohBgDgdZn0oJ+H4zo6EAKh6GBiNmq2hsNiloc4BfvYwOV9yHigvlmcmsPPyKttFz+taCLq4HxdzDleLDum4Rj+R1VJmsXlZ8W8BEX7Y00nBosnW4fQ2JEkc78h195VasXjhrSCqjNVjXe1fYDMDF3drBc7WIT03NfrDwRRPnkkSzsny7qOyLSMgI1MSQELiNMXYI1GXmr0hnD9+nUGgzFKC5w3lsrKyrq6OjQlYgTw+fzy8vIhdQZf7cCvbm8WxX6mKM0FAAAMlrI4mjz3vV5CvMl5X/Nqu/0Q+xPiVbU9/KEjr3sCZCbHmPs9ljjyBfm7RYK48wUyhQoAYKxP3hTuBU32IOMNlRrJK2tMzeGjOoCafksGLdCTNW2Spe5IHTGeB4is/oGIF9/1+Cqienp3gtdl0RzDqROX4iiMQU5G6egSFFUnFVafE0ufitnp4Clsyzmu1otNDZyG9gGSdcmz/pamnVM+1vJvxWAJbv7EwIWESdMADi7gQV5VXuHAr6wo6Pzvp+p2IQAAQ9XTjYrRcfbVPqBNXH3h3sfNnRVgICFeaYvw5hap4A7a1Pf8UN9z04gzepQq9f+uP0q+3y0p5T6R8cFC9zGpooZAhklrpzQ9rzYth9/Y+vTpFofFTGabcTxZLhPGpggQRS1rF1ecF/ESFC0lT3sxOLLVDJpjJJkZAAau4O8eAVE9acgorD7zuCEd0coiZOg7ulkvdrScS9QZOsVByS+TpZ2TZV5BJE/TJLH6xsSpYcTAt3AmI/cHh0DGilcz8COI9NYZ8f++ByolAABv5ai78TssvUfufWV92tXsHd1CvGTzeT7f9xbiFRY0JW9EzcWxBD1jzj6y1XBtGPrS3C45eDoHtdbFYDBLZjjMmzZhDH80IZDhgyAIr6rlVg7/waN6hfJpgKTrkwM8x6wIUDM7eVOBiBcvrriAKCWaXhzVjOawlOoQjqcNqFKiQSRpKOKfL6o61yF5KmKKx5EcLELcbBabG7oNvQAgl8of3JCmnlOW52n36zh5kwIX6XhxMHh4iw95ZXj1Aj8il4lP7JFlXESbxKlh1He3a9tvI4g6kxd7r/QI2rRm+M+d/G0vIV5RaWJrxk5ErQAA6BixGUH/HVRFfAjyy5sOn80TSeQAAD0qIXqxp7MtzASGvHqIpYrMAkFqNr+64WmNHAYAV3sG15Pl4TCWRYBqhbir8qKIlyBvytfqxpCZgVR2BJk1EzNwBT8Kgqirm7IKqs5U1t9SIypNv7Gunav1IidmWK9fiX5RCR7L0s9LMy4ioqfarhiaAWlaGDHgrV45xRDI+OQVC/xqYV3nz58qq0oAAACLo779MYm7RHtTXypvv5q940lj9+q9z8S1/uzoHkK8Knnr3a9FJd0CzhS7ecbTvx1EOGyI+SDIudSypLRytOlgZbhxiaeBLrTWhbzCIABU1bWnZvMzCwUS2dM0ez0qYbo7M9CTZW5MHcPpyVtKxLx4cXmSWt6p6cSRGVSHxTSHiOHcwXfJmov5FwqrzraJn9qo47CEiRZBrlaLmPShywgRpVyefUuWelZR8lC7Hz/Rgxr5f3hb52f8TBDIS+VVCvyK4qzOw1+gN9pYfbruht14+x6ST43tJRfvb+voqgUAEPDUEM9/25v3WL1XieuabnzY/cSAwRn6btd1WTliId7OLnns2dzCim515bn+tuFBbBwWLu9DXhPQIsDUnG4jAA2OVkYcL9YUJzOCzhC77C8ORCnpenJVVJIga+hRwU+y8Kc5RgzuA9Q9AqKuaX5YWHWmvC5FpVZo+g2oLFfrRc6s+RTi0Ot2qoZq2e3zsoyL6o7uMkKDbxLgcz9knPOKBH4EkVw51nXmULe77kQP3ehvsfp07UMe1Vy6kfu1Ui0HABjRbOb57Dei2WgfIK27K0z5h1raAgDAken0mT8RzaaMeNqVtW0HErNbOqQAABIB9/4C9ynO/RtEQiCvOnVCUVpuze3cms6upxI3ZCLe382C48kaW1kqRVu5iJcgLjurlrVpOrFEA+rERTTHCB2DoSv4JfK2R/xLhdVnWjqflhFiMbgJZhxX68XWDL9BjIC7USnlebelqeeAQqb3SexIPwoE8pJ4BQI/Iu0S/faVPLvbO4EUvIwasVm7lkalVqQV7c973F3Kb28eFOL5LwJeezWyhxAv0cSTHnQARxlhPS4CwM2H1SevdkvyWTJomyImj+3iJwTyElCq1Lmljak5/ILyJu1fDWszPY4Xy9/VgjJ2BtOISi6puq7xAdJANPWiOUZSbOcOYzsPEbTkFVadRY2ANb16ZHMX64UurAW9xD/6R6WEZX6Q8c94D/yq+qrOg9tQMW0MgUhd9QXRd7b2AWKp8NKDTwQtuQAADAY7zelDb/uVQwjx+u3AYEf4CyVXqI5eKszI71YY9XOxWD3fjUQYswVPCOTl09wuuZ1Xk5ZT09z+NM1eB4/1cTbneLEcrIzGcLtL2VElKk0Ul/6lkgg1nVgdGsVuPo0dSTB2GXIEmaJT2wgYBYPB2phMc7NebGM6fRAjYAjklWBcB3559i3Rb/9CpF0AABzDUvfDvThmj4U7QUvupfvbxLJmAACJoB86ebcVo0cpv7L9cdONjYrWMoAK8U7/mmq/aMRTbWjpOpD4kN/QCaAkH+SNR40gRZXC1Bx+dkkD6jeNYmZM5Xiyprlb6lOJg5z+QkHUSgk/RcxLlPBTtSX8CMYuNHYkxW4+dugKfqSh7VFh9VlezVW0KhiFSmK4WC1wtVqoR7F8MXOHQF444zXwq9Vd5w5LLv2OtnRcfHXXx2Co2p5dSN7jxNTCvWhZjomB07wp+3p5ckuqkptTt6kVIgAAnmZJD/6ZYDzybNscXsPhc3lokrOBLunDpZ4TWdC+EwLpdgJMzeHXaTkB4rAYT0dTrifLxY6OHTtBC5W4TlR6WsRLRBU7UDB4MnVCGNUxkmjiPmRur0LZVSr4u7DqTF1rgVY3xprh52YzhBEwBDI+GaeBX553u/Onj9HX5HmrKW/1cNdVqmQ38mMe8btL+V2sFsyY9Dm+lxBv9k8duT+jLRIzgM79YcRCvGoEOXOz9EJ6Bdp0sjHesMRTjwr1OiCQpyAAlPNbb2Xz7xXVyZVaVfL65MAxVwFCVJLadHFJQlf1DaBVwa9j6EBzjKTavzWcH4cBjICNnVjzXK0WGtKsX8jMIZAXwDgN/ABBRH/EyO8n097/iuDJ0X6no6v2wv2t6PYbFovnun4yyWaJ9m27WtYmvPWRtOY22tT32KDvtXlIdc+B6OySx57JLazs3i+cN81u8QwHWLMHgQyERKbMLBCk5vCf1GlJ3GAwk+zpHE8rDweTMfz6qLqaxGV/iXgJys6nFfwYHIFiM4fGjiSaTRmmEXD+k9NoXpEGJt3b1WrRsIyAIZCxZrwGfgAQhVzd0oAz7SGFXdWUeeXh51J5OwCASmLMm7LP3NBN+wB5c5EweSNq743VoRlz9pKtR+hvCAB4LGg/kJiNZjCRifj1C909HaE3FwQyLJ7Utafm8DMLeqgA6dOIAe7MQE+WqdFQRnkvDkQtrbsr4iVInlzTNgLG69uiRsA48tAV/C2iJ0VV54r5FyTypyIHJIJ+6ORdVgy/FzJtCOQ5MX4Dfx+Q+2VH75T8FzXbsDT2CvXeQ+2psCEuO9OS8SXq6KVjYM8I/hmvbzviiaXm8I9dLkJr9pgmupsjvEyNYM0eBPJsyBSqe8V1qdn8Mn4PFSAnG2OOF8ubbaaDHzsZYGmLqOysmBffxwg4mOYYSbKYOhwj4Mr6WwVVZ6qbsgAAGAz2/VlXqST64GdBIGPLqxH45Urx9Zx/ldfdQJueE94OcP4/7ZwaRK1ovRsjenQSbVJs5xoH7MbojPCRQqFUH79SlJrTvRjo72qxer4bcexEyiCQ14DaJlFqDj8jrxZ1tUChknSmTrLkerGYJrpjNzVEVv9QxIvvenylhxEwzZLqGEFzWDIczY92cU1h9Tmpoj1o0o4XOVUI5DkwLgI/+mKg8N8qenLh/taWzkoAAB5HDHb/J5sZqn2AqqtRmLJJ1pANAAAYrMGUbXpua0csxCtslxxIyEa3J2HNHgTyfFGq1A9LGlJz+EWVQu1+O0sDjhfL18ViDFUxBjACxpJZXJrjMjIzEGDh3T/kdWBcBP5Bnvgr6m9ey/6y212XYjnf53uGnoP2AbKGB8Ibm1WSJgAAlmRIn/EjycJ/xJMprBQe+isXfSIxoBE/DPeCNXsQyIugqbUrLbcmLbemrVOq6SQRcH6uFlwvKxsL/bG72x7ACJhiSnNEjYBhBT/k1Wb8Bn4EUWeWHLpX9hvatDGZOscrpqdvJtJZfLI16xugVgEACHQ3etDB4Zhz9wuCIJcyKk/fLEX/II5WRhuXeurTxkyBBAJ5E1CpkfzyptTs6ryyJrXWb5GVqR7HizXVbSxlgNUKcVflJREvvpcRMIk5neYYSbYKGtIIGAIZn4zTwC+Vt195+HlVU7fsto/DWn/HXu660pb0L8XlZ9Em1WGJ0dSvMLgRxmmJTPnLubxsXgPanO1nGxkMffYgkJdHW6c0LbcmNYcvbBt3MsCKlhIRL0FcnqSWP63gx5HpVIclwzQCfp2IiYn54osv+n2rpqbG0nKEyyHvvvtuSUnJ/fv3AQATJ06cM2fOgQMHRj5LAAAACIKcOnXql19+KS0t7ejosLOzmzVr1rZt20xMTEY5cq+rSCQSCmXsqlSenXF6x9rcWVktzAIAEPDU2V7/tjPr4a6rFNUKkzfIm4sBABgs3tB/J40dOeJN/dom0U8JD+ubxQAAgg5u7QI3P5cRLhtAIJCRYaBLWhBgP3+6XdHj5tRs/sOSepUaUSjVGfm1Gfm15nQax5M13d1SlzIGVfI6RmxD/y8NfD7penxVVBKPGgGrJMKOvMMdeYdJ5r5Ux0iKzewhjYBfJ3bt2mVo2Hsb1MDAYEwm0y8IgsyfP//SpUu+vr4rVqwwMTEpKCg4ePBgXFxcRkYGm81+Xhe6cuXK+vXr+Xy+dmdTU9OWLVtu3LhBJpPnzZv33XffkUhPBawQBHF0dDQ2Ns7MzOw1WlJSUltb28qVKwe/6L1793x9fXt1CoXCxsbGP/74Y/fu3YOfPk4Dv6WxZ6DLRwVVZ+ZP2WfYy11XcEeY8g/UghNHMaEHHSSaeI74QllFdUfO58sVKgCAqRF1c4TXmGYXQyBvNBgMxnUC3XUCvbNLnp5Xm5pdXdcsBgDUCUWn/n6UeKNkMtuM68VytjXGvHQZYAyORLVfSLVfqGirEJWcEpefQ3+FpHVZ0rqs1m4j4EgdA7uXPLEx4d133x3xw32/HD58WK1WP8cB9+zZc+XKlQMHDnz44Yeazh07dnA4nCVLlhQVFT2XqwiFwi+//LJXp0wm8/PzUyqV27ZtE4vFe/fu5fF4165d0xyQkpIiEokaGxtzc3M9PDw0/fX19VFRUenp6UNet6KiAgDwr3/9C49/GsQpFAqbzU5JSfnjjz8Gv3UYp0v9AAAAEKVKju+xeo905P3S9nA/QNQAAKKZN33mTzgyY2TXVamR+OSSa3e763e9HE0/WOhOJo7TOyEI5A0EAaC0uiU1m3+vuE6hfBoVGIYUjicrwINpMHZZOIhKLqn6W8RLkAruaPfTg/9LsQ4Zq1m9BNCl/tGs6g/J6Jf6Hz16NGnSpJUrVx45cqTXW4cPH96+fXtKSoqn58ifGAEAeXl5GzZsyM7OlkqlTCZT+4n/yJEjH3zwQX5+vqurKwAgPj5+2bJlmZmZfn7dyk4RERFsNrutrU0ul8fGxmpOXLdunUqliouLG/LqX3/99cGDBxsaGvq+lZSUtG7duqqqKjJ5QCvqMZPOGAYY7aivVoiFNz5se7APjfq6zu+ZzD0+4qjfLpZ9dzwLjfoYAJbOdNwc4QWjPgQyrsAA4Ghl9MFC9x8/Cnp3rgvLtHs1rqm163QKb8sPKT/GP8wtbdT2Bnx5c8MRKBPCTOb+YRF+Q899PY5MBwBgdCgki2kvfzLjijVr1pw6deq3337z9vY2MDCYMWOG9oL27du3Z86caWhoSKfT582b9+jRI7R/9erVU6ZM6TuaXC7fsWOHi4uLnp6er6/v77//rnkrKirq5MmTJ0+eDAgI0NXV9fDwuHr1KvpWYmKiUqn87LPP+g64fv361tbWUUZ9AIChoeHbb7+9b98+f//edWQnTpzw9vZGoz4AYPHixXp6epqZNzQ0XLhw4f3331+/fv3Jkyc7OzvRfoFAcOzYsQ0bNgzn6uXl5fb29v2+FRYWpqOj0/eOR5tXI9Qp2iqFN6IVbZUAAAyOZDT9G6r9WyMeraKm7afEbLSIiErW2bDY09UOKm1BIOMXKkkneIp10BTrx7Vtt7L5dwsFMoVKjSDZvIZsXoOhLinQkxnoyaLrD/iI8+LA61kZeG/V9/o/Kf+WUlyP1Xkj9D3//PNPIyMj7R59ff2lS5cCADIzM+/du9fa2rplyxYSifTrr79yOJzU1FR/f//y8vLZs2f7+vrGxMR0dnYeOHAgLCysvLwcix3wEXThwoUpKSkfffQRm81OTk5es2ZNXV3d559/DgDIysrKyckRi8Xbt2/v6OjYv3//kiVL+Hy+kZFRfn4+hUKZMGHCi/sLWFlZbdy4EQCQm5vba4O/qqoqOPipVLyOjo6Tk1NxcTHajIuLCw4OtrKyAgB4eXmdOHEiOjoaAHDq1CkGg+Ht7T2cq1dUVKhUqrlz5965c8fIyCg4OHj37t3GxsYAADweHxYWduLEiU2bNg10+isQ+LueXG9J+0StEAMA8LosevDPBKMR5mUgANx8WH3iShH6iGBlprc53Ith+CplY0IgbywYACZYGkywNHh7ttPdwrpb2dWPBe0AgNZOaVJa+fm0clc7BseT5elogse97LVMVOj3JV9Um/oO6fPat9Uj6VCHWv785JNPevWw2Ww08AMAeDxeUVGRg4MDAGDNmjXOzs7//Oc/k5OTU1JSJBLJ8ePHmUwmAMDNzS0xMbG1tRWNWH25cePGlStXTp48+fbbbwMA3nvvPSqVumvXrujoaDS1sLi4uKKiAs3SNzExCQ8PLygo4HA4bW1tZmZm2okgq1evPnr0qKa5devWvXv39rpce3v7119/3XcaYWFhM2bM6NvfLwiCCASCXp/I2Ni4uroafffXX3/V7GJERUWhHwcAcOXKlYCAgGFepby8XCgURkdHR0ZG8ni8AwcO3Lp1Kz8/H13enzFjxm+//SYUCun0/p9px3fgR1RtD3/oyOvOACCzuMacfSN215UrVccuF93OrUGb0yZZrgpzJUAhXgjkVYNEwHO9WFwvVnVDR2o2/06BoEuqQAAoqGgqqGjSpRACPJgcT5aZ8Rvx8I0Sc7m4XaJ4LkOt8LGe7WI2+DGD7/FzOBw06gMAKBTK6tWr9+zZgyCIq6srBoNZvnz5hg0bZs6cGRoaGhoaOtAgAICMjAwKhbJs2TJNz9q1a2NjY/Pz8zkcDnohTW0eunqvVCoBALa2tmlpaUqlUpP7tnLlSs0We990PBS5XH737t2+/c+6L9DvHRi6qtHc3BwdHT137ly0c8mSJdXV1R0dHXp6ekVFRatWrRrmJWJiYpycnKZOnYo2g4KCZs2aFRsbu2XLFgCAg4ODWq0uKSmZPn16v6eP38CvlrUJb/6ftDYDbep7btL3/HBIz4yB6CXEu2KO80xva1inD4G80liZ6r071yVyFvvBo/pb2XxeVQsAoLNLfvlO5eU7lWwbY+5Y+wC9maAP9BqsrKwkEklTU9PUqVMvXry4f//+VatWyeVyNze3DRs2REVFDTROTU2Nubm59kYAOnJVVRXaNDPr/waFzWYrFIri4uJJkyahPVwul8vlAgCUSuU//vGPfs9iMBjDyagfHAwGY2pq2tLSot3Z0tKC3ifR6fRt27Zp+gkEwqeffgoAUKvVjY2Nmgf0hoaGoKCgvoNv2bJl7dq1AAD0Xw3BwcFmZmYPHjxAm6ampgCAurq6gSY5TgO/opXXdH39U3dd7j6yVT9/hWEChXghkNcYAh431c1yqptlXbM4NZufnlfT2SUHAJQ8aS550kwl60yfxOR4sSwZtLGe6QtktrOZVPl8yuEmMEa7UlJbW6vd5PP5RCIRXf1Gn/IlEsm9e/diY2Ojo6PpdLpmj6AXFhYW9fX1CIJoFu0FAgHQurEYqKozLCxs+/bt30j2H7gAAAp8SURBVH777alTp3q9de3aNZlM1u9ZCIK0t7f37SeTyUTiM9SP2NjYaJcLqlSq0tLSiIiIQU7BYrF4PF4zsV7rHBqcnJwAAE1NTZWVle7u7traAHg8nkbr/h8ul8sBAATCgMIS4zTwY3BktbwTjNpdFwHgUkbF6RQoxAuBvP6YG1OXzWIvnemQzWtIzeYXVgoBAGKJ4lrW42tZj+2Zhhwvlq+L+WvptDlv0jiSHUtNTa2oqLCzswMASCSSo0eP+vr64nC4zz777PLlyzk5OWQymcPh+Pj4JCQklJaWDjTO1KlTxWJxYmKiJmrGxcVRKBR3d/fBJ8Bms6Oiog4ePMjlcrVXFHg8Hrqh3i+1tbUsFqtv/65du7Zv3z74FbVZvnz5pk2bnjx5YmNjAwC4du1aS0sLmqYwCGZmZkJht3OVrq7uQPKIAIDq6mo/P78vvvhCk5GQmZlZU1OjWdhvamoCAFhYDPhfYpwGfryelfGM/eLSv4wCdo04S1YiU/6alP+wpB5tzva1jZwFhXghkNccPA7r42zu42ze1NqVmsO/nVvTJpIBAMprWstrWk9eLfZ3s+B4ssbUB+iVp29WPwBg2rRpqCIehULhcrlbt24lkUiHDx/m8/nHjx8HAAQEBOzevXvBggWRkZEikeivv/7S0dGZN2/eQFcJCQkJCQlZtWpVcXGxo6NjcnJyXFxcTEzMQMmA2sTExFRVVUVHR//xxx9cLpfBYOTn58fHx4eHh6N5dn1hMBg3b97s2/+s1QHvvPPO/v3758+fv2PHjo6Ojh07dgQFBQ2ZuOfj45Obmzuc8SdPnhwZGfndd9/V1tZyOJwnT5785z//CQgIWLFiBXoAWtTg5uY20AjjNPADAMhMDpnJGfHpAqHop/iHdf9fiHfNfDd/13F0RwyBQF40DEPK0pmOi7gOeWWNt7Kr88uFCIJI5cqbD6tvPqy2MtPjerGmullCAY8R0DerHwAQGxuLBv5ly5a5urrGxsby+XwPD4+bN29OmzYNABAaGnr06NEffvghOjqaTCZ7eXklJydrtuH75fz58zt37oyPj6+pqXFycvr999+HmQGnp6d3/vz5w4cPnz9/Pi4ujkwmT5ky5dixY+Hh4ceOHetXJZBIJKJ5AKNET08vPT198+bNW7ZsIZPJERER33///ZBnhYaGbty4US6XD7JEr+F///vf999/n5iYmJiYaG1t/eGHH37xxReaZIi0tLRZs2ZpbwT0Yjwr942cB4/qf03Kk8pVAAATQ8o/IidDIV4I5A2npUOalstPy6lpbn/qA0TA43xczLleLHuWIVwAeC44OTlxudxDhw6N9UReMcRisbW19aFDh8LDw0c5joWFRWJiYkjIgAqSr9utrkqNnE7hXb5TiTbdJ5pELXIfQ2dPCAQyTjDSIy0MnLggwL6oQngrh5/Da1CpEblSlZ5Xk55XY8mgcbxY0yZZ0shvkNcOZPxApVI//vjj2NjYUQb+Y8eOsdnsQaI+eM0Cf2eX/Oe/coofNwMAMAAs5E58K8D+5Zt5QCCQcQsWg3GzZ7jZM9rFsvS82tRsfkOLGABQ2yT689qjhGTeFCcz7mQrR+uxNAKGvJl8/PHH8fHxycnJ2sJ/z4RYLN6zZ09SUtLgh70+S/2PBe0/JTxs6ZACAMhEfPRiD/eJz9N0GQKBvH4gAPCeNN/K5t9/VK9UPd33NTOmcjxZ092ZelS4APBsXL9+ncFgjF4M/82ksrKyrq4OTYkYAXw+v7y8fEidwZcR+Ovq6t5///3MzExnZ+djx471ypB8LoE/NYd/7HIR+r1lmuhujphsagSFeCEQyHARSxQZ+bW3sqtrm0SaThwWM5ltxvFiuYyFETAE8oJ4GYHf09Nz8+bNy5cv/+KLLwoLCzUGSiijDPxKlfr4leJb2d3lGX6uFmvmu72WdboQCORFgwBQUdN6K5ufVVQnV6g0/QwDSqAnM9CDaaA7YKY0BPKq8MID/507dzZs2ICWJ4rF4gcPHqAayxpGE/hbOqQHErMra9sAAFgMZlkIO8TXFt6WQyCQUSKRKe8WCm5l81GdbxQsBuPuYML1ZLnZM6AiCOTV5YUn95WUlDCZzBUrVmRmZrq5uf3000/PbeQnzQdP56DanHpUwsalXmzr3oISEAgEMgLIRPyMyVYzJltV1Xfcyq7OLBBIZEo1guTwGnJ4DQY0YoAHk+PFYhjALUXIq8eovCs6OjoGsQFAEQqFly5dWrx4cV5enoODw/Lly0dzRRQEgGt3H+85fg+N+nZMg6/WTYdRHwKBPHeszfRWhrr++FHQ+29N0nh8tIlkF9Irtv10a+/Jew96ZgVCIOOfUS31f/bZZyQSaefOnWhTKpVu2bLl9OnTxsbGX331VWRkJADg8OHDv/zyy8OHDwEAAoGAyWS2tLQYGBhoBnnWpX6ZQhV3vuBukQBtzpxstWKO88u334ZAIG8gtU2iW9nVGXm1YulTD1xdCmG6O5Pr9WYZAUNeXUa41H/p0qXTp0+fOHFC20jgq6++KikpycnJKSkpWbRokZubm7Ozs5WVlUYcEYvFYrFYHG7kmXdNrV0/JjzkN3QCAPA47Mow10AP5pBnQSAQyHPBkkFbMds5PMjxwaP6Ww/5vOpuI+ArmZVXMivZ1kbLZjnZWuiP9TQhkMEY4YMygiAeHh7aFklqtfrnn3/+5ptvmExmcHBwREREbGwsACA4OFggEFy7dk2tVqNGArq6I1TPLShv2vlrBhr1jfRIX6z2h1EfAoG8fFAj4M9X+e3ZyAmbOkGX0l3rX1LVQiTAkiLIeGeET/yon9KDBw80PY2NjR0dHRrRBi8vr0uXLgEAdHR0kpKSoqKi3nnnHR8fH9Sj6VlBEORCesWZm6XotoSzrfGGJZ6aLxsEAoGMCWbG1Ihg9uIZ3UbACqXagk4b60lBIEPw3LL6m5qacDgchdKd46qvr9/Y2Ii+9vPzG9xtcP369ZrXfff7JTLlL+fysnkNaDN06oSlMx1hLQ0EAhknaIyAYZYf5JVgiMB///79XpF4/fr1U6ZM6XukkZGRSqWSSCRkMhkA0NHR0deteSAGSe6rbRL9GP8QFdMm6uDef2uSj7P5MIeFQCCQlwnMMoa8EgwR+Ol0+vTp03v19HukmZmZnp5efn6+r68vAKCgoMDBwWGUk7tXXHckKV+mUAEATI2o/4icbMmAy2gQCAQCgYycIQK/ra2tra3tcAbC4XCrVq365ptvTp06VV5enpCQkJycPOJp9XLX9XAwWb8QuutCIBAIBDJanqdy3549ezZu3GhnZ2dgYHDgwIHRuDMVVjRpov4izsS3AqG7LgQCgUAgz4Hxa8v7x+XCzAIBdNeFQCAQCOQ58sK1+kfMitnOYVPt6AbksZ4IBAKBQCCvD+M3BxWPw8KoD4FAIBDI82X8Bn4IBAKBQCDPHRj4IRAIBAJ5g4CBHwKBQCCQNwgY+CEQCAQCeYOAgR8CgUAgkDcIGPghEAgEAnmDgIEfAoFAIJA3CBj4IRAIBAJ5g4CBHwKBQCCQNwgY+CEQCAQCeYMYe5MeCAQCgUAgLw34xA+BQCAQyBvE/wP/r9z4T46AtwAAAABJRU5ErkJggg==\"></div>"
      ],
      "text/plain": [
       "Legended[-Graphics-, Placed[LineLegend[{Directive[Opacity[1.], \n",
       " \n",
       ">       RGBColor[0.368417, 0.506779, 0.709798], AbsoluteThickness[2]], \n",
       " \n",
       ">      Directive[Opacity[1.], RGBColor[0.880722, 0.611041, 0.142051], \n",
       " \n",
       ">       AbsoluteThickness[2]], Directive[Opacity[1.], \n",
       " \n",
       ">       RGBColor[0.560181, 0.691569, 0.194885], AbsoluteThickness[2]], \n",
       " \n",
       ">      Directive[Opacity[1.], RGBColor[0.922526, 0.385626, 0.209179], \n",
       " \n",
       ">       AbsoluteThickness[2]], Directive[Opacity[1.], \n",
       " \n",
       ">       RGBColor[0.528488, 0.470624, 0.701351], AbsoluteThickness[2]], \n",
       " \n",
       ">      Directive[Opacity[1.], RGBColor[0.772079, 0.431554, 0.102387], \n",
       " \n",
       ">       AbsoluteThickness[2]], Directive[Opacity[1.], \n",
       " \n",
       ">       RGBColor[0.363898, 0.618501, 0.782349], AbsoluteThickness[2]]}, \n",
       " \n",
       ">     {EpsilonG = 10, EpsilonG = 2, EpsilonG = 1, EpsilonG = 0.5, EpsilonG = 0.1, \n",
       " \n",
       ">      EpsilonG = 10^(-2), EpsilonG = 10^(-5)}, LegendMarkers -> None, LabelStyle -> {}, \n",
       " \n",
       ">     LegendLayout -> Column], After, Identity]]"
      ]
     },
     "execution_count": 168,
     "metadata": {
      "text/html": [],
      "text/plain": []
     },
     "output_type": "execute_result"
    }
   ],
   "source": [
    "Plot[\n",
    "  {\n",
    "    u + DeltaJ /. Subscript[\\[Epsilon], G] -> 10,\n",
    "    u + DeltaJ /. Subscript[\\[Epsilon], G] -> 2,\n",
    "    u + DeltaJ /. Subscript[\\[Epsilon], G] -> 1,\n",
    "    u + DeltaJ /. Subscript[\\[Epsilon], G] -> 0.5,\n",
    "    u + DeltaJ /. Subscript[\\[Epsilon], G] -> 0.1,\n",
    "    u + DeltaJ /. Subscript[\\[Epsilon], G] -> 10^(-2),\n",
    "    u + DeltaJ /. Subscript[\\[Epsilon], G] -> 10^(-5)\n",
    "  },\n",
    "  {u, 0.0, 100},\n",
    "  AxesLabel -> {\"u\", \"J1\"},\n",
    "  PlotLegends -> {\n",
    "    \"EpsilonG = 10\",\n",
    "    \"EpsilonG = 2\",\n",
    "    \"EpsilonG = 1\",\n",
    "    \"EpsilonG = 0.5\",\n",
    "    \"EpsilonG = 0.1\",\n",
    "    \"EpsilonG = 10^(-2)\",\n",
    "    \"EpsilonG = 10^(-5)\"\n",
    "    },\n",
    "  PlotRange -> All,\n",
    "  ScalingFunctions -> {\"Log\", \"SignedLog\"}\n",
    "]"
   ]
  },
  {
   "cell_type": "markdown",
   "metadata": {},
   "source": [
    "<span style=\"color:red\">**TODO_7:**</span> Где быстрее набирается интеграл потерь момента импульса?\n",
    "\n",
    "Смотри файл binary_catch_integral.ipynb (График первообразной $\\tilde{I}_7(u_i, r)$)"
   ]
  },
  {
   "cell_type": "markdown",
   "metadata": {},
   "source": [
    "# Время слияния\n",
    "\n",
    "Пусть у нас есть \n",
    "$$\n",
    "\\begin{align}\n",
    "\\hat{E}_1 &= \\hat{E}_0 + \\Delta \\hat{E}\n",
    "\\\\\n",
    "\\hat{J}_1 &= \\hat{J}_0 + \\Delta \\hat{J}\n",
    "\\end{align}\n",
    "$$\n",
    "нужно получить время слияния $\\tau$ и параметры орбиты.\n",
    "\n",
    "$a = b/\\sqrt{1-e^2}$,\n",
    "\n",
    "$J = \\mu\\sqrt{GMa(1-e^2)} = \\mu\\sqrt{GMb}\\sqrt{\\frac{b}{a}}$\n",
    "\n",
    "Момент системы после одного полного оборота вдоль ньютоновской гиперболической орбиты с учетом излучения гравволн\n",
    "$$\n",
    "  \\hat{J}_1 = \\hat{J}_0 + \\Delta \\hat{J} = u - 4 \\epsilon_G \\left(2 u^2+\\frac{15}{u^2}+\\frac{\\left(7 u^4+15\\right) \\left(2 \\tan ^{-1}\\left(\\frac{1}{u^2}\\right)+\\pi \\right)}{2 u^4}\\right) \\approx \\sqrt{\\frac{b}{a}} = \\hat{a}^{-1/2}\n",
    "$$\n",
    "\n",
    "Отсюда характерная длина большой полуоси эллиптической орбиты в случае выполнения условия захвата после одного полного оборота будет\n",
    "$$\n",
    "a \\approx b\\hat{J}_1^{-2}\n",
    "$$\n",
    "\n",
    "А время, за которое расстояние между объектов уменьшится до нуля будет\n",
    "$$\n",
    "\\tau \\approx \\frac{5}{8}\\frac{c^5}{G^3}\\frac{b^4}{\\mu M^2} \\frac{1}{\\hat{J}_1^8}\n",
    "$$"
   ]
  },
  {
   "cell_type": "markdown",
   "metadata": {},
   "source": [
    "<span style=\"color:red\">**TODO_8:**</span> Переделать расчет $\\tau$"
   ]
  },
  {
   "cell_type": "code",
   "execution_count": 169,
   "metadata": {
    "vscode": {
     "languageId": "wolfram"
    }
   },
   "outputs": [],
   "source": [
    "(*J1Smallu = - 60 Pi eG / u^4;\n",
    "eG = 2/5*\\[Mu]/M*(G M / (b c^2))^(5/2);\n",
    "u = v/Sqrt[(G*M)/b];\n",
    "N[5/8*c^5/G^3*b^4/(\\[Mu]*M^2*J1Smallu)^(8)]*)"
   ]
  }
 ],
 "metadata": {
  "kernelspec": {
   "display_name": "Wolfram Language 14.1",
   "language": "Wolfram Language",
   "name": "wolframlanguage14.1"
  },
  "language_info": {
   "codemirror_mode": "mathematica",
   "file_extension": ".m",
   "mimetype": "application/vnd.wolfram.m",
   "name": "Wolfram Language",
   "pygments_lexer": "mathematica",
   "version": "12.0"
  }
 },
 "nbformat": 4,
 "nbformat_minor": 2
}
