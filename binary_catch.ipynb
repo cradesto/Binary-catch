{
 "cells": [
  {
   "cell_type": "markdown",
   "metadata": {},
   "source": [
    "# Binary catch\n",
    "\n",
    "**При каких условиях два тела, налетающие друг на друга с бесконечности (в системе центра масс) станут связной системой из-за испускания гравволн?**"
   ]
  },
  {
   "cell_type": "code",
   "execution_count": 530,
   "metadata": {
    "vscode": {
     "languageId": "wolfram"
    }
   },
   "outputs": [
    {
     "name": "stdout",
     "output_type": "stream",
     "text": [
      "  (CleanSlate) Contexts purged: {Global`}\n",
      "  (CleanSlate) Approximate kernel memory recovered: 22 Kb\n"
     ]
    }
   ],
   "source": [
    "(* https://mathematica.stackexchange.com/questions/850/how-do-i-clear-all-user-defined-symbols/861#861 *)\n",
    "<< Utilities`CleanSlate`\n",
    "CleanSlate[];\n",
    "\n",
    "ClearAll[\"Global`*\"]\n",
    "(* ClearSystemCache[] *)\n",
    "(* https://mathematica.stackexchange.com/questions/111605/quit-vs-clearallglobal *)\n",
    "if[Length[Names[\"Global`*\"]] > 0, Remove[\"Global`*\"]];\n",
    "\n",
    "(* PacletInstall[\n",
    "    \"TensorSimplify\",\n",
    "\n",
    "    \"Site\" -> \"http://raw.githubusercontent.com/carlwoll/TensorSimplify/master\"\n",
    "]*)\n",
    "<<TensorSimplify`"
   ]
  },
  {
   "cell_type": "markdown",
   "metadata": {},
   "source": [
    "## Einstein Summation"
   ]
  },
  {
   "cell_type": "code",
   "execution_count": 539,
   "metadata": {
    "vscode": {
     "languageId": "wolfram"
    }
   },
   "outputs": [],
   "source": [
    "ClearAll@EinsteinSummation\n",
    "\n",
    "EinsteinSummation[in_List, arrays_] := Module[\n",
    "  {res =\n",
    "    isum[in -> Cases[Tally @ Flatten @ in, {_, 1}][[All, 1]], arrays]},\n",
    "  res /; res =!= $Failed\n",
    "  ]\n",
    "\n",
    "EinsteinSummation[in_List -> out_, arrays_] := Module[\n",
    "  {res = isum[in -> out, arrays]},\n",
    "  res /; res =!= $Failed\n",
    "  ]\n",
    "\n",
    "isum[in_List -> out_, arrays_List] := Catch@Module[\n",
    "  {indices, contracted, uncontracted, contractions, transpose},\n",
    "  If[Length[in] != Length[arrays],\n",
    "    Message[EinsteinSummation::length, Length[in], Length[arrays]];\n",
    "    Throw[$Failed]];\n",
    "  MapThread[\n",
    "    If[IntegerQ@TensorRank[#1] && Length[#1] != TensorRank[#2],\n",
    "      Message[EinsteinSummation::shape, #1, #2];\n",
    "      Throw[$Failed]] &, {in, arrays}];\n",
    "  indices = Tally[Flatten[in, 1]];\n",
    "  If[DeleteCases[indices, {_, 1 | 2}] =!= {},\n",
    "    Message[EinsteinSummation::repeat,\n",
    "      Cases[indices, {x_, Except[1 | 2]} :> x]];\n",
    "    Throw[$Failed]];\n",
    "  uncontracted = Cases[indices, {x_, 1} :> x];\n",
    "  If[Sort[uncontracted] =!= Sort[out],\n",
    "    Message[EinsteinSummation::output, uncontracted, out];\n",
    "    Throw[$Failed]];\n",
    "  contracted = Cases[indices, {x_, 2} :> x];\n",
    "  contractions = Flatten[Position[Flatten[in, 1], #]] & /@ contracted;\n",
    "  transpose = FindPermutation[uncontracted, out];\n",
    "  Activate@\n",
    "    TensorTranspose[\n",
    "      TensorContract[Inactive[TensorProduct] @@ arrays, contractions],\n",
    "    transpose]]\n",
    "\n",
    "EinsteinSummation::length =\n",
    "  \"Number of index specifications (`1`) does not match the number of \\\n",
    "tensors (`2`)\";\n",
    "EinsteinSummation::shape =\n",
    "  \"Index specification `1` does not match the tensor rank of `2`\";\n",
    "EinsteinSummation::repeat =\n",
    "  \"Index specifications `1` are repeated more than twice\";\n",
    "EinsteinSummation::output =\n",
    "  \"The uncontracted indices don't match the desired output\";"
   ]
  },
  {
   "cell_type": "markdown",
   "metadata": {},
   "source": [
    "## Система движения в декартовых координатах\n",
    "$$\n",
    "\\frac{d^2r_k}{dt^2} = -\\frac{G(m_A+m_B)}{r^3}r_k - \\frac{2}{5}f_{ki}^{(5)}r_i\n",
    "$$\n",
    "\n",
    "Ч.Мизнер, К.Торн, Дж.Уилер Гравтация, Т.3 (36.8)"
   ]
  },
  {
   "cell_type": "markdown",
   "metadata": {},
   "source": [
    "### Безразмерные единицы длины\n",
    "$$\n",
    "\\begin{align}\n",
    "r &= b\\hat{r} \\\\\n",
    "t &= t_0\\hat{t} \\\\\n",
    "f_{ij} &= b^2\\frac{G}{c^5}m_{AB}\\hat{f}_{ij} \\\\\n",
    "f_{ij}^{(5)} &= \\frac{b^2}{t_0^5}\\frac{G}{c^5}m_{AB}\\hat{f}_{ij}^{(5)}\n",
    "\\end{align}\n",
    "$$"
   ]
  },
  {
   "cell_type": "markdown",
   "metadata": {},
   "source": [
    "$$\n",
    "\\frac{d^2\\hat{r}_k}{d\\hat{t}^2} = -\\frac{t_0^2}{b^3}\\frac{G(m_A+m_B)}{\\hat{r}^3}\\hat{r}_k - \\frac{2}{5}\\frac{b^2}{t_0^3}\\frac{G}{c^5}m_{AB}\\hat{f}_{ki}^{(5)}\\hat{r}_i\n",
    "$$"
   ]
  },
  {
   "cell_type": "markdown",
   "metadata": {},
   "source": [
    "$$\n",
    "M=m_A+m_B \\quad\n",
    "= m_{AB} = \\frac{m_A m_B}{M}\n",
    "$$"
   ]
  },
  {
   "cell_type": "markdown",
   "metadata": {},
   "source": [
    "Пусть $t_0 = \\sqrt{\\frac{b^3}{GM}}$, тогда система перепишится как\n",
    "\n",
    "$$\n",
    "\\frac{d^2\\hat{r}_k}{d\\hat{t}^2} + \\frac{\\hat{r}_k}{\\hat{r}^3} = - \\epsilon_G\\hat{f}_{ki}^{(5)}\\hat{r}_i \\quad,\n",
    "$$\n",
    "\n",
    "где $ \\epsilon_G = \\frac{2}{5} \\frac{m_A m_B}{M^2} \\left( \\frac{GM}{b c^2} \\right)^{\\frac{5}{2}} $"
   ]
  },
  {
   "cell_type": "markdown",
   "metadata": {
    "vscode": {
     "languageId": "wolfram"
    }
   },
   "source": [
    "В задача двух тел без учёта гравитационного излучения в системе центра масс в полярных координатах радиус-вектор $\\hat{r}_k$ задаётся как:\n",
    "$$\n",
    "\\hat{r}_k = \\hat{r} e_{1k} \\quad,\n",
    "$$\n",
    "где:\n",
    "- $\\hat{r}$ — расстояние между телами,\n",
    "- $e_{1k}$ — единичный вектор в направлении $\\hat{r}_k$.\n",
    "\n",
    "Скорость в полярных координатах выражается как:\n",
    "$$\n",
    "\\hat{r}_k^{(1)} = \\hat{r}^{(1)} e_{1k} + \\hat{r} \\phi^{(1)} e_{2k} \\quad,\n",
    "$$\n",
    "где:\n",
    "- $\\hat{r}^{(1)}$ — радиальная скорость\n",
    "- $\\omega \\equiv \\phi^{(1)}$ — угловая скорость\n",
    "- $e_{2k}$ — единичный вектор, перпендикулярный $e_{1k}$.\n",
    "\n",
    "### **Кинетическая энергия**\n",
    "Кинетическая энергия $T$ в полярных координатах выражается через радиальную и тангенциальную составляющие скорости:\n",
    "$$\n",
    "T = \\frac{b^2}{2 t_0^2} (\\hat{r}_k^{(1)})^2 = \\frac{b^2}{2 t_0^2} \\left( (\\hat{r}^{(1)})^2 + \\hat{r}^2 \\omega^2 \\right) = \\frac{G M}{b} \\frac{1}{2}\\left( (\\hat{r}^{(1)})^2 + \\hat{r}^2 \\omega^2 \\right)\n",
    "$$\n",
    "\n",
    "### **Потенциальная энергия**\n",
    "Потенциальная энергия $U$ зависит только от расстояния $\\hat{r}$:\n",
    "- Для гравитационного взаимодействия:\n",
    "  $$\n",
    "  U = -\\frac{G m_A m_B}{b \\hat{r}}.\n",
    "  $$\n",
    "\n",
    "### **Полная энергия**\n",
    "Полная энергия $E$ в полярных координатах:\n",
    "$$\n",
    "E = T + U = \\frac{G M}{b}\\left(\\frac{(\\hat{r}^{(1)})^2}{2} + \\frac{\\hat{r}^2 \\omega^2}{2} - \\frac{1}{\\hat{r}}\\right) = \\frac{G M}{b} \\hat{E}\n",
    "$$\n",
    "\n",
    "### **Момента импульса**\n",
    "Момент импульса $J$ в системе центра масс:\n",
    "$$\n",
    "J = \\frac{b^2}{t_0} \\hat{r}^2 \\omega = (G M)^{1/2} b^{3/2} \\hat{r}^2 \\omega = (G M)^{1/2} b^{3/2} \\hat{J}\n",
    "$$"
   ]
  },
  {
   "cell_type": "code",
   "execution_count": 547,
   "metadata": {
    "vscode": {
     "languageId": "wolfram"
    }
   },
   "outputs": [],
   "source": [
    "$Assumptions = {\n",
    "  {OverHat[r][OverHat[t]], OverHat[t], rh} \\[Element] PositiveReals\n",
    "};"
   ]
  },
  {
   "cell_type": "markdown",
   "metadata": {},
   "source": [
    "$\\hat{r}_k$"
   ]
  },
  {
   "cell_type": "code",
   "execution_count": 549,
   "metadata": {
    "vscode": {
     "languageId": "wolfram"
    }
   },
   "outputs": [
    {
     "data": {
      "text/html": [
       "<div><img alt=\"Output\" src=\"data:image/png;base64,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\"></div>"
      ],
      "text/plain": [
       "      ^   ^ ^\n",
       "Cos[ϕ[t]] r[t]\n",
       "\n",
       "      ^   ^ ^\n",
       "Sin[ϕ[t]] r[t]"
      ]
     },
     "execution_count": 549,
     "metadata": {
      "text/html": [],
      "text/plain": []
     },
     "output_type": "execute_result"
    }
   ],
   "source": [
    "rh = {OverHat[r][OverHat[t]]*Cos[\\[Phi][OverHat[t]]], OverHat[r][OverHat[t]]*Sin[\\[Phi][OverHat[t]]]};\n",
    "rh // MatrixForm"
   ]
  },
  {
   "cell_type": "markdown",
   "metadata": {},
   "source": [
    "$\\hat{f}_{ki}$"
   ]
  },
  {
   "cell_type": "code",
   "execution_count": 551,
   "metadata": {
    "vscode": {
     "languageId": "wolfram"
    }
   },
   "outputs": [
    {
     "data": {
      "text/html": [
       "<div><img alt=\"Output\" src=\"data:image/png;base64,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\"></div>"
      ],
      "text/plain": [
       "  1  ^         ^  2 ^ ^ 2\n",
       "-(-) r + Cos[ϕ[t]]  r[t]          ^         ^   ^ ^ 2\n",
       "  3                         Cos[ϕ[t]] Sin[ϕ[t]] r[t]\n",
       "\n",
       "                              1  ^         ^  2 ^ ^ 2\n",
       "      ^         ^   ^ ^ 2   -(-) r + Sin[ϕ[t]]  r[t]\n",
       "Cos[ϕ[t]] Sin[ϕ[t]] r[t]      3"
      ]
     },
     "execution_count": 551,
     "metadata": {
      "text/html": [],
      "text/plain": []
     },
     "output_type": "execute_result"
    }
   ],
   "source": [
    "fh = Simplify[Array[rh[[#]]*rh[[#2]] - 1/3*OverHat[r]*KroneckerDelta[#, #2] &, {2, 2}]];\n",
    "fh // MatrixForm"
   ]
  },
  {
   "cell_type": "markdown",
   "metadata": {},
   "source": [
    "$\\hat{f}_{ki}^{(5)}$"
   ]
  },
  {
   "cell_type": "code",
   "execution_count": 555,
   "metadata": {
    "vscode": {
     "languageId": "wolfram"
    }
   },
   "outputs": [
    {
     "data": {
      "text/html": [
       "<div><img alt=\"Output\" src=\"data:image/png;base64,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\"></div>"
      ],
      "text/plain": [
       "^   (5)   ^   (5)\n",
       "f         f\n",
       " x,x       x,y\n",
       "\n",
       "^   (5)   ^   (5)\n",
       "f         f\n",
       " x,y       y,y"
      ]
     },
     "execution_count": 555,
     "metadata": {
      "text/html": [],
      "text/plain": []
     },
     "output_type": "execute_result"
    }
   ],
   "source": [
    "(* fh5 = Array[Superscript[Subscript[OverHat[f], {x, y}[[#1]], {x, y}[[#2]]], \"(5)\"] &, {2, 2}] *)\n",
    "(* Symmetric version *)\n",
    "fh5 = Array[If[#1 <= #2,\n",
    "                    Superscript[Subscript[OverHat[f], {x, y}[[#1]], {x, y}[[#2]]], \"(5)\"],\n",
    "                    Superscript[Subscript[OverHat[f], {x, y}[[#2]], {x, y}[[#1]]], \"(5)\"]] &, {2, 2}];\n",
    "fh5 // MatrixForm"
   ]
  },
  {
   "cell_type": "markdown",
   "metadata": {},
   "source": [
    "$\\hat{f}_{ki}^{(5)}\\hat{r}_i$"
   ]
  },
  {
   "cell_type": "code",
   "execution_count": 557,
   "metadata": {
    "vscode": {
     "languageId": "wolfram"
    }
   },
   "outputs": [
    {
     "data": {
      "text/html": [
       "<div><img alt=\"Output\" src=\"data:image/png;base64,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\"></div>"
      ],
      "text/plain": [
       "      ^   ^   (5) ^ ^          ^   ^   (5) ^ ^\n",
       "Cos[ϕ[t]] f       r[t] + Sin[ϕ[t]] f       r[t]\n",
       "           x,x                      x,y\n",
       "\n",
       "      ^   ^   (5) ^ ^          ^   ^   (5) ^ ^\n",
       "Cos[ϕ[t]] f       r[t] + Sin[ϕ[t]] f       r[t]\n",
       "           x,y                      y,y"
      ]
     },
     "execution_count": 557,
     "metadata": {
      "text/html": [],
      "text/plain": []
     },
     "output_type": "execute_result"
    }
   ],
   "source": [
    "fh5rh = EinsteinSummation[{{k, i}, {i}}, {fh5, rh}];\n",
    "fh5rh // MatrixForm"
   ]
  },
  {
   "cell_type": "markdown",
   "metadata": {},
   "source": [
    "## Повернём систему с помощью матрицы вращения $R_{ij}(\\phi)$ на угол $\\phi$ по часовой стрелке"
   ]
  },
  {
   "cell_type": "code",
   "execution_count": 558,
   "metadata": {
    "vscode": {
     "languageId": "wolfram"
    }
   },
   "outputs": [
    {
     "data": {
      "text/html": [
       "<div><img alt=\"Output\" src=\"data:image/png;base64,iVBORw0KGgoAAAANSUhEUgAAAQsAAAA7CAIAAADjOjgcAAAAzHpUWHRSYXcgcHJvZmlsZSB0eXBlIGV4aWYAAHjabU/bDQMhDPtnio4QkuDAONDjpG7Q8RsO2oqqloiN84CE/nyc4TbAkYImyygAObRo4eoi08TkSOWKE22puPtB2hSxupW+CfTlt903TOb8M4h4ChkvuBZdDWuQ8PRjXR9a9Vxz3gcJbShvEf/fVYyREE09KpMZiuscXDohMSXDiTvghREHk96dO8y8DTYqpI7GAe62V/cAceMYK8g4SaqzXNG81Vd1rVdkKdw+2bHOC5FHWuhreUbtAAAACXBIWXMAABYlAAAWJQFJUiTwAAAAPHRFWHRTb2Z0d2FyZQBDcmVhdGVkIHdpdGggdGhlIFdvbGZyYW0gTGFuZ3VhZ2UgOiB3d3cud29sZnJhbS5jb21coqaFAAAAIXRFWHRDcmVhdGlvbiBUaW1lADIwMjU6MDM6MDcgMDQ6NDQ6MjmFF0+GAAAUeklEQVR4Xu3ddbAkRZMA8A/7cDicw93d3e2QwN0hCNzdJXAngMAtsGBxh8Xd3d0Od3e4X1ARdf3NdFf3TM+89/bt6z823vZUZVVnVVZqZQ7z999//2vgGeox8Pzzzx900EG//PLLwQcfvOCCCw71+Ph/BAxTSiE//vijNqONNlp9rL3zzjtPPvnkU0899dFHH80111wLL7zwnHPOOfzww9eHPAAhYuDnn3+++uqrX3nllXfffXeyySaD53nnnXeKKaZIo2iVVVa56aabtEEeDz/8cL/H508//fTHH3+MMcYYpV9aTiFrrLHGNNNMc+yxx5bCSjRAZjvvvPN5553X0Mb6XXnllVNNNVUd4G33Pf7443///ffQfbbZZltppZVKQX3zzTfbbrvtSSedNOGEEzY3/vPPP4877rh46Mw333xLL710KcwONhg0aNCuu+7qAMrCHGaYYbbZZhsrmDjm1llnHQuhF3J6/PHHOzgloB577LG77747wtx+++2rbE27BbXvsMMOuZO5//77H3roofjTbrvtNuKII1afthW84oorHn300fIuljPxfP311wZ+8MEH083Sv7722mszzDBDmMroo4++5JJLbrLJJrPOOquV82asscay7erAb7vvCCOMMMccc/zPP88JJ5xQBc7gwYMxPSdQbuPffvttxRVXDADHGWccW6EKzE61sQsjQ5588sk32mij5Zdffvzxxw+Yd8w5NYvGskZbbLGFdXn66ac7NZ8I54gjjkCcAS2eTz/9tMoQCy200H777VfU8sILLwzQFlhgAV/3+eefV4EZ27z55pt6+be017/SLc4999yJJpror7/+KgWUaLDYYouFRdp0001JurHlnXfeOcEEE6DmOsDr9EUht9xyS0sQDj/8cERVpctqq63WwxSCZUHyeOON98wzz8QZYmsnn3zyqKOOetppp1WZdjfaoBBzawky3j7yyCNfd911pb2effbZNigEWFLDoYceWgp/2DSXufTSS0lZ4bBv77nmmmswRH132WUXdJ9lhSQQmon3RZDJZk888cQbb7yBREtH15jwTYb+7LPPShu33YAEEjZiX3sIJAjDrLACNBynN+yww5JvP/jgA+Ta2Tl//PHHxCdSRmfBBmgvvPCCL+oqqm3syy67rHTyKQr58MMP77vvvrXXXrsUSqLBgQce6NcxxxyTkaS5mXMit+8NN9ww88wzk1bhaLrppvOHaTSI17EjItQMH59ppplo//iSR3sCQ52ZN/clXKEQulNnwXYEmrMwnCOffPJJM0CibMPLZZZZ5r/ynmOOOSZ3PhQVzW0potohhxxCSCZckHDGHnts/zrFOvIVAYgPcar+9z9PB8E2gEIhZEt2o5IhElzmjDPO8P3YdCknKmpgSwX+s8cee1QH4hSMkzaBf//73+G/yOy2225rgHP55ZeHIYYbbjh802pRAGJ3unhi3IpSFkuo+QMewBoIQV5yySXpL+p5KSvMEDYIrqWrluUz2S1i9+d+F4rSbJ999llqqaVC+1FGGSV2nHjiibPycwOEilIWLe7ss89effXVLXSAjEI222wzzCqB6ralLDDpZnvuuWd6HVN6yAYbbLDCCitU39nNLZ977rnwqaX7Kfa94IILQhdmx1dffdX7X3/9lbAX7DAsSF999VV2IBzGe9yDIBHfv/766xtvvLFlc6DWoRD77KijjkKiLDz+IKiQEgnHdr9Bt9pqqwTwnqcQx0eUh6effnqKx/fff180Q+ry//7nE+xLaQoJSwO3xGOQ7d1VV101vDznnHOKxqpCIS+//PLcc89NpmAqtFvwK38wnzjvnJIOqSLgdShku+22s83ap5BJJ52UF6kOhTA+BvRRD6rA+fbbb4M8MOOMMyKMbBdqfQAFcfG9NuRsL3N14oTpJkAo5SFsiOBDQgCFkyy++OKhr51k3IQq2fMUYlYsmFlDqsN49913RwhVkG9TllIICjz11FOz0L788ktmgIZ1aRiulELef/99UyVXUz/0/e6776D9nnvu8TfRGidBPEWrWYdCGKJGGmkkvCuBn0Ie8t577/lsXqQqyC1qYwZhW7/00ktV4Nx7772hvZVubh98C5hG9ic2QS9ZOffdd98qxrts3zSF0MGsE+NV7MIot9dee4X/MrZMPfXUtJ2i7+oVCjGZL774gsrHohUw6cEDIaf0vKhCIczHzd8b9GnepCJUpCmE1kGEY5WO0gGzNcxHBnj++ecntlAdCglKCC92YnMWauoPPPCAzjWNCbhQWCSHRFywxB+Yafg1GoizjcNLZMDKEd/jyHaq5ScFESuJQ3RNBFlluHQbxniyCpIIzUhcEBoRgib9TQ6sP1BnIRBL8DcI53GjTwPujIQcolH9gZwpzUDYRbxkS2wP/l133UVAOPHEE6M5gYmM2Bz9m6wvIHcD1biWL0p7SFMUIlQhexS18f12WOhFbK3SPRJSrsd6kkkmAcSR8/bbb0doU0455YsvvkhgDU5J5wFtcpZZZkEqgi+qmIlzJ4YeGE/tqrgnUJ1NMP/888f2iKTtbVEFG3XaEB4YPJw4kBCQyaRBbqkDs6gv00UdsAz61I/11lsvArFls3j2LXUoMDE3WiV5vk0KsT9ssjpfrq+4oGDPZb2tAipa94gKze2DHZMoDGz2VxikMHCGUNAdRXz22iCVtdZaS7RFlXGb2wDFEBftVxo42Ng3A5WGBzcLh3Rfftg0WcPDDINc0NceYpKzPEtmUJ2lkMA9uoRqkYGGS+CkkIeIeyO91MSmnUpyBYSZxVFRCi3uyNyAmUceeQQETEPoSi6oaaedVlQSKdZ5H7wWDCz2eum4zQ3wEC+DGSA8Db5CGqoTOggAfeQhTOfOhAU8RKMIzegjU81OA6qzeOaFo51nxXusz4p3j0LsEFJ6EWbyKcTxyTPdcFS3h1xaQRBU2EZ9fAMQtl1KZHxpWwfDCF2zQUBC6CH4dNFFF80CueOOO5o/D+sUQRiatefMotJYtqw7qeFgY0c3Q8b79tDS8V5vvfUWrU94YrNgiXUEFPVNXydRHP+35QJO4JmnhZwc/mv7cu+QwWrKckUIxwaQKLN14YrkavFB061pyIqQRT2E4QlRnLKMjxaMFBRFoLPOOis2PuWUU0JjzCe4iiy56Klxxx3XS8pc1n8UgoVpIASJrMeK1Ti4LDwJl0jalsU1xrwThmNXsUJ0yjDPMMnstJvR2MO2rHipwwkCyVQ1U2LSuPjii4MmzZyaNvtWsWWtvPLKuV8K/hJLLNGeLSsEJe29996huz98Qvib+oqqiQYJx04dW5YhwiGY8EbkW3tvvvlm3RJumoR1rPknXotIJGHXZk0iBOXs9yPo6ITSUmB8WDkPfUOEdhb+6aefzp0UfnXkO/gXWWQRLotoBhHzkphqmkIcEzQ55gqEEeyPuD+Oz4uKWg444IA0EnqYQljng9s7PoEbR+SURgH2FoVAY7Cz2ST0T5TGh4Pzc7zw7VBRWGISqK5JIYF75HoXwqD5FGLn6dbZoPQbb7yR3yeGkFBRWPTIQrmBw2IcqcVxge1IzhAMtxlT2MVhhx1GgWm4HkDQSnh5A5xSj6EzgiZnGjGwxSh4S9qCHoD3MIUYESbPPPNMqlEDbSDpKoddmkKCPuk46zgPAZBziVztBMzGyBLyvWxwHDePXpNCnMh2V+LuQz6FELKRb0uMomJjH2x7sX+LCS3t4sx2S4aKXHQfIwsBlomzfI4E2Yo3EEopJMB3POP1TmjAyS2l0+4tCokTs+oBFSFCtuKEu9es1KcehiYnO9TQIeE5SIlVnpoUYgjRSQLMi8bK19SxnujsyzLu+n/jITgJhhBlpwRMeguXOaNzUQhwti9zDYWEiMUMEq8N1Z8wCA4zJEcpBzzY5vv4QyAMqKDvDhETDvgMUoC148lhsewxJJNWaGhFw+VTiIMnGyHbY3PtmwNhZaxwWQt935xnP5hVr1y/QSFOwJYppMqx3Q+WhBGDguSJAS/NH0UfYzzIeg+LPhynZuQIAJtN2/0AXW1/AhU8oMVDmiqCw+y27rrrVhmFUhqgZW/AV+nY3IY4k41jamiQn8mBMso4eO2117Y35JDSixkxrpYYRP74mjOnZQmsjB4J0oJ7njVh9oPuLhodeeSR8UN4frOhCe19ID+b8P7Ql37vgKsit+eOJVqcy4jFLPfXfAoh/UsFIJKnvdkP9BrAwBCEASFL119/PZdr7pwL9ZChRMoaghZyYKpdwgBjRkLKGqCQLqF9AOwQgwHMIKEa5VOIDgM8ZIhZ4YGJ1sNAmzxkCLKj18PPQO+hHQOYQfDct6CHaF0nR9bQjvKB7x/SMJAIHM6XstKS2ZD2+QPzHcBACgN0ChRSxBIGKGRg9wztGGDISmjdhRSSsH8N7Rgd+P7+hYG0XWqAh/Sv1R74mtYx0G95iJhqYb8ymxRZIVrH1UCPoREDaR6SH3USLluGm4Y98Mir4u6eWDSZneSTFR7vSZub5TuNmWdvv/325ZZbrgfmOaQM4TqNrN7ul7o74Q6mO1Uh4feQMv8enufmm2/uPmlRTqB8ChHGJwGe26fdnqtR3Fa/6qqrGviAu6+u0cQkys3TkObV/czwHiWra9PBqXajZlKPlacS6+pSa0OefJdnjj76aAFIvWLE7wY+a9agyu4WaSJciJJiM38L5V6t2nrrrSVfqXLDq04b+Rzi2e/2jDxXyibNPvvsIXWNtXQXNwHfVWHV92QTrFkAqHmIbtRM6pnyVFIMx8w6oozlJlelKeYydF25znq13bcb+KxZgyr7LTae2w1FX5d/C9cnQWvbGKnYUQaTQLU77bRT9p4tccv9OKHpVW7qVhyrpWYVb41mYVavmaRXl66wR54vU6YTMU7vhx9+UP1LmgsZnlrCQ6cadxWf9W/h2mk77rhja7dw3Tu1O2MKow4KMFlQoVIjXoEPZA3SZkwtkYGu7Yj/3AkP6TWT0quAkRKitHGxRyaAbOJjiR2cuG5QFOWYbanWl50UMOlCRayT2vEd0gM1qOKcXcF116PoE/KtveGSeuLybkcwEvIawnhzXTVkE8ushLEkf8itmdRcXSm07381k9I4l583VGuRUyc3FWCuU6ylWl9SNqpCYRVC9SlyONpz9VKdxM56z3qmBlXAJ03Y5FPJE3OZS0gdbVN2is/mwon5ZGUSkR8pPZZ0T0VbJLdjn62Z1CUpi9UbfmRvaahAlMBqS7W+iGoMjGEJmMUksJMsIpbeRTOKfhSNVVHK6vkaVCYchDRZcFvTQ8yVwpdWlOsTD01dAriAdDlQWGBIVkVgEXpDzaR4wTVBIQF4n6qZ1CUKCflRKRsV16XVWl+xKCaOEUvACYm1SRge00Vlq1BIr9SggquQ6pbprzUK0dqpkC0uUxHvrTZzwV9llixzYLkPVQ1KQVmq0DFBIX2wZlKXKER6PqhgGyzFmwat1vrSZf/99w/YltK7YQgEk16vUgrprRpUPkQOPqdzYv6Fud/ZCrtR06RBUpJzCBHLTr3sssuGn6jva665Juk21kAsEq6qvLdjdthhh2xLHrTgSKlY9Kd5FGglnzBPu/4fEjDTjP07zzzz+FeOLxuCt06d1Soz7FQbQg5QDcpbEXAu2lDlWS2emAUzNJbKLNT6avCGsS7GBm514x4ROHGjjpuld/GJd2G8ifkXUoj0UGHhe+ChMwwePJhtRH744Er3N0k3yIh1nn5WMymBimBcqUj2bdT6coQRpewki8JaTRVRpVY2HPpJnQUKpNhbNaiMTrBPZ0IrpBDGCqdgOJlKHxqFFKvcVUVPVMoToBztigWrW8JvqBnFoyEfduk0KjaomWe/F2smJT4wlPvqXq0vwC0u3qhukeoF5LSLLrpIGl8FrtRsqWP27EV82rcI3lZPIDbFQ7C/8nrs/8AmiT6YfKqLHA4nCf1DHmUWhu5Z3CuSU3Oz3q2ZVDTtQCHs5umKSqF7e7W+dJTnW/r9kB5OuBDy4EuhEIqEKMo3VYrnXsSncCwHcZsUAomMxFUKR0EBoTyUECh6smV0sihDhLkYDLWdmNQqMrHSZehgg96tmVT0Ic6UIEwLLSn92Jq1vrhWxLbKEyfnt6zpeDITczZnXOkEsg16EZ/0CIU0YoBf7rQLeYjWaKsihbSEkdiYD5gI2MxekE0oG41E+2D64N6tmVSEaqd7qMIhlicmI4yN8RbZPqPppY1aXxKuNde7o+VbxFCwu71aXzr2Ij5tb/aVtNSdohBfzrJUdMy3RxWxF9Vc9S1TtLQsKuxCIY+/ZaCHhGSs/OI1R+lGd+U4lASKR7Woaa60gGVK1Prrr4+w6yc4bWPmTnEago6ijLbcckviFibMEU4usg8GDRqEz4RybQx64cgXJC8sOpRQhfxbb70Vc/C3SAWxwHEORClBos5aPnV8Izs3Vw+CRafturC9iE+aQSDv1JMwnzOMYNyJAlZVTO+JNqqcZWt22mTZOyFsWenqKlX8Id2oKuaL6tRM6pI/JOCZ5patKxB93naAaBHXBOJytFTry07IFrhiUyZfIK1QodujBAfKKVrrUn9IHXy2HbkYWCJNO72N891tsY+KcthoTUpIdGd72XDDDZViyxKxADtncGnxoTSF9NmaSV2lEMBlqsdAoi4OsTY0t2xuXE/1Wl8gu5KBkzSUuqeCChxWODuxyqUU0is1qMTLcvqV7u0SCqGNCXsshVK/AQeWeF7qR8L/X3+UihBKVzTAaa9mUrcpJH4jTCrSzcRUGqDQUq0v8LnVScVEFDpklRpXXcVn2zyEWMhFUbolSiiEXY/TjahdCqg/Nai4oj5ZVTE1k1r99i7dD2l1Gj3Wvqv4bI9CyIQ0CKaLUiSkNHUMmilJ4Ea/LyTShlocuvRKzaS2Z9v3O/YYPgXOyHMQnEjpp4RCdCaqcpqWwelvv3e8ZpKzamguT9VxfNasQUX7rZioJD+TQ3/b7y1+TzdqJg3N5am6gc8O1qBK744BCmmRegaaD2UY+D+lAcnZX0NXowAAAABJRU5ErkJggg==\"></div>"
      ],
      "text/plain": [
       "Cos[ϕ]    Sin[ϕ]\n",
       "\n",
       "-Sin[ϕ]   Cos[ϕ]"
      ]
     },
     "execution_count": 558,
     "metadata": {
      "text/html": [],
      "text/plain": []
     },
     "output_type": "execute_result"
    }
   ],
   "source": [
    "RotationMatrix[-\\[Phi]] // MatrixForm"
   ]
  },
  {
   "cell_type": "markdown",
   "metadata": {},
   "source": [
    "#### LHS"
   ]
  },
  {
   "cell_type": "code",
   "execution_count": 560,
   "metadata": {
    "vscode": {
     "languageId": "wolfram"
    }
   },
   "outputs": [
    {
     "data": {
      "text/html": [
       "<div><img alt=\"Output\" src=\"data:image/png;base64,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\"></div>"
      ],
      "text/plain": [
       "      ^\n",
       "Cos[ϕ[t]]           ^      ^   ^   ^    ^ ^           ^      ^ 2          ^       ^\n",
       "--------- - 2 Sin[ϕ[t]] ϕ'[t] (r)'[t] + r[t] (-(Cos[ϕ[t]] ϕ'[t] ) - Sin[ϕ[t]] ϕ''[t]) + \n",
       "  ^ ^ 2\n",
       "  r[t]\n",
       " \n",
       "          ^    ^    ^\n",
       ">   Cos[ϕ[t]] (r)''[t]\n",
       "\n",
       "      ^\n",
       "Sin[ϕ[t]]           ^      ^   ^   ^    ^ ^           ^      ^ 2          ^       ^\n",
       "--------- + 2 Cos[ϕ[t]] ϕ'[t] (r)'[t] + r[t] (-(Sin[ϕ[t]] ϕ'[t] ) + Cos[ϕ[t]] ϕ''[t]) + \n",
       "  ^ ^ 2\n",
       "  r[t]\n",
       " \n",
       "          ^    ^    ^\n",
       ">   Sin[ϕ[t]] (r)''[t]"
      ]
     },
     "execution_count": 560,
     "metadata": {
      "text/html": [],
      "text/plain": []
     },
     "output_type": "execute_result"
    }
   ],
   "source": [
    "LHS = D[rh, {OverHat[t], 2}] + Simplify[rh / Norm[rh]^3];\n",
    "LHS // MatrixForm"
   ]
  },
  {
   "cell_type": "code",
   "execution_count": 561,
   "metadata": {
    "vscode": {
     "languageId": "wolfram"
    }
   },
   "outputs": [
    {
     "data": {
      "text/html": [
       "<div><img alt=\"Output\" src=\"data:image/png;base64,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\"></div>"
      ],
      "text/plain": [
       "^ ^ -2   ^ ^     ^ 2    ^    ^\n",
       "r[t]   - r[t] ϕ'[t]  + (r)''[t]\n",
       "\n",
       "     ^   ^   ^    ^ ^      ^\n",
       "2 ϕ'[t] (r)'[t] + r[t] ϕ''[t]"
      ]
     },
     "execution_count": 561,
     "metadata": {
      "text/html": [],
      "text/plain": []
     },
     "output_type": "execute_result"
    }
   ],
   "source": [
    "RotatedLHS = Simplify[RotationMatrix[-\\[Phi][OverHat[t]]] . LHS, Trig -> True] // MatrixForm"
   ]
  },
  {
   "cell_type": "markdown",
   "metadata": {},
   "source": [
    "Так как $\\omega \\equiv \\phi^{(1)}$"
   ]
  },
  {
   "cell_type": "code",
   "execution_count": 563,
   "metadata": {
    "vscode": {
     "languageId": "wolfram"
    }
   },
   "outputs": [
    {
     "data": {
      "text/html": [
       "<div><img alt=\"Output\" src=\"data:image/png;base64,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\"></div>"
      ],
      "text/plain": [
       "^ ^ -2     ^ 2 ^ ^     ^    ^\n",
       "r[t]   - ω[t]  r[t] + (r)''[t]\n",
       "\n",
       "^ ^     ^        ^   ^   ^\n",
       "r[t] ω'[t] + 2 ω[t] (r)'[t]"
      ]
     },
     "execution_count": 563,
     "metadata": {
      "text/html": [],
      "text/plain": []
     },
     "output_type": "execute_result"
    }
   ],
   "source": [
    "OmegaReplace = {\n",
    "    Derivative[1][\\[Phi]][OverHat[t]] :> \\[Omega][OverHat[t]],\n",
    "    Derivative[2][\\[Phi]][OverHat[t]] :> Derivative[1][\\[Omega]][OverHat[t]]\n",
    "};\n",
    "\n",
    "OmegaLHS = RotatedLHS /. OmegaReplace"
   ]
  },
  {
   "cell_type": "markdown",
   "metadata": {},
   "source": [
    "##### Specific Energy $\\hat{E}$"
   ]
  },
  {
   "cell_type": "code",
   "execution_count": 564,
   "metadata": {
    "vscode": {
     "languageId": "wolfram"
    }
   },
   "outputs": [
    {
     "data": {
      "text/html": [
       "<div><img alt=\"Output\" src=\"data:image/png;base64,iVBORw0KGgoAAAANSUhEUgAAAb8AAABDCAIAAACDVpzzAAAAznpUWHRSYXcgcHJvZmlsZSB0eXBlIGV4aWYAAHjabU9bDsMgDPvnFDsCJMGB49CWSrvBjr8E6KZOs0RsnAck9NfzDA8HpRgka0EFokGqVGomSpyYnGIdcWA7l0p3PwhPkZpZ+ZtAX/529xWTqfwMijQF+wumWVbDGsQ0/dTWj1Y9tVLug9aPLtRLpP93YSVkJBWLQlEV1XQJJo2QKWbFiR2wwoSDouzGHarWBvUKbt7ooK736h7AZhy+AvvJ3Ix5RLVWW9W0jMhMtH2yvs4boWJa6tYEooEAAAAJcEhZcwAAFiUAABYlAUlSJPAAAAA8dEVYdFNvZnR3YXJlAENyZWF0ZWQgd2l0aCB0aGUgV29sZnJhbSBMYW5ndWFnZSA6IHd3dy53b2xmcmFtLmNvbVyipoUAAAAhdEVYdENyZWF0aW9uIFRpbWUAMjAyNTowMzowNyAwNDo0NDozMgvep08AABOQSURBVHhe7Z15FFdDG8dbLBURkiJL2bNWeO1rkjVLx5HsobL8kTqhkC1b9lBEltI55A+k5FDJ1mIpO6XIGvKGyJLl/RzjnXPPb5k7996Ze+/vd5/7R6d+zTzzPN+Z+9yZZ5uGf//9d4P8PV9//fWECRPuv//+b775pl+/foMHD84fj0k5+uOPP2bNmnXvvfdOmzaNWViwYEGTJk2SEpX+gkBEBIrwrkWExLo5722unscff3yzzTYLsj9o0KBcceiEmW7dujVt2jQo5ooVK5xQFiKCgCUCBXnXLNGI0ayRtZpNqeHixYs/+eSTlAbLbpjZs2f/8ssv2Y0vIwsCDQryrvmb6dxpz/PPP58jrXratGnjT/JsKS9dulTJOHLkyGw5kdELi0BB3jV/85s77dmwYcPG/3/4uz/Js6XcqFEjLWa2nMjohUWgIO+av/nNnfb0J6pQFgQEAUHAIQKiPR2CKaQEAUGgQAiI9izQZIuogoAg4BAB0Z4OwRRSgoAgUCAERHsWaLJFVEFAEHCIgGhPh2AKKUFAECgQAqI9CzTZIqogIAg4REC0p0MwhVRMBEi1fvfdd3/77beY/WuwG4kS77zzzpIlS2qQ92KxbJgp0Z7FWgoJpZ0xY8a55547YMCAn376KSEp1f22227bfPPNW7duvf3226+xxhrnnHMO+f5OKLsi4lxkEpEPO+ywtddee4cddiCbbquttpo6daorbotMZ+XKlZdccgnr88knn3SCQ/hMxciN99fl559//m/g4aUCBeDQv/3444/+Rk+H8l9//RWU8ZZbblEz/fnnn+vfWQfpMBNpFHLz11xzTcXtQQcd9Ouvv0bqXt64b9++kOrSpcs999xz4403du7cmX9SUishWYfdnYv83nvvrbPOOi1atLj44ovHjx9/+umnN2/enM/GwoULHbJtQ6rO3rU///zzhBNOUItz1VVXnTx5sg0IhjY2M9Ug4Rhuu5911lnmj0b79u3djpg+tS+++CL0w/jQQw+lz5h5RI6Z6667Lq/9Cy+8QH40Ihx77LEcapLw+frrr996662aAmVToI824QOThKyrvj5E5iW/8sorg7ry2muvBczhw4e7YtuSTp29a3369AHGnj17sqjY0Tdr1uyll16yhKJiM5uZypf2ZJtp1iybbLJJEkTy0JeKpaHac8yYMXlgVfOwaNGiDTfckKPAm2++qX5EBSAFWye3mu6oo46C7Pfff5+5+KmJ/MYbbyBy//79Uxa5nt61iy66SB1S1Wpk7rbYYgu+xPPmzXOIavlM5Ut7OhRVSDlE4Oqrr2bX/9FHHwVp3nXXXWuttRa2IVcDsfTbtm275ZZbRiX4/PPPYzC94IILli9fHrVvtfbpiMzoWC148x9++GFXnOeBzu+//z5kyBAm5YknnjDwg/GHzcSyZcuS8Iy9a/311x86dGiQCO64nXfe+bzzzktCuaRv+UyJ9nQIbz2Twk1ULp5DbQXxm266CT1y3XXXRcLRuWlSj56CyCiOjTfemE19HrbbkWA3NLY3QSrDNzaEhENXXIcYghJaloJcVZwp0Z4JJ066u0Fg5syZq622WseOHSN5zHyYJt3IY0EFLXPMMcegPh577DGL5jXTxNIESZgaV9Hw5Ui490wBl2oz1ZCxQ81w0qCOEcDZjcJSAu64446HH354NWHnzJlDbM3uu+9+wAEHmAHBs/Tyyy/rNpypV199dUOX1157Dc87/iJ6Ydq2RPvjjz/ee++9Oe8/88wzcE6vq6666rLLLsMae9999xmKw7Jd5S4pPQr2MkwQFQf1JzJsn3baaWPHjr300kuVEbk+HmIJOD0A6YgRI5gC5qhr167UAse6stNOOwVlJLpo2LBhfDmOO+64arLbzxQUOLuAKi5N8/1gqELlo1OD7rbbbgSQGMA3zVQKmluGyDMChHdgITr0n4f1Z2CV95xFdtJJJ4WK88ADDyiCqFq6fPvtt4YuvCEE8bRs2ZKA+VDKwQaxTZO8tIReKQ552ARVG9eTyJwoTznlFJDBMhhJ5Jw3tjdBctZm0o8++mizRPYzxQ5AfS9LrPPl9LHJEm+rpn699dZD0Rt4MM+UnNxzviC9s2cfHKesVDbaUzON09OsPadMmUK040YbbUR4XQxR45kmeSfZcdgM50Nk0gGOPPJIYGFLbsNDbbWxNEHefPPN5AsQvReqPS1nSmdthWrP4Iiob4P2DJ0pyTWqjwNTGlJw/nI7DOHi6BHCttkF4HTm3mn1EO5qORCaN9iSDQgvDyqbbSy7BksihmbORf7hhx+wUUycOLFVq1ZYKrTI/OXLL79MznDmFHQ+hebku+++wzxNGGYwVo8DOwcdwuBcMZzNTNXWl024rYYAryXLtOL/vv322wbczHvPSZMmbbvtttwRvcEGG6yyyiqsddqzawg+5AhVo2/ee+63334VXx7sqjYTzYW6sIH+pTEO1gsvvJDDoCaIKaCaI9u89/QqctDeWiI7KaE2Uue8DbYaJgX7NXxi69x33321mJysMUxH4j/0lICZntBOzi4Mqgbim1SyPidMmFBtUMPe02amZO8Z+eOHMnL+oYvMRFmH3r1760y14H9Onz59l112ic0w/tD333+foE6Mg2o3x/4OTR18SJ+Nxz9vV8VlbVi4wYHYtMIGpz9UJ2H2119/PdzqBjiC9BsViT2vIhs+DEFFE8owHwb1Zcrbwydcfcj5CB1yyCH4DzWHzPWmm27qluEPP/yQ0wZrgEEVZUwHJesTQ2eMQW1mSrRnZGB79Ojx6KOPRu7ms8ODDz7IUUglUJY8e+65J5FAuHHijU86Jgn46lF+7eAv6vcXX3wxHnEnvb766itU57PPPrvddtuNGzcO+xe1mjgq3n333fHo519k5Hr66afxZccTMIVeTAQw4t3GLYaWJyoefcpZwRDREY8r0jHVIuQVUBTY9uoVq/6iwsJ8PKI9faCaKk22fvgf+M4rX0TJQ6gQHsZZs2bF46lp06Yci9SDFoYIGcT6F/UXDvXxiDvphfZ87rnnunfvTnRRr169YAY+0aSYF+PRz7/I8eRKsxfbC2bhqaeeuvPOOwlUYhFSJIE54k+3bDDdahHiPVeU9S96lTKhbgfV1ER7egI2PbIUeUOBUm5DD/nWW29xstP/7NChw+LFi9NjKPWR2BQ/8sgjqPXUR5YBqyIwevRovuj1DZAD7Uk0aY0+6U9tJKBs2ONwdPvtt3M+2mabbVR7rJNY7oOmQ9y7RFzaUKvRNhRVMUfj16hcntjG/uh8HZawesQRR1S0wnuSKCuy/+YacfYJ2nfLueFsSM2S8t8XLFiAUyIr7hOOi2GbZJVQIiXgoK3+88+jO1YDp4QytqpISwpfYahtC7vPPvvsQ/UXchzVcJRBIvqdzaZO2iE0BCPg/PnzK0rKCYtSDsQMheKw6667khREvCcZMqGNg8ygu/GAW3axb0bAE0d12kelf8011yAyUfqhY+VHZD6KymGtgSXDatCgQVoEJh1TY6hENGC5kotl01K10Q4Zmy4Ue0YnEER5xx132LQ3t7GfKd5lVDbUcCJRb9tyaEyiHPBjs/rv3pOEKt5Dw4NbsyJDVMQp8XDV0D9tVCdSl4ADFNRnDGJVDZwSxNBQkcAJVZ3Qx21N0JxWnfzy6quvYvoJ5jtiGaR2keV6Cm2mX+DQlnXTIA8ic8gILjl8zQQ/lPxiCTiR6pHWoSXZnDRLdbIihV9JYxDg64otPCdQnH322WTpBpk544wz+AgHf8F/cvLJJ1dj2D7XaP/99+cN4RtgL3torpE9qfKWBNirN9acCVreMTSKUHfJm8iaMfbdlGVLgp6nvmynmBFz+qP90PYzxTZCLQaOFPb0zblGoXQc2D1z8s0pJhsEgpRENXKg444gjQYRG9hAcbsnx0ftZwl3dZLGk5yfFCgUUOQUUPUxhD5sqRrG6TyiPdPB2dco2BOJ1NHUCb0kcjgYG08MOcEclhYxM5d77bUXDVDH1NHRCpTgymA5JV9yZkS3gCJnhHTSYSmTygMVbjoh5kSTo848uR5JqVfpL9rTE7ApkcVlhzrDCYA6w6VDVYt27doRZ0eCECkWWLiwiFOLSIVqJnxOPfVUtUApaocfn0AoQoWI4MN8XK8RUQUUOeEiyao7acTqfo5PP/20U6dOmNc4gZHahAfJXwFA0Z6Rp3vgwIEk8ETu5qcDHnCK0Jx55pkkJhIGQE763LlzGzduTLg4Sd+kft9www3YRp0MTlTQK6+8cuCBB0JNpTNyisdjliQTNAljiJmku03fvImsecZPqKrn5e1JYVKqiUzcHpdnUKYEDxt+fyrFoEn5ulcr3pocOqmOnBzDjClwdsb3Sh467iOV9sM+lJITpIHj9AhdOvYRS1pOLAMcjvjaU5GBAiLB2hwlWKjwqagRRb4BtY+DqRuRfUPqiX6MmWLxf/DBB9RzYn0SjcRRrFGjqntENxFLnoQXsikgwP4IvXniiSfqjEnWDb+Q/R2qOuOxh7GVHShVLdgBGVRnPOL57FVAkfM5EaFcsfg5s6v1ybHdoDpDSYU2qL2TO7sq4iEGDBhAZdxQ8aSBICAICAKeEKgx7Yl/mWBG7sLFH0KsFodWT7ikQ5aEOU4ZeMnTGa7aKFgzqdfLE3RWJmGJvCZF0LLWXJKx4vXF+KA45KECUDwiwV75F9kgIzdqUJXKMukjOVaRKDifKaI4SUxSU5/01QuNCM1Pg5q+QDEII0oTV/jBBx+sT9aYujl6f/bZZ+mjTXFZMpHU079/fycMcC+YpombPm+XJvL11ezxFyew51zkitNKwhK5FVRIUDcC8SeuatJwWZ9OlkFyIj5mio8lwaF6AXCNYGw+3d9rRKDMkCFD8H+RShybrfKOxG2Rksj9pTgi1P+qQAQuUMzPZNvIS3x7MHYdn6B2U6JDWdA2RKSNIJAQAYrI4fRT20A8h8GcC4I0EhIvSHfH2pNYAV0Iwz4F0Abr2Bco2hBPs023bt3UeiULTelKvjejRo1SBdaIOkqTGRmrmAjMnDlT6c099thj8uTJhGeAA8YHFY7GQ0WbYiITSWrH2rNPnz5A37NnTy6BatOmDRqBYJpIDBkax7tA0dXorugQg0biOeWKSwgSmKkWruGCXFc8CB1BgJwcLiPgyx2EguohHO9YhP369ROIQhFwqT1VrD8OcXWU5qyNTY26dpSKCOVDGrAPVdqTSyYEDUEgKwTY+rAISVHNioEaGtdZtDyega233hpz5+WXX659amyjOKiSyTdixAiDo43MP8ptqQYk/xkuP8HnPnXqVKr/cmeTgSD/RbnSYP41NQ1zXkBXVeqEc5KFiDA3Syf/Kwh4QoCDEa8Yt2hwDZGnIeqHrENNz2125dQIgyD63zwKFlL0BaXPeCjla2isstNITwxlm3vQFEFULV2iFjELpe+8wdChQ+ETLzy2Y+fEhaAgYIPAihUrmjRpwjocPny4TfuCt3F5co8Npb1/iSoYltpTM+O1xGRskUs6EnemrrWiLIUrmkJHEIiKANWzWIS8jxL7YQOd32h5onMo/MNxm7RTJ9v12PeSOxndExHmCaUJVihQvvmeRhGygoAZAbL4qGdIGxwYBH4KXOEI2KhYyzackYkaw9pIe0o9k2eqhycQV93KUvEx7z1JDKB0ENUoyOMmiVV9Gxko+HTu3Lka8fzvPdUHn4dbsC2hlmaCgFsE8PFSU4NFSHUuUvjcEq9Xai73nuyeiHjgT/Qdl5EGr5kDPmrthevySi1UMTRKnOKDUkV5cTGVXMzClbzxiGfe64orriB2BDYGDx6s7jiTRxBIGQHKs+KGxXxEQgrFYZ1Ug01ZhGyGc/hZUFeaHH/88aDPJhH/O/s+8qLQp/jv+DPe3hNLNgWA1YNHniGolK5/UX9ZsmRJLe492Y+rWZfsDofrUEhFQoAAZMq4sQgpl0UydKS+BW/s0muktCcPGYdTpkyxR9bea6RuP7bxuevRc3tyZ7Op4CLDXfzs9qtFWjpEAO8QNjEWIXHZ5RkcDgeqS1IuT+568zx69GhO7tnspWthVHRl7969qfwKs0QRUJfBaxXCWoBEeMwAAS6vJioemxj3rEyfPp0s4QyYqOUh3WtPKsjpVPdaRsYX7wTAUtF6zJgx6sCOywiDPRcJBB8nNdN8CSB06wIB7l7F1kkQCzcbUzEEH2zJIkxava0uUAoRwuGOOvZVzoU6udt8Wii46XBehJQgUIIAF1Lx0plVQ9euXQU3MwLu954pfHIQKYVRPA3hKvTVE3tCtggIEMeic6OLIK8nGWtMe+KPAghKYXuCIwWyJBGHftKpG5YCJzJEYRGgokLoIuRoX1h8LAWvMe1JUWgE49yhAj/lEQQEAUEgKwRqTHviIgQpAjxxtmgFSmpEsJxSVlDKuIKAIFAoBGpMe5IPzj05zBBF7Qiz6NChA/HzXG5BETzyJQo1cyKsICAIZIuAS+2p7+fxJxI1OvFHq/sDVAYnp3higIiir8sCIv6QFMqCgCCQEAFn1ZGT8EFmJ1fIUYvTngi6kutzyQflZiuSJUgyq9aXW+QoHkp9z5YtW9rTl5aCgCAgCJgRcLn3TBNrVCE7UMo4dezY0aA602RJxhIEBIFCIVCr2rNQkyTCCgKCQA4RyIv2xJo58Z+H87gTmLheVRGcNm2aE4JCRBAQBASBIAL/A7Cqv5Mone3zAAAAAElFTkSuQmCC\"></div>"
      ],
      "text/plain": [
       "            ^ 2 ^ ^ 2    ^   ^ 2\n",
       "   1      ω[t]  r[t]    (r)'[t]\n",
       "-(----) + ----------- + --------\n",
       "  ^ ^          2           2\n",
       "  r[t]"
      ]
     },
     "execution_count": 564,
     "metadata": {
      "text/html": [],
      "text/plain": []
     },
     "output_type": "execute_result"
    }
   ],
   "source": [
    "Energy = (D[OverHat[r][OverHat[t]], OverHat[t]])^2/2 + (OverHat[r][OverHat[t]] \\[Omega][OverHat[t]])^2/2 - 1/OverHat[r][OverHat[t]]"
   ]
  },
  {
   "cell_type": "markdown",
   "metadata": {},
   "source": [
    "Отсюда $\\frac{1}{\\hat{r}^{(1)}}\\left(\\frac{d\\hat{E}}{d\\hat{t}} - \\omega \\frac{d\\hat{L}}{d\\hat{t}}\\right)$"
   ]
  },
  {
   "cell_type": "code",
   "execution_count": 565,
   "metadata": {
    "vscode": {
     "languageId": "wolfram"
    }
   },
   "outputs": [
    {
     "data": {
      "text/html": [
       "<div><img alt=\"Output\" src=\"data:image/png;base64,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\"></div>"
      ],
      "text/plain": [
       "                        ^  ^ ^ 2    ^\n",
       "^ ^ -2     ^ 2 ^ ^    ω[t] r[t]  ω'[t]    ^    ^\n",
       "r[t]   + ω[t]  r[t] + ---------------- + (r)''[t]\n",
       "                           ^   ^\n",
       "                          (r)'[t]"
      ]
     },
     "execution_count": 565,
     "metadata": {
      "text/html": [],
      "text/plain": []
     },
     "output_type": "execute_result"
    }
   ],
   "source": [
    "Simplify[(D[Energy, OverHat[t]] - (AngularMomentum/OverHat[r][OverHat[t]]^2)(D[AngularMomentum,OverHat[t]]))/(D[OverHat[r][OverHat[t]], OverHat[t]])]"
   ]
  },
  {
   "cell_type": "markdown",
   "metadata": {},
   "source": [
    "Что совпадает с первой строкой LHS"
   ]
  },
  {
   "cell_type": "markdown",
   "metadata": {},
   "source": [
    "##### Specific Angular momentum $\\hat{J}$"
   ]
  },
  {
   "cell_type": "code",
   "execution_count": 566,
   "metadata": {
    "vscode": {
     "languageId": "wolfram"
    }
   },
   "outputs": [
    {
     "data": {
      "text/html": [
       "<div><img alt=\"Output\" src=\"data:image/png;base64,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\"></div>"
      ],
      "text/plain": [
       "  ^  ^ ^ 2\n",
       "ω[t] r[t]"
      ]
     },
     "execution_count": 566,
     "metadata": {
      "text/html": [],
      "text/plain": []
     },
     "output_type": "execute_result"
    }
   ],
   "source": [
    "AngularMomentum = (OverHat[r][OverHat[t]])^2 \\[Omega][OverHat[t]]"
   ]
  },
  {
   "cell_type": "markdown",
   "metadata": {},
   "source": [
    "Отсюда $\\frac{1}{\\hat{r}}\\frac{d\\hat{J}}{d\\hat{t}}$"
   ]
  },
  {
   "cell_type": "code",
   "execution_count": 567,
   "metadata": {
    "vscode": {
     "languageId": "wolfram"
    }
   },
   "outputs": [
    {
     "data": {
      "text/html": [
       "<div><img alt=\"Output\" src=\"data:image/png;base64,iVBORw0KGgoAAAANSUhEUgAAAUoAAAAhCAIAAAAwD3V/AAAAy3pUWHRSYXcgcHJvZmlsZSB0eXBlIGV4aWYAAHjabU9RDkIhDPvnFB5hbKOD4/AUE2/g8d0eqMHYhLWUbmRpPB/3dAlwpqTFKhpADm3auLuoNDE5UzvrCe1L5d1PvESOQPk+YCz/2H3DZK4/g4inkPjBtehqWIOEp5/7vB8rz73WfZDQhvYW+f9dxRgF2dSrMpmhua7JpRMKUzHccQU8mHFj0qvzgJm3wSIhPRoDPGxPjwRx4xYrSJwi3VnOat7qq7rWs4qAj89rrPMCUNdatz2lUNQAAAAJcEhZcwAAFiUAABYlAUlSJPAAAAA8dEVYdFNvZnR3YXJlAENyZWF0ZWQgd2l0aCB0aGUgV29sZnJhbSBMYW5ndWFnZSA6IHd3dy53b2xmcmFtLmNvbVyipoUAAAAhdEVYdENyZWF0aW9uIFRpbWUAMjAyNTowMzowNyAwNDo0NDozNgyzY1YAAAjESURBVHhe7ZxXqFQ7FIY9x957wY6iYsXeX6x4FRV9sYKIoKL4IogNey8o+mADC3Z9EPUiKhYsV0HFrohee8Hee7/fJRi3Z/bMZCbZmT0zO09z9klW8v/JSlbWWntn/Pz5M1tQAgYCBlKRgcxUBBVgChgIGPifgUC9g3UQMJCyDGRYNs4PHz68devWPHnyTJkypUCBAqnKa5rAtDl9aUKpYZiot7Vy4sQJqdLt2rX79OmTta5tdpQmMANKjTNgfOVkMz7EcAIvXbpUrFixIkWKHDlyZMSIEWz8PXv2/Pbtm7UB2OkoTWDaIVP0kiaUegHTRb0PHTo0bNiwkSNHvn371tQs3rx5s2zZsmXKlDl//ryQOXXqVDR84MCBP378MNVLwuWkCUybPCeQUi8UIRx1HsHMqt7GzQOBZ/r06VWqVLl+/boT3pIlSwoVKnT79m2byyVcXy9evHjy5MmXL190BuN/mDroEtI2UZSqK4KfV84f6u2FeSDXxLt370LXh0EDQWfx3b17N2fOnDj8bty4oSOHtn6GGQHa9+/fr1y5cv/+fU34XjS3T6m6Ivh85fz2nN+6dat169aYynv37q1Xrx6W87Rp0yZOnIj9vHLlyoyMjHBuUva5gwcPyv8OHz6cM9m18smTJw8cONC8efM2bdpEdrpyPz927Jisw00hd+7c3vlpkb9w4cJZs2aNGTMmhWGGQkMbsaF27NjBJL5584YK+D67des2Z86c8uXLe0e4kOzPlROTIvh95cjtNm4raMaMGayJv36Vx48fh9vCJ0yYwKT2798/6h6/Zs0aIY+9gCZPnz6N2iTuChhXjL9+/fpfv36NICTZYYZCe/78eefOnaUO4/jMnj27+BNCrl69Gjelig39Sam6Ivh/5fxhnMdnBTFJTZs2VZnRoUOHKqq3lHbu3Dmv1ZvpZFmfPn06MoRkhxmKrlOnTnCbK1cuoAllxvWwbNmyfPny8bxZs2Yqc6pTx7eUKiqC/1fOH1lr+fPnd9pjnGY4w1Cwy5cvE8HSN9WePXumL8SsBGLvixcvxsRq2LChKck+hOkKbcWKFe3bt+ceNG7cuOrVq1MHB8SQIUMmT54sLGd8jaY40ZRjmVIVRUiOlSN33+3btxcuXLhr1648+fjx4+jRo4sWLSpnpUSJEq9evXLdqiPvwbt27apZs2blypVLly6dI0cOsYboyFkaNWoU7hDQOb25RLmKffjwobT2t23b1qBBgw8fPkQ9hXwLM+rIY63ASS7mfd++fYptVagOFeVPShUVISlWzu/T+/37969fv37w4AG6LZwrL1++lOqNtwyFjGMPRgguWaJf3MmFCYBRQEfOIpw6ZsvZs2dr1Khx/PjxULG9evWaPXu2eN6jR48zZ87kzZtXs/dEwZTDZvMVW6F+kYc2e7qKNEWqVUQ56ySKUkVFSIqVk/WVEk42dJttu3bt2uvXr3/06NHnz5+JEyxfvjzW6RH1SU0j3CKKcMg7n4jnR48ejU94uFbsUP369aO7Fi1ahNbhzrl69WpwGew0ITCd49+9e3fHjh2NINq/fz9y2NDFfEUu3lGdWEqNK0I4Gr2FKU2mDRs2yBF0796dPUzRMFN3kDRu3JguVDznmq41QnpE8ji6XSFgTTCMixcvKgIU1XwI0zn+jRs3lixZMiZErpUx34oXLw4/AwYMUJGmQ7U/KY1bEcLRlUCYLi+Esmdv2bJFuE+TsWDqL1iwoG/fvvLoJgKEd1BiwY2Eq/zOnTvJiM7TMbNA0WroQsPnzZsXta/UpjrZFYHpc1HvVatWeZpDEnXRaFYgZo5XE9+BlMPNok+fPvLPzMxMbpV41zQ7Sr3m48ePF5b5okWLsAWiAkxtqpNdEdzVu1KlSlHn1c8Vdu7c2aFDh3LlyslBnjp1StwLZOHqQbzXzyiijg0/5aRJk0grFGXz5s2cpfJPfuDajSrEWYE38Mnb4wlxMjwXKm1Tm+pkVwR39VaZV506WIA6zSO3JakWR12XLl2c1VBvEm/kExLdyVvwOunSU5hgIUv8H0chmkVIIssTdZ7J0BDh7sGDB3NXVGlon2qvKVVBbaGOQZhWP8YkvuVAKp93HBF+I/WqVq1asot79+7hLmrSpIl8cuHCBX57p94WYDJ+LlAk8JPtLwonORdm+Sc/xo4dq8gzNrnIF8ZhsXTpUsVWNqm2Q6kicO+qGYdpVb0rVqwINbisjeTAubKMW4jnzhD9nj178KIT55P1165dS0icF1Q9micLME2NHBNg0KBBM2fORCApw+vWrcMxoSjcJtVJRKkie67VjMNUnUudQcu2rVq14jeBbg4WqeHEn50vh2l2JDIxSKiUcriUYu2ItUghv2rTpk0i+92jYgGmkZETsiY3AwcS0rDJmRQ+KvDvnwUnZbi+bFKdLJRqzot5mKFx71hfz1IP67FWKlSoICgg45Vk1bp164oIXLiPOsSalMqFkC5atmzJm9skxhGVxWQlQ2PUqFHsIzykU0q4BNsIkV5fwQwdZxxx7969e0ddjuFyBxiAPtX+pFTGvWNVBP24t3EF+X16y5cBo0553BW4LrJc2rZtiwSRcoihzhmCW9vUOwPY4XPnzsWXVq1atVKlSvG6CKc399L58+fzwmPVqlXpmthPfAm2isAtwAwdCZnz4v6sXjTfGLFJtU1KLShCuDkyDtPAh5C5uYnvAagvLJQZ/xZvmBQsWJC3TZzvrmQRwrfZeBObfVQx/1k0x8jk0xHExrB2xGUS7xqfmCVRoU6dOurjdNb0Icz4gJhtpUN1mlCaSJgqiYeR66ibWHH0FatxHkcXik3SBKYiG0aqpQmlCYRp1bVm9twIpAUMBAxEZsCMemNs//2rRPC1qk/GtWvXhDznV9zUm3tUM01gesSeq9g0oTRhMPWtLL7FR4qILKSR6MvkfWwpEE84fjh9mZoS0gSmJksxNU8TShMI04BrzeZmH/QVMBAwoM6AGeNcvb+gZsBAwIA1Bv4DV7+saTaO5ioAAAAASUVORK5CYII=\"></div>"
      ],
      "text/plain": [
       "^ ^     ^        ^   ^   ^\n",
       "r[t] ω'[t] + 2 ω[t] (r)'[t]"
      ]
     },
     "execution_count": 567,
     "metadata": {
      "text/html": [],
      "text/plain": []
     },
     "output_type": "execute_result"
    }
   ],
   "source": [
    "Simplify[D[AngularMomentum, OverHat[t]]/OverHat[r][OverHat[t]]]"
   ]
  },
  {
   "cell_type": "markdown",
   "metadata": {},
   "source": [
    "Что совпадает со второй строкой LHS"
   ]
  },
  {
   "cell_type": "markdown",
   "metadata": {},
   "source": [
    "Таким образом система превращается в\n",
    "\n",
    "$$\n",
    "\\begin{align}\n",
    "\\frac{d\\hat{E}}{d\\hat{t}} &= - \\epsilon_G \\left(\\hat{r}^{(1)} R_{xi}(-\\phi) \\hat{f}_{ij}^{(5)}\\hat{r}_j + \\hat{r}\\omega R_{yi}(-\\phi) \\hat{f}_{ij}^{(5)}\\hat{r}_j \\right)\n",
    "\\\\\n",
    "\\frac{d\\hat{J}}{d\\hat{t}} &= - \\epsilon_G \\hat{r} R_{yi}(-\\phi) \\hat{f}_{ij}^{(5)}\\hat{r}_j\n",
    "\\end{align}\n",
    "$$"
   ]
  },
  {
   "cell_type": "markdown",
   "metadata": {},
   "source": [
    "#### RHS"
   ]
  },
  {
   "cell_type": "code",
   "execution_count": 569,
   "metadata": {
    "vscode": {
     "languageId": "wolfram"
    }
   },
   "outputs": [
    {
     "data": {
      "text/html": [
       "<div><img alt=\"Output\" src=\"data:image/png;base64,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\"></div>"
      ],
      "text/plain": [
       "            ^   ^   (5)         ^   ^   (5)  ^ ^\n",
       "-(ϵ  (Cos[ϕ[t]] f       + Sin[ϕ[t]] f      ) r[t])\n",
       "   G             x,x                 x,y\n",
       "\n",
       "            ^   ^   (5)         ^   ^   (5)  ^ ^\n",
       "-(ϵ  (Cos[ϕ[t]] f       + Sin[ϕ[t]] f      ) r[t])\n",
       "   G             x,y                 y,y"
      ]
     },
     "execution_count": 569,
     "metadata": {
      "text/html": [],
      "text/plain": []
     },
     "output_type": "execute_result"
    }
   ],
   "source": [
    "RHS = Simplify[-Subscript[\\[Epsilon],G] fh5rh];\n",
    "RHS // MatrixForm"
   ]
  },
  {
   "cell_type": "code",
   "execution_count": 571,
   "metadata": {
    "vscode": {
     "languageId": "wolfram"
    }
   },
   "outputs": [
    {
     "data": {
      "text/html": [
       "<div><img alt=\"Output\" src=\"data:image/png;base64,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\"></div>"
      ],
      "text/plain": [
       "\n",
       "\n",
       "            ^  2 ^   (5)           ^   ^   (5)         ^  2 ^   (5)  ^ ^\n",
       "-(ϵ  (Cos[ϕ[t]]  f       + Sin[2 ϕ[t]] f       + Sin[ϕ[t]]  f      ) r[t])\n",
       "   G              x,x                   x,y                  y,y\n",
       "\n",
       "            ^   ^   (5)             ^   ^   (5)           ^   ^   (5)  ^ ^\n",
       "ϵ  (Sin[2 ϕ[t]] f       - 2 Cos[2 ϕ[t]] f       - Sin[2 ϕ[t]] f      ) r[t]\n",
       " G               x,x                     x,y                   y,y\n",
       "---------------------------------------------------------------------------\n",
       "                                     2"
      ]
     },
     "execution_count": 571,
     "metadata": {
      "text/html": [],
      "text/plain": []
     },
     "output_type": "execute_result"
    }
   ],
   "source": [
    "RHS1 = Simplify[RotationMatrix[-\\[Phi][OverHat[t]]] . RHS, Trig -> True];\n",
    "RHS1 // MatrixForm"
   ]
  },
  {
   "cell_type": "code",
   "execution_count": 573,
   "metadata": {
    "vscode": {
     "languageId": "wolfram"
    }
   },
   "outputs": [
    {
     "data": {
      "text/html": [
       "<div><img alt=\"Output\" src=\"data:image/png;base64,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\"></div>"
      ],
      "text/plain": [
       " ^   ^    ^ ^\n",
       "(r)'[t]   r[t]\n",
       "\n",
       "          ^ ^\n",
       "0         r[t]"
      ]
     },
     "execution_count": 573,
     "metadata": {
      "text/html": [],
      "text/plain": []
     },
     "output_type": "execute_result"
    }
   ],
   "source": [
    "Transform = {{D[OverHat[r][OverHat[t]], OverHat[t]], OverHat[r][OverHat[t]]},{0, OverHat[r][OverHat[t]]}};\n",
    "Transform // MatrixForm"
   ]
  },
  {
   "cell_type": "code",
   "execution_count": 575,
   "metadata": {
    "vscode": {
     "languageId": "wolfram"
    }
   },
   "outputs": [
    {
     "data": {
      "text/html": [
       "<div><img alt=\"Output\" src=\"data:image/png;base64,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\"></div>"
      ],
      "text/plain": [
       "    ^ ^            ^   ^   (5)             ^   ^   (5)           ^   ^   (5)  ^ ^\n",
       "(ϵ  r[t] ((Sin[2 ϕ[t]] f       - 2 Cos[2 ϕ[t]] f       - Sin[2 ϕ[t]] f      ) r[t] - \n",
       "  G                     x,x                     x,y                   y,y\n",
       " \n",
       "                 ^  2 ^   (5)           ^   ^   (5)         ^  2 ^   (5)   ^   ^\n",
       ">       2 (Cos[ϕ[t]]  f       + Sin[2 ϕ[t]] f       + Sin[ϕ[t]]  f      ) (r)'[t])) / 2\n",
       "                       x,x                   x,y                  y,y\n",
       "\n",
       "            ^   ^   (5)             ^   ^   (5)           ^   ^   (5)  ^ ^ 2\n",
       "ϵ  (Sin[2 ϕ[t]] f       - 2 Cos[2 ϕ[t]] f       - Sin[2 ϕ[t]] f      ) r[t]\n",
       " G               x,x                     x,y                   y,y\n",
       "----------------------------------------------------------------------------\n",
       "                                     2"
      ]
     },
     "execution_count": 575,
     "metadata": {
      "text/html": [],
      "text/plain": []
     },
     "output_type": "execute_result"
    }
   ],
   "source": [
    "RHS2 = Simplify[Transform . RHS1, Trig -> True];\n",
    "RHS2 // MatrixForm"
   ]
  },
  {
   "cell_type": "markdown",
   "metadata": {},
   "source": [
    "## Способ получения уравнений движения через лагранжев формализм в полярных координатах\n",
    "\n",
    "Здесь мы будем опускать символ крышечки\n",
    "\n",
    "### **Лагранжиан системы**\n",
    "Лагранжиан $L$ в полярных координатах $(r, \\phi)$ выражается как:\n",
    "$$\n",
    "L = T - (U + \\Phi),\n",
    "$$\n",
    "где:\n",
    "- $T$ — кинетическая энергия,\n",
    "- $U$ — потенциальная энергия\n",
    "- $\\Phi = \\frac{1}{5}f_{i,j}^{(5)}r_i r_j$ - малый потенциал \"реакции излучения\"\n",
    "\n",
    "$$\n",
    "L = \\frac{1}{2} \\left( \\dot{r}^2 + r^2 \\omega^2 \\right) + \\frac{1}{r} - \\frac{1}{5}f_{i,j}^{(5)}r_i r_j.\n",
    "$$\n",
    "\n",
    "---\n",
    "\n",
    "### **Уравнения Лагранжа**\n",
    "Уравнения Лагранжа имеют вид:\n",
    "$$\n",
    "\\frac{d}{dt} \\left( \\frac{\\partial L}{\\partial \\dot{q}_i} \\right) - \\frac{\\partial L}{\\partial q_i} = 0,\n",
    "$$\n",
    "где $q_i$ — обобщённые координаты ($r$ и $\\phi$).\n",
    "\n",
    "---\n",
    "\n",
    "#### Уравнение для $r$:\n",
    "Для координаты $r$:\n",
    "$$\n",
    "\\frac{d}{dt} \\left( \\frac{\\partial L}{\\partial \\dot{r}} \\right) - \\frac{\\partial L}{\\partial r} = 0.\n",
    "$$\n",
    "Вычислим производные:\n",
    "$$\n",
    "\\frac{\\partial L}{\\partial \\dot{r}} = \\dot{r}, \\quad \\frac{d}{dt} \\left( \\frac{\\partial L}{\\partial \\dot{r}} \\right) = \\ddot{r},\n",
    "$$\n",
    "$$\n",
    "\\frac{\\partial L}{\\partial r} = r \\omega^2 - \\frac{1}{r^2} + \\frac{\\partial \\Phi}{\\partial r}.\n",
    "$$\n",
    "Подставляем в уравнение Лагранжа:\n",
    "$$\n",
    "\\ddot{r} - r \\omega^2 + \\frac{1}{r^2} = \\frac{\\partial \\Phi}{\\partial r}.\n",
    "$$\n",
    "Это **радиальное уравнение движения**.\n",
    "\n",
    "---\n",
    "\n",
    "#### Уравнение для $\\phi$:\n",
    "Для координаты $\\phi$:\n",
    "$$\n",
    "\\frac{d}{dt} \\left( \\frac{\\partial L}{\\partial \\omega} \\right) - \\frac{\\partial L}{\\partial \\phi} = 0.\n",
    "$$\n",
    "Вычислим производные:\n",
    "$$\n",
    "\\frac{\\partial L}{\\partial \\omega} = r^2 \\omega, \\quad \\frac{d}{dt} \\left( \\frac{\\partial L}{\\partial \\omega} \\right) = \\frac{d}{dt} \\left( r^2 \\omega \\right),\n",
    "$$\n",
    "$$\n",
    "\\frac{\\partial L}{\\partial \\phi} = - \\frac{\\partial \\Phi}{\\partial \\phi}.\n",
    "$$\n",
    "Подставляем в уравнение Лагранжа:\n",
    "$$\n",
    "\\frac{d}{dt} \\left( r^2 \\omega \\right) = \\frac{dJ}{dt} = - \\frac{\\partial \\Phi}{\\partial \\phi}.\n",
    "$$\n",
    "Это **уравнение для $\\phi$**."
   ]
  },
  {
   "cell_type": "markdown",
   "metadata": {},
   "source": [
    "$\\hat{f}_{ij}^{(5)}\\hat{r}_i\\hat{r}_j$"
   ]
  },
  {
   "cell_type": "code",
   "execution_count": 592,
   "metadata": {
    "vscode": {
     "languageId": "wolfram"
    }
   },
   "outputs": [
    {
     "data": {
      "text/html": [
       "<div><img alt=\"Output\" src=\"data:image/png;base64,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\"></div>"
      ],
      "text/plain": [
       "      ^   ^ ^         ^   ^   (5) ^ ^          ^   ^   (5) ^ ^\n",
       "Cos[ϕ[t]] r[t] (Cos[ϕ[t]] f       r[t] + Sin[ϕ[t]] f       r[t]) + \n",
       "                           x,x                      x,y\n",
       " \n",
       "          ^   ^ ^         ^   ^   (5) ^ ^          ^   ^   (5) ^ ^\n",
       ">   Sin[ϕ[t]] r[t] (Cos[ϕ[t]] f       r[t] + Sin[ϕ[t]] f       r[t])\n",
       "                               x,y                      y,y"
      ]
     },
     "execution_count": 592,
     "metadata": {
      "text/html": [],
      "text/plain": []
     },
     "output_type": "execute_result"
    }
   ],
   "source": [
    "fh5rhrh = EinsteinSummation[{{i, j}, {i}, {j}}, {fh5, rh, rh}];\n",
    "fh5rhrh"
   ]
  },
  {
   "cell_type": "code",
   "execution_count": 589,
   "metadata": {
    "vscode": {
     "languageId": "wolfram"
    }
   },
   "outputs": [
    {
     "data": {
      "text/html": [
       "<style>\n",
       "\t\t\t\t\t\t\t\t\t\t\t\t\t.grid-container {\n",
       "\t\t\t\t\t\t\t\t\t\t\t\t\t\tdisplay: inline-grid;\n",
       "\t\t\t\t\t\t\t\t\t\t\t\t\t\tgrid-template-columns: auto;\n",
       "\t\t\t\t\t\t\t\t\t\t\t\t\t}\n",
       "\t\t\t\t\t\t\t\t\t\t\t\t</style>\n",
       "\n",
       "\t\t\t\t\t\t\t\t\t\t\t\t<div><div class=\"grid-container\"><div class=\"grid-item\"><img alt=\"Output\" src=\"data:image/png;base64,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\"></div><div class=\"grid-item\"><img alt=\"Output\" src=\"data:image/png;base64,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\"></div></div></div>"
      ],
      "text/plain": [
       "         ^  2 ^   (5)           ^   ^   (5)         ^  2 ^   (5)  ^ ^\n",
       "2 (Cos[ϕ[t]]  f       + Sin[2 ϕ[t]] f       + Sin[ϕ[t]]  f      ) r[t]\n",
       "               x,x                   x,y                  y,y\n",
       "         ^   ^   (5)             ^   ^   (5)           ^   ^   (5)  ^ ^ 2\n",
       "(Sin[2 ϕ[t]] f       - 2 Cos[2 ϕ[t]] f       - Sin[2 ϕ[t]] f      ) r[t]\n",
       "              x,x                     x,y                   y,y"
      ]
     },
     "execution_count": 589,
     "metadata": {
      "text/html": [],
      "text/plain": []
     },
     "output_type": "execute_result"
    }
   ],
   "source": [
    "Simplify[D[fh5rhrh, OverHat[r][OverHat[t]]], Trig -> True]\n",
    "-Simplify[D[fh5rhrh, \\[Phi][OverHat[t]]], Trig -> True]"
   ]
  },
  {
   "cell_type": "code",
   "execution_count": 584,
   "metadata": {
    "vscode": {
     "languageId": "wolfram"
    }
   },
   "outputs": [
    {
     "data": {
      "text/html": [
       "<div><img alt=\"Output\" src=\"data:image/png;base64,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\"></div>"
      ],
      "text/plain": [
       "\n",
       "\n",
       "            ^  2 ^   (5)           ^   ^   (5)         ^  2 ^   (5)  ^ ^\n",
       "-(ϵ  (Cos[ϕ[t]]  f       + Sin[2 ϕ[t]] f       + Sin[ϕ[t]]  f      ) r[t])\n",
       "   G              x,x                   x,y                  y,y\n",
       "\n",
       "            ^   ^   (5)             ^   ^   (5)           ^   ^   (5)  ^ ^\n",
       "ϵ  (Sin[2 ϕ[t]] f       - 2 Cos[2 ϕ[t]] f       - Sin[2 ϕ[t]] f      ) r[t]\n",
       " G               x,x                     x,y                   y,y\n",
       "---------------------------------------------------------------------------\n",
       "                                     2"
      ]
     },
     "execution_count": 584,
     "metadata": {
      "text/html": [],
      "text/plain": []
     },
     "output_type": "execute_result"
    }
   ],
   "source": [
    "RHS1 // MatrixForm"
   ]
  },
  {
   "cell_type": "code",
   "execution_count": 482,
   "metadata": {
    "vscode": {
     "languageId": "wolfram"
    }
   },
   "outputs": [
    {
     "data": {
      "text/html": [
       "<div><img alt=\"Output\" src=\"data:image/png;base64,iVBORw0KGgoAAAANSUhEUgAAAHoAAAA7CAIAAAA7Pwl6AAAAzXpUWHRSYXcgcHJvZmlsZSB0eXBlIGV4aWYAAHjabU/bDQMhDPtnio4QkuDAOFyPSt2g4zc5UCuqWiI2zoOQxuv5SLcAZ0parKIB5NCmjbuLShOTM7UrXrC+cnn3kxzL726VbwJj+cfuGyZz/RlEPIXEC65FV8MaJDz9vDY5Vj33WvdBQhsafVb/e1cxRkE29ahMZmiua3LphMJUDA/cAS/MOJn07jxg5m2wqJAejQEetlePBHHjjC9InCLdWa5o3hpeF5XmkaXy8cnGd96Y01rvweoy0QAAAAlwSFlzAAAWJQAAFiUBSVIk8AAAADx0RVh0U29mdHdhcmUAQ3JlYXRlZCB3aXRoIHRoZSBXb2xmcmFtIExhbmd1YWdlIDogd3d3LndvbGZyYW0uY29tXKKmhQAAACF0RVh0Q3JlYXRpb24gVGltZQAyMDI1OjAzOjA3IDAyOjQ5OjI4Y6qS9wAACMhJREFUeF7tnFeIFUsQhnfXnBVzVhQDKogRMWDOKyoq5oiKGBBF1AcVEyK+iJgwgOiimBezIiZMGDEHMIuimHPe+3EbhsOc6e7pnnP27nXOPOzDngrdf1dXVfdUTXJGRkZS4sksBFK0ij5//vzp0yctWaYRvHnz5vr161+/fs00jX4UvXz58s+fP3pKrFv99OjRY8qUKTqquP9+586d4cOH16hRIzk5mVnxt1q1ahs2bGCScdetU8AYChcuvH//fh1hRpKa4u3bt7ly5Tp58qRWUFwJtmzZUqBAAWE7OXPmLFSokGNHo0aNiqtqn8IH/vtoiTVwr1mzpkyZMv+tBZ05c0aA26RJk3379uHcmNXdu3dbt24t/u/HrLRABCTYsWNH/vz5xdgUjwbuVq1ajRs3LuBQgrMvWLBg/PjxP378iBT1/v37UqVKAfeYMWOCqwgoAaDz5s27adMme7ifPn2akpJy/PjxgEOJH3u/fv2Au2nTpvFT4V9yz549u3btqqZXZSa7d+8mAjRr1kwfcH1TsISHDx9WkH/79m3z5s0M2o9I8gHIihUr5iJm5K9evVJIuHz58pUrV/yo8E8D3AcPHmTPqVgUq9G/f/+OHTv6X1415c2bN4cOHZojR466det6UhKW58+fX7Jkydy5c9++fVur98uXL1Ayt0WLFkUS//z5k3jD1sb/PHjwwFPOyJEjYWR2R48e1SrySSDWHsQtfXf58uVnzpzpU5mC7NSpU926dSN1q1Onzvr1610uGEZMfvLkyeQeRYsWnTFjBuP2o3T69OlMj/UjR3TRsxLLli2rUqVK9uzZBwwYgCFHCzx06FDbtm2R0KhRo+3bt//+/duPUjVNuXLl5s6dawP3o0ePGMqePXusB0E+w6YWvoiQ65k/3Lp1a9iwYeR2lSpVWrJkiTayO4M5duwYcQXJLI9shL9+/SKDbNiwIWSdOnWCJZry0qVLBABWhSx+9erVuDLr+cKYmpqqdt/SzCQtLY1R+jQ01xCxX6y4du3a2bJl69Onz4ULF6LnQHrXvXt3TL5evXoEdKDxP8/79++XLVuW4dWqVev79+9aRjxG586doW/cuDEZW7QhP3z4cMKECfny5StduvTChQvxv1qZngSsfYkSJWyse/To0VicqVaO+4sXL65QoQKuc+zYsffu3XNJwOT37t3bokULJt+hQwfCpqkKoKlYsSLsOGiZa/aUee3atSFDhuB8qlevznkiep1ev36NKwAvjlFTp059/vy56dhYSwbGCGWMUuvGo/Xu3dtU37x58ziFopJx40Cj2dnRwjDbtGnz+PFjU/mwVK5cGfYiRYpwc2LKjtlixbATJ1atWhXNjuFv3LgRArYd+9JUPssPr8isPB8p3CzytGnTTPVBj1HAiIEUL158zpw5JGQuIZjV2rVruf3A0AYNGnT16lWfWgiJbDjmQ3p69uxZn1yCjGjMzU/BggXJfMh/yIJc7HhtFgAPzqjIoMijjOQ7xNjBrFmzzOAmZDGr5cuX26mE68OHD+RnTkKGt432Kunp6ZzLRUJ25MgRta5z586J/Bo7IGv2PzA2gUhAq1atunLlSq4SXbxcMYoEFJMnQWJh/AuPpqxfvz5XaWZw37hxI2BaIvQ5hkzM7Nu378WLF6PHceLEiS5durB5GSjb0DNmHjhwgDjGkNgxuCMWjzuTyMcTI87DjmRSlOgISfY1ceJE7jpkJm+BO8lJ+/btzeAmmjE3/9tcPSzCo2PIuGzPgwBxbPDgwdggrnnp0qWRNshP/F99uoucIeq2bdtG7IGlXbt2ntGYTJx8nPyP3HzFihXRJm8BtGAhxahZs6YZ3JwRGOu7d++stXoyCkNu0KCBTCyREHPD70cGd7jUWPNrJNzsD1IXNhM5tUwRoLCZPE0+4JRnz56NUzKDW0SVgIpl7Byy1ZK1BNqBaSVoCbQqZASclRSW6n1FRXbBCV5rU3YEbGE1o5ZAq1crQUugVSEjIDvgJ2KJJ4E33Pgyri+sVYaZUcD94sULM7jz5MkTZtSs586ZAF7Zm2updSfgtkNc4GYGN0cscZWceEwRsIGbxUlYtynQgl6YqZl1J+C2wxou7u65iMc9GIRKqBPWbY04Bm5s3QnfbQ03lmpm3RyZRG1Y4rFDgCs5A2eiWB879aHiwrRlp1bvvDsBdxD7UCQaUrizWkVvkPlnJi+XX9wAyxKNhHXHeC2EmRrDnbBuu3UQOYkx3LJUxm4QMeTKmt0LzgSFmVL38f/OTHgzOWLECN5L8YKY4jdeXVIuQu0ROWsM1zK4KLUz8S584N0SU7J+oxFzxqzfveBMmffRrJmsVsA7VFIGJXsfEXz9TSVQUkKFzcePH0X3AiUivER1uhcoDuE9vanM+NEL3ADQW4WnJdJiBLX/AsmYm7NLYNbvXnAGTIkhlRQyQLytW7yozDoGTlkW9bGu8gdeXlNYyzgp0IiftZpKBjSpaSclSZ0Jap48eWKqTEv/F3cviLkDmgJu71BJxTCXtuvWrYuhl/jruxcEVlTRKHoPpSWZvFGmnDUmcIenewG4aIaj4tCsrAfqli1b+unLVKxHCLsXqBDHn5C2GsNNPTk1wXbWHdruBcofgZtKT2O4d+7cyRsG07aJkHcv4EZoN1HYqNR3P3v2jIXSll27RIe8e4FuI77YYAM3PCQ0JO2m/iTM3Qs0+qkRU/XEc3Tu1auXKdyCPoTdC9gZ/sCzndDBUAU3PWR4oiCfewhV98LWrVs596pvPlRwU9xOtDx9+rSdgTtcIeleoKedThE1VpoPbDRv3nzSpEkB4XbY/+LuBfYxdzg0CQaCm74VGi9iBbeQo+0c0BJox6OVoCXQqnAR0M3EGxzyYDWj5tNfdLKSEZ4/f1579+SfQNs5oCXQ6tJK0BJoVbgI+IgBn1kQ7XGKRwM3PQx0GXHkMVUfKnoseteuXeJbNuonGVI1hWj7paFRJyrUv9PRLL7nERTuUKMY68nrP9sYa42hlvcPGWme9xyhHGQAAAAASUVORK5CYII=\"></div>"
      ],
      "text/plain": [
       "     ^   ^ 2   ^ ^   ^    ^              ^      ^ 3             ^      ^      ^\n",
       "20 ((r)'[t]  + r[t] (r)''[t]) (4 Sin[2 ϕ[t]] ϕ'[t]  - 6 Cos[2 ϕ[t]] ϕ'[t] ϕ''[t] - \n",
       " \n",
       "               ^    (3) ^                   ^      ^ 2           ^       ^\n",
       ">      Sin[2 ϕ[t]] ϕ   [t]) - 20 (2 Cos[2 ϕ[t]] ϕ'[t]  + Sin[2 ϕ[t]] ϕ''[t]) \n",
       " \n",
       "         ^   ^   ^    ^    ^ ^   ^ (3) ^\n",
       ">    (3 (r)'[t] (r)''[t] + r[t] (r)   [t]) + \n",
       " \n",
       "       ^ ^   ^   ^             ^      ^ 4              ^      ^ 2     ^\n",
       ">   10 r[t] (r)'[t] (8 Cos[2 ϕ[t]] ϕ'[t]  + 24 Sin[2 ϕ[t]] ϕ'[t]  ϕ''[t] - \n",
       " \n",
       "                 ^       ^ 2             ^      ^   (3) ^            ^    (4) ^\n",
       ">      6 Cos[2 ϕ[t]] ϕ''[t]  - 8 Cos[2 ϕ[t]] ϕ'[t] ϕ   [t] - Sin[2 ϕ[t]] ϕ   [t]) - \n",
       " \n",
       "               ^      ^      ^    ^ 2      ^   ^   ^ (3) ^    ^ ^   ^ (4) ^\n",
       ">   10 Sin[2 ϕ[t]] ϕ'[t] (3 (r)''[t]  + 4 (r)'[t] (r)   [t] + r[t] (r)   [t]) - \n",
       " \n",
       "    ^ ^ 2             ^      ^ 5              ^      ^ 3     ^\n",
       ">   r[t]  (16 Sin[2 ϕ[t]] ϕ'[t]  - 80 Cos[2 ϕ[t]] ϕ'[t]  ϕ''[t] - \n",
       " \n",
       "                  ^      ^ 2  (3) ^               ^       ^   (3) ^\n",
       ">      40 Sin[2 ϕ[t]] ϕ'[t]  ϕ   [t] + 20 Cos[2 ϕ[t]] ϕ''[t] ϕ   [t] + \n",
       " \n",
       "          ^               ^       ^ 2              ^    (4) ^             ^    (5) ^\n",
       ">      ϕ'[t] (-60 Sin[2 ϕ[t]] ϕ''[t]  + 10 Cos[2 ϕ[t]] ϕ   [t]) + Sin[2 ϕ[t]] ϕ   [t]) + \n",
       " \n",
       "            ^  2      ^    ^   ^ (3) ^       ^   ^   ^ (4) ^    ^ ^   ^ (5) ^\n",
       ">   2 Cos[ϕ[t]]  (10 (r)''[t] (r)   [t] + 5 (r)'[t] (r)   [t] + r[t] (r)   [t])\n",
       " \n",
       "                       ^      ^ 3  ^   ^ 2              ^      ^ 2  ^   ^   ^    ^\n",
       ">       5 (-16 Cos[2 ϕ[t]] ϕ'[t]  (r)'[t]  - 24 Sin[2 ϕ[t]] ϕ'[t]  (r)'[t] (r)''[t] + \n",
       " \n",
       "                  ^    ^   ^ 2  (3) ^              ^    ^    ^   ^ (3) ^\n",
       ">       4 Cos[2 ϕ[t]] (r)'[t]  ϕ   [t] + 2 Sin[2 ϕ[t]] (r)''[t] (r)   [t] + \n",
       " \n",
       "           ^               ^    ^   ^ 2     ^              ^    ^    ^ 2\n",
       ">       ϕ'[t] (-24 Sin[2 ϕ[t]] (r)'[t]  ϕ''[t] + 6 Cos[2 ϕ[t]] (r)''[t]  + \n",
       " \n",
       "                     ^    ^   ^   ^ (3) ^\n",
       ">          8 Cos[2 ϕ[t]] (r)'[t] (r)   [t]) + \n",
       " \n",
       "         ^   ^              ^       ^   ^    ^            ^    ^ (4) ^\n",
       ">       (r)'[t] (12 Cos[2 ϕ[t]] ϕ''[t] (r)''[t] + Sin[2 ϕ[t]] (r)   [t])) + \n",
       " \n",
       "     ^ ^ 2             ^      ^ 5              ^      ^ 3     ^\n",
       ">    r[t]  (16 Cos[2 ϕ[t]] ϕ'[t]  + 80 Sin[2 ϕ[t]] ϕ'[t]  ϕ''[t] - \n",
       " \n",
       "                   ^      ^ 2  (3) ^               ^       ^   (3) ^\n",
       ">       40 Cos[2 ϕ[t]] ϕ'[t]  ϕ   [t] - 20 Sin[2 ϕ[t]] ϕ''[t] ϕ   [t] - \n",
       " \n",
       "              ^             ^       ^ 2           ^    (4) ^             ^    (5) ^\n",
       ">       10 ϕ'[t] (6 Cos[2 ϕ[t]] ϕ''[t]  + Sin[2 ϕ[t]] ϕ   [t]) + Cos[2 ϕ[t]] ϕ   [t]) + \n",
       " \n",
       "     ^ ^              ^      ^ 4  ^   ^               ^      ^ 3  ^    ^\n",
       ">    r[t] (80 Sin[2 ϕ[t]] ϕ'[t]  (r)'[t] - 80 Cos[2 ϕ[t]] ϕ'[t]  (r)''[t] + \n",
       " \n",
       "                   ^    ^    ^   (3) ^               ^       ^   ^ (3) ^\n",
       ">       20 Cos[2 ϕ[t]] (r)''[t] ϕ   [t] + 20 Cos[2 ϕ[t]] ϕ''[t] (r)   [t] - \n",
       " \n",
       "              ^ 2            ^    ^   ^      ^            ^    ^ (3) ^\n",
       ">       40 ϕ'[t]  (6 Cos[2 ϕ[t]] (r)'[t] ϕ''[t] + Sin[2 ϕ[t]] (r)   [t]) + \n",
       " \n",
       "         ^   ^               ^       ^ 2              ^    (4) ^\n",
       ">       (r)'[t] (-60 Sin[2 ϕ[t]] ϕ''[t]  + 10 Cos[2 ϕ[t]] ϕ   [t]) - \n",
       " \n",
       "              ^              ^       ^   ^    ^              ^    ^   ^   (3) ^\n",
       ">       10 ϕ'[t] (12 Sin[2 ϕ[t]] ϕ''[t] (r)''[t] + 8 Sin[2 ϕ[t]] (r)'[t] ϕ   [t] - \n",
       " \n",
       "                   ^    ^ (4) ^             ^    ^ (5) ^\n",
       ">          Cos[2 ϕ[t]] (r)   [t]) + Sin[2 ϕ[t]] (r)   [t])\n",
       "\n",
       "               ^      ^ 3  ^   ^ 2              ^      ^ 2  ^   ^   ^    ^\n",
       "5 (-16 Cos[2 ϕ[t]] ϕ'[t]  (r)'[t]  - 24 Sin[2 ϕ[t]] ϕ'[t]  (r)'[t] (r)''[t] + \n",
       " \n",
       "                  ^    ^   ^ 2  (3) ^              ^    ^    ^   ^ (3) ^\n",
       ">       4 Cos[2 ϕ[t]] (r)'[t]  ϕ   [t] + 2 Sin[2 ϕ[t]] (r)''[t] (r)   [t] + \n",
       " \n",
       "           ^               ^    ^   ^ 2     ^              ^    ^    ^ 2\n",
       ">       ϕ'[t] (-24 Sin[2 ϕ[t]] (r)'[t]  ϕ''[t] + 6 Cos[2 ϕ[t]] (r)''[t]  + \n",
       " \n",
       "                     ^    ^   ^   ^ (3) ^\n",
       ">          8 Cos[2 ϕ[t]] (r)'[t] (r)   [t]) + \n",
       " \n",
       "         ^   ^              ^       ^   ^    ^            ^    ^ (4) ^\n",
       ">       (r)'[t] (12 Cos[2 ϕ[t]] ϕ''[t] (r)''[t] + Sin[2 ϕ[t]] (r)   [t])) + \n",
       " \n",
       "     ^ ^ 2             ^      ^ 5              ^      ^ 3     ^\n",
       ">    r[t]  (16 Cos[2 ϕ[t]] ϕ'[t]  + 80 Sin[2 ϕ[t]] ϕ'[t]  ϕ''[t] - \n",
       " \n",
       "                   ^      ^ 2  (3) ^               ^       ^   (3) ^\n",
       ">       40 Cos[2 ϕ[t]] ϕ'[t]  ϕ   [t] - 20 Sin[2 ϕ[t]] ϕ''[t] ϕ   [t] - \n",
       " \n",
       "              ^             ^       ^ 2           ^    (4) ^             ^    (5) ^\n",
       ">       10 ϕ'[t] (6 Cos[2 ϕ[t]] ϕ''[t]  + Sin[2 ϕ[t]] ϕ   [t]) + Cos[2 ϕ[t]] ϕ   [t]) + \n",
       " \n",
       "     ^ ^              ^      ^ 4  ^   ^               ^      ^ 3  ^    ^\n",
       ">    r[t] (80 Sin[2 ϕ[t]] ϕ'[t]  (r)'[t] - 80 Cos[2 ϕ[t]] ϕ'[t]  (r)''[t] + \n",
       " \n",
       "                   ^    ^    ^   (3) ^               ^       ^   ^ (3) ^\n",
       ">       20 Cos[2 ϕ[t]] (r)''[t] ϕ   [t] + 20 Cos[2 ϕ[t]] ϕ''[t] (r)   [t] - \n",
       " \n",
       "              ^ 2            ^    ^   ^      ^            ^    ^ (3) ^\n",
       ">       40 ϕ'[t]  (6 Cos[2 ϕ[t]] (r)'[t] ϕ''[t] + Sin[2 ϕ[t]] (r)   [t]) + \n",
       " \n",
       "         ^   ^               ^       ^ 2              ^    (4) ^\n",
       ">       (r)'[t] (-60 Sin[2 ϕ[t]] ϕ''[t]  + 10 Cos[2 ϕ[t]] ϕ   [t]) - \n",
       " \n",
       "              ^              ^       ^   ^    ^              ^    ^   ^   (3) ^\n",
       ">       10 ϕ'[t] (12 Sin[2 ϕ[t]] ϕ''[t] (r)''[t] + 8 Sin[2 ϕ[t]] (r)'[t] ϕ   [t] - \n",
       " \n",
       "                   ^    ^ (4) ^             ^    ^ (5) ^\n",
       ">          Cos[2 ϕ[t]] (r)   [t]) + Sin[2 ϕ[t]] (r)   [t])         ^   ^ 2\n",
       "                                                             -20 ((r)'[t]  + \n",
       "                                                              \n",
       "                                                                    ^ ^   ^    ^\n",
       "                                                             >      r[t] (r)''[t]) \n",
       "                                                              \n",
       "                                                                             ^\n",
       "                                                             >    (4 Sin[2 ϕ[t]] \n",
       "                                                              \n",
       "                                                                        ^ 3\n",
       "                                                             >       ϕ'[t]  - \n",
       "                                                              \n",
       "                                                                              ^      ^\n",
       "                                                             >      6 Cos[2 ϕ[t]] ϕ'[t] \n",
       "                                                              \n",
       "                                                                         ^\n",
       "                                                             >       ϕ''[t] - \n",
       "                                                              \n",
       "                                                                            ^    (3) ^\n",
       "                                                             >      Sin[2 ϕ[t]] ϕ   [t])\\\n",
       "                                                              \n",
       "                                                                                  ^\n",
       "                                                             >    + 20 (2 Cos[2 ϕ[t]] \n",
       "                                                              \n",
       "                                                                        ^ 2\n",
       "                                                             >       ϕ'[t]  + \n",
       "                                                              \n",
       "                                                                            ^       ^\n",
       "                                                             >      Sin[2 ϕ[t]] ϕ''[t]) \n",
       "                                                              \n",
       "                                                                      ^   ^   ^    ^\n",
       "                                                             >    (3 (r)'[t] (r)''[t] + \n",
       "                                                              \n",
       "                                                                    ^ ^   ^ (3) ^\n",
       "                                                             >      r[t] (r)   [t]) - \n",
       "                                                              \n",
       "                                                                    ^ ^   ^   ^\n",
       "                                                             >   10 r[t] (r)'[t] \n",
       "                                                              \n",
       "                                                                             ^\n",
       "                                                             >    (8 Cos[2 ϕ[t]] \n",
       "                                                              \n",
       "                                                                        ^ 4\n",
       "                                                             >       ϕ'[t]  + \n",
       "                                                              \n",
       "                                                                               ^\n",
       "                                                             >      24 Sin[2 ϕ[t]] \n",
       "                                                              \n",
       "                                                                        ^ 2     ^\n",
       "                                                             >       ϕ'[t]  ϕ''[t] - \n",
       "                                                              \n",
       "                                                                              ^\n",
       "                                                             >      6 Cos[2 ϕ[t]] \n",
       "                                                              \n",
       "                                                                         ^ 2\n",
       "                                                             >       ϕ''[t]  - \n",
       "                                                              \n",
       "                                                                              ^      ^\n",
       "                                                             >      8 Cos[2 ϕ[t]] ϕ'[t] \n",
       "                                                              \n",
       "                                                                      (3) ^\n",
       "                                                             >       ϕ   [t] - \n",
       "                                                              \n",
       "                                                                            ^    (4) ^\n",
       "                                                             >      Sin[2 ϕ[t]] ϕ   [t])\\\n",
       "                                                              \n",
       "                                                                               ^      ^\n",
       "                                                             >    + 10 Sin[2 ϕ[t]] ϕ'[t] \n",
       "                                                              \n",
       "                                                                      ^    ^ 2\n",
       "                                                             >    (3 (r)''[t]  + \n",
       "                                                              \n",
       "                                                                       ^   ^\n",
       "                                                             >      4 (r)'[t] \n",
       "                                                              \n",
       "                                                                      ^ (3) ^\n",
       "                                                             >       (r)   [t] + \n",
       "                                                              \n",
       "                                                                    ^ ^   ^ (4) ^\n",
       "                                                             >      r[t] (r)   [t]) + \n",
       "                                                              \n",
       "                                                                 ^ ^ 2             ^\n",
       "                                                             >   r[t]  (16 Sin[2 ϕ[t]] \n",
       "                                                              \n",
       "                                                                        ^ 5\n",
       "                                                             >       ϕ'[t]  - \n",
       "                                                              \n",
       "                                                                               ^\n",
       "                                                             >      80 Cos[2 ϕ[t]] \n",
       "                                                              \n",
       "                                                                        ^ 3     ^\n",
       "                                                             >       ϕ'[t]  ϕ''[t] - \n",
       "                                                              \n",
       "                                                                               ^\n",
       "                                                             >      40 Sin[2 ϕ[t]] \n",
       "                                                              \n",
       "                                                                        ^ 2  (3) ^\n",
       "                                                             >       ϕ'[t]  ϕ   [t] + \n",
       "                                                              \n",
       "                                                                               ^\n",
       "                                                             >      20 Cos[2 ϕ[t]] \n",
       "                                                              \n",
       "                                                                         ^   (3) ^\n",
       "                                                             >       ϕ''[t] ϕ   [t] + \n",
       "                                                              \n",
       "                                                                       ^\n",
       "                                                             >      ϕ'[t] \n",
       "                                                              \n",
       "                                                                                  ^\n",
       "                                                             >       (-60 Sin[2 ϕ[t]] \n",
       "                                                              \n",
       "                                                                            ^ 2\n",
       "                                                             >          ϕ''[t]  + \n",
       "                                                              \n",
       "                                                                                  ^\n",
       "                                                             >         10 Cos[2 ϕ[t]] \n",
       "                                                              \n",
       "                                                                         (4) ^\n",
       "                                                             >          ϕ   [t]) + \n",
       "                                                              \n",
       "                                                                            ^    (5) ^\n",
       "                                                             >      Sin[2 ϕ[t]] ϕ   [t])\\\n",
       "                                                              \n",
       "                                                                            ^  2\n",
       "                                                             >    + 2 Sin[ϕ[t]]  \n",
       "                                                              \n",
       "                                                                       ^    ^\n",
       "                                                             >    (10 (r)''[t] \n",
       "                                                              \n",
       "                                                                      ^ (3) ^\n",
       "                                                             >       (r)   [t] + \n",
       "                                                              \n",
       "                                                                       ^   ^\n",
       "                                                             >      5 (r)'[t] \n",
       "                                                              \n",
       "                                                                      ^ (4) ^\n",
       "                                                             >       (r)   [t] + \n",
       "                                                              \n",
       "                                                                    ^ ^   ^ (5) ^\n",
       "                                                             >      r[t] (r)   [t])"
      ]
     },
     "execution_count": 482,
     "metadata": {
      "text/html": [],
      "text/plain": []
     },
     "output_type": "execute_result"
    }
   ],
   "source": [
    "Simplify[D[fh, {OverHat[t], 5}], Trig -> True] // MatrixForm"
   ]
  },
  {
   "cell_type": "markdown",
   "metadata": {},
   "source": [
    "# Интегрирование по частям\n",
    "[Integrate By Parts](https://resources.wolframcloud.com/FunctionRepository/resources/IntegrateByParts/)\n",
    "Contributed by: Wolfram|Alpha Math Team"
   ]
  },
  {
   "cell_type": "code",
   "execution_count": null,
   "metadata": {
    "vscode": {
     "languageId": "wolfram"
    }
   },
   "outputs": [],
   "source": [
    "IntegrateByParts // ClearAll;\n",
    "IntegrateByParts[ args___ ] :=\n",
    "    Module[ { res },\n",
    "        update[ ];\n",
    "        res = Symbol[ \"ResourceFunctionHelpers`IntegrateByParts\" ][ args ];\n",
    "        res /; Head @ res =!= Symbol[ \"ResourceFunctionHelpers`IntegrateByParts\" ]\n",
    "    ];"
   ]
  },
  {
   "cell_type": "code",
   "execution_count": null,
   "metadata": {
    "vscode": {
     "languageId": "wolfram"
    }
   },
   "outputs": [],
   "source": [
    "update // ClearAll;\n",
    "update[ ] /; $VersionNumber <= 12 :=\n",
    "    Once[\n",
    "\n",
    "        If[ MemberQ[ PacletSites[ ], $publicPacletSite ],\n",
    "            PacletManager`PacletUpdate[\n",
    "                \"ResourceFunctionHelpers\",\n",
    "                \"Site\"        -> \"http://pacletserver.wolfram.com\",\n",
    "                \"UpdateSites\" -> True\n",
    "            ]\n",
    "        ];\n",
    "\n",
    "        Quiet @ Block[ { $ContextPath }, Get[ \"ResourceFunctionHelpers`\" ] ]\n",
    "    ];"
   ]
  },
  {
   "cell_type": "code",
   "execution_count": null,
   "metadata": {
    "vscode": {
     "languageId": "wolfram"
    }
   },
   "outputs": [],
   "source": [
    "update // ClearAll;\n",
    "update[ ] /; $VersionNumber <= 12 :=\n",
    "    Once[\n",
    "\n",
    "        If[ MemberQ[ PacletSites[ ], $publicPacletSite ],\n",
    "            PacletManager`PacletUpdate[\n",
    "                \"ResourceFunctionHelpers\",\n",
    "                \"Site\"        -> \"http://pacletserver.wolfram.com\",\n",
    "                \"UpdateSites\" -> True\n",
    "            ]\n",
    "        ];\n",
    "\n",
    "        Quiet @ Block[ { $ContextPath }, Get[ \"ResourceFunctionHelpers`\" ] ]\n",
    "    ];"
   ]
  },
  {
   "cell_type": "markdown",
   "metadata": {},
   "source": [
    "$$\n",
    "  I_4(u) = \\int_{r_1}^\\infty \\frac{24r^2u^6 + 48u^6r + 120r^{3/2}u^4 - 96u^6 + 96u^4\\sqrt{r} - u^2r^2 + 133u^2r - 2r^{3/2}}{r^4\\sqrt{u^2r + 2\\sqrt{r} - u^2}} \\, dr,\n",
    "$$\n",
    "где при $r \\ge r_1$ выражение $u^2r + 2\\sqrt{r} - u^2 \\ge 0$.\n",
    "\n",
    "Всюду предполагается $u \\gt 0$."
   ]
  },
  {
   "cell_type": "markdown",
   "metadata": {},
   "source": [
    "## Интегрант $f_4(u, r)$:"
   ]
  },
  {
   "cell_type": "markdown",
   "metadata": {},
   "source": [
    "$$\n",
    "  f_4(u, r) = \\frac{24r^2u^6 + 48u^6r + 120r^{3/2}u^4 - 96u^6 + 96u^4\\sqrt{r} - u^2r^2 + 133u^2r - 2r^{3/2}}{r^4\\sqrt{u^2r + 2\\sqrt{r} - u^2}}\n",
    "$$"
   ]
  },
  {
   "cell_type": "code",
   "execution_count": null,
   "metadata": {
    "vscode": {
     "languageId": "wolfram"
    }
   },
   "outputs": [],
   "source": [
    "integrand4[u_, r_] = (24*r^2*u^6 + 48*u^6*r + 120*r^(3/2)*u^4 - 96*u^6 + 96*u^4*Sqrt[r] - u^2*r^2 + 133*u^2*r - 2*r^(3/2)) /\n",
    "  (r^4*Sqrt[u^2*r + 2*Sqrt[r] - u^2]);"
   ]
  },
  {
   "cell_type": "markdown",
   "metadata": {},
   "source": [
    "Значение интегранта при любом $u$ на бесконечно больших $r$ равно 0:"
   ]
  },
  {
   "cell_type": "code",
   "execution_count": null,
   "metadata": {
    "vscode": {
     "languageId": "wolfram"
    }
   },
   "outputs": [],
   "source": [
    "Limit[integrand4[u, r], r -> Infinity]"
   ]
  },
  {
   "cell_type": "markdown",
   "metadata": {},
   "source": [
    "### Выражение для левой границы $r_1$"
   ]
  },
  {
   "cell_type": "code",
   "execution_count": null,
   "metadata": {
    "vscode": {
     "languageId": "wolfram"
    }
   },
   "outputs": [],
   "source": [
    "eqr1[u_, r_] = u^2*r + 2*Sqrt[r] - u^2;\n",
    "sol = Assuming[{u ∈ Reals, r ∈ Reals, r > 0}, Solve[eqr1[u, r] == 0, r]];\n",
    "r1[u_] = Simplify[r/.sol[[1]]]"
   ]
  },
  {
   "cell_type": "markdown",
   "metadata": {},
   "source": [
    "$r_1$ обращается в 0 при $u \\rightarrow 0$:"
   ]
  },
  {
   "cell_type": "code",
   "execution_count": null,
   "metadata": {
    "vscode": {
     "languageId": "wolfram"
    }
   },
   "outputs": [],
   "source": [
    "Series[r1[u], {u, 0, 5}]\n",
    "Limit[r1[u], u -> 0]"
   ]
  },
  {
   "cell_type": "markdown",
   "metadata": {},
   "source": [
    "И проверим, что знаменатель обращается в 0 при $r = r_1$"
   ]
  },
  {
   "cell_type": "code",
   "execution_count": null,
   "metadata": {
    "vscode": {
     "languageId": "wolfram"
    }
   },
   "outputs": [],
   "source": [
    "PlotR1[u_] := Module[\n",
    "  {points, r1Value},\n",
    "\n",
    "  r1Value = Piecewise[{{0, u == 0}}, r1[u]];\n",
    "  points = {{r1Value, eqr1[u, r1Value]}};\n",
    "\n",
    "  plotLabel = \"u = \" <> ToString[u];\n",
    "\n",
    "  Show[\n",
    "    Plot[\n",
    "      eqr1[u, r],\n",
    "      {r, -1, 10},\n",
    "      AxesLabel -> {\"u\", \"r1\"},\n",
    "      PlotLabel -> plotLabel,\n",
    "      PlotRange -> All\n",
    "    ],\n",
    "    ListPlot[\n",
    "      points,\n",
    "      PlotStyle -> {Red, PointSize[Large]}\n",
    "    ]\n",
    "  ]\n",
    "]\n",
    "\n",
    "plots = {PlotR1[3], PlotR1[0.1], PlotR1[0.0]};\n",
    "GraphicsRow[plots]"
   ]
  },
  {
   "cell_type": "markdown",
   "metadata": {},
   "source": [
    "### Графики функций интегранта $f_4(u_i, r)$:"
   ]
  },
  {
   "cell_type": "code",
   "execution_count": null,
   "metadata": {
    "vscode": {
     "languageId": "wolfram"
    }
   },
   "outputs": [],
   "source": [
    "PlotIntegrand4[u_] := Module[\n",
    "  {r1Value},\n",
    "\n",
    "  r1Value = Piecewise[{{0, u == 0}}, r1[u]];\n",
    "\n",
    "  plotLabel = \"u = \" <> ToString[u];\n",
    "\n",
    "  Plot[\n",
    "    integrand4[u, r],\n",
    "    {r, r1Value, 10^3},\n",
    "    PlotLabel -> plotLabel,\n",
    "    PlotRange -> All,\n",
    "    AxesOrigin -> {0, 0},\n",
    "    AxesLabel -> {\"r\", \"integrand4\"},\n",
    "    ScalingFunctions -> {\"Log\", \"SignedLog\"}\n",
    "  ]\n",
    "]\n",
    "\n",
    "plots = {PlotIntegrand4[0.0], PlotIntegrand4[0.03], PlotIntegrand4[0.3]};\n",
    "GraphicsRow[plots]"
   ]
  },
  {
   "cell_type": "markdown",
   "metadata": {},
   "source": [
    "*Mathematica* очень долго берёт этот интеграл, но выдаёт огромную простыню выражений, которую не может упростить, используя при это коплексную экспоненту."
   ]
  },
  {
   "cell_type": "code",
   "execution_count": null,
   "metadata": {
    "vscode": {
     "languageId": "wolfram"
    }
   },
   "outputs": [],
   "source": [
    "Inactivate[Integrate[integrand4[u, r], {r, r1[u], Infinity}, Assumptions -> {u ∈ Reals, u > 0}]]"
   ]
  },
  {
   "cell_type": "markdown",
   "metadata": {},
   "source": [
    "## Численный график $I_4(u)$ с использованием NIntegrate:"
   ]
  },
  {
   "cell_type": "code",
   "execution_count": null,
   "metadata": {
    "vscode": {
     "languageId": "wolfram"
    }
   },
   "outputs": [],
   "source": [
    "Plot[\n",
    "  NIntegrate[integrand4[u, r], {r, r1[u], Infinity}],\n",
    "  {u, 1, 100},\n",
    "  PlotLabel -> \"NIntegral of integrand4\",\n",
    "  AxesLabel -> {\"u\", \"integrand4\"}\n",
    "]"
   ]
  },
  {
   "cell_type": "markdown",
   "metadata": {
    "vscode": {
     "languageId": "wolfram"
    }
   },
   "source": [
    "## Численный график $I_4(u)$ с использованием Integrate:"
   ]
  },
  {
   "cell_type": "code",
   "execution_count": null,
   "metadata": {
    "vscode": {
     "languageId": "wolfram"
    }
   },
   "outputs": [],
   "source": [
    "(* points = With[\n",
    "  {u := 10^up},\n",
    "  Table[\n",
    "    {u, N[Integrate[integrand4[u, r], {r, r1[u], Infinity}]]},\n",
    "    {up, 0, 2, 0.05}\n",
    "  ]\n",
    "]; *)\n",
    "\n",
    "points = Table[\n",
    "  {u, N[Integrate[integrand4[u, r], {r, r1[u], Infinity}]]},\n",
    "  {u, 1, 100, 1}\n",
    "];\n",
    "\n",
    "ListPlot[\n",
    "  points,\n",
    "  Joined -> True,\n",
    "  PlotRange -> All,\n",
    "  PlotLabel -> \"Integral of integrand4\",\n",
    "  AxesLabel -> {\"u\", \"integral4\"}\n",
    "]"
   ]
  },
  {
   "cell_type": "markdown",
   "metadata": {},
   "source": [
    "## Первообразная $\\tilde{I}_4(u, r)$:"
   ]
  },
  {
   "cell_type": "code",
   "execution_count": null,
   "metadata": {
    "vscode": {
     "languageId": "wolfram"
    }
   },
   "outputs": [],
   "source": [
    "antiderivative4[u_, r_] = Integrate[integrand4[u, r], r]"
   ]
  },
  {
   "cell_type": "markdown",
   "metadata": {
    "vscode": {
     "languageId": "wolfram"
    }
   },
   "source": [
    "Явно определим аргумент комплексного числа:"
   ]
  },
  {
   "cell_type": "code",
   "execution_count": null,
   "metadata": {
    "vscode": {
     "languageId": "wolfram"
    }
   },
   "outputs": [],
   "source": [
    "(* complexLog[z_] := Log[Abs[z]] + I Arg[z]; *)\n",
    "arg[z_] := ArcTan[ComplexExpand[Im[z]]/ComplexExpand[Re[z]]];\n",
    "(* abs[z_] := ComplexExpand[Abs[z]]; *)"
   ]
  },
  {
   "cell_type": "markdown",
   "metadata": {},
   "source": [
    "Применяя его к antiderivative4[u, r], мы получаем действительное выражение, состоящее из двух слагаемых одно без $\\tan^{-1}$, а второе, включающее $\\tan^{-1}$:"
   ]
  },
  {
   "cell_type": "code",
   "execution_count": null,
   "metadata": {
    "vscode": {
     "languageId": "wolfram"
    }
   },
   "outputs": [],
   "source": [
    "antiderivative4s[u_, r_] =\n",
    "  Simplify[\n",
    "    ComplexExpand[\n",
    "      Re[antiderivative4[u, r]]\n",
    "    ] /. Arg -> arg,\n",
    "    {{u, r} ∈ Reals, u > 0, r > r1[u]}\n",
    "  ];\n",
    "\n",
    "antiderivative4s[u_, r_] =\n",
    "  Sqrt[2 Sqrt[r] - u^2 + r u^2] * Simplify[\n",
    "    Expand[\n",
    "      (antiderivative4s[u, r] /. ArcTan[x_] -> 0) /\n",
    "      Sqrt[2 Sqrt[r] - u^2 + r u^2]\n",
    "    ],\n",
    "    {{u, r} ∈ Reals, u > 0, r > 0}\n",
    "  ] -\n",
    "  Cases[antiderivative4s[u, r],\n",
    "    coeff_.*ArcTan[arg_] :> coeff*ArcTan[arg], ∞][[2]] /\n",
    "  (12 * r^3 * u^7)"
   ]
  },
  {
   "cell_type": "markdown",
   "metadata": {},
   "source": [
    "### График первообразной $\\tilde{I}_4(u_i, r)$:"
   ]
  },
  {
   "cell_type": "code",
   "execution_count": null,
   "metadata": {
    "vscode": {
     "languageId": "wolfram"
    }
   },
   "outputs": [],
   "source": [
    "rules = {\n",
    "  eqr1[u, r] -> 0,\n",
    "  ArcTan[x_] -> -Pi/2\n",
    "};\n",
    "\n",
    "PlotAntiderivative[u_] := Module[\n",
    "  {points, antiderivative, r1Value},\n",
    "\n",
    "  r1Value = r1[u]*(1.0+10^-12);\n",
    "  antiderivative =\n",
    "    If[r == r1Value,\n",
    "      antiderivative4s[u, r] /. rules,\n",
    "      antiderivative4s[u, r]\n",
    "    ];\n",
    "\n",
    "  points = {{r1Value, Re[antiderivative /. r -> r1Value]}};\n",
    "\n",
    "  plotLabel = \"u = \" <> ToString[u];\n",
    "\n",
    "  Show[\n",
    "    Plot[\n",
    "      antiderivative,\n",
    "      {r, r1Value, r1Value*2.1},\n",
    "      PlotLabel -> plotLabel,\n",
    "      PlotRange -> All,\n",
    "      AxesLabel -> {\"r\", \"antiderivative4s\"},\n",
    "      ScalingFunctions -> {\"SignedLog\", \"SignedLog\"}\n",
    "    ],\n",
    "    ListPlot[\n",
    "      points,\n",
    "      PlotRange -> All,\n",
    "      PlotStyle -> {Red, PointSize[Large]},\n",
    "      ScalingFunctions -> {\"SignedLog\", \"SignedLog\"}\n",
    "    ]\n",
    "  ]\n",
    "]\n",
    "\n",
    "plots = {PlotAntiderivative[3], PlotAntiderivative[0.1], PlotAntiderivative[5*10.0^-2]};\n",
    "GraphicsRow[plots]"
   ]
  },
  {
   "cell_type": "markdown",
   "metadata": {},
   "source": [
    "## Определённый интеграл, возьмём как разницу первообразных по теореме Ньютона-Лейбница,\n",
    "$$\n",
    "  I_{4,1}(u) = \\int_{r_1}^{\\infty} f_4(u, r) \\, dr = \\tilde{I}_{4}(u, \\infty) - \\tilde{I}_{4}(u, r_1(u)):\n",
    "$$"
   ]
  },
  {
   "cell_type": "markdown",
   "metadata": {},
   "source": [
    "Найдём $\\tilde{I}_{4}(u, \\infty)$:"
   ]
  },
  {
   "cell_type": "code",
   "execution_count": null,
   "metadata": {
    "vscode": {
     "languageId": "wolfram"
    }
   },
   "outputs": [],
   "source": [
    "integral4Inf[u_] = Limit[\n",
    "  antiderivative4s[u, r],\n",
    "  r -> Infinity,\n",
    "  Assumptions -> {u ∈ Reals, u > 0}\n",
    "];\n",
    "\n",
    "integral4Infs[u_] = Simplify[\n",
    "  ComplexExpand[\n",
    "    Re[integral4Inf[u]]\n",
    "  ] /. Arg -> arg,\n",
    "  {{u, r} ∈ Reals, u > 0, r > r1[u]}\n",
    "]"
   ]
  },
  {
   "cell_type": "markdown",
   "metadata": {},
   "source": [
    "Найдём $\\tilde{I}_{4}(r_1(u))$, при этом заметим, что $2\\sqrt{r} - u^2 + r u^2 = 0$, и $\\mathrm{arctan}(-\\infty) = -\\frac{\\pi}{2}$:"
   ]
  },
  {
   "cell_type": "code",
   "execution_count": null,
   "metadata": {
    "vscode": {
     "languageId": "wolfram"
    }
   },
   "outputs": [],
   "source": [
    "integral4r1[u_] = antiderivative4s[u, r] /. rules"
   ]
  },
  {
   "cell_type": "markdown",
   "metadata": {},
   "source": [
    "### Графики функций $\\tilde{I}_{4}(u, r_i)$:"
   ]
  },
  {
   "cell_type": "code",
   "execution_count": null,
   "metadata": {
    "vscode": {
     "languageId": "wolfram"
    }
   },
   "outputs": [],
   "source": [
    "Plot[\n",
    "  {\n",
    "    N[antiderivative4s[u, 1]],\n",
    "    N[antiderivative4s[u, 10^2]],\n",
    "    N[antiderivative4s[u, 10^5]],\n",
    "    N[antiderivative4s[u, 10^10]],\n",
    "    N[integral4Infs[u]]\n",
    "  },\n",
    "  {u, 0, 1000},\n",
    "  AxesLabel -> {\"u\", \"antiderivative4\"},\n",
    "  PlotLegends -> {\n",
    "    \"antiderivative4s[r=1]\",\n",
    "    \"antiderivative4s[r=10^2]\",\n",
    "    \"antiderivative4s[r=10^5]\",\n",
    "    \"antiderivative4s[r=10^10]\",\n",
    "    \"antiderivative4s[r=Infinity]\"\n",
    "  },\n",
    "  ScalingFunctions -> {\"SignedLog\", \"SignedLog\"}\n",
    "]"
   ]
  },
  {
   "cell_type": "code",
   "execution_count": null,
   "metadata": {
    "vscode": {
     "languageId": "wolfram"
    }
   },
   "outputs": [],
   "source": [
    "Plot[\n",
    "  {\n",
    "    N[Re[antiderivative4s[u, r1[u]+10^-2]]],\n",
    "    N[Re[antiderivative4s[u, r1[u]+10^-4]]],\n",
    "    N[Re[antiderivative4s[u, r1[u]+10^-5]]],\n",
    "    N[Re[antiderivative4s[u, r1[u]+1.35*10^-6]]],\n",
    "    N[Re[antiderivative4s[u, r1[u]+10^-7]]],\n",
    "    N[Re[antiderivative4s[u, r1[u]+10^-10]]],\n",
    "    N[Re[antiderivative4s[u, r1[u]+10^-12]]],\n",
    "    N[integral4r1[u]]\n",
    "  },\n",
    "  {u, 0.0, 100},\n",
    "  AxesLabel -> {\"u\", \"antiderivative4\"},\n",
    "  PlotLegends -> {\n",
    "    \"antiderivative4s[r=r1[u]+10^{-2}]\",\n",
    "    \"antiderivative4s[r=r1[u]+10^{-4}]\",\n",
    "    \"antiderivative4s[r=r1[u]+10^{-5}]\",\n",
    "    \"antiderivative4s[r=r1[u]+1.35*10^-6]\",\n",
    "    \"antiderivative4s[r=r1[u]+10^{-7}]\",\n",
    "    \"antiderivative4s[r=r1[u]+10^{-10}]\",\n",
    "    \"antiderivative4s[r=r1[u]+10^{-12}]\",\n",
    "    \"antiderivative4s[r=r1[u]]\"\n",
    "    },\n",
    "  PlotRange -> All,\n",
    "  ScalingFunctions -> {\"Log\", \"SignedLog\"}\n",
    "]"
   ]
  },
  {
   "cell_type": "markdown",
   "metadata": {},
   "source": [
    "## Итоговый ответ для $I_4(u)$:"
   ]
  },
  {
   "cell_type": "code",
   "execution_count": null,
   "metadata": {
    "vscode": {
     "languageId": "wolfram"
    }
   },
   "outputs": [],
   "source": [
    "I4[u_] = Simplify[Collect[Simplify[integral4Infs[u] - integral4r1[u], {u ∈ Reals, u > 0}], (425 + 366*u^4 + 37*u^8)]]"
   ]
  },
  {
   "cell_type": "code",
   "execution_count": null,
   "metadata": {
    "vscode": {
     "languageId": "wolfram"
    }
   },
   "outputs": [],
   "source": [
    "TeXForm[I4[u]]"
   ]
  },
  {
   "cell_type": "markdown",
   "metadata": {},
   "source": [
    "## Сравнение Integrate и аналитической $I_4(u)$"
   ]
  },
  {
   "cell_type": "code",
   "execution_count": null,
   "metadata": {
    "vscode": {
     "languageId": "wolfram"
    }
   },
   "outputs": [],
   "source": [
    "Show[\n",
    "  Plot[\n",
    "    N[I4[u]],\n",
    "    {u, 0, 100},\n",
    "    PlotLabel -> Subscript[\"I\", 4][u],\n",
    "    AxesLabel -> {\"u\", Subscript[\"I\", 4]},\n",
    "    PlotLegends -> {Subscript[\"I\", 4][u]},\n",
    "    ScalingFunctions -> {\"SignedLog\", \"SignedLog\"}\n",
    "  ],\n",
    "  ListPlot[\n",
    "    points,\n",
    "    (* Joined -> True, *)\n",
    "    Mesh -> All,\n",
    "    PlotStyle -> {Red, Dashed},\n",
    "    PlotLegends -> {Subscript[\"Integrate I\", 4][u]},\n",
    "    ScalingFunctions -> {\"SignedLog\", \"SignedLog\"}\n",
    "  ]\n",
    "]"
   ]
  },
  {
   "cell_type": "code",
   "execution_count": null,
   "metadata": {
    "vscode": {
     "languageId": "wolfram"
    }
   },
   "outputs": [],
   "source": [
    "points01 = Table[{u, N[Integrate[integrand4[u, r], {r, r1[u], Infinity}]]}, {u, 0.02, 1, 0.05}];\n",
    "Show[\n",
    "  Plot[\n",
    "    N[I4[u]],\n",
    "    {u, 0, 1},\n",
    "    PlotLabel -> Subscript[\"I\", 4][u],\n",
    "    AxesLabel -> {\"u\", Subscript[\"I\", 4]},\n",
    "    PlotLegends -> {Subscript[\"I\", 4][u]},\n",
    "    ScalingFunctions -> {\"SignedLog\", \"SignedLog\"}\n",
    "  ],\n",
    "  ListPlot[\n",
    "    points01,\n",
    "    (* Joined -> True, *)\n",
    "    Mesh -> All,\n",
    "    PlotStyle -> {Red, Dashed},\n",
    "    PlotLegends -> {Subscript[\"Integrate I\", 4][u]},\n",
    "    ScalingFunctions -> {\"SignedLog\", \"SignedLog\"}\n",
    "  ]\n",
    "]"
   ]
  },
  {
   "cell_type": "markdown",
   "metadata": {},
   "source": [
    "$$I_1 = \\hat{r}_2 \\left[ 120\\hat{r}_2^{(1)}\\omega^2\\omega^{(1)} - 5\\hat{r}_2^{(1)}\\omega^{(3)} - 16\\hat{r}_2\\omega^5 - 10\\hat{r}_2^{(2)}\\omega^{(2)} + 60\\hat{r}_2\\omega(\\omega^{(1)})^2\n",
    "- 10\\hat{r}_2^{(3)}\\omega^{(1)} + 40\\hat{r}_2^{(2)}\\omega^3 - 5\\hat{r}_2^{(4)}\\omega - \\hat{r}_2\\omega^{(4)} + 40\\hat{r}_2\\omega^2\\omega^{(2)} \\right]$$"
   ]
  },
  {
   "cell_type": "markdown",
   "metadata": {},
   "source": [
    "$$I_2 = 2\\hat{r}_2 \\left[ -40\\hat{r}_2\\omega^3\\omega^{(1)} - 20\\omega^4\\hat{r}_2^{(1)} + 5\\hat{r}_2\\omega\\omega^{(3)} + 10\\hat{r}_2\\omega^{(1)}\\omega^{(2)} + 10\\omega^2\\hat{r}_2^{(3)} + 30\\omega\\omega^{(1)}\\hat{r}_2^{(2)} + 20\\omega\\omega^{(2)}\\hat{r}_2^{(1)} + 15\\hat{r}_2^{(1)}(\\omega^{(1)})^2 - \\frac{1}{3}\\hat{r}_2^{(5)} \\right]$$"
   ]
  }
 ],
 "metadata": {
  "kernelspec": {
   "display_name": "Wolfram Language 14.1",
   "language": "Wolfram Language",
   "name": "wolframlanguage14.1"
  },
  "language_info": {
   "codemirror_mode": "mathematica",
   "file_extension": ".m",
   "mimetype": "application/vnd.wolfram.m",
   "name": "Wolfram Language",
   "pygments_lexer": "mathematica",
   "version": "12.0"
  }
 },
 "nbformat": 4,
 "nbformat_minor": 2
}
