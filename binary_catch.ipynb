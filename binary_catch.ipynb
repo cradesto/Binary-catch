{
 "cells": [
  {
   "cell_type": "markdown",
   "metadata": {},
   "source": [
    "# Binary catch\n",
    "\n",
    "**При каких условиях два тела, налетающие друг на друга с бесконечности (в системе центра масс) станут связной системой из-за испускания гравволн?**"
   ]
  },
  {
   "cell_type": "code",
   "execution_count": 1,
   "metadata": {
    "vscode": {
     "languageId": "wolfram"
    }
   },
   "outputs": [
    {
     "name": "stdout",
     "output_type": "stream",
     "text": [
      "  (CleanSlate) Contexts purged: {Global`}\n",
      "  (CleanSlate) Approximate kernel memory recovered: 1 Kb\n"
     ]
    }
   ],
   "source": [
    "(* https://mathematica.stackexchange.com/questions/850/how-do-i-clear-all-user-defined-symbols/861#861 *)\n",
    "<< Utilities`CleanSlate`\n",
    "CleanSlate[];\n",
    "\n",
    "ClearAll[\"Global`*\"]\n",
    "(* ClearSystemCache[] *)\n",
    "(* https://mathematica.stackexchange.com/questions/111605/quit-vs-clearallglobal *)\n",
    "if[Length[Names[\"Global`*\"]] > 0, Remove[\"Global`*\"]];\n",
    "\n",
    "(* PacletInstall[\n",
    "    \"TensorSimplify\",\n",
    "\n",
    "    \"Site\" -> \"http://raw.githubusercontent.com/carlwoll/TensorSimplify/master\"\n",
    "]; *)\n",
    "<<TensorSimplify`"
   ]
  },
  {
   "cell_type": "markdown",
   "metadata": {},
   "source": [
    "## Einstein Summation"
   ]
  },
  {
   "cell_type": "code",
   "execution_count": 10,
   "metadata": {
    "vscode": {
     "languageId": "wolfram"
    }
   },
   "outputs": [],
   "source": [
    "ClearAll@EinsteinSummation\n",
    "\n",
    "EinsteinSummation[in_List, arrays_] := Module[\n",
    "  {res =\n",
    "    isum[in -> Cases[Tally @ Flatten @ in, {_, 1}][[All, 1]], arrays]},\n",
    "  res /; res =!= $Failed\n",
    "  ]\n",
    "\n",
    "EinsteinSummation[in_List -> out_, arrays_] := Module[\n",
    "  {res = isum[in -> out, arrays]},\n",
    "  res /; res =!= $Failed\n",
    "  ]\n",
    "\n",
    "isum[in_List -> out_, arrays_List] := Catch@Module[\n",
    "  {indices, contracted, uncontracted, contractions, transpose},\n",
    "  If[Length[in] != Length[arrays],\n",
    "    Message[EinsteinSummation::length, Length[in], Length[arrays]];\n",
    "    Throw[$Failed]];\n",
    "  MapThread[\n",
    "    If[IntegerQ@TensorRank[#1] && Length[#1] != TensorRank[#2],\n",
    "      Message[EinsteinSummation::shape, #1, #2];\n",
    "      Throw[$Failed]] &, {in, arrays}];\n",
    "  indices = Tally[Flatten[in, 1]];\n",
    "  If[DeleteCases[indices, {_, 1 | 2}] =!= {},\n",
    "    Message[EinsteinSummation::repeat,\n",
    "      Cases[indices, {x_, Except[1 | 2]} :> x]];\n",
    "    Throw[$Failed]];\n",
    "  uncontracted = Cases[indices, {x_, 1} :> x];\n",
    "  If[Sort[uncontracted] =!= Sort[out],\n",
    "    Message[EinsteinSummation::output, uncontracted, out];\n",
    "    Throw[$Failed]];\n",
    "  contracted = Cases[indices, {x_, 2} :> x];\n",
    "  contractions = Flatten[Position[Flatten[in, 1], #]] & /@ contracted;\n",
    "  transpose = FindPermutation[uncontracted, out];\n",
    "  Activate@\n",
    "    TensorTranspose[\n",
    "      TensorContract[Inactive[TensorProduct] @@ arrays, contractions],\n",
    "    transpose]]\n",
    "\n",
    "EinsteinSummation::length =\n",
    "  \"Number of index specifications (`1`) does not match the number of \\\n",
    "tensors (`2`)\";\n",
    "EinsteinSummation::shape =\n",
    "  \"Index specification `1` does not match the tensor rank of `2`\";\n",
    "EinsteinSummation::repeat =\n",
    "  \"Index specifications `1` are repeated more than twice\";\n",
    "EinsteinSummation::output =\n",
    "  \"The uncontracted indices don't match the desired output\";"
   ]
  },
  {
   "cell_type": "code",
   "execution_count": 18,
   "metadata": {
    "vscode": {
     "languageId": "wolfram"
    }
   },
   "outputs": [],
   "source": [
    "(* Правила для скрытия аргументов в TraditionalForm *)\n",
    "\n",
    "Unprotect[Subscript, OverHat, Derivative];\n",
    "\n",
    "MakeBoxes[OverHat[r_][OverHat[t]], TraditionalForm] :=\n",
    "  MakeBoxes[OverHat[r], TraditionalForm]\n",
    "\n",
    "MakeBoxes[\\[Phi][OverHat[t]], TraditionalForm] :=\n",
    "  MakeBoxes[\\[Phi], TraditionalForm]\n",
    "\n",
    "MakeBoxes[Subscript[OverHat[r], n_][OverHat[t]], TraditionalForm] :=\n",
    "  SubscriptBox[OverscriptBox[\"r\", \"^\"], ToString[n]];\n",
    "\n",
    "MakeBoxes[OverHat[\\[Omega]][OverHat[t]], TraditionalForm] :=\n",
    "  OverscriptBox[\"\\[Omega]\", \"^\"];\n",
    "\n",
    "MakeBoxes[Derivative[n_][f_][OverHat[t]], TraditionalForm] := Module[{primes},\n",
    "  primes = StringJoin[Table[\"\\[Prime]\", n]];\n",
    "  SuperscriptBox[ToBoxes[f], primes]\n",
    "];\n",
    "\n",
    "Protect[Subscript, OverHat, Derivative];"
   ]
  },
  {
   "cell_type": "markdown",
   "metadata": {},
   "source": [
    "$\\hat{r}_k$"
   ]
  },
  {
   "cell_type": "code",
   "execution_count": 27,
   "metadata": {
    "vscode": {
     "languageId": "wolfram"
    }
   },
   "outputs": [
    {
     "data": {
      "text/html": [
       "<div><img alt=\"Output\" src=\"data:image/png;base64,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\"></div>"
      ],
      "text/plain": [
       "FormBox[TagBox[RowBox[{\"(\", \"⁠\", \n",
       "\n",
       " \n",
       ">         TagBox[GridBox[{{RowBox[{OverscriptBox[\"r\", \"^\"], \" \", \n",
       "\n",
       " \n",
       ">               RowBox[{\"cos\", \"(\", \"ϕ\", \")\"}]}]}, \n",
       "\n",
       " \n",
       ">            {RowBox[{OverscriptBox[\"r\", \"^\"], \" \", RowBox[{\"sin\", \"(\", \"ϕ\", \")\"}]}]}}, \n",
       "\n",
       " \n",
       ">           Rule[RowSpacings, 1], Rule[ColumnAlignments, Center], \n",
       "\n",
       " \n",
       ">           Rule[ColumnAlignments, Left]], Column], \"⁠\", \")\"}], \n",
       "\n",
       " \n",
       ">       Function[BoxForm`e$, MatrixForm[BoxForm`e$]]], TraditionalForm]\n"
      ]
     },
     "execution_count": 27,
     "metadata": {
      "text/html": [],
      "text/plain": []
     },
     "output_type": "execute_result"
    }
   ],
   "source": [
    "rh = {OverHat[r][OverHat[t]]*Cos[\\[Phi][OverHat[t]]], OverHat[r][OverHat[t]]*Sin[\\[Phi][OverHat[t]]]};\n",
    "rh // MatrixForm // TraditionalForm"
   ]
  },
  {
   "cell_type": "code",
   "execution_count": 28,
   "metadata": {
    "vscode": {
     "languageId": "wolfram"
    }
   },
   "outputs": [],
   "source": [
    "$Assumptions = {\n",
    "  {OverHat[r][OverHat[t]], OverHat[t], rh, Subscript[OverHat[r],2][OverHat[t]]} \\[Element] PositiveReals\n",
    "};"
   ]
  },
  {
   "cell_type": "markdown",
   "metadata": {},
   "source": [
    "## Система движения в декартовых координатах\n",
    "$$\n",
    "\\frac{d^2r_k}{dt^2} = -\\frac{G(m_A+m_B)}{r^3}r_k - \\frac{2}{5}f_{ki}^{(5)}r_i\n",
    "$$\n",
    "\n",
    "Ч.Мизнер, К.Торн, Дж.Уилер Гравтация, Т.3 (36.8)"
   ]
  },
  {
   "cell_type": "markdown",
   "metadata": {},
   "source": [
    "Введём обозначения для масс\n",
    "\n",
    "$$\n",
    "M=m_A+m_B; \\quad\n",
    "\\mu = m_{AB} = \\frac{m_A m_B}{M}\n",
    "$$"
   ]
  },
  {
   "cell_type": "markdown",
   "metadata": {},
   "source": [
    "### Безразмерные единицы\n",
    "$$\n",
    "\\begin{align}\n",
    "r &= b\\hat{r} \\\\\n",
    "t &= t_0\\hat{t} \\\\\n",
    "f_{ij} &= b^2\\frac{G}{c^5}\\mu\\hat{f}_{ij} \\\\\n",
    "f_{ij}^{(5)} &= \\frac{b^2}{t_0^5}\\frac{G}{c^5}\\mu\\hat{f}_{ij}^{(5)}\n",
    "\\end{align}\n",
    "$$"
   ]
  },
  {
   "cell_type": "markdown",
   "metadata": {},
   "source": [
    "$\\hat{f}_{ki}$"
   ]
  },
  {
   "cell_type": "code",
   "execution_count": 30,
   "metadata": {
    "vscode": {
     "languageId": "wolfram"
    }
   },
   "outputs": [
    {
     "data": {
      "text/html": [
       "<div><img alt=\"Output\" src=\"data:image/png;base64,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\"></div>"
      ],
      "text/plain": [
       "FormBox[TagBox[RowBox[{\"(\", \"⁠\", \n",
       "\n",
       " \n",
       ">         GridBox[{{RowBox[{FractionBox[\"1\", \"6\"], \" \", \n",
       "\n",
       " \n",
       ">              SuperscriptBox[OverscriptBox[\"r\", \"^\"], \"2\"], \" \", \n",
       "\n",
       " \n",
       ">              RowBox[{\"(\", RowBox[{RowBox[{\"3\", \" \", \n",
       "\n",
       " \n",
       ">                    RowBox[{\"cos\", \"(\", RowBox[{\"2\", \" \", \"ϕ\"}], \")\"}]}], \"+\",\\\n",
       " \n",
       ">    \"1\"}]\\\n",
       ", \")\"}]}], RowBox[{SuperscriptBox[OverscriptBox[\"r\", \"^\"], \"2\"], \" \", \n",
       "\n",
       " \n",
       ">              RowBox[{\"sin\", \"(\", \"ϕ\", \")\"}], \" \", RowBox[{\"cos\", \"(\", \"ϕ\", \")\"}]}]}, \n",
       "\n",
       " \n",
       ">           {RowBox[{SuperscriptBox[OverscriptBox[\"r\", \"^\"], \"2\"], \" \", \n",
       "\n",
       " \n",
       ">              RowBox[{\"sin\", \"(\", \"ϕ\", \")\"}], \" \", RowBox[{\"cos\", \"(\", \"ϕ\", \")\"}]}], \n",
       "\n",
       " \n",
       ">            RowBox[{FractionBox[\"1\", \"3\"], \" \", \n",
       "\n",
       " \n",
       ">              SuperscriptBox[OverscriptBox[\"r\", \"^\"], \"2\"], \" \", \n",
       "\n",
       " \n",
       ">              RowBox[{\"(\", RowBox[{RowBox[{\"3\", \" \", \n",
       "\n",
       " \n",
       ">                    RowBox[{SuperscriptBox[\"sin\", \"2\"], \"(\", \"ϕ\", \")\"}]}], \"-\", \"1\"}], \n",
       "\n",
       " \n",
       ">                \")\"}]}]}}, Rule[RowSpacings, 1], Rule[ColumnSpacings, 1], \n",
       "\n",
       " \n",
       ">          Rule[RowAlignments, Baseline], Rule[ColumnAlignments, Center]], \"⁠\", \")\"}], \n",
       "\n",
       " \n",
       ">       Function[BoxForm`e$, MatrixForm[BoxForm`e$]]], TraditionalForm]\n"
      ]
     },
     "execution_count": 30,
     "metadata": {
      "text/html": [],
      "text/plain": []
     },
     "output_type": "execute_result"
    }
   ],
   "source": [
    "fh = Simplify[Array[rh[[#]]*rh[[#2]] - 1/3*KroneckerDelta[#, #2]*(OverHat[r][OverHat[t]])^2 &, {2, 2}], Trig -> True];\n",
    "fh // MatrixForm // TraditionalForm"
   ]
  },
  {
   "cell_type": "markdown",
   "metadata": {},
   "source": [
    "$\\hat{f}_{ki}^{(5)}$"
   ]
  },
  {
   "cell_type": "code",
   "execution_count": 34,
   "metadata": {
    "vscode": {
     "languageId": "wolfram"
    }
   },
   "outputs": [
    {
     "data": {
      "text/html": [
       "<div><img alt=\"Output\" src=\"data:image/png;base64,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\"></div>"
      ],
      "text/plain": [
       "FormBox[TagBox[RowBox[{\"(\", \"⁠\", \n",
       "\n",
       " \n",
       ">         GridBox[{{TemplateBox[List[SubscriptBox[OverscriptBox[\"f\", \"^\"], \n",
       "\n",
       " \n",
       ">               RowBox[List[\"x\", \",\", \"x\"]]], \"\\\"(5)\\\"\"], \"Superscript\", \n",
       "\n",
       " \n",
       ">             Rule[SyntaxForm, SuperscriptBox]], \n",
       "\n",
       " \n",
       ">            TemplateBox[List[SubscriptBox[OverscriptBox[\"f\", \"^\"], \n",
       "\n",
       " \n",
       ">               RowBox[List[\"x\", \",\", \"y\"]]], \"\\\"(5)\\\"\"], \"Superscript\", \n",
       "\n",
       " \n",
       ">             Rule[SyntaxForm, SuperscriptBox]]}, \n",
       "\n",
       " \n",
       ">           {TemplateBox[List[SubscriptBox[OverscriptBox[\"f\", \"^\"], \n",
       "\n",
       " \n",
       ">               RowBox[List[\"x\", \",\", \"y\"]]], \"\\\"(5)\\\"\"], \"Superscript\", \n",
       "\n",
       " \n",
       ">             Rule[SyntaxForm, SuperscriptBox]], \n",
       "\n",
       " \n",
       ">            TemplateBox[List[SubscriptBox[OverscriptBox[\"f\", \"^\"], \n",
       "\n",
       " \n",
       ">               RowBox[List[\"y\", \",\", \"y\"]]], \"\\\"(5)\\\"\"], \"Superscript\", \n",
       "\n",
       " \n",
       ">             Rule[SyntaxForm, SuperscriptBox]]}}, Rule[RowSpacings, 1], \n",
       "\n",
       " \n",
       ">          Rule[ColumnSpacings, 1], Rule[RowAlignments, Baseline], \n",
       "\n",
       " \n",
       ">          Rule[ColumnAlignments, Center]], \"⁠\", \")\"}], \n",
       "\n",
       " \n",
       ">       Function[BoxForm`e$, MatrixForm[BoxForm`e$]]], TraditionalForm]\n"
      ]
     },
     "execution_count": 34,
     "metadata": {
      "text/html": [],
      "text/plain": []
     },
     "output_type": "execute_result"
    }
   ],
   "source": [
    "(* fh5 = Array[Superscript[Subscript[OverHat[f], {x, y}[[#1]], {x, y}[[#2]]], \"(5)\"] &, {2, 2}] *)\n",
    "(* Symmetric version *)\n",
    "fh5 = Array[If[#1 <= #2,\n",
    "                    Superscript[Subscript[OverHat[f], {x, y}[[#1]], {x, y}[[#2]]], \"(5)\"],\n",
    "                    Superscript[Subscript[OverHat[f], {x, y}[[#2]], {x, y}[[#1]]], \"(5)\"]] &, {2, 2}];\n",
    "fh5 // MatrixForm // TraditionalForm"
   ]
  },
  {
   "cell_type": "markdown",
   "metadata": {},
   "source": [
    "$\\hat{f}_{ki}^{(5)}\\hat{r}_i$"
   ]
  },
  {
   "cell_type": "code",
   "execution_count": 36,
   "metadata": {
    "vscode": {
     "languageId": "wolfram"
    }
   },
   "outputs": [
    {
     "data": {
      "text/html": [
       "<div><img alt=\"Output\" src=\"data:image/png;base64,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\"></div>"
      ],
      "text/plain": [
       "FormBox[TagBox[RowBox[{\"(\", \"⁠\", \n",
       "\n",
       " \n",
       ">         TagBox[GridBox[{{RowBox[{RowBox[{OverscriptBox[\"r\", \"^\"], \" \", \n",
       "\n",
       " \n",
       ">                 RowBox[{\"sin\", \"(\", \"ϕ\", \")\"}], \" \", \n",
       "\n",
       " \n",
       ">                 TemplateBox[List[SubscriptBox[OverscriptBox[\"f\", \"^\"], \n",
       "\n",
       " \n",
       ">                    RowBox[List[\"x\", \",\", \"y\"]]], \"\\\"(5)\\\"\"], \"Superscript\", \n",
       "\n",
       " \n",
       ">                  Rule[SyntaxForm, SuperscriptBox]]}], \"+\", \n",
       "\n",
       " \n",
       ">               RowBox[{OverscriptBox[\"r\", \"^\"], \" \", RowBox[{\"cos\", \"(\", \"ϕ\", \")\"}], \n",
       "\n",
       " \n",
       ">                 \" \", TemplateBox[List[SubscriptBox[OverscriptBox[\"f\", \"^\"], \n",
       "\n",
       " \n",
       ">                    RowBox[List[\"x\", \",\", \"x\"]]], \"\\\"(5)\\\"\"], \"Superscript\", \n",
       "\n",
       " \n",
       ">                  Rule[SyntaxForm, SuperscriptBox]]}]}]}, \n",
       "\n",
       " \n",
       ">            {RowBox[{RowBox[{OverscriptBox[\"r\", \"^\"], \" \", \n",
       "\n",
       " \n",
       ">                 RowBox[{\"cos\", \"(\", \"ϕ\", \")\"}], \" \", \n",
       "\n",
       " \n",
       ">                 TemplateBox[List[SubscriptBox[OverscriptBox[\"f\", \"^\"], \n",
       "\n",
       " \n",
       ">                    RowBox[List[\"x\", \",\", \"y\"]]], \"\\\"(5)\\\"\"], \"Superscript\", \n",
       "\n",
       " \n",
       ">                  Rule[SyntaxForm, SuperscriptBox]]}], \"+\", \n",
       "\n",
       " \n",
       ">               RowBox[{OverscriptBox[\"r\", \"^\"], \" \", RowBox[{\"sin\", \"(\", \"ϕ\", \")\"}], \n",
       "\n",
       " \n",
       ">                 \" \", TemplateBox[List[SubscriptBox[OverscriptBox[\"f\", \"^\"], \n",
       "\n",
       " \n",
       ">                    RowBox[List[\"y\", \",\", \"y\"]]], \"\\\"(5)\\\"\"], \"Superscript\", \n",
       "\n",
       " \n",
       ">                  Rule[SyntaxForm, SuperscriptBox]]}]}]}}, Rule[RowSpacings, 1], \n",
       "\n",
       " \n",
       ">           Rule[ColumnAlignments, Center], Rule[ColumnAlignments, Left]], Column], \"⁠\",\\\n",
       " \n",
       ">    \n",
       "      \")\"}], Function[BoxForm`e$, MatrixForm[BoxForm`e$]]], TraditionalForm]\n"
      ]
     },
     "execution_count": 36,
     "metadata": {
      "text/html": [],
      "text/plain": []
     },
     "output_type": "execute_result"
    }
   ],
   "source": [
    "fh5rh = EinsteinSummation[{{k, i}, {i}}, {fh5, rh}];\n",
    "fh5rh // MatrixForm // TraditionalForm"
   ]
  },
  {
   "cell_type": "markdown",
   "metadata": {},
   "source": [
    "Система движения в безразмерной записи будет выглядеть как"
   ]
  },
  {
   "cell_type": "markdown",
   "metadata": {},
   "source": [
    "$$\n",
    "\\frac{d^2\\hat{r}_k}{d\\hat{t}^2} = -\\frac{t_0^2}{b^3}\\frac{GM}{\\hat{r}^3}\\hat{r}_k - \\frac{2}{5}\\frac{b^2}{t_0^3}\\frac{G}{c^5}\\mu\\hat{f}_{ki}^{(5)}\\hat{r}_i\n",
    "$$"
   ]
  },
  {
   "cell_type": "markdown",
   "metadata": {},
   "source": [
    "Пусть $t_0 = \\sqrt{\\frac{b^3}{GM}}$, а $b$ - прицельное расстояние, тогда система движения перепишется как\n",
    "\n",
    "$$\n",
    "\\frac{d^2\\hat{r}_k}{d\\hat{t}^2} + \\frac{\\hat{r}_k}{\\hat{r}^3} = - \\epsilon_G\\hat{f}_{ki}^{(5)}\\hat{r}_i\\quad,\n",
    "$$\n",
    "или\n",
    "$$\n",
    "\\hat{r}_k^{(2)} + \\frac{\\hat{r}_k}{\\hat{r}^3} = - \\epsilon_G\\hat{f}_{ki}^{(5)}\\hat{r}_i\\quad,\n",
    "$$\n",
    "\n",
    "где безразмерная постоянная $\\epsilon_G = \\frac{2}{5}\\frac{b^2}{t_0^3}\\frac{G}{c^5}\\mu = \\frac{2}{5}\\frac{\\mu}{M} \\left( \\frac{GM}{bc^2} \\right)^{\\frac{5}{2}}$.\n",
    "\n",
    "Заметим , что $f_{ij}^{(5)} = \\frac{5}{2}\\frac{\\epsilon_G}{t_0^2}\\hat{f}_{ij}^{(5)}$"
   ]
  },
  {
   "cell_type": "markdown",
   "metadata": {},
   "source": [
    "## Повернём систему с помощью матрицы вращения $R_{ij}(\\phi)$ на угол $\\phi$ по **часовой** стрелке\n",
    "Переход к полярным координатам от декартовых"
   ]
  },
  {
   "cell_type": "code",
   "execution_count": 37,
   "metadata": {
    "vscode": {
     "languageId": "wolfram"
    }
   },
   "outputs": [
    {
     "data": {
      "text/html": [
       "<div><img alt=\"Output\" src=\"data:image/png;base64,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\"></div>"
      ],
      "text/plain": [
       "FormBox[TagBox[RowBox[{\"(\", \"⁠\", \n",
       "\n",
       " \n",
       ">         GridBox[{{RowBox[{\"cos\", \"(\", \"ϕ\", \")\"}], RowBox[{\"sin\", \"(\", \"ϕ\", \")\"}]}, \n",
       "\n",
       " \n",
       ">           {RowBox[{\"-\", RowBox[{\"sin\", \"(\", \"ϕ\", \")\"}]}], \n",
       "\n",
       " \n",
       ">            RowBox[{\"cos\", \"(\", \"ϕ\", \")\"}]}}, Rule[RowSpacings, 1], \n",
       "\n",
       " \n",
       ">          Rule[ColumnSpacings, 1], Rule[RowAlignments, Baseline], \n",
       "\n",
       " \n",
       ">          Rule[ColumnAlignments, Center]], \"⁠\", \")\"}], \n",
       "\n",
       " \n",
       ">       Function[BoxForm`e$, MatrixForm[BoxForm`e$]]], TraditionalForm]\n"
      ]
     },
     "execution_count": 37,
     "metadata": {
      "text/html": [],
      "text/plain": []
     },
     "output_type": "execute_result"
    }
   ],
   "source": [
    "RotationMatrix[-\\[Phi]] // MatrixForm // TraditionalForm"
   ]
  },
  {
   "cell_type": "markdown",
   "metadata": {},
   "source": [
    "#### LHS системы после поворота"
   ]
  },
  {
   "cell_type": "code",
   "execution_count": 39,
   "metadata": {
    "vscode": {
     "languageId": "wolfram"
    }
   },
   "outputs": [
    {
     "data": {
      "text/html": [
       "<div><img alt=\"Output\" src=\"data:image/png;base64,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\"></div>"
      ],
      "text/plain": [
       "FormBox[TagBox[RowBox[{\"(\", \"⁠\", \n",
       "      TagBox[GridBox[{{RowBox[{RowBox[{\"-\", \n",
       "\n",
       " \n",
       ">                 RowBox[{\"2\", \" \", SuperscriptBox[OverscriptBox[\"r\", \"^\"], \"′\"], \n",
       "\n",
       " \n",
       ">                   \" \", SuperscriptBox[\"ϕ\", \"′\"], \" \", \n",
       "\n",
       " \n",
       ">                   RowBox[{\"sin\", \"(\", \"ϕ\", \")\"}]}]}], \"+\", \n",
       "\n",
       " \n",
       ">               RowBox[{OverscriptBox[\"r\", \"^\"], \" \", \n",
       "\n",
       " \n",
       ">                 RowBox[{\"(\", RowBox[{RowBox[{SuperscriptBox[RowBox[\n",
       "\n",
       " \n",
       ">                         {\"(\", SuperscriptBox[\"ϕ\", \"′\"], \")\"}], \"2\"], \" \", \n",
       "\n",
       " \n",
       ">                       RowBox[{\"(\", \n",
       "\n",
       " \n",
       ">                         RowBox[{\"-\", RowBox[{\"cos\", \"(\", \"ϕ\", \")\"}]}], \")\"}]}], \n",
       "\n",
       " \n",
       ">                     \"-\", RowBox[{SuperscriptBox[\"ϕ\", \"′′\"], \" \", \n",
       "\n",
       " \n",
       ">                       RowBox[{\"sin\", \"(\", \"ϕ\", \")\"}]}]}], \")\"}]}], \"+\", \n",
       "\n",
       " \n",
       ">               RowBox[{SuperscriptBox[OverscriptBox[\"r\", \"^\"], \"′′\"], \" \", \n",
       "\n",
       " \n",
       ">                 RowBox[{\"cos\", \"(\", \"ϕ\", \")\"}]}], \"+\", \n",
       "\n",
       " \n",
       ">               FractionBox[RowBox[{\"cos\", \"(\", \"ϕ\", \")\"}], \n",
       "\n",
       " \n",
       ">                SuperscriptBox[OverscriptBox[\"r\", \"^\"], \"2\"]]}]}, \n",
       "\n",
       " \n",
       ">            {RowBox[{RowBox[{\"2\", \" \", SuperscriptBox[OverscriptBox[\"r\", \"^\"], \"′\"], \n",
       "\n",
       " \n",
       ">                 \" \", SuperscriptBox[\"ϕ\", \"′\"], \" \", RowBox[{\"cos\", \"(\", \"ϕ\",\\\n",
       " \n",
       ">    \")\"}]}]\\\n",
       ", \"+\", RowBox[{OverscriptBox[\"r\", \"^\"], \" \", \n",
       "\n",
       " \n",
       ">                 RowBox[{\"(\", RowBox[{RowBox[{SuperscriptBox[\"ϕ\", \"′′\"], \" \", \n",
       "\n",
       " \n",
       ">                       RowBox[{\"cos\", \"(\", \"ϕ\", \")\"}]}], \"-\", \n",
       "\n",
       " \n",
       ">                     RowBox[{SuperscriptBox[RowBox[{\"(\", \n",
       "\n",
       " \n",
       ">                          SuperscriptBox[\"ϕ\", \"′\"], \")\"}], \"2\"], \" \", \n",
       "\n",
       " \n",
       ">                       RowBox[{\"sin\", \"(\", \"ϕ\", \")\"}]}]}], \")\"}]}], \"+\", \n",
       "\n",
       " \n",
       ">               RowBox[{SuperscriptBox[OverscriptBox[\"r\", \"^\"], \"′′\"], \" \", \n",
       "\n",
       " \n",
       ">                 RowBox[{\"sin\", \"(\", \"ϕ\", \")\"}]}], \"+\", \n",
       "\n",
       " \n",
       ">               FractionBox[RowBox[{\"sin\", \"(\", \"ϕ\", \")\"}], \n",
       "\n",
       " \n",
       ">                SuperscriptBox[OverscriptBox[\"r\", \"^\"], \"2\"]]}]}}, \n",
       "\n",
       " \n",
       ">           Rule[RowSpacings, 1], Rule[ColumnAlignments, Center], \n",
       "\n",
       " \n",
       ">           Rule[ColumnAlignments, Left]], Column], \"⁠\", \")\"}], \n",
       "\n",
       " \n",
       ">       Function[BoxForm`e$, MatrixForm[BoxForm`e$]]], TraditionalForm]\n"
      ]
     },
     "execution_count": 39,
     "metadata": {
      "text/html": [],
      "text/plain": []
     },
     "output_type": "execute_result"
    }
   ],
   "source": [
    "LHSMotion = D[rh, {OverHat[t], 2}] + Simplify[rh / Norm[rh]^3];\n",
    "LHSMotion // MatrixForm // TraditionalForm"
   ]
  },
  {
   "cell_type": "code",
   "execution_count": 40,
   "metadata": {
    "vscode": {
     "languageId": "wolfram"
    }
   },
   "outputs": [
    {
     "data": {
      "text/html": [
       "<div><img alt=\"Output\" src=\"data:image/png;base64,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\"></div>"
      ],
      "text/plain": [
       "FormBox[TagBox[RowBox[{\"(\", \"⁠\", \n",
       "      TagBox[GridBox[{{RowBox[{RowBox[{\"-\", \n",
       "\n",
       " \n",
       ">                 RowBox[{RowBox[{OverscriptBox[\"r\", \"^\"]}], \" \", \n",
       "\n",
       " \n",
       ">                   SuperscriptBox[RowBox[{\"(\", SuperscriptBox[\"ϕ\", \"′\"], \")\"}], \n",
       "\n",
       " \n",
       ">                    \"2\"]}]}], \"+\", SuperscriptBox[OverscriptBox[\"r\", \"^\"], \"′′\"], \n",
       "\n",
       " \n",
       ">               \"+\", FractionBox[\"1\", SuperscriptBox[OverscriptBox[\"r\", \"^\"],\\\n",
       " \n",
       ">    \"2\"]]}]}\\\n",
       ", {RowBox[{RowBox[{OverscriptBox[\"r\", \"^\"], \" \", SuperscriptBox[\"ϕ\",\\\n",
       " \n",
       ">    \"′′\"]}], \"+\", \n",
       "            RowBox[{\"2\", \" \", SuperscriptBox[OverscriptBox[\"r\",\\\n",
       " \n",
       ">    \"^\"], \"′\"], \" \", \n",
       "              SuperscriptBox[\"ϕ\", \"′\"]}]}]}}, Rule[RowSpacings,\\\n",
       " \n",
       ">    1], \n",
       "        Rule[ColumnAlignments, Center], Rule[ColumnAlignments, Left]],\\\n",
       " \n",
       ">    Column], \"⁠\", \n",
       "      \")\"}], Function[BoxForm`e$, MatrixForm[BoxForm`e$]]],\\\n",
       " \n",
       ">    TraditionalForm]\n"
      ]
     },
     "execution_count": 40,
     "metadata": {
      "text/html": [],
      "text/plain": []
     },
     "output_type": "execute_result"
    }
   ],
   "source": [
    "RotatedLHSMotion = Simplify[RotationMatrix[-\\[Phi][OverHat[t]]] . LHSMotion, Trig -> True] // MatrixForm // TraditionalForm"
   ]
  },
  {
   "cell_type": "markdown",
   "metadata": {},
   "source": [
    "Так как $\\hat{\\omega} \\equiv \\phi^{(1)}$, то"
   ]
  },
  {
   "cell_type": "code",
   "execution_count": 42,
   "metadata": {
    "vscode": {
     "languageId": "wolfram"
    }
   },
   "outputs": [
    {
     "data": {
      "text/html": [
       "<div><img alt=\"Output\" src=\"data:image/png;base64,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\"></div>"
      ],
      "text/plain": [
       "FormBox[TagBox[RowBox[{\"(\", \"⁠\", \n",
       "\n",
       " \n",
       ">         TagBox[GridBox[{{RowBox[{RowBox[{RowBox[{\"-\", OverscriptBox[\"r\", \"^\"]}], \n",
       "\n",
       " \n",
       ">                 \" \", SuperscriptBox[OverscriptBox[\"ω\", \"^\"], \"2\"]}], \"+\", \n",
       "\n",
       " \n",
       ">               SuperscriptBox[OverscriptBox[\"r\", \"^\"], \"′′\"], \"+\", \n",
       "\n",
       " \n",
       ">               FractionBox[\"1\", SuperscriptBox[OverscriptBox[\"r\", \"^\"], \"2\"]]}]}, \n",
       "\n",
       " \n",
       ">            {RowBox[{RowBox[{\"2\", \" \", OverscriptBox[\"ω\", \"^\"], \" \", \n",
       "\n",
       " \n",
       ">                 SuperscriptBox[OverscriptBox[\"r\", \"^\"], \"′\"]}], \"+\", \n",
       "\n",
       " \n",
       ">               RowBox[{OverscriptBox[\"r\", \"^\"], \" \", \n",
       "\n",
       " \n",
       ">                 SuperscriptBox[OverscriptBox[\"ω\", \"^\"], \"′\"]}]}]}}, \n",
       "\n",
       " \n",
       ">           Rule[RowSpacings, 1], Rule[ColumnAlignments, Center], \n",
       "\n",
       " \n",
       ">           Rule[ColumnAlignments, Left]], Column], \"⁠\", \")\"}], \n",
       "\n",
       " \n",
       ">       Function[BoxForm`e$, MatrixForm[BoxForm`e$]]], TraditionalForm]\n"
      ]
     },
     "execution_count": 42,
     "metadata": {
      "text/html": [],
      "text/plain": []
     },
     "output_type": "execute_result"
    }
   ],
   "source": [
    "OmegaReplace = Derivative[n_][\\[Phi]][OverHat[t]] :> Derivative[n-1][OverHat[\\[Omega]]][OverHat[t]];\n",
    "\n",
    "OmegaLHSMotion = RotatedLHSMotion /. OmegaReplace // TraditionalForm"
   ]
  },
  {
   "cell_type": "markdown",
   "metadata": {},
   "source": [
    "### RHS системы после поворота"
   ]
  },
  {
   "cell_type": "code",
   "execution_count": 44,
   "metadata": {
    "vscode": {
     "languageId": "wolfram"
    }
   },
   "outputs": [
    {
     "data": {
      "text/html": [
       "<div><img alt=\"Output\" src=\"data:image/png;base64,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\"></div>"
      ],
      "text/plain": [
       "FormBox[TagBox[RowBox[{\"(\", \"⁠\", \n",
       "\n",
       " \n",
       ">         TagBox[GridBox[{{RowBox[{OverscriptBox[\"r\", \"^\"], \" \", \n",
       "\n",
       " \n",
       ">               RowBox[{\"(\", RowBox[{\"-\", SubscriptBox[\"ϵ\", \"G\"]}], \")\"}], \" \", \n",
       "\n",
       " \n",
       ">               RowBox[{\"(\", RowBox[{RowBox[{RowBox[{\"sin\", \"(\", \n",
       "\n",
       " \n",
       ">                       RowBox[{\"2\", \" \", \"ϕ\"}], \")\"}], \" \", \n",
       "\n",
       " \n",
       ">                     TemplateBox[List[SubscriptBox[OverscriptBox[\"f\", \"^\"], \n",
       "\n",
       " \n",
       ">                        RowBox[List[\"x\", \",\", \"y\"]]], \"\\\"(5)\\\"\"], \"Superscript\", \n",
       "\n",
       " \n",
       ">                      Rule[SyntaxForm, SuperscriptBox]]}], \"+\", \n",
       "\n",
       " \n",
       ">                   RowBox[{RowBox[{SuperscriptBox[\"cos\", \"2\"], \"(\", \"ϕ\", \")\"}], \n",
       "\n",
       " \n",
       ">                     \" \", TemplateBox[List[SubscriptBox[OverscriptBox[\"f\", \"^\"], \n",
       "\n",
       " \n",
       ">                        RowBox[List[\"x\", \",\", \"x\"]]], \"\\\"(5)\\\"\"], \"Superscript\", \n",
       "\n",
       " \n",
       ">                      Rule[SyntaxForm, SuperscriptBox]]}], \"+\", \n",
       "\n",
       " \n",
       ">                   RowBox[{RowBox[{SuperscriptBox[\"sin\", \"2\"], \"(\", \"ϕ\", \")\"}], \n",
       "\n",
       " \n",
       ">                     \" \", TemplateBox[List[SubscriptBox[OverscriptBox[\"f\", \"^\"], \n",
       "\n",
       " \n",
       ">                        RowBox[List[\"y\", \",\", \"y\"]]], \"\\\"(5)\\\"\"], \"Superscript\", \n",
       "\n",
       " \n",
       ">                      Rule[SyntaxForm, SuperscriptBox]]}]}], \")\"}]}]}, \n",
       "\n",
       " \n",
       ">            {RowBox[{RowBox[{\"-\", FractionBox[\"1\", \"2\"]}], \" \", \n",
       "\n",
       " \n",
       ">               OverscriptBox[\"r\", \"^\"], \" \", SubscriptBox[\"ϵ\", \"G\"], \" \", \n",
       "\n",
       " \n",
       ">               RowBox[{\"(\", RowBox[{RowBox[{RowBox[{\"sin\", \"(\", \n",
       "\n",
       " \n",
       ">                       RowBox[{\"2\", \" \", \"ϕ\"}], \")\"}], \" \", \n",
       "\n",
       " \n",
       ">                     RowBox[{\"(\", RowBox[{TemplateBox[List[SubscriptBox[\n",
       "\n",
       " \n",
       ">                            OverscriptBox[\"f\", \"^\"], \n",
       "\n",
       " \n",
       ">                            RowBox[List[\"y\", \",\", \"y\"]]], \"\\\"(5)\\\"\"], \n",
       "\n",
       " \n",
       ">                          \"Superscript\", Rule[SyntaxForm, SuperscriptBox]], \"-\", \n",
       "\n",
       " \n",
       ">                         TemplateBox[List[SubscriptBox[OverscriptBox[\"f\", \"^\"], \n",
       "\n",
       " \n",
       ">                            RowBox[List[\"x\", \",\", \"x\"]]], \"\\\"(5)\\\"\"], \n",
       "\n",
       " \n",
       ">                          \"Superscript\", Rule[SyntaxForm, SuperscriptBox]]}], \")\"}]}\\\n",
       "\n",
       " \n",
       ">   ], \"+\", RowBox[{\"2\", \" \", RowBox[{\"cos\", \"(\", RowBox[{\"2\", \" \", \"ϕ\"}], \")\"}], \n",
       "\n",
       " \n",
       ">                     \" \", TemplateBox[List[SubscriptBox[OverscriptBox[\"f\", \"^\"], \n",
       "\n",
       " \n",
       ">                        RowBox[List[\"x\", \",\", \"y\"]]], \"\\\"(5)\\\"\"], \"Superscript\", \n",
       "\n",
       " \n",
       ">                      Rule[SyntaxForm, SuperscriptBox]]}]}], \")\"}]}]}}, \n",
       "\n",
       " \n",
       ">           Rule[RowSpacings, 1], Rule[ColumnAlignments, Center], \n",
       "\n",
       " \n",
       ">           Rule[ColumnAlignments, Left]], Column], \"⁠\", \")\"}], \n",
       "\n",
       " \n",
       ">       Function[BoxForm`e$, MatrixForm[BoxForm`e$]]], TraditionalForm]\n"
      ]
     },
     "execution_count": 44,
     "metadata": {
      "text/html": [],
      "text/plain": []
     },
     "output_type": "execute_result"
    }
   ],
   "source": [
    "RHSMotion = -Subscript[\\[Epsilon], G] FullSimplify[RotationMatrix[-\\[Phi][OverHat[t]]] . fh5rh, Trig -> True];\n",
    "RHSMotion // MatrixForm // TraditionalForm"
   ]
  },
  {
   "cell_type": "markdown",
   "metadata": {},
   "source": [
    "<span style=\"color:red\">**NB:**</span> Полученные выражения <span style=\"color:green\">**совпадают**</span> с уравнениями (10) и (9) из файла Binary.pdf"
   ]
  },
  {
   "cell_type": "markdown",
   "metadata": {
    "vscode": {
     "languageId": "wolfram"
    }
   },
   "source": [
    "## Получим теперь **энергетическую** систему уравнений\n",
    "\n",
    "В задача двух тел без учёта гравитационного излучения в системе центра масс в полярных координатах радиус-вектор $\\hat{r}_k$ задаётся как:\n",
    "$$\n",
    "\\hat{r}_k = \\hat{r} e_{1k} \\quad,\n",
    "$$\n",
    "где:\n",
    "- $\\hat{r}$ — расстояние между телами,\n",
    "- $e_{1k}$ — единичный вектор в направлении $\\hat{r}_k$.\n",
    "\n",
    "Скорость в полярных координатах выражается как:\n",
    "$$\n",
    "\\hat{r}_k^{(1)} = \\hat{r}^{(1)} e_{1k} + \\hat{r} \\phi^{(1)} e_{2k} \\quad,\n",
    "$$\n",
    "где:\n",
    "- $\\hat{r}^{(1)}$ — радиальная скорость\n",
    "- $\\hat{\\omega} \\equiv \\phi^{(1)}$ — угловая скорость\n",
    "- $e_{2k}$ — единичный вектор, перпендикулярный $e_{1k}$.\n",
    "\n",
    "### **Кинетическая энергия**\n",
    "Кинетическая энергия $T$ в полярных координатах выражается через радиальную и тангенциальную составляющие скорости:\n",
    "$$\n",
    "T = \\mu\\frac{b^2}{2 t_0^2} (\\hat{r}_k^{(1)})^2 = \\mu\\frac{b^2}{2 t_0^2} \\left( (\\hat{r}^{(1)})^2 + \\hat{r}^2 \\hat{\\omega}^2 \\right) = \\frac{G \\mu M}{b} \\frac{1}{2}\\left( (\\hat{r}^{(1)})^2 + \\hat{r}^2 \\hat{\\omega}^2 \\right)\n",
    "$$\n",
    "\n",
    "### **Потенциальная энергия**\n",
    "Потенциальная энергия $U$ зависит только от расстояния $\\hat{r}$:\n",
    "- Для гравитационного взаимодействия:\n",
    "  $$\n",
    "  U = -\\frac{G m_A m_B}{b \\hat{r}} = -\\frac{G \\mu M}{b \\hat{r}}.\n",
    "  $$\n",
    "\n",
    "### **Полная энергия**\n",
    "Полная энергия $E$ в полярных координатах:\n",
    "$$\n",
    "E = T + U = \\frac{G \\mu M}{b}\\left(\\frac{(\\hat{r}^{(1)})^2}{2} + \\frac{\\hat{r}^2 \\hat{\\omega}^2}{2} - \\frac{1}{\\hat{r}}\\right) = \\frac{G \\mu M}{b} \\hat{E}\n",
    "$$\n",
    "\n",
    "Здесь $\\hat{E}$ - безразмерная энергия:"
   ]
  },
  {
   "cell_type": "code",
   "execution_count": 46,
   "metadata": {
    "vscode": {
     "languageId": "wolfram"
    }
   },
   "outputs": [
    {
     "data": {
      "text/html": [
       "<div><img alt=\"Output\" src=\"data:image/png;base64,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\"></div>"
      ],
      "text/plain": [
       "FormBox[RowBox[{RowBox[{FractionBox[\"1\", \"2\"], \" \", \n",
       "\n",
       " \n",
       ">          SuperscriptBox[OverscriptBox[\"r\", \"^\"], \"2\"], \" \", \n",
       "\n",
       " \n",
       ">          SuperscriptBox[OverscriptBox[\"ω\", \"^\"], \"2\"]}], \"+\", \n",
       "\n",
       " \n",
       ">        RowBox[{FractionBox[\"1\", \"2\"], \" \", \n",
       "\n",
       " \n",
       ">          SuperscriptBox[RowBox[{\"(\", SuperscriptBox[OverscriptBox[\"r\", \"^\"], \"′\"], \n",
       "\n",
       " \n",
       ">             \")\"}], \"2\"]}], \"-\", FractionBox[\"1\", OverscriptBox[\"r\", \"^\"]]}], \n",
       "\n",
       " \n",
       ">      TraditionalForm]\n"
      ]
     },
     "execution_count": 46,
     "metadata": {
      "text/html": [],
      "text/plain": []
     },
     "output_type": "execute_result"
    }
   ],
   "source": [
    "Energy = (D[OverHat[r][OverHat[t]], OverHat[t]])^2/2 + (OverHat[r][OverHat[t]] OverHat[\\[Omega]][OverHat[t]])^2/2 - 1/OverHat[r][OverHat[t]];\n",
    "Energy // TraditionalForm"
   ]
  },
  {
   "cell_type": "markdown",
   "metadata": {},
   "source": [
    "### **Момента импульса**\n",
    "Момент импульса $J$ в системе центра масс:\n",
    "$$\n",
    "J = \\mu\\frac{b^2}{t_0} \\hat{r}^2 \\hat{\\omega} = \\mu(G M)^{1/2} b^{3/2} \\hat{r}^2 \\hat{\\omega} = \\mu(G M)^{1/2} b^{3/2} \\hat{J}\n",
    "$$\n",
    "\n",
    "Здесь $\\hat{J}$ - безразмерный момент импульса:"
   ]
  },
  {
   "cell_type": "code",
   "execution_count": 48,
   "metadata": {
    "vscode": {
     "languageId": "wolfram"
    }
   },
   "outputs": [
    {
     "data": {
      "text/html": [
       "<div><img alt=\"Output\" src=\"data:image/png;base64,iVBORw0KGgoAAAANSUhEUgAAACsAAAAeCAIAAAA6iHCJAAAAznpUWHRSYXcgcHJvZmlsZSB0eXBlIGV4aWYAAHjabU/bDQMhDPtnio6QBzgwDtfjpG7Q8RsebUVVS8TGeUBCez6ucOsQphCTZRSAHLHEItVFponJTGXEATlWjnc/cFt+dSt9E3j7x+4b1sD8M4hkCu0vuNa4GtYglelznfdj1UvNeR+ktKHQ5+t/71FNkMAWPUYhMxTXObh0QhJKhgt3wAsZp1C8OzeYeRusV2jtjR3SbK9uAerG2VfQfpJWZ/XI6hu5w0N3P2mSY2XHIuEFkwRa4AzkC/EAAAAJcEhZcwAAFiUAABYlAUlSJPAAAAA8dEVYdFNvZnR3YXJlAENyZWF0ZWQgd2l0aCB0aGUgV29sZnJhbSBMYW5ndWFnZSA6IHd3dy53b2xmcmFtLmNvbVyipoUAAAAhdEVYdENyZWF0aW9uIFRpbWUAMjAyNTowMzoxMCAyMToxNTo1NYDzkRwAAAPhSURBVEhL7VZbKLNhHN/mkJxiDlFICyW1JKeMGy4kJeHCBcppOd3IIS1cuCTlbjmVWnMoV0QYokZJiNYu5FC4cs6cGd/v7VnP9m1tz95v35eb762t9/0//+f3//2PzyP8/v4WsJ6jo6OxsbGLi4u4uLiamprQ0FDWDj7rYOD4mZmZ8fDwcHNzI6hBQUGHh4esTTzWBY51DQZDWFjY5OTkx8fH+vp6SkoKSBQVFfGwwFJlMFCr1d3d3RRkdnYWDKKioliwPNYZDPR6PcJA8d7f35GRxMREHhZYqiJaM9B8eXlBtC2rKD4+3tfXl0qurq6gkJOTw6fSOCdtkc0IlGJbWxukwcHBqHl7vHt6egIDA8GD5dhv646RTVmYm5sTCoWEV1ZW1ufnp62N09NTmF9ZWeFlnonMMTg/P0ePRUdHHxwcNDc3g4RCobAyg2qQSqWjo6O8zDuDLIC7mZmZGRkZl5eXBF2pVHp6ei4uLlJj0CkoKOjt7eVl3hlkAApQWQjs6+urJbpOp6Nj5+vrq6qqqrOzkyo8PT21tLQw2TCRCYIQPyR4a2trZ2dnd3dXJpOh3JaWlgYGBsRi8dDQUFdXF94rKipIoYArNGtra1tbWx13BFoX7L28vKzUYBE+mFsM3/39/YWFhUQPoZ6YmHB3dyefTU1NtmaQI5oye5HQaDQYpiMjI7YKZ2dnGCrb29tkydQLd3d3xNL09HRISEhfX5+Pjw9eHHSmgywsLCzAh8rKSns6qampCQkJRqPRzGBtbQ3mAwICsrOzh4eHsfD4+Pj29sZMtq0CGsrPzw/n5+3trb3t5eXlMAdNKJhm4urqKkT39/cPDw/V1dV4RwwQbV6zD8pAlMvlaN2Ojg4MD7IdLuEoQXNRNLiK942NDU5CaKalpZFlHIB/4DfdMj4+DhBvb2+klQpLSkqQ+OvraypBb0Otrq7OlAWESyTigpGfn++KeexFEoFTXFxsiRMTE5OXl2cpkUgkUCOnLmd4eXkZbUNI8Q27lf7+/j4ksbGxVI6uOT4+Tk9PpxK0ycnJCT7JbYNjgO7Hf3h4OJi6wgBldHNzAwTLa9zg4CAcTU5OpshoeLzjwmc6Y7EcGRkJEU4EF1OA7egCQGF8ESiUJByDZG9vj0gw3zi/RaLNzU0iEeAOQthptVrXGTQ0NJBKbG9vx/0Kca6vr8eRlpubq1KpysrKsAqWU1NT1JYAUSJxI/PBxQfjtrGx0d/fH5i4amByPz8/z8/PJyUlYahHRESUlpZaXXS5c8GV3Nvbi4FmebmCGqggNrb6/4qB816Z74nO7/m7mv8ZkIn0s8/PM/gFBvWQ64byJCoAAAAASUVORK5CYII=\"></div>"
      ],
      "text/plain": [
       "FormBox[RowBox[{SuperscriptBox[OverscriptBox[\"r\", \"^\"], \"2\"], \" \", \n",
       "\n",
       " \n",
       ">        OverscriptBox[\"ω\", \"^\"]}], TraditionalForm]\n"
      ]
     },
     "execution_count": 48,
     "metadata": {
      "text/html": [],
      "text/plain": []
     },
     "output_type": "execute_result"
    }
   ],
   "source": [
    "AngularMomentum = (OverHat[r][OverHat[t]])^2 OverHat[\\[Omega]][OverHat[t]];\n",
    "AngularMomentum // TraditionalForm"
   ]
  },
  {
   "cell_type": "markdown",
   "metadata": {},
   "source": [
    "Отсюда $\\frac{1}{\\hat{r}^{(1)}}\\left(\\frac{d\\hat{E}}{d\\hat{t}} - \\hat{\\omega} \\frac{d\\hat{J}}{d\\hat{t}}\\right)$"
   ]
  },
  {
   "cell_type": "code",
   "execution_count": 49,
   "metadata": {
    "vscode": {
     "languageId": "wolfram"
    }
   },
   "outputs": [
    {
     "data": {
      "text/html": [
       "<div><img alt=\"Output\" src=\"data:image/png;base64,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\"></div>"
      ],
      "text/plain": [
       "FormBox[RowBox[{RowBox[{\"-\", RowBox[{RowBox[{OverscriptBox[\"r\", \"^\"]}], \" \", \n",
       "\n",
       " \n",
       ">            SuperscriptBox[OverscriptBox[\"ω\", \"^\"], \"2\"]}]}], \"+\", \n",
       "\n",
       " \n",
       ">        SuperscriptBox[OverscriptBox[\"r\", \"^\"], \"′′\"], \"+\", \n",
       "\n",
       " \n",
       ">        FractionBox[\"1\", SuperscriptBox[OverscriptBox[\"r\", \"^\"], \"2\"]]}],\\\n",
       " \n",
       ">    TraditionalForm]\n"
      ]
     },
     "execution_count": 49,
     "metadata": {
      "text/html": [],
      "text/plain": []
     },
     "output_type": "execute_result"
    }
   ],
   "source": [
    "Simplify[(D[Energy, OverHat[t]] - (AngularMomentum/OverHat[r][OverHat[t]]^2)(D[AngularMomentum, OverHat[t]]))/(D[OverHat[r][OverHat[t]], OverHat[t]])] // TraditionalForm"
   ]
  },
  {
   "cell_type": "markdown",
   "metadata": {},
   "source": [
    "Что совпадает с **первой** строкой повернутой LHS системы движения"
   ]
  },
  {
   "cell_type": "markdown",
   "metadata": {},
   "source": [
    "Отсюда $\\frac{1}{\\hat{r}}\\frac{d\\hat{J}}{d\\hat{t}}$"
   ]
  },
  {
   "cell_type": "code",
   "execution_count": 50,
   "metadata": {
    "vscode": {
     "languageId": "wolfram"
    }
   },
   "outputs": [
    {
     "data": {
      "text/html": [
       "<div><img alt=\"Output\" src=\"data:image/png;base64,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\"></div>"
      ],
      "text/plain": [
       "FormBox[RowBox[{RowBox[{\"2\", \" \", OverscriptBox[\"ω\", \"^\"], \" \", \n",
       "\n",
       " \n",
       ">          SuperscriptBox[OverscriptBox[\"r\", \"^\"], \"′\"]}], \"+\", \n",
       "\n",
       " \n",
       ">        RowBox[{OverscriptBox[\"r\", \"^\"], \" \", \n",
       "\n",
       " \n",
       ">          SuperscriptBox[OverscriptBox[\"ω\", \"^\"], \"′\"]}]}], TraditionalForm]\n"
      ]
     },
     "execution_count": 50,
     "metadata": {
      "text/html": [],
      "text/plain": []
     },
     "output_type": "execute_result"
    }
   ],
   "source": [
    "Simplify[D[AngularMomentum, OverHat[t]]/OverHat[r][OverHat[t]]] // TraditionalForm"
   ]
  },
  {
   "cell_type": "markdown",
   "metadata": {},
   "source": [
    "Что совпадает со **второй** строкой повернутой LHS системы движения"
   ]
  },
  {
   "cell_type": "markdown",
   "metadata": {},
   "source": [
    "Таким образом, мы можем выписать новую **энергетическую** систему уравнений\n",
    "\n",
    "$$\n",
    "\\begin{align}\n",
    "\\frac{d\\hat{E}}{d\\hat{t}} &= - \\epsilon_G \\left(\\hat{r}^{(1)} R_{xi}(-\\phi) \\hat{f}_{ij}^{(5)}\\hat{r}_j + \\hat{r}\\hat\\omega R_{yi}(-\\phi) \\hat{f}_{ij}^{(5)}\\hat{r}_j \\right)\n",
    "\\\\\n",
    "\\frac{d\\hat{J}}{d\\hat{t}} &= - \\epsilon_G \\hat{r} R_{yi}(-\\phi) \\hat{f}_{ij}^{(5)}\\hat{r}_j\n",
    "\\end{align}\n",
    "$$"
   ]
  },
  {
   "cell_type": "markdown",
   "metadata": {},
   "source": [
    "Или\n",
    "\n",
    "$$\n",
    "\\left(\\frac{d\\hat{E}}{d\\hat{t}}, \\frac{d\\hat{J}}{d\\hat{t}}\\right) = - \\epsilon_G T_{nk} R_{ki}(-\\phi) \\hat{f}_{ij}^{(5)}\\hat{r}_j\\quad,\n",
    "$$\n",
    "\n",
    "Чтобы перейти в размерный вид, достаточно положить $\\epsilon_G \\equiv \\frac{2}{5}\\mu$."
   ]
  },
  {
   "cell_type": "markdown",
   "metadata": {},
   "source": [
    "Здесь\n",
    "$$\n",
    "T = \n",
    "\\begin{bmatrix}\n",
    "\\hat{r}^{(1)} & \\hat{r}\\hat{\\omega} \\\\\n",
    "0 & \\hat{r}\n",
    "\\end{bmatrix}\n",
    "$$\n",
    "матрица трансформации:"
   ]
  },
  {
   "cell_type": "code",
   "execution_count": 52,
   "metadata": {
    "vscode": {
     "languageId": "wolfram"
    }
   },
   "outputs": [
    {
     "data": {
      "text/html": [
       "<div><img alt=\"Output\" src=\"data:image/png;base64,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\"></div>"
      ],
      "text/plain": [
       "FormBox[TagBox[RowBox[{\"(\", \"⁠\", \n",
       "\n",
       " \n",
       ">         GridBox[{{SuperscriptBox[OverscriptBox[\"r\", \"^\"], \"′\"], \n",
       "\n",
       " \n",
       ">            RowBox[{OverscriptBox[\"r\", \"^\"], \" \", OverscriptBox[\"ω\", \"^\"]}]}, \n",
       "\n",
       " \n",
       ">           {\"0\", OverscriptBox[\"r\", \"^\"]}}, Rule[RowSpacings, 1], \n",
       "\n",
       " \n",
       ">          Rule[ColumnSpacings, 1], Rule[RowAlignments, Baseline], \n",
       "\n",
       " \n",
       ">          Rule[ColumnAlignments, Center]], \"⁠\", \")\"}], \n",
       "\n",
       " \n",
       ">       Function[BoxForm`e$, MatrixForm[BoxForm`e$]]], TraditionalForm]\n"
      ]
     },
     "execution_count": 52,
     "metadata": {
      "text/html": [],
      "text/plain": []
     },
     "output_type": "execute_result"
    }
   ],
   "source": [
    "Transform = {{D[OverHat[r][OverHat[t]], OverHat[t]], OverHat[r][OverHat[t]] OverHat[\\[Omega]][OverHat[t]]}, {0, OverHat[r][OverHat[t]]}};\n",
    "Transform // MatrixForm // TraditionalForm"
   ]
  },
  {
   "cell_type": "markdown",
   "metadata": {},
   "source": [
    "Итак правая часть энергетической системы запишется как"
   ]
  },
  {
   "cell_type": "code",
   "execution_count": 54,
   "metadata": {
    "vscode": {
     "languageId": "wolfram"
    }
   },
   "outputs": [
    {
     "data": {
      "text/html": [
       "<div><img alt=\"Output\" src=\"data:image/png;base64,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\"></div>"
      ],
      "text/plain": [
       "FormBox[TagBox[RowBox[{\"(\", \"⁠\", \n",
       "\n",
       " \n",
       ">         TagBox[GridBox[{{RowBox[{FractionBox[\"1\", \"2\"], \" \", \n",
       "\n",
       " \n",
       ">               OverscriptBox[\"r\", \"^\"], \" \", SubscriptBox[\"ϵ\", \"G\"], \" \", \n",
       "\n",
       " \n",
       ">               RowBox[{\"(\", RowBox[{RowBox[{OverscriptBox[\"r\", \"^\"], \" \", \n",
       "\n",
       " \n",
       ">                     OverscriptBox[\"ω\", \"^\"], \" \", \n",
       "\n",
       " \n",
       ">                     RowBox[{\"(\", RowBox[{RowBox[{RowBox[{\"sin\", \"(\", \n",
       "\n",
       " \n",
       ">                             RowBox[{\"2\", \" \", \"ϕ\"}], \")\"}], \" \", \n",
       "\n",
       " \n",
       ">                           RowBox[{\"(\", \n",
       "\n",
       " \n",
       ">                             RowBox[{TemplateBox[List[SubscriptBox[\n",
       "\n",
       " \n",
       ">                            OverscriptBox[\"f\", \"^\"], \n",
       "\n",
       " \n",
       ">                            RowBox[List[\"x\", \",\", \"x\"]]], \"\\\"(5)\\\"\"], \n",
       "\n",
       " \n",
       ">                             \"Superscript\", Rule[SyntaxForm, SuperscriptBox]], \n",
       "\n",
       " \n",
       ">                             \"-\", \n",
       "\n",
       " \n",
       ">                             TemplateBox[List[SubscriptBox[OverscriptB\\\n",
       "\n",
       " \n",
       ">   ox[\"f\", \"^\"], RowBox[List[\"y\", \",\", \"y\"]]], \"\\\"(5)\\\"\"], \"Superscript\", \n",
       "\n",
       " \n",
       ">                             Rule[SyntaxForm, SuperscriptBox]]}], \")\"}]}], \"-\", \n",
       "\n",
       " \n",
       ">                         RowBox[{\"2\", \" \", \n",
       "\n",
       " \n",
       ">                           RowBox[{\"cos\", \"(\", RowBox[{\"2\", \" \", \"ϕ\"}], \")\"}], \n",
       "\n",
       " \n",
       ">                           \" \", TemplateBox[List[SubscriptBox[OverscriptB\\\n",
       "\n",
       " \n",
       ">   ox[\"f\", \"^\"], RowBox[List[\"x\", \",\", \"y\"]]], \"\\\"(5)\\\"\"], \"Superscript\", \n",
       "\n",
       " \n",
       ">                            Rule[SyntaxForm, SuperscriptBox]]}]}], \")\"}]}], \"-\", \n",
       "\n",
       " \n",
       ">                   RowBox[{\"2\", \" \", SuperscriptBox[OverscriptBox[\"r\", \"^\"], \"′\"], \n",
       "\n",
       " \n",
       ">                     \" \", RowBox[{\"(\", \n",
       "\n",
       " \n",
       ">                       RowBox[{RowBox[{RowBox[{\"sin\", \"(\", \n",
       "\n",
       " \n",
       ">                             RowBox[{\"2\", \" \", \"ϕ\"}], \")\"}], \" \", \n",
       "\n",
       " \n",
       ">                           TemplateBox[List[SubscriptBox[OverscriptBox[\"f\", \n",
       "\n",
       " \n",
       ">                             \"^\"], RowBox[List[\"x\", \",\", \"y\"]]], \"\\\"(5)\\\"\"], \n",
       "\n",
       " \n",
       ">                            \"Superscript\", Rule[SyntaxForm, SuperscriptBox]]}], \n",
       "\n",
       " \n",
       ">                         \"+\", RowBox[{RowBox[{SuperscriptBox[\"cos\", \"2\"], \"(\", \n",
       "\n",
       " \n",
       ">                             \"ϕ\", \")\"}], \" \", \n",
       "\n",
       " \n",
       ">                           TemplateBox[List[SubscriptBox[OverscriptBox[\"f\", \n",
       "\n",
       " \n",
       ">                             \"^\"], RowBox[List[\"x\", \",\", \"x\"]]], \"\\\"(5)\\\"\"], \n",
       "\n",
       " \n",
       ">                            \"Superscript\", Rule[SyntaxForm, SuperscriptBox]]}], \n",
       "\n",
       " \n",
       ">                         \"+\", RowBox[{RowBox[{SuperscriptBox[\"sin\", \"2\"], \"(\", \n",
       "\n",
       " \n",
       ">                             \"ϕ\", \")\"}], \" \", \n",
       "\n",
       " \n",
       ">                           TemplateBox[List[SubscriptBox[OverscriptBox[\"f\", \n",
       "\n",
       " \n",
       ">                             \"^\"], RowBox[List[\"y\", \",\", \"y\"]]], \"\\\"(5)\\\"\"], \n",
       "\n",
       " \n",
       ">                            \"Superscript\", Rule[SyntaxForm, SuperscriptBox]]}]}], \n",
       "\n",
       " \n",
       ">                       \")\"}]}]}], \")\"}]}]}, \n",
       "\n",
       " \n",
       ">            {RowBox[{RowBox[{\"-\", FractionBox[\"1\", \"2\"]}], \" \", \n",
       "\n",
       " \n",
       ">               SuperscriptBox[OverscriptBox[\"r\", \"^\"], \"2\"], \" \", \n",
       "\n",
       " \n",
       ">               SubscriptBox[\"ϵ\", \"G\"], \" \", \n",
       "\n",
       " \n",
       ">               RowBox[{\"(\", RowBox[{RowBox[{RowBox[{\"sin\", \"(\", \n",
       "\n",
       " \n",
       ">                       RowBox[{\"2\", \" \", \"ϕ\"}], \")\"}], \" \", \n",
       "\n",
       " \n",
       ">                     RowBox[{\"(\", RowBox[{TemplateBox[List[SubscriptBox[\n",
       "\n",
       " \n",
       ">                            OverscriptBox[\"f\", \"^\"], \n",
       "\n",
       " \n",
       ">                            RowBox[List[\"y\", \",\", \"y\"]]], \"\\\"(5)\\\"\"], \n",
       "\n",
       " \n",
       ">                          \"Superscript\", Rule[SyntaxForm, SuperscriptBox]], \"-\", \n",
       "\n",
       " \n",
       ">                         TemplateBox[List[SubscriptBox[OverscriptBox[\"f\", \"^\"], \n",
       "\n",
       " \n",
       ">                            RowBox[List[\"x\", \",\", \"x\"]]], \"\\\"(5)\\\"\"], \n",
       "\n",
       " \n",
       ">                          \"Superscript\", Rule[SyntaxForm, SuperscriptBox]]}], \")\"}]}\\\n",
       "\n",
       " \n",
       ">   ], \"+\", RowBox[{\"2\", \" \", RowBox[{\"cos\", \"(\", RowBox[{\"2\", \" \", \"ϕ\"}], \")\"}], \n",
       "\n",
       " \n",
       ">                     \" \", TemplateBox[List[SubscriptBox[OverscriptBox[\"f\", \"^\"], \n",
       "\n",
       " \n",
       ">                        RowBox[List[\"x\", \",\", \"y\"]]], \"\\\"(5)\\\"\"], \"Superscript\", \n",
       "\n",
       " \n",
       ">                      Rule[SyntaxForm, SuperscriptBox]]}]}], \")\"}]}]}}, \n",
       "\n",
       " \n",
       ">           Rule[RowSpacings, 1], Rule[ColumnAlignments, Center], \n",
       "\n",
       " \n",
       ">           Rule[ColumnAlignments, Left]], Column], \"⁠\", \")\"}], \n",
       "\n",
       " \n",
       ">       Function[BoxForm`e$, MatrixForm[BoxForm`e$]]], TraditionalForm]\n"
      ]
     },
     "execution_count": 54,
     "metadata": {
      "text/html": [],
      "text/plain": []
     },
     "output_type": "execute_result"
    }
   ],
   "source": [
    "RHSEnegry = FullSimplify[Transform . RHSMotion, Trig -> True];\n",
    "RHSEnegry // MatrixForm // TraditionalForm"
   ]
  },
  {
   "cell_type": "markdown",
   "metadata": {},
   "source": [
    "## Другой Способ получения уравнений движения и энергетических уравнений через лагранжев формализм в полярных координатах"
   ]
  },
  {
   "cell_type": "markdown",
   "metadata": {},
   "source": [
    "### **Лагранжиан системы**\n",
    "Лагранжиан $L$ в полярных координатах $(r, \\phi)$ выражается как:\n",
    "$$\n",
    "L = T - (U + \\mu\\Phi),\n",
    "$$\n",
    "где:\n",
    "- $T$ — кинетическая энергия,\n",
    "- $U$ — потенциальная энергия\n",
    "- $\\Phi = \\frac{1}{5}f_{ij}^{(5)}r_i r_j = \\frac{\\epsilon_G}{2}\\frac{b^2}{t_0^2}\\hat{f}_{ij}^{(5)}\\hat{r}_i \\hat{r}_j = \\frac{5}{2}\\epsilon_G\\frac{GM}{b}\\hat{\\Phi}$ - малый потенциал \"реакции излучения\""
   ]
  },
  {
   "cell_type": "markdown",
   "metadata": {},
   "source": [
    "Безразмерный малый потенциал \"реакции излучения\" $\\hat{\\Phi} = \\frac{1}{5}\\hat{f}_{ij}^{(5)}\\hat{r}_i\\hat{r}_j$"
   ]
  },
  {
   "cell_type": "code",
   "execution_count": 56,
   "metadata": {
    "vscode": {
     "languageId": "wolfram"
    }
   },
   "outputs": [
    {
     "data": {
      "text/html": [
       "<div><img alt=\"Output\" src=\"data:image/png;base64,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\"></div>"
      ],
      "text/plain": [
       "FormBox[RowBox[{FractionBox[\"1\", \"5\"], \" \", \n",
       "\n",
       " \n",
       ">        RowBox[{\"(\", RowBox[{RowBox[{OverscriptBox[\"r\", \"^\"], \" \", \n",
       "\n",
       " \n",
       ">              RowBox[{\"cos\", \"(\", \"ϕ\", \")\"}], \" \", \n",
       "\n",
       " \n",
       ">              RowBox[{\"(\", RowBox[{RowBox[{OverscriptBox[\"r\", \"^\"], \" \", \n",
       "\n",
       " \n",
       ">                    RowBox[{\"sin\", \"(\", \"ϕ\", \")\"}], \" \", \n",
       "\n",
       " \n",
       ">                    TemplateBox[List[SubscriptBox[OverscriptBox[\"f\", \"^\"], \n",
       "\n",
       " \n",
       ">                       RowBox[List[\"x\", \",\", \"y\"]]], \"\\\"(5)\\\"\"], \"Superscript\", \n",
       "\n",
       " \n",
       ">                     Rule[SyntaxForm, SuperscriptBox]]}], \"+\", \n",
       "\n",
       " \n",
       ">                  RowBox[{OverscriptBox[\"r\", \"^\"], \" \", \n",
       "\n",
       " \n",
       ">                    RowBox[{\"cos\", \"(\", \"ϕ\", \")\"}], \" \", \n",
       "\n",
       " \n",
       ">                    TemplateBox[List[SubscriptBox[OverscriptBox[\"f\", \"^\"], \n",
       "\n",
       " \n",
       ">                       RowBox[List[\"x\", \",\", \"x\"]]], \"\\\"(5)\\\"\"], \"Superscript\", \n",
       "\n",
       " \n",
       ">                     Rule[SyntaxForm, SuperscriptBox]]}]}], \")\"}]}], \"+\", \n",
       "\n",
       " \n",
       ">            RowBox[{OverscriptBox[\"r\", \"^\"], \" \", RowBox[{\"sin\", \"(\", \"ϕ\", \")\"}], \" \", \n",
       "\n",
       " \n",
       ">              RowBox[{\"(\", RowBox[{RowBox[{OverscriptBox[\"r\", \"^\"], \" \", \n",
       "\n",
       " \n",
       ">                    RowBox[{\"cos\", \"(\", \"ϕ\", \")\"}], \" \", \n",
       "\n",
       " \n",
       ">                    TemplateBox[List[SubscriptBox[OverscriptBox[\"f\", \"^\"], \n",
       "\n",
       " \n",
       ">                       RowBox[List[\"x\", \",\", \"y\"]]], \"\\\"(5)\\\"\"], \"Superscript\", \n",
       "\n",
       " \n",
       ">                     Rule[SyntaxForm, SuperscriptBox]]}], \"+\", \n",
       "\n",
       " \n",
       ">                  RowBox[{OverscriptBox[\"r\", \"^\"], \" \", RowBox[{\"sin\", \"(\", \"ϕ\", \")\"}],\\\n",
       " \n",
       ">    \n",
       "                 \" \", TemplateBox[List[SubscriptBox[OverscriptBox[\"f\", \"^\"], \n",
       "\n",
       " \n",
       ">                       RowBox[List[\"y\", \",\", \"y\"]]], \"\\\"(5)\\\"\"], \"Superscript\", \n",
       "\n",
       " \n",
       ">                     Rule[SyntaxForm, SuperscriptBox]]}]}], \")\"}]}]}], \")\"}]}], \n",
       "\n",
       " \n",
       ">      TraditionalForm]\n"
      ]
     },
     "execution_count": 56,
     "metadata": {
      "text/html": [],
      "text/plain": []
     },
     "output_type": "execute_result"
    }
   ],
   "source": [
    "fh5rhrh = 1/5 EinsteinSummation[{{i, j}, {i}, {j}}, {fh5, rh, rh}];\n",
    "fh5rhrh // TraditionalForm"
   ]
  },
  {
   "cell_type": "markdown",
   "metadata": {},
   "source": [
    "Безразмерный лагранжиан\n",
    "\n",
    "$$\n",
    "\\hat{L} = \\hat{T} - (\\hat{U} + \\frac{5}{2}\\epsilon_G\\hat{\\Phi}),\n",
    "$$\n",
    "или\n",
    "$$\n",
    "\\hat{L} = \\frac{1}{2} \\left((\\hat{r}^{(1)})^2 + \\hat{r}^2 \\hat{\\omega}^2 \\right) + \\frac{1}{\\hat{r}} - \\frac{\\epsilon_G}{2}\\hat{f}_{ij}^{(5)}\\hat{r}_i \\hat{r}_j.\n",
    "$$"
   ]
  },
  {
   "cell_type": "markdown",
   "metadata": {},
   "source": [
    "### **Уравнения Эйлера-Лагранжа**\n",
    "Уравнения Эйлера-Лагранжа имеют вид:\n",
    "$$\n",
    "\\frac{d}{dt} \\left( \\frac{\\partial \\hat{L}}{\\partial \\dot{q}_i} \\right) - \\frac{\\partial \\hat{L}}{\\partial q_i} = 0,\n",
    "$$\n",
    "где $q_i$ — обобщённые координаты ($\\hat{r}$ и $\\phi$)."
   ]
  },
  {
   "cell_type": "markdown",
   "metadata": {},
   "source": [
    "---\n",
    "\n",
    "#### Уравнение для координаты $\\hat{r}$:\n",
    "$$\n",
    "\\frac{d}{d\\hat{t}} \\left(\\frac{\\partial \\hat{L}}{\\partial \\hat{r}^{(1)}} \\right) - \\frac{\\partial \\hat{L}}{\\partial \\hat{r}} = 0.\n",
    "$$\n",
    "Вычислим производные:\n",
    "$$\n",
    "\\frac{\\partial \\hat{L}}{\\partial \\hat{r}^{(1)}} = \\hat{r}^{(1)}, \\quad \\frac{d}{d\\hat{t}} \\left( \\frac{\\partial \\hat{L}}{\\partial \\hat{r}^{(1)}} \\right) = \\hat{r}^{(2)},\n",
    "$$\n",
    "$$\n",
    "\\frac{\\partial \\hat{L}}{\\partial \\hat{r}} = \\hat{r} \\hat{\\omega}^2 - \\frac{1}{\\hat{r}^2} - \\frac{5}{2}\\epsilon_G\\frac{\\partial \\hat{\\Phi}}{\\partial \\hat{r}}.\n",
    "$$\n",
    "Подставляем в уравнение Эйлера-Лагранжа:\n",
    "$$\n",
    "\\hat{r}^{(2)} - \\hat{r} \\hat{\\omega}^2 + \\frac{1}{\\hat{r}^2} = - \\frac{5}{2}\\epsilon_G\\frac{\\partial \\hat{\\Phi}}{\\partial \\hat{r}}.\n",
    "$$\n",
    "\n",
    "Это **радиальное уравнение движения**.\n",
    "\n",
    "Здесь \n",
    "$$\n",
    "\\frac{\\partial \\hat{\\Phi}}{\\partial \\hat{r}} = \\frac{1}{5}\\hat{f}_{ij}^{(5)}\\left(\\frac{\\partial \\hat{r}_i}{\\partial \\hat{r}}\\hat{r}_j + \\hat{r}_i\\frac{\\partial \\hat{r}_j}{\\partial \\hat{r}}\\right)\n",
    "$$\n",
    "<span style=\"color:red\">**TODO:**</span> Обсудить почему $\\hat{f}_{ij}^{(5)}$ берётся заданной функцией, не зависящей от $\\hat{r}$ при вариации лагранжиана."
   ]
  },
  {
   "cell_type": "markdown",
   "metadata": {},
   "source": [
    "Правая часть радиального уравнения движения будет выглядеть как"
   ]
  },
  {
   "cell_type": "code",
   "execution_count": 58,
   "metadata": {
    "vscode": {
     "languageId": "wolfram"
    }
   },
   "outputs": [
    {
     "data": {
      "text/html": [
       "<div><img alt=\"Output\" src=\"data:image/png;base64,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\"></div>"
      ],
      "text/plain": [
       "FormBox[RowBox[{OverscriptBox[\"r\", \"^\"], \" \", \n",
       "\n",
       " \n",
       ">        RowBox[{\"(\", RowBox[{\"-\", SubscriptBox[\"ϵ\", \"G\"]}], \")\"}], \" \", \n",
       "\n",
       " \n",
       ">        RowBox[{\"(\", RowBox[{RowBox[{RowBox[{\"sin\", \"(\", RowBox[{\"2\", \" \", \"ϕ\"}], \n",
       "\n",
       " \n",
       ">                \")\"}], \" \", TemplateBox[List[SubscriptBox[OverscriptBox[\"f\", \"^\"], \n",
       "\n",
       " \n",
       ">                 RowBox[List[\"x\", \",\", \"y\"]]], \"\\\"(5)\\\"\"], \"Superscript\", \n",
       "\n",
       " \n",
       ">               Rule[SyntaxForm, SuperscriptBox]]}], \"+\", \n",
       "\n",
       " \n",
       ">            RowBox[{RowBox[{SuperscriptBox[\"cos\", \"2\"], \"(\", \"ϕ\", \")\"}], \" \", \n",
       "\n",
       " \n",
       ">              TemplateBox[List[SubscriptBox[OverscriptBox[\"f\", \"^\"], \n",
       "\n",
       " \n",
       ">                 RowBox[List[\"x\", \",\", \"x\"]]], \"\\\"(5)\\\"\"], \"Superscript\", \n",
       "\n",
       " \n",
       ">               Rule[SyntaxForm, SuperscriptBox]]}], \"+\", \n",
       "\n",
       " \n",
       ">            RowBox[{RowBox[{SuperscriptBox[\"sin\", \"2\"], \"(\", \"ϕ\", \")\"}], \" \", \n",
       "\n",
       " \n",
       ">              TemplateBox[List[SubscriptBox[OverscriptBox[\"f\", \"^\"], \n",
       "\n",
       " \n",
       ">                 RowBox[List[\"y\", \",\", \"y\"]]], \"\\\"(5)\\\"\"], \"Superscript\", \n",
       "\n",
       " \n",
       ">               Rule[SyntaxForm, SuperscriptBox]]}]}], \")\"}]}], TraditionalForm]\n"
      ]
     },
     "execution_count": 58,
     "metadata": {
      "text/html": [],
      "text/plain": []
     },
     "output_type": "execute_result"
    }
   ],
   "source": [
    "RHSMotionRadialLagrange = - 1/2 Subscript[\\[Epsilon], G] FullSimplify[EinsteinSummation[{{i, j}, {i}, {j}}, {fh5, D[rh, OverHat[r][OverHat[t]]], rh}] + EinsteinSummation[{{i, j}, {i}, {j}}, {fh5, rh, D[rh, OverHat[r][OverHat[t]]]}]];\n",
    "RHSMotionRadialLagrange // TraditionalForm"
   ]
  },
  {
   "cell_type": "markdown",
   "metadata": {},
   "source": [
    "<span style=\"color:red\">**NB:**</span> Выражение <span style=\"color:green\">**совпадает**</span> с раннее полученным уравнением и с уравнением (10) из файла Binary.pdf"
   ]
  },
  {
   "cell_type": "code",
   "execution_count": 59,
   "metadata": {
    "vscode": {
     "languageId": "wolfram"
    }
   },
   "outputs": [
    {
     "data": {
      "text/html": [
       "<div><pre style=\"&#102;&#111;&#110;&#116;&#45;&#102;&#97;&#109;&#105;&#108;&#121;&#58;&#32;&#34;&#67;&#111;&#117;&#114;&#105;&#101;&#114;&#32;&#78;&#101;&#119;&#34;&#44;&#67;&#111;&#117;&#114;&#105;&#101;&#114;&#44;&#109;&#111;&#110;&#111;&#115;&#112;&#97;&#99;&#101;&#59;\">&#48;</pre></div>"
      ],
      "text/plain": [
       "0"
      ]
     },
     "execution_count": 59,
     "metadata": {
      "text/html": [],
      "text/plain": []
     },
     "output_type": "execute_result"
    }
   ],
   "source": [
    "RHSMotion[[1]] - RHSMotionRadialLagrange"
   ]
  },
  {
   "cell_type": "markdown",
   "metadata": {},
   "source": [
    "---\n",
    "\n",
    "#### Уравнение для координаты $\\phi$:\n",
    "$$\n",
    "\\frac{d}{d\\hat{t}} \\left(\\frac{\\partial \\hat{L}}{\\partial \\hat{\\omega}} \\right) - \\frac{\\partial \\hat{L}}{\\partial \\phi} = 0.\n",
    "$$\n",
    "Вычислим производные:\n",
    "$$\n",
    "\\frac{\\partial \\hat{L}}{\\partial \\hat{\\omega}} = \\hat{r}^2 \\hat{\\omega}, \\quad \\frac{d}{d\\hat{t}} \\left( \\frac{\\partial \\hat{L}}{\\partial \\hat{\\omega}} \\right) = \\frac{d}{d\\hat{t}} \\left( \\hat{r}^2 \\hat{\\omega} \\right),\n",
    "$$\n",
    "$$\n",
    "\\frac{\\partial \\hat{L}}{\\partial \\phi} = - \\frac{5}{2}\\epsilon_G\\frac{\\partial \\hat{\\Phi}}{\\partial \\phi}.\n",
    "$$\n",
    "Подставляем в уравнение Эйлера-Лагранжа:\n",
    "$$\n",
    "\\frac{1}{\\hat{r}}\\frac{d}{d\\hat{t}} \\left( \\hat{r}^2 \\hat{\\omega} \\right) = \\frac{1}{\\hat{r}}\\frac{d\\hat{J}}{d\\hat{t}} = - \\frac{5}{2}\\frac{\\epsilon_G}{\\hat{r}}\\frac{\\partial \\hat{\\Phi}}{\\partial \\phi}.\n",
    "$$\n",
    "\n",
    "Здесь \n",
    "$$\n",
    "\\frac{\\partial \\hat{\\Phi}}{\\partial \\phi} = \\frac{1}{5}\\hat{f}_{ij}^{(5)}\\left(\\frac{\\partial \\hat{r}_i}{\\partial \\phi}\\hat{r}_j + \\hat{r}_i\\frac{\\partial \\hat{r}_j}{\\partial \\phi}\\right)\n",
    "$$\n",
    "<span style=\"color:red\">**TODO:**</span> Обсудить почему $\\hat{f}_{ij}^{(5)}$ берётся заданной функцией, не зависящей от $\\phi$ при вариации лагранжиана."
   ]
  },
  {
   "cell_type": "markdown",
   "metadata": {},
   "source": [
    "Правая часть уравнения движения для $\\phi$ будет выглядеть как"
   ]
  },
  {
   "cell_type": "code",
   "execution_count": 61,
   "metadata": {
    "vscode": {
     "languageId": "wolfram"
    }
   },
   "outputs": [
    {
     "data": {
      "text/html": [
       "<div><img alt=\"Output\" src=\"data:image/png;base64,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\"></div>"
      ],
      "text/plain": [
       "FormBox[RowBox[{RowBox[{\"-\", FractionBox[\"1\", \"2\"]}], \" \", OverscriptBox[\"r\", \"^\"], \n",
       "\n",
       " \n",
       ">        \" \", SubscriptBox[\"ϵ\", \"G\"], \" \", \n",
       "\n",
       " \n",
       ">        RowBox[{\"(\", RowBox[{RowBox[{RowBox[{\"sin\", \"(\", RowBox[{\"2\", \" \", \"ϕ\"}], \n",
       "\n",
       " \n",
       ">                \")\"}], \" \", RowBox[{\"(\", \n",
       "\n",
       " \n",
       ">                RowBox[{TemplateBox[List[SubscriptBox[OverscriptBox[\"f\", \"^\"], \n",
       "\n",
       " \n",
       ">                     RowBox[List[\"y\", \",\", \"y\"]]], \"\\\"(5)\\\"\"], \"Superscript\", \n",
       "\n",
       " \n",
       ">                   Rule[SyntaxForm, SuperscriptBox]], \"-\", \n",
       "\n",
       " \n",
       ">                  TemplateBox[List[SubscriptBox[OverscriptBox[\"f\", \"^\"], \n",
       "\n",
       " \n",
       ">                     RowBox[List[\"x\", \",\", \"x\"]]], \"\\\"(5)\\\"\"], \"Superscript\", \n",
       "\n",
       " \n",
       ">                   Rule[SyntaxForm, SuperscriptBox]]}], \")\"}]}], \"+\", \n",
       "\n",
       " \n",
       ">            RowBox[{\"2\", \" \", RowBox[{\"cos\", \"(\", RowBox[{\"2\", \" \", \"ϕ\"}], \")\"}], \" \", \n",
       "\n",
       " \n",
       ">              TemplateBox[List[SubscriptBox[OverscriptBox[\"f\", \"^\"], \n",
       "\n",
       " \n",
       ">                 RowBox[List[\"x\", \",\", \"y\"]]], \"\\\"(5)\\\"\"], \"Superscript\", \n",
       "\n",
       " \n",
       ">               Rule[SyntaxForm, SuperscriptBox]]}]}], \")\"}]}], TraditionalForm]\n"
      ]
     },
     "execution_count": 61,
     "metadata": {
      "text/html": [],
      "text/plain": []
     },
     "output_type": "execute_result"
    }
   ],
   "source": [
    "RHSMotionPhiLagrange = - 1/2 Subscript[\\[Epsilon], G] FullSimplify[EinsteinSummation[{{i, j}, {i}, {j}}, {fh5, D[rh, \\[Phi][OverHat[t]]], rh}] + EinsteinSummation[{{i, j}, {i}, {j}}, {fh5, rh, D[rh, \\[Phi][OverHat[t]]]}]]/OverHat[r][OverHat[t]];\n",
    "RHSMotionPhiLagrange // TraditionalForm"
   ]
  },
  {
   "cell_type": "markdown",
   "metadata": {},
   "source": [
    "<span style=\"color:red\">**NB:**</span> Выражение <span style=\"color:green\">**совпадает**</span> с раннее полученным уравнением и с уравнением (9) из файла Binary.pdf"
   ]
  },
  {
   "cell_type": "code",
   "execution_count": 62,
   "metadata": {
    "vscode": {
     "languageId": "wolfram"
    }
   },
   "outputs": [
    {
     "data": {
      "text/html": [
       "<div><pre style=\"&#102;&#111;&#110;&#116;&#45;&#102;&#97;&#109;&#105;&#108;&#121;&#58;&#32;&#34;&#67;&#111;&#117;&#114;&#105;&#101;&#114;&#32;&#78;&#101;&#119;&#34;&#44;&#67;&#111;&#117;&#114;&#105;&#101;&#114;&#44;&#109;&#111;&#110;&#111;&#115;&#112;&#97;&#99;&#101;&#59;\">&#48;</pre></div>"
      ],
      "text/plain": [
       "0"
      ]
     },
     "execution_count": 62,
     "metadata": {
      "text/html": [],
      "text/plain": []
     },
     "output_type": "execute_result"
    }
   ],
   "source": [
    "RHSMotion[[2]] - RHSMotionPhiLagrange"
   ]
  },
  {
   "cell_type": "markdown",
   "metadata": {},
   "source": [
    "## Получим **энергетическую** систему уравнений в подходе Лагранжа"
   ]
  },
  {
   "cell_type": "markdown",
   "metadata": {},
   "source": [
    "Заметим, что энергия системы:\n",
    "$$\n",
    "\\hat{E} = \\frac{(\\hat{r}^{(1)})^2}{2} + \\frac{\\hat{r}^2 \\hat{\\omega}^2}{2} - \\frac{1}{\\hat{r}}\n",
    "$$\n",
    "$$\n",
    "\\frac{1}{\\hat{r}^{(1)}}\\left(\\frac{d\\hat{E}}{d\\hat{t}} - \\hat{\\omega} \\frac{d\\hat{J}}{d\\hat{t}}\\right) = \\hat{r}^{(2)} - \\hat{r} \\hat{\\omega}^2 + \\frac{1}{\\hat{r}^2}\n",
    "$$\n",
    "\n",
    "А также уравнение для изменения момента импульса системы есть\n",
    "$$\n",
    "\\frac{d\\hat{J}}{d\\hat{t}} = - \\frac{5}{2}\\epsilon_G\\frac{\\partial \\hat{\\Phi}}{\\partial \\phi}.\n",
    "$$\n",
    "\n",
    "Итоговая энергетическая система, выведенная по-новому будет записываться как:\n",
    "\n",
    "$$\n",
    "\\begin{align}\n",
    "\\frac{d\\hat{E}}{d\\hat{t}} &= - \\frac{5}{2}\\epsilon_G\\left(\\hat{r}^{(1)}\\frac{\\partial \\hat{\\Phi}}{\\partial \\hat{r}} + \\hat{\\omega} \\frac{\\partial \\hat{\\Phi}}{\\partial \\phi}\\right) = - \\frac{5}{2}\\epsilon_G \\frac{d\\hat{\\Phi}}{d\\hat{t}}\n",
    "  = - \\frac{\\epsilon_G}{2}\\hat{f}_{ij}^{(5)}\\left(\\frac{d\\hat{r}_i}{d\\hat{t}}\\hat{r}_j + \\hat{r}_i\\frac{d\\hat{r}_j}{d\\hat{t}}\\right)\n",
    "\\\\\n",
    "\\frac{d\\hat{J}}{d\\hat{t}} &= - \\frac{5}{2}\\epsilon_G\\frac{\\partial \\hat{\\Phi}}{\\partial \\phi} = - \\frac{\\epsilon_G}{2}\\hat{f}_{ij}^{(5)}\\left(\\frac{\\partial \\hat{r}_i}{\\partial \\phi}\\hat{r}_j + \\hat{r}_i\\frac{\\partial \\hat{r}_j}{\\partial \\phi}\\right)\n",
    "\\end{align}\n",
    "$$"
   ]
  },
  {
   "cell_type": "markdown",
   "metadata": {},
   "source": [
    "И снова, чтобы перейти в размерный вид, достаточно положить $\\epsilon_G \\equiv \\frac{2}{5}\\mu$\n",
    "\n",
    "То есть\n",
    "$$\n",
    "\\begin{align}\n",
    "\\frac{dE}{dt} &= - \\mu\\frac{d\\Phi}{dt}\n",
    "\\\\\n",
    "\\frac{dJ}{dt} &= - \\mu\\frac{\\partial \\Phi}{\\partial \\phi}\n",
    "\\end{align}\n",
    "$$\n",
    "<span style=\"color:red\">**TODO:**</span> Обсудить почему $\\hat{f}_{ij}^{(5)}$ берётся заданной функцией, не зависящей от $\\hat{r}, \\phi, \\hat{t}$ при вариации лагранжиана."
   ]
  },
  {
   "cell_type": "code",
   "execution_count": 64,
   "metadata": {
    "vscode": {
     "languageId": "wolfram"
    }
   },
   "outputs": [
    {
     "data": {
      "text/html": [
       "<div><img alt=\"Output\" src=\"data:image/png;base64,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\"></div>"
      ],
      "text/plain": [
       "FormBox[TagBox[RowBox[{\"(\", \"⁠\", \n",
       "\n",
       " \n",
       ">         TagBox[GridBox[{{RowBox[{OverscriptBox[\"r\", \"^\"], \" \", \n",
       "\n",
       " \n",
       ">               RowBox[{\"(\", RowBox[{\"-\", SubscriptBox[\"ϵ\", \"G\"]}], \")\"}], \" \", \n",
       "\n",
       " \n",
       ">               RowBox[{\"(\", RowBox[{RowBox[{OverscriptBox[\"r\", \"^\"], \" \", \n",
       "\n",
       " \n",
       ">                     OverscriptBox[\"ω\", \"^\"], \" \", \n",
       "\n",
       " \n",
       ">                     RowBox[{\"(\", RowBox[{RowBox[{RowBox[{\"cos\", \"(\", \n",
       "\n",
       " \n",
       ">                             RowBox[{\"2\", \" \", \"ϕ\"}], \")\"}], \" \", \n",
       "\n",
       " \n",
       ">                           TemplateBox[List[SubscriptBox[OverscriptBox[\"f\", \n",
       "\n",
       " \n",
       ">                             \"^\"], RowBox[List[\"x\", \",\", \"y\"]]], \"\\\"(5)\\\"\"], \n",
       "\n",
       " \n",
       ">                            \"Superscript\", Rule[SyntaxForm, SuperscriptBox]]}], \n",
       "\n",
       " \n",
       ">                         \"+\", RowBox[{RowBox[{\"sin\", \"(\", \"ϕ\", \")\"}], \" \", \n",
       "\n",
       " \n",
       ">                           RowBox[{\"cos\", \"(\", \"ϕ\", \")\"}], \" \", \n",
       "\n",
       " \n",
       ">                           RowBox[{\"(\", \n",
       "\n",
       " \n",
       ">                             RowBox[{TemplateBox[List[SubscriptBox[\n",
       "\n",
       " \n",
       ">                             OverscriptBox[\"f\", \"^\"], \n",
       "\n",
       " \n",
       ">                             RowBox[List[\"y\", \",\", \"y\"]]], \"\\\"(5)\\\"\"], \n",
       "\n",
       " \n",
       ">                             \"Superscript\", Rule[SyntaxForm, SuperscriptBox]], \n",
       "\n",
       " \n",
       ">                              \"-\", \n",
       "\n",
       " \n",
       ">                              TemplateBox[List[SubscriptBox[OverscriptB\\\n",
       "\n",
       " \n",
       ">   ox[\"f\", \"^\"], RowBox[List[\"x\", \",\", \"x\"]]], \"\\\"(5)\\\"\"], \"Superscript\", \n",
       "\n",
       " \n",
       ">                              Rule[SyntaxForm, SuperscriptBox]]}], \")\"}]}]}], \")\"}]\\\n",
       "\n",
       " \n",
       ">   }], \"+\", RowBox[{SuperscriptBox[OverscriptBox[\"r\", \"^\"], \"′\"], \" \", \n",
       "\n",
       " \n",
       ">                     RowBox[{\"(\", RowBox[{RowBox[{RowBox[{\"sin\", \"(\", \n",
       "\n",
       " \n",
       ">                             RowBox[{\"2\", \" \", \"ϕ\"}], \")\"}], \" \", \n",
       "\n",
       " \n",
       ">                           TemplateBox[List[SubscriptBox[OverscriptBox[\"f\", \n",
       "\n",
       " \n",
       ">                             \"^\"], RowBox[List[\"x\", \",\", \"y\"]]], \"\\\"(5)\\\"\"], \n",
       "\n",
       " \n",
       ">                            \"Superscript\", Rule[SyntaxForm, SuperscriptBox]]}], \n",
       "\n",
       " \n",
       ">                         \"+\", RowBox[{RowBox[{SuperscriptBox[\"cos\", \"2\"], \"(\", \n",
       "\n",
       " \n",
       ">                             \"ϕ\", \")\"}], \" \", \n",
       "\n",
       " \n",
       ">                           TemplateBox[List[SubscriptBox[OverscriptBox[\"f\", \n",
       "\n",
       " \n",
       ">                             \"^\"], RowBox[List[\"x\", \",\", \"x\"]]], \"\\\"(5)\\\"\"], \n",
       "\n",
       " \n",
       ">                            \"Superscript\", Rule[SyntaxForm, SuperscriptBox]]}], \n",
       "\n",
       " \n",
       ">                         \"+\", RowBox[{RowBox[{SuperscriptBox[\"sin\", \"2\"], \"(\", \n",
       "\n",
       " \n",
       ">                             \"ϕ\", \")\"}], \" \", \n",
       "\n",
       " \n",
       ">                           TemplateBox[List[SubscriptBox[OverscriptBox[\"f\", \n",
       "\n",
       " \n",
       ">                             \"^\"], RowBox[List[\"y\", \",\", \"y\"]]], \"\\\"(5)\\\"\"], \n",
       "\n",
       " \n",
       ">                            \"Superscript\", Rule[SyntaxForm, SuperscriptBox]]}]}], \n",
       "\n",
       " \n",
       ">                       \")\"}]}]}], \")\"}]}]}, \n",
       "\n",
       " \n",
       ">            {RowBox[{RowBox[{\"-\", FractionBox[\"1\", \"2\"]}], \" \", \n",
       "\n",
       " \n",
       ">               SuperscriptBox[OverscriptBox[\"r\", \"^\"], \"2\"], \" \", \n",
       "\n",
       " \n",
       ">               SubscriptBox[\"ϵ\", \"G\"], \" \", \n",
       "\n",
       " \n",
       ">               RowBox[{\"(\", RowBox[{RowBox[{RowBox[{\"sin\", \"(\", \n",
       "\n",
       " \n",
       ">                       RowBox[{\"2\", \" \", \"ϕ\"}], \")\"}], \" \", \n",
       "\n",
       " \n",
       ">                     RowBox[{\"(\", RowBox[{TemplateBox[List[SubscriptBox[\n",
       "\n",
       " \n",
       ">                            OverscriptBox[\"f\", \"^\"], \n",
       "\n",
       " \n",
       ">                            RowBox[List[\"y\", \",\", \"y\"]]], \"\\\"(5)\\\"\"], \n",
       "\n",
       " \n",
       ">                          \"Superscript\", Rule[SyntaxForm, SuperscriptBox]], \"-\", \n",
       "\n",
       " \n",
       ">                         TemplateBox[List[SubscriptBox[OverscriptBox[\"f\", \"^\"], \n",
       "\n",
       " \n",
       ">                            RowBox[List[\"x\", \",\", \"x\"]]], \"\\\"(5)\\\"\"], \n",
       "\n",
       " \n",
       ">                          \"Superscript\", Rule[SyntaxForm, SuperscriptBox]]}], \")\"}]}\\\n",
       "\n",
       " \n",
       ">   ], \"+\", RowBox[{\"2\", \" \", RowBox[{\"cos\", \"(\", RowBox[{\"2\", \" \", \"ϕ\"}], \")\"}], \n",
       "\n",
       " \n",
       ">                     \" \", TemplateBox[List[SubscriptBox[OverscriptBox[\"f\", \"^\"], \n",
       "\n",
       " \n",
       ">                        RowBox[List[\"x\", \",\", \"y\"]]], \"\\\"(5)\\\"\"], \"Superscript\", \n",
       "\n",
       " \n",
       ">                      Rule[SyntaxForm, SuperscriptBox]]}]}], \")\"}]}]}}, \n",
       "\n",
       " \n",
       ">           Rule[RowSpacings, 1], Rule[ColumnAlignments, Center], \n",
       "\n",
       " \n",
       ">           Rule[ColumnAlignments, Left]], Column], \"⁠\", \")\"}], \n",
       "\n",
       " \n",
       ">       Function[BoxForm`e$, MatrixForm[BoxForm`e$]]], TraditionalForm]\n"
      ]
     },
     "execution_count": 64,
     "metadata": {
      "text/html": [],
      "text/plain": []
     },
     "output_type": "execute_result"
    }
   ],
   "source": [
    "RHSEnegryLagrange = - 5/2 Subscript[\\[Epsilon],G] FullSimplify[{\n",
    "  D[fh5rhrh, OverHat[t]] /. OmegaReplace,\n",
    "  D[fh5rhrh, \\[Phi][OverHat[t]]]\n",
    "}, Trig -> True];\n",
    "\n",
    "RHSEnegryLagrange // MatrixForm // TraditionalForm"
   ]
  },
  {
   "cell_type": "markdown",
   "metadata": {},
   "source": [
    "<span style=\"color:red\">**NB:**</span> Выражения полностью <span style=\"color:green\">**совпадают**</span> с предыдущим подходом!"
   ]
  },
  {
   "cell_type": "code",
   "execution_count": 65,
   "metadata": {
    "vscode": {
     "languageId": "wolfram"
    }
   },
   "outputs": [
    {
     "data": {
      "text/html": [
       "<div><img alt=\"Output\" src=\"data:image/png;base64,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\"></div>"
      ],
      "text/plain": [
       "0\n",
       "\n",
       "0"
      ]
     },
     "execution_count": 65,
     "metadata": {
      "text/html": [],
      "text/plain": []
     },
     "output_type": "execute_result"
    }
   ],
   "source": [
    "FullSimplify[RHSEnegryLagrange - RHSEnegry] // MatrixForm"
   ]
  },
  {
   "cell_type": "code",
   "execution_count": 66,
   "metadata": {
    "vscode": {
     "languageId": "wolfram"
    }
   },
   "outputs": [
    {
     "data": {
      "text/html": [
       "<div>&#36;&#36;&#92;&#108;&#101;&#102;&#116;&#92;&#123;&#92;&#104;&#97;&#116;&#123;&#114;&#125;&#32;&#92;&#108;&#101;&#102;&#116;&#40;&#45;&#92;&#101;&#112;&#115;&#105;&#108;&#111;&#110;&#32;&#95;&#71;&#92;&#114;&#105;&#103;&#104;&#116;&#41;&#32;&#92;&#108;&#101;&#102;&#116;&#40;&#92;&#104;&#97;&#116;&#123;&#114;&#125;&#32;&#92;&#104;&#97;&#116;&#123;&#92;&#111;&#109;&#101;&#103;&#97;&#32;&#125;&#32;&#92;&#108;&#101;&#102;&#116;&#40;&#92;&#99;&#111;&#115;&#32;&#40;&#50;&#32;&#92;&#112;&#104;&#105;&#32;&#41;&#32;&#92;&#104;&#97;&#116;&#123;&#102;&#125;&#95;&#123;&#120;&#44;&#121;&#125;&#123;&#125;&#94;&#123;&#92;&#116;&#101;&#120;&#116;&#123;&#40;&#53;&#41;&#125;&#125;&#43;&#92;&#115;&#105;&#110;&#32;&#40;&#92;&#112;&#104;&#105;&#32;&#41;&#32;&#92;&#99;&#111;&#115;&#32;&#40;&#92;&#112;&#104;&#105;&#32;&#41;&#32;&#92;&#108;&#101;&#102;&#116;&#40;&#92;&#104;&#97;&#116;&#123;&#102;&#125;&#95;&#123;&#121;&#44;&#121;&#125;&#123;&#125;&#94;&#123;&#92;&#116;&#101;&#120;&#116;&#123;&#40;&#53;&#41;&#125;&#125;&#45;&#92;&#104;&#97;&#116;&#123;&#102;&#125;&#95;&#123;&#120;&#44;&#120;&#125;&#123;&#125;&#94;&#123;&#92;&#116;&#101;&#120;&#116;&#123;&#40;&#53;&#41;&#125;&#125;&#92;&#114;&#105;&#103;&#104;&#116;&#41;&#92;&#114;&#105;&#103;&#104;&#116;&#41;&#43;&#92;&#104;&#97;&#116;&#123;&#114;&#125;&#39;&#32;&#92;&#108;&#101;&#102;&#116;&#40;&#92;&#115;&#105;&#110;&#32;&#40;&#50;&#32;&#92;&#112;&#104;&#105;&#32;&#41;&#32;&#92;&#104;&#97;&#116;&#123;&#102;&#125;&#95;&#123;&#120;&#44;&#121;&#125;&#123;&#125;&#94;&#123;&#92;&#116;&#101;&#120;&#116;&#123;&#40;&#53;&#41;&#125;&#125;&#43;&#92;&#99;&#111;&#115;&#32;&#94;&#50;&#40;&#92;&#112;&#104;&#105;&#32;&#41;&#32;&#92;&#104;&#97;&#116;&#123;&#102;&#125;&#95;&#123;&#120;&#44;&#120;&#125;&#123;&#125;&#94;&#123;&#92;&#116;&#101;&#120;&#116;&#123;&#40;&#53;&#41;&#125;&#125;&#43;&#92;&#115;&#105;&#110;&#32;&#94;&#50;&#40;&#92;&#112;&#104;&#105;&#32;&#41;&#32;&#92;&#104;&#97;&#116;&#123;&#102;&#125;&#95;&#123;&#121;&#44;&#121;&#125;&#123;&#125;&#94;&#123;&#92;&#116;&#101;&#120;&#116;&#123;&#40;&#53;&#41;&#125;&#125;&#92;&#114;&#105;&#103;&#104;&#116;&#41;&#92;&#114;&#105;&#103;&#104;&#116;&#41;&#44;&#45;&#92;&#102;&#114;&#97;&#99;&#123;&#49;&#125;&#123;&#50;&#125;&#32;&#92;&#104;&#97;&#116;&#123;&#114;&#125;&#94;&#50;&#32;&#92;&#101;&#112;&#115;&#105;&#108;&#111;&#110;&#32;&#95;&#71;&#32;&#92;&#108;&#101;&#102;&#116;&#40;&#92;&#115;&#105;&#110;&#32;&#40;&#50;&#32;&#92;&#112;&#104;&#105;&#32;&#41;&#32;&#92;&#108;&#101;&#102;&#116;&#40;&#92;&#104;&#97;&#116;&#123;&#102;&#125;&#95;&#123;&#121;&#44;&#121;&#125;&#123;&#125;&#94;&#123;&#92;&#116;&#101;&#120;&#116;&#123;&#40;&#53;&#41;&#125;&#125;&#45;&#92;&#104;&#97;&#116;&#123;&#102;&#125;&#95;&#123;&#120;&#44;&#120;&#125;&#123;&#125;&#94;&#123;&#92;&#116;&#101;&#120;&#116;&#123;&#40;&#53;&#41;&#125;&#125;&#92;&#114;&#105;&#103;&#104;&#116;&#41;&#43;&#50;&#32;&#92;&#99;&#111;&#115;&#32;&#40;&#50;&#32;&#92;&#112;&#104;&#105;&#32;&#41;&#32;&#92;&#104;&#97;&#116;&#123;&#102;&#125;&#95;&#123;&#120;&#44;&#121;&#125;&#123;&#125;&#94;&#123;&#92;&#116;&#101;&#120;&#116;&#123;&#40;&#53;&#41;&#125;&#125;&#92;&#114;&#105;&#103;&#104;&#116;&#41;&#92;&#114;&#105;&#103;&#104;&#116;&#92;&#125;&#36;&#36;</div>"
      ],
      "text/plain": [
       "\\left\\{\\hat{r} \\left(-\\epsilon _G\\right) \\left(\\hat{r} \\hat{\\omega } \\left(\\cos (2 \\phi\\\n",
       " \n",
       ">   ) \\hat{f}_{x,y}{}^{\\text{(5)}}+\\sin (\\phi ) \\cos (\\phi )\\\n",
       " \n",
       ">   \\left(\\hat{f}_{y,y}{}^{\\text{(5)}}-\\hat{f}_{x,x}{}^{\\text{(5)}}\\right)\\right)+\\hat{r\\\n",
       " \n",
       ">   }' \\left(\\sin (2 \\phi ) \\hat{f}_{x,y}{}^{\\text{(5)}}+\\cos ^2(\\phi )\\\n",
       " \n",
       ">   \\hat{f}_{x,x}{}^{\\text{(5)}}+\\sin ^2(\\phi )\\\n",
       " \n",
       ">   \\hat{f}_{y,y}{}^{\\text{(5)}}\\right)\\right),-\\frac{1}{2} \\hat{r}^2 \\epsilon _G\\\n",
       " \n",
       ">   \\left(\\sin (2 \\phi )\\\n",
       " \n",
       ">   \\left(\\hat{f}_{y,y}{}^{\\text{(5)}}-\\hat{f}_{x,x}{}^{\\text{(5)}}\\right)+2 \\cos (2\\\n",
       " \n",
       ">   \\phi ) \\hat{f}_{x,y}{}^{\\text{(5)}}\\right)\\right\\}"
      ]
     },
     "execution_count": 66,
     "metadata": {
      "text/html": [],
      "text/plain": []
     },
     "output_type": "execute_result"
    }
   ],
   "source": [
    "TeXForm[RHSEnegryLagrange]"
   ]
  },
  {
   "cell_type": "markdown",
   "metadata": {},
   "source": [
    "# Итоговая система **энергетических** уравнений:\n",
    "\n",
    "$$\n",
    "\\begin{align}\n",
    "\\tag{dJ/dt}\n",
    "\\frac{d\\hat{J}}{d\\hat{t}} &= -\\frac{1}{2} \\epsilon_G\n",
    "\\hat{r}^2\n",
    "\\left(\n",
    "  \\sin (2 \\phi ) \\left(\\hat{f}_{y,y}{}^{\\text{(5)}}-\\hat{f}_{x,x}{}^{\\text{(5)}}\\right)+2 \\cos (2 \\phi ) \\hat{f}_{x,y}{}^{\\text{(5)}}\n",
    "\\right)\n",
    "= \\epsilon_G I_J\n",
    "\\\\\n",
    "\\tag{dE/dt}\n",
    "\\frac{d\\hat{E}}{d\\hat{t}} &= \\epsilon_G\n",
    "\\left(\n",
    "  I_J\\hat{\\omega}\n",
    "  -\\hat{r} \\hat{r}'\n",
    "  \\left(\n",
    "  \\sin (2 \\phi ) \\hat{f}_{x,y}{}^{\\text{(5)}}+\\cos ^2(\\phi ) \\hat{f}_{x,x}{}^{\\text{(5)}}+\\sin ^2(\\phi ) \\hat{f}_{y,y}{}^{\\text{(5)}}\n",
    "  \\right)\n",
    "\\right)\n",
    "= \\epsilon_G I_E\n",
    "\\end{align}\n",
    "$$"
   ]
  },
  {
   "cell_type": "markdown",
   "metadata": {},
   "source": [
    "# RHS уравнения (dJ/dt)\n",
    "\n",
    "Введём новое обозначение $\\hat{r}^2 \\equiv \\hat{r}_2$"
   ]
  },
  {
   "cell_type": "code",
   "execution_count": 67,
   "metadata": {
    "vscode": {
     "languageId": "wolfram"
    }
   },
   "outputs": [],
   "source": [
    "ToR2Replacement = {\n",
    "  OverHat[r][OverHat[t]] -> Sqrt[Subscript[OverHat[r],2][OverHat[t]]],\n",
    "  Derivative[n_][OverHat[r]][OverHat[t]] :> D[Sqrt[Subscript[OverHat[r], 2][OverHat[t]]], {OverHat[t], n}]\n",
    "};"
   ]
  },
  {
   "cell_type": "markdown",
   "metadata": {},
   "source": [
    "и подставим в (dJ/dt) значения $\\hat{f}_{i,j}^{(5)}$:"
   ]
  },
  {
   "cell_type": "code",
   "execution_count": 73,
   "metadata": {
    "vscode": {
     "languageId": "wolfram"
    }
   },
   "outputs": [
    {
     "data": {
      "text/html": [
       "<div><img alt=\"Output\" src=\"data:image/png;base64,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\"></div>"
      ],
      "text/plain": [
       "FormBox[RowBox[{SubscriptBox[OverscriptBox[\"r\", \"^\"], \"2\"], \" \", \n",
       "\n",
       " \n",
       ">        RowBox[{\"(\", RowBox[{RowBox[{\"-\", \n",
       "\n",
       " \n",
       ">              RowBox[{\"5\", \" \", SuperscriptBox[SubscriptBox[OverscriptBox[\"r\", \"^\"], \n",
       "\n",
       " \n",
       ">                  \"2\"], \"′\"], \" \", SuperscriptBox[OverscriptBox[\"ω\", \"^\"], \"′′′\"]}]}], \n",
       "\n",
       " \n",
       ">            \"-\", RowBox[{\"10\", \" \", SuperscriptBox[SubscriptBox[OverscriptBox[\"r\", \n",
       "\n",
       " \n",
       ">                 \"^\"], \"2\"], \"′′′\"], \" \", SuperscriptBox[OverscriptBox[\"ω\", \"^\"],\\\n",
       " \n",
       ">    \"′\"]}]\\\n",
       ", \"+\", RowBox[{\"120\", \" \", SuperscriptBox[OverscriptBox[\"ω\", \"^\"], \"2\"], \"\\\n",
       " \n",
       ">    \", \n",
       "           SuperscriptBox[SubscriptBox[OverscriptBox[\"r\", \"^\"], \"2\"], \"′\"], \"\\\n",
       " \n",
       ">    \", \n",
       "           SuperscriptBox[OverscriptBox[\"ω\", \"^\"], \"′\"]}], \"+\", \n",
       "\n",
       " \n",
       ">            RowBox[{\"60\", \" \", SubscriptBox[OverscriptBox[\"r\", \"^\"], \"2\"], \" \", \n",
       "\n",
       " \n",
       ">              OverscriptBox[\"ω\", \"^\"], \" \", \n",
       "           SuperscriptBox[RowBox[{\"(\", \n",
       "\n",
       " \n",
       ">                 SuperscriptBox[OverscriptBox[\"ω\", \"^\"], \"′\"], \")\"}], \"2\"]}], \"+\", \n",
       "\n",
       " \n",
       ">            RowBox[{\"40\", \" \", SuperscriptBox[OverscriptBox[\"ω\", \"^\"], \"3\"], \" \", \n",
       "\n",
       " \n",
       ">              SuperscriptBox[SubscriptBox[OverscriptBox[\"r\", \"^\"], \"2\"], \"′′\"]}], \"+\", \n",
       "\n",
       " \n",
       ">            RowBox[{\"40\", \" \", SubscriptBox[OverscriptBox[\"r\", \"^\"], \"2\"], \" \", \n",
       "\n",
       " \n",
       ">              SuperscriptBox[OverscriptBox[\"ω\", \"^\"], \"2\"], \" \", \n",
       "\n",
       " \n",
       ">              SuperscriptBox[OverscriptBox[\"ω\", \"^\"], \"′′\"]}], \"-\", \n",
       "\n",
       " \n",
       ">            RowBox[{\"10\", \" \", SuperscriptBox[SubscriptBox[OverscriptBox[\"r\", \"^\"], \n",
       "\n",
       " \n",
       ">                \"2\"], \"′′\"], \" \", SuperscriptBox[OverscriptBox[\"ω\", \"^\"], \"′′\"]}], \"-\",\\\n",
       " \n",
       ">    \n",
       "         RowBox[{\"5\", \" \", OverscriptBox[\"ω\", \"^\"], \" \", \n",
       "\n",
       " \n",
       ">              SuperscriptBox[SubscriptBox[OverscriptBox[\"r\", \"^\"], \"2\"], \"′′′′\"]}],\\\n",
       " \n",
       ">    \"-\", \n",
       "         RowBox[{SubscriptBox[OverscriptBox[\"r\", \"^\"], \"2\"], \" \", \n",
       "\n",
       " \n",
       ">              SuperscriptBox[OverscriptBox[\"ω\", \"^\"], \"′′′′\"]}], \"-\", \n",
       "\n",
       " \n",
       ">            RowBox[{RowBox[{\"16\"}], \" \", SubscriptBox[OverscriptBox[\"r\", \"^\"], \"2\"], \n",
       "\n",
       " \n",
       ">              \" \", SuperscriptBox[OverscriptBox[\"ω\", \"^\"], \"5\"]}]}], \")\"}]}], \n",
       "\n",
       " \n",
       ">      TraditionalForm]\n"
      ]
     },
     "execution_count": 73,
     "metadata": {
      "text/html": [],
      "text/plain": []
     },
     "output_type": "execute_result"
    }
   ],
   "source": [
    "fh1 = fh /. ToR2Replacement;\n",
    "fh5Symbolic = Simplify[D[fh1, {OverHat[t], 5}], Trig -> True];\n",
    "\n",
    "Fh5Replacement = Flatten[{\n",
    "  Outer[\n",
    "    Superscript[Subscript[OverHat[f], #1, #2], \"(5)\"] -> fh5Symbolic[[#1 /. {x -> 1, y -> 2}, #2 /. {x -> 1, y -> 2}]] &,\n",
    "    {x, y}, {x, y}\n",
    "  ],\n",
    "  ToR2Replacement,\n",
    "  OmegaReplace\n",
    "}];\n",
    "\n",
    "dJdtTemp = RHSEnegryLagrange[[2]] //. Fh5Replacement;\n",
    "dJdt = Subscript[OverHat[r],2][OverHat[t]]*Expand[Simplify[dJdtTemp/Subscript[\\[Epsilon], G], Trig -> True]/Subscript[OverHat[r],2][OverHat[t]]];\n",
    "dJdt // TraditionalForm"
   ]
  },
  {
   "cell_type": "markdown",
   "metadata": {},
   "source": [
    "<span style=\"color:red\">**NB:**</span> В файле Binary.pdf выводится <span style=\"color:green\">**точно такое же**</span> выражение"
   ]
  },
  {
   "cell_type": "markdown",
   "metadata": {},
   "source": [
    "$$\n",
    "I_J = I_1 = \\hat{r}_2 \\left[ 120\\hat{r}_2^{(1)}\\hat{\\omega}^2\\hat{\\omega}^{(1)} - 5\\hat{r}_2^{(1)}\\hat{\\omega}^{(3)} - 16\\hat{r}_2\\hat{\\omega}^5 - 10\\hat{r}_2^{(2)}\\hat{\\omega}^{(2)} + 60\\hat{r}_2\\hat{\\omega}(\\hat{\\omega}^{(1)})^2\n",
    "- 10\\hat{r}_2^{(3)}\\hat{\\omega}^{(1)} + 40\\hat{r}_2^{(2)}\\hat{\\omega}^3 - 5\\hat{r}_2^{(4)}\\hat{\\omega} - \\hat{r}_2\\hat{\\omega}^{(4)} + 40\\hat{r}_2\\hat{\\omega}^2\\hat{\\omega}^{(2)} \\right]\n",
    "$$"
   ]
  },
  {
   "cell_type": "code",
   "execution_count": 75,
   "metadata": {
    "vscode": {
     "languageId": "wolfram"
    }
   },
   "outputs": [
    {
     "data": {
      "text/html": [
       "<div><pre style=\"&#102;&#111;&#110;&#116;&#45;&#102;&#97;&#109;&#105;&#108;&#121;&#58;&#32;&#34;&#67;&#111;&#117;&#114;&#105;&#101;&#114;&#32;&#78;&#101;&#119;&#34;&#44;&#67;&#111;&#117;&#114;&#105;&#101;&#114;&#44;&#109;&#111;&#110;&#111;&#115;&#112;&#97;&#99;&#101;&#59;\">&#48;</pre></div>"
      ],
      "text/plain": [
       "0"
      ]
     },
     "execution_count": 75,
     "metadata": {
      "text/html": [],
      "text/plain": []
     },
     "output_type": "execute_result"
    }
   ],
   "source": [
    "I1 = Subscript[OverHat[r], 2][OverHat[t]] * (\n",
    "    120 * Derivative[1][Subscript[OverHat[r], 2]][OverHat[t]] *\n",
    "    OverHat[\\[Omega]][OverHat[t]]^2 * Derivative[1][OverHat[\\[Omega]]][OverHat[t]]\n",
    "    - 5 * Derivative[1][Subscript[OverHat[r], 2]][OverHat[t]] *\n",
    "    Derivative[3][OverHat[\\[Omega]]][OverHat[t]]\n",
    "    - 16 * Subscript[OverHat[r], 2][OverHat[t]] *\n",
    "    OverHat[\\[Omega]][OverHat[t]]^5\n",
    "    - 10 * Derivative[2][Subscript[OverHat[r], 2]][OverHat[t]] *\n",
    "    Derivative[2][OverHat[\\[Omega]]][OverHat[t]]\n",
    "    + 60 * Subscript[OverHat[r], 2][OverHat[t]] *\n",
    "    OverHat[\\[Omega]][OverHat[t]] * Derivative[1][OverHat[\\[Omega]]][OverHat[t]]^2\n",
    "    - 10 * Derivative[3][Subscript[OverHat[r], 2]][OverHat[t]] *\n",
    "    Derivative[1][OverHat[\\[Omega]]][OverHat[t]]\n",
    "    + 40 * Derivative[2][Subscript[OverHat[r], 2]][OverHat[t]] *\n",
    "    OverHat[\\[Omega]][OverHat[t]]^3\n",
    "    - 5 * Derivative[4][Subscript[OverHat[r], 2]][OverHat[t]] *\n",
    "    OverHat[\\[Omega]][OverHat[t]]\n",
    "    - Subscript[OverHat[r], 2][OverHat[t]] *\n",
    "    Derivative[4][OverHat[\\[Omega]]][OverHat[t]]\n",
    "    + 40 * Subscript[OverHat[r], 2][OverHat[t]] *\n",
    "    OverHat[\\[Omega]][OverHat[t]]^2 * Derivative[2][OverHat[\\[Omega]]][OverHat[t]]\n",
    ");\n",
    "dJdt - I1"
   ]
  },
  {
   "cell_type": "markdown",
   "metadata": {},
   "source": [
    "# RHS уравнения (dE/dt)\n",
    "\n",
    "Подставим в (dE/dt) значения $\\hat{f}_{i,j}^{(5)}$:"
   ]
  },
  {
   "cell_type": "code",
   "execution_count": 78,
   "metadata": {
    "vscode": {
     "languageId": "wolfram"
    }
   },
   "outputs": [
    {
     "data": {
      "text/html": [
       "<div><img alt=\"Output\" src=\"data:image/png;base64,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\"></div>"
      ],
      "text/plain": [
       "FormBox[RowBox[{FractionBox[\"1\", \"3\"], \" \", \n",
       "\n",
       " \n",
       ">        RowBox[{\"(\", RowBox[{RowBox[{OverscriptBox[\"ω\", \"^\"], \" \", \n",
       "\n",
       " \n",
       ">              RowBox[{\"(\", RowBox[{RowBox[{\"-\", \n",
       "\n",
       " \n",
       ">                    RowBox[{\"3\", \" \", SubscriptBox[OverscriptBox[\"r\", \"^\"], \"2\"], \n",
       "\n",
       " \n",
       ">                      \" \", RowBox[{\"(\", \n",
       "\n",
       " \n",
       ">                        RowBox[{RowBox[{\"10\", \" \", \n",
       "\n",
       " \n",
       ">                            SuperscriptBox[SubscriptBox[OverscriptBox[\"r\", \"^\"], \n",
       "\n",
       " \n",
       ">                              \"2\"], \"′′′\"], \" \", \n",
       "\n",
       " \n",
       ">                            SuperscriptBox[OverscriptBox[\"ω\", \"^\"], \"′\"]}], \"+\", \n",
       "\n",
       " \n",
       ">                          RowBox[{\"10\", \" \", \n",
       "\n",
       " \n",
       ">                            SuperscriptBox[SubscriptBox[OverscriptBox[\"r\", \"^\"], \n",
       "\n",
       " \n",
       ">                              \"2\"], \"′′\"], \" \", \n",
       "\n",
       " \n",
       ">                            SuperscriptBox[OverscriptBox[\"ω\", \"^\"], \"′′\"]}], \"+\", \n",
       "\n",
       " \n",
       ">                          RowBox[{SubscriptBox[OverscriptBox[\"r\", \"^\"], \"2\"], \" \", \n",
       "\n",
       " \n",
       ">                            SuperscriptBox[OverscriptBox[\"ω\", \"^\"], \"′′′′\"]}]}], \")\"}]\\\n",
       "\n",
       " \n",
       ">   }]}], \"+\", RowBox[{\"60\", \" \", SuperscriptBox[RowBox[{\"(\", \n",
       "\n",
       " \n",
       ">                       SuperscriptBox[SubscriptBox[OverscriptBox[\"r\", \"^\"], \"2\"], \n",
       "\n",
       " \n",
       ">                        \"′\"], \")\"}], \"2\"], \" \", \n",
       "\n",
       " \n",
       ">                    SuperscriptBox[OverscriptBox[\"ω\", \"^\"], \"′′\"]}], \"+\", \n",
       "\n",
       " \n",
       ">                  RowBox[{\"90\", \" \", \n",
       "\n",
       " \n",
       ">                    SuperscriptBox[SubscriptBox[OverscriptBox[\"r\", \"^\"], \"2\"], \"′\"], \n",
       "\n",
       " \n",
       ">                    \" \", SuperscriptBox[SubscriptBox[OverscriptBox[\"r\", \"^\"], \"2\"], \n",
       "\n",
       " \n",
       ">                     \"′′\"], \" \", SuperscriptBox[OverscriptBox[\"ω\", \"^\"], \"′\"]}]}],\\\n",
       " \n",
       ">    \")\"}]\\\n",
       "}], \"+\", RowBox[{SuperscriptBox[SubscriptBox[OverscriptBox[\"r\", \"^\"], \"2\"],\\\n",
       " \n",
       ">    \"′\"], \n",
       "           \" \", RowBox[{\"(\", RowBox[{RowBox[{\"30\", \" \", \n",
       "\n",
       " \n",
       ">                    SubscriptBox[OverscriptBox[\"r\", \"^\"], \"2\"], \" \", \n",
       "\n",
       " \n",
       ">                    SuperscriptBox[OverscriptBox[\"ω\", \"^\"], \"′\"], \" \", \n",
       "\n",
       " \n",
       ">                    SuperscriptBox[OverscriptBox[\"ω\", \"^\"], \"′′\"]}], \"+\", \n",
       "\n",
       " \n",
       ">                  RowBox[{\"45\", \" \", \n",
       "\n",
       " \n",
       ">                    SuperscriptBox[SubscriptBox[OverscriptBox[\"r\", \"^\"], \"2\"], \"′\"], \n",
       "\n",
       " \n",
       ">                    \" \", SuperscriptBox[RowBox[{\"(\", \n",
       "\n",
       " \n",
       ">                       SuperscriptBox[OverscriptBox[\"ω\", \"^\"], \"′\"], \")\"}], \"2\"]}], \n",
       "\n",
       " \n",
       ">                  \"-\", SuperscriptBox[SubscriptBox[OverscriptBox[\"r\", \"^\"], \"2\"], \n",
       "\n",
       " \n",
       ">                   \"′′′′′\"]}], \")\"}]}], \"-\", \n",
       "\n",
       " \n",
       ">            RowBox[{\"60\", \" \", SuperscriptBox[OverscriptBox[\"ω\", \"^\"], \"4\"], \" \", \n",
       "\n",
       " \n",
       ">              RowBox[{\"(\", RowBox[{SuperscriptBox[RowBox[{\"(\", \n",
       "\n",
       " \n",
       ">                     SuperscriptBox[SubscriptBox[OverscriptBox[\"r\", \"^\"], \"2\"], \n",
       "\n",
       " \n",
       ">                      \"′\"], \")\"}], \"2\"], \"-\", \n",
       "\n",
       " \n",
       ">                  RowBox[{\"2\", \" \", SubscriptBox[OverscriptBox[\"r\", \"^\"], \"2\"], \" \", \n",
       "\n",
       " \n",
       ">                    SuperscriptBox[SubscriptBox[OverscriptBox[\"r\", \"^\"], \"2\"],\\\n",
       " \n",
       ">    \"′′\"]}]}\\\n",
       "], \")\"}]}], \"+\", RowBox[{\"120\", \" \", SubscriptBox[OverscriptBox[\"r\",\\\n",
       " \n",
       ">    \"^\"], \"2\"], \n",
       "           \" \", SuperscriptBox[OverscriptBox[\"ω\", \"^\"], \"3\"], \" \", \n",
       "\n",
       " \n",
       ">              RowBox[{\"(\", RowBox[{RowBox[{\"2\", \" \", \n",
       "\n",
       " \n",
       ">                    SuperscriptBox[SubscriptBox[OverscriptBox[\"r\", \"^\"], \"2\"], \"′\"], \n",
       "\n",
       " \n",
       ">                    \" \", SuperscriptBox[OverscriptBox[\"ω\", \"^\"], \"′\"]}], \"+\", \n",
       "\n",
       " \n",
       ">                  RowBox[{SubscriptBox[OverscriptBox[\"r\", \"^\"], \"2\"], \" \", \n",
       "\n",
       " \n",
       ">                    SuperscriptBox[OverscriptBox[\"ω\", \"^\"], \"′′\"]}]}], \")\"}]}], \"+\", \n",
       "\n",
       " \n",
       ">            RowBox[{\"15\", \" \", SuperscriptBox[OverscriptBox[\"ω\", \"^\"], \"2\"], \" \", \n",
       "\n",
       " \n",
       ">              RowBox[{\"(\", RowBox[{RowBox[{\"12\", \" \", \n",
       "\n",
       " \n",
       ">                    SubsuperscriptBox[OverscriptBox[\"r\", \"^\"], \"2\", \"2\"], \" \", \n",
       "\n",
       " \n",
       ">                    SuperscriptBox[RowBox[{\"(\", \n",
       "\n",
       " \n",
       ">                       SuperscriptBox[OverscriptBox[\"ω\", \"^\"], \"′\"], \")\"}], \"2\"]}], \n",
       "\n",
       " \n",
       ">                  \"+\", RowBox[{\"2\", \" \", \n",
       "\n",
       " \n",
       ">                    SuperscriptBox[SubscriptBox[OverscriptBox[\"r\", \"^\"], \"2\"], \"′\"], \n",
       "\n",
       " \n",
       ">                    \" \", SuperscriptBox[SubscriptBox[OverscriptBox[\"r\", \"^\"], \"2\"], \n",
       "\n",
       " \n",
       ">                     \"′′′\"]}], \"-\", RowBox[{SubscriptBox[OverscriptBox[\"r\", \"^\"], \n",
       "\n",
       " \n",
       ">                     \"2\"], \" \", SuperscriptBox[SubscriptBox[OverscriptBox[\"r\", \"^\"], \n",
       "\n",
       " \n",
       ">                      \"2\"], \"′′′′\"]}]}], \")\"}]}], \"-\", \n",
       "\n",
       " \n",
       ">            RowBox[{RowBox[{\"48\"}], \" \", \n",
       "\n",
       " \n",
       ">              SubsuperscriptBox[OverscriptBox[\"r\", \"^\"], \"2\", \"2\"], \" \", \n",
       "\n",
       " \n",
       ">              SuperscriptBox[OverscriptBox[\"ω\", \"^\"], \"6\"]}]}], \")\"}]}],\\\n",
       " \n",
       ">    TraditionalForm]\n"
      ]
     },
     "execution_count": 78,
     "metadata": {
      "text/html": [],
      "text/plain": []
     },
     "output_type": "execute_result"
    }
   ],
   "source": [
    "dEdtTemp = RHSEnegryLagrange[[1]] //. Fh5Replacement;\n",
    "dEdt = Simplify[dEdtTemp/Subscript[\\[Epsilon], G], Trig -> True];\n",
    "dEdt // TraditionalForm"
   ]
  },
  {
   "cell_type": "markdown",
   "metadata": {},
   "source": [
    "<span style=\"color:red\">**NB:**</span> В файлах Binary.pdf и binary_catch1.pdf выводится <span style=\"color:green\">**точно такие же**</span> выражения для правой части (dE/dt),\n",
    "а именно $I_E = I_1\\hat{\\omega} + I_2\\frac{\\dot{r}}{r}$, где\n",
    "$$\n",
    "I_2 = 2\\hat{r}_2 \\left[ -40\\hat{r}_2\\hat{\\omega}^3\\hat{\\omega}^{(1)} - 20\\hat{\\omega}^4\\hat{r}_2^{(1)} + 5\\hat{r}_2\\hat{\\omega}\\hat{\\omega}^{(3)} + 10\\hat{r}_2\\hat{\\omega}^{(1)}\\hat{\\omega}^{(2)} + 10\\hat{\\omega}^2\\hat{r}_2^{(3)} + 30\\hat{\\omega}\\hat{\\omega}^{(1)}\\hat{r}_2^{(2)} + 20\\hat{\\omega}\\hat{\\omega}^{(2)}\\hat{r}_2^{(1)} + 15\\hat{r}_2^{(1)}(\\hat{\\omega}^{(1)})^2 - \\frac{1}{3}\\hat{r}_2^{(5)} \\right]\n",
    "$$"
   ]
  },
  {
   "cell_type": "code",
   "execution_count": 80,
   "metadata": {
    "vscode": {
     "languageId": "wolfram"
    }
   },
   "outputs": [
    {
     "data": {
      "text/html": [
       "<div><pre style=\"&#102;&#111;&#110;&#116;&#45;&#102;&#97;&#109;&#105;&#108;&#121;&#58;&#32;&#34;&#67;&#111;&#117;&#114;&#105;&#101;&#114;&#32;&#78;&#101;&#119;&#34;&#44;&#67;&#111;&#117;&#114;&#105;&#101;&#114;&#44;&#109;&#111;&#110;&#111;&#115;&#112;&#97;&#99;&#101;&#59;\">&#48;</pre></div>"
      ],
      "text/plain": [
       "0"
      ]
     },
     "execution_count": 80,
     "metadata": {
      "text/html": [],
      "text/plain": []
     },
     "output_type": "execute_result"
    }
   ],
   "source": [
    "I2 = 2 * Subscript[OverHat[r], 2][OverHat[t]] * (\n",
    "    -40 * Subscript[OverHat[r], 2][OverHat[t]] *\n",
    "    OverHat[\\[Omega]][OverHat[t]]^3 * Derivative[1][OverHat[\\[Omega]]][OverHat[t]]\n",
    "    - 20 * OverHat[\\[Omega]][OverHat[t]]^4 *\n",
    "    Derivative[1][Subscript[OverHat[r], 2]][OverHat[t]]\n",
    "    + 5 * Subscript[OverHat[r], 2][OverHat[t]] *\n",
    "    OverHat[\\[Omega]][OverHat[t]] * Derivative[3][OverHat[\\[Omega]]][OverHat[t]]\n",
    "    + 10 * Subscript[OverHat[r], 2][OverHat[t]] *\n",
    "    Derivative[1][OverHat[\\[Omega]]][OverHat[t]] *\n",
    "    Derivative[2][OverHat[\\[Omega]]][OverHat[t]]\n",
    "    + 10 * OverHat[\\[Omega]][OverHat[t]]^2 *\n",
    "    Derivative[3][Subscript[OverHat[r], 2]][OverHat[t]]\n",
    "    + 30 * OverHat[\\[Omega]][OverHat[t]] *\n",
    "    Derivative[1][OverHat[\\[Omega]]][OverHat[t]] *\n",
    "    Derivative[2][Subscript[OverHat[r], 2]][OverHat[t]]\n",
    "    + 20 * OverHat[\\[Omega]][OverHat[t]] *\n",
    "    Derivative[2][OverHat[\\[Omega]]][OverHat[t]] *\n",
    "    Derivative[1][Subscript[OverHat[r], 2]][OverHat[t]]\n",
    "    + 15 * Derivative[1][Subscript[OverHat[r], 2]][OverHat[t]] *\n",
    "    Derivative[1][OverHat[\\[Omega]]][OverHat[t]]^2\n",
    "    - (1/3) * Derivative[5][Subscript[OverHat[r], 2]][OverHat[t]]\n",
    ");\n",
    "Simplify[(I2*D[OverHat[r][OverHat[t]], OverHat[t]]/OverHat[r][OverHat[t]] + I1*OverHat[\\[Omega]][OverHat[t]] /. ToR2Replacement) - dEdt]"
   ]
  },
  {
   "cell_type": "markdown",
   "metadata": {},
   "source": [
    "# $I_J$, $I_E$\n",
    "\n",
    "$$\n",
    "\\begin{align}\n",
    "\\tag{IJ}\\\n",
    "I_J &= \\hat{r}_2 \\left[ 120\\hat{r}_2^{(1)}\\hat{\\omega}^2\\hat{\\omega}^{(1)} - 5\\hat{r}_2^{(1)}\\hat{\\omega}^{(3)} - 16\\hat{r}_2\\hat{\\omega}^5 - 10\\hat{r}_2^{(2)}\\hat{\\omega}^{(2)} + 60\\hat{r}_2\\hat{\\omega}(\\hat{\\omega}^{(1)})^2\n",
    "- 10\\hat{r}_2^{(3)}\\hat{\\omega}^{(1)} + 40\\hat{r}_2^{(2)}\\hat{\\omega}^3 - 5\\hat{r}_2^{(4)}\\hat{\\omega} - \\hat{r}_2\\hat{\\omega}^{(4)} + 40\\hat{r}_2\\hat{\\omega}^2\\hat{\\omega}^{(2)} \\right]\n",
    "\\\\\n",
    "\\tag{IE}\n",
    "I_E &= I_J\\hat{\\omega} + \\hat{r}_2^{(1)} \\left[ -40\\hat{r}_2\\hat{\\omega}^3\\hat{\\omega}^{(1)} - 20\\hat{\\omega}^4\\hat{r}_2^{(1)} + 5\\hat{r}_2\\hat{\\omega}\\hat{\\omega}^{(3)} + 10\\hat{r}_2\\hat{\\omega}^{(1)}\\hat{\\omega}^{(2)} + 10\\hat{\\omega}^2\\hat{r}_2^{(3)} + 30\\hat{\\omega}\\hat{\\omega}^{(1)}\\hat{r}_2^{(2)} + 20\\hat{\\omega}\\hat{\\omega}^{(2)}\\hat{r}_2^{(1)} + 15\\hat{r}_2^{(1)}(\\hat{\\omega}^{(1)})^2 - \\frac{1}{3}\\hat{r}_2^{(5)} \\right]\n",
    "\\end{align}\n",
    "$$"
   ]
  },
  {
   "cell_type": "markdown",
   "metadata": {},
   "source": [
    "Пусть $I_J$ и $I_E$ равны нулю.\n",
    "Тогда и момент импульса и энергия сохраняются.\n",
    "\n",
    "$\\hat{J} = |\\vec{\\hat{r}} \\times \\vec{\\hat{v}}| = |\\vec{\\hat{r}}_\\infty \\times \\vec{\\hat{v}}_\\infty| = \\hat{r}\\hat{v}_\\infty \\sin(\\phi)$\n",
    "\n",
    "Так как $\\phi = \\pi/2$ на бесконечности, то $\\hat{J} = b\\hat{v}_\\infty = u$,\n",
    "то $u$ - безразмерная скорость на бесконечности.\n",
    "\n",
    "Отсюда следует, что $\\hat{\\omega} = \\frac{u}{\\hat{r}_2}$"
   ]
  },
  {
   "cell_type": "markdown",
   "metadata": {},
   "source": [
    "$$\n",
    "\\Delta E = \\epsilon_G \\int\\limits_{r_{\\text{min}}}^{\\infty}I_E d t,\n",
    "$$"
   ]
  },
  {
   "cell_type": "code",
   "execution_count": 81,
   "metadata": {
    "vscode": {
     "languageId": "wolfram"
    }
   },
   "outputs": [],
   "source": [
    "OmegaReplace2 = {\n",
    "   OverHat[\\[Omega]][OverHat[t]] -> u/Subscript[OverHat[r], 2][OverHat[t]],\n",
    "   Derivative[n_][OverHat[\\[Omega]]][OverHat[t]] :> u D[1/Subscript[OverHat[r], 2][OverHat[t]], {OverHat[t], n}]\n",
    "};"
   ]
  },
  {
   "cell_type": "code",
   "execution_count": 83,
   "metadata": {
    "vscode": {
     "languageId": "wolfram"
    }
   },
   "outputs": [
    {
     "data": {
      "text/html": [
       "<div><img alt=\"Output\" src=\"data:image/png;base64,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\"></div>"
      ],
      "text/plain": [
       "FormBox[RowBox[{FractionBox[RowBox[{\"16\", \" \", SuperscriptBox[\"u\", \"6\"]}], \n",
       "\n",
       " \n",
       ">         RowBox[{SubsuperscriptBox[OverscriptBox[\"r\", \"^\"], \"2\", \"4\"], \" \", \n",
       "\n",
       " \n",
       ">           SuperscriptBox[SubscriptBox[OverscriptBox[\"r\", \"^\"], \"2\"], \"′\"]}]], \"-\", \n",
       "\n",
       " \n",
       ">        FractionBox[RowBox[{\"40\", \" \", SuperscriptBox[\"u\", \"4\"], \" \", \n",
       "\n",
       " \n",
       ">           SuperscriptBox[SubscriptBox[OverscriptBox[\"r\", \"^\"], \"2\"], \"′\"]}], \n",
       "\n",
       " \n",
       ">         SubsuperscriptBox[OverscriptBox[\"r\", \"^\"], \"2\", \"4\"]], \"-\", \n",
       "\n",
       " \n",
       ">        FractionBox[RowBox[{\"4\", \" \", SuperscriptBox[\"u\", \"2\"], \" \", \n",
       "\n",
       " \n",
       ">           SuperscriptBox[RowBox[{\"(\", \n",
       "\n",
       " \n",
       ">              SuperscriptBox[SubscriptBox[OverscriptBox[\"r\", \"^\"], \"2\"], \"′′\"], \")\"}], \n",
       "\n",
       " \n",
       ">            \"2\"]}], RowBox[{SubsuperscriptBox[OverscriptBox[\"r\", \"^\"], \"2\", \"2\"], \" \", \n",
       "\n",
       " \n",
       ">           SuperscriptBox[SubscriptBox[OverscriptBox[\"r\", \"^\"], \"2\"], \"′\"]}]], \"+\", \n",
       "\n",
       " \n",
       ">        FractionBox[RowBox[{\"24\", \" \", SuperscriptBox[\"u\", \"2\"], \" \", \n",
       "\n",
       " \n",
       ">           SuperscriptBox[SubscriptBox[OverscriptBox[\"r\", \"^\"], \"2\"], \"′\"], \" \", \n",
       "\n",
       " \n",
       ">           SuperscriptBox[SubscriptBox[OverscriptBox[\"r\", \"^\"], \"2\"], \"′′\"]}], \n",
       "\n",
       " \n",
       ">         SubsuperscriptBox[OverscriptBox[\"r\", \"^\"], \"2\", \"3\"]], \"+\", \n",
       "\n",
       " \n",
       ">        FractionBox[RowBox[{\"4\", \" \", SuperscriptBox[\"u\", \"2\"], \" \", \n",
       "\n",
       " \n",
       ">           SuperscriptBox[SubscriptBox[OverscriptBox[\"r\", \"^\"], \"2\"], \"′′′′\"]}], \n",
       "\n",
       " \n",
       ">         RowBox[{SubscriptBox[OverscriptBox[\"r\", \"^\"], \"2\"], \" \", \n",
       "\n",
       " \n",
       ">           SuperscriptBox[SubscriptBox[OverscriptBox[\"r\", \"^\"], \"2\"], \"′\"]}]], \"-\", \n",
       "\n",
       " \n",
       ">        FractionBox[RowBox[{\"11\", \" \", SuperscriptBox[\"u\", \"2\"], \" \", \n",
       "\n",
       " \n",
       ">           SuperscriptBox[RowBox[{\"(\", \n",
       "\n",
       " \n",
       ">              SuperscriptBox[SubscriptBox[OverscriptBox[\"r\", \"^\"], \"2\"], \"′\"], \")\"}], \n",
       "\n",
       " \n",
       ">            \"3\"]}], SubsuperscriptBox[OverscriptBox[\"r\", \"^\"], \"2\", \"4\"]], \"-\", \n",
       "\n",
       " \n",
       ">        FractionBox[RowBox[{\"12\", \" \", SuperscriptBox[\"u\", \"2\"], \" \", \n",
       "\n",
       " \n",
       ">           SuperscriptBox[SubscriptBox[OverscriptBox[\"r\", \"^\"], \"2\"], \"′′′\"]}], \n",
       "\n",
       " \n",
       ">         SubsuperscriptBox[OverscriptBox[\"r\", \"^\"], \"2\", \"2\"]], \"+\", \n",
       "\n",
       " \n",
       ">        FractionBox[SuperscriptBox[SubscriptBox[OverscriptBox[\"r\", \"^\"], \"2\"],\\\n",
       " \n",
       ">    \"′′′′′\"], \n",
       "      \"3\"]}], TraditionalForm]\n"
      ]
     },
     "execution_count": 83,
     "metadata": {
      "text/html": [],
      "text/plain": []
     },
     "output_type": "execute_result"
    }
   ],
   "source": [
    "dEdr = Simplify[-dEdt/D[Subscript[OverHat[r], 2][OverHat[t]], OverHat[t]] //. OmegaReplace2];\n",
    "Expand[Simplify[dEdr]] // TraditionalForm"
   ]
  },
  {
   "cell_type": "markdown",
   "metadata": {},
   "source": [
    "Из сохранения энергии следует, что\n",
    "$\\hat{E} = \\hat{E}_\\infty = \\frac{u^2}{2} = \\left(\\frac{(\\hat{r}^{(1)})^2}{2} + \\frac{\\hat{r}^2 \\hat{\\omega}^2}{2} - \\frac{1}{\\hat{r}}\\right)$"
   ]
  },
  {
   "cell_type": "code",
   "execution_count": 112,
   "metadata": {
    "vscode": {
     "languageId": "wolfram"
    }
   },
   "outputs": [
    {
     "data": {
      "text/html": [
       "<div><img alt=\"Output\" src=\"data:image/png;base64,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\"></div>"
      ],
      "text/plain": [
       "FormBox[RowBox[{\"{\", RowBox[{RowBox[{RowBox[{\"-\", \"2\"}], \" \", \n",
       "\n",
       " \n",
       ">            SqrtBox[RowBox[{RowBox[{SubscriptBox[OverscriptBox[\"r\", \"^\"], \"2\"], \" \", \n",
       "\n",
       " \n",
       ">                 SuperscriptBox[\"u\", \"2\"]}], \"+\", \n",
       "\n",
       " \n",
       ">               RowBox[{\"2\", \" \", SqrtBox[SubscriptBox[OverscriptBox[\"r\", \"^\"], \"2\"]]}],\\\n",
       " \n",
       ">    \n",
       "            \"-\", SuperscriptBox[\"u\", \"2\"]}]]}], \",\", \n",
       "\n",
       " \n",
       ">          RowBox[{\"2\", \" \", RowBox[{\"(\", \n",
       "           RowBox[{FractionBox[\"1\", \n",
       "\n",
       " \n",
       ">                 SqrtBox[SubscriptBox[OverscriptBox[\"r\", \"^\"], \"2\"]]], \"+\", \n",
       "\n",
       " \n",
       ">                SuperscriptBox[\"u\", \"2\"]}], \")\"}]}], \",\", \n",
       "\n",
       " \n",
       ">          FractionBox[RowBox[{\"2\", \" \", \n",
       "\n",
       " \n",
       ">             SqrtBox[RowBox[{RowBox[{SubscriptBox[OverscriptBox[\"r\", \"^\"], \"2\"], \" \", \n",
       "\n",
       " \n",
       ">                  SuperscriptBox[\"u\", \"2\"]}], \"+\", \n",
       "\n",
       " \n",
       ">                RowBox[{\"2\", \" \", SqrtBox[SubscriptBox[OverscriptBox[\"r\", \"^\"], \n",
       "\n",
       " \n",
       ">                    \"2\"]]}], \"-\", SuperscriptBox[\"u\", \"2\"]}]]}], \n",
       "\n",
       " \n",
       ">           SubsuperscriptBox[OverscriptBox[\"r\", \"^\"], \"2\", RowBox[{\"3\", \"/\", \"2\"}]]], \n",
       "\n",
       " \n",
       ">          \",\", FractionBox[RowBox[{\"2\", \" \", \n",
       "\n",
       " \n",
       ">             RowBox[{\"(\", RowBox[{RowBox[{\"2\", \" \", \n",
       "\n",
       " \n",
       ">                   SubscriptBox[OverscriptBox[\"r\", \"^\"], \"2\"], \" \", \n",
       "\n",
       " \n",
       ">                   SuperscriptBox[\"u\", \"2\"]}], \"+\", \n",
       "\n",
       " \n",
       ">                 RowBox[{\"5\", \" \", SqrtBox[SubscriptBox[OverscriptBox[\"r\", \"^\"], \n",
       "\n",
       " \n",
       ">                     \"2\"]]}], \"-\", RowBox[{\"3\", \" \", SuperscriptBox[\"u\", \"2\"]}]}],\\\n",
       " \n",
       ">    \")\"}\\\n",
       "]}], SubsuperscriptBox[OverscriptBox[\"r\", \"^\"], \"2\", RowBox[{\"5\", \"/\",\\\n",
       " \n",
       ">    \"2\"}]]], \",\", \n",
       "       FractionBox[RowBox[{\"2\", \" \", \n",
       "\n",
       " \n",
       ">             SqrtBox[RowBox[{RowBox[{SubscriptBox[OverscriptBox[\"r\", \"^\"], \"2\"], \" \", \n",
       "\n",
       " \n",
       ">                  SuperscriptBox[\"u\", \"2\"]}], \"+\", \n",
       "\n",
       " \n",
       ">                RowBox[{\"2\", \" \", SqrtBox[SubscriptBox[OverscriptBox[\"r\", \"^\"], \n",
       "\n",
       " \n",
       ">                    \"2\"]]}], \"-\", SuperscriptBox[\"u\", \"2\"]}]], \" \", \n",
       "\n",
       " \n",
       ">             RowBox[{\"(\", RowBox[{RowBox[{\"6\", \" \", \n",
       "\n",
       " \n",
       ">                   SubscriptBox[OverscriptBox[\"r\", \"^\"], \"2\"], \" \", \n",
       "\n",
       " \n",
       ">                   SuperscriptBox[\"u\", \"2\"]}], \"+\", \n",
       "\n",
       " \n",
       ">                 RowBox[{\"20\", \" \", SqrtBox[SubscriptBox[OverscriptBox[\"r\", \"^\"], \n",
       "\n",
       " \n",
       ">                     \"2\"]]}], \"-\", RowBox[{\"15\", \" \", SuperscriptBox[\"u\", \"2\"]}]}],\\\n",
       " \n",
       ">    \")\"}\\\n",
       "]}], SubsuperscriptBox[OverscriptBox[\"r\", \"^\"], \"2\", RowBox[{\"7\", \"/\",\\\n",
       " \n",
       ">    \"2\"}]]]}], \"}\"}]\\\n",
       ", TraditionalForm]\n"
      ]
     },
     "execution_count": 112,
     "metadata": {
      "text/html": [],
      "text/plain": []
     },
     "output_type": "execute_result"
    }
   ],
   "source": [
    "eq = Energy - u^2/2 //. Flatten[{\n",
    "   ToR2Replacement,\n",
    "   OmegaReplace2,\n",
    "   D[Subscript[OverHat[r], 2][OverHat[t]], OverHat[t]]^2 -> x^2\n",
    "}];\n",
    "\n",
    "sol = Solve[eq == 0, x][[1]];\n",
    "\n",
    "replacementRule = D[Subscript[OverHat[r], 2][OverHat[t]], OverHat[t]] :> x /. sol[[1]];\n",
    "\n",
    "(* Рекурсивно вычисляем производные *)\n",
    "dr2 = NestList[\n",
    "   Simplify[D[#, OverHat[t]] /. replacementRule] &,\n",
    "   x /. sol[[1]],\n",
    "   4\n",
    "];\n",
    "\n",
    "dr2 // TraditionalForm"
   ]
  },
  {
   "cell_type": "code",
   "execution_count": null,
   "metadata": {
    "vscode": {
     "languageId": "wolfram"
    }
   },
   "outputs": [
    {
     "data": {
      "text/html": [
       "<div><img alt=\"Output\" src=\"data:image/png;base64,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\"></div>"
      ],
      "text/plain": [
       "FormBox[FractionBox[RowBox[{\"2\", \" \", \n",
       "      RowBox[{\"(\", RowBox[{RowBox[{\"6\", \" \", \n",
       "\n",
       " \n",
       ">               SubsuperscriptBox[OverscriptBox[\"r\", \"^\"], \"2\", \"2\"], \" \", \n",
       "\n",
       " \n",
       ">               SuperscriptBox[\"u\", \"4\"]}], \"+\", \n",
       "\n",
       " \n",
       ">             RowBox[{SubscriptBox[OverscriptBox[\"r\", \"^\"], \"2\"], \" \", \n",
       "\n",
       " \n",
       ">               RowBox[{\"(\", RowBox[{RowBox[{\"51\", \" \", SuperscriptBox[\"u\", \"4\"]}], \n",
       "\n",
       " \n",
       ">                   \"+\", \"40\"}], \")\"}]}], \"+\", \n",
       "\n",
       " \n",
       ">             RowBox[{\"32\", \" \", SubsuperscriptBox[OverscriptBox[\"r\", \"^\"], \"2\", \n",
       "\n",
       " \n",
       ">                RowBox[{\"3\", \"/\", \"2\"}]], \" \", SuperscriptBox[\"u\", \"2\"]}], \"+\", \n",
       "\n",
       " \n",
       ">             RowBox[{\"100\", \" \", SqrtBox[SubscriptBox[OverscriptBox[\"r\", \"^\"], \"2\"]], \n",
       "\n",
       " \n",
       ">               \" \", SuperscriptBox[\"u\", \"2\"]}], \"-\", \n",
       "\n",
       " \n",
       ">             RowBox[{\"75\", \" \", SuperscriptBox[\"u\", \"4\"]}]}], \")\"}]}], \n",
       "\n",
       " \n",
       ">       RowBox[{\"3\", \" \", SubsuperscriptBox[OverscriptBox[\"r\", \"^\"], \"2\", \n",
       "\n",
       " \n",
       ">          RowBox[{\"7\", \"/\", \"2\"}]], \" \", \n",
       "\n",
       " \n",
       ">         SqrtBox[RowBox[{RowBox[{SubscriptBox[OverscriptBox[\"r\", \"^\"], \"2\"], \" \", \n",
       "\n",
       " \n",
       ">              SuperscriptBox[\"u\", \"2\"]}], \"+\", \n",
       "\n",
       " \n",
       ">            RowBox[{\"2\", \" \", SqrtBox[SubscriptBox[OverscriptBox[\"r\", \"^\"], \"2\"]]}],\\\n",
       " \n",
       ">    \"-\", \n",
       "         SuperscriptBox[\"u\", \"2\"]}]]}]], TraditionalForm]\n"
      ]
     },
     "execution_count": 114,
     "metadata": {
      "text/html": [],
      "text/plain": []
     },
     "output_type": "execute_result"
    }
   ],
   "source": [
    "dEdrFinal = Fold[ (* Последовательно применяем замены *)\n",
    "  Simplify[#1 /.\n",
    "    D[Subscript[OverHat[r], 2][OverHat[t]], {OverHat[t], #2}] -> dr2[[#2]]] &,\n",
    "  dEdr,\n",
    "  Range[5]\n",
    "];\n",
    "\n",
    "Simplify[dEdrFinal, {u ∈ Reals, u > 0}] // TraditionalForm"
   ]
  },
  {
   "cell_type": "markdown",
   "metadata": {},
   "source": [
    "$$\n",
    "  \\Delta \\hat{E}(u) = \\epsilon_G \\frac{2}{3}\\int_{r_\\text{min}}^\\infty \\frac{32 r^{3/2} u^2+6 r^2 u^4+r \\left(51 u^4+40\\right)+100 \\sqrt{r} u^2-75 u^4}{r^{7/2} \\sqrt{r u^2+2 \\sqrt{r}-u^2}} \\, dr,\n",
    "$$\n",
    "где при $r \\ge r_{\\text{min}}$ выражение $u^2r + 2\\sqrt{r} - u^2 \\ge 0$."
   ]
  },
  {
   "cell_type": "code",
   "execution_count": null,
   "metadata": {
    "vscode": {
     "languageId": "wolfram"
    }
   },
   "outputs": [
    {
     "data": {
      "text/html": [
       "<div><img alt=\"Output\" src=\"data:image/png;base64,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\"></div>"
      ],
      "text/plain": [
       "FormBox[FractionBox[RowBox[{SuperscriptBox[\"u\", \"4\"], \"-\", \n",
       "\n",
       " \n",
       ">         RowBox[{\"2\", \" \", SqrtBox[RowBox[{SuperscriptBox[\"u\", \"4\"], \"+\", \"1\"}]]}],\\\n",
       " \n",
       ">    \"+\", \n",
       "      \"2\"}], SuperscriptBox[\"u\", \"4\"]], TraditionalForm]\n"
      ]
     },
     "execution_count": 33,
     "metadata": {
      "text/html": [],
      "text/plain": []
     },
     "output_type": "execute_result"
    }
   ],
   "source": [
    "rMin[u_] := (2 + u^4 - 2 Sqrt[1 + u^4])/u^4;\n",
    "rMin[u] // TraditionalForm"
   ]
  },
  {
   "cell_type": "markdown",
   "metadata": {},
   "source": [
    "Полученный выше интеграл компактнее, чем тот, что рассмотрен в файле binary_catch2.pdf\n",
    "$$\n",
    "  \\Delta \\hat{E}(u) = \\epsilon_G \\frac{2}{3}\\int_{r_\\text{min}}^\\infty \\frac{24r^2u^6 + 48u^6r + 120r^{3/2}u^4 - 96u^6 + 96u^4\\sqrt{r} - u^2r^2 + 133u^2r - 2r^{3/2}}{r^4\\sqrt{u^2r + 2\\sqrt{r} - u^2}} \\, dr,\n",
    "$$"
   ]
  },
  {
   "cell_type": "markdown",
   "metadata": {},
   "source": [
    "<span style=\"color:red\">**NB:**</span> Однако, будучи аналитически взятым будет полностью <span style=\"color:green\">**совпадать!**</span>\n",
    "\n",
    "Смотри подробности в файле binary_catch_integral.ipynb"
   ]
  },
  {
   "cell_type": "code",
   "execution_count": null,
   "metadata": {
    "vscode": {
     "languageId": "wolfram"
    }
   },
   "outputs": [
    {
     "data": {
      "text/html": [
       "<div><img alt=\"Output\" src=\"data:image/png;base64,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\"></div>"
      ],
      "text/plain": [
       "FormBox[RowBox[{\"-\", FractionBox[RowBox[{SubscriptBox[\"ϵ\", \"G\"], \" \", \n",
       "\n",
       " \n",
       ">           RowBox[{\"(\", RowBox[{RowBox[{RowBox[{\"(\", \n",
       "\n",
       " \n",
       ">                   RowBox[{RowBox[{\"673\", \" \", SuperscriptBox[\"u\", \"4\"]}], \"+\", \n",
       "\n",
       " \n",
       ">                     \"1275\"}], \")\"}], \" \", SuperscriptBox[\"u\", \"2\"]}], \"+\", \n",
       "\n",
       " \n",
       ">               RowBox[{\"3\", \" \", RowBox[{\"(\", \n",
       "\n",
       " \n",
       ">                   RowBox[{RowBox[{\"37\", \" \", SuperscriptBox[\"u\", \"8\"]}], \"+\", \n",
       "\n",
       " \n",
       ">                     RowBox[{\"366\", \" \", SuperscriptBox[\"u\", \"4\"]}], \"+\", \"425\"}],\\\n",
       " \n",
       ">    \")\"}\\\n",
       "], \" \", RowBox[{\"(\", RowBox[{RowBox[{SuperscriptBox[\"tan\", RowBox[{\"-\",\\\n",
       " \n",
       ">    \"1\"}]], \n",
       "                    \"(\", FractionBox[\"1\", SuperscriptBox[\"u\", \"2\"]],\\\n",
       " \n",
       ">    \")\"}], \"+\", \n",
       "                  FractionBox[\"π\", \"2\"]}], \")\"}]}]}], \")\"}]}], \n",
       "\n",
       " \n",
       ">         RowBox[{\"18\", \" \", SuperscriptBox[\"u\", \"7\"]}]]}], TraditionalForm]\n"
      ]
     },
     "execution_count": 50,
     "metadata": {
      "text/html": [],
      "text/plain": []
     },
     "output_type": "execute_result"
    }
   ],
   "source": [
    "deltaE = -Subscript[\\[Epsilon], G]/18*(u^2*(1275 + 673*u^4) + 3*(425 + 366*u^4 + 37*u^8)*(Pi/2 + ArcTan[u^(-2)]))/u^7;\n",
    "deltaE // TraditionalForm"
   ]
  },
  {
   "cell_type": "code",
   "execution_count": 76,
   "metadata": {
    "vscode": {
     "languageId": "wolfram"
    }
   },
   "outputs": [
    {
     "data": {
      "text/html": [
       "<div><img alt=\"Output\" src=\"data:image/png;base64,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\"></div>"
      ],
      "text/plain": [
       "FormBox[RowBox[{SuperscriptBox[\"u\", \"9\"], \"<\", \n",
       "\n",
       " \n",
       ">        RowBox[{FractionBox[\"2\", \"9\"], \" \", SubscriptBox[\"ϵ\", \"G\"], \" \", \n",
       "\n",
       " \n",
       ">          RowBox[{\"(\", RowBox[{RowBox[{RowBox[{\"(\", \n",
       "\n",
       " \n",
       ">                  RowBox[{RowBox[{\"673\", \" \", SuperscriptBox[\"u\", \"4\"]}], \"+\", \n",
       "\n",
       " \n",
       ">                    \"1275\"}], \")\"}], \" \", SuperscriptBox[\"u\", \"2\"]}], \"+\", \n",
       "\n",
       " \n",
       ">              RowBox[{FractionBox[\"3\", \"2\"], \" \", \n",
       "\n",
       " \n",
       ">                RowBox[{\"(\", RowBox[{RowBox[{\"37\", \" \", SuperscriptBox[\"u\", \"8\"]}], \n",
       "\n",
       " \n",
       ">                    \"+\", RowBox[{\"366\", \" \", SuperscriptBox[\"u\", \"4\"]}], \"+\", \"425\"}], \n",
       "\n",
       " \n",
       ">                  \")\"}], \" \", RowBox[{\"(\", \n",
       "               RowBox[{RowBox[{\"2\", \" \", \n",
       "\n",
       " \n",
       ">                      RowBox[{SuperscriptBox[\"tan\", RowBox[{\"-\", \"1\"}]], \"(\", \n",
       "\n",
       " \n",
       ">                        FractionBox[\"1\", SuperscriptBox[\"u\", \"2\"]], \")\"}]}], \"+\",\\\n",
       " \n",
       ">    \"π\"}], \n",
       "               \")\"}]}]}], \")\"}]}]}], TraditionalForm]\n"
      ]
     },
     "execution_count": 76,
     "metadata": {
      "text/html": [],
      "text/plain": []
     },
     "output_type": "execute_result"
    }
   ],
   "source": [
    "deltaE2 = Simplify[2*deltaE + u^2/2];\n",
    "uMax2 = Simplify[2 u^7 deltaE2];\n",
    "Simplify[uMax2 < 0] // TraditionalForm"
   ]
  },
  {
   "cell_type": "code",
   "execution_count": 84,
   "metadata": {
    "vscode": {
     "languageId": "wolfram"
    }
   },
   "outputs": [
    {
     "data": {
      "text/html": [
       "<div><img alt=\"Output\" src=\"data:image/png;base64,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\"></div>"
      ],
      "text/plain": [
       "FormBox[InterpretationBox[RowBox[{FractionBox[RowBox[{\"850\", \" \", \"π\", \" \", \n",
       "\n",
       " \n",
       ">            SubscriptBox[\"ϵ\", \"G\"]}], \"3\"], \"+\", \n",
       "\n",
       " \n",
       ">         InterpretationBox[RowBox[{\"O\", \"(\", SuperscriptBox[\"u\", \"1\"], \")\"}], \n",
       "\n",
       " \n",
       ">          SeriesData[u, 0, List[], 0, 1, 1], Rule[Editable, False]]}], \n",
       "\n",
       " \n",
       ">       SeriesData[u, 0, List[Times[Rational[850, 3], Pi, Subscript[\\[Epsilon], G]]], 0,\\\n",
       " \n",
       ">    \n",
       "     1, 1], Rule[Editable, False]], TraditionalForm]\n"
      ]
     },
     "execution_count": 84,
     "metadata": {
      "text/html": [],
      "text/plain": []
     },
     "output_type": "execute_result"
    }
   ],
   "source": [
    "Simplify[Series[(u^9 - uMax2), {u, 0, 0}], {u ∈ Reals, u > 0}] // TraditionalForm"
   ]
  },
  {
   "cell_type": "code",
   "execution_count": null,
   "metadata": {
    "vscode": {
     "languageId": "wolfram"
    }
   },
   "outputs": [],
   "source": []
  }
 ],
 "metadata": {
  "kernelspec": {
   "display_name": "Wolfram Language 14.2",
   "language": "Wolfram Language",
   "name": "wolframlanguage14.2"
  },
  "language_info": {
   "codemirror_mode": "mathematica",
   "file_extension": ".m",
   "mimetype": "application/vnd.wolfram.m",
   "name": "Wolfram Language",
   "pygments_lexer": "mathematica",
   "version": "12.0"
  }
 },
 "nbformat": 4,
 "nbformat_minor": 2
}
