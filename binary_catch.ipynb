{
 "cells": [
  {
   "cell_type": "markdown",
   "metadata": {},
   "source": [
    "# Binary catch\n",
    "\n",
    "**При каких условиях два тела, налетающие друг на друга с бесконечности (в системе центра масс) станут связной системой из-за испускания гравволн?**"
   ]
  },
  {
   "cell_type": "code",
   "execution_count": 308,
   "metadata": {
    "vscode": {
     "languageId": "wolfram"
    }
   },
   "outputs": [
    {
     "name": "stdout",
     "output_type": "stream",
     "text": [
      "  (CleanSlate) Contexts purged: {Global`}\n",
      "  (CleanSlate) Approximate kernel memory recovered: 59 Kb\n"
     ]
    }
   ],
   "source": [
    "(* https://mathematica.stackexchange.com/questions/850/how-do-i-clear-all-user-defined-symbols/861#861 *)\n",
    "<< Utilities`CleanSlate`\n",
    "CleanSlate[];\n",
    "\n",
    "ClearAll[\"Global`*\"]\n",
    "(* ClearSystemCache[] *)\n",
    "(* https://mathematica.stackexchange.com/questions/111605/quit-vs-clearallglobal *)\n",
    "if[Length[Names[\"Global`*\"]] > 0, Remove[\"Global`*\"]];\n",
    "\n",
    "(* PacletInstall[\n",
    "    \"TensorSimplify\",\n",
    "\n",
    "    \"Site\" -> \"http://raw.githubusercontent.com/carlwoll/TensorSimplify/master\"\n",
    "]*)\n",
    "<<TensorSimplify`"
   ]
  },
  {
   "cell_type": "markdown",
   "metadata": {},
   "source": [
    "## Einstein Summation"
   ]
  },
  {
   "cell_type": "code",
   "execution_count": 317,
   "metadata": {
    "vscode": {
     "languageId": "wolfram"
    }
   },
   "outputs": [],
   "source": [
    "ClearAll@EinsteinSummation\n",
    "\n",
    "EinsteinSummation[in_List, arrays_] := Module[\n",
    "  {res =\n",
    "    isum[in -> Cases[Tally @ Flatten @ in, {_, 1}][[All, 1]], arrays]},\n",
    "  res /; res =!= $Failed\n",
    "  ]\n",
    "\n",
    "EinsteinSummation[in_List -> out_, arrays_] := Module[\n",
    "  {res = isum[in -> out, arrays]},\n",
    "  res /; res =!= $Failed\n",
    "  ]\n",
    "\n",
    "isum[in_List -> out_, arrays_List] := Catch@Module[\n",
    "  {indices, contracted, uncontracted, contractions, transpose},\n",
    "  If[Length[in] != Length[arrays],\n",
    "    Message[EinsteinSummation::length, Length[in], Length[arrays]];\n",
    "    Throw[$Failed]];\n",
    "  MapThread[\n",
    "    If[IntegerQ@TensorRank[#1] && Length[#1] != TensorRank[#2],\n",
    "      Message[EinsteinSummation::shape, #1, #2];\n",
    "      Throw[$Failed]] &, {in, arrays}];\n",
    "  indices = Tally[Flatten[in, 1]];\n",
    "  If[DeleteCases[indices, {_, 1 | 2}] =!= {},\n",
    "    Message[EinsteinSummation::repeat,\n",
    "      Cases[indices, {x_, Except[1 | 2]} :> x]];\n",
    "    Throw[$Failed]];\n",
    "  uncontracted = Cases[indices, {x_, 1} :> x];\n",
    "  If[Sort[uncontracted] =!= Sort[out],\n",
    "    Message[EinsteinSummation::output, uncontracted, out];\n",
    "    Throw[$Failed]];\n",
    "  contracted = Cases[indices, {x_, 2} :> x];\n",
    "  contractions = Flatten[Position[Flatten[in, 1], #]] & /@ contracted;\n",
    "  transpose = FindPermutation[uncontracted, out];\n",
    "  Activate@\n",
    "    TensorTranspose[\n",
    "      TensorContract[Inactive[TensorProduct] @@ arrays, contractions],\n",
    "    transpose]]\n",
    "\n",
    "EinsteinSummation::length =\n",
    "  \"Number of index specifications (`1`) does not match the number of \\\n",
    "tensors (`2`)\";\n",
    "EinsteinSummation::shape =\n",
    "  \"Index specification `1` does not match the tensor rank of `2`\";\n",
    "EinsteinSummation::repeat =\n",
    "  \"Index specifications `1` are repeated more than twice\";\n",
    "EinsteinSummation::output =\n",
    "  \"The uncontracted indices don't match the desired output\";"
   ]
  },
  {
   "cell_type": "markdown",
   "metadata": {},
   "source": [
    "## Система движения\n",
    "$$\n",
    "\\frac{d^2r_k}{dt^2} = -\\frac{G(m_A+m_B)}{r^3}r_k - \\frac{2}{5}f_{ki}^{(5)}r_i\n",
    "$$"
   ]
  },
  {
   "cell_type": "markdown",
   "metadata": {},
   "source": [
    "### Безразмерные единицы длины\n",
    "$$\n",
    "\\begin{align}\n",
    "r &= b\\hat{r} \\\\\n",
    "t &= t_0\\hat{t} \\\\\n",
    "f_{ij} &= b^2\\frac{G}{c^5}m_{AB}\\hat{f}_{ij} \\\\\n",
    "f_{ij}^{(5)} &= \\frac{b^2}{t_0^5}\\frac{G}{c^5}m_{AB}\\hat{f}_{ij}^{(5)}\n",
    "\\end{align}\n",
    "$$"
   ]
  },
  {
   "cell_type": "markdown",
   "metadata": {},
   "source": [
    "$$\n",
    "\\frac{d^2\\hat{r}_k}{d\\hat{t}^2} = -\\frac{t_0^2}{b^3}\\frac{G(m_A+m_B)}{\\hat{r}^3}\\hat{r}_k - \\frac{2}{5}\\frac{b^2}{t_0^3}\\frac{G}{c^5}m_{AB}\\hat{f}_{ki}^{(5)}\\hat{r}_i\n",
    "$$"
   ]
  },
  {
   "cell_type": "markdown",
   "metadata": {},
   "source": [
    "$$\n",
    "M=m_A+m_B \\quad\n",
    "\\mu = m_{AB} = \\frac{m_A m_B}{M}\n",
    "$$"
   ]
  },
  {
   "cell_type": "markdown",
   "metadata": {},
   "source": [
    "Пусть $t_0 = \\sqrt{\\frac{b^3}{GM}}$, тогда система перепишится как\n",
    "\n",
    "$$\n",
    "\\frac{d^2\\hat{r}_k}{d\\hat{t}^2} + \\frac{\\hat{r}_k}{\\hat{r}^3} = - \\epsilon_G\\hat{f}_{ki}^{(5)}\\hat{r}_i,\n",
    "$$\n",
    "\n",
    "где $ \\epsilon_G = \\frac{2}{5} \\frac{m_A m_B}{M^2} \\left( \\frac{GM}{b c^2} \\right)^{\\frac{5}{2}} $"
   ]
  },
  {
   "cell_type": "markdown",
   "metadata": {
    "vscode": {
     "languageId": "wolfram"
    }
   },
   "source": [
    "В задача двух тел без учёта гравитационного излучения в системе центра масс в полярных координатах радиус-вектор $\\hat{r}_k$ задаётся как:\n",
    "$$\n",
    "\\hat{r}_k = \\hat{r} e_{1k},\n",
    "$$\n",
    "где:\n",
    "- $\\hat{r}$ — расстояние между телами,\n",
    "- $e_{1k}$ — единичный вектор в направлении $\\hat{r}_k$.\n",
    "\n",
    "Скорость в полярных координатах выражается как:\n",
    "$$\n",
    "\\hat{r}_k^{(1)} = \\hat{r}^{(1)} e_{1k} + \\hat{r} \\phi^{(1)} e_{2k},\n",
    "$$\n",
    "где:\n",
    "- $\\hat{r}^{(1)}$ — радиальная скорость\n",
    "- $\\omega \\equiv \\phi^{(1)}$ — угловая скорость\n",
    "- $e_{2k}$ — единичный вектор, перпендикулярный $e_{1k}$.\n",
    "\n",
    "### **Кинетическая энергия**\n",
    "Кинетическая энергия $T$ в полярных координатах выражается через радиальную и тангенциальную составляющие скорости:\n",
    "$$\n",
    "T = \\frac{\\mu b^2}{2 t_0^2} (\\hat{r}_k^{(1)})^2 = \\frac{\\mu b^2}{2 t_0^2} \\left( (\\hat{r}^{(1)})^2 + \\hat{r}^2 \\omega^2 \\right) = \\frac{G \\mu M}{b} \\frac{1}{2}\\left( (\\hat{r}^{(1)})^2 + \\hat{r}^2 \\omega^2 \\right)\n",
    "$$\n",
    "\n",
    "### **Потенциальная энергия**\n",
    "Потенциальная энергия $U$ зависит только от расстояния $\\hat{r}$:\n",
    "- Для гравитационного взаимодействия:\n",
    "  $$\n",
    "  U = -\\frac{G m_A m_B}{b \\hat{r}}.\n",
    "  $$\n",
    "\n",
    "### **Полная энергия**\n",
    "Полная энергия $E$ в полярных координатах:\n",
    "$$\n",
    "E = T + U = \\frac{G \\mu M}{b}\\left(\\frac{(\\hat{r}^{(1)})^2}{2} + \\frac{\\hat{r}^2 \\omega^2}{2} - \\frac{1}{\\hat{r}}\\right) = \\frac{G \\mu M}{b} \\hat{E}\n",
    "$$\n",
    "\n",
    "### **Момента импульса**\n",
    "Момент импульса $L$ в системе центра масс:\n",
    "$$\n",
    "L = \\mu \\frac{b^2}{t_0} \\hat{r}^2 \\omega = \\mu (G M)^{1/2} b^{3/2} \\hat{r}^2 \\omega = \\mu (G M)^{1/2} b^{3/2} \\hat{L}\n",
    "$$"
   ]
  },
  {
   "cell_type": "code",
   "execution_count": 329,
   "metadata": {
    "vscode": {
     "languageId": "wolfram"
    }
   },
   "outputs": [],
   "source": [
    "$Assumptions = {\n",
    "  {OverHat[r][OverHat[t]], OverHat[t], rh} \\[Element] PositiveReals\n",
    "};"
   ]
  },
  {
   "cell_type": "markdown",
   "metadata": {},
   "source": [
    "$\\hat{r}_k$"
   ]
  },
  {
   "cell_type": "code",
   "execution_count": 331,
   "metadata": {
    "vscode": {
     "languageId": "wolfram"
    }
   },
   "outputs": [
    {
     "data": {
      "text/html": [
       "<div><img alt=\"Output\" src=\"data:image/png;base64,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\"></div>"
      ],
      "text/plain": [
       "      ^   ^ ^\n",
       "Cos[ϕ[t]] r[t]\n",
       "\n",
       "      ^   ^ ^\n",
       "Sin[ϕ[t]] r[t]"
      ]
     },
     "execution_count": 331,
     "metadata": {
      "text/html": [],
      "text/plain": []
     },
     "output_type": "execute_result"
    }
   ],
   "source": [
    "rh = {OverHat[r][OverHat[t]]*Cos[\\[Phi][OverHat[t]]], OverHat[r][OverHat[t]]*Sin[\\[Phi][OverHat[t]]]};\n",
    "rh // MatrixForm"
   ]
  },
  {
   "cell_type": "markdown",
   "metadata": {},
   "source": [
    "$\\hat{f}_{ki}$"
   ]
  },
  {
   "cell_type": "code",
   "execution_count": 335,
   "metadata": {
    "vscode": {
     "languageId": "wolfram"
    }
   },
   "outputs": [
    {
     "data": {
      "text/html": [
       "<div><img alt=\"Output\" src=\"data:image/png;base64,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\"></div>"
      ],
      "text/plain": [
       "  1  ^         ^  2 ^ ^ 2\n",
       "-(-) r + Cos[ϕ[t]]  r[t]          ^         ^   ^ ^ 2\n",
       "  3                         Cos[ϕ[t]] Sin[ϕ[t]] r[t]\n",
       "\n",
       "                              1  ^         ^  2 ^ ^ 2\n",
       "      ^         ^   ^ ^ 2   -(-) r + Sin[ϕ[t]]  r[t]\n",
       "Cos[ϕ[t]] Sin[ϕ[t]] r[t]      3"
      ]
     },
     "execution_count": 335,
     "metadata": {
      "text/html": [],
      "text/plain": []
     },
     "output_type": "execute_result"
    }
   ],
   "source": [
    "fh = Simplify[Array[rh[[#]]*rh[[#2]] - 1/3*OverHat[r]*KroneckerDelta[#, #2] &, {2, 2}]];\n",
    "fh // MatrixForm"
   ]
  },
  {
   "cell_type": "markdown",
   "metadata": {},
   "source": [
    "$\\hat{f}_{ki}^{(5)}$"
   ]
  },
  {
   "cell_type": "code",
   "execution_count": null,
   "metadata": {
    "vscode": {
     "languageId": "wolfram"
    }
   },
   "outputs": [
    {
     "data": {
      "text/html": [
       "<div><img alt=\"Output\" src=\"data:image/png;base64,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\"></div>"
      ],
      "text/plain": [
       "^   (5)   ^   (5)\n",
       "f         f\n",
       " x,x       x,y\n",
       "\n",
       "^   (5)   ^   (5)\n",
       "f         f\n",
       " x,y       y,y"
      ]
     },
     "execution_count": 339,
     "metadata": {
      "text/html": [],
      "text/plain": []
     },
     "output_type": "execute_result"
    }
   ],
   "source": [
    "(* fh5 = Array[Superscript[Subscript[OverHat[f], {x, y}[[#1]], {x, y}[[#2]]], \"(5)\"] &, {2, 2}] *)\n",
    "(* Symmetric version *)\n",
    "fh5 = Array[If[#1 <= #2,\n",
    "                    Superscript[Subscript[OverHat[f], {x, y}[[#1]], {x, y}[[#2]]], \"(5)\"],\n",
    "                    Superscript[Subscript[OverHat[f], {x, y}[[#2]], {x, y}[[#1]]], \"(5)\"]] &, {2, 2}];\n",
    "fh5 // MatrixForm"
   ]
  },
  {
   "cell_type": "markdown",
   "metadata": {},
   "source": [
    "$\\hat{f}_{ki}^{(5)}\\hat{r}_i$"
   ]
  },
  {
   "cell_type": "code",
   "execution_count": 342,
   "metadata": {
    "vscode": {
     "languageId": "wolfram"
    }
   },
   "outputs": [
    {
     "data": {
      "text/html": [
       "<div><img alt=\"Output\" src=\"data:image/png;base64,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\"></div>"
      ],
      "text/plain": [
       "      ^   ^   (5) ^ ^          ^   ^   (5) ^ ^\n",
       "Cos[ϕ[t]] f       r[t] + Sin[ϕ[t]] f       r[t]\n",
       "           x,x                      x,y\n",
       "\n",
       "      ^   ^   (5) ^ ^          ^   ^   (5) ^ ^\n",
       "Cos[ϕ[t]] f       r[t] + Sin[ϕ[t]] f       r[t]\n",
       "           x,y                      y,y"
      ]
     },
     "execution_count": 342,
     "metadata": {
      "text/html": [],
      "text/plain": []
     },
     "output_type": "execute_result"
    }
   ],
   "source": [
    "fh5rh = EinsteinSummation[{{k, i}, {i}}, {fh5, rh}];\n",
    "fh5rh // MatrixForm"
   ]
  },
  {
   "cell_type": "markdown",
   "metadata": {},
   "source": [
    "### Повернём систему с помощью матрицы вращения $R_{ij}(\\phi)$ на угол $\\phi$ по часовой стрелке"
   ]
  },
  {
   "cell_type": "code",
   "execution_count": 477,
   "metadata": {
    "vscode": {
     "languageId": "wolfram"
    }
   },
   "outputs": [
    {
     "data": {
      "text/html": [
       "<div><img alt=\"Output\" src=\"data:image/png;base64,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\"></div>"
      ],
      "text/plain": [
       "Cos[ϕ]    Sin[ϕ]\n",
       "\n",
       "-Sin[ϕ]   Cos[ϕ]"
      ]
     },
     "execution_count": 477,
     "metadata": {
      "text/html": [],
      "text/plain": []
     },
     "output_type": "execute_result"
    }
   ],
   "source": [
    "RotationMatrix[-\\[Phi]] // MatrixForm"
   ]
  },
  {
   "cell_type": "markdown",
   "metadata": {},
   "source": [
    "#### LHS"
   ]
  },
  {
   "cell_type": "code",
   "execution_count": 414,
   "metadata": {
    "vscode": {
     "languageId": "wolfram"
    }
   },
   "outputs": [
    {
     "data": {
      "text/html": [
       "<div><img alt=\"Output\" src=\"data:image/png;base64,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\"></div>"
      ],
      "text/plain": [
       "      ^\n",
       "Cos[ϕ[t]]           ^      ^   ^   ^    ^ ^           ^      ^ 2          ^       ^\n",
       "--------- - 2 Sin[ϕ[t]] ϕ'[t] (r)'[t] + r[t] (-(Cos[ϕ[t]] ϕ'[t] ) - Sin[ϕ[t]] ϕ''[t]) + \n",
       "  ^ ^ 2\n",
       "  r[t]\n",
       " \n",
       "          ^    ^    ^\n",
       ">   Cos[ϕ[t]] (r)''[t]\n",
       "\n",
       "      ^\n",
       "Sin[ϕ[t]]           ^      ^   ^   ^    ^ ^           ^      ^ 2          ^       ^\n",
       "--------- + 2 Cos[ϕ[t]] ϕ'[t] (r)'[t] + r[t] (-(Sin[ϕ[t]] ϕ'[t] ) + Cos[ϕ[t]] ϕ''[t]) + \n",
       "  ^ ^ 2\n",
       "  r[t]\n",
       " \n",
       "          ^    ^    ^\n",
       ">   Sin[ϕ[t]] (r)''[t]"
      ]
     },
     "execution_count": 414,
     "metadata": {
      "text/html": [],
      "text/plain": []
     },
     "output_type": "execute_result"
    }
   ],
   "source": [
    "LHS = D[rh, {OverHat[t], 2}] + Simplify[rh / Norm[rh]^3];\n",
    "LHS // MatrixForm"
   ]
  },
  {
   "cell_type": "code",
   "execution_count": 415,
   "metadata": {
    "vscode": {
     "languageId": "wolfram"
    }
   },
   "outputs": [
    {
     "data": {
      "text/html": [
       "<div><img alt=\"Output\" src=\"data:image/png;base64,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\"></div>"
      ],
      "text/plain": [
       "^ ^ -2   ^ ^     ^ 2    ^    ^\n",
       "r[t]   - r[t] ϕ'[t]  + (r)''[t]\n",
       "\n",
       "     ^   ^   ^    ^ ^      ^\n",
       "2 ϕ'[t] (r)'[t] + r[t] ϕ''[t]"
      ]
     },
     "execution_count": 415,
     "metadata": {
      "text/html": [],
      "text/plain": []
     },
     "output_type": "execute_result"
    }
   ],
   "source": [
    "RotatedLHS = Simplify[RotationMatrix[-\\[Phi][OverHat[t]]] . LHS, Trig -> True] // MatrixForm"
   ]
  },
  {
   "cell_type": "markdown",
   "metadata": {},
   "source": [
    "Так как $\\omega \\equiv \\phi^{(1)}$"
   ]
  },
  {
   "cell_type": "code",
   "execution_count": 417,
   "metadata": {
    "vscode": {
     "languageId": "wolfram"
    }
   },
   "outputs": [
    {
     "data": {
      "text/html": [
       "<div><img alt=\"Output\" src=\"data:image/png;base64,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\"></div>"
      ],
      "text/plain": [
       "^ ^ -2     ^ 2 ^ ^     ^    ^\n",
       "r[t]   - ω[t]  r[t] + (r)''[t]\n",
       "\n",
       "^ ^     ^        ^   ^   ^\n",
       "r[t] ω'[t] + 2 ω[t] (r)'[t]"
      ]
     },
     "execution_count": 417,
     "metadata": {
      "text/html": [],
      "text/plain": []
     },
     "output_type": "execute_result"
    }
   ],
   "source": [
    "OmegaReplace = {\n",
    "    Derivative[1][\\[Phi]][OverHat[t]] :> \\[Omega][OverHat[t]],\n",
    "    Derivative[2][\\[Phi]][OverHat[t]] :> Derivative[1][\\[Omega]][OverHat[t]]\n",
    "};\n",
    "\n",
    "OmegaLHS = RotatedLHS /. OmegaReplace"
   ]
  },
  {
   "cell_type": "markdown",
   "metadata": {},
   "source": [
    "##### Specific Energy $\\hat{E}$"
   ]
  },
  {
   "cell_type": "code",
   "execution_count": 463,
   "metadata": {
    "vscode": {
     "languageId": "wolfram"
    }
   },
   "outputs": [
    {
     "data": {
      "text/html": [
       "<div><img alt=\"Output\" src=\"data:image/png;base64,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\"></div>"
      ],
      "text/plain": [
       "            ^ 2 ^ ^ 2    ^   ^ 2\n",
       "   1      ω[t]  r[t]    (r)'[t]\n",
       "-(----) + ----------- + --------\n",
       "  ^ ^          2           2\n",
       "  r[t]"
      ]
     },
     "execution_count": 463,
     "metadata": {
      "text/html": [],
      "text/plain": []
     },
     "output_type": "execute_result"
    }
   ],
   "source": [
    "Energy = (D[OverHat[r][OverHat[t]], OverHat[t]])^2/2 + (OverHat[r][OverHat[t]] \\[Omega][OverHat[t]])^2/2 - 1/OverHat[r][OverHat[t]]"
   ]
  },
  {
   "cell_type": "markdown",
   "metadata": {},
   "source": [
    "Отсюда $\\frac{1}{\\hat{r}^{(1)}}\\left(\\frac{d\\hat{E}}{d\\hat{t}} - \\omega \\frac{d\\hat{L}}{d\\hat{t}}\\right)$"
   ]
  },
  {
   "cell_type": "code",
   "execution_count": 467,
   "metadata": {
    "vscode": {
     "languageId": "wolfram"
    }
   },
   "outputs": [
    {
     "data": {
      "text/html": [
       "<div><img alt=\"Output\" src=\"data:image/png;base64,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\"></div>"
      ],
      "text/plain": [
       "^ ^ -2     ^ 2 ^ ^     ^    ^\n",
       "r[t]   - ω[t]  r[t] + (r)''[t]"
      ]
     },
     "execution_count": 467,
     "metadata": {
      "text/html": [],
      "text/plain": []
     },
     "output_type": "execute_result"
    }
   ],
   "source": [
    "Simplify[(D[Energy, OverHat[t]] - (AngularMomentum/OverHat[r][OverHat[t]]^2)(D[AngularMomentum,OverHat[t]]))/(D[OverHat[r][OverHat[t]], OverHat[t]])]"
   ]
  },
  {
   "cell_type": "markdown",
   "metadata": {},
   "source": [
    "Что совпадает с первой строкой LHS"
   ]
  },
  {
   "cell_type": "markdown",
   "metadata": {},
   "source": [
    "##### Specific Angular momentum $\\hat{L}$"
   ]
  },
  {
   "cell_type": "code",
   "execution_count": 418,
   "metadata": {
    "vscode": {
     "languageId": "wolfram"
    }
   },
   "outputs": [
    {
     "data": {
      "text/html": [
       "<div><img alt=\"Output\" src=\"data:image/png;base64,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\"></div>"
      ],
      "text/plain": [
       "  ^  ^ ^ 2\n",
       "ω[t] r[t]"
      ]
     },
     "execution_count": 418,
     "metadata": {
      "text/html": [],
      "text/plain": []
     },
     "output_type": "execute_result"
    }
   ],
   "source": [
    "AngularMomentum = (OverHat[r][OverHat[t]])^2 \\[Omega][OverHat[t]]"
   ]
  },
  {
   "cell_type": "markdown",
   "metadata": {},
   "source": [
    "Отсюда $\\frac{1}{\\hat{r}}\\frac{d\\hat{L}}{d\\hat{t}}$"
   ]
  },
  {
   "cell_type": "code",
   "execution_count": 420,
   "metadata": {
    "vscode": {
     "languageId": "wolfram"
    }
   },
   "outputs": [
    {
     "data": {
      "text/html": [
       "<div><img alt=\"Output\" src=\"data:image/png;base64,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\"></div>"
      ],
      "text/plain": [
       "^ ^     ^        ^   ^   ^\n",
       "r[t] ω'[t] + 2 ω[t] (r)'[t]"
      ]
     },
     "execution_count": 420,
     "metadata": {
      "text/html": [],
      "text/plain": []
     },
     "output_type": "execute_result"
    }
   ],
   "source": [
    "Simplify[D[AngularMomentum, OverHat[t]]/OverHat[r][OverHat[t]]]"
   ]
  },
  {
   "cell_type": "markdown",
   "metadata": {},
   "source": [
    "Что совпадает со второй строкой LHS"
   ]
  },
  {
   "cell_type": "markdown",
   "metadata": {},
   "source": [
    "Таким образом система превращается в\n",
    "\n",
    "$$\n",
    "\\begin{align}\n",
    "\\frac{1}{\\hat{r}^{(1)}}\\left(\\frac{d\\hat{E}}{d\\hat{t}} - \\omega \\frac{d\\hat{L}}{d\\hat{t}}\\right), \\frac{1}{\\hat{r}}\\frac{d\\hat{L}}{d\\hat{t}} = - \\epsilon_G R_{ki}(-\\phi) \\hat{f}_{ij}^{(5)}\\hat{r}_j\n",
    "\\end{align}\n",
    "$$"
   ]
  },
  {
   "cell_type": "markdown",
   "metadata": {},
   "source": [
    "#### RHS"
   ]
  },
  {
   "cell_type": "code",
   "execution_count": 479,
   "metadata": {
    "vscode": {
     "languageId": "wolfram"
    }
   },
   "outputs": [
    {
     "data": {
      "text/html": [
       "<div><img alt=\"Output\" src=\"data:image/png;base64,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\"></div>"
      ],
      "text/plain": [
       "            ^   ^   (5)         ^   ^   (5)  ^ ^\n",
       "-(ϵ  (Cos[ϕ[t]] f       + Sin[ϕ[t]] f      ) r[t])\n",
       "   G             x,x                 x,y\n",
       "\n",
       "            ^   ^   (5)         ^   ^   (5)  ^ ^\n",
       "-(ϵ  (Cos[ϕ[t]] f       + Sin[ϕ[t]] f      ) r[t])\n",
       "   G             x,y                 y,y"
      ]
     },
     "execution_count": 479,
     "metadata": {
      "text/html": [],
      "text/plain": []
     },
     "output_type": "execute_result"
    }
   ],
   "source": [
    "RHS = Simplify[-Subscript[\\[Epsilon],G] fh5rh];\n",
    "RHS // MatrixForm"
   ]
  },
  {
   "cell_type": "code",
   "execution_count": 480,
   "metadata": {
    "vscode": {
     "languageId": "wolfram"
    }
   },
   "outputs": [
    {
     "data": {
      "text/html": [
       "<div><img alt=\"Output\" src=\"data:image/png;base64,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\"></div>"
      ],
      "text/plain": [
       "\n",
       "\n",
       "            ^  2 ^   (5)           ^   ^   (5)         ^  2 ^   (5)  ^ ^\n",
       "-(ϵ  (Cos[ϕ[t]]  f       + Sin[2 ϕ[t]] f       + Sin[ϕ[t]]  f      ) r[t])\n",
       "   G              x,x                   x,y                  y,y\n",
       "\n",
       "            ^   ^   (5)             ^   ^   (5)           ^   ^   (5)  ^ ^\n",
       "ϵ  (Sin[2 ϕ[t]] f       - 2 Cos[2 ϕ[t]] f       - Sin[2 ϕ[t]] f      ) r[t]\n",
       " G               x,x                     x,y                   y,y\n",
       "---------------------------------------------------------------------------\n",
       "                                     2"
      ]
     },
     "execution_count": 480,
     "metadata": {
      "text/html": [],
      "text/plain": []
     },
     "output_type": "execute_result"
    }
   ],
   "source": [
    "Simplify[RotationMatrix[-\\[Phi][OverHat[t]]] . RHS, Trig -> True] // MatrixForm"
   ]
  },
  {
   "cell_type": "code",
   "execution_count": 481,
   "metadata": {
    "vscode": {
     "languageId": "wolfram"
    }
   },
   "outputs": [
    {
     "data": {
      "text/html": [
       "<div><img alt=\"Output\" src=\"data:image/png;base64,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\"></div>"
      ],
      "text/plain": [
       "       ^  2 ^   (5)           ^   ^   (5)         ^  2 ^   (5)  ^ ^\n",
       "(Cos[ϕ[t]]  f       + Sin[2 ϕ[t]] f       + Sin[ϕ[t]]  f      ) r[t]\n",
       "             x,x                   x,y                  y,y\n",
       "\n",
       "  1            ^   ^   (5)             ^   ^   (5)           ^   ^   (5)  ^ ^\n",
       "-(-) ((Sin[2 ϕ[t]] f       - 2 Cos[2 ϕ[t]] f       - Sin[2 ϕ[t]] f      ) r[t])\n",
       "  2                 x,x                     x,y                   y,y"
      ]
     },
     "execution_count": 481,
     "metadata": {
      "text/html": [],
      "text/plain": []
     },
     "output_type": "execute_result"
    }
   ],
   "source": [
    "Simplify[RotationMatrix[-\\[Phi][OverHat[t]]] . fh5rh, Trig -> True] // MatrixForm"
   ]
  },
  {
   "cell_type": "code",
   "execution_count": 482,
   "metadata": {
    "vscode": {
     "languageId": "wolfram"
    }
   },
   "outputs": [
    {
     "data": {
      "text/html": [
       "<div><img alt=\"Output\" src=\"data:image/png;base64,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\"></div>"
      ],
      "text/plain": [
       "     ^   ^ 2   ^ ^   ^    ^              ^      ^ 3             ^      ^      ^\n",
       "20 ((r)'[t]  + r[t] (r)''[t]) (4 Sin[2 ϕ[t]] ϕ'[t]  - 6 Cos[2 ϕ[t]] ϕ'[t] ϕ''[t] - \n",
       " \n",
       "               ^    (3) ^                   ^      ^ 2           ^       ^\n",
       ">      Sin[2 ϕ[t]] ϕ   [t]) - 20 (2 Cos[2 ϕ[t]] ϕ'[t]  + Sin[2 ϕ[t]] ϕ''[t]) \n",
       " \n",
       "         ^   ^   ^    ^    ^ ^   ^ (3) ^\n",
       ">    (3 (r)'[t] (r)''[t] + r[t] (r)   [t]) + \n",
       " \n",
       "       ^ ^   ^   ^             ^      ^ 4              ^      ^ 2     ^\n",
       ">   10 r[t] (r)'[t] (8 Cos[2 ϕ[t]] ϕ'[t]  + 24 Sin[2 ϕ[t]] ϕ'[t]  ϕ''[t] - \n",
       " \n",
       "                 ^       ^ 2             ^      ^   (3) ^            ^    (4) ^\n",
       ">      6 Cos[2 ϕ[t]] ϕ''[t]  - 8 Cos[2 ϕ[t]] ϕ'[t] ϕ   [t] - Sin[2 ϕ[t]] ϕ   [t]) - \n",
       " \n",
       "               ^      ^      ^    ^ 2      ^   ^   ^ (3) ^    ^ ^   ^ (4) ^\n",
       ">   10 Sin[2 ϕ[t]] ϕ'[t] (3 (r)''[t]  + 4 (r)'[t] (r)   [t] + r[t] (r)   [t]) - \n",
       " \n",
       "    ^ ^ 2             ^      ^ 5              ^      ^ 3     ^\n",
       ">   r[t]  (16 Sin[2 ϕ[t]] ϕ'[t]  - 80 Cos[2 ϕ[t]] ϕ'[t]  ϕ''[t] - \n",
       " \n",
       "                  ^      ^ 2  (3) ^               ^       ^   (3) ^\n",
       ">      40 Sin[2 ϕ[t]] ϕ'[t]  ϕ   [t] + 20 Cos[2 ϕ[t]] ϕ''[t] ϕ   [t] + \n",
       " \n",
       "          ^               ^       ^ 2              ^    (4) ^             ^    (5) ^\n",
       ">      ϕ'[t] (-60 Sin[2 ϕ[t]] ϕ''[t]  + 10 Cos[2 ϕ[t]] ϕ   [t]) + Sin[2 ϕ[t]] ϕ   [t]) + \n",
       " \n",
       "            ^  2      ^    ^   ^ (3) ^       ^   ^   ^ (4) ^    ^ ^   ^ (5) ^\n",
       ">   2 Cos[ϕ[t]]  (10 (r)''[t] (r)   [t] + 5 (r)'[t] (r)   [t] + r[t] (r)   [t])\n",
       " \n",
       "                       ^      ^ 3  ^   ^ 2              ^      ^ 2  ^   ^   ^    ^\n",
       ">       5 (-16 Cos[2 ϕ[t]] ϕ'[t]  (r)'[t]  - 24 Sin[2 ϕ[t]] ϕ'[t]  (r)'[t] (r)''[t] + \n",
       " \n",
       "                  ^    ^   ^ 2  (3) ^              ^    ^    ^   ^ (3) ^\n",
       ">       4 Cos[2 ϕ[t]] (r)'[t]  ϕ   [t] + 2 Sin[2 ϕ[t]] (r)''[t] (r)   [t] + \n",
       " \n",
       "           ^               ^    ^   ^ 2     ^              ^    ^    ^ 2\n",
       ">       ϕ'[t] (-24 Sin[2 ϕ[t]] (r)'[t]  ϕ''[t] + 6 Cos[2 ϕ[t]] (r)''[t]  + \n",
       " \n",
       "                     ^    ^   ^   ^ (3) ^\n",
       ">          8 Cos[2 ϕ[t]] (r)'[t] (r)   [t]) + \n",
       " \n",
       "         ^   ^              ^       ^   ^    ^            ^    ^ (4) ^\n",
       ">       (r)'[t] (12 Cos[2 ϕ[t]] ϕ''[t] (r)''[t] + Sin[2 ϕ[t]] (r)   [t])) + \n",
       " \n",
       "     ^ ^ 2             ^      ^ 5              ^      ^ 3     ^\n",
       ">    r[t]  (16 Cos[2 ϕ[t]] ϕ'[t]  + 80 Sin[2 ϕ[t]] ϕ'[t]  ϕ''[t] - \n",
       " \n",
       "                   ^      ^ 2  (3) ^               ^       ^   (3) ^\n",
       ">       40 Cos[2 ϕ[t]] ϕ'[t]  ϕ   [t] - 20 Sin[2 ϕ[t]] ϕ''[t] ϕ   [t] - \n",
       " \n",
       "              ^             ^       ^ 2           ^    (4) ^             ^    (5) ^\n",
       ">       10 ϕ'[t] (6 Cos[2 ϕ[t]] ϕ''[t]  + Sin[2 ϕ[t]] ϕ   [t]) + Cos[2 ϕ[t]] ϕ   [t]) + \n",
       " \n",
       "     ^ ^              ^      ^ 4  ^   ^               ^      ^ 3  ^    ^\n",
       ">    r[t] (80 Sin[2 ϕ[t]] ϕ'[t]  (r)'[t] - 80 Cos[2 ϕ[t]] ϕ'[t]  (r)''[t] + \n",
       " \n",
       "                   ^    ^    ^   (3) ^               ^       ^   ^ (3) ^\n",
       ">       20 Cos[2 ϕ[t]] (r)''[t] ϕ   [t] + 20 Cos[2 ϕ[t]] ϕ''[t] (r)   [t] - \n",
       " \n",
       "              ^ 2            ^    ^   ^      ^            ^    ^ (3) ^\n",
       ">       40 ϕ'[t]  (6 Cos[2 ϕ[t]] (r)'[t] ϕ''[t] + Sin[2 ϕ[t]] (r)   [t]) + \n",
       " \n",
       "         ^   ^               ^       ^ 2              ^    (4) ^\n",
       ">       (r)'[t] (-60 Sin[2 ϕ[t]] ϕ''[t]  + 10 Cos[2 ϕ[t]] ϕ   [t]) - \n",
       " \n",
       "              ^              ^       ^   ^    ^              ^    ^   ^   (3) ^\n",
       ">       10 ϕ'[t] (12 Sin[2 ϕ[t]] ϕ''[t] (r)''[t] + 8 Sin[2 ϕ[t]] (r)'[t] ϕ   [t] - \n",
       " \n",
       "                   ^    ^ (4) ^             ^    ^ (5) ^\n",
       ">          Cos[2 ϕ[t]] (r)   [t]) + Sin[2 ϕ[t]] (r)   [t])\n",
       "\n",
       "               ^      ^ 3  ^   ^ 2              ^      ^ 2  ^   ^   ^    ^\n",
       "5 (-16 Cos[2 ϕ[t]] ϕ'[t]  (r)'[t]  - 24 Sin[2 ϕ[t]] ϕ'[t]  (r)'[t] (r)''[t] + \n",
       " \n",
       "                  ^    ^   ^ 2  (3) ^              ^    ^    ^   ^ (3) ^\n",
       ">       4 Cos[2 ϕ[t]] (r)'[t]  ϕ   [t] + 2 Sin[2 ϕ[t]] (r)''[t] (r)   [t] + \n",
       " \n",
       "           ^               ^    ^   ^ 2     ^              ^    ^    ^ 2\n",
       ">       ϕ'[t] (-24 Sin[2 ϕ[t]] (r)'[t]  ϕ''[t] + 6 Cos[2 ϕ[t]] (r)''[t]  + \n",
       " \n",
       "                     ^    ^   ^   ^ (3) ^\n",
       ">          8 Cos[2 ϕ[t]] (r)'[t] (r)   [t]) + \n",
       " \n",
       "         ^   ^              ^       ^   ^    ^            ^    ^ (4) ^\n",
       ">       (r)'[t] (12 Cos[2 ϕ[t]] ϕ''[t] (r)''[t] + Sin[2 ϕ[t]] (r)   [t])) + \n",
       " \n",
       "     ^ ^ 2             ^      ^ 5              ^      ^ 3     ^\n",
       ">    r[t]  (16 Cos[2 ϕ[t]] ϕ'[t]  + 80 Sin[2 ϕ[t]] ϕ'[t]  ϕ''[t] - \n",
       " \n",
       "                   ^      ^ 2  (3) ^               ^       ^   (3) ^\n",
       ">       40 Cos[2 ϕ[t]] ϕ'[t]  ϕ   [t] - 20 Sin[2 ϕ[t]] ϕ''[t] ϕ   [t] - \n",
       " \n",
       "              ^             ^       ^ 2           ^    (4) ^             ^    (5) ^\n",
       ">       10 ϕ'[t] (6 Cos[2 ϕ[t]] ϕ''[t]  + Sin[2 ϕ[t]] ϕ   [t]) + Cos[2 ϕ[t]] ϕ   [t]) + \n",
       " \n",
       "     ^ ^              ^      ^ 4  ^   ^               ^      ^ 3  ^    ^\n",
       ">    r[t] (80 Sin[2 ϕ[t]] ϕ'[t]  (r)'[t] - 80 Cos[2 ϕ[t]] ϕ'[t]  (r)''[t] + \n",
       " \n",
       "                   ^    ^    ^   (3) ^               ^       ^   ^ (3) ^\n",
       ">       20 Cos[2 ϕ[t]] (r)''[t] ϕ   [t] + 20 Cos[2 ϕ[t]] ϕ''[t] (r)   [t] - \n",
       " \n",
       "              ^ 2            ^    ^   ^      ^            ^    ^ (3) ^\n",
       ">       40 ϕ'[t]  (6 Cos[2 ϕ[t]] (r)'[t] ϕ''[t] + Sin[2 ϕ[t]] (r)   [t]) + \n",
       " \n",
       "         ^   ^               ^       ^ 2              ^    (4) ^\n",
       ">       (r)'[t] (-60 Sin[2 ϕ[t]] ϕ''[t]  + 10 Cos[2 ϕ[t]] ϕ   [t]) - \n",
       " \n",
       "              ^              ^       ^   ^    ^              ^    ^   ^   (3) ^\n",
       ">       10 ϕ'[t] (12 Sin[2 ϕ[t]] ϕ''[t] (r)''[t] + 8 Sin[2 ϕ[t]] (r)'[t] ϕ   [t] - \n",
       " \n",
       "                   ^    ^ (4) ^             ^    ^ (5) ^\n",
       ">          Cos[2 ϕ[t]] (r)   [t]) + Sin[2 ϕ[t]] (r)   [t])         ^   ^ 2\n",
       "                                                             -20 ((r)'[t]  + \n",
       "                                                              \n",
       "                                                                    ^ ^   ^    ^\n",
       "                                                             >      r[t] (r)''[t]) \n",
       "                                                              \n",
       "                                                                             ^\n",
       "                                                             >    (4 Sin[2 ϕ[t]] \n",
       "                                                              \n",
       "                                                                        ^ 3\n",
       "                                                             >       ϕ'[t]  - \n",
       "                                                              \n",
       "                                                                              ^      ^\n",
       "                                                             >      6 Cos[2 ϕ[t]] ϕ'[t] \n",
       "                                                              \n",
       "                                                                         ^\n",
       "                                                             >       ϕ''[t] - \n",
       "                                                              \n",
       "                                                                            ^    (3) ^\n",
       "                                                             >      Sin[2 ϕ[t]] ϕ   [t])\\\n",
       "                                                              \n",
       "                                                                                  ^\n",
       "                                                             >    + 20 (2 Cos[2 ϕ[t]] \n",
       "                                                              \n",
       "                                                                        ^ 2\n",
       "                                                             >       ϕ'[t]  + \n",
       "                                                              \n",
       "                                                                            ^       ^\n",
       "                                                             >      Sin[2 ϕ[t]] ϕ''[t]) \n",
       "                                                              \n",
       "                                                                      ^   ^   ^    ^\n",
       "                                                             >    (3 (r)'[t] (r)''[t] + \n",
       "                                                              \n",
       "                                                                    ^ ^   ^ (3) ^\n",
       "                                                             >      r[t] (r)   [t]) - \n",
       "                                                              \n",
       "                                                                    ^ ^   ^   ^\n",
       "                                                             >   10 r[t] (r)'[t] \n",
       "                                                              \n",
       "                                                                             ^\n",
       "                                                             >    (8 Cos[2 ϕ[t]] \n",
       "                                                              \n",
       "                                                                        ^ 4\n",
       "                                                             >       ϕ'[t]  + \n",
       "                                                              \n",
       "                                                                               ^\n",
       "                                                             >      24 Sin[2 ϕ[t]] \n",
       "                                                              \n",
       "                                                                        ^ 2     ^\n",
       "                                                             >       ϕ'[t]  ϕ''[t] - \n",
       "                                                              \n",
       "                                                                              ^\n",
       "                                                             >      6 Cos[2 ϕ[t]] \n",
       "                                                              \n",
       "                                                                         ^ 2\n",
       "                                                             >       ϕ''[t]  - \n",
       "                                                              \n",
       "                                                                              ^      ^\n",
       "                                                             >      8 Cos[2 ϕ[t]] ϕ'[t] \n",
       "                                                              \n",
       "                                                                      (3) ^\n",
       "                                                             >       ϕ   [t] - \n",
       "                                                              \n",
       "                                                                            ^    (4) ^\n",
       "                                                             >      Sin[2 ϕ[t]] ϕ   [t])\\\n",
       "                                                              \n",
       "                                                                               ^      ^\n",
       "                                                             >    + 10 Sin[2 ϕ[t]] ϕ'[t] \n",
       "                                                              \n",
       "                                                                      ^    ^ 2\n",
       "                                                             >    (3 (r)''[t]  + \n",
       "                                                              \n",
       "                                                                       ^   ^\n",
       "                                                             >      4 (r)'[t] \n",
       "                                                              \n",
       "                                                                      ^ (3) ^\n",
       "                                                             >       (r)   [t] + \n",
       "                                                              \n",
       "                                                                    ^ ^   ^ (4) ^\n",
       "                                                             >      r[t] (r)   [t]) + \n",
       "                                                              \n",
       "                                                                 ^ ^ 2             ^\n",
       "                                                             >   r[t]  (16 Sin[2 ϕ[t]] \n",
       "                                                              \n",
       "                                                                        ^ 5\n",
       "                                                             >       ϕ'[t]  - \n",
       "                                                              \n",
       "                                                                               ^\n",
       "                                                             >      80 Cos[2 ϕ[t]] \n",
       "                                                              \n",
       "                                                                        ^ 3     ^\n",
       "                                                             >       ϕ'[t]  ϕ''[t] - \n",
       "                                                              \n",
       "                                                                               ^\n",
       "                                                             >      40 Sin[2 ϕ[t]] \n",
       "                                                              \n",
       "                                                                        ^ 2  (3) ^\n",
       "                                                             >       ϕ'[t]  ϕ   [t] + \n",
       "                                                              \n",
       "                                                                               ^\n",
       "                                                             >      20 Cos[2 ϕ[t]] \n",
       "                                                              \n",
       "                                                                         ^   (3) ^\n",
       "                                                             >       ϕ''[t] ϕ   [t] + \n",
       "                                                              \n",
       "                                                                       ^\n",
       "                                                             >      ϕ'[t] \n",
       "                                                              \n",
       "                                                                                  ^\n",
       "                                                             >       (-60 Sin[2 ϕ[t]] \n",
       "                                                              \n",
       "                                                                            ^ 2\n",
       "                                                             >          ϕ''[t]  + \n",
       "                                                              \n",
       "                                                                                  ^\n",
       "                                                             >         10 Cos[2 ϕ[t]] \n",
       "                                                              \n",
       "                                                                         (4) ^\n",
       "                                                             >          ϕ   [t]) + \n",
       "                                                              \n",
       "                                                                            ^    (5) ^\n",
       "                                                             >      Sin[2 ϕ[t]] ϕ   [t])\\\n",
       "                                                              \n",
       "                                                                            ^  2\n",
       "                                                             >    + 2 Sin[ϕ[t]]  \n",
       "                                                              \n",
       "                                                                       ^    ^\n",
       "                                                             >    (10 (r)''[t] \n",
       "                                                              \n",
       "                                                                      ^ (3) ^\n",
       "                                                             >       (r)   [t] + \n",
       "                                                              \n",
       "                                                                       ^   ^\n",
       "                                                             >      5 (r)'[t] \n",
       "                                                              \n",
       "                                                                      ^ (4) ^\n",
       "                                                             >       (r)   [t] + \n",
       "                                                              \n",
       "                                                                    ^ ^   ^ (5) ^\n",
       "                                                             >      r[t] (r)   [t])"
      ]
     },
     "execution_count": 482,
     "metadata": {
      "text/html": [],
      "text/plain": []
     },
     "output_type": "execute_result"
    }
   ],
   "source": [
    "Simplify[D[fh, {OverHat[t], 5}], Trig -> True] // MatrixForm"
   ]
  },
  {
   "cell_type": "markdown",
   "metadata": {},
   "source": [
    "# Интегрирование по частям\n",
    "[Integrate By Parts](https://resources.wolframcloud.com/FunctionRepository/resources/IntegrateByParts/)\n",
    "Contributed by: Wolfram|Alpha Math Team"
   ]
  },
  {
   "cell_type": "code",
   "execution_count": null,
   "metadata": {
    "vscode": {
     "languageId": "wolfram"
    }
   },
   "outputs": [],
   "source": [
    "IntegrateByParts // ClearAll;\n",
    "IntegrateByParts[ args___ ] :=\n",
    "    Module[ { res },\n",
    "        update[ ];\n",
    "        res = Symbol[ \"ResourceFunctionHelpers`IntegrateByParts\" ][ args ];\n",
    "        res /; Head @ res =!= Symbol[ \"ResourceFunctionHelpers`IntegrateByParts\" ]\n",
    "    ];"
   ]
  },
  {
   "cell_type": "code",
   "execution_count": null,
   "metadata": {
    "vscode": {
     "languageId": "wolfram"
    }
   },
   "outputs": [],
   "source": [
    "update // ClearAll;\n",
    "update[ ] /; $VersionNumber <= 12 :=\n",
    "    Once[\n",
    "\n",
    "        If[ MemberQ[ PacletSites[ ], $publicPacletSite ],\n",
    "            PacletManager`PacletUpdate[\n",
    "                \"ResourceFunctionHelpers\",\n",
    "                \"Site\"        -> \"http://pacletserver.wolfram.com\",\n",
    "                \"UpdateSites\" -> True\n",
    "            ]\n",
    "        ];\n",
    "\n",
    "        Quiet @ Block[ { $ContextPath }, Get[ \"ResourceFunctionHelpers`\" ] ]\n",
    "    ];"
   ]
  },
  {
   "cell_type": "code",
   "execution_count": null,
   "metadata": {
    "vscode": {
     "languageId": "wolfram"
    }
   },
   "outputs": [],
   "source": [
    "update // ClearAll;\n",
    "update[ ] /; $VersionNumber <= 12 :=\n",
    "    Once[\n",
    "\n",
    "        If[ MemberQ[ PacletSites[ ], $publicPacletSite ],\n",
    "            PacletManager`PacletUpdate[\n",
    "                \"ResourceFunctionHelpers\",\n",
    "                \"Site\"        -> \"http://pacletserver.wolfram.com\",\n",
    "                \"UpdateSites\" -> True\n",
    "            ]\n",
    "        ];\n",
    "\n",
    "        Quiet @ Block[ { $ContextPath }, Get[ \"ResourceFunctionHelpers`\" ] ]\n",
    "    ];"
   ]
  },
  {
   "cell_type": "markdown",
   "metadata": {},
   "source": [
    "$$\n",
    "  I_4(u) = \\int_{r_1}^\\infty \\frac{24r^2u^6 + 48u^6r + 120r^{3/2}u^4 - 96u^6 + 96u^4\\sqrt{r} - u^2r^2 + 133u^2r - 2r^{3/2}}{r^4\\sqrt{u^2r + 2\\sqrt{r} - u^2}} \\, dr,\n",
    "$$\n",
    "где при $r \\ge r_1$ выражение $u^2r + 2\\sqrt{r} - u^2 \\ge 0$.\n",
    "\n",
    "Всюду предполагается $u \\gt 0$."
   ]
  },
  {
   "cell_type": "markdown",
   "metadata": {},
   "source": [
    "## Интегрант $f_4(u, r)$:"
   ]
  },
  {
   "cell_type": "markdown",
   "metadata": {},
   "source": [
    "$$\n",
    "  f_4(u, r) = \\frac{24r^2u^6 + 48u^6r + 120r^{3/2}u^4 - 96u^6 + 96u^4\\sqrt{r} - u^2r^2 + 133u^2r - 2r^{3/2}}{r^4\\sqrt{u^2r + 2\\sqrt{r} - u^2}}\n",
    "$$"
   ]
  },
  {
   "cell_type": "code",
   "execution_count": null,
   "metadata": {
    "vscode": {
     "languageId": "wolfram"
    }
   },
   "outputs": [],
   "source": [
    "integrand4[u_, r_] = (24*r^2*u^6 + 48*u^6*r + 120*r^(3/2)*u^4 - 96*u^6 + 96*u^4*Sqrt[r] - u^2*r^2 + 133*u^2*r - 2*r^(3/2)) /\n",
    "  (r^4*Sqrt[u^2*r + 2*Sqrt[r] - u^2]);"
   ]
  },
  {
   "cell_type": "markdown",
   "metadata": {},
   "source": [
    "Значение интегранта при любом $u$ на бесконечно больших $r$ равно 0:"
   ]
  },
  {
   "cell_type": "code",
   "execution_count": null,
   "metadata": {
    "vscode": {
     "languageId": "wolfram"
    }
   },
   "outputs": [],
   "source": [
    "Limit[integrand4[u, r], r -> Infinity]"
   ]
  },
  {
   "cell_type": "markdown",
   "metadata": {},
   "source": [
    "### Выражение для левой границы $r_1$"
   ]
  },
  {
   "cell_type": "code",
   "execution_count": null,
   "metadata": {
    "vscode": {
     "languageId": "wolfram"
    }
   },
   "outputs": [],
   "source": [
    "eqr1[u_, r_] = u^2*r + 2*Sqrt[r] - u^2;\n",
    "sol = Assuming[{u ∈ Reals, r ∈ Reals, r > 0}, Solve[eqr1[u, r] == 0, r]];\n",
    "r1[u_] = Simplify[r/.sol[[1]]]"
   ]
  },
  {
   "cell_type": "markdown",
   "metadata": {},
   "source": [
    "$r_1$ обращается в 0 при $u \\rightarrow 0$:"
   ]
  },
  {
   "cell_type": "code",
   "execution_count": null,
   "metadata": {
    "vscode": {
     "languageId": "wolfram"
    }
   },
   "outputs": [],
   "source": [
    "Series[r1[u], {u, 0, 5}]\n",
    "Limit[r1[u], u -> 0]"
   ]
  },
  {
   "cell_type": "markdown",
   "metadata": {},
   "source": [
    "И проверим, что знаменатель обращается в 0 при $r = r_1$"
   ]
  },
  {
   "cell_type": "code",
   "execution_count": null,
   "metadata": {
    "vscode": {
     "languageId": "wolfram"
    }
   },
   "outputs": [],
   "source": [
    "PlotR1[u_] := Module[\n",
    "  {points, r1Value},\n",
    "\n",
    "  r1Value = Piecewise[{{0, u == 0}}, r1[u]];\n",
    "  points = {{r1Value, eqr1[u, r1Value]}};\n",
    "\n",
    "  plotLabel = \"u = \" <> ToString[u];\n",
    "\n",
    "  Show[\n",
    "    Plot[\n",
    "      eqr1[u, r],\n",
    "      {r, -1, 10},\n",
    "      AxesLabel -> {\"u\", \"r1\"},\n",
    "      PlotLabel -> plotLabel,\n",
    "      PlotRange -> All\n",
    "    ],\n",
    "    ListPlot[\n",
    "      points,\n",
    "      PlotStyle -> {Red, PointSize[Large]}\n",
    "    ]\n",
    "  ]\n",
    "]\n",
    "\n",
    "plots = {PlotR1[3], PlotR1[0.1], PlotR1[0.0]};\n",
    "GraphicsRow[plots]"
   ]
  },
  {
   "cell_type": "markdown",
   "metadata": {},
   "source": [
    "### Графики функций интегранта $f_4(u_i, r)$:"
   ]
  },
  {
   "cell_type": "code",
   "execution_count": null,
   "metadata": {
    "vscode": {
     "languageId": "wolfram"
    }
   },
   "outputs": [],
   "source": [
    "PlotIntegrand4[u_] := Module[\n",
    "  {r1Value},\n",
    "\n",
    "  r1Value = Piecewise[{{0, u == 0}}, r1[u]];\n",
    "\n",
    "  plotLabel = \"u = \" <> ToString[u];\n",
    "\n",
    "  Plot[\n",
    "    integrand4[u, r],\n",
    "    {r, r1Value, 10^3},\n",
    "    PlotLabel -> plotLabel,\n",
    "    PlotRange -> All,\n",
    "    AxesOrigin -> {0, 0},\n",
    "    AxesLabel -> {\"r\", \"integrand4\"},\n",
    "    ScalingFunctions -> {\"Log\", \"SignedLog\"}\n",
    "  ]\n",
    "]\n",
    "\n",
    "plots = {PlotIntegrand4[0.0], PlotIntegrand4[0.03], PlotIntegrand4[0.3]};\n",
    "GraphicsRow[plots]"
   ]
  },
  {
   "cell_type": "markdown",
   "metadata": {},
   "source": [
    "*Mathematica* очень долго берёт этот интеграл, но выдаёт огромную простыню выражений, которую не может упростить, используя при это коплексную экспоненту."
   ]
  },
  {
   "cell_type": "code",
   "execution_count": null,
   "metadata": {
    "vscode": {
     "languageId": "wolfram"
    }
   },
   "outputs": [],
   "source": [
    "Inactivate[Integrate[integrand4[u, r], {r, r1[u], Infinity}, Assumptions -> {u ∈ Reals, u > 0}]]"
   ]
  },
  {
   "cell_type": "markdown",
   "metadata": {},
   "source": [
    "## Численный график $I_4(u)$ с использованием NIntegrate:"
   ]
  },
  {
   "cell_type": "code",
   "execution_count": null,
   "metadata": {
    "vscode": {
     "languageId": "wolfram"
    }
   },
   "outputs": [],
   "source": [
    "Plot[\n",
    "  NIntegrate[integrand4[u, r], {r, r1[u], Infinity}],\n",
    "  {u, 1, 100},\n",
    "  PlotLabel -> \"NIntegral of integrand4\",\n",
    "  AxesLabel -> {\"u\", \"integrand4\"}\n",
    "]"
   ]
  },
  {
   "cell_type": "markdown",
   "metadata": {
    "vscode": {
     "languageId": "wolfram"
    }
   },
   "source": [
    "## Численный график $I_4(u)$ с использованием Integrate:"
   ]
  },
  {
   "cell_type": "code",
   "execution_count": null,
   "metadata": {
    "vscode": {
     "languageId": "wolfram"
    }
   },
   "outputs": [],
   "source": [
    "(* points = With[\n",
    "  {u := 10^up},\n",
    "  Table[\n",
    "    {u, N[Integrate[integrand4[u, r], {r, r1[u], Infinity}]]},\n",
    "    {up, 0, 2, 0.05}\n",
    "  ]\n",
    "]; *)\n",
    "\n",
    "points = Table[\n",
    "  {u, N[Integrate[integrand4[u, r], {r, r1[u], Infinity}]]},\n",
    "  {u, 1, 100, 1}\n",
    "];\n",
    "\n",
    "ListPlot[\n",
    "  points,\n",
    "  Joined -> True,\n",
    "  PlotRange -> All,\n",
    "  PlotLabel -> \"Integral of integrand4\",\n",
    "  AxesLabel -> {\"u\", \"integral4\"}\n",
    "]"
   ]
  },
  {
   "cell_type": "markdown",
   "metadata": {},
   "source": [
    "## Первообразная $\\tilde{I}_4(u, r)$:"
   ]
  },
  {
   "cell_type": "code",
   "execution_count": null,
   "metadata": {
    "vscode": {
     "languageId": "wolfram"
    }
   },
   "outputs": [],
   "source": [
    "antiderivative4[u_, r_] = Integrate[integrand4[u, r], r]"
   ]
  },
  {
   "cell_type": "markdown",
   "metadata": {
    "vscode": {
     "languageId": "wolfram"
    }
   },
   "source": [
    "Явно определим аргумент комплексного числа:"
   ]
  },
  {
   "cell_type": "code",
   "execution_count": null,
   "metadata": {
    "vscode": {
     "languageId": "wolfram"
    }
   },
   "outputs": [],
   "source": [
    "(* complexLog[z_] := Log[Abs[z]] + I Arg[z]; *)\n",
    "arg[z_] := ArcTan[ComplexExpand[Im[z]]/ComplexExpand[Re[z]]];\n",
    "(* abs[z_] := ComplexExpand[Abs[z]]; *)"
   ]
  },
  {
   "cell_type": "markdown",
   "metadata": {},
   "source": [
    "Применяя его к antiderivative4[u, r], мы получаем действительное выражение, состоящее из двух слагаемых одно без $\\tan^{-1}$, а второе, включающее $\\tan^{-1}$:"
   ]
  },
  {
   "cell_type": "code",
   "execution_count": null,
   "metadata": {
    "vscode": {
     "languageId": "wolfram"
    }
   },
   "outputs": [],
   "source": [
    "antiderivative4s[u_, r_] =\n",
    "  Simplify[\n",
    "    ComplexExpand[\n",
    "      Re[antiderivative4[u, r]]\n",
    "    ] /. Arg -> arg,\n",
    "    {{u, r} ∈ Reals, u > 0, r > r1[u]}\n",
    "  ];\n",
    "\n",
    "antiderivative4s[u_, r_] =\n",
    "  Sqrt[2 Sqrt[r] - u^2 + r u^2] * Simplify[\n",
    "    Expand[\n",
    "      (antiderivative4s[u, r] /. ArcTan[x_] -> 0) /\n",
    "      Sqrt[2 Sqrt[r] - u^2 + r u^2]\n",
    "    ],\n",
    "    {{u, r} ∈ Reals, u > 0, r > 0}\n",
    "  ] -\n",
    "  Cases[antiderivative4s[u, r],\n",
    "    coeff_.*ArcTan[arg_] :> coeff*ArcTan[arg], ∞][[2]] /\n",
    "  (12 * r^3 * u^7)"
   ]
  },
  {
   "cell_type": "markdown",
   "metadata": {},
   "source": [
    "### График первообразной $\\tilde{I}_4(u_i, r)$:"
   ]
  },
  {
   "cell_type": "code",
   "execution_count": null,
   "metadata": {
    "vscode": {
     "languageId": "wolfram"
    }
   },
   "outputs": [],
   "source": [
    "rules = {\n",
    "  eqr1[u, r] -> 0,\n",
    "  ArcTan[x_] -> -Pi/2\n",
    "};\n",
    "\n",
    "PlotAntiderivative[u_] := Module[\n",
    "  {points, antiderivative, r1Value},\n",
    "\n",
    "  r1Value = r1[u]*(1.0+10^-12);\n",
    "  antiderivative =\n",
    "    If[r == r1Value,\n",
    "      antiderivative4s[u, r] /. rules,\n",
    "      antiderivative4s[u, r]\n",
    "    ];\n",
    "\n",
    "  points = {{r1Value, Re[antiderivative /. r -> r1Value]}};\n",
    "\n",
    "  plotLabel = \"u = \" <> ToString[u];\n",
    "\n",
    "  Show[\n",
    "    Plot[\n",
    "      antiderivative,\n",
    "      {r, r1Value, r1Value*2.1},\n",
    "      PlotLabel -> plotLabel,\n",
    "      PlotRange -> All,\n",
    "      AxesLabel -> {\"r\", \"antiderivative4s\"},\n",
    "      ScalingFunctions -> {\"SignedLog\", \"SignedLog\"}\n",
    "    ],\n",
    "    ListPlot[\n",
    "      points,\n",
    "      PlotRange -> All,\n",
    "      PlotStyle -> {Red, PointSize[Large]},\n",
    "      ScalingFunctions -> {\"SignedLog\", \"SignedLog\"}\n",
    "    ]\n",
    "  ]\n",
    "]\n",
    "\n",
    "plots = {PlotAntiderivative[3], PlotAntiderivative[0.1], PlotAntiderivative[5*10.0^-2]};\n",
    "GraphicsRow[plots]"
   ]
  },
  {
   "cell_type": "markdown",
   "metadata": {},
   "source": [
    "## Определённый интеграл, возьмём как разницу первообразных по теореме Ньютона-Лейбница,\n",
    "$$\n",
    "  I_{4,1}(u) = \\int_{r_1}^{\\infty} f_4(u, r) \\, dr = \\tilde{I}_{4}(u, \\infty) - \\tilde{I}_{4}(u, r_1(u)):\n",
    "$$"
   ]
  },
  {
   "cell_type": "markdown",
   "metadata": {},
   "source": [
    "Найдём $\\tilde{I}_{4}(u, \\infty)$:"
   ]
  },
  {
   "cell_type": "code",
   "execution_count": null,
   "metadata": {
    "vscode": {
     "languageId": "wolfram"
    }
   },
   "outputs": [],
   "source": [
    "integral4Inf[u_] = Limit[\n",
    "  antiderivative4s[u, r],\n",
    "  r -> Infinity,\n",
    "  Assumptions -> {u ∈ Reals, u > 0}\n",
    "];\n",
    "\n",
    "integral4Infs[u_] = Simplify[\n",
    "  ComplexExpand[\n",
    "    Re[integral4Inf[u]]\n",
    "  ] /. Arg -> arg,\n",
    "  {{u, r} ∈ Reals, u > 0, r > r1[u]}\n",
    "]"
   ]
  },
  {
   "cell_type": "markdown",
   "metadata": {},
   "source": [
    "Найдём $\\tilde{I}_{4}(r_1(u))$, при этом заметим, что $2\\sqrt{r} - u^2 + r u^2 = 0$, и $\\mathrm{arctan}(-\\infty) = -\\frac{\\pi}{2}$:"
   ]
  },
  {
   "cell_type": "code",
   "execution_count": null,
   "metadata": {
    "vscode": {
     "languageId": "wolfram"
    }
   },
   "outputs": [],
   "source": [
    "integral4r1[u_] = antiderivative4s[u, r] /. rules"
   ]
  },
  {
   "cell_type": "markdown",
   "metadata": {},
   "source": [
    "### Графики функций $\\tilde{I}_{4}(u, r_i)$:"
   ]
  },
  {
   "cell_type": "code",
   "execution_count": null,
   "metadata": {
    "vscode": {
     "languageId": "wolfram"
    }
   },
   "outputs": [],
   "source": [
    "Plot[\n",
    "  {\n",
    "    N[antiderivative4s[u, 1]],\n",
    "    N[antiderivative4s[u, 10^2]],\n",
    "    N[antiderivative4s[u, 10^5]],\n",
    "    N[antiderivative4s[u, 10^10]],\n",
    "    N[integral4Infs[u]]\n",
    "  },\n",
    "  {u, 0, 1000},\n",
    "  AxesLabel -> {\"u\", \"antiderivative4\"},\n",
    "  PlotLegends -> {\n",
    "    \"antiderivative4s[r=1]\",\n",
    "    \"antiderivative4s[r=10^2]\",\n",
    "    \"antiderivative4s[r=10^5]\",\n",
    "    \"antiderivative4s[r=10^10]\",\n",
    "    \"antiderivative4s[r=Infinity]\"\n",
    "  },\n",
    "  ScalingFunctions -> {\"SignedLog\", \"SignedLog\"}\n",
    "]"
   ]
  },
  {
   "cell_type": "code",
   "execution_count": null,
   "metadata": {
    "vscode": {
     "languageId": "wolfram"
    }
   },
   "outputs": [],
   "source": [
    "Plot[\n",
    "  {\n",
    "    N[Re[antiderivative4s[u, r1[u]+10^-2]]],\n",
    "    N[Re[antiderivative4s[u, r1[u]+10^-4]]],\n",
    "    N[Re[antiderivative4s[u, r1[u]+10^-5]]],\n",
    "    N[Re[antiderivative4s[u, r1[u]+1.35*10^-6]]],\n",
    "    N[Re[antiderivative4s[u, r1[u]+10^-7]]],\n",
    "    N[Re[antiderivative4s[u, r1[u]+10^-10]]],\n",
    "    N[Re[antiderivative4s[u, r1[u]+10^-12]]],\n",
    "    N[integral4r1[u]]\n",
    "  },\n",
    "  {u, 0.0, 100},\n",
    "  AxesLabel -> {\"u\", \"antiderivative4\"},\n",
    "  PlotLegends -> {\n",
    "    \"antiderivative4s[r=r1[u]+10^{-2}]\",\n",
    "    \"antiderivative4s[r=r1[u]+10^{-4}]\",\n",
    "    \"antiderivative4s[r=r1[u]+10^{-5}]\",\n",
    "    \"antiderivative4s[r=r1[u]+1.35*10^-6]\",\n",
    "    \"antiderivative4s[r=r1[u]+10^{-7}]\",\n",
    "    \"antiderivative4s[r=r1[u]+10^{-10}]\",\n",
    "    \"antiderivative4s[r=r1[u]+10^{-12}]\",\n",
    "    \"antiderivative4s[r=r1[u]]\"\n",
    "    },\n",
    "  PlotRange -> All,\n",
    "  ScalingFunctions -> {\"Log\", \"SignedLog\"}\n",
    "]"
   ]
  },
  {
   "cell_type": "markdown",
   "metadata": {},
   "source": [
    "## Итоговый ответ для $I_4(u)$:"
   ]
  },
  {
   "cell_type": "code",
   "execution_count": null,
   "metadata": {
    "vscode": {
     "languageId": "wolfram"
    }
   },
   "outputs": [],
   "source": [
    "I4[u_] = Simplify[Collect[Simplify[integral4Infs[u] - integral4r1[u], {u ∈ Reals, u > 0}], (425 + 366*u^4 + 37*u^8)]]"
   ]
  },
  {
   "cell_type": "code",
   "execution_count": null,
   "metadata": {
    "vscode": {
     "languageId": "wolfram"
    }
   },
   "outputs": [],
   "source": [
    "TeXForm[I4[u]]"
   ]
  },
  {
   "cell_type": "markdown",
   "metadata": {},
   "source": [
    "## Сравнение Integrate и аналитической $I_4(u)$"
   ]
  },
  {
   "cell_type": "code",
   "execution_count": null,
   "metadata": {
    "vscode": {
     "languageId": "wolfram"
    }
   },
   "outputs": [],
   "source": [
    "Show[\n",
    "  Plot[\n",
    "    N[I4[u]],\n",
    "    {u, 0, 100},\n",
    "    PlotLabel -> Subscript[\"I\", 4][u],\n",
    "    AxesLabel -> {\"u\", Subscript[\"I\", 4]},\n",
    "    PlotLegends -> {Subscript[\"I\", 4][u]},\n",
    "    ScalingFunctions -> {\"SignedLog\", \"SignedLog\"}\n",
    "  ],\n",
    "  ListPlot[\n",
    "    points,\n",
    "    (* Joined -> True, *)\n",
    "    Mesh -> All,\n",
    "    PlotStyle -> {Red, Dashed},\n",
    "    PlotLegends -> {Subscript[\"Integrate I\", 4][u]},\n",
    "    ScalingFunctions -> {\"SignedLog\", \"SignedLog\"}\n",
    "  ]\n",
    "]"
   ]
  },
  {
   "cell_type": "code",
   "execution_count": null,
   "metadata": {
    "vscode": {
     "languageId": "wolfram"
    }
   },
   "outputs": [],
   "source": [
    "points01 = Table[{u, N[Integrate[integrand4[u, r], {r, r1[u], Infinity}]]}, {u, 0.02, 1, 0.05}];\n",
    "Show[\n",
    "  Plot[\n",
    "    N[I4[u]],\n",
    "    {u, 0, 1},\n",
    "    PlotLabel -> Subscript[\"I\", 4][u],\n",
    "    AxesLabel -> {\"u\", Subscript[\"I\", 4]},\n",
    "    PlotLegends -> {Subscript[\"I\", 4][u]},\n",
    "    ScalingFunctions -> {\"SignedLog\", \"SignedLog\"}\n",
    "  ],\n",
    "  ListPlot[\n",
    "    points01,\n",
    "    (* Joined -> True, *)\n",
    "    Mesh -> All,\n",
    "    PlotStyle -> {Red, Dashed},\n",
    "    PlotLegends -> {Subscript[\"Integrate I\", 4][u]},\n",
    "    ScalingFunctions -> {\"SignedLog\", \"SignedLog\"}\n",
    "  ]\n",
    "]"
   ]
  },
  {
   "cell_type": "markdown",
   "metadata": {},
   "source": [
    "$$I_1 = \\hat{r}_2 \\left[ 120\\hat{r}_2^{(1)}\\omega^2\\omega^{(1)} - 5\\hat{r}_2^{(1)}\\omega^{(3)} - 16\\hat{r}_2\\omega^5 - 10\\hat{r}_2^{(2)}\\omega^{(2)} + 60\\hat{r}_2\\omega(\\omega^{(1)})^2\n",
    "- 10\\hat{r}_2^{(3)}\\omega^{(1)} + 40\\hat{r}_2^{(2)}\\omega^3 - 5\\hat{r}_2^{(4)}\\omega - \\hat{r}_2\\omega^{(4)} + 40\\hat{r}_2\\omega^2\\omega^{(2)} \\right]$$"
   ]
  },
  {
   "cell_type": "markdown",
   "metadata": {},
   "source": [
    "$$I_2 = 2\\hat{r}_2 \\left[ -40\\hat{r}_2\\omega^3\\omega^{(1)} - 20\\omega^4\\hat{r}_2^{(1)} + 5\\hat{r}_2\\omega\\omega^{(3)} + 10\\hat{r}_2\\omega^{(1)}\\omega^{(2)} + 10\\omega^2\\hat{r}_2^{(3)} + 30\\omega\\omega^{(1)}\\hat{r}_2^{(2)} + 20\\omega\\omega^{(2)}\\hat{r}_2^{(1)} + 15\\hat{r}_2^{(1)}(\\omega^{(1)})^2 - \\frac{1}{3}\\hat{r}_2^{(5)} \\right]$$"
   ]
  },
  {
   "cell_type": "code",
   "execution_count": null,
   "metadata": {
    "vscode": {
     "languageId": "wolfram"
    }
   },
   "outputs": [],
   "source": [
    "Simplify[D[Overscript[r, \"^\"][t]b/Cos[\\[Phi][t]], {t, 2}]/Subscript[t, 0]^2]"
   ]
  },
  {
   "cell_type": "code",
   "execution_count": null,
   "metadata": {
    "vscode": {
     "languageId": "wolfram"
    }
   },
   "outputs": [],
   "source": [
    "Simplify[D[Overscript[r, \"^\"][t]b/Sin[\\[Phi][t]], {t, 2}]/Subscript[t, 0]^2]"
   ]
  },
  {
   "cell_type": "code",
   "execution_count": null,
   "metadata": {
    "vscode": {
     "languageId": "wolfram"
    }
   },
   "outputs": [],
   "source": []
  }
 ],
 "metadata": {
  "kernelspec": {
   "display_name": "Wolfram Language 14.1",
   "language": "Wolfram Language",
   "name": "wolframlanguage14.1"
  },
  "language_info": {
   "codemirror_mode": "mathematica",
   "file_extension": ".m",
   "mimetype": "application/vnd.wolfram.m",
   "name": "Wolfram Language",
   "pygments_lexer": "mathematica",
   "version": "12.0"
  }
 },
 "nbformat": 4,
 "nbformat_minor": 2
}
