{
 "cells": [
  {
   "cell_type": "markdown",
   "metadata": {},
   "source": [
    "# Binary catch\n",
    "\n",
    "**При каких условиях два тела, налетающие друг на друга с бесконечности (в системе центра масс) станут связной системой из-за испускания гравволн?**"
   ]
  },
  {
   "cell_type": "code",
   "execution_count": 1,
   "metadata": {
    "vscode": {
     "languageId": "wolfram"
    }
   },
   "outputs": [
    {
     "name": "stdout",
     "output_type": "stream",
     "text": [
      "  (CleanSlate) Contexts purged: {Global`}\n",
      "  (CleanSlate) Approximate kernel memory recovered: 1 Kb\n"
     ]
    }
   ],
   "source": [
    "(* https://mathematica.stackexchange.com/questions/850/how-do-i-clear-all-user-defined-symbols/861#861 *)\n",
    "<< Utilities`CleanSlate`\n",
    "CleanSlate[];\n",
    "\n",
    "ClearAll[\"Global`*\"]\n",
    "(* ClearSystemCache[] *)\n",
    "(* https://mathematica.stackexchange.com/questions/111605/quit-vs-clearallglobal *)\n",
    "if[Length[Names[\"Global`*\"]] > 0, Remove[\"Global`*\"]];\n",
    "\n",
    "(* PacletInstall[\n",
    "    \"TensorSimplify\",\n",
    "\n",
    "    \"Site\" -> \"http://raw.githubusercontent.com/carlwoll/TensorSimplify/master\"\n",
    "]; *)\n",
    "<<TensorSimplify`"
   ]
  },
  {
   "cell_type": "markdown",
   "metadata": {},
   "source": [
    "## Einstein Summation"
   ]
  },
  {
   "cell_type": "code",
   "execution_count": 10,
   "metadata": {
    "vscode": {
     "languageId": "wolfram"
    }
   },
   "outputs": [],
   "source": [
    "ClearAll@EinsteinSummation\n",
    "\n",
    "EinsteinSummation[in_List, arrays_] := Module[\n",
    "  {res =\n",
    "    isum[in -> Cases[Tally @ Flatten @ in, {_, 1}][[All, 1]], arrays]},\n",
    "  res /; res =!= $Failed\n",
    "  ]\n",
    "\n",
    "EinsteinSummation[in_List -> out_, arrays_] := Module[\n",
    "  {res = isum[in -> out, arrays]},\n",
    "  res /; res =!= $Failed\n",
    "  ]\n",
    "\n",
    "isum[in_List -> out_, arrays_List] := Catch@Module[\n",
    "  {indices, contracted, uncontracted, contractions, transpose},\n",
    "  If[Length[in] != Length[arrays],\n",
    "    Message[EinsteinSummation::length, Length[in], Length[arrays]];\n",
    "    Throw[$Failed]];\n",
    "  MapThread[\n",
    "    If[IntegerQ@TensorRank[#1] && Length[#1] != TensorRank[#2],\n",
    "      Message[EinsteinSummation::shape, #1, #2];\n",
    "      Throw[$Failed]] &, {in, arrays}];\n",
    "  indices = Tally[Flatten[in, 1]];\n",
    "  If[DeleteCases[indices, {_, 1 | 2}] =!= {},\n",
    "    Message[EinsteinSummation::repeat,\n",
    "      Cases[indices, {x_, Except[1 | 2]} :> x]];\n",
    "    Throw[$Failed]];\n",
    "  uncontracted = Cases[indices, {x_, 1} :> x];\n",
    "  If[Sort[uncontracted] =!= Sort[out],\n",
    "    Message[EinsteinSummation::output, uncontracted, out];\n",
    "    Throw[$Failed]];\n",
    "  contracted = Cases[indices, {x_, 2} :> x];\n",
    "  contractions = Flatten[Position[Flatten[in, 1], #]] & /@ contracted;\n",
    "  transpose = FindPermutation[uncontracted, out];\n",
    "  Activate@\n",
    "    TensorTranspose[\n",
    "      TensorContract[Inactive[TensorProduct] @@ arrays, contractions],\n",
    "    transpose]]\n",
    "\n",
    "EinsteinSummation::length =\n",
    "  \"Number of index specifications (`1`) does not match the number of \\\n",
    "tensors (`2`)\";\n",
    "EinsteinSummation::shape =\n",
    "  \"Index specification `1` does not match the tensor rank of `2`\";\n",
    "EinsteinSummation::repeat =\n",
    "  \"Index specifications `1` are repeated more than twice\";\n",
    "EinsteinSummation::output =\n",
    "  \"The uncontracted indices don't match the desired output\";"
   ]
  },
  {
   "cell_type": "code",
   "execution_count": 18,
   "metadata": {
    "vscode": {
     "languageId": "wolfram"
    }
   },
   "outputs": [],
   "source": [
    "(* Правила для скрытия аргументов в TraditionalForm *)\n",
    "\n",
    "Unprotect[Subscript, OverHat, Derivative];\n",
    "\n",
    "MakeBoxes[OverHat[r_][OverHat[t]], TraditionalForm] :=\n",
    "  MakeBoxes[OverHat[r], TraditionalForm]\n",
    "\n",
    "MakeBoxes[\\[Phi][OverHat[t]], TraditionalForm] :=\n",
    "  MakeBoxes[\\[Phi], TraditionalForm]\n",
    "\n",
    "MakeBoxes[Subscript[OverHat[r], n_][OverHat[t]], TraditionalForm] :=\n",
    "  SubscriptBox[OverscriptBox[\"r\", \"^\"], ToString[n]];\n",
    "\n",
    "MakeBoxes[OverHat[\\[Omega]][OverHat[t]], TraditionalForm] :=\n",
    "  OverscriptBox[\"\\[Omega]\", \"^\"];\n",
    "\n",
    "MakeBoxes[Derivative[n_][f_][OverHat[t]], TraditionalForm] := Module[{primes},\n",
    "  primes = StringJoin[Table[\"\\[Prime]\", n]];\n",
    "  SuperscriptBox[ToBoxes[f], primes]\n",
    "];\n",
    "\n",
    "Protect[Subscript, OverHat, Derivative];"
   ]
  },
  {
   "cell_type": "markdown",
   "metadata": {},
   "source": [
    "$\\hat{r}_k$"
   ]
  },
  {
   "cell_type": "code",
   "execution_count": 27,
   "metadata": {
    "vscode": {
     "languageId": "wolfram"
    }
   },
   "outputs": [
    {
     "data": {
      "text/html": [
       "<div><img alt=\"Output\" src=\"data:image/png;base64,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\"></div>"
      ],
      "text/plain": [
       "FormBox[TagBox[RowBox[{\"(\", \"⁠\", \n",
       "\n",
       " \n",
       ">         TagBox[GridBox[{{RowBox[{OverscriptBox[\"r\", \"^\"], \" \", \n",
       "\n",
       " \n",
       ">               RowBox[{\"cos\", \"(\", \"ϕ\", \")\"}]}]}, \n",
       "\n",
       " \n",
       ">            {RowBox[{OverscriptBox[\"r\", \"^\"], \" \", RowBox[{\"sin\", \"(\", \"ϕ\", \")\"}]}]}}, \n",
       "\n",
       " \n",
       ">           Rule[RowSpacings, 1], Rule[ColumnAlignments, Center], \n",
       "\n",
       " \n",
       ">           Rule[ColumnAlignments, Left]], Column], \"⁠\", \")\"}], \n",
       "\n",
       " \n",
       ">       Function[BoxForm`e$, MatrixForm[BoxForm`e$]]], TraditionalForm]\n"
      ]
     },
     "execution_count": 27,
     "metadata": {
      "text/html": [],
      "text/plain": []
     },
     "output_type": "execute_result"
    }
   ],
   "source": [
    "rh = {OverHat[r][OverHat[t]]*Cos[\\[Phi][OverHat[t]]], OverHat[r][OverHat[t]]*Sin[\\[Phi][OverHat[t]]]};\n",
    "rh // MatrixForm // TraditionalForm"
   ]
  },
  {
   "cell_type": "code",
   "execution_count": 28,
   "metadata": {
    "vscode": {
     "languageId": "wolfram"
    }
   },
   "outputs": [],
   "source": [
    "$Assumptions = {\n",
    "  {OverHat[r][OverHat[t]], Subscript[OverHat[r],2][OverHat[t]], OverHat[t], u} \\[Element] PositiveReals\n",
    "};\n",
    "$Assumptions = Join[$Assumptions, {rh \\[Element] NonNegativeReals}];"
   ]
  },
  {
   "cell_type": "markdown",
   "metadata": {},
   "source": [
    "## Система движения в декартовых координатах\n",
    "$$\n",
    "\\frac{d^2r_k}{dt^2} = -\\frac{G(m_A+m_B)}{r^3}r_k - \\frac{2}{5}f_{ki}^{(5)}r_i\n",
    "$$\n",
    "\n",
    "Ч.Мизнер, К.Торн, Дж.Уилер Гравтация, Т.3, §36.8, стр. 222\n",
    "\n",
    "Введём обозначения для полной и приведённой масс\n",
    "$$\n",
    "M=m_A+m_B; \\quad\n",
    "\\mu = m_{AB} = \\frac{m_A m_B}{M}\n",
    "$$\n",
    "Задача двух самогравитирующих тел с массами $m_A$ и $m_B$\n",
    "в системе отсчёта центра масс всегда сводится\n",
    "к задаче движения тела массы $\\mu$\n",
    "в центральном поле массы $M$.\n",
    "\n",
    "$f_{ki}$ - квадрупольный момент системы.\n",
    "Задача решается методом последовательных приближений\n",
    "Первоначально строится решение в приближении Ньютона,\n",
    "затем для полученной конфигурации находится квадрупольный момент\n",
    "и находится его пятая производная по времени.\n",
    "Уже на следубщем шаге (уравнение выше)\n",
    "находятся решение с **заданной** функций от времени (**и только времени**) $f_{ki}^{(5)}$."
   ]
  },
  {
   "cell_type": "markdown",
   "metadata": {},
   "source": [
    "### Безразмерные единицы\n",
    "$$\n",
    "\\begin{align}\n",
    "r &= b\\hat{r} \\\\\n",
    "t &= t_0\\hat{t} \\\\\n",
    "f_{ij} &= b^2\\frac{G}{c^5}\\mu\\hat{f}_{ij} \\\\\n",
    "f_{ij}^{(5)} &= \\frac{b^2}{t_0^5}\\frac{G}{c^5}\\mu\\hat{f}_{ij}^{(5)}\n",
    "\\end{align}\n",
    "$$"
   ]
  },
  {
   "cell_type": "markdown",
   "metadata": {},
   "source": [
    "$\\hat{f}_{ki}$"
   ]
  },
  {
   "cell_type": "code",
   "execution_count": 31,
   "metadata": {
    "vscode": {
     "languageId": "wolfram"
    }
   },
   "outputs": [
    {
     "data": {
      "text/html": [
       "<div><img alt=\"Output\" src=\"data:image/png;base64,iVBORw0KGgoAAAANSUhEUgAAAbYAAABaCAIAAABbmuRqAAAAz3pUWHRSYXcgcHJvZmlsZSB0eXBlIGV4aWYAAHjabY/rbQQhDIT/U8WVgB+MoRz2jpPSQcq/YSGKiDLSer4dbCPS+P56p8eUSk5eoqIBmfLmTTuh5qXlkttdb13YJGeeSl8gnVH5PcDY+XXmgeVa/yzKusDmDWTzPbAXma5c9oXX7tde67nI8qH2A/L/v1soCiSc1TVHoJFrItJQNJfAG0+AjYKXZn/SByI4hpgd1ufglI44u0eCMXjNJ9j8inW6sZI5KjcbvZszufbp/ZD0AZtBWulPEtRaAAAACXBIWXMAABYlAAAWJQFJUiTwAAAAPHRFWHRTb2Z0d2FyZQBDcmVhdGVkIHdpdGggdGhlIFdvbGZyYW0gTGFuZ3VhZ2UgOiB3d3cud29sZnJhbS5jb21coqaFAAAAIXRFWHRDcmVhdGlvbiBUaW1lADIwMjU6MDM6MjUgMTM6MzE6NDUKkd/lAAAgAElEQVR4Xu3ddbh1RdUAcFARUJBGugXpkO6S7lIE6eZBUlJApERSQkpSGiSURlK6FSQlRGkQaaX8fnzr/Yb97XPOPvueuufed88f97ln7zUza9asWbNqZo/63//+d5T2ynvvvXfSSSdtvvnm4403XnstVbUrClQUqCjQXxT4UjvofPDBB0ccccR000334x//mKBsp6mqbkWBigIVBfqQAm2JyD/+8Y9zzjnnJJNM0ocDq1CqKFBRoKJA+xQYtcDQ/vTTT7/85S837WPttde+9NJLX3jhhSmnnLIpcAUwMlMAR5133nm33377GGOMscwyy6y22mojMzWqsZekQA/YpkjWEZF1Cw1x2223bfQ2+3yttdYyVCKyDHAFM9JS4D//+c/iiy+OVdK++6Mf/WikpUY18JIU6A3b3HLLLbvssstHH31Ui1V9Q/ucc87Za6+9DjvssJJivgKrKNCUAtjpa1/72ksvvfTaa68Fax177LGPPPJI04oVwMhMgd6wzRJLLDHrrLN+97vfff/99/PUrpWaF1544RRTTPHmm2+WFPOVFlmSUCMPmJ1fKO+zzz7LDnm++eb75z//mZ585zvfwYunn376yEOWQRwpQ3IQey/Z9aCzzT777MPQgUYW4bwW+eSTT2622WbHH3/8+OOP3/u9629/+xvr3loSJV9uueVOPfXU9nOSuj0KGF5yySUbbrghtFdeeeW999771Vdf7XanXWr/9ddfl5zw+9//vp32//73v0822WQURqRI7RCXJ554YjYtbJVVVvF2UNisndENxbo77rjjWGONddBBB/Uz8v3ANvvtt98bb7yx++67/z9CZeUlPp5//vnpnCWlfoC1o0VCiFCOdq644ooxxxwzN4sbb7zxgJDpDfCdd94ZHVHLF1tssRzOlv0f/vCHNjEhrZ566qk2GylfndGw5557fv3rXzcWsixX8e677y6phnz88ceLLLJIEGTUUUe99tprG+Gw5ZZbmm7bSXkkhzpkltvLjKU82Ytb+8Y3vmE6pplmmjKdFsB0D//+YZvf/e53aHXzzTcnOoySpcjFF1/s9WWXXTYgUrYsIkWEBMH5PXX36KOP0jvWX3/9v/zlL88//7x0S8Z+rLS77rprQPh0FfjDDz/cZpttZp999n//+986WnfddWG40korHXLIIUTMpJNOGjhLhMoalWVQ+sEPfqD6WWedFcAPPfTQN7/5zfSzTAstwxxzzDEzzDCD7gL5WhG5wQYbLLvssq+88krTLvbYYw8t+At/kzvRRBO9+OKLtbXeeuutCSaYYN99923a4LAByHJ73UHlGABMebIXU+lnP/vZVFNN9atf/aodYnYV//5hG2rit771LZpifRE5zzzzWNsl9YXURGsiEsW/+tWvpmnbaKONnM/JTuEDDzwQK/aXv/xlO1Pbwboow5QmHwUcNHvfffdB74wzzkhdEIsSRQPtAXGk/ZnOpRZXQ2rt1ltvpdadcMIJHRxC3aaeeOKJTz755MEHH2wkIkX6zDLW+de//lWAzDXXXDP66KMn9+LLL7/M+cAo0Xiu1vbbb8+RQnfo9tD6pP0ct9diVZcBSpK9B2PsKv79xjYRS7zxxhuDsF9okdQ3L1owbElcFR9++OHyU0WzIIs32WSTVMX/jNZcC+OOO66Wzz777PItdxWS1jPaaKM9/fTT0cuuu+665ppr5nok10LQUDbLI0NzV2WOOebIVSEf9YhByzfVMqS0rUYiUpvCLzQRO0TBDsoz8Nhjj2URMKdYLSciqcazzTbb22+/3TKqQ6tiLbfX4t+IAcqQvdvU6Db+/cY2kWWRpNMXIjKc6zJ7y1NcDjAZEeqPACXpW6augNFCCy1EP5L/UQBPYdEyB3+obE0Ly5dxd8899xRYuF4R5c5KNmqNa+ymm25i2r/77rv28Oza5iqFj+SpVFdcKycRvDK6L33p8yDYgETkzjvvrIopyCFGz5pllllsJ3XN1bqjsKh22223q6++uinFcgDFIhLwueeeC8k2rWPiXnZF8dQPFPM24f/xj3/ccccdfOK12m607Pnjjz/+7LPP5mL0qV/T9Oc///m666575plnwJiC9KoktzdigPJkL2DdQIYOVMtd0I6Hlk+wfQ6mZ/gXT2KP2WbyyScfe+yxedVg9YWIXHDBBS2Av/71r20yXNPqXF064q0vhgQAywJ/f6rOd+mohgMb4uBf+d9iB+DtSgC4lnNz6qmn1i/5RdKxGXPKKeVop512ktVM1isaIZ2T19ZbUVrVm4oqZI3UaFkBTUkRAEIltKpG+9PJJ5/sFXFcsjU7CniB6ZLwCaypiERGREA9BK/bOCFy/vnnE9BLL710SFJSY8UVV+RTCxPB/sRNka1uS+6NjlwXYT4c24/w2sQTT4xoHLKXX355FpLFIFeOlzy2PXEP3uecfL/33ntnmmmmccYZh+tAUxNOOOGSSy6ZGinD7cUM0JTsxaxLMu6///7TTz89T3dgRepdeeWVm266KWwtBCtFPoaQtwHykxx88MFZCvQA/z5kG5ofagRnjhCR9hCeQazQaJ8c6HorgF944YV178xiIxhhgQiDrLHGGtkNuS48KUaWMfZDeAkChla76qqrJobAu55sscUWFif7TnQiLMr11lsvjffoo4/2JCnCFo+fVng0cv3119c1hGtRCgcl67jMZiOrSUA8e8pz5plnpghnm+WdjMUZe1rT0j0RqWvrCjK5VZRQOvLII01Z0PYXv/gFcWmniZ/WJHHDc8KA0IhiGzMvtusIfPW4UAzXWWcd6LmkKnhAzA2e5iLRX/ITwSGKxYBgUvzpT3/irAeD35JYJ/qJHlGpME2w7re//W1jTMMp5vYyDNCU7AWse9pppwUCShKRVN2UhoFRSUnBbr5m8hGY5cM67CX+fcg2NvgkDUaISFksHrHpus2psp9iGuq6omynW221VTb1h2L43HPPNcIKg3KQUTZ5uxNMJJ0Q9/Ek0sGInuzpItHn4JtTTjklwBZddFE/k4/WE/agDIB4S7x6y/nYlD5gQApHFEOyaGwDdBOyOBIJBKzC12H49tVs9RlnnNHznILTqP2uikhKH0zmmmuuRr1TSYKwckUJjsMPP5xHxT8m0TqMV9nCwGxK0m4A0PGhkfVs3HDDDYEY4a5HPplQLSPjIgruNRYP6Zuxecvu8pPESTBmkyRN8N7W5fYBMUAx2YtZFyZuUYBGEpGBmx0ixuscXWwSEY1QRMB7ib+++o1txGDRISINI0QkD7pHbIpusGO2TWchdUTDr9sRvrzgggsOPPBAk5oUECHRRrotC0JrDORsa7QAA4k4ONHJAAfD0M7CENAhiGkEEX9QxU/aqGUQkCzctJ0ynbx1YK6YPvZnyvi0005bfDaJCrPAAguk5RcZD6FWx5mT3IgCt9wQGmHSVRHJZwcTulWj3mN+aYts7cj8p17ljit0m8eato/NYGh/yk0Teb366qvH/sRTYSB231xrKR/+qKOO8ioIoinaaEBS9m3z8X8jbh8oAxSTvZh1oWHDrhWReMxDWmR2gOFNkn7US/wTofqHbcJq5P6C2wgRSSp5xCXRlL0CgByx69YtTN2CRsLlz3fTtCP7czp6wVleF55FozXWRKPWkmpQa9d/73vfiz0zItRnnnlm/NQpUZhb1YwRr1iOBWgTtSussAKLOLnAGwGzLLTGSRcA1F42TnjK3ezglStwsnWxrIeNFC5xLQ6EVMLSD69CKmUuGWnqi4SS4GNQqVE82vmEAJh33nl74LRpykV1AfhPYChts6B62CK1OQZYMQbIwaq6MdoR44lwv/TebJuNuH2gDFBM9mLWhc8OO+wAvZwWGQGinIiMgETK0+gN/jDsN7bhVEEHa/kLESk24tF2221Xkuck/QVb1JZarsq2GT6+bGZmQY+s4GifalkXLI4NOFTeqJGwp5TbbrstB5Mu6eBp8ip3ToZtmw0jxMm54jCxMAWGa3quhgoTh1iifUoHxXP55ZcP9H74wx96lbPTHcr0MJc3moYTvN60NArXpnbKiMh0tjLp2jmqhnasSH4qyUu9BwsJxfdS0LWoCxi6cC1M2B9zzz13vOJSMIMxauok7Sylr9Xl9hYYoJjsxaw7IBEZOkcSkb3BH4b9xjb8QjGh9I8RZ7Qdd/NbVK7pSgsA7nZV6paUGFi3qUh1pDGV6Sg86MF5tfDc/O+8847n1MBGrUXoRpHGnIMRKMg2zndJ5eSmDXa3by+11FJJCW2Ktp2c5cVvJbZePDQp8Xia2hh6ingoJ2kcWFaY6v6GuZ1KkCsEa22hjXI4pCItCQyeyz484IAD6tKwzCzUYtIIGR6l0GHpU3HvWX+W4HYGNcW/EYbBObVs42FwTqInpxCHDInpIaVSMJARIA3Iz7ps0zIDNCJ7Meu2MwW9wb8P2SZ0L+VzVomdkBbjt4XU7S2dIqYjUcKSHcVmLnOtLnxc4ivKVJvPTFWWnCHJMYZKk8+1wDyPV+F7SsccCVwrPF5x2Ie1GOnxtSfzok2aI5HHd1lmUFyKmqKlBnBEkyIkBRN6KI7P2cWBD2dImfa76osMCchNXNeIvuiii4JuYsFlUB0smDT1tZ4TjMQPBbEQ8RTG2hMNwXXCa8AsoXDUUNK5I9M9HZHyVZfbW2CAYrIXs247WmRv8O9DthGLC07mNBuhnTH3gvXjRfdKBATZGmW6sIeLt1CpksaXq0U4eiJ/O2f4kzjECuZ2HDBSGSImmC2hS0uLi0grJ0OcwBOstMJZzf4nbsL3VIC26JBMF2e0Oemz7dsb+eNqhxkqTCI1BYRXOHCQTEP7sFHl7m8PcgUOg1sCE/tWUs+z+ISTm8+LYju4eBb3HmyjULRzrOiWF34br2JTtC54sbOtsV1k9ngSbjupIKG2yxbaeuutSauIeIQtVZdtWmaARmQvZt12JqI3+Pch26Tl+blgjJ3cWVqkLHk8pp3NH4eJEuqLRZltR0bLb37zm9y5FzxHpWoUqwn1LTjAimUj28+14CyXLPGkc5E4AZOL2EQmTbongqGUjYcEH2s20i1JQD85CnNj555n/0o9c840FalCNAWZHy6hqqVV5BNomfylelDpZSABszJNDGdQzmlIXwtV2rmoMpRvWYs0liBUQdK7QBYApmVdTEKyD1YeTxniBAySpsRAaYy4CNtQ4W1y7IYIc9ubg+z2uWy6WEQwME885Mim+GdzzsJxHEHtutw+UAbQTjHZi1lX9UhZo+FmSRQxnJxBEO4C6kVA9gb/PmQbHBJr4fOchKBFkCYywrpdIi08JUkEy4YLnPQ0ndCyOTtPYkOWclyMTwSacsUCSGwtNh0bPmGUDpJHBF96eTIYUQCvJzEKvQCI3iNlLBcTJOXT1T61OHhSe+RLUxyLcjm9pXvKe/cPpVX+IN8W2602Vf7+++8HIz+05Ly0LCIPPfTQGAUXcKO+wmda99Q8XT6qZxOPS+LcezBTU+t5Z3Bkk09lOGIJI8KKceOGIBV9X84TFg2ciUgA8tIiIYGoZYWolfI6arl9oAyg2QKyx+ItYF2ugwiGZI9FeQjnmK+EKs6JMzYuYUo3jHQb/75lmyDO50pY70XkVVddpe/cBRDSzZJyi1OZQhLTRGPKLB53PaT0IHNMi8l9g8JPBhRTCJewauWEYynaZdaDSVkghgBISKJZACassxfbhKLNxZlQClusURGNaYQ8bdfBknSohuyWLdTo3rOQXCmbtylBaDTg5Vo2hUwA3BTyELIDcUyQCp9rARmR1/rJHu5MMHFQkhY20JuiyuPZWcg4t5qiLhiDyy/Xhf0JPxgXFYyCbwtHmaxZw2Lgq0EWBQCjx1G/7L5el9sHxADFZIdwAesKIca52yjCL64O4OnOeq4MisZAOcge2TCPbjzQeLfx71u2GUwRie7uExI4TpfpBl+SR7aUiDO2sBiwHd4tSG3hmpSCSxLZNmsP80Winx2eg1apPc8PNzzUwk1IjcZCYZRTIuexILMazlicmlD3w0MtUKmdKrYifCPHpZ1G+q2uiSYL+FUKEMOTRs2BU5teal7iExTOiZKnAGoDWXW5XXdlGABYU7I3Zd02ad5t/NtEr0vVB1lEmlQJt25p7dLwutTscccdR82sTbFsuTuehOLgLzcluVzXYG+509YqCp3RQTq4Q7SGxlCsVcDtTRmgH8g+1PFvjWc6LCJFh3nTrB/fxymJELcOA0EApB/0o5I4A+M4l7FEGy1fpREkorHLCi6n4Bp29XrxaaX20SjTAhWJ60MgYmhNVpmh9QamLrc3ZYD+IftQx7+FWe6YiLTCOfU4Yjj7Sl7smNBVV4CiZLpfC4PsUhWueipwyXt3CnCQZ157I2+CFwcQKKdEdGkUA2pWvCsOXFelZQrUcnsxA+ior8g+1PEf6MR1RkRy/MmwZXumG3EGigf4frvjoMwQOnJ/lyBJwY1waNv0yGAZVDsC05HxdgSTod5IltuLGcBI+5DsQx3/8vyTROSo6vghiY/TmmUXF5yULMLQ4q2Cpz//+c9LVqnAKgpUFKgo0P8UiMMRkn7qnH0uib1bGEhGGQM/+clPnDew45WsWIFVFKgoUFFgqFCgdREZoVgpprIIZVBzR7perOTJwqFCnQrPigIVBUZyCrQuIp1NRjuXbPsCgYCXez0dR4/TV1WpKFBRoKLA8KBA6yIy7ndwBaxrveWmOGEtG5yUlAE+PEhTjaKiQEWBigKti0heSB7NuJNCcebfHaX+SbdRVsStKFBRoKLAUKdA6yLStwr4It0PmkgQBz/TbZRDnTQV/hUFKgpUFGhdRMYnBMIjGcU5OSdP0qc8KuJWFKgoUFFgqFOgdRHp/gV3jkl/DeejK3Ccl3IpbEc+ADDUyVrhX1GgosDwoEDrIpIj8tprr3VIzq3g6623ntsPfQzIJ6iGB12qUVQUqChQUQAFWheRKruFQSDb1WFuM5T6Ex84rUpFgYoCFQWGDQXaEpFBBV8miDtohw1RqoFUFKgoUFEgKNABEVmRsqJARYGKAsOVApWIHK4zW42rokBFgQ5QoBKRHSBi1URFgYoCw5UClYgcrjNbjauiQEWBDlCgEpEdIGLVREWBigLDlQKViByuM1uNq6JARYEOUKASkR0gYtVERYGKAsOVApWIHK4zW42rokBFgQ5QoBKRHSBi1URfUeC999474ogj3nrrrb7CqkJmiFKgEpFDdOIqtOtQ4IMPPiAcp5tuOl+pIygrGlUUaJ8ClYhsn4ZVC/1CAZ+cm3POOSeZZJJ+QajCY+hToBKRQ38Ouz+CTz/91H0lW2+99Y477uib6d3vsMUell9+ed9Qctlzi/X/t9pxxx3XTvWu1nVZjA+ObrLJJocccshrr73W1b4Gq/ETTjghvlzdZukYreLb23PPPTeEfEe7/Ke4K8iRhAK+Lr/44otjj3RTiSud+nnsa621FmxfeOGFFpDcb7/9fMizhYo9qGJzGm200dIsTDDBBE899VQP+u1xF+7q3meffdrstH1ahYBu6zvabcr4qvpQocBhhx3m1ruXXnqJ2uJ/aB977LGPPPLIUMG/PJ40ZVdE96cWybW61VZbwdAH62+99db55pvvzTff3HPPPcuPbqhAHn300aeeeuqZZ57ZMsIdplWlRba5X5WszlYtCTmIYBRGEY/PPvssi4PV6PPo6YkblPHu6aefPoh4Fnfdmhbp2nyf8CSDuj2uHHlLdnfuuefScBOwr9ibhammmqpk9aEFduGFF9KXH3rooTJo1zJtR2hVaZEtb1GtVOTCG2ussQ466KBWKveqjo+hTzbZZBTGvffeO/VpPZ944onjjTdeerLKKqv4f/zxx+8VXj3qh2o89dRTb7DBBtn+LNGzzjpr5ZVXnn766eeZZ57NNtvs+eefbwch33fSy4wzzvjiiy8OqB2uMGH6VIXXlRAZ0rPw+uuvG1HI+lzxFQMkOuaYY5qSqC7TdphWI5UW+cYbbzz55JNltiYwprBTvp74KuQ000xTsutGYAPCXyN33313Se31448/XmSRRYIj45MbjXDYcsstxxxzzFdffbXNsXSvegtapO8v2RsOP/zwLFYffvjh0ksvnVulwB599NGWkT/yyCOjQYZky42oGBJ21113bdTInXfeWb79DrJ6mU7DReAqbkOwAdet4isvY4wxBsiCBksybVNa1e0iaZGjjDwiUkbIlFNOec455zQiug+WTTrppLSGAKDn+6Bj+llm7hvB+HAFm4ifq51GBoq/vuhEyy677CuvvNK03z322ANP+GvUqDTRRBNhrNpa8rFFCfbdd9+mDQ4iQAsikv/RZ+lIiizaG220EQY477zzOGHtGd///vdj2dDgWh6dMCtPxaKLLprra6AN4iiqfd1GSPZtttlm9tln57XsPas3HQjdcIYZZkDYIGYjEYnTvvKVr9hRChosybQFtCpofKQTkeQLT1OBkKKg0Z7QxXccE+H4xe11kYUwuKU1/D/66CPyQhIMLakA/2uuuWb00UdP7sWXX36Z/3GJJZb45JNPcrW233775ZZbzu49uNQo7r0FETnrrLPOPPPM2WbJsrHHHvuJJ57IPlx11VVxCNk0uMN/7rnn4HDjjTfWosFo4BYgH4n1RkgOLqsjKb568MEHi0Uk5OeYYw7mdqNRlGTaAloVT+LIJSIpRNKJZZMVEOWyyy5DFLOSgyEfOX1IqEFcFe3gL/xCgbVsCixu/oTHHnssO8D333/fCsyJSAr1bLPN9vbbbw8iKcp0Pf/885vKhx9+uAwwGFsCeP6vLDx+4PXPtRDeMad3SrbcDbB3330Xl5522ml1G6fgY9enn366z1ldSlZTERl+4azKkh1UGaYtptWQEZHMAcbdPffckw2b5rD3CseL5TcaFdfYTTfddNdddyEK1Sm7tgW8FlpoIcqgtJUCouy8887mQ6QiB0NjmmWWWUjYuoZnFrgAhwDjqq9t3Pcj4yE6BP45mDbx15qlbmhtWsc2CapWMQ27IREG1Obtt9++5pprhjXAnpWiVKb6lVdeCX633XZrChxM0jRrD8+Y1uuuu+6ZZ54R77JL5VrmYiOXcw9FHpLq9+yzz9b1eGLs1VZbrVH+8hVXXGHsu+yyS/FA2mf1poRqClBGREZKk72qaWt1AYpp1bTNvtAiBQeXWWYZTlnbMr+DQtHjg0jYYy9HbkUAoctVZPrZjGeffXZ2eJSjnXbaST6tJaFohA1y8803JxjODtUFGQqIgmXpR8A4nmrBTj75ZK9EMxu1UIwDybj//vsLiXJ0RguknmW56aabikgakSFvuOGGQt56YfAefPDB2Y7axx8ZhapRD8HrDsGCPP/888kI0YmQpJb3iiuuaBunTvppf2K7Zasj1OBq1k1ZvDwAXxXKH3XUUcVVHn/8caY3CcXZVwB57733zjTTTOOMMw6PhPmdcMIJl1xyyYBHzIsuuogfgM8HU8VDYlSYaMEFFzRBNrOLL744WFHRTnZjNo+Y0Oma1LsGU8QGE5pltYr38jZZvTxViyHLiEg5BgVbezHTFtOqzCgGX0SSYmQZmyhmVOw1Nn/uniRHMJknW2yxhcXJvktJAGyilFwm0RRM0hcEwvy0whMVFl54YU8uvfTSunSRpLrYYotlv3DLJ0WlzQJT9bUgKt1obRTgwCAKBJQkIq0KncZDZhEpKdht5ZCPnqADbaiD+GuKONZyTvimLjjF11hjjcCHhkJc2mniJ1HOaht33HFp4hpRbGPmZfLJJy+IBpRhwf6BWXvttY20kekaeF5wwQUTTzyxfTo7NbVDILPMsmBXWDwCZb6fjHT+p1pSCLwNwiYR6SihCFg8ZK/ggRVWWCFJSecpUy/UQwigf0zE+uuvz1WXovDXX3+9Fmo9Ral6R1i9U7NWRkRy7BjR6quvXrfTYqYtplWZUcSMOF0zOBFtnMRBZk/mOU7oRtKJpIp4ElmEBBbDOcGk4wSnnHJKPBQcBJZ1XbMHHT+Kt4yXEDq1HjQm7brrrovnSFVbNzARzEgJlNRij8rSES96fvnll9clbjEOqsQiTCIyGllnnXViGvbaa6+Q+PTNeEKv6Sz+lD7NzjXXXI2YI10ddskll1jhFh7XhH94u4nvwCpbGGtl+GxIwMTxSgOvi63NldxJY8dLP/3pTxuN6/MVNcoo9r8EgLUkVKaf6VRSEpFesamj/WmnnZau6gl+cA7SE/pmBMcwfO0seJtsc5oEgLppQB1k9U5NaBkRGeEBGsZAmTbOgOVKllZlRhHVB01EMjx1z0DO4kp3s2cSWB4SnQxwMAztLAxJR355TgON+IMqftJGScOAxHxpq7/lllu8Ze/kiMJPscACC3gVOUCRPRCaZpweyeEWveSQSW0W4wBMIFj1nIjUhYe0yCxuYStJP4qHncL/jjvu0CxbvhFzREe0RbY2dQMYPYhDoAwzDXWYkID05boDwUvEkxlk9sayISWtnLrAQWf77kknnRQALA8HBxOwNJ1oJCsi5RvEw6yan2RiyeRc5rwWGKddZfVOzXUZESlmbUQ0nkFh2piRQTujHUYB91bgEYWY89wVCf4XwGHH+YebMgvD2uUM8oTWQ9HzT4S9OIDcgiW7jcqJI1MWdGSN0oayjfifICaRw93mp2XAwAlJF3Wj8VSihUYnIopxUNGaySHgZzgWcoVy7Yl1Fc87iz+p984779R26olgl7/WKoDNN9/c/7RIG29d4D58aBXx1TQqAiYFONt3vU2+hRwkfuDIPv744/FkpEbqyy5St0E2NU2QDigz0TEkZoGdPnzZUQbKCVlmKCZ7Z1mlEaujFb9TcQnTrf0SMxKzM4hMO2Lp1l2u7Q+yUQthUUaAom5xBiae83bnAJgt8USeir+M5fDriXoTr8QueZeq0Eb9z3eebYR4ddzVkzCryeL77rvPJhz4hMkpfTpbJVpoJF+KcRgQGXMT0Vn8C4bAe1WmzmsAAAlqSURBVBt4cvH0mBkGRJ9GwBH3b1Tk4hX0EtPaSESmiswX/gpOWE8c6K7bINLxUcTWctVVV9FPeSSKBXQjxAY6C51llUasfsABB3C8FBfbPAuv/WmNGSmgXg+Y1iyMEJExqR0ZWFPSEEkxAeIATfkjctayJXhUiQ2Z7/KGG24Qh40hsEqWWmopTwKG5egvX0y2hQceeIAzlNoYCiMNlO4ZR48VsRR/w9xOJVqII1O1pRiHRmMs87yz+Dcagl3BJuGt9MlwzA25Yja5TRuVFP2oO66IktENm47agllppZWAZeN7uVr8zjbpuF2QOinGyO7hT2zaeJsAnWWVRqzO8OIlKy7EaF1leaADRL0CUneVaZMk/FyqhJ1PrMDmwAMP7JSvobid0NHE72rzme3Pku/C7lOyt5tEmyKP8SoiKnIJ4zmBa4XHK8HHCIBcffXVfjrtlMWHS9HDlLgfcSGrC4w2OQeJvNxtg9FyI/oU46DZHXbYQfWcLzLS03K+SHqQh5L7AuFO4R8S0LZc95oZmShBN3cK9IYB+qqXcDJmsyAK0GNxAxYbqQvD1Rhp25zd3JHp+g+1Al7OTZA664tMtmTWF5lUJCuiDLkiYT53nq/jrF4GkzIwZXyRQQGnFes22FWmDS+fcv/994/QIiMGYl7jRbcL4agLlrITgdm+yCnCiIrHsRh7e4RiczB+yuWOSOt2220Xh5mQ0gqX3Od/YT6RQf+ED5ENnm0hXObJsLLn0zKiNTxqw7cN5gztaKHWpxnNFuPQDjE7iz+vRV3zLVzDJDgdoR1sh2jd0L9KKnpywgHLRKk7WJdHSDfxiprpknZ7Z8TfnGTtNnE6yyqNWL3bo8i2HzMSs1Nbusq0SRISjCNEZOjVZFNvSJCudeI9pCc6D6trKTWUWYxF2IlBh6PQq4j9pxK7h7h+Wu2i0vHWk4hN+ycoyzUptQits+EXqWpekaFkJTUWW4eVrWWpWPS40O9SCRXVzxQFqqVSAQ6AI/yStqaoHtMQO2RqMGAY/vGkI/hrJ3y7jfCP7VososB+rB3ysHkSrJJCZDEuZ6XE9HI+R1u4kwtyEpNbppYILrxIqiL9NIRpUidTL1lmSNI56+lKkIkZigkek5vzunaD1Tsy78nXWeDcC+9WLpCQeu8q06Zvw30uGGOJRgJK8RGUMvpzeRh91dJa4CVlQXLAO3IARhQ7nbdl6noivTwZjJw+bNWUGc66CYCEiViKJykJw3Okj8CxfGkZ7P6hfvKyc6BIjaw9LkbZBlNwMrcYB0wQCUbZ8y0euiciKCAOG9hSfiNkJJc4XRXRPv5ajiWdO5gUnUbUSylOii4/s0MOMlKyzjjjjCzmhx56aJBl3nnnlSkhn5FBQ9GWsF1wENYRQFXMbBwkBWm/x59pisVwotnsYS1ZvfFQ0njCITZ7xcGEMiSNEGjOmdNxVi+DSRmYRF6+3UbwkQlAZ6oF6DbTCmnEgiWFRohIp688shrLDK9TMG6ISHeCEg10t2yWuF783H333ak2cGULy5DCbazgrAcTBxNeAOzY9kzA/ETZi22CKZN3L5CnFToikpQmUhh3Nrr3LKYzpXPXDr8AB4SNA5RRKCzSQThiUtDJQ3ou0U/Kh7sjCndq3LrcPv7IiLzEbvZwZxpFMKLuSt4s2anZ7592XHGEArmkV1G7bM48d7aM0ezB1rr4O7PABYTaCnOEU9vB08i4tP/RADBwmmLeJJlnrKWs8s4HJeEmlIModu5Grs8cDu5nAp/zXXaW1dufNb61bCo+hJlKdeUgr5e3Wadtz5hWCFfXsd+MEJG//e1vPaKrt0+CgbZgCtm8tfdupXbY4DJyyS9bce0RwDg2Y7fkJFJqr4HwduONNxaZqr1Ml8KI7+VpF+RI652MoyfmxHd2mGVwGChZsvDt4K8dW5HJbXR6pB3EhkfdsKZrzwvZMyQA0h/LX26ESeLLFioyPuyFrX2GoTXC0q3ssriltnqnWL01xFqrRZkwLyKNrVVvpxann65tVF+IyFAsyYJ22u3bulhcQq/LZWsx5E0vDuM68ojtai/p6eVg28Ff1hTVte6y6eUQ+rkvPg1KX1326Ge06+LGJ8Ciuu2224Yoq2fRNiOW3qBcBRB5C+F4HKFF+k+4k0pf64kbclxSF2EZ/8xh35/MKoO870yhgotb3OkwxRRTJEfSIJKiNfzpMgy3bbfdtkAFHsRBdbxrwo5dxixwVFmeQ/n2LQYmcMF1fOWbGnRIZxC5BRheWUyGEKsH2rRvXrjB2tojSy8umf5CRMaNyoOi1vaGq4hC0ZhsbqMwdM5HmcWE690R+tp7/XqDbW0vA8VfCyyFOHA9khTOdAFQo47U5fLfh3GaAHwuYjN0iebEPbMpu/cPLVZH+Qhh5e7c6tmMxIH3uHP+CxEZx04b3dTQM+S63VHW7chz3OiSNGhwjxZ4SLuNZ6P2y+OvhUExUgaLMtLsfWkyws1xCNURqfLISL2Wk1sevs8hc1M/5FjdRUfZG5J6SW1bCwM/HS35QkQKd8rWHh4emV4StOqrTyjgE9jZLY2HId1lWwZDKiTdU4ylDHAF01UKCHOJrw6WARQZlymDZdTPNcn/K5w4tCrn/4b093nTcKp/RloKSPyWAcbQbnQMppYy4teyR2V9cz135IjxSEv89gduInjPmQVN7xZpv6/aFvjuf/3rXzu0MuJ7B1kIp9Ptw9m7m7qBQdVmRYGuUsA9g3K5JAkO6Dyl5ETHq9inFf93dXaaNu7rFL4yIEdtUOSjlGrmiPsAv0hnzinMvDmymodrXLur1kHVeD9QwKGUlIHvUNNAv2fLxHOHfD8MZKTFAf0bfWSpBzSRr+6QRTZI+/8MbQJeNABj8UjGHSFVqSgw5CggX8Rl0e45doUiW1viyICGYB0O9K7GAbVfARdTYBDp7yYHJ398uynSe6Lkb8MWsZFKLd8lDi9XpaLAkKMAT6LTpfHNNaf7B4p/JR8HSrHOwg8W/WmHPp3masSsfKwjIj1yD5hN2LcoXeXU2cFXrVUU6BkF4grU7Fn4nnVddTTkKMAhI1jtsqu40Cdb6nxTxWuuSlIy7mGsSkWBoUgB6Tv8/W4nGYrIVzj3mAJy1N2Y4+LX2n7zvsgeY1Z1V1GgUxTwcQ65PmKRnOkSyCWOkI/pq8Kd6qVqZ2SjQCUiR7YZH7bjpQW49NPwZEQ6We/aZh7JYTvaamC9osD/AEOY56EOGwSGAAAAAElFTkSuQmCC\"></div>"
      ],
      "text/plain": [
       "FormBox[TagBox[RowBox[{\"(\", \"⁠\", \n",
       "\n",
       " \n",
       ">         GridBox[{{RowBox[{FractionBox[\"1\", \"6\"], \" \", \n",
       "\n",
       " \n",
       ">              SuperscriptBox[OverscriptBox[\"r\", \"^\"], \"2\"], \" \", \n",
       "\n",
       " \n",
       ">              RowBox[{\"(\", RowBox[{RowBox[{\"3\", \" \", \n",
       "\n",
       " \n",
       ">                    RowBox[{\"cos\", \"(\", RowBox[{\"2\", \" \", \"ϕ\"}], \")\"}]}], \"+\",\\\n",
       " \n",
       ">    \"1\"}]\\\n",
       ", \")\"}]}], RowBox[{SuperscriptBox[OverscriptBox[\"r\", \"^\"], \"2\"], \" \", \n",
       "\n",
       " \n",
       ">              RowBox[{\"sin\", \"(\", \"ϕ\", \")\"}], \" \", RowBox[{\"cos\", \"(\", \"ϕ\", \")\"}]}]}, \n",
       "\n",
       " \n",
       ">           {RowBox[{SuperscriptBox[OverscriptBox[\"r\", \"^\"], \"2\"], \" \", \n",
       "\n",
       " \n",
       ">              RowBox[{\"sin\", \"(\", \"ϕ\", \")\"}], \" \", RowBox[{\"cos\", \"(\", \"ϕ\", \")\"}]}], \n",
       "\n",
       " \n",
       ">            RowBox[{FractionBox[\"1\", \"3\"], \" \", \n",
       "\n",
       " \n",
       ">              SuperscriptBox[OverscriptBox[\"r\", \"^\"], \"2\"], \" \", \n",
       "\n",
       " \n",
       ">              RowBox[{\"(\", RowBox[{RowBox[{\"3\", \" \", \n",
       "\n",
       " \n",
       ">                    RowBox[{SuperscriptBox[\"sin\", \"2\"], \"(\", \"ϕ\", \")\"}]}], \"-\", \"1\"}], \n",
       "\n",
       " \n",
       ">                \")\"}]}]}}, Rule[RowSpacings, 1], Rule[ColumnSpacings, 1], \n",
       "\n",
       " \n",
       ">          Rule[RowAlignments, Baseline], Rule[ColumnAlignments, Center]], \"⁠\", \")\"}], \n",
       "\n",
       " \n",
       ">       Function[BoxForm`e$, MatrixForm[BoxForm`e$]]], TraditionalForm]\n"
      ]
     },
     "execution_count": 31,
     "metadata": {
      "text/html": [],
      "text/plain": []
     },
     "output_type": "execute_result"
    }
   ],
   "source": [
    "fh = Simplify[Array[rh[[#]]*rh[[#2]] - 1/3*KroneckerDelta[#, #2]*(OverHat[r][OverHat[t]])^2 &, {2, 2}], Trig -> True];\n",
    "fh // MatrixForm // TraditionalForm"
   ]
  },
  {
   "cell_type": "markdown",
   "metadata": {},
   "source": [
    "<span style=\"color:brown\">**NB:**</span> Здесь и далее мы не записываем компоненты квадрупольного момента для $z$, так как они сворачиваются с нулевыми $r_z$.\n",
    "\n",
    "Однако нужно запомнить, что след полного квадрупольного момента и его пятой производной **нулевой**!"
   ]
  },
  {
   "cell_type": "markdown",
   "metadata": {},
   "source": [
    "$\\hat{f}_{ki}^{(5)}$ - заданная функция (см. выше)"
   ]
  },
  {
   "cell_type": "code",
   "execution_count": 35,
   "metadata": {
    "vscode": {
     "languageId": "wolfram"
    }
   },
   "outputs": [
    {
     "data": {
      "text/html": [
       "<div><img alt=\"Output\" src=\"data:image/png;base64,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\"></div>"
      ],
      "text/plain": [
       "FormBox[TagBox[RowBox[{\"(\", \"⁠\", \n",
       "\n",
       " \n",
       ">         GridBox[{{TemplateBox[List[SubscriptBox[OverscriptBox[\"f\", \"^\"], \n",
       "\n",
       " \n",
       ">               RowBox[List[\"x\", \",\", \"x\"]]], \"\\\"(5)\\\"\"], \"Superscript\", \n",
       "\n",
       " \n",
       ">             Rule[SyntaxForm, SuperscriptBox]], \n",
       "\n",
       " \n",
       ">            TemplateBox[List[SubscriptBox[OverscriptBox[\"f\", \"^\"], \n",
       "\n",
       " \n",
       ">               RowBox[List[\"x\", \",\", \"y\"]]], \"\\\"(5)\\\"\"], \"Superscript\", \n",
       "\n",
       " \n",
       ">             Rule[SyntaxForm, SuperscriptBox]]}, \n",
       "\n",
       " \n",
       ">           {TemplateBox[List[SubscriptBox[OverscriptBox[\"f\", \"^\"], \n",
       "\n",
       " \n",
       ">               RowBox[List[\"x\", \",\", \"y\"]]], \"\\\"(5)\\\"\"], \"Superscript\", \n",
       "\n",
       " \n",
       ">             Rule[SyntaxForm, SuperscriptBox]], \n",
       "\n",
       " \n",
       ">            TemplateBox[List[SubscriptBox[OverscriptBox[\"f\", \"^\"], \n",
       "\n",
       " \n",
       ">               RowBox[List[\"y\", \",\", \"y\"]]], \"\\\"(5)\\\"\"], \"Superscript\", \n",
       "\n",
       " \n",
       ">             Rule[SyntaxForm, SuperscriptBox]]}}, Rule[RowSpacings, 1], \n",
       "\n",
       " \n",
       ">          Rule[ColumnSpacings, 1], Rule[RowAlignments, Baseline], \n",
       "\n",
       " \n",
       ">          Rule[ColumnAlignments, Center]], \"⁠\", \")\"}], \n",
       "\n",
       " \n",
       ">       Function[BoxForm`e$, MatrixForm[BoxForm`e$]]], TraditionalForm]\n"
      ]
     },
     "execution_count": 35,
     "metadata": {
      "text/html": [],
      "text/plain": []
     },
     "output_type": "execute_result"
    }
   ],
   "source": [
    "(* fh5 = Array[Superscript[Subscript[OverHat[f], {x, y}[[#1]], {x, y}[[#2]]], \"(5)\"] &, {2, 2}] *)\n",
    "(* Symmetric version *)\n",
    "fh5 = Array[If[#1 <= #2,\n",
    "                    Superscript[Subscript[OverHat[f], {x, y}[[#1]], {x, y}[[#2]]], \"(5)\"],\n",
    "                    Superscript[Subscript[OverHat[f], {x, y}[[#2]], {x, y}[[#1]]], \"(5)\"]] &, {2, 2}];\n",
    "fh5 // MatrixForm // TraditionalForm"
   ]
  },
  {
   "cell_type": "markdown",
   "metadata": {},
   "source": [
    "$\\hat{f}_{ki}^{(5)}\\hat{r}_i$"
   ]
  },
  {
   "cell_type": "code",
   "execution_count": 37,
   "metadata": {
    "vscode": {
     "languageId": "wolfram"
    }
   },
   "outputs": [
    {
     "data": {
      "text/html": [
       "<div><img alt=\"Output\" src=\"data:image/png;base64,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\"></div>"
      ],
      "text/plain": [
       "FormBox[TagBox[RowBox[{\"(\", \"⁠\", \n",
       "\n",
       " \n",
       ">         TagBox[GridBox[{{RowBox[{RowBox[{OverscriptBox[\"r\", \"^\"], \" \", \n",
       "\n",
       " \n",
       ">                 RowBox[{\"sin\", \"(\", \"ϕ\", \")\"}], \" \", \n",
       "\n",
       " \n",
       ">                 TemplateBox[List[SubscriptBox[OverscriptBox[\"f\", \"^\"], \n",
       "\n",
       " \n",
       ">                    RowBox[List[\"x\", \",\", \"y\"]]], \"\\\"(5)\\\"\"], \"Superscript\", \n",
       "\n",
       " \n",
       ">                  Rule[SyntaxForm, SuperscriptBox]]}], \"+\", \n",
       "\n",
       " \n",
       ">               RowBox[{OverscriptBox[\"r\", \"^\"], \" \", RowBox[{\"cos\", \"(\", \"ϕ\", \")\"}], \n",
       "\n",
       " \n",
       ">                 \" \", TemplateBox[List[SubscriptBox[OverscriptBox[\"f\", \"^\"], \n",
       "\n",
       " \n",
       ">                    RowBox[List[\"x\", \",\", \"x\"]]], \"\\\"(5)\\\"\"], \"Superscript\", \n",
       "\n",
       " \n",
       ">                  Rule[SyntaxForm, SuperscriptBox]]}]}]}, \n",
       "\n",
       " \n",
       ">            {RowBox[{RowBox[{OverscriptBox[\"r\", \"^\"], \" \", \n",
       "\n",
       " \n",
       ">                 RowBox[{\"cos\", \"(\", \"ϕ\", \")\"}], \" \", \n",
       "\n",
       " \n",
       ">                 TemplateBox[List[SubscriptBox[OverscriptBox[\"f\", \"^\"], \n",
       "\n",
       " \n",
       ">                    RowBox[List[\"x\", \",\", \"y\"]]], \"\\\"(5)\\\"\"], \"Superscript\", \n",
       "\n",
       " \n",
       ">                  Rule[SyntaxForm, SuperscriptBox]]}], \"+\", \n",
       "\n",
       " \n",
       ">               RowBox[{OverscriptBox[\"r\", \"^\"], \" \", RowBox[{\"sin\", \"(\", \"ϕ\", \")\"}], \n",
       "\n",
       " \n",
       ">                 \" \", TemplateBox[List[SubscriptBox[OverscriptBox[\"f\", \"^\"], \n",
       "\n",
       " \n",
       ">                    RowBox[List[\"y\", \",\", \"y\"]]], \"\\\"(5)\\\"\"], \"Superscript\", \n",
       "\n",
       " \n",
       ">                  Rule[SyntaxForm, SuperscriptBox]]}]}]}}, Rule[RowSpacings, 1], \n",
       "\n",
       " \n",
       ">           Rule[ColumnAlignments, Center], Rule[ColumnAlignments, Left]], Column], \"⁠\",\\\n",
       " \n",
       ">    \n",
       "      \")\"}], Function[BoxForm`e$, MatrixForm[BoxForm`e$]]], TraditionalForm]\n"
      ]
     },
     "execution_count": 37,
     "metadata": {
      "text/html": [],
      "text/plain": []
     },
     "output_type": "execute_result"
    }
   ],
   "source": [
    "fh5rh = EinsteinSummation[{{k, i}, {i}}, {fh5, rh}];\n",
    "fh5rh // MatrixForm // TraditionalForm"
   ]
  },
  {
   "cell_type": "markdown",
   "metadata": {},
   "source": [
    "Система движения в безразмерной записи будет выглядеть как"
   ]
  },
  {
   "cell_type": "markdown",
   "metadata": {},
   "source": [
    "$$\n",
    "\\frac{d^2\\hat{r}_k}{d\\hat{t}^2} = -\\frac{t_0^2}{b^3}\\frac{GM}{\\hat{r}^3}\\hat{r}_k - \\frac{2}{5}\\frac{b^2}{t_0^3}\\frac{G}{c^5}\\mu\\hat{f}_{ki}^{(5)}\\hat{r}_i\n",
    "$$"
   ]
  },
  {
   "cell_type": "markdown",
   "metadata": {},
   "source": [
    "Пусть $t_0 = \\sqrt{\\frac{b^3}{GM}}$, а $b$ - прицельное расстояние, тогда система движения перепишется как\n",
    "\n",
    "$$\n",
    "\\frac{d^2\\hat{r}_k}{d\\hat{t}^2} + \\frac{\\hat{r}_k}{\\hat{r}^3} = - \\epsilon_G\\hat{f}_{ki}^{(5)}\\hat{r}_i\\quad,\n",
    "$$\n",
    "или\n",
    "$$\n",
    "\\hat{r}_k^{(2)} + \\frac{\\hat{r}_k}{\\hat{r}^3} = - \\epsilon_G\\hat{f}_{ki}^{(5)}\\hat{r}_i\\quad,\n",
    "$$\n",
    "\n",
    "где безразмерная постоянная\n",
    "$\\epsilon_G =\n",
    "  \\frac{2}{5}\\frac{b^2}{t_0^3}\\frac{G}{c^5}\\mu\n",
    "  = \\frac{2}{5}\\frac{\\mu}{M} \\left( \\frac{GM}{bc^2} \\right)^{\\frac{5}{2}}\n",
    "  = \\frac{2}{5}\\frac{\\mu}{M} \\left( \\frac{r_s}{2b} \\right)^{\\frac{5}{2}}$.\n",
    "\n",
    "Здесь $r_s = \\frac{2 G M}{c^2}$ - сумма радиусов Шварцшильда двух тел.\n",
    "Заметим, что $f_{ij}^{(5)} = \\frac{5}{2}\\frac{\\epsilon_G}{t_0^2}\\hat{f}_{ij}^{(5)}$\n",
    "\n",
    "Можно еще записать, что\n",
    "$\\epsilon_G\n",
    "  = \\frac{2}{5}\\frac{q}{(1 + q)^2} \\left( \\frac{r_s}{2b} \\right)^{\\frac{5}{2}}$,\n",
    "где $q = \\frac{m_1}{m_2}$ - отношение меньшей массы тела к большей, $m_1 < m_2$.\n",
    "Откуда можно видеть, что $\\epsilon_G \\ll 1$, когда $q \\ll 1$ или/и $r_s \\ll b$.\n",
    "\n",
    "<span style=\"color:brown\">**NB:**</span> Но обязательно ли условие $\\epsilon_G \\ll 1$? Обсудим ниже."
   ]
  },
  {
   "cell_type": "markdown",
   "metadata": {},
   "source": [
    "## Переход к полярным координатам от декартовых\n",
    "Повернём систему с помощью матрицы вращения $R_{ij}(\\phi)$ на угол $\\phi$ по **часовой** стрелке"
   ]
  },
  {
   "cell_type": "code",
   "execution_count": 38,
   "metadata": {
    "vscode": {
     "languageId": "wolfram"
    }
   },
   "outputs": [
    {
     "data": {
      "text/html": [
       "<div><img alt=\"Output\" src=\"data:image/png;base64,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\"></div>"
      ],
      "text/plain": [
       "FormBox[TagBox[RowBox[{\"(\", \"⁠\", \n",
       "\n",
       " \n",
       ">         GridBox[{{RowBox[{\"cos\", \"(\", \"ϕ\", \")\"}], RowBox[{\"sin\", \"(\", \"ϕ\", \")\"}]}, \n",
       "\n",
       " \n",
       ">           {RowBox[{\"-\", RowBox[{\"sin\", \"(\", \"ϕ\", \")\"}]}], \n",
       "\n",
       " \n",
       ">            RowBox[{\"cos\", \"(\", \"ϕ\", \")\"}]}}, Rule[RowSpacings, 1], \n",
       "\n",
       " \n",
       ">          Rule[ColumnSpacings, 1], Rule[RowAlignments, Baseline], \n",
       "\n",
       " \n",
       ">          Rule[ColumnAlignments, Center]], \"⁠\", \")\"}], \n",
       "\n",
       " \n",
       ">       Function[BoxForm`e$, MatrixForm[BoxForm`e$]]], TraditionalForm]\n"
      ]
     },
     "execution_count": 38,
     "metadata": {
      "text/html": [],
      "text/plain": []
     },
     "output_type": "execute_result"
    }
   ],
   "source": [
    "RotationMatrix[-\\[Phi]] // MatrixForm // TraditionalForm"
   ]
  },
  {
   "cell_type": "markdown",
   "metadata": {},
   "source": [
    "#### LHS системы после поворота"
   ]
  },
  {
   "cell_type": "code",
   "execution_count": 40,
   "metadata": {
    "vscode": {
     "languageId": "wolfram"
    }
   },
   "outputs": [
    {
     "data": {
      "text/html": [
       "<div><img alt=\"Output\" src=\"data:image/png;base64,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\"></div>"
      ],
      "text/plain": [
       "FormBox[TagBox[RowBox[{\"(\", \"⁠\", \n",
       "      TagBox[GridBox[{{RowBox[{RowBox[{\"-\", \n",
       "\n",
       " \n",
       ">                 RowBox[{\"2\", \" \", SuperscriptBox[OverscriptBox[\"r\", \"^\"], \"′\"], \n",
       "\n",
       " \n",
       ">                   \" \", SuperscriptBox[\"ϕ\", \"′\"], \" \", \n",
       "\n",
       " \n",
       ">                   RowBox[{\"sin\", \"(\", \"ϕ\", \")\"}]}]}], \"+\", \n",
       "\n",
       " \n",
       ">               RowBox[{OverscriptBox[\"r\", \"^\"], \" \", \n",
       "\n",
       " \n",
       ">                 RowBox[{\"(\", RowBox[{RowBox[{SuperscriptBox[RowBox[\n",
       "\n",
       " \n",
       ">                         {\"(\", SuperscriptBox[\"ϕ\", \"′\"], \")\"}], \"2\"], \" \", \n",
       "\n",
       " \n",
       ">                       RowBox[{\"(\", \n",
       "\n",
       " \n",
       ">                         RowBox[{\"-\", RowBox[{\"cos\", \"(\", \"ϕ\", \")\"}]}], \")\"}]}], \n",
       "\n",
       " \n",
       ">                     \"-\", RowBox[{SuperscriptBox[\"ϕ\", \"′′\"], \" \", \n",
       "\n",
       " \n",
       ">                       RowBox[{\"sin\", \"(\", \"ϕ\", \")\"}]}]}], \")\"}]}], \"+\", \n",
       "\n",
       " \n",
       ">               RowBox[{SuperscriptBox[OverscriptBox[\"r\", \"^\"], \"′′\"], \" \", \n",
       "\n",
       " \n",
       ">                 RowBox[{\"cos\", \"(\", \"ϕ\", \")\"}]}], \"+\", \n",
       "\n",
       " \n",
       ">               FractionBox[RowBox[{\"cos\", \"(\", \"ϕ\", \")\"}], \n",
       "\n",
       " \n",
       ">                SuperscriptBox[OverscriptBox[\"r\", \"^\"], \"2\"]]}]}, \n",
       "\n",
       " \n",
       ">            {RowBox[{RowBox[{\"2\", \" \", SuperscriptBox[OverscriptBox[\"r\", \"^\"], \"′\"], \n",
       "\n",
       " \n",
       ">                 \" \", SuperscriptBox[\"ϕ\", \"′\"], \" \", RowBox[{\"cos\", \"(\", \"ϕ\",\\\n",
       " \n",
       ">    \")\"}]}]\\\n",
       ", \"+\", RowBox[{OverscriptBox[\"r\", \"^\"], \" \", \n",
       "\n",
       " \n",
       ">                 RowBox[{\"(\", RowBox[{RowBox[{SuperscriptBox[\"ϕ\", \"′′\"], \" \", \n",
       "\n",
       " \n",
       ">                       RowBox[{\"cos\", \"(\", \"ϕ\", \")\"}]}], \"-\", \n",
       "\n",
       " \n",
       ">                     RowBox[{SuperscriptBox[RowBox[{\"(\", \n",
       "\n",
       " \n",
       ">                          SuperscriptBox[\"ϕ\", \"′\"], \")\"}], \"2\"], \" \", \n",
       "\n",
       " \n",
       ">                       RowBox[{\"sin\", \"(\", \"ϕ\", \")\"}]}]}], \")\"}]}], \"+\", \n",
       "\n",
       " \n",
       ">               RowBox[{SuperscriptBox[OverscriptBox[\"r\", \"^\"], \"′′\"], \" \", \n",
       "\n",
       " \n",
       ">                 RowBox[{\"sin\", \"(\", \"ϕ\", \")\"}]}], \"+\", \n",
       "\n",
       " \n",
       ">               FractionBox[RowBox[{\"sin\", \"(\", \"ϕ\", \")\"}], \n",
       "\n",
       " \n",
       ">                SuperscriptBox[OverscriptBox[\"r\", \"^\"], \"2\"]]}]}}, \n",
       "\n",
       " \n",
       ">           Rule[RowSpacings, 1], Rule[ColumnAlignments, Center], \n",
       "\n",
       " \n",
       ">           Rule[ColumnAlignments, Left]], Column], \"⁠\", \")\"}], \n",
       "\n",
       " \n",
       ">       Function[BoxForm`e$, MatrixForm[BoxForm`e$]]], TraditionalForm]\n"
      ]
     },
     "execution_count": 40,
     "metadata": {
      "text/html": [],
      "text/plain": []
     },
     "output_type": "execute_result"
    }
   ],
   "source": [
    "LHSMotion = D[rh, {OverHat[t], 2}] + Simplify[rh / Norm[rh]^3];\n",
    "LHSMotion // MatrixForm // TraditionalForm"
   ]
  },
  {
   "cell_type": "code",
   "execution_count": 41,
   "metadata": {
    "vscode": {
     "languageId": "wolfram"
    }
   },
   "outputs": [
    {
     "data": {
      "text/html": [
       "<div><img alt=\"Output\" src=\"data:image/png;base64,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\"></div>"
      ],
      "text/plain": [
       "FormBox[TagBox[RowBox[{\"(\", \"⁠\", \n",
       "      TagBox[GridBox[{{RowBox[{RowBox[{\"-\", \n",
       "\n",
       " \n",
       ">                 RowBox[{RowBox[{OverscriptBox[\"r\", \"^\"]}], \" \", \n",
       "\n",
       " \n",
       ">                   SuperscriptBox[RowBox[{\"(\", SuperscriptBox[\"ϕ\", \"′\"], \")\"}], \n",
       "\n",
       " \n",
       ">                    \"2\"]}]}], \"+\", SuperscriptBox[OverscriptBox[\"r\", \"^\"], \"′′\"], \n",
       "\n",
       " \n",
       ">               \"+\", FractionBox[\"1\", SuperscriptBox[OverscriptBox[\"r\", \"^\"],\\\n",
       " \n",
       ">    \"2\"]]}]}\\\n",
       ", {RowBox[{RowBox[{OverscriptBox[\"r\", \"^\"], \" \", SuperscriptBox[\"ϕ\",\\\n",
       " \n",
       ">    \"′′\"]}], \"+\", \n",
       "            RowBox[{\"2\", \" \", SuperscriptBox[OverscriptBox[\"r\",\\\n",
       " \n",
       ">    \"^\"], \"′\"], \" \", \n",
       "              SuperscriptBox[\"ϕ\", \"′\"]}]}]}}, Rule[RowSpacings,\\\n",
       " \n",
       ">    1], \n",
       "        Rule[ColumnAlignments, Center], Rule[ColumnAlignments, Left]],\\\n",
       " \n",
       ">    Column], \"⁠\", \n",
       "      \")\"}], Function[BoxForm`e$, MatrixForm[BoxForm`e$]]],\\\n",
       " \n",
       ">    TraditionalForm]\n"
      ]
     },
     "execution_count": 41,
     "metadata": {
      "text/html": [],
      "text/plain": []
     },
     "output_type": "execute_result"
    }
   ],
   "source": [
    "RotatedLHSMotion = Simplify[RotationMatrix[-\\[Phi][OverHat[t]]] . LHSMotion, Trig -> True] // MatrixForm // TraditionalForm"
   ]
  },
  {
   "cell_type": "markdown",
   "metadata": {},
   "source": [
    "Так как $\\hat{\\omega} \\equiv \\phi^{(1)}$, то"
   ]
  },
  {
   "cell_type": "code",
   "execution_count": 43,
   "metadata": {
    "vscode": {
     "languageId": "wolfram"
    }
   },
   "outputs": [
    {
     "data": {
      "text/html": [
       "<div><img alt=\"Output\" src=\"data:image/png;base64,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\"></div>"
      ],
      "text/plain": [
       "FormBox[TagBox[RowBox[{\"(\", \"⁠\", \n",
       "\n",
       " \n",
       ">         TagBox[GridBox[{{RowBox[{RowBox[{RowBox[{\"-\", OverscriptBox[\"r\", \"^\"]}], \n",
       "\n",
       " \n",
       ">                 \" \", SuperscriptBox[OverscriptBox[\"ω\", \"^\"], \"2\"]}], \"+\", \n",
       "\n",
       " \n",
       ">               SuperscriptBox[OverscriptBox[\"r\", \"^\"], \"′′\"], \"+\", \n",
       "\n",
       " \n",
       ">               FractionBox[\"1\", SuperscriptBox[OverscriptBox[\"r\", \"^\"], \"2\"]]}]}, \n",
       "\n",
       " \n",
       ">            {RowBox[{RowBox[{\"2\", \" \", OverscriptBox[\"ω\", \"^\"], \" \", \n",
       "\n",
       " \n",
       ">                 SuperscriptBox[OverscriptBox[\"r\", \"^\"], \"′\"]}], \"+\", \n",
       "\n",
       " \n",
       ">               RowBox[{OverscriptBox[\"r\", \"^\"], \" \", \n",
       "\n",
       " \n",
       ">                 SuperscriptBox[OverscriptBox[\"ω\", \"^\"], \"′\"]}]}]}}, \n",
       "\n",
       " \n",
       ">           Rule[RowSpacings, 1], Rule[ColumnAlignments, Center], \n",
       "\n",
       " \n",
       ">           Rule[ColumnAlignments, Left]], Column], \"⁠\", \")\"}], \n",
       "\n",
       " \n",
       ">       Function[BoxForm`e$, MatrixForm[BoxForm`e$]]], TraditionalForm]\n"
      ]
     },
     "execution_count": 43,
     "metadata": {
      "text/html": [],
      "text/plain": []
     },
     "output_type": "execute_result"
    }
   ],
   "source": [
    "OmegaReplace = Derivative[n_][\\[Phi]][OverHat[t]] :> Derivative[n-1][OverHat[\\[Omega]]][OverHat[t]];\n",
    "\n",
    "OmegaLHSMotion = RotatedLHSMotion /. OmegaReplace // TraditionalForm"
   ]
  },
  {
   "cell_type": "markdown",
   "metadata": {},
   "source": [
    "### RHS системы после поворота"
   ]
  },
  {
   "cell_type": "code",
   "execution_count": 45,
   "metadata": {
    "vscode": {
     "languageId": "wolfram"
    }
   },
   "outputs": [
    {
     "data": {
      "text/html": [
       "<div><img alt=\"Output\" src=\"data:image/png;base64,iVBORw0KGgoAAAANSUhEUgAAAjkAAABeCAIAAABO55LxAAAAznpUWHRSYXcgcHJvZmlsZSB0eXBlIGV4aWYAAHjabU/tbUQhDPvPFB0hJMGBcXh3nHQbdPyaB6eKqpaIHecDJY3v9yt9TWiW5CUqGiCEN2/aKaosLM7S7njDmuh2Dz+VsUTutMpvAR//Ov3AYq1/Fu39YvMHavM9sBeZLj/3lV+7X3ut5yKTA+0j8v+5WygKcjijq0SgUddESUJRKYEXHgAbM54q/iAPRHAMMTusz8EJHXF2jwSj8Zwn2HzFOtkYqTmab23kbk7n2tX7kPQDYT1awpLAFuMAAAAJcEhZcwAAFiUAABYlAUlSJPAAAAA8dEVYdFNvZnR3YXJlAENyZWF0ZWQgd2l0aCB0aGUgV29sZnJhbSBMYW5ndWFnZSA6IHd3dy53b2xmcmFtLmNvbVyipoUAAAAhdEVYdENyZWF0aW9uIFRpbWUAMjAyNTowMzoyNSAxMzozMTo0NQqR3+UAACAASURBVHhe7d11/G1FtQBwwQRRVLC7RcVuUVGxG1FRDBRbwA5MBAwEuzswQEUsLATjWdjd3d2d7/t5675h3DF7n3P2Pr9z7t3zx72/s/fsiTVrZvWarf7zn/+cbCqDQuBf//rXC17wgn//+9/R6kc/+tFnPOMZZznLWQbtZGpsgsDGQGBC742B+1J6PfHEEz/+8Y9HV3/5y1/+/ve/P/rRj15Kz92dbLV50KpPfOITP/nJT25+85t3z3j8Gm984xtvc5vbpH6ud73rvec97xm/26mHCQLLgMCE3suA8kb0gRZc6lKX+uIXv5g6//CHP3y1q12tPpZ3vvOdZzrTma585Ssvc5hbL7Ozkfr69a9/fbvb3e785z//SO33afbd7373gQceGDUPO+ywZz3rWf/z/+WVr3xlPL/73e/+la98pU9rU50JAisFgU70/u53v3uPe9zjz3/+80oNexpMJwR+/OMfOzzJymq+613vOuUpT5kOro997GNBqOoH1wUucIE999zzl7/8ZWf7Q1ZAS9vKP//5z8LbFXlF1XajG91or732Koznb3/7m12k5khjxmWc4xznINhp/wMf+MDpTne6D33oQ3qsdGftaQK/8Y1vjDSMqdktEwIrgt6PeMQjqBDW4tBYFzxxZDlGKOJGGvCvfvUrLP7rX//6aP/a1772ve997+985zt9Dq673e1u17/+9RG5YcdWwJ+TtfWEut7nPvcZdhxjtPakJz0JL/Ctb32rrfHvf//7O+ywA/JuL40xgG9+85s77rjj+973vmj8Zje7WbASpznNaQ444IA//vGPeadPf/rTL3nJS1YejjGqqc0tBAKrg95OmWte85oPfehDtxDIL2GagOkkcbz88Ic/HLw7ZAax2W+//aLlT33qU0kGutzlLofbLh9c3/ve90596lMffPDBww7Mmfn2t7+9sc1mWnXEEUfssssuv//974cdx+Ct/elPfzrDGc5wr3vdq63lf/zjH1e/+tVjDbbaaitC7uBjoPq47nWvm5p9znOeQzo+73nPG51e+MIX/sMf/pB3esYznvH5z3/+4MOYtUEny6te9ap73vOe+++//1ve8pZZP5/qrwIEVg29jzvuODj/i1/8YhWAM9MYVnA7HHvssY6sOEaucY1rDC6whhGdASUA9YUvfOEhD3mI0xKTHZ1Wjqn6weXoOP3pT18532YCe70yJcFNbnKTpz71qfVXDbTqqKOOOte5zkU8XLDXJXz+ohe9CEwrLEDe78Mf/nAV/PuZz3zm3Oc+95nPfOYf/ehHww7sEpe4xAMe8IB6m6997WstpN4T5xJ1oN2d7nSnYccwa2sQAgtsbCc/+ckDL6HdrI1M9TccAquG3tTgcOltb3vbhkNmpgGs4Hb4wQ9+QBt0vvOd7/Of//wDH/hAUH3kIx8506Q6K7Ovn/Oc56xX+/nPf37jG99Yj9tuuy2pPVWoH1w82lR73vOe19nXTBWoPS92sYs9+9nPrnxVpVVf/epXT3va0775zW+eqfWNqsxrxYq2cRzMSKTUl73sZTE8G+mKV7zita51rQE5lN/85jd4n5e85CWNEADMrbfemkY4f0uzeqELXWijIBb9HnTQQTe84Q2ZVXEkhx56aJAru2JjRzX1PhMEVhO9KayocWaayIZXXrXt4ICi1uLXgGwEcIg4pzrVqXi4DAgrCsAb3OAGjQ2yk/EAcCbwC0sV6geXamc729kw6wOOKprif2i+H/nIR/KW/4tW6ftKV7qS03zwvsdo8IMf/CBoFrwqvv71r3/5y1/Ou6YzPP744wekVVozBpBtmyCEQ8zoalIFLoI+2Vj9KpqdZH8Du/zlL29IiaiPsVhTm4NDYDXRG/eNDRp8sqM2uGrbwXHhYPnrX/+az5oruRUfEA64/EaFUHQRGkLBVeWDi4eFaieccMKAA4umbnvb2/I2JPKmlv/LZ/3oo48WCGYCwWiveDFaI6TcbBsnW9FOO+2UvyXVXuc610mKr8UnSG7TSAr7rTdI8XjBC17wFKc4RXoVlfmDLN77fC0YADaN9jl9ftOb3tTfAibma3Blvyqsy8qOuf/AVhO9WexzbO8/nUFqOtdmbWcFtwMAOqbibEmF+GLFZ51doT7BpXxw+ZYurnxwxfEbR3G58GYUXNx/gWg+v/3tb7/whS9Mzf4XreJTR6ZbkYjarrmfLLSlyXWis76Q7Lve9a7nOc95CI59gNvZoAoMYP4lozRWxhm94x3vqMBT5e222y4ZMPv0MmwdaskQpFKhDNxmm22uetWrDtvRxrZ2//vfH5wPOeSQYYcBVhxK6U+ucpWrQCeBscO2P3drK4LetOIblaLlS1/6Ep+mi1zkImzS/cG4+tuBmPXkJz+ZwOrs4kf229/+tv/sCjWdXW0Hl6/e9KY3MQYhmamFxoMrjt9PfvKT5SExv4nqISqwuvUcvP218847P+UpTzmJoCYJy0pr5S53ucvg0twYDdLjmbnSM2pK2JPKFIYRlW0ZBnFfMQwKepgUc7TAV7jCFWj5onF6cNwQxWMOASktdttttzFgMl+bDhfagMc85jFtn4v4+9rXvta/cWFkg0dd9O891QzHFtbpOb7NP8mV5kceeSQsqmy23XfffUGtMse5BdU7K4LeGGdMGI+nBWE+3+ecx2JpXvGKV8zXgq86t4M6FTtKua8FtwNCdatb3cp5RSu4zz77mN3jHve4uWeXf8gHGM8aT5yiDiXHIwHAT/7orOwVMLYdXNtvvz0RsBAENre3argOvfe9741BnmSvCorHe20QQIzdCEcAo0V4+3SEFxafe/azn/13v/udkxdwqeZCIF28iJ7DfUQ7Uv+Fco8nPaJFjK1QRIc4wvDiF7948X6HauF+97sfKSG3qOUtC7MDq1e/+tVt3dlCPFzoClIFGA/vf/rTnw41wvnawSjgQxdxUoIhFheOheXANnYQwyISG3YvF5cpJGYa5B3ucAftJMM1J9WznvWsuR17ptZWB735rAPRRi29SEeHL6+ERZzmy9uhghL1ZRp8O/Ajd55IhaOvRz3qUYzfomJmQo/CztVaglUKDIXwYPj+978//7BwcIWS5tOf/nRbR3N7qwpa1TLtRZVWkbm8sN6DAGLsRl760pcarUO2T0ccslV+7GMfG5X5ROYmuz4tFOpwpePinzwnkUOJlDAmjZ88/vGPJ8uvgtgRw3M+ik025sbRIlSU2uXjnkc+2DKxphZwWEQNunXKigVhu4GfWyO6ePs2+WL5yfPoZz/7WRpVIKFC69V/qLiliJvJkYRghHd+7nOf27+dVHNF0Nu24qQgTfMcU1iRT8rboY4S9WEPux0oM9F++vmkmxl2TwmeufOd7xyzIFrJqMB1uaIHireFgytMVgxLjYu4iLeqnAl2Cr1utLxJrsI5OpX6q9Q2HLfwtgCUAF0Yjy3kFAil6kjDJuZzoOj0+ZbL5NKXvjTV7UjDmLVZpIiKElfe+KF9wni59957l5s1I7Cl/MyrgTmZBhKvDlWeFTiUokTklBALR0LRQQCqtCMtTZCr/sLEMcccoz5htNIUQhXZ2GYa6oqgt5NOWjluzT118jPNcTmVy9vBGCoo0TiqYbcDCgFVuD6NBAFMqjwGolbK7ZcPrtBMkkcbG1nQWzWyvEZQ7CZaRQPr0cUvfvGRgDJ4s3e84x0NmJKts2USj5qsF6OemyhQPXitMjbBd408S+MUcA9ORgbz3Lm8UtOrz372s4WMTYQA7qQ0k1SRxJ3crOJDQoOUo6lN6t90UJI7uVqg8W2ULL6i3GeadojXjX+vec1rgL1gBqvP2krReLRpIxuhVJhg1GeFrXxopZKoxNGI/bLeskQeGLoHPehB6ZUNkv9Mz9ONCf1pVVtop4nbgPiDmcLVVwS9WTTn0GyPseK4isjMmQrAJj7StortUFn08nZQuY4SdbQZdjto/zKXuUxSAHYedPNVcCYwgJUNruWD62EPe5hBStYz3wDKXyGlGucKp9omWhW5wKWeHKO/1CaIOB1oIQkiCwYYhbWgcBSiCmyDCtuJmowu8XNBI/ao8InG0Q8rRPYXXsB7VSHc2Aapa6zr4YcfHmmckAqnKoWbhEn52BBmsQe882mTFY1wUk9JC4kLLGqoEV2won3aVEHsKaSDU7vGpY8qzNcREB6ldlQ9Ua9B8vwxtpwclqF33/veV2s9yXl5gkiUHUjYZRaKTuk3KP0pug0JHX3DG95A+Rki0UUvetGcPGjZyBM3Vx5zWHn51/REDCdp9NtoGA545grVtmbXF73zGQ244gCC/ad8ph8KfRR+S2Y56C0YwwaxgzC4XENBGHf1hCc8IY2kczv0QYkBt4N4TScVu1TgJ72inzC2J44tuRrDsEFKddHYrwP/da97HR6UUT+OaxHNkW28z06nOdN4OK9tolVSEHpkLUeaJ62lYyICLxyg8Ekmp0X64neuKSbutkbQJD2GEU7hDxY/x0gJuMhEKt8iJ4gKu0icnoh62DZYPqOmHYiueCJRPzJAimchiDmKnksaGElyPUnS/TOf+Uw/I+6dgAUa8UleciE17gKoaPbSUHVK8I9tHwVl9XnFCuiY8Co/FAakVYUJMiOlS3cSrXriE58YKYwV4ovTSshqIlc5lxZRkHUdXePgQ1mfzL+FCRI7mCrz2D7Bf+Tm/BMWLK3RAXQ6/qwpelfgMxOtKqw4OoG9s9axvkGrcCcAHk8oV5EraI+YRdySbRW52fpshzJKDL4dSCpOKgyQcToz4+DaY489BjxnBmzqaU97mnFyXm9sk3PmLW95y1gFxzW6lcLv2nLU5u1E9l54chKtwkGnRwNOQ1NYkpCB7EB+LHQF4d24oF47pONOlxj5rAJMiOWw8xqjNYwGMw+XReb31H5EMDAlxpMIGHLM5U6iIn5imsldmCePn7ySUjtMU29961v7DJuWLDZzo88FLwAiHS9HOUH8q6b8bxGlyGsub5/o4KGV6tOpOjOdXJ0TvPWtb633RKu0ny6RowTn/xJIyMqiGuYp6R4xAZ48+MEP7hw2XRM1KTqdp02rf0XjxN+XBIxjwB1rHLcYAhmzOcYz/0R4kOc9k5ytF3rXITPsisu+Grsgt/M74uOhzE9x5kRwjkIg6FziqFBAifG2Q6SEcJ9hz0FuVDV3oBsntq9tACTaALhgREFd1Bt2jT/6JI+P4y4sdpvkqiB9YyTyihsIyQp1u3RlbrhybCarD07clmaMscnb8mCGza0zYXmEajp2h/WfGQktqK2MtpL4BExw/Y45naJhEURMB5iPAVFx6gWcwyznEz/JZ8mVwwYuJPnNW+Ou6luak/o0UTtnLhIFnlYHixTyh2UKOOfWNaoMD4lfPcE108nVOUHGXr3ntCoFUeaiXqQ/VpJyeNddd/VTkFznsOMIw+8XatJ7x/Wp4fcf/rshsIazb2W5Y16V9W1rf73Qe0Fa1bni3K9jKXNaFVl4yFV576HjFTnQucRRoQ0lRt0OIfT3Mcn3nMVI1SgMjBOT3dZ+nCeMDtSAYdRkYu/piR0Z6YJgb8pbQefgUZ9kClg5mopycYoF0jB9hzaTvjIkocaCpbUkBC9R2WzUmFxqHH7AaG9+q0r+LXOXn53ZXKSMUo3OR0xVW++r8zxUDVwe8iGhN56HXzJ6z6TkD6asvA7QhfCKhcGn+yNST5o+xyTknxAm9K9njo8I+4+UHBWYh6MXjzXwpJ90EEdYRrjDwSdqyfRJtAAvY7HqpYJLQUsqqJVwqfJ55wTR1Mon6YaF/Lk9Fj9jCyht06+0xg9FBkXav3JOMkwGbiMU9FrALtBBxbEbyxHrVQFaz8wL64Xe5rjkFddjYdHTijciZ/6wESVg9bDbIe/RrqG38KTxCvnOAS+zQhzC2OW2Trl3eWV3g1g4DZKrHPJ9BhkkadN900EM44aITtNCYUB5xynjIQNJPKc1onJFV0lzzCq5IwD0ZeSHUhULVmgqidiN5DqyEnSmWw2GqOwjMBK7MUezMamCJS+ZW+XtrbSf0qXHZVTUiUlZr02apf7O0GHcQiMrXRC7PU+XdYlX85NXlWpsA7HQeRgmTiUeNrrpz4pLlcF0TjAiXXK5KvWY43lC0c997nPRRWRKlByrsILuTkWJpakuey2SMiNeIoDvcLRFU3Jr0S1eVZx9HX8e2tJ98Ge90HvsFee3EviWy1XhdVmRqyKdmHwQfYDchhLDbofKSEIWUWZyCu05nWGrOcyNMxkp6o2HXkFpO8wL43HC+zAupvgvuapTTKFooqfqLOF6pyQNcmjhbF1aLMdZ4nntXvvNeUeRgobFV1EYGFluknNE/srf0UI5Oam3kahq9XkTgyQwhfzBK6ky2fQzMYlxUVBeePHFz4AM1JFEgONN8C8UXESfuAqvs5DW1akLNJHYPqUIc/46r5E0D4NWkVHCIBwltRDndaXUccltpOqwveUIlnCp8vkiEyxDoG36+bxIk0RbrrTlLUMrgKYSpEKEIgYRcCNTcAJaJTdjAK0RYpVhrxd6G/zKrvh8O2LY7VAZQ0jMWPxQV65yiUO4rsaIMdP0ROJWXkghEc1UYn+FMmmTveqyl72svwtudfOR4jDAIDltn4dvflt+vNw1oNKCVBE+bAuWjsrJlj5TOrv5ZjrIVxzrTYrGsh4KhusX6hTStJJycKR+Uw6FsNWHuKOgfCkVPbVqH5cWIoUuZP3JJ+VD6+h5OFs7c1GLlD0yLDf77rtv/kngKGzr06kPZ7JXdU5wbrkqqG+bKdTEw4Gwz2WkzE6aItQGWMJQTCbzt2XC7Feus/M8FqvP1eBrh971PTLsio8nV9VRYuztEC4ht7/97Qc5WEZtJE4ecYGNvQgkiCNrvhs4WXlT41Wd/kxEr7NyODVhFRMa5Z+wbYS/Yxwr9ZJn+a28DfsTe0lhDMGb4PRjGKtfUCmDpKeW1igfrdPNEYZDZ3wKj9twsavUiUUNf3SngAxd/iA+w5LIKiYGlv9bJxwak8djbejQfRucjsYpkcNYZXji8zCAlaTmkcUZ/BttBp3DKFdYZILllgu5851QFHeESBJq5QoVKQFduVlpOaz9SfZirELkYoHoIekPJSYIBiWVAFrdWFgf89qh98queOfA6igx9naIxV0LhVAcwm0OAWGDp4pnsu2Ec7nCuLQKrONsJbHVx8FPLPKUJ62IOogzFW0qhInGCQRoOJMUphfrXb7qgjJNZGjKac+1Pb6qFIIOZSvNbEijhufvcu9zLEyY6BSeFCQnuRnRJ+7L1He8TlAd52P4OnsVqXpSCf6F1SoRhmBJFE/C/cwfoeAqF84dRCgnaW72p8AJNwRw8G+kChTpRW/JAxt8uK5W8JU4q2ZPh46uQTW8L08wLOebtAf/97UZRStGm5pLBnYCUzyMAUuMVu8SgWRNtEzSHAjUi3LEEUdwryAJ1S/Tiet/8AeIlk4lvwhUt1ioO8wMa0oqIQf3BNpQ6I0Am6whJXuS8yVyQ69a6bPilUWPkzRY/jSdwIq04p3TrKPEqNuBf1lEI7TRqp5L1rNa5/TLFeIYbKNVYQ+W1WKAWwNjFUfSAWpZyHFMVaAxSkCXxWyIPHglaU2sRy482tUUg0HhqGvbYiDoYVQoR0iE/aPgUozPZcp2fEtwYAz+BtC6T4FXhsQkrjUkiu6F+OLvsvl9Prk7At0qhZdEiqaCGWHD44jhxIxeIpSblJO0bRaUiikF80YMRAoo7hybeCD1fZXXDP9RnjkOaOcyJwvHJXMLwtYY1hfnciWhRqHrmTRC5QkiDGHRzRNnxCXOSn5xbVDxHE8i/iZ3yogxp5r1BfIExOpTo1EIAi8mJJJGk3HFl1DuI/D1ZB/BM7GEdS6QCkOhtyjp0KgT8qJfYkRKGNpnJHPXGXDFjeHYY4+NpUmJP6BBJA1QuK3GOGkXIoxdbHjPhF6NKDHeduAKH8NrS33Uc8l6Vpt7+eJDvRhtox0nXBmVntEy9ZHkOsBx7VXRNxxCkBJHjyWJIGfWDtNo1MlG+FTkWWgsEcKJw22rgF8O3UtnUqXQQJJXWPXj0pDGNsMlJM5o2kulpxlmVlTgEZ70SzYV1rtyN4yfaCey6iCmUxLkiyw5aHIrlxAoR54KEgjh7lVmUuofZBbbvuIopX0ugrl6isscETAleM1napAGb7/l2aHKoGDuMuD6Cd74VWGCFMuRgCoKxBOkbH1zzo66lXCce+5YXCCKvuQL92HyDPQkbHiFQivYOE7AIX2mrnEYKGXb9R8UibroE6M6LHqjqdQb6WIXZtHg3sYuQ6048oOfy+/api134ieHI1DFUWHpcG8RiRiFBbcz7rMNJcbbDpFkshz+1XPJelZbZKFD0yP0vt5I5AwD5LlzsS6bVqU5oASUWumIDzfr+r0e4pk9T2GtjXAULaSOf9ugHKoq+RQ6l4GTt5piWjtvzAvpM5zCxy7OOLqjwpBAkhLVqYdhrKfkiZQTMJUyR5njYkmcBC1fo1sKuQochA0VLlhDcdURrDoSoBafYGFg+EEn2oD3jiLAjK9On0IIpAVFYuFYAappzIOjN7JhvYKxc3zTMYy0cHM3O+qKd46qgBKDb4eIVgzlU6H0XLKe1Toh0FYhhOM+SSzn6GLDaFVlrCRrrBBOs3I3WiTSLUc/UKSoQ8ppm39obNKNvQUwhQGcdNUJykiFUEh83tnCGlVwNJBuG0V7uR7SjaKNM2IFJM0MeNYvH24CqAl59Ti2uUfC96TsCkWsRyDrieEbexwcvePAjaRlFNE9hzE3NNbxwzaUGHY72HdORQqJwv0JAb2eS9az2twrEsnMZr1utGd3y/MDLClN/s85WzxdBDOn1Aa4y0jaUXAC9DYy0TFC5l2wh/GgC39/54LjMmh+uYRXAimhXA3qhARGjulqcnN4j4dwUlMbsqwkr4SYGHnuFre4RdskmYWpSal2Yx3XtOBGKTxZoeK6nAULjTFItsWKaRzvZVuyaYUvaGMZFb2p5enM4Ta3HaheGMaCoFjfz9tQYvHtwE2a91lEozJ82G68dTpj7HouWc9qc69LHMKhNh+3BH0bz7eik34eeeSRTCC8FaRAdjRw4WWtkTm0LL6gbQwM+X2sVKKiVQArHPb80ZnZ1tjo2RBFjsh4GYoyAkGyr1QMJ4TcSBuB/40PO6e2GVSgXUSrKuE+PBJzW05lmoxAc1xltJqw4gdEuOzMet45eHSooCfAAzHoVm5dqrQ5NnrrjjeKRGgswZzyO2e0xVaoo8Ti2yEc0Kj+OChKS63BnqblxiVjOKiomkddWY45NBD9zdIzYc6q6ADToElC3KP5kjFQC9bptBvFh+EQnJO0yHzBkR9LUo+WzWFk5zOoYGO5CZEDuB37kE2b61rEeLLPs4ejTw5lcTPEf+4MnrM5wyQc90gy70wLubTKOer7W7BXoet0CdbShjdqR4NMh7jfdsGKwUP4Pjg/BnrnoAsH+mDFptITwwfZDizKThtcEZmBzbL/lW/1JSMTY/cx8XKmpCmMt7KRZqWPW8B8GLVytGq+aUQ6tTy3RURBmV6ZRdUdtoXjAJIWidr4/lF5EctSxqrIuEF0i8ykZL5wb3WtiZ80YH0Ol/nmNX01QaARAmOgd86/s7s4KBe8BHVau/kgIHkmOz3f7pkOlvqSWdAIdcovtRlvZQ1YX+Pl19hMaJW7MoFJRob5kIOaNZdbmTQr1zUR9UTFOiAqXu+NmVjnG8P01QSBkSDQE73zuAtyGwXXSOOZmh0DAo1LRtZxKuZxjeOtbPDuNE9jzE6bq+JbsaAhjmKdt0wKAJy1Nfnu8iQO5KpIcx6FaM/vQ7Qy0SouEkwlAienMkFglSHQE71TlhOhMPwpUuTsKk9tGltAoG3J5OHkEJQumRx1ZRlunKLkqiUsyrg5lkadgAQK7El8HCo3AA3SqfAmLtd77733IK1NjUwQWCkIJPSWmgQrJlaaeSMueZnKikOgc8lkzOJMSKM49sqKpmfOdwiHU9vYZY1pFdBwSSf3VDLjDQIy+SAWT7Y4yEimRiYIDA6BhN4S6fLC5abEpDFGiuHBRz412Llk4riljOmstjgkHbxwpk9c0OJ9aWErOkH/yS0mWJ2Pf0qfOkjrS2iEqEvg5WWbp05ZQr9TFxMEJghMENhiIcBK4v4KjouSa48HBMk7JJIV0cRdbr3lKjByzxDRKvJITmWCwASBCQITBJYAAQcv1+jI+Lecsva0igZD4gnJ1HvekL0csE69TBCYIDBBYHOFgCguSjj343DhWdoc155WgZSYfwGM6QLKpcFu6miCwASBCQJbIASOPvpoPtJy2y9z7psDrQIvEbtxjfpUJghMEJggMEFgVAjIuxZXjS+zbCa0CsgmL6Zl4s3U1wSBCQJbLAQ25LDdfGjVFos308QnCEwQmCCw2UNgolWb/RJPE5wgMEFggsDaQ2CiVWu/hNMEJghMEJggsNlDYKJVm/0STxOcIDBBYILA2kNgolVrv4TTBCYITBCYILDZQ2CiVZv9Ek8TnCAwQWCCwNpDYKJVa7+E0wQmCEwQmCCw2UNgolWb/RJPE5wgMEFggsDaQ2Dt86yPtALuK5PZ9+Y3v/lI7U/NLgcCrnV234/bb6O7j370o894xjPOcpazLKf3LbyXldpEWzgmnHjiiR//+McDIf/yl7/8/e9/f/SjH13HzwMPPPBxj3tcPdS37fnYGJ7nWT9Z3D0stbtepSMc6Sri9Wr2V7/61fnPf/7Pf/7z6zXsabR1CLzhDW/It9P1rne9CUrLgcCqbaItGRPwam4syzfChz/84UY02GuvvZ785CfXX7U9HxuXVu4O+4997GOve93rxibRPdsHfTemyIe788479/xkqtYfAhg6bF3cmjZGwT5jGD/wgQ9E44cddpj7Yv7n/4vLUj10kcGrXvWqMXqf2gwI9NlEY2OCYbgel0BQwITvfve797jHPf785z8vMyKWtgAAHQVJREFUeeGWMPcf//jHt7vd7WwHU3vXu951ylOeMu0C563zzXM5VN2rns/9oIMOevzjH5+2T3rV9nypcNtYueqTn/zkjW98YxN2EfLYJLpn+0960pOsq8sbe9afqvWHwPe///0ddtjBcsuL3/+rmWrafre5zW3iE1vudKc73Yc+9CGHUd6InxgRF/DM1PJUuT8EOjfREjDhne985znOcQ6a/AImeAUVSdv//Oc/+89uwZpLmHsIta6eiKFe+9rXvve97/2d73ynMnJEiz78G9/4Rv7ctcLuNvzFL35Rqdz2fEFolD/P5aqN1AH+9a9/fd7znsd+sDq06k9/+tMZznCGe93rXqMuwJbZuJvZrn71qwcjRiGO1xscDkxTF77whX//+99Hyze72c2iu9Oc5jQHHHCAS3dSj1/96lfPdKYzIWODj2FqsHMTLQETvvnNb+64447ve9/7OjEBlbrmNa/pPvTlLNwS5k6Wuv71r7/ffvvFjD71qU8l6cf97xWcd/Mf9WC+NQhk9gtBqgKQtuejwm1VaFVMkllodWjVi170IoOZjrAx8O/hD3842Pr3M5/5zLnPfW6XZP7oRz8asCNK+TOe8Yz0e6nN5zznOXvuued5z3ve2KvI2B/+8If09p73vCd+c8ABTE0FBDo30diYYAw0e9e97nV7YsJxxx0HPeqSxBgLuoS5v+c97zGdX//61zH+L3zhC+7vwCaiQLERKhoFu6by5CY3uck5z3lOZLUCgbbnYwAq2pxoVStsL3WpS1FSLVMhMN4yr1TLFDKnPvWpX/ayl8WoaGaueMUrXuta1xoQ1F/+8pftw0aj8Wtf+9rTn/703iZm0xjYsU572tMOOICVAvgGDqa8iZaACeZ+iUtcwp12dSA0YgJshBtve9vbxgbacubORIfS1Ofy85//PAwu2267LT1kquDKxDvd6U55faRLtaRCTK/ano8Ht4lWNcP2gx/8oBXi8TIe6LfYlr/+9a+jJfn0aYqOP/74AUnFS17yEsv3u9/9rhHIlH5bb701JX56e8IJJ6j/6U9/eotdlDEm3rmJloAJv/nNbyiZ4UNPTFCNwpCWeAyA5G0uYe66owC8wQ1u0DgXugfnG7TnZJQqMERd6EIXyut/73vfU4dqtNJI2/Px4LZyfoBJnbqxf7iY2QDIuRs7jM2yd/q3nXbaKZ8a5u4617nOyU9+8qHmy08HOxnyU71c9KIXvcpVrsLvC3WMtzEeCsmhBjBrOynqa9YPV7l+5yZaAiYE/1HBtwS0OiYEMiwBE5Ywd3NhoGqbOxJ+l7vcRR3+FAkgKjPvUY+nJ+c5z3k4H2E7fvnLX+bI1va8jpDgz92XFnFAXJ3yVpwETKGLfiT7fw5ldkX+QhgW591d73rXN77xjQOuwUhNQRfj5H9P24YAP/KRj/zZz342Ul8zNQuDxXDQPEB9biy//e1vZ/q8rfKpTnWq8NBtK4xkF7zgBU9xilNEhSAVfD4H6X3WRu5///tvt912hxxyyKwflutvOKIWNlHjyMWo2lAwgUI46NzihbY5rW9jaxVMUAfmJMRYfAA9Wxhj7rq2EQpskLmrc7GLXSwNsnEjxDGI/6vMpe15pRqzHGaUHyabdE9odFcL8W0DY4FXxLcCuw24ipWriLRHHnmk5xVQ7r777gPqr4YSoj/ykY9EUzRsiEFlzDzf3vve9y7YFxM0VcbcjSBUt7rVrRiKKAD32WcfIxQnP3dr+YfOfbu0rSlcHv/1Bz3oQakCm7PemRAG6X3WRkL+O9/5zjfrh5X6ON+vfe1r8XA8ROXc7DTvHGphEzV+K6jAzqKV+uIXvwgasCJ3funsrq0CgGjtLW95S2OFOiaoRrZYctjMSHM3F/ZCHGobcJ7whCeAM54mVXjsYx+LbarU5x8IhnVvwLbn+efHHntsynzhFFrknJzsVQ3rGCST5Ft5h0/kP3P2s58dIyyvR551SRDJ3Ntp8A/tQCEUxi8SQONijEyHKfWJT3wiidD4g26JnEgOQj3HcIc73MHnScFNVXLWs54113f3bCeqcUkyDCG6/n7Uox4Fp3nrzdRCW2VkWMspMO5Nb3rTFa5wBQ4UcfzZdeztSHj6XCIDGkhn/SC9z9qI8RAmxGzM+mFeX3QnNtl+9nBARK2suMaRk9122+2nP/1pebRtm6jxK8cl7gFqMTFahe23395cIk58weJwZH9K+Rc6MUGn9jj3xQX77f/5eHM3Bg6ul7/85WMwOG8LZ/mgh58MTky2r3jFK/KhOivUqQyep4nd5Ljr+TxV+8EPfsA9DRMGGR74wAdqhEanP2QqNSda1QC6l770pcBKy1d5R3t2pStdifYsPY+aijC6uddg2A/xvMaJUHH1iWPL8F7+8penXtCnS1/60jHsmc5Hh0iwSLA8tYYlxJo997nPnXUWFAIOhW222SbRDArAWRtpqy8XACKavG+l/gv9noA5RMu2qfDs3Jrryz3UYJbQDkJFjkyrORSiNq442FIkMLeU16ttEzVCY//997c6mPp4K0D7b3/721Bww7exhkZrnZjAZx1adlLiocamnVHnTmNhzyYX/BRl6HzYZZdd3v/+9+cTcXQgLS9+8Ysrs4szBCfR83lUwyXoQlKMOIgU+xGWSiAyH/RWi1a94x3vAJRb3vKW801mqK+ITYZx5zvfOW9Q+DfdN0mi0ou4nDj3l4nfhZk+5jGPcS6n+PMHP/jB9GyV+ilvim3cH2jHHHOMadIqVD5BqCJrS/+m1JS+RWs3velNZ/qqf+W3vvWtoqkSY4Fhl0Imp7KpKYp4AV6LKDP7j2qMmqg+EXnvvfeOxgdE1LYVR0sIgihiQRnYuIkap6817A5ksBBjwAdAznWuc735zW+OxguYYCQMujISjDGMDZm7Tvmgp6OMaEXZwA82VyqkgdmS1HT1NSUexRFXCTtrex4N0vCjlKHaSYWCd+6NtkK0ikaIuRtE0F7ZcT73uc8tDWMqHdHwGgbuO3/O/JNbONKrlKK4D62ycqgdO2pB+ebVZz/72Tx6vDI85y8faxwi4QCTm6uA6eWxUfk4ad4rDuJaw7Ry2jbHmWhVmxQPKS9+8Ys7LmeK573MZS5jAKEAHKnQ/ODsKrul0pcxcwZrs2e0DczBB13rAZKFiRRWLb760pe+VPlc+ylpslnEilfqWMqrXvWqudVhEESNXgp6G0mvLR/GqG3KjZuosTJgaorRro8ZbD5UYWNztpQzUDvHJc3jtF23Us/XaZ+vljB3tFko9KGHHloejwgq6hbkp14t5UhE5PK3bc/7THyOOitEq+YYfeUTsRRYM8Q8WZjnazMMUYV9mDdLA6synXi5Lx7SMIZ64QIXuAAvIwUjbMDpKzvk8MMPj8QKCAmSQ80irWrerM0sqpFlhQ5a0Yg485Q8xlvONj7vpBmU8uEg3t8+hDmN9MwiKOszlSHCqz4WafG5VOT6DU5NQK6fzEXzrVTnV29/+9vLAh9jG8eKznYqFe573/safCNzWm+qvGpIFI8SJ2nSsSA/hs0jjv8LHIAkzn0Wbz2S7NnD8y4iJJMOs3MKPRE1tVNecegK2WApxG7sunMTgZ6lVxhITIGBKn7OzXeXIeAUfvazn12o49Coq786oTpfhSXPHTsLx8p+DaKGC/gcrK2bRCrzbXse1b797W9LRI6ro4ON45QC8EY3uhGbWc+9k3e3OdAqWnUpvCIRqoIeYPPnw6H4isusdnreihIxWE6WQo/ICaLC1hVUBJcXhh/q4/jK8cRe4gmB0ubHCkVqROW2t71tYvTC8SaxSM985jP9TPrfyKdS19HVBxYKaIo7sRSdgLKBaQby4CeOUkTD/MMIDMQad9rDH/awh/H1R9rVR2v9reyxxx6dw1ipCjPRqsKqMepElmsl0SpamuS3aY2QK9ZpJqJwv4Y5ed6v+JzLQCd8+iBqNNJnxVWD87qu0M40jM5NhCbF6sf0zTF+jpEcshM4S66wdnMPV1XGvAqg2p5Htac+9akMOrG+jlN0KwUD4MZmhfna0yqYzYMILGxv/iqYQSBYUIoP9VQfmUNGFuoX1DHPU1JZAxwE5b5B5m5mEZrASTcqR2wNGkCnlz7nsxfLnLySaLT8JDimOvzZGGbiJzrnLQNVJxKoo+b97ne/ck0aJ35BWCdEMa78ofgO9pxPBKYp//wiF7mI58kqUG6ZBKbyla985c6hrmaFmWhVedVM8Na3vnVOq2LK6HesvhwKgc8ksHiSvIfDYIB6tWXoSNDrg6gqz7TiJGy92yyNa9RzE9k4MamNChjYQARbo7nT8FsjMZoVcLU9T9VoBWJ9fcsqTOfvwPTHD3/4w1khv960CnvCvRUgnH1l+kRwIQpQAmADHbtsQrZlW9Yvrpza7HNPRJAHjHMB7qRvdSoZyQzG7QNogA/RsEglSQeYt+MAQhI8J5OFKt8nfpLPklqZ8i1x2bvuuqu3PLPLSIBtZxE0x6DrbYXGAC3RYLhBR57N4N+pH+szirFVptDWeKgTKxbBWXF3A+vPRKvKq2YWmAbQqPhZQRgPyVX5NEPHy488HvLj8pOqsBMUfRB11hWnztV7PRwnBtNzE0UoPXI7oBdoJzRWpMIazV0WGMuUcngmALY9TxUCRfnfUgOGipUlfj4nzyFzLGET6ILKJc/eEfRWcZmKA7exsOalavU/OOk60Iks/qjftRz1GaidiWRVaRG4PzimKV64mKPteYb8vHEXSfjZGbvOEGLxaELiWGkroZqr3NaI3nge7qq8LVjO/cGUlTdizKH0x5sQYvwR+btojVlB0V1CmPiJlFwjwsLNqzAYFN3JiDTyJnDGFWqiowhqKJdVszp0UHHsRo8xpFSi3z6h6ZA1cssm9VdhGCvyqoLbkV+jguqNuN25aiqE0r9SGvGZgK4aRWtU7rPiqvVE1PlW3GrGfqmUnpsoLlOntA+mc/XL3KdcfWprNPc4DB22lVm0PU/VItOm/QIfIt6fXOUQXnShgxi610RDPa01iX7Wp9E4Gl5zdaYm3FsbS7orr5EVSn6DOH06QFka+Wc7W5O7FMTiJWXbH3XUUXkL7Fu647rd2GwoYetMRF4ZfXU667HTGSxaqwwgbyo5Gki6VRkP01SAJRzVKhkoqN1yxwHil5r8/gtsIzsnVr0zYwW5M9yIo32HI/RKSTB5wXpVUSFyoPIQOnYyrcFqKZ0+IJ1NLafCIrjduWoqcDABjYpcFT54FbkKMnuYghDCYInvKcChJ6LOseIpTVej81ifTWTYoQzo4xuynLUu97IgJlQaX6O5BxtdJwptz9NMQzdTOGz7L+sRRxyRtskm5i5MuOV0anW6QltF2dVZwuenUvj1Q/fG4sa8ev14YoTB2usaDhE+KLVEAFCpxTnrhIUNPH3p6Hgo5O2w8JPGkl230kXwuYU8WmghtwjrJGtZWfwiMAWDmSeIrHSXOOi4jyAvIWIrMST2LeZNHjXBmFCBiu6KG3cUgrZ/27h7rzhZPe1pTyNK80hsg2o8J3GiizAhRCgMIBlOLFS8pUX0b2gCU4l+A/LlEuwkj8fQaK1+qeN28HMMijnCN+K2auVVW2T6nSveH1HnXvG2Re/cRD60xSLL3LpI2IuccpWFXq+5tx2G5ZzLzuRw4+LXI1P7Iqju2yBJQZ423QtMsejvgw8+uD/F25CaBJpwTuNt0jgABMnbesqQqJx7KFQ+Fznow/ymvryCU/uGN7whi0vZ3pM+iQSRtBz18BExZDKshJispLj99G3KixGODOhuvEL5Ug54+syw1eGvNdJmZiNLWea2SVUgwOykKXJbPA/Xj7j32kgw+5VrbzyP8fRBm/AauP3tb78haDNIpzPZq8qrZjxzy1UROy9DR+OkZkLUOVY8jiG8WqOpuLyJYsCR+k9ZMMhkkDVdciPrNfc4xHC6FSi1PY9qYrZifQe5Dywu+uGApuVNclXY84dN4b4gRW383CYJCZSTd72ChyDreRwE9RIkubGE6jxdGJHXsS1pwAgWpJmKvUdKwIBmpaBSnrDQMKrlrxz9znfiC+NTMAvhWFWp4ydnGx69/nBEuuPAH+6YsfyRT08KExkZ/BEWI8qc+hhYnjiPygfIvpW/xfjIOVSvTzz1MImMjFVoc4yBcwrcIAoHmqYS/ZatZVE55Kp1YaXrwJn1SXnVZm0tr19Y8VkRde4VF37QaForbKI0hcAELYQT6RZV1mvucRiGlSEvbc+jTpjqKbeZvRdf3CBJQZ420apwAS+okhbvdagWIr8RpRbppNImJ6VIW5k0VyogyGwkqdS/ikZim3FWqY/TucPyxNwltQR3+SgUqdwriBR5Ntv0bdjGFJ4UJCchTegT326D5+6B6qB54QjuVWS1SSUYE1ardByEM4ziSfjm+SN0QaGvq3uj8HWm9BN3hWqmMSN15FFCZ3hUV0pcE4AEOsKIg1IhBBiNR/Asq0lYU1IJUS+Nod5gesK9JVx1txxaZbKFVfM2fCXCvyaVOAWCP00Pow6BKZ5w2LFb7eGKn4tXsyLqrCuui0hh3nhvjueFTZSmE+d1GOG2tLJec4/DMMWwpsVqex4VhH76d8899xzkarogSUGeNm2MOFv7GMmXLDXXu6OFC5sHuw7LFqUEtbvjXjIVeYY8dyDmXzl5KQZDiGEvqWe5j8pUfCrU3wZtaCsFNxCm4/pXnEFSNJUlD+MZizQqGMNA/DxhGEs6Fte10L+lwM8w5qWA4oi/qZjoiYApsXrjyOupfXQNLcLljDQmkNkfaJvYCEYIIVZyq1TWIqwOxNxOlBANFkhfiKL3iv8FohiRxUIx/F1PlUQoNLaUtoOpHyntDEbuHGGfCjPpAMurhhUI+3OeA8LDiKVVRI7HkAjQkb0C9JJHTyTRhwn5sOdA1FlXXHfBvlRSq6RhtG2ifJxh9iuEfPRc4p7V+qzs0up0zt1IMNO4nEiLrlD5VmLw43nP/bLI1MJAngehR2ttz70KX9/Gr+YbSWSziytONtEqztAeiZOfr8Ulf4Vc0fI5JRPppigXIB1XXjYaRSLyo5DuV1owFdDsfC5hGyiUelB3/rkEr0ln6MQhl+Rhv2r6iY6ahTOLwk2QL7JE1ZZbuejrzFQFKewwwiqLm8kDU2TeNMI8lWIYsdoKprhtvchJUmkkqCKiTp+26z/oP3XRRvvzLgLhUoRQY+/gwOcwzkFq/Yg3rPg3kvlucYtbAAVgRr4WEFYtzyg/Hiruu+++uq7T7MYeC6tGTR1ZtaKQj2VoJHcmnxoPMZK4FgxKaD+iMFJGGmX3A/mZpyeeG1FnWnHoCvKoZp4nLJ9+4ybKK+AqQsncllSp5xL3rDYeMszRcufctYkw8K2FEryd/fS3zdjo89lnv8wxyPRJkuOBOm+n7XnUibxrEHWoNI/BIMatIptoVXC+a5dTAOCc2okAhLd3/aIHTLrnKbq2cQnDqOPfRRa48VvHgfUuiBSOXdpLJAE3XRcRIj0BFpjgqNQzmeJlnGjo9FAjdxwz7CEthfA9Y3bgkh4q1LdxDKG2lfm0PEISMBmOTpX2kulRaTTgy06rNfcKag24LDd97FBzH6qdzlVbsCPLjb0dyj2hz4onzqCeyCDNpXMTRbJ/GaTK0++5xD2rLQjqoT7vOXfdhbndAc3pNC73ahxDz/0y3/gJ9MEh5dchaart+Xy9dH4V6ZrCO2wTrYrELXRrnR+vcgWqLXIJaaCSxx4ZqPCh9VlQdqlTv1tsleebxkYsxvLXQ7XmHjxMKLvx2EUIZKMusdKpzWZRMOOFLPLpk7ifupwB3eZB0pKUJlnRusRszb0c9Q9Blaqgzd91jo46V1xwBX6/zBJ1bqJQVKZbENvG2XOJe1abAxpjfNJz7rqG/6DE2Nx5o26f/TLfXOLWbDu3Ekva9ny+Xjq/iiCZyJ+7iVb5K/xNO5OMdbY+UwUyh8thbQCeZhUCPlM7qTJHhiA5aSKOyHAlKGdcDgtNOcRyviEt5ytplvgxk88W746zIvf0ghFIeCBsSTaVeo84QTJuXMcQriJ9/NpVjsxDnTcXUwBEknuyV1m1uDg0VrYF/CVNIw/VPqJteRadKy5bBycdKqlyX42biH6SqjaUQhpB8EQfdkK15xL3rNbZ3UgV5pt7+GeSrjpH1XO/dLZTrxARnBCs8qrt+RxddH5CrULnLOFOYN1JtCoiZ2e9Pa+zv0IFikd0O1lHsN6DXA1AO8Svl8GD+Y0Vmps1o5HMreUT0P7Bra/OVb9zAJZvAl57cUcDpt36VY1pPJg+3iu47MIIQzlD9cc5QmwEv8c+md+oN4NhKqfh0G9k+OVCyXSX3FLmgNi6f2Ktub305AMKky2vuA85AfW5O6O+iZAofI/FogFjifRHn/TQ/Zd4lTFh7rmHFbaTb+6/X+bA8wjFqdPLtudzdNH5iQ1uDPzRouZJtIpbthcM+51NDFIBoJETdIWMCY/DQWAo5w4EmUevFPS4ADxjpygdMwoX3k6mfpDpj9RI+Y7Bnp2KCSvcNwGYnfAkUWFBEE46CmattuuOKuORjDhSTzmAvMqNuhWPBvm5VSNDCwDoOanNuNp8WUFzgJRXXM3+eFXfRMEEi7aR36Qe+d62Lm1LvF6YMMfcoT1rMXEZH++QxBQmTxb7Ll/rwn5ZHNsjjrNuY257vniP9RbcNWEM6crmk2gVHo2lR9zDGL3W2wSFHHFZRwyLz/Ryem/sJVLeFXJbbODY1q5rGl1mQn5NnYSNByNmjYaWa5Np8oAih8l6x88wZs1xDuXLL3UkpbHPMZgNojdeO9iu8oDrm4h4gRklupVl8cqkGpd47TCh/9zVJE5Roopb4BQaefA42QoSiFw5bBlURBQ/+PvyfhkEPSJ5mOiXSmttzwfptNII0cXGT3evn0Sr1KP99K5wLdOAA+K9lru00UjiI9ruxRmw30JTUudZHozDcrqbegkIhBoHXoYVl/3ST77picjFBSs0tLkikS9A500oE4SXD4EBN1F9iTdjTIDbHDuJnmGFYfElOVCfplzbKkSodUSkFPbL4ovuZBaQWne1a3u+eI/1FjgcMFblmrb/olXC0ECnEmM0xjjqbcZNB33uDBxvPCRLNrPIPTWVpUGAwrZip6zn8KbRla8hubDTMbqpZMHbNZc2wS2qo6E2UdsSb8aYQIDIA9cc1hVPN6QCJ01d0blfFkS5yKSDM6i00/Z8we4aP5dhh+CUexr/F63yDfctjjoVn+8xhlJpk7Qr/mn5/VaGEfk76pLvEiAwddEGAcYSQaYp4JdBUQDWTAqlCbbLhMDim6htibdwTJDwmltTz2j0RVacyxIhLynfUlNtzxfpq/HbuFe9ci9rlVbhVQVXLtkPmPsDQrUKhiIjoWvqedHt4Cs0NdgIASEdPANpCHk8M1ZzL5RVa4LVykJg7k3UucRbOCZwgamnAhgcDZhjZGjjX1ppue354APQoGx5IqsqTkNVWqUewZOLKr3zGIOotwn6ot5chLGc7jp7EVtqqZbAvHSOZKqQQwAX5WIRQQiVpC8TlFYQAvNtop5L3LPaCoJlLYYU962726Ey2rbng09KCjEJ5+pSXQOtCnIluYUozsHHUWmQ/Vzc7qz3EY86KklEZGbrDK0fdQxT4xME1hoC0yZa0+XDo+PU3exaGX/b88GnSc9JsVcnVDradCcII01euKCIsIl8uuMV3UsgRqhKN2iASPjvb2ARR4xIywPd8+7qDRzq1PUEgdWEwLSJVnNdOkfFt5YT04EHHlip2fa8s8FZK7BUUfhLwVP/cCsEY9bmhqrP60+cF8VoXNTEcMoO4SqNDSdXBmNg/Ecb7/UYavpTOxMENm8ITJto7dZ31113Pfroo+t3VrU9X+YEN4xWSdlSua/WtElycqL3uWd2CTBCxRsvP11C11MXEwQ2DwhMm2i91rFtvVZhHf8XCiqpZBjJfLUAAAAASUVORK5CYII=\"></div>"
      ],
      "text/plain": [
       "FormBox[TagBox[RowBox[{\"(\", \"⁠\", \n",
       "\n",
       " \n",
       ">         TagBox[GridBox[{{RowBox[{OverscriptBox[\"r\", \"^\"], \" \", \n",
       "\n",
       " \n",
       ">               RowBox[{\"(\", RowBox[{\"-\", SubscriptBox[\"ϵ\", \"G\"]}], \")\"}], \" \", \n",
       "\n",
       " \n",
       ">               RowBox[{\"(\", RowBox[{RowBox[{RowBox[{\"sin\", \"(\", \n",
       "\n",
       " \n",
       ">                       RowBox[{\"2\", \" \", \"ϕ\"}], \")\"}], \" \", \n",
       "\n",
       " \n",
       ">                     TemplateBox[List[SubscriptBox[OverscriptBox[\"f\", \"^\"], \n",
       "\n",
       " \n",
       ">                        RowBox[List[\"x\", \",\", \"y\"]]], \"\\\"(5)\\\"\"], \"Superscript\", \n",
       "\n",
       " \n",
       ">                      Rule[SyntaxForm, SuperscriptBox]]}], \"+\", \n",
       "\n",
       " \n",
       ">                   RowBox[{RowBox[{SuperscriptBox[\"cos\", \"2\"], \"(\", \"ϕ\", \")\"}], \n",
       "\n",
       " \n",
       ">                     \" \", TemplateBox[List[SubscriptBox[OverscriptBox[\"f\", \"^\"], \n",
       "\n",
       " \n",
       ">                        RowBox[List[\"x\", \",\", \"x\"]]], \"\\\"(5)\\\"\"], \"Superscript\", \n",
       "\n",
       " \n",
       ">                      Rule[SyntaxForm, SuperscriptBox]]}], \"+\", \n",
       "\n",
       " \n",
       ">                   RowBox[{RowBox[{SuperscriptBox[\"sin\", \"2\"], \"(\", \"ϕ\", \")\"}], \n",
       "\n",
       " \n",
       ">                     \" \", TemplateBox[List[SubscriptBox[OverscriptBox[\"f\", \"^\"], \n",
       "\n",
       " \n",
       ">                        RowBox[List[\"y\", \",\", \"y\"]]], \"\\\"(5)\\\"\"], \"Superscript\", \n",
       "\n",
       " \n",
       ">                      Rule[SyntaxForm, SuperscriptBox]]}]}], \")\"}]}]}, \n",
       "\n",
       " \n",
       ">            {RowBox[{RowBox[{\"-\", FractionBox[\"1\", \"2\"]}], \" \", \n",
       "\n",
       " \n",
       ">               OverscriptBox[\"r\", \"^\"], \" \", SubscriptBox[\"ϵ\", \"G\"], \" \", \n",
       "\n",
       " \n",
       ">               RowBox[{\"(\", RowBox[{RowBox[{RowBox[{\"sin\", \"(\", \n",
       "\n",
       " \n",
       ">                       RowBox[{\"2\", \" \", \"ϕ\"}], \")\"}], \" \", \n",
       "\n",
       " \n",
       ">                     RowBox[{\"(\", RowBox[{TemplateBox[List[SubscriptBox[\n",
       "\n",
       " \n",
       ">                            OverscriptBox[\"f\", \"^\"], \n",
       "\n",
       " \n",
       ">                            RowBox[List[\"y\", \",\", \"y\"]]], \"\\\"(5)\\\"\"], \n",
       "\n",
       " \n",
       ">                          \"Superscript\", Rule[SyntaxForm, SuperscriptBox]], \"-\", \n",
       "\n",
       " \n",
       ">                         TemplateBox[List[SubscriptBox[OverscriptBox[\"f\", \"^\"], \n",
       "\n",
       " \n",
       ">                            RowBox[List[\"x\", \",\", \"x\"]]], \"\\\"(5)\\\"\"], \n",
       "\n",
       " \n",
       ">                          \"Superscript\", Rule[SyntaxForm, SuperscriptBox]]}], \")\"}]}\\\n",
       "\n",
       " \n",
       ">   ], \"+\", RowBox[{\"2\", \" \", RowBox[{\"cos\", \"(\", RowBox[{\"2\", \" \", \"ϕ\"}], \")\"}], \n",
       "\n",
       " \n",
       ">                     \" \", TemplateBox[List[SubscriptBox[OverscriptBox[\"f\", \"^\"], \n",
       "\n",
       " \n",
       ">                        RowBox[List[\"x\", \",\", \"y\"]]], \"\\\"(5)\\\"\"], \"Superscript\", \n",
       "\n",
       " \n",
       ">                      Rule[SyntaxForm, SuperscriptBox]]}]}], \")\"}]}]}}, \n",
       "\n",
       " \n",
       ">           Rule[RowSpacings, 1], Rule[ColumnAlignments, Center], \n",
       "\n",
       " \n",
       ">           Rule[ColumnAlignments, Left]], Column], \"⁠\", \")\"}], \n",
       "\n",
       " \n",
       ">       Function[BoxForm`e$, MatrixForm[BoxForm`e$]]], TraditionalForm]\n"
      ]
     },
     "execution_count": 45,
     "metadata": {
      "text/html": [],
      "text/plain": []
     },
     "output_type": "execute_result"
    }
   ],
   "source": [
    "RHSMotion = -Subscript[\\[Epsilon], G] FullSimplify[RotationMatrix[-\\[Phi][OverHat[t]]] . fh5rh, Trig -> True];\n",
    "RHSMotion // MatrixForm // TraditionalForm"
   ]
  },
  {
   "cell_type": "markdown",
   "metadata": {},
   "source": [
    "<span style=\"color:brown\">**NB:**</span> Полученные выражения <span style=\"color:green\">**совпадают**</span> с уравнениями (10) и (9) из файла Binary.pdf"
   ]
  },
  {
   "cell_type": "markdown",
   "metadata": {
    "vscode": {
     "languageId": "wolfram"
    }
   },
   "source": [
    "## Получим теперь **энергетическую** систему уравнений\n",
    "\n",
    "В задаче двух тел без учёта гравитационного излучения в системе центра масс в полярных координатах радиус-вектор $\\hat{r}_k$ задаётся как:\n",
    "$$\n",
    "\\hat{r}_k = \\hat{r} e_{1k} \\quad,\n",
    "$$\n",
    "где:\n",
    "- $\\hat{r}$ — расстояние между телами,\n",
    "- $e_{1k}$ — единичный вектор в направлении $\\hat{r}_k$.\n",
    "\n",
    "Скорость в полярных координатах выражается как:\n",
    "$$\n",
    "\\hat{r}_k^{(1)} = \\hat{r}^{(1)} e_{1k} + \\hat{r} \\phi^{(1)} e_{2k} \\quad,\n",
    "$$\n",
    "где:\n",
    "- $\\hat{r}^{(1)}$ — радиальная скорость\n",
    "- $\\hat{\\omega} \\equiv \\phi^{(1)}$ — угловая скорость\n",
    "- $e_{2k}$ — единичный вектор, перпендикулярный $e_{1k}$.\n",
    "\n",
    "### **Кинетическая энергия**\n",
    "Кинетическая энергия $T$ в полярных координатах выражается через радиальную и тангенциальную составляющие скорости:\n",
    "$$\n",
    "T = \\mu\\frac{b^2}{2 t_0^2} (\\hat{r}_k^{(1)})^2 = \\mu\\frac{b^2}{2 t_0^2} \\left( (\\hat{r}^{(1)})^2 + \\hat{r}^2 \\hat{\\omega}^2 \\right) = \\frac{G \\mu M}{b} \\frac{1}{2}\\left( (\\hat{r}^{(1)})^2 + \\hat{r}^2 \\hat{\\omega}^2 \\right)\n",
    "$$\n",
    "\n",
    "### **Потенциальная энергия**\n",
    "Потенциальная энергия $U$ зависит только от расстояния $\\hat{r}$:\n",
    "- Для гравитационного взаимодействия:\n",
    "  $$\n",
    "  U = -\\frac{G m_A m_B}{b \\hat{r}} = -\\frac{G \\mu M}{b \\hat{r}}.\n",
    "  $$\n",
    "\n",
    "### **Полная энергия**\n",
    "Полная энергия $E$ в полярных координатах:\n",
    "$$\n",
    "E = T + U = \\frac{G \\mu M}{b}\\left(\\frac{(\\hat{r}^{(1)})^2}{2} + \\frac{\\hat{r}^2 \\hat{\\omega}^2}{2} - \\frac{1}{\\hat{r}}\\right) = \\frac{G \\mu M}{b} \\hat{E}\n",
    "$$\n",
    "\n",
    "Здесь $\\hat{E}$ - безразмерная энергия:"
   ]
  },
  {
   "cell_type": "code",
   "execution_count": 47,
   "metadata": {
    "vscode": {
     "languageId": "wolfram"
    }
   },
   "outputs": [
    {
     "data": {
      "text/html": [
       "<div><img alt=\"Output\" src=\"data:image/png;base64,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\"></div>"
      ],
      "text/plain": [
       "FormBox[RowBox[{RowBox[{FractionBox[\"1\", \"2\"], \" \", \n",
       "\n",
       " \n",
       ">          SuperscriptBox[OverscriptBox[\"r\", \"^\"], \"2\"], \" \", \n",
       "\n",
       " \n",
       ">          SuperscriptBox[OverscriptBox[\"ω\", \"^\"], \"2\"]}], \"+\", \n",
       "\n",
       " \n",
       ">        RowBox[{FractionBox[\"1\", \"2\"], \" \", \n",
       "\n",
       " \n",
       ">          SuperscriptBox[RowBox[{\"(\", SuperscriptBox[OverscriptBox[\"r\", \"^\"], \"′\"], \n",
       "\n",
       " \n",
       ">             \")\"}], \"2\"]}], \"-\", FractionBox[\"1\", OverscriptBox[\"r\", \"^\"]]}], \n",
       "\n",
       " \n",
       ">      TraditionalForm]\n"
      ]
     },
     "execution_count": 47,
     "metadata": {
      "text/html": [],
      "text/plain": []
     },
     "output_type": "execute_result"
    }
   ],
   "source": [
    "Energy = (D[OverHat[r][OverHat[t]], OverHat[t]])^2/2 + (OverHat[r][OverHat[t]] OverHat[\\[Omega]][OverHat[t]])^2/2 - 1/OverHat[r][OverHat[t]];\n",
    "Energy // TraditionalForm"
   ]
  },
  {
   "cell_type": "markdown",
   "metadata": {},
   "source": [
    "### **Момента импульса**\n",
    "Момент импульса $J$ в системе центра масс:\n",
    "$$\n",
    "J = \\mu\\frac{b^2}{t_0} \\hat{r}^2 \\hat{\\omega} = \\mu(G M b)^{1/2} \\hat{r}^2 \\hat{\\omega} = \\mu(G M b)^{1/2} \\hat{J}\n",
    "$$\n",
    "\n",
    "Здесь $\\hat{J}$ - безразмерный момент импульса:"
   ]
  },
  {
   "cell_type": "code",
   "execution_count": 49,
   "metadata": {
    "vscode": {
     "languageId": "wolfram"
    }
   },
   "outputs": [
    {
     "data": {
      "text/html": [
       "<div><img alt=\"Output\" src=\"data:image/png;base64,iVBORw0KGgoAAAANSUhEUgAAACsAAAAeCAIAAAA6iHCJAAAAznpUWHRSYXcgcHJvZmlsZSB0eXBlIGV4aWYAAHjabU/tbUQhDPvPFB0hJMGBcXh3nNQNOn7Ng7aiOkvEjvMBpPH1+UofE5oleYmKBgjhzZt2iioLi7O0O97Qa9fy6ac8tt9plb8Cfvzr9AN7Yf23SHQJmzdQm++Bvch0+bmv/Nr92ms9F5kcaPL79Le5WygKcjijq0SgUddESUJRKYEXHgAbM54q/iAPRHAMMTusz8EJHXF2jwSj8ZxfsHmKdbIxUnM039rI3ZzOtav3R9I3k7Ja5Ds/43MAAAAJcEhZcwAAFiUAABYlAUlSJPAAAAA8dEVYdFNvZnR3YXJlAENyZWF0ZWQgd2l0aCB0aGUgV29sZnJhbSBMYW5ndWFnZSA6IHd3dy53b2xmcmFtLmNvbVyipoUAAAAhdEVYdENyZWF0aW9uIFRpbWUAMjAyNTowMzoyNSAxMzozMTo0NQqR3+UAAAPhSURBVEhL7VZbKLNhHN/mkJxiDlFICyW1JKeMGy4kJeHCBcppOd3IIS1cuCTlbjmVWnMoV0QYokZJiNYu5FC4cs6cGd/v7VnP9m1tz95v35eb762t9/0//+f3//2PzyP8/v4WsJ6jo6OxsbGLi4u4uLiamprQ0FDWDj7rYOD4mZmZ8fDwcHNzI6hBQUGHh4esTTzWBY51DQZDWFjY5OTkx8fH+vp6SkoKSBQVFfGwwFJlMFCr1d3d3RRkdnYWDKKioliwPNYZDPR6PcJA8d7f35GRxMREHhZYqiJaM9B8eXlBtC2rKD4+3tfXl0qurq6gkJOTw6fSOCdtkc0IlGJbWxukwcHBqHl7vHt6egIDA8GD5dhv646RTVmYm5sTCoWEV1ZW1ufnp62N09NTmF9ZWeFlnonMMTg/P0ePRUdHHxwcNDc3g4RCobAyg2qQSqWjo6O8zDuDLIC7mZmZGRkZl5eXBF2pVHp6ei4uLlJj0CkoKOjt7eVl3hlkAApQWQjs6+urJbpOp6Nj5+vrq6qqqrOzkyo8PT21tLQw2TCRCYIQPyR4a2trZ2dnd3dXJpOh3JaWlgYGBsRi8dDQUFdXF94rKipIoYArNGtra1tbWx13BFoX7L28vKzUYBE+mFsM3/39/YWFhUQPoZ6YmHB3dyefTU1NtmaQI5oye5HQaDQYpiMjI7YKZ2dnGCrb29tkydQLd3d3xNL09HRISEhfX5+Pjw9eHHSmgywsLCzAh8rKSns6qampCQkJRqPRzGBtbQ3mAwICsrOzh4eHsfD4+Pj29sZMtq0CGsrPzw/n5+3trb3t5eXlMAdNKJhm4urqKkT39/cPDw/V1dV4RwwQbV6zD8pAlMvlaN2Ojg4MD7IdLuEoQXNRNLiK942NDU5CaKalpZFlHIB/4DfdMj4+DhBvb2+klQpLSkqQ+OvraypBb0Otrq7OlAWESyTigpGfn++KeexFEoFTXFxsiRMTE5OXl2cpkUgkUCOnLmd4eXkZbUNI8Q27lf7+/j4ksbGxVI6uOT4+Tk9PpxK0ycnJCT7JbYNjgO7Hf3h4OJi6wgBldHNzAwTLa9zg4CAcTU5OpshoeLzjwmc6Y7EcGRkJEU4EF1OA7egCQGF8ESiUJByDZG9vj0gw3zi/RaLNzU0iEeAOQthptVrXGTQ0NJBKbG9vx/0Kca6vr8eRlpubq1KpysrKsAqWU1NT1JYAUSJxI/PBxQfjtrGx0d/fH5i4amByPz8/z8/PJyUlYahHRESUlpZaXXS5c8GV3Nvbi4FmebmCGqggNrb6/4qB816Z74nO7/m7mv8ZkIn0s8/PM/gFBvWQ64byJCoAAAAASUVORK5CYII=\"></div>"
      ],
      "text/plain": [
       "FormBox[RowBox[{SuperscriptBox[OverscriptBox[\"r\", \"^\"], \"2\"], \" \", \n",
       "\n",
       " \n",
       ">        OverscriptBox[\"ω\", \"^\"]}], TraditionalForm]\n"
      ]
     },
     "execution_count": 49,
     "metadata": {
      "text/html": [],
      "text/plain": []
     },
     "output_type": "execute_result"
    }
   ],
   "source": [
    "AngularMomentum = (OverHat[r][OverHat[t]])^2 OverHat[\\[Omega]][OverHat[t]];\n",
    "AngularMomentum // TraditionalForm"
   ]
  },
  {
   "cell_type": "markdown",
   "metadata": {},
   "source": [
    "Отсюда $\\frac{1}{\\hat{r}^{(1)}}\\left(\\frac{d\\hat{E}}{d\\hat{t}} - \\hat{\\omega} \\frac{d\\hat{J}}{d\\hat{t}}\\right)$"
   ]
  },
  {
   "cell_type": "code",
   "execution_count": 50,
   "metadata": {
    "vscode": {
     "languageId": "wolfram"
    }
   },
   "outputs": [
    {
     "data": {
      "text/html": [
       "<div><img alt=\"Output\" src=\"data:image/png;base64,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\"></div>"
      ],
      "text/plain": [
       "FormBox[RowBox[{RowBox[{\"-\", RowBox[{RowBox[{OverscriptBox[\"r\", \"^\"]}], \" \", \n",
       "\n",
       " \n",
       ">            SuperscriptBox[OverscriptBox[\"ω\", \"^\"], \"2\"]}]}], \"+\", \n",
       "\n",
       " \n",
       ">        SuperscriptBox[OverscriptBox[\"r\", \"^\"], \"′′\"], \"+\", \n",
       "\n",
       " \n",
       ">        FractionBox[\"1\", SuperscriptBox[OverscriptBox[\"r\", \"^\"], \"2\"]]}],\\\n",
       " \n",
       ">    TraditionalForm]\n"
      ]
     },
     "execution_count": 50,
     "metadata": {
      "text/html": [],
      "text/plain": []
     },
     "output_type": "execute_result"
    }
   ],
   "source": [
    "Simplify[(D[Energy, OverHat[t]] - (AngularMomentum/OverHat[r][OverHat[t]]^2)(D[AngularMomentum, OverHat[t]]))/(D[OverHat[r][OverHat[t]], OverHat[t]])] // TraditionalForm"
   ]
  },
  {
   "cell_type": "markdown",
   "metadata": {},
   "source": [
    "Что совпадает с **первой** строкой повернутой LHS системы движения"
   ]
  },
  {
   "cell_type": "markdown",
   "metadata": {},
   "source": [
    "Отсюда $\\frac{1}{\\hat{r}}\\frac{d\\hat{J}}{d\\hat{t}}$"
   ]
  },
  {
   "cell_type": "code",
   "execution_count": 51,
   "metadata": {
    "vscode": {
     "languageId": "wolfram"
    }
   },
   "outputs": [
    {
     "data": {
      "text/html": [
       "<div><img alt=\"Output\" src=\"data:image/png;base64,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\"></div>"
      ],
      "text/plain": [
       "FormBox[RowBox[{RowBox[{\"2\", \" \", OverscriptBox[\"ω\", \"^\"], \" \", \n",
       "\n",
       " \n",
       ">          SuperscriptBox[OverscriptBox[\"r\", \"^\"], \"′\"]}], \"+\", \n",
       "\n",
       " \n",
       ">        RowBox[{OverscriptBox[\"r\", \"^\"], \" \", \n",
       "\n",
       " \n",
       ">          SuperscriptBox[OverscriptBox[\"ω\", \"^\"], \"′\"]}]}], TraditionalForm]\n"
      ]
     },
     "execution_count": 51,
     "metadata": {
      "text/html": [],
      "text/plain": []
     },
     "output_type": "execute_result"
    }
   ],
   "source": [
    "Simplify[D[AngularMomentum, OverHat[t]]/OverHat[r][OverHat[t]]] // TraditionalForm"
   ]
  },
  {
   "cell_type": "markdown",
   "metadata": {},
   "source": [
    "Что совпадает со **второй** строкой повернутой LHS системы движения"
   ]
  },
  {
   "cell_type": "markdown",
   "metadata": {},
   "source": [
    "Таким образом, мы можем выписать новую **энергетическую** систему уравнений\n",
    "\n",
    "$$\n",
    "\\begin{align}\n",
    "\\frac{d\\hat{E}}{d\\hat{t}} &= - \\epsilon_G \\left(\\hat{r}^{(1)} R_{xi}(-\\phi) \\hat{f}_{ij}^{(5)}\\hat{r}_j + \\hat{r}\\hat\\omega R_{yi}(-\\phi) \\hat{f}_{ij}^{(5)}\\hat{r}_j \\right)\n",
    "\\\\\n",
    "\\frac{d\\hat{J}}{d\\hat{t}} &= - \\epsilon_G \\hat{r} R_{yi}(-\\phi) \\hat{f}_{ij}^{(5)}\\hat{r}_j\n",
    "\\end{align}\n",
    "$$"
   ]
  },
  {
   "cell_type": "markdown",
   "metadata": {},
   "source": [
    "Или\n",
    "\n",
    "$$\n",
    "\\left(\\frac{d\\hat{E}}{d\\hat{t}}, \\frac{d\\hat{J}}{d\\hat{t}}\\right) = - \\epsilon_G T_{nk} R_{ki}(-\\phi) \\hat{f}_{ij}^{(5)}\\hat{r}_j\\quad,\n",
    "$$"
   ]
  },
  {
   "cell_type": "markdown",
   "metadata": {},
   "source": [
    "Здесь\n",
    "$$\n",
    "T = \n",
    "\\begin{bmatrix}\n",
    "\\hat{r}^{(1)} & \\hat{r}\\hat{\\omega} \\\\\n",
    "0 & \\hat{r}\n",
    "\\end{bmatrix}\n",
    "$$\n",
    "матрица трансформации:"
   ]
  },
  {
   "cell_type": "code",
   "execution_count": 53,
   "metadata": {
    "vscode": {
     "languageId": "wolfram"
    }
   },
   "outputs": [
    {
     "data": {
      "text/html": [
       "<div><img alt=\"Output\" src=\"data:image/png;base64,iVBORw0KGgoAAAANSUhEUgAAAGEAAAA9CAIAAAAyKJB4AAAAzXpUWHRSYXcgcHJvZmlsZSB0eXBlIGV4aWYAAHjabU/RbQUhDPtnio4QkuDAONw7ntQNOn7NgapS1dLFji8OkMbX5zt9TGiW5CUqGiCEN2/aKaosLM7SnvoAm9kffrJ7+51W+RUY279OP7BY659FokvYPIHafAf2ItPl5776a89rr/VcZHKgyc/V/+3dQlGQw1ldJQKNuiZKEopKCbzxAjiYcav4izwQwRhiTlifwQkdcU6PBKNxzyfY/Ip1srFSM5ofbeRuTufaf5+HpG9S01q4HK713gAAAAlwSFlzAAAWJQAAFiUBSVIk8AAAADx0RVh0U29mdHdhcmUAQ3JlYXRlZCB3aXRoIHRoZSBXb2xmcmFtIExhbmd1YWdlIDogd3d3LndvbGZyYW0uY29tXKKmhQAAACF0RVh0Q3JlYXRpb24gVGltZQAyMDI1OjAzOjI1IDEzOjMxOjQ1CpHf5QAACUpJREFUeF7tm3eIFEsQxt+dOWLOGXNCzDmLmLMoZlFUREHMGVHErOAZURFzREXMCmbEnBUj5oA5Z/3dq2Vub2Znum9m73E8p/9Ydmaqq6q/6a6u7v4m4vfv3//4xRGBSHf4gOznz5+/f//urrp+rf/MkINLLjEaPnx4ypQpc+TI8ejRI/0Gu5B0bSic4KLLrvz48SPkox07dkREREiDa9SoYRI7evRoly5d7t6966BZ85GzIWclQ4cOxb1MmTI9fPhQx5xdY6NjkV39I0eO9OvXz/r0wYMHGTNmzJcv38WLFwcNGoQfo0aNChYrVqwYN2fMmKHjmYOM0pBDXRfgLl++fObMmSF1hsZo5cqV1atXf/funakOYHO/atWqz58/l0cLFixImjTpnj175PLs2bMAxJ2bN296wUhpKD7AHTFiROfOnX/+/GlSHgKj9evX58qV6+XLl1Y/CNIHDhz48uVL8KPLly/fuHFD7gwbNgyMxo4d6wUg6ioN2en3Ai4627Zt261bNwVG169fT5Uq1datW1008tevX3nz5i1SpIgJRBeqXFdxDa5YfPbsGZFk/vz5wQ7E6kc0smLFirVq1bJzkfn+0KFDs2bN6tSpU/ny5QmHHz58GDx4cLVq1YD1+PHjxPKDBw+6bqFR0dmQg/6vX79S1ypA096/f6/j2PTp05MnTx4858TCaOPGjYyULVu22OliTPXp0ydnzpyIpU2b9vXr15UqVZIJDsgAq3fv3jp+KGWcDdlV37dvX7Zs2ZYsWWIVuH//fpIkSU6dOqU0/ebNm9SpUzM1G5KxMCpbtiw2rEHLpHfgwIGA0rRp0/79+zdr1qx169Zcjhw5kjgd3lFmZyhkO3fv3p04ceIePXrYocAQKVGihLJ1VO/Zs2dkZCSwiqoYjK5cuUJTrRHLarJ27dpItmrVqmjRoow1BF69eqV8Py4E9A2RiKRJkyZLliwOntA1cBtJpSebNm1CcsqUKWaMSHN4sGbNGmcVnz59YrjK+Nq+fbvSnmsBfUPEmsqVK+MPgdIwt3jx4ty5c9O5jDsDBgxAhmRF6RLDLVGiRCVLljRjJGZu3brlrGLXrl0CEC9ZacyLgL4h3iv+sDYiPhoWmcUJQC9evDDuNG/eHLG+ffvqeFW8eHGEmeYQDqzXmA5I/zBToEABgcCu7N27Vx4R/50lPT7VN0SQxlajRo3SpUtnGD1//nz9+vWZyI075HH8ZzzqOEYnQuzEiRP8BjACoG/fvrHCMBZidopIqXlUrlw5JjIdY65l9A1duHABK4UKFTJssQy4ffu2jAwpTHl37tzhT4UKFXRcyp8/vxkjpiRuyaTuUEiIrl69igCRX8eSaxl9Q8QOlgSmDrJo0SLGSPBbnDZtGjKFCxeuV6+ejlesNBATWAL9iHmOi6xZszrXl/7PFNuhQwcdS65l9A0xvpjRMMTgEnNMtQRm/rB1I3fGjRu3f/9+pnMWrilSpNDxSqC4d++eGSPSQuf60v+J1hkyZNCx5FomToZkUmfCZrOJ+F23bt2WLVuWLl2aNeqqVat4OnHiRHBcu3ZtlSpVNF0SKKTrBPIjlPKfPNA55mfPnh2xqKgonanBi0ycDH38+JFsVlrFhtGQIUPIG3bu3ElKTHhl1NDrjVW3plesq6J7UGRkTA7ZsGFDbk2YMEFTRcIUs67IgM+dq7LJQ2HGD8Qj1oFcE2g0u2LCFGOdZXKMbMadq+RWUhFk/lcYuYMjZC2ju8RgxNYUosrkKIxOJHBVBhSsgV2eiyTwFobXPR8jNZ4+Rj5GagTUEn4/8jFSI6CW8PuRj5EaAbWE3498jNQIqCX8fuRjpEZALeH3o78AI45zhAShbqtbiUA/crErwukoW8hdu3ZlD5ODeXag2bJz64bLenDd2NhnI00OmeOpBDCCeYYBmq1phl1RTvjatWvHO4QSyI56kyZNOM9ib1RTg3cx9rw6duwoB0dTp06VY4JwFbaNRFU0MrLdW6dOHa45P9Dc/W3Tpg3yHI0a8nKA1aJFCx1ihqYVZzFOQbDI77lz5zjaz5w5MyTfsGhGiZxrUugNAYwaN27M9fjx43VsQPeT+idPnjTkiQvp06fn5ty5c3WUeJSBDZAsWbJly5aJnidPnnAAC7vMgR4bJ4tnzpyRNkbv0EpNGARcc+qio6h79+4Ic6hrEobcxn1ObHSUeJThLIgT42AlDHNeXrgwOnz4MG3hNWAiEI/kFBsirXI8Qzjctm0bYmXKlDEJc+zHHU5d5Lw7Xgun+0JyNgqRm9NHODFhsStQyElvAKM8efJwwdm50gCkUigsiAVzEKSWcUfoFvFaIMzxqmfPng1bmFFGJKIfMQ6gRssr9FikjQJLLIweP36sVP306VORsZJUDCJLfH8ggXVmfY6tYZ2vXr2acQcXGLIDl8eOHZs0aZKyFUoBApwZo1KlSnFLp21SmWIlFxh3dPQovXQWoM8uXLhQpteaNWuOGTOGdybMzAYNGnhUTnWIK/wKLIF+BOkEmgMUAPqwswFDgHhmkjTONvXzLI+NgdyIBuwSraE8bN68GT7k5MmTPaqlOn2TX+FQxOTZZICkNspwa3CUrFm1kUDCJfXupVID6asEPsjSkOoYbvyX/MN7uXTpEtALgylmTQuLmGuZ8xyKhDGKNaWOTrf+LVB8vXup1ACbXjo1XB+I0Ep5fQEYb4QLFhLCjo3BqH379uTdEFE1MbIG+Ldv30pdIVzGd9EnTMbVEwGBGTNQMTgNI5MEuWB2ashMTzIjli+mpwRO7rN285gfalaXNwEzU1NeX4yoz5g1eDmxeP4wT2ElMbad1fHlFs4x/oXAbhQhMZFt63vjWpK5X17yvHnzXCsJWfHatWvsgrBINp6av82CvkzEcf6kgaWZUCqZfQ1FUAfJdIEYoMPrdEhtS5cuxQEYMCG/IfPiQK9evQoWLAgTzhYjOhg5/ujRo53N8HEKrDr4muRsSML1laxkzpw5XvzTr0v0xBxhVb+KjiTNIdqcPn06WDjEN35Q/SFqS+MdCn2S5A2NcBdZJdGzVqxYoeNHWGTiRJjUtEggZkZet26dST70t6LwkvlKh/0BpXb6JNs3DDTyRqVwQhYgcWFJvGHDBquTtt8cU8fuG9yE3FTXvvHtHl9ehawewd24pg9/m7x/dqR+4z5Gaoz+AGEVrGXigIs/AAAAAElFTkSuQmCC\"></div>"
      ],
      "text/plain": [
       "FormBox[TagBox[RowBox[{\"(\", \"⁠\", \n",
       "\n",
       " \n",
       ">         GridBox[{{SuperscriptBox[OverscriptBox[\"r\", \"^\"], \"′\"], \n",
       "\n",
       " \n",
       ">            RowBox[{OverscriptBox[\"r\", \"^\"], \" \", OverscriptBox[\"ω\", \"^\"]}]}, \n",
       "\n",
       " \n",
       ">           {\"0\", OverscriptBox[\"r\", \"^\"]}}, Rule[RowSpacings, 1], \n",
       "\n",
       " \n",
       ">          Rule[ColumnSpacings, 1], Rule[RowAlignments, Baseline], \n",
       "\n",
       " \n",
       ">          Rule[ColumnAlignments, Center]], \"⁠\", \")\"}], \n",
       "\n",
       " \n",
       ">       Function[BoxForm`e$, MatrixForm[BoxForm`e$]]], TraditionalForm]\n"
      ]
     },
     "execution_count": 53,
     "metadata": {
      "text/html": [],
      "text/plain": []
     },
     "output_type": "execute_result"
    }
   ],
   "source": [
    "Transform = {{D[OverHat[r][OverHat[t]], OverHat[t]], OverHat[r][OverHat[t]] OverHat[\\[Omega]][OverHat[t]]}, {0, OverHat[r][OverHat[t]]}};\n",
    "Transform // MatrixForm // TraditionalForm"
   ]
  },
  {
   "cell_type": "markdown",
   "metadata": {},
   "source": [
    "Итак правая часть энергетической системы запишется как"
   ]
  },
  {
   "cell_type": "code",
   "execution_count": 55,
   "metadata": {
    "vscode": {
     "languageId": "wolfram"
    }
   },
   "outputs": [
    {
     "data": {
      "text/html": [
       "<div><img alt=\"Output\" src=\"data:image/png;base64,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\"></div>"
      ],
      "text/plain": [
       "FormBox[TagBox[RowBox[{\"(\", \"⁠\", \n",
       "\n",
       " \n",
       ">         TagBox[GridBox[{{RowBox[{FractionBox[\"1\", \"2\"], \" \", \n",
       "\n",
       " \n",
       ">               OverscriptBox[\"r\", \"^\"], \" \", SubscriptBox[\"ϵ\", \"G\"], \" \", \n",
       "\n",
       " \n",
       ">               RowBox[{\"(\", RowBox[{RowBox[{OverscriptBox[\"r\", \"^\"], \" \", \n",
       "\n",
       " \n",
       ">                     OverscriptBox[\"ω\", \"^\"], \" \", \n",
       "\n",
       " \n",
       ">                     RowBox[{\"(\", RowBox[{RowBox[{RowBox[{\"sin\", \"(\", \n",
       "\n",
       " \n",
       ">                             RowBox[{\"2\", \" \", \"ϕ\"}], \")\"}], \" \", \n",
       "\n",
       " \n",
       ">                           RowBox[{\"(\", \n",
       "\n",
       " \n",
       ">                             RowBox[{TemplateBox[List[SubscriptBox[\n",
       "\n",
       " \n",
       ">                            OverscriptBox[\"f\", \"^\"], \n",
       "\n",
       " \n",
       ">                            RowBox[List[\"x\", \",\", \"x\"]]], \"\\\"(5)\\\"\"], \n",
       "\n",
       " \n",
       ">                             \"Superscript\", Rule[SyntaxForm, SuperscriptBox]], \n",
       "\n",
       " \n",
       ">                             \"-\", \n",
       "\n",
       " \n",
       ">                             TemplateBox[List[SubscriptBox[OverscriptB\\\n",
       "\n",
       " \n",
       ">   ox[\"f\", \"^\"], RowBox[List[\"y\", \",\", \"y\"]]], \"\\\"(5)\\\"\"], \"Superscript\", \n",
       "\n",
       " \n",
       ">                             Rule[SyntaxForm, SuperscriptBox]]}], \")\"}]}], \"-\", \n",
       "\n",
       " \n",
       ">                         RowBox[{\"2\", \" \", \n",
       "\n",
       " \n",
       ">                           RowBox[{\"cos\", \"(\", RowBox[{\"2\", \" \", \"ϕ\"}], \")\"}], \n",
       "\n",
       " \n",
       ">                           \" \", TemplateBox[List[SubscriptBox[OverscriptB\\\n",
       "\n",
       " \n",
       ">   ox[\"f\", \"^\"], RowBox[List[\"x\", \",\", \"y\"]]], \"\\\"(5)\\\"\"], \"Superscript\", \n",
       "\n",
       " \n",
       ">                            Rule[SyntaxForm, SuperscriptBox]]}]}], \")\"}]}], \"-\", \n",
       "\n",
       " \n",
       ">                   RowBox[{\"2\", \" \", SuperscriptBox[OverscriptBox[\"r\", \"^\"], \"′\"], \n",
       "\n",
       " \n",
       ">                     \" \", RowBox[{\"(\", \n",
       "\n",
       " \n",
       ">                       RowBox[{RowBox[{RowBox[{\"sin\", \"(\", \n",
       "\n",
       " \n",
       ">                             RowBox[{\"2\", \" \", \"ϕ\"}], \")\"}], \" \", \n",
       "\n",
       " \n",
       ">                           TemplateBox[List[SubscriptBox[OverscriptBox[\"f\", \n",
       "\n",
       " \n",
       ">                             \"^\"], RowBox[List[\"x\", \",\", \"y\"]]], \"\\\"(5)\\\"\"], \n",
       "\n",
       " \n",
       ">                            \"Superscript\", Rule[SyntaxForm, SuperscriptBox]]}], \n",
       "\n",
       " \n",
       ">                         \"+\", RowBox[{RowBox[{SuperscriptBox[\"cos\", \"2\"], \"(\", \n",
       "\n",
       " \n",
       ">                             \"ϕ\", \")\"}], \" \", \n",
       "\n",
       " \n",
       ">                           TemplateBox[List[SubscriptBox[OverscriptBox[\"f\", \n",
       "\n",
       " \n",
       ">                             \"^\"], RowBox[List[\"x\", \",\", \"x\"]]], \"\\\"(5)\\\"\"], \n",
       "\n",
       " \n",
       ">                            \"Superscript\", Rule[SyntaxForm, SuperscriptBox]]}], \n",
       "\n",
       " \n",
       ">                         \"+\", RowBox[{RowBox[{SuperscriptBox[\"sin\", \"2\"], \"(\", \n",
       "\n",
       " \n",
       ">                             \"ϕ\", \")\"}], \" \", \n",
       "\n",
       " \n",
       ">                           TemplateBox[List[SubscriptBox[OverscriptBox[\"f\", \n",
       "\n",
       " \n",
       ">                             \"^\"], RowBox[List[\"y\", \",\", \"y\"]]], \"\\\"(5)\\\"\"], \n",
       "\n",
       " \n",
       ">                            \"Superscript\", Rule[SyntaxForm, SuperscriptBox]]}]}], \n",
       "\n",
       " \n",
       ">                       \")\"}]}]}], \")\"}]}]}, \n",
       "\n",
       " \n",
       ">            {RowBox[{RowBox[{\"-\", FractionBox[\"1\", \"2\"]}], \" \", \n",
       "\n",
       " \n",
       ">               SuperscriptBox[OverscriptBox[\"r\", \"^\"], \"2\"], \" \", \n",
       "\n",
       " \n",
       ">               SubscriptBox[\"ϵ\", \"G\"], \" \", \n",
       "\n",
       " \n",
       ">               RowBox[{\"(\", RowBox[{RowBox[{RowBox[{\"sin\", \"(\", \n",
       "\n",
       " \n",
       ">                       RowBox[{\"2\", \" \", \"ϕ\"}], \")\"}], \" \", \n",
       "\n",
       " \n",
       ">                     RowBox[{\"(\", RowBox[{TemplateBox[List[SubscriptBox[\n",
       "\n",
       " \n",
       ">                            OverscriptBox[\"f\", \"^\"], \n",
       "\n",
       " \n",
       ">                            RowBox[List[\"y\", \",\", \"y\"]]], \"\\\"(5)\\\"\"], \n",
       "\n",
       " \n",
       ">                          \"Superscript\", Rule[SyntaxForm, SuperscriptBox]], \"-\", \n",
       "\n",
       " \n",
       ">                         TemplateBox[List[SubscriptBox[OverscriptBox[\"f\", \"^\"], \n",
       "\n",
       " \n",
       ">                            RowBox[List[\"x\", \",\", \"x\"]]], \"\\\"(5)\\\"\"], \n",
       "\n",
       " \n",
       ">                          \"Superscript\", Rule[SyntaxForm, SuperscriptBox]]}], \")\"}]}\\\n",
       "\n",
       " \n",
       ">   ], \"+\", RowBox[{\"2\", \" \", RowBox[{\"cos\", \"(\", RowBox[{\"2\", \" \", \"ϕ\"}], \")\"}], \n",
       "\n",
       " \n",
       ">                     \" \", TemplateBox[List[SubscriptBox[OverscriptBox[\"f\", \"^\"], \n",
       "\n",
       " \n",
       ">                        RowBox[List[\"x\", \",\", \"y\"]]], \"\\\"(5)\\\"\"], \"Superscript\", \n",
       "\n",
       " \n",
       ">                      Rule[SyntaxForm, SuperscriptBox]]}]}], \")\"}]}]}}, \n",
       "\n",
       " \n",
       ">           Rule[RowSpacings, 1], Rule[ColumnAlignments, Center], \n",
       "\n",
       " \n",
       ">           Rule[ColumnAlignments, Left]], Column], \"⁠\", \")\"}], \n",
       "\n",
       " \n",
       ">       Function[BoxForm`e$, MatrixForm[BoxForm`e$]]], TraditionalForm]\n"
      ]
     },
     "execution_count": 55,
     "metadata": {
      "text/html": [],
      "text/plain": []
     },
     "output_type": "execute_result"
    }
   ],
   "source": [
    "RHSEnegry = FullSimplify[Transform . RHSMotion, Trig -> True];\n",
    "RHSEnegry // MatrixForm // TraditionalForm"
   ]
  },
  {
   "cell_type": "markdown",
   "metadata": {},
   "source": [
    "## **Другой Способ** получения уравнений движения и энергетических уравнений через лагранжев формализм в полярных координатах"
   ]
  },
  {
   "cell_type": "markdown",
   "metadata": {},
   "source": [
    "### **Лагранжиан системы**\n",
    "Лагранжиан $L$ в полярных координатах $(r, \\phi)$ выражается как:\n",
    "$$\n",
    "L = T - (U + \\mu\\Phi),\n",
    "$$\n",
    "где:\n",
    "- $T$ — кинетическая энергия,\n",
    "- $U$ — потенциальная энергия\n",
    "- $\\Phi = \\frac{1}{5}f_{ij}^{(5)}r_i r_j = \\frac{\\epsilon_G}{2}\\frac{b^2}{t_0^2}\\hat{f}_{ij}^{(5)}\\hat{r}_i \\hat{r}_j = \\frac{5}{2}\\epsilon_G\\frac{GM}{b}\\hat{\\Phi}$ - малый потенциал \"реакции излучения\""
   ]
  },
  {
   "cell_type": "markdown",
   "metadata": {},
   "source": [
    "Безразмерный малый потенциал \"реакции излучения\" $\\hat{\\Phi} = \\frac{1}{5}\\hat{f}_{ij}^{(5)}\\hat{r}_i\\hat{r}_j$\n",
    "\n",
    "В ближней зоне грав. источника будем иметь $\\mu \\Phi \\ll U$.\n",
    "Откуда получаем $\\frac{5}{2}\\epsilon_{G}\\hat{r}\\hat{\\Phi} \\ll 1$.\n",
    "\n",
    "<span style=\"color:brown\">**NB:**</span>\n",
    "Для достаточно больших $\\hat{r}$, но все еще в ближней зоне, может оказаться, что\n",
    "$\\hat{r}\\hat{\\Phi} \\ll 1$, так как $\\hat{f}_{ij}$ очень медленно меняется.\n",
    "Следовательно условие $\\epsilon_G \\ll 1$ необязательно."
   ]
  },
  {
   "cell_type": "code",
   "execution_count": 57,
   "metadata": {
    "vscode": {
     "languageId": "wolfram"
    }
   },
   "outputs": [
    {
     "data": {
      "text/html": [
       "<div><img alt=\"Output\" src=\"data:image/png;base64,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\"></div>"
      ],
      "text/plain": [
       "FormBox[RowBox[{FractionBox[\"1\", \"5\"], \" \", \n",
       "\n",
       " \n",
       ">        RowBox[{\"(\", RowBox[{RowBox[{OverscriptBox[\"r\", \"^\"], \" \", \n",
       "\n",
       " \n",
       ">              RowBox[{\"cos\", \"(\", \"ϕ\", \")\"}], \" \", \n",
       "\n",
       " \n",
       ">              RowBox[{\"(\", RowBox[{RowBox[{OverscriptBox[\"r\", \"^\"], \" \", \n",
       "\n",
       " \n",
       ">                    RowBox[{\"sin\", \"(\", \"ϕ\", \")\"}], \" \", \n",
       "\n",
       " \n",
       ">                    TemplateBox[List[SubscriptBox[OverscriptBox[\"f\", \"^\"], \n",
       "\n",
       " \n",
       ">                       RowBox[List[\"x\", \",\", \"y\"]]], \"\\\"(5)\\\"\"], \"Superscript\", \n",
       "\n",
       " \n",
       ">                     Rule[SyntaxForm, SuperscriptBox]]}], \"+\", \n",
       "\n",
       " \n",
       ">                  RowBox[{OverscriptBox[\"r\", \"^\"], \" \", \n",
       "\n",
       " \n",
       ">                    RowBox[{\"cos\", \"(\", \"ϕ\", \")\"}], \" \", \n",
       "\n",
       " \n",
       ">                    TemplateBox[List[SubscriptBox[OverscriptBox[\"f\", \"^\"], \n",
       "\n",
       " \n",
       ">                       RowBox[List[\"x\", \",\", \"x\"]]], \"\\\"(5)\\\"\"], \"Superscript\", \n",
       "\n",
       " \n",
       ">                     Rule[SyntaxForm, SuperscriptBox]]}]}], \")\"}]}], \"+\", \n",
       "\n",
       " \n",
       ">            RowBox[{OverscriptBox[\"r\", \"^\"], \" \", RowBox[{\"sin\", \"(\", \"ϕ\", \")\"}], \" \", \n",
       "\n",
       " \n",
       ">              RowBox[{\"(\", RowBox[{RowBox[{OverscriptBox[\"r\", \"^\"], \" \", \n",
       "\n",
       " \n",
       ">                    RowBox[{\"cos\", \"(\", \"ϕ\", \")\"}], \" \", \n",
       "\n",
       " \n",
       ">                    TemplateBox[List[SubscriptBox[OverscriptBox[\"f\", \"^\"], \n",
       "\n",
       " \n",
       ">                       RowBox[List[\"x\", \",\", \"y\"]]], \"\\\"(5)\\\"\"], \"Superscript\", \n",
       "\n",
       " \n",
       ">                     Rule[SyntaxForm, SuperscriptBox]]}], \"+\", \n",
       "\n",
       " \n",
       ">                  RowBox[{OverscriptBox[\"r\", \"^\"], \" \", RowBox[{\"sin\", \"(\", \"ϕ\", \")\"}],\\\n",
       " \n",
       ">    \n",
       "                 \" \", TemplateBox[List[SubscriptBox[OverscriptBox[\"f\", \"^\"], \n",
       "\n",
       " \n",
       ">                       RowBox[List[\"y\", \",\", \"y\"]]], \"\\\"(5)\\\"\"], \"Superscript\", \n",
       "\n",
       " \n",
       ">                     Rule[SyntaxForm, SuperscriptBox]]}]}], \")\"}]}]}], \")\"}]}], \n",
       "\n",
       " \n",
       ">      TraditionalForm]\n"
      ]
     },
     "execution_count": 57,
     "metadata": {
      "text/html": [],
      "text/plain": []
     },
     "output_type": "execute_result"
    }
   ],
   "source": [
    "fh5rhrh = 1/5 EinsteinSummation[{{i, j}, {i}, {j}}, {fh5, rh, rh}];\n",
    "fh5rhrh // TraditionalForm"
   ]
  },
  {
   "cell_type": "markdown",
   "metadata": {},
   "source": [
    "Безразмерный лагранжиан\n",
    "\n",
    "$$\n",
    "\\hat{L} = \\hat{T} - (\\hat{U} + \\frac{5}{2}\\epsilon_G\\hat{\\Phi}),\n",
    "$$\n",
    "или\n",
    "$$\n",
    "\\hat{L} = \\frac{1}{2} \\left((\\hat{r}^{(1)})^2 + \\hat{r}^2 \\hat{\\omega}^2 \\right) + \\frac{1}{\\hat{r}} - \\frac{\\epsilon_G}{2}\\hat{f}_{ij}^{(5)}\\hat{r}_i \\hat{r}_j.\n",
    "$$"
   ]
  },
  {
   "cell_type": "markdown",
   "metadata": {},
   "source": [
    "### **Уравнения Эйлера-Лагранжа**\n",
    "Уравнения Эйлера-Лагранжа имеют вид:\n",
    "$$\n",
    "\\frac{d}{dt} \\left( \\frac{\\partial \\hat{L}}{\\partial \\dot{q}_i} \\right) - \\frac{\\partial \\hat{L}}{\\partial q_i} = 0,\n",
    "$$\n",
    "где $q_i$ — обобщённые координаты ($\\hat{r}$ и $\\phi$)."
   ]
  },
  {
   "cell_type": "markdown",
   "metadata": {},
   "source": [
    "---\n",
    "\n",
    "#### Уравнение для координаты $\\hat{r}$:\n",
    "$$\n",
    "\\frac{d}{d\\hat{t}} \\left(\\frac{\\partial \\hat{L}}{\\partial \\hat{r}^{(1)}} \\right) - \\frac{\\partial \\hat{L}}{\\partial \\hat{r}} = 0.\n",
    "$$\n",
    "Вычислим производные:\n",
    "$$\n",
    "\\frac{\\partial \\hat{L}}{\\partial \\hat{r}^{(1)}} = \\hat{r}^{(1)}, \\quad \\frac{d}{d\\hat{t}} \\left( \\frac{\\partial \\hat{L}}{\\partial \\hat{r}^{(1)}} \\right) = \\hat{r}^{(2)},\n",
    "$$\n",
    "$$\n",
    "\\frac{\\partial \\hat{L}}{\\partial \\hat{r}} = \\hat{r} \\hat{\\omega}^2 - \\frac{1}{\\hat{r}^2} - \\frac{5}{2}\\epsilon_G\\frac{\\partial \\hat{\\Phi}}{\\partial \\hat{r}}.\n",
    "$$\n",
    "Подставляем в уравнение Эйлера-Лагранжа:\n",
    "$$\n",
    "\\hat{r}^{(2)} - \\hat{r} \\hat{\\omega}^2 + \\frac{1}{\\hat{r}^2} = - \\frac{5}{2}\\epsilon_G\\frac{\\partial \\hat{\\Phi}}{\\partial \\hat{r}}.\n",
    "$$\n",
    "\n",
    "Это **радиальное уравнение движения**.\n",
    "\n",
    "Здесь \n",
    "$$\n",
    "\\frac{\\partial \\hat{\\Phi}}{\\partial \\hat{r}} = \\frac{1}{5}\\hat{f}_{ij}^{(5)}\\left(\\frac{\\partial \\hat{r}_i}{\\partial \\hat{r}}\\hat{r}_j + \\hat{r}_i\\frac{\\partial \\hat{r}_j}{\\partial \\hat{r}}\\right)\n",
    "$$"
   ]
  },
  {
   "cell_type": "markdown",
   "metadata": {},
   "source": [
    "Правая часть радиального уравнения движения будет выглядеть как"
   ]
  },
  {
   "cell_type": "code",
   "execution_count": 59,
   "metadata": {
    "vscode": {
     "languageId": "wolfram"
    }
   },
   "outputs": [
    {
     "data": {
      "text/html": [
       "<div><img alt=\"Output\" src=\"data:image/png;base64,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\"></div>"
      ],
      "text/plain": [
       "FormBox[RowBox[{OverscriptBox[\"r\", \"^\"], \" \", \n",
       "\n",
       " \n",
       ">        RowBox[{\"(\", RowBox[{\"-\", SubscriptBox[\"ϵ\", \"G\"]}], \")\"}], \" \", \n",
       "\n",
       " \n",
       ">        RowBox[{\"(\", RowBox[{RowBox[{RowBox[{\"sin\", \"(\", RowBox[{\"2\", \" \", \"ϕ\"}], \n",
       "\n",
       " \n",
       ">                \")\"}], \" \", TemplateBox[List[SubscriptBox[OverscriptBox[\"f\", \"^\"], \n",
       "\n",
       " \n",
       ">                 RowBox[List[\"x\", \",\", \"y\"]]], \"\\\"(5)\\\"\"], \"Superscript\", \n",
       "\n",
       " \n",
       ">               Rule[SyntaxForm, SuperscriptBox]]}], \"+\", \n",
       "\n",
       " \n",
       ">            RowBox[{RowBox[{SuperscriptBox[\"cos\", \"2\"], \"(\", \"ϕ\", \")\"}], \" \", \n",
       "\n",
       " \n",
       ">              TemplateBox[List[SubscriptBox[OverscriptBox[\"f\", \"^\"], \n",
       "\n",
       " \n",
       ">                 RowBox[List[\"x\", \",\", \"x\"]]], \"\\\"(5)\\\"\"], \"Superscript\", \n",
       "\n",
       " \n",
       ">               Rule[SyntaxForm, SuperscriptBox]]}], \"+\", \n",
       "\n",
       " \n",
       ">            RowBox[{RowBox[{SuperscriptBox[\"sin\", \"2\"], \"(\", \"ϕ\", \")\"}], \" \", \n",
       "\n",
       " \n",
       ">              TemplateBox[List[SubscriptBox[OverscriptBox[\"f\", \"^\"], \n",
       "\n",
       " \n",
       ">                 RowBox[List[\"y\", \",\", \"y\"]]], \"\\\"(5)\\\"\"], \"Superscript\", \n",
       "\n",
       " \n",
       ">               Rule[SyntaxForm, SuperscriptBox]]}]}], \")\"}]}], TraditionalForm]\n"
      ]
     },
     "execution_count": 59,
     "metadata": {
      "text/html": [],
      "text/plain": []
     },
     "output_type": "execute_result"
    }
   ],
   "source": [
    "RHSMotionRadialLagrange = - 1/2 Subscript[\\[Epsilon], G] FullSimplify[EinsteinSummation[{{i, j}, {i}, {j}}, {fh5, D[rh, OverHat[r][OverHat[t]]], rh}] + EinsteinSummation[{{i, j}, {i}, {j}}, {fh5, rh, D[rh, OverHat[r][OverHat[t]]]}]];\n",
    "RHSMotionRadialLagrange // TraditionalForm"
   ]
  },
  {
   "cell_type": "markdown",
   "metadata": {},
   "source": [
    "<span style=\"color:brown\">**NB:**</span> Выражение <span style=\"color:green\">**совпадает**</span> с раннее полученным уравнением и с уравнением (10) из файла Binary.pdf"
   ]
  },
  {
   "cell_type": "code",
   "execution_count": 60,
   "metadata": {
    "vscode": {
     "languageId": "wolfram"
    }
   },
   "outputs": [
    {
     "data": {
      "text/html": [
       "<div><pre style=\"&#102;&#111;&#110;&#116;&#45;&#102;&#97;&#109;&#105;&#108;&#121;&#58;&#32;&#34;&#67;&#111;&#117;&#114;&#105;&#101;&#114;&#32;&#78;&#101;&#119;&#34;&#44;&#67;&#111;&#117;&#114;&#105;&#101;&#114;&#44;&#109;&#111;&#110;&#111;&#115;&#112;&#97;&#99;&#101;&#59;\">&#48;</pre></div>"
      ],
      "text/plain": [
       "0"
      ]
     },
     "execution_count": 60,
     "metadata": {
      "text/html": [],
      "text/plain": []
     },
     "output_type": "execute_result"
    }
   ],
   "source": [
    "RHSMotion[[1]] - RHSMotionRadialLagrange"
   ]
  },
  {
   "cell_type": "markdown",
   "metadata": {},
   "source": [
    "---\n",
    "\n",
    "#### Уравнение для координаты $\\phi$:\n",
    "$$\n",
    "\\frac{d}{d\\hat{t}} \\left(\\frac{\\partial \\hat{L}}{\\partial \\hat{\\omega}} \\right) - \\frac{\\partial \\hat{L}}{\\partial \\phi} = 0.\n",
    "$$\n",
    "Вычислим производные:\n",
    "$$\n",
    "\\frac{\\partial \\hat{L}}{\\partial \\hat{\\omega}} = \\hat{r}^2 \\hat{\\omega}, \\quad \\frac{d}{d\\hat{t}} \\left( \\frac{\\partial \\hat{L}}{\\partial \\hat{\\omega}} \\right) = \\frac{d}{d\\hat{t}} \\left( \\hat{r}^2 \\hat{\\omega} \\right),\n",
    "$$\n",
    "$$\n",
    "\\frac{\\partial \\hat{L}}{\\partial \\phi} = - \\frac{5}{2}\\epsilon_G\\frac{\\partial \\hat{\\Phi}}{\\partial \\phi}.\n",
    "$$\n",
    "Подставляем в уравнение Эйлера-Лагранжа:\n",
    "$$\n",
    "\\frac{1}{\\hat{r}}\\frac{d}{d\\hat{t}} \\left( \\hat{r}^2 \\hat{\\omega} \\right) = \\frac{1}{\\hat{r}}\\frac{d\\hat{J}}{d\\hat{t}} = - \\frac{5}{2}\\frac{\\epsilon_G}{\\hat{r}}\\frac{\\partial \\hat{\\Phi}}{\\partial \\phi}.\n",
    "$$\n",
    "\n",
    "Здесь \n",
    "$$\n",
    "\\frac{\\partial \\hat{\\Phi}}{\\partial \\phi} = \\frac{1}{5}\\hat{f}_{ij}^{(5)}\\left(\\frac{\\partial \\hat{r}_i}{\\partial \\phi}\\hat{r}_j + \\hat{r}_i\\frac{\\partial \\hat{r}_j}{\\partial \\phi}\\right)\n",
    "$$"
   ]
  },
  {
   "cell_type": "markdown",
   "metadata": {},
   "source": [
    "Правая часть уравнения движения для $\\phi$ будет выглядеть как"
   ]
  },
  {
   "cell_type": "code",
   "execution_count": 62,
   "metadata": {
    "vscode": {
     "languageId": "wolfram"
    }
   },
   "outputs": [
    {
     "data": {
      "text/html": [
       "<div><img alt=\"Output\" src=\"data:image/png;base64,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\"></div>"
      ],
      "text/plain": [
       "FormBox[RowBox[{RowBox[{\"-\", FractionBox[\"1\", \"2\"]}], \" \", OverscriptBox[\"r\", \"^\"], \n",
       "\n",
       " \n",
       ">        \" \", SubscriptBox[\"ϵ\", \"G\"], \" \", \n",
       "\n",
       " \n",
       ">        RowBox[{\"(\", RowBox[{RowBox[{RowBox[{\"sin\", \"(\", RowBox[{\"2\", \" \", \"ϕ\"}], \n",
       "\n",
       " \n",
       ">                \")\"}], \" \", RowBox[{\"(\", \n",
       "\n",
       " \n",
       ">                RowBox[{TemplateBox[List[SubscriptBox[OverscriptBox[\"f\", \"^\"], \n",
       "\n",
       " \n",
       ">                     RowBox[List[\"y\", \",\", \"y\"]]], \"\\\"(5)\\\"\"], \"Superscript\", \n",
       "\n",
       " \n",
       ">                   Rule[SyntaxForm, SuperscriptBox]], \"-\", \n",
       "\n",
       " \n",
       ">                  TemplateBox[List[SubscriptBox[OverscriptBox[\"f\", \"^\"], \n",
       "\n",
       " \n",
       ">                     RowBox[List[\"x\", \",\", \"x\"]]], \"\\\"(5)\\\"\"], \"Superscript\", \n",
       "\n",
       " \n",
       ">                   Rule[SyntaxForm, SuperscriptBox]]}], \")\"}]}], \"+\", \n",
       "\n",
       " \n",
       ">            RowBox[{\"2\", \" \", RowBox[{\"cos\", \"(\", RowBox[{\"2\", \" \", \"ϕ\"}], \")\"}], \" \", \n",
       "\n",
       " \n",
       ">              TemplateBox[List[SubscriptBox[OverscriptBox[\"f\", \"^\"], \n",
       "\n",
       " \n",
       ">                 RowBox[List[\"x\", \",\", \"y\"]]], \"\\\"(5)\\\"\"], \"Superscript\", \n",
       "\n",
       " \n",
       ">               Rule[SyntaxForm, SuperscriptBox]]}]}], \")\"}]}], TraditionalForm]\n"
      ]
     },
     "execution_count": 62,
     "metadata": {
      "text/html": [],
      "text/plain": []
     },
     "output_type": "execute_result"
    }
   ],
   "source": [
    "RHSMotionPhiLagrange = - 1/2 Subscript[\\[Epsilon], G] FullSimplify[EinsteinSummation[{{i, j}, {i}, {j}}, {fh5, D[rh, \\[Phi][OverHat[t]]], rh}] + EinsteinSummation[{{i, j}, {i}, {j}}, {fh5, rh, D[rh, \\[Phi][OverHat[t]]]}]]/OverHat[r][OverHat[t]];\n",
    "RHSMotionPhiLagrange // TraditionalForm"
   ]
  },
  {
   "cell_type": "markdown",
   "metadata": {},
   "source": [
    "<span style=\"color:brown\">**NB:**</span> Выражение <span style=\"color:green\">**совпадает**</span> с раннее полученным уравнением и с уравнением (9) из файла Binary.pdf"
   ]
  },
  {
   "cell_type": "code",
   "execution_count": 63,
   "metadata": {
    "vscode": {
     "languageId": "wolfram"
    }
   },
   "outputs": [
    {
     "data": {
      "text/html": [
       "<div><pre style=\"&#102;&#111;&#110;&#116;&#45;&#102;&#97;&#109;&#105;&#108;&#121;&#58;&#32;&#34;&#67;&#111;&#117;&#114;&#105;&#101;&#114;&#32;&#78;&#101;&#119;&#34;&#44;&#67;&#111;&#117;&#114;&#105;&#101;&#114;&#44;&#109;&#111;&#110;&#111;&#115;&#112;&#97;&#99;&#101;&#59;\">&#48;</pre></div>"
      ],
      "text/plain": [
       "0"
      ]
     },
     "execution_count": 63,
     "metadata": {
      "text/html": [],
      "text/plain": []
     },
     "output_type": "execute_result"
    }
   ],
   "source": [
    "RHSMotion[[2]] - RHSMotionPhiLagrange"
   ]
  },
  {
   "cell_type": "markdown",
   "metadata": {},
   "source": [
    "## Получим **энергетическую** систему уравнений в подходе Лагранжа"
   ]
  },
  {
   "cell_type": "markdown",
   "metadata": {},
   "source": [
    "Заметим, что энергия системы:\n",
    "$$\n",
    "\\hat{E} = \\frac{(\\hat{r}^{(1)})^2}{2} + \\frac{\\hat{r}^2 \\hat{\\omega}^2}{2} - \\frac{1}{\\hat{r}}\n",
    "$$\n",
    "$$\n",
    "\\frac{1}{\\hat{r}^{(1)}}\\left(\\frac{d\\hat{E}}{d\\hat{t}} - \\hat{\\omega} \\frac{d\\hat{J}}{d\\hat{t}}\\right) = \\hat{r}^{(2)} - \\hat{r} \\hat{\\omega}^2 + \\frac{1}{\\hat{r}^2}\n",
    "$$\n",
    "\n",
    "А также уравнение для изменения момента импульса системы есть\n",
    "$$\n",
    "\\frac{d\\hat{J}}{d\\hat{t}} = - \\frac{5}{2}\\epsilon_G\\frac{\\partial \\hat{\\Phi}}{\\partial \\phi}.\n",
    "$$\n",
    "\n",
    "Итоговая энергетическая система, выведенная по-новому будет записываться как:\n",
    "\n",
    "$$\n",
    "\\begin{align}\n",
    "\\frac{d\\hat{E}}{d\\hat{t}} &= - \\frac{5}{2}\\epsilon_G\\left(\\hat{r}^{(1)}\\frac{\\partial \\hat{\\Phi}}{\\partial \\hat{r}} + \\hat{\\omega} \\frac{\\partial \\hat{\\Phi}}{\\partial \\phi}\\right)\n",
    "  = - \\frac{\\epsilon_G}{2}\\hat{f}_{ij}^{(5)}\\left(\\frac{d\\hat{r}_i}{d\\hat{t}}\\hat{r}_j + \\hat{r}_i\\frac{d\\hat{r}_j}{d\\hat{t}}\\right)\n",
    "  = - \\frac{\\epsilon_G}{2}\\hat{f}_{ij}^{(5)}\\frac{d(\\hat{r}_i \\hat{r}_j)}{d\\hat{t}}\n",
    "\\\\\n",
    "\\frac{d\\hat{J}}{d\\hat{t}} &= - \\frac{5}{2}\\epsilon_G\\frac{\\partial \\hat{\\Phi}}{\\partial \\phi}\n",
    "  = - \\frac{\\epsilon_G}{2}\\hat{f}_{ij}^{(5)}\\left(\\frac{\\partial \\hat{r}_i}{\\partial \\phi}\\hat{r}_j + \\hat{r}_i\\frac{\\partial \\hat{r}_j}{\\partial \\phi}\\right)\n",
    "  = - \\frac{\\epsilon_G}{2}\\hat{f}_{ij}^{(5)}\\frac{d(\\hat{r}_i \\hat{r}_j)}{d\\phi}\n",
    "\\end{align}\n",
    "$$"
   ]
  },
  {
   "cell_type": "code",
   "execution_count": 65,
   "metadata": {
    "vscode": {
     "languageId": "wolfram"
    }
   },
   "outputs": [
    {
     "data": {
      "text/html": [
       "<div><img alt=\"Output\" src=\"data:image/png;base64,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\"></div>"
      ],
      "text/plain": [
       "FormBox[TagBox[RowBox[{\"(\", \"⁠\", \n",
       "\n",
       " \n",
       ">         TagBox[GridBox[{{RowBox[{OverscriptBox[\"r\", \"^\"], \" \", \n",
       "\n",
       " \n",
       ">               RowBox[{\"(\", RowBox[{\"-\", SubscriptBox[\"ϵ\", \"G\"]}], \")\"}], \" \", \n",
       "\n",
       " \n",
       ">               RowBox[{\"(\", RowBox[{RowBox[{OverscriptBox[\"r\", \"^\"], \" \", \n",
       "\n",
       " \n",
       ">                     OverscriptBox[\"ω\", \"^\"], \" \", \n",
       "\n",
       " \n",
       ">                     RowBox[{\"(\", RowBox[{RowBox[{RowBox[{\"cos\", \"(\", \n",
       "\n",
       " \n",
       ">                             RowBox[{\"2\", \" \", \"ϕ\"}], \")\"}], \" \", \n",
       "\n",
       " \n",
       ">                           TemplateBox[List[SubscriptBox[OverscriptBox[\"f\", \n",
       "\n",
       " \n",
       ">                             \"^\"], RowBox[List[\"x\", \",\", \"y\"]]], \"\\\"(5)\\\"\"], \n",
       "\n",
       " \n",
       ">                            \"Superscript\", Rule[SyntaxForm, SuperscriptBox]]}], \n",
       "\n",
       " \n",
       ">                         \"+\", RowBox[{RowBox[{\"sin\", \"(\", \"ϕ\", \")\"}], \" \", \n",
       "\n",
       " \n",
       ">                           RowBox[{\"cos\", \"(\", \"ϕ\", \")\"}], \" \", \n",
       "\n",
       " \n",
       ">                           RowBox[{\"(\", \n",
       "\n",
       " \n",
       ">                             RowBox[{TemplateBox[List[SubscriptBox[\n",
       "\n",
       " \n",
       ">                             OverscriptBox[\"f\", \"^\"], \n",
       "\n",
       " \n",
       ">                             RowBox[List[\"y\", \",\", \"y\"]]], \"\\\"(5)\\\"\"], \n",
       "\n",
       " \n",
       ">                             \"Superscript\", Rule[SyntaxForm, SuperscriptBox]], \n",
       "\n",
       " \n",
       ">                              \"-\", \n",
       "\n",
       " \n",
       ">                              TemplateBox[List[SubscriptBox[OverscriptB\\\n",
       "\n",
       " \n",
       ">   ox[\"f\", \"^\"], RowBox[List[\"x\", \",\", \"x\"]]], \"\\\"(5)\\\"\"], \"Superscript\", \n",
       "\n",
       " \n",
       ">                              Rule[SyntaxForm, SuperscriptBox]]}], \")\"}]}]}], \")\"}]\\\n",
       "\n",
       " \n",
       ">   }], \"+\", RowBox[{SuperscriptBox[OverscriptBox[\"r\", \"^\"], \"′\"], \" \", \n",
       "\n",
       " \n",
       ">                     RowBox[{\"(\", RowBox[{RowBox[{RowBox[{\"sin\", \"(\", \n",
       "\n",
       " \n",
       ">                             RowBox[{\"2\", \" \", \"ϕ\"}], \")\"}], \" \", \n",
       "\n",
       " \n",
       ">                           TemplateBox[List[SubscriptBox[OverscriptBox[\"f\", \n",
       "\n",
       " \n",
       ">                             \"^\"], RowBox[List[\"x\", \",\", \"y\"]]], \"\\\"(5)\\\"\"], \n",
       "\n",
       " \n",
       ">                            \"Superscript\", Rule[SyntaxForm, SuperscriptBox]]}], \n",
       "\n",
       " \n",
       ">                         \"+\", RowBox[{RowBox[{SuperscriptBox[\"cos\", \"2\"], \"(\", \n",
       "\n",
       " \n",
       ">                             \"ϕ\", \")\"}], \" \", \n",
       "\n",
       " \n",
       ">                           TemplateBox[List[SubscriptBox[OverscriptBox[\"f\", \n",
       "\n",
       " \n",
       ">                             \"^\"], RowBox[List[\"x\", \",\", \"x\"]]], \"\\\"(5)\\\"\"], \n",
       "\n",
       " \n",
       ">                            \"Superscript\", Rule[SyntaxForm, SuperscriptBox]]}], \n",
       "\n",
       " \n",
       ">                         \"+\", RowBox[{RowBox[{SuperscriptBox[\"sin\", \"2\"], \"(\", \n",
       "\n",
       " \n",
       ">                             \"ϕ\", \")\"}], \" \", \n",
       "\n",
       " \n",
       ">                           TemplateBox[List[SubscriptBox[OverscriptBox[\"f\", \n",
       "\n",
       " \n",
       ">                             \"^\"], RowBox[List[\"y\", \",\", \"y\"]]], \"\\\"(5)\\\"\"], \n",
       "\n",
       " \n",
       ">                            \"Superscript\", Rule[SyntaxForm, SuperscriptBox]]}]}], \n",
       "\n",
       " \n",
       ">                       \")\"}]}]}], \")\"}]}]}, \n",
       "\n",
       " \n",
       ">            {RowBox[{RowBox[{\"-\", FractionBox[\"1\", \"2\"]}], \" \", \n",
       "\n",
       " \n",
       ">               SuperscriptBox[OverscriptBox[\"r\", \"^\"], \"2\"], \" \", \n",
       "\n",
       " \n",
       ">               SubscriptBox[\"ϵ\", \"G\"], \" \", \n",
       "\n",
       " \n",
       ">               RowBox[{\"(\", RowBox[{RowBox[{RowBox[{\"sin\", \"(\", \n",
       "\n",
       " \n",
       ">                       RowBox[{\"2\", \" \", \"ϕ\"}], \")\"}], \" \", \n",
       "\n",
       " \n",
       ">                     RowBox[{\"(\", RowBox[{TemplateBox[List[SubscriptBox[\n",
       "\n",
       " \n",
       ">                            OverscriptBox[\"f\", \"^\"], \n",
       "\n",
       " \n",
       ">                            RowBox[List[\"y\", \",\", \"y\"]]], \"\\\"(5)\\\"\"], \n",
       "\n",
       " \n",
       ">                          \"Superscript\", Rule[SyntaxForm, SuperscriptBox]], \"-\", \n",
       "\n",
       " \n",
       ">                         TemplateBox[List[SubscriptBox[OverscriptBox[\"f\", \"^\"], \n",
       "\n",
       " \n",
       ">                            RowBox[List[\"x\", \",\", \"x\"]]], \"\\\"(5)\\\"\"], \n",
       "\n",
       " \n",
       ">                          \"Superscript\", Rule[SyntaxForm, SuperscriptBox]]}], \")\"}]}\\\n",
       "\n",
       " \n",
       ">   ], \"+\", RowBox[{\"2\", \" \", RowBox[{\"cos\", \"(\", RowBox[{\"2\", \" \", \"ϕ\"}], \")\"}], \n",
       "\n",
       " \n",
       ">                     \" \", TemplateBox[List[SubscriptBox[OverscriptBox[\"f\", \"^\"], \n",
       "\n",
       " \n",
       ">                        RowBox[List[\"x\", \",\", \"y\"]]], \"\\\"(5)\\\"\"], \"Superscript\", \n",
       "\n",
       " \n",
       ">                      Rule[SyntaxForm, SuperscriptBox]]}]}], \")\"}]}]}}, \n",
       "\n",
       " \n",
       ">           Rule[RowSpacings, 1], Rule[ColumnAlignments, Center], \n",
       "\n",
       " \n",
       ">           Rule[ColumnAlignments, Left]], Column], \"⁠\", \")\"}], \n",
       "\n",
       " \n",
       ">       Function[BoxForm`e$, MatrixForm[BoxForm`e$]]], TraditionalForm]\n"
      ]
     },
     "execution_count": 65,
     "metadata": {
      "text/html": [],
      "text/plain": []
     },
     "output_type": "execute_result"
    }
   ],
   "source": [
    "RHSEnegryLagrange = - 5/2 Subscript[\\[Epsilon],G] FullSimplify[{\n",
    "  D[fh5rhrh, OverHat[t]] /. OmegaReplace,\n",
    "  D[fh5rhrh, \\[Phi][OverHat[t]]]\n",
    "}, Trig -> True];\n",
    "\n",
    "RHSEnegryLagrange // MatrixForm // TraditionalForm"
   ]
  },
  {
   "cell_type": "markdown",
   "metadata": {},
   "source": [
    "<span style=\"color:brown\">**NB:**</span> Выражения полностью <span style=\"color:green\">**совпадают**</span> с предыдущим ньютоновым подходом!"
   ]
  },
  {
   "cell_type": "code",
   "execution_count": 66,
   "metadata": {
    "vscode": {
     "languageId": "wolfram"
    }
   },
   "outputs": [
    {
     "data": {
      "text/html": [
       "<div><img alt=\"Output\" src=\"data:image/png;base64,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\"></div>"
      ],
      "text/plain": [
       "0\n",
       "\n",
       "0"
      ]
     },
     "execution_count": 66,
     "metadata": {
      "text/html": [],
      "text/plain": []
     },
     "output_type": "execute_result"
    }
   ],
   "source": [
    "FullSimplify[RHSEnegryLagrange - RHSEnegry] // MatrixForm"
   ]
  },
  {
   "cell_type": "markdown",
   "metadata": {},
   "source": [
    "В **размерной** же записи наши уравнения превращаются в\n",
    "$$\n",
    "\\begin{align}\n",
    "\\frac{dE}{dt} &=\n",
    "  - \\frac{1}{5}f_{ij}^{(5)} \\mu \\frac{d(r_i r_j)}{dt}\n",
    "  = - \\frac{1}{5}\\frac{c^5}{G}f_{ij}^{(5)} \\frac{d}{dt}\\left(f_{ij} + \\frac{1}{3} \\delta_{ij}r^2\\right)\n",
    "  = - \\frac{1}{5}\\frac{c^5}{G}f_{ij}^{(5)} \\frac{df_{ij}}{dt}\n",
    "\\\\\n",
    "\\frac{dJ}{dt} &=\n",
    "  - \\frac{1}{5}f_{ij}^{(5)} \\mu \\frac{d(r_i r_j)}{d\\phi}\n",
    "  = - \\frac{1}{5}\\frac{c^5}{G}f_{ij}^{(5)} \\frac{d}{d\\phi}\\left(f_{ij} + \\frac{1}{3} \\delta_{ij}r^2\\right)\n",
    "  = - \\frac{1}{5}\\frac{c^5}{G}f_{ij}^{(5)} \\frac{df_{ij}}{d\\phi}\n",
    "  = - \\frac{2}{5}\\frac{c^5}{G}\\epsilon_{ij}f_{ik}^{(5)} f_{kj}\n",
    "\\end{align}\n",
    "$$\n",
    "\n",
    "Здесь учтено, что квадрупольный момент бесследовый\n",
    "$$\n",
    "\\begin{align}\n",
    "\\text{Tr}(f_{ij}) &= \\delta_{ij}f_{ij} = 0\n",
    "\\\\\n",
    "\\text{Tr}(f^{(5)}_{ij}) &= \\delta_{ij}f^{(5)}_{ij} = 0\n",
    "\\\\\n",
    "\\end{align}\n",
    "$$"
   ]
  },
  {
   "cell_type": "code",
   "execution_count": 69,
   "metadata": {
    "vscode": {
     "languageId": "wolfram"
    }
   },
   "outputs": [
    {
     "data": {
      "text/html": [
       "<div><img alt=\"Output\" src=\"data:image/png;base64,iVBORw0KGgoAAAANSUhEUgAAAgIAAAA8CAIAAACbyEVvAAAAzXpUWHRSYXcgcHJvZmlsZSB0eXBlIGV4aWYAAHjabU/RbQUhDPtnio4QkuDAONw9ntQNOn7NQVVR1YjYmMSINL4+3+ljQrMkL1HRACG8edNOUWVhcZb21AXlWu7hJ7uXyJ1W+b3A2P51+oGdV/8E7Xyx+QK1+R7YQabLz32dr92vvdYzyORA+xH5/7NbKApyOKurRKBR10RJQlEpgTdugI0ZLxW/yQMRHEPMDutzcEJHnN0jwWi85hds7mKdbKzUHM2PNnI3N+i1b5+PpG9NDlq1DgidEAAAAAlwSFlzAAAWJQAAFiUBSVIk8AAAADx0RVh0U29mdHdhcmUAQ3JlYXRlZCB3aXRoIHRoZSBXb2xmcmFtIExhbmd1YWdlIDogd3d3LndvbGZyYW0uY29tXKKmhQAAACF0RVh0Q3JlYXRpb24gVGltZQAyMDI1OjAzOjI1IDEzOjMxOjQ2k5iOXwAAGpNJREFUeF7tnXWU3raywG/KzMycMrcpMzMzM6fM3JTSFFLmvDIzc9pb5vaWmZmZ+359c56OrmTLsi1/n7yR/9iz65VG0nhGMxpSr7///vtf4Z7PP/+8f//+iyyyyMorrxwOaoKUMJAwkDCQMNAUBoYKBfirr77ab7/9ppxyygEDBnz44YehwCY4CQMJAwkDCQONYiCMGBg4cGCfPn0GDRr0448/NjrdBDxhIGEgYSBhICwGwoiB5ZZb7pVXXrntttvCTi5BSxhIGEgYSBhoGgNhxEDv3r2HHnroccYZp+npJvgJAwkDCQMJA2ExEEYMhJ1TgpYwkDCQMJAw0DEMJDHQMVSngRIGEgYSBmLEQBIDMX6VNKeEgYSBhIGOYSCJgY6hOg2UMJAwkDAQIwaSGIjxq6Q5JQwkDCQMdAwDSQx0DNVpoISBhIGEgRgx0CtgMYn3339/sskmY5VnnHHGdtttF8Nyn3jiiY8//niVVVaJYTJdn0NU2Pjzzz/PPPPMv/76S9DyyCOPnHTSSeONN17XsdSBCfiv/dBDDz3kkEN69erVgVmlIVqKgQDkhBgI9bz33nuCR8RAKJh14Hz55ZcUt3j++efrAOkxfWPDxlVXXaVz3dJLL91jUF24EP+1b7jhhsccc0whwNRgSMZAfXL6V0D0RSUGUDOXX355uCjgAtsLygcbv/76608//UTL5pZ5++23o9sK/Hnnnffkk0/+9/8/H330ES/ffvvtrbbaipIkzc0hEzKrZu2//fZbc+NSaGudddb5448/8tbO+y233PKll17S5/Dmm2+OOOKIgwcPbm5iCXJwDETLSnnk1GPFwNFHHz3ssMOy7ODfuI0AC7GBCB977LFRz/fdd9+GFkitkYkmmggbHfDvv//+UUcd9cEHH2TzNYZjApwMZLvs2LPXXnuxdtLgP/jggyYGlaPYlVde6V77o48+ilns9ddf1+ew/fbbTzDBBNTubWJiCWZwDETOSpnkFFIMvPDCC3LMP/XUUwMilx3hwgsv3GabbXbZZZcbbrjBBzLq5BhjjLHtttv6NO7xbQqx8fvvvy+44ILy7TBDo7MHx8kbb7zBJnvfffcJZFWHfIQRRqAw7Q8//KBG5HNTqJx9Ofgc8gDecsstyvi+8MILB5dAmG6XWWaZnXfeuXDtNDjxxBNnnnlmHSGck8DS4Ycf3jGEpIEqYyB+Vsokp5BiAJVTtpIVVlihMh6Njhyv2BSASc0iAY4wKAR+9tln0xJls7DlkNCgEBv77LMP6OLnM888M+mkk4477rhYMMJiZuutt15yySUVTBSF9dZbb/LJJ5dvOu20037//ffqv3fddRcvO6P/EtfAMWiKKabAh7Tbbrsx7v777x927XfeeSdgqcQuYN1rp8GYY45peNdWXHHFiSeemC0m7MQStOAYaAUr2eQURgycfvrps846q+7xm2WWWYIo4yhBlC9FgnGsPvbYY2WIQq8vk4G3g6t1wYmmMwDd2MBWM/zww59//vkyGYw288wzz6KLLhoWezPNNNOuu+5qr/fSSy8dbbTR+KZKWZY58Oamm25qGj+scaGFFlpggQU+++wzGYv9d7jhhrvjjjsCDk20D5u459ppxolk44031tszKxAiNqX0RIuBtrCSTU5hxEBzH4YtSalRjDLXXHPBD2rPyhz3gQceoE1yDgtyCrHx2muvGW5JjEj33HNPQDHw9ddfY3U599xzM78XJcqHGmooTOf6f7EgYSxqjq4EMvo1K/3ll1/0gbBtgpOAQ2MRWnbZZf3XjvV2mmmm0du/++67kDTH4oCzSqCCY6AtrGSTU0RiwHavY1R98skn9a9FnAn8cP311zs+Yd++fWmDmln2MzNc2S7xt6+MjYBLY6vlizz00EN5MNHHkRO60QONmFNgwDl0ERQH08yTkEzJXjsBVKDru+++0+fM8bpjhrIu4ioN7cZAKFYyyCmWLGJMtISRjDTSSFhmlXEJJVHUf/VgHSJ+bv7559dfGr+TJMUb5fN0tNT/xXY5yiij9OvXz7O9ZzMmTOgL+uB88823+eabX3311Z4dQzUri43HHnuMeZIGiF3ommuuCTINjE7AUZliNkwcElNPPfUwwwyj/oVI1v8MMo1CIE2snUGxMpVauzQmzk2fsNAzWlHhKio3YAOCPjfaaCOO4JiP4cRPP/20MrSOdew6i+WttAlyCsVKJjnFIH493evYFlCsDjroIMecMWUgS3jKxr+LhRpXYU2EPPzwwwrC5ZdfzkwMKlljjTVq2lvwnXpaLcpigzhOJow9TYK+Rh55ZN1zWxkzr776KtDyorx+/vlngkd33313Hf4MM8ywxRZbVB6xQseG1s5M8M2wt2ZOKXPtBx98MBqJ0Z4IInDYXLwQlkBOYAatjjXWWHfffXcFZDbaJSoWy1tpQ+QUipUMcorCKOTpXt9xxx1Rq93xEniPIWWOPGUJEQZDBcbXXbajag9LU0KDocXWjBpOnN+EE07IOaN///56QQtCqkqNssEGGwDnggsukF7E84w//vjqTweoUthAq2I7ZqBvv/32iy++GH300VHSWVSpqWY2Rhph61fZsNdee+3cc8+N6UNkDJjHgaynjDEoqCPAqf7QnhCaWzsTINaZQ63MpHDttFl77bWXWmopY+Y4zCFsqMhzRWWbMSjwifE76qijOL9CBiISSFnQnXNlwYZtHyGLZS6wOXIKxUoGOXVfDHi619n1iKdmh3IT1nnnnQftIi3C0l8hNIwYnKORASrmhD9JlOVYrfrK3HhIESoEqBqwI0tUO44d9RJdA1X9tNNOC4gNInEZBVVUYJLYhbfGf57ulgjIJZZYQtpQPkgsHuR2IA8I0zTOHASMIgY++eSTUKMXwml07dhz+YIS/1q4dgiJI+8555xjzFmMe+zOhWup0ECADxo0SPVl659tttmEXOvoRhUmk9clThbLnG2j5BSElQxy6r4Y8HGvU3EAhVHqDbgf8YhusskmRQ0D/x9TFVubyv8kvBUrHmq7Mcziiy8urOW/x1133XW0x7BggEIGMCKYcazEHxts+sgVBjJ88qHQBEImmWQS5dtHnL/88su6YFMDMRNs05SZCzV0IZym184ECABVNOlYOy0PO+wwjDN2tALOM6GcJtIp9thjj9VXX91AFKqGjMi+U4jDDjSIk8XshTdNTkFYySCn7ouBQgJ69tln0bLfeecd1ZIooLztDyMshIuCmQkW3fzee+9FI0P9pICMbaN/8cUXjY7gSyn4b731FkZzGzJWb9Q93bqN+dIwdkuvAw88sKwYyMtpwjg244wzcmZ3pHq5saEvhA2aieEgaS5cikoJ+IHdOR94dNZdd10iJsu6dgqpyNGgA2tn6yd7jsQX9zzJDEAHh+QyNxehHOJr6yw2sy9uGCNomGacBYnR8BQDGEJRenCKOixI/Ate1hOkjck42DNaFrPx2QFyqs9KyCqdnLovBrD3oXeccMIJeCYxEVDUBUJBPcGXDULRrzEdEBpE+ArPZptthsGHZBwj1lt9DDHB225kdjeC9khFxkrLQxQKuZqqtgG7P6GobFLq0E0xouOOO47wHvb3Sy65hBp+mKQEcb1799Z3XiAT48R7n8xbiYPCUO7JyUh+GTcz/vWss87iXw5Xah421OhY5P/n/x6M0YDCGSB/erqgPVehmrHBnXLKKY5eeMBse0jZUTzbd3jt6BzQmDs6gEQzR1k92ZQff/xxzwXWbAZjSuq+uzYM+hkSDiPeVFNNBVvxwKREc6jRkegDBgyQjHGWAEORNE55GH16bvaMmcXay0o6OXVfDLDjkG/Mzi7aKATUp08f2XDnnHNOQnfkd/3JU/b5JIQ50hKXrMED4hlX6tjAgQP5U5JFMdkTuy3wlRjAUSal1nhQurHwEMauJIFeFVlKBdhGm0wmxGFAY+RZIYuyG2IcUCU06EXwDNqW3lHSQEBaniM3DxsKCMhH1PHISsG2/NlEWaHCJXe4QevWLsFsOE46gygxH2N4pB5U3ogoUqhT+MBEB0JLFT8WNaOkC0cK9DbeUDgWgcGpCHOfEBv1VtWZz8GeAImZxdrLSjo5dV8MCB7FqbLSSisRDgQNEVXJnxXySGeffXY62voLNQN4j7NOfTacDTfeeKP6c80119TFAO9VpTwSXDFk80ZMFjQjElwFLEHfvOH4Usic1EjA/o7eRA1CR2MMVoRtIKuRVVJJHLOyHCPImcAwpfedbrrpeJ+XT5eHDWN0VSEcd33hKnpYgxatHQMg35rQ/s58Akia4eDHvOE4uBBcR3QZUQyqjQSkE3YsbyQRBw1GL+JNJJJIAhUM5mbPmFmsvaykk1MsYmCxxRaDLPBTTT/99GI9rBamxpYNHPveG/R33qO2KMMrFhW99hzkboiBb775Roj1yCOPVB9byrTxKLOJzJzwx0LmFGpG8XG0xGggh6GLL76YZhJKS5Qhv0smnZGPKuvi0J0JMw8bRmNJakOPY8mFq+hhDVq0djkxuyuphPo6GEXRdaAfzJJ5MCWl3yBIDqzQJBoMvRAPKD02fXImQKHhPScJ8UW52TNmFmsvK+nk9I+1ka+CecH9KM+ybILyYMBBZS58iPDRe9m/Y9PgOMl7omKwyEvICiTi7pX5X1LweW8noOJ44D12VVxwmKfRTYjm1jONxVKmP5k3/8ktmzzMWX7hOMxPqnK6Z4tPGwbGHATbOFrCPzCSXJhDMwQV9ihhEpktpwG9u4wrc7CfPGwYLUELb7B9kStQAeed74IKX0Sw73Ko8plYi9YuVA23Zq6rMhfb0Dj1ohWxg+OYJYMsD41iq5GyBOpB0+K9HO5xGuPD4xfcBnobzBHitWIDEXp2s2fMLNZeVvovckKaSSxK4WN7t7hLtrAXDQpLjWKLEDiI/ZrqjBi8bI3JSJLElmLEGlHhko56XLbiN/00gDtBpvrcc8/JVEVc3XrrrY6Zc6kW+zX1xdy5bxyARATK3JA0aGSqKhlBh/zLOKQTVMNLbq3KHD0PG0Zj0baoBV0T+Z3pnrcPGqRIUJbPfFq0dtlMbb+XLLMyF9tY2nPPPXEJFOYPC3VdccUVeXjGNisfhfqGRhtVLVhyy93sGTOLtZeVdHL6RwVG9+R8534IZ7b1ZZw8//F4yEhySwtRK3g4CvjIFUcbmaRdwgVjJb41IojYWGmASYcQfqlrX/MhkAkIDt2Tf+HtAOmU6HHXyXnqqafgB9R/UfxRVDm14C+RGXJO56dRZEnGFeFhP3nY0FuCK6lUo/zkNRHSdHfsCUXU+s//JfbJ/bRr7Y7CRCyzMhcbKCJOjLA9bJLE/ziwh5ovZ01i+fKaqfO0VA7XH7FI8AiJutkzZhZrLyv9Fzn5aExNt8EcIRtc/YHIUQIUdn8DFLkC8gaqlXAdHrJ5VaxC5dMAp2BA2d4IGY59XEKMHDZWNVVM/IDipCJvxL3GSYLfOTujoMEthntZ1nLEEUdkoi4PG3pj5QknWLM+/tsFoV1rJ5yXb80e3RySOQGghdjskzmizAfmtXNNOCtjCiZHRxhNpaYrOCqjXkIe3OwZM4u1l5V0cup+hVESBUhdgVaIf3doH57/Eus29iuj/Q477PD000/zkkru1NPg2Mvv5IURAuQJOa+ZWOex59gNkDFYctDiOXYYNlbKClF/3+hCgihv1IkBxwDyQ0JmMUxhUOJMJh9PPTJunmciDxs6BDGOk8ogQUdD1NOutQtVV/OZ+XxWnFKrrbYaodK4zfT2WPBJ6LEhiPYG81JtQv8vigvaCeda/HBSEZOsF6M7bXhDsIqQt5s9Y2ax9rKSTk7dFwNiEWLv41ZCH2J1t5GNj2hluxnnXHnJWVUicPhFzps84vIVj5Y8bLvyC8qOeqk8w6j58lIMOOR22iNC3FhOuVaX5Eki8eW56KKL8BKjv+vF5qQvUVL8RDIhDxiUVGSxCJFcSkklcugM+68cbtQc7Ak4sKEay1bort1tQ+4Zb9q1dqFqlc4S9hOQQYkViPQXNndFqyhMxx9/POY1Ceg0Hghb3uAQRt8nvYCtn9hlzK24A9G3UH0k0Jl/SU0U9UDS/I6HQBmOHOwZM4vpi2oxOTV3wPSEjIMBVNolFT27G82wwADNrsc7xxxzYFSRyEsecW6rJBf2XAnThChV1Qq54YFHv/9E5AePivuEf/jTrvmlWmayK5kB9gIx9EskEkoZiTn8Ah/iL8F+SuoA+d9GF7Hp43XIw1UeNvT25Ojpy8kExQEfLiWfSP6LP9xIZJP36BeDBw9GYkk6G+c8fs/L9672fcP2Klw7ijAfQmWbU+2A/ctO1oN+EN6IfBVxSyiBCiIINWdxazVxwzYHVlVSNJNc7SIrsijCCuz2pD2qLAFElyQn4k9GGZJe6EDCfcok62bPmFmsCVbypLqadKWTU/fzBoT+3Anr/guW9C70FKMLp1q2S3Z5SkGgdJOdSxS/MC3GVnU3On05H1BLCy1Gz+BFRSJqTWXb0oytGQgyCqXQeKOzPRtlJjupl3m5oGj3ZF2qoWEetvK8mtJYljJlnlp7HjZUA3Y0sUE5qkew7xCPBFootkFHfmd6mGvtj7L33nsT1wQ0SgVgdpf8FHcMlf+XDd6ycO3s7Kuuuio0Q/V/qfFAOT9WpFfilFlhSBE3DFY7eYMdA6IKOGd1+pRMxrCPGN/zHpRxx3DgRBk8QRQHVj1TjI78CWFAM2ASIydpmyhkIEr3KDjYM3IWC85K/lRXhwYMcuq+GKizGLuvmDX5afxLKlSjblPajCfIbSpqCMyjhK9suummodaC4k9ZZq4ZcJR6ZmNio0GNMrhOn0MeNlQbqSJJjZfCmYsLHelICqhcSJDZBXMWAhJ7FxYGzlU8nSwSV7gKvYHn2rkmgYVzgxB9kRwIacx69kBQFP4VNAz5F95RkZqhHvxYsk3rpctDAa8PB/WF/ctRMQly5RZSFBoyhOzjVCF7RstiDbGSJ9VV/nAGOfU0MSAhp83dzpGHd1LSUHbs+OjK34lydViEHN3ZjpE9ead16ViIDbFcqQthHMMR301LbMeFV6chmWiZd9dYZYQE7+i5drZdBBsiWSZA0ZG8GoI77bSTOleROcWxKeCcCcwGOHq0O/Uk4IixgYqTxRSWPMmJ9j6s5E911T6TQU7NioEmaqO7ly0m9UyTRTV8+feingSXgjkuXvcHRRwFsaGOm7/IIcIKgWJVARtYaTjIy5EcYxfWHuP280yYEsXEmaBwFVKWo1otkELgNRtUWzt+IykKy+FGyQN7JnhWWbiYNzGauyV02YVIjgvGk7Ide1L72FisGjl5spIn1VX7vgY5BRMDxP8aST3Ew3Au7rBNgB0N3a3U9V7V8JjZCwcpZVjqX9yIP9a+BkSNiDZBqhcpOYUzt7HB7i/XI2MSwYKvtq1CUGIWL5Sv2EbESh6hS6Dy2qUUGuEueIOUn9PGGGvH0cIdD1hI1l9//UKUlmog4cU+YrgU2NY1jofFKpOTJyt5Ul21L2iQUzAxkBkz4JnQX20leb0k7LJb2miQwBgCsVVQk71MzDKFlhnVy8aGhGaRdErusZ3Xk4lVzL74KsiBwCjBZocEUgXljfglkj+khABEDKgm/Jl1qKXC2hlOip2AK6MsCl/BcN6gwVHVFc88sTd15mn3lUwXrr4IC7aN0OJhsQrk5M9KeVQX5JMZ5BRGDHClIoWoUAPZdNRD8gghg0EmXQqI1N7Ra0qX6t7DGtvYQIvhKMCBo/A8QUs0F+xs3FtA9jKuURBLMC7ZDJIUTZAVESBs/URJoV9gvSUmhPecAgkbp0wesUxR4dN/7fq0iSjD8YMnRnfPUgeXVD7OnZQAUY0lsUNEYNhHamMEly5hJzmkQfMnJ39WUjjMpLpQGDbIKYwYQOun7Hi3FHADNRRFgWEQd6FQ1mo4dbABIRJczKFBSt0RHUQAKzYlpIjgREoNY4WTsqncEiEOzAMOOIA/ibb0P7VEjmQ89kYtcZAj2Xn6VRPUISd8y8fXUmq9nMBIx2UOpXqlxvFgwJ+V9GLvNtUFWZFNTgHEAGoRgcMYQyOJYcA0T6YlN10EQVnbgdTEBuc8/UJBAvsktk89+IQoNYyyY2QeZF6o21JkEmFMrW/bywU7oW3o9yliJcB4HXyZkoKL0A0OOQHsGAY8WUmRWR7V1Z+wTU4BxABaEjTKg12IBCsumeu6PJA093SCFoppDhtYabGD2+lU9Sk1HgicccmByDSgkRyAr155R0hN5zLhJmaOa5pjGftIE8ATzBgwYLCSg+rqz9YmpwBiwLhTgv0XTbywWHn9xTggEHCJpSLvTq5Gh44QeHPYIPo4woigIJ8AVYZoWrR7KuTo1n8dOJ58DgQUl8URgveYKIkm4uJIDyTTnmoiQdaVgMSJAWElH6qrOf9McgogBrgvF32TQiJysZx6br755pozrtOdNB+Yx67DUwdme/smbJT9dmzoa621FqWfCoOdiOigMJ/7btGyoxvCBgc19XHrAEl9W4EBf6qrvBx0F5ucAogBNSHkDDe7qnrF7MI+RfYrr8fdkWxprrbwyY9taAJRgU3YiOpz+E8GPQY+4rok/y6pZcJAHgbyyCmkGJCxKR6i7i2Sm6m79ZDQS1rvEHjNeibCEza6RYd1xkWPoYqRfa9LHZip7xCLgTxyCn/fAAGF3LYodfwxqupmog7/jvuOCG6pbJ6ehI020gAWJ+5sse9/beNa0py7joE8cuqFYGxictxEQTIRFZjlKoYuPixQXW3RxWlEMnTCRiQfwnMa6Xt5Iio188FAHjmFPw3IbKhdzE+pON/dJ8kAHf8JG92lxrKjp+9VFmOpvQMDeeTUlBgg45TZyO1x6UkYSBhIGEgYiBYDTYkBSvpQbVGu0k1PwkDCQMJAwkC0GKgrBtju+/bte9lll+k+Bq5qIi6lX79+XDgX7crTxBIGEgYSBhIGwEBdFzHVI7idHEB4g8napdo+MoBKc2RUym1BCcsJAwkDCQMJAzFjoK4YoLwwt02pC46pfMIFScgD8ipjXnaaW8JAwkDCQMKAYKCuGAAEZXW5MBpJQK4WxVUoQJ+QmzCQMJAwkDDQFgz8L3vygOX34GHjAAAAAElFTkSuQmCC\"></div>"
      ],
      "text/plain": [
       "FormBox[RowBox[{RowBox[{\"-\", FractionBox[\"1\", \"5\"]}], \" \", \n",
       "\n",
       " \n",
       ">        SuperscriptBox[OverscriptBox[\"r\", \"^\"], \"2\"], \" \", \n",
       "\n",
       " \n",
       ">        RowBox[{\"(\", RowBox[{RowBox[{RowBox[{\"sin\", \"(\", RowBox[{\"2\", \" \", \"ϕ\"}], \n",
       "\n",
       " \n",
       ">                \")\"}], \" \", RowBox[{\"(\", \n",
       "\n",
       " \n",
       ">                RowBox[{TemplateBox[List[SubscriptBox[OverscriptBox[\"f\", \"^\"], \n",
       "\n",
       " \n",
       ">                     RowBox[List[\"x\", \",\", \"x\"]]], \"\\\"(5)\\\"\"], \"Superscript\", \n",
       "\n",
       " \n",
       ">                   Rule[SyntaxForm, SuperscriptBox]], \"-\", \n",
       "\n",
       " \n",
       ">                  TemplateBox[List[SubscriptBox[OverscriptBox[\"f\", \"^\"], \n",
       "\n",
       " \n",
       ">                     RowBox[List[\"y\", \",\", \"y\"]]], \"\\\"(5)\\\"\"], \"Superscript\", \n",
       "\n",
       " \n",
       ">                   Rule[SyntaxForm, SuperscriptBox]]}], \")\"}]}], \"-\", \n",
       "\n",
       " \n",
       ">            RowBox[{\"2\", \" \", RowBox[{\"cos\", \"(\", RowBox[{\"2\", \" \", \"ϕ\"}], \")\"}], \" \", \n",
       "\n",
       " \n",
       ">              TemplateBox[List[SubscriptBox[OverscriptBox[\"f\", \"^\"], \n",
       "\n",
       " \n",
       ">                 RowBox[List[\"x\", \",\", \"y\"]]], \"\\\"(5)\\\"\"], \"Superscript\", \n",
       "\n",
       " \n",
       ">               Rule[SyntaxForm, SuperscriptBox]]}]}], \")\"}]}], TraditionalForm]\n"
      ]
     },
     "execution_count": 69,
     "metadata": {
      "text/html": [],
      "text/plain": []
     },
     "output_type": "execute_result"
    }
   ],
   "source": [
    "(* Доказатество последнего равенства в уравнении для изменениия момента импульса *)\n",
    "leviCivitaArray = Normal[LeviCivitaTensor[2]];\n",
    "-2/5 FullSimplify[EinsteinSummation[{{i, j}, {i, k}, {k, j}}, {leviCivitaArray, fh5, fh}]] // TraditionalForm"
   ]
  },
  {
   "cell_type": "markdown",
   "metadata": {},
   "source": [
    "<span style=\"color:brown\">**NB:**</span> Выражения полностью <span style=\"color:green\">**совпадают**</span>\n",
    "с $dE/dt, dJ/dt$ из задачника Лайтман А., Пресс В., Прайс Р., Тюкольки С. - 1979 - Сборник задач по теории относительности и гравитации (Решение задачи 18.5, стр. 446-447)\n",
    "\n",
    "Не стоит забывать, что в задачнике система геометризированных единиц $G = c = 1$."
   ]
  },
  {
   "cell_type": "markdown",
   "metadata": {},
   "source": [
    "# Получим другим способом **энергетическую** систему уравнений через Гамильтонов подход\n",
    "\n",
    "## Гамильтониан системы\n",
    "\n",
    "$$\n",
    "H = T + (U + \\mu \\Phi) = E + \\mu \\Phi\n",
    "$$\n",
    "\n",
    "В обезразмеренном виде это будет\n",
    "\n",
    "$$\n",
    "\\hat{H} = \\hat{T} + (\\hat{U} + \\frac{5}{2}\\epsilon_G\\hat{\\Phi}) = \\hat{E} + \\frac{5}{2}\\epsilon_G\\hat{\\Phi}\n",
    "$$\n",
    "\n",
    "Общая форма уравнений Гамильтона гласит:\n",
    "$$\n",
    "\\frac{dA}{dt} = \\frac{\\partial A}{\\partial t} + \\{A, \\hat{H}\\},\n",
    "$$\n",
    "где $\\{A, B\\} = \\frac{\\partial A}{\\partial q_i}\\frac{\\partial B}{\\partial p_i} - \\frac{\\partial A}{\\partial p_i}\\frac{\\partial B}{\\partial q_i}$ - скобка Пуассона,\n",
    "а $q_i$ и $p_i$ - обобщённые координаты и импульсы соотвественно.\n",
    "\n",
    "В нашей задаче обобщённые координаты $(r, \\phi)$.\n",
    "\n",
    "А обобщённые импульсы это - радиальный импульс\n",
    "$p_{r} = \\frac{\\partial \\hat{L}}{\\partial \\dot{r}} = \\hat{r}^{(1)}$,\n",
    "\n",
    "и угловой импульс\n",
    "$p_{\\phi} = \\frac{\\partial \\hat{L}}{\\partial \\dot{\\phi}} = \\frac{\\partial \\hat{L}}{\\partial \\hat{\\omega}} = \\hat{r}^2 \\hat{\\omega} = \\hat{J}$, что есть момент импульса.\n",
    "\n",
    "Найдем как энергия $\\hat{E}$​ (без учета диссипации) эволюционирует под действием полного гамильтониана $Н$.\n",
    "\n",
    "Для этого заметим, что $\\{\\hat{E}, \\hat{E}\\} = 0$, а $\\frac{\\partial \\hat{T}}{\\partial t} = \\frac{\\partial \\hat{U}}{\\partial t} = \\frac{\\partial \\hat{E}}{\\partial t} = 0$, так как кинетическая и потенциальная энергии явно не зависят от времени.\n",
    "\n",
    "Отсюда получаем\n",
    "$$\n",
    "\\frac{d\\hat{E}}{d\\hat{t}} = \\frac{\\partial \\hat{E}}{\\partial \\hat{t}} + \\{\\hat{E}, \\hat{H}\\} = \\frac{5}{2}\\epsilon_G\\{\\hat{E}, \\hat{\\Phi}\\}.\n",
    "$$\n",
    "\n",
    "Учитывая, что уравнения Гамильтона для $\\hat{H}$ есть\n",
    "$$\n",
    "\\begin{align}\n",
    "\\frac{\\partial \\hat{H}}{\\partial q_i} = \\frac{\\partial \\hat{E}}{\\partial q_i} + \\frac{5}{2}\\epsilon_G\\frac{\\partial \\hat{\\Phi}}{\\partial q_i} &= -\\dot{p}_i\n",
    "\\\\\n",
    "\\frac{\\partial \\hat{H}}{\\partial p_i} = \\frac{\\partial \\hat{E}}{\\partial p_i} + \\frac{5}{2}\\epsilon_G\\frac{\\partial \\hat{\\Phi}}{\\partial p_i} &= \\dot{q}_i,\n",
    "\\end{align}\n",
    "$$\n",
    "а $\\frac{\\partial \\hat{\\Phi}}{\\partial p_i} = 0$, то получим\n",
    "$$\n",
    "\\frac{d\\hat{E}}{d\\hat{t}} = -\\frac{5}{2}\\epsilon_G \\dot{q}_i\\frac{\\partial \\hat{\\Phi}}{\\partial q_i} = - \\frac{5}{2}\\epsilon_G\\left(\\hat{r}^{(1)}\\frac{\\partial \\hat{\\Phi}}{\\partial \\hat{r}} + \\hat{\\omega} \\frac{\\partial \\hat{\\Phi}}{\\partial \\phi}\\right).\n",
    "$$\n",
    "\n",
    "Найдем как момент импульса $\\hat{J}$​ (без учета диссипации) эволюционирует под действием полного гамильтониана $\\hat{Н}$.\n",
    "\n",
    "Так как у $\\hat{J} = p_{\\phi}$ нет явной зависимости от времени, а обобщённые координаты и импульсы независимые переменные, то частные производные равны\n",
    "$$\n",
    "\\frac{\\partial \\hat{J}}{\\partial \\hat{t}} = \\frac{\\partial \\hat{J}}{\\partial \\hat{r}} = \\frac{\\partial \\hat{J}}{\\partial \\phi} = \\frac{\\partial \\hat{J}}{\\partial p_r} = 0,\n",
    "\\quad\n",
    "\\frac{\\partial \\hat{J}}{\\partial p_{\\phi}} = 1.\n",
    "$$\n",
    "Отсюда находим\n",
    "$$\n",
    "\\frac{d\\hat{J}}{d\\hat{t}} = \\frac{\\partial \\hat{J}}{\\partial \\hat{t}} + \\{\\hat{J}, \\hat{H}\\} = - \\frac{\\partial \\hat{H}}{\\partial \\phi} = -\\frac{5}{2}\\epsilon_G\\frac{\\partial \\hat{\\Phi}}{\\partial \\phi}.\n",
    "$$\n",
    "\n",
    "<span style=\"color:brown\">**NB:**</span> Выражения для $\\frac{d\\hat{E}}{dt}$ и $\\frac{d\\hat{J}}{dt}$ полностью <span style=\"color:green\">**совпадают**</span> с предыдущими подходами!"
   ]
  },
  {
   "cell_type": "markdown",
   "metadata": {},
   "source": [
    "# Итоговая система **энергетических** уравнений:\n",
    "\n",
    "$$\n",
    "\\begin{align}\n",
    "\\tag{dJ/dt}\n",
    "\\frac{d\\hat{J}}{d\\hat{t}} &= -\\frac{1}{2} \\epsilon_G\n",
    "\\hat{r}^2\n",
    "\\left(\n",
    "  \\sin (2 \\phi ) \\left(\\hat{f}_{y,y}{}^{\\text{(5)}}-\\hat{f}_{x,x}{}^{\\text{(5)}}\\right)+2 \\cos (2 \\phi ) \\hat{f}_{x,y}{}^{\\text{(5)}}\n",
    "\\right)\n",
    "= \\epsilon_G I_J\n",
    "\\\\\n",
    "\\tag{dE/dt}\n",
    "\\frac{d\\hat{E}}{d\\hat{t}} &= \\epsilon_G\n",
    "\\left(\n",
    "  I_J\\hat{\\omega}\n",
    "  -\\hat{r} \\hat{r}'\n",
    "  \\left(\n",
    "  \\sin (2 \\phi ) \\hat{f}_{x,y}{}^{\\text{(5)}}+\\cos ^2(\\phi ) \\hat{f}_{x,x}{}^{\\text{(5)}}+\\sin ^2(\\phi ) \\hat{f}_{y,y}{}^{\\text{(5)}}\n",
    "  \\right)\n",
    "\\right)\n",
    "= \\epsilon_G I_E\n",
    "\\end{align}\n",
    "$$"
   ]
  },
  {
   "cell_type": "markdown",
   "metadata": {},
   "source": [
    "# RHS уравнения (dJ/dt)\n",
    "\n",
    "Введём новое обозначение $\\hat{r}^2 \\equiv \\hat{r}_2$"
   ]
  },
  {
   "cell_type": "code",
   "execution_count": 70,
   "metadata": {
    "vscode": {
     "languageId": "wolfram"
    }
   },
   "outputs": [],
   "source": [
    "ToR2Replacement = {\n",
    "  OverHat[r][OverHat[t]] -> Sqrt[Subscript[OverHat[r],2][OverHat[t]]],\n",
    "  Derivative[n_][OverHat[r]][OverHat[t]] :> D[Sqrt[Subscript[OverHat[r], 2][OverHat[t]]], {OverHat[t], n}]\n",
    "};"
   ]
  },
  {
   "cell_type": "markdown",
   "metadata": {},
   "source": [
    "и подставим в (dJ/dt) значения $\\hat{f}_{i,j}^{(5)}$:"
   ]
  },
  {
   "cell_type": "code",
   "execution_count": 76,
   "metadata": {
    "vscode": {
     "languageId": "wolfram"
    }
   },
   "outputs": [
    {
     "data": {
      "text/html": [
       "<div><img alt=\"Output\" src=\"data:image/png;base64,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\"></div>"
      ],
      "text/plain": [
       "FormBox[RowBox[{SubscriptBox[OverscriptBox[\"r\", \"^\"], \"2\"], \" \", \n",
       "\n",
       " \n",
       ">        RowBox[{\"(\", RowBox[{RowBox[{\"-\", \n",
       "\n",
       " \n",
       ">              RowBox[{\"5\", \" \", SuperscriptBox[SubscriptBox[OverscriptBox[\"r\", \"^\"], \n",
       "\n",
       " \n",
       ">                  \"2\"], \"′\"], \" \", SuperscriptBox[OverscriptBox[\"ω\", \"^\"], \"′′′\"]}]}], \n",
       "\n",
       " \n",
       ">            \"-\", RowBox[{\"10\", \" \", SuperscriptBox[SubscriptBox[OverscriptBox[\"r\", \n",
       "\n",
       " \n",
       ">                 \"^\"], \"2\"], \"′′′\"], \" \", SuperscriptBox[OverscriptBox[\"ω\", \"^\"],\\\n",
       " \n",
       ">    \"′\"]}]\\\n",
       ", \"+\", RowBox[{\"120\", \" \", SuperscriptBox[OverscriptBox[\"ω\", \"^\"], \"2\"], \"\\\n",
       " \n",
       ">    \", \n",
       "           SuperscriptBox[SubscriptBox[OverscriptBox[\"r\", \"^\"], \"2\"], \"′\"], \"\\\n",
       " \n",
       ">    \", \n",
       "           SuperscriptBox[OverscriptBox[\"ω\", \"^\"], \"′\"]}], \"+\", \n",
       "\n",
       " \n",
       ">            RowBox[{\"60\", \" \", SubscriptBox[OverscriptBox[\"r\", \"^\"], \"2\"], \" \", \n",
       "\n",
       " \n",
       ">              OverscriptBox[\"ω\", \"^\"], \" \", \n",
       "           SuperscriptBox[RowBox[{\"(\", \n",
       "\n",
       " \n",
       ">                 SuperscriptBox[OverscriptBox[\"ω\", \"^\"], \"′\"], \")\"}], \"2\"]}], \"+\", \n",
       "\n",
       " \n",
       ">            RowBox[{\"40\", \" \", SuperscriptBox[OverscriptBox[\"ω\", \"^\"], \"3\"], \" \", \n",
       "\n",
       " \n",
       ">              SuperscriptBox[SubscriptBox[OverscriptBox[\"r\", \"^\"], \"2\"], \"′′\"]}], \"+\", \n",
       "\n",
       " \n",
       ">            RowBox[{\"40\", \" \", SubscriptBox[OverscriptBox[\"r\", \"^\"], \"2\"], \" \", \n",
       "\n",
       " \n",
       ">              SuperscriptBox[OverscriptBox[\"ω\", \"^\"], \"2\"], \" \", \n",
       "\n",
       " \n",
       ">              SuperscriptBox[OverscriptBox[\"ω\", \"^\"], \"′′\"]}], \"-\", \n",
       "\n",
       " \n",
       ">            RowBox[{\"10\", \" \", SuperscriptBox[SubscriptBox[OverscriptBox[\"r\", \"^\"], \n",
       "\n",
       " \n",
       ">                \"2\"], \"′′\"], \" \", SuperscriptBox[OverscriptBox[\"ω\", \"^\"], \"′′\"]}], \"-\",\\\n",
       " \n",
       ">    \n",
       "         RowBox[{\"5\", \" \", OverscriptBox[\"ω\", \"^\"], \" \", \n",
       "\n",
       " \n",
       ">              SuperscriptBox[SubscriptBox[OverscriptBox[\"r\", \"^\"], \"2\"], \"′′′′\"]}],\\\n",
       " \n",
       ">    \"-\", \n",
       "         RowBox[{SubscriptBox[OverscriptBox[\"r\", \"^\"], \"2\"], \" \", \n",
       "\n",
       " \n",
       ">              SuperscriptBox[OverscriptBox[\"ω\", \"^\"], \"′′′′\"]}], \"-\", \n",
       "\n",
       " \n",
       ">            RowBox[{RowBox[{\"16\"}], \" \", SubscriptBox[OverscriptBox[\"r\", \"^\"], \"2\"], \n",
       "\n",
       " \n",
       ">              \" \", SuperscriptBox[OverscriptBox[\"ω\", \"^\"], \"5\"]}]}], \")\"}]}], \n",
       "\n",
       " \n",
       ">      TraditionalForm]\n"
      ]
     },
     "execution_count": 76,
     "metadata": {
      "text/html": [],
      "text/plain": []
     },
     "output_type": "execute_result"
    }
   ],
   "source": [
    "fh1 = fh /. ToR2Replacement;\n",
    "fh5Symbolic = Simplify[D[fh1, {OverHat[t], 5}], Trig -> True];\n",
    "\n",
    "Fh5Replacement = Flatten[{\n",
    "  Outer[\n",
    "    Superscript[Subscript[OverHat[f], #1, #2], \"(5)\"] -> fh5Symbolic[[#1 /. {x -> 1, y -> 2}, #2 /. {x -> 1, y -> 2}]] &,\n",
    "    {x, y}, {x, y}\n",
    "  ],\n",
    "  ToR2Replacement,\n",
    "  OmegaReplace\n",
    "}];\n",
    "\n",
    "dJdtTemp = RHSEnegryLagrange[[2]] //. Fh5Replacement;\n",
    "dJdt = Subscript[OverHat[r],2][OverHat[t]]*Expand[Simplify[dJdtTemp/Subscript[\\[Epsilon], G], Trig -> True]/Subscript[OverHat[r],2][OverHat[t]]];\n",
    "dJdt // TraditionalForm"
   ]
  },
  {
   "cell_type": "markdown",
   "metadata": {},
   "source": [
    "<span style=\"color:brown\">**NB:**</span> В файле Binary.pdf выводится <span style=\"color:green\">**точно такое же**</span> выражение"
   ]
  },
  {
   "cell_type": "markdown",
   "metadata": {},
   "source": [
    "$$\n",
    "I_J = I_1 = \\hat{r}_2 \\left[ 120\\hat{r}_2^{(1)}\\hat{\\omega}^2\\hat{\\omega}^{(1)} - 5\\hat{r}_2^{(1)}\\hat{\\omega}^{(3)} - 16\\hat{r}_2\\hat{\\omega}^5 - 10\\hat{r}_2^{(2)}\\hat{\\omega}^{(2)} + 60\\hat{r}_2\\hat{\\omega}(\\hat{\\omega}^{(1)})^2\n",
    "- 10\\hat{r}_2^{(3)}\\hat{\\omega}^{(1)} + 40\\hat{r}_2^{(2)}\\hat{\\omega}^3 - 5\\hat{r}_2^{(4)}\\hat{\\omega} - \\hat{r}_2\\hat{\\omega}^{(4)} + 40\\hat{r}_2\\hat{\\omega}^2\\hat{\\omega}^{(2)} \\right]\n",
    "$$"
   ]
  },
  {
   "cell_type": "code",
   "execution_count": 78,
   "metadata": {
    "vscode": {
     "languageId": "wolfram"
    }
   },
   "outputs": [
    {
     "data": {
      "text/html": [
       "<div><pre style=\"&#102;&#111;&#110;&#116;&#45;&#102;&#97;&#109;&#105;&#108;&#121;&#58;&#32;&#34;&#67;&#111;&#117;&#114;&#105;&#101;&#114;&#32;&#78;&#101;&#119;&#34;&#44;&#67;&#111;&#117;&#114;&#105;&#101;&#114;&#44;&#109;&#111;&#110;&#111;&#115;&#112;&#97;&#99;&#101;&#59;\">&#48;</pre></div>"
      ],
      "text/plain": [
       "0"
      ]
     },
     "execution_count": 78,
     "metadata": {
      "text/html": [],
      "text/plain": []
     },
     "output_type": "execute_result"
    }
   ],
   "source": [
    "I1 = Subscript[OverHat[r], 2][OverHat[t]] * (\n",
    "    120 * Derivative[1][Subscript[OverHat[r], 2]][OverHat[t]] *\n",
    "    OverHat[\\[Omega]][OverHat[t]]^2 * Derivative[1][OverHat[\\[Omega]]][OverHat[t]]\n",
    "    - 5 * Derivative[1][Subscript[OverHat[r], 2]][OverHat[t]] *\n",
    "    Derivative[3][OverHat[\\[Omega]]][OverHat[t]]\n",
    "    - 16 * Subscript[OverHat[r], 2][OverHat[t]] *\n",
    "    OverHat[\\[Omega]][OverHat[t]]^5\n",
    "    - 10 * Derivative[2][Subscript[OverHat[r], 2]][OverHat[t]] *\n",
    "    Derivative[2][OverHat[\\[Omega]]][OverHat[t]]\n",
    "    + 60 * Subscript[OverHat[r], 2][OverHat[t]] *\n",
    "    OverHat[\\[Omega]][OverHat[t]] * Derivative[1][OverHat[\\[Omega]]][OverHat[t]]^2\n",
    "    - 10 * Derivative[3][Subscript[OverHat[r], 2]][OverHat[t]] *\n",
    "    Derivative[1][OverHat[\\[Omega]]][OverHat[t]]\n",
    "    + 40 * Derivative[2][Subscript[OverHat[r], 2]][OverHat[t]] *\n",
    "    OverHat[\\[Omega]][OverHat[t]]^3\n",
    "    - 5 * Derivative[4][Subscript[OverHat[r], 2]][OverHat[t]] *\n",
    "    OverHat[\\[Omega]][OverHat[t]]\n",
    "    - Subscript[OverHat[r], 2][OverHat[t]] *\n",
    "    Derivative[4][OverHat[\\[Omega]]][OverHat[t]]\n",
    "    + 40 * Subscript[OverHat[r], 2][OverHat[t]] *\n",
    "    OverHat[\\[Omega]][OverHat[t]]^2 * Derivative[2][OverHat[\\[Omega]]][OverHat[t]]\n",
    ");\n",
    "dJdt - I1"
   ]
  },
  {
   "cell_type": "markdown",
   "metadata": {},
   "source": [
    "# RHS уравнения (dE/dt)\n",
    "\n",
    "Подставим в (dE/dt) значения $\\hat{f}_{i,j}^{(5)}$:"
   ]
  },
  {
   "cell_type": "code",
   "execution_count": 81,
   "metadata": {
    "vscode": {
     "languageId": "wolfram"
    }
   },
   "outputs": [
    {
     "data": {
      "text/html": [
       "<div><img alt=\"Output\" src=\"data:image/png;base64,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\"></div>"
      ],
      "text/plain": [
       "FormBox[RowBox[{FractionBox[\"1\", \"3\"], \" \", \n",
       "\n",
       " \n",
       ">        RowBox[{\"(\", RowBox[{RowBox[{OverscriptBox[\"ω\", \"^\"], \" \", \n",
       "\n",
       " \n",
       ">              RowBox[{\"(\", RowBox[{RowBox[{\"-\", \n",
       "\n",
       " \n",
       ">                    RowBox[{\"3\", \" \", SubscriptBox[OverscriptBox[\"r\", \"^\"], \"2\"], \n",
       "\n",
       " \n",
       ">                      \" \", RowBox[{\"(\", \n",
       "\n",
       " \n",
       ">                        RowBox[{RowBox[{\"10\", \" \", \n",
       "\n",
       " \n",
       ">                            SuperscriptBox[SubscriptBox[OverscriptBox[\"r\", \"^\"], \n",
       "\n",
       " \n",
       ">                              \"2\"], \"′′′\"], \" \", \n",
       "\n",
       " \n",
       ">                            SuperscriptBox[OverscriptBox[\"ω\", \"^\"], \"′\"]}], \"+\", \n",
       "\n",
       " \n",
       ">                          RowBox[{\"10\", \" \", \n",
       "\n",
       " \n",
       ">                            SuperscriptBox[SubscriptBox[OverscriptBox[\"r\", \"^\"], \n",
       "\n",
       " \n",
       ">                              \"2\"], \"′′\"], \" \", \n",
       "\n",
       " \n",
       ">                            SuperscriptBox[OverscriptBox[\"ω\", \"^\"], \"′′\"]}], \"+\", \n",
       "\n",
       " \n",
       ">                          RowBox[{SubscriptBox[OverscriptBox[\"r\", \"^\"], \"2\"], \" \", \n",
       "\n",
       " \n",
       ">                            SuperscriptBox[OverscriptBox[\"ω\", \"^\"], \"′′′′\"]}]}], \")\"}]\\\n",
       "\n",
       " \n",
       ">   }]}], \"+\", RowBox[{\"60\", \" \", SuperscriptBox[RowBox[{\"(\", \n",
       "\n",
       " \n",
       ">                       SuperscriptBox[SubscriptBox[OverscriptBox[\"r\", \"^\"], \"2\"], \n",
       "\n",
       " \n",
       ">                        \"′\"], \")\"}], \"2\"], \" \", \n",
       "\n",
       " \n",
       ">                    SuperscriptBox[OverscriptBox[\"ω\", \"^\"], \"′′\"]}], \"+\", \n",
       "\n",
       " \n",
       ">                  RowBox[{\"90\", \" \", \n",
       "\n",
       " \n",
       ">                    SuperscriptBox[SubscriptBox[OverscriptBox[\"r\", \"^\"], \"2\"], \"′\"], \n",
       "\n",
       " \n",
       ">                    \" \", SuperscriptBox[SubscriptBox[OverscriptBox[\"r\", \"^\"], \"2\"], \n",
       "\n",
       " \n",
       ">                     \"′′\"], \" \", SuperscriptBox[OverscriptBox[\"ω\", \"^\"], \"′\"]}]}],\\\n",
       " \n",
       ">    \")\"}]\\\n",
       "}], \"+\", RowBox[{SuperscriptBox[SubscriptBox[OverscriptBox[\"r\", \"^\"], \"2\"],\\\n",
       " \n",
       ">    \"′\"], \n",
       "           \" \", RowBox[{\"(\", RowBox[{RowBox[{\"30\", \" \", \n",
       "\n",
       " \n",
       ">                    SubscriptBox[OverscriptBox[\"r\", \"^\"], \"2\"], \" \", \n",
       "\n",
       " \n",
       ">                    SuperscriptBox[OverscriptBox[\"ω\", \"^\"], \"′\"], \" \", \n",
       "\n",
       " \n",
       ">                    SuperscriptBox[OverscriptBox[\"ω\", \"^\"], \"′′\"]}], \"+\", \n",
       "\n",
       " \n",
       ">                  RowBox[{\"45\", \" \", \n",
       "\n",
       " \n",
       ">                    SuperscriptBox[SubscriptBox[OverscriptBox[\"r\", \"^\"], \"2\"], \"′\"], \n",
       "\n",
       " \n",
       ">                    \" \", SuperscriptBox[RowBox[{\"(\", \n",
       "\n",
       " \n",
       ">                       SuperscriptBox[OverscriptBox[\"ω\", \"^\"], \"′\"], \")\"}], \"2\"]}], \n",
       "\n",
       " \n",
       ">                  \"-\", SuperscriptBox[SubscriptBox[OverscriptBox[\"r\", \"^\"], \"2\"], \n",
       "\n",
       " \n",
       ">                   \"′′′′′\"]}], \")\"}]}], \"-\", \n",
       "\n",
       " \n",
       ">            RowBox[{\"60\", \" \", SuperscriptBox[OverscriptBox[\"ω\", \"^\"], \"4\"], \" \", \n",
       "\n",
       " \n",
       ">              RowBox[{\"(\", RowBox[{SuperscriptBox[RowBox[{\"(\", \n",
       "\n",
       " \n",
       ">                     SuperscriptBox[SubscriptBox[OverscriptBox[\"r\", \"^\"], \"2\"], \n",
       "\n",
       " \n",
       ">                      \"′\"], \")\"}], \"2\"], \"-\", \n",
       "\n",
       " \n",
       ">                  RowBox[{\"2\", \" \", SubscriptBox[OverscriptBox[\"r\", \"^\"], \"2\"], \" \", \n",
       "\n",
       " \n",
       ">                    SuperscriptBox[SubscriptBox[OverscriptBox[\"r\", \"^\"], \"2\"],\\\n",
       " \n",
       ">    \"′′\"]}]}\\\n",
       "], \")\"}]}], \"+\", RowBox[{\"120\", \" \", SubscriptBox[OverscriptBox[\"r\",\\\n",
       " \n",
       ">    \"^\"], \"2\"], \n",
       "           \" \", SuperscriptBox[OverscriptBox[\"ω\", \"^\"], \"3\"], \" \", \n",
       "\n",
       " \n",
       ">              RowBox[{\"(\", RowBox[{RowBox[{\"2\", \" \", \n",
       "\n",
       " \n",
       ">                    SuperscriptBox[SubscriptBox[OverscriptBox[\"r\", \"^\"], \"2\"], \"′\"], \n",
       "\n",
       " \n",
       ">                    \" \", SuperscriptBox[OverscriptBox[\"ω\", \"^\"], \"′\"]}], \"+\", \n",
       "\n",
       " \n",
       ">                  RowBox[{SubscriptBox[OverscriptBox[\"r\", \"^\"], \"2\"], \" \", \n",
       "\n",
       " \n",
       ">                    SuperscriptBox[OverscriptBox[\"ω\", \"^\"], \"′′\"]}]}], \")\"}]}], \"+\", \n",
       "\n",
       " \n",
       ">            RowBox[{\"15\", \" \", SuperscriptBox[OverscriptBox[\"ω\", \"^\"], \"2\"], \" \", \n",
       "\n",
       " \n",
       ">              RowBox[{\"(\", RowBox[{RowBox[{\"12\", \" \", \n",
       "\n",
       " \n",
       ">                    SubsuperscriptBox[OverscriptBox[\"r\", \"^\"], \"2\", \"2\"], \" \", \n",
       "\n",
       " \n",
       ">                    SuperscriptBox[RowBox[{\"(\", \n",
       "\n",
       " \n",
       ">                       SuperscriptBox[OverscriptBox[\"ω\", \"^\"], \"′\"], \")\"}], \"2\"]}], \n",
       "\n",
       " \n",
       ">                  \"+\", RowBox[{\"2\", \" \", \n",
       "\n",
       " \n",
       ">                    SuperscriptBox[SubscriptBox[OverscriptBox[\"r\", \"^\"], \"2\"], \"′\"], \n",
       "\n",
       " \n",
       ">                    \" \", SuperscriptBox[SubscriptBox[OverscriptBox[\"r\", \"^\"], \"2\"], \n",
       "\n",
       " \n",
       ">                     \"′′′\"]}], \"-\", RowBox[{SubscriptBox[OverscriptBox[\"r\", \"^\"], \n",
       "\n",
       " \n",
       ">                     \"2\"], \" \", SuperscriptBox[SubscriptBox[OverscriptBox[\"r\", \"^\"], \n",
       "\n",
       " \n",
       ">                      \"2\"], \"′′′′\"]}]}], \")\"}]}], \"-\", \n",
       "\n",
       " \n",
       ">            RowBox[{RowBox[{\"48\"}], \" \", \n",
       "\n",
       " \n",
       ">              SubsuperscriptBox[OverscriptBox[\"r\", \"^\"], \"2\", \"2\"], \" \", \n",
       "\n",
       " \n",
       ">              SuperscriptBox[OverscriptBox[\"ω\", \"^\"], \"6\"]}]}], \")\"}]}],\\\n",
       " \n",
       ">    TraditionalForm]\n"
      ]
     },
     "execution_count": 81,
     "metadata": {
      "text/html": [],
      "text/plain": []
     },
     "output_type": "execute_result"
    }
   ],
   "source": [
    "dEdtTemp = RHSEnegryLagrange[[1]] //. Fh5Replacement;\n",
    "dEdt = Simplify[dEdtTemp/Subscript[\\[Epsilon], G], Trig -> True];\n",
    "dEdt // TraditionalForm"
   ]
  },
  {
   "cell_type": "markdown",
   "metadata": {},
   "source": [
    "<span style=\"color:brown\">**NB:**</span> В файлах Binary.pdf и binary_catch1.pdf выводится <span style=\"color:green\">**точно такие же**</span> выражения для правой части (dE/dt),\n",
    "а именно $I_E = I_1\\hat{\\omega} + I_2\\frac{\\dot{r}}{r}$, где\n",
    "$$\n",
    "I_2 = 2\\hat{r}_2 \\left[ -40\\hat{r}_2\\hat{\\omega}^3\\hat{\\omega}^{(1)} - 20\\hat{\\omega}^4\\hat{r}_2^{(1)} + 5\\hat{r}_2\\hat{\\omega}\\hat{\\omega}^{(3)} + 10\\hat{r}_2\\hat{\\omega}^{(1)}\\hat{\\omega}^{(2)} + 10\\hat{\\omega}^2\\hat{r}_2^{(3)} + 30\\hat{\\omega}\\hat{\\omega}^{(1)}\\hat{r}_2^{(2)} + 20\\hat{\\omega}\\hat{\\omega}^{(2)}\\hat{r}_2^{(1)} + 15\\hat{r}_2^{(1)}(\\hat{\\omega}^{(1)})^2 - \\frac{1}{3}\\hat{r}_2^{(5)} \\right]\n",
    "$$"
   ]
  },
  {
   "cell_type": "code",
   "execution_count": 83,
   "metadata": {
    "vscode": {
     "languageId": "wolfram"
    }
   },
   "outputs": [
    {
     "data": {
      "text/html": [
       "<div><pre style=\"&#102;&#111;&#110;&#116;&#45;&#102;&#97;&#109;&#105;&#108;&#121;&#58;&#32;&#34;&#67;&#111;&#117;&#114;&#105;&#101;&#114;&#32;&#78;&#101;&#119;&#34;&#44;&#67;&#111;&#117;&#114;&#105;&#101;&#114;&#44;&#109;&#111;&#110;&#111;&#115;&#112;&#97;&#99;&#101;&#59;\">&#48;</pre></div>"
      ],
      "text/plain": [
       "0"
      ]
     },
     "execution_count": 83,
     "metadata": {
      "text/html": [],
      "text/plain": []
     },
     "output_type": "execute_result"
    }
   ],
   "source": [
    "I2 = 2 * Subscript[OverHat[r], 2][OverHat[t]] * (\n",
    "    -40 * Subscript[OverHat[r], 2][OverHat[t]] *\n",
    "    OverHat[\\[Omega]][OverHat[t]]^3 * Derivative[1][OverHat[\\[Omega]]][OverHat[t]]\n",
    "    - 20 * OverHat[\\[Omega]][OverHat[t]]^4 *\n",
    "    Derivative[1][Subscript[OverHat[r], 2]][OverHat[t]]\n",
    "    + 5 * Subscript[OverHat[r], 2][OverHat[t]] *\n",
    "    OverHat[\\[Omega]][OverHat[t]] * Derivative[3][OverHat[\\[Omega]]][OverHat[t]]\n",
    "    + 10 * Subscript[OverHat[r], 2][OverHat[t]] *\n",
    "    Derivative[1][OverHat[\\[Omega]]][OverHat[t]] *\n",
    "    Derivative[2][OverHat[\\[Omega]]][OverHat[t]]\n",
    "    + 10 * OverHat[\\[Omega]][OverHat[t]]^2 *\n",
    "    Derivative[3][Subscript[OverHat[r], 2]][OverHat[t]]\n",
    "    + 30 * OverHat[\\[Omega]][OverHat[t]] *\n",
    "    Derivative[1][OverHat[\\[Omega]]][OverHat[t]] *\n",
    "    Derivative[2][Subscript[OverHat[r], 2]][OverHat[t]]\n",
    "    + 20 * OverHat[\\[Omega]][OverHat[t]] *\n",
    "    Derivative[2][OverHat[\\[Omega]]][OverHat[t]] *\n",
    "    Derivative[1][Subscript[OverHat[r], 2]][OverHat[t]]\n",
    "    + 15 * Derivative[1][Subscript[OverHat[r], 2]][OverHat[t]] *\n",
    "    Derivative[1][OverHat[\\[Omega]]][OverHat[t]]^2\n",
    "    - (1/3) * Derivative[5][Subscript[OverHat[r], 2]][OverHat[t]]\n",
    ");\n",
    "Simplify[(I2*D[OverHat[r][OverHat[t]], OverHat[t]]/OverHat[r][OverHat[t]] + I1*OverHat[\\[Omega]][OverHat[t]] /. ToR2Replacement) - dEdt]"
   ]
  },
  {
   "cell_type": "markdown",
   "metadata": {},
   "source": [
    "# Итоговые $I_J$, $I_E$\n",
    "\n",
    "$$\n",
    "\\begin{align}\n",
    "\\tag{IJ}\\\n",
    "I_J &= \\hat{r}_2 \\left[ 120\\hat{r}_2^{(1)}\\hat{\\omega}^2\\hat{\\omega}^{(1)} - 5\\hat{r}_2^{(1)}\\hat{\\omega}^{(3)} - 16\\hat{r}_2\\hat{\\omega}^5 - 10\\hat{r}_2^{(2)}\\hat{\\omega}^{(2)} + 60\\hat{r}_2\\hat{\\omega}(\\hat{\\omega}^{(1)})^2\n",
    "- 10\\hat{r}_2^{(3)}\\hat{\\omega}^{(1)} + 40\\hat{r}_2^{(2)}\\hat{\\omega}^3 - 5\\hat{r}_2^{(4)}\\hat{\\omega} - \\hat{r}_2\\hat{\\omega}^{(4)} + 40\\hat{r}_2\\hat{\\omega}^2\\hat{\\omega}^{(2)} \\right]\n",
    "\\\\\n",
    "\\tag{IE}\n",
    "I_E &= I_J\\hat{\\omega} + \\hat{r}_2^{(1)} \\left[ -40\\hat{r}_2\\hat{\\omega}^3\\hat{\\omega}^{(1)} - 20\\hat{\\omega}^4\\hat{r}_2^{(1)} + 5\\hat{r}_2\\hat{\\omega}\\hat{\\omega}^{(3)} + 10\\hat{r}_2\\hat{\\omega}^{(1)}\\hat{\\omega}^{(2)} + 10\\hat{\\omega}^2\\hat{r}_2^{(3)} + 30\\hat{\\omega}\\hat{\\omega}^{(1)}\\hat{r}_2^{(2)} + 20\\hat{\\omega}\\hat{\\omega}^{(2)}\\hat{r}_2^{(1)} + 15\\hat{r}_2^{(1)}(\\hat{\\omega}^{(1)})^2 - \\frac{1}{3}\\hat{r}_2^{(5)} \\right]\n",
    "\\end{align}\n",
    "$$"
   ]
  },
  {
   "cell_type": "markdown",
   "metadata": {
    "vscode": {
     "languageId": "wolfram"
    }
   },
   "source": [
    "# Исключения из рассмотрения $u \\equiv 0$ и $r_p \\equiv 0$.\n",
    "\n",
    "Сохранение момента импульса\n",
    "$r_p v_p = v_{\\infty} b$.\n",
    "\n",
    "Здесь $r_p$ - расстояние до перицентра, а $v_p$ - скорость пролетающего тела в нем.\n",
    "\n",
    "Минимальная длина гравитационной волны $\\lambda_\\text{gw} \\sim cT_\\text{gw}$\n",
    "\n",
    "$T_\\text{gw} \\sim \\frac{r_p}{v_p} = \\frac{r_p^2}{v_{\\infty} b}$\n",
    "\n",
    "Тогда $\\lambda_\\text{gw} \\sim \\frac{c}{v_{\\infty}}\\frac{r_p^2}{b}$.\n",
    "\n",
    "Условие медленного движения есть\n",
    "\n",
    "$r_p \\ll \\lambda_\\text{gw}$ откуда получаем\n",
    "\n",
    "$\\frac{v_{\\infty}}{с} \\ll \\frac{r_p}{b} = \\frac{v_\\infty}{v_p} \\lesssim 1$.\n",
    "\n",
    "Или в безразмерном виде\n",
    "\n",
    "$u = \\frac{v_{\\infty} t_0}{b} \\ll \\frac{c t_0}{b} = \\sqrt{\\frac{c^2 b}{G M}}$.\n",
    "\n",
    "Далее рассмотрим условие слабой гравитации\n",
    "\n",
    "$r_p \\gg r_s = \\frac{2GM}{c^2}$\n",
    "\n",
    "Это исключает $r_p \\equiv 0$.\n",
    "\n",
    "Так как $r_p = b\\frac{\\sqrt{u^4 + 1} - 1}{u^2}$,\n",
    "\n",
    "то для малых $u$ получим\n",
    "\n",
    "$u \\gg \\sqrt{\\frac{2 r_s}{b}} = 2\\frac{b}{t_0 c}$.\n",
    "\n",
    "Объединяя условия на $u$ можно написать\n",
    "\n",
    "$\\sqrt{\\frac{2 r_s}{b}} = \\frac{2b}{t_0 c} \\ll u \\ll \\frac{c t_0}{b} = \\sqrt{\\frac{2 b}{r_s}}$.\n",
    "\n",
    "Откуда следует, что при достаточно большом прицельном расстоянии у нас может быть сколь угодно малая скорость $u$,\n",
    "но исключает $u \\equiv 0$."
   ]
  },
  {
   "cell_type": "markdown",
   "metadata": {},
   "source": [
    "# Попытка численного решения начального уравнения движения\n",
    "\n",
    "$$\n",
    "\\hat{r}_k^{(2)} + \\frac{\\hat{r}_k}{\\hat{r}^3} = - \\epsilon_G\\hat{f}_{ki}^{(5)}\\hat{r}_i\n",
    "$$"
   ]
  },
  {
   "cell_type": "code",
   "execution_count": 103,
   "metadata": {
    "vscode": {
     "languageId": "wolfram"
    }
   },
   "outputs": [
    {
     "data": {
      "text/html": [
       "<div><img alt=\"Output\" src=\"data:image/png;base64,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\"></div>"
      ],
      "text/plain": [
       "  ^\n",
       "{{r -> InterpolatingFunction[{{0., 95.}}, <>], \n",
       " \n",
       ">    ϕ -> InterpolatingFunction[{{0., 95.}}, <>]}}"
      ]
     },
     "execution_count": 103,
     "metadata": {
      "text/html": [],
      "text/plain": []
     },
     "output_type": "execute_result"
    }
   ],
   "source": [
    "Clear[rxNum, ryNum, uxNum, uyNum, tMaxNum, rhRules, icsNum, MaxDNum, epsilonGNum]\n",
    "\n",
    "rxNum = 10^3;\n",
    "uxNum = 0;\n",
    "\n",
    "(* зафиксированные *)\n",
    "(* ryNum = 1; *)\n",
    "ryNum = 0;\n",
    "uyNum = 0;\n",
    "\n",
    "(* Newton *)\n",
    "(* epsilonGNum = 0; *)\n",
    "epsilonGNum = 10^(-3);\n",
    "tMaxNum = 9.5*10^1;\n",
    "\n",
    "rhNum = {\n",
    "  Subscript[OverHat[r], \"x\"][OverHat[t]], Subscript[OverHat[r], \"y\"][OverHat[t]]\n",
    "  };\n",
    "D[rhNum, OverHat[t]];\n",
    "\n",
    "rhRules[MaxDNum_] := Join[\n",
    "  Thread[rhNum -> ({rxNum, ryNum} /. OverHat[t] -> 0)],\n",
    "  Thread[D[rhNum, OverHat[t]] -> ({uxNum, uyNum} /. OverHat[t] -> 0)],\n",
    "  Flatten[Table[\n",
    "    Thread[D[rhNum, {OverHat[t], i}] -> {0, 0}],\n",
    "    {i, 2, Max[MaxDNum, 2]}\n",
    "  ]] /. OverHat[t] -> 0,\n",
    "  {OverHat[t] -> 0}\n",
    "];\n",
    "\n",
    "icsNum[MaxDNum_] := Join[\n",
    "  Simplify[Table[D[OverHat[r][OverHat[t]] -> Sqrt[rhNum.rhNum], {OverHat[t], i}], {i, 0, Max[MaxDNum, 1]}] //. rhRules[MaxDNum]],\n",
    "  Simplify[Table[D[\\[Phi][OverHat[t]] -> ArcTan[rhNum[[1]], rhNum[[2]]], {OverHat[t], i}], {i, 0, Max[MaxDNum, 1]}] //. rhRules[MaxDNum]]\n",
    "];\n",
    "\n",
    "fh5SymbolicNum = Simplify[D[fh, {OverHat[t], 5}], Trig -> True];\n",
    "\n",
    "Fh5ReplacementNum = Flatten[{\n",
    "  Outer[\n",
    "    Superscript[Subscript[OverHat[f], #1, #2], \"(5)\"] -> fh5SymbolicNum[[#1 /. {x -> 1, y -> 2}, #2 /. {x -> 1, y -> 2}]] &,\n",
    "    {x, y}, {x, y}\n",
    "  ]\n",
    "}];\n",
    "\n",
    "sysNum = Simplify[D[rh, {OverHat[t], 2}] + rh/OverHat[r][OverHat[t]]^3 + epsilonGNum*fh5rh //. Fh5ReplacementNum];\n",
    "eqnsNum = {sysNum[[1]] == 0, sysNum[[2]] == 0};\n",
    "solNum = NDSolve[Join[eqnsNum, icsNum[If[epsilonGNum == 0, 1, 4]]] /. Rule -> Equal, {OverHat[r], \\[Phi]}, {OverHat[t], 0, tMaxNum}\n",
    "  (* WorkingPrecision -> 30,\n",
    "  PrecisionGoal -> 20,\n",
    "  AccuracyGoal -> 20,\n",
    "  Method -> \"StiffnessSwitching\",\n",
    "  MaxSteps -> 10^7 *)\n",
    "]"
   ]
  },
  {
   "cell_type": "code",
   "execution_count": 114,
   "metadata": {
    "vscode": {
     "languageId": "wolfram"
    }
   },
   "outputs": [
    {
     "data": {
      "text/html": [
       "<div><img alt=\"Output\" src=\"data:image/png;base64,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\"></div>"
      ],
      "text/plain": [
       "-Graphics-"
      ]
     },
     "execution_count": 114,
     "metadata": {
      "text/html": [],
      "text/plain": []
     },
     "output_type": "execute_result"
    }
   ],
   "source": [
    "tMaxNum2 = tMaxNum;\n",
    "\n",
    "RNum = OverHat[r][t] /. solNum[[1]];\n",
    "PhiNum = \\[Phi][t] /. solNum[[1]];\n",
    "dRDtNum = D[OverHat[r][t] /. solNum[[1]], t];\n",
    "OmegaNum = D[\\[Phi][t] /. solNum[[1]], t];\n",
    "\n",
    "PlotR = Plot[RNum, {t, 0, tMaxNum2},\n",
    "  AxesLabel -> {TraditionalForm[OverHat[t]], TraditionalForm[OverHat[r]]},\n",
    "  PlotRange -> All,\n",
    "  ScalingFunctions -> {\"Linear\", \"Log\"}\n",
    "];\n",
    "\n",
    "PlotRxRy = ParametricPlot[\n",
    "  {RNum Cos[PhiNum], RNum Sin[PhiNum]},\n",
    "  {t, 0, tMaxNum2},\n",
    "  AxesLabel -> {TraditionalForm[Subscript[OverHat[r], \"x\"]], TraditionalForm[Subscript[OverHat[r], \"y\"]]},\n",
    "  PlotRange -> All,\n",
    "  ScalingFunctions -> {\"Linear\", \"Linear\"}\n",
    "];\n",
    "\n",
    "PlotDRDt = Plot[dRDtNum, {t, 0, tMaxNum2},\n",
    "  AxesLabel -> {\n",
    "  TraditionalForm[OverHat[t]],\n",
    "  Style[TraditionalForm[HoldForm[D[OverHat[r], OverHat[t]]]], FontSize -> 7]\n",
    "  },\n",
    "  PlotRange -> All,\n",
    "  ScalingFunctions -> {\"Log\", \"SignedLog\"}\n",
    "];\n",
    "\n",
    "PlotPhi = Plot[PhiNum, {t, 0, tMaxNum2},\n",
    "  AxesLabel -> {TraditionalForm[OverHat[t]], TraditionalForm[OverHat[\\[Phi]]]},\n",
    "  PlotRange -> All,\n",
    "  ScalingFunctions -> {\"Linear\", \"Linear\"},\n",
    "  PlotStyle -> Red\n",
    "];\n",
    "\n",
    "PlotOmega = Plot[OmegaNum, {t, 0, tMaxNum2},\n",
    "  AxesLabel -> {TraditionalForm[OverHat[t]], TraditionalForm[OverHat[\\[Omega]]]},\n",
    "  PlotRange -> All,\n",
    "  ScalingFunctions -> {\"Log\", \"SignedLog\"},\n",
    "  PlotStyle -> Red\n",
    "];\n",
    "\n",
    "GraphicsRow[{PlotR, PlotRxRy, PlotDRDt, PlotPhi, PlotOmega}]"
   ]
  },
  {
   "cell_type": "code",
   "execution_count": 125,
   "metadata": {
    "vscode": {
     "languageId": "wolfram"
    }
   },
   "outputs": [
    {
     "data": {
      "text/html": [
       "<div><img alt=\"Output\" src=\"data:image/png;base64,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\"></div>"
      ],
      "text/plain": [
       "-Graphics-"
      ]
     },
     "execution_count": 125,
     "metadata": {
      "text/html": [],
      "text/plain": []
     },
     "output_type": "execute_result"
    }
   ],
   "source": [
    "EnergyNewtonNum = Energy /. OverHat[\\[Omega]][OverHat[t]] -> D[\\[Phi][OverHat[t]], OverHat[t]] /. OverHat[t] -> 0 /. icsNum[1];\n",
    "\n",
    "EnergyNum = Energy /. {\n",
    "  OverHat[r][OverHat[t]] -> RNum,\n",
    "  D[OverHat[r][OverHat[t]], OverHat[t]] -> dRDtNum,\n",
    "  OverHat[\\[Omega]][OverHat[t]] -> OmegaNum\n",
    "  };\n",
    "\n",
    "plotENewton = Plot[\n",
    "  EnergyNewtonNum, {t, 0, tMaxNum2},\n",
    "  PlotStyle -> Red,\n",
    "  PlotLegends -> {\"E Newton\"}\n",
    "];\n",
    "\n",
    "plotE = Plot[EnergyNum, {t, 0, tMaxNum2},\n",
    "  AxesLabel -> {TraditionalForm[OverHat[t]], \"E\"},\n",
    "  PlotLegends -> {TraditionalForm[\"E\"[OverHat[t]]]},\n",
    "  PlotRange -> All\n",
    "];\n",
    "\n",
    "PlotsE = Show[plotENewton, plotE, PlotRange -> All];\n",
    "\n",
    "AngularMomentumNewtonNum = AngularMomentum /. OverHat[\\[Omega]][OverHat[t]] -> D[\\[Phi][OverHat[t]], OverHat[t]] /. OverHat[t] -> 0 /. icsNum[1];\n",
    "\n",
    "AngularMomentumNum = AngularMomentum /. {\n",
    "  OverHat[r][OverHat[t]] -> RNum,\n",
    "  OverHat[\\[Omega]][OverHat[t]] -> OmegaNum\n",
    "};\n",
    "\n",
    "plotJNewton = Plot[\n",
    "  AngularMomentumNewtonNum, {t, 0, tMaxNum2},\n",
    "  PlotStyle -> Red,\n",
    "  ScalingFunctions -> {\"Log\", \"Linear\"},\n",
    "  PlotLegends -> {\"J Newton\"}\n",
    "];\n",
    "\n",
    "plotJ = Plot[AngularMomentumNum, {t, 0, tMaxNum2},\n",
    "  AxesLabel -> {TraditionalForm[OverHat[t]], \"J\"},\n",
    "  ScalingFunctions -> {\"Log\", \"Linear\"},\n",
    "  PlotLegends -> {TraditionalForm[\"J\"[OverHat[t]]]},\n",
    "  PlotRange -> All\n",
    "];\n",
    "\n",
    "PlotsJ = Show[plotJNewton, plotJ, PlotRange -> All];\n",
    "\n",
    "GraphicsRow[{PlotsE, PlotsJ}]"
   ]
  },
  {
   "cell_type": "markdown",
   "metadata": {},
   "source": [
    "<span style=\"color:brown\">**NB:**</span> Как можно видеть, численное решение при помощи Mathematica с участием пятой производной по времени пока невыполнимая задача."
   ]
  },
  {
   "cell_type": "markdown",
   "metadata": {},
   "source": [
    "# Потеря энергии за один период обращения"
   ]
  },
  {
   "cell_type": "markdown",
   "metadata": {},
   "source": [
    "Энергию гравитационного излучения невозможно локализовать в области меньше длины одной волны.\n",
    "\n",
    "Поэтому мгновенные изменения энергии и момента не имеют физического смысла.\n",
    "\n",
    "Однако, если мы просуммируем энергию и момент по полному периоду обращения, то с такими величинами можно работать.\n",
    "\n",
    "Рассчитаем в **нулевом приближении**, сколько энергии уносится из системы\n",
    "\n",
    "гравитационными волнами за один полный оборот, интегрируя по ньютоновской гиперболической траектории\n",
    "\n",
    "начиная с момента, когда тело \"бесконечно\" далеко, до момента минимального сближения (до перицентра) и обратно:\n",
    "$$\n",
    "\\Delta \\hat{E} = 2 \\epsilon_G \\int\\limits_{\\hat{t}_{\\text{min}}}^{\\infty}I_E(\\hat{t}) d \\hat{t}.\n",
    "$$"
   ]
  },
  {
   "cell_type": "markdown",
   "metadata": {},
   "source": [
    "В приближении Ньютона $I_J$ и $I_E$ равны нулю.\n",
    "Тогда и момент импульса и энергия сохраняются.\n",
    "\n",
    "$\\hat{J} = |\\vec{\\hat{r}} \\times \\vec{\\hat{v}}| = |\\vec{\\hat{r}}_\\infty \\times \\vec{\\hat{v}}_\\infty| = \\hat{r}\\hat{v}_\\infty \\sin(\\phi)$\n",
    "\n",
    "Так как $\\phi = \\pi/2$ на бесконечности, то $\\hat{J} = b\\hat{v}_\\infty = u$,\n",
    "то $u$ - безразмерная скорость на бесконечности.\n",
    "\n",
    "Отсюда следует, что $\\hat{\\omega} = \\frac{u}{\\hat{r}_2}$"
   ]
  },
  {
   "cell_type": "code",
   "execution_count": 126,
   "metadata": {
    "vscode": {
     "languageId": "wolfram"
    }
   },
   "outputs": [],
   "source": [
    "OmegaReplace2 = {\n",
    "   OverHat[\\[Omega]][OverHat[t]] -> u/Subscript[OverHat[r], 2][OverHat[t]],\n",
    "   Derivative[n_][OverHat[\\[Omega]]][OverHat[t]] :> u D[1/Subscript[OverHat[r], 2][OverHat[t]], {OverHat[t], n}]\n",
    "};"
   ]
  },
  {
   "cell_type": "markdown",
   "metadata": {},
   "source": [
    "Заменим переменные\n",
    "$$\n",
    "\\Delta \\hat{E} = - 2 \\epsilon_G \\int\\limits_{\\hat{r}_2^{\\text{min}}}^{\\infty}\\frac{I_E(\\hat{r}_2)}{\\hat{r}_2^{(1)}}d \\hat{r}_2,\n",
    "$$"
   ]
  },
  {
   "cell_type": "markdown",
   "metadata": {},
   "source": [
    "Здесь $\\hat{r}_2^{\\text{min}}$ - квадрат минимального расстояния между объектами:"
   ]
  },
  {
   "cell_type": "code",
   "execution_count": 128,
   "metadata": {
    "vscode": {
     "languageId": "wolfram"
    }
   },
   "outputs": [
    {
     "data": {
      "text/html": [
       "<div><img alt=\"Output\" src=\"data:image/png;base64,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\"></div>"
      ],
      "text/plain": [
       "FormBox[FractionBox[RowBox[{SuperscriptBox[\"u\", \"4\"], \"-\", \n",
       "\n",
       " \n",
       ">         RowBox[{\"2\", \" \", SqrtBox[RowBox[{SuperscriptBox[\"u\", \"4\"], \"+\", \"1\"}]]}],\\\n",
       " \n",
       ">    \"+\", \n",
       "      \"2\"}], SuperscriptBox[\"u\", \"4\"]], TraditionalForm]\n"
      ]
     },
     "execution_count": 128,
     "metadata": {
      "text/html": [],
      "text/plain": []
     },
     "output_type": "execute_result"
    }
   ],
   "source": [
    "rMin2[u_] := (2 + u^4 - 2 Sqrt[1 + u^4])/u^4;\n",
    "rMin2[u] // TraditionalForm"
   ]
  },
  {
   "cell_type": "code",
   "execution_count": 131,
   "metadata": {
    "vscode": {
     "languageId": "wolfram"
    }
   },
   "outputs": [
    {
     "data": {
      "text/html": [
       "<div><img alt=\"Output\" src=\"data:image/png;base64,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\"></div>"
      ],
      "text/plain": [
       "FormBox[RowBox[{FractionBox[RowBox[{\"16\", \" \", SuperscriptBox[\"u\", \"6\"]}], \n",
       "\n",
       " \n",
       ">         RowBox[{SubsuperscriptBox[OverscriptBox[\"r\", \"^\"], \"2\", \"4\"], \" \", \n",
       "\n",
       " \n",
       ">           SuperscriptBox[SubscriptBox[OverscriptBox[\"r\", \"^\"], \"2\"], \"′\"]}]], \"-\", \n",
       "\n",
       " \n",
       ">        FractionBox[RowBox[{\"40\", \" \", SuperscriptBox[\"u\", \"4\"], \" \", \n",
       "\n",
       " \n",
       ">           SuperscriptBox[SubscriptBox[OverscriptBox[\"r\", \"^\"], \"2\"], \"′\"]}], \n",
       "\n",
       " \n",
       ">         SubsuperscriptBox[OverscriptBox[\"r\", \"^\"], \"2\", \"4\"]], \"-\", \n",
       "\n",
       " \n",
       ">        FractionBox[RowBox[{\"4\", \" \", SuperscriptBox[\"u\", \"2\"], \" \", \n",
       "\n",
       " \n",
       ">           SuperscriptBox[RowBox[{\"(\", \n",
       "\n",
       " \n",
       ">              SuperscriptBox[SubscriptBox[OverscriptBox[\"r\", \"^\"], \"2\"], \"′′\"], \")\"}], \n",
       "\n",
       " \n",
       ">            \"2\"]}], RowBox[{SubsuperscriptBox[OverscriptBox[\"r\", \"^\"], \"2\", \"2\"], \" \", \n",
       "\n",
       " \n",
       ">           SuperscriptBox[SubscriptBox[OverscriptBox[\"r\", \"^\"], \"2\"], \"′\"]}]], \"+\", \n",
       "\n",
       " \n",
       ">        FractionBox[RowBox[{\"24\", \" \", SuperscriptBox[\"u\", \"2\"], \" \", \n",
       "\n",
       " \n",
       ">           SuperscriptBox[SubscriptBox[OverscriptBox[\"r\", \"^\"], \"2\"], \"′\"], \" \", \n",
       "\n",
       " \n",
       ">           SuperscriptBox[SubscriptBox[OverscriptBox[\"r\", \"^\"], \"2\"], \"′′\"]}], \n",
       "\n",
       " \n",
       ">         SubsuperscriptBox[OverscriptBox[\"r\", \"^\"], \"2\", \"3\"]], \"+\", \n",
       "\n",
       " \n",
       ">        FractionBox[RowBox[{\"4\", \" \", SuperscriptBox[\"u\", \"2\"], \" \", \n",
       "\n",
       " \n",
       ">           SuperscriptBox[SubscriptBox[OverscriptBox[\"r\", \"^\"], \"2\"], \"′′′′\"]}], \n",
       "\n",
       " \n",
       ">         RowBox[{SubscriptBox[OverscriptBox[\"r\", \"^\"], \"2\"], \" \", \n",
       "\n",
       " \n",
       ">           SuperscriptBox[SubscriptBox[OverscriptBox[\"r\", \"^\"], \"2\"], \"′\"]}]], \"-\", \n",
       "\n",
       " \n",
       ">        FractionBox[RowBox[{\"11\", \" \", SuperscriptBox[\"u\", \"2\"], \" \", \n",
       "\n",
       " \n",
       ">           SuperscriptBox[RowBox[{\"(\", \n",
       "\n",
       " \n",
       ">              SuperscriptBox[SubscriptBox[OverscriptBox[\"r\", \"^\"], \"2\"], \"′\"], \")\"}], \n",
       "\n",
       " \n",
       ">            \"3\"]}], SubsuperscriptBox[OverscriptBox[\"r\", \"^\"], \"2\", \"4\"]], \"-\", \n",
       "\n",
       " \n",
       ">        FractionBox[RowBox[{\"12\", \" \", SuperscriptBox[\"u\", \"2\"], \" \", \n",
       "\n",
       " \n",
       ">           SuperscriptBox[SubscriptBox[OverscriptBox[\"r\", \"^\"], \"2\"], \"′′′\"]}], \n",
       "\n",
       " \n",
       ">         SubsuperscriptBox[OverscriptBox[\"r\", \"^\"], \"2\", \"2\"]], \"+\", \n",
       "\n",
       " \n",
       ">        FractionBox[SuperscriptBox[SubscriptBox[OverscriptBox[\"r\", \"^\"], \"2\"],\\\n",
       " \n",
       ">    \"′′′′′\"], \n",
       "      \"3\"]}], TraditionalForm]\n"
      ]
     },
     "execution_count": 131,
     "metadata": {
      "text/html": [],
      "text/plain": []
     },
     "output_type": "execute_result"
    }
   ],
   "source": [
    "(* Минус учтём сразу *)\n",
    "dEdr = Simplify[-dEdt/D[Subscript[OverHat[r], 2][OverHat[t]], OverHat[t]] //. OmegaReplace2];\n",
    "Expand[Simplify[dEdr]] // TraditionalForm"
   ]
  },
  {
   "cell_type": "markdown",
   "metadata": {},
   "source": [
    "<span style=\"color:brown\">**NB:**</span> Выражение для $dE/dr$ <span style=\"color:green\">**сопадает**</span> с выраженем для интегранта из binary_catch1.pdf, если учесть деление на $\\hat{r}_2^{(1)}$"
   ]
  },
  {
   "cell_type": "markdown",
   "metadata": {},
   "source": [
    "Из сохранения энергии следует, что\n",
    "$\\hat{E} = \\hat{E}_\\infty = \\frac{u^2}{2} = \\left(\\frac{(\\hat{r}^{(1)})^2}{2} + \\frac{\\hat{r}^2 \\hat{\\omega}^2}{2} - \\frac{1}{\\hat{r}}\\right)$\n",
    "\n",
    "Тогда можно найти $\\hat{r}_2^{(1)}$ в приближении Ньютона без диссипации:"
   ]
  },
  {
   "cell_type": "code",
   "execution_count": 134,
   "metadata": {
    "vscode": {
     "languageId": "wolfram"
    }
   },
   "outputs": [
    {
     "data": {
      "text/html": [
       "<div><img alt=\"Output\" src=\"data:image/png;base64,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\"></div>"
      ],
      "text/plain": [
       "FormBox[RowBox[{RowBox[{\"-\", \"2\"}], \" \", \n",
       "\n",
       " \n",
       ">        SqrtBox[RowBox[{RowBox[{SubscriptBox[OverscriptBox[\"r\", \"^\"], \"2\"], \" \", \n",
       "\n",
       " \n",
       ">             SuperscriptBox[\"u\", \"2\"]}], \"+\", \n",
       "\n",
       " \n",
       ">           RowBox[{\"2\", \" \", SqrtBox[SubscriptBox[OverscriptBox[\"r\", \"^\"], \"2\"]]}],\\\n",
       " \n",
       ">    \"-\", \n",
       "        SuperscriptBox[\"u\", \"2\"]}]]}], TraditionalForm]\n"
      ]
     },
     "execution_count": 134,
     "metadata": {
      "text/html": [],
      "text/plain": []
     },
     "output_type": "execute_result"
    }
   ],
   "source": [
    "eq = Energy - u^2/2 //. Flatten[{\n",
    "  ToR2Replacement,\n",
    "  OmegaReplace2,\n",
    "  D[Subscript[OverHat[r], 2][OverHat[t]], OverHat[t]]^2 -> x^2\n",
    "}];\n",
    "\n",
    "sol = Solve[eq == 0, x][[1]];\n",
    "\n",
    "x /. sol[[1]] // TraditionalForm"
   ]
  },
  {
   "cell_type": "markdown",
   "metadata": {},
   "source": [
    "А также $\\hat{r}_2^{(i)}$ для $i = 1\\dots5$"
   ]
  },
  {
   "cell_type": "code",
   "execution_count": 138,
   "metadata": {
    "vscode": {
     "languageId": "wolfram"
    }
   },
   "outputs": [
    {
     "data": {
      "text/html": [
       "<div><img alt=\"Output\" src=\"data:image/png;base64,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\"></div>"
      ],
      "text/plain": [
       "FormBox[RowBox[{\"{\", RowBox[{RowBox[{RowBox[{\"-\", \"2\"}], \" \", \n",
       "\n",
       " \n",
       ">            SqrtBox[RowBox[{RowBox[{SubscriptBox[OverscriptBox[\"r\", \"^\"], \"2\"], \" \", \n",
       "\n",
       " \n",
       ">                 SuperscriptBox[\"u\", \"2\"]}], \"+\", \n",
       "\n",
       " \n",
       ">               RowBox[{\"2\", \" \", SqrtBox[SubscriptBox[OverscriptBox[\"r\", \"^\"], \"2\"]]}],\\\n",
       " \n",
       ">    \n",
       "            \"-\", SuperscriptBox[\"u\", \"2\"]}]]}], \",\", \n",
       "\n",
       " \n",
       ">          RowBox[{\"2\", \" \", RowBox[{\"(\", \n",
       "           RowBox[{FractionBox[\"1\", \n",
       "\n",
       " \n",
       ">                 SqrtBox[SubscriptBox[OverscriptBox[\"r\", \"^\"], \"2\"]]], \"+\", \n",
       "\n",
       " \n",
       ">                SuperscriptBox[\"u\", \"2\"]}], \")\"}]}], \",\", \n",
       "\n",
       " \n",
       ">          FractionBox[RowBox[{\"2\", \" \", \n",
       "\n",
       " \n",
       ">             SqrtBox[RowBox[{RowBox[{SubscriptBox[OverscriptBox[\"r\", \"^\"], \"2\"], \" \", \n",
       "\n",
       " \n",
       ">                  SuperscriptBox[\"u\", \"2\"]}], \"+\", \n",
       "\n",
       " \n",
       ">                RowBox[{\"2\", \" \", SqrtBox[SubscriptBox[OverscriptBox[\"r\", \"^\"], \n",
       "\n",
       " \n",
       ">                    \"2\"]]}], \"-\", SuperscriptBox[\"u\", \"2\"]}]]}], \n",
       "\n",
       " \n",
       ">           SubsuperscriptBox[OverscriptBox[\"r\", \"^\"], \"2\", RowBox[{\"3\", \"/\", \"2\"}]]], \n",
       "\n",
       " \n",
       ">          \",\", FractionBox[RowBox[{\"2\", \" \", \n",
       "\n",
       " \n",
       ">             RowBox[{\"(\", RowBox[{RowBox[{\"2\", \" \", \n",
       "\n",
       " \n",
       ">                   SubscriptBox[OverscriptBox[\"r\", \"^\"], \"2\"], \" \", \n",
       "\n",
       " \n",
       ">                   SuperscriptBox[\"u\", \"2\"]}], \"+\", \n",
       "\n",
       " \n",
       ">                 RowBox[{\"5\", \" \", SqrtBox[SubscriptBox[OverscriptBox[\"r\", \"^\"], \n",
       "\n",
       " \n",
       ">                     \"2\"]]}], \"-\", RowBox[{\"3\", \" \", SuperscriptBox[\"u\", \"2\"]}]}],\\\n",
       " \n",
       ">    \")\"}\\\n",
       "]}], SubsuperscriptBox[OverscriptBox[\"r\", \"^\"], \"2\", RowBox[{\"5\", \"/\",\\\n",
       " \n",
       ">    \"2\"}]]], \",\", \n",
       "       FractionBox[RowBox[{\"2\", \" \", \n",
       "\n",
       " \n",
       ">             SqrtBox[RowBox[{RowBox[{SubscriptBox[OverscriptBox[\"r\", \"^\"], \"2\"], \" \", \n",
       "\n",
       " \n",
       ">                  SuperscriptBox[\"u\", \"2\"]}], \"+\", \n",
       "\n",
       " \n",
       ">                RowBox[{\"2\", \" \", SqrtBox[SubscriptBox[OverscriptBox[\"r\", \"^\"], \n",
       "\n",
       " \n",
       ">                    \"2\"]]}], \"-\", SuperscriptBox[\"u\", \"2\"]}]], \" \", \n",
       "\n",
       " \n",
       ">             RowBox[{\"(\", RowBox[{RowBox[{\"6\", \" \", \n",
       "\n",
       " \n",
       ">                   SubscriptBox[OverscriptBox[\"r\", \"^\"], \"2\"], \" \", \n",
       "\n",
       " \n",
       ">                   SuperscriptBox[\"u\", \"2\"]}], \"+\", \n",
       "\n",
       " \n",
       ">                 RowBox[{\"20\", \" \", SqrtBox[SubscriptBox[OverscriptBox[\"r\", \"^\"], \n",
       "\n",
       " \n",
       ">                     \"2\"]]}], \"-\", RowBox[{\"15\", \" \", SuperscriptBox[\"u\", \"2\"]}]}],\\\n",
       " \n",
       ">    \")\"}\\\n",
       "]}], SubsuperscriptBox[OverscriptBox[\"r\", \"^\"], \"2\", RowBox[{\"7\", \"/\",\\\n",
       " \n",
       ">    \"2\"}]]]}], \"}\"}]\\\n",
       ", TraditionalForm]\n"
      ]
     },
     "execution_count": 138,
     "metadata": {
      "text/html": [],
      "text/plain": []
     },
     "output_type": "execute_result"
    }
   ],
   "source": [
    "replacementRule = D[Subscript[OverHat[r], 2][OverHat[t]], OverHat[t]] :> x /. sol[[1]];\n",
    "\n",
    "(* Рекурсивно вычисляем производные *)\n",
    "dr2 = NestList[\n",
    "   Simplify[D[#, OverHat[t]] /. replacementRule] &,\n",
    "   x /. sol[[1]],\n",
    "   4\n",
    "];\n",
    "\n",
    "dr2 // TraditionalForm"
   ]
  },
  {
   "cell_type": "markdown",
   "metadata": {},
   "source": [
    "Заменяя вхождение **всех** производных в выражении для $dE/dr$, получим"
   ]
  },
  {
   "cell_type": "code",
   "execution_count": 152,
   "metadata": {
    "vscode": {
     "languageId": "wolfram"
    }
   },
   "outputs": [
    {
     "data": {
      "text/html": [
       "<div><img alt=\"Output\" src=\"data:image/png;base64,iVBORw0KGgoAAAANSUhEUgAAAnMAAABZCAIAAADaejUgAAAAzXpUWHRSYXcgcHJvZmlsZSB0eXBlIGV4aWYAAHjabU/bDQMhDPtnio4QEnBgHK5HpW7Q8WsOqoqqlogd54ES+uv5CLcBjRJS9oIKCJFqqtooikxMjlKveMFNdLmbH3KdIjZa+VtAX/6x+47JWn4Wrf1i4wdqS2tgLTKdfmwzP1a/tlL2RSYb6kfE/3kyV2RET4xJxR2VugRKErJKdjxwB9gYcaqkO7nDnWPw0WFtDA5o9727BxiNc5xg42VrZGOk5mi8tJEba1mPVb0OCW8h4VqVxLx6agAAAAlwSFlzAAAWJQAAFiUBSVIk8AAAADx0RVh0U29mdHdhcmUAQ3JlYXRlZCB3aXRoIHRoZSBXb2xmcmFtIExhbmd1YWdlIDogd3d3LndvbGZyYW0uY29tXKKmhQAAACF0RVh0Q3JlYXRpb24gVGltZQAyMDI1OjAzOjI1IDEzOjMxOjU1E4rupAAAIABJREFUeF7tnXXYHbXyxynuLsVarECLuxZ31+KuF724uxZ3l+IUKMWKaykUh4te3Cnurr/P787zhJC17G52z57zzvmDp+w7O5l8k81kJJNuf/3110j6UwQUAUVAEVAEFIFACHRTzRoISWWjCLQHAr///vsll1zy0EMPTTnllJtsssk888yTIvcbb7wxYMCADz74YOaZZ952220nn3zy9uhkp0jJGH388cfle7Pjjjuee+655fkoB08EVLN6AqVkikCHINCvX7+77767d+/eTzzxxJ9//oni3GKLLey+sdv+9ddfxxhjjFtvvXXdddeF5o8//oBgkkkmGT58eK9evToEiMZ3gw1Nz549X3755THHHLOksOONN97EE09ckom+ngMBvqL2+rHjvvzyy7fffvvddtvt5ptvDi78k08+ufvuuwdn25UZKqTNGf3bb7+d6f39998j0rBhw1gp5ptvPke8q666apVVVvnuu++6d+9+7bXX/vbbbxi4CyywAMTrrLNO+b68/vrrBx10EOr8mGOO+eSTT8oz7FQOgwcPnm222ZrTuy47cAVWsJGCD9szzzwzdOjQ4GyF4S+//LLEEkvwhY8yyiiyfUC/Bmzr22+/nXHGGSeYYIKAPGtjVSnyhXvRXpA++uijTz31VOHONv/FK664gr2pkbNPnz5LLbWUI/Z66613/vnno18PPfRQ8yfsVz63Hj16lOzjLbfcMtpoo5nvFzv4tddeK8mzU1+X/UdDetdlBy66gvmsEoE16/vvvz/ddNM9//zzFc2GI488cqWVVvroo4+++OKL/v37i3IN2NyWW24Jw3bUrFUjX3hA2wtSPG9M4Pfee69wf9voRQJ4E0444U033WTL/NNPP40//vgjRowACsxW8yf8w2jEueeeu0wHq7ODy0jV2HdXXHHFM844ownideWBi65gPqtESM0K+nPNNdchhxxS3VTAJfXll18a/jiyUISkYwRp8brrrltyySWXXXbZttOsNSBfDOF2hPSoo46aY4452KgW63K7vIVbGIN1+eWXxw9ky4xpsuiii0Z78eGHH/Kt7bXXXmU6WJEdXEakJr876aSTYh41QcIuO3BJK1jmKhFSs2644YZ8q86HmjQtfvjhh/QZA58ff/yR7AlDRhqF46k77LDD+NqdTXexiYiZMv300/PfFVZYoQbNSr/oHXZAMWmdt/yRxxP41VdfBWk0k0nNkGbK40nAoMw555x4RD3pG0sW/YKMqPvtt99YY40lLp+FFlqISKr501ZbbXXiiSdGO4W7aKKJJvrss8/K9LcKO7iMPE1+95133sFnziphCxl23fDvftsNXJCFLmUFy1wlYnKDgXvQoEGoq1dffZUke8xQUh6mmGKK9LSod999d4YZZiC3iDz+JMq77rqLpESct0RWSJFIyQLHt8lhAFy++++//3HHHZfEkDymK6+8kilY8jAA8xVTdYcddkBF4YF5/PHHv/766xxpYPlJ9913X9Yv9qTPPffc1FNPnZ/B32+kIH/ppZfyV0NKN0lF2WCDDXbaaadoixgxpKswgmWEsduqGVJbbDJ0Nt54Yybkaaed5nSHr4UgIpMQ3+bSSy+92mqrsaNyaK6//npQ4sAJHIKgEcuEoTn++OPZLDLPZ5pppvXXX59jLd26dXOIiX3gEiSIjhlNQu+qq66K1s+UKvMLYjLce++9fK2ff/65SQ9m80rW0mOPPUa2gd0En9i88857ww03LLPMMplN+xPQNSY/dvBJJ53k/1ZhyvQZ7jMxaNqTrLCQ5kUWYXYz//nPf2xWAdeNMhJWPXDwv+CCC5IknGqqqVj57b/mWug8O56pFDJWCWfbginZt29fp23StfkI0zc4BNtJRvj5559jyVikWBFgy/eJzrbjN1F6dtCLLbaYyMBCc+edd8byxPaixSDOZxa4TTfdVFqpwWYdMmSIWUBB284o8d9FGsok5Fm4Rx11VGcoxxlnHDYNTitsdxZeeGEo2T8VECD2lZohdWTA8KI7iyyyiPMc3cBhEubzOeecwzaCXSNkbM4cMjakQMEqFgqNKB/S2o3VaMYomq6CkGOPPbYziCTops8Zzy8IqUhogvm///1vkfDBBx/EE+5Iy9eKEX/xxRcHRyOIHewjVeYM95wYnmQ+ImXSYFRsvfXWNlnYdSNTgBSCqgdOnJFJP1JtbNn8F7pcXc5cwdJXCdcbzMaZ/mBQHnvssQwt55Sle+xk7QBndCWCYNddd40Vndx6lrORRx6ZVEPb75TUT1xVtMh/n3322WmnnXayySYjxhMl3nnnndGCPgzTAcVo4BT8N998I2RVa1aMCTYEkue1xx570NMDDzww15DbxIxuEvIw5xjcrP/8MWWdSUloGUtINH0ozVozpA56hEZk0jqalenEVoOecihTXmHQmeFMzkceecRhgiGFRyFpp1h4vOTFF198EX250UYbvfTSS5iDWGzTTDONyGxkg4xcf0YQCXEanXDCCWussYZZa3DkpMjg+QXBgROT8DTuXxqy84EhQIXTLq2X7HL09bfffhv38n333Recc94Z7jkxPMlCdWe55ZZj/2e4hV03yghZ9cAx5eRzYPHHg4geNT9O5fIcn5Mtv89Cl7e/nitYyirxD83Kl4zcWNZGDrSp7Ov52cPsCIpdDMHAgQOjHTjvvPPk9YMPPtine3fccQcrnUlKIkeRrCVWf2eTftlll80+++xGHfpwTqJhP87IEZGWH34wNgH8wxm/Mk2Yd+nF4osvTobIp59+Kg9xiY8++uj4yYvxT0Ieg37cccfFnE1nC4B8sdDIqh1Ks9YJqdNBusN6HatZxRnDrtF+BaXCQ7SXE/O+8cYbeU7iRrFxSX9r880332abbWyap59+WmQ+/fTTzXPcPAsuuKB94hPDUcgIfyQ14fkFyes4kNhtvPDCC/K/1CXA7Ww44xDDbLK/XHxaJZOYhHl1drADi88M95wYnmShJgzTmFIewi34ulFYyBoGjjlJ36OH35iN6FoWZ/uL8Fzo8vbXcwVLWSX+oVn5ZtZee21HCCJz8jFTHytJPiKUEBDldggI2KA2+FNUNSaxIgTr8OFjZmNra9aHH36YA9T44vPiFUtP1hXuQfNDWswa/hcVGIS/zQQLm744lhAWTOEjfUnIS3Aak8izCyygATVrnZDaHSRMSOgUU/Vf//oX3bFtVkxDmcbEb+xXOPwuz8mJjT7Hq+wJYC4y8vijGXwcgEEM4tzCiuArW0zsJIczHRSBOTMT22j6F4Sa3G677fgwRb3xYRrzF+2OK8Xmueeee7KQIS048MPIxrsTm9+Uq/vV2cEpYiTNcM+J4UmWC4cUYsJn5AGYhSL4ulFMznoGjuOUxJijEuLOYdpTz8D+U96FzrPjniuYrB6xq8Q/NCuTL6odyTDk60rXrPPPPz8EUtjF/MiMEKMeRYUEnl3KJCPlh1AQE91QXn311ejazBc9CbBpcuUGk7y39957kxzhyT8sWSzyDJlx47PLI5cH5Z3ebljN6rSVF1JeZ98Kqnld/XyT+IvefPNNAhOOZhXblB+OGVs8NsISyCQOYj/nWCcPcdh4jlcxgQ1zgt98JmzVjTOD4xYotmjrqMZ0zZou8D777COvEyXA32g7S+BsAq4wiU0hYaNsJPRExiEraQcXxjlphntODE+yYphE3yK+TgpnKG5B+JQcuPIyYPgxb22nToGFrpgYSStYyiqRfeqGl6VgyllnnRUrlpQY5XS581fzZfIBE87hkyBRE1cVm/GU7tEcVvIpp5xC1iJqgxdR2GBKThMc0NBs7bFFZBPNbpqwKOmFSfEw/Aa33XYb8XaSPuyEFCyGA/73w9tcUg2w0AAOC5bnmL311lvXXHMNaoM0S0m/YnVbeeWV6W/mSSSniSTko/m9ePxYNFOc5/6atQZI6aZkL+cCBJOLbb7EMqKalQkgGiWawIXnh+dsQRx48VvYdkP6+BYQ2GaIHcmeIClZz6YkKo+0xICT5En/gniLEA+DiH3vcCC8wqfnOY2jZJ4To6QdXBjnpBnuOTE8yQqj57zI+sCUMA8zx7RMu/UMXBkJ5V1CFew+JXolvwILHW959tcWOMU2SFolsjWrBF9ZYnBQxKJDkCZ2YTJzUVY088MiNC6vKEN8WXg45SAK2ho3Ouft5F3yivFWOdz4XyLYScNGFJO35BVysgwZ6aA8YccQVTarr756Lps1r2Y9+eST11prLRGJxBC0rMngZROQa/4lIQ+GnNPAd+fARQJwUk6pv2atAVJAyLuAooNnmWUWY3dGNSuxbQDH5IoiLP5VRsFRNnIaJ+qPjR2jvAIbJjh1JW2QWeEcXoxtSHLsU9zUKV8QW9WkCcZbpAqWSVP3mRjl7eDCOCfNcM+J4UmW6/tNIWZO2nkexcbUU5h6Bs5TmCQyTkIy7dEFNkGBhY7XffrriJGiFJJWiWzNKjY4ibhJfb7//vshYMNrE+DHQy+K/kBTsjxxOhZDnrQaeYjxmoI11YCh4awh7dIrUdKYmAWGR7zz/CS2JD9Kz/AkeiqjAP+8mpUm2C6ISCTxs5zhaOIwDP/AQM8lQCzyDgeO34G/KdNqby9sSn/NyltVQ1pAs9JHQg8mfT2qWeUDiN0zsSGV4XAi95K7x4ENn0EpsOLjvOFYnn32huOzJF6mNIeLhalCwnBm/cW8XxAr14UXXujT0xSaBk4MI23SDPecGJ5kuQDEyxJLj9+VxTP617xj6i9MDQPnL0wsJUY8H2NKjrrnQifMA/Y3aZXI0KyErNjmM6tSXLiSH+Vsh8XS5Ue5ABspOT/Hj6PxKVhTJRwa0qmIBkn4NuXMT/qYnXnmmbBippr9OJ2SyHGQs7AFNCunBmkdtzYOYVnO6KOpXeV/oUQs8rFocHpSUsmI5MUS5NKsVUOaV7MSJmBA7fMbUc0qgefYlNo111xT5qRzuEucJWRf+ywKBTQrU5pwGlno3NRm/BakFNl1x5ymKSWBSKeeemqmSAG/oMy2DEHTJobP3tFzYniSeWKF/4/zJEza2AQIjBDia9ECbSljWvIGsBoGzhOZJDJxvyX5Tc1bmQudUAbsb9IqkaZZcY5xHAWdlF7ynsgWfcbTaIMiyiNWe5mblpOSe/GJmfsIuWGj5JBIwRoMX8OHAw8iW7GoEoE68qfMT/YQLHn2w3STgiODIgDbEWcZzXWhRCzySXAdfvjh0iiB3ihNLs0aHFLk4bi3DSBZV4hKPp39MLaWL7OIoCNbWrtTUc0qqV6xNit5APwpmigg5UouuuiiWEgLCxzLjUos5vrMV155JZaGK6RYi33SlcN+Qf4fYKMmhiN20gz3nBieZJlYkRFyxBFHMGMJXjC78O1HX+GsF0cNnecpY1r+BrAaBs7+kM2/PatzyxrrmU6YvtAJqgH7m7RKpGlWVivCq5nVl/Dx0m3njArLt6zjRx99dOwU509o39iJiKNY3o3ebwV9rt0ZegsvK6xInpK22PUIc7xqxcr2SnmHzF9KyMpEjh3VnvdCiVjkk75tvA4ic2was79mrQJSot2ZeEIQeySak7jkNRCuxoI3PwwC6PGLyBNcrBJQwDSM4iPD4WwNIcN85HnsZSNlBE4aIBODxJCN0tAFZjL98smXDvgFZaoKQ9C0ieGpWT0nhidZJlxsGcl2xNHFrlFiNNFlkBWGY2MOq5QxLXkDWMMHDhxIPgUoupkJLwTpCx0EYfubtEokalbsITbIscUfnO5JLQhUt/0cvSLux2iAlrxfWUaTTEajupwDEvDPuzvD2SJtmbPw1IOVJ6Tj+oxTlIbAG5WMzI9cR7ixOtsP2ZYm+fTwAYovOrpdzXuhRCzyKZ0SqyjWJPLXrFVAyhbHRo9/S94ZVcDs57FbMdRnplZGO5IaLWTRQyNEHHjuVJIDRqkMcPbZZ0chLSNw0gBJOSR+1JByaNjak8fAHHMOtiWxCvgF+X8jTZsYnprVc2J4kvnDBSXZvww3xUCct5h40VqSKWNa8gawegbO+cDlf5OMKwcQKd/tfzo/ZaGDc9j+Jq0S8ZoVOxVHv2cRIswFuh3NBmIt4LlzsJeOmQr70RMvAiindHmRG+Ki0zTv7oyTQrAy0TWivByxkPOL5Ojm+gySiPPGWU3tvaijO++FEknIx4rKpgSLDUs9etwCen/NWgOkyOMftqQgH74d5ycF5Ylky3PONRGLFb3l7Oc4z4BjhueUGHRwY0rzPFpVOBZef4FTZh1OQlp0EtnQ4gRl+JrSj6vZbAN+Qf7fSNMmhqdm9ZwYnmT+cEFJXF/WItuA4fMkzZNT+w6rpDEtfwNYPQOXCxmbWMqTsf315JC+0MEkbH+TVokYzUoOLUMbVTwYW7HaTtwU0YR+iQJinznFYsSvwjYkFimOK8kKGGsr5N2diT+dG2xoCz8wexmBlR/BY5YwomWeAxZKs0oSCgkRmSccMm/ETEI+VtR77rmHds3FA57rTpRVDZDm0qyxnZVMQnu3xwLUq1cvHhKGsV+RLEFmKWkjDisJrXkehSqvWQkYRzeUiI2XBcmj21DSvGOzecN+Qf5fR8MnRtLe0XNieJL5wyWU1B9l0PG7mMgUlhnp4o7PP31MnUYxheFglwBMl6qegcuLjKHHcQVE/sXV0xc62Ibtb9Iq8f9uSfvHuJLNi2HHFolz6/LDukLRkuhBMNWh53+lKptUo7B/FEclWQmnqHNFFMVlIEu6Gw5fK3/FukIdOgxhxVEkUxWWv3Ish/+a1I+obFKakRRcCkKRaYy/nlgmTyiQS7IZr5MnHH2r0ifYT/Cnd+YkTFJzeITorEys2F8s8mQ6oDwISdr3x5E3gbKhGIIkxUV/+Bt5CMKZfW8gpJkyQ4DuFL89N6aBhnkFDzz/5mOjbp/DR6YKSU8+/HPRkMGIKcwZXPstIghYMHLS2vxQ2Bg0ROYwYsz3iOsF5yRJxXaNfvNK2C/Iv18NnxhJM9xzYniS+cMllKxIhM/Z9OMglCeYaKTqOLdUpYyp0yL5lSQW8LH7X6zZ8IGT0ujkzzs9LbbQwSRsfxNXCXsrgZoxVfFip0isp5vLkCGmQEZ0V4J7E9uUBBOUBMsZGzEpriZGZOyvX79+EKDFffY46bszk2YCN/QoBZvQHFzUBX+WUfzjxQ7IOoLl8gYDiAA7bNiw9A76XCgRi7zJdCC/miRkLCEucsHW5+gUZxZjG2VXZPSHKQIeS1kPpFXYrPDESSBp4ZttthldxgoZPHgwKyYWQ+yF3vItJMUsHHz8bVYmoZxhpegSDgxCTew1sai4ddKxj+XKmqSfU47RyBPwC/L5BoWm4RMjfYZ7TgxPMn/QhJIkAIYY/SqJshxa3WWXXRwm/mOa9waw2gYuLyxCz/0QgMPaFX29wEJXxURNWiX+4Q0mlp7yJTs5SnZXe/TogQM5FjuCQxiLRG2J8EHDCs5eO+XEngiaVEnRbsLnflY5UIGOQYlKo2Iro+xZtlLE8J8HWMMwhJvPK7IzZTsZG+w0HPwvlIgiDyym7JSMJpDS/dj6PnzMJGDbRj8DhNOCAx5J3akBUppmcWGMfGoSxcopyYSxdyqQN0FNCbrJjybY5Nn10gw35gYpeEDnM6x5Bca1ZYwSPg38Q+w4nRMIpHCnfIz8Ca9XrGxhvyDP7kPWzInhP8M9J4YnmT9u+IElLUBS3yn2hFvFed1zTIvdAFbPwPkDYlNKLc/Y65VyLXQ2z4D9TVklsmsw+SCC7qT/KWVpMVhJ9CUrNYgyE5F8dmfodQoI2Beto9IoCBV74atPT2ugyXWhRCzygEzU8IEHHsAALVxhI6mn7QhptC+4Z0gXT0m1JTmAKR173DDIHMBrhwODw2npe6wgbSUx8fmC/AXoIhNDAMmcP/64Qck5KyYbsQA2efw38/6MWOaFbwBr8sDhJ2eXn3QJRLGFLmB/U1aJMJpVDMFMD2eu2ZZOXGx3FlCAiljlvVCifuQr6njT2DKZmdLEPpsmWCh5OvULCoVPnXz46onXiJcF315mbmNUtqpvAKsTjTZqK2WVcDOY0h1QSX/lnhbycYhaFXs971v0hwKSRPVNaeK8HBpLT+oBviCSlgm88eNcOVlg3bt3bwjyjcUtuGAkkuArJiIbnHMTGHbwF9QEePPKwExjQRPjhO89M7fR4Y9hR0yHWBsbQRYNqnRRUYT4gmhr/VWHQNoqEWqDQJqic21yKM4Onw7enRW7CaQ25Csa0GayJcGtcC2RZvbISNXBX1DDkU8XT26G4Hx2rl4Qps17A1gu/kqcgkDKKtGN14KodDK1mBkEU+V8T0U/dmdsxHr37i11cxCe3Fcylgl7kAlSUaMNZ1sP8g0HIax4JASQVUQNZ8pNh+Xccm76BbV8CJIEILzKeRu89Bw6b6yQKphBIGOVCLUlIRGD3Gjsp1AMo3x0dxaLbQ3IVzemzeRM1VaSrguEu5rZHSOVfkENHyBOBibdx9BwybugeOmrRDCbFU1OMir+/UGDBnXeTr/hOzVFPuAAceqXKttDhgzh9FFAtspKEchEAA8cB2wIu2ZSKkFrEchcJUJqVrpK9g1RdI4T2Pc5txaCLtK6Ih9koLHqOA1M9XNz1WAQtspEEVAEOgYBn1UisGYFO847EwTVUEH900iRL485xQ4JdyWV3izPXzkoAopAuyPgs0qE16yghs9dHRotmT2KfEnYFcCSAOrrikDHI+CzSlSiWTseWe2gIqAIKAKKgCKQhECYShGKryKgCCgCioAioAgIAqpZdSYoAoqAIqAIKAIhEVDNGhJN5aUIKAKKgCKgCPwdZ+UOerk8VX+KgCKgCCgCioAi4I8A90Jecsklhv5vzcohZe5h9meklIqAIqAIKAKKgCIAAmhW6qHGaFZFRxFQBBQBRUARUATKI6Bx1vIYKgdFQBFQBBQBReBvBFSz6mxQBBQBRUARUARCIqCaNSSayksRUAQUAUVAEVDNqnNAEVAEFAFFQBEIiYBq1pBoKi9FQBFQBBQBRUA1q84BRUARUAQUAUUgJAJakT8kmsqrvRDYeuutBw4c2F4yq7RNQ4BZdOaZZzZNKpWntQioZm0t/tp6KxGYe+65qY6y7LLLtlIIbbvNEZhooom6d+/e5p1Q8QMjoJo1MKDKrl0Q+OOPP8YZZ5znn39+5plnbheZVU5FQBFoCwQ0ztoWw6RChkfgtdde69at24wzzhietXJUBBSBro2AatauPf5duPcvvPBCnz59RhlllC6MgXZdEVAEKkFAvcGVwKpMbQQGDx78wQcfOJgQ3USxRYF64403BgwYAD1OWoKgk08+eUVgHnrooe++++5ll11WEf8uzvbqq69++eWXy4PQs2fP7bbbrjwf5aAI1ImAatY60e6KbX3zzTdTTTXVjz/+6HT+/vvvX3rppc3Dn3/+ecwxx7z11lvXXXfdP//8kyAof5pkkkmGDx/eq1evKoBbe+21F1tssb333rsK5sqTbROe9vKpPYz+vvvuq3gqAu2FgGrW9hqv9pOWAwm33XYbi2OPHj1E+lNOOWXQoEEjRowwntjvvvsO7fvf//53/vnnP+2001Cujz76KDrvySefXGeddSCuotss2ci20korVcG8i/P8/vvvJ5hggvfff59h7eJQaPe7JgKqWbvmuNfX63PPPXeTTTYZf/zxTZMLLLAAx10uvPBC8+S666674IILOBf46quvHnHEEfIcfbz66qujj/HZBhcXG3q88cZ77733pp566uDMPRlil+MyHTZsGMY6vvE11ljD88Xmkw0dOnSDDTZg89R8UTMl7OBhyuy7EhRH4C/9KQI1IvD2228zWe+44w67zQ033PCss84iLIfxap7/+uuvo402Gjq4CumwhieccMIqOHvy/OWXX5ZYYgmgMIb7brvt5vlu88lOPvlkdkXNlzNTws4epszuK0FhBDQ3uPimRN8sgMANN9yASrOLM6BBUbRrrbVW7969xx13XMPzs88+++233yoq40Bi8BxzzFFA/lCv9O/ff+yxx/7oo48+/fRT/g3bM844A6lC8W8tn6eeegrHfmtlCNJ6Zw9TEIiUSSwCqll1YgRDgP3dTz/9hDpM4Xj99devttpqGKOGhlSmWWaZJeqVvfjii6lus//++weTz2L04osvzj777A5nH/lDCUOuFq7gKaeccuKJJyYIPd9888EZhRSKf2v5RDVrndgG7HtnD1NAoJSVg4BqVp0SLgIsgpxFWXXVVcntnHfeeQl/vvPOOz4w7bfffthhJK18+OGHsfRETJ944gkSlOy/ciaHNF2HnhZPPfVUDNxJJ53Up+m8NLE2a6b8eVtJoif5mfAz+wZDwG6Df6NlQzUR5cOwguemm25KnJvBPfDAAz/55JMqmiMbnKNTslcwv9qwDdijlgxTQPmVVSsRKOxH1hc7EgGMzmWWWcaZkehLjLz0/g4ZMoSSRvJi3759f//99yj9SSedREFBsofMn0gPmWKKKV555RWbmGjrnHPOic1aHcIYi2TZ2Px95K9OHo5sjjXWWKi6ipr44YcfGBRnWFHk9957b/AW77vvvmmmmaY52AbsYNXDFFBUZdVaBEZqbfPaetMQ2HzzzVF1OCqJ/915553kFslyvOKKK6aIyvkKzp5ON910lOHdY489oMckitIvvPDC66+/vv2czNhZZ53VfoJKJkv2hBNOqA6ZL774Agm//PJL04Sn/BWJ9NVXX4HeIYccUhF/2AI7XV5llVWOPfZYHOxsLGRYOW9q4xBEAMaOqHlDsA3SI2FSwzAFlFZZtRYB1aytxb9ZrePE4ywK50ptsUjyZAnGdZkkK7pw8cUXX3TRRVHGQoOrc/TRR7/rrrvsVzjiglF7zTXX2A/32muvAw44wDzB/4bz+eCDDzZPMLagCQvTgw8+SFjX8PSUP6wMNredd955hRVWID5dURMkQjOCl156qeGPNp1rrrlEuZ5zzjlh2+3tISY2AAAKh0lEQVTXr9/RRx8tPFuObcCuVT1MAUVVVi1HQDVry4egQQIQ8rzqqqscgSjdwPo7wwwzJAmKSsABSBElmwDvMSXv7ScUiBhjjDG+/fZb+yGhXCKv5smee+458sgjb7nlllv977fRRhtR4/DEE08Mi5EUiDA8PeUPK4PhRkibXCpikxXxhy1bEyLZDv+HHnpINOuOO+4YtmmmCt4O4dlabAP2q4ZhCiitsmo5AqpZWz4ETRdAvLsHHXRQSUEXWWQR54wjrmMCctipwpliEdGMA2xfYwqXFMC8vsMOO1DgKRS3Mnwefvjh2WabjbM3eZncdNNNdMHTzMUNwFlhpwlOarKJCa5ZsYbxTHBiKm+PmkxfeJia3CmVrVIEVLNWCm/bMye3CP8wgU8ym5I6w58wgDBJqbXEKUaK6VPcDjuJqrwoAPMWrJwMHcot4WGrHyMc15ggdrtvvfUWbmp0FdlbEu/Elb3yyivTI9zRuSTE//n0009TYWqnnXYCgTfffNO8fsstt+D6vvLKK+XJc889x5lasqANAeFtFnGf5mCOUswrm82ZUZMiFdTo8GnRk+buu+8m3G6IPeeGJ/OAZPUMU0CBlVV7IaCatb3Gq1Zpr732Wq6awbIhzyilYby+WIFyIJUqhiR6LLTQQmJ9omhTXqS+UhW5qZkYUdIW5WeTUTOIpBuRmQQctOyoo44q/0uRxUyGNsHHH39M2heJvrxLIjR1MMxf5WoBMZdff/11KmZgx4vfGwc4oVYwdJzqSU2X16wSfOVgMcH1XB1MJyZDar311jM0hedGQJFiWdUzTFX3Qvk3FgHVrI0dmlYKduONN3Luxfhm8e8dfvjh6QJRnA96zmVihuL1pZI+/2tnJzmvo3J4xdOfGRALztSyV4ia4GwIpL8c+pxssskI7qIX+QcmeIHWSaWGlR3NfeSRR4Q/1jB9x7Az8Jp/4Hj3bKu8ZsWpQLvBfQaM+3HHHef0Iu/c8AShPFnVw1ReQuXQpgioZm3TgatWbIxUop4su1RHknUf5ZpuXy611FKQkSnDKRq8wcgX/DiHf5+p9ESB4lh6zq2SFRX9EwnDyI8diUMYXy4E9IJgpFBiYhJp3mKLLY455pjMU6dEjlHJcLNzr3iXJ+Rw2cd5/XvkUJbUrPioCWBPP/30HEDKKwOp45zeSdpwcIPCPffc4/BMnxu5sM0rbQp9DcMUUFpl1V4IqGZtr/GqW1rUgDnSyu0lSc1DxoUtooMpCFe3lFZ7RHOXW245xEhKeT3++OMpAhWVkIvQRX482CapSsiIj+I1NaXzOXvqpD073MiLFlbG50wcV9zLXElbDBxMbSKy5rfxxhvDjbwk+6GTd53UENU5MKbx25NBlksYRpntBSqZpsmKir5L4hI7MGdHlT438mJrN/r111/b3Y/9N2e9kvpYxTDlwlOJOxgB1awdPLhhuoaakRiqU9LB5k5JfdElWCexrdZgl1C5iQK81ECgUI5Yh7E5t5T3O+yww6JCmtgw2Vj2X2FLOQVCzjiu+ROlAWGOzzMFXHKCoKHCETpMyMRg5YfJW2BUOJMjr6f/7HPAKa0Q6GWjkDfCjSWKrb/ttttyLgsx8KhHy3IxDThG5TSdMjcKYGszl6z1zF9sOTD4BB+mAiOrr3QqAno/a+aHqQQjbb/99jhIOR9itvkOKJxDpcwvD8mLiV5yghWLmYiGRtNAg803fPhwSecJ+BswYAA2E25S4qMUe3r88ccJJVJP0WmCtCmyf53axQRZKVCMhBTUJWXJfoV83by3xlLwiGAtTfBfWFGj2AStkWrBBRfM22uUOirZfgtIn3nmGaopsYEwzzGIl1xyyXTmoLTNNtuQokU9h1xikLTMESkcyLy15pprYmtGsaJABDOEXYjNOWVuFMDW5oyyN9HrpL6wA2C4Td1Nmyz4MOXCU4k7HIFO3TJovwIiILt77JUknn369IGAIuxRgpJ2SbFe3HzzzcjDnXROHBHzBVXkFJmiCa5el+886srOe2usid6dffbZcCZVikIQ5ADDnDpWxoot1i/zVrE4K3Yq3T///PNLtg4m4hsnOG2zQuNGy3qkzI282JYU2369nmEKKLCyai8E9K6bDt85BekeATmxVGK5kczCEsmfiL1FCTBuMHmJ0RJo5K5vCWdWfV0aycnoM1KQuPTUFon4KObLTDPN5MjJKUye4EnmDKvzp7y3xgIFpjNM5GZZ7Gasc4Ka/BubEhMKez3IoORlgrnMySJOxTAc9rvY63nvUgUTGWvc7zar6OVx6XMjL7Z5u5xC39hhCthHZdVKBNprI6DSVooAh/yoZUgFA7sVsm/ITuLMZVLTXErDDEZxxiaatsoukXAgwU6MZiM5tuk888wT7ci0004Lsc+hlyOPPBLTM6XGEKYqrLhKj1bOO+88PKigioOah1TopUJFUig618jmtVlx0iIDJTKIepofmx685VwUuPvuu+dqHWIuCuQGJDoFpPLuiBEj2LU4ZRrT54bTaCa2eYVMoa9nmAIKrKzaCwHNYGqv8apWWk4iyi4PI4biugQI5XZu6vfKQZrYn0TsyMj1EU6ubg1eZD/aNI5fsmloy742h5Abl/k4xGJw80sviMFbnORBrVIkOaWnklZDMQoKJhC7JfDMW8J/s802Q+MWOyDrtJhLs3LGxlxuE7uLf+mll3zGzqEhTxhuOACkGgaO9OhxJv+54YNtASGTXqlnmAIKrKzaCwHVrO01XtVKyxJsVzDgOjkOdz7wwAPprcqq7Vkkr067RAoRk9lr6kJw3DZ6Px1xR8ioNpUeBPW8NRb1LNoLV6dU66V1jsnyhPSfaP3eYiO6yy67YCB6Ho1Nz5miBGMxGTBP5V56NmFwIOOas0AOK8+54YltMTlj36pnmAIKrKzaCwHVrO01XpVLi3bh6CTWahW3r9Rsl1DnQc4LmYvSMLDwhRYAMdetsYQbAdBuhUsFeJh0/KOAPA15RcLYlMXgKC3lt6gdXUCwXNgW4J/0StcZpoCgKStPBFSzegKlZGURqN8uQWLWepZ+DHEOrmDhkUDEJed5e1LPrbF5pWoCPX5gcbnjZsc3MHTo0LxSKbZ5EVP6tkBAz7PGBp70YWAEMIWprsAF6fvss09g1qnsuA0Gtfr555+TOsTxj+WXX97UB/YXg6gwiV0EaOVYJEXzKa5EPQpKLvgz6VTKgQMHUqWLwzzsXfBzcNIpV08V21xwKXHbINAW+l+FbGsEWmuXHHXUURL1JE8V1Z4Xydpujc0rWEPoGVw5tMPGJa9Iim1exJS+XRBQm7Vt9kDtK2hr7RKqy/bs2ZNAINUZOVFKzLV9kWym5NSLAFhsehwDzZRQpVIEakZANWvNgHe55iiL6JQmAAKqunP4RC6EqeFHFcD+/fvTEKcY5byK/sIiQKVDqvzvuuuuYdkqN0WgTRFQzdqmA6di50CAe9848cLpF1Js+vbtm+NNJfVDgFxoEsTMrQZ+LymVItCxCKhm7dih1Y7ZCGBOceKWC84o9aDIKAKKgCJQKQKqWSuFV5k3BQHu6eQeGFMOqSliqRyKgCLQiQhoRf5OHFXtUwSBHj16cOe5AqMIKAKKQA0I/B+o28zKLN1zdAAAAABJRU5ErkJggg==\"></div>"
      ],
      "text/plain": [
       "FormBox[FractionBox[RowBox[{\"2\", \" \", \n",
       "      RowBox[{\"(\", RowBox[{RowBox[{\"6\", \" \", \n",
       "\n",
       " \n",
       ">               SubsuperscriptBox[OverscriptBox[\"r\", \"^\"], \"2\", \"2\"], \" \", \n",
       "\n",
       " \n",
       ">               SuperscriptBox[\"u\", \"4\"]}], \"+\", \n",
       "\n",
       " \n",
       ">             RowBox[{SubscriptBox[OverscriptBox[\"r\", \"^\"], \"2\"], \" \", \n",
       "\n",
       " \n",
       ">               RowBox[{\"(\", RowBox[{RowBox[{\"51\", \" \", SuperscriptBox[\"u\", \"4\"]}], \n",
       "\n",
       " \n",
       ">                   \"+\", \"40\"}], \")\"}]}], \"+\", \n",
       "\n",
       " \n",
       ">             RowBox[{\"32\", \" \", SubsuperscriptBox[OverscriptBox[\"r\", \"^\"], \"2\", \n",
       "\n",
       " \n",
       ">                RowBox[{\"3\", \"/\", \"2\"}]], \" \", SuperscriptBox[\"u\", \"2\"]}], \"+\", \n",
       "\n",
       " \n",
       ">             RowBox[{\"100\", \" \", SqrtBox[SubscriptBox[OverscriptBox[\"r\", \"^\"], \"2\"]], \n",
       "\n",
       " \n",
       ">               \" \", SuperscriptBox[\"u\", \"2\"]}], \"-\", \n",
       "\n",
       " \n",
       ">             RowBox[{\"75\", \" \", SuperscriptBox[\"u\", \"4\"]}]}], \")\"}]}], \n",
       "\n",
       " \n",
       ">       RowBox[{\"3\", \" \", SubsuperscriptBox[OverscriptBox[\"r\", \"^\"], \"2\", \n",
       "\n",
       " \n",
       ">          RowBox[{\"7\", \"/\", \"2\"}]], \" \", \n",
       "\n",
       " \n",
       ">         SqrtBox[RowBox[{RowBox[{SubscriptBox[OverscriptBox[\"r\", \"^\"], \"2\"], \" \", \n",
       "\n",
       " \n",
       ">              SuperscriptBox[\"u\", \"2\"]}], \"+\", \n",
       "\n",
       " \n",
       ">            RowBox[{\"2\", \" \", SqrtBox[SubscriptBox[OverscriptBox[\"r\", \"^\"], \"2\"]]}],\\\n",
       " \n",
       ">    \"-\", \n",
       "         SuperscriptBox[\"u\", \"2\"]}]]}]], TraditionalForm]\n"
      ]
     },
     "execution_count": 152,
     "metadata": {
      "text/html": [],
      "text/plain": []
     },
     "output_type": "execute_result"
    }
   ],
   "source": [
    "dEdrFinal = Fold[ (* Последовательно применяем замены *)\n",
    "  Simplify[#1 /.\n",
    "    D[Subscript[OverHat[r], 2][OverHat[t]], {OverHat[t], #2}] -> dr2[[#2]]] &,\n",
    "  dEdr,\n",
    "  Range[5]\n",
    "];\n",
    "\n",
    "Simplify[dEdrFinal] // TraditionalForm"
   ]
  },
  {
   "cell_type": "code",
   "execution_count": 153,
   "metadata": {
    "vscode": {
     "languageId": "wolfram"
    }
   },
   "outputs": [
    {
     "data": {
      "text/html": [
       "<div><img alt=\"Output\" src=\"data:image/png;base64,iVBORw0KGgoAAAANSUhEUgAAAJgAAABMCAIAAAAeD+lPAAAAznpUWHRSYXcgcHJvZmlsZSB0eXBlIGV4aWYAAHjabU/bDQMhDPtnio4QkpDAONwdlbpBx695tBVVLRE7zgMI7fm4h1sHRwqaPFsxI0CLFq4QmSYmRyojDpR3Le5+0HP5FVb6Fqwt/9h9t8mcfxYRTyH9BmjRNbAWCU8/1pkfq59rzvsioQ2FPk//m6s4W7LoiqhM7lagc4AEWWJKbnc7zdAY7WLSE9zMHWPmvUNqH+zg5nt3CyYwrv4F6SdJBQsiNEbj0AKuqCU+VnV8JLwAYaNaw/s1RZwAAAAJcEhZcwAAFiUAABYlAUlSJPAAAAA8dEVYdFNvZnR3YXJlAENyZWF0ZWQgd2l0aCB0aGUgV29sZnJhbSBMYW5ndWFnZSA6IHd3dy53b2xmcmFtLmNvbVyipoUAAAAhdEVYdENyZWF0aW9uIFRpbWUAMjAyNTowMzoyNSAxMzozMTo1NROK7qQAAAz1SURBVHhe7Z11zBRLEsD5cHfncHd39+CaEDxI4PAgwV2OIwQNEoIFd01wdwnu7u7ucr/36mUy7Lc707O+303/sdmdre6uruqqrq7uqgn7/ft3JLuEPgXCbEYaMLFYsWK/fv2yymVqzZgxw2otD+FtRrok4OvXr+vXr79v3z4PSeyf6pH9000o9gILy5cvHyqY24x0yak9e/ZUrFjRZmSoUMAlnocPHy5ZsmSoDMOWSOecevHiRbx48WLGjGkzMlQo4BzPvXv3VqhQIYTGEDISyTbg6tWrz58/9w9xDRbIV69eXbhw4fPnz/7BRLUX9pGBLW3btv3X3+XIkSNOMYF/1atXT5AggQwpc+bMffv2/fHjh0/RLly48NevX/VdgAao5siRIywsDDT4zJYt26JFi5hhPsVEsfFIinA+ApsyZYo249Bm4Xs5cOBA4sSJBSZ27NhRo0aV7zVq1Hj//r2PsHr8+HHVqlX1ja9cuZIlU7qOHj26Nqv42aFDBx+hYanZQDISJkWLFs2AkaivZMmSAZAyZUrklbn/4cOHUaNGSZXevXtbGqo68LJly8aMGaPB07X0iBG7efPmjx8/8te1a9cqVaokz7ds2aLeuI8gA8bIR48epUqVCiq0atVKyBFeImfPns1zpPDy5cv68ffp04fniMW7d+98QReEjL2HvuWxY8d269bt27dv+odv375lhoFJp06dfIGGpTYDw0goUqZMGUjAgvfgwQNXjMyfPz9/1alTx2FIVIkSJQp/TZ8+3dJoFYELFiz4/ft3FeCmTZuCRunSpVWAfQoTGKsVkTp48CC7NNYelhxNu+q//Pz5E+OQJy1atHAASJMmjTjPzp4967SuJw8fPnyYIkUKbTE2burZs2cAJE2a1JMevVI3AIxcunTp1KlTwX7WrFmFChVyNYwnT57AS/7NkiULn0+fPh0/fvyaNWvkOEIeQnQ3qHD+/HmDWuqeOZbwQ4cO0ZRolwAXn8p7+MbPnTuH8cmYu3btKv/KpKY4rJHHjh2T5yhSwGrWrCk/N2zYwM+hQ4fyHd1rCf9Lly5xoEHFrVu3uqrIHuP48eMqzQ4YMICmsNfYmajA+xTGrxKJddCwYcNPnz4xhSdOnGg8hXGSCYBsPyCW/ITKfCZKlIhPDcZUGhDu9u3b46wpW7bs8uXL2Ym6Omg8deqUgZ7QOuJsZNy4cfzs378/G0pTBHwO4NNpom8cwmG2MJ7UqVOzUdP+MpVI7FuABw4cSF02c8g0P4cNG2ZVIhcuXPjmzRvpF3bOmzcv/Njv3LlTu3ZtU5rcunWLdRoEcufO7eA3MK3rIwD/Wa0TJkyQWYk+/LeuNGvWTJ7XrVuXx2wTZaiaNXv69Gl5cv/+fc0JACRVatWq5R5d0Nv4ktANDtXnz58PnsZtwuz06dPLjLx9+7Z7CHi9lv8YGd74dKpt8ubNK4PECSd7jNWrV4cfdrVq1fjLE69KkyZNRo8e7dAym1pUqwGV7927lzFjRtHtGNVe54fbDfrvqseOHTu0dU7PQpw1YjX06NEDWxQvQaNGjTTZRZE2aNBg7dq1+ioYtGnTpoXT06ZN69Kli3vLD+qxePHimD/iPJJSoEABGBk5snPTAW8OXl8kMmHChJhLVHeva5/UcnsKeKuiqzWS9tmfMGbMwps3b+q7Gzx4sKyXWE+eoNGzZ8/OnTtrLdy4cQOb1lWDGFmyX0yePLmm7T3p3bt1/adaXeFtwEjWMDFZM2TIgDTQAsYn3hw5f0CCPaTFy5cvEUdt84BHECe+0zaRvzhx4tAp8GyTkGbw0RfZIwWwBDUjoQsUjBs3rugijpCSJEki39nAcC7oOeFwMmhSiNklJrFDwYGgd+47VYys2Z4j40kLwc5IxnbixAkMXW3dgq+tW7fGq+LJsLW6X758wQTlHIYn+fLlc3q4uH//ftNVzWakKjvYAkJQFievHykvXrwYs4UDlsaNG6tiE3xw/rNaTSd1oABgStGiRdlOYB5j+wQKDQ/7tRn5FwFxlHNKzFYkZ86cHhI0UNVtRv5DeTyxc+bMCRQbPO/XZuQ/NMRlGiNGDM8JGqgWbEYGivJe7tevx1hext1uTkcBm5ERZDrYjLQZGUEoEEGGYUukzcgIQoEIMow/th+cKJ05cyaCjCxCD4PLwA5Rf38wkrNTuRlmlyCnQPz48blepEfSdggEOctU0bONHVVKBTmczcggZ5AqejYjVSkV5HA2I4OcQaro2YxUpVSQw9mMDHIGqaJnM1KVUkEO93+xjyQEjtBoAqRHjBih3ZINcsZYRi/4LvZ5GSMCrzTmVa5cmYusXumAbBFcbuYqLBduCWsJ36YpgEOVkSNHHj161Cluc+fOpZdcuXIZYB74C8peIaurRgiYIuiAmBvuxJKWg2lOpK1Xbsbq09Rt3749PAKmAPoq3JonzM9p5iDuZ0tTXLQPMCMJluC+aK9evXyX4sjpCInQIISRDCrkjBAAZj0UadOmjefpqkjLC/XR1TTolJGmAHqcCfAjJC38KAjJ5iJ8pkyZEP0AM9JHmk1FjqEOJCDGSg9Mkmo8zoTGqbRgCoN2dcVIqWsKAAzhD3BLH8UtdYlYIhKBsBMyNpExxpiRJlYrzUEICnlnLC+/kSJdvHiRXGOkOhHNtmvXLgJlJFeHH8qgQYMIyiGVj74vkhuRC0RCjoOkkNCOjGmSe0lfSHiBrBMgVqJECfPU6k4nHbSeOXMmuWyYvNI0iy3NEXBqOkk1AJ9qNuyC/+iKQaAkKgHA3bt3m2LO2kmGK63VnTt3mlYxFThTAEiNqF25csWhL5KXED3IKiDPCWOyrFq5Oa/PHExcoMQjShk+fLjp8ATAp5qNXHHYooi7FLLwuMJqyJAhoE3guyna5OMiCYw0SPwesdCmVUz5ZAqwbt268NG1RF6SoK1IkSJa0Jk7jNy2bRvB+5xBwzNmCkLNzQHEX0tCotkOpuMkrDw8jFdMHhjJWxlMEQBA0kaoMFLfGsT1DyORGbIuOQwE5QfOpBolrkgKfCVCmy/MDKejdrJGssCSiYYANlKgZM+eHXEkTBdCsKcWoVR/g4JE+WqFhZblltskrJ3oMf8sUeq5ePyDj74XWMiaVapUKYeuyZDAuobKwTCWArmQTr64TPirMqkFBvGS/lBWKrXWr1/PPJKUgHTfr18/yXIkhXh8LeuNSmsOMMYSuWnTJuKqCFjXssph+4GMvjDfDfr1j0SSkQYqqQzfVLVa8LUuWbJEeAAJVCYveU2xQTAR4SIYcxuIrZVWETNKn75WpUF1GDoicJU9BmuniD7KAGT0hRSh6g06QC5YsOC/fxdsKP5CgclPLW2JKQC1WLauX78OZdxG44+KKtMBipBIQxIm4uVS3E0L40m3UqVKFb6QJIrYYDKrEPeEw8WpW0sFGYExlkiySJCdQQpbaXrHoaM9kS9g4rZEuprKDFnaNAUApl27dqSfUBwyWdUgoAGwkYuOyHrSF7FAitWKr2vSpEnqGbs0CaZuvXr1JPGwt4q6sYPtBwI+MnbcHg7bfzS/txy/oGGkWsluQ0ILEvsDJ7KlzyqurhCQiRUrVkhSSLsIBdgXII5ejMg0YiSZ3vAsoA9xUebJkwdTs2PHjuXKldOsHkWukL5PBWMWM1QuGk+x2ZAGQ8/JiuOtYsRIDEtcR82bN8dMRTRRlcwjLGYyFVnq3tQfxhrMThzbB02O3LNhxZlnqQsb2ILVipuUQHtItmrVKnPXnzJpMS9ZyfELMz9IroxTCqFkTcXDp9yGOaCsDhG4WGAkVBDnDq4ZL74RB58DOeFOnjyJk5Nc7+hhUrNiGTkkEnSbB3KqzFba7RZCoqITRuIshpRYpw4DYFLz1gseov3YaHtreLg2UN2cN2kNkoGR7+Tb9UoX6dKlox2WBr/5kryCttVGHBnJzEUsOAQgh9DGjRs1/xZJb1u2bClLFzmGrXZjCZ4zceBl2+B54V0ONMLGkZNbjZdMU8krH3GKw06IxY8DsFixYmkjJM8sOx4tFRz0VdwRavtI2cAoFpwyeBo5nDN24KnvI9mr0aAMBx8hrjtMKtkLGRwvK7roFAflBzBHiWTv3717dzzmmDZZs2blJ9meGTAMxoiVgz3FHaHkP7ZU6IUk/0g/GXW95cBj58M9KHn9kbjuULN4DZmRwexPt0S3v4CNJwvOSW7cwLy7d+9yBOrTmUX7aG9QUnHKq0ukhjOKgaWBoxtyJJumCA05iQyWW3SsXvKSLH1KY4N54wYjLc3CkGOkte2HZXlXq4Ci48iU1zlw044EyWqVbKg/KBD4m+Zob9w6LGPkCudmFPctNAR5Ww/3GZ1yjNWaa7uTJ0+Wf/FAef4+ZNlfia+Dt1ZwA4GlOmTmiyWF4wtgOdJzWljPXPXIrUZ5D6wU7CPPccO+ZdOptcklNs/b9FsL/wPMa5TtHZCm4wAAAABJRU5ErkJggg==\"></div>"
      ],
      "text/plain": [
       "40 Sqrt[2]\n",
       "-----------\n",
       "  ^  ^ 11/4\n",
       "3 r [t]\n",
       "   2"
      ]
     },
     "execution_count": 153,
     "metadata": {
      "text/html": [],
      "text/plain": []
     },
     "output_type": "execute_result"
    }
   ],
   "source": [
    "dEdrFinal /. u -> 0"
   ]
  },
  {
   "cell_type": "markdown",
   "metadata": {},
   "source": [
    "$$\n",
    "  \\Delta \\hat{E}(u) = \\epsilon_G \\frac{4}{3}\\int\\limits_{\\hat{r}_2^\\text{min}}^\\infty \\frac{32 \\hat{r}_2^{3/2} u^2+6 \\hat{r}_2^2 u^4+\\hat{r}_2 \\left(51 u^4+40\\right)+100 \\sqrt{\\hat{r}_2} u^2-75 u^4}{\\hat{r}_2^{7/2} \\sqrt{\\hat{r}_2 u^2+2 \\sqrt{\\hat{r}_2}-u^2}} \\, d\\hat{r}_2,\n",
    "$$\n",
    "где при $\\hat{r}_2 \\ge \\hat{r}_2^{\\text{min}}$ выражение $\\hat{r}_2u^2 + 2\\sqrt{\\hat{r}_2} - u^2 \\ge 0$."
   ]
  },
  {
   "cell_type": "markdown",
   "metadata": {},
   "source": [
    "Полученный выше интеграл **компактнее**, чем тот, что рассмотрен в файле binary_catch2.pdf\n",
    "$$\n",
    "  \\Delta \\hat{E}(u) = \\epsilon_G \\frac{4}{3}\\int\\limits_{\\hat{r}_2^\\text{min}}^\\infty \\frac{24\\hat{r}_2^2u^6 + 48u^6\\hat{r}_2 + 120\\hat{r}_2^{3/2}u^4 - 96u^6 + 96u^4\\sqrt{\\hat{r}_2} - u^2\\hat{r}_2^2 + 133u^2\\hat{r}_2 - 2\\hat{r}_2^{3/2}}{\\hat{r}_2^4\\sqrt{u^2\\hat{r}_2 + 2\\sqrt{\\hat{r}_2} - u^2}} \\, d\\hat{r}_2,\n",
    "$$"
   ]
  },
  {
   "cell_type": "markdown",
   "metadata": {},
   "source": [
    "<span style=\"color:brown\">**NB:**</span> Однако, будучи аналитически взятым, будет полностью <span style=\"color:green\">**совпадать!**</span>\n",
    "\n",
    "Смотри подробности в файле binary_catch_integral.ipynb\n",
    " \n",
    "Там компактный интеграл назван $I_5$, а второй $I_4$.\n",
    "\n",
    "Выпишем ответ:"
   ]
  },
  {
   "cell_type": "code",
   "execution_count": 155,
   "metadata": {
    "vscode": {
     "languageId": "wolfram"
    }
   },
   "outputs": [
    {
     "data": {
      "text/html": [
       "<div><img alt=\"Output\" src=\"data:image/png;base64,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\"></div>"
      ],
      "text/plain": [
       "FormBox[RowBox[{\"-\", FractionBox[RowBox[{SubscriptBox[\"ϵ\", \"G\"], \" \", \n",
       "\n",
       " \n",
       ">           RowBox[{\"(\", RowBox[{RowBox[{RowBox[{\"(\", \n",
       "\n",
       " \n",
       ">                   RowBox[{RowBox[{\"673\", \" \", SuperscriptBox[\"u\", \"4\"]}], \"+\", \n",
       "\n",
       " \n",
       ">                     \"1275\"}], \")\"}], \" \", SuperscriptBox[\"u\", \"2\"]}], \"+\", \n",
       "\n",
       " \n",
       ">               RowBox[{\"3\", \" \", RowBox[{\"(\", \n",
       "\n",
       " \n",
       ">                   RowBox[{RowBox[{\"37\", \" \", SuperscriptBox[\"u\", \"8\"]}], \"+\", \n",
       "\n",
       " \n",
       ">                     RowBox[{\"366\", \" \", SuperscriptBox[\"u\", \"4\"]}], \"+\", \"425\"}],\\\n",
       " \n",
       ">    \")\"}\\\n",
       "], \" \", RowBox[{\"(\", RowBox[{RowBox[{SuperscriptBox[\"tan\", RowBox[{\"-\",\\\n",
       " \n",
       ">    \"1\"}]], \n",
       "                    \"(\", FractionBox[\"1\", SuperscriptBox[\"u\", \"2\"]],\\\n",
       " \n",
       ">    \")\"}], \"+\", \n",
       "                  FractionBox[\"π\", \"2\"]}], \")\"}]}]}], \")\"}]}], \n",
       "\n",
       " \n",
       ">         RowBox[{\"9\", \" \", SuperscriptBox[\"u\", \"7\"]}]]}], TraditionalForm]\n"
      ]
     },
     "execution_count": 155,
     "metadata": {
      "text/html": [],
      "text/plain": []
     },
     "output_type": "execute_result"
    }
   ],
   "source": [
    "DeltaE = -Subscript[\\[Epsilon], G]/9*(u^2*(1275 + 673*u^4) + 3*(425 + 366*u^4 + 37*u^8)*(Pi/2 + ArcTan[u^(-2)]))/u^7;\n",
    "DeltaE // TraditionalForm"
   ]
  },
  {
   "cell_type": "code",
   "execution_count": 156,
   "metadata": {
    "vscode": {
     "languageId": "wolfram"
    }
   },
   "outputs": [
    {
     "data": {
      "text/html": [
       "<div>&#36;&#36;&#45;&#92;&#102;&#114;&#97;&#99;&#123;&#92;&#101;&#112;&#115;&#105;&#108;&#111;&#110;&#32;&#95;&#71;&#32;&#92;&#108;&#101;&#102;&#116;&#40;&#92;&#108;&#101;&#102;&#116;&#40;&#54;&#55;&#51;&#32;&#117;&#94;&#52;&#43;&#49;&#50;&#55;&#53;&#92;&#114;&#105;&#103;&#104;&#116;&#41;&#32;&#117;&#94;&#50;&#43;&#51;&#32;&#92;&#108;&#101;&#102;&#116;&#40;&#51;&#55;&#32;&#117;&#94;&#56;&#43;&#51;&#54;&#54;&#32;&#117;&#94;&#52;&#43;&#52;&#50;&#53;&#92;&#114;&#105;&#103;&#104;&#116;&#41;&#32;&#92;&#108;&#101;&#102;&#116;&#40;&#92;&#116;&#97;&#110;&#32;&#94;&#123;&#45;&#49;&#125;&#92;&#108;&#101;&#102;&#116;&#40;&#92;&#102;&#114;&#97;&#99;&#123;&#49;&#125;&#123;&#117;&#94;&#50;&#125;&#92;&#114;&#105;&#103;&#104;&#116;&#41;&#43;&#92;&#102;&#114;&#97;&#99;&#123;&#92;&#112;&#105;&#32;&#125;&#123;&#50;&#125;&#92;&#114;&#105;&#103;&#104;&#116;&#41;&#92;&#114;&#105;&#103;&#104;&#116;&#41;&#125;&#123;&#57;&#32;&#117;&#94;&#55;&#125;&#36;&#36;</div>"
      ],
      "text/plain": [
       "-\\frac{\\epsilon _G \\left(\\left(673 u^4+1275\\right) u^2+3 \\left(37 u^8+366 u^4+425\\right)\\\n",
       " \n",
       ">   \\left(\\tan ^{-1}\\left(\\frac{1}{u^2}\\right)+\\frac{\\pi }{2}\\right)\\right)}{9 u^7}"
      ]
     },
     "execution_count": 156,
     "metadata": {
      "text/html": [],
      "text/plain": []
     },
     "output_type": "execute_result"
    }
   ],
   "source": [
    "TeXForm[DeltaE]"
   ]
  },
  {
   "cell_type": "markdown",
   "metadata": {},
   "source": [
    "<span style=\"color:brown\">**NB:**</span> Почему при малых $u$ значения $\\Delta \\hat{E}(u)$ безгранично растут?\n",
    "\n",
    "В задаче расчёта средней потери энергии на грав изулчение предполагается близость к Ньютоновской орбите.\n",
    "При малых скоростях, однако, мы видим, что первоначальная положительная малая почти нулевая полная энергия\n",
    "теряется, превращаясь в сколько угодно большую отрицательную энергию.\n",
    "Кажется, что мы сильно отклоняемся от близости к ньютоновской орбиты и не имеем право интегрировать вдоль неё.\n",
    "\n",
    "Однако, в нашей модели, когда одно тело налетает на другое из бесконечности, в приближении Ньютона возможны только два типа орбит:\n",
    "гиперболическая орбита и вырожденная гипербола (прямое падение).\n",
    "В случае малых скоростей как раз будет прямое падение.\n",
    "И даже неограниченная потеря энергии на грав излучения не меняет формы этой \"орбиты\": мы **можем** интегрировать вдоль неё."
   ]
  },
  {
   "cell_type": "code",
   "execution_count": 157,
   "metadata": {
    "vscode": {
     "languageId": "wolfram"
    }
   },
   "outputs": [
    {
     "data": {
      "text/html": [
       "<div><img alt=\"Output\" src=\"data:image/png;base64,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\"></div>"
      ],
      "text/plain": [
       "FormBox[InterpretationBox[RowBox[{RowBox[{\"-\", \n",
       "\n",
       " \n",
       ">           FractionBox[RowBox[{\"425\", \" \", \n",
       "\n",
       " \n",
       ">              RowBox[{\"(\", RowBox[{\"π\", \" \", SubscriptBox[\"ϵ\", \"G\"]}], \")\"}]}], \n",
       "\n",
       " \n",
       ">            RowBox[{\"3\", \" \", SuperscriptBox[\"u\", \"7\"]}]]}], \"+\", \n",
       "\n",
       " \n",
       ">         InterpretationBox[RowBox[{\"O\", \"(\", \n",
       "\n",
       " \n",
       ">            FractionBox[\"1\", SuperscriptBox[\"u\", \"3\"]], \")\"}], \n",
       "\n",
       " \n",
       ">          SeriesData[u, 0, List[], -7, -3, 1], Rule[Editable, False]]}], \n",
       "\n",
       " \n",
       ">       SeriesData[u, 0, List[Times[Rational[-425, 3], Pi, Subscript[\\[Epsilon], G]]], \n",
       "\n",
       " \n",
       ">        -7, -3, 1], Rule[Editable, False]], TraditionalForm]\n"
      ]
     },
     "execution_count": 157,
     "metadata": {
      "text/html": [],
      "text/plain": []
     },
     "output_type": "execute_result"
    }
   ],
   "source": [
    "Simplify[Series[DeltaE, {u, 0, -4}]] // TraditionalForm"
   ]
  },
  {
   "cell_type": "markdown",
   "metadata": {},
   "source": [
    "## Условия захвата\n",
    "\n",
    "На бесконечнос энергия объекта была $u^2/2$\n",
    "\n",
    "Если $2|\\Delta \\hat{E}| > u^2$, то гиперболическая орбита превратится в эллиптическую за один полный оборот,\n",
    "\n",
    "далее тело уже не сможет \"уходить\" на бесконечность.\n",
    "\n",
    "Из-за ограничения локализации точнее условие захвата поставить **нельзя**"
   ]
  },
  {
   "cell_type": "code",
   "execution_count": 160,
   "metadata": {
    "vscode": {
     "languageId": "wolfram"
    }
   },
   "outputs": [
    {
     "data": {
      "text/html": [
       "<div><img alt=\"Output\" src=\"data:image/png;base64,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\"></div>"
      ],
      "text/plain": [
       "FormBox[RowBox[{SuperscriptBox[\"u\", \"9\"], \"<\", \n",
       "\n",
       " \n",
       ">        RowBox[{FractionBox[\"2\", \"9\"], \" \", SubscriptBox[\"ϵ\", \"G\"], \" \", \n",
       "\n",
       " \n",
       ">          RowBox[{\"(\", RowBox[{RowBox[{RowBox[{\"(\", \n",
       "\n",
       " \n",
       ">                  RowBox[{RowBox[{\"673\", \" \", SuperscriptBox[\"u\", \"4\"]}], \"+\", \n",
       "\n",
       " \n",
       ">                    \"1275\"}], \")\"}], \" \", SuperscriptBox[\"u\", \"2\"]}], \"+\", \n",
       "\n",
       " \n",
       ">              RowBox[{FractionBox[\"3\", \"2\"], \" \", \n",
       "\n",
       " \n",
       ">                RowBox[{\"(\", RowBox[{RowBox[{\"37\", \" \", SuperscriptBox[\"u\", \"8\"]}], \n",
       "\n",
       " \n",
       ">                    \"+\", RowBox[{\"366\", \" \", SuperscriptBox[\"u\", \"4\"]}], \"+\", \"425\"}], \n",
       "\n",
       " \n",
       ">                  \")\"}], \" \", RowBox[{\"(\", \n",
       "               RowBox[{RowBox[{\"2\", \" \", \n",
       "\n",
       " \n",
       ">                      RowBox[{SuperscriptBox[\"tan\", RowBox[{\"-\", \"1\"}]], \"(\", \n",
       "\n",
       " \n",
       ">                        FractionBox[\"1\", SuperscriptBox[\"u\", \"2\"]], \")\"}]}], \"+\",\\\n",
       " \n",
       ">    \"π\"}], \n",
       "               \")\"}]}]}], \")\"}]}]}], TraditionalForm]\n"
      ]
     },
     "execution_count": 160,
     "metadata": {
      "text/html": [],
      "text/plain": []
     },
     "output_type": "execute_result"
    }
   ],
   "source": [
    "DeltaE2 = Simplify[DeltaE + u^2/2];\n",
    "uMax2 = Simplify[2 u^7 DeltaE2];\n",
    "Simplify[uMax2 < 0] // TraditionalForm"
   ]
  },
  {
   "cell_type": "markdown",
   "metadata": {},
   "source": [
    "<span style=\"color:brown\">**NB:**</span> Условие захвата, <span style=\"color:green\">**совпадает**</span> с условием из файла binary_catch.pdf"
   ]
  },
  {
   "cell_type": "markdown",
   "metadata": {},
   "source": [
    "<span style=\"color:red\">**TODO:**</span> Сравнить условия захвата при $u \\rightarrow 0$ с другими авторами"
   ]
  },
  {
   "cell_type": "code",
   "execution_count": 161,
   "metadata": {
    "vscode": {
     "languageId": "wolfram"
    }
   },
   "outputs": [
    {
     "data": {
      "text/html": [
       "<div><img alt=\"Output\" src=\"data:image/png;base64,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\"></div>"
      ],
      "text/plain": [
       "FormBox[InterpretationBox[RowBox[{FractionBox[RowBox[{\"850\", \" \", \"π\", \" \", \n",
       "\n",
       " \n",
       ">            SubscriptBox[\"ϵ\", \"G\"]}], \"3\"], \"+\", \n",
       "\n",
       " \n",
       ">         InterpretationBox[RowBox[{\"O\", \"(\", SuperscriptBox[\"u\", \"1\"], \")\"}], \n",
       "\n",
       " \n",
       ">          SeriesData[u, 0, List[], 0, 1, 1], Rule[Editable, False]]}], \n",
       "\n",
       " \n",
       ">       SeriesData[u, 0, List[Times[Rational[850, 3], Pi, Subscript[\\[Epsilon], G]]], 0,\\\n",
       " \n",
       ">    \n",
       "     1, 1], Rule[Editable, False]], TraditionalForm]\n"
      ]
     },
     "execution_count": 161,
     "metadata": {
      "text/html": [],
      "text/plain": []
     },
     "output_type": "execute_result"
    }
   ],
   "source": [
    "Simplify[Series[(u^9 - uMax2), {u, 0, 0}]] // TraditionalForm"
   ]
  },
  {
   "cell_type": "markdown",
   "metadata": {},
   "source": [
    "## Поведение $\\hat{E}_1$ в зависимости от начальной сокрости $u$ и параметра $\\epsilon_G$\n",
    "\n",
    "$$\n",
    "\\hat{E}_1 = \\hat{E}_0 + \\Delta \\hat{E}\n",
    "$$\n",
    "\n",
    "$\\epsilon_G = \\frac{2}{5}\\frac{\\mu}{M} \\left( \\frac{r_s}{2b} \\right)^{\\frac{5}{2}}$,\n",
    "где $r_s = \\frac{2 G M}{c^2}$ - сумма радиусов Шварцшильда двух тел.\n",
    "\n",
    "При прицельных параметрах $b$ сравнимых с радиусом Шварцшильда, $\\epsilon_G$ не мал (смотри $\\epsilon_G = 10$)\n",
    "энергия всегда отрицальна при скоростях $u < 100$, то есть тела уже в захвате.\n",
    "\n",
    "Если прицельный параметр много больше, чем $r_s$, то есть $\\epsilon_G$ мал,\n",
    "то существует такая скорость $u < 100$, при значении которой (и меньших скоростях) происходит захват."
   ]
  },
  {
   "cell_type": "code",
   "execution_count": 162,
   "metadata": {
    "vscode": {
     "languageId": "wolfram"
    }
   },
   "outputs": [
    {
     "data": {
      "text/html": [
       "<div><img alt=\"Output\" src=\"data:image/png;base64,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\"></div>"
      ],
      "text/plain": [
       "Legended[-Graphics-, Placed[LineLegend[{Directive[Opacity[1.], RGBColor[0.24, 0.6, 0.8], \n",
       " \n",
       ">       AbsoluteThickness[2]], Directive[Opacity[1.], RGBColor[0.95, 0.627, 0.1425], \n",
       " \n",
       ">       AbsoluteThickness[2]], Directive[Opacity[1.], RGBColor[0.455, 0.7, 0.21], \n",
       " \n",
       ">       AbsoluteThickness[2]], Directive[Opacity[1.], \n",
       " \n",
       ">       RGBColor[0.922526, 0.385626, 0.209179], AbsoluteThickness[2]], \n",
       " \n",
       ">      Directive[Opacity[1.], RGBColor[0.578, 0.51, 0.85], AbsoluteThickness[2]], \n",
       " \n",
       ">      Directive[Opacity[1.], RGBColor[0.772079, 0.431554, 0.102387], \n",
       " \n",
       ">       AbsoluteThickness[2]], Directive[Opacity[1.], RGBColor[0.4, 0.64, 1.], \n",
       " \n",
       ">       AbsoluteThickness[2]]}, {EpsilonG = 10, EpsilonG = 2, EpsilonG = 1, \n",
       " \n",
       ">      EpsilonG = 0.5, EpsilonG = 0.1, EpsilonG = 10^(-2), EpsilonG = 10^(-5)}, \n",
       " \n",
       ">     LegendMarkers -> None, LabelStyle -> {}, LegendLayout -> Column], After, Identity]]"
      ]
     },
     "execution_count": 162,
     "metadata": {
      "text/html": [],
      "text/plain": []
     },
     "output_type": "execute_result"
    }
   ],
   "source": [
    "Plot[\n",
    "  {\n",
    "    u^2/2 + DeltaE /. Subscript[\\[Epsilon], G] -> 10,\n",
    "    u^2/2 + DeltaE /. Subscript[\\[Epsilon], G] -> 2,\n",
    "    u^2/2 + DeltaE /. Subscript[\\[Epsilon], G] -> 1,\n",
    "    u^2/2 + DeltaE /. Subscript[\\[Epsilon], G] -> 0.5,\n",
    "    u^2/2 + DeltaE /. Subscript[\\[Epsilon], G] -> 0.1,\n",
    "    u^2/2 + DeltaE /. Subscript[\\[Epsilon], G] -> 10^(-2),\n",
    "    u^2/2 + DeltaE /. Subscript[\\[Epsilon], G] -> 10^(-5)\n",
    "  },\n",
    "  {u, 0.0, 100},\n",
    "  AxesLabel -> {\"u\", \"E1\"},\n",
    "  PlotLegends -> {\n",
    "    \"EpsilonG = 10\",\n",
    "    \"EpsilonG = 2\",\n",
    "    \"EpsilonG = 1\",\n",
    "    \"EpsilonG = 0.5\",\n",
    "    \"EpsilonG = 0.1\",\n",
    "    \"EpsilonG = 10^(-2)\",\n",
    "    \"EpsilonG = 10^(-5)\"\n",
    "    },\n",
    "  PlotRange -> All,\n",
    "  ScalingFunctions -> {\"Log\", \"SignedLog\"}\n",
    "]"
   ]
  },
  {
   "cell_type": "markdown",
   "metadata": {},
   "source": [
    "Но при движении пары объектов происходит и уменьшение момента импульса.\n",
    "В тот момент, когда начальный импульс уменьшится до нуля тела начнут падать друг на друга, даже если\n",
    "полная энергия при этом у системы больше нуля.\n",
    "\n",
    "Следовательно, необходимо скорректировать условие захвата."
   ]
  },
  {
   "cell_type": "markdown",
   "metadata": {},
   "source": [
    "# Потеря момента за один период обращения\n",
    "\n",
    "$$\n",
    "\\Delta \\hat{J} = 2 \\epsilon_G \\int\\limits_{\\hat{t}_{\\text{min}}}^{\\infty}I_J(\\hat{t}) d \\hat{t}\n",
    "= - 2 \\epsilon_G \\int\\limits_{\\hat{r}_2^{\\text{min}}}^{\\infty}\\frac{I_J(\\hat{r}_2)}{\\hat{r}_2^{(1)}}d \\hat{r}_2,\n",
    "$$\n",
    "\n",
    "где мы заменим $\\hat{\\omega}$ на $\\frac{u}{\\hat{r}_2}$"
   ]
  },
  {
   "cell_type": "code",
   "execution_count": 165,
   "metadata": {
    "vscode": {
     "languageId": "wolfram"
    }
   },
   "outputs": [
    {
     "data": {
      "text/html": [
       "<div><img alt=\"Output\" src=\"data:image/png;base64,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\"></div>"
      ],
      "text/plain": [
       "FormBox[RowBox[{FractionBox[RowBox[{\"16\", \" \", SuperscriptBox[\"u\", \"5\"]}], \n",
       "\n",
       " \n",
       ">         RowBox[{SubsuperscriptBox[OverscriptBox[\"r\", \"^\"], \"2\", \"3\"], \" \", \n",
       "\n",
       " \n",
       ">           SuperscriptBox[SubscriptBox[OverscriptBox[\"r\", \"^\"], \"2\"], \"′\"]}]], \"-\", \n",
       "\n",
       " \n",
       ">        FractionBox[RowBox[{\"20\", \" \", SuperscriptBox[\"u\", \"3\"], \" \", \n",
       "\n",
       " \n",
       ">           SuperscriptBox[SubscriptBox[OverscriptBox[\"r\", \"^\"], \"2\"], \"′\"]}], \n",
       "\n",
       " \n",
       ">         SubsuperscriptBox[OverscriptBox[\"r\", \"^\"], \"2\", \"3\"]], \"-\", \n",
       "\n",
       " \n",
       ">        FractionBox[RowBox[{\"4\", \" \", \"u\", \" \", \n",
       "        SuperscriptBox[RowBox[{\"(\", \n",
       "\n",
       " \n",
       ">              SuperscriptBox[SubscriptBox[OverscriptBox[\"r\", \"^\"], \"2\"], \"′′\"], \")\"}], \n",
       "\n",
       " \n",
       ">            \"2\"]}], RowBox[{SubscriptBox[OverscriptBox[\"r\", \"^\"], \"2\"], \" \", \n",
       "\n",
       " \n",
       ">           SuperscriptBox[SubscriptBox[OverscriptBox[\"r\", \"^\"], \"2\"], \"′\"]}]], \"+\", \n",
       "\n",
       " \n",
       ">        FractionBox[RowBox[{\"14\", \" \", \"u\", \" \", \n",
       "\n",
       " \n",
       ">           SuperscriptBox[SubscriptBox[OverscriptBox[\"r\", \"^\"], \"2\"], \"′\"], \" \", \n",
       "\n",
       " \n",
       ">           SuperscriptBox[SubscriptBox[OverscriptBox[\"r\", \"^\"], \"2\"], \"′′\"]}], \n",
       "\n",
       " \n",
       ">         SubsuperscriptBox[OverscriptBox[\"r\", \"^\"], \"2\", \"2\"]], \"+\", \n",
       "\n",
       " \n",
       ">        FractionBox[RowBox[{\"4\", \" \", \"u\", \" \", \n",
       "\n",
       " \n",
       ">           SuperscriptBox[SubscriptBox[OverscriptBox[\"r\", \"^\"], \"2\"], \"′′′′\"]}], \n",
       "\n",
       " \n",
       ">         SuperscriptBox[SubscriptBox[OverscriptBox[\"r\", \"^\"], \"2\"], \"′\"]], \"-\", \n",
       "\n",
       " \n",
       ">        FractionBox[RowBox[{\"6\", \" \", \"u\", \" \", \n",
       "        SuperscriptBox[RowBox[{\"(\", \n",
       "\n",
       " \n",
       ">              SuperscriptBox[SubscriptBox[OverscriptBox[\"r\", \"^\"], \"2\"], \"′\"], \")\"}], \n",
       "\n",
       " \n",
       ">            \"3\"]}], SubsuperscriptBox[OverscriptBox[\"r\", \"^\"], \"2\", \"3\"]], \"-\", \n",
       "\n",
       " \n",
       ">        FractionBox[RowBox[{\"7\", \" \", \"u\", \" \", \n",
       "\n",
       " \n",
       ">           SuperscriptBox[SubscriptBox[OverscriptBox[\"r\", \"^\"], \"2\"], \"′′′\"]}], \n",
       "\n",
       " \n",
       ">         SubscriptBox[OverscriptBox[\"r\", \"^\"], \"2\"]]}], TraditionalForm]\n"
      ]
     },
     "execution_count": 165,
     "metadata": {
      "text/html": [],
      "text/plain": []
     },
     "output_type": "execute_result"
    }
   ],
   "source": [
    "(* Минус учтём сразу *)\n",
    "dJdr = Simplify[-dJdt/D[Subscript[OverHat[r], 2][OverHat[t]], OverHat[t]] //. OmegaReplace2];\n",
    "Expand[Simplify[dJdr]] // TraditionalForm"
   ]
  },
  {
   "cell_type": "markdown",
   "metadata": {},
   "source": [
    "<span style=\"color:brown\">**NB:**</span> Выражение для $dJ/dr$ <span style=\"color:green\">**сопадает**</span> с выраженем для интегранта из binary_catch3.pdf, если учесть деление на $\\hat{r}_2^{(1)}$"
   ]
  },
  {
   "cell_type": "markdown",
   "metadata": {
    "vscode": {
     "languageId": "wolfram"
    }
   },
   "source": [
    "Заменяя вхождение **всех** производных в выражении для $dJ/dr$, получим"
   ]
  },
  {
   "cell_type": "code",
   "execution_count": 167,
   "metadata": {
    "vscode": {
     "languageId": "wolfram"
    }
   },
   "outputs": [
    {
     "data": {
      "text/html": [
       "<div><img alt=\"Output\" src=\"data:image/png;base64,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\"></div>"
      ],
      "text/plain": [
       "FormBox[FractionBox[RowBox[{\"2\", \" \", \"u\", \" \", \n",
       "\n",
       " \n",
       ">         RowBox[{\"(\", RowBox[{RowBox[{\"9\", \" \", \n",
       "\n",
       " \n",
       ">               SubscriptBox[OverscriptBox[\"r\", \"^\"], \"2\"], \" \", \n",
       "\n",
       " \n",
       ">               SuperscriptBox[\"u\", \"2\"]}], \"+\", \n",
       "\n",
       " \n",
       ">             RowBox[{\"20\", \" \", SqrtBox[SubscriptBox[OverscriptBox[\"r\", \"^\"], \"2\"]]}], \n",
       "\n",
       " \n",
       ">             \"-\", RowBox[{\"15\", \" \", SuperscriptBox[\"u\", \"2\"]}]}], \")\"}]}], \n",
       "\n",
       " \n",
       ">       RowBox[{SubsuperscriptBox[OverscriptBox[\"r\", \"^\"], \"2\", RowBox[{\"5\", \"/\",\\\n",
       " \n",
       ">    \"2\"}]], \n",
       "      \" \", SqrtBox[RowBox[{RowBox[{SubscriptBox[OverscriptBox[\"r\", \"^\"],\\\n",
       " \n",
       ">    \"2\"], \" \", \n",
       "           SuperscriptBox[\"u\", \"2\"]}], \"+\", \n",
       "\n",
       " \n",
       ">            RowBox[{\"2\", \" \", SqrtBox[SubscriptBox[OverscriptBox[\"r\", \"^\"], \"2\"]]}],\\\n",
       " \n",
       ">    \"-\", \n",
       "         SuperscriptBox[\"u\", \"2\"]}]]}]], TraditionalForm]\n"
      ]
     },
     "execution_count": 167,
     "metadata": {
      "text/html": [],
      "text/plain": []
     },
     "output_type": "execute_result"
    }
   ],
   "source": [
    "dJdrFinal = Fold[ (* Последовательно применяем замены *)\n",
    "  Simplify[#1 /.\n",
    "    D[Subscript[OverHat[r], 2][OverHat[t]], {OverHat[t], #2}] -> dr2[[#2]]] &,\n",
    "  dJdr,\n",
    "  Range[5]\n",
    "];\n",
    "\n",
    "Simplify[dJdrFinal] // TraditionalForm"
   ]
  },
  {
   "cell_type": "markdown",
   "metadata": {},
   "source": [
    "$$\n",
    "  \\Delta \\hat{J}(u) = 4 \\epsilon_G \\int\\limits_{\\hat{r}_2^\\text{min}}^\\infty \\frac{u \\left(20\\sqrt{\\hat{r}_2} - 15u^2 + 9\\hat{r}_2 u^2\\right)}{\\hat{r}_2^{\\frac{5}{2}} \\sqrt{2\\sqrt{\\hat{r}_2} - u^2 + \\hat{r}_2 u^2}} \\, d\\hat{r}_2,\n",
    "$$\n",
    "где при $\\hat{r}_2 \\ge \\hat{r}_2^{\\text{min}}$ выражение $\\hat{r}_2u^2 + 2\\sqrt{\\hat{r}_2} - u^2 \\ge 0$.\n",
    "\n",
    "Полученный выше интеграл **компактнее**, чем тот, что рассмотрен в файле binary_catch3.pdf\n",
    "\n",
    "Смотри подробности в файле binary_catch_integral.ipynb\n",
    " \n",
    "Выпишем ответ:"
   ]
  },
  {
   "cell_type": "code",
   "execution_count": 169,
   "metadata": {
    "vscode": {
     "languageId": "wolfram"
    }
   },
   "outputs": [
    {
     "data": {
      "text/html": [
       "<div><img alt=\"Output\" src=\"data:image/png;base64,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\"></div>"
      ],
      "text/plain": [
       "FormBox[RowBox[{\"4\", \" \", SubscriptBox[\"ϵ\", \"G\"], \" \", \n",
       "\n",
       " \n",
       ">        RowBox[{\"(\", RowBox[{RowBox[{\"-\", \n",
       "\n",
       " \n",
       ">              RowBox[{RowBox[{\"2\"}], \" \", SuperscriptBox[\"u\", \"2\"]}]}], \"-\", \n",
       "\n",
       " \n",
       ">            FractionBox[\"15\", SuperscriptBox[\"u\", \"2\"]], \"-\", \n",
       "\n",
       " \n",
       ">            FractionBox[RowBox[{RowBox[{\"(\", \n",
       "\n",
       " \n",
       ">                 RowBox[{RowBox[{\"7\", \" \", SuperscriptBox[\"u\", \"4\"]}], \"+\", \"15\"}], \n",
       "\n",
       " \n",
       ">                 \")\"}], \" \", RowBox[{\"(\", \n",
       "              RowBox[{RowBox[{\"2\", \" \", \n",
       "\n",
       " \n",
       ">                     RowBox[{SuperscriptBox[\"tan\", RowBox[{\"-\", \"1\"}]], \"(\", \n",
       "\n",
       " \n",
       ">                       FractionBox[\"1\", SuperscriptBox[\"u\", \"2\"]], \")\"}]}], \"+\", \"π\"}],\\\n",
       " \n",
       ">    \n",
       "              \")\"}]}], RowBox[{\"2\", \" \", SuperscriptBox[\"u\", \"4\"]}]]}], \")\"}]}], \n",
       "\n",
       " \n",
       ">      TraditionalForm]\n"
      ]
     },
     "execution_count": 169,
     "metadata": {
      "text/html": [],
      "text/plain": []
     },
     "output_type": "execute_result"
    }
   ],
   "source": [
    "DeltaJ = 4*Subscript[\\[Epsilon], G]*(-15/u^2 - 2*u^2 - ((15 + 7*u^4)*(Pi + 2*ArcTan[u^(-2)]))/(2*u^4));\n",
    "DeltaJ // TraditionalForm"
   ]
  },
  {
   "cell_type": "code",
   "execution_count": 170,
   "metadata": {
    "vscode": {
     "languageId": "wolfram"
    }
   },
   "outputs": [
    {
     "data": {
      "text/html": [
       "<div>&#36;&#36;&#52;&#32;&#92;&#101;&#112;&#115;&#105;&#108;&#111;&#110;&#32;&#95;&#71;&#32;&#92;&#108;&#101;&#102;&#116;&#40;&#45;&#50;&#32;&#117;&#94;&#50;&#45;&#92;&#102;&#114;&#97;&#99;&#123;&#49;&#53;&#125;&#123;&#117;&#94;&#50;&#125;&#45;&#92;&#102;&#114;&#97;&#99;&#123;&#92;&#108;&#101;&#102;&#116;&#40;&#55;&#32;&#117;&#94;&#52;&#43;&#49;&#53;&#92;&#114;&#105;&#103;&#104;&#116;&#41;&#32;&#92;&#108;&#101;&#102;&#116;&#40;&#50;&#32;&#92;&#116;&#97;&#110;&#32;&#94;&#123;&#45;&#49;&#125;&#92;&#108;&#101;&#102;&#116;&#40;&#92;&#102;&#114;&#97;&#99;&#123;&#49;&#125;&#123;&#117;&#94;&#50;&#125;&#92;&#114;&#105;&#103;&#104;&#116;&#41;&#43;&#92;&#112;&#105;&#32;&#92;&#114;&#105;&#103;&#104;&#116;&#41;&#125;&#123;&#50;&#32;&#117;&#94;&#52;&#125;&#92;&#114;&#105;&#103;&#104;&#116;&#41;&#36;&#36;</div>"
      ],
      "text/plain": [
       "4 \\epsilon _G \\left(-2 u^2-\\frac{15}{u^2}-\\frac{\\left(7 u^4+15\\right) \\left(2 \\tan\\\n",
       " \n",
       ">   ^{-1}\\left(\\frac{1}{u^2}\\right)+\\pi \\right)}{2 u^4}\\right)"
      ]
     },
     "execution_count": 170,
     "metadata": {
      "text/html": [],
      "text/plain": []
     },
     "output_type": "execute_result"
    }
   ],
   "source": [
    "TeXForm[DeltaJ]"
   ]
  },
  {
   "cell_type": "markdown",
   "metadata": {},
   "source": [
    "В пределе малых $u$ для $\\Delta \\hat{J}(u)$ получаем\n",
    "\n",
    "<span style=\"color:brown\">**NB:**</span> Почему при малых $u$ значения $\\Delta \\hat{J}(u)$ безгранично растут по модулю?\n",
    "\n",
    "При движении пары объектов происходит уменьшение момента импульса.\n",
    "В тот момент, когда начальный импульс уменьшится до нуля тела начнут падать друг на друга,\n",
    "и момент должен перестать меняться.\n",
    "\n",
    "Нужно интегрировать с бесконечноти не до перицентра $\\hat{r}_2^\\text{min}$, а до такой точки на орбите, где обнуляется момент импульса."
   ]
  },
  {
   "cell_type": "code",
   "execution_count": 172,
   "metadata": {
    "vscode": {
     "languageId": "wolfram"
    }
   },
   "outputs": [
    {
     "data": {
      "text/html": [
       "<div><img alt=\"Output\" src=\"data:image/png;base64,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\"></div>"
      ],
      "text/plain": [
       "FormBox[RowBox[{\"-\", FractionBox[RowBox[{\"60\", \" \", \"π\", \" \", \n",
       "\n",
       " \n",
       ">           SubscriptBox[\"ϵ\", \"G\"]}], SuperscriptBox[\"u\", \"4\"]]}], TraditionalForm]\n"
      ]
     },
     "execution_count": 172,
     "metadata": {
      "text/html": [],
      "text/plain": []
     },
     "output_type": "execute_result"
    }
   ],
   "source": [
    "DeltaJSmallu = Normal[Simplify[Series[DeltaJ, {u, 0, -1}]]];\n",
    "DeltaJSmallu // TraditionalForm"
   ]
  },
  {
   "cell_type": "markdown",
   "metadata": {},
   "source": [
    "## Поведение $\\hat{J}_1$ в зависимости от начальной сокрости $u$ и параметра $\\epsilon_G$\n",
    "\n",
    "$$\n",
    "\\hat{J}_1 = \\hat{J}_0 + \\Delta \\hat{J}\n",
    "$$\n",
    "\n",
    "$\\epsilon_G = \\frac{2}{5}\\frac{\\mu}{M} \\left( \\frac{r_s}{2b} \\right)^{\\frac{5}{2}}$,\n",
    "где $r_s = \\frac{2 G M}{c^2}$ - сумма радиусов Шварцшильда двух тел.\n",
    "\n",
    "При прицельных параметрах $b$ сравнимых с радиусом Шварцшильда, $\\epsilon_G$ не мал (смотри $\\epsilon_G = 0.1, 0.5, 1, 2, 10$),\n",
    "момент полностью \"съедается\" на одном проходе вдоль гиперболической траектории.\n",
    "\n",
    "Если прицельный параметр много больше, чем $r_s$, то есть $\\epsilon_G$ мал ($\\epsilon_G = 10^{-5}$),\n",
    "то только на совсем малых скоростях может \"съесться\" момент.\n",
    "\n",
    "<span style=\"color:red\">**TODO_6:**</span> Нет отрицательного момнета!"
   ]
  },
  {
   "cell_type": "code",
   "execution_count": 173,
   "metadata": {
    "vscode": {
     "languageId": "wolfram"
    }
   },
   "outputs": [
    {
     "data": {
      "text/html": [
       "<div><img alt=\"Output\" src=\"data:image/png;base64,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\"></div>"
      ],
      "text/plain": [
       "Legended[-Graphics-, Placed[LineLegend[{Directive[Opacity[1.], RGBColor[0.24, 0.6, 0.8], \n",
       " \n",
       ">       AbsoluteThickness[2]], Directive[Opacity[1.], RGBColor[0.95, 0.627, 0.1425], \n",
       " \n",
       ">       AbsoluteThickness[2]], Directive[Opacity[1.], RGBColor[0.455, 0.7, 0.21], \n",
       " \n",
       ">       AbsoluteThickness[2]], Directive[Opacity[1.], \n",
       " \n",
       ">       RGBColor[0.922526, 0.385626, 0.209179], AbsoluteThickness[2]], \n",
       " \n",
       ">      Directive[Opacity[1.], RGBColor[0.578, 0.51, 0.85], AbsoluteThickness[2]], \n",
       " \n",
       ">      Directive[Opacity[1.], RGBColor[0.772079, 0.431554, 0.102387], \n",
       " \n",
       ">       AbsoluteThickness[2]], Directive[Opacity[1.], RGBColor[0.4, 0.64, 1.], \n",
       " \n",
       ">       AbsoluteThickness[2]]}, {EpsilonG = 10, EpsilonG = 2, EpsilonG = 1, \n",
       " \n",
       ">      EpsilonG = 0.5, EpsilonG = 0.1, EpsilonG = 10^(-2), EpsilonG = 10^(-5)}, \n",
       " \n",
       ">     LegendMarkers -> None, LabelStyle -> {}, LegendLayout -> Column], After, Identity]]"
      ]
     },
     "execution_count": 173,
     "metadata": {
      "text/html": [],
      "text/plain": []
     },
     "output_type": "execute_result"
    }
   ],
   "source": [
    "Plot[\n",
    "  {\n",
    "    u + DeltaJ /. Subscript[\\[Epsilon], G] -> 10,\n",
    "    u + DeltaJ /. Subscript[\\[Epsilon], G] -> 2,\n",
    "    u + DeltaJ /. Subscript[\\[Epsilon], G] -> 1,\n",
    "    u + DeltaJ /. Subscript[\\[Epsilon], G] -> 0.5,\n",
    "    u + DeltaJ /. Subscript[\\[Epsilon], G] -> 0.1,\n",
    "    u + DeltaJ /. Subscript[\\[Epsilon], G] -> 10^(-2),\n",
    "    u + DeltaJ /. Subscript[\\[Epsilon], G] -> 10^(-5)\n",
    "  },\n",
    "  {u, 0.0, 100},\n",
    "  AxesLabel -> {\"u\", \"J1\"},\n",
    "  PlotLegends -> {\n",
    "    \"EpsilonG = 10\",\n",
    "    \"EpsilonG = 2\",\n",
    "    \"EpsilonG = 1\",\n",
    "    \"EpsilonG = 0.5\",\n",
    "    \"EpsilonG = 0.1\",\n",
    "    \"EpsilonG = 10^(-2)\",\n",
    "    \"EpsilonG = 10^(-5)\"\n",
    "    },\n",
    "  PlotRange -> All,\n",
    "  ScalingFunctions -> {\"Log\", \"SignedLog\"}\n",
    "]"
   ]
  },
  {
   "cell_type": "markdown",
   "metadata": {},
   "source": [
    "<span style=\"color:red\">**TODO_7:**</span> Где быстрее набирается интеграл потерь момента импульса?\n",
    "\n",
    "Смотри файл binary_catch_integral.ipynb (График первообразной $\\tilde{I}_7(u_i, r)$)"
   ]
  },
  {
   "cell_type": "markdown",
   "metadata": {},
   "source": [
    "# Время слияния\n",
    "\n",
    "Пусть у нас есть \n",
    "$$\n",
    "\\begin{align}\n",
    "\\hat{E}_1 &= \\hat{E}_0 + \\Delta \\hat{E}\n",
    "\\\\\n",
    "\\hat{J}_1 &= \\hat{J}_0 + \\Delta \\hat{J}\n",
    "\\end{align}\n",
    "$$\n",
    "нужно получить время слияния $\\tau$ и параметры орбиты.\n",
    "\n",
    "$a = b/\\sqrt{1-e^2}$,\n",
    "\n",
    "$J = \\mu\\sqrt{GMa(1-e^2)} = \\mu\\sqrt{GMb}\\sqrt{\\frac{b}{a}}$\n",
    "\n",
    "Момент системы после одного полного оборота вдоль ньютоновской гиперболической орбиты с учетом излучения гравволн\n",
    "$$\n",
    "  \\hat{J}_1 = \\hat{J}_0 + \\Delta \\hat{J} = u - 4 \\epsilon_G \\left(2 u^2+\\frac{15}{u^2}+\\frac{\\left(7 u^4+15\\right) \\left(2 \\tan ^{-1}\\left(\\frac{1}{u^2}\\right)+\\pi \\right)}{2 u^4}\\right) \\approx \\sqrt{\\frac{b}{a}} = \\hat{a}^{-1/2}\n",
    "$$\n",
    "\n",
    "Отсюда характерная длина большой полуоси эллиптической орбиты в случае выполнения условия захвата после одного полного оборота будет\n",
    "$$\n",
    "a \\approx b\\hat{J}_1^{-2}\n",
    "$$\n",
    "\n",
    "А время, за которое расстояние между объектов уменьшится до нуля будет\n",
    "$$\n",
    "\\tau \\approx \\frac{5}{8}\\frac{c^5}{G^3}\\frac{b^4}{\\mu M^2} \\frac{1}{\\hat{J}_1^8}\n",
    "$$"
   ]
  },
  {
   "cell_type": "markdown",
   "metadata": {},
   "source": [
    "<span style=\"color:red\">**TODO_8:**</span> Переделать расчет $\\tau$"
   ]
  },
  {
   "cell_type": "code",
   "execution_count": 174,
   "metadata": {
    "vscode": {
     "languageId": "wolfram"
    }
   },
   "outputs": [],
   "source": [
    "(*J1Smallu = - 60 Pi eG / u^4;\n",
    "eG = 2/5*\\[Mu]/M*(G M / (b c^2))^(5/2);\n",
    "u = v/Sqrt[(G*M)/b];\n",
    "N[5/8*c^5/G^3*b^4/(\\[Mu]*M^2*J1Smallu)^(8)]*)"
   ]
  }
 ],
 "metadata": {
  "kernelspec": {
   "display_name": "Wolfram Language 14.2",
   "language": "Wolfram Language",
   "name": "wolframlanguage14.2"
  },
  "language_info": {
   "codemirror_mode": "mathematica",
   "file_extension": ".m",
   "mimetype": "application/vnd.wolfram.m",
   "name": "Wolfram Language",
   "pygments_lexer": "mathematica",
   "version": "12.0"
  }
 },
 "nbformat": 4,
 "nbformat_minor": 2
}
