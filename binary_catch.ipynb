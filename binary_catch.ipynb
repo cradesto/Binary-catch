{
 "cells": [
  {
   "cell_type": "markdown",
   "metadata": {},
   "source": [
    "# Binary catch\n",
    "\n",
    "**При каких условиях два тела, налетающие друг на друга с бесконечности (в системе центра масс) станут связной системой из-за испускания гравволн?**"
   ]
  },
  {
   "cell_type": "code",
   "execution_count": 156,
   "metadata": {
    "vscode": {
     "languageId": "wolfram"
    }
   },
   "outputs": [
    {
     "name": "stdout",
     "output_type": "stream",
     "text": [
      "  (CleanSlate) Contexts purged: {Global`}\n",
      "  (CleanSlate) Approximate kernel memory recovered: 155 Kb\n"
     ]
    }
   ],
   "source": [
    "(* https://mathematica.stackexchange.com/questions/850/how-do-i-clear-all-user-defined-symbols/861#861 *)\n",
    "<< Utilities`CleanSlate`\n",
    "CleanSlate[];\n",
    "\n",
    "ClearAll[\"Global`*\"]\n",
    "(* ClearSystemCache[] *)\n",
    "(* https://mathematica.stackexchange.com/questions/111605/quit-vs-clearallglobal *)\n",
    "if[Length[Names[\"Global`*\"]] > 0, Remove[\"Global`*\"]];\n",
    "\n",
    "(* PacletInstall[\n",
    "    \"TensorSimplify\",\n",
    "\n",
    "    \"Site\" -> \"http://raw.githubusercontent.com/carlwoll/TensorSimplify/master\"\n",
    "]; *)\n",
    "<<TensorSimplify`"
   ]
  },
  {
   "cell_type": "markdown",
   "metadata": {},
   "source": [
    "## Einstein Summation"
   ]
  },
  {
   "cell_type": "code",
   "execution_count": 165,
   "metadata": {
    "vscode": {
     "languageId": "wolfram"
    }
   },
   "outputs": [],
   "source": [
    "ClearAll@EinsteinSummation\n",
    "\n",
    "EinsteinSummation[in_List, arrays_] := Module[\n",
    "  {res =\n",
    "    isum[in -> Cases[Tally @ Flatten @ in, {_, 1}][[All, 1]], arrays]},\n",
    "  res /; res =!= $Failed\n",
    "  ]\n",
    "\n",
    "EinsteinSummation[in_List -> out_, arrays_] := Module[\n",
    "  {res = isum[in -> out, arrays]},\n",
    "  res /; res =!= $Failed\n",
    "  ]\n",
    "\n",
    "isum[in_List -> out_, arrays_List] := Catch@Module[\n",
    "  {indices, contracted, uncontracted, contractions, transpose},\n",
    "  If[Length[in] != Length[arrays],\n",
    "    Message[EinsteinSummation::length, Length[in], Length[arrays]];\n",
    "    Throw[$Failed]];\n",
    "  MapThread[\n",
    "    If[IntegerQ@TensorRank[#1] && Length[#1] != TensorRank[#2],\n",
    "      Message[EinsteinSummation::shape, #1, #2];\n",
    "      Throw[$Failed]] &, {in, arrays}];\n",
    "  indices = Tally[Flatten[in, 1]];\n",
    "  If[DeleteCases[indices, {_, 1 | 2}] =!= {},\n",
    "    Message[EinsteinSummation::repeat,\n",
    "      Cases[indices, {x_, Except[1 | 2]} :> x]];\n",
    "    Throw[$Failed]];\n",
    "  uncontracted = Cases[indices, {x_, 1} :> x];\n",
    "  If[Sort[uncontracted] =!= Sort[out],\n",
    "    Message[EinsteinSummation::output, uncontracted, out];\n",
    "    Throw[$Failed]];\n",
    "  contracted = Cases[indices, {x_, 2} :> x];\n",
    "  contractions = Flatten[Position[Flatten[in, 1], #]] & /@ contracted;\n",
    "  transpose = FindPermutation[uncontracted, out];\n",
    "  Activate@\n",
    "    TensorTranspose[\n",
    "      TensorContract[Inactive[TensorProduct] @@ arrays, contractions],\n",
    "    transpose]]\n",
    "\n",
    "EinsteinSummation::length =\n",
    "  \"Number of index specifications (`1`) does not match the number of \\\n",
    "tensors (`2`)\";\n",
    "EinsteinSummation::shape =\n",
    "  \"Index specification `1` does not match the tensor rank of `2`\";\n",
    "EinsteinSummation::repeat =\n",
    "  \"Index specifications `1` are repeated more than twice\";\n",
    "EinsteinSummation::output =\n",
    "  \"The uncontracted indices don't match the desired output\";"
   ]
  },
  {
   "cell_type": "code",
   "execution_count": 173,
   "metadata": {
    "vscode": {
     "languageId": "wolfram"
    }
   },
   "outputs": [],
   "source": [
    "(* Правила для скрытия аргументов в TraditionalForm *)\n",
    "\n",
    "Unprotect[Subscript, OverHat, Derivative];\n",
    "\n",
    "MakeBoxes[OverHat[r_][OverHat[t]], TraditionalForm] :=\n",
    "  MakeBoxes[OverHat[r], TraditionalForm]\n",
    "\n",
    "MakeBoxes[\\[Phi][OverHat[t]], TraditionalForm] :=\n",
    "  MakeBoxes[\\[Phi], TraditionalForm]\n",
    "\n",
    "MakeBoxes[Subscript[OverHat[r], n_][OverHat[t]], TraditionalForm] :=\n",
    "  SubscriptBox[OverscriptBox[\"r\", \"^\"], ToString[n]];\n",
    "\n",
    "MakeBoxes[OverHat[\\[Omega]][OverHat[t]], TraditionalForm] :=\n",
    "  OverscriptBox[\"\\[Omega]\", \"^\"];\n",
    "\n",
    "MakeBoxes[Derivative[n_][f_][OverHat[t]], TraditionalForm] := Module[{primes},\n",
    "  primes = StringJoin[Table[\"\\[Prime]\", n]];\n",
    "  SuperscriptBox[ToBoxes[f], primes]\n",
    "];\n",
    "\n",
    "Protect[Subscript, OverHat, Derivative];"
   ]
  },
  {
   "cell_type": "markdown",
   "metadata": {},
   "source": [
    "$\\hat{r}_k$"
   ]
  },
  {
   "cell_type": "code",
   "execution_count": 182,
   "metadata": {
    "vscode": {
     "languageId": "wolfram"
    }
   },
   "outputs": [
    {
     "data": {
      "text/html": [
       "<div><img alt=\"Output\" src=\"data:image/png;base64,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\"></div>"
      ],
      "text/plain": [
       "FormBox[TagBox[RowBox[{\"(\", \"⁠\", \n",
       "\n",
       " \n",
       ">         TagBox[GridBox[{{RowBox[{OverscriptBox[\"r\", \"^\"], \" \", \n",
       "\n",
       " \n",
       ">               RowBox[{\"cos\", \"(\", \"ϕ\", \")\"}]}]}, \n",
       "\n",
       " \n",
       ">            {RowBox[{OverscriptBox[\"r\", \"^\"], \" \", RowBox[{\"sin\", \"(\", \"ϕ\", \")\"}]}]}}, \n",
       "\n",
       " \n",
       ">           Rule[RowSpacings, 1], Rule[ColumnAlignments, Center], \n",
       "\n",
       " \n",
       ">           Rule[ColumnAlignments, Left]], Column], \"⁠\", \")\"}], \n",
       "\n",
       " \n",
       ">       Function[BoxForm`e$, MatrixForm[BoxForm`e$]]], TraditionalForm]\n"
      ]
     },
     "execution_count": 182,
     "metadata": {
      "text/html": [],
      "text/plain": []
     },
     "output_type": "execute_result"
    }
   ],
   "source": [
    "rh = {OverHat[r][OverHat[t]]*Cos[\\[Phi][OverHat[t]]], OverHat[r][OverHat[t]]*Sin[\\[Phi][OverHat[t]]]};\n",
    "rh // MatrixForm // TraditionalForm"
   ]
  },
  {
   "cell_type": "code",
   "execution_count": 183,
   "metadata": {
    "vscode": {
     "languageId": "wolfram"
    }
   },
   "outputs": [],
   "source": [
    "$Assumptions = {\n",
    "  {OverHat[r][OverHat[t]], OverHat[t], rh, Subscript[OverHat[r],2][OverHat[t]]} \\[Element] PositiveReals\n",
    "};"
   ]
  },
  {
   "cell_type": "markdown",
   "metadata": {},
   "source": [
    "## Система движения в декартовых координатах\n",
    "$$\n",
    "\\frac{d^2r_k}{dt^2} = -\\frac{G(m_A+m_B)}{r^3}r_k - \\frac{2}{5}f_{ki}^{(5)}r_i\n",
    "$$\n",
    "\n",
    "Ч.Мизнер, К.Торн, Дж.Уилер Гравтация, Т.3, §36.8, стр. 222\n",
    "\n",
    "$f_{ki}$ - квадрупольный момент системы."
   ]
  },
  {
   "cell_type": "markdown",
   "metadata": {},
   "source": [
    "Введём обозначения для полноый и приведённой масс\n",
    "\n",
    "$$\n",
    "M=m_A+m_B; \\quad\n",
    "\\mu = m_{AB} = \\frac{m_A m_B}{M}\n",
    "$$"
   ]
  },
  {
   "cell_type": "markdown",
   "metadata": {},
   "source": [
    "### Безразмерные единицы\n",
    "$$\n",
    "\\begin{align}\n",
    "r &= b\\hat{r} \\\\\n",
    "t &= t_0\\hat{t} \\\\\n",
    "f_{ij} &= b^2\\frac{G}{c^5}\\mu\\hat{f}_{ij} \\\\\n",
    "f_{ij}^{(5)} &= \\frac{b^2}{t_0^5}\\frac{G}{c^5}\\mu\\hat{f}_{ij}^{(5)}\n",
    "\\end{align}\n",
    "$$"
   ]
  },
  {
   "cell_type": "markdown",
   "metadata": {},
   "source": [
    "$\\hat{f}_{ki}$"
   ]
  },
  {
   "cell_type": "code",
   "execution_count": 185,
   "metadata": {
    "vscode": {
     "languageId": "wolfram"
    }
   },
   "outputs": [
    {
     "data": {
      "text/html": [
       "<div><img alt=\"Output\" src=\"data:image/png;base64,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\"></div>"
      ],
      "text/plain": [
       "FormBox[TagBox[RowBox[{\"(\", \"⁠\", \n",
       "\n",
       " \n",
       ">         GridBox[{{RowBox[{FractionBox[\"1\", \"6\"], \" \", \n",
       "\n",
       " \n",
       ">              SuperscriptBox[OverscriptBox[\"r\", \"^\"], \"2\"], \" \", \n",
       "\n",
       " \n",
       ">              RowBox[{\"(\", RowBox[{RowBox[{\"3\", \" \", \n",
       "\n",
       " \n",
       ">                    RowBox[{\"cos\", \"(\", RowBox[{\"2\", \" \", \"ϕ\"}], \")\"}]}], \"+\",\\\n",
       " \n",
       ">    \"1\"}]\\\n",
       ", \")\"}]}], RowBox[{SuperscriptBox[OverscriptBox[\"r\", \"^\"], \"2\"], \" \", \n",
       "\n",
       " \n",
       ">              RowBox[{\"sin\", \"(\", \"ϕ\", \")\"}], \" \", RowBox[{\"cos\", \"(\", \"ϕ\", \")\"}]}]}, \n",
       "\n",
       " \n",
       ">           {RowBox[{SuperscriptBox[OverscriptBox[\"r\", \"^\"], \"2\"], \" \", \n",
       "\n",
       " \n",
       ">              RowBox[{\"sin\", \"(\", \"ϕ\", \")\"}], \" \", RowBox[{\"cos\", \"(\", \"ϕ\", \")\"}]}], \n",
       "\n",
       " \n",
       ">            RowBox[{FractionBox[\"1\", \"3\"], \" \", \n",
       "\n",
       " \n",
       ">              SuperscriptBox[OverscriptBox[\"r\", \"^\"], \"2\"], \" \", \n",
       "\n",
       " \n",
       ">              RowBox[{\"(\", RowBox[{RowBox[{\"3\", \" \", \n",
       "\n",
       " \n",
       ">                    RowBox[{SuperscriptBox[\"sin\", \"2\"], \"(\", \"ϕ\", \")\"}]}], \"-\", \"1\"}], \n",
       "\n",
       " \n",
       ">                \")\"}]}]}}, Rule[RowSpacings, 1], Rule[ColumnSpacings, 1], \n",
       "\n",
       " \n",
       ">          Rule[RowAlignments, Baseline], Rule[ColumnAlignments, Center]], \"⁠\", \")\"}], \n",
       "\n",
       " \n",
       ">       Function[BoxForm`e$, MatrixForm[BoxForm`e$]]], TraditionalForm]\n"
      ]
     },
     "execution_count": 185,
     "metadata": {
      "text/html": [],
      "text/plain": []
     },
     "output_type": "execute_result"
    }
   ],
   "source": [
    "fh = Simplify[Array[rh[[#]]*rh[[#2]] - 1/3*KroneckerDelta[#, #2]*(OverHat[r][OverHat[t]])^2 &, {2, 2}], Trig -> True];\n",
    "fh // MatrixForm // TraditionalForm"
   ]
  },
  {
   "cell_type": "markdown",
   "metadata": {},
   "source": [
    "$\\hat{f}_{ki}^{(5)}$"
   ]
  },
  {
   "cell_type": "code",
   "execution_count": 189,
   "metadata": {
    "vscode": {
     "languageId": "wolfram"
    }
   },
   "outputs": [
    {
     "data": {
      "text/html": [
       "<div><img alt=\"Output\" src=\"data:image/png;base64,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\"></div>"
      ],
      "text/plain": [
       "FormBox[TagBox[RowBox[{\"(\", \"⁠\", \n",
       "\n",
       " \n",
       ">         GridBox[{{TemplateBox[List[SubscriptBox[OverscriptBox[\"f\", \"^\"], \n",
       "\n",
       " \n",
       ">               RowBox[List[\"x\", \",\", \"x\"]]], \"\\\"(5)\\\"\"], \"Superscript\", \n",
       "\n",
       " \n",
       ">             Rule[SyntaxForm, SuperscriptBox]], \n",
       "\n",
       " \n",
       ">            TemplateBox[List[SubscriptBox[OverscriptBox[\"f\", \"^\"], \n",
       "\n",
       " \n",
       ">               RowBox[List[\"x\", \",\", \"y\"]]], \"\\\"(5)\\\"\"], \"Superscript\", \n",
       "\n",
       " \n",
       ">             Rule[SyntaxForm, SuperscriptBox]]}, \n",
       "\n",
       " \n",
       ">           {TemplateBox[List[SubscriptBox[OverscriptBox[\"f\", \"^\"], \n",
       "\n",
       " \n",
       ">               RowBox[List[\"x\", \",\", \"y\"]]], \"\\\"(5)\\\"\"], \"Superscript\", \n",
       "\n",
       " \n",
       ">             Rule[SyntaxForm, SuperscriptBox]], \n",
       "\n",
       " \n",
       ">            TemplateBox[List[SubscriptBox[OverscriptBox[\"f\", \"^\"], \n",
       "\n",
       " \n",
       ">               RowBox[List[\"y\", \",\", \"y\"]]], \"\\\"(5)\\\"\"], \"Superscript\", \n",
       "\n",
       " \n",
       ">             Rule[SyntaxForm, SuperscriptBox]]}}, Rule[RowSpacings, 1], \n",
       "\n",
       " \n",
       ">          Rule[ColumnSpacings, 1], Rule[RowAlignments, Baseline], \n",
       "\n",
       " \n",
       ">          Rule[ColumnAlignments, Center]], \"⁠\", \")\"}], \n",
       "\n",
       " \n",
       ">       Function[BoxForm`e$, MatrixForm[BoxForm`e$]]], TraditionalForm]\n"
      ]
     },
     "execution_count": 189,
     "metadata": {
      "text/html": [],
      "text/plain": []
     },
     "output_type": "execute_result"
    }
   ],
   "source": [
    "(* fh5 = Array[Superscript[Subscript[OverHat[f], {x, y}[[#1]], {x, y}[[#2]]], \"(5)\"] &, {2, 2}] *)\n",
    "(* Symmetric version *)\n",
    "fh5 = Array[If[#1 <= #2,\n",
    "                    Superscript[Subscript[OverHat[f], {x, y}[[#1]], {x, y}[[#2]]], \"(5)\"],\n",
    "                    Superscript[Subscript[OverHat[f], {x, y}[[#2]], {x, y}[[#1]]], \"(5)\"]] &, {2, 2}];\n",
    "fh5 // MatrixForm // TraditionalForm"
   ]
  },
  {
   "cell_type": "markdown",
   "metadata": {},
   "source": [
    "$\\hat{f}_{ki}^{(5)}\\hat{r}_i$"
   ]
  },
  {
   "cell_type": "code",
   "execution_count": 191,
   "metadata": {
    "vscode": {
     "languageId": "wolfram"
    }
   },
   "outputs": [
    {
     "data": {
      "text/html": [
       "<div><img alt=\"Output\" src=\"data:image/png;base64,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\"></div>"
      ],
      "text/plain": [
       "FormBox[TagBox[RowBox[{\"(\", \"⁠\", \n",
       "\n",
       " \n",
       ">         TagBox[GridBox[{{RowBox[{RowBox[{OverscriptBox[\"r\", \"^\"], \" \", \n",
       "\n",
       " \n",
       ">                 RowBox[{\"sin\", \"(\", \"ϕ\", \")\"}], \" \", \n",
       "\n",
       " \n",
       ">                 TemplateBox[List[SubscriptBox[OverscriptBox[\"f\", \"^\"], \n",
       "\n",
       " \n",
       ">                    RowBox[List[\"x\", \",\", \"y\"]]], \"\\\"(5)\\\"\"], \"Superscript\", \n",
       "\n",
       " \n",
       ">                  Rule[SyntaxForm, SuperscriptBox]]}], \"+\", \n",
       "\n",
       " \n",
       ">               RowBox[{OverscriptBox[\"r\", \"^\"], \" \", RowBox[{\"cos\", \"(\", \"ϕ\", \")\"}], \n",
       "\n",
       " \n",
       ">                 \" \", TemplateBox[List[SubscriptBox[OverscriptBox[\"f\", \"^\"], \n",
       "\n",
       " \n",
       ">                    RowBox[List[\"x\", \",\", \"x\"]]], \"\\\"(5)\\\"\"], \"Superscript\", \n",
       "\n",
       " \n",
       ">                  Rule[SyntaxForm, SuperscriptBox]]}]}]}, \n",
       "\n",
       " \n",
       ">            {RowBox[{RowBox[{OverscriptBox[\"r\", \"^\"], \" \", \n",
       "\n",
       " \n",
       ">                 RowBox[{\"cos\", \"(\", \"ϕ\", \")\"}], \" \", \n",
       "\n",
       " \n",
       ">                 TemplateBox[List[SubscriptBox[OverscriptBox[\"f\", \"^\"], \n",
       "\n",
       " \n",
       ">                    RowBox[List[\"x\", \",\", \"y\"]]], \"\\\"(5)\\\"\"], \"Superscript\", \n",
       "\n",
       " \n",
       ">                  Rule[SyntaxForm, SuperscriptBox]]}], \"+\", \n",
       "\n",
       " \n",
       ">               RowBox[{OverscriptBox[\"r\", \"^\"], \" \", RowBox[{\"sin\", \"(\", \"ϕ\", \")\"}], \n",
       "\n",
       " \n",
       ">                 \" \", TemplateBox[List[SubscriptBox[OverscriptBox[\"f\", \"^\"], \n",
       "\n",
       " \n",
       ">                    RowBox[List[\"y\", \",\", \"y\"]]], \"\\\"(5)\\\"\"], \"Superscript\", \n",
       "\n",
       " \n",
       ">                  Rule[SyntaxForm, SuperscriptBox]]}]}]}}, Rule[RowSpacings, 1], \n",
       "\n",
       " \n",
       ">           Rule[ColumnAlignments, Center], Rule[ColumnAlignments, Left]], Column], \"⁠\",\\\n",
       " \n",
       ">    \n",
       "      \")\"}], Function[BoxForm`e$, MatrixForm[BoxForm`e$]]], TraditionalForm]\n"
      ]
     },
     "execution_count": 191,
     "metadata": {
      "text/html": [],
      "text/plain": []
     },
     "output_type": "execute_result"
    }
   ],
   "source": [
    "fh5rh = EinsteinSummation[{{k, i}, {i}}, {fh5, rh}];\n",
    "fh5rh // MatrixForm // TraditionalForm"
   ]
  },
  {
   "cell_type": "markdown",
   "metadata": {},
   "source": [
    "Система движения в безразмерной записи будет выглядеть как"
   ]
  },
  {
   "cell_type": "markdown",
   "metadata": {},
   "source": [
    "$$\n",
    "\\frac{d^2\\hat{r}_k}{d\\hat{t}^2} = -\\frac{t_0^2}{b^3}\\frac{GM}{\\hat{r}^3}\\hat{r}_k - \\frac{2}{5}\\frac{b^2}{t_0^3}\\frac{G}{c^5}\\mu\\hat{f}_{ki}^{(5)}\\hat{r}_i\n",
    "$$"
   ]
  },
  {
   "cell_type": "markdown",
   "metadata": {},
   "source": [
    "Пусть $t_0 = \\sqrt{\\frac{b^3}{GM}}$, а $b$ - прицельное расстояние, тогда система движения перепишется как\n",
    "\n",
    "$$\n",
    "\\frac{d^2\\hat{r}_k}{d\\hat{t}^2} + \\frac{\\hat{r}_k}{\\hat{r}^3} = - \\epsilon_G\\hat{f}_{ki}^{(5)}\\hat{r}_i\\quad,\n",
    "$$\n",
    "или\n",
    "$$\n",
    "\\hat{r}_k^{(2)} + \\frac{\\hat{r}_k}{\\hat{r}^3} = - \\epsilon_G\\hat{f}_{ki}^{(5)}\\hat{r}_i\\quad,\n",
    "$$\n",
    "\n",
    "где безразмерная постоянная $\\epsilon_G = \\frac{2}{5}\\frac{b^2}{t_0^3}\\frac{G}{c^5}\\mu = \\frac{2}{5}\\frac{\\mu}{M} \\left( \\frac{GM}{bc^2} \\right)^{\\frac{5}{2}}$.\n",
    "\n",
    "Заметим , что $f_{ij}^{(5)} = \\frac{5}{2}\\frac{\\epsilon_G}{t_0^2}\\hat{f}_{ij}^{(5)}$"
   ]
  },
  {
   "cell_type": "markdown",
   "metadata": {},
   "source": [
    "## Переход к полярным координатам от декартовых\n",
    "Повернём систему с помощью матрицы вращения $R_{ij}(\\phi)$ на угол $\\phi$ по **часовой** стрелке"
   ]
  },
  {
   "cell_type": "code",
   "execution_count": 192,
   "metadata": {
    "vscode": {
     "languageId": "wolfram"
    }
   },
   "outputs": [
    {
     "data": {
      "text/html": [
       "<div><img alt=\"Output\" src=\"data:image/png;base64,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\"></div>"
      ],
      "text/plain": [
       "FormBox[TagBox[RowBox[{\"(\", \"⁠\", \n",
       "\n",
       " \n",
       ">         GridBox[{{RowBox[{\"cos\", \"(\", \"ϕ\", \")\"}], RowBox[{\"sin\", \"(\", \"ϕ\", \")\"}]}, \n",
       "\n",
       " \n",
       ">           {RowBox[{\"-\", RowBox[{\"sin\", \"(\", \"ϕ\", \")\"}]}], \n",
       "\n",
       " \n",
       ">            RowBox[{\"cos\", \"(\", \"ϕ\", \")\"}]}}, Rule[RowSpacings, 1], \n",
       "\n",
       " \n",
       ">          Rule[ColumnSpacings, 1], Rule[RowAlignments, Baseline], \n",
       "\n",
       " \n",
       ">          Rule[ColumnAlignments, Center]], \"⁠\", \")\"}], \n",
       "\n",
       " \n",
       ">       Function[BoxForm`e$, MatrixForm[BoxForm`e$]]], TraditionalForm]\n"
      ]
     },
     "execution_count": 192,
     "metadata": {
      "text/html": [],
      "text/plain": []
     },
     "output_type": "execute_result"
    }
   ],
   "source": [
    "RotationMatrix[-\\[Phi]] // MatrixForm // TraditionalForm"
   ]
  },
  {
   "cell_type": "markdown",
   "metadata": {},
   "source": [
    "#### LHS системы после поворота"
   ]
  },
  {
   "cell_type": "code",
   "execution_count": 194,
   "metadata": {
    "vscode": {
     "languageId": "wolfram"
    }
   },
   "outputs": [
    {
     "data": {
      "text/html": [
       "<div><img alt=\"Output\" src=\"data:image/png;base64,iVBORw0KGgoAAAANSUhEUgAAAcAAAAA+CAIAAAAzqFz5AAAAy3pUWHRSYXcgcHJvZmlsZSB0eXBlIGV4aWYAAHjabU/bDQMhDPtnio6QBzgwDndHpW7Q8Rsep4qqlogd54ES2vv1DI8OYQoxWUYByBFLLFJdZJqYzFRGHDhvxbsftE3B1a30LeD2j903TJb8s4hkCu0/uNa4BtYilelznfmx+qXmvC9S2oBb8P88qgkS2KLHKGSG4joHl05IQsnwxAl4I+MSiqdzg5mPwXqH1j7YIc327hagblz9BO0vaXVWj6wi062e24gsx6qOQ8IHkcta25liM3YAAAAJcEhZcwAADsQAAA7EAZUrDhsAAAA8dEVYdFNvZnR3YXJlAENyZWF0ZWQgd2l0aCB0aGUgV29sZnJhbSBMYW5ndWFnZSA6IHd3dy53b2xmcmFtLmNvbVyipoUAAAAhdEVYdENyZWF0aW9uIFRpbWUAMjAyNTowMzoxMiAyMDozNzozMaOPsuEAAB6TSURBVHic7Z15VBRX+vevTYvJgGw2iAxC3DgZEZcDqDCOE+wAikY9BIUZUQcVNGrM4lEhbKKyuEQBxQXUI6BgZIt6hIAIiHhEZURQ3EigoRUVadltm+6u+/5x89bUr5eiurqwIanPX7du3eep537rqVvV1beqhkEIAQsLCwuL5nB1HcAg5erVq3l5eZ988klZWVlUVJSTk1NUVFR7e7uNjc3t27f37t07btw4oVCYkJBgZWVVXV198OBBc3Pze/fuDR8+3MHBATmJjY0NCQkBANy5c8fU1HTSpEk67RMLSz9gGBYSEtLd3S2RSDAMS0lJ4XLZIYIUSKCmpqa4uBj+6Xn16pWRkdHr168hhKmpqZcvX87MzJw8eTKGYRDC+Pj4zz77DEIYHBy8Y8cOCGFBQYFQKBSJRLt378adPHv2bNeuXfhicHCwRCL50D1h0RCJRNLe3q7rKHRGUVHR9OnTUXnMmDHnz5/XbTwfntbWVnWrfv3110uXLilUcvCRtLS09OjRo3w+X3mQjY2NNTY2vn///gcc2HVJSUnJqFGjLCwsAACrVq1atGhRSUnJzJkzhw0bBgCYNWvWjRs3pFLp3Llzk5KS/v3vf1tZWVlbW+fk5Dg5OQEA5HL5qVOnEhMT29vbL1y4gHyOHz++pKREVz0Si8WTJ0/esmWLrgLQlAFKOXK3GIaFhoZ+/PHHzG50CMHn88vKygAAEEIMw9ra2hh0PiSSsKWl5fTp0ypXTZgwQSAQHDlyhFj5+wAqEokiIyMPHjyobFZeXn737t38/PytW7d2d3ejSrFYjMTFC38k5HL5mzdvMAwjVqLRk4ibm9uzZ89sbW1nzZp169YtgUBgaWkJAIiPj7e3tzc0NIyKisrJyUGNLS0tGxsbtQysq6tr27ZtXl5e/v7+zs7OKSkpFA2lUqlIJHrz5o2WATAISeaQpxxtVLolEh8fv2TJkhEjRmizlSGBOjE5HI6xsTEAoKysDMMwb29vBjc6CJMQKA1l06ZNa2pqqqurU9n466+/rqiouH379v+q0IXo6tWrExMTVV64ZmVlyeVyCOHLly/LyspQ5ffff//1118TC7oCxcYs9fX1XC73xo0bEMKOjo5z585lZGTY29ujtYmJif/85z8hhN999927d+8ghAEBATExMbGxsRUVFRBCd3d3qVS6d+/egoKCtLQ0ZJWZmZmenq5lYG5ubtbW1r29vRDCtLQ0AEBeXh5FW6lUquXWcehprmBFkjnkKUcblW5xuru7Fy1apI3/AYKRDKcuPoTw0aNHHh4eTU1N2m9XAZ0nobKh8lD26tUrPz8/dea3b992cHDo6+tDiwBC2Nraqq+vT/LjH20V3QFE5YkTJzY2NuIFej2hjkwmO3TokFAoVKh3cnK6fPkyvnjv3j3tBylEWlqao6PjmjVrtm3b9vbtWwzDwsPDv/vuu0OHDvn4+Pz2228QwszMTB8fn3379q1cubK1tbWiouLEiRMQwoSEhD179sTFxZ0+fRp3GBER0dDQoE1IYrHYwMDg0KFDaLG5uRkA4O/vr5EH6o2Z1VzBikrmqEw5yuH371OBM2fOJCUlaemfNoyoTdEJUUxlh9XV1YGBgegkPRDoMAmVDdUNZYsWLXrz5o06J5MmTbpy5QoqAwhhWlqah4eHuta7du3i8/kWFhZtbW3+/v48Hi87O/vAgQMQwtLSUlRQyc2bN729vQMDA+3t7b28vOrq6lB9fX390qVLvb29V6xYwefzL168iJsIBIJly5b5+vry+Xx3d3dcuICAgJqaGgX/L168+OijjxT2dGZm5r59+9SFNNAkJCSgU1NeXh7xZNvV1ZWcnKy9f4FAgB//HR0dAAB3d3flNgoadnR0+Pr6jh07Fp1XOzs716xZ8+mnn0ZHR9+6dcvHx4fH49nZ2RUUFBD9MKi5shV55pCkHG2Ufb548YLYwMfHp7KykrpDBtMbMqQ2RScK4hMdtrW1LVy4UCaToUV8mNCUQZiEKg1xKRQ0CQ0NPXPmjDo/ERERmzZtQmUAIfzXv/61fft2da1lMtmSJUv4fH5wcHBYWNiXX35ZWlqKJL5x4wautQLFxcX6+vpoB7S3t/N4PCcnJwhhc3OzoaHhxo0bUbMrV64AAPDfuS4uLiEhIajs6emJfhFnZGSsXbtWeROZmZnz589Xrp89e3Z1dbW67kAIT5w48fDhQ5IGtJHL5fX19RDCq1evEuufPn3K+LauXbsGAFDecSo17Ozs1NfXx3+YiMVifX19CwuLsLCwjo6O1tbWKVOmmJmZoTsSkGnNla1IMgeSppw6+t2nyj7xX2EIW1vblpYWEg9EGExvyJDa1J0oi4873Llzp6GhoaWlpaWlpampKZpkQoNBmIQqDXEpFDRJTk7evHmzOj85OTnjx49HZQAhtLS0RL891TFjxowZM2ZoNAq4uLhMnjwZXywrK0NXzl999RUAgHh7ZerUqba2thBCqVTK4XCio6NxE7RFZ2fn/Px8ovNr166Fh4fPnDnTw8NjwYIFCnkfExOzbt06ktjWr19fWlpKvS+DEAzDPv/8cxsbG4UfGuo0hBCamJgQ7+yYmJg4Ojriiz/++CMA4P79+2iRKc3JrUjQNOWo7FMSn+3t7QAA6vPMGExvyJDamjrp1yFtBlsS9muoTFZW1pw5c9StRbM4BAIBhBDI5XIOh6Nw5Uykt7eXy+UuW7aMfJMKJgAAHx8f5VXOzs5mZmbEmpUrVwIA0EAwa9YsPT09Pz+/8vJytLa1tRUA0NbWhrdPS0tbsWIFhmEODg4CgSAkJEQhtuLiYisrK5Lw+j3YpFKpZGBQdwNOU0JCQpydnV++fKm8SllDhHLu+vr64ovp6ekAAHSlwJTm/Vqpg0bK9btPyX0+efJk+PDhFLfFYHpDhtSm4YTcoZYMniSkYqjML7/8MmnSJHVr3759CwBAN3y47e3tGIYZGBio+5u/qqpKJpP5+flRnxnw8uVLAMDIkSNVrjIxMSHWmJqaAgBaWlp4PF5ubm5kZGRqaur58+fnzJmTk5Pz/PlzPT09MzMz1Li5uXnz5s11dXWdnZ3Dhg2ztbW1s7PLy8sjOuTxeK9evZLJZMSHKCCEhYWFqCwUCu/cufP+/XsAgKWl5fTp0xWC9PHx0X7KkUpyc3MnTJigUEmMjYjK2AAAYWFhjx49un79usoZi8oaogmtyhAnZhHLQqFQe82pWKmDYspptE/JfXZ2dqrLFiLIM4PpbWFhwYjaNJyQO1QJ9UQdJElIQwoEl8vt7OxUtxaNliKRCADARaMpyeThW7ducblcDw8P8k0SMTc3BwC8fv1aedWYMWMaGhqINejPECsrq76+PlNT05SUlPDw8D179qSkpERERKxZs2b48OG4sunp6fb29tbW1vn5+fPnzwcANDY22tnZER2OGDECwzCFWZzorILK6GBraWkBAEyfPl35YPv555+pd1Z7iLERURlbaGioUCjMzs5WmesqNTx+/LhG8chkMu01p2KlDoopp9E+Jfcpk8k4nP89VEK+RxhM7+PHjzOiNg0n5A5VQjFRB08SUjRUhsPhyGQydWv19fU5HA4aObloHCUZQCsrK52cnAwNDck3ScTIyMjW1ra8vFwsFuOe4+Pjv/32Wycnp7t37wqFwrFjx6L6mpoaGxsbHo/35MmTY8eOJSQk2NjYJCcnP3z48OnTp+bm5u/fv+/r69PX1wcANDQ0IMOKioqFCxdiGJaVlaUw/7+rq8vY2Bi1JyoSHx+Pyhs2bPDz8/vss8+o92hAIcZGTmpqam1t7aVLl/DEEgqFRkZGaPIzAKChoUFZQ03jYURzKlbqoJhyGu1Tcp/GxsZyuVylZ2UYTG/AkNo0nJA7VAnFRB08SUjRUBmpVIofUyr5+OOP0cjJQb969PT01DWtrKykMdZERkb29PQEBgZ2dHS8e/cuKSkJXR0EBwcbGBjs378fNSssLKypqdm9ezcAYNSoUSdPnkTTGzEMa2lpcXNzs7GxMTMzw39Q29nZPXv2DABQV1fn6uqamJjo5uaGTiw4AoFg2rRpmgZMGwzDduzYsXHjxrVr1wYEBJCcuLREJBJ988038+fPLyoqKiwsLCwszM3N9ff3J146qdQQj5N4clZYRMMHqmFEcypW6qCXctr4NDU1lUgk1L0xld6AIbVpOCF3qA2DJwkpGiojFovRvRd1cLlcsVgMAAClpaUAgMePH6u8XSoQCKysrEpKSsjvuaokIyPD0dHRxMRk4sSJkZGR+AMAT58+Xbx48fLly1etWsXn8/FnaTAMi4uLc3FxWb16taen5w8//IAmmgQEBJw8eRK16enpWb58eVBQ0MyZM6Oiog4fPqz8t8yWLVsSEhJIAmP2X/gP9v6FpKQk5R05e/ZsYhuVGj5//jwoKAhldkREhMIihDArK8vR0REAMG/ePPQ2Ge01p2KlEnopR75Pqfg0MTHp6emhvkWm0hsylOGaOunXIW0GTxLSkAKRmppK/oiKsbFxbGwshLCfAXQwIBAI5s2bR3wAq7y8/MKFCyobi0SiuXPnavS0g5bI5fKOjg4IIYZho0ePPnLkyAfb9MDBlOYkVoMNNzc3NIf3w8OI2ho5oeJQ5zB44GuahzExMQcPHiRpMJQGUAjhzZs39+/fjy/Gx8d3dnYqN5NIJDt27EDzswaU+vp6X1/f7u5uYmVJSYm5uTn1qY6DHEY0V2c1CImOjv7pp590tXVG1KbohLpDncPUga9pHvr7+9fW1pI0GGIDKIRQIBDg85PVPbNcU1PzYQ7X7Ozs9vZ24izfgXv/gg7RXnMdPl2uKQ0NDStXrtRhAIxkOBUnGjnUOYzIolEeSiQSPp9P3mboDaCDCqlUSnwQcKDfv8DyYQgMDFR+bwXLn4309PSsrCzyNvgAylH+X4KFnAcPHvzjH/+IjY318fHx9fUViURhYWHHjh37y1/+AgDIz8/XdYAsNImJiTl8+LCuo2DRJR0dHVVVVT4+PhTbsx880RgHB4dhw4bJ5fKjR49KJJIjR45cv37d2toaACCRSIKCgry8vHQdIwsdeDzeunXrXr9+PXr0aF3HwqIbfv31171791Jvzw6gGtPX13fv3r3IyEj0dFpkZGRkZKSug2JhBvbDf39y0Fd5qMP+hNeY6upqCwsLjZ5tZWFh+UPCDqAaU1lZ6e7urvyJJBYWlj8b7ACqMTU1NQsWLNB1FCwsLLqHvQeqMeq+esrCwvJng70CZWFhYaEJO4CysLCw0IQdQFlYWFhowg6gLCwsLDRhB1AWFhYWmrADKAsLCwtN2AFUY4qLi5uamnQdBQsLi+5hB1CNiY2NVfltQhYWlj8b7ER6jbl27Vq/H4BlYWH5M8BegfaDVCrdvn17UlLSunXrrl+/XllZaW9vn5KSIpPJvv/+e1dX11OnTgUFBVlbW1+9ehWZ3Lt378GDB7iH2NhYVLhz5059fb0O+sBCl76+PvRhd5ahjsqv575580ZLtzoeQMVi8eTJk7ds2aLbMEgoKSkpLy/ftGlTdHR0V1fX7Nmz0as/uVzusmXL7ty54+bmlpycvHHjxoSEBADA27dv8/PzHRwckHl9fT3+oeOZM2eePn26r69PV31h0QgMw0JDQ/Evv7MgBv8xq5Jr164VFRUdPXr01KlThYWFOTk5AICWlhYtn8ymP4DGxsYaGxvfv39fm81LpVKRSKT9eWDgmDJlSlNT09y5c+/evfvFF18AAPDvsHM4HB6PN378eADA1KlTf/vtNwBATk4OeqWgXC4/depUYmJie3v7hQsXkMn48eNLSkq0iaerq2vbtm1eXl7+/v7Ozs4pKSnaeBsSMJJpNNzGx8cvWbJkxIgRzG53qDP4j1mV8Pn8srIyAACEEMOwtrY2AMC0adOamprq6upou6U5gJaXl9+9ezc/P3/r1q3d3d2oUiwWo7DwQr8YGRm9ePEiMzOTXhgKDMStyVGjRjU0NPj6+m7YsEH5VdX4S+3wgkAgsLS0BADEx8fb29sbGhpGRUWh0x0AwNLSsrGxUZt4li5dev78+ezs7LNnz27ZsiUoKOjnn3/WxqGW0NZcwVBdzpBnGm1UuiXS09NTWlo6Z84cbbZCA3p6qhNTe6GUYfCYZeqApZJLHA7H2NgYAFBWVoZhmLe3N6rfuHHjnj17aG+a5gDa2tp64cIFV1fXc+fO3bt3D1WGhYXt2rWLWKACl8t9//499U3L5fL4+Pjnz58r1Ds7OxO/R1RdXX327FnqbtWRnp7++PHjTZs2xcTEoItH9FUpYoFYHjlyZG9vLwCgsLDQycnJ1NT05s2bixYtQs16e3tHjhxJO5j379/fuXNn69at6PtLn332GQAAH50HDsY1VzAE6nOmtbU1OzvbxcXl7NmzyplGG5VuieTk5AzcSwuZ1ZNETO2FUgkjx6ymnaUoGvj/vVbp8PHjx3FxcVVVVWPGjEE1o0eP7unpoX+aofFVzl27dvH5fAsLi7a2Nn9/fx6P9+LFC7lcPnHixMbGRrygYCUQCJYtW+br68vn893d3YVCYUdHh6+v79ixY/38/CCEnZ2da9as+fTTT6Ojo2/duuXj48Pj8ezs7AoKCoh+AgICampqFJy/ePHio48+UvguZmZm5r59+6j3SyW1tbVffPFFdHR0QEDArVu3bty4MXbs2MWLFz979mzz5s1cLjc3N7e9vf0///mPgYFBQUFBRUXFiRMnIIQJCQl79uyJi4s7ffo07i0iIqKhoUGbeAQCAYZhqIz+33B3d1fZ8ubNm97e3oGBgfb29l5eXnV1dai+vr5+6dKl3t7eK1as4PP5Fy9eJDpX2EeonlnNlQ3V5QxUlWxCoVBdY+qozGFiAx8fn8rKSnyRQTEho3qSiEmiKkUG7pil0VmKohF7reBQ3ddzQ0NDz5w5Q0GP/6HVZ41lMtmSJUv4fH5wcHBYWNiXX37Z19dXWlp64MABCCFeUMDFxSUkJASVPT09KyoqIISdnZ36+vpoZ0AIxWKxvr6+hYVFWFhYR0dHa2vrlClTzMzM3r17hxpkZGSsXbtW2XlmZub8+fOV62fPnl1dXa2uIydOnHj48CH1jlMkISEBffQ4Ly9PKpXi9V1dXcnJyf2aU4/q2rVrAIDt27crryouLtbX179y5QqEsL29ncfjOTk5QQibm5sNDQ03btyIml25cgUAkJaWhhZV7iNmNVdpqC5noKpku3r1qrrGOP1qqDKHiQ1sbW1bWlpQmUExIdN6kohJoipFBu6Y1bSz1EVT6DXusK2tbeHChTKZDNWjvYlITk7evHkziQ7KaPtd+BkzZsyYMePp06d4zY0bN1BweIGIVCrlcDjR0dFosaysDLc1MTHBdwZadHR0xBd//PFHAMD9+/fRIrpcJ3q+du1aeHj4zJkzPTw8FixYgCc9IiYmZt26dep6sX79+tLSUqp9poxcLq+vr4cQXr16lVhPlIsEilFhGPb555/b2Ni8efNGea2Li8vkyZPxxbKyssuXL0MIv/rqKwBAU1MTvmrq1Km2trZQ/T5iUHN1hipzBkch2cgbI6hoqJzDOO3t7QAAiUSCFhkUEzKnZ79iUhGKhAE6Zul1lrpoCr3GHe7cudPQ0NDS0tLS0tLU1HTHjh14m6ysrDlz5lBXBmo5gPb29qJJPBptctasWXp6en5+fuXl5cR65Z3h6+uLL6anpwMA0KmvtbUVANDW1oavTUtLW7FiBYZhDg4OAoEgJCREIari4mIrKyt1IQ3QAKolFKMKCQlxdnZ++fKl8ip0E9bHx0d5lbOzs5mZGbFm5cqVAAA0CivvIwY179dQJfSSrV8Nyd0+efJk+PDheEumxITM6UlPTE1h/Jil11kaopE7VOCXX36ZNGkSeRsF8AGUzpNIVVVVMpnMz89PI6vc3NzIyMjU1NTz58/PmTMnJycHfRZYGeL32ohloVCop6dnZmaGFpubmzdv3lxXV9fZ2Tls2DBbW1s7O7u8vDyiKx6P9+rVK5lMxuX+3lMIYWFhIe7wzp076Ha4paXl9OnTFSIRCoX//e9/Nepmv1haWs6ePVuhUqOoAABhYWGPHj26fv26ylmKL1++BACo/Lfq5cuXJiYmxBpTU1MAQEtLC4/HU95Hz58/115zioYqoZ5sGmlI7razsxMPnkExLSwsGMlh2mIqC0VEWShmj1nayUNDNHKHCnC53M7OTnVryaEzgN66dYvL5Wr0Xd++vj5TU9OUlJTw8PA9e/akpKREREQcP35co+3KZLLhw4fjuyc9Pd3e3t7a2jo/P3/+/PkAgMbGRjs7O6LJiBEjMAwjznJAJxxURodZS0sLAGD69OnKh5lIJLp9+7ZGQfbL3/72N5UDKPWoQkNDhUJhdna2upwwNzcHALx+/Vp51ZgxYxoaGog16J8oKysrlftozZo12mtO0VAl1JNNIw3J3cpkMny2L4NiHj9+nJEcpi0mgigUEQWhGD9maScPDdHIHSrA4XDwp100hUvj87yVlZVOTk6GhobUTRoaGo4dO5aQkGBjY5OcnPzw4cOnT59qul1zc/P379/39fXp6+sjn2PHjgUAVFRULFy4EMOwrKysgwcPEk26urqMjY1RewSHw4mPj0flDRs2+Pn5oclAKlF57A0E1KNKTU2tra29dOkSvuOEQqGRkRGa44YwMjKytbUtLy8Xi8X4JWp8fPy3337r5OR09+5doVCIpAMA1NTU2NjY8Hi8J0+eKO8jRjSnaKgS6smm0Z4ld2tsbCyXy1GZQTEBQzlMW0xloUhg/JilnTw0RCN3qIBUKiUePhRBByDHwMAAuaBuWVlZSZKaKhk1atTJkyebm5sBABiGtbS0uLm5oVUK5weFRZTHqMbGxsbMzAyfiG5nZ/fs2TMAQF1dnaura2JiopubGzoj4QgEgmnTpmkUKj1UPmnLOCKR6Jtvvpk/f35RUVFhYWFhYWFubq6/vz9+uYQTGRnZ09MTGBjY0dHx7t27pKQkdDkWHBxsYGCwf/9+1KywsLCmpmb37t1AzT5iSnMqhiqhkWxUIHdramoqkUjwRabEBAzlMG0xNYLxY5Z28tAQjdyhAmKxGN17oU5fX9/vZ1/0AOLt27cp3j0VCARWVlYlJSUa3XPFMCwuLs7FxWX16tWenp4//PBDX1/f8+fPg4KCAACjRo2KiIhQWIQQZmVlOTo6AgDmzZtXXFwMIQwICDh58iTy2dPTs3z58qCgoJkzZ0ZFRR0+fBifIImzZcuWhIQEdVEx+CdSUVHR9OnTUXnMmDHnz5+n7YokqqSkJOV9OXv2bJWNMzIyHB0dTUxMJk6cGBkZKZfLUf3Tp08XL168fPnyVatW8fn8vLw8VK9yH0GGNKdiqAy9ZIP97Vkqbk1MTHp6evBFpsSETOhJT0xNYfyY1eaA1VS0fh0SSU1N9ff310QbOGzYsIyMDAjh73dtysrKNLLXFQKBYN68eXj6QgjLy8svXLigsrFIJJo7d65YLP4Agcnl8o6ODgghhmGjR48+cuTIB9joh4FBzUkMBxtubm5oLhrjMKXnUBFTob/0OquRaFQcEomJiTl48CB5GyJisRgAUFhYCCEEEEIul4vmtQ0Jbt68uX//fnwxPj6+s7NTuZlEItmxY4dAIPiAoUEIYUlJibm5ucLstqEOU5qrMxyEREdH//TTTwPknBE9h5CYxP7STh6KolF3iOPv719bW9tvMxw0raqqqgqiAXTcuHGJiYnU7XWOQCDAZy8nJSWpbFNTUzPQ6VVfX+/r69vd3Y3XPHr0yMPDgziz+g8DI5qrMxyENDQ0rFy5cuD8a6/nEBITEvqrzQFLRTSNHEIIJRIJn8/vtxkRNDPn9evXEA2g69ev37Jli0YuWCCE2dnZ7e3t+AMS6p60ZRmiBAYGEh9gZ/lDkp6enpWVpZHJuXPn8D88OAAALy8vxmc7/hlYsmSJgYEBemePSCQKCws7duwYek+SwuthWIYiMTExhw8f1nUULANIR0dHVVWVj4+PRla3b9/28vJC5WEQwt7eXnNz8wcPHkyYMGEAgvxj8uDBg6CgoAULFtTW1urp6U2ePPnAgQNoZoNEIgkKCoqLi9N1jCzaUl9fb2RkNHr0aF0HwjIgVFVVOTg4aPTObLlc/te//jU3N9fV1RWgARQAsHPnTj09vfDw8IGK9I+Iq6uru7v7pk2bJBIJPpWahYXlD0xRUdGhQ4cKCgrQ4u8DqEQi8fT0zMzMxN8zykJOX1+fkZHRxYsXPT09dR0LCwvLh0AqlS5cuDA5OfmTTz5BNb8/wTJixIhTp06FhISwnzyjSHV1tYWFhUYvBGBhYRnS7Ny5c/v27fjoCfArUIRIJHry5Mnf//53HYQ21EhISKitrT116pSuA2FhYfkQNDY29vb2TpkyhVj5f17nM2rUKHb0pEhNTQ3+TxwLC8sfnnHjxilX/p8rUBYWFhYW6vw/bTOl8HlbBl0AAAAASUVORK5CYII=\"></div>"
      ],
      "text/plain": [
       "FormBox[TagBox[RowBox[{\"(\", \"⁠\", \n",
       "      TagBox[GridBox[{{RowBox[{RowBox[{\"-\", \n",
       "\n",
       " \n",
       ">                 RowBox[{\"2\", \" \", SuperscriptBox[OverscriptBox[\"r\", \"^\"], \"′\"], \n",
       "\n",
       " \n",
       ">                   \" \", SuperscriptBox[\"ϕ\", \"′\"], \" \", \n",
       "\n",
       " \n",
       ">                   RowBox[{\"sin\", \"(\", \"ϕ\", \")\"}]}]}], \"+\", \n",
       "\n",
       " \n",
       ">               RowBox[{OverscriptBox[\"r\", \"^\"], \" \", \n",
       "\n",
       " \n",
       ">                 RowBox[{\"(\", RowBox[{RowBox[{SuperscriptBox[RowBox[\n",
       "\n",
       " \n",
       ">                         {\"(\", SuperscriptBox[\"ϕ\", \"′\"], \")\"}], \"2\"], \" \", \n",
       "\n",
       " \n",
       ">                       RowBox[{\"(\", \n",
       "\n",
       " \n",
       ">                         RowBox[{\"-\", RowBox[{\"cos\", \"(\", \"ϕ\", \")\"}]}], \")\"}]}], \n",
       "\n",
       " \n",
       ">                     \"-\", RowBox[{SuperscriptBox[\"ϕ\", \"′′\"], \" \", \n",
       "\n",
       " \n",
       ">                       RowBox[{\"sin\", \"(\", \"ϕ\", \")\"}]}]}], \")\"}]}], \"+\", \n",
       "\n",
       " \n",
       ">               RowBox[{SuperscriptBox[OverscriptBox[\"r\", \"^\"], \"′′\"], \" \", \n",
       "\n",
       " \n",
       ">                 RowBox[{\"cos\", \"(\", \"ϕ\", \")\"}]}], \"+\", \n",
       "\n",
       " \n",
       ">               FractionBox[RowBox[{\"cos\", \"(\", \"ϕ\", \")\"}], \n",
       "\n",
       " \n",
       ">                SuperscriptBox[OverscriptBox[\"r\", \"^\"], \"2\"]]}]}, \n",
       "\n",
       " \n",
       ">            {RowBox[{RowBox[{\"2\", \" \", SuperscriptBox[OverscriptBox[\"r\", \"^\"], \"′\"], \n",
       "\n",
       " \n",
       ">                 \" \", SuperscriptBox[\"ϕ\", \"′\"], \" \", RowBox[{\"cos\", \"(\", \"ϕ\",\\\n",
       " \n",
       ">    \")\"}]}]\\\n",
       ", \"+\", RowBox[{OverscriptBox[\"r\", \"^\"], \" \", \n",
       "\n",
       " \n",
       ">                 RowBox[{\"(\", RowBox[{RowBox[{SuperscriptBox[\"ϕ\", \"′′\"], \" \", \n",
       "\n",
       " \n",
       ">                       RowBox[{\"cos\", \"(\", \"ϕ\", \")\"}]}], \"-\", \n",
       "\n",
       " \n",
       ">                     RowBox[{SuperscriptBox[RowBox[{\"(\", \n",
       "\n",
       " \n",
       ">                          SuperscriptBox[\"ϕ\", \"′\"], \")\"}], \"2\"], \" \", \n",
       "\n",
       " \n",
       ">                       RowBox[{\"sin\", \"(\", \"ϕ\", \")\"}]}]}], \")\"}]}], \"+\", \n",
       "\n",
       " \n",
       ">               RowBox[{SuperscriptBox[OverscriptBox[\"r\", \"^\"], \"′′\"], \" \", \n",
       "\n",
       " \n",
       ">                 RowBox[{\"sin\", \"(\", \"ϕ\", \")\"}]}], \"+\", \n",
       "\n",
       " \n",
       ">               FractionBox[RowBox[{\"sin\", \"(\", \"ϕ\", \")\"}], \n",
       "\n",
       " \n",
       ">                SuperscriptBox[OverscriptBox[\"r\", \"^\"], \"2\"]]}]}}, \n",
       "\n",
       " \n",
       ">           Rule[RowSpacings, 1], Rule[ColumnAlignments, Center], \n",
       "\n",
       " \n",
       ">           Rule[ColumnAlignments, Left]], Column], \"⁠\", \")\"}], \n",
       "\n",
       " \n",
       ">       Function[BoxForm`e$, MatrixForm[BoxForm`e$]]], TraditionalForm]\n"
      ]
     },
     "execution_count": 194,
     "metadata": {
      "text/html": [],
      "text/plain": []
     },
     "output_type": "execute_result"
    }
   ],
   "source": [
    "LHSMotion = D[rh, {OverHat[t], 2}] + Simplify[rh / Norm[rh]^3];\n",
    "LHSMotion // MatrixForm // TraditionalForm"
   ]
  },
  {
   "cell_type": "code",
   "execution_count": 195,
   "metadata": {
    "vscode": {
     "languageId": "wolfram"
    }
   },
   "outputs": [
    {
     "data": {
      "text/html": [
       "<div><img alt=\"Output\" src=\"data:image/png;base64,iVBORw0KGgoAAAANSUhEUgAAAIsAAAA4CAIAAABCJZxzAAAAzHpUWHRSYXcgcHJvZmlsZSB0eXBlIGV4aWYAAHjabU/bDQMhDPtnio6QBzgwDtxxUjfo+A0HakVVS8SO8wBCfz2v8BgQphCTZRSAHLHEItVFponJTOWO02qrxrsfdA1xdSt9C+jLb7tvmCz5ZxHJFDpucK1xDaxFKtPnOvO2+qXmvC9S2gD6PP1vHtUECWzRYxQyQ3Gdg0snJKFkuHAA3sg4heLh3GHmY7DRoXUMDki3vbsHqBvn+IKOk7Q6q0dWkelWz+2OLG1V74+EN1yYWrTEJnBOAAAACXBIWXMAAA7EAAAOxAGVKw4bAAAAPHRFWHRTb2Z0d2FyZQBDcmVhdGVkIHdpdGggdGhlIFdvbGZyYW0gTGFuZ3VhZ2UgOiB3d3cud29sZnJhbS5jb21coqaFAAAAIXRFWHRDcmVhdGlvbiBUaW1lADIwMjU6MDM6MTIgMjA6Mzc6MzGjj7LhAAAKRElEQVR4nO2cfUxS3x/HDw9903RaqEROsT/KVunCzVxz2QNMBWtlmWaNrZmlrtlsNXvS1uOqOVfNrNTSLd2qpWWzorAUUStTg6zMcvkU00yxNA3C4J7vH7fd+AVc4V7wR/vy+uuec8953zd8uHA53DcUCCFwYDPEYnFeXt7nz5+fPn1KTIFuXUM2AkGQAwcOjI6OajQaBEEuX75Mp/8dziMjIzUaTUZGBnEJqEdLS8vjx4+h/VFZWcnhcNDtWbNm3bhx4//rxyLu3bsXEBBg5uCCgoKxsTH9HipWKolEcvHiRR6PR6DMp06dcnd3f/nyJfFXCi48Hq+mpgYAACFEEESpVJIUtLVhwkRHRwuFwsHBwd9daKGUSmVYWNj3798JvEakUum6devq6+u5XO63b98IKGCoVKrBwUGcAdXV1V5eXn19fWSOYtQwdugJPViKRecQhLCxsTE2NhZr/qrQli1bcnJyiDkoLS3V6XQQwk+fPtXU1Fg0F52IsXv37p07d5oa/Pbt24iIiJ6eHmI+MYwaxg6N74EAllYIQsjlcu/cuYNuAwjhwMDAP//8MzAwQMaHTqdDEMToLq1We/bsWYVC8Ud/cHDw3bt39RXmzJnT1dUFIZTJZCUlJfqD5XL59u3biZ3lExrGDq3vwVoQqFBhYWFYWBi6DSCExcXFERERhB0cO3aMx+MxmUylUikUCj09PXt7e/UHJCQktLS0/DGrt7fXyclJ/xmXSCTZ2dlY8/r161lZWei2UqlctWqVVqtFm/fv3yfs1qjhsrIy9NB/eCBPVVXV5s2b3dzcLl26ZP45MDw87Ozs/PXrV4hWaNOmTXv37iVsQqvVrl27lsfj7d+/PzMzMyYmZnx8HNt77dq1xMREw1nXr1/n8/n6PXV1dVgNUJYsWSKXyyGER44ccXV1ZbFYLBZrxowZ+/btM2UmPz//zZs3lhqWSCTooQ09ENC3CnPnzr158yZEK8RisfLz88nIBQUFBQUFvX//3nDX4sWLRSKRfk9VVdWhQ4dCQkIiIiIEAgHOx/7Jkye3bdtmkZPk5GSJRELGsFX0ycPn81NSUiCEVARBBgYG2Gw24QtElUr1+vXrOXPm+Pv7/7FrcHCwqakpJCQE6ykpKSkqKjp69KharS4oKOBwOGlpaaaUQ0JCRCIRYWMEDNsPbDa7v78fAED/+vUrgiAuLi6GgyCEYrHYsJ/FYnE4HKzZ3Nys1Wrj4+MNRyoUChqNxmAw0ObHjx9TU1NbW1tHRkYoFIqfn5+/v395ebkpl56env39/VqtFn8FQd+nQqFobGz88eOHoU9zDJPX7+vrM+c7JZvNNvrcYri4uAwNDQEA6F++fAEAODs7G3X28OFDw34Oh6Pv7NmzZ3Q6PSIiwnCkVqudMmUKhUJBmyUlJQsXLvTx8RGJRHw+HwDQ1dWF80KeOnUqgiAIguA8kj98os9gX1+foU9zDJPX9/b2bmtrM1MZB2dnZ7Q04NmzZwAAMp9+0dHRS5YsMbqrs7MTAKDRaNDm1q1b4+LiIIQHDhyQSqU6nW7+/PkPHjwwpfz8+XN3d3eLzJjzOYFj2Cr6VuH48eMsFgtCSEVPWBqNRrjaDQ0NK1asMLqLzWYzGIyuri606e/v397eDgBobW0NDQ3NyclZuXIlejIZpbu7e9GiRYSNETBsIxAE2bdv344dOxITExMSErRa7YRT6HS6Wq0G5Ne2e3p6qFSqqXcMGo22du3a+vr6efPmAQBSU1NlMllycnJ/f//JkycZDEZubi6O+JMnT2JiYkg6tMiwjaiqqqqsrJTL5QAAb2/vW7dubdy40dzJEokEANDW1majs7W7u5vL5eqv7tTW1qJX+vgMDQ0tW7ZMrVbbyNhkotPphoeHIYQIgsycOTM3N3fCKejaLtRf27YRfn5+x48fP3PmDNYjk8kiIyPxZ42Pj2dlZRUXFzs5OdnYoK348OFDfHz82NgYAIBKpbq7uwMAampqEARZv369+To2rxAAIDQ0NDY29uPHj2hzypQpbm5u+FPevXt38OBBPz8/27uzFS0tLXl5eXV1dVhPW1vb6dOnm5ubZ82aZYGQrd/lHKBYuvI7ee9y/1m0Wu3Pnz/R7aGhoczMzEuXLk2bNg0AYNFCyd/xa/9fx+vXr5OSkgQCwatXr2g02oIFC6RSqY+PDwBAo9EkJSVFRUWZKeWokE0IDAykUCg6ne7ixYsajcbX1/fw4cPEpBzvcjZhfHxcJpOFhoYymUxfX18yUo4K2QS5XM5kMq3yvdhRIZvQ0NAQHh6OLRmTwVEhm9DS0iIQCKwi5bhSsAlFRUXWknKcQ/aOo0L2jqNC9o6jQvaOo0L2jqNC9o6jQvaOo0L2jqNC9s7fVyFbxOfsNpIHrF6hb9++paenR0VFCYXCxYsXX758mYCIWq02lYOsra1tamoSiUR79uwZHR3FH2wmhprE3JJ3Yhzr3qewcuVKHx8f9Nf44uJiAEB5efmEs8xP4hnG58hH5izNEJpya93wHnafgjUrpFarXVxczp49izbRm3uEQiH+LJwknlGMZudIOoe4GUJ9TLm1enjvd4XQf2JobW21im53dzf2OIeHhwEA4eHhOOMnTOLpg5OdI8OEGUJz3Fo9vHfixAkmkwkhpKLREfQWYfL4+flhP1u9ePECABAUFIQzvra2dsWKFegdMCh0On3Xrl1GBx88eNDV1TUwMDA7O3v27NnLly/38PAwNRijoKCgtbUVZ4ChrJeXl6VucWwTQ61We3h4AADo1q0QBoTw1KlTbDY7PT3d6IDq6uqamhqxWDx9+vSoqKjCwkL0Pr+lS5ea0qTRaOg7Z0JCgvnhLJlMhj/YHNkJ3eLYJoZarUZLQ2UwGBQKRaVSWfcAGRkZIyMjz58/9/T0NNxrURIPw0bZuQllibkl7+rXOUSj0Tw8PBQKhRXVMzMz3759K5VKjQbHLE3iYZifnYOWpObwZQm7JYlCoUBPUzoAICwsrKOjw1rSGRkZCoWirKzMVLTR0iQehvnZOWhJag5flrBbknR0dKAJFjoAICoqqqKiwiq6V69effXqVUVFBXa9oFAo3Nzc0Dv/UTo7O9FbyOrr61etWoUgSGlpqX44whQNDQ3BwcGurq4TjqRSqefOnUO3U1JS4uPjcSJd+LKE3ZJBpVL19PSgLwgqAEAgEDx69GhkZISk7tDQUFpaGp/Pr6ysFIvFYrH49u3bQqGQSv2flQtLk3gYNsrO4csSdkuGioqKgICAX5eU6NV3dHR0YWEhyUv4CxcuGB7MMDE6NjYWFxeXlJQUEhJy9OjR8+fPm/NVsbu729vbu7q62lJX+MnTCWWJuSXJ6tWrr169im7/qpBCoeByuT9//rT1sTHMTOLZCZPptr29PTIyEmv+/gfA0tJSnH9jsTrnzp0bGRmZtMORZNLcjo6OrlmzRn/16PcnxIYNGwQCAbpMNwmYk8SzHybNbXFx8ZUrV2bPno31UKDjn2jtm7/vF7z/Go4K2Tv/AlKAU3uL5riTAAAAAElFTkSuQmCC\"></div>"
      ],
      "text/plain": [
       "FormBox[TagBox[RowBox[{\"(\", \"⁠\", \n",
       "      TagBox[GridBox[{{RowBox[{RowBox[{\"-\", \n",
       "\n",
       " \n",
       ">                 RowBox[{RowBox[{OverscriptBox[\"r\", \"^\"]}], \" \", \n",
       "\n",
       " \n",
       ">                   SuperscriptBox[RowBox[{\"(\", SuperscriptBox[\"ϕ\", \"′\"], \")\"}], \n",
       "\n",
       " \n",
       ">                    \"2\"]}]}], \"+\", SuperscriptBox[OverscriptBox[\"r\", \"^\"], \"′′\"], \n",
       "\n",
       " \n",
       ">               \"+\", FractionBox[\"1\", SuperscriptBox[OverscriptBox[\"r\", \"^\"],\\\n",
       " \n",
       ">    \"2\"]]}]}\\\n",
       ", {RowBox[{RowBox[{OverscriptBox[\"r\", \"^\"], \" \", SuperscriptBox[\"ϕ\",\\\n",
       " \n",
       ">    \"′′\"]}], \"+\", \n",
       "            RowBox[{\"2\", \" \", SuperscriptBox[OverscriptBox[\"r\",\\\n",
       " \n",
       ">    \"^\"], \"′\"], \" \", \n",
       "              SuperscriptBox[\"ϕ\", \"′\"]}]}]}}, Rule[RowSpacings,\\\n",
       " \n",
       ">    1], \n",
       "        Rule[ColumnAlignments, Center], Rule[ColumnAlignments, Left]],\\\n",
       " \n",
       ">    Column], \"⁠\", \n",
       "      \")\"}], Function[BoxForm`e$, MatrixForm[BoxForm`e$]]],\\\n",
       " \n",
       ">    TraditionalForm]\n"
      ]
     },
     "execution_count": 195,
     "metadata": {
      "text/html": [],
      "text/plain": []
     },
     "output_type": "execute_result"
    }
   ],
   "source": [
    "RotatedLHSMotion = Simplify[RotationMatrix[-\\[Phi][OverHat[t]]] . LHSMotion, Trig -> True] // MatrixForm // TraditionalForm"
   ]
  },
  {
   "cell_type": "markdown",
   "metadata": {},
   "source": [
    "Так как $\\hat{\\omega} \\equiv \\phi^{(1)}$, то"
   ]
  },
  {
   "cell_type": "code",
   "execution_count": 197,
   "metadata": {
    "vscode": {
     "languageId": "wolfram"
    }
   },
   "outputs": [
    {
     "data": {
      "text/html": [
       "<div><img alt=\"Output\" src=\"data:image/png;base64,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\"></div>"
      ],
      "text/plain": [
       "FormBox[TagBox[RowBox[{\"(\", \"⁠\", \n",
       "\n",
       " \n",
       ">         TagBox[GridBox[{{RowBox[{RowBox[{RowBox[{\"-\", OverscriptBox[\"r\", \"^\"]}], \n",
       "\n",
       " \n",
       ">                 \" \", SuperscriptBox[OverscriptBox[\"ω\", \"^\"], \"2\"]}], \"+\", \n",
       "\n",
       " \n",
       ">               SuperscriptBox[OverscriptBox[\"r\", \"^\"], \"′′\"], \"+\", \n",
       "\n",
       " \n",
       ">               FractionBox[\"1\", SuperscriptBox[OverscriptBox[\"r\", \"^\"], \"2\"]]}]}, \n",
       "\n",
       " \n",
       ">            {RowBox[{RowBox[{\"2\", \" \", OverscriptBox[\"ω\", \"^\"], \" \", \n",
       "\n",
       " \n",
       ">                 SuperscriptBox[OverscriptBox[\"r\", \"^\"], \"′\"]}], \"+\", \n",
       "\n",
       " \n",
       ">               RowBox[{OverscriptBox[\"r\", \"^\"], \" \", \n",
       "\n",
       " \n",
       ">                 SuperscriptBox[OverscriptBox[\"ω\", \"^\"], \"′\"]}]}]}}, \n",
       "\n",
       " \n",
       ">           Rule[RowSpacings, 1], Rule[ColumnAlignments, Center], \n",
       "\n",
       " \n",
       ">           Rule[ColumnAlignments, Left]], Column], \"⁠\", \")\"}], \n",
       "\n",
       " \n",
       ">       Function[BoxForm`e$, MatrixForm[BoxForm`e$]]], TraditionalForm]\n"
      ]
     },
     "execution_count": 197,
     "metadata": {
      "text/html": [],
      "text/plain": []
     },
     "output_type": "execute_result"
    }
   ],
   "source": [
    "OmegaReplace = Derivative[n_][\\[Phi]][OverHat[t]] :> Derivative[n-1][OverHat[\\[Omega]]][OverHat[t]];\n",
    "\n",
    "OmegaLHSMotion = RotatedLHSMotion /. OmegaReplace // TraditionalForm"
   ]
  },
  {
   "cell_type": "markdown",
   "metadata": {},
   "source": [
    "### RHS системы после поворота"
   ]
  },
  {
   "cell_type": "code",
   "execution_count": 199,
   "metadata": {
    "vscode": {
     "languageId": "wolfram"
    }
   },
   "outputs": [
    {
     "data": {
      "text/html": [
       "<div><img alt=\"Output\" src=\"data:image/png;base64,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\"></div>"
      ],
      "text/plain": [
       "FormBox[TagBox[RowBox[{\"(\", \"⁠\", \n",
       "\n",
       " \n",
       ">         TagBox[GridBox[{{RowBox[{OverscriptBox[\"r\", \"^\"], \" \", \n",
       "\n",
       " \n",
       ">               RowBox[{\"(\", RowBox[{\"-\", SubscriptBox[\"ϵ\", \"G\"]}], \")\"}], \" \", \n",
       "\n",
       " \n",
       ">               RowBox[{\"(\", RowBox[{RowBox[{RowBox[{\"sin\", \"(\", \n",
       "\n",
       " \n",
       ">                       RowBox[{\"2\", \" \", \"ϕ\"}], \")\"}], \" \", \n",
       "\n",
       " \n",
       ">                     TemplateBox[List[SubscriptBox[OverscriptBox[\"f\", \"^\"], \n",
       "\n",
       " \n",
       ">                        RowBox[List[\"x\", \",\", \"y\"]]], \"\\\"(5)\\\"\"], \"Superscript\", \n",
       "\n",
       " \n",
       ">                      Rule[SyntaxForm, SuperscriptBox]]}], \"+\", \n",
       "\n",
       " \n",
       ">                   RowBox[{RowBox[{SuperscriptBox[\"cos\", \"2\"], \"(\", \"ϕ\", \")\"}], \n",
       "\n",
       " \n",
       ">                     \" \", TemplateBox[List[SubscriptBox[OverscriptBox[\"f\", \"^\"], \n",
       "\n",
       " \n",
       ">                        RowBox[List[\"x\", \",\", \"x\"]]], \"\\\"(5)\\\"\"], \"Superscript\", \n",
       "\n",
       " \n",
       ">                      Rule[SyntaxForm, SuperscriptBox]]}], \"+\", \n",
       "\n",
       " \n",
       ">                   RowBox[{RowBox[{SuperscriptBox[\"sin\", \"2\"], \"(\", \"ϕ\", \")\"}], \n",
       "\n",
       " \n",
       ">                     \" \", TemplateBox[List[SubscriptBox[OverscriptBox[\"f\", \"^\"], \n",
       "\n",
       " \n",
       ">                        RowBox[List[\"y\", \",\", \"y\"]]], \"\\\"(5)\\\"\"], \"Superscript\", \n",
       "\n",
       " \n",
       ">                      Rule[SyntaxForm, SuperscriptBox]]}]}], \")\"}]}]}, \n",
       "\n",
       " \n",
       ">            {RowBox[{RowBox[{\"-\", FractionBox[\"1\", \"2\"]}], \" \", \n",
       "\n",
       " \n",
       ">               OverscriptBox[\"r\", \"^\"], \" \", SubscriptBox[\"ϵ\", \"G\"], \" \", \n",
       "\n",
       " \n",
       ">               RowBox[{\"(\", RowBox[{RowBox[{RowBox[{\"sin\", \"(\", \n",
       "\n",
       " \n",
       ">                       RowBox[{\"2\", \" \", \"ϕ\"}], \")\"}], \" \", \n",
       "\n",
       " \n",
       ">                     RowBox[{\"(\", RowBox[{TemplateBox[List[SubscriptBox[\n",
       "\n",
       " \n",
       ">                            OverscriptBox[\"f\", \"^\"], \n",
       "\n",
       " \n",
       ">                            RowBox[List[\"y\", \",\", \"y\"]]], \"\\\"(5)\\\"\"], \n",
       "\n",
       " \n",
       ">                          \"Superscript\", Rule[SyntaxForm, SuperscriptBox]], \"-\", \n",
       "\n",
       " \n",
       ">                         TemplateBox[List[SubscriptBox[OverscriptBox[\"f\", \"^\"], \n",
       "\n",
       " \n",
       ">                            RowBox[List[\"x\", \",\", \"x\"]]], \"\\\"(5)\\\"\"], \n",
       "\n",
       " \n",
       ">                          \"Superscript\", Rule[SyntaxForm, SuperscriptBox]]}], \")\"}]}\\\n",
       "\n",
       " \n",
       ">   ], \"+\", RowBox[{\"2\", \" \", RowBox[{\"cos\", \"(\", RowBox[{\"2\", \" \", \"ϕ\"}], \")\"}], \n",
       "\n",
       " \n",
       ">                     \" \", TemplateBox[List[SubscriptBox[OverscriptBox[\"f\", \"^\"], \n",
       "\n",
       " \n",
       ">                        RowBox[List[\"x\", \",\", \"y\"]]], \"\\\"(5)\\\"\"], \"Superscript\", \n",
       "\n",
       " \n",
       ">                      Rule[SyntaxForm, SuperscriptBox]]}]}], \")\"}]}]}}, \n",
       "\n",
       " \n",
       ">           Rule[RowSpacings, 1], Rule[ColumnAlignments, Center], \n",
       "\n",
       " \n",
       ">           Rule[ColumnAlignments, Left]], Column], \"⁠\", \")\"}], \n",
       "\n",
       " \n",
       ">       Function[BoxForm`e$, MatrixForm[BoxForm`e$]]], TraditionalForm]\n"
      ]
     },
     "execution_count": 199,
     "metadata": {
      "text/html": [],
      "text/plain": []
     },
     "output_type": "execute_result"
    }
   ],
   "source": [
    "RHSMotion = -Subscript[\\[Epsilon], G] FullSimplify[RotationMatrix[-\\[Phi][OverHat[t]]] . fh5rh, Trig -> True];\n",
    "RHSMotion // MatrixForm // TraditionalForm"
   ]
  },
  {
   "cell_type": "markdown",
   "metadata": {},
   "source": [
    "<span style=\"color:brown\">**NB:**</span> Полученные выражения <span style=\"color:green\">**совпадают**</span> с уравнениями (10) и (9) из файла Binary.pdf"
   ]
  },
  {
   "cell_type": "markdown",
   "metadata": {
    "vscode": {
     "languageId": "wolfram"
    }
   },
   "source": [
    "## Получим теперь **энергетическую** систему уравнений\n",
    "\n",
    "В задача двух тел без учёта гравитационного излучения в системе центра масс в полярных координатах радиус-вектор $\\hat{r}_k$ задаётся как:\n",
    "$$\n",
    "\\hat{r}_k = \\hat{r} e_{1k} \\quad,\n",
    "$$\n",
    "где:\n",
    "- $\\hat{r}$ — расстояние между телами,\n",
    "- $e_{1k}$ — единичный вектор в направлении $\\hat{r}_k$.\n",
    "\n",
    "Скорость в полярных координатах выражается как:\n",
    "$$\n",
    "\\hat{r}_k^{(1)} = \\hat{r}^{(1)} e_{1k} + \\hat{r} \\phi^{(1)} e_{2k} \\quad,\n",
    "$$\n",
    "где:\n",
    "- $\\hat{r}^{(1)}$ — радиальная скорость\n",
    "- $\\hat{\\omega} \\equiv \\phi^{(1)}$ — угловая скорость\n",
    "- $e_{2k}$ — единичный вектор, перпендикулярный $e_{1k}$.\n",
    "\n",
    "### **Кинетическая энергия**\n",
    "Кинетическая энергия $T$ в полярных координатах выражается через радиальную и тангенциальную составляющие скорости:\n",
    "$$\n",
    "T = \\mu\\frac{b^2}{2 t_0^2} (\\hat{r}_k^{(1)})^2 = \\mu\\frac{b^2}{2 t_0^2} \\left( (\\hat{r}^{(1)})^2 + \\hat{r}^2 \\hat{\\omega}^2 \\right) = \\frac{G \\mu M}{b} \\frac{1}{2}\\left( (\\hat{r}^{(1)})^2 + \\hat{r}^2 \\hat{\\omega}^2 \\right)\n",
    "$$\n",
    "\n",
    "### **Потенциальная энергия**\n",
    "Потенциальная энергия $U$ зависит только от расстояния $\\hat{r}$:\n",
    "- Для гравитационного взаимодействия:\n",
    "  $$\n",
    "  U = -\\frac{G m_A m_B}{b \\hat{r}} = -\\frac{G \\mu M}{b \\hat{r}}.\n",
    "  $$\n",
    "\n",
    "### **Полная энергия**\n",
    "Полная энергия $E$ в полярных координатах:\n",
    "$$\n",
    "E = T + U = \\frac{G \\mu M}{b}\\left(\\frac{(\\hat{r}^{(1)})^2}{2} + \\frac{\\hat{r}^2 \\hat{\\omega}^2}{2} - \\frac{1}{\\hat{r}}\\right) = \\frac{G \\mu M}{b} \\hat{E}\n",
    "$$\n",
    "\n",
    "Здесь $\\hat{E}$ - безразмерная энергия:"
   ]
  },
  {
   "cell_type": "code",
   "execution_count": 201,
   "metadata": {
    "vscode": {
     "languageId": "wolfram"
    }
   },
   "outputs": [
    {
     "data": {
      "text/html": [
       "<div><img alt=\"Output\" src=\"data:image/png;base64,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\"></div>"
      ],
      "text/plain": [
       "FormBox[RowBox[{RowBox[{FractionBox[\"1\", \"2\"], \" \", \n",
       "\n",
       " \n",
       ">          SuperscriptBox[OverscriptBox[\"r\", \"^\"], \"2\"], \" \", \n",
       "\n",
       " \n",
       ">          SuperscriptBox[OverscriptBox[\"ω\", \"^\"], \"2\"]}], \"+\", \n",
       "\n",
       " \n",
       ">        RowBox[{FractionBox[\"1\", \"2\"], \" \", \n",
       "\n",
       " \n",
       ">          SuperscriptBox[RowBox[{\"(\", SuperscriptBox[OverscriptBox[\"r\", \"^\"], \"′\"], \n",
       "\n",
       " \n",
       ">             \")\"}], \"2\"]}], \"-\", FractionBox[\"1\", OverscriptBox[\"r\", \"^\"]]}], \n",
       "\n",
       " \n",
       ">      TraditionalForm]\n"
      ]
     },
     "execution_count": 201,
     "metadata": {
      "text/html": [],
      "text/plain": []
     },
     "output_type": "execute_result"
    }
   ],
   "source": [
    "Energy = (D[OverHat[r][OverHat[t]], OverHat[t]])^2/2 + (OverHat[r][OverHat[t]] OverHat[\\[Omega]][OverHat[t]])^2/2 - 1/OverHat[r][OverHat[t]];\n",
    "Energy // TraditionalForm"
   ]
  },
  {
   "cell_type": "markdown",
   "metadata": {},
   "source": [
    "### **Момента импульса**\n",
    "Момент импульса $J$ в системе центра масс:\n",
    "$$\n",
    "J = \\mu\\frac{b^2}{t_0} \\hat{r}^2 \\hat{\\omega} = \\mu(G M b)^{1/2} \\hat{r}^2 \\hat{\\omega} = \\mu(G M b)^{1/2} \\hat{J}\n",
    "$$\n",
    "\n",
    "Здесь $\\hat{J}$ - безразмерный момент импульса:"
   ]
  },
  {
   "cell_type": "code",
   "execution_count": 203,
   "metadata": {
    "vscode": {
     "languageId": "wolfram"
    }
   },
   "outputs": [
    {
     "data": {
      "text/html": [
       "<div><img alt=\"Output\" src=\"data:image/png;base64,iVBORw0KGgoAAAANSUhEUgAAAB4AAAAVCAIAAADelck2AAAAzHpUWHRSYXcgcHJvZmlsZSB0eXBlIGV4aWYAAHjabU/bDQMhDPtnio6QBzgwDtejUjfo+A0X1Iqqlogd5wGk8Xo+0m1CmFIuVtEAcuSWm3QXlQLBTO2KkYxV491PXJbf3SrfAtYAH7tvCJb6s4gkhM4bXGteA2uRSvjcIz9Wv/Ra90VKG0Cfp//Ns5qggC17zEJmaK5rcumEIlQMD9wBb2ScQvnuPGDmY7DZoX0OTsiwvXskqBvn/ILOU7Q7q0dWkXC753ZFlmNVr4+kN0/LWquUIHC/AAAACXBIWXMAAA7EAAAOxAGVKw4bAAAAPHRFWHRTb2Z0d2FyZQBDcmVhdGVkIHdpdGggdGhlIFdvbGZyYW0gTGFuZ3VhZ2UgOiB3d3cud29sZnJhbS5jb21coqaFAAAAIXRFWHRDcmVhdGlvbiBUaW1lADIwMjU6MDM6MTIgMjA6Mzc6MzGjj7LhAAACFklEQVQ4je2UP+zpUBTH7++lJo0gCF2thkoYTEQTErqI2Kxmg0GsBjFLTAaJpQSjxSBtInSryZ+EpBYSKQM6CO39DW28H0+lkve2951Ozz35nG/uPT1fEELwSrIsFwqF0+l0uVxkWa7VagiCvKzUFNRQv9/HcVyJXS5Xs9nUqtTSL62WBEHQNK30lmVZEITPLP90XSqVTCYTx3FPzQeDgd1u32w2n7pW0QzDJBKJ4XAYDoePx+P9eDqdRiKR9Xr9nvLSloput9uSJEEIt9stTdNKkuO4TCYjiuJ7rpath2eUJEmWZSUWBCEej99uN+Wz1+tpoV/a+o0uFosEQTgcDkEQ0um0zWbL5XIoijqdTqfTabFY8vn8e+9/6gtCCACQJCmZTJ7PZ7/fjyDIbDajKMpgMHw8FS8nxOv1er3exWKh31e1Wm21Wj8zlUplNBo9XIgoigiCpFIp/dx2u02S5FOSZdloNPqAZhgGANDtdnVy9/u91Wq9G/R4PNfrFUI4HA5RFFWS6t84Ho8RBIlEIjqvsdFoGI3GQCAAAOB5HsdxZcPM5/P7qlHRLMv6fD4URXWiJ5OJ2+2+2yIIQonr9Xo8Hn9Gh0IhnVwAAIZhh8MBAHC9XjudjtlsBgBQFLVarcrlsloEIeR5HsOwwWCg/w13u10wGIzFYtlsdj6fx2KxRCJBkuRyubzXqHP9L6S5VP+j/7q+ART9Xwk9qtyeAAAAAElFTkSuQmCC\"></div>"
      ],
      "text/plain": [
       "FormBox[RowBox[{SuperscriptBox[OverscriptBox[\"r\", \"^\"], \"2\"], \" \", \n",
       "\n",
       " \n",
       ">        OverscriptBox[\"ω\", \"^\"]}], TraditionalForm]\n"
      ]
     },
     "execution_count": 203,
     "metadata": {
      "text/html": [],
      "text/plain": []
     },
     "output_type": "execute_result"
    }
   ],
   "source": [
    "AngularMomentum = (OverHat[r][OverHat[t]])^2 OverHat[\\[Omega]][OverHat[t]];\n",
    "AngularMomentum // TraditionalForm"
   ]
  },
  {
   "cell_type": "markdown",
   "metadata": {},
   "source": [
    "Отсюда $\\frac{1}{\\hat{r}^{(1)}}\\left(\\frac{d\\hat{E}}{d\\hat{t}} - \\hat{\\omega} \\frac{d\\hat{J}}{d\\hat{t}}\\right)$"
   ]
  },
  {
   "cell_type": "code",
   "execution_count": 204,
   "metadata": {
    "vscode": {
     "languageId": "wolfram"
    }
   },
   "outputs": [
    {
     "data": {
      "text/html": [
       "<div><img alt=\"Output\" src=\"data:image/png;base64,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\"></div>"
      ],
      "text/plain": [
       "FormBox[RowBox[{RowBox[{\"-\", RowBox[{RowBox[{OverscriptBox[\"r\", \"^\"]}], \" \", \n",
       "\n",
       " \n",
       ">            SuperscriptBox[OverscriptBox[\"ω\", \"^\"], \"2\"]}]}], \"+\", \n",
       "\n",
       " \n",
       ">        SuperscriptBox[OverscriptBox[\"r\", \"^\"], \"′′\"], \"+\", \n",
       "\n",
       " \n",
       ">        FractionBox[\"1\", SuperscriptBox[OverscriptBox[\"r\", \"^\"], \"2\"]]}],\\\n",
       " \n",
       ">    TraditionalForm]\n"
      ]
     },
     "execution_count": 204,
     "metadata": {
      "text/html": [],
      "text/plain": []
     },
     "output_type": "execute_result"
    }
   ],
   "source": [
    "Simplify[(D[Energy, OverHat[t]] - (AngularMomentum/OverHat[r][OverHat[t]]^2)(D[AngularMomentum, OverHat[t]]))/(D[OverHat[r][OverHat[t]], OverHat[t]])] // TraditionalForm"
   ]
  },
  {
   "cell_type": "markdown",
   "metadata": {},
   "source": [
    "Что совпадает с **первой** строкой повернутой LHS системы движения"
   ]
  },
  {
   "cell_type": "markdown",
   "metadata": {},
   "source": [
    "Отсюда $\\frac{1}{\\hat{r}}\\frac{d\\hat{J}}{d\\hat{t}}$"
   ]
  },
  {
   "cell_type": "code",
   "execution_count": 205,
   "metadata": {
    "vscode": {
     "languageId": "wolfram"
    }
   },
   "outputs": [
    {
     "data": {
      "text/html": [
       "<div><img alt=\"Output\" src=\"data:image/png;base64,iVBORw0KGgoAAAANSUhEUgAAAFMAAAAVCAIAAAC10UUmAAAAznpUWHRSYXcgcHJvZmlsZSB0eXBlIGV4aWYAAHjabU/bDQMhDPtnio6QBzgwDtfjpG7Q8RsebUVVS8SO8wBCez6ucOsQphCTZRSAHLHEItVFponJTGXEgaSrxrsfOC2/upW+BbTlH7tvmCz5ZxHJFNpvcK1xDaxFKtPnOvNj9UvNeV/0fuoC6PP0v3lUEySwRY9RyAzFdQ4unZCEkuHCHfBGxikU784NZj4G6x1a+2CHNNu7W4C6cfYvaD9Jq7N6ZBWZbvXcRmQ5VnV8JLwADBFafZ9R9UkAAAAJcEhZcwAADsQAAA7EAZUrDhsAAAA8dEVYdFNvZnR3YXJlAENyZWF0ZWQgd2l0aCB0aGUgV29sZnJhbSBMYW5ndWFnZSA6IHd3dy53b2xmcmFtLmNvbVyipoUAAAAhdEVYdENyZWF0aW9uIFRpbWUAMjAyNTowMzoxMiAyMDozNzozMaOPsuEAAANNSURBVFiF7ZdNSCpRGIY/h9MiDG0RERJtahfBCApFi36mX3MjEQjN3jYhRARRqxb9QFAEbtxEbiSUgmjRtNCkP4lAaVEGRUNSQplUJAbNeO5iLl5zbJypLi3sXZ1z+OY9z3vm8I2qMMZQlCJ+GuDH9Jv8P2hmZkar1YbD4cxKKpWKx+Pfbitf7wAwxk9PT6Ojo729vYODgwaDwel0YklNT09rNJpQKCRREwgELBbL3t5ee3v78/OzsDgyMjI8PCxtLq28tvIhswEAY9zW1lZdXZ1MJjHGLpcLANbX17+4t8fj4XkeYxyLxXZ2djDGPM/X1dVdXV3JzynHVj5kDgCkUim1Wr2wsCDMr6+vAYCm6S/uLeyUTqczU7/fPz8/LzOhfFv5kDkAgDFmWTbj9fj4CACdnZ1fgZuamqIoqrKyMh6P0zRdUVFxc3Ozu7vLcdy328p/PAdAhd9/z30+H0VRY2Njc3Nzn25CPM/39/e/vLwYjUaE0NnZmdvtLikpkX7K6XQ2NzfX19d/r+2Hyj6VdDrd0dFRU1Nzf38vPjOHw7G6upq9srS0dHBwkPeA9Xq9Xq8/Pz+X/05sNpvf75euKWgrH/Jd8vHxcaPRGIvFxHUej8dsNucsBoPB7u5ucXEymUQIDQwMSGQQq2DygraKIFHm5U9OTp6engYCgdLS0px7kUgkbDbb5uamMG1oaAiFQgghjuP29/fF9+j4+JjjOKvVKufGMQwjjKPR6NHR0evrKwBUVVWRJKnIVink3+QTExPRaNTr9SKExEUul0utVjc1NQEAy7IkSQplkUgkb/3h4SFCqKurS07yra2t7OS3t7cAQJKkOLm0rVJIBAArKysnJycbGxsqlSoDodFotFqtMA2Hw7W1tZntKYoSxsvLy319fWLTYDBoMBjKysoKJicIYnFxURgPDQ1ZrdbW1taPiqVtlUISDw8Pdru9p6dne3ubYRiGYdbW1miaJoh/P2x1Ol0ikQCAt7c3r9dbXl4OAG63+/LycnZ2Ni+iRIBPS9pWKSQ4HA7xYmNjY3YzuLu7a2lpMZlMdrs9EomYTCaLxWI2my8uLsSdg2VZnU7n8/kkelVeSXe4graKILH4e148+v2XWnz6TV58+gNnveAGRpU99wAAAABJRU5ErkJggg==\"></div>"
      ],
      "text/plain": [
       "FormBox[RowBox[{RowBox[{\"2\", \" \", OverscriptBox[\"ω\", \"^\"], \" \", \n",
       "\n",
       " \n",
       ">          SuperscriptBox[OverscriptBox[\"r\", \"^\"], \"′\"]}], \"+\", \n",
       "\n",
       " \n",
       ">        RowBox[{OverscriptBox[\"r\", \"^\"], \" \", \n",
       "\n",
       " \n",
       ">          SuperscriptBox[OverscriptBox[\"ω\", \"^\"], \"′\"]}]}], TraditionalForm]\n"
      ]
     },
     "execution_count": 205,
     "metadata": {
      "text/html": [],
      "text/plain": []
     },
     "output_type": "execute_result"
    }
   ],
   "source": [
    "Simplify[D[AngularMomentum, OverHat[t]]/OverHat[r][OverHat[t]]] // TraditionalForm"
   ]
  },
  {
   "cell_type": "markdown",
   "metadata": {},
   "source": [
    "Что совпадает со **второй** строкой повернутой LHS системы движения"
   ]
  },
  {
   "cell_type": "markdown",
   "metadata": {},
   "source": [
    "Таким образом, мы можем выписать новую **энергетическую** систему уравнений\n",
    "\n",
    "$$\n",
    "\\begin{align}\n",
    "\\frac{d\\hat{E}}{d\\hat{t}} &= - \\epsilon_G \\left(\\hat{r}^{(1)} R_{xi}(-\\phi) \\hat{f}_{ij}^{(5)}\\hat{r}_j + \\hat{r}\\hat\\omega R_{yi}(-\\phi) \\hat{f}_{ij}^{(5)}\\hat{r}_j \\right)\n",
    "\\\\\n",
    "\\frac{d\\hat{J}}{d\\hat{t}} &= - \\epsilon_G \\hat{r} R_{yi}(-\\phi) \\hat{f}_{ij}^{(5)}\\hat{r}_j\n",
    "\\end{align}\n",
    "$$"
   ]
  },
  {
   "cell_type": "markdown",
   "metadata": {},
   "source": [
    "Или\n",
    "\n",
    "$$\n",
    "\\left(\\frac{d\\hat{E}}{d\\hat{t}}, \\frac{d\\hat{J}}{d\\hat{t}}\\right) = - \\epsilon_G T_{nk} R_{ki}(-\\phi) \\hat{f}_{ij}^{(5)}\\hat{r}_j\\quad,\n",
    "$$"
   ]
  },
  {
   "cell_type": "markdown",
   "metadata": {},
   "source": [
    "Здесь\n",
    "$$\n",
    "T = \n",
    "\\begin{bmatrix}\n",
    "\\hat{r}^{(1)} & \\hat{r}\\hat{\\omega} \\\\\n",
    "0 & \\hat{r}\n",
    "\\end{bmatrix}\n",
    "$$\n",
    "матрица трансформации:"
   ]
  },
  {
   "cell_type": "code",
   "execution_count": 207,
   "metadata": {
    "vscode": {
     "languageId": "wolfram"
    }
   },
   "outputs": [
    {
     "data": {
      "text/html": [
       "<div><img alt=\"Output\" src=\"data:image/png;base64,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\"></div>"
      ],
      "text/plain": [
       "FormBox[TagBox[RowBox[{\"(\", \"⁠\", \n",
       "\n",
       " \n",
       ">         GridBox[{{SuperscriptBox[OverscriptBox[\"r\", \"^\"], \"′\"], \n",
       "\n",
       " \n",
       ">            RowBox[{OverscriptBox[\"r\", \"^\"], \" \", OverscriptBox[\"ω\", \"^\"]}]}, \n",
       "\n",
       " \n",
       ">           {\"0\", OverscriptBox[\"r\", \"^\"]}}, Rule[RowSpacings, 1], \n",
       "\n",
       " \n",
       ">          Rule[ColumnSpacings, 1], Rule[RowAlignments, Baseline], \n",
       "\n",
       " \n",
       ">          Rule[ColumnAlignments, Center]], \"⁠\", \")\"}], \n",
       "\n",
       " \n",
       ">       Function[BoxForm`e$, MatrixForm[BoxForm`e$]]], TraditionalForm]\n"
      ]
     },
     "execution_count": 207,
     "metadata": {
      "text/html": [],
      "text/plain": []
     },
     "output_type": "execute_result"
    }
   ],
   "source": [
    "Transform = {{D[OverHat[r][OverHat[t]], OverHat[t]], OverHat[r][OverHat[t]] OverHat[\\[Omega]][OverHat[t]]}, {0, OverHat[r][OverHat[t]]}};\n",
    "Transform // MatrixForm // TraditionalForm"
   ]
  },
  {
   "cell_type": "markdown",
   "metadata": {},
   "source": [
    "Итак правая часть энергетической системы запишется как"
   ]
  },
  {
   "cell_type": "code",
   "execution_count": 209,
   "metadata": {
    "vscode": {
     "languageId": "wolfram"
    }
   },
   "outputs": [
    {
     "data": {
      "text/html": [
       "<div><img alt=\"Output\" src=\"data:image/png;base64,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\"></div>"
      ],
      "text/plain": [
       "FormBox[TagBox[RowBox[{\"(\", \"⁠\", \n",
       "\n",
       " \n",
       ">         TagBox[GridBox[{{RowBox[{FractionBox[\"1\", \"2\"], \" \", \n",
       "\n",
       " \n",
       ">               OverscriptBox[\"r\", \"^\"], \" \", SubscriptBox[\"ϵ\", \"G\"], \" \", \n",
       "\n",
       " \n",
       ">               RowBox[{\"(\", RowBox[{RowBox[{OverscriptBox[\"r\", \"^\"], \" \", \n",
       "\n",
       " \n",
       ">                     OverscriptBox[\"ω\", \"^\"], \" \", \n",
       "\n",
       " \n",
       ">                     RowBox[{\"(\", RowBox[{RowBox[{RowBox[{\"sin\", \"(\", \n",
       "\n",
       " \n",
       ">                             RowBox[{\"2\", \" \", \"ϕ\"}], \")\"}], \" \", \n",
       "\n",
       " \n",
       ">                           RowBox[{\"(\", \n",
       "\n",
       " \n",
       ">                             RowBox[{TemplateBox[List[SubscriptBox[\n",
       "\n",
       " \n",
       ">                            OverscriptBox[\"f\", \"^\"], \n",
       "\n",
       " \n",
       ">                            RowBox[List[\"x\", \",\", \"x\"]]], \"\\\"(5)\\\"\"], \n",
       "\n",
       " \n",
       ">                             \"Superscript\", Rule[SyntaxForm, SuperscriptBox]], \n",
       "\n",
       " \n",
       ">                             \"-\", \n",
       "\n",
       " \n",
       ">                             TemplateBox[List[SubscriptBox[OverscriptB\\\n",
       "\n",
       " \n",
       ">   ox[\"f\", \"^\"], RowBox[List[\"y\", \",\", \"y\"]]], \"\\\"(5)\\\"\"], \"Superscript\", \n",
       "\n",
       " \n",
       ">                             Rule[SyntaxForm, SuperscriptBox]]}], \")\"}]}], \"-\", \n",
       "\n",
       " \n",
       ">                         RowBox[{\"2\", \" \", \n",
       "\n",
       " \n",
       ">                           RowBox[{\"cos\", \"(\", RowBox[{\"2\", \" \", \"ϕ\"}], \")\"}], \n",
       "\n",
       " \n",
       ">                           \" \", TemplateBox[List[SubscriptBox[OverscriptB\\\n",
       "\n",
       " \n",
       ">   ox[\"f\", \"^\"], RowBox[List[\"x\", \",\", \"y\"]]], \"\\\"(5)\\\"\"], \"Superscript\", \n",
       "\n",
       " \n",
       ">                            Rule[SyntaxForm, SuperscriptBox]]}]}], \")\"}]}], \"-\", \n",
       "\n",
       " \n",
       ">                   RowBox[{\"2\", \" \", SuperscriptBox[OverscriptBox[\"r\", \"^\"], \"′\"], \n",
       "\n",
       " \n",
       ">                     \" \", RowBox[{\"(\", \n",
       "\n",
       " \n",
       ">                       RowBox[{RowBox[{RowBox[{\"sin\", \"(\", \n",
       "\n",
       " \n",
       ">                             RowBox[{\"2\", \" \", \"ϕ\"}], \")\"}], \" \", \n",
       "\n",
       " \n",
       ">                           TemplateBox[List[SubscriptBox[OverscriptBox[\"f\", \n",
       "\n",
       " \n",
       ">                             \"^\"], RowBox[List[\"x\", \",\", \"y\"]]], \"\\\"(5)\\\"\"], \n",
       "\n",
       " \n",
       ">                            \"Superscript\", Rule[SyntaxForm, SuperscriptBox]]}], \n",
       "\n",
       " \n",
       ">                         \"+\", RowBox[{RowBox[{SuperscriptBox[\"cos\", \"2\"], \"(\", \n",
       "\n",
       " \n",
       ">                             \"ϕ\", \")\"}], \" \", \n",
       "\n",
       " \n",
       ">                           TemplateBox[List[SubscriptBox[OverscriptBox[\"f\", \n",
       "\n",
       " \n",
       ">                             \"^\"], RowBox[List[\"x\", \",\", \"x\"]]], \"\\\"(5)\\\"\"], \n",
       "\n",
       " \n",
       ">                            \"Superscript\", Rule[SyntaxForm, SuperscriptBox]]}], \n",
       "\n",
       " \n",
       ">                         \"+\", RowBox[{RowBox[{SuperscriptBox[\"sin\", \"2\"], \"(\", \n",
       "\n",
       " \n",
       ">                             \"ϕ\", \")\"}], \" \", \n",
       "\n",
       " \n",
       ">                           TemplateBox[List[SubscriptBox[OverscriptBox[\"f\", \n",
       "\n",
       " \n",
       ">                             \"^\"], RowBox[List[\"y\", \",\", \"y\"]]], \"\\\"(5)\\\"\"], \n",
       "\n",
       " \n",
       ">                            \"Superscript\", Rule[SyntaxForm, SuperscriptBox]]}]}], \n",
       "\n",
       " \n",
       ">                       \")\"}]}]}], \")\"}]}]}, \n",
       "\n",
       " \n",
       ">            {RowBox[{RowBox[{\"-\", FractionBox[\"1\", \"2\"]}], \" \", \n",
       "\n",
       " \n",
       ">               SuperscriptBox[OverscriptBox[\"r\", \"^\"], \"2\"], \" \", \n",
       "\n",
       " \n",
       ">               SubscriptBox[\"ϵ\", \"G\"], \" \", \n",
       "\n",
       " \n",
       ">               RowBox[{\"(\", RowBox[{RowBox[{RowBox[{\"sin\", \"(\", \n",
       "\n",
       " \n",
       ">                       RowBox[{\"2\", \" \", \"ϕ\"}], \")\"}], \" \", \n",
       "\n",
       " \n",
       ">                     RowBox[{\"(\", RowBox[{TemplateBox[List[SubscriptBox[\n",
       "\n",
       " \n",
       ">                            OverscriptBox[\"f\", \"^\"], \n",
       "\n",
       " \n",
       ">                            RowBox[List[\"y\", \",\", \"y\"]]], \"\\\"(5)\\\"\"], \n",
       "\n",
       " \n",
       ">                          \"Superscript\", Rule[SyntaxForm, SuperscriptBox]], \"-\", \n",
       "\n",
       " \n",
       ">                         TemplateBox[List[SubscriptBox[OverscriptBox[\"f\", \"^\"], \n",
       "\n",
       " \n",
       ">                            RowBox[List[\"x\", \",\", \"x\"]]], \"\\\"(5)\\\"\"], \n",
       "\n",
       " \n",
       ">                          \"Superscript\", Rule[SyntaxForm, SuperscriptBox]]}], \")\"}]}\\\n",
       "\n",
       " \n",
       ">   ], \"+\", RowBox[{\"2\", \" \", RowBox[{\"cos\", \"(\", RowBox[{\"2\", \" \", \"ϕ\"}], \")\"}], \n",
       "\n",
       " \n",
       ">                     \" \", TemplateBox[List[SubscriptBox[OverscriptBox[\"f\", \"^\"], \n",
       "\n",
       " \n",
       ">                        RowBox[List[\"x\", \",\", \"y\"]]], \"\\\"(5)\\\"\"], \"Superscript\", \n",
       "\n",
       " \n",
       ">                      Rule[SyntaxForm, SuperscriptBox]]}]}], \")\"}]}]}}, \n",
       "\n",
       " \n",
       ">           Rule[RowSpacings, 1], Rule[ColumnAlignments, Center], \n",
       "\n",
       " \n",
       ">           Rule[ColumnAlignments, Left]], Column], \"⁠\", \")\"}], \n",
       "\n",
       " \n",
       ">       Function[BoxForm`e$, MatrixForm[BoxForm`e$]]], TraditionalForm]\n"
      ]
     },
     "execution_count": 209,
     "metadata": {
      "text/html": [],
      "text/plain": []
     },
     "output_type": "execute_result"
    }
   ],
   "source": [
    "RHSEnegry = FullSimplify[Transform . RHSMotion, Trig -> True];\n",
    "RHSEnegry // MatrixForm // TraditionalForm"
   ]
  },
  {
   "cell_type": "markdown",
   "metadata": {},
   "source": [
    "## **Другой Способ** получения уравнений движения и энергетических уравнений через лагранжев формализм в полярных координатах"
   ]
  },
  {
   "cell_type": "markdown",
   "metadata": {},
   "source": [
    "### **Лагранжиан системы**\n",
    "Лагранжиан $L$ в полярных координатах $(r, \\phi)$ выражается как:\n",
    "$$\n",
    "L = T - (U + \\mu\\Phi),\n",
    "$$\n",
    "где:\n",
    "- $T$ — кинетическая энергия,\n",
    "- $U$ — потенциальная энергия\n",
    "- $\\Phi = \\frac{1}{5}f_{ij}^{(5)}r_i r_j = \\frac{\\epsilon_G}{2}\\frac{b^2}{t_0^2}\\hat{f}_{ij}^{(5)}\\hat{r}_i \\hat{r}_j = \\frac{5}{2}\\epsilon_G\\frac{GM}{b}\\hat{\\Phi}$ - малый потенциал \"реакции излучения\""
   ]
  },
  {
   "cell_type": "markdown",
   "metadata": {},
   "source": [
    "Безразмерный малый потенциал \"реакции излучения\" $\\hat{\\Phi} = \\frac{1}{5}\\hat{f}_{ij}^{(5)}\\hat{r}_i\\hat{r}_j$"
   ]
  },
  {
   "cell_type": "code",
   "execution_count": 211,
   "metadata": {
    "vscode": {
     "languageId": "wolfram"
    }
   },
   "outputs": [
    {
     "data": {
      "text/html": [
       "<div><img alt=\"Output\" src=\"data:image/png;base64,iVBORw0KGgoAAAANSUhEUgAAAmcAAAAoCAIAAAA0QcrWAAAAy3pUWHRSYXcgcHJvZmlsZSB0eXBlIGV4aWYAAHjabU/bDQMhDPtnio6QFw6Mw/U4qRt0/IaDSkWqJWLHxEGk/n5d6TEgTMmyF1SAAlatSgtRaGIyU73rDTjJcjc/yQpxCyv/BPryj913TI7cvmjtJx0vhFZbgbVIZfrcZn+seWml7IuUNuAr+H9v6oIMdotqQu6ooUsKGYQslB0XnkAMMk4hewZ3uEcMPia0jeCAdN+ne4KGcY4v6DhZW7BGZRWZbove7ypyrNv7I+kDG+5aiQ2t5poAAAAJcEhZcwAADsQAAA7EAZUrDhsAAAA8dEVYdFNvZnR3YXJlAENyZWF0ZWQgd2l0aCB0aGUgV29sZnJhbSBMYW5ndWFnZSA6IHd3dy53b2xmcmFtLmNvbVyipoUAAAAhdEVYdENyZWF0aW9uIFRpbWUAMjAyNTowMzoxMiAyMDozNzozMjqG41sAABDdSURBVHic7Z15UBPnG8efcElblQiBUSogo5OxUBSGiGAdK/JTsPeoHNZrrJXWVq1TO1QdCyNerdqKV63odFocj5ZWp7bYymB1YjwGFQMVFVGM4VLOgIYjhLy/P952WTcHye6SLOH9/LXvu2/ePO+X7/O+m83mRYQQAgAAMBgM9+7d++OPP1avXp2VlfXJJ58AgUAgEAgEGi49Ry4uUqk0Pj7egdEQCAQCgSBkXHpvQiAQCAQCAQDIqkkgEAgEgvWQVZNAIBAIBGshqyaBQCAQCNZCVk0CgUAgEKyFrJoEJhERERKJxNfX19fXV6FQODocJ4QoTLAe4pa+gIuqXFfNsrIyjj0IAScYxdatW728vJRKJfeuxo8f39DQUF9fX19fP3nyZO4dOgE8ygsWFXYCK7LGacZuN7cMNOwzyzF8aGxL5qrZ2dkJADqdzpo3/vbbb/V6vc3xCgwnGIVcLr969erp06dXr1795MkTdp0UFRX9888/ACCRSBinCgsLy8vLuUbZb+FFXjCvMF1ehNDevXu5RNtPcYI0xNjTLQOKPp3lLOSgcUr2rJqNjY1paWl4S6D9+/evWrWqsLDQwtvfv3+/pKQkNDSUXfQCwTlGUVdX98svv7zyyitHjhwpKipi0UNTU9Pp06fDwsIQQnfu3NmxY0dSUtLs2bM1Gg0AREVFff/991ZeSzkf3OUFiwrT5R07duytW7cG2rToHGmIsadbBhR9OstZyEETKYnYsmjRouvXr7N+uUBwjlFwJzs7+88//0QI4Y0VcWVsbOxnn33GaEBgh2WF6fIWFxcvWLDAUXE6BJKGDKx3C8F6WOcgo8jye02NRiOXyyMiIhj1/N7Q72tMjoLFENrb20NCQlauXMl3gDaQnZ29ZMmSkJCQVatWof/2FrYelUo1fPhwABCJRKNHj8aVERERt2/fxsfDhw9/8OABlwj7lzeM6VOF6fKOGzfu0qVLTU1NHAO2VXBH2ZivNBQOHK0CtriFNf3FHnQclYOMIstV89SpU9OmTROJRPRKvm7o2w3jUbAbQldXV2NjY319fd+E2TsnTpzYsWPHwYMH9+zZ89dffz19+tTWHoYMGaLVagHgp59++uqrr3Dl9evXo6Oj8bFWqx0yZAjrCPudNxj0tcIMeePi4n777TcuAbMQ3FE25isNBQJ3q4CNbmFBP7IHhWNz8Jkiu4+6ixYt2rdvH6MyNze3u7sbIVRbW3v+/Hl2PfMCDqNXjEfBeghdXV02RWgOKyNnMH78+LS0NC7vq1AoDhw4gBBSq9VvvvnmmjVrNm3atHz58vb2dtwgPT29oqKCdf/9zhsM+lphhrzffffd/PnzubwdO8H5sjGyRWce05B3WLiFu1WQjW5hQT+yB4Vjc5BeZLlqhoaGnjlzxri+u7vbYDCw69NW9Hr9zp07KysrGfUymez333+nikVFRYcPHzbZA7+joBYYazAZvPWR08nPzweAs2fPWv/uJtm1a5dOpzN5qrW1NTs7m2P/yI724O4NOn2tsLG8+fn5L730Ese3Q6wE525jZKPODp9MeHQLX1ZBtriFHY6a5ZBDhWWdg/Qim1VTr9d7eHgUFxfTKzMzM+Pi4vz8/BoaGubPny+RSKqrqxkvvHjx4qxZs5YuXRoaGvraa6+Vlpbi+vLy8nfeeWfWrFnz5s3DH4Spl6hUqsTExOTk5Li4uOnTp9P/AIsXL2bEgBCqrq729PTUarX0ymPHjm3bto2XURjHo9FokpOTAwICUlJSEEItLS3vvffe2LFjN2/efPny5Tlz5kgkEqlUyvj23jh46yOn0Ol077777qhRo0QiUXJyckpKyq1bt8w17pXu7u7y8nKTp8rKylh3i7GzPTh6g8I+ChvLW1JS4u7uzuXS3rLgfWdjZKPO7NJQUDMJhl+rIFvcYisOnOWQo4VlnYP0IptVs7a2FgDUajW9Uq/Xv/3223FxcWvWrFm/fv3s2bMZS3pBQYGHh0deXh5CqLm5WSKRyGQyhJBarR48ePBHH32Em+Xl5QFATk4OLsbExKxduxYfx8fHKxQKfHz06NElS5YYx3bs2LGEhATj+ujo6Bs3bnAfhcl4WlpaPDw8sJ8QQu3t7R4eHn5+fuvXr9doNHV1dS+//LK3t3dbW5uF4K2PnMGrr74qlUotNLADBw4cuHnzpoUG9rQHd28wsL/CarUaAIwvLCg4Ct53NkY26swiDYU2k9BxjmQUjj0oHJ6D9CKbVbO4uBgAmpubGfURERERERHmLoViYmJCQkKo4vnz5/GH9GXLlgHAw4cPqVPjxo0LCgpCCHV1dbm4uGzevJl6CdX5hAkTTp8+Te//7NmzX3zxRVRU1IwZM2bOnFlTU0M/u2XLlvfff5/jKCzEIxaLKT/hYmRkJFX8+uuvAUCpVJoM3tbIGYjFYo7fgXHngw8+OHfunOU2drMHd28wsL/Czc3NAGBhEuEieB/ZGLHSmUUaCm0moeMEySgoe9Dfy7E5SC/+u2rqzWPc3eXLlwGAuqbAaLVaNze3xMREkxHgJ5fmzJljfGrChAne3t70mgULFgBAfX09QmjixImurq4pKSlyuZxqUFdXBwANDQ1UTU5Ozrx58wwGQ1hYmEqlWrt2LSOSgoICf39/jqMwFw8y5afk5GSqePjwYQDAl2yM4FlETgc/Kr1nzx5zDexDr4lqN3vw4g06DlEYC0J9HjKGo+C82xix1dnWNBTgTELhHMmIhGQPjBBykF50AwCNRmNhe0OFQiEWi+k1eAMFV1dXeuW1a9f0en1KSorJTvB9GJNPS9fW1jL6HzZsGADU1NRIJJITJ05kZGT8+OOPx48fnzx58q+//urn51dZWenq6urt7Y3bq9Xq5cuXl5aWtrS0iESioKAgqVR68uRJep8SieTRo0d6vd7NzY31KADAZDwmW9KfpKcf04NnFzkd/HOrqKgocwH3HQihM2fO4OPKysrCwsKOjg4AGD58eHh4OKOx3exRVVXF3Rt0HKIwtiXe3pKCR8H5tTFw0NnWNBTgTELhHMkIQrIHRgg5SC+6AIBYLL5pHoYRAQAhBM9qBACXL192c3ObMWOGyQh8fX0B4PHjx8anRowY0dLSQq/Bu7j5+/vrdLphw4YdPHjw3r17S5cuVSgU6enpAKDX693d3akADh8+HBoaOnLkyEuXLiUkJADAgwcPpFIpvc9BgwYZDAaDwcBlFObisQl68Owip6NUKj08PMaPH29rGNxBCP31HzhR8bHJ303bzR68eIOOQxR2cXGB/yxKwZfgvNsYOOhsaxoKcCahcI5kFJQ9MELIQXrRxMV1r7i7uwNAd3c3PsBcuXJFJpMNHjzY5EuGDh0aFBQkl8vb29ufe+45XJmVlbVq1SqZTHb16tXKysqAgABcX1xcHBgYKJFI7ty5s3///l27dgUGBmZnZ9+8eRNvP+/r69vR0aHT6Tw8PACgoqICv1ahULz++usGgyE3N/ebb76hB9Da2url5YXbsx5FRUWFyXhsgh48u8jpKJXK8PDwQYMG2RoGd1xcXLKysvDxhx9+mJKSMnXqVHON7WYPXrxBxyEK433MGW/Kl+C82xg46GxrGgpwJqFwjmQUlD0wQshBepHN3kCenp4A0NXVRa+8cuWKhb8TAGRkZDx9+nTp0qUajaatrW3fvn01NTUAsGbNmhdeeGH79u242ZkzZ4qLizdu3AgAPj4+hw4dwg8vGQyGmpqa2NhYAAgMDPT29qZ2P5JKpXfv3gWA0tLSSZMm7d69OzY2Fl/RUKhUKsalCotRmIsHF+lXSYxid3c3rmQEzy5yOkql0uSNi9LS0tTU1CVLlnR2ds6dOxd/wYPRarUZGRmjRo3CN8dWrlx56NAhc/3zhd3swYs36LBQuNezvYJtiS3KDguC825j4KAzizQU2kxC4RzJKCh7YEwKa1k67sIycvCZIouvSVUqFQDQn4BSqVT+/v5///235RcePXo0MjJSLBaPGTMmIyOD2h6irKzsrbfeSkpKWrhwYVxc3MmTJ3G9wWD48ssvY2JiFi1aFB8fv27dOuoJ6cWLFx86dAgfP336NCkpKTU1NSoqasOGDXv27DH+9e7KlSt37drFcRQm46mqqkpNTQUAHx+f9PR0RhEhlJubGxkZCQDTpk0rKCigB88ucgr8WNeRI0dMnq2oqBg5cuTevXtbW1s7OzsZAxGLxffv30cIyWSyu3fvmhuylVh+AMHO9uDuDQrWCvd61jLV1dUAYGH/Fy6C825jxEFndpOJoGYSjNMko6DsgSwKa1k6jsIycpBeZLNqdnR0iEQijr/h5YhKpZo2bRp9Wya5XP7zzz+bbNzY2DhlyhTGrhYOHAUjeFsjpzh//jwAVFVVmXuj0aNHm/vfCFFRUQqFora2dtmyZTaGL3S4e4OCi8K9nrXA7du3RSIR48lSocGLzg6fTPhyC0lGBvYR1rJ0XIRl5CC9yOYO7aBBg4KCgkx+IW83goKCNm7cSL8zXlRUFB8fb9xSp9Nt27YtJyeHcb/LgaNgBG9r5BRKpTIsLOzFF180eVaj0bi5ueFnDo0JCAhoamrKycnZsGEDq0EIF+7eoOCisOWzlnn8+HFAQAD1vZ0w4UVnh08mfLmFJCMD+whrWTouwjJykF7sWTVPnTolepaMjAxzPYaHhz98+NDWOPhl0qRJiYmJ+P47ALi7uw8dOtS42Z07d9atWxcUFGR8yoGjoAdva+TNzc0JCQmPHj26du3axx9/bPxCjUaj1Wr379//6aefnj17trKysqysTKfTBQcHU3KNGDGipKTEx8cHP5ToZHD0BkeFTZ61KX61Wu2QRzFthXsOggAmEy6jIMlogT4VFsOQjkdhGTn4TJH6QPrDDz8kJCT8QaOurs7cp9edO3euXr3a1s+8QqOfjkKr1U6dOjUmJiYtLc3kvw7IzMyMjIwsLS1tbm4OCwvbsmULrg8PDy8sLMTH6enpEydONLmLBYGjwubOWk9aWtr27du5DqOf0E/TEEOSsY/oVViMsXR8CcvIQXqxZ9XcvXv37t27reyxoqIiLCyMRSiCwjlGYSWtra0rVqygiqmpqfn5+Q6Mx/lgKMyF8PBwczvpOx8DKg0xJBn5giEdj8IycpBe7LlD29raau4WijHBwcESicThN2k54hyjsJInT57gjSILCwv1er1EIpk+fbqjg3IqKIU5UlVV5eXlNWbMGO5d9QsGVBpiSDJyx6R0fAnLyEFGUYT+2/vg888/j4uLu3jxYklJib+//8KFCydOnGih33PnzsnlcgvfffYLnGMU1mMwGKRSqUwm27dvn4+Pj6PDIZhg06ZN0dHR//vf/xwdiP0YaGmIIcnIGsvScReWkYOMYs9nzZaWltzc3Llz5x44cODJkyeTJk3Kzc210G9sbGxTU1NDQwOLmISDc4zCelxcXO7du3f8+HGSpcKkqamprq5uQC2ZMPDSEEOSkTWWpeMoLCMHjVOy57NmTU2Nv78/Pm5vbw8ODvb09MS/QTZHR0dHYWHhlClTWEQmHJxjFATn4MKFCzKZTOC/OekLSBoSBAIjB41TsmfVZPDGG2/k5eU1NjZS+9YTCAQCgTDAMbvLgZeXFxj91wUCgUAgEAYy/66alZWV0dHR9K0rysvLAwMDyQ13AoFAIBAo/l0129rabty4sXbtWlyUy+VXr17dunWr4wIjEAgEAkFw9HyveeHChczMzOeff97Pz6+6unrFihUzZ850bHAEAoFAIAgKs08DEQgEAoFAYPB/mVmHVCpHNPMAAAAASUVORK5CYII=\"></div>"
      ],
      "text/plain": [
       "FormBox[RowBox[{FractionBox[\"1\", \"5\"], \" \", \n",
       "\n",
       " \n",
       ">        RowBox[{\"(\", RowBox[{RowBox[{OverscriptBox[\"r\", \"^\"], \" \", \n",
       "\n",
       " \n",
       ">              RowBox[{\"cos\", \"(\", \"ϕ\", \")\"}], \" \", \n",
       "\n",
       " \n",
       ">              RowBox[{\"(\", RowBox[{RowBox[{OverscriptBox[\"r\", \"^\"], \" \", \n",
       "\n",
       " \n",
       ">                    RowBox[{\"sin\", \"(\", \"ϕ\", \")\"}], \" \", \n",
       "\n",
       " \n",
       ">                    TemplateBox[List[SubscriptBox[OverscriptBox[\"f\", \"^\"], \n",
       "\n",
       " \n",
       ">                       RowBox[List[\"x\", \",\", \"y\"]]], \"\\\"(5)\\\"\"], \"Superscript\", \n",
       "\n",
       " \n",
       ">                     Rule[SyntaxForm, SuperscriptBox]]}], \"+\", \n",
       "\n",
       " \n",
       ">                  RowBox[{OverscriptBox[\"r\", \"^\"], \" \", \n",
       "\n",
       " \n",
       ">                    RowBox[{\"cos\", \"(\", \"ϕ\", \")\"}], \" \", \n",
       "\n",
       " \n",
       ">                    TemplateBox[List[SubscriptBox[OverscriptBox[\"f\", \"^\"], \n",
       "\n",
       " \n",
       ">                       RowBox[List[\"x\", \",\", \"x\"]]], \"\\\"(5)\\\"\"], \"Superscript\", \n",
       "\n",
       " \n",
       ">                     Rule[SyntaxForm, SuperscriptBox]]}]}], \")\"}]}], \"+\", \n",
       "\n",
       " \n",
       ">            RowBox[{OverscriptBox[\"r\", \"^\"], \" \", RowBox[{\"sin\", \"(\", \"ϕ\", \")\"}], \" \", \n",
       "\n",
       " \n",
       ">              RowBox[{\"(\", RowBox[{RowBox[{OverscriptBox[\"r\", \"^\"], \" \", \n",
       "\n",
       " \n",
       ">                    RowBox[{\"cos\", \"(\", \"ϕ\", \")\"}], \" \", \n",
       "\n",
       " \n",
       ">                    TemplateBox[List[SubscriptBox[OverscriptBox[\"f\", \"^\"], \n",
       "\n",
       " \n",
       ">                       RowBox[List[\"x\", \",\", \"y\"]]], \"\\\"(5)\\\"\"], \"Superscript\", \n",
       "\n",
       " \n",
       ">                     Rule[SyntaxForm, SuperscriptBox]]}], \"+\", \n",
       "\n",
       " \n",
       ">                  RowBox[{OverscriptBox[\"r\", \"^\"], \" \", RowBox[{\"sin\", \"(\", \"ϕ\", \")\"}],\\\n",
       " \n",
       ">    \n",
       "                 \" \", TemplateBox[List[SubscriptBox[OverscriptBox[\"f\", \"^\"], \n",
       "\n",
       " \n",
       ">                       RowBox[List[\"y\", \",\", \"y\"]]], \"\\\"(5)\\\"\"], \"Superscript\", \n",
       "\n",
       " \n",
       ">                     Rule[SyntaxForm, SuperscriptBox]]}]}], \")\"}]}]}], \")\"}]}], \n",
       "\n",
       " \n",
       ">      TraditionalForm]\n"
      ]
     },
     "execution_count": 211,
     "metadata": {
      "text/html": [],
      "text/plain": []
     },
     "output_type": "execute_result"
    }
   ],
   "source": [
    "fh5rhrh = 1/5 EinsteinSummation[{{i, j}, {i}, {j}}, {fh5, rh, rh}];\n",
    "fh5rhrh // TraditionalForm"
   ]
  },
  {
   "cell_type": "markdown",
   "metadata": {},
   "source": [
    "Безразмерный лагранжиан\n",
    "\n",
    "$$\n",
    "\\hat{L} = \\hat{T} - (\\hat{U} + \\frac{5}{2}\\epsilon_G\\hat{\\Phi}),\n",
    "$$\n",
    "или\n",
    "$$\n",
    "\\hat{L} = \\frac{1}{2} \\left((\\hat{r}^{(1)})^2 + \\hat{r}^2 \\hat{\\omega}^2 \\right) + \\frac{1}{\\hat{r}} - \\frac{\\epsilon_G}{2}\\hat{f}_{ij}^{(5)}\\hat{r}_i \\hat{r}_j.\n",
    "$$"
   ]
  },
  {
   "cell_type": "markdown",
   "metadata": {},
   "source": [
    "### **Уравнения Эйлера-Лагранжа**\n",
    "Уравнения Эйлера-Лагранжа имеют вид:\n",
    "$$\n",
    "\\frac{d}{dt} \\left( \\frac{\\partial \\hat{L}}{\\partial \\dot{q}_i} \\right) - \\frac{\\partial \\hat{L}}{\\partial q_i} = 0,\n",
    "$$\n",
    "где $q_i$ — обобщённые координаты ($\\hat{r}$ и $\\phi$)."
   ]
  },
  {
   "cell_type": "markdown",
   "metadata": {},
   "source": [
    "---\n",
    "\n",
    "#### Уравнение для координаты $\\hat{r}$:\n",
    "$$\n",
    "\\frac{d}{d\\hat{t}} \\left(\\frac{\\partial \\hat{L}}{\\partial \\hat{r}^{(1)}} \\right) - \\frac{\\partial \\hat{L}}{\\partial \\hat{r}} = 0.\n",
    "$$\n",
    "Вычислим производные:\n",
    "$$\n",
    "\\frac{\\partial \\hat{L}}{\\partial \\hat{r}^{(1)}} = \\hat{r}^{(1)}, \\quad \\frac{d}{d\\hat{t}} \\left( \\frac{\\partial \\hat{L}}{\\partial \\hat{r}^{(1)}} \\right) = \\hat{r}^{(2)},\n",
    "$$\n",
    "$$\n",
    "\\frac{\\partial \\hat{L}}{\\partial \\hat{r}} = \\hat{r} \\hat{\\omega}^2 - \\frac{1}{\\hat{r}^2} - \\frac{5}{2}\\epsilon_G\\frac{\\partial \\hat{\\Phi}}{\\partial \\hat{r}}.\n",
    "$$\n",
    "Подставляем в уравнение Эйлера-Лагранжа:\n",
    "$$\n",
    "\\hat{r}^{(2)} - \\hat{r} \\hat{\\omega}^2 + \\frac{1}{\\hat{r}^2} = - \\frac{5}{2}\\epsilon_G\\frac{\\partial \\hat{\\Phi}}{\\partial \\hat{r}}.\n",
    "$$\n",
    "\n",
    "Это **радиальное уравнение движения**.\n",
    "\n",
    "Здесь \n",
    "$$\n",
    "\\frac{\\partial \\hat{\\Phi}}{\\partial \\hat{r}} = \\frac{1}{5}\\hat{f}_{ij}^{(5)}\\left(\\frac{\\partial \\hat{r}_i}{\\partial \\hat{r}}\\hat{r}_j + \\hat{r}_i\\frac{\\partial \\hat{r}_j}{\\partial \\hat{r}}\\right)\n",
    "$$\n",
    "<span style=\"color:red\">**TODO_1:**</span> Обсудить почему $\\hat{f}_{ij}^{(5)}$ берётся заданной функцией, не зависящей от $\\hat{r}$ при вариации лагранжиана."
   ]
  },
  {
   "cell_type": "markdown",
   "metadata": {},
   "source": [
    "Правая часть радиального уравнения движения будет выглядеть как"
   ]
  },
  {
   "cell_type": "code",
   "execution_count": 213,
   "metadata": {
    "vscode": {
     "languageId": "wolfram"
    }
   },
   "outputs": [
    {
     "data": {
      "text/html": [
       "<div><img alt=\"Output\" src=\"data:image/png;base64,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\"></div>"
      ],
      "text/plain": [
       "FormBox[RowBox[{OverscriptBox[\"r\", \"^\"], \" \", \n",
       "\n",
       " \n",
       ">        RowBox[{\"(\", RowBox[{\"-\", SubscriptBox[\"ϵ\", \"G\"]}], \")\"}], \" \", \n",
       "\n",
       " \n",
       ">        RowBox[{\"(\", RowBox[{RowBox[{RowBox[{\"sin\", \"(\", RowBox[{\"2\", \" \", \"ϕ\"}], \n",
       "\n",
       " \n",
       ">                \")\"}], \" \", TemplateBox[List[SubscriptBox[OverscriptBox[\"f\", \"^\"], \n",
       "\n",
       " \n",
       ">                 RowBox[List[\"x\", \",\", \"y\"]]], \"\\\"(5)\\\"\"], \"Superscript\", \n",
       "\n",
       " \n",
       ">               Rule[SyntaxForm, SuperscriptBox]]}], \"+\", \n",
       "\n",
       " \n",
       ">            RowBox[{RowBox[{SuperscriptBox[\"cos\", \"2\"], \"(\", \"ϕ\", \")\"}], \" \", \n",
       "\n",
       " \n",
       ">              TemplateBox[List[SubscriptBox[OverscriptBox[\"f\", \"^\"], \n",
       "\n",
       " \n",
       ">                 RowBox[List[\"x\", \",\", \"x\"]]], \"\\\"(5)\\\"\"], \"Superscript\", \n",
       "\n",
       " \n",
       ">               Rule[SyntaxForm, SuperscriptBox]]}], \"+\", \n",
       "\n",
       " \n",
       ">            RowBox[{RowBox[{SuperscriptBox[\"sin\", \"2\"], \"(\", \"ϕ\", \")\"}], \" \", \n",
       "\n",
       " \n",
       ">              TemplateBox[List[SubscriptBox[OverscriptBox[\"f\", \"^\"], \n",
       "\n",
       " \n",
       ">                 RowBox[List[\"y\", \",\", \"y\"]]], \"\\\"(5)\\\"\"], \"Superscript\", \n",
       "\n",
       " \n",
       ">               Rule[SyntaxForm, SuperscriptBox]]}]}], \")\"}]}], TraditionalForm]\n"
      ]
     },
     "execution_count": 213,
     "metadata": {
      "text/html": [],
      "text/plain": []
     },
     "output_type": "execute_result"
    }
   ],
   "source": [
    "RHSMotionRadialLagrange = - 1/2 Subscript[\\[Epsilon], G] FullSimplify[EinsteinSummation[{{i, j}, {i}, {j}}, {fh5, D[rh, OverHat[r][OverHat[t]]], rh}] + EinsteinSummation[{{i, j}, {i}, {j}}, {fh5, rh, D[rh, OverHat[r][OverHat[t]]]}]];\n",
    "RHSMotionRadialLagrange // TraditionalForm"
   ]
  },
  {
   "cell_type": "markdown",
   "metadata": {},
   "source": [
    "<span style=\"color:brown\">**NB:**</span> Выражение <span style=\"color:green\">**совпадает**</span> с раннее полученным уравнением и с уравнением (10) из файла Binary.pdf"
   ]
  },
  {
   "cell_type": "code",
   "execution_count": 214,
   "metadata": {
    "vscode": {
     "languageId": "wolfram"
    }
   },
   "outputs": [
    {
     "data": {
      "text/html": [
       "<div><pre style=\"&#102;&#111;&#110;&#116;&#45;&#102;&#97;&#109;&#105;&#108;&#121;&#58;&#32;&#34;&#67;&#111;&#117;&#114;&#105;&#101;&#114;&#32;&#78;&#101;&#119;&#34;&#44;&#67;&#111;&#117;&#114;&#105;&#101;&#114;&#44;&#109;&#111;&#110;&#111;&#115;&#112;&#97;&#99;&#101;&#59;\">&#48;</pre></div>"
      ],
      "text/plain": [
       "0"
      ]
     },
     "execution_count": 214,
     "metadata": {
      "text/html": [],
      "text/plain": []
     },
     "output_type": "execute_result"
    }
   ],
   "source": [
    "RHSMotion[[1]] - RHSMotionRadialLagrange"
   ]
  },
  {
   "cell_type": "markdown",
   "metadata": {},
   "source": [
    "---\n",
    "\n",
    "#### Уравнение для координаты $\\phi$:\n",
    "$$\n",
    "\\frac{d}{d\\hat{t}} \\left(\\frac{\\partial \\hat{L}}{\\partial \\hat{\\omega}} \\right) - \\frac{\\partial \\hat{L}}{\\partial \\phi} = 0.\n",
    "$$\n",
    "Вычислим производные:\n",
    "$$\n",
    "\\frac{\\partial \\hat{L}}{\\partial \\hat{\\omega}} = \\hat{r}^2 \\hat{\\omega}, \\quad \\frac{d}{d\\hat{t}} \\left( \\frac{\\partial \\hat{L}}{\\partial \\hat{\\omega}} \\right) = \\frac{d}{d\\hat{t}} \\left( \\hat{r}^2 \\hat{\\omega} \\right),\n",
    "$$\n",
    "$$\n",
    "\\frac{\\partial \\hat{L}}{\\partial \\phi} = - \\frac{5}{2}\\epsilon_G\\frac{\\partial \\hat{\\Phi}}{\\partial \\phi}.\n",
    "$$\n",
    "Подставляем в уравнение Эйлера-Лагранжа:\n",
    "$$\n",
    "\\frac{1}{\\hat{r}}\\frac{d}{d\\hat{t}} \\left( \\hat{r}^2 \\hat{\\omega} \\right) = \\frac{1}{\\hat{r}}\\frac{d\\hat{J}}{d\\hat{t}} = - \\frac{5}{2}\\frac{\\epsilon_G}{\\hat{r}}\\frac{\\partial \\hat{\\Phi}}{\\partial \\phi}.\n",
    "$$\n",
    "\n",
    "Здесь \n",
    "$$\n",
    "\\frac{\\partial \\hat{\\Phi}}{\\partial \\phi} = \\frac{1}{5}\\hat{f}_{ij}^{(5)}\\left(\\frac{\\partial \\hat{r}_i}{\\partial \\phi}\\hat{r}_j + \\hat{r}_i\\frac{\\partial \\hat{r}_j}{\\partial \\phi}\\right)\n",
    "$$\n",
    "<span style=\"color:red\">**TODO_2:**</span> Обсудить почему $\\hat{f}_{ij}^{(5)}$ берётся заданной функцией, не зависящей от $\\phi$ при вариации лагранжиана."
   ]
  },
  {
   "cell_type": "markdown",
   "metadata": {},
   "source": [
    "Правая часть уравнения движения для $\\phi$ будет выглядеть как"
   ]
  },
  {
   "cell_type": "code",
   "execution_count": 216,
   "metadata": {
    "vscode": {
     "languageId": "wolfram"
    }
   },
   "outputs": [
    {
     "data": {
      "text/html": [
       "<div><img alt=\"Output\" src=\"data:image/png;base64,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\"></div>"
      ],
      "text/plain": [
       "FormBox[RowBox[{RowBox[{\"-\", FractionBox[\"1\", \"2\"]}], \" \", OverscriptBox[\"r\", \"^\"], \n",
       "\n",
       " \n",
       ">        \" \", SubscriptBox[\"ϵ\", \"G\"], \" \", \n",
       "\n",
       " \n",
       ">        RowBox[{\"(\", RowBox[{RowBox[{RowBox[{\"sin\", \"(\", RowBox[{\"2\", \" \", \"ϕ\"}], \n",
       "\n",
       " \n",
       ">                \")\"}], \" \", RowBox[{\"(\", \n",
       "\n",
       " \n",
       ">                RowBox[{TemplateBox[List[SubscriptBox[OverscriptBox[\"f\", \"^\"], \n",
       "\n",
       " \n",
       ">                     RowBox[List[\"y\", \",\", \"y\"]]], \"\\\"(5)\\\"\"], \"Superscript\", \n",
       "\n",
       " \n",
       ">                   Rule[SyntaxForm, SuperscriptBox]], \"-\", \n",
       "\n",
       " \n",
       ">                  TemplateBox[List[SubscriptBox[OverscriptBox[\"f\", \"^\"], \n",
       "\n",
       " \n",
       ">                     RowBox[List[\"x\", \",\", \"x\"]]], \"\\\"(5)\\\"\"], \"Superscript\", \n",
       "\n",
       " \n",
       ">                   Rule[SyntaxForm, SuperscriptBox]]}], \")\"}]}], \"+\", \n",
       "\n",
       " \n",
       ">            RowBox[{\"2\", \" \", RowBox[{\"cos\", \"(\", RowBox[{\"2\", \" \", \"ϕ\"}], \")\"}], \" \", \n",
       "\n",
       " \n",
       ">              TemplateBox[List[SubscriptBox[OverscriptBox[\"f\", \"^\"], \n",
       "\n",
       " \n",
       ">                 RowBox[List[\"x\", \",\", \"y\"]]], \"\\\"(5)\\\"\"], \"Superscript\", \n",
       "\n",
       " \n",
       ">               Rule[SyntaxForm, SuperscriptBox]]}]}], \")\"}]}], TraditionalForm]\n"
      ]
     },
     "execution_count": 216,
     "metadata": {
      "text/html": [],
      "text/plain": []
     },
     "output_type": "execute_result"
    }
   ],
   "source": [
    "RHSMotionPhiLagrange = - 1/2 Subscript[\\[Epsilon], G] FullSimplify[EinsteinSummation[{{i, j}, {i}, {j}}, {fh5, D[rh, \\[Phi][OverHat[t]]], rh}] + EinsteinSummation[{{i, j}, {i}, {j}}, {fh5, rh, D[rh, \\[Phi][OverHat[t]]]}]]/OverHat[r][OverHat[t]];\n",
    "RHSMotionPhiLagrange // TraditionalForm"
   ]
  },
  {
   "cell_type": "markdown",
   "metadata": {},
   "source": [
    "<span style=\"color:brown\">**NB:**</span> Выражение <span style=\"color:green\">**совпадает**</span> с раннее полученным уравнением и с уравнением (9) из файла Binary.pdf"
   ]
  },
  {
   "cell_type": "code",
   "execution_count": 217,
   "metadata": {
    "vscode": {
     "languageId": "wolfram"
    }
   },
   "outputs": [
    {
     "data": {
      "text/html": [
       "<div><pre style=\"&#102;&#111;&#110;&#116;&#45;&#102;&#97;&#109;&#105;&#108;&#121;&#58;&#32;&#34;&#67;&#111;&#117;&#114;&#105;&#101;&#114;&#32;&#78;&#101;&#119;&#34;&#44;&#67;&#111;&#117;&#114;&#105;&#101;&#114;&#44;&#109;&#111;&#110;&#111;&#115;&#112;&#97;&#99;&#101;&#59;\">&#48;</pre></div>"
      ],
      "text/plain": [
       "0"
      ]
     },
     "execution_count": 217,
     "metadata": {
      "text/html": [],
      "text/plain": []
     },
     "output_type": "execute_result"
    }
   ],
   "source": [
    "RHSMotion[[2]] - RHSMotionPhiLagrange"
   ]
  },
  {
   "cell_type": "markdown",
   "metadata": {},
   "source": [
    "## Получим **энергетическую** систему уравнений в подходе Лагранжа"
   ]
  },
  {
   "cell_type": "markdown",
   "metadata": {},
   "source": [
    "Заметим, что энергия системы:\n",
    "$$\n",
    "\\hat{E} = \\frac{(\\hat{r}^{(1)})^2}{2} + \\frac{\\hat{r}^2 \\hat{\\omega}^2}{2} - \\frac{1}{\\hat{r}}\n",
    "$$\n",
    "$$\n",
    "\\frac{1}{\\hat{r}^{(1)}}\\left(\\frac{d\\hat{E}}{d\\hat{t}} - \\hat{\\omega} \\frac{d\\hat{J}}{d\\hat{t}}\\right) = \\hat{r}^{(2)} - \\hat{r} \\hat{\\omega}^2 + \\frac{1}{\\hat{r}^2}\n",
    "$$\n",
    "\n",
    "А также уравнение для изменения момента импульса системы есть\n",
    "$$\n",
    "\\frac{d\\hat{J}}{d\\hat{t}} = - \\frac{5}{2}\\epsilon_G\\frac{\\partial \\hat{\\Phi}}{\\partial \\phi}.\n",
    "$$\n",
    "\n",
    "Итоговая энергетическая система, выведенная по-новому будет записываться как:\n",
    "\n",
    "$$\n",
    "\\begin{align}\n",
    "\\frac{d\\hat{E}}{d\\hat{t}} &= - \\frac{5}{2}\\epsilon_G\\left(\\hat{r}^{(1)}\\frac{\\partial \\hat{\\Phi}}{\\partial \\hat{r}} + \\hat{\\omega} \\frac{\\partial \\hat{\\Phi}}{\\partial \\phi}\\right) = - \\frac{5}{2}\\epsilon_G \\frac{d\\hat{\\Phi}}{d\\hat{t}}\n",
    "  = - \\frac{\\epsilon_G}{2}\\hat{f}_{ij}^{(5)}\\left(\\frac{d\\hat{r}_i}{d\\hat{t}}\\hat{r}_j + \\hat{r}_i\\frac{d\\hat{r}_j}{d\\hat{t}}\\right)\n",
    "  = - \\frac{\\epsilon_G}{2}\\hat{f}_{ij}^{(5)}\\frac{d(\\hat{r}_i \\hat{r}_j)}{d\\hat{t}}\n",
    "\\\\\n",
    "\\frac{d\\hat{J}}{d\\hat{t}} &= - \\frac{5}{2}\\epsilon_G\\frac{\\partial \\hat{\\Phi}}{\\partial \\phi}\n",
    "  = - \\frac{\\epsilon_G}{2}\\hat{f}_{ij}^{(5)}\\left(\\frac{\\partial \\hat{r}_i}{\\partial \\phi}\\hat{r}_j + \\hat{r}_i\\frac{\\partial \\hat{r}_j}{\\partial \\phi}\\right)\n",
    "  = - \\frac{\\epsilon_G}{2}\\hat{f}_{ij}^{(5)}\\frac{d(\\hat{r}_i \\hat{r}_j)}{d\\phi}\n",
    "\\end{align}\n",
    "$$"
   ]
  },
  {
   "cell_type": "markdown",
   "metadata": {},
   "source": [
    "<span style=\"color:red\">**TODO_3:**</span> Обсудить почему $\\hat{f}_{ij}^{(5)}$ берётся заданной функцией, не зависящей от $\\hat{r}, \\phi, \\hat{t}$ при вариации лагранжиана."
   ]
  },
  {
   "cell_type": "code",
   "execution_count": 219,
   "metadata": {
    "vscode": {
     "languageId": "wolfram"
    }
   },
   "outputs": [
    {
     "data": {
      "text/html": [
       "<div><img alt=\"Output\" src=\"data:image/png;base64,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\"></div>"
      ],
      "text/plain": [
       "FormBox[TagBox[RowBox[{\"(\", \"⁠\", \n",
       "\n",
       " \n",
       ">         TagBox[GridBox[{{RowBox[{OverscriptBox[\"r\", \"^\"], \" \", \n",
       "\n",
       " \n",
       ">               RowBox[{\"(\", RowBox[{\"-\", SubscriptBox[\"ϵ\", \"G\"]}], \")\"}], \" \", \n",
       "\n",
       " \n",
       ">               RowBox[{\"(\", RowBox[{RowBox[{OverscriptBox[\"r\", \"^\"], \" \", \n",
       "\n",
       " \n",
       ">                     OverscriptBox[\"ω\", \"^\"], \" \", \n",
       "\n",
       " \n",
       ">                     RowBox[{\"(\", RowBox[{RowBox[{RowBox[{\"cos\", \"(\", \n",
       "\n",
       " \n",
       ">                             RowBox[{\"2\", \" \", \"ϕ\"}], \")\"}], \" \", \n",
       "\n",
       " \n",
       ">                           TemplateBox[List[SubscriptBox[OverscriptBox[\"f\", \n",
       "\n",
       " \n",
       ">                             \"^\"], RowBox[List[\"x\", \",\", \"y\"]]], \"\\\"(5)\\\"\"], \n",
       "\n",
       " \n",
       ">                            \"Superscript\", Rule[SyntaxForm, SuperscriptBox]]}], \n",
       "\n",
       " \n",
       ">                         \"+\", RowBox[{RowBox[{\"sin\", \"(\", \"ϕ\", \")\"}], \" \", \n",
       "\n",
       " \n",
       ">                           RowBox[{\"cos\", \"(\", \"ϕ\", \")\"}], \" \", \n",
       "\n",
       " \n",
       ">                           RowBox[{\"(\", \n",
       "\n",
       " \n",
       ">                             RowBox[{TemplateBox[List[SubscriptBox[\n",
       "\n",
       " \n",
       ">                             OverscriptBox[\"f\", \"^\"], \n",
       "\n",
       " \n",
       ">                             RowBox[List[\"y\", \",\", \"y\"]]], \"\\\"(5)\\\"\"], \n",
       "\n",
       " \n",
       ">                             \"Superscript\", Rule[SyntaxForm, SuperscriptBox]], \n",
       "\n",
       " \n",
       ">                              \"-\", \n",
       "\n",
       " \n",
       ">                              TemplateBox[List[SubscriptBox[OverscriptB\\\n",
       "\n",
       " \n",
       ">   ox[\"f\", \"^\"], RowBox[List[\"x\", \",\", \"x\"]]], \"\\\"(5)\\\"\"], \"Superscript\", \n",
       "\n",
       " \n",
       ">                              Rule[SyntaxForm, SuperscriptBox]]}], \")\"}]}]}], \")\"}]\\\n",
       "\n",
       " \n",
       ">   }], \"+\", RowBox[{SuperscriptBox[OverscriptBox[\"r\", \"^\"], \"′\"], \" \", \n",
       "\n",
       " \n",
       ">                     RowBox[{\"(\", RowBox[{RowBox[{RowBox[{\"sin\", \"(\", \n",
       "\n",
       " \n",
       ">                             RowBox[{\"2\", \" \", \"ϕ\"}], \")\"}], \" \", \n",
       "\n",
       " \n",
       ">                           TemplateBox[List[SubscriptBox[OverscriptBox[\"f\", \n",
       "\n",
       " \n",
       ">                             \"^\"], RowBox[List[\"x\", \",\", \"y\"]]], \"\\\"(5)\\\"\"], \n",
       "\n",
       " \n",
       ">                            \"Superscript\", Rule[SyntaxForm, SuperscriptBox]]}], \n",
       "\n",
       " \n",
       ">                         \"+\", RowBox[{RowBox[{SuperscriptBox[\"cos\", \"2\"], \"(\", \n",
       "\n",
       " \n",
       ">                             \"ϕ\", \")\"}], \" \", \n",
       "\n",
       " \n",
       ">                           TemplateBox[List[SubscriptBox[OverscriptBox[\"f\", \n",
       "\n",
       " \n",
       ">                             \"^\"], RowBox[List[\"x\", \",\", \"x\"]]], \"\\\"(5)\\\"\"], \n",
       "\n",
       " \n",
       ">                            \"Superscript\", Rule[SyntaxForm, SuperscriptBox]]}], \n",
       "\n",
       " \n",
       ">                         \"+\", RowBox[{RowBox[{SuperscriptBox[\"sin\", \"2\"], \"(\", \n",
       "\n",
       " \n",
       ">                             \"ϕ\", \")\"}], \" \", \n",
       "\n",
       " \n",
       ">                           TemplateBox[List[SubscriptBox[OverscriptBox[\"f\", \n",
       "\n",
       " \n",
       ">                             \"^\"], RowBox[List[\"y\", \",\", \"y\"]]], \"\\\"(5)\\\"\"], \n",
       "\n",
       " \n",
       ">                            \"Superscript\", Rule[SyntaxForm, SuperscriptBox]]}]}], \n",
       "\n",
       " \n",
       ">                       \")\"}]}]}], \")\"}]}]}, \n",
       "\n",
       " \n",
       ">            {RowBox[{RowBox[{\"-\", FractionBox[\"1\", \"2\"]}], \" \", \n",
       "\n",
       " \n",
       ">               SuperscriptBox[OverscriptBox[\"r\", \"^\"], \"2\"], \" \", \n",
       "\n",
       " \n",
       ">               SubscriptBox[\"ϵ\", \"G\"], \" \", \n",
       "\n",
       " \n",
       ">               RowBox[{\"(\", RowBox[{RowBox[{RowBox[{\"sin\", \"(\", \n",
       "\n",
       " \n",
       ">                       RowBox[{\"2\", \" \", \"ϕ\"}], \")\"}], \" \", \n",
       "\n",
       " \n",
       ">                     RowBox[{\"(\", RowBox[{TemplateBox[List[SubscriptBox[\n",
       "\n",
       " \n",
       ">                            OverscriptBox[\"f\", \"^\"], \n",
       "\n",
       " \n",
       ">                            RowBox[List[\"y\", \",\", \"y\"]]], \"\\\"(5)\\\"\"], \n",
       "\n",
       " \n",
       ">                          \"Superscript\", Rule[SyntaxForm, SuperscriptBox]], \"-\", \n",
       "\n",
       " \n",
       ">                         TemplateBox[List[SubscriptBox[OverscriptBox[\"f\", \"^\"], \n",
       "\n",
       " \n",
       ">                            RowBox[List[\"x\", \",\", \"x\"]]], \"\\\"(5)\\\"\"], \n",
       "\n",
       " \n",
       ">                          \"Superscript\", Rule[SyntaxForm, SuperscriptBox]]}], \")\"}]}\\\n",
       "\n",
       " \n",
       ">   ], \"+\", RowBox[{\"2\", \" \", RowBox[{\"cos\", \"(\", RowBox[{\"2\", \" \", \"ϕ\"}], \")\"}], \n",
       "\n",
       " \n",
       ">                     \" \", TemplateBox[List[SubscriptBox[OverscriptBox[\"f\", \"^\"], \n",
       "\n",
       " \n",
       ">                        RowBox[List[\"x\", \",\", \"y\"]]], \"\\\"(5)\\\"\"], \"Superscript\", \n",
       "\n",
       " \n",
       ">                      Rule[SyntaxForm, SuperscriptBox]]}]}], \")\"}]}]}}, \n",
       "\n",
       " \n",
       ">           Rule[RowSpacings, 1], Rule[ColumnAlignments, Center], \n",
       "\n",
       " \n",
       ">           Rule[ColumnAlignments, Left]], Column], \"⁠\", \")\"}], \n",
       "\n",
       " \n",
       ">       Function[BoxForm`e$, MatrixForm[BoxForm`e$]]], TraditionalForm]\n"
      ]
     },
     "execution_count": 219,
     "metadata": {
      "text/html": [],
      "text/plain": []
     },
     "output_type": "execute_result"
    }
   ],
   "source": [
    "RHSEnegryLagrange = - 5/2 Subscript[\\[Epsilon],G] FullSimplify[{\n",
    "  D[fh5rhrh, OverHat[t]] /. OmegaReplace,\n",
    "  D[fh5rhrh, \\[Phi][OverHat[t]]]\n",
    "}, Trig -> True];\n",
    "\n",
    "RHSEnegryLagrange // MatrixForm // TraditionalForm"
   ]
  },
  {
   "cell_type": "markdown",
   "metadata": {},
   "source": [
    "<span style=\"color:brown\">**NB:**</span> Выражения полностью <span style=\"color:green\">**совпадают**</span> с предыдущим ньютоновым подходом!"
   ]
  },
  {
   "cell_type": "code",
   "execution_count": 220,
   "metadata": {
    "vscode": {
     "languageId": "wolfram"
    }
   },
   "outputs": [
    {
     "data": {
      "text/html": [
       "<div><img alt=\"Output\" src=\"data:image/png;base64,iVBORw0KGgoAAAANSUhEUgAAACcAAAAnCAIAAAADwcZiAAAAzHpUWHRSYXcgcHJvZmlsZSB0eXBlIGV4aWYAAHjabU9bDgMhCPz3FD0CAg56HLfrJr1Bj198tI1NJxGGGUAN7fm4wq2DIwVNllEAcmjRwtVJpomZI5URB9iWF3c9vI1YXUpfA23px64b1sL8s4h4Euk3OBddA2uR8NRjnfWx+rnmvC8S2gD6PP1vrWKMhGjqUZnMUJzn4NQTElMyXLgD3hhxMundc4OZj8F6h9Q+2MHN9u4WIC6c/QvST5LqWTxGYZ5q9dpGFD6WOz4SXhHIWoP1H2DXAAAACXBIWXMAAA7EAAAOxAGVKw4bAAAAPHRFWHRTb2Z0d2FyZQBDcmVhdGVkIHdpdGggdGhlIFdvbGZyYW0gTGFuZ3VhZ2UgOiB3d3cud29sZnJhbS5jb21coqaFAAAAIXRFWHRDcmVhdGlvbiBUaW1lADIwMjU6MDM6MTIgMjA6Mzc6MzNNgdPNAAADm0lEQVRYhc1Xz0vzWhC98WeKaRdNsSK1FCmCtEJU3LgQRF0pmICL7gVFBdeKO/8DoSvBXRaClFrcqVgIdGegaKtFxEKsYC1p1FYjNvW+RUHeS+5NGj7le2eXmeGcO8nMnQmAKCiKUigUkK5KpbKyskLTNEVRLMtKkoQMgxBeXFzgXC0ABZ7nW1rQrkgkcnx8vLu7G4vFZFmemppSVRUZeXR0JEkS0gWQZ9nY2EDaBUEgCOI7iZeXF5qmd3Z2kMGZTGZ7e7vZXG9vb7u7u3HHHx0dHRoaajy6XK6FhYVEIoEMDoVCmUwG6UKoJhKJmZkZZHQ2m2UYBgBweXmZTCYBAAzDXF1dIYMBAIFAAPmSEarZbDYUCiFZFEWhaRoAMDc3Nz09XSwWaZoul8s41bGxMUEQrFUhhJ+fnwRB4IgaGBkZCQaDLpcLQmgSNjw8nEqljPY23fP19bXP58Ox0DQtyzIAIB6PNyyyLDeyR6K/vz+fzxvt+lxFUQyHwziWcDicTqf/bUmn09/FZQRBEK2trdaquVwuGAziWObn50VR/BZWFOXg4IDjOFw8AMDr9ZZKJb1V10mRSOTp6Ql3p0AIWZYNBALxePz09HR8fHxwcFBVVZP4ra0tURQt+rVUKnk8HpOz8zw/Ozu7uLjIsqzX6z05OSFJ0iS+t7e3UCjojPpq+vr6Mi/grq6uaDQajUZNYnSq9/f3OqM+V8uesYuenp7Hx0cL1R8HRVHv7+9mqpqmtbe3/6wqSZLGofQf1Vqt9hdUNU1ra9PX1x/C4XBYqAIAkFfJn6Cjo6NWq5mpkiSpadrPqmqa5nA4zFR//KM2pfobUFXVWtXyDVer1dXVVY/H43Q6OY4z3js6VCoVa1XzKQ3s7IgNvL6+UhSlt+qmAcdxJgPE1o7YwOHh4d7ensXMoSjKWOjfsLUjNlAsFv1+v86oV/X5fA8PDzgKuzsiAECSJGtVv99/d3eHo7C7IwIA8vl8X1+fherAwMDNzY0JSwNN7ogAgLe3N2MN629dhmFisRiOwu6OWK/XOzs7jXZ9rm63+/n5Gcdid0fM5XLIhR5xNzmdzo+PDySL3R0xlUpNTEwgHMYO43n+7OwM13+2dsSlpSWkF6FaLpc3NzdxRNVqdW1tze12UxTFcRzu5xpCWK/Xl5eXkS70/+v6+jqOq3kIgrC/v490oWfO5OTk+fk57ms1iWQyybIs0kVAq4b7Dfz6fP0fqf4Dh0MgcMINdBkAAAAASUVORK5CYII=\"></div>"
      ],
      "text/plain": [
       "0\n",
       "\n",
       "0"
      ]
     },
     "execution_count": 220,
     "metadata": {
      "text/html": [],
      "text/plain": []
     },
     "output_type": "execute_result"
    }
   ],
   "source": [
    "FullSimplify[RHSEnegryLagrange - RHSEnegry] // MatrixForm"
   ]
  },
  {
   "cell_type": "markdown",
   "metadata": {},
   "source": [
    "В **размерной** же записи наши уравнения превращаются в\n",
    "$$\n",
    "\\begin{align}\n",
    "\\frac{dE}{dt} &= - \\mu\\frac{d\\Phi}{dt}\n",
    "  = - \\frac{1}{5}f_{ij}^{(5)} \\mu \\frac{d(r_i r_j)}{dt}\n",
    "  = - \\frac{1}{5}\\frac{c^5}{G}f_{ij}^{(5)} \\frac{d}{dt}\\left(f_{ij} + \\frac{1}{3} \\delta_{ij}r^2\\right)\n",
    "\\\\\n",
    "\\frac{dJ}{dt} &= - \\mu\\frac{\\partial \\Phi}{\\partial \\phi}\n",
    "  = - \\frac{1}{5}f_{ij}^{(5)} \\mu \\frac{d(r_i r_j)}{d\\phi}\n",
    "  = - \\frac{1}{5}\\frac{c^5}{G}f_{ij}^{(5)} \\frac{d}{d\\phi}\\left(f_{ij} + \\frac{1}{3} \\delta_{ij}r^2\\right)\n",
    "  = - \\frac{2}{5}\\frac{c^5}{G}\\epsilon_{ij}f_{ik}^{(5)} \\left(f_{kj} + \\frac{1}{3} \\delta_{kj}r^2\\right)\n",
    "\\end{align}\n",
    "$$"
   ]
  },
  {
   "cell_type": "markdown",
   "metadata": {},
   "source": [
    "<span style=\"color:red\">**TODO_4:**</span> Обсудить почему отбрасывается \"приводящий член\" $1/3\\,\\delta_{ij}r^2$\n",
    "\n",
    "в формулях $dE/dt, dJ/dt$ из задачника Лайтман А., Пресс В., Прайс Р., Тюкольки С. - 1979 - Сборник задач по теории относительности и гравитации (Решение задачи 18.5, стр. 446-447)\n",
    "\n",
    "Не стоит забывать, что в задачнике система геометризированных единиц $G = c = 1$."
   ]
  },
  {
   "cell_type": "code",
   "execution_count": 223,
   "metadata": {
    "vscode": {
     "languageId": "wolfram"
    }
   },
   "outputs": [
    {
     "data": {
      "text/html": [
       "<style>\n",
       "\t\t\t\t\t\t\t\t\t\t\t\t\t.grid-container {\n",
       "\t\t\t\t\t\t\t\t\t\t\t\t\t\tdisplay: inline-grid;\n",
       "\t\t\t\t\t\t\t\t\t\t\t\t\t\tgrid-template-columns: auto;\n",
       "\t\t\t\t\t\t\t\t\t\t\t\t\t}\n",
       "\t\t\t\t\t\t\t\t\t\t\t\t</style>\n",
       "\n",
       "\t\t\t\t\t\t\t\t\t\t\t\t<div><div class=\"grid-container\"><div class=\"grid-item\"><img alt=\"Output\" src=\"data:image/png;base64,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\"></div><div class=\"grid-item\"><img alt=\"Output\" src=\"data:image/png;base64,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\"></div></div></div>"
      ],
      "text/plain": [
       "FormBox[RowBox[{RowBox[{\"-\", FractionBox[\"2\", \"5\"]}], \" \", OverscriptBox[\"r\", \"^\"], \n",
       "\n",
       " \n",
       ">        \" \", RowBox[{\"(\", RowBox[{RowBox[{OverscriptBox[\"r\", \"^\"], \" \", \n",
       "\n",
       " \n",
       ">              OverscriptBox[\"ω\", \"^\"], \" \", \n",
       "\n",
       " \n",
       ">              RowBox[{\"(\", RowBox[{RowBox[{RowBox[{\"cos\", \"(\", \n",
       "\n",
       " \n",
       ">                      RowBox[{\"2\", \" \", \"ϕ\"}], \")\"}], \" \", \n",
       "\n",
       " \n",
       ">                    TemplateBox[List[SubscriptBox[OverscriptBox[\"f\", \"^\"], \n",
       "\n",
       " \n",
       ">                       RowBox[List[\"x\", \",\", \"y\"]]], \"\\\"(5)\\\"\"], \"Superscript\", \n",
       "\n",
       " \n",
       ">                     Rule[SyntaxForm, SuperscriptBox]]}], \"+\", \n",
       "\n",
       " \n",
       ">                  RowBox[{RowBox[{\"sin\", \"(\", \"ϕ\", \")\"}], \" \", \n",
       "\n",
       " \n",
       ">                    RowBox[{\"cos\", \"(\", \"ϕ\", \")\"}], \" \", \n",
       "\n",
       " \n",
       ">                    RowBox[{\"(\", RowBox[{TemplateBox[List[SubscriptBox[\n",
       "\n",
       " \n",
       ">                           OverscriptBox[\"f\", \"^\"], RowBox[List[\"y\", \",\", \"y\"]]], \n",
       "\n",
       " \n",
       ">                          \"\\\"(5)\\\"\"], \"Superscript\", \n",
       "\n",
       " \n",
       ">                         Rule[SyntaxForm, SuperscriptBox]], \"-\", \n",
       "\n",
       " \n",
       ">                        TemplateBox[List[SubscriptBox[OverscriptBox[\"f\", \"^\"], \n",
       "\n",
       " \n",
       ">                           RowBox[List[\"x\", \",\", \"x\"]]], \"\\\"(5)\\\"\"], \"Superscript\", \n",
       "\n",
       " \n",
       ">                         Rule[SyntaxForm, SuperscriptBox]]}], \")\"}]}]}], \")\"}]}], \"+\", \n",
       "\n",
       " \n",
       ">            RowBox[{SuperscriptBox[OverscriptBox[\"r\", \"^\"], \"′\"], \" \", \n",
       "\n",
       " \n",
       ">              RowBox[{\"(\", RowBox[{RowBox[{RowBox[{\"sin\", \"(\", \n",
       "\n",
       " \n",
       ">                      RowBox[{\"2\", \" \", \"ϕ\"}], \")\"}], \" \", \n",
       "\n",
       " \n",
       ">                    TemplateBox[List[SubscriptBox[OverscriptBox[\"f\", \"^\"], \n",
       "\n",
       " \n",
       ">                       RowBox[List[\"x\", \",\", \"y\"]]], \"\\\"(5)\\\"\"], \"Superscript\", \n",
       "\n",
       " \n",
       ">                     Rule[SyntaxForm, SuperscriptBox]]}], \"+\", \n",
       "\n",
       " \n",
       ">                  RowBox[{RowBox[{SuperscriptBox[\"cos\", \"2\"], \"(\", \"ϕ\", \")\"}], \" \", \n",
       "\n",
       " \n",
       ">                    TemplateBox[List[SubscriptBox[OverscriptBox[\"f\", \"^\"], \n",
       "\n",
       " \n",
       ">                       RowBox[List[\"x\", \",\", \"x\"]]], \"\\\"(5)\\\"\"], \"Superscript\", \n",
       "\n",
       " \n",
       ">                     Rule[SyntaxForm, SuperscriptBox]]}], \"+\", \n",
       "\n",
       " \n",
       ">                  RowBox[{RowBox[{SuperscriptBox[\"sin\", \"2\"], \"(\", \"ϕ\", \")\"}], \" \", \n",
       "\n",
       " \n",
       ">                    TemplateBox[List[SubscriptBox[OverscriptBox[\"f\", \"^\"], \n",
       "\n",
       " \n",
       ">                       RowBox[List[\"y\", \",\", \"y\"]]], \"\\\"(5)\\\"\"], \"Superscript\", \n",
       "\n",
       " \n",
       ">                     Rule[SyntaxForm, SuperscriptBox]]}]}], \")\"}]}]}], \")\"}]}], \n",
       "\n",
       " \n",
       ">      TraditionalForm]\n",
       "\n",
       "FormBox[RowBox[{RowBox[{\"-\", FractionBox[\"1\", \"5\"]}], \" \", \n",
       "\n",
       " \n",
       ">        SuperscriptBox[OverscriptBox[\"r\", \"^\"], \"2\"], \" \", \n",
       "\n",
       " \n",
       ">        RowBox[{\"(\", RowBox[{RowBox[{RowBox[{\"sin\", \"(\", RowBox[{\"2\", \" \", \"ϕ\"}], \n",
       "\n",
       " \n",
       ">                \")\"}], \" \", RowBox[{\"(\", \n",
       "\n",
       " \n",
       ">                RowBox[{TemplateBox[List[SubscriptBox[OverscriptBox[\"f\", \"^\"], \n",
       "\n",
       " \n",
       ">                     RowBox[List[\"x\", \",\", \"x\"]]], \"\\\"(5)\\\"\"], \"Superscript\", \n",
       "\n",
       " \n",
       ">                   Rule[SyntaxForm, SuperscriptBox]], \"-\", \n",
       "\n",
       " \n",
       ">                  TemplateBox[List[SubscriptBox[OverscriptBox[\"f\", \"^\"], \n",
       "\n",
       " \n",
       ">                     RowBox[List[\"y\", \",\", \"y\"]]], \"\\\"(5)\\\"\"], \"Superscript\", \n",
       "\n",
       " \n",
       ">                   Rule[SyntaxForm, SuperscriptBox]]}], \")\"}]}], \"-\", \n",
       "\n",
       " \n",
       ">            RowBox[{\"2\", \" \", RowBox[{\"cos\", \"(\", RowBox[{\"2\", \" \", \"ϕ\"}], \")\"}], \" \", \n",
       "\n",
       " \n",
       ">              TemplateBox[List[SubscriptBox[OverscriptBox[\"f\", \"^\"], \n",
       "\n",
       " \n",
       ">                 RowBox[List[\"x\", \",\", \"y\"]]], \"\\\"(5)\\\"\"], \"Superscript\", \n",
       "\n",
       " \n",
       ">               Rule[SyntaxForm, SuperscriptBox]]}]}], \")\"}]}], TraditionalForm]\n"
      ]
     },
     "execution_count": 223,
     "metadata": {
      "text/html": [],
      "text/plain": []
     },
     "output_type": "execute_result"
    }
   ],
   "source": [
    "KroneckerDeltaR2 = Simplify[Array[1/3*KroneckerDelta[#, #2]*(OverHat[r][OverHat[t]])^2 &, {2, 2}], Trig -> True];\n",
    "leviCivitaArray = Normal[LeviCivitaTensor[2]];\n",
    "-1/5 FullSimplify[EinsteinSummation[{{i, j}, {i, j}}, {fh5, D[fh + KroneckerDeltaR2, OverHat[t]]}] /. OmegaReplace] // TraditionalForm\n",
    "-2/5 FullSimplify[EinsteinSummation[{{i, j}, {i, k}, {k, j}}, {leviCivitaArray, fh5, (fh + KroneckerDeltaR2)}]] // TraditionalForm"
   ]
  },
  {
   "cell_type": "markdown",
   "metadata": {},
   "source": [
    "# Итоговая система **энергетических** уравнений:\n",
    "\n",
    "$$\n",
    "\\begin{align}\n",
    "\\tag{dJ/dt}\n",
    "\\frac{d\\hat{J}}{d\\hat{t}} &= -\\frac{1}{2} \\epsilon_G\n",
    "\\hat{r}^2\n",
    "\\left(\n",
    "  \\sin (2 \\phi ) \\left(\\hat{f}_{y,y}{}^{\\text{(5)}}-\\hat{f}_{x,x}{}^{\\text{(5)}}\\right)+2 \\cos (2 \\phi ) \\hat{f}_{x,y}{}^{\\text{(5)}}\n",
    "\\right)\n",
    "= \\epsilon_G I_J\n",
    "\\\\\n",
    "\\tag{dE/dt}\n",
    "\\frac{d\\hat{E}}{d\\hat{t}} &= \\epsilon_G\n",
    "\\left(\n",
    "  I_J\\hat{\\omega}\n",
    "  -\\hat{r} \\hat{r}'\n",
    "  \\left(\n",
    "  \\sin (2 \\phi ) \\hat{f}_{x,y}{}^{\\text{(5)}}+\\cos ^2(\\phi ) \\hat{f}_{x,x}{}^{\\text{(5)}}+\\sin ^2(\\phi ) \\hat{f}_{y,y}{}^{\\text{(5)}}\n",
    "  \\right)\n",
    "\\right)\n",
    "= \\epsilon_G I_E\n",
    "\\end{align}\n",
    "$$"
   ]
  },
  {
   "cell_type": "markdown",
   "metadata": {},
   "source": [
    "# RHS уравнения (dJ/dt)\n",
    "\n",
    "Введём новое обозначение $\\hat{r}^2 \\equiv \\hat{r}_2$"
   ]
  },
  {
   "cell_type": "code",
   "execution_count": 225,
   "metadata": {
    "vscode": {
     "languageId": "wolfram"
    }
   },
   "outputs": [],
   "source": [
    "ToR2Replacement = {\n",
    "  OverHat[r][OverHat[t]] -> Sqrt[Subscript[OverHat[r],2][OverHat[t]]],\n",
    "  Derivative[n_][OverHat[r]][OverHat[t]] :> D[Sqrt[Subscript[OverHat[r], 2][OverHat[t]]], {OverHat[t], n}]\n",
    "};"
   ]
  },
  {
   "cell_type": "markdown",
   "metadata": {},
   "source": [
    "и подставим в (dJ/dt) значения $\\hat{f}_{i,j}^{(5)}$:"
   ]
  },
  {
   "cell_type": "code",
   "execution_count": 231,
   "metadata": {
    "vscode": {
     "languageId": "wolfram"
    }
   },
   "outputs": [
    {
     "data": {
      "text/html": [
       "<div><img alt=\"Output\" src=\"data:image/png;base64,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\"></div>"
      ],
      "text/plain": [
       "FormBox[RowBox[{SubscriptBox[OverscriptBox[\"r\", \"^\"], \"2\"], \" \", \n",
       "\n",
       " \n",
       ">        RowBox[{\"(\", RowBox[{RowBox[{\"-\", \n",
       "\n",
       " \n",
       ">              RowBox[{\"5\", \" \", SuperscriptBox[SubscriptBox[OverscriptBox[\"r\", \"^\"], \n",
       "\n",
       " \n",
       ">                  \"2\"], \"′\"], \" \", SuperscriptBox[OverscriptBox[\"ω\", \"^\"], \"′′′\"]}]}], \n",
       "\n",
       " \n",
       ">            \"-\", RowBox[{\"10\", \" \", SuperscriptBox[SubscriptBox[OverscriptBox[\"r\", \n",
       "\n",
       " \n",
       ">                 \"^\"], \"2\"], \"′′′\"], \" \", SuperscriptBox[OverscriptBox[\"ω\", \"^\"],\\\n",
       " \n",
       ">    \"′\"]}]\\\n",
       ", \"+\", RowBox[{\"120\", \" \", SuperscriptBox[OverscriptBox[\"ω\", \"^\"], \"2\"], \"\\\n",
       " \n",
       ">    \", \n",
       "           SuperscriptBox[SubscriptBox[OverscriptBox[\"r\", \"^\"], \"2\"], \"′\"], \"\\\n",
       " \n",
       ">    \", \n",
       "           SuperscriptBox[OverscriptBox[\"ω\", \"^\"], \"′\"]}], \"+\", \n",
       "\n",
       " \n",
       ">            RowBox[{\"60\", \" \", SubscriptBox[OverscriptBox[\"r\", \"^\"], \"2\"], \" \", \n",
       "\n",
       " \n",
       ">              OverscriptBox[\"ω\", \"^\"], \" \", \n",
       "           SuperscriptBox[RowBox[{\"(\", \n",
       "\n",
       " \n",
       ">                 SuperscriptBox[OverscriptBox[\"ω\", \"^\"], \"′\"], \")\"}], \"2\"]}], \"+\", \n",
       "\n",
       " \n",
       ">            RowBox[{\"40\", \" \", SuperscriptBox[OverscriptBox[\"ω\", \"^\"], \"3\"], \" \", \n",
       "\n",
       " \n",
       ">              SuperscriptBox[SubscriptBox[OverscriptBox[\"r\", \"^\"], \"2\"], \"′′\"]}], \"+\", \n",
       "\n",
       " \n",
       ">            RowBox[{\"40\", \" \", SubscriptBox[OverscriptBox[\"r\", \"^\"], \"2\"], \" \", \n",
       "\n",
       " \n",
       ">              SuperscriptBox[OverscriptBox[\"ω\", \"^\"], \"2\"], \" \", \n",
       "\n",
       " \n",
       ">              SuperscriptBox[OverscriptBox[\"ω\", \"^\"], \"′′\"]}], \"-\", \n",
       "\n",
       " \n",
       ">            RowBox[{\"10\", \" \", SuperscriptBox[SubscriptBox[OverscriptBox[\"r\", \"^\"], \n",
       "\n",
       " \n",
       ">                \"2\"], \"′′\"], \" \", SuperscriptBox[OverscriptBox[\"ω\", \"^\"], \"′′\"]}], \"-\",\\\n",
       " \n",
       ">    \n",
       "         RowBox[{\"5\", \" \", OverscriptBox[\"ω\", \"^\"], \" \", \n",
       "\n",
       " \n",
       ">              SuperscriptBox[SubscriptBox[OverscriptBox[\"r\", \"^\"], \"2\"], \"′′′′\"]}],\\\n",
       " \n",
       ">    \"-\", \n",
       "         RowBox[{SubscriptBox[OverscriptBox[\"r\", \"^\"], \"2\"], \" \", \n",
       "\n",
       " \n",
       ">              SuperscriptBox[OverscriptBox[\"ω\", \"^\"], \"′′′′\"]}], \"-\", \n",
       "\n",
       " \n",
       ">            RowBox[{RowBox[{\"16\"}], \" \", SubscriptBox[OverscriptBox[\"r\", \"^\"], \"2\"], \n",
       "\n",
       " \n",
       ">              \" \", SuperscriptBox[OverscriptBox[\"ω\", \"^\"], \"5\"]}]}], \")\"}]}], \n",
       "\n",
       " \n",
       ">      TraditionalForm]\n"
      ]
     },
     "execution_count": 231,
     "metadata": {
      "text/html": [],
      "text/plain": []
     },
     "output_type": "execute_result"
    }
   ],
   "source": [
    "fh1 = fh /. ToR2Replacement;\n",
    "fh5Symbolic = Simplify[D[fh1, {OverHat[t], 5}], Trig -> True];\n",
    "\n",
    "Fh5Replacement = Flatten[{\n",
    "  Outer[\n",
    "    Superscript[Subscript[OverHat[f], #1, #2], \"(5)\"] -> fh5Symbolic[[#1 /. {x -> 1, y -> 2}, #2 /. {x -> 1, y -> 2}]] &,\n",
    "    {x, y}, {x, y}\n",
    "  ],\n",
    "  ToR2Replacement,\n",
    "  OmegaReplace\n",
    "}];\n",
    "\n",
    "dJdtTemp = RHSEnegryLagrange[[2]] //. Fh5Replacement;\n",
    "dJdt = Subscript[OverHat[r],2][OverHat[t]]*Expand[Simplify[dJdtTemp/Subscript[\\[Epsilon], G], Trig -> True]/Subscript[OverHat[r],2][OverHat[t]]];\n",
    "dJdt // TraditionalForm"
   ]
  },
  {
   "cell_type": "markdown",
   "metadata": {},
   "source": [
    "<span style=\"color:brown\">**NB:**</span> В файле Binary.pdf выводится <span style=\"color:green\">**точно такое же**</span> выражение"
   ]
  },
  {
   "cell_type": "markdown",
   "metadata": {},
   "source": [
    "$$\n",
    "I_J = I_1 = \\hat{r}_2 \\left[ 120\\hat{r}_2^{(1)}\\hat{\\omega}^2\\hat{\\omega}^{(1)} - 5\\hat{r}_2^{(1)}\\hat{\\omega}^{(3)} - 16\\hat{r}_2\\hat{\\omega}^5 - 10\\hat{r}_2^{(2)}\\hat{\\omega}^{(2)} + 60\\hat{r}_2\\hat{\\omega}(\\hat{\\omega}^{(1)})^2\n",
    "- 10\\hat{r}_2^{(3)}\\hat{\\omega}^{(1)} + 40\\hat{r}_2^{(2)}\\hat{\\omega}^3 - 5\\hat{r}_2^{(4)}\\hat{\\omega} - \\hat{r}_2\\hat{\\omega}^{(4)} + 40\\hat{r}_2\\hat{\\omega}^2\\hat{\\omega}^{(2)} \\right]\n",
    "$$"
   ]
  },
  {
   "cell_type": "code",
   "execution_count": 233,
   "metadata": {
    "vscode": {
     "languageId": "wolfram"
    }
   },
   "outputs": [
    {
     "data": {
      "text/html": [
       "<div><pre style=\"&#102;&#111;&#110;&#116;&#45;&#102;&#97;&#109;&#105;&#108;&#121;&#58;&#32;&#34;&#67;&#111;&#117;&#114;&#105;&#101;&#114;&#32;&#78;&#101;&#119;&#34;&#44;&#67;&#111;&#117;&#114;&#105;&#101;&#114;&#44;&#109;&#111;&#110;&#111;&#115;&#112;&#97;&#99;&#101;&#59;\">&#48;</pre></div>"
      ],
      "text/plain": [
       "0"
      ]
     },
     "execution_count": 233,
     "metadata": {
      "text/html": [],
      "text/plain": []
     },
     "output_type": "execute_result"
    }
   ],
   "source": [
    "I1 = Subscript[OverHat[r], 2][OverHat[t]] * (\n",
    "    120 * Derivative[1][Subscript[OverHat[r], 2]][OverHat[t]] *\n",
    "    OverHat[\\[Omega]][OverHat[t]]^2 * Derivative[1][OverHat[\\[Omega]]][OverHat[t]]\n",
    "    - 5 * Derivative[1][Subscript[OverHat[r], 2]][OverHat[t]] *\n",
    "    Derivative[3][OverHat[\\[Omega]]][OverHat[t]]\n",
    "    - 16 * Subscript[OverHat[r], 2][OverHat[t]] *\n",
    "    OverHat[\\[Omega]][OverHat[t]]^5\n",
    "    - 10 * Derivative[2][Subscript[OverHat[r], 2]][OverHat[t]] *\n",
    "    Derivative[2][OverHat[\\[Omega]]][OverHat[t]]\n",
    "    + 60 * Subscript[OverHat[r], 2][OverHat[t]] *\n",
    "    OverHat[\\[Omega]][OverHat[t]] * Derivative[1][OverHat[\\[Omega]]][OverHat[t]]^2\n",
    "    - 10 * Derivative[3][Subscript[OverHat[r], 2]][OverHat[t]] *\n",
    "    Derivative[1][OverHat[\\[Omega]]][OverHat[t]]\n",
    "    + 40 * Derivative[2][Subscript[OverHat[r], 2]][OverHat[t]] *\n",
    "    OverHat[\\[Omega]][OverHat[t]]^3\n",
    "    - 5 * Derivative[4][Subscript[OverHat[r], 2]][OverHat[t]] *\n",
    "    OverHat[\\[Omega]][OverHat[t]]\n",
    "    - Subscript[OverHat[r], 2][OverHat[t]] *\n",
    "    Derivative[4][OverHat[\\[Omega]]][OverHat[t]]\n",
    "    + 40 * Subscript[OverHat[r], 2][OverHat[t]] *\n",
    "    OverHat[\\[Omega]][OverHat[t]]^2 * Derivative[2][OverHat[\\[Omega]]][OverHat[t]]\n",
    ");\n",
    "dJdt - I1"
   ]
  },
  {
   "cell_type": "markdown",
   "metadata": {},
   "source": [
    "# RHS уравнения (dE/dt)\n",
    "\n",
    "Подставим в (dE/dt) значения $\\hat{f}_{i,j}^{(5)}$:"
   ]
  },
  {
   "cell_type": "code",
   "execution_count": 236,
   "metadata": {
    "vscode": {
     "languageId": "wolfram"
    }
   },
   "outputs": [
    {
     "data": {
      "text/html": [
       "<div><img alt=\"Output\" src=\"data:image/png;base64,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\"></div>"
      ],
      "text/plain": [
       "FormBox[RowBox[{FractionBox[\"1\", \"3\"], \" \", \n",
       "\n",
       " \n",
       ">        RowBox[{\"(\", RowBox[{RowBox[{OverscriptBox[\"ω\", \"^\"], \" \", \n",
       "\n",
       " \n",
       ">              RowBox[{\"(\", RowBox[{RowBox[{\"-\", \n",
       "\n",
       " \n",
       ">                    RowBox[{\"3\", \" \", SubscriptBox[OverscriptBox[\"r\", \"^\"], \"2\"], \n",
       "\n",
       " \n",
       ">                      \" \", RowBox[{\"(\", \n",
       "\n",
       " \n",
       ">                        RowBox[{RowBox[{\"10\", \" \", \n",
       "\n",
       " \n",
       ">                            SuperscriptBox[SubscriptBox[OverscriptBox[\"r\", \"^\"], \n",
       "\n",
       " \n",
       ">                              \"2\"], \"′′′\"], \" \", \n",
       "\n",
       " \n",
       ">                            SuperscriptBox[OverscriptBox[\"ω\", \"^\"], \"′\"]}], \"+\", \n",
       "\n",
       " \n",
       ">                          RowBox[{\"10\", \" \", \n",
       "\n",
       " \n",
       ">                            SuperscriptBox[SubscriptBox[OverscriptBox[\"r\", \"^\"], \n",
       "\n",
       " \n",
       ">                              \"2\"], \"′′\"], \" \", \n",
       "\n",
       " \n",
       ">                            SuperscriptBox[OverscriptBox[\"ω\", \"^\"], \"′′\"]}], \"+\", \n",
       "\n",
       " \n",
       ">                          RowBox[{SubscriptBox[OverscriptBox[\"r\", \"^\"], \"2\"], \" \", \n",
       "\n",
       " \n",
       ">                            SuperscriptBox[OverscriptBox[\"ω\", \"^\"], \"′′′′\"]}]}], \")\"}]\\\n",
       "\n",
       " \n",
       ">   }]}], \"+\", RowBox[{\"60\", \" \", SuperscriptBox[RowBox[{\"(\", \n",
       "\n",
       " \n",
       ">                       SuperscriptBox[SubscriptBox[OverscriptBox[\"r\", \"^\"], \"2\"], \n",
       "\n",
       " \n",
       ">                        \"′\"], \")\"}], \"2\"], \" \", \n",
       "\n",
       " \n",
       ">                    SuperscriptBox[OverscriptBox[\"ω\", \"^\"], \"′′\"]}], \"+\", \n",
       "\n",
       " \n",
       ">                  RowBox[{\"90\", \" \", \n",
       "\n",
       " \n",
       ">                    SuperscriptBox[SubscriptBox[OverscriptBox[\"r\", \"^\"], \"2\"], \"′\"], \n",
       "\n",
       " \n",
       ">                    \" \", SuperscriptBox[SubscriptBox[OverscriptBox[\"r\", \"^\"], \"2\"], \n",
       "\n",
       " \n",
       ">                     \"′′\"], \" \", SuperscriptBox[OverscriptBox[\"ω\", \"^\"], \"′\"]}]}],\\\n",
       " \n",
       ">    \")\"}]\\\n",
       "}], \"+\", RowBox[{SuperscriptBox[SubscriptBox[OverscriptBox[\"r\", \"^\"], \"2\"],\\\n",
       " \n",
       ">    \"′\"], \n",
       "           \" \", RowBox[{\"(\", RowBox[{RowBox[{\"30\", \" \", \n",
       "\n",
       " \n",
       ">                    SubscriptBox[OverscriptBox[\"r\", \"^\"], \"2\"], \" \", \n",
       "\n",
       " \n",
       ">                    SuperscriptBox[OverscriptBox[\"ω\", \"^\"], \"′\"], \" \", \n",
       "\n",
       " \n",
       ">                    SuperscriptBox[OverscriptBox[\"ω\", \"^\"], \"′′\"]}], \"+\", \n",
       "\n",
       " \n",
       ">                  RowBox[{\"45\", \" \", \n",
       "\n",
       " \n",
       ">                    SuperscriptBox[SubscriptBox[OverscriptBox[\"r\", \"^\"], \"2\"], \"′\"], \n",
       "\n",
       " \n",
       ">                    \" \", SuperscriptBox[RowBox[{\"(\", \n",
       "\n",
       " \n",
       ">                       SuperscriptBox[OverscriptBox[\"ω\", \"^\"], \"′\"], \")\"}], \"2\"]}], \n",
       "\n",
       " \n",
       ">                  \"-\", SuperscriptBox[SubscriptBox[OverscriptBox[\"r\", \"^\"], \"2\"], \n",
       "\n",
       " \n",
       ">                   \"′′′′′\"]}], \")\"}]}], \"-\", \n",
       "\n",
       " \n",
       ">            RowBox[{\"60\", \" \", SuperscriptBox[OverscriptBox[\"ω\", \"^\"], \"4\"], \" \", \n",
       "\n",
       " \n",
       ">              RowBox[{\"(\", RowBox[{SuperscriptBox[RowBox[{\"(\", \n",
       "\n",
       " \n",
       ">                     SuperscriptBox[SubscriptBox[OverscriptBox[\"r\", \"^\"], \"2\"], \n",
       "\n",
       " \n",
       ">                      \"′\"], \")\"}], \"2\"], \"-\", \n",
       "\n",
       " \n",
       ">                  RowBox[{\"2\", \" \", SubscriptBox[OverscriptBox[\"r\", \"^\"], \"2\"], \" \", \n",
       "\n",
       " \n",
       ">                    SuperscriptBox[SubscriptBox[OverscriptBox[\"r\", \"^\"], \"2\"],\\\n",
       " \n",
       ">    \"′′\"]}]}\\\n",
       "], \")\"}]}], \"+\", RowBox[{\"120\", \" \", SubscriptBox[OverscriptBox[\"r\",\\\n",
       " \n",
       ">    \"^\"], \"2\"], \n",
       "           \" \", SuperscriptBox[OverscriptBox[\"ω\", \"^\"], \"3\"], \" \", \n",
       "\n",
       " \n",
       ">              RowBox[{\"(\", RowBox[{RowBox[{\"2\", \" \", \n",
       "\n",
       " \n",
       ">                    SuperscriptBox[SubscriptBox[OverscriptBox[\"r\", \"^\"], \"2\"], \"′\"], \n",
       "\n",
       " \n",
       ">                    \" \", SuperscriptBox[OverscriptBox[\"ω\", \"^\"], \"′\"]}], \"+\", \n",
       "\n",
       " \n",
       ">                  RowBox[{SubscriptBox[OverscriptBox[\"r\", \"^\"], \"2\"], \" \", \n",
       "\n",
       " \n",
       ">                    SuperscriptBox[OverscriptBox[\"ω\", \"^\"], \"′′\"]}]}], \")\"}]}], \"+\", \n",
       "\n",
       " \n",
       ">            RowBox[{\"15\", \" \", SuperscriptBox[OverscriptBox[\"ω\", \"^\"], \"2\"], \" \", \n",
       "\n",
       " \n",
       ">              RowBox[{\"(\", RowBox[{RowBox[{\"12\", \" \", \n",
       "\n",
       " \n",
       ">                    SubsuperscriptBox[OverscriptBox[\"r\", \"^\"], \"2\", \"2\"], \" \", \n",
       "\n",
       " \n",
       ">                    SuperscriptBox[RowBox[{\"(\", \n",
       "\n",
       " \n",
       ">                       SuperscriptBox[OverscriptBox[\"ω\", \"^\"], \"′\"], \")\"}], \"2\"]}], \n",
       "\n",
       " \n",
       ">                  \"+\", RowBox[{\"2\", \" \", \n",
       "\n",
       " \n",
       ">                    SuperscriptBox[SubscriptBox[OverscriptBox[\"r\", \"^\"], \"2\"], \"′\"], \n",
       "\n",
       " \n",
       ">                    \" \", SuperscriptBox[SubscriptBox[OverscriptBox[\"r\", \"^\"], \"2\"], \n",
       "\n",
       " \n",
       ">                     \"′′′\"]}], \"-\", RowBox[{SubscriptBox[OverscriptBox[\"r\", \"^\"], \n",
       "\n",
       " \n",
       ">                     \"2\"], \" \", SuperscriptBox[SubscriptBox[OverscriptBox[\"r\", \"^\"], \n",
       "\n",
       " \n",
       ">                      \"2\"], \"′′′′\"]}]}], \")\"}]}], \"-\", \n",
       "\n",
       " \n",
       ">            RowBox[{RowBox[{\"48\"}], \" \", \n",
       "\n",
       " \n",
       ">              SubsuperscriptBox[OverscriptBox[\"r\", \"^\"], \"2\", \"2\"], \" \", \n",
       "\n",
       " \n",
       ">              SuperscriptBox[OverscriptBox[\"ω\", \"^\"], \"6\"]}]}], \")\"}]}],\\\n",
       " \n",
       ">    TraditionalForm]\n"
      ]
     },
     "execution_count": 236,
     "metadata": {
      "text/html": [],
      "text/plain": []
     },
     "output_type": "execute_result"
    }
   ],
   "source": [
    "dEdtTemp = RHSEnegryLagrange[[1]] //. Fh5Replacement;\n",
    "dEdt = Simplify[dEdtTemp/Subscript[\\[Epsilon], G], Trig -> True];\n",
    "dEdt // TraditionalForm"
   ]
  },
  {
   "cell_type": "markdown",
   "metadata": {},
   "source": [
    "<span style=\"color:brown\">**NB:**</span> В файлах Binary.pdf и binary_catch1.pdf выводится <span style=\"color:green\">**точно такие же**</span> выражения для правой части (dE/dt),\n",
    "а именно $I_E = I_1\\hat{\\omega} + I_2\\frac{\\dot{r}}{r}$, где\n",
    "$$\n",
    "I_2 = 2\\hat{r}_2 \\left[ -40\\hat{r}_2\\hat{\\omega}^3\\hat{\\omega}^{(1)} - 20\\hat{\\omega}^4\\hat{r}_2^{(1)} + 5\\hat{r}_2\\hat{\\omega}\\hat{\\omega}^{(3)} + 10\\hat{r}_2\\hat{\\omega}^{(1)}\\hat{\\omega}^{(2)} + 10\\hat{\\omega}^2\\hat{r}_2^{(3)} + 30\\hat{\\omega}\\hat{\\omega}^{(1)}\\hat{r}_2^{(2)} + 20\\hat{\\omega}\\hat{\\omega}^{(2)}\\hat{r}_2^{(1)} + 15\\hat{r}_2^{(1)}(\\hat{\\omega}^{(1)})^2 - \\frac{1}{3}\\hat{r}_2^{(5)} \\right]\n",
    "$$"
   ]
  },
  {
   "cell_type": "code",
   "execution_count": 238,
   "metadata": {
    "vscode": {
     "languageId": "wolfram"
    }
   },
   "outputs": [
    {
     "data": {
      "text/html": [
       "<div><pre style=\"&#102;&#111;&#110;&#116;&#45;&#102;&#97;&#109;&#105;&#108;&#121;&#58;&#32;&#34;&#67;&#111;&#117;&#114;&#105;&#101;&#114;&#32;&#78;&#101;&#119;&#34;&#44;&#67;&#111;&#117;&#114;&#105;&#101;&#114;&#44;&#109;&#111;&#110;&#111;&#115;&#112;&#97;&#99;&#101;&#59;\">&#48;</pre></div>"
      ],
      "text/plain": [
       "0"
      ]
     },
     "execution_count": 238,
     "metadata": {
      "text/html": [],
      "text/plain": []
     },
     "output_type": "execute_result"
    }
   ],
   "source": [
    "I2 = 2 * Subscript[OverHat[r], 2][OverHat[t]] * (\n",
    "    -40 * Subscript[OverHat[r], 2][OverHat[t]] *\n",
    "    OverHat[\\[Omega]][OverHat[t]]^3 * Derivative[1][OverHat[\\[Omega]]][OverHat[t]]\n",
    "    - 20 * OverHat[\\[Omega]][OverHat[t]]^4 *\n",
    "    Derivative[1][Subscript[OverHat[r], 2]][OverHat[t]]\n",
    "    + 5 * Subscript[OverHat[r], 2][OverHat[t]] *\n",
    "    OverHat[\\[Omega]][OverHat[t]] * Derivative[3][OverHat[\\[Omega]]][OverHat[t]]\n",
    "    + 10 * Subscript[OverHat[r], 2][OverHat[t]] *\n",
    "    Derivative[1][OverHat[\\[Omega]]][OverHat[t]] *\n",
    "    Derivative[2][OverHat[\\[Omega]]][OverHat[t]]\n",
    "    + 10 * OverHat[\\[Omega]][OverHat[t]]^2 *\n",
    "    Derivative[3][Subscript[OverHat[r], 2]][OverHat[t]]\n",
    "    + 30 * OverHat[\\[Omega]][OverHat[t]] *\n",
    "    Derivative[1][OverHat[\\[Omega]]][OverHat[t]] *\n",
    "    Derivative[2][Subscript[OverHat[r], 2]][OverHat[t]]\n",
    "    + 20 * OverHat[\\[Omega]][OverHat[t]] *\n",
    "    Derivative[2][OverHat[\\[Omega]]][OverHat[t]] *\n",
    "    Derivative[1][Subscript[OverHat[r], 2]][OverHat[t]]\n",
    "    + 15 * Derivative[1][Subscript[OverHat[r], 2]][OverHat[t]] *\n",
    "    Derivative[1][OverHat[\\[Omega]]][OverHat[t]]^2\n",
    "    - (1/3) * Derivative[5][Subscript[OverHat[r], 2]][OverHat[t]]\n",
    ");\n",
    "Simplify[(I2*D[OverHat[r][OverHat[t]], OverHat[t]]/OverHat[r][OverHat[t]] + I1*OverHat[\\[Omega]][OverHat[t]] /. ToR2Replacement) - dEdt]"
   ]
  },
  {
   "cell_type": "markdown",
   "metadata": {},
   "source": [
    "# Итоговые $I_J$, $I_E$\n",
    "\n",
    "$$\n",
    "\\begin{align}\n",
    "\\tag{IJ}\\\n",
    "I_J &= \\hat{r}_2 \\left[ 120\\hat{r}_2^{(1)}\\hat{\\omega}^2\\hat{\\omega}^{(1)} - 5\\hat{r}_2^{(1)}\\hat{\\omega}^{(3)} - 16\\hat{r}_2\\hat{\\omega}^5 - 10\\hat{r}_2^{(2)}\\hat{\\omega}^{(2)} + 60\\hat{r}_2\\hat{\\omega}(\\hat{\\omega}^{(1)})^2\n",
    "- 10\\hat{r}_2^{(3)}\\hat{\\omega}^{(1)} + 40\\hat{r}_2^{(2)}\\hat{\\omega}^3 - 5\\hat{r}_2^{(4)}\\hat{\\omega} - \\hat{r}_2\\hat{\\omega}^{(4)} + 40\\hat{r}_2\\hat{\\omega}^2\\hat{\\omega}^{(2)} \\right]\n",
    "\\\\\n",
    "\\tag{IE}\n",
    "I_E &= I_J\\hat{\\omega} + \\hat{r}_2^{(1)} \\left[ -40\\hat{r}_2\\hat{\\omega}^3\\hat{\\omega}^{(1)} - 20\\hat{\\omega}^4\\hat{r}_2^{(1)} + 5\\hat{r}_2\\hat{\\omega}\\hat{\\omega}^{(3)} + 10\\hat{r}_2\\hat{\\omega}^{(1)}\\hat{\\omega}^{(2)} + 10\\hat{\\omega}^2\\hat{r}_2^{(3)} + 30\\hat{\\omega}\\hat{\\omega}^{(1)}\\hat{r}_2^{(2)} + 20\\hat{\\omega}\\hat{\\omega}^{(2)}\\hat{r}_2^{(1)} + 15\\hat{r}_2^{(1)}(\\hat{\\omega}^{(1)})^2 - \\frac{1}{3}\\hat{r}_2^{(5)} \\right]\n",
    "\\end{align}\n",
    "$$"
   ]
  },
  {
   "cell_type": "markdown",
   "metadata": {
    "vscode": {
     "languageId": "wolfram"
    }
   },
   "source": [
    "# Потеря энергии за один период обращения"
   ]
  },
  {
   "cell_type": "markdown",
   "metadata": {},
   "source": [
    "Энергию гравитационного излучени невозможно локализовать в области меньше длины одной волны.\n",
    "\n",
    "Поэтому мгновенные изменения энергии и момента не имеют физического смысла.\n",
    "\n",
    "Однако, если мы просуммируем энергию и момент по полному периоду обращения, то с такими величинами можно работать.\n",
    "\n",
    "Рассчитаем в **нулевом приближении**, сколько энергии уносится из системы\n",
    "\n",
    "гравитационными волнами за один полный оборот, интегрируя по ньютоновской гиперболической траектории\n",
    "\n",
    "начиная с момента, когда тело \"бесконечно\" далеко, до момента минимального сближения и обратно:\n",
    "$$\n",
    "\\Delta \\hat{E} = 2 \\epsilon_G \\int\\limits_{\\hat{t}_{\\text{min}}}^{\\infty}I_E(\\hat{t}) d \\hat{t}.\n",
    "$$"
   ]
  },
  {
   "cell_type": "markdown",
   "metadata": {},
   "source": [
    "В приближении Ньютона $I_J$ и $I_E$ равны нулю.\n",
    "Тогда и момент импульса и энергия сохраняются.\n",
    "\n",
    "$\\hat{J} = |\\vec{\\hat{r}} \\times \\vec{\\hat{v}}| = |\\vec{\\hat{r}}_\\infty \\times \\vec{\\hat{v}}_\\infty| = \\hat{r}\\hat{v}_\\infty \\sin(\\phi)$\n",
    "\n",
    "Так как $\\phi = \\pi/2$ на бесконечности, то $\\hat{J} = b\\hat{v}_\\infty = u$,\n",
    "то $u$ - безразмерная скорость на бесконечности.\n",
    "\n",
    "Отсюда следует, что $\\hat{\\omega} = \\frac{u}{\\hat{r}_2}$"
   ]
  },
  {
   "cell_type": "code",
   "execution_count": 239,
   "metadata": {
    "vscode": {
     "languageId": "wolfram"
    }
   },
   "outputs": [],
   "source": [
    "OmegaReplace2 = {\n",
    "   OverHat[\\[Omega]][OverHat[t]] -> u/Subscript[OverHat[r], 2][OverHat[t]],\n",
    "   Derivative[n_][OverHat[\\[Omega]]][OverHat[t]] :> u D[1/Subscript[OverHat[r], 2][OverHat[t]], {OverHat[t], n}]\n",
    "};"
   ]
  },
  {
   "cell_type": "markdown",
   "metadata": {},
   "source": [
    "Заменим переменные\n",
    "$$\n",
    "\\Delta \\hat{E} = - 2 \\epsilon_G \\int\\limits_{\\hat{r}_2^{\\text{min}}}^{\\infty}\\frac{I_E(\\hat{r}_2)}{\\hat{r}_2^{(1)}}d \\hat{r}_2,\n",
    "$$"
   ]
  },
  {
   "cell_type": "markdown",
   "metadata": {},
   "source": [
    "Здесь $\\hat{r}_2^{\\text{min}}$ - квадрат минимального расстояния между объектами:"
   ]
  },
  {
   "cell_type": "code",
   "execution_count": 241,
   "metadata": {
    "vscode": {
     "languageId": "wolfram"
    }
   },
   "outputs": [
    {
     "data": {
      "text/html": [
       "<div><img alt=\"Output\" src=\"data:image/png;base64,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\"></div>"
      ],
      "text/plain": [
       "FormBox[FractionBox[RowBox[{SuperscriptBox[\"u\", \"4\"], \"-\", \n",
       "\n",
       " \n",
       ">         RowBox[{\"2\", \" \", SqrtBox[RowBox[{SuperscriptBox[\"u\", \"4\"], \"+\", \"1\"}]]}],\\\n",
       " \n",
       ">    \"+\", \n",
       "      \"2\"}], SuperscriptBox[\"u\", \"4\"]], TraditionalForm]\n"
      ]
     },
     "execution_count": 241,
     "metadata": {
      "text/html": [],
      "text/plain": []
     },
     "output_type": "execute_result"
    }
   ],
   "source": [
    "rMin2[u_] := (2 + u^4 - 2 Sqrt[1 + u^4])/u^4;\n",
    "rMin2[u] // TraditionalForm"
   ]
  },
  {
   "cell_type": "code",
   "execution_count": 244,
   "metadata": {
    "vscode": {
     "languageId": "wolfram"
    }
   },
   "outputs": [
    {
     "data": {
      "text/html": [
       "<div><img alt=\"Output\" src=\"data:image/png;base64,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\"></div>"
      ],
      "text/plain": [
       "FormBox[RowBox[{FractionBox[RowBox[{\"16\", \" \", SuperscriptBox[\"u\", \"6\"]}], \n",
       "\n",
       " \n",
       ">         RowBox[{SubsuperscriptBox[OverscriptBox[\"r\", \"^\"], \"2\", \"4\"], \" \", \n",
       "\n",
       " \n",
       ">           SuperscriptBox[SubscriptBox[OverscriptBox[\"r\", \"^\"], \"2\"], \"′\"]}]], \"-\", \n",
       "\n",
       " \n",
       ">        FractionBox[RowBox[{\"40\", \" \", SuperscriptBox[\"u\", \"4\"], \" \", \n",
       "\n",
       " \n",
       ">           SuperscriptBox[SubscriptBox[OverscriptBox[\"r\", \"^\"], \"2\"], \"′\"]}], \n",
       "\n",
       " \n",
       ">         SubsuperscriptBox[OverscriptBox[\"r\", \"^\"], \"2\", \"4\"]], \"-\", \n",
       "\n",
       " \n",
       ">        FractionBox[RowBox[{\"4\", \" \", SuperscriptBox[\"u\", \"2\"], \" \", \n",
       "\n",
       " \n",
       ">           SuperscriptBox[RowBox[{\"(\", \n",
       "\n",
       " \n",
       ">              SuperscriptBox[SubscriptBox[OverscriptBox[\"r\", \"^\"], \"2\"], \"′′\"], \")\"}], \n",
       "\n",
       " \n",
       ">            \"2\"]}], RowBox[{SubsuperscriptBox[OverscriptBox[\"r\", \"^\"], \"2\", \"2\"], \" \", \n",
       "\n",
       " \n",
       ">           SuperscriptBox[SubscriptBox[OverscriptBox[\"r\", \"^\"], \"2\"], \"′\"]}]], \"+\", \n",
       "\n",
       " \n",
       ">        FractionBox[RowBox[{\"24\", \" \", SuperscriptBox[\"u\", \"2\"], \" \", \n",
       "\n",
       " \n",
       ">           SuperscriptBox[SubscriptBox[OverscriptBox[\"r\", \"^\"], \"2\"], \"′\"], \" \", \n",
       "\n",
       " \n",
       ">           SuperscriptBox[SubscriptBox[OverscriptBox[\"r\", \"^\"], \"2\"], \"′′\"]}], \n",
       "\n",
       " \n",
       ">         SubsuperscriptBox[OverscriptBox[\"r\", \"^\"], \"2\", \"3\"]], \"+\", \n",
       "\n",
       " \n",
       ">        FractionBox[RowBox[{\"4\", \" \", SuperscriptBox[\"u\", \"2\"], \" \", \n",
       "\n",
       " \n",
       ">           SuperscriptBox[SubscriptBox[OverscriptBox[\"r\", \"^\"], \"2\"], \"′′′′\"]}], \n",
       "\n",
       " \n",
       ">         RowBox[{SubscriptBox[OverscriptBox[\"r\", \"^\"], \"2\"], \" \", \n",
       "\n",
       " \n",
       ">           SuperscriptBox[SubscriptBox[OverscriptBox[\"r\", \"^\"], \"2\"], \"′\"]}]], \"-\", \n",
       "\n",
       " \n",
       ">        FractionBox[RowBox[{\"11\", \" \", SuperscriptBox[\"u\", \"2\"], \" \", \n",
       "\n",
       " \n",
       ">           SuperscriptBox[RowBox[{\"(\", \n",
       "\n",
       " \n",
       ">              SuperscriptBox[SubscriptBox[OverscriptBox[\"r\", \"^\"], \"2\"], \"′\"], \")\"}], \n",
       "\n",
       " \n",
       ">            \"3\"]}], SubsuperscriptBox[OverscriptBox[\"r\", \"^\"], \"2\", \"4\"]], \"-\", \n",
       "\n",
       " \n",
       ">        FractionBox[RowBox[{\"12\", \" \", SuperscriptBox[\"u\", \"2\"], \" \", \n",
       "\n",
       " \n",
       ">           SuperscriptBox[SubscriptBox[OverscriptBox[\"r\", \"^\"], \"2\"], \"′′′\"]}], \n",
       "\n",
       " \n",
       ">         SubsuperscriptBox[OverscriptBox[\"r\", \"^\"], \"2\", \"2\"]], \"+\", \n",
       "\n",
       " \n",
       ">        FractionBox[SuperscriptBox[SubscriptBox[OverscriptBox[\"r\", \"^\"], \"2\"],\\\n",
       " \n",
       ">    \"′′′′′\"], \n",
       "      \"3\"]}], TraditionalForm]\n"
      ]
     },
     "execution_count": 244,
     "metadata": {
      "text/html": [],
      "text/plain": []
     },
     "output_type": "execute_result"
    }
   ],
   "source": [
    "(* Минус учтём сразу *)\n",
    "dEdr = Simplify[-dEdt/D[Subscript[OverHat[r], 2][OverHat[t]], OverHat[t]] //. OmegaReplace2];\n",
    "Expand[Simplify[dEdr]] // TraditionalForm"
   ]
  },
  {
   "cell_type": "markdown",
   "metadata": {},
   "source": [
    "<span style=\"color:brown\">**NB:**</span> Выражение для $dE/dr$ <span style=\"color:green\">**сопадает**</span> с выраженем для интегранта из binary_catch1.pdf, если учесть деление на $\\hat{r}_2^{(1)}$"
   ]
  },
  {
   "cell_type": "markdown",
   "metadata": {},
   "source": [
    "Из сохранения энергии следует, что\n",
    "$\\hat{E} = \\hat{E}_\\infty = \\frac{u^2}{2} = \\left(\\frac{(\\hat{r}^{(1)})^2}{2} + \\frac{\\hat{r}^2 \\hat{\\omega}^2}{2} - \\frac{1}{\\hat{r}}\\right)$\n",
    "\n",
    "Тогда можно найти $\\hat{r}_2^{(1)}$:"
   ]
  },
  {
   "cell_type": "code",
   "execution_count": 247,
   "metadata": {
    "vscode": {
     "languageId": "wolfram"
    }
   },
   "outputs": [
    {
     "data": {
      "text/html": [
       "<div><img alt=\"Output\" src=\"data:image/png;base64,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\"></div>"
      ],
      "text/plain": [
       "FormBox[RowBox[{RowBox[{\"-\", \"2\"}], \" \", \n",
       "\n",
       " \n",
       ">        SqrtBox[RowBox[{RowBox[{SubscriptBox[OverscriptBox[\"r\", \"^\"], \"2\"], \" \", \n",
       "\n",
       " \n",
       ">             SuperscriptBox[\"u\", \"2\"]}], \"+\", \n",
       "\n",
       " \n",
       ">           RowBox[{\"2\", \" \", SqrtBox[SubscriptBox[OverscriptBox[\"r\", \"^\"], \"2\"]]}],\\\n",
       " \n",
       ">    \"-\", \n",
       "        SuperscriptBox[\"u\", \"2\"]}]]}], TraditionalForm]\n"
      ]
     },
     "execution_count": 247,
     "metadata": {
      "text/html": [],
      "text/plain": []
     },
     "output_type": "execute_result"
    }
   ],
   "source": [
    "eq = Energy - u^2/2 //. Flatten[{\n",
    "  ToR2Replacement,\n",
    "  OmegaReplace2,\n",
    "  D[Subscript[OverHat[r], 2][OverHat[t]], OverHat[t]]^2 -> x^2\n",
    "}];\n",
    "\n",
    "sol = Solve[eq == 0, x][[1]];\n",
    "\n",
    "x /. sol[[1]] // TraditionalForm"
   ]
  },
  {
   "cell_type": "markdown",
   "metadata": {},
   "source": [
    "А также $\\hat{r}_2^{(i)}$ для $i = 1\\dots5$"
   ]
  },
  {
   "cell_type": "code",
   "execution_count": 251,
   "metadata": {
    "vscode": {
     "languageId": "wolfram"
    }
   },
   "outputs": [
    {
     "data": {
      "text/html": [
       "<div><img alt=\"Output\" src=\"data:image/png;base64,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\"></div>"
      ],
      "text/plain": [
       "FormBox[RowBox[{\"{\", RowBox[{RowBox[{RowBox[{\"-\", \"2\"}], \" \", \n",
       "\n",
       " \n",
       ">            SqrtBox[RowBox[{RowBox[{SubscriptBox[OverscriptBox[\"r\", \"^\"], \"2\"], \" \", \n",
       "\n",
       " \n",
       ">                 SuperscriptBox[\"u\", \"2\"]}], \"+\", \n",
       "\n",
       " \n",
       ">               RowBox[{\"2\", \" \", SqrtBox[SubscriptBox[OverscriptBox[\"r\", \"^\"], \"2\"]]}],\\\n",
       " \n",
       ">    \n",
       "            \"-\", SuperscriptBox[\"u\", \"2\"]}]]}], \",\", \n",
       "\n",
       " \n",
       ">          RowBox[{\"2\", \" \", RowBox[{\"(\", \n",
       "           RowBox[{FractionBox[\"1\", \n",
       "\n",
       " \n",
       ">                 SqrtBox[SubscriptBox[OverscriptBox[\"r\", \"^\"], \"2\"]]], \"+\", \n",
       "\n",
       " \n",
       ">                SuperscriptBox[\"u\", \"2\"]}], \")\"}]}], \",\", \n",
       "\n",
       " \n",
       ">          FractionBox[RowBox[{\"2\", \" \", \n",
       "\n",
       " \n",
       ">             SqrtBox[RowBox[{RowBox[{SubscriptBox[OverscriptBox[\"r\", \"^\"], \"2\"], \" \", \n",
       "\n",
       " \n",
       ">                  SuperscriptBox[\"u\", \"2\"]}], \"+\", \n",
       "\n",
       " \n",
       ">                RowBox[{\"2\", \" \", SqrtBox[SubscriptBox[OverscriptBox[\"r\", \"^\"], \n",
       "\n",
       " \n",
       ">                    \"2\"]]}], \"-\", SuperscriptBox[\"u\", \"2\"]}]]}], \n",
       "\n",
       " \n",
       ">           SubsuperscriptBox[OverscriptBox[\"r\", \"^\"], \"2\", RowBox[{\"3\", \"/\", \"2\"}]]], \n",
       "\n",
       " \n",
       ">          \",\", FractionBox[RowBox[{\"2\", \" \", \n",
       "\n",
       " \n",
       ">             RowBox[{\"(\", RowBox[{RowBox[{\"2\", \" \", \n",
       "\n",
       " \n",
       ">                   SubscriptBox[OverscriptBox[\"r\", \"^\"], \"2\"], \" \", \n",
       "\n",
       " \n",
       ">                   SuperscriptBox[\"u\", \"2\"]}], \"+\", \n",
       "\n",
       " \n",
       ">                 RowBox[{\"5\", \" \", SqrtBox[SubscriptBox[OverscriptBox[\"r\", \"^\"], \n",
       "\n",
       " \n",
       ">                     \"2\"]]}], \"-\", RowBox[{\"3\", \" \", SuperscriptBox[\"u\", \"2\"]}]}],\\\n",
       " \n",
       ">    \")\"}\\\n",
       "]}], SubsuperscriptBox[OverscriptBox[\"r\", \"^\"], \"2\", RowBox[{\"5\", \"/\",\\\n",
       " \n",
       ">    \"2\"}]]], \",\", \n",
       "       FractionBox[RowBox[{\"2\", \" \", \n",
       "\n",
       " \n",
       ">             SqrtBox[RowBox[{RowBox[{SubscriptBox[OverscriptBox[\"r\", \"^\"], \"2\"], \" \", \n",
       "\n",
       " \n",
       ">                  SuperscriptBox[\"u\", \"2\"]}], \"+\", \n",
       "\n",
       " \n",
       ">                RowBox[{\"2\", \" \", SqrtBox[SubscriptBox[OverscriptBox[\"r\", \"^\"], \n",
       "\n",
       " \n",
       ">                    \"2\"]]}], \"-\", SuperscriptBox[\"u\", \"2\"]}]], \" \", \n",
       "\n",
       " \n",
       ">             RowBox[{\"(\", RowBox[{RowBox[{\"6\", \" \", \n",
       "\n",
       " \n",
       ">                   SubscriptBox[OverscriptBox[\"r\", \"^\"], \"2\"], \" \", \n",
       "\n",
       " \n",
       ">                   SuperscriptBox[\"u\", \"2\"]}], \"+\", \n",
       "\n",
       " \n",
       ">                 RowBox[{\"20\", \" \", SqrtBox[SubscriptBox[OverscriptBox[\"r\", \"^\"], \n",
       "\n",
       " \n",
       ">                     \"2\"]]}], \"-\", RowBox[{\"15\", \" \", SuperscriptBox[\"u\", \"2\"]}]}],\\\n",
       " \n",
       ">    \")\"}\\\n",
       "]}], SubsuperscriptBox[OverscriptBox[\"r\", \"^\"], \"2\", RowBox[{\"7\", \"/\",\\\n",
       " \n",
       ">    \"2\"}]]]}], \"}\"}]\\\n",
       ", TraditionalForm]\n"
      ]
     },
     "execution_count": 251,
     "metadata": {
      "text/html": [],
      "text/plain": []
     },
     "output_type": "execute_result"
    }
   ],
   "source": [
    "replacementRule = D[Subscript[OverHat[r], 2][OverHat[t]], OverHat[t]] :> x /. sol[[1]];\n",
    "\n",
    "(* Рекурсивно вычисляем производные *)\n",
    "dr2 = NestList[\n",
    "   Simplify[D[#, OverHat[t]] /. replacementRule] &,\n",
    "   x /. sol[[1]],\n",
    "   4\n",
    "];\n",
    "\n",
    "dr2 // TraditionalForm"
   ]
  },
  {
   "cell_type": "markdown",
   "metadata": {},
   "source": [
    "Заменяя вхождение **всех** производных в выражении для $dE/dr$, получим"
   ]
  },
  {
   "cell_type": "code",
   "execution_count": 253,
   "metadata": {
    "vscode": {
     "languageId": "wolfram"
    }
   },
   "outputs": [
    {
     "data": {
      "text/html": [
       "<div><img alt=\"Output\" src=\"data:image/png;base64,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\"></div>"
      ],
      "text/plain": [
       "FormBox[FractionBox[RowBox[{\"2\", \" \", \n",
       "      RowBox[{\"(\", RowBox[{RowBox[{\"6\", \" \", \n",
       "\n",
       " \n",
       ">               SubsuperscriptBox[OverscriptBox[\"r\", \"^\"], \"2\", \"2\"], \" \", \n",
       "\n",
       " \n",
       ">               SuperscriptBox[\"u\", \"4\"]}], \"+\", \n",
       "\n",
       " \n",
       ">             RowBox[{SubscriptBox[OverscriptBox[\"r\", \"^\"], \"2\"], \" \", \n",
       "\n",
       " \n",
       ">               RowBox[{\"(\", RowBox[{RowBox[{\"51\", \" \", SuperscriptBox[\"u\", \"4\"]}], \n",
       "\n",
       " \n",
       ">                   \"+\", \"40\"}], \")\"}]}], \"+\", \n",
       "\n",
       " \n",
       ">             RowBox[{\"32\", \" \", SubsuperscriptBox[OverscriptBox[\"r\", \"^\"], \"2\", \n",
       "\n",
       " \n",
       ">                RowBox[{\"3\", \"/\", \"2\"}]], \" \", SuperscriptBox[\"u\", \"2\"]}], \"+\", \n",
       "\n",
       " \n",
       ">             RowBox[{\"100\", \" \", SqrtBox[SubscriptBox[OverscriptBox[\"r\", \"^\"], \"2\"]], \n",
       "\n",
       " \n",
       ">               \" \", SuperscriptBox[\"u\", \"2\"]}], \"-\", \n",
       "\n",
       " \n",
       ">             RowBox[{\"75\", \" \", SuperscriptBox[\"u\", \"4\"]}]}], \")\"}]}], \n",
       "\n",
       " \n",
       ">       RowBox[{\"3\", \" \", SubsuperscriptBox[OverscriptBox[\"r\", \"^\"], \"2\", \n",
       "\n",
       " \n",
       ">          RowBox[{\"7\", \"/\", \"2\"}]], \" \", \n",
       "\n",
       " \n",
       ">         SqrtBox[RowBox[{RowBox[{SubscriptBox[OverscriptBox[\"r\", \"^\"], \"2\"], \" \", \n",
       "\n",
       " \n",
       ">              SuperscriptBox[\"u\", \"2\"]}], \"+\", \n",
       "\n",
       " \n",
       ">            RowBox[{\"2\", \" \", SqrtBox[SubscriptBox[OverscriptBox[\"r\", \"^\"], \"2\"]]}],\\\n",
       " \n",
       ">    \"-\", \n",
       "         SuperscriptBox[\"u\", \"2\"]}]]}]], TraditionalForm]\n"
      ]
     },
     "execution_count": 253,
     "metadata": {
      "text/html": [],
      "text/plain": []
     },
     "output_type": "execute_result"
    }
   ],
   "source": [
    "dEdrFinal = Fold[ (* Последовательно применяем замены *)\n",
    "  Simplify[#1 /.\n",
    "    D[Subscript[OverHat[r], 2][OverHat[t]], {OverHat[t], #2}] -> dr2[[#2]]] &,\n",
    "  dEdr,\n",
    "  Range[5]\n",
    "];\n",
    "\n",
    "Simplify[dEdrFinal, {u ∈ Reals, u > 0}] // TraditionalForm"
   ]
  },
  {
   "cell_type": "markdown",
   "metadata": {},
   "source": [
    "$$\n",
    "  \\Delta \\hat{E}(u) = \\epsilon_G \\frac{4}{3}\\int\\limits_{\\hat{r}_2^\\text{min}}^\\infty \\frac{32 \\hat{r}_2^{3/2} u^2+6 \\hat{r}_2^2 u^4+\\hat{r}_2 \\left(51 u^4+40\\right)+100 \\sqrt{\\hat{r}_2} u^2-75 u^4}{\\hat{r}_2^{7/2} \\sqrt{\\hat{r}_2 u^2+2 \\sqrt{\\hat{r}_2}-u^2}} \\, d\\hat{r}_2,\n",
    "$$\n",
    "где при $\\hat{r}_2 \\ge \\hat{r}_2^{\\text{min}}$ выражение $\\hat{r}_2u^2 + 2\\sqrt{\\hat{r}_2} - u^2 \\ge 0$."
   ]
  },
  {
   "cell_type": "markdown",
   "metadata": {},
   "source": [
    "Полученный выше интеграл **компактнее**, чем тот, что рассмотрен в файле binary_catch2.pdf\n",
    "$$\n",
    "  \\Delta \\hat{E}(u) = \\epsilon_G \\frac{4}{3}\\int\\limits_{\\hat{r}_2^\\text{min}}^\\infty \\frac{24\\hat{r}_2^2u^6 + 48u^6\\hat{r}_2 + 120\\hat{r}_2^{3/2}u^4 - 96u^6 + 96u^4\\sqrt{\\hat{r}_2} - u^2\\hat{r}_2^2 + 133u^2\\hat{r}_2 - 2\\hat{r}_2^{3/2}}{\\hat{r}_2^4\\sqrt{u^2\\hat{r}_2 + 2\\sqrt{\\hat{r}_2} - u^2}} \\, d\\hat{r}_2,\n",
    "$$"
   ]
  },
  {
   "cell_type": "markdown",
   "metadata": {},
   "source": [
    "<span style=\"color:brown\">**NB:**</span> Однако, будучи аналитически взятым будет полностью <span style=\"color:green\">**совпадать!**</span>\n",
    "\n",
    "Смотри подробности в файле binary_catch_integral.ipynb\n",
    " \n",
    "Там компактный интеграл назван $I_5$, а второй $I_4$.\n",
    "\n",
    "Выпишем ответ:"
   ]
  },
  {
   "cell_type": "code",
   "execution_count": 255,
   "metadata": {
    "vscode": {
     "languageId": "wolfram"
    }
   },
   "outputs": [
    {
     "data": {
      "text/html": [
       "<div><img alt=\"Output\" src=\"data:image/png;base64,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\"></div>"
      ],
      "text/plain": [
       "FormBox[RowBox[{\"-\", FractionBox[RowBox[{SubscriptBox[\"ϵ\", \"G\"], \" \", \n",
       "\n",
       " \n",
       ">           RowBox[{\"(\", RowBox[{RowBox[{RowBox[{\"(\", \n",
       "\n",
       " \n",
       ">                   RowBox[{RowBox[{\"673\", \" \", SuperscriptBox[\"u\", \"4\"]}], \"+\", \n",
       "\n",
       " \n",
       ">                     \"1275\"}], \")\"}], \" \", SuperscriptBox[\"u\", \"2\"]}], \"+\", \n",
       "\n",
       " \n",
       ">               RowBox[{\"3\", \" \", RowBox[{\"(\", \n",
       "\n",
       " \n",
       ">                   RowBox[{RowBox[{\"37\", \" \", SuperscriptBox[\"u\", \"8\"]}], \"+\", \n",
       "\n",
       " \n",
       ">                     RowBox[{\"366\", \" \", SuperscriptBox[\"u\", \"4\"]}], \"+\", \"425\"}],\\\n",
       " \n",
       ">    \")\"}\\\n",
       "], \" \", RowBox[{\"(\", RowBox[{RowBox[{SuperscriptBox[\"tan\", RowBox[{\"-\",\\\n",
       " \n",
       ">    \"1\"}]], \n",
       "                    \"(\", FractionBox[\"1\", SuperscriptBox[\"u\", \"2\"]],\\\n",
       " \n",
       ">    \")\"}], \"+\", \n",
       "                  FractionBox[\"π\", \"2\"]}], \")\"}]}]}], \")\"}]}], \n",
       "\n",
       " \n",
       ">         RowBox[{\"9\", \" \", SuperscriptBox[\"u\", \"7\"]}]]}], TraditionalForm]\n"
      ]
     },
     "execution_count": 255,
     "metadata": {
      "text/html": [],
      "text/plain": []
     },
     "output_type": "execute_result"
    }
   ],
   "source": [
    "DeltaE = -Subscript[\\[Epsilon], G]/9*(u^2*(1275 + 673*u^4) + 3*(425 + 366*u^4 + 37*u^8)*(Pi/2 + ArcTan[u^(-2)]))/u^7;\n",
    "DeltaE // TraditionalForm"
   ]
  },
  {
   "cell_type": "code",
   "execution_count": 256,
   "metadata": {
    "vscode": {
     "languageId": "wolfram"
    }
   },
   "outputs": [
    {
     "data": {
      "text/html": [
       "<div>&#36;&#36;&#45;&#92;&#102;&#114;&#97;&#99;&#123;&#92;&#101;&#112;&#115;&#105;&#108;&#111;&#110;&#32;&#95;&#71;&#32;&#92;&#108;&#101;&#102;&#116;&#40;&#92;&#108;&#101;&#102;&#116;&#40;&#54;&#55;&#51;&#32;&#117;&#94;&#52;&#43;&#49;&#50;&#55;&#53;&#92;&#114;&#105;&#103;&#104;&#116;&#41;&#32;&#117;&#94;&#50;&#43;&#51;&#32;&#92;&#108;&#101;&#102;&#116;&#40;&#51;&#55;&#32;&#117;&#94;&#56;&#43;&#51;&#54;&#54;&#32;&#117;&#94;&#52;&#43;&#52;&#50;&#53;&#92;&#114;&#105;&#103;&#104;&#116;&#41;&#32;&#92;&#108;&#101;&#102;&#116;&#40;&#92;&#116;&#97;&#110;&#32;&#94;&#123;&#45;&#49;&#125;&#92;&#108;&#101;&#102;&#116;&#40;&#92;&#102;&#114;&#97;&#99;&#123;&#49;&#125;&#123;&#117;&#94;&#50;&#125;&#92;&#114;&#105;&#103;&#104;&#116;&#41;&#43;&#92;&#102;&#114;&#97;&#99;&#123;&#92;&#112;&#105;&#32;&#125;&#123;&#50;&#125;&#92;&#114;&#105;&#103;&#104;&#116;&#41;&#92;&#114;&#105;&#103;&#104;&#116;&#41;&#125;&#123;&#57;&#32;&#117;&#94;&#55;&#125;&#36;&#36;</div>"
      ],
      "text/plain": [
       "-\\frac{\\epsilon _G \\left(\\left(673 u^4+1275\\right) u^2+3 \\left(37 u^8+366 u^4+425\\right)\\\n",
       " \n",
       ">   \\left(\\tan ^{-1}\\left(\\frac{1}{u^2}\\right)+\\frac{\\pi }{2}\\right)\\right)}{9 u^7}"
      ]
     },
     "execution_count": 256,
     "metadata": {
      "text/html": [],
      "text/plain": []
     },
     "output_type": "execute_result"
    }
   ],
   "source": [
    "TeXForm[DeltaE]"
   ]
  },
  {
   "cell_type": "markdown",
   "metadata": {},
   "source": [
    "## Условия захвата\n",
    "\n",
    "На бесконечнос энергия объекта была $u^2/2$\n",
    "\n",
    "Если $2|\\Delta \\hat{E}| > u^2$, то гиперболическая орбита (или параболическая, если $u = 0$) превратится в эллиптическую за один полный оборот,\n",
    "\n",
    "далее тело уже не сможет \"уходить\" на бесконечность.\n",
    "\n",
    "Из-за ограничения локализации точнее условие захвата поставить **нельзя**"
   ]
  },
  {
   "cell_type": "code",
   "execution_count": 259,
   "metadata": {
    "vscode": {
     "languageId": "wolfram"
    }
   },
   "outputs": [
    {
     "data": {
      "text/html": [
       "<div><img alt=\"Output\" src=\"data:image/png;base64,iVBORw0KGgoAAAANSUhEUgAAAhsAAAAqCAIAAACV/A7LAAAAzHpUWHRSYXcgcHJvZmlsZSB0eXBlIGV4aWYAAHjabU/bDQMhDPtnio4QkuDAOFyPk7pBx294tBVVLRE7Jg4itOfjCrcOjhQ0WUYByKFFC1cXmSYmRyqjzuYgXu7mhxHsfXUrfS/QPsHNN0zm/LNo7SfpL7gWXYG1SHj6cT14rHmuOe+LhDbgLeL/XsUYCdHUqzKZobjOwaUTElMyXLgDPhhxMunducHMY7A+IbUHO7jZPt0CxI2zf0H6SVKdxWsU5ulW723UxMe6HR8JL4xvWtuzJSBVAAAACXBIWXMAAA7EAAAOxAGVKw4bAAAAPHRFWHRTb2Z0d2FyZQBDcmVhdGVkIHdpdGggdGhlIFdvbGZyYW0gTGFuZ3VhZ2UgOiB3d3cud29sZnJhbS5jb21coqaFAAAAIXRFWHRDcmVhdGlvbiBUaW1lADIwMjU6MDM6MTIgMjA6Mzc6MzWk4nb4AAAasElEQVR4nO2deVgURxbAawZICOF0IIqCiEKiZhFBEUXAgBBQkSUmHuyHHBoPiCu4gkbAI2JUPFFQLpMPoruooAgfcqngrYAioqCEIzBcIofACMMMM9P7R8Xe3jl6DnpoIPP7a+rNdNV7Xa+nuq5XACEJBwcHAwODvr4+BEF+++03AEB6ejpZyigYXQwODk6ZMmXJkiUwGRISQqVSHz9+TK5WChQQCJfLraqqOn78OAAgKiqKbHUkhQrIYGBgoLi4ePv27WpqagCAr776CgBw5coVUpRRMOqgUCjW1tYnTpyAya+++orH4928eZNcrRQoIBAqlfr555+7uLiQrYh0kNOiqKqqVlRUBAYGwqSmpiYAoK2tTa6FXrt2ra6uTq5FKBgelJSULl68OH36dJhsamoCABgbG5OqlIKRwtu3by9cuEC2FhKRmZlZU1NDSFYlJSUPHjwgJCuhNDc3X758GStpbGxMS0vj+xk5LQoAwMjIiEKhwM9Pnz4FAFhYWMivuKioqNbW1qlTp8qvCAXDTHd3d39/f319fUJCgp+f35o1a8jWSAH51NTUbN68ecWKFWQrIp7o6Gg6nW5iYkJIblZWVllZWVevXiUkN0EmTZrEZDJ//vlnVGJoaNjb2xsZGYn9GWktCgqCIIcOHZo8eXJISIicinjw4EFJSYm/v7+c8ldACidPnvTx8fHx8VFXV/fz86NSyXdmBeTC4/E2btx47NgxOJw+knn8+PGDBw+2bNlCYJ4RERGxsbH19fUE5onFx8enoaHhxo0bqGTdunVVVVWFhYX/+xHZEznIrl27rKysWltb5ZQ/i8WaOXNmaWmpnPJXQDqnT58GAFy8eJFsRRSQTHR0tLe3N9laiIfNZpuZmRUXF4v95cuXL4E0M/OXLl1ydXUdmnZ4VFVVTZ06tb+/H5VUVlaampoymUyYJPm1Ljw8vLKy8s6dOxMmTJBTETk5OUDOQ2oKyCUgIEBPT+/AgQNkK6KAZI4fP+7l5UW2FuLJz89nsVhWVlaE5+zu7v7w4cPKykrCc4Z8/vnnNBotPT0dlcyYMUNdXT0zMxMmyWxRwsLC6HR6WlraJ598Ir9SsrOzFSPsYxslJSVjY+OqqioEQcjWRQFpvHr1qq+vz9HRkWxFxJObmyunPyVVVVUPD4/s7Gx5ZA7x9PTkyx8rIa1FSU5OLi8vT05OVlZWhpLGxsaenh7CC8rJyZk9ezbh2SogkdzcXBsbGw6Hg0ra2tpMTEzQtR4K/oLk5OSYmZkpKSmRrYh4cnNz5fenZG5uDgdm5Jd/Xl4ej8fDSnJzc+H7nLLY6w8dOtTf38/j8ahUakREBCE6dXZ2BgYG/vzzz/n5+VDS19d36tSprKwsQvJHqa2tbWxsnDZtGrHZEkhoaGh1dXVqairZisgRHo+3a9cuBoPBYrF4PF5iYiL6GiEbDAbj0aNHUVFRwcHBAIC8vLyGhga4T3YkEBMT8/DhQwMDg6ampsTExE8//ZRsjWRnFPlnYWHhSHvS8/Ly4uLi2traHj58iAqbm5tramokVJXFYgEA2Gy25IVOmzbt3r17g4ODKioq0iosYf4dHR0vXrwwNzdHJW1tbZWVlV9++aWYmfnr169/8cUX8LOlpWV+fj4h0ztnzpwRVHT+/PmEZI7l3r17AAAGg0F4zoRQVlZmY2Pz3Xffka2IfMnPz589ezb8rK+vT8gU+qVLlxYuXOjp6bl+/fpFixalpaUNPU9CqK+vV1ZW7urqQhDExcUlMjKSbI1kZ3T555w5cyIiIsjWgp+MjIy//e1vWElxcTEA4N27d/gXdnR0hISE2NraAgCMjY0DAwOLiookKbG0tBQA8ObNG9mVxoXL5VIoFNgpgcAG7+bNmwiCiHlVvHfv3hdffIH+4+fk5Dg7Ow+9lQsICAgICBh6PmLp7OwEAAi+JLLZ7P7+fm1t7WHQQRRcLjc+Pt7Ly6ugoIBENSSnvb1dT09PhgsXL158+/ZtAACCIDwer6OjY+jKrFq1atWqVVJdMjyVrqamRqVSkQ8zOnD37mhkBPonvgd2dnaOwO6g4Cgc9H+xqtJotCNHjshQIsy5s7Nz/PjxMlwuFiqVqqqqCv9aISoqKioqKlAiZh5l8uTJjx49GhwcBADU1dXR6XR5qCg/urq6Pv74Y77hdR6PFxYWJtflAJIQFxfn7e09inZRtLS0/PrrrzJcSKVStbS0AAC3b9/m8Xik7D4btkrX09M7c+aMj4/Pjz/+qKmpuXbtWnmXKCdGoH/ie2BXVxfpD7UkdHZ2KikpyWlICgAAb0JXV5ec8odF8OWPSsS4y/r1652dnR0dHXfu3Kmtrc3lcuWnpTzo7OwUdLKoqKi///3vH3/8MUy2tLR4e3v7+Pg4Ojo6OTk9f/4cyg0MDCgCZGRkAAAaGhq8vLy+/fbb1atXW1tby7BPta2trbq6ev78+UOzDwAAenp6IiIiVq1aNX36dL7hxN7e3pCQkKVLl3p5eVlZWSUmJqJf4ViXmZnJJ9+7dy8AwNzcvKGhoaKiQjY9X716dfjw4SdPnujr6w/BXBnBVjpO9eHcFgl59+7dkSNHduzYsW3btsbGxqFEG8N3M1F+i/+VhBDon5D3798bGhr6+fmhEhznlMEDORxOb28v38OOUwQWNpv9/v17YuyUAKF/SgQCM8f2IeRRBF/+/5NIPnzm5eW1detWogfl5EtERASNRsNKGAyGm5sbmqyrq9PV1T116hRMurq6mpqaIgjS1NRkb2+fmpqa9YG0tDQdHZ2+vj5CAt9u3LjR09MzKCjI0dHRxMRk9+7dMtuIE6NUVIBnHOsQBElKSnJ1dc3C8PbtW5jhmzdv1qxZI4OSz54927BhA8x/+MFWOk714d8WCTl37ty8efPg58jISCcnJ9l0xnczUX6L/5XkEOifkO3btysrK/v6+qISnOjjMnggg8EAAJw/fx4rlDDA+eHDh4c+t1dSUrIXQ3NzM5RnZWXxzaMcOnRIS0triMXh8O7dOwBASkqK/IowMjLauXMnVjJp0qSwsDAEQfhblMHBQWzy999/j4uLQxCEy+XOnDmzpKREflrKA8EWJSkp6cyZM2jyH//4h76+PpfLhcnm5uZbt24hCEKn05uamrAXpqam7tixA0EQDoezevXqV69eQfn169cBAAcOHMBRg++uYomLiyNk5lNwby2Tyfz0009PnjwJk3DE0svLC8G1DkGQ06dPnz59WlRBbm5u7e3tOJoIGtvR0bFs2TIOhwOT169fl9QqgsBWOk714d8WoQgae/HiRUNDQ/j5X//614oVK2TTGd/NRPkt/leSW4FCiH+WlZV5e3tPmDABbVFwnBORyQMFWxT8IlD6+/s/++wz+QVc+Ku1KH+OesXGxrq7u+vr6+fl5UEJg8GYMWPGtWvXMjIydu/evWvXrm3bts2dO1d+PanhISsra86cOfAzl8vNyMhwdXVFB4snTpwId0gZGhpOmjQJvYrH48XHx+/cuRNIE/hW1F2NjY2FyaKiouzs7IqKipKSEsItxQnwjGMdAKC3t9fIyEhUtubm5vDfjQ8cY2NiYu7cuWNgYKCvrz9u3Li7d+8SZKKkYCsdp/rwbwsWHGNXrly5cuXKH3/8MSoqqrGxEQ25Ly04euL4Lc5XUlkBk4T4J4Ig27Zt44togB99XDYP5EOSAOepqalff/3127dvjx079s0335w/fx4AUF9f7+vr6+TktGzZMgsLC3Q3+NWrVx0cHCZOnMhgMPbv3z9v3jxtbW0vL6/+/n5ROhQUFPznP/+h0+lxcXHt7e1idR4LwBaGx+P98MMPSkpK3d3dUHLt2jUAwPPnz2VrxFpbW69cuSJ7I0gQgn0UIyOjlpYW+Pn169cAgLCwsLy8PGdnZ0tLy6CgoJ6eHsF8zp49i+3ZIAjy7t27vr6+P/74Y86cOX5+fugrIRai7mp8fPzLly/xfyM2/s+tW7cAAELfuPms27FjR15e3p49ezw8PAICAvgG9BISErZs2SKYyXAaKy3YSodIUn2ClY4ybMYK1RPHbyV3aaKsEGtCYmJieHg4giDYPgoffM4pgwcKHfXCKQIFrkJE+yhsNtvAwMDOzg7e6nXr1mloaLBYLPjtnj17AADW1tbFxcU8Hi8uLg4AcPjwYRzzBSG3j0LI8yW+j0KhUGpqaiwsLOCaHABARkYGjUYzMzOTtomC0aTXrl1L4DLN9+/fR0REODs7+/r6xsTEyJxPd3d3Q0MDjUaDSTiVVFhY+Pvvv1+6dGn37t0JCQlubm58V3V1dSUlJW3atAkrlCTwLVF3tbS0dIgvOIjoAM+C1vX09KSmpnp6esbHxzMYDBsbG+wGNx0dnbKyMsEiRo6xfPBVOkRs9QmtdJRhM1aonjh+K6FLE2gFvgk9PT0xMTFC+3kogs4pmwdKVYQoqFTqggUL9u3bB2+1ubk5g8FA17uPGzcOABAeHm5lZUWhUDZu3Kipqfn48WOplCEX/PoKDQ3V0NDArolYtmyZVPn/uR9lcHDw/v37aLz3gYGBq1evLl68WKqwFk+fPj169CibzQ4ODraxsRH1MwRBsDv4sVCpVMESBwYGbGxsTExMMjIy+IJUd3Z27t27l0aj6ejo1NTU9Pf3nzx5En08BGlra1NRUfnoo49QTQAAenp6MKa0h4eHv7//8ePH79+/DzcWQfbv379ixQq+deU//fQT/BAdHW1vb3/x4sXVq1fzFUfIXSWEsLCwnp6eoqIiXV1dvq8ErduzZ8/EiRPh5/j4+Pz8/JCQkJUrV0KJhoaG0LPRhtNYUWsOKRSKYNvAV+kQsdUntNJRhs1YoXri+C1UQKxLD5sV+/fvDwwMVFdXx/mNoHPK5oFSFSEKJSUleK4Uk8nMysqC8/nI/8eLQ080oVAoenp6RK0Tk2ElrVCHl5mCgoLVq1cbGBiwWCw/P78FCxY8evQIXRMrIX+2KCUlJX19ffB0XgBAfHx8T0+Pg4ODhLncvHnz5MmT48eP37dvHzryK4pTp06dO3dO6FceHh6CEWQvXLhQUVFRWFjI15zU19cvX7781KlT6DDxokWL+P44+Ojp6cHG/4ABj7ERQO3t7Y8fP15RUYE+fjU1NQkJCTjnrAUEBERERBw4cECwRRnKXUUQBB3dbmxsLC4uHhgYgDpLGxEIDfAsuGZRqHXowwwA+OSTT+bOnXv9+vWuri74gqasrCw0/NqwGXvjxo1t27YJzcfU1BQbFRXCV+l8CK0+sZU+/DWL1RPHb52cnER9JdiiyGyFhCZUVVXdv3//6NGjOFkJdU7ZPFCqInAoKio6duwYg8HYsGHD2rVr4XmAWLAtLlGtb0FBwdatW6W9SqjDCyJhfTk4OFAolH379sXGxr5588bMzEyGcaY/n7TCwkIqlQp9rqOj49///jf4cPy7WLhcbn5+fmtr65o1ayQ5jywoKCgoKEhyFUtLSz/66CO085WQkDBr1iwAwPr161etWoWddfT19cV3Gg6Hg23S9fX1qVRqb28vKtHQ0AAAYJvlI0eOmJqaYl2cDxj49tmzZwiC8LnXUO4qgiC5ubnwM3SClpYWAMDs2bOlalHCwsLg4Z1C/1XFWgcAgH0+9DWNSqViQzSiDJuxzs7OcNJIQvgqnQ+h1Sf2tgx/zWL1xPFbSVx66FZIaEJ6ejqbzUbXRHR0dGRmZlpYWOzfv3/58uVAnHOiSOiBQpGwCJT6+np7e3sfHx84ziY0XpQ8cHR0lMqrpULC+qJQKAwGg8lkTpgwITs7e9GiRTIWhiDI119/bW5uDj+HhoZu2rRJV1eXx+NdvnxZwrma7u7ugwcPzps379SpU8RuO9i+ffvChQv5hGVlZVQqlW+tpyB8M/MvX75UVVXF/sDV1XXx4sVoEnaenj59CpM8Hk9PT8/Z2Rl7SU5OzoIFC7ALLo2MjGbMmCFY+tDvKmTTpk2FhYX4vxE6M5+UlOTm5sbj8VAJnU5Hp2GFWken062trbHz2FZWVpMnT0aTeXl5xsbGggoMp7FSwVfpYqtP6G3hYxiMxdcTx2/xXZpwKySvL76ZeVHOKZsHCp2Zx/d/CJyZT05Ohkk4zPXLL7/A5KFDhwAAdDodJqOiogAAr1+/Ri83MTGRdssRuTPz+PUVHR0NV6Ns2LDh/v37on4mfma+urpaS0uLyWRGRkZ+8803TU1NFhYW2dnZkvd6tLS0du3adefOHRUVFQcHh59++omoMACurq7Pnz9vbGzECm/cuDFjxgzsWk9J0NHRgbE8UYKDg+GZwQAAFouVkJCwfPlyS0tL+G17e7tgKCE08C1MwsC3u3btEixu6HdVcgRjlMIAz66urvn5+Xl5eXl5eVevXvXy8kJf2IVa19/f/+zZM9Scu3fvlpSUwOcKwmQydXR0yDVWKvgqXWz1Cb0tfAyDsfh64vgtvksPsxVYOBwOOlWA45wyeyAfYv0fAocQb926xePxBgYG4KB9amoqh8Npbm5OSUkBAKDjn3ACGDsNzOVyRc0KjzpSUlJ2794ND275448/oqOjZckFtjBbt27V1tZeuXJlTU0NgiAhISEGBgbx8fFSt48IgiAIh8NJSUmBTRYhxMfHW1tbe3t7//DDDzk5OQiC+Pv7u7i4oD84f/58TExMTExMW1sb9kLB1cPa2trv37/HSnJycpYsWeLr6+vh4RESEoIeb4kgSEdHB41GO3r0KJ8+Ega+Jequ4r9WiIpRKjbAsyjr7t696+Tk5O7u/v333y9ZsiQ7Oxv7bXJysuA2sWEzVjb4Kh2/+kTdFizDYyy+njh+i/MV4VZIUl8ZGRne3t4AgPHjx8NNmvjOKYMHCvZRJAxwzuPx/P39dXR0bG1tYU/lyJEjEyZMmDlzZmBgYGFhob6+vr29fWZmZlJS0syZMwEAy5Yte/ToUVdX1z//+U8lJSUNDY3g4GBsTwifEdtHmT59OjrIcfDgQT09PXTZNB9S7JkfLYSHh9vb22Mlenp6gr11wRbFwcGhurpa7vqNXQ4ePHjixAmytZAORaWPJYR6oNj9KCMHmVsULpe7Y8cOf3//devW+fr6iop0MCL2zI86Vq5c+eLFi9raWph89epVb2+vJEunnZyc4PkBCmSjsrISLigaRSgqfSwxGj2QEG7dupWfn3/27NlffvklLy/vypUrZGskBNJaFARBTpw44e7u7unpuXjxYsElevjMmjUrKysrIiIiKirqt99+u3DhQmhoKN/yYqF4enoSflLkXwc2m93a2irDvlfCkTCsLERR6WOGkeOBw488zhkinCEdzjoUQkND09PTnzx5oq6u/uuvv9ra2paWls6YMUPyHGxsbHD2UYrC2NhYVVW1qanJwMBA2msVXL58efPmzWRrAQAAHh4e1dXVVVVVampq58+f9/b21tPT8/DwEPpjRaWPGUaOBw4/I+GcIbGQ00dpb28/efKkn58f3Ezr7e2tpqY2lPAqohC6/+jgwYMyLmP4a9Pd3f3kyZPvvvuObEXAwMBAcXHx9u3bYa8UbqHAHwRQVPoYAMcDhz8OhcwMUVUJzxmS9w0RzB9KyOmjvHjxgsViTZs2DSaVlZVnz54tj8NHNTQ0sAtqIbq6ut9//31bW5ucTs0cq9TU1ERGRpKtBQAfwspOnjwZJoWGleVDUeljABwPVFNTU1JSEnzYRyCampqS6MnhcAR3ZZaVlZ09ezY9PR1nhB+ulZfrcdQsFosvf1RCTh8FPvxMJhOVaGlp1dTUEL6ym0ajYUtBMTU1VfyzSMvcuXOlDfIjP4yMjNC3JDgJZ2FhgX+JotJHOzgeSKFQdHR0hD7sIw0ajQaDoAgF54iBzs7O8PDw2NhY2JxkZ2cLzQHeBL7QqMTCZDL58kcl5LQoMFhLcXExKqmtreVwOH19fcQWRKPROByO5DEbFIw6EInDyioY24h6fRxp6OrqIggiqlHZvHnz5MmT29vb0ThsBQUFr1+/XrhwoYTnDJHbopAz6mVpaTlnzpykpCRPT08rK6uzZ8/C0G8sFguGISIKaGR3d7fYmKMKRimSh5VVMLah0Wjd3d1kayEe6Kjd3d1wuz4fOEcMzJo1a+/evWLzhzdBfi0Kk8lks9nY/BkMBo/HI7OPoqSkdO3aNRcXFzc3N1tbWy0tLRglAj/qtQxMnTqVSqXW1dURm62CEQIaVlbow6ngL4WJicmoeNKnTJmirKwsSlV4xAAarxMeMbBo0SLJZ9rr6up0dXVxDvUYIlBzdBacT0LafhQDA4O0tLSurq6ioiJfX186nT5+/HhVVVViS6HRaHPnzsUJS65g9BIWFkan09PS0iSMUq5gbOPq6joqnnRNTc358+eLUnWIB4sAAGpra11cXOS31qu2tvbLL780NDTESszNzeHaM9JalNraWnQeHkGQ+vp6CYOBS8vSpUvv3Lkjj5wVkEhycnJ5eXlycjK6HqaxsVGqYzMUjDFcXFwqKipGxcDXkiVLRP0pDeWgBMjt27eXLl1KhJqS5v9/EvnFfsGBy+VqamqGhobC5Llz59TV1cvLy+VR1tOnT8eNGycq5JmC0UhHR4eWllZMTEzuB65cuWJvb9/b20u2agrIxN7ePjExkWwtxFNeXq6trT0wMCD41RCPGGhqalJVVe3o6CBSXQxcLldfX//u3buoZHBw8LPPPnv48CFMktNHoVKpKSkpt27dcnR0XLt2bW5u7rNnz+QUWcHS0tLV1TUnJ0cemSsghUuXLvX09GzZssX1A99++y2bzSZ2WYeCUcfhw4dh/PkRjpmZmbu7u9DIQEM8YiAlJWXnzp3ym5YvKCiYN2+enZ0dKrl586adnd2CBQv+TMupKRtRtLW12draMhgMshVRoECBfPH3909NTSVbC/G0t7cvXLiwp6eHTz6UIwbodLqdnZ3Qrg8h9Pf329vbNzY2opK+vj47O7vm5mZU8pdoURAEKS8vDwoKIlsLBQoUyBc2mx0YGFhZWUm2IuJ5+fJlYGCg5Aer4DMwMLBhwwaxx9oOhR07djx58gQrCQ4OLi0txUooyIfTm8c8LS0tbDZ7ypQpZCuiQIEC+fLo0aP/jcOMYN68ecNkMo2NjYeeFYxLJL+B39bWVjabbWRkhEqam5t5PB520RcA4L+yHOh2HTAHNQAAAABJRU5ErkJggg==\"></div>"
      ],
      "text/plain": [
       "FormBox[RowBox[{SuperscriptBox[\"u\", \"9\"], \"<\", \n",
       "\n",
       " \n",
       ">        RowBox[{FractionBox[\"2\", \"9\"], \" \", SubscriptBox[\"ϵ\", \"G\"], \" \", \n",
       "\n",
       " \n",
       ">          RowBox[{\"(\", RowBox[{RowBox[{RowBox[{\"(\", \n",
       "\n",
       " \n",
       ">                  RowBox[{RowBox[{\"673\", \" \", SuperscriptBox[\"u\", \"4\"]}], \"+\", \n",
       "\n",
       " \n",
       ">                    \"1275\"}], \")\"}], \" \", SuperscriptBox[\"u\", \"2\"]}], \"+\", \n",
       "\n",
       " \n",
       ">              RowBox[{FractionBox[\"3\", \"2\"], \" \", \n",
       "\n",
       " \n",
       ">                RowBox[{\"(\", RowBox[{RowBox[{\"37\", \" \", SuperscriptBox[\"u\", \"8\"]}], \n",
       "\n",
       " \n",
       ">                    \"+\", RowBox[{\"366\", \" \", SuperscriptBox[\"u\", \"4\"]}], \"+\", \"425\"}], \n",
       "\n",
       " \n",
       ">                  \")\"}], \" \", RowBox[{\"(\", \n",
       "               RowBox[{RowBox[{\"2\", \" \", \n",
       "\n",
       " \n",
       ">                      RowBox[{SuperscriptBox[\"tan\", RowBox[{\"-\", \"1\"}]], \"(\", \n",
       "\n",
       " \n",
       ">                        FractionBox[\"1\", SuperscriptBox[\"u\", \"2\"]], \")\"}]}], \"+\",\\\n",
       " \n",
       ">    \"π\"}], \n",
       "               \")\"}]}]}], \")\"}]}]}], TraditionalForm]\n"
      ]
     },
     "execution_count": 259,
     "metadata": {
      "text/html": [],
      "text/plain": []
     },
     "output_type": "execute_result"
    }
   ],
   "source": [
    "DeltaE2 = Simplify[DeltaE + u^2/2];\n",
    "uMax2 = Simplify[2 u^7 DeltaE2];\n",
    "Simplify[uMax2 < 0] // TraditionalForm"
   ]
  },
  {
   "cell_type": "markdown",
   "metadata": {},
   "source": [
    "<span style=\"color:brown\">**NB:**</span> Условие захвата, <span style=\"color:green\">**совпадает**</span> с условием из файла binary_catch.pdf"
   ]
  },
  {
   "cell_type": "markdown",
   "metadata": {},
   "source": [
    "<span style=\"color:red\">**TODO_5:**</span> Сравнить условия захвата на параболической траектории $u = 0$ с другими авторами"
   ]
  },
  {
   "cell_type": "code",
   "execution_count": 260,
   "metadata": {
    "vscode": {
     "languageId": "wolfram"
    }
   },
   "outputs": [
    {
     "data": {
      "text/html": [
       "<div><img alt=\"Output\" src=\"data:image/png;base64,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\"></div>"
      ],
      "text/plain": [
       "FormBox[InterpretationBox[RowBox[{FractionBox[RowBox[{\"850\", \" \", \"π\", \" \", \n",
       "\n",
       " \n",
       ">            SubscriptBox[\"ϵ\", \"G\"]}], \"3\"], \"+\", \n",
       "\n",
       " \n",
       ">         InterpretationBox[RowBox[{\"O\", \"(\", SuperscriptBox[\"u\", \"1\"], \")\"}], \n",
       "\n",
       " \n",
       ">          SeriesData[u, 0, List[], 0, 1, 1], Rule[Editable, False]]}], \n",
       "\n",
       " \n",
       ">       SeriesData[u, 0, List[Times[Rational[850, 3], Pi, Subscript[\\[Epsilon], G]]], 0,\\\n",
       " \n",
       ">    \n",
       "     1, 1], Rule[Editable, False]], TraditionalForm]\n"
      ]
     },
     "execution_count": 260,
     "metadata": {
      "text/html": [],
      "text/plain": []
     },
     "output_type": "execute_result"
    }
   ],
   "source": [
    "Simplify[Series[(u^9 - uMax2), {u, 0, 0}], {u ∈ Reals, u > 0}] // TraditionalForm"
   ]
  },
  {
   "cell_type": "markdown",
   "metadata": {},
   "source": [
    "# Потеря момента за один период обращения\n",
    "\n",
    "$$\n",
    "\\Delta \\hat{J} = 2 \\epsilon_G \\int\\limits_{\\hat{t}_{\\text{min}}}^{\\infty}I_J(\\hat{t}) d \\hat{t}\n",
    "= - 2 \\epsilon_G \\int\\limits_{\\hat{r}_2^{\\text{min}}}^{\\infty}\\frac{I_J(\\hat{r}_2)}{\\hat{r}_2^{(1)}}d \\hat{r}_2,\n",
    "$$\n",
    "\n",
    "где мы заменим $\\hat{\\omega}$ на $\\frac{u}{\\hat{r}_2}$"
   ]
  },
  {
   "cell_type": "code",
   "execution_count": 263,
   "metadata": {
    "vscode": {
     "languageId": "wolfram"
    }
   },
   "outputs": [
    {
     "data": {
      "text/html": [
       "<div><img alt=\"Output\" src=\"data:image/png;base64,iVBORw0KGgoAAAANSUhEUgAAAi0AAAA0CAIAAADJzZ9fAAAAzHpUWHRSYXcgcHJvZmlsZSB0eXBlIGV4aWYAAHjabU/bDQMhDPtnio6QBzgwDtfjpG7Q8Rsep4qqlkgcJzFKaO/XFR4dwhRisowCkCOWWKQ6yTQxM1MZcUBOkqVuetA4CVeX0reBtvRj1w3LMP8YLX/S/oPz29iWkcrUuc76WPNSc96NlDbgJvy/jmqCBLboMQqZoTjPwaknJKFkuPAEfJBxCsWn5wYzX4P1Ca19sUOa7dMtQF04+wnaX9LqWT2yiky1em0jJjlWdxwSPlRcWrJRI8PwAAAACXBIWXMAAA7EAAAOxAGVKw4bAAAAPHRFWHRTb2Z0d2FyZQBDcmVhdGVkIHdpdGggdGhlIFdvbGZyYW0gTGFuZ3VhZ2UgOiB3d3cud29sZnJhbS5jb21coqaFAAAAIXRFWHRDcmVhdGlvbiBUaW1lADIwMjU6MDM6MTIgMjA6Mzc6MzWk4nb4AAATDElEQVR4nO2df0wT5//AH0qdjjFRBKUdIBo1mwlCVdD5AyfVDunmQCMjhimYsWEyxF8oKMsmOGWKOjMWAmriXBZ/oBLZZMoUW4SIA0REQDOiUBC3tDgUW37Y3n3/uM/u27Xleu09vaPX5/VX7+n77t4/n+d+PHfnhuM4QCAQCASCI4Rs7kwikXR2drq5uQEASkpKFi1axObe7WNwcDA1NdXb21soFAoEguzsbK41cmIwDMvMzOzr6xscHMQw7NixY0IhqxmIQIxMXLyfYbUXCAkJaWhoYHOPzKmpqdFqtUVFRTqdzsvLSy6Xz5s3j2ulnJXr16+Xl5cTOSAWiy9cuPDxxx9zrRQCwT0u3s8I2NyZj48Pm7uDwpIlS37++WcAwKtXr3Acf/PNN4eT3L9/v5eX1927d1nUjiVgmSaVShUKBQAAx3EMwzQaDQTlOAKKT3iZM7w0ig5MDKffz4wcIAb6/8eh58+f5+TkxMXFvf322z/88IOJXHd397p169avXx8ZGbls2bLGxkZb94Tj+IMHD/Ly8uLi4lavXt3b28tU93958eJFenp6dHR0QkJCWFjYsWPHjP8tLS2Njo6Oj4+Pjo7+9ddf7dh+Q0NDXl5eWlra+fPnZ86caVGmsrKytra2rKxs27ZtfX19FFvr7+93RP/78uXLgICApKQk6Fu2w7ThbBQIBF5eXgAAhUKBYdiqVatgKUmdvQQQXQQl3BAdyxBuPWPRuq6uLubKkDDvvqxC03CKCNLpZ+zA39/fzYxLly4x3Kyt9lrJYfxfDAbDw4cPDx06BAD47rvvcCMePXrk4+Nz9OhRYjEqKmr69Om4jWAY1tbWRvxeunTp9u3bbd3CcCxdutTf31+r1eI4furUKQBASUkJ8dfvv/8+atSoGzdu4Dh+7dq11157jfhtEwMDA/39/dXV1VOnTm1sbLQoU1xcbDAYcBx/+vSpQqGg2NrWrVtTU1Nt1cEq27ZtEwqFiYmJ0Ldsh2nUNra0tMhkso6ODohKUmQvCUQXQQk3dMfaDbeeMf9RWloaHBzMXBkCKN2XVWgaThFBOv2MrXR1dUVERBQXF//6L+fPnx8/fjzRWzLBVnupcxiYLN+/f9+8kteuXSsSiYi94jj+5MmT69evU2tJnF1SKCeXy6m3QJP+/v433njjyJEjxKJKpQIAJCQkEItSqTQ0NJQUDg4OjoqKotgatdpyuTwlJYVCwGAwYBhGLTBt2rTHjx9TyNjB3bt3161b5+fnR6crobYRx3G9Xn/kyJHOzk7jRvqmGdt4586dn376yVisoaEhOTmZeRlYxGL2EsB1EQGUcNvnWIjQ9wxNt+B2GWVsXVxc3Llz52juyyrQuy+ccY3glkqDxGo/Qx+VStXV1WXcUlxcvGPHDuq1oOe/1Ry2fn/IYDBcunQpKipKIPifsFgsjoyMtChcUFCwcuVKkUh09epVoqWvr++dd94pKCg4e/bst99+SzTW19fPnz/f6q7pMGbMmObm5rS0NGJx7NixAIC///4bAPDs2TOFQjF37lxSOCws7Nq1ay9evKCvdm5u7rlz54jGoaEhsVhsUY2cnJxly5aJRKJnz5598sknvr6+3d3d5mKVlZUpKSlBQUFMTDYBx/EtW7bs3buXWozCRhPJ5OTkyMhIf39/YtFW04xtlEgkQqHw4MGDhExPT09WVlZBQYGHhwcAoKyszH6zbQG6i6CEm4ljYUHHM/TdAhgYRf7Q6XRubm5r1qyBYiCs7stEkmGNALPSoNnP2EpAQMBbb71FLmIYVlhYuHPnTovCjst/qzlsfRxqa2vTarVisbi8vFwmk82ZM2fLli3mXTlBSkpKYGCgWq0m52RXVFQ8ePBg4cKFCxYsqK6uzszM/Oabb4KDg7dv32511zSZPHkyMRccAFBfXw8AkEgkAACVSmUwGCZPnkxKBgYG6vV680vPFGpHRUX9+OOPe/bs2bx5c1BQ0HBq79q1y9PTMzg4OC8vLygoaMmSJb6+vuZiQqFw8+bNjC3+DydOnFi4cGFAQAC1GIWNxmKnT58WCASzZs0iW2w1zcTG+Pj4ixcvEjcz8/PzlUqlv7+/SCTy9vaurKy012jbgOsiACncDB0LBTqeoe8WwMAo8kd3d3deXh5z0whgdV/GYsxrhMC4NGj2MwwpLCyMjY319va2+K/j8t96DpucH5lf2aiurgYALFiw4Pvvv3/27FlJSYmHh8fixYuHOxd7//33586dSy4mJSVNmDCB+vQNFhiGLVu2jHAljuPl5eUAgMOHD5MCxP0Di7eImKstkUgkEsnDhw/tN8B2ent7Q0JC+vr6cBy3emmFjo1hYWFlZWUmKzI0bd++fZ9++ql969qExety0F1EACXcnOQMCX3P2FQd3BplgiO6L4g1wlpp4Dje09MTHh6u1+spZFjOfxLrzw/hOA4A8PX1/eKLLwAAMTExGzduPHToUFVVlfmDqK9evaqqqtq4cSOxODAwcPHiRalUSp6vOJTdu3c/f/789u3bxhPE6eyaudo6na6pqSk2NnbGjBlECzvPbGZnZ6elpXl6elqVpGOjWq2ura0NDw83XpG5aeHh4fn5+TbbBgm4LiKAEm6ucoaEpmdsqg7OjTIBevcFt0bYLI3s7OxVq1a5u7sPJ8By/htjXdTPzw8AEBYWRrZEREQcOnSoubnZPJC1tbVarfa9994jFgsLC58/f7506VL6CtlNVlZWS0uLUql8/fXXiRbiVPHly5ekDDG/cOLEidDVrqur0+v18fHxZAsLz2w+fPiwqqqKvMRMDR0bOzs73d3dTU7bmZvm4+Pz119/6fV69t+eAN1FBFDCzUnOkND3jE3Vwa1R5kDvvuDWCGul0dbWVlRU1NbWRiHDcv4bY/3+kEgkEggExldUiWesRo8ebS5848YNgUBABFij0RBPZpGGOY7du3erVKrz58+TgxAAIDAwUCAQEDPoCDo7O4VCIXl3EaLat27dEgqFMpmMbGHhmc2SkpKhoaE5c+YQ58gajaa0tFQikfzyyy/mwnRs1Ov1o0aNMjn8YW7a6NGjMQzDMMw+M5kA3UUEUMLNSc6Q0PeMTdXBrVHmQO++4NYIa6Vx4MCB6dOnU09/YDn//4PJdTqLV9ijoqKkUim5ePz4cQBAfX29+WU+mUwWEhJC/N61a9fnn3/u4+ODYRjEWZjmnDx58oMPPjC+iKlSqXp7e3Ecj4yMlEgkZPusWbMszttmrnZMTMz8+fMt/lVRUUHMJ6G5KbuhvsRPx8ZHjx4BAAYHB41XZG7a7du3vby86JrBAIp52wTMXUQAJdwjIWdIKDxjU3WMKKMI4HZfcGuEndLAMMzX13f58uXUYiznvzGm50ODg4MAgKGhIePG7du3V1dX19bWEgJFRUUffvjh7NmzzUe1P//808vLq7+//9tvv42Nje3q6pJIJGVlZePGjbNteKRNT09PWlpaVFRUeXn51atXr169evHixYSEBGKaZkZGxv3792/evAkAUCgUra2t6enpjlC7pqbG4oFDa2trbm5uXV2dSCSy30h66PV6g8Ew3L90bAwMDPT29n78+LHxisxNa29vDwkJsc0Yu7CYvcYwdxEBlHCPhJwhofCMTdUxoowigNt9wa0RdkpDrVar1WqLU9qMYTn//wM5Imk0mvT0dOKkbMqUKWlpabdv3yb//e2331asWJGYmBgTE5Oent7f329xWNu0adO4cePWrFlDvDohPT3d39+/sLDQprHRJiy+xMV4rC4pKVmxYkVCQkJ0dHRpaakj1G5vbxeLxRUVFSbtDn1m05hLly6tW7cOADBp0qS9e/dalKFpY1JS0vHjx8lFKKZt2rSJfJrdQVBnLw7VRVB8wnnOkFj1DP3qGDlGmQC3+4JYIyyUBo7jGo1mwoQJBw8epBZjM/9NML0uh4CFRqORy+XkLMnLly9zqw9N2tvbIyMjyYfPLWKTaT09PREREcNVPm+AEm4nzRlq+GcUrBrhU2kwjDKr79t2Kbh6ZpMhkydPzsnJOXz4MIUMfdOGhoYOHDhw6tSpMWPGOEDZEQSUcDtpzlDDP6Og1AjPSoNhlN1w9D1WhBkdHR1ubm6BgYEMt3Pv3r2goCDiZUsIBJ9gWCOoNIxB4xACgUAguARdl0MgEAgEl6BxCDGiKSoqam5u5loLJwM5DeFcoHEIMaK5c+eOWq3mWgsnAzkN4VygcQiBQCAQXCIEAAwMDJw4cYL9fc+cOdP8JXo4jpNfYTLGz88vNDTUpLGpqclJp4H6+PiYvwfQJtvVajX54SznJSAgYOXKlSaNxn7o7Oz8448/BgYGwDB+UKlUFl8Wx2OCg4MjIiJMGm1y2r1794iXjIxwNmzYYPzGSGBjjQAATpw4QfjB6fDw8EhKSjJptMl8rVZ78uRJB6nHnOjo6ClTphC///eSV05mzVncKY7jV65cMW8PDQ01dzTxDJRDlHMwrmy7MVb9QHSpxNceLfphuI24GjY5zVmSx1xJm2pkuI04BbzvIox1Q/O2ESOalJSU+Ph4Fl7ZzieQ0xDOBbo/hEAgEAguQeMQAoFAILgEXZdDIBAIBJew/Z1m52JwcDA1NdXb21soFAoEguzsbK41QowsMAzLzMzs6+sbHBzEMOzYsWPsf/scwSGoi4CC9ZpxZUfX1NRotdqioiKdTufl5SWXy+fNm8e1UogRxPXr18vLyxsaGgAAYrH4woUL5tPxecn+/ftzc3OVSuVws9RcBN53ESwF2uqXIRQKxdq1a3Ec12q1QqGwpqbGpg9LOB379u0bO3ZsQ0ODcWNvb6+7u3tzczNXWiFGCCbpYTAYiC/QYxg2adKk/Px8TrVjCaVSGRsbW1VVFRkZ+eLFCwpJnU6nVqtZU4wdXKeLoB9ohlgYhyx6Gafh6OFWdCLM/X7nzp2DBw+uX7++pKSEa+0gYHeMeBBc5lCUZUVFha+vb3d3N1e6sUlxcTHxFbinT58qFAoKya1bt6amprKlFxvwvoswhn6gGWI6DlmsNDqO5schkrnfBwYG+vv7q6urp06d2tjYyLWCjLD76IYfwWXOcGXZ0tIik8k6Ojq4U40DDAYDhmHUAtOmTXv8+DFbGrEBv7sIi1gNNHNMxyGLlUbH0bw5RBrO6XK5PCUlhX19IGL30Q1vggsFkwxpaGhITk7WarUcqsQy2dnZUql04sSJGo0mISHBx8fnyZMn5mI3btzIy8tjXz1Hw+MuwgSagWaO5ftDdjvaqQ+RzJ2emZl59uxZ4t/ly5dnZ2dzqyEU7D66cergQsE8Q+7fvy+Xy/V6PSFw+fJlbjVkB71e/9FHH0ml0oyMjKysrNWrVw8NDZmL3bx5k/QMP3CRLoKEZqCZY/r8UE5OjlKpbGpqamlp2bx585UrV5KTk0NDQ+Pi4gAAMpls8eLFX375pfl8B/MVGxsbxWKxiZhCoaivr9+2bZvjZl7YjcFgWL169cuXL8PCwoRCYWtra0ZGxldffRUeHv7PP//odLqjR4+avHXRuaAZI7tXHMnBhYJ5hsycOfPIkSOenp4AgMHBwc8++yw3N5drNdlg9uzZAIAzZ87MmDGDa13Yg/ddhDnsBNp0HLLb0eYrnj59etSoUSZiVVVV7777rru7u+NMYgK/q4tmjOxecYQHFwr8zhCaEHOUY2NjefDGd1txqQRgLdCmzw+5u7urVCoAQFJSEunoy5cvW92QxRXNWbRokf3KOhidTtfU1BQbG8vXDKMZI7tXHMnBhQLvM4QmdXV1er0+Pj6ebHGR53ldLQHYC7TJdTriIaE1a9bYeoHP7hVHDkqlEgBw4cIFrhVxFK4cXCjwPkNokpubKxQK+/r6yJby8vLQ0FDit0gkOnPmDEeqORZXSwDWAm06lJkPgDThwSHSrVu3hEKhTCYjW5zOBGrsjhEPggsF3mcITWpqaubOnUvcFSOQSqUKhQIAgOM4hmEajYYz5RyJqyUAe4G2OgAaDIYdO3Zs3Lhxw4YNiYmJr1694nbkdBwxMTHz5883bnE6E6ixO0Y8CC4UeJ8hNPHz88vIyLD4F7+f53W1BGAt0KZDt/kASPMNWjw4RKqpqUlMTDRucToTqLE7RjwILhR4nyF06OjoEAgExucEJK2trbm5uXV1dSKRiH3FWMClEoDVQFsdAGm+QcvZD5Ha29vFYnFFRYXFf53CBKvYHSNnDy4UXCFDmMD753lRAhA4ItD/GYfsdjTFijx45QkPTMAZxIjfwYUC8oNGo3HB53lJXCcBHBRo6+/bJrDP0Tw4ROKBCdTYbSDvPUMT5Accx7/++mtPT08/Pz8/P7/x48fv3LmTa43Yw6USwEGBpjUO2edoHhwi8cAEauw2kPeeoQnyg4uDEgAKAqs3kHp6erKysgoKCjw8PAAAZWVlNO885efnK5VKf39/kUjk7e1dWVnJ6EYWF/DABGrsNpD3nqEJ8oOLgxIACqbv9TFnz549eXl5LvgGLQQCgUCwgPVxCIFAIBAIx2H9uhwCgUAgEI7j/wBLAjRs7fHnpQAAAABJRU5ErkJggg==\"></div>"
      ],
      "text/plain": [
       "FormBox[RowBox[{FractionBox[RowBox[{\"16\", \" \", SuperscriptBox[\"u\", \"5\"]}], \n",
       "\n",
       " \n",
       ">         RowBox[{SubsuperscriptBox[OverscriptBox[\"r\", \"^\"], \"2\", \"3\"], \" \", \n",
       "\n",
       " \n",
       ">           SuperscriptBox[SubscriptBox[OverscriptBox[\"r\", \"^\"], \"2\"], \"′\"]}]], \"-\", \n",
       "\n",
       " \n",
       ">        FractionBox[RowBox[{\"20\", \" \", SuperscriptBox[\"u\", \"3\"], \" \", \n",
       "\n",
       " \n",
       ">           SuperscriptBox[SubscriptBox[OverscriptBox[\"r\", \"^\"], \"2\"], \"′\"]}], \n",
       "\n",
       " \n",
       ">         SubsuperscriptBox[OverscriptBox[\"r\", \"^\"], \"2\", \"3\"]], \"-\", \n",
       "\n",
       " \n",
       ">        FractionBox[RowBox[{\"4\", \" \", \"u\", \" \", \n",
       "        SuperscriptBox[RowBox[{\"(\", \n",
       "\n",
       " \n",
       ">              SuperscriptBox[SubscriptBox[OverscriptBox[\"r\", \"^\"], \"2\"], \"′′\"], \")\"}], \n",
       "\n",
       " \n",
       ">            \"2\"]}], RowBox[{SubscriptBox[OverscriptBox[\"r\", \"^\"], \"2\"], \" \", \n",
       "\n",
       " \n",
       ">           SuperscriptBox[SubscriptBox[OverscriptBox[\"r\", \"^\"], \"2\"], \"′\"]}]], \"+\", \n",
       "\n",
       " \n",
       ">        FractionBox[RowBox[{\"14\", \" \", \"u\", \" \", \n",
       "\n",
       " \n",
       ">           SuperscriptBox[SubscriptBox[OverscriptBox[\"r\", \"^\"], \"2\"], \"′\"], \" \", \n",
       "\n",
       " \n",
       ">           SuperscriptBox[SubscriptBox[OverscriptBox[\"r\", \"^\"], \"2\"], \"′′\"]}], \n",
       "\n",
       " \n",
       ">         SubsuperscriptBox[OverscriptBox[\"r\", \"^\"], \"2\", \"2\"]], \"+\", \n",
       "\n",
       " \n",
       ">        FractionBox[RowBox[{\"4\", \" \", \"u\", \" \", \n",
       "\n",
       " \n",
       ">           SuperscriptBox[SubscriptBox[OverscriptBox[\"r\", \"^\"], \"2\"], \"′′′′\"]}], \n",
       "\n",
       " \n",
       ">         SuperscriptBox[SubscriptBox[OverscriptBox[\"r\", \"^\"], \"2\"], \"′\"]], \"-\", \n",
       "\n",
       " \n",
       ">        FractionBox[RowBox[{\"6\", \" \", \"u\", \" \", \n",
       "        SuperscriptBox[RowBox[{\"(\", \n",
       "\n",
       " \n",
       ">              SuperscriptBox[SubscriptBox[OverscriptBox[\"r\", \"^\"], \"2\"], \"′\"], \")\"}], \n",
       "\n",
       " \n",
       ">            \"3\"]}], SubsuperscriptBox[OverscriptBox[\"r\", \"^\"], \"2\", \"3\"]], \"-\", \n",
       "\n",
       " \n",
       ">        FractionBox[RowBox[{\"7\", \" \", \"u\", \" \", \n",
       "\n",
       " \n",
       ">           SuperscriptBox[SubscriptBox[OverscriptBox[\"r\", \"^\"], \"2\"], \"′′′\"]}], \n",
       "\n",
       " \n",
       ">         SubscriptBox[OverscriptBox[\"r\", \"^\"], \"2\"]]}], TraditionalForm]\n"
      ]
     },
     "execution_count": 263,
     "metadata": {
      "text/html": [],
      "text/plain": []
     },
     "output_type": "execute_result"
    }
   ],
   "source": [
    "(* Минус учтём сразу *)\n",
    "dJdr = Simplify[-dJdt/D[Subscript[OverHat[r], 2][OverHat[t]], OverHat[t]] //. OmegaReplace2];\n",
    "Expand[Simplify[dJdr]] // TraditionalForm"
   ]
  },
  {
   "cell_type": "markdown",
   "metadata": {},
   "source": [
    "<span style=\"color:brown\">**NB:**</span> Выражение для $dJ/dr$ <span style=\"color:green\">**сопадает**</span> с выраженем для интегранта из binary_catch3.pdf, если учесть деление на $\\hat{r}_2^{(1)}$"
   ]
  },
  {
   "cell_type": "markdown",
   "metadata": {
    "vscode": {
     "languageId": "wolfram"
    }
   },
   "source": [
    "Заменяя вхождение **всех** производных в выражении для $dJ/dr$, получим"
   ]
  },
  {
   "cell_type": "code",
   "execution_count": 265,
   "metadata": {
    "vscode": {
     "languageId": "wolfram"
    }
   },
   "outputs": [
    {
     "data": {
      "text/html": [
       "<div><img alt=\"Output\" src=\"data:image/png;base64,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\"></div>"
      ],
      "text/plain": [
       "FormBox[FractionBox[RowBox[{\"2\", \" \", \"u\", \" \", \n",
       "\n",
       " \n",
       ">         RowBox[{\"(\", RowBox[{RowBox[{\"9\", \" \", \n",
       "\n",
       " \n",
       ">               SubscriptBox[OverscriptBox[\"r\", \"^\"], \"2\"], \" \", \n",
       "\n",
       " \n",
       ">               SuperscriptBox[\"u\", \"2\"]}], \"+\", \n",
       "\n",
       " \n",
       ">             RowBox[{\"20\", \" \", SqrtBox[SubscriptBox[OverscriptBox[\"r\", \"^\"], \"2\"]]}], \n",
       "\n",
       " \n",
       ">             \"-\", RowBox[{\"15\", \" \", SuperscriptBox[\"u\", \"2\"]}]}], \")\"}]}], \n",
       "\n",
       " \n",
       ">       RowBox[{SubsuperscriptBox[OverscriptBox[\"r\", \"^\"], \"2\", RowBox[{\"5\", \"/\",\\\n",
       " \n",
       ">    \"2\"}]], \n",
       "      \" \", SqrtBox[RowBox[{RowBox[{SubscriptBox[OverscriptBox[\"r\", \"^\"],\\\n",
       " \n",
       ">    \"2\"], \" \", \n",
       "           SuperscriptBox[\"u\", \"2\"]}], \"+\", \n",
       "\n",
       " \n",
       ">            RowBox[{\"2\", \" \", SqrtBox[SubscriptBox[OverscriptBox[\"r\", \"^\"], \"2\"]]}],\\\n",
       " \n",
       ">    \"-\", \n",
       "         SuperscriptBox[\"u\", \"2\"]}]]}]], TraditionalForm]\n"
      ]
     },
     "execution_count": 265,
     "metadata": {
      "text/html": [],
      "text/plain": []
     },
     "output_type": "execute_result"
    }
   ],
   "source": [
    "dJdrFinal = Fold[ (* Последовательно применяем замены *)\n",
    "  Simplify[#1 /.\n",
    "    D[Subscript[OverHat[r], 2][OverHat[t]], {OverHat[t], #2}] -> dr2[[#2]]] &,\n",
    "  dJdr,\n",
    "  Range[5]\n",
    "];\n",
    "\n",
    "Simplify[dJdrFinal, {u ∈ Reals, u > 0}] // TraditionalForm"
   ]
  },
  {
   "cell_type": "markdown",
   "metadata": {},
   "source": [
    "$$\n",
    "  \\Delta \\hat{J}(u) = 4 \\epsilon_G \\int\\limits_{\\hat{r}_2^\\text{min}}^\\infty \\frac{u \\left(20\\sqrt{\\hat{r}_2} - 15u^2 + 9\\hat{r}_2 u^2\\right)}{\\hat{r}_2^{\\frac{5}{2}} \\sqrt{2\\sqrt{\\hat{r}_2} - u^2 + \\hat{r}_2 u^2}} \\, d\\hat{r}_2,\n",
    "$$\n",
    "где при $\\hat{r}_2 \\ge \\hat{r}_2^{\\text{min}}$ выражение $\\hat{r}_2u^2 + 2\\sqrt{\\hat{r}_2} - u^2 \\ge 0$.\n",
    "\n",
    "Полученный выше интеграл **компактнее**, чем тот, что рассмотрен в файле binary_catch3.pdf\n",
    "\n",
    "Смотри подробности в файле binary_catch_integral.ipynb\n",
    " \n",
    "Выпишем ответ:"
   ]
  },
  {
   "cell_type": "code",
   "execution_count": 267,
   "metadata": {
    "vscode": {
     "languageId": "wolfram"
    }
   },
   "outputs": [
    {
     "data": {
      "text/html": [
       "<div><img alt=\"Output\" src=\"data:image/png;base64,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\"></div>"
      ],
      "text/plain": [
       "FormBox[RowBox[{\"4\", \" \", SubscriptBox[\"ϵ\", \"G\"], \" \", \n",
       "\n",
       " \n",
       ">        RowBox[{\"(\", RowBox[{RowBox[{\"-\", \n",
       "\n",
       " \n",
       ">              RowBox[{RowBox[{\"2\"}], \" \", SuperscriptBox[\"u\", \"2\"]}]}], \"-\", \n",
       "\n",
       " \n",
       ">            FractionBox[\"15\", SuperscriptBox[\"u\", \"2\"]], \"-\", \n",
       "\n",
       " \n",
       ">            FractionBox[RowBox[{RowBox[{\"(\", \n",
       "\n",
       " \n",
       ">                 RowBox[{RowBox[{\"7\", \" \", SuperscriptBox[\"u\", \"4\"]}], \"+\", \"15\"}], \n",
       "\n",
       " \n",
       ">                 \")\"}], \" \", RowBox[{\"(\", \n",
       "              RowBox[{RowBox[{\"2\", \" \", \n",
       "\n",
       " \n",
       ">                     RowBox[{SuperscriptBox[\"tan\", RowBox[{\"-\", \"1\"}]], \"(\", \n",
       "\n",
       " \n",
       ">                       FractionBox[\"1\", SuperscriptBox[\"u\", \"2\"]], \")\"}]}], \"+\", \"π\"}],\\\n",
       " \n",
       ">    \n",
       "              \")\"}]}], RowBox[{\"2\", \" \", SuperscriptBox[\"u\", \"4\"]}]]}], \")\"}]}], \n",
       "\n",
       " \n",
       ">      TraditionalForm]\n"
      ]
     },
     "execution_count": 267,
     "metadata": {
      "text/html": [],
      "text/plain": []
     },
     "output_type": "execute_result"
    }
   ],
   "source": [
    "DeltaJ = 4*Subscript[\\[Epsilon], G]*(-15/u^2 - 2*u^2 - ((15 + 7*u^4)*(Pi + 2*ArcTan[u^(-2)]))/(2*u^4));\n",
    "DeltaJ // TraditionalForm"
   ]
  },
  {
   "cell_type": "code",
   "execution_count": 268,
   "metadata": {
    "vscode": {
     "languageId": "wolfram"
    }
   },
   "outputs": [
    {
     "data": {
      "text/html": [
       "<div>&#36;&#36;&#52;&#32;&#92;&#101;&#112;&#115;&#105;&#108;&#111;&#110;&#32;&#95;&#71;&#32;&#92;&#108;&#101;&#102;&#116;&#40;&#45;&#50;&#32;&#117;&#94;&#50;&#45;&#92;&#102;&#114;&#97;&#99;&#123;&#49;&#53;&#125;&#123;&#117;&#94;&#50;&#125;&#45;&#92;&#102;&#114;&#97;&#99;&#123;&#92;&#108;&#101;&#102;&#116;&#40;&#55;&#32;&#117;&#94;&#52;&#43;&#49;&#53;&#92;&#114;&#105;&#103;&#104;&#116;&#41;&#32;&#92;&#108;&#101;&#102;&#116;&#40;&#50;&#32;&#92;&#116;&#97;&#110;&#32;&#94;&#123;&#45;&#49;&#125;&#92;&#108;&#101;&#102;&#116;&#40;&#92;&#102;&#114;&#97;&#99;&#123;&#49;&#125;&#123;&#117;&#94;&#50;&#125;&#92;&#114;&#105;&#103;&#104;&#116;&#41;&#43;&#92;&#112;&#105;&#32;&#92;&#114;&#105;&#103;&#104;&#116;&#41;&#125;&#123;&#50;&#32;&#117;&#94;&#52;&#125;&#92;&#114;&#105;&#103;&#104;&#116;&#41;&#36;&#36;</div>"
      ],
      "text/plain": [
       "4 \\epsilon _G \\left(-2 u^2-\\frac{15}{u^2}-\\frac{\\left(7 u^4+15\\right) \\left(2 \\tan\\\n",
       " \n",
       ">   ^{-1}\\left(\\frac{1}{u^2}\\right)+\\pi \\right)}{2 u^4}\\right)"
      ]
     },
     "execution_count": 268,
     "metadata": {
      "text/html": [],
      "text/plain": []
     },
     "output_type": "execute_result"
    }
   ],
   "source": [
    "TeXForm[DeltaJ]"
   ]
  },
  {
   "cell_type": "markdown",
   "metadata": {},
   "source": [
    "## Время слияния\n",
    "\n",
    "$a = b/\\sqrt{1-e^2}$,\n",
    "\n",
    "$J = \\mu\\sqrt{GMa(1-e^2)} = \\mu\\sqrt{GMb}\\sqrt{\\frac{b}{a}}$\n",
    "\n",
    "$$\n",
    "  \\hat{J}_1 = u - 4 \\epsilon_G \\left(2 u^2+\\frac{15}{u^2}+\\frac{\\left(7 u^4+15\\right) \\left(2 \\tan ^{-1}\\left(\\frac{1}{u^2}\\right)+\\pi \\right)}{2 u^4}\\right) \\approx \\sqrt{\\frac{b}{a}} = \\hat{a}^{-1/2}\n",
    "$$\n",
    "Отсюда время, за которое расстояние между объектов уменьшится до нуля будет\n",
    "$$\n",
    "\\tau = \\frac{5}{8}\\frac{c^5}{G^3}\\frac{b^4}{\\mu M^2} \\frac{1}{\\hat{J}_1^8}\n",
    "$$"
   ]
  },
  {
   "cell_type": "code",
   "execution_count": null,
   "metadata": {
    "vscode": {
     "languageId": "wolfram"
    }
   },
   "outputs": [],
   "source": []
  }
 ],
 "metadata": {
  "kernelspec": {
   "display_name": "Wolfram Language 14.1",
   "language": "Wolfram Language",
   "name": "wolframlanguage14.1"
  },
  "language_info": {
   "codemirror_mode": "mathematica",
   "file_extension": ".m",
   "mimetype": "application/vnd.wolfram.m",
   "name": "Wolfram Language",
   "pygments_lexer": "mathematica",
   "version": "12.0"
  }
 },
 "nbformat": 4,
 "nbformat_minor": 2
}
