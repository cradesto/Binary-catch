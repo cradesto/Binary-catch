{
 "cells": [
  {
   "cell_type": "markdown",
   "metadata": {},
   "source": [
    "# Binary catch\n",
    "\n",
    "**При каких условиях два тела, налетающие друг на друга с бесконечности (в системе центра масс) станут связной системой из-за испускания гравволн?**"
   ]
  },
  {
   "cell_type": "code",
   "execution_count": 399,
   "metadata": {
    "vscode": {
     "languageId": "wolfram"
    }
   },
   "outputs": [
    {
     "name": "stdout",
     "output_type": "stream",
     "text": [
      "  (CleanSlate) Contexts purged: {Global`}\n",
      "  (CleanSlate) Approximate kernel memory recovered: 165 Kb\n"
     ]
    }
   ],
   "source": [
    "(* https://mathematica.stackexchange.com/questions/850/how-do-i-clear-all-user-defined-symbols/861#861 *)\n",
    "<< Utilities`CleanSlate`\n",
    "CleanSlate[];\n",
    "\n",
    "ClearAll[\"Global`*\"]\n",
    "(* ClearSystemCache[] *)\n",
    "(* https://mathematica.stackexchange.com/questions/111605/quit-vs-clearallglobal *)\n",
    "if[Length[Names[\"Global`*\"]] > 0, Remove[\"Global`*\"]];\n",
    "\n",
    "(* PacletInstall[\n",
    "    \"TensorSimplify\",\n",
    "\n",
    "    \"Site\" -> \"http://raw.githubusercontent.com/carlwoll/TensorSimplify/master\"\n",
    "]; *)\n",
    "<<TensorSimplify`"
   ]
  },
  {
   "cell_type": "markdown",
   "metadata": {},
   "source": [
    "## Einstein Summation"
   ]
  },
  {
   "cell_type": "code",
   "execution_count": 408,
   "metadata": {
    "vscode": {
     "languageId": "wolfram"
    }
   },
   "outputs": [],
   "source": [
    "ClearAll@EinsteinSummation\n",
    "\n",
    "EinsteinSummation[in_List, arrays_] := Module[\n",
    "  {res =\n",
    "    isum[in -> Cases[Tally @ Flatten @ in, {_, 1}][[All, 1]], arrays]},\n",
    "  res /; res =!= $Failed\n",
    "  ]\n",
    "\n",
    "EinsteinSummation[in_List -> out_, arrays_] := Module[\n",
    "  {res = isum[in -> out, arrays]},\n",
    "  res /; res =!= $Failed\n",
    "  ]\n",
    "\n",
    "isum[in_List -> out_, arrays_List] := Catch@Module[\n",
    "  {indices, contracted, uncontracted, contractions, transpose},\n",
    "  If[Length[in] != Length[arrays],\n",
    "    Message[EinsteinSummation::length, Length[in], Length[arrays]];\n",
    "    Throw[$Failed]];\n",
    "  MapThread[\n",
    "    If[IntegerQ@TensorRank[#1] && Length[#1] != TensorRank[#2],\n",
    "      Message[EinsteinSummation::shape, #1, #2];\n",
    "      Throw[$Failed]] &, {in, arrays}];\n",
    "  indices = Tally[Flatten[in, 1]];\n",
    "  If[DeleteCases[indices, {_, 1 | 2}] =!= {},\n",
    "    Message[EinsteinSummation::repeat,\n",
    "      Cases[indices, {x_, Except[1 | 2]} :> x]];\n",
    "    Throw[$Failed]];\n",
    "  uncontracted = Cases[indices, {x_, 1} :> x];\n",
    "  If[Sort[uncontracted] =!= Sort[out],\n",
    "    Message[EinsteinSummation::output, uncontracted, out];\n",
    "    Throw[$Failed]];\n",
    "  contracted = Cases[indices, {x_, 2} :> x];\n",
    "  contractions = Flatten[Position[Flatten[in, 1], #]] & /@ contracted;\n",
    "  transpose = FindPermutation[uncontracted, out];\n",
    "  Activate@\n",
    "    TensorTranspose[\n",
    "      TensorContract[Inactive[TensorProduct] @@ arrays, contractions],\n",
    "    transpose]]\n",
    "\n",
    "EinsteinSummation::length =\n",
    "  \"Number of index specifications (`1`) does not match the number of \\\n",
    "tensors (`2`)\";\n",
    "EinsteinSummation::shape =\n",
    "  \"Index specification `1` does not match the tensor rank of `2`\";\n",
    "EinsteinSummation::repeat =\n",
    "  \"Index specifications `1` are repeated more than twice\";\n",
    "EinsteinSummation::output =\n",
    "  \"The uncontracted indices don't match the desired output\";"
   ]
  },
  {
   "cell_type": "code",
   "execution_count": 416,
   "metadata": {
    "vscode": {
     "languageId": "wolfram"
    }
   },
   "outputs": [],
   "source": [
    "(* Правила для скрытия аргументов в TraditionalForm *)\n",
    "\n",
    "Unprotect[Subscript, OverHat, Derivative];\n",
    "\n",
    "MakeBoxes[OverHat[r_][OverHat[t]], TraditionalForm] :=\n",
    "  MakeBoxes[OverHat[r], TraditionalForm]\n",
    "\n",
    "MakeBoxes[\\[Phi][OverHat[t]], TraditionalForm] :=\n",
    "  MakeBoxes[\\[Phi], TraditionalForm]\n",
    "\n",
    "MakeBoxes[Subscript[OverHat[r], n_][OverHat[t]], TraditionalForm] :=\n",
    "  SubscriptBox[OverscriptBox[\"r\", \"^\"], ToString[n]];\n",
    "\n",
    "MakeBoxes[OverHat[\\[Omega]][OverHat[t]], TraditionalForm] :=\n",
    "  OverscriptBox[\"\\[Omega]\", \"^\"];\n",
    "\n",
    "MakeBoxes[Derivative[n_][f_][OverHat[t]], TraditionalForm] := Module[{primes},\n",
    "  primes = StringJoin[Table[\"\\[Prime]\", n]];\n",
    "  SuperscriptBox[ToBoxes[f], primes]\n",
    "];\n",
    "\n",
    "Protect[Subscript, OverHat, Derivative];"
   ]
  },
  {
   "cell_type": "markdown",
   "metadata": {},
   "source": [
    "$\\hat{r}_k$"
   ]
  },
  {
   "cell_type": "code",
   "execution_count": 425,
   "metadata": {
    "vscode": {
     "languageId": "wolfram"
    }
   },
   "outputs": [
    {
     "data": {
      "text/html": [
       "<div><img alt=\"Output\" src=\"data:image/png;base64,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\"></div>"
      ],
      "text/plain": [
       "FormBox[TagBox[RowBox[{\"(\", \"⁠\", \n",
       "\n",
       " \n",
       ">         TagBox[GridBox[{{RowBox[{OverscriptBox[\"r\", \"^\"], \" \", \n",
       "\n",
       " \n",
       ">               RowBox[{\"cos\", \"(\", \"ϕ\", \")\"}]}]}, \n",
       "\n",
       " \n",
       ">            {RowBox[{OverscriptBox[\"r\", \"^\"], \" \", RowBox[{\"sin\", \"(\", \"ϕ\", \")\"}]}]}}, \n",
       "\n",
       " \n",
       ">           Rule[RowSpacings, 1], Rule[ColumnAlignments, Center], \n",
       "\n",
       " \n",
       ">           Rule[ColumnAlignments, Left]], Column], \"⁠\", \")\"}], \n",
       "\n",
       " \n",
       ">       Function[BoxForm`e$, MatrixForm[BoxForm`e$]]], TraditionalForm]\n"
      ]
     },
     "execution_count": 425,
     "metadata": {
      "text/html": [],
      "text/plain": []
     },
     "output_type": "execute_result"
    }
   ],
   "source": [
    "rh = {OverHat[r][OverHat[t]]*Cos[\\[Phi][OverHat[t]]], OverHat[r][OverHat[t]]*Sin[\\[Phi][OverHat[t]]]};\n",
    "rh // MatrixForm // TraditionalForm"
   ]
  },
  {
   "cell_type": "code",
   "execution_count": 426,
   "metadata": {
    "vscode": {
     "languageId": "wolfram"
    }
   },
   "outputs": [],
   "source": [
    "$Assumptions = {\n",
    "  {OverHat[r][OverHat[t]], OverHat[t], rh, Subscript[OverHat[r],2][OverHat[t]]} \\[Element] PositiveReals\n",
    "};"
   ]
  },
  {
   "cell_type": "markdown",
   "metadata": {},
   "source": [
    "## Система движения в декартовых координатах\n",
    "$$\n",
    "\\frac{d^2r_k}{dt^2} = -\\frac{G(m_A+m_B)}{r^3}r_k - \\frac{2}{5}f_{ki}^{(5)}r_i\n",
    "$$\n",
    "\n",
    "Ч.Мизнер, К.Торн, Дж.Уилер Гравтация, Т.3, §36.8, стр. 222\n",
    "\n",
    "$f_{ki}$ - квадрупольный момент системы."
   ]
  },
  {
   "cell_type": "markdown",
   "metadata": {},
   "source": [
    "Введём обозначения для полноый и приведённой масс\n",
    "\n",
    "$$\n",
    "M=m_A+m_B; \\quad\n",
    "\\mu = m_{AB} = \\frac{m_A m_B}{M}\n",
    "$$"
   ]
  },
  {
   "cell_type": "markdown",
   "metadata": {},
   "source": [
    "### Безразмерные единицы\n",
    "$$\n",
    "\\begin{align}\n",
    "r &= b\\hat{r} \\\\\n",
    "t &= t_0\\hat{t} \\\\\n",
    "f_{ij} &= b^2\\frac{G}{c^5}\\mu\\hat{f}_{ij} \\\\\n",
    "f_{ij}^{(5)} &= \\frac{b^2}{t_0^5}\\frac{G}{c^5}\\mu\\hat{f}_{ij}^{(5)}\n",
    "\\end{align}\n",
    "$$"
   ]
  },
  {
   "cell_type": "markdown",
   "metadata": {},
   "source": [
    "$\\hat{f}_{ki}$"
   ]
  },
  {
   "cell_type": "code",
   "execution_count": 428,
   "metadata": {
    "vscode": {
     "languageId": "wolfram"
    }
   },
   "outputs": [
    {
     "data": {
      "text/html": [
       "<div><img alt=\"Output\" src=\"data:image/png;base64,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\"></div>"
      ],
      "text/plain": [
       "FormBox[TagBox[RowBox[{\"(\", \"⁠\", \n",
       "\n",
       " \n",
       ">         GridBox[{{RowBox[{FractionBox[\"1\", \"6\"], \" \", \n",
       "\n",
       " \n",
       ">              SuperscriptBox[OverscriptBox[\"r\", \"^\"], \"2\"], \" \", \n",
       "\n",
       " \n",
       ">              RowBox[{\"(\", RowBox[{RowBox[{\"3\", \" \", \n",
       "\n",
       " \n",
       ">                    RowBox[{\"cos\", \"(\", RowBox[{\"2\", \" \", \"ϕ\"}], \")\"}]}], \"+\",\\\n",
       " \n",
       ">    \"1\"}]\\\n",
       ", \")\"}]}], RowBox[{SuperscriptBox[OverscriptBox[\"r\", \"^\"], \"2\"], \" \", \n",
       "\n",
       " \n",
       ">              RowBox[{\"sin\", \"(\", \"ϕ\", \")\"}], \" \", RowBox[{\"cos\", \"(\", \"ϕ\", \")\"}]}]}, \n",
       "\n",
       " \n",
       ">           {RowBox[{SuperscriptBox[OverscriptBox[\"r\", \"^\"], \"2\"], \" \", \n",
       "\n",
       " \n",
       ">              RowBox[{\"sin\", \"(\", \"ϕ\", \")\"}], \" \", RowBox[{\"cos\", \"(\", \"ϕ\", \")\"}]}], \n",
       "\n",
       " \n",
       ">            RowBox[{FractionBox[\"1\", \"3\"], \" \", \n",
       "\n",
       " \n",
       ">              SuperscriptBox[OverscriptBox[\"r\", \"^\"], \"2\"], \" \", \n",
       "\n",
       " \n",
       ">              RowBox[{\"(\", RowBox[{RowBox[{\"3\", \" \", \n",
       "\n",
       " \n",
       ">                    RowBox[{SuperscriptBox[\"sin\", \"2\"], \"(\", \"ϕ\", \")\"}]}], \"-\", \"1\"}], \n",
       "\n",
       " \n",
       ">                \")\"}]}]}}, Rule[RowSpacings, 1], Rule[ColumnSpacings, 1], \n",
       "\n",
       " \n",
       ">          Rule[RowAlignments, Baseline], Rule[ColumnAlignments, Center]], \"⁠\", \")\"}], \n",
       "\n",
       " \n",
       ">       Function[BoxForm`e$, MatrixForm[BoxForm`e$]]], TraditionalForm]\n"
      ]
     },
     "execution_count": 428,
     "metadata": {
      "text/html": [],
      "text/plain": []
     },
     "output_type": "execute_result"
    }
   ],
   "source": [
    "fh = Simplify[Array[rh[[#]]*rh[[#2]] - 1/3*KroneckerDelta[#, #2]*(OverHat[r][OverHat[t]])^2 &, {2, 2}], Trig -> True];\n",
    "fh // MatrixForm // TraditionalForm"
   ]
  },
  {
   "cell_type": "markdown",
   "metadata": {},
   "source": [
    "$\\hat{f}_{ki}^{(5)}$"
   ]
  },
  {
   "cell_type": "code",
   "execution_count": 432,
   "metadata": {
    "vscode": {
     "languageId": "wolfram"
    }
   },
   "outputs": [
    {
     "data": {
      "text/html": [
       "<div><img alt=\"Output\" src=\"data:image/png;base64,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\"></div>"
      ],
      "text/plain": [
       "FormBox[TagBox[RowBox[{\"(\", \"⁠\", \n",
       "\n",
       " \n",
       ">         GridBox[{{TemplateBox[List[SubscriptBox[OverscriptBox[\"f\", \"^\"], \n",
       "\n",
       " \n",
       ">               RowBox[List[\"x\", \",\", \"x\"]]], \"\\\"(5)\\\"\"], \"Superscript\", \n",
       "\n",
       " \n",
       ">             Rule[SyntaxForm, SuperscriptBox]], \n",
       "\n",
       " \n",
       ">            TemplateBox[List[SubscriptBox[OverscriptBox[\"f\", \"^\"], \n",
       "\n",
       " \n",
       ">               RowBox[List[\"x\", \",\", \"y\"]]], \"\\\"(5)\\\"\"], \"Superscript\", \n",
       "\n",
       " \n",
       ">             Rule[SyntaxForm, SuperscriptBox]]}, \n",
       "\n",
       " \n",
       ">           {TemplateBox[List[SubscriptBox[OverscriptBox[\"f\", \"^\"], \n",
       "\n",
       " \n",
       ">               RowBox[List[\"x\", \",\", \"y\"]]], \"\\\"(5)\\\"\"], \"Superscript\", \n",
       "\n",
       " \n",
       ">             Rule[SyntaxForm, SuperscriptBox]], \n",
       "\n",
       " \n",
       ">            TemplateBox[List[SubscriptBox[OverscriptBox[\"f\", \"^\"], \n",
       "\n",
       " \n",
       ">               RowBox[List[\"y\", \",\", \"y\"]]], \"\\\"(5)\\\"\"], \"Superscript\", \n",
       "\n",
       " \n",
       ">             Rule[SyntaxForm, SuperscriptBox]]}}, Rule[RowSpacings, 1], \n",
       "\n",
       " \n",
       ">          Rule[ColumnSpacings, 1], Rule[RowAlignments, Baseline], \n",
       "\n",
       " \n",
       ">          Rule[ColumnAlignments, Center]], \"⁠\", \")\"}], \n",
       "\n",
       " \n",
       ">       Function[BoxForm`e$, MatrixForm[BoxForm`e$]]], TraditionalForm]\n"
      ]
     },
     "execution_count": 432,
     "metadata": {
      "text/html": [],
      "text/plain": []
     },
     "output_type": "execute_result"
    }
   ],
   "source": [
    "(* fh5 = Array[Superscript[Subscript[OverHat[f], {x, y}[[#1]], {x, y}[[#2]]], \"(5)\"] &, {2, 2}] *)\n",
    "(* Symmetric version *)\n",
    "fh5 = Array[If[#1 <= #2,\n",
    "                    Superscript[Subscript[OverHat[f], {x, y}[[#1]], {x, y}[[#2]]], \"(5)\"],\n",
    "                    Superscript[Subscript[OverHat[f], {x, y}[[#2]], {x, y}[[#1]]], \"(5)\"]] &, {2, 2}];\n",
    "fh5 // MatrixForm // TraditionalForm"
   ]
  },
  {
   "cell_type": "markdown",
   "metadata": {},
   "source": [
    "$\\hat{f}_{ki}^{(5)}\\hat{r}_i$"
   ]
  },
  {
   "cell_type": "code",
   "execution_count": 434,
   "metadata": {
    "vscode": {
     "languageId": "wolfram"
    }
   },
   "outputs": [
    {
     "data": {
      "text/html": [
       "<div><img alt=\"Output\" src=\"data:image/png;base64,iVBORw0KGgoAAAANSUhEUgAAAOwAAAA6CAIAAAA81iJxAAAAznpUWHRSYXcgcHJvZmlsZSB0eXBlIGV4aWYAAHjabU/bDQMhDPtnio4QkuDAONyVSt2g4zccUSuqWiI2zgvSeD0f6TbBmZIWq2gAObRp4+6i0sLiTO2KF8YZubz7SXr43a3yTWCEf+y+YTHXn0HES8jc4Fo0GmKQ8PJzLDyinnut+yChDaDP0//eVYxRkE09KpMZmuuaXDqhMBXDAyfghRl3Jj2dB8y8DTYrpM/GCR62V48EceM+vyDzFOnO4jEL83Sy6yLNo4ryEdnrI+kN2Z1bFKGdK0IAAAAJcEhZcwAADsQAAA7EAZUrDhsAAAA8dEVYdFNvZnR3YXJlAENyZWF0ZWQgd2l0aCB0aGUgV29sZnJhbSBMYW5ndWFnZSA6IHd3dy53b2xmcmFtLmNvbVyipoUAAAAhdEVYdENyZWF0aW9uIFRpbWUAMjAyNTowMzoxMiAyMTo1OTo0NFVMWY4AAA94SURBVHic7Z1pUFNXG8efBAzUiiAEBikQHdq0YhEYFgUVQUagZboIsrh0EQpFi9S2jAVqYYRiq9gWpI7DMs4UENpSZbpIXaAiA9WiZVFSQBBS9rIGJCwh5LwfjuZNk5sQQhYS8/90z3LPOfeXh+Tcc8/9Q0IIgVaP5ejo2NXVRSKRAKCkpGTLli2qHpEmSNFUyfJtTvn6/PPPDQ0N6+vr5dKavb390NDQ4ODg4ODgEx7BcgSraKr/CeKGhoby8nK596E4VVZW3r59u7S09KOPPnr48KHM7dTW1t67dw8AqFSqYH5NTU1ra+tiR6mGki9YIaqwCLC1tbU3btwQzkWPde3ataioKKRWKi4unpubQwj19fVVVFTI1sjw8HBKSgpCiMfj+fv7p6WlBQUFBQQEjI6OIoTi4uJmZmbkOGa1kBzBElJFiwD7ySefFBUVCeY8CuLBwcGtW7ey2WzZhqtCZWVlhYWFrVu37v333+fxeDK0kJ2d/dtvvyGEeDxeW1sbzvTy8oqNjRUsVaYmJyfXrVt36NAhJfcrKHmBJaSKFgGWy+X6+Pi0trbycx5NJ2JjY4ODg5cvXy7DN7wKdfHixVOnTuXk5GRmZl6+fHliYkKGRphMprm5OQCQSCQbGxuc6ejo2NTUBADm5uYdHR2EJ8p3Oi6o2dnZ4eHhwcFBubcspeQIlpAqLAKsjo5OVFRUVFQUP4cMAIODg0VFRSEhITIMVF7i8XgynJWcnLxz504ymezt7d3c3GxgYCBDIwYGBmw2GwC+//77EydO4My//vpr06ZNAMBmswmbldeskVArV67s6ekpKiqSS2sysJUjWEKqsDiw/v7+tbW1d+/exUkyAFy+fNnT09PU1FSGgS5Uc3Nz6enp3d3dgpkuLi6lpaWCOXV1dQUFBZKbunbtWkNDg6+v7yKHtHXrVgaDAQDu7u7V1dXx8fGpqal2dnaxsbEA0NTUtHnzZtGzBgYGfvzxRzc3t4KCgtra2kWOQVS6urrT09PS1ycECyJslQ+WkCosDiyFQtm5c+f/rwshtHv37iNHjoibglRXVwcEBERERKxfv/7ll19mMBg4v7W19fXXXw8ICNi7d6+3t/dPP/3EP4XJZAYFBYWEhHh7e+/YsaOrq4tftH///oaGBsH2e3p69PX1RafjRUVFJ0+eJBwSh8PZs2fPmjVrSCRSSEhIaGjo33//Le2UikgZGRkcDkc0f3x8PDs7m/CU5ORkb29vMzOzoaGhffv2UanUnp4eGboWZcVisUJCQqysrEJDQxFCY2NjYWFhL7zwQmpq6s2bN3ft2kWlUul0utCEUhQsEsNWM8BmZGR4eHjgY0AImZubZ2VlEbZYVlZGoVAuXbqEEBodHaVSqc7Ozgihzs7OFStWHDx4EFe7dOkSAOTl5eGkm5tbfHw8Pvb19a2qqsLHhYWF4eHhQl0UFRX5+fkR9r5p06a6ujrCIoTQtm3b6HS6uNIFaW5uTvBGga+WlhZxp3C53Ndee83b2zsuLu7o0aOBgYGEnxZCKCsrq7GxUVw7hKzGxsYoFAoOYoTQ1NQUhUIxMzM7evQoi8UaGBh48cUXjY2NJycncQVCsEg8Ww0A++uvv+IfK4QQzM3NkclkcfeJbm5utra2/GRFRcUvv/yCEDpw4AAA/PPPP/yiDRs20Gg0hNDs7CyZTE5NTeWfwh8x/mnjn1JeXv7pp5+6urr6+Pi89NJLvb29Qr0fP378nXfeEXe1RkZG+/btE1eqBDk6Ojo6Okr4PLDefffd69evExZJYGVkZMQPYpx0cnLiJ7/88ksAqK+vx0khsGg+thoAFk+Iu7u7EUIwNDQEAJWVlaL18O3Orl27RItcXFyMjY0Fc9544w0AGBwcRAht3LhRR0cnNDRUsNmBgQEAGBoawsm8vLy9e/fyeDw7OzsmkxkfHx8UFCTUS1lZmYWFBeE14BvbzMxMCdepULHZbF1dXdExi0pCECMxrBBREIeEhPCT+fn5AIC/toXAIinYagDYBw8eAACeQemOjIwAwFNPPSU6fe7r6wMAwlvIvr4+IyMjwZxVq1YBQG9vL5VKvXjxYlJS0rfffvvdd99t2bLlwoULZmZmXV1dOjo6xsbGANDZ2RkdHc1gMMbGxkgkEo1Go9PpJSUlQr1QqdT+/n4ul6urqytUhNdfXF1dCSf+StCdO3e4XG5oaChhKULoypUr+Lirq6umpgbfpZmbmzs4OAjWJGRF2CbeeyB6LAgWpGOrvmD5whGLo5c8PDwMYoIYr1f8+++/okWrV68eGxsTzGGxWABgYWHB4XBWrVqVk5PT1tYWERFRVVWVmJgIAFwud9myZZh+fn7++vXrLS0t//jjDz8/PwDo6Oig0+lCvejp6fF4PMIVovr6egqFYm9vL/lSFaebN2/q6ur6+PgQliKELj8WDmJ8LLT2KY7VgiQIFqRjq75g+cIRi6P30TqOjo6OaL2VK1fSaLTKysqpqSl+lKenpx8+fNjZ2fn27dtdXV1WVlY4v6GhwdramkqlNjc3nz17NiMjw9raOjs7u7GxsaWlBQBMTU2np6c5HA6FQmlvb8cnVlVV+fv783i84uLir776SmgA4+PjhoaGFApFdGz19fUODg56enoL4SNP3bp1y9nZecWKFYSlZDI5PT0dH0dFRYWGhnp6eopWa29vJ2S1IAmCxW3Oy1Z9wfKFf0OmpqZg3l1sSUlJExMTERERLBZrcnLyzJkzvb29ABAXF/f000+npaXhaleuXGloaEhJSQEAExOT3Nzczs5OAODxeL29vV5eXgBgbW1tbGyMp1x0Ov3+/fsAgNcRT58+7eXlhb82BMVkMsV9JdTX16vwJw8Abt26RRiXC5I4Vjgp+E0plJybm4PHTzEEwYJ0bDUN7PXr1wGgqalJ3Ay6sLDQycnJyMjo2WefTUpKwvtCEEItLS2vvvpqcHDwm2++6e3tXVJSgvN5PN4XX3zh5ub21ltv+fr6JiQk8JdI9u/fn5ubixCamJgIDg6OjIx0dXU9duxYZmYm4dP5mJiYjIwM0fzR0VEAOH/+vGhRY2NjREREWFjY9PR0aGio0F225FLpxWQyLSwsfv/9d2kqS7ixI2TV3d0dGRkJACYmJomJiUJJhFBxcbGTkxMAbN++vaysDAmARdKxlS/YiYmJxMREGo2GN/QcOnQoJydHGjKikh4sfpiXn5+PEJo/iOUoJpO5fft2/p9BZWXlDz/8IK7y8PCwh4fH1NSUaFFFRQU8Xl4RVXt7u6Wl5TfffDM+Pi66T0pyqZpKCCySyFYRYHk8npGR0YMHDxBCzs7O9+/fl/1ipJNgECt1UzyNRktJSeHPz2pra8U92+RwOCdPnszLy9PX1xctra+vt7Oze+aZZwjPXbt2rZ6eno2NjYGBgei0T3KpmkoILIhnqyCwJBKJTqf39fX19/e7uLg899xzi7ughUnZb3a4u7sHBQXhWeCyZctWrlxJWK25uTkhIYFGowlmjo6O+vn59ff337lz57333hPXBYvF0tXVxeuDCy1VXwmCBfFsFQfWyspqZGQkLy/v2LFji7gOWaSC15NoNJq1tTUAHDx4UFydDRs2iH4Genp6MzMzAQEBFhYWERERomexWCw2m3327NkPP/ywvLy8q6urpaWFw+GsXbu2s7OTsFS+l6Za8cGCeLaKAIvrrF69+u7duyYmJsrZSfYfKXNOrGglJyc7OTkxGIzR0VE7O7vjx4/jfAcHh5qaGnGlWs0ryWDxcWJi4saNG7lcrnKGpLIbO5VofHxcta9IaKqEwEZGRl69elVpvavsxk4levjwId4uo5V8xQdbU1PD5XKpVOqOHTtUMhLhR+eaJwsLC1UPQTOFwfJ4vD179jg7O585c0ZVI9H8INZKoSKTyW1tbSoeg2q710qrxUsbxFqpvbRBrJXaSxvEWqm9tEGsldpLG8Raqb20QfwfOTo6UqlUU1NTU1PTqqoqVQ9HQ6RoqmofxFp/YgVJXf2J1U5af2IFSS5gxVEFeYNV7yDGvl2bN28+f/68zIZoIyMjpaWldnZ2CKHm5uZTp04FBwcHBgayWCxXV9dz585xOBz5Dnvpa/FgJVAFADmD1fhdbPNqCfoTa4AkU0WLBqtRu9iys7PDw8NtbW0PHz6MZPonOkvQn3hqasrW1jYmJkbuLUuvRYKVTBXkCla9g1guXtBL0J9YA0y2JVMF+YJdOtMJwZd1pZS9vb0EU1opVVVVhU1BOzs7X3nllbi4uM8++yw6Ohq/D5yYmNje3i56llz+q4UEzc7OyqsplYCVTBUtGqwq3+zgcrlff/21oGMxlrOzM/bbxKqtrcXjk6CrV68CQHl5+eJHJYONLtbc3Jxs/89CGhG+VS9OSxCsOKpIHmAXFsSKNtlGS8ALWgYbXa3J9rwSRxXJA+wCglgJJttoCXhByyCtybaCJCXY/wQxNn0RF8QKNdlGT4AXNNKabC9c0oDFQVxQUIAQgpqaGgC4d++eaD2FmmyjJ8MLGmlNthcoKcFiZ2LsAKiLzZmxRaaQFGeyDZruBY20JtuySkqTbRyx+KrJJiYmICaIFWeyDZruBY20JtuySkqTbRyxOHp1DQ0NdXR0CFeVFWeyDZruBa012ZZZUpps44jFQUwmkUiWlpbiHgAqyGQbFOYFzWAwIiMjw8PDZ2Zmdu/ejWfqfLHZ7KSkpDVr1uCtJzExMbm5uZJhidMTZbItmZscqYLUYDs6OvT19XEQA0IoPDwcPx8nlCJMtpHCvKDRfA7EcnHSfQJNtiVzk5c/sfRg09LS+KuHgBC6cOGCu7u7bL0uSMrxgkYI2djYSNgh5erqWlVV1dfXd+DAgYUMf+lKOWAlc1My1eDg4NOnT+NjQAiNj4/r6ekxmUwl9F1dXZ2WlsZPpqenj42NiVabmZn5+OOPxQ0pPT0db1Ql1Ojo6PPPP3/u3DlxFQIDA3/++ecTJ04MDAwsZOxLWkoAK5mbMqmOj48vX76cv8OTDAAGBgYffPBBYWGhzPMY6aVQL2hpbHRBtU66CpMSTLaFuKnQn7ikpCQwMJC/wxNwLE9OTnp4eCzxbyY2m+3p6enm5nbkyBHCnVnS2OgipTvpLn3NCxZLlJtK/InZbPa2bdvwYzUs4B8xGIy3335b8z5aUX9iJTvpaoyEuKnKnzg6Orq6ulowBwQTfX19N27cUMI4lKmenh7+8siff/45OzubkJCg2iGpnQi58cEqk2pdXZ3o0gcJyfRKjzqKx+PR6XTspPtofVErKSSZ21Kg+gQFsVaaqv8BDlAnHD/FlY4AAAAASUVORK5CYII=\"></div>"
      ],
      "text/plain": [
       "FormBox[TagBox[RowBox[{\"(\", \"⁠\", \n",
       "\n",
       " \n",
       ">         TagBox[GridBox[{{RowBox[{RowBox[{OverscriptBox[\"r\", \"^\"], \" \", \n",
       "\n",
       " \n",
       ">                 RowBox[{\"sin\", \"(\", \"ϕ\", \")\"}], \" \", \n",
       "\n",
       " \n",
       ">                 TemplateBox[List[SubscriptBox[OverscriptBox[\"f\", \"^\"], \n",
       "\n",
       " \n",
       ">                    RowBox[List[\"x\", \",\", \"y\"]]], \"\\\"(5)\\\"\"], \"Superscript\", \n",
       "\n",
       " \n",
       ">                  Rule[SyntaxForm, SuperscriptBox]]}], \"+\", \n",
       "\n",
       " \n",
       ">               RowBox[{OverscriptBox[\"r\", \"^\"], \" \", RowBox[{\"cos\", \"(\", \"ϕ\", \")\"}], \n",
       "\n",
       " \n",
       ">                 \" \", TemplateBox[List[SubscriptBox[OverscriptBox[\"f\", \"^\"], \n",
       "\n",
       " \n",
       ">                    RowBox[List[\"x\", \",\", \"x\"]]], \"\\\"(5)\\\"\"], \"Superscript\", \n",
       "\n",
       " \n",
       ">                  Rule[SyntaxForm, SuperscriptBox]]}]}]}, \n",
       "\n",
       " \n",
       ">            {RowBox[{RowBox[{OverscriptBox[\"r\", \"^\"], \" \", \n",
       "\n",
       " \n",
       ">                 RowBox[{\"cos\", \"(\", \"ϕ\", \")\"}], \" \", \n",
       "\n",
       " \n",
       ">                 TemplateBox[List[SubscriptBox[OverscriptBox[\"f\", \"^\"], \n",
       "\n",
       " \n",
       ">                    RowBox[List[\"x\", \",\", \"y\"]]], \"\\\"(5)\\\"\"], \"Superscript\", \n",
       "\n",
       " \n",
       ">                  Rule[SyntaxForm, SuperscriptBox]]}], \"+\", \n",
       "\n",
       " \n",
       ">               RowBox[{OverscriptBox[\"r\", \"^\"], \" \", RowBox[{\"sin\", \"(\", \"ϕ\", \")\"}], \n",
       "\n",
       " \n",
       ">                 \" \", TemplateBox[List[SubscriptBox[OverscriptBox[\"f\", \"^\"], \n",
       "\n",
       " \n",
       ">                    RowBox[List[\"y\", \",\", \"y\"]]], \"\\\"(5)\\\"\"], \"Superscript\", \n",
       "\n",
       " \n",
       ">                  Rule[SyntaxForm, SuperscriptBox]]}]}]}}, Rule[RowSpacings, 1], \n",
       "\n",
       " \n",
       ">           Rule[ColumnAlignments, Center], Rule[ColumnAlignments, Left]], Column], \"⁠\",\\\n",
       " \n",
       ">    \n",
       "      \")\"}], Function[BoxForm`e$, MatrixForm[BoxForm`e$]]], TraditionalForm]\n"
      ]
     },
     "execution_count": 434,
     "metadata": {
      "text/html": [],
      "text/plain": []
     },
     "output_type": "execute_result"
    }
   ],
   "source": [
    "fh5rh = EinsteinSummation[{{k, i}, {i}}, {fh5, rh}];\n",
    "fh5rh // MatrixForm // TraditionalForm"
   ]
  },
  {
   "cell_type": "markdown",
   "metadata": {},
   "source": [
    "Система движения в безразмерной записи будет выглядеть как"
   ]
  },
  {
   "cell_type": "markdown",
   "metadata": {},
   "source": [
    "$$\n",
    "\\frac{d^2\\hat{r}_k}{d\\hat{t}^2} = -\\frac{t_0^2}{b^3}\\frac{GM}{\\hat{r}^3}\\hat{r}_k - \\frac{2}{5}\\frac{b^2}{t_0^3}\\frac{G}{c^5}\\mu\\hat{f}_{ki}^{(5)}\\hat{r}_i\n",
    "$$"
   ]
  },
  {
   "cell_type": "markdown",
   "metadata": {},
   "source": [
    "Пусть $t_0 = \\sqrt{\\frac{b^3}{GM}}$, а $b$ - прицельное расстояние, тогда система движения перепишется как\n",
    "\n",
    "$$\n",
    "\\frac{d^2\\hat{r}_k}{d\\hat{t}^2} + \\frac{\\hat{r}_k}{\\hat{r}^3} = - \\epsilon_G\\hat{f}_{ki}^{(5)}\\hat{r}_i\\quad,\n",
    "$$\n",
    "или\n",
    "$$\n",
    "\\hat{r}_k^{(2)} + \\frac{\\hat{r}_k}{\\hat{r}^3} = - \\epsilon_G\\hat{f}_{ki}^{(5)}\\hat{r}_i\\quad,\n",
    "$$\n",
    "\n",
    "где безразмерная постоянная $\\epsilon_G = \\frac{2}{5}\\frac{b^2}{t_0^3}\\frac{G}{c^5}\\mu = \\frac{2}{5}\\frac{\\mu}{M} \\left( \\frac{GM}{bc^2} \\right)^{\\frac{5}{2}}$.\n",
    "\n",
    "Заметим, что $f_{ij}^{(5)} = \\frac{5}{2}\\frac{\\epsilon_G}{t_0^2}\\hat{f}_{ij}^{(5)}$"
   ]
  },
  {
   "cell_type": "markdown",
   "metadata": {},
   "source": [
    "## Переход к полярным координатам от декартовых\n",
    "Повернём систему с помощью матрицы вращения $R_{ij}(\\phi)$ на угол $\\phi$ по **часовой** стрелке"
   ]
  },
  {
   "cell_type": "code",
   "execution_count": 435,
   "metadata": {
    "vscode": {
     "languageId": "wolfram"
    }
   },
   "outputs": [
    {
     "data": {
      "text/html": [
       "<div><img alt=\"Output\" src=\"data:image/png;base64,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\"></div>"
      ],
      "text/plain": [
       "FormBox[TagBox[RowBox[{\"(\", \"⁠\", \n",
       "\n",
       " \n",
       ">         GridBox[{{RowBox[{\"cos\", \"(\", \"ϕ\", \")\"}], RowBox[{\"sin\", \"(\", \"ϕ\", \")\"}]}, \n",
       "\n",
       " \n",
       ">           {RowBox[{\"-\", RowBox[{\"sin\", \"(\", \"ϕ\", \")\"}]}], \n",
       "\n",
       " \n",
       ">            RowBox[{\"cos\", \"(\", \"ϕ\", \")\"}]}}, Rule[RowSpacings, 1], \n",
       "\n",
       " \n",
       ">          Rule[ColumnSpacings, 1], Rule[RowAlignments, Baseline], \n",
       "\n",
       " \n",
       ">          Rule[ColumnAlignments, Center]], \"⁠\", \")\"}], \n",
       "\n",
       " \n",
       ">       Function[BoxForm`e$, MatrixForm[BoxForm`e$]]], TraditionalForm]\n"
      ]
     },
     "execution_count": 435,
     "metadata": {
      "text/html": [],
      "text/plain": []
     },
     "output_type": "execute_result"
    }
   ],
   "source": [
    "RotationMatrix[-\\[Phi]] // MatrixForm // TraditionalForm"
   ]
  },
  {
   "cell_type": "markdown",
   "metadata": {},
   "source": [
    "#### LHS системы после поворота"
   ]
  },
  {
   "cell_type": "code",
   "execution_count": 437,
   "metadata": {
    "vscode": {
     "languageId": "wolfram"
    }
   },
   "outputs": [
    {
     "data": {
      "text/html": [
       "<div><img alt=\"Output\" src=\"data:image/png;base64,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\"></div>"
      ],
      "text/plain": [
       "FormBox[TagBox[RowBox[{\"(\", \"⁠\", \n",
       "      TagBox[GridBox[{{RowBox[{RowBox[{\"-\", \n",
       "\n",
       " \n",
       ">                 RowBox[{\"2\", \" \", SuperscriptBox[OverscriptBox[\"r\", \"^\"], \"′\"], \n",
       "\n",
       " \n",
       ">                   \" \", SuperscriptBox[\"ϕ\", \"′\"], \" \", \n",
       "\n",
       " \n",
       ">                   RowBox[{\"sin\", \"(\", \"ϕ\", \")\"}]}]}], \"+\", \n",
       "\n",
       " \n",
       ">               RowBox[{OverscriptBox[\"r\", \"^\"], \" \", \n",
       "\n",
       " \n",
       ">                 RowBox[{\"(\", RowBox[{RowBox[{SuperscriptBox[RowBox[\n",
       "\n",
       " \n",
       ">                         {\"(\", SuperscriptBox[\"ϕ\", \"′\"], \")\"}], \"2\"], \" \", \n",
       "\n",
       " \n",
       ">                       RowBox[{\"(\", \n",
       "\n",
       " \n",
       ">                         RowBox[{\"-\", RowBox[{\"cos\", \"(\", \"ϕ\", \")\"}]}], \")\"}]}], \n",
       "\n",
       " \n",
       ">                     \"-\", RowBox[{SuperscriptBox[\"ϕ\", \"′′\"], \" \", \n",
       "\n",
       " \n",
       ">                       RowBox[{\"sin\", \"(\", \"ϕ\", \")\"}]}]}], \")\"}]}], \"+\", \n",
       "\n",
       " \n",
       ">               RowBox[{SuperscriptBox[OverscriptBox[\"r\", \"^\"], \"′′\"], \" \", \n",
       "\n",
       " \n",
       ">                 RowBox[{\"cos\", \"(\", \"ϕ\", \")\"}]}], \"+\", \n",
       "\n",
       " \n",
       ">               FractionBox[RowBox[{\"cos\", \"(\", \"ϕ\", \")\"}], \n",
       "\n",
       " \n",
       ">                SuperscriptBox[OverscriptBox[\"r\", \"^\"], \"2\"]]}]}, \n",
       "\n",
       " \n",
       ">            {RowBox[{RowBox[{\"2\", \" \", SuperscriptBox[OverscriptBox[\"r\", \"^\"], \"′\"], \n",
       "\n",
       " \n",
       ">                 \" \", SuperscriptBox[\"ϕ\", \"′\"], \" \", RowBox[{\"cos\", \"(\", \"ϕ\",\\\n",
       " \n",
       ">    \")\"}]}]\\\n",
       ", \"+\", RowBox[{OverscriptBox[\"r\", \"^\"], \" \", \n",
       "\n",
       " \n",
       ">                 RowBox[{\"(\", RowBox[{RowBox[{SuperscriptBox[\"ϕ\", \"′′\"], \" \", \n",
       "\n",
       " \n",
       ">                       RowBox[{\"cos\", \"(\", \"ϕ\", \")\"}]}], \"-\", \n",
       "\n",
       " \n",
       ">                     RowBox[{SuperscriptBox[RowBox[{\"(\", \n",
       "\n",
       " \n",
       ">                          SuperscriptBox[\"ϕ\", \"′\"], \")\"}], \"2\"], \" \", \n",
       "\n",
       " \n",
       ">                       RowBox[{\"sin\", \"(\", \"ϕ\", \")\"}]}]}], \")\"}]}], \"+\", \n",
       "\n",
       " \n",
       ">               RowBox[{SuperscriptBox[OverscriptBox[\"r\", \"^\"], \"′′\"], \" \", \n",
       "\n",
       " \n",
       ">                 RowBox[{\"sin\", \"(\", \"ϕ\", \")\"}]}], \"+\", \n",
       "\n",
       " \n",
       ">               FractionBox[RowBox[{\"sin\", \"(\", \"ϕ\", \")\"}], \n",
       "\n",
       " \n",
       ">                SuperscriptBox[OverscriptBox[\"r\", \"^\"], \"2\"]]}]}}, \n",
       "\n",
       " \n",
       ">           Rule[RowSpacings, 1], Rule[ColumnAlignments, Center], \n",
       "\n",
       " \n",
       ">           Rule[ColumnAlignments, Left]], Column], \"⁠\", \")\"}], \n",
       "\n",
       " \n",
       ">       Function[BoxForm`e$, MatrixForm[BoxForm`e$]]], TraditionalForm]\n"
      ]
     },
     "execution_count": 437,
     "metadata": {
      "text/html": [],
      "text/plain": []
     },
     "output_type": "execute_result"
    }
   ],
   "source": [
    "LHSMotion = D[rh, {OverHat[t], 2}] + Simplify[rh / Norm[rh]^3];\n",
    "LHSMotion // MatrixForm // TraditionalForm"
   ]
  },
  {
   "cell_type": "code",
   "execution_count": 438,
   "metadata": {
    "vscode": {
     "languageId": "wolfram"
    }
   },
   "outputs": [
    {
     "data": {
      "text/html": [
       "<div><img alt=\"Output\" src=\"data:image/png;base64,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\"></div>"
      ],
      "text/plain": [
       "FormBox[TagBox[RowBox[{\"(\", \"⁠\", \n",
       "      TagBox[GridBox[{{RowBox[{RowBox[{\"-\", \n",
       "\n",
       " \n",
       ">                 RowBox[{RowBox[{OverscriptBox[\"r\", \"^\"]}], \" \", \n",
       "\n",
       " \n",
       ">                   SuperscriptBox[RowBox[{\"(\", SuperscriptBox[\"ϕ\", \"′\"], \")\"}], \n",
       "\n",
       " \n",
       ">                    \"2\"]}]}], \"+\", SuperscriptBox[OverscriptBox[\"r\", \"^\"], \"′′\"], \n",
       "\n",
       " \n",
       ">               \"+\", FractionBox[\"1\", SuperscriptBox[OverscriptBox[\"r\", \"^\"],\\\n",
       " \n",
       ">    \"2\"]]}]}\\\n",
       ", {RowBox[{RowBox[{OverscriptBox[\"r\", \"^\"], \" \", SuperscriptBox[\"ϕ\",\\\n",
       " \n",
       ">    \"′′\"]}], \"+\", \n",
       "            RowBox[{\"2\", \" \", SuperscriptBox[OverscriptBox[\"r\",\\\n",
       " \n",
       ">    \"^\"], \"′\"], \" \", \n",
       "              SuperscriptBox[\"ϕ\", \"′\"]}]}]}}, Rule[RowSpacings,\\\n",
       " \n",
       ">    1], \n",
       "        Rule[ColumnAlignments, Center], Rule[ColumnAlignments, Left]],\\\n",
       " \n",
       ">    Column], \"⁠\", \n",
       "      \")\"}], Function[BoxForm`e$, MatrixForm[BoxForm`e$]]],\\\n",
       " \n",
       ">    TraditionalForm]\n"
      ]
     },
     "execution_count": 438,
     "metadata": {
      "text/html": [],
      "text/plain": []
     },
     "output_type": "execute_result"
    }
   ],
   "source": [
    "RotatedLHSMotion = Simplify[RotationMatrix[-\\[Phi][OverHat[t]]] . LHSMotion, Trig -> True] // MatrixForm // TraditionalForm"
   ]
  },
  {
   "cell_type": "markdown",
   "metadata": {},
   "source": [
    "Так как $\\hat{\\omega} \\equiv \\phi^{(1)}$, то"
   ]
  },
  {
   "cell_type": "code",
   "execution_count": 440,
   "metadata": {
    "vscode": {
     "languageId": "wolfram"
    }
   },
   "outputs": [
    {
     "data": {
      "text/html": [
       "<div><img alt=\"Output\" src=\"data:image/png;base64,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\"></div>"
      ],
      "text/plain": [
       "FormBox[TagBox[RowBox[{\"(\", \"⁠\", \n",
       "\n",
       " \n",
       ">         TagBox[GridBox[{{RowBox[{RowBox[{RowBox[{\"-\", OverscriptBox[\"r\", \"^\"]}], \n",
       "\n",
       " \n",
       ">                 \" \", SuperscriptBox[OverscriptBox[\"ω\", \"^\"], \"2\"]}], \"+\", \n",
       "\n",
       " \n",
       ">               SuperscriptBox[OverscriptBox[\"r\", \"^\"], \"′′\"], \"+\", \n",
       "\n",
       " \n",
       ">               FractionBox[\"1\", SuperscriptBox[OverscriptBox[\"r\", \"^\"], \"2\"]]}]}, \n",
       "\n",
       " \n",
       ">            {RowBox[{RowBox[{\"2\", \" \", OverscriptBox[\"ω\", \"^\"], \" \", \n",
       "\n",
       " \n",
       ">                 SuperscriptBox[OverscriptBox[\"r\", \"^\"], \"′\"]}], \"+\", \n",
       "\n",
       " \n",
       ">               RowBox[{OverscriptBox[\"r\", \"^\"], \" \", \n",
       "\n",
       " \n",
       ">                 SuperscriptBox[OverscriptBox[\"ω\", \"^\"], \"′\"]}]}]}}, \n",
       "\n",
       " \n",
       ">           Rule[RowSpacings, 1], Rule[ColumnAlignments, Center], \n",
       "\n",
       " \n",
       ">           Rule[ColumnAlignments, Left]], Column], \"⁠\", \")\"}], \n",
       "\n",
       " \n",
       ">       Function[BoxForm`e$, MatrixForm[BoxForm`e$]]], TraditionalForm]\n"
      ]
     },
     "execution_count": 440,
     "metadata": {
      "text/html": [],
      "text/plain": []
     },
     "output_type": "execute_result"
    }
   ],
   "source": [
    "OmegaReplace = Derivative[n_][\\[Phi]][OverHat[t]] :> Derivative[n-1][OverHat[\\[Omega]]][OverHat[t]];\n",
    "\n",
    "OmegaLHSMotion = RotatedLHSMotion /. OmegaReplace // TraditionalForm"
   ]
  },
  {
   "cell_type": "markdown",
   "metadata": {},
   "source": [
    "### RHS системы после поворота"
   ]
  },
  {
   "cell_type": "code",
   "execution_count": 442,
   "metadata": {
    "vscode": {
     "languageId": "wolfram"
    }
   },
   "outputs": [
    {
     "data": {
      "text/html": [
       "<div><img alt=\"Output\" src=\"data:image/png;base64,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\"></div>"
      ],
      "text/plain": [
       "FormBox[TagBox[RowBox[{\"(\", \"⁠\", \n",
       "\n",
       " \n",
       ">         TagBox[GridBox[{{RowBox[{OverscriptBox[\"r\", \"^\"], \" \", \n",
       "\n",
       " \n",
       ">               RowBox[{\"(\", RowBox[{\"-\", SubscriptBox[\"ϵ\", \"G\"]}], \")\"}], \" \", \n",
       "\n",
       " \n",
       ">               RowBox[{\"(\", RowBox[{RowBox[{RowBox[{\"sin\", \"(\", \n",
       "\n",
       " \n",
       ">                       RowBox[{\"2\", \" \", \"ϕ\"}], \")\"}], \" \", \n",
       "\n",
       " \n",
       ">                     TemplateBox[List[SubscriptBox[OverscriptBox[\"f\", \"^\"], \n",
       "\n",
       " \n",
       ">                        RowBox[List[\"x\", \",\", \"y\"]]], \"\\\"(5)\\\"\"], \"Superscript\", \n",
       "\n",
       " \n",
       ">                      Rule[SyntaxForm, SuperscriptBox]]}], \"+\", \n",
       "\n",
       " \n",
       ">                   RowBox[{RowBox[{SuperscriptBox[\"cos\", \"2\"], \"(\", \"ϕ\", \")\"}], \n",
       "\n",
       " \n",
       ">                     \" \", TemplateBox[List[SubscriptBox[OverscriptBox[\"f\", \"^\"], \n",
       "\n",
       " \n",
       ">                        RowBox[List[\"x\", \",\", \"x\"]]], \"\\\"(5)\\\"\"], \"Superscript\", \n",
       "\n",
       " \n",
       ">                      Rule[SyntaxForm, SuperscriptBox]]}], \"+\", \n",
       "\n",
       " \n",
       ">                   RowBox[{RowBox[{SuperscriptBox[\"sin\", \"2\"], \"(\", \"ϕ\", \")\"}], \n",
       "\n",
       " \n",
       ">                     \" \", TemplateBox[List[SubscriptBox[OverscriptBox[\"f\", \"^\"], \n",
       "\n",
       " \n",
       ">                        RowBox[List[\"y\", \",\", \"y\"]]], \"\\\"(5)\\\"\"], \"Superscript\", \n",
       "\n",
       " \n",
       ">                      Rule[SyntaxForm, SuperscriptBox]]}]}], \")\"}]}]}, \n",
       "\n",
       " \n",
       ">            {RowBox[{RowBox[{\"-\", FractionBox[\"1\", \"2\"]}], \" \", \n",
       "\n",
       " \n",
       ">               OverscriptBox[\"r\", \"^\"], \" \", SubscriptBox[\"ϵ\", \"G\"], \" \", \n",
       "\n",
       " \n",
       ">               RowBox[{\"(\", RowBox[{RowBox[{RowBox[{\"sin\", \"(\", \n",
       "\n",
       " \n",
       ">                       RowBox[{\"2\", \" \", \"ϕ\"}], \")\"}], \" \", \n",
       "\n",
       " \n",
       ">                     RowBox[{\"(\", RowBox[{TemplateBox[List[SubscriptBox[\n",
       "\n",
       " \n",
       ">                            OverscriptBox[\"f\", \"^\"], \n",
       "\n",
       " \n",
       ">                            RowBox[List[\"y\", \",\", \"y\"]]], \"\\\"(5)\\\"\"], \n",
       "\n",
       " \n",
       ">                          \"Superscript\", Rule[SyntaxForm, SuperscriptBox]], \"-\", \n",
       "\n",
       " \n",
       ">                         TemplateBox[List[SubscriptBox[OverscriptBox[\"f\", \"^\"], \n",
       "\n",
       " \n",
       ">                            RowBox[List[\"x\", \",\", \"x\"]]], \"\\\"(5)\\\"\"], \n",
       "\n",
       " \n",
       ">                          \"Superscript\", Rule[SyntaxForm, SuperscriptBox]]}], \")\"}]}\\\n",
       "\n",
       " \n",
       ">   ], \"+\", RowBox[{\"2\", \" \", RowBox[{\"cos\", \"(\", RowBox[{\"2\", \" \", \"ϕ\"}], \")\"}], \n",
       "\n",
       " \n",
       ">                     \" \", TemplateBox[List[SubscriptBox[OverscriptBox[\"f\", \"^\"], \n",
       "\n",
       " \n",
       ">                        RowBox[List[\"x\", \",\", \"y\"]]], \"\\\"(5)\\\"\"], \"Superscript\", \n",
       "\n",
       " \n",
       ">                      Rule[SyntaxForm, SuperscriptBox]]}]}], \")\"}]}]}}, \n",
       "\n",
       " \n",
       ">           Rule[RowSpacings, 1], Rule[ColumnAlignments, Center], \n",
       "\n",
       " \n",
       ">           Rule[ColumnAlignments, Left]], Column], \"⁠\", \")\"}], \n",
       "\n",
       " \n",
       ">       Function[BoxForm`e$, MatrixForm[BoxForm`e$]]], TraditionalForm]\n"
      ]
     },
     "execution_count": 442,
     "metadata": {
      "text/html": [],
      "text/plain": []
     },
     "output_type": "execute_result"
    }
   ],
   "source": [
    "RHSMotion = -Subscript[\\[Epsilon], G] FullSimplify[RotationMatrix[-\\[Phi][OverHat[t]]] . fh5rh, Trig -> True];\n",
    "RHSMotion // MatrixForm // TraditionalForm"
   ]
  },
  {
   "cell_type": "markdown",
   "metadata": {},
   "source": [
    "<span style=\"color:brown\">**NB:**</span> Полученные выражения <span style=\"color:green\">**совпадают**</span> с уравнениями (10) и (9) из файла Binary.pdf"
   ]
  },
  {
   "cell_type": "markdown",
   "metadata": {
    "vscode": {
     "languageId": "wolfram"
    }
   },
   "source": [
    "## Получим теперь **энергетическую** систему уравнений\n",
    "\n",
    "В задача двух тел без учёта гравитационного излучения в системе центра масс в полярных координатах радиус-вектор $\\hat{r}_k$ задаётся как:\n",
    "$$\n",
    "\\hat{r}_k = \\hat{r} e_{1k} \\quad,\n",
    "$$\n",
    "где:\n",
    "- $\\hat{r}$ — расстояние между телами,\n",
    "- $e_{1k}$ — единичный вектор в направлении $\\hat{r}_k$.\n",
    "\n",
    "Скорость в полярных координатах выражается как:\n",
    "$$\n",
    "\\hat{r}_k^{(1)} = \\hat{r}^{(1)} e_{1k} + \\hat{r} \\phi^{(1)} e_{2k} \\quad,\n",
    "$$\n",
    "где:\n",
    "- $\\hat{r}^{(1)}$ — радиальная скорость\n",
    "- $\\hat{\\omega} \\equiv \\phi^{(1)}$ — угловая скорость\n",
    "- $e_{2k}$ — единичный вектор, перпендикулярный $e_{1k}$.\n",
    "\n",
    "### **Кинетическая энергия**\n",
    "Кинетическая энергия $T$ в полярных координатах выражается через радиальную и тангенциальную составляющие скорости:\n",
    "$$\n",
    "T = \\mu\\frac{b^2}{2 t_0^2} (\\hat{r}_k^{(1)})^2 = \\mu\\frac{b^2}{2 t_0^2} \\left( (\\hat{r}^{(1)})^2 + \\hat{r}^2 \\hat{\\omega}^2 \\right) = \\frac{G \\mu M}{b} \\frac{1}{2}\\left( (\\hat{r}^{(1)})^2 + \\hat{r}^2 \\hat{\\omega}^2 \\right)\n",
    "$$\n",
    "\n",
    "### **Потенциальная энергия**\n",
    "Потенциальная энергия $U$ зависит только от расстояния $\\hat{r}$:\n",
    "- Для гравитационного взаимодействия:\n",
    "  $$\n",
    "  U = -\\frac{G m_A m_B}{b \\hat{r}} = -\\frac{G \\mu M}{b \\hat{r}}.\n",
    "  $$\n",
    "\n",
    "### **Полная энергия**\n",
    "Полная энергия $E$ в полярных координатах:\n",
    "$$\n",
    "E = T + U = \\frac{G \\mu M}{b}\\left(\\frac{(\\hat{r}^{(1)})^2}{2} + \\frac{\\hat{r}^2 \\hat{\\omega}^2}{2} - \\frac{1}{\\hat{r}}\\right) = \\frac{G \\mu M}{b} \\hat{E}\n",
    "$$\n",
    "\n",
    "Здесь $\\hat{E}$ - безразмерная энергия:"
   ]
  },
  {
   "cell_type": "code",
   "execution_count": 444,
   "metadata": {
    "vscode": {
     "languageId": "wolfram"
    }
   },
   "outputs": [
    {
     "data": {
      "text/html": [
       "<div><img alt=\"Output\" src=\"data:image/png;base64,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\"></div>"
      ],
      "text/plain": [
       "FormBox[RowBox[{RowBox[{FractionBox[\"1\", \"2\"], \" \", \n",
       "\n",
       " \n",
       ">          SuperscriptBox[OverscriptBox[\"r\", \"^\"], \"2\"], \" \", \n",
       "\n",
       " \n",
       ">          SuperscriptBox[OverscriptBox[\"ω\", \"^\"], \"2\"]}], \"+\", \n",
       "\n",
       " \n",
       ">        RowBox[{FractionBox[\"1\", \"2\"], \" \", \n",
       "\n",
       " \n",
       ">          SuperscriptBox[RowBox[{\"(\", SuperscriptBox[OverscriptBox[\"r\", \"^\"], \"′\"], \n",
       "\n",
       " \n",
       ">             \")\"}], \"2\"]}], \"-\", FractionBox[\"1\", OverscriptBox[\"r\", \"^\"]]}], \n",
       "\n",
       " \n",
       ">      TraditionalForm]\n"
      ]
     },
     "execution_count": 444,
     "metadata": {
      "text/html": [],
      "text/plain": []
     },
     "output_type": "execute_result"
    }
   ],
   "source": [
    "Energy = (D[OverHat[r][OverHat[t]], OverHat[t]])^2/2 + (OverHat[r][OverHat[t]] OverHat[\\[Omega]][OverHat[t]])^2/2 - 1/OverHat[r][OverHat[t]];\n",
    "Energy // TraditionalForm"
   ]
  },
  {
   "cell_type": "markdown",
   "metadata": {},
   "source": [
    "### **Момента импульса**\n",
    "Момент импульса $J$ в системе центра масс:\n",
    "$$\n",
    "J = \\mu\\frac{b^2}{t_0} \\hat{r}^2 \\hat{\\omega} = \\mu(G M b)^{1/2} \\hat{r}^2 \\hat{\\omega} = \\mu(G M b)^{1/2} \\hat{J}\n",
    "$$\n",
    "\n",
    "Здесь $\\hat{J}$ - безразмерный момент импульса:"
   ]
  },
  {
   "cell_type": "code",
   "execution_count": 446,
   "metadata": {
    "vscode": {
     "languageId": "wolfram"
    }
   },
   "outputs": [
    {
     "data": {
      "text/html": [
       "<div><img alt=\"Output\" src=\"data:image/png;base64,iVBORw0KGgoAAAANSUhEUgAAAB4AAAAVCAIAAADelck2AAAAznpUWHRSYXcgcHJvZmlsZSB0eXBlIGV4aWYAAHjabU/rjYMhDPvPFDdCng6Mw9dSqRt0/AsF3Ymqlogd5wGU8Xo+ys+EMBXzqGgAJaxZk56i0sJipvaOKxm7xqdf2Lff0/L/AvYAX6cfWCz1YxHJEjpvSK22B/YileVzX/m1+6XXei5SOgD6e/rX3DQEDg7LaEIRaKlrSZkEF/LAAzcgGxl3IbslD0TkGGJ2aJ+DEzLi7B4FmsZ9fkHnce3JmpFVZDqc2rVlNHW5dvX9kfILUJVatUjpZqoAAAAJcEhZcwAADsQAAA7EAZUrDhsAAAA8dEVYdFNvZnR3YXJlAENyZWF0ZWQgd2l0aCB0aGUgV29sZnJhbSBMYW5ndWFnZSA6IHd3dy53b2xmcmFtLmNvbVyipoUAAAAhdEVYdENyZWF0aW9uIFRpbWUAMjAyNTowMzoxMiAyMTo1OTo0NSJLaRgAAAIWSURBVDiN7ZQ/7OlQFMfv76UmjSAIXa2GShhMRBMSuojYrGaDQawGMUtMBomlBKPFIG0idKvJn4SkFhIpAzoI7f0NbbwfT6WS97b3nU7PPfmcb+49PV8QQvBKsiwXCoXT6XS5XGRZrtVqCIK8rNQU1FC/38dxXIldLlez2dSq1NIvrZYEQdA0rfSWZVkQhM8s/3RdKpVMJhPHcU/NB4OB3W7fbDafulbRDMMkEonhcBgOh4/H4/14Op1GIpH1ev2e8tKWim6325IkQQi32y1N00qS47hMJiOK4nuulq2HZ5QkSZZlJRYEIR6P32435bPX62mhX9r6jS4WiwRBOBwOQRDS6bTNZsvlciiKOp1Op9NpsVjy+fx773/qC0IIAJAkKZlMns9nv9+PIMhsNqMoymAwfDwVLyfE6/V6vd7FYqHfV7VabbVaPzOVSmU0Gj1ciCiKCIKkUin93Ha7TZLkU5Jl2Wg0+oBmGAYA0O12dXL3+73Var0b9Hg81+sVQjgcDlEUVZLq3zgejxEEiUQiOq+x0WgYjcZAIAAA4Hkex3Flw8zn8/uqUdEsy/p8PhRFdaInk4nb7b7bIghCiev1ejwef0aHQiGdXAAAhmGHwwEAcL1eO52O2WwGAFAUtVqtyuWyWgQh5Hkew7DBYKD/DXe7XTAYjMVi2Wx2Pp/HYrFEIkGS5HK5vNeoc/0vpLlU/6P/ur4BFP1fCT2q3J4AAAAASUVORK5CYII=\"></div>"
      ],
      "text/plain": [
       "FormBox[RowBox[{SuperscriptBox[OverscriptBox[\"r\", \"^\"], \"2\"], \" \", \n",
       "\n",
       " \n",
       ">        OverscriptBox[\"ω\", \"^\"]}], TraditionalForm]\n"
      ]
     },
     "execution_count": 446,
     "metadata": {
      "text/html": [],
      "text/plain": []
     },
     "output_type": "execute_result"
    }
   ],
   "source": [
    "AngularMomentum = (OverHat[r][OverHat[t]])^2 OverHat[\\[Omega]][OverHat[t]];\n",
    "AngularMomentum // TraditionalForm"
   ]
  },
  {
   "cell_type": "markdown",
   "metadata": {},
   "source": [
    "Отсюда $\\frac{1}{\\hat{r}^{(1)}}\\left(\\frac{d\\hat{E}}{d\\hat{t}} - \\hat{\\omega} \\frac{d\\hat{J}}{d\\hat{t}}\\right)$"
   ]
  },
  {
   "cell_type": "code",
   "execution_count": 447,
   "metadata": {
    "vscode": {
     "languageId": "wolfram"
    }
   },
   "outputs": [
    {
     "data": {
      "text/html": [
       "<div><img alt=\"Output\" src=\"data:image/png;base64,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\"></div>"
      ],
      "text/plain": [
       "FormBox[RowBox[{RowBox[{\"-\", RowBox[{RowBox[{OverscriptBox[\"r\", \"^\"]}], \" \", \n",
       "\n",
       " \n",
       ">            SuperscriptBox[OverscriptBox[\"ω\", \"^\"], \"2\"]}]}], \"+\", \n",
       "\n",
       " \n",
       ">        SuperscriptBox[OverscriptBox[\"r\", \"^\"], \"′′\"], \"+\", \n",
       "\n",
       " \n",
       ">        FractionBox[\"1\", SuperscriptBox[OverscriptBox[\"r\", \"^\"], \"2\"]]}],\\\n",
       " \n",
       ">    TraditionalForm]\n"
      ]
     },
     "execution_count": 447,
     "metadata": {
      "text/html": [],
      "text/plain": []
     },
     "output_type": "execute_result"
    }
   ],
   "source": [
    "Simplify[(D[Energy, OverHat[t]] - (AngularMomentum/OverHat[r][OverHat[t]]^2)(D[AngularMomentum, OverHat[t]]))/(D[OverHat[r][OverHat[t]], OverHat[t]])] // TraditionalForm"
   ]
  },
  {
   "cell_type": "markdown",
   "metadata": {},
   "source": [
    "Что совпадает с **первой** строкой повернутой LHS системы движения"
   ]
  },
  {
   "cell_type": "markdown",
   "metadata": {},
   "source": [
    "Отсюда $\\frac{1}{\\hat{r}}\\frac{d\\hat{J}}{d\\hat{t}}$"
   ]
  },
  {
   "cell_type": "code",
   "execution_count": 448,
   "metadata": {
    "vscode": {
     "languageId": "wolfram"
    }
   },
   "outputs": [
    {
     "data": {
      "text/html": [
       "<div><img alt=\"Output\" src=\"data:image/png;base64,iVBORw0KGgoAAAANSUhEUgAAAFMAAAAVCAIAAAC10UUmAAAA0HpUWHRSYXcgcHJvZmlsZSB0eXBlIGV4aWYAAHjabU9bjgMhDPvnFHuEPB04DtNSaW+wx98w0FZT1RKx4zyAMv5+H+VnQpiKeVQ0gBLWrElPUWlhMVM74wnXXeOrX9i339PydwFj+8fVDyyW+rGIZAmdN6RW2wN7kcryua/82P3Sa70uej51A/R6+tfcNAQODstoQhFoqWtJmQQX8sADNyAbGXchuyUPROQYYnZon4MTMuLaPQo0jfv8gs7j2pM1I6vIdDi1a8to6nLs6vmR8g8M21qHKF3KdQAAAAlwSFlzAAAOxAAADsQBlSsOGwAAADx0RVh0U29mdHdhcmUAQ3JlYXRlZCB3aXRoIHRoZSBXb2xmcmFtIExhbmd1YWdlIDogd3d3LndvbGZyYW0uY29tXKKmhQAAACF0RVh0Q3JlYXRpb24gVGltZQAyMDI1OjAzOjEyIDIxOjU5OjQ1IktpGAAAA01JREFUWIXtl01IKlEYhj+H0yIMbREREm1qF8EICkWLfqZfcyMRCM3eNiFEBFGrFv1AUARu3ERuJJSCaNG00KQ/iUBpUQZFQ1JCmVQkBs147mIuXnNsnKkuLexdnXP45j3Pe+bwjaowxlCUIn4a4Mf0m/w/aGZmRqvVhsPhzEoqlYrH499uK1/vADDGT09Po6Ojvb29g4ODBoPB6XRiSU1PT2s0mlAoJFETCAQsFsve3l57e/vz87OwODIyMjw8LG0urby28iGzAQBj3NbWVl1dnUwmMcYulwsA1tfXv7i3x+PheR5jHIvFdnZ2MMY8z9fV1V1dXcnPKcdWPmQOAKRSKbVavbCwIMyvr68BgKbpL+4t7JROpzNTv98/Pz8vM6F8W/mQOQCAMWZZNuP1+PgIAJ2dnV+Bm5qaoiiqsrIyHo/TNF1RUXFzc7O7u8tx3Lfbyn88B0CF33/PfT4fRVFjY2Nzc3OfbkI8z/f397+8vBiNRoTQ2dmZ2+0uKSmRfsrpdDY3N9fX13+v7YfKPpV0Ot3R0VFTU3N/fy8+M4fDsbq6mr2ytLR0cHCQ94D1er1erz8/P5f/Tmw2m9/vl64paCsf8l3y8fFxo9EYi8XEdR6Px2w25ywGg8Hu7m5xcTKZRAgNDAxIZBCrYPKCtoogUeblT05Onp6eBgKB0tLSnHuRSCRsNtvm5qYwbWhoCIVCCCGO4/b398X36Pj4mOM4q9Uq58YxDCOMo9Ho0dHR6+srAFRVVZEkqchWKeTf5BMTE9Fo1Ov1IoTERS6XS61WNzU1AQDLsiRJCmWRSCRv/eHhIUKoq6tLTvKtra3s5Le3twBAkqQ4ubStUkgEACsrKycnJxsbGyqVKgOh0Wi0Wq0wDYfDtbW1me0pihLGy8vLfX19YtNgMGgwGMrKygomJwhicXFRGA8NDVmt1tbW1o+KpW2VQhIPDw92u72np2d7e5thGIZh1tbWaJomiH8/bHU6XSKRAIC3tzev11teXg4Abrf78vJydnY2L6JEgE9L2lYpJDgcDvFiY2NjdjO4u7traWkxmUx2uz0SiZhMJovFYjabLy4uxJ2DZVmdTufz+SR6VV5Jd7iCtoogsfh7Xjz6/ZdafPpNXnz6A2e94AZGlT33AAAAAElFTkSuQmCC\"></div>"
      ],
      "text/plain": [
       "FormBox[RowBox[{RowBox[{\"2\", \" \", OverscriptBox[\"ω\", \"^\"], \" \", \n",
       "\n",
       " \n",
       ">          SuperscriptBox[OverscriptBox[\"r\", \"^\"], \"′\"]}], \"+\", \n",
       "\n",
       " \n",
       ">        RowBox[{OverscriptBox[\"r\", \"^\"], \" \", \n",
       "\n",
       " \n",
       ">          SuperscriptBox[OverscriptBox[\"ω\", \"^\"], \"′\"]}]}], TraditionalForm]\n"
      ]
     },
     "execution_count": 448,
     "metadata": {
      "text/html": [],
      "text/plain": []
     },
     "output_type": "execute_result"
    }
   ],
   "source": [
    "Simplify[D[AngularMomentum, OverHat[t]]/OverHat[r][OverHat[t]]] // TraditionalForm"
   ]
  },
  {
   "cell_type": "markdown",
   "metadata": {},
   "source": [
    "Что совпадает со **второй** строкой повернутой LHS системы движения"
   ]
  },
  {
   "cell_type": "markdown",
   "metadata": {},
   "source": [
    "Таким образом, мы можем выписать новую **энергетическую** систему уравнений\n",
    "\n",
    "$$\n",
    "\\begin{align}\n",
    "\\frac{d\\hat{E}}{d\\hat{t}} &= - \\epsilon_G \\left(\\hat{r}^{(1)} R_{xi}(-\\phi) \\hat{f}_{ij}^{(5)}\\hat{r}_j + \\hat{r}\\hat\\omega R_{yi}(-\\phi) \\hat{f}_{ij}^{(5)}\\hat{r}_j \\right)\n",
    "\\\\\n",
    "\\frac{d\\hat{J}}{d\\hat{t}} &= - \\epsilon_G \\hat{r} R_{yi}(-\\phi) \\hat{f}_{ij}^{(5)}\\hat{r}_j\n",
    "\\end{align}\n",
    "$$"
   ]
  },
  {
   "cell_type": "markdown",
   "metadata": {},
   "source": [
    "Или\n",
    "\n",
    "$$\n",
    "\\left(\\frac{d\\hat{E}}{d\\hat{t}}, \\frac{d\\hat{J}}{d\\hat{t}}\\right) = - \\epsilon_G T_{nk} R_{ki}(-\\phi) \\hat{f}_{ij}^{(5)}\\hat{r}_j\\quad,\n",
    "$$"
   ]
  },
  {
   "cell_type": "markdown",
   "metadata": {},
   "source": [
    "Здесь\n",
    "$$\n",
    "T = \n",
    "\\begin{bmatrix}\n",
    "\\hat{r}^{(1)} & \\hat{r}\\hat{\\omega} \\\\\n",
    "0 & \\hat{r}\n",
    "\\end{bmatrix}\n",
    "$$\n",
    "матрица трансформации:"
   ]
  },
  {
   "cell_type": "code",
   "execution_count": 450,
   "metadata": {
    "vscode": {
     "languageId": "wolfram"
    }
   },
   "outputs": [
    {
     "data": {
      "text/html": [
       "<div><img alt=\"Output\" src=\"data:image/png;base64,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\"></div>"
      ],
      "text/plain": [
       "FormBox[TagBox[RowBox[{\"(\", \"⁠\", \n",
       "\n",
       " \n",
       ">         GridBox[{{SuperscriptBox[OverscriptBox[\"r\", \"^\"], \"′\"], \n",
       "\n",
       " \n",
       ">            RowBox[{OverscriptBox[\"r\", \"^\"], \" \", OverscriptBox[\"ω\", \"^\"]}]}, \n",
       "\n",
       " \n",
       ">           {\"0\", OverscriptBox[\"r\", \"^\"]}}, Rule[RowSpacings, 1], \n",
       "\n",
       " \n",
       ">          Rule[ColumnSpacings, 1], Rule[RowAlignments, Baseline], \n",
       "\n",
       " \n",
       ">          Rule[ColumnAlignments, Center]], \"⁠\", \")\"}], \n",
       "\n",
       " \n",
       ">       Function[BoxForm`e$, MatrixForm[BoxForm`e$]]], TraditionalForm]\n"
      ]
     },
     "execution_count": 450,
     "metadata": {
      "text/html": [],
      "text/plain": []
     },
     "output_type": "execute_result"
    }
   ],
   "source": [
    "Transform = {{D[OverHat[r][OverHat[t]], OverHat[t]], OverHat[r][OverHat[t]] OverHat[\\[Omega]][OverHat[t]]}, {0, OverHat[r][OverHat[t]]}};\n",
    "Transform // MatrixForm // TraditionalForm"
   ]
  },
  {
   "cell_type": "markdown",
   "metadata": {},
   "source": [
    "Итак правая часть энергетической системы запишется как"
   ]
  },
  {
   "cell_type": "code",
   "execution_count": 452,
   "metadata": {
    "vscode": {
     "languageId": "wolfram"
    }
   },
   "outputs": [
    {
     "data": {
      "text/html": [
       "<div><img alt=\"Output\" src=\"data:image/png;base64,iVBORw0KGgoAAAANSUhEUgAAAxEAAABACAIAAADqP23+AAAAzXpUWHRSYXcgcHJvZmlsZSB0eXBlIGV4aWYAAHjabU/bDQMhDPtnio6QFw6Mw12p1A06fsNBVVHVErHjPFBSfz0f6TYgTMmyF1SAAlatSgtRaGIyU73iTJh0uZufbM1wCyt/C+jLP3bfMVnKzyKSKXT8EFrXZl+LVKbPbebH6pdWyr5IaQM+gv/npi7IYLeIJuSOGrqkkEHIQtnxwAlEI+MuZGdwh3uMwUeHtjE4IN337p6gYdzHCTpe1hasEVlFhsOhs9aIplmOVb0OSW8FqVqC8tGtEwAAAAlwSFlzAAAOxAAADsQBlSsOGwAAADx0RVh0U29mdHdhcmUAQ3JlYXRlZCB3aXRoIHRoZSBXb2xmcmFtIExhbmd1YWdlIDogd3d3LndvbGZyYW0uY29tXKKmhQAAACF0RVh0Q3JlYXRpb24gVGltZQAyMDI1OjAzOjEyIDIxOjU5OjQ1IktpGAAAIABJREFUeJztnXlcE8f//yfI4YmgoEAFigfVKhoKqOBBERTUtlaqiJZq0eJt6aP6qRdChWr5tNZiRa3QfquA1YpHtUoFPJBqtYgYUA4PMBIQ5ZBTiJBkf39MP/vb7pVNsrnqPP/KzOzMvvY97/fsZHd2V4BhGDAq7t69+9prrzEljQ5t63d3d5dIJAKBAABw8uTJiRMnam9fGsIi1dh72aj5F/eLDvQbUQAitAFyAL7Q3kCkUnUTjttlZmbOnj3bx8dHXVX8sHfvXplMxpQ0Opj0f/nll3379hWJRJrvYsyYMfX19XV1dXV1ddoIV91IxTAsMTFR8128JPDYKeDf2y86iD6g/QBEaAMjGoENHKM4QahU/R9zpqKiogsXLtBuFxgYGB4e3traqrYszSkvLy8qKho5ciRt0uhg0p+bm3vjxo2MjIy1a9dqYvCCgoLbt2/b2NiQ8vPy8u7fv692s0R4kQp1AgBYpA4fPrykpIQv2f9u+PUfQOkXov8Yb7/oJvoAq/UQhokRjcAGjrGcIFiqp6Wl1dXV/SML+x8XL15ctmwZxsyZM2dGjRrFsoG2WbRo0c2bN5mSfPHixYvGxkZemqqtrWUpZdKfnp4ul8sxDKupqcnJyVFv1w0NDXFxcQqFYubMmV9//fXcuXODg4Px49qwYcOLFy/Ua5lfqVAnhmFKpRYWFn7wwQeaa9Y9fHkUuzvh8Og/GEO/EP3HSPtFB9GHcbCeNpDL5Z999tmKFSsWL1784YcfdnV1aW9fOkBnAzKOEY3A6qEzDzGiEwRT9efPnwcHB5eXl+M5f8+Z6uvrJ02a9Pz5c5ZG9TtnamxsdHFxUSgUtEla2tvbR4wYsWbNGu57kcvl69atk0qlGmn9HyKR6Mcff6QtYte/f//+xYsXjxgxIjIykv0YmUhKSvr9998VCsWDBw9gjp+f37p164ilajTLu1RcCRepQ4YMaWho4EW2zuDRo1jciYpW+4XkP0bXL0pHD11aj3eysrKEQiH8bW9vf+TIEe3tS1VUHZN1NiCTMKIRGKKSYXXpIUZ0gmCqXl5eHhAQACd/GIb9fW9u7dq1c+fO7dmzp3qXtviC5d7n6dOnp0yZAtd/UZO0dHV1NTQ0kC+ssZKQkDBr1iwLCwsAQEtLy3/+858ZM2aEhYV5eXklJyercigAADBmzJhHjx4VFxdTi1j0nzhxYseOHcnJybt37z537lxbW5uq+wUAiMViOzs7gUAwZMgQmOPu7l5aWgp/29nZPXz4UI1meZcKdQIAuEj19/c/deqU2mo171A14NGjWNyJhLb7heQ/7P3CcUEDX+seuBiZffTQsfV4x9/fPycnBwAAzzT19fXa25eqqDom62xAJmJEIzCOSobVmYcY1AlC6QjDVH3w4MH29vb79u37O41hWG1trbm5udLrltq+znT58uXZs2dfuXJlypQpLS0tpNJFixbt2bOHKcmESlcdW1tb33rrLTzp5+c3aNAgeO0tJSUFAHDy5En2FvCpKM6TJ09CQ0OpW7LoHzNmzGeffcZdNi1ffvnllStXjhw5Eh8fD3N8fX3hRU4Mww4fPpyamqrhLjA+pEKdGIZxkfr999+HhYWpvS81OlRDePcoJncioe1+IfkPS7+wB7Wqm3GBi5HZRw8dW097XLx40dbW9vHjx1w2po5dWoL7mKx5+GBqRZARjcBE1LjFpm0PMZwTBO0I097eXldXh2/DUj0zM9PFxQX+NgEAnDt37s0337S1tVVtBsg3tbW1x44d8/b2TktLKygoIJXm5+cPHTqUKcmEqampVCrlKOD48ePTp0+Hv6VSaV5e3tq1a+G1tzfffBNuwFLdy8srIyODlDlw4MC2tjbqRJ5Jf3Z2dmFhYWBgIEfNTEyaNKm4uNjHx+fq1asbN27ctm2bm5vbunXrYGlpaemECRM03AUvUqFOAAAXqYMHD75586Z6O1KjQzWHd49iciciOugXkv+w9Ettbe3Ro0d9fHwOHTpEDWriZseOHZswYQL7ZkrhaGSW0UP31tMSpaWl8fHx+fn59vb2eKZcLk9ISKiqqiJtTPK0W7dupaWlaUkY9zFZw/ABakWQEY3AJFQ62QHte4hBnSBoZxdRUVGxsbH4NizV/f3929raysrKAAAAw7D58+crnQxeuHBhwYIFlpaW+/bt47iSTlViY2P9/f0HDBhQX18fFhZmY2NTXV0Ni2Qymbm5eWFhIW0SwzCxWDx37tx58+b5+/tPnTpVIpE0NTXNmzfP0dER/qtobm5evHjx8OHDt23bdu3atTlz5tjY2Li6uhJvKs+ZM+f69evENvH7r01NTQCAqVOnMomvrq7u3r077YKwzZs3HzhwgJhD1Y9hWGdn54IFC1599VWBQDBv3rzQ0NCSkhJulqNn165dnZ2d1PyWlpakpCRNWuZXKpNOjCK1qKjIzMxM7RWLHDv06tWrwcHBERERI0eOnDFjRnFxMcy/f//+u+++Gxwc/P7778OruMSWSe4H87XhUVR3wtFNv1D9h6lfWCJaeyg1Mm30YfqzHhG+fO/WrVsRERFU5wkPD6ceOK2nHT58+KuvvlLliMloPiZrEj5Mx4UxR5CxjMC8nOy06iEGeIKgjkUSiWTo0KEPHz7kUh3DMD8/v507d2JwDbidnd3+/fvVPiS+kMlks2bN8vf337BhQ1RU1HvvvYdbqqamBgBQWVlJm8QwzNvbe+PGjfB3YGAgvJrX3Nxsbm6OX4nt6OgwNzcfMGBAVFRUU1NTbW3tqFGj+vXr197eDjdwdnZmukoJX8HAMrM8fPhwUFAQbVFSUtLq1auJOVT9OL6+vq6urkx7UQm5XH7//n1q/t27d3lpny+pTDoxitTKykoAAC/nXaYOPX/+vLm5+dmzZzEMa2xstLGx8fT0hLvu3bv3ypUr4WZnz54FAKSkpMAkrfth2vEoqjuR0Ha/UP2HqV9YIlo30BqZJfowfVgPhy/fq6+vnzlzpkwmw7eHP37++eclS5ZQ98vkaePHj7916xaT2v3799+5c4eplFYYpuKYrEn4sBwXewQZwgjMblvNDasbDzGoEwR1LMrOzt6xYwfH6hiGffTRR/BOMZDL5SYmJrys4W9tbY2NjQ0ICFi0aNHu3bvVaMHd3d3d3Z3qUoWFhQAA/PFCUrKrq8vExGTbtm0wmZOTg7dgZWVFvHttZWXl4eGBJ7/55hsAgEgkwjCssbERAED7/KdCoQgICHByciLe+8S5cOHCli1bxo4dO23atOnTp1ODPD09feLEiSyHQ8TKykqTJTu6RPdSYR+xRClHWDrU29v79ddfx5M5OTm//fYbhmErVqwAADx69AgvGj16tLOzM8bsflryKKo7kTCofmGKaJw9e/b88ssvxJzvvvvuzz//1FwVk5FZog/TawDy5Xuff/5579697ezs7OzsrK2t169fD0vh7RXiHtk9bfv27R999BGT2mXLll26dImpVPMxWe3wUXpc7BFkCCMwi215OdnpxkMMaiDCKGPRH3/8gc8auVSPjY2F/2EAvLObm5urodyOjg43N7fZs2dTL/fV19evWrUqOjr622+/XbVqVXh4eFNTE7WF58+fm5qazp07l1p07do1AAB+QYiUxDBs3Lhx3bp1Cw0NJR0I1Y3mzZuHJ1NTUwEAcJ5eVlZmZmZGe2gbN2708vKqqamhFqWkpLz//vsKhcLNzU0sFm/cuJGq/9y5c8OGDWM5HBy4/l+96aaO0YvU58+f4/2lCUwdCtufM2cOtYqXl1e/fv2IOR988AEAAI7atO6nJY+iuhMRg+oXloiGpKenExf5Qq5fvx4YGKi5KiYjM0UfptcA5Nf3qNTW1gIA6uvr8Rylnnb+/HkHBwemBtnnTCzCOI7J6oUPl+NiiSADGYHZbav5yY4Wfj3EoAYijMNYxF4dw7BvvvkGLgM3ffbsGQCgR48etEufAABVVVXwajaOQCDw9PQkbZaWllZcXHzp0iXSCwvEYvHbb7+9a9euKVOmwBxfX19zc3PqjvLz82UyWWhoKLWos7MTANCtWzfaJADgxIkTMTExBw8ePHLkyMSJE48fPz5gwADawyE+YEz83dzcbGpqSt0+KiqqpKTk8uXLVBNVVlauXr26uLi4ublZIBA4Ozu7urqePHmStJmpqWlzczPL4eDAxyDHjh1Lq1yrYBiWmZlJzbezsxMKhdR8vUiFFnvx4gUxU1XlLB0K/bxPnz7UWjU1NVZWVsQca2trAMDjx49tbGxo3U9LHkV1JyKG0y+ANaIBAM+ePVu2bNmZM2dg0s3N7datW6ampjKZ7OrVq6SNeexlpugDeg1Afn2P2ohEIunWrVu/fv1gkoun2djYPHnyRCaT4W5M7AWJRJKXlwcXHdP2goZjshrhw/G4WCLIQEZgdttqfrKjhRcPwTGogQgoG4uUVgcA9OjRA06WTBsaGgDrnOnPP//ExzW86Z9++om0WUFBgbm5+cyZM2EyKSlp9OjRAIAlS5aEhITgEyYAwIcffki7u2vXrpmamk6bNo1ahGEYIPQ6KdnZ2WltbZ2cnLxly5YvvvgiOTk5Ojr6+++/ZzoiWmQymYkJ+et7mzdvlkgkx44do43e1NTUkSNHDho0KCMjIygoCADw8OFDV1dX0mYmJiakz1qR9OOIRCJzc/MxY8aopJwXMAw7d+4cNV8oFDLNmXQvFXYQ9s+vSquknL1D4aOjT58+pRbZ29tXVFQQc+AqVAcHByb305JHUd2JiOH0C2CNaABASkpKr169vL29AQBisVgoFEKblJWVUY3DYy8zRR/QawDy63vURmQymZmZGX7UXDzNwsJCoVAoFAo8h9gL8Lz++PFjQNcLmo/JaoQPx+NiiSADGYFZbMvLyY4WXjwEx6AGIqBsLFJaHQDQo0eP5uZmmUz299OJtP+6ICEhISEhIUrl9uzZ08PD48qVK8TMwsLCnJwc+C4NnPDwcNoWrl+/7unp2bt3b2qRmZkZAEAul8MfpGRFRcW+fft27drl5OSUlJR0586du3fvKhVMom/fvnK5nJhz8ODBoqKi06dP424kkUgsLS379u0LkxUVFY6OjgCAK1euzJw5U6FQpKen79y5k9RyV1cXXoX2cHBEIpFQKIQvcNMxJiYmCQkJ3LfXi1Q40pF2yl250g61tLR0dnbOzc3t6OjAp/UJCQmffPKJp6fnjRs3JBIJ7HEAQGFhoZOTk42NTVlZGa37acmjqO5ExHD6BbBGNABAJBLhL6m7du2av78//P3TTz/hf71weOxlpugDeg1Afn2Piq2trVQq7ezshNf4uXhaS0tL3759ifcEiL2wfPny0NBQ+Mw/Fc3HZDXCh+NxsUSQgYzALLbl5WRHCy8egmNQAxFQNhYprQ4AgNN0qVRKnsirTVBQUGFhoUQiIWZmZ2ePGDHilVde4dLC9evXmSKwe/fuAICuri7aZP/+/X/44Qe46F2hUDx+/NjPzw8WkWbBpCSMSZhjbW1NvCjX0NAQGRkZFBSUlZWVmZmZmZl54sSJsLAw4l8fV1fXe/fuAQDgezi+++47Pz8/OCUn0tHRAa+lMx0Ojkgk0stlYTXQi1RoMWg9VeHSoQCAmJiYtra2iIiIpqam9vb2PXv2wH97GzZs6NWr19dffw03y8zMLCwsjIuLA8zupyWPoroTEYPqF5aIBgA4ODjAa91dXV3Hjh2Dt58OHz5cXl4eHx+vnhIuRmaKPqDvAOTR96g4OTn169cPf2MyF08Ti8VqXyfQfExWI3w4HhdLBBn+CMzLyY4Wfj3EoAYioGwsUlr9H1y6dAkAUFpaqsaSKxL79+8fN27cwoULV61aBR/EW7FiBXE5Z2pqamJiYmJi4tOnT0l1xWKxg4PDxYsXaVsWi8UAAHzRPimpUCji4+O9vb0XLVoUGBi4adOmzs7OqqqqpUuXAgD69+8fHR1NSmIYlp6e7uHhAQCYMmXK+fPnMQyzsrJqa2uDbe7Zs4dqq/HjxxNVtbW1hYSELF26dOzYsVu3bt29ezft93QOHjxIenyApB8CF+0fOnSI2sKdO3ciIiIWL14slUpDQ0NJrbGXagMWqW1tbdHR0c7OzvCBlzVr1iQnJyst4kh1dTUAoKKiQg3NXDoU8vPPP3t4eFhZWQ0dOjQmJgZ/++3du3ffeeedkJCQhQsX+vv74+8gpnU/WKQNj6K6E456LqSlfmGPaAzDamtrfX19Z8yYERkZWVZWNmPGjNmzZ7/11lv4V6XUgIuRaaMPM4wA5NH3qISHh//www/wNxdP+/jjj3ft2sXUGvs6ZV7GZFXDh+NxMUWQvsKHCott+TrZ0cKXhxjaCULpWMReHQIX0be2tvI5Z6ISFRU1efJkYo6tre3Ro0dVbUcqlQoEAvy9WKQkX/j5+TG9B4KF3Nxc9iPavn07fBcWDq1++AGgqqoq2kYqKioGDRqUmJjY0tJCff6WvZR32KUqFAorKyv4IWhPT8979+5xKeJCaWmpQCCgfeLJMNGGR1HdCUdtF3qp+oVp9DCiAFQPsVg8ZcoU4hcwWDytoaFh8uTJHR0dulJHg3rhg6kbQfoKH8OBLw8x0hMEe3V8zsTbvTla5s6de/v27fLycpgsLS1taWmhLlZQioWFhbOzM75AkpTki4CAADW+21BQUMD+eviSkpKAgABiDq1+kUjk5ubGdB/TxcXFwsJiyJAhffr0od4/Zi/lHXapAoHA1dW1pqbmyZMnXl5ew4YN41LEhadPnzo6OrI8r2BoaMOjqO6Eo7YLvVT9wjR6GFEAqoezs3NcXBxxSQqTp3V2dn711VcpKSnq3QfnC/XCB6gbQfoKH8OBLw8x0hMEx+ranTONHj36zJkzcXFxCQkJKSkpaWlpmzZtIr2MgCNCofDRo0dMSV6YP38+6QlBLpiZmVlaWjKVdnZ21tTUuLm5kfJx/Y2NjUFBQU+ePMnPz1+1ahVTO01NTaampqSXPnAs5QuOUgEAjo6Oz549S0lJ2bp1K/cipVRWVurlkRa14d2jaN2JFxd6qfqFOHoYUQBqjo+Pz9y5c+FqGMDsaWVlZZs2bXJ2dtatOjLqhQ9QMYL0Hj4GhSYeYuwnCI7VOc2ZFArF+vXrV65cuWTJkvDwcJZHnan4+PgcOHDgk08+Wbhw4bZt26Kjo7nXJeLr63v79m2mJC+4uLh0796d+nlCdlauXMlSevTo0eXLl1Pzcf0WFhYvXrwIDg52cHCIiIigbtnU1PT8+fN9+/Z9+umnFy5ckEgkd+/e7ezsdHFxqayspC1VST93lErFsbe3Lyoq6t+/v62tLS6VWqSqgDt37kyePFlN9fqAd4+idScNXQhu81L1C3H0MKIA5AVnZ2cnJyf4m8nTRo8ezfI/UGeoFz5AxQjSe/gYGmp7iLGfILhW57KeKSsrSygUwt/29vZHjhxR736hJlRUVLi5uTEl+aKurk7p54q509jYGBkZSVvEXX9sbKyHh0dxcXFjY6Obm9v27dthvlAozMvLYyrVL9HR0ePGjcPfTA+l0haphFAoVG99gx7h0aNY3IkddheCv1+qflFp9DDGAPzXoLMBmQVth89LiGGeINirq7YGXC6Xw6+dKBSKgQMHJiYmqi1LE/z8/MRiMVOSL+7du/fkyRNemrpx44ZUKmUq1UR/S0vLmjVr1NWldZYuXZqVlQV/k6QSi1RCIpH4+vryIk/H8OVR7O6kKi95v2g4ehh4AP6b0NmArBJ8hc/LiQGeIJRWV/O5uYsXL9ra2jJ9a1rbXLx48fPPP2dKGh2a6K+urtbxJ+I58tdff3V1dW3atAnPwaVSi1QiLi4uOzubH5WIl75fNBw9DDYAEbqBr/B52TDYE4TS6urMmUpKSqZNm0b8vLbu+fjjj4nfsiYljQ5j109CLpcPGTJk3rx5xA89Ki3iQkNDA/pbrw1e5n75l0UfQvdoGD4vGwZ7guBSHZ8zCS5duuTn51daWjp8+HCWZU8ikWjv3r0JCQnqPfXGF1KpNC8vD1+oRUoaHcauX2f88ccfnp6exvI0+8uDUfcLij4E4t+BhgMRl+ppaWkffPAB1zlTQ0PDokWLTp06BT9Ll5GRMWPGDPXEIRAIBAKBQBgR+JyJ07sGEhMTL1++PGjQIHt7+379+uXm5mpbHwKBQCAQCIRBYcplo5iYmJiYGG1LQSAQCAQCgTBYtPsecAQCgUAgEIh/B2jOhEAgEAgEAqEcNGdCIBAIBAKBUA6aMyEQCAQCgUAoB82ZEAgEAoFAIJSD5kwIBAKBQCAQykFzJsRLzd27d/UtwYhxd3e3sbGxtbW1tbW9cuWKvuXoDW17kRHZmUUqyUoo9BDGCJozIV5e9u7dK5PJ9K1Cp3z55Zd9+/YViUS8tDZmzJj6+vq6urq6urqJEyfy0qbRweRFPJpa23bWjVQMwxITE5mSCIRRgOZMCEMkMzNz9uzZPj4+2ttFeXl5UVHRyJEjtbcLQyM3N/fGjRsZGRlr165tbW1Vu52CgoLbt28DAGxsbIj5eXl59+/f11SlUcHkRbyYWjd25tcrSFIBQe3w4cNLSkpw5aQkAmEUoDkTwhAJDAwMDw/XZARXSlxc3NKlS7XXPhc6Ozubmpo0b6euro7LZrW1tceOHZswYcKhQ4cKCgrU29ezZ88yMjLc3NwwDCsrK9uxY0dISMh7773X1NQ0duzY//u//+vs7FSvZR7hy7BAmW2ZvEhzU+vMzjx6xahRo0hSAQBEtcuXL4+Li8NrkZJKUSgU69evX7ly5ZIlS8LDw1+2i8QIg+DSpUsAgNLSUgyBMCTOnDkzatQoLTXe2Njo4uKiUCi01D4X5HL5unXrpFKp5k2JRKIff/yR48b79+9fvHjxiBEjIiMj1bBAUlLS77//jmGYQqF48OABzPTz81u3bh2xlEfa29tHjBixZs0ajtvzaFiM1bbsXmREdtZQKq6HVipJ7ZAhQxoaGvCKpCQ7WVlZQqEQ/ra3tz9y5IgaUhEINUhNTQUAcP1GLwLxL+P06dNTpkwRCAQw2dLS8p///GfGjBlhYWFeXl7Jyck60JCQkDBr1iwLCwvNBYwZM+bRo0fFxcVKtzxx4sSOHTuSk5N379597ty5trY2VWWLxWI7OzsAgEAgGDJkCMx0d3cvLS0FANjZ2T18+FDVNtnp6upqaGjgeC0N8GpYwGpbkhcRMSI7ay4VV0srlaTW39//1KlTeEVSkgRpoZW/v39OTg4AAMMwhUJRX1+vhlQEQhPQnAnxMnLx4sU33ngDT7777rtHjhw5duxYWlraxx9/vHTp0l9//VWrAtra2i5duoQvklVDgEKhICZXrlz5xRdfKN1vbGzs7NmzTUxM/P39y8rK+vTpo6ryPn36PH/+HADwyy+//Pe//4WZN2/eHD9+PADg+fPnarTJjqWlZXV19eHDh7lsrLlhAWfbkryIiBHZWXOpuFpaqSS1b7zxxsWLF/GKpCQR6kIrExOTvn37AgBycnIUCkVwcLAaUhEITUBzJsTLSH5+/tChQ+FvqVSal5e3du3anj17AgDefPNNAMDx48e1KuD48ePTp09XW4CXl1dGRgYxZ+DAgW1tbez/vLOzswsLCwMDAzVRPmnSJHjRxcfH5+rVqxs3bty2bZubm9u6desAAKWlpRMmTNCkfVpMTU2lUimXLTU0LFDFtkQvImJEduZFKq6WVir4p9rBgwffvHkTr0hKEoELrby9vdPS0ogLrUpLS+Pj4/Pz8+3t7TWUjUCoDFrPhDBMtLeeSSaTmZubFxYW4jlisRhfxgEXrk6dOpVa8erVq8HBwRERESNHjpwxY0ZxcTHMv3///rvvvhscHPz+++/Dew3ElufOnTtv3jx/f/+pU6dKJBKYP2fOnOvXr6sqAFJdXd29e/fnz5+T8jdv3nzgwAHaKp2dnQsWLHj11VcFAsG8efNCQ0NLSkqY2lfKrl27Ojs7qfktLS1JSUlqN4vRmaupqWnevHmOjo6hoaEYhjU3Ny9evHj48OHbtm27du3anDlzbGxsXF1d8eUymhgWU8W2VC/CjMfOGN9SMc5qi4qKzMzMurq6aJNEYmNj/f39BwwYUF9fHxYWZmNjU11dfevWrYiICGoHIRBaBV/PhOZMCEPkwoULCxYssLS03LdvX21tLb+N19TUAAAqKyuZdg0A+Oyzz0j558+fNzc3P3v2LIZhjY2NNjY2np6eGIZVVlb27t175cqVcLOzZ88CAFJSUmDS29t748aN8HdgYOCVK1fgb2dn58ePH6skAOfw4cNBQUHU/KSkpNWrVzPVwjDM19fX1dWVZQOOyOXy+/fvU/Pv3r3LXnH//v137txh2YDWXM3Nzebm5nDOhGFYR0eHubn5gAEDoqKimpqaamtrR40a1a9fv/b2dkwzw2Kq2JbFi/RuZ+7wJRXjrLayshIAUF1dTZskIpPJZs2a5e/vv2HDhqioqPfee6+mpmbmzJkymQxuAIMRgdABaM6EMHpaW1tjY2MDAgIWLVq0e/du7hULCwsBAI2NjdQihUIREBDg5ORUV1dHKvL29n799dfxZE5Ozm+//YZh2IoVKwAAjx49wotGjx7t7OyMYVhXV5eJicm2bdvwKvD80djYCAB48eKFSgIwDLtw4cKWLVvGjh07bdq06dOnkyYH6enpEydOZDlwKyursLAwlg20zbJlyy5dusRUymQuDMOsrKzwORNMenh44MlvvvkGACASidQ2LKa6bVm8SO925o7upcI+unXrFm2ShLu7u7u7O+4Gn3/+ee/eve3s7Ozs7KytrdevX68j0YiXHnzOZKqzm4AIBI9IpVIfH5+hQ4eeOnUKrlbBaWhoiImJ6d+/v7W19YMHD9rb27/99lu4dBTS3t4OAIDPVZHYvHlzc3PzX3/9RXo1X3t7O7wThOf4+vrCH/n5+f369XNycsKLxowZk5qaWl9fb2Nj4+XlFR1MtSl7AAAK7ElEQVQdffv27ZUrV+JVnj59amZmZm5uzl0AACA1NTUzMzM1NfXXX389evTo/v37IyMjjx49im/Qp0+fp0+fMllMLBY3NTWNGzeOaQO9Y2pqSmsuWogLiQYMGAAAaGtrU8+wQC3bMnmR4dsZRy9SYe/A5e3UJJH29vbbt2/Pnj3b1dUV5sTExMTExOhKKQJBA5ozIXQHhmGZmZnUfDs7O6FQCH/LZLKOjg7SBr169TIx+cfzCmlpacXFxZcuXSJNmMRi8dtvv71r164pU6bAHF9fX9JJFL5er1u3bqS9REVFlZSUXL58uUePHqQieCOG9pGimpoaKysrYo61tTUA4PHjxzY2NidOnIiJiTl48OCRI0cmTpx4/PjxAQMGNDc3m5rShB6LgMrKytWrVxcXFzc3NwsEAmdnZ1dX15MnTxK3MTU1bW5upjYLgQ9sjx07lmkDLUHsdIlEkpeXB1dzEzsdh9ZctM0Sn/DHf6thWKCubZm8SF92Btzii4hepEKLvXjxgjZJJD8/XyaThYaG6lIeAsEOmjMhdAeGYefOnaPmC4VCfEzPzs6m/pVMT093dnYm5hQUFJibm8+cORMmk5KSRo8eDQBYsmRJSEgIPmECAHz44YekMyWGYeCfJ10AwObNmyUSybFjx2hPura2tgAA2qs49vb2FRUVxBy41tjBwaGzs9Pa2jo5OXnLli1ffPFFcnJydHT0999/L5PJSFNApQJSU1NHjhw5aNCgjIyMoKAgAMDDhw/x/98QExMTljcji0Qic3PzMWPGMG2gJYidDudMjx8/Bv/sdAiTubjvSw3DAnVtS+tFQH92Btzii4hepMIOgtajJolcu3bN1NR02rRpupSHQLBjSh1iEAgtYWJikpCQwL7N9OnT8WfFWejZs6eHhwfpw+mFhYU5OTkpKSnEzPDwcFJdMzMzAIBcLoc/AAAHDx4sKio6ffo0fgqUSCSWlpb4HT1LS0tnZ+fc3NyOjg58BpaQkPDJJ594enreuHFDIpE4OjriMpycnGxsbMrKyvbt27dr1y4nJ6ekpKQ7d+7Ab7n37dtXLpcTJSkVUFFRAdu/cuXKzJkzFQpFenr6zp07iY10dXURb0GSEIlEQqGQ9o6kViF2+vLly0NDQ+Ez/1QqKipozcUdNQwL1LUt1Ysg+rIz4BZfRPQiFU498Z2SkkSuX7/u6enZu3dvXcpDIGiB0/pu3bqZwNsKHN99gkAYCEFBQYWFhRKJhJiZnZ09YsSIV155hb1u9+7dAQBdXV0w2dDQEBkZGRQUlJWVlZmZmZmZeeLEibCwMNLfiZiYmLa2toiIiKampvb29j179sDrJRs2bOjVq9fXX38NN8vMzCwsLIRf0erfv/8PP/wAnwxSKBSPHz/28/MDAFhbWxNvRnAR4Orqeu/ePQAAfAvOd9995+fnBy+K4HR0dMDbgrSIRCK93DDiDpO5YJL4nklSEs6TFAqFGoYF6tqW5EU4hm9nHL1IhRaD1qMmiVy/fp1peo1A6BipVGpubt6jRw9QVVUFAPjzzz/1tBodgVCT/fv3jxs3buHChatWrYKv51mxYkVgYCC+QWpqamJiYmJi4tOnT4kVxWIxAAB/MGrPnj3UCBk/fjx1jz///LOHh4eVldXQoUNjYmLkcjnMv3v37jvvvBMSErJw4UJ/f/+TJ0/CfIVCER8f7+3tvWjRosDAwE2bNuEvsLGysmpra+MuoK2tLSQkZOnSpWPHjt26devu3bup3wU7ePAg0zNQ8OmkQ4cOUYvu3LkTERGxePFiqVQaGhpKbKGtrS06OtrZ2Rk+ibZmzZrk5GTa9jnC/twcrbmqqqrgR3D79+8fHR1NSmIYlp6e7uHhAQCYMmXK+fPnVTUspq5tSV4EYbIzuyV5tzMX1HMJpaVKqa6uBgBUVFTQJnHEYrGDg8PFixdVahyB0BK7du2yt7fHMOzvpz8uXLigb0kIhKZERUVNnjyZmGNra3v06FHSZlKpVCAQaPgGPw3x8/OjfZkNO7m5udTDwdm+ffvOnTtpi+BXuqqqqmhLKyoqBg0alJiY2NLSQnpQX6FQWFlZlZeXYxjm6el57949VTXrGPUMi6luW1ovYrEzuyV1b2e1XUJpKTulpaUCgQC+TIuaRCAMk/j4+JEjR2IYZtKjR48ePXqgjx0i/gXMnTv39u3b5eXlMFlaWtrS0oKvE8exsLBwdnZmeSxfBwQEBBA/B8GRgoICls9clJSUBAQE0BaJRCI3Nzemu5YuLi4WFhZDhgzp06cP6RlDgUDg6upaU1Pz5MkTLy+vYcOGqapZx6hnWKC6bWm9iMXO7JbUvZ3Vdgmlpew8ffrU0dERXxRISiIQhkl9fX3//v0B/N7c6NGj8dMMAmG8jB49+syZM3FxcQkJCSkpKWlpaZs2bSK9jAAiFAofPXqke4U48+fPP3PmjKq1zMzMLC0taYs6Oztramrc3NyImY2NjUFBQU+ePMnPz1+1ahVTs01NTaampvB9ClQcHR2fPXuWkpKydetWVQXrHvUMC1S3LSB4EUc7s1tSN3bmxSXYS9mprKwkPqlHSiIQhkl5eTkcAUwBANOnT79//76+JSEQf6NQKDZu3Nja2vrixQuFQpGcnMz0lDgVHx8fHx8fpZv5+vrevn1bM5ka4eLi0r1796qqqkGDBnGvtXLlSqaio0ePLl++nJRpYWHx4sWL4ODgSZMmRUREUGs1NTWZmZnt27fv008/vXDhQkBAQHt7u4uLy2uvvXb58mX4ok57e/uioiI7Ozv4wgUDRz3DAtVtCwhepNTOEJIlOzs7dW9nDV3C0tKSWvraa69xF3Dnzp3JkyczJREIw+TBgwcfffQRAABgGJaXl+fg4IAvaEUg9EtWVpZQKIS/7e3tjxw5wvsuKioq3NzceG9WJerq6ti/fcadxsbGyMhINSrGxsZ6eHgUFxc3Nja6ublt374d5guFwry8PPg7Ojp63Lhx+Ee+DB8eDYux2lZVL6Ja0gDtzO4STKXcEQqFxAVnpCQCYYA8evSoZ8+ecNUdwDBMoVAMHjwYLQNHGAhyubypqQnDMIVCMXDgwMTERG3sxc/PTywWa6Nl7ty7d+/Jkyeat3Pjxg2pVKp5O5CWlpY1a9bgyaVLl2ZlZfHVuG7gy7CYMtuq5EUkSxqRnUlS1UYikfj6+jIlEQjDJD4+fs6cOfC3CQBAIBAkJiampaXp+eIXAgEAAMDExAS+PzAnJ0ehUAQHB2tjL1u2bDlw4IA2WubOsGHDBg4cqHk7np6ePL6ZsLW1FX71Ni8vTyaT2djYTJ06la/GdQNfhgXKbMvRi2gtaUR2xqVqyIEDB6KiopiSCIQBgmHYr7/+umPHDpj8+91u06dPl8vltO/dRyD0QmlpaXx8fH5+vr29vTba9/Pze/bsGXpilIqDg4OZmZlCoViwYEFYWNinn36qb0WGCxcvYrKkEdkZStWwkWfPntXW1uKPH5KSCIRhsn379vnz5+Mf7xJg//vQj1wu37Jly5IlS4YMGaI/eQgEAACIRKK9e/cmJCTQPvXGF1KpNC8vDy1BRWgC8iKO/PHHH56envhrBUhJBMIAyc7OrqioWLZsGZ7z/+dMkMrKSvgQBwKhLxoaGhYtWnTq1Cn4zfOMjIwZM2boWxQCgUAgXi6oMyLyB3rRhAmhdxITEy9fvjxo0CB7e/t+/frl5ubqWxECgUAgXjqoMyLydSYEAoFAIBAIBJX/B5L1Vg7f5xAIAAAAAElFTkSuQmCC\"></div>"
      ],
      "text/plain": [
       "FormBox[TagBox[RowBox[{\"(\", \"⁠\", \n",
       "\n",
       " \n",
       ">         TagBox[GridBox[{{RowBox[{FractionBox[\"1\", \"2\"], \" \", \n",
       "\n",
       " \n",
       ">               OverscriptBox[\"r\", \"^\"], \" \", SubscriptBox[\"ϵ\", \"G\"], \" \", \n",
       "\n",
       " \n",
       ">               RowBox[{\"(\", RowBox[{RowBox[{OverscriptBox[\"r\", \"^\"], \" \", \n",
       "\n",
       " \n",
       ">                     OverscriptBox[\"ω\", \"^\"], \" \", \n",
       "\n",
       " \n",
       ">                     RowBox[{\"(\", RowBox[{RowBox[{RowBox[{\"sin\", \"(\", \n",
       "\n",
       " \n",
       ">                             RowBox[{\"2\", \" \", \"ϕ\"}], \")\"}], \" \", \n",
       "\n",
       " \n",
       ">                           RowBox[{\"(\", \n",
       "\n",
       " \n",
       ">                             RowBox[{TemplateBox[List[SubscriptBox[\n",
       "\n",
       " \n",
       ">                            OverscriptBox[\"f\", \"^\"], \n",
       "\n",
       " \n",
       ">                            RowBox[List[\"x\", \",\", \"x\"]]], \"\\\"(5)\\\"\"], \n",
       "\n",
       " \n",
       ">                             \"Superscript\", Rule[SyntaxForm, SuperscriptBox]], \n",
       "\n",
       " \n",
       ">                             \"-\", \n",
       "\n",
       " \n",
       ">                             TemplateBox[List[SubscriptBox[OverscriptB\\\n",
       "\n",
       " \n",
       ">   ox[\"f\", \"^\"], RowBox[List[\"y\", \",\", \"y\"]]], \"\\\"(5)\\\"\"], \"Superscript\", \n",
       "\n",
       " \n",
       ">                             Rule[SyntaxForm, SuperscriptBox]]}], \")\"}]}], \"-\", \n",
       "\n",
       " \n",
       ">                         RowBox[{\"2\", \" \", \n",
       "\n",
       " \n",
       ">                           RowBox[{\"cos\", \"(\", RowBox[{\"2\", \" \", \"ϕ\"}], \")\"}], \n",
       "\n",
       " \n",
       ">                           \" \", TemplateBox[List[SubscriptBox[OverscriptB\\\n",
       "\n",
       " \n",
       ">   ox[\"f\", \"^\"], RowBox[List[\"x\", \",\", \"y\"]]], \"\\\"(5)\\\"\"], \"Superscript\", \n",
       "\n",
       " \n",
       ">                            Rule[SyntaxForm, SuperscriptBox]]}]}], \")\"}]}], \"-\", \n",
       "\n",
       " \n",
       ">                   RowBox[{\"2\", \" \", SuperscriptBox[OverscriptBox[\"r\", \"^\"], \"′\"], \n",
       "\n",
       " \n",
       ">                     \" \", RowBox[{\"(\", \n",
       "\n",
       " \n",
       ">                       RowBox[{RowBox[{RowBox[{\"sin\", \"(\", \n",
       "\n",
       " \n",
       ">                             RowBox[{\"2\", \" \", \"ϕ\"}], \")\"}], \" \", \n",
       "\n",
       " \n",
       ">                           TemplateBox[List[SubscriptBox[OverscriptBox[\"f\", \n",
       "\n",
       " \n",
       ">                             \"^\"], RowBox[List[\"x\", \",\", \"y\"]]], \"\\\"(5)\\\"\"], \n",
       "\n",
       " \n",
       ">                            \"Superscript\", Rule[SyntaxForm, SuperscriptBox]]}], \n",
       "\n",
       " \n",
       ">                         \"+\", RowBox[{RowBox[{SuperscriptBox[\"cos\", \"2\"], \"(\", \n",
       "\n",
       " \n",
       ">                             \"ϕ\", \")\"}], \" \", \n",
       "\n",
       " \n",
       ">                           TemplateBox[List[SubscriptBox[OverscriptBox[\"f\", \n",
       "\n",
       " \n",
       ">                             \"^\"], RowBox[List[\"x\", \",\", \"x\"]]], \"\\\"(5)\\\"\"], \n",
       "\n",
       " \n",
       ">                            \"Superscript\", Rule[SyntaxForm, SuperscriptBox]]}], \n",
       "\n",
       " \n",
       ">                         \"+\", RowBox[{RowBox[{SuperscriptBox[\"sin\", \"2\"], \"(\", \n",
       "\n",
       " \n",
       ">                             \"ϕ\", \")\"}], \" \", \n",
       "\n",
       " \n",
       ">                           TemplateBox[List[SubscriptBox[OverscriptBox[\"f\", \n",
       "\n",
       " \n",
       ">                             \"^\"], RowBox[List[\"y\", \",\", \"y\"]]], \"\\\"(5)\\\"\"], \n",
       "\n",
       " \n",
       ">                            \"Superscript\", Rule[SyntaxForm, SuperscriptBox]]}]}], \n",
       "\n",
       " \n",
       ">                       \")\"}]}]}], \")\"}]}]}, \n",
       "\n",
       " \n",
       ">            {RowBox[{RowBox[{\"-\", FractionBox[\"1\", \"2\"]}], \" \", \n",
       "\n",
       " \n",
       ">               SuperscriptBox[OverscriptBox[\"r\", \"^\"], \"2\"], \" \", \n",
       "\n",
       " \n",
       ">               SubscriptBox[\"ϵ\", \"G\"], \" \", \n",
       "\n",
       " \n",
       ">               RowBox[{\"(\", RowBox[{RowBox[{RowBox[{\"sin\", \"(\", \n",
       "\n",
       " \n",
       ">                       RowBox[{\"2\", \" \", \"ϕ\"}], \")\"}], \" \", \n",
       "\n",
       " \n",
       ">                     RowBox[{\"(\", RowBox[{TemplateBox[List[SubscriptBox[\n",
       "\n",
       " \n",
       ">                            OverscriptBox[\"f\", \"^\"], \n",
       "\n",
       " \n",
       ">                            RowBox[List[\"y\", \",\", \"y\"]]], \"\\\"(5)\\\"\"], \n",
       "\n",
       " \n",
       ">                          \"Superscript\", Rule[SyntaxForm, SuperscriptBox]], \"-\", \n",
       "\n",
       " \n",
       ">                         TemplateBox[List[SubscriptBox[OverscriptBox[\"f\", \"^\"], \n",
       "\n",
       " \n",
       ">                            RowBox[List[\"x\", \",\", \"x\"]]], \"\\\"(5)\\\"\"], \n",
       "\n",
       " \n",
       ">                          \"Superscript\", Rule[SyntaxForm, SuperscriptBox]]}], \")\"}]}\\\n",
       "\n",
       " \n",
       ">   ], \"+\", RowBox[{\"2\", \" \", RowBox[{\"cos\", \"(\", RowBox[{\"2\", \" \", \"ϕ\"}], \")\"}], \n",
       "\n",
       " \n",
       ">                     \" \", TemplateBox[List[SubscriptBox[OverscriptBox[\"f\", \"^\"], \n",
       "\n",
       " \n",
       ">                        RowBox[List[\"x\", \",\", \"y\"]]], \"\\\"(5)\\\"\"], \"Superscript\", \n",
       "\n",
       " \n",
       ">                      Rule[SyntaxForm, SuperscriptBox]]}]}], \")\"}]}]}}, \n",
       "\n",
       " \n",
       ">           Rule[RowSpacings, 1], Rule[ColumnAlignments, Center], \n",
       "\n",
       " \n",
       ">           Rule[ColumnAlignments, Left]], Column], \"⁠\", \")\"}], \n",
       "\n",
       " \n",
       ">       Function[BoxForm`e$, MatrixForm[BoxForm`e$]]], TraditionalForm]\n"
      ]
     },
     "execution_count": 452,
     "metadata": {
      "text/html": [],
      "text/plain": []
     },
     "output_type": "execute_result"
    }
   ],
   "source": [
    "RHSEnegry = FullSimplify[Transform . RHSMotion, Trig -> True];\n",
    "RHSEnegry // MatrixForm // TraditionalForm"
   ]
  },
  {
   "cell_type": "markdown",
   "metadata": {},
   "source": [
    "## **Другой Способ** получения уравнений движения и энергетических уравнений через лагранжев формализм в полярных координатах"
   ]
  },
  {
   "cell_type": "markdown",
   "metadata": {},
   "source": [
    "### **Лагранжиан системы**\n",
    "Лагранжиан $L$ в полярных координатах $(r, \\phi)$ выражается как:\n",
    "$$\n",
    "L = T - (U + \\mu\\Phi),\n",
    "$$\n",
    "где:\n",
    "- $T$ — кинетическая энергия,\n",
    "- $U$ — потенциальная энергия\n",
    "- $\\Phi = \\frac{1}{5}f_{ij}^{(5)}r_i r_j = \\frac{\\epsilon_G}{2}\\frac{b^2}{t_0^2}\\hat{f}_{ij}^{(5)}\\hat{r}_i \\hat{r}_j = \\frac{5}{2}\\epsilon_G\\frac{GM}{b}\\hat{\\Phi}$ - малый потенциал \"реакции излучения\""
   ]
  },
  {
   "cell_type": "markdown",
   "metadata": {},
   "source": [
    "Безразмерный малый потенциал \"реакции излучения\" $\\hat{\\Phi} = \\frac{1}{5}\\hat{f}_{ij}^{(5)}\\hat{r}_i\\hat{r}_j$"
   ]
  },
  {
   "cell_type": "code",
   "execution_count": 454,
   "metadata": {
    "vscode": {
     "languageId": "wolfram"
    }
   },
   "outputs": [
    {
     "data": {
      "text/html": [
       "<div><img alt=\"Output\" src=\"data:image/png;base64,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\"></div>"
      ],
      "text/plain": [
       "FormBox[RowBox[{FractionBox[\"1\", \"5\"], \" \", \n",
       "\n",
       " \n",
       ">        RowBox[{\"(\", RowBox[{RowBox[{OverscriptBox[\"r\", \"^\"], \" \", \n",
       "\n",
       " \n",
       ">              RowBox[{\"cos\", \"(\", \"ϕ\", \")\"}], \" \", \n",
       "\n",
       " \n",
       ">              RowBox[{\"(\", RowBox[{RowBox[{OverscriptBox[\"r\", \"^\"], \" \", \n",
       "\n",
       " \n",
       ">                    RowBox[{\"sin\", \"(\", \"ϕ\", \")\"}], \" \", \n",
       "\n",
       " \n",
       ">                    TemplateBox[List[SubscriptBox[OverscriptBox[\"f\", \"^\"], \n",
       "\n",
       " \n",
       ">                       RowBox[List[\"x\", \",\", \"y\"]]], \"\\\"(5)\\\"\"], \"Superscript\", \n",
       "\n",
       " \n",
       ">                     Rule[SyntaxForm, SuperscriptBox]]}], \"+\", \n",
       "\n",
       " \n",
       ">                  RowBox[{OverscriptBox[\"r\", \"^\"], \" \", \n",
       "\n",
       " \n",
       ">                    RowBox[{\"cos\", \"(\", \"ϕ\", \")\"}], \" \", \n",
       "\n",
       " \n",
       ">                    TemplateBox[List[SubscriptBox[OverscriptBox[\"f\", \"^\"], \n",
       "\n",
       " \n",
       ">                       RowBox[List[\"x\", \",\", \"x\"]]], \"\\\"(5)\\\"\"], \"Superscript\", \n",
       "\n",
       " \n",
       ">                     Rule[SyntaxForm, SuperscriptBox]]}]}], \")\"}]}], \"+\", \n",
       "\n",
       " \n",
       ">            RowBox[{OverscriptBox[\"r\", \"^\"], \" \", RowBox[{\"sin\", \"(\", \"ϕ\", \")\"}], \" \", \n",
       "\n",
       " \n",
       ">              RowBox[{\"(\", RowBox[{RowBox[{OverscriptBox[\"r\", \"^\"], \" \", \n",
       "\n",
       " \n",
       ">                    RowBox[{\"cos\", \"(\", \"ϕ\", \")\"}], \" \", \n",
       "\n",
       " \n",
       ">                    TemplateBox[List[SubscriptBox[OverscriptBox[\"f\", \"^\"], \n",
       "\n",
       " \n",
       ">                       RowBox[List[\"x\", \",\", \"y\"]]], \"\\\"(5)\\\"\"], \"Superscript\", \n",
       "\n",
       " \n",
       ">                     Rule[SyntaxForm, SuperscriptBox]]}], \"+\", \n",
       "\n",
       " \n",
       ">                  RowBox[{OverscriptBox[\"r\", \"^\"], \" \", RowBox[{\"sin\", \"(\", \"ϕ\", \")\"}],\\\n",
       " \n",
       ">    \n",
       "                 \" \", TemplateBox[List[SubscriptBox[OverscriptBox[\"f\", \"^\"], \n",
       "\n",
       " \n",
       ">                       RowBox[List[\"y\", \",\", \"y\"]]], \"\\\"(5)\\\"\"], \"Superscript\", \n",
       "\n",
       " \n",
       ">                     Rule[SyntaxForm, SuperscriptBox]]}]}], \")\"}]}]}], \")\"}]}], \n",
       "\n",
       " \n",
       ">      TraditionalForm]\n"
      ]
     },
     "execution_count": 454,
     "metadata": {
      "text/html": [],
      "text/plain": []
     },
     "output_type": "execute_result"
    }
   ],
   "source": [
    "fh5rhrh = 1/5 EinsteinSummation[{{i, j}, {i}, {j}}, {fh5, rh, rh}];\n",
    "fh5rhrh // TraditionalForm"
   ]
  },
  {
   "cell_type": "markdown",
   "metadata": {},
   "source": [
    "Безразмерный лагранжиан\n",
    "\n",
    "$$\n",
    "\\hat{L} = \\hat{T} - (\\hat{U} + \\frac{5}{2}\\epsilon_G\\hat{\\Phi}),\n",
    "$$\n",
    "или\n",
    "$$\n",
    "\\hat{L} = \\frac{1}{2} \\left((\\hat{r}^{(1)})^2 + \\hat{r}^2 \\hat{\\omega}^2 \\right) + \\frac{1}{\\hat{r}} - \\frac{\\epsilon_G}{2}\\hat{f}_{ij}^{(5)}\\hat{r}_i \\hat{r}_j.\n",
    "$$"
   ]
  },
  {
   "cell_type": "markdown",
   "metadata": {},
   "source": [
    "### **Уравнения Эйлера-Лагранжа**\n",
    "Уравнения Эйлера-Лагранжа имеют вид:\n",
    "$$\n",
    "\\frac{d}{dt} \\left( \\frac{\\partial \\hat{L}}{\\partial \\dot{q}_i} \\right) - \\frac{\\partial \\hat{L}}{\\partial q_i} = 0,\n",
    "$$\n",
    "где $q_i$ — обобщённые координаты ($\\hat{r}$ и $\\phi$)."
   ]
  },
  {
   "cell_type": "markdown",
   "metadata": {},
   "source": [
    "---\n",
    "\n",
    "#### Уравнение для координаты $\\hat{r}$:\n",
    "$$\n",
    "\\frac{d}{d\\hat{t}} \\left(\\frac{\\partial \\hat{L}}{\\partial \\hat{r}^{(1)}} \\right) - \\frac{\\partial \\hat{L}}{\\partial \\hat{r}} = 0.\n",
    "$$\n",
    "Вычислим производные:\n",
    "$$\n",
    "\\frac{\\partial \\hat{L}}{\\partial \\hat{r}^{(1)}} = \\hat{r}^{(1)}, \\quad \\frac{d}{d\\hat{t}} \\left( \\frac{\\partial \\hat{L}}{\\partial \\hat{r}^{(1)}} \\right) = \\hat{r}^{(2)},\n",
    "$$\n",
    "$$\n",
    "\\frac{\\partial \\hat{L}}{\\partial \\hat{r}} = \\hat{r} \\hat{\\omega}^2 - \\frac{1}{\\hat{r}^2} - \\frac{5}{2}\\epsilon_G\\frac{\\partial \\hat{\\Phi}}{\\partial \\hat{r}}.\n",
    "$$\n",
    "Подставляем в уравнение Эйлера-Лагранжа:\n",
    "$$\n",
    "\\hat{r}^{(2)} - \\hat{r} \\hat{\\omega}^2 + \\frac{1}{\\hat{r}^2} = - \\frac{5}{2}\\epsilon_G\\frac{\\partial \\hat{\\Phi}}{\\partial \\hat{r}}.\n",
    "$$\n",
    "\n",
    "Это **радиальное уравнение движения**.\n",
    "\n",
    "Здесь \n",
    "$$\n",
    "\\frac{\\partial \\hat{\\Phi}}{\\partial \\hat{r}} = \\frac{1}{5}\\hat{f}_{ij}^{(5)}\\left(\\frac{\\partial \\hat{r}_i}{\\partial \\hat{r}}\\hat{r}_j + \\hat{r}_i\\frac{\\partial \\hat{r}_j}{\\partial \\hat{r}}\\right)\n",
    "$$\n",
    "<span style=\"color:red\">**TODO_1:**</span> Обсудить почему $\\hat{f}_{ij}^{(5)}$ берётся заданной функцией, не зависящей от $\\hat{r}$ при вариации лагранжиана."
   ]
  },
  {
   "cell_type": "markdown",
   "metadata": {},
   "source": [
    "Правая часть радиального уравнения движения будет выглядеть как"
   ]
  },
  {
   "cell_type": "code",
   "execution_count": 456,
   "metadata": {
    "vscode": {
     "languageId": "wolfram"
    }
   },
   "outputs": [
    {
     "data": {
      "text/html": [
       "<div><img alt=\"Output\" src=\"data:image/png;base64,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\"></div>"
      ],
      "text/plain": [
       "FormBox[RowBox[{OverscriptBox[\"r\", \"^\"], \" \", \n",
       "\n",
       " \n",
       ">        RowBox[{\"(\", RowBox[{\"-\", SubscriptBox[\"ϵ\", \"G\"]}], \")\"}], \" \", \n",
       "\n",
       " \n",
       ">        RowBox[{\"(\", RowBox[{RowBox[{RowBox[{\"sin\", \"(\", RowBox[{\"2\", \" \", \"ϕ\"}], \n",
       "\n",
       " \n",
       ">                \")\"}], \" \", TemplateBox[List[SubscriptBox[OverscriptBox[\"f\", \"^\"], \n",
       "\n",
       " \n",
       ">                 RowBox[List[\"x\", \",\", \"y\"]]], \"\\\"(5)\\\"\"], \"Superscript\", \n",
       "\n",
       " \n",
       ">               Rule[SyntaxForm, SuperscriptBox]]}], \"+\", \n",
       "\n",
       " \n",
       ">            RowBox[{RowBox[{SuperscriptBox[\"cos\", \"2\"], \"(\", \"ϕ\", \")\"}], \" \", \n",
       "\n",
       " \n",
       ">              TemplateBox[List[SubscriptBox[OverscriptBox[\"f\", \"^\"], \n",
       "\n",
       " \n",
       ">                 RowBox[List[\"x\", \",\", \"x\"]]], \"\\\"(5)\\\"\"], \"Superscript\", \n",
       "\n",
       " \n",
       ">               Rule[SyntaxForm, SuperscriptBox]]}], \"+\", \n",
       "\n",
       " \n",
       ">            RowBox[{RowBox[{SuperscriptBox[\"sin\", \"2\"], \"(\", \"ϕ\", \")\"}], \" \", \n",
       "\n",
       " \n",
       ">              TemplateBox[List[SubscriptBox[OverscriptBox[\"f\", \"^\"], \n",
       "\n",
       " \n",
       ">                 RowBox[List[\"y\", \",\", \"y\"]]], \"\\\"(5)\\\"\"], \"Superscript\", \n",
       "\n",
       " \n",
       ">               Rule[SyntaxForm, SuperscriptBox]]}]}], \")\"}]}], TraditionalForm]\n"
      ]
     },
     "execution_count": 456,
     "metadata": {
      "text/html": [],
      "text/plain": []
     },
     "output_type": "execute_result"
    }
   ],
   "source": [
    "RHSMotionRadialLagrange = - 1/2 Subscript[\\[Epsilon], G] FullSimplify[EinsteinSummation[{{i, j}, {i}, {j}}, {fh5, D[rh, OverHat[r][OverHat[t]]], rh}] + EinsteinSummation[{{i, j}, {i}, {j}}, {fh5, rh, D[rh, OverHat[r][OverHat[t]]]}]];\n",
    "RHSMotionRadialLagrange // TraditionalForm"
   ]
  },
  {
   "cell_type": "markdown",
   "metadata": {},
   "source": [
    "<span style=\"color:brown\">**NB:**</span> Выражение <span style=\"color:green\">**совпадает**</span> с раннее полученным уравнением и с уравнением (10) из файла Binary.pdf"
   ]
  },
  {
   "cell_type": "code",
   "execution_count": 457,
   "metadata": {
    "vscode": {
     "languageId": "wolfram"
    }
   },
   "outputs": [
    {
     "data": {
      "text/html": [
       "<div><pre style=\"&#102;&#111;&#110;&#116;&#45;&#102;&#97;&#109;&#105;&#108;&#121;&#58;&#32;&#34;&#67;&#111;&#117;&#114;&#105;&#101;&#114;&#32;&#78;&#101;&#119;&#34;&#44;&#67;&#111;&#117;&#114;&#105;&#101;&#114;&#44;&#109;&#111;&#110;&#111;&#115;&#112;&#97;&#99;&#101;&#59;\">&#48;</pre></div>"
      ],
      "text/plain": [
       "0"
      ]
     },
     "execution_count": 457,
     "metadata": {
      "text/html": [],
      "text/plain": []
     },
     "output_type": "execute_result"
    }
   ],
   "source": [
    "RHSMotion[[1]] - RHSMotionRadialLagrange"
   ]
  },
  {
   "cell_type": "markdown",
   "metadata": {},
   "source": [
    "---\n",
    "\n",
    "#### Уравнение для координаты $\\phi$:\n",
    "$$\n",
    "\\frac{d}{d\\hat{t}} \\left(\\frac{\\partial \\hat{L}}{\\partial \\hat{\\omega}} \\right) - \\frac{\\partial \\hat{L}}{\\partial \\phi} = 0.\n",
    "$$\n",
    "Вычислим производные:\n",
    "$$\n",
    "\\frac{\\partial \\hat{L}}{\\partial \\hat{\\omega}} = \\hat{r}^2 \\hat{\\omega}, \\quad \\frac{d}{d\\hat{t}} \\left( \\frac{\\partial \\hat{L}}{\\partial \\hat{\\omega}} \\right) = \\frac{d}{d\\hat{t}} \\left( \\hat{r}^2 \\hat{\\omega} \\right),\n",
    "$$\n",
    "$$\n",
    "\\frac{\\partial \\hat{L}}{\\partial \\phi} = - \\frac{5}{2}\\epsilon_G\\frac{\\partial \\hat{\\Phi}}{\\partial \\phi}.\n",
    "$$\n",
    "Подставляем в уравнение Эйлера-Лагранжа:\n",
    "$$\n",
    "\\frac{1}{\\hat{r}}\\frac{d}{d\\hat{t}} \\left( \\hat{r}^2 \\hat{\\omega} \\right) = \\frac{1}{\\hat{r}}\\frac{d\\hat{J}}{d\\hat{t}} = - \\frac{5}{2}\\frac{\\epsilon_G}{\\hat{r}}\\frac{\\partial \\hat{\\Phi}}{\\partial \\phi}.\n",
    "$$\n",
    "\n",
    "Здесь \n",
    "$$\n",
    "\\frac{\\partial \\hat{\\Phi}}{\\partial \\phi} = \\frac{1}{5}\\hat{f}_{ij}^{(5)}\\left(\\frac{\\partial \\hat{r}_i}{\\partial \\phi}\\hat{r}_j + \\hat{r}_i\\frac{\\partial \\hat{r}_j}{\\partial \\phi}\\right)\n",
    "$$\n",
    "<span style=\"color:red\">**TODO_2:**</span> Обсудить почему $\\hat{f}_{ij}^{(5)}$ берётся заданной функцией, не зависящей от $\\phi$ при вариации лагранжиана."
   ]
  },
  {
   "cell_type": "markdown",
   "metadata": {},
   "source": [
    "Правая часть уравнения движения для $\\phi$ будет выглядеть как"
   ]
  },
  {
   "cell_type": "code",
   "execution_count": 459,
   "metadata": {
    "vscode": {
     "languageId": "wolfram"
    }
   },
   "outputs": [
    {
     "data": {
      "text/html": [
       "<div><img alt=\"Output\" src=\"data:image/png;base64,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\"></div>"
      ],
      "text/plain": [
       "FormBox[RowBox[{RowBox[{\"-\", FractionBox[\"1\", \"2\"]}], \" \", OverscriptBox[\"r\", \"^\"], \n",
       "\n",
       " \n",
       ">        \" \", SubscriptBox[\"ϵ\", \"G\"], \" \", \n",
       "\n",
       " \n",
       ">        RowBox[{\"(\", RowBox[{RowBox[{RowBox[{\"sin\", \"(\", RowBox[{\"2\", \" \", \"ϕ\"}], \n",
       "\n",
       " \n",
       ">                \")\"}], \" \", RowBox[{\"(\", \n",
       "\n",
       " \n",
       ">                RowBox[{TemplateBox[List[SubscriptBox[OverscriptBox[\"f\", \"^\"], \n",
       "\n",
       " \n",
       ">                     RowBox[List[\"y\", \",\", \"y\"]]], \"\\\"(5)\\\"\"], \"Superscript\", \n",
       "\n",
       " \n",
       ">                   Rule[SyntaxForm, SuperscriptBox]], \"-\", \n",
       "\n",
       " \n",
       ">                  TemplateBox[List[SubscriptBox[OverscriptBox[\"f\", \"^\"], \n",
       "\n",
       " \n",
       ">                     RowBox[List[\"x\", \",\", \"x\"]]], \"\\\"(5)\\\"\"], \"Superscript\", \n",
       "\n",
       " \n",
       ">                   Rule[SyntaxForm, SuperscriptBox]]}], \")\"}]}], \"+\", \n",
       "\n",
       " \n",
       ">            RowBox[{\"2\", \" \", RowBox[{\"cos\", \"(\", RowBox[{\"2\", \" \", \"ϕ\"}], \")\"}], \" \", \n",
       "\n",
       " \n",
       ">              TemplateBox[List[SubscriptBox[OverscriptBox[\"f\", \"^\"], \n",
       "\n",
       " \n",
       ">                 RowBox[List[\"x\", \",\", \"y\"]]], \"\\\"(5)\\\"\"], \"Superscript\", \n",
       "\n",
       " \n",
       ">               Rule[SyntaxForm, SuperscriptBox]]}]}], \")\"}]}], TraditionalForm]\n"
      ]
     },
     "execution_count": 459,
     "metadata": {
      "text/html": [],
      "text/plain": []
     },
     "output_type": "execute_result"
    }
   ],
   "source": [
    "RHSMotionPhiLagrange = - 1/2 Subscript[\\[Epsilon], G] FullSimplify[EinsteinSummation[{{i, j}, {i}, {j}}, {fh5, D[rh, \\[Phi][OverHat[t]]], rh}] + EinsteinSummation[{{i, j}, {i}, {j}}, {fh5, rh, D[rh, \\[Phi][OverHat[t]]]}]]/OverHat[r][OverHat[t]];\n",
    "RHSMotionPhiLagrange // TraditionalForm"
   ]
  },
  {
   "cell_type": "markdown",
   "metadata": {},
   "source": [
    "<span style=\"color:brown\">**NB:**</span> Выражение <span style=\"color:green\">**совпадает**</span> с раннее полученным уравнением и с уравнением (9) из файла Binary.pdf"
   ]
  },
  {
   "cell_type": "code",
   "execution_count": 460,
   "metadata": {
    "vscode": {
     "languageId": "wolfram"
    }
   },
   "outputs": [
    {
     "data": {
      "text/html": [
       "<div><pre style=\"&#102;&#111;&#110;&#116;&#45;&#102;&#97;&#109;&#105;&#108;&#121;&#58;&#32;&#34;&#67;&#111;&#117;&#114;&#105;&#101;&#114;&#32;&#78;&#101;&#119;&#34;&#44;&#67;&#111;&#117;&#114;&#105;&#101;&#114;&#44;&#109;&#111;&#110;&#111;&#115;&#112;&#97;&#99;&#101;&#59;\">&#48;</pre></div>"
      ],
      "text/plain": [
       "0"
      ]
     },
     "execution_count": 460,
     "metadata": {
      "text/html": [],
      "text/plain": []
     },
     "output_type": "execute_result"
    }
   ],
   "source": [
    "RHSMotion[[2]] - RHSMotionPhiLagrange"
   ]
  },
  {
   "cell_type": "markdown",
   "metadata": {},
   "source": [
    "## Получим **энергетическую** систему уравнений в подходе Лагранжа"
   ]
  },
  {
   "cell_type": "markdown",
   "metadata": {},
   "source": [
    "Заметим, что энергия системы:\n",
    "$$\n",
    "\\hat{E} = \\frac{(\\hat{r}^{(1)})^2}{2} + \\frac{\\hat{r}^2 \\hat{\\omega}^2}{2} - \\frac{1}{\\hat{r}}\n",
    "$$\n",
    "$$\n",
    "\\frac{1}{\\hat{r}^{(1)}}\\left(\\frac{d\\hat{E}}{d\\hat{t}} - \\hat{\\omega} \\frac{d\\hat{J}}{d\\hat{t}}\\right) = \\hat{r}^{(2)} - \\hat{r} \\hat{\\omega}^2 + \\frac{1}{\\hat{r}^2}\n",
    "$$\n",
    "\n",
    "А также уравнение для изменения момента импульса системы есть\n",
    "$$\n",
    "\\frac{d\\hat{J}}{d\\hat{t}} = - \\frac{5}{2}\\epsilon_G\\frac{\\partial \\hat{\\Phi}}{\\partial \\phi}.\n",
    "$$\n",
    "\n",
    "Итоговая энергетическая система, выведенная по-новому будет записываться как:\n",
    "\n",
    "$$\n",
    "\\begin{align}\n",
    "\\frac{d\\hat{E}}{d\\hat{t}} &= - \\frac{5}{2}\\epsilon_G\\left(\\hat{r}^{(1)}\\frac{\\partial \\hat{\\Phi}}{\\partial \\hat{r}} + \\hat{\\omega} \\frac{\\partial \\hat{\\Phi}}{\\partial \\phi}\\right) = - \\frac{5}{2}\\epsilon_G \\frac{d\\hat{\\Phi}}{d\\hat{t}}\n",
    "  = - \\frac{\\epsilon_G}{2}\\hat{f}_{ij}^{(5)}\\left(\\frac{d\\hat{r}_i}{d\\hat{t}}\\hat{r}_j + \\hat{r}_i\\frac{d\\hat{r}_j}{d\\hat{t}}\\right)\n",
    "  = - \\frac{\\epsilon_G}{2}\\hat{f}_{ij}^{(5)}\\frac{d(\\hat{r}_i \\hat{r}_j)}{d\\hat{t}}\n",
    "\\\\\n",
    "\\frac{d\\hat{J}}{d\\hat{t}} &= - \\frac{5}{2}\\epsilon_G\\frac{\\partial \\hat{\\Phi}}{\\partial \\phi}\n",
    "  = - \\frac{\\epsilon_G}{2}\\hat{f}_{ij}^{(5)}\\left(\\frac{\\partial \\hat{r}_i}{\\partial \\phi}\\hat{r}_j + \\hat{r}_i\\frac{\\partial \\hat{r}_j}{\\partial \\phi}\\right)\n",
    "  = - \\frac{\\epsilon_G}{2}\\hat{f}_{ij}^{(5)}\\frac{d(\\hat{r}_i \\hat{r}_j)}{d\\phi}\n",
    "\\end{align}\n",
    "$$"
   ]
  },
  {
   "cell_type": "markdown",
   "metadata": {},
   "source": [
    "<span style=\"color:red\">**TODO_3:**</span> Обсудить почему $\\hat{f}_{ij}^{(5)}$ берётся заданной функцией, не зависящей от $\\hat{r}, \\phi, \\hat{t}$ при вариации лагранжиана."
   ]
  },
  {
   "cell_type": "code",
   "execution_count": 462,
   "metadata": {
    "vscode": {
     "languageId": "wolfram"
    }
   },
   "outputs": [
    {
     "data": {
      "text/html": [
       "<div><img alt=\"Output\" src=\"data:image/png;base64,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\"></div>"
      ],
      "text/plain": [
       "FormBox[TagBox[RowBox[{\"(\", \"⁠\", \n",
       "\n",
       " \n",
       ">         TagBox[GridBox[{{RowBox[{OverscriptBox[\"r\", \"^\"], \" \", \n",
       "\n",
       " \n",
       ">               RowBox[{\"(\", RowBox[{\"-\", SubscriptBox[\"ϵ\", \"G\"]}], \")\"}], \" \", \n",
       "\n",
       " \n",
       ">               RowBox[{\"(\", RowBox[{RowBox[{OverscriptBox[\"r\", \"^\"], \" \", \n",
       "\n",
       " \n",
       ">                     OverscriptBox[\"ω\", \"^\"], \" \", \n",
       "\n",
       " \n",
       ">                     RowBox[{\"(\", RowBox[{RowBox[{RowBox[{\"cos\", \"(\", \n",
       "\n",
       " \n",
       ">                             RowBox[{\"2\", \" \", \"ϕ\"}], \")\"}], \" \", \n",
       "\n",
       " \n",
       ">                           TemplateBox[List[SubscriptBox[OverscriptBox[\"f\", \n",
       "\n",
       " \n",
       ">                             \"^\"], RowBox[List[\"x\", \",\", \"y\"]]], \"\\\"(5)\\\"\"], \n",
       "\n",
       " \n",
       ">                            \"Superscript\", Rule[SyntaxForm, SuperscriptBox]]}], \n",
       "\n",
       " \n",
       ">                         \"+\", RowBox[{RowBox[{\"sin\", \"(\", \"ϕ\", \")\"}], \" \", \n",
       "\n",
       " \n",
       ">                           RowBox[{\"cos\", \"(\", \"ϕ\", \")\"}], \" \", \n",
       "\n",
       " \n",
       ">                           RowBox[{\"(\", \n",
       "\n",
       " \n",
       ">                             RowBox[{TemplateBox[List[SubscriptBox[\n",
       "\n",
       " \n",
       ">                             OverscriptBox[\"f\", \"^\"], \n",
       "\n",
       " \n",
       ">                             RowBox[List[\"y\", \",\", \"y\"]]], \"\\\"(5)\\\"\"], \n",
       "\n",
       " \n",
       ">                             \"Superscript\", Rule[SyntaxForm, SuperscriptBox]], \n",
       "\n",
       " \n",
       ">                              \"-\", \n",
       "\n",
       " \n",
       ">                              TemplateBox[List[SubscriptBox[OverscriptB\\\n",
       "\n",
       " \n",
       ">   ox[\"f\", \"^\"], RowBox[List[\"x\", \",\", \"x\"]]], \"\\\"(5)\\\"\"], \"Superscript\", \n",
       "\n",
       " \n",
       ">                              Rule[SyntaxForm, SuperscriptBox]]}], \")\"}]}]}], \")\"}]\\\n",
       "\n",
       " \n",
       ">   }], \"+\", RowBox[{SuperscriptBox[OverscriptBox[\"r\", \"^\"], \"′\"], \" \", \n",
       "\n",
       " \n",
       ">                     RowBox[{\"(\", RowBox[{RowBox[{RowBox[{\"sin\", \"(\", \n",
       "\n",
       " \n",
       ">                             RowBox[{\"2\", \" \", \"ϕ\"}], \")\"}], \" \", \n",
       "\n",
       " \n",
       ">                           TemplateBox[List[SubscriptBox[OverscriptBox[\"f\", \n",
       "\n",
       " \n",
       ">                             \"^\"], RowBox[List[\"x\", \",\", \"y\"]]], \"\\\"(5)\\\"\"], \n",
       "\n",
       " \n",
       ">                            \"Superscript\", Rule[SyntaxForm, SuperscriptBox]]}], \n",
       "\n",
       " \n",
       ">                         \"+\", RowBox[{RowBox[{SuperscriptBox[\"cos\", \"2\"], \"(\", \n",
       "\n",
       " \n",
       ">                             \"ϕ\", \")\"}], \" \", \n",
       "\n",
       " \n",
       ">                           TemplateBox[List[SubscriptBox[OverscriptBox[\"f\", \n",
       "\n",
       " \n",
       ">                             \"^\"], RowBox[List[\"x\", \",\", \"x\"]]], \"\\\"(5)\\\"\"], \n",
       "\n",
       " \n",
       ">                            \"Superscript\", Rule[SyntaxForm, SuperscriptBox]]}], \n",
       "\n",
       " \n",
       ">                         \"+\", RowBox[{RowBox[{SuperscriptBox[\"sin\", \"2\"], \"(\", \n",
       "\n",
       " \n",
       ">                             \"ϕ\", \")\"}], \" \", \n",
       "\n",
       " \n",
       ">                           TemplateBox[List[SubscriptBox[OverscriptBox[\"f\", \n",
       "\n",
       " \n",
       ">                             \"^\"], RowBox[List[\"y\", \",\", \"y\"]]], \"\\\"(5)\\\"\"], \n",
       "\n",
       " \n",
       ">                            \"Superscript\", Rule[SyntaxForm, SuperscriptBox]]}]}], \n",
       "\n",
       " \n",
       ">                       \")\"}]}]}], \")\"}]}]}, \n",
       "\n",
       " \n",
       ">            {RowBox[{RowBox[{\"-\", FractionBox[\"1\", \"2\"]}], \" \", \n",
       "\n",
       " \n",
       ">               SuperscriptBox[OverscriptBox[\"r\", \"^\"], \"2\"], \" \", \n",
       "\n",
       " \n",
       ">               SubscriptBox[\"ϵ\", \"G\"], \" \", \n",
       "\n",
       " \n",
       ">               RowBox[{\"(\", RowBox[{RowBox[{RowBox[{\"sin\", \"(\", \n",
       "\n",
       " \n",
       ">                       RowBox[{\"2\", \" \", \"ϕ\"}], \")\"}], \" \", \n",
       "\n",
       " \n",
       ">                     RowBox[{\"(\", RowBox[{TemplateBox[List[SubscriptBox[\n",
       "\n",
       " \n",
       ">                            OverscriptBox[\"f\", \"^\"], \n",
       "\n",
       " \n",
       ">                            RowBox[List[\"y\", \",\", \"y\"]]], \"\\\"(5)\\\"\"], \n",
       "\n",
       " \n",
       ">                          \"Superscript\", Rule[SyntaxForm, SuperscriptBox]], \"-\", \n",
       "\n",
       " \n",
       ">                         TemplateBox[List[SubscriptBox[OverscriptBox[\"f\", \"^\"], \n",
       "\n",
       " \n",
       ">                            RowBox[List[\"x\", \",\", \"x\"]]], \"\\\"(5)\\\"\"], \n",
       "\n",
       " \n",
       ">                          \"Superscript\", Rule[SyntaxForm, SuperscriptBox]]}], \")\"}]}\\\n",
       "\n",
       " \n",
       ">   ], \"+\", RowBox[{\"2\", \" \", RowBox[{\"cos\", \"(\", RowBox[{\"2\", \" \", \"ϕ\"}], \")\"}], \n",
       "\n",
       " \n",
       ">                     \" \", TemplateBox[List[SubscriptBox[OverscriptBox[\"f\", \"^\"], \n",
       "\n",
       " \n",
       ">                        RowBox[List[\"x\", \",\", \"y\"]]], \"\\\"(5)\\\"\"], \"Superscript\", \n",
       "\n",
       " \n",
       ">                      Rule[SyntaxForm, SuperscriptBox]]}]}], \")\"}]}]}}, \n",
       "\n",
       " \n",
       ">           Rule[RowSpacings, 1], Rule[ColumnAlignments, Center], \n",
       "\n",
       " \n",
       ">           Rule[ColumnAlignments, Left]], Column], \"⁠\", \")\"}], \n",
       "\n",
       " \n",
       ">       Function[BoxForm`e$, MatrixForm[BoxForm`e$]]], TraditionalForm]\n"
      ]
     },
     "execution_count": 462,
     "metadata": {
      "text/html": [],
      "text/plain": []
     },
     "output_type": "execute_result"
    }
   ],
   "source": [
    "RHSEnegryLagrange = - 5/2 Subscript[\\[Epsilon],G] FullSimplify[{\n",
    "  D[fh5rhrh, OverHat[t]] /. OmegaReplace,\n",
    "  D[fh5rhrh, \\[Phi][OverHat[t]]]\n",
    "}, Trig -> True];\n",
    "\n",
    "RHSEnegryLagrange // MatrixForm // TraditionalForm"
   ]
  },
  {
   "cell_type": "markdown",
   "metadata": {},
   "source": [
    "<span style=\"color:brown\">**NB:**</span> Выражения полностью <span style=\"color:green\">**совпадают**</span> с предыдущим ньютоновым подходом!"
   ]
  },
  {
   "cell_type": "code",
   "execution_count": 463,
   "metadata": {
    "vscode": {
     "languageId": "wolfram"
    }
   },
   "outputs": [
    {
     "data": {
      "text/html": [
       "<div><img alt=\"Output\" src=\"data:image/png;base64,iVBORw0KGgoAAAANSUhEUgAAACcAAAAnCAIAAAADwcZiAAAAzXpUWHRSYXcgcHJvZmlsZSB0eXBlIGV4aWYAAHjabU9tDkIhDPvPKTzCvujgODzFxBt4fMcDNRibsHXtNiD15+OeLgPClCx7QQUoYNWqtCCFJmZmqmc8Ib483vX0NriFlL8G+tKPXXesheVnEckkOm4IrrYG1iKVqXOb9bH6pZWyL1LaAPo8/W9t6oIMdotoQu6owUsKGglZKDvuuALRyLgJ2TVyh3uMwUeHtjE4IN337p6gIdzGF3ScrC2yRmQVGQoHz1ojmkKO5Z4fSS8SglqM+R/TAAAAAAlwSFlzAAAOxAAADsQBlSsOGwAAADx0RVh0U29mdHdhcmUAQ3JlYXRlZCB3aXRoIHRoZSBXb2xmcmFtIExhbmd1YWdlIDogd3d3LndvbGZyYW0uY29tXKKmhQAAACF0RVh0Q3JlYXRpb24gVGltZQAyMDI1OjAzOjEyIDIxOjU5OjQ2u0I4ogAAA5tJREFUWIXNV89L81oQvfFnimkXTbEitRQpgrRCVNy4EERdKZiAi+4FRQXXijv/A6ErwV0WgpRa3KlYCHRnoGirRcRCrGAtadRWIzb1vkVB3kvuTRo+5Xtnl5nhnDvJzJ0JgCgoilIoFJCuSqWysrJC0zRFUSzLSpKEDIMQXlxc4FwtAAWe51ta0K5IJHJ8fLy7uxuLxWRZnpqaUlUVGXl0dCRJEtIFkGfZ2NhA2gVBIAjiO4mXlxeapnd2dpDBmUxme3u72Vxvb2+7u7txxx8dHR0aGmo8ulyuhYWFRCKBDA6FQplMBulCqCYSiZmZGWR0NptlGAYAcHl5mUwmAQAMw1xdXSGDAQCBQAD5khGq2Ww2FAohWRRFoWkaADA3Nzc9PV0sFmmaLpfLONWxsTFBEKxVIYSfn58EQeCIGhgZGQkGgy6XC0JoEjY8PJxKpYz2Nt3z9fW1z+fDsdA0LcsyACAejzcssiw3skeiv78/n88b7fpcRVEMh8M4lnA4nE6n/21Jp9PfxWUEQRCtra3WqrlcLhgM4ljm5+dFUfwWVhTl4OCA4zhcPADA6/WWSiW9VddJkUjk6ekJd6dACFmWDQQC8Xj89PR0fHx8cHBQVVWT+K2tLVEULfq1VCp5PB6Ts/M8Pzs7u7i4yLKs1+s9OTkhSdIkvre3t1Ao6Iz6avr6+jIv4K6urmg0Go1GTWJ0qvf39zqjPlfLnrGLnp6ex8dHC9UfB0VR7+/vZqqaprW3t/+sKkmSxqH0H9VarfYXVDVNa2vT19cfwuFwWKgCAJBXyZ+go6OjVquZqZIkqWnaz6pqmuZwOMxUf/yjNqX6G1BV1VrV8g1Xq9XV1VWPx+N0OjmOM947OlQqFWtV8ykN7OyIDby+vlIUpbfqpgHHcSYDxNaO2MDh4eHe3p7FzKEoyljo37C1IzZQLBb9fr/OqFf1+XwPDw84Crs7IgBAkiRrVb/ff3d3h6OwuyMCAPL5fF9fn4XqwMDAzc2NCUsDTe6IAIC3tzdjDetvXYZhYrEYjsLujliv1zs7O412fa5ut/v5+RnHYndHzOVyyIUecTc5nc6Pjw8ki90dMZVKTUxMIBzGDuN5/uzsDNd/tnbEpaUlpBehWi6XNzc3cUTVanVtbc3tdlMUxXEc7ucaQliv15eXl5Eu9P/r+vo6jqt5CIKwv7+PdKFnzuTk5Pn5Oe5rNYlkMsmyLNJFQKuG+w38+nz9H6n+A4dDIHDCDXQZAAAAAElFTkSuQmCC\"></div>"
      ],
      "text/plain": [
       "0\n",
       "\n",
       "0"
      ]
     },
     "execution_count": 463,
     "metadata": {
      "text/html": [],
      "text/plain": []
     },
     "output_type": "execute_result"
    }
   ],
   "source": [
    "FullSimplify[RHSEnegryLagrange - RHSEnegry] // MatrixForm"
   ]
  },
  {
   "cell_type": "markdown",
   "metadata": {},
   "source": [
    "В **размерной** же записи наши уравнения превращаются в\n",
    "$$\n",
    "\\begin{align}\n",
    "\\frac{dE}{dt} &= - \\mu\\frac{d\\Phi}{dt}\n",
    "  = - \\frac{1}{5}f_{ij}^{(5)} \\mu \\frac{d(r_i r_j)}{dt}\n",
    "  = - \\frac{1}{5}\\frac{c^5}{G}f_{ij}^{(5)} \\frac{d}{dt}\\left(f_{ij} + \\frac{1}{3} \\delta_{ij}r^2\\right)\n",
    "\\\\\n",
    "\\frac{dJ}{dt} &= - \\mu\\frac{\\partial \\Phi}{\\partial \\phi}\n",
    "  = - \\frac{1}{5}f_{ij}^{(5)} \\mu \\frac{d(r_i r_j)}{d\\phi}\n",
    "  = - \\frac{1}{5}\\frac{c^5}{G}f_{ij}^{(5)} \\frac{d}{d\\phi}\\left(f_{ij} + \\frac{1}{3} \\delta_{ij}r^2\\right)\n",
    "  = - \\frac{2}{5}\\frac{c^5}{G}\\epsilon_{ij}f_{ik}^{(5)} \\left(f_{kj} + \\frac{1}{3} \\delta_{kj}r^2\\right)\n",
    "\\end{align}\n",
    "$$"
   ]
  },
  {
   "cell_type": "markdown",
   "metadata": {},
   "source": [
    "<span style=\"color:red\">**TODO_4:**</span> Обсудить почему отбрасывается \"приводящий член\" $1/3\\,\\delta_{ij}r^2$\n",
    "\n",
    "в формулях $dE/dt, dJ/dt$ из задачника Лайтман А., Пресс В., Прайс Р., Тюкольки С. - 1979 - Сборник задач по теории относительности и гравитации (Решение задачи 18.5, стр. 446-447)\n",
    "\n",
    "Не стоит забывать, что в задачнике система геометризированных единиц $G = c = 1$."
   ]
  },
  {
   "cell_type": "code",
   "execution_count": 466,
   "metadata": {
    "vscode": {
     "languageId": "wolfram"
    }
   },
   "outputs": [
    {
     "data": {
      "text/html": [
       "<style>\n",
       "\t\t\t\t\t\t\t\t\t\t\t\t\t.grid-container {\n",
       "\t\t\t\t\t\t\t\t\t\t\t\t\t\tdisplay: inline-grid;\n",
       "\t\t\t\t\t\t\t\t\t\t\t\t\t\tgrid-template-columns: auto;\n",
       "\t\t\t\t\t\t\t\t\t\t\t\t\t}\n",
       "\t\t\t\t\t\t\t\t\t\t\t\t</style>\n",
       "\n",
       "\t\t\t\t\t\t\t\t\t\t\t\t<div><div class=\"grid-container\"><div class=\"grid-item\"><img alt=\"Output\" src=\"data:image/png;base64,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\"></div><div class=\"grid-item\"><img alt=\"Output\" src=\"data:image/png;base64,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\"></div></div></div>"
      ],
      "text/plain": [
       "FormBox[RowBox[{RowBox[{\"-\", FractionBox[\"2\", \"5\"]}], \" \", OverscriptBox[\"r\", \"^\"], \n",
       "\n",
       " \n",
       ">        \" \", RowBox[{\"(\", RowBox[{RowBox[{OverscriptBox[\"r\", \"^\"], \" \", \n",
       "\n",
       " \n",
       ">              OverscriptBox[\"ω\", \"^\"], \" \", \n",
       "\n",
       " \n",
       ">              RowBox[{\"(\", RowBox[{RowBox[{RowBox[{\"cos\", \"(\", \n",
       "\n",
       " \n",
       ">                      RowBox[{\"2\", \" \", \"ϕ\"}], \")\"}], \" \", \n",
       "\n",
       " \n",
       ">                    TemplateBox[List[SubscriptBox[OverscriptBox[\"f\", \"^\"], \n",
       "\n",
       " \n",
       ">                       RowBox[List[\"x\", \",\", \"y\"]]], \"\\\"(5)\\\"\"], \"Superscript\", \n",
       "\n",
       " \n",
       ">                     Rule[SyntaxForm, SuperscriptBox]]}], \"+\", \n",
       "\n",
       " \n",
       ">                  RowBox[{RowBox[{\"sin\", \"(\", \"ϕ\", \")\"}], \" \", \n",
       "\n",
       " \n",
       ">                    RowBox[{\"cos\", \"(\", \"ϕ\", \")\"}], \" \", \n",
       "\n",
       " \n",
       ">                    RowBox[{\"(\", RowBox[{TemplateBox[List[SubscriptBox[\n",
       "\n",
       " \n",
       ">                           OverscriptBox[\"f\", \"^\"], RowBox[List[\"y\", \",\", \"y\"]]], \n",
       "\n",
       " \n",
       ">                          \"\\\"(5)\\\"\"], \"Superscript\", \n",
       "\n",
       " \n",
       ">                         Rule[SyntaxForm, SuperscriptBox]], \"-\", \n",
       "\n",
       " \n",
       ">                        TemplateBox[List[SubscriptBox[OverscriptBox[\"f\", \"^\"], \n",
       "\n",
       " \n",
       ">                           RowBox[List[\"x\", \",\", \"x\"]]], \"\\\"(5)\\\"\"], \"Superscript\", \n",
       "\n",
       " \n",
       ">                         Rule[SyntaxForm, SuperscriptBox]]}], \")\"}]}]}], \")\"}]}], \"+\", \n",
       "\n",
       " \n",
       ">            RowBox[{SuperscriptBox[OverscriptBox[\"r\", \"^\"], \"′\"], \" \", \n",
       "\n",
       " \n",
       ">              RowBox[{\"(\", RowBox[{RowBox[{RowBox[{\"sin\", \"(\", \n",
       "\n",
       " \n",
       ">                      RowBox[{\"2\", \" \", \"ϕ\"}], \")\"}], \" \", \n",
       "\n",
       " \n",
       ">                    TemplateBox[List[SubscriptBox[OverscriptBox[\"f\", \"^\"], \n",
       "\n",
       " \n",
       ">                       RowBox[List[\"x\", \",\", \"y\"]]], \"\\\"(5)\\\"\"], \"Superscript\", \n",
       "\n",
       " \n",
       ">                     Rule[SyntaxForm, SuperscriptBox]]}], \"+\", \n",
       "\n",
       " \n",
       ">                  RowBox[{RowBox[{SuperscriptBox[\"cos\", \"2\"], \"(\", \"ϕ\", \")\"}], \" \", \n",
       "\n",
       " \n",
       ">                    TemplateBox[List[SubscriptBox[OverscriptBox[\"f\", \"^\"], \n",
       "\n",
       " \n",
       ">                       RowBox[List[\"x\", \",\", \"x\"]]], \"\\\"(5)\\\"\"], \"Superscript\", \n",
       "\n",
       " \n",
       ">                     Rule[SyntaxForm, SuperscriptBox]]}], \"+\", \n",
       "\n",
       " \n",
       ">                  RowBox[{RowBox[{SuperscriptBox[\"sin\", \"2\"], \"(\", \"ϕ\", \")\"}], \" \", \n",
       "\n",
       " \n",
       ">                    TemplateBox[List[SubscriptBox[OverscriptBox[\"f\", \"^\"], \n",
       "\n",
       " \n",
       ">                       RowBox[List[\"y\", \",\", \"y\"]]], \"\\\"(5)\\\"\"], \"Superscript\", \n",
       "\n",
       " \n",
       ">                     Rule[SyntaxForm, SuperscriptBox]]}]}], \")\"}]}]}], \")\"}]}], \n",
       "\n",
       " \n",
       ">      TraditionalForm]\n",
       "\n",
       "FormBox[RowBox[{RowBox[{\"-\", FractionBox[\"1\", \"5\"]}], \" \", \n",
       "\n",
       " \n",
       ">        SuperscriptBox[OverscriptBox[\"r\", \"^\"], \"2\"], \" \", \n",
       "\n",
       " \n",
       ">        RowBox[{\"(\", RowBox[{RowBox[{RowBox[{\"sin\", \"(\", RowBox[{\"2\", \" \", \"ϕ\"}], \n",
       "\n",
       " \n",
       ">                \")\"}], \" \", RowBox[{\"(\", \n",
       "\n",
       " \n",
       ">                RowBox[{TemplateBox[List[SubscriptBox[OverscriptBox[\"f\", \"^\"], \n",
       "\n",
       " \n",
       ">                     RowBox[List[\"x\", \",\", \"x\"]]], \"\\\"(5)\\\"\"], \"Superscript\", \n",
       "\n",
       " \n",
       ">                   Rule[SyntaxForm, SuperscriptBox]], \"-\", \n",
       "\n",
       " \n",
       ">                  TemplateBox[List[SubscriptBox[OverscriptBox[\"f\", \"^\"], \n",
       "\n",
       " \n",
       ">                     RowBox[List[\"y\", \",\", \"y\"]]], \"\\\"(5)\\\"\"], \"Superscript\", \n",
       "\n",
       " \n",
       ">                   Rule[SyntaxForm, SuperscriptBox]]}], \")\"}]}], \"-\", \n",
       "\n",
       " \n",
       ">            RowBox[{\"2\", \" \", RowBox[{\"cos\", \"(\", RowBox[{\"2\", \" \", \"ϕ\"}], \")\"}], \" \", \n",
       "\n",
       " \n",
       ">              TemplateBox[List[SubscriptBox[OverscriptBox[\"f\", \"^\"], \n",
       "\n",
       " \n",
       ">                 RowBox[List[\"x\", \",\", \"y\"]]], \"\\\"(5)\\\"\"], \"Superscript\", \n",
       "\n",
       " \n",
       ">               Rule[SyntaxForm, SuperscriptBox]]}]}], \")\"}]}], TraditionalForm]\n"
      ]
     },
     "execution_count": 466,
     "metadata": {
      "text/html": [],
      "text/plain": []
     },
     "output_type": "execute_result"
    }
   ],
   "source": [
    "KroneckerDeltaR2 = Simplify[Array[1/3*KroneckerDelta[#, #2]*(OverHat[r][OverHat[t]])^2 &, {2, 2}], Trig -> True];\n",
    "leviCivitaArray = Normal[LeviCivitaTensor[2]];\n",
    "-1/5 FullSimplify[EinsteinSummation[{{i, j}, {i, j}}, {fh5, D[fh + KroneckerDeltaR2, OverHat[t]]}] /. OmegaReplace] // TraditionalForm\n",
    "-2/5 FullSimplify[EinsteinSummation[{{i, j}, {i, k}, {k, j}}, {leviCivitaArray, fh5, (fh + KroneckerDeltaR2)}]] // TraditionalForm"
   ]
  },
  {
   "cell_type": "markdown",
   "metadata": {},
   "source": [
    "# Итоговая система **энергетических** уравнений:\n",
    "\n",
    "$$\n",
    "\\begin{align}\n",
    "\\tag{dJ/dt}\n",
    "\\frac{d\\hat{J}}{d\\hat{t}} &= -\\frac{1}{2} \\epsilon_G\n",
    "\\hat{r}^2\n",
    "\\left(\n",
    "  \\sin (2 \\phi ) \\left(\\hat{f}_{y,y}{}^{\\text{(5)}}-\\hat{f}_{x,x}{}^{\\text{(5)}}\\right)+2 \\cos (2 \\phi ) \\hat{f}_{x,y}{}^{\\text{(5)}}\n",
    "\\right)\n",
    "= \\epsilon_G I_J\n",
    "\\\\\n",
    "\\tag{dE/dt}\n",
    "\\frac{d\\hat{E}}{d\\hat{t}} &= \\epsilon_G\n",
    "\\left(\n",
    "  I_J\\hat{\\omega}\n",
    "  -\\hat{r} \\hat{r}'\n",
    "  \\left(\n",
    "  \\sin (2 \\phi ) \\hat{f}_{x,y}{}^{\\text{(5)}}+\\cos ^2(\\phi ) \\hat{f}_{x,x}{}^{\\text{(5)}}+\\sin ^2(\\phi ) \\hat{f}_{y,y}{}^{\\text{(5)}}\n",
    "  \\right)\n",
    "\\right)\n",
    "= \\epsilon_G I_E\n",
    "\\end{align}\n",
    "$$"
   ]
  },
  {
   "cell_type": "markdown",
   "metadata": {},
   "source": [
    "# RHS уравнения (dJ/dt)\n",
    "\n",
    "Введём новое обозначение $\\hat{r}^2 \\equiv \\hat{r}_2$"
   ]
  },
  {
   "cell_type": "code",
   "execution_count": 468,
   "metadata": {
    "vscode": {
     "languageId": "wolfram"
    }
   },
   "outputs": [],
   "source": [
    "ToR2Replacement = {\n",
    "  OverHat[r][OverHat[t]] -> Sqrt[Subscript[OverHat[r],2][OverHat[t]]],\n",
    "  Derivative[n_][OverHat[r]][OverHat[t]] :> D[Sqrt[Subscript[OverHat[r], 2][OverHat[t]]], {OverHat[t], n}]\n",
    "};"
   ]
  },
  {
   "cell_type": "markdown",
   "metadata": {},
   "source": [
    "и подставим в (dJ/dt) значения $\\hat{f}_{i,j}^{(5)}$:"
   ]
  },
  {
   "cell_type": "code",
   "execution_count": 474,
   "metadata": {
    "vscode": {
     "languageId": "wolfram"
    }
   },
   "outputs": [
    {
     "data": {
      "text/html": [
       "<div><img alt=\"Output\" src=\"data:image/png;base64,iVBORw0KGgoAAAANSUhEUgAAA1UAAAAWCAIAAACnuSHOAAAAz3pUWHRSYXcgcHJvZmlsZSB0eXBlIGV4aWYAAHjabU9tbkQhCPzvKfYIfMigx/Htuklv0OMvPG0am04iDMOAWub317s8EsJUqnlDByhQe+0ygjRaWJmp3/GGGelWD70wFuERkv02MLd+nbpvv7Q/i0gW0bwhuNY9sBepLJ3Hqq/tl9HauUjpAH4I/19XdYGBvUasQu7owVsJGgkmZI43nkAYGS+h+ow84R5j8HToyMGETD/ds0BDeOUXNI/piKwRWUVS4eCmPWI+5trd+yPlAxWyWo9HktqsAAAACXBIWXMAAA7EAAAOxAGVKw4bAAAAPHRFWHRTb2Z0d2FyZQBDcmVhdGVkIHdpdGggdGhlIFdvbGZyYW0gTGFuZ3VhZ2UgOiB3d3cud29sZnJhbS5jb21coqaFAAAAIXRFWHRDcmVhdGlvbiBUaW1lADIwMjU6MDM6MTIgMjE6NTk6NDfMRQg0AAAQm0lEQVR4nO2da0wUVxvHD8uiWBCEgi4EF21tmzRBoVJ70YgIEhbQSCuXVEqk0UijdlOFFEsDdiVALAgVaFJsK9I0eKESUGqhWu4RCrLUImKwclkR5RYW5LYsO++HIdN5d3Znz9x2WZ3fF87MnDPzf57znOcMu7NnLBAEATw8ZoJGozl+/PjExMTs7KxGozl79qxQKDS1KB69mEt/zc7OHjlyxNHRUSgUCgQCmUxmakWLGnPpVh6eFxYvLy+FQmFhYQEAKCkp2bJlC7EOP2h5zImbN29WVlbK5XIAgKur66+//hoREWFqUTx6MZf+amxsnJyczM/Pn5qasre3Dw4Ofuedd0wtavFiLt3Kw/PCsmHDBnSEkiBgeA2VSjU2NsbwJDw8kPj5+VVXVwMAEATRaDTDw8OmVsRDhrn0l4+Pzy+//AIAmJubQxBk+fLlpla0qDGXbuXheWFxcnLS2jM0NKS157/7v7S0NHt7+7a2NvgLaDSaxMTEZcuW0ZaoDxgx09PTNPIO1opYMC2Q/mdL/yKxmioCgcDe3h4AUF1drdFoPvjgA5LK3EURk4YsQmPMcodOh1DqL9Mil8szMjKkUmlxcfGbb76prxrtcWpa2A0V5t1qpv5hK+suEqu1YGUOevTokXFkUIJrzcxh12oEQTo7OzMyMsLDwz/88EP0Q7rHjx//9NNP2vUQBKmpqQkNDa2vr9++ffv4+DgCR2ZmZl1dHWTl0tJSLYlJSUk6a0KKOXr06JEjR8gvmpqaamdnJ5fLia2IBXqMjY3JZLKwsLA33ngjNzdX62hpaalEIomIiJBIJFevXtV3Enj/09NP4gd6kFitVCrj4uIkEsnevXu9vb3z8/PxRyEdQqIcQZCOjo6AgIDe3l6ShpxGEWRDEvr7+z/++OPo6GhfX18/P7+2tjbsEOsxoxOdRjFpS+IQmP6CZ2Jiws3Nbd++ffidzONqZmZmenq6oaHhlVde+fvvv3W2YjJOGcLEao5CBb5bYfIwPUyefvVBPkYYWg0/mZLrwcPKHFRWVubh4UHHJOoy9AHpebY0k0cgSZ7Hw/oI1Wg0Dx48QMu+vr5xcXFoOSkpqb29Hau2cP93+fLl+fl5BEEGBgaqq6thLjkxMRESEgIvsaCgIDAw8BqOwcFBnTVhxMzPz69bt667u5vkikSfYq2IBXhDiEru37+fmZkJAMjOzsYf+uOPP6ysrKqqqhAEuXHjxpIlS9AyEUj/09NP4geKtv6fEn1W+/r6urm5TU5OIghSWFgIACgpKUEPwTtEn3IEQeRy+YEDB9Dzk8BdFEE2JOHhw4dOTk7ffvstuhkYGPjaa6+hZdZjRidM0g1Vh0D2FzzHjh0TCoX4OyFW4gojODg4NjZWZ0Pa4xTSNBKYWM1FqMB3K0wepiQJj2nTr76a5GOEudXwkymJHi1YmYPCw8MvXbpE2y54GfqA9DyLmkkikCTPa8FpMj969GhwcDBafvLkSWRkJHYIaFmi0Wggr1pQUJCXlwev8syZM2fOnIGsbFBJVVVVRkYG+UmIPsVaEQsMaW9vJ3a/n5+fp6cntunh4REYGEhyEnirKekn8QNDiFZPT0/b2NhkZWWhm319fQCAqKgodJOqQ4jKh4eHg4OD1Wo1WqG8vJykOUdRBNmQhI8++sjFxQU9LYIg/f39N2/eRMusx4xOINONWq3OyspSKBQG22IOaW1t/fnnn7HKlPoLhra2tujoaJFIhL8TYh5XaWlpFy9eRI/u2LFDJpORNKcxThnC3Gp6cYLo6W5K3QqThxliqvSrD/IxwtxqSpOpPj06YTIHTU5ORkREwKtiIkMfkJ5nXbPOCCTJ80TYNfnChQvp6elo2cfH5+TJk1j9kJCQoaEhtLxw/yeTyfz8/FauXDk8PBwVFeXk5NTf309+1T179jQ2NsKrTElJKS0tNVgNUkldXR2WfeDBWhELDCF2/8jIiKWl5f79+7E9n3zyiVAoVCqVxOZUrWaonzurEQTp6enB4hh97GDHjh0IRYfo48SJE7a2tiKRSCQSOTg4fPHFFzqrcRpFTBoiCKJWq21sbGJiYoiHuIgZJsTExOj7JlQLvEOKiopOnTqFliH7CxKNRuPr69vX14e/E2IlruRyeVBQ0IkTJ6RS6YEDB6ampnRWoz1OmcDQai7ihGG3PjfplxIsWg05mVKC+RzU1dWl9b8idzIowbVmRFcEkuR5Lbgwua+vb+fOnQkJCSkpKYcPH56ensYOJSYmFhQUoOWF3398+eWXtra2Hh4eGRkZa9as8fHxcXZ2Jn/AsLm5WSwWwz+QOD4+bm1tnZycHBoaeujQoaamJp3VIJVs2bLF0tIS/uparYgF1unr65ufn3d3d8f2iMVitVqt81FTqlYz1A/TKj8//+7du1TPDABwd3dH1xwCANy+fRsA4OXlBSg6RB/JyckTExMDAwMDAwOjo6Pp6ek6q3EaRTANSbz34MGDyclJV1fXysrKgICAjRs3fv755+Pj44CbmKFNUVGRQCBYv349TGW8QyIjI69cuYI+yAzZXygGQ+7HH3/cvHnz6tWr8TtZiStPT8/y8vLk5OTs7Oz8/Hx9v2mjPU5J4NpqLuKEUrcSeW7SLyVYtBpyMqUE8zlo3bp1bm5uxpFBCa4164Qkz2vBhcmrV68uKytLS0tLTEzMycmxtrbGDrm7u7e0tKDlhfX/LC0t0a/qYmJiXn/9dYNnHxsb6+3tffnll+EFKZXKy5cvHzt27NChQ3Fxce+///6FCxfCwsK0qlFVopPvvvvOyckpPDwc25OTk+Pt7f3ee+/ROyEN0N9a29jYYHvQRSUGBweJvy5kxWoiTPzQ2trKUAmCIGlpaWKxOD4+HlB0CMMeNHkUkXhvZGQEAFBVVSUSiS5evFhTU7N3797bt2/X1tYaIWbgjcrKyvr666/ptd21a1deXt7Zs2chVaGQh5xSqczNza2vr9faD+805mmBi3HKtdW0NTN3lwnzsKnSr3FMhpxMKYnhaA6iignDlV1I8rxWTSOb7ODggP3KeOH+b2pq6p9//gkNDcUuT77C+9OnT62srJYsWQKvNSkpydXVFS1///33lZWV8fHxxJClqoRIcXHx9evXr169it+5adOm5OTk33//HV4wK2CfhJHD3GoiJvdDYmKiUqlsamrCL0QE4xDmyhdzFCEIAgBwdnY+fPgwAGD37t2ffvppZmYmNsdzFzPwRg0NDTU3N2/atIlGW3R/bm4ujBXwyGQyqVRqa2ur86hBp7HSoVyMU3IYWq1TM2A1VPRh8vwDjJ5+jWYyzGRKVYzxY1sn9GQshmDTgiTPa72Kw8gmL1++/OnTp2h54aQtLS1qtToyMhKrRL7Cu1KpxAtCEKSiooJ4JZFI5OnpiZaxeAUALFu2zNvbu7y8fHR01NHREd+EqhItRkdHDx48eO3aNXTTw8NDLpcLhUK1Wt3Q0EDiFC1gLCIH/Qj32bNn2J6JiQkAwMqVK4mVGVpNhJ4f8FYrFIq//vprZmYGULEa46uvvuro6KipqcG+SoN0CCs9aJIogvSeSCQCALz99tvYnq1bt2ZmZt69exd95wRHMUPJKIVCYWlpiY1Nqg5xcnJ68uSJWq02OGFAOu3+/fv19fXffPMN8QwwccVWWmBrnBrHan2aDcpm7i6GZzDH9MvcafBWG5xMaYhhfQ6iYRc9GWyNbnqC9UGS57Xu/4xsMvoU7EIZ/XPr1i2hUBgQEIBVIl/hXa1WCwT/rR2NIIjOW05PT099/kKXD0UIbx+mqkSLwsJCGxsb9PPPnp4eT09PdAbq7Oyk9L8LDYu0EIvFAoEA/VwXRaFQCIVCnU8bMLSaCD0/4K1Gp6XHjx8DKlajJCYmKhSK4uJi/LUgHcJKD5okiiC95+LiIhAI8A+CoN9MLV26lNOYoWSUWq22srLCPj6h6pClS5dqNBqNRqPPVxiQTispKVGpVBs3bkQ3h4eHy8rKvLy8ZDLZ5s2bDTqNrbTA1jg1jtX6NBuUzdxdDM9gjumXudNoW02cTGmIYX0OwqBkFw0ZbI1ueoL1QZLntWoa2WSBQKBWq9HyQtXGxkZvb2/8twzkK7zb29vPz8/jK2dnZ5NcUqFQhIWFlZSUuLi4oHu6urrEYjHxCUKqSrRoa2t79dVX0fKtW7f8/PzQ8rlz54KDg0kaamHQIoM4Ojpu27YNe9ASANDc3Ozv729nZ0eszNBqIvT8gLc6NjY2MjJy27ZtlK4LADh//vydO3fKysqwuweFQmFnZwfpEFZ60CRRBOm9l156KSAgAP1lDMrDhw8BAOvXr+c0ZigZ5ezsPDMzo1Kp0Gc8qDpkfHzc3t4e5vkQSKclJCQkJCRgmy4uLoGBgefOnUM3DTqNrbTA1jg1jtX6NBuUzdxdDM9gjumXudMgrYaZTGmIYX0Owp8HvjdpyGBrdNMTrA+SPK9V08gmz83NoScH2PvfGhsbdSage/fupaent7S0YKGG4uDgMDs7S34ZPFNTU3K5/Pjx4+hmbW1tc3NzWloasSZVJVq4urqOjo4CAObm5oqLi1esWAEAKCoq+vfff6n+SI0SqDdUKhV+Z0JCQnt7e11dHQCgurr63r176C8hiDC0mohx/EC0emRkRCqVBgYGVlZWVlRUVFRUXLlyJSoqCv20GMYhrChf5FEUFxfX0NDQ3NwMAJidnc3Pz9+5c+dbb70FuIwZSkaJxWJHR8fu7m4abQEAPT09GzZsoOISaqjVavz/nwadxlaHsj5OKUHVahR9mgFLoaITI+fhxZB+jWYyzGRKQ4xpY5uJDFNN+nh0RiBJnsdjZJOnp6cdHBwWNhAE6enpcXV1/fPPP7WWkCFf4X3FihXPnj2DX5CmtrbW399/165d+/fvl0gkv/32G7EOPSV4BgcHfXx8goKCpFJpZ2dnUFBQaGhoSEgI9i4U1hkeHo6Pj0e/0V+7dq1UKm1qasKOlpSUSCSSqKiooKCgsrIynWdgbjUR5n44ePAgyUsU9Fmdl5dHDLh3330Xa2jQIcyVL4YoIvcegiDXr1+XSCT79u3bvXt3fHw8fn0mjmKGqlExMTE//PADvbafffYZtuo9PAadhiBIaWlpdHQ0AGDVqlUpKSnYfnKnsZIWuBinCJdWk2gml83cXUbLw4sn/Rpz6jE4mVIVw1FsU4WeDONP+njII5Akz6MY3+Tz589jb2QA+ioZXOHd19e3q6vL4MWYw/orBMyCF9Nq7ngR/MmujT09Pdu3b8cWr4dnZGRk69atxEz3XGKmcWWmso0G7x9k0ThhkcgwJpyanJqaevr0abQsIH5ag5Kbm1tTU+Pm5ubi4uLo6EhctMbf37+1tZX8k0ZWMKjkueTFtJo7XgR/smuju7v7yZMnT58+TamVSqU6depUYWEhfsXR5xgzjSszlW00eP+AReOERSLDmHBqckdHh7+/P1q2QAi/wIWku7s7OTm5sLCQPWE8PDyLi97eXgsLC/g3/dy5c2fNmjU6n7Ln4eHh4TEhKpUqKCjoxo0b6Cb95RzXrl1rbW396NEjjl6fwsPDY3Lwb9CCAfJ9cTw8PDw8RubSpUuxsbHYpt7vf2FITU3NyclhLImHh4eHh4eHh4crxsbGWlpa9uzZg+2h//0vSldXl52d3apVqxhr4+Hh4eHh4eHhYZ+WlhYPDw/8AtT/AwwgJC8jF2jvAAAAAElFTkSuQmCC\"></div>"
      ],
      "text/plain": [
       "FormBox[RowBox[{SubscriptBox[OverscriptBox[\"r\", \"^\"], \"2\"], \" \", \n",
       "\n",
       " \n",
       ">        RowBox[{\"(\", RowBox[{RowBox[{\"-\", \n",
       "\n",
       " \n",
       ">              RowBox[{\"5\", \" \", SuperscriptBox[SubscriptBox[OverscriptBox[\"r\", \"^\"], \n",
       "\n",
       " \n",
       ">                  \"2\"], \"′\"], \" \", SuperscriptBox[OverscriptBox[\"ω\", \"^\"], \"′′′\"]}]}], \n",
       "\n",
       " \n",
       ">            \"-\", RowBox[{\"10\", \" \", SuperscriptBox[SubscriptBox[OverscriptBox[\"r\", \n",
       "\n",
       " \n",
       ">                 \"^\"], \"2\"], \"′′′\"], \" \", SuperscriptBox[OverscriptBox[\"ω\", \"^\"],\\\n",
       " \n",
       ">    \"′\"]}]\\\n",
       ", \"+\", RowBox[{\"120\", \" \", SuperscriptBox[OverscriptBox[\"ω\", \"^\"], \"2\"], \"\\\n",
       " \n",
       ">    \", \n",
       "           SuperscriptBox[SubscriptBox[OverscriptBox[\"r\", \"^\"], \"2\"], \"′\"], \"\\\n",
       " \n",
       ">    \", \n",
       "           SuperscriptBox[OverscriptBox[\"ω\", \"^\"], \"′\"]}], \"+\", \n",
       "\n",
       " \n",
       ">            RowBox[{\"60\", \" \", SubscriptBox[OverscriptBox[\"r\", \"^\"], \"2\"], \" \", \n",
       "\n",
       " \n",
       ">              OverscriptBox[\"ω\", \"^\"], \" \", \n",
       "           SuperscriptBox[RowBox[{\"(\", \n",
       "\n",
       " \n",
       ">                 SuperscriptBox[OverscriptBox[\"ω\", \"^\"], \"′\"], \")\"}], \"2\"]}], \"+\", \n",
       "\n",
       " \n",
       ">            RowBox[{\"40\", \" \", SuperscriptBox[OverscriptBox[\"ω\", \"^\"], \"3\"], \" \", \n",
       "\n",
       " \n",
       ">              SuperscriptBox[SubscriptBox[OverscriptBox[\"r\", \"^\"], \"2\"], \"′′\"]}], \"+\", \n",
       "\n",
       " \n",
       ">            RowBox[{\"40\", \" \", SubscriptBox[OverscriptBox[\"r\", \"^\"], \"2\"], \" \", \n",
       "\n",
       " \n",
       ">              SuperscriptBox[OverscriptBox[\"ω\", \"^\"], \"2\"], \" \", \n",
       "\n",
       " \n",
       ">              SuperscriptBox[OverscriptBox[\"ω\", \"^\"], \"′′\"]}], \"-\", \n",
       "\n",
       " \n",
       ">            RowBox[{\"10\", \" \", SuperscriptBox[SubscriptBox[OverscriptBox[\"r\", \"^\"], \n",
       "\n",
       " \n",
       ">                \"2\"], \"′′\"], \" \", SuperscriptBox[OverscriptBox[\"ω\", \"^\"], \"′′\"]}], \"-\",\\\n",
       " \n",
       ">    \n",
       "         RowBox[{\"5\", \" \", OverscriptBox[\"ω\", \"^\"], \" \", \n",
       "\n",
       " \n",
       ">              SuperscriptBox[SubscriptBox[OverscriptBox[\"r\", \"^\"], \"2\"], \"′′′′\"]}],\\\n",
       " \n",
       ">    \"-\", \n",
       "         RowBox[{SubscriptBox[OverscriptBox[\"r\", \"^\"], \"2\"], \" \", \n",
       "\n",
       " \n",
       ">              SuperscriptBox[OverscriptBox[\"ω\", \"^\"], \"′′′′\"]}], \"-\", \n",
       "\n",
       " \n",
       ">            RowBox[{RowBox[{\"16\"}], \" \", SubscriptBox[OverscriptBox[\"r\", \"^\"], \"2\"], \n",
       "\n",
       " \n",
       ">              \" \", SuperscriptBox[OverscriptBox[\"ω\", \"^\"], \"5\"]}]}], \")\"}]}], \n",
       "\n",
       " \n",
       ">      TraditionalForm]\n"
      ]
     },
     "execution_count": 474,
     "metadata": {
      "text/html": [],
      "text/plain": []
     },
     "output_type": "execute_result"
    }
   ],
   "source": [
    "fh1 = fh /. ToR2Replacement;\n",
    "fh5Symbolic = Simplify[D[fh1, {OverHat[t], 5}], Trig -> True];\n",
    "\n",
    "Fh5Replacement = Flatten[{\n",
    "  Outer[\n",
    "    Superscript[Subscript[OverHat[f], #1, #2], \"(5)\"] -> fh5Symbolic[[#1 /. {x -> 1, y -> 2}, #2 /. {x -> 1, y -> 2}]] &,\n",
    "    {x, y}, {x, y}\n",
    "  ],\n",
    "  ToR2Replacement,\n",
    "  OmegaReplace\n",
    "}];\n",
    "\n",
    "dJdtTemp = RHSEnegryLagrange[[2]] //. Fh5Replacement;\n",
    "dJdt = Subscript[OverHat[r],2][OverHat[t]]*Expand[Simplify[dJdtTemp/Subscript[\\[Epsilon], G], Trig -> True]/Subscript[OverHat[r],2][OverHat[t]]];\n",
    "dJdt // TraditionalForm"
   ]
  },
  {
   "cell_type": "markdown",
   "metadata": {},
   "source": [
    "<span style=\"color:brown\">**NB:**</span> В файле Binary.pdf выводится <span style=\"color:green\">**точно такое же**</span> выражение"
   ]
  },
  {
   "cell_type": "markdown",
   "metadata": {},
   "source": [
    "$$\n",
    "I_J = I_1 = \\hat{r}_2 \\left[ 120\\hat{r}_2^{(1)}\\hat{\\omega}^2\\hat{\\omega}^{(1)} - 5\\hat{r}_2^{(1)}\\hat{\\omega}^{(3)} - 16\\hat{r}_2\\hat{\\omega}^5 - 10\\hat{r}_2^{(2)}\\hat{\\omega}^{(2)} + 60\\hat{r}_2\\hat{\\omega}(\\hat{\\omega}^{(1)})^2\n",
    "- 10\\hat{r}_2^{(3)}\\hat{\\omega}^{(1)} + 40\\hat{r}_2^{(2)}\\hat{\\omega}^3 - 5\\hat{r}_2^{(4)}\\hat{\\omega} - \\hat{r}_2\\hat{\\omega}^{(4)} + 40\\hat{r}_2\\hat{\\omega}^2\\hat{\\omega}^{(2)} \\right]\n",
    "$$"
   ]
  },
  {
   "cell_type": "code",
   "execution_count": 476,
   "metadata": {
    "vscode": {
     "languageId": "wolfram"
    }
   },
   "outputs": [
    {
     "data": {
      "text/html": [
       "<div><pre style=\"&#102;&#111;&#110;&#116;&#45;&#102;&#97;&#109;&#105;&#108;&#121;&#58;&#32;&#34;&#67;&#111;&#117;&#114;&#105;&#101;&#114;&#32;&#78;&#101;&#119;&#34;&#44;&#67;&#111;&#117;&#114;&#105;&#101;&#114;&#44;&#109;&#111;&#110;&#111;&#115;&#112;&#97;&#99;&#101;&#59;\">&#48;</pre></div>"
      ],
      "text/plain": [
       "0"
      ]
     },
     "execution_count": 476,
     "metadata": {
      "text/html": [],
      "text/plain": []
     },
     "output_type": "execute_result"
    }
   ],
   "source": [
    "I1 = Subscript[OverHat[r], 2][OverHat[t]] * (\n",
    "    120 * Derivative[1][Subscript[OverHat[r], 2]][OverHat[t]] *\n",
    "    OverHat[\\[Omega]][OverHat[t]]^2 * Derivative[1][OverHat[\\[Omega]]][OverHat[t]]\n",
    "    - 5 * Derivative[1][Subscript[OverHat[r], 2]][OverHat[t]] *\n",
    "    Derivative[3][OverHat[\\[Omega]]][OverHat[t]]\n",
    "    - 16 * Subscript[OverHat[r], 2][OverHat[t]] *\n",
    "    OverHat[\\[Omega]][OverHat[t]]^5\n",
    "    - 10 * Derivative[2][Subscript[OverHat[r], 2]][OverHat[t]] *\n",
    "    Derivative[2][OverHat[\\[Omega]]][OverHat[t]]\n",
    "    + 60 * Subscript[OverHat[r], 2][OverHat[t]] *\n",
    "    OverHat[\\[Omega]][OverHat[t]] * Derivative[1][OverHat[\\[Omega]]][OverHat[t]]^2\n",
    "    - 10 * Derivative[3][Subscript[OverHat[r], 2]][OverHat[t]] *\n",
    "    Derivative[1][OverHat[\\[Omega]]][OverHat[t]]\n",
    "    + 40 * Derivative[2][Subscript[OverHat[r], 2]][OverHat[t]] *\n",
    "    OverHat[\\[Omega]][OverHat[t]]^3\n",
    "    - 5 * Derivative[4][Subscript[OverHat[r], 2]][OverHat[t]] *\n",
    "    OverHat[\\[Omega]][OverHat[t]]\n",
    "    - Subscript[OverHat[r], 2][OverHat[t]] *\n",
    "    Derivative[4][OverHat[\\[Omega]]][OverHat[t]]\n",
    "    + 40 * Subscript[OverHat[r], 2][OverHat[t]] *\n",
    "    OverHat[\\[Omega]][OverHat[t]]^2 * Derivative[2][OverHat[\\[Omega]]][OverHat[t]]\n",
    ");\n",
    "dJdt - I1"
   ]
  },
  {
   "cell_type": "markdown",
   "metadata": {},
   "source": [
    "# RHS уравнения (dE/dt)\n",
    "\n",
    "Подставим в (dE/dt) значения $\\hat{f}_{i,j}^{(5)}$:"
   ]
  },
  {
   "cell_type": "code",
   "execution_count": 479,
   "metadata": {
    "vscode": {
     "languageId": "wolfram"
    }
   },
   "outputs": [
    {
     "data": {
      "text/html": [
       "<div><img alt=\"Output\" src=\"data:image/png;base64,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\"></div>"
      ],
      "text/plain": [
       "FormBox[RowBox[{FractionBox[\"1\", \"3\"], \" \", \n",
       "\n",
       " \n",
       ">        RowBox[{\"(\", RowBox[{RowBox[{OverscriptBox[\"ω\", \"^\"], \" \", \n",
       "\n",
       " \n",
       ">              RowBox[{\"(\", RowBox[{RowBox[{\"-\", \n",
       "\n",
       " \n",
       ">                    RowBox[{\"3\", \" \", SubscriptBox[OverscriptBox[\"r\", \"^\"], \"2\"], \n",
       "\n",
       " \n",
       ">                      \" \", RowBox[{\"(\", \n",
       "\n",
       " \n",
       ">                        RowBox[{RowBox[{\"10\", \" \", \n",
       "\n",
       " \n",
       ">                            SuperscriptBox[SubscriptBox[OverscriptBox[\"r\", \"^\"], \n",
       "\n",
       " \n",
       ">                              \"2\"], \"′′′\"], \" \", \n",
       "\n",
       " \n",
       ">                            SuperscriptBox[OverscriptBox[\"ω\", \"^\"], \"′\"]}], \"+\", \n",
       "\n",
       " \n",
       ">                          RowBox[{\"10\", \" \", \n",
       "\n",
       " \n",
       ">                            SuperscriptBox[SubscriptBox[OverscriptBox[\"r\", \"^\"], \n",
       "\n",
       " \n",
       ">                              \"2\"], \"′′\"], \" \", \n",
       "\n",
       " \n",
       ">                            SuperscriptBox[OverscriptBox[\"ω\", \"^\"], \"′′\"]}], \"+\", \n",
       "\n",
       " \n",
       ">                          RowBox[{SubscriptBox[OverscriptBox[\"r\", \"^\"], \"2\"], \" \", \n",
       "\n",
       " \n",
       ">                            SuperscriptBox[OverscriptBox[\"ω\", \"^\"], \"′′′′\"]}]}], \")\"}]\\\n",
       "\n",
       " \n",
       ">   }]}], \"+\", RowBox[{\"60\", \" \", SuperscriptBox[RowBox[{\"(\", \n",
       "\n",
       " \n",
       ">                       SuperscriptBox[SubscriptBox[OverscriptBox[\"r\", \"^\"], \"2\"], \n",
       "\n",
       " \n",
       ">                        \"′\"], \")\"}], \"2\"], \" \", \n",
       "\n",
       " \n",
       ">                    SuperscriptBox[OverscriptBox[\"ω\", \"^\"], \"′′\"]}], \"+\", \n",
       "\n",
       " \n",
       ">                  RowBox[{\"90\", \" \", \n",
       "\n",
       " \n",
       ">                    SuperscriptBox[SubscriptBox[OverscriptBox[\"r\", \"^\"], \"2\"], \"′\"], \n",
       "\n",
       " \n",
       ">                    \" \", SuperscriptBox[SubscriptBox[OverscriptBox[\"r\", \"^\"], \"2\"], \n",
       "\n",
       " \n",
       ">                     \"′′\"], \" \", SuperscriptBox[OverscriptBox[\"ω\", \"^\"], \"′\"]}]}],\\\n",
       " \n",
       ">    \")\"}]\\\n",
       "}], \"+\", RowBox[{SuperscriptBox[SubscriptBox[OverscriptBox[\"r\", \"^\"], \"2\"],\\\n",
       " \n",
       ">    \"′\"], \n",
       "           \" \", RowBox[{\"(\", RowBox[{RowBox[{\"30\", \" \", \n",
       "\n",
       " \n",
       ">                    SubscriptBox[OverscriptBox[\"r\", \"^\"], \"2\"], \" \", \n",
       "\n",
       " \n",
       ">                    SuperscriptBox[OverscriptBox[\"ω\", \"^\"], \"′\"], \" \", \n",
       "\n",
       " \n",
       ">                    SuperscriptBox[OverscriptBox[\"ω\", \"^\"], \"′′\"]}], \"+\", \n",
       "\n",
       " \n",
       ">                  RowBox[{\"45\", \" \", \n",
       "\n",
       " \n",
       ">                    SuperscriptBox[SubscriptBox[OverscriptBox[\"r\", \"^\"], \"2\"], \"′\"], \n",
       "\n",
       " \n",
       ">                    \" \", SuperscriptBox[RowBox[{\"(\", \n",
       "\n",
       " \n",
       ">                       SuperscriptBox[OverscriptBox[\"ω\", \"^\"], \"′\"], \")\"}], \"2\"]}], \n",
       "\n",
       " \n",
       ">                  \"-\", SuperscriptBox[SubscriptBox[OverscriptBox[\"r\", \"^\"], \"2\"], \n",
       "\n",
       " \n",
       ">                   \"′′′′′\"]}], \")\"}]}], \"-\", \n",
       "\n",
       " \n",
       ">            RowBox[{\"60\", \" \", SuperscriptBox[OverscriptBox[\"ω\", \"^\"], \"4\"], \" \", \n",
       "\n",
       " \n",
       ">              RowBox[{\"(\", RowBox[{SuperscriptBox[RowBox[{\"(\", \n",
       "\n",
       " \n",
       ">                     SuperscriptBox[SubscriptBox[OverscriptBox[\"r\", \"^\"], \"2\"], \n",
       "\n",
       " \n",
       ">                      \"′\"], \")\"}], \"2\"], \"-\", \n",
       "\n",
       " \n",
       ">                  RowBox[{\"2\", \" \", SubscriptBox[OverscriptBox[\"r\", \"^\"], \"2\"], \" \", \n",
       "\n",
       " \n",
       ">                    SuperscriptBox[SubscriptBox[OverscriptBox[\"r\", \"^\"], \"2\"],\\\n",
       " \n",
       ">    \"′′\"]}]}\\\n",
       "], \")\"}]}], \"+\", RowBox[{\"120\", \" \", SubscriptBox[OverscriptBox[\"r\",\\\n",
       " \n",
       ">    \"^\"], \"2\"], \n",
       "           \" \", SuperscriptBox[OverscriptBox[\"ω\", \"^\"], \"3\"], \" \", \n",
       "\n",
       " \n",
       ">              RowBox[{\"(\", RowBox[{RowBox[{\"2\", \" \", \n",
       "\n",
       " \n",
       ">                    SuperscriptBox[SubscriptBox[OverscriptBox[\"r\", \"^\"], \"2\"], \"′\"], \n",
       "\n",
       " \n",
       ">                    \" \", SuperscriptBox[OverscriptBox[\"ω\", \"^\"], \"′\"]}], \"+\", \n",
       "\n",
       " \n",
       ">                  RowBox[{SubscriptBox[OverscriptBox[\"r\", \"^\"], \"2\"], \" \", \n",
       "\n",
       " \n",
       ">                    SuperscriptBox[OverscriptBox[\"ω\", \"^\"], \"′′\"]}]}], \")\"}]}], \"+\", \n",
       "\n",
       " \n",
       ">            RowBox[{\"15\", \" \", SuperscriptBox[OverscriptBox[\"ω\", \"^\"], \"2\"], \" \", \n",
       "\n",
       " \n",
       ">              RowBox[{\"(\", RowBox[{RowBox[{\"12\", \" \", \n",
       "\n",
       " \n",
       ">                    SubsuperscriptBox[OverscriptBox[\"r\", \"^\"], \"2\", \"2\"], \" \", \n",
       "\n",
       " \n",
       ">                    SuperscriptBox[RowBox[{\"(\", \n",
       "\n",
       " \n",
       ">                       SuperscriptBox[OverscriptBox[\"ω\", \"^\"], \"′\"], \")\"}], \"2\"]}], \n",
       "\n",
       " \n",
       ">                  \"+\", RowBox[{\"2\", \" \", \n",
       "\n",
       " \n",
       ">                    SuperscriptBox[SubscriptBox[OverscriptBox[\"r\", \"^\"], \"2\"], \"′\"], \n",
       "\n",
       " \n",
       ">                    \" \", SuperscriptBox[SubscriptBox[OverscriptBox[\"r\", \"^\"], \"2\"], \n",
       "\n",
       " \n",
       ">                     \"′′′\"]}], \"-\", RowBox[{SubscriptBox[OverscriptBox[\"r\", \"^\"], \n",
       "\n",
       " \n",
       ">                     \"2\"], \" \", SuperscriptBox[SubscriptBox[OverscriptBox[\"r\", \"^\"], \n",
       "\n",
       " \n",
       ">                      \"2\"], \"′′′′\"]}]}], \")\"}]}], \"-\", \n",
       "\n",
       " \n",
       ">            RowBox[{RowBox[{\"48\"}], \" \", \n",
       "\n",
       " \n",
       ">              SubsuperscriptBox[OverscriptBox[\"r\", \"^\"], \"2\", \"2\"], \" \", \n",
       "\n",
       " \n",
       ">              SuperscriptBox[OverscriptBox[\"ω\", \"^\"], \"6\"]}]}], \")\"}]}],\\\n",
       " \n",
       ">    TraditionalForm]\n"
      ]
     },
     "execution_count": 479,
     "metadata": {
      "text/html": [],
      "text/plain": []
     },
     "output_type": "execute_result"
    }
   ],
   "source": [
    "dEdtTemp = RHSEnegryLagrange[[1]] //. Fh5Replacement;\n",
    "dEdt = Simplify[dEdtTemp/Subscript[\\[Epsilon], G], Trig -> True];\n",
    "dEdt // TraditionalForm"
   ]
  },
  {
   "cell_type": "markdown",
   "metadata": {},
   "source": [
    "<span style=\"color:brown\">**NB:**</span> В файлах Binary.pdf и binary_catch1.pdf выводится <span style=\"color:green\">**точно такие же**</span> выражения для правой части (dE/dt),\n",
    "а именно $I_E = I_1\\hat{\\omega} + I_2\\frac{\\dot{r}}{r}$, где\n",
    "$$\n",
    "I_2 = 2\\hat{r}_2 \\left[ -40\\hat{r}_2\\hat{\\omega}^3\\hat{\\omega}^{(1)} - 20\\hat{\\omega}^4\\hat{r}_2^{(1)} + 5\\hat{r}_2\\hat{\\omega}\\hat{\\omega}^{(3)} + 10\\hat{r}_2\\hat{\\omega}^{(1)}\\hat{\\omega}^{(2)} + 10\\hat{\\omega}^2\\hat{r}_2^{(3)} + 30\\hat{\\omega}\\hat{\\omega}^{(1)}\\hat{r}_2^{(2)} + 20\\hat{\\omega}\\hat{\\omega}^{(2)}\\hat{r}_2^{(1)} + 15\\hat{r}_2^{(1)}(\\hat{\\omega}^{(1)})^2 - \\frac{1}{3}\\hat{r}_2^{(5)} \\right]\n",
    "$$"
   ]
  },
  {
   "cell_type": "code",
   "execution_count": 481,
   "metadata": {
    "vscode": {
     "languageId": "wolfram"
    }
   },
   "outputs": [
    {
     "data": {
      "text/html": [
       "<div><pre style=\"&#102;&#111;&#110;&#116;&#45;&#102;&#97;&#109;&#105;&#108;&#121;&#58;&#32;&#34;&#67;&#111;&#117;&#114;&#105;&#101;&#114;&#32;&#78;&#101;&#119;&#34;&#44;&#67;&#111;&#117;&#114;&#105;&#101;&#114;&#44;&#109;&#111;&#110;&#111;&#115;&#112;&#97;&#99;&#101;&#59;\">&#48;</pre></div>"
      ],
      "text/plain": [
       "0"
      ]
     },
     "execution_count": 481,
     "metadata": {
      "text/html": [],
      "text/plain": []
     },
     "output_type": "execute_result"
    }
   ],
   "source": [
    "I2 = 2 * Subscript[OverHat[r], 2][OverHat[t]] * (\n",
    "    -40 * Subscript[OverHat[r], 2][OverHat[t]] *\n",
    "    OverHat[\\[Omega]][OverHat[t]]^3 * Derivative[1][OverHat[\\[Omega]]][OverHat[t]]\n",
    "    - 20 * OverHat[\\[Omega]][OverHat[t]]^4 *\n",
    "    Derivative[1][Subscript[OverHat[r], 2]][OverHat[t]]\n",
    "    + 5 * Subscript[OverHat[r], 2][OverHat[t]] *\n",
    "    OverHat[\\[Omega]][OverHat[t]] * Derivative[3][OverHat[\\[Omega]]][OverHat[t]]\n",
    "    + 10 * Subscript[OverHat[r], 2][OverHat[t]] *\n",
    "    Derivative[1][OverHat[\\[Omega]]][OverHat[t]] *\n",
    "    Derivative[2][OverHat[\\[Omega]]][OverHat[t]]\n",
    "    + 10 * OverHat[\\[Omega]][OverHat[t]]^2 *\n",
    "    Derivative[3][Subscript[OverHat[r], 2]][OverHat[t]]\n",
    "    + 30 * OverHat[\\[Omega]][OverHat[t]] *\n",
    "    Derivative[1][OverHat[\\[Omega]]][OverHat[t]] *\n",
    "    Derivative[2][Subscript[OverHat[r], 2]][OverHat[t]]\n",
    "    + 20 * OverHat[\\[Omega]][OverHat[t]] *\n",
    "    Derivative[2][OverHat[\\[Omega]]][OverHat[t]] *\n",
    "    Derivative[1][Subscript[OverHat[r], 2]][OverHat[t]]\n",
    "    + 15 * Derivative[1][Subscript[OverHat[r], 2]][OverHat[t]] *\n",
    "    Derivative[1][OverHat[\\[Omega]]][OverHat[t]]^2\n",
    "    - (1/3) * Derivative[5][Subscript[OverHat[r], 2]][OverHat[t]]\n",
    ");\n",
    "Simplify[(I2*D[OverHat[r][OverHat[t]], OverHat[t]]/OverHat[r][OverHat[t]] + I1*OverHat[\\[Omega]][OverHat[t]] /. ToR2Replacement) - dEdt]"
   ]
  },
  {
   "cell_type": "markdown",
   "metadata": {},
   "source": [
    "# Итоговые $I_J$, $I_E$\n",
    "\n",
    "$$\n",
    "\\begin{align}\n",
    "\\tag{IJ}\\\n",
    "I_J &= \\hat{r}_2 \\left[ 120\\hat{r}_2^{(1)}\\hat{\\omega}^2\\hat{\\omega}^{(1)} - 5\\hat{r}_2^{(1)}\\hat{\\omega}^{(3)} - 16\\hat{r}_2\\hat{\\omega}^5 - 10\\hat{r}_2^{(2)}\\hat{\\omega}^{(2)} + 60\\hat{r}_2\\hat{\\omega}(\\hat{\\omega}^{(1)})^2\n",
    "- 10\\hat{r}_2^{(3)}\\hat{\\omega}^{(1)} + 40\\hat{r}_2^{(2)}\\hat{\\omega}^3 - 5\\hat{r}_2^{(4)}\\hat{\\omega} - \\hat{r}_2\\hat{\\omega}^{(4)} + 40\\hat{r}_2\\hat{\\omega}^2\\hat{\\omega}^{(2)} \\right]\n",
    "\\\\\n",
    "\\tag{IE}\n",
    "I_E &= I_J\\hat{\\omega} + \\hat{r}_2^{(1)} \\left[ -40\\hat{r}_2\\hat{\\omega}^3\\hat{\\omega}^{(1)} - 20\\hat{\\omega}^4\\hat{r}_2^{(1)} + 5\\hat{r}_2\\hat{\\omega}\\hat{\\omega}^{(3)} + 10\\hat{r}_2\\hat{\\omega}^{(1)}\\hat{\\omega}^{(2)} + 10\\hat{\\omega}^2\\hat{r}_2^{(3)} + 30\\hat{\\omega}\\hat{\\omega}^{(1)}\\hat{r}_2^{(2)} + 20\\hat{\\omega}\\hat{\\omega}^{(2)}\\hat{r}_2^{(1)} + 15\\hat{r}_2^{(1)}(\\hat{\\omega}^{(1)})^2 - \\frac{1}{3}\\hat{r}_2^{(5)} \\right]\n",
    "\\end{align}\n",
    "$$"
   ]
  },
  {
   "cell_type": "markdown",
   "metadata": {
    "vscode": {
     "languageId": "wolfram"
    }
   },
   "source": [
    "# Потеря энергии за один период обращения"
   ]
  },
  {
   "cell_type": "markdown",
   "metadata": {},
   "source": [
    "Энергию гравитационного излучени невозможно локализовать в области меньше длины одной волны.\n",
    "\n",
    "Поэтому мгновенные изменения энергии и момента не имеют физического смысла.\n",
    "\n",
    "Однако, если мы просуммируем энергию и момент по полному периоду обращения, то с такими величинами можно работать.\n",
    "\n",
    "Рассчитаем в **нулевом приближении**, сколько энергии уносится из системы\n",
    "\n",
    "гравитационными волнами за один полный оборот, интегрируя по ньютоновской гиперболической траектории\n",
    "\n",
    "начиная с момента, когда тело \"бесконечно\" далеко, до момента минимального сближения и обратно:\n",
    "$$\n",
    "\\Delta \\hat{E} = 2 \\epsilon_G \\int\\limits_{\\hat{t}_{\\text{min}}}^{\\infty}I_E(\\hat{t}) d \\hat{t}.\n",
    "$$"
   ]
  },
  {
   "cell_type": "markdown",
   "metadata": {},
   "source": [
    "В приближении Ньютона $I_J$ и $I_E$ равны нулю.\n",
    "Тогда и момент импульса и энергия сохраняются.\n",
    "\n",
    "$\\hat{J} = |\\vec{\\hat{r}} \\times \\vec{\\hat{v}}| = |\\vec{\\hat{r}}_\\infty \\times \\vec{\\hat{v}}_\\infty| = \\hat{r}\\hat{v}_\\infty \\sin(\\phi)$\n",
    "\n",
    "Так как $\\phi = \\pi/2$ на бесконечности, то $\\hat{J} = b\\hat{v}_\\infty = u$,\n",
    "то $u$ - безразмерная скорость на бесконечности.\n",
    "\n",
    "Отсюда следует, что $\\hat{\\omega} = \\frac{u}{\\hat{r}_2}$"
   ]
  },
  {
   "cell_type": "code",
   "execution_count": 482,
   "metadata": {
    "vscode": {
     "languageId": "wolfram"
    }
   },
   "outputs": [],
   "source": [
    "OmegaReplace2 = {\n",
    "   OverHat[\\[Omega]][OverHat[t]] -> u/Subscript[OverHat[r], 2][OverHat[t]],\n",
    "   Derivative[n_][OverHat[\\[Omega]]][OverHat[t]] :> u D[1/Subscript[OverHat[r], 2][OverHat[t]], {OverHat[t], n}]\n",
    "};"
   ]
  },
  {
   "cell_type": "markdown",
   "metadata": {},
   "source": [
    "Заменим переменные\n",
    "$$\n",
    "\\Delta \\hat{E} = - 2 \\epsilon_G \\int\\limits_{\\hat{r}_2^{\\text{min}}}^{\\infty}\\frac{I_E(\\hat{r}_2)}{\\hat{r}_2^{(1)}}d \\hat{r}_2,\n",
    "$$"
   ]
  },
  {
   "cell_type": "markdown",
   "metadata": {},
   "source": [
    "Здесь $\\hat{r}_2^{\\text{min}}$ - квадрат минимального расстояния между объектами:"
   ]
  },
  {
   "cell_type": "code",
   "execution_count": 484,
   "metadata": {
    "vscode": {
     "languageId": "wolfram"
    }
   },
   "outputs": [
    {
     "data": {
      "text/html": [
       "<div><img alt=\"Output\" src=\"data:image/png;base64,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\"></div>"
      ],
      "text/plain": [
       "FormBox[FractionBox[RowBox[{SuperscriptBox[\"u\", \"4\"], \"-\", \n",
       "\n",
       " \n",
       ">         RowBox[{\"2\", \" \", SqrtBox[RowBox[{SuperscriptBox[\"u\", \"4\"], \"+\", \"1\"}]]}],\\\n",
       " \n",
       ">    \"+\", \n",
       "      \"2\"}], SuperscriptBox[\"u\", \"4\"]], TraditionalForm]\n"
      ]
     },
     "execution_count": 484,
     "metadata": {
      "text/html": [],
      "text/plain": []
     },
     "output_type": "execute_result"
    }
   ],
   "source": [
    "rMin2[u_] := (2 + u^4 - 2 Sqrt[1 + u^4])/u^4;\n",
    "rMin2[u] // TraditionalForm"
   ]
  },
  {
   "cell_type": "code",
   "execution_count": 487,
   "metadata": {
    "vscode": {
     "languageId": "wolfram"
    }
   },
   "outputs": [
    {
     "data": {
      "text/html": [
       "<div><img alt=\"Output\" src=\"data:image/png;base64,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\"></div>"
      ],
      "text/plain": [
       "FormBox[RowBox[{FractionBox[RowBox[{\"16\", \" \", SuperscriptBox[\"u\", \"6\"]}], \n",
       "\n",
       " \n",
       ">         RowBox[{SubsuperscriptBox[OverscriptBox[\"r\", \"^\"], \"2\", \"4\"], \" \", \n",
       "\n",
       " \n",
       ">           SuperscriptBox[SubscriptBox[OverscriptBox[\"r\", \"^\"], \"2\"], \"′\"]}]], \"-\", \n",
       "\n",
       " \n",
       ">        FractionBox[RowBox[{\"40\", \" \", SuperscriptBox[\"u\", \"4\"], \" \", \n",
       "\n",
       " \n",
       ">           SuperscriptBox[SubscriptBox[OverscriptBox[\"r\", \"^\"], \"2\"], \"′\"]}], \n",
       "\n",
       " \n",
       ">         SubsuperscriptBox[OverscriptBox[\"r\", \"^\"], \"2\", \"4\"]], \"-\", \n",
       "\n",
       " \n",
       ">        FractionBox[RowBox[{\"4\", \" \", SuperscriptBox[\"u\", \"2\"], \" \", \n",
       "\n",
       " \n",
       ">           SuperscriptBox[RowBox[{\"(\", \n",
       "\n",
       " \n",
       ">              SuperscriptBox[SubscriptBox[OverscriptBox[\"r\", \"^\"], \"2\"], \"′′\"], \")\"}], \n",
       "\n",
       " \n",
       ">            \"2\"]}], RowBox[{SubsuperscriptBox[OverscriptBox[\"r\", \"^\"], \"2\", \"2\"], \" \", \n",
       "\n",
       " \n",
       ">           SuperscriptBox[SubscriptBox[OverscriptBox[\"r\", \"^\"], \"2\"], \"′\"]}]], \"+\", \n",
       "\n",
       " \n",
       ">        FractionBox[RowBox[{\"24\", \" \", SuperscriptBox[\"u\", \"2\"], \" \", \n",
       "\n",
       " \n",
       ">           SuperscriptBox[SubscriptBox[OverscriptBox[\"r\", \"^\"], \"2\"], \"′\"], \" \", \n",
       "\n",
       " \n",
       ">           SuperscriptBox[SubscriptBox[OverscriptBox[\"r\", \"^\"], \"2\"], \"′′\"]}], \n",
       "\n",
       " \n",
       ">         SubsuperscriptBox[OverscriptBox[\"r\", \"^\"], \"2\", \"3\"]], \"+\", \n",
       "\n",
       " \n",
       ">        FractionBox[RowBox[{\"4\", \" \", SuperscriptBox[\"u\", \"2\"], \" \", \n",
       "\n",
       " \n",
       ">           SuperscriptBox[SubscriptBox[OverscriptBox[\"r\", \"^\"], \"2\"], \"′′′′\"]}], \n",
       "\n",
       " \n",
       ">         RowBox[{SubscriptBox[OverscriptBox[\"r\", \"^\"], \"2\"], \" \", \n",
       "\n",
       " \n",
       ">           SuperscriptBox[SubscriptBox[OverscriptBox[\"r\", \"^\"], \"2\"], \"′\"]}]], \"-\", \n",
       "\n",
       " \n",
       ">        FractionBox[RowBox[{\"11\", \" \", SuperscriptBox[\"u\", \"2\"], \" \", \n",
       "\n",
       " \n",
       ">           SuperscriptBox[RowBox[{\"(\", \n",
       "\n",
       " \n",
       ">              SuperscriptBox[SubscriptBox[OverscriptBox[\"r\", \"^\"], \"2\"], \"′\"], \")\"}], \n",
       "\n",
       " \n",
       ">            \"3\"]}], SubsuperscriptBox[OverscriptBox[\"r\", \"^\"], \"2\", \"4\"]], \"-\", \n",
       "\n",
       " \n",
       ">        FractionBox[RowBox[{\"12\", \" \", SuperscriptBox[\"u\", \"2\"], \" \", \n",
       "\n",
       " \n",
       ">           SuperscriptBox[SubscriptBox[OverscriptBox[\"r\", \"^\"], \"2\"], \"′′′\"]}], \n",
       "\n",
       " \n",
       ">         SubsuperscriptBox[OverscriptBox[\"r\", \"^\"], \"2\", \"2\"]], \"+\", \n",
       "\n",
       " \n",
       ">        FractionBox[SuperscriptBox[SubscriptBox[OverscriptBox[\"r\", \"^\"], \"2\"],\\\n",
       " \n",
       ">    \"′′′′′\"], \n",
       "      \"3\"]}], TraditionalForm]\n"
      ]
     },
     "execution_count": 487,
     "metadata": {
      "text/html": [],
      "text/plain": []
     },
     "output_type": "execute_result"
    }
   ],
   "source": [
    "(* Минус учтём сразу *)\n",
    "dEdr = Simplify[-dEdt/D[Subscript[OverHat[r], 2][OverHat[t]], OverHat[t]] //. OmegaReplace2];\n",
    "Expand[Simplify[dEdr]] // TraditionalForm"
   ]
  },
  {
   "cell_type": "markdown",
   "metadata": {},
   "source": [
    "<span style=\"color:brown\">**NB:**</span> Выражение для $dE/dr$ <span style=\"color:green\">**сопадает**</span> с выраженем для интегранта из binary_catch1.pdf, если учесть деление на $\\hat{r}_2^{(1)}$"
   ]
  },
  {
   "cell_type": "markdown",
   "metadata": {},
   "source": [
    "Из сохранения энергии следует, что\n",
    "$\\hat{E} = \\hat{E}_\\infty = \\frac{u^2}{2} = \\left(\\frac{(\\hat{r}^{(1)})^2}{2} + \\frac{\\hat{r}^2 \\hat{\\omega}^2}{2} - \\frac{1}{\\hat{r}}\\right)$\n",
    "\n",
    "Тогда можно найти $\\hat{r}_2^{(1)}$:"
   ]
  },
  {
   "cell_type": "code",
   "execution_count": 490,
   "metadata": {
    "vscode": {
     "languageId": "wolfram"
    }
   },
   "outputs": [
    {
     "data": {
      "text/html": [
       "<div><img alt=\"Output\" src=\"data:image/png;base64,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\"></div>"
      ],
      "text/plain": [
       "FormBox[RowBox[{RowBox[{\"-\", \"2\"}], \" \", \n",
       "\n",
       " \n",
       ">        SqrtBox[RowBox[{RowBox[{SubscriptBox[OverscriptBox[\"r\", \"^\"], \"2\"], \" \", \n",
       "\n",
       " \n",
       ">             SuperscriptBox[\"u\", \"2\"]}], \"+\", \n",
       "\n",
       " \n",
       ">           RowBox[{\"2\", \" \", SqrtBox[SubscriptBox[OverscriptBox[\"r\", \"^\"], \"2\"]]}],\\\n",
       " \n",
       ">    \"-\", \n",
       "        SuperscriptBox[\"u\", \"2\"]}]]}], TraditionalForm]\n"
      ]
     },
     "execution_count": 490,
     "metadata": {
      "text/html": [],
      "text/plain": []
     },
     "output_type": "execute_result"
    }
   ],
   "source": [
    "eq = Energy - u^2/2 //. Flatten[{\n",
    "  ToR2Replacement,\n",
    "  OmegaReplace2,\n",
    "  D[Subscript[OverHat[r], 2][OverHat[t]], OverHat[t]]^2 -> x^2\n",
    "}];\n",
    "\n",
    "sol = Solve[eq == 0, x][[1]];\n",
    "\n",
    "x /. sol[[1]] // TraditionalForm"
   ]
  },
  {
   "cell_type": "markdown",
   "metadata": {},
   "source": [
    "А также $\\hat{r}_2^{(i)}$ для $i = 1\\dots5$"
   ]
  },
  {
   "cell_type": "code",
   "execution_count": 494,
   "metadata": {
    "vscode": {
     "languageId": "wolfram"
    }
   },
   "outputs": [
    {
     "data": {
      "text/html": [
       "<div><img alt=\"Output\" src=\"data:image/png;base64,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\"></div>"
      ],
      "text/plain": [
       "FormBox[RowBox[{\"{\", RowBox[{RowBox[{RowBox[{\"-\", \"2\"}], \" \", \n",
       "\n",
       " \n",
       ">            SqrtBox[RowBox[{RowBox[{SubscriptBox[OverscriptBox[\"r\", \"^\"], \"2\"], \" \", \n",
       "\n",
       " \n",
       ">                 SuperscriptBox[\"u\", \"2\"]}], \"+\", \n",
       "\n",
       " \n",
       ">               RowBox[{\"2\", \" \", SqrtBox[SubscriptBox[OverscriptBox[\"r\", \"^\"], \"2\"]]}],\\\n",
       " \n",
       ">    \n",
       "            \"-\", SuperscriptBox[\"u\", \"2\"]}]]}], \",\", \n",
       "\n",
       " \n",
       ">          RowBox[{\"2\", \" \", RowBox[{\"(\", \n",
       "           RowBox[{FractionBox[\"1\", \n",
       "\n",
       " \n",
       ">                 SqrtBox[SubscriptBox[OverscriptBox[\"r\", \"^\"], \"2\"]]], \"+\", \n",
       "\n",
       " \n",
       ">                SuperscriptBox[\"u\", \"2\"]}], \")\"}]}], \",\", \n",
       "\n",
       " \n",
       ">          FractionBox[RowBox[{\"2\", \" \", \n",
       "\n",
       " \n",
       ">             SqrtBox[RowBox[{RowBox[{SubscriptBox[OverscriptBox[\"r\", \"^\"], \"2\"], \" \", \n",
       "\n",
       " \n",
       ">                  SuperscriptBox[\"u\", \"2\"]}], \"+\", \n",
       "\n",
       " \n",
       ">                RowBox[{\"2\", \" \", SqrtBox[SubscriptBox[OverscriptBox[\"r\", \"^\"], \n",
       "\n",
       " \n",
       ">                    \"2\"]]}], \"-\", SuperscriptBox[\"u\", \"2\"]}]]}], \n",
       "\n",
       " \n",
       ">           SubsuperscriptBox[OverscriptBox[\"r\", \"^\"], \"2\", RowBox[{\"3\", \"/\", \"2\"}]]], \n",
       "\n",
       " \n",
       ">          \",\", FractionBox[RowBox[{\"2\", \" \", \n",
       "\n",
       " \n",
       ">             RowBox[{\"(\", RowBox[{RowBox[{\"2\", \" \", \n",
       "\n",
       " \n",
       ">                   SubscriptBox[OverscriptBox[\"r\", \"^\"], \"2\"], \" \", \n",
       "\n",
       " \n",
       ">                   SuperscriptBox[\"u\", \"2\"]}], \"+\", \n",
       "\n",
       " \n",
       ">                 RowBox[{\"5\", \" \", SqrtBox[SubscriptBox[OverscriptBox[\"r\", \"^\"], \n",
       "\n",
       " \n",
       ">                     \"2\"]]}], \"-\", RowBox[{\"3\", \" \", SuperscriptBox[\"u\", \"2\"]}]}],\\\n",
       " \n",
       ">    \")\"}\\\n",
       "]}], SubsuperscriptBox[OverscriptBox[\"r\", \"^\"], \"2\", RowBox[{\"5\", \"/\",\\\n",
       " \n",
       ">    \"2\"}]]], \",\", \n",
       "       FractionBox[RowBox[{\"2\", \" \", \n",
       "\n",
       " \n",
       ">             SqrtBox[RowBox[{RowBox[{SubscriptBox[OverscriptBox[\"r\", \"^\"], \"2\"], \" \", \n",
       "\n",
       " \n",
       ">                  SuperscriptBox[\"u\", \"2\"]}], \"+\", \n",
       "\n",
       " \n",
       ">                RowBox[{\"2\", \" \", SqrtBox[SubscriptBox[OverscriptBox[\"r\", \"^\"], \n",
       "\n",
       " \n",
       ">                    \"2\"]]}], \"-\", SuperscriptBox[\"u\", \"2\"]}]], \" \", \n",
       "\n",
       " \n",
       ">             RowBox[{\"(\", RowBox[{RowBox[{\"6\", \" \", \n",
       "\n",
       " \n",
       ">                   SubscriptBox[OverscriptBox[\"r\", \"^\"], \"2\"], \" \", \n",
       "\n",
       " \n",
       ">                   SuperscriptBox[\"u\", \"2\"]}], \"+\", \n",
       "\n",
       " \n",
       ">                 RowBox[{\"20\", \" \", SqrtBox[SubscriptBox[OverscriptBox[\"r\", \"^\"], \n",
       "\n",
       " \n",
       ">                     \"2\"]]}], \"-\", RowBox[{\"15\", \" \", SuperscriptBox[\"u\", \"2\"]}]}],\\\n",
       " \n",
       ">    \")\"}\\\n",
       "]}], SubsuperscriptBox[OverscriptBox[\"r\", \"^\"], \"2\", RowBox[{\"7\", \"/\",\\\n",
       " \n",
       ">    \"2\"}]]]}], \"}\"}]\\\n",
       ", TraditionalForm]\n"
      ]
     },
     "execution_count": 494,
     "metadata": {
      "text/html": [],
      "text/plain": []
     },
     "output_type": "execute_result"
    }
   ],
   "source": [
    "replacementRule = D[Subscript[OverHat[r], 2][OverHat[t]], OverHat[t]] :> x /. sol[[1]];\n",
    "\n",
    "(* Рекурсивно вычисляем производные *)\n",
    "dr2 = NestList[\n",
    "   Simplify[D[#, OverHat[t]] /. replacementRule] &,\n",
    "   x /. sol[[1]],\n",
    "   4\n",
    "];\n",
    "\n",
    "dr2 // TraditionalForm"
   ]
  },
  {
   "cell_type": "markdown",
   "metadata": {},
   "source": [
    "Заменяя вхождение **всех** производных в выражении для $dE/dr$, получим"
   ]
  },
  {
   "cell_type": "code",
   "execution_count": 496,
   "metadata": {
    "vscode": {
     "languageId": "wolfram"
    }
   },
   "outputs": [
    {
     "data": {
      "text/html": [
       "<div><img alt=\"Output\" src=\"data:image/png;base64,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\"></div>"
      ],
      "text/plain": [
       "FormBox[FractionBox[RowBox[{\"2\", \" \", \n",
       "      RowBox[{\"(\", RowBox[{RowBox[{\"6\", \" \", \n",
       "\n",
       " \n",
       ">               SubsuperscriptBox[OverscriptBox[\"r\", \"^\"], \"2\", \"2\"], \" \", \n",
       "\n",
       " \n",
       ">               SuperscriptBox[\"u\", \"4\"]}], \"+\", \n",
       "\n",
       " \n",
       ">             RowBox[{SubscriptBox[OverscriptBox[\"r\", \"^\"], \"2\"], \" \", \n",
       "\n",
       " \n",
       ">               RowBox[{\"(\", RowBox[{RowBox[{\"51\", \" \", SuperscriptBox[\"u\", \"4\"]}], \n",
       "\n",
       " \n",
       ">                   \"+\", \"40\"}], \")\"}]}], \"+\", \n",
       "\n",
       " \n",
       ">             RowBox[{\"32\", \" \", SubsuperscriptBox[OverscriptBox[\"r\", \"^\"], \"2\", \n",
       "\n",
       " \n",
       ">                RowBox[{\"3\", \"/\", \"2\"}]], \" \", SuperscriptBox[\"u\", \"2\"]}], \"+\", \n",
       "\n",
       " \n",
       ">             RowBox[{\"100\", \" \", SqrtBox[SubscriptBox[OverscriptBox[\"r\", \"^\"], \"2\"]], \n",
       "\n",
       " \n",
       ">               \" \", SuperscriptBox[\"u\", \"2\"]}], \"-\", \n",
       "\n",
       " \n",
       ">             RowBox[{\"75\", \" \", SuperscriptBox[\"u\", \"4\"]}]}], \")\"}]}], \n",
       "\n",
       " \n",
       ">       RowBox[{\"3\", \" \", SubsuperscriptBox[OverscriptBox[\"r\", \"^\"], \"2\", \n",
       "\n",
       " \n",
       ">          RowBox[{\"7\", \"/\", \"2\"}]], \" \", \n",
       "\n",
       " \n",
       ">         SqrtBox[RowBox[{RowBox[{SubscriptBox[OverscriptBox[\"r\", \"^\"], \"2\"], \" \", \n",
       "\n",
       " \n",
       ">              SuperscriptBox[\"u\", \"2\"]}], \"+\", \n",
       "\n",
       " \n",
       ">            RowBox[{\"2\", \" \", SqrtBox[SubscriptBox[OverscriptBox[\"r\", \"^\"], \"2\"]]}],\\\n",
       " \n",
       ">    \"-\", \n",
       "         SuperscriptBox[\"u\", \"2\"]}]]}]], TraditionalForm]\n"
      ]
     },
     "execution_count": 496,
     "metadata": {
      "text/html": [],
      "text/plain": []
     },
     "output_type": "execute_result"
    }
   ],
   "source": [
    "dEdrFinal = Fold[ (* Последовательно применяем замены *)\n",
    "  Simplify[#1 /.\n",
    "    D[Subscript[OverHat[r], 2][OverHat[t]], {OverHat[t], #2}] -> dr2[[#2]]] &,\n",
    "  dEdr,\n",
    "  Range[5]\n",
    "];\n",
    "\n",
    "Simplify[dEdrFinal, {u ∈ Reals, u > 0}] // TraditionalForm"
   ]
  },
  {
   "cell_type": "markdown",
   "metadata": {},
   "source": [
    "$$\n",
    "  \\Delta \\hat{E}(u) = \\epsilon_G \\frac{4}{3}\\int\\limits_{\\hat{r}_2^\\text{min}}^\\infty \\frac{32 \\hat{r}_2^{3/2} u^2+6 \\hat{r}_2^2 u^4+\\hat{r}_2 \\left(51 u^4+40\\right)+100 \\sqrt{\\hat{r}_2} u^2-75 u^4}{\\hat{r}_2^{7/2} \\sqrt{\\hat{r}_2 u^2+2 \\sqrt{\\hat{r}_2}-u^2}} \\, d\\hat{r}_2,\n",
    "$$\n",
    "где при $\\hat{r}_2 \\ge \\hat{r}_2^{\\text{min}}$ выражение $\\hat{r}_2u^2 + 2\\sqrt{\\hat{r}_2} - u^2 \\ge 0$."
   ]
  },
  {
   "cell_type": "markdown",
   "metadata": {},
   "source": [
    "Полученный выше интеграл **компактнее**, чем тот, что рассмотрен в файле binary_catch2.pdf\n",
    "$$\n",
    "  \\Delta \\hat{E}(u) = \\epsilon_G \\frac{4}{3}\\int\\limits_{\\hat{r}_2^\\text{min}}^\\infty \\frac{24\\hat{r}_2^2u^6 + 48u^6\\hat{r}_2 + 120\\hat{r}_2^{3/2}u^4 - 96u^6 + 96u^4\\sqrt{\\hat{r}_2} - u^2\\hat{r}_2^2 + 133u^2\\hat{r}_2 - 2\\hat{r}_2^{3/2}}{\\hat{r}_2^4\\sqrt{u^2\\hat{r}_2 + 2\\sqrt{\\hat{r}_2} - u^2}} \\, d\\hat{r}_2,\n",
    "$$"
   ]
  },
  {
   "cell_type": "markdown",
   "metadata": {},
   "source": [
    "<span style=\"color:brown\">**NB:**</span> Однако, будучи аналитически взятым будет полностью <span style=\"color:green\">**совпадать!**</span>\n",
    "\n",
    "Смотри подробности в файле binary_catch_integral.ipynb\n",
    " \n",
    "Там компактный интеграл назван $I_5$, а второй $I_4$.\n",
    "\n",
    "Выпишем ответ:"
   ]
  },
  {
   "cell_type": "code",
   "execution_count": 498,
   "metadata": {
    "vscode": {
     "languageId": "wolfram"
    }
   },
   "outputs": [
    {
     "data": {
      "text/html": [
       "<div><img alt=\"Output\" src=\"data:image/png;base64,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\"></div>"
      ],
      "text/plain": [
       "FormBox[RowBox[{\"-\", FractionBox[RowBox[{SubscriptBox[\"ϵ\", \"G\"], \" \", \n",
       "\n",
       " \n",
       ">           RowBox[{\"(\", RowBox[{RowBox[{RowBox[{\"(\", \n",
       "\n",
       " \n",
       ">                   RowBox[{RowBox[{\"673\", \" \", SuperscriptBox[\"u\", \"4\"]}], \"+\", \n",
       "\n",
       " \n",
       ">                     \"1275\"}], \")\"}], \" \", SuperscriptBox[\"u\", \"2\"]}], \"+\", \n",
       "\n",
       " \n",
       ">               RowBox[{\"3\", \" \", RowBox[{\"(\", \n",
       "\n",
       " \n",
       ">                   RowBox[{RowBox[{\"37\", \" \", SuperscriptBox[\"u\", \"8\"]}], \"+\", \n",
       "\n",
       " \n",
       ">                     RowBox[{\"366\", \" \", SuperscriptBox[\"u\", \"4\"]}], \"+\", \"425\"}],\\\n",
       " \n",
       ">    \")\"}\\\n",
       "], \" \", RowBox[{\"(\", RowBox[{RowBox[{SuperscriptBox[\"tan\", RowBox[{\"-\",\\\n",
       " \n",
       ">    \"1\"}]], \n",
       "                    \"(\", FractionBox[\"1\", SuperscriptBox[\"u\", \"2\"]],\\\n",
       " \n",
       ">    \")\"}], \"+\", \n",
       "                  FractionBox[\"π\", \"2\"]}], \")\"}]}]}], \")\"}]}], \n",
       "\n",
       " \n",
       ">         RowBox[{\"9\", \" \", SuperscriptBox[\"u\", \"7\"]}]]}], TraditionalForm]\n"
      ]
     },
     "execution_count": 498,
     "metadata": {
      "text/html": [],
      "text/plain": []
     },
     "output_type": "execute_result"
    }
   ],
   "source": [
    "DeltaE = -Subscript[\\[Epsilon], G]/9*(u^2*(1275 + 673*u^4) + 3*(425 + 366*u^4 + 37*u^8)*(Pi/2 + ArcTan[u^(-2)]))/u^7;\n",
    "DeltaE // TraditionalForm"
   ]
  },
  {
   "cell_type": "code",
   "execution_count": 499,
   "metadata": {
    "vscode": {
     "languageId": "wolfram"
    }
   },
   "outputs": [
    {
     "data": {
      "text/html": [
       "<div>&#36;&#36;&#45;&#92;&#102;&#114;&#97;&#99;&#123;&#92;&#101;&#112;&#115;&#105;&#108;&#111;&#110;&#32;&#95;&#71;&#32;&#92;&#108;&#101;&#102;&#116;&#40;&#92;&#108;&#101;&#102;&#116;&#40;&#54;&#55;&#51;&#32;&#117;&#94;&#52;&#43;&#49;&#50;&#55;&#53;&#92;&#114;&#105;&#103;&#104;&#116;&#41;&#32;&#117;&#94;&#50;&#43;&#51;&#32;&#92;&#108;&#101;&#102;&#116;&#40;&#51;&#55;&#32;&#117;&#94;&#56;&#43;&#51;&#54;&#54;&#32;&#117;&#94;&#52;&#43;&#52;&#50;&#53;&#92;&#114;&#105;&#103;&#104;&#116;&#41;&#32;&#92;&#108;&#101;&#102;&#116;&#40;&#92;&#116;&#97;&#110;&#32;&#94;&#123;&#45;&#49;&#125;&#92;&#108;&#101;&#102;&#116;&#40;&#92;&#102;&#114;&#97;&#99;&#123;&#49;&#125;&#123;&#117;&#94;&#50;&#125;&#92;&#114;&#105;&#103;&#104;&#116;&#41;&#43;&#92;&#102;&#114;&#97;&#99;&#123;&#92;&#112;&#105;&#32;&#125;&#123;&#50;&#125;&#92;&#114;&#105;&#103;&#104;&#116;&#41;&#92;&#114;&#105;&#103;&#104;&#116;&#41;&#125;&#123;&#57;&#32;&#117;&#94;&#55;&#125;&#36;&#36;</div>"
      ],
      "text/plain": [
       "-\\frac{\\epsilon _G \\left(\\left(673 u^4+1275\\right) u^2+3 \\left(37 u^8+366 u^4+425\\right)\\\n",
       " \n",
       ">   \\left(\\tan ^{-1}\\left(\\frac{1}{u^2}\\right)+\\frac{\\pi }{2}\\right)\\right)}{9 u^7}"
      ]
     },
     "execution_count": 499,
     "metadata": {
      "text/html": [],
      "text/plain": []
     },
     "output_type": "execute_result"
    }
   ],
   "source": [
    "TeXForm[DeltaE]"
   ]
  },
  {
   "cell_type": "markdown",
   "metadata": {},
   "source": [
    "## Условия захвата\n",
    "\n",
    "На бесконечнос энергия объекта была $u^2/2$\n",
    "\n",
    "Если $2|\\Delta \\hat{E}| > u^2$, то гиперболическая орбита (или параболическая, если $u = 0$) превратится в эллиптическую за один полный оборот,\n",
    "\n",
    "далее тело уже не сможет \"уходить\" на бесконечность.\n",
    "\n",
    "Из-за ограничения локализации точнее условие захвата поставить **нельзя**"
   ]
  },
  {
   "cell_type": "code",
   "execution_count": 502,
   "metadata": {
    "vscode": {
     "languageId": "wolfram"
    }
   },
   "outputs": [
    {
     "data": {
      "text/html": [
       "<div><img alt=\"Output\" src=\"data:image/png;base64,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\"></div>"
      ],
      "text/plain": [
       "FormBox[RowBox[{SuperscriptBox[\"u\", \"9\"], \"<\", \n",
       "\n",
       " \n",
       ">        RowBox[{FractionBox[\"2\", \"9\"], \" \", SubscriptBox[\"ϵ\", \"G\"], \" \", \n",
       "\n",
       " \n",
       ">          RowBox[{\"(\", RowBox[{RowBox[{RowBox[{\"(\", \n",
       "\n",
       " \n",
       ">                  RowBox[{RowBox[{\"673\", \" \", SuperscriptBox[\"u\", \"4\"]}], \"+\", \n",
       "\n",
       " \n",
       ">                    \"1275\"}], \")\"}], \" \", SuperscriptBox[\"u\", \"2\"]}], \"+\", \n",
       "\n",
       " \n",
       ">              RowBox[{FractionBox[\"3\", \"2\"], \" \", \n",
       "\n",
       " \n",
       ">                RowBox[{\"(\", RowBox[{RowBox[{\"37\", \" \", SuperscriptBox[\"u\", \"8\"]}], \n",
       "\n",
       " \n",
       ">                    \"+\", RowBox[{\"366\", \" \", SuperscriptBox[\"u\", \"4\"]}], \"+\", \"425\"}], \n",
       "\n",
       " \n",
       ">                  \")\"}], \" \", RowBox[{\"(\", \n",
       "               RowBox[{RowBox[{\"2\", \" \", \n",
       "\n",
       " \n",
       ">                      RowBox[{SuperscriptBox[\"tan\", RowBox[{\"-\", \"1\"}]], \"(\", \n",
       "\n",
       " \n",
       ">                        FractionBox[\"1\", SuperscriptBox[\"u\", \"2\"]], \")\"}]}], \"+\",\\\n",
       " \n",
       ">    \"π\"}], \n",
       "               \")\"}]}]}], \")\"}]}]}], TraditionalForm]\n"
      ]
     },
     "execution_count": 502,
     "metadata": {
      "text/html": [],
      "text/plain": []
     },
     "output_type": "execute_result"
    }
   ],
   "source": [
    "DeltaE2 = Simplify[DeltaE + u^2/2];\n",
    "uMax2 = Simplify[2 u^7 DeltaE2];\n",
    "Simplify[uMax2 < 0] // TraditionalForm"
   ]
  },
  {
   "cell_type": "markdown",
   "metadata": {},
   "source": [
    "<span style=\"color:brown\">**NB:**</span> Условие захвата, <span style=\"color:green\">**совпадает**</span> с условием из файла binary_catch.pdf"
   ]
  },
  {
   "cell_type": "markdown",
   "metadata": {},
   "source": [
    "<span style=\"color:red\">**TODO_5:**</span> Сравнить условия захвата на параболической траектории $u = 0$ с другими авторами"
   ]
  },
  {
   "cell_type": "code",
   "execution_count": 503,
   "metadata": {
    "vscode": {
     "languageId": "wolfram"
    }
   },
   "outputs": [
    {
     "data": {
      "text/html": [
       "<div><img alt=\"Output\" src=\"data:image/png;base64,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\"></div>"
      ],
      "text/plain": [
       "FormBox[InterpretationBox[RowBox[{FractionBox[RowBox[{\"850\", \" \", \"π\", \" \", \n",
       "\n",
       " \n",
       ">            SubscriptBox[\"ϵ\", \"G\"]}], \"3\"], \"+\", \n",
       "\n",
       " \n",
       ">         InterpretationBox[RowBox[{\"O\", \"(\", SuperscriptBox[\"u\", \"1\"], \")\"}], \n",
       "\n",
       " \n",
       ">          SeriesData[u, 0, List[], 0, 1, 1], Rule[Editable, False]]}], \n",
       "\n",
       " \n",
       ">       SeriesData[u, 0, List[Times[Rational[850, 3], Pi, Subscript[\\[Epsilon], G]]], 0,\\\n",
       " \n",
       ">    \n",
       "     1, 1], Rule[Editable, False]], TraditionalForm]\n"
      ]
     },
     "execution_count": 503,
     "metadata": {
      "text/html": [],
      "text/plain": []
     },
     "output_type": "execute_result"
    }
   ],
   "source": [
    "Simplify[Series[(u^9 - uMax2), {u, 0, 0}], {u ∈ Reals, u > 0}] // TraditionalForm"
   ]
  },
  {
   "cell_type": "markdown",
   "metadata": {},
   "source": [
    "# Потеря момента за один период обращения\n",
    "\n",
    "$$\n",
    "\\Delta \\hat{J} = 2 \\epsilon_G \\int\\limits_{\\hat{t}_{\\text{min}}}^{\\infty}I_J(\\hat{t}) d \\hat{t}\n",
    "= - 2 \\epsilon_G \\int\\limits_{\\hat{r}_2^{\\text{min}}}^{\\infty}\\frac{I_J(\\hat{r}_2)}{\\hat{r}_2^{(1)}}d \\hat{r}_2,\n",
    "$$\n",
    "\n",
    "где мы заменим $\\hat{\\omega}$ на $\\frac{u}{\\hat{r}_2}$"
   ]
  },
  {
   "cell_type": "code",
   "execution_count": 506,
   "metadata": {
    "vscode": {
     "languageId": "wolfram"
    }
   },
   "outputs": [
    {
     "data": {
      "text/html": [
       "<div><img alt=\"Output\" src=\"data:image/png;base64,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\"></div>"
      ],
      "text/plain": [
       "FormBox[RowBox[{FractionBox[RowBox[{\"16\", \" \", SuperscriptBox[\"u\", \"5\"]}], \n",
       "\n",
       " \n",
       ">         RowBox[{SubsuperscriptBox[OverscriptBox[\"r\", \"^\"], \"2\", \"3\"], \" \", \n",
       "\n",
       " \n",
       ">           SuperscriptBox[SubscriptBox[OverscriptBox[\"r\", \"^\"], \"2\"], \"′\"]}]], \"-\", \n",
       "\n",
       " \n",
       ">        FractionBox[RowBox[{\"20\", \" \", SuperscriptBox[\"u\", \"3\"], \" \", \n",
       "\n",
       " \n",
       ">           SuperscriptBox[SubscriptBox[OverscriptBox[\"r\", \"^\"], \"2\"], \"′\"]}], \n",
       "\n",
       " \n",
       ">         SubsuperscriptBox[OverscriptBox[\"r\", \"^\"], \"2\", \"3\"]], \"-\", \n",
       "\n",
       " \n",
       ">        FractionBox[RowBox[{\"4\", \" \", \"u\", \" \", \n",
       "        SuperscriptBox[RowBox[{\"(\", \n",
       "\n",
       " \n",
       ">              SuperscriptBox[SubscriptBox[OverscriptBox[\"r\", \"^\"], \"2\"], \"′′\"], \")\"}], \n",
       "\n",
       " \n",
       ">            \"2\"]}], RowBox[{SubscriptBox[OverscriptBox[\"r\", \"^\"], \"2\"], \" \", \n",
       "\n",
       " \n",
       ">           SuperscriptBox[SubscriptBox[OverscriptBox[\"r\", \"^\"], \"2\"], \"′\"]}]], \"+\", \n",
       "\n",
       " \n",
       ">        FractionBox[RowBox[{\"14\", \" \", \"u\", \" \", \n",
       "\n",
       " \n",
       ">           SuperscriptBox[SubscriptBox[OverscriptBox[\"r\", \"^\"], \"2\"], \"′\"], \" \", \n",
       "\n",
       " \n",
       ">           SuperscriptBox[SubscriptBox[OverscriptBox[\"r\", \"^\"], \"2\"], \"′′\"]}], \n",
       "\n",
       " \n",
       ">         SubsuperscriptBox[OverscriptBox[\"r\", \"^\"], \"2\", \"2\"]], \"+\", \n",
       "\n",
       " \n",
       ">        FractionBox[RowBox[{\"4\", \" \", \"u\", \" \", \n",
       "\n",
       " \n",
       ">           SuperscriptBox[SubscriptBox[OverscriptBox[\"r\", \"^\"], \"2\"], \"′′′′\"]}], \n",
       "\n",
       " \n",
       ">         SuperscriptBox[SubscriptBox[OverscriptBox[\"r\", \"^\"], \"2\"], \"′\"]], \"-\", \n",
       "\n",
       " \n",
       ">        FractionBox[RowBox[{\"6\", \" \", \"u\", \" \", \n",
       "        SuperscriptBox[RowBox[{\"(\", \n",
       "\n",
       " \n",
       ">              SuperscriptBox[SubscriptBox[OverscriptBox[\"r\", \"^\"], \"2\"], \"′\"], \")\"}], \n",
       "\n",
       " \n",
       ">            \"3\"]}], SubsuperscriptBox[OverscriptBox[\"r\", \"^\"], \"2\", \"3\"]], \"-\", \n",
       "\n",
       " \n",
       ">        FractionBox[RowBox[{\"7\", \" \", \"u\", \" \", \n",
       "\n",
       " \n",
       ">           SuperscriptBox[SubscriptBox[OverscriptBox[\"r\", \"^\"], \"2\"], \"′′′\"]}], \n",
       "\n",
       " \n",
       ">         SubscriptBox[OverscriptBox[\"r\", \"^\"], \"2\"]]}], TraditionalForm]\n"
      ]
     },
     "execution_count": 506,
     "metadata": {
      "text/html": [],
      "text/plain": []
     },
     "output_type": "execute_result"
    }
   ],
   "source": [
    "(* Минус учтём сразу *)\n",
    "dJdr = Simplify[-dJdt/D[Subscript[OverHat[r], 2][OverHat[t]], OverHat[t]] //. OmegaReplace2];\n",
    "Expand[Simplify[dJdr]] // TraditionalForm"
   ]
  },
  {
   "cell_type": "markdown",
   "metadata": {},
   "source": [
    "<span style=\"color:brown\">**NB:**</span> Выражение для $dJ/dr$ <span style=\"color:green\">**сопадает**</span> с выраженем для интегранта из binary_catch3.pdf, если учесть деление на $\\hat{r}_2^{(1)}$"
   ]
  },
  {
   "cell_type": "markdown",
   "metadata": {
    "vscode": {
     "languageId": "wolfram"
    }
   },
   "source": [
    "Заменяя вхождение **всех** производных в выражении для $dJ/dr$, получим"
   ]
  },
  {
   "cell_type": "code",
   "execution_count": 508,
   "metadata": {
    "vscode": {
     "languageId": "wolfram"
    }
   },
   "outputs": [
    {
     "data": {
      "text/html": [
       "<div><img alt=\"Output\" src=\"data:image/png;base64,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\"></div>"
      ],
      "text/plain": [
       "FormBox[FractionBox[RowBox[{\"2\", \" \", \"u\", \" \", \n",
       "\n",
       " \n",
       ">         RowBox[{\"(\", RowBox[{RowBox[{\"9\", \" \", \n",
       "\n",
       " \n",
       ">               SubscriptBox[OverscriptBox[\"r\", \"^\"], \"2\"], \" \", \n",
       "\n",
       " \n",
       ">               SuperscriptBox[\"u\", \"2\"]}], \"+\", \n",
       "\n",
       " \n",
       ">             RowBox[{\"20\", \" \", SqrtBox[SubscriptBox[OverscriptBox[\"r\", \"^\"], \"2\"]]}], \n",
       "\n",
       " \n",
       ">             \"-\", RowBox[{\"15\", \" \", SuperscriptBox[\"u\", \"2\"]}]}], \")\"}]}], \n",
       "\n",
       " \n",
       ">       RowBox[{SubsuperscriptBox[OverscriptBox[\"r\", \"^\"], \"2\", RowBox[{\"5\", \"/\",\\\n",
       " \n",
       ">    \"2\"}]], \n",
       "      \" \", SqrtBox[RowBox[{RowBox[{SubscriptBox[OverscriptBox[\"r\", \"^\"],\\\n",
       " \n",
       ">    \"2\"], \" \", \n",
       "           SuperscriptBox[\"u\", \"2\"]}], \"+\", \n",
       "\n",
       " \n",
       ">            RowBox[{\"2\", \" \", SqrtBox[SubscriptBox[OverscriptBox[\"r\", \"^\"], \"2\"]]}],\\\n",
       " \n",
       ">    \"-\", \n",
       "         SuperscriptBox[\"u\", \"2\"]}]]}]], TraditionalForm]\n"
      ]
     },
     "execution_count": 508,
     "metadata": {
      "text/html": [],
      "text/plain": []
     },
     "output_type": "execute_result"
    }
   ],
   "source": [
    "dJdrFinal = Fold[ (* Последовательно применяем замены *)\n",
    "  Simplify[#1 /.\n",
    "    D[Subscript[OverHat[r], 2][OverHat[t]], {OverHat[t], #2}] -> dr2[[#2]]] &,\n",
    "  dJdr,\n",
    "  Range[5]\n",
    "];\n",
    "\n",
    "Simplify[dJdrFinal, {u ∈ Reals, u > 0}] // TraditionalForm"
   ]
  },
  {
   "cell_type": "markdown",
   "metadata": {},
   "source": [
    "$$\n",
    "  \\Delta \\hat{J}(u) = 4 \\epsilon_G \\int\\limits_{\\hat{r}_2^\\text{min}}^\\infty \\frac{u \\left(20\\sqrt{\\hat{r}_2} - 15u^2 + 9\\hat{r}_2 u^2\\right)}{\\hat{r}_2^{\\frac{5}{2}} \\sqrt{2\\sqrt{\\hat{r}_2} - u^2 + \\hat{r}_2 u^2}} \\, d\\hat{r}_2,\n",
    "$$\n",
    "где при $\\hat{r}_2 \\ge \\hat{r}_2^{\\text{min}}$ выражение $\\hat{r}_2u^2 + 2\\sqrt{\\hat{r}_2} - u^2 \\ge 0$.\n",
    "\n",
    "Полученный выше интеграл **компактнее**, чем тот, что рассмотрен в файле binary_catch3.pdf\n",
    "\n",
    "Смотри подробности в файле binary_catch_integral.ipynb\n",
    " \n",
    "Выпишем ответ:"
   ]
  },
  {
   "cell_type": "code",
   "execution_count": 510,
   "metadata": {
    "vscode": {
     "languageId": "wolfram"
    }
   },
   "outputs": [
    {
     "data": {
      "text/html": [
       "<div><img alt=\"Output\" src=\"data:image/png;base64,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\"></div>"
      ],
      "text/plain": [
       "FormBox[RowBox[{\"4\", \" \", SubscriptBox[\"ϵ\", \"G\"], \" \", \n",
       "\n",
       " \n",
       ">        RowBox[{\"(\", RowBox[{RowBox[{\"-\", \n",
       "\n",
       " \n",
       ">              RowBox[{RowBox[{\"2\"}], \" \", SuperscriptBox[\"u\", \"2\"]}]}], \"-\", \n",
       "\n",
       " \n",
       ">            FractionBox[\"15\", SuperscriptBox[\"u\", \"2\"]], \"-\", \n",
       "\n",
       " \n",
       ">            FractionBox[RowBox[{RowBox[{\"(\", \n",
       "\n",
       " \n",
       ">                 RowBox[{RowBox[{\"7\", \" \", SuperscriptBox[\"u\", \"4\"]}], \"+\", \"15\"}], \n",
       "\n",
       " \n",
       ">                 \")\"}], \" \", RowBox[{\"(\", \n",
       "              RowBox[{RowBox[{\"2\", \" \", \n",
       "\n",
       " \n",
       ">                     RowBox[{SuperscriptBox[\"tan\", RowBox[{\"-\", \"1\"}]], \"(\", \n",
       "\n",
       " \n",
       ">                       FractionBox[\"1\", SuperscriptBox[\"u\", \"2\"]], \")\"}]}], \"+\", \"π\"}],\\\n",
       " \n",
       ">    \n",
       "              \")\"}]}], RowBox[{\"2\", \" \", SuperscriptBox[\"u\", \"4\"]}]]}], \")\"}]}], \n",
       "\n",
       " \n",
       ">      TraditionalForm]\n"
      ]
     },
     "execution_count": 510,
     "metadata": {
      "text/html": [],
      "text/plain": []
     },
     "output_type": "execute_result"
    }
   ],
   "source": [
    "DeltaJ = 4*Subscript[\\[Epsilon], G]*(-15/u^2 - 2*u^2 - ((15 + 7*u^4)*(Pi + 2*ArcTan[u^(-2)]))/(2*u^4));\n",
    "DeltaJ // TraditionalForm"
   ]
  },
  {
   "cell_type": "code",
   "execution_count": 511,
   "metadata": {
    "vscode": {
     "languageId": "wolfram"
    }
   },
   "outputs": [
    {
     "data": {
      "text/html": [
       "<div>&#36;&#36;&#52;&#32;&#92;&#101;&#112;&#115;&#105;&#108;&#111;&#110;&#32;&#95;&#71;&#32;&#92;&#108;&#101;&#102;&#116;&#40;&#45;&#50;&#32;&#117;&#94;&#50;&#45;&#92;&#102;&#114;&#97;&#99;&#123;&#49;&#53;&#125;&#123;&#117;&#94;&#50;&#125;&#45;&#92;&#102;&#114;&#97;&#99;&#123;&#92;&#108;&#101;&#102;&#116;&#40;&#55;&#32;&#117;&#94;&#52;&#43;&#49;&#53;&#92;&#114;&#105;&#103;&#104;&#116;&#41;&#32;&#92;&#108;&#101;&#102;&#116;&#40;&#50;&#32;&#92;&#116;&#97;&#110;&#32;&#94;&#123;&#45;&#49;&#125;&#92;&#108;&#101;&#102;&#116;&#40;&#92;&#102;&#114;&#97;&#99;&#123;&#49;&#125;&#123;&#117;&#94;&#50;&#125;&#92;&#114;&#105;&#103;&#104;&#116;&#41;&#43;&#92;&#112;&#105;&#32;&#92;&#114;&#105;&#103;&#104;&#116;&#41;&#125;&#123;&#50;&#32;&#117;&#94;&#52;&#125;&#92;&#114;&#105;&#103;&#104;&#116;&#41;&#36;&#36;</div>"
      ],
      "text/plain": [
       "4 \\epsilon _G \\left(-2 u^2-\\frac{15}{u^2}-\\frac{\\left(7 u^4+15\\right) \\left(2 \\tan\\\n",
       " \n",
       ">   ^{-1}\\left(\\frac{1}{u^2}\\right)+\\pi \\right)}{2 u^4}\\right)"
      ]
     },
     "execution_count": 511,
     "metadata": {
      "text/html": [],
      "text/plain": []
     },
     "output_type": "execute_result"
    }
   ],
   "source": [
    "TeXForm[DeltaJ]"
   ]
  },
  {
   "cell_type": "markdown",
   "metadata": {},
   "source": [
    "## Время слияния\n",
    "\n",
    "$a = b/\\sqrt{1-e^2}$,\n",
    "\n",
    "$J = \\mu\\sqrt{GMa(1-e^2)} = \\mu\\sqrt{GMb}\\sqrt{\\frac{b}{a}}$\n",
    "\n",
    "$$\n",
    "  \\hat{J}_1 = u - 4 \\epsilon_G \\left(2 u^2+\\frac{15}{u^2}+\\frac{\\left(7 u^4+15\\right) \\left(2 \\tan ^{-1}\\left(\\frac{1}{u^2}\\right)+\\pi \\right)}{2 u^4}\\right) \\approx \\sqrt{\\frac{b}{a}} = \\hat{a}^{-1/2}\n",
    "$$\n",
    "\n",
    "Отсюда характерная длина большой полуоси эллиптической орбиты в случае выполнения условия захвата после одного полного оборота будет\n",
    "$$\n",
    "a \\approx b\\hat{J}_1^{-2}\n",
    "$$\n",
    "\n",
    "А время, за которое расстояние между объектов уменьшится до нуля будет\n",
    "$$\n",
    "\\tau \\approx \\frac{5}{8}\\frac{c^5}{G^3}\\frac{b^4}{\\mu M^2} \\frac{1}{\\hat{J}_1^8}\n",
    "$$"
   ]
  },
  {
   "cell_type": "markdown",
   "metadata": {},
   "source": [
    "В пределе малых $u$ для $J_1$ получаем"
   ]
  },
  {
   "cell_type": "code",
   "execution_count": 513,
   "metadata": {
    "vscode": {
     "languageId": "wolfram"
    }
   },
   "outputs": [
    {
     "data": {
      "text/html": [
       "<div><img alt=\"Output\" src=\"data:image/png;base64,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\"></div>"
      ],
      "text/plain": [
       "FormBox[FractionBox[RowBox[{\"60\", \" \", \"π\", \" \", SubscriptBox[\"ϵ\", \"G\"]}], \n",
       "\n",
       " \n",
       ">       SuperscriptBox[\"u\", \"4\"]], TraditionalForm]\n"
      ]
     },
     "execution_count": 513,
     "metadata": {
      "text/html": [],
      "text/plain": []
     },
     "output_type": "execute_result"
    }
   ],
   "source": [
    "J1Smallu = Normal[Simplify[Series[u - DeltaJ, {u, 0, -1}], {u ∈ Reals, u > 0}]];\n",
    "J1Smallu // TraditionalForm"
   ]
  },
  {
   "cell_type": "markdown",
   "metadata": {},
   "source": [
    "А для $\\tau$ галлюцинногенное"
   ]
  },
  {
   "cell_type": "code",
   "execution_count": null,
   "metadata": {
    "vscode": {
     "languageId": "wolfram"
    }
   },
   "outputs": [
    {
     "data": {
      "text/html": [
       "<div><img alt=\"Output\" src=\"data:image/png;base64,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\"></div>"
      ],
      "text/plain": [
       "          -19  5  13  14  32\n",
       "3.92167 10    c  G   M   v\n",
       "----------------------------\n",
       "          12     8\n",
       "         b   μ ϵ\n",
       "                G"
      ]
     },
     "execution_count": 521,
     "metadata": {
      "text/html": [],
      "text/plain": []
     },
     "output_type": "execute_result"
    }
   ],
   "source": [
    "eG = 2/5*\\[Mu]/M*(G M / (b c^2))^(5/2);\n",
    "u = v*b/Sqrt[b^3/(G*M)];\n",
    "N[5/8*c^5/G^3*b^4/\\[Mu]/M^2*(J1Smallu)^(-8)]"
   ]
  }
 ],
 "metadata": {
  "kernelspec": {
   "display_name": "Wolfram Language 14.1",
   "language": "Wolfram Language",
   "name": "wolframlanguage14.1"
  },
  "language_info": {
   "codemirror_mode": "mathematica",
   "file_extension": ".m",
   "mimetype": "application/vnd.wolfram.m",
   "name": "Wolfram Language",
   "pygments_lexer": "mathematica",
   "version": "12.0"
  }
 },
 "nbformat": 4,
 "nbformat_minor": 2
}
