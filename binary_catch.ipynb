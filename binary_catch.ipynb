{
 "cells": [
  {
   "cell_type": "markdown",
   "metadata": {},
   "source": [
    "# Binary catch\n",
    "\n",
    "**При каких условиях два тела, налетающие друг на друга с бесконечности (в системе центра масс) станут связной системой из-за испускания гравволн?**"
   ]
  },
  {
   "cell_type": "code",
   "execution_count": 461,
   "metadata": {
    "vscode": {
     "languageId": "wolfram"
    }
   },
   "outputs": [
    {
     "name": "stdout",
     "output_type": "stream",
     "text": [
      "  (CleanSlate) Contexts purged: {Global`}\n",
      "  (CleanSlate) Approximate kernel memory recovered: 306 Kb\n"
     ]
    }
   ],
   "source": [
    "(* https://mathematica.stackexchange.com/questions/850/how-do-i-clear-all-user-defined-symbols/861#861 *)\n",
    "<< Utilities`CleanSlate`\n",
    "CleanSlate[];\n",
    "\n",
    "ClearAll[\"Global`*\"]\n",
    "(* ClearSystemCache[] *)\n",
    "(* https://mathematica.stackexchange.com/questions/111605/quit-vs-clearallglobal *)\n",
    "if[Length[Names[\"Global`*\"]] > 0, Remove[\"Global`*\"]];\n",
    "\n",
    "(* PacletInstall[\n",
    "    \"TensorSimplify\",\n",
    "\n",
    "    \"Site\" -> \"http://raw.githubusercontent.com/carlwoll/TensorSimplify/master\"\n",
    "]; *)\n",
    "<<TensorSimplify`"
   ]
  },
  {
   "cell_type": "markdown",
   "metadata": {},
   "source": [
    "## Einstein Summation"
   ]
  },
  {
   "cell_type": "code",
   "execution_count": 470,
   "metadata": {
    "vscode": {
     "languageId": "wolfram"
    }
   },
   "outputs": [],
   "source": [
    "ClearAll@EinsteinSummation\n",
    "\n",
    "EinsteinSummation[in_List, arrays_] := Module[\n",
    "  {res =\n",
    "    isum[in -> Cases[Tally @ Flatten @ in, {_, 1}][[All, 1]], arrays]},\n",
    "  res /; res =!= $Failed\n",
    "  ]\n",
    "\n",
    "EinsteinSummation[in_List -> out_, arrays_] := Module[\n",
    "  {res = isum[in -> out, arrays]},\n",
    "  res /; res =!= $Failed\n",
    "  ]\n",
    "\n",
    "isum[in_List -> out_, arrays_List] := Catch@Module[\n",
    "  {indices, contracted, uncontracted, contractions, transpose},\n",
    "  If[Length[in] != Length[arrays],\n",
    "    Message[EinsteinSummation::length, Length[in], Length[arrays]];\n",
    "    Throw[$Failed]];\n",
    "  MapThread[\n",
    "    If[IntegerQ@TensorRank[#1] && Length[#1] != TensorRank[#2],\n",
    "      Message[EinsteinSummation::shape, #1, #2];\n",
    "      Throw[$Failed]] &, {in, arrays}];\n",
    "  indices = Tally[Flatten[in, 1]];\n",
    "  If[DeleteCases[indices, {_, 1 | 2}] =!= {},\n",
    "    Message[EinsteinSummation::repeat,\n",
    "      Cases[indices, {x_, Except[1 | 2]} :> x]];\n",
    "    Throw[$Failed]];\n",
    "  uncontracted = Cases[indices, {x_, 1} :> x];\n",
    "  If[Sort[uncontracted] =!= Sort[out],\n",
    "    Message[EinsteinSummation::output, uncontracted, out];\n",
    "    Throw[$Failed]];\n",
    "  contracted = Cases[indices, {x_, 2} :> x];\n",
    "  contractions = Flatten[Position[Flatten[in, 1], #]] & /@ contracted;\n",
    "  transpose = FindPermutation[uncontracted, out];\n",
    "  Activate@\n",
    "    TensorTranspose[\n",
    "      TensorContract[Inactive[TensorProduct] @@ arrays, contractions],\n",
    "    transpose]]\n",
    "\n",
    "EinsteinSummation::length =\n",
    "  \"Number of index specifications (`1`) does not match the number of \\\n",
    "tensors (`2`)\";\n",
    "EinsteinSummation::shape =\n",
    "  \"Index specification `1` does not match the tensor rank of `2`\";\n",
    "EinsteinSummation::repeat =\n",
    "  \"Index specifications `1` are repeated more than twice\";\n",
    "EinsteinSummation::output =\n",
    "  \"The uncontracted indices don't match the desired output\";"
   ]
  },
  {
   "cell_type": "code",
   "execution_count": 478,
   "metadata": {
    "vscode": {
     "languageId": "wolfram"
    }
   },
   "outputs": [],
   "source": [
    "(* Правила для скрытия аргументов в TraditionalForm *)\n",
    "\n",
    "Unprotect[Subscript, OverHat, Derivative];\n",
    "\n",
    "MakeBoxes[OverHat[r_][OverHat[t]], TraditionalForm] :=\n",
    "  MakeBoxes[OverHat[r], TraditionalForm]\n",
    "\n",
    "MakeBoxes[\\[Phi][OverHat[t]], TraditionalForm] :=\n",
    "  MakeBoxes[\\[Phi], TraditionalForm]\n",
    "\n",
    "MakeBoxes[Subscript[OverHat[r], n_][OverHat[t]], TraditionalForm] :=\n",
    "  SubscriptBox[OverscriptBox[\"r\", \"^\"], ToString[n]];\n",
    "\n",
    "MakeBoxes[OverHat[\\[Omega]][OverHat[t]], TraditionalForm] :=\n",
    "  OverscriptBox[\"\\[Omega]\", \"^\"];\n",
    "\n",
    "MakeBoxes[Derivative[n_][f_][OverHat[t]], TraditionalForm] := Module[{primes},\n",
    "  primes = StringJoin[Table[\"\\[Prime]\", n]];\n",
    "  SuperscriptBox[ToBoxes[f], primes]\n",
    "];\n",
    "\n",
    "Protect[Subscript, OverHat, Derivative];"
   ]
  },
  {
   "cell_type": "markdown",
   "metadata": {},
   "source": [
    "$\\hat{r}_k$"
   ]
  },
  {
   "cell_type": "code",
   "execution_count": 487,
   "metadata": {
    "vscode": {
     "languageId": "wolfram"
    }
   },
   "outputs": [
    {
     "data": {
      "text/html": [
       "<div><img alt=\"Output\" src=\"data:image/png;base64,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\"></div>"
      ],
      "text/plain": [
       "FormBox[TagBox[RowBox[{\"(\", \"⁠\", \n",
       "\n",
       " \n",
       ">         TagBox[GridBox[{{RowBox[{OverscriptBox[\"r\", \"^\"], \" \", \n",
       "\n",
       " \n",
       ">               RowBox[{\"cos\", \"(\", \"ϕ\", \")\"}]}]}, \n",
       "\n",
       " \n",
       ">            {RowBox[{OverscriptBox[\"r\", \"^\"], \" \", RowBox[{\"sin\", \"(\", \"ϕ\", \")\"}]}]}}, \n",
       "\n",
       " \n",
       ">           Rule[RowSpacings, 1], Rule[ColumnAlignments, Center], \n",
       "\n",
       " \n",
       ">           Rule[ColumnAlignments, Left]], Column], \"⁠\", \")\"}], \n",
       "\n",
       " \n",
       ">       Function[BoxForm`e$, MatrixForm[BoxForm`e$]]], TraditionalForm]\n"
      ]
     },
     "execution_count": 487,
     "metadata": {
      "text/html": [],
      "text/plain": []
     },
     "output_type": "execute_result"
    }
   ],
   "source": [
    "rh = {OverHat[r][OverHat[t]]*Cos[\\[Phi][OverHat[t]]], OverHat[r][OverHat[t]]*Sin[\\[Phi][OverHat[t]]]};\n",
    "rh // MatrixForm // TraditionalForm"
   ]
  },
  {
   "cell_type": "code",
   "execution_count": 488,
   "metadata": {
    "vscode": {
     "languageId": "wolfram"
    }
   },
   "outputs": [],
   "source": [
    "$Assumptions = {\n",
    "  {OverHat[r][OverHat[t]], Subscript[OverHat[r],2][OverHat[t]], OverHat[t], u} \\[Element] PositiveReals\n",
    "};\n",
    "$Assumptions = Join[$Assumptions, {rh \\[Element] NonNegativeReals}];"
   ]
  },
  {
   "cell_type": "markdown",
   "metadata": {},
   "source": [
    "## Система движения в декартовых координатах\n",
    "$$\n",
    "\\frac{d^2r_k}{dt^2} = -\\frac{G(m_A+m_B)}{r^3}r_k - \\frac{2}{5}f_{ki}^{(5)}r_i\n",
    "$$\n",
    "\n",
    "Ч.Мизнер, К.Торн, Дж.Уилер Гравтация, Т.3, §36.8, стр. 222\n",
    "\n",
    "Введём обозначения для полной и приведённой масс\n",
    "$$\n",
    "M=m_A+m_B; \\quad\n",
    "\\mu = m_{AB} = \\frac{m_A m_B}{M}\n",
    "$$\n",
    "Задача двух самогравитирующих тел с массами $m_A$ и $m_B$\n",
    "в системе отсчёта центра масс всегда сводится\n",
    "к задаче движения тела массы $\\mu$\n",
    "в центральном поле массы $M$.\n",
    "\n",
    "$f_{ki}$ - квадрупольный момент системы.\n",
    "Задача решается методом последовательных приближений\n",
    "Первоначально строится решение в приближении Ньютона,\n",
    "затем для полученной конфигурации находится квадрупольный момент\n",
    "и находится его пятая производная по времени.\n",
    "Уже на следубщем шаге (уравнение выше)\n",
    "находятся решение с **заданной** функций от времени (**и только времени**) $f_{ki}^{(5)}$."
   ]
  },
  {
   "cell_type": "markdown",
   "metadata": {},
   "source": [
    "### Безразмерные единицы\n",
    "$$\n",
    "\\begin{align}\n",
    "r &= b\\hat{r} \\\\\n",
    "t &= t_0\\hat{t} \\\\\n",
    "f_{ij} &= b^2\\frac{G}{c^5}\\mu\\hat{f}_{ij} \\\\\n",
    "f_{ij}^{(5)} &= \\frac{b^2}{t_0^5}\\frac{G}{c^5}\\mu\\hat{f}_{ij}^{(5)}\n",
    "\\end{align}\n",
    "$$"
   ]
  },
  {
   "cell_type": "markdown",
   "metadata": {},
   "source": [
    "$\\hat{f}_{ki}$"
   ]
  },
  {
   "cell_type": "code",
   "execution_count": 491,
   "metadata": {
    "vscode": {
     "languageId": "wolfram"
    }
   },
   "outputs": [
    {
     "data": {
      "text/html": [
       "<div><img alt=\"Output\" src=\"data:image/png;base64,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\"></div>"
      ],
      "text/plain": [
       "FormBox[TagBox[RowBox[{\"(\", \"⁠\", \n",
       "\n",
       " \n",
       ">         GridBox[{{RowBox[{FractionBox[\"1\", \"6\"], \" \", \n",
       "\n",
       " \n",
       ">              SuperscriptBox[OverscriptBox[\"r\", \"^\"], \"2\"], \" \", \n",
       "\n",
       " \n",
       ">              RowBox[{\"(\", RowBox[{RowBox[{\"3\", \" \", \n",
       "\n",
       " \n",
       ">                    RowBox[{\"cos\", \"(\", RowBox[{\"2\", \" \", \"ϕ\"}], \")\"}]}], \"+\",\\\n",
       " \n",
       ">    \"1\"}]\\\n",
       ", \")\"}]}], RowBox[{SuperscriptBox[OverscriptBox[\"r\", \"^\"], \"2\"], \" \", \n",
       "\n",
       " \n",
       ">              RowBox[{\"sin\", \"(\", \"ϕ\", \")\"}], \" \", RowBox[{\"cos\", \"(\", \"ϕ\", \")\"}]}]}, \n",
       "\n",
       " \n",
       ">           {RowBox[{SuperscriptBox[OverscriptBox[\"r\", \"^\"], \"2\"], \" \", \n",
       "\n",
       " \n",
       ">              RowBox[{\"sin\", \"(\", \"ϕ\", \")\"}], \" \", RowBox[{\"cos\", \"(\", \"ϕ\", \")\"}]}], \n",
       "\n",
       " \n",
       ">            RowBox[{FractionBox[\"1\", \"3\"], \" \", \n",
       "\n",
       " \n",
       ">              SuperscriptBox[OverscriptBox[\"r\", \"^\"], \"2\"], \" \", \n",
       "\n",
       " \n",
       ">              RowBox[{\"(\", RowBox[{RowBox[{\"3\", \" \", \n",
       "\n",
       " \n",
       ">                    RowBox[{SuperscriptBox[\"sin\", \"2\"], \"(\", \"ϕ\", \")\"}]}], \"-\", \"1\"}], \n",
       "\n",
       " \n",
       ">                \")\"}]}]}}, Rule[RowSpacings, 1], Rule[ColumnSpacings, 1], \n",
       "\n",
       " \n",
       ">          Rule[RowAlignments, Baseline], Rule[ColumnAlignments, Center]], \"⁠\", \")\"}], \n",
       "\n",
       " \n",
       ">       Function[BoxForm`e$, MatrixForm[BoxForm`e$]]], TraditionalForm]\n"
      ]
     },
     "execution_count": 491,
     "metadata": {
      "text/html": [],
      "text/plain": []
     },
     "output_type": "execute_result"
    }
   ],
   "source": [
    "fh = Simplify[Array[rh[[#]]*rh[[#2]] - 1/3*KroneckerDelta[#, #2]*(OverHat[r][OverHat[t]])^2 &, {2, 2}], Trig -> True];\n",
    "fh // MatrixForm // TraditionalForm"
   ]
  },
  {
   "cell_type": "markdown",
   "metadata": {},
   "source": [
    "<span style=\"color:brown\">**NB:**</span> Здесь и далее мы не записываем компоненты квадрупольного момента для $z$, так как они сворачиваются с нулевыми $r_z$.\n",
    "\n",
    "Однако нужно запомнить, что след полного квадрупольного момента и его пятой производной **нулевой**!"
   ]
  },
  {
   "cell_type": "markdown",
   "metadata": {},
   "source": [
    "$\\hat{f}_{ki}^{(5)}$ - заданная функция (см. выше)"
   ]
  },
  {
   "cell_type": "code",
   "execution_count": 495,
   "metadata": {
    "vscode": {
     "languageId": "wolfram"
    }
   },
   "outputs": [
    {
     "data": {
      "text/html": [
       "<div><img alt=\"Output\" src=\"data:image/png;base64,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\"></div>"
      ],
      "text/plain": [
       "FormBox[TagBox[RowBox[{\"(\", \"⁠\", \n",
       "\n",
       " \n",
       ">         GridBox[{{TemplateBox[List[SubscriptBox[OverscriptBox[\"f\", \"^\"], \n",
       "\n",
       " \n",
       ">               RowBox[List[\"x\", \",\", \"x\"]]], \"\\\"(5)\\\"\"], \"Superscript\", \n",
       "\n",
       " \n",
       ">             Rule[SyntaxForm, SuperscriptBox]], \n",
       "\n",
       " \n",
       ">            TemplateBox[List[SubscriptBox[OverscriptBox[\"f\", \"^\"], \n",
       "\n",
       " \n",
       ">               RowBox[List[\"x\", \",\", \"y\"]]], \"\\\"(5)\\\"\"], \"Superscript\", \n",
       "\n",
       " \n",
       ">             Rule[SyntaxForm, SuperscriptBox]]}, \n",
       "\n",
       " \n",
       ">           {TemplateBox[List[SubscriptBox[OverscriptBox[\"f\", \"^\"], \n",
       "\n",
       " \n",
       ">               RowBox[List[\"x\", \",\", \"y\"]]], \"\\\"(5)\\\"\"], \"Superscript\", \n",
       "\n",
       " \n",
       ">             Rule[SyntaxForm, SuperscriptBox]], \n",
       "\n",
       " \n",
       ">            TemplateBox[List[SubscriptBox[OverscriptBox[\"f\", \"^\"], \n",
       "\n",
       " \n",
       ">               RowBox[List[\"y\", \",\", \"y\"]]], \"\\\"(5)\\\"\"], \"Superscript\", \n",
       "\n",
       " \n",
       ">             Rule[SyntaxForm, SuperscriptBox]]}}, Rule[RowSpacings, 1], \n",
       "\n",
       " \n",
       ">          Rule[ColumnSpacings, 1], Rule[RowAlignments, Baseline], \n",
       "\n",
       " \n",
       ">          Rule[ColumnAlignments, Center]], \"⁠\", \")\"}], \n",
       "\n",
       " \n",
       ">       Function[BoxForm`e$, MatrixForm[BoxForm`e$]]], TraditionalForm]\n"
      ]
     },
     "execution_count": 495,
     "metadata": {
      "text/html": [],
      "text/plain": []
     },
     "output_type": "execute_result"
    }
   ],
   "source": [
    "(* fh5 = Array[Superscript[Subscript[OverHat[f], {x, y}[[#1]], {x, y}[[#2]]], \"(5)\"] &, {2, 2}] *)\n",
    "(* Symmetric version *)\n",
    "fh5 = Array[If[#1 <= #2,\n",
    "                    Superscript[Subscript[OverHat[f], {x, y}[[#1]], {x, y}[[#2]]], \"(5)\"],\n",
    "                    Superscript[Subscript[OverHat[f], {x, y}[[#2]], {x, y}[[#1]]], \"(5)\"]] &, {2, 2}];\n",
    "fh5 // MatrixForm // TraditionalForm"
   ]
  },
  {
   "cell_type": "markdown",
   "metadata": {},
   "source": [
    "$\\hat{f}_{ki}^{(5)}\\hat{r}_i$"
   ]
  },
  {
   "cell_type": "code",
   "execution_count": 497,
   "metadata": {
    "vscode": {
     "languageId": "wolfram"
    }
   },
   "outputs": [
    {
     "data": {
      "text/html": [
       "<div><img alt=\"Output\" src=\"data:image/png;base64,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\"></div>"
      ],
      "text/plain": [
       "FormBox[TagBox[RowBox[{\"(\", \"⁠\", \n",
       "\n",
       " \n",
       ">         TagBox[GridBox[{{RowBox[{RowBox[{OverscriptBox[\"r\", \"^\"], \" \", \n",
       "\n",
       " \n",
       ">                 RowBox[{\"sin\", \"(\", \"ϕ\", \")\"}], \" \", \n",
       "\n",
       " \n",
       ">                 TemplateBox[List[SubscriptBox[OverscriptBox[\"f\", \"^\"], \n",
       "\n",
       " \n",
       ">                    RowBox[List[\"x\", \",\", \"y\"]]], \"\\\"(5)\\\"\"], \"Superscript\", \n",
       "\n",
       " \n",
       ">                  Rule[SyntaxForm, SuperscriptBox]]}], \"+\", \n",
       "\n",
       " \n",
       ">               RowBox[{OverscriptBox[\"r\", \"^\"], \" \", RowBox[{\"cos\", \"(\", \"ϕ\", \")\"}], \n",
       "\n",
       " \n",
       ">                 \" \", TemplateBox[List[SubscriptBox[OverscriptBox[\"f\", \"^\"], \n",
       "\n",
       " \n",
       ">                    RowBox[List[\"x\", \",\", \"x\"]]], \"\\\"(5)\\\"\"], \"Superscript\", \n",
       "\n",
       " \n",
       ">                  Rule[SyntaxForm, SuperscriptBox]]}]}]}, \n",
       "\n",
       " \n",
       ">            {RowBox[{RowBox[{OverscriptBox[\"r\", \"^\"], \" \", \n",
       "\n",
       " \n",
       ">                 RowBox[{\"cos\", \"(\", \"ϕ\", \")\"}], \" \", \n",
       "\n",
       " \n",
       ">                 TemplateBox[List[SubscriptBox[OverscriptBox[\"f\", \"^\"], \n",
       "\n",
       " \n",
       ">                    RowBox[List[\"x\", \",\", \"y\"]]], \"\\\"(5)\\\"\"], \"Superscript\", \n",
       "\n",
       " \n",
       ">                  Rule[SyntaxForm, SuperscriptBox]]}], \"+\", \n",
       "\n",
       " \n",
       ">               RowBox[{OverscriptBox[\"r\", \"^\"], \" \", RowBox[{\"sin\", \"(\", \"ϕ\", \")\"}], \n",
       "\n",
       " \n",
       ">                 \" \", TemplateBox[List[SubscriptBox[OverscriptBox[\"f\", \"^\"], \n",
       "\n",
       " \n",
       ">                    RowBox[List[\"y\", \",\", \"y\"]]], \"\\\"(5)\\\"\"], \"Superscript\", \n",
       "\n",
       " \n",
       ">                  Rule[SyntaxForm, SuperscriptBox]]}]}]}}, Rule[RowSpacings, 1], \n",
       "\n",
       " \n",
       ">           Rule[ColumnAlignments, Center], Rule[ColumnAlignments, Left]], Column], \"⁠\",\\\n",
       " \n",
       ">    \n",
       "      \")\"}], Function[BoxForm`e$, MatrixForm[BoxForm`e$]]], TraditionalForm]\n"
      ]
     },
     "execution_count": 497,
     "metadata": {
      "text/html": [],
      "text/plain": []
     },
     "output_type": "execute_result"
    }
   ],
   "source": [
    "fh5rh = EinsteinSummation[{{k, i}, {i}}, {fh5, rh}];\n",
    "fh5rh // MatrixForm // TraditionalForm"
   ]
  },
  {
   "cell_type": "markdown",
   "metadata": {},
   "source": [
    "Система движения в безразмерной записи будет выглядеть как"
   ]
  },
  {
   "cell_type": "markdown",
   "metadata": {},
   "source": [
    "$$\n",
    "\\frac{d^2\\hat{r}_k}{d\\hat{t}^2} = -\\frac{t_0^2}{b^3}\\frac{GM}{\\hat{r}^3}\\hat{r}_k - \\frac{2}{5}\\frac{b^2}{t_0^3}\\frac{G}{c^5}\\mu\\hat{f}_{ki}^{(5)}\\hat{r}_i\n",
    "$$"
   ]
  },
  {
   "cell_type": "markdown",
   "metadata": {},
   "source": [
    "Пусть $t_0 = \\sqrt{\\frac{b^3}{GM}}$, а $b$ - прицельное расстояние, тогда система движения перепишется как\n",
    "\n",
    "$$\n",
    "\\frac{d^2\\hat{r}_k}{d\\hat{t}^2} + \\frac{\\hat{r}_k}{\\hat{r}^3} = - \\epsilon_G\\hat{f}_{ki}^{(5)}\\hat{r}_i\\quad,\n",
    "$$\n",
    "или\n",
    "$$\n",
    "\\hat{r}_k^{(2)} + \\frac{\\hat{r}_k}{\\hat{r}^3} = - \\epsilon_G\\hat{f}_{ki}^{(5)}\\hat{r}_i\\quad,\n",
    "$$\n",
    "\n",
    "где безразмерная постоянная\n",
    "$\\epsilon_G =\n",
    "  \\frac{2}{5}\\frac{b^2}{t_0^3}\\frac{G}{c^5}\\mu\n",
    "  = \\frac{2}{5}\\frac{\\mu}{M} \\left( \\frac{GM}{bc^2} \\right)^{\\frac{5}{2}}\n",
    "  = \\frac{2}{5}\\frac{\\mu}{M} \\left( \\frac{r_s}{2b} \\right)^{\\frac{5}{2}}$.\n",
    "\n",
    "Здесь $r_s = \\frac{2 G M}{c^2}$ - сумма радиусов Шварцшильда двух тел\n",
    "\n",
    "Заметим, что $f_{ij}^{(5)} = \\frac{5}{2}\\frac{\\epsilon_G}{t_0^2}\\hat{f}_{ij}^{(5)}$"
   ]
  },
  {
   "cell_type": "markdown",
   "metadata": {},
   "source": [
    "## Переход к полярным координатам от декартовых\n",
    "Повернём систему с помощью матрицы вращения $R_{ij}(\\phi)$ на угол $\\phi$ по **часовой** стрелке"
   ]
  },
  {
   "cell_type": "code",
   "execution_count": 498,
   "metadata": {
    "vscode": {
     "languageId": "wolfram"
    }
   },
   "outputs": [
    {
     "data": {
      "text/html": [
       "<div><img alt=\"Output\" src=\"data:image/png;base64,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\"></div>"
      ],
      "text/plain": [
       "FormBox[TagBox[RowBox[{\"(\", \"⁠\", \n",
       "\n",
       " \n",
       ">         GridBox[{{RowBox[{\"cos\", \"(\", \"ϕ\", \")\"}], RowBox[{\"sin\", \"(\", \"ϕ\", \")\"}]}, \n",
       "\n",
       " \n",
       ">           {RowBox[{\"-\", RowBox[{\"sin\", \"(\", \"ϕ\", \")\"}]}], \n",
       "\n",
       " \n",
       ">            RowBox[{\"cos\", \"(\", \"ϕ\", \")\"}]}}, Rule[RowSpacings, 1], \n",
       "\n",
       " \n",
       ">          Rule[ColumnSpacings, 1], Rule[RowAlignments, Baseline], \n",
       "\n",
       " \n",
       ">          Rule[ColumnAlignments, Center]], \"⁠\", \")\"}], \n",
       "\n",
       " \n",
       ">       Function[BoxForm`e$, MatrixForm[BoxForm`e$]]], TraditionalForm]\n"
      ]
     },
     "execution_count": 498,
     "metadata": {
      "text/html": [],
      "text/plain": []
     },
     "output_type": "execute_result"
    }
   ],
   "source": [
    "RotationMatrix[-\\[Phi]] // MatrixForm // TraditionalForm"
   ]
  },
  {
   "cell_type": "markdown",
   "metadata": {},
   "source": [
    "#### LHS системы после поворота"
   ]
  },
  {
   "cell_type": "code",
   "execution_count": 500,
   "metadata": {
    "vscode": {
     "languageId": "wolfram"
    }
   },
   "outputs": [
    {
     "data": {
      "text/html": [
       "<div><img alt=\"Output\" src=\"data:image/png;base64,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\"></div>"
      ],
      "text/plain": [
       "FormBox[TagBox[RowBox[{\"(\", \"⁠\", \n",
       "      TagBox[GridBox[{{RowBox[{RowBox[{\"-\", \n",
       "\n",
       " \n",
       ">                 RowBox[{\"2\", \" \", SuperscriptBox[OverscriptBox[\"r\", \"^\"], \"′\"], \n",
       "\n",
       " \n",
       ">                   \" \", SuperscriptBox[\"ϕ\", \"′\"], \" \", \n",
       "\n",
       " \n",
       ">                   RowBox[{\"sin\", \"(\", \"ϕ\", \")\"}]}]}], \"+\", \n",
       "\n",
       " \n",
       ">               RowBox[{OverscriptBox[\"r\", \"^\"], \" \", \n",
       "\n",
       " \n",
       ">                 RowBox[{\"(\", RowBox[{RowBox[{SuperscriptBox[RowBox[\n",
       "\n",
       " \n",
       ">                         {\"(\", SuperscriptBox[\"ϕ\", \"′\"], \")\"}], \"2\"], \" \", \n",
       "\n",
       " \n",
       ">                       RowBox[{\"(\", \n",
       "\n",
       " \n",
       ">                         RowBox[{\"-\", RowBox[{\"cos\", \"(\", \"ϕ\", \")\"}]}], \")\"}]}], \n",
       "\n",
       " \n",
       ">                     \"-\", RowBox[{SuperscriptBox[\"ϕ\", \"′′\"], \" \", \n",
       "\n",
       " \n",
       ">                       RowBox[{\"sin\", \"(\", \"ϕ\", \")\"}]}]}], \")\"}]}], \"+\", \n",
       "\n",
       " \n",
       ">               RowBox[{SuperscriptBox[OverscriptBox[\"r\", \"^\"], \"′′\"], \" \", \n",
       "\n",
       " \n",
       ">                 RowBox[{\"cos\", \"(\", \"ϕ\", \")\"}]}], \"+\", \n",
       "\n",
       " \n",
       ">               FractionBox[RowBox[{\"cos\", \"(\", \"ϕ\", \")\"}], \n",
       "\n",
       " \n",
       ">                SuperscriptBox[OverscriptBox[\"r\", \"^\"], \"2\"]]}]}, \n",
       "\n",
       " \n",
       ">            {RowBox[{RowBox[{\"2\", \" \", SuperscriptBox[OverscriptBox[\"r\", \"^\"], \"′\"], \n",
       "\n",
       " \n",
       ">                 \" \", SuperscriptBox[\"ϕ\", \"′\"], \" \", RowBox[{\"cos\", \"(\", \"ϕ\",\\\n",
       " \n",
       ">    \")\"}]}]\\\n",
       ", \"+\", RowBox[{OverscriptBox[\"r\", \"^\"], \" \", \n",
       "\n",
       " \n",
       ">                 RowBox[{\"(\", RowBox[{RowBox[{SuperscriptBox[\"ϕ\", \"′′\"], \" \", \n",
       "\n",
       " \n",
       ">                       RowBox[{\"cos\", \"(\", \"ϕ\", \")\"}]}], \"-\", \n",
       "\n",
       " \n",
       ">                     RowBox[{SuperscriptBox[RowBox[{\"(\", \n",
       "\n",
       " \n",
       ">                          SuperscriptBox[\"ϕ\", \"′\"], \")\"}], \"2\"], \" \", \n",
       "\n",
       " \n",
       ">                       RowBox[{\"sin\", \"(\", \"ϕ\", \")\"}]}]}], \")\"}]}], \"+\", \n",
       "\n",
       " \n",
       ">               RowBox[{SuperscriptBox[OverscriptBox[\"r\", \"^\"], \"′′\"], \" \", \n",
       "\n",
       " \n",
       ">                 RowBox[{\"sin\", \"(\", \"ϕ\", \")\"}]}], \"+\", \n",
       "\n",
       " \n",
       ">               FractionBox[RowBox[{\"sin\", \"(\", \"ϕ\", \")\"}], \n",
       "\n",
       " \n",
       ">                SuperscriptBox[OverscriptBox[\"r\", \"^\"], \"2\"]]}]}}, \n",
       "\n",
       " \n",
       ">           Rule[RowSpacings, 1], Rule[ColumnAlignments, Center], \n",
       "\n",
       " \n",
       ">           Rule[ColumnAlignments, Left]], Column], \"⁠\", \")\"}], \n",
       "\n",
       " \n",
       ">       Function[BoxForm`e$, MatrixForm[BoxForm`e$]]], TraditionalForm]\n"
      ]
     },
     "execution_count": 500,
     "metadata": {
      "text/html": [],
      "text/plain": []
     },
     "output_type": "execute_result"
    }
   ],
   "source": [
    "LHSMotion = D[rh, {OverHat[t], 2}] + Simplify[rh / Norm[rh]^3];\n",
    "LHSMotion // MatrixForm // TraditionalForm"
   ]
  },
  {
   "cell_type": "code",
   "execution_count": 501,
   "metadata": {
    "vscode": {
     "languageId": "wolfram"
    }
   },
   "outputs": [
    {
     "data": {
      "text/html": [
       "<div><img alt=\"Output\" src=\"data:image/png;base64,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\"></div>"
      ],
      "text/plain": [
       "FormBox[TagBox[RowBox[{\"(\", \"⁠\", \n",
       "      TagBox[GridBox[{{RowBox[{RowBox[{\"-\", \n",
       "\n",
       " \n",
       ">                 RowBox[{RowBox[{OverscriptBox[\"r\", \"^\"]}], \" \", \n",
       "\n",
       " \n",
       ">                   SuperscriptBox[RowBox[{\"(\", SuperscriptBox[\"ϕ\", \"′\"], \")\"}], \n",
       "\n",
       " \n",
       ">                    \"2\"]}]}], \"+\", SuperscriptBox[OverscriptBox[\"r\", \"^\"], \"′′\"], \n",
       "\n",
       " \n",
       ">               \"+\", FractionBox[\"1\", SuperscriptBox[OverscriptBox[\"r\", \"^\"],\\\n",
       " \n",
       ">    \"2\"]]}]}\\\n",
       ", {RowBox[{RowBox[{OverscriptBox[\"r\", \"^\"], \" \", SuperscriptBox[\"ϕ\",\\\n",
       " \n",
       ">    \"′′\"]}], \"+\", \n",
       "            RowBox[{\"2\", \" \", SuperscriptBox[OverscriptBox[\"r\",\\\n",
       " \n",
       ">    \"^\"], \"′\"], \" \", \n",
       "              SuperscriptBox[\"ϕ\", \"′\"]}]}]}}, Rule[RowSpacings,\\\n",
       " \n",
       ">    1], \n",
       "        Rule[ColumnAlignments, Center], Rule[ColumnAlignments, Left]],\\\n",
       " \n",
       ">    Column], \"⁠\", \n",
       "      \")\"}], Function[BoxForm`e$, MatrixForm[BoxForm`e$]]],\\\n",
       " \n",
       ">    TraditionalForm]\n"
      ]
     },
     "execution_count": 501,
     "metadata": {
      "text/html": [],
      "text/plain": []
     },
     "output_type": "execute_result"
    }
   ],
   "source": [
    "RotatedLHSMotion = Simplify[RotationMatrix[-\\[Phi][OverHat[t]]] . LHSMotion, Trig -> True] // MatrixForm // TraditionalForm"
   ]
  },
  {
   "cell_type": "markdown",
   "metadata": {},
   "source": [
    "Так как $\\hat{\\omega} \\equiv \\phi^{(1)}$, то"
   ]
  },
  {
   "cell_type": "code",
   "execution_count": 503,
   "metadata": {
    "vscode": {
     "languageId": "wolfram"
    }
   },
   "outputs": [
    {
     "data": {
      "text/html": [
       "<div><img alt=\"Output\" src=\"data:image/png;base64,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\"></div>"
      ],
      "text/plain": [
       "FormBox[TagBox[RowBox[{\"(\", \"⁠\", \n",
       "\n",
       " \n",
       ">         TagBox[GridBox[{{RowBox[{RowBox[{RowBox[{\"-\", OverscriptBox[\"r\", \"^\"]}], \n",
       "\n",
       " \n",
       ">                 \" \", SuperscriptBox[OverscriptBox[\"ω\", \"^\"], \"2\"]}], \"+\", \n",
       "\n",
       " \n",
       ">               SuperscriptBox[OverscriptBox[\"r\", \"^\"], \"′′\"], \"+\", \n",
       "\n",
       " \n",
       ">               FractionBox[\"1\", SuperscriptBox[OverscriptBox[\"r\", \"^\"], \"2\"]]}]}, \n",
       "\n",
       " \n",
       ">            {RowBox[{RowBox[{\"2\", \" \", OverscriptBox[\"ω\", \"^\"], \" \", \n",
       "\n",
       " \n",
       ">                 SuperscriptBox[OverscriptBox[\"r\", \"^\"], \"′\"]}], \"+\", \n",
       "\n",
       " \n",
       ">               RowBox[{OverscriptBox[\"r\", \"^\"], \" \", \n",
       "\n",
       " \n",
       ">                 SuperscriptBox[OverscriptBox[\"ω\", \"^\"], \"′\"]}]}]}}, \n",
       "\n",
       " \n",
       ">           Rule[RowSpacings, 1], Rule[ColumnAlignments, Center], \n",
       "\n",
       " \n",
       ">           Rule[ColumnAlignments, Left]], Column], \"⁠\", \")\"}], \n",
       "\n",
       " \n",
       ">       Function[BoxForm`e$, MatrixForm[BoxForm`e$]]], TraditionalForm]\n"
      ]
     },
     "execution_count": 503,
     "metadata": {
      "text/html": [],
      "text/plain": []
     },
     "output_type": "execute_result"
    }
   ],
   "source": [
    "OmegaReplace = Derivative[n_][\\[Phi]][OverHat[t]] :> Derivative[n-1][OverHat[\\[Omega]]][OverHat[t]];\n",
    "\n",
    "OmegaLHSMotion = RotatedLHSMotion /. OmegaReplace // TraditionalForm"
   ]
  },
  {
   "cell_type": "markdown",
   "metadata": {},
   "source": [
    "### RHS системы после поворота"
   ]
  },
  {
   "cell_type": "code",
   "execution_count": 505,
   "metadata": {
    "vscode": {
     "languageId": "wolfram"
    }
   },
   "outputs": [
    {
     "data": {
      "text/html": [
       "<div><img alt=\"Output\" src=\"data:image/png;base64,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\"></div>"
      ],
      "text/plain": [
       "FormBox[TagBox[RowBox[{\"(\", \"⁠\", \n",
       "\n",
       " \n",
       ">         TagBox[GridBox[{{RowBox[{OverscriptBox[\"r\", \"^\"], \" \", \n",
       "\n",
       " \n",
       ">               RowBox[{\"(\", RowBox[{\"-\", SubscriptBox[\"ϵ\", \"G\"]}], \")\"}], \" \", \n",
       "\n",
       " \n",
       ">               RowBox[{\"(\", RowBox[{RowBox[{RowBox[{\"sin\", \"(\", \n",
       "\n",
       " \n",
       ">                       RowBox[{\"2\", \" \", \"ϕ\"}], \")\"}], \" \", \n",
       "\n",
       " \n",
       ">                     TemplateBox[List[SubscriptBox[OverscriptBox[\"f\", \"^\"], \n",
       "\n",
       " \n",
       ">                        RowBox[List[\"x\", \",\", \"y\"]]], \"\\\"(5)\\\"\"], \"Superscript\", \n",
       "\n",
       " \n",
       ">                      Rule[SyntaxForm, SuperscriptBox]]}], \"+\", \n",
       "\n",
       " \n",
       ">                   RowBox[{RowBox[{SuperscriptBox[\"cos\", \"2\"], \"(\", \"ϕ\", \")\"}], \n",
       "\n",
       " \n",
       ">                     \" \", TemplateBox[List[SubscriptBox[OverscriptBox[\"f\", \"^\"], \n",
       "\n",
       " \n",
       ">                        RowBox[List[\"x\", \",\", \"x\"]]], \"\\\"(5)\\\"\"], \"Superscript\", \n",
       "\n",
       " \n",
       ">                      Rule[SyntaxForm, SuperscriptBox]]}], \"+\", \n",
       "\n",
       " \n",
       ">                   RowBox[{RowBox[{SuperscriptBox[\"sin\", \"2\"], \"(\", \"ϕ\", \")\"}], \n",
       "\n",
       " \n",
       ">                     \" \", TemplateBox[List[SubscriptBox[OverscriptBox[\"f\", \"^\"], \n",
       "\n",
       " \n",
       ">                        RowBox[List[\"y\", \",\", \"y\"]]], \"\\\"(5)\\\"\"], \"Superscript\", \n",
       "\n",
       " \n",
       ">                      Rule[SyntaxForm, SuperscriptBox]]}]}], \")\"}]}]}, \n",
       "\n",
       " \n",
       ">            {RowBox[{RowBox[{\"-\", FractionBox[\"1\", \"2\"]}], \" \", \n",
       "\n",
       " \n",
       ">               OverscriptBox[\"r\", \"^\"], \" \", SubscriptBox[\"ϵ\", \"G\"], \" \", \n",
       "\n",
       " \n",
       ">               RowBox[{\"(\", RowBox[{RowBox[{RowBox[{\"sin\", \"(\", \n",
       "\n",
       " \n",
       ">                       RowBox[{\"2\", \" \", \"ϕ\"}], \")\"}], \" \", \n",
       "\n",
       " \n",
       ">                     RowBox[{\"(\", RowBox[{TemplateBox[List[SubscriptBox[\n",
       "\n",
       " \n",
       ">                            OverscriptBox[\"f\", \"^\"], \n",
       "\n",
       " \n",
       ">                            RowBox[List[\"y\", \",\", \"y\"]]], \"\\\"(5)\\\"\"], \n",
       "\n",
       " \n",
       ">                          \"Superscript\", Rule[SyntaxForm, SuperscriptBox]], \"-\", \n",
       "\n",
       " \n",
       ">                         TemplateBox[List[SubscriptBox[OverscriptBox[\"f\", \"^\"], \n",
       "\n",
       " \n",
       ">                            RowBox[List[\"x\", \",\", \"x\"]]], \"\\\"(5)\\\"\"], \n",
       "\n",
       " \n",
       ">                          \"Superscript\", Rule[SyntaxForm, SuperscriptBox]]}], \")\"}]}\\\n",
       "\n",
       " \n",
       ">   ], \"+\", RowBox[{\"2\", \" \", RowBox[{\"cos\", \"(\", RowBox[{\"2\", \" \", \"ϕ\"}], \")\"}], \n",
       "\n",
       " \n",
       ">                     \" \", TemplateBox[List[SubscriptBox[OverscriptBox[\"f\", \"^\"], \n",
       "\n",
       " \n",
       ">                        RowBox[List[\"x\", \",\", \"y\"]]], \"\\\"(5)\\\"\"], \"Superscript\", \n",
       "\n",
       " \n",
       ">                      Rule[SyntaxForm, SuperscriptBox]]}]}], \")\"}]}]}}, \n",
       "\n",
       " \n",
       ">           Rule[RowSpacings, 1], Rule[ColumnAlignments, Center], \n",
       "\n",
       " \n",
       ">           Rule[ColumnAlignments, Left]], Column], \"⁠\", \")\"}], \n",
       "\n",
       " \n",
       ">       Function[BoxForm`e$, MatrixForm[BoxForm`e$]]], TraditionalForm]\n"
      ]
     },
     "execution_count": 505,
     "metadata": {
      "text/html": [],
      "text/plain": []
     },
     "output_type": "execute_result"
    }
   ],
   "source": [
    "RHSMotion = -Subscript[\\[Epsilon], G] FullSimplify[RotationMatrix[-\\[Phi][OverHat[t]]] . fh5rh, Trig -> True];\n",
    "RHSMotion // MatrixForm // TraditionalForm"
   ]
  },
  {
   "cell_type": "markdown",
   "metadata": {},
   "source": [
    "<span style=\"color:brown\">**NB:**</span> Полученные выражения <span style=\"color:green\">**совпадают**</span> с уравнениями (10) и (9) из файла Binary.pdf"
   ]
  },
  {
   "cell_type": "markdown",
   "metadata": {
    "vscode": {
     "languageId": "wolfram"
    }
   },
   "source": [
    "## Получим теперь **энергетическую** систему уравнений\n",
    "\n",
    "В задача двух тел без учёта гравитационного излучения в системе центра масс в полярных координатах радиус-вектор $\\hat{r}_k$ задаётся как:\n",
    "$$\n",
    "\\hat{r}_k = \\hat{r} e_{1k} \\quad,\n",
    "$$\n",
    "где:\n",
    "- $\\hat{r}$ — расстояние между телами,\n",
    "- $e_{1k}$ — единичный вектор в направлении $\\hat{r}_k$.\n",
    "\n",
    "Скорость в полярных координатах выражается как:\n",
    "$$\n",
    "\\hat{r}_k^{(1)} = \\hat{r}^{(1)} e_{1k} + \\hat{r} \\phi^{(1)} e_{2k} \\quad,\n",
    "$$\n",
    "где:\n",
    "- $\\hat{r}^{(1)}$ — радиальная скорость\n",
    "- $\\hat{\\omega} \\equiv \\phi^{(1)}$ — угловая скорость\n",
    "- $e_{2k}$ — единичный вектор, перпендикулярный $e_{1k}$.\n",
    "\n",
    "### **Кинетическая энергия**\n",
    "Кинетическая энергия $T$ в полярных координатах выражается через радиальную и тангенциальную составляющие скорости:\n",
    "$$\n",
    "T = \\mu\\frac{b^2}{2 t_0^2} (\\hat{r}_k^{(1)})^2 = \\mu\\frac{b^2}{2 t_0^2} \\left( (\\hat{r}^{(1)})^2 + \\hat{r}^2 \\hat{\\omega}^2 \\right) = \\frac{G \\mu M}{b} \\frac{1}{2}\\left( (\\hat{r}^{(1)})^2 + \\hat{r}^2 \\hat{\\omega}^2 \\right)\n",
    "$$\n",
    "\n",
    "### **Потенциальная энергия**\n",
    "Потенциальная энергия $U$ зависит только от расстояния $\\hat{r}$:\n",
    "- Для гравитационного взаимодействия:\n",
    "  $$\n",
    "  U = -\\frac{G m_A m_B}{b \\hat{r}} = -\\frac{G \\mu M}{b \\hat{r}}.\n",
    "  $$\n",
    "\n",
    "### **Полная энергия**\n",
    "Полная энергия $E$ в полярных координатах:\n",
    "$$\n",
    "E = T + U = \\frac{G \\mu M}{b}\\left(\\frac{(\\hat{r}^{(1)})^2}{2} + \\frac{\\hat{r}^2 \\hat{\\omega}^2}{2} - \\frac{1}{\\hat{r}}\\right) = \\frac{G \\mu M}{b} \\hat{E}\n",
    "$$\n",
    "\n",
    "Здесь $\\hat{E}$ - безразмерная энергия:"
   ]
  },
  {
   "cell_type": "code",
   "execution_count": 507,
   "metadata": {
    "vscode": {
     "languageId": "wolfram"
    }
   },
   "outputs": [
    {
     "data": {
      "text/html": [
       "<div><img alt=\"Output\" src=\"data:image/png;base64,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\"></div>"
      ],
      "text/plain": [
       "FormBox[RowBox[{RowBox[{FractionBox[\"1\", \"2\"], \" \", \n",
       "\n",
       " \n",
       ">          SuperscriptBox[OverscriptBox[\"r\", \"^\"], \"2\"], \" \", \n",
       "\n",
       " \n",
       ">          SuperscriptBox[OverscriptBox[\"ω\", \"^\"], \"2\"]}], \"+\", \n",
       "\n",
       " \n",
       ">        RowBox[{FractionBox[\"1\", \"2\"], \" \", \n",
       "\n",
       " \n",
       ">          SuperscriptBox[RowBox[{\"(\", SuperscriptBox[OverscriptBox[\"r\", \"^\"], \"′\"], \n",
       "\n",
       " \n",
       ">             \")\"}], \"2\"]}], \"-\", FractionBox[\"1\", OverscriptBox[\"r\", \"^\"]]}], \n",
       "\n",
       " \n",
       ">      TraditionalForm]\n"
      ]
     },
     "execution_count": 507,
     "metadata": {
      "text/html": [],
      "text/plain": []
     },
     "output_type": "execute_result"
    }
   ],
   "source": [
    "Energy = (D[OverHat[r][OverHat[t]], OverHat[t]])^2/2 + (OverHat[r][OverHat[t]] OverHat[\\[Omega]][OverHat[t]])^2/2 - 1/OverHat[r][OverHat[t]];\n",
    "Energy // TraditionalForm"
   ]
  },
  {
   "cell_type": "markdown",
   "metadata": {},
   "source": [
    "### **Момента импульса**\n",
    "Момент импульса $J$ в системе центра масс:\n",
    "$$\n",
    "J = \\mu\\frac{b^2}{t_0} \\hat{r}^2 \\hat{\\omega} = \\mu(G M b)^{1/2} \\hat{r}^2 \\hat{\\omega} = \\mu(G M b)^{1/2} \\hat{J}\n",
    "$$\n",
    "\n",
    "Здесь $\\hat{J}$ - безразмерный момент импульса:"
   ]
  },
  {
   "cell_type": "code",
   "execution_count": 509,
   "metadata": {
    "vscode": {
     "languageId": "wolfram"
    }
   },
   "outputs": [
    {
     "data": {
      "text/html": [
       "<div><img alt=\"Output\" src=\"data:image/png;base64,iVBORw0KGgoAAAANSUhEUgAAAB4AAAAVCAIAAADelck2AAAA0HpUWHRSYXcgcHJvZmlsZSB0eXBlIGV4aWYAAHjabU9bjgMhDPvnFHuEPMCB4zAtlXqDHn9NQbuiqkcTO85jJmm8no/0M2EqKZeoaIAQueVmnaLKwmKV9o4rGbump5+0bL/TKv8F7AG9Tj+w2OrHIrElfH6B2vMe2Ivclq995dfut17rucjlAOTv17/m2cNQoJEZs0kEGnVNlCQUkxJ44AawUXE3yTfyQATHELPD+xycsBFn90hwGvd5gs+3eCc7ozqvYqzUmc90il27+j4k/QJQoVqzeUAkAgAAAAlwSFlzAAAOxAAADsQBlSsOGwAAADx0RVh0U29mdHdhcmUAQ3JlYXRlZCB3aXRoIHRoZSBXb2xmcmFtIExhbmd1YWdlIDogd3d3LndvbGZyYW0uY29tXKKmhQAAACF0RVh0Q3JlYXRpb24gVGltZQAyMDI1OjAzOjEzIDE4OjQ0OjE1ZONFPgAAAhZJREFUOI3tlD/s6VAUx+/vpSaNIAhdrYZKGExEExK6iNisZoNBrAYxS0wGiaUEo8UgbSJ0q8mfhKQWEikDOgjt/Q1tvB9PpZL3tvedTs89+Zxv7j09XxBC8EqyLBcKhdPpdLlcZFmu1WoIgrys1BTUUL/fx3FciV0uV7PZ1KrU0i+tlgRB0DSt9JZlWRCEzyz/dF0qlUwmE8dxT80Hg4Hdbt9sNp+6VtEMwyQSieFwGA6Hj8fj/Xg6nUYikfV6/Z7y0paKbrfbkiRBCLfbLU3TSpLjuEwmI4rie66WrYdnlCRJlmUlFgQhHo/fbjfls9fraaFf2vqNLhaLBEE4HA5BENLptM1my+VyKIo6nU6n02mxWPL5/Hvvf+oLQggAkCQpmUyez2e/348gyGw2oyjKYDB8PBUvJ8Tr9Xq93sViod9XtVpttVo/M5VKZTQaPVyIKIoIgqRSKf3cdrtNkuRTkmXZaDT6gGYYBgDQ7XZ1cvf7vdVqvRv0eDzX6xVCOBwOURRVkurfOB6PEQSJRCI6r7HRaBiNxkAgAADgeR7HcWXDzOfz+6pR0SzL+nw+FEV1oieTidvtvtsiCEKJ6/V6PB5/RodCIZ1cAACGYYfDAQBwvV47nY7ZbAYAUBS1Wq3K5bJaBCHkeR7DsMFgoP8Nd7tdMBiMxWLZbHY+n8disUQiQZLkcrm816hz/S+kuVT/o/+6vgEU/V8JParcngAAAABJRU5ErkJggg==\"></div>"
      ],
      "text/plain": [
       "FormBox[RowBox[{SuperscriptBox[OverscriptBox[\"r\", \"^\"], \"2\"], \" \", \n",
       "\n",
       " \n",
       ">        OverscriptBox[\"ω\", \"^\"]}], TraditionalForm]\n"
      ]
     },
     "execution_count": 509,
     "metadata": {
      "text/html": [],
      "text/plain": []
     },
     "output_type": "execute_result"
    }
   ],
   "source": [
    "AngularMomentum = (OverHat[r][OverHat[t]])^2 OverHat[\\[Omega]][OverHat[t]];\n",
    "AngularMomentum // TraditionalForm"
   ]
  },
  {
   "cell_type": "markdown",
   "metadata": {},
   "source": [
    "Отсюда $\\frac{1}{\\hat{r}^{(1)}}\\left(\\frac{d\\hat{E}}{d\\hat{t}} - \\hat{\\omega} \\frac{d\\hat{J}}{d\\hat{t}}\\right)$"
   ]
  },
  {
   "cell_type": "code",
   "execution_count": 510,
   "metadata": {
    "vscode": {
     "languageId": "wolfram"
    }
   },
   "outputs": [
    {
     "data": {
      "text/html": [
       "<div><img alt=\"Output\" src=\"data:image/png;base64,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\"></div>"
      ],
      "text/plain": [
       "FormBox[RowBox[{RowBox[{\"-\", RowBox[{RowBox[{OverscriptBox[\"r\", \"^\"]}], \" \", \n",
       "\n",
       " \n",
       ">            SuperscriptBox[OverscriptBox[\"ω\", \"^\"], \"2\"]}]}], \"+\", \n",
       "\n",
       " \n",
       ">        SuperscriptBox[OverscriptBox[\"r\", \"^\"], \"′′\"], \"+\", \n",
       "\n",
       " \n",
       ">        FractionBox[\"1\", SuperscriptBox[OverscriptBox[\"r\", \"^\"], \"2\"]]}],\\\n",
       " \n",
       ">    TraditionalForm]\n"
      ]
     },
     "execution_count": 510,
     "metadata": {
      "text/html": [],
      "text/plain": []
     },
     "output_type": "execute_result"
    }
   ],
   "source": [
    "Simplify[(D[Energy, OverHat[t]] - (AngularMomentum/OverHat[r][OverHat[t]]^2)(D[AngularMomentum, OverHat[t]]))/(D[OverHat[r][OverHat[t]], OverHat[t]])] // TraditionalForm"
   ]
  },
  {
   "cell_type": "markdown",
   "metadata": {},
   "source": [
    "Что совпадает с **первой** строкой повернутой LHS системы движения"
   ]
  },
  {
   "cell_type": "markdown",
   "metadata": {},
   "source": [
    "Отсюда $\\frac{1}{\\hat{r}}\\frac{d\\hat{J}}{d\\hat{t}}$"
   ]
  },
  {
   "cell_type": "code",
   "execution_count": 511,
   "metadata": {
    "vscode": {
     "languageId": "wolfram"
    }
   },
   "outputs": [
    {
     "data": {
      "text/html": [
       "<div><img alt=\"Output\" src=\"data:image/png;base64,iVBORw0KGgoAAAANSUhEUgAAAFMAAAAVCAIAAAC10UUmAAAA0XpUWHRSYXcgcHJvZmlsZSB0eXBlIGV4aWYAAHjabU/bkQMhDPuniisB/JChHDYhM9fBlX9iIclsJmLWEvJjcRp/v4/0MyElJ/OoaEAmrFmTTlHzwuKS2xlPuO5cufqp+PY7LX8nMLZ/XP3AYqkfg7IsofMP1Gq7YQ9SWX7p637seum1Xgc9n7qB/Hr617tpCBwljNEkR6BR10RJgkv2wAM3gIUFd8l2Iw9EsA0xK7TPxgkZca0eCUrjPlfQ+bl2sjIW5VaMldp4puNy7Oy5SPoHDOdahQhFSmoAAAAJcEhZcwAADsQAAA7EAZUrDhsAAAA8dEVYdFNvZnR3YXJlAENyZWF0ZWQgd2l0aCB0aGUgV29sZnJhbSBMYW5ndWFnZSA6IHd3dy53b2xmcmFtLmNvbVyipoUAAAAhdEVYdENyZWF0aW9uIFRpbWUAMjAyNTowMzoxMyAxODo0NDoxNWTjRT4AAANNSURBVFiF7ZdNSCpRGIY/h9MiDG0RERJtahfBCApFi36mX3MjEQjN3jYhRARRqxb9QFAEbtxEbiSUgmjRtNCkP4lAaVEGRUNSQplUJAbNeO5iLl5zbJypLi3sXZ1z+OY9z3vm8I2qMMZQlCJ+GuDH9Jv8P2hmZkar1YbD4cxKKpWKx+Pfbitf7wAwxk9PT6Ojo729vYODgwaDwel0YklNT09rNJpQKCRREwgELBbL3t5ee3v78/OzsDgyMjI8PCxtLq28tvIhswEAY9zW1lZdXZ1MJjHGLpcLANbX17+4t8fj4XkeYxyLxXZ2djDGPM/X1dVdXV3JzynHVj5kDgCkUim1Wr2wsCDMr6+vAYCm6S/uLeyUTqczU7/fPz8/LzOhfFv5kDkAgDFmWTbj9fj4CACdnZ1fgZuamqIoqrKyMh6P0zRdUVFxc3Ozu7vLcdy328p/PAdAhd9/z30+H0VRY2Njc3Nzn25CPM/39/e/vLwYjUaE0NnZmdvtLikpkX7K6XQ2NzfX19d/r+2Hyj6VdDrd0dFRU1Nzf38vPjOHw7G6upq9srS0dHBwkPeA9Xq9Xq8/Pz+X/05sNpvf75euKWgrH/Jd8vHxcaPRGIvFxHUej8dsNucsBoPB7u5ucXEymUQIDQwMSGQQq2DygraKIFHm5U9OTp6engYCgdLS0px7kUgkbDbb5uamMG1oaAiFQgghjuP29/fF9+j4+JjjOKvVKufGMQwjjKPR6NHR0evrKwBUVVWRJKnIVink3+QTExPRaNTr9SKExEUul0utVjc1NQEAy7IkSQplkUgkb/3h4SFCqKurS07yra2t7OS3t7cAQJKkOLm0rVJIBAArKysnJycbGxsqlSoDodFotFqtMA2Hw7W1tZntKYoSxsvLy319fWLTYDBoMBjKysoKJicIYnFxURgPDQ1ZrdbW1taPiqVtlUISDw8Pdru9p6dne3ubYRiGYdbW1miaJoh/P2x1Ol0ikQCAt7c3r9dbXl4OAG63+/LycnZ2Ni+iRIBPS9pWKSQ4HA7xYmNjY3YzuLu7a2lpMZlMdrs9EomYTCaLxWI2my8uLsSdg2VZnU7n8/kkelVeSXe4graKILH4e148+v2XWnz6TV58+gNnveAGRpU99wAAAABJRU5ErkJggg==\"></div>"
      ],
      "text/plain": [
       "FormBox[RowBox[{RowBox[{\"2\", \" \", OverscriptBox[\"ω\", \"^\"], \" \", \n",
       "\n",
       " \n",
       ">          SuperscriptBox[OverscriptBox[\"r\", \"^\"], \"′\"]}], \"+\", \n",
       "\n",
       " \n",
       ">        RowBox[{OverscriptBox[\"r\", \"^\"], \" \", \n",
       "\n",
       " \n",
       ">          SuperscriptBox[OverscriptBox[\"ω\", \"^\"], \"′\"]}]}], TraditionalForm]\n"
      ]
     },
     "execution_count": 511,
     "metadata": {
      "text/html": [],
      "text/plain": []
     },
     "output_type": "execute_result"
    }
   ],
   "source": [
    "Simplify[D[AngularMomentum, OverHat[t]]/OverHat[r][OverHat[t]]] // TraditionalForm"
   ]
  },
  {
   "cell_type": "markdown",
   "metadata": {},
   "source": [
    "Что совпадает со **второй** строкой повернутой LHS системы движения"
   ]
  },
  {
   "cell_type": "markdown",
   "metadata": {},
   "source": [
    "Таким образом, мы можем выписать новую **энергетическую** систему уравнений\n",
    "\n",
    "$$\n",
    "\\begin{align}\n",
    "\\frac{d\\hat{E}}{d\\hat{t}} &= - \\epsilon_G \\left(\\hat{r}^{(1)} R_{xi}(-\\phi) \\hat{f}_{ij}^{(5)}\\hat{r}_j + \\hat{r}\\hat\\omega R_{yi}(-\\phi) \\hat{f}_{ij}^{(5)}\\hat{r}_j \\right)\n",
    "\\\\\n",
    "\\frac{d\\hat{J}}{d\\hat{t}} &= - \\epsilon_G \\hat{r} R_{yi}(-\\phi) \\hat{f}_{ij}^{(5)}\\hat{r}_j\n",
    "\\end{align}\n",
    "$$"
   ]
  },
  {
   "cell_type": "markdown",
   "metadata": {},
   "source": [
    "Или\n",
    "\n",
    "$$\n",
    "\\left(\\frac{d\\hat{E}}{d\\hat{t}}, \\frac{d\\hat{J}}{d\\hat{t}}\\right) = - \\epsilon_G T_{nk} R_{ki}(-\\phi) \\hat{f}_{ij}^{(5)}\\hat{r}_j\\quad,\n",
    "$$"
   ]
  },
  {
   "cell_type": "markdown",
   "metadata": {},
   "source": [
    "Здесь\n",
    "$$\n",
    "T = \n",
    "\\begin{bmatrix}\n",
    "\\hat{r}^{(1)} & \\hat{r}\\hat{\\omega} \\\\\n",
    "0 & \\hat{r}\n",
    "\\end{bmatrix}\n",
    "$$\n",
    "матрица трансформации:"
   ]
  },
  {
   "cell_type": "code",
   "execution_count": 513,
   "metadata": {
    "vscode": {
     "languageId": "wolfram"
    }
   },
   "outputs": [
    {
     "data": {
      "text/html": [
       "<div><img alt=\"Output\" src=\"data:image/png;base64,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\"></div>"
      ],
      "text/plain": [
       "FormBox[TagBox[RowBox[{\"(\", \"⁠\", \n",
       "\n",
       " \n",
       ">         GridBox[{{SuperscriptBox[OverscriptBox[\"r\", \"^\"], \"′\"], \n",
       "\n",
       " \n",
       ">            RowBox[{OverscriptBox[\"r\", \"^\"], \" \", OverscriptBox[\"ω\", \"^\"]}]}, \n",
       "\n",
       " \n",
       ">           {\"0\", OverscriptBox[\"r\", \"^\"]}}, Rule[RowSpacings, 1], \n",
       "\n",
       " \n",
       ">          Rule[ColumnSpacings, 1], Rule[RowAlignments, Baseline], \n",
       "\n",
       " \n",
       ">          Rule[ColumnAlignments, Center]], \"⁠\", \")\"}], \n",
       "\n",
       " \n",
       ">       Function[BoxForm`e$, MatrixForm[BoxForm`e$]]], TraditionalForm]\n"
      ]
     },
     "execution_count": 513,
     "metadata": {
      "text/html": [],
      "text/plain": []
     },
     "output_type": "execute_result"
    }
   ],
   "source": [
    "Transform = {{D[OverHat[r][OverHat[t]], OverHat[t]], OverHat[r][OverHat[t]] OverHat[\\[Omega]][OverHat[t]]}, {0, OverHat[r][OverHat[t]]}};\n",
    "Transform // MatrixForm // TraditionalForm"
   ]
  },
  {
   "cell_type": "markdown",
   "metadata": {},
   "source": [
    "Итак правая часть энергетической системы запишется как"
   ]
  },
  {
   "cell_type": "code",
   "execution_count": 515,
   "metadata": {
    "vscode": {
     "languageId": "wolfram"
    }
   },
   "outputs": [
    {
     "data": {
      "text/html": [
       "<div><img alt=\"Output\" src=\"data:image/png;base64,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\"></div>"
      ],
      "text/plain": [
       "FormBox[TagBox[RowBox[{\"(\", \"⁠\", \n",
       "\n",
       " \n",
       ">         TagBox[GridBox[{{RowBox[{FractionBox[\"1\", \"2\"], \" \", \n",
       "\n",
       " \n",
       ">               OverscriptBox[\"r\", \"^\"], \" \", SubscriptBox[\"ϵ\", \"G\"], \" \", \n",
       "\n",
       " \n",
       ">               RowBox[{\"(\", RowBox[{RowBox[{OverscriptBox[\"r\", \"^\"], \" \", \n",
       "\n",
       " \n",
       ">                     OverscriptBox[\"ω\", \"^\"], \" \", \n",
       "\n",
       " \n",
       ">                     RowBox[{\"(\", RowBox[{RowBox[{RowBox[{\"sin\", \"(\", \n",
       "\n",
       " \n",
       ">                             RowBox[{\"2\", \" \", \"ϕ\"}], \")\"}], \" \", \n",
       "\n",
       " \n",
       ">                           RowBox[{\"(\", \n",
       "\n",
       " \n",
       ">                             RowBox[{TemplateBox[List[SubscriptBox[\n",
       "\n",
       " \n",
       ">                            OverscriptBox[\"f\", \"^\"], \n",
       "\n",
       " \n",
       ">                            RowBox[List[\"x\", \",\", \"x\"]]], \"\\\"(5)\\\"\"], \n",
       "\n",
       " \n",
       ">                             \"Superscript\", Rule[SyntaxForm, SuperscriptBox]], \n",
       "\n",
       " \n",
       ">                             \"-\", \n",
       "\n",
       " \n",
       ">                             TemplateBox[List[SubscriptBox[OverscriptB\\\n",
       "\n",
       " \n",
       ">   ox[\"f\", \"^\"], RowBox[List[\"y\", \",\", \"y\"]]], \"\\\"(5)\\\"\"], \"Superscript\", \n",
       "\n",
       " \n",
       ">                             Rule[SyntaxForm, SuperscriptBox]]}], \")\"}]}], \"-\", \n",
       "\n",
       " \n",
       ">                         RowBox[{\"2\", \" \", \n",
       "\n",
       " \n",
       ">                           RowBox[{\"cos\", \"(\", RowBox[{\"2\", \" \", \"ϕ\"}], \")\"}], \n",
       "\n",
       " \n",
       ">                           \" \", TemplateBox[List[SubscriptBox[OverscriptB\\\n",
       "\n",
       " \n",
       ">   ox[\"f\", \"^\"], RowBox[List[\"x\", \",\", \"y\"]]], \"\\\"(5)\\\"\"], \"Superscript\", \n",
       "\n",
       " \n",
       ">                            Rule[SyntaxForm, SuperscriptBox]]}]}], \")\"}]}], \"-\", \n",
       "\n",
       " \n",
       ">                   RowBox[{\"2\", \" \", SuperscriptBox[OverscriptBox[\"r\", \"^\"], \"′\"], \n",
       "\n",
       " \n",
       ">                     \" \", RowBox[{\"(\", \n",
       "\n",
       " \n",
       ">                       RowBox[{RowBox[{RowBox[{\"sin\", \"(\", \n",
       "\n",
       " \n",
       ">                             RowBox[{\"2\", \" \", \"ϕ\"}], \")\"}], \" \", \n",
       "\n",
       " \n",
       ">                           TemplateBox[List[SubscriptBox[OverscriptBox[\"f\", \n",
       "\n",
       " \n",
       ">                             \"^\"], RowBox[List[\"x\", \",\", \"y\"]]], \"\\\"(5)\\\"\"], \n",
       "\n",
       " \n",
       ">                            \"Superscript\", Rule[SyntaxForm, SuperscriptBox]]}], \n",
       "\n",
       " \n",
       ">                         \"+\", RowBox[{RowBox[{SuperscriptBox[\"cos\", \"2\"], \"(\", \n",
       "\n",
       " \n",
       ">                             \"ϕ\", \")\"}], \" \", \n",
       "\n",
       " \n",
       ">                           TemplateBox[List[SubscriptBox[OverscriptBox[\"f\", \n",
       "\n",
       " \n",
       ">                             \"^\"], RowBox[List[\"x\", \",\", \"x\"]]], \"\\\"(5)\\\"\"], \n",
       "\n",
       " \n",
       ">                            \"Superscript\", Rule[SyntaxForm, SuperscriptBox]]}], \n",
       "\n",
       " \n",
       ">                         \"+\", RowBox[{RowBox[{SuperscriptBox[\"sin\", \"2\"], \"(\", \n",
       "\n",
       " \n",
       ">                             \"ϕ\", \")\"}], \" \", \n",
       "\n",
       " \n",
       ">                           TemplateBox[List[SubscriptBox[OverscriptBox[\"f\", \n",
       "\n",
       " \n",
       ">                             \"^\"], RowBox[List[\"y\", \",\", \"y\"]]], \"\\\"(5)\\\"\"], \n",
       "\n",
       " \n",
       ">                            \"Superscript\", Rule[SyntaxForm, SuperscriptBox]]}]}], \n",
       "\n",
       " \n",
       ">                       \")\"}]}]}], \")\"}]}]}, \n",
       "\n",
       " \n",
       ">            {RowBox[{RowBox[{\"-\", FractionBox[\"1\", \"2\"]}], \" \", \n",
       "\n",
       " \n",
       ">               SuperscriptBox[OverscriptBox[\"r\", \"^\"], \"2\"], \" \", \n",
       "\n",
       " \n",
       ">               SubscriptBox[\"ϵ\", \"G\"], \" \", \n",
       "\n",
       " \n",
       ">               RowBox[{\"(\", RowBox[{RowBox[{RowBox[{\"sin\", \"(\", \n",
       "\n",
       " \n",
       ">                       RowBox[{\"2\", \" \", \"ϕ\"}], \")\"}], \" \", \n",
       "\n",
       " \n",
       ">                     RowBox[{\"(\", RowBox[{TemplateBox[List[SubscriptBox[\n",
       "\n",
       " \n",
       ">                            OverscriptBox[\"f\", \"^\"], \n",
       "\n",
       " \n",
       ">                            RowBox[List[\"y\", \",\", \"y\"]]], \"\\\"(5)\\\"\"], \n",
       "\n",
       " \n",
       ">                          \"Superscript\", Rule[SyntaxForm, SuperscriptBox]], \"-\", \n",
       "\n",
       " \n",
       ">                         TemplateBox[List[SubscriptBox[OverscriptBox[\"f\", \"^\"], \n",
       "\n",
       " \n",
       ">                            RowBox[List[\"x\", \",\", \"x\"]]], \"\\\"(5)\\\"\"], \n",
       "\n",
       " \n",
       ">                          \"Superscript\", Rule[SyntaxForm, SuperscriptBox]]}], \")\"}]}\\\n",
       "\n",
       " \n",
       ">   ], \"+\", RowBox[{\"2\", \" \", RowBox[{\"cos\", \"(\", RowBox[{\"2\", \" \", \"ϕ\"}], \")\"}], \n",
       "\n",
       " \n",
       ">                     \" \", TemplateBox[List[SubscriptBox[OverscriptBox[\"f\", \"^\"], \n",
       "\n",
       " \n",
       ">                        RowBox[List[\"x\", \",\", \"y\"]]], \"\\\"(5)\\\"\"], \"Superscript\", \n",
       "\n",
       " \n",
       ">                      Rule[SyntaxForm, SuperscriptBox]]}]}], \")\"}]}]}}, \n",
       "\n",
       " \n",
       ">           Rule[RowSpacings, 1], Rule[ColumnAlignments, Center], \n",
       "\n",
       " \n",
       ">           Rule[ColumnAlignments, Left]], Column], \"⁠\", \")\"}], \n",
       "\n",
       " \n",
       ">       Function[BoxForm`e$, MatrixForm[BoxForm`e$]]], TraditionalForm]\n"
      ]
     },
     "execution_count": 515,
     "metadata": {
      "text/html": [],
      "text/plain": []
     },
     "output_type": "execute_result"
    }
   ],
   "source": [
    "RHSEnegry = FullSimplify[Transform . RHSMotion, Trig -> True];\n",
    "RHSEnegry // MatrixForm // TraditionalForm"
   ]
  },
  {
   "cell_type": "markdown",
   "metadata": {},
   "source": [
    "## **Другой Способ** получения уравнений движения и энергетических уравнений через лагранжев формализм в полярных координатах"
   ]
  },
  {
   "cell_type": "markdown",
   "metadata": {},
   "source": [
    "### **Лагранжиан системы**\n",
    "Лагранжиан $L$ в полярных координатах $(r, \\phi)$ выражается как:\n",
    "$$\n",
    "L = T - (U + \\mu\\Phi),\n",
    "$$\n",
    "где:\n",
    "- $T$ — кинетическая энергия,\n",
    "- $U$ — потенциальная энергия\n",
    "- $\\Phi = \\frac{1}{5}f_{ij}^{(5)}r_i r_j = \\frac{\\epsilon_G}{2}\\frac{b^2}{t_0^2}\\hat{f}_{ij}^{(5)}\\hat{r}_i \\hat{r}_j = \\frac{5}{2}\\epsilon_G\\frac{GM}{b}\\hat{\\Phi}$ - малый потенциал \"реакции излучения\""
   ]
  },
  {
   "cell_type": "markdown",
   "metadata": {},
   "source": [
    "Безразмерный малый потенциал \"реакции излучения\" $\\hat{\\Phi} = \\frac{1}{5}\\hat{f}_{ij}^{(5)}\\hat{r}_i\\hat{r}_j$"
   ]
  },
  {
   "cell_type": "code",
   "execution_count": 517,
   "metadata": {
    "vscode": {
     "languageId": "wolfram"
    }
   },
   "outputs": [
    {
     "data": {
      "text/html": [
       "<div><img alt=\"Output\" src=\"data:image/png;base64,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\"></div>"
      ],
      "text/plain": [
       "FormBox[RowBox[{FractionBox[\"1\", \"5\"], \" \", \n",
       "\n",
       " \n",
       ">        RowBox[{\"(\", RowBox[{RowBox[{OverscriptBox[\"r\", \"^\"], \" \", \n",
       "\n",
       " \n",
       ">              RowBox[{\"cos\", \"(\", \"ϕ\", \")\"}], \" \", \n",
       "\n",
       " \n",
       ">              RowBox[{\"(\", RowBox[{RowBox[{OverscriptBox[\"r\", \"^\"], \" \", \n",
       "\n",
       " \n",
       ">                    RowBox[{\"sin\", \"(\", \"ϕ\", \")\"}], \" \", \n",
       "\n",
       " \n",
       ">                    TemplateBox[List[SubscriptBox[OverscriptBox[\"f\", \"^\"], \n",
       "\n",
       " \n",
       ">                       RowBox[List[\"x\", \",\", \"y\"]]], \"\\\"(5)\\\"\"], \"Superscript\", \n",
       "\n",
       " \n",
       ">                     Rule[SyntaxForm, SuperscriptBox]]}], \"+\", \n",
       "\n",
       " \n",
       ">                  RowBox[{OverscriptBox[\"r\", \"^\"], \" \", \n",
       "\n",
       " \n",
       ">                    RowBox[{\"cos\", \"(\", \"ϕ\", \")\"}], \" \", \n",
       "\n",
       " \n",
       ">                    TemplateBox[List[SubscriptBox[OverscriptBox[\"f\", \"^\"], \n",
       "\n",
       " \n",
       ">                       RowBox[List[\"x\", \",\", \"x\"]]], \"\\\"(5)\\\"\"], \"Superscript\", \n",
       "\n",
       " \n",
       ">                     Rule[SyntaxForm, SuperscriptBox]]}]}], \")\"}]}], \"+\", \n",
       "\n",
       " \n",
       ">            RowBox[{OverscriptBox[\"r\", \"^\"], \" \", RowBox[{\"sin\", \"(\", \"ϕ\", \")\"}], \" \", \n",
       "\n",
       " \n",
       ">              RowBox[{\"(\", RowBox[{RowBox[{OverscriptBox[\"r\", \"^\"], \" \", \n",
       "\n",
       " \n",
       ">                    RowBox[{\"cos\", \"(\", \"ϕ\", \")\"}], \" \", \n",
       "\n",
       " \n",
       ">                    TemplateBox[List[SubscriptBox[OverscriptBox[\"f\", \"^\"], \n",
       "\n",
       " \n",
       ">                       RowBox[List[\"x\", \",\", \"y\"]]], \"\\\"(5)\\\"\"], \"Superscript\", \n",
       "\n",
       " \n",
       ">                     Rule[SyntaxForm, SuperscriptBox]]}], \"+\", \n",
       "\n",
       " \n",
       ">                  RowBox[{OverscriptBox[\"r\", \"^\"], \" \", RowBox[{\"sin\", \"(\", \"ϕ\", \")\"}],\\\n",
       " \n",
       ">    \n",
       "                 \" \", TemplateBox[List[SubscriptBox[OverscriptBox[\"f\", \"^\"], \n",
       "\n",
       " \n",
       ">                       RowBox[List[\"y\", \",\", \"y\"]]], \"\\\"(5)\\\"\"], \"Superscript\", \n",
       "\n",
       " \n",
       ">                     Rule[SyntaxForm, SuperscriptBox]]}]}], \")\"}]}]}], \")\"}]}], \n",
       "\n",
       " \n",
       ">      TraditionalForm]\n"
      ]
     },
     "execution_count": 517,
     "metadata": {
      "text/html": [],
      "text/plain": []
     },
     "output_type": "execute_result"
    }
   ],
   "source": [
    "fh5rhrh = 1/5 EinsteinSummation[{{i, j}, {i}, {j}}, {fh5, rh, rh}];\n",
    "fh5rhrh // TraditionalForm"
   ]
  },
  {
   "cell_type": "markdown",
   "metadata": {},
   "source": [
    "Безразмерный лагранжиан\n",
    "\n",
    "$$\n",
    "\\hat{L} = \\hat{T} - (\\hat{U} + \\frac{5}{2}\\epsilon_G\\hat{\\Phi}),\n",
    "$$\n",
    "или\n",
    "$$\n",
    "\\hat{L} = \\frac{1}{2} \\left((\\hat{r}^{(1)})^2 + \\hat{r}^2 \\hat{\\omega}^2 \\right) + \\frac{1}{\\hat{r}} - \\frac{\\epsilon_G}{2}\\hat{f}_{ij}^{(5)}\\hat{r}_i \\hat{r}_j.\n",
    "$$"
   ]
  },
  {
   "cell_type": "markdown",
   "metadata": {},
   "source": [
    "### **Уравнения Эйлера-Лагранжа**\n",
    "Уравнения Эйлера-Лагранжа имеют вид:\n",
    "$$\n",
    "\\frac{d}{dt} \\left( \\frac{\\partial \\hat{L}}{\\partial \\dot{q}_i} \\right) - \\frac{\\partial \\hat{L}}{\\partial q_i} = 0,\n",
    "$$\n",
    "где $q_i$ — обобщённые координаты ($\\hat{r}$ и $\\phi$)."
   ]
  },
  {
   "cell_type": "markdown",
   "metadata": {},
   "source": [
    "---\n",
    "\n",
    "#### Уравнение для координаты $\\hat{r}$:\n",
    "$$\n",
    "\\frac{d}{d\\hat{t}} \\left(\\frac{\\partial \\hat{L}}{\\partial \\hat{r}^{(1)}} \\right) - \\frac{\\partial \\hat{L}}{\\partial \\hat{r}} = 0.\n",
    "$$\n",
    "Вычислим производные:\n",
    "$$\n",
    "\\frac{\\partial \\hat{L}}{\\partial \\hat{r}^{(1)}} = \\hat{r}^{(1)}, \\quad \\frac{d}{d\\hat{t}} \\left( \\frac{\\partial \\hat{L}}{\\partial \\hat{r}^{(1)}} \\right) = \\hat{r}^{(2)},\n",
    "$$\n",
    "$$\n",
    "\\frac{\\partial \\hat{L}}{\\partial \\hat{r}} = \\hat{r} \\hat{\\omega}^2 - \\frac{1}{\\hat{r}^2} - \\frac{5}{2}\\epsilon_G\\frac{\\partial \\hat{\\Phi}}{\\partial \\hat{r}}.\n",
    "$$\n",
    "Подставляем в уравнение Эйлера-Лагранжа:\n",
    "$$\n",
    "\\hat{r}^{(2)} - \\hat{r} \\hat{\\omega}^2 + \\frac{1}{\\hat{r}^2} = - \\frac{5}{2}\\epsilon_G\\frac{\\partial \\hat{\\Phi}}{\\partial \\hat{r}}.\n",
    "$$\n",
    "\n",
    "Это **радиальное уравнение движения**.\n",
    "\n",
    "Здесь \n",
    "$$\n",
    "\\frac{\\partial \\hat{\\Phi}}{\\partial \\hat{r}} = \\frac{1}{5}\\hat{f}_{ij}^{(5)}\\left(\\frac{\\partial \\hat{r}_i}{\\partial \\hat{r}}\\hat{r}_j + \\hat{r}_i\\frac{\\partial \\hat{r}_j}{\\partial \\hat{r}}\\right)\n",
    "$$"
   ]
  },
  {
   "cell_type": "markdown",
   "metadata": {},
   "source": [
    "Правая часть радиального уравнения движения будет выглядеть как"
   ]
  },
  {
   "cell_type": "code",
   "execution_count": 519,
   "metadata": {
    "vscode": {
     "languageId": "wolfram"
    }
   },
   "outputs": [
    {
     "data": {
      "text/html": [
       "<div><img alt=\"Output\" src=\"data:image/png;base64,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\"></div>"
      ],
      "text/plain": [
       "FormBox[RowBox[{OverscriptBox[\"r\", \"^\"], \" \", \n",
       "\n",
       " \n",
       ">        RowBox[{\"(\", RowBox[{\"-\", SubscriptBox[\"ϵ\", \"G\"]}], \")\"}], \" \", \n",
       "\n",
       " \n",
       ">        RowBox[{\"(\", RowBox[{RowBox[{RowBox[{\"sin\", \"(\", RowBox[{\"2\", \" \", \"ϕ\"}], \n",
       "\n",
       " \n",
       ">                \")\"}], \" \", TemplateBox[List[SubscriptBox[OverscriptBox[\"f\", \"^\"], \n",
       "\n",
       " \n",
       ">                 RowBox[List[\"x\", \",\", \"y\"]]], \"\\\"(5)\\\"\"], \"Superscript\", \n",
       "\n",
       " \n",
       ">               Rule[SyntaxForm, SuperscriptBox]]}], \"+\", \n",
       "\n",
       " \n",
       ">            RowBox[{RowBox[{SuperscriptBox[\"cos\", \"2\"], \"(\", \"ϕ\", \")\"}], \" \", \n",
       "\n",
       " \n",
       ">              TemplateBox[List[SubscriptBox[OverscriptBox[\"f\", \"^\"], \n",
       "\n",
       " \n",
       ">                 RowBox[List[\"x\", \",\", \"x\"]]], \"\\\"(5)\\\"\"], \"Superscript\", \n",
       "\n",
       " \n",
       ">               Rule[SyntaxForm, SuperscriptBox]]}], \"+\", \n",
       "\n",
       " \n",
       ">            RowBox[{RowBox[{SuperscriptBox[\"sin\", \"2\"], \"(\", \"ϕ\", \")\"}], \" \", \n",
       "\n",
       " \n",
       ">              TemplateBox[List[SubscriptBox[OverscriptBox[\"f\", \"^\"], \n",
       "\n",
       " \n",
       ">                 RowBox[List[\"y\", \",\", \"y\"]]], \"\\\"(5)\\\"\"], \"Superscript\", \n",
       "\n",
       " \n",
       ">               Rule[SyntaxForm, SuperscriptBox]]}]}], \")\"}]}], TraditionalForm]\n"
      ]
     },
     "execution_count": 519,
     "metadata": {
      "text/html": [],
      "text/plain": []
     },
     "output_type": "execute_result"
    }
   ],
   "source": [
    "RHSMotionRadialLagrange = - 1/2 Subscript[\\[Epsilon], G] FullSimplify[EinsteinSummation[{{i, j}, {i}, {j}}, {fh5, D[rh, OverHat[r][OverHat[t]]], rh}] + EinsteinSummation[{{i, j}, {i}, {j}}, {fh5, rh, D[rh, OverHat[r][OverHat[t]]]}]];\n",
    "RHSMotionRadialLagrange // TraditionalForm"
   ]
  },
  {
   "cell_type": "markdown",
   "metadata": {},
   "source": [
    "<span style=\"color:brown\">**NB:**</span> Выражение <span style=\"color:green\">**совпадает**</span> с раннее полученным уравнением и с уравнением (10) из файла Binary.pdf"
   ]
  },
  {
   "cell_type": "code",
   "execution_count": 520,
   "metadata": {
    "vscode": {
     "languageId": "wolfram"
    }
   },
   "outputs": [
    {
     "data": {
      "text/html": [
       "<div><pre style=\"&#102;&#111;&#110;&#116;&#45;&#102;&#97;&#109;&#105;&#108;&#121;&#58;&#32;&#34;&#67;&#111;&#117;&#114;&#105;&#101;&#114;&#32;&#78;&#101;&#119;&#34;&#44;&#67;&#111;&#117;&#114;&#105;&#101;&#114;&#44;&#109;&#111;&#110;&#111;&#115;&#112;&#97;&#99;&#101;&#59;\">&#48;</pre></div>"
      ],
      "text/plain": [
       "0"
      ]
     },
     "execution_count": 520,
     "metadata": {
      "text/html": [],
      "text/plain": []
     },
     "output_type": "execute_result"
    }
   ],
   "source": [
    "RHSMotion[[1]] - RHSMotionRadialLagrange"
   ]
  },
  {
   "cell_type": "markdown",
   "metadata": {},
   "source": [
    "---\n",
    "\n",
    "#### Уравнение для координаты $\\phi$:\n",
    "$$\n",
    "\\frac{d}{d\\hat{t}} \\left(\\frac{\\partial \\hat{L}}{\\partial \\hat{\\omega}} \\right) - \\frac{\\partial \\hat{L}}{\\partial \\phi} = 0.\n",
    "$$\n",
    "Вычислим производные:\n",
    "$$\n",
    "\\frac{\\partial \\hat{L}}{\\partial \\hat{\\omega}} = \\hat{r}^2 \\hat{\\omega}, \\quad \\frac{d}{d\\hat{t}} \\left( \\frac{\\partial \\hat{L}}{\\partial \\hat{\\omega}} \\right) = \\frac{d}{d\\hat{t}} \\left( \\hat{r}^2 \\hat{\\omega} \\right),\n",
    "$$\n",
    "$$\n",
    "\\frac{\\partial \\hat{L}}{\\partial \\phi} = - \\frac{5}{2}\\epsilon_G\\frac{\\partial \\hat{\\Phi}}{\\partial \\phi}.\n",
    "$$\n",
    "Подставляем в уравнение Эйлера-Лагранжа:\n",
    "$$\n",
    "\\frac{1}{\\hat{r}}\\frac{d}{d\\hat{t}} \\left( \\hat{r}^2 \\hat{\\omega} \\right) = \\frac{1}{\\hat{r}}\\frac{d\\hat{J}}{d\\hat{t}} = - \\frac{5}{2}\\frac{\\epsilon_G}{\\hat{r}}\\frac{\\partial \\hat{\\Phi}}{\\partial \\phi}.\n",
    "$$\n",
    "\n",
    "Здесь \n",
    "$$\n",
    "\\frac{\\partial \\hat{\\Phi}}{\\partial \\phi} = \\frac{1}{5}\\hat{f}_{ij}^{(5)}\\left(\\frac{\\partial \\hat{r}_i}{\\partial \\phi}\\hat{r}_j + \\hat{r}_i\\frac{\\partial \\hat{r}_j}{\\partial \\phi}\\right)\n",
    "$$"
   ]
  },
  {
   "cell_type": "markdown",
   "metadata": {},
   "source": [
    "Правая часть уравнения движения для $\\phi$ будет выглядеть как"
   ]
  },
  {
   "cell_type": "code",
   "execution_count": 522,
   "metadata": {
    "vscode": {
     "languageId": "wolfram"
    }
   },
   "outputs": [
    {
     "data": {
      "text/html": [
       "<div><img alt=\"Output\" src=\"data:image/png;base64,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\"></div>"
      ],
      "text/plain": [
       "FormBox[RowBox[{RowBox[{\"-\", FractionBox[\"1\", \"2\"]}], \" \", OverscriptBox[\"r\", \"^\"], \n",
       "\n",
       " \n",
       ">        \" \", SubscriptBox[\"ϵ\", \"G\"], \" \", \n",
       "\n",
       " \n",
       ">        RowBox[{\"(\", RowBox[{RowBox[{RowBox[{\"sin\", \"(\", RowBox[{\"2\", \" \", \"ϕ\"}], \n",
       "\n",
       " \n",
       ">                \")\"}], \" \", RowBox[{\"(\", \n",
       "\n",
       " \n",
       ">                RowBox[{TemplateBox[List[SubscriptBox[OverscriptBox[\"f\", \"^\"], \n",
       "\n",
       " \n",
       ">                     RowBox[List[\"y\", \",\", \"y\"]]], \"\\\"(5)\\\"\"], \"Superscript\", \n",
       "\n",
       " \n",
       ">                   Rule[SyntaxForm, SuperscriptBox]], \"-\", \n",
       "\n",
       " \n",
       ">                  TemplateBox[List[SubscriptBox[OverscriptBox[\"f\", \"^\"], \n",
       "\n",
       " \n",
       ">                     RowBox[List[\"x\", \",\", \"x\"]]], \"\\\"(5)\\\"\"], \"Superscript\", \n",
       "\n",
       " \n",
       ">                   Rule[SyntaxForm, SuperscriptBox]]}], \")\"}]}], \"+\", \n",
       "\n",
       " \n",
       ">            RowBox[{\"2\", \" \", RowBox[{\"cos\", \"(\", RowBox[{\"2\", \" \", \"ϕ\"}], \")\"}], \" \", \n",
       "\n",
       " \n",
       ">              TemplateBox[List[SubscriptBox[OverscriptBox[\"f\", \"^\"], \n",
       "\n",
       " \n",
       ">                 RowBox[List[\"x\", \",\", \"y\"]]], \"\\\"(5)\\\"\"], \"Superscript\", \n",
       "\n",
       " \n",
       ">               Rule[SyntaxForm, SuperscriptBox]]}]}], \")\"}]}], TraditionalForm]\n"
      ]
     },
     "execution_count": 522,
     "metadata": {
      "text/html": [],
      "text/plain": []
     },
     "output_type": "execute_result"
    }
   ],
   "source": [
    "RHSMotionPhiLagrange = - 1/2 Subscript[\\[Epsilon], G] FullSimplify[EinsteinSummation[{{i, j}, {i}, {j}}, {fh5, D[rh, \\[Phi][OverHat[t]]], rh}] + EinsteinSummation[{{i, j}, {i}, {j}}, {fh5, rh, D[rh, \\[Phi][OverHat[t]]]}]]/OverHat[r][OverHat[t]];\n",
    "RHSMotionPhiLagrange // TraditionalForm"
   ]
  },
  {
   "cell_type": "markdown",
   "metadata": {},
   "source": [
    "<span style=\"color:brown\">**NB:**</span> Выражение <span style=\"color:green\">**совпадает**</span> с раннее полученным уравнением и с уравнением (9) из файла Binary.pdf"
   ]
  },
  {
   "cell_type": "code",
   "execution_count": 523,
   "metadata": {
    "vscode": {
     "languageId": "wolfram"
    }
   },
   "outputs": [
    {
     "data": {
      "text/html": [
       "<div><pre style=\"&#102;&#111;&#110;&#116;&#45;&#102;&#97;&#109;&#105;&#108;&#121;&#58;&#32;&#34;&#67;&#111;&#117;&#114;&#105;&#101;&#114;&#32;&#78;&#101;&#119;&#34;&#44;&#67;&#111;&#117;&#114;&#105;&#101;&#114;&#44;&#109;&#111;&#110;&#111;&#115;&#112;&#97;&#99;&#101;&#59;\">&#48;</pre></div>"
      ],
      "text/plain": [
       "0"
      ]
     },
     "execution_count": 523,
     "metadata": {
      "text/html": [],
      "text/plain": []
     },
     "output_type": "execute_result"
    }
   ],
   "source": [
    "RHSMotion[[2]] - RHSMotionPhiLagrange"
   ]
  },
  {
   "cell_type": "markdown",
   "metadata": {},
   "source": [
    "## Получим **энергетическую** систему уравнений в подходе Лагранжа"
   ]
  },
  {
   "cell_type": "markdown",
   "metadata": {},
   "source": [
    "Заметим, что энергия системы:\n",
    "$$\n",
    "\\hat{E} = \\frac{(\\hat{r}^{(1)})^2}{2} + \\frac{\\hat{r}^2 \\hat{\\omega}^2}{2} - \\frac{1}{\\hat{r}}\n",
    "$$\n",
    "$$\n",
    "\\frac{1}{\\hat{r}^{(1)}}\\left(\\frac{d\\hat{E}}{d\\hat{t}} - \\hat{\\omega} \\frac{d\\hat{J}}{d\\hat{t}}\\right) = \\hat{r}^{(2)} - \\hat{r} \\hat{\\omega}^2 + \\frac{1}{\\hat{r}^2}\n",
    "$$\n",
    "\n",
    "А также уравнение для изменения момента импульса системы есть\n",
    "$$\n",
    "\\frac{d\\hat{J}}{d\\hat{t}} = - \\frac{5}{2}\\epsilon_G\\frac{\\partial \\hat{\\Phi}}{\\partial \\phi}.\n",
    "$$\n",
    "\n",
    "Итоговая энергетическая система, выведенная по-новому будет записываться как:\n",
    "\n",
    "$$\n",
    "\\begin{align}\n",
    "\\frac{d\\hat{E}}{d\\hat{t}} &= - \\frac{5}{2}\\epsilon_G\\left(\\hat{r}^{(1)}\\frac{\\partial \\hat{\\Phi}}{\\partial \\hat{r}} + \\hat{\\omega} \\frac{\\partial \\hat{\\Phi}}{\\partial \\phi}\\right)\n",
    "  = - \\frac{\\epsilon_G}{2}\\hat{f}_{ij}^{(5)}\\left(\\frac{d\\hat{r}_i}{d\\hat{t}}\\hat{r}_j + \\hat{r}_i\\frac{d\\hat{r}_j}{d\\hat{t}}\\right)\n",
    "  = - \\frac{\\epsilon_G}{2}\\hat{f}_{ij}^{(5)}\\frac{d(\\hat{r}_i \\hat{r}_j)}{d\\hat{t}}\n",
    "\\\\\n",
    "\\frac{d\\hat{J}}{d\\hat{t}} &= - \\frac{5}{2}\\epsilon_G\\frac{\\partial \\hat{\\Phi}}{\\partial \\phi}\n",
    "  = - \\frac{\\epsilon_G}{2}\\hat{f}_{ij}^{(5)}\\left(\\frac{\\partial \\hat{r}_i}{\\partial \\phi}\\hat{r}_j + \\hat{r}_i\\frac{\\partial \\hat{r}_j}{\\partial \\phi}\\right)\n",
    "  = - \\frac{\\epsilon_G}{2}\\hat{f}_{ij}^{(5)}\\frac{d(\\hat{r}_i \\hat{r}_j)}{d\\phi}\n",
    "\\end{align}\n",
    "$$"
   ]
  },
  {
   "cell_type": "code",
   "execution_count": 525,
   "metadata": {
    "vscode": {
     "languageId": "wolfram"
    }
   },
   "outputs": [
    {
     "data": {
      "text/html": [
       "<div><img alt=\"Output\" src=\"data:image/png;base64,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\"></div>"
      ],
      "text/plain": [
       "FormBox[TagBox[RowBox[{\"(\", \"⁠\", \n",
       "\n",
       " \n",
       ">         TagBox[GridBox[{{RowBox[{OverscriptBox[\"r\", \"^\"], \" \", \n",
       "\n",
       " \n",
       ">               RowBox[{\"(\", RowBox[{\"-\", SubscriptBox[\"ϵ\", \"G\"]}], \")\"}], \" \", \n",
       "\n",
       " \n",
       ">               RowBox[{\"(\", RowBox[{RowBox[{OverscriptBox[\"r\", \"^\"], \" \", \n",
       "\n",
       " \n",
       ">                     OverscriptBox[\"ω\", \"^\"], \" \", \n",
       "\n",
       " \n",
       ">                     RowBox[{\"(\", RowBox[{RowBox[{RowBox[{\"cos\", \"(\", \n",
       "\n",
       " \n",
       ">                             RowBox[{\"2\", \" \", \"ϕ\"}], \")\"}], \" \", \n",
       "\n",
       " \n",
       ">                           TemplateBox[List[SubscriptBox[OverscriptBox[\"f\", \n",
       "\n",
       " \n",
       ">                             \"^\"], RowBox[List[\"x\", \",\", \"y\"]]], \"\\\"(5)\\\"\"], \n",
       "\n",
       " \n",
       ">                            \"Superscript\", Rule[SyntaxForm, SuperscriptBox]]}], \n",
       "\n",
       " \n",
       ">                         \"+\", RowBox[{RowBox[{\"sin\", \"(\", \"ϕ\", \")\"}], \" \", \n",
       "\n",
       " \n",
       ">                           RowBox[{\"cos\", \"(\", \"ϕ\", \")\"}], \" \", \n",
       "\n",
       " \n",
       ">                           RowBox[{\"(\", \n",
       "\n",
       " \n",
       ">                             RowBox[{TemplateBox[List[SubscriptBox[\n",
       "\n",
       " \n",
       ">                             OverscriptBox[\"f\", \"^\"], \n",
       "\n",
       " \n",
       ">                             RowBox[List[\"y\", \",\", \"y\"]]], \"\\\"(5)\\\"\"], \n",
       "\n",
       " \n",
       ">                             \"Superscript\", Rule[SyntaxForm, SuperscriptBox]], \n",
       "\n",
       " \n",
       ">                              \"-\", \n",
       "\n",
       " \n",
       ">                              TemplateBox[List[SubscriptBox[OverscriptB\\\n",
       "\n",
       " \n",
       ">   ox[\"f\", \"^\"], RowBox[List[\"x\", \",\", \"x\"]]], \"\\\"(5)\\\"\"], \"Superscript\", \n",
       "\n",
       " \n",
       ">                              Rule[SyntaxForm, SuperscriptBox]]}], \")\"}]}]}], \")\"}]\\\n",
       "\n",
       " \n",
       ">   }], \"+\", RowBox[{SuperscriptBox[OverscriptBox[\"r\", \"^\"], \"′\"], \" \", \n",
       "\n",
       " \n",
       ">                     RowBox[{\"(\", RowBox[{RowBox[{RowBox[{\"sin\", \"(\", \n",
       "\n",
       " \n",
       ">                             RowBox[{\"2\", \" \", \"ϕ\"}], \")\"}], \" \", \n",
       "\n",
       " \n",
       ">                           TemplateBox[List[SubscriptBox[OverscriptBox[\"f\", \n",
       "\n",
       " \n",
       ">                             \"^\"], RowBox[List[\"x\", \",\", \"y\"]]], \"\\\"(5)\\\"\"], \n",
       "\n",
       " \n",
       ">                            \"Superscript\", Rule[SyntaxForm, SuperscriptBox]]}], \n",
       "\n",
       " \n",
       ">                         \"+\", RowBox[{RowBox[{SuperscriptBox[\"cos\", \"2\"], \"(\", \n",
       "\n",
       " \n",
       ">                             \"ϕ\", \")\"}], \" \", \n",
       "\n",
       " \n",
       ">                           TemplateBox[List[SubscriptBox[OverscriptBox[\"f\", \n",
       "\n",
       " \n",
       ">                             \"^\"], RowBox[List[\"x\", \",\", \"x\"]]], \"\\\"(5)\\\"\"], \n",
       "\n",
       " \n",
       ">                            \"Superscript\", Rule[SyntaxForm, SuperscriptBox]]}], \n",
       "\n",
       " \n",
       ">                         \"+\", RowBox[{RowBox[{SuperscriptBox[\"sin\", \"2\"], \"(\", \n",
       "\n",
       " \n",
       ">                             \"ϕ\", \")\"}], \" \", \n",
       "\n",
       " \n",
       ">                           TemplateBox[List[SubscriptBox[OverscriptBox[\"f\", \n",
       "\n",
       " \n",
       ">                             \"^\"], RowBox[List[\"y\", \",\", \"y\"]]], \"\\\"(5)\\\"\"], \n",
       "\n",
       " \n",
       ">                            \"Superscript\", Rule[SyntaxForm, SuperscriptBox]]}]}], \n",
       "\n",
       " \n",
       ">                       \")\"}]}]}], \")\"}]}]}, \n",
       "\n",
       " \n",
       ">            {RowBox[{RowBox[{\"-\", FractionBox[\"1\", \"2\"]}], \" \", \n",
       "\n",
       " \n",
       ">               SuperscriptBox[OverscriptBox[\"r\", \"^\"], \"2\"], \" \", \n",
       "\n",
       " \n",
       ">               SubscriptBox[\"ϵ\", \"G\"], \" \", \n",
       "\n",
       " \n",
       ">               RowBox[{\"(\", RowBox[{RowBox[{RowBox[{\"sin\", \"(\", \n",
       "\n",
       " \n",
       ">                       RowBox[{\"2\", \" \", \"ϕ\"}], \")\"}], \" \", \n",
       "\n",
       " \n",
       ">                     RowBox[{\"(\", RowBox[{TemplateBox[List[SubscriptBox[\n",
       "\n",
       " \n",
       ">                            OverscriptBox[\"f\", \"^\"], \n",
       "\n",
       " \n",
       ">                            RowBox[List[\"y\", \",\", \"y\"]]], \"\\\"(5)\\\"\"], \n",
       "\n",
       " \n",
       ">                          \"Superscript\", Rule[SyntaxForm, SuperscriptBox]], \"-\", \n",
       "\n",
       " \n",
       ">                         TemplateBox[List[SubscriptBox[OverscriptBox[\"f\", \"^\"], \n",
       "\n",
       " \n",
       ">                            RowBox[List[\"x\", \",\", \"x\"]]], \"\\\"(5)\\\"\"], \n",
       "\n",
       " \n",
       ">                          \"Superscript\", Rule[SyntaxForm, SuperscriptBox]]}], \")\"}]}\\\n",
       "\n",
       " \n",
       ">   ], \"+\", RowBox[{\"2\", \" \", RowBox[{\"cos\", \"(\", RowBox[{\"2\", \" \", \"ϕ\"}], \")\"}], \n",
       "\n",
       " \n",
       ">                     \" \", TemplateBox[List[SubscriptBox[OverscriptBox[\"f\", \"^\"], \n",
       "\n",
       " \n",
       ">                        RowBox[List[\"x\", \",\", \"y\"]]], \"\\\"(5)\\\"\"], \"Superscript\", \n",
       "\n",
       " \n",
       ">                      Rule[SyntaxForm, SuperscriptBox]]}]}], \")\"}]}]}}, \n",
       "\n",
       " \n",
       ">           Rule[RowSpacings, 1], Rule[ColumnAlignments, Center], \n",
       "\n",
       " \n",
       ">           Rule[ColumnAlignments, Left]], Column], \"⁠\", \")\"}], \n",
       "\n",
       " \n",
       ">       Function[BoxForm`e$, MatrixForm[BoxForm`e$]]], TraditionalForm]\n"
      ]
     },
     "execution_count": 525,
     "metadata": {
      "text/html": [],
      "text/plain": []
     },
     "output_type": "execute_result"
    }
   ],
   "source": [
    "RHSEnegryLagrange = - 5/2 Subscript[\\[Epsilon],G] FullSimplify[{\n",
    "  D[fh5rhrh, OverHat[t]] /. OmegaReplace,\n",
    "  D[fh5rhrh, \\[Phi][OverHat[t]]]\n",
    "}, Trig -> True];\n",
    "\n",
    "RHSEnegryLagrange // MatrixForm // TraditionalForm"
   ]
  },
  {
   "cell_type": "markdown",
   "metadata": {},
   "source": [
    "<span style=\"color:brown\">**NB:**</span> Выражения полностью <span style=\"color:green\">**совпадают**</span> с предыдущим ньютоновым подходом!"
   ]
  },
  {
   "cell_type": "code",
   "execution_count": 526,
   "metadata": {
    "vscode": {
     "languageId": "wolfram"
    }
   },
   "outputs": [
    {
     "data": {
      "text/html": [
       "<div><img alt=\"Output\" src=\"data:image/png;base64,iVBORw0KGgoAAAANSUhEUgAAACcAAAAnCAIAAAADwcZiAAAAz3pUWHRSYXcgcHJvZmlsZSB0eXBlIGV4aWYAAHjabU/tbUQhDPvPFB0hJMGBcXh3nNQNOn7Ng7aiOiMSx/mApPH1+UofE5oleYmKBgjhzZt2kioLy2dpt72hsXP51NNPIndK5S+BsfXr1AN7YP03SHQRmy+Qm++GPch06bmv+Nr12ms9B5kcgPx+/W3sFoqCHE7rKhFo5DWR0qGolMALD4CFGU8Vf9APRLANMSusz8YJHXFWjwSj8Jwr2LzFOr3RZuNWtJXceaYSeu3svUj6BhKeWosmDQNwAAAACXBIWXMAAA7EAAAOxAGVKw4bAAAAPHRFWHRTb2Z0d2FyZQBDcmVhdGVkIHdpdGggdGhlIFdvbGZyYW0gTGFuZ3VhZ2UgOiB3d3cud29sZnJhbS5jb21coqaFAAAAIXRFWHRDcmVhdGlvbiBUaW1lADIwMjU6MDM6MTMgMTg6NDQ6MTeK7SQSAAADm0lEQVRYhc1Xz0vzWhC98WeKaRdNsSK1FCmCtEJU3LgQRF0pmICL7gVFBdeKO/8DoSvBXRaClFrcqVgIdGegaKtFxEKsYC1p1FYjNvW+RUHeS+5NGj7le2eXmeGcO8nMnQmAKCiKUigUkK5KpbKyskLTNEVRLMtKkoQMgxBeXFzgXC0ABZ7nW1rQrkgkcnx8vLu7G4vFZFmemppSVRUZeXR0JEkS0gWQZ9nY2EDaBUEgCOI7iZeXF5qmd3Z2kMGZTGZ7e7vZXG9vb7u7u3HHHx0dHRoaajy6XK6FhYVEIoEMDoVCmUwG6UKoJhKJmZkZZHQ2m2UYBgBweXmZTCYBAAzDXF1dIYMBAIFAAPmSEarZbDYUCiFZFEWhaRoAMDc3Nz09XSwWaZoul8s41bGxMUEQrFUhhJ+fnwRB4IgaGBkZCQaDLpcLQmgSNjw8nEqljPY23fP19bXP58Ox0DQtyzIAIB6PNyyyLDeyR6K/vz+fzxvt+lxFUQyHwziWcDicTqf/bUmn09/FZQRBEK2trdaquVwuGAziWObn50VR/BZWFOXg4IDjOFw8AMDr9ZZKJb1V10mRSOTp6Ql3p0AIWZYNBALxePz09HR8fHxwcFBVVZP4ra0tURQt+rVUKnk8HpOz8zw/Ozu7uLjIsqzX6z05OSFJ0iS+t7e3UCjojPpq+vr6Mi/grq6uaDQajUZNYnSq9/f3OqM+V8uesYuenp7Hx0cL1R8HRVHv7+9mqpqmtbe3/6wqSZLGofQf1Vqt9hdUNU1ra9PX1x/C4XBYqAIAkFfJn6Cjo6NWq5mpkiSpadrPqmqa5nA4zFR//KM2pfobUFXVWtXyDVer1dXVVY/H43Q6OY4z3js6VCoVa1XzKQ3s7IgNvL6+UhSlt+qmAcdxJgPE1o7YwOHh4d7ensXMoSjKWOjfsLUjNlAsFv1+v86oV/X5fA8PDzgKuzsiAECSJGtVv99/d3eHo7C7IwIA8vl8X1+fherAwMDNzY0JSwNN7ogAgLe3N2MN629dhmFisRiOwu6OWK/XOzs7jXZ9rm63+/n5Gcdid0fM5XLIhR5xNzmdzo+PDySL3R0xlUpNTEwgHMYO43n+7OwM13+2dsSlpSWkF6FaLpc3NzdxRNVqdW1tze12UxTFcRzu5xpCWK/Xl5eXkS70/+v6+jqOq3kIgrC/v490oWfO5OTk+fk57ms1iWQyybIs0kVAq4b7Dfz6fP0fqf4Dh0MgcMINdBkAAAAASUVORK5CYII=\"></div>"
      ],
      "text/plain": [
       "0\n",
       "\n",
       "0"
      ]
     },
     "execution_count": 526,
     "metadata": {
      "text/html": [],
      "text/plain": []
     },
     "output_type": "execute_result"
    }
   ],
   "source": [
    "FullSimplify[RHSEnegryLagrange - RHSEnegry] // MatrixForm"
   ]
  },
  {
   "cell_type": "markdown",
   "metadata": {},
   "source": [
    "В **размерной** же записи наши уравнения превращаются в\n",
    "$$\n",
    "\\begin{align}\n",
    "\\frac{dE}{dt} &=\n",
    "  = - \\frac{1}{5}f_{ij}^{(5)} \\mu \\frac{d(r_i r_j)}{dt}\n",
    "  = - \\frac{1}{5}\\frac{c^5}{G}f_{ij}^{(5)} \\frac{d}{dt}\\left(f_{ij} + \\frac{1}{3} \\delta_{ij}r^2\\right)\n",
    "  = - \\frac{1}{5}\\frac{c^5}{G}f_{ij}^{(5)} \\frac{df_{ij}}{dt}\n",
    "\\\\\n",
    "\\frac{dJ}{dt} &=\n",
    "  = - \\frac{1}{5}f_{ij}^{(5)} \\mu \\frac{d(r_i r_j)}{d\\phi}\n",
    "  = - \\frac{1}{5}\\frac{c^5}{G}f_{ij}^{(5)} \\frac{d}{d\\phi}\\left(f_{ij} + \\frac{1}{3} \\delta_{ij}r^2\\right)\n",
    "  = - \\frac{1}{5}\\frac{c^5}{G}f_{ij}^{(5)} \\frac{df_{ij}}{d\\phi}\n",
    "  = - \\frac{2}{5}\\frac{c^5}{G}\\epsilon_{ij}f_{ik}^{(5)} f_{kj}\n",
    "\\end{align}\n",
    "$$\n",
    "\n",
    "Здесь учтено, что квадрупольный момент бесследовый\n",
    "$$\n",
    "\\begin{align}\n",
    "\\text{Tr}(f_{ij}) &= \\delta_{ij}f_{ij} = 0\n",
    "\\\\\n",
    "\\text{Tr}(f^{(5)}_{ij}) &= \\delta_{ij}f^{(5)}_{ij} = 0\n",
    "\\\\\n",
    "\\end{align}\n",
    "$$"
   ]
  },
  {
   "cell_type": "code",
   "execution_count": 529,
   "metadata": {
    "vscode": {
     "languageId": "wolfram"
    }
   },
   "outputs": [
    {
     "data": {
      "text/html": [
       "<div><img alt=\"Output\" src=\"data:image/png;base64,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\"></div>"
      ],
      "text/plain": [
       "FormBox[RowBox[{RowBox[{\"-\", FractionBox[\"1\", \"5\"]}], \" \", \n",
       "\n",
       " \n",
       ">        SuperscriptBox[OverscriptBox[\"r\", \"^\"], \"2\"], \" \", \n",
       "\n",
       " \n",
       ">        RowBox[{\"(\", RowBox[{RowBox[{RowBox[{\"sin\", \"(\", RowBox[{\"2\", \" \", \"ϕ\"}], \n",
       "\n",
       " \n",
       ">                \")\"}], \" \", RowBox[{\"(\", \n",
       "\n",
       " \n",
       ">                RowBox[{TemplateBox[List[SubscriptBox[OverscriptBox[\"f\", \"^\"], \n",
       "\n",
       " \n",
       ">                     RowBox[List[\"x\", \",\", \"x\"]]], \"\\\"(5)\\\"\"], \"Superscript\", \n",
       "\n",
       " \n",
       ">                   Rule[SyntaxForm, SuperscriptBox]], \"-\", \n",
       "\n",
       " \n",
       ">                  TemplateBox[List[SubscriptBox[OverscriptBox[\"f\", \"^\"], \n",
       "\n",
       " \n",
       ">                     RowBox[List[\"y\", \",\", \"y\"]]], \"\\\"(5)\\\"\"], \"Superscript\", \n",
       "\n",
       " \n",
       ">                   Rule[SyntaxForm, SuperscriptBox]]}], \")\"}]}], \"-\", \n",
       "\n",
       " \n",
       ">            RowBox[{\"2\", \" \", RowBox[{\"cos\", \"(\", RowBox[{\"2\", \" \", \"ϕ\"}], \")\"}], \" \", \n",
       "\n",
       " \n",
       ">              TemplateBox[List[SubscriptBox[OverscriptBox[\"f\", \"^\"], \n",
       "\n",
       " \n",
       ">                 RowBox[List[\"x\", \",\", \"y\"]]], \"\\\"(5)\\\"\"], \"Superscript\", \n",
       "\n",
       " \n",
       ">               Rule[SyntaxForm, SuperscriptBox]]}]}], \")\"}]}], TraditionalForm]\n"
      ]
     },
     "execution_count": 529,
     "metadata": {
      "text/html": [],
      "text/plain": []
     },
     "output_type": "execute_result"
    }
   ],
   "source": [
    "(* Доказатество последнего равенства в уравнении для изменениия момента импульса *)\n",
    "leviCivitaArray = Normal[LeviCivitaTensor[2]];\n",
    "-2/5 FullSimplify[EinsteinSummation[{{i, j}, {i, k}, {k, j}}, {leviCivitaArray, fh5, fh}]] // TraditionalForm"
   ]
  },
  {
   "cell_type": "markdown",
   "metadata": {},
   "source": [
    "<span style=\"color:brown\">**NB:**</span> Выражения полностью <span style=\"color:green\">**совпадают**</span>\n",
    "с $dE/dt, dJ/dt$ из задачника Лайтман А., Пресс В., Прайс Р., Тюкольки С. - 1979 - Сборник задач по теории относительности и гравитации (Решение задачи 18.5, стр. 446-447)\n",
    "\n",
    "Не стоит забывать, что в задачнике система геометризированных единиц $G = c = 1$."
   ]
  },
  {
   "cell_type": "markdown",
   "metadata": {},
   "source": [
    "# Итоговая система **энергетических** уравнений:\n",
    "\n",
    "$$\n",
    "\\begin{align}\n",
    "\\tag{dJ/dt}\n",
    "\\frac{d\\hat{J}}{d\\hat{t}} &= -\\frac{1}{2} \\epsilon_G\n",
    "\\hat{r}^2\n",
    "\\left(\n",
    "  \\sin (2 \\phi ) \\left(\\hat{f}_{y,y}{}^{\\text{(5)}}-\\hat{f}_{x,x}{}^{\\text{(5)}}\\right)+2 \\cos (2 \\phi ) \\hat{f}_{x,y}{}^{\\text{(5)}}\n",
    "\\right)\n",
    "= \\epsilon_G I_J\n",
    "\\\\\n",
    "\\tag{dE/dt}\n",
    "\\frac{d\\hat{E}}{d\\hat{t}} &= \\epsilon_G\n",
    "\\left(\n",
    "  I_J\\hat{\\omega}\n",
    "  -\\hat{r} \\hat{r}'\n",
    "  \\left(\n",
    "  \\sin (2 \\phi ) \\hat{f}_{x,y}{}^{\\text{(5)}}+\\cos ^2(\\phi ) \\hat{f}_{x,x}{}^{\\text{(5)}}+\\sin ^2(\\phi ) \\hat{f}_{y,y}{}^{\\text{(5)}}\n",
    "  \\right)\n",
    "\\right)\n",
    "= \\epsilon_G I_E\n",
    "\\end{align}\n",
    "$$"
   ]
  },
  {
   "cell_type": "markdown",
   "metadata": {},
   "source": [
    "# RHS уравнения (dJ/dt)\n",
    "\n",
    "Введём новое обозначение $\\hat{r}^2 \\equiv \\hat{r}_2$"
   ]
  },
  {
   "cell_type": "code",
   "execution_count": 530,
   "metadata": {
    "vscode": {
     "languageId": "wolfram"
    }
   },
   "outputs": [],
   "source": [
    "ToR2Replacement = {\n",
    "  OverHat[r][OverHat[t]] -> Sqrt[Subscript[OverHat[r],2][OverHat[t]]],\n",
    "  Derivative[n_][OverHat[r]][OverHat[t]] :> D[Sqrt[Subscript[OverHat[r], 2][OverHat[t]]], {OverHat[t], n}]\n",
    "};"
   ]
  },
  {
   "cell_type": "markdown",
   "metadata": {},
   "source": [
    "и подставим в (dJ/dt) значения $\\hat{f}_{i,j}^{(5)}$:"
   ]
  },
  {
   "cell_type": "code",
   "execution_count": 536,
   "metadata": {
    "vscode": {
     "languageId": "wolfram"
    }
   },
   "outputs": [
    {
     "data": {
      "text/html": [
       "<div><img alt=\"Output\" src=\"data:image/png;base64,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\"></div>"
      ],
      "text/plain": [
       "FormBox[RowBox[{SubscriptBox[OverscriptBox[\"r\", \"^\"], \"2\"], \" \", \n",
       "\n",
       " \n",
       ">        RowBox[{\"(\", RowBox[{RowBox[{\"-\", \n",
       "\n",
       " \n",
       ">              RowBox[{\"5\", \" \", SuperscriptBox[SubscriptBox[OverscriptBox[\"r\", \"^\"], \n",
       "\n",
       " \n",
       ">                  \"2\"], \"′\"], \" \", SuperscriptBox[OverscriptBox[\"ω\", \"^\"], \"′′′\"]}]}], \n",
       "\n",
       " \n",
       ">            \"-\", RowBox[{\"10\", \" \", SuperscriptBox[SubscriptBox[OverscriptBox[\"r\", \n",
       "\n",
       " \n",
       ">                 \"^\"], \"2\"], \"′′′\"], \" \", SuperscriptBox[OverscriptBox[\"ω\", \"^\"],\\\n",
       " \n",
       ">    \"′\"]}]\\\n",
       ", \"+\", RowBox[{\"120\", \" \", SuperscriptBox[OverscriptBox[\"ω\", \"^\"], \"2\"], \"\\\n",
       " \n",
       ">    \", \n",
       "           SuperscriptBox[SubscriptBox[OverscriptBox[\"r\", \"^\"], \"2\"], \"′\"], \"\\\n",
       " \n",
       ">    \", \n",
       "           SuperscriptBox[OverscriptBox[\"ω\", \"^\"], \"′\"]}], \"+\", \n",
       "\n",
       " \n",
       ">            RowBox[{\"60\", \" \", SubscriptBox[OverscriptBox[\"r\", \"^\"], \"2\"], \" \", \n",
       "\n",
       " \n",
       ">              OverscriptBox[\"ω\", \"^\"], \" \", \n",
       "           SuperscriptBox[RowBox[{\"(\", \n",
       "\n",
       " \n",
       ">                 SuperscriptBox[OverscriptBox[\"ω\", \"^\"], \"′\"], \")\"}], \"2\"]}], \"+\", \n",
       "\n",
       " \n",
       ">            RowBox[{\"40\", \" \", SuperscriptBox[OverscriptBox[\"ω\", \"^\"], \"3\"], \" \", \n",
       "\n",
       " \n",
       ">              SuperscriptBox[SubscriptBox[OverscriptBox[\"r\", \"^\"], \"2\"], \"′′\"]}], \"+\", \n",
       "\n",
       " \n",
       ">            RowBox[{\"40\", \" \", SubscriptBox[OverscriptBox[\"r\", \"^\"], \"2\"], \" \", \n",
       "\n",
       " \n",
       ">              SuperscriptBox[OverscriptBox[\"ω\", \"^\"], \"2\"], \" \", \n",
       "\n",
       " \n",
       ">              SuperscriptBox[OverscriptBox[\"ω\", \"^\"], \"′′\"]}], \"-\", \n",
       "\n",
       " \n",
       ">            RowBox[{\"10\", \" \", SuperscriptBox[SubscriptBox[OverscriptBox[\"r\", \"^\"], \n",
       "\n",
       " \n",
       ">                \"2\"], \"′′\"], \" \", SuperscriptBox[OverscriptBox[\"ω\", \"^\"], \"′′\"]}], \"-\",\\\n",
       " \n",
       ">    \n",
       "         RowBox[{\"5\", \" \", OverscriptBox[\"ω\", \"^\"], \" \", \n",
       "\n",
       " \n",
       ">              SuperscriptBox[SubscriptBox[OverscriptBox[\"r\", \"^\"], \"2\"], \"′′′′\"]}],\\\n",
       " \n",
       ">    \"-\", \n",
       "         RowBox[{SubscriptBox[OverscriptBox[\"r\", \"^\"], \"2\"], \" \", \n",
       "\n",
       " \n",
       ">              SuperscriptBox[OverscriptBox[\"ω\", \"^\"], \"′′′′\"]}], \"-\", \n",
       "\n",
       " \n",
       ">            RowBox[{RowBox[{\"16\"}], \" \", SubscriptBox[OverscriptBox[\"r\", \"^\"], \"2\"], \n",
       "\n",
       " \n",
       ">              \" \", SuperscriptBox[OverscriptBox[\"ω\", \"^\"], \"5\"]}]}], \")\"}]}], \n",
       "\n",
       " \n",
       ">      TraditionalForm]\n"
      ]
     },
     "execution_count": 536,
     "metadata": {
      "text/html": [],
      "text/plain": []
     },
     "output_type": "execute_result"
    }
   ],
   "source": [
    "fh1 = fh /. ToR2Replacement;\n",
    "fh5Symbolic = Simplify[D[fh1, {OverHat[t], 5}], Trig -> True];\n",
    "\n",
    "Fh5Replacement = Flatten[{\n",
    "  Outer[\n",
    "    Superscript[Subscript[OverHat[f], #1, #2], \"(5)\"] -> fh5Symbolic[[#1 /. {x -> 1, y -> 2}, #2 /. {x -> 1, y -> 2}]] &,\n",
    "    {x, y}, {x, y}\n",
    "  ],\n",
    "  ToR2Replacement,\n",
    "  OmegaReplace\n",
    "}];\n",
    "\n",
    "dJdtTemp = RHSEnegryLagrange[[2]] //. Fh5Replacement;\n",
    "dJdt = Subscript[OverHat[r],2][OverHat[t]]*Expand[Simplify[dJdtTemp/Subscript[\\[Epsilon], G], Trig -> True]/Subscript[OverHat[r],2][OverHat[t]]];\n",
    "dJdt // TraditionalForm"
   ]
  },
  {
   "cell_type": "markdown",
   "metadata": {},
   "source": [
    "<span style=\"color:brown\">**NB:**</span> В файле Binary.pdf выводится <span style=\"color:green\">**точно такое же**</span> выражение"
   ]
  },
  {
   "cell_type": "markdown",
   "metadata": {},
   "source": [
    "$$\n",
    "I_J = I_1 = \\hat{r}_2 \\left[ 120\\hat{r}_2^{(1)}\\hat{\\omega}^2\\hat{\\omega}^{(1)} - 5\\hat{r}_2^{(1)}\\hat{\\omega}^{(3)} - 16\\hat{r}_2\\hat{\\omega}^5 - 10\\hat{r}_2^{(2)}\\hat{\\omega}^{(2)} + 60\\hat{r}_2\\hat{\\omega}(\\hat{\\omega}^{(1)})^2\n",
    "- 10\\hat{r}_2^{(3)}\\hat{\\omega}^{(1)} + 40\\hat{r}_2^{(2)}\\hat{\\omega}^3 - 5\\hat{r}_2^{(4)}\\hat{\\omega} - \\hat{r}_2\\hat{\\omega}^{(4)} + 40\\hat{r}_2\\hat{\\omega}^2\\hat{\\omega}^{(2)} \\right]\n",
    "$$"
   ]
  },
  {
   "cell_type": "code",
   "execution_count": 538,
   "metadata": {
    "vscode": {
     "languageId": "wolfram"
    }
   },
   "outputs": [
    {
     "data": {
      "text/html": [
       "<div><pre style=\"&#102;&#111;&#110;&#116;&#45;&#102;&#97;&#109;&#105;&#108;&#121;&#58;&#32;&#34;&#67;&#111;&#117;&#114;&#105;&#101;&#114;&#32;&#78;&#101;&#119;&#34;&#44;&#67;&#111;&#117;&#114;&#105;&#101;&#114;&#44;&#109;&#111;&#110;&#111;&#115;&#112;&#97;&#99;&#101;&#59;\">&#48;</pre></div>"
      ],
      "text/plain": [
       "0"
      ]
     },
     "execution_count": 538,
     "metadata": {
      "text/html": [],
      "text/plain": []
     },
     "output_type": "execute_result"
    }
   ],
   "source": [
    "I1 = Subscript[OverHat[r], 2][OverHat[t]] * (\n",
    "    120 * Derivative[1][Subscript[OverHat[r], 2]][OverHat[t]] *\n",
    "    OverHat[\\[Omega]][OverHat[t]]^2 * Derivative[1][OverHat[\\[Omega]]][OverHat[t]]\n",
    "    - 5 * Derivative[1][Subscript[OverHat[r], 2]][OverHat[t]] *\n",
    "    Derivative[3][OverHat[\\[Omega]]][OverHat[t]]\n",
    "    - 16 * Subscript[OverHat[r], 2][OverHat[t]] *\n",
    "    OverHat[\\[Omega]][OverHat[t]]^5\n",
    "    - 10 * Derivative[2][Subscript[OverHat[r], 2]][OverHat[t]] *\n",
    "    Derivative[2][OverHat[\\[Omega]]][OverHat[t]]\n",
    "    + 60 * Subscript[OverHat[r], 2][OverHat[t]] *\n",
    "    OverHat[\\[Omega]][OverHat[t]] * Derivative[1][OverHat[\\[Omega]]][OverHat[t]]^2\n",
    "    - 10 * Derivative[3][Subscript[OverHat[r], 2]][OverHat[t]] *\n",
    "    Derivative[1][OverHat[\\[Omega]]][OverHat[t]]\n",
    "    + 40 * Derivative[2][Subscript[OverHat[r], 2]][OverHat[t]] *\n",
    "    OverHat[\\[Omega]][OverHat[t]]^3\n",
    "    - 5 * Derivative[4][Subscript[OverHat[r], 2]][OverHat[t]] *\n",
    "    OverHat[\\[Omega]][OverHat[t]]\n",
    "    - Subscript[OverHat[r], 2][OverHat[t]] *\n",
    "    Derivative[4][OverHat[\\[Omega]]][OverHat[t]]\n",
    "    + 40 * Subscript[OverHat[r], 2][OverHat[t]] *\n",
    "    OverHat[\\[Omega]][OverHat[t]]^2 * Derivative[2][OverHat[\\[Omega]]][OverHat[t]]\n",
    ");\n",
    "dJdt - I1"
   ]
  },
  {
   "cell_type": "markdown",
   "metadata": {},
   "source": [
    "# RHS уравнения (dE/dt)\n",
    "\n",
    "Подставим в (dE/dt) значения $\\hat{f}_{i,j}^{(5)}$:"
   ]
  },
  {
   "cell_type": "code",
   "execution_count": 541,
   "metadata": {
    "vscode": {
     "languageId": "wolfram"
    }
   },
   "outputs": [
    {
     "data": {
      "text/html": [
       "<div><img alt=\"Output\" src=\"data:image/png;base64,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\"></div>"
      ],
      "text/plain": [
       "FormBox[RowBox[{FractionBox[\"1\", \"3\"], \" \", \n",
       "\n",
       " \n",
       ">        RowBox[{\"(\", RowBox[{RowBox[{OverscriptBox[\"ω\", \"^\"], \" \", \n",
       "\n",
       " \n",
       ">              RowBox[{\"(\", RowBox[{RowBox[{\"-\", \n",
       "\n",
       " \n",
       ">                    RowBox[{\"3\", \" \", SubscriptBox[OverscriptBox[\"r\", \"^\"], \"2\"], \n",
       "\n",
       " \n",
       ">                      \" \", RowBox[{\"(\", \n",
       "\n",
       " \n",
       ">                        RowBox[{RowBox[{\"10\", \" \", \n",
       "\n",
       " \n",
       ">                            SuperscriptBox[SubscriptBox[OverscriptBox[\"r\", \"^\"], \n",
       "\n",
       " \n",
       ">                              \"2\"], \"′′′\"], \" \", \n",
       "\n",
       " \n",
       ">                            SuperscriptBox[OverscriptBox[\"ω\", \"^\"], \"′\"]}], \"+\", \n",
       "\n",
       " \n",
       ">                          RowBox[{\"10\", \" \", \n",
       "\n",
       " \n",
       ">                            SuperscriptBox[SubscriptBox[OverscriptBox[\"r\", \"^\"], \n",
       "\n",
       " \n",
       ">                              \"2\"], \"′′\"], \" \", \n",
       "\n",
       " \n",
       ">                            SuperscriptBox[OverscriptBox[\"ω\", \"^\"], \"′′\"]}], \"+\", \n",
       "\n",
       " \n",
       ">                          RowBox[{SubscriptBox[OverscriptBox[\"r\", \"^\"], \"2\"], \" \", \n",
       "\n",
       " \n",
       ">                            SuperscriptBox[OverscriptBox[\"ω\", \"^\"], \"′′′′\"]}]}], \")\"}]\\\n",
       "\n",
       " \n",
       ">   }]}], \"+\", RowBox[{\"60\", \" \", SuperscriptBox[RowBox[{\"(\", \n",
       "\n",
       " \n",
       ">                       SuperscriptBox[SubscriptBox[OverscriptBox[\"r\", \"^\"], \"2\"], \n",
       "\n",
       " \n",
       ">                        \"′\"], \")\"}], \"2\"], \" \", \n",
       "\n",
       " \n",
       ">                    SuperscriptBox[OverscriptBox[\"ω\", \"^\"], \"′′\"]}], \"+\", \n",
       "\n",
       " \n",
       ">                  RowBox[{\"90\", \" \", \n",
       "\n",
       " \n",
       ">                    SuperscriptBox[SubscriptBox[OverscriptBox[\"r\", \"^\"], \"2\"], \"′\"], \n",
       "\n",
       " \n",
       ">                    \" \", SuperscriptBox[SubscriptBox[OverscriptBox[\"r\", \"^\"], \"2\"], \n",
       "\n",
       " \n",
       ">                     \"′′\"], \" \", SuperscriptBox[OverscriptBox[\"ω\", \"^\"], \"′\"]}]}],\\\n",
       " \n",
       ">    \")\"}]\\\n",
       "}], \"+\", RowBox[{SuperscriptBox[SubscriptBox[OverscriptBox[\"r\", \"^\"], \"2\"],\\\n",
       " \n",
       ">    \"′\"], \n",
       "           \" \", RowBox[{\"(\", RowBox[{RowBox[{\"30\", \" \", \n",
       "\n",
       " \n",
       ">                    SubscriptBox[OverscriptBox[\"r\", \"^\"], \"2\"], \" \", \n",
       "\n",
       " \n",
       ">                    SuperscriptBox[OverscriptBox[\"ω\", \"^\"], \"′\"], \" \", \n",
       "\n",
       " \n",
       ">                    SuperscriptBox[OverscriptBox[\"ω\", \"^\"], \"′′\"]}], \"+\", \n",
       "\n",
       " \n",
       ">                  RowBox[{\"45\", \" \", \n",
       "\n",
       " \n",
       ">                    SuperscriptBox[SubscriptBox[OverscriptBox[\"r\", \"^\"], \"2\"], \"′\"], \n",
       "\n",
       " \n",
       ">                    \" \", SuperscriptBox[RowBox[{\"(\", \n",
       "\n",
       " \n",
       ">                       SuperscriptBox[OverscriptBox[\"ω\", \"^\"], \"′\"], \")\"}], \"2\"]}], \n",
       "\n",
       " \n",
       ">                  \"-\", SuperscriptBox[SubscriptBox[OverscriptBox[\"r\", \"^\"], \"2\"], \n",
       "\n",
       " \n",
       ">                   \"′′′′′\"]}], \")\"}]}], \"-\", \n",
       "\n",
       " \n",
       ">            RowBox[{\"60\", \" \", SuperscriptBox[OverscriptBox[\"ω\", \"^\"], \"4\"], \" \", \n",
       "\n",
       " \n",
       ">              RowBox[{\"(\", RowBox[{SuperscriptBox[RowBox[{\"(\", \n",
       "\n",
       " \n",
       ">                     SuperscriptBox[SubscriptBox[OverscriptBox[\"r\", \"^\"], \"2\"], \n",
       "\n",
       " \n",
       ">                      \"′\"], \")\"}], \"2\"], \"-\", \n",
       "\n",
       " \n",
       ">                  RowBox[{\"2\", \" \", SubscriptBox[OverscriptBox[\"r\", \"^\"], \"2\"], \" \", \n",
       "\n",
       " \n",
       ">                    SuperscriptBox[SubscriptBox[OverscriptBox[\"r\", \"^\"], \"2\"],\\\n",
       " \n",
       ">    \"′′\"]}]}\\\n",
       "], \")\"}]}], \"+\", RowBox[{\"120\", \" \", SubscriptBox[OverscriptBox[\"r\",\\\n",
       " \n",
       ">    \"^\"], \"2\"], \n",
       "           \" \", SuperscriptBox[OverscriptBox[\"ω\", \"^\"], \"3\"], \" \", \n",
       "\n",
       " \n",
       ">              RowBox[{\"(\", RowBox[{RowBox[{\"2\", \" \", \n",
       "\n",
       " \n",
       ">                    SuperscriptBox[SubscriptBox[OverscriptBox[\"r\", \"^\"], \"2\"], \"′\"], \n",
       "\n",
       " \n",
       ">                    \" \", SuperscriptBox[OverscriptBox[\"ω\", \"^\"], \"′\"]}], \"+\", \n",
       "\n",
       " \n",
       ">                  RowBox[{SubscriptBox[OverscriptBox[\"r\", \"^\"], \"2\"], \" \", \n",
       "\n",
       " \n",
       ">                    SuperscriptBox[OverscriptBox[\"ω\", \"^\"], \"′′\"]}]}], \")\"}]}], \"+\", \n",
       "\n",
       " \n",
       ">            RowBox[{\"15\", \" \", SuperscriptBox[OverscriptBox[\"ω\", \"^\"], \"2\"], \" \", \n",
       "\n",
       " \n",
       ">              RowBox[{\"(\", RowBox[{RowBox[{\"12\", \" \", \n",
       "\n",
       " \n",
       ">                    SubsuperscriptBox[OverscriptBox[\"r\", \"^\"], \"2\", \"2\"], \" \", \n",
       "\n",
       " \n",
       ">                    SuperscriptBox[RowBox[{\"(\", \n",
       "\n",
       " \n",
       ">                       SuperscriptBox[OverscriptBox[\"ω\", \"^\"], \"′\"], \")\"}], \"2\"]}], \n",
       "\n",
       " \n",
       ">                  \"+\", RowBox[{\"2\", \" \", \n",
       "\n",
       " \n",
       ">                    SuperscriptBox[SubscriptBox[OverscriptBox[\"r\", \"^\"], \"2\"], \"′\"], \n",
       "\n",
       " \n",
       ">                    \" \", SuperscriptBox[SubscriptBox[OverscriptBox[\"r\", \"^\"], \"2\"], \n",
       "\n",
       " \n",
       ">                     \"′′′\"]}], \"-\", RowBox[{SubscriptBox[OverscriptBox[\"r\", \"^\"], \n",
       "\n",
       " \n",
       ">                     \"2\"], \" \", SuperscriptBox[SubscriptBox[OverscriptBox[\"r\", \"^\"], \n",
       "\n",
       " \n",
       ">                      \"2\"], \"′′′′\"]}]}], \")\"}]}], \"-\", \n",
       "\n",
       " \n",
       ">            RowBox[{RowBox[{\"48\"}], \" \", \n",
       "\n",
       " \n",
       ">              SubsuperscriptBox[OverscriptBox[\"r\", \"^\"], \"2\", \"2\"], \" \", \n",
       "\n",
       " \n",
       ">              SuperscriptBox[OverscriptBox[\"ω\", \"^\"], \"6\"]}]}], \")\"}]}],\\\n",
       " \n",
       ">    TraditionalForm]\n"
      ]
     },
     "execution_count": 541,
     "metadata": {
      "text/html": [],
      "text/plain": []
     },
     "output_type": "execute_result"
    }
   ],
   "source": [
    "dEdtTemp = RHSEnegryLagrange[[1]] //. Fh5Replacement;\n",
    "dEdt = Simplify[dEdtTemp/Subscript[\\[Epsilon], G], Trig -> True];\n",
    "dEdt // TraditionalForm"
   ]
  },
  {
   "cell_type": "markdown",
   "metadata": {},
   "source": [
    "<span style=\"color:brown\">**NB:**</span> В файлах Binary.pdf и binary_catch1.pdf выводится <span style=\"color:green\">**точно такие же**</span> выражения для правой части (dE/dt),\n",
    "а именно $I_E = I_1\\hat{\\omega} + I_2\\frac{\\dot{r}}{r}$, где\n",
    "$$\n",
    "I_2 = 2\\hat{r}_2 \\left[ -40\\hat{r}_2\\hat{\\omega}^3\\hat{\\omega}^{(1)} - 20\\hat{\\omega}^4\\hat{r}_2^{(1)} + 5\\hat{r}_2\\hat{\\omega}\\hat{\\omega}^{(3)} + 10\\hat{r}_2\\hat{\\omega}^{(1)}\\hat{\\omega}^{(2)} + 10\\hat{\\omega}^2\\hat{r}_2^{(3)} + 30\\hat{\\omega}\\hat{\\omega}^{(1)}\\hat{r}_2^{(2)} + 20\\hat{\\omega}\\hat{\\omega}^{(2)}\\hat{r}_2^{(1)} + 15\\hat{r}_2^{(1)}(\\hat{\\omega}^{(1)})^2 - \\frac{1}{3}\\hat{r}_2^{(5)} \\right]\n",
    "$$"
   ]
  },
  {
   "cell_type": "code",
   "execution_count": 543,
   "metadata": {
    "vscode": {
     "languageId": "wolfram"
    }
   },
   "outputs": [
    {
     "data": {
      "text/html": [
       "<div><pre style=\"&#102;&#111;&#110;&#116;&#45;&#102;&#97;&#109;&#105;&#108;&#121;&#58;&#32;&#34;&#67;&#111;&#117;&#114;&#105;&#101;&#114;&#32;&#78;&#101;&#119;&#34;&#44;&#67;&#111;&#117;&#114;&#105;&#101;&#114;&#44;&#109;&#111;&#110;&#111;&#115;&#112;&#97;&#99;&#101;&#59;\">&#48;</pre></div>"
      ],
      "text/plain": [
       "0"
      ]
     },
     "execution_count": 543,
     "metadata": {
      "text/html": [],
      "text/plain": []
     },
     "output_type": "execute_result"
    }
   ],
   "source": [
    "I2 = 2 * Subscript[OverHat[r], 2][OverHat[t]] * (\n",
    "    -40 * Subscript[OverHat[r], 2][OverHat[t]] *\n",
    "    OverHat[\\[Omega]][OverHat[t]]^3 * Derivative[1][OverHat[\\[Omega]]][OverHat[t]]\n",
    "    - 20 * OverHat[\\[Omega]][OverHat[t]]^4 *\n",
    "    Derivative[1][Subscript[OverHat[r], 2]][OverHat[t]]\n",
    "    + 5 * Subscript[OverHat[r], 2][OverHat[t]] *\n",
    "    OverHat[\\[Omega]][OverHat[t]] * Derivative[3][OverHat[\\[Omega]]][OverHat[t]]\n",
    "    + 10 * Subscript[OverHat[r], 2][OverHat[t]] *\n",
    "    Derivative[1][OverHat[\\[Omega]]][OverHat[t]] *\n",
    "    Derivative[2][OverHat[\\[Omega]]][OverHat[t]]\n",
    "    + 10 * OverHat[\\[Omega]][OverHat[t]]^2 *\n",
    "    Derivative[3][Subscript[OverHat[r], 2]][OverHat[t]]\n",
    "    + 30 * OverHat[\\[Omega]][OverHat[t]] *\n",
    "    Derivative[1][OverHat[\\[Omega]]][OverHat[t]] *\n",
    "    Derivative[2][Subscript[OverHat[r], 2]][OverHat[t]]\n",
    "    + 20 * OverHat[\\[Omega]][OverHat[t]] *\n",
    "    Derivative[2][OverHat[\\[Omega]]][OverHat[t]] *\n",
    "    Derivative[1][Subscript[OverHat[r], 2]][OverHat[t]]\n",
    "    + 15 * Derivative[1][Subscript[OverHat[r], 2]][OverHat[t]] *\n",
    "    Derivative[1][OverHat[\\[Omega]]][OverHat[t]]^2\n",
    "    - (1/3) * Derivative[5][Subscript[OverHat[r], 2]][OverHat[t]]\n",
    ");\n",
    "Simplify[(I2*D[OverHat[r][OverHat[t]], OverHat[t]]/OverHat[r][OverHat[t]] + I1*OverHat[\\[Omega]][OverHat[t]] /. ToR2Replacement) - dEdt]"
   ]
  },
  {
   "cell_type": "markdown",
   "metadata": {},
   "source": [
    "# Итоговые $I_J$, $I_E$\n",
    "\n",
    "$$\n",
    "\\begin{align}\n",
    "\\tag{IJ}\\\n",
    "I_J &= \\hat{r}_2 \\left[ 120\\hat{r}_2^{(1)}\\hat{\\omega}^2\\hat{\\omega}^{(1)} - 5\\hat{r}_2^{(1)}\\hat{\\omega}^{(3)} - 16\\hat{r}_2\\hat{\\omega}^5 - 10\\hat{r}_2^{(2)}\\hat{\\omega}^{(2)} + 60\\hat{r}_2\\hat{\\omega}(\\hat{\\omega}^{(1)})^2\n",
    "- 10\\hat{r}_2^{(3)}\\hat{\\omega}^{(1)} + 40\\hat{r}_2^{(2)}\\hat{\\omega}^3 - 5\\hat{r}_2^{(4)}\\hat{\\omega} - \\hat{r}_2\\hat{\\omega}^{(4)} + 40\\hat{r}_2\\hat{\\omega}^2\\hat{\\omega}^{(2)} \\right]\n",
    "\\\\\n",
    "\\tag{IE}\n",
    "I_E &= I_J\\hat{\\omega} + \\hat{r}_2^{(1)} \\left[ -40\\hat{r}_2\\hat{\\omega}^3\\hat{\\omega}^{(1)} - 20\\hat{\\omega}^4\\hat{r}_2^{(1)} + 5\\hat{r}_2\\hat{\\omega}\\hat{\\omega}^{(3)} + 10\\hat{r}_2\\hat{\\omega}^{(1)}\\hat{\\omega}^{(2)} + 10\\hat{\\omega}^2\\hat{r}_2^{(3)} + 30\\hat{\\omega}\\hat{\\omega}^{(1)}\\hat{r}_2^{(2)} + 20\\hat{\\omega}\\hat{\\omega}^{(2)}\\hat{r}_2^{(1)} + 15\\hat{r}_2^{(1)}(\\hat{\\omega}^{(1)})^2 - \\frac{1}{3}\\hat{r}_2^{(5)} \\right]\n",
    "\\end{align}\n",
    "$$"
   ]
  },
  {
   "cell_type": "markdown",
   "metadata": {},
   "source": [
    "$$\n",
    "\\hat{r}_k^{(2)} + \\frac{\\hat{r}_k}{\\hat{r}^3} = - \\epsilon_G\\hat{f}_{ki}^{(5)}\\hat{r}_i\\quad,\n",
    "$$\n",
    "\n",
    "$$\n",
    "\\hat{r}^{(2)} - \\hat{r} \\hat{\\omega}^2 + \\frac{1}{\\hat{r}^2} = - \\frac{\\epsilon_G}{2}\\hat{f}_{ij}^{(5)}\\left(\\frac{\\partial \\hat{r}_i}{\\partial \\hat{r}}\\hat{r}_j + \\hat{r}_i\\frac{\\partial \\hat{r}_j}{\\partial \\hat{r}}\\right)\n",
    "$$"
   ]
  },
  {
   "cell_type": "code",
   "execution_count": 820,
   "metadata": {
    "vscode": {
     "languageId": "wolfram"
    }
   },
   "outputs": [
    {
     "data": {
      "text/html": [
       "<div><img alt=\"Output\" src=\"data:image/png;base64,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\"></div>"
      ],
      "text/plain": [
       "  ^\n",
       "{{r -> InterpolatingFunction[{{0., 1100.}}, <>], \n",
       " \n",
       ">    ϕ -> InterpolatingFunction[{{0., 1100.}}, <>]}}"
      ]
     },
     "execution_count": 820,
     "metadata": {
      "text/html": [],
      "text/plain": []
     },
     "output_type": "execute_result"
    }
   ],
   "source": [
    "fh5Symbolic = Simplify[D[fh, {OverHat[t], 5}], Trig -> True];\n",
    "\n",
    "Fh5Replacement = Flatten[{\n",
    "  Outer[\n",
    "    Superscript[Subscript[OverHat[f], #1, #2], \"(5)\"] -> fh5Symbolic[[#1 /. {x -> 1, y -> 2}, #2 /. {x -> 1, y -> 2}]] &,\n",
    "    {x, y}, {x, y}\n",
    "  ]\n",
    "}];\n",
    "\n",
    "sys = Simplify[D[rh, {OverHat[t], 2}] + rh/OverHat[r][OverHat[t]]^3 + Subscript[\\[Epsilon],G]fh5rh //. Fh5Replacement /. Subscript[\\[Epsilon], G] -> 0.01];\n",
    "eqns = {sys[[1]] == 0, sys[[2]] == 0};\n",
    "ics = {\n",
    "  OverHat[r][0] == 1000,\n",
    "  (D[OverHat[r][OverHat[t]], OverHat[t]] /. OverHat[t] -> 0) == -10,\n",
    "  (D[OverHat[r][OverHat[t]], {OverHat[t], 2}] /. OverHat[t] -> 0) == 0,\n",
    "  (D[OverHat[r][OverHat[t]], {OverHat[t], 3}] /. OverHat[t] -> 0) == 0,\n",
    "  (D[OverHat[r][OverHat[t]], {OverHat[t], 4}] /. OverHat[t] -> 0) == 0,\n",
    "  \\[Phi][0] == ArcSin[1/OverHat[r][0]],\n",
    "  D[\\[Phi][OverHat[t]], OverHat[t]] == D[OverHat[r][OverHat[t]], OverHat[t]]/OverHat[r][OverHat[t]]^2 /. OverHat[t] -> 0,\n",
    "  (D[\\[Phi][OverHat[t]], {OverHat[t], 2}] /. OverHat[t] -> 0) == 0,\n",
    "  (D[\\[Phi][OverHat[t]], {OverHat[t], 3}] /. OverHat[t] -> 0) == 0,\n",
    "  (D[\\[Phi][OverHat[t]], {OverHat[t], 4}] /. OverHat[t] -> 0) == 0\n",
    "  };\n",
    "numSolution = NDSolve[Join[eqns, ics], {OverHat[r], \\[Phi]}, {OverHat[t], 0, 1100}]"
   ]
  },
  {
   "cell_type": "code",
   "execution_count": 839,
   "metadata": {
    "vscode": {
     "languageId": "wolfram"
    }
   },
   "outputs": [
    {
     "data": {
      "text/html": [
       "<style>\n",
       "\t\t\t\t\t\t\t\t\t\t\t\t\t.grid-container {\n",
       "\t\t\t\t\t\t\t\t\t\t\t\t\t\tdisplay: inline-grid;\n",
       "\t\t\t\t\t\t\t\t\t\t\t\t\t\tgrid-template-columns: auto;\n",
       "\t\t\t\t\t\t\t\t\t\t\t\t\t}\n",
       "\t\t\t\t\t\t\t\t\t\t\t\t</style>\n",
       "\n",
       "\t\t\t\t\t\t\t\t\t\t\t\t<div><div class=\"grid-container\"><div class=\"grid-item\"><img alt=\"Output\" src=\"data:image/png;base64,iVBORw0KGgoAAAANSUhEUgAAAeAAAAEtCAIAAABfwCSoAAAAzXpUWHRSYXcgcHJvZmlsZSB0eXBlIGV4aWYAAHjabU/bDcMgDPxnio7gF2cYhzRE6gYdvyYkqqh6Er7z+YGc+vt1pMeAMCXLXlABCli1Ki1EoYnJTPWMJ/qtePWT7FNyC87fAvpk3lbfMVnKzyKSKXT8EFrtGrgWqUyf28y3q19aKesipQW4Bf/PTV2QwW4RTcgdNXRJIYOQhbLjwBOIRsYuZM/gDvcYg48ObWNwQLqv3T1Bw9jHCTpe1hasEVnjqog1dD59UZPtqp6HpA+UflrnWEh0kgAAAAlwSFlzAAAOxAAADsQBlSsOGwAAADx0RVh0U29mdHdhcmUAQ3JlYXRlZCB3aXRoIHRoZSBXb2xmcmFtIExhbmd1YWdlIDogd3d3LndvbGZyYW0uY29tXKKmhQAAACF0RVh0Q3JlYXRpb24gVGltZQAyMDI1OjAzOjEzIDE5OjU1OjI0G2JjCgAAIABJREFUeJzt3Xt8FPXdL/Dv7uw9m91kyZ0AIYEQbpIEEB4VpQpeYyuVAlbbBzDnoSmnWNQe9bGv83rw5Eh5mSqVvACpnPoUbQFF6iVWlFaKVqlGAgmEQEKAcAnZzXWSvWR3Z+b8MZtlDQm57e7MZj/vtnnNzs7s/LLzPJ/8+M5vfqMQBIEAAEB+lFI3AAAA+oaABgCQKQQ0AIBMhTagP/zww87Ozubm5o0bNxLRwYMHbTZbSI8IADBqhDCgz5w5Y7PZYmNjOY5rbm4mohkzZuzatSt0RwQAGE2CGdAnTpx4//3333vvveeff56IPvjggzvvvNPhcJSUlNjt9meffdZisSiVytOnTwfxoAAAo1UwA9putx86dMjhcBQVFbW0tDQ3N0+YMMFgMDz99NMxMTG/+c1vNBpNbm7ukSNHgnhQAIDRKsglDrVavWLFivT09NOnT2dkZFy/QWZmJnrQAACDEeSATkpKUigURNTW1mY0Gq/fwGw2t7W14e4YAIABBTmgGYbxfa5SyXHc9RvwPM8wjBjiAABwA6EaxZGQkNDW1uZ/6fF4eJ4nora2toSEhBAdFABgNAlVQE+bNu3ChQtiKCckJKSlpT355JNut/vs2bMzZswI0UEBAEYTRejKwb///e/nzZt30003Ba7cuHHj6tWrk5OTQ3RQAIBRI4Q3qhQUFBw6dChwzZkzZ9LT05HOAACDEcKATk1NXbBgQWdnp38Ny7JLly4N3REBAEaTEJY4AABgJDCbHQCATCGgAQBkCgENACBTCGgAAJlCQAMAyBQCGgBAphDQAAAyhYAGAJCpkAf0mjVrQn0IAIBRKRw96DVr1iCmAQCGShWGY7z22mthOAoAwCiDGjQAgEwhoAEAZAo1aAAAmUINGgBAplDiAACQKQQ0AIBMIaABAGQKAQ0AIFMYxQEAEGTBetIrRnEAAARTxemmj/91fv2K2TrNSAMWJQ4AgKApP3V1y9tHa863/PZP33g5foSfFo4eNABANPi6unH7u8c4XiCimyYlqZiR9oAR0AAAQVB+6uq2fcd4QSCiH905peC2rJF/JkocAAAjVX7q6tZ9FcFNZ0JAAwCMUMUZ69Z9FWJlI4jpTAhoAICROHG2ufTto2I6P/y97CCmM2EcNADAsNVcaP3dnm/F0RoP3T75+wsmBffzMQ4aAGA46i61vfynb9xejogeuDXroYWTg34IlDgAAIbsYlPnb/9U3u3hiGjxzRk/umuKIgRHCUJANzY2PvDAAxaL5bbbbquvrx/5BwIAyJmtzfHSm187XB4iuiNv3KP3TA1FOlNQAvr+++9funTplStX5s+f//Of/3zkHwgAIFudDvdLb33TYe8mornTUlYWzFAoQpTPI65Bf/nll4IgrFq1iog2bNhQXl4ejFYBAMiR28O98ufyplY7EU3PTPjZklxlyNKZRt6DrqmpSU9Pf/TRRzMzM3/84x9nZGQEo1UAALLD8cLWd4+dvdxOROOTTb/4Uf7Ib+a+sZF+enNzc1lZ2Q9/+MPjx49nZ2c/8sgjQWkWAICsCES7/nqy4nQTESWY9U/9eI5eG/JRcAMENMuyjY2NN9jAbDbn5+c//PDDsbGx69evP3LkSHt7e1BbCAAgvQ8+r/vs2wYiitGpn3p0blysLgwHHSCgN27cuGPHDv9Ll8tVVFSUmJiYk5OzZ88eIho/fjzP+6bUUyqVSqWSYZjQNRcAIPy+OH5p32dniEitUq5/ZE5agjE8x+03oMvKylatWlVSUhK4csOGDTU1NRUVFaWlpYWFhdXV1YsWLbpy5cqBAwd4nt+8efOCBQtiY2ND32wAgDA5cbb5/31QRUQKoqIf5k4eFx+2Q/cb0IIg5Obmzpo1y7+G5/mtW7cWFxenp6cvWrRo2bJl27dvV6vV77333jPPPJOcnFxVVbVr166wNBsAIBzON3ZseftbcaqNx+6bPjsnJZxH77fIXVBQQESBw+asVivLsnl5eeLL/Pz8srIyIpo/f/6xY8dC3E4AgHBrZV0v/6nc5eaIqODWrEVzJ4S5AUO4Cmmz2RiGMRgM4kuz2Wy1WgezY+BMSZiXAwAigpfjt7x9VLwh5dabxi69a0r42zCEgLZYLBzHOZ1OvV5PRCzLWiyWweyIUAaAiLPrr9X1l9uJKCPVvPrBmSG8HaV/QxgHnZKSYjKZKisrxZdVVVXZ2dmD2RHTjQJAZPlHxcVDRxuIyBSj+eWK2aG+IaU/Q+hBMwyzcuXK4uLi3bt319XV7d279+DBg4PZET1oAIgg9Zfb//jRSSJSKhRrl+bHh2XIc5+G9mdh06ZNSUlJWVlZy5cv37Jli/+C4Y2hBw0AkaLT4d7y9lFxDv4Vd+fkTBhUITdEFIIghPQAa9asQQ8aACICxwslb31dfa6FiObPSPvZD3MlKT37YcJ+AACfd/5+Wkzn9KRYqS4MBsIzCQEAiIi+rm786Mt6IjLo1E8sn61VSz9rBZ5JCABAl21dr79XSUQKop8tyU2KN0jdIiKUOAAAnN3e3+35VnzA4EN3TJ41OVHqFvmgxAEAUU0g2vGX4+JDUnKzk35w+ySpW3QNShwAENX+Xn7h6OkmIkqKN6x5aFboHjA4DChxAED0utLc9edPThGRilGuXZpn0KmlbtF3oMQBAFHKy/Hb3z3m8fJEtHxRTkaqWeoW9YYSBwBEqXc/O3PhKktEMzITFt8c7qlEBwMlDgCIRjXnW8RRzzF69f/4wU2yKj37IaABIOo4u7073qsUp7lYXTAzPE+AHQYENABEnd2f1rR0OIno1pvGzpka1qdYDQkuEgJAdDlR3yzO9TzGrP/JfdOlbs6N4CIhAEQRl9srPqKbiFY/OFOvDUcGDhtKHAAQRd75+xmxuHF7bvqMzASpmzMABDQARIuzl9sPfn2eiMxG7SN3T5W6OQNDQANAVOAF4Y2yE+LIjcfunSa3mwb7hIuEABAVDn17seEqS0QzJyXOnZYqdXMGBRcJAWD0szs973x2mojUKuW/3z9djjel9AUlDgAY/d49dMbu9BDR/bdkJsbJYjL+wUBAA8Aod8na+bfyBiKymHQFt2ZJ3ZwhQEADwGgmEO36uFoQBCJ65O6pGhk8aXDwENAAMJp9U91Yc76FiHImWCLl2qAfAhoARi23h9v9aQ0RKRSKR++dFinXBv0Q0AAwan3y9XnxvsE78saNTzZJ3ZwhwzhoABid7C5P2T/riUinUT38vWypmzMcGAcNAKNT2RdnHS4PEd13y0RTjEbq5gwHShwAMAq1dbo++fo8EZliNPfOz5S6OcOEgAaAUej9z+vEp8F+f8EknSaShtYFCkJA33HHHYoeDz744Mg/EABgJFo6nP84epGIxpj135s9XurmDF8QatD19fVnz55NTk4mIoaJ1L9UADBqfPjPsxwvENH3F2SpmAiuE4w0oF0uV3t7e2ZmpJZ4AGCUae90Ha64RERjzPrbZqVL3ZwRGenflvPnz6tUqjlz5sTHxy9evLi+vj4ozQIAGJ6Pj5zzcjwRPXBrZkR3n2nkAc2y7C233LJnzx6r1Zqbm7tixYqgNAsAYBgcLs9n3zYQkTlGe3vuOKmbM1IDlDhYlrXb7amp/d7AfvPNN5eVlYnLL7zwgtFobG1ttVgswWwjAMDg/P3bBpebI6K752WoVZHdfaYBe9AbN27csWOH/6XL5SoqKkpMTMzJydmzZw8RHTly5IsvvhDfbW9vVygUWq02dM0FAOiPx8t/cuQ8Eek0zPfmRPDgDb9+A7qsrGzVqlUlJSWBKzds2FBTU1NRUVFaWlpYWFhdXX316tWHH364pqaG5/nNmzcvXrw4JiYm9M0GAOjtn5WXO+zdRLQwf3xMJDxycED9ljgEQcjNza2qqvKv4Xl+69atH330UXp6enp6+rJly7Zv3/7qq682NDQ8+OCDLMsuWLDgjTfeCEerAQC+SyD65F/nxOV75k+UtjHB0m9AFxQUEFF5ebl/jdVqZVk2Ly9PfJmfny9Wn9etW7du3boQtxMA4EZOnWu5bOsiovnT0ywmndTNCY4hjIO22WwMwxgMvsd5mc1mq9U6mB0Dp7LDxEkAEAp/K78gLiyeN0HalgTREALaYrFwHOd0OvV6PRGxLDvI0RoIZQAIqVbW9W1NExFlpJqz0uOlbk7QDGEYSkpKislkqqysFF9WVVVlZw9qilXMBw0AIXW44qL41MG75k6IuMem3MAQetAMw6xcubK4uHj37t11dXV79+49ePDgYHZEDxoAQocXhH9UXCQinYaZNz3Cnjp4Y0MbyL1p06akpKSsrKzly5dv2bLFf8HwxtCDBoDQOXWupZV1EdEtM8dqI+qh3QMaoAe9a9euwJc6nW7nzp1DPQZ60AAQOp8fuyQuLMiN7KmRrhfxt0ICQDRzdnvLa64S0dhE48SxcVI3J8jw0FgAiGD/OtkoPjllQW76aLo8KMJDYwEggon1DaVCcctNY6VuS/ChxAEAkcrW5qi71EZE07MSzDGjcJo2lDgAIFJ9deKKuHDbaOw+E0ocABC5jpy4QkQaFZObnSx1W0ICJQ4AiEiXbV3i7Ei52Uk6zaga/uyHEgcARKTyU1fFhVF292AglDgAICKJAa1VMzdNSpS6LaGCEgcARJ7mDmdDE0tEM7ISNaPr9u5ACGgAiDzHa32T0c/OGZ2XB0WoQQNA5BEDWkE0iusbhBo0AEQct4erPtdCRFnp8bEGjdTNCSGUOAAgwpw63yLOvzFr8mjuPhMCGgAizrGeAvTorm8QAhoAIotAdLzWRkRxRu2EVLPUzQktBDQARJIrtq6WDicRzchKHH3zi/aCURwAEEmqzzWLC7mTk6RtSRhgFAcARBJx/AYR5WRYpG1JGKDEAQARg+OFU+dbiGh8iml0D7ATIaABIGJcbGKd3V4imjphjNRtCQcENABEjJoLreLC1CiobxACGgAiiD+gsycgoAEAZEMgqrvYRkTjkmNjdGqpmxMOCGgAiAzWVnunw01Ek9PjpW5LmGAcNABEhrOX28WFSeOiJaAxDhoAIsPZSz0BjR40AICsiD1oo16TZDFI3ZYwQUADQATwePmGqywRZY41j/opOPyCFtAnT540m0f5zFIAIJXzjR0cLxDRxLQoypngBDTHcatWrXK73UH5NACAXs43dogLmWlx0rYknIIT0C+99NKUKVOC8lEAANe70MiKCxnoQQ/JqVOn3nrrrRdeeGHkHwUA0KcLTSwRxRm1cUat1G0Jn5EGNM/zjz/++NatWw2GaLmuCgBh5vHyl62dRDQ+xSR1W8JqgIBmWbaxsfEGG2zevHn27NkLFiwIaqsAAK650twlXiFEQH/Hxo0bd+zY4X/pcrmKiooSExNzcnL27NlDRBUVFW+88UZsbGxmZqbL5YqNjf3qq69C22QAiDKXrJ3iwrjkWGlbEmb93klYVlb2zjvvvPnmm7/+9a/9Kzds2FBTU1NRUVFTU7NkyZKZM2fu2rVLfKupqSkjI6OzszPkTQaAKOMP6PTE6ArofnvQgiDk5ubOmjXLv4bn+a1btxYXF6enpy9atGjZsmXbt28PSyMBIKqJAa1QKFLGxEjdlrDqtwddUFBAROXl5f41VquVZdm8vDzxZX5+fllZmf/d5ORkp9PZ50cFzpSEeTkAYKjEgB6baFQx0XXz8xAmS7LZbAzD+EdrmM1mq9U6mB0RygAwbM5ubyvrIqK0BKPUbQm3Ifw5slgsHMf5u8ksy1osg3qoAaYbBYBhu9piFxeiMKCH0INOSUkxmUyVlZXz5s0joqqqquzs7MHsiB40AAzbleYucSEtMeoCegg9aIZhVq5cWVxcbLfbjx8/vnfv3scffzx0LQMAIKLGnoBOTYiuK4Q01DsJN23alJSUlJWVtXz58i1btvgvGN4YShwAMGyNPSWOFEvUBfQAJQ7/MGeRTqfbuXPnUI+BEgcADJtYgx5j1mvUjNRtCTc8kxAA5EsgsrY5iCg5ap6iEgjPJAQA+ero6nZ7OCJKio+6+gbhkVcAIGe2Noe4ED3PIQyEEgcAyJetvSeg46IxoFHiAAD5srX57oxLjNdL2xJJoMQBAPLlL3EkRmUPGgENAPJl63ASkU7DGPRqqdsiAdSgAUC+mtsdRJQUH6OQuiWSQA0aAGSKF4Q21kVEY8w6qdsiDZQ4AECmOrq6xUcRWkzReIWQENAAIFviNNCEHnRIoQYNAMPQ2uEL6LjYKA1o1KABQKbau3wBbTFFaUCjxAEAMtXW2S0uRG0PGgENADLV1lODjo/VStsSqSCgAUCmxBKHTqPSacJRjJUhBDQAyJRY4jAbNVI3RDIYxQEAMtXR1U1E8dE6CJowigMA5Mnj5R0uDxGZY9CDBgCQE9buG8JhionSK4SEgAYAeWLtbnEhzoiABgCQE7EATUSxKHEAAMhKR0+Jw4wSBwCArHQ5fCUOM0ocAACy0unwiAtGQzQ+S0WEcdAAIEf+HnSsIXpr0BgHDQBy1Ol0ExGjVGij9T5vQokDAOSp0+EmoliDJjqfRihCQAOAHHU5PERkjOL6BiGgAUCeupxuQkBL3QAAgN4EQXA4PUSk10ZvAZoQ0AAgQy43JxARkVEXvWPsCAENADJkd/oGQcfoEdBERMSybGNjo4RNAQAQiRONEgLav7Rx48YdO3b4X168ePHee+81m8233HJLZWWluNLlchUVFSUmJubk5OzZs8e/cWlpaWZmZlpa2vPPP8/zfNhaDwCjkr0noA0ocZSVla1ataqkpCTwjeXLl8+cObOurm7p0qUPPPCAx+Mhog0bNtTU1FRUVJSWlhYWFlZXVxPRgQMHXnzxxX379h0+fHj//v24LQUARgg9aJGSiARByM3NnTVrln/tt99+W1VVVVxcnJiY+OSTT2q12g8++IDn+a1btxYXF6enpy9atGjZsmXbt28notLS0rVr1+bl5U2aNOm5557btm2bZL8NAIwKDpdXXNBH8W2EJN7qXVBQQETl5eX+tbW1tVOnTtVqfZNI5eXl1dXVWa1WlmXz8vLElfn5+WVlZeLGRUVF/pV1dXWDOXCnw33Z2jnwdgoFEfluJVKIPxQB7wRu1fPWtR+kCNjou9sHfuR3PrnPzQLXK3reUPQsKXw793t0heI7O4obKxSkUPj2U/Z8ln+lbxff+oB9AaKAAyUOIupvLg6bzWYymfwvzWaz1Wq12WwMwxgMhsCVvTY2m81Op7Orq8toNPp3D5wpyV8AqTnfWvrO0aD+LtFC0fPnQUxspUKMeDHfFQoFKX1Br1AoFL7119JfoVQQ9az3b6lU+na8fo247N9eqVAolL4tlUrfIZRKBaNUKpUKRqnw/7y2oBDfJaVSySh9OzLifxml/6eqZ1nFKBilkmF8a1SMkmGUSiX+PkURR7evB63TMtK2RFp9B7TFYunsvNa9ZVk2MzPTYrFwHOd0OvV6vbjSYrH02phlWY1GExMTE/hpqEoHlyAIAhH1/C96MEqFWqVkGKWKUaoZJcMo1SqlilEyjELNKFUqpVrFqMV3Vb631CqlRs2oxbdUSo3Kt6xRKzVqRqtm/D81aoZR4k+AXDh7AtqgRQ/6OtnZ2TU1NW63W6PREFFVVdWyZctSUlJMJlNlZeW8efPEldnZ2eLGlZWV9913n7hy8uTJvf4tLvage8X0hFTTT++fLtwwYYSAt8VFYcBIEvw/qGdvIWD3a28Ife9ybZOe/4hHDWwLCYGf4N9dEISezxb62tG3V8An+zemgNgVelbx4qY9H8IL/l9E4AUiQeD9x+rZRhD8h762C88LvOB799oCL7ZW4P17BWzD88QLgrgjzwv+7aXF8QLn5oi4EH0+o1Ro1IxWo9JpGK2a0WlUWg2j06i0akarYXRald7/X41Kr1XptCq9Vq3Xqgw6lYrBLQXB5OoJ6Ci/k7DvX37u3LkTJ0586aWXnnnmmd27d7e2tj744IMMw6xcubK4uHj37t11dXV79+49ePAgERUWFq5fv/6RRx4xGo0lJSWFhYW9Pq3PHnRSvOGuOROC/vtA6PgCvSfuA+KbeJ7ne9ZwvMDz18Kd43lxTcBPnut56eV4cSXH+Vb6FjjeK/7kxGWe4wSO5z1e3svxHCd4OHHBt8bL8R6vb3nYvyDHC85ur7/vNiQaFWPQqWL0aoNObdCpY3Rq/0ujXh1r0Bj1mtgYTaxBo9Oq0FEfkMvtL3EgoPvy3nvvrV69+uWXX548efInn3wiXjDctGnT2rVrs7Ky4uLitmzZIl4wXLJkSX19/cKFC91u92OPPbZu3bpeH9VnDxoijljIVjKyjheByJ/aHi/v8XJuD+/2ch4P5/Hybi/n9vJuD+f2cG4v73Zz3eKyh+v2cG4v5+r2ery8y+3tdnMuN+dyeweZ+G4v5+7i2nuec3oDKkZpNGiMerXZqDXFaEwxWnOMxmzUxhl1ZqM2LlZr1KtxPVj8M6lRRXvdSSGE+F+ua9asQTRD5OJ4we3hnN3ebrfX5ebELrbL7XV2e13dXme31+HyON1eh8tjd3odLo/d5XG4PB7v8DvyKkYZF6uNj9VZTDqLSTfGrBd/jjHrjVEzOfL/feOrMw1t5hjtq0/dJXVbpBTV/3wAGBCjVIh15yHt5fHydpfH7vR0Od0Op6fL6WHt3V1OT6fD3elwd3R1iz/7zHEvxze3O5vbnde/pVUzCXH6pHhDYrwhKd6QFB+TZDEkxRtGXzfT1c0RkVYT1UM4KDwBjRIHRBu1Shln1MYN9Dhqt4frsHezXe72ru6Oru6Oru62TleHvbuNdbV1uli7u9f23R7usq3rsq0rcCWjVCTE6VMTjGMTjGmJxvSk2LQEo0Yd2dHmdHuJSBfdd6kQnkkIICGNmkmMMyTGGfp818vxbayrpcPZwrpaOpzN7c7mDqetzdHS4eT4a5VJjheaWh1NrY5jZ6ziGgVRksUwNjF2fLJpXHJsRqp5TJw+svrY3W4voQeNEgeAbKkYZWK8ITG+d3xzvNDa4bS2Oaxtjqst9qut9qstdmurwz8SUiASI/vo6SZxTYxePTHVPDHNnJUePyk9Tv7Pye52c4QeNEocABGHUSrE4J4esNLL8U2tjsu2zsvWrku2zkvWzqstdv+7dqfnRH3zifpm8WWyJSZ7XPyUDMvUjDEJZn14mz8wgcjtQQ2aCCUOgNFBxSjHJhrHJhppmm+N28NdtnWda+xouMqevdR+pbnLP2SwqdXe1Gr//PglIkqI00/LGDNzUuL0zIQYeUx84fH6HqeijfBK+shF+78gAEYrjZqZmGaemGYWX3o5/kIjW3eprfZSW21Dm3/IdnO78/CxS4ePXVIqFFnpcbmTk/KmJKclGiWsWYv1DUIPGiUOgCihYpRZ6XFZ6XH30ESBqLndUXOh9dS5lpPnWto7XUTEC0Ltxbbai21v//106piYudNS501PTU+KDX9TrwW0Otp7kChxAEQdBZE4emTBrHSBqLG5q+qsrbLWVn2uRbzS2Nhif//zuvc/r0tPir1tVvotM9PMAw0ZDKJuD3rQPtH+BwogyimI0hKMaQnGe+ZNdLm9J842l5+6eqzWKt5sfcnaufvTU3sP1szKTrpr9vgZWQlhuA3d3RPQkT6ae+QQ0ADgo9Oo5kxNmTM1xcvxx2ttX59s/Lq6kRcEXhAqTjdVnG5KijfcPS9jQe44XSj7tv4etEYV7XMEIqABoDcVo5ydkzw7J3llwYx/nWw8dLTh3JUOIrK2Od78uHr/odq752UsnpcRolEf6EH74SIhAPRLr1UtzB+3MH9cw1X24yPn/nWy0cvxdpdn/z9qPz5y7r5/y7xnfkbQbydBQPvhIiEADGx8iuk/Hpr1yN1TDxw5d/CbC+Ksfu8eOnPwm/MPfy/79rxxQXwkGUocftH++wPA4MUaNEvvnLJ5/Z0/XJgtzvDH2t1/+PDEhte/PN/YEayjeLzoQfsgoAFgaHQa1Q9un/Tbdd+7Z95EseN8vrHjv17/8s+fnHJ7g/BAsoAeNAIaAGDoYvTqH98zddP/vGPaxDFEJAjCx0fO/e/XvrhwlR3hJ/unyVajxBGGY6xZs0a8TggAo0xSvOF//WTezx/OM+jURNTYYn9h55eHjl4cyWf6AxolDlwkBIARURDNm546NWPMzg8qj52xejn+Dx9WnbvS8ZP7pg3vYecIaL9o/xcEAASFKUbzyxVzHrl7qvj8rUNHG15682u7yzOMj/L6AxolDqkbAACjhILo3vkTn/nJPLHcUXOhdeN/H+kYxJPOe/GP4lAhoKVuAACMKlMmWP7PmtvEB8FcbOrc+N9H2oeY0QEXCVHiAAAIqgSz/r8Kb5mQYiKixhb7UGsdnp4HCwyvhD2aRPvvDwChYNRrnvv3+eOSY4nokrXzlT+X+/vFAxK3VCgUYjk7miGgASAk9FrVcz+dnxRvIKLai21/+LBKGHAfIiLychwRqaO++0wYBw0AoROjVz/703niQ8T/WXn5b99cGMxeYg8ad6lQeAL6tddew1BogOg0xqx/8pE5YrHiTweqBzNlhxjQGMJBKHEAQKhljo378T3TiIjjhR1/Oe5/uHh/fD1olDgQ0AAQBnfNnTBrchIRXbZ17T9Ue+ONxXHQ6EETAhoAwkBB9Pj3Z4o3sPz1q/rLtq4bbCx2sTHGjhDQABAe5hjtisU5RMTxwp8OVN9gRIeXEwgXCYkIAQ0AYXN73ris9DgiOlHfXFVn628z9KD98BUAQJgoiB69e5q4/O6hM/11osWARg+aENAAEE5Z6XG52UlEdO5KR2Vt351ojuOJiEEPesCAZlm2sbExPE0BgGiw5I7J4sJHX57tcwNfDRoBPWBAb9y4cceOHf6XLperqKgoMTExJydnz549/vWlpaWZmZlpaWnPP/88zw/2jnsAiEIZqWbxKVk1F1obrns+loAadIB+v4KysrJVq1aVlJQErtywYUMFxqbQAAAJq0lEQVRNTU1FRUVpaWlhYWF1dTURHThw4MUXX9y3b9/hw4f379+PmwYB4MYWzc0QFz472tDrLa7nNhaGifaZkugGAS0IQm5u7qxZs/xreJ7funVrcXFxenr6okWLli1btn37diIqLS1du3ZtXl7epEmTnnvuuW3btoWj4QAQsfKmJFlMOiL6quqK/xneIi/mGg3Q71dQUFDwxBNPTJ061b/GarWyLJuXlye+zM/Pr6urI6La2trrVwIA9EepUNyeO46InN3eozVNgW8hoAMN4aGxNpuNYRiDwSC+NJvNVqtVXG8ymfwrnU5nV1eX0Wj07xg4lR0KIABARLfNGvuXw7VE9NWJK/82M82/3v9AQgQ0DSmgLRYLx3FOp1Ov1xMRy7IWi0Vc39nZKW7DsqxGo4mJiQncEaEMAL0kxhsyUs3nGztO1jc7u716rS+LxCEcRITZ+mlI46BTUlJMJlNlZaX4sqqqKjs7m4iys7MDV06ePFmh+M43i/mgAeB686anEpGX4ysD7iq8VuLAjSpDCmiGYVauXFlcXGy3248fP753797HH3+ciAoLC7dt29bQ0NDa2lpSUlJYWNhrR8wHDQDXy5+SLC5UnLlWhkYNOtAQShxEtGnTprVr12ZlZcXFxW3ZskW8NrhkyZL6+vqFCxe63e7HHnts3bp1vfYSu8/IaAAIlDImJineYG1znKxvFojEf3cjoAMNENC7du0KfKnT6Xbu3Hn9Zk899dRTTz3V34cgmgGgT9MmJljbGli7+4qta2yikRDQ34VnEgKAZGZkJogL1eeaxYWAURy4SDjEEsfwoAcNAH2aMsEiLpxpaFt8cwYFjuJADxqz2QGAhEwxmqR4AxHVXWoT13A9k/lgsiRCiQMApDV5XDwRtbKu9k4XYZjdd6HEAQBSmphm/mflZSI618jmxeo43lfiUCkR0ChxAICkxqf4Joq42MTSd0Zx4CIhAhoAJDWhJ6AvXGWJiOu5SIhhdoQaNABIS6dRJcYZiOiyrYsCetAYxUGoQQOA5FLGxNjaHdZWO8cLuFElEL4CAJBYWqKRiDheaGq1X7tIiBo0AhoAJJeW4JuguKnFjhJHINSgAUBiSfG+gLa2OVDiCIQaNABITLyZkIhs7U7/zP0ocRBKHAAguXiTTnzKh63d4X+qtxJPVEFAA4DkGKUiIU5PRM3tTv9FQgZ3EiKgAUAOxph0RNTSERjQ6EHjIiEAyMAYs56InN3eLqdbXIMSB+EiIQDIgcWkExea253iAnrQhBIHAMiB2IMmIlubQ1xQogaNgAYAOYiP9fWg27u6xQX0oAkBDQByEN9T4vBDDZoQ0AAgBwk9JQ4/BDQhoAFADgx6tU5zbcyCQrxxJeohoAFAegqiZIvB/xK9ZxHGQQOALGSkmqVuguxgHDQAyMKdc8b/o+KiuOy/nzDKocQBALKQkWpesThH6lbICwIaAOQiZYxR6ibICwIaAOTCoAtH0TWCIKABQC70GgT0dyCgAUAutBpG6ibICwIaAORCq0ZAf8dwAloQhDNnzgS9KUEn4eBrjPseEM6ObEn4/WjUjO7ye1IdXSY2bdpktVrF5eEE9CeffNLrFJaWlmZmZqalpT3//PM8zwehjQAQfVQq/JuempubvV6vuDy0r6Oqqurpp59+9NFHA1ceOHDgxRdf3Ldv3+HDh/fv3z+k21KG97c6WH/hb/A5/b3V53q59cjC8P1Ie+jIPTtBbIw8z84IT42akTKgJfx/HL9XXnmls7PzlVdeqampoaEGNMdx48aNW7RoUeDK0tLStWvX5uXlTZo06bnnntu2bduwGwcA0QxTJK1fvz42Nnb9+vU5OTlEpBCEId9SuXPnzjfffPOzzz4TX+bk5Lz88sv3338/EZ08eXLu3LkOh8O/saz6LwAA0hqwxvCrX/1q/fr1aWlpFJS5OGw2m8lkEpfNZrPT6ezq6jIa+74jCPNyAMAN/PylT+1OT2520voVc6Rui/SCENAWi6Wzs1NcZllWo9HExMRcvxmiGQAGJJahNSqMtyMKSkBnZ2dXVlbed999RFRVVTV58uRehSREMwAMkopREpE6uodzdHf7HswYhG+hsLBw27ZtDQ0Nra2tJSUlhYWFvTbAfNAAMEjiSLtoDujZs2dv3rz51KlTFJQe9JIlS+rr6xcuXOh2ux977LF169b12gA9aAAYpLUP53V7OLNRK3VDJLNixYoVK1aIy8MZxTEka9asQUADAAwDHnkVEpFyN3z0wBmRG5yRwQhHQL/22msh7US7XK6ioqLExMScnJw9e/Zcv8GOHTsUAX73u9+FrjGi6++GB1H4z4UI8xP0p78zEurvZ5BnJNpPkxBi/9EjdId49tlnFy5cePHixU8//dRoNJ48ebLXBk8//fSaNWvqerS3t4euMZWVlU899dSYMWMWLlwYuqNErnCeC1GfZ+Tjjz9OTU09evRobW3t1KlTt27dGupmyFafZySk38/gzwhOUzgCOqSfz3GcyWT64osvxJerV6/+xS9+0WubH/zgB6+//npIm+FXUVGxefPm5cuXI6D7FM5zIerzjBQUFBQXF4vLf/zjH2fOnBnOJslKn2ckpN/P4M8ITlPEj2WxWq0sy+bl5Ykv8/Pz6+rqem1TV1e3a9eu+Pj4sWPHPv300/4xhqGQm5v7xBNPLF68OHSHiGjhPBeiPs9IbW3tjf9vJnr0eUZC+v0M/ozgNEX8RUKbzcYwjMFgEF+azWb/VKp+8fHxDz300Pnz5//6179+9NFHxcXFIWoMDEgm56LP+QkkaYnk+jwj4f9++jwiTlPEXyS0WCwcxzmdTvEly7IWi6XXNp9//vkvf/lLs9l80003/ed//uf+/ftD1BgYkEzOxSDnJ4gGfZ6R8H8/fR4RpynkAR3qQdApKSkmk6myslJ8WVVVlZ2dHbhBY2Pjjh07/Nd/GYaJtnMsH/I5F+L8BOJyn/MTRIn+zkj4v58+j4jTFPKLhGGwbt26goKCrq6uY8eOWSyWo0ePCoJw7ty5vXv3CoLAsmxCQsKvf/1rm8124sSJmTNnvvrqq6Fu0uuvv46LhNeT5FyIep2Rd999d8KECRcuXGhpaZkzZ84rr7wSnmbITX9nJAzfz2DOCE7TaAhop9O5evXq5OTkKVOmvPXWW+LKN954Q6fTicunT59evHix2WzOzMzctGkTz/OhbhICuj/hPxei689ISUnJxIkTx44d+8wzz3AcF55myFB/ZyTU388gz0iUn6aQ3+oNAADDE/HD7AAARisENACATCGgAQBkCgENACBTCGgAAJn6/2RMQzS9nSMiAAAAAElFTkSuQmCC\"></div><div class=\"grid-item\"><img alt=\"Output\" src=\"data:image/png;base64,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\"></div><div class=\"grid-item\"><img alt=\"Output\" src=\"data:image/png;base64,iVBORw0KGgoAAAANSUhEUgAAAeAAAAE1CAIAAACwRaReAAAAzXpUWHRSYXcgcHJvZmlsZSB0eXBlIGV4aWYAAHjabU/bDcMgDPxnio7gF2cYhzRE6gYdvyYkqqh6Er7z+YGc+vt1pMeAMCXLXlABCli1Ki1EoYnJTPWMJ/qtePWT5im5BedvAX0yb6vvmCzlZxHJFDp+CK12DVyLVKbPbebb1S+tlHWR0gLcgv/npi7IYLeIJuSOGrqkkEHIQtlx4AlEI2MXsmdwh3uMwUeHtjE4IN3X7p6gYezjBB0vawvWiKxxVcQaOp++qMl2Vc9D0gdVP1q5StS7QAAAAAlwSFlzAAAOxAAADsQBlSsOGwAAADx0RVh0U29mdHdhcmUAQ3JlYXRlZCB3aXRoIHRoZSBXb2xmcmFtIExhbmd1YWdlIDogd3d3LndvbGZyYW0uY29tXKKmhQAAACF0RVh0Q3JlYXRpb24gVGltZQAyMDI1OjAzOjEzIDE5OjU1OjI0G2JjCgAAIABJREFUeJzt3X1QVOe9B/Afr4vysrC6ICDyZogromJEW2LSxNqog4ZUQYyNSUptIHOHxGA7prm5JSbkOok22DskNm1uYq/O1Jo0XmATFaMR9dZEJVo2BoRVBEQIiyC7Iq/LuX+c5eyynEUNHPZZz/czjPPssw/L7wT3m8dnn3OOG8dxBAAA7HF3dgEAACAOAQ0AwCgENAAAo6QKaIPB8MUXXxDRvn37vv76a5PJpNVqJfpZAAD3JKkCes+ePbNnzyYio9HY1dXl7+/f3Nx88eJFiX4cAMC9x1OKF62urvb29g4ODi4qKjp//vyFCxdu3br16KOP7t+///7775fiJwIA3HtGG9CNjY179+5dunTpoUOHbty4ER4evmHDhlOnTiUmJhJRamqqwWCYPn36I488QkTNzc3Xr1+fNGnS6OsGALjnjWqJw2g0FhYWrl69ure3l+O4N954o729/dy5cxcvXoyKiho+Pjo6urq6ejQ/EQBAPkYV0MeOHZszZ05UVFR1dfXMmTOJyMvLy2w2t7e3+/n5DR+vVCrb2tpG8xMBAORjVAF97dq1kJAQItLr9dOnT29tbW1sbExISHB3dzebzcPHDwwMeHh4jOYnAgDIx6gCOjw8/MyZM0ajsbm52cvLa+fOnevWrfP19Z00aVJ7e7swrKenh2/cuHFDrVaPql4AANkYVUAvXbo0PDz8jTfeICKtVvvUU08lJSUR0axZs/R6PT8mISHh0KFDWq12YGCgrq5Oo9GMvmgAADlwG/3FkkpKSrq7u9PT04Wepqamjz766JVXXrEdVlFRcfbs2czMzFH+OAAAmRiDE1UuXbo0ffp0257Q0NDQ0FC7DRtlZWUrVqwY/Y8DAJCJMZhBi+rq6rpw4cL8+fP5hyaT6dKlS3PnzpXiZwEA3JOkCmgAABglXM0OAIBRCGgAAEYhoAEAGIWABgBgFAIaAIBRCGgAAEYhoAEAGCVVQGdlZUn0ygAAMoEZNAAAoxDQAACMQkADADAKAQ0AwCgENAAAoyQMaGzkAAAYDQkD+v3335fuxQEA7nlY4gAAYBQCGgCAUQhoAABGIaABABiFgAYAYBQCWvY++oiKipxdBACIQEDL28AAbd1KTzxBf/yjs0sBAHs4UUXezp+nmhoioo0bnV0KANjDiSryVllpbXOc8+oAABFY4pC3ujpr+9Yt59UBACIQ0PL2/ffW9vXrzqsDAETcJqCNRmNTU9P4lAJOYDBY2yaT8+oAABG3CeitW7f++c9/Fn2qrKwsMTExKChozZo1bW1tEtQG0mtttbZv3nReHQAgwmFAf/bZZ7/85S+3b98u+uz169dTU1NffvnlyspKDw+P559/XrIKQUodHdZ2Z6fz6gAAEZ6OnuA4bu7cuTqdTvTZXbt2JSUlZWRkENHbb78dExPT0tISHBwsVZkgEduA7u52Xh0AIMJhQK9YsYKIzp49K/psTU1NYmIi346IiAgMDLxy5QoC2vUYjdZ2T4/z6gAAEQ4DemQGg2Hq1KnCQ6VS2dLSYjdGOFEFG6LZZRvQmEEDMOYHBrRKpTLZfOhvNBpVKpXdGOQy6wYGhqw7I6ABGPMD90HHxcVVVFTw7ebm5vb29tjY2LGrCsaF3baN3l4n1QEA4u4uoLVabWVlJRGtX7/+5MmTR44c6enp2bJlS0pKSkhIiDQVgmTsNj739TmpDgAQd3cBnZOTU1xcTERTpkzZv39/bm5ueHh4S0vLRx99JE15ICW7c7sxgwZgzG3WoHfv3m37sLa2VmgvWbLkX//6lyRFwfiw2/iMGTQAY3AtDhnDDBqAbQhoGevqGvIQAQ3AGAS0jNnNoLHEAcAY3FFFxuxm0Gazk+oAAHG4o4qM2QV0f7+T6gAAcVjikDG7JQ7MoAEYg4CWMSxxALANAS1jmEEDsA0BLWN2V0dCQAMwBgEtY3YXgEZAAzAGAS1jmEEDsA0BLWMIaAC24UQVGbNb4sA+aADG4EQVGbMLaI5zUh0AIA5LHDLGB7SHh+XhwIATawGA4RDQMsYH9IQJlocIaADGIKBljA9ohcIyiUZAAzAGAS1jQkC7uxMhoAGYg4CWMQQ0ANsQ0DLG74P29rYENHZxADDmNjeNhXuZfGbQAwPU10dmM/X3W7/6+qi/n8xmy1MDAzQwYH12YIA4zjKA/3NggMxmMpuJ44jjrN9i+xTfY/vFcfZt/tsdNUSHiT5l+0Uk0in6NfLI4c8Sif95t9/i6HV+8FM/ePDdDhuZ3YHb+u//ptWrb/8KI5IwoLOysrAVmml8QHt5OT+gBwaos5M6Oshkos5OunmTbt6kri7q7KRbt6izk3p66NYt6uqiri7q7qbuburpob4+6umxfPX2Ul+fpae3l3p7Lcnb14d7LYJzjMU95CQMaKQz6/jkknoG3dtL165RQwM1NdH331NLCxkM1NpKbW3U1kYdHXT9OplMkvxomXNzI3d3cnOzfLm7W/uH/yl82T0c4Uv4dkevafeno1cW+kf4rrv6ESP/N7nbgkceMIKQkNuPuR0sccgYH9DCGvToA5rj6MoV+te/6LvvqKqK9Hqqq6OmJklWt93cyMeHvL3Jy4sUCvL2Jm9vy/9sfHzIy4u8vCydHh7k6Umenpan+LanJ3l4kIcHeXlZB/A9/Je7u7XHzc3aKfzp5jZkgLu7JQ35AcJDu36hR+i3i1G72LJ9HUcj7WJOGAOuDwEtY2MS0GYznT5NR47QyZN0+jS1t9/Rd7m5UWAgBQVRUBD5+5NKRUol+fuTvz8FBJCfH02cSL6+NGGC5c+JE0mhoAkTaMIE8vEhhYK8vJBBcM9DQMvYaAKa4+j//o/++lf63/+l1lbxMZMmUVQURUbStGkUEUFhYRQSQmo1BQfTpEnWU8wBwAGHAd3Q0PDrX//61KlT8fHxf/rTn2bPnm03YNeuXW+++WZzc/OCBQvefffdGTNmSFwqjCmOs3yIwf/bn+54m93AAO3bR2+9RefP2z81fz7NnUsPPEAJCaTRkEo1phUDyI7DfdAZGRkJCQl6vT4tLS0lJaVv6CeS33zzzYYNG7Zu3XrhwoXIyMj09HTpS4UxJfxCJ0y4i1O9z5+nhQvpySet6axW07/9Gx04QDdv0pkz9Je/UHY2Pfgg0hlg9MQDury8XKfT5efnq9Xq3NxchUJRUlJiNyA+Pj4tLW3atGkbN2789ttvb9ndgRQYJwT0HS5xcBz913/RggV09qyl5/HH6ehRam6mwkJatox8faUsF0COxAO6pqZGo9EoFAr+YWJiol6vtx3w4IMP6vX64uLi5ubm9957Lzk5eeLEiZIXC2NI2B3s7W1Z3BjhjiocR5s20YsvWmL9oYdIp6OiInr0UevmLQAYa+Jr0AaDISAgQHioVCpbWlpsB8ycOXPjxo2pqalE5O3t/c033wx/EeGOKtgQzSIhoBUK8vQkGnENessWKiiwtP/4R8rJwQ4KgHEgHtAqlcpkc+6A0WiMiYmxHfDBBx8cOnTo66+/njFjRlFR0U9/+lOdTqdWq23HIJeZZrvEwaeto4AuLqYtWyxtrZZSUqQvDgCIHC1xxMXFVVVV9Q5OsnQ6XVxcnO2ATz/9dN26dQsWLAgICFi/fn1wcPCxY8ekrhXGku0SxwgB3d5Ov/61pb13L9IZYDyJB3RSUlJ0dPS2bdv6+/v37NnT1ta2cuVKItJqtZWVlUS0ePHiv/71rydOnGhpafnLX/5SV1eXlJQ0roXDKAkBLZzxIRrQr79O/OrW889TRsZ4FQcARCPsgy4qKsrMzHznnXfuu+++0tJS/gPDnJyc7OxsjUaTm5vb3d399NNPGwyG2bNnFxcXR0VFjV/VMHp3MoNuaqL33iMiCgqit94ax+IAgGiEgI6MjDxy5IhdZ21tLd9wd3d/9dVXX331VQlLA0ndyQz63Xctw/7jP8jffxyLAwAiXLBfvobPoO32QZvN9OGHREReXjS4IQcAxhMCWq5uO4M+fpyamoiIMjMJm9wBnAEBLVe3Dej9+y2N9evHsSwAsJIwoLPw72KWCfugHQX0gQNERP7+9KMfjW9lAGAhYUDjRBWmjTyDbmgg/uT+lStxXVAAZ8ESh1yNfCbhiROWxqJF41sWAFghoOVq+BKH7S6OM2csjYceGt+yAMAKAS1XI69B81e/UihIoxn3ygDAAgEtVyMENMdRRQUR0ezZWIAGcCIEtFyNsAZ97RrduEFENGuWMyoDAAsEtFyNMIOuqrI0cJ9JAKdCQMvVCDNo4e45M2eOe1kAYIUTVeRqhIC+fNnSiI0d97IAwAonqsjVCNvs6uosjejocS8LAKywxCFXI6xB19cTEYWEkI+PMyoDAAsEtFyNsMRx9SoRUXi4M8oCACsEtFw5mkH399O1a0REERFOqgwALBDQciUEtKfnkIA2GMhsJiKaMsVJlQGABQJarhzNoJubLf1hYc4oCwCsENByNfxyo/wuDv4e3kQUHOyMsgDACgEtV45m0AaDpT8kxBllAYAVTlSRK0cB3dpq6Z80yRllAYAVTlSRKyGgPTzEA3ryZGeUBQBWWOKQKz6g+S0ctgHd1mYZgIAGcDYEtFzxAe3lRURDArq93TIgKMgpdQGAAAEtVyMHtJ+f5SkAcB6HAd3Q0LBs2TKlUpmcnFzB319jqNra2uXLlwcGBs6bN++rr76SskiQAL/NbnhA85fqDwx0Vl0AIHAY0BkZGQkJCXq9Pi0tLSUlpU/4TImIiDo7Ox9++OHU1NTq6urVq1enpqb2CvtqwSUMn0HzOjqIiJRKZ9QEAEOIB3R5eblOp8vPz1er1bm5uQqFoqSkxHbAhx9+qNFosrOzg4ODX3nlld27dyOgXYxtQPP4GTQCGoAZ4gFdU1Oj0WgUCgX/MDExUS/cZYOIiL766quwsLDly5crlcr58+f7+Pj4+flJXiyMof5+IrEZtNFIRBQQ4IyaAGAIT9Feg8EQYPMWVSqVLcIZwERE1NnZefjw4b///e9/+9vfdu3a9fjjj9fU1KjVatsxwokq2BDNIn4G7e1t7eE4Mpups5MIAQ3ABPGAVqlUJpNJeGg0GmNiYmwHTJ48ee3atStWrCCinJycN998s6ysLC0tzXYMcplpors4bt60POvv76SyAMBKfIkjLi6uqqpKWFbW6XRxcXG2A6ZPny486+HhERgY6IO7b7gW2xm0sMQhBDQWrAAYIB7QSUlJ0dHR27Zt6+/v37NnT1tb28qVK4lIq9VWVlYS0TPPPFNcXFxcXGwymd555x1+U8e4Fg6jJPohIWbQACxxuM2uqKjo6NGjISEhhYWFpaWl/AeGOTk5xcXFRBQaGrp///68vLywsLDi4uKDBw8GYNXStYhus8MMGoAl4mvQRBQZGXnkyBG7ztraWqG9ePHic+fOSVUXSE10Bs1/QkhEvr5OKAkAhsKp3nIl+iHhrVuWZxHQAAxAQMvV8FO9iawz6IkTnVETAAyBgJYr0SUOYQaNgAZgAO6oIktms+UOhHYzaCGgJ0xwRlkAMATuqCJLtve7Eth+SIgZNAADsMQhS8KVrTw9icQ+JMQMGoABCGhZEmbQdmcSdnVZGghoAAYgoGXJ0RJHd7eljSUOAAYgoGUJM2gAV4CAlqXbzqAR0AAMQEDLkqMZtBDQuDYhAAOwD1qWHM2ge3qIiDw8LLs7AMCpsA9aluwCWthmxwf04K3OAMC5sMQhSyMvcWB9A4ANCGhZGnmJAzNoADYgoGVJdImDBmfQCGgANiCgZcluiYMnzKBtOwHAeRDQsuToQ0LMoAFYgoCWJeFiSXZLHJhBA7AEAS1LQkDbLXHw/ZhBA7ABJ6rIkqMZNAIagCU4UUWWRp5BY4kDgA1Y4pAlzKABXAECWpYQ0ACuAAEtS3YBbQdLHABscBjQDQ0Ny5YtUyqVycnJFRUVjobV1dUFBgZeunRJmvJAGsI+aH6yLMygeaKpDQDjzmFAZ2RkJCQk6PX6tLS0lJSUPuEtbcNsNq9bt66jo0PKCkECmEEDuALxgC4vL9fpdPn5+Wq1Ojc3V6FQlJSUDB+2ZcuW+Ph4iSsECdjt4sAMGoBJ4gFdU1Oj0WgUgx8WJSYm6vV6uzHHjx//5JNPCgoKpC0QpCB6NTsBAhqADeI3zjAYDAEBAcJDpVLZ0tJiO6C9vT0zM3Pfvn2+vr6OXlo4UQUbopnjaBcHD0scAGwQD2iVSmUymYSHRqMxJibGdkB2dvaGDRvmzJljNpuJqL+/n+M4t6Hvc+Qyu4SAxoeEAAwTX+KIi4urqqrqHXwb63S6uLg42wH//Oc/f/e733l6enp6ehLRjBkzXn/9dalrhTHDXxSJHGx5RkADsEE8oJOSkqKjo7dt29bf379nz562traVK1cSkVarraysJKKGhgZuEBHp9fq8vLzxrBtGZeQPCXHHWAA2ONxmV1RUdPTo0ZCQkMLCwtLSUv4Dw5ycnOLi4nEsD6SBGTSAK3A4V4qMjDxy5IhdZ21t7fCR/CQaXAk/g3Z3Jw8PIqxBAzAKp3rLkt01N7DEAcAkBLQsjXznFMygAdiAgJYlu+s+YwYNwCTcUUWW+Bm0o8uKYgYNwAbcUUWWMIMGcAVY4pAluzVo7OIAYBICWpZGXuLADBqADQhoWeID2sfH8hBLHABMQkDLEmbQAK4AAS1LdgFtN4PmTy8EAGdDQMvSyAGN60EDsAEBLT8DA5Y7qghr0HawxAHABpyoIj/CpezwISEA23Ciivx0d1saOJMQgG1Y4pAfIaAxgwZgGwJafuxuSEgIaABGIaDlRwjoCRPEByCgAdiAgJaf2y5xYA0agA0IaPnp6rI0HM2gcaIKABsQ0PIjBDQ+JARgGwJafoQlDqxBA7ANJ6rIz61bloYQ0LgWBwCTcKKK/Axfg8YSBwCTsMQhP/iQEMBFIKDlRwjoiRMtDSxxADAJAS0/whq0ENB2sMQBwAaHAd3Q0LBs2TKlUpmcnFxRUTF8wMcffzxv3jw/P7/58+cfO3ZMwhphbA0PaMygAZjkMKAzMjISEhL0en1aWlpKSkoffwXhQSdPnszMzMzLy6uurk5PT09NTW1qapK+WhgL2MUB4CLEA7q8vFyn0+Xn56vV6tzcXIVCUVJSYjtAq9WuWrUqNTU1LCxs8+bNoaGhp06dGpeCYdQ6Oy0NX1+RZ93d7fMaAJxEfLWxpqZGo9EoBq92lpiYqNfrbQds2rTJ3d0S7g0NDbW1tUlJSZIWCmNmeEDbJjKmzwDMEA9og8EQEBAgPFQqlS0tLbYD1Go13/j888+zs7Pz8vIiIiLsXkQ4UQUbotkiLHGI3vIKAQ3ADPGAVqlUJpNJeGg0GmNiYuzG1NfXZ2Vl1dfXv//++8uXLx/+IshlRt28SUTk60uD/wbCDBqATeJr0HFxcVVVVb2DFw7W6XRxcXG2AxobGxctWvSjH/2ooqJCNJ2BXXxA+/lZe2wDGnvsAJghHtBJSUnR0dHbtm3r7+/fs2dPW1vbypUriUir1VZWVhLRjh074uPjn3322atXr9bV1dXV1d0S/uEMjOMD2t9f/FnMoAGY4XCbXVFR0dGjR0NCQgoLC0tLS/kPDHNycoqLi4no7NmzBw8ejLJx4MCB8asaRoNfvHI0g0ZAAzDD4b9nIyMjjxw5YtdZW1vLN7788ksJiwJJDV/isIWABmAGTvWWn44OIsygAVwAAlpmzGbLxZJs16AR0ABMQkDLDL++QY6XOLCLA4AZuKOKzPDrG4QlDgAXgDuqyIwQ0IGB4gMwgwZgBpY4ZEYIaKXS2okZNACTENAyc+OGpWE7g0ZAAzAJAS0z7e2WBpY4AJiHgJYZIaBVKmsnZtAATEJAy0xbm6URFCQ+AAENwAwEtMwIAT1pkrUTV7MDYBICWmZaWy0N24C2hRk0ADNwoorMXL9ORDRxovWW3oQ1aABG4UQVmWluJiIKDh7SiYAGYBKWOGSGv7fklCkOByCgAZiBgJYTs1k8oDGDBmASAlpOWlpoYICIKCTE4Rh3/JUAYAXejXJy9aqlER4+pB8zaAAmIaDlpKHB0oiIGNKPgAZgEgJaTq5csTTsAtoWAhqAGQhoOamrszSioob0YwYNwCScqCInNTVERJ6eNG2awzEIaABm4EQVOamqIiKKjiYvryH9mEEDMAlLHLLR2WlZg46Pt3/KNqCxzQ6AGXg3ysaFC8RxRESzZo00DDNoAGYgoGXjq68sjXnz7J/CEgcAkxDQd8G1P/Y8ftzSWLDAttv+oO6JgHbt35QDOChXMcqDeuutt1r4SzIgoOWC4+joUSKimBj70wgJM2gAhrS2tvb39/Nt5wf0nf/fxrkj7wpzB/XVV5a7ES5bJvINd/YhodP/+0vxy8JBjfnIux085q8pUanjM9kvKCgwmUwFBQVVVVVEJM39jdatI39/y4dRbm7k7j4kAgR854IFNG+epS06TPDAA5SUZB1m9y38T+EfxsfTokX23+7hYf/6bm4UF0dLljgc5uZmmVHyLz5lCj3xhGUA/yd/dJ6e5OFhGcO3iWjTJvL0JIXC0qNQkJcXeXuTjw8pFOTjQxMmWK6af+EC+fmRnx/5+5O390j/BX6wnTstjSeeuM1IzKABnOell1767W9/+9JLL4WFhRGRG8d/sv+D3JPrRwAA0rntCSK2AT2qGbTDn5SRkRUY+H5ZmbWH46xft8WPufM/7b53hB/E9/OX3LQ1MDCkk+PIbLZ/SugUfYVx4+lJkZEUG0vTp5NGQxoNzZxJU6Y4/MdHXx/Nm0fffktEVFBAGzeKjHn9dcrLs7R/9zv6z/+UpnQAuDvSLHH8/e+UlWU5b+1exee1kNpmM/X3k9lsafBtvtHfT7291NdHPT3Wr+5u6uqi7m7q7KRbt6izk27epI4Oam8no5GuX6cbN8hgEPnfTH8/XbpEly5Raam1MyiIEhJoxgyaOZNmzKCICFKpqLubTpyg55+nzk4iohkz6PnnxY8FJ6oAMEmagJYDfrmZyP606THEcXTjBn3/PTU1UVMTNTZSfT1dvkxXrpBeT7291pHt7XT8uHUj3XAqFX38MSkU4s9iFwcAS3p6evgGApphbm4UFERBQTRjhv1TAwNUX09VVVRVRTodXbhA331HJpP46zz4IH34IcXF3dEPRUADONUDDzywY8eO7OxsjUaDgHZN7u4UFUVRUdZtcxxHV67QxYuk11NjI3V0kIcHRUTQo4/S/Pm32R6DGTQAM9auXbt27Vq+jYC+V7i5UXQ0RUf/wO8VIKABmIFPhOSC47jq6mrx51w2oEc6KADXh4B2KCwszG1QUFAQ39nQ0LBs2TKlUpmcnFxRUeHcCu9KaWmp3b71wsLCmJiYsLCwfz98WNg2WHblSmJiYlBQ0Jo1a9ra2sa/zrtid1DV1dVuNn7+85/z/WVlZS5xUBzH/f73v7/vvvuUSuWKFSvqBu+AI1q/qx+US7+/Ojo6nn766cmTJ6vV6meeecY0+PGP6C9lVAfFSeO555577rnnJHrxcXDz5k03N7dvv/1Wr9fr9frLly/z/T/+8Y9/85vftLS0/OEPf5g6dWpvb69z67wTFRUVmzZtmjRp0iOPPCJ0Hjx4MDQ09JtvvqmpqdEEB79HxBG1EiknTNi7d29TU9PatWvXrFnjxLJHJnpQWq127ty5+kFNTU0cx7W2tiqVSpc4qPz8/Li4uPPnz1dVVf3iF7944IEHOAf1u/pBufr7a+PGjQ8//PDly5fPnTs3a9as3NxczvEvZTQHJWFAS/TK4+PcuXNTp0616zx79qyfn193dzf/MDY29h//+Me4l3bXzp07t2PHjoyMDNssW7FiRX5+Pt/+n4yMBCKOaDvRkvvv5zvr6+s9PT2///57J1R8B0QPqqCg4KmnnrIbuX379iVLlvBtxg9q4cKFH374Id9uamoiouvXr4vW7+oH5ervr6SkpE8++YRvv/3224sXL+Yc/E0b5UFhiUOcXq/nOC4xMdHPzy85OfnUqVNEVFNTo9FoFIO7iRMTE/V6vVPLvCNz58598cUXf/azn9l21tTUJCYm8u15U6fyh1FDlDh4u8KIiIjAwMArwo3AGSN6UHq9/sKFC9OmTQsKClq9evW1a9do6JEyflD79u3LyMjg28eOHYuNjVWpVKL1u/pBufr76/Tp06tXrx4YGLh27dqBAwceffRRcvA3bZQHhYAW19XVNWfOnN27dzc2Nj7++OMpKSkGg8FgMAQEBAhjlEqlcNlWl2N7LEofny6im0QGogD++k18v6sdoKen58KFC0+fPv3dd9+5u7vzueBCv7Vp06ZNnDixr69vx44dL7zwwrvvvksO6nf1g7o33l+ZmZnh4eHNzc0vvPACSfObQkCLW79+/WeffTZr1iylUvnyyy+rVKqysjKVSmWyORnEaDSqVConFjkatsdi7OnxJvIlUhGZbE5QdLkD3LFjx86dO6dMmRIaGlpQUHDy5MnW1lbX+q2dOHEiISHh0KFDJ06cWLp0KQ39TdFg/a5+UPfG+2vXrl2NjY0PPfSQdL8pBLS4oqKi8vJy4aGHh4evr29cXFxVVVXvYITpdLq4Ozw9jz1xcXHCB8q65ub7iNyI4ogqrl7lO5ubm9vb22NjY51X413buXNnc3Mz3/bw8HBzc/Px8bE9UsYP6vDhw2lpaVu3bj1w4MD999/Pd4rW7+oH5dLvL7PZnJ6ezq8phYWFvfjii6dPn+7t7XX0mxrVQY3hwrktV/+QcOvWrVFRUadPnzYajdu3b582bZrJZOI4bs6cOfn5+X19fbt37w4ODhbW/tn3wQcf2H6e9umnn0ZGRtbV1V2/fn1+REQBEUfUROTn4/PFF190d3dnZ2enpqY6seA7YXdQS5cuXbFixaVLl5qbm9euXbtq1SqO45qamvz8/FzioObPn//aa69dsWE2m0Xrd/WDcvX319KlS5988km9Xn/x4sVnn31GXjc7AAAFpUlEQVT24Ycf5hz/UkZzUAhocQMDA1u3br3vvvsCAgIee+yxyspKvv/KlSuLFy9WqVQLFy48f/68c4u8K3ZZxnHc9u3bo6Ojw8PDNy9ebCbiiDiiw6+8Mnv27EmTJq1ataqtrc1Z1d4hu4Pq6OjIzMwMDQ0NCQnZsGHDjRs3+P7Dhw+zf1D9/f2envZn9ra2tnIO6nfpg3L191dbW1t6enpISMjkyZOffPLJa9eu8f2iv5TRHNSoLtg/gqysrNtelxpYsWMHvfSSpb1vH6WnO7UaALCQcA0a91txGS57qjfAvU3CgMYM2mXggv0ATMK7ETCDBmAUAhqGQkADMAMBDZhBAzAKAQ0IaABGIaABAQ3AKAQ0IKABGIV90ICABmAU9kEDAhqAUVjiAAQ0AKMQ0DAUAhqAGQhoGDqDHnbtMQBwFocBfdtbhX/88cfz5s3z8/ObP3/+sWPHJKwRpIYlDgAmOQzojIyMhIQEvV6flpaWkpLS19dn++zJkyczMzPz8vKqq6vT09NTU1P5+/WCS0JAAzBJPKDLy8t1Ol1+fr5arc7NzVUoFCUlJbYDtFrtqlWrUlNTw8LCNm/eHBoayt+XF1wSAhqASeILjre9VfimTZvcB69L2dDQUFtbm5SUJGmhICEENACTxAP6trcKV6vVfOPzzz/Pzs7Oy8uLiIiwexHhRBVsiGYdPiQEYJLnmTNn7AI0Kytr+K3CY2Ji7L6zvr4+Kyurvr7+/fffX758+fCXRi67DMygAZjkOXny5EWLFtl2TZ48mYj4W4V7e3sTkU6nW7Nmje2YxsbGRYsW/epXv9JqtR54S7s6BDQAkzyjo6Ojo6PtevnObdu2bd68ee/evW1tbStXriQirVYbGxur0Wh27NgRHx//7LPPXr16lf8WtVo9ceLE8S4fxhyWOACY4XCbXVFR0dGjR0NCQgoLC0tLS/kPDHNycoqLi4no7NmzBw8ejLJx4MCB8asaxpbtfQgR0ADMcPhujIyMPHLkiF1nbW0t3/jyyy8lLArGGQIagEk41RuGBrSXl/PqAIAhENCAGTQAoxDQMDSg3fFXAoAVuKMKDA1l2y13AOBUuKMKYNYMwCi8MwEBDcAovDMBAQ3AKLwzAad3AzAKAQ2YQQMwCu9MQEADMArvTEBAAzAK70xAQAMwCieqAAIagFE4UQUQ0ACMwjsTiLy9nV0BAIhAQAORj4+zKwAAEQhoQEADMAoBDbiCHQCjENBAJNzt97HHnFoHAAyBgAYiPz9LAwENwBIENBApFJbG1KlOrQMAhsCJKoCABmCUhHcIxYkqLsPdnR5/nEwmiopydikAYIVbOAMRERUVObsCALCHNWgAAEYhoAEAGOUwoBsaGpYtW6ZUKpOTkysqKhwNq6urCwwMvHTpkjTlAQDIl8OAzsjISEhI0Ov1aWlpKSkpfX19w8eYzeZ169Z1dHRIWSEAgEyJB3R5eblOp8vPz1er1bm5uQqFoqSkZPiwLVu2xMfHS1whAIBMiQd0TU2NRqNRDG6PTUxM1Ov1dmOOHz/+ySefFBQUSFsgAIBciW+zMxgMAQEBwkOlUtnS0mI7oL29PTMzc9++fb6+vo5eWjhRBRuiAQB+AM8zZ87YBWhWVpZKpTKZTEKP0WiMiYmxHZOdnb1hw4Y5c+aYzWYi6u/v5zjObehF0ZDLAACj4Xb58uWysjLbrp/85Cetra1LliwxGAze3t5EpNFo3njjjbS0NGFMRETE1atXbb/rtddey8vLG5+iAQDkwI3jONEn5s6dm56evnnz5r17927atKm+vl6hUGi12tjYWI1GM+Ql3Nz0en1sbOy4FAwAIBcOt9kVFRUdPXo0JCSksLCwtLSU/8AwJyenuLh4HMsDAJAvhzNoAABwLpzqDQDAKAQ0AACjENAAAIxCQAMAMAoBDQDAqP8HnobuiCI9ThMAAAAASUVORK5CYII=\"></div></div></div>"
      ],
      "text/plain": [
       "-Graphics-\n",
       "-Graphics-\n",
       "-Graphics-"
      ]
     },
     "execution_count": 839,
     "metadata": {
      "text/html": [],
      "text/plain": []
     },
     "output_type": "execute_result"
    }
   ],
   "source": [
    "Plot[OverHat[r][t] /. numSolution[[1]], {t, 0, 300},\n",
    "  AxesLabel -> {\"t\", \"r(t)\"},\n",
    "  PlotRange -> Full,\n",
    "  ScalingFunctions -> {\"Log\", \"SignedLog\"}\n",
    "]\n",
    "\n",
    "ParametricPlot[\n",
    "  {OverHat[r][t] Cos[\\[Phi][t]], OverHat[r][t] Sin[\\[Phi][t]]} /. numSolution[[1]],\n",
    "  {t, 0, 300},\n",
    "  AxesLabel -> {\"r_x\", \"r_y\"},\n",
    "  ScalingFunctions -> {\"SignedLog\", \"SignedLog\"},\n",
    "  PlotRange -> All\n",
    "]\n",
    "\n",
    "Plot[\\[Phi][t] /. numSolution[[1]], {t, 0, 300},\n",
    "  AxesLabel -> {\"t\", \"φ(t)\"},\n",
    "  PlotRange -> Full,\n",
    "  ScalingFunctions -> {\"Linear\", \"Linear\"},\n",
    "  PlotStyle -> Red\n",
    "]"
   ]
  },
  {
   "cell_type": "markdown",
   "metadata": {},
   "source": [
    "# Потеря энергии за один период обращения"
   ]
  },
  {
   "cell_type": "markdown",
   "metadata": {},
   "source": [
    "Энергию гравитационного излучени невозможно локализовать в области меньше длины одной волны.\n",
    "\n",
    "Поэтому мгновенные изменения энергии и момента не имеют физического смысла.\n",
    "\n",
    "Однако, если мы просуммируем энергию и момент по полному периоду обращения, то с такими величинами можно работать.\n",
    "\n",
    "Рассчитаем в **нулевом приближении**, сколько энергии уносится из системы\n",
    "\n",
    "гравитационными волнами за один полный оборот, интегрируя по ньютоновской гиперболической траектории\n",
    "\n",
    "начиная с момента, когда тело \"бесконечно\" далеко, до момента минимального сближения и обратно:\n",
    "$$\n",
    "\\Delta \\hat{E} = 2 \\epsilon_G \\int\\limits_{\\hat{t}_{\\text{min}}}^{\\infty}I_E(\\hat{t}) d \\hat{t}.\n",
    "$$"
   ]
  },
  {
   "cell_type": "markdown",
   "metadata": {},
   "source": [
    "В приближении Ньютона $I_J$ и $I_E$ равны нулю.\n",
    "Тогда и момент импульса и энергия сохраняются.\n",
    "\n",
    "$\\hat{J} = |\\vec{\\hat{r}} \\times \\vec{\\hat{v}}| = |\\vec{\\hat{r}}_\\infty \\times \\vec{\\hat{v}}_\\infty| = \\hat{r}\\hat{v}_\\infty \\sin(\\phi)$\n",
    "\n",
    "Так как $\\phi = \\pi/2$ на бесконечности, то $\\hat{J} = b\\hat{v}_\\infty = u$,\n",
    "то $u$ - безразмерная скорость на бесконечности.\n",
    "\n",
    "Отсюда следует, что $\\hat{\\omega} = \\frac{u}{\\hat{r}_2}$"
   ]
  },
  {
   "cell_type": "code",
   "execution_count": 551,
   "metadata": {
    "vscode": {
     "languageId": "wolfram"
    }
   },
   "outputs": [],
   "source": [
    "OmegaReplace2 = {\n",
    "   OverHat[\\[Omega]][OverHat[t]] -> u/Subscript[OverHat[r], 2][OverHat[t]],\n",
    "   Derivative[n_][OverHat[\\[Omega]]][OverHat[t]] :> u D[1/Subscript[OverHat[r], 2][OverHat[t]], {OverHat[t], n}]\n",
    "};"
   ]
  },
  {
   "cell_type": "markdown",
   "metadata": {},
   "source": [
    "Заменим переменные\n",
    "$$\n",
    "\\Delta \\hat{E} = - 2 \\epsilon_G \\int\\limits_{\\hat{r}_2^{\\text{min}}}^{\\infty}\\frac{I_E(\\hat{r}_2)}{\\hat{r}_2^{(1)}}d \\hat{r}_2,\n",
    "$$"
   ]
  },
  {
   "cell_type": "markdown",
   "metadata": {},
   "source": [
    "Здесь $\\hat{r}_2^{\\text{min}}$ - квадрат минимального расстояния между объектами:"
   ]
  },
  {
   "cell_type": "code",
   "execution_count": 553,
   "metadata": {
    "vscode": {
     "languageId": "wolfram"
    }
   },
   "outputs": [
    {
     "data": {
      "text/html": [
       "<div><img alt=\"Output\" src=\"data:image/png;base64,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\"></div>"
      ],
      "text/plain": [
       "FormBox[FractionBox[RowBox[{SuperscriptBox[\"u\", \"4\"], \"-\", \n",
       "\n",
       " \n",
       ">         RowBox[{\"2\", \" \", SqrtBox[RowBox[{SuperscriptBox[\"u\", \"4\"], \"+\", \"1\"}]]}],\\\n",
       " \n",
       ">    \"+\", \n",
       "      \"2\"}], SuperscriptBox[\"u\", \"4\"]], TraditionalForm]\n"
      ]
     },
     "execution_count": 553,
     "metadata": {
      "text/html": [],
      "text/plain": []
     },
     "output_type": "execute_result"
    }
   ],
   "source": [
    "rMin2[u_] := (2 + u^4 - 2 Sqrt[1 + u^4])/u^4;\n",
    "rMin2[u] // TraditionalForm"
   ]
  },
  {
   "cell_type": "code",
   "execution_count": 556,
   "metadata": {
    "vscode": {
     "languageId": "wolfram"
    }
   },
   "outputs": [
    {
     "data": {
      "text/html": [
       "<div><img alt=\"Output\" src=\"data:image/png;base64,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\"></div>"
      ],
      "text/plain": [
       "FormBox[RowBox[{FractionBox[RowBox[{\"16\", \" \", SuperscriptBox[\"u\", \"6\"]}], \n",
       "\n",
       " \n",
       ">         RowBox[{SubsuperscriptBox[OverscriptBox[\"r\", \"^\"], \"2\", \"4\"], \" \", \n",
       "\n",
       " \n",
       ">           SuperscriptBox[SubscriptBox[OverscriptBox[\"r\", \"^\"], \"2\"], \"′\"]}]], \"-\", \n",
       "\n",
       " \n",
       ">        FractionBox[RowBox[{\"40\", \" \", SuperscriptBox[\"u\", \"4\"], \" \", \n",
       "\n",
       " \n",
       ">           SuperscriptBox[SubscriptBox[OverscriptBox[\"r\", \"^\"], \"2\"], \"′\"]}], \n",
       "\n",
       " \n",
       ">         SubsuperscriptBox[OverscriptBox[\"r\", \"^\"], \"2\", \"4\"]], \"-\", \n",
       "\n",
       " \n",
       ">        FractionBox[RowBox[{\"4\", \" \", SuperscriptBox[\"u\", \"2\"], \" \", \n",
       "\n",
       " \n",
       ">           SuperscriptBox[RowBox[{\"(\", \n",
       "\n",
       " \n",
       ">              SuperscriptBox[SubscriptBox[OverscriptBox[\"r\", \"^\"], \"2\"], \"′′\"], \")\"}], \n",
       "\n",
       " \n",
       ">            \"2\"]}], RowBox[{SubsuperscriptBox[OverscriptBox[\"r\", \"^\"], \"2\", \"2\"], \" \", \n",
       "\n",
       " \n",
       ">           SuperscriptBox[SubscriptBox[OverscriptBox[\"r\", \"^\"], \"2\"], \"′\"]}]], \"+\", \n",
       "\n",
       " \n",
       ">        FractionBox[RowBox[{\"24\", \" \", SuperscriptBox[\"u\", \"2\"], \" \", \n",
       "\n",
       " \n",
       ">           SuperscriptBox[SubscriptBox[OverscriptBox[\"r\", \"^\"], \"2\"], \"′\"], \" \", \n",
       "\n",
       " \n",
       ">           SuperscriptBox[SubscriptBox[OverscriptBox[\"r\", \"^\"], \"2\"], \"′′\"]}], \n",
       "\n",
       " \n",
       ">         SubsuperscriptBox[OverscriptBox[\"r\", \"^\"], \"2\", \"3\"]], \"+\", \n",
       "\n",
       " \n",
       ">        FractionBox[RowBox[{\"4\", \" \", SuperscriptBox[\"u\", \"2\"], \" \", \n",
       "\n",
       " \n",
       ">           SuperscriptBox[SubscriptBox[OverscriptBox[\"r\", \"^\"], \"2\"], \"′′′′\"]}], \n",
       "\n",
       " \n",
       ">         RowBox[{SubscriptBox[OverscriptBox[\"r\", \"^\"], \"2\"], \" \", \n",
       "\n",
       " \n",
       ">           SuperscriptBox[SubscriptBox[OverscriptBox[\"r\", \"^\"], \"2\"], \"′\"]}]], \"-\", \n",
       "\n",
       " \n",
       ">        FractionBox[RowBox[{\"11\", \" \", SuperscriptBox[\"u\", \"2\"], \" \", \n",
       "\n",
       " \n",
       ">           SuperscriptBox[RowBox[{\"(\", \n",
       "\n",
       " \n",
       ">              SuperscriptBox[SubscriptBox[OverscriptBox[\"r\", \"^\"], \"2\"], \"′\"], \")\"}], \n",
       "\n",
       " \n",
       ">            \"3\"]}], SubsuperscriptBox[OverscriptBox[\"r\", \"^\"], \"2\", \"4\"]], \"-\", \n",
       "\n",
       " \n",
       ">        FractionBox[RowBox[{\"12\", \" \", SuperscriptBox[\"u\", \"2\"], \" \", \n",
       "\n",
       " \n",
       ">           SuperscriptBox[SubscriptBox[OverscriptBox[\"r\", \"^\"], \"2\"], \"′′′\"]}], \n",
       "\n",
       " \n",
       ">         SubsuperscriptBox[OverscriptBox[\"r\", \"^\"], \"2\", \"2\"]], \"+\", \n",
       "\n",
       " \n",
       ">        FractionBox[SuperscriptBox[SubscriptBox[OverscriptBox[\"r\", \"^\"], \"2\"],\\\n",
       " \n",
       ">    \"′′′′′\"], \n",
       "      \"3\"]}], TraditionalForm]\n"
      ]
     },
     "execution_count": 556,
     "metadata": {
      "text/html": [],
      "text/plain": []
     },
     "output_type": "execute_result"
    }
   ],
   "source": [
    "(* Минус учтём сразу *)\n",
    "dEdr = Simplify[-dEdt/D[Subscript[OverHat[r], 2][OverHat[t]], OverHat[t]] //. OmegaReplace2];\n",
    "Expand[Simplify[dEdr]] // TraditionalForm"
   ]
  },
  {
   "cell_type": "markdown",
   "metadata": {},
   "source": [
    "<span style=\"color:brown\">**NB:**</span> Выражение для $dE/dr$ <span style=\"color:green\">**сопадает**</span> с выраженем для интегранта из binary_catch1.pdf, если учесть деление на $\\hat{r}_2^{(1)}$"
   ]
  },
  {
   "cell_type": "markdown",
   "metadata": {},
   "source": [
    "Из сохранения энергии следует, что\n",
    "$\\hat{E} = \\hat{E}_\\infty = \\frac{u^2}{2} = \\left(\\frac{(\\hat{r}^{(1)})^2}{2} + \\frac{\\hat{r}^2 \\hat{\\omega}^2}{2} - \\frac{1}{\\hat{r}}\\right)$\n",
    "\n",
    "Тогда можно найти $\\hat{r}_2^{(1)}$:"
   ]
  },
  {
   "cell_type": "code",
   "execution_count": 559,
   "metadata": {
    "vscode": {
     "languageId": "wolfram"
    }
   },
   "outputs": [
    {
     "data": {
      "text/html": [
       "<div><img alt=\"Output\" src=\"data:image/png;base64,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\"></div>"
      ],
      "text/plain": [
       "FormBox[RowBox[{RowBox[{\"-\", \"2\"}], \" \", \n",
       "\n",
       " \n",
       ">        SqrtBox[RowBox[{RowBox[{SubscriptBox[OverscriptBox[\"r\", \"^\"], \"2\"], \" \", \n",
       "\n",
       " \n",
       ">             SuperscriptBox[\"u\", \"2\"]}], \"+\", \n",
       "\n",
       " \n",
       ">           RowBox[{\"2\", \" \", SqrtBox[SubscriptBox[OverscriptBox[\"r\", \"^\"], \"2\"]]}],\\\n",
       " \n",
       ">    \"-\", \n",
       "        SuperscriptBox[\"u\", \"2\"]}]]}], TraditionalForm]\n"
      ]
     },
     "execution_count": 559,
     "metadata": {
      "text/html": [],
      "text/plain": []
     },
     "output_type": "execute_result"
    }
   ],
   "source": [
    "eq = Energy - u^2/2 //. Flatten[{\n",
    "  ToR2Replacement,\n",
    "  OmegaReplace2,\n",
    "  D[Subscript[OverHat[r], 2][OverHat[t]], OverHat[t]]^2 -> x^2\n",
    "}];\n",
    "\n",
    "sol = Solve[eq == 0, x][[1]];\n",
    "\n",
    "x /. sol[[1]] // TraditionalForm"
   ]
  },
  {
   "cell_type": "markdown",
   "metadata": {},
   "source": [
    "А также $\\hat{r}_2^{(i)}$ для $i = 1\\dots5$"
   ]
  },
  {
   "cell_type": "code",
   "execution_count": 563,
   "metadata": {
    "vscode": {
     "languageId": "wolfram"
    }
   },
   "outputs": [
    {
     "data": {
      "text/html": [
       "<div><img alt=\"Output\" src=\"data:image/png;base64,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\"></div>"
      ],
      "text/plain": [
       "FormBox[RowBox[{\"{\", RowBox[{RowBox[{RowBox[{\"-\", \"2\"}], \" \", \n",
       "\n",
       " \n",
       ">            SqrtBox[RowBox[{RowBox[{SubscriptBox[OverscriptBox[\"r\", \"^\"], \"2\"], \" \", \n",
       "\n",
       " \n",
       ">                 SuperscriptBox[\"u\", \"2\"]}], \"+\", \n",
       "\n",
       " \n",
       ">               RowBox[{\"2\", \" \", SqrtBox[SubscriptBox[OverscriptBox[\"r\", \"^\"], \"2\"]]}],\\\n",
       " \n",
       ">    \n",
       "            \"-\", SuperscriptBox[\"u\", \"2\"]}]]}], \",\", \n",
       "\n",
       " \n",
       ">          RowBox[{\"2\", \" \", RowBox[{\"(\", \n",
       "           RowBox[{FractionBox[\"1\", \n",
       "\n",
       " \n",
       ">                 SqrtBox[SubscriptBox[OverscriptBox[\"r\", \"^\"], \"2\"]]], \"+\", \n",
       "\n",
       " \n",
       ">                SuperscriptBox[\"u\", \"2\"]}], \")\"}]}], \",\", \n",
       "\n",
       " \n",
       ">          FractionBox[RowBox[{\"2\", \" \", \n",
       "\n",
       " \n",
       ">             SqrtBox[RowBox[{RowBox[{SubscriptBox[OverscriptBox[\"r\", \"^\"], \"2\"], \" \", \n",
       "\n",
       " \n",
       ">                  SuperscriptBox[\"u\", \"2\"]}], \"+\", \n",
       "\n",
       " \n",
       ">                RowBox[{\"2\", \" \", SqrtBox[SubscriptBox[OverscriptBox[\"r\", \"^\"], \n",
       "\n",
       " \n",
       ">                    \"2\"]]}], \"-\", SuperscriptBox[\"u\", \"2\"]}]]}], \n",
       "\n",
       " \n",
       ">           SubsuperscriptBox[OverscriptBox[\"r\", \"^\"], \"2\", RowBox[{\"3\", \"/\", \"2\"}]]], \n",
       "\n",
       " \n",
       ">          \",\", FractionBox[RowBox[{\"2\", \" \", \n",
       "\n",
       " \n",
       ">             RowBox[{\"(\", RowBox[{RowBox[{\"2\", \" \", \n",
       "\n",
       " \n",
       ">                   SubscriptBox[OverscriptBox[\"r\", \"^\"], \"2\"], \" \", \n",
       "\n",
       " \n",
       ">                   SuperscriptBox[\"u\", \"2\"]}], \"+\", \n",
       "\n",
       " \n",
       ">                 RowBox[{\"5\", \" \", SqrtBox[SubscriptBox[OverscriptBox[\"r\", \"^\"], \n",
       "\n",
       " \n",
       ">                     \"2\"]]}], \"-\", RowBox[{\"3\", \" \", SuperscriptBox[\"u\", \"2\"]}]}],\\\n",
       " \n",
       ">    \")\"}\\\n",
       "]}], SubsuperscriptBox[OverscriptBox[\"r\", \"^\"], \"2\", RowBox[{\"5\", \"/\",\\\n",
       " \n",
       ">    \"2\"}]]], \",\", \n",
       "       FractionBox[RowBox[{\"2\", \" \", \n",
       "\n",
       " \n",
       ">             SqrtBox[RowBox[{RowBox[{SubscriptBox[OverscriptBox[\"r\", \"^\"], \"2\"], \" \", \n",
       "\n",
       " \n",
       ">                  SuperscriptBox[\"u\", \"2\"]}], \"+\", \n",
       "\n",
       " \n",
       ">                RowBox[{\"2\", \" \", SqrtBox[SubscriptBox[OverscriptBox[\"r\", \"^\"], \n",
       "\n",
       " \n",
       ">                    \"2\"]]}], \"-\", SuperscriptBox[\"u\", \"2\"]}]], \" \", \n",
       "\n",
       " \n",
       ">             RowBox[{\"(\", RowBox[{RowBox[{\"6\", \" \", \n",
       "\n",
       " \n",
       ">                   SubscriptBox[OverscriptBox[\"r\", \"^\"], \"2\"], \" \", \n",
       "\n",
       " \n",
       ">                   SuperscriptBox[\"u\", \"2\"]}], \"+\", \n",
       "\n",
       " \n",
       ">                 RowBox[{\"20\", \" \", SqrtBox[SubscriptBox[OverscriptBox[\"r\", \"^\"], \n",
       "\n",
       " \n",
       ">                     \"2\"]]}], \"-\", RowBox[{\"15\", \" \", SuperscriptBox[\"u\", \"2\"]}]}],\\\n",
       " \n",
       ">    \")\"}\\\n",
       "]}], SubsuperscriptBox[OverscriptBox[\"r\", \"^\"], \"2\", RowBox[{\"7\", \"/\",\\\n",
       " \n",
       ">    \"2\"}]]]}], \"}\"}]\\\n",
       ", TraditionalForm]\n"
      ]
     },
     "execution_count": 563,
     "metadata": {
      "text/html": [],
      "text/plain": []
     },
     "output_type": "execute_result"
    }
   ],
   "source": [
    "replacementRule = D[Subscript[OverHat[r], 2][OverHat[t]], OverHat[t]] :> x /. sol[[1]];\n",
    "\n",
    "(* Рекурсивно вычисляем производные *)\n",
    "dr2 = NestList[\n",
    "   Simplify[D[#, OverHat[t]] /. replacementRule] &,\n",
    "   x /. sol[[1]],\n",
    "   4\n",
    "];\n",
    "\n",
    "dr2 // TraditionalForm"
   ]
  },
  {
   "cell_type": "markdown",
   "metadata": {},
   "source": [
    "Заменяя вхождение **всех** производных в выражении для $dE/dr$, получим"
   ]
  },
  {
   "cell_type": "code",
   "execution_count": 565,
   "metadata": {
    "vscode": {
     "languageId": "wolfram"
    }
   },
   "outputs": [
    {
     "data": {
      "text/html": [
       "<div><img alt=\"Output\" src=\"data:image/png;base64,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\"></div>"
      ],
      "text/plain": [
       "FormBox[FractionBox[RowBox[{\"2\", \" \", \n",
       "      RowBox[{\"(\", RowBox[{RowBox[{\"6\", \" \", \n",
       "\n",
       " \n",
       ">               SubsuperscriptBox[OverscriptBox[\"r\", \"^\"], \"2\", \"2\"], \" \", \n",
       "\n",
       " \n",
       ">               SuperscriptBox[\"u\", \"4\"]}], \"+\", \n",
       "\n",
       " \n",
       ">             RowBox[{SubscriptBox[OverscriptBox[\"r\", \"^\"], \"2\"], \" \", \n",
       "\n",
       " \n",
       ">               RowBox[{\"(\", RowBox[{RowBox[{\"51\", \" \", SuperscriptBox[\"u\", \"4\"]}], \n",
       "\n",
       " \n",
       ">                   \"+\", \"40\"}], \")\"}]}], \"+\", \n",
       "\n",
       " \n",
       ">             RowBox[{\"32\", \" \", SubsuperscriptBox[OverscriptBox[\"r\", \"^\"], \"2\", \n",
       "\n",
       " \n",
       ">                RowBox[{\"3\", \"/\", \"2\"}]], \" \", SuperscriptBox[\"u\", \"2\"]}], \"+\", \n",
       "\n",
       " \n",
       ">             RowBox[{\"100\", \" \", SqrtBox[SubscriptBox[OverscriptBox[\"r\", \"^\"], \"2\"]], \n",
       "\n",
       " \n",
       ">               \" \", SuperscriptBox[\"u\", \"2\"]}], \"-\", \n",
       "\n",
       " \n",
       ">             RowBox[{\"75\", \" \", SuperscriptBox[\"u\", \"4\"]}]}], \")\"}]}], \n",
       "\n",
       " \n",
       ">       RowBox[{\"3\", \" \", SubsuperscriptBox[OverscriptBox[\"r\", \"^\"], \"2\", \n",
       "\n",
       " \n",
       ">          RowBox[{\"7\", \"/\", \"2\"}]], \" \", \n",
       "\n",
       " \n",
       ">         SqrtBox[RowBox[{RowBox[{SubscriptBox[OverscriptBox[\"r\", \"^\"], \"2\"], \" \", \n",
       "\n",
       " \n",
       ">              SuperscriptBox[\"u\", \"2\"]}], \"+\", \n",
       "\n",
       " \n",
       ">            RowBox[{\"2\", \" \", SqrtBox[SubscriptBox[OverscriptBox[\"r\", \"^\"], \"2\"]]}],\\\n",
       " \n",
       ">    \"-\", \n",
       "         SuperscriptBox[\"u\", \"2\"]}]]}]], TraditionalForm]\n"
      ]
     },
     "execution_count": 565,
     "metadata": {
      "text/html": [],
      "text/plain": []
     },
     "output_type": "execute_result"
    }
   ],
   "source": [
    "dEdrFinal = Fold[ (* Последовательно применяем замены *)\n",
    "  Simplify[#1 /.\n",
    "    D[Subscript[OverHat[r], 2][OverHat[t]], {OverHat[t], #2}] -> dr2[[#2]]] &,\n",
    "  dEdr,\n",
    "  Range[5]\n",
    "];\n",
    "\n",
    "Simplify[dEdrFinal] // TraditionalForm"
   ]
  },
  {
   "cell_type": "markdown",
   "metadata": {},
   "source": [
    "$$\n",
    "  \\Delta \\hat{E}(u) = \\epsilon_G \\frac{4}{3}\\int\\limits_{\\hat{r}_2^\\text{min}}^\\infty \\frac{32 \\hat{r}_2^{3/2} u^2+6 \\hat{r}_2^2 u^4+\\hat{r}_2 \\left(51 u^4+40\\right)+100 \\sqrt{\\hat{r}_2} u^2-75 u^4}{\\hat{r}_2^{7/2} \\sqrt{\\hat{r}_2 u^2+2 \\sqrt{\\hat{r}_2}-u^2}} \\, d\\hat{r}_2,\n",
    "$$\n",
    "где при $\\hat{r}_2 \\ge \\hat{r}_2^{\\text{min}}$ выражение $\\hat{r}_2u^2 + 2\\sqrt{\\hat{r}_2} - u^2 \\ge 0$."
   ]
  },
  {
   "cell_type": "markdown",
   "metadata": {},
   "source": [
    "Полученный выше интеграл **компактнее**, чем тот, что рассмотрен в файле binary_catch2.pdf\n",
    "$$\n",
    "  \\Delta \\hat{E}(u) = \\epsilon_G \\frac{4}{3}\\int\\limits_{\\hat{r}_2^\\text{min}}^\\infty \\frac{24\\hat{r}_2^2u^6 + 48u^6\\hat{r}_2 + 120\\hat{r}_2^{3/2}u^4 - 96u^6 + 96u^4\\sqrt{\\hat{r}_2} - u^2\\hat{r}_2^2 + 133u^2\\hat{r}_2 - 2\\hat{r}_2^{3/2}}{\\hat{r}_2^4\\sqrt{u^2\\hat{r}_2 + 2\\sqrt{\\hat{r}_2} - u^2}} \\, d\\hat{r}_2,\n",
    "$$"
   ]
  },
  {
   "cell_type": "markdown",
   "metadata": {},
   "source": [
    "<span style=\"color:brown\">**NB:**</span> Однако, будучи аналитически взятым будет полностью <span style=\"color:green\">**совпадать!**</span>\n",
    "\n",
    "Смотри подробности в файле binary_catch_integral.ipynb\n",
    " \n",
    "Там компактный интеграл назван $I_5$, а второй $I_4$.\n",
    "\n",
    "Выпишем ответ:"
   ]
  },
  {
   "cell_type": "code",
   "execution_count": 567,
   "metadata": {
    "vscode": {
     "languageId": "wolfram"
    }
   },
   "outputs": [
    {
     "data": {
      "text/html": [
       "<div><img alt=\"Output\" src=\"data:image/png;base64,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\"></div>"
      ],
      "text/plain": [
       "FormBox[RowBox[{\"-\", FractionBox[RowBox[{SubscriptBox[\"ϵ\", \"G\"], \" \", \n",
       "\n",
       " \n",
       ">           RowBox[{\"(\", RowBox[{RowBox[{RowBox[{\"(\", \n",
       "\n",
       " \n",
       ">                   RowBox[{RowBox[{\"673\", \" \", SuperscriptBox[\"u\", \"4\"]}], \"+\", \n",
       "\n",
       " \n",
       ">                     \"1275\"}], \")\"}], \" \", SuperscriptBox[\"u\", \"2\"]}], \"+\", \n",
       "\n",
       " \n",
       ">               RowBox[{\"3\", \" \", RowBox[{\"(\", \n",
       "\n",
       " \n",
       ">                   RowBox[{RowBox[{\"37\", \" \", SuperscriptBox[\"u\", \"8\"]}], \"+\", \n",
       "\n",
       " \n",
       ">                     RowBox[{\"366\", \" \", SuperscriptBox[\"u\", \"4\"]}], \"+\", \"425\"}],\\\n",
       " \n",
       ">    \")\"}\\\n",
       "], \" \", RowBox[{\"(\", RowBox[{RowBox[{SuperscriptBox[\"tan\", RowBox[{\"-\",\\\n",
       " \n",
       ">    \"1\"}]], \n",
       "                    \"(\", FractionBox[\"1\", SuperscriptBox[\"u\", \"2\"]],\\\n",
       " \n",
       ">    \")\"}], \"+\", \n",
       "                  FractionBox[\"π\", \"2\"]}], \")\"}]}]}], \")\"}]}], \n",
       "\n",
       " \n",
       ">         RowBox[{\"9\", \" \", SuperscriptBox[\"u\", \"7\"]}]]}], TraditionalForm]\n"
      ]
     },
     "execution_count": 567,
     "metadata": {
      "text/html": [],
      "text/plain": []
     },
     "output_type": "execute_result"
    }
   ],
   "source": [
    "DeltaE = -Subscript[\\[Epsilon], G]/9*(u^2*(1275 + 673*u^4) + 3*(425 + 366*u^4 + 37*u^8)*(Pi/2 + ArcTan[u^(-2)]))/u^7;\n",
    "DeltaE // TraditionalForm"
   ]
  },
  {
   "cell_type": "code",
   "execution_count": 568,
   "metadata": {
    "vscode": {
     "languageId": "wolfram"
    }
   },
   "outputs": [
    {
     "data": {
      "text/html": [
       "<div>&#36;&#36;&#45;&#92;&#102;&#114;&#97;&#99;&#123;&#92;&#101;&#112;&#115;&#105;&#108;&#111;&#110;&#32;&#95;&#71;&#32;&#92;&#108;&#101;&#102;&#116;&#40;&#92;&#108;&#101;&#102;&#116;&#40;&#54;&#55;&#51;&#32;&#117;&#94;&#52;&#43;&#49;&#50;&#55;&#53;&#92;&#114;&#105;&#103;&#104;&#116;&#41;&#32;&#117;&#94;&#50;&#43;&#51;&#32;&#92;&#108;&#101;&#102;&#116;&#40;&#51;&#55;&#32;&#117;&#94;&#56;&#43;&#51;&#54;&#54;&#32;&#117;&#94;&#52;&#43;&#52;&#50;&#53;&#92;&#114;&#105;&#103;&#104;&#116;&#41;&#32;&#92;&#108;&#101;&#102;&#116;&#40;&#92;&#116;&#97;&#110;&#32;&#94;&#123;&#45;&#49;&#125;&#92;&#108;&#101;&#102;&#116;&#40;&#92;&#102;&#114;&#97;&#99;&#123;&#49;&#125;&#123;&#117;&#94;&#50;&#125;&#92;&#114;&#105;&#103;&#104;&#116;&#41;&#43;&#92;&#102;&#114;&#97;&#99;&#123;&#92;&#112;&#105;&#32;&#125;&#123;&#50;&#125;&#92;&#114;&#105;&#103;&#104;&#116;&#41;&#92;&#114;&#105;&#103;&#104;&#116;&#41;&#125;&#123;&#57;&#32;&#117;&#94;&#55;&#125;&#36;&#36;</div>"
      ],
      "text/plain": [
       "-\\frac{\\epsilon _G \\left(\\left(673 u^4+1275\\right) u^2+3 \\left(37 u^8+366 u^4+425\\right)\\\n",
       " \n",
       ">   \\left(\\tan ^{-1}\\left(\\frac{1}{u^2}\\right)+\\frac{\\pi }{2}\\right)\\right)}{9 u^7}"
      ]
     },
     "execution_count": 568,
     "metadata": {
      "text/html": [],
      "text/plain": []
     },
     "output_type": "execute_result"
    }
   ],
   "source": [
    "TeXForm[DeltaE]"
   ]
  },
  {
   "cell_type": "markdown",
   "metadata": {},
   "source": [
    "<span style=\"color:red\">**TODO_1:**</span> Обсудить почему при малых $u$ значения $\\Delta \\hat{E}(u)$ безгранично растут"
   ]
  },
  {
   "cell_type": "code",
   "execution_count": 569,
   "metadata": {
    "vscode": {
     "languageId": "wolfram"
    }
   },
   "outputs": [
    {
     "data": {
      "text/html": [
       "<div><img alt=\"Output\" src=\"data:image/png;base64,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\"></div>"
      ],
      "text/plain": [
       "FormBox[InterpretationBox[RowBox[{RowBox[{\"-\", \n",
       "\n",
       " \n",
       ">           FractionBox[RowBox[{\"425\", \" \", \n",
       "\n",
       " \n",
       ">              RowBox[{\"(\", RowBox[{\"π\", \" \", SubscriptBox[\"ϵ\", \"G\"]}], \")\"}]}], \n",
       "\n",
       " \n",
       ">            RowBox[{\"3\", \" \", SuperscriptBox[\"u\", \"7\"]}]]}], \"+\", \n",
       "\n",
       " \n",
       ">         InterpretationBox[RowBox[{\"O\", \"(\", \n",
       "\n",
       " \n",
       ">            FractionBox[\"1\", SuperscriptBox[\"u\", \"3\"]], \")\"}], \n",
       "\n",
       " \n",
       ">          SeriesData[u, 0, List[], -7, -3, 1], Rule[Editable, False]]}], \n",
       "\n",
       " \n",
       ">       SeriesData[u, 0, List[Times[Rational[-425, 3], Pi, Subscript[\\[Epsilon], G]]], \n",
       "\n",
       " \n",
       ">        -7, -3, 1], Rule[Editable, False]], TraditionalForm]\n"
      ]
     },
     "execution_count": 569,
     "metadata": {
      "text/html": [],
      "text/plain": []
     },
     "output_type": "execute_result"
    }
   ],
   "source": [
    "Simplify[Series[DeltaE, {u, 0, -4}]] // TraditionalForm"
   ]
  },
  {
   "cell_type": "markdown",
   "metadata": {},
   "source": [
    "## Условия захвата\n",
    "\n",
    "На бесконечнос энергия объекта была $u^2/2$\n",
    "\n",
    "Если $2|\\Delta \\hat{E}| > u^2$, то гиперболическая орбита (или параболическая, если $u = 0$) превратится в эллиптическую за один полный оборот,\n",
    "\n",
    "далее тело уже не сможет \"уходить\" на бесконечность.\n",
    "\n",
    "Из-за ограничения локализации точнее условие захвата поставить **нельзя**"
   ]
  },
  {
   "cell_type": "code",
   "execution_count": 572,
   "metadata": {
    "vscode": {
     "languageId": "wolfram"
    }
   },
   "outputs": [
    {
     "data": {
      "text/html": [
       "<div><img alt=\"Output\" src=\"data:image/png;base64,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\"></div>"
      ],
      "text/plain": [
       "FormBox[RowBox[{SuperscriptBox[\"u\", \"9\"], \"<\", \n",
       "\n",
       " \n",
       ">        RowBox[{FractionBox[\"2\", \"9\"], \" \", SubscriptBox[\"ϵ\", \"G\"], \" \", \n",
       "\n",
       " \n",
       ">          RowBox[{\"(\", RowBox[{RowBox[{RowBox[{\"(\", \n",
       "\n",
       " \n",
       ">                  RowBox[{RowBox[{\"673\", \" \", SuperscriptBox[\"u\", \"4\"]}], \"+\", \n",
       "\n",
       " \n",
       ">                    \"1275\"}], \")\"}], \" \", SuperscriptBox[\"u\", \"2\"]}], \"+\", \n",
       "\n",
       " \n",
       ">              RowBox[{FractionBox[\"3\", \"2\"], \" \", \n",
       "\n",
       " \n",
       ">                RowBox[{\"(\", RowBox[{RowBox[{\"37\", \" \", SuperscriptBox[\"u\", \"8\"]}], \n",
       "\n",
       " \n",
       ">                    \"+\", RowBox[{\"366\", \" \", SuperscriptBox[\"u\", \"4\"]}], \"+\", \"425\"}], \n",
       "\n",
       " \n",
       ">                  \")\"}], \" \", RowBox[{\"(\", \n",
       "               RowBox[{RowBox[{\"2\", \" \", \n",
       "\n",
       " \n",
       ">                      RowBox[{SuperscriptBox[\"tan\", RowBox[{\"-\", \"1\"}]], \"(\", \n",
       "\n",
       " \n",
       ">                        FractionBox[\"1\", SuperscriptBox[\"u\", \"2\"]], \")\"}]}], \"+\",\\\n",
       " \n",
       ">    \"π\"}], \n",
       "               \")\"}]}]}], \")\"}]}]}], TraditionalForm]\n"
      ]
     },
     "execution_count": 572,
     "metadata": {
      "text/html": [],
      "text/plain": []
     },
     "output_type": "execute_result"
    }
   ],
   "source": [
    "DeltaE2 = Simplify[DeltaE + u^2/2];\n",
    "uMax2 = Simplify[2 u^7 DeltaE2];\n",
    "Simplify[uMax2 < 0] // TraditionalForm"
   ]
  },
  {
   "cell_type": "markdown",
   "metadata": {},
   "source": [
    "<span style=\"color:brown\">**NB:**</span> Условие захвата, <span style=\"color:green\">**совпадает**</span> с условием из файла binary_catch.pdf"
   ]
  },
  {
   "cell_type": "markdown",
   "metadata": {},
   "source": [
    "<span style=\"color:red\">**TODO_2:**</span> Сравнить условия захвата на параболической траектории $u = 0$ с другими авторами"
   ]
  },
  {
   "cell_type": "code",
   "execution_count": 573,
   "metadata": {
    "vscode": {
     "languageId": "wolfram"
    }
   },
   "outputs": [
    {
     "data": {
      "text/html": [
       "<div><img alt=\"Output\" src=\"data:image/png;base64,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\"></div>"
      ],
      "text/plain": [
       "FormBox[InterpretationBox[RowBox[{FractionBox[RowBox[{\"850\", \" \", \"π\", \" \", \n",
       "\n",
       " \n",
       ">            SubscriptBox[\"ϵ\", \"G\"]}], \"3\"], \"+\", \n",
       "\n",
       " \n",
       ">         InterpretationBox[RowBox[{\"O\", \"(\", SuperscriptBox[\"u\", \"1\"], \")\"}], \n",
       "\n",
       " \n",
       ">          SeriesData[u, 0, List[], 0, 1, 1], Rule[Editable, False]]}], \n",
       "\n",
       " \n",
       ">       SeriesData[u, 0, List[Times[Rational[850, 3], Pi, Subscript[\\[Epsilon], G]]], 0,\\\n",
       " \n",
       ">    \n",
       "     1, 1], Rule[Editable, False]], TraditionalForm]\n"
      ]
     },
     "execution_count": 573,
     "metadata": {
      "text/html": [],
      "text/plain": []
     },
     "output_type": "execute_result"
    }
   ],
   "source": [
    "Simplify[Series[(u^9 - uMax2), {u, 0, 0}]] // TraditionalForm"
   ]
  },
  {
   "cell_type": "markdown",
   "metadata": {},
   "source": [
    "## Поведение $\\hat{E}_1$ в зависимости от начальной сокрости $u$ и параметра $\\epsilon_G$\n",
    "\n",
    "$\\epsilon_G = \\frac{2}{5}\\frac{\\mu}{M} \\left( \\frac{r_s}{2b} \\right)^{\\frac{5}{2}}$,\n",
    "где $r_s = \\frac{2 G M}{c^2}$ - сумма радиусов Шварцшильда двух тел.\n",
    "\n",
    "При прицельных параметрах $b$ сравнимых с радиусом Шварцшильда, $\\epsilon_G$ не мал (смотри $\\epsilon_G = 10$).\n",
    "\n",
    "Энергия всегда отрицальна, тела уже в захвате.\n",
    "\n",
    "Если прицельный параметр много больше, чем $r_s$, то есть $\\epsilon_G$ мал,\n",
    "то находится такая скорость, при значении которой (и меньших скоростях) происходит захват."
   ]
  },
  {
   "cell_type": "code",
   "execution_count": 574,
   "metadata": {
    "vscode": {
     "languageId": "wolfram"
    }
   },
   "outputs": [
    {
     "data": {
      "text/html": [
       "<div><img alt=\"Output\" src=\"data:image/png;base64,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\"></div>"
      ],
      "text/plain": [
       "Legended[-Graphics-, Placed[LineLegend[{Directive[Opacity[1.], \n",
       " \n",
       ">       RGBColor[0.368417, 0.506779, 0.709798], AbsoluteThickness[2]], \n",
       " \n",
       ">      Directive[Opacity[1.], RGBColor[0.880722, 0.611041, 0.142051], \n",
       " \n",
       ">       AbsoluteThickness[2]], Directive[Opacity[1.], \n",
       " \n",
       ">       RGBColor[0.560181, 0.691569, 0.194885], AbsoluteThickness[2]], \n",
       " \n",
       ">      Directive[Opacity[1.], RGBColor[0.922526, 0.385626, 0.209179], \n",
       " \n",
       ">       AbsoluteThickness[2]], Directive[Opacity[1.], \n",
       " \n",
       ">       RGBColor[0.528488, 0.470624, 0.701351], AbsoluteThickness[2]], \n",
       " \n",
       ">      Directive[Opacity[1.], RGBColor[0.772079, 0.431554, 0.102387], \n",
       " \n",
       ">       AbsoluteThickness[2]], Directive[Opacity[1.], \n",
       " \n",
       ">       RGBColor[0.363898, 0.618501, 0.782349], AbsoluteThickness[2]]}, \n",
       " \n",
       ">     {EpsilonG = 10, EpsilonG = 2, EpsilonG = 1, EpsilonG = 0.5, EpsilonG = 0.1, \n",
       " \n",
       ">      EpsilonG = 10^(-2), EpsilonG = 10^(-5)}, LegendMarkers -> None, LabelStyle -> {}, \n",
       " \n",
       ">     LegendLayout -> Column], After, Identity]]"
      ]
     },
     "execution_count": 574,
     "metadata": {
      "text/html": [],
      "text/plain": []
     },
     "output_type": "execute_result"
    }
   ],
   "source": [
    "Plot[\n",
    "  {\n",
    "    u^2/2 + DeltaE /. Subscript[\\[Epsilon], G] -> 10,\n",
    "    u^2/2 + DeltaE /. Subscript[\\[Epsilon], G] -> 2,\n",
    "    u^2/2 + DeltaE /. Subscript[\\[Epsilon], G] -> 1,\n",
    "    u^2/2 + DeltaE /. Subscript[\\[Epsilon], G] -> 0.5,\n",
    "    u^2/2 + DeltaE /. Subscript[\\[Epsilon], G] -> 0.1,\n",
    "    u^2/2 + DeltaE /. Subscript[\\[Epsilon], G] -> 10^(-2),\n",
    "    u^2/2 + DeltaE /. Subscript[\\[Epsilon], G] -> 10^(-5)\n",
    "  },\n",
    "  {u, 0.0, 100},\n",
    "  AxesLabel -> {\"u\", \"E1\"},\n",
    "  PlotLegends -> {\n",
    "    \"EpsilonG = 10\",\n",
    "    \"EpsilonG = 2\",\n",
    "    \"EpsilonG = 1\",\n",
    "    \"EpsilonG = 0.5\",\n",
    "    \"EpsilonG = 0.1\",\n",
    "    \"EpsilonG = 10^(-2)\",\n",
    "    \"EpsilonG = 10^(-5)\"\n",
    "    },\n",
    "  PlotRange -> All,\n",
    "  ScalingFunctions -> {\"Log\", \"SignedLog\"}\n",
    "]"
   ]
  },
  {
   "cell_type": "markdown",
   "metadata": {},
   "source": [
    "# Потеря момента за один период обращения\n",
    "\n",
    "$$\n",
    "\\Delta \\hat{J} = 2 \\epsilon_G \\int\\limits_{\\hat{t}_{\\text{min}}}^{\\infty}I_J(\\hat{t}) d \\hat{t}\n",
    "= - 2 \\epsilon_G \\int\\limits_{\\hat{r}_2^{\\text{min}}}^{\\infty}\\frac{I_J(\\hat{r}_2)}{\\hat{r}_2^{(1)}}d \\hat{r}_2,\n",
    "$$\n",
    "\n",
    "где мы заменим $\\hat{\\omega}$ на $\\frac{u}{\\hat{r}_2}$"
   ]
  },
  {
   "cell_type": "code",
   "execution_count": 577,
   "metadata": {
    "vscode": {
     "languageId": "wolfram"
    }
   },
   "outputs": [
    {
     "data": {
      "text/html": [
       "<div><img alt=\"Output\" src=\"data:image/png;base64,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\"></div>"
      ],
      "text/plain": [
       "FormBox[RowBox[{FractionBox[RowBox[{\"16\", \" \", SuperscriptBox[\"u\", \"5\"]}], \n",
       "\n",
       " \n",
       ">         RowBox[{SubsuperscriptBox[OverscriptBox[\"r\", \"^\"], \"2\", \"3\"], \" \", \n",
       "\n",
       " \n",
       ">           SuperscriptBox[SubscriptBox[OverscriptBox[\"r\", \"^\"], \"2\"], \"′\"]}]], \"-\", \n",
       "\n",
       " \n",
       ">        FractionBox[RowBox[{\"20\", \" \", SuperscriptBox[\"u\", \"3\"], \" \", \n",
       "\n",
       " \n",
       ">           SuperscriptBox[SubscriptBox[OverscriptBox[\"r\", \"^\"], \"2\"], \"′\"]}], \n",
       "\n",
       " \n",
       ">         SubsuperscriptBox[OverscriptBox[\"r\", \"^\"], \"2\", \"3\"]], \"-\", \n",
       "\n",
       " \n",
       ">        FractionBox[RowBox[{\"4\", \" \", \"u\", \" \", \n",
       "        SuperscriptBox[RowBox[{\"(\", \n",
       "\n",
       " \n",
       ">              SuperscriptBox[SubscriptBox[OverscriptBox[\"r\", \"^\"], \"2\"], \"′′\"], \")\"}], \n",
       "\n",
       " \n",
       ">            \"2\"]}], RowBox[{SubscriptBox[OverscriptBox[\"r\", \"^\"], \"2\"], \" \", \n",
       "\n",
       " \n",
       ">           SuperscriptBox[SubscriptBox[OverscriptBox[\"r\", \"^\"], \"2\"], \"′\"]}]], \"+\", \n",
       "\n",
       " \n",
       ">        FractionBox[RowBox[{\"14\", \" \", \"u\", \" \", \n",
       "\n",
       " \n",
       ">           SuperscriptBox[SubscriptBox[OverscriptBox[\"r\", \"^\"], \"2\"], \"′\"], \" \", \n",
       "\n",
       " \n",
       ">           SuperscriptBox[SubscriptBox[OverscriptBox[\"r\", \"^\"], \"2\"], \"′′\"]}], \n",
       "\n",
       " \n",
       ">         SubsuperscriptBox[OverscriptBox[\"r\", \"^\"], \"2\", \"2\"]], \"+\", \n",
       "\n",
       " \n",
       ">        FractionBox[RowBox[{\"4\", \" \", \"u\", \" \", \n",
       "\n",
       " \n",
       ">           SuperscriptBox[SubscriptBox[OverscriptBox[\"r\", \"^\"], \"2\"], \"′′′′\"]}], \n",
       "\n",
       " \n",
       ">         SuperscriptBox[SubscriptBox[OverscriptBox[\"r\", \"^\"], \"2\"], \"′\"]], \"-\", \n",
       "\n",
       " \n",
       ">        FractionBox[RowBox[{\"6\", \" \", \"u\", \" \", \n",
       "        SuperscriptBox[RowBox[{\"(\", \n",
       "\n",
       " \n",
       ">              SuperscriptBox[SubscriptBox[OverscriptBox[\"r\", \"^\"], \"2\"], \"′\"], \")\"}], \n",
       "\n",
       " \n",
       ">            \"3\"]}], SubsuperscriptBox[OverscriptBox[\"r\", \"^\"], \"2\", \"3\"]], \"-\", \n",
       "\n",
       " \n",
       ">        FractionBox[RowBox[{\"7\", \" \", \"u\", \" \", \n",
       "\n",
       " \n",
       ">           SuperscriptBox[SubscriptBox[OverscriptBox[\"r\", \"^\"], \"2\"], \"′′′\"]}], \n",
       "\n",
       " \n",
       ">         SubscriptBox[OverscriptBox[\"r\", \"^\"], \"2\"]]}], TraditionalForm]\n"
      ]
     },
     "execution_count": 577,
     "metadata": {
      "text/html": [],
      "text/plain": []
     },
     "output_type": "execute_result"
    }
   ],
   "source": [
    "(* Минус учтём сразу *)\n",
    "dJdr = Simplify[-dJdt/D[Subscript[OverHat[r], 2][OverHat[t]], OverHat[t]] //. OmegaReplace2];\n",
    "Expand[Simplify[dJdr]] // TraditionalForm"
   ]
  },
  {
   "cell_type": "markdown",
   "metadata": {},
   "source": [
    "<span style=\"color:brown\">**NB:**</span> Выражение для $dJ/dr$ <span style=\"color:green\">**сопадает**</span> с выраженем для интегранта из binary_catch3.pdf, если учесть деление на $\\hat{r}_2^{(1)}$"
   ]
  },
  {
   "cell_type": "markdown",
   "metadata": {
    "vscode": {
     "languageId": "wolfram"
    }
   },
   "source": [
    "Заменяя вхождение **всех** производных в выражении для $dJ/dr$, получим"
   ]
  },
  {
   "cell_type": "code",
   "execution_count": 579,
   "metadata": {
    "vscode": {
     "languageId": "wolfram"
    }
   },
   "outputs": [
    {
     "data": {
      "text/html": [
       "<div><img alt=\"Output\" src=\"data:image/png;base64,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\"></div>"
      ],
      "text/plain": [
       "FormBox[FractionBox[RowBox[{\"2\", \" \", \"u\", \" \", \n",
       "\n",
       " \n",
       ">         RowBox[{\"(\", RowBox[{RowBox[{\"9\", \" \", \n",
       "\n",
       " \n",
       ">               SubscriptBox[OverscriptBox[\"r\", \"^\"], \"2\"], \" \", \n",
       "\n",
       " \n",
       ">               SuperscriptBox[\"u\", \"2\"]}], \"+\", \n",
       "\n",
       " \n",
       ">             RowBox[{\"20\", \" \", SqrtBox[SubscriptBox[OverscriptBox[\"r\", \"^\"], \"2\"]]}], \n",
       "\n",
       " \n",
       ">             \"-\", RowBox[{\"15\", \" \", SuperscriptBox[\"u\", \"2\"]}]}], \")\"}]}], \n",
       "\n",
       " \n",
       ">       RowBox[{SubsuperscriptBox[OverscriptBox[\"r\", \"^\"], \"2\", RowBox[{\"5\", \"/\",\\\n",
       " \n",
       ">    \"2\"}]], \n",
       "      \" \", SqrtBox[RowBox[{RowBox[{SubscriptBox[OverscriptBox[\"r\", \"^\"],\\\n",
       " \n",
       ">    \"2\"], \" \", \n",
       "           SuperscriptBox[\"u\", \"2\"]}], \"+\", \n",
       "\n",
       " \n",
       ">            RowBox[{\"2\", \" \", SqrtBox[SubscriptBox[OverscriptBox[\"r\", \"^\"], \"2\"]]}],\\\n",
       " \n",
       ">    \"-\", \n",
       "         SuperscriptBox[\"u\", \"2\"]}]]}]], TraditionalForm]\n"
      ]
     },
     "execution_count": 579,
     "metadata": {
      "text/html": [],
      "text/plain": []
     },
     "output_type": "execute_result"
    }
   ],
   "source": [
    "dJdrFinal = Fold[ (* Последовательно применяем замены *)\n",
    "  Simplify[#1 /.\n",
    "    D[Subscript[OverHat[r], 2][OverHat[t]], {OverHat[t], #2}] -> dr2[[#2]]] &,\n",
    "  dJdr,\n",
    "  Range[5]\n",
    "];\n",
    "\n",
    "Simplify[dJdrFinal] // TraditionalForm"
   ]
  },
  {
   "cell_type": "markdown",
   "metadata": {},
   "source": [
    "$$\n",
    "  \\Delta \\hat{J}(u) = 4 \\epsilon_G \\int\\limits_{\\hat{r}_2^\\text{min}}^\\infty \\frac{u \\left(20\\sqrt{\\hat{r}_2} - 15u^2 + 9\\hat{r}_2 u^2\\right)}{\\hat{r}_2^{\\frac{5}{2}} \\sqrt{2\\sqrt{\\hat{r}_2} - u^2 + \\hat{r}_2 u^2}} \\, d\\hat{r}_2,\n",
    "$$\n",
    "где при $\\hat{r}_2 \\ge \\hat{r}_2^{\\text{min}}$ выражение $\\hat{r}_2u^2 + 2\\sqrt{\\hat{r}_2} - u^2 \\ge 0$.\n",
    "\n",
    "Полученный выше интеграл **компактнее**, чем тот, что рассмотрен в файле binary_catch3.pdf\n",
    "\n",
    "Смотри подробности в файле binary_catch_integral.ipynb\n",
    " \n",
    "Выпишем ответ:"
   ]
  },
  {
   "cell_type": "code",
   "execution_count": 581,
   "metadata": {
    "vscode": {
     "languageId": "wolfram"
    }
   },
   "outputs": [
    {
     "data": {
      "text/html": [
       "<div><img alt=\"Output\" src=\"data:image/png;base64,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\"></div>"
      ],
      "text/plain": [
       "FormBox[RowBox[{\"4\", \" \", SubscriptBox[\"ϵ\", \"G\"], \" \", \n",
       "\n",
       " \n",
       ">        RowBox[{\"(\", RowBox[{RowBox[{\"-\", \n",
       "\n",
       " \n",
       ">              RowBox[{RowBox[{\"2\"}], \" \", SuperscriptBox[\"u\", \"2\"]}]}], \"-\", \n",
       "\n",
       " \n",
       ">            FractionBox[\"15\", SuperscriptBox[\"u\", \"2\"]], \"-\", \n",
       "\n",
       " \n",
       ">            FractionBox[RowBox[{RowBox[{\"(\", \n",
       "\n",
       " \n",
       ">                 RowBox[{RowBox[{\"7\", \" \", SuperscriptBox[\"u\", \"4\"]}], \"+\", \"15\"}], \n",
       "\n",
       " \n",
       ">                 \")\"}], \" \", RowBox[{\"(\", \n",
       "              RowBox[{RowBox[{\"2\", \" \", \n",
       "\n",
       " \n",
       ">                     RowBox[{SuperscriptBox[\"tan\", RowBox[{\"-\", \"1\"}]], \"(\", \n",
       "\n",
       " \n",
       ">                       FractionBox[\"1\", SuperscriptBox[\"u\", \"2\"]], \")\"}]}], \"+\", \"π\"}],\\\n",
       " \n",
       ">    \n",
       "              \")\"}]}], RowBox[{\"2\", \" \", SuperscriptBox[\"u\", \"4\"]}]]}], \")\"}]}], \n",
       "\n",
       " \n",
       ">      TraditionalForm]\n"
      ]
     },
     "execution_count": 581,
     "metadata": {
      "text/html": [],
      "text/plain": []
     },
     "output_type": "execute_result"
    }
   ],
   "source": [
    "DeltaJ = 4*Subscript[\\[Epsilon], G]*(-15/u^2 - 2*u^2 - ((15 + 7*u^4)*(Pi + 2*ArcTan[u^(-2)]))/(2*u^4));\n",
    "DeltaJ // TraditionalForm"
   ]
  },
  {
   "cell_type": "code",
   "execution_count": 582,
   "metadata": {
    "vscode": {
     "languageId": "wolfram"
    }
   },
   "outputs": [
    {
     "data": {
      "text/html": [
       "<div>&#36;&#36;&#52;&#32;&#92;&#101;&#112;&#115;&#105;&#108;&#111;&#110;&#32;&#95;&#71;&#32;&#92;&#108;&#101;&#102;&#116;&#40;&#45;&#50;&#32;&#117;&#94;&#50;&#45;&#92;&#102;&#114;&#97;&#99;&#123;&#49;&#53;&#125;&#123;&#117;&#94;&#50;&#125;&#45;&#92;&#102;&#114;&#97;&#99;&#123;&#92;&#108;&#101;&#102;&#116;&#40;&#55;&#32;&#117;&#94;&#52;&#43;&#49;&#53;&#92;&#114;&#105;&#103;&#104;&#116;&#41;&#32;&#92;&#108;&#101;&#102;&#116;&#40;&#50;&#32;&#92;&#116;&#97;&#110;&#32;&#94;&#123;&#45;&#49;&#125;&#92;&#108;&#101;&#102;&#116;&#40;&#92;&#102;&#114;&#97;&#99;&#123;&#49;&#125;&#123;&#117;&#94;&#50;&#125;&#92;&#114;&#105;&#103;&#104;&#116;&#41;&#43;&#92;&#112;&#105;&#32;&#92;&#114;&#105;&#103;&#104;&#116;&#41;&#125;&#123;&#50;&#32;&#117;&#94;&#52;&#125;&#92;&#114;&#105;&#103;&#104;&#116;&#41;&#36;&#36;</div>"
      ],
      "text/plain": [
       "4 \\epsilon _G \\left(-2 u^2-\\frac{15}{u^2}-\\frac{\\left(7 u^4+15\\right) \\left(2 \\tan\\\n",
       " \n",
       ">   ^{-1}\\left(\\frac{1}{u^2}\\right)+\\pi \\right)}{2 u^4}\\right)"
      ]
     },
     "execution_count": 582,
     "metadata": {
      "text/html": [],
      "text/plain": []
     },
     "output_type": "execute_result"
    }
   ],
   "source": [
    "TeXForm[DeltaJ]"
   ]
  },
  {
   "cell_type": "markdown",
   "metadata": {},
   "source": [
    "В пределе малых $u$ для $\\Delta \\hat{J}(u)$ получаем\n",
    "\n",
    "<span style=\"color:red\">**TODO_3:**</span> Обсудить почему при малых $u$ значения $\\Delta \\hat{J}(u)$ безгранично растут"
   ]
  },
  {
   "cell_type": "code",
   "execution_count": 584,
   "metadata": {
    "vscode": {
     "languageId": "wolfram"
    }
   },
   "outputs": [
    {
     "data": {
      "text/html": [
       "<div><img alt=\"Output\" src=\"data:image/png;base64,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\"></div>"
      ],
      "text/plain": [
       "FormBox[RowBox[{\"-\", FractionBox[RowBox[{\"60\", \" \", \"π\", \" \", \n",
       "\n",
       " \n",
       ">           SubscriptBox[\"ϵ\", \"G\"]}], SuperscriptBox[\"u\", \"4\"]]}], TraditionalForm]\n"
      ]
     },
     "execution_count": 584,
     "metadata": {
      "text/html": [],
      "text/plain": []
     },
     "output_type": "execute_result"
    }
   ],
   "source": [
    "J1Smallu = Normal[Simplify[Series[DeltaJ, {u, 0, -1}]]];\n",
    "J1Smallu // TraditionalForm"
   ]
  },
  {
   "cell_type": "markdown",
   "metadata": {},
   "source": [
    "## Время слияния\n",
    "\n",
    "$a = b/\\sqrt{1-e^2}$,\n",
    "\n",
    "$J = \\mu\\sqrt{GMa(1-e^2)} = \\mu\\sqrt{GMb}\\sqrt{\\frac{b}{a}}$\n",
    "\n",
    "Момент системы после одного полного оборота вдоль ньютоновской гиперболической орбиты с учетом излучения гравволн\n",
    "$$\n",
    "  \\hat{J}_1 = \\hat{J}_0 + \\Delta \\hat{J} = u - 4 \\epsilon_G \\left(2 u^2+\\frac{15}{u^2}+\\frac{\\left(7 u^4+15\\right) \\left(2 \\tan ^{-1}\\left(\\frac{1}{u^2}\\right)+\\pi \\right)}{2 u^4}\\right) \\approx \\sqrt{\\frac{b}{a}} = \\hat{a}^{-1/2}\n",
    "$$\n",
    "\n",
    "Отсюда характерная длина большой полуоси эллиптической орбиты в случае выполнения условия захвата после одного полного оборота будет\n",
    "$$\n",
    "a \\approx b\\hat{J}_1^{-2}\n",
    "$$\n",
    "\n",
    "А время, за которое расстояние между объектов уменьшится до нуля будет\n",
    "$$\n",
    "\\tau \\approx \\frac{5}{8}\\frac{c^5}{G^3}\\frac{b^4}{\\mu M^2} \\frac{1}{\\hat{J}_1^8}\n",
    "$$"
   ]
  },
  {
   "cell_type": "markdown",
   "metadata": {},
   "source": [
    "<span style=\"color:red\">**TODO_4:**</span> А для $\\tau$ при малых $v$ будем иметь галлюциногенное"
   ]
  },
  {
   "cell_type": "code",
   "execution_count": 585,
   "metadata": {
    "vscode": {
     "languageId": "wolfram"
    }
   },
   "outputs": [],
   "source": [
    "(*J1Smallu = - 60 Pi eG / u^4;\n",
    "eG = 2/5*\\[Mu]/M*(G M / (b c^2))^(5/2);\n",
    "u = v/Sqrt[(G*M)/b];\n",
    "N[5/8*c^5/G^3*b^4/(\\[Mu]*M^2*J1Smallu)^(8)]*)"
   ]
  },
  {
   "cell_type": "markdown",
   "metadata": {},
   "source": [
    "## Поведение $\\hat{J}_1$ в зависимости от начальной сокрости $u$ и параметра $\\epsilon_G$\n",
    "\n",
    "$\\epsilon_G = \\frac{2}{5}\\frac{\\mu}{M} \\left( \\frac{r_s}{2b} \\right)^{\\frac{5}{2}}$,\n",
    "где $r_s = \\frac{2 G M}{c^2}$ - сумма радиусов Шварцшильда двух тел.\n",
    "\n",
    "При прицельных параметрах $b$ сравнимых с радиусом Шварцшильда, $\\epsilon_G$ не мал (смотри $\\epsilon_G = 0.1, 0.5, 1, 2, 10$),\n",
    "момент полностью \"съедается\" на одном проходе вдоль гиперболической траектории.\n",
    "\n",
    "Если прицельный параметр много больше, чем $r_s$, то есть $\\epsilon_G$ мал ($\\epsilon_G = 10^{-5}$),\n",
    "то только на совсем малых скоростях может \"съесться\" момент.\n",
    "\n",
    "<span style=\"color:red\">**TODO_5:**</span> Для промежуточных значений прицельного параметра, где ($\\epsilon_G = 10^{-2}$),\n",
    "момент \"съедается\" даже на больших скоростях!\n",
    "Хотя если смотреть графики выше с поведением $\\hat{E}_1$, на этих скоростях не выполнено условие захвата."
   ]
  },
  {
   "cell_type": "code",
   "execution_count": 586,
   "metadata": {
    "vscode": {
     "languageId": "wolfram"
    }
   },
   "outputs": [
    {
     "data": {
      "text/html": [
       "<div><img alt=\"Output\" src=\"data:image/png;base64,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\"></div>"
      ],
      "text/plain": [
       "Legended[-Graphics-, Placed[LineLegend[{Directive[Opacity[1.], \n",
       " \n",
       ">       RGBColor[0.368417, 0.506779, 0.709798], AbsoluteThickness[2]], \n",
       " \n",
       ">      Directive[Opacity[1.], RGBColor[0.880722, 0.611041, 0.142051], \n",
       " \n",
       ">       AbsoluteThickness[2]], Directive[Opacity[1.], \n",
       " \n",
       ">       RGBColor[0.560181, 0.691569, 0.194885], AbsoluteThickness[2]], \n",
       " \n",
       ">      Directive[Opacity[1.], RGBColor[0.922526, 0.385626, 0.209179], \n",
       " \n",
       ">       AbsoluteThickness[2]], Directive[Opacity[1.], \n",
       " \n",
       ">       RGBColor[0.528488, 0.470624, 0.701351], AbsoluteThickness[2]], \n",
       " \n",
       ">      Directive[Opacity[1.], RGBColor[0.772079, 0.431554, 0.102387], \n",
       " \n",
       ">       AbsoluteThickness[2]], Directive[Opacity[1.], \n",
       " \n",
       ">       RGBColor[0.363898, 0.618501, 0.782349], AbsoluteThickness[2]]}, \n",
       " \n",
       ">     {EpsilonG = 10, EpsilonG = 2, EpsilonG = 1, EpsilonG = 0.5, EpsilonG = 0.1, \n",
       " \n",
       ">      EpsilonG = 10^(-2), EpsilonG = 10^(-5)}, LegendMarkers -> None, LabelStyle -> {}, \n",
       " \n",
       ">     LegendLayout -> Column], After, Identity]]"
      ]
     },
     "execution_count": 586,
     "metadata": {
      "text/html": [],
      "text/plain": []
     },
     "output_type": "execute_result"
    }
   ],
   "source": [
    "Plot[\n",
    "  {\n",
    "    u + DeltaJ /. Subscript[\\[Epsilon], G] -> 10,\n",
    "    u + DeltaJ /. Subscript[\\[Epsilon], G] -> 2,\n",
    "    u + DeltaJ /. Subscript[\\[Epsilon], G] -> 1,\n",
    "    u + DeltaJ /. Subscript[\\[Epsilon], G] -> 0.5,\n",
    "    u + DeltaJ /. Subscript[\\[Epsilon], G] -> 0.1,\n",
    "    u + DeltaJ /. Subscript[\\[Epsilon], G] -> 10^(-2),\n",
    "    u + DeltaJ /. Subscript[\\[Epsilon], G] -> 10^(-5)\n",
    "  },\n",
    "  {u, 0.0, 100},\n",
    "  AxesLabel -> {\"u\", \"J1\"},\n",
    "  PlotLegends -> {\n",
    "    \"EpsilonG = 10\",\n",
    "    \"EpsilonG = 2\",\n",
    "    \"EpsilonG = 1\",\n",
    "    \"EpsilonG = 0.5\",\n",
    "    \"EpsilonG = 0.1\",\n",
    "    \"EpsilonG = 10^(-2)\",\n",
    "    \"EpsilonG = 10^(-5)\"\n",
    "    },\n",
    "  PlotRange -> All,\n",
    "  ScalingFunctions -> {\"Log\", \"SignedLog\"}\n",
    "]"
   ]
  }
 ],
 "metadata": {
  "kernelspec": {
   "display_name": "Wolfram Language 14.1",
   "language": "Wolfram Language",
   "name": "wolframlanguage14.1"
  },
  "language_info": {
   "codemirror_mode": "mathematica",
   "file_extension": ".m",
   "mimetype": "application/vnd.wolfram.m",
   "name": "Wolfram Language",
   "pygments_lexer": "mathematica",
   "version": "12.0"
  }
 },
 "nbformat": 4,
 "nbformat_minor": 2
}
