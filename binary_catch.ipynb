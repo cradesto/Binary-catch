{
 "cells": [
  {
   "cell_type": "markdown",
   "metadata": {},
   "source": [
    "# Binary catch\n",
    "\n",
    "**При каких условиях два тела, налетающие друг на друга с бесконечности (в системе центра масс) станут связной системой из-за испускания гравволн?**"
   ]
  },
  {
   "cell_type": "code",
   "execution_count": 10,
   "metadata": {
    "vscode": {
     "languageId": "wolfram"
    }
   },
   "outputs": [
    {
     "name": "stdout",
     "output_type": "stream",
     "text": [
      "  (CleanSlate) Contexts purged: {Global`}\n",
      "  (CleanSlate) Approximate kernel memory recovered: 3 Kb\n"
     ]
    }
   ],
   "source": [
    "(* https://mathematica.stackexchange.com/questions/850/how-do-i-clear-all-user-defined-symbols/861#861 *)\n",
    "<< Utilities`CleanSlate`\n",
    "CleanSlate[];\n",
    "\n",
    "ClearAll[\"Global`*\"]\n",
    "(* ClearSystemCache[] *)\n",
    "(* https://mathematica.stackexchange.com/questions/111605/quit-vs-clearallglobal *)\n",
    "if[Length[Names[\"Global`*\"]] > 0, Remove[\"Global`*\"]];\n",
    "\n",
    "(* PacletInstall[\n",
    "    \"TensorSimplify\",\n",
    "\n",
    "    \"Site\" -> \"http://raw.githubusercontent.com/carlwoll/TensorSimplify/master\"\n",
    "]; *)\n",
    "<<TensorSimplify`"
   ]
  },
  {
   "cell_type": "markdown",
   "metadata": {},
   "source": [
    "## Einstein Summation"
   ]
  },
  {
   "cell_type": "code",
   "execution_count": 19,
   "metadata": {
    "vscode": {
     "languageId": "wolfram"
    }
   },
   "outputs": [],
   "source": [
    "ClearAll@EinsteinSummation\n",
    "\n",
    "EinsteinSummation[in_List, arrays_] := Module[\n",
    "  {res =\n",
    "    isum[in -> Cases[Tally @ Flatten @ in, {_, 1}][[All, 1]], arrays]},\n",
    "  res /; res =!= $Failed\n",
    "  ]\n",
    "\n",
    "EinsteinSummation[in_List -> out_, arrays_] := Module[\n",
    "  {res = isum[in -> out, arrays]},\n",
    "  res /; res =!= $Failed\n",
    "  ]\n",
    "\n",
    "isum[in_List -> out_, arrays_List] := Catch@Module[\n",
    "  {indices, contracted, uncontracted, contractions, transpose},\n",
    "  If[Length[in] != Length[arrays],\n",
    "    Message[EinsteinSummation::length, Length[in], Length[arrays]];\n",
    "    Throw[$Failed]];\n",
    "  MapThread[\n",
    "    If[IntegerQ@TensorRank[#1] && Length[#1] != TensorRank[#2],\n",
    "      Message[EinsteinSummation::shape, #1, #2];\n",
    "      Throw[$Failed]] &, {in, arrays}];\n",
    "  indices = Tally[Flatten[in, 1]];\n",
    "  If[DeleteCases[indices, {_, 1 | 2}] =!= {},\n",
    "    Message[EinsteinSummation::repeat,\n",
    "      Cases[indices, {x_, Except[1 | 2]} :> x]];\n",
    "    Throw[$Failed]];\n",
    "  uncontracted = Cases[indices, {x_, 1} :> x];\n",
    "  If[Sort[uncontracted] =!= Sort[out],\n",
    "    Message[EinsteinSummation::output, uncontracted, out];\n",
    "    Throw[$Failed]];\n",
    "  contracted = Cases[indices, {x_, 2} :> x];\n",
    "  contractions = Flatten[Position[Flatten[in, 1], #]] & /@ contracted;\n",
    "  transpose = FindPermutation[uncontracted, out];\n",
    "  Activate@\n",
    "    TensorTranspose[\n",
    "      TensorContract[Inactive[TensorProduct] @@ arrays, contractions],\n",
    "    transpose]]\n",
    "\n",
    "EinsteinSummation::length =\n",
    "  \"Number of index specifications (`1`) does not match the number of \\\n",
    "tensors (`2`)\";\n",
    "EinsteinSummation::shape =\n",
    "  \"Index specification `1` does not match the tensor rank of `2`\";\n",
    "EinsteinSummation::repeat =\n",
    "  \"Index specifications `1` are repeated more than twice\";\n",
    "EinsteinSummation::output =\n",
    "  \"The uncontracted indices don't match the desired output\";"
   ]
  },
  {
   "cell_type": "code",
   "execution_count": 27,
   "metadata": {
    "vscode": {
     "languageId": "wolfram"
    }
   },
   "outputs": [],
   "source": [
    "(* Правила для скрытия аргументов в TraditionalForm *)\n",
    "\n",
    "Unprotect[Subscript, OverHat, Derivative];\n",
    "\n",
    "MakeBoxes[OverHat[r_][OverHat[t]], TraditionalForm] :=\n",
    "  MakeBoxes[OverHat[r], TraditionalForm]\n",
    "\n",
    "MakeBoxes[\\[Phi][OverHat[t]], TraditionalForm] :=\n",
    "  MakeBoxes[\\[Phi], TraditionalForm]\n",
    "\n",
    "MakeBoxes[Subscript[OverHat[r], n_][OverHat[t]], TraditionalForm] :=\n",
    "  SubscriptBox[OverscriptBox[\"r\", \"^\"], ToString[n]];\n",
    "\n",
    "MakeBoxes[OverHat[\\[Omega]][OverHat[t]], TraditionalForm] :=\n",
    "  OverscriptBox[\"\\[Omega]\", \"^\"];\n",
    "\n",
    "MakeBoxes[Derivative[n_][f_][OverHat[t]], TraditionalForm] := Module[{primes},\n",
    "  primes = StringJoin[Table[\"\\[Prime]\", n]];\n",
    "  SuperscriptBox[ToBoxes[f], primes]\n",
    "];\n",
    "\n",
    "Protect[Subscript, OverHat, Derivative];"
   ]
  },
  {
   "cell_type": "markdown",
   "metadata": {},
   "source": [
    "$\\hat{r}_k$"
   ]
  },
  {
   "cell_type": "code",
   "execution_count": 36,
   "metadata": {
    "vscode": {
     "languageId": "wolfram"
    }
   },
   "outputs": [
    {
     "data": {
      "text/html": [
       "<div><img alt=\"Output\" src=\"data:image/png;base64,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\"></div>"
      ],
      "text/plain": [
       "FormBox[TagBox[RowBox[{\"(\", \"⁠\", \n",
       "\n",
       " \n",
       ">         TagBox[GridBox[{{RowBox[{OverscriptBox[\"r\", \"^\"], \" \", \n",
       "\n",
       " \n",
       ">               RowBox[{\"cos\", \"(\", \"ϕ\", \")\"}]}]}, \n",
       "\n",
       " \n",
       ">            {RowBox[{OverscriptBox[\"r\", \"^\"], \" \", RowBox[{\"sin\", \"(\", \"ϕ\", \")\"}]}]}}, \n",
       "\n",
       " \n",
       ">           Rule[RowSpacings, 1], Rule[ColumnAlignments, Center], \n",
       "\n",
       " \n",
       ">           Rule[ColumnAlignments, Left]], Column], \"⁠\", \")\"}], \n",
       "\n",
       " \n",
       ">       Function[BoxForm`e$, MatrixForm[BoxForm`e$]]], TraditionalForm]\n"
      ]
     },
     "execution_count": 36,
     "metadata": {
      "text/html": [],
      "text/plain": []
     },
     "output_type": "execute_result"
    }
   ],
   "source": [
    "rh = {OverHat[r][OverHat[t]]*Cos[\\[Phi][OverHat[t]]], OverHat[r][OverHat[t]]*Sin[\\[Phi][OverHat[t]]]};\n",
    "rh // MatrixForm // TraditionalForm"
   ]
  },
  {
   "cell_type": "code",
   "execution_count": 37,
   "metadata": {
    "vscode": {
     "languageId": "wolfram"
    }
   },
   "outputs": [],
   "source": [
    "$Assumptions = {\n",
    "  {OverHat[r][OverHat[t]], OverHat[t], rh, Subscript[OverHat[r],2][OverHat[t]]} \\[Element] PositiveReals\n",
    "};"
   ]
  },
  {
   "cell_type": "markdown",
   "metadata": {},
   "source": [
    "## Система движения в декартовых координатах\n",
    "$$\n",
    "\\frac{d^2r_k}{dt^2} = -\\frac{G(m_A+m_B)}{r^3}r_k - \\frac{2}{5}f_{ki}^{(5)}r_i\n",
    "$$\n",
    "\n",
    "Ч.Мизнер, К.Торн, Дж.Уилер Гравтация, Т.3 (36.8)"
   ]
  },
  {
   "cell_type": "markdown",
   "metadata": {},
   "source": [
    "Введём обозначения для масс\n",
    "\n",
    "$$\n",
    "M=m_A+m_B; \\quad\n",
    "\\mu = m_{AB} = \\frac{m_A m_B}{M}\n",
    "$$"
   ]
  },
  {
   "cell_type": "markdown",
   "metadata": {},
   "source": [
    "### Безразмерные единицы\n",
    "$$\n",
    "\\begin{align}\n",
    "r &= b\\hat{r} \\\\\n",
    "t &= t_0\\hat{t} \\\\\n",
    "f_{ij} &= b^2\\frac{G}{c^5}\\mu\\hat{f}_{ij} \\\\\n",
    "f_{ij}^{(5)} &= \\frac{b^2}{t_0^5}\\frac{G}{c^5}\\mu\\hat{f}_{ij}^{(5)}\n",
    "\\end{align}\n",
    "$$"
   ]
  },
  {
   "cell_type": "markdown",
   "metadata": {},
   "source": [
    "$\\hat{f}_{ki}$"
   ]
  },
  {
   "cell_type": "code",
   "execution_count": 39,
   "metadata": {
    "vscode": {
     "languageId": "wolfram"
    }
   },
   "outputs": [
    {
     "data": {
      "text/html": [
       "<div><img alt=\"Output\" src=\"data:image/png;base64,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\"></div>"
      ],
      "text/plain": [
       "FormBox[TagBox[RowBox[{\"(\", \"⁠\", \n",
       "\n",
       " \n",
       ">         GridBox[{{RowBox[{FractionBox[\"1\", \"6\"], \" \", \n",
       "\n",
       " \n",
       ">              SuperscriptBox[OverscriptBox[\"r\", \"^\"], \"2\"], \" \", \n",
       "\n",
       " \n",
       ">              RowBox[{\"(\", RowBox[{RowBox[{\"3\", \" \", \n",
       "\n",
       " \n",
       ">                    RowBox[{\"cos\", \"(\", RowBox[{\"2\", \" \", \"ϕ\"}], \")\"}]}], \"+\",\\\n",
       " \n",
       ">    \"1\"}]\\\n",
       ", \")\"}]}], RowBox[{SuperscriptBox[OverscriptBox[\"r\", \"^\"], \"2\"], \" \", \n",
       "\n",
       " \n",
       ">              RowBox[{\"sin\", \"(\", \"ϕ\", \")\"}], \" \", RowBox[{\"cos\", \"(\", \"ϕ\", \")\"}]}]}, \n",
       "\n",
       " \n",
       ">           {RowBox[{SuperscriptBox[OverscriptBox[\"r\", \"^\"], \"2\"], \" \", \n",
       "\n",
       " \n",
       ">              RowBox[{\"sin\", \"(\", \"ϕ\", \")\"}], \" \", RowBox[{\"cos\", \"(\", \"ϕ\", \")\"}]}], \n",
       "\n",
       " \n",
       ">            RowBox[{FractionBox[\"1\", \"3\"], \" \", \n",
       "\n",
       " \n",
       ">              SuperscriptBox[OverscriptBox[\"r\", \"^\"], \"2\"], \" \", \n",
       "\n",
       " \n",
       ">              RowBox[{\"(\", RowBox[{RowBox[{\"3\", \" \", \n",
       "\n",
       " \n",
       ">                    RowBox[{SuperscriptBox[\"sin\", \"2\"], \"(\", \"ϕ\", \")\"}]}], \"-\", \"1\"}], \n",
       "\n",
       " \n",
       ">                \")\"}]}]}}, Rule[RowSpacings, 1], Rule[ColumnSpacings, 1], \n",
       "\n",
       " \n",
       ">          Rule[RowAlignments, Baseline], Rule[ColumnAlignments, Center]], \"⁠\", \")\"}], \n",
       "\n",
       " \n",
       ">       Function[BoxForm`e$, MatrixForm[BoxForm`e$]]], TraditionalForm]\n"
      ]
     },
     "execution_count": 39,
     "metadata": {
      "text/html": [],
      "text/plain": []
     },
     "output_type": "execute_result"
    }
   ],
   "source": [
    "fh = Simplify[Array[rh[[#]]*rh[[#2]] - 1/3*KroneckerDelta[#, #2]*(OverHat[r][OverHat[t]])^2 &, {2, 2}], Trig -> True];\n",
    "fh // MatrixForm // TraditionalForm"
   ]
  },
  {
   "cell_type": "markdown",
   "metadata": {},
   "source": [
    "$\\hat{f}_{ki}^{(5)}$"
   ]
  },
  {
   "cell_type": "code",
   "execution_count": 43,
   "metadata": {
    "vscode": {
     "languageId": "wolfram"
    }
   },
   "outputs": [
    {
     "data": {
      "text/html": [
       "<div><img alt=\"Output\" src=\"data:image/png;base64,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\"></div>"
      ],
      "text/plain": [
       "FormBox[TagBox[RowBox[{\"(\", \"⁠\", \n",
       "\n",
       " \n",
       ">         GridBox[{{TemplateBox[List[SubscriptBox[OverscriptBox[\"f\", \"^\"], \n",
       "\n",
       " \n",
       ">               RowBox[List[\"x\", \",\", \"x\"]]], \"\\\"(5)\\\"\"], \"Superscript\", \n",
       "\n",
       " \n",
       ">             Rule[SyntaxForm, SuperscriptBox]], \n",
       "\n",
       " \n",
       ">            TemplateBox[List[SubscriptBox[OverscriptBox[\"f\", \"^\"], \n",
       "\n",
       " \n",
       ">               RowBox[List[\"x\", \",\", \"y\"]]], \"\\\"(5)\\\"\"], \"Superscript\", \n",
       "\n",
       " \n",
       ">             Rule[SyntaxForm, SuperscriptBox]]}, \n",
       "\n",
       " \n",
       ">           {TemplateBox[List[SubscriptBox[OverscriptBox[\"f\", \"^\"], \n",
       "\n",
       " \n",
       ">               RowBox[List[\"x\", \",\", \"y\"]]], \"\\\"(5)\\\"\"], \"Superscript\", \n",
       "\n",
       " \n",
       ">             Rule[SyntaxForm, SuperscriptBox]], \n",
       "\n",
       " \n",
       ">            TemplateBox[List[SubscriptBox[OverscriptBox[\"f\", \"^\"], \n",
       "\n",
       " \n",
       ">               RowBox[List[\"y\", \",\", \"y\"]]], \"\\\"(5)\\\"\"], \"Superscript\", \n",
       "\n",
       " \n",
       ">             Rule[SyntaxForm, SuperscriptBox]]}}, Rule[RowSpacings, 1], \n",
       "\n",
       " \n",
       ">          Rule[ColumnSpacings, 1], Rule[RowAlignments, Baseline], \n",
       "\n",
       " \n",
       ">          Rule[ColumnAlignments, Center]], \"⁠\", \")\"}], \n",
       "\n",
       " \n",
       ">       Function[BoxForm`e$, MatrixForm[BoxForm`e$]]], TraditionalForm]\n"
      ]
     },
     "execution_count": 43,
     "metadata": {
      "text/html": [],
      "text/plain": []
     },
     "output_type": "execute_result"
    }
   ],
   "source": [
    "(* fh5 = Array[Superscript[Subscript[OverHat[f], {x, y}[[#1]], {x, y}[[#2]]], \"(5)\"] &, {2, 2}] *)\n",
    "(* Symmetric version *)\n",
    "fh5 = Array[If[#1 <= #2,\n",
    "                    Superscript[Subscript[OverHat[f], {x, y}[[#1]], {x, y}[[#2]]], \"(5)\"],\n",
    "                    Superscript[Subscript[OverHat[f], {x, y}[[#2]], {x, y}[[#1]]], \"(5)\"]] &, {2, 2}];\n",
    "fh5 // MatrixForm // TraditionalForm"
   ]
  },
  {
   "cell_type": "markdown",
   "metadata": {},
   "source": [
    "$\\hat{f}_{ki}^{(5)}\\hat{r}_i$"
   ]
  },
  {
   "cell_type": "code",
   "execution_count": 45,
   "metadata": {
    "vscode": {
     "languageId": "wolfram"
    }
   },
   "outputs": [
    {
     "data": {
      "text/html": [
       "<div><img alt=\"Output\" src=\"data:image/png;base64,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\"></div>"
      ],
      "text/plain": [
       "FormBox[TagBox[RowBox[{\"(\", \"⁠\", \n",
       "\n",
       " \n",
       ">         TagBox[GridBox[{{RowBox[{RowBox[{OverscriptBox[\"r\", \"^\"], \" \", \n",
       "\n",
       " \n",
       ">                 RowBox[{\"sin\", \"(\", \"ϕ\", \")\"}], \" \", \n",
       "\n",
       " \n",
       ">                 TemplateBox[List[SubscriptBox[OverscriptBox[\"f\", \"^\"], \n",
       "\n",
       " \n",
       ">                    RowBox[List[\"x\", \",\", \"y\"]]], \"\\\"(5)\\\"\"], \"Superscript\", \n",
       "\n",
       " \n",
       ">                  Rule[SyntaxForm, SuperscriptBox]]}], \"+\", \n",
       "\n",
       " \n",
       ">               RowBox[{OverscriptBox[\"r\", \"^\"], \" \", RowBox[{\"cos\", \"(\", \"ϕ\", \")\"}], \n",
       "\n",
       " \n",
       ">                 \" \", TemplateBox[List[SubscriptBox[OverscriptBox[\"f\", \"^\"], \n",
       "\n",
       " \n",
       ">                    RowBox[List[\"x\", \",\", \"x\"]]], \"\\\"(5)\\\"\"], \"Superscript\", \n",
       "\n",
       " \n",
       ">                  Rule[SyntaxForm, SuperscriptBox]]}]}]}, \n",
       "\n",
       " \n",
       ">            {RowBox[{RowBox[{OverscriptBox[\"r\", \"^\"], \" \", \n",
       "\n",
       " \n",
       ">                 RowBox[{\"cos\", \"(\", \"ϕ\", \")\"}], \" \", \n",
       "\n",
       " \n",
       ">                 TemplateBox[List[SubscriptBox[OverscriptBox[\"f\", \"^\"], \n",
       "\n",
       " \n",
       ">                    RowBox[List[\"x\", \",\", \"y\"]]], \"\\\"(5)\\\"\"], \"Superscript\", \n",
       "\n",
       " \n",
       ">                  Rule[SyntaxForm, SuperscriptBox]]}], \"+\", \n",
       "\n",
       " \n",
       ">               RowBox[{OverscriptBox[\"r\", \"^\"], \" \", RowBox[{\"sin\", \"(\", \"ϕ\", \")\"}], \n",
       "\n",
       " \n",
       ">                 \" \", TemplateBox[List[SubscriptBox[OverscriptBox[\"f\", \"^\"], \n",
       "\n",
       " \n",
       ">                    RowBox[List[\"y\", \",\", \"y\"]]], \"\\\"(5)\\\"\"], \"Superscript\", \n",
       "\n",
       " \n",
       ">                  Rule[SyntaxForm, SuperscriptBox]]}]}]}}, Rule[RowSpacings, 1], \n",
       "\n",
       " \n",
       ">           Rule[ColumnAlignments, Center], Rule[ColumnAlignments, Left]], Column], \"⁠\",\\\n",
       " \n",
       ">    \n",
       "      \")\"}], Function[BoxForm`e$, MatrixForm[BoxForm`e$]]], TraditionalForm]\n"
      ]
     },
     "execution_count": 45,
     "metadata": {
      "text/html": [],
      "text/plain": []
     },
     "output_type": "execute_result"
    }
   ],
   "source": [
    "fh5rh = EinsteinSummation[{{k, i}, {i}}, {fh5, rh}];\n",
    "fh5rh // MatrixForm // TraditionalForm"
   ]
  },
  {
   "cell_type": "markdown",
   "metadata": {},
   "source": [
    "Система движения в безразмерной записи будет выглядеть как"
   ]
  },
  {
   "cell_type": "markdown",
   "metadata": {},
   "source": [
    "$$\n",
    "\\frac{d^2\\hat{r}_k}{d\\hat{t}^2} = -\\frac{t_0^2}{b^3}\\frac{GM}{\\hat{r}^3}\\hat{r}_k - \\frac{2}{5}\\frac{b^2}{t_0^3}\\frac{G}{c^5}\\mu\\hat{f}_{ki}^{(5)}\\hat{r}_i\n",
    "$$"
   ]
  },
  {
   "cell_type": "markdown",
   "metadata": {},
   "source": [
    "Пусть $t_0 = \\sqrt{\\frac{b^3}{GM}}$, а $b$ - прицельное расстояние, тогда система движения перепишется как\n",
    "\n",
    "$$\n",
    "\\frac{d^2\\hat{r}_k}{d\\hat{t}^2} + \\frac{\\hat{r}_k}{\\hat{r}^3} = - \\epsilon_G\\hat{f}_{ki}^{(5)}\\hat{r}_i\\quad,\n",
    "$$\n",
    "или\n",
    "$$\n",
    "\\hat{r}_k^{(2)} + \\frac{\\hat{r}_k}{\\hat{r}^3} = - \\epsilon_G\\hat{f}_{ki}^{(5)}\\hat{r}_i\\quad,\n",
    "$$\n",
    "\n",
    "где безразмерная постоянная $\\epsilon_G = \\frac{2}{5}\\frac{b^2}{t_0^3}\\frac{G}{c^5}\\mu = \\frac{2}{5}\\frac{\\mu}{M} \\left( \\frac{GM}{bc^2} \\right)^{\\frac{5}{2}}$.\n",
    "\n",
    "Заметим , что $f_{ij}^{(5)} = \\frac{5}{2}\\frac{\\epsilon_G}{t_0^2}\\hat{f}_{ij}^{(5)}$"
   ]
  },
  {
   "cell_type": "markdown",
   "metadata": {},
   "source": [
    "## Повернём систему с помощью матрицы вращения $R_{ij}(\\phi)$ на угол $\\phi$ по **часовой** стрелке\n",
    "Переход к полярным координатам от декартовых"
   ]
  },
  {
   "cell_type": "code",
   "execution_count": 46,
   "metadata": {
    "vscode": {
     "languageId": "wolfram"
    }
   },
   "outputs": [
    {
     "data": {
      "text/html": [
       "<div><img alt=\"Output\" src=\"data:image/png;base64,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\"></div>"
      ],
      "text/plain": [
       "FormBox[TagBox[RowBox[{\"(\", \"⁠\", \n",
       "\n",
       " \n",
       ">         GridBox[{{RowBox[{\"cos\", \"(\", \"ϕ\", \")\"}], RowBox[{\"sin\", \"(\", \"ϕ\", \")\"}]}, \n",
       "\n",
       " \n",
       ">           {RowBox[{\"-\", RowBox[{\"sin\", \"(\", \"ϕ\", \")\"}]}], \n",
       "\n",
       " \n",
       ">            RowBox[{\"cos\", \"(\", \"ϕ\", \")\"}]}}, Rule[RowSpacings, 1], \n",
       "\n",
       " \n",
       ">          Rule[ColumnSpacings, 1], Rule[RowAlignments, Baseline], \n",
       "\n",
       " \n",
       ">          Rule[ColumnAlignments, Center]], \"⁠\", \")\"}], \n",
       "\n",
       " \n",
       ">       Function[BoxForm`e$, MatrixForm[BoxForm`e$]]], TraditionalForm]\n"
      ]
     },
     "execution_count": 46,
     "metadata": {
      "text/html": [],
      "text/plain": []
     },
     "output_type": "execute_result"
    }
   ],
   "source": [
    "RotationMatrix[-\\[Phi]] // MatrixForm // TraditionalForm"
   ]
  },
  {
   "cell_type": "markdown",
   "metadata": {},
   "source": [
    "#### LHS системы после поворота"
   ]
  },
  {
   "cell_type": "code",
   "execution_count": 48,
   "metadata": {
    "vscode": {
     "languageId": "wolfram"
    }
   },
   "outputs": [
    {
     "data": {
      "text/html": [
       "<div><img alt=\"Output\" src=\"data:image/png;base64,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\"></div>"
      ],
      "text/plain": [
       "FormBox[TagBox[RowBox[{\"(\", \"⁠\", \n",
       "      TagBox[GridBox[{{RowBox[{RowBox[{\"-\", \n",
       "\n",
       " \n",
       ">                 RowBox[{\"2\", \" \", SuperscriptBox[OverscriptBox[\"r\", \"^\"], \"′\"], \n",
       "\n",
       " \n",
       ">                   \" \", SuperscriptBox[\"ϕ\", \"′\"], \" \", \n",
       "\n",
       " \n",
       ">                   RowBox[{\"sin\", \"(\", \"ϕ\", \")\"}]}]}], \"+\", \n",
       "\n",
       " \n",
       ">               RowBox[{OverscriptBox[\"r\", \"^\"], \" \", \n",
       "\n",
       " \n",
       ">                 RowBox[{\"(\", RowBox[{RowBox[{SuperscriptBox[RowBox[\n",
       "\n",
       " \n",
       ">                         {\"(\", SuperscriptBox[\"ϕ\", \"′\"], \")\"}], \"2\"], \" \", \n",
       "\n",
       " \n",
       ">                       RowBox[{\"(\", \n",
       "\n",
       " \n",
       ">                         RowBox[{\"-\", RowBox[{\"cos\", \"(\", \"ϕ\", \")\"}]}], \")\"}]}], \n",
       "\n",
       " \n",
       ">                     \"-\", RowBox[{SuperscriptBox[\"ϕ\", \"′′\"], \" \", \n",
       "\n",
       " \n",
       ">                       RowBox[{\"sin\", \"(\", \"ϕ\", \")\"}]}]}], \")\"}]}], \"+\", \n",
       "\n",
       " \n",
       ">               RowBox[{SuperscriptBox[OverscriptBox[\"r\", \"^\"], \"′′\"], \" \", \n",
       "\n",
       " \n",
       ">                 RowBox[{\"cos\", \"(\", \"ϕ\", \")\"}]}], \"+\", \n",
       "\n",
       " \n",
       ">               FractionBox[RowBox[{\"cos\", \"(\", \"ϕ\", \")\"}], \n",
       "\n",
       " \n",
       ">                SuperscriptBox[OverscriptBox[\"r\", \"^\"], \"2\"]]}]}, \n",
       "\n",
       " \n",
       ">            {RowBox[{RowBox[{\"2\", \" \", SuperscriptBox[OverscriptBox[\"r\", \"^\"], \"′\"], \n",
       "\n",
       " \n",
       ">                 \" \", SuperscriptBox[\"ϕ\", \"′\"], \" \", RowBox[{\"cos\", \"(\", \"ϕ\",\\\n",
       " \n",
       ">    \")\"}]}]\\\n",
       ", \"+\", RowBox[{OverscriptBox[\"r\", \"^\"], \" \", \n",
       "\n",
       " \n",
       ">                 RowBox[{\"(\", RowBox[{RowBox[{SuperscriptBox[\"ϕ\", \"′′\"], \" \", \n",
       "\n",
       " \n",
       ">                       RowBox[{\"cos\", \"(\", \"ϕ\", \")\"}]}], \"-\", \n",
       "\n",
       " \n",
       ">                     RowBox[{SuperscriptBox[RowBox[{\"(\", \n",
       "\n",
       " \n",
       ">                          SuperscriptBox[\"ϕ\", \"′\"], \")\"}], \"2\"], \" \", \n",
       "\n",
       " \n",
       ">                       RowBox[{\"sin\", \"(\", \"ϕ\", \")\"}]}]}], \")\"}]}], \"+\", \n",
       "\n",
       " \n",
       ">               RowBox[{SuperscriptBox[OverscriptBox[\"r\", \"^\"], \"′′\"], \" \", \n",
       "\n",
       " \n",
       ">                 RowBox[{\"sin\", \"(\", \"ϕ\", \")\"}]}], \"+\", \n",
       "\n",
       " \n",
       ">               FractionBox[RowBox[{\"sin\", \"(\", \"ϕ\", \")\"}], \n",
       "\n",
       " \n",
       ">                SuperscriptBox[OverscriptBox[\"r\", \"^\"], \"2\"]]}]}}, \n",
       "\n",
       " \n",
       ">           Rule[RowSpacings, 1], Rule[ColumnAlignments, Center], \n",
       "\n",
       " \n",
       ">           Rule[ColumnAlignments, Left]], Column], \"⁠\", \")\"}], \n",
       "\n",
       " \n",
       ">       Function[BoxForm`e$, MatrixForm[BoxForm`e$]]], TraditionalForm]\n"
      ]
     },
     "execution_count": 48,
     "metadata": {
      "text/html": [],
      "text/plain": []
     },
     "output_type": "execute_result"
    }
   ],
   "source": [
    "LHSMotion = D[rh, {OverHat[t], 2}] + Simplify[rh / Norm[rh]^3];\n",
    "LHSMotion // MatrixForm // TraditionalForm"
   ]
  },
  {
   "cell_type": "code",
   "execution_count": 49,
   "metadata": {
    "vscode": {
     "languageId": "wolfram"
    }
   },
   "outputs": [
    {
     "data": {
      "text/html": [
       "<div><img alt=\"Output\" src=\"data:image/png;base64,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\"></div>"
      ],
      "text/plain": [
       "FormBox[TagBox[RowBox[{\"(\", \"⁠\", \n",
       "      TagBox[GridBox[{{RowBox[{RowBox[{\"-\", \n",
       "\n",
       " \n",
       ">                 RowBox[{RowBox[{OverscriptBox[\"r\", \"^\"]}], \" \", \n",
       "\n",
       " \n",
       ">                   SuperscriptBox[RowBox[{\"(\", SuperscriptBox[\"ϕ\", \"′\"], \")\"}], \n",
       "\n",
       " \n",
       ">                    \"2\"]}]}], \"+\", SuperscriptBox[OverscriptBox[\"r\", \"^\"], \"′′\"], \n",
       "\n",
       " \n",
       ">               \"+\", FractionBox[\"1\", SuperscriptBox[OverscriptBox[\"r\", \"^\"],\\\n",
       " \n",
       ">    \"2\"]]}]}\\\n",
       ", {RowBox[{RowBox[{OverscriptBox[\"r\", \"^\"], \" \", SuperscriptBox[\"ϕ\",\\\n",
       " \n",
       ">    \"′′\"]}], \"+\", \n",
       "            RowBox[{\"2\", \" \", SuperscriptBox[OverscriptBox[\"r\",\\\n",
       " \n",
       ">    \"^\"], \"′\"], \" \", \n",
       "              SuperscriptBox[\"ϕ\", \"′\"]}]}]}}, Rule[RowSpacings,\\\n",
       " \n",
       ">    1], \n",
       "        Rule[ColumnAlignments, Center], Rule[ColumnAlignments, Left]],\\\n",
       " \n",
       ">    Column], \"⁠\", \n",
       "      \")\"}], Function[BoxForm`e$, MatrixForm[BoxForm`e$]]],\\\n",
       " \n",
       ">    TraditionalForm]\n"
      ]
     },
     "execution_count": 49,
     "metadata": {
      "text/html": [],
      "text/plain": []
     },
     "output_type": "execute_result"
    }
   ],
   "source": [
    "RotatedLHSMotion = Simplify[RotationMatrix[-\\[Phi][OverHat[t]]] . LHSMotion, Trig -> True] // MatrixForm // TraditionalForm"
   ]
  },
  {
   "cell_type": "markdown",
   "metadata": {},
   "source": [
    "Так как $\\hat{\\omega} \\equiv \\phi^{(1)}$, то"
   ]
  },
  {
   "cell_type": "code",
   "execution_count": 51,
   "metadata": {
    "vscode": {
     "languageId": "wolfram"
    }
   },
   "outputs": [
    {
     "data": {
      "text/html": [
       "<div><img alt=\"Output\" src=\"data:image/png;base64,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\"></div>"
      ],
      "text/plain": [
       "FormBox[TagBox[RowBox[{\"(\", \"⁠\", \n",
       "\n",
       " \n",
       ">         TagBox[GridBox[{{RowBox[{RowBox[{RowBox[{\"-\", OverscriptBox[\"r\", \"^\"]}], \n",
       "\n",
       " \n",
       ">                 \" \", SuperscriptBox[OverscriptBox[\"ω\", \"^\"], \"2\"]}], \"+\", \n",
       "\n",
       " \n",
       ">               SuperscriptBox[OverscriptBox[\"r\", \"^\"], \"′′\"], \"+\", \n",
       "\n",
       " \n",
       ">               FractionBox[\"1\", SuperscriptBox[OverscriptBox[\"r\", \"^\"], \"2\"]]}]}, \n",
       "\n",
       " \n",
       ">            {RowBox[{RowBox[{\"2\", \" \", OverscriptBox[\"ω\", \"^\"], \" \", \n",
       "\n",
       " \n",
       ">                 SuperscriptBox[OverscriptBox[\"r\", \"^\"], \"′\"]}], \"+\", \n",
       "\n",
       " \n",
       ">               RowBox[{OverscriptBox[\"r\", \"^\"], \" \", \n",
       "\n",
       " \n",
       ">                 SuperscriptBox[OverscriptBox[\"ω\", \"^\"], \"′\"]}]}]}}, \n",
       "\n",
       " \n",
       ">           Rule[RowSpacings, 1], Rule[ColumnAlignments, Center], \n",
       "\n",
       " \n",
       ">           Rule[ColumnAlignments, Left]], Column], \"⁠\", \")\"}], \n",
       "\n",
       " \n",
       ">       Function[BoxForm`e$, MatrixForm[BoxForm`e$]]], TraditionalForm]\n"
      ]
     },
     "execution_count": 51,
     "metadata": {
      "text/html": [],
      "text/plain": []
     },
     "output_type": "execute_result"
    }
   ],
   "source": [
    "OmegaReplace = Derivative[n_][\\[Phi]][OverHat[t]] :> Derivative[n-1][OverHat[\\[Omega]]][OverHat[t]];\n",
    "\n",
    "OmegaLHSMotion = RotatedLHSMotion /. OmegaReplace // TraditionalForm"
   ]
  },
  {
   "cell_type": "markdown",
   "metadata": {},
   "source": [
    "### RHS системы после поворота"
   ]
  },
  {
   "cell_type": "code",
   "execution_count": 53,
   "metadata": {
    "vscode": {
     "languageId": "wolfram"
    }
   },
   "outputs": [
    {
     "data": {
      "text/html": [
       "<div><img alt=\"Output\" src=\"data:image/png;base64,iVBORw0KGgoAAAANSUhEUgAAAjkAAABeCAIAAABO55LxAAAAzXpUWHRSYXcgcHJvZmlsZSB0eXBlIGV4aWYAAHjabY9rDgMhCIT/e4oeAQEHPY7bdZPeoMcvPjaNTScRxk/AENr7dYVHF0cKmiyjAOTSooWrm0xTM0cqIw5JIV504yG1aWJ1lL4PuPmxc8PMnH8Grfkk/Qf3oqthDRKePNZ5P1Y915z3QUKbym3i/7uKMRKiqUdlMkNxn4NbT0hMyXDhCXhhxMmkT88NZt4G6xVSe2MXN9urW4A4OPsK0k+S6lk8RvGNBu1EFznW61gkfABfrVqyLDI2DAAAAAlwSFlzAAAWJQAAFiUBSVIk8AAAADx0RVh0U29mdHdhcmUAQ3JlYXRlZCB3aXRoIHRoZSBXb2xmcmFtIExhbmd1YWdlIDogd3d3LndvbGZyYW0uY29tXKKmhQAAACF0RVh0Q3JlYXRpb24gVGltZQAyMDI1OjAzOjEwIDIwOjA0OjEwt17l9gAAIABJREFUeF7t3XX8bUW1AHDBBFFUsLtFxW5RUbEbUVEMFFvADkwEDAS7OzBARSwsBONZ2N3d3Z3v+3nrvmHcMXufc/Y+v3Pu3fPHvb+z9+yJNWtm9Zqt/vOf/5xsKoNC4F//+tcLXvCCf//739HqRz/60Wc84xlnOctZBu1kamyCwMZAYELvjYH7Uno98cQTP/7xj0dXf/nLX/7+978/+tGPXkrP3Z1stXnQqk984hM/+clPbn7zm3fPePwab3zjG29zm9ukfq53veu95z3vGb/bqYcJAsuAwITey4DyRvSBFlzqUpf64he/mDr/8Ic/fLWrXa0+lne+851nOtOZrnzlKy9zmFsvs7OR+vr1r399u9vd7vznP/9I7fdp9t3vfveBBx4YNQ877LBnPetZ//P/5ZWvfGU8v/vd7/6Vr3ylT2tTnQkCKwWBTvT+7ne/e4973OPPf/7zSg17GkwnBH784x87PMnKar7rXe865SlPmQ6uj33sY0Go6gfXBS5wgT333POXv/xlZ/tDVkBL28o///nPwtsVeUXVdqMb3WivvfYqjOdvf/ubXaTmSGPGZZzjHOcg2Gn/Ax/4wOlOd7oPfehDeqx0Z+1pAr/xjW+MNIyp2S0TAiuC3o94xCOoENbi0FgXPHFkOUYo4kYa8K9+9Sss/utf//po/9rXvva9733v73znO30Orrvd7W7Xv/71Eblhx1bAn5O19YS63uc+9xl2HGO09qQnPQkv8K1vfaut8e9///s77LAD8m4vjTGAb37zmzvuuOP73ve+aPxmN7tZsBKnOc1pDjjggD/+8Y95p09/+tMveclLVh6OMaqpzS0EAquD3k6Za17zmg996EO3EMgvYZqA6SRxvPzwhz8cvDtkBrHZb7/9ouVPfepTSQa63OUuh9suH1zf+973Tn3qUx988MHDDsyZ+fa3v72xzWZadcQRR+yyyy6///3vhx3H4K396U9/OsMZznCve92rreV//OMfV7/61WMNttpqK0Lu4GOg+rjuda+bmn3Oc55DOj7vec8bnV74whf+wx/+kHd6xjOe8fnPf/7gw5i1QSfLq171qnve857777//W97yllk/n+qvAgRWDb2PO+44OP+LX/xiFYAz0xhWcDsce+yxjqw4Rq5xjWsMLrCGEZ0BJQD1hS984SEPeYjTEpMdnVaOqfrB5eg4/elPXznfZgJ7vTIlwU1ucpOnPvWp9VcNtOqoo44617nORTxcsNclfP6iF70ITCssQN7vwx/+cBX8+5nPfObc5z73mc985h/96EfDDuwSl7jEAx7wgHqbr33tay2k3hPnEnWg3Z3udKdhxzBraxACC2xsJz/5yQMvod2sjUz1NxwCq4be1OBw6W1ve9uGQ2amAazgdvjBD35AG3S+853v85///AMf+EBQfeQjHznTpDors6+f85znrFf7+c9/fuMb31iP2267Lak9VagfXDzaVHve857X2ddMFag9L3axiz372c+ufFWlVV/96ldPe9rTvvnNb56p9Y2qzGvFirZxHMxIpNSXvexlMTwb6YpXvOK1rnWtATmU3/zmN3ifl7zkJY0QAMytt96aRjh/S7N6oQtdaKMgFv0edNBBN7zhDZlVcSSHHnpokCu7YmNHNfU+EwRWE70prKhxZprIhldete3ggKLW4teAbARwiDinOtWpeLgMCCsKwBvc4AaNDbKT8QBwJvALSxXqB5dqZzvb2TDrA44qmuJ/aL4f+chH8pb/i1bp+0pXupLTfPC+x2jwgx/8IGgWvCq+/vWvf/nLX867pjM8/vjjB6RVWjMGkG2bIIRDzOhqUgUugj7ZWP0qmp1kfwO7/OUvb0iJqI+xWFObg0NgNdEb940NGnyyoza4atvBceFg+etf/5rPmiu5FR8QDrj8RoVQdBEaQsFV5YOLh4VqJ5xwwoADi6Zue9vb8jYk8qaW/8tn/eijjxYIZgLBaK94MVojpNxsGydb0U477ZS/JdVe5zrXSYqvxSdIbtNICvutN0jxeMELXvAUpzhFehWV+YMs3vt8LRgANo32OX1+05ve1N8CJuZrcGW/KqzLyo65/8BWE71Z7HNs7z+dQWo612ZtZwW3AwA6puJsSYX4YsVnnV2hPsGlfHD5li6ufHDF8RtHcbnwZhRc3H+BaD6//e1vv/CFL0zN/het4lNHpluRiNquuZ8stKXJdaKzvpDsu971ruc5z3kIjn2A29mgCgxg/iWjNFbGGb3jHe+owFPl7bbbLhkw+/QybB1qyRCkUqEM3Gabba561asO29HGtnb/+98fnA855JBhhwFWHErpT65ylatAJ4Gxw7Y/d2srgt604huVouVLX/oSn6aLXOQibNL9wbj624GY9eQnP5nA6uziR/bb3/62/+wKNZ1dbQeXr970pjcxBiGZqYXGgyuO309+8pPlITG/ieohKrC69Ry8/bXzzjs/5SlPOYmgJgnLSmvlLne5y+DS3BgN0uOZudIzakrYk8oUhhGVbRkGcV8xDAp6mBRztMBXuMIVaPmicXpw3BDFYw4BKS122223MWAyX5sOF9qAxzzmMW2fi/j72te+1r9xYWSDR1307z3VDMcW1uk5vs0/yZXmRx55JCyqbLbdd999Qa0yx7kF1Tsrgt4YZ0wYj6cFYT7f55zHYmle8YpXzNeCrzq3gzoVO0q5rwW3A0J1q1vdynlFK7jPPvuY3eMe97i5Z5d/yAcYzxpPnKIOJccjAcBP/uis7BUwth1c22+/PRGwEAQ2t7dquA69973vjUGeZK8Kisd7bRBAjN0IRwCjRXj7dIQXFp979rOf/Xe/+52TF3Cp5kIgXbyInsN9RDtS/4Vyjyc9okWMrVBEhzjC8OIXv3jxfodq4X73ux8pIbeo5S0LswOrV7/61W3d2UI8XOgKUgUYD+9/+tOfDjXC+drBKOBDF3FSgiEWF46F5cA2dhDDIhIbdi8XlykkZhrkHe5wB+0kwzUn1bOe9ay5HXum1lYHvfmsA9FGLb1IR4cvr4RFnObL26GCEvVlGnw78CN3nkiFo69HPepRjN+iYmZCj8LO1VqCVQoMhfBg+P73vz//sHBwhZLm05/+dFtHc3urClrVMu1FlVaRubyw3oMAYuxGXvrSlxqtQ7ZPRxyyVX7sYx8blflE5ia7Pi0U6nCl4+KfPCeRQ4mUMCaNnzz+8Y8ny6+C2BHDcz6KTTbmxtEiVJTa5eOeRz7YMrGmFnBYRA26dcqKBWG7gZ9bI7p4+zb5YvnJ8+hnP/tZGlUgoULr1X+ouKWIm8mRhGCEd37uc5/bv51Uc0XQ27bipCBN8xxTWJFPytuhjhL1YQ+7HSgz0X76+aSbGXZPCZ65853vHLMgWsmowHW5ogeKt4WDK0xWDEuNi7iIt6qcCXYKvW60vEmuwjk6lfqr1DYct/C2AJQAXRiPLeQUCKXqSMMm5nOg6PT5lsvk0pe+NNXtSMOYtVmkiIoSV974oX3CeLn33nuXmzUjsKX8zKuBOZkGEq8OVZ4VOJSiROSUEAtHQtFBAKq0Iy1NkKv+wsQxxxyjPmG00hRCFdnYZhrqiqC3k05aOW7NPXXyM81xOZXL28EYKijROKphtwMKAVW4Po0EAUyqPAaiVsrtlw+u0EySRxsbWdBbNbK8RlDsJlpFA+vRxS9+8ZGAMnizd7zjHQ2Ykq2zZRKPmqwXo56bKFA9eK0yNsF3jTxL4xRwD05GBvPcubxS06vPfvazhYxNhADupDSTVJHEndys4kNCg5SjqU3q33RQkju5WqDxbZQsvqLcZ5p2iNeNf695zWuAvWAGq8/aStF4tGkjG6FUmGDUZ4WtfGilkqjE0Yj9st6yRB4Yugc96EHplQ2S/0zP040J/WlVW2iniduA+IOZwtVXBL1ZNOfQbI+x4riKyMyZCsAmPtK2iu1QWfTydlC5jhJ1tBl2O2j/Mpe5TFIAdh5081VwJjCAlQ2u5YPrYQ97mEFK1jPfAMpfIaUa5wqn2iZaFbnApZ4co7/UJog4HWghCSILBhiFtaBwFKIKbIMK24majC7xc0Ej9qjwicbRDytE9hdewHtVIdzYBqlrrOvhhx8eaZyQCqcqhZuESfnYEGaxB7zzaZMVjXBST0kLiQssaqgRXbCifdpUQewppINTu8aljyrM1xEQHqV2VD1Rr0Hy/DG2nByWoXff+95Xaz3JeXmCSJQdSNhlFopO6Tco/Sm6DQkdfcMb3kD5GSLRRS960Zw8aNnIEzdXHnNYefnX9EQMJ2n022gYDnjmCtW2ZtcXvfMZDbjiAIL9p3ymHwp9FH5LZjnoLRjDBrGDMLhcQ0EYd/WEJzwhjaRzO/RBiQG3g3hNJxW7VOAnvaKfMLYnji25GsOwQUp10divA/91r3sdHpRRP45rEc2RbbzPTqc503g4r22iVVIQemQtR5onraVjIgIvHKDwSSanRfrid64pJu62RtAkPYYRTuEPFj/HSAm4yEQq3yIniAq7SJyeiHrYNlg+o6YdiK54IlE/MkCKZyGIOYqeSxoYSXI9SdL9M5/5TD8j7p2ABRrxSV5yITXuAqho9tJQdUrwj20fBWX1ecUK6JjwKj8UBqRVhQkyI6VLdxKteuITnxgpjBXii9NKyGoiVzmXFlGQdR1d4+BDWZ/Mv4UJEjuYKvPYPsF/5Ob8ExYsrdEBdDr+rCl6V+AzE60qrDg6gb2z1rG+QatwJwAeTyhXkStoj5hF3JJtFbnZ+myHMkoMvh1IKk4qDJBxOjPj4Npjjz0GPGcGbOppT3uacXJeb2yTc+Ytb3nLWAXHNbqVwu/actTm7UT2XnhyEq3CQadHA05DU1iSkIHsQH4sdAXh3bigXjuk406XGPmsAkyI5bDzGqM1jAYzD5dF5vfUfkQwMCXGkwgYcszlTqIifmKayV2YJ4+fvJJSO0xTb33rW/sMm5YsNnOjzwUvACIdL0c5QfyrpvxvEaXIay5vn+jgoZXq06k6M51cnRO89a1vrfdEq7SfLpGjBOf/EkjIyqIa5inpHjEBnjz4wQ/uHDZdEzUpOp2nTat/RePE35cEjGPAHWsctxgCGbM5xjP/RHiQ5z2TnK0XetchM+yKy74auyC38zvi46HMT3HmRHCOQiDoXOKoUECJ8bZDpIRwn2HPQW5UNXegGye2r20AJNoAuGBEQV3UG3aNP/okj4/jLix2m+SqIH1jJPKKGwjJCnW7dGVuuHJsJqsPTtyWZoyxydvyYIbNrTNheYRqOnaH9Z8ZCS2orYy2kvgETHD9jjmdomERREwHmI8BUXHqBZzDLOcTP8lnyZXDBi4k+c1b467qW5qT+jRRO2cuEgWeVgeLFPKHZQo459Y1qgwPiV89wTXTydU5QcZevee0KgVR5qJepD9WknJ411139VOQXOew4wjD7xdq0nvH9anh9x/+uyGwhrNvZbljXpX1bWt/vdB7QVrVueLcr2Mpc1oVWXjIVXnvoeMVOdC5xFGhDSVG3Q4h9PcxyfecxUjVKAyME5Pd1n6cJ4wO1IBh1GRi7+mJHRnpgmBvyltB5+BRn2QKWDmainJxigXSMH2HNpO+MiShxoKltSQEL1HZbNSYXGocfsBob36rSv4tc5efndlcpIxSjc5HTFVb76vzPFQNXB7yIaE3nodfMnrPpOQPpqy8DtCF8IqFwaf7I1JPmj7HJOSfECb0r2eOjwj7j5QcFZiHoxePNfCkn3QQR1hGuMPBJ2rJ9Em0AC9jseqlgktBSyqolXCp8nnnBNHUyifphoX8uT0WP2MLKG3Tr7TGD0UGRdq/ck4yTAZuIxT0WsAu0EHFsRvLEetVAVrPzAvrhd7muOQV12Nh0dOKNyJn/rARJWD1sNsh79GuobfwpPEK+c4BL7NCHMLY5bZOuXd5ZXeDWDgNkqsc8n0GGSRp033TQQzjhohO00JhQHnHKeMhA0k8pzWickVXSXPMKrkjAPRl5IdSFQtWaCqJ2I3kOrISdKZbDYao7CMwErsxR7MxqYIlL5lb5e2ttJ/SpcdlVNSJSVmvTZql/s7QYdxCIytdELs9T5d1iVfzk1eVamwDsdB5GCZOJR42uunPikuVwXROMCJdcrkq9ZjjeULRz33uc9FFZEqUHKuwgu5ORYmlqS57LZIyI14igO9wtEVTcmvRLV5VnH0dfx7a0n3wZ73Qe+wV57cS+JbLVeF1WZGrIp2YfBB9gNyGEsNuh8pIQhZRZnIK7TmdYas5zI0zGSnqjYdeQWk7zAvjccL7MC6m+C+5qlNMoWiip+os4XqnJA1yaOFsXVosx1niee1e+815R5GChsVXURgYWW6Sc0T+yt/RQjk5qbeRqGr1eRODJDCF/MErqTLZ9DMxiXFRUF548cXPgAzUkUSA403wLxRcRJ+4Cq+zkNbVqQs0kdg+pQhz/jqvkTQPg1aRUcIgHCW1EOd1pdRxyW2k6rC95QiWcKny+SITLEOgbfr5vEiTRFuutOUtQyuAphKkQoQiBhFwI1NwAlolN2MArRFilWGvF3ob/Mqu+Hw7YtjtUBlDSMxY/FBXrnKJQ7iuxogx0/RE4lZeSCERzVRif4UyaZO96rKXvay/C25185HiMMAgOW2fh29+W3683DWg0oJUET5sC5aOysmWPlM6u/lmOshXHOtNisayHgqG6xfqFNK0knJwpH5TDoWw1Ye4o6B8KRU9tWoflxYihS5k/ckn5UPr6Hk4WztzUYuUPTIsN/vuu2/+SeAobOvTqQ9nsld1TnBuuSqob5sp1MTDgbDPZaTMTpoi1AZYwlBMJvO3ZcLsV66z8zwWq8/V4GuH3vU9MuyKjydX1VFi7O0QLiG3v/3tBzlYRm0kTh5xgY29CCSII2u+GzhZeVPjVZ3+TESvs3I4NWEVExrln7BthL9jHCv1kmf5rbwN+xN7SWEMwZvg9GMYq19QKYOkp5bWKB+t080RhkNnfAqP23Cxq9SJRQ1/dKeADF3+ID7DksgqJgaW/1snHBqTx2Nt6NB9G5yOximRw1hleOLzMICVpOaRxRn8G20GncMoV1hkguWWC7nznVAUd4RIEmrlChUpAV25WWk5rP1J9mKsQuRigegh6Q8lJggGJZUAWt1YWB/z2qH3yq5458DqKDH2dojFXQuFUBzCbQ4BYYOnimey7YRzucK4tAqs42wlsdXHwU8s8pQnrYg6iDMVbSqEicYJBGg4kxSmF+tdvuqCMk1kaMppz7U9vqoUgg5lK81sSKOG5+9y73MsTJjoFJ4UJCe5GdEn7svUd7xOUB3nY/g6exWpelIJ/oXVKhGGYEkUT8L9zB+h4CoXzh1EKCdpbvanwAk3BHDwb6QKFOlFb8kDG3y4rlbwlTirZk+Hjq5BNbwvTzAs55u0B//3tRlFK0abmksGdgJTPIwBS4xW7xKBZE20TNIcCNSLcsQRR3CvIAnVL9OJ63/wB4iWTiW/CFS3WKg7zAxrSiohB/cE2lDojQCbrCEle5LzJXJDr1rps+KVRY+TNFj+NJ3AirTindOso8So24F/WUQjtNGqnkvWs1rn9MsV4hhso1VhD5bVYoBbA2MVR9IBalnIcUxVoDFKQJfFbIg8eCVpTaxHLjza1RSDQeGoa9tiIOhhVChHSIT9o+BSjM9lynZ8S3BgDP4G0LpPgVeGxCSuNSSK7oX44u+y+X0+uTsC3SqFl0SKpoIZYcPjiOHEjF4ilJuUk7RtFpSKKQXzRgxECijuHJt4IPV9ldcM/1GeOQ5o5zInC8clcwvC1hjWF+dyJaFGoeuZNELlCSIMYdHNE2fEJc5KfnFtUPEcTyL+JnfKiDGnmvUF8gTE6lOjUQgCLyYkkkaTccWXUO4j8PVkH8EzsYR1LpAKQ6G3KOnQqBPyol9iREoY2mckc9cZcMWN4dhjj42lSYk/oEEkDVC4rcY4aRcijF1seM+EXo0oMd524Aofw2tLfdRzyXpWm3v54kO9GG2jHSdcGZWe0TL1keQ6wHHtVdE3HEKQEkePJYkgZ9YO02jUyUb4VORZaCwRwonDbauAXw7dS2dSpdBAkldY9ePSkMY2wyUkzmjaS6WnGWZWVOARnvRLNhXWu3I3jJ9oJ7LqIKZTEuSLLDlociuXEChHngoSCOHuVWZS6h9kFtu+4iilfS6CuXqKyxwRMCV4zWdqkAZvv+XZocqgYO4y4PoJ3vhVYYIUy5GAKgrEE6RsfXPOjrqVcJx77lhcIIq+5Av3YfIM9CRseIVCK9g4TsAhfaaucRgoZdv1HxSJuugTozoseqOp1BvpYhdm0eDexi5DrTjyg5/L79qmLXfiJ4cjUMVRYelwbxGJGIUFtzPusw0lxtsOkWSyHP7Vc8l6VltkoUPTI/S+3kjkDAPkuXOxLptWpTmgBJRa6YgPN+v6vR7imT1PYa2NcBQtpI5/26Acqir5FDqXgZO3mmJaO2/MC+kznMLHLs44uqPCkECSEtWph2Gsp+SJlBMwlTJHmeNiSZwELV+jWwq5ChyEDRUuWENx1RGsOhKgFp9gYWD4QSfagPeOIsCMr06fQgikBUVi4VgBqmnMg6M3smG9grFzfNMxjLRwczc76op3jqqAEoNvh4hWDOVTofRcsp7VOiHQViGE4z5JLOfoYsNoVWWsJGusEE6zcjdaJNItRz9QpKhDymmbf2hs0o29BTCFAZx01QnKSIVQSHze2cIaVXA0kG4bRXu5HtKNoo0zYgUkzQx41i8fbgKoCXn1OLa5R8L3pOwKRaxHIOuJ4Rt7HBy948CNpGUU0T2HMTc01vHDNpQYdjvYd05FConC/QkBvZ5L1rPa3CsSycxmvW60Z3fL8wMsKU3+zzlbPF0EM6fUBrjLSNpRcAL0NjLRMULmXbCH8aALf3/nguMyaH65hFcCKaFcDeqEBEaO6Wpyc3iPh3BSUxuyrCSvhJgYee4Wt7hF2ySZhalJqXZjHde04EYpPFmh4rqcBQuNMUi2xYppHO9lW7JphS9oYxkVvanl6czhNrcdqF4YxoKgWN/P21Bi8e3ATZr3WUSjMnzYbrx1OmPsei5Zz2pzr0scwqE2H7cEfRvPt6KTfh555JFMILwVpEB2NHDhZa2RObQsvqBtDAz5faxUoqJVACsc9vzRmdnW2OjZEEWOyHgZijICQbKvVAwnhNxIG4H/jQ87p7YZVKBdRKsq4T48EnNbTmWajEBzXGW0mrDiB0S47Mx63jl4dKigJ8ADMehWbl2qtDk2euuON4pEaCzBnPI7Z7TFVqijxOLbIRzQqP44KEpLrcGepuXGJWM4qKiaR11Zjjk0EP3N0jNhzqroANOgSULco/mSMVAL1um0G8WH4RCck7TIfMGRH0tSj5bNYWTnM6hgY7kJkQO4HfuQTZvrWsR4ss+zh6NPDmVxM8R/7gyesznDJBz3SDLvTAu5tMo56vtbsFeh63QJ1tKGN2pHg0yHuN92wYrBQ/g+OD8GeuegCwf6YMWm0hPDB9kOLMpOG1wRmYHNsv+Vb/UlIxNj9zHxcqakKYy3spFmpY9bwHwYtXK0ar5pRDq1PLdFREGZXplF1R22heMAkhaJ2vj+UXkRy1LGqsi4QXSLzKRkvnBvda2JnzRgfQ6X+eY1fTVBoBECY6B3zr+zuzgoF7wEdVq7+SAgeSY7Pd/umQ6W+pJZ0Ah1yi+1GW9lDVhf4+XX2ExolbsygUlGhvmQg5o1l1uZNCvXNRH1RMU6ICpe742ZWOcbw/TVBIGRINATvfO4C3IbBddI45maHQMCjUtG1nEq5nGN461s8O40T2PMTpur4luxoCGOYp23TAoAnLU1+e7yJA7kqkhzHoVoz+9DtDLRKi4STCUCJ6cyQWCVIdATvVOWE6Ew/ClS5OwqT20aW0Cgbcnk4eQQlC6ZHHVlGW6couSqJSzKuDmWRp2ABArsSXwcKjcADdKp8CYu13vvvfcgrU2NTBBYKQgk9JaaBCsmVpp5Iy55mcqKQ6BzyWTM4kxIozj2yoqmZ853CIdT29hljWkV0HBJJ/dUMuMNAjL5IBZPtjjISKZGJggMDoGE3hLp8sLlpsSkMUaK4cFHPjXYuWTiuKWM6ay2OCQdvHCmT1zQ4n1pYSs6Qf/JLSZYnY9/Sp86SOtLaISoS+DlZZunTllCv1MXEwQmCEwQ2GIhwEri/gqOi5JrjwcEyTskkhXRxF1uveUqMHLPENEq8khOZYLABIEJAhMElgABBy/X6Mj4t5yy9rSKBkPiCcnUe96QvRywTr1MEJggMEFgc4WAKC5KOPfjcOFZ2hzXnlaBlJh/AYzpAsqlwW7qaILABIEJAlsgBI4++mg+0nLbL3PumwOtAi8Ru3GN+lQmCEwQmCAwQWBUCMi7FleNL7NsJrQKyCYvpmXizdTXBIEJAlssBDbksN18aNUWizfTxCcITBCYILDZQ2CiVZv9Ek8TnCAwQWCCwNpDYKJVa7+E0wQmCEwQmCCw2UNgolWb/RJPE5wgMEFggsDaQ2CiVWu/hNMEJghMEJggsNlDYKJVm/0STxOcIDBBYILA2kNgolVrv4TTBCYITBCYILDZQ2CiVZv9Ek8TnCAwQWCCwNpDYO3zrI+0Au4rk9n35je/+UjtT80uBwKudXbfj9tvo7uPfvSjz3jGM85ylrMsp/ctvJeV2kRbOCaceOKJH//4xwMh//KXv/z9739/9KMfXcfPAw888HGPe1w91Lft+dgYnudZP1ncPSy1u16lIxzpKuL1avZXv/rV+c9//s9//vPrNexptHUIvOENb8i30/Wud70JSsuBwKptoi0ZE/BqbizLN8KHP/zhRjTYa6+9nvzkJ9dftT0fG5dW7g77j33sY6973evGJtE92wd9N6bIh7vzzjv3/GSq1h8CGDpsXdyaNkbBPmMYP/CBD0Tjhx12mPti/uf/i8tSPXSRwate9aoxep/aDAj02URjY4JhuB6XQFDAhO9+97v3uMc9/vznPy8zIpa2AAAdBUlEQVR54ZYw9x//+Me3u93tbAdTe9e73nXKU54y7QLnrfPNczlU3auez/2ggw56/OMfn7ZPetX2fKlw21i56pOf/OSNb3xjE3YR8tgkumf7T3rSk6yryxt71p+q9YfA97///R122MFyy4vf/6uZatp+t7nNbeITW+50pzvdhz70IYdR3oifGBEX8MzU8lS5PwQ6N9ESMOGd73znOc5xDpr8AiZ4BRVJ2//85z/7z27BmkuYewi1rp6IoV772te+973v/Z3vfKcyckSLPvwb3/hG/ty1wu42/MUvflGp3PZ8QWiUP8/lqo3UAf71r3993vOex36wOrTqT3/60xnOcIZ73eteoy7Altm4m9mufvWrByNGIY7XGxwOTFMXvvCFf//730fLN7vZzaK705zmNAcccIBLd1KPX/3qV890pjMhY4OPYWqwcxMtARO++c1v7rjjju973/s6MQGVuuY1r+k+9OUs3BLmTpa6/vWvv99++8WMPvWpTyXpx/3vFZx38x/1YL41CGT2C0GqApC256PCbVVoVUySWWh1aNWLXvQig5mOsDHw7+EPfzjY+vczn/nMuc99bpdk/uhHPxqwI0r5M57xjPR7qc3nPOc5e+6553nPe97Yq8jYH/7wh/T2nve8J35zwAFMTQUEOjfR2JhgDDR7173udXtiwnHHHQc96pLEGAu6hLm/5z3vMZ1f//rXMf4vfOEL7u/AJqJAsREqGgW7pvLkJje5yTnPeU5ktQKBtudjACranGhVK2wvdalLUVItUyEw3jKvVMsUMqc+9alf9rKXxahoZq54xSte61rXGhDUX/7yl+3DRqPxa1/72tOf/vTeJmbTGNixTnva0w44gJUC+AYOpryJloAJ5n6JS1zCnXZ1IDRiAmyEG29729vGBtpy5s5Eh9LU5/Lzn/88DC7bbrstPWSq4MrEO93pTnl9pEu1pEJMr9qejwe3iVY1w/aDH/ygFeLxMh7ot9iWv/71r6Ml+fRpio4//vgBScVLXvISy/e73/2uEciUfltvvTUlfnp7wgknqP/pT396i12UMSbeuYmWgAm/+c1vKJnhQ09MUI3CkJZ4DIDkbS5h7rqjALzBDW7QOBe6B+cbtOdklCowRF3oQhfK63/ve99Th2q00kjb8/HgtnJ+gEmdurF/uJjZAMi5GzuMzbJ3+reddtopnxrm7jrXuc7JT37yoebLTwc7GfJTvVz0ohe9ylWuwu8LdYy3MR4KyaEGMGs7Kepr1g9XuX7nJloCJgT/UcG3BLQ6JgQyLAETljB3c2Ggaps7En6Xu9xFHf4UCSAqM+9Rj6cn5znPeTgfYTt++ctf5sjW9ryOkODP3ZcWcUBcnfJWnARMoYt+JPt/DmV2Rf5CGBbn3V3vetc3vvGNA67BSE1BF+Pkf0/bhgA/8pGP/NnPfjZSXzM1C4PFcNA8QH1uLL/97W9n+ryt8qlOdarw0G0rjGQXvOAFT3GKU0SFIBV8PgfpfdZG7n//+2+33XaHHHLIrB+W6284ohY2UePIxajaUDCBQjjo3OKFtjmtb2NrFUxQB+YkxFh8AD1bGGPuurYRCmyQuatzsYtdLA2ycSPEMYj/q8yl7XmlGrMcZpQfJpt0T2h0VwvxbQNjgVfEtwK7DbiKlauItEceeaTnFVDuvvvuA+qvhhKiP/KRj0RTNGyIQWXMPN/e+973LtgXEzRVxtyNIFS3utWtGIooAPfZZx8jFCc/d2v5h859u7StKVwe//UHPehBqQKbs96ZEAbpfdZGQv473/nON+uHlfo436997WvxcDxE5dzsNO8camETNX4rqMDOopX64he/CBqwInd+6eyurQKAaO0tb3lLY4U6JqhGtlhy2MxIczcX9kIcahtwnvCEJ4AzniZVeOxjH4ttqtTnHwiGdW/Atuf558cee2zKfOEUWuScnOxVDesYJJPkW3mHT+Q/c/aznx0jLK9HnnVJEMnc22nwD+1AIRTGLxJA42KMTIcp9YlPfCKJ0PiDbomcSA5CPcdwhzvcwedJwU1VctaznjXXd/dsJ6pxSTIMIbr+ftSjHgWneevN1EJbZWRYyykw7k1vetMVrnAFDhRx/Nl17O1IePpcIgMaSGf9IL3P2ojxECbEbMz6YV5fdCc22X72cEBEray4xpGT3Xbb7ac//Wl5tG2bqPErxyXuAWoxMVqF7bff3lwiTnzB4nBkf0r5FzoxQaf2OPfFBfvt//l4czcGDq6Xv/zlYzA4bwtn+aCHnwxOTLaveMUr8qE6K9SpDJ6nid3kuOv5PFX7wQ9+wD0NEwYZHvjAB2qERqc/ZCo1J1rVALqXvvSlwErLV3lHe3alK12J9iw9j5qKMLq512DYD/G8xolQcfWJY8vwXv7yl6de0KdLX/rSMeyZzkeHSLBIsDy1hiXEmj33uc+ddRYUAg6FbbbZJtEMCsBZG2mrLxcAIpq8b6X+C/2egDlEy7ap8OzcmuvLPdRgltAOQkWOTKs5FKI2rjjYUiQwt5TXq20TNUJj//33tzqY+ngrQPtvf/vbUHDDt7GGRmudmMBnHVp2UuKhxqadUedOY2HPJhf8FGXofNhll13e//735xNxdCAtL37xiyuzizMEJ9HzeVTDJehCUow4iBT7EZZKIDIf9FaLVr3jHe8AlFve8pbzTWaor4hNhnHnO985b1D4N903SaLSi7icOPeXid+FmT7mMY9xLqf48wc/+MH0bJX6KW+KbdwfaMccc4xp0ipUPkGoImtL/6bUlL5Faze96U1n+qp/5be+9a2iqRJjgWGXQiansqkpingBXosoM/uPaoyaqD4Ree+9947GB0TUthVHSwiCKGJBGdi4iRqnrzXsDmSwEGPAB0DOda5zvfnNb47GC5hgJAy6MhKMMYwNmbtO+aCno4xoRdnADzZXKqSB2ZLUdPU1JR7FEVcJO2t7Hg3S8KOUodpJhYJ37o22QrSKRoi5G0TQXtlxPve5zy0NYyod0fAaBu47f878k1s40quUorgPrbJyqB07akH55tVnP/vZPHq8MjznLx9rHCLhAJObq4Dp5bFR+Thp3isO4lrDtHLaNseZaFWbFA8pL37xizsuZ4rnvcxlLmMAoQAcqdD84Owqu6XSlzFzBmuzZ7QNzMEHXesBkoWJFFYtvvrSl75U+Vz7KWmyWcSKV+pYyqte9aq51WEQRI1eCnobSa8tH8aobcqNm6ixMmBqitGujxlsPlRhY3O2lDNQO8clzeO0XbdSz9dpn6+WMHe0WSj0oYceWh6PCCrqFuSnXi3lSETk8rdtz/tMfI46K0Sr5hh95ROxFFgzxDxZmOdrMwxRhX2YN0sDqzKdeLkvHtIwhnrhAhe4AC8jBSNswOkrO+Twww+PxAoICZJDzSKtat6szSyqkWWFDlrRiDjzlDzGW842Pu+kGZTy4SDe3z6EOY30zCIo6zOVIcKrPhZp8blU5PoNTk1Arp/MRfOtVOdXb3/728sCH2Mbx4rOdioV7nvf+xp8I3Nab6q8akgUjxInadKxID+GzSOO/wscgCTOfRZvPZLs2cPzLiIkkw6zcwo9ETW1U15x6ArZYCnEbuy6cxOBnqVXGEhMgYEqfs7Nd5ch4BR+9rOfXajj0KirvzqhOl+FJc8dOwvHyn4NooYL+BysrZtEKvNtex7Vvv3tb0tEjqujg43jlALwRje6EZtZz72Td7c50CpadSm8IhGqgh5g8+fDofiKy6x2et6KEjFYTpZCj8gJosLWFVQElxeGH+rj+MrxxF7iCYHS5scKRWpE5ba3vW1i9MLxJrFIz3zmM/1M+t/Ip1LX0dUHFgpoijuxFJ2AsoFpBvLgJ45SRMP8wwgMxBp32sMf9rCH8fVH2tVHa/2t7LHHHp3DWKkKM9Gqwqox6kSWayXRKlqa5LdpjZAr1mkmonC/hjl53q/4nMtAJ3z6IGo00mfFVYPzuq7QzjSMzk2EJsXqx/TNMX6OkRyyEzhLrrB2cw9XVca8CqDanke1pz71qQw6sb6OU3QrBQPgxmaF+drTKpjNgwgsbG/+KphBIFhQig/1VB+ZQ0YW6hfUMc9TUlkDHATlvkHmbmYRmsBJNypHbA0aQKeXPuezF8ucvJJotPwkOKY6/NkYZuInOuctA1UnEqij5v3ud79yTRonfkFYJ0Qxrvyh+A72nE8Epin//CIXuYjnySpQbpkEpvKVr3zlzqGuZoWZaFV51Uzw1re+dU6rYsrod6y+HAqBzySweJK8h8NggHq1ZehI0OuDqCrPtOIkbL3bLI1r1HMT2TgxqY0KGNhABFujudPwWyMxmhVwtT1P1WgFYn19yypM5+/A9McPf/jDWSG/3rQKe8K9FSCcfWX6RHAhClACYAMdu2xCtmVb1i+unNrsc09EkAeMcwHupG91KhnJDMbtA2iAD9GwSCVJB5i34wBCEjwnk4Uq3yd+ks+SWpnyLXHZu+66q7c8s8tIgG1nETTHoOtthcYALdFguEFHns3g36kf6zOKsVWm0NZ4qBMrFsFZcXcD689Eq8qrZhaYBtCo+FlBGA/JVfk0Q8fLjzwe8uPyk6qwExR9EHXWFafO1Xs9HCcG03MTRSg9cjugF2gnNFakwhrNXRYYy5RyeCYAtj1PFQJF+d9SA4aKlSV+PifPIXMsYRPogsolz94R9FZxmYoDt7Gw5qVq9T846TrQiSz+qN+1HPUZqJ2JZFVpEbg/OKYpXriYo+15hvy8cRdJ+NkZu84QYvFoQuJYaSuhmqvc1ojeeB7uqrwtWM79wZSVN2LMofTHmxBi/BH5u2iNWUHRXUKY+ImUXCPCws2rMBgU3cmINPImcMYVaqKjCGool1WzOnRQcexGjzGkVKLfPqHpkDVyyyb1V2EYK/KqgtuRX6OC6o243blqKoTSv1Ia8ZmArhpFa1Tus+Kq9UTU+VbcasZ+qZSemyguU6e0D6Zz9cvcp1x9ams09zgMHbaVWbQ9T9Ui06b9Ah8i3p9c5RBedKGDGLrXREM9rTWJftan0TgaXnN1pibcWxtLuiuvkRVKfoM4fTpAWRr5Zztbk7sUxOIlZdsfddRReQvsW7rjut3YbChh60xEXhl9dTrrsdMZLFqrDCBvKjkaSLpVGQ/TVIAlHNUqGSio3XLHAeKXmvz+C2wjOydWvTNjBbkz3IijfYcj9EpJMHnBelVRIXKg8hA6djKtwWopnT4gnU0tp8IiuN25aipwMAGNilwVPngVuQoye5iCEMJgie8pwKEnos6x4ilNV6PzWJ9NZNihDOjjG7KctS73siAmVBpfo7kHG10nCm3P00xDN1M4bPsv6xFHHJG2ySbmLky45XRqdbpCW0XZ1VnC56dS+PVD98bixrx6/XhihMHa6xoOET4otUQAUKnFOeuEhQ08fenoeCjk7bDwk8aSXbfSRfC5hTxaaCG3COska1lZ/CIwBYOZJ4isdJc46LiPIC8hYisxJPYt5k0eNcGYUIGK7oobdxSCtn/buHuvOFk97WlPI0rzSGyDajwncaKLMCFEKAwgGU4sVLylRfRvaAJTiX4D8uUS7CSPx9BorX6p43bwcwyKOcI34rZq5VVbZPqdK94fUede8bZF79xEPrTFIsvcukjYi5xylYVer7m3HYblnMvO5HDj4tcjU/siqO7bIElBnjbdC0yx6O+DDz64P8XbkJoEmnBO423SOAAEydt6ypConHsoVD4XOejD/Ka+vIJT+4Y3vCGLS9nekz6JBJG0HPXwETFkMqyEmKykuP30bcqLEY4M6G68QvlSDnj6zLDV4a810mZmI0tZ5rZJVSDA7KQpcls8D9ePuPfaSDD7lWtvPI/x9EGb8Bq4/e1vvyFoM0inM9mryqtmPHPLVRE7L0NH46RmQtQ5VjyOIbxao6m4vIliwJH6T1kwyGSQNV1yI+s19zjEcLoVKLU9j2pitmJ9B7kPLC764YCm5U1yVdjzh03hviBFbfzcJgkJlJN3vYKHIOt5HAT1EiS5sYTqPF0YkdexLWnACBakmYq9R0rAgGaloFKesNAwquWvHP3Od+IL41MwC+FYVanjJ2cbHr3+cES648Af7pix/JFPTwoTGRn8ERYjypz6GFieOI/KB8i+lb/F+Mg5VK9PPPUwiYyMVWhzjIFzCtwgCgeaphL9lq1lUTnkqnVhpevAmfVJedVmbS2vX1jxWRF17hUXftBoWitsojSFwAQthBPpFlXWa+5xGIaVIS9tz6NOmOopt5m9F1/cIElBnjbRqnABL6iSFu91qBYivxGlFumk0iYnpUhbmTRXKiDIbCSp1L+KRmKbcVapj9O5w/LE3CW1BHf5KBSp3CuIFHk22/Rt2MYUnhQkJyFN6BPfboPn7oHqoHnhCO5VZLVJJRgTVqt0HIQzjOJJ+Ob5I3RBoa+re6Pwdab0E3eFaqYxI3XkUUJneFRXSlwTgAQ6woiDUiEEGI1H8CyrSVhTUglRL42h3mB6wr0lXHW3HFplsoVV8zZ8JcK/JpU4BYI/TQ+jDoEpnnDYsVvt4Yqfi1ezIuqsK66LSGHeeG+O54VNlKYT53UY4ba0sl5zj8MwxbCmxWp7HhWEfvp3zz33HORquiBJQZ42bYw4W/sYyZcsNde7o4ULmwe7DssWpQS1u+NeMhV5hjx3IOZfOXkpBkOIYS+pZ7mPylR8KtTfBm1oKwU3EKbj+lecQVI0lSUP4xmLNCoYw0D8PGEYSzoW17XQv6XAzzDmpYDiiL+pmOiJgCmxeuPI66l9dA0twuWMNCaQ2R9om9gIRgghVnKrVNYirA7E3E6UEA0WSF+IoveK/wWiGJHFQjH8XU+VRCg0tpS2g6kfKe0MRu4cYZ8KM+kAy6uGFQj7c54DwsOIpVVEjseQCNCRvQL0kkdPJNGHCfmw50DUWVdcd8G+VFKrpGG0baJ8nGH2K4R89FzintX6rOzS6nTO3Ugw07icSIuuUPlWYvDjec/9ssjUwkCeB6FHa23PvQpf38av5htJZLOLK0420SrO0B6Jk5+vxSV/hVzR8jklE+mmKBcgHVdeNhpFIvKjkO5XWjAV0Ox8LmEbKJR6UHf+uQSvSWfoxCGX5GG/avqJjpqFM4vCTZAvskTVllu56OvMVAUp7DDCKoubyQNTZN40wjyVYhix2gqmuG29yElSaSSoIqJOn7brP+g/ddFG+/MuAuFShFBj7+DA5zDOQWr9iDes+DeS+W5xi1sABWBGvhYQVi3PKD8eKu677766rtPsxh4Lq0ZNHVm1opCPZWgkdyafGg8xkrgWDEpoP6IwUkYaZfcD+ZmnJ54bUWdacegK8qhmnicsn37jJsor4CpCydyWVKnnEvesNh4yzNFy59y1iTDwrYUSvJ399LfN2Ojz2We/zDHI9EmS44E6b6ftedSJvGsQdag0j8Egxq0im2hVcL5rl1MA4JzaiQCEt3f9ogdMuucpurZxCcOo499FFrjxW8eB9S6IFI5d2kskATddFxEiPQEWmOCo1DOZ4mWcaOj0UCN3HDPsIS2F8D1jduCSHirUt3EMobaV+bQ8QhIwGY5OlfaS6VFpNODLTqs19wpqDbgsN33sUHMfqp3OVVuwI8uNvR3KPaHPiifOoJ7IIM2lcxNFsn8ZpMrT77nEPastCOqhPu85d92Fud0Bzek0LvdqHEPP/TLf+An0wSHl1yFpqu35fL10fhXpmsI7bBOtisQtdGudH69yBaotcglpoJLHHhmo8KH1WVB2qVO/W2yV55vGRizG8tdDteYePEwou/HYRQhkoy6x0qnNZlEw44Us8umTuJ+6nAHd5kHSkpQmWdG6xGzNvRz1D0GVqqDN33WOjjpXXHAFfr/MEnVuolBUplsQ28bZc4l7VpsDGmN80nPuuob/oMTY3Hmjbp/9Mt9c4tZsO7cSS9r2fL5eOr+KIJnIn7uJVvkr/E07k4x1tj5TBTKHy2FtAJ5mFQI+UzupMkeGIDlpIo7IcCUoZ1wOC005xHK+IS3nK2mW+DGTzxbvjrMi9/SCEUh4IGxJNpV6jzhBMm5cxxCuIn382lWOzEOdNxdTAESSe7JXWbW4ODRWtgX8JU0jD9U+om15Fp0rLlsHJx0qqXJfjZuIfpKqNpRCGkHwRB92QrXnEves1tndSBXmm3v4Z5KuOkfVc790tlOvEBGcEKzyqu35HF10fkKtQucs4U5g3Um0KiJnZ709r7O/QgWKR3Q7WUew3oNcDUA7xK+XwYP5jRWamzWjkcyt5RPQ/sGtr85Vv3MAlm8CXntxRwOm3fpVjWk8mD7eK7jswghDOUP1xzlCbAS/xz6Z36g3g2Eqp+HQb2T45ULJdJfcUuaA2Lp/Yq25vfTkAwqTLa+4DzkB9bk7o76JkCh8j8WiAWOJ9Eef9ND9l3iVMWHuuYcVtpNv7r9f5sDzCMWp08u253N00fmJDW4M/NGi5km0ilu2Fwz7nU0MUgGgkRN0hYwJj8NBYCjnDgSZR68U9LgAPGOnKB0zChfeTqZ+kOmP1Ej5jsGenYoJK9w3AZid8CRRYUEQTjoKZq22644q45GMOFJPOYC8yo26FY8G+blVI0MLAOg5qc242nxZQXOAlFdczf54Vd9EwQSLtpHfpB753rYubUu8Xpgwx9yhPWsxcRkf75DEFCZPFvsuX+vCflkc2yOOs25jbnu+eI/1Ftw1YQzpyuaTaBUejaVH3MMYvdbbBIUccVlHDIvP9HJ6b+wlUt4Vclts4NjWrmsaXWZCfk2dhI0HI2aNhpZrk2nygCKHyXrHzzBmzXEO5csvdSSlsc8xmA2iN1472K7ygOubiHiBGSW6lWXxyqQal3jtMKH/3NUkTlGiilvgFBp58DjZChKIXDlsGVREFD/4+/J+GQQ9InmY6JdKa23PB+m00gjRxcZPd6+fRKvUo/30rnAt04AD4r2Wu7TRSOIj2u7FGbDfQlNS51kejMNyupt6CQiEGgdehhWX/dJPvumJyMUFKzS0uSKRL0DnTSgThJcPgQE3UX2JN2NMgNscO4meYYVh8SU5UJ+mXNsqRKh1RKQU9svii+5kFpBad7Vre754j/UWOBwwVuWatv+iVcLQQKcSYzTGOOptxk0Hfe4MHG88JEs2s8g9NZWlQYDCtmKnrOfwptGVryG5sNMxuqlkwds1lzbBLaqjoTZR2xJvxphAgMgD1xzWFU83pAInTV3RuV8WRLnIpIMzqLTT9nzB7ho/l2GH4JR7Gv8XrfIN9y2OOhWf7zGGUmmTtCv+afn9VoYR+Tvqku8SIDB10QYBxhJBpingl0FRANZMCqUJtsuEwOKbqG2Jt3BMkPCaW1PPaPRFVpzLEiEvKd9SU23PF+mr8du4V71yL2uVVuFVBVcu2Q+Y+wNCtQqGIiOha+p50e3gKzQ12AgBIR08A2kIeTwzVnMvlFVrgtXKQmDuTdS5xFs4JnCBqacCGBwNmGNkaONfWmm57fngA9CgbHkiqypOQ1VapR7Bk4sqvfMYg6i3Cfqi3lyEsZzuOnsRW2qplsC8dI5kqpBDABflYhFBCJWkLxOUVhAC822inkvcs9oKgmUthhT3rbvboTLatueDT0oKMQnn6lJdA60KciW5hSjOwcdRaZD9XNzurPcRjzoqSURkZusMrR91DFPjEwTWGgLTJlrT5cOj49Td7FoZf9vzwadJz0mxVydUOtp0JwgjTV64oIiwiXy64xXdSyBGqEo3aIBI+O9vYBFHjEjLA93z7uoNHOrU9QSB1YTAtIlWc106R8W3lhPTgQceWKnZ9ryzwVkrsFRR+EvBU/9wKwRj1uaGqs/rT5wXxWhc1MRwyg7hKo0NJ1cGY2D8Rxvv9Rhq+lM7EwQ2bwhMm2jt1nfXXXc9+uij63dWtT1f5gQ3jFZJ2VK5r9a0SXJyove5Z3YJMELFGy8/XULXUxcTBDYPCEybaL3WsW29VmEd/xcKKqlkGMl8tQAAAABJRU5ErkJggg==\"></div>"
      ],
      "text/plain": [
       "FormBox[TagBox[RowBox[{\"(\", \"⁠\", \n",
       "\n",
       " \n",
       ">         TagBox[GridBox[{{RowBox[{OverscriptBox[\"r\", \"^\"], \" \", \n",
       "\n",
       " \n",
       ">               RowBox[{\"(\", RowBox[{\"-\", SubscriptBox[\"ϵ\", \"G\"]}], \")\"}], \" \", \n",
       "\n",
       " \n",
       ">               RowBox[{\"(\", RowBox[{RowBox[{RowBox[{\"sin\", \"(\", \n",
       "\n",
       " \n",
       ">                       RowBox[{\"2\", \" \", \"ϕ\"}], \")\"}], \" \", \n",
       "\n",
       " \n",
       ">                     TemplateBox[List[SubscriptBox[OverscriptBox[\"f\", \"^\"], \n",
       "\n",
       " \n",
       ">                        RowBox[List[\"x\", \",\", \"y\"]]], \"\\\"(5)\\\"\"], \"Superscript\", \n",
       "\n",
       " \n",
       ">                      Rule[SyntaxForm, SuperscriptBox]]}], \"+\", \n",
       "\n",
       " \n",
       ">                   RowBox[{RowBox[{SuperscriptBox[\"cos\", \"2\"], \"(\", \"ϕ\", \")\"}], \n",
       "\n",
       " \n",
       ">                     \" \", TemplateBox[List[SubscriptBox[OverscriptBox[\"f\", \"^\"], \n",
       "\n",
       " \n",
       ">                        RowBox[List[\"x\", \",\", \"x\"]]], \"\\\"(5)\\\"\"], \"Superscript\", \n",
       "\n",
       " \n",
       ">                      Rule[SyntaxForm, SuperscriptBox]]}], \"+\", \n",
       "\n",
       " \n",
       ">                   RowBox[{RowBox[{SuperscriptBox[\"sin\", \"2\"], \"(\", \"ϕ\", \")\"}], \n",
       "\n",
       " \n",
       ">                     \" \", TemplateBox[List[SubscriptBox[OverscriptBox[\"f\", \"^\"], \n",
       "\n",
       " \n",
       ">                        RowBox[List[\"y\", \",\", \"y\"]]], \"\\\"(5)\\\"\"], \"Superscript\", \n",
       "\n",
       " \n",
       ">                      Rule[SyntaxForm, SuperscriptBox]]}]}], \")\"}]}]}, \n",
       "\n",
       " \n",
       ">            {RowBox[{RowBox[{\"-\", FractionBox[\"1\", \"2\"]}], \" \", \n",
       "\n",
       " \n",
       ">               OverscriptBox[\"r\", \"^\"], \" \", SubscriptBox[\"ϵ\", \"G\"], \" \", \n",
       "\n",
       " \n",
       ">               RowBox[{\"(\", RowBox[{RowBox[{RowBox[{\"sin\", \"(\", \n",
       "\n",
       " \n",
       ">                       RowBox[{\"2\", \" \", \"ϕ\"}], \")\"}], \" \", \n",
       "\n",
       " \n",
       ">                     RowBox[{\"(\", RowBox[{TemplateBox[List[SubscriptBox[\n",
       "\n",
       " \n",
       ">                            OverscriptBox[\"f\", \"^\"], \n",
       "\n",
       " \n",
       ">                            RowBox[List[\"y\", \",\", \"y\"]]], \"\\\"(5)\\\"\"], \n",
       "\n",
       " \n",
       ">                          \"Superscript\", Rule[SyntaxForm, SuperscriptBox]], \"-\", \n",
       "\n",
       " \n",
       ">                         TemplateBox[List[SubscriptBox[OverscriptBox[\"f\", \"^\"], \n",
       "\n",
       " \n",
       ">                            RowBox[List[\"x\", \",\", \"x\"]]], \"\\\"(5)\\\"\"], \n",
       "\n",
       " \n",
       ">                          \"Superscript\", Rule[SyntaxForm, SuperscriptBox]]}], \")\"}]}\\\n",
       "\n",
       " \n",
       ">   ], \"+\", RowBox[{\"2\", \" \", RowBox[{\"cos\", \"(\", RowBox[{\"2\", \" \", \"ϕ\"}], \")\"}], \n",
       "\n",
       " \n",
       ">                     \" \", TemplateBox[List[SubscriptBox[OverscriptBox[\"f\", \"^\"], \n",
       "\n",
       " \n",
       ">                        RowBox[List[\"x\", \",\", \"y\"]]], \"\\\"(5)\\\"\"], \"Superscript\", \n",
       "\n",
       " \n",
       ">                      Rule[SyntaxForm, SuperscriptBox]]}]}], \")\"}]}]}}, \n",
       "\n",
       " \n",
       ">           Rule[RowSpacings, 1], Rule[ColumnAlignments, Center], \n",
       "\n",
       " \n",
       ">           Rule[ColumnAlignments, Left]], Column], \"⁠\", \")\"}], \n",
       "\n",
       " \n",
       ">       Function[BoxForm`e$, MatrixForm[BoxForm`e$]]], TraditionalForm]\n"
      ]
     },
     "execution_count": 53,
     "metadata": {
      "text/html": [],
      "text/plain": []
     },
     "output_type": "execute_result"
    }
   ],
   "source": [
    "RHSMotion = -Subscript[\\[Epsilon], G] FullSimplify[RotationMatrix[-\\[Phi][OverHat[t]]] . fh5rh, Trig -> True];\n",
    "RHSMotion // MatrixForm // TraditionalForm"
   ]
  },
  {
   "cell_type": "markdown",
   "metadata": {},
   "source": [
    "<span style=\"color:red\">**NB:**</span> Полученные выражения <span style=\"color:green\">**совпадают**</span> с уравнениями (10) и (9) из файла Binary.pdf"
   ]
  },
  {
   "cell_type": "markdown",
   "metadata": {
    "vscode": {
     "languageId": "wolfram"
    }
   },
   "source": [
    "## Получим теперь **энергетическую** систему уравнений\n",
    "\n",
    "В задача двух тел без учёта гравитационного излучения в системе центра масс в полярных координатах радиус-вектор $\\hat{r}_k$ задаётся как:\n",
    "$$\n",
    "\\hat{r}_k = \\hat{r} e_{1k} \\quad,\n",
    "$$\n",
    "где:\n",
    "- $\\hat{r}$ — расстояние между телами,\n",
    "- $e_{1k}$ — единичный вектор в направлении $\\hat{r}_k$.\n",
    "\n",
    "Скорость в полярных координатах выражается как:\n",
    "$$\n",
    "\\hat{r}_k^{(1)} = \\hat{r}^{(1)} e_{1k} + \\hat{r} \\phi^{(1)} e_{2k} \\quad,\n",
    "$$\n",
    "где:\n",
    "- $\\hat{r}^{(1)}$ — радиальная скорость\n",
    "- $\\hat{\\omega} \\equiv \\phi^{(1)}$ — угловая скорость\n",
    "- $e_{2k}$ — единичный вектор, перпендикулярный $e_{1k}$.\n",
    "\n",
    "### **Кинетическая энергия**\n",
    "Кинетическая энергия $T$ в полярных координатах выражается через радиальную и тангенциальную составляющие скорости:\n",
    "$$\n",
    "T = \\mu\\frac{b^2}{2 t_0^2} (\\hat{r}_k^{(1)})^2 = \\mu\\frac{b^2}{2 t_0^2} \\left( (\\hat{r}^{(1)})^2 + \\hat{r}^2 \\hat{\\omega}^2 \\right) = \\frac{G \\mu M}{b} \\frac{1}{2}\\left( (\\hat{r}^{(1)})^2 + \\hat{r}^2 \\hat{\\omega}^2 \\right)\n",
    "$$\n",
    "\n",
    "### **Потенциальная энергия**\n",
    "Потенциальная энергия $U$ зависит только от расстояния $\\hat{r}$:\n",
    "- Для гравитационного взаимодействия:\n",
    "  $$\n",
    "  U = -\\frac{G m_A m_B}{b \\hat{r}} = -\\frac{G \\mu M}{b \\hat{r}}.\n",
    "  $$\n",
    "\n",
    "### **Полная энергия**\n",
    "Полная энергия $E$ в полярных координатах:\n",
    "$$\n",
    "E = T + U = \\frac{G \\mu M}{b}\\left(\\frac{(\\hat{r}^{(1)})^2}{2} + \\frac{\\hat{r}^2 \\hat{\\omega}^2}{2} - \\frac{1}{\\hat{r}}\\right) = \\frac{G \\mu M}{b} \\hat{E}\n",
    "$$\n",
    "\n",
    "Здесь $\\hat{E}$ - безразмерная энергия:"
   ]
  },
  {
   "cell_type": "code",
   "execution_count": 55,
   "metadata": {
    "vscode": {
     "languageId": "wolfram"
    }
   },
   "outputs": [
    {
     "data": {
      "text/html": [
       "<div><img alt=\"Output\" src=\"data:image/png;base64,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\"></div>"
      ],
      "text/plain": [
       "FormBox[RowBox[{RowBox[{FractionBox[\"1\", \"2\"], \" \", \n",
       "\n",
       " \n",
       ">          SuperscriptBox[OverscriptBox[\"r\", \"^\"], \"2\"], \" \", \n",
       "\n",
       " \n",
       ">          SuperscriptBox[OverscriptBox[\"ω\", \"^\"], \"2\"]}], \"+\", \n",
       "\n",
       " \n",
       ">        RowBox[{FractionBox[\"1\", \"2\"], \" \", \n",
       "\n",
       " \n",
       ">          SuperscriptBox[RowBox[{\"(\", SuperscriptBox[OverscriptBox[\"r\", \"^\"], \"′\"], \n",
       "\n",
       " \n",
       ">             \")\"}], \"2\"]}], \"-\", FractionBox[\"1\", OverscriptBox[\"r\", \"^\"]]}], \n",
       "\n",
       " \n",
       ">      TraditionalForm]\n"
      ]
     },
     "execution_count": 55,
     "metadata": {
      "text/html": [],
      "text/plain": []
     },
     "output_type": "execute_result"
    }
   ],
   "source": [
    "Energy = (D[OverHat[r][OverHat[t]], OverHat[t]])^2/2 + (OverHat[r][OverHat[t]] OverHat[\\[Omega]][OverHat[t]])^2/2 - 1/OverHat[r][OverHat[t]];\n",
    "Energy // TraditionalForm"
   ]
  },
  {
   "cell_type": "markdown",
   "metadata": {},
   "source": [
    "### **Момента импульса**\n",
    "Момент импульса $J$ в системе центра масс:\n",
    "$$\n",
    "J = \\mu\\frac{b^2}{t_0} \\hat{r}^2 \\hat{\\omega} = \\mu(G M)^{1/2} b^{3/2} \\hat{r}^2 \\hat{\\omega} = \\mu(G M)^{1/2} b^{3/2} \\hat{J}\n",
    "$$\n",
    "\n",
    "Здесь $\\hat{J}$ - безразмерный момент импульса:"
   ]
  },
  {
   "cell_type": "code",
   "execution_count": 57,
   "metadata": {
    "vscode": {
     "languageId": "wolfram"
    }
   },
   "outputs": [
    {
     "data": {
      "text/html": [
       "<div><img alt=\"Output\" src=\"data:image/png;base64,iVBORw0KGgoAAAANSUhEUgAAACsAAAAeCAIAAAA6iHCJAAAAzXpUWHRSYXcgcHJvZmlsZSB0eXBlIGV4aWYAAHjabY9bDgMhCEX/XUWXgIAXXY7TcZLuoMsvPtrGpjcR8PBQQns+rnDr4khBk2UUgFxatHD1INPU9JHKsEN8rFzceYht8eoofRN482PnhjUw/wwinoH0FzwWXQ1rkPDksc77seq55rwPEtpU6PP1v3cVYyREU7fKZIbicQ4eukNiSoYLd8ALI04mvbtvMPM2WK+Q2hu7uNle3QLEwdlXkH6SVPfiNopvNGgnusixsmOR8AKSIlrU2nmwGgAAAAlwSFlzAAAWJQAAFiUBSVIk8AAAADx0RVh0U29mdHdhcmUAQ3JlYXRlZCB3aXRoIHRoZSBXb2xmcmFtIExhbmd1YWdlIDogd3d3LndvbGZyYW0uY29tXKKmhQAAACF0RVh0Q3JlYXRpb24gVGltZQAyMDI1OjAzOjEwIDIwOjA0OjEwt17l9gAAA+FJREFUSEvtVlsos2Ec3+aQnGIOUUgLJbUkp4wbLiQl4cIFymk53cghLVy4JOVuOZVacyhXRBiiRkmI1i7kULhyzpwZ3+/tWc/2bW3P3m/fl5vvra33/T//5/f//Y/PI/z+/hawnqOjo7GxsYuLi7i4uJqamtDQUNYOPutg4PiZmZnx8PBwc3MjqEFBQYeHh6xNPNYFjnUNBkNYWNjk5OTHx8f6+npKSgpIFBUV8bDAUmUwUKvV3d3dFGR2dhYMoqKiWLA81hkM9Ho9wkDx3t/fkZHExEQeFliqIloz0Hx5eUG0LasoPj7e19eXSq6urqCQk5PDp9I4J22RzQiUYltbG6TBwcGoeXu8e3p6AgMDwYPl2G/rjpFNWZibmxMKhYRXVlbW5+enrY3T01OYX1lZ4WWeicwxOD8/R49FR0cfHBw0NzeDhEKhsDKDapBKpaOjo7zMO4MsgLuZmZkZGRmXl5cEXalUenp6Li4uUmPQKSgo6O3t5WXeGWQAClBZCOzr66sluk6no2Pn6+urqqqqs7OTKjw9PbW0tDDZMJEJghA/JHhra2tnZ2d3d1cmk6HclpaWBgYGxGLx0NBQV1cX3isqKkihgCs0a2trW1tbHXcEWhfsvby8rNRgET6YWwzf/f39hYWFRA+hnpiYcHd3J59NTU22ZpAjmjJ7kdBoNBimIyMjtgpnZ2cYKtvb22TJ1At3d3fE0vT0dEhISF9fn4+PD14cdKaDLCwsLMCHyspKezqpqakJCQlGo9HMYG1tDeYDAgKys7OHh4ex8Pj4+Pb2xky2rQIays/PD+fn7e2tve3l5eUwB00omGbi6uoqRPf39w8PD9XV1XhHDBBtXrMPykCUy+Vo3Y6ODgwPsh0u4ShBc1E0uIr3jY0NTkJopqWlkWUcgH/gN90yPj4OEG9vb6SVCktKSpD46+trKkFvQ62urs6UBYRLJOKCkZ+f74p57EUSgVNcXGyJExMTk5eXZymRSCRQI6cuZ3h5eRltQ0jxDbuV/v7+PiSxsbFUjq45Pj5OT0+nErTJyckJPsltg2OA7sd/eHg4mLrCAGV0c3MDBMtr3ODgIBxNTk6myGh4vOPCZzpjsRwZGQkRTgQXU4Dt6AJAYXwRKJQkHINkb2+PSDDfOL9Fos3NTSIR4A5C2Gm1WtcZNDQ0kEpsb2/H/Qpxrq+vx5GWm5urUqnKysqwCpZTU1PUlgBRInEj88HFB+O2sbHR398fmLhqYHI/Pz/Pz88nJSVhqEdERJSWllpddLlzwZXc29uLgWZ5uYIaqCA2tvr/ioHzXpnvic7v+bua/xmQifSzz88z+AUG9ZDrhvIkKgAAAABJRU5ErkJggg==\"></div>"
      ],
      "text/plain": [
       "FormBox[RowBox[{SuperscriptBox[OverscriptBox[\"r\", \"^\"], \"2\"], \" \", \n",
       "\n",
       " \n",
       ">        OverscriptBox[\"ω\", \"^\"]}], TraditionalForm]\n"
      ]
     },
     "execution_count": 57,
     "metadata": {
      "text/html": [],
      "text/plain": []
     },
     "output_type": "execute_result"
    }
   ],
   "source": [
    "AngularMomentum = (OverHat[r][OverHat[t]])^2 OverHat[\\[Omega]][OverHat[t]];\n",
    "AngularMomentum // TraditionalForm"
   ]
  },
  {
   "cell_type": "markdown",
   "metadata": {},
   "source": [
    "Отсюда $\\frac{1}{\\hat{r}^{(1)}}\\left(\\frac{d\\hat{E}}{d\\hat{t}} - \\hat{\\omega} \\frac{d\\hat{J}}{d\\hat{t}}\\right)$"
   ]
  },
  {
   "cell_type": "code",
   "execution_count": 58,
   "metadata": {
    "vscode": {
     "languageId": "wolfram"
    }
   },
   "outputs": [
    {
     "data": {
      "text/html": [
       "<div><img alt=\"Output\" src=\"data:image/png;base64,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\"></div>"
      ],
      "text/plain": [
       "FormBox[RowBox[{RowBox[{\"-\", RowBox[{RowBox[{OverscriptBox[\"r\", \"^\"]}], \" \", \n",
       "\n",
       " \n",
       ">            SuperscriptBox[OverscriptBox[\"ω\", \"^\"], \"2\"]}]}], \"+\", \n",
       "\n",
       " \n",
       ">        SuperscriptBox[OverscriptBox[\"r\", \"^\"], \"′′\"], \"+\", \n",
       "\n",
       " \n",
       ">        FractionBox[\"1\", SuperscriptBox[OverscriptBox[\"r\", \"^\"], \"2\"]]}],\\\n",
       " \n",
       ">    TraditionalForm]\n"
      ]
     },
     "execution_count": 58,
     "metadata": {
      "text/html": [],
      "text/plain": []
     },
     "output_type": "execute_result"
    }
   ],
   "source": [
    "Simplify[(D[Energy, OverHat[t]] - (AngularMomentum/OverHat[r][OverHat[t]]^2)(D[AngularMomentum, OverHat[t]]))/(D[OverHat[r][OverHat[t]], OverHat[t]])] // TraditionalForm"
   ]
  },
  {
   "cell_type": "markdown",
   "metadata": {},
   "source": [
    "Что совпадает с **первой** строкой повернутой LHS системы движения"
   ]
  },
  {
   "cell_type": "markdown",
   "metadata": {},
   "source": [
    "Отсюда $\\frac{1}{\\hat{r}}\\frac{d\\hat{J}}{d\\hat{t}}$"
   ]
  },
  {
   "cell_type": "code",
   "execution_count": 59,
   "metadata": {
    "vscode": {
     "languageId": "wolfram"
    }
   },
   "outputs": [
    {
     "data": {
      "text/html": [
       "<div><img alt=\"Output\" src=\"data:image/png;base64,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\"></div>"
      ],
      "text/plain": [
       "FormBox[RowBox[{RowBox[{\"2\", \" \", OverscriptBox[\"ω\", \"^\"], \" \", \n",
       "\n",
       " \n",
       ">          SuperscriptBox[OverscriptBox[\"r\", \"^\"], \"′\"]}], \"+\", \n",
       "\n",
       " \n",
       ">        RowBox[{OverscriptBox[\"r\", \"^\"], \" \", \n",
       "\n",
       " \n",
       ">          SuperscriptBox[OverscriptBox[\"ω\", \"^\"], \"′\"]}]}], TraditionalForm]\n"
      ]
     },
     "execution_count": 59,
     "metadata": {
      "text/html": [],
      "text/plain": []
     },
     "output_type": "execute_result"
    }
   ],
   "source": [
    "Simplify[D[AngularMomentum, OverHat[t]]/OverHat[r][OverHat[t]]] // TraditionalForm"
   ]
  },
  {
   "cell_type": "markdown",
   "metadata": {},
   "source": [
    "Что совпадает со **второй** строкой повернутой LHS системы движения"
   ]
  },
  {
   "cell_type": "markdown",
   "metadata": {},
   "source": [
    "Таким образом, мы можем выписать новую **энергетическую** систему уравнений\n",
    "\n",
    "$$\n",
    "\\begin{align}\n",
    "\\frac{d\\hat{E}}{d\\hat{t}} &= - \\epsilon_G \\left(\\hat{r}^{(1)} R_{xi}(-\\phi) \\hat{f}_{ij}^{(5)}\\hat{r}_j + \\hat{r}\\hat\\omega R_{yi}(-\\phi) \\hat{f}_{ij}^{(5)}\\hat{r}_j \\right)\n",
    "\\\\\n",
    "\\frac{d\\hat{J}}{d\\hat{t}} &= - \\epsilon_G \\hat{r} R_{yi}(-\\phi) \\hat{f}_{ij}^{(5)}\\hat{r}_j\n",
    "\\end{align}\n",
    "$$"
   ]
  },
  {
   "cell_type": "markdown",
   "metadata": {},
   "source": [
    "Или\n",
    "\n",
    "$$\n",
    "\\left(\\frac{d\\hat{E}}{d\\hat{t}}, \\frac{d\\hat{J}}{d\\hat{t}}\\right) = - \\epsilon_G T_{nk} R_{ki}(-\\phi) \\hat{f}_{ij}^{(5)}\\hat{r}_j\\quad,\n",
    "$$\n",
    "\n",
    "Чтобы перейти в размерный вид, достаточно положить $\\epsilon_G \\equiv \\frac{2}{5}\\mu$."
   ]
  },
  {
   "cell_type": "markdown",
   "metadata": {},
   "source": [
    "Здесь\n",
    "$$\n",
    "T = \n",
    "\\begin{bmatrix}\n",
    "\\hat{r}^{(1)} & \\hat{r}\\hat{\\omega} \\\\\n",
    "0 & \\hat{r}\n",
    "\\end{bmatrix}\n",
    "$$\n",
    "матрица трансформации:"
   ]
  },
  {
   "cell_type": "code",
   "execution_count": 61,
   "metadata": {
    "vscode": {
     "languageId": "wolfram"
    }
   },
   "outputs": [
    {
     "data": {
      "text/html": [
       "<div><img alt=\"Output\" src=\"data:image/png;base64,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\"></div>"
      ],
      "text/plain": [
       "FormBox[TagBox[RowBox[{\"(\", \"⁠\", \n",
       "\n",
       " \n",
       ">         GridBox[{{SuperscriptBox[OverscriptBox[\"r\", \"^\"], \"′\"], \n",
       "\n",
       " \n",
       ">            RowBox[{OverscriptBox[\"r\", \"^\"], \" \", OverscriptBox[\"ω\", \"^\"]}]}, \n",
       "\n",
       " \n",
       ">           {\"0\", OverscriptBox[\"r\", \"^\"]}}, Rule[RowSpacings, 1], \n",
       "\n",
       " \n",
       ">          Rule[ColumnSpacings, 1], Rule[RowAlignments, Baseline], \n",
       "\n",
       " \n",
       ">          Rule[ColumnAlignments, Center]], \"⁠\", \")\"}], \n",
       "\n",
       " \n",
       ">       Function[BoxForm`e$, MatrixForm[BoxForm`e$]]], TraditionalForm]\n"
      ]
     },
     "execution_count": 61,
     "metadata": {
      "text/html": [],
      "text/plain": []
     },
     "output_type": "execute_result"
    }
   ],
   "source": [
    "Transform = {{D[OverHat[r][OverHat[t]], OverHat[t]], OverHat[r][OverHat[t]] OverHat[\\[Omega]][OverHat[t]]}, {0, OverHat[r][OverHat[t]]}};\n",
    "Transform // MatrixForm // TraditionalForm"
   ]
  },
  {
   "cell_type": "markdown",
   "metadata": {},
   "source": [
    "Итак правая часть энергетической системы запишется как"
   ]
  },
  {
   "cell_type": "code",
   "execution_count": 63,
   "metadata": {
    "vscode": {
     "languageId": "wolfram"
    }
   },
   "outputs": [
    {
     "data": {
      "text/html": [
       "<div><img alt=\"Output\" src=\"data:image/png;base64,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\"></div>"
      ],
      "text/plain": [
       "FormBox[TagBox[RowBox[{\"(\", \"⁠\", \n",
       "\n",
       " \n",
       ">         TagBox[GridBox[{{RowBox[{FractionBox[\"1\", \"2\"], \" \", \n",
       "\n",
       " \n",
       ">               OverscriptBox[\"r\", \"^\"], \" \", SubscriptBox[\"ϵ\", \"G\"], \" \", \n",
       "\n",
       " \n",
       ">               RowBox[{\"(\", RowBox[{RowBox[{OverscriptBox[\"r\", \"^\"], \" \", \n",
       "\n",
       " \n",
       ">                     OverscriptBox[\"ω\", \"^\"], \" \", \n",
       "\n",
       " \n",
       ">                     RowBox[{\"(\", RowBox[{RowBox[{RowBox[{\"sin\", \"(\", \n",
       "\n",
       " \n",
       ">                             RowBox[{\"2\", \" \", \"ϕ\"}], \")\"}], \" \", \n",
       "\n",
       " \n",
       ">                           RowBox[{\"(\", \n",
       "\n",
       " \n",
       ">                             RowBox[{TemplateBox[List[SubscriptBox[\n",
       "\n",
       " \n",
       ">                            OverscriptBox[\"f\", \"^\"], \n",
       "\n",
       " \n",
       ">                            RowBox[List[\"x\", \",\", \"x\"]]], \"\\\"(5)\\\"\"], \n",
       "\n",
       " \n",
       ">                             \"Superscript\", Rule[SyntaxForm, SuperscriptBox]], \n",
       "\n",
       " \n",
       ">                             \"-\", \n",
       "\n",
       " \n",
       ">                             TemplateBox[List[SubscriptBox[OverscriptB\\\n",
       "\n",
       " \n",
       ">   ox[\"f\", \"^\"], RowBox[List[\"y\", \",\", \"y\"]]], \"\\\"(5)\\\"\"], \"Superscript\", \n",
       "\n",
       " \n",
       ">                             Rule[SyntaxForm, SuperscriptBox]]}], \")\"}]}], \"-\", \n",
       "\n",
       " \n",
       ">                         RowBox[{\"2\", \" \", \n",
       "\n",
       " \n",
       ">                           RowBox[{\"cos\", \"(\", RowBox[{\"2\", \" \", \"ϕ\"}], \")\"}], \n",
       "\n",
       " \n",
       ">                           \" \", TemplateBox[List[SubscriptBox[OverscriptB\\\n",
       "\n",
       " \n",
       ">   ox[\"f\", \"^\"], RowBox[List[\"x\", \",\", \"y\"]]], \"\\\"(5)\\\"\"], \"Superscript\", \n",
       "\n",
       " \n",
       ">                            Rule[SyntaxForm, SuperscriptBox]]}]}], \")\"}]}], \"-\", \n",
       "\n",
       " \n",
       ">                   RowBox[{\"2\", \" \", SuperscriptBox[OverscriptBox[\"r\", \"^\"], \"′\"], \n",
       "\n",
       " \n",
       ">                     \" \", RowBox[{\"(\", \n",
       "\n",
       " \n",
       ">                       RowBox[{RowBox[{RowBox[{\"sin\", \"(\", \n",
       "\n",
       " \n",
       ">                             RowBox[{\"2\", \" \", \"ϕ\"}], \")\"}], \" \", \n",
       "\n",
       " \n",
       ">                           TemplateBox[List[SubscriptBox[OverscriptBox[\"f\", \n",
       "\n",
       " \n",
       ">                             \"^\"], RowBox[List[\"x\", \",\", \"y\"]]], \"\\\"(5)\\\"\"], \n",
       "\n",
       " \n",
       ">                            \"Superscript\", Rule[SyntaxForm, SuperscriptBox]]}], \n",
       "\n",
       " \n",
       ">                         \"+\", RowBox[{RowBox[{SuperscriptBox[\"cos\", \"2\"], \"(\", \n",
       "\n",
       " \n",
       ">                             \"ϕ\", \")\"}], \" \", \n",
       "\n",
       " \n",
       ">                           TemplateBox[List[SubscriptBox[OverscriptBox[\"f\", \n",
       "\n",
       " \n",
       ">                             \"^\"], RowBox[List[\"x\", \",\", \"x\"]]], \"\\\"(5)\\\"\"], \n",
       "\n",
       " \n",
       ">                            \"Superscript\", Rule[SyntaxForm, SuperscriptBox]]}], \n",
       "\n",
       " \n",
       ">                         \"+\", RowBox[{RowBox[{SuperscriptBox[\"sin\", \"2\"], \"(\", \n",
       "\n",
       " \n",
       ">                             \"ϕ\", \")\"}], \" \", \n",
       "\n",
       " \n",
       ">                           TemplateBox[List[SubscriptBox[OverscriptBox[\"f\", \n",
       "\n",
       " \n",
       ">                             \"^\"], RowBox[List[\"y\", \",\", \"y\"]]], \"\\\"(5)\\\"\"], \n",
       "\n",
       " \n",
       ">                            \"Superscript\", Rule[SyntaxForm, SuperscriptBox]]}]}], \n",
       "\n",
       " \n",
       ">                       \")\"}]}]}], \")\"}]}]}, \n",
       "\n",
       " \n",
       ">            {RowBox[{RowBox[{\"-\", FractionBox[\"1\", \"2\"]}], \" \", \n",
       "\n",
       " \n",
       ">               SuperscriptBox[OverscriptBox[\"r\", \"^\"], \"2\"], \" \", \n",
       "\n",
       " \n",
       ">               SubscriptBox[\"ϵ\", \"G\"], \" \", \n",
       "\n",
       " \n",
       ">               RowBox[{\"(\", RowBox[{RowBox[{RowBox[{\"sin\", \"(\", \n",
       "\n",
       " \n",
       ">                       RowBox[{\"2\", \" \", \"ϕ\"}], \")\"}], \" \", \n",
       "\n",
       " \n",
       ">                     RowBox[{\"(\", RowBox[{TemplateBox[List[SubscriptBox[\n",
       "\n",
       " \n",
       ">                            OverscriptBox[\"f\", \"^\"], \n",
       "\n",
       " \n",
       ">                            RowBox[List[\"y\", \",\", \"y\"]]], \"\\\"(5)\\\"\"], \n",
       "\n",
       " \n",
       ">                          \"Superscript\", Rule[SyntaxForm, SuperscriptBox]], \"-\", \n",
       "\n",
       " \n",
       ">                         TemplateBox[List[SubscriptBox[OverscriptBox[\"f\", \"^\"], \n",
       "\n",
       " \n",
       ">                            RowBox[List[\"x\", \",\", \"x\"]]], \"\\\"(5)\\\"\"], \n",
       "\n",
       " \n",
       ">                          \"Superscript\", Rule[SyntaxForm, SuperscriptBox]]}], \")\"}]}\\\n",
       "\n",
       " \n",
       ">   ], \"+\", RowBox[{\"2\", \" \", RowBox[{\"cos\", \"(\", RowBox[{\"2\", \" \", \"ϕ\"}], \")\"}], \n",
       "\n",
       " \n",
       ">                     \" \", TemplateBox[List[SubscriptBox[OverscriptBox[\"f\", \"^\"], \n",
       "\n",
       " \n",
       ">                        RowBox[List[\"x\", \",\", \"y\"]]], \"\\\"(5)\\\"\"], \"Superscript\", \n",
       "\n",
       " \n",
       ">                      Rule[SyntaxForm, SuperscriptBox]]}]}], \")\"}]}]}}, \n",
       "\n",
       " \n",
       ">           Rule[RowSpacings, 1], Rule[ColumnAlignments, Center], \n",
       "\n",
       " \n",
       ">           Rule[ColumnAlignments, Left]], Column], \"⁠\", \")\"}], \n",
       "\n",
       " \n",
       ">       Function[BoxForm`e$, MatrixForm[BoxForm`e$]]], TraditionalForm]\n"
      ]
     },
     "execution_count": 63,
     "metadata": {
      "text/html": [],
      "text/plain": []
     },
     "output_type": "execute_result"
    }
   ],
   "source": [
    "RHSEnegry = FullSimplify[Transform . RHSMotion, Trig -> True];\n",
    "RHSEnegry // MatrixForm // TraditionalForm"
   ]
  },
  {
   "cell_type": "markdown",
   "metadata": {},
   "source": [
    "## Другой Способ получения уравнений движения и энергетических уравнений через лагранжев формализм в полярных координатах"
   ]
  },
  {
   "cell_type": "markdown",
   "metadata": {},
   "source": [
    "### **Лагранжиан системы**\n",
    "Лагранжиан $L$ в полярных координатах $(r, \\phi)$ выражается как:\n",
    "$$\n",
    "L = T - (U + \\mu\\Phi),\n",
    "$$\n",
    "где:\n",
    "- $T$ — кинетическая энергия,\n",
    "- $U$ — потенциальная энергия\n",
    "- $\\Phi = \\frac{1}{5}f_{ij}^{(5)}r_i r_j = \\frac{\\epsilon_G}{2}\\frac{b^2}{t_0^2}\\hat{f}_{ij}^{(5)}\\hat{r}_i \\hat{r}_j = \\frac{5}{2}\\epsilon_G\\frac{GM}{b}\\hat{\\Phi}$ - малый потенциал \"реакции излучения\""
   ]
  },
  {
   "cell_type": "markdown",
   "metadata": {},
   "source": [
    "Безразмерный малый потенциал \"реакции излучения\" $\\hat{\\Phi} = \\frac{1}{5}\\hat{f}_{ij}^{(5)}\\hat{r}_i\\hat{r}_j$"
   ]
  },
  {
   "cell_type": "code",
   "execution_count": 65,
   "metadata": {
    "vscode": {
     "languageId": "wolfram"
    }
   },
   "outputs": [
    {
     "data": {
      "text/html": [
       "<div><img alt=\"Output\" src=\"data:image/png;base64,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\"></div>"
      ],
      "text/plain": [
       "FormBox[RowBox[{FractionBox[\"1\", \"5\"], \" \", \n",
       "\n",
       " \n",
       ">        RowBox[{\"(\", RowBox[{RowBox[{OverscriptBox[\"r\", \"^\"], \" \", \n",
       "\n",
       " \n",
       ">              RowBox[{\"cos\", \"(\", \"ϕ\", \")\"}], \" \", \n",
       "\n",
       " \n",
       ">              RowBox[{\"(\", RowBox[{RowBox[{OverscriptBox[\"r\", \"^\"], \" \", \n",
       "\n",
       " \n",
       ">                    RowBox[{\"sin\", \"(\", \"ϕ\", \")\"}], \" \", \n",
       "\n",
       " \n",
       ">                    TemplateBox[List[SubscriptBox[OverscriptBox[\"f\", \"^\"], \n",
       "\n",
       " \n",
       ">                       RowBox[List[\"x\", \",\", \"y\"]]], \"\\\"(5)\\\"\"], \"Superscript\", \n",
       "\n",
       " \n",
       ">                     Rule[SyntaxForm, SuperscriptBox]]}], \"+\", \n",
       "\n",
       " \n",
       ">                  RowBox[{OverscriptBox[\"r\", \"^\"], \" \", \n",
       "\n",
       " \n",
       ">                    RowBox[{\"cos\", \"(\", \"ϕ\", \")\"}], \" \", \n",
       "\n",
       " \n",
       ">                    TemplateBox[List[SubscriptBox[OverscriptBox[\"f\", \"^\"], \n",
       "\n",
       " \n",
       ">                       RowBox[List[\"x\", \",\", \"x\"]]], \"\\\"(5)\\\"\"], \"Superscript\", \n",
       "\n",
       " \n",
       ">                     Rule[SyntaxForm, SuperscriptBox]]}]}], \")\"}]}], \"+\", \n",
       "\n",
       " \n",
       ">            RowBox[{OverscriptBox[\"r\", \"^\"], \" \", RowBox[{\"sin\", \"(\", \"ϕ\", \")\"}], \" \", \n",
       "\n",
       " \n",
       ">              RowBox[{\"(\", RowBox[{RowBox[{OverscriptBox[\"r\", \"^\"], \" \", \n",
       "\n",
       " \n",
       ">                    RowBox[{\"cos\", \"(\", \"ϕ\", \")\"}], \" \", \n",
       "\n",
       " \n",
       ">                    TemplateBox[List[SubscriptBox[OverscriptBox[\"f\", \"^\"], \n",
       "\n",
       " \n",
       ">                       RowBox[List[\"x\", \",\", \"y\"]]], \"\\\"(5)\\\"\"], \"Superscript\", \n",
       "\n",
       " \n",
       ">                     Rule[SyntaxForm, SuperscriptBox]]}], \"+\", \n",
       "\n",
       " \n",
       ">                  RowBox[{OverscriptBox[\"r\", \"^\"], \" \", RowBox[{\"sin\", \"(\", \"ϕ\", \")\"}],\\\n",
       " \n",
       ">    \n",
       "                 \" \", TemplateBox[List[SubscriptBox[OverscriptBox[\"f\", \"^\"], \n",
       "\n",
       " \n",
       ">                       RowBox[List[\"y\", \",\", \"y\"]]], \"\\\"(5)\\\"\"], \"Superscript\", \n",
       "\n",
       " \n",
       ">                     Rule[SyntaxForm, SuperscriptBox]]}]}], \")\"}]}]}], \")\"}]}], \n",
       "\n",
       " \n",
       ">      TraditionalForm]\n"
      ]
     },
     "execution_count": 65,
     "metadata": {
      "text/html": [],
      "text/plain": []
     },
     "output_type": "execute_result"
    }
   ],
   "source": [
    "fh5rhrh = 1/5 EinsteinSummation[{{i, j}, {i}, {j}}, {fh5, rh, rh}];\n",
    "fh5rhrh // TraditionalForm"
   ]
  },
  {
   "cell_type": "markdown",
   "metadata": {},
   "source": [
    "Безразмерный лагранжиан\n",
    "\n",
    "$$\n",
    "\\hat{L} = \\hat{T} - (\\hat{U} + \\frac{5}{2}\\epsilon_G\\hat{\\Phi}),\n",
    "$$\n",
    "или\n",
    "$$\n",
    "\\hat{L} = \\frac{1}{2} \\left((\\hat{r}^{(1)})^2 + \\hat{r}^2 \\hat{\\omega}^2 \\right) + \\frac{1}{\\hat{r}} - \\frac{\\epsilon_G}{2}\\hat{f}_{ij}^{(5)}\\hat{r}_i \\hat{r}_j.\n",
    "$$"
   ]
  },
  {
   "cell_type": "markdown",
   "metadata": {},
   "source": [
    "### **Уравнения Эйлера-Лагранжа**\n",
    "Уравнения Эйлера-Лагранжа имеют вид:\n",
    "$$\n",
    "\\frac{d}{dt} \\left( \\frac{\\partial \\hat{L}}{\\partial \\dot{q}_i} \\right) - \\frac{\\partial \\hat{L}}{\\partial q_i} = 0,\n",
    "$$\n",
    "где $q_i$ — обобщённые координаты ($\\hat{r}$ и $\\phi$)."
   ]
  },
  {
   "cell_type": "markdown",
   "metadata": {},
   "source": [
    "---\n",
    "\n",
    "#### Уравнение для координаты $\\hat{r}$:\n",
    "$$\n",
    "\\frac{d}{d\\hat{t}} \\left(\\frac{\\partial \\hat{L}}{\\partial \\hat{r}^{(1)}} \\right) - \\frac{\\partial \\hat{L}}{\\partial \\hat{r}} = 0.\n",
    "$$\n",
    "Вычислим производные:\n",
    "$$\n",
    "\\frac{\\partial \\hat{L}}{\\partial \\hat{r}^{(1)}} = \\hat{r}^{(1)}, \\quad \\frac{d}{d\\hat{t}} \\left( \\frac{\\partial \\hat{L}}{\\partial \\hat{r}^{(1)}} \\right) = \\hat{r}^{(2)},\n",
    "$$\n",
    "$$\n",
    "\\frac{\\partial \\hat{L}}{\\partial \\hat{r}} = \\hat{r} \\hat{\\omega}^2 - \\frac{1}{\\hat{r}^2} - \\frac{5}{2}\\epsilon_G\\frac{\\partial \\hat{\\Phi}}{\\partial \\hat{r}}.\n",
    "$$\n",
    "Подставляем в уравнение Эйлера-Лагранжа:\n",
    "$$\n",
    "\\hat{r}^{(2)} - \\hat{r} \\hat{\\omega}^2 + \\frac{1}{\\hat{r}^2} = - \\frac{5}{2}\\epsilon_G\\frac{\\partial \\hat{\\Phi}}{\\partial \\hat{r}}.\n",
    "$$\n",
    "\n",
    "Это **радиальное уравнение движения**.\n",
    "\n",
    "Здесь \n",
    "$$\n",
    "\\frac{\\partial \\hat{\\Phi}}{\\partial \\hat{r}} = \\frac{1}{5}\\hat{f}_{ij}^{(5)}\\left(\\frac{\\partial \\hat{r}_i}{\\partial \\hat{r}}\\hat{r}_j + \\hat{r}_i\\frac{\\partial \\hat{r}_j}{\\partial \\hat{r}}\\right)\n",
    "$$\n",
    "<span style=\"color:red\">**TODO:**</span> Обсудить почему $\\hat{f}_{ij}^{(5)}$ берётся заданной функцией, не зависящей от $\\hat{r}$ при вариации лагранжиана."
   ]
  },
  {
   "cell_type": "markdown",
   "metadata": {},
   "source": [
    "Правая часть радиального уравнения движения будет выглядеть как"
   ]
  },
  {
   "cell_type": "code",
   "execution_count": 67,
   "metadata": {
    "vscode": {
     "languageId": "wolfram"
    }
   },
   "outputs": [
    {
     "data": {
      "text/html": [
       "<div><img alt=\"Output\" src=\"data:image/png;base64,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\"></div>"
      ],
      "text/plain": [
       "FormBox[RowBox[{OverscriptBox[\"r\", \"^\"], \" \", \n",
       "\n",
       " \n",
       ">        RowBox[{\"(\", RowBox[{\"-\", SubscriptBox[\"ϵ\", \"G\"]}], \")\"}], \" \", \n",
       "\n",
       " \n",
       ">        RowBox[{\"(\", RowBox[{RowBox[{RowBox[{\"sin\", \"(\", RowBox[{\"2\", \" \", \"ϕ\"}], \n",
       "\n",
       " \n",
       ">                \")\"}], \" \", TemplateBox[List[SubscriptBox[OverscriptBox[\"f\", \"^\"], \n",
       "\n",
       " \n",
       ">                 RowBox[List[\"x\", \",\", \"y\"]]], \"\\\"(5)\\\"\"], \"Superscript\", \n",
       "\n",
       " \n",
       ">               Rule[SyntaxForm, SuperscriptBox]]}], \"+\", \n",
       "\n",
       " \n",
       ">            RowBox[{RowBox[{SuperscriptBox[\"cos\", \"2\"], \"(\", \"ϕ\", \")\"}], \" \", \n",
       "\n",
       " \n",
       ">              TemplateBox[List[SubscriptBox[OverscriptBox[\"f\", \"^\"], \n",
       "\n",
       " \n",
       ">                 RowBox[List[\"x\", \",\", \"x\"]]], \"\\\"(5)\\\"\"], \"Superscript\", \n",
       "\n",
       " \n",
       ">               Rule[SyntaxForm, SuperscriptBox]]}], \"+\", \n",
       "\n",
       " \n",
       ">            RowBox[{RowBox[{SuperscriptBox[\"sin\", \"2\"], \"(\", \"ϕ\", \")\"}], \" \", \n",
       "\n",
       " \n",
       ">              TemplateBox[List[SubscriptBox[OverscriptBox[\"f\", \"^\"], \n",
       "\n",
       " \n",
       ">                 RowBox[List[\"y\", \",\", \"y\"]]], \"\\\"(5)\\\"\"], \"Superscript\", \n",
       "\n",
       " \n",
       ">               Rule[SyntaxForm, SuperscriptBox]]}]}], \")\"}]}], TraditionalForm]\n"
      ]
     },
     "execution_count": 67,
     "metadata": {
      "text/html": [],
      "text/plain": []
     },
     "output_type": "execute_result"
    }
   ],
   "source": [
    "RHSMotionRadialLagrange = - 1/2 Subscript[\\[Epsilon], G] FullSimplify[EinsteinSummation[{{i, j}, {i}, {j}}, {fh5, D[rh, OverHat[r][OverHat[t]]], rh}] + EinsteinSummation[{{i, j}, {i}, {j}}, {fh5, rh, D[rh, OverHat[r][OverHat[t]]]}]];\n",
    "RHSMotionRadialLagrange // TraditionalForm"
   ]
  },
  {
   "cell_type": "markdown",
   "metadata": {},
   "source": [
    "<span style=\"color:red\">**NB:**</span> Выражение <span style=\"color:green\">**совпадает**</span> с раннее полученным уравнением и с уравнением (10) из файла Binary.pdf"
   ]
  },
  {
   "cell_type": "code",
   "execution_count": 68,
   "metadata": {
    "vscode": {
     "languageId": "wolfram"
    }
   },
   "outputs": [
    {
     "data": {
      "text/html": [
       "<div><pre style=\"&#102;&#111;&#110;&#116;&#45;&#102;&#97;&#109;&#105;&#108;&#121;&#58;&#32;&#34;&#67;&#111;&#117;&#114;&#105;&#101;&#114;&#32;&#78;&#101;&#119;&#34;&#44;&#67;&#111;&#117;&#114;&#105;&#101;&#114;&#44;&#109;&#111;&#110;&#111;&#115;&#112;&#97;&#99;&#101;&#59;\">&#48;</pre></div>"
      ],
      "text/plain": [
       "0"
      ]
     },
     "execution_count": 68,
     "metadata": {
      "text/html": [],
      "text/plain": []
     },
     "output_type": "execute_result"
    }
   ],
   "source": [
    "RHSMotion[[1]] - RHSMotionRadialLagrange"
   ]
  },
  {
   "cell_type": "markdown",
   "metadata": {},
   "source": [
    "---\n",
    "\n",
    "#### Уравнение для координаты $\\phi$:\n",
    "$$\n",
    "\\frac{d}{d\\hat{t}} \\left(\\frac{\\partial \\hat{L}}{\\partial \\hat{\\omega}} \\right) - \\frac{\\partial \\hat{L}}{\\partial \\phi} = 0.\n",
    "$$\n",
    "Вычислим производные:\n",
    "$$\n",
    "\\frac{\\partial \\hat{L}}{\\partial \\hat{\\omega}} = \\hat{r}^2 \\hat{\\omega}, \\quad \\frac{d}{d\\hat{t}} \\left( \\frac{\\partial \\hat{L}}{\\partial \\hat{\\omega}} \\right) = \\frac{d}{d\\hat{t}} \\left( \\hat{r}^2 \\hat{\\omega} \\right),\n",
    "$$\n",
    "$$\n",
    "\\frac{\\partial \\hat{L}}{\\partial \\phi} = - \\frac{5}{2}\\epsilon_G\\frac{\\partial \\hat{\\Phi}}{\\partial \\phi}.\n",
    "$$\n",
    "Подставляем в уравнение Эйлера-Лагранжа:\n",
    "$$\n",
    "\\frac{1}{\\hat{r}}\\frac{d}{d\\hat{t}} \\left( \\hat{r}^2 \\hat{\\omega} \\right) = \\frac{1}{\\hat{r}}\\frac{d\\hat{J}}{d\\hat{t}} = - \\frac{5}{2}\\frac{\\epsilon_G}{\\hat{r}}\\frac{\\partial \\hat{\\Phi}}{\\partial \\phi}.\n",
    "$$\n",
    "\n",
    "Здесь \n",
    "$$\n",
    "\\frac{\\partial \\hat{\\Phi}}{\\partial \\phi} = \\frac{1}{5}\\hat{f}_{ij}^{(5)}\\left(\\frac{\\partial \\hat{r}_i}{\\partial \\phi}\\hat{r}_j + \\hat{r}_i\\frac{\\partial \\hat{r}_j}{\\partial \\phi}\\right)\n",
    "$$\n",
    "<span style=\"color:red\">**TODO:**</span> Обсудить почему $\\hat{f}_{ij}^{(5)}$ берётся заданной функцией, не зависящей от $\\phi$ при вариации лагранжиана."
   ]
  },
  {
   "cell_type": "markdown",
   "metadata": {},
   "source": [
    "Правая часть уравнения движения для $\\phi$ будет выглядеть как"
   ]
  },
  {
   "cell_type": "code",
   "execution_count": 70,
   "metadata": {
    "vscode": {
     "languageId": "wolfram"
    }
   },
   "outputs": [
    {
     "data": {
      "text/html": [
       "<div><img alt=\"Output\" src=\"data:image/png;base64,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\"></div>"
      ],
      "text/plain": [
       "FormBox[RowBox[{RowBox[{\"-\", FractionBox[\"1\", \"2\"]}], \" \", OverscriptBox[\"r\", \"^\"], \n",
       "\n",
       " \n",
       ">        \" \", SubscriptBox[\"ϵ\", \"G\"], \" \", \n",
       "\n",
       " \n",
       ">        RowBox[{\"(\", RowBox[{RowBox[{RowBox[{\"sin\", \"(\", RowBox[{\"2\", \" \", \"ϕ\"}], \n",
       "\n",
       " \n",
       ">                \")\"}], \" \", RowBox[{\"(\", \n",
       "\n",
       " \n",
       ">                RowBox[{TemplateBox[List[SubscriptBox[OverscriptBox[\"f\", \"^\"], \n",
       "\n",
       " \n",
       ">                     RowBox[List[\"y\", \",\", \"y\"]]], \"\\\"(5)\\\"\"], \"Superscript\", \n",
       "\n",
       " \n",
       ">                   Rule[SyntaxForm, SuperscriptBox]], \"-\", \n",
       "\n",
       " \n",
       ">                  TemplateBox[List[SubscriptBox[OverscriptBox[\"f\", \"^\"], \n",
       "\n",
       " \n",
       ">                     RowBox[List[\"x\", \",\", \"x\"]]], \"\\\"(5)\\\"\"], \"Superscript\", \n",
       "\n",
       " \n",
       ">                   Rule[SyntaxForm, SuperscriptBox]]}], \")\"}]}], \"+\", \n",
       "\n",
       " \n",
       ">            RowBox[{\"2\", \" \", RowBox[{\"cos\", \"(\", RowBox[{\"2\", \" \", \"ϕ\"}], \")\"}], \" \", \n",
       "\n",
       " \n",
       ">              TemplateBox[List[SubscriptBox[OverscriptBox[\"f\", \"^\"], \n",
       "\n",
       " \n",
       ">                 RowBox[List[\"x\", \",\", \"y\"]]], \"\\\"(5)\\\"\"], \"Superscript\", \n",
       "\n",
       " \n",
       ">               Rule[SyntaxForm, SuperscriptBox]]}]}], \")\"}]}], TraditionalForm]\n"
      ]
     },
     "execution_count": 70,
     "metadata": {
      "text/html": [],
      "text/plain": []
     },
     "output_type": "execute_result"
    }
   ],
   "source": [
    "RHSMotionPhiLagrange = - 1/2 Subscript[\\[Epsilon], G] FullSimplify[EinsteinSummation[{{i, j}, {i}, {j}}, {fh5, D[rh, \\[Phi][OverHat[t]]], rh}] + EinsteinSummation[{{i, j}, {i}, {j}}, {fh5, rh, D[rh, \\[Phi][OverHat[t]]]}]]/OverHat[r][OverHat[t]];\n",
    "RHSMotionPhiLagrange // TraditionalForm"
   ]
  },
  {
   "cell_type": "markdown",
   "metadata": {},
   "source": [
    "<span style=\"color:red\">**NB:**</span> Выражение <span style=\"color:green\">**совпадает**</span> с раннее полученным уравнением и с уравнением (9) из файла Binary.pdf"
   ]
  },
  {
   "cell_type": "code",
   "execution_count": 71,
   "metadata": {
    "vscode": {
     "languageId": "wolfram"
    }
   },
   "outputs": [
    {
     "data": {
      "text/html": [
       "<div><pre style=\"&#102;&#111;&#110;&#116;&#45;&#102;&#97;&#109;&#105;&#108;&#121;&#58;&#32;&#34;&#67;&#111;&#117;&#114;&#105;&#101;&#114;&#32;&#78;&#101;&#119;&#34;&#44;&#67;&#111;&#117;&#114;&#105;&#101;&#114;&#44;&#109;&#111;&#110;&#111;&#115;&#112;&#97;&#99;&#101;&#59;\">&#48;</pre></div>"
      ],
      "text/plain": [
       "0"
      ]
     },
     "execution_count": 71,
     "metadata": {
      "text/html": [],
      "text/plain": []
     },
     "output_type": "execute_result"
    }
   ],
   "source": [
    "RHSMotion[[2]] - RHSMotionPhiLagrange"
   ]
  },
  {
   "cell_type": "markdown",
   "metadata": {},
   "source": [
    "## Получим **энергетическую** систему уравнений в подходе Лагранжа"
   ]
  },
  {
   "cell_type": "markdown",
   "metadata": {},
   "source": [
    "Заметим, что энергия системы:\n",
    "$$\n",
    "\\hat{E} = \\frac{(\\hat{r}^{(1)})^2}{2} + \\frac{\\hat{r}^2 \\hat{\\omega}^2}{2} - \\frac{1}{\\hat{r}}\n",
    "$$\n",
    "$$\n",
    "\\frac{1}{\\hat{r}^{(1)}}\\left(\\frac{d\\hat{E}}{d\\hat{t}} - \\hat{\\omega} \\frac{d\\hat{J}}{d\\hat{t}}\\right) = \\hat{r}^{(2)} - \\hat{r} \\hat{\\omega}^2 + \\frac{1}{\\hat{r}^2}\n",
    "$$\n",
    "\n",
    "А также уравнение для изменения момента импульса системы есть\n",
    "$$\n",
    "\\frac{d\\hat{J}}{d\\hat{t}} = - \\frac{5}{2}\\epsilon_G\\frac{\\partial \\hat{\\Phi}}{\\partial \\phi}.\n",
    "$$\n",
    "\n",
    "Итоговая энергетическая система, выведенная по-новому будет записываться как:\n",
    "\n",
    "$$\n",
    "\\begin{align}\n",
    "\\frac{d\\hat{E}}{d\\hat{t}} &= - \\frac{5}{2}\\epsilon_G\\left(\\hat{r}^{(1)}\\frac{\\partial \\hat{\\Phi}}{\\partial \\hat{r}} + \\hat{\\omega} \\frac{\\partial \\hat{\\Phi}}{\\partial \\phi}\\right) = - \\frac{5}{2}\\epsilon_G \\frac{d\\hat{\\Phi}}{d\\hat{t}}\n",
    "  = - \\frac{\\epsilon_G}{2}\\hat{f}_{ij}^{(5)}\\left(\\frac{d\\hat{r}_i}{d\\hat{t}}\\hat{r}_j + \\hat{r}_i\\frac{d\\hat{r}_j}{d\\hat{t}}\\right)\n",
    "\\\\\n",
    "\\frac{d\\hat{J}}{d\\hat{t}} &= - \\frac{5}{2}\\epsilon_G\\frac{\\partial \\hat{\\Phi}}{\\partial \\phi} = - \\frac{\\epsilon_G}{2}\\hat{f}_{ij}^{(5)}\\left(\\frac{\\partial \\hat{r}_i}{\\partial \\phi}\\hat{r}_j + \\hat{r}_i\\frac{\\partial \\hat{r}_j}{\\partial \\phi}\\right)\n",
    "\\end{align}\n",
    "$$"
   ]
  },
  {
   "cell_type": "markdown",
   "metadata": {},
   "source": [
    "И снова, чтобы перейти в размерный вид, достаточно положить $\\epsilon_G \\equiv \\frac{2}{5}\\mu$\n",
    "\n",
    "То есть\n",
    "$$\n",
    "\\begin{align}\n",
    "\\frac{dE}{dt} &= - \\mu\\frac{d\\Phi}{dt}\n",
    "\\\\\n",
    "\\frac{dJ}{dt} &= - \\mu\\frac{\\partial \\Phi}{\\partial \\phi}\n",
    "\\end{align}\n",
    "$$\n",
    "<span style=\"color:red\">**TODO:**</span> Обсудить почему $\\hat{f}_{ij}^{(5)}$ берётся заданной функцией, не зависящей от $\\hat{r}, \\phi, \\hat{t}$ при вариации лагранжиана."
   ]
  },
  {
   "cell_type": "code",
   "execution_count": 73,
   "metadata": {
    "vscode": {
     "languageId": "wolfram"
    }
   },
   "outputs": [
    {
     "data": {
      "text/html": [
       "<div><img alt=\"Output\" src=\"data:image/png;base64,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\"></div>"
      ],
      "text/plain": [
       "FormBox[TagBox[RowBox[{\"(\", \"⁠\", \n",
       "\n",
       " \n",
       ">         TagBox[GridBox[{{RowBox[{OverscriptBox[\"r\", \"^\"], \" \", \n",
       "\n",
       " \n",
       ">               RowBox[{\"(\", RowBox[{\"-\", SubscriptBox[\"ϵ\", \"G\"]}], \")\"}], \" \", \n",
       "\n",
       " \n",
       ">               RowBox[{\"(\", RowBox[{RowBox[{OverscriptBox[\"r\", \"^\"], \" \", \n",
       "\n",
       " \n",
       ">                     OverscriptBox[\"ω\", \"^\"], \" \", \n",
       "\n",
       " \n",
       ">                     RowBox[{\"(\", RowBox[{RowBox[{RowBox[{\"cos\", \"(\", \n",
       "\n",
       " \n",
       ">                             RowBox[{\"2\", \" \", \"ϕ\"}], \")\"}], \" \", \n",
       "\n",
       " \n",
       ">                           TemplateBox[List[SubscriptBox[OverscriptBox[\"f\", \n",
       "\n",
       " \n",
       ">                             \"^\"], RowBox[List[\"x\", \",\", \"y\"]]], \"\\\"(5)\\\"\"], \n",
       "\n",
       " \n",
       ">                            \"Superscript\", Rule[SyntaxForm, SuperscriptBox]]}], \n",
       "\n",
       " \n",
       ">                         \"+\", RowBox[{RowBox[{\"sin\", \"(\", \"ϕ\", \")\"}], \" \", \n",
       "\n",
       " \n",
       ">                           RowBox[{\"cos\", \"(\", \"ϕ\", \")\"}], \" \", \n",
       "\n",
       " \n",
       ">                           RowBox[{\"(\", \n",
       "\n",
       " \n",
       ">                             RowBox[{TemplateBox[List[SubscriptBox[\n",
       "\n",
       " \n",
       ">                             OverscriptBox[\"f\", \"^\"], \n",
       "\n",
       " \n",
       ">                             RowBox[List[\"y\", \",\", \"y\"]]], \"\\\"(5)\\\"\"], \n",
       "\n",
       " \n",
       ">                             \"Superscript\", Rule[SyntaxForm, SuperscriptBox]], \n",
       "\n",
       " \n",
       ">                              \"-\", \n",
       "\n",
       " \n",
       ">                              TemplateBox[List[SubscriptBox[OverscriptB\\\n",
       "\n",
       " \n",
       ">   ox[\"f\", \"^\"], RowBox[List[\"x\", \",\", \"x\"]]], \"\\\"(5)\\\"\"], \"Superscript\", \n",
       "\n",
       " \n",
       ">                              Rule[SyntaxForm, SuperscriptBox]]}], \")\"}]}]}], \")\"}]\\\n",
       "\n",
       " \n",
       ">   }], \"+\", RowBox[{SuperscriptBox[OverscriptBox[\"r\", \"^\"], \"′\"], \" \", \n",
       "\n",
       " \n",
       ">                     RowBox[{\"(\", RowBox[{RowBox[{RowBox[{\"sin\", \"(\", \n",
       "\n",
       " \n",
       ">                             RowBox[{\"2\", \" \", \"ϕ\"}], \")\"}], \" \", \n",
       "\n",
       " \n",
       ">                           TemplateBox[List[SubscriptBox[OverscriptBox[\"f\", \n",
       "\n",
       " \n",
       ">                             \"^\"], RowBox[List[\"x\", \",\", \"y\"]]], \"\\\"(5)\\\"\"], \n",
       "\n",
       " \n",
       ">                            \"Superscript\", Rule[SyntaxForm, SuperscriptBox]]}], \n",
       "\n",
       " \n",
       ">                         \"+\", RowBox[{RowBox[{SuperscriptBox[\"cos\", \"2\"], \"(\", \n",
       "\n",
       " \n",
       ">                             \"ϕ\", \")\"}], \" \", \n",
       "\n",
       " \n",
       ">                           TemplateBox[List[SubscriptBox[OverscriptBox[\"f\", \n",
       "\n",
       " \n",
       ">                             \"^\"], RowBox[List[\"x\", \",\", \"x\"]]], \"\\\"(5)\\\"\"], \n",
       "\n",
       " \n",
       ">                            \"Superscript\", Rule[SyntaxForm, SuperscriptBox]]}], \n",
       "\n",
       " \n",
       ">                         \"+\", RowBox[{RowBox[{SuperscriptBox[\"sin\", \"2\"], \"(\", \n",
       "\n",
       " \n",
       ">                             \"ϕ\", \")\"}], \" \", \n",
       "\n",
       " \n",
       ">                           TemplateBox[List[SubscriptBox[OverscriptBox[\"f\", \n",
       "\n",
       " \n",
       ">                             \"^\"], RowBox[List[\"y\", \",\", \"y\"]]], \"\\\"(5)\\\"\"], \n",
       "\n",
       " \n",
       ">                            \"Superscript\", Rule[SyntaxForm, SuperscriptBox]]}]}], \n",
       "\n",
       " \n",
       ">                       \")\"}]}]}], \")\"}]}]}, \n",
       "\n",
       " \n",
       ">            {RowBox[{RowBox[{\"-\", FractionBox[\"1\", \"2\"]}], \" \", \n",
       "\n",
       " \n",
       ">               SuperscriptBox[OverscriptBox[\"r\", \"^\"], \"2\"], \" \", \n",
       "\n",
       " \n",
       ">               SubscriptBox[\"ϵ\", \"G\"], \" \", \n",
       "\n",
       " \n",
       ">               RowBox[{\"(\", RowBox[{RowBox[{RowBox[{\"sin\", \"(\", \n",
       "\n",
       " \n",
       ">                       RowBox[{\"2\", \" \", \"ϕ\"}], \")\"}], \" \", \n",
       "\n",
       " \n",
       ">                     RowBox[{\"(\", RowBox[{TemplateBox[List[SubscriptBox[\n",
       "\n",
       " \n",
       ">                            OverscriptBox[\"f\", \"^\"], \n",
       "\n",
       " \n",
       ">                            RowBox[List[\"y\", \",\", \"y\"]]], \"\\\"(5)\\\"\"], \n",
       "\n",
       " \n",
       ">                          \"Superscript\", Rule[SyntaxForm, SuperscriptBox]], \"-\", \n",
       "\n",
       " \n",
       ">                         TemplateBox[List[SubscriptBox[OverscriptBox[\"f\", \"^\"], \n",
       "\n",
       " \n",
       ">                            RowBox[List[\"x\", \",\", \"x\"]]], \"\\\"(5)\\\"\"], \n",
       "\n",
       " \n",
       ">                          \"Superscript\", Rule[SyntaxForm, SuperscriptBox]]}], \")\"}]}\\\n",
       "\n",
       " \n",
       ">   ], \"+\", RowBox[{\"2\", \" \", RowBox[{\"cos\", \"(\", RowBox[{\"2\", \" \", \"ϕ\"}], \")\"}], \n",
       "\n",
       " \n",
       ">                     \" \", TemplateBox[List[SubscriptBox[OverscriptBox[\"f\", \"^\"], \n",
       "\n",
       " \n",
       ">                        RowBox[List[\"x\", \",\", \"y\"]]], \"\\\"(5)\\\"\"], \"Superscript\", \n",
       "\n",
       " \n",
       ">                      Rule[SyntaxForm, SuperscriptBox]]}]}], \")\"}]}]}}, \n",
       "\n",
       " \n",
       ">           Rule[RowSpacings, 1], Rule[ColumnAlignments, Center], \n",
       "\n",
       " \n",
       ">           Rule[ColumnAlignments, Left]], Column], \"⁠\", \")\"}], \n",
       "\n",
       " \n",
       ">       Function[BoxForm`e$, MatrixForm[BoxForm`e$]]], TraditionalForm]\n"
      ]
     },
     "execution_count": 73,
     "metadata": {
      "text/html": [],
      "text/plain": []
     },
     "output_type": "execute_result"
    }
   ],
   "source": [
    "RHSEnegryLagrange = - 5/2 Subscript[\\[Epsilon],G] FullSimplify[{\n",
    "  D[fh5rhrh, OverHat[t]] /. OmegaReplace,\n",
    "  D[fh5rhrh, \\[Phi][OverHat[t]]]\n",
    "}, Trig -> True];\n",
    "\n",
    "RHSEnegryLagrange // MatrixForm // TraditionalForm"
   ]
  },
  {
   "cell_type": "markdown",
   "metadata": {},
   "source": [
    "<span style=\"color:red\">**NB:**</span> Выражения полностью <span style=\"color:green\">**совпадают**</span> с предыдущим подходом!"
   ]
  },
  {
   "cell_type": "code",
   "execution_count": 74,
   "metadata": {
    "vscode": {
     "languageId": "wolfram"
    }
   },
   "outputs": [
    {
     "data": {
      "text/html": [
       "<div><img alt=\"Output\" src=\"data:image/png;base64,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\"></div>"
      ],
      "text/plain": [
       "0\n",
       "\n",
       "0"
      ]
     },
     "execution_count": 74,
     "metadata": {
      "text/html": [],
      "text/plain": []
     },
     "output_type": "execute_result"
    }
   ],
   "source": [
    "FullSimplify[RHSEnegryLagrange - RHSEnegry] // MatrixForm"
   ]
  },
  {
   "cell_type": "code",
   "execution_count": 75,
   "metadata": {
    "vscode": {
     "languageId": "wolfram"
    }
   },
   "outputs": [
    {
     "data": {
      "text/html": [
       "<div>&#36;&#36;&#92;&#108;&#101;&#102;&#116;&#92;&#123;&#92;&#104;&#97;&#116;&#123;&#114;&#125;&#32;&#92;&#108;&#101;&#102;&#116;&#40;&#45;&#92;&#101;&#112;&#115;&#105;&#108;&#111;&#110;&#32;&#95;&#71;&#92;&#114;&#105;&#103;&#104;&#116;&#41;&#32;&#92;&#108;&#101;&#102;&#116;&#40;&#92;&#104;&#97;&#116;&#123;&#114;&#125;&#32;&#92;&#104;&#97;&#116;&#123;&#92;&#111;&#109;&#101;&#103;&#97;&#32;&#125;&#32;&#92;&#108;&#101;&#102;&#116;&#40;&#92;&#99;&#111;&#115;&#32;&#40;&#50;&#32;&#92;&#112;&#104;&#105;&#32;&#41;&#32;&#92;&#104;&#97;&#116;&#123;&#102;&#125;&#95;&#123;&#120;&#44;&#121;&#125;&#123;&#125;&#94;&#123;&#92;&#116;&#101;&#120;&#116;&#123;&#40;&#53;&#41;&#125;&#125;&#43;&#92;&#115;&#105;&#110;&#32;&#40;&#92;&#112;&#104;&#105;&#32;&#41;&#32;&#92;&#99;&#111;&#115;&#32;&#40;&#92;&#112;&#104;&#105;&#32;&#41;&#32;&#92;&#108;&#101;&#102;&#116;&#40;&#92;&#104;&#97;&#116;&#123;&#102;&#125;&#95;&#123;&#121;&#44;&#121;&#125;&#123;&#125;&#94;&#123;&#92;&#116;&#101;&#120;&#116;&#123;&#40;&#53;&#41;&#125;&#125;&#45;&#92;&#104;&#97;&#116;&#123;&#102;&#125;&#95;&#123;&#120;&#44;&#120;&#125;&#123;&#125;&#94;&#123;&#92;&#116;&#101;&#120;&#116;&#123;&#40;&#53;&#41;&#125;&#125;&#92;&#114;&#105;&#103;&#104;&#116;&#41;&#92;&#114;&#105;&#103;&#104;&#116;&#41;&#43;&#92;&#104;&#97;&#116;&#123;&#114;&#125;&#39;&#32;&#92;&#108;&#101;&#102;&#116;&#40;&#92;&#115;&#105;&#110;&#32;&#40;&#50;&#32;&#92;&#112;&#104;&#105;&#32;&#41;&#32;&#92;&#104;&#97;&#116;&#123;&#102;&#125;&#95;&#123;&#120;&#44;&#121;&#125;&#123;&#125;&#94;&#123;&#92;&#116;&#101;&#120;&#116;&#123;&#40;&#53;&#41;&#125;&#125;&#43;&#92;&#99;&#111;&#115;&#32;&#94;&#50;&#40;&#92;&#112;&#104;&#105;&#32;&#41;&#32;&#92;&#104;&#97;&#116;&#123;&#102;&#125;&#95;&#123;&#120;&#44;&#120;&#125;&#123;&#125;&#94;&#123;&#92;&#116;&#101;&#120;&#116;&#123;&#40;&#53;&#41;&#125;&#125;&#43;&#92;&#115;&#105;&#110;&#32;&#94;&#50;&#40;&#92;&#112;&#104;&#105;&#32;&#41;&#32;&#92;&#104;&#97;&#116;&#123;&#102;&#125;&#95;&#123;&#121;&#44;&#121;&#125;&#123;&#125;&#94;&#123;&#92;&#116;&#101;&#120;&#116;&#123;&#40;&#53;&#41;&#125;&#125;&#92;&#114;&#105;&#103;&#104;&#116;&#41;&#92;&#114;&#105;&#103;&#104;&#116;&#41;&#44;&#45;&#92;&#102;&#114;&#97;&#99;&#123;&#49;&#125;&#123;&#50;&#125;&#32;&#92;&#104;&#97;&#116;&#123;&#114;&#125;&#94;&#50;&#32;&#92;&#101;&#112;&#115;&#105;&#108;&#111;&#110;&#32;&#95;&#71;&#32;&#92;&#108;&#101;&#102;&#116;&#40;&#92;&#115;&#105;&#110;&#32;&#40;&#50;&#32;&#92;&#112;&#104;&#105;&#32;&#41;&#32;&#92;&#108;&#101;&#102;&#116;&#40;&#92;&#104;&#97;&#116;&#123;&#102;&#125;&#95;&#123;&#121;&#44;&#121;&#125;&#123;&#125;&#94;&#123;&#92;&#116;&#101;&#120;&#116;&#123;&#40;&#53;&#41;&#125;&#125;&#45;&#92;&#104;&#97;&#116;&#123;&#102;&#125;&#95;&#123;&#120;&#44;&#120;&#125;&#123;&#125;&#94;&#123;&#92;&#116;&#101;&#120;&#116;&#123;&#40;&#53;&#41;&#125;&#125;&#92;&#114;&#105;&#103;&#104;&#116;&#41;&#43;&#50;&#32;&#92;&#99;&#111;&#115;&#32;&#40;&#50;&#32;&#92;&#112;&#104;&#105;&#32;&#41;&#32;&#92;&#104;&#97;&#116;&#123;&#102;&#125;&#95;&#123;&#120;&#44;&#121;&#125;&#123;&#125;&#94;&#123;&#92;&#116;&#101;&#120;&#116;&#123;&#40;&#53;&#41;&#125;&#125;&#92;&#114;&#105;&#103;&#104;&#116;&#41;&#92;&#114;&#105;&#103;&#104;&#116;&#92;&#125;&#36;&#36;</div>"
      ],
      "text/plain": [
       "\\left\\{\\hat{r} \\left(-\\epsilon _G\\right) \\left(\\hat{r} \\hat{\\omega } \\left(\\cos (2 \\phi\\\n",
       " \n",
       ">   ) \\hat{f}_{x,y}{}^{\\text{(5)}}+\\sin (\\phi ) \\cos (\\phi )\\\n",
       " \n",
       ">   \\left(\\hat{f}_{y,y}{}^{\\text{(5)}}-\\hat{f}_{x,x}{}^{\\text{(5)}}\\right)\\right)+\\hat{r\\\n",
       " \n",
       ">   }' \\left(\\sin (2 \\phi ) \\hat{f}_{x,y}{}^{\\text{(5)}}+\\cos ^2(\\phi )\\\n",
       " \n",
       ">   \\hat{f}_{x,x}{}^{\\text{(5)}}+\\sin ^2(\\phi )\\\n",
       " \n",
       ">   \\hat{f}_{y,y}{}^{\\text{(5)}}\\right)\\right),-\\frac{1}{2} \\hat{r}^2 \\epsilon _G\\\n",
       " \n",
       ">   \\left(\\sin (2 \\phi )\\\n",
       " \n",
       ">   \\left(\\hat{f}_{y,y}{}^{\\text{(5)}}-\\hat{f}_{x,x}{}^{\\text{(5)}}\\right)+2 \\cos (2\\\n",
       " \n",
       ">   \\phi ) \\hat{f}_{x,y}{}^{\\text{(5)}}\\right)\\right\\}"
      ]
     },
     "execution_count": 75,
     "metadata": {
      "text/html": [],
      "text/plain": []
     },
     "output_type": "execute_result"
    }
   ],
   "source": [
    "TeXForm[RHSEnegryLagrange]"
   ]
  },
  {
   "cell_type": "markdown",
   "metadata": {},
   "source": [
    "# Итоговая система **энергетических** уравнений:\n",
    "\n",
    "$$\n",
    "\\begin{align}\n",
    "\\tag{dJ/dt}\n",
    "\\frac{d\\hat{J}}{d\\hat{t}} &= -\\frac{1}{2} \\epsilon_G\n",
    "\\hat{r}^2\n",
    "\\left(\n",
    "  \\sin (2 \\phi ) \\left(\\hat{f}_{y,y}{}^{\\text{(5)}}-\\hat{f}_{x,x}{}^{\\text{(5)}}\\right)+2 \\cos (2 \\phi ) \\hat{f}_{x,y}{}^{\\text{(5)}}\n",
    "\\right)\n",
    "= \\epsilon_G I_J\n",
    "\\\\\n",
    "\\tag{dE/dt}\n",
    "\\frac{d\\hat{E}}{d\\hat{t}} &= \\epsilon_G\n",
    "\\left(\n",
    "  I_J\\hat{\\omega}\n",
    "  -\\hat{r} \\hat{r}'\n",
    "  \\left(\n",
    "  \\sin (2 \\phi ) \\hat{f}_{x,y}{}^{\\text{(5)}}+\\cos ^2(\\phi ) \\hat{f}_{x,x}{}^{\\text{(5)}}+\\sin ^2(\\phi ) \\hat{f}_{y,y}{}^{\\text{(5)}}\n",
    "  \\right)\n",
    "\\right)\n",
    "= \\epsilon_G I_E\n",
    "\\end{align}\n",
    "$$"
   ]
  },
  {
   "cell_type": "markdown",
   "metadata": {},
   "source": [
    "# RHS уравнения (dJ/dt)\n",
    "\n",
    "Введём новое обозначение $\\hat{r}^2 \\equiv \\hat{r}_2$"
   ]
  },
  {
   "cell_type": "code",
   "execution_count": 76,
   "metadata": {
    "vscode": {
     "languageId": "wolfram"
    }
   },
   "outputs": [],
   "source": [
    "ToR2Replacement = {\n",
    "  OverHat[r][OverHat[t]] -> Sqrt[Subscript[OverHat[r],2][OverHat[t]]],\n",
    "  Derivative[n_][OverHat[r]][OverHat[t]] :> D[Sqrt[Subscript[OverHat[r], 2][OverHat[t]]], {OverHat[t], n}]\n",
    "};"
   ]
  },
  {
   "cell_type": "markdown",
   "metadata": {},
   "source": [
    "и подставим в (dJ/dt) значения $\\hat{f}_{i,j}^{(5)}$:"
   ]
  },
  {
   "cell_type": "code",
   "execution_count": 82,
   "metadata": {
    "vscode": {
     "languageId": "wolfram"
    }
   },
   "outputs": [
    {
     "data": {
      "text/html": [
       "<div><img alt=\"Output\" src=\"data:image/png;base64,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\"></div>"
      ],
      "text/plain": [
       "FormBox[RowBox[{SubscriptBox[OverscriptBox[\"r\", \"^\"], \"2\"], \" \", \n",
       "\n",
       " \n",
       ">        RowBox[{\"(\", RowBox[{RowBox[{\"-\", \n",
       "\n",
       " \n",
       ">              RowBox[{\"5\", \" \", SuperscriptBox[SubscriptBox[OverscriptBox[\"r\", \"^\"], \n",
       "\n",
       " \n",
       ">                  \"2\"], \"′\"], \" \", SuperscriptBox[OverscriptBox[\"ω\", \"^\"], \"′′′\"]}]}], \n",
       "\n",
       " \n",
       ">            \"-\", RowBox[{\"10\", \" \", SuperscriptBox[SubscriptBox[OverscriptBox[\"r\", \n",
       "\n",
       " \n",
       ">                 \"^\"], \"2\"], \"′′′\"], \" \", SuperscriptBox[OverscriptBox[\"ω\", \"^\"],\\\n",
       " \n",
       ">    \"′\"]}]\\\n",
       ", \"+\", RowBox[{\"120\", \" \", SuperscriptBox[OverscriptBox[\"ω\", \"^\"], \"2\"], \"\\\n",
       " \n",
       ">    \", \n",
       "           SuperscriptBox[SubscriptBox[OverscriptBox[\"r\", \"^\"], \"2\"], \"′\"], \"\\\n",
       " \n",
       ">    \", \n",
       "           SuperscriptBox[OverscriptBox[\"ω\", \"^\"], \"′\"]}], \"+\", \n",
       "\n",
       " \n",
       ">            RowBox[{\"60\", \" \", SubscriptBox[OverscriptBox[\"r\", \"^\"], \"2\"], \" \", \n",
       "\n",
       " \n",
       ">              OverscriptBox[\"ω\", \"^\"], \" \", \n",
       "           SuperscriptBox[RowBox[{\"(\", \n",
       "\n",
       " \n",
       ">                 SuperscriptBox[OverscriptBox[\"ω\", \"^\"], \"′\"], \")\"}], \"2\"]}], \"+\", \n",
       "\n",
       " \n",
       ">            RowBox[{\"40\", \" \", SuperscriptBox[OverscriptBox[\"ω\", \"^\"], \"3\"], \" \", \n",
       "\n",
       " \n",
       ">              SuperscriptBox[SubscriptBox[OverscriptBox[\"r\", \"^\"], \"2\"], \"′′\"]}], \"+\", \n",
       "\n",
       " \n",
       ">            RowBox[{\"40\", \" \", SubscriptBox[OverscriptBox[\"r\", \"^\"], \"2\"], \" \", \n",
       "\n",
       " \n",
       ">              SuperscriptBox[OverscriptBox[\"ω\", \"^\"], \"2\"], \" \", \n",
       "\n",
       " \n",
       ">              SuperscriptBox[OverscriptBox[\"ω\", \"^\"], \"′′\"]}], \"-\", \n",
       "\n",
       " \n",
       ">            RowBox[{\"10\", \" \", SuperscriptBox[SubscriptBox[OverscriptBox[\"r\", \"^\"], \n",
       "\n",
       " \n",
       ">                \"2\"], \"′′\"], \" \", SuperscriptBox[OverscriptBox[\"ω\", \"^\"], \"′′\"]}], \"-\",\\\n",
       " \n",
       ">    \n",
       "         RowBox[{\"5\", \" \", OverscriptBox[\"ω\", \"^\"], \" \", \n",
       "\n",
       " \n",
       ">              SuperscriptBox[SubscriptBox[OverscriptBox[\"r\", \"^\"], \"2\"], \"′′′′\"]}],\\\n",
       " \n",
       ">    \"-\", \n",
       "         RowBox[{SubscriptBox[OverscriptBox[\"r\", \"^\"], \"2\"], \" \", \n",
       "\n",
       " \n",
       ">              SuperscriptBox[OverscriptBox[\"ω\", \"^\"], \"′′′′\"]}], \"-\", \n",
       "\n",
       " \n",
       ">            RowBox[{RowBox[{\"16\"}], \" \", SubscriptBox[OverscriptBox[\"r\", \"^\"], \"2\"], \n",
       "\n",
       " \n",
       ">              \" \", SuperscriptBox[OverscriptBox[\"ω\", \"^\"], \"5\"]}]}], \")\"}]}], \n",
       "\n",
       " \n",
       ">      TraditionalForm]\n"
      ]
     },
     "execution_count": 82,
     "metadata": {
      "text/html": [],
      "text/plain": []
     },
     "output_type": "execute_result"
    }
   ],
   "source": [
    "fh1 = fh /. ToR2Replacement;\n",
    "fh5Symbolic = Simplify[D[fh1, {OverHat[t], 5}], Trig -> True];\n",
    "\n",
    "Fh5Replacement = Flatten[{\n",
    "  Outer[\n",
    "    Superscript[Subscript[OverHat[f], #1, #2], \"(5)\"] -> fh5Symbolic[[#1 /. {x -> 1, y -> 2}, #2 /. {x -> 1, y -> 2}]] &,\n",
    "    {x, y}, {x, y}\n",
    "  ],\n",
    "  ToR2Replacement,\n",
    "  OmegaReplace\n",
    "}];\n",
    "\n",
    "dJdtTemp = RHSEnegryLagrange[[2]] //. Fh5Replacement;\n",
    "dJdt = Subscript[OverHat[r],2][OverHat[t]]*Expand[Simplify[dJdtTemp/Subscript[\\[Epsilon], G], Trig -> True]/Subscript[OverHat[r],2][OverHat[t]]];\n",
    "dJdt // TraditionalForm"
   ]
  },
  {
   "cell_type": "markdown",
   "metadata": {},
   "source": [
    "<span style=\"color:red\">**NB:**</span> В файле Binary.pdf выводится <span style=\"color:green\">**точно такое же**</span> выражение"
   ]
  },
  {
   "cell_type": "markdown",
   "metadata": {},
   "source": [
    "$$\n",
    "I_J = I_1 = \\hat{r}_2 \\left[ 120\\hat{r}_2^{(1)}\\hat{\\omega}^2\\hat{\\omega}^{(1)} - 5\\hat{r}_2^{(1)}\\hat{\\omega}^{(3)} - 16\\hat{r}_2\\hat{\\omega}^5 - 10\\hat{r}_2^{(2)}\\hat{\\omega}^{(2)} + 60\\hat{r}_2\\hat{\\omega}(\\hat{\\omega}^{(1)})^2\n",
    "- 10\\hat{r}_2^{(3)}\\hat{\\omega}^{(1)} + 40\\hat{r}_2^{(2)}\\hat{\\omega}^3 - 5\\hat{r}_2^{(4)}\\hat{\\omega} - \\hat{r}_2\\hat{\\omega}^{(4)} + 40\\hat{r}_2\\hat{\\omega}^2\\hat{\\omega}^{(2)} \\right]\n",
    "$$"
   ]
  },
  {
   "cell_type": "code",
   "execution_count": 84,
   "metadata": {
    "vscode": {
     "languageId": "wolfram"
    }
   },
   "outputs": [
    {
     "data": {
      "text/html": [
       "<div><pre style=\"&#102;&#111;&#110;&#116;&#45;&#102;&#97;&#109;&#105;&#108;&#121;&#58;&#32;&#34;&#67;&#111;&#117;&#114;&#105;&#101;&#114;&#32;&#78;&#101;&#119;&#34;&#44;&#67;&#111;&#117;&#114;&#105;&#101;&#114;&#44;&#109;&#111;&#110;&#111;&#115;&#112;&#97;&#99;&#101;&#59;\">&#48;</pre></div>"
      ],
      "text/plain": [
       "0"
      ]
     },
     "execution_count": 84,
     "metadata": {
      "text/html": [],
      "text/plain": []
     },
     "output_type": "execute_result"
    }
   ],
   "source": [
    "I1 = Subscript[OverHat[r], 2][OverHat[t]] * (\n",
    "    120 * Derivative[1][Subscript[OverHat[r], 2]][OverHat[t]] *\n",
    "    OverHat[\\[Omega]][OverHat[t]]^2 * Derivative[1][OverHat[\\[Omega]]][OverHat[t]]\n",
    "    - 5 * Derivative[1][Subscript[OverHat[r], 2]][OverHat[t]] *\n",
    "    Derivative[3][OverHat[\\[Omega]]][OverHat[t]]\n",
    "    - 16 * Subscript[OverHat[r], 2][OverHat[t]] *\n",
    "    OverHat[\\[Omega]][OverHat[t]]^5\n",
    "    - 10 * Derivative[2][Subscript[OverHat[r], 2]][OverHat[t]] *\n",
    "    Derivative[2][OverHat[\\[Omega]]][OverHat[t]]\n",
    "    + 60 * Subscript[OverHat[r], 2][OverHat[t]] *\n",
    "    OverHat[\\[Omega]][OverHat[t]] * Derivative[1][OverHat[\\[Omega]]][OverHat[t]]^2\n",
    "    - 10 * Derivative[3][Subscript[OverHat[r], 2]][OverHat[t]] *\n",
    "    Derivative[1][OverHat[\\[Omega]]][OverHat[t]]\n",
    "    + 40 * Derivative[2][Subscript[OverHat[r], 2]][OverHat[t]] *\n",
    "    OverHat[\\[Omega]][OverHat[t]]^3\n",
    "    - 5 * Derivative[4][Subscript[OverHat[r], 2]][OverHat[t]] *\n",
    "    OverHat[\\[Omega]][OverHat[t]]\n",
    "    - Subscript[OverHat[r], 2][OverHat[t]] *\n",
    "    Derivative[4][OverHat[\\[Omega]]][OverHat[t]]\n",
    "    + 40 * Subscript[OverHat[r], 2][OverHat[t]] *\n",
    "    OverHat[\\[Omega]][OverHat[t]]^2 * Derivative[2][OverHat[\\[Omega]]][OverHat[t]]\n",
    ");\n",
    "dJdt - I1"
   ]
  },
  {
   "cell_type": "markdown",
   "metadata": {},
   "source": [
    "# RHS уравнения (dE/dt)\n",
    "\n",
    "Подставим в (dE/dt) значения $\\hat{f}_{i,j}^{(5)}$:"
   ]
  },
  {
   "cell_type": "code",
   "execution_count": 87,
   "metadata": {
    "vscode": {
     "languageId": "wolfram"
    }
   },
   "outputs": [
    {
     "data": {
      "text/html": [
       "<div><img alt=\"Output\" src=\"data:image/png;base64,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\"></div>"
      ],
      "text/plain": [
       "FormBox[RowBox[{FractionBox[\"1\", \"3\"], \" \", \n",
       "\n",
       " \n",
       ">        RowBox[{\"(\", RowBox[{RowBox[{OverscriptBox[\"ω\", \"^\"], \" \", \n",
       "\n",
       " \n",
       ">              RowBox[{\"(\", RowBox[{RowBox[{\"-\", \n",
       "\n",
       " \n",
       ">                    RowBox[{\"3\", \" \", SubscriptBox[OverscriptBox[\"r\", \"^\"], \"2\"], \n",
       "\n",
       " \n",
       ">                      \" \", RowBox[{\"(\", \n",
       "\n",
       " \n",
       ">                        RowBox[{RowBox[{\"10\", \" \", \n",
       "\n",
       " \n",
       ">                            SuperscriptBox[SubscriptBox[OverscriptBox[\"r\", \"^\"], \n",
       "\n",
       " \n",
       ">                              \"2\"], \"′′′\"], \" \", \n",
       "\n",
       " \n",
       ">                            SuperscriptBox[OverscriptBox[\"ω\", \"^\"], \"′\"]}], \"+\", \n",
       "\n",
       " \n",
       ">                          RowBox[{\"10\", \" \", \n",
       "\n",
       " \n",
       ">                            SuperscriptBox[SubscriptBox[OverscriptBox[\"r\", \"^\"], \n",
       "\n",
       " \n",
       ">                              \"2\"], \"′′\"], \" \", \n",
       "\n",
       " \n",
       ">                            SuperscriptBox[OverscriptBox[\"ω\", \"^\"], \"′′\"]}], \"+\", \n",
       "\n",
       " \n",
       ">                          RowBox[{SubscriptBox[OverscriptBox[\"r\", \"^\"], \"2\"], \" \", \n",
       "\n",
       " \n",
       ">                            SuperscriptBox[OverscriptBox[\"ω\", \"^\"], \"′′′′\"]}]}], \")\"}]\\\n",
       "\n",
       " \n",
       ">   }]}], \"+\", RowBox[{\"60\", \" \", SuperscriptBox[RowBox[{\"(\", \n",
       "\n",
       " \n",
       ">                       SuperscriptBox[SubscriptBox[OverscriptBox[\"r\", \"^\"], \"2\"], \n",
       "\n",
       " \n",
       ">                        \"′\"], \")\"}], \"2\"], \" \", \n",
       "\n",
       " \n",
       ">                    SuperscriptBox[OverscriptBox[\"ω\", \"^\"], \"′′\"]}], \"+\", \n",
       "\n",
       " \n",
       ">                  RowBox[{\"90\", \" \", \n",
       "\n",
       " \n",
       ">                    SuperscriptBox[SubscriptBox[OverscriptBox[\"r\", \"^\"], \"2\"], \"′\"], \n",
       "\n",
       " \n",
       ">                    \" \", SuperscriptBox[SubscriptBox[OverscriptBox[\"r\", \"^\"], \"2\"], \n",
       "\n",
       " \n",
       ">                     \"′′\"], \" \", SuperscriptBox[OverscriptBox[\"ω\", \"^\"], \"′\"]}]}],\\\n",
       " \n",
       ">    \")\"}]\\\n",
       "}], \"+\", RowBox[{SuperscriptBox[SubscriptBox[OverscriptBox[\"r\", \"^\"], \"2\"],\\\n",
       " \n",
       ">    \"′\"], \n",
       "           \" \", RowBox[{\"(\", RowBox[{RowBox[{\"30\", \" \", \n",
       "\n",
       " \n",
       ">                    SubscriptBox[OverscriptBox[\"r\", \"^\"], \"2\"], \" \", \n",
       "\n",
       " \n",
       ">                    SuperscriptBox[OverscriptBox[\"ω\", \"^\"], \"′\"], \" \", \n",
       "\n",
       " \n",
       ">                    SuperscriptBox[OverscriptBox[\"ω\", \"^\"], \"′′\"]}], \"+\", \n",
       "\n",
       " \n",
       ">                  RowBox[{\"45\", \" \", \n",
       "\n",
       " \n",
       ">                    SuperscriptBox[SubscriptBox[OverscriptBox[\"r\", \"^\"], \"2\"], \"′\"], \n",
       "\n",
       " \n",
       ">                    \" \", SuperscriptBox[RowBox[{\"(\", \n",
       "\n",
       " \n",
       ">                       SuperscriptBox[OverscriptBox[\"ω\", \"^\"], \"′\"], \")\"}], \"2\"]}], \n",
       "\n",
       " \n",
       ">                  \"-\", SuperscriptBox[SubscriptBox[OverscriptBox[\"r\", \"^\"], \"2\"], \n",
       "\n",
       " \n",
       ">                   \"′′′′′\"]}], \")\"}]}], \"-\", \n",
       "\n",
       " \n",
       ">            RowBox[{\"60\", \" \", SuperscriptBox[OverscriptBox[\"ω\", \"^\"], \"4\"], \" \", \n",
       "\n",
       " \n",
       ">              RowBox[{\"(\", RowBox[{SuperscriptBox[RowBox[{\"(\", \n",
       "\n",
       " \n",
       ">                     SuperscriptBox[SubscriptBox[OverscriptBox[\"r\", \"^\"], \"2\"], \n",
       "\n",
       " \n",
       ">                      \"′\"], \")\"}], \"2\"], \"-\", \n",
       "\n",
       " \n",
       ">                  RowBox[{\"2\", \" \", SubscriptBox[OverscriptBox[\"r\", \"^\"], \"2\"], \" \", \n",
       "\n",
       " \n",
       ">                    SuperscriptBox[SubscriptBox[OverscriptBox[\"r\", \"^\"], \"2\"],\\\n",
       " \n",
       ">    \"′′\"]}]}\\\n",
       "], \")\"}]}], \"+\", RowBox[{\"120\", \" \", SubscriptBox[OverscriptBox[\"r\",\\\n",
       " \n",
       ">    \"^\"], \"2\"], \n",
       "           \" \", SuperscriptBox[OverscriptBox[\"ω\", \"^\"], \"3\"], \" \", \n",
       "\n",
       " \n",
       ">              RowBox[{\"(\", RowBox[{RowBox[{\"2\", \" \", \n",
       "\n",
       " \n",
       ">                    SuperscriptBox[SubscriptBox[OverscriptBox[\"r\", \"^\"], \"2\"], \"′\"], \n",
       "\n",
       " \n",
       ">                    \" \", SuperscriptBox[OverscriptBox[\"ω\", \"^\"], \"′\"]}], \"+\", \n",
       "\n",
       " \n",
       ">                  RowBox[{SubscriptBox[OverscriptBox[\"r\", \"^\"], \"2\"], \" \", \n",
       "\n",
       " \n",
       ">                    SuperscriptBox[OverscriptBox[\"ω\", \"^\"], \"′′\"]}]}], \")\"}]}], \"+\", \n",
       "\n",
       " \n",
       ">            RowBox[{\"15\", \" \", SuperscriptBox[OverscriptBox[\"ω\", \"^\"], \"2\"], \" \", \n",
       "\n",
       " \n",
       ">              RowBox[{\"(\", RowBox[{RowBox[{\"12\", \" \", \n",
       "\n",
       " \n",
       ">                    SubsuperscriptBox[OverscriptBox[\"r\", \"^\"], \"2\", \"2\"], \" \", \n",
       "\n",
       " \n",
       ">                    SuperscriptBox[RowBox[{\"(\", \n",
       "\n",
       " \n",
       ">                       SuperscriptBox[OverscriptBox[\"ω\", \"^\"], \"′\"], \")\"}], \"2\"]}], \n",
       "\n",
       " \n",
       ">                  \"+\", RowBox[{\"2\", \" \", \n",
       "\n",
       " \n",
       ">                    SuperscriptBox[SubscriptBox[OverscriptBox[\"r\", \"^\"], \"2\"], \"′\"], \n",
       "\n",
       " \n",
       ">                    \" \", SuperscriptBox[SubscriptBox[OverscriptBox[\"r\", \"^\"], \"2\"], \n",
       "\n",
       " \n",
       ">                     \"′′′\"]}], \"-\", RowBox[{SubscriptBox[OverscriptBox[\"r\", \"^\"], \n",
       "\n",
       " \n",
       ">                     \"2\"], \" \", SuperscriptBox[SubscriptBox[OverscriptBox[\"r\", \"^\"], \n",
       "\n",
       " \n",
       ">                      \"2\"], \"′′′′\"]}]}], \")\"}]}], \"-\", \n",
       "\n",
       " \n",
       ">            RowBox[{RowBox[{\"48\"}], \" \", \n",
       "\n",
       " \n",
       ">              SubsuperscriptBox[OverscriptBox[\"r\", \"^\"], \"2\", \"2\"], \" \", \n",
       "\n",
       " \n",
       ">              SuperscriptBox[OverscriptBox[\"ω\", \"^\"], \"6\"]}]}], \")\"}]}],\\\n",
       " \n",
       ">    TraditionalForm]\n"
      ]
     },
     "execution_count": 87,
     "metadata": {
      "text/html": [],
      "text/plain": []
     },
     "output_type": "execute_result"
    }
   ],
   "source": [
    "dEdtTemp = RHSEnegryLagrange[[1]] //. Fh5Replacement;\n",
    "dEdt = Simplify[dEdtTemp/Subscript[\\[Epsilon], G], Trig -> True];\n",
    "dEdt // TraditionalForm"
   ]
  },
  {
   "cell_type": "markdown",
   "metadata": {},
   "source": [
    "<span style=\"color:red\">**NB:**</span> В файлах Binary.pdf и binary_catch1.pdf выводится <span style=\"color:green\">**точно такие же**</span> выражения для правой части (dE/dt),\n",
    "а именно $I_E = I_1\\hat{\\omega} + I_2\\frac{\\dot{r}}{r}$, где\n",
    "$$\n",
    "I_2 = 2\\hat{r}_2 \\left[ -40\\hat{r}_2\\hat{\\omega}^3\\hat{\\omega}^{(1)} - 20\\hat{\\omega}^4\\hat{r}_2^{(1)} + 5\\hat{r}_2\\hat{\\omega}\\hat{\\omega}^{(3)} + 10\\hat{r}_2\\hat{\\omega}^{(1)}\\hat{\\omega}^{(2)} + 10\\hat{\\omega}^2\\hat{r}_2^{(3)} + 30\\hat{\\omega}\\hat{\\omega}^{(1)}\\hat{r}_2^{(2)} + 20\\hat{\\omega}\\hat{\\omega}^{(2)}\\hat{r}_2^{(1)} + 15\\hat{r}_2^{(1)}(\\hat{\\omega}^{(1)})^2 - \\frac{1}{3}\\hat{r}_2^{(5)} \\right]\n",
    "$$"
   ]
  },
  {
   "cell_type": "code",
   "execution_count": 89,
   "metadata": {
    "vscode": {
     "languageId": "wolfram"
    }
   },
   "outputs": [
    {
     "data": {
      "text/html": [
       "<div><pre style=\"&#102;&#111;&#110;&#116;&#45;&#102;&#97;&#109;&#105;&#108;&#121;&#58;&#32;&#34;&#67;&#111;&#117;&#114;&#105;&#101;&#114;&#32;&#78;&#101;&#119;&#34;&#44;&#67;&#111;&#117;&#114;&#105;&#101;&#114;&#44;&#109;&#111;&#110;&#111;&#115;&#112;&#97;&#99;&#101;&#59;\">&#48;</pre></div>"
      ],
      "text/plain": [
       "0"
      ]
     },
     "execution_count": 89,
     "metadata": {
      "text/html": [],
      "text/plain": []
     },
     "output_type": "execute_result"
    }
   ],
   "source": [
    "I2 = 2 * Subscript[OverHat[r], 2][OverHat[t]] * (\n",
    "    -40 * Subscript[OverHat[r], 2][OverHat[t]] *\n",
    "    OverHat[\\[Omega]][OverHat[t]]^3 * Derivative[1][OverHat[\\[Omega]]][OverHat[t]]\n",
    "    - 20 * OverHat[\\[Omega]][OverHat[t]]^4 *\n",
    "    Derivative[1][Subscript[OverHat[r], 2]][OverHat[t]]\n",
    "    + 5 * Subscript[OverHat[r], 2][OverHat[t]] *\n",
    "    OverHat[\\[Omega]][OverHat[t]] * Derivative[3][OverHat[\\[Omega]]][OverHat[t]]\n",
    "    + 10 * Subscript[OverHat[r], 2][OverHat[t]] *\n",
    "    Derivative[1][OverHat[\\[Omega]]][OverHat[t]] *\n",
    "    Derivative[2][OverHat[\\[Omega]]][OverHat[t]]\n",
    "    + 10 * OverHat[\\[Omega]][OverHat[t]]^2 *\n",
    "    Derivative[3][Subscript[OverHat[r], 2]][OverHat[t]]\n",
    "    + 30 * OverHat[\\[Omega]][OverHat[t]] *\n",
    "    Derivative[1][OverHat[\\[Omega]]][OverHat[t]] *\n",
    "    Derivative[2][Subscript[OverHat[r], 2]][OverHat[t]]\n",
    "    + 20 * OverHat[\\[Omega]][OverHat[t]] *\n",
    "    Derivative[2][OverHat[\\[Omega]]][OverHat[t]] *\n",
    "    Derivative[1][Subscript[OverHat[r], 2]][OverHat[t]]\n",
    "    + 15 * Derivative[1][Subscript[OverHat[r], 2]][OverHat[t]] *\n",
    "    Derivative[1][OverHat[\\[Omega]]][OverHat[t]]^2\n",
    "    - (1/3) * Derivative[5][Subscript[OverHat[r], 2]][OverHat[t]]\n",
    ");\n",
    "Simplify[(I2*D[OverHat[r][OverHat[t]], OverHat[t]]/OverHat[r][OverHat[t]] + I1*OverHat[\\[Omega]][OverHat[t]] /. ToR2Replacement) - dEdt]"
   ]
  },
  {
   "cell_type": "markdown",
   "metadata": {},
   "source": [
    "# $I_J$, $I_E$\n",
    "\n",
    "$$\n",
    "\\begin{align}\n",
    "\\tag{IJ}\\\n",
    "I_J &= \\hat{r}_2 \\left[ 120\\hat{r}_2^{(1)}\\hat{\\omega}^2\\hat{\\omega}^{(1)} - 5\\hat{r}_2^{(1)}\\hat{\\omega}^{(3)} - 16\\hat{r}_2\\hat{\\omega}^5 - 10\\hat{r}_2^{(2)}\\hat{\\omega}^{(2)} + 60\\hat{r}_2\\hat{\\omega}(\\hat{\\omega}^{(1)})^2\n",
    "- 10\\hat{r}_2^{(3)}\\hat{\\omega}^{(1)} + 40\\hat{r}_2^{(2)}\\hat{\\omega}^3 - 5\\hat{r}_2^{(4)}\\hat{\\omega} - \\hat{r}_2\\hat{\\omega}^{(4)} + 40\\hat{r}_2\\hat{\\omega}^2\\hat{\\omega}^{(2)} \\right]\n",
    "\\\\\n",
    "\\tag{IE}\n",
    "I_E &= I_J\\hat{\\omega} + \\hat{r}_2^{(1)} \\left[ -40\\hat{r}_2\\hat{\\omega}^3\\hat{\\omega}^{(1)} - 20\\hat{\\omega}^4\\hat{r}_2^{(1)} + 5\\hat{r}_2\\hat{\\omega}\\hat{\\omega}^{(3)} + 10\\hat{r}_2\\hat{\\omega}^{(1)}\\hat{\\omega}^{(2)} + 10\\hat{\\omega}^2\\hat{r}_2^{(3)} + 30\\hat{\\omega}\\hat{\\omega}^{(1)}\\hat{r}_2^{(2)} + 20\\hat{\\omega}\\hat{\\omega}^{(2)}\\hat{r}_2^{(1)} + 15\\hat{r}_2^{(1)}(\\hat{\\omega}^{(1)})^2 - \\frac{1}{3}\\hat{r}_2^{(5)} \\right]\n",
    "\\end{align}\n",
    "$$"
   ]
  },
  {
   "cell_type": "markdown",
   "metadata": {},
   "source": [
    "Пусть $I_J$ и $I_E$ равны нулю.\n",
    "Тогда и момент импульса и энергия сохраняются.\n",
    "\n",
    "$\\hat{J} = |\\vec{\\hat{r}} \\times \\vec{\\hat{v}}| = |\\vec{\\hat{r}}_\\infty \\times \\vec{\\hat{v}}_\\infty| = \\hat{r}\\hat{v}_\\infty \\sin(\\phi)$\n",
    "\n",
    "Так как $\\phi = \\pi/2$ на бесконечности, то $\\hat{J} = b\\hat{v}_\\infty = u$,\n",
    "то $u$ - безразмерная скорость на бесконечности.\n",
    "\n",
    "Отсюда следует, что $\\hat{\\omega} = \\frac{u}{\\hat{r}_2}$"
   ]
  },
  {
   "cell_type": "code",
   "execution_count": 90,
   "metadata": {
    "vscode": {
     "languageId": "wolfram"
    }
   },
   "outputs": [],
   "source": [
    "OmegaReplace2 = {\n",
    "   OverHat[\\[Omega]][OverHat[t]] -> u/Subscript[OverHat[r], 2][OverHat[t]],\n",
    "   Derivative[n_][OverHat[\\[Omega]]][OverHat[t]] :> u D[1/Subscript[OverHat[r], 2][OverHat[t]], {OverHat[t], n}]\n",
    "};"
   ]
  },
  {
   "cell_type": "code",
   "execution_count": 92,
   "metadata": {
    "vscode": {
     "languageId": "wolfram"
    }
   },
   "outputs": [
    {
     "data": {
      "text/html": [
       "<div><img alt=\"Output\" src=\"data:image/png;base64,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\"></div>"
      ],
      "text/plain": [
       "FormBox[RowBox[{RowBox[{\"-\", RowBox[{FractionBox[RowBox[{\"16\", \" \", \n",
       "\n",
       " \n",
       ">               SuperscriptBox[\"u\", \"6\"]}], \n",
       "\n",
       " \n",
       ">             SubsuperscriptBox[OverscriptBox[\"r\", \"^\"], \"2\", \"4\"]]}]}], \"+\", \n",
       "\n",
       " \n",
       ">        FractionBox[RowBox[{\"40\", \" \", SuperscriptBox[\"u\", \"4\"], \" \", \n",
       "\n",
       " \n",
       ">           SuperscriptBox[RowBox[{\"(\", \n",
       "\n",
       " \n",
       ">              SuperscriptBox[SubscriptBox[OverscriptBox[\"r\", \"^\"], \"2\"], \"′\"], \")\"}], \n",
       "\n",
       " \n",
       ">            \"2\"]}], SubsuperscriptBox[OverscriptBox[\"r\", \"^\"], \"2\", \"4\"]], \"+\", \n",
       "\n",
       " \n",
       ">        FractionBox[RowBox[{SuperscriptBox[\"u\", \"2\"], \" \", \n",
       "\n",
       " \n",
       ">           RowBox[{\"(\", RowBox[{RowBox[{\"-\", \n",
       "\n",
       " \n",
       ">                 RowBox[{\"72\", \" \", SubscriptBox[OverscriptBox[\"r\", \"^\"], \"2\"], \" \", \n",
       "\n",
       " \n",
       ">                   SuperscriptBox[RowBox[{\"(\", \n",
       "\n",
       " \n",
       ">                      SuperscriptBox[SubscriptBox[OverscriptBox[\"r\", \"^\"], \"2\"], \n",
       "\n",
       " \n",
       ">                       \"′\"], \")\"}], \"2\"], \" \", \n",
       "\n",
       " \n",
       ">                   SuperscriptBox[SubscriptBox[OverscriptBox[\"r\", \"^\"], \"2\"], \"′′\"]}]}\\\n",
       "\n",
       " \n",
       ">   ], \"+\", RowBox[{\"36\", \" \", SubsuperscriptBox[OverscriptBox[\"r\", \"^\"], \"2\", \"2\"], \n",
       "\n",
       " \n",
       ">                 \" \", SuperscriptBox[SubscriptBox[OverscriptBox[\"r\", \"^\"], \"2\"], \n",
       "\n",
       " \n",
       ">                  \"′\"], \" \", SuperscriptBox[SubscriptBox[OverscriptBox[\"r\", \"^\"], \n",
       "\n",
       " \n",
       ">                   \"2\"], \"′′′\"]}], \"+\", \n",
       "\n",
       " \n",
       ">               RowBox[{\"33\", \" \", SuperscriptBox[RowBox[{\"(\", \n",
       "\n",
       " \n",
       ">                    SuperscriptBox[SubscriptBox[OverscriptBox[\"r\", \"^\"], \"2\"], \"′\"], \n",
       "\n",
       " \n",
       ">                    \")\"}], \"4\"]}], \"+\", \n",
       "\n",
       " \n",
       ">               RowBox[{\"12\", \" \", SubsuperscriptBox[OverscriptBox[\"r\", \"^\"], \"2\", \n",
       "\n",
       " \n",
       ">                  \"2\"], \" \", SuperscriptBox[RowBox[{\"(\", \n",
       "\n",
       " \n",
       ">                    SuperscriptBox[SubscriptBox[OverscriptBox[\"r\", \"^\"], \"2\"], \n",
       "\n",
       " \n",
       ">                     \"′′\"], \")\"}], \"2\"]}], \"-\", \n",
       "\n",
       " \n",
       ">               RowBox[{\"12\", \" \", SubsuperscriptBox[OverscriptBox[\"r\", \"^\"], \"2\", \n",
       "\n",
       " \n",
       ">                  \"3\"], \" \", SuperscriptBox[SubscriptBox[OverscriptBox[\"r\", \"^\"], \n",
       "\n",
       " \n",
       ">                   \"2\"], \"′′′′\"]}]}], \")\"}]}], \n",
       "\n",
       " \n",
       ">         RowBox[{\"3\", \" \", SubsuperscriptBox[OverscriptBox[\"r\", \"^\"], \"2\", \"4\"]}]],\\\n",
       " \n",
       ">    \"-\", \n",
       "     RowBox[{FractionBox[\"1\", \"3\"], \" \", \n",
       "\n",
       " \n",
       ">          SuperscriptBox[SubscriptBox[OverscriptBox[\"r\", \"^\"], \"2\"], \"′\"], \" \", \n",
       "\n",
       " \n",
       ">          SuperscriptBox[SubscriptBox[OverscriptBox[\"r\", \"^\"], \"2\"], \"′′′′′\"]}]}], \n",
       "\n",
       " \n",
       ">      TraditionalForm]\n"
      ]
     },
     "execution_count": 92,
     "metadata": {
      "text/html": [],
      "text/plain": []
     },
     "output_type": "execute_result"
    }
   ],
   "source": [
    "dEdtNoOmega = Collect[Simplify[dEdt //. OmegaReplace2], u];\n",
    "dEdtNoOmega // TraditionalForm"
   ]
  },
  {
   "cell_type": "markdown",
   "metadata": {},
   "source": [
    "Из сохранения энергии следует, что\n",
    "$\\hat{E} = \\hat{E}_\\infty = \\frac{u^2}{2} = \\left(\\frac{(\\hat{r}^{(1)})^2}{2} + \\frac{\\hat{r}^2 \\hat{\\omega}^2}{2} - \\frac{1}{\\hat{r}}\\right)$"
   ]
  },
  {
   "cell_type": "code",
   "execution_count": 98,
   "metadata": {
    "vscode": {
     "languageId": "wolfram"
    }
   },
   "outputs": [
    {
     "data": {
      "text/html": [
       "<div><img alt=\"Output\" src=\"data:image/png;base64,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\"></div>"
      ],
      "text/plain": [
       "FormBox[RowBox[{\"{\", RowBox[{RowBox[{RowBox[{\"-\", \"2\"}], \" \", \n",
       "\n",
       " \n",
       ">            SqrtBox[RowBox[{RowBox[{SubscriptBox[OverscriptBox[\"r\", \"^\"], \"2\"], \" \", \n",
       "\n",
       " \n",
       ">                 SuperscriptBox[\"u\", \"2\"]}], \"+\", \n",
       "\n",
       " \n",
       ">               RowBox[{\"2\", \" \", SqrtBox[SubscriptBox[OverscriptBox[\"r\", \"^\"], \"2\"]]}],\\\n",
       " \n",
       ">    \n",
       "            \"-\", SuperscriptBox[\"u\", \"2\"]}]]}], \",\", \n",
       "\n",
       " \n",
       ">          RowBox[{\"2\", \" \", RowBox[{\"(\", \n",
       "           RowBox[{FractionBox[\"1\", \n",
       "\n",
       " \n",
       ">                 SqrtBox[SubscriptBox[OverscriptBox[\"r\", \"^\"], \"2\"]]], \"+\", \n",
       "\n",
       " \n",
       ">                SuperscriptBox[\"u\", \"2\"]}], \")\"}]}], \",\", \n",
       "\n",
       " \n",
       ">          FractionBox[RowBox[{\"2\", \" \", \n",
       "\n",
       " \n",
       ">             SqrtBox[RowBox[{RowBox[{SubscriptBox[OverscriptBox[\"r\", \"^\"], \"2\"], \" \", \n",
       "\n",
       " \n",
       ">                  SuperscriptBox[\"u\", \"2\"]}], \"+\", \n",
       "\n",
       " \n",
       ">                RowBox[{\"2\", \" \", SqrtBox[SubscriptBox[OverscriptBox[\"r\", \"^\"], \n",
       "\n",
       " \n",
       ">                    \"2\"]]}], \"-\", SuperscriptBox[\"u\", \"2\"]}]]}], \n",
       "\n",
       " \n",
       ">           SubsuperscriptBox[OverscriptBox[\"r\", \"^\"], \"2\", RowBox[{\"3\", \"/\", \"2\"}]]], \n",
       "\n",
       " \n",
       ">          \",\", FractionBox[RowBox[{\"2\", \" \", \n",
       "\n",
       " \n",
       ">             RowBox[{\"(\", RowBox[{RowBox[{\"2\", \" \", \n",
       "\n",
       " \n",
       ">                   SubscriptBox[OverscriptBox[\"r\", \"^\"], \"2\"], \" \", \n",
       "\n",
       " \n",
       ">                   SuperscriptBox[\"u\", \"2\"]}], \"+\", \n",
       "\n",
       " \n",
       ">                 RowBox[{\"5\", \" \", SqrtBox[SubscriptBox[OverscriptBox[\"r\", \"^\"], \n",
       "\n",
       " \n",
       ">                     \"2\"]]}], \"-\", RowBox[{\"3\", \" \", SuperscriptBox[\"u\", \"2\"]}]}],\\\n",
       " \n",
       ">    \")\"}\\\n",
       "]}], SubsuperscriptBox[OverscriptBox[\"r\", \"^\"], \"2\", RowBox[{\"5\", \"/\",\\\n",
       " \n",
       ">    \"2\"}]]], \",\", \n",
       "       FractionBox[RowBox[{\"2\", \" \", \n",
       "\n",
       " \n",
       ">             SqrtBox[RowBox[{RowBox[{SubscriptBox[OverscriptBox[\"r\", \"^\"], \"2\"], \" \", \n",
       "\n",
       " \n",
       ">                  SuperscriptBox[\"u\", \"2\"]}], \"+\", \n",
       "\n",
       " \n",
       ">                RowBox[{\"2\", \" \", SqrtBox[SubscriptBox[OverscriptBox[\"r\", \"^\"], \n",
       "\n",
       " \n",
       ">                    \"2\"]]}], \"-\", SuperscriptBox[\"u\", \"2\"]}]], \" \", \n",
       "\n",
       " \n",
       ">             RowBox[{\"(\", RowBox[{RowBox[{\"6\", \" \", \n",
       "\n",
       " \n",
       ">                   SubscriptBox[OverscriptBox[\"r\", \"^\"], \"2\"], \" \", \n",
       "\n",
       " \n",
       ">                   SuperscriptBox[\"u\", \"2\"]}], \"+\", \n",
       "\n",
       " \n",
       ">                 RowBox[{\"20\", \" \", SqrtBox[SubscriptBox[OverscriptBox[\"r\", \"^\"], \n",
       "\n",
       " \n",
       ">                     \"2\"]]}], \"-\", RowBox[{\"15\", \" \", SuperscriptBox[\"u\", \"2\"]}]}],\\\n",
       " \n",
       ">    \")\"}\\\n",
       "]}], SubsuperscriptBox[OverscriptBox[\"r\", \"^\"], \"2\", RowBox[{\"7\", \"/\",\\\n",
       " \n",
       ">    \"2\"}]]]}], \"}\"}]\\\n",
       ", TraditionalForm]\n"
      ]
     },
     "execution_count": 98,
     "metadata": {
      "text/html": [],
      "text/plain": []
     },
     "output_type": "execute_result"
    }
   ],
   "source": [
    "eq = Energy - u^2/2 //. Flatten[{\n",
    "   ToR2Replacement,\n",
    "   OmegaReplace2,\n",
    "   D[Subscript[OverHat[r], 2][OverHat[t]], OverHat[t]]^2 -> x^2\n",
    "}];\n",
    "\n",
    "sol = Solve[eq == 0, x][[1]];\n",
    "\n",
    "replacementRule = D[Subscript[OverHat[r], 2][OverHat[t]], OverHat[t]] :> x /. sol[[1]];\n",
    "\n",
    "(* Рекурсивно вычисляем производные *)\n",
    "dr2 = NestList[\n",
    "   Simplify[D[#, OverHat[t]] /. replacementRule] &,\n",
    "   x /. sol[[1]],\n",
    "   4\n",
    "];\n",
    "\n",
    "dr2 // TraditionalForm"
   ]
  },
  {
   "cell_type": "code",
   "execution_count": 100,
   "metadata": {
    "vscode": {
     "languageId": "wolfram"
    }
   },
   "outputs": [
    {
     "data": {
      "text/html": [
       "<div><img alt=\"Output\" src=\"data:image/png;base64,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\"></div>"
      ],
      "text/plain": [
       "FormBox[RowBox[{FractionBox[RowBox[{\"8\", \" \", SuperscriptBox[\"u\", \"4\"]}], \n",
       "\n",
       " \n",
       ">         SubsuperscriptBox[OverscriptBox[\"r\", \"^\"], \"2\", RowBox[{\"3\", \"/\", \"2\"}]]],\\\n",
       " \n",
       ">    \"-\", \n",
       "     FractionBox[RowBox[{\"100\", \" \", SuperscriptBox[\"u\", \"4\"]}], \n",
       "\n",
       " \n",
       ">         SubsuperscriptBox[OverscriptBox[\"r\", \"^\"], \"2\", RowBox[{\"7\", \"/\", \"2\"}]]],\\\n",
       " \n",
       ">    \"+\", \n",
       "     FractionBox[RowBox[{\"4\", \" \", \n",
       "\n",
       " \n",
       ">           RowBox[{\"(\", RowBox[{RowBox[{\"51\", \" \", SuperscriptBox[\"u\", \"4\"]}], \"+\", \n",
       "\n",
       " \n",
       ">               \"40\"}], \")\"}]}], RowBox[{\"3\", \" \", \n",
       "\n",
       " \n",
       ">           SubsuperscriptBox[OverscriptBox[\"r\", \"^\"], \"2\", RowBox[{\"5\", \"/\", \"2\"}]]}]],\\\n",
       " \n",
       ">    \n",
       "     \"+\", FractionBox[RowBox[{\"128\", \" \", SuperscriptBox[\"u\", \"2\"]}], \n",
       "\n",
       " \n",
       ">         RowBox[{\"3\", \" \", SubsuperscriptBox[OverscriptBox[\"r\", \"^\"], \"2\", \"2\"]}]],\\\n",
       " \n",
       ">    \"+\", \n",
       "     FractionBox[RowBox[{\"400\", \" \", SuperscriptBox[\"u\", \"2\"]}], \n",
       "\n",
       " \n",
       ">         RowBox[{\"3\", \" \", SubsuperscriptBox[OverscriptBox[\"r\", \"^\"], \"2\", \"3\"]}]]}], \n",
       "\n",
       " \n",
       ">      TraditionalForm]\n"
      ]
     },
     "execution_count": 100,
     "metadata": {
      "text/html": [],
      "text/plain": []
     },
     "output_type": "execute_result"
    }
   ],
   "source": [
    "dEdtNoOmegaFinal = Fold[ (* Последовательно применяем замены *)\n",
    "  Simplify[#1 /.\n",
    "    D[Subscript[OverHat[r], 2][OverHat[t]], {OverHat[t], #2}] -> dr2[[#2]]] &,\n",
    "  dEdtNoOmega,\n",
    "  Range[5]\n",
    "];\n",
    "\n",
    "Collect[dEdtNoOmegaFinal, Subscript[OverHat[r], 2][OverHat[t]]] // TraditionalForm"
   ]
  },
  {
   "cell_type": "code",
   "execution_count": 101,
   "metadata": {
    "vscode": {
     "languageId": "wolfram"
    }
   },
   "outputs": [],
   "source": [
    "rMin[u_] := (Sqrt[1 + u^4] - 1)/u^2;"
   ]
  },
  {
   "cell_type": "code",
   "execution_count": 102,
   "metadata": {
    "vscode": {
     "languageId": "wolfram"
    }
   },
   "outputs": [
    {
     "data": {
      "text/html": [
       "<div><img alt=\"Output\" src=\"data:image/png;base64,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\"></div>"
      ],
      "text/plain": [
       "                 9                      6                       3\n",
       "            -45 u                   75 u                    40 u\n",
       "(8 (---------------------- + -------------------- + ---------------------- + \n",
       "                    4  5/2                   4  2                   4  3/2\n",
       "    (-1 + Sqrt[1 + u ])      (-1 + Sqrt[1 + u ])    (-1 + Sqrt[1 + u ])\n",
       " \n",
       "                    7                         5\n",
       "                51 u                      18 u                               4\n",
       ">       ---------------------- + ----------------------- + 48 (1 + Sqrt[1 + u ]))) / 9\n",
       "                        4  3/2                       4\n",
       "        (-1 + Sqrt[1 + u ])      Sqrt[-1 + Sqrt[1 + u ]]"
      ]
     },
     "execution_count": 102,
     "metadata": {
      "text/html": [],
      "text/plain": []
     },
     "output_type": "execute_result"
    }
   ],
   "source": [
    "deltaE = Simplify[Integrate[dEdtNoOmegaFinal, {Subscript[OverHat[r], 2][OverHat[t]], rMin[u], Infinity}, Assumptions -> {u ∈ Reals, u > 0}]]"
   ]
  },
  {
   "cell_type": "code",
   "execution_count": null,
   "metadata": {
    "vscode": {
     "languageId": "wolfram"
    }
   },
   "outputs": [
    {
     "ename": "",
     "evalue": "",
     "output_type": "error",
     "traceback": [
      "\u001b[1;31mThe Kernel crashed while executing code in the current cell or a previous cell. \n",
      "\u001b[1;31mPlease review the code in the cell(s) to identify a possible cause of the failure. \n",
      "\u001b[1;31mClick <a href='https://aka.ms/vscodeJupyterKernelCrash'>here</a> for more info. \n",
      "\u001b[1;31mView Jupyter <a href='command:jupyter.viewOutput'>log</a> for further details."
     ]
    }
   ],
   "source": [
    "(* Reduce[2*deltaE*Subscript[\\[Epsilon], G] >= -u^2/2] *)"
   ]
  }
 ],
 "metadata": {
  "kernelspec": {
   "display_name": "Wolfram Language 14.1",
   "language": "Wolfram Language",
   "name": "wolframlanguage14.1"
  },
  "language_info": {
   "codemirror_mode": "mathematica",
   "file_extension": ".m",
   "mimetype": "application/vnd.wolfram.m",
   "name": "Wolfram Language",
   "pygments_lexer": "mathematica",
   "version": "12.0"
  }
 },
 "nbformat": 4,
 "nbformat_minor": 2
}
