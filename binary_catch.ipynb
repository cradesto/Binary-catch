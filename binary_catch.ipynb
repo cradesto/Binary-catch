{
 "cells": [
  {
   "cell_type": "markdown",
   "metadata": {},
   "source": [
    "# Binary catch\n",
    "\n",
    "**При каких условиях два тела, налетающие друг на друга с бесконечности (в системе центра масс) станут связной системой из-за испускания гравволн?**"
   ]
  },
  {
   "cell_type": "code",
   "execution_count": 1584,
   "metadata": {
    "vscode": {
     "languageId": "wolfram"
    }
   },
   "outputs": [
    {
     "name": "stdout",
     "output_type": "stream",
     "text": [
      "  (CleanSlate) Contexts purged: {Global`}\n",
      "  (CleanSlate) Approximate kernel memory recovered: 200 Kb\n"
     ]
    }
   ],
   "source": [
    "(* https://mathematica.stackexchange.com/questions/850/how-do-i-clear-all-user-defined-symbols/861#861 *)\n",
    "<< Utilities`CleanSlate`\n",
    "CleanSlate[];\n",
    "\n",
    "ClearAll[\"Global`*\"]\n",
    "(* ClearSystemCache[] *)\n",
    "(* https://mathematica.stackexchange.com/questions/111605/quit-vs-clearallglobal *)\n",
    "if[Length[Names[\"Global`*\"]] > 0, Remove[\"Global`*\"]];\n",
    "\n",
    "(* PacletInstall[\n",
    "    \"TensorSimplify\",\n",
    "\n",
    "    \"Site\" -> \"http://raw.githubusercontent.com/carlwoll/TensorSimplify/master\"\n",
    "]; *)\n",
    "<<TensorSimplify`"
   ]
  },
  {
   "cell_type": "markdown",
   "metadata": {},
   "source": [
    "## Einstein Summation"
   ]
  },
  {
   "cell_type": "code",
   "execution_count": 1593,
   "metadata": {
    "vscode": {
     "languageId": "wolfram"
    }
   },
   "outputs": [],
   "source": [
    "ClearAll@EinsteinSummation\n",
    "\n",
    "EinsteinSummation[in_List, arrays_] := Module[\n",
    "  {res =\n",
    "    isum[in -> Cases[Tally @ Flatten @ in, {_, 1}][[All, 1]], arrays]},\n",
    "  res /; res =!= $Failed\n",
    "  ]\n",
    "\n",
    "EinsteinSummation[in_List -> out_, arrays_] := Module[\n",
    "  {res = isum[in -> out, arrays]},\n",
    "  res /; res =!= $Failed\n",
    "  ]\n",
    "\n",
    "isum[in_List -> out_, arrays_List] := Catch@Module[\n",
    "  {indices, contracted, uncontracted, contractions, transpose},\n",
    "  If[Length[in] != Length[arrays],\n",
    "    Message[EinsteinSummation::length, Length[in], Length[arrays]];\n",
    "    Throw[$Failed]];\n",
    "  MapThread[\n",
    "    If[IntegerQ@TensorRank[#1] && Length[#1] != TensorRank[#2],\n",
    "      Message[EinsteinSummation::shape, #1, #2];\n",
    "      Throw[$Failed]] &, {in, arrays}];\n",
    "  indices = Tally[Flatten[in, 1]];\n",
    "  If[DeleteCases[indices, {_, 1 | 2}] =!= {},\n",
    "    Message[EinsteinSummation::repeat,\n",
    "      Cases[indices, {x_, Except[1 | 2]} :> x]];\n",
    "    Throw[$Failed]];\n",
    "  uncontracted = Cases[indices, {x_, 1} :> x];\n",
    "  If[Sort[uncontracted] =!= Sort[out],\n",
    "    Message[EinsteinSummation::output, uncontracted, out];\n",
    "    Throw[$Failed]];\n",
    "  contracted = Cases[indices, {x_, 2} :> x];\n",
    "  contractions = Flatten[Position[Flatten[in, 1], #]] & /@ contracted;\n",
    "  transpose = FindPermutation[uncontracted, out];\n",
    "  Activate@\n",
    "    TensorTranspose[\n",
    "      TensorContract[Inactive[TensorProduct] @@ arrays, contractions],\n",
    "    transpose]]\n",
    "\n",
    "EinsteinSummation::length =\n",
    "  \"Number of index specifications (`1`) does not match the number of \\\n",
    "tensors (`2`)\";\n",
    "EinsteinSummation::shape =\n",
    "  \"Index specification `1` does not match the tensor rank of `2`\";\n",
    "EinsteinSummation::repeat =\n",
    "  \"Index specifications `1` are repeated more than twice\";\n",
    "EinsteinSummation::output =\n",
    "  \"The uncontracted indices don't match the desired output\";"
   ]
  },
  {
   "cell_type": "code",
   "execution_count": 1601,
   "metadata": {
    "vscode": {
     "languageId": "wolfram"
    }
   },
   "outputs": [],
   "source": [
    "(* Правила для скрытия аргументов в TraditionalForm *)\n",
    "\n",
    "Unprotect[Subscript, OverHat, Derivative];\n",
    "\n",
    "MakeBoxes[OverHat[r_][OverHat[t]], TraditionalForm] :=\n",
    "  MakeBoxes[OverHat[r], TraditionalForm]\n",
    "\n",
    "MakeBoxes[\\[Phi][OverHat[t]], TraditionalForm] :=\n",
    "  MakeBoxes[\\[Phi], TraditionalForm]\n",
    "\n",
    "MakeBoxes[Subscript[OverHat[r], n_][OverHat[t]], TraditionalForm] :=\n",
    "  SubscriptBox[OverscriptBox[\"r\", \"^\"], ToString[n]];\n",
    "\n",
    "MakeBoxes[OverHat[\\[Omega]][OverHat[t]], TraditionalForm] :=\n",
    "  OverscriptBox[\"\\[Omega]\", \"^\"];\n",
    "\n",
    "MakeBoxes[Derivative[n_][f_][OverHat[t]], TraditionalForm] := Module[{primes},\n",
    "  primes = StringJoin[Table[\"\\[Prime]\", n]];\n",
    "  SuperscriptBox[ToBoxes[f], primes]\n",
    "];\n",
    "\n",
    "Protect[Subscript, OverHat, Derivative];"
   ]
  },
  {
   "cell_type": "markdown",
   "metadata": {},
   "source": [
    "$\\hat{r}_k$"
   ]
  },
  {
   "cell_type": "code",
   "execution_count": 1610,
   "metadata": {
    "vscode": {
     "languageId": "wolfram"
    }
   },
   "outputs": [
    {
     "data": {
      "text/html": [
       "<div><img alt=\"Output\" src=\"data:image/png;base64,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\"></div>"
      ],
      "text/plain": [
       "FormBox[TagBox[RowBox[{\"(\", \"⁠\", \n",
       "\n",
       " \n",
       ">         TagBox[GridBox[{{RowBox[{OverscriptBox[\"r\", \"^\"], \" \", \n",
       "\n",
       " \n",
       ">               RowBox[{\"cos\", \"(\", \"ϕ\", \")\"}]}]}, \n",
       "\n",
       " \n",
       ">            {RowBox[{OverscriptBox[\"r\", \"^\"], \" \", RowBox[{\"sin\", \"(\", \"ϕ\", \")\"}]}]}}, \n",
       "\n",
       " \n",
       ">           Rule[RowSpacings, 1], Rule[ColumnAlignments, Center], \n",
       "\n",
       " \n",
       ">           Rule[ColumnAlignments, Left]], Column], \"⁠\", \")\"}], \n",
       "\n",
       " \n",
       ">       Function[BoxForm`e$, MatrixForm[BoxForm`e$]]], TraditionalForm]\n"
      ]
     },
     "execution_count": 1610,
     "metadata": {
      "text/html": [],
      "text/plain": []
     },
     "output_type": "execute_result"
    }
   ],
   "source": [
    "rh = {OverHat[r][OverHat[t]]*Cos[\\[Phi][OverHat[t]]], OverHat[r][OverHat[t]]*Sin[\\[Phi][OverHat[t]]]};\n",
    "rh // MatrixForm // TraditionalForm"
   ]
  },
  {
   "cell_type": "code",
   "execution_count": 1611,
   "metadata": {
    "vscode": {
     "languageId": "wolfram"
    }
   },
   "outputs": [],
   "source": [
    "$Assumptions = {\n",
    "  {OverHat[r][OverHat[t]], Subscript[OverHat[r],2][OverHat[t]], OverHat[t], u} \\[Element] PositiveReals\n",
    "};\n",
    "$Assumptions = Join[$Assumptions, {rh \\[Element] NonNegativeReals}];"
   ]
  },
  {
   "cell_type": "markdown",
   "metadata": {},
   "source": [
    "## Система движения в декартовых координатах\n",
    "$$\n",
    "\\frac{d^2r_k}{dt^2} = -\\frac{G(m_A+m_B)}{r^3}r_k - \\frac{2}{5}f_{ki}^{(5)}r_i\n",
    "$$\n",
    "\n",
    "Ч.Мизнер, К.Торн, Дж.Уилер Гравтация, Т.3, §36.8, стр. 222\n",
    "\n",
    "Введём обозначения для полной и приведённой масс\n",
    "$$\n",
    "M=m_A+m_B; \\quad\n",
    "\\mu = m_{AB} = \\frac{m_A m_B}{M}\n",
    "$$\n",
    "Задача двух самогравитирующих тел с массами $m_A$ и $m_B$\n",
    "в системе отсчёта центра масс всегда сводится\n",
    "к задаче движения тела массы $\\mu$\n",
    "в центральном поле массы $M$.\n",
    "\n",
    "$f_{ki}$ - квадрупольный момент системы.\n",
    "Задача решается методом последовательных приближений\n",
    "Первоначально строится решение в приближении Ньютона,\n",
    "затем для полученной конфигурации находится квадрупольный момент\n",
    "и находится его пятая производная по времени.\n",
    "Уже на следубщем шаге (уравнение выше)\n",
    "находятся решение с **заданной** функций от времени (**и только времени**) $f_{ki}^{(5)}$."
   ]
  },
  {
   "cell_type": "markdown",
   "metadata": {},
   "source": [
    "### Безразмерные единицы\n",
    "$$\n",
    "\\begin{align}\n",
    "r &= b\\hat{r} \\\\\n",
    "t &= t_0\\hat{t} \\\\\n",
    "f_{ij} &= b^2\\frac{G}{c^5}\\mu\\hat{f}_{ij} \\\\\n",
    "f_{ij}^{(5)} &= \\frac{b^2}{t_0^5}\\frac{G}{c^5}\\mu\\hat{f}_{ij}^{(5)}\n",
    "\\end{align}\n",
    "$$"
   ]
  },
  {
   "cell_type": "markdown",
   "metadata": {},
   "source": [
    "$\\hat{f}_{ki}$"
   ]
  },
  {
   "cell_type": "code",
   "execution_count": 1614,
   "metadata": {
    "vscode": {
     "languageId": "wolfram"
    }
   },
   "outputs": [
    {
     "data": {
      "text/html": [
       "<div><img alt=\"Output\" src=\"data:image/png;base64,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\"></div>"
      ],
      "text/plain": [
       "FormBox[TagBox[RowBox[{\"(\", \"⁠\", \n",
       "\n",
       " \n",
       ">         GridBox[{{RowBox[{FractionBox[\"1\", \"6\"], \" \", \n",
       "\n",
       " \n",
       ">              SuperscriptBox[OverscriptBox[\"r\", \"^\"], \"2\"], \" \", \n",
       "\n",
       " \n",
       ">              RowBox[{\"(\", RowBox[{RowBox[{\"3\", \" \", \n",
       "\n",
       " \n",
       ">                    RowBox[{\"cos\", \"(\", RowBox[{\"2\", \" \", \"ϕ\"}], \")\"}]}], \"+\",\\\n",
       " \n",
       ">    \"1\"}]\\\n",
       ", \")\"}]}], RowBox[{SuperscriptBox[OverscriptBox[\"r\", \"^\"], \"2\"], \" \", \n",
       "\n",
       " \n",
       ">              RowBox[{\"sin\", \"(\", \"ϕ\", \")\"}], \" \", RowBox[{\"cos\", \"(\", \"ϕ\", \")\"}]}]}, \n",
       "\n",
       " \n",
       ">           {RowBox[{SuperscriptBox[OverscriptBox[\"r\", \"^\"], \"2\"], \" \", \n",
       "\n",
       " \n",
       ">              RowBox[{\"sin\", \"(\", \"ϕ\", \")\"}], \" \", RowBox[{\"cos\", \"(\", \"ϕ\", \")\"}]}], \n",
       "\n",
       " \n",
       ">            RowBox[{FractionBox[\"1\", \"3\"], \" \", \n",
       "\n",
       " \n",
       ">              SuperscriptBox[OverscriptBox[\"r\", \"^\"], \"2\"], \" \", \n",
       "\n",
       " \n",
       ">              RowBox[{\"(\", RowBox[{RowBox[{\"3\", \" \", \n",
       "\n",
       " \n",
       ">                    RowBox[{SuperscriptBox[\"sin\", \"2\"], \"(\", \"ϕ\", \")\"}]}], \"-\", \"1\"}], \n",
       "\n",
       " \n",
       ">                \")\"}]}]}}, Rule[RowSpacings, 1], Rule[ColumnSpacings, 1], \n",
       "\n",
       " \n",
       ">          Rule[RowAlignments, Baseline], Rule[ColumnAlignments, Center]], \"⁠\", \")\"}], \n",
       "\n",
       " \n",
       ">       Function[BoxForm`e$, MatrixForm[BoxForm`e$]]], TraditionalForm]\n"
      ]
     },
     "execution_count": 1614,
     "metadata": {
      "text/html": [],
      "text/plain": []
     },
     "output_type": "execute_result"
    }
   ],
   "source": [
    "fh = Simplify[Array[rh[[#]]*rh[[#2]] - 1/3*KroneckerDelta[#, #2]*(OverHat[r][OverHat[t]])^2 &, {2, 2}], Trig -> True];\n",
    "fh // MatrixForm // TraditionalForm"
   ]
  },
  {
   "cell_type": "markdown",
   "metadata": {},
   "source": [
    "<span style=\"color:brown\">**NB:**</span> Здесь и далее мы не записываем компоненты квадрупольного момента для $z$, так как они сворачиваются с нулевыми $r_z$.\n",
    "\n",
    "Однако нужно запомнить, что след полного квадрупольного момента и его пятой производной **нулевой**!"
   ]
  },
  {
   "cell_type": "markdown",
   "metadata": {},
   "source": [
    "$\\hat{f}_{ki}^{(5)}$ - заданная функция (см. выше)"
   ]
  },
  {
   "cell_type": "code",
   "execution_count": 1618,
   "metadata": {
    "vscode": {
     "languageId": "wolfram"
    }
   },
   "outputs": [
    {
     "data": {
      "text/html": [
       "<div><img alt=\"Output\" src=\"data:image/png;base64,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\"></div>"
      ],
      "text/plain": [
       "FormBox[TagBox[RowBox[{\"(\", \"⁠\", \n",
       "\n",
       " \n",
       ">         GridBox[{{TemplateBox[List[SubscriptBox[OverscriptBox[\"f\", \"^\"], \n",
       "\n",
       " \n",
       ">               RowBox[List[\"x\", \",\", \"x\"]]], \"\\\"(5)\\\"\"], \"Superscript\", \n",
       "\n",
       " \n",
       ">             Rule[SyntaxForm, SuperscriptBox]], \n",
       "\n",
       " \n",
       ">            TemplateBox[List[SubscriptBox[OverscriptBox[\"f\", \"^\"], \n",
       "\n",
       " \n",
       ">               RowBox[List[\"x\", \",\", \"y\"]]], \"\\\"(5)\\\"\"], \"Superscript\", \n",
       "\n",
       " \n",
       ">             Rule[SyntaxForm, SuperscriptBox]]}, \n",
       "\n",
       " \n",
       ">           {TemplateBox[List[SubscriptBox[OverscriptBox[\"f\", \"^\"], \n",
       "\n",
       " \n",
       ">               RowBox[List[\"x\", \",\", \"y\"]]], \"\\\"(5)\\\"\"], \"Superscript\", \n",
       "\n",
       " \n",
       ">             Rule[SyntaxForm, SuperscriptBox]], \n",
       "\n",
       " \n",
       ">            TemplateBox[List[SubscriptBox[OverscriptBox[\"f\", \"^\"], \n",
       "\n",
       " \n",
       ">               RowBox[List[\"y\", \",\", \"y\"]]], \"\\\"(5)\\\"\"], \"Superscript\", \n",
       "\n",
       " \n",
       ">             Rule[SyntaxForm, SuperscriptBox]]}}, Rule[RowSpacings, 1], \n",
       "\n",
       " \n",
       ">          Rule[ColumnSpacings, 1], Rule[RowAlignments, Baseline], \n",
       "\n",
       " \n",
       ">          Rule[ColumnAlignments, Center]], \"⁠\", \")\"}], \n",
       "\n",
       " \n",
       ">       Function[BoxForm`e$, MatrixForm[BoxForm`e$]]], TraditionalForm]\n"
      ]
     },
     "execution_count": 1618,
     "metadata": {
      "text/html": [],
      "text/plain": []
     },
     "output_type": "execute_result"
    }
   ],
   "source": [
    "(* fh5 = Array[Superscript[Subscript[OverHat[f], {x, y}[[#1]], {x, y}[[#2]]], \"(5)\"] &, {2, 2}] *)\n",
    "(* Symmetric version *)\n",
    "fh5 = Array[If[#1 <= #2,\n",
    "                    Superscript[Subscript[OverHat[f], {x, y}[[#1]], {x, y}[[#2]]], \"(5)\"],\n",
    "                    Superscript[Subscript[OverHat[f], {x, y}[[#2]], {x, y}[[#1]]], \"(5)\"]] &, {2, 2}];\n",
    "fh5 // MatrixForm // TraditionalForm"
   ]
  },
  {
   "cell_type": "markdown",
   "metadata": {},
   "source": [
    "$\\hat{f}_{ki}^{(5)}\\hat{r}_i$"
   ]
  },
  {
   "cell_type": "code",
   "execution_count": 1620,
   "metadata": {
    "vscode": {
     "languageId": "wolfram"
    }
   },
   "outputs": [
    {
     "data": {
      "text/html": [
       "<div><img alt=\"Output\" src=\"data:image/png;base64,iVBORw0KGgoAAAANSUhEUgAAAVAAAABWCAIAAAAWpFknAAAAzXpUWHRSYXcgcHJvZmlsZSB0eXBlIGV4aWYAAHjabU/bDQMhDPtnio6QBzgwDtfjpG7Q8Rsep4qqlkgcxwlKaO/XFR4dwhRisowCkCOWWKQ6yTQxM1MZcSDdjHc9JEzC1aX0baAt/dh1W37JP4tIJtH+g3ONa2AtUpk611kfyy81532R0oZyE/5fRzVBAlv0GIXMUJzn4NQTklAyXHgCbmScQvHpucHMx2DdobUPdkiz3d0C1IWzn6D9Ja2e1SOrXzW0ztmjaJZjdcch4QMUE1qFgGbeKgAAAAlwSFlzAAAWJQAAFiUBSVIk8AAAADx0RVh0U29mdHdhcmUAQ3JlYXRlZCB3aXRoIHRoZSBXb2xmcmFtIExhbmd1YWdlIDogd3d3LndvbGZyYW0uY29tXKKmhQAAACF0RVh0Q3JlYXRpb24gVGltZQAyMDI1OjAzOjEzIDAyOjExOjI4pptK0gAAIABJREFUeF7t3We4e0W1BnDB3hUL9oKIXSwIoqjYEQsidrCioIA8VqwoShMFsVdAFBFREMWuYLt2UUGxYO9iV+z9/rjvueOwk+y9k5Occ8I/8yFPsjN7ylqz+pqZ9f7zn/+cZ1FWDwL/+te/Xv3qV//73//OED796U+/+MUvvvzlL796I1r0PCsIfPazn/3c5z6X1v/yl7/8/e9/f9aznjWrzka0u96C4FcY4o3ujjvuuPvd737l4Z3vfOcPfvCDqzukRe+zgABCu/GNb3z66aeXxj/5yU/e6la3mkVfLW2uv8L9LboDgQ984AP77LNPQPHCF77wpS996f/8f3nDG97g4fe///1HP/rRf/7znxfgmmsI/PSnP33AAx5AiTOL97///ec///kLoj/zmc+E2h/1qEd9/etfX7lpYjyjyj//+c+Wf8+tf/3tb39DaXTsGU3wfe9735WudKWf/exn2v/Yxz528Ytf/BOf+IQeG9097WlPI+3XTRTMCPKNZqEY2OnVM+ru17/+9TWvec23vvWtaf/2t7/9Yx7zmO9973uN7lA+C+5b3/rWFIfRsmzOM6obrOixj33sFAcxF0398Ic/vMxlLoPdordZDPjb3/72ZS972Y985CNp/J73vGdY+4UudKGnP/3pf/zjH0uncHbb2972KU95yiyGsWgTBMAW5KHjxz/+8dQBQqrf5S53edzjHpeWv/CFLxQZfrOb3QyLr3s89NBDb3jDG9bYX+Z4nve8573tbW8b2shwgj/qqKO22mqrs846a5kdz9fr//jHP25961sHMeuttx4dbOrjp6jf8Y53LM2+/OUvf+ADH3j1q189nV772tf+wx/+UP790Ic+5OEvf/nLqQ9j0eB73vMeKA7Yb3Ob20xdk4oj5je/+U1A/ZWvfOXJT36y1YWzp9NXvepVNRYufelLN54sB0emc9/73ve5z33uYCNDCP7YY4+9ylWuQiFZTpfz+O5Tn/pUmPD5pS996apXverlLne5n/zkJ9OdyA1ucIPHP/7xg22++c1vvsQlLqH3IhPUofZ78q53vWu6Y1i09qMf/Yged41rXOPLX/7yE57wBEB+xjOeMV2w8NFc+cpXHmzzF7/4xbbbbqvHi1zkItTJUgHTechDHjLFMTBVbnrTmx544IGNNpsE/41vfOOiF73oO97xjin2PRdNMa0veMELHnHEERktYrvFLW5xu9vdboq8/7e//S2pcthhhw0FCMivv/76rL76XwonVX8uADgvg4RQ2iuHGdrLmInWC1zgAjypU5wCff6ud73r0Ab5DnbccUc0z0FbKjCfN9544ykOQFPklnmddNJJdbPnIHhD2Xzzza3y6XY8F61985vf/NrXvlYP9U9/+tPJJ588RYLXGjQLxowCiFWII7Asasa/zTbbzAUA52WQwAsRf/3rX+sBi5ZZAFOcAg1iqCqXLqLwC8KXHkVqPJm6Eb3zzjvzEFvJpaNzhOWOP/54iQEGWhwM684X9vP1rne9er6Urjvc4Q7nPe95pwUEGoSmSo7NYLPsiGtd61rnO9/5yl98P/XPoSOBS1kc1vG0xjlZO4Yx2Ysr/BZ4QmtwUQpTywKY4kiI1nZE6+u6171u6TGVxe3ax0BRh+v+oEbLQoNSuUqz5yB4Gv8VrnCFe93rXlOc+Tw2hXie//znM6uudrWr7brrrr/73e+mMgtOAe1w5Axtjcx573vf2wA+K6Az647TAW/CyHkcpjLOCRr56le/yvW4ySabrOIYJhi2V2aH61GI1unb3/52hjO+U8as8sUudrHi0hs6F64HWIZrHoeek+X8pza+6EUvwimWXimyHs48etjDHjZFxWZaTX3qU5/q3xS39nLUMytg++23hw+KH40ITJ7znOf0772lJuuATY6VpA6sb7bZZnS5eOaFUsiZWvvCy62A1772tS1tztrb3HPihxxySNbTkUce2fOVodV+9atfnXHGGf1bEMSmBPWv36g5O1zvsssuN7/5zdMd6X2nO92J3f75z3/ezx/84Ac8NQ1AybZUp2UiE4eQ9ttvP3g54YQT0vh/bfiwDe7iicE3ixcteukKN7rRjRpGV93Xgx/84Cte8YrFBcJXseGGG9YekbEGJnwCDhLgvPXMZz6TUS14NlYLLZXNBV9PBWnzUeEudalLoXzu4jomp4KwHII/88wzRzW4At7mnhOXX2B9c4YtJ4go9YNR86Y3vWlUp1iw7FSacKmAitBJC4jaxz87XBuqlVOgURIurGRQ+uhHP1oPDM9i87/uda9rGe3EIaRTTjnFGhOlaxL8LW95S3/AXE8cr0A1gLj73e8ORsWhOtgpmZCAKsZZ/pXBRkS/4hWvGHeQNFI0duELX7hIWvr8uI201BfsFPIsQZDf//730irrkZd3JYEJE7C+RrW2Mt7mKc69vSnUzu595Stf2VJNzBKiH/nIR5Y6NNX73Oc+zO8J0DRrXAuzPfShD81QCfnvfOc7AjG1BldmIWDOfmxRVZYTQqIaACyGcg6CJz89ZR7MLqV0gqWz9957k4HtWYd0FYsA42+0j9qTujxWv0CvtXvc4x5jvTVWZVooz5wIcMtbsCAHW6imBR0r420ea2oTV0Z7nEcPf/jD21vYdNNNYwDX1XBGrhaCYVzdfta4xs0lWR100EHtk5J7a16UtZZqywwhoQ5wi620pNIzkj26/vWv3x9neATl2Y6/kk40+K6/Tj311JacwZ///Ocf/vCHKbe0Wdy6joG9853vJLqf+MQntg9pVOIEejAdy2is5Jmb3OQmRZ/vD4pxa8Luy172spa34KZdwRu3x8H66IRCy03YvykgxafEqwmrJKI33qW/ZI9AKXklPy2YILrxls0LW265JY2MP7llMPyX8hR41wdbOProo2GNeOg/FzVXANfWMwdQe2RXis5QsT/WXNorb7fddsW9skTw2aRlt0afbuzlwrqovhtttJEgh4I3w0d512o4+OCDkzEKSeiW0vXGN76xbhw/FjMQ9GL7KRqRXViSzP3LIen1dnK1wvghR7keXvOa1zQ0wFGzExvnRGGrx/NEdfRzVDZyHxCtQB3eDZYLByw7lgtAQjjG+qQnPUn+Zp+8KVaSmfbP1Revvc51rnPJS15SSskGG2zA+7j11ltnmtYrMUW1piSCuSdo+N3vfvcjHvEINaHe2thpp514ofWIYvfff/8aPvJePJd03AI0jCPYRKWDjMZ6s1osMyuzE/LziOvvfve7xxxzDAbNARS+hu3e7W53g/o+zGL33XcHuoT9lwh+33339QhWOuGFJlGm/JyQIgU1JjS3RN6FbGvCE/v+IIBiU8KA97///YuOasOAOkXheclLXuJnyXZKZsKgol6GRwAye+oguSg6daMeP9tYI1JWE7psKXvttRcXhkWsPtbju1L8HJ0wWZUK1DwhQ/mbmSOi2mKLLcKw0H/nkMYieKuKW1RYMcoaJxnPGbHsO1LE/f2brkPwVADYyROGFZqXx4ojJPptwdS7R7JLtKGol/FbP2IlYRYpJA21zjKr54i5+KvBSoYCYR5xLQhy73vfO9N/wQtegPhLdgbG2olrASAvJnV3ieDxV49222239pchnr1kRydXWamZDSfs/zxJGAD51RsPbT7LcEuQia/ST87M0o6g1IknnpifmIV/yavB8dDoxDAoDngEIawa10hCDJxteGH9isiw530knrd4g1RGNp0QXDsV9txzT2PmdMDF8VxE5WefbNyxCF56pmbRcJk4yNv1VX7aHBL8huBTcMw8NJ4w+oR+FUswdVg3fmIBCHsQqlQYeiL+JQnSp5p2FiRDRryjri+65CH53xM1c4drDD2gc2IKziuKxAjypc9Wv0jcZNAuEXz4R+dCYZCo1sgZJFfZAshPcxhBkgeo9DXooRM1ek47iHPFK37SFIq7wlopjJ+66F8x6gb+mEORYwneJFYR4cAuGBxbemkMZtSaiHVAevRcNGuhWgAlcYDIjfhtcanUAx6L4KnBesFkncaVRihNQs2lQfGnLMea4JOyScLX/cZSE0nNQwEqP2n+g8DE/fWIznngcXkyLRofmg+PqGeaEVIEeiJl7nAdQIng0urj34Huhpozau52iHg3HrqlTDv486g90UeFaNriZMFuCqL1PKKGG49vxhfmfV2HzpkcMoyKEPYl+wdYhlyUPFjUAQuo7E5NwlZS0+qCreAvsV48xyBoiaHqvJvGS0kLfdK/gI8YUXnlTx1qzLH/T1hjUqkvVBGW7zuWOrQFPJeNU5ego34SeTtYaO9yRUhpcpU2QVBbKjGqU1Dm4Ftl/2n9Fw3Rz6y3gppBRMsqT5BCtIXjwDTx+kSznSTh09plMDYQDYle7ATgPOKab9u88D4TTD4YdHOadE5WhdB1YH4Ogu9M245KVhtUjf64l/Mk9nBdaID5GbqilsfMw6cxC0wE9Zb6NAXfYbpuwep89rOf7UkUeJxF6hIRl/FE55G5Ub+SFvosAkcUJJ95jgiexhv2CgjosB33olAM6VIE+dW3da9+iBpzHlOjIF0MJctLbh9JSw+a7ASuBhcYimi9yEfEpnkHiBM/hVd9Zo4iOxlejeuyVM6tuObeyqzZ80M5aQv2k981NsFbW4GmwPio1stQspe7LnEvKZEGbH6ZZFyOWUZcUDh3jnxQqC4+KXJ1C2iSE4FIjzCnHdALykLnKPIwin0paSGir73kOFEWY3TOuSjluEvU2DlgahGLrBTxTq+wj+qHmMJQWa3mDjvsgCPbYu07zsgspLItf8fOUETr4uMf/7jPkm2O4GkBIf4gGm+qhUpZKudKXBNmZJtZSzdwDlInrhsVIsiXtKro/UEkB2C7CRSeyhgYTHI47bTTxFGjeChEcaOpww8/PH/FryYkmwrYh2nkLxtF4t0JahtngDDFPeSHy4vxDuaQMG1iY41DBTxPy2IQnaZdPEwPetCDOmuunQoQYcwlZ3usgY1lwzPRk/5Er2bGF6uhJB2LjwaDtQ2fFImGDc868JDTIaOVCOCnVOh68NYAx7DnSfTG1mG27PKIQ3ePPfaoXwk9WNl9MsfmDteingHvZKehcFp7FysEsfFOrc0Ko5NLgcwIUlAd0iJ+GeQJvcRr2qjjp0wYOqQvIgJf/OIXfbHv3zSS1WwV5gTPoRvL4hkqdgeBw/WS1sRjSBsCqqHSZ8fSoInYGJufkfBzpM9zz8Y4isN5pkVeVjQCcVCxQMw6ehCbYpn9DkU0XZKZXXBtnTAfYsBbaXJG9B52X0oQTeb3UXfnDtdR5cQ+qWnLBPh4BJ9z/xRWNxku8R6R4x+0cesA6XK3xsD2V5JeSwmXEngvKOFpz7+exN/uS3S8KO1yj+sWsn8YR0D5VAyrMPq8li0CoiMipZSoD6W1FkgJLDtvSIUWgtej9S19KGYzC9N3btLBZpkzcr+yaUGRCF2uH2gZw7h/ZRFgf07FG/fdCeo74a+IcRk4Sd4qor444QKcFOqAz8jh8jAVym5NvhvCHLOuva0COvHthaEkzV5yB4tSCDZXdzT8O3EeFafvCuCaKmF9Wnu8oekORqQVTgDbzldiwEP0FE5nCD56qvRqJmLfKNxvJeqOBrIPh2deXm3aT2IPJl00Lj1S9kq6BRSmQurHO4il1WobOy3rQBBR/o8vVAPmK7PTOhhMwArJiRd06roiQGraYNCSBSlhw6FFqqFzB6RQVXwfTE2ld3AvY1sS5vXrOySxUDrHMG4FWUwG0L6nsqXNsVR6ac76EshNWivxi7lDH+d5uuDJy5IoO1uQpfp5WKrpNB5WoC4H++QejhLwS4M5AYZ7GaPhLOC9wzQZL7jD0FSTsP5GNufQ6U8L1wcccIB9UDotZ0XSVviAxsVjZ/3ocUrjrNvOF0uFWqVfYsD9CV4rIiUkeQYBf+Rq43BvP5GHhU5i07pl1Fgc4FJb/uKrSFEF4oLoVpltVu95ihuZa6CeGImN0xc+h6c4AWrUTljneWih5Hi0ACg3/pTg8KiaNAvMJetPTEgZZTFmXxdlR8YRCVDnKfXHU3vNJLdNvHU37nGKVZ/xIBIMDq4VmhSLGjsL4aFh7L4+qoVZp37x0eoFleL4mHtyMVL4awRxC7MoVn3GY6kIwda2GG2CXjl0J5X1ZmCYSJ3fPWpeU8Q19seIKNt1ObDC5adbEv4ErnF3B02N4NMQ0NOuW0QibV86BGrE4AeTW5NZBWS0IGVwRwTGZn0MPZCDMOe/RZ8tiQd6x24xsj43DSS0Sw/vRFU4I4nXXjMiUfhqikfidY5tdhXAMJdzCNrTm5g/fXxj/ccDy5T2oUdfkPAgKfmiBY8kkDpS0Pr0OF1c8x3qOgeu4F9r8yqH5Ur4PmCdSh0JOVQAEZrB1rht2j2WRCt+wTToHAnWQ0CRD31uAsg+hM5stvgX6zOnO4exLleAAok9Q80TudjtYQgeEwZUz5Oapo7r8KPoWazdPutt5RE9uZe+6GMr8wX7pNex8bJ7txS6NOXf+hg1DIY9jyA7P2GFwcL/JAaZDHAeEfakPNDOEC6OENGd/LaWEg8lubQygJr3Xphm2Dqc8sU0YvuUxDgIhxa6BvNKMFW26ag6M8U1NyG/qfXAS215jFpvawhB4Tdj2fArzKJkEWP/tVGAmBsmXz0kNMnZ3tiY3RizRC44oN1xGtvnwwXV58gUHqlsoc1FVCya0mztMvScxWFzEsWBqWIkfWzLFYbqGuwOihF8I2kCahp+nHrk3MOdBwdMF9dstIYhKXnJph0HlsgIWoNQNaS5UekL+BoH2skCGLWb0itQ0mk58xrw/OEjOB1Tv30ftQUnBZV9wROpfY4Zq5DqUa71sClda3ZoMiapFbzTJI/rurAGLkMO5HXwGp+Jl35NTr7L72hpquWkw/LWFHFNhkv04D+T9FnaTzB4RpcRTgzG+sX5I/ipTLvRiJRsDkWhjk7ukL29dp4mkuRkSz/pmeXFbCLkbiDS2QU5V4sbnKbKoS2YPIvxL9rsD4Fp4ZoamPh/vXGbl4HMmPodEv1n11lzQfCdIDpHBR7pxrnXgyeQyRuRQ9LQ3rmIhm7zHq/7Re0VhEAnrtloskLrgL+EiMYptCs43l5dzY3Tbo24OnJEVz2YZFyUQvN0lIDkU8HqZAqmkPC5InJR5gUCnbiWtM+FXM72ECTnqCspRmt/muOl1q79+azKCKUkCAs52G9Vel90upIQkE4rrMMYJAOcDsCYz5bteSkLgp8CpmQTLn9XwxTGsWhi9hCQWiOrz5YtWYBy7BjwfbbrzH5cfXtYEHxfSC3qLSBQICChm2I/j9euLgh+sYwXEFiHILAg+HUI2YupLiCwIPjFGlhAYB2CwILg1yFkL6a6gMCC4BdrYAGBdQgCC4Jfh5C9mOoCAguCX6yBBQTWIQgsCH4dQvZiqgsILAh+sQYWEFiHILCe7Tam6x4oJ3I5BKYcRL0OwWBVp5pDl3PLleLId5e62HG9qoNadD4TCDgBqRxY7rQPp/TlRM1ZF0fCOOjZxu2zT/vP/rq1fOJNrx2Ac1spN16X4mLMuZ3KYuBtEMDTc2VtKU7vWhmQLbbHtrFUfDfHac2O79putc8++6R9x+85g92ZGSm2YXnoBB4nIk52W+Pshn0uaxmKIXr51+O1gMXla46+yv2cjrt0PkpBtGPwcuuJ09lz29IKlYWEr7mso6kcXwv0szuxyEU0jtzNkXsOw3Fmu1N3Bm/RMADSvvM0npUREefKXmK9OljepV2zmKBzzZyh5jjTNO4ARdtpcxViXVA+C27oefvTGtXixJvhkMTsy11F9jxiydOCeGnH2aZWmHPv8iT3pSmuWHGERn1ONlJ3T6hFOfUxLBoEAVfllG2tLtKYOmMl1d2YUs4pt22+CHD+ssYdMoceeihtv88p6ZPhbkHww+GW++188l86q9CGZxfITQbiUW9R1B2rXP51Bq4Lw5yIltXgTIX6Qo5cnu2I++mOYdGaE8rocfa0O98yR1C6I2i6YMnNf+X+AgeiOxiLOMHZg+vGzcju1Wk8meJ4FgQ/BJg0bffeHnHEEfmPyu2uK0cXTZf3u3XLJurB7l22m8Ow6rsrjMGTyW4InuJyOZc1BaFbbbUV+9klWZkaSnPvDcfKFGfKR+OyrcEGdbrttttCa+Nqc1qGc82nOIC6qYXTboh/xOHTBLujpvOf0+mcTDjd04uceer+rIarNt25SkHAxsV1LmwrgzMG+n/jEo4hQ188GgcCKME1h+6BKxfXMa3dSM3eHqeZjrqwNhTROoXiHXfckdcmF6KmqCwiO8UBjGpqkXizBBnqtBspajDhwe6TmMIFvf/fqFVltTV6KT26VNO1CvzzuWU5RWVsqH0daHPW3uY+C9Ew+lRb9TouioFW2lw9EppX45zSZY6T0T4K0XwHTkDUfu4yL4jm32HQtfe7/BDSguCHQ1iOBGnvdmpa/fHHH79M9Of1LLKSYzPYJscBRcOKLH/x/dQ/hw6D0wFv4vnncZjKOCdoxJ1qPBGbbLLJKo5hgmF7hafW1TQ0arjeddddaWGTtdN4i43Qjmj1HYlX3krl+hLewWFwPcAyXPM4TDzI+SD4sbQdN0DUvHMC0LjnjBCwFBj2vuPHZ6coLbtEh+TIGdqSS1TcNu8u6vpfd1S1Z9155eCDD/aKWbMLEvJd+cIAthyB/aSTTlpO70JZrgDo3wK+3EJXne1QpsTJ99tvP0o+p7oTKaU5dr7VpwJcj0K0192bJO/NGitNqexszOLSG+zCUOEXfPx10EEHAXifYQypE+N+zWbaUVaZWO54aLlUyL3RLksvt8TTgTfccMNRl8Z3+kUkS4iNazD3urtphOAdvO66s53BCnDGJidP8hesb7bZZrJu4pl3KRXF0i3X5UWdWgFW4ai+VsDb3HOa1FF3vHKGLSemICkFqF0cOKrTk08+2Q3c5T521RjD7hQ988wze46zUY3nHEnIffLchUKU7dwDu/yyyy67lEtvsSSDNFRn2mvZldv8BUceeWTdixtTh16eW+osJ4Q0N1568srVYqi9OFQHMYEmE1AFx/KvhBYc1E1vE2Buzz331Bp3Xd7lXGm5hX7c9jEvfD1vUVuiwrm7AuWLD9UxORWE5RD8qNW8Mt7mcSc4cX3UTg12a2BLC0IYwOVKz1KHTesKMOZ3n7tAGy2zPoDXneKFyU7QSAtvsiwL+ysJFxYztti4qcY6FyZsuRVzmSGkuSH4vffeG0m0JyGdcMIJFgHG3wA9ak8m41hLEHnn0uhTTjllrBd7VqaSubUGAlKfEiGtsmZVpR0jERekYY5qmcVB4jUUn9NPP71xK1bPga1uNbQnJOEmj/ZhbLrpptGH62oAxfwmGJDNWLOgxmvNVZ9jvdW/sjCby3BTn5B3t6xLLGoNrjRlJJwILeOHU/GdumvtwH7PmPF0CN5Sozwzokp2wSAs/HXqqae2pBC55U+AhKwj3HDregK2+OCR7m9qB/GoxAn04A4gy2is5JmARkh83NXTfx1IpeSZk/LR8or1wbZ054Ev/VseqyY6odByAfR/C0gNm/Vo7RrYYDowdta4pTuvpAsLJohu9EiB2nLLLfFZxlTLYLgzhC05PgdbOProo2GNeOg/FzXd8Vz0+bFe7FkZN5dkxd5ury/3FiMbvK2wZy99qi2X4IWOzIQ6tNFGG/EhK3hzfQW61cCTlAQySMp9XfX9e0aJoqSgCHoxdRSNSDYqOaf+5ZD0eju5WmGJdkpcGZy5e78aGuAo6OCXbCqFHeUVlmR+zkhawq7Lp1tQdcYZZ3Ree87CZ7m4qZpxyCKQEI6xutVUOlfRIFq6YCWZaf/UXWkCAoc8GpxbG2ywAWfE1ltvnfZBz6qlWtPJwdwTNCzaLMyhJtRbGzvttBOnlB5R7P77718PTN6L53IQW0aLcQSbqHSQ0VhvVotl1n7td9q3Rw1m2epxaDET/LRnsQ/ljFuHAHOzcLsclqIzVOzXfbmq9JhjjsGg2YPha9iuy46gvvNdlYcQvBUT71/nlNAkytx8881DiuRVTGhWSt6FbGvCE9uAIACfK55P92wWkSV/uO7Rdet+lmynZCYOKupleOiBFlQHyYU9qRv1+KnKEdedLjeELQauZBFIuszPWaTTd0K4ZwVjFkaSzpU5Iqotttgi44fNzkbGIniriheT5znKGrcCzxmx7DtSxP39m65D8FQA2MkThhWaB1IcIYFJC6ZOJs+msYaiXsZv/ey8885hFikkDbWu4VhJxlSDlQwFwl577QWzGJb6xEwQ7XLIToitYoVDDjnEhvZM36EViL8EazHWzoHF7MWs1VzaDx/0dMIL4tlLnNhcZaWbbDgRHswTQQ4/kR8VvdTJFetK8TlzXfjJDil1+KhPPPHE/MQs/Fvfwl2q0ei4NCkOeEQ2k7OUEpnkgMEL6/mLDHveR+J5y1a5DJKPpBOIa6RCXIwM0d133x3PRVR+2ofTObyxCD7BNoukNAvyNoGUn3LFA7oQfEq5YtV4wuiF61NNSCJ1KDt+YgFD79WmwtAT8S8WbGSSRONkyHB/1nOk4nlI/ndOPBV4/tTHInvWX/VqGHpAd9xxx+G8IguMIF/6bPULmQhdmcUSwUcmcx60T4x+olojG5xctZET+XkXI0gskUpfNwWdqNFz2kHMY6/4SVMo1ou1Uhg/ddG/QlaN8dCOIscSvEmsIsKBXTA4tvTSGMyoOQJlFt8UvbWzXigB1Pbbb0/kRvy2uFTqwYxF8NRgvWCyDudJI5QmkafSIHd0lmNN8Ll6jYSv+42lJpKah/zVftL8BwGF++sRnUMHLk+mReND80FTPdOMkCLQE+CxBGkKPeuverUASkCHVh9zD7p7xo9oBN6lZHlrKfEm1MitErSNKtG0hRbqCojW84gabrw0wryv69A5k1KCURHCvjA/fLIMeSwYtNQBC6jsTk3CVsl2Lk1hK/htd3K5AAAKJklEQVRLrBcPMQhaYqg676bxUtJCz/SvHD/E1Uf5aYfDGvkX1TGpDIbOFpbvO5Y6dHh4LhunLkFH/STydrDQ3oWOSWlylTZBUGPrMapTUObgW0OvVaUhqmnkqT8K0WeddVZ8lqIt0GGaeH2CWzaW+7R2GYwNRKMBL3ZiRzUqg2qxJuai8G0bJ95ngmwc36Gb06TP4EOSdPCzMZUXQhidwIpKVhtUjf54m/IkNlJdaID5GVhTy2NH4NOYBSaCekt9moLvDcKzOrObJQq8achkIOIynug8/G11p2mhc155JQQ/R4uAxhtcAgI6bAC88ZP6hseXIuanwmGHHVY/RI1Dc/WQLoaS5WUnOUlLNk52IE+DCwxFtF6kJ+EFvAPEiZ/Cqz4zR5GdTK3GdVkqfXAt0T35eXOE65Jax54f94LqwCQkuUTw4buEQMuisbbyZkviahlKtnbWJe6ls7v8P2mA30gs4XLMMuKCwrmzA1yhuvhs7CWAJ04EIj3CHH3SC8pC5yjyMIp9KWkhoq+9WAFi7/O1CKJwKaixa37noRaxyEoR7/QK+6h+iCkMldVq7rDDDjhyMjLBiiOWyrb886GGIloXMpp9luRTBE8mhfiDaCu2FiplqfTBdTg770Dsi7VfCDOyzTilGzgWZdwBh65D40s2fI5SY8m32yrhqZTewTD1aaedJo4axUMpmWqlwcMPPzx/xa8mJJu/sA/TyF/yxuPdCWobRwIkaZwfLi/GO5gzg7TJVmzsMfY8Le+7776dNpiUlYyBktJZeY1UgAgDLimcY41qLBueiZ70J3o1M75YDSURNTneSm3DJ0WiYcOzDjzkdMhoJQL4GX9SKdYAx7DnibZi6zBrR0MqxKG7xx571K+EHtj5fTIX4k2Umj4WxFaxsqhnwDvZ4Qhg5V25w6awJOE33nhjjzpt3awwOrkUyIwgBdUhLeKXQZ7QS7ymjTp+yoShQ/qy22672S7qi65NI1nNVmEO9Bu6zySeoRKQIHC4XtKa+AJpQ0A1VPpsYBj0BTTG5me4PqERx/7aL9yzMY7icJ5psbs7GoE4qFggZh3ZyKZYZr9DEU2XzG6l4No6YT7EgLfSCCe9h92XEkRDXx91d+5st6hyYp/UtAkAbqmE0HwuETwDGydO3kJLi+XUelY3GW7LBCIX9KKNWwda5G6Nge2vRP9KCZcS6i8o4WnPv57E3+5LdLwo7VIR6xaynRBHQPlUDKsw+ryWLQKiIyKlFHOJ9VF8gS1TyyKI/JmLkkWAJByStQIDlpJQxLgMnO22206nRdQXJ1zt983G/gjGMsJUILTzhO+GMMesa28rF3L0zzCUpNlTP1mUQrA5yb/h34nzqA+iJREk/jp3BjxET3Y6Ay5pvktpJkVRiRbdiGMPqjEyogaXF/dbiboLFaRpnnl5tWmBUu0JJl00LtYgFlPSLaAwFVI/3kEsrR4AOy3rQBJCTguhGjBfmZ3WwWACVmxy8YI+ylh8itKBWiqzWTCp7HlSqKONVB8PmVvGVlIGeZjwo87Mnz4jbNSRxWTA7VusWpodS6WX5qwvRwMkrZX4xdyhj/M8XfDkZVWUnS3IUv08LNV0Gg+rvSKIPO9y33pSAn55KCLroVgARsNZwHuHIzNecIehqSZh/Y1szqHTF+3LAEYlwBk5oXLssceW6CyHGYu10VrPahNgtvFK9DilcfRlz5ZNk9KNNYf0lhiwb5Gxb3nLWzobEikhyTMI+CNX6xwbr/spnwk3IrFp3TJqLA76dm35i68iRRWIC6JbZbZZHQCPG7kBaBIbpy98Dk/ZZpttRu2EPfDAA7VQcjxa5oUgoz225NICt0ARBUQmvKZ8Nwxcsm7WQiH6TApYkvMIVpp9/etf3wnVcSskuW3i7Zxxj0N6n34RCVvMpBRKEIsaEEJ4aBi7r09uYNapX3y0ekGlOD7mnuhvCn+NIG5hFsWqz3gsFSHY2hazZOmVQ3dSWW8Ghobr/O5R88plLyURYLDaAQccYIOTOiUtxTB4+Bo1e1brA972Ogl/Atdk+ztiOBfw/pfgbXLwhxTFnkMEeuu7JU/YipcOgRox+EERl8wqEkO/yuCOCIzN+iiumnpUhDn/LZy1JB7oHZLoEQ1mNHR2UR2lcHXOPTs0mS1yB7NhfvAVIaXCOk0chzrqqKM6W17LFcAQzIkIQXt6E5W4j2+s/4xgmdI+1F1KwgMmTaoFj+Gq8qb69Jgwvv02LZWtRu6AsvGeKzpcvlF6VuszqtnVwZhq4PyX4HWJN3OHTBeXy5mJhBzSUoRmsBHjbPdYIkj8gmnQZwDRbsrRFC2vRLkViG7hdNR4VkaRIQJaY+3Y6zPgc1kdrFNiz1DzRC52exhCAJjaNVQwDEJJR5QRukDnIfDxbEfjo4lQ6IbCvGe1VcQX/Qt8yjbqcxB8XOuTuf5nNCW2nJhN4xYuTghaZYthbIMBrayYjkPHxgInGaImiT4ACp9Q5ywSKagPkx76ivg2EeEvftAW7bGzu3WngiQ/Vp495A1JjpJbjDIaB9yhxhb5TwvjKs4u3XiO+4Rpo1nEYuK3GiU5elZbLTzSwYlMG/LKAM5B8GQ7Hbi+KWG1Blr3K4sY+6/Jm+esYfLV9QlhDtjGxuzGRNB5Mg0p8zw9/Y3haI8N030QStksJFTBMVE8l2sBmGt5DFDM+dqgRt7BQYdZmQX3cOc+4lhYNHlSzp4uDfbZK5Hsfbt6ma4tEfue1VYL7FKhycvaXj4HwRuWbU804bHORViByTTOdZEFMGo3pcFQtvucBBIvt8Cm3KzBNKGhk8Iv+Q5IIWohIOIpxUvUiBHYb6dxzYpWrgB8zk1d1H4Z3+V3tMyu5aTD8hbZzr1KZhBm3Dp99sznXWqa7XdOIpHbV1qztBqeo6HV1gJG5JLxzzdouUnwBsrNBi5DtyuuhWlMawyEPPFOWWjXBXSnJsEu0ibOxF/FA4eY6ZlCQULTKjiFwpKqz1ojQ6hSWCd7floDXrQzMQRgwaoWZ+kjCUovSeuorxVl+cvs4jCX5d1SbeJxTvHF7CuVN91ocwjBq8FTQpQNRranOKA5agr18iFTBHJCHptQOJBFgF9kFtk1zFFX64rcioPbe+do1ouhogKSr/bswG8SfuqTGgarrTroiCh66NAbkIcTvBE788CZCqs+9DUyAOlZdYyX+tPQgCQsSRorAQ5qpE27ayfesUbAOF/DYPQ1jpc1fqacNPA6w2dotdWdqUzzUTlIIwneiHtur1/dua2F3lmSLL2SXSOvm+Oz01JYCyNfjGEUBGT+1c7tUk1Mnku4KL+jqq0uYFtiFusZ2dl5T4uyDAjwjogqEekSGWQWCt3Z2Ff2/y+j4cWrKw0BBGzDOX5NO5PiNrgVxw5O2jLXT3u1lR537/7m46qp3tNZnYqInLef305MGAMVRFhQ++pgYtm92nwpkVaOHct86MY7MX9pvJ3Vlj2QWTXwv2jwKeNKx4NrAAAAAElFTkSuQmCC\"></div>"
      ],
      "text/plain": [
       "FormBox[TagBox[RowBox[{\"(\", \"⁠\", \n",
       "\n",
       " \n",
       ">         TagBox[GridBox[{{RowBox[{RowBox[{OverscriptBox[\"r\", \"^\"], \" \", \n",
       "\n",
       " \n",
       ">                 RowBox[{\"sin\", \"(\", \"ϕ\", \")\"}], \" \", \n",
       "\n",
       " \n",
       ">                 TemplateBox[List[SubscriptBox[OverscriptBox[\"f\", \"^\"], \n",
       "\n",
       " \n",
       ">                    RowBox[List[\"x\", \",\", \"y\"]]], \"\\\"(5)\\\"\"], \"Superscript\", \n",
       "\n",
       " \n",
       ">                  Rule[SyntaxForm, SuperscriptBox]]}], \"+\", \n",
       "\n",
       " \n",
       ">               RowBox[{OverscriptBox[\"r\", \"^\"], \" \", RowBox[{\"cos\", \"(\", \"ϕ\", \")\"}], \n",
       "\n",
       " \n",
       ">                 \" \", TemplateBox[List[SubscriptBox[OverscriptBox[\"f\", \"^\"], \n",
       "\n",
       " \n",
       ">                    RowBox[List[\"x\", \",\", \"x\"]]], \"\\\"(5)\\\"\"], \"Superscript\", \n",
       "\n",
       " \n",
       ">                  Rule[SyntaxForm, SuperscriptBox]]}]}]}, \n",
       "\n",
       " \n",
       ">            {RowBox[{RowBox[{OverscriptBox[\"r\", \"^\"], \" \", \n",
       "\n",
       " \n",
       ">                 RowBox[{\"cos\", \"(\", \"ϕ\", \")\"}], \" \", \n",
       "\n",
       " \n",
       ">                 TemplateBox[List[SubscriptBox[OverscriptBox[\"f\", \"^\"], \n",
       "\n",
       " \n",
       ">                    RowBox[List[\"x\", \",\", \"y\"]]], \"\\\"(5)\\\"\"], \"Superscript\", \n",
       "\n",
       " \n",
       ">                  Rule[SyntaxForm, SuperscriptBox]]}], \"+\", \n",
       "\n",
       " \n",
       ">               RowBox[{OverscriptBox[\"r\", \"^\"], \" \", RowBox[{\"sin\", \"(\", \"ϕ\", \")\"}], \n",
       "\n",
       " \n",
       ">                 \" \", TemplateBox[List[SubscriptBox[OverscriptBox[\"f\", \"^\"], \n",
       "\n",
       " \n",
       ">                    RowBox[List[\"y\", \",\", \"y\"]]], \"\\\"(5)\\\"\"], \"Superscript\", \n",
       "\n",
       " \n",
       ">                  Rule[SyntaxForm, SuperscriptBox]]}]}]}}, Rule[RowSpacings, 1], \n",
       "\n",
       " \n",
       ">           Rule[ColumnAlignments, Center], Rule[ColumnAlignments, Left]], Column], \"⁠\",\\\n",
       " \n",
       ">    \n",
       "      \")\"}], Function[BoxForm`e$, MatrixForm[BoxForm`e$]]], TraditionalForm]\n"
      ]
     },
     "execution_count": 1620,
     "metadata": {
      "text/html": [],
      "text/plain": []
     },
     "output_type": "execute_result"
    }
   ],
   "source": [
    "fh5rh = EinsteinSummation[{{k, i}, {i}}, {fh5, rh}];\n",
    "fh5rh // MatrixForm // TraditionalForm"
   ]
  },
  {
   "cell_type": "markdown",
   "metadata": {},
   "source": [
    "Система движения в безразмерной записи будет выглядеть как"
   ]
  },
  {
   "cell_type": "markdown",
   "metadata": {},
   "source": [
    "$$\n",
    "\\frac{d^2\\hat{r}_k}{d\\hat{t}^2} = -\\frac{t_0^2}{b^3}\\frac{GM}{\\hat{r}^3}\\hat{r}_k - \\frac{2}{5}\\frac{b^2}{t_0^3}\\frac{G}{c^5}\\mu\\hat{f}_{ki}^{(5)}\\hat{r}_i\n",
    "$$"
   ]
  },
  {
   "cell_type": "markdown",
   "metadata": {},
   "source": [
    "Пусть $t_0 = \\sqrt{\\frac{b^3}{GM}}$, а $b$ - прицельное расстояние, тогда система движения перепишется как\n",
    "\n",
    "$$\n",
    "\\frac{d^2\\hat{r}_k}{d\\hat{t}^2} + \\frac{\\hat{r}_k}{\\hat{r}^3} = - \\epsilon_G\\hat{f}_{ki}^{(5)}\\hat{r}_i\\quad,\n",
    "$$\n",
    "или\n",
    "$$\n",
    "\\hat{r}_k^{(2)} + \\frac{\\hat{r}_k}{\\hat{r}^3} = - \\epsilon_G\\hat{f}_{ki}^{(5)}\\hat{r}_i\\quad,\n",
    "$$\n",
    "\n",
    "где безразмерная постоянная $\\epsilon_G = \\frac{2}{5}\\frac{b^2}{t_0^3}\\frac{G}{c^5}\\mu = \\frac{2}{5}\\frac{\\mu}{M} \\left( \\frac{GM}{bc^2} \\right)^{\\frac{5}{2}}$.\n",
    "\n",
    "Заметим, что $f_{ij}^{(5)} = \\frac{5}{2}\\frac{\\epsilon_G}{t_0^2}\\hat{f}_{ij}^{(5)}$"
   ]
  },
  {
   "cell_type": "markdown",
   "metadata": {},
   "source": [
    "## Переход к полярным координатам от декартовых\n",
    "Повернём систему с помощью матрицы вращения $R_{ij}(\\phi)$ на угол $\\phi$ по **часовой** стрелке"
   ]
  },
  {
   "cell_type": "code",
   "execution_count": 1621,
   "metadata": {
    "vscode": {
     "languageId": "wolfram"
    }
   },
   "outputs": [
    {
     "data": {
      "text/html": [
       "<div><img alt=\"Output\" src=\"data:image/png;base64,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\"></div>"
      ],
      "text/plain": [
       "FormBox[TagBox[RowBox[{\"(\", \"⁠\", \n",
       "\n",
       " \n",
       ">         GridBox[{{RowBox[{\"cos\", \"(\", \"ϕ\", \")\"}], RowBox[{\"sin\", \"(\", \"ϕ\", \")\"}]}, \n",
       "\n",
       " \n",
       ">           {RowBox[{\"-\", RowBox[{\"sin\", \"(\", \"ϕ\", \")\"}]}], \n",
       "\n",
       " \n",
       ">            RowBox[{\"cos\", \"(\", \"ϕ\", \")\"}]}}, Rule[RowSpacings, 1], \n",
       "\n",
       " \n",
       ">          Rule[ColumnSpacings, 1], Rule[RowAlignments, Baseline], \n",
       "\n",
       " \n",
       ">          Rule[ColumnAlignments, Center]], \"⁠\", \")\"}], \n",
       "\n",
       " \n",
       ">       Function[BoxForm`e$, MatrixForm[BoxForm`e$]]], TraditionalForm]\n"
      ]
     },
     "execution_count": 1621,
     "metadata": {
      "text/html": [],
      "text/plain": []
     },
     "output_type": "execute_result"
    }
   ],
   "source": [
    "RotationMatrix[-\\[Phi]] // MatrixForm // TraditionalForm"
   ]
  },
  {
   "cell_type": "markdown",
   "metadata": {},
   "source": [
    "#### LHS системы после поворота"
   ]
  },
  {
   "cell_type": "code",
   "execution_count": 1623,
   "metadata": {
    "vscode": {
     "languageId": "wolfram"
    }
   },
   "outputs": [
    {
     "data": {
      "text/html": [
       "<div><img alt=\"Output\" src=\"data:image/png;base64,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\"></div>"
      ],
      "text/plain": [
       "FormBox[TagBox[RowBox[{\"(\", \"⁠\", \n",
       "      TagBox[GridBox[{{RowBox[{RowBox[{\"-\", \n",
       "\n",
       " \n",
       ">                 RowBox[{\"2\", \" \", SuperscriptBox[OverscriptBox[\"r\", \"^\"], \"′\"], \n",
       "\n",
       " \n",
       ">                   \" \", SuperscriptBox[\"ϕ\", \"′\"], \" \", \n",
       "\n",
       " \n",
       ">                   RowBox[{\"sin\", \"(\", \"ϕ\", \")\"}]}]}], \"+\", \n",
       "\n",
       " \n",
       ">               RowBox[{OverscriptBox[\"r\", \"^\"], \" \", \n",
       "\n",
       " \n",
       ">                 RowBox[{\"(\", RowBox[{RowBox[{SuperscriptBox[RowBox[\n",
       "\n",
       " \n",
       ">                         {\"(\", SuperscriptBox[\"ϕ\", \"′\"], \")\"}], \"2\"], \" \", \n",
       "\n",
       " \n",
       ">                       RowBox[{\"(\", \n",
       "\n",
       " \n",
       ">                         RowBox[{\"-\", RowBox[{\"cos\", \"(\", \"ϕ\", \")\"}]}], \")\"}]}], \n",
       "\n",
       " \n",
       ">                     \"-\", RowBox[{SuperscriptBox[\"ϕ\", \"′′\"], \" \", \n",
       "\n",
       " \n",
       ">                       RowBox[{\"sin\", \"(\", \"ϕ\", \")\"}]}]}], \")\"}]}], \"+\", \n",
       "\n",
       " \n",
       ">               RowBox[{SuperscriptBox[OverscriptBox[\"r\", \"^\"], \"′′\"], \" \", \n",
       "\n",
       " \n",
       ">                 RowBox[{\"cos\", \"(\", \"ϕ\", \")\"}]}], \"+\", \n",
       "\n",
       " \n",
       ">               FractionBox[RowBox[{\"cos\", \"(\", \"ϕ\", \")\"}], \n",
       "\n",
       " \n",
       ">                SuperscriptBox[OverscriptBox[\"r\", \"^\"], \"2\"]]}]}, \n",
       "\n",
       " \n",
       ">            {RowBox[{RowBox[{\"2\", \" \", SuperscriptBox[OverscriptBox[\"r\", \"^\"], \"′\"], \n",
       "\n",
       " \n",
       ">                 \" \", SuperscriptBox[\"ϕ\", \"′\"], \" \", RowBox[{\"cos\", \"(\", \"ϕ\",\\\n",
       " \n",
       ">    \")\"}]}]\\\n",
       ", \"+\", RowBox[{OverscriptBox[\"r\", \"^\"], \" \", \n",
       "\n",
       " \n",
       ">                 RowBox[{\"(\", RowBox[{RowBox[{SuperscriptBox[\"ϕ\", \"′′\"], \" \", \n",
       "\n",
       " \n",
       ">                       RowBox[{\"cos\", \"(\", \"ϕ\", \")\"}]}], \"-\", \n",
       "\n",
       " \n",
       ">                     RowBox[{SuperscriptBox[RowBox[{\"(\", \n",
       "\n",
       " \n",
       ">                          SuperscriptBox[\"ϕ\", \"′\"], \")\"}], \"2\"], \" \", \n",
       "\n",
       " \n",
       ">                       RowBox[{\"sin\", \"(\", \"ϕ\", \")\"}]}]}], \")\"}]}], \"+\", \n",
       "\n",
       " \n",
       ">               RowBox[{SuperscriptBox[OverscriptBox[\"r\", \"^\"], \"′′\"], \" \", \n",
       "\n",
       " \n",
       ">                 RowBox[{\"sin\", \"(\", \"ϕ\", \")\"}]}], \"+\", \n",
       "\n",
       " \n",
       ">               FractionBox[RowBox[{\"sin\", \"(\", \"ϕ\", \")\"}], \n",
       "\n",
       " \n",
       ">                SuperscriptBox[OverscriptBox[\"r\", \"^\"], \"2\"]]}]}}, \n",
       "\n",
       " \n",
       ">           Rule[RowSpacings, 1], Rule[ColumnAlignments, Center], \n",
       "\n",
       " \n",
       ">           Rule[ColumnAlignments, Left]], Column], \"⁠\", \")\"}], \n",
       "\n",
       " \n",
       ">       Function[BoxForm`e$, MatrixForm[BoxForm`e$]]], TraditionalForm]\n"
      ]
     },
     "execution_count": 1623,
     "metadata": {
      "text/html": [],
      "text/plain": []
     },
     "output_type": "execute_result"
    }
   ],
   "source": [
    "LHSMotion = D[rh, {OverHat[t], 2}] + Simplify[rh / Norm[rh]^3];\n",
    "LHSMotion // MatrixForm // TraditionalForm"
   ]
  },
  {
   "cell_type": "code",
   "execution_count": 1624,
   "metadata": {
    "vscode": {
     "languageId": "wolfram"
    }
   },
   "outputs": [
    {
     "data": {
      "text/html": [
       "<div><img alt=\"Output\" src=\"data:image/png;base64,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\"></div>"
      ],
      "text/plain": [
       "FormBox[TagBox[RowBox[{\"(\", \"⁠\", \n",
       "      TagBox[GridBox[{{RowBox[{RowBox[{\"-\", \n",
       "\n",
       " \n",
       ">                 RowBox[{RowBox[{OverscriptBox[\"r\", \"^\"]}], \" \", \n",
       "\n",
       " \n",
       ">                   SuperscriptBox[RowBox[{\"(\", SuperscriptBox[\"ϕ\", \"′\"], \")\"}], \n",
       "\n",
       " \n",
       ">                    \"2\"]}]}], \"+\", SuperscriptBox[OverscriptBox[\"r\", \"^\"], \"′′\"], \n",
       "\n",
       " \n",
       ">               \"+\", FractionBox[\"1\", SuperscriptBox[OverscriptBox[\"r\", \"^\"],\\\n",
       " \n",
       ">    \"2\"]]}]}\\\n",
       ", {RowBox[{RowBox[{OverscriptBox[\"r\", \"^\"], \" \", SuperscriptBox[\"ϕ\",\\\n",
       " \n",
       ">    \"′′\"]}], \"+\", \n",
       "            RowBox[{\"2\", \" \", SuperscriptBox[OverscriptBox[\"r\",\\\n",
       " \n",
       ">    \"^\"], \"′\"], \" \", \n",
       "              SuperscriptBox[\"ϕ\", \"′\"]}]}]}}, Rule[RowSpacings,\\\n",
       " \n",
       ">    1], \n",
       "        Rule[ColumnAlignments, Center], Rule[ColumnAlignments, Left]],\\\n",
       " \n",
       ">    Column], \"⁠\", \n",
       "      \")\"}], Function[BoxForm`e$, MatrixForm[BoxForm`e$]]],\\\n",
       " \n",
       ">    TraditionalForm]\n"
      ]
     },
     "execution_count": 1624,
     "metadata": {
      "text/html": [],
      "text/plain": []
     },
     "output_type": "execute_result"
    }
   ],
   "source": [
    "RotatedLHSMotion = Simplify[RotationMatrix[-\\[Phi][OverHat[t]]] . LHSMotion, Trig -> True] // MatrixForm // TraditionalForm"
   ]
  },
  {
   "cell_type": "markdown",
   "metadata": {},
   "source": [
    "Так как $\\hat{\\omega} \\equiv \\phi^{(1)}$, то"
   ]
  },
  {
   "cell_type": "code",
   "execution_count": 1626,
   "metadata": {
    "vscode": {
     "languageId": "wolfram"
    }
   },
   "outputs": [
    {
     "data": {
      "text/html": [
       "<div><img alt=\"Output\" src=\"data:image/png;base64,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\"></div>"
      ],
      "text/plain": [
       "FormBox[TagBox[RowBox[{\"(\", \"⁠\", \n",
       "\n",
       " \n",
       ">         TagBox[GridBox[{{RowBox[{RowBox[{RowBox[{\"-\", OverscriptBox[\"r\", \"^\"]}], \n",
       "\n",
       " \n",
       ">                 \" \", SuperscriptBox[OverscriptBox[\"ω\", \"^\"], \"2\"]}], \"+\", \n",
       "\n",
       " \n",
       ">               SuperscriptBox[OverscriptBox[\"r\", \"^\"], \"′′\"], \"+\", \n",
       "\n",
       " \n",
       ">               FractionBox[\"1\", SuperscriptBox[OverscriptBox[\"r\", \"^\"], \"2\"]]}]}, \n",
       "\n",
       " \n",
       ">            {RowBox[{RowBox[{\"2\", \" \", OverscriptBox[\"ω\", \"^\"], \" \", \n",
       "\n",
       " \n",
       ">                 SuperscriptBox[OverscriptBox[\"r\", \"^\"], \"′\"]}], \"+\", \n",
       "\n",
       " \n",
       ">               RowBox[{OverscriptBox[\"r\", \"^\"], \" \", \n",
       "\n",
       " \n",
       ">                 SuperscriptBox[OverscriptBox[\"ω\", \"^\"], \"′\"]}]}]}}, \n",
       "\n",
       " \n",
       ">           Rule[RowSpacings, 1], Rule[ColumnAlignments, Center], \n",
       "\n",
       " \n",
       ">           Rule[ColumnAlignments, Left]], Column], \"⁠\", \")\"}], \n",
       "\n",
       " \n",
       ">       Function[BoxForm`e$, MatrixForm[BoxForm`e$]]], TraditionalForm]\n"
      ]
     },
     "execution_count": 1626,
     "metadata": {
      "text/html": [],
      "text/plain": []
     },
     "output_type": "execute_result"
    }
   ],
   "source": [
    "OmegaReplace = Derivative[n_][\\[Phi]][OverHat[t]] :> Derivative[n-1][OverHat[\\[Omega]]][OverHat[t]];\n",
    "\n",
    "OmegaLHSMotion = RotatedLHSMotion /. OmegaReplace // TraditionalForm"
   ]
  },
  {
   "cell_type": "markdown",
   "metadata": {},
   "source": [
    "### RHS системы после поворота"
   ]
  },
  {
   "cell_type": "code",
   "execution_count": 1628,
   "metadata": {
    "vscode": {
     "languageId": "wolfram"
    }
   },
   "outputs": [
    {
     "data": {
      "text/html": [
       "<div><img alt=\"Output\" src=\"data:image/png;base64,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\"></div>"
      ],
      "text/plain": [
       "FormBox[TagBox[RowBox[{\"(\", \"⁠\", \n",
       "\n",
       " \n",
       ">         TagBox[GridBox[{{RowBox[{OverscriptBox[\"r\", \"^\"], \" \", \n",
       "\n",
       " \n",
       ">               RowBox[{\"(\", RowBox[{\"-\", SubscriptBox[\"ϵ\", \"G\"]}], \")\"}], \" \", \n",
       "\n",
       " \n",
       ">               RowBox[{\"(\", RowBox[{RowBox[{RowBox[{\"sin\", \"(\", \n",
       "\n",
       " \n",
       ">                       RowBox[{\"2\", \" \", \"ϕ\"}], \")\"}], \" \", \n",
       "\n",
       " \n",
       ">                     TemplateBox[List[SubscriptBox[OverscriptBox[\"f\", \"^\"], \n",
       "\n",
       " \n",
       ">                        RowBox[List[\"x\", \",\", \"y\"]]], \"\\\"(5)\\\"\"], \"Superscript\", \n",
       "\n",
       " \n",
       ">                      Rule[SyntaxForm, SuperscriptBox]]}], \"+\", \n",
       "\n",
       " \n",
       ">                   RowBox[{RowBox[{SuperscriptBox[\"cos\", \"2\"], \"(\", \"ϕ\", \")\"}], \n",
       "\n",
       " \n",
       ">                     \" \", TemplateBox[List[SubscriptBox[OverscriptBox[\"f\", \"^\"], \n",
       "\n",
       " \n",
       ">                        RowBox[List[\"x\", \",\", \"x\"]]], \"\\\"(5)\\\"\"], \"Superscript\", \n",
       "\n",
       " \n",
       ">                      Rule[SyntaxForm, SuperscriptBox]]}], \"+\", \n",
       "\n",
       " \n",
       ">                   RowBox[{RowBox[{SuperscriptBox[\"sin\", \"2\"], \"(\", \"ϕ\", \")\"}], \n",
       "\n",
       " \n",
       ">                     \" \", TemplateBox[List[SubscriptBox[OverscriptBox[\"f\", \"^\"], \n",
       "\n",
       " \n",
       ">                        RowBox[List[\"y\", \",\", \"y\"]]], \"\\\"(5)\\\"\"], \"Superscript\", \n",
       "\n",
       " \n",
       ">                      Rule[SyntaxForm, SuperscriptBox]]}]}], \")\"}]}]}, \n",
       "\n",
       " \n",
       ">            {RowBox[{RowBox[{\"-\", FractionBox[\"1\", \"2\"]}], \" \", \n",
       "\n",
       " \n",
       ">               OverscriptBox[\"r\", \"^\"], \" \", SubscriptBox[\"ϵ\", \"G\"], \" \", \n",
       "\n",
       " \n",
       ">               RowBox[{\"(\", RowBox[{RowBox[{RowBox[{\"sin\", \"(\", \n",
       "\n",
       " \n",
       ">                       RowBox[{\"2\", \" \", \"ϕ\"}], \")\"}], \" \", \n",
       "\n",
       " \n",
       ">                     RowBox[{\"(\", RowBox[{TemplateBox[List[SubscriptBox[\n",
       "\n",
       " \n",
       ">                            OverscriptBox[\"f\", \"^\"], \n",
       "\n",
       " \n",
       ">                            RowBox[List[\"y\", \",\", \"y\"]]], \"\\\"(5)\\\"\"], \n",
       "\n",
       " \n",
       ">                          \"Superscript\", Rule[SyntaxForm, SuperscriptBox]], \"-\", \n",
       "\n",
       " \n",
       ">                         TemplateBox[List[SubscriptBox[OverscriptBox[\"f\", \"^\"], \n",
       "\n",
       " \n",
       ">                            RowBox[List[\"x\", \",\", \"x\"]]], \"\\\"(5)\\\"\"], \n",
       "\n",
       " \n",
       ">                          \"Superscript\", Rule[SyntaxForm, SuperscriptBox]]}], \")\"}]}\\\n",
       "\n",
       " \n",
       ">   ], \"+\", RowBox[{\"2\", \" \", RowBox[{\"cos\", \"(\", RowBox[{\"2\", \" \", \"ϕ\"}], \")\"}], \n",
       "\n",
       " \n",
       ">                     \" \", TemplateBox[List[SubscriptBox[OverscriptBox[\"f\", \"^\"], \n",
       "\n",
       " \n",
       ">                        RowBox[List[\"x\", \",\", \"y\"]]], \"\\\"(5)\\\"\"], \"Superscript\", \n",
       "\n",
       " \n",
       ">                      Rule[SyntaxForm, SuperscriptBox]]}]}], \")\"}]}]}}, \n",
       "\n",
       " \n",
       ">           Rule[RowSpacings, 1], Rule[ColumnAlignments, Center], \n",
       "\n",
       " \n",
       ">           Rule[ColumnAlignments, Left]], Column], \"⁠\", \")\"}], \n",
       "\n",
       " \n",
       ">       Function[BoxForm`e$, MatrixForm[BoxForm`e$]]], TraditionalForm]\n"
      ]
     },
     "execution_count": 1628,
     "metadata": {
      "text/html": [],
      "text/plain": []
     },
     "output_type": "execute_result"
    }
   ],
   "source": [
    "RHSMotion = -Subscript[\\[Epsilon], G] FullSimplify[RotationMatrix[-\\[Phi][OverHat[t]]] . fh5rh, Trig -> True];\n",
    "RHSMotion // MatrixForm // TraditionalForm"
   ]
  },
  {
   "cell_type": "markdown",
   "metadata": {},
   "source": [
    "<span style=\"color:brown\">**NB:**</span> Полученные выражения <span style=\"color:green\">**совпадают**</span> с уравнениями (10) и (9) из файла Binary.pdf"
   ]
  },
  {
   "cell_type": "markdown",
   "metadata": {
    "vscode": {
     "languageId": "wolfram"
    }
   },
   "source": [
    "## Получим теперь **энергетическую** систему уравнений\n",
    "\n",
    "В задача двух тел без учёта гравитационного излучения в системе центра масс в полярных координатах радиус-вектор $\\hat{r}_k$ задаётся как:\n",
    "$$\n",
    "\\hat{r}_k = \\hat{r} e_{1k} \\quad,\n",
    "$$\n",
    "где:\n",
    "- $\\hat{r}$ — расстояние между телами,\n",
    "- $e_{1k}$ — единичный вектор в направлении $\\hat{r}_k$.\n",
    "\n",
    "Скорость в полярных координатах выражается как:\n",
    "$$\n",
    "\\hat{r}_k^{(1)} = \\hat{r}^{(1)} e_{1k} + \\hat{r} \\phi^{(1)} e_{2k} \\quad,\n",
    "$$\n",
    "где:\n",
    "- $\\hat{r}^{(1)}$ — радиальная скорость\n",
    "- $\\hat{\\omega} \\equiv \\phi^{(1)}$ — угловая скорость\n",
    "- $e_{2k}$ — единичный вектор, перпендикулярный $e_{1k}$.\n",
    "\n",
    "### **Кинетическая энергия**\n",
    "Кинетическая энергия $T$ в полярных координатах выражается через радиальную и тангенциальную составляющие скорости:\n",
    "$$\n",
    "T = \\mu\\frac{b^2}{2 t_0^2} (\\hat{r}_k^{(1)})^2 = \\mu\\frac{b^2}{2 t_0^2} \\left( (\\hat{r}^{(1)})^2 + \\hat{r}^2 \\hat{\\omega}^2 \\right) = \\frac{G \\mu M}{b} \\frac{1}{2}\\left( (\\hat{r}^{(1)})^2 + \\hat{r}^2 \\hat{\\omega}^2 \\right)\n",
    "$$\n",
    "\n",
    "### **Потенциальная энергия**\n",
    "Потенциальная энергия $U$ зависит только от расстояния $\\hat{r}$:\n",
    "- Для гравитационного взаимодействия:\n",
    "  $$\n",
    "  U = -\\frac{G m_A m_B}{b \\hat{r}} = -\\frac{G \\mu M}{b \\hat{r}}.\n",
    "  $$\n",
    "\n",
    "### **Полная энергия**\n",
    "Полная энергия $E$ в полярных координатах:\n",
    "$$\n",
    "E = T + U = \\frac{G \\mu M}{b}\\left(\\frac{(\\hat{r}^{(1)})^2}{2} + \\frac{\\hat{r}^2 \\hat{\\omega}^2}{2} - \\frac{1}{\\hat{r}}\\right) = \\frac{G \\mu M}{b} \\hat{E}\n",
    "$$\n",
    "\n",
    "Здесь $\\hat{E}$ - безразмерная энергия:"
   ]
  },
  {
   "cell_type": "code",
   "execution_count": 1630,
   "metadata": {
    "vscode": {
     "languageId": "wolfram"
    }
   },
   "outputs": [
    {
     "data": {
      "text/html": [
       "<div><img alt=\"Output\" src=\"data:image/png;base64,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\"></div>"
      ],
      "text/plain": [
       "FormBox[RowBox[{RowBox[{FractionBox[\"1\", \"2\"], \" \", \n",
       "\n",
       " \n",
       ">          SuperscriptBox[OverscriptBox[\"r\", \"^\"], \"2\"], \" \", \n",
       "\n",
       " \n",
       ">          SuperscriptBox[OverscriptBox[\"ω\", \"^\"], \"2\"]}], \"+\", \n",
       "\n",
       " \n",
       ">        RowBox[{FractionBox[\"1\", \"2\"], \" \", \n",
       "\n",
       " \n",
       ">          SuperscriptBox[RowBox[{\"(\", SuperscriptBox[OverscriptBox[\"r\", \"^\"], \"′\"], \n",
       "\n",
       " \n",
       ">             \")\"}], \"2\"]}], \"-\", FractionBox[\"1\", OverscriptBox[\"r\", \"^\"]]}], \n",
       "\n",
       " \n",
       ">      TraditionalForm]\n"
      ]
     },
     "execution_count": 1630,
     "metadata": {
      "text/html": [],
      "text/plain": []
     },
     "output_type": "execute_result"
    }
   ],
   "source": [
    "Energy = (D[OverHat[r][OverHat[t]], OverHat[t]])^2/2 + (OverHat[r][OverHat[t]] OverHat[\\[Omega]][OverHat[t]])^2/2 - 1/OverHat[r][OverHat[t]];\n",
    "Energy // TraditionalForm"
   ]
  },
  {
   "cell_type": "markdown",
   "metadata": {},
   "source": [
    "### **Момента импульса**\n",
    "Момент импульса $J$ в системе центра масс:\n",
    "$$\n",
    "J = \\mu\\frac{b^2}{t_0} \\hat{r}^2 \\hat{\\omega} = \\mu(G M b)^{1/2} \\hat{r}^2 \\hat{\\omega} = \\mu(G M b)^{1/2} \\hat{J}\n",
    "$$\n",
    "\n",
    "Здесь $\\hat{J}$ - безразмерный момент импульса:"
   ]
  },
  {
   "cell_type": "code",
   "execution_count": 1632,
   "metadata": {
    "vscode": {
     "languageId": "wolfram"
    }
   },
   "outputs": [
    {
     "data": {
      "text/html": [
       "<div><img alt=\"Output\" src=\"data:image/png;base64,iVBORw0KGgoAAAANSUhEUgAAACsAAAAeCAIAAAA6iHCJAAAAznpUWHRSYXcgcHJvZmlsZSB0eXBlIGV4aWYAAHjabU/bDQMhDPtnio6QBzgwDtfjpG7Q8RsebUVVS8TGeUBCez6ucOsQphCTZRSAHLHEItVFponJTGXEATlWjnc/cFt+dSt9E3j7x+4b1sD8M4hkCu0vuNa4GtYglelznfdj1UvNeR+ktKHQ5+t/71FNkMAWPUYhMxTXObh0QhJKhgt3wAsZp1C8OzeYeRusV2jtjR3SbK9uAerG2VfQfpJWZ/XI6lsNr2v2KJrlWNmxSHgBkuxa3sZNnoIAAAAJcEhZcwAAFiUAABYlAUlSJPAAAAA8dEVYdFNvZnR3YXJlAENyZWF0ZWQgd2l0aCB0aGUgV29sZnJhbSBMYW5ndWFnZSA6IHd3dy53b2xmcmFtLmNvbVyipoUAAAAhdEVYdENyZWF0aW9uIFRpbWUAMjAyNTowMzoxMyAwMjoxMToyOKabStIAAAPhSURBVEhL7VZbKLNhHN/mkJxiDlFICyW1JKeMGy4kJeHCBcppOd3IIS1cuCTlbjmVWnMoV0QYokZJiNYu5FC4cs6cGd/v7VnP9m1tz95v35eb762t9/0//+f3//2PzyP8/v4WsJ6jo6OxsbGLi4u4uLiamprQ0FDWDj7rYOD4mZmZ8fDwcHNzI6hBQUGHh4esTTzWBY51DQZDWFjY5OTkx8fH+vp6SkoKSBQVFfGwwFJlMFCr1d3d3RRkdnYWDKKioliwPNYZDPR6PcJA8d7f35GRxMREHhZYqiJaM9B8eXlBtC2rKD4+3tfXl0qurq6gkJOTw6fSOCdtkc0IlGJbWxukwcHBqHl7vHt6egIDA8GD5dhv646RTVmYm5sTCoWEV1ZW1ufnp62N09NTmF9ZWeFlnonMMTg/P0ePRUdHHxwcNDc3g4RCobAyg2qQSqWjo6O8zDuDLIC7mZmZGRkZl5eXBF2pVHp6ei4uLlJj0CkoKOjt7eVl3hlkAApQWQjs6+urJbpOp6Nj5+vrq6qqqrOzkyo8PT21tLQw2TCRCYIQPyR4a2trZ2dnd3dXJpOh3JaWlgYGBsRi8dDQUFdXF94rKipIoYArNGtra1tbWx13BFoX7L28vKzUYBE+mFsM3/39/YWFhUQPoZ6YmHB3dyefTU1NtmaQI5oye5HQaDQYpiMjI7YKZ2dnGCrb29tkydQLd3d3xNL09HRISEhfX5+Pjw9eHHSmgywsLCzAh8rKSns6qampCQkJRqPRzGBtbQ3mAwICsrOzh4eHsfD4+Pj29sZMtq0CGsrPzw/n5+3trb3t5eXlMAdNKJhm4urqKkT39/cPDw/V1dV4RwwQbV6zD8pAlMvlaN2Ojg4MD7IdLuEoQXNRNLiK942NDU5CaKalpZFlHIB/4DfdMj4+DhBvb2+klQpLSkqQ+OvraypBb0Otrq7OlAWESyTigpGfn++KeexFEoFTXFxsiRMTE5OXl2cpkUgkUCOnLmd4eXkZbUNI8Q27lf7+/j4ksbGxVI6uOT4+Tk9PpxK0ycnJCT7JbYNjgO7Hf3h4OJi6wgBldHNzAwTLa9zg4CAcTU5OpshoeLzjwmc6Y7EcGRkJEU4EF1OA7egCQGF8ESiUJByDZG9vj0gw3zi/RaLNzU0iEeAOQthptVrXGTQ0NJBKbG9vx/0Kca6vr8eRlpubq1KpysrKsAqWU1NT1JYAUSJxI/PBxQfjtrGx0d/fH5i4amByPz8/z8/PJyUlYahHRESUlpZaXXS5c8GV3Nvbi4FmebmCGqggNrb6/4qB816Z74nO7/m7mv8ZkIn0s8/PM/gFBvWQ64byJCoAAAAASUVORK5CYII=\"></div>"
      ],
      "text/plain": [
       "FormBox[RowBox[{SuperscriptBox[OverscriptBox[\"r\", \"^\"], \"2\"], \" \", \n",
       "\n",
       " \n",
       ">        OverscriptBox[\"ω\", \"^\"]}], TraditionalForm]\n"
      ]
     },
     "execution_count": 1632,
     "metadata": {
      "text/html": [],
      "text/plain": []
     },
     "output_type": "execute_result"
    }
   ],
   "source": [
    "AngularMomentum = (OverHat[r][OverHat[t]])^2 OverHat[\\[Omega]][OverHat[t]];\n",
    "AngularMomentum // TraditionalForm"
   ]
  },
  {
   "cell_type": "markdown",
   "metadata": {},
   "source": [
    "Отсюда $\\frac{1}{\\hat{r}^{(1)}}\\left(\\frac{d\\hat{E}}{d\\hat{t}} - \\hat{\\omega} \\frac{d\\hat{J}}{d\\hat{t}}\\right)$"
   ]
  },
  {
   "cell_type": "code",
   "execution_count": 1633,
   "metadata": {
    "vscode": {
     "languageId": "wolfram"
    }
   },
   "outputs": [
    {
     "data": {
      "text/html": [
       "<div><img alt=\"Output\" src=\"data:image/png;base64,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\"></div>"
      ],
      "text/plain": [
       "FormBox[RowBox[{RowBox[{\"-\", RowBox[{RowBox[{OverscriptBox[\"r\", \"^\"]}], \" \", \n",
       "\n",
       " \n",
       ">            SuperscriptBox[OverscriptBox[\"ω\", \"^\"], \"2\"]}]}], \"+\", \n",
       "\n",
       " \n",
       ">        SuperscriptBox[OverscriptBox[\"r\", \"^\"], \"′′\"], \"+\", \n",
       "\n",
       " \n",
       ">        FractionBox[\"1\", SuperscriptBox[OverscriptBox[\"r\", \"^\"], \"2\"]]}],\\\n",
       " \n",
       ">    TraditionalForm]\n"
      ]
     },
     "execution_count": 1633,
     "metadata": {
      "text/html": [],
      "text/plain": []
     },
     "output_type": "execute_result"
    }
   ],
   "source": [
    "Simplify[(D[Energy, OverHat[t]] - (AngularMomentum/OverHat[r][OverHat[t]]^2)(D[AngularMomentum, OverHat[t]]))/(D[OverHat[r][OverHat[t]], OverHat[t]])] // TraditionalForm"
   ]
  },
  {
   "cell_type": "markdown",
   "metadata": {},
   "source": [
    "Что совпадает с **первой** строкой повернутой LHS системы движения"
   ]
  },
  {
   "cell_type": "markdown",
   "metadata": {},
   "source": [
    "Отсюда $\\frac{1}{\\hat{r}}\\frac{d\\hat{J}}{d\\hat{t}}$"
   ]
  },
  {
   "cell_type": "code",
   "execution_count": 1634,
   "metadata": {
    "vscode": {
     "languageId": "wolfram"
    }
   },
   "outputs": [
    {
     "data": {
      "text/html": [
       "<div><img alt=\"Output\" src=\"data:image/png;base64,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\"></div>"
      ],
      "text/plain": [
       "FormBox[RowBox[{RowBox[{\"2\", \" \", OverscriptBox[\"ω\", \"^\"], \" \", \n",
       "\n",
       " \n",
       ">          SuperscriptBox[OverscriptBox[\"r\", \"^\"], \"′\"]}], \"+\", \n",
       "\n",
       " \n",
       ">        RowBox[{OverscriptBox[\"r\", \"^\"], \" \", \n",
       "\n",
       " \n",
       ">          SuperscriptBox[OverscriptBox[\"ω\", \"^\"], \"′\"]}]}], TraditionalForm]\n"
      ]
     },
     "execution_count": 1634,
     "metadata": {
      "text/html": [],
      "text/plain": []
     },
     "output_type": "execute_result"
    }
   ],
   "source": [
    "Simplify[D[AngularMomentum, OverHat[t]]/OverHat[r][OverHat[t]]] // TraditionalForm"
   ]
  },
  {
   "cell_type": "markdown",
   "metadata": {},
   "source": [
    "Что совпадает со **второй** строкой повернутой LHS системы движения"
   ]
  },
  {
   "cell_type": "markdown",
   "metadata": {},
   "source": [
    "Таким образом, мы можем выписать новую **энергетическую** систему уравнений\n",
    "\n",
    "$$\n",
    "\\begin{align}\n",
    "\\frac{d\\hat{E}}{d\\hat{t}} &= - \\epsilon_G \\left(\\hat{r}^{(1)} R_{xi}(-\\phi) \\hat{f}_{ij}^{(5)}\\hat{r}_j + \\hat{r}\\hat\\omega R_{yi}(-\\phi) \\hat{f}_{ij}^{(5)}\\hat{r}_j \\right)\n",
    "\\\\\n",
    "\\frac{d\\hat{J}}{d\\hat{t}} &= - \\epsilon_G \\hat{r} R_{yi}(-\\phi) \\hat{f}_{ij}^{(5)}\\hat{r}_j\n",
    "\\end{align}\n",
    "$$"
   ]
  },
  {
   "cell_type": "markdown",
   "metadata": {},
   "source": [
    "Или\n",
    "\n",
    "$$\n",
    "\\left(\\frac{d\\hat{E}}{d\\hat{t}}, \\frac{d\\hat{J}}{d\\hat{t}}\\right) = - \\epsilon_G T_{nk} R_{ki}(-\\phi) \\hat{f}_{ij}^{(5)}\\hat{r}_j\\quad,\n",
    "$$"
   ]
  },
  {
   "cell_type": "markdown",
   "metadata": {},
   "source": [
    "Здесь\n",
    "$$\n",
    "T = \n",
    "\\begin{bmatrix}\n",
    "\\hat{r}^{(1)} & \\hat{r}\\hat{\\omega} \\\\\n",
    "0 & \\hat{r}\n",
    "\\end{bmatrix}\n",
    "$$\n",
    "матрица трансформации:"
   ]
  },
  {
   "cell_type": "code",
   "execution_count": 1636,
   "metadata": {
    "vscode": {
     "languageId": "wolfram"
    }
   },
   "outputs": [
    {
     "data": {
      "text/html": [
       "<div><img alt=\"Output\" src=\"data:image/png;base64,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\"></div>"
      ],
      "text/plain": [
       "FormBox[TagBox[RowBox[{\"(\", \"⁠\", \n",
       "\n",
       " \n",
       ">         GridBox[{{SuperscriptBox[OverscriptBox[\"r\", \"^\"], \"′\"], \n",
       "\n",
       " \n",
       ">            RowBox[{OverscriptBox[\"r\", \"^\"], \" \", OverscriptBox[\"ω\", \"^\"]}]}, \n",
       "\n",
       " \n",
       ">           {\"0\", OverscriptBox[\"r\", \"^\"]}}, Rule[RowSpacings, 1], \n",
       "\n",
       " \n",
       ">          Rule[ColumnSpacings, 1], Rule[RowAlignments, Baseline], \n",
       "\n",
       " \n",
       ">          Rule[ColumnAlignments, Center]], \"⁠\", \")\"}], \n",
       "\n",
       " \n",
       ">       Function[BoxForm`e$, MatrixForm[BoxForm`e$]]], TraditionalForm]\n"
      ]
     },
     "execution_count": 1636,
     "metadata": {
      "text/html": [],
      "text/plain": []
     },
     "output_type": "execute_result"
    }
   ],
   "source": [
    "Transform = {{D[OverHat[r][OverHat[t]], OverHat[t]], OverHat[r][OverHat[t]] OverHat[\\[Omega]][OverHat[t]]}, {0, OverHat[r][OverHat[t]]}};\n",
    "Transform // MatrixForm // TraditionalForm"
   ]
  },
  {
   "cell_type": "markdown",
   "metadata": {},
   "source": [
    "Итак правая часть энергетической системы запишется как"
   ]
  },
  {
   "cell_type": "code",
   "execution_count": 1638,
   "metadata": {
    "vscode": {
     "languageId": "wolfram"
    }
   },
   "outputs": [
    {
     "data": {
      "text/html": [
       "<div><img alt=\"Output\" src=\"data:image/png;base64,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\"></div>"
      ],
      "text/plain": [
       "FormBox[TagBox[RowBox[{\"(\", \"⁠\", \n",
       "\n",
       " \n",
       ">         TagBox[GridBox[{{RowBox[{FractionBox[\"1\", \"2\"], \" \", \n",
       "\n",
       " \n",
       ">               OverscriptBox[\"r\", \"^\"], \" \", SubscriptBox[\"ϵ\", \"G\"], \" \", \n",
       "\n",
       " \n",
       ">               RowBox[{\"(\", RowBox[{RowBox[{OverscriptBox[\"r\", \"^\"], \" \", \n",
       "\n",
       " \n",
       ">                     OverscriptBox[\"ω\", \"^\"], \" \", \n",
       "\n",
       " \n",
       ">                     RowBox[{\"(\", RowBox[{RowBox[{RowBox[{\"sin\", \"(\", \n",
       "\n",
       " \n",
       ">                             RowBox[{\"2\", \" \", \"ϕ\"}], \")\"}], \" \", \n",
       "\n",
       " \n",
       ">                           RowBox[{\"(\", \n",
       "\n",
       " \n",
       ">                             RowBox[{TemplateBox[List[SubscriptBox[\n",
       "\n",
       " \n",
       ">                            OverscriptBox[\"f\", \"^\"], \n",
       "\n",
       " \n",
       ">                            RowBox[List[\"x\", \",\", \"x\"]]], \"\\\"(5)\\\"\"], \n",
       "\n",
       " \n",
       ">                             \"Superscript\", Rule[SyntaxForm, SuperscriptBox]], \n",
       "\n",
       " \n",
       ">                             \"-\", \n",
       "\n",
       " \n",
       ">                             TemplateBox[List[SubscriptBox[OverscriptB\\\n",
       "\n",
       " \n",
       ">   ox[\"f\", \"^\"], RowBox[List[\"y\", \",\", \"y\"]]], \"\\\"(5)\\\"\"], \"Superscript\", \n",
       "\n",
       " \n",
       ">                             Rule[SyntaxForm, SuperscriptBox]]}], \")\"}]}], \"-\", \n",
       "\n",
       " \n",
       ">                         RowBox[{\"2\", \" \", \n",
       "\n",
       " \n",
       ">                           RowBox[{\"cos\", \"(\", RowBox[{\"2\", \" \", \"ϕ\"}], \")\"}], \n",
       "\n",
       " \n",
       ">                           \" \", TemplateBox[List[SubscriptBox[OverscriptB\\\n",
       "\n",
       " \n",
       ">   ox[\"f\", \"^\"], RowBox[List[\"x\", \",\", \"y\"]]], \"\\\"(5)\\\"\"], \"Superscript\", \n",
       "\n",
       " \n",
       ">                            Rule[SyntaxForm, SuperscriptBox]]}]}], \")\"}]}], \"-\", \n",
       "\n",
       " \n",
       ">                   RowBox[{\"2\", \" \", SuperscriptBox[OverscriptBox[\"r\", \"^\"], \"′\"], \n",
       "\n",
       " \n",
       ">                     \" \", RowBox[{\"(\", \n",
       "\n",
       " \n",
       ">                       RowBox[{RowBox[{RowBox[{\"sin\", \"(\", \n",
       "\n",
       " \n",
       ">                             RowBox[{\"2\", \" \", \"ϕ\"}], \")\"}], \" \", \n",
       "\n",
       " \n",
       ">                           TemplateBox[List[SubscriptBox[OverscriptBox[\"f\", \n",
       "\n",
       " \n",
       ">                             \"^\"], RowBox[List[\"x\", \",\", \"y\"]]], \"\\\"(5)\\\"\"], \n",
       "\n",
       " \n",
       ">                            \"Superscript\", Rule[SyntaxForm, SuperscriptBox]]}], \n",
       "\n",
       " \n",
       ">                         \"+\", RowBox[{RowBox[{SuperscriptBox[\"cos\", \"2\"], \"(\", \n",
       "\n",
       " \n",
       ">                             \"ϕ\", \")\"}], \" \", \n",
       "\n",
       " \n",
       ">                           TemplateBox[List[SubscriptBox[OverscriptBox[\"f\", \n",
       "\n",
       " \n",
       ">                             \"^\"], RowBox[List[\"x\", \",\", \"x\"]]], \"\\\"(5)\\\"\"], \n",
       "\n",
       " \n",
       ">                            \"Superscript\", Rule[SyntaxForm, SuperscriptBox]]}], \n",
       "\n",
       " \n",
       ">                         \"+\", RowBox[{RowBox[{SuperscriptBox[\"sin\", \"2\"], \"(\", \n",
       "\n",
       " \n",
       ">                             \"ϕ\", \")\"}], \" \", \n",
       "\n",
       " \n",
       ">                           TemplateBox[List[SubscriptBox[OverscriptBox[\"f\", \n",
       "\n",
       " \n",
       ">                             \"^\"], RowBox[List[\"y\", \",\", \"y\"]]], \"\\\"(5)\\\"\"], \n",
       "\n",
       " \n",
       ">                            \"Superscript\", Rule[SyntaxForm, SuperscriptBox]]}]}], \n",
       "\n",
       " \n",
       ">                       \")\"}]}]}], \")\"}]}]}, \n",
       "\n",
       " \n",
       ">            {RowBox[{RowBox[{\"-\", FractionBox[\"1\", \"2\"]}], \" \", \n",
       "\n",
       " \n",
       ">               SuperscriptBox[OverscriptBox[\"r\", \"^\"], \"2\"], \" \", \n",
       "\n",
       " \n",
       ">               SubscriptBox[\"ϵ\", \"G\"], \" \", \n",
       "\n",
       " \n",
       ">               RowBox[{\"(\", RowBox[{RowBox[{RowBox[{\"sin\", \"(\", \n",
       "\n",
       " \n",
       ">                       RowBox[{\"2\", \" \", \"ϕ\"}], \")\"}], \" \", \n",
       "\n",
       " \n",
       ">                     RowBox[{\"(\", RowBox[{TemplateBox[List[SubscriptBox[\n",
       "\n",
       " \n",
       ">                            OverscriptBox[\"f\", \"^\"], \n",
       "\n",
       " \n",
       ">                            RowBox[List[\"y\", \",\", \"y\"]]], \"\\\"(5)\\\"\"], \n",
       "\n",
       " \n",
       ">                          \"Superscript\", Rule[SyntaxForm, SuperscriptBox]], \"-\", \n",
       "\n",
       " \n",
       ">                         TemplateBox[List[SubscriptBox[OverscriptBox[\"f\", \"^\"], \n",
       "\n",
       " \n",
       ">                            RowBox[List[\"x\", \",\", \"x\"]]], \"\\\"(5)\\\"\"], \n",
       "\n",
       " \n",
       ">                          \"Superscript\", Rule[SyntaxForm, SuperscriptBox]]}], \")\"}]}\\\n",
       "\n",
       " \n",
       ">   ], \"+\", RowBox[{\"2\", \" \", RowBox[{\"cos\", \"(\", RowBox[{\"2\", \" \", \"ϕ\"}], \")\"}], \n",
       "\n",
       " \n",
       ">                     \" \", TemplateBox[List[SubscriptBox[OverscriptBox[\"f\", \"^\"], \n",
       "\n",
       " \n",
       ">                        RowBox[List[\"x\", \",\", \"y\"]]], \"\\\"(5)\\\"\"], \"Superscript\", \n",
       "\n",
       " \n",
       ">                      Rule[SyntaxForm, SuperscriptBox]]}]}], \")\"}]}]}}, \n",
       "\n",
       " \n",
       ">           Rule[RowSpacings, 1], Rule[ColumnAlignments, Center], \n",
       "\n",
       " \n",
       ">           Rule[ColumnAlignments, Left]], Column], \"⁠\", \")\"}], \n",
       "\n",
       " \n",
       ">       Function[BoxForm`e$, MatrixForm[BoxForm`e$]]], TraditionalForm]\n"
      ]
     },
     "execution_count": 1638,
     "metadata": {
      "text/html": [],
      "text/plain": []
     },
     "output_type": "execute_result"
    }
   ],
   "source": [
    "RHSEnegry = FullSimplify[Transform . RHSMotion, Trig -> True];\n",
    "RHSEnegry // MatrixForm // TraditionalForm"
   ]
  },
  {
   "cell_type": "markdown",
   "metadata": {},
   "source": [
    "## **Другой Способ** получения уравнений движения и энергетических уравнений через лагранжев формализм в полярных координатах"
   ]
  },
  {
   "cell_type": "markdown",
   "metadata": {},
   "source": [
    "### **Лагранжиан системы**\n",
    "Лагранжиан $L$ в полярных координатах $(r, \\phi)$ выражается как:\n",
    "$$\n",
    "L = T - (U + \\mu\\Phi),\n",
    "$$\n",
    "где:\n",
    "- $T$ — кинетическая энергия,\n",
    "- $U$ — потенциальная энергия\n",
    "- $\\Phi = \\frac{1}{5}f_{ij}^{(5)}r_i r_j = \\frac{\\epsilon_G}{2}\\frac{b^2}{t_0^2}\\hat{f}_{ij}^{(5)}\\hat{r}_i \\hat{r}_j = \\frac{5}{2}\\epsilon_G\\frac{GM}{b}\\hat{\\Phi}$ - малый потенциал \"реакции излучения\""
   ]
  },
  {
   "cell_type": "markdown",
   "metadata": {},
   "source": [
    "Безразмерный малый потенциал \"реакции излучения\" $\\hat{\\Phi} = \\frac{1}{5}\\hat{f}_{ij}^{(5)}\\hat{r}_i\\hat{r}_j$"
   ]
  },
  {
   "cell_type": "code",
   "execution_count": 1640,
   "metadata": {
    "vscode": {
     "languageId": "wolfram"
    }
   },
   "outputs": [
    {
     "data": {
      "text/html": [
       "<div><img alt=\"Output\" src=\"data:image/png;base64,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\"></div>"
      ],
      "text/plain": [
       "FormBox[RowBox[{FractionBox[\"1\", \"5\"], \" \", \n",
       "\n",
       " \n",
       ">        RowBox[{\"(\", RowBox[{RowBox[{OverscriptBox[\"r\", \"^\"], \" \", \n",
       "\n",
       " \n",
       ">              RowBox[{\"cos\", \"(\", \"ϕ\", \")\"}], \" \", \n",
       "\n",
       " \n",
       ">              RowBox[{\"(\", RowBox[{RowBox[{OverscriptBox[\"r\", \"^\"], \" \", \n",
       "\n",
       " \n",
       ">                    RowBox[{\"sin\", \"(\", \"ϕ\", \")\"}], \" \", \n",
       "\n",
       " \n",
       ">                    TemplateBox[List[SubscriptBox[OverscriptBox[\"f\", \"^\"], \n",
       "\n",
       " \n",
       ">                       RowBox[List[\"x\", \",\", \"y\"]]], \"\\\"(5)\\\"\"], \"Superscript\", \n",
       "\n",
       " \n",
       ">                     Rule[SyntaxForm, SuperscriptBox]]}], \"+\", \n",
       "\n",
       " \n",
       ">                  RowBox[{OverscriptBox[\"r\", \"^\"], \" \", \n",
       "\n",
       " \n",
       ">                    RowBox[{\"cos\", \"(\", \"ϕ\", \")\"}], \" \", \n",
       "\n",
       " \n",
       ">                    TemplateBox[List[SubscriptBox[OverscriptBox[\"f\", \"^\"], \n",
       "\n",
       " \n",
       ">                       RowBox[List[\"x\", \",\", \"x\"]]], \"\\\"(5)\\\"\"], \"Superscript\", \n",
       "\n",
       " \n",
       ">                     Rule[SyntaxForm, SuperscriptBox]]}]}], \")\"}]}], \"+\", \n",
       "\n",
       " \n",
       ">            RowBox[{OverscriptBox[\"r\", \"^\"], \" \", RowBox[{\"sin\", \"(\", \"ϕ\", \")\"}], \" \", \n",
       "\n",
       " \n",
       ">              RowBox[{\"(\", RowBox[{RowBox[{OverscriptBox[\"r\", \"^\"], \" \", \n",
       "\n",
       " \n",
       ">                    RowBox[{\"cos\", \"(\", \"ϕ\", \")\"}], \" \", \n",
       "\n",
       " \n",
       ">                    TemplateBox[List[SubscriptBox[OverscriptBox[\"f\", \"^\"], \n",
       "\n",
       " \n",
       ">                       RowBox[List[\"x\", \",\", \"y\"]]], \"\\\"(5)\\\"\"], \"Superscript\", \n",
       "\n",
       " \n",
       ">                     Rule[SyntaxForm, SuperscriptBox]]}], \"+\", \n",
       "\n",
       " \n",
       ">                  RowBox[{OverscriptBox[\"r\", \"^\"], \" \", RowBox[{\"sin\", \"(\", \"ϕ\", \")\"}],\\\n",
       " \n",
       ">    \n",
       "                 \" \", TemplateBox[List[SubscriptBox[OverscriptBox[\"f\", \"^\"], \n",
       "\n",
       " \n",
       ">                       RowBox[List[\"y\", \",\", \"y\"]]], \"\\\"(5)\\\"\"], \"Superscript\", \n",
       "\n",
       " \n",
       ">                     Rule[SyntaxForm, SuperscriptBox]]}]}], \")\"}]}]}], \")\"}]}], \n",
       "\n",
       " \n",
       ">      TraditionalForm]\n"
      ]
     },
     "execution_count": 1640,
     "metadata": {
      "text/html": [],
      "text/plain": []
     },
     "output_type": "execute_result"
    }
   ],
   "source": [
    "fh5rhrh = 1/5 EinsteinSummation[{{i, j}, {i}, {j}}, {fh5, rh, rh}];\n",
    "fh5rhrh // TraditionalForm"
   ]
  },
  {
   "cell_type": "markdown",
   "metadata": {},
   "source": [
    "Безразмерный лагранжиан\n",
    "\n",
    "$$\n",
    "\\hat{L} = \\hat{T} - (\\hat{U} + \\frac{5}{2}\\epsilon_G\\hat{\\Phi}),\n",
    "$$\n",
    "или\n",
    "$$\n",
    "\\hat{L} = \\frac{1}{2} \\left((\\hat{r}^{(1)})^2 + \\hat{r}^2 \\hat{\\omega}^2 \\right) + \\frac{1}{\\hat{r}} - \\frac{\\epsilon_G}{2}\\hat{f}_{ij}^{(5)}\\hat{r}_i \\hat{r}_j.\n",
    "$$"
   ]
  },
  {
   "cell_type": "markdown",
   "metadata": {},
   "source": [
    "### **Уравнения Эйлера-Лагранжа**\n",
    "Уравнения Эйлера-Лагранжа имеют вид:\n",
    "$$\n",
    "\\frac{d}{dt} \\left( \\frac{\\partial \\hat{L}}{\\partial \\dot{q}_i} \\right) - \\frac{\\partial \\hat{L}}{\\partial q_i} = 0,\n",
    "$$\n",
    "где $q_i$ — обобщённые координаты ($\\hat{r}$ и $\\phi$)."
   ]
  },
  {
   "cell_type": "markdown",
   "metadata": {},
   "source": [
    "---\n",
    "\n",
    "#### Уравнение для координаты $\\hat{r}$:\n",
    "$$\n",
    "\\frac{d}{d\\hat{t}} \\left(\\frac{\\partial \\hat{L}}{\\partial \\hat{r}^{(1)}} \\right) - \\frac{\\partial \\hat{L}}{\\partial \\hat{r}} = 0.\n",
    "$$\n",
    "Вычислим производные:\n",
    "$$\n",
    "\\frac{\\partial \\hat{L}}{\\partial \\hat{r}^{(1)}} = \\hat{r}^{(1)}, \\quad \\frac{d}{d\\hat{t}} \\left( \\frac{\\partial \\hat{L}}{\\partial \\hat{r}^{(1)}} \\right) = \\hat{r}^{(2)},\n",
    "$$\n",
    "$$\n",
    "\\frac{\\partial \\hat{L}}{\\partial \\hat{r}} = \\hat{r} \\hat{\\omega}^2 - \\frac{1}{\\hat{r}^2} - \\frac{5}{2}\\epsilon_G\\frac{\\partial \\hat{\\Phi}}{\\partial \\hat{r}}.\n",
    "$$\n",
    "Подставляем в уравнение Эйлера-Лагранжа:\n",
    "$$\n",
    "\\hat{r}^{(2)} - \\hat{r} \\hat{\\omega}^2 + \\frac{1}{\\hat{r}^2} = - \\frac{5}{2}\\epsilon_G\\frac{\\partial \\hat{\\Phi}}{\\partial \\hat{r}}.\n",
    "$$\n",
    "\n",
    "Это **радиальное уравнение движения**.\n",
    "\n",
    "Здесь \n",
    "$$\n",
    "\\frac{\\partial \\hat{\\Phi}}{\\partial \\hat{r}} = \\frac{1}{5}\\hat{f}_{ij}^{(5)}\\left(\\frac{\\partial \\hat{r}_i}{\\partial \\hat{r}}\\hat{r}_j + \\hat{r}_i\\frac{\\partial \\hat{r}_j}{\\partial \\hat{r}}\\right)\n",
    "$$"
   ]
  },
  {
   "cell_type": "markdown",
   "metadata": {},
   "source": [
    "Правая часть радиального уравнения движения будет выглядеть как"
   ]
  },
  {
   "cell_type": "code",
   "execution_count": 1642,
   "metadata": {
    "vscode": {
     "languageId": "wolfram"
    }
   },
   "outputs": [
    {
     "data": {
      "text/html": [
       "<div><img alt=\"Output\" src=\"data:image/png;base64,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\"></div>"
      ],
      "text/plain": [
       "FormBox[RowBox[{OverscriptBox[\"r\", \"^\"], \" \", \n",
       "\n",
       " \n",
       ">        RowBox[{\"(\", RowBox[{\"-\", SubscriptBox[\"ϵ\", \"G\"]}], \")\"}], \" \", \n",
       "\n",
       " \n",
       ">        RowBox[{\"(\", RowBox[{RowBox[{RowBox[{\"sin\", \"(\", RowBox[{\"2\", \" \", \"ϕ\"}], \n",
       "\n",
       " \n",
       ">                \")\"}], \" \", TemplateBox[List[SubscriptBox[OverscriptBox[\"f\", \"^\"], \n",
       "\n",
       " \n",
       ">                 RowBox[List[\"x\", \",\", \"y\"]]], \"\\\"(5)\\\"\"], \"Superscript\", \n",
       "\n",
       " \n",
       ">               Rule[SyntaxForm, SuperscriptBox]]}], \"+\", \n",
       "\n",
       " \n",
       ">            RowBox[{RowBox[{SuperscriptBox[\"cos\", \"2\"], \"(\", \"ϕ\", \")\"}], \" \", \n",
       "\n",
       " \n",
       ">              TemplateBox[List[SubscriptBox[OverscriptBox[\"f\", \"^\"], \n",
       "\n",
       " \n",
       ">                 RowBox[List[\"x\", \",\", \"x\"]]], \"\\\"(5)\\\"\"], \"Superscript\", \n",
       "\n",
       " \n",
       ">               Rule[SyntaxForm, SuperscriptBox]]}], \"+\", \n",
       "\n",
       " \n",
       ">            RowBox[{RowBox[{SuperscriptBox[\"sin\", \"2\"], \"(\", \"ϕ\", \")\"}], \" \", \n",
       "\n",
       " \n",
       ">              TemplateBox[List[SubscriptBox[OverscriptBox[\"f\", \"^\"], \n",
       "\n",
       " \n",
       ">                 RowBox[List[\"y\", \",\", \"y\"]]], \"\\\"(5)\\\"\"], \"Superscript\", \n",
       "\n",
       " \n",
       ">               Rule[SyntaxForm, SuperscriptBox]]}]}], \")\"}]}], TraditionalForm]\n"
      ]
     },
     "execution_count": 1642,
     "metadata": {
      "text/html": [],
      "text/plain": []
     },
     "output_type": "execute_result"
    }
   ],
   "source": [
    "RHSMotionRadialLagrange = - 1/2 Subscript[\\[Epsilon], G] FullSimplify[EinsteinSummation[{{i, j}, {i}, {j}}, {fh5, D[rh, OverHat[r][OverHat[t]]], rh}] + EinsteinSummation[{{i, j}, {i}, {j}}, {fh5, rh, D[rh, OverHat[r][OverHat[t]]]}]];\n",
    "RHSMotionRadialLagrange // TraditionalForm"
   ]
  },
  {
   "cell_type": "markdown",
   "metadata": {},
   "source": [
    "<span style=\"color:brown\">**NB:**</span> Выражение <span style=\"color:green\">**совпадает**</span> с раннее полученным уравнением и с уравнением (10) из файла Binary.pdf"
   ]
  },
  {
   "cell_type": "code",
   "execution_count": 1643,
   "metadata": {
    "vscode": {
     "languageId": "wolfram"
    }
   },
   "outputs": [
    {
     "data": {
      "text/html": [
       "<div><pre style=\"&#102;&#111;&#110;&#116;&#45;&#102;&#97;&#109;&#105;&#108;&#121;&#58;&#32;&#34;&#67;&#111;&#117;&#114;&#105;&#101;&#114;&#32;&#78;&#101;&#119;&#34;&#44;&#67;&#111;&#117;&#114;&#105;&#101;&#114;&#44;&#109;&#111;&#110;&#111;&#115;&#112;&#97;&#99;&#101;&#59;\">&#48;</pre></div>"
      ],
      "text/plain": [
       "0"
      ]
     },
     "execution_count": 1643,
     "metadata": {
      "text/html": [],
      "text/plain": []
     },
     "output_type": "execute_result"
    }
   ],
   "source": [
    "RHSMotion[[1]] - RHSMotionRadialLagrange"
   ]
  },
  {
   "cell_type": "markdown",
   "metadata": {},
   "source": [
    "---\n",
    "\n",
    "#### Уравнение для координаты $\\phi$:\n",
    "$$\n",
    "\\frac{d}{d\\hat{t}} \\left(\\frac{\\partial \\hat{L}}{\\partial \\hat{\\omega}} \\right) - \\frac{\\partial \\hat{L}}{\\partial \\phi} = 0.\n",
    "$$\n",
    "Вычислим производные:\n",
    "$$\n",
    "\\frac{\\partial \\hat{L}}{\\partial \\hat{\\omega}} = \\hat{r}^2 \\hat{\\omega}, \\quad \\frac{d}{d\\hat{t}} \\left( \\frac{\\partial \\hat{L}}{\\partial \\hat{\\omega}} \\right) = \\frac{d}{d\\hat{t}} \\left( \\hat{r}^2 \\hat{\\omega} \\right),\n",
    "$$\n",
    "$$\n",
    "\\frac{\\partial \\hat{L}}{\\partial \\phi} = - \\frac{5}{2}\\epsilon_G\\frac{\\partial \\hat{\\Phi}}{\\partial \\phi}.\n",
    "$$\n",
    "Подставляем в уравнение Эйлера-Лагранжа:\n",
    "$$\n",
    "\\frac{1}{\\hat{r}}\\frac{d}{d\\hat{t}} \\left( \\hat{r}^2 \\hat{\\omega} \\right) = \\frac{1}{\\hat{r}}\\frac{d\\hat{J}}{d\\hat{t}} = - \\frac{5}{2}\\frac{\\epsilon_G}{\\hat{r}}\\frac{\\partial \\hat{\\Phi}}{\\partial \\phi}.\n",
    "$$\n",
    "\n",
    "Здесь \n",
    "$$\n",
    "\\frac{\\partial \\hat{\\Phi}}{\\partial \\phi} = \\frac{1}{5}\\hat{f}_{ij}^{(5)}\\left(\\frac{\\partial \\hat{r}_i}{\\partial \\phi}\\hat{r}_j + \\hat{r}_i\\frac{\\partial \\hat{r}_j}{\\partial \\phi}\\right)\n",
    "$$"
   ]
  },
  {
   "cell_type": "markdown",
   "metadata": {},
   "source": [
    "Правая часть уравнения движения для $\\phi$ будет выглядеть как"
   ]
  },
  {
   "cell_type": "code",
   "execution_count": 1645,
   "metadata": {
    "vscode": {
     "languageId": "wolfram"
    }
   },
   "outputs": [
    {
     "data": {
      "text/html": [
       "<div><img alt=\"Output\" src=\"data:image/png;base64,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\"></div>"
      ],
      "text/plain": [
       "FormBox[RowBox[{RowBox[{\"-\", FractionBox[\"1\", \"2\"]}], \" \", OverscriptBox[\"r\", \"^\"], \n",
       "\n",
       " \n",
       ">        \" \", SubscriptBox[\"ϵ\", \"G\"], \" \", \n",
       "\n",
       " \n",
       ">        RowBox[{\"(\", RowBox[{RowBox[{RowBox[{\"sin\", \"(\", RowBox[{\"2\", \" \", \"ϕ\"}], \n",
       "\n",
       " \n",
       ">                \")\"}], \" \", RowBox[{\"(\", \n",
       "\n",
       " \n",
       ">                RowBox[{TemplateBox[List[SubscriptBox[OverscriptBox[\"f\", \"^\"], \n",
       "\n",
       " \n",
       ">                     RowBox[List[\"y\", \",\", \"y\"]]], \"\\\"(5)\\\"\"], \"Superscript\", \n",
       "\n",
       " \n",
       ">                   Rule[SyntaxForm, SuperscriptBox]], \"-\", \n",
       "\n",
       " \n",
       ">                  TemplateBox[List[SubscriptBox[OverscriptBox[\"f\", \"^\"], \n",
       "\n",
       " \n",
       ">                     RowBox[List[\"x\", \",\", \"x\"]]], \"\\\"(5)\\\"\"], \"Superscript\", \n",
       "\n",
       " \n",
       ">                   Rule[SyntaxForm, SuperscriptBox]]}], \")\"}]}], \"+\", \n",
       "\n",
       " \n",
       ">            RowBox[{\"2\", \" \", RowBox[{\"cos\", \"(\", RowBox[{\"2\", \" \", \"ϕ\"}], \")\"}], \" \", \n",
       "\n",
       " \n",
       ">              TemplateBox[List[SubscriptBox[OverscriptBox[\"f\", \"^\"], \n",
       "\n",
       " \n",
       ">                 RowBox[List[\"x\", \",\", \"y\"]]], \"\\\"(5)\\\"\"], \"Superscript\", \n",
       "\n",
       " \n",
       ">               Rule[SyntaxForm, SuperscriptBox]]}]}], \")\"}]}], TraditionalForm]\n"
      ]
     },
     "execution_count": 1645,
     "metadata": {
      "text/html": [],
      "text/plain": []
     },
     "output_type": "execute_result"
    }
   ],
   "source": [
    "RHSMotionPhiLagrange = - 1/2 Subscript[\\[Epsilon], G] FullSimplify[EinsteinSummation[{{i, j}, {i}, {j}}, {fh5, D[rh, \\[Phi][OverHat[t]]], rh}] + EinsteinSummation[{{i, j}, {i}, {j}}, {fh5, rh, D[rh, \\[Phi][OverHat[t]]]}]]/OverHat[r][OverHat[t]];\n",
    "RHSMotionPhiLagrange // TraditionalForm"
   ]
  },
  {
   "cell_type": "markdown",
   "metadata": {},
   "source": [
    "<span style=\"color:brown\">**NB:**</span> Выражение <span style=\"color:green\">**совпадает**</span> с раннее полученным уравнением и с уравнением (9) из файла Binary.pdf"
   ]
  },
  {
   "cell_type": "code",
   "execution_count": 1646,
   "metadata": {
    "vscode": {
     "languageId": "wolfram"
    }
   },
   "outputs": [
    {
     "data": {
      "text/html": [
       "<div><pre style=\"&#102;&#111;&#110;&#116;&#45;&#102;&#97;&#109;&#105;&#108;&#121;&#58;&#32;&#34;&#67;&#111;&#117;&#114;&#105;&#101;&#114;&#32;&#78;&#101;&#119;&#34;&#44;&#67;&#111;&#117;&#114;&#105;&#101;&#114;&#44;&#109;&#111;&#110;&#111;&#115;&#112;&#97;&#99;&#101;&#59;\">&#48;</pre></div>"
      ],
      "text/plain": [
       "0"
      ]
     },
     "execution_count": 1646,
     "metadata": {
      "text/html": [],
      "text/plain": []
     },
     "output_type": "execute_result"
    }
   ],
   "source": [
    "RHSMotion[[2]] - RHSMotionPhiLagrange"
   ]
  },
  {
   "cell_type": "markdown",
   "metadata": {},
   "source": [
    "## Получим **энергетическую** систему уравнений в подходе Лагранжа"
   ]
  },
  {
   "cell_type": "markdown",
   "metadata": {},
   "source": [
    "Заметим, что энергия системы:\n",
    "$$\n",
    "\\hat{E} = \\frac{(\\hat{r}^{(1)})^2}{2} + \\frac{\\hat{r}^2 \\hat{\\omega}^2}{2} - \\frac{1}{\\hat{r}}\n",
    "$$\n",
    "$$\n",
    "\\frac{1}{\\hat{r}^{(1)}}\\left(\\frac{d\\hat{E}}{d\\hat{t}} - \\hat{\\omega} \\frac{d\\hat{J}}{d\\hat{t}}\\right) = \\hat{r}^{(2)} - \\hat{r} \\hat{\\omega}^2 + \\frac{1}{\\hat{r}^2}\n",
    "$$\n",
    "\n",
    "А также уравнение для изменения момента импульса системы есть\n",
    "$$\n",
    "\\frac{d\\hat{J}}{d\\hat{t}} = - \\frac{5}{2}\\epsilon_G\\frac{\\partial \\hat{\\Phi}}{\\partial \\phi}.\n",
    "$$\n",
    "\n",
    "Итоговая энергетическая система, выведенная по-новому будет записываться как:\n",
    "\n",
    "$$\n",
    "\\begin{align}\n",
    "\\frac{d\\hat{E}}{d\\hat{t}} &= - \\frac{5}{2}\\epsilon_G\\left(\\hat{r}^{(1)}\\frac{\\partial \\hat{\\Phi}}{\\partial \\hat{r}} + \\hat{\\omega} \\frac{\\partial \\hat{\\Phi}}{\\partial \\phi}\\right)\n",
    "  = - \\frac{\\epsilon_G}{2}\\hat{f}_{ij}^{(5)}\\left(\\frac{d\\hat{r}_i}{d\\hat{t}}\\hat{r}_j + \\hat{r}_i\\frac{d\\hat{r}_j}{d\\hat{t}}\\right)\n",
    "  = - \\frac{\\epsilon_G}{2}\\hat{f}_{ij}^{(5)}\\frac{d(\\hat{r}_i \\hat{r}_j)}{d\\hat{t}}\n",
    "\\\\\n",
    "\\frac{d\\hat{J}}{d\\hat{t}} &= - \\frac{5}{2}\\epsilon_G\\frac{\\partial \\hat{\\Phi}}{\\partial \\phi}\n",
    "  = - \\frac{\\epsilon_G}{2}\\hat{f}_{ij}^{(5)}\\left(\\frac{\\partial \\hat{r}_i}{\\partial \\phi}\\hat{r}_j + \\hat{r}_i\\frac{\\partial \\hat{r}_j}{\\partial \\phi}\\right)\n",
    "  = - \\frac{\\epsilon_G}{2}\\hat{f}_{ij}^{(5)}\\frac{d(\\hat{r}_i \\hat{r}_j)}{d\\phi}\n",
    "\\end{align}\n",
    "$$"
   ]
  },
  {
   "cell_type": "code",
   "execution_count": 1648,
   "metadata": {
    "vscode": {
     "languageId": "wolfram"
    }
   },
   "outputs": [
    {
     "data": {
      "text/html": [
       "<div><img alt=\"Output\" src=\"data:image/png;base64,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\"></div>"
      ],
      "text/plain": [
       "FormBox[TagBox[RowBox[{\"(\", \"⁠\", \n",
       "\n",
       " \n",
       ">         TagBox[GridBox[{{RowBox[{OverscriptBox[\"r\", \"^\"], \" \", \n",
       "\n",
       " \n",
       ">               RowBox[{\"(\", RowBox[{\"-\", SubscriptBox[\"ϵ\", \"G\"]}], \")\"}], \" \", \n",
       "\n",
       " \n",
       ">               RowBox[{\"(\", RowBox[{RowBox[{OverscriptBox[\"r\", \"^\"], \" \", \n",
       "\n",
       " \n",
       ">                     OverscriptBox[\"ω\", \"^\"], \" \", \n",
       "\n",
       " \n",
       ">                     RowBox[{\"(\", RowBox[{RowBox[{RowBox[{\"cos\", \"(\", \n",
       "\n",
       " \n",
       ">                             RowBox[{\"2\", \" \", \"ϕ\"}], \")\"}], \" \", \n",
       "\n",
       " \n",
       ">                           TemplateBox[List[SubscriptBox[OverscriptBox[\"f\", \n",
       "\n",
       " \n",
       ">                             \"^\"], RowBox[List[\"x\", \",\", \"y\"]]], \"\\\"(5)\\\"\"], \n",
       "\n",
       " \n",
       ">                            \"Superscript\", Rule[SyntaxForm, SuperscriptBox]]}], \n",
       "\n",
       " \n",
       ">                         \"+\", RowBox[{RowBox[{\"sin\", \"(\", \"ϕ\", \")\"}], \" \", \n",
       "\n",
       " \n",
       ">                           RowBox[{\"cos\", \"(\", \"ϕ\", \")\"}], \" \", \n",
       "\n",
       " \n",
       ">                           RowBox[{\"(\", \n",
       "\n",
       " \n",
       ">                             RowBox[{TemplateBox[List[SubscriptBox[\n",
       "\n",
       " \n",
       ">                             OverscriptBox[\"f\", \"^\"], \n",
       "\n",
       " \n",
       ">                             RowBox[List[\"y\", \",\", \"y\"]]], \"\\\"(5)\\\"\"], \n",
       "\n",
       " \n",
       ">                             \"Superscript\", Rule[SyntaxForm, SuperscriptBox]], \n",
       "\n",
       " \n",
       ">                              \"-\", \n",
       "\n",
       " \n",
       ">                              TemplateBox[List[SubscriptBox[OverscriptB\\\n",
       "\n",
       " \n",
       ">   ox[\"f\", \"^\"], RowBox[List[\"x\", \",\", \"x\"]]], \"\\\"(5)\\\"\"], \"Superscript\", \n",
       "\n",
       " \n",
       ">                              Rule[SyntaxForm, SuperscriptBox]]}], \")\"}]}]}], \")\"}]\\\n",
       "\n",
       " \n",
       ">   }], \"+\", RowBox[{SuperscriptBox[OverscriptBox[\"r\", \"^\"], \"′\"], \" \", \n",
       "\n",
       " \n",
       ">                     RowBox[{\"(\", RowBox[{RowBox[{RowBox[{\"sin\", \"(\", \n",
       "\n",
       " \n",
       ">                             RowBox[{\"2\", \" \", \"ϕ\"}], \")\"}], \" \", \n",
       "\n",
       " \n",
       ">                           TemplateBox[List[SubscriptBox[OverscriptBox[\"f\", \n",
       "\n",
       " \n",
       ">                             \"^\"], RowBox[List[\"x\", \",\", \"y\"]]], \"\\\"(5)\\\"\"], \n",
       "\n",
       " \n",
       ">                            \"Superscript\", Rule[SyntaxForm, SuperscriptBox]]}], \n",
       "\n",
       " \n",
       ">                         \"+\", RowBox[{RowBox[{SuperscriptBox[\"cos\", \"2\"], \"(\", \n",
       "\n",
       " \n",
       ">                             \"ϕ\", \")\"}], \" \", \n",
       "\n",
       " \n",
       ">                           TemplateBox[List[SubscriptBox[OverscriptBox[\"f\", \n",
       "\n",
       " \n",
       ">                             \"^\"], RowBox[List[\"x\", \",\", \"x\"]]], \"\\\"(5)\\\"\"], \n",
       "\n",
       " \n",
       ">                            \"Superscript\", Rule[SyntaxForm, SuperscriptBox]]}], \n",
       "\n",
       " \n",
       ">                         \"+\", RowBox[{RowBox[{SuperscriptBox[\"sin\", \"2\"], \"(\", \n",
       "\n",
       " \n",
       ">                             \"ϕ\", \")\"}], \" \", \n",
       "\n",
       " \n",
       ">                           TemplateBox[List[SubscriptBox[OverscriptBox[\"f\", \n",
       "\n",
       " \n",
       ">                             \"^\"], RowBox[List[\"y\", \",\", \"y\"]]], \"\\\"(5)\\\"\"], \n",
       "\n",
       " \n",
       ">                            \"Superscript\", Rule[SyntaxForm, SuperscriptBox]]}]}], \n",
       "\n",
       " \n",
       ">                       \")\"}]}]}], \")\"}]}]}, \n",
       "\n",
       " \n",
       ">            {RowBox[{RowBox[{\"-\", FractionBox[\"1\", \"2\"]}], \" \", \n",
       "\n",
       " \n",
       ">               SuperscriptBox[OverscriptBox[\"r\", \"^\"], \"2\"], \" \", \n",
       "\n",
       " \n",
       ">               SubscriptBox[\"ϵ\", \"G\"], \" \", \n",
       "\n",
       " \n",
       ">               RowBox[{\"(\", RowBox[{RowBox[{RowBox[{\"sin\", \"(\", \n",
       "\n",
       " \n",
       ">                       RowBox[{\"2\", \" \", \"ϕ\"}], \")\"}], \" \", \n",
       "\n",
       " \n",
       ">                     RowBox[{\"(\", RowBox[{TemplateBox[List[SubscriptBox[\n",
       "\n",
       " \n",
       ">                            OverscriptBox[\"f\", \"^\"], \n",
       "\n",
       " \n",
       ">                            RowBox[List[\"y\", \",\", \"y\"]]], \"\\\"(5)\\\"\"], \n",
       "\n",
       " \n",
       ">                          \"Superscript\", Rule[SyntaxForm, SuperscriptBox]], \"-\", \n",
       "\n",
       " \n",
       ">                         TemplateBox[List[SubscriptBox[OverscriptBox[\"f\", \"^\"], \n",
       "\n",
       " \n",
       ">                            RowBox[List[\"x\", \",\", \"x\"]]], \"\\\"(5)\\\"\"], \n",
       "\n",
       " \n",
       ">                          \"Superscript\", Rule[SyntaxForm, SuperscriptBox]]}], \")\"}]}\\\n",
       "\n",
       " \n",
       ">   ], \"+\", RowBox[{\"2\", \" \", RowBox[{\"cos\", \"(\", RowBox[{\"2\", \" \", \"ϕ\"}], \")\"}], \n",
       "\n",
       " \n",
       ">                     \" \", TemplateBox[List[SubscriptBox[OverscriptBox[\"f\", \"^\"], \n",
       "\n",
       " \n",
       ">                        RowBox[List[\"x\", \",\", \"y\"]]], \"\\\"(5)\\\"\"], \"Superscript\", \n",
       "\n",
       " \n",
       ">                      Rule[SyntaxForm, SuperscriptBox]]}]}], \")\"}]}]}}, \n",
       "\n",
       " \n",
       ">           Rule[RowSpacings, 1], Rule[ColumnAlignments, Center], \n",
       "\n",
       " \n",
       ">           Rule[ColumnAlignments, Left]], Column], \"⁠\", \")\"}], \n",
       "\n",
       " \n",
       ">       Function[BoxForm`e$, MatrixForm[BoxForm`e$]]], TraditionalForm]\n"
      ]
     },
     "execution_count": 1648,
     "metadata": {
      "text/html": [],
      "text/plain": []
     },
     "output_type": "execute_result"
    }
   ],
   "source": [
    "RHSEnegryLagrange = - 5/2 Subscript[\\[Epsilon],G] FullSimplify[{\n",
    "  D[fh5rhrh, OverHat[t]] /. OmegaReplace,\n",
    "  D[fh5rhrh, \\[Phi][OverHat[t]]]\n",
    "}, Trig -> True];\n",
    "\n",
    "RHSEnegryLagrange // MatrixForm // TraditionalForm"
   ]
  },
  {
   "cell_type": "markdown",
   "metadata": {},
   "source": [
    "<span style=\"color:brown\">**NB:**</span> Выражения полностью <span style=\"color:green\">**совпадают**</span> с предыдущим ньютоновым подходом!"
   ]
  },
  {
   "cell_type": "code",
   "execution_count": 1649,
   "metadata": {
    "vscode": {
     "languageId": "wolfram"
    }
   },
   "outputs": [
    {
     "data": {
      "text/html": [
       "<div><img alt=\"Output\" src=\"data:image/png;base64,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\"></div>"
      ],
      "text/plain": [
       "0\n",
       "\n",
       "0"
      ]
     },
     "execution_count": 1649,
     "metadata": {
      "text/html": [],
      "text/plain": []
     },
     "output_type": "execute_result"
    }
   ],
   "source": [
    "FullSimplify[RHSEnegryLagrange - RHSEnegry] // MatrixForm"
   ]
  },
  {
   "cell_type": "markdown",
   "metadata": {},
   "source": [
    "В **размерной** же записи наши уравнения превращаются в\n",
    "$$\n",
    "\\begin{align}\n",
    "\\frac{dE}{dt} &=\n",
    "  = - \\frac{1}{5}f_{ij}^{(5)} \\mu \\frac{d(r_i r_j)}{dt}\n",
    "  = - \\frac{1}{5}\\frac{c^5}{G}f_{ij}^{(5)} \\frac{d}{dt}\\left(f_{ij} + \\frac{1}{3} \\delta_{ij}r^2\\right)\n",
    "  = - \\frac{1}{5}\\frac{c^5}{G}f_{ij}^{(5)} \\frac{df_{ij}}{dt}\n",
    "\\\\\n",
    "\\frac{dJ}{dt} &=\n",
    "  = - \\frac{1}{5}f_{ij}^{(5)} \\mu \\frac{d(r_i r_j)}{d\\phi}\n",
    "  = - \\frac{1}{5}\\frac{c^5}{G}f_{ij}^{(5)} \\frac{d}{d\\phi}\\left(f_{ij} + \\frac{1}{3} \\delta_{ij}r^2\\right)\n",
    "  = - \\frac{1}{5}\\frac{c^5}{G}f_{ij}^{(5)} \\frac{df_{ij}}{d\\phi}\n",
    "  = - \\frac{2}{5}\\frac{c^5}{G}\\epsilon_{ij}f_{ik}^{(5)} f_{kj}\n",
    "\\end{align}\n",
    "$$\n",
    "\n",
    "Здесь учтено, что квадрупольный момент бесследовый\n",
    "$$\n",
    "\\begin{align}\n",
    "\\text{Tr}(f_{ij}) &= \\delta_{ij}f_{ij} = 0\n",
    "\\\\\n",
    "\\text{Tr}(f^{(5)}_{ij}) &= \\delta_{ij}f^{(5)}_{ij} = 0\n",
    "\\\\\n",
    "\\end{align}\n",
    "$$"
   ]
  },
  {
   "cell_type": "code",
   "execution_count": 1652,
   "metadata": {
    "vscode": {
     "languageId": "wolfram"
    }
   },
   "outputs": [
    {
     "data": {
      "text/html": [
       "<div><img alt=\"Output\" src=\"data:image/png;base64,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\"></div>"
      ],
      "text/plain": [
       "FormBox[RowBox[{RowBox[{\"-\", FractionBox[\"1\", \"5\"]}], \" \", \n",
       "\n",
       " \n",
       ">        SuperscriptBox[OverscriptBox[\"r\", \"^\"], \"2\"], \" \", \n",
       "\n",
       " \n",
       ">        RowBox[{\"(\", RowBox[{RowBox[{RowBox[{\"sin\", \"(\", RowBox[{\"2\", \" \", \"ϕ\"}], \n",
       "\n",
       " \n",
       ">                \")\"}], \" \", RowBox[{\"(\", \n",
       "\n",
       " \n",
       ">                RowBox[{TemplateBox[List[SubscriptBox[OverscriptBox[\"f\", \"^\"], \n",
       "\n",
       " \n",
       ">                     RowBox[List[\"x\", \",\", \"x\"]]], \"\\\"(5)\\\"\"], \"Superscript\", \n",
       "\n",
       " \n",
       ">                   Rule[SyntaxForm, SuperscriptBox]], \"-\", \n",
       "\n",
       " \n",
       ">                  TemplateBox[List[SubscriptBox[OverscriptBox[\"f\", \"^\"], \n",
       "\n",
       " \n",
       ">                     RowBox[List[\"y\", \",\", \"y\"]]], \"\\\"(5)\\\"\"], \"Superscript\", \n",
       "\n",
       " \n",
       ">                   Rule[SyntaxForm, SuperscriptBox]]}], \")\"}]}], \"-\", \n",
       "\n",
       " \n",
       ">            RowBox[{\"2\", \" \", RowBox[{\"cos\", \"(\", RowBox[{\"2\", \" \", \"ϕ\"}], \")\"}], \" \", \n",
       "\n",
       " \n",
       ">              TemplateBox[List[SubscriptBox[OverscriptBox[\"f\", \"^\"], \n",
       "\n",
       " \n",
       ">                 RowBox[List[\"x\", \",\", \"y\"]]], \"\\\"(5)\\\"\"], \"Superscript\", \n",
       "\n",
       " \n",
       ">               Rule[SyntaxForm, SuperscriptBox]]}]}], \")\"}]}], TraditionalForm]\n"
      ]
     },
     "execution_count": 1652,
     "metadata": {
      "text/html": [],
      "text/plain": []
     },
     "output_type": "execute_result"
    }
   ],
   "source": [
    "(* Доказатество последнего равенства в уравнении для изменениия момента импульса *)\n",
    "leviCivitaArray = Normal[LeviCivitaTensor[2]];\n",
    "-2/5 FullSimplify[EinsteinSummation[{{i, j}, {i, k}, {k, j}}, {leviCivitaArray, fh5, fh}]] // TraditionalForm"
   ]
  },
  {
   "cell_type": "markdown",
   "metadata": {},
   "source": [
    "<span style=\"color:brown\">**NB:**</span> Выражения полностью <span style=\"color:green\">**совпадают**</span>\n",
    "с $dE/dt, dJ/dt$ из задачника Лайтман А., Пресс В., Прайс Р., Тюкольки С. - 1979 - Сборник задач по теории относительности и гравитации (Решение задачи 18.5, стр. 446-447)\n",
    "\n",
    "Не стоит забывать, что в задачнике система геометризированных единиц $G = c = 1$."
   ]
  },
  {
   "cell_type": "markdown",
   "metadata": {},
   "source": [
    "# Итоговая система **энергетических** уравнений:\n",
    "\n",
    "$$\n",
    "\\begin{align}\n",
    "\\tag{dJ/dt}\n",
    "\\frac{d\\hat{J}}{d\\hat{t}} &= -\\frac{1}{2} \\epsilon_G\n",
    "\\hat{r}^2\n",
    "\\left(\n",
    "  \\sin (2 \\phi ) \\left(\\hat{f}_{y,y}{}^{\\text{(5)}}-\\hat{f}_{x,x}{}^{\\text{(5)}}\\right)+2 \\cos (2 \\phi ) \\hat{f}_{x,y}{}^{\\text{(5)}}\n",
    "\\right)\n",
    "= \\epsilon_G I_J\n",
    "\\\\\n",
    "\\tag{dE/dt}\n",
    "\\frac{d\\hat{E}}{d\\hat{t}} &= \\epsilon_G\n",
    "\\left(\n",
    "  I_J\\hat{\\omega}\n",
    "  -\\hat{r} \\hat{r}'\n",
    "  \\left(\n",
    "  \\sin (2 \\phi ) \\hat{f}_{x,y}{}^{\\text{(5)}}+\\cos ^2(\\phi ) \\hat{f}_{x,x}{}^{\\text{(5)}}+\\sin ^2(\\phi ) \\hat{f}_{y,y}{}^{\\text{(5)}}\n",
    "  \\right)\n",
    "\\right)\n",
    "= \\epsilon_G I_E\n",
    "\\end{align}\n",
    "$$"
   ]
  },
  {
   "cell_type": "markdown",
   "metadata": {},
   "source": [
    "# RHS уравнения (dJ/dt)\n",
    "\n",
    "Введём новое обозначение $\\hat{r}^2 \\equiv \\hat{r}_2$"
   ]
  },
  {
   "cell_type": "code",
   "execution_count": 1653,
   "metadata": {
    "vscode": {
     "languageId": "wolfram"
    }
   },
   "outputs": [],
   "source": [
    "ToR2Replacement = {\n",
    "  OverHat[r][OverHat[t]] -> Sqrt[Subscript[OverHat[r],2][OverHat[t]]],\n",
    "  Derivative[n_][OverHat[r]][OverHat[t]] :> D[Sqrt[Subscript[OverHat[r], 2][OverHat[t]]], {OverHat[t], n}]\n",
    "};"
   ]
  },
  {
   "cell_type": "markdown",
   "metadata": {},
   "source": [
    "и подставим в (dJ/dt) значения $\\hat{f}_{i,j}^{(5)}$:"
   ]
  },
  {
   "cell_type": "code",
   "execution_count": 1659,
   "metadata": {
    "vscode": {
     "languageId": "wolfram"
    }
   },
   "outputs": [
    {
     "data": {
      "text/html": [
       "<div><img alt=\"Output\" src=\"data:image/png;base64,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\"></div>"
      ],
      "text/plain": [
       "FormBox[RowBox[{SubscriptBox[OverscriptBox[\"r\", \"^\"], \"2\"], \" \", \n",
       "\n",
       " \n",
       ">        RowBox[{\"(\", RowBox[{RowBox[{\"-\", \n",
       "\n",
       " \n",
       ">              RowBox[{\"5\", \" \", SuperscriptBox[SubscriptBox[OverscriptBox[\"r\", \"^\"], \n",
       "\n",
       " \n",
       ">                  \"2\"], \"′\"], \" \", SuperscriptBox[OverscriptBox[\"ω\", \"^\"], \"′′′\"]}]}], \n",
       "\n",
       " \n",
       ">            \"-\", RowBox[{\"10\", \" \", SuperscriptBox[SubscriptBox[OverscriptBox[\"r\", \n",
       "\n",
       " \n",
       ">                 \"^\"], \"2\"], \"′′′\"], \" \", SuperscriptBox[OverscriptBox[\"ω\", \"^\"],\\\n",
       " \n",
       ">    \"′\"]}]\\\n",
       ", \"+\", RowBox[{\"120\", \" \", SuperscriptBox[OverscriptBox[\"ω\", \"^\"], \"2\"], \"\\\n",
       " \n",
       ">    \", \n",
       "           SuperscriptBox[SubscriptBox[OverscriptBox[\"r\", \"^\"], \"2\"], \"′\"], \"\\\n",
       " \n",
       ">    \", \n",
       "           SuperscriptBox[OverscriptBox[\"ω\", \"^\"], \"′\"]}], \"+\", \n",
       "\n",
       " \n",
       ">            RowBox[{\"60\", \" \", SubscriptBox[OverscriptBox[\"r\", \"^\"], \"2\"], \" \", \n",
       "\n",
       " \n",
       ">              OverscriptBox[\"ω\", \"^\"], \" \", \n",
       "           SuperscriptBox[RowBox[{\"(\", \n",
       "\n",
       " \n",
       ">                 SuperscriptBox[OverscriptBox[\"ω\", \"^\"], \"′\"], \")\"}], \"2\"]}], \"+\", \n",
       "\n",
       " \n",
       ">            RowBox[{\"40\", \" \", SuperscriptBox[OverscriptBox[\"ω\", \"^\"], \"3\"], \" \", \n",
       "\n",
       " \n",
       ">              SuperscriptBox[SubscriptBox[OverscriptBox[\"r\", \"^\"], \"2\"], \"′′\"]}], \"+\", \n",
       "\n",
       " \n",
       ">            RowBox[{\"40\", \" \", SubscriptBox[OverscriptBox[\"r\", \"^\"], \"2\"], \" \", \n",
       "\n",
       " \n",
       ">              SuperscriptBox[OverscriptBox[\"ω\", \"^\"], \"2\"], \" \", \n",
       "\n",
       " \n",
       ">              SuperscriptBox[OverscriptBox[\"ω\", \"^\"], \"′′\"]}], \"-\", \n",
       "\n",
       " \n",
       ">            RowBox[{\"10\", \" \", SuperscriptBox[SubscriptBox[OverscriptBox[\"r\", \"^\"], \n",
       "\n",
       " \n",
       ">                \"2\"], \"′′\"], \" \", SuperscriptBox[OverscriptBox[\"ω\", \"^\"], \"′′\"]}], \"-\",\\\n",
       " \n",
       ">    \n",
       "         RowBox[{\"5\", \" \", OverscriptBox[\"ω\", \"^\"], \" \", \n",
       "\n",
       " \n",
       ">              SuperscriptBox[SubscriptBox[OverscriptBox[\"r\", \"^\"], \"2\"], \"′′′′\"]}],\\\n",
       " \n",
       ">    \"-\", \n",
       "         RowBox[{SubscriptBox[OverscriptBox[\"r\", \"^\"], \"2\"], \" \", \n",
       "\n",
       " \n",
       ">              SuperscriptBox[OverscriptBox[\"ω\", \"^\"], \"′′′′\"]}], \"-\", \n",
       "\n",
       " \n",
       ">            RowBox[{RowBox[{\"16\"}], \" \", SubscriptBox[OverscriptBox[\"r\", \"^\"], \"2\"], \n",
       "\n",
       " \n",
       ">              \" \", SuperscriptBox[OverscriptBox[\"ω\", \"^\"], \"5\"]}]}], \")\"}]}], \n",
       "\n",
       " \n",
       ">      TraditionalForm]\n"
      ]
     },
     "execution_count": 1659,
     "metadata": {
      "text/html": [],
      "text/plain": []
     },
     "output_type": "execute_result"
    }
   ],
   "source": [
    "fh1 = fh /. ToR2Replacement;\n",
    "fh5Symbolic = Simplify[D[fh1, {OverHat[t], 5}], Trig -> True];\n",
    "\n",
    "Fh5Replacement = Flatten[{\n",
    "  Outer[\n",
    "    Superscript[Subscript[OverHat[f], #1, #2], \"(5)\"] -> fh5Symbolic[[#1 /. {x -> 1, y -> 2}, #2 /. {x -> 1, y -> 2}]] &,\n",
    "    {x, y}, {x, y}\n",
    "  ],\n",
    "  ToR2Replacement,\n",
    "  OmegaReplace\n",
    "}];\n",
    "\n",
    "dJdtTemp = RHSEnegryLagrange[[2]] //. Fh5Replacement;\n",
    "dJdt = Subscript[OverHat[r],2][OverHat[t]]*Expand[Simplify[dJdtTemp/Subscript[\\[Epsilon], G], Trig -> True]/Subscript[OverHat[r],2][OverHat[t]]];\n",
    "dJdt // TraditionalForm"
   ]
  },
  {
   "cell_type": "markdown",
   "metadata": {},
   "source": [
    "<span style=\"color:brown\">**NB:**</span> В файле Binary.pdf выводится <span style=\"color:green\">**точно такое же**</span> выражение"
   ]
  },
  {
   "cell_type": "markdown",
   "metadata": {},
   "source": [
    "$$\n",
    "I_J = I_1 = \\hat{r}_2 \\left[ 120\\hat{r}_2^{(1)}\\hat{\\omega}^2\\hat{\\omega}^{(1)} - 5\\hat{r}_2^{(1)}\\hat{\\omega}^{(3)} - 16\\hat{r}_2\\hat{\\omega}^5 - 10\\hat{r}_2^{(2)}\\hat{\\omega}^{(2)} + 60\\hat{r}_2\\hat{\\omega}(\\hat{\\omega}^{(1)})^2\n",
    "- 10\\hat{r}_2^{(3)}\\hat{\\omega}^{(1)} + 40\\hat{r}_2^{(2)}\\hat{\\omega}^3 - 5\\hat{r}_2^{(4)}\\hat{\\omega} - \\hat{r}_2\\hat{\\omega}^{(4)} + 40\\hat{r}_2\\hat{\\omega}^2\\hat{\\omega}^{(2)} \\right]\n",
    "$$"
   ]
  },
  {
   "cell_type": "code",
   "execution_count": 1661,
   "metadata": {
    "vscode": {
     "languageId": "wolfram"
    }
   },
   "outputs": [
    {
     "data": {
      "text/html": [
       "<div><pre style=\"&#102;&#111;&#110;&#116;&#45;&#102;&#97;&#109;&#105;&#108;&#121;&#58;&#32;&#34;&#67;&#111;&#117;&#114;&#105;&#101;&#114;&#32;&#78;&#101;&#119;&#34;&#44;&#67;&#111;&#117;&#114;&#105;&#101;&#114;&#44;&#109;&#111;&#110;&#111;&#115;&#112;&#97;&#99;&#101;&#59;\">&#48;</pre></div>"
      ],
      "text/plain": [
       "0"
      ]
     },
     "execution_count": 1661,
     "metadata": {
      "text/html": [],
      "text/plain": []
     },
     "output_type": "execute_result"
    }
   ],
   "source": [
    "I1 = Subscript[OverHat[r], 2][OverHat[t]] * (\n",
    "    120 * Derivative[1][Subscript[OverHat[r], 2]][OverHat[t]] *\n",
    "    OverHat[\\[Omega]][OverHat[t]]^2 * Derivative[1][OverHat[\\[Omega]]][OverHat[t]]\n",
    "    - 5 * Derivative[1][Subscript[OverHat[r], 2]][OverHat[t]] *\n",
    "    Derivative[3][OverHat[\\[Omega]]][OverHat[t]]\n",
    "    - 16 * Subscript[OverHat[r], 2][OverHat[t]] *\n",
    "    OverHat[\\[Omega]][OverHat[t]]^5\n",
    "    - 10 * Derivative[2][Subscript[OverHat[r], 2]][OverHat[t]] *\n",
    "    Derivative[2][OverHat[\\[Omega]]][OverHat[t]]\n",
    "    + 60 * Subscript[OverHat[r], 2][OverHat[t]] *\n",
    "    OverHat[\\[Omega]][OverHat[t]] * Derivative[1][OverHat[\\[Omega]]][OverHat[t]]^2\n",
    "    - 10 * Derivative[3][Subscript[OverHat[r], 2]][OverHat[t]] *\n",
    "    Derivative[1][OverHat[\\[Omega]]][OverHat[t]]\n",
    "    + 40 * Derivative[2][Subscript[OverHat[r], 2]][OverHat[t]] *\n",
    "    OverHat[\\[Omega]][OverHat[t]]^3\n",
    "    - 5 * Derivative[4][Subscript[OverHat[r], 2]][OverHat[t]] *\n",
    "    OverHat[\\[Omega]][OverHat[t]]\n",
    "    - Subscript[OverHat[r], 2][OverHat[t]] *\n",
    "    Derivative[4][OverHat[\\[Omega]]][OverHat[t]]\n",
    "    + 40 * Subscript[OverHat[r], 2][OverHat[t]] *\n",
    "    OverHat[\\[Omega]][OverHat[t]]^2 * Derivative[2][OverHat[\\[Omega]]][OverHat[t]]\n",
    ");\n",
    "dJdt - I1"
   ]
  },
  {
   "cell_type": "markdown",
   "metadata": {},
   "source": [
    "# RHS уравнения (dE/dt)\n",
    "\n",
    "Подставим в (dE/dt) значения $\\hat{f}_{i,j}^{(5)}$:"
   ]
  },
  {
   "cell_type": "code",
   "execution_count": 1664,
   "metadata": {
    "vscode": {
     "languageId": "wolfram"
    }
   },
   "outputs": [
    {
     "data": {
      "text/html": [
       "<div><img alt=\"Output\" src=\"data:image/png;base64,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\"></div>"
      ],
      "text/plain": [
       "FormBox[RowBox[{FractionBox[\"1\", \"3\"], \" \", \n",
       "\n",
       " \n",
       ">        RowBox[{\"(\", RowBox[{RowBox[{OverscriptBox[\"ω\", \"^\"], \" \", \n",
       "\n",
       " \n",
       ">              RowBox[{\"(\", RowBox[{RowBox[{\"-\", \n",
       "\n",
       " \n",
       ">                    RowBox[{\"3\", \" \", SubscriptBox[OverscriptBox[\"r\", \"^\"], \"2\"], \n",
       "\n",
       " \n",
       ">                      \" \", RowBox[{\"(\", \n",
       "\n",
       " \n",
       ">                        RowBox[{RowBox[{\"10\", \" \", \n",
       "\n",
       " \n",
       ">                            SuperscriptBox[SubscriptBox[OverscriptBox[\"r\", \"^\"], \n",
       "\n",
       " \n",
       ">                              \"2\"], \"′′′\"], \" \", \n",
       "\n",
       " \n",
       ">                            SuperscriptBox[OverscriptBox[\"ω\", \"^\"], \"′\"]}], \"+\", \n",
       "\n",
       " \n",
       ">                          RowBox[{\"10\", \" \", \n",
       "\n",
       " \n",
       ">                            SuperscriptBox[SubscriptBox[OverscriptBox[\"r\", \"^\"], \n",
       "\n",
       " \n",
       ">                              \"2\"], \"′′\"], \" \", \n",
       "\n",
       " \n",
       ">                            SuperscriptBox[OverscriptBox[\"ω\", \"^\"], \"′′\"]}], \"+\", \n",
       "\n",
       " \n",
       ">                          RowBox[{SubscriptBox[OverscriptBox[\"r\", \"^\"], \"2\"], \" \", \n",
       "\n",
       " \n",
       ">                            SuperscriptBox[OverscriptBox[\"ω\", \"^\"], \"′′′′\"]}]}], \")\"}]\\\n",
       "\n",
       " \n",
       ">   }]}], \"+\", RowBox[{\"60\", \" \", SuperscriptBox[RowBox[{\"(\", \n",
       "\n",
       " \n",
       ">                       SuperscriptBox[SubscriptBox[OverscriptBox[\"r\", \"^\"], \"2\"], \n",
       "\n",
       " \n",
       ">                        \"′\"], \")\"}], \"2\"], \" \", \n",
       "\n",
       " \n",
       ">                    SuperscriptBox[OverscriptBox[\"ω\", \"^\"], \"′′\"]}], \"+\", \n",
       "\n",
       " \n",
       ">                  RowBox[{\"90\", \" \", \n",
       "\n",
       " \n",
       ">                    SuperscriptBox[SubscriptBox[OverscriptBox[\"r\", \"^\"], \"2\"], \"′\"], \n",
       "\n",
       " \n",
       ">                    \" \", SuperscriptBox[SubscriptBox[OverscriptBox[\"r\", \"^\"], \"2\"], \n",
       "\n",
       " \n",
       ">                     \"′′\"], \" \", SuperscriptBox[OverscriptBox[\"ω\", \"^\"], \"′\"]}]}],\\\n",
       " \n",
       ">    \")\"}]\\\n",
       "}], \"+\", RowBox[{SuperscriptBox[SubscriptBox[OverscriptBox[\"r\", \"^\"], \"2\"],\\\n",
       " \n",
       ">    \"′\"], \n",
       "           \" \", RowBox[{\"(\", RowBox[{RowBox[{\"30\", \" \", \n",
       "\n",
       " \n",
       ">                    SubscriptBox[OverscriptBox[\"r\", \"^\"], \"2\"], \" \", \n",
       "\n",
       " \n",
       ">                    SuperscriptBox[OverscriptBox[\"ω\", \"^\"], \"′\"], \" \", \n",
       "\n",
       " \n",
       ">                    SuperscriptBox[OverscriptBox[\"ω\", \"^\"], \"′′\"]}], \"+\", \n",
       "\n",
       " \n",
       ">                  RowBox[{\"45\", \" \", \n",
       "\n",
       " \n",
       ">                    SuperscriptBox[SubscriptBox[OverscriptBox[\"r\", \"^\"], \"2\"], \"′\"], \n",
       "\n",
       " \n",
       ">                    \" \", SuperscriptBox[RowBox[{\"(\", \n",
       "\n",
       " \n",
       ">                       SuperscriptBox[OverscriptBox[\"ω\", \"^\"], \"′\"], \")\"}], \"2\"]}], \n",
       "\n",
       " \n",
       ">                  \"-\", SuperscriptBox[SubscriptBox[OverscriptBox[\"r\", \"^\"], \"2\"], \n",
       "\n",
       " \n",
       ">                   \"′′′′′\"]}], \")\"}]}], \"-\", \n",
       "\n",
       " \n",
       ">            RowBox[{\"60\", \" \", SuperscriptBox[OverscriptBox[\"ω\", \"^\"], \"4\"], \" \", \n",
       "\n",
       " \n",
       ">              RowBox[{\"(\", RowBox[{SuperscriptBox[RowBox[{\"(\", \n",
       "\n",
       " \n",
       ">                     SuperscriptBox[SubscriptBox[OverscriptBox[\"r\", \"^\"], \"2\"], \n",
       "\n",
       " \n",
       ">                      \"′\"], \")\"}], \"2\"], \"-\", \n",
       "\n",
       " \n",
       ">                  RowBox[{\"2\", \" \", SubscriptBox[OverscriptBox[\"r\", \"^\"], \"2\"], \" \", \n",
       "\n",
       " \n",
       ">                    SuperscriptBox[SubscriptBox[OverscriptBox[\"r\", \"^\"], \"2\"],\\\n",
       " \n",
       ">    \"′′\"]}]}\\\n",
       "], \")\"}]}], \"+\", RowBox[{\"120\", \" \", SubscriptBox[OverscriptBox[\"r\",\\\n",
       " \n",
       ">    \"^\"], \"2\"], \n",
       "           \" \", SuperscriptBox[OverscriptBox[\"ω\", \"^\"], \"3\"], \" \", \n",
       "\n",
       " \n",
       ">              RowBox[{\"(\", RowBox[{RowBox[{\"2\", \" \", \n",
       "\n",
       " \n",
       ">                    SuperscriptBox[SubscriptBox[OverscriptBox[\"r\", \"^\"], \"2\"], \"′\"], \n",
       "\n",
       " \n",
       ">                    \" \", SuperscriptBox[OverscriptBox[\"ω\", \"^\"], \"′\"]}], \"+\", \n",
       "\n",
       " \n",
       ">                  RowBox[{SubscriptBox[OverscriptBox[\"r\", \"^\"], \"2\"], \" \", \n",
       "\n",
       " \n",
       ">                    SuperscriptBox[OverscriptBox[\"ω\", \"^\"], \"′′\"]}]}], \")\"}]}], \"+\", \n",
       "\n",
       " \n",
       ">            RowBox[{\"15\", \" \", SuperscriptBox[OverscriptBox[\"ω\", \"^\"], \"2\"], \" \", \n",
       "\n",
       " \n",
       ">              RowBox[{\"(\", RowBox[{RowBox[{\"12\", \" \", \n",
       "\n",
       " \n",
       ">                    SubsuperscriptBox[OverscriptBox[\"r\", \"^\"], \"2\", \"2\"], \" \", \n",
       "\n",
       " \n",
       ">                    SuperscriptBox[RowBox[{\"(\", \n",
       "\n",
       " \n",
       ">                       SuperscriptBox[OverscriptBox[\"ω\", \"^\"], \"′\"], \")\"}], \"2\"]}], \n",
       "\n",
       " \n",
       ">                  \"+\", RowBox[{\"2\", \" \", \n",
       "\n",
       " \n",
       ">                    SuperscriptBox[SubscriptBox[OverscriptBox[\"r\", \"^\"], \"2\"], \"′\"], \n",
       "\n",
       " \n",
       ">                    \" \", SuperscriptBox[SubscriptBox[OverscriptBox[\"r\", \"^\"], \"2\"], \n",
       "\n",
       " \n",
       ">                     \"′′′\"]}], \"-\", RowBox[{SubscriptBox[OverscriptBox[\"r\", \"^\"], \n",
       "\n",
       " \n",
       ">                     \"2\"], \" \", SuperscriptBox[SubscriptBox[OverscriptBox[\"r\", \"^\"], \n",
       "\n",
       " \n",
       ">                      \"2\"], \"′′′′\"]}]}], \")\"}]}], \"-\", \n",
       "\n",
       " \n",
       ">            RowBox[{RowBox[{\"48\"}], \" \", \n",
       "\n",
       " \n",
       ">              SubsuperscriptBox[OverscriptBox[\"r\", \"^\"], \"2\", \"2\"], \" \", \n",
       "\n",
       " \n",
       ">              SuperscriptBox[OverscriptBox[\"ω\", \"^\"], \"6\"]}]}], \")\"}]}],\\\n",
       " \n",
       ">    TraditionalForm]\n"
      ]
     },
     "execution_count": 1664,
     "metadata": {
      "text/html": [],
      "text/plain": []
     },
     "output_type": "execute_result"
    }
   ],
   "source": [
    "dEdtTemp = RHSEnegryLagrange[[1]] //. Fh5Replacement;\n",
    "dEdt = Simplify[dEdtTemp/Subscript[\\[Epsilon], G], Trig -> True];\n",
    "dEdt // TraditionalForm"
   ]
  },
  {
   "cell_type": "markdown",
   "metadata": {},
   "source": [
    "<span style=\"color:brown\">**NB:**</span> В файлах Binary.pdf и binary_catch1.pdf выводится <span style=\"color:green\">**точно такие же**</span> выражения для правой части (dE/dt),\n",
    "а именно $I_E = I_1\\hat{\\omega} + I_2\\frac{\\dot{r}}{r}$, где\n",
    "$$\n",
    "I_2 = 2\\hat{r}_2 \\left[ -40\\hat{r}_2\\hat{\\omega}^3\\hat{\\omega}^{(1)} - 20\\hat{\\omega}^4\\hat{r}_2^{(1)} + 5\\hat{r}_2\\hat{\\omega}\\hat{\\omega}^{(3)} + 10\\hat{r}_2\\hat{\\omega}^{(1)}\\hat{\\omega}^{(2)} + 10\\hat{\\omega}^2\\hat{r}_2^{(3)} + 30\\hat{\\omega}\\hat{\\omega}^{(1)}\\hat{r}_2^{(2)} + 20\\hat{\\omega}\\hat{\\omega}^{(2)}\\hat{r}_2^{(1)} + 15\\hat{r}_2^{(1)}(\\hat{\\omega}^{(1)})^2 - \\frac{1}{3}\\hat{r}_2^{(5)} \\right]\n",
    "$$"
   ]
  },
  {
   "cell_type": "code",
   "execution_count": 1666,
   "metadata": {
    "vscode": {
     "languageId": "wolfram"
    }
   },
   "outputs": [
    {
     "data": {
      "text/html": [
       "<div><pre style=\"&#102;&#111;&#110;&#116;&#45;&#102;&#97;&#109;&#105;&#108;&#121;&#58;&#32;&#34;&#67;&#111;&#117;&#114;&#105;&#101;&#114;&#32;&#78;&#101;&#119;&#34;&#44;&#67;&#111;&#117;&#114;&#105;&#101;&#114;&#44;&#109;&#111;&#110;&#111;&#115;&#112;&#97;&#99;&#101;&#59;\">&#48;</pre></div>"
      ],
      "text/plain": [
       "0"
      ]
     },
     "execution_count": 1666,
     "metadata": {
      "text/html": [],
      "text/plain": []
     },
     "output_type": "execute_result"
    }
   ],
   "source": [
    "I2 = 2 * Subscript[OverHat[r], 2][OverHat[t]] * (\n",
    "    -40 * Subscript[OverHat[r], 2][OverHat[t]] *\n",
    "    OverHat[\\[Omega]][OverHat[t]]^3 * Derivative[1][OverHat[\\[Omega]]][OverHat[t]]\n",
    "    - 20 * OverHat[\\[Omega]][OverHat[t]]^4 *\n",
    "    Derivative[1][Subscript[OverHat[r], 2]][OverHat[t]]\n",
    "    + 5 * Subscript[OverHat[r], 2][OverHat[t]] *\n",
    "    OverHat[\\[Omega]][OverHat[t]] * Derivative[3][OverHat[\\[Omega]]][OverHat[t]]\n",
    "    + 10 * Subscript[OverHat[r], 2][OverHat[t]] *\n",
    "    Derivative[1][OverHat[\\[Omega]]][OverHat[t]] *\n",
    "    Derivative[2][OverHat[\\[Omega]]][OverHat[t]]\n",
    "    + 10 * OverHat[\\[Omega]][OverHat[t]]^2 *\n",
    "    Derivative[3][Subscript[OverHat[r], 2]][OverHat[t]]\n",
    "    + 30 * OverHat[\\[Omega]][OverHat[t]] *\n",
    "    Derivative[1][OverHat[\\[Omega]]][OverHat[t]] *\n",
    "    Derivative[2][Subscript[OverHat[r], 2]][OverHat[t]]\n",
    "    + 20 * OverHat[\\[Omega]][OverHat[t]] *\n",
    "    Derivative[2][OverHat[\\[Omega]]][OverHat[t]] *\n",
    "    Derivative[1][Subscript[OverHat[r], 2]][OverHat[t]]\n",
    "    + 15 * Derivative[1][Subscript[OverHat[r], 2]][OverHat[t]] *\n",
    "    Derivative[1][OverHat[\\[Omega]]][OverHat[t]]^2\n",
    "    - (1/3) * Derivative[5][Subscript[OverHat[r], 2]][OverHat[t]]\n",
    ");\n",
    "Simplify[(I2*D[OverHat[r][OverHat[t]], OverHat[t]]/OverHat[r][OverHat[t]] + I1*OverHat[\\[Omega]][OverHat[t]] /. ToR2Replacement) - dEdt]"
   ]
  },
  {
   "cell_type": "markdown",
   "metadata": {},
   "source": [
    "# Итоговые $I_J$, $I_E$\n",
    "\n",
    "$$\n",
    "\\begin{align}\n",
    "\\tag{IJ}\\\n",
    "I_J &= \\hat{r}_2 \\left[ 120\\hat{r}_2^{(1)}\\hat{\\omega}^2\\hat{\\omega}^{(1)} - 5\\hat{r}_2^{(1)}\\hat{\\omega}^{(3)} - 16\\hat{r}_2\\hat{\\omega}^5 - 10\\hat{r}_2^{(2)}\\hat{\\omega}^{(2)} + 60\\hat{r}_2\\hat{\\omega}(\\hat{\\omega}^{(1)})^2\n",
    "- 10\\hat{r}_2^{(3)}\\hat{\\omega}^{(1)} + 40\\hat{r}_2^{(2)}\\hat{\\omega}^3 - 5\\hat{r}_2^{(4)}\\hat{\\omega} - \\hat{r}_2\\hat{\\omega}^{(4)} + 40\\hat{r}_2\\hat{\\omega}^2\\hat{\\omega}^{(2)} \\right]\n",
    "\\\\\n",
    "\\tag{IE}\n",
    "I_E &= I_J\\hat{\\omega} + \\hat{r}_2^{(1)} \\left[ -40\\hat{r}_2\\hat{\\omega}^3\\hat{\\omega}^{(1)} - 20\\hat{\\omega}^4\\hat{r}_2^{(1)} + 5\\hat{r}_2\\hat{\\omega}\\hat{\\omega}^{(3)} + 10\\hat{r}_2\\hat{\\omega}^{(1)}\\hat{\\omega}^{(2)} + 10\\hat{\\omega}^2\\hat{r}_2^{(3)} + 30\\hat{\\omega}\\hat{\\omega}^{(1)}\\hat{r}_2^{(2)} + 20\\hat{\\omega}\\hat{\\omega}^{(2)}\\hat{r}_2^{(1)} + 15\\hat{r}_2^{(1)}(\\hat{\\omega}^{(1)})^2 - \\frac{1}{3}\\hat{r}_2^{(5)} \\right]\n",
    "\\end{align}\n",
    "$$"
   ]
  },
  {
   "cell_type": "markdown",
   "metadata": {
    "vscode": {
     "languageId": "wolfram"
    }
   },
   "source": [
    "# Потеря энергии за один период обращения"
   ]
  },
  {
   "cell_type": "markdown",
   "metadata": {},
   "source": [
    "Энергию гравитационного излучени невозможно локализовать в области меньше длины одной волны.\n",
    "\n",
    "Поэтому мгновенные изменения энергии и момента не имеют физического смысла.\n",
    "\n",
    "Однако, если мы просуммируем энергию и момент по полному периоду обращения, то с такими величинами можно работать.\n",
    "\n",
    "Рассчитаем в **нулевом приближении**, сколько энергии уносится из системы\n",
    "\n",
    "гравитационными волнами за один полный оборот, интегрируя по ньютоновской гиперболической траектории\n",
    "\n",
    "начиная с момента, когда тело \"бесконечно\" далеко, до момента минимального сближения и обратно:\n",
    "$$\n",
    "\\Delta \\hat{E} = 2 \\epsilon_G \\int\\limits_{\\hat{t}_{\\text{min}}}^{\\infty}I_E(\\hat{t}) d \\hat{t}.\n",
    "$$"
   ]
  },
  {
   "cell_type": "markdown",
   "metadata": {},
   "source": [
    "В приближении Ньютона $I_J$ и $I_E$ равны нулю.\n",
    "Тогда и момент импульса и энергия сохраняются.\n",
    "\n",
    "$\\hat{J} = |\\vec{\\hat{r}} \\times \\vec{\\hat{v}}| = |\\vec{\\hat{r}}_\\infty \\times \\vec{\\hat{v}}_\\infty| = \\hat{r}\\hat{v}_\\infty \\sin(\\phi)$\n",
    "\n",
    "Так как $\\phi = \\pi/2$ на бесконечности, то $\\hat{J} = b\\hat{v}_\\infty = u$,\n",
    "то $u$ - безразмерная скорость на бесконечности.\n",
    "\n",
    "Отсюда следует, что $\\hat{\\omega} = \\frac{u}{\\hat{r}_2}$"
   ]
  },
  {
   "cell_type": "code",
   "execution_count": 1667,
   "metadata": {
    "vscode": {
     "languageId": "wolfram"
    }
   },
   "outputs": [],
   "source": [
    "OmegaReplace2 = {\n",
    "   OverHat[\\[Omega]][OverHat[t]] -> u/Subscript[OverHat[r], 2][OverHat[t]],\n",
    "   Derivative[n_][OverHat[\\[Omega]]][OverHat[t]] :> u D[1/Subscript[OverHat[r], 2][OverHat[t]], {OverHat[t], n}]\n",
    "};"
   ]
  },
  {
   "cell_type": "markdown",
   "metadata": {},
   "source": [
    "Заменим переменные\n",
    "$$\n",
    "\\Delta \\hat{E} = - 2 \\epsilon_G \\int\\limits_{\\hat{r}_2^{\\text{min}}}^{\\infty}\\frac{I_E(\\hat{r}_2)}{\\hat{r}_2^{(1)}}d \\hat{r}_2,\n",
    "$$"
   ]
  },
  {
   "cell_type": "markdown",
   "metadata": {},
   "source": [
    "Здесь $\\hat{r}_2^{\\text{min}}$ - квадрат минимального расстояния между объектами:"
   ]
  },
  {
   "cell_type": "code",
   "execution_count": 1669,
   "metadata": {
    "vscode": {
     "languageId": "wolfram"
    }
   },
   "outputs": [
    {
     "data": {
      "text/html": [
       "<div><img alt=\"Output\" src=\"data:image/png;base64,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\"></div>"
      ],
      "text/plain": [
       "FormBox[FractionBox[RowBox[{SuperscriptBox[\"u\", \"4\"], \"-\", \n",
       "\n",
       " \n",
       ">         RowBox[{\"2\", \" \", SqrtBox[RowBox[{SuperscriptBox[\"u\", \"4\"], \"+\", \"1\"}]]}],\\\n",
       " \n",
       ">    \"+\", \n",
       "      \"2\"}], SuperscriptBox[\"u\", \"4\"]], TraditionalForm]\n"
      ]
     },
     "execution_count": 1669,
     "metadata": {
      "text/html": [],
      "text/plain": []
     },
     "output_type": "execute_result"
    }
   ],
   "source": [
    "rMin2[u_] := (2 + u^4 - 2 Sqrt[1 + u^4])/u^4;\n",
    "rMin2[u] // TraditionalForm"
   ]
  },
  {
   "cell_type": "code",
   "execution_count": 1672,
   "metadata": {
    "vscode": {
     "languageId": "wolfram"
    }
   },
   "outputs": [
    {
     "data": {
      "text/html": [
       "<div><img alt=\"Output\" src=\"data:image/png;base64,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\"></div>"
      ],
      "text/plain": [
       "FormBox[RowBox[{FractionBox[RowBox[{\"16\", \" \", SuperscriptBox[\"u\", \"6\"]}], \n",
       "\n",
       " \n",
       ">         RowBox[{SubsuperscriptBox[OverscriptBox[\"r\", \"^\"], \"2\", \"4\"], \" \", \n",
       "\n",
       " \n",
       ">           SuperscriptBox[SubscriptBox[OverscriptBox[\"r\", \"^\"], \"2\"], \"′\"]}]], \"-\", \n",
       "\n",
       " \n",
       ">        FractionBox[RowBox[{\"40\", \" \", SuperscriptBox[\"u\", \"4\"], \" \", \n",
       "\n",
       " \n",
       ">           SuperscriptBox[SubscriptBox[OverscriptBox[\"r\", \"^\"], \"2\"], \"′\"]}], \n",
       "\n",
       " \n",
       ">         SubsuperscriptBox[OverscriptBox[\"r\", \"^\"], \"2\", \"4\"]], \"-\", \n",
       "\n",
       " \n",
       ">        FractionBox[RowBox[{\"4\", \" \", SuperscriptBox[\"u\", \"2\"], \" \", \n",
       "\n",
       " \n",
       ">           SuperscriptBox[RowBox[{\"(\", \n",
       "\n",
       " \n",
       ">              SuperscriptBox[SubscriptBox[OverscriptBox[\"r\", \"^\"], \"2\"], \"′′\"], \")\"}], \n",
       "\n",
       " \n",
       ">            \"2\"]}], RowBox[{SubsuperscriptBox[OverscriptBox[\"r\", \"^\"], \"2\", \"2\"], \" \", \n",
       "\n",
       " \n",
       ">           SuperscriptBox[SubscriptBox[OverscriptBox[\"r\", \"^\"], \"2\"], \"′\"]}]], \"+\", \n",
       "\n",
       " \n",
       ">        FractionBox[RowBox[{\"24\", \" \", SuperscriptBox[\"u\", \"2\"], \" \", \n",
       "\n",
       " \n",
       ">           SuperscriptBox[SubscriptBox[OverscriptBox[\"r\", \"^\"], \"2\"], \"′\"], \" \", \n",
       "\n",
       " \n",
       ">           SuperscriptBox[SubscriptBox[OverscriptBox[\"r\", \"^\"], \"2\"], \"′′\"]}], \n",
       "\n",
       " \n",
       ">         SubsuperscriptBox[OverscriptBox[\"r\", \"^\"], \"2\", \"3\"]], \"+\", \n",
       "\n",
       " \n",
       ">        FractionBox[RowBox[{\"4\", \" \", SuperscriptBox[\"u\", \"2\"], \" \", \n",
       "\n",
       " \n",
       ">           SuperscriptBox[SubscriptBox[OverscriptBox[\"r\", \"^\"], \"2\"], \"′′′′\"]}], \n",
       "\n",
       " \n",
       ">         RowBox[{SubscriptBox[OverscriptBox[\"r\", \"^\"], \"2\"], \" \", \n",
       "\n",
       " \n",
       ">           SuperscriptBox[SubscriptBox[OverscriptBox[\"r\", \"^\"], \"2\"], \"′\"]}]], \"-\", \n",
       "\n",
       " \n",
       ">        FractionBox[RowBox[{\"11\", \" \", SuperscriptBox[\"u\", \"2\"], \" \", \n",
       "\n",
       " \n",
       ">           SuperscriptBox[RowBox[{\"(\", \n",
       "\n",
       " \n",
       ">              SuperscriptBox[SubscriptBox[OverscriptBox[\"r\", \"^\"], \"2\"], \"′\"], \")\"}], \n",
       "\n",
       " \n",
       ">            \"3\"]}], SubsuperscriptBox[OverscriptBox[\"r\", \"^\"], \"2\", \"4\"]], \"-\", \n",
       "\n",
       " \n",
       ">        FractionBox[RowBox[{\"12\", \" \", SuperscriptBox[\"u\", \"2\"], \" \", \n",
       "\n",
       " \n",
       ">           SuperscriptBox[SubscriptBox[OverscriptBox[\"r\", \"^\"], \"2\"], \"′′′\"]}], \n",
       "\n",
       " \n",
       ">         SubsuperscriptBox[OverscriptBox[\"r\", \"^\"], \"2\", \"2\"]], \"+\", \n",
       "\n",
       " \n",
       ">        FractionBox[SuperscriptBox[SubscriptBox[OverscriptBox[\"r\", \"^\"], \"2\"],\\\n",
       " \n",
       ">    \"′′′′′\"], \n",
       "      \"3\"]}], TraditionalForm]\n"
      ]
     },
     "execution_count": 1672,
     "metadata": {
      "text/html": [],
      "text/plain": []
     },
     "output_type": "execute_result"
    }
   ],
   "source": [
    "(* Минус учтём сразу *)\n",
    "dEdr = Simplify[-dEdt/D[Subscript[OverHat[r], 2][OverHat[t]], OverHat[t]] //. OmegaReplace2];\n",
    "Expand[Simplify[dEdr]] // TraditionalForm"
   ]
  },
  {
   "cell_type": "markdown",
   "metadata": {},
   "source": [
    "<span style=\"color:brown\">**NB:**</span> Выражение для $dE/dr$ <span style=\"color:green\">**сопадает**</span> с выраженем для интегранта из binary_catch1.pdf, если учесть деление на $\\hat{r}_2^{(1)}$"
   ]
  },
  {
   "cell_type": "markdown",
   "metadata": {},
   "source": [
    "Из сохранения энергии следует, что\n",
    "$\\hat{E} = \\hat{E}_\\infty = \\frac{u^2}{2} = \\left(\\frac{(\\hat{r}^{(1)})^2}{2} + \\frac{\\hat{r}^2 \\hat{\\omega}^2}{2} - \\frac{1}{\\hat{r}}\\right)$\n",
    "\n",
    "Тогда можно найти $\\hat{r}_2^{(1)}$:"
   ]
  },
  {
   "cell_type": "code",
   "execution_count": 1675,
   "metadata": {
    "vscode": {
     "languageId": "wolfram"
    }
   },
   "outputs": [
    {
     "data": {
      "text/html": [
       "<div><img alt=\"Output\" src=\"data:image/png;base64,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\"></div>"
      ],
      "text/plain": [
       "FormBox[RowBox[{RowBox[{\"-\", \"2\"}], \" \", \n",
       "\n",
       " \n",
       ">        SqrtBox[RowBox[{RowBox[{SubscriptBox[OverscriptBox[\"r\", \"^\"], \"2\"], \" \", \n",
       "\n",
       " \n",
       ">             SuperscriptBox[\"u\", \"2\"]}], \"+\", \n",
       "\n",
       " \n",
       ">           RowBox[{\"2\", \" \", SqrtBox[SubscriptBox[OverscriptBox[\"r\", \"^\"], \"2\"]]}],\\\n",
       " \n",
       ">    \"-\", \n",
       "        SuperscriptBox[\"u\", \"2\"]}]]}], TraditionalForm]\n"
      ]
     },
     "execution_count": 1675,
     "metadata": {
      "text/html": [],
      "text/plain": []
     },
     "output_type": "execute_result"
    }
   ],
   "source": [
    "eq = Energy - u^2/2 //. Flatten[{\n",
    "  ToR2Replacement,\n",
    "  OmegaReplace2,\n",
    "  D[Subscript[OverHat[r], 2][OverHat[t]], OverHat[t]]^2 -> x^2\n",
    "}];\n",
    "\n",
    "sol = Solve[eq == 0, x][[1]];\n",
    "\n",
    "x /. sol[[1]] // TraditionalForm"
   ]
  },
  {
   "cell_type": "markdown",
   "metadata": {},
   "source": [
    "А также $\\hat{r}_2^{(i)}$ для $i = 1\\dots5$"
   ]
  },
  {
   "cell_type": "code",
   "execution_count": 1679,
   "metadata": {
    "vscode": {
     "languageId": "wolfram"
    }
   },
   "outputs": [
    {
     "data": {
      "text/html": [
       "<div><img alt=\"Output\" src=\"data:image/png;base64,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\"></div>"
      ],
      "text/plain": [
       "FormBox[RowBox[{\"{\", RowBox[{RowBox[{RowBox[{\"-\", \"2\"}], \" \", \n",
       "\n",
       " \n",
       ">            SqrtBox[RowBox[{RowBox[{SubscriptBox[OverscriptBox[\"r\", \"^\"], \"2\"], \" \", \n",
       "\n",
       " \n",
       ">                 SuperscriptBox[\"u\", \"2\"]}], \"+\", \n",
       "\n",
       " \n",
       ">               RowBox[{\"2\", \" \", SqrtBox[SubscriptBox[OverscriptBox[\"r\", \"^\"], \"2\"]]}],\\\n",
       " \n",
       ">    \n",
       "            \"-\", SuperscriptBox[\"u\", \"2\"]}]]}], \",\", \n",
       "\n",
       " \n",
       ">          RowBox[{\"2\", \" \", RowBox[{\"(\", \n",
       "           RowBox[{FractionBox[\"1\", \n",
       "\n",
       " \n",
       ">                 SqrtBox[SubscriptBox[OverscriptBox[\"r\", \"^\"], \"2\"]]], \"+\", \n",
       "\n",
       " \n",
       ">                SuperscriptBox[\"u\", \"2\"]}], \")\"}]}], \",\", \n",
       "\n",
       " \n",
       ">          FractionBox[RowBox[{\"2\", \" \", \n",
       "\n",
       " \n",
       ">             SqrtBox[RowBox[{RowBox[{SubscriptBox[OverscriptBox[\"r\", \"^\"], \"2\"], \" \", \n",
       "\n",
       " \n",
       ">                  SuperscriptBox[\"u\", \"2\"]}], \"+\", \n",
       "\n",
       " \n",
       ">                RowBox[{\"2\", \" \", SqrtBox[SubscriptBox[OverscriptBox[\"r\", \"^\"], \n",
       "\n",
       " \n",
       ">                    \"2\"]]}], \"-\", SuperscriptBox[\"u\", \"2\"]}]]}], \n",
       "\n",
       " \n",
       ">           SubsuperscriptBox[OverscriptBox[\"r\", \"^\"], \"2\", RowBox[{\"3\", \"/\", \"2\"}]]], \n",
       "\n",
       " \n",
       ">          \",\", FractionBox[RowBox[{\"2\", \" \", \n",
       "\n",
       " \n",
       ">             RowBox[{\"(\", RowBox[{RowBox[{\"2\", \" \", \n",
       "\n",
       " \n",
       ">                   SubscriptBox[OverscriptBox[\"r\", \"^\"], \"2\"], \" \", \n",
       "\n",
       " \n",
       ">                   SuperscriptBox[\"u\", \"2\"]}], \"+\", \n",
       "\n",
       " \n",
       ">                 RowBox[{\"5\", \" \", SqrtBox[SubscriptBox[OverscriptBox[\"r\", \"^\"], \n",
       "\n",
       " \n",
       ">                     \"2\"]]}], \"-\", RowBox[{\"3\", \" \", SuperscriptBox[\"u\", \"2\"]}]}],\\\n",
       " \n",
       ">    \")\"}\\\n",
       "]}], SubsuperscriptBox[OverscriptBox[\"r\", \"^\"], \"2\", RowBox[{\"5\", \"/\",\\\n",
       " \n",
       ">    \"2\"}]]], \",\", \n",
       "       FractionBox[RowBox[{\"2\", \" \", \n",
       "\n",
       " \n",
       ">             SqrtBox[RowBox[{RowBox[{SubscriptBox[OverscriptBox[\"r\", \"^\"], \"2\"], \" \", \n",
       "\n",
       " \n",
       ">                  SuperscriptBox[\"u\", \"2\"]}], \"+\", \n",
       "\n",
       " \n",
       ">                RowBox[{\"2\", \" \", SqrtBox[SubscriptBox[OverscriptBox[\"r\", \"^\"], \n",
       "\n",
       " \n",
       ">                    \"2\"]]}], \"-\", SuperscriptBox[\"u\", \"2\"]}]], \" \", \n",
       "\n",
       " \n",
       ">             RowBox[{\"(\", RowBox[{RowBox[{\"6\", \" \", \n",
       "\n",
       " \n",
       ">                   SubscriptBox[OverscriptBox[\"r\", \"^\"], \"2\"], \" \", \n",
       "\n",
       " \n",
       ">                   SuperscriptBox[\"u\", \"2\"]}], \"+\", \n",
       "\n",
       " \n",
       ">                 RowBox[{\"20\", \" \", SqrtBox[SubscriptBox[OverscriptBox[\"r\", \"^\"], \n",
       "\n",
       " \n",
       ">                     \"2\"]]}], \"-\", RowBox[{\"15\", \" \", SuperscriptBox[\"u\", \"2\"]}]}],\\\n",
       " \n",
       ">    \")\"}\\\n",
       "]}], SubsuperscriptBox[OverscriptBox[\"r\", \"^\"], \"2\", RowBox[{\"7\", \"/\",\\\n",
       " \n",
       ">    \"2\"}]]]}], \"}\"}]\\\n",
       ", TraditionalForm]\n"
      ]
     },
     "execution_count": 1679,
     "metadata": {
      "text/html": [],
      "text/plain": []
     },
     "output_type": "execute_result"
    }
   ],
   "source": [
    "replacementRule = D[Subscript[OverHat[r], 2][OverHat[t]], OverHat[t]] :> x /. sol[[1]];\n",
    "\n",
    "(* Рекурсивно вычисляем производные *)\n",
    "dr2 = NestList[\n",
    "   Simplify[D[#, OverHat[t]] /. replacementRule] &,\n",
    "   x /. sol[[1]],\n",
    "   4\n",
    "];\n",
    "\n",
    "dr2 // TraditionalForm"
   ]
  },
  {
   "cell_type": "markdown",
   "metadata": {},
   "source": [
    "Заменяя вхождение **всех** производных в выражении для $dE/dr$, получим"
   ]
  },
  {
   "cell_type": "code",
   "execution_count": 1681,
   "metadata": {
    "vscode": {
     "languageId": "wolfram"
    }
   },
   "outputs": [
    {
     "data": {
      "text/html": [
       "<div><img alt=\"Output\" src=\"data:image/png;base64,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\"></div>"
      ],
      "text/plain": [
       "FormBox[FractionBox[RowBox[{\"2\", \" \", \n",
       "      RowBox[{\"(\", RowBox[{RowBox[{\"6\", \" \", \n",
       "\n",
       " \n",
       ">               SubsuperscriptBox[OverscriptBox[\"r\", \"^\"], \"2\", \"2\"], \" \", \n",
       "\n",
       " \n",
       ">               SuperscriptBox[\"u\", \"4\"]}], \"+\", \n",
       "\n",
       " \n",
       ">             RowBox[{SubscriptBox[OverscriptBox[\"r\", \"^\"], \"2\"], \" \", \n",
       "\n",
       " \n",
       ">               RowBox[{\"(\", RowBox[{RowBox[{\"51\", \" \", SuperscriptBox[\"u\", \"4\"]}], \n",
       "\n",
       " \n",
       ">                   \"+\", \"40\"}], \")\"}]}], \"+\", \n",
       "\n",
       " \n",
       ">             RowBox[{\"32\", \" \", SubsuperscriptBox[OverscriptBox[\"r\", \"^\"], \"2\", \n",
       "\n",
       " \n",
       ">                RowBox[{\"3\", \"/\", \"2\"}]], \" \", SuperscriptBox[\"u\", \"2\"]}], \"+\", \n",
       "\n",
       " \n",
       ">             RowBox[{\"100\", \" \", SqrtBox[SubscriptBox[OverscriptBox[\"r\", \"^\"], \"2\"]], \n",
       "\n",
       " \n",
       ">               \" \", SuperscriptBox[\"u\", \"2\"]}], \"-\", \n",
       "\n",
       " \n",
       ">             RowBox[{\"75\", \" \", SuperscriptBox[\"u\", \"4\"]}]}], \")\"}]}], \n",
       "\n",
       " \n",
       ">       RowBox[{\"3\", \" \", SubsuperscriptBox[OverscriptBox[\"r\", \"^\"], \"2\", \n",
       "\n",
       " \n",
       ">          RowBox[{\"7\", \"/\", \"2\"}]], \" \", \n",
       "\n",
       " \n",
       ">         SqrtBox[RowBox[{RowBox[{SubscriptBox[OverscriptBox[\"r\", \"^\"], \"2\"], \" \", \n",
       "\n",
       " \n",
       ">              SuperscriptBox[\"u\", \"2\"]}], \"+\", \n",
       "\n",
       " \n",
       ">            RowBox[{\"2\", \" \", SqrtBox[SubscriptBox[OverscriptBox[\"r\", \"^\"], \"2\"]]}],\\\n",
       " \n",
       ">    \"-\", \n",
       "         SuperscriptBox[\"u\", \"2\"]}]]}]], TraditionalForm]\n"
      ]
     },
     "execution_count": 1681,
     "metadata": {
      "text/html": [],
      "text/plain": []
     },
     "output_type": "execute_result"
    }
   ],
   "source": [
    "dEdrFinal = Fold[ (* Последовательно применяем замены *)\n",
    "  Simplify[#1 /.\n",
    "    D[Subscript[OverHat[r], 2][OverHat[t]], {OverHat[t], #2}] -> dr2[[#2]]] &,\n",
    "  dEdr,\n",
    "  Range[5]\n",
    "];\n",
    "\n",
    "Simplify[dEdrFinal] // TraditionalForm"
   ]
  },
  {
   "cell_type": "markdown",
   "metadata": {},
   "source": [
    "$$\n",
    "  \\Delta \\hat{E}(u) = \\epsilon_G \\frac{4}{3}\\int\\limits_{\\hat{r}_2^\\text{min}}^\\infty \\frac{32 \\hat{r}_2^{3/2} u^2+6 \\hat{r}_2^2 u^4+\\hat{r}_2 \\left(51 u^4+40\\right)+100 \\sqrt{\\hat{r}_2} u^2-75 u^4}{\\hat{r}_2^{7/2} \\sqrt{\\hat{r}_2 u^2+2 \\sqrt{\\hat{r}_2}-u^2}} \\, d\\hat{r}_2,\n",
    "$$\n",
    "где при $\\hat{r}_2 \\ge \\hat{r}_2^{\\text{min}}$ выражение $\\hat{r}_2u^2 + 2\\sqrt{\\hat{r}_2} - u^2 \\ge 0$."
   ]
  },
  {
   "cell_type": "markdown",
   "metadata": {},
   "source": [
    "Полученный выше интеграл **компактнее**, чем тот, что рассмотрен в файле binary_catch2.pdf\n",
    "$$\n",
    "  \\Delta \\hat{E}(u) = \\epsilon_G \\frac{4}{3}\\int\\limits_{\\hat{r}_2^\\text{min}}^\\infty \\frac{24\\hat{r}_2^2u^6 + 48u^6\\hat{r}_2 + 120\\hat{r}_2^{3/2}u^4 - 96u^6 + 96u^4\\sqrt{\\hat{r}_2} - u^2\\hat{r}_2^2 + 133u^2\\hat{r}_2 - 2\\hat{r}_2^{3/2}}{\\hat{r}_2^4\\sqrt{u^2\\hat{r}_2 + 2\\sqrt{\\hat{r}_2} - u^2}} \\, d\\hat{r}_2,\n",
    "$$"
   ]
  },
  {
   "cell_type": "markdown",
   "metadata": {},
   "source": [
    "<span style=\"color:brown\">**NB:**</span> Однако, будучи аналитически взятым будет полностью <span style=\"color:green\">**совпадать!**</span>\n",
    "\n",
    "Смотри подробности в файле binary_catch_integral.ipynb\n",
    " \n",
    "Там компактный интеграл назван $I_5$, а второй $I_4$.\n",
    "\n",
    "Выпишем ответ:"
   ]
  },
  {
   "cell_type": "code",
   "execution_count": 1683,
   "metadata": {
    "vscode": {
     "languageId": "wolfram"
    }
   },
   "outputs": [
    {
     "data": {
      "text/html": [
       "<div><img alt=\"Output\" src=\"data:image/png;base64,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\"></div>"
      ],
      "text/plain": [
       "FormBox[RowBox[{\"-\", FractionBox[RowBox[{SubscriptBox[\"ϵ\", \"G\"], \" \", \n",
       "\n",
       " \n",
       ">           RowBox[{\"(\", RowBox[{RowBox[{RowBox[{\"(\", \n",
       "\n",
       " \n",
       ">                   RowBox[{RowBox[{\"673\", \" \", SuperscriptBox[\"u\", \"4\"]}], \"+\", \n",
       "\n",
       " \n",
       ">                     \"1275\"}], \")\"}], \" \", SuperscriptBox[\"u\", \"2\"]}], \"+\", \n",
       "\n",
       " \n",
       ">               RowBox[{\"3\", \" \", RowBox[{\"(\", \n",
       "\n",
       " \n",
       ">                   RowBox[{RowBox[{\"37\", \" \", SuperscriptBox[\"u\", \"8\"]}], \"+\", \n",
       "\n",
       " \n",
       ">                     RowBox[{\"366\", \" \", SuperscriptBox[\"u\", \"4\"]}], \"+\", \"425\"}],\\\n",
       " \n",
       ">    \")\"}\\\n",
       "], \" \", RowBox[{\"(\", RowBox[{RowBox[{SuperscriptBox[\"tan\", RowBox[{\"-\",\\\n",
       " \n",
       ">    \"1\"}]], \n",
       "                    \"(\", FractionBox[\"1\", SuperscriptBox[\"u\", \"2\"]],\\\n",
       " \n",
       ">    \")\"}], \"+\", \n",
       "                  FractionBox[\"π\", \"2\"]}], \")\"}]}]}], \")\"}]}], \n",
       "\n",
       " \n",
       ">         RowBox[{\"9\", \" \", SuperscriptBox[\"u\", \"7\"]}]]}], TraditionalForm]\n"
      ]
     },
     "execution_count": 1683,
     "metadata": {
      "text/html": [],
      "text/plain": []
     },
     "output_type": "execute_result"
    }
   ],
   "source": [
    "DeltaE = -Subscript[\\[Epsilon], G]/9*(u^2*(1275 + 673*u^4) + 3*(425 + 366*u^4 + 37*u^8)*(Pi/2 + ArcTan[u^(-2)]))/u^7;\n",
    "DeltaE // TraditionalForm"
   ]
  },
  {
   "cell_type": "code",
   "execution_count": 1684,
   "metadata": {
    "vscode": {
     "languageId": "wolfram"
    }
   },
   "outputs": [
    {
     "data": {
      "text/html": [
       "<div>&#36;&#36;&#45;&#92;&#102;&#114;&#97;&#99;&#123;&#92;&#101;&#112;&#115;&#105;&#108;&#111;&#110;&#32;&#95;&#71;&#32;&#92;&#108;&#101;&#102;&#116;&#40;&#92;&#108;&#101;&#102;&#116;&#40;&#54;&#55;&#51;&#32;&#117;&#94;&#52;&#43;&#49;&#50;&#55;&#53;&#92;&#114;&#105;&#103;&#104;&#116;&#41;&#32;&#117;&#94;&#50;&#43;&#51;&#32;&#92;&#108;&#101;&#102;&#116;&#40;&#51;&#55;&#32;&#117;&#94;&#56;&#43;&#51;&#54;&#54;&#32;&#117;&#94;&#52;&#43;&#52;&#50;&#53;&#92;&#114;&#105;&#103;&#104;&#116;&#41;&#32;&#92;&#108;&#101;&#102;&#116;&#40;&#92;&#116;&#97;&#110;&#32;&#94;&#123;&#45;&#49;&#125;&#92;&#108;&#101;&#102;&#116;&#40;&#92;&#102;&#114;&#97;&#99;&#123;&#49;&#125;&#123;&#117;&#94;&#50;&#125;&#92;&#114;&#105;&#103;&#104;&#116;&#41;&#43;&#92;&#102;&#114;&#97;&#99;&#123;&#92;&#112;&#105;&#32;&#125;&#123;&#50;&#125;&#92;&#114;&#105;&#103;&#104;&#116;&#41;&#92;&#114;&#105;&#103;&#104;&#116;&#41;&#125;&#123;&#57;&#32;&#117;&#94;&#55;&#125;&#36;&#36;</div>"
      ],
      "text/plain": [
       "-\\frac{\\epsilon _G \\left(\\left(673 u^4+1275\\right) u^2+3 \\left(37 u^8+366 u^4+425\\right)\\\n",
       " \n",
       ">   \\left(\\tan ^{-1}\\left(\\frac{1}{u^2}\\right)+\\frac{\\pi }{2}\\right)\\right)}{9 u^7}"
      ]
     },
     "execution_count": 1684,
     "metadata": {
      "text/html": [],
      "text/plain": []
     },
     "output_type": "execute_result"
    }
   ],
   "source": [
    "TeXForm[DeltaE]"
   ]
  },
  {
   "cell_type": "markdown",
   "metadata": {},
   "source": [
    "## Условия захвата\n",
    "\n",
    "На бесконечнос энергия объекта была $u^2/2$\n",
    "\n",
    "Если $2|\\Delta \\hat{E}| > u^2$, то гиперболическая орбита (или параболическая, если $u = 0$) превратится в эллиптическую за один полный оборот,\n",
    "\n",
    "далее тело уже не сможет \"уходить\" на бесконечность.\n",
    "\n",
    "Из-за ограничения локализации точнее условие захвата поставить **нельзя**"
   ]
  },
  {
   "cell_type": "code",
   "execution_count": 1687,
   "metadata": {
    "vscode": {
     "languageId": "wolfram"
    }
   },
   "outputs": [
    {
     "data": {
      "text/html": [
       "<div><img alt=\"Output\" src=\"data:image/png;base64,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\"></div>"
      ],
      "text/plain": [
       "FormBox[RowBox[{SuperscriptBox[\"u\", \"9\"], \"<\", \n",
       "\n",
       " \n",
       ">        RowBox[{FractionBox[\"2\", \"9\"], \" \", SubscriptBox[\"ϵ\", \"G\"], \" \", \n",
       "\n",
       " \n",
       ">          RowBox[{\"(\", RowBox[{RowBox[{RowBox[{\"(\", \n",
       "\n",
       " \n",
       ">                  RowBox[{RowBox[{\"673\", \" \", SuperscriptBox[\"u\", \"4\"]}], \"+\", \n",
       "\n",
       " \n",
       ">                    \"1275\"}], \")\"}], \" \", SuperscriptBox[\"u\", \"2\"]}], \"+\", \n",
       "\n",
       " \n",
       ">              RowBox[{FractionBox[\"3\", \"2\"], \" \", \n",
       "\n",
       " \n",
       ">                RowBox[{\"(\", RowBox[{RowBox[{\"37\", \" \", SuperscriptBox[\"u\", \"8\"]}], \n",
       "\n",
       " \n",
       ">                    \"+\", RowBox[{\"366\", \" \", SuperscriptBox[\"u\", \"4\"]}], \"+\", \"425\"}], \n",
       "\n",
       " \n",
       ">                  \")\"}], \" \", RowBox[{\"(\", \n",
       "               RowBox[{RowBox[{\"2\", \" \", \n",
       "\n",
       " \n",
       ">                      RowBox[{SuperscriptBox[\"tan\", RowBox[{\"-\", \"1\"}]], \"(\", \n",
       "\n",
       " \n",
       ">                        FractionBox[\"1\", SuperscriptBox[\"u\", \"2\"]], \")\"}]}], \"+\",\\\n",
       " \n",
       ">    \"π\"}], \n",
       "               \")\"}]}]}], \")\"}]}]}], TraditionalForm]\n"
      ]
     },
     "execution_count": 1687,
     "metadata": {
      "text/html": [],
      "text/plain": []
     },
     "output_type": "execute_result"
    }
   ],
   "source": [
    "DeltaE2 = Simplify[DeltaE + u^2/2];\n",
    "uMax2 = Simplify[2 u^7 DeltaE2];\n",
    "Simplify[uMax2 < 0] // TraditionalForm"
   ]
  },
  {
   "cell_type": "markdown",
   "metadata": {},
   "source": [
    "<span style=\"color:brown\">**NB:**</span> Условие захвата, <span style=\"color:green\">**совпадает**</span> с условием из файла binary_catch.pdf"
   ]
  },
  {
   "cell_type": "markdown",
   "metadata": {},
   "source": [
    "<span style=\"color:red\">**TODO:**</span> Сравнить условия захвата на параболической траектории $u = 0$ с другими авторами"
   ]
  },
  {
   "cell_type": "code",
   "execution_count": 1688,
   "metadata": {
    "vscode": {
     "languageId": "wolfram"
    }
   },
   "outputs": [
    {
     "data": {
      "text/html": [
       "<div><img alt=\"Output\" src=\"data:image/png;base64,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\"></div>"
      ],
      "text/plain": [
       "FormBox[InterpretationBox[RowBox[{FractionBox[RowBox[{\"850\", \" \", \"π\", \" \", \n",
       "\n",
       " \n",
       ">            SubscriptBox[\"ϵ\", \"G\"]}], \"3\"], \"+\", \n",
       "\n",
       " \n",
       ">         InterpretationBox[RowBox[{\"O\", \"(\", SuperscriptBox[\"u\", \"1\"], \")\"}], \n",
       "\n",
       " \n",
       ">          SeriesData[u, 0, List[], 0, 1, 1], Rule[Editable, False]]}], \n",
       "\n",
       " \n",
       ">       SeriesData[u, 0, List[Times[Rational[850, 3], Pi, Subscript[\\[Epsilon], G]]], 0,\\\n",
       " \n",
       ">    \n",
       "     1, 1], Rule[Editable, False]], TraditionalForm]\n"
      ]
     },
     "execution_count": 1688,
     "metadata": {
      "text/html": [],
      "text/plain": []
     },
     "output_type": "execute_result"
    }
   ],
   "source": [
    "Simplify[Series[(u^9 - uMax2), {u, 0, 0}]] // TraditionalForm"
   ]
  },
  {
   "cell_type": "markdown",
   "metadata": {},
   "source": [
    "# Потеря момента за один период обращения\n",
    "\n",
    "$$\n",
    "\\Delta \\hat{J} = 2 \\epsilon_G \\int\\limits_{\\hat{t}_{\\text{min}}}^{\\infty}I_J(\\hat{t}) d \\hat{t}\n",
    "= - 2 \\epsilon_G \\int\\limits_{\\hat{r}_2^{\\text{min}}}^{\\infty}\\frac{I_J(\\hat{r}_2)}{\\hat{r}_2^{(1)}}d \\hat{r}_2,\n",
    "$$\n",
    "\n",
    "где мы заменим $\\hat{\\omega}$ на $\\frac{u}{\\hat{r}_2}$"
   ]
  },
  {
   "cell_type": "code",
   "execution_count": 1691,
   "metadata": {
    "vscode": {
     "languageId": "wolfram"
    }
   },
   "outputs": [
    {
     "data": {
      "text/html": [
       "<div><img alt=\"Output\" src=\"data:image/png;base64,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\"></div>"
      ],
      "text/plain": [
       "FormBox[RowBox[{FractionBox[RowBox[{\"16\", \" \", SuperscriptBox[\"u\", \"5\"]}], \n",
       "\n",
       " \n",
       ">         RowBox[{SubsuperscriptBox[OverscriptBox[\"r\", \"^\"], \"2\", \"3\"], \" \", \n",
       "\n",
       " \n",
       ">           SuperscriptBox[SubscriptBox[OverscriptBox[\"r\", \"^\"], \"2\"], \"′\"]}]], \"-\", \n",
       "\n",
       " \n",
       ">        FractionBox[RowBox[{\"20\", \" \", SuperscriptBox[\"u\", \"3\"], \" \", \n",
       "\n",
       " \n",
       ">           SuperscriptBox[SubscriptBox[OverscriptBox[\"r\", \"^\"], \"2\"], \"′\"]}], \n",
       "\n",
       " \n",
       ">         SubsuperscriptBox[OverscriptBox[\"r\", \"^\"], \"2\", \"3\"]], \"-\", \n",
       "\n",
       " \n",
       ">        FractionBox[RowBox[{\"4\", \" \", \"u\", \" \", \n",
       "        SuperscriptBox[RowBox[{\"(\", \n",
       "\n",
       " \n",
       ">              SuperscriptBox[SubscriptBox[OverscriptBox[\"r\", \"^\"], \"2\"], \"′′\"], \")\"}], \n",
       "\n",
       " \n",
       ">            \"2\"]}], RowBox[{SubscriptBox[OverscriptBox[\"r\", \"^\"], \"2\"], \" \", \n",
       "\n",
       " \n",
       ">           SuperscriptBox[SubscriptBox[OverscriptBox[\"r\", \"^\"], \"2\"], \"′\"]}]], \"+\", \n",
       "\n",
       " \n",
       ">        FractionBox[RowBox[{\"14\", \" \", \"u\", \" \", \n",
       "\n",
       " \n",
       ">           SuperscriptBox[SubscriptBox[OverscriptBox[\"r\", \"^\"], \"2\"], \"′\"], \" \", \n",
       "\n",
       " \n",
       ">           SuperscriptBox[SubscriptBox[OverscriptBox[\"r\", \"^\"], \"2\"], \"′′\"]}], \n",
       "\n",
       " \n",
       ">         SubsuperscriptBox[OverscriptBox[\"r\", \"^\"], \"2\", \"2\"]], \"+\", \n",
       "\n",
       " \n",
       ">        FractionBox[RowBox[{\"4\", \" \", \"u\", \" \", \n",
       "\n",
       " \n",
       ">           SuperscriptBox[SubscriptBox[OverscriptBox[\"r\", \"^\"], \"2\"], \"′′′′\"]}], \n",
       "\n",
       " \n",
       ">         SuperscriptBox[SubscriptBox[OverscriptBox[\"r\", \"^\"], \"2\"], \"′\"]], \"-\", \n",
       "\n",
       " \n",
       ">        FractionBox[RowBox[{\"6\", \" \", \"u\", \" \", \n",
       "        SuperscriptBox[RowBox[{\"(\", \n",
       "\n",
       " \n",
       ">              SuperscriptBox[SubscriptBox[OverscriptBox[\"r\", \"^\"], \"2\"], \"′\"], \")\"}], \n",
       "\n",
       " \n",
       ">            \"3\"]}], SubsuperscriptBox[OverscriptBox[\"r\", \"^\"], \"2\", \"3\"]], \"-\", \n",
       "\n",
       " \n",
       ">        FractionBox[RowBox[{\"7\", \" \", \"u\", \" \", \n",
       "\n",
       " \n",
       ">           SuperscriptBox[SubscriptBox[OverscriptBox[\"r\", \"^\"], \"2\"], \"′′′\"]}], \n",
       "\n",
       " \n",
       ">         SubscriptBox[OverscriptBox[\"r\", \"^\"], \"2\"]]}], TraditionalForm]\n"
      ]
     },
     "execution_count": 1691,
     "metadata": {
      "text/html": [],
      "text/plain": []
     },
     "output_type": "execute_result"
    }
   ],
   "source": [
    "(* Минус учтём сразу *)\n",
    "dJdr = Simplify[-dJdt/D[Subscript[OverHat[r], 2][OverHat[t]], OverHat[t]] //. OmegaReplace2];\n",
    "Expand[Simplify[dJdr]] // TraditionalForm"
   ]
  },
  {
   "cell_type": "markdown",
   "metadata": {},
   "source": [
    "<span style=\"color:brown\">**NB:**</span> Выражение для $dJ/dr$ <span style=\"color:green\">**сопадает**</span> с выраженем для интегранта из binary_catch3.pdf, если учесть деление на $\\hat{r}_2^{(1)}$"
   ]
  },
  {
   "cell_type": "markdown",
   "metadata": {
    "vscode": {
     "languageId": "wolfram"
    }
   },
   "source": [
    "Заменяя вхождение **всех** производных в выражении для $dJ/dr$, получим"
   ]
  },
  {
   "cell_type": "code",
   "execution_count": 1693,
   "metadata": {
    "vscode": {
     "languageId": "wolfram"
    }
   },
   "outputs": [
    {
     "data": {
      "text/html": [
       "<div><img alt=\"Output\" src=\"data:image/png;base64,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\"></div>"
      ],
      "text/plain": [
       "FormBox[FractionBox[RowBox[{\"2\", \" \", \"u\", \" \", \n",
       "\n",
       " \n",
       ">         RowBox[{\"(\", RowBox[{RowBox[{\"9\", \" \", \n",
       "\n",
       " \n",
       ">               SubscriptBox[OverscriptBox[\"r\", \"^\"], \"2\"], \" \", \n",
       "\n",
       " \n",
       ">               SuperscriptBox[\"u\", \"2\"]}], \"+\", \n",
       "\n",
       " \n",
       ">             RowBox[{\"20\", \" \", SqrtBox[SubscriptBox[OverscriptBox[\"r\", \"^\"], \"2\"]]}], \n",
       "\n",
       " \n",
       ">             \"-\", RowBox[{\"15\", \" \", SuperscriptBox[\"u\", \"2\"]}]}], \")\"}]}], \n",
       "\n",
       " \n",
       ">       RowBox[{SubsuperscriptBox[OverscriptBox[\"r\", \"^\"], \"2\", RowBox[{\"5\", \"/\",\\\n",
       " \n",
       ">    \"2\"}]], \n",
       "      \" \", SqrtBox[RowBox[{RowBox[{SubscriptBox[OverscriptBox[\"r\", \"^\"],\\\n",
       " \n",
       ">    \"2\"], \" \", \n",
       "           SuperscriptBox[\"u\", \"2\"]}], \"+\", \n",
       "\n",
       " \n",
       ">            RowBox[{\"2\", \" \", SqrtBox[SubscriptBox[OverscriptBox[\"r\", \"^\"], \"2\"]]}],\\\n",
       " \n",
       ">    \"-\", \n",
       "         SuperscriptBox[\"u\", \"2\"]}]]}]], TraditionalForm]\n"
      ]
     },
     "execution_count": 1693,
     "metadata": {
      "text/html": [],
      "text/plain": []
     },
     "output_type": "execute_result"
    }
   ],
   "source": [
    "dJdrFinal = Fold[ (* Последовательно применяем замены *)\n",
    "  Simplify[#1 /.\n",
    "    D[Subscript[OverHat[r], 2][OverHat[t]], {OverHat[t], #2}] -> dr2[[#2]]] &,\n",
    "  dJdr,\n",
    "  Range[5]\n",
    "];\n",
    "\n",
    "Simplify[dJdrFinal] // TraditionalForm"
   ]
  },
  {
   "cell_type": "markdown",
   "metadata": {},
   "source": [
    "$$\n",
    "  \\Delta \\hat{J}(u) = 4 \\epsilon_G \\int\\limits_{\\hat{r}_2^\\text{min}}^\\infty \\frac{u \\left(20\\sqrt{\\hat{r}_2} - 15u^2 + 9\\hat{r}_2 u^2\\right)}{\\hat{r}_2^{\\frac{5}{2}} \\sqrt{2\\sqrt{\\hat{r}_2} - u^2 + \\hat{r}_2 u^2}} \\, d\\hat{r}_2,\n",
    "$$\n",
    "где при $\\hat{r}_2 \\ge \\hat{r}_2^{\\text{min}}$ выражение $\\hat{r}_2u^2 + 2\\sqrt{\\hat{r}_2} - u^2 \\ge 0$.\n",
    "\n",
    "Полученный выше интеграл **компактнее**, чем тот, что рассмотрен в файле binary_catch3.pdf\n",
    "\n",
    "Смотри подробности в файле binary_catch_integral.ipynb\n",
    " \n",
    "Выпишем ответ:"
   ]
  },
  {
   "cell_type": "code",
   "execution_count": 1695,
   "metadata": {
    "vscode": {
     "languageId": "wolfram"
    }
   },
   "outputs": [
    {
     "data": {
      "text/html": [
       "<div><img alt=\"Output\" src=\"data:image/png;base64,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\"></div>"
      ],
      "text/plain": [
       "FormBox[RowBox[{\"4\", \" \", SubscriptBox[\"ϵ\", \"G\"], \" \", \n",
       "\n",
       " \n",
       ">        RowBox[{\"(\", RowBox[{RowBox[{\"-\", \n",
       "\n",
       " \n",
       ">              RowBox[{RowBox[{\"2\"}], \" \", SuperscriptBox[\"u\", \"2\"]}]}], \"-\", \n",
       "\n",
       " \n",
       ">            FractionBox[\"15\", SuperscriptBox[\"u\", \"2\"]], \"-\", \n",
       "\n",
       " \n",
       ">            FractionBox[RowBox[{RowBox[{\"(\", \n",
       "\n",
       " \n",
       ">                 RowBox[{RowBox[{\"7\", \" \", SuperscriptBox[\"u\", \"4\"]}], \"+\", \"15\"}], \n",
       "\n",
       " \n",
       ">                 \")\"}], \" \", RowBox[{\"(\", \n",
       "              RowBox[{RowBox[{\"2\", \" \", \n",
       "\n",
       " \n",
       ">                     RowBox[{SuperscriptBox[\"tan\", RowBox[{\"-\", \"1\"}]], \"(\", \n",
       "\n",
       " \n",
       ">                       FractionBox[\"1\", SuperscriptBox[\"u\", \"2\"]], \")\"}]}], \"+\", \"π\"}],\\\n",
       " \n",
       ">    \n",
       "              \")\"}]}], RowBox[{\"2\", \" \", SuperscriptBox[\"u\", \"4\"]}]]}], \")\"}]}], \n",
       "\n",
       " \n",
       ">      TraditionalForm]\n"
      ]
     },
     "execution_count": 1695,
     "metadata": {
      "text/html": [],
      "text/plain": []
     },
     "output_type": "execute_result"
    }
   ],
   "source": [
    "DeltaJ = 4*Subscript[\\[Epsilon], G]*(-15/u^2 - 2*u^2 - ((15 + 7*u^4)*(Pi + 2*ArcTan[u^(-2)]))/(2*u^4));\n",
    "DeltaJ // TraditionalForm"
   ]
  },
  {
   "cell_type": "code",
   "execution_count": 1696,
   "metadata": {
    "vscode": {
     "languageId": "wolfram"
    }
   },
   "outputs": [
    {
     "data": {
      "text/html": [
       "<div>&#36;&#36;&#52;&#32;&#92;&#101;&#112;&#115;&#105;&#108;&#111;&#110;&#32;&#95;&#71;&#32;&#92;&#108;&#101;&#102;&#116;&#40;&#45;&#50;&#32;&#117;&#94;&#50;&#45;&#92;&#102;&#114;&#97;&#99;&#123;&#49;&#53;&#125;&#123;&#117;&#94;&#50;&#125;&#45;&#92;&#102;&#114;&#97;&#99;&#123;&#92;&#108;&#101;&#102;&#116;&#40;&#55;&#32;&#117;&#94;&#52;&#43;&#49;&#53;&#92;&#114;&#105;&#103;&#104;&#116;&#41;&#32;&#92;&#108;&#101;&#102;&#116;&#40;&#50;&#32;&#92;&#116;&#97;&#110;&#32;&#94;&#123;&#45;&#49;&#125;&#92;&#108;&#101;&#102;&#116;&#40;&#92;&#102;&#114;&#97;&#99;&#123;&#49;&#125;&#123;&#117;&#94;&#50;&#125;&#92;&#114;&#105;&#103;&#104;&#116;&#41;&#43;&#92;&#112;&#105;&#32;&#92;&#114;&#105;&#103;&#104;&#116;&#41;&#125;&#123;&#50;&#32;&#117;&#94;&#52;&#125;&#92;&#114;&#105;&#103;&#104;&#116;&#41;&#36;&#36;</div>"
      ],
      "text/plain": [
       "4 \\epsilon _G \\left(-2 u^2-\\frac{15}{u^2}-\\frac{\\left(7 u^4+15\\right) \\left(2 \\tan\\\n",
       " \n",
       ">   ^{-1}\\left(\\frac{1}{u^2}\\right)+\\pi \\right)}{2 u^4}\\right)"
      ]
     },
     "execution_count": 1696,
     "metadata": {
      "text/html": [],
      "text/plain": []
     },
     "output_type": "execute_result"
    }
   ],
   "source": [
    "TeXForm[DeltaJ]"
   ]
  },
  {
   "cell_type": "markdown",
   "metadata": {},
   "source": [
    "В пределе малых $u$ для $\\Delta \\hat{J}(u)$ получаем"
   ]
  },
  {
   "cell_type": "code",
   "execution_count": 1698,
   "metadata": {
    "vscode": {
     "languageId": "wolfram"
    }
   },
   "outputs": [
    {
     "data": {
      "text/html": [
       "<div><img alt=\"Output\" src=\"data:image/png;base64,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\"></div>"
      ],
      "text/plain": [
       "FormBox[RowBox[{\"-\", FractionBox[RowBox[{\"60\", \" \", \"π\", \" \", \n",
       "\n",
       " \n",
       ">           SubscriptBox[\"ϵ\", \"G\"]}], SuperscriptBox[\"u\", \"4\"]]}], TraditionalForm]\n"
      ]
     },
     "execution_count": 1698,
     "metadata": {
      "text/html": [],
      "text/plain": []
     },
     "output_type": "execute_result"
    }
   ],
   "source": [
    "J1Smallu = Normal[Simplify[Series[DeltaJ, {u, 0, -1}]]];\n",
    "J1Smallu // TraditionalForm"
   ]
  },
  {
   "cell_type": "markdown",
   "metadata": {},
   "source": [
    "## Время слияния\n",
    "\n",
    "$a = b/\\sqrt{1-e^2}$,\n",
    "\n",
    "$J = \\mu\\sqrt{GMa(1-e^2)} = \\mu\\sqrt{GMb}\\sqrt{\\frac{b}{a}}$\n",
    "\n",
    "$$\n",
    "  \\hat{J}_1 = \\hat{J}_0 + \\Delta \\hat{J} = u - 4 \\epsilon_G \\left(2 u^2+\\frac{15}{u^2}+\\frac{\\left(7 u^4+15\\right) \\left(2 \\tan ^{-1}\\left(\\frac{1}{u^2}\\right)+\\pi \\right)}{2 u^4}\\right) \\approx \\sqrt{\\frac{b}{a}} = \\hat{a}^{-1/2}\n",
    "$$\n",
    "\n",
    "Отсюда характерная длина большой полуоси эллиптической орбиты в случае выполнения условия захвата после одного полного оборота будет\n",
    "$$\n",
    "a \\approx b\\hat{J}_1^{-2}\n",
    "$$\n",
    "\n",
    "А время, за которое расстояние между объектов уменьшится до нуля будет\n",
    "$$\n",
    "\\tau \\approx \\frac{5}{8}\\frac{c^5}{G^3}\\frac{b^4}{\\mu M^2} \\frac{1}{\\hat{J}_1^8}\n",
    "$$"
   ]
  },
  {
   "cell_type": "markdown",
   "metadata": {},
   "source": [
    "А для $\\tau$ галлюциногенное"
   ]
  },
  {
   "cell_type": "code",
   "execution_count": 1719,
   "metadata": {
    "vscode": {
     "languageId": "wolfram"
    }
   },
   "outputs": [
    {
     "data": {
      "text/html": [
       "<div><img alt=\"Output\" src=\"data:image/png;base64,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\"></div>"
      ],
      "text/plain": [
       "          -16  40  45  32\n",
       "5.98399 10    b   c   v\n",
       "-------------------------\n",
       "        39  44  16\n",
       "       G   M   μ"
      ]
     },
     "execution_count": 1719,
     "metadata": {
      "text/html": [],
      "text/plain": []
     },
     "output_type": "execute_result"
    }
   ],
   "source": [
    "J1Smallu = - 60 Pi eG / u^4;\n",
    "eG = 2/5*\\[Mu]/M*(G M / (b c^2))^(5/2);\n",
    "u = v/Sqrt[(G*M)/b];\n",
    "N[5/8*c^5/G^3*b^4/(\\[Mu]*M^2*J1Smallu)^(8)]"
   ]
  },
  {
   "cell_type": "code",
   "execution_count": null,
   "metadata": {
    "vscode": {
     "languageId": "wolfram"
    }
   },
   "outputs": [],
   "source": []
  }
 ],
 "metadata": {
  "kernelspec": {
   "display_name": "Wolfram Language 14.2",
   "language": "Wolfram Language",
   "name": "wolframlanguage14.2"
  },
  "language_info": {
   "codemirror_mode": "mathematica",
   "file_extension": ".m",
   "mimetype": "application/vnd.wolfram.m",
   "name": "Wolfram Language",
   "pygments_lexer": "mathematica",
   "version": "12.0"
  }
 },
 "nbformat": 4,
 "nbformat_minor": 2
}
