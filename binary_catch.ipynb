{
 "cells": [
  {
   "cell_type": "markdown",
   "metadata": {},
   "source": [
    "# Binary catch\n",
    "\n",
    "**При каких условиях два тела, налетающие друг на друга с бесконечности (в системе центра масс) станут связной системой из-за испускания гравволн?**"
   ]
  },
  {
   "cell_type": "code",
   "execution_count": 335,
   "metadata": {
    "vscode": {
     "languageId": "wolfram"
    }
   },
   "outputs": [
    {
     "name": "stdout",
     "output_type": "stream",
     "text": [
      "  (CleanSlate) Contexts purged: {Global`}\n",
      "  (CleanSlate) Approximate kernel memory recovered: 73 Kb\n"
     ]
    }
   ],
   "source": [
    "(* https://mathematica.stackexchange.com/questions/850/how-do-i-clear-all-user-defined-symbols/861#861 *)\n",
    "<< Utilities`CleanSlate`\n",
    "CleanSlate[];\n",
    "\n",
    "ClearAll[\"Global`*\"]\n",
    "(* ClearSystemCache[] *)\n",
    "(* https://mathematica.stackexchange.com/questions/111605/quit-vs-clearallglobal *)\n",
    "if[Length[Names[\"Global`*\"]] > 0, Remove[\"Global`*\"]];\n",
    "\n",
    "(* PacletInstall[\n",
    "    \"TensorSimplify\",\n",
    "\n",
    "    \"Site\" -> \"http://raw.githubusercontent.com/carlwoll/TensorSimplify/master\"\n",
    "]*)\n",
    "<<TensorSimplify`"
   ]
  },
  {
   "cell_type": "markdown",
   "metadata": {},
   "source": [
    "## Einstein Summation"
   ]
  },
  {
   "cell_type": "code",
   "execution_count": 344,
   "metadata": {
    "vscode": {
     "languageId": "wolfram"
    }
   },
   "outputs": [],
   "source": [
    "ClearAll@EinsteinSummation\n",
    "\n",
    "EinsteinSummation[in_List, arrays_] := Module[\n",
    "  {res =\n",
    "    isum[in -> Cases[Tally @ Flatten @ in, {_, 1}][[All, 1]], arrays]},\n",
    "  res /; res =!= $Failed\n",
    "  ]\n",
    "\n",
    "EinsteinSummation[in_List -> out_, arrays_] := Module[\n",
    "  {res = isum[in -> out, arrays]},\n",
    "  res /; res =!= $Failed\n",
    "  ]\n",
    "\n",
    "isum[in_List -> out_, arrays_List] := Catch@Module[\n",
    "  {indices, contracted, uncontracted, contractions, transpose},\n",
    "  If[Length[in] != Length[arrays],\n",
    "    Message[EinsteinSummation::length, Length[in], Length[arrays]];\n",
    "    Throw[$Failed]];\n",
    "  MapThread[\n",
    "    If[IntegerQ@TensorRank[#1] && Length[#1] != TensorRank[#2],\n",
    "      Message[EinsteinSummation::shape, #1, #2];\n",
    "      Throw[$Failed]] &, {in, arrays}];\n",
    "  indices = Tally[Flatten[in, 1]];\n",
    "  If[DeleteCases[indices, {_, 1 | 2}] =!= {},\n",
    "    Message[EinsteinSummation::repeat,\n",
    "      Cases[indices, {x_, Except[1 | 2]} :> x]];\n",
    "    Throw[$Failed]];\n",
    "  uncontracted = Cases[indices, {x_, 1} :> x];\n",
    "  If[Sort[uncontracted] =!= Sort[out],\n",
    "    Message[EinsteinSummation::output, uncontracted, out];\n",
    "    Throw[$Failed]];\n",
    "  contracted = Cases[indices, {x_, 2} :> x];\n",
    "  contractions = Flatten[Position[Flatten[in, 1], #]] & /@ contracted;\n",
    "  transpose = FindPermutation[uncontracted, out];\n",
    "  Activate@\n",
    "    TensorTranspose[\n",
    "      TensorContract[Inactive[TensorProduct] @@ arrays, contractions],\n",
    "    transpose]]\n",
    "\n",
    "EinsteinSummation::length =\n",
    "  \"Number of index specifications (`1`) does not match the number of \\\n",
    "tensors (`2`)\";\n",
    "EinsteinSummation::shape =\n",
    "  \"Index specification `1` does not match the tensor rank of `2`\";\n",
    "EinsteinSummation::repeat =\n",
    "  \"Index specifications `1` are repeated more than twice\";\n",
    "EinsteinSummation::output =\n",
    "  \"The uncontracted indices don't match the desired output\";"
   ]
  },
  {
   "cell_type": "markdown",
   "metadata": {},
   "source": [
    "## Система движения в декартовых координатах\n",
    "$$\n",
    "\\frac{d^2r_k}{dt^2} = -\\frac{G(m_A+m_B)}{r^3}r_k - \\frac{2}{5}f_{ki}^{(5)}r_i\n",
    "$$\n",
    "\n",
    "Ч.Мизнер, К.Торн, Дж.Уилер Гравтация, Т.3 (36.8)"
   ]
  },
  {
   "cell_type": "markdown",
   "metadata": {},
   "source": [
    "$$\n",
    "M=m_A+m_B; \\quad\n",
    "\\mu = m_{AB} = \\frac{m_A m_B}{M}\n",
    "$$"
   ]
  },
  {
   "cell_type": "markdown",
   "metadata": {},
   "source": [
    "### Безразмерные единицы длины\n",
    "$$\n",
    "\\begin{align}\n",
    "r &= b\\hat{r} \\\\\n",
    "t &= t_0\\hat{t} \\\\\n",
    "f_{ij} &= b^2\\hat{f}_{ij} \\\\\n",
    "f_{ij}^{(5)} &= \\frac{b^2}{t_0^5}\\hat{f}_{ij}^{(5)}\n",
    "\\end{align}\n",
    "$$"
   ]
  },
  {
   "cell_type": "markdown",
   "metadata": {},
   "source": [
    "$$\n",
    "\\frac{d^2\\hat{r}_k}{d\\hat{t}^2} = -\\frac{t_0^2}{b^3}\\frac{GM}{\\hat{r}^3}\\hat{r}_k - \\frac{2}{5}\\frac{b^2}{t_0^3}\\hat{f}_{ki}^{(5)}\\hat{r}_i\n",
    "$$"
   ]
  },
  {
   "cell_type": "markdown",
   "metadata": {},
   "source": [
    "Пусть $t_0 = \\sqrt{\\frac{b^3}{GM}}$, а $b$ - прицельное расстояние, тогда система движения перепишется как\n",
    "\n",
    "$$\n",
    "\\frac{d^2\\hat{r}_k}{d\\hat{t}^2} + \\frac{\\hat{r}_k}{\\hat{r}^3} = - \\frac{2}{5}\\epsilon_G\\hat{f}_{ki}^{(5)}\\hat{r}_i\\quad,\n",
    "$$\n",
    "или\n",
    "$$\n",
    "\\hat{r}_k^{(2)} + \\frac{\\hat{r}_k}{\\hat{r}^3} = - \\frac{2}{5}\\epsilon_G\\hat{f}_{ki}^{(5)}\\hat{r}_i\\quad,\n",
    "$$\n",
    "\n",
    "где $ \\epsilon_G = \\frac{b^2}{t_0^3} = \\frac{1}{b} \\left( \\frac{GM}{b} \\right)^{\\frac{3}{2}}$"
   ]
  },
  {
   "cell_type": "markdown",
   "metadata": {
    "vscode": {
     "languageId": "wolfram"
    }
   },
   "source": [
    "В задача двух тел без учёта гравитационного излучения в системе центра масс в полярных координатах радиус-вектор $\\hat{r}_k$ задаётся как:\n",
    "$$\n",
    "\\hat{r}_k = \\hat{r} e_{1k} \\quad,\n",
    "$$\n",
    "где:\n",
    "- $\\hat{r}$ — расстояние между телами,\n",
    "- $e_{1k}$ — единичный вектор в направлении $\\hat{r}_k$.\n",
    "\n",
    "Скорость в полярных координатах выражается как:\n",
    "$$\n",
    "\\hat{r}_k^{(1)} = \\hat{r}^{(1)} e_{1k} + \\hat{r} \\phi^{(1)} e_{2k} \\quad,\n",
    "$$\n",
    "где:\n",
    "- $\\hat{r}^{(1)}$ — радиальная скорость\n",
    "- $\\hat{\\omega} \\equiv \\phi^{(1)}$ — угловая скорость\n",
    "- $e_{2k}$ — единичный вектор, перпендикулярный $e_{1k}$.\n",
    "\n",
    "### **Кинетическая энергия**\n",
    "Кинетическая энергия $T$ в полярных координатах выражается через радиальную и тангенциальную составляющие скорости:\n",
    "$$\n",
    "T = \\frac{b^2}{2 t_0^2} (\\hat{r}_k^{(1)})^2 = \\frac{b^2}{2 t_0^2} \\left( (\\hat{r}^{(1)})^2 + \\hat{r}^2 \\hat{\\omega}^2 \\right) = \\frac{G M}{b} \\frac{1}{2}\\left( (\\hat{r}^{(1)})^2 + \\hat{r}^2 \\hat{\\omega}^2 \\right)\n",
    "$$\n",
    "\n",
    "### **Потенциальная энергия**\n",
    "Потенциальная энергия $U$ зависит только от расстояния $\\hat{r}$:\n",
    "- Для гравитационного взаимодействия:\n",
    "  $$\n",
    "  U = -\\frac{G m_A m_B}{b \\hat{r}}.\n",
    "  $$\n",
    "\n",
    "### **Полная энергия**\n",
    "Полная энергия $E$ в полярных координатах:\n",
    "$$\n",
    "E = T + U = \\frac{G M}{b}\\left(\\frac{(\\hat{r}^{(1)})^2}{2} + \\frac{\\hat{r}^2 \\hat{\\omega}^2}{2} - \\frac{1}{\\hat{r}}\\right) = \\frac{G M}{b} \\hat{E}\n",
    "$$\n",
    "\n",
    "### **Момента импульса**\n",
    "Момент импульса $J$ в системе центра масс:\n",
    "$$\n",
    "J = \\frac{b^2}{t_0} \\hat{r}^2 \\hat{\\omega} = (G M)^{1/2} b^{3/2} \\hat{r}^2 \\hat{\\omega} = (G M)^{1/2} b^{3/2} \\hat{J}\n",
    "$$"
   ]
  },
  {
   "cell_type": "code",
   "execution_count": 352,
   "metadata": {
    "vscode": {
     "languageId": "wolfram"
    }
   },
   "outputs": [],
   "source": [
    "$Assumptions = {\n",
    "  {OverHat[r][OverHat[t]], OverHat[t], rh} \\[Element] PositiveReals\n",
    "};"
   ]
  },
  {
   "cell_type": "markdown",
   "metadata": {},
   "source": [
    "$\\hat{r}_k$"
   ]
  },
  {
   "cell_type": "code",
   "execution_count": 354,
   "metadata": {
    "vscode": {
     "languageId": "wolfram"
    }
   },
   "outputs": [
    {
     "data": {
      "text/html": [
       "<div><img alt=\"Output\" src=\"data:image/png;base64,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\"></div>"
      ],
      "text/plain": [
       "      ^   ^ ^\n",
       "Cos[ϕ[t]] r[t]\n",
       "\n",
       "      ^   ^ ^\n",
       "Sin[ϕ[t]] r[t]"
      ]
     },
     "execution_count": 354,
     "metadata": {
      "text/html": [],
      "text/plain": []
     },
     "output_type": "execute_result"
    }
   ],
   "source": [
    "rh = {OverHat[r][OverHat[t]]*Cos[\\[Phi][OverHat[t]]], OverHat[r][OverHat[t]]*Sin[\\[Phi][OverHat[t]]]};\n",
    "rh // MatrixForm"
   ]
  },
  {
   "cell_type": "markdown",
   "metadata": {},
   "source": [
    "$\\hat{f}_{ki}$"
   ]
  },
  {
   "cell_type": "code",
   "execution_count": 356,
   "metadata": {
    "vscode": {
     "languageId": "wolfram"
    }
   },
   "outputs": [
    {
     "data": {
      "text/html": [
       "<div><img alt=\"Output\" src=\"data:image/png;base64,iVBORw0KGgoAAAANSUhEUgAAAyAAAABiCAIAAAAnaiDFAAAAzHpUWHRSYXcgcHJvZmlsZSB0eXBlIGV4aWYAAHjabU9REkIhCPz3FB0BARc9jq9spht0/OBpNTatIywrrEMaz8c9XQKcKWmxigaQQ5s27k4qTcycqZ3xBBPJUjc9gSfJ3aXyfcBY+rHrhmVYf4xoGUn8EN/pGlhGwlPPfdbH6ude624ktKG9Sf5fqxijIJt6VCYzNOc1OfWEwlQMd1wBb8y4MenV84CZj8GiQ3oMBnjY3j0SxIVbrCBxi3TPcsbmo3G6qNQzGh+f11jnBQ/aWo8JgQR1AAAACXBIWXMAABYlAAAWJQFJUiTwAAAAPHRFWHRTb2Z0d2FyZQBDcmVhdGVkIHdpdGggdGhlIFdvbGZyYW0gTGFuZ3VhZ2UgOiB3d3cud29sZnJhbS5jb21coqaFAAAAIXRFWHRDcmVhdGlvbiBUaW1lADIwMjU6MDM6MDkgMDA6NDg6NDeUpW4fAAAgAElEQVR4Xu2dd9gVRbKHFzGL2cWcMGdWMaGriIqIigkUUAnyKKJiFkXAAJhWTBhAXTCBS1JBRcwZwSxmVzGxZhfMOdz3bt3tZ+45Z2Z6cs85NX/wfHxfd031r7trqit1kz/++ONP+igCioAioAgoAoqAIqAIpIfAAumRUkqKgCKgCCgCioAioAgoAv+LQIMqWMcff/ziiy/evXt3NeDpPlAEFAFFQBFQBBSB1BFoRAXrrLPOGj9+/OjRox999NHjjjsudUyVYN0g8Ouvv77yyiuffPJJ3YxIB6IIKAKKgCKQDwJWCtZTTz01bNiwfBjK+i3oVTfeeOMTTzzRtWvXGTNmPPjggxdddFHWL1X6pUPgvffe69Chw9JLL73ZZputvPLK66+/PkuldKNQhhUBRUARUASyQKB///6vvfZaMOUmoT4yGuyxxx433XTTSiutlAWXOdN8//33F1pooVVWWUXe++//PHw+c2bD2dedc845P//8s7CHesEaKoTVX375BU7mz5/P2uvYsWNaPLz11ls33HCDobbDDjugRVUTf/311/kTK79v374oWPfff//kyZN///33l156qUWLFmkxk5BORhDB1aeffvrFF1+su+66iyyySEImtbtBgEPd9OnTzX8POOCArbbaqhB8Mlo5o0aNmjt3royoSZMmgwYNWnTRRQsZYOovVamYOqQxCGa0bnFTvPHGGyussEJUDeftt98+8cQT77zzzqCx8BUJfvCmsbzCWunf6wQBtM/tt9++03+ePn36FDKq3377rUuXLrJq4efuu+9Oi43nn39ehsaz4oorHnPMMTUpw8CQIUPmzJlj/nr++efDDMbOtDhJSCcjiC677DKjQTZt2hT98rvvvkvIqnYXBM4999ylllrKLD8MooUgk9HKYSwDBgyQ0bVt25bN8vnnnxcywCxeqlIxC1Qj0cxi3b777rt77rkn0djyrVlvvfUeeOCBSFz169fvnnvuCejyp2BynNpbt26NjSfSW11ujFHkxRdfRGmFyR9//BExN2bMmKefftplnvPkLV2FJh7nKHYsd3y4zz33HO45NgCn/3ikAnrtt99+fgpWdS80M1jivJI6G/EIZgHRUUcdxRh32223a6+9dvjw4WJfQceKx6H2qkAABWubbbYpHJYsVk7FoBCw9adgpXjMi7cGcpg4GIskFeMNJF6v1IePd2/ZZZddZpllOBjccsstvXr1WnLJJZdYYgnvuTqUVRxiHCfiK1isKvuPUCg3LjS4+uqr2fwfffTRmWeeaVTX5ZdfHlXSBfYK56FwBev0009nglh1MiPvvPMOviq2AVI7XXAiiRJ0DrgaN25cujzEo5YRRKizWLAMSz/88AOwI3R0a8SbJgcVrIxWjipYqayQACL5TJyzClYWw0/LTYEhYObMmX5zF2LBOvDAA+vMuiMK1v77748m0bNnT2JryCW89dZbs94hZaFfrII1b968P//5z6R5euEiia9ly5bHHntsuhjaK1hYPVdffXU89F9++WUkHohmGzhw4NFHHz116tRIHQMa5wmRRL9FHXVaI60zOoVbsHJbOWrBSnfp5jZxyRWsUku8eG4KXIS9e/eOo2DhGdx4443TXSuFUxMFa8EFF7zvvvsKZ8ZBBopVsADkm2++qYYFa4p4dVN8LBUsDjqo46wZdPFIb88iaEAYyAciDFerrbYacQmRRq2N/RAoXMHKbeUUomCR596qVavTTjstC4OrSkWbfV12iRfPTcGHaZ111vn+++9rQhRUpuHee+9t06ZNjGh/97vgdt19991d4JM4u0mTJmECpeopDppnnnmGCXOBsaJ4aNasWfWrSUci5jp/lhDWmDlvv/32wYMHY82NxACGKxJEJJKMFBWCfykLEomCX+N8ILr00kv/9a9/cThLhedCiOjmqoA9n5WTcK5feOGFSy65hIjAww8/fMSIEewagmWDac6ePZukxWefffbCCy8k5zchAw52L8XElVriYacfOnQoboq99tor0gLgw7Tttts+8sgjNXsFlWno0aPHvvvuSzpxpPc53njkyJGsAz6ZGDCKZZX8LArKU5ergo0tt9wSlauocgALL7ww/ixyK+zBYWkSCs33ODTNldBpUm2F8uabbx6wlC+++GKUG3I0gjO9OTNJZp/QJIh41113teQcu9Sqq6565ZVX+rWHOCKeAiUsmKuuusqSrDRDg7/ggguIJLviiitIWedL365dO2ofsA+32GKLAFKOQDRr1qydd955k002IUIAc2+ksbvQ2MHNdd5557GzqCkYCR/kA+Zb/OOhvRxZOfCJuoNPnyxCzhWhbHsb4AtDrxJTsff3a621FjhIcmLNh4Bl1qr8adq0aTVrr0TipKJxuaQizD/22GPe49xJJ51kWXIlVCr6wVhqice3hgMwWgFrL+pBGkDIk2PNX3755TXACTD9UR2KI6yNbbBEbcRFCJTF8vzmm29uuOGGMh/EEe+yyy5YsCi5xMeY35DdUFTgSwxjOM5WvsF+NlIvzhBH8qK98aBC+U0BSpjgQKGR4GnC5Y8wFYJkKkRKyAh2ETKcffbZBx6QTVGXSpKYCRcgwoxKCTT8g+TIRB27C+3d3FzxXIQkcZ9xxhk2qLqwcoTPeC5CLPccQkQkog0gEg899FBOI6LfIxCoYBeAA0cgNizlVBxxERYoFUEJrEQqbrfddqBnXzLDMnCiYiJKLfE4SB922GGghJvCZqNVt3n55Zcxi9Ts6xvkTpwHOUTx3udyL0cUrJ122klECWZCDOAGMepwUJ8Ja1BRGMZQsIh+QG2yYdiSuLmaJlTB8r40qmgIaI92y4eN2WnevDkR9xzOzPPhhx/ajDR2mFThEGFiQb/H9vDqq6/ajNTBNm5urhgKFieNxRZbbMqUKTYgF75yDJPxFCwy1kUkcn2Z97T2z3/+E2MqsYDkmtjgkEUbS2y9r3ZEKkadi6hS1Ay5pBIPtR7TBqsON0XslfPTTz9RkYDdWk3BNwaL2qYYZpOYVbWvHwK33XYbJlz+esIJJ3DU8Bpv8XDhTuL3fn35K+6br776KhReJvvjjz/me8ltesYxF9orRgO8SPjmYnT064IrLUVqMUiRTvLkk0/S8bPPPqPKLsdi86Dz2RCsjpkgZYSJIB4LmjYUgttkBBFhlzhiEBasTxJckvOZP4V62lycjPEP1tnm8lsS4tLCUsVeQ600zVCtHn74YayqHPhTXE58WYnZ4moHDBgpkjWk6k8qBqNURonH5sIlShAIboqoQSBeNPAgk/zOp7kaIl8F64MPPsBHkMXKK5am+J6KfTBFwgBeGKwj1Zx4hYv5KzZY4oEQMcRmUWmdH6gOxcqoORAMwjjLaMONQJiI8TxSP42YJ4LoWVLpjp2zJqIEA2lysnvvvTfClFXHNTVC7S9/+Quj8D74yJO/KJQC7gm/04yxjgQTkTkSLY06IBzBsQltvfXWhEMSqRb7Zs9MIaLaHk4WopfwLFDxC8+UPH7LLBTGQhrUzebC1YWaS6FdnuRIZrpykrMHBVF02HfVJxCENtLS+xYs/RWSQf6L8bUmMxyZ+BMykL+iqxFbTEQB+5EwGCI0iOME7VRGIUTqUirWmcTDSEFRZS66wU3BGjDijh8okxl1MRDOW1PB8nUR4qUKqO4Q25hWfx25n87ew83w2Xui5J1yyimWaGCFwm8oU05Egjd0FLlZYZn89ttvzR1n9OJLT7CXiVNG5fr6668D3mtpDGfU8C8Ci4dMCs7ZY8eODR5RMHFUxtBlHVDqM6pxO2p7y8mSZmiKjOWOO+646667qsNLUVn8qBUIEVpgTfwD1M1ImOTQ2OXNZekiJKyQdHEO1kalQMEilRVrdFk2V1S3lIwL06MsP05rGJaCB4vb1E9W1OzIVRC0xzT7j3/8Q06wiET2miFCMkpdSsWocxFbKpZO4j300EN+S4gjcVRhxYa9/vrrI7gIOUYst9xyoR88bUD2wcSJE+1xENlBe+KWbHoRoYWTmPt3sUOS8oZ6hD5H9LEk+vH95vjlpcNHHT8Uv8FehSaOEYWrizFL4IvE58uFA2jrNu/1a8NRj/w4Ss6wCqlBgKkMBYJKrahuBKUeeeSRsYkjBEmq4LnxxhuFCF4D+Y15pCRVWR40TpJwOZrj4EfSMZU4Cvk2RM0ENuPNFCIyHGuKlQBJ5NpElH1zsVU5EZFcjJkTnwUmGfJzOclwziZLDo9hbMAzXTmxufJ2pKrtjjvuyG+wNjFYhB4uPD/K3AFfIRlw5Yeygf6NyEJzpX4Ktnz+i1Yn8hCZFto9oIFKRQGnRBIvuZvCux6wj9aO/fDT1NjYODKi6nEN2B4jM6LQfuBGG0P1selFcQ6ZyAqzB59tcVeh33izvSgdLu2rb5CkS2iKTagFC3f1AgsswEVDUvkT6Y/lQwZy9tln896AmNxQ4kIHrVGGUFSQu828BLeR8xwPoQnBt4FW0HEKouQ45EzB5c0VasEiKoNvvyhS4MZRio1G+BE/c1LCjoVlOqDcrjsrJ6rVxCwSIgsrzh5EC3B4C5VaUOA8KTsuwILFX4mXqLAFyjUsPBxi/ZZrKLbOSsWoc5HQgtWwEo9railyG8GCRSKVuarPq6npzwkRQG4KhYqoAj+yXEfNnxC72Ie8bRC+EspDCoO35Ilx9BAvT90d/mp60SVhCBpBIQiyIUOGcF6Uyp8EYBFXJK9At6OmLV68hBDVU/frrruO03Y9jcjlsZR3cyGaCbLksPT4449vuummgCz2G0zF/It2hX6GZZoKFC7jn5A34qI4XFEp1FSBRrJRl4hQBOoMJSQu3XG/VpTrM1GVKLjxXqFS0YtbY0o8lCXyKKvXj2+QO06lmtHW8ZagC704HmERCXgIJM+BT261k7dY7meinWiM8bxaN6KUgIQRSBt5kE1oPzTm7MJxhDAsqUVObFby0REAuMEGG/Tv319IYRJD6JssJ8Ia+Jn80+Qvqg8KRMh16dKlPsZSilGUd3NxjiJwmwrmJkybyEsSOU1ylmR+NMLmIvSYIlKk3B5xxBFSZ5if8ZyKMSbh4427ElImvJVPXjziKhUNbg0r8VioeJyr14+vgkXoNEE/8RZcdr2wkJN5h3/K7zGRktU8EIR0UOAzYcIEG86Rg963Y1jGUOT9Dca/ADooKPLX2kkH/78nWpGofUYKeP+ODUlOYxW1A2AGvYfgMNRqciUIaSISiJaYMQlcsBljzTaoU9xiQU02I6QolYRUMhYseqFjxZZTsRlztuOaa67pLG91yVh5NxepbRxoveq41zbMZImq0TibC5s91qb33ntPLPeETBGalsWiTXgHl0pF76Q0rMRDWfI6iwwmvgoWqkzClZfFZmA1E60Z8ASY0IkWInwy4CHszIZnFCMvA+z8OXPmVPwmgM4aa6whpkGi0UNfR3mFpZZaimYEVFU3JjRBAuuqlzUFDrhvB6Md4bHcPoF2hWjGu0dlZI6Doe+t2YCKfyjpJnOQNhyyiW33lvNA1SPKIR796l6SDaBPAAIKkRec8m4uzDOoFF6Ry+byHl3EdtVom4uD5c033yxOdur/ZVrPL56cUakYD7fYvdyUeOzcmpcIB1mwEsbrxEYwoCMxCtjSSWvye6i4ncV7vTQxXHvfTmoeEY7e3wTXrQFVkRfEPnNsDeaWxiJSES7VLbEnidbsd70dmhw2W65fJAqeq2lYBNjDuBMtHkRSqIZALtO9opgeWiDOSlPFKt5b6GXcIvk4bWPzWWBHhagm+KXeXN6dxYUBBLZ7S4wS7U6+W3IFy+WV4/ftFJFCAQsTY1fg1qt4tUrFfObC5XUrn8WapdR8FSzWuoMKVj5zmfVbuPJdvGzoakjSitdRTsOrJkoMJi4/HJEVLaWmImoTAQrmT5jTOFRVtMSAiRYo17+Qyh5vgNSpYhlJDQh5Kg7Zp556KosseSUF7BBCH3NjPFbrvpdC5DfFJd1cODep0WDCONhZ+Pcl2p2HHU1hQhyIyb0Kzq4cBBQWu2oXBF8iCogAApwTBe/a1lapmM+MOLtug4fvq2Dlg1pjvoXKDhRGYuykxlBNmNp3qFkSMI6bkmQiirIQfyDgoGzJ2iIWgVrboiYT5tWtW7fp06fzM2qNKdGJH5Bi3PgaKE+F1coLL7egSF4Sb4wHO1Egbdq0wRImdwUSH8Yl9uaQPWLECFRDvJA29UKDGSBUWaKVuTTDG7//zjvvEJMRj/k666UQ+U1oSTdX+/btyUIiP1fGhW2YogyiTrHmqd6EECAEPvkydnPlENWOBolFn9gGqr2QSknoBaoVmiVyTyqxEUCbfPipU1CpmDqkNQm6uW7Dx+5X+YNs/4B60zmXt3H5dVHrYMlYcO1VxGx601uISffenYl8MTUdsJTKmUmmluxC713RZCaSg2NmnV5cldOhQweKucsvqejvLZpVDWxwxRei2vHS4hUVRy1s4MjAecHngY/BoEGDgmcqtJyM6W5uhoIsNaVQGUXL7NWrl98rolZwido+0iKUOliouZF60dgpiKIy70h7NzdXaB0s0kdYM4gFQic5yZx88skYm6kwThQm65/QybJsrqi1l2Rc11xzjbcGMhtf4vrlwUjPtAYgYFkHi0NmBRGTnOhXaDd0V7osFaPORWyp2OASj8MP9USq16dasMJ10OAWxM6L6y3Sg88OiUAEOudUydYkfhOfLInZVGbnxj3v3ZnUnGUP43rj64vdiEBy7FhYy6FAOXXvTSyo+VSRoS4LdiwC20khJHiLa+qJkKVZjx49aG9srZEYlsawxymTTHKKbPHABm9EuyI8AqeGqYkag3JFFyx82PAAAcMenxmGj+7I1QIS8u/+k9yVEzrGskMUOsDYDUq6ucaMGUOKNHoGF8fyscdUzEcLaUDyrxQ3jw1IKTYXl0Bgrj7kkEO4bhWG2fgcHfkBNPh6AUiSrHazH5MQ8cNfpSLIqMSrvTzUglX4sZuTGecqqj/Mnz8/mBlaImqxnwdboQwRos5pTIYjkQ1icg99LC0oMMCVYVjLEHyWlEMPgtW8oXRS1RprGXohaiUyN4D/qGevqO1DoUulgSX+5l2ZQpTKiIol4s7mCrVgCVBoFZRqRFiPHj0an7g9eu6snKhWk+oxIgmxiyNbMJDbI5BdS0tsHZSKUecif6loia3jEk8tWGkd/9Knw6EKOxYGIa4eC6ZOS2IUcAtaWqEw+dCYHBz8mF57e/IxwAAFwDCq4UpOl7KXN6pqEefbtm1bIv2pEe9Ns0o+hPqgoBCFbplybS4xSDdv3pxYzLXXXju7VeryykES4iRFtgRnZGcHTjzKKhXj4Rapl8vrtnogDeoi5L5kAsyDK4JGmvVGa8zJksB8b52eRkNAx6sIZIRARfWTjN6iZFNHQKVi6pCWnWBjKVj4mIhb4pzBAbFly5bEEnGxTHVRg7JPag78o5vuu+++3qKjli/limsiz3i86YGWfaubYTeeNm2aEKwueBGbbLEdFaJi8S/87VTXPPjgg2OwoSsnBmgpdnFEKjIiPmoiFSUB0/GnntdtQ8VgSZ4zLqerr76aHEmRYtjhA+6oz86v7yblqB7xSKMg/5Gy7/IQuhupb83GBKygLhua3BFkTzP/aAMb3pyCyIZhbWOJgGUMliW16mburJyocT+xh5xbx3JJRWCh0I+RiuQhhUb3GiTzl4rurNsky8kvBqsJRGuqt7jAe/fuLZnDdfOgSFE7igw7MyLKOJEWR+Q4sU11M8wkAyHMi4qme+65ZxIipehLABlFK6688spScKtMlh0BblBgZ5FsW/aBhPJP9AX+AcIwVlhhhdDGpWigUrEU01Qgk1RxmzFjBun/FTw0louQ+DivdgUWaPdsHu9tegVOkr5aEVAEFAFFQBFQBOoDgcZSsMycUcCJK2UoYXXbbbdxAQWlVupjOnUUioAioAgoAoqAIuACAo2oYE2aNAmrFa5fSvkNGzaMC15cmAl3eKDo1K3/ebiO2h2uUuHks88+k6HxzJ07NxWaSkQRsEQAr5lZfhU3WVlScLkZZatkdNzK5TKf8XhTqRgPtwbv1VgxWDLZXDoxduxYks6IxyLvo3///oRHNPg6MMMnMZDajPJfspkoCl9PyCAlKRhtRtS9e/eBAwfW0wB1LM4iQPnQ4cOHG/Y42nXu3NlZbmMw1qlTJ8oCm44UmzAXfMWg5lQXlYpOTYeDzPjFYDWigmWmhwte+MROmDBh3Lhx3J3s4LQpS4qAIqAIKAKKgCLgMgIa5F5jdnAUigGD+/tcnjzlTRFQBBQBRUARUATKhUBjxWCNHz+ei+28M/Tcc8/xX9L1yzVtyq0ioAgoAoqAIqAIuIxAAylYlHGnECWl2wl9oPrRlClTyCLs27dvs2bNuMLd5UlS3hQBRUARUAQUAUWgXAg0kILVtGlTaor26dNn1qxZ/fr1o84kWYQUxCPnZaONNirXtCm3ioAioAgoAoqAIuAyAg2kYDENZLWMHDmS/HzS9anePm/evJkzZ7Zu3drlGVLeFAFFQBFQBBQBRaB0CDSWgmWmh8qi3I3DZc+lmzBlWBFQBBQBRUARUATcR6BBFSz3J0Y5VAQUAUVAEVAEFIHyIqAKVnnnTjlXBBQBRUARUAQUAUcRUAXL0YlRthQBRUARUAQUAUWgvAioglXeuVPOFQFFQBFQBBQBRcBRBFTBcnRilC1FQBFQBBQBRUARKC8CqmCVd+6Uc0VAEVAEFAFFQBFwFAFVsBydGGVLEVAEFAFFQBFQBMqLgCpY5Z075VwRUAQUAUVAEVAEHEVAFSxHJ0bZUgQUAUVAEVAEFIHyIqAKVnnnTjlXBBQBRUARUAQUAUcRUAXL0YlRthQBRaDuEXjjjTdWXXVVbu567rnn6n6wOkBFoNEQUAWr0WZcx6sIKAJOIPDBBx+0a9du77337tmzZ/v27VG2nGBLmXAPgV9//fWVV1755JNP3GNNOQpCoMkff/xR8+9t2rTp3bv3YYcdVnb8nnjiienTp5tRHHDAAVtttVXZB+Xlf9SoUXPnzpXfNGnSZNCgQYsuumgdDFAnrg4mUYfgh8D333/PffOdOnU699xzaTN8+PARI0a8+OKLyy23nIIGAuecc87PP/8sUCy99NL9+/evJ1jeeuutG264wYxohx126NChQ80Bvvfee0cfffSjjz7KgqHBeuutN3LkyF133bWe0KiDsVx66aUzZsyYPHlyxVjq34L12GOPXXnllf/87/PVV18VNZ1skmOOOebkk0/+9ttvU+SBc7AMbtasWQjrdImnyGdUUu5M3C+//ILaytzdcccdUUcR0L4sE5fR8Bv8UL744ovziRXtiueUU06ZOHHisssum+ICKzUpkHn44YdFsr3zzjsFjiULuY2UNp+k0aNH33333TUH+Prrr2+55ZYzZ848/vjjb7nlll69emHE2nfffYsFpJrVLCDiLZ9++umrr776008/FTj7SV+NBavms/POO990001+fy3R79mo22yzTeEMP/XUU82aNZPZ4vzx448/ps4Sx1+If/7556lTLoSgIxP322+/denSRSZuoYUWQhSmjobLE5fF8N99990999wTDUNQ5VD+wAMPpI6qEiw1AhnttaiY5CC399tvPw5vNRlj9w0ZMmTOnDnmr+effz5b5qKLLoo6kOzaZwHRZZdd1qJFC5EPTZs27du373fffZfdEJJTvuSSSw488MBqOvVvwUqqgabRHzWcL8qCCy6IVaZfv34PPvhgt27d2Dxp0FYa2SKAfX78+PFdu3YlDHmFFVbAp4MpONtXukQ99eGX5VCewyQQdPXRRx/Ji95///2bb7751ltv/fLLL3N4tb7CBoHC5fYCCywwePBgo2rA8x577MG/ZtnYjCLTNllAhDp1wgknMOprr70W13nLli3ximLizXQgWRFXC1Zy7TWYAubcVVZZZaWVVpo9e7a05FDCdGLv/f3331N8u8uGkBjDdMGCdfrppzNTnC9lppjKddddd5lllgHqGCPy65J84h555BE0oZNOOumbb75JkbEshl+KQ3mKGAaQat68+ZFHHvn2229vttlmRr4TiZXP2x1/S+EWrNzkdoAFq3qO0DlYKuPGjYs0fUSzDRw4EBExderUSB0L+bRxlMWCZV79ww8/IHKXXHLJdD+XKeIAKT8L1p9UwUoX6Gpqw4YNQxlHjHr/dPXVVy+11FIEMKb49uTf6RjMMLpWrVqddtppqa/+whWsefPmkT9/1llneWEhBoIT1bHHHhsDq4wUrCxM9LCa2/Cff/55vhknnnhiipCWghQK1tZbb73aaqttsskm5513HlkdxNkQmVcK5mGSEyPxQNhUnnzyydR5LlzByk1u2ytY8+fPX3311TmrY+a0BzwLL7+8PTeIOnbsiIiINGp7fFJpmZ+Cha/08ccfRwMl95gjNUZvvkmpjCEekcK/07BNSGM18+kaG6CfUMHiO3fxxRf36dMH09rll1+OuOfoEIy5vFGee++9N94E+fVyYeJqzhGwEKCd4mCTTBzJ2+SdccIT7zMTQZ5sWuzlM/x4h/IU8S+KFAoW80WBhtCNljWHMfY+LFFgQvb+9ttvnzqHhStYucltSwULPWn//fcHbVLVIqGNSKeXBDmsvPLKxD4i2yNRCGicw6eNozuHECI10+I5Czp+ClbKZRoeeughKjtUeIiJPbrgggtQtigikJWn058uR0PsopzyI72azA6kHoaK4F6QZcimDb4k7FI1uzz99NOEXm233Xa77LJLME02ksQwSjMi9C2TcjlQYlwhyJ1QoUiDxVZx1FFHyb71dlxrrbXAoW3btn7UXnvtNQ7f8tdp06b5ZRpHYsY0jjdxnHJw4ZM0yzkv+L1498mPkzabb775Xnvt5dcevZNNjvoSXP8i/4kjWnzHHXeEN7RbhgD/Q4cOPfPMM1GRmbiA7Wa/bqGZ6fCZLzhnIlaocDoAABTQSURBVAhIIhs/3lIpaa8VV1wRVfjNN9+MumFTHG/svQ8PBx100KRJk/gBOxzyLUWuILXwwgsjtwldtSebxd63l9uccLzRmXzvFllkERvmUZsoNkuqe0Bj9jgGC6L0CMmSCBPLZ8CAAXx8+TBdccUVCAQkBqXXvvjiC4IKtthiiwAi9uIxa4jQXUi9ZxT4SSxHnX8zvzINaboIkewE5cnY1l9/feK42R4m8ZhlkYXmGEozniGkdevWZ5xxhg1xcgMZpjyklfp1YWMAy6GHHhpKE385mooQXH755f0STKrpxDOEIOLZcjJrSAT0P5hk76EW8xv2JMnkATxfddVV++yzD7ktjrgI77vvPjinZkwozhyR0UcFZ3QIv/Z8+0VTqXDyVrfPeeJgILaJnk1huW4zHX7sQ3no5JaiARYsNlqBrCbc+6iGhx9+ePfu3TGApT6KGBas1Pc+g7KX28hJESacohEX9tncoRYspgmQoUkQVSSck3j5LcVj1hBRogJVm4pxCKJIY8+5ceYuQswz8pEmbIWqGGZ4mBB79OhBaPBnn32W85jldTEULOZyscUWmzJlSijD9sQxEVkqWN6Xhu49b+N4CpYpwXLcccd59RLKtFCqA8Msjv9QHLJoYI+t9+3oHKhNNvxYSnBTPTlUwcp54uR18Uz09thmN3y0K6ljzDfMZr7qr03hCpaze5+5ttyeme59iMeQ21HlcLCQRyZzgmWbYBKLsQVie/nt8c8OomeeeQarNv5BcmxjjD3PLtmWacB6wfSzCIDj2Wef3WmnnYyNbokllkC1f+mll1C8ahruiNkCRyrbQiTUsgdkH3/8MQ4OQk+Mfye0V9QGL7/8Mv5BfHNROwa0xyqbIrUUSYlZGyMNVijUSkMZ1YpCf0wN8T0pvk6mD6UtRZpeUtirG2TiZNTsL+/w2RQogoh40qc5+CYHOaN1i3aFHxOXB4fySC6P5CNSCgaBnPc+C5KvA6I+owo1qe99gMpo/VsuQspi77bbbnfeeSe6OGl0OFXMY1mpwRRfNG/897//zdeTeCxMHpZsBDfLCCJmE9cKeh7xD2ussUYqrOZPJJ06WESyEwAE9xScrYmF98ttBkldbCJ4CFrii4hLkR86d+7st26wuOIs42NPyQNssCQ282kheoNoepShFIFDz8ObTjAgT0KyHBA33njjtddem3gg7GFQmzBhAkPwPqTgJXxLwu4i7NBcq/cbWldFWAwFISv4l//6VaAmSoO/khuFbD377LOZNZk+4rL5F1GbkPmK7pz22JbUPk5OlgBeVEwOT9xiIdQwU1eMvfpihOTvjUSBIBVYkhQbStdSVYGwHtj+61//uummm7KAY99bkOnw2bDEnVDHmFMZLuZIQ9bGKSIQae/zXj72Nbf/hRdeWM0VfkPEgoQGck4j35CAB6K1EPXoCoSZ2pyo7Qeb4t53R26DIRmagIBw5u4gzsDm4RxlAw75B0yZEMGzhFOCgD9mYdttt+WrhL3fhkh1m6whQqki9pd4fL7FfEPjMelCr3QULEm0RtmkPpjlqLjokC1HlDTbjM8tflZMWXyxQBNwK4jwJ3zblDb4+uuv+YSwaDbccEN0AkxNZHfjf8QQavlev2Yc/a+77joysGCGUWBoQRWQqwliU8ZOQ1lFajEQmyXmBN7CN8/7MKLY9FPpaOw9FKIN3bRMRAX/8l+/6oggwF+ZJnK5ERCcnEz9buxYxHulcg0C9E899VTCWdC5mS8UccQHpWKS4EN8CWh8+OGHRkdhjVWM3dyVluRFSfrKdMAkKgtqFt85r2mQE0vssPHshp/8UJ4EMaf6mojVVLhiD3qzem1oRtr7EMT4UXP7o9xXv441CUtUIadOL991jtPoQHwjaMmfuFsQeW7DZHCbLPa+O3IbCenn5/K6iQIgkinjX5KQEMLoK6YxlNdcc814U5ApRBzI8YrKRx8xbox2HMnicVtkL7/5i3RVjqSPouhYej2vv/56GTOqEtlD9OJDC5Riz0SzJjrPSwrEpT32Kk5d8ie64Hwk040vd8B7bcJN0PO4ARozGwloY8eOReXnBwKfOXKhb+Hf9KMfTByB8q//PnKSQ4Ezv5EfgmtY5BCDheZHJprAi5pLWAzHTb/xIhkr+Ad86VuzC0des7ihTA6LOHnRreX3KLXxsJVeLAaOdLDNmYwfUK2I08dYCG4QP+KIIwIWRnCQAfMiI73xxhuFVfwpFWMPCKXPYeIYmiiRWKoEZ+zBrF44Z2ugy95///2xsc1u+N6s2wrB543dtJQk2swggJAkDCMSIJH2PpQ5KFZsAUmaxjhd/V5qAZj5RaSjZnG85LntttuwYPEnUudib89M935CuZ1uDFakCa1ujD0bqPEkICTJ/sEjD3soxKhcyEn+9aMfLB4zhQjdo0IyyH8D1M2EKCXvnm2Quxjx8JjaMIpCLR6ljTbaiC+BtwseKIES/cb7e6rQyu+rFwSf2OD8tVAFi8p+HPT5OHEY4qWYlDhZEn7Ez/gr+Xqhe/kVFgolbkYhrkCbLELvwPP5TuNEryhSgF8Mt69NYiAqr0xNgIKFq5EkYW8D5lGChyom2tvGBlt8TEwW6asyQVynwOYUIgh96AdkKlhGcd51110yQAeD3L1WOnRW++u6bLAVGHMYvo3Q0DahCMRQsKCZZO/TXQI0gxUsAgM4U3n5lxsCeALSrkO3Zw57H55jyG0HFSygxnhxzz33hK4i0yAU/ySftqgQ2bNdVMtsg9zFz2Xpj3jhhRfEkcG2RK2WnSYPBZ+k5pPJSZTfG5WWvxJ34vUr8X1NUl6L+SDTGLMHxVEJW+FdhGHyr+wrtCs+RcQD4jHx8llnP2Oo4zuKwWP33XeXoWGtwWOI1U1C6xI+aN4VFcWwC0oBLbTb2MQxd6PeESKNFY0LQaFDABbOQSGIUr7OOuskdBTG5i3njswU4X3G/Zrz2/V15UUg670PMhSSrShKZ9xbsbe/7v2oSw5fgdxjqE+eCPjGYEXSWqjfb/+xxOMmI6zpRZZfYi3whq7z4ecjCktovhh1CMOi6trtt99OjnpCsNDkMJuhfpowbWKDMMiZ5AuJccaPmfBF7nfHzUQhGVxLeNakoiY/48ONGthRPVIJvKh4mER+g9ElNjL45jfYYAOCOYQCtkxUYRNWgj2cnxth4hj7mDFjLKsaxkZbO9YxAtntfUCr3v6y95Nsf937kVYjOStdunSJ1EUbp4KAr4LF98k+y4PvHNwQYWPDkzm11Ky1Td4WRHg1d216qeEG4vPZqVMnjuk4GYmMIZ4JCgS5ExZg896abYg3IvTKu/i8VhC6iKqRRA+IzVshHTEsceIkMB9vJgyg5pIZmgUnYnOK/aBOYQolrsuIbwoTME3GggVl1nCDTFzsYNXY+Dd4R1zSXFKJUPJ7iDTygwh5xV8DHm9B8ACcK3ggyAlPgpefAB5qktW9X6+rWuVD1jOLK6xmzkqaChappDY30pjyBzXrZ0jWHsaq6nIP5MlzMwO9qAtCcTO0Kz6fOIlIH8PWEg9BzDOIFe/HniF4P9JiAvFedx/vRdKLaUjSPbe+HDGpUSQm5VmzZmVXciz2iKiDSqClpA7Iw8SR+CkKujzYQdOauBLNXWxIgzuWZelmNPwKsuj3BHEHPAFBBWR9klIX8FC92mYUFTzwRvapl6V4gQ2696vB18UfuiAbHCI2Y02Tga+ChWHAPgudL7G4FG1qBpqPIl/u6mkT4ULtKMk0qX4wOGHwHDlyJNVdSfRjVKQccm9d6Aqo2QBcvIonso/Adm+lSqLd4ST5d1p8jrAaj89Me/ntDXGPsgwKryVRPXwp4eOdu4oyg8TR44w2VaxiA2icxW7OXexxWXZs8OH7oYRDlugCMiL9Hu6A8+vL+Y3054CHXA2b2angAYsaAVVefgJ4MPR17wdD7bLctlkkObRRiACZs01FQLkg76tgocfY1yjCtiS3XlB/rPrSSixbBx98sImGoQ6kZJAhESq8kBghJGuJSonelUExFSwWFWuF8ZBIwqWB/D52yUqcm5SqwhYixGEAF6REu/PwUi5xxIGY0J8FKTHIkaiYSn3tFLcNGCLxqw+7SF4uBBXOEdwpvjEVUtQEQbvCa2yoVZgeqYzF6pICIkkeY0mVYm+N9jT48Ot7unXvh86vs3I7lPPcGihEQI2yVLOauq+CRUpgpPgVbEiSxNSvXz+KiPK1w/JB+XWcemTkTZw4ESuX6BZkkInBiS8WtxqLT5DP+fTp0zFN8TPx5lydbdYHbFB2DEceVY6wWnnXDSVJJemPMkjx1lP79u0pIGkMb1hBKMog6hRxSF27dmX1EAIfj7i3l5hSCL/gWGl0LGbFMt4iOQM1KRDVjgZJIBoqMkmdpFISdMVcoFkSgyUli6ihktHbk5AlNq5NmzaYMGX9kO5AMTNjehwxYgS11nAfo4cleQt9SeCQHA7qbJn8DP5LjCArJCFx97s3+PDdn6DYHOret4HOTbltw3lubRQioEZLqelz81WwKHASyTFE1Ti+x7j2eBk5TVyEgpmKG5T4PM+dOxdqOPUIOpZZJ2lfSk2iIRGSRTo9WhfKFvFVfDgr0npxzUAcpYTKv5QVhRSpbdRtoowW6hEKAX81hVWiripMZdjeKIFN9XacSuiFfKSJ3cEOR2gXChC5itXXOUV9C+258Vq+08OHDwcWEhVxlTJqinxWaI0xiMfuQgGFa665hpUBjORpksLJzyjKGPakuCtQU6giNv1MO1JbC7bhkIUnxVFZEljdqP/L0XzQoEFHHnlkcgZYtLK6SM7A+MpFHxg4CRpl0do4xJMzUCyFBh9+seBn+nbd+zbwuim3bTjPrY1CBNSYaWreF+erYOEV8rv/xG/m8DSR2IX5SsLYxU6DJQxliO8f+pPpiHOHCpBEIRCVzC8xBvAu7EaUucJIQKqg9xXoJZRoovAJdiwC20khJHgLXyQ+R6IQmF0KQCe5DBJ1EGclegZ1kPk8YxSh+i1XZZGfiI1NyjUlf2CVC6G4XwlScs+AXCmNeS+jyzIteUYLAfNDDjmkRYsWdCG2SS6+AA1MdwBS07VsSVxsgUkoBLwIJZV1xbKW8mk4BFkq6NyYTlGUhw4daslkaDPKH6P0o2cDDs5o0hVRtlCOpYx1gU9yz7UN884O34b5xmmDEXrw4MGRxpvD3s9o++e2952V25YTnYOIKDtElkgGN+ObziWPNdr4VT7FgEEdhNh1UQkVp24syX2h1cBpiZsM31zAxSNeNrAz4ckiWYawIfFnBT+WRavRKijFBkCjR49G4Quj+n9/tyTupYbblPBYlEK0t4obgapfmk8ld/NeVglB/ShVTIolAtk1s8cWEyC2JWr5wLnNkhCe7UsVS3vCGNGJZe6wcZorm2oikPPERZ0Fe2wN5eyGH5V5bZ8FAk7tffvtmc/ehx97uR21THkkWZHF1NekGVU8ZgpRbqOO/SLiVcgLru7ua8HCGEBKXWzlDiMWQVeYf0ILltKSQHWCqGrGiFUzIG41/L44a6RIVSqP1GnEeUdhd3F0ZvSg52LHwhnHibOmUTGj99qQxf3KQqFuvimlYdOr8DbYL7lzg3h2OE9xSVSMC2cZzkGZO/yD6d7UWziGoQw0+PBD8Sl7A937wTPostx2ZO01MkSYJIhfqp4IXwUL9aURYni9iFTk+TuyapWNUARY3BwGvNXLQrtoA0VAEagDBHTv18Ekln0IuOlIX+PUHUHBwpaD+1YuDWyQhwp7lJOIOlgpfCqPRC8lfDAzTps2TQgmMSImZKNE3QngI2fCW3TUknmi4gRnb3qgZd/qZuWaOF23sSc6xY4EqhLSxx0YrlVvSXGMmZJyZO8zRjKvRZhI8nUdPOmKx7qESGYZPzWZdrWvgg1wOnbs2JF7+mJ7JR3pGCPcxJ5zEhspHW4e8iXt+/q1REvD52VocveFJc2ovn9LskU1y3TiGBQVHAzIJDQkH2aJJs6pdZsc+TJSIEeHdFfj0SapiMSaMg4kI55jxADZc5L63ufVlBYy8oQAG2wTlvy4GYPlFESWSBbVbPLkyd27d6/59ib81k/XvuqqqzDAOpulb3lEoObW1KlTbe7wsSTobLPZs2e3bNmSYMza6QzO8u3DmE5c2WZM+bVFgFQMknZJ6yFDk8J7lHAjl5lzMBk2xIDaUqnrdqQeI7fRQet6lP87OIJHsX9UF+iu+4HXzQCp0ElQeLdu3apH5BuDRVMKK2DBqhsUdCCKgCKgCLiAAAk95BzhHKR6LVVpsFJjU4QxVAoX2FMeFAFFwB4BUu/l3t5oChbJdBwjGi3U3R5WbakIKAKKQDwEyJv2XkwuVYiT1POLx4b2UgQUgSQIUPuT8Ha/2+SCLFi8tWfPnmPHjk3yehf64jW79b9PgWXTM4KC4k8yOMriZ/SKosjqxBWFvL43NwS4ZANrVufOnTnN4jHM7b3uv4iCcyLZKKnoPreROOR+XvNJInI3Ul9t7BQCN998c69evfxYCorBog9xu1wmQzYBIYdOjcqeGcqHcjuNaT9s2DBkmX1391viYqAApuGTYhNUz3ef7VAOdeJCIdIGZUeA1FfZvMQUcxlr8qszyw6I4R9kuKlM/kt+Nzd51M3QGAi6o/ciL0KkBw4cWE8DbJCxcEMOlRG5WsavYn6IggVMf/vb37g1JUBHaxAodZiKgCKgCKSLAPdpkt6Pl4FDLBeATpo0iWK26b5CqSkCikBGCGC7wZxxxBFH+NEPV7BIdSGVA/dTdjWyMxq8klUEFAFFoBQIcF0Y12hygwL6VikYViYVgQZHgGuRuR+Zy9MC/HshMVggSPmsPn36cAVyg6Opw1cEFAFFICMESPNu164dV4nXX5BoRogpWUWgWASGDh06YMCA4OipcAuWjIGCuVxWVex49O2KgCKgCNQBAoRuUFa0f//+zZo1k+EQ7UoRO66ZR9LWLgldB8PWISgCdYQAtWRDbxO2VbDqCBYdiiKgCCgCRSJw00039ejRgzo4Bx10UKtWrfA1jBo16tlnn+3du/ff//73IjnTdysCikB6CKiClR6WSkkRUAQUATsEyBk855xzuH1BLjDFlEU96CFDhlCswY6AtlIEFAHXEfgfn34cAMg2p3cAAAAASUVORK5CYII=\"></div>"
      ],
      "text/plain": [
       "  1  ^         ^  2 ^ ^ 2\n",
       "-(-) r + Cos[ϕ[t]]  r[t]          ^         ^   ^ ^ 2\n",
       "  3                         Cos[ϕ[t]] Sin[ϕ[t]] r[t]\n",
       "\n",
       "                              1  ^         ^  2 ^ ^ 2\n",
       "      ^         ^   ^ ^ 2   -(-) r + Sin[ϕ[t]]  r[t]\n",
       "Cos[ϕ[t]] Sin[ϕ[t]] r[t]      3"
      ]
     },
     "execution_count": 356,
     "metadata": {
      "text/html": [],
      "text/plain": []
     },
     "output_type": "execute_result"
    }
   ],
   "source": [
    "fh = Simplify[Array[rh[[#]]*rh[[#2]] - 1/3*OverHat[r]*KroneckerDelta[#, #2] &, {2, 2}]];\n",
    "fh // MatrixForm"
   ]
  },
  {
   "cell_type": "markdown",
   "metadata": {},
   "source": [
    "$\\hat{f}_{ki}^{(5)}$"
   ]
  },
  {
   "cell_type": "code",
   "execution_count": 360,
   "metadata": {
    "vscode": {
     "languageId": "wolfram"
    }
   },
   "outputs": [
    {
     "data": {
      "text/html": [
       "<div><img alt=\"Output\" src=\"data:image/png;base64,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\"></div>"
      ],
      "text/plain": [
       "^   (5)   ^   (5)\n",
       "f         f\n",
       " x,x       x,y\n",
       "\n",
       "^   (5)   ^   (5)\n",
       "f         f\n",
       " x,y       y,y"
      ]
     },
     "execution_count": 360,
     "metadata": {
      "text/html": [],
      "text/plain": []
     },
     "output_type": "execute_result"
    }
   ],
   "source": [
    "(* fh5 = Array[Superscript[Subscript[OverHat[f], {x, y}[[#1]], {x, y}[[#2]]], \"(5)\"] &, {2, 2}] *)\n",
    "(* Symmetric version *)\n",
    "fh5 = Array[If[#1 <= #2,\n",
    "                    Superscript[Subscript[OverHat[f], {x, y}[[#1]], {x, y}[[#2]]], \"(5)\"],\n",
    "                    Superscript[Subscript[OverHat[f], {x, y}[[#2]], {x, y}[[#1]]], \"(5)\"]] &, {2, 2}];\n",
    "fh5 // MatrixForm"
   ]
  },
  {
   "cell_type": "markdown",
   "metadata": {},
   "source": [
    "$\\hat{f}_{ki}^{(5)}\\hat{r}_i$"
   ]
  },
  {
   "cell_type": "code",
   "execution_count": 362,
   "metadata": {
    "vscode": {
     "languageId": "wolfram"
    }
   },
   "outputs": [
    {
     "data": {
      "text/html": [
       "<div><img alt=\"Output\" src=\"data:image/png;base64,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\"></div>"
      ],
      "text/plain": [
       "      ^   ^   (5) ^ ^          ^   ^   (5) ^ ^\n",
       "Cos[ϕ[t]] f       r[t] + Sin[ϕ[t]] f       r[t]\n",
       "           x,x                      x,y\n",
       "\n",
       "      ^   ^   (5) ^ ^          ^   ^   (5) ^ ^\n",
       "Cos[ϕ[t]] f       r[t] + Sin[ϕ[t]] f       r[t]\n",
       "           x,y                      y,y"
      ]
     },
     "execution_count": 362,
     "metadata": {
      "text/html": [],
      "text/plain": []
     },
     "output_type": "execute_result"
    }
   ],
   "source": [
    "fh5rh = EinsteinSummation[{{k, i}, {i}}, {fh5, rh}];\n",
    "fh5rh // MatrixForm"
   ]
  },
  {
   "cell_type": "markdown",
   "metadata": {},
   "source": [
    "## Повернём систему с помощью матрицы вращения $R_{ij}(\\phi)$ на угол $\\phi$ по **часовой** стрелке\n",
    "Переход к полярным координатам от декартовых"
   ]
  },
  {
   "cell_type": "code",
   "execution_count": 363,
   "metadata": {
    "vscode": {
     "languageId": "wolfram"
    }
   },
   "outputs": [
    {
     "data": {
      "text/html": [
       "<div><img alt=\"Output\" src=\"data:image/png;base64,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\"></div>"
      ],
      "text/plain": [
       "Cos[ϕ]    Sin[ϕ]\n",
       "\n",
       "-Sin[ϕ]   Cos[ϕ]"
      ]
     },
     "execution_count": 363,
     "metadata": {
      "text/html": [],
      "text/plain": []
     },
     "output_type": "execute_result"
    }
   ],
   "source": [
    "RotationMatrix[-\\[Phi]] // MatrixForm"
   ]
  },
  {
   "cell_type": "markdown",
   "metadata": {},
   "source": [
    "#### LHS"
   ]
  },
  {
   "cell_type": "code",
   "execution_count": 365,
   "metadata": {
    "vscode": {
     "languageId": "wolfram"
    }
   },
   "outputs": [
    {
     "data": {
      "text/html": [
       "<div><img alt=\"Output\" src=\"data:image/png;base64,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\"></div>"
      ],
      "text/plain": [
       "      ^\n",
       "Cos[ϕ[t]]           ^      ^   ^   ^    ^ ^           ^      ^ 2          ^       ^\n",
       "--------- - 2 Sin[ϕ[t]] ϕ'[t] (r)'[t] + r[t] (-(Cos[ϕ[t]] ϕ'[t] ) - Sin[ϕ[t]] ϕ''[t]) + \n",
       "  ^ ^ 2\n",
       "  r[t]\n",
       " \n",
       "          ^    ^    ^\n",
       ">   Cos[ϕ[t]] (r)''[t]\n",
       "\n",
       "      ^\n",
       "Sin[ϕ[t]]           ^      ^   ^   ^    ^ ^           ^      ^ 2          ^       ^\n",
       "--------- + 2 Cos[ϕ[t]] ϕ'[t] (r)'[t] + r[t] (-(Sin[ϕ[t]] ϕ'[t] ) + Cos[ϕ[t]] ϕ''[t]) + \n",
       "  ^ ^ 2\n",
       "  r[t]\n",
       " \n",
       "          ^    ^    ^\n",
       ">   Sin[ϕ[t]] (r)''[t]"
      ]
     },
     "execution_count": 365,
     "metadata": {
      "text/html": [],
      "text/plain": []
     },
     "output_type": "execute_result"
    }
   ],
   "source": [
    "LHS = D[rh, {OverHat[t], 2}] + Simplify[rh / Norm[rh]^3];\n",
    "LHS // MatrixForm"
   ]
  },
  {
   "cell_type": "code",
   "execution_count": 366,
   "metadata": {
    "vscode": {
     "languageId": "wolfram"
    }
   },
   "outputs": [
    {
     "data": {
      "text/html": [
       "<div><img alt=\"Output\" src=\"data:image/png;base64,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\"></div>"
      ],
      "text/plain": [
       "^ ^ -2   ^ ^     ^ 2    ^    ^\n",
       "r[t]   - r[t] ϕ'[t]  + (r)''[t]\n",
       "\n",
       "     ^   ^   ^    ^ ^      ^\n",
       "2 ϕ'[t] (r)'[t] + r[t] ϕ''[t]"
      ]
     },
     "execution_count": 366,
     "metadata": {
      "text/html": [],
      "text/plain": []
     },
     "output_type": "execute_result"
    }
   ],
   "source": [
    "RotatedLHS = Simplify[RotationMatrix[-\\[Phi][OverHat[t]]] . LHS, Trig -> True] // MatrixForm"
   ]
  },
  {
   "cell_type": "markdown",
   "metadata": {},
   "source": [
    "Так как $\\hat{\\omega} \\equiv \\phi^{(1)}$"
   ]
  },
  {
   "cell_type": "code",
   "execution_count": 368,
   "metadata": {
    "vscode": {
     "languageId": "wolfram"
    }
   },
   "outputs": [
    {
     "data": {
      "text/html": [
       "<div><img alt=\"Output\" src=\"data:image/png;base64,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\"></div>"
      ],
      "text/plain": [
       "^ ^ -2   ^ ^  ^ ^ 2    ^    ^\n",
       "r[t]   - r[t] ω[t]  + (r)''[t]\n",
       "\n",
       "  ^ ^   ^   ^    ^ ^   ^   ^\n",
       "2 ω[t] (r)'[t] + r[t] (ω)'[t]"
      ]
     },
     "execution_count": 368,
     "metadata": {
      "text/html": [],
      "text/plain": []
     },
     "output_type": "execute_result"
    }
   ],
   "source": [
    "OmegaReplace = {\n",
    "    Derivative[1][\\[Phi]][OverHat[t]] :> OverHat[\\[Omega]][OverHat[t]],\n",
    "    Derivative[2][\\[Phi]][OverHat[t]] :> Derivative[1][OverHat[\\[Omega]]][OverHat[t]]\n",
    "};\n",
    "\n",
    "OmegaLHS = RotatedLHS /. OmegaReplace"
   ]
  },
  {
   "cell_type": "markdown",
   "metadata": {},
   "source": [
    "##### Specific Energy $\\hat{E}$"
   ]
  },
  {
   "cell_type": "code",
   "execution_count": 369,
   "metadata": {
    "vscode": {
     "languageId": "wolfram"
    }
   },
   "outputs": [
    {
     "data": {
      "text/html": [
       "<div><img alt=\"Output\" src=\"data:image/png;base64,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\"></div>"
      ],
      "text/plain": [
       "          ^ ^ 2 ^ ^ 2    ^   ^ 2\n",
       "   1      r[t]  ω[t]    (r)'[t]\n",
       "-(----) + ----------- + --------\n",
       "  ^ ^          2           2\n",
       "  r[t]"
      ]
     },
     "execution_count": 369,
     "metadata": {
      "text/html": [],
      "text/plain": []
     },
     "output_type": "execute_result"
    }
   ],
   "source": [
    "Energy = (D[OverHat[r][OverHat[t]], OverHat[t]])^2/2 + (OverHat[r][OverHat[t]] OverHat[\\[Omega]][OverHat[t]])^2/2 - 1/OverHat[r][OverHat[t]]"
   ]
  },
  {
   "cell_type": "markdown",
   "metadata": {},
   "source": [
    "##### Specific Angular momentum $\\hat{J}$"
   ]
  },
  {
   "cell_type": "code",
   "execution_count": 370,
   "metadata": {
    "vscode": {
     "languageId": "wolfram"
    }
   },
   "outputs": [
    {
     "data": {
      "text/html": [
       "<div><img alt=\"Output\" src=\"data:image/png;base64,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\"></div>"
      ],
      "text/plain": [
       "^ ^ 2 ^ ^\n",
       "r[t]  ω[t]"
      ]
     },
     "execution_count": 370,
     "metadata": {
      "text/html": [],
      "text/plain": []
     },
     "output_type": "execute_result"
    }
   ],
   "source": [
    "AngularMomentum = (OverHat[r][OverHat[t]])^2 OverHat[\\[Omega]][OverHat[t]]"
   ]
  },
  {
   "cell_type": "markdown",
   "metadata": {},
   "source": [
    "Отсюда $\\frac{1}{\\hat{r}^{(1)}}\\left(\\frac{d\\hat{E}}{d\\hat{t}} - \\hat\\omega \\frac{d\\hat{J}}{d\\hat{t}}\\right)$"
   ]
  },
  {
   "cell_type": "code",
   "execution_count": 371,
   "metadata": {
    "vscode": {
     "languageId": "wolfram"
    }
   },
   "outputs": [
    {
     "data": {
      "text/html": [
       "<div><img alt=\"Output\" src=\"data:image/png;base64,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\"></div>"
      ],
      "text/plain": [
       "^ ^ -2   ^ ^  ^ ^ 2    ^    ^\n",
       "r[t]   - r[t] ω[t]  + (r)''[t]"
      ]
     },
     "execution_count": 371,
     "metadata": {
      "text/html": [],
      "text/plain": []
     },
     "output_type": "execute_result"
    }
   ],
   "source": [
    "Simplify[(D[Energy, OverHat[t]] - (AngularMomentum/OverHat[r][OverHat[t]]^2)(D[AngularMomentum, OverHat[t]]))/(D[OverHat[r][OverHat[t]], OverHat[t]])]"
   ]
  },
  {
   "cell_type": "markdown",
   "metadata": {},
   "source": [
    "Что совпадает с первой строкой LHS"
   ]
  },
  {
   "cell_type": "markdown",
   "metadata": {},
   "source": [
    "Отсюда $\\frac{1}{\\hat{r}}\\frac{d\\hat{J}}{d\\hat{t}}$"
   ]
  },
  {
   "cell_type": "code",
   "execution_count": 372,
   "metadata": {
    "vscode": {
     "languageId": "wolfram"
    }
   },
   "outputs": [
    {
     "data": {
      "text/html": [
       "<div><img alt=\"Output\" src=\"data:image/png;base64,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\"></div>"
      ],
      "text/plain": [
       "  ^ ^   ^   ^    ^ ^   ^   ^\n",
       "2 ω[t] (r)'[t] + r[t] (ω)'[t]"
      ]
     },
     "execution_count": 372,
     "metadata": {
      "text/html": [],
      "text/plain": []
     },
     "output_type": "execute_result"
    }
   ],
   "source": [
    "Simplify[D[AngularMomentum, OverHat[t]]/OverHat[r][OverHat[t]]]"
   ]
  },
  {
   "cell_type": "markdown",
   "metadata": {},
   "source": [
    "Что совпадает со второй строкой LHS"
   ]
  },
  {
   "cell_type": "markdown",
   "metadata": {},
   "source": [
    "Таким образом мы можем выписать новую энергетическую систему уравнений\n",
    "\n",
    "$$\n",
    "\\begin{align}\n",
    "\\frac{d\\hat{E}}{d\\hat{t}} &= - \\frac{2}{5}\\epsilon_G \\left(\\hat{r}^{(1)} R_{xi}(-\\phi) \\hat{f}_{ij}^{(5)}\\hat{r}_j + \\hat{r}\\hat\\omega R_{yi}(-\\phi) \\hat{f}_{ij}^{(5)}\\hat{r}_j \\right)\n",
    "\\\\\n",
    "\\frac{d\\hat{J}}{d\\hat{t}} &= - \\frac{2}{5}\\epsilon_G \\hat{r} R_{yi}(-\\phi) \\hat{f}_{ij}^{(5)}\\hat{r}_j\n",
    "\\end{align}\n",
    "$$"
   ]
  },
  {
   "cell_type": "markdown",
   "metadata": {},
   "source": [
    "Или\n",
    "\n",
    "$$\n",
    "\\left(\\frac{d\\hat{E}}{d\\hat{t}}, \\frac{d\\hat{J}}{d\\hat{t}}\\right) = - \\frac{2}{5} \\epsilon_G T_{nk} R_{ki}(-\\phi) \\hat{f}_{ij}^{(5)}\\hat{r}_j\\quad,\n",
    "$$\n",
    "где\n",
    "$$\n",
    "T = \n",
    "\\begin{bmatrix}\n",
    "\\hat{r}^{(1)} & \\hat{r}\\hat\\omega \\\\\n",
    "0 & \\hat{r}\n",
    "\\end{bmatrix}\n",
    "$$\n"
   ]
  },
  {
   "cell_type": "markdown",
   "metadata": {},
   "source": [
    "Чтобы перейти в размерный вид, достаточно положить $\\epsilon_G \\equiv 1$"
   ]
  },
  {
   "cell_type": "markdown",
   "metadata": {},
   "source": [
    "#### RHS"
   ]
  },
  {
   "cell_type": "code",
   "execution_count": 374,
   "metadata": {
    "vscode": {
     "languageId": "wolfram"
    }
   },
   "outputs": [
    {
     "data": {
      "text/html": [
       "<div><img alt=\"Output\" src=\"data:image/png;base64,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\"></div>"
      ],
      "text/plain": [
       "             ^  2 ^   (5)           ^   ^   (5)         ^  2 ^   (5)  ^ ^\n",
       "-2 ϵ  (Cos[ϕ[t]]  f       + Sin[2 ϕ[t]] f       + Sin[ϕ[t]]  f      ) r[t]\n",
       "    G              x,x                   x,y                  y,y\n",
       "--------------------------------------------------------------------------\n",
       "                                    5\n",
       "\n",
       "            ^   ^   (5)             ^   ^   (5)           ^   ^   (5)  ^ ^\n",
       "ϵ  (Sin[2 ϕ[t]] f       - 2 Cos[2 ϕ[t]] f       - Sin[2 ϕ[t]] f      ) r[t]\n",
       " G               x,x                     x,y                   y,y\n",
       "---------------------------------------------------------------------------\n",
       "                                     5"
      ]
     },
     "execution_count": 374,
     "metadata": {
      "text/html": [],
      "text/plain": []
     },
     "output_type": "execute_result"
    }
   ],
   "source": [
    "RHS = -2/5 Subscript[\\[Epsilon], G] Simplify[RotationMatrix[-\\[Phi][OverHat[t]]] . fh5rh, Trig -> True];\n",
    "RHS // MatrixForm"
   ]
  },
  {
   "cell_type": "code",
   "execution_count": 376,
   "metadata": {
    "vscode": {
     "languageId": "wolfram"
    }
   },
   "outputs": [
    {
     "data": {
      "text/html": [
       "<div><img alt=\"Output\" src=\"data:image/png;base64,iVBORw0KGgoAAAANSUhEUgAAAQgAAABHCAIAAAB07U6lAAAAzHpUWHRSYXcgcHJvZmlsZSB0eXBlIGV4aWYAAHjabU9tDkIhDPvPKTzC2EYHx+H5MPEGHt9NUIOxhLXrPghpPO63dAlwpqTFKhpADm3auLuoNDE5U3vFt5eXu/lJbYrc3SrfAsbyj903TOb6s4h4CokXXIuugbVIePq5z/xY/dxr3RcJbWhvkf/nKsYoyKYelckMzXVNLp1QmIrhhivgjRknk16dB8x8DBYd0mMwwMP27pEgbpzxBYlbpDvLKzYfjdNFpXosAj4+1fjOExngWpaS1nEVAAAACXBIWXMAABYlAAAWJQFJUiTwAAAAPHRFWHRTb2Z0d2FyZQBDcmVhdGVkIHdpdGggdGhlIFdvbGZyYW0gTGFuZ3VhZ2UgOiB3d3cud29sZnJhbS5jb21coqaFAAAAIXRFWHRDcmVhdGlvbiBUaW1lADIwMjU6MDM6MDkgMDA6NDg6NTb6uW/IAAAPtklEQVR4Xu2de5CP1RvAcylRpFzK6ldSTK5LUyq7JI34qamoEQ1WbLpYTWrLGkJUwjJb0WTp3rJMNbYfW5vblm6oVFRIsfmRVakUXVz6fcaZOfP+vvu+7/e89/f77vv+Yfg65znP85zznPPcznlq/PPPPyfEX8yBmAP/z4GaMUNiDsQcqMqBGtE4MQ4fPvzQQw/9/PPPvXv3vu6666rDTEeM5NCRg2Ck+nf06NGBAwcKYTjxxBNLS0tTnaKk+EeM5BCSc0LSOaDBhx9+OHXqVJWWgbS5/fbbEYlBgwZ9/PHHzZo1q1ev3rvvvhsIJr4NGjGSfSbntttu27Nnj/lkJReMY8eO9erV6/vvv1ec9b///nv8+PF33XVXSUmJYhcnzfLy8pCKUaNGgSdwvv322wsuuKBhw4affvqpE7Cu9C0vL4cP995772+//eYKQAEkzCTbINN/ctjos7KynApGcXEx6rsiwT6fifv372/SpMmkSZO06O3du7dTp045OTmKOHvUbN26daeeeqpQ8K666qo///zTlYGCJdn1XS8ocgYMGGC+dSY5MdiGu3bt+tNPPylOqvqZyELZt28f5rIiZKNmupvxH3/8ceTIEYeQnXTfvHnzGWecwcH1zjvvjB49Gtno37+/WygFRbJHu14g5KB1IxsmU5zEK/XGG28sX758zpw5Kn6ecePGPfbYY2g1Tz75ZI0aNXbs2HH11Vf/+OOPaBTp6ekJEO68886nn34aba+wsNAIeH5+Ps4K8b8dO3a85pprjFrOmjULGWYJnnzyyeaoslLfe+892QY9p06dOirUqbeB8MzMTPApKysDbTpioU2cOPHWW2995pln4IwRKA6Z1atXy/+Fkw0aNHBIMqt55syZrAABp0uXLhxf6rRoW95xxx3z5s3DlsvNzb322mt//fXXt956KyMjwwSa6zPoIjnwYf78+S1bttTH33xfvPHGG9evX6+yd1o6EysrK1nBZ511lvmJgYsJpejfxz+WvhEaCI9Ybdu3b0+K6vPPPy8AXnbZZXT54Ycfknax2uDhhx+G3QnIPPXUU6zynTt3mkB75JFH0L4EenxwyTnJKD99+/YVABs1aoSwWSXHiWHj+gy6RQ5EPffccxMmTDDihpkqhQbVtm1bdT6qn4lY5yzKV155xRy4ou8Vo0IIvYpgyBFRMT0SDIb4/fffq5KW1ARHMNjRVRhuj+QbbrjBnmBY2vW0+Hs6g7bJERgeOHCgVatWRtw2i3yjCfTo0UP92JW2puyCaKFto89hTsgfWTRsn1DFcaQO3KQl2porcFwEcsopp2ihcaYhtIjiF198gaXhfCCfST799NNx902ePFmL+ZlnnvnBBx8UFBSkHDkC4fr165999tlif6z6mQnGm2++aUkfvfzyyzE333//fYZ5++23r7jiisaNG19yySWXXnopWhMKhhgexQ79e+7cuQ4ZipqLxEObVHM7d+4MAtqPQ8nhKDa646cGBxGAx8eAO5I1BKrdunVr3749kRa0cxtg6RIUyWyu6DBVcUYf/uqrr+zREiA5EmGWN4vcsmDg7mVNq5PN+cCU8yf2OqkZmLmyLwfWueeeK/7JYsVgSEtLU4es23Lr1q1sw7t375brDF2Fv2s/3el0OG7S7gcPHgQHEMM5hnhMnz4dU0r2wtI47bTTkgIJFckjRoyQuQVaxNasWXPxxRfbPr4Cn0EUV2LB1gQDhQf9p3nz5lan8OWXX8Y1ifeA2BbnFFsmorJ06VLpU8IpBKOtgq3aHpL+e/x74YUXxP8CWfwiv379+jkfyB4EQqJIxYoVK9q1awdPsAr++usvFEscO/YA0isQkmEve5lwOid8uPJPOukk/Bn2KAqEHC2qmNBGqpSh8b1hwwY8QiqGoGyDtiBGxdjghLLUV7exoum2bNkyMW5IjO+ioiLJ/euvv54DRJEV6sa3PZJtWKscfQRkOP+NSLj55puxFY3+19MZtEFOAp6o9DjrdZ0ihjbGd999h/pubyfAioCV9vpGqRdBjMWLF5O7lbpEPf744xgYWgv7888//+WXXyRFbLoVFRUpSiBeflR64k5V8TcTDExGGwRjIOrqozZApXqXZ5991vXooZ88QR9+4oknUIkvvPBCMS4uNeI/2ihk06ZNiQX5iZW7Y7HISSi0IBgYGJyhNpCQRraNvhHrkuqswBuLYT1s2DA5L7ib8ShgcMtfUBQxM1J34vBEa2MJkhDDE4Pj0rbzJCg2oUEGNXRQ43pKMrk8aBo4wSV1WJ5sseecc478BR+DbZW7KtM8JUd3jljkhC8tnBgIRqooxzKwqEthUEvW03H9IXnXrl1t2rTREsIZQmBK+8tnn33mXDD8IUd3RljkGN8WBIMjsm7dup7OrlvA5Qb2ySefuAUz5HD8IRk/e4LWQDIEMUrJHNzi2BvkYjlklz/k6CJJjPLQoUMWBIMshlTRHf91/IO2adOm4TORRJLFQNKewzkLZ3d/SCZxgRRSyYG1a9cStdSG84hdkphI2Mohl/whRxdJFjnxJQuCgf+hVq1aDgn2p3vt2rXFLTBczBdddFHr1q3Z1TB8zz///ClTpviDg8+j+EMyRjZnAqnyLIaPPvqItPPzzjuPEAppIKQUzJ49m/sIZPo430D9IUd3jljkutlrhsa3zOVWn/IABQmXIvc6UFXxMH799dc4TxASvGom9xnU6bLa0h8++EDy4MGDSZrIzs6GjSQHYW9s3LgR6ojl48wZO3bsjBkzRo4caZU/uu19IEd33Jo1axLms3Bi4B8wuVKjOwYbCb0UbzW5wk0tEO48kZK0adOmVatWkcJIFBz/uiu5n1ZRJRgsIqyoIlb7WmrvNcno3yS8rVy5csGCBTj7SQzB5EA7Jc9l0aJFWCD333+/JYTNG3tNjtHouq6wSD24xomMEtWzZ8/u3bujR7EZuDht4QTlNckEKElBveWWW2S0lxH5hTQwL05jr8lRn8ToLx11XsQtYw5IDoRdMLjd8Z/jn9bd5GT+tm3bJgBq8xqcAHS3Lz4fgR4ficnOgaMncAtAAMSn5BygVQjuzqB/5BjlRXLN6MUXX1RMC/WoGS9EETwS35gxY1wZhecaJEy8hM6fKXEFKwGEi40SN/5CfM05cKSLKIEEy5sMzmGqQ3B9Bl0nBzNJ97qv4SshXGrl1sSQIUOs7hBx+5gDKcSBBx54gABfVY9R2FWpFGJxjGqUOBALRpRmM6bFNQ7EguEaK2NAUeJALBhRms2YFtc4EAuGa6yMAUWJA7FgRGk2Y1pc40AsGK6xMgYUJQ7EghGl2YxpcY0DsWC4xsoYUJQ4EAtGlGYzpsU1DsSC4RorY0BR4kAsGFGaTU9o4dYXaXb33Xcfzxl7MkAogcaCEcppCQ1SPIbA05Kk/XLDm7didd8NCA2ybiISC4ab3IwYLK7OU6CMW3WixCZ3hrnKx636iJGpS04sGCk/yzxbQS05tJ3XX3/dRWJEbVFeAEGVouQNj9jy5Mprr73GzWz/3wt0kS5FULFgKDIqpM144WLo0KHUD0Dbuemmm6iy6xaiCxcu5DEESliIwrN8Dz74IKO8+uqrvMDi1iihhZMagsH0U30npV/V9mgF8OpMcXExJYYpdMijJMiGtlizk0EpIMp1Yt6U0AKhCDX3Y1P9sWoVtoT9Bh9XtO+++26Knol6YswTZUoeffRRf95uUuFggG0sFVbX4qleUBzjG9OCp/+vvPJKc0p9KKDuBauNbvAZVlQKw51v3oSUpQh4fBcrULAGizBpaWD1e8kp2tJ2iWHoVS8ojvoEw3l5LSmXfCignhQHGw2M7nwbCgY7BMXXbIzkVhfqMDRp0oRZoeIrj2yjTeFHnzp1qpAN3OpuDZS6cNQLqyfQqF7TjGc5FQVDDuFpAXXXJwvByMnJqQrW0MZge9Z9utCL40wXJgUdMSpAg9KgHOU8i0jxbNwvubm5tOdtPN3X231DLwwDKRZWd4Kq7YqsTgb1sy+LXPdhPkPBoKxgsB5r8XADWpOscyX4dc8992BgYHK89NJLfnIwhGMpFla3inlpaSmV9Xi/mbOacrt0p5JgQgF1bVElq/BD1Z5FLlV0LWJmJ0YgRbIFcqBL5V9xiCfwkQrL2D/8SMmSULHYf2QUC6tbRYy3tniGmDdqKysrxUvghEoSCqhTsdIq2HC2Z5Hjla6Km6Fg1K9f35WX8Oyxg6rY4rzixS7+ZIZmzpyJB11od+LHQN7Vs0eOp72SFla3Ojr1LmShdBHE0P4i/gu/iFWw4WzPItetHGYoGLxrTVGloIiRi168JTx8+HDcajjpRX1rjnj+ZHqCQi9U4y5ZsoT4NJyZO3dueno6zzDjyqO+uL3aopBGJS2OZfGJ2hcsHfmL+Iu9ir6h4ptAhkXOGWDhxECnFKGDQD5p84nZJbon0BAFfijOwJ+RtwvVOR8XVlfnVUJLFrnuDmJ4YrAloMLaHs9hR1lZQtRap+IEfyLZ4i/iR6+rTzgkwbfucWF1J6wmHESpcgsnBi8B69Y/doKEel8Oa9EY64I/8bvzwjG1Szp06CB/dF4sVB2fMLesDgka3vGfRS4Xm3YUwxMDwWAteoeQOWSsCJH08c0334iWiIF021N1kl906QkK4WiPG9V0Wuhit23RooWFE4PoQUVFRVDzLQq9MXpRUVECDjisRGkLmfUZFJLVYVyxGUW1gDpbP1swgWMLgoEjIi0tLUDZ4IIB6OJsEeeD/PC94FzH3ohLFPggmaICN5UNdUub+oCAp0N8+eWXnTp10h3CLO2cwCppmJ5iZgKcdY+7gNASFd8oxEpLghjcB8De4O84cL2oARcUsaEdNyMjA9zwjJPJK2WDC65uJbcHSzjLmztYlgWjT58+pBwHhTredO7KcJQTgqV0N7V08R6I4jeZmZmTJk0KCrFqNW5WVhZ1pyA5Pz8f/pMqggbLhsUUBKhNuDUFLG9yjiwLBjcbudboFhI24PTu3bu8vJygFWleW7ZswX2MnDBVlNMVoYxq/vlwKYVwIUX0KIQLq0WqCGoVic/kSqV6HAmnP1mqwpSt+hleVBJNuRpGUq44TwP8iMJwmwy7AnetD6shQEr9GZqbXiUlJZb0ZMSAKSDfjlnAjWOyMZHDhuLOmgt5oKmwsJBggLhwUvVLcrU1OzubWxn+zJbJKOSnoAvC7lgqgpoLVrkooN65c+doHNc4PIcNG2bEzySCgeGLDhNgpC+odRCPG20OcPWNc0+YT3ZODPpwV66goCDabKqG1LleUDzkBdQTpnjGjBl5eXlm865yVxDLnRdTVFrGbVKCA14UFA9zAfWEScGjw5Vd85lKYnwLkcKcKisrI/G7Gu6sMcnR4wDvzkycONHcN/A/Ejb0pNaQag4AAAAASUVORK5CYII=\"></div>"
      ],
      "text/plain": [
       " ^   ^      ^ ^  ^ ^\n",
       "(r)'[t]     r[t] ω[t]\n",
       "\n",
       "            ^ ^\n",
       "0           r[t]"
      ]
     },
     "execution_count": 376,
     "metadata": {
      "text/html": [],
      "text/plain": []
     },
     "output_type": "execute_result"
    }
   ],
   "source": [
    "Transform = {{D[OverHat[r][OverHat[t]], OverHat[t]], OverHat[r][OverHat[t]] OverHat[\\[Omega]][OverHat[t]]}, {0, OverHat[r][OverHat[t]]}};\n",
    "Transform // MatrixForm"
   ]
  },
  {
   "cell_type": "code",
   "execution_count": 378,
   "metadata": {
    "vscode": {
     "languageId": "wolfram"
    }
   },
   "outputs": [
    {
     "data": {
      "text/html": [
       "<div><img alt=\"Output\" src=\"data:image/png;base64,iVBORw0KGgoAAAANSUhEUgAACHwAAABjCAIAAABsPxLiAAAA0XpUWHRSYXcgcHJvZmlsZSB0eXBlIGV4aWYAAHjabVBbbgQhDPvnFD0CJMGB4zCzrNQb9Ph1BnarqdaI2JgkPNL8+X6mr4CUnKx6QwcyYd26DIqWFxaX3K94wc+3e/MTdIkyaNW/DcztH3ffsVjav0ZZltA4gVptF+xGKssvY62PnS+jtXujfaMX+kuUz2tTF1QUN0aT7I5O3RIlCVVydTxxAkwseEi2kzzhzjJ4ZOiIwoBMv2dP/hGNRzxBY1YdZL1iZ2mMoaaNsfIyx3s3nvMLaxxazqUh4mQAAAAJcEhZcwAAFiUAABYlAUlSJPAAAAA8dEVYdFNvZnR3YXJlAENyZWF0ZWQgd2l0aCB0aGUgV29sZnJhbSBMYW5ndWFnZSA6IHd3dy53b2xmcmFtLmNvbVyipoUAAAAhdEVYdENyZWF0aW9uIFRpbWUAMjAyNTowMzowOSAwMDo0ODo1N42+X14AACAASURBVHhe7Z13+BXF+fZ/GhNbjA1UVOy9gYVoVGJviL0gdoNBbCCCFdSoxAJ2RbAXsIGCooBgV8SCSuxGsETsKQSNJWJ5P2/myl6bPVtmZ8vZc869f3jh+U555p55pjx1np9++un/9LUAAsOGDbv55pufe+45y7GmLW/ZrIoJASEgBISAEBACQkAIVASBPffcc4MNNjjnnHMqQo/IaB0E9NZonbnWSIWAEBACQkAICIG6IKCrfi3s06dP79y58yeffLLIIosUPSnzFt2B2q8IAiNHjtxtt93siUlb3r5llRQCBSHw3XffHXjggf7GH3300Z/VfEcccYS/DP87Z86cgkhSs0KgZRGo5Ueg2HrrrWtZ8r333vNQevjhh6+++uqWBU0DFwKhCBR6unXt2vW2224T8kKgfAT01igfc/WYiMAdd9wxevRovSYSgVIBIZCIQC036SGQCJoKtCYCuuqXPO8dO3ZcfPHFx44dW0K/88jTpQSU697Fu+++u9pqq7399tv814aYtOVt2lSZpkFg7ty5Z5999uzZs3faaafdd9+9OuO64oorZs6cyX89ku6555599913r732WmONNbwfO3To0L17d+9/L7roon/+85+DBg2qzkBEiRBIhcATTzwxatSoBRZYAMb85S9/mapucYVr+ZG+1l9//c8//zyg+Ozfv3+bNm0MJV9//TUc+uyzzy655JLF0aaWhUAoAq15uv3jH/9YZpll2EZ+85vfaGEIgdIQ0FujNKir2VE199tvvvlm3XXXffrpp9u1a6fXRDVXjqiqRaCBuEkPAS3g+iJQTWYBk0IFWbrqh666fv36vfbaa5MmTSp8TaJ00df0CJx77rmdOnWyH2ba8vYtq2SjI/DDDz8ccMABZmP6+c9/PmHChIqM6Msvv+SB9M477/jpufbaa6Hz8ccfjyGSissvvzyuhRUZiMgQAqkQIGikp2jZbrvtvv3221TVCyocyo/0teyyy2LjFt8pGtATTzyxIMLUrBCIQqCVT7cuXboce+yxWhtCoEwE9NYoE+0i+kJ09eqrr7rdnyu731544YXYhQTg0muiiPWjNvNCoLG4SQ+BvOa9ldv59NNPkZU7vHkryywlCLJ01a9lmeeff54IHCynornJytMFmc5DDz00cOBAexXQM888g5HIiBEjjO5o++23t6+rkrkjsNZaax111FF9+/a1bDltectmiys2ZcqUiRMneu3vvffeG2+8cXHdNWLLM2bMIKmPR/kWW2zBzuswkF69el1zzTV4imCcTkwSAnNNnjyZ1hyayrcKr3feftj7+5sdPHjwKaec8uabb7KkY7o766yz/v73v1911VX5ktTKreFygZOsQWDRRRc9+eSTWxmN0LEPHz581qxZ5k/zzDMPJyyuKmlRev3113/729/++OOP48aNIxrGlVdeye4HF3CBSNtUvuVD+ZEuFlpoIdzj7rzzzpju8Dxbc801X3zxRbSh+VLVoK2JmxInLhduauXTjes61l4ff/zxfPPNl4i2CgiBXBBouLcGo27u3dj+pfD+++8fc8wxuMfhnAosq6++Oul5MPuwXxjV3G951KyyyipPPvkkzi56TdjPZmhJvc0TAbTnuPimGoub9BBIXBi1BXT0eJhcfvnleITgKcsvvHZ79uxJzBIWlSWq1WQWiC9BkKWrfugiWXXVVXv37t2nTx/LJRQoNn78+A8++ODoo49OqJ6o1UGas8MOO6Q1Y/ELj5DJJvbS9AWQPw4YMIAb6n333VfyYJFEswgIu2TZb9ryls0WWuyPf/zjr371KwJJme+RRx4ptLuiG8czg6WCrTdK77z6eumllzx8ll56aTeb1lNPPZW1RF22BQgzoSEWW2yxP/3pT3nR6dzOSiutVLvVoHGB4D/84Q+YrR122GFY0CPmru2CvZJRwKTOvatiAAG8oIhUY5YcGt+GxqcIfgSQ0047zeCz7bbbskr/+te/pkUJBsRejLhAL7/8sqlrUmGz2g2H1vEL5UeidkAeOlo2NxzmTjjhBAIAhpLao0cPrE3rSH+luhY3JU5Hdm5q8dMNUSNvV0SoiVDXsUAdL9JFjLrJhpMWokZ8azDGiuzGBS0ey5fCG2+8QRh0rs1svLfffjtXDpLQLrzwwgFf85glUdn9Fuu0zTffvJZyvSbSMjjlm+ltXl+Oiwe/sbhJDwEHVqrO0QMlRTyKLY8eekdlwkMSa368D9G1GBtr5N2WqFaWWaC/BEFWQ1z1o6ayoE2Y7k466aRtttnGcgnVFsN3ihgexE6Pb+H/EjvAIhXlamKxQAHyPRA5jopwgpQu9XVkQxuMVM5+BtOWt2+5uJJc7H79618X136ZLZcQLGjPPfd0ULrA0W3btsUpxI8G7ngkoTruuOPKhKi2L4TOoVoTo3ZeaqmlOnfuzJuQf6MPximqtgWObfz56juKZuq9UqHnsgBbAj+is3RTuqBExCQzoFAnCz0aaKxQs4w6Y90ofvzss88Y6bzzzrvhhhuut956xiSEqzMhSgI93n///ehmMpLRNNXFTfZT6cZNOt1AeKONNnK47dtPTcaS9b1IZyQ+9JFWzUituY80qsFGfGswlirsxuXwQsxLAQKw8PCrWM4//3xO8yFDhtisnyrvt+SADB2FXhM2Mxso0zRv87pzXAz4DcdNegg4sFJFjh7IKOFRHC+kIgrCZZdd5mGIDg/5DxIeG1vDKjNLaYKsil/1o7ij0E2YYCGIBx1C1XnUEtbr+OOPj2ftBKULKxiLDwLvuG0QXFykdAE6DL3BgYhM7BSkncADDpdbN0gdau2zzz4EnLGvmLa8fcvFlWyaix3h+JZYYgnOD3zb4V6WDXP3/fff5wudm9IFGkI9bzjwcqcw7XjvuuuunXfeubYWcYrGjh1rRLpsptdff73RwdSezb///e8JzZS2X5WPQqAKgonss1MOP7qJic3o/vWvf9UOM0cPOTcMo/iR1h577DHCKZhmUReZxN1Dhw4NdPTRRx8tueSSbr03Xy1xk/2cOnOTTjeMJ7KYetnPkVvJ+l6k3WiOqdVkw3HApxHfGgyzCrtxOYsn1UsBO2WOcqJYW66Eyu63a6+99rPPPqvXhOU8xhdrmrd5BTnOj3zDcZMeAg78VYWjp5xHcaqjBySJWc3pg8DHBtXKMktpgqyKX/WjJrHQTZhYIyyhjL7+mIrGJ4aZNz762IMPPohFKlJgtxhnjVULySxR9fEAQN+VI+U4X5MDg2Zvu+02tIukuiEgDMkwUGnm2EtUU6xd1pB9yo205UsYQut08d577+24446/+MUvmDI8MzADxJRszJgx6AOYlyrg4OXr9hPDAYY+o77kEf8wNP0D2UQ4vE2Q+vnnn5+YReuvvz4OgBjoBQgm5Bq/13cU6r1SCFSfH4GLgB4B0HC/hSXri2QUP0IVHrjEJDTkEUSV1FD8Y+rUqbX8iL8shi31HYh6zwuB6nOTTjdMrEjH6OXicpv6prxIu0ERU6u+74Lch+PQoN4aDqCZKtVcPC+88AK0bbLJJpbj0n5rCZSK1R2BanKcH5aG4yY9BOq+qh0IqOY1nrsEKn+SiiHwsRlUwzFL7oKsKl/1o2aw6E24TZs2a6yxBtJXmyUUVQZ3WKy3Y1pIULrccMMNJELIQkGj1MXy/dBDD8Uog9gsBNn3Z2XPMgTERmBIRCZydJMqmaZWXnll3FwI22eM7ov+CLz7t7/9zV7pkrZ8KvqBt1OnToRTrIgKIRXxJRQmMjLebSyPDTbYwHR3xhlnsCBJe0DSkRIISNUFSwUVEWGdcRwhnBE5J+Gge++9N1UjeRWGBuOwnPgRho4yJvOn/6M6lvWJ1VWgdRBoLH5EP3HBBRdw78STEr0+phIkY2OzxZm6/CnLhR+5aJJkonzi3XrU6RaPW2NxU2uebrzEsJ8gdoQbC1CrKS/SuauR6v4ucJ7fHCsW+tbIkc6qNVXNxYOJMRmACWS96667OiDWmvutA1BFVHnllVcwTSNUABr3Itpv9DaryXExqDYiN8U8zBvrIdDc3FTNa/yll1764YcfYlPrsNU0IrMwzIyCrMpe9aNmsJxNGFhIVuSwirwqhCZCYBtnLRrjikVUsXXWWcfGVyuqTAOFFyvOa6m+jmzDhw/HIdE+Q7hlebTKF198MaCRPvHyyy9HT0CMqfilYoJ+mI/Id1nWVW3dVC7M8MObb77JHp0vDbm0Vk6woLSem7VDQxuM44iZTbSJ6IrMv0lZnwsOaRt566238HQJ1IL18BZiur3f0azg0YJUujYeGmfYU089lbbfXMrnsiDJqT5q1ChSfR5yyCFcQZ5//vnaPBm5UGvZiL0fdC7Dt6QqbbFy+NE5IJJ/OLvssou3wcKb5E3hf1nq6BfTjjp7+VB+pFn89l5//XV/+ybx23nnnRfodMKECdttt112ShxaqNrpxhDETfbzmJ2bWvl0I/4tult7tAMlm+8iXVAU6fq+C5znl4o8DF999dXsx4rlW4MeG/dukwXnmLqlLR7LlwI8Qh4UzvG7777bYchV22/JtIRNZCO+JuDKESNGnH766QceeCAGN7wIsExPnBECb5irI7FeEwunLZDqbZ7X3pKWyMTyVeO4GIIbgpsa4iFQQW6yfwgkLmnnAuU8ii2PHkaBqpjwMMRkcpB4VI1ZyhRklXbVx5CLKDJoTZyXnKlYwiZMVCpkJjaZgWLGgvU5QcKiCsTldEGlecwxx2SBqVGULtxOuHAQAcxgzRWf+Cfk1eD1Hj98Boi0yHwPPPBATOGLLrpo8ODBiZoJZMFkI/TafPjhh7PgT10C7DIW+0YSy3Mr2m+//YzXjv/Dd+eRRx6J6QhZm1d+/Pjx9iTZlLS52DG5+Bth/Y1bhqEEH0PuprNmzbLpIrQM+wgXdGLpJLZAjGBvWvnHnDlzoqpgZ0qBRx99NLFNDgx/m/YJoOzPs1AaQJITDgDhkdGjR5vnN/EQcery59VMpD/HArz6mE1o8LfJdEMkMf34B+yJdnDFFVfkl0suuSTQtaleciaMvBYkd6BQEw8GXq/pAN7E22Feww9MJa9lm9w8RfCj8+6dXUxM4iKzp2Fn8f7774MJS5rL6C233JIjl9k3FcqP6P6556Gg5ahFOoNEgNsJRwlnB+44gcaR/J588sn2PeZSspqnW2tyk/PplpGbWvx0I6fL7373OzduasqLtIMaKfd3AdPhzA5uU1lb689//jMLY6211jKXf/5LKAYkvM4P1MS3BjQ06N2mFj37l0KlFo/NS4GzHkMflgR++Q6LrYL7LU91Qt4HxlLx1wTUkg8AF+fAwxw+JeBJ/NOGF72pRSAKhxmMr2LzNs99b4GkOnKc80MAsm04LgbwhuCm6j8EKstNic/q0LVRx0ex873FkhGmTZuGIxQWt3/5y1/S7l0VZJYyBVmlXfV79erF4WKyJIR+9tIYqhcqSzexxQgslHYt+cuTSQQRR1QLcUoXBCK4yWTpuyGULoh72rZtSwQw/0jJhNOxY8fai1cADXZAimFizIfnRxRWKGDNQ4W8wfF4chp16dLFNEiwo5iZs5wXskuhZrAsTLH48lwmiChl7mcYU8O0Bx98cIcOHUzODMZ48803x/RFtuTddtsNrZLzOy2q8cSLHdI0gPXuo8Te8QLXIG3nzmcPkb/k5MmTGbuN0R8U0pGZWT5cLqJ65OkCnQCbSBJom9Y222wzqgRUDjHVLc+zqBZYxgbJ448/PpHI0gqQBadWmXfdddchGvDmHTeXYcOG1ZKE5SbJM0sjlY7yWpAsXeQgZoCLLLIILMm+Td4as+EQ/M0ys1zuY4+/HeY1/Fqy8Q/F0C9xOEXwo/PunVFMzGDZLphuvFuwKEkcezkFQvkRu8vu3bsvuOCCZsWyStmLQlWD5FhGiFAOqaaXyp5u0NaC3OR8umXkphY/3fBdhnMd+K4pL9JuaqTc3wVMhzM7OExlbRUU5NwuzKaNVak/cnrPnj3dukh8mzTo3SYUDfuXQqUWT+JLgUOTCyerwtlAs4L7LeaDoeqHyr4mWHJY6ZlnOB+2ZVwId9ppJ6K8ml+wvKx17vcWqtF5MI/4+LrxckytxLd5EXsL9NSR45wfApCdyHHxE9Qo3FTlh0CVuclN6VLHR7HzvcWGETBQRsRBKo5A+ATLTayCzALlpQmyyrnqI+rEzpK4ozGeLvbSmKJl6ajuOC7j/QcSVxfqA7LVRhWLU7ogrMwYgqkhlC5A4+y1ZLkDMgfm6pOodPHPk82mkzj9BIjDUi+xmFcgvjwhX8xAevfu7dc0vP3221tttRXpBLJ7kNmT6i+ZeLEjXq15LlLSqFi4GBHfAFcyft90003d+h00aBBaN5u6iRR6jRi1sI3SxauSVsyUcWl5y+Chhx6yGXs5ZW699Vbc5EP7+uijjzCIwAMgStuHLRibVTl0ml7yWpC//e1vDUuSfMvv6oSTHBom4oyVOSh/X/F7Y17DD4yOIxmBPomFEkddKD+mfTul5d/a0ZkAr+TuShx4aQVi+JGzg1vy9OnTQx3VoRDvQ2yXvvrqq9KopaPKnm7Q1srclJY70pYPrLEWP90I94c7mhvfNdlF2lmNVOi7IOPydphZL9MD0YfgDrMtc+ffdtttzd2DFJgOzSa+TRr0bhMKhf1LoVKLJ/6lwDmOFR0L4MQTT3RYAKZKBfdb9BNIP1544YVGeU1Ap7kBYj/KtcojG7vpyy67bOGFF8ZNx3mCMlaMv2kXtLdAc0U4Lu1bO2356t9eYripmg+BKnOT5engXxUVeRSnvbckMgIRnNjZlltuOZKyuO1RFTx6GEhpgqxyrvoDBgzgYIqPO2ovjSlals5mhe0CQcbcVpRXa4UVVvj4449DG/n/Yd9DP6Qh2MyyoKMKxPxOSBNig/BhfEGxO++80/wvwm6H1kqoggtCoBcMsV977bUXX3wRELITQCr77I04tMCUY1Cw8sorW9ZNLP/000/TFObJeKt41sr8grrlscceQ65NvCnLvmyKEbYLVTaKHJvC8WWuvfba7bff/sknn8QK3rg+cHqhjiIHCf+mF7eJJnOGuezm+NVrtdgPwUvNnfvY7WmoLUmkOEzmydZT+yec7jfZZBPsv2rD4lGYqef8xqssS+9p6+ayIAmMy5Km6xNOOAGLEi/LDr+QDwPe5/cowhCdwLAzZsxAEZVIPIUBdurUqW5sUtt+LsOvbRaPJUI45rssq8+P4GBYMt+BJ66K+AIx/MjZgcQNdTWX5tBGUBYixzEa8dI+nW4BqFuTm1r8dCPWH/cuNnwHvmuyizRGlIQaNldE78OUAUEhokwHfAJVGuJkgWYcqbnw49ZM7AX8qs22zJ2fmJYYMPLvcePGpUUj8a2R5W7DzYeAFYTwtaEq97tNaKe5vxTqvniAlyfV/fffjzsFXlA8rLwPcYMN8qZMBfdboiAQ+sLYjNZ+FXxNcOlF1wKpOKxwrfJoxvW5T58+mLDk+7pBMoVGirdDXLpguxVQxN5iem4+jrNBtLG4qZoPgcblptAV0pTXeJJfoO/n7OZCQjQn7+hBY2HDJpU9eiCsNEFWCVd99AhXX301+jMCV9jPS0zJoq89HP3t27fnaMtILfINfxbz/2ktSp+DPM7ShL+2hY033jiUYngji/oIeZ9NHCeHLjj48ZdH5kLdxx9/3DOwYhRIac8999yoNuPVzrvuuitevSiuPGd87qb82/+REiOq8URNb+JIcVRiCPZBWhLLm2ALfDbZ+XCDCAzW/C+KmVDKCSzLX1kkaOa58q633nreKsITBcO6mPHaa0oDjXiKQAenDXZ83py4yyROBAXiKSQuFuGt2AR50hsncZZWAD3YKqqj3I0IQjsiRwhOczw5PNmK/WK2gSh7GfS7DvHoBw4ciAwle++5tJBqQbKzs1SYhVQeZvfddx8VTaJ1PgTf++67L85AofQTYZJIC/79nDc25VFIx4/XwSSHBlMNP0CAMeuzNNMulB8hLNXunZZ/zcBJoURkOVSJmDea2UTr5mfJmB0jl7Wa2IgbP7KY0YsXdNbH0FzZ0w2aW5mb0nJH2vJmSeh0MziYoMaJ6QxD+ajJLtKIlbG+Ch0pgoyYnaTQd4Hb8k7cq90KECuS1eLgYZn41nC42zBZRMzwhz7jvhqT1ay0u02ql0KlFk/MNcaYVIZ+7CGJy6ni+y2XyQ022ACda+JAAgXq8ppggZlw2fi72xCMSVbo2xzT2NrqXPV5sxOymD+hySAqoJcVFaE5+W/AKqZT57e5894CMdXhuFQPgbQPBw/2puSmej0EqsxNaR8C1XkUp723xDMOkXVCjx7iqydugBVnFuh3ezinPXpKuOqTPpmDJkq45M1U4hlRpiydJcTaS1xF8QWIthoVZibS04VMMsT3cNP2RLnlosFL2yDxCk477TS82pk5hH3YWGF9RoBCcul4Kv20bdaW57Ju3lfIvgmEaozHzQeyJvm2w4cAkXhiLDjP5Irh8G//R5Arh5YtqxBNj5L27kqJ5T1LavSWXjzEKGI4ugKDNf9LkonQKhyx/JXXLFOA4xueRp6lM54ocMK///1vy4HbF/Ms94kLaVkLCk866SQy2SCtxtkNGyJ0QuiKLKtHjR1PAuJfMQWYEVEGzVMAvS+++CJLF9nrMiO4kmDFhvratFbmYrahf//99/dyDtmUN2V4TphkuVX47Bck9jjGrYcEZfYeZj169Nhjjz1wyMXBhcxGBNyDT/H9RMYxadKkAAKc/ehXUMDzouMJikyNRFNQSHkE+mSxyh0x++F7XcMpxNomgTzDwbMHM230gghfPEdUByLZi6rPj+wVb731FkFISeZk3JXYIf0sWfcdw40fAZ/Ej35PSocZdKii082cO63JTTrdDMuYa7+5Cqb9muwizVl5wAEH1IKAVzeOs842d3V/F6Sd1pjy5ry2vzx7TcW/NRzuNoiDucPcdNNNnIDYLRmSuK8ihsYk1lyq/V8Jd5siXgrVWTwx4i2/2WLU4qn4fosVy4033shpmJZZsr8meCBHGslGUMNLed111+WPGHpjeJTovG426tqPAMW1PcCMkAQrwTLIOnFrwyAG4S8l+dPJJ5+MLXNalGzKO+wtzc1xMaA1JTfl8hBoTW5q+ms8xvGhUu8YUwCPfSrOLNDp9nBOe/SUcNVHUoSYCIGMzYYfU6bMaw8Cc7fnj59+sMUzIXREcUoXjO4zIpWxOt7rWPKS+JrrHec9UjA+sq5hV4VQJlHon7b3kSNHIrlDM4ySiksP9w+uJqQHQMmWtilTfsqUKdhz8WFsZX7Bmcb84n177bWXW+M2tUyMiKgQLrUtJJbHyGXLLbekIgn3uOSReQ8FWxQl6E4Cg0WVkki2iUp3yCGHsGShBxEqMmJqobsaMWJEYvW0BUh9QRUsd5ApJ9blLgt5vLdREWOGg7oF03LM5dhTSMFCQtHEFqIKsPA8rAwl/l/Mn5566inn9nOpyIwYSq644grTIFthaYvZZgj4pXXr1s2mpL8MJxyZvtLWKqi8/YLEBZJrB2T44wnEU0UIMl6SlEGNjbye/Q01MPpCXJd4gB1++OGBUH44nNEFsgzUgS+//DJhVZA04XMGe3IymeTt+X72wzf9ciIwFkIo4HM2dOhQlE+k5+nfvz9RL9igeIO5kdcQ/Ei8F4/7cJJjpOgO/fxY9x3DjR+Jh0kuQbeJy1KrxU+3FucmnW6Gd8x10S28mGmhOS7SXNp5MbLH1m4pWH1hrMBh6rbb1P1d4EZ2bS1EriYko3kUpPri3xpp7zY81niM8FRmXkhfgbUBhgiYIxB7BKoeeOCB2lBRhd5tinspNM3iqf5+i12RiUSd6sv+miBDkoPpGB4nXLe4rvft25cbO5dhzzauln7sqwJvc895JWqwKFp482L8iigGxud/CQBI6A7K8yhOBZFN4bR7S4tzXFNyUy4PgRbkplZ+FNvsLdVnFreHc9qjp4SrPvdDTJdsJiW+TJnXHqRhWZ4/ZiC4iCCyDh9UlI8M/iWY82d0sclSHZQxryYzNprqLO3Y1CU8sUEHuMnuYFPFlLH09ePSb9pHUWTfeFq/1NqWGQudmrzxNp9NeaSuAS0UOjAUD1Epyv39eoGwQ4khQDDUst1ceeWV/gKIhs3ugDg1ahSJ7mmhFeEKLPdp2dIpmzQDGECdeeaZ2M3RILJdDH9Myybwd0wGb3sKUerQFBJtmykzZfL13EzsF6mKWc+hiXMTq6tAFAKpFiTqZzMLpFqxgRS1Cm6ClCeQHS4R/ipG1RFgMcqYoFUoF2vbNywQ81nujf4WUg2firhj8gg0yhX+F1ELBGOGzL/xxyLOGM/mKDoL5UcISLV7p+XfWtiJY8lM9evXz2YlqEwUAtU83aC2lbkpLXekLR9YDC1+uhn3OAxcHHaJprlIc1biN4nZUBQI2Hbg7R31V0tudXsXZFzeDtMaVYVHIkuFwdo/Mbym4t8aae82hIA2Fxgs/f3UYkJnvC6wjkIH4/2p6LtNlpdCpRZPqmuM29Jq8f22FjTSFRAw1gFMAon7dSfcjbkQolyxacr4yvOMrS2MKMYwF5bUGEH6C3gRWdF3RvVif9P2t5B2b6ksx6XloLTldXuJX95Nxk2Jp0NlH8Vp7y0ZGcFm02vxo6cuV/3QebE/I9zuzKnWEkcJYWlt1k9MGUTi3DxDC0R6uqDq8MfGNYduaR82GgcddBDRbEh5UiYZBNbgoVXaMIvuKNFzJUCATXm0FKx7MqDssMMOpjrKTN6f+GdgC599RNj4HHfccf52eP0a12mOk+ztey3AD+ha0OgwoqiUif7uCDqH0uicc87BX8fEzyWgAYHFTJkBAwbAqBmDjOU4OjXVcAikXZBe8CjLHZJMm8aRhZcVBqF+fAjxzMcvjzzyiPc7ZdiB+d9rrrmGPHWEF/BXMSyQ45d2+JQnfw/CFPw5TP4n43VndJZoGYrarQAAIABJREFUXDjIiUbtJYnJkVQ11awItOzpJm5q1iWddlwmpmuMlbRNg41+kb788ss5Xj0jIYb8yiuv+OPiYkuOEN8GimYtg7f3hRdeyOgQvDo4BMS/NdLebcy9hWdCwPsWI4xBgwbxJ7QsxinHfIXebfRSaNY1X/FxYelMEhpcuNDZQCqaY0K7rLLKKtzes2e8p8Frr70Wh3I/CF4cuXzf5mn3FnFcxVdmI5LXiNyka3wjrrR60ayrfijywJLx+UOzCOWiEqDEKV28jBrlrwmslXnScHtIFfYHATr6AIyeELcR8i8t2XjVhEZwTttOdcqbh439PNqXxytl8uTJxEYkn4SZI/5NnJ+0sWhrsTKxYgOfiXSX3efL3yxqEmPgzwPbXFLjP26ua665JhFsTTFusYh0vTQARJHm34RsSmpGfxcC4QikXZDt27c3DVk+eBAbmfKhEbfNj7ji4dfv0YclCKpEnEXOP/98fCk6deqEnOX1118vYgrTDh85C/xLojbjvsNH5idkYXgrmv/FA4//iiWLmKzmbrMFTzdxU3MvafvRoU03ib7sqwRKNvpFmqsdAVQJMkxwYzM0TkDsD/zhwokeQAArZ4gavSIBOrCKw7sdPQfpWx2GE//WcLvbEOUMR/kAMcSCM28K7/5jChR3t9FLwWE9qEouCGA1gk0VL4IbbrgBxxTaJGsst3cCAmdvv/Zt7oWgz3JeBAhz2FvEcdknVy3UItBw3KRrvJaxPQK66odihcA8+3FGcCbiAIW2H6l0oVeHTLZYKHAFj/nuu+8+mzVhjJLI5kIa59AvkHuAwsRfRixIykSiP0EAaWDwmfAy2Nt0uuKKK9oUa6AyNp4r/uGkLc+LC+MX8j0Y+zLEtSRXKAKf3M3q8VbhJgqpXNd4PSbSzDscRwFurt69E9EzcHmeLrSA3iU7ryZSogIVQQCJP1tNzOc3jE2kOe2CpEFUgKbZqIRdgU493UzAWs0UM0nVEKNgK+dVJKguylTM5Yz4CVcSzFpxK0H7YiIKJo7LsoDD8KdNm8YJ5VeT+z3P6Ncog8WSllPQ6MXy5UfQaJ3TjcGKmxp9/edIf8ZXR6NfpE3qMjKceZBy2eNya3wozcexEvAWzRH/3JvKd2/EHo7nFbFAyWWIlZsbDvFvjVR3G8wSjVFhaBZS3g7mwhNIAlrQ3UYvhdxXb9M3iE4XA1PvKUHSFDy9/C8LsqekAoGrL17gaBm5pZvFf8cdd2DJmqoRm8K5P8wd9hZxnM1MtU6ZVuYmXeNbZ53nMtIWv+qHYggmZCzLCC9HcFQjkUqXuXPnOlymUe9gAhbzmcRriR+SPrxiMVtG2Ff7kZMgkPYNjct+++3H6UtYA0SQ3DYIUUVgGb/VdmKnJRTA+6+EXrwujFQUZYBlp2nLm2Z56hAB3IRle/bZZ1k5lt3VqxgBB0wKlp49e+IUZUMGycNhIZPi3nyY1fPmNKJq8/GoM7ZFuXwlL5VcaG6pRthnCHYc89lvPg4LEqhXWGEFoxcfN26cDfJE3DLFkCjVlv/000/5EUNRmvX/lcODGJek5oMFcCtB2kIZtC/ownv16mXTb2IZt+HjVIdY3P/qgyX9SlDj45IXS4ofE+exvgVy5Ef/QFrhdGO84qb6rt5K9c6mmrs0Ld8BFrob4yXP1W7DDTf0aEaWwT7gPxnJbeC/+2UcXaHDgbYc98ZZs2ZxB0A2ioMpzu4rrbSS29jj3xqp7ja8Os17kFAHtcTQ0eeff87vtbrAIu42eim4rYdWroXgwv+OQHDBIzrwixs+e++9t6ewIQyvWyOl1XLbW8RxpU1QQ3TUytyka3xDLNHqEFn9q34UVsXdmcHEJDPO8qE9IaRtaAuRTaMudnh3YQvWO/bbdtttbUbSpk0bLsQI40I/Aoj5aWNsBH0CJh5LRx55JM8ABG0kY3/jjTdCbbptCMi3jBfxJirKW77dea2ZwGL2Wjub8lFr3QTzwZfZC8dc0KAyNksUozPOOINGDjzwQFypLFszIXH9rIhZvRdbzLz3UPUZEDJ+ZrWUvFQy0hyoThpzEvz4VwILg18CeUFiOuWpTPkZM2b4y+CrwY8V8V0gsB7xRmI+T8kRj63bgqRNlB9G00lOWqRCiTPoqQzRjNYWxryXHzH/jNKLkyS5b9++jBez34022ojCaLh58CT2W9DwYUk/P2J4y6rzsySWfYwlu9KlCfgxOzcBL6zHrSAwmyyGAJNmXA/O1XPhx9Y83cBc3GS/8LLzQvYW7Kl1KIm5gL2ljkP7zlXKuUgj+8Ouy08khyPOnf5f2AyzK13KGQ5k57I30g7HPWFIUeGQdnvixIkm1aLbF//WSHW3obA55UMvNniom9dvhw4dokjN8W5T2kuhtMXjNr851sr+msjeQo7DqW2KxITEBfKeEni9ENfI/7IwWeXjv6irC3ERzWZe8XCIznuLOC5pafzP3zPyAmhz9nGBCXSKAITfoyLqpKIwY+FW5iZd4zMunkD17Bf17C3kO6JAa5W96keNuoRrTy6YoKGolZaYQcV5utSGxy10+v2NE8EGUU6o4VItDdxXeAZ069bNiAK9DwOo0giO78gzkXvppZfKJMlGieKnJ7E8Nu/YktfmpubCZ5LoMFLui2WO0b4vDqQePXqcd955VMFIH+8ce30mkesoTBIXr7uAWf1JJ52EZHOvvfaypyeqpFktr776ahTTZu+i6BZ4/Xbs2BGW9F4CPBv4xSTRsfkYO5OF7MNLf4ooBLUBDhbFqbhtCMuxTJYFacggw4qJd4dUpfYefNNNN/lfa2yPZkvkUReIDMZiJk4If+rcubN/gA899FDtImRShgwZYoplEbhnHD4RSPC/8TTKDIHti4PDEMYT7tJLLyX4mIPpQGCKm4Afs3PTzTffDP/iUeoHB5ABHJxzZIo6NtWypxuYi5vsF152Xsjegj21aUtyvPLqqM7l2U9/ORdp3h2kwfT3O2nSJO9k4fcPP/wQkWiXLl3SYht6svBjye8CN7Ix7MCoiGDCRDLAoMHvVOrQYOJbI9XdxmSk435eG7/amFhxDSDlZAl3m9JeCuXwgsPM5l4l+2siewu5DyrfBrFmIw3S4MGDa0P+4uBi7vAB8Ui+BGRsLcveIo5LBX5GXuBugKcjWQ8Dz3BsrTG5roLSJRUaoYUbl5t0jc8++/4Wsl/Us7eQ74j8rVX5qh816hKuPVh1Z3/+oD2JCr8fqXRhPuqodNlll13onX08FHqkdSSP8f5kdABkcCludWZsmfuQyQxJHhF/OkfSJ/CGydh4THWzdOzDHMWXJ5gA8jWuRwReIDwXlzlaZp0geiOni8kyuv/++xc3nCwtQyoakRtvvJFGiCqGMBrwERn7v2+//TaqC/yutt56a5JbmChMRJHGj8ozqyftKgLuyy67jPtfFiJNXeMuw8MeIj2RN8Z6nvohexdFt4BXO2otPDAuv/xy+uKJzsrZc889jzrqKMuu8c4jtDEvczLukJmJZUaMdSTst99+u6frtmyqmsUyLkgzqDXWWIN8v/wDIyNMcQncjOqF7RHpw9FHH01Y5wsuuICsS6bwEkssYTSOiHgQGJmVDLCYrJL6mH8TMITyHlwwC5sqNqRjx471e0riwIQfoSnmD3OfCufsw99555254p9zzjmmXzzPNt54Y6NiYVPt3r07xzPx0FJRFVq4CfgxOzexzOC7AJ7XX389iOUVZS77TGVpoZVPN3ATN9kvnuy8kL0Fe2rTljSXuuyvjrT92pQv5yKNnz2niUcPF11OVX9MTvQBmBZxybGhOaZMOcPJSKSpjtoJWRsgtG3bdtSoUSilApfnWpuP+H4T3yap7jZclc1rnJcIV0Tz3CWpHu7sXG/4N0ZR/st5cXeb0l4KDbR4Mq7A7K+J7C1kHELR1ck2CgOecsopvFJ5BZgsj7xnR44caZ7kMGxlJSQZ9xZxXKrVlZEXeAVweyF0s9lXzUdYDqLY7b777oTlTEVMNQs3LjfpGp/visp+Uc/eQr4j8rdW5at+1KhLuPYgZsz+/EF/EWkdzh9Cv6222urWW2+N+msJvxvx32677cb+7nWHNI2AY+COwyy6FvM76VsoiWDX/O/999+PJM58CB9tSMW7nBaOPfZYm8L+MpiZT5gwwabW0KFDzTJCLEh3OOabR8IRRxwRVR0htQNJ/taMIgT1gA2FlEksf8011/ijDzEWk63afJiSIZyN6Qu1hCkZWgbrCf6E/Lf2r0DBn7hQRjVOahZUIDFd+xNuR/Hz1KlTY1ogkA6OqwSvM57gOL7gqMuq45wDh4EDB8aDnEihV527slHR8SEHx7EAwbcxDGT9h/ZCKE/+iv+45URnXFpc5Q15SL2jemTnwjiU5YGWjvxMyy23HC92S/K8Yngj0cuhhx5qAsGhs0zbQmXLZ1+QZmhwXJ8+ffxL2vi+mI8btn+O0Mfsscce3l+ZF+KEmP9lpkaPHu2Hiy0LPY35K6sdmcWWW27JueApvbAhjYE3fm/MZfhcjqGN4bO02Bz69euHJAiFEBHe2WBJDBZDXqH8SL+pWCwt/9aOy0iUQCBmyBm5icbpglDjpgsCBmLyvPnmm1eWxdISVtnTjYG0Mjel5Y605QPrxOZ0y84L2VtIu7wty5soNHfddZdleX+x5rhIEzYTBNAok1mB2wupJYm6SaRiLtKctlje8Ff2CuezL3DImhPW/l2QcXk7TCte1/5Lhf+y4f0bkW6qlhPfGmnvNjTo+SdxRTH274Y87i1cqku722R8KRT6qEy7eFJdY1ItAK+wzX6b/TWRvQW30TnUQmuIajNVRXIsmeez9/nFRjDCvffeG9+geQhgTFlbjCufaZZUjoG/muXER6CLqPbjb9q57C1V5ri0HJS2vMPtJSMvfPbZZyQTNc4u5jOCHeyWUi3acgo3GTclng6VfRQ36NGT/aKevYWCOKUuV/3QsdhLY6hetCwdqTtC14yY44qAuDi0kazpYkLv37n8iNXGbbfdhlH2WmuthaAfIRoCaETevHZI3MIlA0so0xFj47+ePwcO5mf+9zMxrxK/7CFoErtA4YnJOY8B5J5IBrklkKACmabJAFnQZy5e9jldEsvjI4KnDs4HiGtpmbEY7xDuiBhBgzYm1c5jMbOQpYWYrk0uzSwfb29e4CzC7f7zYUyHagSNC8JHQhuRZyhL4/66rGfUPyb70ezZs4mhxMWU5Y1XQWgK9Lz6zbcdrmW4qqDvRSyLrggNrkPcOewW0bhQF6c3DC1J3ZQvkXVsLfuCNMTDL1x50TTj52F4B1ERsLNcCQJGPCi/Y5B5feHxaiyScPbCGhS+Yz3D14Ru8wPCloXFHKprorpx1Zs5cyavL1wMcfPiTEIy5XmZOMCYy/CxVyVUGicC+w+bD+IwpH6MmtwzHBxZIs43Hz8yoozcBKosMC+YGOcsk9gcbi5mulv5dGP44ib7fSw7L2RvwZ7aVCXNddHN1Ks5LtLsk1jw8Mrgck4QLQ478oIwNPMG4WFCGB/2ilSoRhWuy7sgLeXcQrlUpK0VXz7xrZH2bsP9kFcV7uzcVbiicF3his6dk9sRlxbzSPS+Qu82pb0UGmLx5LJssr8msreQy0BsGiGShImJZ/9hwYnIe/jw4bhlG84ymS+58PNERdzpt7Wyb9aU9Hb1It7muewt4rhUc5qRF7C1wlaYUOHIJUy/GCisuuqqAbVfKpKKK9xS3ASMusbnu5ayX9Szt5DviLzWKn7Vjxp10deeXDxd4qYsSp9Td08XQxgSbQyWER2igCGbJVKeWoIRujHCq666yv8nnkn8iBguo8Iqvnqi2jlQnacLBxWuEjwDeBWgtIhpP6PJAy2bjAskZrAEIVV5bkv4eSDrxOHDsv3iiqXSlGYkA4Uf4XG5YTB246Bn8zlQiCLaLBUkyDjwxvRSQSMCqCU2mkleirQifqnHDA33C7N/udne2kxN05TBDhdjNG7D8GbioGBbAtYRR4UzJrEwGxfKPxY8+kUMnRLLUyDt3mjTZmgZ9L7GNvmGG25AjWTZTqH8CA2pdu+0/Gs5xtpiGbmJtxYvcFRxtLzTTjthNGC/ATrTXJeKlTrdWpyb0nJH2vJuCyw7L2RvwY3y+Frs8Oyl2JcU0XhUm2kPi6Iv0pwpHKM8OgjCaWimR35B02yCncZ/hQ6nnOWdNMSsf0/11qAz+7sNJbkwExSOi7oNlcXdbdxeCpVaPKmuMTZoO5fJ/prI3oIz8WVW5Kll7urGVq/MrkP7crhpO9NcQY5Ly0Fpy7thlZEXyHrCQ4D41fSOXI4LA4YIbpRUvFbVuMnydKjgozjtvaUcRrBZftkv6tlbsKEzbZm6XPXzOiOKewKQ3GTXXXdNC2agfEN6uhhJK1sMEtt99tmH4LybbbYZFs21GiQMsfkRc/iC9IE5NktUNGIu4cRA4kdMA+wTubvRgP0LXZgArzZfqvL4IxPSB+Vcu3btbBpvmjKghNwZkzrG7o+ulvsAiS1ulgrGGphY5t5+0Q3iq06uEejHApGbd1R37FboVkP/+sknn6DWJjvc0ksvfcIJJ+TiHlH0qOvYPpZo+LvgtuIFDYshBrbFCYlMMNg9JdLMxoXHIQseE2AMnRLLl1nAGLFCFW8A4sAU13Wj86MlN8XwI65mmA9j30AAcXT5pFkqdAMsbioTW27Z003clLg2TAFLXmg4bjJZBgvdSC0RjilW9EUaLuAY5dHBxcOQQY/8Qtj6InzTix5OdsBzbyHVW4Pe7e82lOTCTEgxL+dqPPHF3W3KeSm0yOKxfE34sw8G5t2yhdyXeskN8uQ3d3UT3rnk3uvbnTjOEn9LXojiJiKd7LfffkTuIvYGgRM4LhErW3bdWMUalJt0jc9xmemqnyOYeTVV3LWHF1Chz5/qhheznxuUMcimMdm++uqrvVq8de1baNaSPD+WX35584q2+dKWt2mz+crgIoDMkbgTzTe0HEdEiG3StqOa4h+dO3fmkmeieAc+NILEDOSuPG7cuMCfEO8S6AOTcwxOUalic4oQxKRI1ScE/Aiw+aMNEiYxCFhyUww/0jiPeeJU4FFEqExO2KOOOkqYNx8C4iabObXhhUbkJq6LhPN1iAVqA5rKCAGDQCu8NfRSyGu1W74mTj31VPYuNKO1VlyWLeRFsNqpCwLiOBvYLXkhhpvohTCbuFOQQZMQFFhFY5Fm07XKlIaArvF5Qa2rfl5INkQ7uEs2ntKFPR3fw8BXqCachCK4ApAAB5c0YvhecMEF3bp1Y4IDkXyLmHLSb5BQgY+kCNnbR5I1fvx40yCS/ewNYpJg7+lCd2nLZ6ew4VogDQaSR+NflerDKsTMLJ/JhZPxw4XNtBaqz8jYeJbqBEZDX4LzAcJZ9gEsYohEhMoEW/tAs1BOciM8hzCfD/zp/PPP568k7cB7gzStXPIItnb22WdnIUx1mxIB7JHNhp/qy50fc9+9Uw0nvrAlN8Xwo2kfNmQDJIUVMfS9tGo50qmm6o5ARbipsqebN0GJvNCI3ITSxWTsK/mr+EU6LRr5Dofeq88OaSFq+reG80tBi8e/luxfE5hnEXWEBxFRdt1aSLuGVb5SCFSE46r8EMjOTWbGO3bsSIRhHgJg3kyZHSu1nrMQo2t8FvQCdXXVzxHM0KYqIo0hmg7x9ot9AUVFLsuS04UULMCKkTsr1fsQvGaMkhZfHfUUklkv1RuZotHEOGeSsCR1tdVWw5XEfKRLsqwVUwxZPFb/XptnnnlmxjYJufOb3/zGvpG05e1bLrRkmXFj3QaCG5Y3rfxj1qxZbu34a6Fc9Nps3769TSYPU73ocJm0Ty73SZMmedQ++OCD/EKAjsCo2WqJP8Z2wUD8fyKmPP6DuMh4LEwUWkri7UuSm+zQqYWiEbAMPls0GVHtF8GPzrt32nC3aUGz56YofvT3SOQWGHbUqFFpyVB5ZwRakJucT7eiucmeFxqRm7p06cLx7bxQ3SpW/yKdaly5D4fendkhFeVlFm7QtwYQFbobV2rxFP1SsFlv9q8JLnUmsi6Zvf0t27dgQ4/KpEKg+m/z3DnO+SFQqbd5FDd5s0+SM3iN+P+p1oMKZ0Gg0KOniEex872lCkePrvpZ1qp93SIWntsmjH8YexpPSHviQ0vG5HT5v6imsyhdMG+HbjK5ZaTboToxKEkj4WW/dGihyaoMGjQIjbf9oNKWt2+50JLVv9gVOvy0jVfqPEOtwhJNpRpMO16VLx+BQm+H5Q+n0B7LFBMnDiSeH7EkXX/99ZdZZhkieCQ2pQJ5ISBuskeyNG6y4YWG4ybc1/r372+PtkoKATcEGvStwWBbZzeu1EvBZpkZj3m/vZdNLZUpDgG9zVNhWymOi+cmAovBa0QYSzVAFc6CgI6eLOg519VV3xm6xqqIcwjW4V988UVGsmOULoXkdMHinr3YS0FZtF+Sv308XYj7VJeuyxymfV+kHiF2k32ksrTl7SlRSSEQisCIESNYouTlEz5CQAjUHYEYfuQigqTs1Vdfxa2T23/dSRUBQqBeCFjyQmNxE1f3GTNmYABRL1TVb+sgoLdG68x1OSMl0hEJ57AIMc64+oSAEHBGIJ6bCBXeu3dvUrkUmjjAmXhVFAJ5IaCrfl5IVr+d5557br311iMzXHGkFqJ0+cc//gHFqMHxHz/88MOxdPjwww+LG4NajkGA9zPSsSlTpliilLa8ZbMqJgRCETj++OPZIrbffvujjz5aEAkBIVBfBKL4kRN83333JdQpSZV+/etf9+nTp750qnchUC8E7Hmh4bjpmWee4YUpkWW9llZL9au3RktNd9GDnT59eocOHdAZDxs2bKGFFiq6O7UvBJoYgRhuGjJkyM4777ziiiuS/4CoNgsvvHAT46ChtTICuuq32uyTTq/o508hShd8c5gqwrTNnDlzzJgxAwcOXH311Unq0GrzV4XxciKSh9xe6ZK2fBXGaGggQdw9//1I8FMdwipCCTckDx8yylSEKnxcuLdNnjx5gQUWqAhJIiMvBMi+Y5acNv9QSInAafAhGkZemGdsJ4of2VHffffddu3acZqTHnz++efP2JGqp0VA3BSPWGncZM8LDcdNKF0IL7bUUkulXZwqLwTSItC4bw1G2sS7cTVfComr66uvvsJG9bXXXiNAU2JhFSgTAb3N49GuIMfFcNObb76JMLpr167sgWRuLnMhqS8dPWWuAV31y0S77n198803xKYmk3ShlMyDXVtoB1tvvXWPHj0OOeQQh+7nzJnz2GOPsSmTCpskKyNHjjzyyCN5yJFqhXBpDg2qShYETjnlFITaWC5YNpK2vGWzhRa77rrrLrroIq8LYuAoXFUAcG5IPXv29H489NBDBwwYUOikqPFWRoAwj2z+BgHiPT755JOtjEbo2PEdIVSX9ydyuC266KJCSQjUIiBuSlwV4qZEiBIL4HKKBSshehJLqoAQyI5AI741GHVz78Z6KWRf2GrBQ0Bv88TFII5LhEgFDAI6erQSckFAV/1aGHFOQOPywQcftG/fPiPIeNyS+/bbb7+tbacQpUuoyADpEnSsttpqGQej6mkRGD9+/O67706ATstAdWnLp6VH5YWAEBACQkAICAEhIAQqgsAPP/yw2GKLXXHFFYrSXpEZaXoy9NZo+inWAIWAEBACQkAICIGKIKCrfuhEDB48eOjQobnESYpRuhQSXqx2PESB58evv/66ImuupcjAaYkQtxMnTrQcddryls2qmBAQAkJACAgBISAEhEDVEMA9Hf/6Ll26VI0w0dOsCOit0awzq3EJASEgBISAEBACVUNAV/3QGRk3bhz+CUVPVv5Kl3/9619XXnnljz/+6JFOwMoHHngAuf+6665b9HjUfi0ChE7ee++977jjDktw0pa3bFbFhIAQEAJCQAgIASEgBKqGwF133bXjjjsSCrJqhImeZkVAb41mnVmNSwgIASEgBISAEKgaArrq184IeaqmTp3qllEl1fzmr3S55ZZbevfu3alTJ/x0cB4nWAFuLiQUJc3Gz372s1TEqXBeCJDAA08Xcu1YNpi2vGWzKiYEhIAQEAJCQAgIASFQHQTmzp07ZsyYgw8+uDokiZJWQEBvjVaYZY1RCAgBISAEhIAQqC8CuuqH4j9q1Ciyn5igXIV++Stdjj32WDKn4e9y3HHHde3atU+fPiSTGTZsWN++fQsdiRqPQWCbbbZp27Ytj2pLlNKWt2xWxYSAEBACQkAICAEhIASqg8DDDz/83Xff7bnnntUhSZS0AgJ6a7TCLGuMQkAICAEhIASEQH0R0FU/FH+8f0pwc6Hr/JUuNHrkkUf++c9//uijj6ZNm/b+++9/8sknvXr1qu86a/He55133oMOOsg+wlja8i0Or4YvBISAEBACQkAICIFGRODOO+8kCC1BgBuReNHcuAjordG4cyfKhYAQEAJCQAgIgUZBQFf92pl677330FYgJC9hEuf56aefQrshw2GPHj3K0fyUME51QWadt99+e8stt7SEIm15y2ZVTAgIASEgBISAEBACQqAiCDz33HPt2rVbYYUVKkKPyGgdBPTWaJ251kiFgBAQAkJACAiBuiCgq34t7LNnz37xxRe33377vGZkxowZ66+/PlG+ahuU0iUvkNWOEBACQkAICAEhIASEgBAQAkJACAgBISAEhIAQEAJCQAgIASHQ/AjEKF0KCS/W/IhqhEJACAgBISAEhIAQEAJCQAgIASEgBISAEBACQkAICAEhIASEgBD4XwSkdNGKEAJCQAgIASEgBISAEBACQkAICAEhIASEgBAQAkJACAgBISAEhEAOCEjpkgOIakIICAEhIASEgBAQAkJACAgBISAEhIAQEAJCQAgIASEgBISAEBACUrpoDQgBISAEhIAQEAJCQAgIASEgBISAEBACQkAICAEhIASEgBAQAkIgBwSkdMkBRDUhBISAEBACQkAICAEhIAQYpG8TAAAgAElEQVSEgBAQAkJACAgBISAEhIAQEAJCQAgIASldtAaEgBAQAkJACAgBISAEhIAQEAJCQAgIASEgBISAEBACQkAICAEhkAMCUrrkAKKaEAJCQAgIASEgBISAEBACQkAICAEhIASEgBAQAkJACAgBISAEhICULloDQkAICAEhIASEgBAQAkJACAgBISAEhIAQEAJCQAgIASEgBISAEMgBASldcgBRTQgBISAEhIAQEAJCQAgIASEgBISAEBACQkAICAEhIASEgBAQAkJAShetASEgBISAEBAClUPghx9+WH755SdMmFA5ykSQEIhG4I477hg9erT/71tvvfXPar733nvPX+aII46YM2eOcBUCQiBfBL777rsDDzzQ3+ajjz5ay48woPgxX+TVWvMhUBw3TZ8+/Ze//OWXX37ZfKBpREJACAgBISAEWhwBKV1afAFo+EJACAgBIVBFBBCNIYbeZpttqkicaBICYQh88803AwYM2HLLLf1//Pvf/96mTZuT/vdbZJFF/GXWXXfdIUOGCFQhIATyRWD48OFwn7/N2bNn//jjj3vssYefI3fccUfxY77Iq7XmQ6A4burYsePiiy8+duzY5gNNIxICQkAICAEh0OIIzPPTTz+FQoBlYo8ePQ455JAWB0jDFwJCQAgIASFQPgKHHXYYorERI0aU37V6rD4Cc+fOPfvss5Gf7rTTTrvvvntFCB48ePBbb7114403+ulZbrnl1lhjjcceeyyGyH/9619rr732tGnTlllmmYqMRWQIAXsEqsmPsBWsN2XKlFVWWcUby3XXXdezZ8/HH398q622ihqg+NF+6lUydwRak5v69ev32muvTZo0KXc81aAQEAJCQAgIASFQNAIzZsxYf/31v/3229qO5OlSNPhqXwgIASEgBIRAOgS+/vprbB67d++erppKtwYCaOMOPfTQP/7xj1dfffW+++47ceLEKowbx6wLL7wQyVGAGDRDSy+9dDyFRFb53e9+N2jQoCoMRDQIgVQIVJMfGcKll16K25lf48KP8CP/jWdJ8WOqBaDCOSLQstx0wAEHPPLII5999lmOYKopISAEhIAQEAJCoO4IyNOl7lMgAoSAEBACQiBnBP76179iWf/ggw+OGjVqww03fOqpp3LuoODm7rzzzuOOO+6TTz75+c9/XnBXuTWPPbVf+r/33ntvvPHGubVebkMFWdpiAnPzzTd7Q9liiy26dOniMLJevXpdc8016OT69+/ftWtXtB2TJ0+mNYemcqxyyy23XHvttU8//bS/Tex9FlxwQWjbdNNNP/74YxxZOnfuvNdee80zzzyBrmfNmrXBBht8/vnnDbTmc0Qv96aaiR8B54knnmAzX2CBBXDwQiWQC1zNzY9AtPLKK8OSO+ywgx+uU089FeXoH/7wh7/85S8IuFdffXW8KskfJn6MWVTipkSOEzdl56ZVV121d+/effr0SUS7jgWK2IoZzvfff4+bLLEQ5e1ax8lV10JACAgBIeCMgDxdnKFTRSEgBISAEGg8BAhw1K1bt5tuuumrr77iJdxwA7j77rt32WWXxpI+P/nkk1ddddXb//0aNy96cZa2BO3x8LnhhhsmTJjgsDJPO+00NC7HHnvsbbfdttFGG6HkWHbZZVG9vPzyyw6t5VjlvvvuQ5sSaPCLL77gl2eeeQYlKLFTLrvssn322YcEEkhYAiXbt2+PyAmBTo4ktXJTTcOPTOLzzz/PCsev65JLLtlzzz3//e9/5zKzzc2Pr7zyyj//+U+CRYeyJGDOnDlzzJgxAwcORO+CgYL4MWZRiZsSOU7clJ2bOBw5RhOhrmOBIrbi999/H+uTRRddlKgs7dq1IyIiHj91HKO6FgJCQAgIASGQMwLkdAn9CPV76623Rv1VvwsBISAEhIAQqCwCJPT+x3++hRZaaPPNN68snaGEIfTH3G/YsGGNRTbRrn796183Fs2h1B511FHctPAjefHFFxEBsIQwc859XMiOUZykbZYl3bZt27POOstf8dNPPyUNL65RaVvLtzxJWZ599tnaNlG3YPtjfkfO+5vf/AZ4hw4dWlvy97///ZVXXpkvVS3bWtPwI7q6JZZYYrHFFkPwffzxx7N48KJDaZfvzDYfP951110777xzLUpoYohdiTMff8IR7frrrwfSpZZainMnUFj86AEibkrFbuImN24aN24cznxwZSq0SytcxFb8xhtvLL744mzvWJPcfvvtRxxxxCKLLLLwwgu/8847pY1LHQkBISAEhIAQyI4AhpXzzz9/aDvK6ZKzEkvNCQEhIASEQN0R4OHKQ46vNopR3WlLJOD111//29/+VvdoUYl0NmWByvqRGLRZ0u+++y6hgfzgk54BVxKcSOo7I0TDqw1SBEnY2q+22mqGNnxZCInGP6ZOnVpLLQMhvFh9R6HeK4XAe++9h1/UL37xC1ygCEx3xRVXnHPOOViUow/gVVN3UhuRH7EoRyY+33zzgR6Pwx49emBgDt8h5QzgKX6s+wLLlwBxkzOeUadbvtyERQIal+eee86ZzuIqFrR41lxzzb59+2Lgct5552HpgpP66aefjoc6m3xxY1HLQkAICAEhIATKREBKlzLRVl9CQAgIASEgBBIQePzxx3nJr7vuukKqZARIMU3UL/xIiJNm1HUkRcDNZaWVVjL24FX4QhNafPnllwhr6ksexvI2SYBxh4LOr7/+upZaqi+55JL1HYV6rxQC2D6jQYcHyfdjCDvjjDMIjXXPPfd88MEHVSC10fkRDKNYUvxYhQWWIw3iJmcwLU+3jNyEizPBtbLH2KQF/Gj79etHzDfnIQcqFrR45p13Xrb0VVZZxetup5124t9kgMuLcrUjBISAEBACQqC+CEjpUl/81bsQEAJCQAgIgf9BgAczBo+8RXPHhSj/2DgTcwbHiNwbb4IGq2y3HgovoTnwA4BsREK/+tWvUNQdeuih9957b13mggQz06dPD3RNICOI9P+IKSv/26lTp1oiSUuz8cYb14V4dVpNBAYMGMCuhYOUn7yjjz76o48+WnHFFatGc/X5ESEsEfz8ec7wcXnggQcIolir5m84fiQIGBvLqaeeWgUvqKotTugRNzlPSujpVgQ3EQ4XsxtnOqlYRNqVMhfPCy+8QHebbLJJFhBUVwgIASEgBIRAdRDIX6ZTnbGJEiEgBISAEBACDYcAZt2bbbZZPNkkrRk5ciQylIMOOoiIWKNHjyYZaeJIKU+a1kmTJmECmVi40ALkJiE+OKMotBeHxkPt1rG1/9nPfubQWqFVSHGBJOihhx4iSQN+OYRgQuY7YsQIRKWF9hvVOMT86U9/8v+VvBHY26JHId8Mrgms0sMOO4zYaHgO9erVK9AOgmDoJzlNXYin97feegtRfpbeCcDCGJH5ovoi2tu0adNIPZKlwdLq5jL8gqglvn9ty6F8WhABls1WjR9XX311dgYiVfrpv+WWW3r37o1mgqRK48ePJ1wbbi54tAwaNCiwxdWXH1HfXnLJJewSv/vd7yDy6aefTvTkY98bOHAgEtsLL7yQXdFy1oooVtnTjcGKm9xmvDRuwuDGpEZzo5PgtLvssgvBA00GLDLSH3jggT/88INba4FaJSwetqxzzz13mWWW2XXXXXOhWY0IASEgBISAEKg/AlEZY7baaqtbb701ez4ZtSAEhIAQEAJCoF4I8ErEcrBevTv0O2fOHG4GKFRi6pIhedlllw1cIBC7YwBOmKmYivvtt5+phdDNgbb4Kjaphv/85z8jRFtrrbVM8C7+SzAN9AS1WWftySMm2AEHHEDI9cQqQ4YMIW64+TDujil/0UUXDR48GJ1QYpu4JXlt8g/7FLhuqYY9ekBsww03BEMy0CLoJ1oXf/rrX/9KeLR6ZaBFvlO7rtBDEKh9wQUXNAuPGWfgoRS++uqra6+9diLg+RYARkLJ7bDDDvgJGQqR5iOlmjVrVqqOMHkmN0btnR5FVL2mw4Yf8xp+ACti8eFOkQggskU/77D1RVUhyQElH3300cQ2xY9+iMiCg2YlANp1113HruutVRK3DBs2rBbYuvAjZPz973/nnKpNxoamlh0mZgEgbvYGVTvqxJXTOqebuMltMZTDTSa2GLETHYgk3xs3QzQWKCBNdTJg0RrZ6eOvWEVsxRgcnH/++d4O//DDDyeOCOXQXnvtBcF33313YmEVEAJCQAgIASFQKQTefvttciWGkvR/UYRK6VKpKRQxQkAICAEh4IBAwyldXnrpJd6cGPZGDRbJo8mBzEeAnYMPPpgQ2ESXMr+QsZy3blRdo/PADJ9eHMDMKJYaNWrUIossYujELYO8NZ6MrGfPns70TJ48GUCM1iH++/nPf44jBXagfBdffHFUYfwzjMhv5syZSU3+dPPNN5sGjXMSao/EKqZARqULtBn0sGa17LHoYiw8hLlYmtd2xOwgEsV6HeVEFBmoDNGKFU2kv33Eu126dPEW4RJLLOEZ+6N6gVksiaEkekTTDit8m222gcVITm5WEcHfsN61bCrHYolKl7yGX0szem6SISeOBQrB2bAPH/4WUVUI+g+S7HWJbYof/RBhPNe1a9dQ0HDqwhML/8goaWz5/Aid7CHESzSsxMMVVmLSO3ToYI48GIr5jVkDuO/stttuiHqzaPFD20/kpkY53RiduClxGwktUA43/eUvf2Gpx+sXo+jHX43kKIF7CxmwMCmA02NGXcRW/N1333G8mr2dVG34vMbDjsblkEMOYeysT7cJUi0hIASEgBAQAnVEQEqXOoKvroWAEBACQqBuCDSc0gXZDc/OGL8Nk/S4bdu2iLA9WHmvEs6IwWK2Xy+s48VSXhYZomdMmDDhq6++gk5uJ9tuu60RsU2cONGNcgQNqFJs6qJ0oevEkp9++qkhyUbp4rVmImuVpnRhIIZIAukkjqi0Arfddlu3bt0cukPgvvLKK9tozhwaj6pCciMARP/H0jUqFuREw4cPJ78Fv2+66aaWff32t781c0HwNL+rE7a9uBFceumllu3kWyxRTJzX8ANko7PEsYnEQonDSaTQa8EEo7NRuogf/bCjw8B7jKh9iXMRKFAXfoQGb1sjBpp/N+CkwBaQEE/4NaYdSy7lm+Z0Aw1xk9uSKIeb6AUV4zXXXONGZKhZQ7wDNB0VuhXTfqKJCaPGUoFN/phjjnEbuGoJASEgBISAEKgvAjFKF+V0MS9lfUJACAgBIdAkCBDP54L/fkhRMek1/0fkpeqPEOIRWSKrDSWVgFcmVzkOK/7sF/POO2+fPn2IiYQ5Yb5jRP1DNBJEXRmbxREEA2TcMoiegeWjkWsjRCPROtEw+Pe4cePcuiBtrFFE5fUFsiDk1Wy+7ZA2wDSY79gzEkmctzfffJOQYmnbIRoVC9iLQpa2ulv5a6+9dvvttyf2PW4ZJuASarmjjjqKrDP8m2VPjvHElseMGUMLFDvhhBMww8c836uy3XbbAQW/RzXCX4nrYiIKxn+8IgwnkgkJrUZScau/5zL82p4IS8U2le+yrD5LVpMf8dw666yzCJZotSB8herCj/SPiyf/xaOFw8K/G3BSPPbYY7jmEE0x7Vhiyrfg6QYa4ia3JVQON9FL+/btZ8yY4UZkIO0KhwW2I1iE4GmaS4KxIhYP5wVRxXAkOvHEE3FWcxu4agkBISAEhIAQqCwCUrpUdmpEmBAQAkJACLgggKEBueXNx5uTcA3m3+TXdWnuv3V4GRo/hiyNJNZF6ULw+tqI9qYivRM4hX943hj+BglkFGgfmTJSqtovCor999+fwrfffjvvc0TPhEgiRDj6EiIv8V9nQYChigTjpERGru0nksAXxJDhl1deeSURnNoCWEOjdCFzhkPdQBXi8CDaW3755bfYYgvzJ5KmBKAj1Hj2jrK0QFJ6Isgtt9xyXiL6FVZYwU9kfSlE+XfjjTc6aAVYaWg7siDjUBfZFn5CeLQE6u6xxx7mF5s1aWL1ECsP6XYtDaFqJAT0KE2ZNULB4PjFP5hTRE6hQ2DPQZNKGcOJAIVYbYMNNsCzjR3JYdRelVyGHyCA3QkVVLv/fFlooy5OD+ussw7+Tyhl8ZvhF3JZBfhxk002ydhLxuoV50dGx5buBeyyH2xd+BHyTMZvjrlafSdnoj8iJcXwJAs93WrPQTPwVj7dxE32iz+mZDncxA3QCx+aiuz77rsPjth9992phc8lNy7Md7jVkI1mvfXWY0+2UfDX9ljo4oEkrqn3338/MXIJzokBhPd9/PHHqYavwkJACAgBISAEqomAlC7VnBdRJQSEgBAQAo4I4EgR6l6KMsahRQxsecQiFSX9AM9CghGRSQWZKblVHFpLrEJcF0TqUcVwEFl33XX5KyJapK5GARPzkbaBN23tx4M8tBYeLRTGVp08MWeffTZm9cYlhQ8re7Qj//73vxOHkLaAka+1adPGviIUnnTSScT6RwCN/gmpNKJzYlvZt1BbkgBTSDrwi/IEEwTlCECH41SWLrLXZUZQyyGMIIqIaa1qFCKG9qfpthwywqwFFljAsnDRxTyBb+KaRO2BZw/0/P73v7e0wUdHiC7hpptuYuIII2O6YE4JTUY6ioAxMlH42M0Iyv/FF18gPkNDQ/IYNjfWf9++fdmUWKK5o2E/fK9r1GykZ997773RzuLZgwMBKiKyN4fqhi0JZi8CW1IRsCUaWOglsNqBxbK1gopVnx/RVRDxL+3w68WPnoPUPvvskyh3hjtCTzdSKOl0CyAgbkrLAqHly+EmboBseg4EG47gDsPBxK0V2xq/jzIGLgG1pWUXhS4e8gtOnToVSjh3uHPi4uZ9iTuAJf0qJgSEgBAQAkKgvghI6VJf/NW7EBACQkAIVBQBDNIPOuggko4gxMGMncgn7777LrlJsG3H/HzYsGFF0M2zORAgItDL4MGDefkjeEXqivSWaAye/L2WnkmTJn34vx8P70SyCcWGSomkpoQ/gh5EqMb2n8f8iBEjEqunKoB0wISU2XLLLW0qomeCPCzcCVPWvXt31C0EdLrnnnsQ8pLyoWfPnjaNhJaZMmWKgeqWW24xBSAsgB5BMJzbz6UiM2JIwmfINIiuyE9k3SnMZZj1bQQLegiAU3AoiacE3y/j+uaP9RdTBWUnkesRqKG7Jf0SOgN2Elzx0KxQ64EHHhgyZIi/OjH3XnzxRX5Bw4qmDeEUeghYkjhmWEPjG4RpcO5Y2Q/fdA1JaIOIDodLCtsRyidysPfv3x/jZTTE6IfcKESF4y1sMxH+X8yfnnrqKbfG86olfswLSdMOkmJzECCKZfHALC+88EJUF1gGBPZnhLaJ9LTm6SZuSlwY1SmAfQ+bvDM9XNjgI5w44aCRI0ei+cZWBvUweWLc2ix08WDKExWC30uW5ka2agkBISAEhIAQqAoCUUcdGQsxpK1vLhr1LgSEgBAQAkKgLggg3EcSivU9ktAyCSCCELqE+B4Js+PXnWC92K9fP8RPNnQae3xCh4UWJs4Df0WpQ0x/fwE8ZowqCHFqVC/2uVj9LRD2jWaJOWYymSd+RP0mhtWZZ56J8TuFke1yXTG1TCqOmAze9EKgjMQumHFzRcPQMrGwV4Cw6VQxAehsvsTUsvGNIEwxRCbmyLUhRmU8BNAsLrnkkgCL60kiLKNGjTKzgDoksTAFzj33XFM+cMEmqpIRMKFBRAfjNTVgwABTHgYMtE8V9qiYTt34MdXw6f2DDz5g/zHKFf4XNRLsiXcg/0ZLREAbPJ8Mq9Z+9hSaMGJoVW1ANmXEj/ZYVaokSSN23XVX/yOZeI+o1eNXuxkCuklTMXREOt0MLOKmSi34WmK45Ky66qoORPqdfTGUQXNj2UihWzE0ZLztWI5CxYSAEBACQkAI1BEBQqrwjgslQJ4u/ou9/i0EhIAQEAJC4P8jgB36xIkTEaoGBEDx6GCfS5gdRKUkqUb+7gBloqcLbRL7BZ8bnG/atm3L/xJQ4uKLLyY/BLGwTUz8jB85AI477jh/I0QNMmHNkLFmbNxfHW8Vk12G4OM2MalIF4FY7ZxzzsGimXyzVCRYk5eTA9gRVWQMMpbj6NRUwyHARRldCxoO9C4Bp5PQsXjhrSzDtjzyyCO0AyuhP/A3iKJi0KBB/IJJsnH8Mh8KRfOP7bbbjnj9/uB+VInK/OQMe9rhU55Aizww8DghZwD9Gr8EI9VF44IsD08d9KnOJKliqyEA66H2xk5/hx12MGOHI4g2hrfTyy+/nB0NnW7ZMVQLhSJATNcY92WbrmEWTHO82LA2VVRGCAgBISAEhIAQKAgBKV0KAlbNCgEhIASEQB0QwOGDkC8xn2VWEgL4bL755mRZsBwDglqs+TDrJsLVeeedR+QfFAC8ey2re8VQutg8lZFM4diBCuSGG24g6THVSTdCLGxigqXtsbZ8INe9KUBKCf6bJepFoCPmiOht2C8jgx44cKAN2WiV1lxzzZNPPtkURsOESNdLA0CGDP791ltv2TSlMkKgFgH0dia41uWXX240mvEfuehNAUtl5CuvvEJhAijV6kvYbQzfmTLmQ+6MfpHC+G2wvcCDhx9++NixYzOK5KIGlXb46JCA65JLLvFSl5P5iZiHhMcxXeCjwH/FkknrSH8PIoBXyuTJk4mJRLYkk+2JfxPFzjgwZfl0umVBT3VLQIAbYMaL1o033oguvARS1YUQEAJCQAgIASGQiECk0gXhRWKG3sTWVUAICAEhIASEQJkIoO0grkLMh+9nIj3INDGqRX+zb8Q3fPhwfyNI/0n9gik6obQxyyVED0Gu8A7BHyWxr0ABG08XrwrSKCzNkdISfYWECvx+xx13ENsnbac25Y1nSV4fMZSI5Q1Q5GLBrpkUF4ktA/L06dPRKnlSs9dffx24PE8XWuDqklFakUiGClQEAYJW4exFoLmob8yYMalINVl8qYJuD3WgTV1UgKYYGsTE8uwqpImimNFfBj74y7BwIHswo0OzyD6EJA6fNhIOEWGfkqR0YoNK7NS+gMPwp02btuCCCx5wwAFeL37PM3404nKxpP0sNHRJNHAx/MifolLcR40afTw+o++//77xDCMBGKmDioBIp1sRqKpNNwTY6r/++mu3uqbWiiuumKW66goBISAEhIAQEAJpEUB7QhyC0FqRSheEGlK6pAVa5YWAEBACQqC+CIwfPx4lRMxn/ELiP0yzjR5lrYhvtdVW87eAXSE9IgxF14LFOooEtD5vvPGGSViS6uPkdRAA0bUnYq57cunE8c6aNQuNC3oXDOQxZyYleGIVCqAtQxLhz22OWT1QL7/88l51BNY282vTHWWInmRZsoLFyKiB4tCLfwWF+ELxyzvvvGNJbfYWLDtyKwaHTon9UkW1IrqXyQmEpxpBsSxJWmGFFdA6UJiM94lVyIpkUjHhFVdbGMb//PPP+b1WXrbhhhuOHj2aXBekpu/VqxcaF9QYxNnr0KED5v+J/doUcBs+bgeIxf37FSzpV4IaH5e8WLLF+REVNfyLrjEwoeieZ8yYYTPLRZdB9RjPkmhNHGhASTlixIiddtqJus8+++zcuXMdGimtik63oqFm54cRYIdAR+yr/E6SMxsCqsxN7KhRUhuboZVQpqG34hLwURdCQAgIASHQggjEyHDiPF0qfq9twYnUkIWAEBACQqAEBNq0aUMvXbp0QRYZ+pmUvN5HHhdCACGr9UcNsokSVjsWasVLpqKeu5ttthl+HjTolkumBFRNF+hOyBmOeG6xxRYja45JFWPzmXQ1fmEEZvVebDH+hMwF1ZeJaJTl84IjGb+EBv2QTnbs2LFbt27egkEFyC8mfJbNl70Fm16cyxA+hfBWj0Z/9ipPwmqdccYZUHLggQcOGzbMniT43ciCH3zwQdw+4itS2KgfALa2JF5cJvIhqpTQdtDudO3aFfLQVpLDCcEc65NIhvbURpV0Hj4s6edH5Jgo6vwsidfdIosskl3pYliyxfmRiJfw79133+2fR7ZTsulceuml2ZdB9hYIBRbDj/yJND+JvUQdcGZjR3PsVyQntlZygeqfbgDS6NzEBQmjDe5ggaXSu3dvsklZKl2qzE0M0NzlKvg1+uKpIKQiSQgIASEgBJoDAbQnUaE7IpUuxASwDHzfHBhpFEJACAgBISAEDAIYm/O2fOaZZywBwaYem3e8YizLxxSLjyyBmwJpJAYPHlzrioqDizGC3mijjbKTUVALCKaRnREuZqmllkIg6zeKT+wR7yIkvIRa8koGzOpPOukkYNlrr70Sm4ovwFSaAi+99FLGpupYHecnvCJQBpCeBDJAG8kseUGIv2dJVfYWLDuqYzHUBj169DCqC+DCoD6tifGFF15o4t0hca41vr7pppv8uh/UjZRkDROKMDBqo/VBlULiCu9P8HttOEQu9CeeeCIedRTL6OKQcfhEV3vzzTe9SDjwI9sXOgBDP5Sz5Ag+5uC6FwDHsOSrr75a6+dRx8WTquvs3HTMMcdwKpFBx9/v9ddfb5ZuKmIqW5iFzaFQ66OGeP3xxx+HbFYC+cyqSX9DnG4Gw4bmJrgAXsCLDqMNbyWgkcXZl/iuOL/aLI8qc1OqGLM2g82xTKMvnhyhUFNCQAgIASEgBPwIoD0xcZVrv0ily6KLLpoxoqjmQAgIASEgBIRAIyKATTqv96FDhxK5JZR+jM29ME04WGB768XIwtDy3P9+DgbIxCCK8XQhowmC3VNOOWXrrbcmfYvJJPHtt9+OHDly//3359+c3TvuuGM1MZ80aRIGqkRJIkX5qFGjIBWRsf+rlVn7B8I9hlFj4//pp5/yOxkyCODmmdVfccUVCLiJuRSI/OYABWotkyCdDB/+rOZk6EFd5NBgvaogn0UCjtD/hRdeOPLII5FGGRGt/Ze9Bfu+yi8Jo6GiIzYgXRNVDKCY4sCahLniCVtjjTWQ31GGyDadOnWCK1nGKDPQrBx99NGkXLrgggvIS2EaocsEghAAAA/KSURBVAsjtCJHxe23325UpyS6wMPGCBBRHHoLGNHbbrvthivYsccey4bjJwNWYk75hR6dccs+/J133pnt7pxzzjE04Hm28cYbGxULnNK9e3cGG1ASuFFrvBzIYQOAnt6Ftw0JtNwarEutjNxEMEY0pkj2vVFjUkeOH9Rv/qCLdRlaLp0SapITkwEST49Yf5gRsERRt6C9g19wlKEXc8xV8GuU0w3omoCbcGrB889/v0Jfzl5tr32sMjchfuEeWMFF3hyLp5rAiiohIASEgBBodAQ4vvHvDx8F19nQr1+/fgQciPqrfhcCQkAICAEh0MQIoEpBSI1RLQJTI/rh4zTFdYB8LQgW0X+YH004C6T/5n/92a05etNChC08cqWoWsheA5HN/I9zjPRJKhPfI0G9oBaRVmgx0zhRjGr/ipMEf0LtEdU+0dU8EGrLYKVuHAJiPtRF8cSjAyOoFPotE1eK8RLOCB8OhL/MyMCBA+OrQ8CECRNsZgR9m6GTZldffXUE30ZWfsQRR0RVJ78FBYjtZtM+ZcATYbpl4dpiqNkMhSy/mEbI+YFwioGDFaA5dJe9BYdOy6nizwAftSynTp2aSAzS/0B+b/9Sx8XBP0esW9SNpjtMto3/lvnfLbfcErmh190HH3zgZ3ZqEUKQmIeeR91yyy3HhuDGj9TKZfhsg1DO8FGmsjnwdkBrdeWVV5K9Bq5h8cSgF79j+CsCi9GD8iEtXXvttQlZZuI3ot0J7aIp+ZHDBT+nffbZxwyZTD8gcOuttyYu0UYpcM011/jfq2y/fptBnMDgtZixoHQ3i0SnWwxKzcFNRtWNVYQZKeYFq666Kmps+6VeWW7iYsAWZz8Qr+Rtt91m1r/9PcTULXQrpv2Mtx0HKFRFCAgBISAEhEDJCJB6E3ft0E4jPV2WWGKJ2bNnR71C9bsQEAJCQAgIgSZGgEMQw20SNmACj3SPgGMI3xGS7rrrrpixkzebmOBm+PxIqHrjdMKHJNQct+hmHPBBiRLjZoroH3Pg4cOHY6xq1C2Yw/Nf5LYoHpAzunXq0Wms1KMCkjoMx6vCjSJ7orh11lkHO2ikrtv950PCgiiWgRPon9BG+BdlodBfF4EOyjZmlrlGiIyyBwk4S8IkQm+gDwE9rhggjxAHmbgD5dlbcOi0nComcX32D35B2stVGz8PwzsAjrccy3XIkCEk4fCyBPEnnL1YTnjYoJjBW2vmzJksY5S7tPDEE0+gU/ToYW0/9NBDTz75JP4uyyyzzJw5c0gGg9aQuDoUO+ywwyjvhcJzGEUuw8dP6KyzzkJWjvsaAaBwRGOfZNR9+/YlOp99xqZ4+hkv2q9tt92WYuwkxDRDiYsunBQOKHscxl6vKhm5icPloIMOQrNuXO5wXGNT2m+//eo1nNz75bRFjM4YV1llFRpn+zWuZqwu/IRYYFnOJp1uZr6ag5vQ7zKhRs3Gxoh+Fz8wf1K9xMVZWW5y9nTJHsgxEbTmWDyJw1QBISAEhIAQEAJpESB0QWQI3Cj9Dx7r3ONL1g6pOyEgBISAEBAClULgs88+Q9aDigVxJ7HmQy1tTTLtgBcF+g8HTxfkTShUbBBAIIXwEdqM/NGmSqFl7I0ls5OBgT+pa/ADYPj2Y7f3dDEUIjoHWxxEkG4jHAfwGMpLtqy3xBDvH1amSSVCGKioWn4Hi0AZyxYs6Wn6YuwPBP56+OGH0Q3ED5aSqCWIoRTjreJvAd87Ck+ZMoVdyGbNl8mPrJ/rrruONXbDDTcQos1ylh0oxILb8CPQkcWhWfkRPVyUSwd7PpJlJM7Y6aNrJwmKJdoNVwwOwouRHR53xroT77BWnWku53SDvEbnJnz1cIRiFKhbUAZEuXfEnG7V5KZddtkF4x7n9eNQ0WF52y8e6JGni8OkqIoQEAJCQAg0FgKYB5EoNJTmSE8XrOe45qZV76i8EBACQkAICIFmQoCU71tttRV25byEcRoItbQ9/fTTGTKpVtDQeGPn0HXAYeWVV/acZuKrI3HDbhraCKwRlbfNgYCGqMIVBahxF2D4xY19vvnmA1vs61FaELokbYr1uiNJJCtSxIMS/+jcuTMx5UxehMB36qmnoh0kiREOQ4E/WbZQ95FWhwD2B/xdcMMycfxiPkqSu4KQYpbeKvg0UBiNLLtQcWveDUnjoMNWSQ4bdjC3RmxqtWnTxvAj0OHxZlOlOmUsuYn9nwiKrAr8KWuJZ89HnY9yC1c8jhjEzdUZYL6UwEE457HD40iab8sVb62c0w0QGpqbzI0LhQrBDO+66y5i7jGcVKcbhavJTfixFbqL5rL+G33x5AKCGhECQkAICAEh4CHwySefEBklFJBIpQthpgN5OwWoEBACQkAICAEhUIsAQkCkjXhFEO6GVNjDhg0j+cf48eP9wYIscSOsCmc2Zs6W5VuzGEYhpCsncGprDt9m1Biikn0aOTjCWaKOkLYdqT0J21ldgeoEgsenh+hYJje799m3YEOPyjQ3AgRjJKVTc48xy+jsuQndDMEMUSpfddVVoT0iayaCAdEUCVWHBi4LVapbQQR0ullOSseOHXEyhhFgh169eoXWijrdvMIV5CbEL9VXuljOkYoJASEgBISAEGgRBDi+0aGEDjZS6bL88ssj9DHB4vUJASEgBISAEGggBLCQRdAc+Cw9SNyGiekxMjLCwlx00UVkBEHGjUU2eQjStobSBftlGT3E44aQBXPvDTbYIC28zAjaBT4yB6StG1r+7bffNg2GOpHk0oVbI2RH+PTTTwkVa+x/udSNHDmSNB4m87n/w0/LuGUQa8X/u30LbhSqVjMhsPTSS3fr1i3tiMjIYtiHz2TvyPg1AT8SisfEAwzwo4fMZptths8Tx0SUoDkjhqpeXwR0utnjj40LjEDuKFw5Q2tFnW6V5SbOaHK6mJxGZX65b8XMC4ZHZm/HRKbMsagvISAEhIAQEALlI0D85/XXXz+033li4p9gP3LmmWcSyqB8itWjEBACQkAICAFnBDjzeLvibuJvoX///qEBKJx7Ca2IJwHPV8JWkEHEoeVZs2YRXWTSpEk77rijQ/U6ViGS1X333UdC+zrSEN81Kb49wS5Z6wi9mp3UCy+80DNIJ9cCupzEuFKmU6J+kcg3ypg9O2GpWhg6dOhxxx3XiKsu1TBbqnD1+RGPQIj0JuWZZ55BNZhxjpqDH1HeL7vssgheQ9X233//PRmtcJ3BIcbtlMkIcgtWrz43tebpNmrUKHS9RBjj/IpalvGnW9W4adq0abgMkiKuQ4cOpTFaEVsxlrv44bGVmVHgC3722WeXNiJ1JASEgBAQAkKgTAQ49XjX46eOyW9tv3FKlyFDhhDge8CAAWWSq76EgBAQAkJACGREgGOP9x5peDO2U3513qgLLbTQZZdd1nBWzNUXS5U/mzE9VkfpgmE1XlkoC9955x3WXqVQEjHOCIgfU0FXHX6EbBzUDj/8cLTCffv2DYwCUzlkl3yol04++eRUY1RhZwTETamgK4ebOLPI7fTDDz+QBGXhhRcOpTD+dKsgN91xxx0HHXTQnDlzSLSWCnMVFgJCQAgIASEgBOqFwOOPP3755ZePHTs2lIDI8GKUJmnwww8/XC+61a8QEAJCQAgIATcEZs+eTbgbt7r1rUW2dhLDvPjii/UlQ723CALTp0/HonbGjBnYukrj0iKTrmFWGYHjjz8ejcv2229/9NFH++n88MMP9913X9xf0LhgC9+nT58qj0K0CYHiEMAqdOeddyZdLQ7NJC2L0rjEnG6V5SZ8hddbbz1pXIpbPGpZCAgBISAEhEDuCKA3QXsS1Wyc0oVTH1MLLjS506QGhYAQEAJCQAgUhAAhpL755hse1f369evevTvGwmPGjImJpVkQGc7NEtB/ypQpztVVUQjYI0DqPi57r732Gpkk7GuppBAQAgUhQGgC5MiTJ09eYIEF/F2Q6Ovdd99t167dwIEDySA1//zzF0SAmhUCFUeAdEdc8Lp27frEE0/gVRNFbczpVlluIqIgGZsqjr/IEwJCQAgIASEgBPwIkMBsn332icIkLrwYdS699FKsbmVOpSUlBISAEBACjYIAtgK4uXB4YcI/d+5cBMpQjuHwxIkT55tvvuqPgtQaWHESsr+EDDQ5okEAluuvvx4TVNMm/joYoubYfhM0xcp86qmnzEDOP/98EmJXJKdLE2CrIQQQED8mLgnxYyJEKmAQEDclrgRxUyJEiQWwFlp00UWJLoi1UGJhFRACQkAICAEhIASqgMDzzz+PAGT06NFRxCQoXYiFiuiH5Jakh63CeESDEBACQkAICIFEBAisSU7m1VZbjZJkqjjkkEM4yMineswxxyTWrXuBL7/8cvHFF7/nnnv22GOPuhNjT8B111130UUXeeUHDRpEsnr76q1QErPcnj17eiM99NBDlTavFea9LmMUPybCLn5MhEgFDALipsSVIG5KhCixAC7OnTt3/uCDD9q3b59YWAWEgBAQAkJACAiBKiBAWOAjjzwyxlE1QenCGE477bRNN91UcSeqMJ2iQQgIASEgBBwQILwYLp+kJx05cqRD9fKrdOrUaeutt/a8RsonQD0KASEgBISAEBACQkAIlIPA4MGDsQ0i9Fk53akXISAEhIAQEAJCICMCs2bNOuKII8jpEtNOXE4XU61///5XXHHFjz/+mJEaVRcCQkAICAEhUBcESDtMv19//XVdenfodLfddhs/frxDRVURAkJACAgBISAEhIAQaCwExo0bt/vuuzcWzaJWCAgBISAEhEArI0Bsj7POOisegWSly5JLLombC47VrQylxi4EhIAQEAKNgsDYsWPfeOMNP7U33ngj/4v7SKMM4eCDD37rrbdefvnlRiFYdAoBISAEhIAQEAJCQAg4IPDhhx9OnTqVWLgOdVVFCAgBISAEhIAQKB8BZDWEhSc0aHzXyeHFqP/999+//fbb66yzTvnDUI9CQAgIASEgBOwRmDt3LvnbZ8+e3aNHj2222QY3zQceeGDEiBH8+NJLL5Erxb6p+pbk/N5iiy0uuOCC+pKh3oWAEBACQkAICAEhIASKQ+CSSy4ZPnw48pbiulDLQkAICAEhIASEQI4IEFvsl7/8ZaJ8yUrpkiNZakoICAEhIASEQKEIvP/++6effvq99977zTff0NE888xDRvqLL754lVVWKbTffBvHwfSPf/zje++9B/35tqzWhIAQEAJCQAgIASEgBCqCAAl0u3btesYZZ1SEHpEhBISAEBACQkAI5IKAlC65wKhGhIAQEAJCoFoIoHFBY/Hdd9+tvvrqCy+8cLWIs6Dmn//8Z7t27R555JHNN9/coriKCAEhIASEgBAQAkJACDQYAlxWV1111ZkzZzaWbVCDoSxyhYAQEAJCQAjUA4H/B7whyydzpXmPAAAAAElFTkSuQmCC\"></div>"
      ],
      "text/plain": [
       "    ^ ^            ^   ^   (5)             ^   ^   (5)           ^   ^   (5)  ^ ^\n",
       "(ϵ  r[t] ((Sin[2 ϕ[t]] f       - 2 Cos[2 ϕ[t]] f       - Sin[2 ϕ[t]] f      ) r[t] \n",
       "  G                     x,x                     x,y                   y,y\n",
       " \n",
       "         ^ ^             ^  2 ^   (5)           ^   ^   (5)         ^  2 ^   (5)   ^   ^\n",
       ">        ω[t] - 2 (Cos[ϕ[t]]  f       + Sin[2 ϕ[t]] f       + Sin[ϕ[t]]  f      ) (r)'[t]\n",
       "                               x,x                   x,y                  y,y\n",
       " \n",
       ">       )) / 5\n",
       "\n",
       "            ^   ^   (5)             ^   ^   (5)           ^   ^   (5)  ^ ^ 2\n",
       "ϵ  (Sin[2 ϕ[t]] f       - 2 Cos[2 ϕ[t]] f       - Sin[2 ϕ[t]] f      ) r[t]\n",
       " G               x,x                     x,y                   y,y\n",
       "----------------------------------------------------------------------------\n",
       "                                     5"
      ]
     },
     "execution_count": 378,
     "metadata": {
      "text/html": [],
      "text/plain": []
     },
     "output_type": "execute_result"
    }
   ],
   "source": [
    "RHS1 = Simplify[Transform . RHS, Trig -> True];\n",
    "RHS1 // MatrixForm"
   ]
  },
  {
   "cell_type": "markdown",
   "metadata": {},
   "source": [
    "## Способ получения уравнений движения через лагранжев формализм в полярных координатах\n",
    "\n",
    "### **Лагранжиан системы**\n",
    "Лагранжиан $L$ в полярных координатах $(r, \\phi)$ выражается как:\n",
    "$$\n",
    "L = T - (U + \\Phi),\n",
    "$$\n",
    "где:\n",
    "- $T$ — кинетическая энергия,\n",
    "- $U$ — потенциальная энергия\n",
    "- $\\Phi = \\frac{1}{5}f_{i,j}^{(5)}r_i r_j = \\frac{\\epsilon_G}{5}\\frac{b^2}{t_0^2}\\hat{f}_{i,j}^{(5)}\\hat{r}_i \\hat{r}_j = \\epsilon_G\\frac{GM}{b}\\hat{\\Phi}$ - малый потенциал \"реакции излучения\"\n",
    "\n",
    "$$\n",
    "\\hat{L} = \\hat{T} - (\\hat{U} + \\epsilon_G\\hat{\\Phi}),\n",
    "$$\n",
    "или\n",
    "$$\n",
    "\\hat{L} = \\frac{1}{2} \\left((\\hat{r}^{(1)})^2 + \\hat{r}^2 \\hat{\\omega}^2 \\right) + \\frac{1}{\\hat{r}} - \\frac{\\epsilon_G}{5}\\hat{f}_{i,j}^{(5)}\\hat{r}_i \\hat{r}_j.\n",
    "$$\n",
    "\n",
    "---\n",
    "\n",
    "### **Уравнения Эйлера-Лагранжа**\n",
    "Уравнения Эйлера-Лагранжа имеют вид:\n",
    "$$\n",
    "\\frac{d}{dt} \\left( \\frac{\\partial \\hat{L}}{\\partial \\dot{q}_i} \\right) - \\frac{\\partial \\hat{L}}{\\partial q_i} = 0,\n",
    "$$\n",
    "где $q_i$ — обобщённые координаты ($\\hat{r}$ и $\\phi$).\n",
    "\n",
    "---\n",
    "\n",
    "#### Уравнение для $\\hat{r}$:\n",
    "Для координаты $\\hat{r}$:\n",
    "$$\n",
    "\\frac{d}{d\\hat{t}} \\left(\\frac{\\partial \\hat{L}}{\\partial \\hat{r}^{(1)}} \\right) - \\frac{\\partial \\hat{L}}{\\partial \\hat{r}} = 0.\n",
    "$$\n",
    "Вычислим производные:\n",
    "$$\n",
    "\\frac{\\partial \\hat{L}}{\\partial \\hat{r}^{(1)}} = \\hat{r}^{(1)}, \\quad \\frac{d}{d\\hat{t}} \\left( \\frac{\\partial \\hat{L}}{\\partial \\hat{r}^{(1)}} \\right) = \\hat{r}^{(2)},\n",
    "$$\n",
    "$$\n",
    "\\frac{\\partial \\hat{L}}{\\partial \\hat{r}} = \\hat{r} \\hat{\\omega}^2 - \\frac{1}{\\hat{r}^2} - \\epsilon_G\\frac{\\partial \\hat{\\Phi}}{\\partial \\hat{r}}.\n",
    "$$\n",
    "Подставляем в уравнение Эйлера-Лагранжа:\n",
    "$$\n",
    "\\hat{r}^{(2)} - \\hat{r} \\hat{\\omega}^2 + \\frac{1}{\\hat{r}^2} = - \\epsilon_G\\frac{\\partial \\hat{\\Phi}}{\\partial \\hat{r}}.\n",
    "$$\n",
    "\n",
    "Это **радиальное уравнение движения**.\n",
    "\n",
    "Заметим, что энергия системы:\n",
    "$$\n",
    "\\hat{E} = \\frac{(\\hat{r}^{(1)})^2}{2} + \\frac{\\hat{r}^2 \\hat{\\omega}^2}{2} - \\frac{1}{\\hat{r}}\n",
    "$$\n",
    "$$\n",
    "\\frac{1}{\\hat{r}^{(1)}}\\left(\\frac{d\\hat{E}}{d\\hat{t}} - \\hat{\\omega} \\frac{d\\hat{J}}{d\\hat{t}}\\right) = \\hat{r}^{(2)} - \\hat{r} \\hat{\\omega}^2 + \\frac{1}{\\hat{r}^2}\n",
    "$$\n",
    "\n",
    "---\n",
    "\n",
    "#### Уравнение для $\\phi$:\n",
    "Для координаты $\\phi$:\n",
    "$$\n",
    "\\frac{d}{d\\hat{t}} \\left(\\frac{\\partial \\hat{L}}{\\partial \\hat{\\omega}} \\right) - \\frac{\\partial \\hat{L}}{\\partial \\phi} = 0.\n",
    "$$\n",
    "Вычислим производные:\n",
    "$$\n",
    "\\frac{\\partial \\hat{L}}{\\partial \\hat{\\omega}} = \\hat{r}^2 \\hat{\\omega}, \\quad \\frac{d}{d\\hat{t}} \\left( \\frac{\\partial \\hat{L}}{\\partial \\hat{\\omega}} \\right) = \\frac{d}{d\\hat{t}} \\left( \\hat{r}^2 \\hat{\\omega} \\right),\n",
    "$$\n",
    "$$\n",
    "\\frac{\\partial \\hat{L}}{\\partial \\phi} = - \\epsilon_G\\frac{\\partial \\hat{\\Phi}}{\\partial \\phi}.\n",
    "$$\n",
    "Подставляем в уравнение Эйлера-Лагранжа:\n",
    "$$\n",
    "\\frac{d}{d\\hat{t}} \\left( \\hat{r}^2 \\hat{\\omega} \\right) = \\frac{d\\hat{J}}{d\\hat{t}} = - \\epsilon_G\\frac{\\partial \\hat{\\Phi}}{\\partial \\phi}.\n",
    "$$\n",
    "Это **уравнение для $\\phi$**.\n",
    "А также уравнение для изменения момента импульса системы.\n",
    "\n",
    "---\n",
    "\n",
    "#### Итоговая энергетическая система, выведенная по-новому будет:\n",
    "\n",
    "$$\n",
    "\\begin{align}\n",
    "\\frac{d\\hat{E}}{d\\hat{t}} &= - \\epsilon_G\\left(\\hat{r}^{(1)}\\frac{\\partial \\hat{\\Phi}}{\\partial \\hat{r}} + \\hat{\\omega} \\frac{\\partial \\hat{\\Phi}}{\\partial \\phi}\\right) = - \\epsilon_G \\frac{d\\hat{\\Phi}}{d\\hat{t}}\n",
    "\\\\\n",
    "\\frac{d\\hat{J}}{d\\hat{t}} &= - \\epsilon_G\\frac{\\partial \\hat{\\Phi}}{\\partial \\phi}\n",
    "\\end{align}\n",
    "$$"
   ]
  },
  {
   "cell_type": "markdown",
   "metadata": {},
   "source": [
    "И снова, чтобы перейти в размерный вид, достаточно положить $\\epsilon_G \\equiv 1$"
   ]
  },
  {
   "cell_type": "markdown",
   "metadata": {},
   "source": [
    "$\\hat{\\Phi} = \\frac{1}{5}\\hat{f}_{ij}^{(5)}\\hat{r}_i\\hat{r}_j$"
   ]
  },
  {
   "cell_type": "code",
   "execution_count": 392,
   "metadata": {
    "vscode": {
     "languageId": "wolfram"
    }
   },
   "outputs": [
    {
     "data": {
      "text/html": [
       "<div><img alt=\"Output\" src=\"data:image/png;base64,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\"></div>"
      ],
      "text/plain": [
       "       ^   ^ ^         ^   ^   (5) ^ ^          ^   ^   (5) ^ ^\n",
       "(Cos[ϕ[t]] r[t] (Cos[ϕ[t]] f       r[t] + Sin[ϕ[t]] f       r[t]) + \n",
       "                            x,x                      x,y\n",
       " \n",
       "            ^   ^ ^         ^   ^   (5) ^ ^          ^   ^   (5) ^ ^\n",
       ">     Sin[ϕ[t]] r[t] (Cos[ϕ[t]] f       r[t] + Sin[ϕ[t]] f       r[t])) / 5\n",
       "                                 x,y                      y,y"
      ]
     },
     "execution_count": 392,
     "metadata": {
      "text/html": [],
      "text/plain": []
     },
     "output_type": "execute_result"
    }
   ],
   "source": [
    "fh5rhrh = 1/5 EinsteinSummation[{{i, j}, {i}, {j}}, {fh5, rh, rh}];\n",
    "fh5rhrh"
   ]
  },
  {
   "cell_type": "code",
   "execution_count": 393,
   "metadata": {
    "vscode": {
     "languageId": "wolfram"
    }
   },
   "outputs": [
    {
     "data": {
      "text/html": [
       "<div><img alt=\"Output\" src=\"data:image/png;base64,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\"></div>"
      ],
      "text/plain": [
       "         ^  2 ^   (5)           ^   ^   (5)         ^  2 ^   (5)  ^ ^\n",
       "2 (Cos[ϕ[t]]  f       + Sin[2 ϕ[t]] f       + Sin[ϕ[t]]  f      ) r[t]\n",
       "               x,x                   x,y                  y,y\n",
       "----------------------------------------------------------------------\n",
       "                                  5"
      ]
     },
     "execution_count": 393,
     "metadata": {
      "text/html": [],
      "text/plain": []
     },
     "output_type": "execute_result"
    }
   ],
   "source": [
    "Simplify[D[fh5rhrh, OverHat[r][OverHat[t]]]]"
   ]
  },
  {
   "cell_type": "code",
   "execution_count": 395,
   "metadata": {
    "vscode": {
     "languageId": "wolfram"
    }
   },
   "outputs": [
    {
     "data": {
      "text/html": [
       "<div><img alt=\"Output\" src=\"data:image/png;base64,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\"></div>"
      ],
      "text/plain": [
       "      ^ ^         ^   ^   (5)        ^   ^ ^  ^ ^          ^    ^   ^\n",
       "(2 ϵ  r[t] (Cos[ϕ[t]] f       (Sin[ϕ[t]] r[t] ω[t] - Cos[ϕ[t]] (r)'[t]) - \n",
       "    G                  x,x\n",
       " \n",
       "              ^   ^   (5)        ^   ^ ^  ^ ^          ^    ^   ^\n",
       ">       Sin[ϕ[t]] f       (Cos[ϕ[t]] r[t] ω[t] + Sin[ϕ[t]] (r)'[t]) - \n",
       "                   y,y\n",
       " \n",
       "        ^   (5)          ^   ^ ^  ^ ^            ^    ^   ^\n",
       ">       f       (Cos[2 ϕ[t]] r[t] ω[t] + Sin[2 ϕ[t]] (r)'[t]))) / 5\n",
       "         x,y\n",
       "\n",
       "            ^   ^   (5)             ^   ^   (5)           ^   ^   (5)  ^ ^ 2\n",
       "ϵ  (Sin[2 ϕ[t]] f       - 2 Cos[2 ϕ[t]] f       - Sin[2 ϕ[t]] f      ) r[t]\n",
       " G               x,x                     x,y                   y,y\n",
       "----------------------------------------------------------------------------\n",
       "                                     5"
      ]
     },
     "execution_count": 395,
     "metadata": {
      "text/html": [],
      "text/plain": []
     },
     "output_type": "execute_result"
    }
   ],
   "source": [
    "RHS2 = - Subscript[\\[Epsilon],G] Simplify[{\n",
    "  D[fh5rhrh, OverHat[t]]/. OmegaReplace,\n",
    "  D[fh5rhrh, \\[Phi][OverHat[t]]]\n",
    "}, Trig -> True];\n",
    "\n",
    "RHS2 // MatrixForm"
   ]
  },
  {
   "cell_type": "markdown",
   "metadata": {},
   "source": [
    "Что полностью <span style=\"color:red\">совпадает</span> с предыдущим подходом!"
   ]
  },
  {
   "cell_type": "code",
   "execution_count": 396,
   "metadata": {
    "vscode": {
     "languageId": "wolfram"
    }
   },
   "outputs": [
    {
     "data": {
      "text/html": [
       "<div><img alt=\"Output\" src=\"data:image/png;base64,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\"></div>"
      ],
      "text/plain": [
       "0\n",
       "\n",
       "0"
      ]
     },
     "execution_count": 396,
     "metadata": {
      "text/html": [],
      "text/plain": []
     },
     "output_type": "execute_result"
    }
   ],
   "source": [
    "FullSimplify[RHS2 - RHS1] // MatrixForm"
   ]
  },
  {
   "cell_type": "code",
   "execution_count": null,
   "metadata": {
    "vscode": {
     "languageId": "wolfram"
    }
   },
   "outputs": [],
   "source": [
    "Simplify[D[fh, {OverHat[t], 5}], Trig -> True] // MatrixForm"
   ]
  },
  {
   "cell_type": "markdown",
   "metadata": {},
   "source": [
    "# Интегрирование по частям\n",
    "[Integrate By Parts](https://resources.wolframcloud.com/FunctionRepository/resources/IntegrateByParts/)\n",
    "Contributed by: Wolfram|Alpha Math Team"
   ]
  },
  {
   "cell_type": "code",
   "execution_count": null,
   "metadata": {
    "vscode": {
     "languageId": "wolfram"
    }
   },
   "outputs": [],
   "source": [
    "IntegrateByParts // ClearAll;\n",
    "IntegrateByParts[ args___ ] :=\n",
    "    Module[ { res },\n",
    "        update[ ];\n",
    "        res = Symbol[ \"ResourceFunctionHelpers`IntegrateByParts\" ][ args ];\n",
    "        res /; Head @ res =!= Symbol[ \"ResourceFunctionHelpers`IntegrateByParts\" ]\n",
    "    ];"
   ]
  },
  {
   "cell_type": "code",
   "execution_count": null,
   "metadata": {
    "vscode": {
     "languageId": "wolfram"
    }
   },
   "outputs": [],
   "source": [
    "update // ClearAll;\n",
    "update[ ] /; $VersionNumber <= 12 :=\n",
    "    Once[\n",
    "\n",
    "        If[ MemberQ[ PacletSites[ ], $publicPacletSite ],\n",
    "            PacletManager`PacletUpdate[\n",
    "                \"ResourceFunctionHelpers\",\n",
    "                \"Site\"        -> \"http://pacletserver.wolfram.com\",\n",
    "                \"UpdateSites\" -> True\n",
    "            ]\n",
    "        ];\n",
    "\n",
    "        Quiet @ Block[ { $ContextPath }, Get[ \"ResourceFunctionHelpers`\" ] ]\n",
    "    ];"
   ]
  },
  {
   "cell_type": "code",
   "execution_count": null,
   "metadata": {
    "vscode": {
     "languageId": "wolfram"
    }
   },
   "outputs": [],
   "source": [
    "update // ClearAll;\n",
    "update[ ] /; $VersionNumber <= 12 :=\n",
    "    Once[\n",
    "\n",
    "        If[ MemberQ[ PacletSites[ ], $publicPacletSite ],\n",
    "            PacletManager`PacletUpdate[\n",
    "                \"ResourceFunctionHelpers\",\n",
    "                \"Site\"        -> \"http://pacletserver.wolfram.com\",\n",
    "                \"UpdateSites\" -> True\n",
    "            ]\n",
    "        ];\n",
    "\n",
    "        Quiet @ Block[ { $ContextPath }, Get[ \"ResourceFunctionHelpers`\" ] ]\n",
    "    ];"
   ]
  },
  {
   "cell_type": "markdown",
   "metadata": {},
   "source": [
    "$$\n",
    "  I_4(u) = \\int_{r_1}^\\infty \\frac{24r^2u^6 + 48u^6r + 120r^{3/2}u^4 - 96u^6 + 96u^4\\sqrt{r} - u^2r^2 + 133u^2r - 2r^{3/2}}{r^4\\sqrt{u^2r + 2\\sqrt{r} - u^2}} \\, dr,\n",
    "$$\n",
    "где при $r \\ge r_1$ выражение $u^2r + 2\\sqrt{r} - u^2 \\ge 0$.\n",
    "\n",
    "Всюду предполагается $u \\gt 0$."
   ]
  },
  {
   "cell_type": "markdown",
   "metadata": {},
   "source": [
    "## Интегрант $f_4(u, r)$:"
   ]
  },
  {
   "cell_type": "markdown",
   "metadata": {},
   "source": [
    "$$\n",
    "  f_4(u, r) = \\frac{24r^2u^6 + 48u^6r + 120r^{3/2}u^4 - 96u^6 + 96u^4\\sqrt{r} - u^2r^2 + 133u^2r - 2r^{3/2}}{r^4\\sqrt{u^2r + 2\\sqrt{r} - u^2}}\n",
    "$$"
   ]
  },
  {
   "cell_type": "code",
   "execution_count": null,
   "metadata": {
    "vscode": {
     "languageId": "wolfram"
    }
   },
   "outputs": [],
   "source": [
    "integrand4[u_, r_] = (24*r^2*u^6 + 48*u^6*r + 120*r^(3/2)*u^4 - 96*u^6 + 96*u^4*Sqrt[r] - u^2*r^2 + 133*u^2*r - 2*r^(3/2)) /\n",
    "  (r^4*Sqrt[u^2*r + 2*Sqrt[r] - u^2]);"
   ]
  },
  {
   "cell_type": "markdown",
   "metadata": {},
   "source": [
    "Значение интегранта при любом $u$ на бесконечно больших $r$ равно 0:"
   ]
  },
  {
   "cell_type": "code",
   "execution_count": null,
   "metadata": {
    "vscode": {
     "languageId": "wolfram"
    }
   },
   "outputs": [],
   "source": [
    "Limit[integrand4[u, r], r -> Infinity]"
   ]
  },
  {
   "cell_type": "markdown",
   "metadata": {},
   "source": [
    "### Выражение для левой границы $r_1$"
   ]
  },
  {
   "cell_type": "code",
   "execution_count": null,
   "metadata": {
    "vscode": {
     "languageId": "wolfram"
    }
   },
   "outputs": [],
   "source": [
    "eqr1[u_, r_] = u^2*r + 2*Sqrt[r] - u^2;\n",
    "sol = Assuming[{u ∈ Reals, r ∈ Reals, r > 0}, Solve[eqr1[u, r] == 0, r]];\n",
    "r1[u_] = Simplify[r/.sol[[1]]]"
   ]
  },
  {
   "cell_type": "markdown",
   "metadata": {},
   "source": [
    "$r_1$ обращается в 0 при $u \\rightarrow 0$:"
   ]
  },
  {
   "cell_type": "code",
   "execution_count": null,
   "metadata": {
    "vscode": {
     "languageId": "wolfram"
    }
   },
   "outputs": [],
   "source": [
    "Series[r1[u], {u, 0, 5}]\n",
    "Limit[r1[u], u -> 0]"
   ]
  },
  {
   "cell_type": "markdown",
   "metadata": {},
   "source": [
    "И проверим, что знаменатель обращается в 0 при $r = r_1$"
   ]
  },
  {
   "cell_type": "code",
   "execution_count": null,
   "metadata": {
    "vscode": {
     "languageId": "wolfram"
    }
   },
   "outputs": [],
   "source": [
    "PlotR1[u_] := Module[\n",
    "  {points, r1Value},\n",
    "\n",
    "  r1Value = Piecewise[{{0, u == 0}}, r1[u]];\n",
    "  points = {{r1Value, eqr1[u, r1Value]}};\n",
    "\n",
    "  plotLabel = \"u = \" <> ToString[u];\n",
    "\n",
    "  Show[\n",
    "    Plot[\n",
    "      eqr1[u, r],\n",
    "      {r, -1, 10},\n",
    "      AxesLabel -> {\"u\", \"r1\"},\n",
    "      PlotLabel -> plotLabel,\n",
    "      PlotRange -> All\n",
    "    ],\n",
    "    ListPlot[\n",
    "      points,\n",
    "      PlotStyle -> {Red, PointSize[Large]}\n",
    "    ]\n",
    "  ]\n",
    "]\n",
    "\n",
    "plots = {PlotR1[3], PlotR1[0.1], PlotR1[0.0]};\n",
    "GraphicsRow[plots]"
   ]
  },
  {
   "cell_type": "markdown",
   "metadata": {},
   "source": [
    "### Графики функций интегранта $f_4(u_i, r)$:"
   ]
  },
  {
   "cell_type": "code",
   "execution_count": null,
   "metadata": {
    "vscode": {
     "languageId": "wolfram"
    }
   },
   "outputs": [],
   "source": [
    "PlotIntegrand4[u_] := Module[\n",
    "  {r1Value},\n",
    "\n",
    "  r1Value = Piecewise[{{0, u == 0}}, r1[u]];\n",
    "\n",
    "  plotLabel = \"u = \" <> ToString[u];\n",
    "\n",
    "  Plot[\n",
    "    integrand4[u, r],\n",
    "    {r, r1Value, 10^3},\n",
    "    PlotLabel -> plotLabel,\n",
    "    PlotRange -> All,\n",
    "    AxesOrigin -> {0, 0},\n",
    "    AxesLabel -> {\"r\", \"integrand4\"},\n",
    "    ScalingFunctions -> {\"Log\", \"SignedLog\"}\n",
    "  ]\n",
    "]\n",
    "\n",
    "plots = {PlotIntegrand4[0.0], PlotIntegrand4[0.03], PlotIntegrand4[0.3]};\n",
    "GraphicsRow[plots]"
   ]
  },
  {
   "cell_type": "markdown",
   "metadata": {},
   "source": [
    "*Mathematica* очень долго берёт этот интеграл, но выдаёт огромную простыню выражений, которую не может упростить, используя при это коплексную экспоненту."
   ]
  },
  {
   "cell_type": "code",
   "execution_count": null,
   "metadata": {
    "vscode": {
     "languageId": "wolfram"
    }
   },
   "outputs": [],
   "source": [
    "Inactivate[Integrate[integrand4[u, r], {r, r1[u], Infinity}, Assumptions -> {u ∈ Reals, u > 0}]]"
   ]
  },
  {
   "cell_type": "markdown",
   "metadata": {},
   "source": [
    "## Численный график $I_4(u)$ с использованием NIntegrate:"
   ]
  },
  {
   "cell_type": "code",
   "execution_count": null,
   "metadata": {
    "vscode": {
     "languageId": "wolfram"
    }
   },
   "outputs": [],
   "source": [
    "Plot[\n",
    "  NIntegrate[integrand4[u, r], {r, r1[u], Infinity}],\n",
    "  {u, 1, 100},\n",
    "  PlotLabel -> \"NIntegral of integrand4\",\n",
    "  AxesLabel -> {\"u\", \"integrand4\"}\n",
    "]"
   ]
  },
  {
   "cell_type": "markdown",
   "metadata": {
    "vscode": {
     "languageId": "wolfram"
    }
   },
   "source": [
    "## Численный график $I_4(u)$ с использованием Integrate:"
   ]
  },
  {
   "cell_type": "code",
   "execution_count": null,
   "metadata": {
    "vscode": {
     "languageId": "wolfram"
    }
   },
   "outputs": [],
   "source": [
    "(* points = With[\n",
    "  {u := 10^up},\n",
    "  Table[\n",
    "    {u, N[Integrate[integrand4[u, r], {r, r1[u], Infinity}]]},\n",
    "    {up, 0, 2, 0.05}\n",
    "  ]\n",
    "]; *)\n",
    "\n",
    "points = Table[\n",
    "  {u, N[Integrate[integrand4[u, r], {r, r1[u], Infinity}]]},\n",
    "  {u, 1, 100, 1}\n",
    "];\n",
    "\n",
    "ListPlot[\n",
    "  points,\n",
    "  Joined -> True,\n",
    "  PlotRange -> All,\n",
    "  PlotLabel -> \"Integral of integrand4\",\n",
    "  AxesLabel -> {\"u\", \"integral4\"}\n",
    "]"
   ]
  },
  {
   "cell_type": "markdown",
   "metadata": {},
   "source": [
    "## Первообразная $\\tilde{I}_4(u, r)$:"
   ]
  },
  {
   "cell_type": "code",
   "execution_count": null,
   "metadata": {
    "vscode": {
     "languageId": "wolfram"
    }
   },
   "outputs": [],
   "source": [
    "antiderivative4[u_, r_] = Integrate[integrand4[u, r], r]"
   ]
  },
  {
   "cell_type": "markdown",
   "metadata": {
    "vscode": {
     "languageId": "wolfram"
    }
   },
   "source": [
    "Явно определим аргумент комплексного числа:"
   ]
  },
  {
   "cell_type": "code",
   "execution_count": null,
   "metadata": {
    "vscode": {
     "languageId": "wolfram"
    }
   },
   "outputs": [],
   "source": [
    "(* complexLog[z_] := Log[Abs[z]] + I Arg[z]; *)\n",
    "arg[z_] := ArcTan[ComplexExpand[Im[z]]/ComplexExpand[Re[z]]];\n",
    "(* abs[z_] := ComplexExpand[Abs[z]]; *)"
   ]
  },
  {
   "cell_type": "markdown",
   "metadata": {},
   "source": [
    "Применяя его к antiderivative4[u, r], мы получаем действительное выражение, состоящее из двух слагаемых одно без $\\tan^{-1}$, а второе, включающее $\\tan^{-1}$:"
   ]
  },
  {
   "cell_type": "code",
   "execution_count": null,
   "metadata": {
    "vscode": {
     "languageId": "wolfram"
    }
   },
   "outputs": [],
   "source": [
    "antiderivative4s[u_, r_] =\n",
    "  Simplify[\n",
    "    ComplexExpand[\n",
    "      Re[antiderivative4[u, r]]\n",
    "    ] /. Arg -> arg,\n",
    "    {{u, r} ∈ Reals, u > 0, r > r1[u]}\n",
    "  ];\n",
    "\n",
    "antiderivative4s[u_, r_] =\n",
    "  Sqrt[2 Sqrt[r] - u^2 + r u^2] * Simplify[\n",
    "    Expand[\n",
    "      (antiderivative4s[u, r] /. ArcTan[x_] -> 0) /\n",
    "      Sqrt[2 Sqrt[r] - u^2 + r u^2]\n",
    "    ],\n",
    "    {{u, r} ∈ Reals, u > 0, r > 0}\n",
    "  ] -\n",
    "  Cases[antiderivative4s[u, r],\n",
    "    coeff_.*ArcTan[arg_] :> coeff*ArcTan[arg], ∞][[2]] /\n",
    "  (12 * r^3 * u^7)"
   ]
  },
  {
   "cell_type": "markdown",
   "metadata": {},
   "source": [
    "### График первообразной $\\tilde{I}_4(u_i, r)$:"
   ]
  },
  {
   "cell_type": "code",
   "execution_count": null,
   "metadata": {
    "vscode": {
     "languageId": "wolfram"
    }
   },
   "outputs": [],
   "source": [
    "rules = {\n",
    "  eqr1[u, r] -> 0,\n",
    "  ArcTan[x_] -> -Pi/2\n",
    "};\n",
    "\n",
    "PlotAntiderivative[u_] := Module[\n",
    "  {points, antiderivative, r1Value},\n",
    "\n",
    "  r1Value = r1[u]*(1.0+10^-12);\n",
    "  antiderivative =\n",
    "    If[r == r1Value,\n",
    "      antiderivative4s[u, r] /. rules,\n",
    "      antiderivative4s[u, r]\n",
    "    ];\n",
    "\n",
    "  points = {{r1Value, Re[antiderivative /. r -> r1Value]}};\n",
    "\n",
    "  plotLabel = \"u = \" <> ToString[u];\n",
    "\n",
    "  Show[\n",
    "    Plot[\n",
    "      antiderivative,\n",
    "      {r, r1Value, r1Value*2.1},\n",
    "      PlotLabel -> plotLabel,\n",
    "      PlotRange -> All,\n",
    "      AxesLabel -> {\"r\", \"antiderivative4s\"},\n",
    "      ScalingFunctions -> {\"SignedLog\", \"SignedLog\"}\n",
    "    ],\n",
    "    ListPlot[\n",
    "      points,\n",
    "      PlotRange -> All,\n",
    "      PlotStyle -> {Red, PointSize[Large]},\n",
    "      ScalingFunctions -> {\"SignedLog\", \"SignedLog\"}\n",
    "    ]\n",
    "  ]\n",
    "]\n",
    "\n",
    "plots = {PlotAntiderivative[3], PlotAntiderivative[0.1], PlotAntiderivative[5*10.0^-2]};\n",
    "GraphicsRow[plots]"
   ]
  },
  {
   "cell_type": "markdown",
   "metadata": {},
   "source": [
    "## Определённый интеграл, возьмём как разницу первообразных по теореме Ньютона-Лейбница,\n",
    "$$\n",
    "  I_{4,1}(u) = \\int_{r_1}^{\\infty} f_4(u, r) \\, dr = \\tilde{I}_{4}(u, \\infty) - \\tilde{I}_{4}(u, r_1(u)):\n",
    "$$"
   ]
  },
  {
   "cell_type": "markdown",
   "metadata": {},
   "source": [
    "Найдём $\\tilde{I}_{4}(u, \\infty)$:"
   ]
  },
  {
   "cell_type": "code",
   "execution_count": null,
   "metadata": {
    "vscode": {
     "languageId": "wolfram"
    }
   },
   "outputs": [],
   "source": [
    "integral4Inf[u_] = Limit[\n",
    "  antiderivative4s[u, r],\n",
    "  r -> Infinity,\n",
    "  Assumptions -> {u ∈ Reals, u > 0}\n",
    "];\n",
    "\n",
    "integral4Infs[u_] = Simplify[\n",
    "  ComplexExpand[\n",
    "    Re[integral4Inf[u]]\n",
    "  ] /. Arg -> arg,\n",
    "  {{u, r} ∈ Reals, u > 0, r > r1[u]}\n",
    "]"
   ]
  },
  {
   "cell_type": "markdown",
   "metadata": {},
   "source": [
    "Найдём $\\tilde{I}_{4}(r_1(u))$, при этом заметим, что $2\\sqrt{r} - u^2 + r u^2 = 0$, и $\\mathrm{arctan}(-\\infty) = -\\frac{\\pi}{2}$:"
   ]
  },
  {
   "cell_type": "code",
   "execution_count": null,
   "metadata": {
    "vscode": {
     "languageId": "wolfram"
    }
   },
   "outputs": [],
   "source": [
    "integral4r1[u_] = antiderivative4s[u, r] /. rules"
   ]
  },
  {
   "cell_type": "markdown",
   "metadata": {},
   "source": [
    "### Графики функций $\\tilde{I}_{4}(u, r_i)$:"
   ]
  },
  {
   "cell_type": "code",
   "execution_count": null,
   "metadata": {
    "vscode": {
     "languageId": "wolfram"
    }
   },
   "outputs": [],
   "source": [
    "Plot[\n",
    "  {\n",
    "    N[antiderivative4s[u, 1]],\n",
    "    N[antiderivative4s[u, 10^2]],\n",
    "    N[antiderivative4s[u, 10^5]],\n",
    "    N[antiderivative4s[u, 10^10]],\n",
    "    N[integral4Infs[u]]\n",
    "  },\n",
    "  {u, 0, 1000},\n",
    "  AxesLabel -> {\"u\", \"antiderivative4\"},\n",
    "  PlotLegends -> {\n",
    "    \"antiderivative4s[r=1]\",\n",
    "    \"antiderivative4s[r=10^2]\",\n",
    "    \"antiderivative4s[r=10^5]\",\n",
    "    \"antiderivative4s[r=10^10]\",\n",
    "    \"antiderivative4s[r=Infinity]\"\n",
    "  },\n",
    "  ScalingFunctions -> {\"SignedLog\", \"SignedLog\"}\n",
    "]"
   ]
  },
  {
   "cell_type": "code",
   "execution_count": null,
   "metadata": {
    "vscode": {
     "languageId": "wolfram"
    }
   },
   "outputs": [],
   "source": [
    "Plot[\n",
    "  {\n",
    "    N[Re[antiderivative4s[u, r1[u]+10^-2]]],\n",
    "    N[Re[antiderivative4s[u, r1[u]+10^-4]]],\n",
    "    N[Re[antiderivative4s[u, r1[u]+10^-5]]],\n",
    "    N[Re[antiderivative4s[u, r1[u]+1.35*10^-6]]],\n",
    "    N[Re[antiderivative4s[u, r1[u]+10^-7]]],\n",
    "    N[Re[antiderivative4s[u, r1[u]+10^-10]]],\n",
    "    N[Re[antiderivative4s[u, r1[u]+10^-12]]],\n",
    "    N[integral4r1[u]]\n",
    "  },\n",
    "  {u, 0.0, 100},\n",
    "  AxesLabel -> {\"u\", \"antiderivative4\"},\n",
    "  PlotLegends -> {\n",
    "    \"antiderivative4s[r=r1[u]+10^{-2}]\",\n",
    "    \"antiderivative4s[r=r1[u]+10^{-4}]\",\n",
    "    \"antiderivative4s[r=r1[u]+10^{-5}]\",\n",
    "    \"antiderivative4s[r=r1[u]+1.35*10^-6]\",\n",
    "    \"antiderivative4s[r=r1[u]+10^{-7}]\",\n",
    "    \"antiderivative4s[r=r1[u]+10^{-10}]\",\n",
    "    \"antiderivative4s[r=r1[u]+10^{-12}]\",\n",
    "    \"antiderivative4s[r=r1[u]]\"\n",
    "    },\n",
    "  PlotRange -> All,\n",
    "  ScalingFunctions -> {\"Log\", \"SignedLog\"}\n",
    "]"
   ]
  },
  {
   "cell_type": "markdown",
   "metadata": {},
   "source": [
    "## Итоговый ответ для $I_4(u)$:"
   ]
  },
  {
   "cell_type": "code",
   "execution_count": null,
   "metadata": {
    "vscode": {
     "languageId": "wolfram"
    }
   },
   "outputs": [],
   "source": [
    "I4[u_] = Simplify[Collect[Simplify[integral4Infs[u] - integral4r1[u], {u ∈ Reals, u > 0}], (425 + 366*u^4 + 37*u^8)]]"
   ]
  },
  {
   "cell_type": "code",
   "execution_count": null,
   "metadata": {
    "vscode": {
     "languageId": "wolfram"
    }
   },
   "outputs": [],
   "source": [
    "TeXForm[I4[u]]"
   ]
  },
  {
   "cell_type": "markdown",
   "metadata": {},
   "source": [
    "## Сравнение Integrate и аналитической $I_4(u)$"
   ]
  },
  {
   "cell_type": "code",
   "execution_count": null,
   "metadata": {
    "vscode": {
     "languageId": "wolfram"
    }
   },
   "outputs": [],
   "source": [
    "Show[\n",
    "  Plot[\n",
    "    N[I4[u]],\n",
    "    {u, 0, 100},\n",
    "    PlotLabel -> Subscript[\"I\", 4][u],\n",
    "    AxesLabel -> {\"u\", Subscript[\"I\", 4]},\n",
    "    PlotLegends -> {Subscript[\"I\", 4][u]},\n",
    "    ScalingFunctions -> {\"SignedLog\", \"SignedLog\"}\n",
    "  ],\n",
    "  ListPlot[\n",
    "    points,\n",
    "    (* Joined -> True, *)\n",
    "    Mesh -> All,\n",
    "    PlotStyle -> {Red, Dashed},\n",
    "    PlotLegends -> {Subscript[\"Integrate I\", 4][u]},\n",
    "    ScalingFunctions -> {\"SignedLog\", \"SignedLog\"}\n",
    "  ]\n",
    "]"
   ]
  },
  {
   "cell_type": "code",
   "execution_count": null,
   "metadata": {
    "vscode": {
     "languageId": "wolfram"
    }
   },
   "outputs": [],
   "source": [
    "points01 = Table[{u, N[Integrate[integrand4[u, r], {r, r1[u], Infinity}]]}, {u, 0.02, 1, 0.05}];\n",
    "Show[\n",
    "  Plot[\n",
    "    N[I4[u]],\n",
    "    {u, 0, 1},\n",
    "    PlotLabel -> Subscript[\"I\", 4][u],\n",
    "    AxesLabel -> {\"u\", Subscript[\"I\", 4]},\n",
    "    PlotLegends -> {Subscript[\"I\", 4][u]},\n",
    "    ScalingFunctions -> {\"SignedLog\", \"SignedLog\"}\n",
    "  ],\n",
    "  ListPlot[\n",
    "    points01,\n",
    "    (* Joined -> True, *)\n",
    "    Mesh -> All,\n",
    "    PlotStyle -> {Red, Dashed},\n",
    "    PlotLegends -> {Subscript[\"Integrate I\", 4][u]},\n",
    "    ScalingFunctions -> {\"SignedLog\", \"SignedLog\"}\n",
    "  ]\n",
    "]"
   ]
  },
  {
   "cell_type": "markdown",
   "metadata": {},
   "source": [
    "$$I_1 = \\hat{r}_2 \\left[ 120\\hat{r}_2^{(1)}\\omega^2\\omega^{(1)} - 5\\hat{r}_2^{(1)}\\omega^{(3)} - 16\\hat{r}_2\\omega^5 - 10\\hat{r}_2^{(2)}\\omega^{(2)} + 60\\hat{r}_2\\omega(\\omega^{(1)})^2\n",
    "- 10\\hat{r}_2^{(3)}\\omega^{(1)} + 40\\hat{r}_2^{(2)}\\omega^3 - 5\\hat{r}_2^{(4)}\\omega - \\hat{r}_2\\omega^{(4)} + 40\\hat{r}_2\\omega^2\\omega^{(2)} \\right]$$"
   ]
  },
  {
   "cell_type": "markdown",
   "metadata": {},
   "source": [
    "$$I_2 = 2\\hat{r}_2 \\left[ -40\\hat{r}_2\\omega^3\\omega^{(1)} - 20\\omega^4\\hat{r}_2^{(1)} + 5\\hat{r}_2\\omega\\omega^{(3)} + 10\\hat{r}_2\\omega^{(1)}\\omega^{(2)} + 10\\omega^2\\hat{r}_2^{(3)} + 30\\omega\\omega^{(1)}\\hat{r}_2^{(2)} + 20\\omega\\omega^{(2)}\\hat{r}_2^{(1)} + 15\\hat{r}_2^{(1)}(\\omega^{(1)})^2 - \\frac{1}{3}\\hat{r}_2^{(5)} \\right]$$"
   ]
  }
 ],
 "metadata": {
  "kernelspec": {
   "display_name": "Wolfram Language 14.1",
   "language": "Wolfram Language",
   "name": "wolframlanguage14.1"
  },
  "language_info": {
   "codemirror_mode": "mathematica",
   "file_extension": ".m",
   "mimetype": "application/vnd.wolfram.m",
   "name": "Wolfram Language",
   "pygments_lexer": "mathematica",
   "version": "12.0"
  }
 },
 "nbformat": 4,
 "nbformat_minor": 2
}
