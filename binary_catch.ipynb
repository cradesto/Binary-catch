{
 "cells": [
  {
   "cell_type": "markdown",
   "metadata": {},
   "source": [
    "# Binary catch\n",
    "\n",
    "**При каких условиях два тела, налетающие друг на друга с бесконечности (в системе центра масс) станут связной системой из-за испускания гравволн?**"
   ]
  },
  {
   "cell_type": "code",
   "execution_count": 769,
   "metadata": {
    "vscode": {
     "languageId": "wolfram"
    }
   },
   "outputs": [
    {
     "name": "stdout",
     "output_type": "stream",
     "text": [
      "  (CleanSlate) Contexts purged: {Global`}\n",
      "  (CleanSlate) Approximate kernel memory recovered: 94 Kb\n"
     ]
    }
   ],
   "source": [
    "(* https://mathematica.stackexchange.com/questions/850/how-do-i-clear-all-user-defined-symbols/861#861 *)\n",
    "<< Utilities`CleanSlate`\n",
    "CleanSlate[];\n",
    "\n",
    "ClearAll[\"Global`*\"]\n",
    "(* ClearSystemCache[] *)\n",
    "(* https://mathematica.stackexchange.com/questions/111605/quit-vs-clearallglobal *)\n",
    "if[Length[Names[\"Global`*\"]] > 0, Remove[\"Global`*\"]];\n",
    "\n",
    "(* PacletInstall[\n",
    "    \"TensorSimplify\",\n",
    "\n",
    "    \"Site\" -> \"http://raw.githubusercontent.com/carlwoll/TensorSimplify/master\"\n",
    "]*)\n",
    "<<TensorSimplify`"
   ]
  },
  {
   "cell_type": "markdown",
   "metadata": {},
   "source": [
    "## Einstein Summation"
   ]
  },
  {
   "cell_type": "code",
   "execution_count": 778,
   "metadata": {
    "vscode": {
     "languageId": "wolfram"
    }
   },
   "outputs": [],
   "source": [
    "ClearAll@EinsteinSummation\n",
    "\n",
    "EinsteinSummation[in_List, arrays_] := Module[\n",
    "  {res =\n",
    "    isum[in -> Cases[Tally @ Flatten @ in, {_, 1}][[All, 1]], arrays]},\n",
    "  res /; res =!= $Failed\n",
    "  ]\n",
    "\n",
    "EinsteinSummation[in_List -> out_, arrays_] := Module[\n",
    "  {res = isum[in -> out, arrays]},\n",
    "  res /; res =!= $Failed\n",
    "  ]\n",
    "\n",
    "isum[in_List -> out_, arrays_List] := Catch@Module[\n",
    "  {indices, contracted, uncontracted, contractions, transpose},\n",
    "  If[Length[in] != Length[arrays],\n",
    "    Message[EinsteinSummation::length, Length[in], Length[arrays]];\n",
    "    Throw[$Failed]];\n",
    "  MapThread[\n",
    "    If[IntegerQ@TensorRank[#1] && Length[#1] != TensorRank[#2],\n",
    "      Message[EinsteinSummation::shape, #1, #2];\n",
    "      Throw[$Failed]] &, {in, arrays}];\n",
    "  indices = Tally[Flatten[in, 1]];\n",
    "  If[DeleteCases[indices, {_, 1 | 2}] =!= {},\n",
    "    Message[EinsteinSummation::repeat,\n",
    "      Cases[indices, {x_, Except[1 | 2]} :> x]];\n",
    "    Throw[$Failed]];\n",
    "  uncontracted = Cases[indices, {x_, 1} :> x];\n",
    "  If[Sort[uncontracted] =!= Sort[out],\n",
    "    Message[EinsteinSummation::output, uncontracted, out];\n",
    "    Throw[$Failed]];\n",
    "  contracted = Cases[indices, {x_, 2} :> x];\n",
    "  contractions = Flatten[Position[Flatten[in, 1], #]] & /@ contracted;\n",
    "  transpose = FindPermutation[uncontracted, out];\n",
    "  Activate@\n",
    "    TensorTranspose[\n",
    "      TensorContract[Inactive[TensorProduct] @@ arrays, contractions],\n",
    "    transpose]]\n",
    "\n",
    "EinsteinSummation::length =\n",
    "  \"Number of index specifications (`1`) does not match the number of \\\n",
    "tensors (`2`)\";\n",
    "EinsteinSummation::shape =\n",
    "  \"Index specification `1` does not match the tensor rank of `2`\";\n",
    "EinsteinSummation::repeat =\n",
    "  \"Index specifications `1` are repeated more than twice\";\n",
    "EinsteinSummation::output =\n",
    "  \"The uncontracted indices don't match the desired output\";"
   ]
  },
  {
   "cell_type": "code",
   "execution_count": 786,
   "metadata": {
    "vscode": {
     "languageId": "wolfram"
    }
   },
   "outputs": [],
   "source": [
    "(* Правила для скрытия аргументов в TraditionalForm *)\n",
    "\n",
    "Unprotect[Subscript, OverHat, Derivative];\n",
    "\n",
    "MakeBoxes[OverHat[r_][OverHat[t]], TraditionalForm] :=\n",
    "  MakeBoxes[OverHat[r], TraditionalForm]\n",
    "\n",
    "MakeBoxes[\\[Phi][OverHat[t]], TraditionalForm] :=\n",
    "  MakeBoxes[\\[Phi], TraditionalForm]\n",
    "\n",
    "MakeBoxes[Subscript[OverHat[r], n_][OverHat[t]], TraditionalForm] :=\n",
    "  SubscriptBox[OverscriptBox[\"r\", \"^\"], ToString[n]];\n",
    "\n",
    "MakeBoxes[OverHat[\\[Omega]][OverHat[t]], TraditionalForm] :=\n",
    "  OverscriptBox[\"\\[Omega]\", \"^\"];\n",
    "\n",
    "MakeBoxes[Derivative[n_][f_][OverHat[t]], TraditionalForm] := Module[{primes},\n",
    "  primes = StringJoin[Table[\"\\[Prime]\", n]];\n",
    "  SuperscriptBox[ToBoxes[f], primes]\n",
    "];\n",
    "\n",
    "Protect[Subscript, OverHat, Derivative];"
   ]
  },
  {
   "cell_type": "markdown",
   "metadata": {},
   "source": [
    "$\\hat{r}_k$"
   ]
  },
  {
   "cell_type": "code",
   "execution_count": 795,
   "metadata": {
    "vscode": {
     "languageId": "wolfram"
    }
   },
   "outputs": [
    {
     "data": {
      "text/html": [
       "<div><img alt=\"Output\" src=\"data:image/png;base64,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\"></div>"
      ],
      "text/plain": [
       "FormBox[TagBox[RowBox[{\"(\", \"⁠\", \n",
       "\n",
       " \n",
       ">         TagBox[GridBox[{{RowBox[{OverscriptBox[\"r\", \"^\"], \" \", \n",
       "\n",
       " \n",
       ">               RowBox[{\"cos\", \"(\", \"ϕ\", \")\"}]}]}, \n",
       "\n",
       " \n",
       ">            {RowBox[{OverscriptBox[\"r\", \"^\"], \" \", RowBox[{\"sin\", \"(\", \"ϕ\", \")\"}]}]}}, \n",
       "\n",
       " \n",
       ">           Rule[RowSpacings, 1], Rule[ColumnAlignments, Center], \n",
       "\n",
       " \n",
       ">           Rule[ColumnAlignments, Left]], Column], \"⁠\", \")\"}], \n",
       "\n",
       " \n",
       ">       Function[BoxForm`e$, MatrixForm[BoxForm`e$]]], TraditionalForm]\n"
      ]
     },
     "execution_count": 795,
     "metadata": {
      "text/html": [],
      "text/plain": []
     },
     "output_type": "execute_result"
    }
   ],
   "source": [
    "rh = {OverHat[r][OverHat[t]]*Cos[\\[Phi][OverHat[t]]], OverHat[r][OverHat[t]]*Sin[\\[Phi][OverHat[t]]]};\n",
    "rh // MatrixForm // TraditionalForm"
   ]
  },
  {
   "cell_type": "code",
   "execution_count": 796,
   "metadata": {
    "vscode": {
     "languageId": "wolfram"
    }
   },
   "outputs": [],
   "source": [
    "$Assumptions = {\n",
    "  {OverHat[r][OverHat[t]], OverHat[t], rh, Subscript[OverHat[r],2][OverHat[t]]} \\[Element] PositiveReals\n",
    "};"
   ]
  },
  {
   "cell_type": "markdown",
   "metadata": {},
   "source": [
    "## Система движения в декартовых координатах\n",
    "$$\n",
    "\\frac{d^2r_k}{dt^2} = -\\frac{G(m_A+m_B)}{r^3}r_k - \\frac{2}{5}f_{ki}^{(5)}r_i\n",
    "$$\n",
    "\n",
    "Ч.Мизнер, К.Торн, Дж.Уилер Гравтация, Т.3 (36.8)"
   ]
  },
  {
   "cell_type": "markdown",
   "metadata": {},
   "source": [
    "Введём обозначения для масс\n",
    "\n",
    "$$\n",
    "M=m_A+m_B; \\quad\n",
    "\\mu = m_{AB} = \\frac{m_A m_B}{M}\n",
    "$$"
   ]
  },
  {
   "cell_type": "markdown",
   "metadata": {},
   "source": [
    "### Безразмерные единицы\n",
    "$$\n",
    "\\begin{align}\n",
    "r &= b\\hat{r} \\\\\n",
    "t &= t_0\\hat{t} \\\\\n",
    "f_{ij} &= b^2\\frac{G}{c^5}\\mu\\hat{f}_{ij} \\\\\n",
    "f_{ij}^{(5)} &= \\frac{b^2}{t_0^5}\\frac{G}{c^5}\\mu\\hat{f}_{ij}^{(5)}\n",
    "\\end{align}\n",
    "$$"
   ]
  },
  {
   "cell_type": "markdown",
   "metadata": {},
   "source": [
    "$\\hat{f}_{ki}$"
   ]
  },
  {
   "cell_type": "code",
   "execution_count": 798,
   "metadata": {
    "vscode": {
     "languageId": "wolfram"
    }
   },
   "outputs": [
    {
     "data": {
      "text/html": [
       "<div><img alt=\"Output\" src=\"data:image/png;base64,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\"></div>"
      ],
      "text/plain": [
       "FormBox[TagBox[RowBox[{\"(\", \"⁠\", \n",
       "\n",
       " \n",
       ">         GridBox[{{RowBox[{FractionBox[\"1\", \"6\"], \" \", \n",
       "\n",
       " \n",
       ">              SuperscriptBox[OverscriptBox[\"r\", \"^\"], \"2\"], \" \", \n",
       "\n",
       " \n",
       ">              RowBox[{\"(\", RowBox[{RowBox[{\"3\", \" \", \n",
       "\n",
       " \n",
       ">                    RowBox[{\"cos\", \"(\", RowBox[{\"2\", \" \", \"ϕ\"}], \")\"}]}], \"+\",\\\n",
       " \n",
       ">    \"1\"}]\\\n",
       ", \")\"}]}], RowBox[{SuperscriptBox[OverscriptBox[\"r\", \"^\"], \"2\"], \" \", \n",
       "\n",
       " \n",
       ">              RowBox[{\"sin\", \"(\", \"ϕ\", \")\"}], \" \", RowBox[{\"cos\", \"(\", \"ϕ\", \")\"}]}]}, \n",
       "\n",
       " \n",
       ">           {RowBox[{SuperscriptBox[OverscriptBox[\"r\", \"^\"], \"2\"], \" \", \n",
       "\n",
       " \n",
       ">              RowBox[{\"sin\", \"(\", \"ϕ\", \")\"}], \" \", RowBox[{\"cos\", \"(\", \"ϕ\", \")\"}]}], \n",
       "\n",
       " \n",
       ">            RowBox[{FractionBox[\"1\", \"3\"], \" \", \n",
       "\n",
       " \n",
       ">              SuperscriptBox[OverscriptBox[\"r\", \"^\"], \"2\"], \" \", \n",
       "\n",
       " \n",
       ">              RowBox[{\"(\", RowBox[{RowBox[{\"3\", \" \", \n",
       "\n",
       " \n",
       ">                    RowBox[{SuperscriptBox[\"sin\", \"2\"], \"(\", \"ϕ\", \")\"}]}], \"-\", \"1\"}], \n",
       "\n",
       " \n",
       ">                \")\"}]}]}}, Rule[RowSpacings, 1], Rule[ColumnSpacings, 1], \n",
       "\n",
       " \n",
       ">          Rule[RowAlignments, Baseline], Rule[ColumnAlignments, Center]], \"⁠\", \")\"}], \n",
       "\n",
       " \n",
       ">       Function[BoxForm`e$, MatrixForm[BoxForm`e$]]], TraditionalForm]\n"
      ]
     },
     "execution_count": 798,
     "metadata": {
      "text/html": [],
      "text/plain": []
     },
     "output_type": "execute_result"
    }
   ],
   "source": [
    "fh = Simplify[Array[rh[[#]]*rh[[#2]] - 1/3*KroneckerDelta[#, #2]*(OverHat[r][OverHat[t]])^2 &, {2, 2}], Trig -> True];\n",
    "fh // MatrixForm // TraditionalForm"
   ]
  },
  {
   "cell_type": "markdown",
   "metadata": {},
   "source": [
    "$\\hat{f}_{ki}^{(5)}$"
   ]
  },
  {
   "cell_type": "code",
   "execution_count": 802,
   "metadata": {
    "vscode": {
     "languageId": "wolfram"
    }
   },
   "outputs": [
    {
     "data": {
      "text/html": [
       "<div><img alt=\"Output\" src=\"data:image/png;base64,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\"></div>"
      ],
      "text/plain": [
       "FormBox[TagBox[RowBox[{\"(\", \"⁠\", \n",
       "\n",
       " \n",
       ">         GridBox[{{TemplateBox[List[SubscriptBox[OverscriptBox[\"f\", \"^\"], \n",
       "\n",
       " \n",
       ">               RowBox[List[\"x\", \",\", \"x\"]]], \"\\\"(5)\\\"\"], \"Superscript\", \n",
       "\n",
       " \n",
       ">             Rule[SyntaxForm, SuperscriptBox]], \n",
       "\n",
       " \n",
       ">            TemplateBox[List[SubscriptBox[OverscriptBox[\"f\", \"^\"], \n",
       "\n",
       " \n",
       ">               RowBox[List[\"x\", \",\", \"y\"]]], \"\\\"(5)\\\"\"], \"Superscript\", \n",
       "\n",
       " \n",
       ">             Rule[SyntaxForm, SuperscriptBox]]}, \n",
       "\n",
       " \n",
       ">           {TemplateBox[List[SubscriptBox[OverscriptBox[\"f\", \"^\"], \n",
       "\n",
       " \n",
       ">               RowBox[List[\"x\", \",\", \"y\"]]], \"\\\"(5)\\\"\"], \"Superscript\", \n",
       "\n",
       " \n",
       ">             Rule[SyntaxForm, SuperscriptBox]], \n",
       "\n",
       " \n",
       ">            TemplateBox[List[SubscriptBox[OverscriptBox[\"f\", \"^\"], \n",
       "\n",
       " \n",
       ">               RowBox[List[\"y\", \",\", \"y\"]]], \"\\\"(5)\\\"\"], \"Superscript\", \n",
       "\n",
       " \n",
       ">             Rule[SyntaxForm, SuperscriptBox]]}}, Rule[RowSpacings, 1], \n",
       "\n",
       " \n",
       ">          Rule[ColumnSpacings, 1], Rule[RowAlignments, Baseline], \n",
       "\n",
       " \n",
       ">          Rule[ColumnAlignments, Center]], \"⁠\", \")\"}], \n",
       "\n",
       " \n",
       ">       Function[BoxForm`e$, MatrixForm[BoxForm`e$]]], TraditionalForm]\n"
      ]
     },
     "execution_count": 802,
     "metadata": {
      "text/html": [],
      "text/plain": []
     },
     "output_type": "execute_result"
    }
   ],
   "source": [
    "(* fh5 = Array[Superscript[Subscript[OverHat[f], {x, y}[[#1]], {x, y}[[#2]]], \"(5)\"] &, {2, 2}] *)\n",
    "(* Symmetric version *)\n",
    "fh5 = Array[If[#1 <= #2,\n",
    "                    Superscript[Subscript[OverHat[f], {x, y}[[#1]], {x, y}[[#2]]], \"(5)\"],\n",
    "                    Superscript[Subscript[OverHat[f], {x, y}[[#2]], {x, y}[[#1]]], \"(5)\"]] &, {2, 2}];\n",
    "fh5 // MatrixForm // TraditionalForm"
   ]
  },
  {
   "cell_type": "markdown",
   "metadata": {},
   "source": [
    "$\\hat{f}_{ki}^{(5)}\\hat{r}_i$"
   ]
  },
  {
   "cell_type": "code",
   "execution_count": 804,
   "metadata": {
    "vscode": {
     "languageId": "wolfram"
    }
   },
   "outputs": [
    {
     "data": {
      "text/html": [
       "<div><img alt=\"Output\" src=\"data:image/png;base64,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\"></div>"
      ],
      "text/plain": [
       "FormBox[TagBox[RowBox[{\"(\", \"⁠\", \n",
       "\n",
       " \n",
       ">         TagBox[GridBox[{{RowBox[{RowBox[{OverscriptBox[\"r\", \"^\"], \" \", \n",
       "\n",
       " \n",
       ">                 RowBox[{\"sin\", \"(\", \"ϕ\", \")\"}], \" \", \n",
       "\n",
       " \n",
       ">                 TemplateBox[List[SubscriptBox[OverscriptBox[\"f\", \"^\"], \n",
       "\n",
       " \n",
       ">                    RowBox[List[\"x\", \",\", \"y\"]]], \"\\\"(5)\\\"\"], \"Superscript\", \n",
       "\n",
       " \n",
       ">                  Rule[SyntaxForm, SuperscriptBox]]}], \"+\", \n",
       "\n",
       " \n",
       ">               RowBox[{OverscriptBox[\"r\", \"^\"], \" \", RowBox[{\"cos\", \"(\", \"ϕ\", \")\"}], \n",
       "\n",
       " \n",
       ">                 \" \", TemplateBox[List[SubscriptBox[OverscriptBox[\"f\", \"^\"], \n",
       "\n",
       " \n",
       ">                    RowBox[List[\"x\", \",\", \"x\"]]], \"\\\"(5)\\\"\"], \"Superscript\", \n",
       "\n",
       " \n",
       ">                  Rule[SyntaxForm, SuperscriptBox]]}]}]}, \n",
       "\n",
       " \n",
       ">            {RowBox[{RowBox[{OverscriptBox[\"r\", \"^\"], \" \", \n",
       "\n",
       " \n",
       ">                 RowBox[{\"cos\", \"(\", \"ϕ\", \")\"}], \" \", \n",
       "\n",
       " \n",
       ">                 TemplateBox[List[SubscriptBox[OverscriptBox[\"f\", \"^\"], \n",
       "\n",
       " \n",
       ">                    RowBox[List[\"x\", \",\", \"y\"]]], \"\\\"(5)\\\"\"], \"Superscript\", \n",
       "\n",
       " \n",
       ">                  Rule[SyntaxForm, SuperscriptBox]]}], \"+\", \n",
       "\n",
       " \n",
       ">               RowBox[{OverscriptBox[\"r\", \"^\"], \" \", RowBox[{\"sin\", \"(\", \"ϕ\", \")\"}], \n",
       "\n",
       " \n",
       ">                 \" \", TemplateBox[List[SubscriptBox[OverscriptBox[\"f\", \"^\"], \n",
       "\n",
       " \n",
       ">                    RowBox[List[\"y\", \",\", \"y\"]]], \"\\\"(5)\\\"\"], \"Superscript\", \n",
       "\n",
       " \n",
       ">                  Rule[SyntaxForm, SuperscriptBox]]}]}]}}, Rule[RowSpacings, 1], \n",
       "\n",
       " \n",
       ">           Rule[ColumnAlignments, Center], Rule[ColumnAlignments, Left]], Column], \"⁠\",\\\n",
       " \n",
       ">    \n",
       "      \")\"}], Function[BoxForm`e$, MatrixForm[BoxForm`e$]]], TraditionalForm]\n"
      ]
     },
     "execution_count": 804,
     "metadata": {
      "text/html": [],
      "text/plain": []
     },
     "output_type": "execute_result"
    }
   ],
   "source": [
    "fh5rh = EinsteinSummation[{{k, i}, {i}}, {fh5, rh}];\n",
    "fh5rh // MatrixForm // TraditionalForm"
   ]
  },
  {
   "cell_type": "markdown",
   "metadata": {},
   "source": [
    "Система движения в безразмерной записи будет выглядеть как"
   ]
  },
  {
   "cell_type": "markdown",
   "metadata": {},
   "source": [
    "$$\n",
    "\\frac{d^2\\hat{r}_k}{d\\hat{t}^2} = -\\frac{t_0^2}{b^3}\\frac{GM}{\\hat{r}^3}\\hat{r}_k - \\frac{2}{5}\\frac{b^2}{t_0^3}\\frac{G}{c^5}\\mu\\hat{f}_{ki}^{(5)}\\hat{r}_i\n",
    "$$"
   ]
  },
  {
   "cell_type": "markdown",
   "metadata": {},
   "source": [
    "Пусть $t_0 = \\sqrt{\\frac{b^3}{GM}}$, а $b$ - прицельное расстояние, тогда система движения перепишется как\n",
    "\n",
    "$$\n",
    "\\frac{d^2\\hat{r}_k}{d\\hat{t}^2} + \\frac{\\hat{r}_k}{\\hat{r}^3} = - \\epsilon_G\\hat{f}_{ki}^{(5)}\\hat{r}_i\\quad,\n",
    "$$\n",
    "или\n",
    "$$\n",
    "\\hat{r}_k^{(2)} + \\frac{\\hat{r}_k}{\\hat{r}^3} = - \\epsilon_G\\hat{f}_{ki}^{(5)}\\hat{r}_i\\quad,\n",
    "$$\n",
    "\n",
    "где безразмерная постоянная $\\epsilon_G = \\frac{2}{5}\\frac{b^2}{t_0^3}\\frac{G}{c^5}\\mu = \\frac{2}{5}\\frac{\\mu}{M} \\left( \\frac{GM}{bc^2} \\right)^{\\frac{5}{2}}$.\n",
    "\n",
    "Заметим , что $f_{ij}^{(5)} = \\frac{5}{2}\\frac{\\epsilon_G}{t_0^2}\\hat{f}_{ij}^{(5)}$"
   ]
  },
  {
   "cell_type": "markdown",
   "metadata": {},
   "source": [
    "## Повернём систему с помощью матрицы вращения $R_{ij}(\\phi)$ на угол $\\phi$ по **часовой** стрелке\n",
    "Переход к полярным координатам от декартовых"
   ]
  },
  {
   "cell_type": "code",
   "execution_count": 805,
   "metadata": {
    "vscode": {
     "languageId": "wolfram"
    }
   },
   "outputs": [
    {
     "data": {
      "text/html": [
       "<div><img alt=\"Output\" src=\"data:image/png;base64,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\"></div>"
      ],
      "text/plain": [
       "FormBox[TagBox[RowBox[{\"(\", \"⁠\", \n",
       "\n",
       " \n",
       ">         GridBox[{{RowBox[{\"cos\", \"(\", \"ϕ\", \")\"}], RowBox[{\"sin\", \"(\", \"ϕ\", \")\"}]}, \n",
       "\n",
       " \n",
       ">           {RowBox[{\"-\", RowBox[{\"sin\", \"(\", \"ϕ\", \")\"}]}], \n",
       "\n",
       " \n",
       ">            RowBox[{\"cos\", \"(\", \"ϕ\", \")\"}]}}, Rule[RowSpacings, 1], \n",
       "\n",
       " \n",
       ">          Rule[ColumnSpacings, 1], Rule[RowAlignments, Baseline], \n",
       "\n",
       " \n",
       ">          Rule[ColumnAlignments, Center]], \"⁠\", \")\"}], \n",
       "\n",
       " \n",
       ">       Function[BoxForm`e$, MatrixForm[BoxForm`e$]]], TraditionalForm]\n"
      ]
     },
     "execution_count": 805,
     "metadata": {
      "text/html": [],
      "text/plain": []
     },
     "output_type": "execute_result"
    }
   ],
   "source": [
    "RotationMatrix[-\\[Phi]] // MatrixForm // TraditionalForm"
   ]
  },
  {
   "cell_type": "markdown",
   "metadata": {},
   "source": [
    "#### LHS системы после поворота"
   ]
  },
  {
   "cell_type": "code",
   "execution_count": 807,
   "metadata": {
    "vscode": {
     "languageId": "wolfram"
    }
   },
   "outputs": [
    {
     "data": {
      "text/html": [
       "<div><img alt=\"Output\" src=\"data:image/png;base64,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\"></div>"
      ],
      "text/plain": [
       "FormBox[TagBox[RowBox[{\"(\", \"⁠\", \n",
       "      TagBox[GridBox[{{RowBox[{RowBox[{\"-\", \n",
       "\n",
       " \n",
       ">                 RowBox[{\"2\", \" \", SuperscriptBox[OverscriptBox[\"r\", \"^\"], \"′\"], \n",
       "\n",
       " \n",
       ">                   \" \", SuperscriptBox[\"ϕ\", \"′\"], \" \", \n",
       "\n",
       " \n",
       ">                   RowBox[{\"sin\", \"(\", \"ϕ\", \")\"}]}]}], \"+\", \n",
       "\n",
       " \n",
       ">               RowBox[{OverscriptBox[\"r\", \"^\"], \" \", \n",
       "\n",
       " \n",
       ">                 RowBox[{\"(\", RowBox[{RowBox[{SuperscriptBox[RowBox[\n",
       "\n",
       " \n",
       ">                         {\"(\", SuperscriptBox[\"ϕ\", \"′\"], \")\"}], \"2\"], \" \", \n",
       "\n",
       " \n",
       ">                       RowBox[{\"(\", \n",
       "\n",
       " \n",
       ">                         RowBox[{\"-\", RowBox[{\"cos\", \"(\", \"ϕ\", \")\"}]}], \")\"}]}], \n",
       "\n",
       " \n",
       ">                     \"-\", RowBox[{SuperscriptBox[\"ϕ\", \"′′\"], \" \", \n",
       "\n",
       " \n",
       ">                       RowBox[{\"sin\", \"(\", \"ϕ\", \")\"}]}]}], \")\"}]}], \"+\", \n",
       "\n",
       " \n",
       ">               RowBox[{SuperscriptBox[OverscriptBox[\"r\", \"^\"], \"′′\"], \" \", \n",
       "\n",
       " \n",
       ">                 RowBox[{\"cos\", \"(\", \"ϕ\", \")\"}]}], \"+\", \n",
       "\n",
       " \n",
       ">               FractionBox[RowBox[{\"cos\", \"(\", \"ϕ\", \")\"}], \n",
       "\n",
       " \n",
       ">                SuperscriptBox[OverscriptBox[\"r\", \"^\"], \"2\"]]}]}, \n",
       "\n",
       " \n",
       ">            {RowBox[{RowBox[{\"2\", \" \", SuperscriptBox[OverscriptBox[\"r\", \"^\"], \"′\"], \n",
       "\n",
       " \n",
       ">                 \" \", SuperscriptBox[\"ϕ\", \"′\"], \" \", RowBox[{\"cos\", \"(\", \"ϕ\",\\\n",
       " \n",
       ">    \")\"}]}]\\\n",
       ", \"+\", RowBox[{OverscriptBox[\"r\", \"^\"], \" \", \n",
       "\n",
       " \n",
       ">                 RowBox[{\"(\", RowBox[{RowBox[{SuperscriptBox[\"ϕ\", \"′′\"], \" \", \n",
       "\n",
       " \n",
       ">                       RowBox[{\"cos\", \"(\", \"ϕ\", \")\"}]}], \"-\", \n",
       "\n",
       " \n",
       ">                     RowBox[{SuperscriptBox[RowBox[{\"(\", \n",
       "\n",
       " \n",
       ">                          SuperscriptBox[\"ϕ\", \"′\"], \")\"}], \"2\"], \" \", \n",
       "\n",
       " \n",
       ">                       RowBox[{\"sin\", \"(\", \"ϕ\", \")\"}]}]}], \")\"}]}], \"+\", \n",
       "\n",
       " \n",
       ">               RowBox[{SuperscriptBox[OverscriptBox[\"r\", \"^\"], \"′′\"], \" \", \n",
       "\n",
       " \n",
       ">                 RowBox[{\"sin\", \"(\", \"ϕ\", \")\"}]}], \"+\", \n",
       "\n",
       " \n",
       ">               FractionBox[RowBox[{\"sin\", \"(\", \"ϕ\", \")\"}], \n",
       "\n",
       " \n",
       ">                SuperscriptBox[OverscriptBox[\"r\", \"^\"], \"2\"]]}]}}, \n",
       "\n",
       " \n",
       ">           Rule[RowSpacings, 1], Rule[ColumnAlignments, Center], \n",
       "\n",
       " \n",
       ">           Rule[ColumnAlignments, Left]], Column], \"⁠\", \")\"}], \n",
       "\n",
       " \n",
       ">       Function[BoxForm`e$, MatrixForm[BoxForm`e$]]], TraditionalForm]\n"
      ]
     },
     "execution_count": 807,
     "metadata": {
      "text/html": [],
      "text/plain": []
     },
     "output_type": "execute_result"
    }
   ],
   "source": [
    "LHSMotion = D[rh, {OverHat[t], 2}] + Simplify[rh / Norm[rh]^3];\n",
    "LHSMotion // MatrixForm // TraditionalForm"
   ]
  },
  {
   "cell_type": "code",
   "execution_count": 808,
   "metadata": {
    "vscode": {
     "languageId": "wolfram"
    }
   },
   "outputs": [
    {
     "data": {
      "text/html": [
       "<div><img alt=\"Output\" src=\"data:image/png;base64,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\"></div>"
      ],
      "text/plain": [
       "FormBox[TagBox[RowBox[{\"(\", \"⁠\", \n",
       "      TagBox[GridBox[{{RowBox[{RowBox[{\"-\", \n",
       "\n",
       " \n",
       ">                 RowBox[{RowBox[{OverscriptBox[\"r\", \"^\"]}], \" \", \n",
       "\n",
       " \n",
       ">                   SuperscriptBox[RowBox[{\"(\", SuperscriptBox[\"ϕ\", \"′\"], \")\"}], \n",
       "\n",
       " \n",
       ">                    \"2\"]}]}], \"+\", SuperscriptBox[OverscriptBox[\"r\", \"^\"], \"′′\"], \n",
       "\n",
       " \n",
       ">               \"+\", FractionBox[\"1\", SuperscriptBox[OverscriptBox[\"r\", \"^\"],\\\n",
       " \n",
       ">    \"2\"]]}]}\\\n",
       ", {RowBox[{RowBox[{OverscriptBox[\"r\", \"^\"], \" \", SuperscriptBox[\"ϕ\",\\\n",
       " \n",
       ">    \"′′\"]}], \"+\", \n",
       "            RowBox[{\"2\", \" \", SuperscriptBox[OverscriptBox[\"r\",\\\n",
       " \n",
       ">    \"^\"], \"′\"], \" \", \n",
       "              SuperscriptBox[\"ϕ\", \"′\"]}]}]}}, Rule[RowSpacings,\\\n",
       " \n",
       ">    1], \n",
       "        Rule[ColumnAlignments, Center], Rule[ColumnAlignments, Left]],\\\n",
       " \n",
       ">    Column], \"⁠\", \n",
       "      \")\"}], Function[BoxForm`e$, MatrixForm[BoxForm`e$]]],\\\n",
       " \n",
       ">    TraditionalForm]\n"
      ]
     },
     "execution_count": 808,
     "metadata": {
      "text/html": [],
      "text/plain": []
     },
     "output_type": "execute_result"
    }
   ],
   "source": [
    "RotatedLHSMotion = Simplify[RotationMatrix[-\\[Phi][OverHat[t]]] . LHSMotion, Trig -> True] // MatrixForm // TraditionalForm"
   ]
  },
  {
   "cell_type": "markdown",
   "metadata": {},
   "source": [
    "Так как $\\hat{\\omega} \\equiv \\phi^{(1)}$, то"
   ]
  },
  {
   "cell_type": "code",
   "execution_count": 810,
   "metadata": {
    "vscode": {
     "languageId": "wolfram"
    }
   },
   "outputs": [
    {
     "data": {
      "text/html": [
       "<div><img alt=\"Output\" src=\"data:image/png;base64,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\"></div>"
      ],
      "text/plain": [
       "FormBox[TagBox[RowBox[{\"(\", \"⁠\", \n",
       "\n",
       " \n",
       ">         TagBox[GridBox[{{RowBox[{RowBox[{RowBox[{\"-\", OverscriptBox[\"r\", \"^\"]}], \n",
       "\n",
       " \n",
       ">                 \" \", SuperscriptBox[OverscriptBox[\"ω\", \"^\"], \"2\"]}], \"+\", \n",
       "\n",
       " \n",
       ">               SuperscriptBox[OverscriptBox[\"r\", \"^\"], \"′′\"], \"+\", \n",
       "\n",
       " \n",
       ">               FractionBox[\"1\", SuperscriptBox[OverscriptBox[\"r\", \"^\"], \"2\"]]}]}, \n",
       "\n",
       " \n",
       ">            {RowBox[{RowBox[{\"2\", \" \", OverscriptBox[\"ω\", \"^\"], \" \", \n",
       "\n",
       " \n",
       ">                 SuperscriptBox[OverscriptBox[\"r\", \"^\"], \"′\"]}], \"+\", \n",
       "\n",
       " \n",
       ">               RowBox[{OverscriptBox[\"r\", \"^\"], \" \", \n",
       "\n",
       " \n",
       ">                 SuperscriptBox[OverscriptBox[\"ω\", \"^\"], \"′\"]}]}]}}, \n",
       "\n",
       " \n",
       ">           Rule[RowSpacings, 1], Rule[ColumnAlignments, Center], \n",
       "\n",
       " \n",
       ">           Rule[ColumnAlignments, Left]], Column], \"⁠\", \")\"}], \n",
       "\n",
       " \n",
       ">       Function[BoxForm`e$, MatrixForm[BoxForm`e$]]], TraditionalForm]\n"
      ]
     },
     "execution_count": 810,
     "metadata": {
      "text/html": [],
      "text/plain": []
     },
     "output_type": "execute_result"
    }
   ],
   "source": [
    "OmegaReplace = Derivative[n_][\\[Phi]][OverHat[t]] :> Derivative[n-1][OverHat[\\[Omega]]][OverHat[t]];\n",
    "\n",
    "OmegaLHSMotion = RotatedLHSMotion /. OmegaReplace // TraditionalForm"
   ]
  },
  {
   "cell_type": "markdown",
   "metadata": {},
   "source": [
    "### RHS системы после поворота"
   ]
  },
  {
   "cell_type": "code",
   "execution_count": 812,
   "metadata": {
    "vscode": {
     "languageId": "wolfram"
    }
   },
   "outputs": [
    {
     "data": {
      "text/html": [
       "<div><img alt=\"Output\" src=\"data:image/png;base64,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\"></div>"
      ],
      "text/plain": [
       "FormBox[TagBox[RowBox[{\"(\", \"⁠\", \n",
       "\n",
       " \n",
       ">         TagBox[GridBox[{{RowBox[{OverscriptBox[\"r\", \"^\"], \" \", \n",
       "\n",
       " \n",
       ">               RowBox[{\"(\", RowBox[{\"-\", SubscriptBox[\"ϵ\", \"G\"]}], \")\"}], \" \", \n",
       "\n",
       " \n",
       ">               RowBox[{\"(\", RowBox[{RowBox[{RowBox[{\"sin\", \"(\", \n",
       "\n",
       " \n",
       ">                       RowBox[{\"2\", \" \", \"ϕ\"}], \")\"}], \" \", \n",
       "\n",
       " \n",
       ">                     TemplateBox[List[SubscriptBox[OverscriptBox[\"f\", \"^\"], \n",
       "\n",
       " \n",
       ">                        RowBox[List[\"x\", \",\", \"y\"]]], \"\\\"(5)\\\"\"], \"Superscript\", \n",
       "\n",
       " \n",
       ">                      Rule[SyntaxForm, SuperscriptBox]]}], \"+\", \n",
       "\n",
       " \n",
       ">                   RowBox[{RowBox[{SuperscriptBox[\"cos\", \"2\"], \"(\", \"ϕ\", \")\"}], \n",
       "\n",
       " \n",
       ">                     \" \", TemplateBox[List[SubscriptBox[OverscriptBox[\"f\", \"^\"], \n",
       "\n",
       " \n",
       ">                        RowBox[List[\"x\", \",\", \"x\"]]], \"\\\"(5)\\\"\"], \"Superscript\", \n",
       "\n",
       " \n",
       ">                      Rule[SyntaxForm, SuperscriptBox]]}], \"+\", \n",
       "\n",
       " \n",
       ">                   RowBox[{RowBox[{SuperscriptBox[\"sin\", \"2\"], \"(\", \"ϕ\", \")\"}], \n",
       "\n",
       " \n",
       ">                     \" \", TemplateBox[List[SubscriptBox[OverscriptBox[\"f\", \"^\"], \n",
       "\n",
       " \n",
       ">                        RowBox[List[\"y\", \",\", \"y\"]]], \"\\\"(5)\\\"\"], \"Superscript\", \n",
       "\n",
       " \n",
       ">                      Rule[SyntaxForm, SuperscriptBox]]}]}], \")\"}]}]}, \n",
       "\n",
       " \n",
       ">            {RowBox[{RowBox[{\"-\", FractionBox[\"1\", \"2\"]}], \" \", \n",
       "\n",
       " \n",
       ">               OverscriptBox[\"r\", \"^\"], \" \", SubscriptBox[\"ϵ\", \"G\"], \" \", \n",
       "\n",
       " \n",
       ">               RowBox[{\"(\", RowBox[{RowBox[{RowBox[{\"sin\", \"(\", \n",
       "\n",
       " \n",
       ">                       RowBox[{\"2\", \" \", \"ϕ\"}], \")\"}], \" \", \n",
       "\n",
       " \n",
       ">                     RowBox[{\"(\", RowBox[{TemplateBox[List[SubscriptBox[\n",
       "\n",
       " \n",
       ">                            OverscriptBox[\"f\", \"^\"], \n",
       "\n",
       " \n",
       ">                            RowBox[List[\"y\", \",\", \"y\"]]], \"\\\"(5)\\\"\"], \n",
       "\n",
       " \n",
       ">                          \"Superscript\", Rule[SyntaxForm, SuperscriptBox]], \"-\", \n",
       "\n",
       " \n",
       ">                         TemplateBox[List[SubscriptBox[OverscriptBox[\"f\", \"^\"], \n",
       "\n",
       " \n",
       ">                            RowBox[List[\"x\", \",\", \"x\"]]], \"\\\"(5)\\\"\"], \n",
       "\n",
       " \n",
       ">                          \"Superscript\", Rule[SyntaxForm, SuperscriptBox]]}], \")\"}]}\\\n",
       "\n",
       " \n",
       ">   ], \"+\", RowBox[{\"2\", \" \", RowBox[{\"cos\", \"(\", RowBox[{\"2\", \" \", \"ϕ\"}], \")\"}], \n",
       "\n",
       " \n",
       ">                     \" \", TemplateBox[List[SubscriptBox[OverscriptBox[\"f\", \"^\"], \n",
       "\n",
       " \n",
       ">                        RowBox[List[\"x\", \",\", \"y\"]]], \"\\\"(5)\\\"\"], \"Superscript\", \n",
       "\n",
       " \n",
       ">                      Rule[SyntaxForm, SuperscriptBox]]}]}], \")\"}]}]}}, \n",
       "\n",
       " \n",
       ">           Rule[RowSpacings, 1], Rule[ColumnAlignments, Center], \n",
       "\n",
       " \n",
       ">           Rule[ColumnAlignments, Left]], Column], \"⁠\", \")\"}], \n",
       "\n",
       " \n",
       ">       Function[BoxForm`e$, MatrixForm[BoxForm`e$]]], TraditionalForm]\n"
      ]
     },
     "execution_count": 812,
     "metadata": {
      "text/html": [],
      "text/plain": []
     },
     "output_type": "execute_result"
    }
   ],
   "source": [
    "RHSMotion = -Subscript[\\[Epsilon], G] FullSimplify[RotationMatrix[-\\[Phi][OverHat[t]]] . fh5rh, Trig -> True];\n",
    "RHSMotion // MatrixForm // TraditionalForm"
   ]
  },
  {
   "cell_type": "markdown",
   "metadata": {},
   "source": [
    "<span style=\"color:red\">**NB:**</span> Полученные выражения <span style=\"color:green\">**совпадают**</span> с уравнениями (10) и (9) из файла Binary.pdf"
   ]
  },
  {
   "cell_type": "markdown",
   "metadata": {
    "vscode": {
     "languageId": "wolfram"
    }
   },
   "source": [
    "## Получим теперь **энергетическую** систему уравнений\n",
    "\n",
    "В задача двух тел без учёта гравитационного излучения в системе центра масс в полярных координатах радиус-вектор $\\hat{r}_k$ задаётся как:\n",
    "$$\n",
    "\\hat{r}_k = \\hat{r} e_{1k} \\quad,\n",
    "$$\n",
    "где:\n",
    "- $\\hat{r}$ — расстояние между телами,\n",
    "- $e_{1k}$ — единичный вектор в направлении $\\hat{r}_k$.\n",
    "\n",
    "Скорость в полярных координатах выражается как:\n",
    "$$\n",
    "\\hat{r}_k^{(1)} = \\hat{r}^{(1)} e_{1k} + \\hat{r} \\phi^{(1)} e_{2k} \\quad,\n",
    "$$\n",
    "где:\n",
    "- $\\hat{r}^{(1)}$ — радиальная скорость\n",
    "- $\\hat{\\omega} \\equiv \\phi^{(1)}$ — угловая скорость\n",
    "- $e_{2k}$ — единичный вектор, перпендикулярный $e_{1k}$.\n",
    "\n",
    "### **Кинетическая энергия**\n",
    "Кинетическая энергия $T$ в полярных координатах выражается через радиальную и тангенциальную составляющие скорости:\n",
    "$$\n",
    "T = \\mu\\frac{b^2}{2 t_0^2} (\\hat{r}_k^{(1)})^2 = \\mu\\frac{b^2}{2 t_0^2} \\left( (\\hat{r}^{(1)})^2 + \\hat{r}^2 \\hat{\\omega}^2 \\right) = \\frac{G \\mu M}{b} \\frac{1}{2}\\left( (\\hat{r}^{(1)})^2 + \\hat{r}^2 \\hat{\\omega}^2 \\right)\n",
    "$$\n",
    "\n",
    "### **Потенциальная энергия**\n",
    "Потенциальная энергия $U$ зависит только от расстояния $\\hat{r}$:\n",
    "- Для гравитационного взаимодействия:\n",
    "  $$\n",
    "  U = -\\frac{G m_A m_B}{b \\hat{r}} = -\\frac{G \\mu M}{b \\hat{r}}.\n",
    "  $$\n",
    "\n",
    "### **Полная энергия**\n",
    "Полная энергия $E$ в полярных координатах:\n",
    "$$\n",
    "E = T + U = \\frac{G \\mu M}{b}\\left(\\frac{(\\hat{r}^{(1)})^2}{2} + \\frac{\\hat{r}^2 \\hat{\\omega}^2}{2} - \\frac{1}{\\hat{r}}\\right) = \\frac{G \\mu M}{b} \\hat{E}\n",
    "$$\n",
    "\n",
    "Здесь $\\hat{E}$ - безразмерная энергия:"
   ]
  },
  {
   "cell_type": "code",
   "execution_count": 814,
   "metadata": {
    "vscode": {
     "languageId": "wolfram"
    }
   },
   "outputs": [
    {
     "data": {
      "text/html": [
       "<div><img alt=\"Output\" src=\"data:image/png;base64,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\"></div>"
      ],
      "text/plain": [
       "FormBox[RowBox[{RowBox[{FractionBox[\"1\", \"2\"], \" \", \n",
       "\n",
       " \n",
       ">          SuperscriptBox[OverscriptBox[\"r\", \"^\"], \"2\"], \" \", \n",
       "\n",
       " \n",
       ">          SuperscriptBox[OverscriptBox[\"ω\", \"^\"], \"2\"]}], \"+\", \n",
       "\n",
       " \n",
       ">        RowBox[{FractionBox[\"1\", \"2\"], \" \", \n",
       "\n",
       " \n",
       ">          SuperscriptBox[RowBox[{\"(\", SuperscriptBox[OverscriptBox[\"r\", \"^\"], \"′\"], \n",
       "\n",
       " \n",
       ">             \")\"}], \"2\"]}], \"-\", FractionBox[\"1\", OverscriptBox[\"r\", \"^\"]]}], \n",
       "\n",
       " \n",
       ">      TraditionalForm]\n"
      ]
     },
     "execution_count": 814,
     "metadata": {
      "text/html": [],
      "text/plain": []
     },
     "output_type": "execute_result"
    }
   ],
   "source": [
    "Energy = (D[OverHat[r][OverHat[t]], OverHat[t]])^2/2 + (OverHat[r][OverHat[t]] OverHat[\\[Omega]][OverHat[t]])^2/2 - 1/OverHat[r][OverHat[t]];\n",
    "Energy // TraditionalForm"
   ]
  },
  {
   "cell_type": "markdown",
   "metadata": {},
   "source": [
    "### **Момента импульса**\n",
    "Момент импульса $J$ в системе центра масс:\n",
    "$$\n",
    "J = \\mu\\frac{b^2}{t_0} \\hat{r}^2 \\hat{\\omega} = \\mu(G M)^{1/2} b^{3/2} \\hat{r}^2 \\hat{\\omega} = \\mu(G M)^{1/2} b^{3/2} \\hat{J}\n",
    "$$\n",
    "\n",
    "Здесь $\\hat{J}$ - безразмерный момент импульса:"
   ]
  },
  {
   "cell_type": "code",
   "execution_count": 816,
   "metadata": {
    "vscode": {
     "languageId": "wolfram"
    }
   },
   "outputs": [
    {
     "data": {
      "text/html": [
       "<div><img alt=\"Output\" src=\"data:image/png;base64,iVBORw0KGgoAAAANSUhEUgAAACsAAAAeCAIAAAA6iHCJAAAAznpUWHRSYXcgcHJvZmlsZSB0eXBlIGV4aWYAAHjabU9bDgIhDPznFB6hL1o4DquYeAOP77CgBuMktNPpgzb15+OeLgPClCxH8epOgFWr0kAKTUzPVE97Qo6V411P3JfeIOVvwt/6sevha2D5GUQyiY4fwNVWwxqkMnVuMz5WvbRS9kFKGyp9Vv8bm4Z4dg6DNaEIr+AlgcJ5Fsrhd7+6o5D9JmRX+O4RaPMYFdpG44D02Kt7coVwGyfoeFkbvMKy4iJwBscasKomx8qeh6QXkwha4NqwtgwAAAAJcEhZcwAAFiUAABYlAUlSJPAAAAA8dEVYdFNvZnR3YXJlAENyZWF0ZWQgd2l0aCB0aGUgV29sZnJhbSBMYW5ndWFnZSA6IHd3dy53b2xmcmFtLmNvbVyipoUAAAAhdEVYdENyZWF0aW9uIFRpbWUAMjAyNTowMzoxMCAwMTo0NzozNIFiRooAAAPhSURBVEhL7VZbKLNhHN/mkJxiDlFICyW1JKeMGy4kJeHCBcppOd3IIS1cuCTlbjmVWnMoV0QYokZJiNYu5FC4cs6cGd/v7VnP9m1tz95v35eb762t9/0//+f3//2PzyP8/v4WsJ6jo6OxsbGLi4u4uLiamprQ0FDWDj7rYOD4mZmZ8fDwcHNzI6hBQUGHh4esTTzWBY51DQZDWFjY5OTkx8fH+vp6SkoKSBQVFfGwwFJlMFCr1d3d3RRkdnYWDKKioliwPNYZDPR6PcJA8d7f35GRxMREHhZYqiJaM9B8eXlBtC2rKD4+3tfXl0qurq6gkJOTw6fSOCdtkc0IlGJbWxukwcHBqHl7vHt6egIDA8GD5dhv646RTVmYm5sTCoWEV1ZW1ufnp62N09NTmF9ZWeFlnonMMTg/P0ePRUdHHxwcNDc3g4RCobAyg2qQSqWjo6O8zDuDLIC7mZmZGRkZl5eXBF2pVHp6ei4uLlJj0CkoKOjt7eVl3hlkAApQWQjs6+urJbpOp6Nj5+vrq6qqqrOzkyo8PT21tLQw2TCRCYIQPyR4a2trZ2dnd3dXJpOh3JaWlgYGBsRi8dDQUFdXF94rKipIoYArNGtra1tbWx13BFoX7L28vKzUYBE+mFsM3/39/YWFhUQPoZ6YmHB3dyefTU1NtmaQI5oye5HQaDQYpiMjI7YKZ2dnGCrb29tkydQLd3d3xNL09HRISEhfX5+Pjw9eHHSmgywsLCzAh8rKSns6qampCQkJRqPRzGBtbQ3mAwICsrOzh4eHsfD4+Pj29sZMtq0CGsrPzw/n5+3trb3t5eXlMAdNKJhm4urqKkT39/cPDw/V1dV4RwwQbV6zD8pAlMvlaN2Ojg4MD7IdLuEoQXNRNLiK942NDU5CaKalpZFlHIB/4DfdMj4+DhBvb2+klQpLSkqQ+OvraypBb0Otrq7OlAWESyTigpGfn++KeexFEoFTXFxsiRMTE5OXl2cpkUgkUCOnLmd4eXkZbUNI8Q27lf7+/j4ksbGxVI6uOT4+Tk9PpxK0ycnJCT7JbYNjgO7Hf3h4OJi6wgBldHNzAwTLa9zg4CAcTU5OpshoeLzjwmc6Y7EcGRkJEU4EF1OA7egCQGF8ESiUJByDZG9vj0gw3zi/RaLNzU0iEeAOQthptVrXGTQ0NJBKbG9vx/0Kca6vr8eRlpubq1KpysrKsAqWU1NT1JYAUSJxI/PBxQfjtrGx0d/fH5i4amByPz8/z8/PJyUlYahHRESUlpZaXXS5c8GV3Nvbi4FmebmCGqggNrb6/4qB816Z74nO7/m7mv8ZkIn0s8/PM/gFBvWQ64byJCoAAAAASUVORK5CYII=\"></div>"
      ],
      "text/plain": [
       "FormBox[RowBox[{SuperscriptBox[OverscriptBox[\"r\", \"^\"], \"2\"], \" \", \n",
       "\n",
       " \n",
       ">        OverscriptBox[\"ω\", \"^\"]}], TraditionalForm]\n"
      ]
     },
     "execution_count": 816,
     "metadata": {
      "text/html": [],
      "text/plain": []
     },
     "output_type": "execute_result"
    }
   ],
   "source": [
    "AngularMomentum = (OverHat[r][OverHat[t]])^2 OverHat[\\[Omega]][OverHat[t]];\n",
    "AngularMomentum // TraditionalForm"
   ]
  },
  {
   "cell_type": "markdown",
   "metadata": {},
   "source": [
    "Отсюда $\\frac{1}{\\hat{r}^{(1)}}\\left(\\frac{d\\hat{E}}{d\\hat{t}} - \\hat\\omega \\frac{d\\hat{J}}{d\\hat{t}}\\right)$"
   ]
  },
  {
   "cell_type": "code",
   "execution_count": 817,
   "metadata": {
    "vscode": {
     "languageId": "wolfram"
    }
   },
   "outputs": [
    {
     "data": {
      "text/html": [
       "<div><img alt=\"Output\" src=\"data:image/png;base64,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\"></div>"
      ],
      "text/plain": [
       "FormBox[RowBox[{RowBox[{\"-\", RowBox[{RowBox[{OverscriptBox[\"r\", \"^\"]}], \" \", \n",
       "\n",
       " \n",
       ">            SuperscriptBox[OverscriptBox[\"ω\", \"^\"], \"2\"]}]}], \"+\", \n",
       "\n",
       " \n",
       ">        SuperscriptBox[OverscriptBox[\"r\", \"^\"], \"′′\"], \"+\", \n",
       "\n",
       " \n",
       ">        FractionBox[\"1\", SuperscriptBox[OverscriptBox[\"r\", \"^\"], \"2\"]]}],\\\n",
       " \n",
       ">    TraditionalForm]\n"
      ]
     },
     "execution_count": 817,
     "metadata": {
      "text/html": [],
      "text/plain": []
     },
     "output_type": "execute_result"
    }
   ],
   "source": [
    "Simplify[(D[Energy, OverHat[t]] - (AngularMomentum/OverHat[r][OverHat[t]]^2)(D[AngularMomentum, OverHat[t]]))/(D[OverHat[r][OverHat[t]], OverHat[t]])] // TraditionalForm"
   ]
  },
  {
   "cell_type": "markdown",
   "metadata": {},
   "source": [
    "Что совпадает с **первой** строкой повернутой LHS системы движения"
   ]
  },
  {
   "cell_type": "markdown",
   "metadata": {},
   "source": [
    "Отсюда $\\frac{1}{\\hat{r}}\\frac{d\\hat{J}}{d\\hat{t}}$"
   ]
  },
  {
   "cell_type": "code",
   "execution_count": 818,
   "metadata": {
    "vscode": {
     "languageId": "wolfram"
    }
   },
   "outputs": [
    {
     "data": {
      "text/html": [
       "<div><img alt=\"Output\" src=\"data:image/png;base64,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\"></div>"
      ],
      "text/plain": [
       "FormBox[RowBox[{RowBox[{\"2\", \" \", OverscriptBox[\"ω\", \"^\"], \" \", \n",
       "\n",
       " \n",
       ">          SuperscriptBox[OverscriptBox[\"r\", \"^\"], \"′\"]}], \"+\", \n",
       "\n",
       " \n",
       ">        RowBox[{OverscriptBox[\"r\", \"^\"], \" \", \n",
       "\n",
       " \n",
       ">          SuperscriptBox[OverscriptBox[\"ω\", \"^\"], \"′\"]}]}], TraditionalForm]\n"
      ]
     },
     "execution_count": 818,
     "metadata": {
      "text/html": [],
      "text/plain": []
     },
     "output_type": "execute_result"
    }
   ],
   "source": [
    "Simplify[D[AngularMomentum, OverHat[t]]/OverHat[r][OverHat[t]]] // TraditionalForm"
   ]
  },
  {
   "cell_type": "markdown",
   "metadata": {},
   "source": [
    "Что совпадает со **второй** строкой повернутой LHS системы движения"
   ]
  },
  {
   "cell_type": "markdown",
   "metadata": {},
   "source": [
    "Таким образом, мы можем выписать новую **энергетическую** систему уравнений\n",
    "\n",
    "$$\n",
    "\\begin{align}\n",
    "\\frac{d\\hat{E}}{d\\hat{t}} &= - \\epsilon_G \\left(\\hat{r}^{(1)} R_{xi}(-\\phi) \\hat{f}_{ij}^{(5)}\\hat{r}_j + \\hat{r}\\hat\\omega R_{yi}(-\\phi) \\hat{f}_{ij}^{(5)}\\hat{r}_j \\right)\n",
    "\\\\\n",
    "\\frac{d\\hat{J}}{d\\hat{t}} &= - \\epsilon_G \\hat{r} R_{yi}(-\\phi) \\hat{f}_{ij}^{(5)}\\hat{r}_j\n",
    "\\end{align}\n",
    "$$"
   ]
  },
  {
   "cell_type": "markdown",
   "metadata": {},
   "source": [
    "Или\n",
    "\n",
    "$$\n",
    "\\left(\\frac{d\\hat{E}}{d\\hat{t}}, \\frac{d\\hat{J}}{d\\hat{t}}\\right) = - \\epsilon_G T_{nk} R_{ki}(-\\phi) \\hat{f}_{ij}^{(5)}\\hat{r}_j\\quad,\n",
    "$$\n",
    "\n",
    "Чтобы перейти в размерный вид, достаточно положить $\\epsilon_G \\equiv \\frac{2}{5}\\mu$."
   ]
  },
  {
   "cell_type": "markdown",
   "metadata": {},
   "source": [
    "Здесь\n",
    "$$\n",
    "T = \n",
    "\\begin{bmatrix}\n",
    "\\hat{r}^{(1)} & \\hat{r}\\hat\\omega \\\\\n",
    "0 & \\hat{r}\n",
    "\\end{bmatrix}\n",
    "$$\n",
    "матрица трансформации:"
   ]
  },
  {
   "cell_type": "code",
   "execution_count": 820,
   "metadata": {
    "vscode": {
     "languageId": "wolfram"
    }
   },
   "outputs": [
    {
     "data": {
      "text/html": [
       "<div><img alt=\"Output\" src=\"data:image/png;base64,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\"></div>"
      ],
      "text/plain": [
       "FormBox[TagBox[RowBox[{\"(\", \"⁠\", \n",
       "\n",
       " \n",
       ">         GridBox[{{SuperscriptBox[OverscriptBox[\"r\", \"^\"], \"′\"], \n",
       "\n",
       " \n",
       ">            RowBox[{OverscriptBox[\"r\", \"^\"], \" \", OverscriptBox[\"ω\", \"^\"]}]}, \n",
       "\n",
       " \n",
       ">           {\"0\", OverscriptBox[\"r\", \"^\"]}}, Rule[RowSpacings, 1], \n",
       "\n",
       " \n",
       ">          Rule[ColumnSpacings, 1], Rule[RowAlignments, Baseline], \n",
       "\n",
       " \n",
       ">          Rule[ColumnAlignments, Center]], \"⁠\", \")\"}], \n",
       "\n",
       " \n",
       ">       Function[BoxForm`e$, MatrixForm[BoxForm`e$]]], TraditionalForm]\n"
      ]
     },
     "execution_count": 820,
     "metadata": {
      "text/html": [],
      "text/plain": []
     },
     "output_type": "execute_result"
    }
   ],
   "source": [
    "Transform = {{D[OverHat[r][OverHat[t]], OverHat[t]], OverHat[r][OverHat[t]] OverHat[\\[Omega]][OverHat[t]]}, {0, OverHat[r][OverHat[t]]}};\n",
    "Transform // MatrixForm // TraditionalForm"
   ]
  },
  {
   "cell_type": "markdown",
   "metadata": {},
   "source": [
    "Итак правая часть энергетической системы запишется как"
   ]
  },
  {
   "cell_type": "code",
   "execution_count": 822,
   "metadata": {
    "vscode": {
     "languageId": "wolfram"
    }
   },
   "outputs": [
    {
     "data": {
      "text/html": [
       "<div><img alt=\"Output\" src=\"data:image/png;base64,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\"></div>"
      ],
      "text/plain": [
       "FormBox[TagBox[RowBox[{\"(\", \"⁠\", \n",
       "\n",
       " \n",
       ">         TagBox[GridBox[{{RowBox[{FractionBox[\"1\", \"2\"], \" \", \n",
       "\n",
       " \n",
       ">               OverscriptBox[\"r\", \"^\"], \" \", SubscriptBox[\"ϵ\", \"G\"], \" \", \n",
       "\n",
       " \n",
       ">               RowBox[{\"(\", RowBox[{RowBox[{OverscriptBox[\"r\", \"^\"], \" \", \n",
       "\n",
       " \n",
       ">                     OverscriptBox[\"ω\", \"^\"], \" \", \n",
       "\n",
       " \n",
       ">                     RowBox[{\"(\", RowBox[{RowBox[{RowBox[{\"sin\", \"(\", \n",
       "\n",
       " \n",
       ">                             RowBox[{\"2\", \" \", \"ϕ\"}], \")\"}], \" \", \n",
       "\n",
       " \n",
       ">                           RowBox[{\"(\", \n",
       "\n",
       " \n",
       ">                             RowBox[{TemplateBox[List[SubscriptBox[\n",
       "\n",
       " \n",
       ">                            OverscriptBox[\"f\", \"^\"], \n",
       "\n",
       " \n",
       ">                            RowBox[List[\"x\", \",\", \"x\"]]], \"\\\"(5)\\\"\"], \n",
       "\n",
       " \n",
       ">                             \"Superscript\", Rule[SyntaxForm, SuperscriptBox]], \n",
       "\n",
       " \n",
       ">                             \"-\", \n",
       "\n",
       " \n",
       ">                             TemplateBox[List[SubscriptBox[OverscriptB\\\n",
       "\n",
       " \n",
       ">   ox[\"f\", \"^\"], RowBox[List[\"y\", \",\", \"y\"]]], \"\\\"(5)\\\"\"], \"Superscript\", \n",
       "\n",
       " \n",
       ">                             Rule[SyntaxForm, SuperscriptBox]]}], \")\"}]}], \"-\", \n",
       "\n",
       " \n",
       ">                         RowBox[{\"2\", \" \", \n",
       "\n",
       " \n",
       ">                           RowBox[{\"cos\", \"(\", RowBox[{\"2\", \" \", \"ϕ\"}], \")\"}], \n",
       "\n",
       " \n",
       ">                           \" \", TemplateBox[List[SubscriptBox[OverscriptB\\\n",
       "\n",
       " \n",
       ">   ox[\"f\", \"^\"], RowBox[List[\"x\", \",\", \"y\"]]], \"\\\"(5)\\\"\"], \"Superscript\", \n",
       "\n",
       " \n",
       ">                            Rule[SyntaxForm, SuperscriptBox]]}]}], \")\"}]}], \"-\", \n",
       "\n",
       " \n",
       ">                   RowBox[{\"2\", \" \", SuperscriptBox[OverscriptBox[\"r\", \"^\"], \"′\"], \n",
       "\n",
       " \n",
       ">                     \" \", RowBox[{\"(\", \n",
       "\n",
       " \n",
       ">                       RowBox[{RowBox[{RowBox[{\"sin\", \"(\", \n",
       "\n",
       " \n",
       ">                             RowBox[{\"2\", \" \", \"ϕ\"}], \")\"}], \" \", \n",
       "\n",
       " \n",
       ">                           TemplateBox[List[SubscriptBox[OverscriptBox[\"f\", \n",
       "\n",
       " \n",
       ">                             \"^\"], RowBox[List[\"x\", \",\", \"y\"]]], \"\\\"(5)\\\"\"], \n",
       "\n",
       " \n",
       ">                            \"Superscript\", Rule[SyntaxForm, SuperscriptBox]]}], \n",
       "\n",
       " \n",
       ">                         \"+\", RowBox[{RowBox[{SuperscriptBox[\"cos\", \"2\"], \"(\", \n",
       "\n",
       " \n",
       ">                             \"ϕ\", \")\"}], \" \", \n",
       "\n",
       " \n",
       ">                           TemplateBox[List[SubscriptBox[OverscriptBox[\"f\", \n",
       "\n",
       " \n",
       ">                             \"^\"], RowBox[List[\"x\", \",\", \"x\"]]], \"\\\"(5)\\\"\"], \n",
       "\n",
       " \n",
       ">                            \"Superscript\", Rule[SyntaxForm, SuperscriptBox]]}], \n",
       "\n",
       " \n",
       ">                         \"+\", RowBox[{RowBox[{SuperscriptBox[\"sin\", \"2\"], \"(\", \n",
       "\n",
       " \n",
       ">                             \"ϕ\", \")\"}], \" \", \n",
       "\n",
       " \n",
       ">                           TemplateBox[List[SubscriptBox[OverscriptBox[\"f\", \n",
       "\n",
       " \n",
       ">                             \"^\"], RowBox[List[\"y\", \",\", \"y\"]]], \"\\\"(5)\\\"\"], \n",
       "\n",
       " \n",
       ">                            \"Superscript\", Rule[SyntaxForm, SuperscriptBox]]}]}], \n",
       "\n",
       " \n",
       ">                       \")\"}]}]}], \")\"}]}]}, \n",
       "\n",
       " \n",
       ">            {RowBox[{RowBox[{\"-\", FractionBox[\"1\", \"2\"]}], \" \", \n",
       "\n",
       " \n",
       ">               SuperscriptBox[OverscriptBox[\"r\", \"^\"], \"2\"], \" \", \n",
       "\n",
       " \n",
       ">               SubscriptBox[\"ϵ\", \"G\"], \" \", \n",
       "\n",
       " \n",
       ">               RowBox[{\"(\", RowBox[{RowBox[{RowBox[{\"sin\", \"(\", \n",
       "\n",
       " \n",
       ">                       RowBox[{\"2\", \" \", \"ϕ\"}], \")\"}], \" \", \n",
       "\n",
       " \n",
       ">                     RowBox[{\"(\", RowBox[{TemplateBox[List[SubscriptBox[\n",
       "\n",
       " \n",
       ">                            OverscriptBox[\"f\", \"^\"], \n",
       "\n",
       " \n",
       ">                            RowBox[List[\"y\", \",\", \"y\"]]], \"\\\"(5)\\\"\"], \n",
       "\n",
       " \n",
       ">                          \"Superscript\", Rule[SyntaxForm, SuperscriptBox]], \"-\", \n",
       "\n",
       " \n",
       ">                         TemplateBox[List[SubscriptBox[OverscriptBox[\"f\", \"^\"], \n",
       "\n",
       " \n",
       ">                            RowBox[List[\"x\", \",\", \"x\"]]], \"\\\"(5)\\\"\"], \n",
       "\n",
       " \n",
       ">                          \"Superscript\", Rule[SyntaxForm, SuperscriptBox]]}], \")\"}]}\\\n",
       "\n",
       " \n",
       ">   ], \"+\", RowBox[{\"2\", \" \", RowBox[{\"cos\", \"(\", RowBox[{\"2\", \" \", \"ϕ\"}], \")\"}], \n",
       "\n",
       " \n",
       ">                     \" \", TemplateBox[List[SubscriptBox[OverscriptBox[\"f\", \"^\"], \n",
       "\n",
       " \n",
       ">                        RowBox[List[\"x\", \",\", \"y\"]]], \"\\\"(5)\\\"\"], \"Superscript\", \n",
       "\n",
       " \n",
       ">                      Rule[SyntaxForm, SuperscriptBox]]}]}], \")\"}]}]}}, \n",
       "\n",
       " \n",
       ">           Rule[RowSpacings, 1], Rule[ColumnAlignments, Center], \n",
       "\n",
       " \n",
       ">           Rule[ColumnAlignments, Left]], Column], \"⁠\", \")\"}], \n",
       "\n",
       " \n",
       ">       Function[BoxForm`e$, MatrixForm[BoxForm`e$]]], TraditionalForm]\n"
      ]
     },
     "execution_count": 822,
     "metadata": {
      "text/html": [],
      "text/plain": []
     },
     "output_type": "execute_result"
    }
   ],
   "source": [
    "RHSEnegry = FullSimplify[Transform . RHSMotion, Trig -> True];\n",
    "RHSEnegry // MatrixForm // TraditionalForm"
   ]
  },
  {
   "cell_type": "markdown",
   "metadata": {},
   "source": [
    "## Другой Способ получения уравнений движения и энергетических уравнений через лагранжев формализм в полярных координатах"
   ]
  },
  {
   "cell_type": "markdown",
   "metadata": {},
   "source": [
    "### **Лагранжиан системы**\n",
    "Лагранжиан $L$ в полярных координатах $(r, \\phi)$ выражается как:\n",
    "$$\n",
    "L = T - (U + \\mu\\Phi),\n",
    "$$\n",
    "где:\n",
    "- $T$ — кинетическая энергия,\n",
    "- $U$ — потенциальная энергия\n",
    "- $\\Phi = \\frac{1}{5}f_{ij}^{(5)}r_i r_j = \\frac{\\epsilon_G}{2}\\frac{b^2}{t_0^2}\\hat{f}_{ij}^{(5)}\\hat{r}_i \\hat{r}_j = \\frac{5}{2}\\epsilon_G\\frac{GM}{b}\\hat{\\Phi}$ - малый потенциал \"реакции излучения\""
   ]
  },
  {
   "cell_type": "markdown",
   "metadata": {},
   "source": [
    "Безразмерный малый потенциал \"реакции излучения\" $\\hat{\\Phi} = \\frac{1}{5}\\hat{f}_{ij}^{(5)}\\hat{r}_i\\hat{r}_j$"
   ]
  },
  {
   "cell_type": "code",
   "execution_count": 824,
   "metadata": {
    "vscode": {
     "languageId": "wolfram"
    }
   },
   "outputs": [
    {
     "data": {
      "text/html": [
       "<div><img alt=\"Output\" src=\"data:image/png;base64,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\"></div>"
      ],
      "text/plain": [
       "FormBox[RowBox[{FractionBox[\"1\", \"5\"], \" \", \n",
       "\n",
       " \n",
       ">        RowBox[{\"(\", RowBox[{RowBox[{OverscriptBox[\"r\", \"^\"], \" \", \n",
       "\n",
       " \n",
       ">              RowBox[{\"cos\", \"(\", \"ϕ\", \")\"}], \" \", \n",
       "\n",
       " \n",
       ">              RowBox[{\"(\", RowBox[{RowBox[{OverscriptBox[\"r\", \"^\"], \" \", \n",
       "\n",
       " \n",
       ">                    RowBox[{\"sin\", \"(\", \"ϕ\", \")\"}], \" \", \n",
       "\n",
       " \n",
       ">                    TemplateBox[List[SubscriptBox[OverscriptBox[\"f\", \"^\"], \n",
       "\n",
       " \n",
       ">                       RowBox[List[\"x\", \",\", \"y\"]]], \"\\\"(5)\\\"\"], \"Superscript\", \n",
       "\n",
       " \n",
       ">                     Rule[SyntaxForm, SuperscriptBox]]}], \"+\", \n",
       "\n",
       " \n",
       ">                  RowBox[{OverscriptBox[\"r\", \"^\"], \" \", \n",
       "\n",
       " \n",
       ">                    RowBox[{\"cos\", \"(\", \"ϕ\", \")\"}], \" \", \n",
       "\n",
       " \n",
       ">                    TemplateBox[List[SubscriptBox[OverscriptBox[\"f\", \"^\"], \n",
       "\n",
       " \n",
       ">                       RowBox[List[\"x\", \",\", \"x\"]]], \"\\\"(5)\\\"\"], \"Superscript\", \n",
       "\n",
       " \n",
       ">                     Rule[SyntaxForm, SuperscriptBox]]}]}], \")\"}]}], \"+\", \n",
       "\n",
       " \n",
       ">            RowBox[{OverscriptBox[\"r\", \"^\"], \" \", RowBox[{\"sin\", \"(\", \"ϕ\", \")\"}], \" \", \n",
       "\n",
       " \n",
       ">              RowBox[{\"(\", RowBox[{RowBox[{OverscriptBox[\"r\", \"^\"], \" \", \n",
       "\n",
       " \n",
       ">                    RowBox[{\"cos\", \"(\", \"ϕ\", \")\"}], \" \", \n",
       "\n",
       " \n",
       ">                    TemplateBox[List[SubscriptBox[OverscriptBox[\"f\", \"^\"], \n",
       "\n",
       " \n",
       ">                       RowBox[List[\"x\", \",\", \"y\"]]], \"\\\"(5)\\\"\"], \"Superscript\", \n",
       "\n",
       " \n",
       ">                     Rule[SyntaxForm, SuperscriptBox]]}], \"+\", \n",
       "\n",
       " \n",
       ">                  RowBox[{OverscriptBox[\"r\", \"^\"], \" \", RowBox[{\"sin\", \"(\", \"ϕ\", \")\"}],\\\n",
       " \n",
       ">    \n",
       "                 \" \", TemplateBox[List[SubscriptBox[OverscriptBox[\"f\", \"^\"], \n",
       "\n",
       " \n",
       ">                       RowBox[List[\"y\", \",\", \"y\"]]], \"\\\"(5)\\\"\"], \"Superscript\", \n",
       "\n",
       " \n",
       ">                     Rule[SyntaxForm, SuperscriptBox]]}]}], \")\"}]}]}], \")\"}]}], \n",
       "\n",
       " \n",
       ">      TraditionalForm]\n"
      ]
     },
     "execution_count": 824,
     "metadata": {
      "text/html": [],
      "text/plain": []
     },
     "output_type": "execute_result"
    }
   ],
   "source": [
    "fh5rhrh = 1/5 EinsteinSummation[{{i, j}, {i}, {j}}, {fh5, rh, rh}];\n",
    "fh5rhrh // TraditionalForm"
   ]
  },
  {
   "cell_type": "markdown",
   "metadata": {},
   "source": [
    "Безразмерный лагранжиан\n",
    "\n",
    "$$\n",
    "\\hat{L} = \\hat{T} - (\\hat{U} + \\frac{5}{2}\\epsilon_G\\hat{\\Phi}),\n",
    "$$\n",
    "или\n",
    "$$\n",
    "\\hat{L} = \\frac{1}{2} \\left((\\hat{r}^{(1)})^2 + \\hat{r}^2 \\hat{\\omega}^2 \\right) + \\frac{1}{\\hat{r}} - \\frac{\\epsilon_G}{2}\\hat{f}_{ij}^{(5)}\\hat{r}_i \\hat{r}_j.\n",
    "$$"
   ]
  },
  {
   "cell_type": "markdown",
   "metadata": {},
   "source": [
    "### **Уравнения Эйлера-Лагранжа**\n",
    "Уравнения Эйлера-Лагранжа имеют вид:\n",
    "$$\n",
    "\\frac{d}{dt} \\left( \\frac{\\partial \\hat{L}}{\\partial \\dot{q}_i} \\right) - \\frac{\\partial \\hat{L}}{\\partial q_i} = 0,\n",
    "$$\n",
    "где $q_i$ — обобщённые координаты ($\\hat{r}$ и $\\phi$)."
   ]
  },
  {
   "cell_type": "markdown",
   "metadata": {},
   "source": [
    "---\n",
    "\n",
    "#### Уравнение для координаты $\\hat{r}$:\n",
    "$$\n",
    "\\frac{d}{d\\hat{t}} \\left(\\frac{\\partial \\hat{L}}{\\partial \\hat{r}^{(1)}} \\right) - \\frac{\\partial \\hat{L}}{\\partial \\hat{r}} = 0.\n",
    "$$\n",
    "Вычислим производные:\n",
    "$$\n",
    "\\frac{\\partial \\hat{L}}{\\partial \\hat{r}^{(1)}} = \\hat{r}^{(1)}, \\quad \\frac{d}{d\\hat{t}} \\left( \\frac{\\partial \\hat{L}}{\\partial \\hat{r}^{(1)}} \\right) = \\hat{r}^{(2)},\n",
    "$$\n",
    "$$\n",
    "\\frac{\\partial \\hat{L}}{\\partial \\hat{r}} = \\hat{r} \\hat{\\omega}^2 - \\frac{1}{\\hat{r}^2} - \\frac{5}{2}\\epsilon_G\\frac{\\partial \\hat{\\Phi}}{\\partial \\hat{r}}.\n",
    "$$\n",
    "Подставляем в уравнение Эйлера-Лагранжа:\n",
    "$$\n",
    "\\hat{r}^{(2)} - \\hat{r} \\hat{\\omega}^2 + \\frac{1}{\\hat{r}^2} = - \\frac{5}{2}\\epsilon_G\\frac{\\partial \\hat{\\Phi}}{\\partial \\hat{r}}.\n",
    "$$\n",
    "\n",
    "Это **радиальное уравнение движения**.\n",
    "\n",
    "Здесь \n",
    "$$\n",
    "\\frac{\\partial \\hat{\\Phi}}{\\partial \\hat{r}} = \\frac{1}{5}\\hat{f}_{ij}^{(5)}\\left(\\frac{\\partial \\hat{r}_i}{\\partial \\hat{r}}\\hat{r}_j + \\hat{r}_i\\frac{\\partial \\hat{r}_j}{\\partial \\hat{r}}\\right)\n",
    "$$\n",
    "<span style=\"color:red\">**TODO:**</span> Обсудить почему $\\hat{f}_{ij}^{(5)}$ берётся заданной функцией, не зависящей от $\\hat{r}$ при вариации лагранжиана."
   ]
  },
  {
   "cell_type": "markdown",
   "metadata": {},
   "source": [
    "Правая часть радиального уравнения движения будет выглядеть как"
   ]
  },
  {
   "cell_type": "code",
   "execution_count": 829,
   "metadata": {
    "vscode": {
     "languageId": "wolfram"
    }
   },
   "outputs": [
    {
     "data": {
      "text/html": [
       "<div><img alt=\"Output\" src=\"data:image/png;base64,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\"></div>"
      ],
      "text/plain": [
       "FormBox[RowBox[{OverscriptBox[\"r\", \"^\"], \" \", \n",
       "\n",
       " \n",
       ">        RowBox[{\"(\", RowBox[{\"-\", SubscriptBox[\"ϵ\", \"G\"]}], \")\"}], \" \", \n",
       "\n",
       " \n",
       ">        RowBox[{\"(\", RowBox[{RowBox[{RowBox[{\"sin\", \"(\", RowBox[{\"2\", \" \", \"ϕ\"}], \n",
       "\n",
       " \n",
       ">                \")\"}], \" \", TemplateBox[List[SubscriptBox[OverscriptBox[\"f\", \"^\"], \n",
       "\n",
       " \n",
       ">                 RowBox[List[\"x\", \",\", \"y\"]]], \"\\\"(5)\\\"\"], \"Superscript\", \n",
       "\n",
       " \n",
       ">               Rule[SyntaxForm, SuperscriptBox]]}], \"+\", \n",
       "\n",
       " \n",
       ">            RowBox[{RowBox[{SuperscriptBox[\"cos\", \"2\"], \"(\", \"ϕ\", \")\"}], \" \", \n",
       "\n",
       " \n",
       ">              TemplateBox[List[SubscriptBox[OverscriptBox[\"f\", \"^\"], \n",
       "\n",
       " \n",
       ">                 RowBox[List[\"x\", \",\", \"x\"]]], \"\\\"(5)\\\"\"], \"Superscript\", \n",
       "\n",
       " \n",
       ">               Rule[SyntaxForm, SuperscriptBox]]}], \"+\", \n",
       "\n",
       " \n",
       ">            RowBox[{RowBox[{SuperscriptBox[\"sin\", \"2\"], \"(\", \"ϕ\", \")\"}], \" \", \n",
       "\n",
       " \n",
       ">              TemplateBox[List[SubscriptBox[OverscriptBox[\"f\", \"^\"], \n",
       "\n",
       " \n",
       ">                 RowBox[List[\"y\", \",\", \"y\"]]], \"\\\"(5)\\\"\"], \"Superscript\", \n",
       "\n",
       " \n",
       ">               Rule[SyntaxForm, SuperscriptBox]]}]}], \")\"}]}], TraditionalForm]\n"
      ]
     },
     "execution_count": 829,
     "metadata": {
      "text/html": [],
      "text/plain": []
     },
     "output_type": "execute_result"
    }
   ],
   "source": [
    "RHSMotionRadialLagrange = - 1/2 Subscript[\\[Epsilon], G] FullSimplify[EinsteinSummation[{{i, j}, {i}, {j}}, {fh5, D[rh, OverHat[r][OverHat[t]]], rh}] + EinsteinSummation[{{i, j}, {i}, {j}}, {fh5, rh, D[rh, OverHat[r][OverHat[t]]]}]];\n",
    "RHSMotionRadialLagrange // TraditionalForm"
   ]
  },
  {
   "cell_type": "markdown",
   "metadata": {},
   "source": [
    "<span style=\"color:red\">**NB:**</span> Выражение <span style=\"color:green\">**совпадает**</span> с раннее полученным уравнением и с уравнением (10) из файла Binary.pdf"
   ]
  },
  {
   "cell_type": "code",
   "execution_count": 830,
   "metadata": {
    "vscode": {
     "languageId": "wolfram"
    }
   },
   "outputs": [
    {
     "data": {
      "text/html": [
       "<div><pre style=\"&#102;&#111;&#110;&#116;&#45;&#102;&#97;&#109;&#105;&#108;&#121;&#58;&#32;&#34;&#67;&#111;&#117;&#114;&#105;&#101;&#114;&#32;&#78;&#101;&#119;&#34;&#44;&#67;&#111;&#117;&#114;&#105;&#101;&#114;&#44;&#109;&#111;&#110;&#111;&#115;&#112;&#97;&#99;&#101;&#59;\">&#48;</pre></div>"
      ],
      "text/plain": [
       "0"
      ]
     },
     "execution_count": 830,
     "metadata": {
      "text/html": [],
      "text/plain": []
     },
     "output_type": "execute_result"
    }
   ],
   "source": [
    "RHSMotion[[1]] - RHSMotionRadialLagrange"
   ]
  },
  {
   "cell_type": "markdown",
   "metadata": {},
   "source": [
    "---\n",
    "\n",
    "#### Уравнение для координаты $\\phi$:\n",
    "$$\n",
    "\\frac{d}{d\\hat{t}} \\left(\\frac{\\partial \\hat{L}}{\\partial \\hat{\\omega}} \\right) - \\frac{\\partial \\hat{L}}{\\partial \\phi} = 0.\n",
    "$$\n",
    "Вычислим производные:\n",
    "$$\n",
    "\\frac{\\partial \\hat{L}}{\\partial \\hat{\\omega}} = \\hat{r}^2 \\hat{\\omega}, \\quad \\frac{d}{d\\hat{t}} \\left( \\frac{\\partial \\hat{L}}{\\partial \\hat{\\omega}} \\right) = \\frac{d}{d\\hat{t}} \\left( \\hat{r}^2 \\hat{\\omega} \\right),\n",
    "$$\n",
    "$$\n",
    "\\frac{\\partial \\hat{L}}{\\partial \\phi} = - \\frac{5}{2}\\epsilon_G\\frac{\\partial \\hat{\\Phi}}{\\partial \\phi}.\n",
    "$$\n",
    "Подставляем в уравнение Эйлера-Лагранжа:\n",
    "$$\n",
    "\\frac{1}{\\hat{r}}\\frac{d}{d\\hat{t}} \\left( \\hat{r}^2 \\hat{\\omega} \\right) = \\frac{1}{\\hat{r}}\\frac{d\\hat{J}}{d\\hat{t}} = - \\frac{5}{2}\\frac{\\epsilon_G}{\\hat{r}}\\frac{\\partial \\hat{\\Phi}}{\\partial \\phi}.\n",
    "$$\n",
    "\n",
    "Здесь \n",
    "$$\n",
    "\\frac{\\partial \\hat{\\Phi}}{\\partial \\phi} = \\frac{1}{5}\\hat{f}_{ij}^{(5)}\\left(\\frac{\\partial \\hat{r}_i}{\\partial \\phi}\\hat{r}_j + \\hat{r}_i\\frac{\\partial \\hat{r}_j}{\\partial \\phi}\\right)\n",
    "$$\n",
    "<span style=\"color:red\">**TODO:**</span> Обсудить почему $\\hat{f}_{ij}^{(5)}$ берётся заданной функцией, не зависящей от $\\phi$ при вариации лагранжиана."
   ]
  },
  {
   "cell_type": "markdown",
   "metadata": {},
   "source": [
    "Правая часть уравнения движения для $\\phi$ будет выглядеть как"
   ]
  },
  {
   "cell_type": "code",
   "execution_count": 832,
   "metadata": {
    "vscode": {
     "languageId": "wolfram"
    }
   },
   "outputs": [
    {
     "data": {
      "text/html": [
       "<div><img alt=\"Output\" src=\"data:image/png;base64,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\"></div>"
      ],
      "text/plain": [
       "FormBox[RowBox[{RowBox[{\"-\", FractionBox[\"1\", \"2\"]}], \" \", OverscriptBox[\"r\", \"^\"], \n",
       "\n",
       " \n",
       ">        \" \", SubscriptBox[\"ϵ\", \"G\"], \" \", \n",
       "\n",
       " \n",
       ">        RowBox[{\"(\", RowBox[{RowBox[{RowBox[{\"sin\", \"(\", RowBox[{\"2\", \" \", \"ϕ\"}], \n",
       "\n",
       " \n",
       ">                \")\"}], \" \", RowBox[{\"(\", \n",
       "\n",
       " \n",
       ">                RowBox[{TemplateBox[List[SubscriptBox[OverscriptBox[\"f\", \"^\"], \n",
       "\n",
       " \n",
       ">                     RowBox[List[\"y\", \",\", \"y\"]]], \"\\\"(5)\\\"\"], \"Superscript\", \n",
       "\n",
       " \n",
       ">                   Rule[SyntaxForm, SuperscriptBox]], \"-\", \n",
       "\n",
       " \n",
       ">                  TemplateBox[List[SubscriptBox[OverscriptBox[\"f\", \"^\"], \n",
       "\n",
       " \n",
       ">                     RowBox[List[\"x\", \",\", \"x\"]]], \"\\\"(5)\\\"\"], \"Superscript\", \n",
       "\n",
       " \n",
       ">                   Rule[SyntaxForm, SuperscriptBox]]}], \")\"}]}], \"+\", \n",
       "\n",
       " \n",
       ">            RowBox[{\"2\", \" \", RowBox[{\"cos\", \"(\", RowBox[{\"2\", \" \", \"ϕ\"}], \")\"}], \" \", \n",
       "\n",
       " \n",
       ">              TemplateBox[List[SubscriptBox[OverscriptBox[\"f\", \"^\"], \n",
       "\n",
       " \n",
       ">                 RowBox[List[\"x\", \",\", \"y\"]]], \"\\\"(5)\\\"\"], \"Superscript\", \n",
       "\n",
       " \n",
       ">               Rule[SyntaxForm, SuperscriptBox]]}]}], \")\"}]}], TraditionalForm]\n"
      ]
     },
     "execution_count": 832,
     "metadata": {
      "text/html": [],
      "text/plain": []
     },
     "output_type": "execute_result"
    }
   ],
   "source": [
    "RHSMotionPhiLagrange = - 1/2 Subscript[\\[Epsilon], G] FullSimplify[EinsteinSummation[{{i, j}, {i}, {j}}, {fh5, D[rh, \\[Phi][OverHat[t]]], rh}] + EinsteinSummation[{{i, j}, {i}, {j}}, {fh5, rh, D[rh, \\[Phi][OverHat[t]]]}]]/OverHat[r][OverHat[t]];\n",
    "RHSMotionPhiLagrange // TraditionalForm"
   ]
  },
  {
   "cell_type": "markdown",
   "metadata": {},
   "source": [
    "<span style=\"color:red\">**NB:**</span> Выражение <span style=\"color:green\">**совпадает**</span> с раннее полученным уравнением и с уравнением (9) из файла Binary.pdf"
   ]
  },
  {
   "cell_type": "code",
   "execution_count": 833,
   "metadata": {
    "vscode": {
     "languageId": "wolfram"
    }
   },
   "outputs": [
    {
     "data": {
      "text/html": [
       "<div><pre style=\"&#102;&#111;&#110;&#116;&#45;&#102;&#97;&#109;&#105;&#108;&#121;&#58;&#32;&#34;&#67;&#111;&#117;&#114;&#105;&#101;&#114;&#32;&#78;&#101;&#119;&#34;&#44;&#67;&#111;&#117;&#114;&#105;&#101;&#114;&#44;&#109;&#111;&#110;&#111;&#115;&#112;&#97;&#99;&#101;&#59;\">&#48;</pre></div>"
      ],
      "text/plain": [
       "0"
      ]
     },
     "execution_count": 833,
     "metadata": {
      "text/html": [],
      "text/plain": []
     },
     "output_type": "execute_result"
    }
   ],
   "source": [
    "RHSMotion[[2]] - RHSMotionPhiLagrange"
   ]
  },
  {
   "cell_type": "markdown",
   "metadata": {},
   "source": [
    "## Получим **энергетическую** систему уравнений в подходе Лагранжа"
   ]
  },
  {
   "cell_type": "markdown",
   "metadata": {},
   "source": [
    "Заметим, что энергия системы:\n",
    "$$\n",
    "\\hat{E} = \\frac{(\\hat{r}^{(1)})^2}{2} + \\frac{\\hat{r}^2 \\hat{\\omega}^2}{2} - \\frac{1}{\\hat{r}}\n",
    "$$\n",
    "$$\n",
    "\\frac{1}{\\hat{r}^{(1)}}\\left(\\frac{d\\hat{E}}{d\\hat{t}} - \\hat{\\omega} \\frac{d\\hat{J}}{d\\hat{t}}\\right) = \\hat{r}^{(2)} - \\hat{r} \\hat{\\omega}^2 + \\frac{1}{\\hat{r}^2}\n",
    "$$\n",
    "\n",
    "А также уравнение для изменения момента импульса системы есть\n",
    "$$\n",
    "\\frac{d\\hat{J}}{d\\hat{t}} = - \\frac{5}{2}\\epsilon_G\\frac{\\partial \\hat{\\Phi}}{\\partial \\phi}.\n",
    "$$\n",
    "\n",
    "Итоговая энергетическая система, выведенная по-новому будет записываться как:\n",
    "\n",
    "$$\n",
    "\\begin{align}\n",
    "\\frac{d\\hat{E}}{d\\hat{t}} &= - \\frac{5}{2}\\epsilon_G\\left(\\hat{r}^{(1)}\\frac{\\partial \\hat{\\Phi}}{\\partial \\hat{r}} + \\hat{\\omega} \\frac{\\partial \\hat{\\Phi}}{\\partial \\phi}\\right) = - \\frac{5}{2}\\epsilon_G \\frac{d\\hat{\\Phi}}{d\\hat{t}}\n",
    "  = - \\frac{\\epsilon_G}{2}\\hat{f}_{ij}^{(5)}\\left(\\frac{d\\hat{r}_i}{d\\hat{t}}\\hat{r}_j + \\hat{r}_i\\frac{d\\hat{r}_j}{d\\hat{t}}\\right)\n",
    "\\\\\n",
    "\\frac{d\\hat{J}}{d\\hat{t}} &= - \\frac{5}{2}\\epsilon_G\\frac{\\partial \\hat{\\Phi}}{\\partial \\phi} = - \\frac{\\epsilon_G}{2}\\hat{f}_{ij}^{(5)}\\left(\\frac{\\partial \\hat{r}_i}{\\partial \\phi}\\hat{r}_j + \\hat{r}_i\\frac{\\partial \\hat{r}_j}{\\partial \\phi}\\right)\n",
    "\\end{align}\n",
    "$$"
   ]
  },
  {
   "cell_type": "markdown",
   "metadata": {},
   "source": [
    "И снова, чтобы перейти в размерный вид, достаточно положить $\\epsilon_G \\equiv \\frac{2}{5}\\mu$\n",
    "\n",
    "То есть\n",
    "$$\n",
    "\\begin{align}\n",
    "\\frac{dE}{dt} &= - \\mu\\frac{d\\Phi}{dt}\n",
    "\\\\\n",
    "\\frac{dJ}{dt} &= - \\mu\\frac{\\partial \\Phi}{\\partial \\phi}\n",
    "\\end{align}\n",
    "$$\n",
    "<span style=\"color:red\">**TODO:**</span> Обсудить почему $\\hat{f}_{ij}^{(5)}$ берётся заданной функцией, не зависящей от $\\hat{r}, \\phi, \\hat{t}$ при вариации лагранжиана."
   ]
  },
  {
   "cell_type": "code",
   "execution_count": 838,
   "metadata": {
    "vscode": {
     "languageId": "wolfram"
    }
   },
   "outputs": [
    {
     "data": {
      "text/html": [
       "<div><img alt=\"Output\" src=\"data:image/png;base64,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\"></div>"
      ],
      "text/plain": [
       "FormBox[TagBox[RowBox[{\"(\", \"⁠\", \n",
       "\n",
       " \n",
       ">         TagBox[GridBox[{{RowBox[{OverscriptBox[\"r\", \"^\"], \" \", \n",
       "\n",
       " \n",
       ">               RowBox[{\"(\", RowBox[{\"-\", SubscriptBox[\"ϵ\", \"G\"]}], \")\"}], \" \", \n",
       "\n",
       " \n",
       ">               RowBox[{\"(\", RowBox[{RowBox[{OverscriptBox[\"r\", \"^\"], \" \", \n",
       "\n",
       " \n",
       ">                     OverscriptBox[\"ω\", \"^\"], \" \", \n",
       "\n",
       " \n",
       ">                     RowBox[{\"(\", RowBox[{RowBox[{RowBox[{\"cos\", \"(\", \n",
       "\n",
       " \n",
       ">                             RowBox[{\"2\", \" \", \"ϕ\"}], \")\"}], \" \", \n",
       "\n",
       " \n",
       ">                           TemplateBox[List[SubscriptBox[OverscriptBox[\"f\", \n",
       "\n",
       " \n",
       ">                             \"^\"], RowBox[List[\"x\", \",\", \"y\"]]], \"\\\"(5)\\\"\"], \n",
       "\n",
       " \n",
       ">                            \"Superscript\", Rule[SyntaxForm, SuperscriptBox]]}], \n",
       "\n",
       " \n",
       ">                         \"+\", RowBox[{RowBox[{\"sin\", \"(\", \"ϕ\", \")\"}], \" \", \n",
       "\n",
       " \n",
       ">                           RowBox[{\"cos\", \"(\", \"ϕ\", \")\"}], \" \", \n",
       "\n",
       " \n",
       ">                           RowBox[{\"(\", \n",
       "\n",
       " \n",
       ">                             RowBox[{TemplateBox[List[SubscriptBox[\n",
       "\n",
       " \n",
       ">                             OverscriptBox[\"f\", \"^\"], \n",
       "\n",
       " \n",
       ">                             RowBox[List[\"y\", \",\", \"y\"]]], \"\\\"(5)\\\"\"], \n",
       "\n",
       " \n",
       ">                             \"Superscript\", Rule[SyntaxForm, SuperscriptBox]], \n",
       "\n",
       " \n",
       ">                              \"-\", \n",
       "\n",
       " \n",
       ">                              TemplateBox[List[SubscriptBox[OverscriptB\\\n",
       "\n",
       " \n",
       ">   ox[\"f\", \"^\"], RowBox[List[\"x\", \",\", \"x\"]]], \"\\\"(5)\\\"\"], \"Superscript\", \n",
       "\n",
       " \n",
       ">                              Rule[SyntaxForm, SuperscriptBox]]}], \")\"}]}]}], \")\"}]\\\n",
       "\n",
       " \n",
       ">   }], \"+\", RowBox[{SuperscriptBox[OverscriptBox[\"r\", \"^\"], \"′\"], \" \", \n",
       "\n",
       " \n",
       ">                     RowBox[{\"(\", RowBox[{RowBox[{RowBox[{\"sin\", \"(\", \n",
       "\n",
       " \n",
       ">                             RowBox[{\"2\", \" \", \"ϕ\"}], \")\"}], \" \", \n",
       "\n",
       " \n",
       ">                           TemplateBox[List[SubscriptBox[OverscriptBox[\"f\", \n",
       "\n",
       " \n",
       ">                             \"^\"], RowBox[List[\"x\", \",\", \"y\"]]], \"\\\"(5)\\\"\"], \n",
       "\n",
       " \n",
       ">                            \"Superscript\", Rule[SyntaxForm, SuperscriptBox]]}], \n",
       "\n",
       " \n",
       ">                         \"+\", RowBox[{RowBox[{SuperscriptBox[\"cos\", \"2\"], \"(\", \n",
       "\n",
       " \n",
       ">                             \"ϕ\", \")\"}], \" \", \n",
       "\n",
       " \n",
       ">                           TemplateBox[List[SubscriptBox[OverscriptBox[\"f\", \n",
       "\n",
       " \n",
       ">                             \"^\"], RowBox[List[\"x\", \",\", \"x\"]]], \"\\\"(5)\\\"\"], \n",
       "\n",
       " \n",
       ">                            \"Superscript\", Rule[SyntaxForm, SuperscriptBox]]}], \n",
       "\n",
       " \n",
       ">                         \"+\", RowBox[{RowBox[{SuperscriptBox[\"sin\", \"2\"], \"(\", \n",
       "\n",
       " \n",
       ">                             \"ϕ\", \")\"}], \" \", \n",
       "\n",
       " \n",
       ">                           TemplateBox[List[SubscriptBox[OverscriptBox[\"f\", \n",
       "\n",
       " \n",
       ">                             \"^\"], RowBox[List[\"y\", \",\", \"y\"]]], \"\\\"(5)\\\"\"], \n",
       "\n",
       " \n",
       ">                            \"Superscript\", Rule[SyntaxForm, SuperscriptBox]]}]}], \n",
       "\n",
       " \n",
       ">                       \")\"}]}]}], \")\"}]}]}, \n",
       "\n",
       " \n",
       ">            {RowBox[{RowBox[{\"-\", FractionBox[\"1\", \"2\"]}], \" \", \n",
       "\n",
       " \n",
       ">               SuperscriptBox[OverscriptBox[\"r\", \"^\"], \"2\"], \" \", \n",
       "\n",
       " \n",
       ">               SubscriptBox[\"ϵ\", \"G\"], \" \", \n",
       "\n",
       " \n",
       ">               RowBox[{\"(\", RowBox[{RowBox[{RowBox[{\"sin\", \"(\", \n",
       "\n",
       " \n",
       ">                       RowBox[{\"2\", \" \", \"ϕ\"}], \")\"}], \" \", \n",
       "\n",
       " \n",
       ">                     RowBox[{\"(\", RowBox[{TemplateBox[List[SubscriptBox[\n",
       "\n",
       " \n",
       ">                            OverscriptBox[\"f\", \"^\"], \n",
       "\n",
       " \n",
       ">                            RowBox[List[\"y\", \",\", \"y\"]]], \"\\\"(5)\\\"\"], \n",
       "\n",
       " \n",
       ">                          \"Superscript\", Rule[SyntaxForm, SuperscriptBox]], \"-\", \n",
       "\n",
       " \n",
       ">                         TemplateBox[List[SubscriptBox[OverscriptBox[\"f\", \"^\"], \n",
       "\n",
       " \n",
       ">                            RowBox[List[\"x\", \",\", \"x\"]]], \"\\\"(5)\\\"\"], \n",
       "\n",
       " \n",
       ">                          \"Superscript\", Rule[SyntaxForm, SuperscriptBox]]}], \")\"}]}\\\n",
       "\n",
       " \n",
       ">   ], \"+\", RowBox[{\"2\", \" \", RowBox[{\"cos\", \"(\", RowBox[{\"2\", \" \", \"ϕ\"}], \")\"}], \n",
       "\n",
       " \n",
       ">                     \" \", TemplateBox[List[SubscriptBox[OverscriptBox[\"f\", \"^\"], \n",
       "\n",
       " \n",
       ">                        RowBox[List[\"x\", \",\", \"y\"]]], \"\\\"(5)\\\"\"], \"Superscript\", \n",
       "\n",
       " \n",
       ">                      Rule[SyntaxForm, SuperscriptBox]]}]}], \")\"}]}]}}, \n",
       "\n",
       " \n",
       ">           Rule[RowSpacings, 1], Rule[ColumnAlignments, Center], \n",
       "\n",
       " \n",
       ">           Rule[ColumnAlignments, Left]], Column], \"⁠\", \")\"}], \n",
       "\n",
       " \n",
       ">       Function[BoxForm`e$, MatrixForm[BoxForm`e$]]], TraditionalForm]\n"
      ]
     },
     "execution_count": 838,
     "metadata": {
      "text/html": [],
      "text/plain": []
     },
     "output_type": "execute_result"
    }
   ],
   "source": [
    "RHSEnegryLagrange = - 5/2 Subscript[\\[Epsilon],G] FullSimplify[{\n",
    "  D[fh5rhrh, OverHat[t]] /. OmegaReplace,\n",
    "  D[fh5rhrh, \\[Phi][OverHat[t]]]\n",
    "}, Trig -> True];\n",
    "\n",
    "RHSEnegryLagrange // MatrixForm // TraditionalForm"
   ]
  },
  {
   "cell_type": "markdown",
   "metadata": {},
   "source": [
    "<span style=\"color:red\">**NB:**</span> Выражения полностью <span style=\"color:green\">**совпадают**</span> с предыдущим подходом!"
   ]
  },
  {
   "cell_type": "code",
   "execution_count": 842,
   "metadata": {
    "vscode": {
     "languageId": "wolfram"
    }
   },
   "outputs": [
    {
     "data": {
      "text/html": [
       "<div><img alt=\"Output\" src=\"data:image/png;base64,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\"></div>"
      ],
      "text/plain": [
       "0\n",
       "\n",
       "0"
      ]
     },
     "execution_count": 842,
     "metadata": {
      "text/html": [],
      "text/plain": []
     },
     "output_type": "execute_result"
    }
   ],
   "source": [
    "FullSimplify[RHSEnegryLagrange - RHSEnegry] // MatrixForm"
   ]
  },
  {
   "cell_type": "code",
   "execution_count": 843,
   "metadata": {
    "vscode": {
     "languageId": "wolfram"
    }
   },
   "outputs": [
    {
     "data": {
      "text/html": [
       "<div>&#36;&#36;&#92;&#108;&#101;&#102;&#116;&#92;&#123;&#92;&#104;&#97;&#116;&#123;&#114;&#125;&#32;&#92;&#108;&#101;&#102;&#116;&#40;&#45;&#92;&#101;&#112;&#115;&#105;&#108;&#111;&#110;&#32;&#95;&#71;&#92;&#114;&#105;&#103;&#104;&#116;&#41;&#32;&#92;&#108;&#101;&#102;&#116;&#40;&#92;&#104;&#97;&#116;&#123;&#114;&#125;&#32;&#92;&#104;&#97;&#116;&#123;&#92;&#111;&#109;&#101;&#103;&#97;&#32;&#125;&#32;&#92;&#108;&#101;&#102;&#116;&#40;&#92;&#99;&#111;&#115;&#32;&#40;&#50;&#32;&#92;&#112;&#104;&#105;&#32;&#41;&#32;&#92;&#104;&#97;&#116;&#123;&#102;&#125;&#95;&#123;&#120;&#44;&#121;&#125;&#123;&#125;&#94;&#123;&#92;&#116;&#101;&#120;&#116;&#123;&#40;&#53;&#41;&#125;&#125;&#43;&#92;&#115;&#105;&#110;&#32;&#40;&#92;&#112;&#104;&#105;&#32;&#41;&#32;&#92;&#99;&#111;&#115;&#32;&#40;&#92;&#112;&#104;&#105;&#32;&#41;&#32;&#92;&#108;&#101;&#102;&#116;&#40;&#92;&#104;&#97;&#116;&#123;&#102;&#125;&#95;&#123;&#121;&#44;&#121;&#125;&#123;&#125;&#94;&#123;&#92;&#116;&#101;&#120;&#116;&#123;&#40;&#53;&#41;&#125;&#125;&#45;&#92;&#104;&#97;&#116;&#123;&#102;&#125;&#95;&#123;&#120;&#44;&#120;&#125;&#123;&#125;&#94;&#123;&#92;&#116;&#101;&#120;&#116;&#123;&#40;&#53;&#41;&#125;&#125;&#92;&#114;&#105;&#103;&#104;&#116;&#41;&#92;&#114;&#105;&#103;&#104;&#116;&#41;&#43;&#92;&#104;&#97;&#116;&#123;&#114;&#125;&#39;&#32;&#92;&#108;&#101;&#102;&#116;&#40;&#92;&#115;&#105;&#110;&#32;&#40;&#50;&#32;&#92;&#112;&#104;&#105;&#32;&#41;&#32;&#92;&#104;&#97;&#116;&#123;&#102;&#125;&#95;&#123;&#120;&#44;&#121;&#125;&#123;&#125;&#94;&#123;&#92;&#116;&#101;&#120;&#116;&#123;&#40;&#53;&#41;&#125;&#125;&#43;&#92;&#99;&#111;&#115;&#32;&#94;&#50;&#40;&#92;&#112;&#104;&#105;&#32;&#41;&#32;&#92;&#104;&#97;&#116;&#123;&#102;&#125;&#95;&#123;&#120;&#44;&#120;&#125;&#123;&#125;&#94;&#123;&#92;&#116;&#101;&#120;&#116;&#123;&#40;&#53;&#41;&#125;&#125;&#43;&#92;&#115;&#105;&#110;&#32;&#94;&#50;&#40;&#92;&#112;&#104;&#105;&#32;&#41;&#32;&#92;&#104;&#97;&#116;&#123;&#102;&#125;&#95;&#123;&#121;&#44;&#121;&#125;&#123;&#125;&#94;&#123;&#92;&#116;&#101;&#120;&#116;&#123;&#40;&#53;&#41;&#125;&#125;&#92;&#114;&#105;&#103;&#104;&#116;&#41;&#92;&#114;&#105;&#103;&#104;&#116;&#41;&#44;&#45;&#92;&#102;&#114;&#97;&#99;&#123;&#49;&#125;&#123;&#50;&#125;&#32;&#92;&#104;&#97;&#116;&#123;&#114;&#125;&#94;&#50;&#32;&#92;&#101;&#112;&#115;&#105;&#108;&#111;&#110;&#32;&#95;&#71;&#32;&#92;&#108;&#101;&#102;&#116;&#40;&#92;&#115;&#105;&#110;&#32;&#40;&#50;&#32;&#92;&#112;&#104;&#105;&#32;&#41;&#32;&#92;&#108;&#101;&#102;&#116;&#40;&#92;&#104;&#97;&#116;&#123;&#102;&#125;&#95;&#123;&#121;&#44;&#121;&#125;&#123;&#125;&#94;&#123;&#92;&#116;&#101;&#120;&#116;&#123;&#40;&#53;&#41;&#125;&#125;&#45;&#92;&#104;&#97;&#116;&#123;&#102;&#125;&#95;&#123;&#120;&#44;&#120;&#125;&#123;&#125;&#94;&#123;&#92;&#116;&#101;&#120;&#116;&#123;&#40;&#53;&#41;&#125;&#125;&#92;&#114;&#105;&#103;&#104;&#116;&#41;&#43;&#50;&#32;&#92;&#99;&#111;&#115;&#32;&#40;&#50;&#32;&#92;&#112;&#104;&#105;&#32;&#41;&#32;&#92;&#104;&#97;&#116;&#123;&#102;&#125;&#95;&#123;&#120;&#44;&#121;&#125;&#123;&#125;&#94;&#123;&#92;&#116;&#101;&#120;&#116;&#123;&#40;&#53;&#41;&#125;&#125;&#92;&#114;&#105;&#103;&#104;&#116;&#41;&#92;&#114;&#105;&#103;&#104;&#116;&#92;&#125;&#36;&#36;</div>"
      ],
      "text/plain": [
       "\\left\\{\\hat{r} \\left(-\\epsilon _G\\right) \\left(\\hat{r} \\hat{\\omega } \\left(\\cos (2 \\phi\\\n",
       " \n",
       ">   ) \\hat{f}_{x,y}{}^{\\text{(5)}}+\\sin (\\phi ) \\cos (\\phi )\\\n",
       " \n",
       ">   \\left(\\hat{f}_{y,y}{}^{\\text{(5)}}-\\hat{f}_{x,x}{}^{\\text{(5)}}\\right)\\right)+\\hat{r\\\n",
       " \n",
       ">   }' \\left(\\sin (2 \\phi ) \\hat{f}_{x,y}{}^{\\text{(5)}}+\\cos ^2(\\phi )\\\n",
       " \n",
       ">   \\hat{f}_{x,x}{}^{\\text{(5)}}+\\sin ^2(\\phi )\\\n",
       " \n",
       ">   \\hat{f}_{y,y}{}^{\\text{(5)}}\\right)\\right),-\\frac{1}{2} \\hat{r}^2 \\epsilon _G\\\n",
       " \n",
       ">   \\left(\\sin (2 \\phi )\\\n",
       " \n",
       ">   \\left(\\hat{f}_{y,y}{}^{\\text{(5)}}-\\hat{f}_{x,x}{}^{\\text{(5)}}\\right)+2 \\cos (2\\\n",
       " \n",
       ">   \\phi ) \\hat{f}_{x,y}{}^{\\text{(5)}}\\right)\\right\\}"
      ]
     },
     "execution_count": 843,
     "metadata": {
      "text/html": [],
      "text/plain": []
     },
     "output_type": "execute_result"
    }
   ],
   "source": [
    "TeXForm[RHSEnegryLagrange]"
   ]
  },
  {
   "cell_type": "markdown",
   "metadata": {},
   "source": [
    "# Итоговая система **энергетических** уравнений:\n",
    "\n",
    "$$\n",
    "\\begin{align}\n",
    "\\tag{dE/dt}\n",
    "\\frac{d\\hat{E}}{d\\hat{t}} &= - \\epsilon_G \\hat{r} \\left(\\hat{r} \\hat{\\omega } \\left(\\cos (2 \\phi ) \\hat{f}_{x,y}{}^{\\text{(5)}}+\\sin (\\phi ) \\cos (\\phi ) \\left(\\hat{f}_{y,y}{}^{\\text{(5)}}-\\hat{f}_{x,x}{}^{\\text{(5)}}\\right)\\right)+\\hat{r}' \\left(\\sin (2 \\phi ) \\hat{f}_{x,y}{}^{\\text{(5)}}+\\cos ^2(\\phi ) \\hat{f}_{x,x}{}^{\\text{(5)}}+\\sin ^2(\\phi ) \\hat{f}_{y,y}{}^{\\text{(5)}}\\right)\\right) = \\epsilon_G I_E\n",
    "\\\\\n",
    "\\tag{dJ/dt}\n",
    "\\frac{d\\hat{J}}{d\\hat{t}} &= -\\frac{1}{2} \\epsilon_G \\hat{r}^2 \\left(\\sin (2 \\phi ) \\left(\\hat{f}_{y,y}{}^{\\text{(5)}}-\\hat{f}_{x,x}{}^{\\text{(5)}}\\right)+2 \\cos (2 \\phi ) \\hat{f}_{x,y}{}^{\\text{(5)}}\\right) = \\epsilon_G I_J\n",
    "\\end{align}\n",
    "$$"
   ]
  },
  {
   "cell_type": "markdown",
   "metadata": {},
   "source": [
    "# RHS уравнения (dJ/dt)\n",
    "\n",
    "Введём новое обозначение $\\hat{r}^2 \\equiv \\hat{r}_2$"
   ]
  },
  {
   "cell_type": "code",
   "execution_count": 855,
   "metadata": {
    "vscode": {
     "languageId": "wolfram"
    }
   },
   "outputs": [
    {
     "data": {
      "text/html": [
       "<div><img alt=\"Output\" src=\"data:image/png;base64,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\"></div>"
      ],
      "text/plain": [
       "FormBox[RowBox[{SubscriptBox[OverscriptBox[\"r\", \"^\"], \"2\"], \" \", \n",
       "\n",
       " \n",
       ">        RowBox[{\"(\", RowBox[{RowBox[{\"-\", \n",
       "\n",
       " \n",
       ">              RowBox[{\"5\", \" \", SuperscriptBox[SubscriptBox[OverscriptBox[\"r\", \"^\"], \n",
       "\n",
       " \n",
       ">                  \"2\"], \"′\"], \" \", SuperscriptBox[OverscriptBox[\"ω\", \"^\"], \"′′′\"]}]}], \n",
       "\n",
       " \n",
       ">            \"-\", RowBox[{\"10\", \" \", SuperscriptBox[SubscriptBox[OverscriptBox[\"r\", \n",
       "\n",
       " \n",
       ">                 \"^\"], \"2\"], \"′′′\"], \" \", SuperscriptBox[OverscriptBox[\"ω\", \"^\"],\\\n",
       " \n",
       ">    \"′\"]}]\\\n",
       ", \"+\", RowBox[{\"120\", \" \", SuperscriptBox[OverscriptBox[\"ω\", \"^\"], \"2\"], \"\\\n",
       " \n",
       ">    \", \n",
       "           SuperscriptBox[SubscriptBox[OverscriptBox[\"r\", \"^\"], \"2\"], \"′\"], \"\\\n",
       " \n",
       ">    \", \n",
       "           SuperscriptBox[OverscriptBox[\"ω\", \"^\"], \"′\"]}], \"+\", \n",
       "\n",
       " \n",
       ">            RowBox[{\"60\", \" \", SubscriptBox[OverscriptBox[\"r\", \"^\"], \"2\"], \" \", \n",
       "\n",
       " \n",
       ">              OverscriptBox[\"ω\", \"^\"], \" \", \n",
       "           SuperscriptBox[RowBox[{\"(\", \n",
       "\n",
       " \n",
       ">                 SuperscriptBox[OverscriptBox[\"ω\", \"^\"], \"′\"], \")\"}], \"2\"]}], \"+\", \n",
       "\n",
       " \n",
       ">            RowBox[{\"40\", \" \", SuperscriptBox[OverscriptBox[\"ω\", \"^\"], \"3\"], \" \", \n",
       "\n",
       " \n",
       ">              SuperscriptBox[SubscriptBox[OverscriptBox[\"r\", \"^\"], \"2\"], \"′′\"]}], \"+\", \n",
       "\n",
       " \n",
       ">            RowBox[{\"40\", \" \", SubscriptBox[OverscriptBox[\"r\", \"^\"], \"2\"], \" \", \n",
       "\n",
       " \n",
       ">              SuperscriptBox[OverscriptBox[\"ω\", \"^\"], \"2\"], \" \", \n",
       "\n",
       " \n",
       ">              SuperscriptBox[OverscriptBox[\"ω\", \"^\"], \"′′\"]}], \"-\", \n",
       "\n",
       " \n",
       ">            RowBox[{\"10\", \" \", SuperscriptBox[SubscriptBox[OverscriptBox[\"r\", \"^\"], \n",
       "\n",
       " \n",
       ">                \"2\"], \"′′\"], \" \", SuperscriptBox[OverscriptBox[\"ω\", \"^\"], \"′′\"]}], \"-\",\\\n",
       " \n",
       ">    \n",
       "         RowBox[{\"5\", \" \", OverscriptBox[\"ω\", \"^\"], \" \", \n",
       "\n",
       " \n",
       ">              SuperscriptBox[SubscriptBox[OverscriptBox[\"r\", \"^\"], \"2\"], \"′′′′\"]}],\\\n",
       " \n",
       ">    \"-\", \n",
       "         RowBox[{SubscriptBox[OverscriptBox[\"r\", \"^\"], \"2\"], \" \", \n",
       "\n",
       " \n",
       ">              SuperscriptBox[OverscriptBox[\"ω\", \"^\"], \"′′′′\"]}], \"-\", \n",
       "\n",
       " \n",
       ">            RowBox[{RowBox[{\"16\"}], \" \", SubscriptBox[OverscriptBox[\"r\", \"^\"], \"2\"], \n",
       "\n",
       " \n",
       ">              \" \", SuperscriptBox[OverscriptBox[\"ω\", \"^\"], \"5\"]}]}], \")\"}]}], \n",
       "\n",
       " \n",
       ">      TraditionalForm]\n"
      ]
     },
     "execution_count": 855,
     "metadata": {
      "text/html": [],
      "text/plain": []
     },
     "output_type": "execute_result"
    }
   ],
   "source": [
    "fh1 = fh /. OverHat[r][OverHat[t]] -> Sqrt[Subscript[OverHat[r],2][OverHat[t]]];\n",
    "fh5Symbolic = Simplify[D[fh1, {OverHat[t], 5}], Trig -> True];\n",
    "\n",
    "replacementRules = Flatten[{\n",
    "  Superscript[Subscript[OverHat[f], x, x], \"(5)\"] -> fh5Symbolic[[1, 1]],\n",
    "  Superscript[Subscript[OverHat[f], x, y], \"(5)\"] -> fh5Symbolic[[1, 2]],\n",
    "  Superscript[Subscript[OverHat[f], y, x], \"(5)\"] -> fh5Symbolic[[2, 1]],\n",
    "  Superscript[Subscript[OverHat[f], y, y], \"(5)\"] -> fh5Symbolic[[2, 2]],\n",
    "  OverHat[r][OverHat[t]] -> Sqrt[Subscript[OverHat[r],2][OverHat[t]]]\n",
    "}];\n",
    "\n",
    "dJdtTemp = RHSEnegryLagrange[[2]] /. replacementRules /. OmegaReplace;\n",
    "dJdt = Subscript[OverHat[r],2][OverHat[t]]*Expand[Simplify[dJdtTemp/Subscript[\\[Epsilon], G], Trig -> True]/Subscript[OverHat[r],2][OverHat[t]]];\n",
    "dJdt // TraditionalForm"
   ]
  },
  {
   "cell_type": "markdown",
   "metadata": {},
   "source": [
    "<span style=\"color:red\">**NB:**</span> В файле Binary.pdf выводится <span style=\"color:green\">**точно такое же**</span> выражение"
   ]
  },
  {
   "cell_type": "markdown",
   "metadata": {},
   "source": [
    "$$\n",
    "I_J = I_1 = \\hat{r}_2 \\left[ 120\\hat{r}_2^{(1)}\\omega^2\\omega^{(1)} - 5\\hat{r}_2^{(1)}\\omega^{(3)} - 16\\hat{r}_2\\omega^5 - 10\\hat{r}_2^{(2)}\\omega^{(2)} + 60\\hat{r}_2\\omega(\\omega^{(1)})^2\n",
    "- 10\\hat{r}_2^{(3)}\\omega^{(1)} + 40\\hat{r}_2^{(2)}\\omega^3 - 5\\hat{r}_2^{(4)}\\omega - \\hat{r}_2\\omega^{(4)} + 40\\hat{r}_2\\omega^2\\omega^{(2)} \\right]\n",
    "$$"
   ]
  },
  {
   "cell_type": "code",
   "execution_count": 857,
   "metadata": {
    "vscode": {
     "languageId": "wolfram"
    }
   },
   "outputs": [
    {
     "data": {
      "text/html": [
       "<div><pre style=\"&#102;&#111;&#110;&#116;&#45;&#102;&#97;&#109;&#105;&#108;&#121;&#58;&#32;&#34;&#67;&#111;&#117;&#114;&#105;&#101;&#114;&#32;&#78;&#101;&#119;&#34;&#44;&#67;&#111;&#117;&#114;&#105;&#101;&#114;&#44;&#109;&#111;&#110;&#111;&#115;&#112;&#97;&#99;&#101;&#59;\">&#48;</pre></div>"
      ],
      "text/plain": [
       "0"
      ]
     },
     "execution_count": 857,
     "metadata": {
      "text/html": [],
      "text/plain": []
     },
     "output_type": "execute_result"
    }
   ],
   "source": [
    "I1 = Subscript[OverHat[r], 2][OverHat[t]] * (\n",
    "    120 * Derivative[1][Subscript[OverHat[r], 2]][OverHat[t]] *\n",
    "    OverHat[\\[Omega]][OverHat[t]]^2 * Derivative[1][OverHat[\\[Omega]]][OverHat[t]]\n",
    "    - 5 * Derivative[1][Subscript[OverHat[r], 2]][OverHat[t]] *\n",
    "    Derivative[3][OverHat[\\[Omega]]][OverHat[t]]\n",
    "    - 16 * Subscript[OverHat[r], 2][OverHat[t]] *\n",
    "    OverHat[\\[Omega]][OverHat[t]]^5\n",
    "    - 10 * Derivative[2][Subscript[OverHat[r], 2]][OverHat[t]] *\n",
    "    Derivative[2][OverHat[\\[Omega]]][OverHat[t]]\n",
    "    + 60 * Subscript[OverHat[r], 2][OverHat[t]] *\n",
    "    OverHat[\\[Omega]][OverHat[t]] * Derivative[1][OverHat[\\[Omega]]][OverHat[t]]^2\n",
    "    - 10 * Derivative[3][Subscript[OverHat[r], 2]][OverHat[t]] *\n",
    "    Derivative[1][OverHat[\\[Omega]]][OverHat[t]]\n",
    "    + 40 * Derivative[2][Subscript[OverHat[r], 2]][OverHat[t]] *\n",
    "    OverHat[\\[Omega]][OverHat[t]]^3\n",
    "    - 5 * Derivative[4][Subscript[OverHat[r], 2]][OverHat[t]] *\n",
    "    OverHat[\\[Omega]][OverHat[t]]\n",
    "    - Subscript[OverHat[r], 2][OverHat[t]] *\n",
    "    Derivative[4][OverHat[\\[Omega]]][OverHat[t]]\n",
    "    + 40 * Subscript[OverHat[r], 2][OverHat[t]] *\n",
    "    OverHat[\\[Omega]][OverHat[t]]^2 * Derivative[2][OverHat[\\[Omega]]][OverHat[t]]\n",
    ");\n",
    "dJdt - I1"
   ]
  },
  {
   "cell_type": "markdown",
   "metadata": {},
   "source": [
    "# RHS уравнения (dE/dt)"
   ]
  },
  {
   "cell_type": "code",
   "execution_count": null,
   "metadata": {
    "vscode": {
     "languageId": "wolfram"
    }
   },
   "outputs": [
    {
     "data": {
      "text/html": [
       "<div><img alt=\"Output\" src=\"data:image/png;base64,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\"></div>"
      ],
      "text/plain": [
       "FormBox[RowBox[{RowBox[{\"-\", FractionBox[\"1\", \"3\"]}], \" \", OverscriptBox[\"r\", \"^\"], \n",
       "\n",
       " \n",
       ">        \" \", RowBox[{\"(\", RowBox[{RowBox[{\"3\", \" \", OverscriptBox[\"r\", \"^\"], \" \", \n",
       "\n",
       " \n",
       ">              OverscriptBox[\"ω\", \"^\"], \" \", \n",
       "\n",
       " \n",
       ">              RowBox[{\"(\", RowBox[{RowBox[{\"-\", \n",
       "\n",
       " \n",
       ">                    RowBox[{\"40\", \" \", SuperscriptBox[OverscriptBox[\"ω\", \"^\"], \"2\"], \n",
       "\n",
       " \n",
       ">                      \" \", RowBox[{\"(\", \n",
       "\n",
       " \n",
       ">                        RowBox[{RowBox[{\"3\", \" \", \n",
       "\n",
       " \n",
       ">                            SuperscriptBox[SubscriptBox[OverscriptBox[\"r\", \"^\"], \n",
       "\n",
       " \n",
       ">                              \"2\"], \"′\"], \" \", \n",
       "\n",
       " \n",
       ">                            SuperscriptBox[OverscriptBox[\"ω\", \"^\"], \"′\"]}], \"+\", \n",
       "\n",
       " \n",
       ">                          RowBox[{SubscriptBox[OverscriptBox[\"r\", \"^\"], \"2\"], \" \", \n",
       "\n",
       " \n",
       ">                            SuperscriptBox[OverscriptBox[\"ω\", \"^\"], \"′′\"]}]}], \")\"}]}]\\\n",
       "\n",
       " \n",
       ">   }], \"+\", RowBox[{\"5\", \" \", SuperscriptBox[SubscriptBox[OverscriptBox[\"r\", \"^\"], \n",
       "\n",
       " \n",
       ">                      \"2\"], \"′\"], \" \", SuperscriptBox[OverscriptBox[\"ω\", \"^\"], \"′′′\"]}\\\n",
       "\n",
       " \n",
       ">   ], \"+\", RowBox[{\"10\", \" \", SuperscriptBox[SubscriptBox[OverscriptBox[\"r\", \"^\"], \n",
       "\n",
       " \n",
       ">                      \"2\"], \"′′′\"], \" \", SuperscriptBox[OverscriptBox[\"ω\", \"^\"], \"′\"]}\\\n",
       "\n",
       " \n",
       ">   ], \"+\", RowBox[{OverscriptBox[\"ω\", \"^\"], \" \", \n",
       "\n",
       " \n",
       ">                    RowBox[{\"(\", RowBox[{RowBox[{\"5\", \" \", \n",
       "\n",
       " \n",
       ">                          SuperscriptBox[SubscriptBox[OverscriptBox[\"r\", \"^\"], \n",
       "\n",
       " \n",
       ">                            \"2\"], \"′′′′\"]}], \"-\", \n",
       "\n",
       " \n",
       ">                        RowBox[{\"60\", \" \", \n",
       "\n",
       " \n",
       ">                          SubscriptBox[OverscriptBox[\"r\", \"^\"], \"2\"], \" \", \n",
       "\n",
       " \n",
       ">                          SuperscriptBox[RowBox[{\"(\", \n",
       "\n",
       " \n",
       ">                             SuperscriptBox[OverscriptBox[\"ω\", \"^\"], \"′\"], \")\"}], \n",
       "\n",
       " \n",
       ">                           \"2\"]}]}], \")\"}]}], \"-\", \n",
       "\n",
       " \n",
       ">                  RowBox[{\"40\", \" \", SuperscriptBox[OverscriptBox[\"ω\", \"^\"], \"3\"], \n",
       "\n",
       " \n",
       ">                    \" \", SuperscriptBox[SubscriptBox[OverscriptBox[\"r\", \"^\"], \"2\"], \n",
       "\n",
       " \n",
       ">                     \"′′\"]}], \"+\", RowBox[{\"10\", \" \", \n",
       "\n",
       " \n",
       ">                    SuperscriptBox[SubscriptBox[OverscriptBox[\"r\", \"^\"], \"2\"], \"′′\"], \n",
       "\n",
       " \n",
       ">                    \" \", SuperscriptBox[OverscriptBox[\"ω\", \"^\"], \"′′\"]}], \"+\", \n",
       "\n",
       " \n",
       ">                  RowBox[{SubscriptBox[OverscriptBox[\"r\", \"^\"], \"2\"], \" \", \n",
       "\n",
       " \n",
       ">                    SuperscriptBox[OverscriptBox[\"ω\", \"^\"], \"′′′′\"]}], \"+\", \n",
       "\n",
       " \n",
       ">                  RowBox[{\"16\", \" \", SubscriptBox[OverscriptBox[\"r\", \"^\"], \"2\"], \" \", \n",
       "\n",
       " \n",
       ">                    SuperscriptBox[OverscriptBox[\"ω\", \"^\"], \"5\"]}]}], \")\"}]}], \"+\", \n",
       "\n",
       " \n",
       ">            RowBox[{\"2\", \" \", SuperscriptBox[OverscriptBox[\"r\", \"^\"], \"′\"], \" \", \n",
       "\n",
       " \n",
       ">              RowBox[{\"(\", RowBox[{RowBox[{\"-\", \n",
       "\n",
       " \n",
       ">                    RowBox[{\"15\", \" \", OverscriptBox[\"ω\", \"^\"], \" \", \n",
       "\n",
       " \n",
       ">                      RowBox[{\"(\", RowBox[{RowBox[{\"4\", \" \", \n",
       "\n",
       " \n",
       ">                            SuperscriptBox[SubscriptBox[OverscriptBox[\"r\", \"^\"], \n",
       "\n",
       " \n",
       ">                              \"2\"], \"′\"], \" \", \n",
       "\n",
       " \n",
       ">                            SuperscriptBox[OverscriptBox[\"ω\", \"^\"], \"′′\"]}], \"+\", \n",
       "\n",
       " \n",
       ">                          RowBox[{\"6\", \" \", \n",
       "\n",
       " \n",
       ">                            SuperscriptBox[SubscriptBox[OverscriptBox[\"r\", \"^\"], \n",
       "\n",
       " \n",
       ">                              \"2\"], \"′′\"], \" \", \n",
       "\n",
       " \n",
       ">                            SuperscriptBox[OverscriptBox[\"ω\", \"^\"], \"′\"]}], \"+\", \n",
       "\n",
       " \n",
       ">                          RowBox[{SubscriptBox[OverscriptBox[\"r\", \"^\"], \"2\"], \" \", \n",
       "\n",
       " \n",
       ">                            SuperscriptBox[OverscriptBox[\"ω\", \"^\"], \"′′′\"]}]}],\\\n",
       " \n",
       ">    \")\"}]}]\\\n",
       "}], \"-\", RowBox[{\"30\", \" \", SubscriptBox[OverscriptBox[\"r\", \"^\"], \"2\"], \"\\\n",
       " \n",
       ">    \", \n",
       "                 SuperscriptBox[OverscriptBox[\"ω\", \"^\"], \"′\"], \" \", \n",
       "\n",
       " \n",
       ">                    SuperscriptBox[OverscriptBox[\"ω\", \"^\"], \"′′\"]}], \"+\", \n",
       "\n",
       " \n",
       ">                  RowBox[{\"60\", \" \", SuperscriptBox[OverscriptBox[\"ω\", \"^\"], \"4\"], \n",
       "\n",
       " \n",
       ">                    \" \", SuperscriptBox[SubscriptBox[OverscriptBox[\"r\", \"^\"], \"2\"], \n",
       "\n",
       " \n",
       ">                     \"′\"]}], \"+\", RowBox[{\"120\", \" \", \n",
       "\n",
       " \n",
       ">                    SubscriptBox[OverscriptBox[\"r\", \"^\"], \"2\"], \" \", \n",
       "\n",
       " \n",
       ">                    SuperscriptBox[OverscriptBox[\"ω\", \"^\"], \"3\"], \" \", \n",
       "\n",
       " \n",
       ">                    SuperscriptBox[OverscriptBox[\"ω\", \"^\"], \"′\"]}], \"-\", \n",
       "\n",
       " \n",
       ">                  RowBox[{\"45\", \" \", \n",
       "\n",
       " \n",
       ">                    SuperscriptBox[SubscriptBox[OverscriptBox[\"r\", \"^\"], \"2\"], \"′\"], \n",
       "\n",
       " \n",
       ">                    \" \", SuperscriptBox[RowBox[{\"(\", \n",
       "\n",
       " \n",
       ">                       SuperscriptBox[OverscriptBox[\"ω\", \"^\"], \"′\"], \")\"}], \"2\"]}], \n",
       "\n",
       " \n",
       ">                  \"-\", RowBox[{\"30\", \" \", \n",
       "\n",
       " \n",
       ">                    SuperscriptBox[OverscriptBox[\"ω\", \"^\"], \"2\"], \" \", \n",
       "\n",
       " \n",
       ">                    SuperscriptBox[SubscriptBox[OverscriptBox[\"r\", \"^\"], \"2\"],\\\n",
       " \n",
       ">    \"′′′\"]}]\\\n",
       ", \"+\", SuperscriptBox[SubscriptBox[OverscriptBox[\"r\", \"^\"], \"2\"],\\\n",
       " \n",
       ">    \"′′′′′\"]}], \")\"}]}]}\\\n",
       "], \")\"}]}], TraditionalForm]\n"
      ]
     },
     "execution_count": 880,
     "metadata": {
      "text/html": [],
      "text/plain": []
     },
     "output_type": "execute_result"
    }
   ],
   "source": [
    "dEdtTemp = RHSEnegryLagrange[[1]] /. replacementRules /. OmegaReplace;\n",
    "dEdt = Simplify[dEdtTemp/Subscript[\\[Epsilon], G] /. Sqrt[Subscript[OverHat[r],2][OverHat[t]]] -> OverHat[r][OverHat[t]], Trig -> True];\n",
    "dEdt // TraditionalForm"
   ]
  },
  {
   "cell_type": "markdown",
   "metadata": {},
   "source": [
    "<span style=\"color:red\">**NB:**</span> В файлах Binary.pdf и binary_catch.pdf выводится <span style=\"color:green\">**точно такие же**</span> выражения для правой части (dE/dt),\n",
    "а именно $I_E = I_1\\omega + I_2\\frac{\\dot{r}}{r}$, где\n",
    "$$\n",
    "I_2 = 2\\hat{r}_2 \\left[ -40\\hat{r}_2\\omega^3\\omega^{(1)} - 20\\omega^4\\hat{r}_2^{(1)} + 5\\hat{r}_2\\omega\\omega^{(3)} + 10\\hat{r}_2\\omega^{(1)}\\omega^{(2)} + 10\\omega^2\\hat{r}_2^{(3)} + 30\\omega\\omega^{(1)}\\hat{r}_2^{(2)} + 20\\omega\\omega^{(2)}\\hat{r}_2^{(1)} + 15\\hat{r}_2^{(1)}(\\omega^{(1)})^2 - \\frac{1}{3}\\hat{r}_2^{(5)} \\right]\n",
    "$$"
   ]
  },
  {
   "cell_type": "code",
   "execution_count": 898,
   "metadata": {
    "vscode": {
     "languageId": "wolfram"
    }
   },
   "outputs": [
    {
     "data": {
      "text/html": [
       "<div><pre style=\"&#102;&#111;&#110;&#116;&#45;&#102;&#97;&#109;&#105;&#108;&#121;&#58;&#32;&#34;&#67;&#111;&#117;&#114;&#105;&#101;&#114;&#32;&#78;&#101;&#119;&#34;&#44;&#67;&#111;&#117;&#114;&#105;&#101;&#114;&#44;&#109;&#111;&#110;&#111;&#115;&#112;&#97;&#99;&#101;&#59;\">&#48;</pre></div>"
      ],
      "text/plain": [
       "0"
      ]
     },
     "execution_count": 898,
     "metadata": {
      "text/html": [],
      "text/plain": []
     },
     "output_type": "execute_result"
    }
   ],
   "source": [
    "I2 = 2 * Subscript[OverHat[r], 2][OverHat[t]] * (\n",
    "    -40 * Subscript[OverHat[r], 2][OverHat[t]] *\n",
    "    OverHat[\\[Omega]][OverHat[t]]^3 * Derivative[1][OverHat[\\[Omega]]][OverHat[t]]\n",
    "    - 20 * OverHat[\\[Omega]][OverHat[t]]^4 *\n",
    "    Derivative[1][Subscript[OverHat[r], 2]][OverHat[t]]\n",
    "    + 5 * Subscript[OverHat[r], 2][OverHat[t]] *\n",
    "    OverHat[\\[Omega]][OverHat[t]] * Derivative[3][OverHat[\\[Omega]]][OverHat[t]]\n",
    "    + 10 * Subscript[OverHat[r], 2][OverHat[t]] *\n",
    "    Derivative[1][OverHat[\\[Omega]]][OverHat[t]] *\n",
    "    Derivative[2][OverHat[\\[Omega]]][OverHat[t]]\n",
    "    + 10 * OverHat[\\[Omega]][OverHat[t]]^2 *\n",
    "    Derivative[3][Subscript[OverHat[r], 2]][OverHat[t]]\n",
    "    + 30 * OverHat[\\[Omega]][OverHat[t]] *\n",
    "    Derivative[1][OverHat[\\[Omega]]][OverHat[t]] *\n",
    "    Derivative[2][Subscript[OverHat[r], 2]][OverHat[t]]\n",
    "    + 20 * OverHat[\\[Omega]][OverHat[t]] *\n",
    "    Derivative[2][OverHat[\\[Omega]]][OverHat[t]] *\n",
    "    Derivative[1][Subscript[OverHat[r], 2]][OverHat[t]]\n",
    "    + 15 * Derivative[1][Subscript[OverHat[r], 2]][OverHat[t]] *\n",
    "    Derivative[1][OverHat[\\[Omega]]][OverHat[t]]^2\n",
    "    - (1/3) * Derivative[5][Subscript[OverHat[r], 2]][OverHat[t]]\n",
    ");\n",
    "Simplify[I2*D[OverHat[r][OverHat[t]], OverHat[t]]/OverHat[r][OverHat[t]] + I1*OverHat[\\[Omega]][OverHat[t]] - dEdt /. Subscript[OverHat[r],2][OverHat[t]] -> OverHat[r][OverHat[t]]^2]"
   ]
  },
  {
   "cell_type": "code",
   "execution_count": 899,
   "metadata": {
    "vscode": {
     "languageId": "wolfram"
    }
   },
   "outputs": [
    {
     "data": {
      "text/html": [
       "<div>&#36;&#36;&#45;&#92;&#102;&#114;&#97;&#99;&#123;&#49;&#125;&#123;&#51;&#125;&#32;&#92;&#104;&#97;&#116;&#123;&#114;&#125;&#32;&#92;&#108;&#101;&#102;&#116;&#40;&#51;&#32;&#92;&#104;&#97;&#116;&#123;&#114;&#125;&#32;&#92;&#104;&#97;&#116;&#123;&#92;&#111;&#109;&#101;&#103;&#97;&#32;&#125;&#32;&#92;&#108;&#101;&#102;&#116;&#40;&#45;&#52;&#48;&#32;&#92;&#104;&#97;&#116;&#123;&#92;&#111;&#109;&#101;&#103;&#97;&#32;&#125;&#94;&#50;&#32;&#92;&#108;&#101;&#102;&#116;&#40;&#51;&#32;&#92;&#104;&#97;&#116;&#123;&#114;&#125;&#95;&#50;&#39;&#32;&#92;&#104;&#97;&#116;&#123;&#92;&#111;&#109;&#101;&#103;&#97;&#32;&#125;&#39;&#43;&#92;&#104;&#97;&#116;&#123;&#114;&#125;&#95;&#50;&#32;&#92;&#104;&#97;&#116;&#123;&#92;&#111;&#109;&#101;&#103;&#97;&#32;&#125;&#39;&#39;&#92;&#114;&#105;&#103;&#104;&#116;&#41;&#43;&#53;&#32;&#92;&#104;&#97;&#116;&#123;&#114;&#125;&#95;&#50;&#39;&#32;&#92;&#104;&#97;&#116;&#123;&#92;&#111;&#109;&#101;&#103;&#97;&#32;&#125;&#39;&#39;&#39;&#43;&#49;&#48;&#32;&#92;&#104;&#97;&#116;&#123;&#114;&#125;&#95;&#50;&#39;&#39;&#39;&#32;&#92;&#104;&#97;&#116;&#123;&#92;&#111;&#109;&#101;&#103;&#97;&#32;&#125;&#39;&#43;&#92;&#104;&#97;&#116;&#123;&#92;&#111;&#109;&#101;&#103;&#97;&#32;&#125;&#32;&#92;&#108;&#101;&#102;&#116;&#40;&#53;&#32;&#92;&#104;&#97;&#116;&#123;&#114;&#125;&#95;&#50;&#39;&#39;&#39;&#39;&#45;&#54;&#48;&#32;&#92;&#104;&#97;&#116;&#123;&#114;&#125;&#95;&#50;&#32;&#92;&#108;&#101;&#102;&#116;&#40;&#92;&#104;&#97;&#116;&#123;&#92;&#111;&#109;&#101;&#103;&#97;&#32;&#125;&#39;&#92;&#114;&#105;&#103;&#104;&#116;&#41;&#94;&#50;&#92;&#114;&#105;&#103;&#104;&#116;&#41;&#45;&#52;&#48;&#32;&#92;&#104;&#97;&#116;&#123;&#92;&#111;&#109;&#101;&#103;&#97;&#32;&#125;&#94;&#51;&#32;&#92;&#104;&#97;&#116;&#123;&#114;&#125;&#95;&#50;&#39;&#39;&#43;&#49;&#48;&#32;&#92;&#104;&#97;&#116;&#123;&#114;&#125;&#95;&#50;&#39;&#39;&#32;&#92;&#104;&#97;&#116;&#123;&#92;&#111;&#109;&#101;&#103;&#97;&#32;&#125;&#39;&#39;&#43;&#92;&#104;&#97;&#116;&#123;&#114;&#125;&#95;&#50;&#32;&#92;&#104;&#97;&#116;&#123;&#92;&#111;&#109;&#101;&#103;&#97;&#32;&#125;&#39;&#39;&#39;&#39;&#43;&#49;&#54;&#32;&#92;&#104;&#97;&#116;&#123;&#114;&#125;&#95;&#50;&#32;&#92;&#104;&#97;&#116;&#123;&#92;&#111;&#109;&#101;&#103;&#97;&#32;&#125;&#94;&#53;&#92;&#114;&#105;&#103;&#104;&#116;&#41;&#43;&#50;&#32;&#92;&#104;&#97;&#116;&#123;&#114;&#125;&#39;&#32;&#92;&#108;&#101;&#102;&#116;&#40;&#45;&#49;&#53;&#32;&#92;&#104;&#97;&#116;&#123;&#92;&#111;&#109;&#101;&#103;&#97;&#32;&#125;&#32;&#92;&#108;&#101;&#102;&#116;&#40;&#52;&#32;&#92;&#104;&#97;&#116;&#123;&#114;&#125;&#95;&#50;&#39;&#32;&#92;&#104;&#97;&#116;&#123;&#92;&#111;&#109;&#101;&#103;&#97;&#32;&#125;&#39;&#39;&#43;&#54;&#32;&#92;&#104;&#97;&#116;&#123;&#114;&#125;&#95;&#50;&#39;&#39;&#32;&#92;&#104;&#97;&#116;&#123;&#92;&#111;&#109;&#101;&#103;&#97;&#32;&#125;&#39;&#43;&#92;&#104;&#97;&#116;&#123;&#114;&#125;&#95;&#50;&#32;&#92;&#104;&#97;&#116;&#123;&#92;&#111;&#109;&#101;&#103;&#97;&#32;&#125;&#39;&#39;&#39;&#92;&#114;&#105;&#103;&#104;&#116;&#41;&#45;&#51;&#48;&#32;&#92;&#104;&#97;&#116;&#123;&#114;&#125;&#95;&#50;&#32;&#92;&#104;&#97;&#116;&#123;&#92;&#111;&#109;&#101;&#103;&#97;&#32;&#125;&#39;&#32;&#92;&#104;&#97;&#116;&#123;&#92;&#111;&#109;&#101;&#103;&#97;&#32;&#125;&#39;&#39;&#43;&#54;&#48;&#32;&#92;&#104;&#97;&#116;&#123;&#92;&#111;&#109;&#101;&#103;&#97;&#32;&#125;&#94;&#52;&#32;&#92;&#104;&#97;&#116;&#123;&#114;&#125;&#95;&#50;&#39;&#43;&#49;&#50;&#48;&#32;&#92;&#104;&#97;&#116;&#123;&#114;&#125;&#95;&#50;&#32;&#92;&#104;&#97;&#116;&#123;&#92;&#111;&#109;&#101;&#103;&#97;&#32;&#125;&#94;&#51;&#32;&#92;&#104;&#97;&#116;&#123;&#92;&#111;&#109;&#101;&#103;&#97;&#32;&#125;&#39;&#45;&#52;&#53;&#32;&#92;&#104;&#97;&#116;&#123;&#114;&#125;&#95;&#50;&#39;&#32;&#92;&#108;&#101;&#102;&#116;&#40;&#92;&#104;&#97;&#116;&#123;&#92;&#111;&#109;&#101;&#103;&#97;&#32;&#125;&#39;&#92;&#114;&#105;&#103;&#104;&#116;&#41;&#94;&#50;&#45;&#51;&#48;&#32;&#92;&#104;&#97;&#116;&#123;&#92;&#111;&#109;&#101;&#103;&#97;&#32;&#125;&#94;&#50;&#32;&#92;&#104;&#97;&#116;&#123;&#114;&#125;&#95;&#50;&#39;&#39;&#39;&#43;&#92;&#104;&#97;&#116;&#123;&#114;&#125;&#95;&#50;&#39;&#39;&#39;&#39;&#39;&#92;&#114;&#105;&#103;&#104;&#116;&#41;&#92;&#114;&#105;&#103;&#104;&#116;&#41;&#36;&#36;</div>"
      ],
      "text/plain": [
       "-\\frac{1}{3} \\hat{r} \\left(3 \\hat{r} \\hat{\\omega } \\left(-40 \\hat{\\omega }^2 \\left(3\\\n",
       " \n",
       ">   \\hat{r}_2' \\hat{\\omega }'+\\hat{r}_2 \\hat{\\omega }''\\right)+5 \\hat{r}_2' \\hat{\\omega\\\n",
       " \n",
       ">   }'''+10 \\hat{r}_2''' \\hat{\\omega }'+\\hat{\\omega } \\left(5 \\hat{r}_2''''-60 \\hat{r}_2\\\n",
       " \n",
       ">   \\left(\\hat{\\omega }'\\right)^2\\right)-40 \\hat{\\omega }^3 \\hat{r}_2''+10 \\hat{r}_2''\\\n",
       " \n",
       ">   \\hat{\\omega }''+\\hat{r}_2 \\hat{\\omega }''''+16 \\hat{r}_2 \\hat{\\omega }^5\\right)+2\\\n",
       " \n",
       ">   \\hat{r}' \\left(-15 \\hat{\\omega } \\left(4 \\hat{r}_2' \\hat{\\omega }''+6 \\hat{r}_2''\\\n",
       " \n",
       ">   \\hat{\\omega }'+\\hat{r}_2 \\hat{\\omega }'''\\right)-30 \\hat{r}_2 \\hat{\\omega }'\\\n",
       " \n",
       ">   \\hat{\\omega }''+60 \\hat{\\omega }^4 \\hat{r}_2'+120 \\hat{r}_2 \\hat{\\omega }^3\\\n",
       " \n",
       ">   \\hat{\\omega }'-45 \\hat{r}_2' \\left(\\hat{\\omega }'\\right)^2-30 \\hat{\\omega }^2\\\n",
       " \n",
       ">   \\hat{r}_2'''+\\hat{r}_2'''''\\right)\\right)"
      ]
     },
     "execution_count": 899,
     "metadata": {
      "text/html": [],
      "text/plain": []
     },
     "output_type": "execute_result"
    }
   ],
   "source": [
    "TeXForm[dEdt]"
   ]
  },
  {
   "cell_type": "markdown",
   "metadata": {},
   "source": [
    "# $I_E$, $I_J$\n",
    "\n",
    "$$\n",
    "\\begin{align}\n",
    "\\tag{IE}\n",
    "I_E &= \\frac{1}{3} \\hat{r} \\left[3 \\hat{r} \\hat{\\omega } \\left(-40 \\hat{\\omega }^2 \\left(3 \\hat{r}_2' \\hat{\\omega }'+\\hat{r}_2 \\hat{\\omega }''\\right)+5 \\hat{r}_2' \\hat{\\omega }'''+10 \\hat{r}_2''' \\hat{\\omega }'+\\hat{\\omega } \\left(5 \\hat{r}_2''''-60 \\hat{r}_2 \\left(\\hat{\\omega }'\\right)^2\\right)-40 \\hat{\\omega }^3 \\hat{r}_2''+10 \\hat{r}_2'' \\hat{\\omega }''+\\hat{r}_2 \\hat{\\omega }''''+16 \\hat{r}_2 \\hat{\\omega }^5\\right)+2 \\hat{r}' \\left(-15 \\hat{\\omega } \\left(4 \\hat{r}_2' \\hat{\\omega }''+6 \\hat{r}_2'' \\hat{\\omega }'+\\hat{r}_2 \\hat{\\omega }'''\\right)-30 \\hat{r}_2 \\hat{\\omega }' \\hat{\\omega }''+60 \\hat{\\omega }^4 \\hat{r}_2'+120 \\hat{r}_2 \\hat{\\omega }^3 \\hat{\\omega }'-45 \\hat{r}_2' \\left(\\hat{\\omega }'\\right)^2-30 \\hat{\\omega }^2 \\hat{r}_2'''+\\hat{r}_2'''''\\right)\\right]\n",
    "\\\\\n",
    "\\tag{IJ}\n",
    "I_J &= \\hat{r}_2 \\left[ 120\\hat{r}_2^{(1)}\\omega^2\\omega^{(1)} - 5\\hat{r}_2^{(1)}\\omega^{(3)} - 16\\hat{r}_2\\omega^5 - 10\\hat{r}_2^{(2)}\\omega^{(2)} + 60\\hat{r}_2\\omega(\\omega^{(1)})^2\n",
    "- 10\\hat{r}_2^{(3)}\\omega^{(1)} + 40\\hat{r}_2^{(2)}\\omega^3 - 5\\hat{r}_2^{(4)}\\omega - \\hat{r}_2\\omega^{(4)} + 40\\hat{r}_2\\omega^2\\omega^{(2)} \\right]\n",
    "\\end{align}\n",
    "$$"
   ]
  },
  {
   "cell_type": "code",
   "execution_count": 1338,
   "metadata": {
    "vscode": {
     "languageId": "wolfram"
    }
   },
   "outputs": [
    {
     "data": {
      "text/html": [
       "<div><img alt=\"Output\" src=\"data:image/png;base64,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\"></div>"
      ],
      "text/plain": [
       "   ^ ^ 5 ^  ^ 2      ^ ^  ^  ^ 2  ^   ^ 2      ^ ^ 2 ^  ^   ^   ^   ^    ^\n",
       "16 ω[t]  r [t]  + 12 ω[t] r [t]  (ω)'[t]  + 24 ω[t]  r [t] (ω)'[t] (r )'[t] + \n",
       "          2                2                          2              2\n",
       " \n",
       "       ^ ^ 3  ^    ^ 2     ^ ^ 2 ^  ^ 2  ^    ^       ^ ^ 3 ^  ^   ^     ^\n",
       ">   24 ω[t]  (r )'[t]  - 4 ω[t]  r [t]  (ω)''[t] - 16 ω[t]  r [t] (r )''[t] + \n",
       "               2                  2                          2      2\n",
       " \n",
       "       ^   ^   ^    ^   ^     ^    ^  ^   ^    ^   ^     ^      ^ ^   ^     ^ 2\n",
       ">   3 (ω)'[t] (r )'[t] (r )''[t] + r [t] (ω)''[t] (r )''[t] + 3 ω[t] (r )''[t]  - \n",
       "                2        2          2               2                  2\n",
       " \n",
       "    ^  ^   ^   ^   ^  (3) ^      ^ ^   ^    ^   ^  (3) ^\n",
       ">   r [t] (ω)'[t] (r )   [t] - 2 ω[t] (r )'[t] (r )   [t]\n",
       "     2              2                   2        2"
      ]
     },
     "execution_count": 1338,
     "metadata": {
      "text/html": [],
      "text/plain": []
     },
     "output_type": "execute_result"
    }
   ],
   "source": [
    "fh2 = Array[If[#1 <= #2,\n",
    "                    Superscript[Subscript[OverHat[f], {x, y}[[#1]], {x, y}[[#2]]], \"(2)\"],\n",
    "                    Superscript[Subscript[OverHat[f], {x, y}[[#2]], {x, y}[[#1]]], \"(2)\"]] &, {2, 2}];\n",
    "fh2 // MatrixForm;\n",
    "fh3 = Array[If[#1 <= #2,\n",
    "                    Superscript[Subscript[OverHat[f], {x, y}[[#1]], {x, y}[[#2]]], \"(3)\"],\n",
    "                    Superscript[Subscript[OverHat[f], {x, y}[[#2]], {x, y}[[#1]]], \"(3)\"]] &, {2, 2}];\n",
    "fh3 // MatrixForm;\n",
    "\n",
    "fh2 = Simplify[D[fh1, {OverHat[t], 2}], Trig -> True];\n",
    "fh3 = Simplify[D[fh1, {OverHat[t], 3}], Trig -> True];\n",
    "\n",
    "Expand[Simplify[EinsteinSummation[{{i, j}, {i, l}, {l, j}}, {LeviCivitaTensor[2], fh2, fh3}] /. OmegaReplace, Trig -> True]]"
   ]
  },
  {
   "cell_type": "markdown",
   "metadata": {},
   "source": [
    "# Интегрирование по частям\n",
    "[Integrate By Parts](https://resources.wolframcloud.com/FunctionRepository/resources/IntegrateByParts/)\n",
    "Contributed by: Wolfram|Alpha Math Team"
   ]
  },
  {
   "cell_type": "code",
   "execution_count": null,
   "metadata": {
    "vscode": {
     "languageId": "wolfram"
    }
   },
   "outputs": [],
   "source": [
    "IntegrateByParts // ClearAll;\n",
    "IntegrateByParts[ args___ ] :=\n",
    "    Module[ { res },\n",
    "        update[ ];\n",
    "        res = Symbol[ \"ResourceFunctionHelpers`IntegrateByParts\" ][ args ];\n",
    "        res /; Head @ res =!= Symbol[ \"ResourceFunctionHelpers`IntegrateByParts\" ]\n",
    "    ];"
   ]
  },
  {
   "cell_type": "code",
   "execution_count": null,
   "metadata": {
    "vscode": {
     "languageId": "wolfram"
    }
   },
   "outputs": [],
   "source": [
    "update // ClearAll;\n",
    "update[ ] /; $VersionNumber <= 12 :=\n",
    "    Once[\n",
    "\n",
    "        If[ MemberQ[ PacletSites[ ], $publicPacletSite ],\n",
    "            PacletManager`PacletUpdate[\n",
    "                \"ResourceFunctionHelpers\",\n",
    "                \"Site\"        -> \"http://pacletserver.wolfram.com\",\n",
    "                \"UpdateSites\" -> True\n",
    "            ]\n",
    "        ];\n",
    "\n",
    "        Quiet @ Block[ { $ContextPath }, Get[ \"ResourceFunctionHelpers`\" ] ]\n",
    "    ];"
   ]
  },
  {
   "cell_type": "code",
   "execution_count": null,
   "metadata": {
    "vscode": {
     "languageId": "wolfram"
    }
   },
   "outputs": [],
   "source": [
    "update // ClearAll;\n",
    "update[ ] /; $VersionNumber <= 12 :=\n",
    "    Once[\n",
    "\n",
    "        If[ MemberQ[ PacletSites[ ], $publicPacletSite ],\n",
    "            PacletManager`PacletUpdate[\n",
    "                \"ResourceFunctionHelpers\",\n",
    "                \"Site\"        -> \"http://pacletserver.wolfram.com\",\n",
    "                \"UpdateSites\" -> True\n",
    "            ]\n",
    "        ];\n",
    "\n",
    "        Quiet @ Block[ { $ContextPath }, Get[ \"ResourceFunctionHelpers`\" ] ]\n",
    "    ];"
   ]
  },
  {
   "cell_type": "markdown",
   "metadata": {},
   "source": [
    "$$\n",
    "  I_4(u) = \\int_{r_1}^\\infty \\frac{24r^2u^6 + 48u^6r + 120r^{3/2}u^4 - 96u^6 + 96u^4\\sqrt{r} - u^2r^2 + 133u^2r - 2r^{3/2}}{r^4\\sqrt{u^2r + 2\\sqrt{r} - u^2}} \\, dr,\n",
    "$$\n",
    "где при $r \\ge r_1$ выражение $u^2r + 2\\sqrt{r} - u^2 \\ge 0$.\n",
    "\n",
    "Всюду предполагается $u \\gt 0$."
   ]
  },
  {
   "cell_type": "markdown",
   "metadata": {},
   "source": [
    "## Интегрант $f_4(u, r)$:"
   ]
  },
  {
   "cell_type": "markdown",
   "metadata": {},
   "source": [
    "$$\n",
    "  f_4(u, r) = \\frac{24r^2u^6 + 48u^6r + 120r^{3/2}u^4 - 96u^6 + 96u^4\\sqrt{r} - u^2r^2 + 133u^2r - 2r^{3/2}}{r^4\\sqrt{u^2r + 2\\sqrt{r} - u^2}}\n",
    "$$"
   ]
  },
  {
   "cell_type": "code",
   "execution_count": null,
   "metadata": {
    "vscode": {
     "languageId": "wolfram"
    }
   },
   "outputs": [],
   "source": [
    "integrand4[u_, r_] = (24*r^2*u^6 + 48*u^6*r + 120*r^(3/2)*u^4 - 96*u^6 + 96*u^4*Sqrt[r] - u^2*r^2 + 133*u^2*r - 2*r^(3/2)) /\n",
    "  (r^4*Sqrt[u^2*r + 2*Sqrt[r] - u^2]);"
   ]
  },
  {
   "cell_type": "markdown",
   "metadata": {},
   "source": [
    "Значение интегранта при любом $u$ на бесконечно больших $r$ равно 0:"
   ]
  },
  {
   "cell_type": "code",
   "execution_count": null,
   "metadata": {
    "vscode": {
     "languageId": "wolfram"
    }
   },
   "outputs": [],
   "source": [
    "Limit[integrand4[u, r], r -> Infinity]"
   ]
  },
  {
   "cell_type": "markdown",
   "metadata": {},
   "source": [
    "### Выражение для левой границы $r_1$"
   ]
  },
  {
   "cell_type": "code",
   "execution_count": null,
   "metadata": {
    "vscode": {
     "languageId": "wolfram"
    }
   },
   "outputs": [],
   "source": [
    "eqr1[u_, r_] = u^2*r + 2*Sqrt[r] - u^2;\n",
    "sol = Assuming[{u ∈ Reals, r ∈ Reals, r > 0}, Solve[eqr1[u, r] == 0, r]];\n",
    "r1[u_] = Simplify[r/.sol[[1]]]"
   ]
  },
  {
   "cell_type": "markdown",
   "metadata": {},
   "source": [
    "$r_1$ обращается в 0 при $u \\rightarrow 0$:"
   ]
  },
  {
   "cell_type": "code",
   "execution_count": null,
   "metadata": {
    "vscode": {
     "languageId": "wolfram"
    }
   },
   "outputs": [],
   "source": [
    "Series[r1[u], {u, 0, 5}]\n",
    "Limit[r1[u], u -> 0]"
   ]
  },
  {
   "cell_type": "markdown",
   "metadata": {},
   "source": [
    "И проверим, что знаменатель обращается в 0 при $r = r_1$"
   ]
  },
  {
   "cell_type": "code",
   "execution_count": null,
   "metadata": {
    "vscode": {
     "languageId": "wolfram"
    }
   },
   "outputs": [],
   "source": [
    "PlotR1[u_] := Module[\n",
    "  {points, r1Value},\n",
    "\n",
    "  r1Value = Piecewise[{{0, u == 0}}, r1[u]];\n",
    "  points = {{r1Value, eqr1[u, r1Value]}};\n",
    "\n",
    "  plotLabel = \"u = \" <> ToString[u];\n",
    "\n",
    "  Show[\n",
    "    Plot[\n",
    "      eqr1[u, r],\n",
    "      {r, -1, 10},\n",
    "      AxesLabel -> {\"u\", \"r1\"},\n",
    "      PlotLabel -> plotLabel,\n",
    "      PlotRange -> All\n",
    "    ],\n",
    "    ListPlot[\n",
    "      points,\n",
    "      PlotStyle -> {Red, PointSize[Large]}\n",
    "    ]\n",
    "  ]\n",
    "]\n",
    "\n",
    "plots = {PlotR1[3], PlotR1[0.1], PlotR1[0.0]};\n",
    "GraphicsRow[plots]"
   ]
  },
  {
   "cell_type": "markdown",
   "metadata": {},
   "source": [
    "### Графики функций интегранта $f_4(u_i, r)$:"
   ]
  },
  {
   "cell_type": "code",
   "execution_count": null,
   "metadata": {
    "vscode": {
     "languageId": "wolfram"
    }
   },
   "outputs": [],
   "source": [
    "PlotIntegrand4[u_] := Module[\n",
    "  {r1Value},\n",
    "\n",
    "  r1Value = Piecewise[{{0, u == 0}}, r1[u]];\n",
    "\n",
    "  plotLabel = \"u = \" <> ToString[u];\n",
    "\n",
    "  Plot[\n",
    "    integrand4[u, r],\n",
    "    {r, r1Value, 10^3},\n",
    "    PlotLabel -> plotLabel,\n",
    "    PlotRange -> All,\n",
    "    AxesOrigin -> {0, 0},\n",
    "    AxesLabel -> {\"r\", \"integrand4\"},\n",
    "    ScalingFunctions -> {\"Log\", \"SignedLog\"}\n",
    "  ]\n",
    "]\n",
    "\n",
    "plots = {PlotIntegrand4[0.0], PlotIntegrand4[0.03], PlotIntegrand4[0.3]};\n",
    "GraphicsRow[plots]"
   ]
  },
  {
   "cell_type": "markdown",
   "metadata": {},
   "source": [
    "*Mathematica* очень долго берёт этот интеграл, но выдаёт огромную простыню выражений, которую не может упростить, используя при это коплексную экспоненту."
   ]
  },
  {
   "cell_type": "code",
   "execution_count": null,
   "metadata": {
    "vscode": {
     "languageId": "wolfram"
    }
   },
   "outputs": [],
   "source": [
    "Inactivate[Integrate[integrand4[u, r], {r, r1[u], Infinity}, Assumptions -> {u ∈ Reals, u > 0}]]"
   ]
  },
  {
   "cell_type": "markdown",
   "metadata": {},
   "source": [
    "## Численный график $I_4(u)$ с использованием NIntegrate:"
   ]
  },
  {
   "cell_type": "code",
   "execution_count": null,
   "metadata": {
    "vscode": {
     "languageId": "wolfram"
    }
   },
   "outputs": [],
   "source": [
    "Plot[\n",
    "  NIntegrate[integrand4[u, r], {r, r1[u], Infinity}],\n",
    "  {u, 1, 100},\n",
    "  PlotLabel -> \"NIntegral of integrand4\",\n",
    "  AxesLabel -> {\"u\", \"integrand4\"}\n",
    "]"
   ]
  },
  {
   "cell_type": "markdown",
   "metadata": {
    "vscode": {
     "languageId": "wolfram"
    }
   },
   "source": [
    "## Численный график $I_4(u)$ с использованием Integrate:"
   ]
  },
  {
   "cell_type": "code",
   "execution_count": null,
   "metadata": {
    "vscode": {
     "languageId": "wolfram"
    }
   },
   "outputs": [],
   "source": [
    "(* points = With[\n",
    "  {u := 10^up},\n",
    "  Table[\n",
    "    {u, N[Integrate[integrand4[u, r], {r, r1[u], Infinity}]]},\n",
    "    {up, 0, 2, 0.05}\n",
    "  ]\n",
    "]; *)\n",
    "\n",
    "points = Table[\n",
    "  {u, N[Integrate[integrand4[u, r], {r, r1[u], Infinity}]]},\n",
    "  {u, 1, 100, 1}\n",
    "];\n",
    "\n",
    "ListPlot[\n",
    "  points,\n",
    "  Joined -> True,\n",
    "  PlotRange -> All,\n",
    "  PlotLabel -> \"Integral of integrand4\",\n",
    "  AxesLabel -> {\"u\", \"integral4\"}\n",
    "]"
   ]
  },
  {
   "cell_type": "markdown",
   "metadata": {},
   "source": [
    "## Первообразная $\\tilde{I}_4(u, r)$:"
   ]
  },
  {
   "cell_type": "code",
   "execution_count": null,
   "metadata": {
    "vscode": {
     "languageId": "wolfram"
    }
   },
   "outputs": [],
   "source": [
    "antiderivative4[u_, r_] = Integrate[integrand4[u, r], r]"
   ]
  },
  {
   "cell_type": "markdown",
   "metadata": {
    "vscode": {
     "languageId": "wolfram"
    }
   },
   "source": [
    "Явно определим аргумент комплексного числа:"
   ]
  },
  {
   "cell_type": "code",
   "execution_count": null,
   "metadata": {
    "vscode": {
     "languageId": "wolfram"
    }
   },
   "outputs": [],
   "source": [
    "(* complexLog[z_] := Log[Abs[z]] + I Arg[z]; *)\n",
    "arg[z_] := ArcTan[ComplexExpand[Im[z]]/ComplexExpand[Re[z]]];\n",
    "(* abs[z_] := ComplexExpand[Abs[z]]; *)"
   ]
  },
  {
   "cell_type": "markdown",
   "metadata": {},
   "source": [
    "Применяя его к antiderivative4[u, r], мы получаем действительное выражение, состоящее из двух слагаемых одно без $\\tan^{-1}$, а второе, включающее $\\tan^{-1}$:"
   ]
  },
  {
   "cell_type": "code",
   "execution_count": null,
   "metadata": {
    "vscode": {
     "languageId": "wolfram"
    }
   },
   "outputs": [],
   "source": [
    "antiderivative4s[u_, r_] =\n",
    "  Simplify[\n",
    "    ComplexExpand[\n",
    "      Re[antiderivative4[u, r]]\n",
    "    ] /. Arg -> arg,\n",
    "    {{u, r} ∈ Reals, u > 0, r > r1[u]}\n",
    "  ];\n",
    "\n",
    "antiderivative4s[u_, r_] =\n",
    "  Sqrt[2 Sqrt[r] - u^2 + r u^2] * Simplify[\n",
    "    Expand[\n",
    "      (antiderivative4s[u, r] /. ArcTan[x_] -> 0) /\n",
    "      Sqrt[2 Sqrt[r] - u^2 + r u^2]\n",
    "    ],\n",
    "    {{u, r} ∈ Reals, u > 0, r > 0}\n",
    "  ] -\n",
    "  Cases[antiderivative4s[u, r],\n",
    "    coeff_.*ArcTan[arg_] :> coeff*ArcTan[arg], ∞][[2]] /\n",
    "  (12 * r^3 * u^7)"
   ]
  },
  {
   "cell_type": "markdown",
   "metadata": {},
   "source": [
    "### График первообразной $\\tilde{I}_4(u_i, r)$:"
   ]
  },
  {
   "cell_type": "code",
   "execution_count": null,
   "metadata": {
    "vscode": {
     "languageId": "wolfram"
    }
   },
   "outputs": [],
   "source": [
    "rules = {\n",
    "  eqr1[u, r] -> 0,\n",
    "  ArcTan[x_] -> -Pi/2\n",
    "};\n",
    "\n",
    "PlotAntiderivative[u_] := Module[\n",
    "  {points, antiderivative, r1Value},\n",
    "\n",
    "  r1Value = r1[u]*(1.0+10^-12);\n",
    "  antiderivative =\n",
    "    If[r == r1Value,\n",
    "      antiderivative4s[u, r] /. rules,\n",
    "      antiderivative4s[u, r]\n",
    "    ];\n",
    "\n",
    "  points = {{r1Value, Re[antiderivative /. r -> r1Value]}};\n",
    "\n",
    "  plotLabel = \"u = \" <> ToString[u];\n",
    "\n",
    "  Show[\n",
    "    Plot[\n",
    "      antiderivative,\n",
    "      {r, r1Value, r1Value*2.1},\n",
    "      PlotLabel -> plotLabel,\n",
    "      PlotRange -> All,\n",
    "      AxesLabel -> {\"r\", \"antiderivative4s\"},\n",
    "      ScalingFunctions -> {\"SignedLog\", \"SignedLog\"}\n",
    "    ],\n",
    "    ListPlot[\n",
    "      points,\n",
    "      PlotRange -> All,\n",
    "      PlotStyle -> {Red, PointSize[Large]},\n",
    "      ScalingFunctions -> {\"SignedLog\", \"SignedLog\"}\n",
    "    ]\n",
    "  ]\n",
    "]\n",
    "\n",
    "plots = {PlotAntiderivative[3], PlotAntiderivative[0.1], PlotAntiderivative[5*10.0^-2]};\n",
    "GraphicsRow[plots]"
   ]
  },
  {
   "cell_type": "markdown",
   "metadata": {},
   "source": [
    "## Определённый интеграл, возьмём как разницу первообразных по теореме Ньютона-Лейбница,\n",
    "$$\n",
    "  I_{4,1}(u) = \\int_{r_1}^{\\infty} f_4(u, r) \\, dr = \\tilde{I}_{4}(u, \\infty) - \\tilde{I}_{4}(u, r_1(u)):\n",
    "$$"
   ]
  },
  {
   "cell_type": "markdown",
   "metadata": {},
   "source": [
    "Найдём $\\tilde{I}_{4}(u, \\infty)$:"
   ]
  },
  {
   "cell_type": "code",
   "execution_count": null,
   "metadata": {
    "vscode": {
     "languageId": "wolfram"
    }
   },
   "outputs": [],
   "source": [
    "integral4Inf[u_] = Limit[\n",
    "  antiderivative4s[u, r],\n",
    "  r -> Infinity,\n",
    "  Assumptions -> {u ∈ Reals, u > 0}\n",
    "];\n",
    "\n",
    "integral4Infs[u_] = Simplify[\n",
    "  ComplexExpand[\n",
    "    Re[integral4Inf[u]]\n",
    "  ] /. Arg -> arg,\n",
    "  {{u, r} ∈ Reals, u > 0, r > r1[u]}\n",
    "]"
   ]
  },
  {
   "cell_type": "markdown",
   "metadata": {},
   "source": [
    "Найдём $\\tilde{I}_{4}(r_1(u))$, при этом заметим, что $2\\sqrt{r} - u^2 + r u^2 = 0$, и $\\mathrm{arctan}(-\\infty) = -\\frac{\\pi}{2}$:"
   ]
  },
  {
   "cell_type": "code",
   "execution_count": null,
   "metadata": {
    "vscode": {
     "languageId": "wolfram"
    }
   },
   "outputs": [],
   "source": [
    "integral4r1[u_] = antiderivative4s[u, r] /. rules"
   ]
  },
  {
   "cell_type": "markdown",
   "metadata": {},
   "source": [
    "### Графики функций $\\tilde{I}_{4}(u, r_i)$:"
   ]
  },
  {
   "cell_type": "code",
   "execution_count": null,
   "metadata": {
    "vscode": {
     "languageId": "wolfram"
    }
   },
   "outputs": [],
   "source": [
    "Plot[\n",
    "  {\n",
    "    N[antiderivative4s[u, 1]],\n",
    "    N[antiderivative4s[u, 10^2]],\n",
    "    N[antiderivative4s[u, 10^5]],\n",
    "    N[antiderivative4s[u, 10^10]],\n",
    "    N[integral4Infs[u]]\n",
    "  },\n",
    "  {u, 0, 1000},\n",
    "  AxesLabel -> {\"u\", \"antiderivative4\"},\n",
    "  PlotLegends -> {\n",
    "    \"antiderivative4s[r=1]\",\n",
    "    \"antiderivative4s[r=10^2]\",\n",
    "    \"antiderivative4s[r=10^5]\",\n",
    "    \"antiderivative4s[r=10^10]\",\n",
    "    \"antiderivative4s[r=Infinity]\"\n",
    "  },\n",
    "  ScalingFunctions -> {\"SignedLog\", \"SignedLog\"}\n",
    "]"
   ]
  },
  {
   "cell_type": "code",
   "execution_count": null,
   "metadata": {
    "vscode": {
     "languageId": "wolfram"
    }
   },
   "outputs": [],
   "source": [
    "Plot[\n",
    "  {\n",
    "    N[Re[antiderivative4s[u, r1[u]+10^-2]]],\n",
    "    N[Re[antiderivative4s[u, r1[u]+10^-4]]],\n",
    "    N[Re[antiderivative4s[u, r1[u]+10^-5]]],\n",
    "    N[Re[antiderivative4s[u, r1[u]+1.35*10^-6]]],\n",
    "    N[Re[antiderivative4s[u, r1[u]+10^-7]]],\n",
    "    N[Re[antiderivative4s[u, r1[u]+10^-10]]],\n",
    "    N[Re[antiderivative4s[u, r1[u]+10^-12]]],\n",
    "    N[integral4r1[u]]\n",
    "  },\n",
    "  {u, 0.0, 100},\n",
    "  AxesLabel -> {\"u\", \"antiderivative4\"},\n",
    "  PlotLegends -> {\n",
    "    \"antiderivative4s[r=r1[u]+10^{-2}]\",\n",
    "    \"antiderivative4s[r=r1[u]+10^{-4}]\",\n",
    "    \"antiderivative4s[r=r1[u]+10^{-5}]\",\n",
    "    \"antiderivative4s[r=r1[u]+1.35*10^-6]\",\n",
    "    \"antiderivative4s[r=r1[u]+10^{-7}]\",\n",
    "    \"antiderivative4s[r=r1[u]+10^{-10}]\",\n",
    "    \"antiderivative4s[r=r1[u]+10^{-12}]\",\n",
    "    \"antiderivative4s[r=r1[u]]\"\n",
    "    },\n",
    "  PlotRange -> All,\n",
    "  ScalingFunctions -> {\"Log\", \"SignedLog\"}\n",
    "]"
   ]
  },
  {
   "cell_type": "markdown",
   "metadata": {},
   "source": [
    "## Итоговый ответ для $I_4(u)$:"
   ]
  },
  {
   "cell_type": "code",
   "execution_count": null,
   "metadata": {
    "vscode": {
     "languageId": "wolfram"
    }
   },
   "outputs": [],
   "source": [
    "I4[u_] = Simplify[Collect[Simplify[integral4Infs[u] - integral4r1[u], {u ∈ Reals, u > 0}], (425 + 366*u^4 + 37*u^8)]]"
   ]
  },
  {
   "cell_type": "code",
   "execution_count": null,
   "metadata": {
    "vscode": {
     "languageId": "wolfram"
    }
   },
   "outputs": [],
   "source": [
    "TeXForm[I4[u]]"
   ]
  },
  {
   "cell_type": "markdown",
   "metadata": {},
   "source": [
    "## Сравнение Integrate и аналитической $I_4(u)$"
   ]
  },
  {
   "cell_type": "code",
   "execution_count": null,
   "metadata": {
    "vscode": {
     "languageId": "wolfram"
    }
   },
   "outputs": [],
   "source": [
    "Show[\n",
    "  Plot[\n",
    "    N[I4[u]],\n",
    "    {u, 0, 100},\n",
    "    PlotLabel -> Subscript[\"I\", 4][u],\n",
    "    AxesLabel -> {\"u\", Subscript[\"I\", 4]},\n",
    "    PlotLegends -> {Subscript[\"I\", 4][u]},\n",
    "    ScalingFunctions -> {\"SignedLog\", \"SignedLog\"}\n",
    "  ],\n",
    "  ListPlot[\n",
    "    points,\n",
    "    (* Joined -> True, *)\n",
    "    Mesh -> All,\n",
    "    PlotStyle -> {Red, Dashed},\n",
    "    PlotLegends -> {Subscript[\"Integrate I\", 4][u]},\n",
    "    ScalingFunctions -> {\"SignedLog\", \"SignedLog\"}\n",
    "  ]\n",
    "]"
   ]
  },
  {
   "cell_type": "code",
   "execution_count": null,
   "metadata": {
    "vscode": {
     "languageId": "wolfram"
    }
   },
   "outputs": [],
   "source": [
    "points01 = Table[{u, N[Integrate[integrand4[u, r], {r, r1[u], Infinity}]]}, {u, 0.02, 1, 0.05}];\n",
    "Show[\n",
    "  Plot[\n",
    "    N[I4[u]],\n",
    "    {u, 0, 1},\n",
    "    PlotLabel -> Subscript[\"I\", 4][u],\n",
    "    AxesLabel -> {\"u\", Subscript[\"I\", 4]},\n",
    "    PlotLegends -> {Subscript[\"I\", 4][u]},\n",
    "    ScalingFunctions -> {\"SignedLog\", \"SignedLog\"}\n",
    "  ],\n",
    "  ListPlot[\n",
    "    points01,\n",
    "    (* Joined -> True, *)\n",
    "    Mesh -> All,\n",
    "    PlotStyle -> {Red, Dashed},\n",
    "    PlotLegends -> {Subscript[\"Integrate I\", 4][u]},\n",
    "    ScalingFunctions -> {\"SignedLog\", \"SignedLog\"}\n",
    "  ]\n",
    "]"
   ]
  }
 ],
 "metadata": {
  "kernelspec": {
   "display_name": "Wolfram Language 14.1",
   "language": "Wolfram Language",
   "name": "wolframlanguage14.1"
  },
  "language_info": {
   "codemirror_mode": "mathematica",
   "file_extension": ".m",
   "mimetype": "application/vnd.wolfram.m",
   "name": "Wolfram Language",
   "pygments_lexer": "mathematica",
   "version": "12.0"
  }
 },
 "nbformat": 4,
 "nbformat_minor": 2
}
