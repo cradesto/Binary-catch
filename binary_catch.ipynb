{
 "cells": [
  {
   "cell_type": "markdown",
   "metadata": {},
   "source": [
    "# Binary catch\n",
    "\n",
    "**При каких условиях два тела, налетающие друг на друга с бесконечности (в системе центра масс) станут связной системой из-за испускания гравволн?**"
   ]
  },
  {
   "cell_type": "code",
   "execution_count": 1534,
   "metadata": {
    "vscode": {
     "languageId": "wolfram"
    }
   },
   "outputs": [
    {
     "name": "stdout",
     "output_type": "stream",
     "text": [
      "  (CleanSlate) Contexts purged: {Global`}\n",
      "  (CleanSlate) Approximate kernel memory recovered: 11504 Kb\n"
     ]
    }
   ],
   "source": [
    "(* https://mathematica.stackexchange.com/questions/850/how-do-i-clear-all-user-defined-symbols/861#861 *)\n",
    "<< Utilities`CleanSlate`\n",
    "CleanSlate[];\n",
    "\n",
    "ClearAll[\"Global`*\"]\n",
    "(* ClearSystemCache[] *)\n",
    "(* https://mathematica.stackexchange.com/questions/111605/quit-vs-clearallglobal *)\n",
    "if[Length[Names[\"Global`*\"]] > 0, Remove[\"Global`*\"]];\n",
    "\n",
    "(* PacletInstall[\n",
    "    \"TensorSimplify\",\n",
    "\n",
    "    \"Site\" -> \"http://raw.githubusercontent.com/carlwoll/TensorSimplify/master\"\n",
    "]; *)\n",
    "<<TensorSimplify`"
   ]
  },
  {
   "cell_type": "markdown",
   "metadata": {},
   "source": [
    "## Einstein Summation"
   ]
  },
  {
   "cell_type": "code",
   "execution_count": 1543,
   "metadata": {
    "vscode": {
     "languageId": "wolfram"
    }
   },
   "outputs": [],
   "source": [
    "ClearAll@EinsteinSummation\n",
    "\n",
    "EinsteinSummation[in_List, arrays_] := Module[\n",
    "  {res =\n",
    "    isum[in -> Cases[Tally @ Flatten @ in, {_, 1}][[All, 1]], arrays]},\n",
    "  res /; res =!= $Failed\n",
    "  ]\n",
    "\n",
    "EinsteinSummation[in_List -> out_, arrays_] := Module[\n",
    "  {res = isum[in -> out, arrays]},\n",
    "  res /; res =!= $Failed\n",
    "  ]\n",
    "\n",
    "isum[in_List -> out_, arrays_List] := Catch@Module[\n",
    "  {indices, contracted, uncontracted, contractions, transpose},\n",
    "  If[Length[in] != Length[arrays],\n",
    "    Message[EinsteinSummation::length, Length[in], Length[arrays]];\n",
    "    Throw[$Failed]];\n",
    "  MapThread[\n",
    "    If[IntegerQ@TensorRank[#1] && Length[#1] != TensorRank[#2],\n",
    "      Message[EinsteinSummation::shape, #1, #2];\n",
    "      Throw[$Failed]] &, {in, arrays}];\n",
    "  indices = Tally[Flatten[in, 1]];\n",
    "  If[DeleteCases[indices, {_, 1 | 2}] =!= {},\n",
    "    Message[EinsteinSummation::repeat,\n",
    "      Cases[indices, {x_, Except[1 | 2]} :> x]];\n",
    "    Throw[$Failed]];\n",
    "  uncontracted = Cases[indices, {x_, 1} :> x];\n",
    "  If[Sort[uncontracted] =!= Sort[out],\n",
    "    Message[EinsteinSummation::output, uncontracted, out];\n",
    "    Throw[$Failed]];\n",
    "  contracted = Cases[indices, {x_, 2} :> x];\n",
    "  contractions = Flatten[Position[Flatten[in, 1], #]] & /@ contracted;\n",
    "  transpose = FindPermutation[uncontracted, out];\n",
    "  Activate@\n",
    "    TensorTranspose[\n",
    "      TensorContract[Inactive[TensorProduct] @@ arrays, contractions],\n",
    "    transpose]]\n",
    "\n",
    "EinsteinSummation::length =\n",
    "  \"Number of index specifications (`1`) does not match the number of \\\n",
    "tensors (`2`)\";\n",
    "EinsteinSummation::shape =\n",
    "  \"Index specification `1` does not match the tensor rank of `2`\";\n",
    "EinsteinSummation::repeat =\n",
    "  \"Index specifications `1` are repeated more than twice\";\n",
    "EinsteinSummation::output =\n",
    "  \"The uncontracted indices don't match the desired output\";"
   ]
  },
  {
   "cell_type": "code",
   "execution_count": 1551,
   "metadata": {
    "vscode": {
     "languageId": "wolfram"
    }
   },
   "outputs": [],
   "source": [
    "(* Правила для скрытия аргументов в TraditionalForm *)\n",
    "\n",
    "Unprotect[Subscript, OverHat, Derivative];\n",
    "\n",
    "MakeBoxes[OverHat[r_][OverHat[t]], TraditionalForm] :=\n",
    "  MakeBoxes[OverHat[r], TraditionalForm]\n",
    "\n",
    "MakeBoxes[\\[Phi][OverHat[t]], TraditionalForm] :=\n",
    "  MakeBoxes[\\[Phi], TraditionalForm]\n",
    "\n",
    "MakeBoxes[Subscript[OverHat[r], n_][OverHat[t]], TraditionalForm] :=\n",
    "  SubscriptBox[OverscriptBox[\"r\", \"^\"], ToString[n]];\n",
    "\n",
    "MakeBoxes[OverHat[\\[Omega]][OverHat[t]], TraditionalForm] :=\n",
    "  OverscriptBox[\"\\[Omega]\", \"^\"];\n",
    "\n",
    "MakeBoxes[Derivative[n_][f_][OverHat[t]], TraditionalForm] := Module[{primes},\n",
    "  primes = StringJoin[Table[\"\\[Prime]\", n]];\n",
    "  SuperscriptBox[ToBoxes[f], primes]\n",
    "];\n",
    "\n",
    "Protect[Subscript, OverHat, Derivative];"
   ]
  },
  {
   "cell_type": "markdown",
   "metadata": {},
   "source": [
    "$\\hat{r}_k$"
   ]
  },
  {
   "cell_type": "code",
   "execution_count": 1560,
   "metadata": {
    "vscode": {
     "languageId": "wolfram"
    }
   },
   "outputs": [
    {
     "data": {
      "text/html": [
       "<div><img alt=\"Output\" src=\"data:image/png;base64,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\"></div>"
      ],
      "text/plain": [
       "FormBox[TagBox[RowBox[{\"(\", \"⁠\", \n",
       "\n",
       " \n",
       ">         TagBox[GridBox[{{RowBox[{OverscriptBox[\"r\", \"^\"], \" \", \n",
       "\n",
       " \n",
       ">               RowBox[{\"cos\", \"(\", \"ϕ\", \")\"}]}]}, \n",
       "\n",
       " \n",
       ">            {RowBox[{OverscriptBox[\"r\", \"^\"], \" \", RowBox[{\"sin\", \"(\", \"ϕ\", \")\"}]}]}}, \n",
       "\n",
       " \n",
       ">           Rule[RowSpacings, 1], Rule[ColumnAlignments, Center], \n",
       "\n",
       " \n",
       ">           Rule[ColumnAlignments, Left]], Column], \"⁠\", \")\"}], \n",
       "\n",
       " \n",
       ">       Function[BoxForm`e$, MatrixForm[BoxForm`e$]]], TraditionalForm]\n"
      ]
     },
     "execution_count": 1560,
     "metadata": {
      "text/html": [],
      "text/plain": []
     },
     "output_type": "execute_result"
    }
   ],
   "source": [
    "rh = {OverHat[r][OverHat[t]]*Cos[\\[Phi][OverHat[t]]], OverHat[r][OverHat[t]]*Sin[\\[Phi][OverHat[t]]]};\n",
    "rh // MatrixForm // TraditionalForm"
   ]
  },
  {
   "cell_type": "code",
   "execution_count": 1561,
   "metadata": {
    "vscode": {
     "languageId": "wolfram"
    }
   },
   "outputs": [],
   "source": [
    "$Assumptions = {\n",
    "  {OverHat[r][OverHat[t]], Subscript[OverHat[r],2][OverHat[t]], OverHat[t], u} \\[Element] PositiveReals\n",
    "};\n",
    "$Assumptions = Join[$Assumptions, {rh \\[Element] NonNegativeReals}];"
   ]
  },
  {
   "cell_type": "markdown",
   "metadata": {},
   "source": [
    "## Система движения в декартовых координатах\n",
    "$$\n",
    "\\frac{d^2r_k}{dt^2} = -\\frac{G(m_A+m_B)}{r^3}r_k - \\frac{2}{5}f_{ki}^{(5)}r_i\n",
    "$$\n",
    "\n",
    "Ч.Мизнер, К.Торн, Дж.Уилер Гравтация, Т.3, §36.8, стр. 222\n",
    "\n",
    "Введём обозначения для полной и приведённой масс\n",
    "$$\n",
    "M=m_A+m_B; \\quad\n",
    "\\mu = m_{AB} = \\frac{m_A m_B}{M}\n",
    "$$\n",
    "Задача двух самогравитирующих тел с массами $m_A$ и $m_B$\n",
    "в системе отсчёта центра масс всегда сводится\n",
    "к задаче движения тела массы $\\mu$\n",
    "в центральном поле массы $M$.\n",
    "\n",
    "$f_{ki}$ - квадрупольный момент системы.\n",
    "Задача решается методом последовательных приближений\n",
    "Первоначально строится решение в приближении Ньютона,\n",
    "затем для полученной конфигурации находится квадрупольный момент\n",
    "и находится его пятая производная по времени.\n",
    "Уже на следубщем шаге (уравнение выше)\n",
    "находятся решение с **заданной** функций от времени (**и только времени**) $f_{ki}^{(5)}$."
   ]
  },
  {
   "cell_type": "markdown",
   "metadata": {},
   "source": [
    "### Безразмерные единицы\n",
    "$$\n",
    "\\begin{align}\n",
    "r &= b\\hat{r} \\\\\n",
    "t &= t_0\\hat{t} \\\\\n",
    "f_{ij} &= b^2\\frac{G}{c^5}\\mu\\hat{f}_{ij} \\\\\n",
    "f_{ij}^{(5)} &= \\frac{b^2}{t_0^5}\\frac{G}{c^5}\\mu\\hat{f}_{ij}^{(5)}\n",
    "\\end{align}\n",
    "$$"
   ]
  },
  {
   "cell_type": "markdown",
   "metadata": {},
   "source": [
    "$\\hat{f}_{ki}$"
   ]
  },
  {
   "cell_type": "code",
   "execution_count": 1564,
   "metadata": {
    "vscode": {
     "languageId": "wolfram"
    }
   },
   "outputs": [
    {
     "data": {
      "text/html": [
       "<div><img alt=\"Output\" src=\"data:image/png;base64,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\"></div>"
      ],
      "text/plain": [
       "FormBox[TagBox[RowBox[{\"(\", \"⁠\", \n",
       "\n",
       " \n",
       ">         GridBox[{{RowBox[{FractionBox[\"1\", \"6\"], \" \", \n",
       "\n",
       " \n",
       ">              SuperscriptBox[OverscriptBox[\"r\", \"^\"], \"2\"], \" \", \n",
       "\n",
       " \n",
       ">              RowBox[{\"(\", RowBox[{RowBox[{\"3\", \" \", \n",
       "\n",
       " \n",
       ">                    RowBox[{\"cos\", \"(\", RowBox[{\"2\", \" \", \"ϕ\"}], \")\"}]}], \"+\",\\\n",
       " \n",
       ">    \"1\"}]\\\n",
       ", \")\"}]}], RowBox[{SuperscriptBox[OverscriptBox[\"r\", \"^\"], \"2\"], \" \", \n",
       "\n",
       " \n",
       ">              RowBox[{\"sin\", \"(\", \"ϕ\", \")\"}], \" \", RowBox[{\"cos\", \"(\", \"ϕ\", \")\"}]}]}, \n",
       "\n",
       " \n",
       ">           {RowBox[{SuperscriptBox[OverscriptBox[\"r\", \"^\"], \"2\"], \" \", \n",
       "\n",
       " \n",
       ">              RowBox[{\"sin\", \"(\", \"ϕ\", \")\"}], \" \", RowBox[{\"cos\", \"(\", \"ϕ\", \")\"}]}], \n",
       "\n",
       " \n",
       ">            RowBox[{FractionBox[\"1\", \"3\"], \" \", \n",
       "\n",
       " \n",
       ">              SuperscriptBox[OverscriptBox[\"r\", \"^\"], \"2\"], \" \", \n",
       "\n",
       " \n",
       ">              RowBox[{\"(\", RowBox[{RowBox[{\"3\", \" \", \n",
       "\n",
       " \n",
       ">                    RowBox[{SuperscriptBox[\"sin\", \"2\"], \"(\", \"ϕ\", \")\"}]}], \"-\", \"1\"}], \n",
       "\n",
       " \n",
       ">                \")\"}]}]}}, Rule[RowSpacings, 1], Rule[ColumnSpacings, 1], \n",
       "\n",
       " \n",
       ">          Rule[RowAlignments, Baseline], Rule[ColumnAlignments, Center]], \"⁠\", \")\"}], \n",
       "\n",
       " \n",
       ">       Function[BoxForm`e$, MatrixForm[BoxForm`e$]]], TraditionalForm]\n"
      ]
     },
     "execution_count": 1564,
     "metadata": {
      "text/html": [],
      "text/plain": []
     },
     "output_type": "execute_result"
    }
   ],
   "source": [
    "fh = Simplify[Array[rh[[#]]*rh[[#2]] - 1/3*KroneckerDelta[#, #2]*(OverHat[r][OverHat[t]])^2 &, {2, 2}], Trig -> True];\n",
    "fh // MatrixForm // TraditionalForm"
   ]
  },
  {
   "cell_type": "markdown",
   "metadata": {},
   "source": [
    "<span style=\"color:brown\">**NB:**</span> Здесь и далее мы не записываем компоненты квадрупольного момента для $z$, так как они сворачиваются с нулевыми $r_z$.\n",
    "\n",
    "Однако нужно запомнить, что след полного квадрупольного момента и его пятой производной **нулевой**!"
   ]
  },
  {
   "cell_type": "markdown",
   "metadata": {},
   "source": [
    "$\\hat{f}_{ki}^{(5)}$ - заданная функция (см. выше)"
   ]
  },
  {
   "cell_type": "code",
   "execution_count": 1568,
   "metadata": {
    "vscode": {
     "languageId": "wolfram"
    }
   },
   "outputs": [
    {
     "data": {
      "text/html": [
       "<div><img alt=\"Output\" src=\"data:image/png;base64,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\"></div>"
      ],
      "text/plain": [
       "FormBox[TagBox[RowBox[{\"(\", \"⁠\", \n",
       "\n",
       " \n",
       ">         GridBox[{{TemplateBox[List[SubscriptBox[OverscriptBox[\"f\", \"^\"], \n",
       "\n",
       " \n",
       ">               RowBox[List[\"x\", \",\", \"x\"]]], \"\\\"(5)\\\"\"], \"Superscript\", \n",
       "\n",
       " \n",
       ">             Rule[SyntaxForm, SuperscriptBox]], \n",
       "\n",
       " \n",
       ">            TemplateBox[List[SubscriptBox[OverscriptBox[\"f\", \"^\"], \n",
       "\n",
       " \n",
       ">               RowBox[List[\"x\", \",\", \"y\"]]], \"\\\"(5)\\\"\"], \"Superscript\", \n",
       "\n",
       " \n",
       ">             Rule[SyntaxForm, SuperscriptBox]]}, \n",
       "\n",
       " \n",
       ">           {TemplateBox[List[SubscriptBox[OverscriptBox[\"f\", \"^\"], \n",
       "\n",
       " \n",
       ">               RowBox[List[\"x\", \",\", \"y\"]]], \"\\\"(5)\\\"\"], \"Superscript\", \n",
       "\n",
       " \n",
       ">             Rule[SyntaxForm, SuperscriptBox]], \n",
       "\n",
       " \n",
       ">            TemplateBox[List[SubscriptBox[OverscriptBox[\"f\", \"^\"], \n",
       "\n",
       " \n",
       ">               RowBox[List[\"y\", \",\", \"y\"]]], \"\\\"(5)\\\"\"], \"Superscript\", \n",
       "\n",
       " \n",
       ">             Rule[SyntaxForm, SuperscriptBox]]}}, Rule[RowSpacings, 1], \n",
       "\n",
       " \n",
       ">          Rule[ColumnSpacings, 1], Rule[RowAlignments, Baseline], \n",
       "\n",
       " \n",
       ">          Rule[ColumnAlignments, Center]], \"⁠\", \")\"}], \n",
       "\n",
       " \n",
       ">       Function[BoxForm`e$, MatrixForm[BoxForm`e$]]], TraditionalForm]\n"
      ]
     },
     "execution_count": 1568,
     "metadata": {
      "text/html": [],
      "text/plain": []
     },
     "output_type": "execute_result"
    }
   ],
   "source": [
    "(* fh5 = Array[Superscript[Subscript[OverHat[f], {x, y}[[#1]], {x, y}[[#2]]], \"(5)\"] &, {2, 2}] *)\n",
    "(* Symmetric version *)\n",
    "fh5 = Array[If[#1 <= #2,\n",
    "                    Superscript[Subscript[OverHat[f], {x, y}[[#1]], {x, y}[[#2]]], \"(5)\"],\n",
    "                    Superscript[Subscript[OverHat[f], {x, y}[[#2]], {x, y}[[#1]]], \"(5)\"]] &, {2, 2}];\n",
    "fh5 // MatrixForm // TraditionalForm"
   ]
  },
  {
   "cell_type": "markdown",
   "metadata": {},
   "source": [
    "$\\hat{f}_{ki}^{(5)}\\hat{r}_i$"
   ]
  },
  {
   "cell_type": "code",
   "execution_count": 1570,
   "metadata": {
    "vscode": {
     "languageId": "wolfram"
    }
   },
   "outputs": [
    {
     "data": {
      "text/html": [
       "<div><img alt=\"Output\" src=\"data:image/png;base64,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\"></div>"
      ],
      "text/plain": [
       "FormBox[TagBox[RowBox[{\"(\", \"⁠\", \n",
       "\n",
       " \n",
       ">         TagBox[GridBox[{{RowBox[{RowBox[{OverscriptBox[\"r\", \"^\"], \" \", \n",
       "\n",
       " \n",
       ">                 RowBox[{\"sin\", \"(\", \"ϕ\", \")\"}], \" \", \n",
       "\n",
       " \n",
       ">                 TemplateBox[List[SubscriptBox[OverscriptBox[\"f\", \"^\"], \n",
       "\n",
       " \n",
       ">                    RowBox[List[\"x\", \",\", \"y\"]]], \"\\\"(5)\\\"\"], \"Superscript\", \n",
       "\n",
       " \n",
       ">                  Rule[SyntaxForm, SuperscriptBox]]}], \"+\", \n",
       "\n",
       " \n",
       ">               RowBox[{OverscriptBox[\"r\", \"^\"], \" \", RowBox[{\"cos\", \"(\", \"ϕ\", \")\"}], \n",
       "\n",
       " \n",
       ">                 \" \", TemplateBox[List[SubscriptBox[OverscriptBox[\"f\", \"^\"], \n",
       "\n",
       " \n",
       ">                    RowBox[List[\"x\", \",\", \"x\"]]], \"\\\"(5)\\\"\"], \"Superscript\", \n",
       "\n",
       " \n",
       ">                  Rule[SyntaxForm, SuperscriptBox]]}]}]}, \n",
       "\n",
       " \n",
       ">            {RowBox[{RowBox[{OverscriptBox[\"r\", \"^\"], \" \", \n",
       "\n",
       " \n",
       ">                 RowBox[{\"cos\", \"(\", \"ϕ\", \")\"}], \" \", \n",
       "\n",
       " \n",
       ">                 TemplateBox[List[SubscriptBox[OverscriptBox[\"f\", \"^\"], \n",
       "\n",
       " \n",
       ">                    RowBox[List[\"x\", \",\", \"y\"]]], \"\\\"(5)\\\"\"], \"Superscript\", \n",
       "\n",
       " \n",
       ">                  Rule[SyntaxForm, SuperscriptBox]]}], \"+\", \n",
       "\n",
       " \n",
       ">               RowBox[{OverscriptBox[\"r\", \"^\"], \" \", RowBox[{\"sin\", \"(\", \"ϕ\", \")\"}], \n",
       "\n",
       " \n",
       ">                 \" \", TemplateBox[List[SubscriptBox[OverscriptBox[\"f\", \"^\"], \n",
       "\n",
       " \n",
       ">                    RowBox[List[\"y\", \",\", \"y\"]]], \"\\\"(5)\\\"\"], \"Superscript\", \n",
       "\n",
       " \n",
       ">                  Rule[SyntaxForm, SuperscriptBox]]}]}]}}, Rule[RowSpacings, 1], \n",
       "\n",
       " \n",
       ">           Rule[ColumnAlignments, Center], Rule[ColumnAlignments, Left]], Column], \"⁠\",\\\n",
       " \n",
       ">    \n",
       "      \")\"}], Function[BoxForm`e$, MatrixForm[BoxForm`e$]]], TraditionalForm]\n"
      ]
     },
     "execution_count": 1570,
     "metadata": {
      "text/html": [],
      "text/plain": []
     },
     "output_type": "execute_result"
    }
   ],
   "source": [
    "fh5rh = EinsteinSummation[{{k, i}, {i}}, {fh5, rh}];\n",
    "fh5rh // MatrixForm // TraditionalForm"
   ]
  },
  {
   "cell_type": "markdown",
   "metadata": {},
   "source": [
    "Система движения в безразмерной записи будет выглядеть как"
   ]
  },
  {
   "cell_type": "markdown",
   "metadata": {},
   "source": [
    "$$\n",
    "\\frac{d^2\\hat{r}_k}{d\\hat{t}^2} = -\\frac{t_0^2}{b^3}\\frac{GM}{\\hat{r}^3}\\hat{r}_k - \\frac{2}{5}\\frac{b^2}{t_0^3}\\frac{G}{c^5}\\mu\\hat{f}_{ki}^{(5)}\\hat{r}_i\n",
    "$$"
   ]
  },
  {
   "cell_type": "markdown",
   "metadata": {},
   "source": [
    "Пусть $t_0 = \\sqrt{\\frac{b^3}{GM}}$, а $b$ - прицельное расстояние, тогда система движения перепишется как\n",
    "\n",
    "$$\n",
    "\\frac{d^2\\hat{r}_k}{d\\hat{t}^2} + \\frac{\\hat{r}_k}{\\hat{r}^3} = - \\epsilon_G\\hat{f}_{ki}^{(5)}\\hat{r}_i\\quad,\n",
    "$$\n",
    "или\n",
    "$$\n",
    "\\hat{r}_k^{(2)} + \\frac{\\hat{r}_k}{\\hat{r}^3} = - \\epsilon_G\\hat{f}_{ki}^{(5)}\\hat{r}_i\\quad,\n",
    "$$\n",
    "\n",
    "где безразмерная постоянная\n",
    "$\\epsilon_G =\n",
    "  \\frac{2}{5}\\frac{b^2}{t_0^3}\\frac{G}{c^5}\\mu\n",
    "  = \\frac{2}{5}\\frac{\\mu}{M} \\left( \\frac{GM}{bc^2} \\right)^{\\frac{5}{2}}\n",
    "  = \\frac{2}{5}\\frac{\\mu}{M} \\left( \\frac{r_s}{2b} \\right)^{\\frac{5}{2}}$.\n",
    "\n",
    "Здесь $r_s = \\frac{2 G M}{c^2}$ - сумма радиусов Шварцшильда двух тел.\n",
    "Заметим, что $f_{ij}^{(5)} = \\frac{5}{2}\\frac{\\epsilon_G}{t_0^2}\\hat{f}_{ij}^{(5)}$\n",
    "\n",
    "Можно еще записать, что\n",
    "$\\epsilon_G\n",
    "  = \\frac{2}{5}\\frac{q}{(1 + q)^2} \\left( \\frac{r_s}{2b} \\right)^{\\frac{5}{2}}$,\n",
    "где $q = \\frac{m_1}{m_2}$ - отношение меньшей массы тела к большей, $m_1 < m_2$.\n",
    "Откуда можно видеть, что $\\epsilon_G \\ll 1$, когда $q \\ll 1$ или/и $r_s \\ll b$.\n",
    "\n",
    "<span style=\"color:red\">**TODO_1:**</span> Обязательное ли условие $\\epsilon_G \\ll 1$?"
   ]
  },
  {
   "cell_type": "markdown",
   "metadata": {},
   "source": [
    "## Переход к полярным координатам от декартовых\n",
    "Повернём систему с помощью матрицы вращения $R_{ij}(\\phi)$ на угол $\\phi$ по **часовой** стрелке"
   ]
  },
  {
   "cell_type": "code",
   "execution_count": 1571,
   "metadata": {
    "vscode": {
     "languageId": "wolfram"
    }
   },
   "outputs": [
    {
     "data": {
      "text/html": [
       "<div><img alt=\"Output\" src=\"data:image/png;base64,iVBORw0KGgoAAAANSUhEUgAAALsAAAA6CAIAAABnHr9AAAAAz3pUWHRSYXcgcHJvZmlsZSB0eXBlIGV4aWYAAHjabU/bDQMhDPtnio4QkuDAOHDHSd2g4zccqBVVLREb5wEJ/fW8wmOAIwVNllEAcmjRwtVFponJkcodb7S2cnH3g9TlV7fSN4G+/Lb7hsmcfwYRTyHjBdeiq2ENEp5+XA+2Vc81532Q0IZCn6//vasYIyGaelQmMxTXObh0QmJKhgsH4IURJ5Mezh1m3gYbFVJH4wB326t7gLhxjhVknCTVWTxGyd7qK7tOt59Eua3svUh4A9hKWxeQnp+yAAAACXBIWXMAABYlAAAWJQFJUiTwAAAAPHRFWHRTb2Z0d2FyZQBDcmVhdGVkIHdpdGggdGhlIFdvbGZyYW0gTGFuZ3VhZ2UgOiB3d3cud29sZnJhbS5jb21coqaFAAAAIXRFWHRDcmVhdGlvbiBUaW1lADIwMjU6MDM6MTggMDE6NTU6NTRThkDDAAARXElEQVR4Xu2dedSV0xfHVaRCyRBlKClkCJXIsEiSVAjVMoeQlEWGkDFjaFGIarUaTCssc63M8zxkVkqDsTLPQ9Tv8/q+v/Me5xnuee597nN7vff8cde959ln2mefvffZ5znfW2vFihWrlFNWHHj//fe7d+9er169p556aqONNsqq2TTbqZ1mZRnW9c0333z00Uf+Db7yyivLly/3py8S5SOPPPLpp5/OnTv38ccfL7CJl156yb+Gr7/+mkb96eMo0THVLj333HObbLLJbbfdFtXzww8/vGnTplOmTDEERxxxxD777LN48eLSDnbevHnt27fffffdv/rqq7x78ttvvw0cOHC77bb7/fffQyt54okn2rZtu9VWW5mns2bN2mCDDWyG5N36KjEl6Vne9RavIOJSt27dsWPHRjXBeqpVqxarZNGiRYbmzz//PPjgg1u3bv39998Xr28Z1Pz333/36NEDcVm6dGlUc0OGDGH4xx13nE3wzDPPrLHGGjfddJNPJ//44w9UcihlpMTMnDlz0KBBPrVnSfP5559vuOGG/fv3j2n0vvvug18sMofm119/3XTTTWE3TM+yz+m2dcEFF6y22mqYmJhqt99+ezhw7733OjSIC2VZcjm7tGDBgn79+oUqwnCJYQV36dIFFues2iZASaL98Bi+/fbbqII8euutt37++ecogiVLljz55JMY6Z9++gnF8NdffxlKBL9Tp04slC+++CKmY6effjr8Ou+884I0t99+O49geqJxJSVetmzZO++8g8vy8ccfs1KDbMQJ+/LLL51q8W+M2pg/f/57770XbPeBBx5AfQ4dOjSmS999913t2rVXX311GOiQ0bGtt96aJcfCyzmoF154YZtttkF0HMoQiZk0aVKLFi1+/PHHnJUagoULFyJhbAFatmy56j8JNUDXDQGMu/baa5s3b86EMR6GjYGYOnWq3QRL/7TTTqtTpw6WnkQljRs3Zk9haG6++WaKn3DCCTEdYzK23XZbyO64444gGd1o1qwZrdNh/9Elonz11Ve33HLLRo0a7bvvvuuss85666231157qYZffvnlrrvuwjhiVceNG6dMpOqaa67ZZZdd6BUCfffdd6v/JOqxpxb+0HnyY+YbmaBmaHbYYYfQBa+njsGKGuC0adOQBGd9uhLz9ttvM/GsD382MalMbceOHTWSl19+WW5Er169VAm6AfaRM2DAAKbqhx9+uP7668WUvn37Gnt53XXXkTNy5EiVGj16ND/tnuy6666hylb0EyZM2GOPPRA44+e3adMGhecM5Nhjj4Xg8ssv9x+gPyUygce9/vrrS4niaON+ohf5zlyyqHiq7hmJueKKK9Zdd11logDQDfvtt58Rmq5du5rWH330UWiC1lYEcPX4449fc801zfCZR9QtzLf7j28HQcOGDT2d1N69e++99962Hf+XxPAAE2j3Miez4BHOwVprrYW/aYh32203utWgQQPlXHbZZfxk/rAyhuacc87R2MaPH69MdhD8xM83NGjFBx98UD9R2jxFFmGN0yvUb58+fVBdCBlrFLKjjz4aq8SX+vXro+FtenQP+SzBnEPLg0B7ZgTXlKU/7dq1Mz/fffddR2J4hAFS5mabbfbhhx+SwyrCjSAHbYSoqTjrjZwzzjgj2DG8WvR3hw4dPvjgAz4he+ihh9DifGFX5dBvscUW5N9///0+A8RhgrE33nijIf6XxNx6663UNWPGDJ+6RHPRRRdRBGtiF2FlI3bMH5lIEsIODVbJpmHimU7y0U8SYYrwE12FcIiShfj888/r+9NPP81T9LzTNxydnXfemUfabA8bNozvcvowbcG+YZ7JZC36j9GfUpXD4ltuuUWlWMonnniiqQFfMigxbN+UaWs+FpIyCTupONaNn2PGjHH6w6KiRQSFelg8WHPpIYQGetaY41aKz850xIzxgAMOaNKkifGK/iUx7NkIREZtq0IrReXS/MSJE6OafOyxxzTyoOuuZUSS5z958mT9RCzgi6NO5bRi2p2GRo0aRT6BVOWj3ozTd+qpp/KIAdtFTNwvqKv8JSOKEtahJzQKNmVB7xU3S0+NVaIqeqJMW2LYqyoTP0HNSWfceeedduuUVexY9lfcHj58ON+xjKrhzTfftIsQrCITg+U5XiQSeqNmqmK+9AydiRGVF+KZCHtDaZtPp+CcOXOUgw/oPEJdKwddyieWBX3OF9YEk434omBMEXQV3/Eo7Upwri+88EJyZIPYrL322musRfWHp3wS67OLmBpw7T3H6E8G63BjMSUUmT59OmudicED9a/BUAZnIZQDV111Fe4jHhK6mbLsnPns2bMnn+w6VVsoB/yHjx/DIpT9IVVJjAx8t27d/IfHDKnhmAi0GTn7Sadmc7CCUuURfg9LhK2vOI4y6Ny5s1FRa6+9NpnoRruSN954A0eK8chzYp+CqyR+kdiG8CnbZJKpgV26/0j9KQ855BAEfccdd6QIKgcfHyWHL+JfQxRlKAeeffZZ6JlUlUJi8LslPRo+XqazVsUB/+FDiYuJDlOFVRLDloffO+20k//YcFAkv0hb8NSGmARSgsOrCqWN7ITd0U88XD7ZZDH3I0aMgBKVTg4+ypFHHony5DuM4BP1Y9eAXuQnTp/k0l5hBBLQN0ghhwN2ESkejL0mIN2EGuAcAB7SNK4MLhr148sbp6SQ5oIcgDMwmTplCpFL5nX//ffXCmQnzyfy6jQqDqg2zySpkIRUSgwOGoE1lLlCJv6JDSHEmBWCfnYpJoxZRwGw+UIOeCQd5tDwk4ASm36+EGLG4vKlVatWeG1nnnkm3wlqsX0wI3QkRo4k069qWdzsS1UbPgEcvOSSSxydrBpYdomMrydDXnzxRcJrELPJP+mkk4hDKoLCXsazhhiyoMSg4+WsiANwDwtIUIPv8J9TJFrXRtVO4kAiidFuX2eflRJDY/DXLFb/4Z111lkixvPApWCFISXs3DAosIy5x42Vk8Ejxe9N0iIgAGMmj/2OnpKjXQ9fpAxwa9jD00l2y6YGoh18R6QQHTZcTJhMEjXDL7xyxX/tJL9KVqwYCY/VuLf46QceeCCtSNmQWJn6wmSb1o3NYggm01BiZ5WpPs+ePdvQsNnE6PBTEqkTN0JfuArEF6gNPed4fqgluRCJOKBFiBGoaFoOs/YpODGe/rNNRhA2yHp8WBN9wfoQ04SGwBGaTGUvvfRSclgQZmuG7efUw2ypGK0ITFu4xuSYjSv5mGSx7KCDDpLORDnhe6KWYVlo0FMi5YSb8xh1aBGi+FS+5557ai+KAmDNMCh4LXrcYfHKjrpitpTJtsNUqwVDIrCpTJl1YoB202wqycQ9QFIxQLjAOHO4bqyuhx9+ONjJ119/HXpC84mGTNxVrVT4HiqJ9ibrqKOOSlSRIeaIC12iEWLaWNl2sA4yfp599tnoanQGKg7HBT7SqB1MJKLASCBgaaI8ICZmZR81i91EIe1OsmJYVSbUi1DC96hjfbpB94ix2icY+Q05tBQbUYwsTZDQcHhRm2++uWYO88oqYtRmdWGvcTtQwHacGivP3kcLTAnphw9qTv6E2W+TAwOJe9kmBn2Gvo86qrzyyiupAWcx0ajNdo8odqXEEGCmolNOOSVRRQ4xvcRA2GeHDgEGixgX08maC0apFSBhdeLNkYIHaTw95phjULxYFqdmhsR+gUiDE8VxyJBshnnPPfcUMsyYskgkPWEhEoxnNX/yySeJgls5e4W/iCWCCUFKxW8QQWet2pTwH8cDXR5DE9UHyToKrFJiZG7PPffcnJ0uLQFSxb6A7U+wG3h5mKSY7rFxwyUKZXdpB5Wo9RtuuAE1zKbaKcV2DGMUXxUnMwgc1i1RiyKWDeE8oGqvJENllOHK+QWjA7MwVbgpdpADQ0ums5G2h8Byx8YfdthhHFiunEPz7NXgwYMxQ7h0uPl2EZS3ln1Uwr1jY4G3p+1t0iTZqPDHJUEKthbpRDcPiY4vQr+RGHxnQwYvHP/GqQHPAFlJvSelqpBTNnStbdlxsW3/xukYLjkn/8GXcvz7rx1GxWZWZXTgad408K+ohJS2y0I0KHhuZfct6pXYEva/wKbtEcEKol8xFeJcxviXPj1hU4KEsOoqrZIiAcUIaiXVfv70OkxQOvnkk9ExMWUVRfwvJXtEsIIdWczo2I7ZO7I8+KA4MnJSXW+f5DHmcpFUOFCWmFTYWIMqKUtMDZrsVIZalphU2FiDKilLTA2a7FSGWpaYVNhYgyopS0wNmuxUhlqWmFTYWIMqKUtMDZrsVIa6UkgMUepUBlOuJAMOlF5iOHznpQ0u6vEmUQYDLjdRIAdKLzFpwTZVU9SqAucve6SqSonROVNJEm91CLZJN07yS7oixJ2PqOIgjPCWpLkKAxmvJvFes7kGll+7JSzF2TXnr7x+by7xOJ0JDvmzzz7jtRbecc6j2/IcKuREJ916sxycAZ+D75WNJidqFR0OwjZVa9SqbJCq7InWtaQKaVOu3l5L+sLwyiA6PqhV9DMUtqn6olZlg1Rlz68usFZAZyhX16LOP//8IglBDPKUWgzCNgnpSU/RwEKtcrrniVoVA9tUDNSqYmN1ZYlUZRiu6woVb+Eoi3sn/ObWQuoSE488FYRtQgjoFrhAvIoMmgGTzUVa3bznHSLnvVIf1Kp42KZ0UasywOrKHqlKIqEXuCqwE/Qb/Ah+xyMS5idMMchTobBNXAfXS8ckbjwgNFzIAwlMPeYtQYMoQ3/iUas8YZvSQq3KBqurJEhVxrnmBftKiRE8GvcF8xOLmFLxyFMUDIVtOvTQQyU0XIjRlR9z0d84WzGoVdD7wzalglqVGVZXSZCqFCrjdjcvC1dKjCSXDWrqEhOPPEVzobBNgF5Jx9j90a13rrEpMwq1ikeJYJtSQa3KDKurJEhVFRfb/kGQgLeVEoPjicLnemlOieG2H9Y6Ptk4nfHIUzQXCtukG/aOxOhuqbllEoValRS2KRXUqsywukqCVMUtUjgPzCXzVRm4w83ktjOTFx/RQhTYl+NYxKerr77axIjikacShZKcqw6hmE1UmBS2KRXUqtJidSUdMlzSqD2RqjQ6rYqqUK/8TbAXYmaRO5io35zJvpsYjzyVSGIc4lDMJmiSwjYVjlpVcqyupEOGS4mQqiQVckmrkBOFLBqPR53TZgUJiKMok3v85hwA7EZzhd3fKknGjVXiDjA/+YMGu1GqBQiDfCFAE9hFZM1da7mNXES1i+hsAbeukFv1wjXigmoQwp6rioAoE7OXxIOy43AJ3Ek9EpBsPMeEWEZYwVSSx5Apq7mw75VGTS5bWhQSIBUiqNIxYAQR1zMQj4WsfrtsPPJUIa2E4pzlAduUCmpVCbG68hgybPdHqgKIA9eQqJgmq0piOGRidsGb4L8FCpnIYNkY5CmIQ2GbKnZx/9d/pkLhOhnMplDUqjxgm1JBrcoMqyt7pCpQNrmmX4UrZesiggoA5nAJPg/rE1UkJ/JUELYJxQ7MkwTFoDuB2KPILxs6A6MdRK2iG0lhm9JCrcoGqytjpCq2FyxCMAnN/Lr/S8B9dy7xCus8lRSDPBUK20Qoxf47PJwSbC29EsC4Em4QipDuhaJWJYJtShe1KhusriyRqtCdoEbY4ZKQ/z7hdInoe1p/QuSDPFWIaEahVlGnD2xTMVCrio3VlRlSFTBbrFg+7QkKkRhkhQMm568GCpnUopaNQa3KCdtUfVGrMkCq4mQAxEL7j0U0j+H/yIXQXHzxxdXldRkOmLB9HL878G6on5ghELxmg8NrbHmAwhV1DXhWjrtGZIEjDps+fshQElzdeOONjXcY1RavDPBXD8H/GoqUGFUEdKxn70tOFkStokvxsE3/AdSq4iFV4WJG/RFf3D+LllwOknbARq3KCdv030CtyhipihmpVaFnyqnMAW8O/A/RQiw5TrwIxgAAAABJRU5ErkJggg==\"></div>"
      ],
      "text/plain": [
       "FormBox[TagBox[RowBox[{\"(\", \"⁠\", \n",
       "\n",
       " \n",
       ">         GridBox[{{RowBox[{\"cos\", \"(\", \"ϕ\", \")\"}], RowBox[{\"sin\", \"(\", \"ϕ\", \")\"}]}, \n",
       "\n",
       " \n",
       ">           {RowBox[{\"-\", RowBox[{\"sin\", \"(\", \"ϕ\", \")\"}]}], \n",
       "\n",
       " \n",
       ">            RowBox[{\"cos\", \"(\", \"ϕ\", \")\"}]}}, Rule[RowSpacings, 1], \n",
       "\n",
       " \n",
       ">          Rule[ColumnSpacings, 1], Rule[RowAlignments, Baseline], \n",
       "\n",
       " \n",
       ">          Rule[ColumnAlignments, Center]], \"⁠\", \")\"}], \n",
       "\n",
       " \n",
       ">       Function[BoxForm`e$, MatrixForm[BoxForm`e$]]], TraditionalForm]\n"
      ]
     },
     "execution_count": 1571,
     "metadata": {
      "text/html": [],
      "text/plain": []
     },
     "output_type": "execute_result"
    }
   ],
   "source": [
    "RotationMatrix[-\\[Phi]] // MatrixForm // TraditionalForm"
   ]
  },
  {
   "cell_type": "markdown",
   "metadata": {},
   "source": [
    "#### LHS системы после поворота"
   ]
  },
  {
   "cell_type": "code",
   "execution_count": 1573,
   "metadata": {
    "vscode": {
     "languageId": "wolfram"
    }
   },
   "outputs": [
    {
     "data": {
      "text/html": [
       "<div><img alt=\"Output\" src=\"data:image/png;base64,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\"></div>"
      ],
      "text/plain": [
       "FormBox[TagBox[RowBox[{\"(\", \"⁠\", \n",
       "      TagBox[GridBox[{{RowBox[{RowBox[{\"-\", \n",
       "\n",
       " \n",
       ">                 RowBox[{\"2\", \" \", SuperscriptBox[OverscriptBox[\"r\", \"^\"], \"′\"], \n",
       "\n",
       " \n",
       ">                   \" \", SuperscriptBox[\"ϕ\", \"′\"], \" \", \n",
       "\n",
       " \n",
       ">                   RowBox[{\"sin\", \"(\", \"ϕ\", \")\"}]}]}], \"+\", \n",
       "\n",
       " \n",
       ">               RowBox[{OverscriptBox[\"r\", \"^\"], \" \", \n",
       "\n",
       " \n",
       ">                 RowBox[{\"(\", RowBox[{RowBox[{SuperscriptBox[RowBox[\n",
       "\n",
       " \n",
       ">                         {\"(\", SuperscriptBox[\"ϕ\", \"′\"], \")\"}], \"2\"], \" \", \n",
       "\n",
       " \n",
       ">                       RowBox[{\"(\", \n",
       "\n",
       " \n",
       ">                         RowBox[{\"-\", RowBox[{\"cos\", \"(\", \"ϕ\", \")\"}]}], \")\"}]}], \n",
       "\n",
       " \n",
       ">                     \"-\", RowBox[{SuperscriptBox[\"ϕ\", \"′′\"], \" \", \n",
       "\n",
       " \n",
       ">                       RowBox[{\"sin\", \"(\", \"ϕ\", \")\"}]}]}], \")\"}]}], \"+\", \n",
       "\n",
       " \n",
       ">               RowBox[{SuperscriptBox[OverscriptBox[\"r\", \"^\"], \"′′\"], \" \", \n",
       "\n",
       " \n",
       ">                 RowBox[{\"cos\", \"(\", \"ϕ\", \")\"}]}], \"+\", \n",
       "\n",
       " \n",
       ">               FractionBox[RowBox[{\"cos\", \"(\", \"ϕ\", \")\"}], \n",
       "\n",
       " \n",
       ">                SuperscriptBox[OverscriptBox[\"r\", \"^\"], \"2\"]]}]}, \n",
       "\n",
       " \n",
       ">            {RowBox[{RowBox[{\"2\", \" \", SuperscriptBox[OverscriptBox[\"r\", \"^\"], \"′\"], \n",
       "\n",
       " \n",
       ">                 \" \", SuperscriptBox[\"ϕ\", \"′\"], \" \", RowBox[{\"cos\", \"(\", \"ϕ\",\\\n",
       " \n",
       ">    \")\"}]}]\\\n",
       ", \"+\", RowBox[{OverscriptBox[\"r\", \"^\"], \" \", \n",
       "\n",
       " \n",
       ">                 RowBox[{\"(\", RowBox[{RowBox[{SuperscriptBox[\"ϕ\", \"′′\"], \" \", \n",
       "\n",
       " \n",
       ">                       RowBox[{\"cos\", \"(\", \"ϕ\", \")\"}]}], \"-\", \n",
       "\n",
       " \n",
       ">                     RowBox[{SuperscriptBox[RowBox[{\"(\", \n",
       "\n",
       " \n",
       ">                          SuperscriptBox[\"ϕ\", \"′\"], \")\"}], \"2\"], \" \", \n",
       "\n",
       " \n",
       ">                       RowBox[{\"sin\", \"(\", \"ϕ\", \")\"}]}]}], \")\"}]}], \"+\", \n",
       "\n",
       " \n",
       ">               RowBox[{SuperscriptBox[OverscriptBox[\"r\", \"^\"], \"′′\"], \" \", \n",
       "\n",
       " \n",
       ">                 RowBox[{\"sin\", \"(\", \"ϕ\", \")\"}]}], \"+\", \n",
       "\n",
       " \n",
       ">               FractionBox[RowBox[{\"sin\", \"(\", \"ϕ\", \")\"}], \n",
       "\n",
       " \n",
       ">                SuperscriptBox[OverscriptBox[\"r\", \"^\"], \"2\"]]}]}}, \n",
       "\n",
       " \n",
       ">           Rule[RowSpacings, 1], Rule[ColumnAlignments, Center], \n",
       "\n",
       " \n",
       ">           Rule[ColumnAlignments, Left]], Column], \"⁠\", \")\"}], \n",
       "\n",
       " \n",
       ">       Function[BoxForm`e$, MatrixForm[BoxForm`e$]]], TraditionalForm]\n"
      ]
     },
     "execution_count": 1573,
     "metadata": {
      "text/html": [],
      "text/plain": []
     },
     "output_type": "execute_result"
    }
   ],
   "source": [
    "LHSMotion = D[rh, {OverHat[t], 2}] + Simplify[rh / Norm[rh]^3];\n",
    "LHSMotion // MatrixForm // TraditionalForm"
   ]
  },
  {
   "cell_type": "code",
   "execution_count": 1574,
   "metadata": {
    "vscode": {
     "languageId": "wolfram"
    }
   },
   "outputs": [
    {
     "data": {
      "text/html": [
       "<div><img alt=\"Output\" src=\"data:image/png;base64,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\"></div>"
      ],
      "text/plain": [
       "FormBox[TagBox[RowBox[{\"(\", \"⁠\", \n",
       "      TagBox[GridBox[{{RowBox[{RowBox[{\"-\", \n",
       "\n",
       " \n",
       ">                 RowBox[{RowBox[{OverscriptBox[\"r\", \"^\"]}], \" \", \n",
       "\n",
       " \n",
       ">                   SuperscriptBox[RowBox[{\"(\", SuperscriptBox[\"ϕ\", \"′\"], \")\"}], \n",
       "\n",
       " \n",
       ">                    \"2\"]}]}], \"+\", SuperscriptBox[OverscriptBox[\"r\", \"^\"], \"′′\"], \n",
       "\n",
       " \n",
       ">               \"+\", FractionBox[\"1\", SuperscriptBox[OverscriptBox[\"r\", \"^\"],\\\n",
       " \n",
       ">    \"2\"]]}]}\\\n",
       ", {RowBox[{RowBox[{OverscriptBox[\"r\", \"^\"], \" \", SuperscriptBox[\"ϕ\",\\\n",
       " \n",
       ">    \"′′\"]}], \"+\", \n",
       "            RowBox[{\"2\", \" \", SuperscriptBox[OverscriptBox[\"r\",\\\n",
       " \n",
       ">    \"^\"], \"′\"], \" \", \n",
       "              SuperscriptBox[\"ϕ\", \"′\"]}]}]}}, Rule[RowSpacings,\\\n",
       " \n",
       ">    1], \n",
       "        Rule[ColumnAlignments, Center], Rule[ColumnAlignments, Left]],\\\n",
       " \n",
       ">    Column], \"⁠\", \n",
       "      \")\"}], Function[BoxForm`e$, MatrixForm[BoxForm`e$]]],\\\n",
       " \n",
       ">    TraditionalForm]\n"
      ]
     },
     "execution_count": 1574,
     "metadata": {
      "text/html": [],
      "text/plain": []
     },
     "output_type": "execute_result"
    }
   ],
   "source": [
    "RotatedLHSMotion = Simplify[RotationMatrix[-\\[Phi][OverHat[t]]] . LHSMotion, Trig -> True] // MatrixForm // TraditionalForm"
   ]
  },
  {
   "cell_type": "markdown",
   "metadata": {},
   "source": [
    "Так как $\\hat{\\omega} \\equiv \\phi^{(1)}$, то"
   ]
  },
  {
   "cell_type": "code",
   "execution_count": 1576,
   "metadata": {
    "vscode": {
     "languageId": "wolfram"
    }
   },
   "outputs": [
    {
     "data": {
      "text/html": [
       "<div><img alt=\"Output\" src=\"data:image/png;base64,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\"></div>"
      ],
      "text/plain": [
       "FormBox[TagBox[RowBox[{\"(\", \"⁠\", \n",
       "\n",
       " \n",
       ">         TagBox[GridBox[{{RowBox[{RowBox[{RowBox[{\"-\", OverscriptBox[\"r\", \"^\"]}], \n",
       "\n",
       " \n",
       ">                 \" \", SuperscriptBox[OverscriptBox[\"ω\", \"^\"], \"2\"]}], \"+\", \n",
       "\n",
       " \n",
       ">               SuperscriptBox[OverscriptBox[\"r\", \"^\"], \"′′\"], \"+\", \n",
       "\n",
       " \n",
       ">               FractionBox[\"1\", SuperscriptBox[OverscriptBox[\"r\", \"^\"], \"2\"]]}]}, \n",
       "\n",
       " \n",
       ">            {RowBox[{RowBox[{\"2\", \" \", OverscriptBox[\"ω\", \"^\"], \" \", \n",
       "\n",
       " \n",
       ">                 SuperscriptBox[OverscriptBox[\"r\", \"^\"], \"′\"]}], \"+\", \n",
       "\n",
       " \n",
       ">               RowBox[{OverscriptBox[\"r\", \"^\"], \" \", \n",
       "\n",
       " \n",
       ">                 SuperscriptBox[OverscriptBox[\"ω\", \"^\"], \"′\"]}]}]}}, \n",
       "\n",
       " \n",
       ">           Rule[RowSpacings, 1], Rule[ColumnAlignments, Center], \n",
       "\n",
       " \n",
       ">           Rule[ColumnAlignments, Left]], Column], \"⁠\", \")\"}], \n",
       "\n",
       " \n",
       ">       Function[BoxForm`e$, MatrixForm[BoxForm`e$]]], TraditionalForm]\n"
      ]
     },
     "execution_count": 1576,
     "metadata": {
      "text/html": [],
      "text/plain": []
     },
     "output_type": "execute_result"
    }
   ],
   "source": [
    "OmegaReplace = Derivative[n_][\\[Phi]][OverHat[t]] :> Derivative[n-1][OverHat[\\[Omega]]][OverHat[t]];\n",
    "\n",
    "OmegaLHSMotion = RotatedLHSMotion /. OmegaReplace // TraditionalForm"
   ]
  },
  {
   "cell_type": "markdown",
   "metadata": {},
   "source": [
    "### RHS системы после поворота"
   ]
  },
  {
   "cell_type": "code",
   "execution_count": 1578,
   "metadata": {
    "vscode": {
     "languageId": "wolfram"
    }
   },
   "outputs": [
    {
     "data": {
      "text/html": [
       "<div><img alt=\"Output\" src=\"data:image/png;base64,iVBORw0KGgoAAAANSUhEUgAAAjkAAABeCAIAAABO55LxAAAAznpUWHRSYXcgcHJvZmlsZSB0eXBlIGV4aWYAAHjabU/bDQMhDPtnio4Q8oRxuB6VukHHrzmoKqpaInacB0rqr+cj3QY4U1KL4tWdAK1auUEUmpicqV7xglTi5W5+sj5FbrDsW/CPf+x++GQuP4vWfpLxA7ToGliLhKef28yP1c+tlH2R0Ib6Efl/rhLs5jkUUZkivEKXBAlyY7Lwh9/d0Zj9ZNI7uHsExjxGh7QxOMA99u6eXGCc4wQZz6SBBTFLwShOhrbLN1E+VvU6JL0BYbNaxxaeDSYAAAAJcEhZcwAAFiUAABYlAUlSJPAAAAA8dEVYdFNvZnR3YXJlAENyZWF0ZWQgd2l0aCB0aGUgV29sZnJhbSBMYW5ndWFnZSA6IHd3dy53b2xmcmFtLmNvbVyipoUAAAAhdEVYdENyZWF0aW9uIFRpbWUAMjAyNTowMzoxOCAwMTo1NTo1NFOGQMMAACAASURBVHhe7d11/G1FtQBwwQRRVLC7RcVuUVGxG1FRDBRbwA5MBAwEuzswQEUsLATjWdjd3d2d7/t5675h3DF7n3P2Pr9z7t3zx72/s/fsiTVrZvWarf7zn/+cbCqDQuBf//rXC17wgn//+9/R6kc/+tFnPOMZZznLWQbtZGpsgsDGQGBC742B+1J6PfHEEz/+8Y9HV3/5y1/+/ve/P/rRj15Kz92dbLV50KpPfOITP/nJT25+85t3z3j8Gm984xtvc5vbpH6ud73rvec97xm/26mHCQLLgMCE3suA8kb0gRZc6lKX+uIXv5g6//CHP3y1q12tPpZ3vvOdZzrTma585Ssvc5hbL7Ozkfr69a9/fbvb3e785z//SO33afbd7373gQceGDUPO+ywZz3rWf/z/+WVr3xlPL/73e/+la98pU9rU50JAisFgU70/u53v3uPe9zjz3/+80oNexpMJwR+/OMfOzzJymq+613vOuUpT5kOro997GNBqOoH1wUucIE999zzl7/8ZWf7Q1ZAS9vKP//5z8LbFXlF1XajG91or732Koznb3/7m12k5khjxmWc4xznINhp/wMf+MDpTne6D33oQ3qsdGftaQK/8Y1vjDSMqdktEwIrgt6PeMQjqBDW4tBYFzxxZDlGKOJGGvCvfvUrLP7rX//6aP/a1772ve997+985zt9Dq673e1u17/+9RG5YcdWwJ+TtfWEut7nPvcZdhxjtPakJz0JL/Ctb32rrfHvf//7O+ywA/JuL40xgG9+85s77rjj+973vmj8Zje7WbASpznNaQ444IA//vGPeadPf/rTL3nJS1YejjGqqc0tBAKrg95OmWte85oPfehDtxDIL2GagOkkcbz88Ic/HLw7ZAax2W+//aLlT33qU0kGutzlLofbLh9c3/ve90596lMffPDBww7Mmfn2t7+9sc1mWnXEEUfssssuv//974cdx+Ct/elPfzrDGc5wr3vdq63lf/zjH1e/+tVjDbbaaitC7uBjoPq47nWvm5p9znOeQzo+73nPG51e+MIX/sMf/pB3esYznvH5z3/+4MOYtUEny6te9ap73vOe+++//1ve8pZZP5/qrwIEVg29jzvuODj/i1/8YhWAM9MYVnA7HHvssY6sOEaucY1rDC6whhGdASUA9YUvfOEhD3mI0xKTHZ1Wjqn6weXoOP3pT18532YCe70yJcFNbnKTpz71qfVXDbTqqKOOOte5zkU8XLDXJXz+ohe9CEwrLEDe78Mf/nAV/PuZz3zm3Oc+95nPfOYf/ehHww7sEpe4xAMe8IB6m6997WstpN4T5xJ1oN2d7nSnYccwa2sQAgtsbCc/+ckDL6HdrI1M9TccAquG3tTgcOltb3vbhkNmpgGs4Hb4wQ9+QBt0vvOd7/Of//wDH/hAUH3kIx8506Q6K7Ovn/Oc56xX+/nPf37jG99Yj9tuuy2pPVWoH1w82lR73vOe19nXTBWoPS92sYs9+9nPrnxVpVVf/epXT3va0775zW+eqfWNqsxrxYq2cRzMSKTUl73sZTE8G+mKV7zita51rQE5lN/85jd4n5e85CWNEADMrbfemkY4f0uzeqELXWijIBb9HnTQQTe84Q2ZVXEkhx56aJAru2JjRzX1PhMEVhO9KayocWaayIZXXrXt4ICi1uLXgGwEcIg4pzrVqXi4DAgrCsAb3OAGjQ2yk/EAcCbwC0sV6geXamc729kw6wOOKprif2i+H/nIR/KW/4tW6ftKV7qS03zwvsdo8IMf/CBoFrwqvv71r3/5y1/Ou6YzPP744wekVVozBpBtmyCEQ8zoalIFLoI+2Vj9KpqdZH8Du/zlL29IiaiPsVhTm4NDYDXRG/eNDRp8sqM2uGrbwXHhYPnrX/+az5oruRUfEA64/EaFUHQRGkLBVeWDi4eFaieccMKAA4umbnvb2/I2JPKmlv/LZ/3oo48WCGYCwWiveDFaI6TcbBsnW9FOO+2UvyXVXuc610mKr8UnSG7TSAr7rTdI8XjBC17wFKc4RXoVlfmDLN77fC0YADaN9jl9ftOb3tTfAibma3Blvyqsy8qOuf/AVhO9WexzbO8/nUFqOtdmbWcFtwMAOqbibEmF+GLFZ51doT7BpXxw+ZYurnxwxfEbR3G58GYUXNx/gWg+v/3tb7/whS9Mzf4XreJTR6ZbkYjarrmfLLSlyXWis76Q7Lve9a7nOc95CI59gNvZoAoMYP4lozRWxhm94x3vqMBT5e222y4ZMPv0MmwdaskQpFKhDNxmm22uetWrDtvRxrZ2//vfH5wPOeSQYYcBVhxK6U+ucpWrQCeBscO2P3drK4LetOIblaLlS1/6Ep+mi1zkImzS/cG4+tuBmPXkJz+ZwOrs4kf229/+tv/sCjWdXW0Hl6/e9KY3MQYhmamFxoMrjt9PfvKT5SExv4nqISqwuvUcvP218847P+UpTzmJoCYJy0pr5S53ucvg0twYDdLjmbnSM2pK2JPKFIYRlW0ZBnFfMQwKepgUc7TAV7jCFWj5onF6cNwQxWMOASktdttttzFgMl+bDhfagMc85jFtn4v4+9rXvta/cWFkg0dd9O891QzHFtbpOb7NP8mV5kceeSQsqmy23XfffUGtMse5BdU7K4LeGGdMGI+nBWE+3+ecx2JpXvGKV8zXgq86t4M6FTtKua8FtwNCdatb3cp5RSu4zz77mN3jHve4uWeXf8gHGM8aT5yiDiXHIwHAT/7orOwVMLYdXNtvvz0RsBAENre3argOvfe9741BnmSvCorHe20QQIzdCEcAo0V4+3SEFxafe/azn/13v/udkxdwqeZCIF28iJ7DfUQ7Uv+Fco8nPaJFjK1QRIc4wvDiF7948X6HauF+97sfKSG3qOUtC7MDq1e/+tVt3dlCPFzoClIFGA/vf/rTnw41wvnawSjgQxdxUoIhFheOheXANnYQwyISG3YvF5cpJGYa5B3ucAftJMM1J9WznvWsuR17ptZWB735rAPRRi29SEeHL6+ERZzmy9uhghL1ZRp8O/Ajd55IhaOvRz3qUYzfomJmQo/CztVaglUKDIXwYPj+978//7BwcIWS5tOf/nRbR3N7qwpa1TLtRZVWkbm8sN6DAGLsRl760pcarUO2T0ccslV+7GMfG5X5ROYmuz4tFOpwpePinzwnkUOJlDAmjZ88/vGPJ8uvgtgRw3M+ik025sbRIlSU2uXjnkc+2DKxphZwWEQNunXKigVhu4GfWyO6ePs2+WL5yfPoZz/7WRpVIKFC69V/qLiliJvJkYRghHd+7nOf27+dVHNF0Nu24qQgTfMcU1iRT8rboY4S9WEPux0oM9F++vmkmxl2TwmeufOd7xyzIFrJqMB1uaIHireFgytMVgxLjYu4iLeqnAl2Cr1utLxJrsI5OpX6q9Q2HLfwtgCUAF0Yjy3kFAil6kjDJuZzoOj0+ZbL5NKXvjTV7UjDmLVZpIiKElfe+KF9wni59957l5s1I7Cl/MyrgTmZBhKvDlWeFTiUokTklBALR0LRQQCqtCMtTZCr/sLEMcccoz5htNIUQhXZ2GYa6oqgt5NOWjluzT118jPNcTmVy9vBGCoo0TiqYbcDCgFVuD6NBAFMqjwGolbK7ZcPrtBMkkcbG1nQWzWyvEZQ7CZaRQPr0cUvfvGRgDJ4s3e84x0NmJKts2USj5qsF6OemyhQPXitMjbBd408S+MUcA9ORgbz3Lm8UtOrz372s4WMTYQA7qQ0k1SRxJ3crOJDQoOUo6lN6t90UJI7uVqg8W2ULL6i3GeadojXjX+vec1rgL1gBqvP2krReLRpIxuhVJhg1GeFrXxopZKoxNGI/bLeskQeGLoHPehB6ZUNkv9Mz9ONCf1pVVtop4nbgPiDmcLVVwS9WTTn0GyPseK4isjMmQrAJj7StortUFn08nZQuY4SdbQZdjto/zKXuUxSAHYedPNVcCYwgJUNruWD62EPe5hBStYz3wDKXyGlGucKp9omWhW5wKWeHKO/1CaIOB1oIQkiCwYYhbWgcBSiCmyDCtuJmowu8XNBI/ao8InG0Q8rRPYXXsB7VSHc2Aapa6zr4YcfHmmckAqnKoWbhEn52BBmsQe882mTFY1wUk9JC4kLLGqoEV2won3aVEHsKaSDU7vGpY8qzNcREB6ldlQ9Ua9B8vwxtpwclqF33/veV2s9yXl5gkiUHUjYZRaKTuk3KP0pug0JHX3DG95A+Rki0UUvetGcPGjZyBM3Vx5zWHn51/REDCdp9NtoGA545grVtmbXF73zGQ244gCC/ad8ph8KfRR+S2Y56C0YwwaxgzC4XENBGHf1hCc8IY2kczv0QYkBt4N4TScVu1TgJ72inzC2J44tuRrDsEFKddHYrwP/da97HR6UUT+OaxHNkW28z06nOdN4OK9tolVSEHpkLUeaJ62lYyICLxyg8Ekmp0X64neuKSbutkbQJD2GEU7hDxY/x0gJuMhEKt8iJ4gKu0icnoh62DZYPqOmHYiueCJRPzJAimchiDmKnksaGElyPUnS/TOf+Uw/I+6dgAUa8UleciE17gKoaPbSUHVK8I9tHwVl9XnFCuiY8Co/FAakVYUJMiOlS3cSrXriE58YKYwV4ovTSshqIlc5lxZRkHUdXePgQ1mfzL+FCRI7mCrz2D7Bf+Tm/BMWLK3RAXQ6/qwpelfgMxOtKqw4OoG9s9axvkGrcCcAHk8oV5EraI+YRdySbRW52fpshzJKDL4dSCpOKgyQcToz4+DaY489BjxnBmzqaU97mnFyXm9sk3PmLW95y1gFxzW6lcLv2nLU5u1E9l54chKtwkGnRwNOQ1NYkpCB7EB+LHQF4d24oF47pONOlxj5rAJMiOWw8xqjNYwGMw+XReb31H5EMDAlxpMIGHLM5U6iIn5imsldmCePn7ySUjtMU29961v7DJuWLDZzo88FLwAiHS9HOUH8q6b8bxGlyGsub5/o4KGV6tOpOjOdXJ0TvPWtb633RKu0ny6RowTn/xJIyMqiGuYp6R4xAZ48+MEP7hw2XRM1KTqdp02rf0XjxN+XBIxjwB1rHLcYAhmzOcYz/0R4kOc9k5ytF3rXITPsisu+Grsgt/M74uOhzE9x5kRwjkIg6FziqFBAifG2Q6SEcJ9hz0FuVDV3oBsntq9tACTaALhgREFd1Bt2jT/6JI+P4y4sdpvkqiB9YyTyihsIyQp1u3RlbrhybCarD07clmaMscnb8mCGza0zYXmEajp2h/WfGQktqK2MtpL4BExw/Y45naJhEURMB5iPAVFx6gWcwyznEz/JZ8mVwwYuJPnNW+Ou6luak/o0UTtnLhIFnlYHixTyh2UKOOfWNaoMD4lfPcE108nVOUHGXr3ntCoFUeaiXqQ/VpJyeNddd/VTkFznsOMIw+8XatJ7x/Wp4fcf/rshsIazb2W5Y16V9W1rf73Qe0Fa1bni3K9jKXNaFVl4yFV576HjFTnQucRRoQ0lRt0OIfT3Mcn3nMVI1SgMjBOT3dZ+nCeMDtSAYdRkYu/piR0Z6YJgb8pbQefgUZ9kClg5mopycYoF0jB9hzaTvjIkocaCpbUkBC9R2WzUmFxqHH7AaG9+q0r+LXOXn53ZXKSMUo3OR0xVW++r8zxUDVwe8iGhN56HXzJ6z6TkD6asvA7QhfCKhcGn+yNST5o+xyTknxAm9K9njo8I+4+UHBWYh6MXjzXwpJ90EEdYRrjDwSdqyfRJtAAvY7HqpYJLQUsqqJVwqfJ55wTR1Mon6YaF/Lk9Fj9jCyht06+0xg9FBkXav3JOMkwGbiMU9FrALtBBxbEbyxHrVQFaz8wL64Xe5rjkFddjYdHTijciZ/6wESVg9bDbIe/RrqG38KTxCvnOAS+zQhzC2OW2Trl3eWV3g1g4DZKrHPJ9BhkkadN900EM44aITtNCYUB5xynjIQNJPKc1onJFV0lzzCq5IwD0ZeSHUhULVmgqidiN5DqyEnSmWw2GqOwjMBK7MUezMamCJS+ZW+XtrbSf0qXHZVTUiUlZr02apf7O0GHcQiMrXRC7PU+XdYlX85NXlWpsA7HQeRgmTiUeNrrpz4pLlcF0TjAiXXK5KvWY43lC0c997nPRRWRKlByrsILuTkWJpakuey2SMiNeIoDvcLRFU3Jr0S1eVZx9HX8e2tJ98Ge90HvsFee3EviWy1XhdVmRqyKdmHwQfYDchhLDbofKSEIWUWZyCu05nWGrOcyNMxkp6o2HXkFpO8wL43HC+zAupvgvuapTTKFooqfqLOF6pyQNcmjhbF1aLMdZ4nntXvvNeUeRgobFV1EYGFluknNE/srf0UI5Oam3kahq9XkTgyQwhfzBK6ky2fQzMYlxUVBeePHFz4AM1JFEgONN8C8UXESfuAqvs5DW1akLNJHYPqUIc/46r5E0D4NWkVHCIBwltRDndaXUccltpOqwveUIlnCp8vkiEyxDoG36+bxIk0RbrrTlLUMrgKYSpEKEIgYRcCNTcAJaJTdjAK0RYpVhrxd6G/zKrvh8O2LY7VAZQ0jMWPxQV65yiUO4rsaIMdP0ROJWXkghEc1UYn+FMmmTveqyl72svwtudfOR4jDAIDltn4dvflt+vNw1oNKCVBE+bAuWjsrJlj5TOrv5ZjrIVxzrTYrGsh4KhusX6hTStJJycKR+Uw6FsNWHuKOgfCkVPbVqH5cWIoUuZP3JJ+VD6+h5OFs7c1GLlD0yLDf77rtv/kngKGzr06kPZ7JXdU5wbrkqqG+bKdTEw4Gwz2WkzE6aItQGWMJQTCbzt2XC7Feus/M8FqvP1eBrh971PTLsio8nV9VRYuztEC4ht7/97Qc5WEZtJE4ecYGNvQgkiCNrvhs4WXlT41Wd/kxEr7NyODVhFRMa5Z+wbYS/Yxwr9ZJn+a28DfsTe0lhDMGb4PRjGKtfUCmDpKeW1igfrdPNEYZDZ3wKj9twsavUiUUNf3SngAxd/iA+w5LIKiYGlv9bJxwak8djbejQfRucjsYpkcNYZXji8zCAlaTmkcUZ/BttBp3DKFdYZILllgu5851QFHeESBJq5QoVKQFduVlpOaz9SfZirELkYoHoIekPJSYIBiWVAFrdWFgf89qh98queOfA6igx9naIxV0LhVAcwm0OAWGDp4pnsu2Ec7nCuLQKrONsJbHVx8FPLPKUJ62IOogzFW0qhInGCQRoOJMUphfrXb7qgjJNZGjKac+1Pb6qFIIOZSvNbEijhufvcu9zLEyY6BSeFCQnuRnRJ+7L1He8TlAd52P4OnsVqXpSCf6F1SoRhmBJFE/C/cwfoeAqF84dRCgnaW72p8AJNwRw8G+kChTpRW/JAxt8uK5W8JU4q2ZPh46uQTW8L08wLOebtAf/97UZRStGm5pLBnYCUzyMAUuMVu8SgWRNtEzSHAjUi3LEEUdwryAJ1S/Tiet/8AeIlk4lvwhUt1ioO8wMa0oqIQf3BNpQ6I0Am6whJXuS8yVyQ69a6bPilUWPkzRY/jSdwIq04p3TrKPEqNuBf1lEI7TRqp5L1rNa5/TLFeIYbKNVYQ+W1WKAWwNjFUfSAWpZyHFMVaAxSkCXxWyIPHglaU2sRy482tUUg0HhqGvbYiDoYVQoR0iE/aPgUozPZcp2fEtwYAz+BtC6T4FXhsQkrjUkiu6F+OLvsvl9Prk7At0qhZdEiqaCGWHD44jhxIxeIpSblJO0bRaUiikF80YMRAoo7hybeCD1fZXXDP9RnjkOaOcyJwvHJXMLwtYY1hfnciWhRqHrmTRC5QkiDGHRzRNnxCXOSn5xbVDxHE8i/iZ3yogxp5r1BfIExOpTo1EIAi8mJJJGk3HFl1DuI/D1ZB/BM7GEdS6QCkOhtyjp0KgT8qJfYkRKGNpnJHPXGXDFjeHYY4+NpUmJP6BBJA1QuK3GOGkXIoxdbHjPhF6NKDHeduAKH8NrS33Uc8l6Vpt7+eJDvRhtox0nXBmVntEy9ZHkOsBx7VXRNxxCkBJHjyWJIGfWDtNo1MlG+FTkWWgsEcKJw22rgF8O3UtnUqXQQJJXWPXj0pDGNsMlJM5o2kulpxlmVlTgEZ70SzYV1rtyN4yfaCey6iCmUxLkiyw5aHIrlxAoR54KEgjh7lVmUuofZBbbvuIopX0ugrl6isscETAleM1napAGb7/l2aHKoGDuMuD6Cd74VWGCFMuRgCoKxBOkbH1zzo66lXCce+5YXCCKvuQL92HyDPQkbHiFQivYOE7AIX2mrnEYKGXb9R8UibroE6M6LHqjqdQb6WIXZtHg3sYuQ6048oOfy+/api134ieHI1DFUWHpcG8RiRiFBbcz7rMNJcbbDpFkshz+1XPJelZbZKFD0yP0vt5I5AwD5LlzsS6bVqU5oASUWumIDzfr+r0e4pk9T2GtjXAULaSOf9ugHKoq+RQ6l4GTt5piWjtvzAvpM5zCxy7OOLqjwpBAkhLVqYdhrKfkiZQTMJUyR5njYkmcBC1fo1sKuQochA0VLlhDcdURrDoSoBafYGFg+EEn2oD3jiLAjK9On0IIpAVFYuFYAappzIOjN7JhvYKxc3zTMYy0cHM3O+qKd46qgBKDb4eIVgzlU6H0XLKe1Toh0FYhhOM+SSzn6GLDaFVlrCRrrBBOs3I3WiTSLUc/UKSoQ8ppm39obNKNvQUwhQGcdNUJykiFUEh83tnCGlVwNJBuG0V7uR7SjaKNM2IFJM0MeNYvH24CqAl59Ti2uUfC96TsCkWsRyDrieEbexwcvePAjaRlFNE9hzE3NNbxwzaUGHY72HdORQqJwv0JAb2eS9az2twrEsnMZr1utGd3y/MDLClN/s85WzxdBDOn1Aa4y0jaUXAC9DYy0TFC5l2wh/GgC39/54LjMmh+uYRXAimhXA3qhARGjulqcnN4j4dwUlMbsqwkr4SYGHnuFre4RdskmYWpSal2Yx3XtOBGKTxZoeK6nAULjTFItsWKaRzvZVuyaYUvaGMZFb2p5enM4Ta3HaheGMaCoFjfz9tQYvHtwE2a91lEozJ82G68dTpj7HouWc9qc69LHMKhNh+3BH0bz7eik34eeeSRTCC8FaRAdjRw4WWtkTm0LL6gbQwM+X2sVKKiVQArHPb80ZnZ1tjo2RBFjsh4GYoyAkGyr1QMJ4TcSBuB/40PO6e2GVSgXUSrKuE+PBJzW05lmoxAc1xltJqw4gdEuOzMet45eHSooCfAAzHoVm5dqrQ5NnrrjjeKRGgswZzyO2e0xVaoo8Ti2yEc0Kj+OChKS63BnqblxiVjOKiomkddWY45NBD9zdIzYc6q6ADToElC3KP5kjFQC9bptBvFh+EQnJO0yHzBkR9LUo+WzWFk5zOoYGO5CZEDuB37kE2b61rEeLLPs4ejTw5lcTPEf+4MnrM5wyQc90gy70wLubTKOer7W7BXoet0CdbShjdqR4NMh7jfdsGKwUP4Pjg/BnrnoAsH+mDFptITwwfZDizKThtcEZmBzbL/lW/1JSMTY/cx8XKmpCmMt7KRZqWPW8B8GLVytGq+aUQ6tTy3RURBmV6ZRdUdtoXjAJIWidr4/lF5EctSxqrIuEF0i8ykZL5wb3WtiZ80YH0Ol/nmNX01QaARAmOgd86/s7s4KBe8BHVau/kgIHkmOz3f7pkOlvqSWdAIdcovtRlvZQ1YX+Pl19hMaJW7MoFJRob5kIOaNZdbmTQr1zUR9UTFOiAqXu+NmVjnG8P01QSBkSDQE73zuAtyGwXXSOOZmh0DAo1LRtZxKuZxjeOtbPDuNE9jzE6bq+JbsaAhjmKdt0wKAJy1Nfnu8iQO5KpIcx6FaM/vQ7Qy0SouEkwlAienMkFglSHQE71TlhOhMPwpUuTsKk9tGltAoG3J5OHkEJQumRx1ZRlunKLkqiUsyrg5lkadgAQK7El8HCo3AA3SqfAmLtd77733IK1NjUwQWCkIJPSWmgQrJlaaeSMueZnKikOgc8lkzOJMSKM49sqKpmfOdwiHU9vYZY1pFdBwSSf3VDLjDQIy+SAWT7Y4yEimRiYIDA6BhN4S6fLC5abEpDFGiuHBRz412Llk4riljOmstjgkHbxwpk9c0OJ9aWErOkH/yS0mWJ2Pf0qfOkjrS2iEqEvg5WWbp05ZQr9TFxMEJghMENhiIcBK4v4KjouSa48HBMk7JJIV0cRdbr3lKjByzxDRKvJITmWCwASBCQITBJYAAQcv1+jI+Lecsva0igZD4gnJ1HvekL0csE69TBCYIDBBYHOFgCguSjj343DhWdoc155WgZSYfwGM6QLKpcFu6miCwASBCQJbIASOPvpoPtJy2y9z7psDrQIvEbtxjfpUJghMEJggMEFgVAjIuxZXjS+zbCa0CsgmL6Zl4s3U1wSBCQJbLAQ25LDdfGjVFos308QnCEwQmCCw2UNgolWb/RJPE5wgMEFggsDaQ2CiVWu/hNMEJghMEJggsNlDYKJVm/0STxOcIDBBYILA2kNgolVrv4TTBCYITBCYILDZQ2CiVZv9Ek8TnCAwQWCCwNpDYKJVa7+E0wQmCEwQmCCw2UNgolWb/RJPE5wgMEFggsDaQ2Dt86yPtALuK5PZ9+Y3v/lI7U/NLgcCrnV234/bb6O7j370o894xjPOcpazLKf3LbyXldpEWzgmnHjiiR//+McDIf/yl7/8/e9/f/SjH13HzwMPPPBxj3tcPdS37fnYGJ7nWT9Z3D0stbtepSMc6Sri9Wr2V7/61fnPf/7Pf/7z6zXsabR1CLzhDW/It9P1rne9CUrLgcCqbaItGRPwam4syzfChz/84UY02GuvvZ785CfXX7U9HxuXVu4O+4997GOve93rxibRPdsHfTemyIe788479/xkqtYfAhg6bF3cmjZGwT5jGD/wgQ9E44cddpj7Yv7n/4vLUj10kcGrXvWqMXqf2gwI9NlEY2OCYbgel0BQwITvfve797jHPf785z8vMyKWtgAAHQVJREFUeeGWMPcf//jHt7vd7WwHU3vXu951ylOeMu0C563zzXM5VN2rns/9oIMOevzjH5+2T3rV9nypcNtYueqTn/zkjW98YxN2EfLYJLpn+0960pOsq8sbe9afqvWHwPe///0ddtjBcsuL3/+rmWrafre5zW3iE1vudKc73Yc+9CGHUd6InxgRF/DM1PJUuT8EOjfREjDhne985znOcQ6a/AImeAUVSdv//Oc/+89uwZpLmHsIta6eiKFe+9rXvve97/2d73ynMnJEiz78G9/4Rv7ctcLuNvzFL35Rqdz2fEFolD/P5aqN1AH+9a9/fd7znsd+sDq06k9/+tMZznCGe93rXqMuwJbZuJvZrn71qwcjRiGO1xscDkxTF77whX//+99Hyze72c2iu9Oc5jQHHHCAS3dSj1/96lfPdKYzIWODj2FqsHMTLQETvvnNb+64447ve9/7OjEBlbrmNa/pPvTlLNwS5k6Wuv71r7/ffvvFjD71qU8l6cf97xWcd/Mf9WC+NQhk9gtBqgKQtuejwm1VaFVMkllodWjVi170IoOZjrAx8O/hD3842Pr3M5/5zLnPfW6XZP7oRz8asCNK+TOe8Yz0e6nN5zznOXvuued5z3ve2KvI2B/+8If09p73vCd+c8ABTE0FBDo30diYYAw0e9e97nV7YsJxxx0HPeqSxBgLuoS5v+c97zGdX//61zH+L3zhC+7vwCaiQLERKhoFu6by5CY3uck5z3lOZLUCgbbnYwAq2pxoVStsL3WpS1FSLVMhMN4yr1TLFDKnPvWpX/ayl8WoaGaueMUrXuta1xoQ1F/+8pftw0aj8Wtf+9rTn/703iZm0xjYsU572tMOOICVAvgGDqa8iZaACeZ+iUtcwp12dSA0YgJshBtve9vbxgbacubORIfS1Ofy85//PAwu2267LT1kquDKxDvd6U55faRLtaRCTK/ano8Ht4lWNcP2gx/8oBXi8TIe6LfYlr/+9a+jJfn0aYqOP/74AUnFS17yEsv3u9/9rhHIlH5bb701JX56e8IJJ6j/6U9/eotdlDEm3rmJloAJv/nNbyiZ4UNPTFCNwpCWeAyA5G0uYe66owC8wQ1u0DgXugfnG7TnZJQqMERd6EIXyut/73vfU4dqtNJI2/Px4LZyfoBJnbqxf7iY2QDIuRs7jM2yd/q3nXbaKZ8a5u4617nOyU9+8qHmy08HOxnyU71c9KIXvcpVrsLvC3WMtzEeCsmhBjBrOynqa9YPV7l+5yZaAiYE/1HBtwS0OiYEMiwBE5Ywd3NhoGqbOxJ+l7vcRR3+FAkgKjPvUY+nJ+c5z3k4H2E7fvnLX+bI1va8jpDgz92XFnFAXJ3yVpwETKGLfiT7fw5ldkX+QhgW591d73rXN77xjQOuwUhNQRfj5H9P24YAP/KRj/zZz342Ul8zNQuDxXDQPEB9biy//e1vZ/q8rfKpTnWq8NBtK4xkF7zgBU9xilNEhSAVfD4H6X3WRu5///tvt912hxxyyKwflutvOKIWNlHjyMWo2lAwgUI46NzihbY5rW9jaxVMUAfmJMRYfAA9Wxhj7rq2EQpskLmrc7GLXSwNsnEjxDGI/6vMpe15pRqzHGaUHyabdE9odFcL8W0DY4FXxLcCuw24ipWriLRHHnmk5xVQ7r777gPqr4YSoj/ykY9EUzRsiEFlzDzf3vve9y7YFxM0VcbcjSBUt7rVrRiKKAD32WcfIxQnP3dr+YfOfbu0rSlcHv/1Bz3oQakCm7PemRAG6X3WRkL+O9/5zjfrh5X6ON+vfe1r8XA8ROXc7DTvHGphEzV+K6jAzqKV+uIXvwgasCJ3funsrq0CgGjtLW95S2OFOiaoRrZYctjMSHM3F/ZCHGobcJ7whCeAM54mVXjsYx+LbarU5x8IhnVvwLbn+efHHntsynzhFFrknJzsVQ3rGCST5Ft5h0/kP3P2s58dIyyvR551SRDJ3Ntp8A/tQCEUxi8SQONijEyHKfWJT3wiidD4g26JnEgOQj3HcIc73MHnScFNVXLWs54113f3bCeqcUkyDCG6/n7Uox4Fp3nrzdRCW2VkWMspMO5Nb3rTFa5wBQ4UcfzZdeztSHj6XCIDGkhn/SC9z9qI8RAmxGzM+mFeX3QnNtl+9nBARK2suMaRk9122+2nP/1pebRtm6jxK8cl7gFqMTFahe23395cIk58weJwZH9K+Rc6MUGn9jj3xQX77f/5eHM3Bg6ul7/85WMwOG8LZ/mgh58MTky2r3jFK/KhOivUqQyep4nd5Ljr+TxV+8EPfsA9DRMGGR74wAdqhEanP2QqNSda1QC6l770pcBKy1d5R3t2pStdifYsPY+aijC6uddg2A/xvMaJUHH1iWPL8F7+8penXtCnS1/60jHsmc5Hh0iwSLA8tYYlxJo997nPnXUWFAIOhW222SbRDArAWRtpqy8XACKavG+l/gv9noA5RMu2qfDs3Jrryz3UYJbQDkJFjkyrORSiNq442FIkMLeU16ttEzVCY//997c6mPp4K0D7b3/721Bww7exhkZrnZjAZx1adlLiocamnVHnTmNhzyYX/BRl6HzYZZdd3v/+9+cTcXQgLS9+8Ysrs4szBCfR83lUwyXoQlKMOIgU+xGWSiAyH/RWi1a94x3vAJRb3vKW801mqK+ITYZx5zvfOW9Q+DfdN0mi0ou4nDj3l4nfhZk+5jGPcS6n+PMHP/jB9GyV+ilvim3cH2jHHHOMadIqVD5BqCJrS/+m1JS+RWs3velNZ/qqf+W3vvWtoqkSY4Fhl0Imp7KpKYp4AV6LKDP7j2qMmqg+EXnvvfeOxgdE1LYVR0sIgihiQRnYuIkap6817A5ksBBjwAdAznWuc735zW+OxguYYCQMujISjDGMDZm7Tvmgp6OMaEXZwA82VyqkgdmS1HT1NSUexRFXCTtrex4N0vCjlKHaSYWCd+6NtkK0ikaIuRtE0F7ZcT73uc8tDWMqHdHwGgbuO3/O/JNbONKrlKK4D62ycqgdO2pB+ebVZz/72Tx6vDI85y8faxwi4QCTm6uA6eWxUfk4ad4rDuJaw7Ry2jbHmWhVmxQPKS9+8Ys7LmeK573MZS5jAKEAHKnQ/ODsKrul0pcxcwZrs2e0DczBB13rAZKFiRRWLb760pe+VPlc+ylpslnEilfqWMqrXvWqudVhEESNXgp6G0mvLR/GqG3KjZuosTJgaorRro8ZbD5UYWNztpQzUDvHJc3jtF23Us/XaZ+vljB3tFko9KGHHloejwgq6hbkp14t5UhE5PK3bc/7THyOOitEq+YYfeUTsRRYM8Q8WZjnazMMUYV9mDdLA6synXi5Lx7SMIZ64QIXuAAvIwUjbMDpKzvk8MMPj8QKCAmSQ80irWrerM0sqpFlhQ5a0Yg485Q8xlvONj7vpBmU8uEg3t8+hDmN9MwiKOszlSHCqz4WafG5VOT6DU5NQK6fzEXzrVTnV29/+9vLAh9jG8eKznYqFe573/safCNzWm+qvGpIFI8SJ2nSsSA/hs0jjv8LHIAkzn0Wbz2S7NnD8y4iJJMOs3MKPRE1tVNecegK2WApxG7sunMTgZ6lVxhITIGBKn7OzXeXIeAUfvazn12o49Coq786oTpfhSXPHTsLx8p+DaKGC/gcrK2bRCrzbXse1b797W9LRI6ro4ON45QC8EY3uhGbWc+9k3e3OdAqWnUpvCIRqoIeYPPnw6H4isusdnreihIxWE6WQo/ICaLC1hVUBJcXhh/q4/jK8cRe4gmB0ubHCkVqROW2t71tYvTC8SaxSM985jP9TPrfyKdS19HVBxYKaIo7sRSdgLKBaQby4CeOUkTD/MMIDMQad9rDH/awh/H1R9rVR2v9reyxxx6dw1ipCjPRqsKqMepElmsl0SpamuS3aY2QK9ZpJqJwv4Y5ed6v+JzLQCd8+iBqNNJnxVWD87qu0M40jM5NhCbF6sf0zTF+jpEcshM4S66wdnMPV1XGvAqg2p5Htac+9akMOrG+jlN0KwUD4MZmhfna0yqYzYMILGxv/iqYQSBYUIoP9VQfmUNGFuoX1DHPU1JZAxwE5b5B5m5mEZrASTcqR2wNGkCnlz7nsxfLnLySaLT8JDimOvzZGGbiJzrnLQNVJxKoo+b97ne/ck0aJ35BWCdEMa78ofgO9pxPBKYp//wiF7mI58kqUG6ZBKbyla985c6hrmaFmWhVedVM8Na3vnVOq2LK6HesvhwKgc8ksHiSvIfDYIB6tWXoSNDrg6gqz7TiJGy92yyNa9RzE9k4MamNChjYQARbo7nT8FsjMZoVcLU9T9VoBWJ9fcsqTOfvwPTHD3/4w1khv960CnvCvRUgnH1l+kRwIQpQAmADHbtsQrZlW9Yvrpza7HNPRJAHjHMB7qRvdSoZyQzG7QNogA/RsEglSQeYt+MAQhI8J5OFKt8nfpLPklqZ8i1x2bvuuqu3PLPLSIBtZxE0x6DrbYXGAC3RYLhBR57N4N+pH+szirFVptDWeKgTKxbBWXF3A+vPRKvKq2YWmAbQqPhZQRgPyVX5NEPHy488HvLj8pOqsBMUfRB11hWnztV7PRwnBtNzE0UoPXI7oBdoJzRWpMIazV0WGMuUcngmALY9TxUCRfnfUgOGipUlfj4nzyFzLGET6ILKJc/eEfRWcZmKA7exsOalavU/OOk60Iks/qjftRz1GaidiWRVaRG4PzimKV64mKPteYb8vHEXSfjZGbvOEGLxaELiWGkroZqr3NaI3nge7qq8LVjO/cGUlTdizKH0x5sQYvwR+btojVlB0V1CmPiJlFwjwsLNqzAYFN3JiDTyJnDGFWqiowhqKJdVszp0UHHsRo8xpFSi3z6h6ZA1cssm9VdhGCvyqoLbkV+jguqNuN25aiqE0r9SGvGZgK4aRWtU7rPiqvVE1PlW3GrGfqmUnpsoLlOntA+mc/XL3KdcfWprNPc4DB22lVm0PU/VItOm/QIfIt6fXOUQXnShgxi610RDPa01iX7Wp9E4Gl5zdaYm3FsbS7orr5EVSn6DOH06QFka+Wc7W5O7FMTiJWXbH3XUUXkL7Fu647rd2GwoYetMRF4ZfXU667HTGSxaqwwgbyo5Gki6VRkP01SAJRzVKhkoqN1yxwHil5r8/gtsIzsnVr0zYwW5M9yIo32HI/RKSTB5wXpVUSFyoPIQOnYyrcFqKZ0+IJ1NLafCIrjduWoqcDABjYpcFT54FbkKMnuYghDCYInvKcChJ6LOseIpTVej81ifTWTYoQzo4xuynLUu97IgJlQaX6O5BxtdJwptz9NMQzdTOGz7L+sRRxyRtskm5i5MuOV0anW6QltF2dVZwuenUvj1Q/fG4sa8ev14YoTB2usaDhE+KLVEAFCpxTnrhIUNPH3p6Hgo5O2w8JPGkl230kXwuYU8WmghtwjrJGtZWfwiMAWDmSeIrHSXOOi4jyAvIWIrMST2LeZNHjXBmFCBiu6KG3cUgrZ/27h7rzhZPe1pTyNK80hsg2o8J3GiizAhRCgMIBlOLFS8pUX0b2gCU4l+A/LlEuwkj8fQaK1+qeN28HMMijnCN+K2auVVW2T6nSveH1HnXvG2Re/cRD60xSLL3LpI2IuccpWFXq+5tx2G5ZzLzuRw4+LXI1P7Iqju2yBJQZ423QtMsejvgw8+uD/F25CaBJpwTuNt0jgABMnbesqQqJx7KFQ+Fznow/ymvryCU/uGN7whi0vZ3pM+iQSRtBz18BExZDKshJispLj99G3KixGODOhuvEL5Ug54+syw1eGvNdJmZiNLWea2SVUgwOykKXJbPA/Xj7j32kgw+5VrbzyP8fRBm/AauP3tb78haDNIpzPZq8qrZjxzy1UROy9DR+OkZkLUOVY8jiG8WqOpuLyJYsCR+k9ZMMhkkDVdciPrNfc4xHC6FSi1PY9qYrZifQe5Dywu+uGApuVNclXY84dN4b4gRW383CYJCZSTd72ChyDreRwE9RIkubGE6jxdGJHXsS1pwAgWpJmKvUdKwIBmpaBSnrDQMKrlrxz9znfiC+NTMAvhWFWp4ydnGx69/nBEuuPAH+6YsfyRT08KExkZ/BEWI8qc+hhYnjiPygfIvpW/xfjIOVSvTzz1MImMjFVoc4yBcwrcIAoHmqYS/ZatZVE55Kp1YaXrwJn1SXnVZm0tr19Y8VkRde4VF37QaForbKI0hcAELYQT6RZV1mvucRiGlSEvbc+jTpjqKbeZvRdf3CBJQZ420apwAS+okhbvdagWIr8RpRbppNImJ6VIW5k0VyogyGwkqdS/ikZim3FWqY/TucPyxNwltQR3+SgUqdwriBR5Ntv0bdjGFJ4UJCchTegT326D5+6B6qB54QjuVWS1SSUYE1ardByEM4ziSfjm+SN0QaGvq3uj8HWm9BN3hWqmMSN15FFCZ3hUV0pcE4AEOsKIg1IhBBiNR/Asq0lYU1IJUS+Nod5gesK9JVx1txxaZbKFVfM2fCXCvyaVOAWCP00Pow6BKZ5w2LFb7eGKn4tXsyLqrCuui0hh3nhvjueFTZSmE+d1GOG2tLJec4/DMMWwpsVqex4VhH76d8899xzkarogSUGeNm2MOFv7GMmXLDXXu6OFC5sHuw7LFqUEtbvjXjIVeYY8dyDmXzl5KQZDiGEvqWe5j8pUfCrU3wZtaCsFNxCm4/pXnEFSNJUlD+MZizQqGMNA/DxhGEs6Fte10L+lwM8w5qWA4oi/qZjoiYApsXrjyOupfXQNLcLljDQmkNkfaJvYCEYIIVZyq1TWIqwOxNxOlBANFkhfiKL3iv8FohiRxUIx/F1PlUQoNLaUtoOpHyntDEbuHGGfCjPpAMurhhUI+3OeA8LDiKVVRI7HkAjQkb0C9JJHTyTRhwn5sOdA1FlXXHfBvlRSq6RhtG2ifJxh9iuEfPRc4p7V+qzs0up0zt1IMNO4nEiLrlD5VmLw43nP/bLI1MJAngehR2ttz70KX9/Gr+YbSWSziytONtEqztAeiZOfr8Ulf4Vc0fI5JRPppigXIB1XXjYaRSLyo5DuV1owFdDsfC5hGyiUelB3/rkEr0ln6MQhl+Rhv2r6iY6ahTOLwk2QL7JE1ZZbuejrzFQFKewwwiqLm8kDU2TeNMI8lWIYsdoKprhtvchJUmkkqCKiTp+26z/oP3XRRvvzLgLhUoRQY+/gwOcwzkFq/Yg3rPg3kvlucYtbAAVgRr4WEFYtzyg/Hiruu+++uq7T7MYeC6tGTR1ZtaKQj2VoJHcmnxoPMZK4FgxKaD+iMFJGGmX3A/mZpyeeG1FnWnHoCvKoZp4nLJ9+4ybKK+AqQsncllSp5xL3rDYeMszRcufctYkw8K2FEryd/fS3zdjo89lnv8wxyPRJkuOBOm+n7XnUibxrEHWoNI/BIMatIptoVXC+a5dTAOCc2okAhLd3/aIHTLrnKbq2cQnDqOPfRRa48VvHgfUuiBSOXdpLJAE3XRcRIj0BFpjgqNQzmeJlnGjo9FAjdxwz7CEthfA9Y3bgkh4q1LdxDKG2lfm0PEISMBmOTpX2kulRaTTgy06rNfcKag24LDd97FBzH6qdzlVbsCPLjb0dyj2hz4onzqCeyCDNpXMTRbJ/GaTK0++5xD2rLQjqoT7vOXfdhbndAc3pNC73ahxDz/0y3/gJ9MEh5dchaart+Xy9dH4V6ZrCO2wTrYrELXRrnR+vcgWqLXIJaaCSxx4ZqPCh9VlQdqlTv1tsleebxkYsxvLXQ7XmHjxMKLvx2EUIZKMusdKpzWZRMOOFLPLpk7ifupwB3eZB0pKUJlnRusRszb0c9Q9Blaqgzd91jo46V1xwBX6/zBJ1bqJQVKZbENvG2XOJe1abAxpjfNJz7rqG/6DE2Nx5o26f/TLfXOLWbDu3Ekva9ny+Xjq/iiCZyJ+7iVb5K/xNO5OMdbY+UwUyh8thbQCeZhUCPlM7qTJHhiA5aSKOyHAlKGdcDgtNOcRyviEt5ytplvgxk88W746zIvf0ghFIeCBsSTaVeo84QTJuXMcQriJ9/NpVjsxDnTcXUwBEknuyV1m1uDg0VrYF/CVNIw/VPqJteRadKy5bBycdKqlyX42biH6SqjaUQhpB8EQfdkK15xL3rNbZ3UgV5pt7+GeSrjpH1XO/dLZTrxARnBCs8qrt+RxddH5CrULnLOFOYN1JtCoiZ2e9Pa+zv0IFikd0O1lHsN6DXA1AO8Svl8GD+Y0Vmps1o5HMreUT0P7Bra/OVb9zAJZvAl57cUcDpt36VY1pPJg+3iu47MIIQzlD9cc5QmwEv8c+md+oN4NhKqfh0G9k+OVCyXSX3FLmgNi6f2Ktub305AMKky2vuA85AfW5O6O+iZAofI/FogFjifRHn/TQ/Zd4lTFh7rmHFbaTb+6/X+bA8wjFqdPLtudzdNH5iQ1uDPzRouZJtIpbthcM+51NDFIBoJETdIWMCY/DQWAo5w4EmUevFPS4ADxjpygdMwoX3k6mfpDpj9RI+Y7Bnp2KCSvcNwGYnfAkUWFBEE46CmattuuOKuORjDhSTzmAvMqNuhWPBvm5VSNDCwDoOanNuNp8WUFzgJRXXM3+eFXfRMEEi7aR36Qe+d62Lm1LvF6YMMfcoT1rMXEZH++QxBQmTxb7Ll/rwn5ZHNsjjrNuY257vniP9RbcNWEM6crmk2gVHo2lR9zDGL3W2wSFHHFZRwyLz/Ryem/sJVLeFXJbbODY1q5rGl1mQn5NnYSNByNmjYaWa5Np8oAih8l6x88wZs1xDuXLL3UkpbHPMZgNojdeO9iu8oDrm4h4gRklupVl8cqkGpd47TCh/9zVJE5Roopb4BQaefA42QoSiFw5bBlURBQ/+PvyfhkEPSJ5mOiXSmttzwfptNII0cXGT3evn0Sr1KP99K5wLdOAA+K9lru00UjiI9ruxRmw30JTUudZHozDcrqbegkIhBoHXoYVl/3ST77picjFBSs0tLkikS9A500oE4SXD4EBN1F9iTdjTIDbHDuJnmGFYfElOVCfplzbKkSodUSkFPbL4ovuZBaQWne1a3u+eI/1FjgcMFblmrb/olXC0ECnEmM0xjjqbcZNB33uDBxvPCRLNrPIPTWVpUGAwrZip6zn8KbRla8hubDTMbqpZMHbNZc2wS2qo6E2UdsSb8aYQIDIA9cc1hVPN6QCJ01d0blfFkS5yKSDM6i00/Z8we4aP5dhh+CUexr/F63yDfctjjoVn+8xhlJpk7Qr/mn5/VaGEfk76pLvEiAwddEGAcYSQaYp4JdBUQDWTAqlCbbLhMDim6htibdwTJDwmltTz2j0RVacyxIhLynfUlNtzxfpq/HbuFe9ci9rlVbhVQVXLtkPmPsDQrUKhiIjoWvqedHt4Cs0NdgIASEdPANpCHk8M1ZzL5RVa4LVykJg7k3UucRbOCZwgamnAhgcDZhjZGjjX1ppue354APQoGx5IqsqTkNVWqUewZOLKr3zGIOotwn6ot5chLGc7jp7EVtqqZbAvHSOZKqQQwAX5WIRQQiVpC8TlFYQAvNtop5L3LPaCoJlLYYU962726Ey2rbng09KCjEJ5+pSXQOtCnIluYUozsHHUWmQ/Vzc7qz3EY86KklEZGbrDK0fdQxT4xME1hoC0yZa0+XDo+PU3exaGX/b88GnSc9JsVcnVDradCcII01euKCIsIl8uuMV3UsgRqhKN2iASPjvb2ARR4xIywPd8+7qDRzq1PUEgdWEwLSJVnNdOkfFt5YT04EHHlip2fa8s8FZK7BUUfhLwVP/cCsEY9bmhqrP60+cF8VoXNTEcMoO4SqNDSdXBmNg/Ecb7/UYavpTOxMENm8ITJto7dZ31113Pfroo+t3VrU9X+YEN4xWSdlSua/WtElycqL3uWd2CTBCxRsvP11C11MXEwQ2DwhMm2i91rFtvVZhHf8XCiqpZBjJfLUAAAAASUVORK5CYII=\"></div>"
      ],
      "text/plain": [
       "FormBox[TagBox[RowBox[{\"(\", \"⁠\", \n",
       "\n",
       " \n",
       ">         TagBox[GridBox[{{RowBox[{OverscriptBox[\"r\", \"^\"], \" \", \n",
       "\n",
       " \n",
       ">               RowBox[{\"(\", RowBox[{\"-\", SubscriptBox[\"ϵ\", \"G\"]}], \")\"}], \" \", \n",
       "\n",
       " \n",
       ">               RowBox[{\"(\", RowBox[{RowBox[{RowBox[{\"sin\", \"(\", \n",
       "\n",
       " \n",
       ">                       RowBox[{\"2\", \" \", \"ϕ\"}], \")\"}], \" \", \n",
       "\n",
       " \n",
       ">                     TemplateBox[List[SubscriptBox[OverscriptBox[\"f\", \"^\"], \n",
       "\n",
       " \n",
       ">                        RowBox[List[\"x\", \",\", \"y\"]]], \"\\\"(5)\\\"\"], \"Superscript\", \n",
       "\n",
       " \n",
       ">                      Rule[SyntaxForm, SuperscriptBox]]}], \"+\", \n",
       "\n",
       " \n",
       ">                   RowBox[{RowBox[{SuperscriptBox[\"cos\", \"2\"], \"(\", \"ϕ\", \")\"}], \n",
       "\n",
       " \n",
       ">                     \" \", TemplateBox[List[SubscriptBox[OverscriptBox[\"f\", \"^\"], \n",
       "\n",
       " \n",
       ">                        RowBox[List[\"x\", \",\", \"x\"]]], \"\\\"(5)\\\"\"], \"Superscript\", \n",
       "\n",
       " \n",
       ">                      Rule[SyntaxForm, SuperscriptBox]]}], \"+\", \n",
       "\n",
       " \n",
       ">                   RowBox[{RowBox[{SuperscriptBox[\"sin\", \"2\"], \"(\", \"ϕ\", \")\"}], \n",
       "\n",
       " \n",
       ">                     \" \", TemplateBox[List[SubscriptBox[OverscriptBox[\"f\", \"^\"], \n",
       "\n",
       " \n",
       ">                        RowBox[List[\"y\", \",\", \"y\"]]], \"\\\"(5)\\\"\"], \"Superscript\", \n",
       "\n",
       " \n",
       ">                      Rule[SyntaxForm, SuperscriptBox]]}]}], \")\"}]}]}, \n",
       "\n",
       " \n",
       ">            {RowBox[{RowBox[{\"-\", FractionBox[\"1\", \"2\"]}], \" \", \n",
       "\n",
       " \n",
       ">               OverscriptBox[\"r\", \"^\"], \" \", SubscriptBox[\"ϵ\", \"G\"], \" \", \n",
       "\n",
       " \n",
       ">               RowBox[{\"(\", RowBox[{RowBox[{RowBox[{\"sin\", \"(\", \n",
       "\n",
       " \n",
       ">                       RowBox[{\"2\", \" \", \"ϕ\"}], \")\"}], \" \", \n",
       "\n",
       " \n",
       ">                     RowBox[{\"(\", RowBox[{TemplateBox[List[SubscriptBox[\n",
       "\n",
       " \n",
       ">                            OverscriptBox[\"f\", \"^\"], \n",
       "\n",
       " \n",
       ">                            RowBox[List[\"y\", \",\", \"y\"]]], \"\\\"(5)\\\"\"], \n",
       "\n",
       " \n",
       ">                          \"Superscript\", Rule[SyntaxForm, SuperscriptBox]], \"-\", \n",
       "\n",
       " \n",
       ">                         TemplateBox[List[SubscriptBox[OverscriptBox[\"f\", \"^\"], \n",
       "\n",
       " \n",
       ">                            RowBox[List[\"x\", \",\", \"x\"]]], \"\\\"(5)\\\"\"], \n",
       "\n",
       " \n",
       ">                          \"Superscript\", Rule[SyntaxForm, SuperscriptBox]]}], \")\"}]}\\\n",
       "\n",
       " \n",
       ">   ], \"+\", RowBox[{\"2\", \" \", RowBox[{\"cos\", \"(\", RowBox[{\"2\", \" \", \"ϕ\"}], \")\"}], \n",
       "\n",
       " \n",
       ">                     \" \", TemplateBox[List[SubscriptBox[OverscriptBox[\"f\", \"^\"], \n",
       "\n",
       " \n",
       ">                        RowBox[List[\"x\", \",\", \"y\"]]], \"\\\"(5)\\\"\"], \"Superscript\", \n",
       "\n",
       " \n",
       ">                      Rule[SyntaxForm, SuperscriptBox]]}]}], \")\"}]}]}}, \n",
       "\n",
       " \n",
       ">           Rule[RowSpacings, 1], Rule[ColumnAlignments, Center], \n",
       "\n",
       " \n",
       ">           Rule[ColumnAlignments, Left]], Column], \"⁠\", \")\"}], \n",
       "\n",
       " \n",
       ">       Function[BoxForm`e$, MatrixForm[BoxForm`e$]]], TraditionalForm]\n"
      ]
     },
     "execution_count": 1578,
     "metadata": {
      "text/html": [],
      "text/plain": []
     },
     "output_type": "execute_result"
    }
   ],
   "source": [
    "RHSMotion = -Subscript[\\[Epsilon], G] FullSimplify[RotationMatrix[-\\[Phi][OverHat[t]]] . fh5rh, Trig -> True];\n",
    "RHSMotion // MatrixForm // TraditionalForm"
   ]
  },
  {
   "cell_type": "markdown",
   "metadata": {},
   "source": [
    "<span style=\"color:brown\">**NB:**</span> Полученные выражения <span style=\"color:green\">**совпадают**</span> с уравнениями (10) и (9) из файла Binary.pdf"
   ]
  },
  {
   "cell_type": "markdown",
   "metadata": {
    "vscode": {
     "languageId": "wolfram"
    }
   },
   "source": [
    "## Получим теперь **энергетическую** систему уравнений\n",
    "\n",
    "В задача двух тел без учёта гравитационного излучения в системе центра масс в полярных координатах радиус-вектор $\\hat{r}_k$ задаётся как:\n",
    "$$\n",
    "\\hat{r}_k = \\hat{r} e_{1k} \\quad,\n",
    "$$\n",
    "где:\n",
    "- $\\hat{r}$ — расстояние между телами,\n",
    "- $e_{1k}$ — единичный вектор в направлении $\\hat{r}_k$.\n",
    "\n",
    "Скорость в полярных координатах выражается как:\n",
    "$$\n",
    "\\hat{r}_k^{(1)} = \\hat{r}^{(1)} e_{1k} + \\hat{r} \\phi^{(1)} e_{2k} \\quad,\n",
    "$$\n",
    "где:\n",
    "- $\\hat{r}^{(1)}$ — радиальная скорость\n",
    "- $\\hat{\\omega} \\equiv \\phi^{(1)}$ — угловая скорость\n",
    "- $e_{2k}$ — единичный вектор, перпендикулярный $e_{1k}$.\n",
    "\n",
    "### **Кинетическая энергия**\n",
    "Кинетическая энергия $T$ в полярных координатах выражается через радиальную и тангенциальную составляющие скорости:\n",
    "$$\n",
    "T = \\mu\\frac{b^2}{2 t_0^2} (\\hat{r}_k^{(1)})^2 = \\mu\\frac{b^2}{2 t_0^2} \\left( (\\hat{r}^{(1)})^2 + \\hat{r}^2 \\hat{\\omega}^2 \\right) = \\frac{G \\mu M}{b} \\frac{1}{2}\\left( (\\hat{r}^{(1)})^2 + \\hat{r}^2 \\hat{\\omega}^2 \\right)\n",
    "$$\n",
    "\n",
    "### **Потенциальная энергия**\n",
    "Потенциальная энергия $U$ зависит только от расстояния $\\hat{r}$:\n",
    "- Для гравитационного взаимодействия:\n",
    "  $$\n",
    "  U = -\\frac{G m_A m_B}{b \\hat{r}} = -\\frac{G \\mu M}{b \\hat{r}}.\n",
    "  $$\n",
    "\n",
    "### **Полная энергия**\n",
    "Полная энергия $E$ в полярных координатах:\n",
    "$$\n",
    "E = T + U = \\frac{G \\mu M}{b}\\left(\\frac{(\\hat{r}^{(1)})^2}{2} + \\frac{\\hat{r}^2 \\hat{\\omega}^2}{2} - \\frac{1}{\\hat{r}}\\right) = \\frac{G \\mu M}{b} \\hat{E}\n",
    "$$\n",
    "\n",
    "Здесь $\\hat{E}$ - безразмерная энергия:"
   ]
  },
  {
   "cell_type": "code",
   "execution_count": 1580,
   "metadata": {
    "vscode": {
     "languageId": "wolfram"
    }
   },
   "outputs": [
    {
     "data": {
      "text/html": [
       "<div><img alt=\"Output\" src=\"data:image/png;base64,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\"></div>"
      ],
      "text/plain": [
       "FormBox[RowBox[{RowBox[{FractionBox[\"1\", \"2\"], \" \", \n",
       "\n",
       " \n",
       ">          SuperscriptBox[OverscriptBox[\"r\", \"^\"], \"2\"], \" \", \n",
       "\n",
       " \n",
       ">          SuperscriptBox[OverscriptBox[\"ω\", \"^\"], \"2\"]}], \"+\", \n",
       "\n",
       " \n",
       ">        RowBox[{FractionBox[\"1\", \"2\"], \" \", \n",
       "\n",
       " \n",
       ">          SuperscriptBox[RowBox[{\"(\", SuperscriptBox[OverscriptBox[\"r\", \"^\"], \"′\"], \n",
       "\n",
       " \n",
       ">             \")\"}], \"2\"]}], \"-\", FractionBox[\"1\", OverscriptBox[\"r\", \"^\"]]}], \n",
       "\n",
       " \n",
       ">      TraditionalForm]\n"
      ]
     },
     "execution_count": 1580,
     "metadata": {
      "text/html": [],
      "text/plain": []
     },
     "output_type": "execute_result"
    }
   ],
   "source": [
    "Energy = (D[OverHat[r][OverHat[t]], OverHat[t]])^2/2 + (OverHat[r][OverHat[t]] OverHat[\\[Omega]][OverHat[t]])^2/2 - 1/OverHat[r][OverHat[t]];\n",
    "Energy // TraditionalForm"
   ]
  },
  {
   "cell_type": "markdown",
   "metadata": {},
   "source": [
    "### **Момента импульса**\n",
    "Момент импульса $J$ в системе центра масс:\n",
    "$$\n",
    "J = \\mu\\frac{b^2}{t_0} \\hat{r}^2 \\hat{\\omega} = \\mu(G M b)^{1/2} \\hat{r}^2 \\hat{\\omega} = \\mu(G M b)^{1/2} \\hat{J}\n",
    "$$\n",
    "\n",
    "Здесь $\\hat{J}$ - безразмерный момент импульса:"
   ]
  },
  {
   "cell_type": "code",
   "execution_count": 1582,
   "metadata": {
    "vscode": {
     "languageId": "wolfram"
    }
   },
   "outputs": [
    {
     "data": {
      "text/html": [
       "<div><img alt=\"Output\" src=\"data:image/png;base64,iVBORw0KGgoAAAANSUhEUgAAACsAAAAeCAIAAAA6iHCJAAAA0HpUWHRSYXcgcHJvZmlsZSB0eXBlIGV4aWYAAHjabU/tbUQhDPvPFB0hJMGBcXh3nNQNOn7Ng7aiOkvExvmApPH1+UofE5oleYmKBgjhzZt2iioLi7O0O97Qa+fy6ac8tt9plb8Efvzr9AN7YP03SHQJmy9Qm++GPch0+bmv+7Xrtdd6DjI50OT362/vbqEoyOGMrhKBRl0TJQlFpQReeAAszHiq+IM8EME2xKywPhsndMRZPRKMxnOuYPMU62RjzFbZypWpy+0Xc7129l4kfQOUKFrp6TmLKQAAAAlwSFlzAAAWJQAAFiUBSVIk8AAAADx0RVh0U29mdHdhcmUAQ3JlYXRlZCB3aXRoIHRoZSBXb2xmcmFtIExhbmd1YWdlIDogd3d3LndvbGZyYW0uY29tXKKmhQAAACF0RVh0Q3JlYXRpb24gVGltZQAyMDI1OjAzOjE4IDAxOjU1OjU0U4ZAwwAAA+FJREFUSEvtVlsos2Ec3+aQnGIOUUgLJbUkp4wbLiQl4cIFymk53cghLVy4JOVuOZVacyhXRBiiRkmI1i7kULhyzpwZ3+/tWc/2bW3P3m/fl5vvra33/T//5/f//Y/PI/z+/hawnqOjo7GxsYuLi7i4uJqamtDQUNYOPutg4PiZmZnx8PBwc3MjqEFBQYeHh6xNPNYFjnUNBkNYWNjk5OTHx8f6+npKSgpIFBUV8bDAUmUwUKvV3d3dFGR2dhYMoqKiWLA81hkM9Ho9wkDx3t/fkZHExEQeFliqIloz0Hx5eUG0LasoPj7e19eXSq6urqCQk5PDp9I4J22RzQiUYltbG6TBwcGoeXu8e3p6AgMDwYPl2G/rjpFNWZibmxMKhYRXVlbW5+enrY3T01OYX1lZ4WWeicwxOD8/R49FR0cfHBw0NzeDhEKhsDKDapBKpaOjo7zMO4MsgLuZmZkZGRmXl5cEXalUenp6Li4uUmPQKSgo6O3t5WXeGWQAClBZCOzr66sluk6no2Pn6+urqqqqs7OTKjw9PbW0tDDZMJEJghA/JHhra2tnZ2d3d1cmk6HclpaWBgYGxGLx0NBQV1cX3isqKkihgCs0a2trW1tbHXcEWhfsvby8rNRgET6YWwzf/f39hYWFRA+hnpiYcHd3J59NTU22ZpAjmjJ7kdBoNBimIyMjtgpnZ2cYKtvb22TJ1At3d3fE0vT0dEhISF9fn4+PD14cdKaDLCwsLMCHyspKezqpqakJCQlGo9HMYG1tDeYDAgKys7OHh4ex8Pj4+Pb2xky2rQIays/PD+fn7e2tve3l5eUwB00omGbi6uoqRPf39w8PD9XV1XhHDBBtXrMPykCUy+Vo3Y6ODgwPsh0u4ShBc1E0uIr3jY0NTkJopqWlkWUcgH/gN90yPj4OEG9vb6SVCktKSpD46+trKkFvQ62urs6UBYRLJOKCkZ+f74p57EUSgVNcXGyJExMTk5eXZymRSCRQI6cuZ3h5eRltQ0jxDbuV/v7+PiSxsbFUjq45Pj5OT0+nErTJyckJPsltg2OA7sd/eHg4mLrCAGV0c3MDBMtr3ODgIBxNTk6myGh4vOPCZzpjsRwZGQkRTgQXU4Dt6AJAYXwRKJQkHINkb2+PSDDfOL9Fos3NTSIR4A5C2Gm1WtcZNDQ0kEpsb2/H/Qpxrq+vx5GWm5urUqnKysqwCpZTU1PUlgBRInEj88HFB+O2sbHR398fmLhqYHI/Pz/Pz88nJSVhqEdERJSWllpddLlzwZXc29uLgWZ5uYIaqCA2tvr/ioHzXpnvic7v+bua/xmQifSzz88z+AUG9ZDrhvIkKgAAAABJRU5ErkJggg==\"></div>"
      ],
      "text/plain": [
       "FormBox[RowBox[{SuperscriptBox[OverscriptBox[\"r\", \"^\"], \"2\"], \" \", \n",
       "\n",
       " \n",
       ">        OverscriptBox[\"ω\", \"^\"]}], TraditionalForm]\n"
      ]
     },
     "execution_count": 1582,
     "metadata": {
      "text/html": [],
      "text/plain": []
     },
     "output_type": "execute_result"
    }
   ],
   "source": [
    "AngularMomentum = (OverHat[r][OverHat[t]])^2 OverHat[\\[Omega]][OverHat[t]];\n",
    "AngularMomentum // TraditionalForm"
   ]
  },
  {
   "cell_type": "markdown",
   "metadata": {},
   "source": [
    "Отсюда $\\frac{1}{\\hat{r}^{(1)}}\\left(\\frac{d\\hat{E}}{d\\hat{t}} - \\hat{\\omega} \\frac{d\\hat{J}}{d\\hat{t}}\\right)$"
   ]
  },
  {
   "cell_type": "code",
   "execution_count": 1583,
   "metadata": {
    "vscode": {
     "languageId": "wolfram"
    }
   },
   "outputs": [
    {
     "data": {
      "text/html": [
       "<div><img alt=\"Output\" src=\"data:image/png;base64,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\"></div>"
      ],
      "text/plain": [
       "FormBox[RowBox[{RowBox[{\"-\", RowBox[{RowBox[{OverscriptBox[\"r\", \"^\"]}], \" \", \n",
       "\n",
       " \n",
       ">            SuperscriptBox[OverscriptBox[\"ω\", \"^\"], \"2\"]}]}], \"+\", \n",
       "\n",
       " \n",
       ">        SuperscriptBox[OverscriptBox[\"r\", \"^\"], \"′′\"], \"+\", \n",
       "\n",
       " \n",
       ">        FractionBox[\"1\", SuperscriptBox[OverscriptBox[\"r\", \"^\"], \"2\"]]}],\\\n",
       " \n",
       ">    TraditionalForm]\n"
      ]
     },
     "execution_count": 1583,
     "metadata": {
      "text/html": [],
      "text/plain": []
     },
     "output_type": "execute_result"
    }
   ],
   "source": [
    "Simplify[(D[Energy, OverHat[t]] - (AngularMomentum/OverHat[r][OverHat[t]]^2)(D[AngularMomentum, OverHat[t]]))/(D[OverHat[r][OverHat[t]], OverHat[t]])] // TraditionalForm"
   ]
  },
  {
   "cell_type": "markdown",
   "metadata": {},
   "source": [
    "Что совпадает с **первой** строкой повернутой LHS системы движения"
   ]
  },
  {
   "cell_type": "markdown",
   "metadata": {},
   "source": [
    "Отсюда $\\frac{1}{\\hat{r}}\\frac{d\\hat{J}}{d\\hat{t}}$"
   ]
  },
  {
   "cell_type": "code",
   "execution_count": 1584,
   "metadata": {
    "vscode": {
     "languageId": "wolfram"
    }
   },
   "outputs": [
    {
     "data": {
      "text/html": [
       "<div><img alt=\"Output\" src=\"data:image/png;base64,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\"></div>"
      ],
      "text/plain": [
       "FormBox[RowBox[{RowBox[{\"2\", \" \", OverscriptBox[\"ω\", \"^\"], \" \", \n",
       "\n",
       " \n",
       ">          SuperscriptBox[OverscriptBox[\"r\", \"^\"], \"′\"]}], \"+\", \n",
       "\n",
       " \n",
       ">        RowBox[{OverscriptBox[\"r\", \"^\"], \" \", \n",
       "\n",
       " \n",
       ">          SuperscriptBox[OverscriptBox[\"ω\", \"^\"], \"′\"]}]}], TraditionalForm]\n"
      ]
     },
     "execution_count": 1584,
     "metadata": {
      "text/html": [],
      "text/plain": []
     },
     "output_type": "execute_result"
    }
   ],
   "source": [
    "Simplify[D[AngularMomentum, OverHat[t]]/OverHat[r][OverHat[t]]] // TraditionalForm"
   ]
  },
  {
   "cell_type": "markdown",
   "metadata": {},
   "source": [
    "Что совпадает со **второй** строкой повернутой LHS системы движения"
   ]
  },
  {
   "cell_type": "markdown",
   "metadata": {},
   "source": [
    "Таким образом, мы можем выписать новую **энергетическую** систему уравнений\n",
    "\n",
    "$$\n",
    "\\begin{align}\n",
    "\\frac{d\\hat{E}}{d\\hat{t}} &= - \\epsilon_G \\left(\\hat{r}^{(1)} R_{xi}(-\\phi) \\hat{f}_{ij}^{(5)}\\hat{r}_j + \\hat{r}\\hat\\omega R_{yi}(-\\phi) \\hat{f}_{ij}^{(5)}\\hat{r}_j \\right)\n",
    "\\\\\n",
    "\\frac{d\\hat{J}}{d\\hat{t}} &= - \\epsilon_G \\hat{r} R_{yi}(-\\phi) \\hat{f}_{ij}^{(5)}\\hat{r}_j\n",
    "\\end{align}\n",
    "$$"
   ]
  },
  {
   "cell_type": "markdown",
   "metadata": {},
   "source": [
    "Или\n",
    "\n",
    "$$\n",
    "\\left(\\frac{d\\hat{E}}{d\\hat{t}}, \\frac{d\\hat{J}}{d\\hat{t}}\\right) = - \\epsilon_G T_{nk} R_{ki}(-\\phi) \\hat{f}_{ij}^{(5)}\\hat{r}_j\\quad,\n",
    "$$"
   ]
  },
  {
   "cell_type": "markdown",
   "metadata": {},
   "source": [
    "Здесь\n",
    "$$\n",
    "T = \n",
    "\\begin{bmatrix}\n",
    "\\hat{r}^{(1)} & \\hat{r}\\hat{\\omega} \\\\\n",
    "0 & \\hat{r}\n",
    "\\end{bmatrix}\n",
    "$$\n",
    "матрица трансформации:"
   ]
  },
  {
   "cell_type": "code",
   "execution_count": 1586,
   "metadata": {
    "vscode": {
     "languageId": "wolfram"
    }
   },
   "outputs": [
    {
     "data": {
      "text/html": [
       "<div><img alt=\"Output\" src=\"data:image/png;base64,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\"></div>"
      ],
      "text/plain": [
       "FormBox[TagBox[RowBox[{\"(\", \"⁠\", \n",
       "\n",
       " \n",
       ">         GridBox[{{SuperscriptBox[OverscriptBox[\"r\", \"^\"], \"′\"], \n",
       "\n",
       " \n",
       ">            RowBox[{OverscriptBox[\"r\", \"^\"], \" \", OverscriptBox[\"ω\", \"^\"]}]}, \n",
       "\n",
       " \n",
       ">           {\"0\", OverscriptBox[\"r\", \"^\"]}}, Rule[RowSpacings, 1], \n",
       "\n",
       " \n",
       ">          Rule[ColumnSpacings, 1], Rule[RowAlignments, Baseline], \n",
       "\n",
       " \n",
       ">          Rule[ColumnAlignments, Center]], \"⁠\", \")\"}], \n",
       "\n",
       " \n",
       ">       Function[BoxForm`e$, MatrixForm[BoxForm`e$]]], TraditionalForm]\n"
      ]
     },
     "execution_count": 1586,
     "metadata": {
      "text/html": [],
      "text/plain": []
     },
     "output_type": "execute_result"
    }
   ],
   "source": [
    "Transform = {{D[OverHat[r][OverHat[t]], OverHat[t]], OverHat[r][OverHat[t]] OverHat[\\[Omega]][OverHat[t]]}, {0, OverHat[r][OverHat[t]]}};\n",
    "Transform // MatrixForm // TraditionalForm"
   ]
  },
  {
   "cell_type": "markdown",
   "metadata": {},
   "source": [
    "Итак правая часть энергетической системы запишется как"
   ]
  },
  {
   "cell_type": "code",
   "execution_count": 1588,
   "metadata": {
    "vscode": {
     "languageId": "wolfram"
    }
   },
   "outputs": [
    {
     "data": {
      "text/html": [
       "<div><img alt=\"Output\" src=\"data:image/png;base64,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\"></div>"
      ],
      "text/plain": [
       "FormBox[TagBox[RowBox[{\"(\", \"⁠\", \n",
       "\n",
       " \n",
       ">         TagBox[GridBox[{{RowBox[{FractionBox[\"1\", \"2\"], \" \", \n",
       "\n",
       " \n",
       ">               OverscriptBox[\"r\", \"^\"], \" \", SubscriptBox[\"ϵ\", \"G\"], \" \", \n",
       "\n",
       " \n",
       ">               RowBox[{\"(\", RowBox[{RowBox[{OverscriptBox[\"r\", \"^\"], \" \", \n",
       "\n",
       " \n",
       ">                     OverscriptBox[\"ω\", \"^\"], \" \", \n",
       "\n",
       " \n",
       ">                     RowBox[{\"(\", RowBox[{RowBox[{RowBox[{\"sin\", \"(\", \n",
       "\n",
       " \n",
       ">                             RowBox[{\"2\", \" \", \"ϕ\"}], \")\"}], \" \", \n",
       "\n",
       " \n",
       ">                           RowBox[{\"(\", \n",
       "\n",
       " \n",
       ">                             RowBox[{TemplateBox[List[SubscriptBox[\n",
       "\n",
       " \n",
       ">                            OverscriptBox[\"f\", \"^\"], \n",
       "\n",
       " \n",
       ">                            RowBox[List[\"x\", \",\", \"x\"]]], \"\\\"(5)\\\"\"], \n",
       "\n",
       " \n",
       ">                             \"Superscript\", Rule[SyntaxForm, SuperscriptBox]], \n",
       "\n",
       " \n",
       ">                             \"-\", \n",
       "\n",
       " \n",
       ">                             TemplateBox[List[SubscriptBox[OverscriptB\\\n",
       "\n",
       " \n",
       ">   ox[\"f\", \"^\"], RowBox[List[\"y\", \",\", \"y\"]]], \"\\\"(5)\\\"\"], \"Superscript\", \n",
       "\n",
       " \n",
       ">                             Rule[SyntaxForm, SuperscriptBox]]}], \")\"}]}], \"-\", \n",
       "\n",
       " \n",
       ">                         RowBox[{\"2\", \" \", \n",
       "\n",
       " \n",
       ">                           RowBox[{\"cos\", \"(\", RowBox[{\"2\", \" \", \"ϕ\"}], \")\"}], \n",
       "\n",
       " \n",
       ">                           \" \", TemplateBox[List[SubscriptBox[OverscriptB\\\n",
       "\n",
       " \n",
       ">   ox[\"f\", \"^\"], RowBox[List[\"x\", \",\", \"y\"]]], \"\\\"(5)\\\"\"], \"Superscript\", \n",
       "\n",
       " \n",
       ">                            Rule[SyntaxForm, SuperscriptBox]]}]}], \")\"}]}], \"-\", \n",
       "\n",
       " \n",
       ">                   RowBox[{\"2\", \" \", SuperscriptBox[OverscriptBox[\"r\", \"^\"], \"′\"], \n",
       "\n",
       " \n",
       ">                     \" \", RowBox[{\"(\", \n",
       "\n",
       " \n",
       ">                       RowBox[{RowBox[{RowBox[{\"sin\", \"(\", \n",
       "\n",
       " \n",
       ">                             RowBox[{\"2\", \" \", \"ϕ\"}], \")\"}], \" \", \n",
       "\n",
       " \n",
       ">                           TemplateBox[List[SubscriptBox[OverscriptBox[\"f\", \n",
       "\n",
       " \n",
       ">                             \"^\"], RowBox[List[\"x\", \",\", \"y\"]]], \"\\\"(5)\\\"\"], \n",
       "\n",
       " \n",
       ">                            \"Superscript\", Rule[SyntaxForm, SuperscriptBox]]}], \n",
       "\n",
       " \n",
       ">                         \"+\", RowBox[{RowBox[{SuperscriptBox[\"cos\", \"2\"], \"(\", \n",
       "\n",
       " \n",
       ">                             \"ϕ\", \")\"}], \" \", \n",
       "\n",
       " \n",
       ">                           TemplateBox[List[SubscriptBox[OverscriptBox[\"f\", \n",
       "\n",
       " \n",
       ">                             \"^\"], RowBox[List[\"x\", \",\", \"x\"]]], \"\\\"(5)\\\"\"], \n",
       "\n",
       " \n",
       ">                            \"Superscript\", Rule[SyntaxForm, SuperscriptBox]]}], \n",
       "\n",
       " \n",
       ">                         \"+\", RowBox[{RowBox[{SuperscriptBox[\"sin\", \"2\"], \"(\", \n",
       "\n",
       " \n",
       ">                             \"ϕ\", \")\"}], \" \", \n",
       "\n",
       " \n",
       ">                           TemplateBox[List[SubscriptBox[OverscriptBox[\"f\", \n",
       "\n",
       " \n",
       ">                             \"^\"], RowBox[List[\"y\", \",\", \"y\"]]], \"\\\"(5)\\\"\"], \n",
       "\n",
       " \n",
       ">                            \"Superscript\", Rule[SyntaxForm, SuperscriptBox]]}]}], \n",
       "\n",
       " \n",
       ">                       \")\"}]}]}], \")\"}]}]}, \n",
       "\n",
       " \n",
       ">            {RowBox[{RowBox[{\"-\", FractionBox[\"1\", \"2\"]}], \" \", \n",
       "\n",
       " \n",
       ">               SuperscriptBox[OverscriptBox[\"r\", \"^\"], \"2\"], \" \", \n",
       "\n",
       " \n",
       ">               SubscriptBox[\"ϵ\", \"G\"], \" \", \n",
       "\n",
       " \n",
       ">               RowBox[{\"(\", RowBox[{RowBox[{RowBox[{\"sin\", \"(\", \n",
       "\n",
       " \n",
       ">                       RowBox[{\"2\", \" \", \"ϕ\"}], \")\"}], \" \", \n",
       "\n",
       " \n",
       ">                     RowBox[{\"(\", RowBox[{TemplateBox[List[SubscriptBox[\n",
       "\n",
       " \n",
       ">                            OverscriptBox[\"f\", \"^\"], \n",
       "\n",
       " \n",
       ">                            RowBox[List[\"y\", \",\", \"y\"]]], \"\\\"(5)\\\"\"], \n",
       "\n",
       " \n",
       ">                          \"Superscript\", Rule[SyntaxForm, SuperscriptBox]], \"-\", \n",
       "\n",
       " \n",
       ">                         TemplateBox[List[SubscriptBox[OverscriptBox[\"f\", \"^\"], \n",
       "\n",
       " \n",
       ">                            RowBox[List[\"x\", \",\", \"x\"]]], \"\\\"(5)\\\"\"], \n",
       "\n",
       " \n",
       ">                          \"Superscript\", Rule[SyntaxForm, SuperscriptBox]]}], \")\"}]}\\\n",
       "\n",
       " \n",
       ">   ], \"+\", RowBox[{\"2\", \" \", RowBox[{\"cos\", \"(\", RowBox[{\"2\", \" \", \"ϕ\"}], \")\"}], \n",
       "\n",
       " \n",
       ">                     \" \", TemplateBox[List[SubscriptBox[OverscriptBox[\"f\", \"^\"], \n",
       "\n",
       " \n",
       ">                        RowBox[List[\"x\", \",\", \"y\"]]], \"\\\"(5)\\\"\"], \"Superscript\", \n",
       "\n",
       " \n",
       ">                      Rule[SyntaxForm, SuperscriptBox]]}]}], \")\"}]}]}}, \n",
       "\n",
       " \n",
       ">           Rule[RowSpacings, 1], Rule[ColumnAlignments, Center], \n",
       "\n",
       " \n",
       ">           Rule[ColumnAlignments, Left]], Column], \"⁠\", \")\"}], \n",
       "\n",
       " \n",
       ">       Function[BoxForm`e$, MatrixForm[BoxForm`e$]]], TraditionalForm]\n"
      ]
     },
     "execution_count": 1588,
     "metadata": {
      "text/html": [],
      "text/plain": []
     },
     "output_type": "execute_result"
    }
   ],
   "source": [
    "RHSEnegry = FullSimplify[Transform . RHSMotion, Trig -> True];\n",
    "RHSEnegry // MatrixForm // TraditionalForm"
   ]
  },
  {
   "cell_type": "markdown",
   "metadata": {},
   "source": [
    "## **Другой Способ** получения уравнений движения и энергетических уравнений через лагранжев формализм в полярных координатах"
   ]
  },
  {
   "cell_type": "markdown",
   "metadata": {},
   "source": [
    "### **Лагранжиан системы**\n",
    "Лагранжиан $L$ в полярных координатах $(r, \\phi)$ выражается как:\n",
    "$$\n",
    "L = T - (U + \\mu\\Phi),\n",
    "$$\n",
    "где:\n",
    "- $T$ — кинетическая энергия,\n",
    "- $U$ — потенциальная энергия\n",
    "- $\\Phi = \\frac{1}{5}f_{ij}^{(5)}r_i r_j = \\frac{\\epsilon_G}{2}\\frac{b^2}{t_0^2}\\hat{f}_{ij}^{(5)}\\hat{r}_i \\hat{r}_j = \\frac{5}{2}\\epsilon_G\\frac{GM}{b}\\hat{\\Phi}$ - малый потенциал \"реакции излучения\""
   ]
  },
  {
   "cell_type": "markdown",
   "metadata": {},
   "source": [
    "Безразмерный малый потенциал \"реакции излучения\" $\\hat{\\Phi} = \\frac{1}{5}\\hat{f}_{ij}^{(5)}\\hat{r}_i\\hat{r}_j$\n",
    "\n",
    "В ближней зоне грав. источника будем иметь $\\mu \\Phi \\ll U$.\n",
    "Откуда получаем $\\frac{5}{2}\\epsilon_{G}\\hat{r}\\hat{\\Phi} \\ll 1$.\n",
    "\n",
    "<span style=\"color:red\">**TODO_2:**</span> Для достаточно больших $\\hat{r}$, но все еще в ближней зоне может оказаться, что\n",
    "$\\hat{r}\\hat{\\Phi} \\ll 1$, так как $\\hat{f}_{ij}$ очень медленно меняется.\n",
    "Следовательно условие $\\epsilon_G \\ll 1$ необязательно."
   ]
  },
  {
   "cell_type": "code",
   "execution_count": 1590,
   "metadata": {
    "vscode": {
     "languageId": "wolfram"
    }
   },
   "outputs": [
    {
     "data": {
      "text/html": [
       "<div><img alt=\"Output\" src=\"data:image/png;base64,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\"></div>"
      ],
      "text/plain": [
       "FormBox[RowBox[{FractionBox[\"1\", \"5\"], \" \", \n",
       "\n",
       " \n",
       ">        RowBox[{\"(\", RowBox[{RowBox[{OverscriptBox[\"r\", \"^\"], \" \", \n",
       "\n",
       " \n",
       ">              RowBox[{\"cos\", \"(\", \"ϕ\", \")\"}], \" \", \n",
       "\n",
       " \n",
       ">              RowBox[{\"(\", RowBox[{RowBox[{OverscriptBox[\"r\", \"^\"], \" \", \n",
       "\n",
       " \n",
       ">                    RowBox[{\"sin\", \"(\", \"ϕ\", \")\"}], \" \", \n",
       "\n",
       " \n",
       ">                    TemplateBox[List[SubscriptBox[OverscriptBox[\"f\", \"^\"], \n",
       "\n",
       " \n",
       ">                       RowBox[List[\"x\", \",\", \"y\"]]], \"\\\"(5)\\\"\"], \"Superscript\", \n",
       "\n",
       " \n",
       ">                     Rule[SyntaxForm, SuperscriptBox]]}], \"+\", \n",
       "\n",
       " \n",
       ">                  RowBox[{OverscriptBox[\"r\", \"^\"], \" \", \n",
       "\n",
       " \n",
       ">                    RowBox[{\"cos\", \"(\", \"ϕ\", \")\"}], \" \", \n",
       "\n",
       " \n",
       ">                    TemplateBox[List[SubscriptBox[OverscriptBox[\"f\", \"^\"], \n",
       "\n",
       " \n",
       ">                       RowBox[List[\"x\", \",\", \"x\"]]], \"\\\"(5)\\\"\"], \"Superscript\", \n",
       "\n",
       " \n",
       ">                     Rule[SyntaxForm, SuperscriptBox]]}]}], \")\"}]}], \"+\", \n",
       "\n",
       " \n",
       ">            RowBox[{OverscriptBox[\"r\", \"^\"], \" \", RowBox[{\"sin\", \"(\", \"ϕ\", \")\"}], \" \", \n",
       "\n",
       " \n",
       ">              RowBox[{\"(\", RowBox[{RowBox[{OverscriptBox[\"r\", \"^\"], \" \", \n",
       "\n",
       " \n",
       ">                    RowBox[{\"cos\", \"(\", \"ϕ\", \")\"}], \" \", \n",
       "\n",
       " \n",
       ">                    TemplateBox[List[SubscriptBox[OverscriptBox[\"f\", \"^\"], \n",
       "\n",
       " \n",
       ">                       RowBox[List[\"x\", \",\", \"y\"]]], \"\\\"(5)\\\"\"], \"Superscript\", \n",
       "\n",
       " \n",
       ">                     Rule[SyntaxForm, SuperscriptBox]]}], \"+\", \n",
       "\n",
       " \n",
       ">                  RowBox[{OverscriptBox[\"r\", \"^\"], \" \", RowBox[{\"sin\", \"(\", \"ϕ\", \")\"}],\\\n",
       " \n",
       ">    \n",
       "                 \" \", TemplateBox[List[SubscriptBox[OverscriptBox[\"f\", \"^\"], \n",
       "\n",
       " \n",
       ">                       RowBox[List[\"y\", \",\", \"y\"]]], \"\\\"(5)\\\"\"], \"Superscript\", \n",
       "\n",
       " \n",
       ">                     Rule[SyntaxForm, SuperscriptBox]]}]}], \")\"}]}]}], \")\"}]}], \n",
       "\n",
       " \n",
       ">      TraditionalForm]\n"
      ]
     },
     "execution_count": 1590,
     "metadata": {
      "text/html": [],
      "text/plain": []
     },
     "output_type": "execute_result"
    }
   ],
   "source": [
    "fh5rhrh = 1/5 EinsteinSummation[{{i, j}, {i}, {j}}, {fh5, rh, rh}];\n",
    "fh5rhrh // TraditionalForm"
   ]
  },
  {
   "cell_type": "markdown",
   "metadata": {},
   "source": [
    "Безразмерный лагранжиан\n",
    "\n",
    "$$\n",
    "\\hat{L} = \\hat{T} - (\\hat{U} + \\frac{5}{2}\\epsilon_G\\hat{\\Phi}),\n",
    "$$\n",
    "или\n",
    "$$\n",
    "\\hat{L} = \\frac{1}{2} \\left((\\hat{r}^{(1)})^2 + \\hat{r}^2 \\hat{\\omega}^2 \\right) + \\frac{1}{\\hat{r}} - \\frac{\\epsilon_G}{2}\\hat{f}_{ij}^{(5)}\\hat{r}_i \\hat{r}_j.\n",
    "$$"
   ]
  },
  {
   "cell_type": "markdown",
   "metadata": {},
   "source": [
    "### **Уравнения Эйлера-Лагранжа**\n",
    "Уравнения Эйлера-Лагранжа имеют вид:\n",
    "$$\n",
    "\\frac{d}{dt} \\left( \\frac{\\partial \\hat{L}}{\\partial \\dot{q}_i} \\right) - \\frac{\\partial \\hat{L}}{\\partial q_i} = 0,\n",
    "$$\n",
    "где $q_i$ — обобщённые координаты ($\\hat{r}$ и $\\phi$)."
   ]
  },
  {
   "cell_type": "markdown",
   "metadata": {},
   "source": [
    "---\n",
    "\n",
    "#### Уравнение для координаты $\\hat{r}$:\n",
    "$$\n",
    "\\frac{d}{d\\hat{t}} \\left(\\frac{\\partial \\hat{L}}{\\partial \\hat{r}^{(1)}} \\right) - \\frac{\\partial \\hat{L}}{\\partial \\hat{r}} = 0.\n",
    "$$\n",
    "Вычислим производные:\n",
    "$$\n",
    "\\frac{\\partial \\hat{L}}{\\partial \\hat{r}^{(1)}} = \\hat{r}^{(1)}, \\quad \\frac{d}{d\\hat{t}} \\left( \\frac{\\partial \\hat{L}}{\\partial \\hat{r}^{(1)}} \\right) = \\hat{r}^{(2)},\n",
    "$$\n",
    "$$\n",
    "\\frac{\\partial \\hat{L}}{\\partial \\hat{r}} = \\hat{r} \\hat{\\omega}^2 - \\frac{1}{\\hat{r}^2} - \\frac{5}{2}\\epsilon_G\\frac{\\partial \\hat{\\Phi}}{\\partial \\hat{r}}.\n",
    "$$\n",
    "Подставляем в уравнение Эйлера-Лагранжа:\n",
    "$$\n",
    "\\hat{r}^{(2)} - \\hat{r} \\hat{\\omega}^2 + \\frac{1}{\\hat{r}^2} = - \\frac{5}{2}\\epsilon_G\\frac{\\partial \\hat{\\Phi}}{\\partial \\hat{r}}.\n",
    "$$\n",
    "\n",
    "Это **радиальное уравнение движения**.\n",
    "\n",
    "Здесь \n",
    "$$\n",
    "\\frac{\\partial \\hat{\\Phi}}{\\partial \\hat{r}} = \\frac{1}{5}\\hat{f}_{ij}^{(5)}\\left(\\frac{\\partial \\hat{r}_i}{\\partial \\hat{r}}\\hat{r}_j + \\hat{r}_i\\frac{\\partial \\hat{r}_j}{\\partial \\hat{r}}\\right)\n",
    "$$"
   ]
  },
  {
   "cell_type": "markdown",
   "metadata": {},
   "source": [
    "Правая часть радиального уравнения движения будет выглядеть как"
   ]
  },
  {
   "cell_type": "code",
   "execution_count": 1592,
   "metadata": {
    "vscode": {
     "languageId": "wolfram"
    }
   },
   "outputs": [
    {
     "data": {
      "text/html": [
       "<div><img alt=\"Output\" src=\"data:image/png;base64,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\"></div>"
      ],
      "text/plain": [
       "FormBox[RowBox[{OverscriptBox[\"r\", \"^\"], \" \", \n",
       "\n",
       " \n",
       ">        RowBox[{\"(\", RowBox[{\"-\", SubscriptBox[\"ϵ\", \"G\"]}], \")\"}], \" \", \n",
       "\n",
       " \n",
       ">        RowBox[{\"(\", RowBox[{RowBox[{RowBox[{\"sin\", \"(\", RowBox[{\"2\", \" \", \"ϕ\"}], \n",
       "\n",
       " \n",
       ">                \")\"}], \" \", TemplateBox[List[SubscriptBox[OverscriptBox[\"f\", \"^\"], \n",
       "\n",
       " \n",
       ">                 RowBox[List[\"x\", \",\", \"y\"]]], \"\\\"(5)\\\"\"], \"Superscript\", \n",
       "\n",
       " \n",
       ">               Rule[SyntaxForm, SuperscriptBox]]}], \"+\", \n",
       "\n",
       " \n",
       ">            RowBox[{RowBox[{SuperscriptBox[\"cos\", \"2\"], \"(\", \"ϕ\", \")\"}], \" \", \n",
       "\n",
       " \n",
       ">              TemplateBox[List[SubscriptBox[OverscriptBox[\"f\", \"^\"], \n",
       "\n",
       " \n",
       ">                 RowBox[List[\"x\", \",\", \"x\"]]], \"\\\"(5)\\\"\"], \"Superscript\", \n",
       "\n",
       " \n",
       ">               Rule[SyntaxForm, SuperscriptBox]]}], \"+\", \n",
       "\n",
       " \n",
       ">            RowBox[{RowBox[{SuperscriptBox[\"sin\", \"2\"], \"(\", \"ϕ\", \")\"}], \" \", \n",
       "\n",
       " \n",
       ">              TemplateBox[List[SubscriptBox[OverscriptBox[\"f\", \"^\"], \n",
       "\n",
       " \n",
       ">                 RowBox[List[\"y\", \",\", \"y\"]]], \"\\\"(5)\\\"\"], \"Superscript\", \n",
       "\n",
       " \n",
       ">               Rule[SyntaxForm, SuperscriptBox]]}]}], \")\"}]}], TraditionalForm]\n"
      ]
     },
     "execution_count": 1592,
     "metadata": {
      "text/html": [],
      "text/plain": []
     },
     "output_type": "execute_result"
    }
   ],
   "source": [
    "RHSMotionRadialLagrange = - 1/2 Subscript[\\[Epsilon], G] FullSimplify[EinsteinSummation[{{i, j}, {i}, {j}}, {fh5, D[rh, OverHat[r][OverHat[t]]], rh}] + EinsteinSummation[{{i, j}, {i}, {j}}, {fh5, rh, D[rh, OverHat[r][OverHat[t]]]}]];\n",
    "RHSMotionRadialLagrange // TraditionalForm"
   ]
  },
  {
   "cell_type": "markdown",
   "metadata": {},
   "source": [
    "<span style=\"color:brown\">**NB:**</span> Выражение <span style=\"color:green\">**совпадает**</span> с раннее полученным уравнением и с уравнением (10) из файла Binary.pdf"
   ]
  },
  {
   "cell_type": "code",
   "execution_count": 1593,
   "metadata": {
    "vscode": {
     "languageId": "wolfram"
    }
   },
   "outputs": [
    {
     "data": {
      "text/html": [
       "<div><pre style=\"&#102;&#111;&#110;&#116;&#45;&#102;&#97;&#109;&#105;&#108;&#121;&#58;&#32;&#34;&#67;&#111;&#117;&#114;&#105;&#101;&#114;&#32;&#78;&#101;&#119;&#34;&#44;&#67;&#111;&#117;&#114;&#105;&#101;&#114;&#44;&#109;&#111;&#110;&#111;&#115;&#112;&#97;&#99;&#101;&#59;\">&#48;</pre></div>"
      ],
      "text/plain": [
       "0"
      ]
     },
     "execution_count": 1593,
     "metadata": {
      "text/html": [],
      "text/plain": []
     },
     "output_type": "execute_result"
    }
   ],
   "source": [
    "RHSMotion[[1]] - RHSMotionRadialLagrange"
   ]
  },
  {
   "cell_type": "markdown",
   "metadata": {},
   "source": [
    "---\n",
    "\n",
    "#### Уравнение для координаты $\\phi$:\n",
    "$$\n",
    "\\frac{d}{d\\hat{t}} \\left(\\frac{\\partial \\hat{L}}{\\partial \\hat{\\omega}} \\right) - \\frac{\\partial \\hat{L}}{\\partial \\phi} = 0.\n",
    "$$\n",
    "Вычислим производные:\n",
    "$$\n",
    "\\frac{\\partial \\hat{L}}{\\partial \\hat{\\omega}} = \\hat{r}^2 \\hat{\\omega}, \\quad \\frac{d}{d\\hat{t}} \\left( \\frac{\\partial \\hat{L}}{\\partial \\hat{\\omega}} \\right) = \\frac{d}{d\\hat{t}} \\left( \\hat{r}^2 \\hat{\\omega} \\right),\n",
    "$$\n",
    "$$\n",
    "\\frac{\\partial \\hat{L}}{\\partial \\phi} = - \\frac{5}{2}\\epsilon_G\\frac{\\partial \\hat{\\Phi}}{\\partial \\phi}.\n",
    "$$\n",
    "Подставляем в уравнение Эйлера-Лагранжа:\n",
    "$$\n",
    "\\frac{1}{\\hat{r}}\\frac{d}{d\\hat{t}} \\left( \\hat{r}^2 \\hat{\\omega} \\right) = \\frac{1}{\\hat{r}}\\frac{d\\hat{J}}{d\\hat{t}} = - \\frac{5}{2}\\frac{\\epsilon_G}{\\hat{r}}\\frac{\\partial \\hat{\\Phi}}{\\partial \\phi}.\n",
    "$$\n",
    "\n",
    "Здесь \n",
    "$$\n",
    "\\frac{\\partial \\hat{\\Phi}}{\\partial \\phi} = \\frac{1}{5}\\hat{f}_{ij}^{(5)}\\left(\\frac{\\partial \\hat{r}_i}{\\partial \\phi}\\hat{r}_j + \\hat{r}_i\\frac{\\partial \\hat{r}_j}{\\partial \\phi}\\right)\n",
    "$$"
   ]
  },
  {
   "cell_type": "markdown",
   "metadata": {},
   "source": [
    "Правая часть уравнения движения для $\\phi$ будет выглядеть как"
   ]
  },
  {
   "cell_type": "code",
   "execution_count": 1595,
   "metadata": {
    "vscode": {
     "languageId": "wolfram"
    }
   },
   "outputs": [
    {
     "data": {
      "text/html": [
       "<div><img alt=\"Output\" src=\"data:image/png;base64,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\"></div>"
      ],
      "text/plain": [
       "FormBox[RowBox[{RowBox[{\"-\", FractionBox[\"1\", \"2\"]}], \" \", OverscriptBox[\"r\", \"^\"], \n",
       "\n",
       " \n",
       ">        \" \", SubscriptBox[\"ϵ\", \"G\"], \" \", \n",
       "\n",
       " \n",
       ">        RowBox[{\"(\", RowBox[{RowBox[{RowBox[{\"sin\", \"(\", RowBox[{\"2\", \" \", \"ϕ\"}], \n",
       "\n",
       " \n",
       ">                \")\"}], \" \", RowBox[{\"(\", \n",
       "\n",
       " \n",
       ">                RowBox[{TemplateBox[List[SubscriptBox[OverscriptBox[\"f\", \"^\"], \n",
       "\n",
       " \n",
       ">                     RowBox[List[\"y\", \",\", \"y\"]]], \"\\\"(5)\\\"\"], \"Superscript\", \n",
       "\n",
       " \n",
       ">                   Rule[SyntaxForm, SuperscriptBox]], \"-\", \n",
       "\n",
       " \n",
       ">                  TemplateBox[List[SubscriptBox[OverscriptBox[\"f\", \"^\"], \n",
       "\n",
       " \n",
       ">                     RowBox[List[\"x\", \",\", \"x\"]]], \"\\\"(5)\\\"\"], \"Superscript\", \n",
       "\n",
       " \n",
       ">                   Rule[SyntaxForm, SuperscriptBox]]}], \")\"}]}], \"+\", \n",
       "\n",
       " \n",
       ">            RowBox[{\"2\", \" \", RowBox[{\"cos\", \"(\", RowBox[{\"2\", \" \", \"ϕ\"}], \")\"}], \" \", \n",
       "\n",
       " \n",
       ">              TemplateBox[List[SubscriptBox[OverscriptBox[\"f\", \"^\"], \n",
       "\n",
       " \n",
       ">                 RowBox[List[\"x\", \",\", \"y\"]]], \"\\\"(5)\\\"\"], \"Superscript\", \n",
       "\n",
       " \n",
       ">               Rule[SyntaxForm, SuperscriptBox]]}]}], \")\"}]}], TraditionalForm]\n"
      ]
     },
     "execution_count": 1595,
     "metadata": {
      "text/html": [],
      "text/plain": []
     },
     "output_type": "execute_result"
    }
   ],
   "source": [
    "RHSMotionPhiLagrange = - 1/2 Subscript[\\[Epsilon], G] FullSimplify[EinsteinSummation[{{i, j}, {i}, {j}}, {fh5, D[rh, \\[Phi][OverHat[t]]], rh}] + EinsteinSummation[{{i, j}, {i}, {j}}, {fh5, rh, D[rh, \\[Phi][OverHat[t]]]}]]/OverHat[r][OverHat[t]];\n",
    "RHSMotionPhiLagrange // TraditionalForm"
   ]
  },
  {
   "cell_type": "markdown",
   "metadata": {},
   "source": [
    "<span style=\"color:brown\">**NB:**</span> Выражение <span style=\"color:green\">**совпадает**</span> с раннее полученным уравнением и с уравнением (9) из файла Binary.pdf"
   ]
  },
  {
   "cell_type": "code",
   "execution_count": 1596,
   "metadata": {
    "vscode": {
     "languageId": "wolfram"
    }
   },
   "outputs": [
    {
     "data": {
      "text/html": [
       "<div><pre style=\"&#102;&#111;&#110;&#116;&#45;&#102;&#97;&#109;&#105;&#108;&#121;&#58;&#32;&#34;&#67;&#111;&#117;&#114;&#105;&#101;&#114;&#32;&#78;&#101;&#119;&#34;&#44;&#67;&#111;&#117;&#114;&#105;&#101;&#114;&#44;&#109;&#111;&#110;&#111;&#115;&#112;&#97;&#99;&#101;&#59;\">&#48;</pre></div>"
      ],
      "text/plain": [
       "0"
      ]
     },
     "execution_count": 1596,
     "metadata": {
      "text/html": [],
      "text/plain": []
     },
     "output_type": "execute_result"
    }
   ],
   "source": [
    "RHSMotion[[2]] - RHSMotionPhiLagrange"
   ]
  },
  {
   "cell_type": "markdown",
   "metadata": {},
   "source": [
    "## Получим **энергетическую** систему уравнений в подходе Лагранжа"
   ]
  },
  {
   "cell_type": "markdown",
   "metadata": {},
   "source": [
    "Заметим, что энергия системы:\n",
    "$$\n",
    "\\hat{E} = \\frac{(\\hat{r}^{(1)})^2}{2} + \\frac{\\hat{r}^2 \\hat{\\omega}^2}{2} - \\frac{1}{\\hat{r}}\n",
    "$$\n",
    "$$\n",
    "\\frac{1}{\\hat{r}^{(1)}}\\left(\\frac{d\\hat{E}}{d\\hat{t}} - \\hat{\\omega} \\frac{d\\hat{J}}{d\\hat{t}}\\right) = \\hat{r}^{(2)} - \\hat{r} \\hat{\\omega}^2 + \\frac{1}{\\hat{r}^2}\n",
    "$$\n",
    "\n",
    "А также уравнение для изменения момента импульса системы есть\n",
    "$$\n",
    "\\frac{d\\hat{J}}{d\\hat{t}} = - \\frac{5}{2}\\epsilon_G\\frac{\\partial \\hat{\\Phi}}{\\partial \\phi}.\n",
    "$$\n",
    "\n",
    "Итоговая энергетическая система, выведенная по-новому будет записываться как:\n",
    "\n",
    "$$\n",
    "\\begin{align}\n",
    "\\frac{d\\hat{E}}{d\\hat{t}} &= - \\frac{5}{2}\\epsilon_G\\left(\\hat{r}^{(1)}\\frac{\\partial \\hat{\\Phi}}{\\partial \\hat{r}} + \\hat{\\omega} \\frac{\\partial \\hat{\\Phi}}{\\partial \\phi}\\right)\n",
    "  = - \\frac{\\epsilon_G}{2}\\hat{f}_{ij}^{(5)}\\left(\\frac{d\\hat{r}_i}{d\\hat{t}}\\hat{r}_j + \\hat{r}_i\\frac{d\\hat{r}_j}{d\\hat{t}}\\right)\n",
    "  = - \\frac{\\epsilon_G}{2}\\hat{f}_{ij}^{(5)}\\frac{d(\\hat{r}_i \\hat{r}_j)}{d\\hat{t}}\n",
    "\\\\\n",
    "\\frac{d\\hat{J}}{d\\hat{t}} &= - \\frac{5}{2}\\epsilon_G\\frac{\\partial \\hat{\\Phi}}{\\partial \\phi}\n",
    "  = - \\frac{\\epsilon_G}{2}\\hat{f}_{ij}^{(5)}\\left(\\frac{\\partial \\hat{r}_i}{\\partial \\phi}\\hat{r}_j + \\hat{r}_i\\frac{\\partial \\hat{r}_j}{\\partial \\phi}\\right)\n",
    "  = - \\frac{\\epsilon_G}{2}\\hat{f}_{ij}^{(5)}\\frac{d(\\hat{r}_i \\hat{r}_j)}{d\\phi}\n",
    "\\end{align}\n",
    "$$"
   ]
  },
  {
   "cell_type": "code",
   "execution_count": 1598,
   "metadata": {
    "vscode": {
     "languageId": "wolfram"
    }
   },
   "outputs": [
    {
     "data": {
      "text/html": [
       "<div><img alt=\"Output\" src=\"data:image/png;base64,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\"></div>"
      ],
      "text/plain": [
       "FormBox[TagBox[RowBox[{\"(\", \"⁠\", \n",
       "\n",
       " \n",
       ">         TagBox[GridBox[{{RowBox[{OverscriptBox[\"r\", \"^\"], \" \", \n",
       "\n",
       " \n",
       ">               RowBox[{\"(\", RowBox[{\"-\", SubscriptBox[\"ϵ\", \"G\"]}], \")\"}], \" \", \n",
       "\n",
       " \n",
       ">               RowBox[{\"(\", RowBox[{RowBox[{OverscriptBox[\"r\", \"^\"], \" \", \n",
       "\n",
       " \n",
       ">                     OverscriptBox[\"ω\", \"^\"], \" \", \n",
       "\n",
       " \n",
       ">                     RowBox[{\"(\", RowBox[{RowBox[{RowBox[{\"cos\", \"(\", \n",
       "\n",
       " \n",
       ">                             RowBox[{\"2\", \" \", \"ϕ\"}], \")\"}], \" \", \n",
       "\n",
       " \n",
       ">                           TemplateBox[List[SubscriptBox[OverscriptBox[\"f\", \n",
       "\n",
       " \n",
       ">                             \"^\"], RowBox[List[\"x\", \",\", \"y\"]]], \"\\\"(5)\\\"\"], \n",
       "\n",
       " \n",
       ">                            \"Superscript\", Rule[SyntaxForm, SuperscriptBox]]}], \n",
       "\n",
       " \n",
       ">                         \"+\", RowBox[{RowBox[{\"sin\", \"(\", \"ϕ\", \")\"}], \" \", \n",
       "\n",
       " \n",
       ">                           RowBox[{\"cos\", \"(\", \"ϕ\", \")\"}], \" \", \n",
       "\n",
       " \n",
       ">                           RowBox[{\"(\", \n",
       "\n",
       " \n",
       ">                             RowBox[{TemplateBox[List[SubscriptBox[\n",
       "\n",
       " \n",
       ">                             OverscriptBox[\"f\", \"^\"], \n",
       "\n",
       " \n",
       ">                             RowBox[List[\"y\", \",\", \"y\"]]], \"\\\"(5)\\\"\"], \n",
       "\n",
       " \n",
       ">                             \"Superscript\", Rule[SyntaxForm, SuperscriptBox]], \n",
       "\n",
       " \n",
       ">                              \"-\", \n",
       "\n",
       " \n",
       ">                              TemplateBox[List[SubscriptBox[OverscriptB\\\n",
       "\n",
       " \n",
       ">   ox[\"f\", \"^\"], RowBox[List[\"x\", \",\", \"x\"]]], \"\\\"(5)\\\"\"], \"Superscript\", \n",
       "\n",
       " \n",
       ">                              Rule[SyntaxForm, SuperscriptBox]]}], \")\"}]}]}], \")\"}]\\\n",
       "\n",
       " \n",
       ">   }], \"+\", RowBox[{SuperscriptBox[OverscriptBox[\"r\", \"^\"], \"′\"], \" \", \n",
       "\n",
       " \n",
       ">                     RowBox[{\"(\", RowBox[{RowBox[{RowBox[{\"sin\", \"(\", \n",
       "\n",
       " \n",
       ">                             RowBox[{\"2\", \" \", \"ϕ\"}], \")\"}], \" \", \n",
       "\n",
       " \n",
       ">                           TemplateBox[List[SubscriptBox[OverscriptBox[\"f\", \n",
       "\n",
       " \n",
       ">                             \"^\"], RowBox[List[\"x\", \",\", \"y\"]]], \"\\\"(5)\\\"\"], \n",
       "\n",
       " \n",
       ">                            \"Superscript\", Rule[SyntaxForm, SuperscriptBox]]}], \n",
       "\n",
       " \n",
       ">                         \"+\", RowBox[{RowBox[{SuperscriptBox[\"cos\", \"2\"], \"(\", \n",
       "\n",
       " \n",
       ">                             \"ϕ\", \")\"}], \" \", \n",
       "\n",
       " \n",
       ">                           TemplateBox[List[SubscriptBox[OverscriptBox[\"f\", \n",
       "\n",
       " \n",
       ">                             \"^\"], RowBox[List[\"x\", \",\", \"x\"]]], \"\\\"(5)\\\"\"], \n",
       "\n",
       " \n",
       ">                            \"Superscript\", Rule[SyntaxForm, SuperscriptBox]]}], \n",
       "\n",
       " \n",
       ">                         \"+\", RowBox[{RowBox[{SuperscriptBox[\"sin\", \"2\"], \"(\", \n",
       "\n",
       " \n",
       ">                             \"ϕ\", \")\"}], \" \", \n",
       "\n",
       " \n",
       ">                           TemplateBox[List[SubscriptBox[OverscriptBox[\"f\", \n",
       "\n",
       " \n",
       ">                             \"^\"], RowBox[List[\"y\", \",\", \"y\"]]], \"\\\"(5)\\\"\"], \n",
       "\n",
       " \n",
       ">                            \"Superscript\", Rule[SyntaxForm, SuperscriptBox]]}]}], \n",
       "\n",
       " \n",
       ">                       \")\"}]}]}], \")\"}]}]}, \n",
       "\n",
       " \n",
       ">            {RowBox[{RowBox[{\"-\", FractionBox[\"1\", \"2\"]}], \" \", \n",
       "\n",
       " \n",
       ">               SuperscriptBox[OverscriptBox[\"r\", \"^\"], \"2\"], \" \", \n",
       "\n",
       " \n",
       ">               SubscriptBox[\"ϵ\", \"G\"], \" \", \n",
       "\n",
       " \n",
       ">               RowBox[{\"(\", RowBox[{RowBox[{RowBox[{\"sin\", \"(\", \n",
       "\n",
       " \n",
       ">                       RowBox[{\"2\", \" \", \"ϕ\"}], \")\"}], \" \", \n",
       "\n",
       " \n",
       ">                     RowBox[{\"(\", RowBox[{TemplateBox[List[SubscriptBox[\n",
       "\n",
       " \n",
       ">                            OverscriptBox[\"f\", \"^\"], \n",
       "\n",
       " \n",
       ">                            RowBox[List[\"y\", \",\", \"y\"]]], \"\\\"(5)\\\"\"], \n",
       "\n",
       " \n",
       ">                          \"Superscript\", Rule[SyntaxForm, SuperscriptBox]], \"-\", \n",
       "\n",
       " \n",
       ">                         TemplateBox[List[SubscriptBox[OverscriptBox[\"f\", \"^\"], \n",
       "\n",
       " \n",
       ">                            RowBox[List[\"x\", \",\", \"x\"]]], \"\\\"(5)\\\"\"], \n",
       "\n",
       " \n",
       ">                          \"Superscript\", Rule[SyntaxForm, SuperscriptBox]]}], \")\"}]}\\\n",
       "\n",
       " \n",
       ">   ], \"+\", RowBox[{\"2\", \" \", RowBox[{\"cos\", \"(\", RowBox[{\"2\", \" \", \"ϕ\"}], \")\"}], \n",
       "\n",
       " \n",
       ">                     \" \", TemplateBox[List[SubscriptBox[OverscriptBox[\"f\", \"^\"], \n",
       "\n",
       " \n",
       ">                        RowBox[List[\"x\", \",\", \"y\"]]], \"\\\"(5)\\\"\"], \"Superscript\", \n",
       "\n",
       " \n",
       ">                      Rule[SyntaxForm, SuperscriptBox]]}]}], \")\"}]}]}}, \n",
       "\n",
       " \n",
       ">           Rule[RowSpacings, 1], Rule[ColumnAlignments, Center], \n",
       "\n",
       " \n",
       ">           Rule[ColumnAlignments, Left]], Column], \"⁠\", \")\"}], \n",
       "\n",
       " \n",
       ">       Function[BoxForm`e$, MatrixForm[BoxForm`e$]]], TraditionalForm]\n"
      ]
     },
     "execution_count": 1598,
     "metadata": {
      "text/html": [],
      "text/plain": []
     },
     "output_type": "execute_result"
    }
   ],
   "source": [
    "RHSEnegryLagrange = - 5/2 Subscript[\\[Epsilon],G] FullSimplify[{\n",
    "  D[fh5rhrh, OverHat[t]] /. OmegaReplace,\n",
    "  D[fh5rhrh, \\[Phi][OverHat[t]]]\n",
    "}, Trig -> True];\n",
    "\n",
    "RHSEnegryLagrange // MatrixForm // TraditionalForm"
   ]
  },
  {
   "cell_type": "markdown",
   "metadata": {},
   "source": [
    "<span style=\"color:brown\">**NB:**</span> Выражения полностью <span style=\"color:green\">**совпадают**</span> с предыдущим ньютоновым подходом!"
   ]
  },
  {
   "cell_type": "code",
   "execution_count": 1599,
   "metadata": {
    "vscode": {
     "languageId": "wolfram"
    }
   },
   "outputs": [
    {
     "data": {
      "text/html": [
       "<div><img alt=\"Output\" src=\"data:image/png;base64,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\"></div>"
      ],
      "text/plain": [
       "0\n",
       "\n",
       "0"
      ]
     },
     "execution_count": 1599,
     "metadata": {
      "text/html": [],
      "text/plain": []
     },
     "output_type": "execute_result"
    }
   ],
   "source": [
    "FullSimplify[RHSEnegryLagrange - RHSEnegry] // MatrixForm"
   ]
  },
  {
   "cell_type": "markdown",
   "metadata": {},
   "source": [
    "В **размерной** же записи наши уравнения превращаются в\n",
    "$$\n",
    "\\begin{align}\n",
    "\\frac{dE}{dt} &=\n",
    "  = - \\frac{1}{5}f_{ij}^{(5)} \\mu \\frac{d(r_i r_j)}{dt}\n",
    "  = - \\frac{1}{5}\\frac{c^5}{G}f_{ij}^{(5)} \\frac{d}{dt}\\left(f_{ij} + \\frac{1}{3} \\delta_{ij}r^2\\right)\n",
    "  = - \\frac{1}{5}\\frac{c^5}{G}f_{ij}^{(5)} \\frac{df_{ij}}{dt}\n",
    "\\\\\n",
    "\\frac{dJ}{dt} &=\n",
    "  = - \\frac{1}{5}f_{ij}^{(5)} \\mu \\frac{d(r_i r_j)}{d\\phi}\n",
    "  = - \\frac{1}{5}\\frac{c^5}{G}f_{ij}^{(5)} \\frac{d}{d\\phi}\\left(f_{ij} + \\frac{1}{3} \\delta_{ij}r^2\\right)\n",
    "  = - \\frac{1}{5}\\frac{c^5}{G}f_{ij}^{(5)} \\frac{df_{ij}}{d\\phi}\n",
    "  = - \\frac{2}{5}\\frac{c^5}{G}\\epsilon_{ij}f_{ik}^{(5)} f_{kj}\n",
    "\\end{align}\n",
    "$$\n",
    "\n",
    "Здесь учтено, что квадрупольный момент бесследовый\n",
    "$$\n",
    "\\begin{align}\n",
    "\\text{Tr}(f_{ij}) &= \\delta_{ij}f_{ij} = 0\n",
    "\\\\\n",
    "\\text{Tr}(f^{(5)}_{ij}) &= \\delta_{ij}f^{(5)}_{ij} = 0\n",
    "\\\\\n",
    "\\end{align}\n",
    "$$"
   ]
  },
  {
   "cell_type": "code",
   "execution_count": 1602,
   "metadata": {
    "vscode": {
     "languageId": "wolfram"
    }
   },
   "outputs": [
    {
     "data": {
      "text/html": [
       "<div><img alt=\"Output\" src=\"data:image/png;base64,iVBORw0KGgoAAAANSUhEUgAAAgIAAAA8CAIAAACbyEVvAAAAzXpUWHRSYXcgcHJvZmlsZSB0eXBlIGV4aWYAAHjabU9RDkMhCPv3FDsCghY9ju/NJbvBjr/6dFlcViPUAjWE/no+wm1Ao4SUvaACQqSaqjaSIhMzR6lXnFCeqW56sHOS2CjlbwF96ceuO5Zf+TFa/mLjB3JLa2AZmU49tvk+Vr+2UnYjkw31Q+L/dzJXZERPjEnFHZW8BFImZJXseOAE2BhxV0knc4c7x+Cjw9oYHNDue3cPMAr3sYKNm60xG2O0wlGuTJ4vnVGPVb0WCW9NhFq6GiW9hQAAAAlwSFlzAAAWJQAAFiUBSVIk8AAAADx0RVh0U29mdHdhcmUAQ3JlYXRlZCB3aXRoIHRoZSBXb2xmcmFtIExhbmd1YWdlIDogd3d3LndvbGZyYW0uY29tXKKmhQAAACF0RVh0Q3JlYXRpb24gVGltZQAyMDI1OjAzOjE4IDAxOjU1OjU1JIFwVQAAGpNJREFUeF7tnXWU3raywG/KzMycMrcpMzMzM6fM3JTSFFLmvDIzc9pb5vaWmZmZ+359c56OrmTLsi1/n7yR/9iz65VG0nhGMxpSr7///vtf4Z7PP/+8f//+iyyyyMorrxwOaoKUMJAwkDCQMNAUBoYKBfirr77ab7/9ppxyygEDBnz44YehwCY4CQMJAwkDCQONYiCMGBg4cGCfPn0GDRr0448/NjrdBDxhIGEgYSBhICwGwoiB5ZZb7pVXXrntttvCTi5BSxhIGEgYSBhoGgNhxEDv3r2HHnroccYZp+npJvgJAwkDCQMJA2ExEEYMhJ1TgpYwkDCQMJAw0DEMJDHQMVSngRIGEgYSBmLEQBIDMX6VNKeEgYSBhIGOYSCJgY6hOg2UMJAwkDAQIwaSGIjxq6Q5JQwkDCQMdAwDSQx0DNVpoISBhIGEgRgx0CtgMYn3339/sskmY5VnnHHGdtttF8Nyn3jiiY8//niVVVaJYTJdn0NU2Pjzzz/PPPPMv/76S9DyyCOPnHTSSeONN17XsdSBCfiv/dBDDz3kkEN69erVgVmlIVqKgQDkhBgI9bz33nuCR8RAKJh14Hz55ZcUt3j++efrAOkxfWPDxlVXXaVz3dJLL91jUF24EP+1b7jhhsccc0whwNRgSMZAfXL6V0D0RSUGUDOXX355uCjgAtsLygcbv/76608//UTL5pZ5++23o9sK/Hnnnffkk0/+9/8/H330ES/ffvvtrbbaipIkzc0hEzKrZu2//fZbc+NSaGudddb5448/8tbO+y233PKll17S5/Dmm2+OOOKIgwcPbm5iCXJwDETLSnnk1GPFwNFHHz3ssMOy7ODfuI0AC7GBCB977LFRz/fdd9+GFkitkYkmmggbHfDvv//+UUcd9cEHH2TzNYZjApwMZLvs2LPXXnuxdtLgP/jggyYGlaPYlVde6V77o48+ilns9ddf1+ew/fbbTzDBBNTubWJiCWZwDETOSpnkFFIMvPDCC3LMP/XUUwMilx3hwgsv3GabbXbZZZcbbrjBBzLq5BhjjLHtttv6NO7xbQqx8fvvvy+44ILy7TBDo7MHx8kbb7zBJnvfffcJZFWHfIQRRqAw7Q8//KBG5HNTqJx9Ofgc8gDecsstyvi+8MILB5dAmG6XWWaZnXfeuXDtNDjxxBNnnnlmHSGck8DS4Ycf3jGEpIEqYyB+Vsokp5BiAJVTtpIVVlihMh6Njhyv2BSASc0iAY4wKAR+9tln0xJls7DlkNCgEBv77LMP6OLnM888M+mkk4477rhYMMJiZuutt15yySUVTBSF9dZbb/LJJ5dvOu20037//ffqv3fddRcvO6P/EtfAMWiKKabAh7Tbbrsx7v777x927XfeeSdgqcQuYN1rp8GYY45peNdWXHHFiSeemC0m7MQStOAYaAUr2eQURgycfvrps846q+7xm2WWWYIo4yhBlC9FgnGsPvbYY2WIQq8vk4G3g6t1wYmmMwDd2MBWM/zww59//vkyGYw288wzz6KLLhoWezPNNNOuu+5qr/fSSy8dbbTR+KZKWZY58Oamm25qGj+scaGFFlpggQU+++wzGYv9d7jhhrvjjjsCDk20D5u459ppxolk44031tszKxAiNqX0RIuBtrCSTU5hxEBzH4YtSalRjDLXXHPBD2rPyhz3gQceoE1yDgtyCrHx2muvGW5JjEj33HNPQDHw9ddfY3U599xzM78XJcqHGmooTOf6f7EgYSxqjq4EMvo1K/3ll1/0gbBtgpOAQ2MRWnbZZf3XjvV2mmmm0du/++67kDTH4oCzSqCCY6AtrGSTU0RiwHavY1R98skn9a9FnAn8cP311zs+Yd++fWmDmln2MzNc2S7xt6+MjYBLY6vlizz00EN5MNHHkRO60QONmFNgwDl0ERQH08yTkEzJXjsBVKDru+++0+fM8bpjhrIu4ioN7cZAKFYyyCmWLGJMtISRjDTSSFhmlXEJJVHUf/VgHSJ+bv7559dfGr+TJMUb5fN0tNT/xXY5yiij9OvXz7O9ZzMmTOgL+uB88823+eabX3311Z4dQzUri43HHnuMeZIGiF3ommuuCTINjE7AUZliNkwcElNPPfUwwwyj/oVI1v8MMo1CIE2snUGxMpVauzQmzk2fsNAzWlHhKio3YAOCPjfaaCOO4JiP4cRPP/20MrSOdew6i+WttAlyCsVKJjnFIH493evYFlCsDjroIMecMWUgS3jKxr+LhRpXYU2EPPzwwwrC5ZdfzkwMKlljjTVq2lvwnXpaLcpigzhOJow9TYK+Rh55ZN1zWxkzr776KtDyorx+/vlngkd33313Hf4MM8ywxRZbVB6xQseG1s5M8M2wt2ZOKXPtBx98MBqJ0Z4IInDYXLwQlkBOYAatjjXWWHfffXcFZDbaJSoWy1tpQ+QUipUMcorCKOTpXt9xxx1Rq93xEniPIWWOPGUJEQZDBcbXXbajag9LU0KDocXWjBpOnN+EE07IOaN///56QQtCqkqNssEGGwDnggsukF7E84w//vjqTweoUthAq2I7ZqBvv/32iy++GH300VHSWVSpqWY2Rhph61fZsNdee+3cc8+N6UNkDJjHgaynjDEoqCPAqf7QnhCaWzsTINaZQ63MpHDttFl77bWXWmopY+Y4zCFsqMhzRWWbMSjwifE76qijOL9CBiISSFnQnXNlwYZtHyGLZS6wOXIKxUoGOXVfDHi619n1iKdmh3IT1nnnnQftIi3C0l8hNIwYnKORASrmhD9JlOVYrfrK3HhIESoEqBqwI0tUO44d9RJdA1X9tNNOC4gNInEZBVVUYJLYhbfGf57ulgjIJZZYQtpQPkgsHuR2IA8I0zTOHASMIgY++eSTUKMXwml07dhz+YIS/1q4dgiJI+8555xjzFmMe+zOhWup0ECADxo0SPVl659tttmEXOvoRhUmk9clThbLnG2j5BSElQxy6r4Y8HGvU3EAhVHqDbgf8YhusskmRQ0D/x9TFVubyv8kvBUrHmq7Mcziiy8urOW/x1133XW0x7BggEIGMCKYcazEHxts+sgVBjJ88qHQBEImmWQS5dtHnL/88su6YFMDMRNs05SZCzV0IZym184ECABVNOlYOy0PO+wwjDN2tALOM6GcJtIp9thjj9VXX91AFKqGjMi+U4jDDjSIk8XshTdNTkFYySCn7ouBQgJ69tln0bLfeecd1ZIooLztDyMshIuCmQkW3fzee+9FI0P9pICMbaN/8cUXjY7gSyn4b731FkZzGzJWb9Q93bqN+dIwdkuvAw88sKwYyMtpwjg244wzcmZ3pHq5saEvhA2aieEgaS5cikoJ+IHdOR94dNZdd10iJsu6dgqpyNGgA2tn6yd7jsQX9zzJDEAHh+QyNxehHOJr6yw2sy9uGCNomGacBYnR8BQDGEJRenCKOixI/Ate1hOkjck42DNaFrPx2QFyqs9KyCqdnLovBrD3oXeccMIJeCYxEVDUBUJBPcGXDULRrzEdEBpE+ArPZptthsGHZBwj1lt9DDHB225kdjeC9khFxkrLQxQKuZqqtgG7P6GobFLq0E0xouOOO47wHvb3Sy65hBp+mKQEcb1799Z3XiAT48R7n8xbiYPCUO7JyUh+GTcz/vWss87iXw5Xah421OhY5P/n/x6M0YDCGSB/erqgPVehmrHBnXLKKY5eeMBse0jZUTzbd3jt6BzQmDs6gEQzR1k92ZQff/xxzwXWbAZjSuq+uzYM+hkSDiPeVFNNBVvxwKREc6jRkegDBgyQjHGWAEORNE55GH16bvaMmcXay0o6OXVfDLDjkG/Mzi7aKATUp08f2XDnnHNOQnfkd/3JU/b5JIQ50hKXrMED4hlX6tjAgQP5U5JFMdkTuy3wlRjAUSal1nhQurHwEMauJIFeFVlKBdhGm0wmxGFAY+RZIYuyG2IcUCU06EXwDNqW3lHSQEBaniM3DxsKCMhH1PHISsG2/NlEWaHCJXe4QevWLsFsOE46gygxH2N4pB5U3ogoUqhT+MBEB0JLFT8WNaOkC0cK9DbeUDgWgcGpCHOfEBv1VtWZz8GeAImZxdrLSjo5dV8MCB7FqbLSSisRDgQNEVXJnxXySGeffXY62voLNQN4j7NOfTacDTfeeKP6c80119TFAO9VpTwSXDFk80ZMFjQjElwFLEHfvOH4Usic1EjA/o7eRA1CR2MMVoRtIKuRVVJJHLOyHCPImcAwpfedbrrpeJ+XT5eHDWN0VSEcd33hKnpYgxatHQMg35rQ/s58Akia4eDHvOE4uBBcR3QZUQyqjQSkE3YsbyQRBw1GL+JNJJJIAhUM5mbPmFmsvaykk1MsYmCxxRaDLPBTTT/99GI9rBamxpYNHPveG/R33qO2KMMrFhW99hzkboiBb775Roj1yCOPVB9byrTxKLOJzJzwx0LmFGpG8XG0xGggh6GLL76YZhJKS5Qhv0smnZGPKuvi0J0JMw8bRmNJakOPY8mFq+hhDVq0djkxuyuphPo6GEXRdaAfzJJ5MCWl3yBIDqzQJBoMvRAPKD02fXImQKHhPScJ8UW52TNmFmsvK+nk9I+1ka+CecH9KM+ybILyYMBBZS58iPDRe9m/Y9PgOMl7omKwyEvICiTi7pX5X1LweW8noOJ44D12VVxwmKfRTYjm1jONxVKmP5k3/8ktmzzMWX7hOMxPqnK6Z4tPGwbGHATbOFrCPzCSXJhDMwQV9ihhEpktpwG9u4wrc7CfPGwYLUELb7B9kStQAeed74IKX0Sw73Ko8plYi9YuVA23Zq6rMhfb0Dj1ohWxg+OYJYMsD41iq5GyBOpB0+K9HO5xGuPD4xfcBnobzBHitWIDEXp2s2fMLNZeVvovckKaSSxK4WN7t7hLtrAXDQpLjWKLEDiI/ZrqjBi8bI3JSJLElmLEGlHhko56XLbiN/00gDtBpvrcc8/JVEVc3XrrrY6Zc6kW+zX1xdy5bxyARATK3JA0aGSqKhlBh/zLOKQTVMNLbq3KHD0PG0Zj0baoBV0T+Z3pnrcPGqRIUJbPfFq0dtlMbb+XLLMyF9tY2nPPPXEJFOYPC3VdccUVeXjGNisfhfqGRhtVLVhyy93sGTOLtZeVdHL6RwVG9+R8534IZ7b1ZZw8//F4yEhySwtRK3g4CvjIFUcbmaRdwgVjJb41IojYWGmASYcQfqlrX/MhkAkIDt2Tf+HtAOmU6HHXyXnqqafgB9R/UfxRVDm14C+RGXJO56dRZEnGFeFhP3nY0FuCK6lUo/zkNRHSdHfsCUXU+s//JfbJ/bRr7Y7CRCyzMhcbKCJOjLA9bJLE/ziwh5ovZ01i+fKaqfO0VA7XH7FI8AiJutkzZhZrLyv9Fzn5aExNt8EcIRtc/YHIUQIUdn8DFLkC8gaqlXAdHrJ5VaxC5dMAp2BA2d4IGY59XEKMHDZWNVVM/IDipCJvxL3GSYLfOTujoMEthntZ1nLEEUdkoi4PG3pj5QknWLM+/tsFoV1rJ5yXb80e3RySOQGghdjskzmizAfmtXNNOCtjCiZHRxhNpaYrOCqjXkIe3OwZM4u1l5V0cup+hVESBUhdgVaIf3doH57/Eus29iuj/Q477PD000/zkkru1NPg2Mvv5IURAuQJOa+ZWOex59gNkDFYctDiOXYYNlbKClF/3+hCgihv1IkBxwDyQ0JmMUxhUOJMJh9PPTJunmciDxs6BDGOk8ogQUdD1NOutQtVV/OZ+XxWnFKrrbYaodK4zfT2WPBJ6LEhiPYG81JtQv8vigvaCeda/HBSEZOsF6M7bXhDsIqQt5s9Y2ax9rKSTk7dFwNiEWLv41ZCH2J1t5GNj2hluxnnXHnJWVUicPhFzps84vIVj5Y8bLvyC8qOeqk8w6j58lIMOOR22iNC3FhOuVaX5Eki8eW56KKL8BKjv+vF5qQvUVL8RDIhDxiUVGSxCJFcSkklcugM+68cbtQc7Ak4sKEay1bort1tQ+4Zb9q1dqFqlc4S9hOQQYkViPQXNndFqyhMxx9/POY1Ceg0Hghb3uAQRt8nvYCtn9hlzK24A9G3UH0k0Jl/SU0U9UDS/I6HQBmOHOwZM4vpi2oxOTV3wPSEjIMBVNolFT27G82wwADNrsc7xxxzYFSRyEsecW6rJBf2XAnThChV1Qq54YFHv/9E5AePivuEf/jTrvmlWmayK5kB9gIx9EskEkoZiTn8Ah/iL8F+SuoA+d9GF7Hp43XIw1UeNvT25Ojpy8kExQEfLiWfSP6LP9xIZJP36BeDBw9GYkk6G+c8fs/L9672fcP2Klw7ijAfQmWbU+2A/ctO1oN+EN6IfBVxSyiBCiIINWdxazVxwzYHVlVSNJNc7SIrsijCCuz2pD2qLAFElyQn4k9GGZJe6EDCfcok62bPmFmsCVbypLqadKWTU/fzBoT+3Anr/guW9C70FKMLp1q2S3Z5SkGgdJOdSxS/MC3GVnU3On05H1BLCy1Gz+BFRSJqTWXb0oytGQgyCqXQeKOzPRtlJjupl3m5oGj3ZF2qoWEetvK8mtJYljJlnlp7HjZUA3Y0sUE5qkew7xCPBFootkFHfmd6mGvtj7L33nsT1wQ0SgVgdpf8FHcMlf+XDd6ycO3s7Kuuuio0Q/V/qfFAOT9WpFfilFlhSBE3DFY7eYMdA6IKOGd1+pRMxrCPGN/zHpRxx3DgRBk8QRQHVj1TjI78CWFAM2ASIydpmyhkIEr3KDjYM3IWC85K/lRXhwYMcuq+GKizGLuvmDX5afxLKlSjblPajCfIbSpqCMyjhK9suummodaC4k9ZZq4ZcJR6ZmNio0GNMrhOn0MeNlQbqSJJjZfCmYsLHelICqhcSJDZBXMWAhJ7FxYGzlU8nSwSV7gKvYHn2rkmgYVzgxB9kRwIacx69kBQFP4VNAz5F95RkZqhHvxYsk3rpctDAa8PB/WF/ctRMQly5RZSFBoyhOzjVCF7RstiDbGSJ9VV/nAGOfU0MSAhp83dzpGHd1LSUHbs+OjK34lydViEHN3ZjpE9ead16ViIDbFcqQthHMMR301LbMeFV6chmWiZd9dYZYQE7+i5drZdBBsiWSZA0ZG8GoI77bSTOleROcWxKeCcCcwGOHq0O/Uk4IixgYqTxRSWPMmJ9j6s5E911T6TQU7NioEmaqO7ly0m9UyTRTV8+feingSXgjkuXvcHRRwFsaGOm7/IIcIKgWJVARtYaTjIy5EcYxfWHuP280yYEsXEmaBwFVKWo1otkELgNRtUWzt+IykKy+FGyQN7JnhWWbiYNzGauyV02YVIjgvGk7Ide1L72FisGjl5spIn1VX7vgY5BRMDxP8aST3Ew3Au7rBNgB0N3a3U9V7V8JjZCwcpZVjqX9yIP9a+BkSNiDZBqhcpOYUzt7HB7i/XI2MSwYKvtq1CUGIWL5Sv2EbESh6hS6Dy2qUUGuEueIOUn9PGGGvH0cIdD1hI1l9//UKUlmog4cU+YrgU2NY1jofFKpOTJyt5Ul21L2iQUzAxkBkz4JnQX20leb0k7LJb2miQwBgCsVVQk71MzDKFlhnVy8aGhGaRdErusZ3Xk4lVzL74KsiBwCjBZocEUgXljfglkj+khABEDKgm/Jl1qKXC2hlOip2AK6MsCl/BcN6gwVHVFc88sTd15mn3lUwXrr4IC7aN0OJhsQrk5M9KeVQX5JMZ5BRGDHClIoWoUAPZdNRD8gghg0EmXQqI1N7Ra0qX6t7DGtvYQIvhKMCBo/A8QUs0F+xs3FtA9jKuURBLMC7ZDJIUTZAVESBs/URJoV9gvSUmhPecAgkbp0wesUxR4dN/7fq0iSjD8YMnRnfPUgeXVD7OnZQAUY0lsUNEYNhHamMEly5hJzmkQfMnJ39WUjjMpLpQGDbIKYwYQOun7Hi3FHADNRRFgWEQd6FQ1mo4dbABIRJczKFBSt0RHUQAKzYlpIjgREoNY4WTsqncEiEOzAMOOIA/ibb0P7VEjmQ89kYtcZAj2Xn6VRPUISd8y8fXUmq9nMBIx2UOpXqlxvFgwJ+V9GLvNtUFWZFNTgHEAGoRgcMYQyOJYcA0T6YlN10EQVnbgdTEBuc8/UJBAvsktk89+IQoNYyyY2QeZF6o21JkEmFMrW/bywU7oW3o9yliJcB4HXyZkoKL0A0OOQHsGAY8WUmRWR7V1Z+wTU4BxABaEjTKg12IBCsumeu6PJA093SCFoppDhtYabGD2+lU9Sk1HgicccmByDSgkRyAr155R0hN5zLhJmaOa5pjGftIE8ATzBgwYLCSg+rqz9YmpwBiwLhTgv0XTbywWHn9xTggEHCJpSLvTq5Gh44QeHPYIPo4woigIJ8AVYZoWrR7KuTo1n8dOJ58DgQUl8URgveYKIkm4uJIDyTTnmoiQdaVgMSJAWElH6qrOf9McgogBrgvF32TQiJysZx6br755pozrtOdNB+Yx67DUwdme/smbJT9dmzoa621FqWfCoOdiOigMJ/7btGyoxvCBgc19XHrAEl9W4EBf6qrvBx0F5ucAogBNSHkDDe7qnrF7MI+RfYrr8fdkWxprrbwyY9taAJRgU3YiOpz+E8GPQY+4rok/y6pZcJAHgbyyCmkGJCxKR6i7i2Sm6m79ZDQS1rvEHjNeibCEza6RYd1xkWPoYqRfa9LHZip7xCLgTxyCn/fAAGF3LYodfwxqupmog7/jvuOCG6pbJ6ehI020gAWJ+5sse9/beNa0py7joE8cuqFYGxictxEQTIRFZjlKoYuPixQXW3RxWlEMnTCRiQfwnMa6Xt5Iio188FAHjmFPw3IbKhdzE+pON/dJ8kAHf8JG92lxrKjp+9VFmOpvQMDeeTUlBgg45TZyO1x6UkYSBhIGEgYiBYDTYkBSvpQbVGu0k1PwkDCQMJAwkC0GKgrBtju+/bte9lll+k+Bq5qIi6lX79+XDgX7crTxBIGEgYSBhIGwEBdFzHVI7idHEB4g8napdo+MoBKc2RUym1BCcsJAwkDCQMJAzFjoK4YoLwwt02pC46pfMIFScgD8ipjXnaaW8JAwkDCQMKAYKCuGAAEZXW5MBpJQK4WxVUoQJ+QmzCQMJAwkDDQFgz8L3vygOX34GHjAAAAAElFTkSuQmCC\"></div>"
      ],
      "text/plain": [
       "FormBox[RowBox[{RowBox[{\"-\", FractionBox[\"1\", \"5\"]}], \" \", \n",
       "\n",
       " \n",
       ">        SuperscriptBox[OverscriptBox[\"r\", \"^\"], \"2\"], \" \", \n",
       "\n",
       " \n",
       ">        RowBox[{\"(\", RowBox[{RowBox[{RowBox[{\"sin\", \"(\", RowBox[{\"2\", \" \", \"ϕ\"}], \n",
       "\n",
       " \n",
       ">                \")\"}], \" \", RowBox[{\"(\", \n",
       "\n",
       " \n",
       ">                RowBox[{TemplateBox[List[SubscriptBox[OverscriptBox[\"f\", \"^\"], \n",
       "\n",
       " \n",
       ">                     RowBox[List[\"x\", \",\", \"x\"]]], \"\\\"(5)\\\"\"], \"Superscript\", \n",
       "\n",
       " \n",
       ">                   Rule[SyntaxForm, SuperscriptBox]], \"-\", \n",
       "\n",
       " \n",
       ">                  TemplateBox[List[SubscriptBox[OverscriptBox[\"f\", \"^\"], \n",
       "\n",
       " \n",
       ">                     RowBox[List[\"y\", \",\", \"y\"]]], \"\\\"(5)\\\"\"], \"Superscript\", \n",
       "\n",
       " \n",
       ">                   Rule[SyntaxForm, SuperscriptBox]]}], \")\"}]}], \"-\", \n",
       "\n",
       " \n",
       ">            RowBox[{\"2\", \" \", RowBox[{\"cos\", \"(\", RowBox[{\"2\", \" \", \"ϕ\"}], \")\"}], \" \", \n",
       "\n",
       " \n",
       ">              TemplateBox[List[SubscriptBox[OverscriptBox[\"f\", \"^\"], \n",
       "\n",
       " \n",
       ">                 RowBox[List[\"x\", \",\", \"y\"]]], \"\\\"(5)\\\"\"], \"Superscript\", \n",
       "\n",
       " \n",
       ">               Rule[SyntaxForm, SuperscriptBox]]}]}], \")\"}]}], TraditionalForm]\n"
      ]
     },
     "execution_count": 1602,
     "metadata": {
      "text/html": [],
      "text/plain": []
     },
     "output_type": "execute_result"
    }
   ],
   "source": [
    "(* Доказатество последнего равенства в уравнении для изменениия момента импульса *)\n",
    "leviCivitaArray = Normal[LeviCivitaTensor[2]];\n",
    "-2/5 FullSimplify[EinsteinSummation[{{i, j}, {i, k}, {k, j}}, {leviCivitaArray, fh5, fh}]] // TraditionalForm"
   ]
  },
  {
   "cell_type": "markdown",
   "metadata": {},
   "source": [
    "<span style=\"color:brown\">**NB:**</span> Выражения полностью <span style=\"color:green\">**совпадают**</span>\n",
    "с $dE/dt, dJ/dt$ из задачника Лайтман А., Пресс В., Прайс Р., Тюкольки С. - 1979 - Сборник задач по теории относительности и гравитации (Решение задачи 18.5, стр. 446-447)\n",
    "\n",
    "Не стоит забывать, что в задачнике система геометризированных единиц $G = c = 1$."
   ]
  },
  {
   "cell_type": "markdown",
   "metadata": {},
   "source": [
    "# Итоговая система **энергетических** уравнений:\n",
    "\n",
    "$$\n",
    "\\begin{align}\n",
    "\\tag{dJ/dt}\n",
    "\\frac{d\\hat{J}}{d\\hat{t}} &= -\\frac{1}{2} \\epsilon_G\n",
    "\\hat{r}^2\n",
    "\\left(\n",
    "  \\sin (2 \\phi ) \\left(\\hat{f}_{y,y}{}^{\\text{(5)}}-\\hat{f}_{x,x}{}^{\\text{(5)}}\\right)+2 \\cos (2 \\phi ) \\hat{f}_{x,y}{}^{\\text{(5)}}\n",
    "\\right)\n",
    "= \\epsilon_G I_J\n",
    "\\\\\n",
    "\\tag{dE/dt}\n",
    "\\frac{d\\hat{E}}{d\\hat{t}} &= \\epsilon_G\n",
    "\\left(\n",
    "  I_J\\hat{\\omega}\n",
    "  -\\hat{r} \\hat{r}'\n",
    "  \\left(\n",
    "  \\sin (2 \\phi ) \\hat{f}_{x,y}{}^{\\text{(5)}}+\\cos ^2(\\phi ) \\hat{f}_{x,x}{}^{\\text{(5)}}+\\sin ^2(\\phi ) \\hat{f}_{y,y}{}^{\\text{(5)}}\n",
    "  \\right)\n",
    "\\right)\n",
    "= \\epsilon_G I_E\n",
    "\\end{align}\n",
    "$$"
   ]
  },
  {
   "cell_type": "markdown",
   "metadata": {},
   "source": [
    "# RHS уравнения (dJ/dt)\n",
    "\n",
    "Введём новое обозначение $\\hat{r}^2 \\equiv \\hat{r}_2$"
   ]
  },
  {
   "cell_type": "code",
   "execution_count": 1603,
   "metadata": {
    "vscode": {
     "languageId": "wolfram"
    }
   },
   "outputs": [],
   "source": [
    "ToR2Replacement = {\n",
    "  OverHat[r][OverHat[t]] -> Sqrt[Subscript[OverHat[r],2][OverHat[t]]],\n",
    "  Derivative[n_][OverHat[r]][OverHat[t]] :> D[Sqrt[Subscript[OverHat[r], 2][OverHat[t]]], {OverHat[t], n}]\n",
    "};"
   ]
  },
  {
   "cell_type": "markdown",
   "metadata": {},
   "source": [
    "и подставим в (dJ/dt) значения $\\hat{f}_{i,j}^{(5)}$:"
   ]
  },
  {
   "cell_type": "code",
   "execution_count": 1609,
   "metadata": {
    "vscode": {
     "languageId": "wolfram"
    }
   },
   "outputs": [
    {
     "data": {
      "text/html": [
       "<div><img alt=\"Output\" src=\"data:image/png;base64,iVBORw0KGgoAAAANSUhEUgAABPgAAAAhCAIAAADLW4I5AAAAz3pUWHRSYXcgcHJvZmlsZSB0eXBlIGV4aWYAAHjabU/tbQUhDPvPFB0hJMGBcbj3OKkbdPyag6qiqiVix/lASePr804fE5oleYmKBgjhzZt2iioLi7O0Jz64q/h2Dz/pFrnTKr8FjO1fpx9YrPXPItElbP5Abb4H9iLT5ee+8mv3a6/1XGRyoP2I/H/uFoqCHM7oKhFo1DVRklBUSuDGC2BjxlvFX+SBCI4hZof1OTihI87ukWA03vMEm69YJxtjtspRnkxdHr8Y9NrV55D0DWLzWsbliASxAAAACXBIWXMAABYlAAAWJQFJUiTwAAAAPHRFWHRTb2Z0d2FyZQBDcmVhdGVkIHdpdGggdGhlIFdvbGZyYW0gTGFuZ3VhZ2UgOiB3d3cud29sZnJhbS5jb21coqaFAAAAIXRFWHRDcmVhdGlvbiBUaW1lADIwMjU6MDM6MTggMDE6NTU6NTa9iCHvAAAgAElEQVR4Xu2dCfy2xdTHK9kTWUKW0OJVSioSb5tUkhBtaMGTJKksLYRsRRRSIcujEIlP2+OxRkmLVISSpYTspcVa9u/j9M47Zq5r5lyzXPd9//9zfT71+T/3da6ZOb8zc2bOzDlnlv7Xv/61VHsaAg2BeY/AP/7xj49//OPnnXfene50p8033/xpT3vavIekATAeAvO5+/39739fuHDhV7/61fvf//7Pfe5zH/3oR4+He6spA4GrrrrqhBNO+PnPf7766qvvscceK664YkZh7dOGQEOgIdAQiCNw0UUXfeMb3xC6v/zlL3/9619f85rXBD5buhm6cVAbRUNgriOApthiiy3OPffc293udpgcsLvvvvseffTRc53vxt9UIDDPu9+OO+74xS9+8RGPeAST9z//+U9sp913330qBNMa0Y/AokWLnvWsZyEvUZj3ute9LrzwwtVWW61h1hBoCDQEGgKVEMBoXXvttS+//HJT/vnnn//4xz8+UN0ylZoixX7rW9/62te+VrWKVnhDoCGQj8ARRxxxl7vc5Ze//OVvf/tb/qbAd7/73d/97nfzS24lNASiCMzn7ve5z31upZVW+sUvfoGZxE4TWB1zzDFRxBrBZBH44x//uOeee370ox+95ZZbOIp/zGMe87vf/e7ggw+ebKta7Q2BhkBDYG4j8PnPf/72t789pqU8X//6142Vyxx66aWX+uxXNHTx53nmM595j3vcY26D3rhrCMwBBDidwG8Zz8l73vOeBx544HrrrQdTl1xyyRxgrbEw/QjM5+6HgXTUUUfd9a53RUxPeMIT1lhjjbvd7W7TL7J53sIzzzwTQ3ennXZadtllN95449e97nVNYc7zLtHYbwg0BEZA4O1vf/sGG2zwwAc+8H//8/C3qRR7c/vtt7/22mudZtQydNnvfOpTn7rrrruutdZaI3DeqmgINASSEcD77r3vfe8KK6xgSmDw8jdGb3KZ7cOGgBKBed79dtllF+IFBKvf/OY3eFXsv//+Suga2aQQII76gAMOMLVvtdVWHDI0hTkpcbR6GwINgfmAwDe/+c2zzz77fe9730Mf+lDOY3Batrkm/GfBggXbbLPNH/7wB/v3/zd08XsmqPdvf/tbEbBe+MIXUlQ4Pji5ouuvvz78bTIvN954IyklzjjjjOS2dX545JFHHnTQQeaVXwvS2m233X7yk5+UrXe00pIBp4VRcByCIkzNOuBFQDCFLLPMMnKEax5W23e+85033HDDaEVEV6I3EkL955hY//znP0ex0hAk46kpfCI00bGW0/0mwlGlSvFhfuITn4gT7NZbbx2toqDKjQoo2piJE4w/alhRLbfccobx6667jgUPOfyKQ+HoyfksLIf3Sa3Wiou4s0ACv2+66abadSUPnOiybRxhOfgks5OPc5Rff+TWWALlM2JKQKGRJTFQYM4clNzOO9zhDq985StxfSJnKkYvJ7oYvXZpmFpLL730C17wgv+qgrbKI9uT9773vXE5Nj+m/YHBxtrlYx/7WNrn9lc//vGPD/3vh93uVVZZhUOAQOHJvIgDEkfh+pbTEta4DLC+T77zne8I4j/96U+Fxq+FWRMC+r2+3jRKIjDpJbhddX6Obv3Upz7FOfyWW2750pe+FFd4ApA0FSUDHgXHJ9C059Zbb0UogU4yGuC0dvHixUDa12xi8xiZJIKi1z3vec8D/05KOs+rX/1qDlq32247omcZFxocHJooLELPAoLEKq997WujVfzsZz+Dkq5LcFqU2CaYA2KFHQbIy1/+8ic96UkPfvCD99prL5vBNHkl4xkFP6qmoiX0EUQ71dCxpu9+yW32PyT/02abbcbE6bxKVolDhx5KgK0lmSlQBSwywtwVVLlDBZQJO3vt22677X777eeXM7uj5o1vfCMeMZi7g8CJjkpfT44prPDMNb6wHN4TVmtIJ6yvoguSQfLVE5N03V7nMvniD3/cccfpS4j2Jb+o5OlGg1IRYenZhzKZHU0tQ6e56CI/bQmkaapPE1722/QcIuIYTOZ/sj2RV8+fEG3i5DkoykUUbUqAqac85SlMlySXQfR2maeccgq27tVXX21+XEr+QqPxQmbZjTbaCDs+2pQAwSGHHMLyV2kjhSviZNg3/TkoDnyVwwsmNNUhaT37UWFLggrbeHZqoTNBwEbFj370I329QyklVYZEguGn6n/++9//nqUeb/FxP+200zCrcKhbZ5118EIP15UDeBQcnyDKeFTfjQM47SST6uMe9zggve9979vZ7JNPPplR6vRwItudAfjpT3/6jne8I35x73nPe/jkUY96FJ8M3UiKwmJa+JKXvISdjuhSGwL21aTxaA+svqhoDMFMixUuuFYE9xgYX3fddU8//XTW7jbvafLKwTOKfFRNBUq44IIL+t5GO5Uz1rAEfvjDH4Zbq+x+UZb1BFdeeaUYmV/4whfsr5JVolN1FCWhx6imAew10xIM70pznDP0RlOGhp3nP//5MIi3iMPg7I6aa665Biv3y1/+sr7LCWV0VE5KWNGZa3xh+R01YbUWHYnRBclQEWvo2TIg0ttZBrBU40RX87myLzlF5Uw3UZSKCEvPO5Q57EQrinabKL8+QcISKNpOnyC67DefMPtgF7DIxBLBgrviiivC1eUs+8MlR9E2n7O5g03OwDnxxBPtMjl3ZMlNrhnz4xJDl8hd7NKHPOQh7DG87GUv4zOMnARM5RPquN/97sd5YHIJ5sNf//rXHE8Tc/w/1sMqP3DmnMPLxRdfDO8EFQeOZx2mNMLGlRyL0WyN+LUgD+rVHKAlQ/qud71r1VVXRfaiTDsNXW5K4BVec6aWt73tbfzy9Kc/nTHQV3UO4JQZBcchiCKg0XcjAM7Utckmm7CpKftHnYYuPYHuTf4nDjeA2r639i1veYvhlNTlzIKUQ0I5+fHmm2/mK0xfnGGigAiBBhahRGU88pGPpIpoyeKNz/9p4YMe9KD73Oc+nE5HvxKCGRWrNP6www4DfJxW2LX1twOS5ZWDZxh2jZrqLAGndE6qUYmdu5aaTuWMNcBhLDjTkl21vvspe1qUjM1jc2+tY+imqUSnRg1K9ick8mVY4bjU1/KyKncEZWgzwl67zEGOoTu7o4ZNLk4/PvShD0V7mkOgGZWOnhxBWJqZayLCcnhPWK1pRmJ0QTJUyhp6Vt2sBOxVLn9zwKv5Vmg0fckpLWe6iaKULyw970KZw064Lk23ifLrj9yhS6ChgECvWfZLsT/4wQ8keG3NNde87LLLonVlzkGB8jVo25+zJUez/bPPV7ziFWwZm3XLUpwd4eVMdmYOguV7rCBsemfKj3JuCPC9pOJPfvKT+k/6KGk9+SdvuOEGZVGZvAANi1dyVSur0wib0kCDjVtTplMLexIrr7zywx/+8CIH4H0t//73vw84sqvUaeiyGy2vuMjRFILBLwmKuO6is+RMwKPg+ARR0UT13TiAYyjSPWitmK+dhi5Hgo997GNJP2OYYrUkUlhxxRXNj3hY8AtOGjbvOB3wI+auclMmCosUTq52NB0BulGciSfE2MPhSih/9atfEVuIba9xBpldscKpCQjp8ytJk1cOnmFhadRUZwlsb9FFsXLN1OCQRTtV51jjLhYOKzq98vTdL9o/9QQoZ9IIybizZ700lejXG0XJ+YRtXFrS51VUVuWOowwNg3RFk/HOMXRndNQgDjQ825T6/iaUmlHp6MlxhKWZucYXls/70NUamEdHYnRBMlTKGnoiNQj25gxNQ9xJo+lLzoc5000UpSLCGoRGDjvRiqLdJsqvT5CwBIq20yeILvvlE4Y8BogsOzVrv8w5KMxIFG3nc7yxaLnv3njqqafy+0knnST0S2FAM6M7VhZX8UYdzPqa+6IXvYgKvve97yUIxv4Ej1mO0Z/97GdHXSjNVzm80Bc5ldpnn32UzVYKm415dm7+9Kc/SbF+LbgFclh3zjnnKOvNIcMloM/QJTqUVw94wAOc8sUxAP/MznpzAKfAKDgOQZR3jb4bE3AaLDHxvqGLSwmGIlvjDlPiPc6DOwOvTH6y97///TYlXu5C1hdubRNrYIGenTysGmo033LhELZHJ+zoB2eM08nRJBpDd3bFyvzEJiCw95n0yfLKwTMwLpRqqrMEfEywAPviKTSdqm+sYeXKPXh2vYO6X1QVKAnosWxufuQjH/EN3TSV6NSrQcn5BE94PDi4wnoElTumMmTfBOWGffviF78YtG1Dd0ZHDbM56t3e8EIHYoBF+55yVDp6ckxhBWauiQjL4X3oag12NCMxuiCJSjaBAO8thkPUU7SvZGVfcj7PmW6iKOULayiMOeyE69J0myi//sgdugQaCohNH1j2Q8ZQesYznkEPxAzhdFRTUeayP1CFBm3nc9zr2Df37XNZIRMmI/S3xehq2FPSrL/++lQQDeyMlkbGHVl84NRBoCOn8HqLN1q4T8ASFkOXoCzlt0phk6XGPiXwa2FeJA5ZWWkmWV+PNye3HOA4VRxxxBEihWRFHGhzFByHIMq+Rt+lAc7qkyReCT2wz9BF95HHyOfIJCoXQ1dObnnw1LKJUU8S3LvDDjsUgQW9wBVkrD5RDTys8gnTZeOjhqPBjIqVPA2EUciU0Gf+FZFXVKB6AqWa8gsk8zxsdnZRIc4Za7SK22KJcDG+7pndj8xzDM/PfvazemSgZLOJHr733nvzh2PollKJGpQY8kwB4kmEHyx7KHbkwiCOosTO0BtTGTKV4J9FghDCmhxDd0ZHDaODXRJUpehMNuVXX311TYIP5agsIqxol+gj6Ju5JiIsp6MOXa0p9VV0QZIMZt+HxE3gliXKh/Xnc57zHA6ZBtWi7EuDygwTR1HKF1bB1mYWpVHgUX59NTt0CZTDRdjQNSt8brnLqaXIt1G0WfeS+5PjN1kPE2fBOWJnPguirhhTBLpKw5YYumRw/cQnPsFCgbsNJFIU24xYTYozR5FKNlgfcE61/PLLK+kDZA972MNk/JuHiMezzjor8Am84Rf3jne8g5Zjb+MDhr1NJyNlDoZKuEkc3w9KN42GkltVnAdJ2JlpnI15vxZWeDVsiU5m+3q8yf/mB4aJAwBPXwxSTueJgtN3rNEnyr7IUjstdhrgrIYBYehwoJ19y4U+FgiPpyKiC4SAxFSCv5+XgsAwmR2jYy0KC8OWEH1nuPFPYof6Ci8o9/z2U8IIYuVQXSBC1aIrUCnsvrEHiZlkWEiWVw6eAQCVasopgcO3lVZaCU4DQdfRThUWyvHHH0/5jA7IErqf02CcqynNjhCJdioICMFlTkE5+IZujkq0q9agZK5jJTCPrhUOGsqZ42iYo1FHGDWCxqWXXsoZ/oc//GH+9g3dWRw1RhvYahN3jz4/f7tXKEdlEWFpBkInTd/MNRFhOR11Uqu1ZDD7PjS+JKYX4c3BMkyTI0PKVPYlpwE500102ZYprASQM7VioEaNAo/y66vZoSvbBEzMJ2FDVyZ6HpybLrroIiKz0NLhMN3Jok3Gfmkw7odE3QacYfEIZtIR82qJoXvUUUfJ4TUP0SYYvSYF3Gc+85lBECM/5eI7WiyxvqwAiAYxly5ICwNNYj8Ax2k26SHD2Cb4gVzH8hV2b7RGPcGXvvQljiM++MEP+p/QqwDXOX/Tl1yVsq/HSzw3z+GHH+40gI0DecX1CZ1tK9h5cnhnR2P33XdnQ51lq18OdyOTUiun/NEMXcnlazwuCJ7nn6yf/MaLkzNDNZAqrB4s48i9XvsFz0FiNSs8GRHmufvd7856RQpMllcNPJPVlCgEdlI6h0wRobAXK1q6c7tw6FBNMHTZuWNYSY5A39DNUYnS+EEokYeCWP3AQDaAjDbHBUQwaNRQDvuDxIAZ3xPf0J0bo0bZaZNHpbL8UmR9hu5UCUvD7DQDznDGdRFfAGejGR9GTRBQMms1phuNLCrR1NCKgxR4Jb6KFBswdM1+LnMxFo29qmEhSuKVzgZMFm2OEnELIvw4euzEYS8cSXjgba7L2ITCJFnjyZ6Kdwp+z/wx6JCT4r7yla9QCFlbi0hICmG/n1Zhw0gL8fSwj1D8ivbdd1/IuHGUayqw/mV5+qpXvapUk7hGBevCmCJ+sWQYIqOPZtVSqknKcvp6PJlOBdt3vvOdTlHkppJX7CD01VKq8yi58MnoITgj4OJO7+8sBJ9GWMhJkDZ0bWeaMehEF83CuIMRcy2YjFVMKZ8vuUOMpy9/QG1Yasu9dvuBVC9WPMSwysxYQHuSqPDoo48mj4j8yNEuBebIqyyeOWqKjSE46ow2LCgUUelRXxuNWhhq6DJVIziTQ8g3dDNVYkGUOtmvPceFMdePGimHuQOff5NU0jd058ao0XTUnFGpKb8gTd/MNT3C0jA7Q4Az6TNSuKFDJhT/1MHhN5O1stONRha1aQpqxdoKvDYUdvkBQ1fuVRGriomY3WeWMXLWwsNuC1ZlX1OnH225hlMCj28zdDn/5SeC9DAYPvCBD/CC/QycIoRJTt5JCseJGYG/dpJYHwLxdC17fCq1YL5vvvnmIgDWl4GOsummm0Kz3Xbb4QkmocJ23mY9L51VsAVCoBHZyQK5oHfddVcaAOWYvVlTV1+PFzdCHq5pdcphQS+vAoHEpTqPhoVOGnomLXzzm9/cVwI7QBCw5ZFcxdC1nalokKErBoa93SABPHYSZlMyZ9Qimj7/0tqw1JZ77faDpF6scpsFD1rI7kVyGQwP13fxe468CuKZqaZEhXLU4I+XgkLZYostqOXII49MHpXmw0GGLnsW7EXiEGH2In1DN1MlFkSpE5yqc1xUHPpRQ1Gsnwhkte+Y9Q3deqOGYzG8Lfbcc0+WZYSdh1nLHDVR3GqXH23AIIK+mWtKhKXhZbYAF47opZLvkPzkAR7zWSs43WhkMQJNQCsO0gM0tbYCHwENU0XA0DU2rZ0YEqdIjiplVcPypq+p04+2+PPiGgwLtxm6XAgpjGGjOkY8aV3xxTX7TNy4G0jIjHs3hbAT4KBDhCHJ+sKPOcXqQ5ZCMMUpf7fdduujQUgciAkvixYtcsgG8eJXATKwRsmEAZu3xOoQJ8numvlFJvLOu2rT+ncR9Ki6r8fjDS6I+Se65513nrzC16Wv8aU6Txo4bEHRPLwPTKgz61cG6lZbbWUKlIVs5x0/fZWyuWV3V7JEUAJ5hu0fNanL9Ibuueeey4rQ8RSQ1G6dJ7qE8/GqLx6+Eiw2XFXlXqn9yWKVZQGPf9+1uYWVo/VkeQFsKTzz1dRqq60Gp8SwOKOjrFBkTAXiwAMKwVGJsg3BPpE9PPsmFDZtWUTK7V/y+IZujkosi5IPQtU5rhPz5FHDiCDdAOk/7GJ9Q7fSqGGnfuONN6ZjmNUL5m5fp8ofNeH5q3b5pnZHWJ2LrpyZaxqEpVkqzBzghqnXv/71MtcQSdvJaRHWSk03GlloaDL7bUArDtIDNLW2AtegAU3tZT9ViLFK1knHT57dFumBbBF2tnYm0CY3EyxIhOlthq6JZSUm02aMvEq4bp988snsgvOKqzL5MnAyxlkrBIQIO+iwmhHgwk80LEHmSJrR11ekj/IgQodmKC9+Fdy2Qslku8Xrw7zdfvvt2QggI6v5Ra5O3WuvvZQdOkpWCr1oMir/UNTgaVvyToNLdZ4oDj6BpG8Fbds1nbyF/GInjDUXCEsq4+hDBoJYV13yvu8mVbt8paF7zTXXYKtjnDuJncXxHld5v80Cu7+pBGUlWEaTe6X254iVNYd0CX+MiIh5MIbT5CXAlhpH+WpKLjt1khgXF4pcM7NgwYLoePQJklWimMQ77bQTzkfmkf1ZHmxgfkTpmeCloSqxOEo+71XnOL+6nFHDVMgqih0TG220HFDjASE/ovpqjBoYIa/Ek5/8ZIxtNjJMctE+T6v8URPuxrXLl9pzhOW0P5yMauiUFFZxQ4Wl0RgzB7hhyuy79aWRL8JaqelGI4soTX6/DWjFQXpgBAUeRUMIkuc4p/zAiS5Hhp3LS/OJb0ZJ4TOBNvcXwJ04pi3Nf5htbLuyS8RBttnJlomfEUUo2hve8Ab5J2+JeiU1tqQS8R88vjDwsKTNSaDQEDR//vnnd35ifuQ4i9MS5sUA2THHHMOmLG3gbLaTDPOGY0lesaCRrUfzDOXFLx+vRYKQydVJzLB5y+kHj0SByrPKKquwLGbDzOAWZjz6thR6HGIgO6rjtBkxmXrRMnJUjk8aV1za7SGudeedd+YXuj4H135TC3aeKA4+AR4XsmdPFjTjbsEl0aRKJ4McDoryCd5r+KKwH8FmB1nBoxWh7PDSt8nwDsBaPvjgg+3P8X6UsRR4WMcvXLiQw2Rs7D4yWkWGD6JzcfDj/zYZyo7UvvyCcyaWsP2KhLHEJLMcIa2OU3IlWOxaqsq9UvtzxIqbADtchO4Q+X/sscfaUKBwUDv8wlbgaaedliAvvi2IZ76aIuM95gdjf8cddzScFhcKIR7c844+l+3RQY+jEhlBeNmwdMOwMeV0TiiiHMJ1ka0RBZ6mEouj5De16hznV5czapgZr7rqqjDaLERAu/iooVL0PymsZdeGh/UAyZ/RxnjN+E3KHzVhNmuXL7X7wupsVc7MlTYlhVXcUGFpdMXMAW4zheMkwXFXXnkl8Xc1+mrB6UYjiyhNfr8NaMVBemAEBR5FQwhqL/upgm1cbC7+uO6667AB7YbhRYjfB4pC8i45z0ygjWmANLFolsTaYOiecsopwobv64uvpn1ZDus8rIV11lmnb0+CvVvKse+CV+5eKMnE3eKtb31rH72c76233no+wVBe/BLQPhSOtWNeEbGMZY5Ba34x6Tp9MJU81iMLbO0gU1ijWzu1y7WuhCX3tapg50lgXC5bRgR27la6NeYofdUUKIkiO3uFstJBYWl2mdETXdrJ6hwrvTPFGhFuMjYdVwv4ZSTye2eI4wiwVJX7CO0XGQ0Sq+ykoD2dPsOtpyIjcomlyausEs5XU7JD5ARfFBeKBAi96U1vUo7BAJk+Rpf9VnxwnEd8cHhQFLySQ+Y0lVgcJZ/rqnOcRhb6UbPffvv5aLMRDNTsI8grbNEao4adqUsuucRm59BDD6XevuRn+aMmDF3t8jWCG0TTN3NNg7A0jMwc4IYpXG05MGfLuy+haT5rVadvjXSK0/RpxaF6YAQFXpz3cIGBZb85scOatQsBNLnspi8H7UygjR0KC2ymw9oSQ1dS4JBjIOo5TNobKDuzcQpMcqJdIxmVlM9ZMSqg705tTixlvYIRH+1MUV6cEkySOjtAF6cIqlu8eLEhlsjJvntuoq2qShDo8ZJTB90q6bvMI25m3Evc17CCnSeBdxZSNM+OU2Vfhr0o27mdTR3pFZ3XQSkr1a/tnALDhi4KBS9Kzj38TO4kXSQtHAQSMEncjl3yhRdeyI+cWeFw4bMwAixV5T5C+wW0QWIVB1cwdxzgxfGSU1AKTJNXQSVcRE2JCYpTg921igtF5iEu7lOOwQCZ3tDtLASlJyrCvsM2TSUWR8lpcNU5TimIQaPGL5OQXaC2d8NHGDU0g3yKrN46s2kWGTUB9GqXrxTcILK+mWviwtJwMYuAG744ymOA4HjSyWkR1qpO3xoBlaUZpBUDeoBW1VbgZRnXlBZY9nPKIstLVLpdlIncMfcm2m9nBW1x6ZX7aJcYuuKSqkkKgl2HIxDH3H34yvqby3U0AgjQnHXWWbi04WxsZ8aS4+LAca74cGIJh+8fknqjvPjN42CT8k0qLGwqyUAoNzXxiBsAS+ELLrggE4Ean0vwKg++l0759HhugHDWnTio464JO307C2U7TwLLnGcKRyZtA9sQ/NPcmssglxuxt95664TyzSfJazuOLKgdr+PO2tkw4y35zNghMg/KBW1r1mQcrEHDPXv2qfU+++zDj3iWdhY7AiwFlYbPwgjtl0oHiZUVnuSdcpLryAV05vKqBHmVHUf5aopNFjjCtdgWTVmhoNjFV4qgg5yBKd/WMHTTVGJZlHxkas9xGlkMGjV+gb6hC03tUYN5wDmYn0nONC9/1IShq12+RnCDaAIz18SFpWFk+gHnJhG8DMgLQMIwwxGzPNeiML3aiWAcfvNZqzp9a6RTlkavFaN6oLYCL8u4prTAsp/PCbZiFnayM7L7zI+4sHWefc4K2lzeDheSUHpJIlkxFYiqDaNG1BZw2PcE+PTYwBS18sorawQQoDGB8hzN4bSJucKNT2RdJ0AucLOTRJRxphqtXcOLX4hM8Nh+Bx54ILFetI18KmuvvTbHnmz/S+gXOijnvtZoy3MIjI8lV7D65RDVzNITjzK8+2TtKPd/ED3VV2nZzpPAGvatBLXibIl9yDqG9nMLNFYigX/0Gc7ZeAu/mr2PQAPS1nZMWhwvy/jiRmKn/IMOOkhedT477LCD0KNr8KUUw4MCMbfQTew+kM2lb8upNiy15V67/UYQQ8UK4/QoXOXR9WT5JrLogAMOQDTEsZsyE+RVFs98NXXFFVfAFLt4do8tKxTcSqlCjsHznxqGLq1KUIllUfKRqT3HaWQxdNQ4ZXYaulVHDQ1g5bDllls6qf7shuWPmjB0tcvXCE5PE565Ji4sDSPTD7jJ6MNFIQTlkTWNpRerSm4qJsNIdDWSvBAtO91oZFGbRq8Vo3qgtgKvDYVffnjZDz3BmMzFpDWV4yIiw9m7ZyHdd1w3K2jLMaQ4Sy4lFwZyUWdfPIAAx+klFh3Lu6icSHe03HLLRcnCBDhtymVi8vA30VPRY1JhzD+udOrS8+J8yA4c4wRHWWqRWxPIsk0aqnXXXZe1LyeirHcDdy9lYpLzORfkIj7boFprrbV8/3u6OCGIqF2Q5EoGOOp0XTAtKd55EngkugBeMPyIWWV/hEt6mIbZdGBThkhdHOQw1AObI8oaOUFFxIhbSU8cPwnryGpjMMfiJT0GzZMS7OxlnYYu/kt2XWz9Ig4K4aEl9K8uolsAAARtSURBVDT7fhS/VVVhGUHuVdtv4BoqVj5kx4Q7uula7LCg6BAHUaZ+Bxskr7J4FlFTkmD/29/+tt21CgpFZl/capQDKkxG0ntKY+corTQQkySIeBI5JQxViXxeECWfndpznAbAhFFjF8s2MVD7VzNAU2PUUOyJJ57I6QQ5FwPcFRk1EyxfIzgNTXTmMoVMUFgaRmoLVNOGMA2niywd7dmf0c39EdFlRiZrZaebfBzyS1BqRY0eqK3A85nVl6Bc9lMg3rIcT4olyFqa2T9gyMwE2izJMBvNZv1t1wuFscNyIF0H52MaiFkFgld4UtGUQwk4QnOcS2rZaPCwpkChGcRLX7F2gi6hQfXo2zDllOhZnLHxW863D0sBHkWMHWhntx5Bk9Qh+uFsEVx99dW4ejpx1AEWJghLkYE2wfaHOwbHuRz3YQWFx8hQeQUqTcAzR02x649bBLnK/SblCwVtybSKH7idMW6aR2KCSsxHKRmQhK6SXFeNDwuOGpqH6xqxVByXKZuaM2o0VdQuX9OGgjSTFZaGkWkGnOmDLBtnn302Dl+kWdawY9PUY23WdYiP5FA9MEEFPrQblKLHhR6bi/t78wucONpyywnZRoSXuKHLUCQtgX1lKMuUQD4q2aqPOkLnQ5lQwlBeEqpon9gINMDnZ39oci8r94ngyV1unHMaH4SCHOErhRWNg3TBMltRgsBEusrUgn/ZZZfh72PHQJL4Q6K22jNtCDRhTYlE5p4OaV1rzK41DWjLBbfmQpwl9+h2xwj+36/YtDh/koFJnLs4yuAyOhKXSaSN/+BRSYzB/vvvb6K6w+WP+XYoL2O2bU7W1QCfk2KNMtXkHoVoEMGk8MTWJffyqaeeKhd0FXkIoecKBy42MIkYihTbChEEJtVVphB/rvDFB4/7xuUyUpY6nOuyvcIhpOY29SnkaA43qQlreoQ7x3RI61pjdq0pQZs1BkYoqh5rdAn7YUOffLA+Rrg+k/wj8CF+ziSJHXMLQVNXGi+akhtNJwIN8PnZMZrcy8p9sniec845TBV2xu8c7s444wxsZv8yrZwy27cGgcl2lakSBF7xLEL81YvmdompYmQ+NKYJa3qkPMd0SOtaY3at6UF7o402sm9aiZ/oJmwGkE2OPLfEsMlFRu1pCDQEGgINgRlFgFj3UidgpDwEBBLdzSgUrdkNgYZAQ6Ah0BBoCEwtAiRPWWONNc4888xtt91WGlnF0MXFn7tPiI1h/35qsWgNawg0BBoCDYGGQEOgIdAQaAg0BBoCDYE5gABXiy1evJjbksyW+jI1uCI/NRcRca67aNGiGuW3MhsCDYGGQEOgIdAQaAg0BBoCDYGGQEOgIQAC3EG98D+P7ThW5URX4D7hhBPIeSXXVDQBNAQaAg2BhkBDoCHQEGgINAQaAg2BhkBDoCwCBAlzNzWJGBYsWGCXXNHQpRouJSLh4S677FKWmVZaQ6Ah0BBoCDQEGgINgYZAQ6Ah0BBoCDQETjrppMsvv1zuuLWffwONNd0JncD1DwAAAABJRU5ErkJggg==\"></div>"
      ],
      "text/plain": [
       "FormBox[RowBox[{SubscriptBox[OverscriptBox[\"r\", \"^\"], \"2\"], \" \", \n",
       "\n",
       " \n",
       ">        RowBox[{\"(\", RowBox[{RowBox[{\"-\", \n",
       "\n",
       " \n",
       ">              RowBox[{\"5\", \" \", SuperscriptBox[SubscriptBox[OverscriptBox[\"r\", \"^\"], \n",
       "\n",
       " \n",
       ">                  \"2\"], \"′\"], \" \", SuperscriptBox[OverscriptBox[\"ω\", \"^\"], \"′′′\"]}]}], \n",
       "\n",
       " \n",
       ">            \"-\", RowBox[{\"10\", \" \", SuperscriptBox[SubscriptBox[OverscriptBox[\"r\", \n",
       "\n",
       " \n",
       ">                 \"^\"], \"2\"], \"′′′\"], \" \", SuperscriptBox[OverscriptBox[\"ω\", \"^\"],\\\n",
       " \n",
       ">    \"′\"]}]\\\n",
       ", \"+\", RowBox[{\"120\", \" \", SuperscriptBox[OverscriptBox[\"ω\", \"^\"], \"2\"], \"\\\n",
       " \n",
       ">    \", \n",
       "           SuperscriptBox[SubscriptBox[OverscriptBox[\"r\", \"^\"], \"2\"], \"′\"], \"\\\n",
       " \n",
       ">    \", \n",
       "           SuperscriptBox[OverscriptBox[\"ω\", \"^\"], \"′\"]}], \"+\", \n",
       "\n",
       " \n",
       ">            RowBox[{\"60\", \" \", SubscriptBox[OverscriptBox[\"r\", \"^\"], \"2\"], \" \", \n",
       "\n",
       " \n",
       ">              OverscriptBox[\"ω\", \"^\"], \" \", \n",
       "           SuperscriptBox[RowBox[{\"(\", \n",
       "\n",
       " \n",
       ">                 SuperscriptBox[OverscriptBox[\"ω\", \"^\"], \"′\"], \")\"}], \"2\"]}], \"+\", \n",
       "\n",
       " \n",
       ">            RowBox[{\"40\", \" \", SuperscriptBox[OverscriptBox[\"ω\", \"^\"], \"3\"], \" \", \n",
       "\n",
       " \n",
       ">              SuperscriptBox[SubscriptBox[OverscriptBox[\"r\", \"^\"], \"2\"], \"′′\"]}], \"+\", \n",
       "\n",
       " \n",
       ">            RowBox[{\"40\", \" \", SubscriptBox[OverscriptBox[\"r\", \"^\"], \"2\"], \" \", \n",
       "\n",
       " \n",
       ">              SuperscriptBox[OverscriptBox[\"ω\", \"^\"], \"2\"], \" \", \n",
       "\n",
       " \n",
       ">              SuperscriptBox[OverscriptBox[\"ω\", \"^\"], \"′′\"]}], \"-\", \n",
       "\n",
       " \n",
       ">            RowBox[{\"10\", \" \", SuperscriptBox[SubscriptBox[OverscriptBox[\"r\", \"^\"], \n",
       "\n",
       " \n",
       ">                \"2\"], \"′′\"], \" \", SuperscriptBox[OverscriptBox[\"ω\", \"^\"], \"′′\"]}], \"-\",\\\n",
       " \n",
       ">    \n",
       "         RowBox[{\"5\", \" \", OverscriptBox[\"ω\", \"^\"], \" \", \n",
       "\n",
       " \n",
       ">              SuperscriptBox[SubscriptBox[OverscriptBox[\"r\", \"^\"], \"2\"], \"′′′′\"]}],\\\n",
       " \n",
       ">    \"-\", \n",
       "         RowBox[{SubscriptBox[OverscriptBox[\"r\", \"^\"], \"2\"], \" \", \n",
       "\n",
       " \n",
       ">              SuperscriptBox[OverscriptBox[\"ω\", \"^\"], \"′′′′\"]}], \"-\", \n",
       "\n",
       " \n",
       ">            RowBox[{RowBox[{\"16\"}], \" \", SubscriptBox[OverscriptBox[\"r\", \"^\"], \"2\"], \n",
       "\n",
       " \n",
       ">              \" \", SuperscriptBox[OverscriptBox[\"ω\", \"^\"], \"5\"]}]}], \")\"}]}], \n",
       "\n",
       " \n",
       ">      TraditionalForm]\n"
      ]
     },
     "execution_count": 1609,
     "metadata": {
      "text/html": [],
      "text/plain": []
     },
     "output_type": "execute_result"
    }
   ],
   "source": [
    "fh1 = fh /. ToR2Replacement;\n",
    "fh5Symbolic = Simplify[D[fh1, {OverHat[t], 5}], Trig -> True];\n",
    "\n",
    "Fh5Replacement = Flatten[{\n",
    "  Outer[\n",
    "    Superscript[Subscript[OverHat[f], #1, #2], \"(5)\"] -> fh5Symbolic[[#1 /. {x -> 1, y -> 2}, #2 /. {x -> 1, y -> 2}]] &,\n",
    "    {x, y}, {x, y}\n",
    "  ],\n",
    "  ToR2Replacement,\n",
    "  OmegaReplace\n",
    "}];\n",
    "\n",
    "dJdtTemp = RHSEnegryLagrange[[2]] //. Fh5Replacement;\n",
    "dJdt = Subscript[OverHat[r],2][OverHat[t]]*Expand[Simplify[dJdtTemp/Subscript[\\[Epsilon], G], Trig -> True]/Subscript[OverHat[r],2][OverHat[t]]];\n",
    "dJdt // TraditionalForm"
   ]
  },
  {
   "cell_type": "markdown",
   "metadata": {},
   "source": [
    "<span style=\"color:brown\">**NB:**</span> В файле Binary.pdf выводится <span style=\"color:green\">**точно такое же**</span> выражение"
   ]
  },
  {
   "cell_type": "markdown",
   "metadata": {},
   "source": [
    "$$\n",
    "I_J = I_1 = \\hat{r}_2 \\left[ 120\\hat{r}_2^{(1)}\\hat{\\omega}^2\\hat{\\omega}^{(1)} - 5\\hat{r}_2^{(1)}\\hat{\\omega}^{(3)} - 16\\hat{r}_2\\hat{\\omega}^5 - 10\\hat{r}_2^{(2)}\\hat{\\omega}^{(2)} + 60\\hat{r}_2\\hat{\\omega}(\\hat{\\omega}^{(1)})^2\n",
    "- 10\\hat{r}_2^{(3)}\\hat{\\omega}^{(1)} + 40\\hat{r}_2^{(2)}\\hat{\\omega}^3 - 5\\hat{r}_2^{(4)}\\hat{\\omega} - \\hat{r}_2\\hat{\\omega}^{(4)} + 40\\hat{r}_2\\hat{\\omega}^2\\hat{\\omega}^{(2)} \\right]\n",
    "$$"
   ]
  },
  {
   "cell_type": "code",
   "execution_count": 1611,
   "metadata": {
    "vscode": {
     "languageId": "wolfram"
    }
   },
   "outputs": [
    {
     "data": {
      "text/html": [
       "<div><pre style=\"&#102;&#111;&#110;&#116;&#45;&#102;&#97;&#109;&#105;&#108;&#121;&#58;&#32;&#34;&#67;&#111;&#117;&#114;&#105;&#101;&#114;&#32;&#78;&#101;&#119;&#34;&#44;&#67;&#111;&#117;&#114;&#105;&#101;&#114;&#44;&#109;&#111;&#110;&#111;&#115;&#112;&#97;&#99;&#101;&#59;\">&#48;</pre></div>"
      ],
      "text/plain": [
       "0"
      ]
     },
     "execution_count": 1611,
     "metadata": {
      "text/html": [],
      "text/plain": []
     },
     "output_type": "execute_result"
    }
   ],
   "source": [
    "I1 = Subscript[OverHat[r], 2][OverHat[t]] * (\n",
    "    120 * Derivative[1][Subscript[OverHat[r], 2]][OverHat[t]] *\n",
    "    OverHat[\\[Omega]][OverHat[t]]^2 * Derivative[1][OverHat[\\[Omega]]][OverHat[t]]\n",
    "    - 5 * Derivative[1][Subscript[OverHat[r], 2]][OverHat[t]] *\n",
    "    Derivative[3][OverHat[\\[Omega]]][OverHat[t]]\n",
    "    - 16 * Subscript[OverHat[r], 2][OverHat[t]] *\n",
    "    OverHat[\\[Omega]][OverHat[t]]^5\n",
    "    - 10 * Derivative[2][Subscript[OverHat[r], 2]][OverHat[t]] *\n",
    "    Derivative[2][OverHat[\\[Omega]]][OverHat[t]]\n",
    "    + 60 * Subscript[OverHat[r], 2][OverHat[t]] *\n",
    "    OverHat[\\[Omega]][OverHat[t]] * Derivative[1][OverHat[\\[Omega]]][OverHat[t]]^2\n",
    "    - 10 * Derivative[3][Subscript[OverHat[r], 2]][OverHat[t]] *\n",
    "    Derivative[1][OverHat[\\[Omega]]][OverHat[t]]\n",
    "    + 40 * Derivative[2][Subscript[OverHat[r], 2]][OverHat[t]] *\n",
    "    OverHat[\\[Omega]][OverHat[t]]^3\n",
    "    - 5 * Derivative[4][Subscript[OverHat[r], 2]][OverHat[t]] *\n",
    "    OverHat[\\[Omega]][OverHat[t]]\n",
    "    - Subscript[OverHat[r], 2][OverHat[t]] *\n",
    "    Derivative[4][OverHat[\\[Omega]]][OverHat[t]]\n",
    "    + 40 * Subscript[OverHat[r], 2][OverHat[t]] *\n",
    "    OverHat[\\[Omega]][OverHat[t]]^2 * Derivative[2][OverHat[\\[Omega]]][OverHat[t]]\n",
    ");\n",
    "dJdt - I1"
   ]
  },
  {
   "cell_type": "markdown",
   "metadata": {},
   "source": [
    "# RHS уравнения (dE/dt)\n",
    "\n",
    "Подставим в (dE/dt) значения $\\hat{f}_{i,j}^{(5)}$:"
   ]
  },
  {
   "cell_type": "code",
   "execution_count": 1614,
   "metadata": {
    "vscode": {
     "languageId": "wolfram"
    }
   },
   "outputs": [
    {
     "data": {
      "text/html": [
       "<div><img alt=\"Output\" src=\"data:image/png;base64,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\"></div>"
      ],
      "text/plain": [
       "FormBox[RowBox[{FractionBox[\"1\", \"3\"], \" \", \n",
       "\n",
       " \n",
       ">        RowBox[{\"(\", RowBox[{RowBox[{OverscriptBox[\"ω\", \"^\"], \" \", \n",
       "\n",
       " \n",
       ">              RowBox[{\"(\", RowBox[{RowBox[{\"-\", \n",
       "\n",
       " \n",
       ">                    RowBox[{\"3\", \" \", SubscriptBox[OverscriptBox[\"r\", \"^\"], \"2\"], \n",
       "\n",
       " \n",
       ">                      \" \", RowBox[{\"(\", \n",
       "\n",
       " \n",
       ">                        RowBox[{RowBox[{\"10\", \" \", \n",
       "\n",
       " \n",
       ">                            SuperscriptBox[SubscriptBox[OverscriptBox[\"r\", \"^\"], \n",
       "\n",
       " \n",
       ">                              \"2\"], \"′′′\"], \" \", \n",
       "\n",
       " \n",
       ">                            SuperscriptBox[OverscriptBox[\"ω\", \"^\"], \"′\"]}], \"+\", \n",
       "\n",
       " \n",
       ">                          RowBox[{\"10\", \" \", \n",
       "\n",
       " \n",
       ">                            SuperscriptBox[SubscriptBox[OverscriptBox[\"r\", \"^\"], \n",
       "\n",
       " \n",
       ">                              \"2\"], \"′′\"], \" \", \n",
       "\n",
       " \n",
       ">                            SuperscriptBox[OverscriptBox[\"ω\", \"^\"], \"′′\"]}], \"+\", \n",
       "\n",
       " \n",
       ">                          RowBox[{SubscriptBox[OverscriptBox[\"r\", \"^\"], \"2\"], \" \", \n",
       "\n",
       " \n",
       ">                            SuperscriptBox[OverscriptBox[\"ω\", \"^\"], \"′′′′\"]}]}], \")\"}]\\\n",
       "\n",
       " \n",
       ">   }]}], \"+\", RowBox[{\"60\", \" \", SuperscriptBox[RowBox[{\"(\", \n",
       "\n",
       " \n",
       ">                       SuperscriptBox[SubscriptBox[OverscriptBox[\"r\", \"^\"], \"2\"], \n",
       "\n",
       " \n",
       ">                        \"′\"], \")\"}], \"2\"], \" \", \n",
       "\n",
       " \n",
       ">                    SuperscriptBox[OverscriptBox[\"ω\", \"^\"], \"′′\"]}], \"+\", \n",
       "\n",
       " \n",
       ">                  RowBox[{\"90\", \" \", \n",
       "\n",
       " \n",
       ">                    SuperscriptBox[SubscriptBox[OverscriptBox[\"r\", \"^\"], \"2\"], \"′\"], \n",
       "\n",
       " \n",
       ">                    \" \", SuperscriptBox[SubscriptBox[OverscriptBox[\"r\", \"^\"], \"2\"], \n",
       "\n",
       " \n",
       ">                     \"′′\"], \" \", SuperscriptBox[OverscriptBox[\"ω\", \"^\"], \"′\"]}]}],\\\n",
       " \n",
       ">    \")\"}]\\\n",
       "}], \"+\", RowBox[{SuperscriptBox[SubscriptBox[OverscriptBox[\"r\", \"^\"], \"2\"],\\\n",
       " \n",
       ">    \"′\"], \n",
       "           \" \", RowBox[{\"(\", RowBox[{RowBox[{\"30\", \" \", \n",
       "\n",
       " \n",
       ">                    SubscriptBox[OverscriptBox[\"r\", \"^\"], \"2\"], \" \", \n",
       "\n",
       " \n",
       ">                    SuperscriptBox[OverscriptBox[\"ω\", \"^\"], \"′\"], \" \", \n",
       "\n",
       " \n",
       ">                    SuperscriptBox[OverscriptBox[\"ω\", \"^\"], \"′′\"]}], \"+\", \n",
       "\n",
       " \n",
       ">                  RowBox[{\"45\", \" \", \n",
       "\n",
       " \n",
       ">                    SuperscriptBox[SubscriptBox[OverscriptBox[\"r\", \"^\"], \"2\"], \"′\"], \n",
       "\n",
       " \n",
       ">                    \" \", SuperscriptBox[RowBox[{\"(\", \n",
       "\n",
       " \n",
       ">                       SuperscriptBox[OverscriptBox[\"ω\", \"^\"], \"′\"], \")\"}], \"2\"]}], \n",
       "\n",
       " \n",
       ">                  \"-\", SuperscriptBox[SubscriptBox[OverscriptBox[\"r\", \"^\"], \"2\"], \n",
       "\n",
       " \n",
       ">                   \"′′′′′\"]}], \")\"}]}], \"-\", \n",
       "\n",
       " \n",
       ">            RowBox[{\"60\", \" \", SuperscriptBox[OverscriptBox[\"ω\", \"^\"], \"4\"], \" \", \n",
       "\n",
       " \n",
       ">              RowBox[{\"(\", RowBox[{SuperscriptBox[RowBox[{\"(\", \n",
       "\n",
       " \n",
       ">                     SuperscriptBox[SubscriptBox[OverscriptBox[\"r\", \"^\"], \"2\"], \n",
       "\n",
       " \n",
       ">                      \"′\"], \")\"}], \"2\"], \"-\", \n",
       "\n",
       " \n",
       ">                  RowBox[{\"2\", \" \", SubscriptBox[OverscriptBox[\"r\", \"^\"], \"2\"], \" \", \n",
       "\n",
       " \n",
       ">                    SuperscriptBox[SubscriptBox[OverscriptBox[\"r\", \"^\"], \"2\"],\\\n",
       " \n",
       ">    \"′′\"]}]}\\\n",
       "], \")\"}]}], \"+\", RowBox[{\"120\", \" \", SubscriptBox[OverscriptBox[\"r\",\\\n",
       " \n",
       ">    \"^\"], \"2\"], \n",
       "           \" \", SuperscriptBox[OverscriptBox[\"ω\", \"^\"], \"3\"], \" \", \n",
       "\n",
       " \n",
       ">              RowBox[{\"(\", RowBox[{RowBox[{\"2\", \" \", \n",
       "\n",
       " \n",
       ">                    SuperscriptBox[SubscriptBox[OverscriptBox[\"r\", \"^\"], \"2\"], \"′\"], \n",
       "\n",
       " \n",
       ">                    \" \", SuperscriptBox[OverscriptBox[\"ω\", \"^\"], \"′\"]}], \"+\", \n",
       "\n",
       " \n",
       ">                  RowBox[{SubscriptBox[OverscriptBox[\"r\", \"^\"], \"2\"], \" \", \n",
       "\n",
       " \n",
       ">                    SuperscriptBox[OverscriptBox[\"ω\", \"^\"], \"′′\"]}]}], \")\"}]}], \"+\", \n",
       "\n",
       " \n",
       ">            RowBox[{\"15\", \" \", SuperscriptBox[OverscriptBox[\"ω\", \"^\"], \"2\"], \" \", \n",
       "\n",
       " \n",
       ">              RowBox[{\"(\", RowBox[{RowBox[{\"12\", \" \", \n",
       "\n",
       " \n",
       ">                    SubsuperscriptBox[OverscriptBox[\"r\", \"^\"], \"2\", \"2\"], \" \", \n",
       "\n",
       " \n",
       ">                    SuperscriptBox[RowBox[{\"(\", \n",
       "\n",
       " \n",
       ">                       SuperscriptBox[OverscriptBox[\"ω\", \"^\"], \"′\"], \")\"}], \"2\"]}], \n",
       "\n",
       " \n",
       ">                  \"+\", RowBox[{\"2\", \" \", \n",
       "\n",
       " \n",
       ">                    SuperscriptBox[SubscriptBox[OverscriptBox[\"r\", \"^\"], \"2\"], \"′\"], \n",
       "\n",
       " \n",
       ">                    \" \", SuperscriptBox[SubscriptBox[OverscriptBox[\"r\", \"^\"], \"2\"], \n",
       "\n",
       " \n",
       ">                     \"′′′\"]}], \"-\", RowBox[{SubscriptBox[OverscriptBox[\"r\", \"^\"], \n",
       "\n",
       " \n",
       ">                     \"2\"], \" \", SuperscriptBox[SubscriptBox[OverscriptBox[\"r\", \"^\"], \n",
       "\n",
       " \n",
       ">                      \"2\"], \"′′′′\"]}]}], \")\"}]}], \"-\", \n",
       "\n",
       " \n",
       ">            RowBox[{RowBox[{\"48\"}], \" \", \n",
       "\n",
       " \n",
       ">              SubsuperscriptBox[OverscriptBox[\"r\", \"^\"], \"2\", \"2\"], \" \", \n",
       "\n",
       " \n",
       ">              SuperscriptBox[OverscriptBox[\"ω\", \"^\"], \"6\"]}]}], \")\"}]}],\\\n",
       " \n",
       ">    TraditionalForm]\n"
      ]
     },
     "execution_count": 1614,
     "metadata": {
      "text/html": [],
      "text/plain": []
     },
     "output_type": "execute_result"
    }
   ],
   "source": [
    "dEdtTemp = RHSEnegryLagrange[[1]] //. Fh5Replacement;\n",
    "dEdt = Simplify[dEdtTemp/Subscript[\\[Epsilon], G], Trig -> True];\n",
    "dEdt // TraditionalForm"
   ]
  },
  {
   "cell_type": "markdown",
   "metadata": {},
   "source": [
    "<span style=\"color:brown\">**NB:**</span> В файлах Binary.pdf и binary_catch1.pdf выводится <span style=\"color:green\">**точно такие же**</span> выражения для правой части (dE/dt),\n",
    "а именно $I_E = I_1\\hat{\\omega} + I_2\\frac{\\dot{r}}{r}$, где\n",
    "$$\n",
    "I_2 = 2\\hat{r}_2 \\left[ -40\\hat{r}_2\\hat{\\omega}^3\\hat{\\omega}^{(1)} - 20\\hat{\\omega}^4\\hat{r}_2^{(1)} + 5\\hat{r}_2\\hat{\\omega}\\hat{\\omega}^{(3)} + 10\\hat{r}_2\\hat{\\omega}^{(1)}\\hat{\\omega}^{(2)} + 10\\hat{\\omega}^2\\hat{r}_2^{(3)} + 30\\hat{\\omega}\\hat{\\omega}^{(1)}\\hat{r}_2^{(2)} + 20\\hat{\\omega}\\hat{\\omega}^{(2)}\\hat{r}_2^{(1)} + 15\\hat{r}_2^{(1)}(\\hat{\\omega}^{(1)})^2 - \\frac{1}{3}\\hat{r}_2^{(5)} \\right]\n",
    "$$"
   ]
  },
  {
   "cell_type": "code",
   "execution_count": 1616,
   "metadata": {
    "vscode": {
     "languageId": "wolfram"
    }
   },
   "outputs": [
    {
     "data": {
      "text/html": [
       "<div><pre style=\"&#102;&#111;&#110;&#116;&#45;&#102;&#97;&#109;&#105;&#108;&#121;&#58;&#32;&#34;&#67;&#111;&#117;&#114;&#105;&#101;&#114;&#32;&#78;&#101;&#119;&#34;&#44;&#67;&#111;&#117;&#114;&#105;&#101;&#114;&#44;&#109;&#111;&#110;&#111;&#115;&#112;&#97;&#99;&#101;&#59;\">&#48;</pre></div>"
      ],
      "text/plain": [
       "0"
      ]
     },
     "execution_count": 1616,
     "metadata": {
      "text/html": [],
      "text/plain": []
     },
     "output_type": "execute_result"
    }
   ],
   "source": [
    "I2 = 2 * Subscript[OverHat[r], 2][OverHat[t]] * (\n",
    "    -40 * Subscript[OverHat[r], 2][OverHat[t]] *\n",
    "    OverHat[\\[Omega]][OverHat[t]]^3 * Derivative[1][OverHat[\\[Omega]]][OverHat[t]]\n",
    "    - 20 * OverHat[\\[Omega]][OverHat[t]]^4 *\n",
    "    Derivative[1][Subscript[OverHat[r], 2]][OverHat[t]]\n",
    "    + 5 * Subscript[OverHat[r], 2][OverHat[t]] *\n",
    "    OverHat[\\[Omega]][OverHat[t]] * Derivative[3][OverHat[\\[Omega]]][OverHat[t]]\n",
    "    + 10 * Subscript[OverHat[r], 2][OverHat[t]] *\n",
    "    Derivative[1][OverHat[\\[Omega]]][OverHat[t]] *\n",
    "    Derivative[2][OverHat[\\[Omega]]][OverHat[t]]\n",
    "    + 10 * OverHat[\\[Omega]][OverHat[t]]^2 *\n",
    "    Derivative[3][Subscript[OverHat[r], 2]][OverHat[t]]\n",
    "    + 30 * OverHat[\\[Omega]][OverHat[t]] *\n",
    "    Derivative[1][OverHat[\\[Omega]]][OverHat[t]] *\n",
    "    Derivative[2][Subscript[OverHat[r], 2]][OverHat[t]]\n",
    "    + 20 * OverHat[\\[Omega]][OverHat[t]] *\n",
    "    Derivative[2][OverHat[\\[Omega]]][OverHat[t]] *\n",
    "    Derivative[1][Subscript[OverHat[r], 2]][OverHat[t]]\n",
    "    + 15 * Derivative[1][Subscript[OverHat[r], 2]][OverHat[t]] *\n",
    "    Derivative[1][OverHat[\\[Omega]]][OverHat[t]]^2\n",
    "    - (1/3) * Derivative[5][Subscript[OverHat[r], 2]][OverHat[t]]\n",
    ");\n",
    "Simplify[(I2*D[OverHat[r][OverHat[t]], OverHat[t]]/OverHat[r][OverHat[t]] + I1*OverHat[\\[Omega]][OverHat[t]] /. ToR2Replacement) - dEdt]"
   ]
  },
  {
   "cell_type": "markdown",
   "metadata": {},
   "source": [
    "# Итоговые $I_J$, $I_E$\n",
    "\n",
    "$$\n",
    "\\begin{align}\n",
    "\\tag{IJ}\\\n",
    "I_J &= \\hat{r}_2 \\left[ 120\\hat{r}_2^{(1)}\\hat{\\omega}^2\\hat{\\omega}^{(1)} - 5\\hat{r}_2^{(1)}\\hat{\\omega}^{(3)} - 16\\hat{r}_2\\hat{\\omega}^5 - 10\\hat{r}_2^{(2)}\\hat{\\omega}^{(2)} + 60\\hat{r}_2\\hat{\\omega}(\\hat{\\omega}^{(1)})^2\n",
    "- 10\\hat{r}_2^{(3)}\\hat{\\omega}^{(1)} + 40\\hat{r}_2^{(2)}\\hat{\\omega}^3 - 5\\hat{r}_2^{(4)}\\hat{\\omega} - \\hat{r}_2\\hat{\\omega}^{(4)} + 40\\hat{r}_2\\hat{\\omega}^2\\hat{\\omega}^{(2)} \\right]\n",
    "\\\\\n",
    "\\tag{IE}\n",
    "I_E &= I_J\\hat{\\omega} + \\hat{r}_2^{(1)} \\left[ -40\\hat{r}_2\\hat{\\omega}^3\\hat{\\omega}^{(1)} - 20\\hat{\\omega}^4\\hat{r}_2^{(1)} + 5\\hat{r}_2\\hat{\\omega}\\hat{\\omega}^{(3)} + 10\\hat{r}_2\\hat{\\omega}^{(1)}\\hat{\\omega}^{(2)} + 10\\hat{\\omega}^2\\hat{r}_2^{(3)} + 30\\hat{\\omega}\\hat{\\omega}^{(1)}\\hat{r}_2^{(2)} + 20\\hat{\\omega}\\hat{\\omega}^{(2)}\\hat{r}_2^{(1)} + 15\\hat{r}_2^{(1)}(\\hat{\\omega}^{(1)})^2 - \\frac{1}{3}\\hat{r}_2^{(5)} \\right]\n",
    "\\end{align}\n",
    "$$"
   ]
  },
  {
   "cell_type": "markdown",
   "metadata": {},
   "source": [
    "# Попытка численного решения начального уравнения движения\n",
    "\n",
    "$$\n",
    "\\hat{r}_k^{(2)} + \\frac{\\hat{r}_k}{\\hat{r}^3} = - \\epsilon_G\\hat{f}_{ki}^{(5)}\\hat{r}_i\n",
    "$$"
   ]
  },
  {
   "cell_type": "code",
   "execution_count": 1635,
   "metadata": {
    "vscode": {
     "languageId": "wolfram"
    }
   },
   "outputs": [
    {
     "data": {
      "text/html": [
       "<div><img alt=\"Output\" src=\"data:image/png;base64,iVBORw0KGgoAAAANSUhEUgAABgYAAABUCAIAAADGXRugAAAA0HpUWHRSYXcgcHJvZmlsZSB0eXBlIGV4aWYAAHjabU/RbUQhDPtnihshJMSBcXh3nNQNOv6ZB1VFVUskxkkMSeP7650eE5olFY+KBghRWmnaSaosrJyl3XEBgq0eevKySO6U/LeAsfXr1GPZiNY/RqKL2HyB3LZxbCPTpee+7tfu117raWRyoP2Q/P+9WCgcOQpjUYlAI6+JlAmu4oE3ngAbM14q5ck8EMExxOywPgcndMTZPRKMwmuuYPO4dWZjzFY5ypXJ/dadn7l29V4kfQAbhlqXCcKqugAAAAlwSFlzAAAWJQAAFiUBSVIk8AAAADx0RVh0U29mdHdhcmUAQ3JlYXRlZCB3aXRoIHRoZSBXb2xmcmFtIExhbmd1YWdlIDogd3d3LndvbGZyYW0uY29tXKKmhQAAACF0RVh0Q3JlYXRpb24gVGltZQAyMDI1OjAzOjE4IDAxOjU1OjU3yo8ReQAAIABJREFUeF7t3Qm4JFV5N/APBgYBQcEdFUWNAXFJNEaEGMEdBUUQ1EQMiWHfdURREcMOAUESARUU3AKIAUUlMYgYUDSIxoWIqCyKqKiAgwgzwPD9hjeWleru6uqu7r7dc9965pnn3rqnznnPv07V+de7rnTvvff+vzwSgUQgEZiXCCxbtuyOO+5YsmTJPffcMy8ByEknAlONwIIFC1ZbbbXVV1995ZVXnmpBU7hEIBFIBOYUgeQzcwp/Dp4I9EFgyvnMSqkSyiWcCCQC8xMBmqDbbrst34Hz8+7nrGcIgZVWWmmttdaiG5ohmVPURCARSAQmhkDymYlBnQMlAm0QmFo+kyqhNrc1r00EEoFZRQB/Wrx4Memp7RcuXOh/r+lZnUzKnQisiAhQ13LfW7p0aTjxrb322qkVWhHvc84pEUgEWiGQfKYVfHlxIjB+BKafz6RKaPyrIEdIBBKBKUOAf/XNN9/sBU0ZlB+ZU3ZzUpxEoIqADx6KIUrbddddNyPIcn0kAolAIlAgkHwmF0MiMEMITC2fyeD8GVpFKWoikAiMBgH5g+iDIqx3ND1mL4lAIjA2BDynnlbPrCd3bINkx4lAIpAIzB4CyWdm756lxPMYganlM6kSmserMqeeCMxXBCjpTZ2L0HwFIOedCMwYAvG0xpObRyKQCCQCiUAgkHwmV0IiMFsITCefSZXQbK2ilDYRSARGgECkJuF3MIK+sotEIBEYPwLxtGZlwPEjnSMkAonALCGQfGaW7lbKmgj8/utj2vhMqoRybSYCicA8RSDzSc/TG5/TnkEE8mmdwZuWIicCicCEEMg35ISAzmESgdYITOfTmiqh1jc2O0gEEoFEIBFIBBKBRCARSAQSgUQgEUgEEoFEYNYQSJXQrN2xlDcRSAQSgUQgEUgEEoFEIBFIBBKBRCARSAQSgdYIpEqoNYTZQSKQCCQCiUAikAgkAolAIpAIJAKJQCKQCCQCs4ZAqoRm7Y6lvIlAIpAIJAKJQCKQCCQCiUAikAgkAolAIpAItEYgVUKtIcwOEoFEIBFIBBKBRCARSAQSgUQgEUgEEoFEIBGYNQRSJTRrdyzlTQQSgUQgEUgEEoFEIBFIBBKBRCARSAQSgUSgNQKpEmoNYXaQCCQCiUAikAgkAolAIpAIJAKJQCKQCCQCicCsIZAqoVm7YylvIpAIJAKJQCKQCCQCiUAikAgkAolAIpAIJAKtEUiVUGsIs4NEIBFIBIZF4PwvXzvspeO6bgpFGtdUR9Tv17/+9RNOOOHkk0+u9Nfr/IiGnd5ujjzyyPe+973f+973yiJ+9atfPeCAAz75yU/ecccd0yt6SpYIJAKJQCIwFAJTSB6mUKShoJ3cRb/97W8/+tGP/sM//MPVV19dHrXX+clJNkcjdeUzZOl1fo7EHMGwqRIaAYjZRSKQCCQCicB0IoDWnH766VdcccWYxHvPe97zl3/5lzrffffdy0P0Oh9tfvazn33ta1+74YYb7r333nEI9utf/9qU77zzzvrOG4rRsFkx1lvf+tZrrrlmk002Ofvss4uTfv37v//7fffd90UvetHixYvHMevsMxFIBBKBRCARWFERuPvuu88777yzzjrrtttuG8ccf/rTn+IzRx999C677PLEJz6xGKLX+cnwmWXLln33u9+9/vrrR8Jn8CK9fetb3/rd737XBMOufMaFvc436XM626w0Jj46nbNNqRKBRGBeIVB+v6200krF3H/5y1/6ea211ppzNJiwtt5sgzkXoyxAE5EoWX7xi1+Ur1pzzTUf+MAHbrjhhk9+8pPvd7/7Tc+M2LuwGSJRRoxcqttvv/1Rj3rUaqut9pOf/GTVVVct+u91XgNcZM899/yv//qvaAyuf/qnf6IuGZVs73vf+0466aSw7xHpz//8z0855ZQnPOEJlf4bitGwWafwlscGG2zwyEc+kiTlR2+//fYjIY+qnXbaadApBwl+yEMeEhdW2Et5lEF7zvaJQCKQCEw5AslnhrhBKxifue666+iD4PCCF7zgGc94xhCA1F9yyCGHcH454ogj9t9//3LLXueHZggNJb/xxhvxpUsvvZSPkkswije84Q0HHnjgcHzGVYcffvi73/3uUAYhSHvsscdhhx22yiqr1MvTi8/0Ot9kdhU+U6E0c8JnGnkJ3XPPPU2mF20o81LN1ByubJkIJAJjQoChY+XS8Vd/9VdjGii7hQAlCM3LF77whY9//ON9nVMmidjTnvY0uqqnP/3p4xiUZsdkdV7WBxmo13lE5NWvfrW/LliwYNNNN124cCFG5QynnpGId+ihh9K5/PCHPyTSlltuSen55S9/eYsttvj2t79d7r+hGA2bdZX8YQ97GJUQNyjClBs861nP8usXv/jFlvNFp8pPt59vvvnmln3m5YlAIpAITCcCyWcmeV+mls+st956rFC218c97nHjAORLX/qSbmObLh9dz7dhCE2Ev/baa5/3vOf927/9G5PeS1/6UlwOyaScoscZgs+45IMf/CAFELEf85jH8IG66667eHP/4z/+Y19hevGZXuf7dtjZYNGiRWVKs88++9R0QtMy0BAN1TJ1KiHOaS984Qvp5BC7vmP//Oc/x0TdMLbiD33oQ33bZ4NEIBFIBMaKAF32Rhtt9N+/P4455pixDjcPO3/Zy172lvuOvfba6xWveAU1hC2NB5ZwoSVLlkwJIE95ylN23XXX5zznOeOQhxe3bul3Kp33On/QQQeJqGLc+8EPfkB95ufnP//5N910k92zvXg//vGPGfeomc455xyaoH/913+98sor//RP//RXv/qVzD7l/huK0bBZL8kDloCiOLqeHGLutF0cv+PhpoXUw6AkaYhB85JEIBFIBOYEgeQz44Z9JviM/f2v//qv+dius8464wBkIErTkiH0lf+oo44SLEYrxNdYFkLpCE899VRXUTLwyy4ubygGgoSsuorf9P/8z//gD5iSX7Gm73znO32F6UVdRkVp3vzmNxdfK2L36vnMZpttRjnD2scLvi/zoVOjmXnqU5+KCdcH33VXCdEnbbPNNttttx1l5IknnvjZz362HqxLLrnk8Y9//Pnnny9TgMbbbrttX3CzQSKQCCQC40bAdyM9dRzeZuMebib6P/rSG1599vcv/+koA9HtN0LGmBBYcoAg9cwFF1xQQQOjtYtLcGN373Qj4ibzox/9SIoZjMSmZe+XnLjQKzE5fPOb3+RQo+fO/c8Z3sU2eN43zEqV+PBbbrlFz4Ubjt3Nr7Ev8jQxipw+RJqADovLt5Au47L3PuIRj/DDgx70oOOOOw6lQE2I0XL9XHTRRXrYaqut+AdFV9yj3va2t/nhwgsvLDpvKEbDZi1lbnM5ihOP9pOe9KQ2/eS1iUAikAhMPwLJZyZzj5rwGZKgKziJz3jRQxUvjDLN+M1vfoOcYD5oTMiPbFx11VUozfe//33uSJVJ1fMZjREYxqQgQiswnzE7ZjP/H3vssauvvnqgRB1mxy9TmuZEhQ+16LPNN9/8b/7mbxgvdUIJ+JrXvAbnDJo0tweHo+JrZd11160X5owzzhB9L+0Arctzn/tc7k417RlE//3f/33vvfe+7LLL+EZ96lOf6tW4u0pIoN1nPvMZXVDFUQyxstYMZrm/9rWvpbKyxA1Jn4eGzi2yOXoikAgkAolAVwQW33nPLXfePZ6kxv9v4403thcYlxdMubAUFY+aXLw56CbOPfdczrqUIGX/EdTKGc7JtrozzzzTD5/+9Kd5+YoGshk5+fnPf5694cMf/rD9rKwVouv5yH0HS4hwJA5K1C6YVjF3Sh89EyDO0Ez51RDKgWlplIsvvphIp512WsHYNCPbf/zHfxh6hEkczVHPf/EXfxEQxfHHf/zHDDB+aGKnql/SlJ7vfOc7Kz7V/MxdVb4XDcVo2CyfskQgEUgEEoFEYMVDoBefwQoQBt/kOIkvZakVOU+UQ6QLmoF48ElBTjAfNAaxEUz9/ve/H41BacTiyKznTAFdXz6jJX+ZT3ziE8FMVmA+g7TQdyh8xtxYXloVStOcqATFkhO63Fv4DbVnXxNe/DQ7L3/5y6WhvPzyy7/xjW8cfPDBNQJQcdIK7bzzztSX1DV/93d/V+a65Qu7q4Q4nEvgJHlVk0kyzIru80hUkik0uTbbJAKJQCKQCEwSgaX3LDcuLVylUSK5IQSL/ZvWpiA6TGSYECUL15hnPvOZXEr5xbB0UbhUbGu8eREd3h/CnST8Y4XDokQ/cZGVgPmxj32snnn0lPdvOh3b2xprrMHA4ioGCSQJ0+qbWYYB6sEPfrAYrnAfMy7PpkIeKi0braFtokOA0PWSSPlMB1T5ayBWKfg6xKC2bGkXy/omnSCj/v+TP/mTosOGYjRsNoSceUkikAgkAolAIjD9CHTyGT4+NDLCsSW44aCKdYjh4vhMy8NbuTIjzIcKQ2qeUGTQELkWRUFXcA/OL/w7cJjiquQzBRTAob454IADyomWOX2HP3VBaRoSFdQOqeskYH/0R3+EjvLzmtEqqFx2aLUi43jfg2+UHAJLly5l7+zauPtXAbPqs5/97L69RwONJWqK5Z5HIpAIJAKJwDQjsHTZ8qrnC1f+Q/210UorGCrMA1EhwvbDjBZb+Otf/3pupK961askHnKGL09s0sVhx/JXcU/qlLOBxOV0KLyFOcfusMMOkdhO+FhcQu/jEpompo+XvOQlrmJWCh9jceP183r0ox/Nf5gaReeu1VhOn8InSFmrcC1+6EMfWtNPlK5bf/31K226ng/uYrusNI4z7VVCnXJSsUXqxLJlrKEYDZvVgBOwBBTF0fVk/Z3KvyYCiUAikAgkApNHoMJnCECtY1OT02fHHXfceuutsQ4uFD6BGb3CAFM+1Pp83eteJ1hJeZOIFtdMsBLKgXuIwnEG6wjiMed8ptivi7KexVxiHy+fb88QhribEu5ASaod1Tni8oZi8FyRUkBxWPFZ5XHpg1gci34G5TPazzmloa7pTJjQayKRVIixs2uD7iohVL6CWg1MAzUeYgXkJYlAIpAIJAKjQmDpPfephBaMSyXEpBOxw5EwiJ6FfYY9rex2yjITxrdCuROzszcXKZ8U1AjrECtc/OD/cBQSrRztRVxT69A08feJMzZ4LrV+6FvDS3X2ovJoUaO96FmHIrAcnU49xY1g62Px8ys9V/nu9DofCREf/vCHV25lMMW+OqxBFwDnqVe+8pXuwt/+7d+iUMXlDcVo2KxGqoBFjF65zZ/92Z+tvfbaX/nKV+rTHA462WyfCCQCiUAikAiMFoEKn9F5kBbeuEXCF6wj8vdxHapkdeEWHexFmzBoUR4VHMDPVEtOBvGYWz5DAA44lAtYVqWoVNfz7RnCoHdKiZiPfexjMmoJ0xuOz9BsdBZ3b0jAuvKZgv5VeM6gU2vTntkSx67k0KzpUPuw13Ye44odaDO9vDYRSAQSgURgTAj8b+DYgnG9/G1Ot956K+GpgQr+xLhUKcsVVodKSDOLXDFr7cNPBwMoTkaflUN+Qe7Z3LZ5z0o2JE5Ng75FN8vuPywnocaizSk6d7I8dGVQ/b/4xS9mFRTrHra+OHqd96fwpa14zThDa1b8dVQ3nRe0FEXUTDRxMjeVu20oRsNmNQIro6YwioyEgtiLZtRwn/vc56BEJfftb397VPPNfhKBRCARSAQSgdEiUOEzfg3SUjHthDORvwpBKgtQpjThPc0iUjSgnuC3Mg18hgz2ZZSGikquorLepNf59gxhoDultJaMOfgDmlc21DUUo1ez5gSsK59xea/zA81uShqP66tgSqaXYiQCiUAikAiUEbjrPi+hVcfmJcStNwxl97///f0fHtHUK5W7EH+txG93GnDq752wMpnvUAS+3Oob0A1V3I5qLi9chKJNqJ+aH0Q98sgjuTWpxlAuFtbrvJ75Rvm/0zsmzoRz00gOnkG0VFRjHKz+5V/+pZLmr6EYDZvVCCxXlNE32mgj6QCKZkgzN3upphYtWqRexkjmm50kAolAIpAIJAIjR6DCZ1COKE5aoTT2fQkNC8JTiDEQpZlDPkPg5z//+RIPk+Gwww4rw9jrfHuG0Pxm4RK77bab9h/4wAdUXi9f2FAMiQJo36SsrtjkiqyXfQlYVz5Dkl7nm89ueloORoLby82Wu+eee77pTW/q5bbUfojsIRFIBBKBRKAXAuMOHItqXzQs9mA/REiXpIAVeSL9c2fI+kA3LrIRYV28uAX277vvvrQPT3/60wfqZOjGfMJFlnH5ls263Emv88E5ynVJ4iqZtv3fl5E0lFOqAtmRLr30UtVSzj///FC9lY+GYjRsViMVV2rsWRqjIG1xSD7orjkjKcCgariGCGSzRCARSAQSgUSgPQIVPkOtEG4+FUpj2w37VhHDPsTQc8tnTO2oo456wAMegM+UC632Ot+eITSE6D//8z/lY+LBrcCWNEzD8RlkI/IDVAgYgxwTJmeuvnXfu/IZHfY633B2U9Vsoiohtcm22mordX+ZVfm0h6o1j9lFwB2UGELW2PKxzz77TMmMRCVYZrK4XXbZZVMi0nwQ4/DDD/dJ7Duwb+TOfEBjCue45O77Ko6NJ3BMPuNLLrlE/+hCBHlFnLYY+7JDEMsMjx7nOxPrDIRY+NfIOqSyO8dgI1IPRYj7ZA7lHgxk1pXhup5XnUSziy66qBwwJbbrnHPOcT7+2vLw0DGm8fSGv//LXutFzw3FaNisRuCAJaAojq4nW846L08ERoKAaiwVPuPXzqd7JGMN2knymUERG0n7hH0kMM5oJ518piAt11xzTXlS+IzNl0NuG5XQnPMZUWNiskyEz3V5dl3Pt2cITVaFkq9KjvjYPPbYYxUP6bykuRjRshJHf8IJJzRkX72oy4pEaSanEpLgWv4tvvoUfnvvvbcCwBKwlxM3NFkcI2xDDHmqao7mAQgjlGq2uqIXv+KKK4QnlI/Ki3IOZ/T2t79dehHVjnilTV4MsRuCJmoW2OWXXz55qcY9opXwjne84+tf//rRRx/dq8zhuGUYR/8Xtj7GIdVwfY7DS+j2229n4HLHP/vZz5KKGiiyLTpoJWTk8ao/99xzNXOGTeaLX/yiFyz1TWf5rYEmFbl+xPZHKmtU5uKLL+5M1jNQn9E4Cs0KX++bplpjGq6uQ1TOU9PY9bRUNJQDsx84aXtNGYtvdjkDtFkouGb0olvONfIWfec736mfCycp7xw+7RdccEGvWmkNxWjYjDyd0oaQXWHphdUQ9ygvKRBIPjOSxeC7rsJn/No8bedIZOjVydzyGVLZ1us5c7yEV7BjzmEfB56t6cyF45Bqevqs4TOEjBoX3/zmN23HsZ2hHAwwfsBnBooUq0x5SvhMQ0rThiFEdTZHEKFeBx9wRIjLklg2AUZdmzUX421vexvdlq9C6z+6+sY3vnHaaae5ZbIUFZ0PxGdqsJqe9dxckgmphOQwV6jPzRA49pznPEe28EMOOUQOCFkn58qVgGqQK1rNMZLMlxyj5Jvw/dP8lsxQS8Wev1w6+IaMT/jjjjtONeWBOEfUonZ4+4xPsF4933DDDT7/ahaYrKuTl2qgEYdYveWsJXMC+0ATnJ+N74oi9KPIJUQBRPfn+Od//mfOxvZXDEksmGrxUUfDwV93++2353tMcaPZySefzErj68KfXvjCF4YP0dAHNmA7R+B4FJ9++ul6ltanDScrJOFdTLutcGlfLcxAwrN0cYzCOXg2qZXGk5mLECIIlnI/Bx10EP2atIWFAoXznfJh9S8NKiQI6wcgFEw6Lx/uTjFEQzEaNuuUdiBMVoDGaGUgP1fHZPiM2Q2xEc8VJkOM66ujYDSnnHLKED00vGQIGOeWz5hX3zVWSQzXEIpJNptF2CeJzzwfqwmfAZEMfcp4+4EayMcs7vHBD36QaoP162Uve1kbDOcPn8Gv8Jltt902zIS9jq233josfAhShc+oozoon1HlFldxlW6VD2O2lHCAtXKvvfbyQ9HbfOYzE1IJffzjH+fSL7tBPEgOoIsgk9h85JV3Gz6Qcl6KNYijqLenBkpxsqiF3LDDrs3knaKY9L5o08nUXutjb9PSESV7xnFQLkg8wQDuC615//TKkqUpUP2+972v+VUjbymjSrGoyj8Uda9HPuKoOhxi9fLM5HvvhUsTWviJjEqe7Kc9AlFubNWVqU1aFaGvlA/TJ88UuZZ5u9CEVuqCURJx/bXgKYZ8NjADeLsyEqBWxYw6O/SnSgZoZ6JZkYOGRknPYvupTlT68KLYZJNNKrrpyiWurUlhU4zosTUjAtPdtIe96GGdddb5yEc+YsdRlO3ss89Gd8S7nXHGGZF3qThEWBPb/4WoV199tb9SotUIU/Zs9aqsHGVzXEMxGjbrlHaEiM1EV7b4uXUrngyfGW4jnok7GEKy/xeMphLwOMJZDAfjlPAZOHTlM05W0tiPELGRdDXrsI8EhOykKwID8Rk9qMyFaSA2PHx5EUrYh/qyhBXMpyvN6OQzFUrThM8U8geFm2k+gwHWx9kVSQA6+Uy5WG1DogKu/fff31ch0KQTYZlzhsFS0dh69jV/npqVujrphG9Vwy+6I444QuNyyZWu8NEFdhadkWS6M/nl5NE//vjj3/jGNxqXkJE0flTH7rvvztbEVcRnwKj6nNp+fOOxbFOTUyWMVkgfe5FzhGr58Y9//Gg7H1NvRI2kqrzhqMPHNMpYu5311VvzagrLQ02J8QqwhaPp0ICrBd712vO/fO3Wm20wdLeDXnj70nteeeZVa6y68nmv3ajXteMTyXYjKSPYR/7x4NWN8dtNuqqWBkUp2oeHTn0KZG88js1urkTO5VF6nY82Quc4H2E5D3vYw5hJKhq0aMMjsjgPNxZIE6R36NxGh5tdQzEaNitLW8hjahy/eSdRWBQnKcK4RzEPCkIZVPLIedmZklx0j5wvHuo2eRwGFaZo775QSgoTfsUrXjF0JyO8cHx8ZhY34qGB/cpXvhKmYyHeciYO3U/nhTMKIx7rmfVQe9xGiMbEuppR2At8ks8Mt1TGx2fIQx8U7//hZOt11VzxGfI897nPFR9AXfKsZz2rLF6v88MxBA7I/EKY+SvqmDYwNqFV0f+NN94oARBaJXHS+uuv3zlocz7j2q48p8lEevEZ1/pmZGFt6Ho8KP+p6XxCXkJmWCGybp5vZomj5BiaxQATMot9wHfr0yFJqtpkZZTbWCX0a2rQDBpSJ+cFkTzMN910U82gJMfRgd+kfxF/qjsrqTPoLPq2h5u4DKxLGrMoWV1zDAFjXwE6GzS8py6knyY5B7cmGA4hyRCX+Fa0bDrrOnXtCjeiI/danHPYh1hgA810CCRrLlnuWvP7o2jGcaM44mS5WUtnnNHKr7dxJBJqLiQ0lHUYuT4o9heVMkaoD9Jnvf0tZs0V2f+dRcR6nY+rIKAsGmc6fqld9UHalM+zlfHxefaznz1CfVBDMRo265wFgem8mFgi80Jx2DT9PJJc2s0X3lhb0u6ZrFs51lHG2nnDvW+IjdgW6elAS8olbJrMZbb4jBnZfFFzfKkvSn0bNMGnb5uG93T5prB0qTWMFk5J1iQiDbTLJ5/puxi6NlgB+MxwEx/hVTa4keuDiDdXfMbQYb+Jbbp89Do/HEMIr+dehtLhblATWhU9c802NN7eVR+kQXM+04vnDDeFOb9qQiohbkSiilhTTZj6TTUi1lE+FPIKPfnJT+YsNw6lwwjBtVnyTIuoNyYjxkA2W+EJIj9ZvOW4KafMFF+K7woN4NgSxYnPOuss0y8fXY1OLDA+JHzY8EgUZKFn9fZ66Xd8HuiQYkL/MjTR4DKQEolm17h8jIvps+1oyU0pMnzr/xnPeAbwfZvJu9xVH6c+NOc6VwmaiIHI8+EPf3gkkIofVCOZpZe/DyucF4236nbbbWdfr/QvHoGcYkyKOE9+hhUko1hPHB7yyl/jV7lOOiUf6J4Wlys36M5asUSSSc6Luzyi9TwcRJJq6aecX7boR459f6oEjPBQdVI8ptv3rne9i4u7d5xl4576v/NtHr3RYUHe0rVCuMdTQruKxb6cjnfQ1ct9pivmnpcaKJovsOFmOtxdWAGu8gF26513R3RY1yP+NKZyYysAgINOQcAX70hZab3Wytf2Oj9o/9E+nuj6qLHheh7fVaLCfWGKIixyoBjLxycvIVvbq1/96vENPcmebf1SO9sRWmbFmqTMg+59g27EMRdf9a997WvtDjZxtATxwCJwoa4znV0+IwKUxZuG18bKVc1EcBsbq925MtNBYZwAn2EWElmPxiC3aCEvy8puHuUCBj2mh8+QfKywBzLJZwZdIdl+ahHwwUi34mu0YvDudX64iaA03ja+Voa7fPJXdeUzxOh1fvISjmTECamEeMFR+rAZ0qhRDPlEL7szULKiC23mI1nMWA0vxLbx89yhEaB8+fSnP43shq3bnzi/yYtUyG9qqsP4SIjcFs7zgjH98lHJwyceVbyVR07VHlF71GT0IEDDnzbeeOPvfve7neCwoenQ//Zsca1YadHGk1yu40MMLbEWW34keI94GTN697vf7dpKCRgGPSoteUxdJfY1XPHNne6AWbulS9dLX/pSehNsCUqM8JiT//Upuoq6pwILNBgYLZtCY8jSWEHSN0Yx8cCk8+ialHqgexpDHHPMMTiuO0uZAgoEVyfl4QY1hBaSxwPS9fL4kxDL8hqAnpMse24fx0srpAh45Cu0xRZbWFGVNSM9G4Uj5NEXf6IVcnOxdpo+a6xIPTvo6g3xOg+rq9cTPdACG2Kmbd4kTa71fJU3SzBWQsQ9UI7Je5BR9xxxyQ07nP39rT72vZP+62dd5zK3XkJN4J25NrTSBx54oJdDJWdZr/NDTNBakg2xZerKIcYd+hIxDgKpbPSybxadePB33XVX+msuitOfSa1+7vb0D3zgA8LfaOFlAfcitZfakH5lAAAgAElEQVRJeFlOcDA0elPFZ8xi0I3YJeIosQh8yZ4OGTed3RWLYOUSj7zC8BmEitlMokPlhzyk9CnhMmA9sL4wFpZnOiiM4+Yz+vdJxlhot2KOooFCPitbeV8P7q6LfHr4zBCrdyDY9Z98ZugXXV44hQhICnbRRRdRE3tRl63Lvc4PNwWW9d12220cDuPDyVN/VVc+45Je58chw2T67KIS8ja3DfTyZu8Uyzdbw8a2SfogSRZ8gqqNgjz5cPU12zL7rz3MV7G0pk2qBbeBlRqIRoD2CtGhC/ArRUaoV4466qiiZzRRtak4wrGofCbOX3LJJWVJ1O2OEoa4Bd2WT32RAsGb/brHHnv0EhuMOheEpY0oPLoPIHBN6vx4UECNm6iaETREWBqlFbuWbj38ai0X/euB1Ugb5EAco5ZcSK6//vpILCVJUIXlDIonS5rgDsovCOg81D377rtvsChVdcodMrwHXNKvxnnVQAps44dymh715it/7evS2fCeGppySjlSP3Bo8qKkFhTyFpIr9syZCyN0CwYFpE17q87t23HHHYVfeWwBGMksoFrJXQXJvffe26K1eiW3oq/RGP4WMHeG8AILSQZdvXRSFczrY4OHW2DNZ9oGz77XVpRB0Z5Cs6InDX9sf+ravu8owzVYcveyt114/ZeuW6ySmLHPu+rmb/7s/6gRo9sl/+sl1Cq39HASrqhXoTXvfOc7vRDoO8pz7HV+CBx8rVH9lzPyDNHJJC9RVIHA++yzTzlwUmgVS4M9a1bywfVCzO7JGcTLn2JdNn3vT+x50aJF9CC4TcsSddPGZ4Aw6EZsR8Ai7DIyNXBhth+hH0wRINKbDegLX/hCV2xnjs8IimTI8XmDxFJ4hQEDt4lgyUMPPbTs5T0ojGPlM8RzO/BM7F3eELcJM6fYQmb8ySYem9c222wzsfdG812+OZ8ZYvUOBHvymYktjxxoYgiIYmHQ8qKOdKjF0ev8EIIpyOD1OMSFc3JJVz5Dkl7nJyxkaGDC2N/k0L5X4y4qIU4QOm1eb0v7ho19hQoz8dVKrc6EInaM3gGFahlP6CtXlXdb7wS0Qoxddk1O7+EaQB+haim4kJ5i7+cnz4skjqjEzIOjOBM/mHtx5yQA4q3jV/ogpuYi3zYDDuc9lBrDsGF3vdOc8A1BU4OYPu1pT1Mfh9ESwv6vtHeP+I9gsZGbk8MIWhb6LA5ERWM/s2X59dRTTzW18PkXb2mICGvCFdoUiTNTab0oLKicIy+G+VJU+dXPoRcrDigFXBRJcbI4U+BZjkrAZio416eGjT6b3FPN+GH58nfTGYdjULotcDGBuvXnnntur0fRW6OzQkdFJ9jkMe5sY22of8nNJwio7xPv2UC1XHCahtfjRm9oHQp79OEaTnlmYQHTyVoJhe5s0NXr5VLBvN7jb7gF1nCmw8E4VVe9/cLrd/n0D4t/u5//o30+d81b/+O6oy+54SPfuumyn9wmP3SnwHfds+yw//zJt3/xuwetvspJWz3+dU9b/ozTCnVrGRXoJ+QfOlXYpjCJQHsEfEXTB/kURGN4B7Ny0a2Lb1WhgjLIFsxXqD7DYL0M08Znyttuw42YgYo+SOPPf/7zRTS0nYI9KYxV5cD2Mhozx2fwKOoJlGmXXXYpShPa7pEE86ItKm/0U8VniBeKOTSvCHindD744IOdrDHTso118plyQeihH7GGu/xAfGaI1TsQjUw+M/TtzgsTgURgJAj4CNWP5LwNe9O+V+MuHwa+MKkPGlbe5UJywQUXiKVqKAqvGcFQo63qZWjGKFohbke0Qs1VZQ1lLjd7//vfH6WviqNgPEMrSvgec9yFSad7BbNqpCmtMTwiHzw1+s5FlHu4LBUH2yanp+i8CHIJlkBPx5Gn3JhuJWgcxy6uOn2H69WAQkoCpvJfWdXoLyLLV8Ok10OP3vXChveUDdDlEkaUs+TQEIUeveYGcSaCWOUYiUebJCZ77bVXeVJUge6dM+XVSOkTv/JlqGj9naQMqhTAHi28ld6GW2ANZzpWyYvOy/mkK+ldav7UULYbFi+57tY//PvRLXde9as7vvGz279w7W8+8q1fHvzFH2931lUHfP66C35wy+Ily4NSHb/+3V1vvfD6r93w27VXW3D0ix67wTr32+qJ6/IV+toNt/22Q3+UgWMNb0Q2SwQ6EbBRyrJH7+NTX3y3Biw6/o/kgHYHjq5XXHFFmFWGPmaazzCc8Dcxdz5inck7eQ/Vb5ezxWfMRZqkcvhD1M0obFGRRXWSR0M+I+KeMxfBKone41c5hnpRFI7VnXyGobT9HBvu8sln2kNd7mGsfGa0omZviUAi0IkA3w4eIRwCGoLDBsA5oGtGmqpKSAwRvwNZh5uUbqF84X1As+D/hqIQGp1q2HigZlQngmg4Io1VK9QZ+lj4+4jcGUjgonE4dLCQcN9AmCpH5CboRTFlzhOcP9y4rgr1AS0P3KITDt7+ZwXqrJQkIXFMP9q0ORTmoGByp3Bo60eSo8jFyPQquKlNz0Nc2/CeeuR0jiqV02ATmMbH+YqeqyyG/ND84SvHSIradg3EjQVZXo0+UUKeyO8+t8dwC6zhTOd2aiMZ/YgXPOZ9Wz+++HfSVo97z5YbOLlo0/V22PjBT3nYGiK+/vvntx9/2Y1yBu12/g/3veCaHf/1B9+5zz/oqBc+Zv0HLH+7rrP6Kk96yBrL7l3esiJVppceyW3KTuYnAjTaPJ35uhaGAb63vqIL396ohBCbQptjdvkML+BI3icAp5PPSGnnT9QNXTUOM8pn7LYyZ/GU4XHMS1dcJG4Td79hDdA2S6VybUM+w7s8zI1lh2K/hnKHbanwCKv070+dfEZOjfZTaLjLJ59pD/XEerjypt9ddM2tc/Lvx7dW82lObNY5UCIwYQRUGZK7QLRQk3FlwhWEJDswl+dK+z+ohBQF82XOAsZXJTKk1BwMQYKn7Hy0CRhS88q45bTHTUSPNqbKwaHvIcUPXYZ8LiLRJrYTN9Gd1c9UIhgNsArhVJ1HTKRXkr/h8CzkKcKFYhQ5jMPHqhzXVjQ20/CQ6qy43PxW8idH+7gsHXTQQVR4fKMknOa63DJ4sLkATVp2vadc4fB+NkAK0CjRxVzGXZyGiK9QQQE7+zdBl1SOhrGWTaSttOkUvnAR7HQRGqL/NpeMdoG1f/TazGVM1z5y7dW4+RT/nrDu6hs9ZI0/W+/+L3rCOn//jIcd9+INPvHqDd+06XrPWG9NuqFrblnyvV/eIZH1X6y/9j+/7HEaF1I9fb37+/m/f9apEorAscwlNKYbmN2uyAiwrQmtLZthhI/xEynmHFH99fah+cBngKAcaiefkbYmsOpKaWaOz5iIpBt2c5X1Tj/9dK7EUjT6WXbITqPaXD0YvTZKTIxIYsTE64VsguDCV/0lL3lJL2lNtpPPIDljml3ymTEBO5luP3XVr4+69Kdz8u+rN9w2mTnmKInAnCMg6Zu393HHHefj2k5UL4+Xqo1488035+n8qle9qhxZ9QeVkO98yhRx7Lwh+m5mAp306PNejzKJjBsO2XzNtskR6hWZfSamEmoy9/raQwGg/L5c0HsdGEaTgQZtEzpCTs4RJ0i1F0qirhY8Nz3yJQ3N2xBl7FnaUZ5iQtYl6USh/CqPdcOaxJOv4lRASk0WAfYMxXL3sAy7cZHFWTx5xft60BsR7Sul34brpPOqCDR1DBfbOELMx73ARoXYNPdz/4ULXvyEdY58wWPPe+1GHIje/ZINPrbdE9+5+aMftMZyD77i4E/k56t+9bvKXDJwbJpvbso25QjgSFxry5+pvITKKqHwD+ItUjORWeczplazKRSEUGLEGkoTaYxHe0yYzxBemJs0Upiw9FJqNSgGQhEmBaTMqcW2WzPHEe6tQyDJU9tiDvtuJIuQBkEgP1svSjZEh5VLppPP1K/egWadfKYvXBs/dI0tNnjAnPx7zAPHEo/Sd8rZIBGYEwR4bNh0xGFw1O0rAJdML39Geil3yqE5f1AJCRbzwS/5H9OBRvU9cjoV0CRiXFZdBZjG9OovZCAbj5K+B2HMU7YaLRvmQuoLXMsG4U9en95I8XVtVPUSfMRRq+sxJqcSRc0MTcER+ZKpAoPLfvWrX+2cOI/iKG0eIVSdR2gSy1XhK22oESO0nks5P7fwW25yFG75Y00UVS+JxyZ4ktCABz/4wVSoQt5k8oZhX6+6vnOM7Frl6iTFJZVqVn276mxAbRwnI8VD86PJ6m3eW/sFNtBY42sMxvJRHqjmTyOXZ7VVVuZA9OSHrlFRBsVAT1h3ubfCtbeoMLbcLag4MnBs5DciO5wtBHyH2+CUCxiiwDYv0XLJAsYnocRS/hUI4E4C++tVQrPOZ0y2ZiNmJuQ2G2168Rnnm1R+GHRdjYPPkKGG0kjcYznJxqIAiFoNDbNkTgOfMS8F8mgwBYhxrqcJos9yXw455BAfFeWEiYPeBe2nmc/Ur96BJtuSMA801vgaj5XPvGLDBx34nEfNyb9nPWp58Zw8EoH5gADri52XoUXYCmNM3ylLFqwgBhdXIS9lt57/k0vI3sAPQpiZdEJ9e/Q2FOwjt7TAsa5pivr2MNoGqn7IsixGhhNHpMiZhiPSK8o9XPNh/7znPU8b9LSSKni08it+UTFJMW+6fUYpZwePbNmitQUSVgQQ6uUMAymDWFfZIqyMlaxXPqCIWqdPrOQjR7nqU1YXWSorce+jhai+NzXXME45gHir0d+RmUvaeeedJyazvRiR4NnDHG5uxeF5ZHts2T8VHu2VTtQ+i9RU5cOq6AV+k9U7qGxtFtigY83n9musumC9tRbetexeyarLONx59zK/rrbKKAPHmBrY531dcEPzHp7PsI9k7gozedlCdSS9ZSdlBJivJMWzhdmDKPQHBUfiZ86tQobjQnuor9/IM+1g8Dj++OOFlbWPaZ1mPmOmNRux0DkIa/Oe97znyiuvHBThhu0nxmfIg+J2lcpakhXRn+RFruTBwaAoWXrNZRr4DNmkYqDiFGUgVzo8LTlxkd48DRVbNXdqmvlM/eptuPyKZslnBkVs+tsnnxntPbJZvP3tb6eAHm232VsZAT4WvDs/+clPRknx+oP+iCvrGWecwYxRsc10qTi2//77N6+Q7WuTRoPBrZ8M4/178CeOGzbvegNdIYfYKP7bcURqGEdxxg8F7WsjeiSbVNnhwAMPLLRClaJdW2yxxRve8AbN1HpTAizKQMQhq7TsTm52GxniWlYsJDiS+9ICqA4bkeR8Xzk5F/2TM/gKJaKUz+H/xS9aeHzoj9785jeLcesqT6SqER124oknhlaIA5tUC0Xj6Jky5ZRTTomTGAmzKj+p+uhHDCNIxpFHHllObk0DeN1117UHp0kPkYGb9pMCpb3nTmXEcLxyX3bbbbeI2rOY3/KWt/i1vQseq3VkHQuzLWe6kB/4KKDlx0jY9X3dZPU2ga7cps0CG3SsMbWnDS+H1voY6JoXc0yjN+82HIWuu3V5qtfiWHL3cqeh+60ymiL0/NrkobC6vCsokeVYlT7W/0W6+ubSRktvXZ9SNWb5QTvsbD+BIVoKeeqpp4pFLXallr3l5WUEvL0LH1g7WlfHzBrE5Fjx8cyTItrY3bxRQwFkJ7J92+Mkn26J+dTymYYbMd8ZagUcgPsM6lnYoti9FBhhRBkU9k48J8BnTDYyQ5lC1Pdw69WHLRJFIdNhX8XciqITHlsbt1jCGpVuQxhbrqK+l8db2gt85K+a6eQz44A9+UzfZTZDDZLPjONmMQzYE5nPx9F59gkBhBmZWbRoUd+cPwGXeyEmqatJrMuHwUYbbcSDlCmsIdbaN1chNexzoGaYB6LGQEcf1CumqbPDnXfeGShxUDREAyE2xcmRTEpO79BloPh8umScUQleyQYf4TxNCqlOOOGE+PyWIRunFPXGzqYal9CqD33oQ1JGjaQOlxnBhxjcwWjQ3GVcllWz7DZGfUA7I6UUQiOJoB8oerT3mUc8Ytfop5TWCo/ot771rUZxcNcqV6OTgzAC7HffffcNNtiA8k7/VIoWW006Q+05ouvTD9wQpG90jxhmpTSiFi3Y+UBrZojGvOfMTi0VIERVEaoxB0no2hTc7Rpt13AgtcDYnzWmqqPlFZgGdu5/IJJ0qWEnNc1o9EjofSHMYdtttzURjy3whTzg1n7tatJsuHoHEq/NAhtooGz8qLUXAuGGxUvLUISX0EhUQtaMz4nwa/N1ZN3Gt7GH1PleNYzr7wvVEn2xFGPju30TGGJ8wmfPLRHw3ivXPB10l1e9dccddzz66KP3228/K5yXkFco9b2YYnsrYw+FexEWNJyo08xnGm7E9jJJdmiFKB3Ylmw0z3zmM22UXv6sX0CLrHwtj3HzGZMNx23cEhNDzIRTbbnlluVvGzRSA27g/moBYAVoj41bpH9NesGGMLbEp+/lNJjayIdIZi7ewWeQKzfL14L38NAun9PJZ8YBe/KZvstsVhokn5mVO5VyVhDwWcd1oHlCW34nvRp3UQn5/vfqbO58YS/p27i9H3XNItC5nVhAbJEzpcmK6StS2fJfNBb01KTzog32KZAqQsNkvKb7wB5wPvFHNDJFMyQSv2FAo+ZgUvOVJUZJjI9kz/QsnJMj10/56Ct/pT0PsZNOOsnNZRGK3Nv2fsl9gtOUD24j1LraQ4BiCN+12lxIb0V9UObTlQutBFFOkfbIhQbyoUixxbYWLX00MrJRqfjZmuFxo2e1ulhuzzrrLCdNqte89thjD7bHqPnFh4uEvjwp14qiaQPdlxgrLml4T2VcCr8qB6UsByUfrg6S8JITa0mp94lPfKIQY6D+ASUwLdKUWgA+NmClqK0gNVZoJyvefdF5Q8lDJG78ehMx4VqfLsJ8WDsRmu23354zF+LeCWDD1Tso8gMtsCFmOqg8LdszfRdJSdy7uc0YWp7Lo+8rSP+T33QJHGuvEqIbtdotIa8m7wrptPgz+l/9gtCcxl9bYpuXJwKjRYC2nfomXqqOIdxVbNPU9JQaXtE2UAYb6nuxftyreci3D1qfZj4DsYYbMSMEtiPRJEcbBICnuo3Se5JJjE+NEObKbZ1CPkNCN9prLUQVG4t70J6U7XOcRJToso2iBPyXsQK2LlEStlRWt5o9uiGMzRf/QHwjut11110j65ODl1PwGeTKzVIUj90ON4v0kXE034unk880X73NYdcy+cxAcE1n4+Qz03lfUqomCIRF37d2k8baaN+r8UpdP2B8aooCYA9pMsARRxyhMctPk8bztg0FEMZgA8YeKBdqsvfR1yBPdmKGqZFUc+O8zX+K3cZtcrsRNTpCFq2ulebLNwjLIYnvOhawIvq97x1E+7AKWi2MmdGJ1qbzEvogbSS4ocUbKOhGxBNdBh4PSeCgX+PIUtl1jhQ0/Kd4b5122mn2j9AC4Ii8vXwJREIvFKpX3oG+uEUDt8YEfbc0KfzXsM9KM0uL2dMy81Jwg5q4GjZfvQOJNNwCaz5EzaspXOU9jA17i9tawWog7Y/Ma13HOv/L12692QYNxRio2dW/umOvz12zwQNXe9/L/xDpeeJXb/zM1bfs9eePePmGXR7M6L+JSAoFUukCRLWaSglCJgueOB4NSmfaIh16WChwaRgrafJ9QcGQH6UdxxqzUUk87wOSxtxL0vuBJloDzTzvRhHz5dXBdu3Zd5Sf/TZDDISqZ59an6Lcy4fjQ1eXEI+YDVGcppDYrvUZQyfr8BL2pFe2A04W4PJVaYhCtvpLfNExIUDS+1aQi1Qmum2vnhgImQk0DutCZ7Q8q4mtxEPtzdlEDC29/SxR600imCaXdL5FuVcwqNgOfBOW79QQvc3cJc03YiBTNHheOAhb2J3GrUHnPmE+QzyrBWvyAGJBdsxO7RWO5FnWzCKMjIoNj+YwNuyweTN0VB4c6i3WLDZLyQFiO/ODm8X8prieX5kqw4Y33DGdfGZMsCefaUgehltLQ181cj5DEt8gNiObSDnxlmeHNRclsK334jOu1UZLuxh7tgfExo3/CA2pcIk2QwyEFRnUDnIJPoN3df0i8JkjShp/84rrfIfXkxMb5S677MJIYK8sC4Yo+sAEhWAIXLFM5+Y5n4ES5oziNqz8OCj/qek8VUIDPTsz2TgoFA+XzO819P3z8vK5xaep11eH2DG+Qj7DgkjlMQ0IzHOV0O1L73nlmVctXLDS+X+1UbHNH3PpDRde85tFm673oies0+se9aVQPvN8SOABNKRCaTr7oRDhQOHbSbgiumPX51VBhgMOOKDcWNQqGi2WxJe8dxRFRvmvlCky9aLvHDGcF1sq71hhtaZgUh8z8pfFl8zQQ7icpolt3CdrfSo6WUX23nvvwk0AN6IL5shZiO3jkFuB8E+aozjJg5ULZFk7w5USLOXAOupmeBafmp0qob6XEINHA9lgyC/VuBwxoiDAinSMSiXki5eLhJVJ9dbXNNILQCmf+IMUSWRWJJyneS7JZ0Zyd6Qp9MLkCsR5vLNDb9rwbRcIuc0224xkxOykJQLznM8Mjd7I+QxJOPVTZyA/kUo/DkoTDw5bvrjLXnxGM8EWskxgGtgCc1dxObuCrA6F416bIbCmIEs+TGoMnz5nxEGTp5DBjChuIttJHLjHO97xjqLuDcUNf1j5OgoNTl9y0qkSoi/jUV6unMP7UmpktsAYdJ7zGQjMlUpoNElGh35W88JEYCYQoMiPNM9dk457XTIS+iu2OhPTSSGHQyDiwopjuE4mdtWaCxesvdqCpffce/Mdy7OJx/G/6aVXbfXmxyRCNcOm1HU64RpDc9RZ4a7X9Cl3RDWGzyCTkZ8rTi5iTv1JCDTFK5ZDADrugRKj1gyBwPFl4DNSU5hcbDLtDx2WrylRtGIt/UwL43xMCg+TOk3MBVWRPB0sY9wKdIuWFdmRKJ60oQ/yrqAgk15NYwnjVP/phUzzS9iUKOOwOkM3LLMwsdU4PQNh4T6uyMPHZ2h9kMt9AJTLz0/PBFOSRKAvAqxc2hSa60r7qCXi63TzzTfv21U2mFEEZovPjA/k0fKZ8Lbry2f4GtuJ+BnRg+BLDGa+IxiTmkyz7xCCMMQuUFrVm6iF+dMHcQ6igmHeQK54BZaTSLBz77TTTgSTX4wmSBgEwxUTHZtWyNmcnJTnhUfRB/EbZQ7cc889YcUlKvLblpsln2myGEbbptWHwWhFyd4SgalFwPdVJC3CkISPyZrpc1e+JLEz8m37MPBG41Iu5+jUTiEFm4cIPPz+yzUsv/jt8iDHOEaSXroopsO20xVVXj/hl9S8kjpWJJAhnjJ2Nj9XlBrcguQ7l+WduxAmIayM+uaiiy5qfltrhgjVgKirmjjWc845Rxt6HM5NfEwk0D3qqKNku/cSCBlY3SmVCCZpl4wzsneJN5FijDGwqLFI9+QSKUhojmQhYRlTecC1ofDqejS/xCecDtFKQ6dtvyuYfCK8rrnBUyzCv/ni6WxpzYiabNNDXpsIzBUCEQ5GGU197LvOi5rRi54oUkbIjeWvhx9+uLfZXEmY4yYCk0FgTviMqYkrf/3rX0/Pwhs6EgvQE5VLTtdPv4bPiEoLL55eDM2fJEdj1ZDrjUM3yxZXIOyFPcmnTeSm8UJg2cKyJD6jG2JH4bjEbdCf5IOLNHzNyUkxF361VD/qTrqW0gf/obcSksbcXqn2kHxmMuu/PEqqhCaPeY44ewj4UPQ2VDmFvlyUB/V2pIXy1eq7gs2fhtuLdSS5n2YPnXkgsQ275TEnID38/svT4f/8t38oOjYSlVDYlpGJXsnm4+nQppydtCUCvmGKnDvGDY+85l5I9aOLq6VmonLqK6QcHIVpXUEiqfFZz+KqiNiiI5YXIM6gZXRDgsKkm4kzKie6pOwTtMMOOzgvc1D4IXYezS/hjhRJbfPoigDjKnOoD4BDDz308ssvl6mqDVA66ZqVv02feW0iMBkEvLVCoUm1zQXA6zryM1IlU09Td773ve+txPlORrAcZQIItCQzvRIjTkDycQwxJ3xGEiLKoGI6DEWR8XcklIZNjh7HEYWMaw6ezvyJooGr2JMYtHzp+FVSQvkQSaXCZtEDmZWfVlSe5sjJ5uSk6MG7xRDi2ooEfGgSfyUNCutaNE4+M47VXt9nqoQmj/mkR/T5ofrPYYcdNumBV6zxqM+9rDlUc3QUP8zI7DOPegiwosawqNQHrVg3fEWYze9VQh1eQgtavfkjvyAi1UvjI4Qq0r5QG40Kx0qJhEjjSoawaLU8+DThQ/Vlj3xBaSCvNusc455PKd6C5XEZ2/3q+6p8UuwYN2kBYsVJ1jDEi0KB9zWv7EKtUJOtvOElGSxWvwzcZV5CUmmyiA5U1qDl6srLR4hA8pmRgGn9n3nmmTJJ8yiUlE0NPh+lElhQFSkOIMeW78mRDJSdJAJTjsCc8Bn+OxW+EZRmVMnp1lxzzfryKRIG+ahhiFJgwReNzIPUNGW7VPAZ+aSL9EZxH2mNUZqCjzUkJ5U1ILQNg6J05qXISUokvgYVq1jymck/OK0+DCYvbo44BAIeeypYKowhrs1Lygj4vhW0wteRnZ+vo6AVLgBCcKU+SaASgSlEIALHRu4lhG3EZHvV8OYYHAqOomV7cCr1ONC4cI0O3dMEDvlWRVX434iU7BQ6YkXphiLbNDbz05/+1A9cCGuEURtC7gDpJ7lho0QyT/MurBe++SUTK784AbTHNATd3EYbbTSmzrPbCSCQfGaEIEt+7z3GA9rnn0OCD/Z/0SIyr49wlOwqEZhmBKaBz8AnGE7zWPv2kHre3/jGN1JFMZMI4LI5+pYpYtjphcfBZ7gXqX3x1Kc+1ZuHA7Xk04Lou84l+Uz7WzxoD6kSGhSxbJ8IJAKJwGwg8ND7VEK/vL0zl9DyRD9DHyLVI2RMoa6uncR5RrBySWZKonLyZjqUmlzOnd3yYS6f5BwUNqVy3RDRBXMAAAyrSURBVPGWQ/QFhNc0LyFB+GeffTY9O68TuqFFixa5EH0JXcPVV19d0w/bu+BTmZIwITmno2xt/bhDXNJ3ItkgEUgEEoFEIBFIBIbjM3ATdVVGr/JrPbAVPqNxnKmEM7cZou+dpYSSLwwPUQHND6qFMGttv/32cu25VtrpcfAZLtKyMSKQQuwZ18VeSLYou2JfabPBBBBIldAEQM4hEoFEIBGYAwQessZyldBNZZXQPcudd+63Sqs3P11PVH+/7LLLwpRUPrCKSBPIiSaszeGY7aBMKVryMOoVKtWVWolxKI8S1Vulo47YtJEMUX+HikA5pE2WazodDoMu4W4dFwq+8L+kieV++PigOxyCnLzlllsibl8RdBol/kSIkRphNeMOcckcrLMcMhFIBBKBRCARmEEEBuUzBd8o8xkne6UB6spn8J/FixcXaGkTvRVFMIPStBmi/lbw1kFp/M+aJYiEu5Dk1oLiRf3T1BR8RjxEpRAYR0IphJj9hiMnURIE/3nLW94iWFXeIqY1OqkZXDgroMitPgxWQDxySolAIpAIrCgIPHTN+7yEflfyErpruWfN/doVodcDfxn1ueh0xFLxiwnS43+KGzUp+O/Y6cWoB5AUH5GwkH4k/KLZhYra7WWwQ4XEbIWXVG4CZYrsg6FFwpNCERPV7tsPoedTTz1V1sOaO89opv4OV+eiTVClIm40Ujsr0VpohbgyKTkvTj4MgIxy4RweUfrLb80vf1mfw3WIS1aUxZvzSAQSgUQgEUgExo7AQHyGNKG4kUyQz29wEhQCb6kIWsNnMJzzzjsPEXKJnIyylNIQ0c6ovRWdtBlCh/yXP/rRj9b4IKsapl4HVlP4KxEgiFxQGpIoSy9MXnR8kTVSWVW5Ms444wyuVcORkyiCJlStyBykiPOXvvSlsd/jHKABAqkSagBSNkkEEoFEYAYRWHPhgjVWXfnOu++9bcny8hDLhG4tu1fM2MJ26aV1xTeHg7GqGZIL0gHJUcoR5sQTT1QEHcvxV4W0/LXADLfwM+WR/L4ycCnK3jUPUQSaST1I81LRGTGaCdoyhEMCVIyKt065ZkebIZjFkCclw2p8v3fffXeyMW3JZiLHPAWQjIw4nFSLMU3JWd/0pjchOnyI1JdVE01uaTTR/zvvvLMGUroqbeYHHEtOIs0Qsvp0kkNcMoPrNEVOBBKBRCARSATmBoFB+QxbFHpDGSSEHKU5+eSTkZPO8hT1fIZGiaOxa1EaNWrMnBWtKKvaZgiWOW7U/LU5/vQCFH8TdM/Zh4sQwxUag7QQieeOdIdxlWRDNFPMbzyaJaFXv2y//fZznpeQBEzDkRMUyIVKrKo4pmSH4TArCqa5ufE56v9FoLtKyA1rnuNqoMaJfyKQCCQCicDEECjHjkUF+tXaRY0VknOZofcRf+4MPQhbU9QlpQFxng9ReY7UKPZ+xAuL4hrjBymWw4ZWrmeh0vzGG2/sDI1PxcC13XbbGYurs3TO3I423HBDZyKlURxthtAb5Y7i8TV5Val7aLKYzvj40GrRIkmRKBdjaHniUEfs4IMPRq0UcOVzRLyXv/zlWhZo6GHHHXd0XswdZyLjyq3IcbqMVaXAR5NL6mulTWyx5UCJQCKQCCQCicDMITAQn1HMi0olFBk+lvnXyCS4ySabNOcztn4GLUzAtUgR3xm/lqsAtRlCNTEqG52jNL1uBB8f4VpSSpOf6udjH/sY/qb+VznynVqKG/i2227LICfgS5YACemRn3333Te6HYKcAEo+e4IxCiI/8hYpImncspzJZwZ6fEJd07yIqva9Gq/UNZuDnAhbbrllw7Ll559/vhXDu2yE9YYHgiMbJwKJQCLQiYCiTvazrrlaaCW0ry/SORlIz//ytVtvtsH4xnr7hddffuNvD9li/U0evdbNd9z1mk9c/cD7LTh7hw1rRhxUJC9/aZJpamwBeJX8Pr06t91EgTDIV/Qg5UtQEwda4KAbEorlr3vvvTe7HAdmBzbTqxrFEEPE0Aaq6GJ6zUI42I033ojTlBVSlcbC7FE92rGu0zQ7DuewKufGrl8DQ1wyvkU1Vz3H4um0KApIVCvXQ90cz7maQo6bCCQCicAQCCSfGQI0l4yPz+gcG+EoTf9SY0wq8xmXCJKii2E34hMUdMW1NZ/PQwxhlAjLalK0S0u+QgSoKZZKTozFztuVMw9HTsTd40i0V811GcMtgKm9qhefITCX80c+8pGRrbLvwU+NugYp7dsyGvD8YrysqOHiT929hJhqObN15g3tOh4fM0yaC31DabJZIpAIJAKJwGQQeEgpnZAIMoO2zC3dKTaWYF8Xf04DUqMPciH9iAaOGn2QZjRBSFJXSxEtjMtriM7QQzTUBxFPXiSWrhp9kDbcv1nYek3T1OTeHkh/McQlk1lgOUoikAgkAolAIrBiINCcz5gvGmCvr9EH1fOZoCv17hTDDYEjNdEHLdcC3OcfXaMPCuamTS8b6nDkBP/R57zVB43qYWF9POaYYxSxbdih7OCUcZtttlnX9t1VQhROHN2NIT0Vi2j9SI94xCOMceyxx+60007iISN2II9EIBFIBOYcATE+In3i2GuvveZcnskL8KonPei9L3vc8x+3PLvzQ9ZY5aStHvfO5z568mLkiInAaBGQsooiMh7tckqp0Y6SvSUCiUAiMCUIJJ+ZkhuRYiQCI0eA4qX4WpGaqm//fPOlstp0000Fgh1//PH17Wlm6GekbZINUyoo+Rm6tu8eOKapMD/yyS4u3aacUpH7quYQEygPuaTr9IXyh7/uda/rO59skAgkAonA+BAQpfy9732v6J8f5lOe8pT4df4Ejg0B76CO1kMM0fwSHst2R77N0jnXO+Y07zNbzigCZUdrS0IC8nLku3zemYNgRu9sip0IJAL1CCSfGW6FTBWfMQVFNnxQS4woF+FwM8qrVgwEKoFjyqqUi9ZJv0330mumW2yxxcUXX8zDi7LlXe96l8Y1mMgPJReQ3AiaaeySXh5kPVVC0XsUFZY3VChZk3tAkWStiyCIROt5JAKJQCIwhQhMj0rouDO/+cRHP3CqILr6J7e+6TV/OlUipTCJAARqYu8Tn0QgEUgE5icCyWdq7nvymfn5UEz/rNvwmSuuuEJuTSqeJkmc+RNdeeWVUoP31cz0UQlNP6YpYSKQCCQCgyIwPRRqUMmzfSIwbxFoQ6HmLWg58UQgEVixEUg+s2Lf35zdConAFPKZ7rmEVkj0c1KJQCKQCCQCiUAikAgkAolAIpAIJAKJQCKQCCQCgUCqhHIlJAKJQCKQCCQCiUAikAgkAolAIpAIJAKJQCIw7xBIldC8u+U54UQgEUgEEoFEIBFIBBKBRCARSAQSgUQgEUgEUiWUayARSAQSgUQgEUgEEoFEIBFIBBKBRCARSAQSgXmHQKqE5t0tzwknAolAIpAIJAKJQCKQCCQCiUAikAgkAolAIpAqoVwDiUAikAgkAolAIpAIJAKJQCKQCCQCiUAikAjMOwRSJTTvbnlOOBFIBBKBRCARSAQSgUQgEUgEEoFEIBFIBBKBVAnlGkgEEoFEIBFIBBKBRCARSAQSgUQgEUgEEoFEYN4hkCqheXfLc8KJQCKQCCQCiUAikAgkAolAIpAIJAKJQCKQCKRKKNdAIpAIJAKJQCKQCCQCiUAikAgkAolAIpAIJALzDoFUCc27W54TTgQSgUQgEUgEEoFEIBFIBBKBRCARSAQSgUQgVUK5BhKBRGCeInDvvffO05nntBOBWUMgn9ZZu2MpbyKQCEwOgXxDTg7rHCkRaIfAdD6tqRJqd1fz6kQgEZhBBBYsWEDqe+65ZwZlT5ETgfmIQDyt8eTmkQgkAolAIhAIJJ/JlZAIzBYC08lnUiU0W6sopU0EEoERILDaaqvpZenSpSPoK7tIBBKB8SMQT2s8uXkkAolAIpAIBALJZ3IlJAKzhcB08plUCc3WKkppE4FEYAQIrL766iuttBI9/ZIlS0bQXXaRCCQC40TAc+pp9cx6csc5TvadCCQCicCMIZB8ZsZuWIo7vxGYWj6z0nTGs83v1ZKzTwQSgbEj4KW8ePFiw3C6Xrhwof99cI591BwgEUgEGiOAn9AEsaeFl/Xaa6+dXkKNwcuGiUAiMF8QSD4zX+50znNmEZh+PpMqoZldXCl4IpAItEMAi7rttttSLd4Oxbw6ERg7AtS1a621VuqDxg50DpAIJAKziUDymdm8byn1vENgavlMqoTm3VrMCScCiUCBwLJly+64445w40xYEoFEYNoQ4L5HEyQyYuWVM8592m5OypMIJAJThEDymSm6GSlKItCBwJTzmf8PnjYa3bIlZfUAAAAASUVORK5CYII=\"></div>"
      ],
      "text/plain": [
       "  ^\n",
       "{{r -> InterpolatingFunction[{{0., 200.}}, <>], \n",
       " \n",
       ">    ϕ -> InterpolatingFunction[{{0., 200.}}, <>]}}"
      ]
     },
     "execution_count": 1635,
     "metadata": {
      "text/html": [],
      "text/plain": []
     },
     "output_type": "execute_result"
    }
   ],
   "source": [
    "Clear[rxNum, ryNum, uxNum, uyNum, tMaxNum, rhRules, icsNum, MaxDNum, epsilonGNum]\n",
    "\n",
    "rxNum = 10^2;\n",
    "uxNum = -0.0;\n",
    "\n",
    "(* зафиксированны *)\n",
    "ryNum = 1;\n",
    "uyNum = 0;\n",
    "\n",
    "(* Newton *)\n",
    "epsilonGNum = 0;\n",
    "epsilonGNum = 0.1;\n",
    "tMaxNum = 2*10^2;\n",
    "\n",
    "rhNum = {\n",
    "  Subscript[OverHat[r], \"x\"][OverHat[t]], Subscript[OverHat[r], \"y\"][OverHat[t]]\n",
    "  };\n",
    "D[rhNum, OverHat[t]];\n",
    "\n",
    "rhRules[MaxDNum_] := Join[\n",
    "  Thread[rhNum -> ({rxNum, ryNum} /. OverHat[t] -> 0)],\n",
    "  Thread[D[rhNum, OverHat[t]] -> ({uxNum, uyNum} /. OverHat[t] -> 0)],\n",
    "  Flatten[Table[\n",
    "    Thread[D[rhNum, {OverHat[t], i}] -> {0, 0}],\n",
    "    {i, 2, Max[MaxDNum, 2]}\n",
    "  ]] /. OverHat[t] -> 0,\n",
    "  {OverHat[t] -> 0}\n",
    "];\n",
    "\n",
    "icsNum[MaxDNum_] := Join[\n",
    "  Simplify[Table[D[OverHat[r][OverHat[t]] -> Sqrt[rhNum.rhNum], {OverHat[t], i}], {i, 0, Max[MaxDNum, 1]}] //. rhRules[MaxDNum]],\n",
    "  Simplify[Table[D[\\[Phi][OverHat[t]] -> ArcTan[rhNum[[1]], rhNum[[2]]], {OverHat[t], i}], {i, 0, Max[MaxDNum, 1]}] //. rhRules[MaxDNum]]\n",
    "];\n",
    "\n",
    "fh5SymbolicNum = Simplify[D[fh, {OverHat[t], 5}], Trig -> True];\n",
    "\n",
    "Fh5ReplacementNum = Flatten[{\n",
    "  Outer[\n",
    "    Superscript[Subscript[OverHat[f], #1, #2], \"(5)\"] -> fh5SymbolicNum[[#1 /. {x -> 1, y -> 2}, #2 /. {x -> 1, y -> 2}]] &,\n",
    "    {x, y}, {x, y}\n",
    "  ]\n",
    "}];\n",
    "\n",
    "sysNum = Simplify[D[rh, {OverHat[t], 2}] + rh/OverHat[r][OverHat[t]]^3 + epsilonGNum*fh5rh //. Fh5ReplacementNum];\n",
    "eqnsNum = {sysNum[[1]] == 0, sysNum[[2]] == 0};\n",
    "solNum = NDSolve[Join[eqnsNum, icsNum[If[epsilonGNum == 0, 1, 4]]] /. Rule -> Equal, {OverHat[r], \\[Phi]}, {OverHat[t], 0, tMaxNum}\n",
    "  (* WorkingPrecision -> 30,\n",
    "  PrecisionGoal -> 20,\n",
    "  AccuracyGoal -> 20,\n",
    "  Method -> \"StiffnessSwitching\",\n",
    "  MaxSteps -> 10^7 *)\n",
    "]"
   ]
  },
  {
   "cell_type": "code",
   "execution_count": 1646,
   "metadata": {
    "vscode": {
     "languageId": "wolfram"
    }
   },
   "outputs": [
    {
     "data": {
      "text/html": [
       "<div><img alt=\"Output\" src=\"data:image/png;base64,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\"></div>"
      ],
      "text/plain": [
       "-Graphics-"
      ]
     },
     "execution_count": 1646,
     "metadata": {
      "text/html": [],
      "text/plain": []
     },
     "output_type": "execute_result"
    }
   ],
   "source": [
    "tMaxNum2 = tMaxNum;\n",
    "\n",
    "RNum = OverHat[r][t] /. solNum[[1]];\n",
    "PhiNum = \\[Phi][t] /. solNum[[1]];\n",
    "dRDtNum = D[OverHat[r][t] /. solNum[[1]], t];\n",
    "OmegaNum = D[\\[Phi][t] /. solNum[[1]], t];\n",
    "\n",
    "PlotR = Plot[RNum, {t, 0, tMaxNum2},\n",
    "  AxesLabel -> {TraditionalForm[OverHat[t]], TraditionalForm[OverHat[r]]},\n",
    "  PlotRange -> All,\n",
    "  ScalingFunctions -> {\"Log\", \"Log\"}\n",
    "];\n",
    "\n",
    "PlotRxRy = ParametricPlot[\n",
    "  {RNum Cos[PhiNum], RNum Sin[PhiNum]},\n",
    "  {t, 0, tMaxNum2},\n",
    "  AxesLabel -> {TraditionalForm[Subscript[OverHat[r], \"x\"]], TraditionalForm[Subscript[OverHat[r], \"y\"]]},\n",
    "  PlotRange -> All,\n",
    "  ScalingFunctions -> {\"SignedLog\", \"SignedLog\"}\n",
    "];\n",
    "\n",
    "PlotDRDt = Plot[dRDtNum, {t, 0, tMaxNum2},\n",
    "  AxesLabel -> {\n",
    "  TraditionalForm[OverHat[t]],\n",
    "  Style[TraditionalForm[HoldForm[D[OverHat[r], OverHat[t]]]], FontSize -> 7]\n",
    "  },\n",
    "  PlotRange -> All,\n",
    "  ScalingFunctions -> {\"Log\", \"SignedLog\"}\n",
    "];\n",
    "\n",
    "PlotPhi = Plot[PhiNum, {t, 0, tMaxNum2},\n",
    "  AxesLabel -> {TraditionalForm[OverHat[t]], TraditionalForm[OverHat[\\[Phi]]]},\n",
    "  PlotRange -> All,\n",
    "  ScalingFunctions -> {\"Linear\", \"Linear\"},\n",
    "  PlotStyle -> Red\n",
    "];\n",
    "\n",
    "PlotOmega = Plot[OmegaNum, {t, 0, tMaxNum2},\n",
    "  AxesLabel -> {TraditionalForm[OverHat[t]], TraditionalForm[OverHat[\\[Omega]]]},\n",
    "  PlotRange -> All,\n",
    "  ScalingFunctions -> {\"Log\", \"SignedLog\"},\n",
    "  PlotStyle -> Red\n",
    "];\n",
    "\n",
    "GraphicsRow[{PlotR, PlotRxRy, PlotDRDt, PlotPhi, PlotOmega}]"
   ]
  },
  {
   "cell_type": "code",
   "execution_count": 1657,
   "metadata": {
    "vscode": {
     "languageId": "wolfram"
    }
   },
   "outputs": [
    {
     "data": {
      "text/html": [
       "<div><img alt=\"Output\" src=\"data:image/png;base64,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\"></div>"
      ],
      "text/plain": [
       "-Graphics-"
      ]
     },
     "execution_count": 1657,
     "metadata": {
      "text/html": [],
      "text/plain": []
     },
     "output_type": "execute_result"
    }
   ],
   "source": [
    "EnergyNewtonNum = Energy /. OverHat[\\[Omega]][OverHat[t]] -> D[\\[Phi][OverHat[t]], OverHat[t]] /. OverHat[t] -> 0 /. icsNum[1];\n",
    "\n",
    "EnergyNum = Energy /. {\n",
    "  OverHat[r][OverHat[t]] -> RNum,\n",
    "  D[OverHat[r][OverHat[t]], OverHat[t]] -> dRDtNum,\n",
    "  OverHat[\\[Omega]][OverHat[t]] -> OmegaNum\n",
    "  };\n",
    "\n",
    "plotENewton = Plot[\n",
    "  EnergyNewtonNum, {t, 0, tMaxNum2},\n",
    "  PlotStyle -> Red,\n",
    "  ScalingFunctions -> {\"Log\", \"Linear\"},\n",
    "  PlotLegends -> {\"E Newton\"}\n",
    "];\n",
    "\n",
    "plotE = Plot[EnergyNum, {t, 0, tMaxNum2},\n",
    "  AxesLabel -> {TraditionalForm[OverHat[t]], \"E\"},\n",
    "  ScalingFunctions -> {\"Log\", \"Linear\"},\n",
    "  PlotLegends -> {TraditionalForm[\"E\"[OverHat[t]]]},\n",
    "  PlotRange -> All\n",
    "];\n",
    "\n",
    "PlotsE = Show[plotENewton, plotE, PlotRange -> All];\n",
    "\n",
    "AngularMomentumNewtonNum = AngularMomentum /. OverHat[\\[Omega]][OverHat[t]] -> D[\\[Phi][OverHat[t]], OverHat[t]] /. OverHat[t] -> 0 /. icsNum[1];\n",
    "\n",
    "AngularMomentumNum = AngularMomentum /. {\n",
    "  OverHat[r][OverHat[t]] -> RNum,\n",
    "  OverHat[\\[Omega]][OverHat[t]] -> OmegaNum\n",
    "};\n",
    "\n",
    "plotJNewton = Plot[\n",
    "  AngularMomentumNewtonNum, {t, 0, tMaxNum2},\n",
    "  PlotStyle -> Red,\n",
    "  ScalingFunctions -> {\"Log\", \"Linear\"},\n",
    "  PlotLegends -> {\"J Newton\"}\n",
    "];\n",
    "\n",
    "plotJ = Plot[AngularMomentumNum, {t, 0, tMaxNum2},\n",
    "  AxesLabel -> {TraditionalForm[OverHat[t]], \"J\"},\n",
    "  ScalingFunctions -> {\"Log\", \"Linear\"},\n",
    "  PlotLegends -> {TraditionalForm[\"J\"[OverHat[t]]]},\n",
    "  PlotRange -> All\n",
    "];\n",
    "\n",
    "PlotsJ = Show[plotJNewton, plotJ, PlotRange -> All];\n",
    "\n",
    "GraphicsRow[{PlotsE, PlotsJ}]"
   ]
  },
  {
   "cell_type": "markdown",
   "metadata": {},
   "source": [
    "<span style=\"color:brown\">**NB:**</span> Как можно видеть, численное решение при помощи Mathematica с участием пятой производной по времени пока не выполнимая задача."
   ]
  },
  {
   "cell_type": "markdown",
   "metadata": {},
   "source": [
    "# Потеря энергии за один период обращения"
   ]
  },
  {
   "cell_type": "markdown",
   "metadata": {},
   "source": [
    "Энергию гравитационного излучени невозможно локализовать в области меньше длины одной волны.\n",
    "\n",
    "Поэтому мгновенные изменения энергии и момента не имеют физического смысла.\n",
    "\n",
    "Однако, если мы просуммируем энергию и момент по полному периоду обращения, то с такими величинами можно работать.\n",
    "\n",
    "Рассчитаем в **нулевом приближении**, сколько энергии уносится из системы\n",
    "\n",
    "гравитационными волнами за один полный оборот, интегрируя по ньютоновской гиперболической траектории\n",
    "\n",
    "начиная с момента, когда тело \"бесконечно\" далеко, до момента минимального сближения и обратно:\n",
    "$$\n",
    "\\Delta \\hat{E} = 2 \\epsilon_G \\int\\limits_{\\hat{t}_{\\text{min}}}^{\\infty}I_E(\\hat{t}) d \\hat{t}.\n",
    "$$"
   ]
  },
  {
   "cell_type": "markdown",
   "metadata": {},
   "source": [
    "В приближении Ньютона $I_J$ и $I_E$ равны нулю.\n",
    "Тогда и момент импульса и энергия сохраняются.\n",
    "\n",
    "$\\hat{J} = |\\vec{\\hat{r}} \\times \\vec{\\hat{v}}| = |\\vec{\\hat{r}}_\\infty \\times \\vec{\\hat{v}}_\\infty| = \\hat{r}\\hat{v}_\\infty \\sin(\\phi)$\n",
    "\n",
    "Так как $\\phi = \\pi/2$ на бесконечности, то $\\hat{J} = b\\hat{v}_\\infty = u$,\n",
    "то $u$ - безразмерная скорость на бесконечности.\n",
    "\n",
    "Отсюда следует, что $\\hat{\\omega} = \\frac{u}{\\hat{r}_2}$"
   ]
  },
  {
   "cell_type": "code",
   "execution_count": 1658,
   "metadata": {
    "vscode": {
     "languageId": "wolfram"
    }
   },
   "outputs": [],
   "source": [
    "OmegaReplace2 = {\n",
    "   OverHat[\\[Omega]][OverHat[t]] -> u/Subscript[OverHat[r], 2][OverHat[t]],\n",
    "   Derivative[n_][OverHat[\\[Omega]]][OverHat[t]] :> u D[1/Subscript[OverHat[r], 2][OverHat[t]], {OverHat[t], n}]\n",
    "};"
   ]
  },
  {
   "cell_type": "markdown",
   "metadata": {},
   "source": [
    "Заменим переменные\n",
    "$$\n",
    "\\Delta \\hat{E} = - 2 \\epsilon_G \\int\\limits_{\\hat{r}_2^{\\text{min}}}^{\\infty}\\frac{I_E(\\hat{r}_2)}{\\hat{r}_2^{(1)}}d \\hat{r}_2,\n",
    "$$"
   ]
  },
  {
   "cell_type": "markdown",
   "metadata": {},
   "source": [
    "Здесь $\\hat{r}_2^{\\text{min}}$ - квадрат минимального расстояния между объектами:"
   ]
  },
  {
   "cell_type": "code",
   "execution_count": 1660,
   "metadata": {
    "vscode": {
     "languageId": "wolfram"
    }
   },
   "outputs": [
    {
     "data": {
      "text/html": [
       "<div><img alt=\"Output\" src=\"data:image/png;base64,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\"></div>"
      ],
      "text/plain": [
       "FormBox[FractionBox[RowBox[{SuperscriptBox[\"u\", \"4\"], \"-\", \n",
       "\n",
       " \n",
       ">         RowBox[{\"2\", \" \", SqrtBox[RowBox[{SuperscriptBox[\"u\", \"4\"], \"+\", \"1\"}]]}],\\\n",
       " \n",
       ">    \"+\", \n",
       "      \"2\"}], SuperscriptBox[\"u\", \"4\"]], TraditionalForm]\n"
      ]
     },
     "execution_count": 1660,
     "metadata": {
      "text/html": [],
      "text/plain": []
     },
     "output_type": "execute_result"
    }
   ],
   "source": [
    "rMin2[u_] := (2 + u^4 - 2 Sqrt[1 + u^4])/u^4;\n",
    "rMin2[u] // TraditionalForm"
   ]
  },
  {
   "cell_type": "code",
   "execution_count": 1663,
   "metadata": {
    "vscode": {
     "languageId": "wolfram"
    }
   },
   "outputs": [
    {
     "data": {
      "text/html": [
       "<div><img alt=\"Output\" src=\"data:image/png;base64,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\"></div>"
      ],
      "text/plain": [
       "FormBox[RowBox[{FractionBox[RowBox[{\"16\", \" \", SuperscriptBox[\"u\", \"6\"]}], \n",
       "\n",
       " \n",
       ">         RowBox[{SubsuperscriptBox[OverscriptBox[\"r\", \"^\"], \"2\", \"4\"], \" \", \n",
       "\n",
       " \n",
       ">           SuperscriptBox[SubscriptBox[OverscriptBox[\"r\", \"^\"], \"2\"], \"′\"]}]], \"-\", \n",
       "\n",
       " \n",
       ">        FractionBox[RowBox[{\"40\", \" \", SuperscriptBox[\"u\", \"4\"], \" \", \n",
       "\n",
       " \n",
       ">           SuperscriptBox[SubscriptBox[OverscriptBox[\"r\", \"^\"], \"2\"], \"′\"]}], \n",
       "\n",
       " \n",
       ">         SubsuperscriptBox[OverscriptBox[\"r\", \"^\"], \"2\", \"4\"]], \"-\", \n",
       "\n",
       " \n",
       ">        FractionBox[RowBox[{\"4\", \" \", SuperscriptBox[\"u\", \"2\"], \" \", \n",
       "\n",
       " \n",
       ">           SuperscriptBox[RowBox[{\"(\", \n",
       "\n",
       " \n",
       ">              SuperscriptBox[SubscriptBox[OverscriptBox[\"r\", \"^\"], \"2\"], \"′′\"], \")\"}], \n",
       "\n",
       " \n",
       ">            \"2\"]}], RowBox[{SubsuperscriptBox[OverscriptBox[\"r\", \"^\"], \"2\", \"2\"], \" \", \n",
       "\n",
       " \n",
       ">           SuperscriptBox[SubscriptBox[OverscriptBox[\"r\", \"^\"], \"2\"], \"′\"]}]], \"+\", \n",
       "\n",
       " \n",
       ">        FractionBox[RowBox[{\"24\", \" \", SuperscriptBox[\"u\", \"2\"], \" \", \n",
       "\n",
       " \n",
       ">           SuperscriptBox[SubscriptBox[OverscriptBox[\"r\", \"^\"], \"2\"], \"′\"], \" \", \n",
       "\n",
       " \n",
       ">           SuperscriptBox[SubscriptBox[OverscriptBox[\"r\", \"^\"], \"2\"], \"′′\"]}], \n",
       "\n",
       " \n",
       ">         SubsuperscriptBox[OverscriptBox[\"r\", \"^\"], \"2\", \"3\"]], \"+\", \n",
       "\n",
       " \n",
       ">        FractionBox[RowBox[{\"4\", \" \", SuperscriptBox[\"u\", \"2\"], \" \", \n",
       "\n",
       " \n",
       ">           SuperscriptBox[SubscriptBox[OverscriptBox[\"r\", \"^\"], \"2\"], \"′′′′\"]}], \n",
       "\n",
       " \n",
       ">         RowBox[{SubscriptBox[OverscriptBox[\"r\", \"^\"], \"2\"], \" \", \n",
       "\n",
       " \n",
       ">           SuperscriptBox[SubscriptBox[OverscriptBox[\"r\", \"^\"], \"2\"], \"′\"]}]], \"-\", \n",
       "\n",
       " \n",
       ">        FractionBox[RowBox[{\"11\", \" \", SuperscriptBox[\"u\", \"2\"], \" \", \n",
       "\n",
       " \n",
       ">           SuperscriptBox[RowBox[{\"(\", \n",
       "\n",
       " \n",
       ">              SuperscriptBox[SubscriptBox[OverscriptBox[\"r\", \"^\"], \"2\"], \"′\"], \")\"}], \n",
       "\n",
       " \n",
       ">            \"3\"]}], SubsuperscriptBox[OverscriptBox[\"r\", \"^\"], \"2\", \"4\"]], \"-\", \n",
       "\n",
       " \n",
       ">        FractionBox[RowBox[{\"12\", \" \", SuperscriptBox[\"u\", \"2\"], \" \", \n",
       "\n",
       " \n",
       ">           SuperscriptBox[SubscriptBox[OverscriptBox[\"r\", \"^\"], \"2\"], \"′′′\"]}], \n",
       "\n",
       " \n",
       ">         SubsuperscriptBox[OverscriptBox[\"r\", \"^\"], \"2\", \"2\"]], \"+\", \n",
       "\n",
       " \n",
       ">        FractionBox[SuperscriptBox[SubscriptBox[OverscriptBox[\"r\", \"^\"], \"2\"],\\\n",
       " \n",
       ">    \"′′′′′\"], \n",
       "      \"3\"]}], TraditionalForm]\n"
      ]
     },
     "execution_count": 1663,
     "metadata": {
      "text/html": [],
      "text/plain": []
     },
     "output_type": "execute_result"
    }
   ],
   "source": [
    "(* Минус учтём сразу *)\n",
    "dEdr = Simplify[-dEdt/D[Subscript[OverHat[r], 2][OverHat[t]], OverHat[t]] //. OmegaReplace2];\n",
    "Expand[Simplify[dEdr]] // TraditionalForm"
   ]
  },
  {
   "cell_type": "markdown",
   "metadata": {},
   "source": [
    "<span style=\"color:brown\">**NB:**</span> Выражение для $dE/dr$ <span style=\"color:green\">**сопадает**</span> с выраженем для интегранта из binary_catch1.pdf, если учесть деление на $\\hat{r}_2^{(1)}$"
   ]
  },
  {
   "cell_type": "markdown",
   "metadata": {},
   "source": [
    "Из сохранения энергии следует, что\n",
    "$\\hat{E} = \\hat{E}_\\infty = \\frac{u^2}{2} = \\left(\\frac{(\\hat{r}^{(1)})^2}{2} + \\frac{\\hat{r}^2 \\hat{\\omega}^2}{2} - \\frac{1}{\\hat{r}}\\right)$\n",
    "\n",
    "Тогда можно найти $\\hat{r}_2^{(1)}$:"
   ]
  },
  {
   "cell_type": "code",
   "execution_count": 1666,
   "metadata": {
    "vscode": {
     "languageId": "wolfram"
    }
   },
   "outputs": [
    {
     "data": {
      "text/html": [
       "<div><img alt=\"Output\" src=\"data:image/png;base64,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\"></div>"
      ],
      "text/plain": [
       "FormBox[RowBox[{RowBox[{\"-\", \"2\"}], \" \", \n",
       "\n",
       " \n",
       ">        SqrtBox[RowBox[{RowBox[{SubscriptBox[OverscriptBox[\"r\", \"^\"], \"2\"], \" \", \n",
       "\n",
       " \n",
       ">             SuperscriptBox[\"u\", \"2\"]}], \"+\", \n",
       "\n",
       " \n",
       ">           RowBox[{\"2\", \" \", SqrtBox[SubscriptBox[OverscriptBox[\"r\", \"^\"], \"2\"]]}],\\\n",
       " \n",
       ">    \"-\", \n",
       "        SuperscriptBox[\"u\", \"2\"]}]]}], TraditionalForm]\n"
      ]
     },
     "execution_count": 1666,
     "metadata": {
      "text/html": [],
      "text/plain": []
     },
     "output_type": "execute_result"
    }
   ],
   "source": [
    "eq = Energy - u^2/2 //. Flatten[{\n",
    "  ToR2Replacement,\n",
    "  OmegaReplace2,\n",
    "  D[Subscript[OverHat[r], 2][OverHat[t]], OverHat[t]]^2 -> x^2\n",
    "}];\n",
    "\n",
    "sol = Solve[eq == 0, x][[1]];\n",
    "\n",
    "x /. sol[[1]] // TraditionalForm"
   ]
  },
  {
   "cell_type": "markdown",
   "metadata": {},
   "source": [
    "А также $\\hat{r}_2^{(i)}$ для $i = 1\\dots5$"
   ]
  },
  {
   "cell_type": "code",
   "execution_count": 1670,
   "metadata": {
    "vscode": {
     "languageId": "wolfram"
    }
   },
   "outputs": [
    {
     "data": {
      "text/html": [
       "<div><img alt=\"Output\" src=\"data:image/png;base64,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\"></div>"
      ],
      "text/plain": [
       "FormBox[RowBox[{\"{\", RowBox[{RowBox[{RowBox[{\"-\", \"2\"}], \" \", \n",
       "\n",
       " \n",
       ">            SqrtBox[RowBox[{RowBox[{SubscriptBox[OverscriptBox[\"r\", \"^\"], \"2\"], \" \", \n",
       "\n",
       " \n",
       ">                 SuperscriptBox[\"u\", \"2\"]}], \"+\", \n",
       "\n",
       " \n",
       ">               RowBox[{\"2\", \" \", SqrtBox[SubscriptBox[OverscriptBox[\"r\", \"^\"], \"2\"]]}],\\\n",
       " \n",
       ">    \n",
       "            \"-\", SuperscriptBox[\"u\", \"2\"]}]]}], \",\", \n",
       "\n",
       " \n",
       ">          RowBox[{\"2\", \" \", RowBox[{\"(\", \n",
       "           RowBox[{FractionBox[\"1\", \n",
       "\n",
       " \n",
       ">                 SqrtBox[SubscriptBox[OverscriptBox[\"r\", \"^\"], \"2\"]]], \"+\", \n",
       "\n",
       " \n",
       ">                SuperscriptBox[\"u\", \"2\"]}], \")\"}]}], \",\", \n",
       "\n",
       " \n",
       ">          FractionBox[RowBox[{\"2\", \" \", \n",
       "\n",
       " \n",
       ">             SqrtBox[RowBox[{RowBox[{SubscriptBox[OverscriptBox[\"r\", \"^\"], \"2\"], \" \", \n",
       "\n",
       " \n",
       ">                  SuperscriptBox[\"u\", \"2\"]}], \"+\", \n",
       "\n",
       " \n",
       ">                RowBox[{\"2\", \" \", SqrtBox[SubscriptBox[OverscriptBox[\"r\", \"^\"], \n",
       "\n",
       " \n",
       ">                    \"2\"]]}], \"-\", SuperscriptBox[\"u\", \"2\"]}]]}], \n",
       "\n",
       " \n",
       ">           SubsuperscriptBox[OverscriptBox[\"r\", \"^\"], \"2\", RowBox[{\"3\", \"/\", \"2\"}]]], \n",
       "\n",
       " \n",
       ">          \",\", FractionBox[RowBox[{\"2\", \" \", \n",
       "\n",
       " \n",
       ">             RowBox[{\"(\", RowBox[{RowBox[{\"2\", \" \", \n",
       "\n",
       " \n",
       ">                   SubscriptBox[OverscriptBox[\"r\", \"^\"], \"2\"], \" \", \n",
       "\n",
       " \n",
       ">                   SuperscriptBox[\"u\", \"2\"]}], \"+\", \n",
       "\n",
       " \n",
       ">                 RowBox[{\"5\", \" \", SqrtBox[SubscriptBox[OverscriptBox[\"r\", \"^\"], \n",
       "\n",
       " \n",
       ">                     \"2\"]]}], \"-\", RowBox[{\"3\", \" \", SuperscriptBox[\"u\", \"2\"]}]}],\\\n",
       " \n",
       ">    \")\"}\\\n",
       "]}], SubsuperscriptBox[OverscriptBox[\"r\", \"^\"], \"2\", RowBox[{\"5\", \"/\",\\\n",
       " \n",
       ">    \"2\"}]]], \",\", \n",
       "       FractionBox[RowBox[{\"2\", \" \", \n",
       "\n",
       " \n",
       ">             SqrtBox[RowBox[{RowBox[{SubscriptBox[OverscriptBox[\"r\", \"^\"], \"2\"], \" \", \n",
       "\n",
       " \n",
       ">                  SuperscriptBox[\"u\", \"2\"]}], \"+\", \n",
       "\n",
       " \n",
       ">                RowBox[{\"2\", \" \", SqrtBox[SubscriptBox[OverscriptBox[\"r\", \"^\"], \n",
       "\n",
       " \n",
       ">                    \"2\"]]}], \"-\", SuperscriptBox[\"u\", \"2\"]}]], \" \", \n",
       "\n",
       " \n",
       ">             RowBox[{\"(\", RowBox[{RowBox[{\"6\", \" \", \n",
       "\n",
       " \n",
       ">                   SubscriptBox[OverscriptBox[\"r\", \"^\"], \"2\"], \" \", \n",
       "\n",
       " \n",
       ">                   SuperscriptBox[\"u\", \"2\"]}], \"+\", \n",
       "\n",
       " \n",
       ">                 RowBox[{\"20\", \" \", SqrtBox[SubscriptBox[OverscriptBox[\"r\", \"^\"], \n",
       "\n",
       " \n",
       ">                     \"2\"]]}], \"-\", RowBox[{\"15\", \" \", SuperscriptBox[\"u\", \"2\"]}]}],\\\n",
       " \n",
       ">    \")\"}\\\n",
       "]}], SubsuperscriptBox[OverscriptBox[\"r\", \"^\"], \"2\", RowBox[{\"7\", \"/\",\\\n",
       " \n",
       ">    \"2\"}]]]}], \"}\"}]\\\n",
       ", TraditionalForm]\n"
      ]
     },
     "execution_count": 1670,
     "metadata": {
      "text/html": [],
      "text/plain": []
     },
     "output_type": "execute_result"
    }
   ],
   "source": [
    "replacementRule = D[Subscript[OverHat[r], 2][OverHat[t]], OverHat[t]] :> x /. sol[[1]];\n",
    "\n",
    "(* Рекурсивно вычисляем производные *)\n",
    "dr2 = NestList[\n",
    "   Simplify[D[#, OverHat[t]] /. replacementRule] &,\n",
    "   x /. sol[[1]],\n",
    "   4\n",
    "];\n",
    "\n",
    "dr2 // TraditionalForm"
   ]
  },
  {
   "cell_type": "markdown",
   "metadata": {},
   "source": [
    "Заменяя вхождение **всех** производных в выражении для $dE/dr$, получим"
   ]
  },
  {
   "cell_type": "code",
   "execution_count": 1672,
   "metadata": {
    "vscode": {
     "languageId": "wolfram"
    }
   },
   "outputs": [
    {
     "data": {
      "text/html": [
       "<div><img alt=\"Output\" src=\"data:image/png;base64,iVBORw0KGgoAAAANSUhEUgAAAnMAAABZCAIAAADaejUgAAAAznpUWHRSYXcgcHJvZmlsZSB0eXBlIGV4aWYAAHjabU/bDQMhDPtnio4QEnBgHK5HpW7Q8WsOqoqqlogd54ES+uv5CLcBjRJS9oIKCJFqqtooikxMjlKveMFNdLmbH3KdIjZa+VtAX/6x+47JWn4Wrf1i4wdqS2tgLTKdfmwzP1a/tlL2RSYb6kfE/3kyV2RET4xJxR2VugRKErJKdjxwB9gYcaqkO7nDnWPw0WFtDA5o9727BxiNc5xg42VrZGOMVjjKk6mz4fJFj1W9DglvIcFakWUC1VYAAAAJcEhZcwAAFiUAABYlAUlSJPAAAAA8dEVYdFNvZnR3YXJlAENyZWF0ZWQgd2l0aCB0aGUgV29sZnJhbSBMYW5ndWFnZSA6IHd3dy53b2xmcmFtLmNvbVyipoUAAAAhdEVYdENyZWF0aW9uIFRpbWUAMjAyNTowMzoxOCAwMTo1NjowMDsp33EAACAASURBVHhe7Z112B218scp7i7FWqxAi7sWd9firhe9uLsWd5fiFCjFimspFIeLXtwp7q6/z+/O84SQtexuds+e8875g6fsOzuZfJPNZCSTbn/99ddI+lMEFAFFQBFQBBSBQAh0U80aCEllowi0BwK///77JZdc8tBDD0055ZSbbLLJPPPMkyL3G2+8MWDAgA8++GDmmWfedtttJ5988vboZKdIyRh9/PHH5Xuz4447nnvuueX5KAdPBFSzegKlZIpAhyDQr1+/u+++u3fv3k888cSff/6J4txiiy3svrHb/vXXX8cYY4xbb7113XXXheaPP/6AYJJJJhk+fHivXr06BIjGd4MNTc+ePV9++eUxxxyzpLDjjTfexBNPXJKJvp4DAb6i9vqx47788su333773Xbb7eabbw4u/JNPPrn77rsHZ9uVGSqkzRn922+/nen9/fffI9KwYcNYKeabbz5HvKuuumqVVVb57rvvunfvfu211/72228YuAsssADE66yzTvm+vP766wcddBDq/Jhjjvnkk0/KM+xUDoMHD55tttma07suO3AFVrCRgg/bM888M3To0OBsheEvv/yyxBJL8IWPMsoosn1AvwZs69tvv51xxhknmGCCgDxrY1Up8oV70V6QPvroo0899VThzjb/xSuuuIK9qZGzT58+Sy21lCP2euutd/7556NfDz30UPMn7Fc+tx49epTs4y233DLaaKOZ7xc7+LXXXivJs1Nfl/1HQ3rXZQcuuoL5rBKBNev7778/3XTTPf/88xXNhiOPPHKllVb66KOPvvjii/79+4tyDdjclltuCcN21KxVI194QNsLUjxvTOD33nuvcH/b6EUCeBNOOOFNN91ky/zTTz+NP/74I0aMAArMVvMn/MNoxLnnnrtMB6uzg8tI1dh3V1xxxTPOOKMJ4nXlgYuuYD6rREjNCvpzzTXXIYccUt1UwCX15ZdfGv44slCEpGMEafG6665bcskll1122bbTrDUgXwzhdoT0qKOOmmOOOdioFutyu7yFWxiDdfnll8cPZMuMabLoootGe/Hhhx/yre21115lOliRHVxGpCa/O+mkk2IeNUHCLjtwSStY5ioRUrNuuOGGfKvOh5o0LX744Yf0GQOfH3/8kewJQ0YaheOpO+yww/janU13sYmImTL99NPz3xVWWKEGzUq/6B12QDFpnbf8kccT+NVXXwVpNJNJzZBmyuNJwKDMOeeceEQ96RtLFv2CjKj77bffWGONJS6fhRZaiEiq+dNWW2114oknRjuFu2iiiSb67LPPyvS3Cju4jDxNfvedd97BZ84qYQsZdt3w737bDVyQhS5lBctcJWJyg4F70KBBqKtXX32VJHvMUFIepphiivS0qHfffXeGGWYgt4g8/iTKu+66i6REnLdEVkiRSMkCx7fJYQBcvvvvv/9xxx2XxJA8piuvvJIpWPIwAPMVU3WHHXZAReGBefzxx7/++uscaWD5Sffdd1/WL/akzz333NRTT52fwd9vpCB/6aWX8ldDSjdJRdlggw122mmnaIsYMaSrMIJlhLHbqhlSW2wydDbeeGMm5GmnneZ0h6+FICKTEN/m0ksvvdpqq7Gjcmiuv/56UOLACRyCoBHLhKE5/vjj2Swyz2eaaab111+fYy3dunVziIl94BIkiI4ZTULvqquuitbPlCrzC2Iy3HvvvXytn3/+uUkPZvNK1tJjjz1GtoHdBJ/YvPPOe8MNNyyzzDKZTfsT0DUmP3bwSSed5P9WYcr0Ge4zMWjak6ywkOZFFmF2M//5z39sVgHXjTISVj1w8L/ggguSJJxqqqlY+e2/5lroPDueqRQyVgln24Ip2bdvX6dt0rX5CNM3OATbSUb4+eefY8lYpFgRYMv3ic624zdRenbQiy22mMjAQnPnnXfG8sT2osUgzmcWuE033VRaqcFmHTJkiFlAQdvOKPHfRRrKJORZuEcddVRnKMcZZxw2DU4rbHcWXnhhKNk/FRAg9pWaIXVkwPCiO4sssojzHN3AYRLm8znnnMM2gl0jZGzOHDI2pEDBKhYKjSgf0tqN1WjGKJqugpBjjz22M4gk6KbPGc8vCKlIaIL5v//9b5HwwQcfxBPuSMvXihF/8cUXB0cjiB3sI1XmDPecGJ5kPiJl0mBUbL311jZZ2HUjU4AUgqoHTpyRST9SbWzZ/Be6XF3OXMHSVwnXG8zGmf5gUB577LEMLeeUpXvsZO0AZ3QlgmDXXXeNFZ3cepazkUcemVRD2++U1E9cVbTIf5999tlpp512sskmI8YTJd55553Rgj4M0wHFaOAU/DfffCNkVWtWjAk2BJLntccee9DTAw88MNeQ28SMbhLyMOcY3Kz//DFlnUlJaBlLSDR9KM1aM6QOeoRGZNI6mpXpxFaDnnIoU15h0JnhTM5HHnnEYYIhhUchaadYeLzkxRdffBF9udFGG7300kuYg1hs00wzjchsZIOMXH9GEAlxGp1wwglrrLGGWWtw5KTI4PkFwYETk/A07l8asvOBIUCF0y6tl+xy9PW3334b9/J9990XnHPeGe45MTzJQnVnueWWY/9nuIVdN8oIWfXAMeXkc2Dxx4OIHjU/TuXyHJ+TLb/PQpe3v54rWMoq8Q/NypeM3FjWRg60qezr+dnD7AiKXQzBwIEDox0477zz5PWDDz7Yp3t33HEHK51JSiJHkawlVn9nk37ZZZfNPvvsRh36cE6iYT/OyBGRlh9+MDYB/MMZvzJNmHfpxeKLL06GyKeffioPcYmPPvro+MmL8U9CHoN+3HHHxZxNZwuAfLHQyKodSrPWCanTQbrDeh2rWcUZw67RfgWlwkO0lxPzvvHGG3lO4kaxcUl/a/PNN99mm21smqefflpkPv30081z3DwLLrigfeITw1HICH8kNeH5BcnrOJDYbbzwwgvyv9QlwO1sOOMQw2yyv1x8WiWTmIR5dXawA4vPDPecGJ5koSYM05hSHsIt+LpRWMgaBo45Sd+jh9+YjehaFmf7i/Bc6PL213MFS1kl/qFZ+WbWXnttRwgic/IxUx8rST4ilBAQ5XYICNigNvhTVDUmsSIE6/DhY2Zja2vWhx9+mAPU+OLz4hVLT9YV7kHzQ1rMGv4XFRiEv80EC5u+OJYQFkzhI31JyEtwGpPIswssoAE1a52Q2h0kTEjoFFP1X//6F92xbVZMQ5nGxG/sVzj8Ls/JiY0+x6vsCWAuMvL4oxl8HIBBDOLcworgK1tM7CSHMx0UgTkzE9to+heEmtxuu+34MEW98WEa8xftjivF5rnnnnuykCEtOPDDyMa7E5vflKv71dnBKWIkzXDPieFJlguHFGLCZ+QBmIUi+LpRTM56Bo7jlMSYoxLizmHaU8/A/lPehc6z454rmKwesavEPzQrky+qHckw5OtK16zzzz8/BFLYxfzIjBCjHkWFBJ5dyiQj5YdQEBPdUF599dXo2swXPQmwaXLlBpO8t/fee5Mc4ck/LFks8gyZceOzyyOXB+Wd3m5Yzeq0lRdSXmffCqp5Xf18k/iL3nzzTQITjmYV25QfjhlbPDbCEsgkDmI/51gnD3HYeI5XMYENc4LffCZs1Y0zg+MWKLZo66jGdM2aLvA+++wjrxMlwN9oO0vgbAKuMIlNIWGjbCT0RMYhK2kHF8Y5aYZ7TgxPsmKYRN8ivk4KZyhuQfiUHLjyMmD4MW9tp06Bha6YGEkrWMoqkX3qhpelYMpZZ50VK5aUGOV0ufNX82XyARPO4ZMgURNXFZvxlO7RHFbyKaecQtYiaoMXUdhgSk4THNDQbO2xRWQTzW6asCjphUnxMPwGt912G/F2kj7shBQshgP+98PbXFINsNAADguW55i99dZb11xzDWqDNEtJv2J1W3nllelv5kkkp4kk5KP5vXj8WDRTnOf+mrUGSOmmZC/nAgSTi22+xDKimpUJIBolmsCF54fnbEEcePFb2HZD+vgWENhmiB3JniApWc+mJCqPtMSAk+RJ/4J4ixAPg4h973AgvMKn5zmNo2SeE6OkHVwY56QZ7jkxPMkKo+e8yPrAlDAPM8e0TLv1DFwZCeVdQhXsPiV6Jb8CCx1vefbXFjjFNkhaJbI1qwRfWWJwUMSiQ5AmdmEyc1FWNPPDIjQuryhDfFl4OOUgCtoaNzrn7eRd8orxVjnc+F8i2EnDRhSTt+QVcrIMGemgPGHHEFU2q6++ei6bNa9mPfnkk9daay0RicQQtKzJ4GUTkGv+JSEPhpzTwHfnwEUCcFJOqb9mrQFSQMi7gKKDZ5llFmN3RjUrsW0Ax+SKIiz+VUbBUTZyGifqj40do7wCGyY4dSVtkFnhHF6MbUhy7FPc1ClfEFvVpAnGW6QKlklT95kY5e3gwjgnzXDPieFJluv7TSFmTtp5HsXG1FOYegbOU5gkMk5CMu3RBTZBgYWO133664iRohSSVolszSo2OIm4SX2+//77IWDDaxPgx0Mviv5AU7I8cToWQ560GnmI8ZqCNdWAoeGsIe3SK1HSmJgFhke88/wktiQ/Ss/wJHoqowD/vJqVJtguiEgk8bOc4WjiMAz/wEDPJUAs8g4Hjt+BvynTam8vbEp/zcpbVUNaQLPSR0IPJn09qlnlA4jdM7EhleFwIveSu8eBDZ9BKbDi47zhWJ599objsyRepjSHi4WpQsJwZv3FvF8QK9eFF17o09MUmgZODCNt0gz3nBieZLkAxMsSS4/flcUz+te8Y+ovTA0D5y9MLCVGPB9jSo6650InzAP2N2mVyNCshKzY5jOrUly4kh/lbIfF0uVHuQAbKTk/x4+j8SlYUyUcGtKpiAZJ+DblzE/6mJ155pmwYqaa/TidkshxkLOwBTQrpwZpHbc2DmFZzuijqV3lf6FELPKxaHB6UlLJiOTFEuTSrFVDmlezEiZgQO3zG1HNKoHn2JTaNddcU+akc7hLnCVkX/ssCgU0K1OacBpZ6NzUZvwWpBTZdcecpiklgUinnnpqpkgBv6DMtgxB0yaGz97Rc2J4knlihf+P8yRM2tgECIwQ4mvRAm0pY1ryBrAaBs4TmSQycb8l+U3NW5kLnVAG7G/SKpGmWXGOcRwFnZRe8p7IFn3G02iDIsojVnuZm5aTknvxiZn7CLlho+SQSMEaDF/DhwMPIluxqBKBOvKnzE/2ECx59sN0k4IjgyIA2xFnGc11oUQs8klwHX744dIogd4oTS7NGhxS5OG4tw0gWVeISj6d/TC2li+ziKAjW1q7U1HNKqlesTYreQD8KZooIOVKLrroolhICwscy41KLOb6zFdeeSWWhiukWIt90pXDfkH+H2CjJoYjdtIM95wYnmSZWJERcsQRRzBjCV4wu/DtR1/hrBdHDZ3nKWNa/gawGgbO/pDNvz2rc8sa65lOmL7QCaoB+5u0SqRpVlYrwquZ1Zfw8dJt54wKy7es40cffXTsFOdPaN/YiYijWN6N3m8Ffa7dGXoLLyusSJ6Sttj1CHO8asXK9kp5h8xfSsjKRI4d1Z73QolY5JO+bbwOInNsGrO/Zq0CUqLdmXhCEHskmpO45DUQrsaCNz8MAujxi8gTXKwSUMA0jOIjw+FsDSHDfOR57GUjZQROGiATg8SQjdLQBWYy/fLJlw74BWWqCkPQtInhqVk9J4YnWSZcbBnJdsTRxa5RYjTRZZAVhmNjDquUMS15A1jDBw4cSD4FKLqZCS8E6QsdBGH7m7RKJGpW7CE2yLHFH5zuSS0IVLf9HL0i7sdogJa8X1lGk0xGo7qcAxLwz7s7w9kibZmz8NSDlSek4/qMU5SGwBuVjMyPXEe4sTrbD9mWJvn08AGKLzq6Xc17oUQs8imdEqso1iTy16xVQMoWx0aPf0veGVXA7OexWzHUZ6ZWRjuSGi1k0UMjRBx47lSSA0apDHD22WdHIS0jcNIASTkkftSQcmjY2pPHwBxzDrYlsQr4Bfl/I02bGJ6a1XNieJL5wwUl2b8MN8VAnLeYeNFakiljWvIGsHoGzvnA5X+TjCsHECnf7X86P2Whg3PY/iatEvGaFTsVR79nESLMBbodzQZiLeC5c7CXjpkK+9ETLwIop3R5kRviotM07+6Mk0KwMtE1orwcsZDzi+To5voMkojzxllN7b2oozvvhRJJyMeKyqYEiw1LPXrcAnp/zVoDpMjjH7akIB++HecnBeWJZMtzzjURixW95eznOM+AY4bnlBh0cGNK8zxaVTgWXn+BU2YdTkJadBLZ0OIEZfia0o+r2WwDfkH+30jTJoanZvWcGJ5k/nBBSVxf1iLbgOHzJM2TU/sOq6QxLX8DWD0DlwsZm1jKk7H99eSQvtDBJGx/k1aJGM1KDi1DG1U8GFux2k7cFNGEfokCYp85xWLEr8I2JBYpjivJChhrK+TdnYk/nRtsaAs/MHsZgZUfwWOWMKJlngMWSrNKEgoJEZknHDJvxExCPlbUe+65h3bNxQOe606UVQ2Q5tKssZ2VTEJ7t8cC1KtXLx4ShrFfkSxBZilpIw4rCa15HoUqr1kJGEc3lIiNlwXJo9tQ0rxjs3nDfkH+X0fDJ0bS3tFzYniS+cMllNQfZdDxu5jIFJYZ6eKOzz99TJ1GMYXhYJcATJeqnoHLi4yhx3EFRP7F1dMXOtiG7W/SKvH/bkn7x7iSzYthxxaJc+vyw7pC0ZLoQTDVoed/pSqbVKOwfxRHJVkJp6hzRRTFZSBLuhsOXyt/xbpCHToMYcVRJFMVlr9yLIf/mtSPqGxSmpEUXApCkWmMv55YJk8okEuyGa+TJxx9q9In2E/wp3fmJExSc3iE6KxMrNhfLPJkOqA8CEna98eRN4GyoRiCJMVFf/gbeQjCmX1vIKSZMkOA7hS/PTemgYZ5BQ88/+Zjo26fw0emCklPPvxz0ZDBiCnMGVz7LSIIWDBy0tr8UNgYNETmMGLM94jrBeckScV2jX7zStgvyL9fDZ8YSTPcc2J4kvnDJZSsSITP2fTjIJQnmGik6ji3VKWMqdMi+ZUkFvCx+1+s2fCBk9Lo5M87PS220MEkbH8TVwl7K4GaMVXxYqdIrKeby5AhpkBGdFeCexPblAQTlATLGRsxKa4mRmTsr1+/fhCgxX32OOm7M5NmAjf0KAWb0Bxc1AV/llH848UOyDqC5fIGA4gAO2zYsPQO+lwoEYu8yXQgv5okZCwhLnLB1ufoFGcWYxtlV2T0hykCHktZD6RV2KzwxEkgaeGbbbYZXcYKGTx4MCsmFkPshd7yLSTFLBx8/G1WJqGcYaXoEg4MQk3sNbGouHXSsY/lypqkn1OO0cgT8Avy+QaFpuETI32Ge04MTzJ/0ISSJACGGP0qibIcWt1ll10cJv5jmvcGsNoGLi8sQs/9EIDD2hV9vcBCV8VETVol/uENJpae8iU7OUp2V3v06IEDORY7gkMYi0RtifBBwwrOXjvlxJ4ImlRJ0W7C535WOVCBjkGJSqNiK6PsWbZSxPCfB1jDMISbzyuyM2U7GRvsNBz8L5SIIg8spuyUjCaQ0v3Y+j58zCRg20Y/A4TTggMeSd2pAVKaZnFhjHxqEsXKKcmEsXcqkDdBTQm6yY8m2OTZ9dIMN+YGKXhA5zOseQXGtWWMEj4N/EPsOJ0TCKRwp3yM/AmvV6xsYb8gz+5D1syJ4T/DPSeGJ5k/bviBJS1AUt8p9oRbxXndc0yL3QBWz8D5A2JTSi3P2OuVci10Ns+A/U1ZJbJrMPkggu6k/yllaTFYSfQlKzWIMhORfHZn6HUKCNgXraPSKAgVe+GrT09roMl1oUQs8oBM1PCBBx7AAC1cYSOpp+0IabQvuGdIF09JtSU5gCkde9wwyBzAa4cDg8Np6XusIG0lMfH5gvwF6CITQwDJnD/+uEHJOSsmG7EANnn8N/P+jFjmhW8Aa/LA4Sdnl590CUSxhS5gf1NWiTCaVQzBTA9nrtmWTlxsdxZQgIpY5b1Qon7kK+p409gymZnSxD6bJlgoeTr1CwqFT518+OqJ14iXBd9eZm5jVLaqbwCrE402aitllXAzmNIdUEl/5Z4W8nGIWhV7Pe9b9IcCkkT1TWnivBwaS0/qAb4gkpYJvPHjXDlZYN27d28I8o3FLbhgJJLgKyYiG5xzExh28BfUBHjzysBMY0ET44TvPTO30eGPYUdMh1gbG0EWDap0UVGE+IJoa/1Vh0DaKhFqg0CaonNtcijODp8O3p0VuwmkNuQrGtBmsiXBrXAtkWb2yEjVwV9Qw5FPF09uhuB8dq5eEKbNewNYLv5KnIJAyirRjdeCqHQytZgZBFPlfE9FP3ZnbMR69+4tdXMQntxXMpYJe5AJUlGjDWdbD/INByGseCQEkFVEDWfKTYfl3HJu+gW1fAiSBCC8ynkbvPQcOm+skCqYQSBjlQi1JSERg9xo7KdQDKN8dHcWi20NyFc3ps3kTNVWkq4LhLua2R0jlX5BDR8gTgYm3cfQcMm7oHjpq0QwmxVNTjIq/v1BgwZ13k6/4Ts1RT7gAHHqlyrbQ4YM4fRRQLbKShHIRAAPHAdsCLtmUipBaxHIXCVCala6SvYNUXSOE9j3ObcWgi7SuiIfZKCx6jgNTPVzc9VgELbKRBFQBDoGAZ9VIrBmBTvOOxME1VBB/dNIkS+POcUOCXclld4sz185KAKKQLsj4LNKhNesoIbPXR0aLZk9inxJ2BXAkgDq64pAxyPgs0pUolk7HlntoCKgCCgCioAikIRAmEoRiq8ioAgoAoqAIqAICAKqWXUmKAKKgCKgCCgCIRFQzRoSTeWlCCgCioAioAj8HWflDnq5PFV/ioAioAgoAoqAIuCPAPdCXnLJJYb+b83KIWXuYfZnpJSKgCKgCCgCioAiAAJoVuqhxmhWRUcRUAQUAUVAEVAEyiOgcdbyGCoHRUARUAQUAUXgbwRUs+psUAQUAUVAEVAEQiKgmjUkmspLEVAEFAFFQBFQzapzQBFQBBQBRUARCImAataQaCovRUARUAQUAUVANavOAUVAEVAEFAFFICQCWpE/JJrKq70Q2HrrrQcOHNheMqu0TUOAWXTmmWc2TSqVp7UIqGZtLf7aeisRmHvuuamOsuyyy7ZSCG27zRGYaKKJunfv3uadUPEDI6CaNTCgyq5dEPjjjz/GGWec559/fuaZZ24XmVVORUARaAsENM7aFsOkQoZH4LXXXuvWrduMM84YnrVyVAQUga6NgGrWrj3+Xbj3L7zwQp8+fUYZZZQujIF2XRFQBCpBQL3BlcCqTG0EBg8e/MEHHziYEN1EsUWBeuONNwYMGAA9TlqCoJNPPnlFYB566KHvvvvuZZddVhH/Ls726quvfvnll8uD0LNnz+222648H+WgCNSJgGrWOtHuim198803U0011Y8//uh0/v7771966aXNw59//nnMMce89dZb11133T///JMgKH+aZJJJhg8f3qtXryqAW3vttRdbbLG99967CubKk20TnvbyqT2M/r777qt4KgLthYBq1vYar/aTlgMJt912G4tjjx49RPpTTjll0KBBI0aMMJ7Y7777Du373//+d/755z/ttNNQro8++ig678knn1xnnXUgrqLbLNnIttJKK1XBvIvz/P777yeYYIL333+fYe3iUGj3uyYCqlm75rjX1+tzzz13k002GX/88U2TCyywAMddLrzwQvPkuuuuu+CCCzgX+Oqrrx5xxBHyHH28+uqro4/x2QYXFxt6vPHGe++996aeeurgzD0ZYpfjMh02bBjGOr7xNdZYw/PF5pMNHTp0gw02YPPUfFEzJezgYcrsuxIUR+Av/SkCNSLw9ttvM1nvuOMOu80NN9zwrLPOIiyH8Wqe//rrr6ONNho6uArpsIYnnHDCKjh78vzll1+WWGIJoDCG+2677eb5bvPJTj75ZHZFzZczU8LOHqbM7itBYQQ0N7j4pkTfLIDADTfcgEqzizOgQVG0a621Vu/evccdd1zD87PPPvvtt98qKuNAYvAcc8xRQP5Qr/Tv33/sscf+6KOPPv30U/4N2zPOOAOpQvFvLZ+nnnoKx35rZQjSemcPUxCIlEksAqpZdWIEQ4D93U8//YQ6TOF4/fXXr7baahijhoZUpllmmSXqlb344oupbrP//vsHk89i9OKLL84+++wOZx/5QwlDrhau4CmnnHLiiScmCD3ffPPBGYUUin9r+UQ1a53YBux7Zw9TQKCUlYOAaladEi4CLIKcRVl11VXJ7Zx33nkJf77zzjs+MO23337YYSStfPjhh7H0REyfeOIJEpTsv3ImhzRdh54WTz31VAzcSSed1KfpvDSxNmum/HlbSaIn+ZnwM/sGQ8Bug3+jZUM1EeXDsILnpptuSpybwT3wwAM/+eSTKpojG5yjU7JXML/asA3Yo5YMU0D5lVUrESjsR9YXOxIBjM5lllnGmZHoS4y89P4OGTKEkkbyYt++fX///fco/UknnURBQbKHzJ9ID5liiileeeUVm5ho65xzzonNWh3CGItk2dj8feSvTh6ObI411liouoqa+OGHHxgUZ1hR5Pfee2/wFu+7775pppmmOdgG7GDVwxRQVGXVWgRGam3z2nrTENh8881RdTgqif/deeed5BbJcrziiiumiMr5Cs6eTjfddJTh3WOPPaDHJIrSL7zwwuuvv779nMzYWWed1X6CSiZL9oQTTqgOmS+++AIJv/zyS9OEp/wVifTVV1+B3iGHHFIRf9gCO11eZZVVjj32WBzsbCxkWDlvauMQRADGjqh5Q7AN0iNhUsMwBZRWWbUWAdWsrcW/Wa3jxOMsCudKbbFI8mQJxnWZJCu6cPHFF1900UVRxkKDq3P00Ue/66677Fc44oJRe80119gP99prrwMOOMA8wf+G8/nggw82TzC2oAkL04MPPkhY1/D0lD+sDDa3nXfeeYUVViA+XVETJEIzgpdeeqnhjzada665RLmec845Ydvt7SEmNgAACodJREFU16/f0UcfLTxbjm3ArlU9TAFFVVYtR0A1a8uHoEECEPK86qqrHIEo3cD6O8MMMyQJikrAAUgRJZsA7zEl7+0nFIgYY4wxvv32W/shoVwir+bJnnvuOfLII2+55ZZb/e+30UYbUePwxBNPDIuRFIgwPD3lDyuD4UZIm1wqYpMV8YctWxMi2Q7/hx56SDTrjjvuGLZppgreDuHZWmwD9quGYQoorbJqOQKqWVs+BE0XQLy7Bx10UElBF1lkEeeMI65jAnLYqcKZYhHRjANsX2MKlxTAvL7DDjtQ4CkUtzJ8Hn744dlmm42zN3mZ3HTTTXTB08zFDcBZYacJTmqyiQmuWbGG8UxwYipvj5pMX3iYmtwpla1SBFSzVgpv2zMntwj/MIFPMpuSOsOfMIAwSam1xClGiulT3A47iaq8KADzFqycDB3KLeFhqx8jHNeYIHa7b731Fm5qdBXZWxLvxJW98sor0yPc0bkkxP/59NNPU2Fqp512AoE333zTvH7LLbfg+r7yyivlyXPPPceZWrKgDQHhbRZxn+ZgjlLMK5vNmVGTIhXU6PBp0ZPm7rvvJtxuiD3nhifzgGT1DFNAgZVVeyGgmrW9xqtWaa+99lqumsGyIc8opWG8vliBciCVKoYkeiy00EJifaJoU16kvlIVuamZGFHSFuVnk1EziKQbkZkEHLTsqKOOKv9LkcVMhjbBxx9/TNoXib68SyI0dTDMX+VqATGXX3/9dSpmYMeL3xsHOKFWMHSc6klNl9esEnzlYDHB9VwdTCcmQ2q99dYzNIXnRkCRYlnVM0xV90L5NxYB1ayNHZpWCnbjjTdy7sX4ZvHvHX744ekCUZwPes5lYobi9aWSPv9rZyc5r6NyeMXTnxkQC87UsleImuBsCKS/HPqcbLLJCO6iF/kHJniB1kmlhpUdzX3kkUeEP9YwfcewM/Caf+B492yrvGbFqUC7wX0GjPtxxx3n9CLv3PAEoTxZ1cNUXkLl0KYIqGZt04GrVmyMVKKeLLtUR5J1H+Wabl8utdRSkJEpwykavMHIF/w4h3+fqfREgeJYes6tkhUV/RMJw8iPHYlDGF8uBPSCYKRQYmISad5iiy2OOeaYzFOnRI5RyXCzc694lyfkcNnHef175FCW1Kz4qAlgTz/99BxAyisDqeOc3knacHCDwj333OPwTJ8bubDNK20KfQ3DFFBaZdVeCKhmba/xqlta1IA50srtJUnNQ8aFLaKDKQhXt5RWe0Rzl1tuOcRISnk9/vjjKQIVlZCL0EV+PNgmqUrIiI/iNTWl8zl76qQ9O9zIixZWxudMHFfcy1xJWwwcTG0isua38cYbw428JPuhk3ed1BDVOTCm8duTQZZLGEaZ7QUqmabJioq+S+ISOzBnR5U+N/Jiazf69ddf292P/TdnvZL6WMUw5cJTiTsYAdWsHTy4YbqGmpEYqlPSweZOSX3RJVgnsa3WYJdQuYkCvNRAoFCOWIexObeU9zvssMOiQprYMNlY9l9hSzkFQs44rvkTpQFhjs8zBVxygqChwhE6TMjEYOWHyVtgVDiTI6+n/+xzwCmtEOhlo5A3wo0liq2/7bbbci4LMfCoR8tyMQ04RuU0nTI3CmBrM5es9cxfbDkw+AQfpgIjq690KgJ6P2vmh6kEI22//fY4SDkfYrb5DiicQ6XMLw/Ji4lecoIVi5mIhkbTQIPNN3z4cEnnCfgbMGAANhNuUuKjFHt6/PHHCSVST9FpgrQpsn+d2sUEWSlQjIQU1CVlyX6FfN28t8ZS8IhgLU3wX1hRo9gErZFqwQUXzNtrlDoq2X4LSJ955hmqKbGBMM8xiJdccsl05qC0zTbbkKJFPYdcYpC0zBEpHMi8teaaa2JrRrGiQAQzhF2IzTllbhTA1uaMsjfR66S+sANguE3dTZss+DDlwlOJOxyBTt0yaL8CIiC7e+yVJJ59+vSBgCLsUYKSdkmxXtx8883Iw510ThwR8wVV5BSZogmuXpfvPOrKzntrrInenX322XAmVYpCEOQAw5w6VsaKLdYv81axOCt2Kt0///zzS7YOJuIbJzhts0LjRst6pMyNvNiWFNt+vZ5hCiiwsmovBPSumw7fOQXpHgE5sVRiuZHMwhLJn4i9RQkwbjB5idESaOSubwlnVn1dGsnJ6DNSkLj01BaJ+Cjmy0wzzeTIySlMnuBJ5gyr86e8t8YCBaYzTORmWexmrHOCmvwbmxITCns9yKDkZYK5zMkiTsUwHPa72Ot571IFExlr3O82q+jlcelzIy+2ebucQt/YYQrYR2XVSgTaayOg0laKAIf8qGVIBQO7FbJvyE7izGVS01xKwwxGccYmmrbKLpFwIMFOjGYjObbpPPPME+3ItNNOC7HPoZcjjzwS0zOlxhCmKqy4So9WzjvvPDyooIqDmodU6KVCRVIoOtfI5rVZcdIiAyUyiHqaH5sevOVcFLj77rvnah1iLgrkBiQ6BaTy7ogRI9i1OGUa0+eG02gmtnmFTKGvZ5gCCqys2gsBzWBqr/GqVlpOIsouDyOG4roECOV2bur3ykGa2J9E7MjI9RFOrm4NXmQ/2jSOX7JpaMu+NoeQG5f5OMRicPNLL4jBW5zkQa1SJDmlp5JWQzEKCiYQuyXwzFvCf7PNNkPjFjsg67SYS7NyxsZcbhO7i3/ppZd8xs6hIU8YbjgApBoGjvTocSb/ueGDbQEhk16pZ5gCCqys2gsB1aztNV7VSssSbFcw4Do5Dnc+8MAD6a3Kqu1ZJK9Ou0QKEZPZa+pCcNw2ej8dcUfIqDaVHgT1vDUW9SzaC1enVOuldY7J8oT0n2j93mIjussuu2Ageh6NTc+ZogRjMRkwT+VeejZhcCDjmrNADivPueGJbTE5Y9+qZ5gCCqys2gsB1aztNV6VS4t24egk1moVt6/UbJdQ50HOC5mL0jCw8IUWADHXrbGEGwHQboVLBXiYdPyjgDwNeUXC2JTF4Cgt5beoHV1AsFzYFuCf9ErXGaaAoCkrTwRUs3oCpWRlEajfLkFi1nqWfgxxDq5g4ZFAxCXneXtSz62xeaVqAj1+YHG542bHNzB06NC8Uim2eRFT+rZAQM+zxgae9GFgBDCFqa7ABen77LNPYNap7LgNBrX6+eefkzrE8Y/ll1/e1Af2F4OoMIldBGjlWCRF8ymuRD0KSi74M+lUyoEDB1Kli8M87F3wc3DSKVdPFdtccClx2yDQFvpfhWxrBFprlxx11FES9SRPFdWeF8nabo3NK1hD6BlcObTDxiWvSIptXsSUvl0QUJu1bfZA7Stoa+0Sqsv27NmTQCDVGTlRSsy1fZFspuTUiwBYbHocA82UUKVSBGpGQDVrzYB3ueYoi+iUJgACqrpz+EQuhKnhRxXA/v370xCnGOW8iv7CIkClQ6r877rrrmHZKjdFoE0RUM3apgOnYudAgHvfOPHC6RdSbPr27ZvjTSX1Q4BcaBLEzK0Gfi8plSLQsQioZu3YodWO2QhgTnHilgvOKPWgyCgCioAiUCkCqlkrhVeZNwUB7unkHhhTDqkpYqkcioAi0IkIaEX+ThxV7VMEgR49enDnuQKjCCgCikANCPwfqNvMyizdc3QAAAAASUVORK5CYII=\"></div>"
      ],
      "text/plain": [
       "FormBox[FractionBox[RowBox[{\"2\", \" \", \n",
       "      RowBox[{\"(\", RowBox[{RowBox[{\"6\", \" \", \n",
       "\n",
       " \n",
       ">               SubsuperscriptBox[OverscriptBox[\"r\", \"^\"], \"2\", \"2\"], \" \", \n",
       "\n",
       " \n",
       ">               SuperscriptBox[\"u\", \"4\"]}], \"+\", \n",
       "\n",
       " \n",
       ">             RowBox[{SubscriptBox[OverscriptBox[\"r\", \"^\"], \"2\"], \" \", \n",
       "\n",
       " \n",
       ">               RowBox[{\"(\", RowBox[{RowBox[{\"51\", \" \", SuperscriptBox[\"u\", \"4\"]}], \n",
       "\n",
       " \n",
       ">                   \"+\", \"40\"}], \")\"}]}], \"+\", \n",
       "\n",
       " \n",
       ">             RowBox[{\"32\", \" \", SubsuperscriptBox[OverscriptBox[\"r\", \"^\"], \"2\", \n",
       "\n",
       " \n",
       ">                RowBox[{\"3\", \"/\", \"2\"}]], \" \", SuperscriptBox[\"u\", \"2\"]}], \"+\", \n",
       "\n",
       " \n",
       ">             RowBox[{\"100\", \" \", SqrtBox[SubscriptBox[OverscriptBox[\"r\", \"^\"], \"2\"]], \n",
       "\n",
       " \n",
       ">               \" \", SuperscriptBox[\"u\", \"2\"]}], \"-\", \n",
       "\n",
       " \n",
       ">             RowBox[{\"75\", \" \", SuperscriptBox[\"u\", \"4\"]}]}], \")\"}]}], \n",
       "\n",
       " \n",
       ">       RowBox[{\"3\", \" \", SubsuperscriptBox[OverscriptBox[\"r\", \"^\"], \"2\", \n",
       "\n",
       " \n",
       ">          RowBox[{\"7\", \"/\", \"2\"}]], \" \", \n",
       "\n",
       " \n",
       ">         SqrtBox[RowBox[{RowBox[{SubscriptBox[OverscriptBox[\"r\", \"^\"], \"2\"], \" \", \n",
       "\n",
       " \n",
       ">              SuperscriptBox[\"u\", \"2\"]}], \"+\", \n",
       "\n",
       " \n",
       ">            RowBox[{\"2\", \" \", SqrtBox[SubscriptBox[OverscriptBox[\"r\", \"^\"], \"2\"]]}],\\\n",
       " \n",
       ">    \"-\", \n",
       "         SuperscriptBox[\"u\", \"2\"]}]]}]], TraditionalForm]\n"
      ]
     },
     "execution_count": 1672,
     "metadata": {
      "text/html": [],
      "text/plain": []
     },
     "output_type": "execute_result"
    }
   ],
   "source": [
    "dEdrFinal = Fold[ (* Последовательно применяем замены *)\n",
    "  Simplify[#1 /.\n",
    "    D[Subscript[OverHat[r], 2][OverHat[t]], {OverHat[t], #2}] -> dr2[[#2]]] &,\n",
    "  dEdr,\n",
    "  Range[5]\n",
    "];\n",
    "\n",
    "Simplify[dEdrFinal] // TraditionalForm"
   ]
  },
  {
   "cell_type": "markdown",
   "metadata": {},
   "source": [
    "$$\n",
    "  \\Delta \\hat{E}(u) = \\epsilon_G \\frac{4}{3}\\int\\limits_{\\hat{r}_2^\\text{min}}^\\infty \\frac{32 \\hat{r}_2^{3/2} u^2+6 \\hat{r}_2^2 u^4+\\hat{r}_2 \\left(51 u^4+40\\right)+100 \\sqrt{\\hat{r}_2} u^2-75 u^4}{\\hat{r}_2^{7/2} \\sqrt{\\hat{r}_2 u^2+2 \\sqrt{\\hat{r}_2}-u^2}} \\, d\\hat{r}_2,\n",
    "$$\n",
    "где при $\\hat{r}_2 \\ge \\hat{r}_2^{\\text{min}}$ выражение $\\hat{r}_2u^2 + 2\\sqrt{\\hat{r}_2} - u^2 \\ge 0$."
   ]
  },
  {
   "cell_type": "markdown",
   "metadata": {},
   "source": [
    "Полученный выше интеграл **компактнее**, чем тот, что рассмотрен в файле binary_catch2.pdf\n",
    "$$\n",
    "  \\Delta \\hat{E}(u) = \\epsilon_G \\frac{4}{3}\\int\\limits_{\\hat{r}_2^\\text{min}}^\\infty \\frac{24\\hat{r}_2^2u^6 + 48u^6\\hat{r}_2 + 120\\hat{r}_2^{3/2}u^4 - 96u^6 + 96u^4\\sqrt{\\hat{r}_2} - u^2\\hat{r}_2^2 + 133u^2\\hat{r}_2 - 2\\hat{r}_2^{3/2}}{\\hat{r}_2^4\\sqrt{u^2\\hat{r}_2 + 2\\sqrt{\\hat{r}_2} - u^2}} \\, d\\hat{r}_2,\n",
    "$$"
   ]
  },
  {
   "cell_type": "markdown",
   "metadata": {},
   "source": [
    "<span style=\"color:brown\">**NB:**</span> Однако, будучи аналитически взятым будет полностью <span style=\"color:green\">**совпадать!**</span>\n",
    "\n",
    "Смотри подробности в файле binary_catch_integral.ipynb\n",
    " \n",
    "Там компактный интеграл назван $I_5$, а второй $I_4$.\n",
    "\n",
    "Выпишем ответ:"
   ]
  },
  {
   "cell_type": "code",
   "execution_count": 1674,
   "metadata": {
    "vscode": {
     "languageId": "wolfram"
    }
   },
   "outputs": [
    {
     "data": {
      "text/html": [
       "<div><img alt=\"Output\" src=\"data:image/png;base64,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\"></div>"
      ],
      "text/plain": [
       "FormBox[RowBox[{\"-\", FractionBox[RowBox[{SubscriptBox[\"ϵ\", \"G\"], \" \", \n",
       "\n",
       " \n",
       ">           RowBox[{\"(\", RowBox[{RowBox[{RowBox[{\"(\", \n",
       "\n",
       " \n",
       ">                   RowBox[{RowBox[{\"673\", \" \", SuperscriptBox[\"u\", \"4\"]}], \"+\", \n",
       "\n",
       " \n",
       ">                     \"1275\"}], \")\"}], \" \", SuperscriptBox[\"u\", \"2\"]}], \"+\", \n",
       "\n",
       " \n",
       ">               RowBox[{\"3\", \" \", RowBox[{\"(\", \n",
       "\n",
       " \n",
       ">                   RowBox[{RowBox[{\"37\", \" \", SuperscriptBox[\"u\", \"8\"]}], \"+\", \n",
       "\n",
       " \n",
       ">                     RowBox[{\"366\", \" \", SuperscriptBox[\"u\", \"4\"]}], \"+\", \"425\"}],\\\n",
       " \n",
       ">    \")\"}\\\n",
       "], \" \", RowBox[{\"(\", RowBox[{RowBox[{SuperscriptBox[\"tan\", RowBox[{\"-\",\\\n",
       " \n",
       ">    \"1\"}]], \n",
       "                    \"(\", FractionBox[\"1\", SuperscriptBox[\"u\", \"2\"]],\\\n",
       " \n",
       ">    \")\"}], \"+\", \n",
       "                  FractionBox[\"π\", \"2\"]}], \")\"}]}]}], \")\"}]}], \n",
       "\n",
       " \n",
       ">         RowBox[{\"9\", \" \", SuperscriptBox[\"u\", \"7\"]}]]}], TraditionalForm]\n"
      ]
     },
     "execution_count": 1674,
     "metadata": {
      "text/html": [],
      "text/plain": []
     },
     "output_type": "execute_result"
    }
   ],
   "source": [
    "DeltaE = -Subscript[\\[Epsilon], G]/9*(u^2*(1275 + 673*u^4) + 3*(425 + 366*u^4 + 37*u^8)*(Pi/2 + ArcTan[u^(-2)]))/u^7;\n",
    "DeltaE // TraditionalForm"
   ]
  },
  {
   "cell_type": "code",
   "execution_count": 1675,
   "metadata": {
    "vscode": {
     "languageId": "wolfram"
    }
   },
   "outputs": [
    {
     "data": {
      "text/html": [
       "<div>&#36;&#36;&#45;&#92;&#102;&#114;&#97;&#99;&#123;&#92;&#101;&#112;&#115;&#105;&#108;&#111;&#110;&#32;&#95;&#71;&#32;&#92;&#108;&#101;&#102;&#116;&#40;&#92;&#108;&#101;&#102;&#116;&#40;&#54;&#55;&#51;&#32;&#117;&#94;&#52;&#43;&#49;&#50;&#55;&#53;&#92;&#114;&#105;&#103;&#104;&#116;&#41;&#32;&#117;&#94;&#50;&#43;&#51;&#32;&#92;&#108;&#101;&#102;&#116;&#40;&#51;&#55;&#32;&#117;&#94;&#56;&#43;&#51;&#54;&#54;&#32;&#117;&#94;&#52;&#43;&#52;&#50;&#53;&#92;&#114;&#105;&#103;&#104;&#116;&#41;&#32;&#92;&#108;&#101;&#102;&#116;&#40;&#92;&#116;&#97;&#110;&#32;&#94;&#123;&#45;&#49;&#125;&#92;&#108;&#101;&#102;&#116;&#40;&#92;&#102;&#114;&#97;&#99;&#123;&#49;&#125;&#123;&#117;&#94;&#50;&#125;&#92;&#114;&#105;&#103;&#104;&#116;&#41;&#43;&#92;&#102;&#114;&#97;&#99;&#123;&#92;&#112;&#105;&#32;&#125;&#123;&#50;&#125;&#92;&#114;&#105;&#103;&#104;&#116;&#41;&#92;&#114;&#105;&#103;&#104;&#116;&#41;&#125;&#123;&#57;&#32;&#117;&#94;&#55;&#125;&#36;&#36;</div>"
      ],
      "text/plain": [
       "-\\frac{\\epsilon _G \\left(\\left(673 u^4+1275\\right) u^2+3 \\left(37 u^8+366 u^4+425\\right)\\\n",
       " \n",
       ">   \\left(\\tan ^{-1}\\left(\\frac{1}{u^2}\\right)+\\frac{\\pi }{2}\\right)\\right)}{9 u^7}"
      ]
     },
     "execution_count": 1675,
     "metadata": {
      "text/html": [],
      "text/plain": []
     },
     "output_type": "execute_result"
    }
   ],
   "source": [
    "TeXForm[DeltaE]"
   ]
  },
  {
   "cell_type": "markdown",
   "metadata": {},
   "source": [
    "<span style=\"color:red\">**TODO_3:**</span> Обсудить почему при малых $u$ значения $\\Delta \\hat{E}(u)$ безгранично растут.\n",
    "\n",
    "Предполагали близоть к Ньютону.\n",
    "ПРи малых скоростях эта близость приводился бы к энергиям близким к нулю.\n",
    "Не самосогласованные рассуждения."
   ]
  },
  {
   "cell_type": "code",
   "execution_count": 1676,
   "metadata": {
    "vscode": {
     "languageId": "wolfram"
    }
   },
   "outputs": [
    {
     "data": {
      "text/html": [
       "<div><img alt=\"Output\" src=\"data:image/png;base64,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\"></div>"
      ],
      "text/plain": [
       "FormBox[InterpretationBox[RowBox[{RowBox[{\"-\", \n",
       "\n",
       " \n",
       ">           FractionBox[RowBox[{\"425\", \" \", \n",
       "\n",
       " \n",
       ">              RowBox[{\"(\", RowBox[{\"π\", \" \", SubscriptBox[\"ϵ\", \"G\"]}], \")\"}]}], \n",
       "\n",
       " \n",
       ">            RowBox[{\"3\", \" \", SuperscriptBox[\"u\", \"7\"]}]]}], \"+\", \n",
       "\n",
       " \n",
       ">         InterpretationBox[RowBox[{\"O\", \"(\", \n",
       "\n",
       " \n",
       ">            FractionBox[\"1\", SuperscriptBox[\"u\", \"3\"]], \")\"}], \n",
       "\n",
       " \n",
       ">          SeriesData[u, 0, List[], -7, -3, 1], Rule[Editable, False]]}], \n",
       "\n",
       " \n",
       ">       SeriesData[u, 0, List[Times[Rational[-425, 3], Pi, Subscript[\\[Epsilon], G]]], \n",
       "\n",
       " \n",
       ">        -7, -3, 1], Rule[Editable, False]], TraditionalForm]\n"
      ]
     },
     "execution_count": 1676,
     "metadata": {
      "text/html": [],
      "text/plain": []
     },
     "output_type": "execute_result"
    }
   ],
   "source": [
    "Simplify[Series[DeltaE, {u, 0, -4}]] // TraditionalForm"
   ]
  },
  {
   "cell_type": "markdown",
   "metadata": {},
   "source": [
    "## Условия захвата\n",
    "\n",
    "На бесконечнос энергия объекта была $u^2/2$\n",
    "\n",
    "Если $2|\\Delta \\hat{E}| > u^2$, то гиперболическая орбита (или параболическая, если $u = 0$) превратится в эллиптическую за один полный оборот,\n",
    "\n",
    "далее тело уже не сможет \"уходить\" на бесконечность.\n",
    "\n",
    "Из-за ограничения локализации точнее условие захвата поставить **нельзя**"
   ]
  },
  {
   "cell_type": "code",
   "execution_count": 1679,
   "metadata": {
    "vscode": {
     "languageId": "wolfram"
    }
   },
   "outputs": [
    {
     "data": {
      "text/html": [
       "<div><img alt=\"Output\" src=\"data:image/png;base64,iVBORw0KGgoAAAANSUhEUgAAAwgAAAA9CAIAAACGONnDAAAAzXpUWHRSYXcgcHJvZmlsZSB0eXBlIGV4aWYAAHjabU/bDQMhDPtnio4QEnBgHK5HpW7Q8WsOqoqqlogd54ES+uv5CLcBjRJS9oIKCJFqqtooikxMjlKv+PFsuZsf7JwiNlr5W0Bf/rH7jslafhaJTmHjB2pLa2AtMp1+bDM/Vr+2UvZFJhvqR8T/eTJXZERPjEnFHZW6BEoSskp2PHAH2BhxqqQ7ucOdY/DRYW0MDmj3vbsHGI1znGDjZWtkY4xWOMqTqbPh8kWPVb0OCW9YnVq5c51ROwAAAAlwSFlzAAAWJQAAFiUBSVIk8AAAADx0RVh0U29mdHdhcmUAQ3JlYXRlZCB3aXRoIHRoZSBXb2xmcmFtIExhbmd1YWdlIDogd3d3LndvbGZyYW0uY29tXKKmhQAAACF0RVh0Q3JlYXRpb24gVGltZQAyMDI1OjAzOjE4IDAxOjU2OjAwOynfcQAAIABJREFUeF7t3Xn8ddX0OPAylXlIoTJmKBWViEoyhCQloTI2yZCiKDQQRYMooVKaFZkSEaWQyFyEMhNFhWTM+H0/v+W1nd895567zx3P/XzO/uN5fZ579rD22mvvvfYal/7Pf/6z1PyUq6+++h3veMc3v/nNG2+8cbXVVttss8223nrr+QG/g7TDwIwxYL+fcsopZ5555hVXXHHHO95xrbXW2n///e9zn/vMGKxu+A4DHQZahoHrrrvu0EMP3WijjTbffPOWgTZxcJaeI8boAx/4wA477PCXv/yliJWtttrKKX/zm9984qjqBugwMOcY+Nvf/uYtccEFFxTncZvb3OarX/3q6quvPueT68DvMNBhYDwY+N3vfnfYYYcdddRRf/7zn48++ugXv/jF4+l3fnq52byA+vWvf/2FL3yhN+7uu++OjX3a054WkH/kIx+xhPMyiw7ODgMzxMAuu+zy3e9+9/TTT7/22mvPPffcbbbZBjBeGnvuuecMoeqG7jDQYaA9GDjyyCPXW2+9E088EVfUHqimDMncSIye+tSnkux9/OMfX2GFFQJHJ5xwwo477ugPv/zmN7+ZMuIGDvevf/2rk2MNxFJXYWoY+PGPf7z22mt/7Wtfe9CDHpQG9cCwp+585zt7I04Nkm6gDgMdBlqLgSuvvPL+97//t7/97XXWWQeQC1hi9O9///tmN6uWDc2HxMipff755x977LGJK7Jg1GqPfexj/eH52zbGCG1tt912rSX9DrBFiIHvfOc7xxxzTJErgoTHP/7x/sUYLUKEdFNe5Bj42c9+ttdeey0eJJjvq1/96oHzdUR40t/1rncdWLOywsEHH8wIeLi2k2i1zz77/OAHP6jsmcny8573vN///vflr/PBGOEzXvaylzEU7ZnABhtsMAlUjtjnF77whWc961mHH374iP10zTsMjBEDW265ZZlZ//nPf26IbbfddowDdV11GGg/BpzS7FN322239oM6Fggvuuii6cz3pS996Ste8Yr3v//9YwF79E4s8XOe85zPfOYz5a5WXnll1gWPecxjfvGLX/R+ZXw9v+V1r3ud+eBt2zOFL3/5y+Dh8tMekDpIOgxUYuD73//+7W9/e9q0v/71rx2KOgwsHgxcfPHF97jHPSiXF8mUY74/+tGP8uebeAWqtPxWUZOG5773vS9nqaYNJ1TfXFZcccXPfvazlf2D8373u98111xT/DofEqN+bONll13mU3ucCRHEM5/5TOLZHoXF6Gxv10OHgfFiwHHgqcS+Erkuu+yy4+28663DQGsxwPTiGc94xn777ec6bC2QYwQs5rvvvvuussoqY+y2piuqeewUZymuHtMZsX6Ue97zngcddJCr+Ze//GW5JvUOZRSpEpOj/32dEI82hW6xeLe97W2d6fjBKQyXMwTkWoN//OMfOZW7Oh0GZoIBjpwPechD0hGw9NJLv+ENb5gJJN2gHQamjwEPafTvFpz+0DMZkUh4jTXWaDrfUSRGMU3jrrnmmv/85z9nMuvyoI94xCMe97jHVQLzk5/8hBW2EInp6xxLjLD83rtvectb8CJtYEsvvfRSjtC77rrrLW5xizbA08HQYaASAzwYUCmjvZBrOgsOOOAAcuYOXR0GFjwGPv/5z3PDZATjPbDgJ2uCTKnOPvvsmcx3jz324PBx0kkntQTP4BHC7ZOf/GQZHoo/JphvetOb/vjHP/73a0u4uaZgWG8s3vbbb9+04eTqs2BlzH/99ddPboiu5w4DY8SACEYRykh59rOfPcaeu646DLQTA2QGguGJdNpO8MYO1ROe8IQ73OEOQxgRji4xMpcHP/jBouo3FVaNHQnRIU2ON6EQTZX9i+vmGHz7298eX+dSYsTtkNJ0k002ec973tMSbhSnedZZZz384Q9fbrnlWgJSB0aHgXoM3PrWtybjXGmllVQLc72udBhYwBi46qqrLrzwQrzCMssss4CnmabGpIaMxHxnZUQo+qDLmhSjDdimyXnyk5/8la98pdJ7n8GlHACnnnpqgDp/jBEWhJKY3dyHP/zh9iit2G3gyuG9DRTQwdBhIBMDFApPecpTVO6CkWZirKs2vxjwDCAMWDyntPmS1sxwvptuuilqOe2001pCM4GKSnjwjhtvvLEITHx1548xIg1jQw5umkKW1y1BNzAi/xTzrvaA1EHSYSAHAw996ENVe9SjHpVTuavTYWB+MfDpT38a8Ouvv/78TqER5DOfL70Vi5cAow0llr4fPHF9x1U+TxIjzK84lYJPnHfeeXe5y12KiGaCffzxx88Q9cIXGZ3x/wxh6IbuMDAEBsT+12qLLbYYom3XpMPAvGBAjibJkm91q1s98IEPnBeYR4Ez5nvLW95yhvOlrBcjgAbzV7/61ShzGVfbe93rXiK3fetb32JkVu4zru+4ypsxRsISsNyWa1eUgl//+tfjAjezHyE1BV8R1Jz/F1OpKJSCTO5BldLKZvY2xmq//e1vf/jDHyJBkTTH2G3bupLHF6rbBtU8wuPMQreCrsqIzGdkOlOQNkd6yB5bop/+9KennHIKJwbWANMBY3Kj8Ll94xvfuNNOO8miWBnmf3JDz0XPi3z/8pDixXzve9+7PQYYo5PNn/70p7e+9a2V1H755Zf7ar4upiEGuvHGG6OVw2qI5qmJtGuJ2xiln7G0ZTmAUaN3+sY3vlHukG+aHy+55JIln/ItwM8888zb3e527J3lodxss804ydPG5Tcfsebee+9dgxqxm0bsf5TmgUokWN8J/SUztFEGmmFb+wRJceiYIQyzGvpLX/qSS2Vco990000bbbQRgklmPYLWj6vzmn5IVWMHrbvuukcddZR7ggmCeLi8KR2gQwDQKnrmg82i9rDDDvPgw266DNggDjGphdpkQe7fRhvzjDPOQPzsSBbGEmPyUPvyyy9vUpWR/CIpB5vi4eabjgs2iMP1EK08VIBBcjFKJ2Nsi3UBz3HHHVfuM2Q9jmWcUy5jRChCeyU3WXRnVUjJnLBjhLimq8rYA0U+iXJtOpBUjkKOBRgayhoYiBM5LlJbzBDOUYYWxtQcFydj9L3vfc/ajSuOKKkGG0D5C+2pQw45JMh4CoRBB20Wadfc7W5347rMSWc4qmgbPfPGkFI6zUWIJrnBh5vagmy1IPdvo40puSni9wxYGOtLWyL/lwiK/RijQw891KchwnC8+93vLgaA1YlRiLeHw5uI23rYeeedh2s+9lbBqAmCWO6ZbCyiW/Gky1WlnXPOOfJdpKStHNtE0faMdrDWCHLG9Ylxez2CeCSOa6wh+omQD8JF9GvrRU5VwUAq6Hjuygc/+EE6l8jEvgjLaquttuOOO3pq/C/81whYINsIUY2XhnQcD3vYw3RmK43QZVZTrAPeSNZYsqI//OEPnkeCOnpAZzX+/yu1jZ5ZH1IUUmcnsT8fE16iQ0xtQTZZqPu30caMU9rTbmEs8ZOe9CQBax7wgAf0m07kh77Tne7UdL4veclLKNyLF65n2zHHHNO0n6gfCA9g2lACnoqsseyKbnYzFkgBbS5jFK7/0qOmuYnZ42/mXW2Y7WxhuO666wBQwxjhl0nngnceWITdG1hnmhXIBugx2cQsNo9ut+wNN9wQqIYBj4kddthhRMy7wtnnySWU+gnjnh5nghFH6dfczmd+yMawhlZzhm5EzzkdjljHvBiPi9ry2te+FoaFKnGyA3LEbifaPHObZ1arAXXh7d/hNmYoSkak/ImSxHg7b8l8gxGZvkVyP2QGAfSDJ7660JfGGOasB42jVPbkcqG5VN75zne+/OUvZxD9rne9K6eHBVyHjQijje222+5973tfeZrYT491Jq4yqfVDAgdCclGMOQaUTtfdqSZtS00ES+mCX/SiF6UOjUJWTPBAQcPejdEVmeHoYe9dMwRF5KhCJHujuHISrzDpBaU/RWzwVjkQ5Ehtw8yF8YSHI3HO1ltvXazZCHsannjiicVnjYnLHoDgUXh069ntvzJUjzf3pEUUV4PwVlTWSaN0LP33o+eBFNh0RRpBy5qS9Isoi1TbGnmEyHkyOv3XwDBwvuW2ldt86Go5+Jnh/gWe5XAq2i9HHHFED7QD92+qP66NSe1A/SQt4Otf//oy6tyDjNIE6b3yyivtRDEsWKpRN+cgeYZ1BDoWQo/8o5wXy5HoCN1///0l/JkhhA43qhKSrcqwitMHjGEWOf2jH/3oyrCT4HR6LAnzmKnDu+iii8zBZUybEE08zvximMweFnC1UFu+4AUvqJzjPvvsIxx2vyD0liHMwZhE2JYJvbqq3MCJktippOE+9rGPMfnqIbJ+8DRaCMzWc5/73GjyxCc+cTo2RnjERz7ykabjYKqEFsNEmdsz36222qqYsDAfe4ZwyZV9VQTKwgUmAP7+97+Dx6ZqhMD6ytxJ0EalwnuMo4y3q0p6zqHARisyBMzppLv73e+OYx6ih/wmOfMt9lazzYeolg/nTPZvAo+3o00qRFYPwDn7N5qMcWMyQwbMgQceWMYek1k3Zc95Qoh7/vnn56N6JjUdesCuNH9kcucTi8aZAJYGDZt3/tqzBSONLukHePqZR6+66qq+LpFH5IP7/Oc/XxsmxizMI8qi4g7L72Gh1gxREDOU8gTdpo5porXKuR900EFcaSgC8PV0bcU67vhw/vcUIKrBBqUSetBjjz026nPLxCUwKhRMgeCB92aKGsBDZxSckz+JgcEeJTqZAmPkHHR+kQDFW7+SMeIUyYKEjY4nHQPDYpgGcs0ANR97Uf+Vr3ylPu2KYnGR92Bvzz33pE0eY6IlUg1Y7Vn6UZZs0m0r6TmHApuuSNOJYDFtE5dBxHDD1HJZatpJZv2c+Ra7qtnmQ1TLBFK16e/fImy8mOOO6GGMcvZv6meMGzPC9+EUywgkX/eJqP7Nb37za17zGmdLQO7oZllbg3ACOS7J+Ssy9po1jFG8LdOROPahMzv80Ic+BAzPv8z6k65GtwOe1VdfvXKgMAIW1qQBY4QIIvgK4yzBVxCN+5jiZtIzaX//kYmT3KgMKv2LT9zWyp+SORuxf/kr6RFLlLKXuFXAKuGlWJtGKwxrD0+WgjRY4FGwxzcBN4YPjsJd37j+SDzZKJ1XtsWEMYnwKdidSsaIgM0Zl6av8nvf+944yMjAo9t87KnsThWHgiBk4HRIrY1CYTqwZk6Fk08+mblP4jtzmsy8TiU951BgoxUZYpq77ror8ykCV1ymvy1Tv2yRQ3Te0yRnvqlJ/TZvWq0R8NPfvwk8uzgZ0vUwRjn7N/oZ78YkkkcVnlI9OMSo+Z3CLv2OGYpw8AoXrRqcY7PYCDZalMzK+DOq4XLpea3VMEbh1cHvNXPECVWLM5PtzoT6b9ptWP7wWq1sGO54b3vb2xowRsWO4iryEmoK1oKsX8MY4SMhiltpz8S9M8Rg9YmApKgAStUQdGUglojLKRBOqskRlyi4p/9wRmCgMwrC5UYmT05FhwQ5/rvhhhuO0m1O2zBzLjNGGHEyNqFLezoJubHCqs6nfOypHBE7yNsGAsbvSU0KgoE1B1agm/ZqYWkxsGarKlTScw4FNlqRplPGDAnoUlwXXJGVIoBs2lVO/Zz5Rj8Dt3mjajmwFevMav8yjrYf8UOe0FahyBhl7t+YxXg3Zj/GiBj46U9/eg9u2RfGeSKacT+0f+5zn6N/nxBjdPHFFxO5lUuPHLRjjJpuigkyRq4QsiIWvqPrFKje3RBN59a2+jWMEV2m3dUTQO/6668PbRc+w13baDq2sYb1oiCWMXr2Yrv22msbdV5fmai5qY0ROcGrXvWqIVRF/Rgj58Iee+xRhjN5/AVj1K+UsSfcYpKcE8WxFaUo6dc8PMC9JkfEqtDtZLb0nqkfDvyZG4GbEpQyqxwRhuGaV9Jzuat8Csyh54GgEi0geN7LqSYbWyuVH4F2aEKNESvnm7nNM6sNRMLAClPbv5hg6n6xIZgQ9DBG+ft37BuzH2PkqCk/XI1OOl7DGHmghkiMAIwUXyniH0cuFga9SnGPFyuQqKXDWcT2mjOnflkXEmM0nZOtAWNEK/GJT3yClRYsF21LySFYWCvXXHNNWh6cLJbIHguVx9CFdSQfHx7gskwM3cnQDQlpkKMgTJ503JqG7ica9mOMGGQQb5SliMnXTPglPsYOZV4bn/rUp3L0kuJruwPqkc9R2cHEBaNmXo0WPfoZ4mANl66yQGsgwvsxRv0acpk0EAOg+p7L2Ct7vXkFosl+Gi4CM1GVK58EiIoSU0xVs+Yb5WJIwDgi7SMOGn7BCpPneUaTcCjED8yMVlpppcxnhvPUTCXGGYjDsVfoR8/lgXIoMFoNpOdMQiV5tXA2tT7dUkSqW265ZT4GhibUGKJyvpnbPLNaz1wy0VJsNZ39awvYIKGZKjNG+ft3jBszBu3HGFWC5AkU0Uk4X5creNiUU5hLPqqm83zzzTdHiigwxNieQEkw7EzgrsT6xxlOI08xndJrUu5IKJZPsVEzDKfAU244d6q04U42K+VZUlkqkdmAMeIcHkSjsD5L3TnH/YI+XBIO/Y9+9KM4ANqNERU0WGk3gZ7pklwMTUUmTUmnpz7+A12GC5KpgaHSAKjRKP0YI5H0jEIO0dNbsPnlQh5Tj1ve8lrVGE+Ql4QhoVsBA14zi5xF72luwzeVGA193zRljMKzr17JVYk9TqTc/pmuF6NC6wqRVKo4I59OWZcHV5CPEsI90LmJjUgIjDhsJD1+7BkoyICRaSbJDXd8ZHZeX60fPRdb5VOgVgPpWZ1MQjUumredUak14mRUZEwHTn9oQq2Zb+Y2z6zWM4VMtBRbTWH/egK54FOCpnzGqLx/x7gxh2CMwvAIh0enUSYeEkoB/GIjCx/vb4VagA4xjFSSLxhBg/8mywfXKzPk2PIUnZ7NjDgTb1QUeQ6k2C9+8Ys0gOGkggcq2xIteMaI5sopXRNdr9JwvgFjZA3CckUp2thbJ7+EhtiBzq6ILbC1H7hmlRU0ZKAeYSHJM4jQMdfDdTVcKwCESS8RDktb8Sri6uqRgg7ReT/GyBvCcOi+2Ce9UgoyxmLDFQsSqjH2v7EEWLd+MLhZVSjbD6pP2iQiTtFpX/gQ4aprpjNw0YdARU+Toe+bRowRiSZGhFtZfdaOGuwF2JpbkbTTio+ENK+wyqxxxuQbpUIxmAIha6ysMDajo3SGjFElPacZDUGBA1ckOs8nVE843FuO5HV0Qq2fb+Y2z6xWSTb5aBma6pruX9uHkUC6kDIZo4H7dywbs5HEKDS8nEZrUBceTMKnpTokN7HTacbjR2Ed/JflSbo3ac2iDvY9VL0uIMoTv2Drh7A66AfhwmaMaD9doxDr2Ic6MngimzDbpeL0dz+H/GaMUfiwGSm9kr23Qsk6epAVOgL6BY7feuM3xGQbxz30Xh26YZgdwFrlc7/YLQWztyycAJW00z7n7SKTQ7+h+zFGYZDfs0LxFlEETix2uCSo1P8rNJX9Boo3SuUjBpCig3AZE/IrheShX6hh+ya66DGFpgdrmngjxijiSAlQUU8bNdgrNnSWpQ1W7jCselFF5ViwHWkdi/G9BJTyi9dhvQwvk7BnyBhV0nMCewgKzFyRdhJq/Xwzt3lmtUraaBtamAS4MigEErSZjFHm/h1lYwIpnzFy9zkBMC71HHYwRsX85W46pz1te/LkSOvr9RtoSQFyi65LSZ1KTpZ5DgystoAZI8csCQuHQRJKV55VCLwxP/V3/fM4kzH6b0qQMMJ3jxafy4b34yhpyJjvuCFQGB08lpn4l1Uac5CmCVy0xUoPLFATvEW5UMkTb/rdI1WWt37VDEGpgUH09CEktz3IyTBzbrvkA9+vbfl371c/9kQOtJZRMwKupCKO4tprrx18jydUuTfiOqZ8JBbc5stfMXyeHWyQieVYF0WKCctqQ/YDeBKLjigtcSpxChR/8fdYMo6lSbFZPuGEEyjRGAbVLE099ooNiRXDYgn7TuTW02esZqxsuXjHRH4YAvb4qoeIh265y0E4awBOn4zVg8CArfgjm7P6rmyNgdtHhZRrrLK3SnpONZtSYP6KtJNQ6+ebuc0zq1UuR6vQ4sjC37iZEuXn0LY6mftXzVE2ZiYwqrn1CIrIIfBhOYl6itHVPX5wQtgpajI7lOVoGDYUT4zKaOwiTUS1aSb4M9OcM6G+Tv2JUY/2oU82L0yqQz6PJEbuOxd62CqQzXtrlYOA56/+/2qGKC+euRYy+FB3c9ToMZUYyKUWK/C2SBn7SIwqLTYyO8zMUYWJ6dchLUbMiLEnxaTdy81SmMqiTY9Lnd4Q4fZYHTF01dAx1K/zfhKjJXGillqqx7mdfWhAUo7BmqbJEbQ8VqirMyOZpicIMVK9bGOMi96PXeihy8q4TT1AZkqMsB1Il/ZqoAi6EfYcbQFz2fkr4ucyS6rEKlNNX52nSXIe4iJl6NgWOPWcjV2/vyJy/cBSH4ihkp77bYqBFJi5IpM4ncZIqGn6PfPN3OaZ1cpIbhtacC1OTmGOiRVTCbUyEXj8Utbs5+/fwMDQGzNfYuTlzLQoJ+Z1SIxcIj2r48VCEMA0gvVYbBmFEVJUS7RXPBDS9dSTvTXzfqysNlBiFPfaiGWgi0NNHKPRT7aInxJBLPGUFk6MsXqkZUqMluRKI/cL+y/q+fjDTY858If8Mu6G4XCnZ5F4hMAiayEiwt8NnX1GD4QlA8EgxsT3VFY7/PDDw6ABR+k1EMULXmjEiFsNrebunMIogLPYCQ6PvY5/Q8NSLkx38R8eTPi/4leBEIXB4KDEUC797srE5zJv8i6JezQVyqAQBmLC2Ov1DERQBDyL5TkyEBUcHCIigEgY6dVSbDWJRced2O3FUegfuR8KVuYtlX7nrBHsRU2xLuRAVMU12QdJnohh8O6k92UnkVGwpy0bSboSRgARJD4V64LJsLtSDrXiV6j2gqHNjHivNlQYYyqUs+FC0rScd955yUpJW7MWf4xGjxlT6ooKg8q7JjWYGwW3PXBobn01S1NJz/36HEiBmfTcckJN0++Zb+Y2dzgMdxq0DS2RZKqewDwnQrkWpdH+Ta2G25iaYxScRQw0axiCk046ycmDvUupHWpmZGvb4MX8oSq7CEivrSlHVItrxGBQMEZhX0uLEvICR2VIphU2i8FEYozSiTFwt9ZXcBu6N0lW4gVSLqydavQJmaNzp40Q2/0Kny0MIiVM+TUy+smGu+DtS/XpgnYsO5yPP/54K1gDDwWcm5eLwBVXXFGuRiEjY+l/AzzG9ZyiBjN2sTaRiwo/MQrTGm3NP+SreBGMQqWJzOij1PcQeZoYfferFtRDb1hZoag4L1foJzGKNDHlVEHBfRaDNEafEdBMKcZHiE+hyHNJ5yPKJadJPwv3SS96wDk5GyOcZTh05FjaNsUeIzMqM8xW2dXAasJqON73lPSIxzbFCwZ4UZ/aZWivhZ5RZmhj1I+e+9FkDQXmr0jLCbU49575Zm7zzGo9SG4bWjwmmSH3lFD6exXH70Xng0b7N819uI0ZzQfaGJESeb/lh/UPiZHDP4GHqsMwN1z307ntlxZKjPKvklFq5ke+HuJks6b4zgAPkwTPA53cMyVGS1YxnpLBu2C+kDj/Jmo8/+WY5iVEx5TJP1ZWw21gLFCGQBoEzpg1XDZWepQ+m7YN029vlCSMLfZAHLWESVxqqeKDplihqeI82oYpFTlKD7Th8kCMxPKp+Cks9TC/0q30NIlUDP08e8vYwFoRcSEaHH0lria96E0XqFF9LIiMzWgVz91jB4C59GgYEXvSkdJM8YaNY65YYjUrjeSSgRGzenWssmd0eCASkukquRE1mmx7Kvej50oI6ykwn57nhVDL883c5pnVepDcNrQQtFvTnmIHAVvqw/g9orQoTfdvmvtwGzNnBxHo0gpxRHX3FeszFYqgpv0Kg+v0iZDb1Ahuw0VDSV/d3DlgdHXyMUAZgosQkjeaYDBgvt99l99t1Fxy7ocRn7vfVYqUyU7CPJYig+KJLY4bqGm/5foEiTRrLg9WF/wX3Nn2CYZp9J5zeqBzCW0OUWq5PlWFi9CDz2TTV6SMKUxFkK6cgYp14iIp29PRg7KztoUkfC3WFxbWf5PcqPgpLhI6mjIMjAQJMJIVZ1Q44IADyPwiElVlmc6iN8VYqk/g7O8w/y8XgiiqXiJx/rEszaOQdLK/5qRQTCsbbfthD/fPV5HNE7OANIqzjNaVBV94/fSU2BrJeK74NVC64oorYv29O8nSeRuEFtXbgDVbkpwPjZbZNuxHz0NQYA0998yxhYSaOd/MbZ5Zrf1oySfOgft3vBtzIGD0kh4z9CSsFNJ5wgyAwsTOZXhX2QMdi9/jcnRZuETiqPd3HLweUeHxo3BDccXEj/FL0Ww53REEaQOh7SrAAAzbOIyKOC0FQiK4a6iGxlCS5g8FYIPE4XUbhcUoKYs4aXR4o0jSKtvS7zCmicg95RzmYx+uKGozIlSKFUSb69UVCUHDsgfzVByaexEeMdgppks1Vs/9VGnhoKRteUYYRJIhHC6DcTex3RKa76JgNrUK6RrnvnI/Fit8nWgJGTmZEe6K5bLrWTTzfpic2qIPp0pzTCTOI4mg01z23nvvGroves9GkxrsIYPoipJ3//33x/s63XDwUO0FWYm9yB9S1nWqHLaEIKc1wGST/yWnNvItKzKWwF1DCJzHtaEq6XkICqxZkR5QW0iojeabuc0zqyXktBAtlTQWZp09tgQ5+3e8GzNg66dKw9mkpECVB0u/LIqRCU4htHB7UoNgquIXFzbLG0dBaNIVXBQjdAdCkgUUQ50lnAyMOZK/lwcaX+d3NUrNSajSUiY71r0JtmSV2+/ojpqZqrQl7G045Lsb8EAR9iaEFq5tCzZ6/MN+aKXVItigwxoF743annPOObifpAfBUrCP00MwgkUsp24j0nF9aL6aXGmucnOOAAAMVElEQVT8MPF/lUCaPvkcxostizp2EWlHJbZD0kDkXtmPrykigN48evBYA/OcTGfR5TlHRfnxe4AtoXRROwYtHnNE6DH3ga4AlGs9WKrBHjl5ivke55cj0i7oB7DVYYCvTuVCJBN7uoPIvoTDC2JDReV8TI1IN1Um1tWhjTlc8xFbVdJzUwqsp+ceCFtIqI3mm7nNM6sl5LQQLWXSCsPNoqtj5v4d78YMwPoxRvUuEXFBVBYcVYSxpiX3KPW4dT4wxgjtOTNeVxuxkGeqMxBjxEMN5RQjNTuraSSKxsvR1YibNJrPHWOUf7Lx5oFhEodilugk4K9Mvp5Q2oAxsiexsXQEqbHlFAVxiNQtY1nRKXTiyUX3lLgQpvsQTbXXM7Qnvt8HWs7WMEahZe+XeMtwxEVEC7yfahhQ5uo4g5qMsOS07l2yxHwL38Wz6PXYg3auGbLmEU1VhpAvkkS4yElf0I9ExebhqFL8atX8OEqsiilsh/wh+tFzIwocSM9FeNpJqI3mm7nN86up2U605BPSwJrj3Zg1jNFASGoq0HzRPPScG3KD9MQYJGCe/gkwd4xR/kLAJ118ObkkhzL+ffWXYAPGKB+ghVqTsJTwE6dPWVCc48knn+widBnUT7yGMQrZG1nCQkXdoppXyISIORfVrIuT7eh50S59myeeszEHeqW1eYJDwDZexoi3lzxaVCuiDPAZyocnX5WW3+coNTMZo16nm1AoLLZCpEmBQo8jBEKY/SpEShGXaKBLWmiyKi2FBUkiOxXLYbGhdEHOlzsuqTiDoQU5u5xJdfScg6WuzpQxkLMxa07pKUM7neE89fvdSk0BYIfuiuQPT1KAPfJ3RFbMKXEtBjBtKAFPTzqKBFj62jFG/8UJMYDYXByquRRx/hLgKyxFWPZEBMiaEubP4XTQUzg30bzQeraBJjoYRsSAsI1MJsPsbHGWjp4X57q3fNY5G7PmlG757IYDL+ZbDhbTtDeaQSEM+PxSXbF65ptCjRtWPjklABguG1JO/03rxDXdD570dc4YI7nieLFhNdgDWZuBpnyNsMatgJAwvLqQQpj18KhnYzQ0Y6ShmJbiJDE0aQRMV7ltGGAHJrhqckVpG3iZ8JBCu0U4Zjrg7CPWoD3BtAb209HzQBR1FaaJgcyNuTgZo8rneqPVEXbEbehyJGXh+cV7V/P866yeEWkEyVgqL0DGSOgaetPTTz+dOEeoQ55iTnZeAP2i3QyBR4oS8gDdRvCCogdBTW+x5frl/xPrXZ+RBLgr84sBXg98sgQpnd8p8LaT8UNEA1EqHG3eFWyGCMYbhRPr6Hl+CWBBQp65MSOXQwQuXgyl/lbKx4CQe8UkKrY/vVhOet0YIq7F9kiMggCCGMolfZ0biVHEuGRwLlQPEzDPVqe5SEtC4/cLV52/9iPWjEDV/TJT8sAUrEhkDpraEQfqms8KA2JjCGurZPLKs4KzflxRygi98HYi/BK4RvgWPjUESBykM2Hu6DkTUV21KWAgf2OKVwyeZEI6BdhmO0TcSqPPl0lJRByMwj+JdiyC++eUAKCcyyGn7STqBDxBDOWSvs4NYyQGI8mQx26K+Y1pjYAoogyPJTb30MtAkKBtTcpuGSHkQtltt936SZWGHrprOAUMcMpllc+dIf84mAJUTYcgIuLjeuKJJ4rmxdWArIgzpmgr+hGGgIFdfocdPefjqqs5OQw02piRX7zmlJ4cnDPpeeCtNBxUHvlsS/JtjALhAUwbSsBTmWye2CUSSPg6H4wRW58IdrnWWmsVkcuRXsA986lM9DG1ZQgs1+SB99VjnRF3Z4U9tUUZ40D4ic0337w+afMYh5tQV1gf+wUdpv4dcBKex3+FAGk0bkfPjdDVVZ4EBhptzLib60/pSQA5qz4nMV/GsmJzM1KMfMk5JRDeHsaoBp4IQ0BRSJQ+H4yREHyxBj05qkQe4ibj9xQjPGepxl5HrlD6BRgvpr8pj3LggQcOdHAbO2xdh6NjgA63MoHd6D1PswfKMjFIekYUdbecKDcTqo6eMxHVVZsQBhptTO7GwBC1eELAtK3bVVdddbzz5Z62xRZb8EYaGL+miIoIkhzAtKEEAQQx9JT4JHOLI3E+GCOBRGMO/Od7JhPKywj6PCu8489YsAKgmIu0EhjG3bMCsht3aAwsjFUjA2cu0IOESAbuxzXWWGMI/CwMzAwx8a5JGzDQiPzkiGVy64ge3VGrDXMfCMOaa64p2dS45ut286pnjMhle+DQxQph5ZJyxjVqO4nK4CETWnfddcudi8ifQJ0PxmjllVeOacjb0DMfa+8X5mBNvY7Hi/RYeOkgxttt11uHgYli4PLLL3fkOSnEZ5roQF3nHQZmiwHe5kJU3HTTTfnBCWcL8IijcxORBo4Zlhg3/bpio8LikMe00H3F5L6cs9jvKqF4omDisY+zTO5pKkSG4Poi9BFGxPWdbvBBLSb7nYSFeTXDykovOYfhnDFGq6++engD8U3riVglxZvfzXO2du/iKgFDfMjJLmzXe4eBsWIgbK6dequssspYO+466zDQOgwstlM65isyX7+VkK9DXCLFHym3uspSNTAeYLkbbu14oJNOOolSjLhIocHkw59z4fIZ9O4KMNpQ4oLuB4+vZJCbbLLJElBHSTsyzba77LJLYNYfadzTTjtt2WWX9SPWeJrAlMfCGrN/worOFoxu9A4D+RjwmOO7IMiWULb5rbqaHQbmFANsh918XJvnFP6mYNOjme/WW29d0zA95i+55JJULZgDahC/8Kcu8zTOjZqk5qmfcF674IILmkI+ofoC/YCHQU65fxIWgnMRLOPT3DBGwickvSDzKLFYSOcsT6zZzjvvPCFU5ncLBpBcddVV+U26mh0GZoUBLznqM+Zx/NFmBUM3boeBKWNg4403JhqhUJvyuLMaTmQN8y0nok/wCI/p2nIOML2KH72Xwvh4v/32GxFsdk780erT3Y84RH5zExS+iDq1skk4jB9//PHxdT5sjEDMP1AKZY4wIm+Cm6Zwr732OvLII4MxWm+99WYuqcMdYzmPOeaYmUPSAdBhYCAGmBQIkUqE7vAaWLmr0GFgYWBg3333veGGGxpF7ZrriWNuzPeMM87oN4tw6BYQP4WuFf01kklI/zDK3N3XjG4lnW2Jjxf9IENkBFA5qaOPPlrYnf8lCM9nuFpY03KapPjXLXkBCOGIgWOY1kJcdSB1GEgYEObRaSXHToeTDgOLDQMEpeLhLZ5Z066w8cDrlKfsx+WXX94desQRR8TX8MxSeDUx3B4FS9J2cdZmEzxKJ2NsSzOIYajsMKK4SZSUvs6NKq08n+OOOy6W8Nxzzx0j+kbpCkuEFJjuj9JJ17bDwEQxcP755y+zzDLixU90lK7zDgPtxMDVV1+NG3B9tBO8sUMV863c7+GHpRDtxLiSxcYvm2666SiQOGSY/1566aWjdDLGtsyRqRQZmVVyhximbbbZpvhpXhmjyy67LDzuhJwaI/pG7+qKK65YccUVWbSN3lXXQ4eBsWOAiaXMR4cffnhPzzKmydA89uG6DjsMtBADF154oejGbJNbCNskQJJglBNZmS2QadQdusIKK8Sgp556akR78mP5iMgHTNoNdsB4kfwmE62JNZRJrJ8AhZUV82XGOXPPGDFwjsiV66yzzjXXXDNRnA7ROTYceSUefIgeuiYdBiaBAZRJQr7++utLaZzK2WefLZqtrbT77rtPYtCuzw4DLcQAkYaXQAuvjwnhikGh+WIRiv1zWHONhrCEEk360WCVFNol/vlD8I4CZLP4Pvnkkyc0kabdXn/99ZzWhWuqbMjmeoMNNpAVoOfrnEmMaD0POeSQCOpoUa1BUzRNpz5Xxp122mk6Y3WjdBjIwQBnE6/kGmtKOWVz+unqdBhYGBgQ+XDPPfdcGHPJmYXIlnKxF2uGgRGHfE7fnDAOPvjgyH3Ee4sEhSXWEJ728g4VPf9zAJtoHU5R/U42bB8CqDRQXhpMNWdlez7BNVvRs846CxtL/cm2HBvYHvA6SDoMtBwDPDfLgeMTzJ5NvEhaPoUOvA4DHQbGhQGsT+Qe5X1GXCSQwQknnLD99tsT9vBnwhttuOGGPNTGNdx89TM37vo0U8sttxxBH6kX4X/HFc0XnXXQzhwDotDWvMw6rmjmC9QB0GFgmhgQuygc8u39bbfdFlckGmRkeyVbonAv55yeJnizHev/ABL9ZCMo/5ITAAAAAElFTkSuQmCC\"></div>"
      ],
      "text/plain": [
       "FormBox[RowBox[{SuperscriptBox[\"u\", \"9\"], \"<\", \n",
       "\n",
       " \n",
       ">        RowBox[{FractionBox[\"2\", \"9\"], \" \", SubscriptBox[\"ϵ\", \"G\"], \" \", \n",
       "\n",
       " \n",
       ">          RowBox[{\"(\", RowBox[{RowBox[{RowBox[{\"(\", \n",
       "\n",
       " \n",
       ">                  RowBox[{RowBox[{\"673\", \" \", SuperscriptBox[\"u\", \"4\"]}], \"+\", \n",
       "\n",
       " \n",
       ">                    \"1275\"}], \")\"}], \" \", SuperscriptBox[\"u\", \"2\"]}], \"+\", \n",
       "\n",
       " \n",
       ">              RowBox[{FractionBox[\"3\", \"2\"], \" \", \n",
       "\n",
       " \n",
       ">                RowBox[{\"(\", RowBox[{RowBox[{\"37\", \" \", SuperscriptBox[\"u\", \"8\"]}], \n",
       "\n",
       " \n",
       ">                    \"+\", RowBox[{\"366\", \" \", SuperscriptBox[\"u\", \"4\"]}], \"+\", \"425\"}], \n",
       "\n",
       " \n",
       ">                  \")\"}], \" \", RowBox[{\"(\", \n",
       "               RowBox[{RowBox[{\"2\", \" \", \n",
       "\n",
       " \n",
       ">                      RowBox[{SuperscriptBox[\"tan\", RowBox[{\"-\", \"1\"}]], \"(\", \n",
       "\n",
       " \n",
       ">                        FractionBox[\"1\", SuperscriptBox[\"u\", \"2\"]], \")\"}]}], \"+\",\\\n",
       " \n",
       ">    \"π\"}], \n",
       "               \")\"}]}]}], \")\"}]}]}], TraditionalForm]\n"
      ]
     },
     "execution_count": 1679,
     "metadata": {
      "text/html": [],
      "text/plain": []
     },
     "output_type": "execute_result"
    }
   ],
   "source": [
    "DeltaE2 = Simplify[DeltaE + u^2/2];\n",
    "uMax2 = Simplify[2 u^7 DeltaE2];\n",
    "Simplify[uMax2 < 0] // TraditionalForm"
   ]
  },
  {
   "cell_type": "markdown",
   "metadata": {},
   "source": [
    "<span style=\"color:brown\">**NB:**</span> Условие захвата, <span style=\"color:green\">**совпадает**</span> с условием из файла binary_catch.pdf"
   ]
  },
  {
   "cell_type": "markdown",
   "metadata": {},
   "source": [
    "<span style=\"color:red\">**TODO_4:**</span> Сравнить условия захвата на параболической траектории $u = 0$ с другими авторами"
   ]
  },
  {
   "cell_type": "code",
   "execution_count": 1680,
   "metadata": {
    "vscode": {
     "languageId": "wolfram"
    }
   },
   "outputs": [
    {
     "data": {
      "text/html": [
       "<div><img alt=\"Output\" src=\"data:image/png;base64,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\"></div>"
      ],
      "text/plain": [
       "FormBox[InterpretationBox[RowBox[{FractionBox[RowBox[{\"850\", \" \", \"π\", \" \", \n",
       "\n",
       " \n",
       ">            SubscriptBox[\"ϵ\", \"G\"]}], \"3\"], \"+\", \n",
       "\n",
       " \n",
       ">         InterpretationBox[RowBox[{\"O\", \"(\", SuperscriptBox[\"u\", \"1\"], \")\"}], \n",
       "\n",
       " \n",
       ">          SeriesData[u, 0, List[], 0, 1, 1], Rule[Editable, False]]}], \n",
       "\n",
       " \n",
       ">       SeriesData[u, 0, List[Times[Rational[850, 3], Pi, Subscript[\\[Epsilon], G]]], 0,\\\n",
       " \n",
       ">    \n",
       "     1, 1], Rule[Editable, False]], TraditionalForm]\n"
      ]
     },
     "execution_count": 1680,
     "metadata": {
      "text/html": [],
      "text/plain": []
     },
     "output_type": "execute_result"
    }
   ],
   "source": [
    "Simplify[Series[(u^9 - uMax2), {u, 0, 0}]] // TraditionalForm"
   ]
  },
  {
   "cell_type": "markdown",
   "metadata": {},
   "source": [
    "## Поведение $\\hat{E}_1$ в зависимости от начальной сокрости $u$ и параметра $\\epsilon_G$\n",
    "\n",
    "$\\epsilon_G = \\frac{2}{5}\\frac{\\mu}{M} \\left( \\frac{r_s}{2b} \\right)^{\\frac{5}{2}}$,\n",
    "где $r_s = \\frac{2 G M}{c^2}$ - сумма радиусов Шварцшильда двух тел.\n",
    "\n",
    "При прицельных параметрах $b$ сравнимых с радиусом Шварцшильда, $\\epsilon_G$ не мал (смотри $\\epsilon_G = 10$).\n",
    "\n",
    "Энергия всегда отрицальна, тела уже в захвате.\n",
    "\n",
    "Если прицельный параметр много больше, чем $r_s$, то есть $\\epsilon_G$ мал,\n",
    "то находится такая скорость, при значении которой (и меньших скоростях) происходит захват."
   ]
  },
  {
   "cell_type": "code",
   "execution_count": 1681,
   "metadata": {
    "vscode": {
     "languageId": "wolfram"
    }
   },
   "outputs": [
    {
     "data": {
      "text/html": [
       "<div><img alt=\"Output\" src=\"data:image/png;base64,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\"></div>"
      ],
      "text/plain": [
       "Legended[-Graphics-, Placed[LineLegend[{Directive[Opacity[1.], RGBColor[0.24, 0.6, 0.8], \n",
       " \n",
       ">       AbsoluteThickness[2]], Directive[Opacity[1.], RGBColor[0.95, 0.627, 0.1425], \n",
       " \n",
       ">       AbsoluteThickness[2]], Directive[Opacity[1.], RGBColor[0.455, 0.7, 0.21], \n",
       " \n",
       ">       AbsoluteThickness[2]], Directive[Opacity[1.], \n",
       " \n",
       ">       RGBColor[0.922526, 0.385626, 0.209179], AbsoluteThickness[2]], \n",
       " \n",
       ">      Directive[Opacity[1.], RGBColor[0.578, 0.51, 0.85], AbsoluteThickness[2]], \n",
       " \n",
       ">      Directive[Opacity[1.], RGBColor[0.772079, 0.431554, 0.102387], \n",
       " \n",
       ">       AbsoluteThickness[2]], Directive[Opacity[1.], RGBColor[0.4, 0.64, 1.], \n",
       " \n",
       ">       AbsoluteThickness[2]]}, {EpsilonG = 10, EpsilonG = 2, EpsilonG = 1, \n",
       " \n",
       ">      EpsilonG = 0.5, EpsilonG = 0.1, EpsilonG = 10^(-2), EpsilonG = 10^(-5)}, \n",
       " \n",
       ">     LegendMarkers -> None, LabelStyle -> {}, LegendLayout -> Column], After, Identity]]"
      ]
     },
     "execution_count": 1681,
     "metadata": {
      "text/html": [],
      "text/plain": []
     },
     "output_type": "execute_result"
    }
   ],
   "source": [
    "Plot[\n",
    "  {\n",
    "    u^2/2 + DeltaE /. Subscript[\\[Epsilon], G] -> 10,\n",
    "    u^2/2 + DeltaE /. Subscript[\\[Epsilon], G] -> 2,\n",
    "    u^2/2 + DeltaE /. Subscript[\\[Epsilon], G] -> 1,\n",
    "    u^2/2 + DeltaE /. Subscript[\\[Epsilon], G] -> 0.5,\n",
    "    u^2/2 + DeltaE /. Subscript[\\[Epsilon], G] -> 0.1,\n",
    "    u^2/2 + DeltaE /. Subscript[\\[Epsilon], G] -> 10^(-2),\n",
    "    u^2/2 + DeltaE /. Subscript[\\[Epsilon], G] -> 10^(-5)\n",
    "  },\n",
    "  {u, 0.0, 100},\n",
    "  AxesLabel -> {\"u\", \"E1\"},\n",
    "  PlotLegends -> {\n",
    "    \"EpsilonG = 10\",\n",
    "    \"EpsilonG = 2\",\n",
    "    \"EpsilonG = 1\",\n",
    "    \"EpsilonG = 0.5\",\n",
    "    \"EpsilonG = 0.1\",\n",
    "    \"EpsilonG = 10^(-2)\",\n",
    "    \"EpsilonG = 10^(-5)\"\n",
    "    },\n",
    "  PlotRange -> All,\n",
    "  ScalingFunctions -> {\"Log\", \"SignedLog\"}\n",
    "]"
   ]
  },
  {
   "cell_type": "markdown",
   "metadata": {},
   "source": [
    "# Потеря момента за один период обращения\n",
    "\n",
    "$$\n",
    "\\Delta \\hat{J} = 2 \\epsilon_G \\int\\limits_{\\hat{t}_{\\text{min}}}^{\\infty}I_J(\\hat{t}) d \\hat{t}\n",
    "= - 2 \\epsilon_G \\int\\limits_{\\hat{r}_2^{\\text{min}}}^{\\infty}\\frac{I_J(\\hat{r}_2)}{\\hat{r}_2^{(1)}}d \\hat{r}_2,\n",
    "$$\n",
    "\n",
    "где мы заменим $\\hat{\\omega}$ на $\\frac{u}{\\hat{r}_2}$"
   ]
  },
  {
   "cell_type": "code",
   "execution_count": 1684,
   "metadata": {
    "vscode": {
     "languageId": "wolfram"
    }
   },
   "outputs": [
    {
     "data": {
      "text/html": [
       "<div><img alt=\"Output\" src=\"data:image/png;base64,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\"></div>"
      ],
      "text/plain": [
       "FormBox[RowBox[{FractionBox[RowBox[{\"16\", \" \", SuperscriptBox[\"u\", \"5\"]}], \n",
       "\n",
       " \n",
       ">         RowBox[{SubsuperscriptBox[OverscriptBox[\"r\", \"^\"], \"2\", \"3\"], \" \", \n",
       "\n",
       " \n",
       ">           SuperscriptBox[SubscriptBox[OverscriptBox[\"r\", \"^\"], \"2\"], \"′\"]}]], \"-\", \n",
       "\n",
       " \n",
       ">        FractionBox[RowBox[{\"20\", \" \", SuperscriptBox[\"u\", \"3\"], \" \", \n",
       "\n",
       " \n",
       ">           SuperscriptBox[SubscriptBox[OverscriptBox[\"r\", \"^\"], \"2\"], \"′\"]}], \n",
       "\n",
       " \n",
       ">         SubsuperscriptBox[OverscriptBox[\"r\", \"^\"], \"2\", \"3\"]], \"-\", \n",
       "\n",
       " \n",
       ">        FractionBox[RowBox[{\"4\", \" \", \"u\", \" \", \n",
       "        SuperscriptBox[RowBox[{\"(\", \n",
       "\n",
       " \n",
       ">              SuperscriptBox[SubscriptBox[OverscriptBox[\"r\", \"^\"], \"2\"], \"′′\"], \")\"}], \n",
       "\n",
       " \n",
       ">            \"2\"]}], RowBox[{SubscriptBox[OverscriptBox[\"r\", \"^\"], \"2\"], \" \", \n",
       "\n",
       " \n",
       ">           SuperscriptBox[SubscriptBox[OverscriptBox[\"r\", \"^\"], \"2\"], \"′\"]}]], \"+\", \n",
       "\n",
       " \n",
       ">        FractionBox[RowBox[{\"14\", \" \", \"u\", \" \", \n",
       "\n",
       " \n",
       ">           SuperscriptBox[SubscriptBox[OverscriptBox[\"r\", \"^\"], \"2\"], \"′\"], \" \", \n",
       "\n",
       " \n",
       ">           SuperscriptBox[SubscriptBox[OverscriptBox[\"r\", \"^\"], \"2\"], \"′′\"]}], \n",
       "\n",
       " \n",
       ">         SubsuperscriptBox[OverscriptBox[\"r\", \"^\"], \"2\", \"2\"]], \"+\", \n",
       "\n",
       " \n",
       ">        FractionBox[RowBox[{\"4\", \" \", \"u\", \" \", \n",
       "\n",
       " \n",
       ">           SuperscriptBox[SubscriptBox[OverscriptBox[\"r\", \"^\"], \"2\"], \"′′′′\"]}], \n",
       "\n",
       " \n",
       ">         SuperscriptBox[SubscriptBox[OverscriptBox[\"r\", \"^\"], \"2\"], \"′\"]], \"-\", \n",
       "\n",
       " \n",
       ">        FractionBox[RowBox[{\"6\", \" \", \"u\", \" \", \n",
       "        SuperscriptBox[RowBox[{\"(\", \n",
       "\n",
       " \n",
       ">              SuperscriptBox[SubscriptBox[OverscriptBox[\"r\", \"^\"], \"2\"], \"′\"], \")\"}], \n",
       "\n",
       " \n",
       ">            \"3\"]}], SubsuperscriptBox[OverscriptBox[\"r\", \"^\"], \"2\", \"3\"]], \"-\", \n",
       "\n",
       " \n",
       ">        FractionBox[RowBox[{\"7\", \" \", \"u\", \" \", \n",
       "\n",
       " \n",
       ">           SuperscriptBox[SubscriptBox[OverscriptBox[\"r\", \"^\"], \"2\"], \"′′′\"]}], \n",
       "\n",
       " \n",
       ">         SubscriptBox[OverscriptBox[\"r\", \"^\"], \"2\"]]}], TraditionalForm]\n"
      ]
     },
     "execution_count": 1684,
     "metadata": {
      "text/html": [],
      "text/plain": []
     },
     "output_type": "execute_result"
    }
   ],
   "source": [
    "(* Минус учтём сразу *)\n",
    "dJdr = Simplify[-dJdt/D[Subscript[OverHat[r], 2][OverHat[t]], OverHat[t]] //. OmegaReplace2];\n",
    "Expand[Simplify[dJdr]] // TraditionalForm"
   ]
  },
  {
   "cell_type": "markdown",
   "metadata": {},
   "source": [
    "<span style=\"color:brown\">**NB:**</span> Выражение для $dJ/dr$ <span style=\"color:green\">**сопадает**</span> с выраженем для интегранта из binary_catch3.pdf, если учесть деление на $\\hat{r}_2^{(1)}$"
   ]
  },
  {
   "cell_type": "markdown",
   "metadata": {
    "vscode": {
     "languageId": "wolfram"
    }
   },
   "source": [
    "Заменяя вхождение **всех** производных в выражении для $dJ/dr$, получим"
   ]
  },
  {
   "cell_type": "code",
   "execution_count": 1686,
   "metadata": {
    "vscode": {
     "languageId": "wolfram"
    }
   },
   "outputs": [
    {
     "data": {
      "text/html": [
       "<div><img alt=\"Output\" src=\"data:image/png;base64,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\"></div>"
      ],
      "text/plain": [
       "FormBox[FractionBox[RowBox[{\"2\", \" \", \"u\", \" \", \n",
       "\n",
       " \n",
       ">         RowBox[{\"(\", RowBox[{RowBox[{\"9\", \" \", \n",
       "\n",
       " \n",
       ">               SubscriptBox[OverscriptBox[\"r\", \"^\"], \"2\"], \" \", \n",
       "\n",
       " \n",
       ">               SuperscriptBox[\"u\", \"2\"]}], \"+\", \n",
       "\n",
       " \n",
       ">             RowBox[{\"20\", \" \", SqrtBox[SubscriptBox[OverscriptBox[\"r\", \"^\"], \"2\"]]}], \n",
       "\n",
       " \n",
       ">             \"-\", RowBox[{\"15\", \" \", SuperscriptBox[\"u\", \"2\"]}]}], \")\"}]}], \n",
       "\n",
       " \n",
       ">       RowBox[{SubsuperscriptBox[OverscriptBox[\"r\", \"^\"], \"2\", RowBox[{\"5\", \"/\",\\\n",
       " \n",
       ">    \"2\"}]], \n",
       "      \" \", SqrtBox[RowBox[{RowBox[{SubscriptBox[OverscriptBox[\"r\", \"^\"],\\\n",
       " \n",
       ">    \"2\"], \" \", \n",
       "           SuperscriptBox[\"u\", \"2\"]}], \"+\", \n",
       "\n",
       " \n",
       ">            RowBox[{\"2\", \" \", SqrtBox[SubscriptBox[OverscriptBox[\"r\", \"^\"], \"2\"]]}],\\\n",
       " \n",
       ">    \"-\", \n",
       "         SuperscriptBox[\"u\", \"2\"]}]]}]], TraditionalForm]\n"
      ]
     },
     "execution_count": 1686,
     "metadata": {
      "text/html": [],
      "text/plain": []
     },
     "output_type": "execute_result"
    }
   ],
   "source": [
    "dJdrFinal = Fold[ (* Последовательно применяем замены *)\n",
    "  Simplify[#1 /.\n",
    "    D[Subscript[OverHat[r], 2][OverHat[t]], {OverHat[t], #2}] -> dr2[[#2]]] &,\n",
    "  dJdr,\n",
    "  Range[5]\n",
    "];\n",
    "\n",
    "Simplify[dJdrFinal] // TraditionalForm"
   ]
  },
  {
   "cell_type": "markdown",
   "metadata": {},
   "source": [
    "$$\n",
    "  \\Delta \\hat{J}(u) = 4 \\epsilon_G \\int\\limits_{\\hat{r}_2^\\text{min}}^\\infty \\frac{u \\left(20\\sqrt{\\hat{r}_2} - 15u^2 + 9\\hat{r}_2 u^2\\right)}{\\hat{r}_2^{\\frac{5}{2}} \\sqrt{2\\sqrt{\\hat{r}_2} - u^2 + \\hat{r}_2 u^2}} \\, d\\hat{r}_2,\n",
    "$$\n",
    "где при $\\hat{r}_2 \\ge \\hat{r}_2^{\\text{min}}$ выражение $\\hat{r}_2u^2 + 2\\sqrt{\\hat{r}_2} - u^2 \\ge 0$.\n",
    "\n",
    "Полученный выше интеграл **компактнее**, чем тот, что рассмотрен в файле binary_catch3.pdf\n",
    "\n",
    "Смотри подробности в файле binary_catch_integral.ipynb\n",
    " \n",
    "Выпишем ответ:"
   ]
  },
  {
   "cell_type": "code",
   "execution_count": 1688,
   "metadata": {
    "vscode": {
     "languageId": "wolfram"
    }
   },
   "outputs": [
    {
     "data": {
      "text/html": [
       "<div><img alt=\"Output\" src=\"data:image/png;base64,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\"></div>"
      ],
      "text/plain": [
       "FormBox[RowBox[{\"4\", \" \", SubscriptBox[\"ϵ\", \"G\"], \" \", \n",
       "\n",
       " \n",
       ">        RowBox[{\"(\", RowBox[{RowBox[{\"-\", \n",
       "\n",
       " \n",
       ">              RowBox[{RowBox[{\"2\"}], \" \", SuperscriptBox[\"u\", \"2\"]}]}], \"-\", \n",
       "\n",
       " \n",
       ">            FractionBox[\"15\", SuperscriptBox[\"u\", \"2\"]], \"-\", \n",
       "\n",
       " \n",
       ">            FractionBox[RowBox[{RowBox[{\"(\", \n",
       "\n",
       " \n",
       ">                 RowBox[{RowBox[{\"7\", \" \", SuperscriptBox[\"u\", \"4\"]}], \"+\", \"15\"}], \n",
       "\n",
       " \n",
       ">                 \")\"}], \" \", RowBox[{\"(\", \n",
       "              RowBox[{RowBox[{\"2\", \" \", \n",
       "\n",
       " \n",
       ">                     RowBox[{SuperscriptBox[\"tan\", RowBox[{\"-\", \"1\"}]], \"(\", \n",
       "\n",
       " \n",
       ">                       FractionBox[\"1\", SuperscriptBox[\"u\", \"2\"]], \")\"}]}], \"+\", \"π\"}],\\\n",
       " \n",
       ">    \n",
       "              \")\"}]}], RowBox[{\"2\", \" \", SuperscriptBox[\"u\", \"4\"]}]]}], \")\"}]}], \n",
       "\n",
       " \n",
       ">      TraditionalForm]\n"
      ]
     },
     "execution_count": 1688,
     "metadata": {
      "text/html": [],
      "text/plain": []
     },
     "output_type": "execute_result"
    }
   ],
   "source": [
    "DeltaJ = 4*Subscript[\\[Epsilon], G]*(-15/u^2 - 2*u^2 - ((15 + 7*u^4)*(Pi + 2*ArcTan[u^(-2)]))/(2*u^4));\n",
    "DeltaJ // TraditionalForm"
   ]
  },
  {
   "cell_type": "code",
   "execution_count": 1689,
   "metadata": {
    "vscode": {
     "languageId": "wolfram"
    }
   },
   "outputs": [
    {
     "data": {
      "text/html": [
       "<div>&#36;&#36;&#52;&#32;&#92;&#101;&#112;&#115;&#105;&#108;&#111;&#110;&#32;&#95;&#71;&#32;&#92;&#108;&#101;&#102;&#116;&#40;&#45;&#50;&#32;&#117;&#94;&#50;&#45;&#92;&#102;&#114;&#97;&#99;&#123;&#49;&#53;&#125;&#123;&#117;&#94;&#50;&#125;&#45;&#92;&#102;&#114;&#97;&#99;&#123;&#92;&#108;&#101;&#102;&#116;&#40;&#55;&#32;&#117;&#94;&#52;&#43;&#49;&#53;&#92;&#114;&#105;&#103;&#104;&#116;&#41;&#32;&#92;&#108;&#101;&#102;&#116;&#40;&#50;&#32;&#92;&#116;&#97;&#110;&#32;&#94;&#123;&#45;&#49;&#125;&#92;&#108;&#101;&#102;&#116;&#40;&#92;&#102;&#114;&#97;&#99;&#123;&#49;&#125;&#123;&#117;&#94;&#50;&#125;&#92;&#114;&#105;&#103;&#104;&#116;&#41;&#43;&#92;&#112;&#105;&#32;&#92;&#114;&#105;&#103;&#104;&#116;&#41;&#125;&#123;&#50;&#32;&#117;&#94;&#52;&#125;&#92;&#114;&#105;&#103;&#104;&#116;&#41;&#36;&#36;</div>"
      ],
      "text/plain": [
       "4 \\epsilon _G \\left(-2 u^2-\\frac{15}{u^2}-\\frac{\\left(7 u^4+15\\right) \\left(2 \\tan\\\n",
       " \n",
       ">   ^{-1}\\left(\\frac{1}{u^2}\\right)+\\pi \\right)}{2 u^4}\\right)"
      ]
     },
     "execution_count": 1689,
     "metadata": {
      "text/html": [],
      "text/plain": []
     },
     "output_type": "execute_result"
    }
   ],
   "source": [
    "TeXForm[DeltaJ]"
   ]
  },
  {
   "cell_type": "markdown",
   "metadata": {},
   "source": [
    "В пределе малых $u$ для $\\Delta \\hat{J}(u)$ получаем\n",
    "\n",
    "<span style=\"color:red\">**TODO_5:**</span> Обсудить почему при малых $u$ значения $\\Delta \\hat{J}(u)$ безгранично растут."
   ]
  },
  {
   "cell_type": "code",
   "execution_count": 1691,
   "metadata": {
    "vscode": {
     "languageId": "wolfram"
    }
   },
   "outputs": [
    {
     "data": {
      "text/html": [
       "<div><img alt=\"Output\" src=\"data:image/png;base64,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\"></div>"
      ],
      "text/plain": [
       "FormBox[RowBox[{\"-\", FractionBox[RowBox[{\"60\", \" \", \"π\", \" \", \n",
       "\n",
       " \n",
       ">           SubscriptBox[\"ϵ\", \"G\"]}], SuperscriptBox[\"u\", \"4\"]]}], TraditionalForm]\n"
      ]
     },
     "execution_count": 1691,
     "metadata": {
      "text/html": [],
      "text/plain": []
     },
     "output_type": "execute_result"
    }
   ],
   "source": [
    "J1Smallu = Normal[Simplify[Series[DeltaJ, {u, 0, -1}]]];\n",
    "J1Smallu // TraditionalForm"
   ]
  },
  {
   "cell_type": "markdown",
   "metadata": {},
   "source": [
    "## Время слияния\n",
    "\n",
    "$a = b/\\sqrt{1-e^2}$,\n",
    "\n",
    "$J = \\mu\\sqrt{GMa(1-e^2)} = \\mu\\sqrt{GMb}\\sqrt{\\frac{b}{a}}$\n",
    "\n",
    "Момент системы после одного полного оборота вдоль ньютоновской гиперболической орбиты с учетом излучения гравволн\n",
    "$$\n",
    "  \\hat{J}_1 = \\hat{J}_0 + \\Delta \\hat{J} = u - 4 \\epsilon_G \\left(2 u^2+\\frac{15}{u^2}+\\frac{\\left(7 u^4+15\\right) \\left(2 \\tan ^{-1}\\left(\\frac{1}{u^2}\\right)+\\pi \\right)}{2 u^4}\\right) \\approx \\sqrt{\\frac{b}{a}} = \\hat{a}^{-1/2}\n",
    "$$\n",
    "\n",
    "Отсюда характерная длина большой полуоси эллиптической орбиты в случае выполнения условия захвата после одного полного оборота будет\n",
    "$$\n",
    "a \\approx b\\hat{J}_1^{-2}\n",
    "$$\n",
    "\n",
    "А время, за которое расстояние между объектов уменьшится до нуля будет\n",
    "$$\n",
    "\\tau \\approx \\frac{5}{8}\\frac{c^5}{G^3}\\frac{b^4}{\\mu M^2} \\frac{1}{\\hat{J}_1^8}\n",
    "$$"
   ]
  },
  {
   "cell_type": "markdown",
   "metadata": {},
   "source": [
    "<span style=\"color:red\">**TODO_6:**</span> Переделать расчет $\\tau$"
   ]
  },
  {
   "cell_type": "code",
   "execution_count": 1692,
   "metadata": {
    "vscode": {
     "languageId": "wolfram"
    }
   },
   "outputs": [],
   "source": [
    "(*J1Smallu = - 60 Pi eG / u^4;\n",
    "eG = 2/5*\\[Mu]/M*(G M / (b c^2))^(5/2);\n",
    "u = v/Sqrt[(G*M)/b];\n",
    "N[5/8*c^5/G^3*b^4/(\\[Mu]*M^2*J1Smallu)^(8)]*)"
   ]
  },
  {
   "cell_type": "markdown",
   "metadata": {},
   "source": [
    "## Поведение $\\hat{J}_1$ в зависимости от начальной сокрости $u$ и параметра $\\epsilon_G$\n",
    "\n",
    "$\\epsilon_G = \\frac{2}{5}\\frac{\\mu}{M} \\left( \\frac{r_s}{2b} \\right)^{\\frac{5}{2}}$,\n",
    "где $r_s = \\frac{2 G M}{c^2}$ - сумма радиусов Шварцшильда двух тел.\n",
    "\n",
    "При прицельных параметрах $b$ сравнимых с радиусом Шварцшильда, $\\epsilon_G$ не мал (смотри $\\epsilon_G = 0.1, 0.5, 1, 2, 10$),\n",
    "момент полностью \"съедается\" на одном проходе вдоль гиперболической траектории.\n",
    "\n",
    "Если прицельный параметр много больше, чем $r_s$, то есть $\\epsilon_G$ мал ($\\epsilon_G = 10^{-5}$),\n",
    "то только на совсем малых скоростях может \"съесться\" момент.\n",
    "\n",
    "<span style=\"color:red\">**TODO_7:**</span> Нет отрицательного момнета!"
   ]
  },
  {
   "cell_type": "code",
   "execution_count": 1693,
   "metadata": {
    "vscode": {
     "languageId": "wolfram"
    }
   },
   "outputs": [
    {
     "data": {
      "text/html": [
       "<div><img alt=\"Output\" src=\"data:image/png;base64,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\"></div>"
      ],
      "text/plain": [
       "Legended[-Graphics-, Placed[LineLegend[{Directive[Opacity[1.], RGBColor[0.24, 0.6, 0.8], \n",
       " \n",
       ">       AbsoluteThickness[2]], Directive[Opacity[1.], RGBColor[0.95, 0.627, 0.1425], \n",
       " \n",
       ">       AbsoluteThickness[2]], Directive[Opacity[1.], RGBColor[0.455, 0.7, 0.21], \n",
       " \n",
       ">       AbsoluteThickness[2]], Directive[Opacity[1.], \n",
       " \n",
       ">       RGBColor[0.922526, 0.385626, 0.209179], AbsoluteThickness[2]], \n",
       " \n",
       ">      Directive[Opacity[1.], RGBColor[0.578, 0.51, 0.85], AbsoluteThickness[2]], \n",
       " \n",
       ">      Directive[Opacity[1.], RGBColor[0.772079, 0.431554, 0.102387], \n",
       " \n",
       ">       AbsoluteThickness[2]], Directive[Opacity[1.], RGBColor[0.4, 0.64, 1.], \n",
       " \n",
       ">       AbsoluteThickness[2]]}, {EpsilonG = 10, EpsilonG = 2, EpsilonG = 1, \n",
       " \n",
       ">      EpsilonG = 0.5, EpsilonG = 0.1, EpsilonG = 10^(-2), EpsilonG = 10^(-5)}, \n",
       " \n",
       ">     LegendMarkers -> None, LabelStyle -> {}, LegendLayout -> Column], After, Identity]]"
      ]
     },
     "execution_count": 1693,
     "metadata": {
      "text/html": [],
      "text/plain": []
     },
     "output_type": "execute_result"
    }
   ],
   "source": [
    "Plot[\n",
    "  {\n",
    "    u + DeltaJ /. Subscript[\\[Epsilon], G] -> 10,\n",
    "    u + DeltaJ /. Subscript[\\[Epsilon], G] -> 2,\n",
    "    u + DeltaJ /. Subscript[\\[Epsilon], G] -> 1,\n",
    "    u + DeltaJ /. Subscript[\\[Epsilon], G] -> 0.5,\n",
    "    u + DeltaJ /. Subscript[\\[Epsilon], G] -> 0.1,\n",
    "    u + DeltaJ /. Subscript[\\[Epsilon], G] -> 10^(-2),\n",
    "    u + DeltaJ /. Subscript[\\[Epsilon], G] -> 10^(-5)\n",
    "  },\n",
    "  {u, 0.0, 100},\n",
    "  AxesLabel -> {\"u\", \"J1\"},\n",
    "  PlotLegends -> {\n",
    "    \"EpsilonG = 10\",\n",
    "    \"EpsilonG = 2\",\n",
    "    \"EpsilonG = 1\",\n",
    "    \"EpsilonG = 0.5\",\n",
    "    \"EpsilonG = 0.1\",\n",
    "    \"EpsilonG = 10^(-2)\",\n",
    "    \"EpsilonG = 10^(-5)\"\n",
    "    },\n",
    "  PlotRange -> All,\n",
    "  ScalingFunctions -> {\"Log\", \"SignedLog\"}\n",
    "]"
   ]
  }
 ],
 "metadata": {
  "kernelspec": {
   "display_name": "Wolfram Language 14.2",
   "language": "Wolfram Language",
   "name": "wolframlanguage14.2"
  },
  "language_info": {
   "codemirror_mode": "mathematica",
   "file_extension": ".m",
   "mimetype": "application/vnd.wolfram.m",
   "name": "Wolfram Language",
   "pygments_lexer": "mathematica",
   "version": "12.0"
  }
 },
 "nbformat": 4,
 "nbformat_minor": 2
}
