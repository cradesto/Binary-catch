{
 "cells": [
  {
   "cell_type": "markdown",
   "metadata": {},
   "source": [
    "# Binary catch\n",
    "\n",
    "**При каких условиях два тела, налетающие друг на друга с бесконечности (в системе центра масс) станут связной системой из-за испускания гравволн?**"
   ]
  },
  {
   "cell_type": "code",
   "execution_count": 1,
   "metadata": {
    "vscode": {
     "languageId": "wolfram"
    }
   },
   "outputs": [
    {
     "name": "stdout",
     "output_type": "stream",
     "text": [
      "  (CleanSlate) Contexts purged: {Global`}\n",
      "  (CleanSlate) Approximate kernel memory recovered: 1 Kb\n"
     ]
    }
   ],
   "source": [
    "(* https://mathematica.stackexchange.com/questions/850/how-do-i-clear-all-user-defined-symbols/861#861 *)\n",
    "<< Utilities`CleanSlate`\n",
    "CleanSlate[];\n",
    "\n",
    "ClearAll[\"Global`*\"]\n",
    "(* ClearSystemCache[] *)\n",
    "(* https://mathematica.stackexchange.com/questions/111605/quit-vs-clearallglobal *)\n",
    "if[Length[Names[\"Global`*\"]] > 0, Remove[\"Global`*\"]];\n",
    "\n",
    "(* PacletInstall[\n",
    "    \"TensorSimplify\",\n",
    "\n",
    "    \"Site\" -> \"http://raw.githubusercontent.com/carlwoll/TensorSimplify/master\"\n",
    "]; *)\n",
    "<<TensorSimplify`"
   ]
  },
  {
   "cell_type": "markdown",
   "metadata": {},
   "source": [
    "## Einstein Summation"
   ]
  },
  {
   "cell_type": "code",
   "execution_count": 10,
   "metadata": {
    "vscode": {
     "languageId": "wolfram"
    }
   },
   "outputs": [],
   "source": [
    "ClearAll@EinsteinSummation\n",
    "\n",
    "EinsteinSummation[in_List, arrays_] := Module[\n",
    "  {res =\n",
    "    isum[in -> Cases[Tally @ Flatten @ in, {_, 1}][[All, 1]], arrays]},\n",
    "  res /; res =!= $Failed\n",
    "  ]\n",
    "\n",
    "EinsteinSummation[in_List -> out_, arrays_] := Module[\n",
    "  {res = isum[in -> out, arrays]},\n",
    "  res /; res =!= $Failed\n",
    "  ]\n",
    "\n",
    "isum[in_List -> out_, arrays_List] := Catch@Module[\n",
    "  {indices, contracted, uncontracted, contractions, transpose},\n",
    "  If[Length[in] != Length[arrays],\n",
    "    Message[EinsteinSummation::length, Length[in], Length[arrays]];\n",
    "    Throw[$Failed]];\n",
    "  MapThread[\n",
    "    If[IntegerQ@TensorRank[#1] && Length[#1] != TensorRank[#2],\n",
    "      Message[EinsteinSummation::shape, #1, #2];\n",
    "      Throw[$Failed]] &, {in, arrays}];\n",
    "  indices = Tally[Flatten[in, 1]];\n",
    "  If[DeleteCases[indices, {_, 1 | 2}] =!= {},\n",
    "    Message[EinsteinSummation::repeat,\n",
    "      Cases[indices, {x_, Except[1 | 2]} :> x]];\n",
    "    Throw[$Failed]];\n",
    "  uncontracted = Cases[indices, {x_, 1} :> x];\n",
    "  If[Sort[uncontracted] =!= Sort[out],\n",
    "    Message[EinsteinSummation::output, uncontracted, out];\n",
    "    Throw[$Failed]];\n",
    "  contracted = Cases[indices, {x_, 2} :> x];\n",
    "  contractions = Flatten[Position[Flatten[in, 1], #]] & /@ contracted;\n",
    "  transpose = FindPermutation[uncontracted, out];\n",
    "  Activate@\n",
    "    TensorTranspose[\n",
    "      TensorContract[Inactive[TensorProduct] @@ arrays, contractions],\n",
    "    transpose]]\n",
    "\n",
    "EinsteinSummation::length =\n",
    "  \"Number of index specifications (`1`) does not match the number of \\\n",
    "tensors (`2`)\";\n",
    "EinsteinSummation::shape =\n",
    "  \"Index specification `1` does not match the tensor rank of `2`\";\n",
    "EinsteinSummation::repeat =\n",
    "  \"Index specifications `1` are repeated more than twice\";\n",
    "EinsteinSummation::output =\n",
    "  \"The uncontracted indices don't match the desired output\";"
   ]
  },
  {
   "cell_type": "code",
   "execution_count": 18,
   "metadata": {
    "vscode": {
     "languageId": "wolfram"
    }
   },
   "outputs": [],
   "source": [
    "(* Правила для скрытия аргументов в TraditionalForm *)\n",
    "\n",
    "Unprotect[Subscript, OverHat, Derivative];\n",
    "\n",
    "MakeBoxes[OverHat[r_][OverHat[t]], TraditionalForm] :=\n",
    "  MakeBoxes[OverHat[r], TraditionalForm]\n",
    "\n",
    "MakeBoxes[\\[Phi][OverHat[t]], TraditionalForm] :=\n",
    "  MakeBoxes[\\[Phi], TraditionalForm]\n",
    "\n",
    "MakeBoxes[Subscript[OverHat[r], n_][OverHat[t]], TraditionalForm] :=\n",
    "  SubscriptBox[OverscriptBox[\"r\", \"^\"], ToString[n]];\n",
    "\n",
    "MakeBoxes[OverHat[\\[Omega]][OverHat[t]], TraditionalForm] :=\n",
    "  OverscriptBox[\"\\[Omega]\", \"^\"];\n",
    "\n",
    "MakeBoxes[Derivative[n_][f_][OverHat[t]], TraditionalForm] := Module[{primes},\n",
    "  primes = StringJoin[Table[\"\\[Prime]\", n]];\n",
    "  SuperscriptBox[ToBoxes[f], primes]\n",
    "];\n",
    "\n",
    "Protect[Subscript, OverHat, Derivative];"
   ]
  },
  {
   "cell_type": "markdown",
   "metadata": {},
   "source": [
    "$\\hat{r}_k$"
   ]
  },
  {
   "cell_type": "code",
   "execution_count": 27,
   "metadata": {
    "vscode": {
     "languageId": "wolfram"
    }
   },
   "outputs": [
    {
     "data": {
      "text/html": [
       "<div><img alt=\"Output\" src=\"data:image/png;base64,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\"></div>"
      ],
      "text/plain": [
       "FormBox[TagBox[RowBox[{\"(\", \"⁠\", \n",
       "\n",
       " \n",
       ">         TagBox[GridBox[{{RowBox[{OverscriptBox[\"r\", \"^\"], \" \", \n",
       "\n",
       " \n",
       ">               RowBox[{\"cos\", \"(\", \"ϕ\", \")\"}]}]}, \n",
       "\n",
       " \n",
       ">            {RowBox[{OverscriptBox[\"r\", \"^\"], \" \", RowBox[{\"sin\", \"(\", \"ϕ\", \")\"}]}]}}, \n",
       "\n",
       " \n",
       ">           Rule[RowSpacings, 1], Rule[ColumnAlignments, Center], \n",
       "\n",
       " \n",
       ">           Rule[ColumnAlignments, Left]], Column], \"⁠\", \")\"}], \n",
       "\n",
       " \n",
       ">       Function[BoxForm`e$, MatrixForm[BoxForm`e$]]], TraditionalForm]\n"
      ]
     },
     "execution_count": 27,
     "metadata": {
      "text/html": [],
      "text/plain": []
     },
     "output_type": "execute_result"
    }
   ],
   "source": [
    "rh = {OverHat[r][OverHat[t]]*Cos[\\[Phi][OverHat[t]]], OverHat[r][OverHat[t]]*Sin[\\[Phi][OverHat[t]]]};\n",
    "rh // MatrixForm // TraditionalForm"
   ]
  },
  {
   "cell_type": "code",
   "execution_count": 28,
   "metadata": {
    "vscode": {
     "languageId": "wolfram"
    }
   },
   "outputs": [],
   "source": [
    "$Assumptions = {\n",
    "  {OverHat[r][OverHat[t]], Subscript[OverHat[r],2][OverHat[t]], OverHat[t], u} \\[Element] PositiveReals\n",
    "};\n",
    "$Assumptions = Join[$Assumptions, {rh \\[Element] NonNegativeReals}];"
   ]
  },
  {
   "cell_type": "markdown",
   "metadata": {},
   "source": [
    "## Система движения в декартовых координатах\n",
    "$$\n",
    "\\frac{d^2r_k}{dt^2} = -\\frac{G(m_A+m_B)}{r^3}r_k - \\frac{2}{5}f_{ki}^{(5)}r_i\n",
    "$$\n",
    "\n",
    "Ч.Мизнер, К.Торн, Дж.Уилер Гравтация, Т.3, §36.8, стр. 222\n",
    "\n",
    "Введём обозначения для полной и приведённой масс\n",
    "$$\n",
    "M=m_A+m_B; \\quad\n",
    "\\mu = m_{AB} = \\frac{m_A m_B}{M}\n",
    "$$\n",
    "Задача двух самогравитирующих тел с массами $m_A$ и $m_B$\n",
    "в системе отсчёта центра масс всегда сводится\n",
    "к задаче движения тела массы $\\mu$\n",
    "в центральном поле массы $M$.\n",
    "\n",
    "$f_{ki}$ - квадрупольный момент системы.\n",
    "Задача решается методом последовательных приближений\n",
    "Первоначально строится решение в приближении Ньютона,\n",
    "затем для полученной конфигурации находится квадрупольный момент\n",
    "и находится его пятая производная по времени.\n",
    "Уже на следубщем шаге (уравнение выше)\n",
    "находятся решение с **заданной** функций от времени (**и только времени**) $f_{ki}^{(5)}$."
   ]
  },
  {
   "cell_type": "markdown",
   "metadata": {},
   "source": [
    "### Безразмерные единицы\n",
    "$$\n",
    "\\begin{align}\n",
    "r &= b\\hat{r} \\\\\n",
    "t &= t_0\\hat{t} \\\\\n",
    "f_{ij} &= b^2\\frac{G}{c^5}\\mu\\hat{f}_{ij} \\\\\n",
    "f_{ij}^{(5)} &= \\frac{b^2}{t_0^5}\\frac{G}{c^5}\\mu\\hat{f}_{ij}^{(5)}\n",
    "\\end{align}\n",
    "$$"
   ]
  },
  {
   "cell_type": "markdown",
   "metadata": {},
   "source": [
    "$\\hat{f}_{ki}$"
   ]
  },
  {
   "cell_type": "code",
   "execution_count": 31,
   "metadata": {
    "vscode": {
     "languageId": "wolfram"
    }
   },
   "outputs": [
    {
     "data": {
      "text/html": [
       "<div><img alt=\"Output\" src=\"data:image/png;base64,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\"></div>"
      ],
      "text/plain": [
       "FormBox[TagBox[RowBox[{\"(\", \"⁠\", \n",
       "\n",
       " \n",
       ">         GridBox[{{RowBox[{FractionBox[\"1\", \"6\"], \" \", \n",
       "\n",
       " \n",
       ">              SuperscriptBox[OverscriptBox[\"r\", \"^\"], \"2\"], \" \", \n",
       "\n",
       " \n",
       ">              RowBox[{\"(\", RowBox[{RowBox[{\"3\", \" \", \n",
       "\n",
       " \n",
       ">                    RowBox[{\"cos\", \"(\", RowBox[{\"2\", \" \", \"ϕ\"}], \")\"}]}], \"+\",\\\n",
       " \n",
       ">    \"1\"}]\\\n",
       ", \")\"}]}], RowBox[{SuperscriptBox[OverscriptBox[\"r\", \"^\"], \"2\"], \" \", \n",
       "\n",
       " \n",
       ">              RowBox[{\"sin\", \"(\", \"ϕ\", \")\"}], \" \", RowBox[{\"cos\", \"(\", \"ϕ\", \")\"}]}]}, \n",
       "\n",
       " \n",
       ">           {RowBox[{SuperscriptBox[OverscriptBox[\"r\", \"^\"], \"2\"], \" \", \n",
       "\n",
       " \n",
       ">              RowBox[{\"sin\", \"(\", \"ϕ\", \")\"}], \" \", RowBox[{\"cos\", \"(\", \"ϕ\", \")\"}]}], \n",
       "\n",
       " \n",
       ">            RowBox[{FractionBox[\"1\", \"3\"], \" \", \n",
       "\n",
       " \n",
       ">              SuperscriptBox[OverscriptBox[\"r\", \"^\"], \"2\"], \" \", \n",
       "\n",
       " \n",
       ">              RowBox[{\"(\", RowBox[{RowBox[{\"3\", \" \", \n",
       "\n",
       " \n",
       ">                    RowBox[{SuperscriptBox[\"sin\", \"2\"], \"(\", \"ϕ\", \")\"}]}], \"-\", \"1\"}], \n",
       "\n",
       " \n",
       ">                \")\"}]}]}}, Rule[RowSpacings, 1], Rule[ColumnSpacings, 1], \n",
       "\n",
       " \n",
       ">          Rule[RowAlignments, Baseline], Rule[ColumnAlignments, Center]], \"⁠\", \")\"}], \n",
       "\n",
       " \n",
       ">       Function[BoxForm`e$, MatrixForm[BoxForm`e$]]], TraditionalForm]\n"
      ]
     },
     "execution_count": 31,
     "metadata": {
      "text/html": [],
      "text/plain": []
     },
     "output_type": "execute_result"
    }
   ],
   "source": [
    "fh = Simplify[Array[rh[[#]]*rh[[#2]] - 1/3*KroneckerDelta[#, #2]*(OverHat[r][OverHat[t]])^2 &, {2, 2}], Trig -> True];\n",
    "fh // MatrixForm // TraditionalForm"
   ]
  },
  {
   "cell_type": "markdown",
   "metadata": {},
   "source": [
    "<span style=\"color:brown\">**NB:**</span> Здесь и далее мы не записываем компоненты квадрупольного момента для $z$, так как они сворачиваются с нулевыми $r_z$.\n",
    "\n",
    "Однако нужно запомнить, что след полного квадрупольного момента и его пятой производной **нулевой**!"
   ]
  },
  {
   "cell_type": "markdown",
   "metadata": {},
   "source": [
    "$\\hat{f}_{ki}^{(5)}$ - заданная функция (см. выше)"
   ]
  },
  {
   "cell_type": "code",
   "execution_count": 35,
   "metadata": {
    "vscode": {
     "languageId": "wolfram"
    }
   },
   "outputs": [
    {
     "data": {
      "text/html": [
       "<div><img alt=\"Output\" src=\"data:image/png;base64,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\"></div>"
      ],
      "text/plain": [
       "FormBox[TagBox[RowBox[{\"(\", \"⁠\", \n",
       "\n",
       " \n",
       ">         GridBox[{{TemplateBox[List[SubscriptBox[OverscriptBox[\"f\", \"^\"], \n",
       "\n",
       " \n",
       ">               RowBox[List[\"x\", \",\", \"x\"]]], \"\\\"(5)\\\"\"], \"Superscript\", \n",
       "\n",
       " \n",
       ">             Rule[SyntaxForm, SuperscriptBox]], \n",
       "\n",
       " \n",
       ">            TemplateBox[List[SubscriptBox[OverscriptBox[\"f\", \"^\"], \n",
       "\n",
       " \n",
       ">               RowBox[List[\"x\", \",\", \"y\"]]], \"\\\"(5)\\\"\"], \"Superscript\", \n",
       "\n",
       " \n",
       ">             Rule[SyntaxForm, SuperscriptBox]]}, \n",
       "\n",
       " \n",
       ">           {TemplateBox[List[SubscriptBox[OverscriptBox[\"f\", \"^\"], \n",
       "\n",
       " \n",
       ">               RowBox[List[\"x\", \",\", \"y\"]]], \"\\\"(5)\\\"\"], \"Superscript\", \n",
       "\n",
       " \n",
       ">             Rule[SyntaxForm, SuperscriptBox]], \n",
       "\n",
       " \n",
       ">            TemplateBox[List[SubscriptBox[OverscriptBox[\"f\", \"^\"], \n",
       "\n",
       " \n",
       ">               RowBox[List[\"y\", \",\", \"y\"]]], \"\\\"(5)\\\"\"], \"Superscript\", \n",
       "\n",
       " \n",
       ">             Rule[SyntaxForm, SuperscriptBox]]}}, Rule[RowSpacings, 1], \n",
       "\n",
       " \n",
       ">          Rule[ColumnSpacings, 1], Rule[RowAlignments, Baseline], \n",
       "\n",
       " \n",
       ">          Rule[ColumnAlignments, Center]], \"⁠\", \")\"}], \n",
       "\n",
       " \n",
       ">       Function[BoxForm`e$, MatrixForm[BoxForm`e$]]], TraditionalForm]\n"
      ]
     },
     "execution_count": 35,
     "metadata": {
      "text/html": [],
      "text/plain": []
     },
     "output_type": "execute_result"
    }
   ],
   "source": [
    "(* fh5 = Array[Superscript[Subscript[OverHat[f], {x, y}[[#1]], {x, y}[[#2]]], \"(5)\"] &, {2, 2}] *)\n",
    "(* Symmetric version *)\n",
    "fh5 = Array[If[#1 <= #2,\n",
    "                    Superscript[Subscript[OverHat[f], {x, y}[[#1]], {x, y}[[#2]]], \"(5)\"],\n",
    "                    Superscript[Subscript[OverHat[f], {x, y}[[#2]], {x, y}[[#1]]], \"(5)\"]] &, {2, 2}];\n",
    "fh5 // MatrixForm // TraditionalForm"
   ]
  },
  {
   "cell_type": "markdown",
   "metadata": {},
   "source": [
    "$\\hat{f}_{ki}^{(5)}\\hat{r}_i$"
   ]
  },
  {
   "cell_type": "code",
   "execution_count": 37,
   "metadata": {
    "vscode": {
     "languageId": "wolfram"
    }
   },
   "outputs": [
    {
     "data": {
      "text/html": [
       "<div><img alt=\"Output\" src=\"data:image/png;base64,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\"></div>"
      ],
      "text/plain": [
       "FormBox[TagBox[RowBox[{\"(\", \"⁠\", \n",
       "\n",
       " \n",
       ">         TagBox[GridBox[{{RowBox[{RowBox[{OverscriptBox[\"r\", \"^\"], \" \", \n",
       "\n",
       " \n",
       ">                 RowBox[{\"sin\", \"(\", \"ϕ\", \")\"}], \" \", \n",
       "\n",
       " \n",
       ">                 TemplateBox[List[SubscriptBox[OverscriptBox[\"f\", \"^\"], \n",
       "\n",
       " \n",
       ">                    RowBox[List[\"x\", \",\", \"y\"]]], \"\\\"(5)\\\"\"], \"Superscript\", \n",
       "\n",
       " \n",
       ">                  Rule[SyntaxForm, SuperscriptBox]]}], \"+\", \n",
       "\n",
       " \n",
       ">               RowBox[{OverscriptBox[\"r\", \"^\"], \" \", RowBox[{\"cos\", \"(\", \"ϕ\", \")\"}], \n",
       "\n",
       " \n",
       ">                 \" \", TemplateBox[List[SubscriptBox[OverscriptBox[\"f\", \"^\"], \n",
       "\n",
       " \n",
       ">                    RowBox[List[\"x\", \",\", \"x\"]]], \"\\\"(5)\\\"\"], \"Superscript\", \n",
       "\n",
       " \n",
       ">                  Rule[SyntaxForm, SuperscriptBox]]}]}]}, \n",
       "\n",
       " \n",
       ">            {RowBox[{RowBox[{OverscriptBox[\"r\", \"^\"], \" \", \n",
       "\n",
       " \n",
       ">                 RowBox[{\"cos\", \"(\", \"ϕ\", \")\"}], \" \", \n",
       "\n",
       " \n",
       ">                 TemplateBox[List[SubscriptBox[OverscriptBox[\"f\", \"^\"], \n",
       "\n",
       " \n",
       ">                    RowBox[List[\"x\", \",\", \"y\"]]], \"\\\"(5)\\\"\"], \"Superscript\", \n",
       "\n",
       " \n",
       ">                  Rule[SyntaxForm, SuperscriptBox]]}], \"+\", \n",
       "\n",
       " \n",
       ">               RowBox[{OverscriptBox[\"r\", \"^\"], \" \", RowBox[{\"sin\", \"(\", \"ϕ\", \")\"}], \n",
       "\n",
       " \n",
       ">                 \" \", TemplateBox[List[SubscriptBox[OverscriptBox[\"f\", \"^\"], \n",
       "\n",
       " \n",
       ">                    RowBox[List[\"y\", \",\", \"y\"]]], \"\\\"(5)\\\"\"], \"Superscript\", \n",
       "\n",
       " \n",
       ">                  Rule[SyntaxForm, SuperscriptBox]]}]}]}}, Rule[RowSpacings, 1], \n",
       "\n",
       " \n",
       ">           Rule[ColumnAlignments, Center], Rule[ColumnAlignments, Left]], Column], \"⁠\",\\\n",
       " \n",
       ">    \n",
       "      \")\"}], Function[BoxForm`e$, MatrixForm[BoxForm`e$]]], TraditionalForm]\n"
      ]
     },
     "execution_count": 37,
     "metadata": {
      "text/html": [],
      "text/plain": []
     },
     "output_type": "execute_result"
    }
   ],
   "source": [
    "fh5rh = EinsteinSummation[{{k, i}, {i}}, {fh5, rh}];\n",
    "fh5rh // MatrixForm // TraditionalForm"
   ]
  },
  {
   "cell_type": "markdown",
   "metadata": {},
   "source": [
    "Система движения в безразмерной записи будет выглядеть как"
   ]
  },
  {
   "cell_type": "markdown",
   "metadata": {},
   "source": [
    "$$\n",
    "\\frac{d^2\\hat{r}_k}{d\\hat{t}^2} = -\\frac{t_0^2}{b^3}\\frac{GM}{\\hat{r}^3}\\hat{r}_k - \\frac{2}{5}\\frac{b^2}{t_0^3}\\frac{G}{c^5}\\mu\\hat{f}_{ki}^{(5)}\\hat{r}_i\n",
    "$$"
   ]
  },
  {
   "cell_type": "markdown",
   "metadata": {},
   "source": [
    "Пусть $t_0 = \\sqrt{\\frac{b^3}{GM}}$, а $b$ - прицельное расстояние, тогда система движения перепишется как\n",
    "\n",
    "$$\n",
    "\\frac{d^2\\hat{r}_k}{d\\hat{t}^2} + \\frac{\\hat{r}_k}{\\hat{r}^3} = - \\epsilon_G\\hat{f}_{ki}^{(5)}\\hat{r}_i\\quad,\n",
    "$$\n",
    "или\n",
    "$$\n",
    "\\hat{r}_k^{(2)} + \\frac{\\hat{r}_k}{\\hat{r}^3} = - \\epsilon_G\\hat{f}_{ki}^{(5)}\\hat{r}_i\\quad,\n",
    "$$\n",
    "\n",
    "где безразмерная постоянная\n",
    "$\\epsilon_G =\n",
    "  \\frac{2}{5}\\frac{b^2}{t_0^3}\\frac{G}{c^5}\\mu\n",
    "  = \\frac{2}{5}\\frac{\\mu}{M} \\left( \\frac{GM}{bc^2} \\right)^{\\frac{5}{2}}\n",
    "  = \\frac{2}{5}\\frac{\\mu}{M} \\left( \\frac{r_s}{2b} \\right)^{\\frac{5}{2}}$.\n",
    "\n",
    "Здесь $r_s = \\frac{2 G M}{c^2}$ - сумма радиусов Шварцшильда двух тел.\n",
    "Заметим, что $f_{ij}^{(5)} = \\frac{5}{2}\\frac{\\epsilon_G}{t_0^2}\\hat{f}_{ij}^{(5)}$\n",
    "\n",
    "Можно еще записать, что\n",
    "$\\epsilon_G\n",
    "  = \\frac{2}{5}\\frac{q}{(1 + q)^2} \\left( \\frac{r_s}{2b} \\right)^{\\frac{5}{2}}$,\n",
    "где $q = \\frac{m_1}{m_2}$ - отношение меньшей массы тела к большей, $m_1 < m_2$.\n",
    "Откуда можно видеть, что $\\epsilon_G \\ll 1$, когда $q \\ll 1$ или/и $r_s \\ll b$.\n",
    "\n",
    "<span style=\"color:red\">**TODO_1:**</span> Обязательное ли условие $\\epsilon_G \\ll 1$?"
   ]
  },
  {
   "cell_type": "markdown",
   "metadata": {},
   "source": [
    "## Переход к полярным координатам от декартовых\n",
    "Повернём систему с помощью матрицы вращения $R_{ij}(\\phi)$ на угол $\\phi$ по **часовой** стрелке"
   ]
  },
  {
   "cell_type": "code",
   "execution_count": 38,
   "metadata": {
    "vscode": {
     "languageId": "wolfram"
    }
   },
   "outputs": [
    {
     "data": {
      "text/html": [
       "<div><img alt=\"Output\" src=\"data:image/png;base64,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\"></div>"
      ],
      "text/plain": [
       "FormBox[TagBox[RowBox[{\"(\", \"⁠\", \n",
       "\n",
       " \n",
       ">         GridBox[{{RowBox[{\"cos\", \"(\", \"ϕ\", \")\"}], RowBox[{\"sin\", \"(\", \"ϕ\", \")\"}]}, \n",
       "\n",
       " \n",
       ">           {RowBox[{\"-\", RowBox[{\"sin\", \"(\", \"ϕ\", \")\"}]}], \n",
       "\n",
       " \n",
       ">            RowBox[{\"cos\", \"(\", \"ϕ\", \")\"}]}}, Rule[RowSpacings, 1], \n",
       "\n",
       " \n",
       ">          Rule[ColumnSpacings, 1], Rule[RowAlignments, Baseline], \n",
       "\n",
       " \n",
       ">          Rule[ColumnAlignments, Center]], \"⁠\", \")\"}], \n",
       "\n",
       " \n",
       ">       Function[BoxForm`e$, MatrixForm[BoxForm`e$]]], TraditionalForm]\n"
      ]
     },
     "execution_count": 38,
     "metadata": {
      "text/html": [],
      "text/plain": []
     },
     "output_type": "execute_result"
    }
   ],
   "source": [
    "RotationMatrix[-\\[Phi]] // MatrixForm // TraditionalForm"
   ]
  },
  {
   "cell_type": "markdown",
   "metadata": {},
   "source": [
    "#### LHS системы после поворота"
   ]
  },
  {
   "cell_type": "code",
   "execution_count": 40,
   "metadata": {
    "vscode": {
     "languageId": "wolfram"
    }
   },
   "outputs": [
    {
     "data": {
      "text/html": [
       "<div><img alt=\"Output\" src=\"data:image/png;base64,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\"></div>"
      ],
      "text/plain": [
       "FormBox[TagBox[RowBox[{\"(\", \"⁠\", \n",
       "      TagBox[GridBox[{{RowBox[{RowBox[{\"-\", \n",
       "\n",
       " \n",
       ">                 RowBox[{\"2\", \" \", SuperscriptBox[OverscriptBox[\"r\", \"^\"], \"′\"], \n",
       "\n",
       " \n",
       ">                   \" \", SuperscriptBox[\"ϕ\", \"′\"], \" \", \n",
       "\n",
       " \n",
       ">                   RowBox[{\"sin\", \"(\", \"ϕ\", \")\"}]}]}], \"+\", \n",
       "\n",
       " \n",
       ">               RowBox[{OverscriptBox[\"r\", \"^\"], \" \", \n",
       "\n",
       " \n",
       ">                 RowBox[{\"(\", RowBox[{RowBox[{SuperscriptBox[RowBox[\n",
       "\n",
       " \n",
       ">                         {\"(\", SuperscriptBox[\"ϕ\", \"′\"], \")\"}], \"2\"], \" \", \n",
       "\n",
       " \n",
       ">                       RowBox[{\"(\", \n",
       "\n",
       " \n",
       ">                         RowBox[{\"-\", RowBox[{\"cos\", \"(\", \"ϕ\", \")\"}]}], \")\"}]}], \n",
       "\n",
       " \n",
       ">                     \"-\", RowBox[{SuperscriptBox[\"ϕ\", \"′′\"], \" \", \n",
       "\n",
       " \n",
       ">                       RowBox[{\"sin\", \"(\", \"ϕ\", \")\"}]}]}], \")\"}]}], \"+\", \n",
       "\n",
       " \n",
       ">               RowBox[{SuperscriptBox[OverscriptBox[\"r\", \"^\"], \"′′\"], \" \", \n",
       "\n",
       " \n",
       ">                 RowBox[{\"cos\", \"(\", \"ϕ\", \")\"}]}], \"+\", \n",
       "\n",
       " \n",
       ">               FractionBox[RowBox[{\"cos\", \"(\", \"ϕ\", \")\"}], \n",
       "\n",
       " \n",
       ">                SuperscriptBox[OverscriptBox[\"r\", \"^\"], \"2\"]]}]}, \n",
       "\n",
       " \n",
       ">            {RowBox[{RowBox[{\"2\", \" \", SuperscriptBox[OverscriptBox[\"r\", \"^\"], \"′\"], \n",
       "\n",
       " \n",
       ">                 \" \", SuperscriptBox[\"ϕ\", \"′\"], \" \", RowBox[{\"cos\", \"(\", \"ϕ\",\\\n",
       " \n",
       ">    \")\"}]}]\\\n",
       ", \"+\", RowBox[{OverscriptBox[\"r\", \"^\"], \" \", \n",
       "\n",
       " \n",
       ">                 RowBox[{\"(\", RowBox[{RowBox[{SuperscriptBox[\"ϕ\", \"′′\"], \" \", \n",
       "\n",
       " \n",
       ">                       RowBox[{\"cos\", \"(\", \"ϕ\", \")\"}]}], \"-\", \n",
       "\n",
       " \n",
       ">                     RowBox[{SuperscriptBox[RowBox[{\"(\", \n",
       "\n",
       " \n",
       ">                          SuperscriptBox[\"ϕ\", \"′\"], \")\"}], \"2\"], \" \", \n",
       "\n",
       " \n",
       ">                       RowBox[{\"sin\", \"(\", \"ϕ\", \")\"}]}]}], \")\"}]}], \"+\", \n",
       "\n",
       " \n",
       ">               RowBox[{SuperscriptBox[OverscriptBox[\"r\", \"^\"], \"′′\"], \" \", \n",
       "\n",
       " \n",
       ">                 RowBox[{\"sin\", \"(\", \"ϕ\", \")\"}]}], \"+\", \n",
       "\n",
       " \n",
       ">               FractionBox[RowBox[{\"sin\", \"(\", \"ϕ\", \")\"}], \n",
       "\n",
       " \n",
       ">                SuperscriptBox[OverscriptBox[\"r\", \"^\"], \"2\"]]}]}}, \n",
       "\n",
       " \n",
       ">           Rule[RowSpacings, 1], Rule[ColumnAlignments, Center], \n",
       "\n",
       " \n",
       ">           Rule[ColumnAlignments, Left]], Column], \"⁠\", \")\"}], \n",
       "\n",
       " \n",
       ">       Function[BoxForm`e$, MatrixForm[BoxForm`e$]]], TraditionalForm]\n"
      ]
     },
     "execution_count": 40,
     "metadata": {
      "text/html": [],
      "text/plain": []
     },
     "output_type": "execute_result"
    }
   ],
   "source": [
    "LHSMotion = D[rh, {OverHat[t], 2}] + Simplify[rh / Norm[rh]^3];\n",
    "LHSMotion // MatrixForm // TraditionalForm"
   ]
  },
  {
   "cell_type": "code",
   "execution_count": 41,
   "metadata": {
    "vscode": {
     "languageId": "wolfram"
    }
   },
   "outputs": [
    {
     "data": {
      "text/html": [
       "<div><img alt=\"Output\" src=\"data:image/png;base64,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\"></div>"
      ],
      "text/plain": [
       "FormBox[TagBox[RowBox[{\"(\", \"⁠\", \n",
       "      TagBox[GridBox[{{RowBox[{RowBox[{\"-\", \n",
       "\n",
       " \n",
       ">                 RowBox[{RowBox[{OverscriptBox[\"r\", \"^\"]}], \" \", \n",
       "\n",
       " \n",
       ">                   SuperscriptBox[RowBox[{\"(\", SuperscriptBox[\"ϕ\", \"′\"], \")\"}], \n",
       "\n",
       " \n",
       ">                    \"2\"]}]}], \"+\", SuperscriptBox[OverscriptBox[\"r\", \"^\"], \"′′\"], \n",
       "\n",
       " \n",
       ">               \"+\", FractionBox[\"1\", SuperscriptBox[OverscriptBox[\"r\", \"^\"],\\\n",
       " \n",
       ">    \"2\"]]}]}\\\n",
       ", {RowBox[{RowBox[{OverscriptBox[\"r\", \"^\"], \" \", SuperscriptBox[\"ϕ\",\\\n",
       " \n",
       ">    \"′′\"]}], \"+\", \n",
       "            RowBox[{\"2\", \" \", SuperscriptBox[OverscriptBox[\"r\",\\\n",
       " \n",
       ">    \"^\"], \"′\"], \" \", \n",
       "              SuperscriptBox[\"ϕ\", \"′\"]}]}]}}, Rule[RowSpacings,\\\n",
       " \n",
       ">    1], \n",
       "        Rule[ColumnAlignments, Center], Rule[ColumnAlignments, Left]],\\\n",
       " \n",
       ">    Column], \"⁠\", \n",
       "      \")\"}], Function[BoxForm`e$, MatrixForm[BoxForm`e$]]],\\\n",
       " \n",
       ">    TraditionalForm]\n"
      ]
     },
     "execution_count": 41,
     "metadata": {
      "text/html": [],
      "text/plain": []
     },
     "output_type": "execute_result"
    }
   ],
   "source": [
    "RotatedLHSMotion = Simplify[RotationMatrix[-\\[Phi][OverHat[t]]] . LHSMotion, Trig -> True] // MatrixForm // TraditionalForm"
   ]
  },
  {
   "cell_type": "markdown",
   "metadata": {},
   "source": [
    "Так как $\\hat{\\omega} \\equiv \\phi^{(1)}$, то"
   ]
  },
  {
   "cell_type": "code",
   "execution_count": 43,
   "metadata": {
    "vscode": {
     "languageId": "wolfram"
    }
   },
   "outputs": [
    {
     "data": {
      "text/html": [
       "<div><img alt=\"Output\" src=\"data:image/png;base64,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\"></div>"
      ],
      "text/plain": [
       "FormBox[TagBox[RowBox[{\"(\", \"⁠\", \n",
       "\n",
       " \n",
       ">         TagBox[GridBox[{{RowBox[{RowBox[{RowBox[{\"-\", OverscriptBox[\"r\", \"^\"]}], \n",
       "\n",
       " \n",
       ">                 \" \", SuperscriptBox[OverscriptBox[\"ω\", \"^\"], \"2\"]}], \"+\", \n",
       "\n",
       " \n",
       ">               SuperscriptBox[OverscriptBox[\"r\", \"^\"], \"′′\"], \"+\", \n",
       "\n",
       " \n",
       ">               FractionBox[\"1\", SuperscriptBox[OverscriptBox[\"r\", \"^\"], \"2\"]]}]}, \n",
       "\n",
       " \n",
       ">            {RowBox[{RowBox[{\"2\", \" \", OverscriptBox[\"ω\", \"^\"], \" \", \n",
       "\n",
       " \n",
       ">                 SuperscriptBox[OverscriptBox[\"r\", \"^\"], \"′\"]}], \"+\", \n",
       "\n",
       " \n",
       ">               RowBox[{OverscriptBox[\"r\", \"^\"], \" \", \n",
       "\n",
       " \n",
       ">                 SuperscriptBox[OverscriptBox[\"ω\", \"^\"], \"′\"]}]}]}}, \n",
       "\n",
       " \n",
       ">           Rule[RowSpacings, 1], Rule[ColumnAlignments, Center], \n",
       "\n",
       " \n",
       ">           Rule[ColumnAlignments, Left]], Column], \"⁠\", \")\"}], \n",
       "\n",
       " \n",
       ">       Function[BoxForm`e$, MatrixForm[BoxForm`e$]]], TraditionalForm]\n"
      ]
     },
     "execution_count": 43,
     "metadata": {
      "text/html": [],
      "text/plain": []
     },
     "output_type": "execute_result"
    }
   ],
   "source": [
    "OmegaReplace = Derivative[n_][\\[Phi]][OverHat[t]] :> Derivative[n-1][OverHat[\\[Omega]]][OverHat[t]];\n",
    "\n",
    "OmegaLHSMotion = RotatedLHSMotion /. OmegaReplace // TraditionalForm"
   ]
  },
  {
   "cell_type": "markdown",
   "metadata": {},
   "source": [
    "### RHS системы после поворота"
   ]
  },
  {
   "cell_type": "code",
   "execution_count": 45,
   "metadata": {
    "vscode": {
     "languageId": "wolfram"
    }
   },
   "outputs": [
    {
     "data": {
      "text/html": [
       "<div><img alt=\"Output\" src=\"data:image/png;base64,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\"></div>"
      ],
      "text/plain": [
       "FormBox[TagBox[RowBox[{\"(\", \"⁠\", \n",
       "\n",
       " \n",
       ">         TagBox[GridBox[{{RowBox[{OverscriptBox[\"r\", \"^\"], \" \", \n",
       "\n",
       " \n",
       ">               RowBox[{\"(\", RowBox[{\"-\", SubscriptBox[\"ϵ\", \"G\"]}], \")\"}], \" \", \n",
       "\n",
       " \n",
       ">               RowBox[{\"(\", RowBox[{RowBox[{RowBox[{\"sin\", \"(\", \n",
       "\n",
       " \n",
       ">                       RowBox[{\"2\", \" \", \"ϕ\"}], \")\"}], \" \", \n",
       "\n",
       " \n",
       ">                     TemplateBox[List[SubscriptBox[OverscriptBox[\"f\", \"^\"], \n",
       "\n",
       " \n",
       ">                        RowBox[List[\"x\", \",\", \"y\"]]], \"\\\"(5)\\\"\"], \"Superscript\", \n",
       "\n",
       " \n",
       ">                      Rule[SyntaxForm, SuperscriptBox]]}], \"+\", \n",
       "\n",
       " \n",
       ">                   RowBox[{RowBox[{SuperscriptBox[\"cos\", \"2\"], \"(\", \"ϕ\", \")\"}], \n",
       "\n",
       " \n",
       ">                     \" \", TemplateBox[List[SubscriptBox[OverscriptBox[\"f\", \"^\"], \n",
       "\n",
       " \n",
       ">                        RowBox[List[\"x\", \",\", \"x\"]]], \"\\\"(5)\\\"\"], \"Superscript\", \n",
       "\n",
       " \n",
       ">                      Rule[SyntaxForm, SuperscriptBox]]}], \"+\", \n",
       "\n",
       " \n",
       ">                   RowBox[{RowBox[{SuperscriptBox[\"sin\", \"2\"], \"(\", \"ϕ\", \")\"}], \n",
       "\n",
       " \n",
       ">                     \" \", TemplateBox[List[SubscriptBox[OverscriptBox[\"f\", \"^\"], \n",
       "\n",
       " \n",
       ">                        RowBox[List[\"y\", \",\", \"y\"]]], \"\\\"(5)\\\"\"], \"Superscript\", \n",
       "\n",
       " \n",
       ">                      Rule[SyntaxForm, SuperscriptBox]]}]}], \")\"}]}]}, \n",
       "\n",
       " \n",
       ">            {RowBox[{RowBox[{\"-\", FractionBox[\"1\", \"2\"]}], \" \", \n",
       "\n",
       " \n",
       ">               OverscriptBox[\"r\", \"^\"], \" \", SubscriptBox[\"ϵ\", \"G\"], \" \", \n",
       "\n",
       " \n",
       ">               RowBox[{\"(\", RowBox[{RowBox[{RowBox[{\"sin\", \"(\", \n",
       "\n",
       " \n",
       ">                       RowBox[{\"2\", \" \", \"ϕ\"}], \")\"}], \" \", \n",
       "\n",
       " \n",
       ">                     RowBox[{\"(\", RowBox[{TemplateBox[List[SubscriptBox[\n",
       "\n",
       " \n",
       ">                            OverscriptBox[\"f\", \"^\"], \n",
       "\n",
       " \n",
       ">                            RowBox[List[\"y\", \",\", \"y\"]]], \"\\\"(5)\\\"\"], \n",
       "\n",
       " \n",
       ">                          \"Superscript\", Rule[SyntaxForm, SuperscriptBox]], \"-\", \n",
       "\n",
       " \n",
       ">                         TemplateBox[List[SubscriptBox[OverscriptBox[\"f\", \"^\"], \n",
       "\n",
       " \n",
       ">                            RowBox[List[\"x\", \",\", \"x\"]]], \"\\\"(5)\\\"\"], \n",
       "\n",
       " \n",
       ">                          \"Superscript\", Rule[SyntaxForm, SuperscriptBox]]}], \")\"}]}\\\n",
       "\n",
       " \n",
       ">   ], \"+\", RowBox[{\"2\", \" \", RowBox[{\"cos\", \"(\", RowBox[{\"2\", \" \", \"ϕ\"}], \")\"}], \n",
       "\n",
       " \n",
       ">                     \" \", TemplateBox[List[SubscriptBox[OverscriptBox[\"f\", \"^\"], \n",
       "\n",
       " \n",
       ">                        RowBox[List[\"x\", \",\", \"y\"]]], \"\\\"(5)\\\"\"], \"Superscript\", \n",
       "\n",
       " \n",
       ">                      Rule[SyntaxForm, SuperscriptBox]]}]}], \")\"}]}]}}, \n",
       "\n",
       " \n",
       ">           Rule[RowSpacings, 1], Rule[ColumnAlignments, Center], \n",
       "\n",
       " \n",
       ">           Rule[ColumnAlignments, Left]], Column], \"⁠\", \")\"}], \n",
       "\n",
       " \n",
       ">       Function[BoxForm`e$, MatrixForm[BoxForm`e$]]], TraditionalForm]\n"
      ]
     },
     "execution_count": 45,
     "metadata": {
      "text/html": [],
      "text/plain": []
     },
     "output_type": "execute_result"
    }
   ],
   "source": [
    "RHSMotion = -Subscript[\\[Epsilon], G] FullSimplify[RotationMatrix[-\\[Phi][OverHat[t]]] . fh5rh, Trig -> True];\n",
    "RHSMotion // MatrixForm // TraditionalForm"
   ]
  },
  {
   "cell_type": "markdown",
   "metadata": {},
   "source": [
    "<span style=\"color:brown\">**NB:**</span> Полученные выражения <span style=\"color:green\">**совпадают**</span> с уравнениями (10) и (9) из файла Binary.pdf"
   ]
  },
  {
   "cell_type": "markdown",
   "metadata": {
    "vscode": {
     "languageId": "wolfram"
    }
   },
   "source": [
    "## Получим теперь **энергетическую** систему уравнений\n",
    "\n",
    "В задача двух тел без учёта гравитационного излучения в системе центра масс в полярных координатах радиус-вектор $\\hat{r}_k$ задаётся как:\n",
    "$$\n",
    "\\hat{r}_k = \\hat{r} e_{1k} \\quad,\n",
    "$$\n",
    "где:\n",
    "- $\\hat{r}$ — расстояние между телами,\n",
    "- $e_{1k}$ — единичный вектор в направлении $\\hat{r}_k$.\n",
    "\n",
    "Скорость в полярных координатах выражается как:\n",
    "$$\n",
    "\\hat{r}_k^{(1)} = \\hat{r}^{(1)} e_{1k} + \\hat{r} \\phi^{(1)} e_{2k} \\quad,\n",
    "$$\n",
    "где:\n",
    "- $\\hat{r}^{(1)}$ — радиальная скорость\n",
    "- $\\hat{\\omega} \\equiv \\phi^{(1)}$ — угловая скорость\n",
    "- $e_{2k}$ — единичный вектор, перпендикулярный $e_{1k}$.\n",
    "\n",
    "### **Кинетическая энергия**\n",
    "Кинетическая энергия $T$ в полярных координатах выражается через радиальную и тангенциальную составляющие скорости:\n",
    "$$\n",
    "T = \\mu\\frac{b^2}{2 t_0^2} (\\hat{r}_k^{(1)})^2 = \\mu\\frac{b^2}{2 t_0^2} \\left( (\\hat{r}^{(1)})^2 + \\hat{r}^2 \\hat{\\omega}^2 \\right) = \\frac{G \\mu M}{b} \\frac{1}{2}\\left( (\\hat{r}^{(1)})^2 + \\hat{r}^2 \\hat{\\omega}^2 \\right)\n",
    "$$\n",
    "\n",
    "### **Потенциальная энергия**\n",
    "Потенциальная энергия $U$ зависит только от расстояния $\\hat{r}$:\n",
    "- Для гравитационного взаимодействия:\n",
    "  $$\n",
    "  U = -\\frac{G m_A m_B}{b \\hat{r}} = -\\frac{G \\mu M}{b \\hat{r}}.\n",
    "  $$\n",
    "\n",
    "### **Полная энергия**\n",
    "Полная энергия $E$ в полярных координатах:\n",
    "$$\n",
    "E = T + U = \\frac{G \\mu M}{b}\\left(\\frac{(\\hat{r}^{(1)})^2}{2} + \\frac{\\hat{r}^2 \\hat{\\omega}^2}{2} - \\frac{1}{\\hat{r}}\\right) = \\frac{G \\mu M}{b} \\hat{E}\n",
    "$$\n",
    "\n",
    "Здесь $\\hat{E}$ - безразмерная энергия:"
   ]
  },
  {
   "cell_type": "code",
   "execution_count": 47,
   "metadata": {
    "vscode": {
     "languageId": "wolfram"
    }
   },
   "outputs": [
    {
     "data": {
      "text/html": [
       "<div><img alt=\"Output\" src=\"data:image/png;base64,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\"></div>"
      ],
      "text/plain": [
       "FormBox[RowBox[{RowBox[{FractionBox[\"1\", \"2\"], \" \", \n",
       "\n",
       " \n",
       ">          SuperscriptBox[OverscriptBox[\"r\", \"^\"], \"2\"], \" \", \n",
       "\n",
       " \n",
       ">          SuperscriptBox[OverscriptBox[\"ω\", \"^\"], \"2\"]}], \"+\", \n",
       "\n",
       " \n",
       ">        RowBox[{FractionBox[\"1\", \"2\"], \" \", \n",
       "\n",
       " \n",
       ">          SuperscriptBox[RowBox[{\"(\", SuperscriptBox[OverscriptBox[\"r\", \"^\"], \"′\"], \n",
       "\n",
       " \n",
       ">             \")\"}], \"2\"]}], \"-\", FractionBox[\"1\", OverscriptBox[\"r\", \"^\"]]}], \n",
       "\n",
       " \n",
       ">      TraditionalForm]\n"
      ]
     },
     "execution_count": 47,
     "metadata": {
      "text/html": [],
      "text/plain": []
     },
     "output_type": "execute_result"
    }
   ],
   "source": [
    "Energy = (D[OverHat[r][OverHat[t]], OverHat[t]])^2/2 + (OverHat[r][OverHat[t]] OverHat[\\[Omega]][OverHat[t]])^2/2 - 1/OverHat[r][OverHat[t]];\n",
    "Energy // TraditionalForm"
   ]
  },
  {
   "cell_type": "markdown",
   "metadata": {},
   "source": [
    "### **Момента импульса**\n",
    "Момент импульса $J$ в системе центра масс:\n",
    "$$\n",
    "J = \\mu\\frac{b^2}{t_0} \\hat{r}^2 \\hat{\\omega} = \\mu(G M b)^{1/2} \\hat{r}^2 \\hat{\\omega} = \\mu(G M b)^{1/2} \\hat{J}\n",
    "$$\n",
    "\n",
    "Здесь $\\hat{J}$ - безразмерный момент импульса:"
   ]
  },
  {
   "cell_type": "code",
   "execution_count": 49,
   "metadata": {
    "vscode": {
     "languageId": "wolfram"
    }
   },
   "outputs": [
    {
     "data": {
      "text/html": [
       "<div><img alt=\"Output\" src=\"data:image/png;base64,iVBORw0KGgoAAAANSUhEUgAAACsAAAAeCAIAAAA6iHCJAAAA0HpUWHRSYXcgcHJvZmlsZSB0eXBlIGV4aWYAAHjabU/tbUQhDPvPFB0hJMGBcXh3nNQNOn7Ng7aiOkvExvmApPH1+UofE5oleYmKBgjhzZt2iioLi7O0O97Qa+fy6ac8tt9plb8Efvzr9AN7YP03SHQJmy9Qm++GPch0+bmv+7Xrtdd6DjI50OT362/vbqEoyOGMrhKBRl0TJQlFpQReeAAszHiq+IM8EME2xKywPhsndMRZPRKMxnOuYPMU62RjzFbZylVvRxndil47ey+SvgGTwFrkYkJkfwAAAAlwSFlzAAAWJQAAFiUBSVIk8AAAADx0RVh0U29mdHdhcmUAQ3JlYXRlZCB3aXRoIHRoZSBXb2xmcmFtIExhbmd1YWdlIDogd3d3LndvbGZyYW0uY29tXKKmhQAAACF0RVh0Q3JlYXRpb24gVGltZQAyMDI1OjAzOjE4IDA0OjAyOjQ1OpXZegAAA+FJREFUSEvtVlsos2Ec3+aQnGIOUUgLJbUkp4wbLiQl4cIFymk53cghLVy4JOVuOZVacyhXRBiiRkmI1i7kULhyzpwZ3+/tWc/2bW3P3m/fl5vvra33/T//5/f//Y/PI/z+/hawnqOjo7GxsYuLi7i4uJqamtDQUNYOPutg4PiZmZnx8PBwc3MjqEFBQYeHh6xNPNYFjnUNBkNYWNjk5OTHx8f6+npKSgpIFBUV8bDAUmUwUKvV3d3dFGR2dhYMoqKiWLA81hkM9Ho9wkDx3t/fkZHExEQeFliqIloz0Hx5eUG0LasoPj7e19eXSq6urqCQk5PDp9I4J22RzQiUYltbG6TBwcGoeXu8e3p6AgMDwYPl2G/rjpFNWZibmxMKhYRXVlbW5+enrY3T01OYX1lZ4WWeicwxOD8/R49FR0cfHBw0NzeDhEKhsDKDapBKpaOjo7zMO4MsgLuZmZkZGRmXl5cEXalUenp6Li4uUmPQKSgo6O3t5WXeGWQAClBZCOzr66sluk6no2Pn6+urqqqqs7OTKjw9PbW0tDDZMJEJghA/JHhra2tnZ2d3d1cmk6HclpaWBgYGxGLx0NBQV1cX3isqKkihgCs0a2trW1tbHXcEWhfsvby8rNRgET6YWwzf/f39hYWFRA+hnpiYcHd3J59NTU22ZpAjmjJ7kdBoNBimIyMjtgpnZ2cYKtvb22TJ1At3d3fE0vT0dEhISF9fn4+PD14cdKaDLCwsLMCHyspKezqpqakJCQlGo9HMYG1tDeYDAgKys7OHh4ex8Pj4+Pb2xky2rQIays/PD+fn7e2tve3l5eUwB00omGbi6uoqRPf39w8PD9XV1XhHDBBtXrMPykCUy+Vo3Y6ODgwPsh0u4ShBc1E0uIr3jY0NTkJopqWlkWUcgH/gN90yPj4OEG9vb6SVCktKSpD46+trKkFvQ62urs6UBYRLJOKCkZ+f74p57EUSgVNcXGyJExMTk5eXZymRSCRQI6cuZ3h5eRltQ0jxDbuV/v7+PiSxsbFUjq45Pj5OT0+nErTJyckJPsltg2OA7sd/eHg4mLrCAGV0c3MDBMtr3ODgIBxNTk6myGh4vOPCZzpjsRwZGQkRTgQXU4Dt6AJAYXwRKJQkHINkb2+PSDDfOL9Fos3NTSIR4A5C2Gm1WtcZNDQ0kEpsb2/H/Qpxrq+vx5GWm5urUqnKysqwCpZTU1PUlgBRInEj88HFB+O2sbHR398fmLhqYHI/Pz/Pz88nJSVhqEdERJSWllpddLlzwZXc29uLgWZ5uYIaqCA2tvr/ioHzXpnvic7v+bua/xmQifSzz88z+AUG9ZDrhvIkKgAAAABJRU5ErkJggg==\"></div>"
      ],
      "text/plain": [
       "FormBox[RowBox[{SuperscriptBox[OverscriptBox[\"r\", \"^\"], \"2\"], \" \", \n",
       "\n",
       " \n",
       ">        OverscriptBox[\"ω\", \"^\"]}], TraditionalForm]\n"
      ]
     },
     "execution_count": 49,
     "metadata": {
      "text/html": [],
      "text/plain": []
     },
     "output_type": "execute_result"
    }
   ],
   "source": [
    "AngularMomentum = (OverHat[r][OverHat[t]])^2 OverHat[\\[Omega]][OverHat[t]];\n",
    "AngularMomentum // TraditionalForm"
   ]
  },
  {
   "cell_type": "markdown",
   "metadata": {},
   "source": [
    "Отсюда $\\frac{1}{\\hat{r}^{(1)}}\\left(\\frac{d\\hat{E}}{d\\hat{t}} - \\hat{\\omega} \\frac{d\\hat{J}}{d\\hat{t}}\\right)$"
   ]
  },
  {
   "cell_type": "code",
   "execution_count": 50,
   "metadata": {
    "vscode": {
     "languageId": "wolfram"
    }
   },
   "outputs": [
    {
     "data": {
      "text/html": [
       "<div><img alt=\"Output\" src=\"data:image/png;base64,iVBORw0KGgoAAAANSUhEUgAAAKEAAAA9CAIAAABKl57ZAAAAz3pUWHRSYXcgcHJvZmlsZSB0eXBlIGV4aWYAAHjabU/RbQUhDPtnio4QkuDAONw7ntQNOn7NgVpR1RKxY5JA0vj6fKePCc2SvERFA4Tw5k07RZWFxVnaEx/0zcwPP9m9/U6r/F5gbP86/cBirX8GiS5h8wVq892wB5kuP/eVX7tee63nIJMDTX6+/m/uFoqCHM7oKhFo1DVRklBUSuCNF8DCjFvFX+SBCLYhZoX12TihI87qkWA07rmCzVOsk40xW2UrV30cZXQreu3bZ5H0DZJfWuPueesMAAAACXBIWXMAABYlAAAWJQFJUiTwAAAAPHRFWHRTb2Z0d2FyZQBDcmVhdGVkIHdpdGggdGhlIFdvbGZyYW0gTGFuZ3VhZ2UgOiB3d3cud29sZnJhbS5jb21coqaFAAAAIXRFWHRDcmVhdGlvbiBUaW1lADIwMjU6MDM6MTggMDQ6MDI6NDU6ldl6AAAI50lEQVR4Xu2dV6gUSxCGPcesmBNmfTEHMGLOYo4PKsZrwIg5oz6IPphFBEFBOGbBBzFnzBgwRxQxB1TMOd7P29B32Nnd6Z6d3Z059jzInt7q6qr6u7qrq2vWlN+/f2cwT9AssGvXrk2bNq1Zs0ZF8FQVIkPjHwvs37+/Xr167du337dvn6JUKcaPFS2VdLIHDx7069fv+fPnN2/eBLUiRYo8e/ZMRSrjxypW8gVN3rx5161bd/369Y4dO2oJZDDWMlcyiXPnzl2iRAkkKFiwoJYcBmMtcwWS2GAcSNi0hDYYa5krkMQG40DCpiW0wVjLXIEkNhgHEjYtoQ3GWuYKJLHBOJCwaQltMNYyVyCJDcaBhE1LaJ9i/PPnz7Vr1w4dOnTMmDHbtm3TUindE7979w4df/36paopNxh+e75+/dq4cWMUyJgxo1Bj9OjRfhMyWfJ8/vw5T548wixnzpxREcOPfjxv3rwcOXI8efKEezQ+o8yyZcuuXLmiOm3TKd379++bNWtWvHjxt2/fChVbtWrVsmXLY8eOOWisMhESTFO7du1Xr17JQWvWrIkOq1evTrAY6Wa4mPwYK7B0fP/+3UPPYZtZsWJFvnz5JM8OHTrwOX/+/B6OYmf17ds3dEmXFRMxYTxlyhQW1WLFij1+/FgXgEg2TU1NFY4rHxbt7NmzU+CiO4Q6/cOHD9ECXaZPn27vdeLECQow7t27J79auHAhuqvzTzKl6xVp586dKSkpQvpGjRr9+PFDnRVlKwUKFKDj1KlTo/d6/fo1lDNnzlRnrkvJOtSgQQOhCBrt2bMnhEPFihX5ClxF++XLlwXx/fv3dcdKCn0Gd6My8TF9mTJlUHjcuHEojAcosnK0qZXPyJEjW7duTRdF5i7IhEfy74ULF0qWLFmoUCGWJcnn/PnzfJslS5bbt2+LRuYlLXXr1nUxVlK6uMEYl23YsGH9+vWJe4XQ7KBYYe/evSo6RLeplUNaWlqVKlUII1XYuqPZvXt31qxZZUD39OlTIr4mTZrIZWny5Mkgal1IypYty6EO7N2NmPhebjDGqw4ePPjlyxeruFevXr1165ajAo42lRw4ElSuXJnN2JFnLATITBWclcPHjx/RTmBMAFi6dOny5ctLZU+dOgXkkyZNimXQBPd1g3EsIka3qeR88eLFqlWrEubIlg0bNoC6ytBbt26dOHGiJ8v7yZMn2aEPHz4sxx07dix+zDxQkUTQfPr0CXmoelfv4i2lG4w5Yxw5cmTx4sW9e/euVavWo0ePPnz4MGHCBCIX7BtdvkgLL4Yg0hZ92fmoMyWQ/ue/Z8CAAWzJnP1DVo5IA40YMQJXU4Qhui4oNWTIEOtApUqVUtySZC92tOS6vhuM8UUyyRgd0SkIJfQlABGhJpBHMj3zoH///uXKlQNOO83gwYM7d+5MO0gTytkPG0R2irNbC+PoujDbQiYW6TZFMYKNsZCeHDJIkKAg9KWqu1u3bvw5bdq0sCYAuebNm2fLlk3U+NsfljK6b968WdeCdnotjF3ooithIP1YKNm0aVNQ6dq1a4UKFfBRWqwJyBBD4MEQz5kzJ5KB7ty5AwETRdeCnmCspYuuhEnH+M/7TuyRb968sS+P1hbST5wdZQvbGMlF1jFatm/fLtKNkR6yCm3btuXcyamagwpkxKvVq1dntecr0Yv5wYFb/R0e61hkVNBCtnBSJ0AjWiZvJRuRNleuXGEl1NIlupXEtyH2fPHiBecxNqMZM2bI7iH2tLNlZojJ4eLJnDkzZ4H/O2IdkcRwfKyZLI5Agh4PiD6viW8rVaoEpXUZ56BFy/jx42VfkWrg4T0tLUeRlzDR5ce+kdiq66IomAt72jmHzao6YiQIihYtamX4x4953ZGUbPT+zDvyADJ5CTxLliyhy9mzZ4mzovTlwCMug4lWSGgIyvXr1/fp0+f06dN16tQRLbxKy3rOBOQGTfi64sMcmjt3rpWYdYUZQzbKyodbOTIbYXmq66IoUog90YgzCGFpmzZtJIcQe9o5e+zHitPTSiZck8sDx75c/ULJ5BC3OuIhLAIAeViihayZIkPHEXVjLnVdHIcOS5D0/djNvRMHYnY7IBk4cKDj1BbBFHshQbUgJkDDj6tVq4bXipbjx4+TbeDD8OHDHRl6S6Cli7dDJ4ybG4zFG+yZMmXq2bOno6AiUqME6e7du4J41apVbKLc5Yk/CcR69OjBB+KyQYMGOTL0lkBLF2+HThg3NxiT6EE+oi2Ve3uOQzlz5oSeCUEZ3qxZs2bPnr1gwQKMyzLOB/iQlG7Xrh0vUCdMbTmQli6JF8+bEV3sMYRtjL18+XLFvocOHSL5TJTB4kzocfToUUJ0Yi6KPdiVyVkuXbqU05QiN0eyUaNGsf2HzabZ++rq4ji6neDly5eYi9s2F3096ZK43wPhMM3yziPnJgW2PFxKejNb/z4uWI9MANEMsU6LFi06deoU3gaezBTDJPEWUK9QdrMf/30O40eNNSqUEz8BzYieWEC9Qtn4sR99NEQmew2rVoWywdjvGIetC9arUPZk3TBM4mQBxRrW6BXKbupA4qSPYWu3gGINa/QKZYOxf6eWYg2rY4Wywdi/GKvUsKpUKCcuz+X32CaA8l26dKlv377cl1MELsTfuHEjl0C84WDVxmDsX2y5qaOM4ty5c5Q8UNfMXQ4XOeT2uQpauXIlFzkckXkXi3o6dGA5ouXatWtc5oYWWfh3qfrrJVu0aFGXLl3EHJw/fz4+KrP91LGrVyib/djXU4lDkcB4y5YtFD1yFctFLR8obVCX26zV/l2rkYz3Ubhf562RGjVq9OrVi+JO3v/gilbrss7kuXyNMVfvyEdlNIU0okgGP9YCmC4GY19jLMpUeNibZVGsrsRmrda1WOLo2Yz5bwW4fuB/gdmxY4frgY0fuzZd3DseOHBA/NDasGHDYhnMYByL9eLbV9SMUnFGxWosIxmMY7FefPuKzZh6Vvl7g+7GMxi7s1vce924cYObY4bp3r17jIMZjGM0YLy6i19ILFy4cOw/TPYvK3TOpAHcUD4AAAAASUVORK5CYII=\"></div>"
      ],
      "text/plain": [
       "FormBox[RowBox[{RowBox[{\"-\", RowBox[{RowBox[{OverscriptBox[\"r\", \"^\"]}], \" \", \n",
       "\n",
       " \n",
       ">            SuperscriptBox[OverscriptBox[\"ω\", \"^\"], \"2\"]}]}], \"+\", \n",
       "\n",
       " \n",
       ">        SuperscriptBox[OverscriptBox[\"r\", \"^\"], \"′′\"], \"+\", \n",
       "\n",
       " \n",
       ">        FractionBox[\"1\", SuperscriptBox[OverscriptBox[\"r\", \"^\"], \"2\"]]}],\\\n",
       " \n",
       ">    TraditionalForm]\n"
      ]
     },
     "execution_count": 50,
     "metadata": {
      "text/html": [],
      "text/plain": []
     },
     "output_type": "execute_result"
    }
   ],
   "source": [
    "Simplify[(D[Energy, OverHat[t]] - (AngularMomentum/OverHat[r][OverHat[t]]^2)(D[AngularMomentum, OverHat[t]]))/(D[OverHat[r][OverHat[t]], OverHat[t]])] // TraditionalForm"
   ]
  },
  {
   "cell_type": "markdown",
   "metadata": {},
   "source": [
    "Что совпадает с **первой** строкой повернутой LHS системы движения"
   ]
  },
  {
   "cell_type": "markdown",
   "metadata": {},
   "source": [
    "Отсюда $\\frac{1}{\\hat{r}}\\frac{d\\hat{J}}{d\\hat{t}}$"
   ]
  },
  {
   "cell_type": "code",
   "execution_count": 51,
   "metadata": {
    "vscode": {
     "languageId": "wolfram"
    }
   },
   "outputs": [
    {
     "data": {
      "text/html": [
       "<div><img alt=\"Output\" src=\"data:image/png;base64,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\"></div>"
      ],
      "text/plain": [
       "FormBox[RowBox[{RowBox[{\"2\", \" \", OverscriptBox[\"ω\", \"^\"], \" \", \n",
       "\n",
       " \n",
       ">          SuperscriptBox[OverscriptBox[\"r\", \"^\"], \"′\"]}], \"+\", \n",
       "\n",
       " \n",
       ">        RowBox[{OverscriptBox[\"r\", \"^\"], \" \", \n",
       "\n",
       " \n",
       ">          SuperscriptBox[OverscriptBox[\"ω\", \"^\"], \"′\"]}]}], TraditionalForm]\n"
      ]
     },
     "execution_count": 51,
     "metadata": {
      "text/html": [],
      "text/plain": []
     },
     "output_type": "execute_result"
    }
   ],
   "source": [
    "Simplify[D[AngularMomentum, OverHat[t]]/OverHat[r][OverHat[t]]] // TraditionalForm"
   ]
  },
  {
   "cell_type": "markdown",
   "metadata": {},
   "source": [
    "Что совпадает со **второй** строкой повернутой LHS системы движения"
   ]
  },
  {
   "cell_type": "markdown",
   "metadata": {},
   "source": [
    "Таким образом, мы можем выписать новую **энергетическую** систему уравнений\n",
    "\n",
    "$$\n",
    "\\begin{align}\n",
    "\\frac{d\\hat{E}}{d\\hat{t}} &= - \\epsilon_G \\left(\\hat{r}^{(1)} R_{xi}(-\\phi) \\hat{f}_{ij}^{(5)}\\hat{r}_j + \\hat{r}\\hat\\omega R_{yi}(-\\phi) \\hat{f}_{ij}^{(5)}\\hat{r}_j \\right)\n",
    "\\\\\n",
    "\\frac{d\\hat{J}}{d\\hat{t}} &= - \\epsilon_G \\hat{r} R_{yi}(-\\phi) \\hat{f}_{ij}^{(5)}\\hat{r}_j\n",
    "\\end{align}\n",
    "$$"
   ]
  },
  {
   "cell_type": "markdown",
   "metadata": {},
   "source": [
    "Или\n",
    "\n",
    "$$\n",
    "\\left(\\frac{d\\hat{E}}{d\\hat{t}}, \\frac{d\\hat{J}}{d\\hat{t}}\\right) = - \\epsilon_G T_{nk} R_{ki}(-\\phi) \\hat{f}_{ij}^{(5)}\\hat{r}_j\\quad,\n",
    "$$"
   ]
  },
  {
   "cell_type": "markdown",
   "metadata": {},
   "source": [
    "Здесь\n",
    "$$\n",
    "T = \n",
    "\\begin{bmatrix}\n",
    "\\hat{r}^{(1)} & \\hat{r}\\hat{\\omega} \\\\\n",
    "0 & \\hat{r}\n",
    "\\end{bmatrix}\n",
    "$$\n",
    "матрица трансформации:"
   ]
  },
  {
   "cell_type": "code",
   "execution_count": 53,
   "metadata": {
    "vscode": {
     "languageId": "wolfram"
    }
   },
   "outputs": [
    {
     "data": {
      "text/html": [
       "<div><img alt=\"Output\" src=\"data:image/png;base64,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\"></div>"
      ],
      "text/plain": [
       "FormBox[TagBox[RowBox[{\"(\", \"⁠\", \n",
       "\n",
       " \n",
       ">         GridBox[{{SuperscriptBox[OverscriptBox[\"r\", \"^\"], \"′\"], \n",
       "\n",
       " \n",
       ">            RowBox[{OverscriptBox[\"r\", \"^\"], \" \", OverscriptBox[\"ω\", \"^\"]}]}, \n",
       "\n",
       " \n",
       ">           {\"0\", OverscriptBox[\"r\", \"^\"]}}, Rule[RowSpacings, 1], \n",
       "\n",
       " \n",
       ">          Rule[ColumnSpacings, 1], Rule[RowAlignments, Baseline], \n",
       "\n",
       " \n",
       ">          Rule[ColumnAlignments, Center]], \"⁠\", \")\"}], \n",
       "\n",
       " \n",
       ">       Function[BoxForm`e$, MatrixForm[BoxForm`e$]]], TraditionalForm]\n"
      ]
     },
     "execution_count": 53,
     "metadata": {
      "text/html": [],
      "text/plain": []
     },
     "output_type": "execute_result"
    }
   ],
   "source": [
    "Transform = {{D[OverHat[r][OverHat[t]], OverHat[t]], OverHat[r][OverHat[t]] OverHat[\\[Omega]][OverHat[t]]}, {0, OverHat[r][OverHat[t]]}};\n",
    "Transform // MatrixForm // TraditionalForm"
   ]
  },
  {
   "cell_type": "markdown",
   "metadata": {},
   "source": [
    "Итак правая часть энергетической системы запишется как"
   ]
  },
  {
   "cell_type": "code",
   "execution_count": 55,
   "metadata": {
    "vscode": {
     "languageId": "wolfram"
    }
   },
   "outputs": [
    {
     "data": {
      "text/html": [
       "<div><img alt=\"Output\" src=\"data:image/png;base64,iVBORw0KGgoAAAANSUhEUgAABHIAAABfCAIAAAALVHdAAAAA0HpUWHRSYXcgcHJvZmlsZSB0eXBlIGV4aWYAAHjabVDtbQUhDPvPFB0hJMGBcbj3OKkbdPyag6qiqiVi43ygkMbX550+JjRL8hIVDRDCmzftFFUWFmdpT3wQKr7dw0/lXiJ3WuU3gbH96/QDi7X+GSS6hM0XqM13wx5kuvzc1/3a9dprPQeZHGg/Iv9/dwtFQQ5ndJUINOqaKEkoKiVw4wWwMOPNr3iRByLYhpgV1mfjhI44q0eC0XjPFWyeYp1sjNkqW7nq4yijG/Ta2WeR9A1hQlrDPsyc4gAAAAlwSFlzAAAWJQAAFiUBSVIk8AAAADx0RVh0U29mdHdhcmUAQ3JlYXRlZCB3aXRoIHRoZSBXb2xmcmFtIExhbmd1YWdlIDogd3d3LndvbGZyYW0uY29tXKKmhQAAACF0RVh0Q3JlYXRpb24gVGltZQAyMDI1OjAzOjE4IDA0OjAyOjQ2o5yIwAAAIABJREFUeF7tnXn8Z1P9x6OFivZISfYSoQmVhGKSymTNiEghqexCZqxli0YUYxtbEdOkzZqG/EhiqBCKFNOuTfvq9/R7ze903OXcc9fPvZ/v+/wxj++cz7lneZ3tvZ+FHn300SdYMgSGhsC///3vmTNn/uc//1HHb7rpppNOOmmJJZYY2jiq9Hcij70KXvZNEAFbTmO2QGxCx2xCbTg+Ara8x3g93Hzzzd/+9rc1wL/+9a//+Mc/pk2bNrzxwlZZYuYyQcjLn5iIsdy/9KUv9WTss2fP9jfb5MmTe9KxDroRP/bDDjsMzrODLlkTw0Ugcjldfvnl3/rWt4Y7zFZ7bmdjq/Ba5YaAQyDyvDLEBocAtMpqq63m03U33nhj5ijau4waIZkWrs8I/ulPfzrhhBN+97vf1a9qJDV8/OMfv+eee9JN5+WPpJMjb/S3v/3ttttuu9xyy42wJ1ddddXhhx+uDjA7J5988v/8fzrvvPPI/PGPf7zrrrv+5S9/GWEnW2q62tjvu+++448/vqUuWbUDRQBxLwKjb3zjG4GtdPrpp59//vn+AJdffvmpU6c+/PDDAx11e922s7E9bK1mQwAEql1/Bl3/EfjZz34GYcmVRFevvPLKJz/5yY6oQ4q37rrrkr/LLrvcfffd3VxGzZBMAY72X//6V5jf/fOf/wx1+/znP58BP/jgg4Njjunwtddeu8gii8BWJTqflz/EMdbvM1KETTfddPvttw9U9fe//x1+pj3dyBVXXPHCF77w5z//OX2AIlx88cVvuOEGWkx06aCDDkJzVbh062Pi19Dbsd9///1PfepTr7vuumbHa7W1ikDby4lbapttttEQ8rYSO+sVr3jFaaed5o/0Pe95z5ve9CauwFaHP6zK7Wwc1nxZbxtHoO3zqs9Xf+Ng9qpCDjcuAizxWurVb37zGyT1l1xyiep/wxvesPvuuz/wwAOJ5uCv8O/44Q9/2MFlFE8yBe7BJ+ThBcv4/ve/P4wmzOXVV1/N7TtQtopJXXLJJaEVEsPMy29pbfW/2mOOOQYpAgsur6sw1c997nNZBnA1bQwHEcLznvc8eF1Vvtlmm0l0seiiix588MHoS12jMFTrr7/+AQcc0EY3Muvs+djZxS94wQt+/etfdwaINVQHgbaXEx6JK6200iOPPFK4lRA2Pec5z0F44Ybzk5/8BCHUUUcdVWeAY/atnY1jNqE2nFIItH1e9fnqLwXUEAtDR0FlQXrNnz+/8f7DliCk+9CHPqSa582b5/RRkyZN8u8dfp0xYwb2gT6l195lFEky/fSnP33nO98Js5BGJputuuCCC9Zbbz139YYB3XLLLQfKVh177LFwC0xPYoB5+Y0vrEFUiE7yWc961vve97683v7zn/983etepy2x0EILwWw3Pi5M+zbaaCNX7ac+9SnskV7ykpeoUcjEP/7xj+7Xr33ta2R2w0j0f+wo2WE+jzzyyMYnxSpsHIG2lxPSx2c/+9kY+EVupd122w0Joj/MPffc8xnPeIa/3RoHYUAV2tlYebKQf2FlygJjRfXHZbfycCbmh22fV6Da26u/2Rnv4Xa47LLLIOdEYr3+9a9v3AIIlQw1Y0EtJO+44479998fShJyRY0mbCW4uRI5LV1G8SQTrl8we2n1WgZbdfHFFy+99NKZTFjmShooW8WJ8OIXv3jjjTdODCovv9ldNKDazjjjDJZ4Qnjg9//AAw+kAP/efvvtQIpRKHx8swNcddVV995773SdF154IUQerTuZB2UwFCTnK1/5SrN9yKxtEGN/61vf+qIXvYiF3QEg1kQdBNpeTt///vfZGpl+wJlbCffFpz/96f6Fesstt1DDqaeeWmeYY/OtnY3VphKzMWwKWEhPfOITRUJBIVWryr4aIQJtn1cMrbdXf4Ow93A7PPTQQ9gfLbvsst/73vf22WcfduhHPvKRBodMVfjJQ5ak6/zVr371lre8hRaf9rSn+b5FsHbvete7/PLtXUbxJNOcOXNAKUHxJtkqDD+4R7/4xS/GIzhQtgrukZkjKndipHn58YCMWcnVV1+dDZYnq8DuGbugWbNmadSwNGuvvfYGG2zQoGyDaChITc4666xMYFmxCy+8MBa6/q+orTEObHsihjJ2ZDwsdWfB3DYsVn81BDpYTmwiVsIf/vCHyK00d+5cyt92222uPPoubEqhdaqNccy+srOx2oSiPH/zm9+MVBjp7XHHHSfOCgKuWm321UgQ6OC86u3V3yzgfdsOEG9YqxEuAg5HI4WEeMpTnkLgkAYHjgXgJptsklkhtwye/JwJhCJzBbDNW3HFFf3y7V1GpUgmHJU33HBD39XqcWwVvVxnnXWgiUthN1C2inXDtCXc4Bh4Xn4pTMam8PXXXw9KgWAVP/jBDxCB++PFMObrX/96g2wVteWJ2NUu+x++y9fGINjg2m57FoYydsxcARDxcNuAWP11EOhgOeEQnCkgdN1ObCUpfs8++2x/XDijkgnHVWewY/CtnY2VJxHRmzP+oZJXvepVrCgnm6tcrX3YJQIdnFe9vfqbxblv2wFSCuT/9re/+cO88847mfEGB46wPtMESU3IRNB/4gjTCXISrkktXUalSCYCUKN1/8QnPuHAeVyAdfRZvL/BUCU9GmIiaAmPiDG8cOfxDfjmN7+58sorw/76JfPyY6BwT9PGFB5KGZYEXUUlmtdh/JpWWWUV/1dUt2984xuddUf9kaINo5IAvFgerrDCCk960pNcW0gO/P/W70NmDUMZ+zLLLENcGahAi47d0kpopNoOlhMSR4WyzUuJraRNhwOqX16ngU6GcIo8jYuq6envdjZWmxgWFcJgPCXc529729v4m/go1Srs7VdjSRI4tDs4r3p79ectuULKM/1hD7cDtBMknMB3CQsFZrzBvcZlFCbqaOtlL3uZa7HLy6gUyYSTP7qlj33sY7B86u3j2CqCGmHgMWXKlAax67Iq7EGJwQ1ZjxlouF24RybJBVpwhfPyC0ex1157LbbYYh/96EcLS8YXYIt+/vOf32GHHRBmQMowqF/+8pfxnzdSUtaraaAyK0fIQbQPNEUsSkJc/P73v2+kD4rgj3QzszZkKrwNl1i0GA8QkbOR1uMr4YHwnXfembGj740hOmNqbmrsmsFbb701ptFqZTDpIQ4kmv3XvOY14MDSrVZPl1/1YYt1uZXYFHn7iG6kt5IKaxG6FLmW4k/jNALMC9IxzpPOFkOF1VvqbGQgfT4fOsOZhrDZlnrKJcDnHYjXvva1XXaj7bbaIAnoc4WF2vZIVb8t77vuugsKG2E9njbxmPd/O7RH1wUuoy984Qu4I8HdOSQpDI3tAloov5HLiHd35SVY4ZrTJ4TewZ75zDPPXFCD01uxJsjaaaedyqr5emIEWCoojfgfrLoTg83LL8REgRPwXSssGS6ADk0FMKWDP0nMNPK8a665pmYThMiLVOZiyAePSop5jQr8t9hiC3YC6uP3vve99Jz3qmt2VZ/TDXylYNj0X/bbWmuthUZY4ciwS0aOAlyuLQgy9h7e5I20HlkJ7/8AFNaS6MoZOzg0Ei2tqbETn5RetRcP8HOf+xzDTyxXToYGbUEjJ6KwWK+2WGZv29tKnB7MkXspoXArzZ49G7UzSs5EP5/5zGciywy8Z1LqNE6D0Gpg33RzFVZvqbORFnt+PhTumvYKIALDHGj69Ol5TbD87r333vgO8MpNH55Wa5wkAIEKCzUGt3iSIK82W94gc+KJJ+oGPPfcc2NgzyzTt+3Q3mUEK4J4RSBAYRI9DvIJWRX/xQYPb/kEjLgwpSPMUbjmZYRLp2YtERK8FMlE0BFIPlxtNZz/+lZJw0M8qLILoidsVamgNLI6QKWQGGxefiEmEKyoKeoEyIIZwPMBYy2ZtLKG6CERUY4++miUAEsttZTmHnWib5Ve2DEKEFyfz53zH/H6eK3L9wXMq0QLji7FtEJwTArzPDSFDznkEJydCIMe82FMGZBBbqGSN910k6ySCPsOf0WYmgQDQ4B12Kpf/OIXMTU3UgYJIs8TAzLBACAC2OcYU8kYtX5qZOzERQQxdHr1+5OugaMQwBk+Atrjjz/e1xyiAG+jxWp1trTFkCNwnmKu4HoVv8UyB9LeVoIRYu+7MLWFW4noxqgf052UtsEPZZEoU+o0TnzbdmDfRHPVVm+ps7H/50O1DdXIVx/4wAdYY3lxSnk/k7P0M5/5TF5biduNYhBnkF9dnv+ZfWucJKi2UDP7VpkkyKzNlrdg4YktDkac8+s87lJzO6Qvo5rbob3LiK5CJTqs3GOkEJxgeN111/mLDUEJwhfUQY1fRlDX3GWvfvWrEzWXJZnUf8LEU89/2SpMd8hlZZQ9K4lywYff+c53yn7YYPmyQWnQftBnJ7d2PcnLb7CrmVWxaDDzYz0p9IrMS8455xxXGFZqjTXWEGdVinmDytfjAz4vjmwJ3vrTn/50eFy4qvNhJl2V+BCtN4Q1hhxOa4QFYIOgoWAl6L8LUAn3cvfdd6cfHKNFHgXHZjId4LHBzqSrIjowQB166KH6iT4gvWiqxUbGrhUF59NUr/x6WLocAlioukytHBJWZ220WKHO9rYYwf0ZaeJV8cgtlh5I21vpy1/+MpYqbrICWwmTUcz/MjXbcq/y37/yB1L2NPa/7SCwbwLzaqs3/mykuf6fDxU2VCOfIN3j4Ze80JTwVDhgBO67zNsN2QGiXvxAmr2DGhlvfCWJ84oPqy3UdIt1SILM/tvyjp/WcMma24HK05dRne3Q9mVEwPQdd9xRmKCwwoyCwM6+5ZGD64gjjsB6K1MLXfMyQi2GRUZaRFiWZDrqqKO4Ez/5yU/S5wVsFRoSzq9Icy83VN4ywu5LVDtsetqmrqnVVlhPqaA0PNUsmu9HP/qRX3NefmHr9QtgAoEGxoUl3G+//QA2US2EmrqN+iK+xUsvvZRPnHbSfQhPRYvcW4GqUD7wrVv3gZIsekqi64vvWNmSmHYQlyIchJedue222xKIM8ZqsWwH8srDRMGjMnzI0KbqTNRTf+xQq1o8dQRpmaOD68MeDP1M4leekVWLIxcbq2PtbTHJOzCoSyAQs8XSkHawlbCnRRyYCPSU6AkX6ktf+tK8d1pl5YtgNXNJlDqN/Rq6Cezrt1h59cafjYM4H1o6uMLVcvtgv42uI7MYKxDTjHe/+92BSvJuNzDHeAR6qw/WgNWwTZxXlRdquvU6JEG6Nlve1eY3/VX97UCdmZdR5e3Q9mWEPGWjjTYqZBx4G4ZxQcNkQl3nMoKy4iLD5jxdc1mSSdtq6tSpVLWArUJvQ9bLX/7yppZIn+tR8ERSQkiWl6+xYKUATU/kflhqqHZWanqM+KclMpkbF/sfLg7Hm/RX0C6wpvvuu6/7Ccl3Imo5P6EAwbuxLFuV95Qbw2G6ubcCT/cSLYPmqKFwNtdcc01KygKwvQSYp5xySqB+TPAz1cTtdYma0aExdizpW73Ca46d5ao1jzSoWTQ4Ovyl6yonNGo8WwWJD2OG03PAwJWfUIkj+8jrPxoYon5j2IZRKCI6362rvS2GKTy7EsYy7UoXs8XSY+lmK331q18Ni1SQm8qeITN9+MMfdldIg8upm8C+focrr974s3EQ50N6EtvekuxlrDOITeyaxgHBrUkuOyJYIK7KY7r0VeCh0s9+9rMs0YDLVnrIzBQmT6WeTQ+cOaq/KZKg8kJND7MOSZAJWv+vv7wzqo0ZhwHmXQq/RZGOymFb6YZKdKmR7RC4jCpsB3rYwWXENY0TftgHm4eDM1VYwrDOZUTYc7RVmZWXJZmYQTYCliB0aQFbxSVK1uTJkxu8I2OqYh0g48fIspRParpmvCZQ5hA5HkNS/G3mz58P+YXOhzgh6aeNIeBE8CXo4Lx8miNCILJbfGawiCNuBLaCvP/lusHRycpAl+KMrGC94DGwq4RfYkHj+Y2pgxqlHp+ToQ9ELyQ/wN6oIcaoqOXxPkvscLWb6TKHDQ8/JYyXfGzlJBO4mW688UbcCumPhoYCmv8y2JipH3oZtiKDJWHHz9hxANB/I8OBdD988eSs5G6alq8mOyXcHHQV8iosSJdffnniupKQT3MsuK8QYRCoh9OK2hgCGwrznvPPP9+vlk3E+cjuQGdOohLCN1977bUq094W477UJuL6yZSzFG4xN4phbSX8Rhg1np+Zk1vqNPZrgJjO9EhkDTQSACZ+5Reu3sKzcXDngwOngy2JXQaesTBOhAwlseW5WHlRzWlQ9Rwnrn2BKQvfbqwZLlaOC59zCy+APfbYg0YDBFz8mdMNSUB/ChdqYsg1SQJX23CXtw9IgzMOIChVsD7F7EvW0ZxmSK9Y3lCM3FlcashiiGXHGkMMRzxu15NGtkP4Miq1HcbpMkKZcdFFFyEuwTlfpCyqkU033RROgSlDpx1447gUyaTXazhwmPcFbJXsApn1+IunTkl6gN4NFzSR4xBVNRVl0LJE9OZcpjb0BqxgXNBUOVxWoqsKh4XFY2Q+6MMv4WYgSTlGTbincyXoc4zseUNTbTm2ijgTbnQMjV3E67SOs/LZV716ljbSS8MrW08s92L831DaYIrqPx7F61JoA/xqpZ0DrrzgCgQKpwBBCPLmGjkBrKMc0qBl+Zu09dZb11kbQ/mWJafxauoJAqn/Xnnllf0cgiJTEc+jm+7J4plLJdAcnA/8D35ZkimgkZdFMd6f+ooTCnqLnF122QXyCPUyXnMC/B3veIcz9VTQHmdLgH0z/3XHZRtbjJ5ge6A7UolDDDFwwqeucIs5cIa1lRBgMWSEVpmTW+o0djWwMlGen3XWWek6H3zwQc49BYnqJhWu3sKzcXDng4DtYEuiSea0dBvH/eGbRehKTRvWqpMxtxvFOHyoxKdfw4unFJEdOHM6IwkYTuFCdUOOAS3+vBro8k4sgKZmHJYG4aCLKya2Ctm6C+bM8QVnxbKH79J7UNx0ONFQrP52iLyM4rfDOF1GhGfcfPPNdchAysJiuRdNYXoDFhlMTVmSSfQ29PkCtgqxEP9nkXVwaUF3EjaN5lhzRNtAfEKjjTjDyHUSDx+M/qHMFKLw4IMPTgwKoQL5aTl6Xr7YMHrr6kEhM2nSJL/arbbaijJ+SAAF2iahZCS+gsaI5w85yDOcpQH0Ijko1gqRpwwl8/wZ3OeIdYkiCJ8NcUk/+QTnKMm0CCmRcCfjjQXy0wo91SYVcKFyTA9dp0OpFI5oDApA8GmWcdPv+XCgWeknz0l10E+sIDDggdMAn7zmJCviKPDjd+sZCify0IMHSAT8WN4K3UNyMfTxFOK/KL1dW/hsEJtB/218i6EYR3uGvAZLXf6lac4xPZWY9nsMb7EEOEPZSjNnzmSwyIkCaynyNFYNXArcdgEmHN6bOW3VztaNJWb1Rp6NAzofGH5nWzJ8BMmrAbozHcqi1O2GjQb1MFORJ14pIjt85tBiByRBzEKlJ6VAK3VeDWt5p5dBszMOja6LyY/lg5RZmRCionL1lBEp8r2TwHagtvjLqOx2GJvLCC2LAIf4QTuCHRnECX9g1BY+GcqSTHriHE+EBWyV+Lk0BxJ5HsUXQ8iBKR1tMWeFrBTDRl4FaQWHMG/ePMojgRYblpkwzKNmgj2gTZJmKdNVQwYGBBpOVJKXj0qU8jAqEBP6BPUOQff9z+F2KOOzVe4xXF9aBiGoCXamYuozrzCFMUTyATMGhxYYPjVgoio1nSLSKsyxZH6KiYytlN8QejMyMbLKbJ3m+NWFY87robRwMS5Y8etkKCX16C0UQP+jTkmXO2vWrA6wFSeDQDfQFnaz6QWJQpU1qXA6sFt6+y+xPiG2EBCQzykmOlvLGMrbebVysUkWSGp2i8GtcRTATTHj0CswA1I1Kx4rKyFx5oS3WAKfoWwlvXsIVxyY38jTmBpwPIC71lPFeRUSM4oWwxFrmlrYMas38mwc0PkAep1tyfBMEVuZucZ0KlGs7O2mixuVcuTCKEVkh88cWmybJKCJmIVaFrRS59Wwlnd6GTQ744SDEnXns1VQXOSgrfJbl98HYe5jVmbeduDbUpdR2e0wNpeRAMTqGDtA+d7DHcTEai5LMslV4eKLL37M3YIEn8C/iQeM9VNmIuoFVnCZSfdfXiJYKlQRlyh/yOAnM2HvAWuEeJL379DEIRTZZJNN+OPtb3+7oq6lE0NQWA/6Jn6Uv8U+JpIG61SB7te8fIbJJQpThygaVRjCBoCS14RLssL0U+boIERURm2R9CA3rHMOEo9l0zRnNI3iec9lEygJPQphKstRikFZonHWQSk9ANoq/3O1m/co+COPPJIJlF8DCxSZPTnOEjLQvZ78xHLC2iGcoJhjeourEsWw85SwoM9JC57dl9nJBjHB7xzmDc2DbpS8JNs83Nb9ArBG5EvRga8jvhb8gduVX4ZzQJ4tSKG0nrXamQviBRHUBNUWUg8teLe8G9li7AjFmSTKHzPOgQPVogcrFPmQIxtjRb+34S020K0UXksMKv40BjEmi+2GEtId11x+snp3+HAp8rcog3TqfvXGnI1ak/w7iPOBfna2JQPHQmDDVrvduKE0WYXLRpLQxL2QdxGEzxzqaZUkoP7IY7YaaHkkQQLDYS1vOp84KNqecVoM0IGOCKy2HcpeRrqJAtthXC+jx9RHT3gCcw1iChsId4CWIgw7vxZec4kaxEAxrY9jq9KcRl7DSBYhgDJTgk5K1CCZLpwiRM/666+PxxGmevh0ueDm/ArHhYYdqoW9DedHIATE1XALYAGHI8vUdEIZKiIMKale9Q0n3+/IL5nOZ2PAp2kaeKoS4TSaGRcnpKidx/2e3mNydAsT5SidMHBC6RTGFiqTp5OoTSZ/oAF3ChryAJEmlMgKfofUbt6tg6Uiv+YBpXqkReSPobBVDBahAlbO4YQZbszM6l4ZxNg1j5rTRGoQE5gKrF/g5J1iNg9G2UL47kmJkoSxUY6c9/yECa7+K5Yeq1dZsaPugCVjmyBQcOUb3GKEJudQwoxej/VB2fCvThtigqnFUlvMH9SAtlJgLWlE8acxgjO4U8w+ZfqvBH2PC6sMLJXk9fHd737XR0x/j2T1xpyN9G1A5wO97WxLpifRz8ncsJVvN62QmGUjKyl4YP9qyLsIwmdOeID+r9VIgshjtjJoeSRBYlzDWt7pg2IkMw6GAY1CeuXk3V9lLyNHZMZM7jhdRk48h59VKeQLr7nEZKGTJKc6WwVThBQkMyncYWbCYkfSZWx4kJqz5zFpQ3PKunE6KKgxNDMQvviT+YopJNaEhHeP4aTrl6SNBAsUPtQkRhIz4Ke8fMpAKUKovfKVr9SH+M0jL8+kUOPPU5WUFDagGyG4HA7iGPVBzIUrZydgHA/bKTk9Rx5ie8dhYkZIpkwBXVK7eQrAACCuBh2szJf02v1PrD1sXQqT4vuFEyuBOJaUGQRblV7wbnRNYcJyQnXDVp0zZ05YRgPPr8OdIEh5ILsTEBeCRBlp50laohDlBDwgzo9kH1jYclCQozINbrHrr7+eCrElUM2wVYgAxWJpf6FjSTCB4S3mj2tAW0lrKS2Pd8OJP42JUcFXKNg1TUoEq2UDuqg/5MhVFXFeerV0v3rd2AN7ijLDOh+63JLpSfRzMjds5duNmjMvuPSykbAGral/O+RdBOEzJzzACsP3P4k/ZiuDlkcS+N0Y1vKm572d8Wrroexl5IjMmMkdm8sILkPB3gjugiKn1MYMH+/pqkTzPKaElHGnGIZAzLcYG9DCMvAh4v/gGjML80iFWGrnF+EXgyVLRFzwf0XIxIewDYXd0EXu+0Hpk7x8GD891IvBD+5VzlLFj+Wgx639Op21le9b5fhmxK5qVDRZnv8S0TJgk3xT3cDo0OlRFS6nKiN3/wceeIC/wQ1OmpsgEUJAcYSIA5lZ7dJLL82v4dblkbnddtsVwj5+BVxUkprPA3SDjLQosOgtNQcPr3CXYfc/17r6w7ZNxyFgd3AUSHdPQgeb6DOxtvSTDgReAlEB9qmWNAkSXN6bTW0xalOsHT1XwHjZUDvttJOalp/DBz/4wURXw1vMLzygrST88ejNW0vxp7F4J2hZVxV6PzhqXqJ0OY5Jw9ihJ6s35mwc1vkAsJ1tyfAkXn755SyJhPNzhdtN5BS0TqEXt/pTytMmfOZQW0skQaljtgJo8efV4JZ3etU1O+NcfLp6fJJJr4QlfKuwuiKTKAAxp1nmdqhwGZXaDmNzGSkQHanC3VGWZHJsVNIjSD1oKXHAyU0i4X7gmkPeDDdC55xfhN8THJzkKJxOBLeQOZCil4STODd4pESxvHy9xEdheELCuHOeSjODoUtRU8W/y+AV46V0UeweCSVCrHZ8D/xf4b998xj3kzwmnZYA1hQaV6FsYe3gaaFUEhZKajfP7SQPEL8zwzIDKJ6PMiU0drQTip7U86QFn+ltWL/nnPI4VaKxQUeUcP875phjJLBIJFHebFuMfv2fEARwtaN3xVFKFr8y1UiU4b+Q9Vre3I633XYbf6y44oqcnjxSwd88w00ETre8628xxPmyVdYWo0UsgeVYRZ95+o9jQbIMP4W3mF9yQFtJaynPdDn+NMbeXbSIr4YSUeIfcTLEYpcVauyrreQKqzf+bBzK+QB0nW3J8DRl3omVbzfwL2X5E7mEwmdOZCWZxQIkQdmFWhm0sCequj2s66/OjOjb9ma8wnaocBnpJorcDmNzGUkkh8IDg4iya6AyydQpW8WoZMWHSRvS6PQgxajwOKD/E4wW/gwu+V5Yrpiwg9zBULAQO92Ijz3a9fiUl08p4v86UQTv+RI5g0yfQpX3oZy7lJyJIMJ4l+mcFJE5KVMM5D333JPoDGbu0BD4cXHV0boSJCOKPswSFN01kQjyQQ6kJIcpjcINygIQfh2aDwGJBCcuSbrv+pCuMACICuP/oBCrASs4esK08n6rwGFFjKrTAAAgAElEQVQe+TsNPj9h68XTyTKrIxGyXHu7t0ndk+QpM0E1EoVGgWhIEPqEvPcXifIji9XEQZj7hlU1K/Q/58rBDZLH6DDfcsv1ggsuIGoFulBFmEgkCisHbyj0Ubz2ACtFrH+OCIQXMEiwZ/IS5Cfi0PifSwTFQ1WOYOJIUQFyFACTP2RN1NQWw4ZEIWd0TGEBiM0hz2phzcgbBqxzVNkJTqNwi7lBNbiVOlhOWkt5bFX8acwESQGoJ+pJHO+KyOqMilkbKO0xOMQcWhEgG08VVm/h2UgnC88HykQeevGnaB1wOtuS4U7iG8mq4AL1AyyVvd1oQs6ZmSLaOii5bwNnDmUaJwmos+xCLQta/HnV4PKGV4T+4Uh3Bj4cIMT8bGSOmq0kZsZp0b/iRZpLK+U6owKOCKywHSpcRvHbofAyipyyyGI15yh8GclADL4gHCMgsw/VSSbNdzdGgDQEc6L7Eu8IqBD0kpj/QjOxi6AGRCSxqXzdKH4a7mTETxSyO6055W1QPoTfiFGqKmAg93SicF4+8fcoz/uPGKfyCRc/NB9aXcqrBu48hTX333QnyISmCsso15AIPpKLPS0v4YRFIlJ/97Rc5nzzVXqkdE9kHzouXnXkD9gwPM0YKWQfkvXEJ2Jg0B/mgUbPKRB4XYH4nhSAUufsyKsEXzuiOFIMbgqzAT0FgF47UR7dGjHWILNWWGEFfuJvtgHmWzETOqoyssXPCyMOfwv7zZIgKgMMA50kfBzlzznnHL/DkcXqj1F+R5nmtTUrd6s6c62yZ/Pq13N5iUTwCfdKFeeaHlwm+h+Ut+rR2+WoiZxtD8cX+9E9HqpXldybwg1uMR5CoGYC/sA6wisi+IB0xvAYKhBf0PQwC7eY+6SprdTNckKFDg55522p01h2OJhTclAgVVl77bXZ+4iTODRgy4lmxK/AC9Nec5XmfV5t9RaejTQXPh8oEH/oRZ6i9SHqZksW9pNDg3l3L5pQvuztxieSKnLvFDanAqVMwsJnTuMkAd2rsFDLghZ/XjW4vDlMZFLr7H7RleGtHTlrdYo1OON0g3hmusuwmVKvWAZ6N5zkyEWkqwrUBOHk3i8NjyK9HShf9jKK3w6Fl1HklEUWqzODfBu4jGTCVpnsKUsyOTaqU98qwQdnhdkx1LxjH9lUPH6MIY0gSHuqoGwhH7VA3gSICSl8uFafyzSIJGLXpbx8FhnMADuBRB+gACD9HRWFs4rC1SvBGBCHHSm7zxyjcUJLIwJRCVYHZww1DSVBjvO2IkfeIHkJJjMPB7RPiM9d0xCjXP+gl1ke6yyaCHBNerwYEWZec9OmTaNA4fMLaM8Yr8hQ7D9JecbuskcHPXwtkF35D8XW3HuNf44wUsZg7gmyzCYI10MZwp3xK58wOxCL6ZKRxSqPwgnG9DJ1g0mW34GEWWCgOVhNZzTI/kKh6r/8y4f8F5qSJQ2DilErjy7AQXEB+x5ZGIxxnlAATTICWgqzufyXxJraYjRKnB7fQgaVNdo2+V6mU+EWc580u5XaXk7SIhLIJ3PUpU5jDmFiFOk9ewxUMOBEAMSigidhQrkaEDSGt1idxVx59RaejZHnA52PPPTiT9E6gPBtN1sy3ElRqAnnk1K3G+cG5wmUKzbzkYDgGMmSS8sfMz8PnDltkASVF2op0OLPq2aXN+wfe5+jW1DjVSvpatupqRmHU0IaqEBwSliwQze60ErkIBtCIIjsz1e5Y/zMOyKFw8zcDqUuo1LbIeYyipyyyGKFCAQKBC4jPYMEyBXeka9AMo2SrXIA0W9IH0dFQWrDsYAC1msJEOUO3pS3vbM/5A+/obx8eshRS/cI8os4B7O3SBfYyLUCS81Oc77vkV8FitFbgpXB7QSePIOagRtkHSSoWL9a+XQlHj72C8ikExlzYZ+14ND7hUtKMYisOqD+KmyrmwKyBFtppZXCzeF/D0vpOE8oURjs9CeRxSoPjXNfxz0NVa6kvQ+5++H3ApPOcuXNIgQEyPy40RM9gQMnhxMcpTdJWmU/Nb7F0FYBJt6Pge0Ts8VcJ5vdSm0vJ0l5nVC2kYWRnrWE2KuRVpqqpPBsjDwf6E/8oRd5ijYyxra3ZGEnuRCRFqdlrDG3G5XLNID3agsbqlag8MypVq2+avy8igGt1HnV+PKGw3EySjgNVNZ1AGzj21ZnvLDDeduBD2Muo1LbIfIyipyyyGKFCOQVaOMyoq0KJFMzbBVkEBp2LhjktYUUcwxqUJ9sLbjPRGEFuvD1OTG15ZWBc5VBP07nfpm8/DptRX7LG6bIyYiYGVm+sBiWluHIJ6iD4OUyjQld5QpVj5YpszlOGcQziAOxiizsj56cx2kyXFIutohvCysceQGZZKAWKOwJBqKI4iiGmi6g2YssVthcZoE77riD3jJfkVYH1Vrp81fNbjHegSgMOhqzxYRYG1up1eWEdIDlhGy7zzPeat/CZyNNx58P8Yde5Cna6sA7q5xNQYSqTEPTwtsNjzXMRhqUVHY2atdQs+cV1RaCFn9etbG8xRvI4AhL1DBl0v10jLzFwHYovIxKbYf4yyhyyiKLVUa4pcuoAsnUAFuFJkRh4J3JGcxVZWj0IdOPwg7XBcIVuKokzMPwpkEdkQxe0x4+efk1xxXzOZayhJRFJB9TOFwGc0r0fmmhvvuKyFpY1zhj37za5KDlOzhhlUecABQCfKKwAXnB2f06kUPLeDoNeKJpyVR661JF/+mhFMoYdnJzE66gcL64rhgUcRdQujoHofRXkcUKm8ssoEecMFyp9vl4fNXgFoNiC1jPAlfhFmt7K7W6nOTsSiSJ8VgYFUaRPhuppNr5EHnoxZ+iFYbTz08eeughjixCjPo64cLbDaMSDmfUHQFNcj/Hm+hVg+dVIWiF51UHyxujenwpUZNOzPdaCtdk5nbgq/BlFLMdKl9GMVPGwRVTrHD4eQVauowqkEwNsFVQFfjtYDiHrxSktkyMRHDXSZivbLnllqhuAGv77bdHWIUNFfwb1qV1qk18qxDMRHaOzG+w6UBVhIxDPhdghyK7QbyawJMIsKkE7oODLawNngHwYXRdSflsoCMmlM0qq6xC6A7fgyWvQoyFkELxoV6n8d17fEN28rFd5BJFqcJWpIfxZvGFY6lfAG5KRqoKbOhEa4U1IyOgMAHNCHDnF04Y8ecVK6w/poBCnA9CDRgznMplmtpirPyA8jxmi7W6lcCn1eWElIQjulfbs/KSqPZh+mysdj4EDr3E+RA4RasNYRBfcRsSb8kX3oVvNwaFD/OZZ545iNEVdrKp86o+SdD28gYKFOxrrrkmXouE7CpEZmIWSG8HcAhfRjHbodpllDdlWLEl3E9andmWLqMKJFMDbBVe4L5NFyYx0G2zZs1qZLlzaaFLwb2POIEyaW02EUKA3qbVa3n5zbYeqA12pX5bsIsuKlq6NhZ9vOeSIrS6iYZtRjkJ78cCwjULq7ZAb6E7WZoYMxBygGI4obL/8fh3tkM4y1HbzjvvjLwW6S+qQvzWiOhAizDtBK6JfFi2PmKRNSjEGQ8g8E55+o3avEoU4hKTS9+vSWP3vVMyi0V2rLCY5AgxXnCFVQ29QP0txp3By1oBHGK2WBtbqZvlhMiDtVToVTj0dVLY/8TZSPn48wEiNXzoufOh8BQt7OcYFPCptPDtxmDrb/BeIdbIcBohCdpY3j7UegDGfxm8VxPRn87426HwMopZP6Uuo/CU4RLC46jI4iHdXcn2Zra9y6gCyVSXreJWSAQ6P+yww9gSPDvTn8UX6AniEHpL8JZEmbz8QQyqjU6iOwIogsW7yuENiBxAaOBC3kxmSOge5c9zyCGH8F9ijrsPtWZgOVBPwajwEBDF0EcTFgy9EEqhNkZUp069HoPkL0bX5zeEXTsWHX6Oxo4y0Ff3pYvV6a3/LVpfmjMpYFN4NlJP41upm+XE3mctmaFO+myMPx/Y9cRjCBx67nzg5bfwKdrIUrRKDIFCBNpY3v71h48QstoYu/rCrlqBsgjEX0Z+zekpY0L1pt9+++3nSrY3s+1dRhVIprpsVXrO8DJMyOPLzmvH5ZdddlksPtN2LHn5HXevJ83xBCc7BMa9Qn/whUtERsY4OFEPDz7y+GPC3g/9ZBsqygpDaOQTREGTJ09OewZq7C4/r1j9PiDRWWSRReDZ6ldlNYwEgfit1MFyknwERfRIoOhPo3XORkbBm5v+7ZM+9HQ+QMsWnqL9wcR6YggIgcjl7V+LaMMwejQAB4RA5pRBb0Ax+u/FtTezLV1G1Ugmx1Yt/H8uUXUTHCpWZ0CJ7q9uXV19T1hG1CY8PZxoMC+/q371qx0MnYn15965K9U51FBYCvmfKHCFS+ivDz744H333ZdnwQj/4PLRVukdmzFIUE5owDli9NR1euzKzyvWCAKEFgDqzIc+G6nfKmkbgfit1MFy4sk+divaqrZH3fP665yNDI0ARYFDz52NaCDDp2jPUbLuTUwEIpe3uxZ5YohAI+7x3IkJ2rBGnTdlt9xyC48kbb311hpOqzPb0mVUl2QSZ+zYrGqMMoFfeed0WLGbMTYj5CCGHIkh5+VXQ2YMvuI5YPZGG/ZjhLAsjA04UADZC1wSCGkI7+EbGbvhaOyFxRoZPhEIsThCfNhIbVZJDxHobDnNnz+f0wBRSA9B6L5LdjZ2j7m1OAYIuKv/tNNOw+OaYE5I/RoM9TwGEPV2CIVThiMf2p7CYvUH2N5lVI1kalJbhSQeh5PZs2djUzcgbhslDAJX4mUhF/S7nZc/oKE121XUd0hML7300marpbbVVluN8A+NV9uHCglHAVvFwcERM2nSpHSXNPbCYvXHAueGsnHq1KmID+vXZjX0E4HOlhPnAAJmvcBoyc5GWwOGQAUE3NWPzwVv5xD9BfebhEFHhWrtkw4QKJwy3jZYbLHFCovV72pLl1EDJFNNbRVhBlZddVXCrNdnPbuvgUeEoGtnzJiRaDovv/se9qRFHlxbaqmlEgF/e9I360YYAfg6rqvEy9cGmiFQAQGCSi2zzDJEnanw7bh+YmfjuM6sjcsQMAR6i0B7l1FlkqkZbRWxXxHXIQuH5hbredFFFyk0xyDSGmusQSDvo48+mqCQfofz8gcxqDY6iT4XhRWx7Nqo3OpsDwGeueDJl2nTpmnDWzIE6iDAOYAkD1v5OpWM2bd2No7ZhNpwDAFDoP8ItHQZNUIyLQQzCoLYKd1+++28tC1j8Zh033338XQVb8Lq+Q7qQWd111134YRD2LGYGvpQhm5PmTJlnXXWmT59ut+fvPw+9HkkfcAHkVDp9957r6JnWhoEArzTPXfuXCxd4YoH0WHrZG8RQPa08sorX3zxxbxL0dtOjqRjdjaOBHZr1BAwBCYmAu1dRnVIJsdGVSS2kFkSM5oAgDfddNM5/5eINktUPXz0B8RTsSKxj8I37Kqrrkqszrz8ibmIGfW6667LO1SXXHLJhEVgiAOHobrwwguNpxri3PWtz3PmzCFShfFU6Xmxs7Fva9X6YwgYAmOMQHuXUSMkU3Vt1TjNGbqpTHfJvPxxGnupsRggpeAaeWGbr5FPwdh0wNZSeCoNn7FZ6jYQQ8AQ6DMC7R22dWquq63qM+IV+pYXgsZC06SVeBXgtU9GhYAt4FEhP37t2loKz6nhM35r3kZkCBgCPUSgvcO2kZorGgH2EGjrkiFgCBgChoAhYAgYAoaAIWAIGAIjQcDYqpHAbo0aAoaAIWAIGAKGgCFgCBgChsD4IGBs1fjMpY3EEDAEDAFDwBAwBAwBQ8AQMARGgoCxVSOB3Ro1BAwBQ8AQMAQMAUPAEDAEDIHxQcDYqvGZSxuJIWAIGAKGgCFgCBgChoAhYAiMBAFjq0YCuzVqCBgChoAhYAgYAoaAIWAIGALjg4CxVeMzlzYSQ8AQMAQMAUPAEDAEDAFDwBAYCQLGVo0EdmvUEDAEDAFDwBAwBAwBQ8AQMATGBwFjq8ZnLm0khoAhYAgYAoaAIWAIGAKGgCEwEgQWevTRR2l40qRJt99++/HHH3/AAQeMpB/WqCFgCIwfArfccsvPf/7zKVOmjN/QJtSIbr755m9/+9sa8l//+td//OMf06ZNm1AIjHCw06dPP+qoo0bYAb/pibwS/v3vf8+cOfM///mPALnppptOOumkJZZYIj01hx9++GGHHbbQQgslfsrL78nkWjcMAUOgMgKOjTK2qjKG9qEhYAiEEPjtb3+71lprfelLX3rFK15hSA0XAURvq6+++p133umGcOONN6677rrDHdGAev7xj38chnb27Nl96PMEXwmf//znt9lmGzcRkydPvvrqqzPnZYcdduDQO/DAAxO/5uX3YXKtD4aAIVAHAcdWmRFgHRjtW0OgRwh861vfuuiii3rSISgwaAiIb+OpGp8RsEVl9M9//rPxml2FP/vZz7bddlvE8+RceeWVT37yk//n/xPLTDzVLrvscvfdd7fXB6v5uuuuQ1X10Y9+NAAFmkMWg6xO2kisATST3/jGNwIr4fTTTz///PPbaD1cZ9tjp/WrrroKFZO6AYt78sknu41w3nnnkfnjH/941113/ctf/uJ39cgjjzziiCMEWkx+99BZi4aAIdAWAhzHpFe+8pU0gBGg/mvJEDAEBoTArbfe+pa3vIUt/J73vKcn3T7mmGOgxe+///6e9GecuiFT7ec973nz589vY1y/+c1vlltuuUsuuUSVv+ENb9h9990feOCBRFvwV1hA/fCHP2yjD1Yns7DkkkuGd/SDDz743Oc+l8Vw0EEHtYQYzDMqmvBKgKlAenLaaae11IfMajsY+xVXXPHCF74QM2Y6AI+0+OKL33DDDQw20R/AR3P1r3/9y89///vf/4IXvODXv/51onBefpfQWVuGgCHQOAKOjXqCqja2qnGIrUJDoBsE/va3v5166qlY+feHrfrzn//8rGc9633ve183CEyoVi677DLns/H6178+QczVhwLtxJve9KYPfehDqmrevHlOpIeRA2Sl38SMGTNWW221P/3pT/XbtRoSCBx77LEIJn7yk5/kIYO68nWve51mhyWBUrFxDHElWmmllR555JHClXDPPfc85znPSSyPxvvjKuxg7Pfddx+Si2uvvVaNbrbZZoJ60UUXPfjgg/01zx5cf/31EXb440XfS0nUVgkQ8vLbw8pqNgQMgQ4QMLaqA5CtCUOgOwS+973v9YetOuOMM+hMZzRWdyiPuqWHHnoI7cSyyy7LdO+zzz6A/JGPfKTZTsldBL84VXvHHXfsv//+kO/QiCIrE0qJZz/72R2rKZodbz9rg2148YtfvPHGGwe6J9cd/iXcFIWf//zn//SnP21wOMRmYHIx8ItcCbvtthuKzQY7MMKx0zSmfRtttJHrw6c+9ampU6e+5CUv0S6A2/zjH//ofv3a175GZkI39da3vvVFL3oRU5kYSF5+PHQwclhdAviee+6J82r8h1bSEDAEWkLA2KqWgLVqDYHRINArtooIB1D/jStSRoNsb1oFz/XWWw+/pl/96lfqFPzMU57yFNw/GuwjniTQgukKaVSGpk972tOwv3IF0Ji9613varADVhUIXHzxxUCNCjoPDezTFllkkVmzZqkAhmprr732Bhts0OCm+/73v08fCE+S6EPeSsDv6OlPf3qDHRjh2Gl61VVX3XvvvdN9uPDCC5/xjGeAjNPoCn9yvvKVr/jl2Z5kOmNa91NefuTK//vf/45yjJqf+MQniseDuYr81ooZAoZASwg4tspCVuhcsmQIGALNIIBLNzzem9/8ZnfrN1PvhK+FywA/+Llz56KXEBi4PN122234QTWIzTe/+U3s+tIV0uhXv/rV7bffHt8SLKNcAQoTabrBDlhVIHDKKafwL2qNPDRWWGEFlFQ777yzCuDGQ3yLQw89tEH0WAnUll4MgZWA9a/kO62mDsb++9//Hq4ycyNst912xGZceOGF2Q5umOCPxaAQc0liCNRcCTTy8iNBO+644xBtYEwIf8vffAVDi1Y58nMrZggYAq0iYGxVq/Ba5YbAhENgzpw5YYpwwiHS0ICf9KQnvfGNb0RH4deHTB17pIZaeKwanKlWWWWVzApx4Nlpp534iTAVrgCF8ULBIKrBPsRXBasZX3goJQETAn3llVdeccUV8/rMpCemCVKb5dGgLINAOOgtpZlJpLyVQDGYvbZx7mDsSCtYWnkb4aUvfelrXvMaYgCimvM3QmLsyyyzDJE8rr/++ocfftjHJC8/jRt9SMf8RCeGxmyppZbCme3DH/7wq171Kj5kstqG3eo3BAyBGASMrYpBycoYAoZALAI8AUxR50zvf4aElahZRESAKEHQzjswsZWOrhyUDf0kWDxGVmgP8GX65S9/Obru/LdlfDaIaoANHlQa0UGQrzfSK6wK3YOn6Qrx4SHzZS97mftJhQmu0EjrpSq566678HWB/cCnqNSH4cIjn3GUIaCauYMye97eSlCE/czUk5XQ0tglvAhvBJRmSDocOGDl/1f5msQ0z5OXn4Aaxzm4ZaIRuhVOl7AhxOfNlXzb297G37BYDW4Bq8oQMAQqI2BsVWXo7ENDwBBIIgBt8Z3vfAdSQFSXn3AXQcyM1Qru3TfffPO5555L4OatttoqQLqNBF8CW//gBz9Q0xi84a9CPz/72c9CG11++eUEjn/5y1/+9a9/vWbfQCBAtBVWjpicd6V40QizQNhUYoQoFGT9hIkX8Sry6vnCF76A/wxaEVeAwosttpgLaFG/A/E14FRGDA9UZ9dcc038V5klnR1jezOOysLX8gU6TOR6fvV510Dh9lYC0fPLrgT66SxUa85IzOftjV2jyBs+wVc5CqZMmeJ38ne/+x2IJbqNXoscSZr8lJfvl6GJE044gRxWDpaHOicxPpR6yiVkVU996lNf+9rXxiBmZQwBQ6BtBIytahthq98QmEAI4JAAYYoc1wUB1+DhSd797nc/85nP3GuvvXgfz1EkkOk8stkfgIheiOOpI4PoM65i+EIcffTR6NkwvBGxhfIKKiq+2zhErbHGGr5NEc4zm2yySWXFFyGeL730UsJLwOHg1wHaTZGzKBLdI7/obXiQh8FK3E6kirPOOuvTn/60cFCiMJ/EQ9Fgybe//e2QmITxCPggFTYHicxTQqj7iARA4fZmnEfGUC3GPJsrtipgAegPqtWVwHu7P/rRj2guZiUQYx0TRJS6hZg3VaC9sXOC4SvlNgJ7jXGxZ4mrTuc5slARH3XUUW4grCIedktvBE1iWluVl+8qZLXsuOOOKGMV85NTKNNxDh01RyixOtMcXVMgWz2GgCFQDgHFxLB3q1qKDWLVGgLdINCTSIBnn302BxD6k8SoIXzXWWcduAiXr5IkCIJuICpsBdoFEzgeAVNJMVfnnHOO+xCGCu5I3XbFCqulAEHD+MR/2hWCdcstt0R9B2EUU4NfBosgtEOIqIkQoPwKleQ1iiIOJs2FinbP9eAlAgNDXAT/QyTohHw888wzyw6hJ+XpPyuToSm4YqszTv08KYuuD740PHwIelYL7lWFKLW6EliivEfsoueHVwJdJSJ5euMXDqFygVbHTq+IB4PMQt1DmSkzV57jW2utteBz/OjqFEADz5b8xS9+kRiOVhRiiMh8FYuP+fmBD3wAzNMx3Cujah8aAoZANQQswHo13OwrQ6CnCGAxwv29+eabj7Z/KKPoBnJWvxuY1eGrgD93om+8ciMWJU2OdD8KqDTUPigrXNP77bffFltskegJlLH6DNUV30kxY8iV/U9Q6yHzhqyHuI+vipIY/lEbPhWlvoovTMB0N4NYKt5///0oIhwL59dDT9DAlO1/fE/aLjl9+nTIZWzz1FDbM04T8FS0CAOfNzTpQ0ioiQqH3/ZK+PKXv4zCRNKQ8EpAIYO+FOvZwj43VaDtsXNqLb300l/84hfV4T/84Q8orzJfZ2Yjo8vKjIaPkapmM/GkVV6+2oJNQrqBBszH6s4770zAe9555xGrkI41BanVYwgYApURMLaqMnT2oSHQOwQwAsFqhcsbZcsuu+zy3e9+d1RdxGCMbiDN9TuA3H3fffdNd2natGnxbBVWMTyhc++99+Y9jEM+dA/EKPRf5vAhVtDp4ZADn0AZiCFXDAMwnBPQJOCo4DJRLmHTmKiKkrg3lGKrMBfkExjLhISbmnHZoiqI+1Lzteaaa/IVlkilvoovDKHGQ6h4wYU/4UEe2EUIxPiawZy1iggg/pPArKkSyF9eDUpUSK/c614sCUjSdIu8o4pezl+ZHcw4w8E3DwY+7+leCHdtihhyue2VAGiERUFLmSDxE2AyFpyFOn6XtoOxY43JucqhEViunCR4OWJHmnnssOA1mwgm/Ery8uP3BZw5UUD98yr+WytpCBgCjSNgbFXjkFqFhsBQEYAhgfTkMSLIiEceeaTOMOQ0FcknEFWPwpg8hVv85Cc/CRlKqCv5D+CW4ETI+hBtAy5AxMkQw0NIaIJMJAgOoqtB+eHchc0MVdHohhtu6NrVA51YMRWOnXjHimHNczSFhSkAGX366adTHirQZ+T0LaQYYb4g7gnWXFgbXCVxPtwzOBgW8t/Zs2cXflihAEvisMMOCz/timdXpgor0BysDlAccMABkV0KzBpNw9dhSIkoAYRVIQwz3CYuLkAKywo47ukhZt/nZNCwgTydyWNvXA+bnXGq1XrwLUJ9NFyQ7oAOsMuVQN94oCmgXqMAahPeTYqc05rFOh47/DkuVYE+I+gJG8HqUGIlJyrJy6cYSw6t+Cc+8QmeicPmEIkSOkxUqcQP1NFHWCAsV/1Dg5Dr4TmqCbt9bggYAmEEjK2yFWIIGAKPXnHFFdCgigsMtwCFSry+OrgQN4+qCEoRU4kiDRBpPa8wZP3WW29N92bOnClhsF7SpKtE0tNXvOJCJDqcQBCW4w2Cpm7SpEmUIQaxozMgwXFvwEgJ6pAMcFQAABWVSURBVIRPsDkkzBrqKdfuuuuuyycJI73MXslZAjsuHmsKjxFtw3vf+176JnE1Ce8L9Hjou/wP9aLrxz72sULEeKOGyZLjDZjwNwl8Cj/sT4FSbFVg1mBW0ae5yBmOrSKyCL5eQhulEBpCnqV2nBW8t4Pi6quvpszqq69eCE7jMy59FMw/1HO6dUU1REYQ6NgYrIRC2PMKDG7sevgL56vEiPLyKYaxHzFUeDRM6wR196tf/WqtargspEi4eHF8cXSQsFtGVEThsEaxMuD2oSFgCMQgYGxVDEpWxhAYWwSQhUuzxLV9yCGHIHOFJ2G0eRZ0kUDIMidGk4PhFkZ3cBrEl8urXJoZlFquANSJyAtxbsSQkArrM5/5jCuDgFlh8dBrSUEkUhUvIFcGPQbcl/4rPwf0GzFmV8iMKYyneBgQhM04pUADYUbIv3wC+6d3exNOWYiZyQS3SITRclAeMiuyfK+KlWKrwrPGuNCQaDE4topM7P2Uudxyy2EUqiWNmRY5SA2ccz+2suQwm4X4ND7jtMhbW7SeULqqJ6jg+KlQhUvJQa+EQtjDBQY0djTtTChv3yVGlJfviu255558iAslpw3xQlDM8l+4ymWXXVYr3E8Ju+ua8NrnhoAhUBYBx1ZZgPX0AWU5hsD4I0B0YPzRUenAAPD8EXSeQl0lAqOTA7uFBQscDqoAiANEp+h8sAvKxAjOhHyZyYUThoKoI3gGKv3ClT6kIZyvMJURXau08cYbQ0AQWRstDf/lcyj1xRdfHGsZVwZHc8z5+C8KJdRc/EHQPP7FfEj2VySIFXE7JCzH+BcoJD8OJEwlsQiCXj/yyCMDxeCgiMYBawdjwOiw2EErQotY9fAVffCDs8N9qavhpt2vzAV/S7023ik8a4xdhGkiMfvKgXHS008saVRb/MFKJgq2fhXgAr/jGXftZk46rmIUiNlBE2clpCdoQGPXVGJcnRhFXr4rpuCuHMuEr7jooovmzJmDFAmPR9ZwmuDT2WLJEDAERo6AsVUjnwLrgCHw2ItAmAaFEwEP0kjxjhCuR5kpQKkT2kuMAfEDpF/KTIj24WFgNrBIwXAOYT9R0dEOwTDMmzcv8xNRD7IqDCTM82bNmoUFy957751XDOMr4oZj3IIrlF8GAgIxP7wNmQTD4F/97Sdi2em/6icGM5RBa4GmCPbmrrvuQkvmWCy8ayhT+O4TnyM25kOsDRNd8psGAfmvE/MNVy7c1TBlVHBqRT6EJMIpwn2iduFU04RXGhmKof4ifyhsFWx2YlXTebhKP9NFRUuMNzxrFJZ3SiKl5QIUIOKiimF3pz9iJr2lGXeLTX1IJPWwcAeNwUpIH3d5KyEB0bDGrqmUvMlPefluoer5Mp7Mwl0QxT5/I/pJLxjLMQQMgX4hILGH3u2O9Igoqxqz8oaAIRBAIH3jZp4RqG7SleA3Ap+TmVAo5TVKNDw1gbQe/xyeZ4HZeMc73sFbpe4TOD3oWojUhLcV8Qb4EB1XZuVS+MAyBcaLtBVegsdww8+tnHjiiVTFE7qBquRo5J6X8UtK14FeXpno2WALNWrIcdg5F24BppRMntUKr1JYUCTHKKDCxXiilNpQj6iYHvHk3Rv+llqM5Edbdi8Cx4TU49ko1VAYaKEnOw62PObCy4uNEZg1BijFDsk3AnS7yXdXcwveBckUhRqOSdjSjNNzGG9ax/UuT+0AHxiewYm2Enw0hjX25ZdfnrlOE1d5+RopXq9a235knZ5sauuGIWAIpBGQEeAJJ5ywQNqHCJb/c7fFXIFWxhAwBBpEAAaAqGuFCfu3dKO4l0CXZyYFhMhMzikFrgmNELYlDz/8MLS+E/8jMuc6hxmYMWMG7JZfCcb9GN3BjGXWrBoQ8+c1jc4N1Q0kBTYtYZE8/aES7O5wA8urTaoJ3LTSBeTw7Ua01VZb3XDDDTr46B6PzOBaBl/Hf/H/5t9MZaCrlph7aMnw4JI5WSBdf/31/AqnpzLo5eAh4dn4W2wVFLO4QSXXrgTS4STbJ5hhRbHrf9p00039hU00c/qMY5ifyQNEmXonSgZmrebYCye9vRl3k54544U7SAMf+krIPO4CK8Gf7mGNPe8wDBySDFYhVUioqmoudfvcEDAEOkBADNRjzJRYLlFs2AUZD2oIGAJjjwA0Dfsd7ihvpPBOFOBYyCyArX/eh/Js8bUHfkmcWxSZDT1DIcgYHOooxK8gURhGC7KDzPXXX58C8KXpSN9y2dKztnBoevKVgw9vK2dLo9AaekmZWIJ5XUJDRUy5vEH5X0EqgSq1EYiCfMZLSLeddtpJZRQm4YMf/KD/iQLNwWHGBAuRR9l2221XiF4/C5QKWRGeNQZYR1slRpfA+plAtTrjtCiRB/6N6dYx6+UnghyGZ3DoK6HO+hzW2HUQIZRJDDkvX8WIY8lXmBHVAcq+NQQMgc4QwLKGPQvdskBbJYMZiIAOWDprwhAwBEaLgAKRoSdxhKnfHzx/5ADNy0iZ/XSqmPSveBORman3hm3A5QmNDdH8Er5JRJ4QNeknERYkmED0af5PcH2YJpIj4hjdGrHR/QLEGsYZjBxp1fQeMX/gJo6fGFo4aXswZeRfeTclmnC1Ecl98803J1zHbrvt5jeBg5ALeuHyaRfHD/4rRdxtt91GKEI5VmH6yPM+tEuAEL8etYv+KtMpKIHJgDz1M1dOqczwrJWqKl04MOltz7hbbJnufIEd5I9iQq2EQe8CHYZpt6i8fArzUJVcKBXw0JIhYAj0HwExUDBTC9iqQouI/g/JemgIGAKRCBDwAPULhbH4T39CxDyufAh9HK7cr4h88Odxicd2M9sSUcjTTOlf99hjD3ghXLOIjHfl/6cLLrgANyfE9or27idMxQiJTg6vuPAOJioyVFIwJ/BFfKWeH3TQQTKowz9KFn1KcFn8F+5RCiISDToekpdhiSVIpmgdHtZExUR5DA4TfSC4BVZ/xPGDx3N9JtAffl+o8tZbb71EeY5URUcQw4YFIA5dvCpDOAr0ZijZ0JUJIpcIbc/fDDATTz8TRhGHN3IC8SpogqbxkYPBoyTzxd+J6YC/veeeewjk7dyQUP0p7FjfUmDW6KqLP6HBKrll4NuOupJOdCjAwaH7GWcroTvNm/TADnJdLVwJ8VOMDTCuSs5bCXUibw/4ePZtSRSOnQ7H7AKNC/thno2+9dZb9V88msSvNpi0+9xzaq7mvHwKyAIQ0czUqVMb7IlVZQgYAu0hoKBTjzFTUpDxcA3/5125zvRl1pAhYAiMEIFjjz1W58sOO+wAMYErP6QVFAZdkmIH2t3vHhZZ6IjEjOHbk2cwjI0fBdK/HnjggYHjbJtttsmEAq4mwYRQCX3wH/yBClRoeCS7ioFB7AeeduEdXkakaondRwGeKkZBx39RKPGkFV8Ra0sF6AAF4Hn8bqBYcw/OZnae7qW7ffLJJ1MYA2tYAnhFuDIINYx54Nwyg4iId/WDheStCgLiiz7LC/DAh8wRsUBUIS84KQR5IjADmjfZauLKorZQmzCnHazGUkaAhbN22WWXaV6Yetd52G9lshRdplt++Aoqk7mjTMLWrpsZFxGPe2Em4Ir/hodVYDoKV0LkFPOuF/IF1KRsFpnREr6S1s8555wOFkO1JgrHHrkLKIazJbFDIINWWGEF/svfaLMLQ9eU7bYi5dBW4sO8fIrJnTXPBrtsB6y8IWAIdICAqKPHHk5UY4o1jLFKB21bE4aAIdAHBKBK4Z2kqSahaUGET8fwBeK/mQ48CmVOXLW8/uvdVVRSfgE5LwUSZoF5FWKRCGfiQhrgl4UzUqIwdCoKKOpH+0T0QhgYFFB6ClYJUgwGA9qRRAH8nSCkfCZHBPoWW2zh1ywLw7wkrNIJSTmqM9++i17xsqecuxIJ5QldglPCpLBwSRAKks68853vDJdU6BFxdKBHSnttwV6i5eNZJ1U1d+5cUZZtJyKjMASYnJiGArMGe4YmU+y00hprrIHxHi9H+y8+oWNEX+eHVwEZFJhqfe211+ZDFxuQnA5mnFYweaXdPMEE61YjSrsLOtBiVkL8FEvC8rnPfY76UeuhXEUbHDNBIykTM3Y6FrML1H+ZOrNyUH2jv2WJNjgupx31jyPqz8tX05LmxDyq3mBXrSpDwBCojIALPfWYzkq1SOk8adKkypXah4aAITBQBCAmoOEc8c2Lk5wGUFeJ4WDxL9YFziFvpHJA4t9moeDMuv322/245On6MeEjHjfPvGApl/gVIgYfJwbIUznwYBRIcxowk8iPMclrqudoq4ACWp/W8+qUcoBuxzSqZ6+kUQwnBTxE2xMoRuQMymBgSRmwRVRfVGvXv8fMWp0+4b6CKMEFFKlTlb6NmXE2GopBJihvVTjzWv7I61LkSoicYuKIwm06dp3oi30O3x85dqCL2QUUk1IUQ9+AErjy2pB6lgTIfiV5+ZUbsg8NAUNghAjInhwJKX1YwFbhdYAlAPLLEXbLmjYEDIE+IIB9FHoAXqBKsDFEXODgSKh0Eh1WOGBUJX0YSKk+wFuii2vQ8OaMM84IB/LCrwNVYSRZT/eYFE5tLBgLx8WzxcwCwTACJcUDSCK+6667Zho0FjY09AKnnHIKFx8x8RsZSOGM0woqEXi5ANrILBRMkngnmb2KXwnxU4wfo25/dJuF6tBGsKpWSfzYqT9mF1BMDzmgs6rWpfBXesqCnZt4oy8vv40+WJ2GgCHQNgJSTWGBT0MLQlYQmAv3btTfTogiEYslQ8AQ6D8C9913H7Yx+EbiU1F/C2M6xZu26LJ5rlRemCSk7GeeeSZ/BMIA8quC4ykK37ASbCTkNR78xJbwo19UHgWRPxQYIzOhMcNID0tLoZqZkHYRmUMUGIaX9IrwHoXPW8F3SQAvL528hBEjPvGUYfHwiYu7WHm8Q/wQfQ4Wm3jWEXWwfv/DM079CB14+uzaa68NoI3iCLORxCaqthLipxgVELc/rmWEqdTjCv1J1cYeuQsYJrFb+BetchtD1kmIhWrijb68/Db6YHUaAoZA2wjIWXdBNCnHwylkFvKttrk6q98QMAQaRAAXFKShzqUEhYYsu2omfC1wEMIlacstt4Tu5JUVhC/77bdfWAcCGwZduMQSS9RsfVSf41sCW5X5oFDZLhEVw/fbSXyOww8MVbhOOb1A8hKZjTcxqBCur7AbxG9AB8WHKEYo7Jw6sHEi+Jj/OTqKNddcE3c46OnCase4AKFNUFQy9TXHGJ5xeF0uXVSUha3sv//+TN+pp57qSlZbCXyeN8XYxPrdIGgNLR566KGE2SzsXscFqo09bxfQeX/s7A7kRDz8wBGKpTGzE+PlGI+A3o1Iq8Ly8uNrtpKGgCHQHwTkka4nPRcYAfIXXuPkQjb1p6PWE0PAEAgjACkA5wMLhCqDyNrywocRagQ3HJBwWCK0A4cDkc0jfQ8IhEAfwtxXI91rr5IE+1GhIWrgydfAh3BKhdUS9BxuGYofLxEccjDQCnwCCwethlUb2gaKEYICKh9VDAES+C/Cexhj2N158+a5SvbZZx/HfRV2ZrwLxExHGIHCGWf7RO4gtjPzQpgT12KpleD3M3OKeZWOdeWHT4RdxxgS68SEC1AfJr3U2MO7gOFo7DvvvDNujagNiQ6K3pgQHQBOEBHCcsa8VB4PizjktD9kXn58zVbSEDAE+oMAL1JCiemE/y9bhUk3P6y66qr96aj1xBAwBMIIcGEjY3ZleFKJW5ynk0aIG6JfJ7YZYTfGo2nIXFzaiM5cSJGjmxJHLS8OvZmBFaI+hG5WqHpfcIYvENwaCsbxwGpsRoHykJki1KE/oviV4H+VOcW8r039aJV95Se3P28D9BPD+LGHdwGj09jhIVFPYU/Ly3JkYgCJDTABQpFMNYsAvpo0l9YG5+U327rVZggYAh0ggDSHbY4MS239l63iP9hV8xtRoTrohzVhCBgC9REgmpneYlIivBjkApZd9WuuXMO5557LMYI4tnIN9mEFBFAtJow/eb/Lr4d1wqT4D2TxPI572qtCi/ZJewjw8BreOPUN0vKmGC00jxC4eJhohCZPnpwOj9neAFuquXAX0K7GnrD3IxgGqdleseN4ygZ+NVFtXn6zrVtthoAh0A0CvCjDce3CCC8IWSF3Lvyhl1xyyZNOOkn/tWQIGAI9RwCXGx4+cp0kqhXKCmIhjLDb+Org3+Weah1hTyZU0wjgV1ppJX/IevPXJd77IjDD1ltvrRzeKiRwAkZQEwqloQx2jz32QM2o6FKVU94UY69ITBpe/WbNUDnMG3JW+G39d9CpcBe4sWOx457sY8hoq0jNjv2aa66hOcJsJqrNy2+2davNEDAEOkBA0bywKybsn5p7HFuFThw3WQy74bo66I01YQgYAs0icPbZZ/OulCxhRpUWXXRR3DbwBUcqPKo+WLtpBHhYg3CCmBTCfe2+++44WWE+akD1EwF2EPsIt8YK3Zs5c2Z4inmZGgfrHXbYAZt/hCA8VEXASdiMCm0N7hONnaCpHfQc0RJP4fEiXKKtvPwOumRNGAKGQLMIoIiCddIj7xlsFVmY5vOUJ4GVUaY327bVZggYAq0iQEiDGTNm8LYsT9C02lBh5cja8dzgZd7CklagMwQg71BsYl1GgEfCiuB1Mwbaic7Q67gh9L0E3ydAH+qOsk0XTvFqq6226aabErkBdSVGMshSFdJ9IiSNvYORYjUA+zR16lQsgPzm8vI76JI1YQgYAs0igLDyuOOOu/DCCzmxXc0LcaommoGhQp8FZXbiiSc22wOrzRAwBFpCgFBvPFOz1157IeduqYlS1WJshskZvtqEFyv1oRU2BAwBEMANmuekTzjhBIzzDZDBIXDaaafxHjE6YcJ4+p3Pyx/cAK3DhsAER4CoobikHn744VOmTPGhyGCr+BnO6ogjjsD3nTdGJzhwNnxDoP8IEMYTPfN6662H62RPeouXF/QED7YceOCBPemSdcMQGBYCvO6NhQnGtL7/5LCGMDF7yxtovHDAW6AEbfcRyMufmCjZqA2B4SKASxW6aCLrbrjhholRZLNVKoR6S0/QWDIEDIHeIoDCmfubeFM8YqtO8t4lbjPIuUfbZ7RVMHs4aiq0tyVDwBAohQBbGznoOuusM3369FIfWuHRIoBd0Ny5c7HhxBba70le/mh7a60bAoZAWQSI9INBL09Bpj8MsVVlm7HyhoAh0D0CyEsQae+4445yleFhUyxPCD+lFydHm+TNmY6FNdpeWeuGwFAQ4PLebLPNeLhsKB22foIAAuw5c+b47haCJS/fQDMEDIGxQcDYqrGZShvIRESAyJ7EmEmMnPBT8+fPJzJBHxBB4m6hEfowEdaHgSJgO2hwE5c3ZTaVg5tK67AhUBaB/wV2kFOlVrYizAAAAABJRU5ErkJggg==\"></div>"
      ],
      "text/plain": [
       "FormBox[TagBox[RowBox[{\"(\", \"⁠\", \n",
       "\n",
       " \n",
       ">         TagBox[GridBox[{{RowBox[{FractionBox[\"1\", \"2\"], \" \", \n",
       "\n",
       " \n",
       ">               OverscriptBox[\"r\", \"^\"], \" \", SubscriptBox[\"ϵ\", \"G\"], \" \", \n",
       "\n",
       " \n",
       ">               RowBox[{\"(\", RowBox[{RowBox[{OverscriptBox[\"r\", \"^\"], \" \", \n",
       "\n",
       " \n",
       ">                     OverscriptBox[\"ω\", \"^\"], \" \", \n",
       "\n",
       " \n",
       ">                     RowBox[{\"(\", RowBox[{RowBox[{RowBox[{\"sin\", \"(\", \n",
       "\n",
       " \n",
       ">                             RowBox[{\"2\", \" \", \"ϕ\"}], \")\"}], \" \", \n",
       "\n",
       " \n",
       ">                           RowBox[{\"(\", \n",
       "\n",
       " \n",
       ">                             RowBox[{TemplateBox[List[SubscriptBox[\n",
       "\n",
       " \n",
       ">                            OverscriptBox[\"f\", \"^\"], \n",
       "\n",
       " \n",
       ">                            RowBox[List[\"x\", \",\", \"x\"]]], \"\\\"(5)\\\"\"], \n",
       "\n",
       " \n",
       ">                             \"Superscript\", Rule[SyntaxForm, SuperscriptBox]], \n",
       "\n",
       " \n",
       ">                             \"-\", \n",
       "\n",
       " \n",
       ">                             TemplateBox[List[SubscriptBox[OverscriptB\\\n",
       "\n",
       " \n",
       ">   ox[\"f\", \"^\"], RowBox[List[\"y\", \",\", \"y\"]]], \"\\\"(5)\\\"\"], \"Superscript\", \n",
       "\n",
       " \n",
       ">                             Rule[SyntaxForm, SuperscriptBox]]}], \")\"}]}], \"-\", \n",
       "\n",
       " \n",
       ">                         RowBox[{\"2\", \" \", \n",
       "\n",
       " \n",
       ">                           RowBox[{\"cos\", \"(\", RowBox[{\"2\", \" \", \"ϕ\"}], \")\"}], \n",
       "\n",
       " \n",
       ">                           \" \", TemplateBox[List[SubscriptBox[OverscriptB\\\n",
       "\n",
       " \n",
       ">   ox[\"f\", \"^\"], RowBox[List[\"x\", \",\", \"y\"]]], \"\\\"(5)\\\"\"], \"Superscript\", \n",
       "\n",
       " \n",
       ">                            Rule[SyntaxForm, SuperscriptBox]]}]}], \")\"}]}], \"-\", \n",
       "\n",
       " \n",
       ">                   RowBox[{\"2\", \" \", SuperscriptBox[OverscriptBox[\"r\", \"^\"], \"′\"], \n",
       "\n",
       " \n",
       ">                     \" \", RowBox[{\"(\", \n",
       "\n",
       " \n",
       ">                       RowBox[{RowBox[{RowBox[{\"sin\", \"(\", \n",
       "\n",
       " \n",
       ">                             RowBox[{\"2\", \" \", \"ϕ\"}], \")\"}], \" \", \n",
       "\n",
       " \n",
       ">                           TemplateBox[List[SubscriptBox[OverscriptBox[\"f\", \n",
       "\n",
       " \n",
       ">                             \"^\"], RowBox[List[\"x\", \",\", \"y\"]]], \"\\\"(5)\\\"\"], \n",
       "\n",
       " \n",
       ">                            \"Superscript\", Rule[SyntaxForm, SuperscriptBox]]}], \n",
       "\n",
       " \n",
       ">                         \"+\", RowBox[{RowBox[{SuperscriptBox[\"cos\", \"2\"], \"(\", \n",
       "\n",
       " \n",
       ">                             \"ϕ\", \")\"}], \" \", \n",
       "\n",
       " \n",
       ">                           TemplateBox[List[SubscriptBox[OverscriptBox[\"f\", \n",
       "\n",
       " \n",
       ">                             \"^\"], RowBox[List[\"x\", \",\", \"x\"]]], \"\\\"(5)\\\"\"], \n",
       "\n",
       " \n",
       ">                            \"Superscript\", Rule[SyntaxForm, SuperscriptBox]]}], \n",
       "\n",
       " \n",
       ">                         \"+\", RowBox[{RowBox[{SuperscriptBox[\"sin\", \"2\"], \"(\", \n",
       "\n",
       " \n",
       ">                             \"ϕ\", \")\"}], \" \", \n",
       "\n",
       " \n",
       ">                           TemplateBox[List[SubscriptBox[OverscriptBox[\"f\", \n",
       "\n",
       " \n",
       ">                             \"^\"], RowBox[List[\"y\", \",\", \"y\"]]], \"\\\"(5)\\\"\"], \n",
       "\n",
       " \n",
       ">                            \"Superscript\", Rule[SyntaxForm, SuperscriptBox]]}]}], \n",
       "\n",
       " \n",
       ">                       \")\"}]}]}], \")\"}]}]}, \n",
       "\n",
       " \n",
       ">            {RowBox[{RowBox[{\"-\", FractionBox[\"1\", \"2\"]}], \" \", \n",
       "\n",
       " \n",
       ">               SuperscriptBox[OverscriptBox[\"r\", \"^\"], \"2\"], \" \", \n",
       "\n",
       " \n",
       ">               SubscriptBox[\"ϵ\", \"G\"], \" \", \n",
       "\n",
       " \n",
       ">               RowBox[{\"(\", RowBox[{RowBox[{RowBox[{\"sin\", \"(\", \n",
       "\n",
       " \n",
       ">                       RowBox[{\"2\", \" \", \"ϕ\"}], \")\"}], \" \", \n",
       "\n",
       " \n",
       ">                     RowBox[{\"(\", RowBox[{TemplateBox[List[SubscriptBox[\n",
       "\n",
       " \n",
       ">                            OverscriptBox[\"f\", \"^\"], \n",
       "\n",
       " \n",
       ">                            RowBox[List[\"y\", \",\", \"y\"]]], \"\\\"(5)\\\"\"], \n",
       "\n",
       " \n",
       ">                          \"Superscript\", Rule[SyntaxForm, SuperscriptBox]], \"-\", \n",
       "\n",
       " \n",
       ">                         TemplateBox[List[SubscriptBox[OverscriptBox[\"f\", \"^\"], \n",
       "\n",
       " \n",
       ">                            RowBox[List[\"x\", \",\", \"x\"]]], \"\\\"(5)\\\"\"], \n",
       "\n",
       " \n",
       ">                          \"Superscript\", Rule[SyntaxForm, SuperscriptBox]]}], \")\"}]}\\\n",
       "\n",
       " \n",
       ">   ], \"+\", RowBox[{\"2\", \" \", RowBox[{\"cos\", \"(\", RowBox[{\"2\", \" \", \"ϕ\"}], \")\"}], \n",
       "\n",
       " \n",
       ">                     \" \", TemplateBox[List[SubscriptBox[OverscriptBox[\"f\", \"^\"], \n",
       "\n",
       " \n",
       ">                        RowBox[List[\"x\", \",\", \"y\"]]], \"\\\"(5)\\\"\"], \"Superscript\", \n",
       "\n",
       " \n",
       ">                      Rule[SyntaxForm, SuperscriptBox]]}]}], \")\"}]}]}}, \n",
       "\n",
       " \n",
       ">           Rule[RowSpacings, 1], Rule[ColumnAlignments, Center], \n",
       "\n",
       " \n",
       ">           Rule[ColumnAlignments, Left]], Column], \"⁠\", \")\"}], \n",
       "\n",
       " \n",
       ">       Function[BoxForm`e$, MatrixForm[BoxForm`e$]]], TraditionalForm]\n"
      ]
     },
     "execution_count": 55,
     "metadata": {
      "text/html": [],
      "text/plain": []
     },
     "output_type": "execute_result"
    }
   ],
   "source": [
    "RHSEnegry = FullSimplify[Transform . RHSMotion, Trig -> True];\n",
    "RHSEnegry // MatrixForm // TraditionalForm"
   ]
  },
  {
   "cell_type": "markdown",
   "metadata": {},
   "source": [
    "## **Другой Способ** получения уравнений движения и энергетических уравнений через лагранжев формализм в полярных координатах"
   ]
  },
  {
   "cell_type": "markdown",
   "metadata": {},
   "source": [
    "### **Лагранжиан системы**\n",
    "Лагранжиан $L$ в полярных координатах $(r, \\phi)$ выражается как:\n",
    "$$\n",
    "L = T - (U + \\mu\\Phi),\n",
    "$$\n",
    "где:\n",
    "- $T$ — кинетическая энергия,\n",
    "- $U$ — потенциальная энергия\n",
    "- $\\Phi = \\frac{1}{5}f_{ij}^{(5)}r_i r_j = \\frac{\\epsilon_G}{2}\\frac{b^2}{t_0^2}\\hat{f}_{ij}^{(5)}\\hat{r}_i \\hat{r}_j = \\frac{5}{2}\\epsilon_G\\frac{GM}{b}\\hat{\\Phi}$ - малый потенциал \"реакции излучения\""
   ]
  },
  {
   "cell_type": "markdown",
   "metadata": {},
   "source": [
    "Безразмерный малый потенциал \"реакции излучения\" $\\hat{\\Phi} = \\frac{1}{5}\\hat{f}_{ij}^{(5)}\\hat{r}_i\\hat{r}_j$\n",
    "\n",
    "В ближней зоне грав. источника будем иметь $\\mu \\Phi \\ll U$.\n",
    "Откуда получаем $\\frac{5}{2}\\epsilon_{G}\\hat{r}\\hat{\\Phi} \\ll 1$.\n",
    "\n",
    "<span style=\"color:red\">**TODO_2:**</span> Для достаточно больших $\\hat{r}$, но все еще в ближней зоне может оказаться, что\n",
    "$\\hat{r}\\hat{\\Phi} \\ll 1$, так как $\\hat{f}_{ij}$ очень медленно меняется.\n",
    "Следовательно условие $\\epsilon_G \\ll 1$ необязательно."
   ]
  },
  {
   "cell_type": "code",
   "execution_count": 57,
   "metadata": {
    "vscode": {
     "languageId": "wolfram"
    }
   },
   "outputs": [
    {
     "data": {
      "text/html": [
       "<div><img alt=\"Output\" src=\"data:image/png;base64,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\"></div>"
      ],
      "text/plain": [
       "FormBox[RowBox[{FractionBox[\"1\", \"5\"], \" \", \n",
       "\n",
       " \n",
       ">        RowBox[{\"(\", RowBox[{RowBox[{OverscriptBox[\"r\", \"^\"], \" \", \n",
       "\n",
       " \n",
       ">              RowBox[{\"cos\", \"(\", \"ϕ\", \")\"}], \" \", \n",
       "\n",
       " \n",
       ">              RowBox[{\"(\", RowBox[{RowBox[{OverscriptBox[\"r\", \"^\"], \" \", \n",
       "\n",
       " \n",
       ">                    RowBox[{\"sin\", \"(\", \"ϕ\", \")\"}], \" \", \n",
       "\n",
       " \n",
       ">                    TemplateBox[List[SubscriptBox[OverscriptBox[\"f\", \"^\"], \n",
       "\n",
       " \n",
       ">                       RowBox[List[\"x\", \",\", \"y\"]]], \"\\\"(5)\\\"\"], \"Superscript\", \n",
       "\n",
       " \n",
       ">                     Rule[SyntaxForm, SuperscriptBox]]}], \"+\", \n",
       "\n",
       " \n",
       ">                  RowBox[{OverscriptBox[\"r\", \"^\"], \" \", \n",
       "\n",
       " \n",
       ">                    RowBox[{\"cos\", \"(\", \"ϕ\", \")\"}], \" \", \n",
       "\n",
       " \n",
       ">                    TemplateBox[List[SubscriptBox[OverscriptBox[\"f\", \"^\"], \n",
       "\n",
       " \n",
       ">                       RowBox[List[\"x\", \",\", \"x\"]]], \"\\\"(5)\\\"\"], \"Superscript\", \n",
       "\n",
       " \n",
       ">                     Rule[SyntaxForm, SuperscriptBox]]}]}], \")\"}]}], \"+\", \n",
       "\n",
       " \n",
       ">            RowBox[{OverscriptBox[\"r\", \"^\"], \" \", RowBox[{\"sin\", \"(\", \"ϕ\", \")\"}], \" \", \n",
       "\n",
       " \n",
       ">              RowBox[{\"(\", RowBox[{RowBox[{OverscriptBox[\"r\", \"^\"], \" \", \n",
       "\n",
       " \n",
       ">                    RowBox[{\"cos\", \"(\", \"ϕ\", \")\"}], \" \", \n",
       "\n",
       " \n",
       ">                    TemplateBox[List[SubscriptBox[OverscriptBox[\"f\", \"^\"], \n",
       "\n",
       " \n",
       ">                       RowBox[List[\"x\", \",\", \"y\"]]], \"\\\"(5)\\\"\"], \"Superscript\", \n",
       "\n",
       " \n",
       ">                     Rule[SyntaxForm, SuperscriptBox]]}], \"+\", \n",
       "\n",
       " \n",
       ">                  RowBox[{OverscriptBox[\"r\", \"^\"], \" \", RowBox[{\"sin\", \"(\", \"ϕ\", \")\"}],\\\n",
       " \n",
       ">    \n",
       "                 \" \", TemplateBox[List[SubscriptBox[OverscriptBox[\"f\", \"^\"], \n",
       "\n",
       " \n",
       ">                       RowBox[List[\"y\", \",\", \"y\"]]], \"\\\"(5)\\\"\"], \"Superscript\", \n",
       "\n",
       " \n",
       ">                     Rule[SyntaxForm, SuperscriptBox]]}]}], \")\"}]}]}], \")\"}]}], \n",
       "\n",
       " \n",
       ">      TraditionalForm]\n"
      ]
     },
     "execution_count": 57,
     "metadata": {
      "text/html": [],
      "text/plain": []
     },
     "output_type": "execute_result"
    }
   ],
   "source": [
    "fh5rhrh = 1/5 EinsteinSummation[{{i, j}, {i}, {j}}, {fh5, rh, rh}];\n",
    "fh5rhrh // TraditionalForm"
   ]
  },
  {
   "cell_type": "markdown",
   "metadata": {},
   "source": [
    "Безразмерный лагранжиан\n",
    "\n",
    "$$\n",
    "\\hat{L} = \\hat{T} - (\\hat{U} + \\frac{5}{2}\\epsilon_G\\hat{\\Phi}),\n",
    "$$\n",
    "или\n",
    "$$\n",
    "\\hat{L} = \\frac{1}{2} \\left((\\hat{r}^{(1)})^2 + \\hat{r}^2 \\hat{\\omega}^2 \\right) + \\frac{1}{\\hat{r}} - \\frac{\\epsilon_G}{2}\\hat{f}_{ij}^{(5)}\\hat{r}_i \\hat{r}_j.\n",
    "$$"
   ]
  },
  {
   "cell_type": "markdown",
   "metadata": {},
   "source": [
    "### **Уравнения Эйлера-Лагранжа**\n",
    "Уравнения Эйлера-Лагранжа имеют вид:\n",
    "$$\n",
    "\\frac{d}{dt} \\left( \\frac{\\partial \\hat{L}}{\\partial \\dot{q}_i} \\right) - \\frac{\\partial \\hat{L}}{\\partial q_i} = 0,\n",
    "$$\n",
    "где $q_i$ — обобщённые координаты ($\\hat{r}$ и $\\phi$)."
   ]
  },
  {
   "cell_type": "markdown",
   "metadata": {},
   "source": [
    "---\n",
    "\n",
    "#### Уравнение для координаты $\\hat{r}$:\n",
    "$$\n",
    "\\frac{d}{d\\hat{t}} \\left(\\frac{\\partial \\hat{L}}{\\partial \\hat{r}^{(1)}} \\right) - \\frac{\\partial \\hat{L}}{\\partial \\hat{r}} = 0.\n",
    "$$\n",
    "Вычислим производные:\n",
    "$$\n",
    "\\frac{\\partial \\hat{L}}{\\partial \\hat{r}^{(1)}} = \\hat{r}^{(1)}, \\quad \\frac{d}{d\\hat{t}} \\left( \\frac{\\partial \\hat{L}}{\\partial \\hat{r}^{(1)}} \\right) = \\hat{r}^{(2)},\n",
    "$$\n",
    "$$\n",
    "\\frac{\\partial \\hat{L}}{\\partial \\hat{r}} = \\hat{r} \\hat{\\omega}^2 - \\frac{1}{\\hat{r}^2} - \\frac{5}{2}\\epsilon_G\\frac{\\partial \\hat{\\Phi}}{\\partial \\hat{r}}.\n",
    "$$\n",
    "Подставляем в уравнение Эйлера-Лагранжа:\n",
    "$$\n",
    "\\hat{r}^{(2)} - \\hat{r} \\hat{\\omega}^2 + \\frac{1}{\\hat{r}^2} = - \\frac{5}{2}\\epsilon_G\\frac{\\partial \\hat{\\Phi}}{\\partial \\hat{r}}.\n",
    "$$\n",
    "\n",
    "Это **радиальное уравнение движения**.\n",
    "\n",
    "Здесь \n",
    "$$\n",
    "\\frac{\\partial \\hat{\\Phi}}{\\partial \\hat{r}} = \\frac{1}{5}\\hat{f}_{ij}^{(5)}\\left(\\frac{\\partial \\hat{r}_i}{\\partial \\hat{r}}\\hat{r}_j + \\hat{r}_i\\frac{\\partial \\hat{r}_j}{\\partial \\hat{r}}\\right)\n",
    "$$"
   ]
  },
  {
   "cell_type": "markdown",
   "metadata": {},
   "source": [
    "Правая часть радиального уравнения движения будет выглядеть как"
   ]
  },
  {
   "cell_type": "code",
   "execution_count": 59,
   "metadata": {
    "vscode": {
     "languageId": "wolfram"
    }
   },
   "outputs": [
    {
     "data": {
      "text/html": [
       "<div><img alt=\"Output\" src=\"data:image/png;base64,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\"></div>"
      ],
      "text/plain": [
       "FormBox[RowBox[{OverscriptBox[\"r\", \"^\"], \" \", \n",
       "\n",
       " \n",
       ">        RowBox[{\"(\", RowBox[{\"-\", SubscriptBox[\"ϵ\", \"G\"]}], \")\"}], \" \", \n",
       "\n",
       " \n",
       ">        RowBox[{\"(\", RowBox[{RowBox[{RowBox[{\"sin\", \"(\", RowBox[{\"2\", \" \", \"ϕ\"}], \n",
       "\n",
       " \n",
       ">                \")\"}], \" \", TemplateBox[List[SubscriptBox[OverscriptBox[\"f\", \"^\"], \n",
       "\n",
       " \n",
       ">                 RowBox[List[\"x\", \",\", \"y\"]]], \"\\\"(5)\\\"\"], \"Superscript\", \n",
       "\n",
       " \n",
       ">               Rule[SyntaxForm, SuperscriptBox]]}], \"+\", \n",
       "\n",
       " \n",
       ">            RowBox[{RowBox[{SuperscriptBox[\"cos\", \"2\"], \"(\", \"ϕ\", \")\"}], \" \", \n",
       "\n",
       " \n",
       ">              TemplateBox[List[SubscriptBox[OverscriptBox[\"f\", \"^\"], \n",
       "\n",
       " \n",
       ">                 RowBox[List[\"x\", \",\", \"x\"]]], \"\\\"(5)\\\"\"], \"Superscript\", \n",
       "\n",
       " \n",
       ">               Rule[SyntaxForm, SuperscriptBox]]}], \"+\", \n",
       "\n",
       " \n",
       ">            RowBox[{RowBox[{SuperscriptBox[\"sin\", \"2\"], \"(\", \"ϕ\", \")\"}], \" \", \n",
       "\n",
       " \n",
       ">              TemplateBox[List[SubscriptBox[OverscriptBox[\"f\", \"^\"], \n",
       "\n",
       " \n",
       ">                 RowBox[List[\"y\", \",\", \"y\"]]], \"\\\"(5)\\\"\"], \"Superscript\", \n",
       "\n",
       " \n",
       ">               Rule[SyntaxForm, SuperscriptBox]]}]}], \")\"}]}], TraditionalForm]\n"
      ]
     },
     "execution_count": 59,
     "metadata": {
      "text/html": [],
      "text/plain": []
     },
     "output_type": "execute_result"
    }
   ],
   "source": [
    "RHSMotionRadialLagrange = - 1/2 Subscript[\\[Epsilon], G] FullSimplify[EinsteinSummation[{{i, j}, {i}, {j}}, {fh5, D[rh, OverHat[r][OverHat[t]]], rh}] + EinsteinSummation[{{i, j}, {i}, {j}}, {fh5, rh, D[rh, OverHat[r][OverHat[t]]]}]];\n",
    "RHSMotionRadialLagrange // TraditionalForm"
   ]
  },
  {
   "cell_type": "markdown",
   "metadata": {},
   "source": [
    "<span style=\"color:brown\">**NB:**</span> Выражение <span style=\"color:green\">**совпадает**</span> с раннее полученным уравнением и с уравнением (10) из файла Binary.pdf"
   ]
  },
  {
   "cell_type": "code",
   "execution_count": 60,
   "metadata": {
    "vscode": {
     "languageId": "wolfram"
    }
   },
   "outputs": [
    {
     "data": {
      "text/html": [
       "<div><pre style=\"&#102;&#111;&#110;&#116;&#45;&#102;&#97;&#109;&#105;&#108;&#121;&#58;&#32;&#34;&#67;&#111;&#117;&#114;&#105;&#101;&#114;&#32;&#78;&#101;&#119;&#34;&#44;&#67;&#111;&#117;&#114;&#105;&#101;&#114;&#44;&#109;&#111;&#110;&#111;&#115;&#112;&#97;&#99;&#101;&#59;\">&#48;</pre></div>"
      ],
      "text/plain": [
       "0"
      ]
     },
     "execution_count": 60,
     "metadata": {
      "text/html": [],
      "text/plain": []
     },
     "output_type": "execute_result"
    }
   ],
   "source": [
    "RHSMotion[[1]] - RHSMotionRadialLagrange"
   ]
  },
  {
   "cell_type": "markdown",
   "metadata": {},
   "source": [
    "---\n",
    "\n",
    "#### Уравнение для координаты $\\phi$:\n",
    "$$\n",
    "\\frac{d}{d\\hat{t}} \\left(\\frac{\\partial \\hat{L}}{\\partial \\hat{\\omega}} \\right) - \\frac{\\partial \\hat{L}}{\\partial \\phi} = 0.\n",
    "$$\n",
    "Вычислим производные:\n",
    "$$\n",
    "\\frac{\\partial \\hat{L}}{\\partial \\hat{\\omega}} = \\hat{r}^2 \\hat{\\omega}, \\quad \\frac{d}{d\\hat{t}} \\left( \\frac{\\partial \\hat{L}}{\\partial \\hat{\\omega}} \\right) = \\frac{d}{d\\hat{t}} \\left( \\hat{r}^2 \\hat{\\omega} \\right),\n",
    "$$\n",
    "$$\n",
    "\\frac{\\partial \\hat{L}}{\\partial \\phi} = - \\frac{5}{2}\\epsilon_G\\frac{\\partial \\hat{\\Phi}}{\\partial \\phi}.\n",
    "$$\n",
    "Подставляем в уравнение Эйлера-Лагранжа:\n",
    "$$\n",
    "\\frac{1}{\\hat{r}}\\frac{d}{d\\hat{t}} \\left( \\hat{r}^2 \\hat{\\omega} \\right) = \\frac{1}{\\hat{r}}\\frac{d\\hat{J}}{d\\hat{t}} = - \\frac{5}{2}\\frac{\\epsilon_G}{\\hat{r}}\\frac{\\partial \\hat{\\Phi}}{\\partial \\phi}.\n",
    "$$\n",
    "\n",
    "Здесь \n",
    "$$\n",
    "\\frac{\\partial \\hat{\\Phi}}{\\partial \\phi} = \\frac{1}{5}\\hat{f}_{ij}^{(5)}\\left(\\frac{\\partial \\hat{r}_i}{\\partial \\phi}\\hat{r}_j + \\hat{r}_i\\frac{\\partial \\hat{r}_j}{\\partial \\phi}\\right)\n",
    "$$"
   ]
  },
  {
   "cell_type": "markdown",
   "metadata": {},
   "source": [
    "Правая часть уравнения движения для $\\phi$ будет выглядеть как"
   ]
  },
  {
   "cell_type": "code",
   "execution_count": 62,
   "metadata": {
    "vscode": {
     "languageId": "wolfram"
    }
   },
   "outputs": [
    {
     "data": {
      "text/html": [
       "<div><img alt=\"Output\" src=\"data:image/png;base64,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\"></div>"
      ],
      "text/plain": [
       "FormBox[RowBox[{RowBox[{\"-\", FractionBox[\"1\", \"2\"]}], \" \", OverscriptBox[\"r\", \"^\"], \n",
       "\n",
       " \n",
       ">        \" \", SubscriptBox[\"ϵ\", \"G\"], \" \", \n",
       "\n",
       " \n",
       ">        RowBox[{\"(\", RowBox[{RowBox[{RowBox[{\"sin\", \"(\", RowBox[{\"2\", \" \", \"ϕ\"}], \n",
       "\n",
       " \n",
       ">                \")\"}], \" \", RowBox[{\"(\", \n",
       "\n",
       " \n",
       ">                RowBox[{TemplateBox[List[SubscriptBox[OverscriptBox[\"f\", \"^\"], \n",
       "\n",
       " \n",
       ">                     RowBox[List[\"y\", \",\", \"y\"]]], \"\\\"(5)\\\"\"], \"Superscript\", \n",
       "\n",
       " \n",
       ">                   Rule[SyntaxForm, SuperscriptBox]], \"-\", \n",
       "\n",
       " \n",
       ">                  TemplateBox[List[SubscriptBox[OverscriptBox[\"f\", \"^\"], \n",
       "\n",
       " \n",
       ">                     RowBox[List[\"x\", \",\", \"x\"]]], \"\\\"(5)\\\"\"], \"Superscript\", \n",
       "\n",
       " \n",
       ">                   Rule[SyntaxForm, SuperscriptBox]]}], \")\"}]}], \"+\", \n",
       "\n",
       " \n",
       ">            RowBox[{\"2\", \" \", RowBox[{\"cos\", \"(\", RowBox[{\"2\", \" \", \"ϕ\"}], \")\"}], \" \", \n",
       "\n",
       " \n",
       ">              TemplateBox[List[SubscriptBox[OverscriptBox[\"f\", \"^\"], \n",
       "\n",
       " \n",
       ">                 RowBox[List[\"x\", \",\", \"y\"]]], \"\\\"(5)\\\"\"], \"Superscript\", \n",
       "\n",
       " \n",
       ">               Rule[SyntaxForm, SuperscriptBox]]}]}], \")\"}]}], TraditionalForm]\n"
      ]
     },
     "execution_count": 62,
     "metadata": {
      "text/html": [],
      "text/plain": []
     },
     "output_type": "execute_result"
    }
   ],
   "source": [
    "RHSMotionPhiLagrange = - 1/2 Subscript[\\[Epsilon], G] FullSimplify[EinsteinSummation[{{i, j}, {i}, {j}}, {fh5, D[rh, \\[Phi][OverHat[t]]], rh}] + EinsteinSummation[{{i, j}, {i}, {j}}, {fh5, rh, D[rh, \\[Phi][OverHat[t]]]}]]/OverHat[r][OverHat[t]];\n",
    "RHSMotionPhiLagrange // TraditionalForm"
   ]
  },
  {
   "cell_type": "markdown",
   "metadata": {},
   "source": [
    "<span style=\"color:brown\">**NB:**</span> Выражение <span style=\"color:green\">**совпадает**</span> с раннее полученным уравнением и с уравнением (9) из файла Binary.pdf"
   ]
  },
  {
   "cell_type": "code",
   "execution_count": 63,
   "metadata": {
    "vscode": {
     "languageId": "wolfram"
    }
   },
   "outputs": [
    {
     "data": {
      "text/html": [
       "<div><pre style=\"&#102;&#111;&#110;&#116;&#45;&#102;&#97;&#109;&#105;&#108;&#121;&#58;&#32;&#34;&#67;&#111;&#117;&#114;&#105;&#101;&#114;&#32;&#78;&#101;&#119;&#34;&#44;&#67;&#111;&#117;&#114;&#105;&#101;&#114;&#44;&#109;&#111;&#110;&#111;&#115;&#112;&#97;&#99;&#101;&#59;\">&#48;</pre></div>"
      ],
      "text/plain": [
       "0"
      ]
     },
     "execution_count": 63,
     "metadata": {
      "text/html": [],
      "text/plain": []
     },
     "output_type": "execute_result"
    }
   ],
   "source": [
    "RHSMotion[[2]] - RHSMotionPhiLagrange"
   ]
  },
  {
   "cell_type": "markdown",
   "metadata": {},
   "source": [
    "## Получим **энергетическую** систему уравнений в подходе Лагранжа"
   ]
  },
  {
   "cell_type": "markdown",
   "metadata": {},
   "source": [
    "Заметим, что энергия системы:\n",
    "$$\n",
    "\\hat{E} = \\frac{(\\hat{r}^{(1)})^2}{2} + \\frac{\\hat{r}^2 \\hat{\\omega}^2}{2} - \\frac{1}{\\hat{r}}\n",
    "$$\n",
    "$$\n",
    "\\frac{1}{\\hat{r}^{(1)}}\\left(\\frac{d\\hat{E}}{d\\hat{t}} - \\hat{\\omega} \\frac{d\\hat{J}}{d\\hat{t}}\\right) = \\hat{r}^{(2)} - \\hat{r} \\hat{\\omega}^2 + \\frac{1}{\\hat{r}^2}\n",
    "$$\n",
    "\n",
    "А также уравнение для изменения момента импульса системы есть\n",
    "$$\n",
    "\\frac{d\\hat{J}}{d\\hat{t}} = - \\frac{5}{2}\\epsilon_G\\frac{\\partial \\hat{\\Phi}}{\\partial \\phi}.\n",
    "$$\n",
    "\n",
    "Итоговая энергетическая система, выведенная по-новому будет записываться как:\n",
    "\n",
    "$$\n",
    "\\begin{align}\n",
    "\\frac{d\\hat{E}}{d\\hat{t}} &= - \\frac{5}{2}\\epsilon_G\\left(\\hat{r}^{(1)}\\frac{\\partial \\hat{\\Phi}}{\\partial \\hat{r}} + \\hat{\\omega} \\frac{\\partial \\hat{\\Phi}}{\\partial \\phi}\\right)\n",
    "  = - \\frac{\\epsilon_G}{2}\\hat{f}_{ij}^{(5)}\\left(\\frac{d\\hat{r}_i}{d\\hat{t}}\\hat{r}_j + \\hat{r}_i\\frac{d\\hat{r}_j}{d\\hat{t}}\\right)\n",
    "  = - \\frac{\\epsilon_G}{2}\\hat{f}_{ij}^{(5)}\\frac{d(\\hat{r}_i \\hat{r}_j)}{d\\hat{t}}\n",
    "\\\\\n",
    "\\frac{d\\hat{J}}{d\\hat{t}} &= - \\frac{5}{2}\\epsilon_G\\frac{\\partial \\hat{\\Phi}}{\\partial \\phi}\n",
    "  = - \\frac{\\epsilon_G}{2}\\hat{f}_{ij}^{(5)}\\left(\\frac{\\partial \\hat{r}_i}{\\partial \\phi}\\hat{r}_j + \\hat{r}_i\\frac{\\partial \\hat{r}_j}{\\partial \\phi}\\right)\n",
    "  = - \\frac{\\epsilon_G}{2}\\hat{f}_{ij}^{(5)}\\frac{d(\\hat{r}_i \\hat{r}_j)}{d\\phi}\n",
    "\\end{align}\n",
    "$$"
   ]
  },
  {
   "cell_type": "code",
   "execution_count": 65,
   "metadata": {
    "vscode": {
     "languageId": "wolfram"
    }
   },
   "outputs": [
    {
     "data": {
      "text/html": [
       "<div><img alt=\"Output\" src=\"data:image/png;base64,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\"></div>"
      ],
      "text/plain": [
       "FormBox[TagBox[RowBox[{\"(\", \"⁠\", \n",
       "\n",
       " \n",
       ">         TagBox[GridBox[{{RowBox[{OverscriptBox[\"r\", \"^\"], \" \", \n",
       "\n",
       " \n",
       ">               RowBox[{\"(\", RowBox[{\"-\", SubscriptBox[\"ϵ\", \"G\"]}], \")\"}], \" \", \n",
       "\n",
       " \n",
       ">               RowBox[{\"(\", RowBox[{RowBox[{OverscriptBox[\"r\", \"^\"], \" \", \n",
       "\n",
       " \n",
       ">                     OverscriptBox[\"ω\", \"^\"], \" \", \n",
       "\n",
       " \n",
       ">                     RowBox[{\"(\", RowBox[{RowBox[{RowBox[{\"cos\", \"(\", \n",
       "\n",
       " \n",
       ">                             RowBox[{\"2\", \" \", \"ϕ\"}], \")\"}], \" \", \n",
       "\n",
       " \n",
       ">                           TemplateBox[List[SubscriptBox[OverscriptBox[\"f\", \n",
       "\n",
       " \n",
       ">                             \"^\"], RowBox[List[\"x\", \",\", \"y\"]]], \"\\\"(5)\\\"\"], \n",
       "\n",
       " \n",
       ">                            \"Superscript\", Rule[SyntaxForm, SuperscriptBox]]}], \n",
       "\n",
       " \n",
       ">                         \"+\", RowBox[{RowBox[{\"sin\", \"(\", \"ϕ\", \")\"}], \" \", \n",
       "\n",
       " \n",
       ">                           RowBox[{\"cos\", \"(\", \"ϕ\", \")\"}], \" \", \n",
       "\n",
       " \n",
       ">                           RowBox[{\"(\", \n",
       "\n",
       " \n",
       ">                             RowBox[{TemplateBox[List[SubscriptBox[\n",
       "\n",
       " \n",
       ">                             OverscriptBox[\"f\", \"^\"], \n",
       "\n",
       " \n",
       ">                             RowBox[List[\"y\", \",\", \"y\"]]], \"\\\"(5)\\\"\"], \n",
       "\n",
       " \n",
       ">                             \"Superscript\", Rule[SyntaxForm, SuperscriptBox]], \n",
       "\n",
       " \n",
       ">                              \"-\", \n",
       "\n",
       " \n",
       ">                              TemplateBox[List[SubscriptBox[OverscriptB\\\n",
       "\n",
       " \n",
       ">   ox[\"f\", \"^\"], RowBox[List[\"x\", \",\", \"x\"]]], \"\\\"(5)\\\"\"], \"Superscript\", \n",
       "\n",
       " \n",
       ">                              Rule[SyntaxForm, SuperscriptBox]]}], \")\"}]}]}], \")\"}]\\\n",
       "\n",
       " \n",
       ">   }], \"+\", RowBox[{SuperscriptBox[OverscriptBox[\"r\", \"^\"], \"′\"], \" \", \n",
       "\n",
       " \n",
       ">                     RowBox[{\"(\", RowBox[{RowBox[{RowBox[{\"sin\", \"(\", \n",
       "\n",
       " \n",
       ">                             RowBox[{\"2\", \" \", \"ϕ\"}], \")\"}], \" \", \n",
       "\n",
       " \n",
       ">                           TemplateBox[List[SubscriptBox[OverscriptBox[\"f\", \n",
       "\n",
       " \n",
       ">                             \"^\"], RowBox[List[\"x\", \",\", \"y\"]]], \"\\\"(5)\\\"\"], \n",
       "\n",
       " \n",
       ">                            \"Superscript\", Rule[SyntaxForm, SuperscriptBox]]}], \n",
       "\n",
       " \n",
       ">                         \"+\", RowBox[{RowBox[{SuperscriptBox[\"cos\", \"2\"], \"(\", \n",
       "\n",
       " \n",
       ">                             \"ϕ\", \")\"}], \" \", \n",
       "\n",
       " \n",
       ">                           TemplateBox[List[SubscriptBox[OverscriptBox[\"f\", \n",
       "\n",
       " \n",
       ">                             \"^\"], RowBox[List[\"x\", \",\", \"x\"]]], \"\\\"(5)\\\"\"], \n",
       "\n",
       " \n",
       ">                            \"Superscript\", Rule[SyntaxForm, SuperscriptBox]]}], \n",
       "\n",
       " \n",
       ">                         \"+\", RowBox[{RowBox[{SuperscriptBox[\"sin\", \"2\"], \"(\", \n",
       "\n",
       " \n",
       ">                             \"ϕ\", \")\"}], \" \", \n",
       "\n",
       " \n",
       ">                           TemplateBox[List[SubscriptBox[OverscriptBox[\"f\", \n",
       "\n",
       " \n",
       ">                             \"^\"], RowBox[List[\"y\", \",\", \"y\"]]], \"\\\"(5)\\\"\"], \n",
       "\n",
       " \n",
       ">                            \"Superscript\", Rule[SyntaxForm, SuperscriptBox]]}]}], \n",
       "\n",
       " \n",
       ">                       \")\"}]}]}], \")\"}]}]}, \n",
       "\n",
       " \n",
       ">            {RowBox[{RowBox[{\"-\", FractionBox[\"1\", \"2\"]}], \" \", \n",
       "\n",
       " \n",
       ">               SuperscriptBox[OverscriptBox[\"r\", \"^\"], \"2\"], \" \", \n",
       "\n",
       " \n",
       ">               SubscriptBox[\"ϵ\", \"G\"], \" \", \n",
       "\n",
       " \n",
       ">               RowBox[{\"(\", RowBox[{RowBox[{RowBox[{\"sin\", \"(\", \n",
       "\n",
       " \n",
       ">                       RowBox[{\"2\", \" \", \"ϕ\"}], \")\"}], \" \", \n",
       "\n",
       " \n",
       ">                     RowBox[{\"(\", RowBox[{TemplateBox[List[SubscriptBox[\n",
       "\n",
       " \n",
       ">                            OverscriptBox[\"f\", \"^\"], \n",
       "\n",
       " \n",
       ">                            RowBox[List[\"y\", \",\", \"y\"]]], \"\\\"(5)\\\"\"], \n",
       "\n",
       " \n",
       ">                          \"Superscript\", Rule[SyntaxForm, SuperscriptBox]], \"-\", \n",
       "\n",
       " \n",
       ">                         TemplateBox[List[SubscriptBox[OverscriptBox[\"f\", \"^\"], \n",
       "\n",
       " \n",
       ">                            RowBox[List[\"x\", \",\", \"x\"]]], \"\\\"(5)\\\"\"], \n",
       "\n",
       " \n",
       ">                          \"Superscript\", Rule[SyntaxForm, SuperscriptBox]]}], \")\"}]}\\\n",
       "\n",
       " \n",
       ">   ], \"+\", RowBox[{\"2\", \" \", RowBox[{\"cos\", \"(\", RowBox[{\"2\", \" \", \"ϕ\"}], \")\"}], \n",
       "\n",
       " \n",
       ">                     \" \", TemplateBox[List[SubscriptBox[OverscriptBox[\"f\", \"^\"], \n",
       "\n",
       " \n",
       ">                        RowBox[List[\"x\", \",\", \"y\"]]], \"\\\"(5)\\\"\"], \"Superscript\", \n",
       "\n",
       " \n",
       ">                      Rule[SyntaxForm, SuperscriptBox]]}]}], \")\"}]}]}}, \n",
       "\n",
       " \n",
       ">           Rule[RowSpacings, 1], Rule[ColumnAlignments, Center], \n",
       "\n",
       " \n",
       ">           Rule[ColumnAlignments, Left]], Column], \"⁠\", \")\"}], \n",
       "\n",
       " \n",
       ">       Function[BoxForm`e$, MatrixForm[BoxForm`e$]]], TraditionalForm]\n"
      ]
     },
     "execution_count": 65,
     "metadata": {
      "text/html": [],
      "text/plain": []
     },
     "output_type": "execute_result"
    }
   ],
   "source": [
    "RHSEnegryLagrange = - 5/2 Subscript[\\[Epsilon],G] FullSimplify[{\n",
    "  D[fh5rhrh, OverHat[t]] /. OmegaReplace,\n",
    "  D[fh5rhrh, \\[Phi][OverHat[t]]]\n",
    "}, Trig -> True];\n",
    "\n",
    "RHSEnegryLagrange // MatrixForm // TraditionalForm"
   ]
  },
  {
   "cell_type": "markdown",
   "metadata": {},
   "source": [
    "<span style=\"color:brown\">**NB:**</span> Выражения полностью <span style=\"color:green\">**совпадают**</span> с предыдущим ньютоновым подходом!"
   ]
  },
  {
   "cell_type": "code",
   "execution_count": 66,
   "metadata": {
    "vscode": {
     "languageId": "wolfram"
    }
   },
   "outputs": [
    {
     "data": {
      "text/html": [
       "<div><img alt=\"Output\" src=\"data:image/png;base64,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\"></div>"
      ],
      "text/plain": [
       "0\n",
       "\n",
       "0"
      ]
     },
     "execution_count": 66,
     "metadata": {
      "text/html": [],
      "text/plain": []
     },
     "output_type": "execute_result"
    }
   ],
   "source": [
    "FullSimplify[RHSEnegryLagrange - RHSEnegry] // MatrixForm"
   ]
  },
  {
   "cell_type": "markdown",
   "metadata": {},
   "source": [
    "В **размерной** же записи наши уравнения превращаются в\n",
    "$$\n",
    "\\begin{align}\n",
    "\\frac{dE}{dt} &=\n",
    "  = - \\frac{1}{5}f_{ij}^{(5)} \\mu \\frac{d(r_i r_j)}{dt}\n",
    "  = - \\frac{1}{5}\\frac{c^5}{G}f_{ij}^{(5)} \\frac{d}{dt}\\left(f_{ij} + \\frac{1}{3} \\delta_{ij}r^2\\right)\n",
    "  = - \\frac{1}{5}\\frac{c^5}{G}f_{ij}^{(5)} \\frac{df_{ij}}{dt}\n",
    "\\\\\n",
    "\\frac{dJ}{dt} &=\n",
    "  = - \\frac{1}{5}f_{ij}^{(5)} \\mu \\frac{d(r_i r_j)}{d\\phi}\n",
    "  = - \\frac{1}{5}\\frac{c^5}{G}f_{ij}^{(5)} \\frac{d}{d\\phi}\\left(f_{ij} + \\frac{1}{3} \\delta_{ij}r^2\\right)\n",
    "  = - \\frac{1}{5}\\frac{c^5}{G}f_{ij}^{(5)} \\frac{df_{ij}}{d\\phi}\n",
    "  = - \\frac{2}{5}\\frac{c^5}{G}\\epsilon_{ij}f_{ik}^{(5)} f_{kj}\n",
    "\\end{align}\n",
    "$$\n",
    "\n",
    "Здесь учтено, что квадрупольный момент бесследовый\n",
    "$$\n",
    "\\begin{align}\n",
    "\\text{Tr}(f_{ij}) &= \\delta_{ij}f_{ij} = 0\n",
    "\\\\\n",
    "\\text{Tr}(f^{(5)}_{ij}) &= \\delta_{ij}f^{(5)}_{ij} = 0\n",
    "\\\\\n",
    "\\end{align}\n",
    "$$"
   ]
  },
  {
   "cell_type": "code",
   "execution_count": 69,
   "metadata": {
    "vscode": {
     "languageId": "wolfram"
    }
   },
   "outputs": [
    {
     "data": {
      "text/html": [
       "<div><img alt=\"Output\" src=\"data:image/png;base64,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\"></div>"
      ],
      "text/plain": [
       "FormBox[RowBox[{RowBox[{\"-\", FractionBox[\"1\", \"5\"]}], \" \", \n",
       "\n",
       " \n",
       ">        SuperscriptBox[OverscriptBox[\"r\", \"^\"], \"2\"], \" \", \n",
       "\n",
       " \n",
       ">        RowBox[{\"(\", RowBox[{RowBox[{RowBox[{\"sin\", \"(\", RowBox[{\"2\", \" \", \"ϕ\"}], \n",
       "\n",
       " \n",
       ">                \")\"}], \" \", RowBox[{\"(\", \n",
       "\n",
       " \n",
       ">                RowBox[{TemplateBox[List[SubscriptBox[OverscriptBox[\"f\", \"^\"], \n",
       "\n",
       " \n",
       ">                     RowBox[List[\"x\", \",\", \"x\"]]], \"\\\"(5)\\\"\"], \"Superscript\", \n",
       "\n",
       " \n",
       ">                   Rule[SyntaxForm, SuperscriptBox]], \"-\", \n",
       "\n",
       " \n",
       ">                  TemplateBox[List[SubscriptBox[OverscriptBox[\"f\", \"^\"], \n",
       "\n",
       " \n",
       ">                     RowBox[List[\"y\", \",\", \"y\"]]], \"\\\"(5)\\\"\"], \"Superscript\", \n",
       "\n",
       " \n",
       ">                   Rule[SyntaxForm, SuperscriptBox]]}], \")\"}]}], \"-\", \n",
       "\n",
       " \n",
       ">            RowBox[{\"2\", \" \", RowBox[{\"cos\", \"(\", RowBox[{\"2\", \" \", \"ϕ\"}], \")\"}], \" \", \n",
       "\n",
       " \n",
       ">              TemplateBox[List[SubscriptBox[OverscriptBox[\"f\", \"^\"], \n",
       "\n",
       " \n",
       ">                 RowBox[List[\"x\", \",\", \"y\"]]], \"\\\"(5)\\\"\"], \"Superscript\", \n",
       "\n",
       " \n",
       ">               Rule[SyntaxForm, SuperscriptBox]]}]}], \")\"}]}], TraditionalForm]\n"
      ]
     },
     "execution_count": 69,
     "metadata": {
      "text/html": [],
      "text/plain": []
     },
     "output_type": "execute_result"
    }
   ],
   "source": [
    "(* Доказатество последнего равенства в уравнении для изменениия момента импульса *)\n",
    "leviCivitaArray = Normal[LeviCivitaTensor[2]];\n",
    "-2/5 FullSimplify[EinsteinSummation[{{i, j}, {i, k}, {k, j}}, {leviCivitaArray, fh5, fh}]] // TraditionalForm"
   ]
  },
  {
   "cell_type": "markdown",
   "metadata": {},
   "source": [
    "<span style=\"color:brown\">**NB:**</span> Выражения полностью <span style=\"color:green\">**совпадают**</span>\n",
    "с $dE/dt, dJ/dt$ из задачника Лайтман А., Пресс В., Прайс Р., Тюкольки С. - 1979 - Сборник задач по теории относительности и гравитации (Решение задачи 18.5, стр. 446-447)\n",
    "\n",
    "Не стоит забывать, что в задачнике система геометризированных единиц $G = c = 1$."
   ]
  },
  {
   "cell_type": "markdown",
   "metadata": {},
   "source": [
    "# Итоговая система **энергетических** уравнений:\n",
    "\n",
    "$$\n",
    "\\begin{align}\n",
    "\\tag{dJ/dt}\n",
    "\\frac{d\\hat{J}}{d\\hat{t}} &= -\\frac{1}{2} \\epsilon_G\n",
    "\\hat{r}^2\n",
    "\\left(\n",
    "  \\sin (2 \\phi ) \\left(\\hat{f}_{y,y}{}^{\\text{(5)}}-\\hat{f}_{x,x}{}^{\\text{(5)}}\\right)+2 \\cos (2 \\phi ) \\hat{f}_{x,y}{}^{\\text{(5)}}\n",
    "\\right)\n",
    "= \\epsilon_G I_J\n",
    "\\\\\n",
    "\\tag{dE/dt}\n",
    "\\frac{d\\hat{E}}{d\\hat{t}} &= \\epsilon_G\n",
    "\\left(\n",
    "  I_J\\hat{\\omega}\n",
    "  -\\hat{r} \\hat{r}'\n",
    "  \\left(\n",
    "  \\sin (2 \\phi ) \\hat{f}_{x,y}{}^{\\text{(5)}}+\\cos ^2(\\phi ) \\hat{f}_{x,x}{}^{\\text{(5)}}+\\sin ^2(\\phi ) \\hat{f}_{y,y}{}^{\\text{(5)}}\n",
    "  \\right)\n",
    "\\right)\n",
    "= \\epsilon_G I_E\n",
    "\\end{align}\n",
    "$$"
   ]
  },
  {
   "cell_type": "markdown",
   "metadata": {},
   "source": [
    "# RHS уравнения (dJ/dt)\n",
    "\n",
    "Введём новое обозначение $\\hat{r}^2 \\equiv \\hat{r}_2$"
   ]
  },
  {
   "cell_type": "code",
   "execution_count": 70,
   "metadata": {
    "vscode": {
     "languageId": "wolfram"
    }
   },
   "outputs": [],
   "source": [
    "ToR2Replacement = {\n",
    "  OverHat[r][OverHat[t]] -> Sqrt[Subscript[OverHat[r],2][OverHat[t]]],\n",
    "  Derivative[n_][OverHat[r]][OverHat[t]] :> D[Sqrt[Subscript[OverHat[r], 2][OverHat[t]]], {OverHat[t], n}]\n",
    "};"
   ]
  },
  {
   "cell_type": "markdown",
   "metadata": {},
   "source": [
    "и подставим в (dJ/dt) значения $\\hat{f}_{i,j}^{(5)}$:"
   ]
  },
  {
   "cell_type": "code",
   "execution_count": 76,
   "metadata": {
    "vscode": {
     "languageId": "wolfram"
    }
   },
   "outputs": [
    {
     "data": {
      "text/html": [
       "<div><img alt=\"Output\" src=\"data:image/png;base64,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\"></div>"
      ],
      "text/plain": [
       "FormBox[RowBox[{SubscriptBox[OverscriptBox[\"r\", \"^\"], \"2\"], \" \", \n",
       "\n",
       " \n",
       ">        RowBox[{\"(\", RowBox[{RowBox[{\"-\", \n",
       "\n",
       " \n",
       ">              RowBox[{\"5\", \" \", SuperscriptBox[SubscriptBox[OverscriptBox[\"r\", \"^\"], \n",
       "\n",
       " \n",
       ">                  \"2\"], \"′\"], \" \", SuperscriptBox[OverscriptBox[\"ω\", \"^\"], \"′′′\"]}]}], \n",
       "\n",
       " \n",
       ">            \"-\", RowBox[{\"10\", \" \", SuperscriptBox[SubscriptBox[OverscriptBox[\"r\", \n",
       "\n",
       " \n",
       ">                 \"^\"], \"2\"], \"′′′\"], \" \", SuperscriptBox[OverscriptBox[\"ω\", \"^\"],\\\n",
       " \n",
       ">    \"′\"]}]\\\n",
       ", \"+\", RowBox[{\"120\", \" \", SuperscriptBox[OverscriptBox[\"ω\", \"^\"], \"2\"], \"\\\n",
       " \n",
       ">    \", \n",
       "           SuperscriptBox[SubscriptBox[OverscriptBox[\"r\", \"^\"], \"2\"], \"′\"], \"\\\n",
       " \n",
       ">    \", \n",
       "           SuperscriptBox[OverscriptBox[\"ω\", \"^\"], \"′\"]}], \"+\", \n",
       "\n",
       " \n",
       ">            RowBox[{\"60\", \" \", SubscriptBox[OverscriptBox[\"r\", \"^\"], \"2\"], \" \", \n",
       "\n",
       " \n",
       ">              OverscriptBox[\"ω\", \"^\"], \" \", \n",
       "           SuperscriptBox[RowBox[{\"(\", \n",
       "\n",
       " \n",
       ">                 SuperscriptBox[OverscriptBox[\"ω\", \"^\"], \"′\"], \")\"}], \"2\"]}], \"+\", \n",
       "\n",
       " \n",
       ">            RowBox[{\"40\", \" \", SuperscriptBox[OverscriptBox[\"ω\", \"^\"], \"3\"], \" \", \n",
       "\n",
       " \n",
       ">              SuperscriptBox[SubscriptBox[OverscriptBox[\"r\", \"^\"], \"2\"], \"′′\"]}], \"+\", \n",
       "\n",
       " \n",
       ">            RowBox[{\"40\", \" \", SubscriptBox[OverscriptBox[\"r\", \"^\"], \"2\"], \" \", \n",
       "\n",
       " \n",
       ">              SuperscriptBox[OverscriptBox[\"ω\", \"^\"], \"2\"], \" \", \n",
       "\n",
       " \n",
       ">              SuperscriptBox[OverscriptBox[\"ω\", \"^\"], \"′′\"]}], \"-\", \n",
       "\n",
       " \n",
       ">            RowBox[{\"10\", \" \", SuperscriptBox[SubscriptBox[OverscriptBox[\"r\", \"^\"], \n",
       "\n",
       " \n",
       ">                \"2\"], \"′′\"], \" \", SuperscriptBox[OverscriptBox[\"ω\", \"^\"], \"′′\"]}], \"-\",\\\n",
       " \n",
       ">    \n",
       "         RowBox[{\"5\", \" \", OverscriptBox[\"ω\", \"^\"], \" \", \n",
       "\n",
       " \n",
       ">              SuperscriptBox[SubscriptBox[OverscriptBox[\"r\", \"^\"], \"2\"], \"′′′′\"]}],\\\n",
       " \n",
       ">    \"-\", \n",
       "         RowBox[{SubscriptBox[OverscriptBox[\"r\", \"^\"], \"2\"], \" \", \n",
       "\n",
       " \n",
       ">              SuperscriptBox[OverscriptBox[\"ω\", \"^\"], \"′′′′\"]}], \"-\", \n",
       "\n",
       " \n",
       ">            RowBox[{RowBox[{\"16\"}], \" \", SubscriptBox[OverscriptBox[\"r\", \"^\"], \"2\"], \n",
       "\n",
       " \n",
       ">              \" \", SuperscriptBox[OverscriptBox[\"ω\", \"^\"], \"5\"]}]}], \")\"}]}], \n",
       "\n",
       " \n",
       ">      TraditionalForm]\n"
      ]
     },
     "execution_count": 76,
     "metadata": {
      "text/html": [],
      "text/plain": []
     },
     "output_type": "execute_result"
    }
   ],
   "source": [
    "fh1 = fh /. ToR2Replacement;\n",
    "fh5Symbolic = Simplify[D[fh1, {OverHat[t], 5}], Trig -> True];\n",
    "\n",
    "Fh5Replacement = Flatten[{\n",
    "  Outer[\n",
    "    Superscript[Subscript[OverHat[f], #1, #2], \"(5)\"] -> fh5Symbolic[[#1 /. {x -> 1, y -> 2}, #2 /. {x -> 1, y -> 2}]] &,\n",
    "    {x, y}, {x, y}\n",
    "  ],\n",
    "  ToR2Replacement,\n",
    "  OmegaReplace\n",
    "}];\n",
    "\n",
    "dJdtTemp = RHSEnegryLagrange[[2]] //. Fh5Replacement;\n",
    "dJdt = Subscript[OverHat[r],2][OverHat[t]]*Expand[Simplify[dJdtTemp/Subscript[\\[Epsilon], G], Trig -> True]/Subscript[OverHat[r],2][OverHat[t]]];\n",
    "dJdt // TraditionalForm"
   ]
  },
  {
   "cell_type": "markdown",
   "metadata": {},
   "source": [
    "<span style=\"color:brown\">**NB:**</span> В файле Binary.pdf выводится <span style=\"color:green\">**точно такое же**</span> выражение"
   ]
  },
  {
   "cell_type": "markdown",
   "metadata": {},
   "source": [
    "$$\n",
    "I_J = I_1 = \\hat{r}_2 \\left[ 120\\hat{r}_2^{(1)}\\hat{\\omega}^2\\hat{\\omega}^{(1)} - 5\\hat{r}_2^{(1)}\\hat{\\omega}^{(3)} - 16\\hat{r}_2\\hat{\\omega}^5 - 10\\hat{r}_2^{(2)}\\hat{\\omega}^{(2)} + 60\\hat{r}_2\\hat{\\omega}(\\hat{\\omega}^{(1)})^2\n",
    "- 10\\hat{r}_2^{(3)}\\hat{\\omega}^{(1)} + 40\\hat{r}_2^{(2)}\\hat{\\omega}^3 - 5\\hat{r}_2^{(4)}\\hat{\\omega} - \\hat{r}_2\\hat{\\omega}^{(4)} + 40\\hat{r}_2\\hat{\\omega}^2\\hat{\\omega}^{(2)} \\right]\n",
    "$$"
   ]
  },
  {
   "cell_type": "code",
   "execution_count": 78,
   "metadata": {
    "vscode": {
     "languageId": "wolfram"
    }
   },
   "outputs": [
    {
     "data": {
      "text/html": [
       "<div><pre style=\"&#102;&#111;&#110;&#116;&#45;&#102;&#97;&#109;&#105;&#108;&#121;&#58;&#32;&#34;&#67;&#111;&#117;&#114;&#105;&#101;&#114;&#32;&#78;&#101;&#119;&#34;&#44;&#67;&#111;&#117;&#114;&#105;&#101;&#114;&#44;&#109;&#111;&#110;&#111;&#115;&#112;&#97;&#99;&#101;&#59;\">&#48;</pre></div>"
      ],
      "text/plain": [
       "0"
      ]
     },
     "execution_count": 78,
     "metadata": {
      "text/html": [],
      "text/plain": []
     },
     "output_type": "execute_result"
    }
   ],
   "source": [
    "I1 = Subscript[OverHat[r], 2][OverHat[t]] * (\n",
    "    120 * Derivative[1][Subscript[OverHat[r], 2]][OverHat[t]] *\n",
    "    OverHat[\\[Omega]][OverHat[t]]^2 * Derivative[1][OverHat[\\[Omega]]][OverHat[t]]\n",
    "    - 5 * Derivative[1][Subscript[OverHat[r], 2]][OverHat[t]] *\n",
    "    Derivative[3][OverHat[\\[Omega]]][OverHat[t]]\n",
    "    - 16 * Subscript[OverHat[r], 2][OverHat[t]] *\n",
    "    OverHat[\\[Omega]][OverHat[t]]^5\n",
    "    - 10 * Derivative[2][Subscript[OverHat[r], 2]][OverHat[t]] *\n",
    "    Derivative[2][OverHat[\\[Omega]]][OverHat[t]]\n",
    "    + 60 * Subscript[OverHat[r], 2][OverHat[t]] *\n",
    "    OverHat[\\[Omega]][OverHat[t]] * Derivative[1][OverHat[\\[Omega]]][OverHat[t]]^2\n",
    "    - 10 * Derivative[3][Subscript[OverHat[r], 2]][OverHat[t]] *\n",
    "    Derivative[1][OverHat[\\[Omega]]][OverHat[t]]\n",
    "    + 40 * Derivative[2][Subscript[OverHat[r], 2]][OverHat[t]] *\n",
    "    OverHat[\\[Omega]][OverHat[t]]^3\n",
    "    - 5 * Derivative[4][Subscript[OverHat[r], 2]][OverHat[t]] *\n",
    "    OverHat[\\[Omega]][OverHat[t]]\n",
    "    - Subscript[OverHat[r], 2][OverHat[t]] *\n",
    "    Derivative[4][OverHat[\\[Omega]]][OverHat[t]]\n",
    "    + 40 * Subscript[OverHat[r], 2][OverHat[t]] *\n",
    "    OverHat[\\[Omega]][OverHat[t]]^2 * Derivative[2][OverHat[\\[Omega]]][OverHat[t]]\n",
    ");\n",
    "dJdt - I1"
   ]
  },
  {
   "cell_type": "markdown",
   "metadata": {},
   "source": [
    "# RHS уравнения (dE/dt)\n",
    "\n",
    "Подставим в (dE/dt) значения $\\hat{f}_{i,j}^{(5)}$:"
   ]
  },
  {
   "cell_type": "code",
   "execution_count": 81,
   "metadata": {
    "vscode": {
     "languageId": "wolfram"
    }
   },
   "outputs": [
    {
     "data": {
      "text/html": [
       "<div><img alt=\"Output\" src=\"data:image/png;base64,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\"></div>"
      ],
      "text/plain": [
       "FormBox[RowBox[{FractionBox[\"1\", \"3\"], \" \", \n",
       "\n",
       " \n",
       ">        RowBox[{\"(\", RowBox[{RowBox[{OverscriptBox[\"ω\", \"^\"], \" \", \n",
       "\n",
       " \n",
       ">              RowBox[{\"(\", RowBox[{RowBox[{\"-\", \n",
       "\n",
       " \n",
       ">                    RowBox[{\"3\", \" \", SubscriptBox[OverscriptBox[\"r\", \"^\"], \"2\"], \n",
       "\n",
       " \n",
       ">                      \" \", RowBox[{\"(\", \n",
       "\n",
       " \n",
       ">                        RowBox[{RowBox[{\"10\", \" \", \n",
       "\n",
       " \n",
       ">                            SuperscriptBox[SubscriptBox[OverscriptBox[\"r\", \"^\"], \n",
       "\n",
       " \n",
       ">                              \"2\"], \"′′′\"], \" \", \n",
       "\n",
       " \n",
       ">                            SuperscriptBox[OverscriptBox[\"ω\", \"^\"], \"′\"]}], \"+\", \n",
       "\n",
       " \n",
       ">                          RowBox[{\"10\", \" \", \n",
       "\n",
       " \n",
       ">                            SuperscriptBox[SubscriptBox[OverscriptBox[\"r\", \"^\"], \n",
       "\n",
       " \n",
       ">                              \"2\"], \"′′\"], \" \", \n",
       "\n",
       " \n",
       ">                            SuperscriptBox[OverscriptBox[\"ω\", \"^\"], \"′′\"]}], \"+\", \n",
       "\n",
       " \n",
       ">                          RowBox[{SubscriptBox[OverscriptBox[\"r\", \"^\"], \"2\"], \" \", \n",
       "\n",
       " \n",
       ">                            SuperscriptBox[OverscriptBox[\"ω\", \"^\"], \"′′′′\"]}]}], \")\"}]\\\n",
       "\n",
       " \n",
       ">   }]}], \"+\", RowBox[{\"60\", \" \", SuperscriptBox[RowBox[{\"(\", \n",
       "\n",
       " \n",
       ">                       SuperscriptBox[SubscriptBox[OverscriptBox[\"r\", \"^\"], \"2\"], \n",
       "\n",
       " \n",
       ">                        \"′\"], \")\"}], \"2\"], \" \", \n",
       "\n",
       " \n",
       ">                    SuperscriptBox[OverscriptBox[\"ω\", \"^\"], \"′′\"]}], \"+\", \n",
       "\n",
       " \n",
       ">                  RowBox[{\"90\", \" \", \n",
       "\n",
       " \n",
       ">                    SuperscriptBox[SubscriptBox[OverscriptBox[\"r\", \"^\"], \"2\"], \"′\"], \n",
       "\n",
       " \n",
       ">                    \" \", SuperscriptBox[SubscriptBox[OverscriptBox[\"r\", \"^\"], \"2\"], \n",
       "\n",
       " \n",
       ">                     \"′′\"], \" \", SuperscriptBox[OverscriptBox[\"ω\", \"^\"], \"′\"]}]}],\\\n",
       " \n",
       ">    \")\"}]\\\n",
       "}], \"+\", RowBox[{SuperscriptBox[SubscriptBox[OverscriptBox[\"r\", \"^\"], \"2\"],\\\n",
       " \n",
       ">    \"′\"], \n",
       "           \" \", RowBox[{\"(\", RowBox[{RowBox[{\"30\", \" \", \n",
       "\n",
       " \n",
       ">                    SubscriptBox[OverscriptBox[\"r\", \"^\"], \"2\"], \" \", \n",
       "\n",
       " \n",
       ">                    SuperscriptBox[OverscriptBox[\"ω\", \"^\"], \"′\"], \" \", \n",
       "\n",
       " \n",
       ">                    SuperscriptBox[OverscriptBox[\"ω\", \"^\"], \"′′\"]}], \"+\", \n",
       "\n",
       " \n",
       ">                  RowBox[{\"45\", \" \", \n",
       "\n",
       " \n",
       ">                    SuperscriptBox[SubscriptBox[OverscriptBox[\"r\", \"^\"], \"2\"], \"′\"], \n",
       "\n",
       " \n",
       ">                    \" \", SuperscriptBox[RowBox[{\"(\", \n",
       "\n",
       " \n",
       ">                       SuperscriptBox[OverscriptBox[\"ω\", \"^\"], \"′\"], \")\"}], \"2\"]}], \n",
       "\n",
       " \n",
       ">                  \"-\", SuperscriptBox[SubscriptBox[OverscriptBox[\"r\", \"^\"], \"2\"], \n",
       "\n",
       " \n",
       ">                   \"′′′′′\"]}], \")\"}]}], \"-\", \n",
       "\n",
       " \n",
       ">            RowBox[{\"60\", \" \", SuperscriptBox[OverscriptBox[\"ω\", \"^\"], \"4\"], \" \", \n",
       "\n",
       " \n",
       ">              RowBox[{\"(\", RowBox[{SuperscriptBox[RowBox[{\"(\", \n",
       "\n",
       " \n",
       ">                     SuperscriptBox[SubscriptBox[OverscriptBox[\"r\", \"^\"], \"2\"], \n",
       "\n",
       " \n",
       ">                      \"′\"], \")\"}], \"2\"], \"-\", \n",
       "\n",
       " \n",
       ">                  RowBox[{\"2\", \" \", SubscriptBox[OverscriptBox[\"r\", \"^\"], \"2\"], \" \", \n",
       "\n",
       " \n",
       ">                    SuperscriptBox[SubscriptBox[OverscriptBox[\"r\", \"^\"], \"2\"],\\\n",
       " \n",
       ">    \"′′\"]}]}\\\n",
       "], \")\"}]}], \"+\", RowBox[{\"120\", \" \", SubscriptBox[OverscriptBox[\"r\",\\\n",
       " \n",
       ">    \"^\"], \"2\"], \n",
       "           \" \", SuperscriptBox[OverscriptBox[\"ω\", \"^\"], \"3\"], \" \", \n",
       "\n",
       " \n",
       ">              RowBox[{\"(\", RowBox[{RowBox[{\"2\", \" \", \n",
       "\n",
       " \n",
       ">                    SuperscriptBox[SubscriptBox[OverscriptBox[\"r\", \"^\"], \"2\"], \"′\"], \n",
       "\n",
       " \n",
       ">                    \" \", SuperscriptBox[OverscriptBox[\"ω\", \"^\"], \"′\"]}], \"+\", \n",
       "\n",
       " \n",
       ">                  RowBox[{SubscriptBox[OverscriptBox[\"r\", \"^\"], \"2\"], \" \", \n",
       "\n",
       " \n",
       ">                    SuperscriptBox[OverscriptBox[\"ω\", \"^\"], \"′′\"]}]}], \")\"}]}], \"+\", \n",
       "\n",
       " \n",
       ">            RowBox[{\"15\", \" \", SuperscriptBox[OverscriptBox[\"ω\", \"^\"], \"2\"], \" \", \n",
       "\n",
       " \n",
       ">              RowBox[{\"(\", RowBox[{RowBox[{\"12\", \" \", \n",
       "\n",
       " \n",
       ">                    SubsuperscriptBox[OverscriptBox[\"r\", \"^\"], \"2\", \"2\"], \" \", \n",
       "\n",
       " \n",
       ">                    SuperscriptBox[RowBox[{\"(\", \n",
       "\n",
       " \n",
       ">                       SuperscriptBox[OverscriptBox[\"ω\", \"^\"], \"′\"], \")\"}], \"2\"]}], \n",
       "\n",
       " \n",
       ">                  \"+\", RowBox[{\"2\", \" \", \n",
       "\n",
       " \n",
       ">                    SuperscriptBox[SubscriptBox[OverscriptBox[\"r\", \"^\"], \"2\"], \"′\"], \n",
       "\n",
       " \n",
       ">                    \" \", SuperscriptBox[SubscriptBox[OverscriptBox[\"r\", \"^\"], \"2\"], \n",
       "\n",
       " \n",
       ">                     \"′′′\"]}], \"-\", RowBox[{SubscriptBox[OverscriptBox[\"r\", \"^\"], \n",
       "\n",
       " \n",
       ">                     \"2\"], \" \", SuperscriptBox[SubscriptBox[OverscriptBox[\"r\", \"^\"], \n",
       "\n",
       " \n",
       ">                      \"2\"], \"′′′′\"]}]}], \")\"}]}], \"-\", \n",
       "\n",
       " \n",
       ">            RowBox[{RowBox[{\"48\"}], \" \", \n",
       "\n",
       " \n",
       ">              SubsuperscriptBox[OverscriptBox[\"r\", \"^\"], \"2\", \"2\"], \" \", \n",
       "\n",
       " \n",
       ">              SuperscriptBox[OverscriptBox[\"ω\", \"^\"], \"6\"]}]}], \")\"}]}],\\\n",
       " \n",
       ">    TraditionalForm]\n"
      ]
     },
     "execution_count": 81,
     "metadata": {
      "text/html": [],
      "text/plain": []
     },
     "output_type": "execute_result"
    }
   ],
   "source": [
    "dEdtTemp = RHSEnegryLagrange[[1]] //. Fh5Replacement;\n",
    "dEdt = Simplify[dEdtTemp/Subscript[\\[Epsilon], G], Trig -> True];\n",
    "dEdt // TraditionalForm"
   ]
  },
  {
   "cell_type": "markdown",
   "metadata": {},
   "source": [
    "<span style=\"color:brown\">**NB:**</span> В файлах Binary.pdf и binary_catch1.pdf выводится <span style=\"color:green\">**точно такие же**</span> выражения для правой части (dE/dt),\n",
    "а именно $I_E = I_1\\hat{\\omega} + I_2\\frac{\\dot{r}}{r}$, где\n",
    "$$\n",
    "I_2 = 2\\hat{r}_2 \\left[ -40\\hat{r}_2\\hat{\\omega}^3\\hat{\\omega}^{(1)} - 20\\hat{\\omega}^4\\hat{r}_2^{(1)} + 5\\hat{r}_2\\hat{\\omega}\\hat{\\omega}^{(3)} + 10\\hat{r}_2\\hat{\\omega}^{(1)}\\hat{\\omega}^{(2)} + 10\\hat{\\omega}^2\\hat{r}_2^{(3)} + 30\\hat{\\omega}\\hat{\\omega}^{(1)}\\hat{r}_2^{(2)} + 20\\hat{\\omega}\\hat{\\omega}^{(2)}\\hat{r}_2^{(1)} + 15\\hat{r}_2^{(1)}(\\hat{\\omega}^{(1)})^2 - \\frac{1}{3}\\hat{r}_2^{(5)} \\right]\n",
    "$$"
   ]
  },
  {
   "cell_type": "code",
   "execution_count": 83,
   "metadata": {
    "vscode": {
     "languageId": "wolfram"
    }
   },
   "outputs": [
    {
     "data": {
      "text/html": [
       "<div><pre style=\"&#102;&#111;&#110;&#116;&#45;&#102;&#97;&#109;&#105;&#108;&#121;&#58;&#32;&#34;&#67;&#111;&#117;&#114;&#105;&#101;&#114;&#32;&#78;&#101;&#119;&#34;&#44;&#67;&#111;&#117;&#114;&#105;&#101;&#114;&#44;&#109;&#111;&#110;&#111;&#115;&#112;&#97;&#99;&#101;&#59;\">&#48;</pre></div>"
      ],
      "text/plain": [
       "0"
      ]
     },
     "execution_count": 83,
     "metadata": {
      "text/html": [],
      "text/plain": []
     },
     "output_type": "execute_result"
    }
   ],
   "source": [
    "I2 = 2 * Subscript[OverHat[r], 2][OverHat[t]] * (\n",
    "    -40 * Subscript[OverHat[r], 2][OverHat[t]] *\n",
    "    OverHat[\\[Omega]][OverHat[t]]^3 * Derivative[1][OverHat[\\[Omega]]][OverHat[t]]\n",
    "    - 20 * OverHat[\\[Omega]][OverHat[t]]^4 *\n",
    "    Derivative[1][Subscript[OverHat[r], 2]][OverHat[t]]\n",
    "    + 5 * Subscript[OverHat[r], 2][OverHat[t]] *\n",
    "    OverHat[\\[Omega]][OverHat[t]] * Derivative[3][OverHat[\\[Omega]]][OverHat[t]]\n",
    "    + 10 * Subscript[OverHat[r], 2][OverHat[t]] *\n",
    "    Derivative[1][OverHat[\\[Omega]]][OverHat[t]] *\n",
    "    Derivative[2][OverHat[\\[Omega]]][OverHat[t]]\n",
    "    + 10 * OverHat[\\[Omega]][OverHat[t]]^2 *\n",
    "    Derivative[3][Subscript[OverHat[r], 2]][OverHat[t]]\n",
    "    + 30 * OverHat[\\[Omega]][OverHat[t]] *\n",
    "    Derivative[1][OverHat[\\[Omega]]][OverHat[t]] *\n",
    "    Derivative[2][Subscript[OverHat[r], 2]][OverHat[t]]\n",
    "    + 20 * OverHat[\\[Omega]][OverHat[t]] *\n",
    "    Derivative[2][OverHat[\\[Omega]]][OverHat[t]] *\n",
    "    Derivative[1][Subscript[OverHat[r], 2]][OverHat[t]]\n",
    "    + 15 * Derivative[1][Subscript[OverHat[r], 2]][OverHat[t]] *\n",
    "    Derivative[1][OverHat[\\[Omega]]][OverHat[t]]^2\n",
    "    - (1/3) * Derivative[5][Subscript[OverHat[r], 2]][OverHat[t]]\n",
    ");\n",
    "Simplify[(I2*D[OverHat[r][OverHat[t]], OverHat[t]]/OverHat[r][OverHat[t]] + I1*OverHat[\\[Omega]][OverHat[t]] /. ToR2Replacement) - dEdt]"
   ]
  },
  {
   "cell_type": "markdown",
   "metadata": {},
   "source": [
    "# Итоговые $I_J$, $I_E$\n",
    "\n",
    "$$\n",
    "\\begin{align}\n",
    "\\tag{IJ}\\\n",
    "I_J &= \\hat{r}_2 \\left[ 120\\hat{r}_2^{(1)}\\hat{\\omega}^2\\hat{\\omega}^{(1)} - 5\\hat{r}_2^{(1)}\\hat{\\omega}^{(3)} - 16\\hat{r}_2\\hat{\\omega}^5 - 10\\hat{r}_2^{(2)}\\hat{\\omega}^{(2)} + 60\\hat{r}_2\\hat{\\omega}(\\hat{\\omega}^{(1)})^2\n",
    "- 10\\hat{r}_2^{(3)}\\hat{\\omega}^{(1)} + 40\\hat{r}_2^{(2)}\\hat{\\omega}^3 - 5\\hat{r}_2^{(4)}\\hat{\\omega} - \\hat{r}_2\\hat{\\omega}^{(4)} + 40\\hat{r}_2\\hat{\\omega}^2\\hat{\\omega}^{(2)} \\right]\n",
    "\\\\\n",
    "\\tag{IE}\n",
    "I_E &= I_J\\hat{\\omega} + \\hat{r}_2^{(1)} \\left[ -40\\hat{r}_2\\hat{\\omega}^3\\hat{\\omega}^{(1)} - 20\\hat{\\omega}^4\\hat{r}_2^{(1)} + 5\\hat{r}_2\\hat{\\omega}\\hat{\\omega}^{(3)} + 10\\hat{r}_2\\hat{\\omega}^{(1)}\\hat{\\omega}^{(2)} + 10\\hat{\\omega}^2\\hat{r}_2^{(3)} + 30\\hat{\\omega}\\hat{\\omega}^{(1)}\\hat{r}_2^{(2)} + 20\\hat{\\omega}\\hat{\\omega}^{(2)}\\hat{r}_2^{(1)} + 15\\hat{r}_2^{(1)}(\\hat{\\omega}^{(1)})^2 - \\frac{1}{3}\\hat{r}_2^{(5)} \\right]\n",
    "\\end{align}\n",
    "$$"
   ]
  },
  {
   "cell_type": "markdown",
   "metadata": {},
   "source": [
    "# Попытка численного решения начального уравнения движения\n",
    "\n",
    "$$\n",
    "\\hat{r}_k^{(2)} + \\frac{\\hat{r}_k}{\\hat{r}^3} = - \\epsilon_G\\hat{f}_{ki}^{(5)}\\hat{r}_i\n",
    "$$"
   ]
  },
  {
   "cell_type": "code",
   "execution_count": 102,
   "metadata": {
    "vscode": {
     "languageId": "wolfram"
    }
   },
   "outputs": [
    {
     "data": {
      "text/html": [
       "<div><img alt=\"Output\" src=\"data:image/png;base64,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\"></div>"
      ],
      "text/plain": [
       "  ^\n",
       "{{r -> InterpolatingFunction[{{0., 200.}}, <>], \n",
       " \n",
       ">    ϕ -> InterpolatingFunction[{{0., 200.}}, <>]}}"
      ]
     },
     "execution_count": 102,
     "metadata": {
      "text/html": [],
      "text/plain": []
     },
     "output_type": "execute_result"
    }
   ],
   "source": [
    "Clear[rxNum, ryNum, uxNum, uyNum, tMaxNum, rhRules, icsNum, MaxDNum, epsilonGNum]\n",
    "\n",
    "rxNum = 10^2;\n",
    "uxNum = -0.0;\n",
    "\n",
    "(* зафиксированны *)\n",
    "ryNum = 1;\n",
    "uyNum = 0;\n",
    "\n",
    "(* Newton *)\n",
    "epsilonGNum = 0;\n",
    "epsilonGNum = 0.1;\n",
    "tMaxNum = 2*10^2;\n",
    "\n",
    "rhNum = {\n",
    "  Subscript[OverHat[r], \"x\"][OverHat[t]], Subscript[OverHat[r], \"y\"][OverHat[t]]\n",
    "  };\n",
    "D[rhNum, OverHat[t]];\n",
    "\n",
    "rhRules[MaxDNum_] := Join[\n",
    "  Thread[rhNum -> ({rxNum, ryNum} /. OverHat[t] -> 0)],\n",
    "  Thread[D[rhNum, OverHat[t]] -> ({uxNum, uyNum} /. OverHat[t] -> 0)],\n",
    "  Flatten[Table[\n",
    "    Thread[D[rhNum, {OverHat[t], i}] -> {0, 0}],\n",
    "    {i, 2, Max[MaxDNum, 2]}\n",
    "  ]] /. OverHat[t] -> 0,\n",
    "  {OverHat[t] -> 0}\n",
    "];\n",
    "\n",
    "icsNum[MaxDNum_] := Join[\n",
    "  Simplify[Table[D[OverHat[r][OverHat[t]] -> Sqrt[rhNum.rhNum], {OverHat[t], i}], {i, 0, Max[MaxDNum, 1]}] //. rhRules[MaxDNum]],\n",
    "  Simplify[Table[D[\\[Phi][OverHat[t]] -> ArcTan[rhNum[[1]], rhNum[[2]]], {OverHat[t], i}], {i, 0, Max[MaxDNum, 1]}] //. rhRules[MaxDNum]]\n",
    "];\n",
    "\n",
    "fh5SymbolicNum = Simplify[D[fh, {OverHat[t], 5}], Trig -> True];\n",
    "\n",
    "Fh5ReplacementNum = Flatten[{\n",
    "  Outer[\n",
    "    Superscript[Subscript[OverHat[f], #1, #2], \"(5)\"] -> fh5SymbolicNum[[#1 /. {x -> 1, y -> 2}, #2 /. {x -> 1, y -> 2}]] &,\n",
    "    {x, y}, {x, y}\n",
    "  ]\n",
    "}];\n",
    "\n",
    "sysNum = Simplify[D[rh, {OverHat[t], 2}] + rh/OverHat[r][OverHat[t]]^3 + epsilonGNum*fh5rh //. Fh5ReplacementNum];\n",
    "eqnsNum = {sysNum[[1]] == 0, sysNum[[2]] == 0};\n",
    "solNum = NDSolve[Join[eqnsNum, icsNum[If[epsilonGNum == 0, 1, 4]]] /. Rule -> Equal, {OverHat[r], \\[Phi]}, {OverHat[t], 0, tMaxNum}\n",
    "  (* WorkingPrecision -> 30,\n",
    "  PrecisionGoal -> 20,\n",
    "  AccuracyGoal -> 20,\n",
    "  Method -> \"StiffnessSwitching\",\n",
    "  MaxSteps -> 10^7 *)\n",
    "]"
   ]
  },
  {
   "cell_type": "code",
   "execution_count": 113,
   "metadata": {
    "vscode": {
     "languageId": "wolfram"
    }
   },
   "outputs": [
    {
     "data": {
      "text/html": [
       "<div><img alt=\"Output\" src=\"data:image/png;base64,iVBORw0KGgoAAAANSUhEUgAABRQAAACyCAIAAAC8+dTrAAAAz3pUWHRSYXcgcHJvZmlsZSB0eXBlIGV4aWYAAHjabU/tbUQhDPvPFB0hJMGBcXh3nHQbdPyaB6eKqpaIHecDJY3v9yt9TWiW5CUqGiCEN2/aKaosLM7S7rgSl7Ldw0+X7oZOq/wWMLZ/nX5gsdY/i2QvsvkDtfke2ItMl5/7yj8fa6/1XGRyoH1E/j93C0VBDmd0lQg06pooSSgqJfDCA2BjxlPFH+SBCI4hZof1OTihI87ukWA0nvMEm69YJxtjtspRnno7yljM9NrV+5D0A1M+WreB7wuhAAAACXBIWXMAABYlAAAWJQFJUiTwAAAAPHRFWHRTb2Z0d2FyZQBDcmVhdGVkIHdpdGggdGhlIFdvbGZyYW0gTGFuZ3VhZ2UgOiB3d3cud29sZnJhbS5jb21coqaFAAAAIXRFWHRDcmVhdGlvbiBUaW1lADIwMjU6MDM6MTggMDQ6MDI6NTPK7U0OAAAgAElEQVR4XuydB7zU1PLHpV0EpHcBC1KkKYgNCyAiIIINBVQU/Ssq+ixYnwV7x4Zi4dEEQYoI9ofCQwQVCyJdeu+9twv6/14HjyHZ3WRzc/dmd+d84H6yycnJnF9OkjNnZn6T588//zxCiyKgCCgCioAioAgoAoqAIqAIKAKKgCKgCERHIK+CowgoAoqAIqAIKAKKgCKgCCgCioAioAgoArERUOVZR4gioAgoAoqAIqAIKAKKgCKgCCgCioAi4IKAKs86RBQBRUARUAQUAUVAEVAEFAFFQBFQBBQBVZ51DCgCioAioAgoAoqAIqAIKAKKgCKgCCgC2UNALc/Zw0/PVgQUAUVAEVAEFAFFQBFQBBQBRUARSAMEVHlOg5usXVQEFAFFQBFQBBQBRUARUAQUAUVAEcgeAnlCmKpqw4YNc+bMKVWqVL169bLXOz1bEVAEFAFFQBFQBBQBRUARUAQUAUVAEQgAgdApz/v373/uuefWrFmTJ0+eu+66q1atWgH0UptQBBQBRUARUAQUAUVAEVAEFAFFQBFQBLKBQOjctj/44AM0Z3qESbxfv37btm3LRu/0VEVAEVAEFAFFQBFQBBQBRUARUAQUAUUgAATCpTx///33kydPxubcqVOncuXK7dixo0+fPn/88UcAHdUmFAFFQBFQBNIYgXfeeee2224jJiiNMdCuKwKKgCKgCCgCikC2EAiR8rxy5cqhQ4fSm2uuuebcc8/t1q1biRIlFixY8Omnn2ari3qyIqAIKAKKQHogwGLrunXrtmzZYuvu119/PW3atHz58uHQtHXr1vQAQ3upCCgCioAioAgoAgEjEKKY51mzZi1ZsqR8+fKnn3669HLt2rW//PJLgQIFWrVqFXC/tTlFIBwITJkyZdeuXQ0aNChWrFg4JFIpFIFkRQCyybfeeksCf0499dQbb7wxb96sBeKFCxe+8sorZ599dsuWLXv06FG2bNl7771XDmlRBBQBRUARUAQUAUXAOwIhUp69C601FYHUQIAghffee4++1KxZ8+6779bZfGrcVu1FriCAzRmyycqVK6MhL1q0CD+mzp07y1Ls9OnTsTbj0MQjtnr16tmzZ6NalyxZMlfk1IsqAiFEQJdxQ3hTVCRFQBEIJwKhU5779++/Z8+eDh06jBkzZsaMGcyEbr/9dnztwgmfSqUI+EaASfzzzz8Pvby0cNFFF1188cW+W9MTFYE0RyAzM3PmzJn169eXRaghQ4YcOHAA/Vlg+eqrr5YuXVqmTBlWrJo1a9a6des0h0u7rwgYBHQZVweDIqAIKALeEQiX39r27dt/+umnefPmvfnmm5MmTYJq++DBg6o5e7+dWjNZENi3b1/v3r3RnKtVq3bZZZch9pdffqlURsly+1TOECJAgM+JJ574+eefv/baazhvY2revXu3kZOHa+rUqRMnTqQOJYTyq0iKQK4gwDIuWU7k0sy+eIJyRQy9qCKgCCgCyYJAuJTnZcuWARx6BVo04Wo4srZv3z5ZoFQ5FQHvCAwePJiQ/qOPPhrHCkL6MTtLbjalMvKOodZUBKwIbN68+ZlnnoE7A8Pycccdh+NSRkaGqbB8+fKiRYs+9dRTN910U9WqVRU6RUARkOmWLuPqSFAEFAFFIC4EwqU8QxiG9KSquuuuu4hVq1WrVqVKleLqj1ZWBMKPAAZniPHatGlz5513Fi5cGIFx2IZkvmnTpigA4ZdfJVQEQojAwIEDCXsmTcPJJ5/MalT+/PkrVKggckIkhhW6efPmxYsXD6HkKpIikFsI6DJubiGv11UEFIHkRSBcyjMxaUDZqFEj7AbJi6lKrgjERgCDGJpz27ZtrZRFjRs3Zo/axHTwKAI+EFixYsXcuXPPP//8QoUKcToM9gQ8w8MnTWF25m+9evV8tKynKAKpioAu46bqndV+KQKKQI4iEC7lWdy24UHN0T5r44pAGBDAv7RXr14///zzjz/++MILLzz66KMkZguDYCqDIpB0CKxcuRKZq1evLpJ/99135cqVO+GEE+QnXxZcPIiSSLp+qcCKQM4hoMu4OYettqwIKAIpjECIlOeNGzfu3LmTt3mNGjVSGHHtmiIgCBCTCTnw+PHjBwwYQMACnqWaO0fHhiLgDwEJf4BHgL/kqYL0qF27dkQAGeX5mGOOMT/9XULPUgRSHoHvv/++b9++LOmmfE+1g4qAIqAI+EYgRMqzBDzjsA1pqu/+6ImKQLIgIEEKDHtcLR588EF4jGDeThbhVU5FIFQI1K1bl8eHAE6otnv27HnppZeSs8pIuGrVKg0FCtX9UmHCiQDKMw5QmDHCKZ5KpQgoAopAGBAIUZ7nkSNHjh07tkWLFlgMwgCNyqAI5BwC5KSFFY9MbCeddBKE2zl3IW1ZEUgTBGALY0EKYjCMzMWKFUuTXms3FYGgEOB7xFeJbxOLucq+ERSq2o4ioAikHgKhszwff/zxqYey9kgRsCFAiCYzFfxIO3TooOAoAopA9hHImzcvM35M0Ko5Zx9MbSENESDhM5pzvnz5qlSpkobd1y4rAgaBKVOmfPvttyTNVUwUgYgIhEh55sWNiOpcpyM1HRAQn21Ge5kyZdKhv9pHRUARUAQUgRAiADX9l19++fLLL7/++uuIx6pujx498ATcs2dPCKVVkRSBnEZg8uTJffr0+eCDD4j/x6Eppy+n7ScjAiFy205G+FRmRcAfApCEQbJNemcS0lpbIAR62LBh0AJ37tzZ7P/mm2+o3LJly1NOOcXf5fQsRUARUAQUAUXAhsDvv//eu3fviHpy+fLlu3fvrhw0OmbSCgHMeM8//zxZ3KTXzNCYp6UVAtpZLwiEyPLsRVytowikBgJieTaZdUynUJvXrFnDwueWLVvMThi5qU8kZ2r0XXuhCCgCioAikOsIsFb7xhtvoDmTEf1f//pXqVKlEIlIoksuuYSNdevWTZo0KdeFVAEUgYQhsG/fPtaS0Jyhn7zsssu4Lk4Zc+bMSZgAeqFkQUCV52S5Uypn6iDAZIWcOgQ8O/XhggULNmzY8M8//yTkRjrM/Gb9+vW8ytXBO3VGgPZEEVAEFIFcRYCvzHvvvYdXaqNGje6++25WcmXFtk6dOq1bt5awZ8mBokURSBMEyNfA3AwbBjSurVq1wuzMY9KvX7+tW7emCQLaTY8IqPLsESitpggEhsCyZctoq2LFikceeaSzUaYy7DSZNn/66Sd+yk4tioAioAgoAopA9hGYP38+ekKhQoWuvPJKyPb4KqEn8LNcuXI0LmzbcNdn/0LagiKQFAhgcCZUoU2bNnfeeWfhwoWRGYfta665pmnTpps3b06KLqiQCUNAleeEQa0XUgQOIRCbGw8LQOnSpZcvX87MBu4Wsm7mz58fc7TCpwgoAoqAIqAIBIKAOKPWrl27SJEibEgk0bHHHotLFBvyVw5pUQTSAYGMjAw057Zt25YsWdL0t3HjxuzRzG3pMADi6qMqz3HBpZUVgQAQaNasGXE1Vkowa6PMWozxmfnNzp0769evj0EggAtrE4qAIqAIKAKKwBFHiDFN4pwp4qFt0p3MmzePn5o6VEdK+iAwderUt95664svvnB2GTPGO++88/bbb5PLLX0A0Z7GQECVZx0eikDoEDjzzDOR6bfffps2bRob6rMdujukAikCioAikPwIrFixQjphLM9sz5gxA95KDHGnn3568ndRe6AIuCNAwP+gQYMY+RGNzCQ/5wGZPn36woUL3dvSGmmAgCrPaXCTtYvJhkDZsmVx3sa7+7vvvitWrBiedcnWA5VXEVAEFAFFILwIQLqBcEQ+E+28bds2YQvD8oySAJEY27ANq9t2eO+fShYoAqNGjYLJ9dRTT61VqxYNHzhwgIeCFOjmIkKht2rVqkAvq40lKwKqPCfrnVO5UxsBY21m7R82l9TurPZOEVAEFAFFIJEI4N8EYyVs288999wzzzwjlx4yZMgLL7yAzgBJ0nnnnZdIefRaikBuIYCfBeQymJcvvfRSkYF0Jw888ABe3Eak4sWLs60Uerl1j8J23TzwK4ZNJpVHEVAE9u7de8899xBp071798qVKysgioAiEAMB2AFw0/AOUY0aNVAPvNfXmopA6iGA2fn9998nFaK1a/g9QZskoUNaFIF0QGD06NFjxoyBXKZr167S36FDh06YMKF58+Zw0cuegQMH/vDDD2RxkyzoWtIcAbVopfkA0O6HFAF4wrAJ4CmkmnNI75CKFSYE8C/lSfFerHyqYeqHyqIIJA4BlpCefPLJp59+Wly4zz333Keeeoqfqjkn7h7olUKAgJDLWCP8hQKA6Dkj3bp169gmjC4E8qoIuY+AWp5z/x6oBIqAFYEdO3Zgdv7oo48gDCPHIJkSFB9FQBFQBBQBRSAnEMD9sFu3bgR84utUs2bNnLiEtqkIhBYBrBT/+te/8PJj5Yg8z8hp/P6IaCBvqOy59957CYR+5JFHjjnmmND2RQVLGAJqeU4Y1HohRcATAsOGDXv00UfRnDGjKc+2J8i0kiKgCCgCioAvBHDbRnPmVNUKfOGnJyU3Anj5oTnTh6JFi0pPmH3JHmNnJgQazRlFWj0Bk/tmBye9Ks/BYaktKQJBIFCvXr1q1ao1adLk9ttvL1CgQBBNahuKgCKgCCgCikAEBGBLgiqpUqVKhQoVUoAUgXRDoHDhwtLlRYsW8ReS7U8//VT2CB0AGdFlT4sWLZS9Nd2GR7T+htRt+5Zbbundu7feJEVAEVAEFAFFQBFQBBQBRUARUARyAoGXXnoJzRnL88knnzxr1qytW7c2aNAA+zPkeSeeeCLJn9GoyRh6xx13qPKcE/gnY5tqeU7Gu6YyKwKKgCKgCCgCioAioAgoAopAthC46qqrSpQoAd0MKRsIgb75r4IivWHDhkmTJm3fvh3qmVtvvVU152yhnFonq+U5te6n9kYRUAQUAUVAEVAEFAFFQBFQBLwhQJAzqjJ/4QzLnz+/nITb9v79+8uVK5eRkeGtGa2VLgio5Tld7rT2UxFQBBQBRUARUAQUAUVAEVAErAgQ9l+hQgUi/43mzFHUZhjCVHPWoeJEQJVnHRWKgCKgCCgCioAioAgoAoqAIqAIKAKKgAsCqjzrEAkRAiu27iXnZIgEUlEUAUUgJRDYsmXLfffdRxK43bt3p0SHtBOKgCKgCCgCioAikAsIqPKcC6DrJSMisCfzYKcRs5v2mXpBv6mfztmgWrSOE0VAEQgEASLZ+vTpg9q8cePGgQMHBtKmNqIIKAKKgCKgCCgCaYiAKs9peNND2uUBv67B6My/fQf/fPunlXny5AmpoCqWIqAIJBUCo0ePXrJkyW233da5c+dp06aNGzcuqcRXYRUBRUARUAQUAUUgLAjErTxD5v6vf/1rxIgRzh588803Tz755F133TV48OCVK1c6K8yZM+e5557jdHI4z58/PywYqBwhQGD/wT8+/X2DESRfXtWcQ3BXVARFIPkRIPUIaUhI0Vm3bt1GjRp17dq1QIECyd8t7YEioAgoAoqAIqAI5AIC8aWqwpP20ksv/fTTT++8886ePXsaeXGKI0/ahx9+aPYUKlQIBbtNmzZmz/vvv3/DDTdQU/YwfRk0aFDHjh0jdvqWW25Bwc4FPPSSuYfArR//Pmf9oXDEAnnz/O+mU3JPFr2yIqAIKAKKgCIQBwKYBz7++OPVq1fXq1fvvPPOq1GjRuyTMzMzhw0bNn369COPPPKss85q1qwZG9ZTtm7dOnLkyAULFlCT1i655JKKFStaK7i2QOV4pYqjw1pVEVAEFIH0RAB92GPhPX7dddcJSijP1rMwOLMTnvfXXntt8uTJ8LLwE8L333//XarxOWHtH4X5zTffnDlz5osvvggvPAnHp06dGvHqJCj3KJVWSxkEun78+7m9p5h/ezMPpkzXvHdER753rLSmIhARgW3btvHFOXDggPMoq7cUxU0RCBwBjAHMasw0ktnO0KFDY1xlz549J510knXaec455zDLMqd8+eWXpUuXtlYoWrQobn2mgmsL1IxLKv36BD4qtEFFQBFISQS8um1//vnnderU4UXsXGIAl//85z/sf+yxx+6+++4zzzyzR48erKEyd+EsqX/PPffwVbj//vvx2cZ37oEHHnjooYfwpuvVq1d6rllor50IbN17wLpzx/5DTgqKlSKgCCgCXhDgm/Lee+/xoXniiSf4Hm3Y8E8kCKevW7fuhRdeQK/20pTWUQS8I7BmzRosCtgDjHmAoXjNNdf89ttv0RphiM6YMQOF+Ycffvj2229PPfXU77777vrrr5f6jFJO37RpU6tWrfDpYyp1xRVXEDR34403YkmWOrFboIIPqbx3WWsqAoqAIpC2CHhVnjt16rRq1SpUYpReG1j79u279957cbQ2730qoELzVyKf+Yp88cUXbBjDNdsQt/AXnyXjyJ2290A7LghsP1x53q3Ks44MRUARiAeBMWPGQAzG4izeT7g+4fJqPXvChAnr168/+uij42lS6yoC7gjEax6YPXv2yy+/THQbUyPi8Bs3bgyJ3VFHHUVM3NKlS7neqFGjSK5WpUoV7M+ozRdddBEqNN7gTLckPs61BerEK5V7P7WGIqAIKAKKwBFHeFWezzjjDCYivN+dMw+idLp16/buu+/yJRBIV6xY8cEHH7DRsmVL/i5atIgV0+LFi9esWdNgXq1atVKlSpE7hKN6IxQBENh5uLZM5iqFRRFQBBQB7whUrVoV76cTTjihevXq0HAQN2TOxT3q+++/37t37+uvv+69Qa2pCLgi4MM88N///hezAQwyxYoVk/aZIPGTpnD25ierPGjO0MRYs060b99eJlT8dW3Bh1SuPdUKikDgCKBZdOnShRgEW8vE88OUxDLoo48+yhISr27XS7tyEvto0/WiWiE9EfCqPH/11Vft2rVzzR6EXze8F8cddxyrp3hoX3DBBcC6efNm/pYpU8YGMcoze2yedaYOpuz0vCXp2WvszH+QpcpS9hz4Iz2h0F4rAoqAPwROPPFE8ji8/fbbsG/Aw4SZzng21apVi5/Y7po0aeKvcT1LEYiIgA/zgLhzn3766dYG5SekMPx96qmnli9fLmwypvz6669sM8j569qCD6n0/ioCCUaAmAXCE/r27WvTjflJIAPOqq+88sqzzz6L5wXaBGQWMcRD04ZE4JFHHnnrrbduvfVW4kPxbLXW99FmgtHQyyURAl6VZ49dGjBgAIRhLHlSv3LlyoRDs7Fr1y7+srBqa6RkyZLswfgcsXFl2/aIeWpU2+WwM+9T5Tk1bq324i8E5qzfdevHc2ev26l45BACfG769OmD4Q56DriOf/rpJwicDIfTMcccw3VZ223YsGEOCaDNpicCPswDEU+JbU4gJAEqb4IRLr74YnB2bcGHVOl5+7TXuYUANrnLLrts//79TgFc4/ltp3gJ74+3zdyCRa+bFAgErDxD1sJy6auvvorx+d///jeOc6Ag2RdEkbYWeWY05WZSDJScFnKXI8J5b+iV5xg5z21wEb2GNYwU6M8///zEiRPh0stpPLX98CCwYdf+p8cvQXNGf37jhxXON2F4RE1qSXiypkyZggcgtuX69etjeSABhOkRHya2jz322KTuowofQgR8mAcinhLDnPDzzz9feeWV9P3hhx9mYLPh2oIPqUKIrYqUkggwIyIkATI8whOcHfQSz287yzW8P9421fU1JQdegJ0KWHlmakKgDiHQqApICUUkb3AJk5Z1UGuRPU6LdIDd06aSBYHdmXYn7f0H7astoeoLKhAsejgIEUgZWzBoiojwv/3229944w2mPszs27ZtKzMbLamNAN4TA6euuWb47LELD739ft+w+6sF9jdhaoOQsN6NHTv2+OOPx+wsV8THz8qysWzZMgiZxLinRREIEAEf5oGIp0QzJxDefP755+/cuRPmsO7du4vkri34kCpATLQpRSAGAgMHDsTSVrhwYRy2bfnYOMs1nt/Wspfw/njb1NunCMRGIADlmYELQxjrOtYrQRXGqj8xZlgDKlasyKGNGzeKO7cUQtFIw8BGpUqV9CYpAk5u7f0htjwzL4dbHmZU1xvHChEWA/5CGQDf3pAhQwjLwQFP1zVdoUv2Cv9btLnTiNn9pqy2+VBgf072roVQfr410GfAEyayrV27dsGCBfAYG1GxPIvnthZFIFgEfJgHIp4S0ZxAKBx+2mjOWOoIScBtW4R3bcGHVMHCoq0pAtEQwGZ2xx13wE9B6jVnHdd4ftspXsL7421T750iEBuBAJTnWbNmMSk599xzrc6o6MlCAFCuXLmCBQtCf4qpDROckeabb74h2hnvbiroTVIEnPRgMIiFE5YYOc+dAn/00UcsGxH/z7wH68HVV18tuc1pRJ23w3l/sy/V3A27bv903pP/W7Ju52HRXCeUKtSzTY17zlEVLvsY21sg/CcjIwOdmQMQt/bv35/YZqu2zCHin0n1HPy1tcX0RsCYB5gLPffcc1ClwtgC03sM84BotiRztvIJkw2UnVZzAszwaBd8KViBZfTCFWyQFiY87GmDLYUgUnbKl0WkYsBznOwnUtiWR0CNFuk9ZnO596wE4YgXbRC6xvPbpPcS3h9vm1xCLRy5PErCffkAlGf4S1GAiWEg1Nl0ltD8rVu3sv/kk09mJ58T/vbo0UPe/vxlmw0Wn8KNj0qXIASclufMsLptx8h57gSrdu3aDz74IKPdxPZDqQpr/fbt2wmZThC4eplEIbBx1/7nJiy9efTcmWsPIwYrfmT+e885pl+7Wg2OLpooWdLrOnnz5iUaAqbiF1988fHHH8eyce2111ohqFGjBkclR64WRSBABIx5gNmOIftlXhTDPMB3AQHQtK18wjIpIi2oyMZIJgIOUzOu2p988omNkXjevHnUGTFiBOPcFH6yc9q0afwVqbBhcBRCYyls4xzOITVaBDgAtKlgEXCN57ddzkt4f7xtcgklLQ72tqZYawEoz2gCYkxDSWjQoMFDDz2EhQ1yefbjcSReRjfddBMva7xVzz77bIjE+Pv111+jRZCTM8UA1e74QyCC5dmWuspfuzlwVoyc586rMdRfeOGFjh07yiEipV9++WX+nnbaaUIPoyU1ECC8+b2pa64ePnvM/KxoFFPy5c3Tvl65oR3rXlK7bN48eVKjs+HsRYsWLZ5++unWrVvzWYFiAEO0VU4WcMl6osaEcN67ZJdKVmp4sWMrZo0GrVgsw5AJS9ewJcCOAe+X/MSSTMAnE3p0bLL1fPvttyzusJxKoLKcQqI19HAmUcyXmMQ7GYlJxkML0hQ6NuXyyy+Xxgmakw0xWsgGDwW2CvHF4BlJdsBV/hRGwDWe39Z3L+H98baZwvBq1wJBIG7lmQV+Lix/TeH1PXz4cHwwWPJEVRg/fjwLqzhmm3c0TC0kDkHr+OWXX1hP5S+aMw5LtnYC6ZI2kowI7HGkqsoMq9u2x5zntrtAQCYTLIgAHn30Uby4YRqLdpt0fp9cA5gZM3xg1wyf1d8R3tzomOKDrqj9r0ZVjsrIl1ydSlJpy5YtizYiPrHOwmdIkzsk6Z0NudiSnJlXAawWuEaPHj1aBEZnlo3vvvvunHPOMWrtwoULCS5gPxuQJ+FQLWzwhO6Lf+l9992H+k2DrAcZRmKIJxnhuLxS4f/+7//wsGDjiy++wMRNEQ4Owv7feecduSipcWWD2RfW5h9//JGrMPUaOXJkyPFU8dIZAdd4fhs4XsL7420znfHXvntBIG7l+bbbbuOF/tprr9lab9++PbRhS5YsYXmVdz38YbAKW+sQ3sy7mw8DmjNvcN7mLLV6EVHrpAMCzsRUoXXb9nc75syZw6RKpkFMgGQdNGJRZyF/COfKWeRt7vrJPDJRrd/1TzgikhxX8shXWld/sVW1KiWi3uhcEVgvqggoAsEiAMMLnnS0CRmkMQ+wzR6MCmKCxobMX2MtIFaZeRQJ1djDC5/CBl7f7IQdQ9Rdp5BMn2DQIORHDj3wwAP4MdGytECoM3HR6NLoyVIBzjz+wjCvRotg77i2lqMIiKJr46eQuVPEMGkvnMTxtpmjHdTGUwCBuJXnGH3mJY6GfNZZZ6EbRKuGq+qpp55KOqsUwE67ECACex2pqg6E1W3bX6/x0yZZDu4YBJ5B/EiAg9A/aklSBCADe2r8EjRnG3s24c3dzq4yoF3t0yoXS9KuqdiKgCLgHQFD9ouvtTEPsI3WikGYozR10UUXoRgLhRhFXv6dO3dGE4ZajMq4JgnzsBix2Q/pHY7WK1eu5ERJ50PjbENCaWS79957qQlRGQ4X7HzssccM4Tw/JfiZqxBSd95555HpihBrTXXu/c5qzVxBQBgBiPo0RHds8JOdtWrVcopkSAdIf2UY+/BstZIOSJufffaZlaJPnDUMy0CudFYvmqQIBKk8JykEKnYYEHDGPKeY8kx8GvFmTZs2xf6M4xxWglGjRoUBeZUhXgQIMSABFX7a4/7O3iwtSHjzBx3qXFanHNvxNqv1FQFFIBkRsBL5Ws0DklQcrdjZKXMKBucTTzwRMzUfCFv92IzEpk1amDFjBio3Cja2aOu1RHnGT5BYOdZt8dYm+PmUU07BQzAZcVaZ0wQB4kB5jqDEM0R3bJDXiu6bpR/GPF6ukl6BIuH9LD8Zxj7iGthjOIlpE94lTrFS9E2ePBmLtCEmSBN4tZuBIKDKcyAwaiPZRQC+JVsTmSlheSY/J2958kJbe0eOaH6Kp5+WJEIAsw98YLCCDZy6Zv/hbPBnH1t80JVZ4c1FCx5KxJpE/VJRFQFFwDcCXsh+bY374P6NIV6fPn1Ec7BFA4l9u27duizUElwN1TwLuAQQoVfwKvPdXz1REchRBLAkQxDAJVgYwqWCQjwCP0l4LgZkCmOYOoRFyM82bdpIZAQjnEPQysgIN9GjtClWa9q85JJLSM1g6hcrpj5iOTj5II4AACAASURBVHo/U7NxVZ5T874mXa+cMc8HU0J5ZpmTSDayjFjvCN5E/NRkIck1Sqet2dFl9FwyUW3afVh4c9VShV67qPrzLatVKa7hzRFuKZxJjH8cR++555533313zZo1rved+b3xvhODg624VnC9hFZQBIJCwAvZr+1aAXL/Etg8YcIEVIKuXbvarsLj9vbbb0PljW2NtFW4bRMRTQIU6otRWosikOsIRCQhFi8M+B1xqaCg+pLBh4RtcOaJwDYSAdK5oS1jRoZQiXgHgh0kyJnxL/WhYYK0j8HPo0c7+G+zQUYGCPCXLl2a6yCoAEmHQNzKM9kUcJCQdIK2MmnSJLyDyBHCKCcrlbOCzniSbnwkTGCn8pykbtu2lCSkbQPDnj17mmg3XuuSz9NQoSYMZL2QPwRWbNv78NeL7vxs/vyNWaseppQ4Mv995x7Tv12thpV06ToytBAjMd3p0qXLSy+9hPso8/uaNWvCSBzjRhCThher8b7DbjZs2DBrfdcK/u6ynqUI+EPAC9mvreUAuX/79euH2kBmExhnbFe58MILeeJED5HC04TbNhuESfvrrJ6lCASLAExgDODixYtbm5XFnV9//dUwAjz88MPWCnDgcZZ4ZcPYx6oQGyT6MaQDrBmxh2+HMPbxJWID521UGGkT7j14jjlXKPq0KAJxIRCf8sxg7dSpE1l2iBywXiYzM5OlzcaNG5OTkJUekvHw1m7WrJnVW1VnPHHdmHSr7HTbTlLl2ZaShAznTFYgomdmA3HLXXfdhWIAjSS8ehDXp9tdTrr+btt7oOcPK677cM53Sw+lnJEuFMib5+qTy5O9+eJamr056l1dvXo1sWosG7Vq1QqX0c8//xzbF3MX/EtZSI14GnbpO++8E1vEm2++icGB1VgmN8KxJ/VdKyTdGFOBkx0BQ/aLRmo8Jpigy4JpRH5gUZ55QKz0RatWrYpWnxRWHJLsVqbgwQSDhiSmwp3VsCuZ1FYEDfG82IwW4qQK6Uayw67ypyoCZDVn0BYpUgS3o1dffRWr8lNPPYW2HK2/hrGPlVlDOsCirZWxT74g0M1YWQb4yU6h6NOiCMSHAPqwx4JJDR9UaZ35jfUsoanADRVzASH4fD8IOWAPiW2lGh+JEiVK4INhpkTEMDCIp06dGvHqN998s0eptFpqIHDL6N/P7T3F+q/72EUh75rkar777rutcqIhsJO3ttkJpwWzf/EyovAUcAoqhI78MN/f/QcODp2+9sIBv9mGJT8fG7to9fa9YRY+JLLxtmfAk1sBBdiIJLTATzzxREQhO3bsyFGMDOYoS7HskShNimuFkPRdxUgrBHCKZpSaTFRsS5Qma6YRcUBn5ijqgXW6VrRoUX7CGGw7xdgqFi9ebD2E93XE2d64ceOoxuRKxLBKhduqmPh++OEHp2A670qrQRvazkZMRMJIxqc1oswkwWVI8wzajoqPN/YM9rOAyzbPnbUOa0/sbN68ecRnQR+H0I6QMAjm1fKMSlCnTp1BgwY5X9Z0Q0jkGdnPPPPMmWee+dBDD+Gnyh6i+TFKs0G0G7r3/fffj8s3jkMo29RhRtWrV6+Ib3/dmW4IWN22SxfOX6lYwVKFwk68FDHnuS0lCfexfPnyvKNJKMLSKaYJqGLwXz3qqKPS7RYnUX+/Wbyl04jZb/+4cuf+LI8vU2qVK/LWxTWfbF61YtFDmVSTqFOJFxULGJozpMFm5QgZ8JTjr+TvsRXjfWdWaamAvwZ/xfvOtYKzzVtuuSXxHdcrphsC2AnoMnOh119/HUMW9gNxFjVEvrZwHtxHodfmW8BaEnosLqY1atRgRZU4TBv371dffRWNDdjELWO3YEHWFGEkxsUJPVnEMEYLfuIPiEpP6sR0u0fa32RBQJRnvhqsorIGxDhHj2XospAKabyzF14Y+3xQ9JE7PVkQUzkTj4BX5RlvbXyK8MRG6bVJiV8QiZ0rVKjA98Acgs6OEH+8L3BY9THjSTwQesXcRcDqtv1G25o4xN599jG5K1KwV0dbJsM5K1BYnoNtWVsLEIHZ63Z2/Xju4+MWr9mx39psuaMyujc7/t1LataroKseXvHG1w76lieffNJ6AmFs/CQ9j7MVq/edOWr1vnOt4FUyracIBIqAeH6iPBPPz1Lp6NGjpXl0ZtmwhfPAfS0+2GwMHDgQj2ueFH7ini1ZrChbtmxh4QmLmXHDtolsDHREybEga4oY3LDUyVPGBAw1AJsbTDRIKE8fJuhAAdDGFIHAEEDRYLgSxoxBrkGDBlCuMoDxOZLFKedlvDD2BUjRF1g/taFkRsCr8kwacZIE4g4ksTrWwh6I7FChrRH/WNj4DBQqVAjieJ3xJPMISZDsVsvzkfm9DssECaeXSQMEVm/f98S4xV0/mTd7/S5rdwsVyNvltKOHtK9zQbVSVgtqGkASfBeZvn/88cdM3Ek64mzdmi/XetTkv3WtEFFiNT4HfyO1RQsCaKeSdxBjL+5FBOrzl2324Hwntl8bOTD0RWgC9evXx6caxYDCBkoCOw19EUo1LtwYqCGrt50uFzeWZ9ZknTcEqYRZALs08zEY+3DzFnV64sSJIpUWRSCECOA6gbmOJSGrbOKOFJHozgtjX4AUfSFETEVKPAJetRR8h9q1a+dx7oirNkHRdAb7M/MknfEk/r4m3RWtlueC+bwOy9ztZgzmeZtgPrL15G7X0urq+GbjoX3tiNnjF2+xdjxvniPanlhmaIe61zaoWFAXdLI9JkgKIt5JOOMRvONsz9X7zrVCRBnV+y7bt04biIWAMQ9A4WvIftm28hXZwnnEaExIAuE8hk8YIj12GvoirBGQCcOZxH5ZP7ImpDWkSuRwJlsVcy3oWq2kSkYqSDeWLVs2ZcoUPkNcyyqV3ldFIIQIsLIDqaq87U2JQXRnGPtYMDL1acTK2CfKM81a2xSfjoiUfiGERUUKFQLBaykMWT4JLG2WKVPmjTfeoLc64wnVLQ+nMIcpz8mgqGAiiMg874TXR7aecN6j1JMKRvePZq3vOHTmsBnrMg/PK3565WL929W+v/GxpQqrm30Ad56ngLRt0P9CuA17asQWXb3vXCsEIKg2EUoEwpx8wWoeMGS/oGg8JpyImlOs3L+2+vhsM4OKNrPHqoyVgsnV5Zdf3qdPn08//RSLd6NGjQi3lsuZS2DzwAGwYcOGon7EkCqUd16FSjsEGNLEgd53333WnrP6w8+I8T6EiMIWxrNgpdAjOho6esL78bzgROjo+SsZrUwRelf8atMOYu1wthEIWHlmsEJugd8REZ645xELjYQ648n2bUrxBqDitaou4bfywbly/fXXM19xvTE+svW4tqkVAkFg0tKt1304m0xU2/cd5sF4fMkje1xY7eXW1auWKhTIhbQRGCXx00ZzRh/g6xAt3tLV+861gkKdYgiQK+6+Lxe0GTit3ZAZfCbC2Tsf5gEf9EW2vruSKvmQKpzwqlTphkDTpk3pMjELkryNAiOArAoZLskZM2bAQo9XhVSAipi/PXr0EIpi/rLNhiSCpuD0BHUr1AMY9mQPmjZcfSQGikbIl26wa3/jQiBI5RkfifPOO++zzz7D5kx09Nlnny2i6IwnrluShpX3H/xnVhR+zTkG87zz3uFTB+8LnMNffvklNjec90h4C8MqjABspOG9DkOX523Ydcdn8x75etHKbVnZU02B4P3+c4/B4HxGlaxsLloCQQCKF/xOyStLeqr+/fvHYCpy9b5zrRCIwNpISBBAW27/wcyfV25neWvLngMfzjzM5TIkQiKGD/NA9umLXEmVfEgVHkhVknRGAJYKwvj37t0LBT3+fQSBwg6AizXkeVdffbUgQ/LCc845B04B+XnTTTdhYYZTA72D+AX+QkNAGmco6KUC1mmS/uAwSCj1rX+V1q1b85M06dZoiHSGXfseFwKBKc9Y2Bo3bkxUG0yPpHq2OkLojCeuW5KGla1sYQXzHcqHHFocYjDPO2WON1tPaHudGoKt27n/mW+WdBk9d/qandYesWTT+ZSKH3Ss27ZW2XzEOmsJCAFcSbt164bCTJrDxx9/PHarrt53rhUCklqbCQUCu/YftH4aiK0IhVgOIXyYB7JPX+RKquRDqnDCq1KlGwKQ5MGy1KFDBxjpoa8n0RrRoGS6xW5heJdsFHr4uv7000/oHYaxD80Zym5rknNS5L788sucKBR9bMDm3aZNm3SDV/sbCALBKM9ozueeey5BOKz3kK9cMiWYojOeQG5VCjeSXAHPMZjnnfco3mw9KXyXc7drsIL1/nnVNcNnfb3gUCYYkQdNuc2JZT7oUOfGU48uXCBf7gqZYleHM+mRRx5hjoJ9QBLhOku83neu7nkphmE6d2fR5j1WR+19B/606tLhQcaHeSD79EWupEo+pAoPpCpJmiNAqP+wYcPgZOUjMm/ePLjuoIsn+5qBBSUZu7HxymY/4c1oH4axD10aw7UNxnvvvddK0Qd1ZZrjrN33jUAwyvNdd921ePFiyCrGjh1bunRppzQ64/F9h9LhxP0H/uFIDD/VdlzM887bFztbD/U1s06wYz7z4B8jZq6DFWzItLXWAAGuckaVYgPa1X6g8bFli2QEe1FtDQRgfGGKzxTn5ptvhv/CWgh+Foji9b5zdc9T5FMGgWVb9lr7gktIOLMYGvMAUZpEZjLbkbzKVr4i200R+iJi3KjGY/Loo48S1yMkGhHpiwjz4ZCkhpYipEooDySyevDBB3FJfffdd//3v/9xSEiVjFTw85FHWgrbSEXwp7AoaVEEwoxAkSJFSPmGDuwx0Q99sTL2ReyalaIvzH1X2cKOADObuAoeFHSJIARzFiH40kmWhYh2thXM0dRkAUle1qeddhovev6yjVuFTK2chclWXFJp5aRGYMHGXef2niL/On84O1n64nwWXCVnNRT/Igb/Y489piPfFa5sViBxxdgFm64cMsOMLusw+3nFtmy2r6fHRqBo0aLRvn9M/eXcU089lTqwCpumlixZYtUf+ExgebBeyLWCtbJ+SpJ3lL794wrbk7v/QOQJQ6738bXXXrMNdZnuv/LKKyIbzBfMlHj/y0/iOSOqr1ikYaO0dQdiJGkcE4U59OqrrzofLrno4MGDpZpTKjnl+OOP169Pro8ZFSDMCOiHI8x3JwyyxW15lhACayAB3wN5I6MJb3QUeGI45CUgIezLDCpfjiGQXG7bvmHwkq3Hd+N6og2BX1dtv2nU70+NX7J2537rodKFC2Bq7t+u1mmVsxK3aMk5BHCQs37kYMjDbozhi50fffSRXDei9x28Ytji4EfFjodpzuZ9h3te7Ao51yNtOZEIwFBguxy0YYkUwPu1iJwUxZWkUDhTQOHLIOdnkyZNpBE0Z/iNWrZsKT8xC9eqVYsNplKkaG7btq053UZfhKNTRDZg6OvNZIygOQQoUKAAF6Ud2JXkKjxu0iymZlap+Cvb0BB475rWVAQUAUVAEbAhELfyfNttt9lWNIXCLlqBWFgu6SUgQW9PeiKwz8q2HXrCMH/3yGO2Hn+N61lWBBZu2k16m25fLFiw6R8vRyoULpD3plOPHtqxLkHOef+aU2pJGAIkBbnmmmtwMcXmFvuiaMu46j3zzDMo28Sk1a1bl+A36ymuFRLWKb1QjiKwcVdW1hlrIXNVjl7Rd+O4QzMFwm5MTh1WdlauXClRzW+//ba0aeM3mj17Nuo0RHpwYn/yySf4b7ORkZEB5erSpUvlFIzVRDfAMAzrpOyxGi1YisWzplChQvydNGkSXEps4/eHGCNHjpT62DL4iaK+bt060uTyFz8OUvVYI0V9d1lPVAQSgwDjuUuXLtaYhWjXxdHVxE3Mnz/fWY0UVtZACdePUWI6qFdJRgTiVp6z2UnXgIRstq+nJyMCKW959p6tJxlvX3hkxlT17DdLbvzod9LbWKXKnzdPu7rlhl1V77pTKoYzbDI8GOaEJGI927/fbkh0XmvNmjXEBKEkEBMxc+ZMyLrRDdC6JastxbVCTsivbeYKApt225Xn7fvCqDwzRL/44gsgGj9+vOEr+vbbb9nDug8eeWyQpBA9lnSegiSqL/vxrSCi7ffff4cVCUW3ffv2NEUidKkzcOBAgqhhHmbJSahkrEZpyeMABTHp0w2pEuwzVFu0aJG0MG3aNP5i2Y7NopQrN1cvqgh4QSDeVVcoKt966y0yUTlXXVGV8b8gUzTBFPBs80hecMEFREl4EUPrKAI2BBKtPOsNUAScCBymPOdLtTEZV7YeHR7+ENix78A7P668etisrxZstjL00lqzqiUHt69z11lVShyZ31/jepZvBJzWs9hN4ccEsSoqAaxLzH5ILvLQQw+hUfTq1UtOdK3gW1Q9MWwIbHYoz3Dmh01IUVbRgYsXL16zZk1jHiDnSKlSpQhSMKqsVXJZDMIObKUv4ic7WTOSmjSIiRgDGmnSnb02eRyspEq//vorNYUwjCLKM8TFcAo8//zzmMfRK4R7TIsiEH4EAlx1pbNPPPEEyR2InkAhZ20LRRrvj+uvvz78OKiEIUQg1RSVEEKsIrkisP+ghW07f3KPSab+8LvgfSe99pKtxxUfrRADAQbP0OlrOwydNXTGusw/DlOcGxxd9D+XnfhE86pHFyuoGOYKAk7rWQwxjAUP44Cp1rlzZ7bFgudaIVf6qBfNCQRYUd1jycIglyDzc05cK5ttYtelBVymbe2gPLNnw4YNzvYjnmKrj882Si+qr0fxnHkcRHmGNgy1YdSoUTyMrEmdcsopUO55bFOrKQK5gkDgq64ESpDkmdAGnERIDNS4ceNx48ZBxgTFvQmUyJWe6kWTFIHkVlSSFHQV24aANeY5I8ljnm3EMF6y9eh48IfAH3/++dX8TVcPn/3OT6tsJqmqpQq92KpazzY1TixbxF/jelYgCMS2ntkuYbXgmUNWC55rhUBk1kbCgMDWSOHNuzP/WWYNg5Aiw65du/jLULeJhBWaPRifnaJGPCVGfdfOslyLEzjVhCZA6ot9m59ozgsXLoREAD4z4kKhNBM+My2KQDgRCHbVlT5KoMSll15qYh94YPlpDZQIJxQqVTgRUOU5nPclvaQ6LM9z8lienczz3DYbMYzhoncS0cNFnF63OdDeEtVMbPOzE5auP5ySt2yRAv9ukkWm3egY+1w20OtrY54QiMt65mrBc60QUSZNnO7pVoWsUkTleU9mGC3PcH0BnlMdlSB/SLCd0EY8JUb92DcnWh4HMj/DWIaHKowDJ5xwwhVXXIHZDZayCRMmiFFaiyIQTgSCXXWljyZQwtpfW6BEOKFQqcKJgCrP4bwv6SVVksY8O5nnuW02Yhhbth4rKb3J1pNeNzvbvZ23cXe3L+bDp71o82Fk2kdl5Lvl9EofdKjbuqaSaWcb5dxowNWC51ohotS9e/fOjd7oNbOFwPZIluc9obQ8C7G2rOxYi+xxWqTZGfGUGPVjQBkjj8OFF17YtWtX8QaXghUat202Zs2ala3boycrAjmJAKuu0HrBwIfvnvhuxGDGlgcHH+wPDi+ybiVxE1KnRIkSVrZtTjEVnL3RVdecvMNJ33bcyjPEGITNjBgxIlrXY1Rw5ZFPeji1A74Q2GeJec5IHsuzr77qSf4RWLNj39Pjl3QZ9fuvq3ZYWymQN8+V9coN61j3mvoVCur48Q9wLp/pasFzrZDLHdDLB4dARGLtvY4o6OAu6L+lihUrcjK+RWikJlMOHNrCrR0xaFmU59WrV1un8qtWrYpWX1i+nNl6UDDwwT5w4ACpnjEss2HtBkTcsNPb5l3itmqr6b/zeqYikAMIWJmxZdhffvnl0ZixZVGVo+RlsBZys7FfdG+p8+STT1rZtomCNhWcndBV1xy4sanTZHzKM3azTp06QdgIJVJEDGJUkOScMXjkUwdU7UmcCKR8qqo48dDqdgQwQ705ecU1w2ePXWg371xQrdTgDnXuaFSlmJJpJ/nAcbXguVZIcgBU/H8Q2LEvgoe29UsRHrBIpIxTNLPzk08+2cxw6tWrx6z9uOOOK1eunFPU2rVrsxNN2zqV79GjBzvPOOMMW33IgVGD2WkjyiYXOnY5qUyqZ1vqHfxUixYtSjorJDFS1alT55dffqG+YeQOD4wqiSJgELAyY8tyz48//hiNGVsWVUXHJlvb3X8X4fAT+7PUgRvMyrbNupKpoOCnMwJTpkwhvCWuUMo4lGfWdRi7cNNFgzhGBU3Omc7j0rXv+w/+Q15SMMkJw1w7qxXiQoDp8pBpazsMm/XhzPUHDifTblipaN/La3VvdnzFokqmHReoCa2cmZkp5jVX7zux4GEuGDx4sPG/Y1sMCFjwfJj4EtpVvVhwCJB8ztlYOC3PyHnttdfyF+PB66+/Tq4ptGJJ70ywsfTCloUBci8SOKNvo9lK4pwaNWrgtccU35wiJ0q2HicU5HF47LHH2I8aHDH1DrYKPMZFDJM1nZ/M01DpTzvttODulbakCASJgI0ZW7RfUrJFY8aWRVXGNmtYPIDQy0uBW5v9Ejch2zRlZdtm2Ut2Bim9tpVsCEyePLlPnz5MOfr27QuBnEfxvSrPn3/+OWuWgwYNitZu7AqanNPj/UjPalZ7Qkby5Hl2DWFw3s2RI0d26dLF6X2Xnvc9dq8P/vHn53M3Xj18Vu+fV9lS1JxQqtDLrau/dlGNGmUKK3RhRiAu7zux4HEKqojxvmMbIiUOYcHzYeILMzgqWwwEIlqerUkNQ4WeJGdGeR4yZAjLPaNHjxbx0Jllw5aFAe5r+QqwAbEw87bly5fzE9uyiZ2Ona3n1ltvFYqy9evXX3zxxe3atVu8eDE/P/74Y/y32ciXL5+Yl5kO4oDKAha5rOQU9kMbFioAVRhFwCDgZMbmUOvWraMxY8uiKkXi+aWgS1vjJpitsROPDyvbdq1atdgph7SkJwLEzvD6lb7PmzcPTdYjDl6VZ7y1Cchp1qzZQw89FLHpGBU0OafHm5G21awxz8kSs+oawuC8m9gHUAlY3IpBfZG2Y8DacbCdsHjLdR/Ofmnisg27Mq2Hyh2V8UjT4/q1q3V65SxXLi0hR8DV+27GjBkEAa1du1Y6AqGG2cD57o477iC5DnuYOcl+VxNfyAFR8TwiYEs+J2dZfZQ8tpOAasxwvv76ay6EsRen6BdffJG/bLNn+PDhYvu1ZWFAPeAtV79+fVI2oNlS2MDrm51Dhw4Vma3Zemync1TYgyko25LKwWjdc+fOZT9SiVcqq04EY7/00kuQbIs6PXHiRJFKiyIQQgRkbDds2NDqsiQPlKxS2QqLqpLmjTFPVDNrSYxzohiscRMy6cIv18oyYNa2QgiCipQABFis5N3L6jwZMcXB58svv5TXpmvxqjwTh4PRjKzi4iDhLDEqaHJO19uQ5hWSLubZNYTBeUPF+06SkWiJgcAvK7d3GT33sXGLV2zL4sgxBTLtrmdApl2nZY3SefPkUQzDj4AX7zvojghCQ8eQ7lxwwQWyQY43pkTEuWGRI6EIXx/Z72riCz8sKqEXBCK6bYfT8mxmOLhSo8GiOTNo2Ybmmuk7R+mvLQuDqAedO3dmNg+1GJXhBL7xxhvNCGfDmq1HGLON0YxtTM38xTfVmsHhjTfeYKeoGUYqVqaWLVtGUB+qAteySuXlRmgdRSDBCMgyUM+ePYURQHw03nvvPf4KdTbFtuoqtHxkMGG59rPPPsOEyIyLPVdffbXUJ/6fv0uWLLGyDBACzU7x6HYWZdtO8H1P/OXwEuL1iFZ7++23t2rVSt7S/fr187KqkseZnDB2B3r16oU14M4772RkR6zprMA06Mwzz8QfDw8l6ynVq1dnD+5MZ599tq0pGbVKdpf4wZQrV3xwzMLJy7fJpV9oecJZx5bIFTE8XhS/DlzmhBmVEuNZkAp43xG2IK9+KXwbZKHUWRj5aTvs56zfhYf2b6vtPlQZ+fK0q1OuU4MKRQuqq6HHQRqKanCZ3n///VdddZW4RWEBY+rTvn17kjUQFCpOTMReMq1n0s9nhZ84nbLGxPzemNHQnLEVEBHKUQwL5BrByw71gMmTdFK2iSBFD8FV1dbzdH6gQjEI/ApBOjobqX7Wva5wVK+La/ptMqfO8zHDIYkUTtQMbFz2jFi4fPOzefPmY8eOtckK9RE+qNYPh2sLcUv1/vu3fPdd779M01qSBoGrrjqiQoWkkdaboI0bN4YAj7q89rE/oxIbq8NZZ50ldMWnnnrqr7/+SoQzDGH8hBhv5cqVbGRkZFhNFE2aNPnmm29w3DBtUoePCH+NgmTatEqnHw5v9yqJazFO8BhCBWb53kzI8crBNkaQctWqVV36Zl229LIN8wQtojBEq+ys8L///Y9TiEawnSKUFSK9rdx8881ehNE6qYHAXZ/NO7f3FPn3y4ptIe+U8E+YEIYYz4J0BOMA9Znc47BdunRptpkDRetjeo78xZt2P/TVQjMGzEbT/0x58dul63bsC/mQUPEiIiCr/hGNY2jUEU95/PHHOaVbt24PPvjgeeedR/Qmq7F43Enl+fPnc5QHkG1j4mNb7HJYG/RTkjJDscuoOc4Xws2j5oSwgz5mOGSWYsRCgGTtDlRG7GQq7+yj88Ph2kLcUtWtm/X1IXJb/yURApMnh/CJyKZIjRo1iqa34OIqjaM8U4dVV/mJt63zLAl2mDp1KhW8tGkVOz1nYtm8cWl1ule37ewsL2hyzuyglw7nWp3xwh/z7BrCYLtlVu+7dLibcfWR1M3PTVh6/cg53y09xKxjTm9ateSgK+s80PhY4pzjalMrhwQBsR5LvhBTRNE13nc2UadNmyb6NoGjWAzw1iYKmoVX3O1k1ck0yFIx8ycMDuyJ3aZ634VkPMQlRhLFPPuY4UQ8RSxmHrl/XVvwIVVcN0grKwI5hECM6DaT6pngCFQ18VeiQB8AZzIbGAzLly8vO6nAXwL++St5niMWKPdyRpvogAAAIABJREFUqCPabHIhwPo7yUE8ypwI5VmTc3q8GWlb7TC27fyJGJPZgZpYGuLNZFHTS7nhhhtYH5WYHC0GgS17Ml//fjmpm8fM3/RPprK/Dp9WuVify2s91bxqlRJZuRm1JCkCMl8RTw1TxD9K0lY5i8SC1q1bd9SoUQT1fPjhhxCGQeBBaDQzoYgNUj92m2kbB5Gkw0bEthHsy05bsrqQdNDHDCfiKbI2ZHteovXRtQUfUoUETxUjzREwDtXEe0oaNnRjwSRaphLRotu0aUMQqKQ2NPnVDxzISnoHqbK0gPHD1qYJEUpz2NO5+0wt3nnnnWjByBGRSUTMM4RmLIKSpY2YNCglRQ7IHmG/YArFQDej3Iio8QZpNY47jZi9fGsWFyJl0JW1jysZmb8hbJi4xv87BXaGrtnqpEO0PzalYdPXjpi53pm1tXa5IrecXqnB0VncHlqSHYEWLVoQvUnEGl8mKJH4CuCSunPnzg4dOhCKBvevs4OwEEPigsKMuQDWJRQAHFaZGDEBwvuOmRNzowYNGsDzQXQ08yHS5OLdTRw17WOpbtq0qfOBUuU5GQdS835TndzaRxcrOKxj3bB1x8xw4LfDE1uGJTGWeEZEm+E8/PDDzz///LPPPovrhHk0iOEkdXPXrl3ffvtt6SNmkGHDhlGBPQx+WjZZeaCd5ylg5Ldt29YAAlUShAJQ0+MBLlJRSGFq5l2wBkBLhmUvwryrR49bFi7sXaRI2OBVeWIhQMTvscemGERly5aFPZ5OYWcWkjw2JFCZz4EcshYeHPHi5qikp6LUrFkTQyIbhE8T1ErcnCjezjYJk+ZhcX442KPfjhQbWtG6g9sCtERMPB555BGvXY7XSd1HzDOXgC0MgQjCMZcTSozjjjsuogAabxDvfUnq+lcMmWHC21ZvPxTfGP4euT4LXkLXbHVSe+TvzTz4wbQ1rd/7zRnNeN2IWROXbAn/TVcJvSMAmTAv+cqVK1u/RuSE4CfZRCK2w7T+0ksvtX29hCh10KBB4rzNDMlKDIabq7htS2xbWj1Q3u9FctXcf+CgeUU0+ZsOgz3tBk8PZ0dkhmN0VLZliEab4UAVxlEsCtahLuOcOZz0kbm+8GabgiEOo5wcFcqYiIUlJ6kjUjkLPPY67wrnQFKpQABFVwYtNmcBhIVR2QMztuxhRQmy4TVr1rANh7wZ5JDRSMoGY5Mj6UPsNsl57oQ9+zMx7y14r+lveHhv33vNZJfEJj+cpvSd5Ujv/UqE5ZlxDCceHDBQgbMuy1yH9VT8K6AKg4YeImLny10tz9G+iym5/5L3p2/Zk+VaQ/m400mlChdIim7mkOU5JRc78bf877yNA35ds3G3PaSkwlEZ/3fq0S2ql9IEVEkx7L0LKeY16rPwT5pZXvv33nsv3NrssZrXrA3ymeBjwbynS5cufCOYM2FzExrV/v37w0AmkZxMd4iLxs4MTwys3djT2KlOTN5vTchrbt2TefH7h9jUj8rIu3N/1v2llCqU/+NrT86O8Aw//CBwXrCmfcpOg3Iu2WXJkUMsD8Py/PPPxwLM4Gc/4/nVV19lA6WXSTyTH9jj+YmlS1JGYaPmhc+jwYCHD4/hzTAW2f79738T+S/PDnMnHPfYydLS6NGj5XHAI4MWrrzySlmfIh8VwQ5sECjEUTZk3sUGxAE8Mrj7ffLJJzh0QGgvNW1F513ZHwnaQvYRYHFHwp7RovGwYIOVU7Eb8wTJISvbthDLy3XhSeZpEmpJnkd0IUno42xzwIAB0hSPhol0VYKM7N++XGzBx+SZ9y3RYazL4xPHO5l3KVq0J+IJ73q21HS1tkWsQHIRWQdiuRQaVVk05SvC21xXQOO9BalXv0X/qcbOsHPfgWTpoOuz4OxIGrJto9iMW7jpqqEzndbmiwdNGzlzHVamZLnjKmdcCIjmzAyGTxpqMw5R+JSKda5Hjx7OpvC+k+8uOgNH0RbIviiZSCjkkGDnUUcdxTaOqbi8cvTdd98Vt1X266ckrrsT5sort+01r4srhkw32xe991t2xCbWkYkRhVX7aHMPf+1L1mXbDIef6LHSIOo0P3E9lZ9EJQhrBpY05usUWRViJ9M4qYDtmqN4mfJTPhxYqnl8pAKFx4SdKBjSAjoAP8kAatjphSpJ513+7qmelVsI4EctI1k2KKi+4kZhrMRWtm0hlq9QoYK4dktB/xGiGUno42zT1Ixlee7XT8nnkwaB777zMWJZeZGPghSSa3psJG5yJpn6WN2TzBCUjYgVmNkgIpH6UOTxxuevZO+M0Y6tWf2ZwgjsP3DIsJD1lgw9YVgK34jAu/bTim03jfr9yf8tWbn9sJiiIhn5bjr1aMIX29UtVyBf3G+hwOXUBnMOAT5FzOxRV1B3CdEUKzHLqXJFUjSTt3Pt2rVsE+omXwSowjiLnLdvvfWWJPykwKHKuWIiwOCMKs5RMq6Td509mPJQh3KuF9pyIhGwsoUVKfBP7u7sEIYRMCz5xikEQ8qwCaQwLJmg0xRe1maGIx7Xw4cPl2EpqrKZ8BDbzwiHBok9LC1R2Dj55JPZOXToUGpSgROxM4sVWk686KKLuJZUoDzwwAOkUpfFKQq8AOjbRDujaUiFBQsW8Bdzis67ArnR2kggCMB2gUtRxIJ3hnlYeGAN7Tavd0nQYIharWzbsvCE5dAwjfGTL8WqVavYECuinGhtk5+y3hSN/FWt0IHc7pA3giqK8xpCsrwCZxhuPh4Fjnvaetttt/F+l9S1EUu0CgT/QKdhknOiS5MA3aOUWi2FEWA+dPBvtuW8eY7Iz/9kLry+UQZ+/vnnZO5EALLPWrfzjs/m3f/fhQs2ZXlbmZKRL89VJ5Uf3rHudadULGSZFgdwSW0iZAjMnDlTJGLqf8kll2AiNtMUmdZToNHGMRUdg23Ik8TdFIojZvzE+LBNJLN82MhBsmjRIsPsArcH5+JkxfeICkyVOBoyAFQcnwjs3v/POggLbaYV38ozwwb1krk4Ifc4LdMg6y+wuPuU7/DTGHgsBsGSTRymmeGwLY7ZMizRexmohs1IWOUhBcC9gohNKqMbQOXFTnlqpIL4eFPIpsPpPCmmguzHoYMWsDDj/s1P+Maw1xnpJPEbVzFZ06+77rpjU45fKpCbqI0kBgGWhKB4JDI5YiG+ADFEGSa8ggEvzNjYmSVswdiirdIKsbzkYsBTSWg1IGcVNyWhrzdt8oAIHwHeHELEHbFN9vvwAU4MhnqVYBEg4IUGeTHGZc2NO+Y5WKGjtaaxN4nBOQxXYZ7U6r2sbzylUIG8X93QIAxSeZEhYswzBg2UBNyHtmzZ4mzEC9t2sr+yF23a3eeX1T8s32brfr48R7SuWeaGhhXLFNG8zV7GV9LXYerDQhIfJCYukpsKN1QUGOZPBKERisYeQngIQyWXm8nYiT5ArKYYqCkYB5jidOzYEYObiW1jtmRSj5htiW2zoZYO9PVJP1AcHSDr+8NfH1oKOaNKsZ9WZM2bKbxDvunS0Ed/+/Xrx4ImQwWvPPycWZfBQsvcunv37lZXTx8tc4oMS9xK8ZiwtsA0nT0Rh+WFF144ZswYnO9wrzCnDBkyhJ/NmzeHTtW1gvVCPBrQAaAMwA4gSoIUDNcEOds6Vbt2bT5Sxx9/vLOzOu/yNwD0LO8I8DKPEVDKGhC+SGi/suTEChcPAhsyrWKDR1jsyVRjxYqHDm9tIZZnpyywwgIwcuRIXD94+gzdvWlTRIWhoGHDhrY2rb049CysWME6lvfeac3cRIC1xb+oQ+MtcDTCtg3P3BVXXBHHuR7duxNcLac53xLcHb1cDAQ27dpvQtraDpyWRFjhNcqTdvfdd1tlFm9AbA4RO4JjKkcNY6qzTlKP/KVb9jw+dpEztpk9j49btGLrniS6uSpq9hGQCTo5e9CWxbyGcQCzAzuxG0drXwwFJLUSsm4KS05ieZMcDTKXevTRR5kkPffcc+IxSxFXWFtJ6gcq+7cgSVv4av5G8xp58n+Lra8UHz1ibk3IMQozZmFzOuYs9jDV9tGg7RQJuTzllFNs+4XbRUIubeXcc8/lEAJY96PPy8hnp2sF64nyTOHFbbsKTxn7bVnT2QPTHotT+rBk/9ZrC/EiIMnScBqKWDBI0GCtWrXklW7i+Vl1lT2ox3JFVF9+sswqP1Gh+UkGRLZFBaImfw3dvWmTnTwv6MbONq190Q9HvHc2ees//vjj3G4JBPBe4nbblhGsRREICoF9B/8JeD4yqQKeI0Yo2NzzbCiJDiDqQSqV1dv3PfvNks4fzh6/2G5vx3DU7/JaT5xftXLxf0wiqdR37Us0BIQfFfsbxucTTzwRUwCTIeF9kUMRC9QY2A1QOYQ/DDMFKZ1l1Um8XvH9xgn8mWeegSQTTmOeOPG2kqA4LSmAwO7Mfz4KRQrktYbyHPzj7yAfz/3ELRPmdqxMJUuWNCexpsMemWFns4jVixe7rR2J2IxoZ4t4irW+awVzLSIgCCLlEYDB3iYAdHqQ1bNMgKc6zx1KBfo5rhzUF49uLYpAghHg7d23b188QSIWOCCRxzDho2lLPL+J1jGPsHxBiHMW+eEL4C/PAooxq6hsS44G49BkshuyQbi1cATIudbXQoLR0MvlOgLQKwrlCusscQmjynNccGnl4BHYp2xhwYOauBbX7dz/0sRl1wyf9dWCzbZpbd3yRd5oW6PHhdWrlzmUtjFxYumVQoCAiSDCPfW+++7DVowbnvAnOTUNI+9XX31VsWJFlG3hCibxj3HGluA0ORe79AsvvIA7N3Mg8fE2kyFb15X3JQRjIT4Rdlpingtn5Mv3F9mPFKj542srUm0Iw0xymuy3JiGXmLVtTcmeiEulEU+x1netYK6FEsITAf+8c/KHyysatWRBl4IVGgs5G4aIO/vd1xYUgWARMI8ML3ZCo9G3TRSP5EKnyFfAGt3DT2J5WBiS4GeWoli3YplV6pswH8Mrad4A4gfuLPrhCPa2hrM1UvcxlgjhwcEtLglVeY4LLq0cPAKqPAePaUJaJGPz698vv2rYrM/nbjSUb3Ll6qULvdCq2tuXnFi/4qFPXUIk0ouECwFRnj/66CNoioRtGyuxxDUYO4BTYuKf0ZbFbkBBlx42bJhsG0c7JkADBw4kES6HjB5OIp+I/U92EoFw3dSESHMYYViBfPkspmcflmeryEysoVTt2bNngP1grYfWNm7caKby/GSIiqOE5MuxFdGNSTFq3Y9fkqnvWkFO5IoE7LEhJjtbwS63Zs0a204x60VbaQoQFm1KEfCHgPFLQgEeP368daXV8G8LyZNxoIjoSYF63KFDBzmdlG/RhDFt2iroh8Pf7Uuus1Ceo72lY3dElefkutEpKO1etTwn213duifzrR9Xdhw6c9TsDTb+2+NKHvlU86p9L6911jGp5pqebHcp9+UVKiZr+hB+inN1NJYmSIa7detGBeKlJWSaqc8111wj5MPCnhqtSC5cLUmBALd13oZdX87b+PWCTWt2HJbHDvkPS1WVYdWdsTxnq3/wDDHPRqGNwVoU7wUkCS1qOXosQfgwBjPtxtsCsiKsweXKlXM2CGsXO4nEtjplCL08YQv8da1AHdpnpQkNnL6gupOIS4oo4TwymOmgkCUk20iFwVnYvPHsiLebWl8RCAQB11RVErMgpNmmwHDBtnls5QEhel8qSDQQ3w7cNwj+ZxsnC/4S+yN6tRDXS+50OYWrmNTogfRLG0lGBGSlZsmSJayoSqY0r8V7eHQia2qwfiLRzt1rkQrY8MF0+3xe7gqT61cP+cjfvjez908rW/Sb6mQFu2rYTObBByPx0OQ6qipAriCAnVm+Q0x0JOOITHFk0iMiwSIGHTH2MflJ6imOYsqDPVhqiu4BuwxHsUKYDxtUMagBaAVmz+jRo53dDOSBiquRuCpn577EdaG4KueoVHPW7eA9f+n703mHIBV/G/ee8sqkZZnYlP8uT4//hyQMBbv1e7+ZF862PZnZEQ/dkosOHjw4O404z3Um75SsbDhcSGWSLzDO4eWWnwTaRVSqMThjIvNSgTooIRHneePGjeMotmUJ5rSmsRVnEDRnjHI59LAEC6y2lmIIxHZ5uPjii+mvoYpE0X366afFi5t1Iv5KBVvBy0PcuefOnWsOmWyILGmxUwjGWJmysldCki+Pgz4LKTbMvHeHgGchDKOgPHs/UVNVeV1l0Ho5hMCkpVsf+TsryTnHFn+u5WHLjTl00dA2G9pkIdiCPpy5bvjM9VajkMBYsWhG51Mqtqxe+jALUWghVsEShQAzFUl4TqwyExRW/fk4iY9c/fr1xZhMAk+MA2jC5OecNGkSNE426ZjuizcsqjIaiKmA8RD1AzuD+O9RsOPBCyXbGq6WqJucO9fx4VGJhRaGOSwMODMTBswyDbOloOzPJMWpUaMGEy8Irsk1Bd2dxB2Qhk1m7c4UhqwfsZzE8Ia3jBFOBU5nNk/SFMHUtQKmEnI9UBMm4ZYtW5o7gQu3WO1MBVajWrVqxeUWL17MfhzXb731VuedC+3XJ3cGmV41BxBgkHfp0oW/EdsmIJ/RCw3k888/D+38iBEjeM9Lgk9ymD/11FPE8MOBZzsXPZmnD/1ZckGbwtONrs4C60MPPVSnTh3yuvOB4DNhKqCK85OHxWja5pDrs8DyE0FDLP5iwUZUYrOtWeKcvfvxxx/l6bOW8uXLQ+oBQSbRSawOGKt49oHHLQWiTWc7vJ3Msh25vkCGT2r79u1tNcGK0wkUJ3kYHGzA612kGD01jQAddIbQvHHXrOi5oupawbuc1ppMJJifxEXlG7fynB24vd8P14HrDyA9K4QIjFu4+anxS0SwZieUhJY5hEJGFCnGs2Cr7/2BD+HIx6/+o1nrh05fu31fFtWTtZQtUuDaBhXbnFgmv5UPN1nun8qZwwjgs2o0W3Mp7GDMnFBdVpBC8/A8z3zI4QCLJhROrcwtSMYYrQIkq2gItqPyQOHecv9/D8vBm8Nd1+b9IPBCyxPOOjbL1f+uz+f/tnqHNPHaRdWf+Wbppt2Z8nNUp5PKFC7go3XWceDWMicyT3rppZd8tBPxlKuuuorpoDP9OB4TclForpm4o7RLIDSrSEwceRZYVzIp0LGJMdcnexYPjmsFGrn++uuJ/GeDjpC/2imYSEWwg5ASczlY63HqNlJFfFiCwkTbUQT8IYBjyLXXXku2tokTJ9KCKM8sxeK4gRnZ2KVN44MGDZKdxK9WqVJF9rNKS3IHnimUNL4CPG6EbKAEQhZoTuQnajOOUU5/XVl+jbZIh+cI8tCgaeqcc85h/SuG9oUK6nQV4awXX3yRQ0iL/hYg7zcrZcan3XoXcEtBXWcPX2HywPNVvfPOO20cEMSS3HDDDYZZjTUIEIab0+PdjNZTFselBdjOkcG6gCLoEf8SG1UfsHuU2Ue1+GKe6W2nTp1Ib/v999/bLgbcZCJ55JFHOMqiJvEGhuVFarpW8CG9npICCFhjnpMoVVWMZ8F2U3jgMa9ZOZNQAGLQV4TnnsLlNmLmug5DZ/b+eZVNcy5ZKP8djSoP7Vj30tplVXMOzy0LlSQmvwifA9xl+/fvzxq/fDLNIVQL3Fklno1vucgPpxHGB8lea2yDRvGI1sdoqarUCh2qUWGEyciX59zjSlQ4KotBXcp/flktGzFinokL8dcdgh5ZneFc9FVMrwFqztiNJUUzYQXMgMkXyiSeySt7mAXJHNSWwpCFHvYz7FmBlRToBC1j/6GpoUOHUt+1AnUkmBObRETN2UiFPKxhYQOHfUBmbkYqf0jqWYpAjiLAc4FJlu+CKM9S0JxZciXpmvxEcWUwS5IhYeyjWB9qfHHl0SPsn7/i1z1//nzTJqqsGJyjUWnEcG954oknEACVT8KRmOAhLYtZMWCRpxUHK7xFTEFpokfRGMuyA7JcDl3Uejm2BQ3mn0grJAu2QggV6jQeMW+++SbeXuj2vEkM7YgXkSL21Oje2NhZRpRpwJgxY6zouaLqWsGLeEHViUN5zg7c2b8fQXVY2wkbAla27WRRnmM8C054Q/XAe7z70IB9PGcDTNq9Jq/csudQOkQ5t1jBfLeeXmn4VfWurFceKh+PDWq1NERATGoUjGl8I5n9GA5tVpTkEEYwpiDDhw9n2yTtFGpuIQAT2mEKLnmSqkoKejhutyaImj0BJh9Kw5uVyC7znm9yfIn329d5tsUJz7c8weShWrx5z9S/DM7WVFVFsgjDgklVJX4QTB9NErVAes3wRgfG6FSzZk1sR8ykMX8xPlnu4RHgqPMqErOAPm9NgS6cRkLo5VqBCTdqMwzzxHnyIJCSB/J59GRzLSMVERM4k+M9zppUbKkCQUMbUQRiI+BKGIYF8p577kG/ItcapjjzXWDNy6SAtn44TJ6FXr164Wb84IMP4kSNE5NE+4s3NVZokUrapJDdTfbE6yyNmfrll1/mLJbMGjVqhNsz5lw0cHTRpUuXRuw7+1m64mtFgBL8CBS80NmDC7rQ+wVe5AUCeaFczhTeANh4cWLHmBzxoiCPYKzHcS6r3rCvseaI/gy2XoR09lQujTc+UVcYtPEOMxMD3ngGvU8++aRHjx4xUPUBuxeBfdfx6rYN3Iw2kw/NZugX7yBsBcx4RJTu3bs/88wzxjvItYKtAyF0XvUNsZ4YG4Eh09Zi2JQ6V51cvusZWYxBYS6xnwWb5OJ9x6SfJVJ576N4s4AqkypnZs5cH/mozV/N3zRw6pq1O7NiU63lqIx87U8q375uOTKvhvkGqWyJQYA5ULTQNaKq+DzzIURJxobA7EdybzKDYZLBdIHpkejPp512GjYxwr3uuOMOPp8Yn2FAxQqHKoIhjiBVcbfjQkOGDIGjW0jIcLRDc5BuVq9eXQwIEtsW8VOyeXfmjLVZnquxy4KN5EjKiq/OarYMw9xlbWj73gMrth1aBShWMH+VElmzNFPmrN9l8KlVrohVA3SKsWDT7v1/5x2oVqZwQculN+7aTzZ1OaV0kQyrqXY++eL+FrgG3syWs+iyYbEuWajA0cUKmos6TbdGTrTWJVv2HPEnTn1HFCqQ9/hSWcy02Ho5BZMv0PCXTMtwe/Gi4F/mwT9BbP/BP3EgYhl0D/8yDy7ZvGcHe+H/wqqTke/IAvkKF8hbqlCBysULlimSUbts4dOrHEbF/9i4xRMWbxHxLqhWqnuz4y8aOG3H30Ein1570q2fzFu9/RAjN94ulSx9cbulhx3H55OIYhx/rrjiirhOjF2ZVSFilZkZE/lsrcnIZA8mKZOo3BxlBo/VBXc8XPnMTkY4PwlKHDt2rGsFzDsNGjSwCUbYHnGhzMTY70OqXP/6BHhTtKlwIoA1WDiuIxaCkPkKyCGWULEey4eD8uijj0IeZs6yfjhQ2EjNwGIrnxXJ54zajFGXSRdMB1OnTuVJkRgHMlcxfzMfI5gCoJm0XtS0H+NZQHNGt0SpwZ3K1MfPHG/ziN8g6hA/jIWZL5osE1PQouEG54PItw9tH7/0YN22YRXBn4WvJIQINqj5jDILZX0BuzSx5VZtDiWZoywFsiTHUqCcyEuMVxmisn4dI8ekVHb21FxduowrGcvcTImtnuqCHjVjoOoD9mjDLJj9HrnFxJUfuGV2AtzmxBhMd8BNDI9rBWW683gXUrJa319WGSbV/lNWhb+PMZ4Fp/CspckbwXpIJky8Z0M18pntfjV/41VDZzqZtKHX/s/PK6HaDv/dUQkTg0Bs0lQh05Ylf0LXrASn/GQn306nnJA5cQjDoBzCbUyeHfnUEbNqQoHIvmP8Y9E0pEJEQumEsUwnBvaUvMrUVdvNO+eCflNZRYB/2+xhdQAmf/Nz+ZY9vkEQVlXMs75biHgio5HhB9eR7Sjze/ZDHuY8S54CTFXWQ+L7DX0OO10rEARBZZQEVGXUA3RpuiZ7JDWuD6n0YQl2YGhrTgRQz2688UbsahEL5k3rKfLhkBkXL/xoeMo6LPZnvkoSoYByyLZYm9GfOVE0F8zR1o8RqiM7ISGLayYmmSCwplrPEjJw20zPVODNw1FUR/wQL7/8ciK0cYS+7bbbcMWijvhYxehgvAOJqCh0VAAZNWoU9GysDqCf8wGVdlq0aAFFGTdCvrBWbQ63dvYAuO2KONGwn3BxV0mcPeWecoM4kVcWS+QSnCW3xnRZ0IuNqg/YXaXNTgWvXpcsUQA3zgnGiU66SrH6LJmdVu8g1wrmLN1ISQS27j3wyZwNPX9YMeDX1cu2HjLUmJ4mndt2jGfBefuM9531kNU9Lwx3PMsnZ/KKTiNmQ8yz8m8LjwhGXGLHk8oPv7pel9MqFS0YdcE4DL1QGRKJAF+dGJcTViSxMPDhtPqmSlrFiH6zErqG2VnotaUYkhWUauO2zZoUFmz8YytUqCDrU5Robtsa85zIgeHjWvUrHlWuyCEOMCzY3yzeYsYWPttQKuQLwm2bcSgRkk5/Hx8yW0+RRSLnEyGhjBEJvSOeYq3vWgFLBoZr9G3c/TCs4aBBiCaBhYiBhYfr+pAqmzjo6YqAKwIs7vTt2xeqi4gF515rC/LhiGGplsom0TrBQSZCAVYqa6J1yQvN82L9GGGFZqdkVvdeUPmoDI2Z9RRRL6PxbkgYMPo2yjMKLTZw3Ez4tOVEtDMXwuDM1xADO4p6nz59WKQjdBkPc8nsSNRxu3btrBnsTEcido2jsXtnxcHZU9y/WVhkZRyfbZRkWemwTQCk/dio+oDd+z31UdOr8pwduP3dD2Y8qFULN+3WfzEQ+HnFtvGLNsu/aat3xMZq0abd8g9nvwlLtkz86993S7cs3bKHf8u37l2xdS/EUDjI4SWIr+DWPZk79h3gLvzlf+en4Dr45g8rrhgy45XvlsPYPODXNdd/OJtgWmtbePqZn0kR8xzjWXBi5OOBT+RcHy3lrR9XXDBg2oiZ61duO+QYKb0okDfP5XXKEtt825mVSxw9cYqcAAAgAElEQVSparOf8Z/C5+C+FcOAIGNY1AYb4bb8tEYvG5TMHEgUZlGh4cvgL0GkuIKbuCFcXnGFJciTv1j2pIWqVSMT9ftIa5TCNy6EXWMa16RqVkZiKROXbDXbxf9681i5/A/6/BZlMfGiWLLmYpv1Zh8QsSjIq95aZE9EAt6Ip1jru1ZgLQkPJry7rVeElpKfs2bN4q8PqbIPhbagCCQGASthGFdEQ+MvC6myhMpfWVTF1CnyOEnI+MpA92UlIfMouXh9255rIco20by2psSIQggxmjNe0IQjoeSj4mJ+j70M7VGkiJezuaVgcsf1nTWFGG1G7Br1Y/fO2qBrT+USNtXd0IzHQNUH7P7Q83iW15hn0xwmeIaj1UseHyFox1laIF2n9aqY1/CPYmbDNCt2BWf2EYk3WLR5zw0jDwW2eeyPVsshBFCljiyQl6A6TAFFC+ZDm0LNJp6tbJGMSsUyzqhSvELRgkx0hHgZnfm/8zd9vWATduaI3KhkH2lYKSsAmPLchKVj5mfZqSj/bnJs65qHreflUHcCadb5LDibhQ4Bgn5W/kjmaY5++eWXhG7inudkrU9Y1Bmv7Hd+Wjlq9gbiFW1iw8/Tukbp606pWN5ChBsIYtpIKiHgGvMsqTXpMp6lOJJhCkN1Efc5k1qTORARVsSLYkNmv4RFEa7GZIjoTUMwxnNBxhGTCBr6AJPSk8+tcNebJBxWkBP2QKXSnU18X6av2XHHZ1kegxRirfdkHlpRrVu+yNuXnPh/H81ZuCnLYYHS7/JahKP7kJDhwZyVQD4YcXycHuMUGds4SZLglFe9JEflzY9nBJNpvEZNYlXTiGSyxWjMqpBJFcsMChohyWTrWoGpMD4a+KbCy03MP9oCeXfw3cArknk5S1QiFQXTk7HziNMs9q6IUunDEuzA0NYCQUBSVdlCgnm4eF74XsBfzVWg1eAjApsGsRI4ZaCVoH2gg8BxYAY/XNx4L+MwTIQtp8CYhRsUeZ4hf3bKGeNZwO2ZWCFis3GHNidKrG+TJk2c+aiow0NKYDYR18bEygoXDiM8v8RcoAEFG/PM48+3Em9w6+KaME9ZA7ydM1hWE1iPRjCksmIiEdQo3hHTX1lrxu4pLQt6kJ/z3Tf3VNCjnRio+oA9kOEXrRGvlucYQrh6B7lWyNEeauOBIJD5x58wuGCRhhB1+pqd3y7Zymxm2pqdYxdufm/q2q6fzLts8Ixmfafyr8l/fr108Aw4wJZsiaw5I88bP6ww620QzBgJCxVINSYqV++7QO5OXI0wf3rnx5UX9P9t2Iz1Ts25VY3SQ9rXub/xsao5x4VqulVm7k4qKaYpEYtQFrGiKrDgLSYE2obQCwISOYSjKWzbzO/l50033YS9Go2a8EujObNfjGkmh6fRnNlpsr6ZeUm63YsU6G/d8keJkZliNGe2S/+V0tnKtebbDUriBfAeJKmpM61rdjA0HhP4TptsnejPVq9RW/viRMpzYU1hKLYycSJ1rYBDJutNKAzENKIV4BGK1s3snHPxdOWvSIWTJKoCAZZS2EZz5pBTn88OAnquIpBzCIj2a3P0FdOl2cmyLAx5PDvozLgoi+ZMXIP1LIijIZ3iRCxzFDb4JEXUnGP3xdUrxHk6SiyPp/ULhRVavo/yaQu2uLqlRLtc9t1VXHsql7BGZvHTuO3Y/HficsYJFkPX1gJQnl3hdq3gKqVWSBYE4F+N6FVHSNuV9cqZfCPo1b+sykpJQknSPM8e74iP96zHln1UY8Hi3Z9WthgwbeiMdU61GRbfly+s9nDT46zEvD6uoqekAwJMSmK4bbNIDAhG13UCYuJOxYtbAqUozIGY2VvrYyiAXkVow0w+z4gIV6pUKR2QT8k+4u1ydNF/8pCZPpb7y/mFo2aPb7dtJtOMH8nwFDHeLzvAii1L4o3JNYVWLDlmTVpaybEMZ49cBSdSBjaOiOjYkioWuzGmGBZb5RTXCkK1jXkZWxAWdaI3Sb0j6dNZz5KriC+rbJDiFZ9BjNL8NEl6stNlPVcRSAwC2JN5smwOvUL7Z7yykYRvCq4fhkgSXZpnyibhvffey8KrZFYnPlkWeeMtMqnDd8N6omScivYNwjAu8UfWIulXYlNvxiub1Oflg3iGqFx2erlcRNoRWhMSEy9fWNeeCno2Z3WTrysGqj5g94eex7MCUJ5d4XatEE3WgvnynFCqkP6LgUCpQvmhdJJ/mApj1KxaqpD5d1zJI6mPJzb/2Di2xJH8q1K8YOViBVGcKhbNQNdlyR9TAE7aVPA4mCJWK5g/b7ezq5Bf5I5GVZqd8E9gG/mQpL7VzoDDXnauFcJzQ/LAi9qMtfmD6RHUZkbOi61OGHF1PVsKmRDiqSKFBAEvvC/ytaamSaSJbiB6i4lPFgubcQZjxiNZPbEhyMQIEzQZhoRIBr0a7ZoN6xK+UJWyPzvGNBQqFB50DCwSwjgao2BRJEmJs8gMABWIdkaMGJETdyr2pc0VY8gQV0+jdYFJqrP7Qu9sCrNbEjiRDMYJKT7GGIXuu+8+YvCIYREKmZMrZt1ZKX8cPLDuxy8Wj3x9woBXqfBn5j90DGTJ8gcsKdNg68FZGjutjLoAiyRn5jULDxA5V8h/I42jM8sGCavwsAAN+Unco1jC2YA9CDAJyeYn2q8YW1wrmIS3PDI4PcLEgYeqNC4tU0xAHHV4drhrXIVFBMhfA+y7NqUIhAcBk2g9mkhWwjB/YhvuMevpMbjHCAPGSxlr8IoVK8wprOLJS0P8RIIt4pbCC9baLCTkrpez0Y7I6TbqtRiieumpoGdjShP0KJJxwBQrqvHCHiykEVqLl6rbSW5OC3gH0TTfTtOapA9hKUj2uFawiaEpE+K9Lzldf2/mwS17Mldt2zt/w64pK7d9Omd9968Xdh39e8ehM68cMuPaEbPaDJzW5D+H8ouc3/dXtq8eNvM/Px2W38iakuTCAb8dYB705583fjTHpCGZu35nTnckwPYjPgu29pkj8iCQd8S6X9J+ohI4hQl85P/lpL2CO+JMQMUeuNx+WLYlQEy0KUXAICCJQOTrK4v9BETJHmI7pRo70StYlZefMIJyFH0YLdGJJEvgYpdGD2GJGvWMVA5sswdnb5bw/T1QBL9Z01fS1NChQ2Pcx4hRbchAVC2PmwTCWfN/BDgkYlzaXCWGDPH2NJrkESPfuBGmPgqhdbZhhRTVjph261FORMmEn1LeUWf3+r5IpWrWChVrndLo9Qly9LfV2wPEM5CmTDJOa79kW7J1chWZBbLoI1cUD20iCYmUlp5SE69vNiSFoWuF7t27Y5ZgQmms6KjT8ixgBperiA5vXWlCc46Rbybwr08g8GojikDiEYjxLLDYx0oczx0OIyIYHzh+wj1GDJHssX7XeAMIIRaLqqYjsF2yB82ZlcTAU1W9+uqrNM5StaTCouDhJYvLLO0ZGSLOYAkAoVqrVq3Qb6nJX/EjI/DK9S649pQWBD156UmqKkEPs3bZsmVjoOoFdlcJA6yQtVYaV/EHd7z3Q1/icd2U8FTed+AgaTmRh6TBTqnYiY5ttLhZa3dQx5pYeFk2cngmHoSIz8KWLVtQBljpF3nifeADHPnMod+eHEtt/n6pqs2JHzVpdEVJzCiKAfwrFGOCNvkwGzZsSAWcXcGFB0fq8wXlFBi5UZXRLphbwBmDyVRswqItQAwD+4uk0hXVN6JW4PpAQe9UokQJtDseZ0wBxMvRGtYJGFOi3SpJBYRtHFdYa+EUoTum5JDyHO3SUEaJtCih0WTw0dNoCIAYfYSqx9p9k6N17ty5Jj8TcbY2SLlrnIuaJ+7KEP/wE5orrnXZ+9P5OlRu2Zk9xarVr/9g//+OGy8VStdvKh8Olm7D9ghZk6Mar1GEjJEc1eQstWadtaaKda1gQMBTg5k6g58XvuRQJZJTjpqcq2AOQ8EVV1xhcq5GxND1YQkb8iqPIpBDCMR+FninOb9rcI8ZYazfNXZiKZHvAqHOhF7zMLLN15D1Vo4GrjzjsA1bp0jIGxgfLtHeUYl5SxghI85g8VoSNdv6hWXRjTeVF6hj91RaEPQo119/vZkVgJ4rqq4VvEgYVJ1glGdXuF0r2PqjL/GgbnDY2nli3CKjPA/+LcvcdOlfEyb5t2HnvrAJHEOeiK8eXgG8FJhcmhPjeuADGfm85mKoze0GT1e1OYmGWfKKyqeaZwE92WpeI5iTnc2bN5d+iWqE2sA2a9vyTY1YYBHD75RDxG1aM3PyXZdITnRvJ1auDxSMZZxL8Js5F19i9kgSkYiFGGwq4FRiPcqDbw0JyyHlOeKljRixZfDR04jdh3OL7uNNFvEoMpglEqoJDgZS2HFYm6CCMdGg7eNyz2oFzU5evvWUx4cfkSdv3gIFMTXf9dk8zqVCgSMLs2Ry2rOf8o34aUXolGcZlk5AoJSPNizl0bANIYxC5tFwreAEX9w6SIrLGpAcveSSS5yPEsbqxYsXR7x3rg9L8r6LVHInAnju4MlinkSFyIqA67MA95j1u2ZWrJzfNdnDwy5BfBTWf3EzwclZDmFxZScvugBvATZn6AOtbin333+/zTnrrbfe4rosgNquy6vY9oWN4a7ilDlGT01lAx0CoOEb9GKjyumuFQLEMHZTcSvPvuGO6364DtyEAaQXChaB0bPXG1X532OyrCUt+k81e3bui+B4GawAAbYW8VmwuefJ5bw/8Nkc+ajNvSYvj+akjdpMWu8AEdCmFIEYCBCtwKeR5D1W85oENZGnLeKJogbb8mGyBz9hlswlqhaSUs61mvjE/kxaRGebPFAxninjcIux1JyLFVe+6BH9wKkm7rVYwq2XEz4buJqEUTyHlOeIlzZixJDBX08j3iNxBm7fvn3EoyYWF9gNDgZSWUk0fgfSAvmK2Snuypfc/gjbZU9ryUts9rpDUTy1zsvyhD/u0tv5UvywLMgpZiDPr3VYWhuMMSzNo2Gtb300XCvYJMfXSegATEAEFWI/TREflkAA0UbCjwB+H/JuZMnSo1ExkZ3Cdgp9gLMQrRNDDFj0UcMgyCCvYUR9DydkQlegDYMVn8eNEJJorXmZiVm/a17A4ROG+zSxxwlbsLC6pXiR0FrH+oWN91wvPY2GniuqrhXildZf/bj5mW677TauJG7Y1uLKdOdawblEqntSDwHydppOzd2QFda49++UnuxPLsKwiM8CCZzplJATmhIIx2PswcDbqtfkFRcMmDY8UgIqKMFeaHnCyGtOOvvYLH9LLYpA9hHAakG0UsQiqYBMnjYrR4swhRi3XpsYTHpIcos3L5zDmPJwNGWKgzGNa8HIbU38ZiWGid0mhFXROkvINF5R6Jyk/zV1MBjicEvQNUedJwpdMwvn6NtMsDDuEb2GDYeleniYcMMz5oXsI2xrIdqlTbUYMvjoaTT5hRodM/uTTz7Zrl07XO9YRhSeZwr00fxFhZYNKQZSso/yE2cBa+PyU+hzimzJMmu3bnr2gCtq1y536GNRqWbWasWuVQv565swLPDbYRr0kYzTNYWhawVrd7A5n3/++UyUeV6IhTaHYj9NOQeIthxyBIjggKNOhETJNHRN4RGbN6rJr2bdkLdExILBE6IBkyuOFVjSGltrEkOHo5M1ORyMeibToY++x8s9hh2Y9Sw8us0Ko4+LxnUK3ykwgXXcR34BV+q1GJJ46Wk09FxRda0QF0S+K8etPMe+kivcrhV890RPTAoEjitZyNB3b9qduWr7PsOdCi+3NZ9nUnTHu5A598Af+OOP179bfkH/aSNmrs90JHIRtfnDq+udpWqz97uVbDVZzEbhtGY/zukeeMnz7CNPW+wskYFnPRRmYwKqbXBJtCq5TJwwojlD8YJhBEZT0lNjV8eaCs9ZkyZN0CR9zFG836lol8ZmK41AuRxNBh89jSaYKM8soENePWrUKLjBIMLBHUDcucX3XhwRrcUKqQ1w6yGRs/lJx1cpfqQ5vXCxrCW/zB1b+EvgnXfEElPTx7B0fTRcK5iuDRgwAI46NOcbbrgBojtWmswh15yricFHrxIqBFjnYj2RlTiWtCQvGoT2vFtCJaS8ZJy8EnBWR5QTykmcfZhlGeoKzAlo3bhGm/q8r4j9sbItEOnD2l+oOq7CJAsCASvPydJtlTO3EMifN0+10oXN1Wev2/XPDCnl8lTlNMj7D/zx8qRlLfpPGzVnQ6Yjg4skoFK1OafvQq63T4oatDgsCX379mXGkBh5vOR59pGnLXaWSN9ZD6NhIpkwbRlE2SP0KhifnSfKbAwlmTBpGMKY5GF/ZimBsF6M8DkKfnYu7aOn0foiYthc65l8S5R47AtFPGpFO2KFwsWyXOIP7s/KaBVCy7OPYen6aLhWkLsDgRzp1okvQDHo37+/VXPmqDxNtuRkXtK95ugw1sZzFwFC69euXcsAw72Z0HrxlevXr59Jq5a74snV5SXDqhyLdNYiPALOcs899yA/Yb2cIqRchM9kueP16iWVcYYieg62BVyZWOts3LgxXkJEOrD6uXTp0jB0WWVILgRUeU6u+5UK0lYrXch0Y8Gmf6anRQpkUeZq8YLA3gN/PD9hScsBv336+8YDDrW5wlEZL11YDbW50THqpO0FziSuk1sOeF7yPNsSM+LV3KVLl08++QS4rXwkBn2TJZIgUpN1GYopkw/TZKGE0tNUwFsPLZewIB95nn043BLVzBWZgRFc16BBA4KQMePAxcUEVKiwc65k59I+ehqtI95d660tiGu9ZBoDK+ch8eSPKOefBzM5lDdflk3V4VuTc3h7bdlHclTXnKWuFRAOl4du3bqhMBPGKcTa1iJPU5UqVfCfN76scPDiEEu1nMgu6xUvrZd7CPAYkiioTZs22GmhdUAQ3Baw0EIqIU4fISlieRbOateCkix8ASbRANvCrYjnNiubbBDawAZ09MZlmjVTfnIu/hqul9AKioANAVWedUgkGoETSv2jPE9Zud1cvkhGkMpz4h1ZE4Pj7v0Hnhq/uNWA3/47f7NzHlmxaEaPVtVGXF3vzCpZthotqY1AyB3wINZmooZr3MSJE+GnYYqGbRxqYvJhirsgBT+677//HksI20RnYYTEKZpQNDPdRzuFJIa5vtAvYVjgL9Y2UwGDJ3vIxuHjXvtwuMVvEIIrHGKtl5NJG3q+Dxm8n5KdS/voaTTBsuNaL0Za2zRdfor9P6Kc+3Zs41C+QlmEWCG0PJthSXJmRi8/+SuJms2wxCzGOP/5558FVeujIXuI6ucZMY+GawXSU/EIsIY1fPhwEjs7bxZPE5CK5mB8WflJkCcrTfI0aUk3BMj/h+bctm1bcfegEPOMJZY9VatWDQkaruQONjm9EDqIKTsG20JI+q5iJAsCqjwny51KHTnx3DadWbwlyxNPSoDKc644sub0Hdqx90D3sYtaD5w+buEWh7H5iMrFCr52UfXhV9U74xhVm3P6VoSl/ZA74GGRw5sOM2OLFi0gNBLbI+Wdd94xy/+ovgShoQCwnyRGYkDjFLQsYjiZz4kjOimFxSWVmZ/EFcO8wrkoG2LGJOTYx13x4XCL+oEyL97FpiTGFTY7l/bR02h4Zse1XiboAGhtfP369fyURF8R3ZV3b8vSrguWzMo+Gk7l+aabbsLxYcyYMWeffTYEcvyF+52ZOmlgpKcsITHOW7ZsKT/No8FKxK1/ldatWzOSzaPhWuG+++4TkmSiBogwtxYeHHmaxLzME4RzBO4SiCcPC/ttDt4+nh09JdkR4CXGeOvZs2fYOuJK7mAT+P/bOxugO6ryjqsEJSIIRiAVGowQ+QqUQOuQYAy0AgWDIkgAB2c6ldJJhKkzGKLCMEmwgo4CRYOgyGcBRQGtwGADKDCARTBIUWlItCSEViFGIAryYfuLf/rk9OzePXt39967977Pzjvv3Hvu2XOe57+7Z8/zXSahQ26fgtwWTEEJ4rYh4/S0BwEXnttzLcYKJX/2J1vksvqGhizPg3Jk7d31W/fci5+4ZcXsK358xy9+kxWbJ2212fmz3371sVP33X7L3tHgI7cNgaFwwMNPmwSnWMjJdCoAiQ1GADYwJQkTQa0WlcwlFI1YTTIhkYNKztjyNeUgmTACACLWqlWrCPKkmqXELXJ0V7hAFRxuyRM2ceJERJdwOvxc+NprV9g6U1fgNBdPc61fvXq1deBWzLrWqzyVDqLB5Vovg6d8LO1Qsl958ue6K//HvRtKlG0xeSr/W5gwTHcsxaJggRsVb2r+Izkjr9qNHd3nnEJYJkGYtCPZcvCBQIDw0SjuwHQC8KnMocSByMzKAsUThE/EZz/7WYzbukXxBJFF2o+xjABeP3hHo7TqVPtgUOB0m9yhTEKHZLaFLLMFZRoGhYzP2x4EXHhuz7UYK5Qg7G00PQdMb/G6Bty2W+7I2u01/tX6F065afkRVz5096qns0lmJ2+92YVH7PrPc/bY+y35+ohup/P+Q4RA1gEP4smD0ioHPFIxI1iSpuXMM8+UXy626BBkxAyEYXm3WugajaqHKWdXflLomnW4/fbbrQolacatQ4XLJz/w8g63BAfSn6DrNWvWaDrEeOW7DiPuKlCSPKXm1ElOkwTQwVzrEcasP/4CWdd6VT/mCH2Yk97IuR0ee/iB12617YS9NyCfTfFQhuw+9CkuxlmthGFBjUMk5E7lSa+77jr4NV9WYiLsafrZz35WUIatDyj5FO1BQImyuG/7TFKyxmG3yR3KJHToqvZbnwHx6YYRgVdHqTtawgP+Eq71acm16AUZh1627LcvxGmBj91ru3n77VBzOpJGEleGMYq8i+TDIJUiVg7MAhisttpqCLJn2Z3/xDPPn/X9x3783+tzAZkyYfyCWTu+/c0bi2bXxM1PH1IEsCmxF8HMhWDJB1xqqTzcnoBGrMeYERYsWIB9gwJF1D9H6LVwuwhzbJVUpETGjvK+TpgwgbOIzcM6V9yBX6Mxk68SEKOgNJ7DgMamDbFcZkNCP2Q2xC6KPoLVY926DaWSsKDyK7lbWV6I3EYUwXmen8hbS8UXKCS/K7oA8vE07g+ZnNp4z6UhyWnJRwCFiOq7kNUWZ2PgwrCMfuQ73/kOzvm020R8JuUPMIaQInVzP4CeInVJdvXcc89xrhldczvs/pFzJ+w1k/4nT9/h6D23K0nqWO6GaXq//fbj3l6xYkN9bDumTJlCC27k+Jar0d1Th/o+qbBVRtX1jW98A78eHlVWMIJfcP7vj/0ZHWhByADZy5RRMnuQ8YvVhrgPtELRr2gBJk+eTEqIKG82oT04yFATgcyOLFksXLyPwtpU+C6RPiN30uSLY6jvGSe+AQQ6KS8H286TPFgCfPaeIvDp7/1i5kX3R39XLvuvmpNidmYThsDMVtuGwjBFCwtuzcF7dHp0q/N17W9fuOAHq//y4geyENFy4vU/Xbn2dw0SM5BnrZ+T9mGuPkzR6YpfddVVzH7WWWfxXwciaIO3R4NDIQPzxgqfzWhw+Wyz3Y/aVZ6E7X6yQ5ZaYVLMBZvIMPs3sjGCup0ip2K2mNaCr/gxxxxjJZ0JeEZVR7kgdViyZAn9CXZtELqSU1u3TjQUc1qeYByS5S3PAQ4kdUNFEp7ORKFFK4IUd+XNN39F8YcUjbtyNHXU4fC/P9UWw6sfrPuaKM/mUPeU5Z/62xEX0qwRkp37sAw1y058SQRQrNj7gg8sXyVPrN8NJS/yKukq7DjwwANReuK2QwtaP6ZgLcVdAo0kmjWcL0iMhwlE9zPycJYGxQSxpBA8wmJCCS4qAhCzoHTiaAo4hcpVfObXcMzFixfTOHfuXH8W6l/ZsTaCW54bUED4EN0icO2///KL9z4enTV/5qTDd9um26GGsb9r+ofxqvWa5goGBEjCYRifTD4QWozdD9Nue8zOEWJJyzNWX1hgu//AAw+E5yJ6Ybpku08OpOIOpOmOJi1vQGCvhoqN9OBU9ylzrQmioz/egJjyTJAuc2L9PjWn7pbTXILZKmHVefLJJ2Hf0r9FPQsmYg+9fPlygqXRjGiPGx1hhysfXnfVgxvysXOc+I7tj997Yn0MR34EcndjW8bmhuUtZHbvvfcmUzfOAooCCI/yD8vIozfyDGKkReVK7A8OMhaZ33+uuUsRnlkHQo8knKcweKCvDNPyY1tGJUfuye9+97tZOllGWI1hRAkmOXhZYOVGhcdZfMU/CFcXBOww1yO13J599llicFTXyp+F/t8AwzujC8/De+2GmPL7Hn/mYzdvTCcjTv7x4J1mvrVhz2osSPj59McfqZHrwfblwI8svuAHGzULxIdPe8sWnzjgrdu94bWNTOGDjAwCRJOShpotApGoqNv7zBde4khQuZOSo4iKstFPSeE5ud1nq+fyQJ+vchumu/iHa65Y9orw/Ld//pa/2WdDvSs/ihEo48vqAsOYvYvwyLv66qvRfEW5D/sJCGIwBmcl2w+F53PPPVepMVAEI9vzmiNfg1ISIgNT8pAPZDtD7sVNifSNfF20aNHChQtRYnIuClY8ED/5yU/STiH0c845hw+4JSran7Ln6KkZk2SW6O/QfmKazqr/XJHUzzthGOdqMmEYbnWosrjp8XMjiikLB34U2El4DLh3uWuHES+nuREE3rrVZtlx3jR+Qymapo7WlmFIMvi9JWds+cfcaVuPH7f/jm+8/vg9z5v9dpeck7iNwQ74DyM5s2PAi7jP7DMvFgOChHMPbVy6PZK1iJMdup3R+w8FAmF1w3aWqmohjA0WJ2shd05STQRkj+1/tjCRjU8KBdXIEyHJOTpmztyQ3YCDjB5EoHzzm9+03P4zZszQT2GNQ75KtEaZSxwTAvYNN9ygbpY+gzh/SSV8IPgZxQGJHvmKUB2Vna8JrJ8+RhBoRnjG6YIngTuePROKH9KrEN6G7icEkSgpzCNEL/AwUNWQXCMkUB0jKDubEQLbvuG12cJUb968Sctqa8swJG8GVF1E5wEAACAASURBVEsn/MX2/zDjT689bs+zDtl5wuubhCU5u3cYIgQsXSpG3Yhsll9Umay61s4WhJZoWa7MLA5yUehaGMaGc12FkZPb/WSHCpP6Ke1HYJPXbKzP4MJzyevVVHGyktN5t+FCYFCptoUS4ivO0sRrXHzxxcqFER74NPGV8GaCmRGGv/CFL+CMrSJ2JjWEtd/4laAefkXEsFpxfKbl61//uqqykW8M0ZqYBd5cKg7HB5I10HjNNdcM17VzatuAQDPCM4UN9SQQ7o95mYx2LNw4V6jMIAdFO8k+ys3KY4CKiP7c7nRQPbdeH92GmHbbvxH6u5202/4DIZJJO9G505vGhyRt8upXTXj9po0QqUEG+26oycgRu29z1NRtXzeumcezJjF+emsR0E2OH1qWQhLtsuriDaQKyay0S5cuxT/NNPc1mWLvwr6H5Pa5RzUf8uR2P9mhJlN+ejsRcOG52nXptjhZtbQL1WjzswaIAEIpGbkgYFCWZ0oqUJIA/1M0sFkcJBfgcY1jNvH5BN9hQMbkRqMszBxhjUOrykZnK2HI57Aqm8YktpkabxRs41fyNWh2G3OAV8SnHjoEGoh5JniAgAGeRhwhjjvuOEFw/fXXH3XUUUQsUDeIr7SjMcIuTbI7daB00Kc+9SmMFey91DIQaXDoLthYI7jC63yAZRjG2tVxfgeLAPV12QORjzRbognCkJyxPJMThag26hhTleSEE04YYDqx3JjnKHTtvPPOY8+EOx8JY0hVwMuFCkZYFT7/+c8rCi7ZIboiHro22Fu0kdmvfeiXX/y/NBBHT9325BmlMro1MvVQD9JUcbKhBsGJzyKA1MqKSglP/g8cn+x74dBDD73lllt4eR1//PFGHiZovr773e9GCxzRXKYqW7djSh6psP8cOJ5OQH8QaEB4xrxMbphtttkmil5g00bcKZIMXhkUyUSH9Mgjj+yyyy5ijMADchVgrEYPRFo83/H053q3Z5bbVv560W0bom50zJq81ZkH7dQIeehrTCPDgOg4KRzayMg+iCPQHgSI4KIeEhZg5EmynuQShisQanX64Jw2ffr0sMRl/xnJFZ5JEk5ubVgg8xkkJbf7yQ7+Kun/le31jNc9/Kt/ume1Zjlyj20+uv+kXs84MuPjnHLsscciXYgjEtcjk+Tq2kaGZWckicCtt95KnWd249JIDvbIvhfe9a533XXXXehPiQA12m6++eb3vOc9eE7dfffdEcHJMg1UYeh2TNe6DvauaP/sDfiFyv1D0Wh2WNFLHCTMp8IkZ7qRWT70qWg/Uk5hswjMmPTGMOx5+qQ3NjU++wPV9CM375e+9CWXnJsC1sdpFQKqUMXC20ly5ldymY4fPx7JGfUle+jB0q+CKFFZlDB0jV8xhrDRp+qyha5pu29nJTsMlkefvRcIhG7bL/0hP8F7L+YdgTHxy6U6uvmy8nC55DwCl7UmC0qdRc4wcln/5Cc/qTladDoRyxRCyz1KzqU3WlTKgcxKNOZWTsntT+fwlG7HbBYTH230EGhAeEYMBhdJyAYQqiCVUyNWQbnssiltEJ5pJ/AgF1b34h69uy3kaPymm5wyc9Kmf8wE844dtjx4Spw0og77kit23HHHARYwrEO/n+sIJBF44okn6FMctMYmSelSKNHx9NNPJ8fsRQdeAURHL1iwAKc7lFlQEs4Shq6pHY4uueSS008//eijj6Y6Q9ZQluzQCy58zAEiEGbbduG5woXYeuutcfEoWcC8wvh+ynAhgEYSrSuyJX6jzdaob6QKQ25VBckROBJmoS5ThaHbMYfrgjq1/UegAbdt9EM4YCM8kwAMd1lyuhD//IEPfOCmm26CHwKht9tuOwqv7bPPPrjnhRzyALNzIp4Nn4qIc3eZ6P+tMJAZn3n+pd88/9KkvMpVdeghfd29997LfcV9WGccP9cRGF4ESMqI2wXmBdSU7DwmT5586qmn9lmdRI7TD33oQ2vXrjUYCedBhFatztwDaZnaDZL5OTA1XHHFFaHZPNkhHNZfJcN7Axvltyxf++nv/6e+HjLlTacdOHkEmGoPC2QWICUNKZSwzuEWS/G5rDMLKjDS9T/66KN0xnb9vve9L3Q2RCP2rW99K+KIIkBsBbPSDmGr1IFX53BqMiETxIe/WC4ys2bNkvCPIf3nP/+59cGWTt6E+fPnH3bYYeGJBUxh5sE3DU5ZZCKu8Ram2jxFjJC19t13X5Iv2JicRfII9rfkYgwnAhPYidjUppdugEY147lz5xLEi7qT5I4sgKzMuTyy1jGLQB43bhzaf7QeYU9CIImOLLhSZS6lDchLgZDJXHG08s2JOED95MhobKMhBWRzSWbdtsmORGGIs88+G5WrnctXrhpIXnDBBdk7jTt288035/6xFxwXl2RM3JmEjnKBuh2zMgJ+4lhBgLu8/sHqIPUVqxtx+TvssAPPJFHQtBC3oBCFadOmRRORJp52vDuyBJx44on1qfIRxiwCJFLiFpJRyw9HYGwicOONN/IULFq0CPuzngha+gnFmjVrtPljD0qIHbNLmcUGFP+9XErYX+JhzibS6jLwKmE/9KMf/Uj9kx2iYf1V0s8r3qO5lj66duZF9+tv4a0rezTL2ByWxUFFfex45zvfiagcokG4aVRPCAmQarrWR7WFSh4E3OrE7NQFI7CA6KwDDjgg2w2BNiS4gCkE1/e+972MEHGELE1IbTQypewFhZ1Vkkcw5Cy2vtIFhCrLAktvNvtPNB1JggquVJlL2cKbXBcCSd5oU4VFat+G1O6///40YhfJZWGnnTZkzLntttvsV+UVw01JLRXGbCFWTlJ7ENgQV9DIwV272267sS6wTKCxQw1JgD737h133KFq7GjRoomkR7RdUSNk+CCOAK8QzE1smokIaA8aqLTxQSWTMIV20YZmCUOcIBc9etkLL7yQ2gxNUc6egxzL1WasTBIKYBihxGInLgo64EuGpZEM0tSEx3uFq1kMRcFQd955J+rqefPmkdhfZR6joySDBVMQn7Jw4ULq8PFuXr16deUpmrrcNg6rLrU9eBDIGEQjnkF8poX2xufqNCACsDSqbD2tjwprAVruWbIwYyWwX/HfpoW6DGpJdoiGdeG5b5e7dxN9b+WvTXg+/V9X9G6iMTiyjHsIe1hc2a3h3c3XI444wqAoowIj4R9nkaqAFIZ2YCvONvIrllUNHk0tawpSEG9JO0QPmQ5IEK2zUK7RQn5BiCShg4RJXGzCa9eJKSRh0kCY/BlxTTsmSt47uK3xssYIRAuOM9FZEZuoAkVPyDuZGjE1m4EdM7JpAyU843pjPPL6MJJMz6jgXsRpCNDIgqLgSiUvZTtv76zwjMMCpnuA4oYUzdjY+MoVIfhILZjfKSdBOUZ9PffccwEH9Ng/8JX/Bx98MC2kE1eHMmO2Ex+nqp0INCY8iz1FOPOB3dLEiRO5dzEUcNfyAZ8K/CgMBTKKSYuGT0U7oXGqhhQBJE92zKSRbAn9eK9FWY555eOREZKHuBhqnXlxXnPNNfXpN813qNbVsMkZkx06kWdKevYEuX0KOnSrO+80FO9Otla2I9EHMyOUREDdOk3BCkZQbjgFlxXNSB8ua5kbA4MzTwElA63ztddeK0N0mdMb6UM9QiTnM844IxztzDPP1JY0OwUvCCxa/EpdBvuVrTYtvCwAPNkhO6YLz41cysEOcucv1pnw/IlbXhG9BkvSaMz+8MMP895h4TKZhC0ckiomENOylVGBUT6XhxQFYghLbqN1KDM1xEiCtXVMlhjMidErNXzBdRoZ6QuRzFZsGDeu161bp3a8hY3C6667jhbkXoXL2hGyKXoQ+EPGISYiDznZOkTaQNqtXhTMSs+oYWW1lp4xCVeyQ2vv2KzwDKmf+cxntOyj8+WQliR8vWKiowWtjfjC3V2qCmoxokRQRUYiQ0OhIzlmayFywlqIQDPC80knncQ+0lYi+MQzJ1xTkj4VLYTGSRpSBHDXYcdsGseBc7F48WK9BtBGk5/j0ksvRXeOkGCeq916opbkKNR8R8JzcsZkh040hEr6XOG5uENXuvOCoQjuBfNcM4IoL8lgwRRIoUyBihCdN5YKwuG006K+QFdTlLyaI9NNSg2cLLIcYVziJ2Lwop+UWhKlWLJDdkwXnkfgzrnnsd+Y8Pyxm1+xQI4AXwNngfLvPFnHHXdcSImK62J6VWMZFZiMxrzdwnFyG61DmaklgprXCefecMMNtBAdrVcqmQizolfByJxFRDdaVD4QuW3EYF1X6G+o6UNbJ6uyzlIJj4hN0TNnzpyQcVlBIe/LX/6yTiEw2zqE2kAaeV8Qr4skz6vEZtewU6dO5b/0jEm4kh0GfrN1IkABnlGkAJ0/97nPYXITgIAZvTJkhz///PNtWDQOOAWoPweSc9aDr3jM1kLkhLUQgWaEZ6l58JAUh0jRaiFbmFqSPhUthMZJGlIEMOqyY0ahg1YSdexgucAEquQr9ixAj1TaPCOirVtP1CRHWc13JDwnZ0x2yKUBxfD2229vb6+s8FzcoSvdecFQKO/1Pv7KV75idApzdPly6yrDYPEU4pTkJTYFGyxa2MT06LImr3v7O+A8D0SoGKg+naWWVED8Gplx6KaCDjjpJTtkx2QpcPm5/TdGMYU/XP20Cc8fvbGxkJZhh6U+/R/84Ad5stiehUMhkNAYSdTRXKEKDNcqXKWQc7APkyyKiGJ0oDg9ZRvvu+8+Gyc5NcsvZJBN6qmnnrKzyN1AIx65iEak18G4LfkqfMEVjIzPM28HGS2jkNos1w8++CDdMMITf8RZ2sSydoVsEhJFI4Zl7MNHHnkk9KAiv+iii04++eTHH39cyr6IPHgxbSDyueS9yCFIbMrmtPvuuzOsZMWCK5XEs/7d0v8RsBujXMBDm9o9JWe3qmyd+lcYs+TU3m1MIdCM8IxgwIPNWjl79mx2zHrmiS0xKMv4VIwp3J3Z3iFA4XGlR+LolJeod7NHI6uwIbJc1I5rHF5kZM6s4ImaJN4037mK+eSMyQ6dCJDy3pT0WeG5uENXuvOCoTAjsOFAkR8qs82MQPRvSQYLpsC9/JxzzsGdLAwmJ1IX9gl+A5+SUyQv5Sh1wPzCbQ9EkSO38UjiDH4lI2vEtVSx1GVIdsgVnkcJw7HJy7I1z5jwfNK/bHTpH5toNMi1sklH7tZkAqORnNidJopUYMuWLZOIGB65Wf2xr5r9MDn1LrvswoCmixQxZPnOzkULNBi1yZHJzsMpSOAhgxHX6FiVtQc1q7qFmZ9zabBG3j7kA+cUKfuywrNpA7VzxngepfboxGbkTxfSnOS6wdvGh3IEHIEG6jzz8KOkRG+HZwX5VPlAiho8f9DA2WrCnomdEzo2EiATeMB/FIcs2Y3UTcFZCBcjLI0o/EzVV7C6saKxZkWHtmU6EPUZjRDB4iWy/q/svLOU0IJMlR2cmgeodVXdPjwoTgCSeI0SS0NWTEWY1zmS+DC4MEc6JfWlkoV0S1XjZBsBxDWhBiZ4iSQivMbqQFH/XCR5BgmrevAVQU5LD1pVFUhHTtNeQQcvV5TT3B78WoEGRkPzzbPw4Q9/OHt6csZkh04k8YBzlxKyEQWJWf/iDtqEsTKE4+srhspo0oKhmB2dBalEwiIcmLWxkBA6NWnSpJIMFkyBNwHWBlK7WcYasoVpJ3TIIYfwv+QUFS5ue04hxS55XHIP6YzCgw03tVvWr19Pwm0cQXO5kI8Gz0X0KxtZWlDOJju0BxynpEEENnnNhhxLOl7+Q3x7NDjRWBsKgx4sR8WKlCE/qsduyGA9Vq4HdIXyK9a6jS6YFvK/YrBlY2DVmMJGVIrsUlgx6F88Nbke8blldcVnO7womot5Mf+uWLGCdJjaQ7Jhs3UjyZTWk6gmVsg1dGLshQbs3rJIc2BJ1oeQI7UQg2308H5hdyRXc1GSPWwufKP4ldd0VBvMpG6gFptyICfmK1weQ5qTXI+1e9v5dQR6i0CD+gP2puyZWN2y0Qs2S9Knolt6KqQ1yi11oNICHMl0R91SWNC/U4EHq+Vg53bK/NRtgqUyxBfjwwgR5ry9ouxWSaqSHcrQORR9HnvsMR5gVSA0gintpqf629/+dgVP1K4Yz4aEJWdMdkgSoBwznRKGcXpuh2q68+RcTBeZEbplsHiKyy+/fPr06baHQyvEjN1OkYS0bR1QABW8mXDdDAm+5JJLcHekPwWchU/ukazLkOyQHdZ9ttt251Sg56e/XG+W57+7/v8F1lYYzU8xBA466CC9hkJMFHBLruwsUGjn5TyCCsweZIwlqO/5Kex/+OGH0w39Y9ioYBktDsVTK+6a5SKigVmIlKFuvLWb5G91W5JMSU+Nm2Qu10ihIh5OCRWxPkpyEa1ssk7z5rJu6Hm11kGPqrRyRGFTigYHNJWniSogwKNkaeYykHnFaKiwPE14pZJc+23vCDgCDSLQjOVZTzWaPAx95HIoqLqOqozgDRWpqn9gXGKDzupjZQAQfakBkOtHZNMplCUqLaBlnWhtclQQNFuftjIjiJKo8gE1CSjrFZ6OrPX+979f6tLowMT60EMPhdULWO6jTI9lKAn7FOBDN2HOom8WQm7HCPMkVckO3dLc2v7c6kQx8D6eO3cu2iXoxDXAlNm05yqM6Vas/q/Db3LGZIc6sxec2yPdedaM0CyDWANIGCZLC+lSeRz40OwUPQK8zrCsuhhMMLDkHioTogPPFHoibPPUmxSdO7UcNAhxNLMVX7l87JX5QJB5skMdjvzc1iIwLrA8v/iyW54bu1ByEUK0C0fU1+wujoUOcQ7nEWRa1OUSETnYriDrEoEcDsL7jq9UiwwbVSYKJyD+F0yNwRkPJvpQ7zBilVkYWTHDOowMDVs8spjS/8hHT1wzNenECLfG5owNQ7WFdWhSjMwhSR//+Mf5Gjo8YhUn8ERsdvLA0lwqSnzYYYeFYwpkaANk8nQYd6Q307zGJp/DK9XVpQxZ8M+OgCNQAYEmhecK09c8hXJEWLnnz5+P0w5rFil2yYjIxiv0GI+mQEvKKcgzbOkIDbWDZRqf8z322AOzak2qyp8uIR/iQ0r4rJAYDioosIai18x15MbOT/JAlnvK4aKYRAnKco+6FOEfNsuTEfYswEfdhDmaUdy31II2JMQ8SVWyQzXK23kWWgY05fy/6qqrpkyZwpuS/+TBVkYrLlb/PVGTMyY79Ajq3HnNZbfapDgfonhiqwfUFJ8X7M0yeNlll61atYoQaPZA7KWIYWl8imq89/Qsbmki6r/a4bBdL0E6+LezBWRdVRacggPXRGmaQpccnDy5iGBL7vRkh56y7IMPCoFNN9notv2Su203dxkkcVEuNBxSm40w9SNfC1RgqLcYIXJRVh6vSOO/5ZZb0iinlYKpkc+RHjEqKLNXePAT6vtcAMwXJsmUhOfIL11cE13IxoYNGPrQMHUzP0mjhyk4nF3CbeSGY2xauFauNpBtG+eGCgIDmX0sweEmORtc0VzhlUpy3dxd4yM5Ao7Aq4ZYeGY90uoTVr1XacGvfe1rLOi5l1dm1eyiTCPaU1INhTUJen2DFBCjqfEIZWselmQISSKMEDbJe6nFmoO3Al9BBmmhGvHFJBnmvMMMKKXfMMyTVCU7VKO8tWdhhUOpAUoETeFEQEg2GmWBxvXKVRjzUyf1f302kzMmO9SnIXeExnXnWCxzzQjNMojhBf8CRES0JPCFDo59ZLNT9AjwXg9LltTTTjsNMZt0tRRcyZ0OxxmcG5UagANNIv/JEqRNKv+VRo4Y/pIdes2Uj99/BMKYZxeeG8RfOUG0j7KDFYzPoehYrAIjyzTZGVWrz46s0Zif7r//fv7vuuuu/C+YWqKmEnqHB8YGSjyy3pJgwtrl6WPDFo8spqCW/5GBQeUYMFdgbSboxgwYNpHik++66y5rgR652ISmY/QFytABmyj7FM6DP6CdJW0gugnM8lg+zEnHQKa2JRlbIjbN8iz0dIRXquSljCD1r46AI1ANgSEWnqul5JFwyMpFBMtRRx2Fh/OSJUvkT5tMd1QN4k5nsciSWAIF7SOPPEJgHvkVMVuRSi3sX5z5qasESyWJL8CHEYQ5CtEwLxRVi8PsVkmqkh1KkjpE3VA0cK15MeOSygYCvyw5emGF7r8nanLGZIceId+s7pxKzvhi5JoR6jPI9o4NXJQWi1RhbMtYTMg0U3+KHoHcz2HZT6PdY3fL+obNPzxwqBEleH0TdYJ0ra+UfsHCjGsGW1jWQ/6TZJsIEYJZSnboJ4M+V38Q2DRw23bhuUHMyUeFMhfRjiVLw+L0cc899xB+gsOOWpIqMCVJQcuP7UGn4Ikj0RSLdNhIklEaZe0omFo2YWUjC4+99tqLaCYUaqQCtXZ15k2qnPzFI4upadOm8Z8XRMi1BHsGWbp0qRKFRAdT0EKOT+OInQ+aQRqtHDSf8a+Ba0Rc0SMvJ+IKI22g8koi8Uq6DkEmIVmWTXvXWMrY6EqVuZRZprzFEXAEKiLQYPx0n4eqlpIntwaAlRYQC2VSENVnNjcwO6zlEE2RzfxULcFSMeXF+ESYG1BWeoHBk1QlO9THtlUjYEzjxUY4vVGFIZrH1erZqrSbIqB08P6mBX12fUaytw1jJmdMdigmLPkE5XYggQpcR+U3FXXGzqzTjLlDsb9529vexomcHpYJtUG6YjA7BXsdBtcWx8bkM9sp2tmHlQG5/sVt+QiYiTq9lrBWiXjVLyULgPFC+pzQ6oXkTN7dkNNkh7CzJwxr+U1Shrwn1//eEoYdceWPy5zifUoigMGTBxDvNgrvcah8AEG/djo1q/QUEwYcHdge6IajDfFuGoTsJziJKGGHUotFjbz90Txq8NypCTqTy3eURkun8CIQMQrTw7FIX0mdFfJbzJTW85Bry7zNBizLJopvBqdMlJ0VspmlBwwt56uFZyNLU+xKEjVr2tlnn80HPCVFdgSyoOOAHjgVm/LiLrhSyUtZ8pbwbo6AI5BEoJk6z8lpetGhQs1PyKCQgFbesLQALWhPbU1Pbv0bYYfcOcwbFXhQy+23356dIisFIWbQn5dN2FkuWDNmzKhGZDE+EeYGlBViZdIkVckO1Shv7VkCh5elKESKVguVjdSisszsKnBG4Cv/5coVFXWsxmCu8JycMdmhmJjkE5TbgTg3zCDc/3fccYfGx8ONr5hBQtVDNHXuUCSDBUASAYR1mMMTu2IwOwVrBQZSpmC/YsPiokwL7ZKou5qi2sUd4bOSdRmSHQSOC88jcJOs+90LJjzPvvzBEeCoVSyQOUXyqmQzK8UsIsuowIhIOuaYY2SG5SCOjEw0VJrINlqZRg2enVoVoZAebT8WYYWO1RJxMSPiJf2zFV4KmMLZkFPYhxjXlMET5bkHoSXQoLNwn47YJLYupIdM2mHRaWXZCOMEpQ3ExYZ2TOhJkLUn1LDFVyoXz1bdaU6MIzAyCAyx8KwyAHjgRBdDZQDYdudepGypg7C0gE5Jbv0bufy5BR7CWg7RLFkpqBfFCYrxiTA3oELMk1QlOzQCb3sGUflfXs/UxiBRuWyeuK4ZhXjCSxKLlNNyea155ArPyRmTHYqpSj5BnTpU0J1nh7IAswIzQlcM5lJrdeCpL4CDMZ752uWgvRI4XU1R8yr76Z0QcOF5BO6NZ3//kgnPf33pshHgqG0s8K7BIRmHGszIlWkjEwojIBmGcm9uYzhFhakZH8kcB58CpSpTJEdOdsiFIstRGXpKKvvCGXOHTdKc7FD5+vqJjoAjYAgMsfBcoeZnpwuvqkvkg1WH5Na/dzcQsiuU4HGanSIrBSk7GrUNws6kv6UxqkZYk2DDJ8LcgFLtMVUgTFKV7FCT2haejleqVf5AoiM1XVj2GYK78kTtikFpvrOK+eSMyQ4FZEhJT5xqpz4FHZLK9WjM7FDmX1dgRugK807UEqkb5qQl+oM4tJC8Ohh2dZW9cycEXHgegXvj+RdfNuH5ry5+YAQ4chYcAUfAEXAEhheBIU4YVi0lT26pg7CCQoH3TrM/5RZ46IqSZhMsibtifHIxRz9qhVgZIUlVskOzOLdhNMLAqCpBzg88r8AKx7PIF47wZuLJTTlNwQzLrlmTfuZlecoW7UzOmOxQQNi8efOYVH7LuUdBh1NOOQXNgswg5CMle0oxAtmhqKZWsCLvueeeGrA8g52onTNnDmnDkJDxyND1nTVrVkht+SlqXmU/3REYYQTCbNsve6mqEb7Szpoj4Ag4AsOAwBALzxVqfuaWOghLC/TzkuUWeAhrOSSJabw4QRKfXMwJUrJCrNCcpCrZIcn4MHYgJQmM4+KblWONHfKskD9JZvz+HMkZkx16QScJSMlWSm5VAvB6MX44Zk0G8dNGQibFgCz8uUfNKXqNgI/vCLQcgXFBtu2X/2eDu1zLCXbyHAFHwBFwBEYYgSEWnrkqyaKg9AnriOaWOohKC/TtYucWeAhrOSQpabw4QRl8IswhEm9t/lsh1iRVyQ5Jxr2DI+AIOAKOwNhBIJSfvVrV2Lnuzqkj4Ag4Am1EYHg9zqG8TEoe5Tk877zzxGluqYOwtAB9+hPz3KnAQ1jLIbw6uZmfKiRYKr7iSXxCzK2+AkHRYXarJFXJDkN9WzrxjoAj0BIEPOa5JReiJhkX3Lt6yb2rL/q3x7/6wzUv4rrthyPgCDgCjoAjMCAEhjhhmBBLpuTJ1hGNSh1EpQUYM5nuqKmLlVvgIarlYHN1yvzUbYKlJPFJfCLMKS8UFWJliiRVyQ5JOr2DI+AIOALFCLjw7HeII+AIOAKOgCPgCDSIwKsZq40G8S5pWrdu3cqVK5HiSsaLwjWZfkhHNGXKFOXoGuCBCRriN9tsM4ixEoJd0UPKruXLlxO8vfPOOzcSJloGnyTmSaqSHboCwTs7Ao6AI+AIOAKOgCPgCDgCjoAj0DsERkR47h1APrIj4Ag4Ao6AI+AI1843bgAAAOlJREFUOAKOgCPgCDgCjoAjMNwJw/z6OQKOgCPgCDgCjoAj4Ag4Ao6AI+AIOAJ9QMCF5z6A7FM4Ao6AI+AIOAKOgCPgCDgCjoAj4AgMNwIuPA/39XPqHQFHwBFwBBwBR8ARcAQcAUfAEXAE+oCAC899ANmncAQcAUfAEXAEHAFHwBFwBBwBR8ARGG4EXHge7uvn1DsCjoAj4Ag4Ao6AI+AIOAKOgCPgCPQBARee+wCyT+EIOAKOgCPgCDgCjoAj4Ag4Ao6AIzDcCLjwPNzXz6l3BBwBR8ARcAQcAUfAEXAEHAFHwBHoAwL/C9044ldz58KhAAAAAElFTkSuQmCC\"></div>"
      ],
      "text/plain": [
       "-Graphics-"
      ]
     },
     "execution_count": 113,
     "metadata": {
      "text/html": [],
      "text/plain": []
     },
     "output_type": "execute_result"
    }
   ],
   "source": [
    "tMaxNum2 = tMaxNum;\n",
    "\n",
    "RNum = OverHat[r][t] /. solNum[[1]];\n",
    "PhiNum = \\[Phi][t] /. solNum[[1]];\n",
    "dRDtNum = D[OverHat[r][t] /. solNum[[1]], t];\n",
    "OmegaNum = D[\\[Phi][t] /. solNum[[1]], t];\n",
    "\n",
    "PlotR = Plot[RNum, {t, 0, tMaxNum2},\n",
    "  AxesLabel -> {TraditionalForm[OverHat[t]], TraditionalForm[OverHat[r]]},\n",
    "  PlotRange -> All,\n",
    "  ScalingFunctions -> {\"Log\", \"Log\"}\n",
    "];\n",
    "\n",
    "PlotRxRy = ParametricPlot[\n",
    "  {RNum Cos[PhiNum], RNum Sin[PhiNum]},\n",
    "  {t, 0, tMaxNum2},\n",
    "  AxesLabel -> {TraditionalForm[Subscript[OverHat[r], \"x\"]], TraditionalForm[Subscript[OverHat[r], \"y\"]]},\n",
    "  PlotRange -> All,\n",
    "  ScalingFunctions -> {\"SignedLog\", \"SignedLog\"}\n",
    "];\n",
    "\n",
    "PlotDRDt = Plot[dRDtNum, {t, 0, tMaxNum2},\n",
    "  AxesLabel -> {\n",
    "  TraditionalForm[OverHat[t]],\n",
    "  Style[TraditionalForm[HoldForm[D[OverHat[r], OverHat[t]]]], FontSize -> 7]\n",
    "  },\n",
    "  PlotRange -> All,\n",
    "  ScalingFunctions -> {\"Log\", \"SignedLog\"}\n",
    "];\n",
    "\n",
    "PlotPhi = Plot[PhiNum, {t, 0, tMaxNum2},\n",
    "  AxesLabel -> {TraditionalForm[OverHat[t]], TraditionalForm[OverHat[\\[Phi]]]},\n",
    "  PlotRange -> All,\n",
    "  ScalingFunctions -> {\"Linear\", \"Linear\"},\n",
    "  PlotStyle -> Red\n",
    "];\n",
    "\n",
    "PlotOmega = Plot[OmegaNum, {t, 0, tMaxNum2},\n",
    "  AxesLabel -> {TraditionalForm[OverHat[t]], TraditionalForm[OverHat[\\[Omega]]]},\n",
    "  PlotRange -> All,\n",
    "  ScalingFunctions -> {\"Log\", \"SignedLog\"},\n",
    "  PlotStyle -> Red\n",
    "];\n",
    "\n",
    "GraphicsRow[{PlotR, PlotRxRy, PlotDRDt, PlotPhi, PlotOmega}]"
   ]
  },
  {
   "cell_type": "code",
   "execution_count": 124,
   "metadata": {
    "vscode": {
     "languageId": "wolfram"
    }
   },
   "outputs": [
    {
     "data": {
      "text/html": [
       "<div><img alt=\"Output\" src=\"data:image/png;base64,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\"></div>"
      ],
      "text/plain": [
       "-Graphics-"
      ]
     },
     "execution_count": 124,
     "metadata": {
      "text/html": [],
      "text/plain": []
     },
     "output_type": "execute_result"
    }
   ],
   "source": [
    "EnergyNewtonNum = Energy /. OverHat[\\[Omega]][OverHat[t]] -> D[\\[Phi][OverHat[t]], OverHat[t]] /. OverHat[t] -> 0 /. icsNum[1];\n",
    "\n",
    "EnergyNum = Energy /. {\n",
    "  OverHat[r][OverHat[t]] -> RNum,\n",
    "  D[OverHat[r][OverHat[t]], OverHat[t]] -> dRDtNum,\n",
    "  OverHat[\\[Omega]][OverHat[t]] -> OmegaNum\n",
    "  };\n",
    "\n",
    "plotENewton = Plot[\n",
    "  EnergyNewtonNum, {t, 0, tMaxNum2},\n",
    "  PlotStyle -> Red,\n",
    "  ScalingFunctions -> {\"Log\", \"Linear\"},\n",
    "  PlotLegends -> {\"E Newton\"}\n",
    "];\n",
    "\n",
    "plotE = Plot[EnergyNum, {t, 0, tMaxNum2},\n",
    "  AxesLabel -> {TraditionalForm[OverHat[t]], \"E\"},\n",
    "  ScalingFunctions -> {\"Log\", \"Linear\"},\n",
    "  PlotLegends -> {TraditionalForm[\"E\"[OverHat[t]]]},\n",
    "  PlotRange -> All\n",
    "];\n",
    "\n",
    "PlotsE = Show[plotENewton, plotE, PlotRange -> All];\n",
    "\n",
    "AngularMomentumNewtonNum = AngularMomentum /. OverHat[\\[Omega]][OverHat[t]] -> D[\\[Phi][OverHat[t]], OverHat[t]] /. OverHat[t] -> 0 /. icsNum[1];\n",
    "\n",
    "AngularMomentumNum = AngularMomentum /. {\n",
    "  OverHat[r][OverHat[t]] -> RNum,\n",
    "  OverHat[\\[Omega]][OverHat[t]] -> OmegaNum\n",
    "};\n",
    "\n",
    "plotJNewton = Plot[\n",
    "  AngularMomentumNewtonNum, {t, 0, tMaxNum2},\n",
    "  PlotStyle -> Red,\n",
    "  ScalingFunctions -> {\"Log\", \"Linear\"},\n",
    "  PlotLegends -> {\"J Newton\"}\n",
    "];\n",
    "\n",
    "plotJ = Plot[AngularMomentumNum, {t, 0, tMaxNum2},\n",
    "  AxesLabel -> {TraditionalForm[OverHat[t]], \"J\"},\n",
    "  ScalingFunctions -> {\"Log\", \"Linear\"},\n",
    "  PlotLegends -> {TraditionalForm[\"J\"[OverHat[t]]]},\n",
    "  PlotRange -> All\n",
    "];\n",
    "\n",
    "PlotsJ = Show[plotJNewton, plotJ, PlotRange -> All];\n",
    "\n",
    "GraphicsRow[{PlotsE, PlotsJ}]"
   ]
  },
  {
   "cell_type": "markdown",
   "metadata": {},
   "source": [
    "<span style=\"color:brown\">**NB:**</span> Как можно видеть, численное решение при помощи Mathematica с участием пятой производной по времени пока не выполнимая задача."
   ]
  },
  {
   "cell_type": "markdown",
   "metadata": {},
   "source": [
    "# Потеря энергии за один период обращения"
   ]
  },
  {
   "cell_type": "markdown",
   "metadata": {},
   "source": [
    "Энергию гравитационного излучени невозможно локализовать в области меньше длины одной волны.\n",
    "\n",
    "Поэтому мгновенные изменения энергии и момента не имеют физического смысла.\n",
    "\n",
    "Однако, если мы просуммируем энергию и момент по полному периоду обращения, то с такими величинами можно работать.\n",
    "\n",
    "Рассчитаем в **нулевом приближении**, сколько энергии уносится из системы\n",
    "\n",
    "гравитационными волнами за один полный оборот, интегрируя по ньютоновской гиперболической траектории\n",
    "\n",
    "начиная с момента, когда тело \"бесконечно\" далеко, до момента минимального сближения и обратно:\n",
    "$$\n",
    "\\Delta \\hat{E} = 2 \\epsilon_G \\int\\limits_{\\hat{t}_{\\text{min}}}^{\\infty}I_E(\\hat{t}) d \\hat{t}.\n",
    "$$"
   ]
  },
  {
   "cell_type": "markdown",
   "metadata": {},
   "source": [
    "В приближении Ньютона $I_J$ и $I_E$ равны нулю.\n",
    "Тогда и момент импульса и энергия сохраняются.\n",
    "\n",
    "$\\hat{J} = |\\vec{\\hat{r}} \\times \\vec{\\hat{v}}| = |\\vec{\\hat{r}}_\\infty \\times \\vec{\\hat{v}}_\\infty| = \\hat{r}\\hat{v}_\\infty \\sin(\\phi)$\n",
    "\n",
    "Так как $\\phi = \\pi/2$ на бесконечности, то $\\hat{J} = b\\hat{v}_\\infty = u$,\n",
    "то $u$ - безразмерная скорость на бесконечности.\n",
    "\n",
    "Отсюда следует, что $\\hat{\\omega} = \\frac{u}{\\hat{r}_2}$"
   ]
  },
  {
   "cell_type": "code",
   "execution_count": 125,
   "metadata": {
    "vscode": {
     "languageId": "wolfram"
    }
   },
   "outputs": [],
   "source": [
    "OmegaReplace2 = {\n",
    "   OverHat[\\[Omega]][OverHat[t]] -> u/Subscript[OverHat[r], 2][OverHat[t]],\n",
    "   Derivative[n_][OverHat[\\[Omega]]][OverHat[t]] :> u D[1/Subscript[OverHat[r], 2][OverHat[t]], {OverHat[t], n}]\n",
    "};"
   ]
  },
  {
   "cell_type": "markdown",
   "metadata": {},
   "source": [
    "Заменим переменные\n",
    "$$\n",
    "\\Delta \\hat{E} = - 2 \\epsilon_G \\int\\limits_{\\hat{r}_2^{\\text{min}}}^{\\infty}\\frac{I_E(\\hat{r}_2)}{\\hat{r}_2^{(1)}}d \\hat{r}_2,\n",
    "$$"
   ]
  },
  {
   "cell_type": "markdown",
   "metadata": {},
   "source": [
    "Здесь $\\hat{r}_2^{\\text{min}}$ - квадрат минимального расстояния между объектами:"
   ]
  },
  {
   "cell_type": "code",
   "execution_count": 127,
   "metadata": {
    "vscode": {
     "languageId": "wolfram"
    }
   },
   "outputs": [
    {
     "data": {
      "text/html": [
       "<div><img alt=\"Output\" src=\"data:image/png;base64,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\"></div>"
      ],
      "text/plain": [
       "FormBox[FractionBox[RowBox[{SuperscriptBox[\"u\", \"4\"], \"-\", \n",
       "\n",
       " \n",
       ">         RowBox[{\"2\", \" \", SqrtBox[RowBox[{SuperscriptBox[\"u\", \"4\"], \"+\", \"1\"}]]}],\\\n",
       " \n",
       ">    \"+\", \n",
       "      \"2\"}], SuperscriptBox[\"u\", \"4\"]], TraditionalForm]\n"
      ]
     },
     "execution_count": 127,
     "metadata": {
      "text/html": [],
      "text/plain": []
     },
     "output_type": "execute_result"
    }
   ],
   "source": [
    "rMin2[u_] := (2 + u^4 - 2 Sqrt[1 + u^4])/u^4;\n",
    "rMin2[u] // TraditionalForm"
   ]
  },
  {
   "cell_type": "code",
   "execution_count": 130,
   "metadata": {
    "vscode": {
     "languageId": "wolfram"
    }
   },
   "outputs": [
    {
     "data": {
      "text/html": [
       "<div><img alt=\"Output\" src=\"data:image/png;base64,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\"></div>"
      ],
      "text/plain": [
       "FormBox[RowBox[{FractionBox[RowBox[{\"16\", \" \", SuperscriptBox[\"u\", \"6\"]}], \n",
       "\n",
       " \n",
       ">         RowBox[{SubsuperscriptBox[OverscriptBox[\"r\", \"^\"], \"2\", \"4\"], \" \", \n",
       "\n",
       " \n",
       ">           SuperscriptBox[SubscriptBox[OverscriptBox[\"r\", \"^\"], \"2\"], \"′\"]}]], \"-\", \n",
       "\n",
       " \n",
       ">        FractionBox[RowBox[{\"40\", \" \", SuperscriptBox[\"u\", \"4\"], \" \", \n",
       "\n",
       " \n",
       ">           SuperscriptBox[SubscriptBox[OverscriptBox[\"r\", \"^\"], \"2\"], \"′\"]}], \n",
       "\n",
       " \n",
       ">         SubsuperscriptBox[OverscriptBox[\"r\", \"^\"], \"2\", \"4\"]], \"-\", \n",
       "\n",
       " \n",
       ">        FractionBox[RowBox[{\"4\", \" \", SuperscriptBox[\"u\", \"2\"], \" \", \n",
       "\n",
       " \n",
       ">           SuperscriptBox[RowBox[{\"(\", \n",
       "\n",
       " \n",
       ">              SuperscriptBox[SubscriptBox[OverscriptBox[\"r\", \"^\"], \"2\"], \"′′\"], \")\"}], \n",
       "\n",
       " \n",
       ">            \"2\"]}], RowBox[{SubsuperscriptBox[OverscriptBox[\"r\", \"^\"], \"2\", \"2\"], \" \", \n",
       "\n",
       " \n",
       ">           SuperscriptBox[SubscriptBox[OverscriptBox[\"r\", \"^\"], \"2\"], \"′\"]}]], \"+\", \n",
       "\n",
       " \n",
       ">        FractionBox[RowBox[{\"24\", \" \", SuperscriptBox[\"u\", \"2\"], \" \", \n",
       "\n",
       " \n",
       ">           SuperscriptBox[SubscriptBox[OverscriptBox[\"r\", \"^\"], \"2\"], \"′\"], \" \", \n",
       "\n",
       " \n",
       ">           SuperscriptBox[SubscriptBox[OverscriptBox[\"r\", \"^\"], \"2\"], \"′′\"]}], \n",
       "\n",
       " \n",
       ">         SubsuperscriptBox[OverscriptBox[\"r\", \"^\"], \"2\", \"3\"]], \"+\", \n",
       "\n",
       " \n",
       ">        FractionBox[RowBox[{\"4\", \" \", SuperscriptBox[\"u\", \"2\"], \" \", \n",
       "\n",
       " \n",
       ">           SuperscriptBox[SubscriptBox[OverscriptBox[\"r\", \"^\"], \"2\"], \"′′′′\"]}], \n",
       "\n",
       " \n",
       ">         RowBox[{SubscriptBox[OverscriptBox[\"r\", \"^\"], \"2\"], \" \", \n",
       "\n",
       " \n",
       ">           SuperscriptBox[SubscriptBox[OverscriptBox[\"r\", \"^\"], \"2\"], \"′\"]}]], \"-\", \n",
       "\n",
       " \n",
       ">        FractionBox[RowBox[{\"11\", \" \", SuperscriptBox[\"u\", \"2\"], \" \", \n",
       "\n",
       " \n",
       ">           SuperscriptBox[RowBox[{\"(\", \n",
       "\n",
       " \n",
       ">              SuperscriptBox[SubscriptBox[OverscriptBox[\"r\", \"^\"], \"2\"], \"′\"], \")\"}], \n",
       "\n",
       " \n",
       ">            \"3\"]}], SubsuperscriptBox[OverscriptBox[\"r\", \"^\"], \"2\", \"4\"]], \"-\", \n",
       "\n",
       " \n",
       ">        FractionBox[RowBox[{\"12\", \" \", SuperscriptBox[\"u\", \"2\"], \" \", \n",
       "\n",
       " \n",
       ">           SuperscriptBox[SubscriptBox[OverscriptBox[\"r\", \"^\"], \"2\"], \"′′′\"]}], \n",
       "\n",
       " \n",
       ">         SubsuperscriptBox[OverscriptBox[\"r\", \"^\"], \"2\", \"2\"]], \"+\", \n",
       "\n",
       " \n",
       ">        FractionBox[SuperscriptBox[SubscriptBox[OverscriptBox[\"r\", \"^\"], \"2\"],\\\n",
       " \n",
       ">    \"′′′′′\"], \n",
       "      \"3\"]}], TraditionalForm]\n"
      ]
     },
     "execution_count": 130,
     "metadata": {
      "text/html": [],
      "text/plain": []
     },
     "output_type": "execute_result"
    }
   ],
   "source": [
    "(* Минус учтём сразу *)\n",
    "dEdr = Simplify[-dEdt/D[Subscript[OverHat[r], 2][OverHat[t]], OverHat[t]] //. OmegaReplace2];\n",
    "Expand[Simplify[dEdr]] // TraditionalForm"
   ]
  },
  {
   "cell_type": "markdown",
   "metadata": {},
   "source": [
    "<span style=\"color:brown\">**NB:**</span> Выражение для $dE/dr$ <span style=\"color:green\">**сопадает**</span> с выраженем для интегранта из binary_catch1.pdf, если учесть деление на $\\hat{r}_2^{(1)}$"
   ]
  },
  {
   "cell_type": "markdown",
   "metadata": {},
   "source": [
    "Из сохранения энергии следует, что\n",
    "$\\hat{E} = \\hat{E}_\\infty = \\frac{u^2}{2} = \\left(\\frac{(\\hat{r}^{(1)})^2}{2} + \\frac{\\hat{r}^2 \\hat{\\omega}^2}{2} - \\frac{1}{\\hat{r}}\\right)$\n",
    "\n",
    "Тогда можно найти $\\hat{r}_2^{(1)}$:"
   ]
  },
  {
   "cell_type": "code",
   "execution_count": 133,
   "metadata": {
    "vscode": {
     "languageId": "wolfram"
    }
   },
   "outputs": [
    {
     "data": {
      "text/html": [
       "<div><img alt=\"Output\" src=\"data:image/png;base64,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\"></div>"
      ],
      "text/plain": [
       "FormBox[RowBox[{RowBox[{\"-\", \"2\"}], \" \", \n",
       "\n",
       " \n",
       ">        SqrtBox[RowBox[{RowBox[{SubscriptBox[OverscriptBox[\"r\", \"^\"], \"2\"], \" \", \n",
       "\n",
       " \n",
       ">             SuperscriptBox[\"u\", \"2\"]}], \"+\", \n",
       "\n",
       " \n",
       ">           RowBox[{\"2\", \" \", SqrtBox[SubscriptBox[OverscriptBox[\"r\", \"^\"], \"2\"]]}],\\\n",
       " \n",
       ">    \"-\", \n",
       "        SuperscriptBox[\"u\", \"2\"]}]]}], TraditionalForm]\n"
      ]
     },
     "execution_count": 133,
     "metadata": {
      "text/html": [],
      "text/plain": []
     },
     "output_type": "execute_result"
    }
   ],
   "source": [
    "eq = Energy - u^2/2 //. Flatten[{\n",
    "  ToR2Replacement,\n",
    "  OmegaReplace2,\n",
    "  D[Subscript[OverHat[r], 2][OverHat[t]], OverHat[t]]^2 -> x^2\n",
    "}];\n",
    "\n",
    "sol = Solve[eq == 0, x][[1]];\n",
    "\n",
    "x /. sol[[1]] // TraditionalForm"
   ]
  },
  {
   "cell_type": "markdown",
   "metadata": {},
   "source": [
    "А также $\\hat{r}_2^{(i)}$ для $i = 1\\dots5$"
   ]
  },
  {
   "cell_type": "code",
   "execution_count": 137,
   "metadata": {
    "vscode": {
     "languageId": "wolfram"
    }
   },
   "outputs": [
    {
     "data": {
      "text/html": [
       "<div><img alt=\"Output\" src=\"data:image/png;base64,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\"></div>"
      ],
      "text/plain": [
       "FormBox[RowBox[{\"{\", RowBox[{RowBox[{RowBox[{\"-\", \"2\"}], \" \", \n",
       "\n",
       " \n",
       ">            SqrtBox[RowBox[{RowBox[{SubscriptBox[OverscriptBox[\"r\", \"^\"], \"2\"], \" \", \n",
       "\n",
       " \n",
       ">                 SuperscriptBox[\"u\", \"2\"]}], \"+\", \n",
       "\n",
       " \n",
       ">               RowBox[{\"2\", \" \", SqrtBox[SubscriptBox[OverscriptBox[\"r\", \"^\"], \"2\"]]}],\\\n",
       " \n",
       ">    \n",
       "            \"-\", SuperscriptBox[\"u\", \"2\"]}]]}], \",\", \n",
       "\n",
       " \n",
       ">          RowBox[{\"2\", \" \", RowBox[{\"(\", \n",
       "           RowBox[{FractionBox[\"1\", \n",
       "\n",
       " \n",
       ">                 SqrtBox[SubscriptBox[OverscriptBox[\"r\", \"^\"], \"2\"]]], \"+\", \n",
       "\n",
       " \n",
       ">                SuperscriptBox[\"u\", \"2\"]}], \")\"}]}], \",\", \n",
       "\n",
       " \n",
       ">          FractionBox[RowBox[{\"2\", \" \", \n",
       "\n",
       " \n",
       ">             SqrtBox[RowBox[{RowBox[{SubscriptBox[OverscriptBox[\"r\", \"^\"], \"2\"], \" \", \n",
       "\n",
       " \n",
       ">                  SuperscriptBox[\"u\", \"2\"]}], \"+\", \n",
       "\n",
       " \n",
       ">                RowBox[{\"2\", \" \", SqrtBox[SubscriptBox[OverscriptBox[\"r\", \"^\"], \n",
       "\n",
       " \n",
       ">                    \"2\"]]}], \"-\", SuperscriptBox[\"u\", \"2\"]}]]}], \n",
       "\n",
       " \n",
       ">           SubsuperscriptBox[OverscriptBox[\"r\", \"^\"], \"2\", RowBox[{\"3\", \"/\", \"2\"}]]], \n",
       "\n",
       " \n",
       ">          \",\", FractionBox[RowBox[{\"2\", \" \", \n",
       "\n",
       " \n",
       ">             RowBox[{\"(\", RowBox[{RowBox[{\"2\", \" \", \n",
       "\n",
       " \n",
       ">                   SubscriptBox[OverscriptBox[\"r\", \"^\"], \"2\"], \" \", \n",
       "\n",
       " \n",
       ">                   SuperscriptBox[\"u\", \"2\"]}], \"+\", \n",
       "\n",
       " \n",
       ">                 RowBox[{\"5\", \" \", SqrtBox[SubscriptBox[OverscriptBox[\"r\", \"^\"], \n",
       "\n",
       " \n",
       ">                     \"2\"]]}], \"-\", RowBox[{\"3\", \" \", SuperscriptBox[\"u\", \"2\"]}]}],\\\n",
       " \n",
       ">    \")\"}\\\n",
       "]}], SubsuperscriptBox[OverscriptBox[\"r\", \"^\"], \"2\", RowBox[{\"5\", \"/\",\\\n",
       " \n",
       ">    \"2\"}]]], \",\", \n",
       "       FractionBox[RowBox[{\"2\", \" \", \n",
       "\n",
       " \n",
       ">             SqrtBox[RowBox[{RowBox[{SubscriptBox[OverscriptBox[\"r\", \"^\"], \"2\"], \" \", \n",
       "\n",
       " \n",
       ">                  SuperscriptBox[\"u\", \"2\"]}], \"+\", \n",
       "\n",
       " \n",
       ">                RowBox[{\"2\", \" \", SqrtBox[SubscriptBox[OverscriptBox[\"r\", \"^\"], \n",
       "\n",
       " \n",
       ">                    \"2\"]]}], \"-\", SuperscriptBox[\"u\", \"2\"]}]], \" \", \n",
       "\n",
       " \n",
       ">             RowBox[{\"(\", RowBox[{RowBox[{\"6\", \" \", \n",
       "\n",
       " \n",
       ">                   SubscriptBox[OverscriptBox[\"r\", \"^\"], \"2\"], \" \", \n",
       "\n",
       " \n",
       ">                   SuperscriptBox[\"u\", \"2\"]}], \"+\", \n",
       "\n",
       " \n",
       ">                 RowBox[{\"20\", \" \", SqrtBox[SubscriptBox[OverscriptBox[\"r\", \"^\"], \n",
       "\n",
       " \n",
       ">                     \"2\"]]}], \"-\", RowBox[{\"15\", \" \", SuperscriptBox[\"u\", \"2\"]}]}],\\\n",
       " \n",
       ">    \")\"}\\\n",
       "]}], SubsuperscriptBox[OverscriptBox[\"r\", \"^\"], \"2\", RowBox[{\"7\", \"/\",\\\n",
       " \n",
       ">    \"2\"}]]]}], \"}\"}]\\\n",
       ", TraditionalForm]\n"
      ]
     },
     "execution_count": 137,
     "metadata": {
      "text/html": [],
      "text/plain": []
     },
     "output_type": "execute_result"
    }
   ],
   "source": [
    "replacementRule = D[Subscript[OverHat[r], 2][OverHat[t]], OverHat[t]] :> x /. sol[[1]];\n",
    "\n",
    "(* Рекурсивно вычисляем производные *)\n",
    "dr2 = NestList[\n",
    "   Simplify[D[#, OverHat[t]] /. replacementRule] &,\n",
    "   x /. sol[[1]],\n",
    "   4\n",
    "];\n",
    "\n",
    "dr2 // TraditionalForm"
   ]
  },
  {
   "cell_type": "markdown",
   "metadata": {},
   "source": [
    "Заменяя вхождение **всех** производных в выражении для $dE/dr$, получим"
   ]
  },
  {
   "cell_type": "code",
   "execution_count": 139,
   "metadata": {
    "vscode": {
     "languageId": "wolfram"
    }
   },
   "outputs": [
    {
     "data": {
      "text/html": [
       "<div><img alt=\"Output\" src=\"data:image/png;base64,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\"></div>"
      ],
      "text/plain": [
       "FormBox[FractionBox[RowBox[{\"2\", \" \", \n",
       "      RowBox[{\"(\", RowBox[{RowBox[{\"6\", \" \", \n",
       "\n",
       " \n",
       ">               SubsuperscriptBox[OverscriptBox[\"r\", \"^\"], \"2\", \"2\"], \" \", \n",
       "\n",
       " \n",
       ">               SuperscriptBox[\"u\", \"4\"]}], \"+\", \n",
       "\n",
       " \n",
       ">             RowBox[{SubscriptBox[OverscriptBox[\"r\", \"^\"], \"2\"], \" \", \n",
       "\n",
       " \n",
       ">               RowBox[{\"(\", RowBox[{RowBox[{\"51\", \" \", SuperscriptBox[\"u\", \"4\"]}], \n",
       "\n",
       " \n",
       ">                   \"+\", \"40\"}], \")\"}]}], \"+\", \n",
       "\n",
       " \n",
       ">             RowBox[{\"32\", \" \", SubsuperscriptBox[OverscriptBox[\"r\", \"^\"], \"2\", \n",
       "\n",
       " \n",
       ">                RowBox[{\"3\", \"/\", \"2\"}]], \" \", SuperscriptBox[\"u\", \"2\"]}], \"+\", \n",
       "\n",
       " \n",
       ">             RowBox[{\"100\", \" \", SqrtBox[SubscriptBox[OverscriptBox[\"r\", \"^\"], \"2\"]], \n",
       "\n",
       " \n",
       ">               \" \", SuperscriptBox[\"u\", \"2\"]}], \"-\", \n",
       "\n",
       " \n",
       ">             RowBox[{\"75\", \" \", SuperscriptBox[\"u\", \"4\"]}]}], \")\"}]}], \n",
       "\n",
       " \n",
       ">       RowBox[{\"3\", \" \", SubsuperscriptBox[OverscriptBox[\"r\", \"^\"], \"2\", \n",
       "\n",
       " \n",
       ">          RowBox[{\"7\", \"/\", \"2\"}]], \" \", \n",
       "\n",
       " \n",
       ">         SqrtBox[RowBox[{RowBox[{SubscriptBox[OverscriptBox[\"r\", \"^\"], \"2\"], \" \", \n",
       "\n",
       " \n",
       ">              SuperscriptBox[\"u\", \"2\"]}], \"+\", \n",
       "\n",
       " \n",
       ">            RowBox[{\"2\", \" \", SqrtBox[SubscriptBox[OverscriptBox[\"r\", \"^\"], \"2\"]]}],\\\n",
       " \n",
       ">    \"-\", \n",
       "         SuperscriptBox[\"u\", \"2\"]}]]}]], TraditionalForm]\n"
      ]
     },
     "execution_count": 139,
     "metadata": {
      "text/html": [],
      "text/plain": []
     },
     "output_type": "execute_result"
    }
   ],
   "source": [
    "dEdrFinal = Fold[ (* Последовательно применяем замены *)\n",
    "  Simplify[#1 /.\n",
    "    D[Subscript[OverHat[r], 2][OverHat[t]], {OverHat[t], #2}] -> dr2[[#2]]] &,\n",
    "  dEdr,\n",
    "  Range[5]\n",
    "];\n",
    "\n",
    "Simplify[dEdrFinal] // TraditionalForm"
   ]
  },
  {
   "cell_type": "markdown",
   "metadata": {},
   "source": [
    "$$\n",
    "  \\Delta \\hat{E}(u) = \\epsilon_G \\frac{4}{3}\\int\\limits_{\\hat{r}_2^\\text{min}}^\\infty \\frac{32 \\hat{r}_2^{3/2} u^2+6 \\hat{r}_2^2 u^4+\\hat{r}_2 \\left(51 u^4+40\\right)+100 \\sqrt{\\hat{r}_2} u^2-75 u^4}{\\hat{r}_2^{7/2} \\sqrt{\\hat{r}_2 u^2+2 \\sqrt{\\hat{r}_2}-u^2}} \\, d\\hat{r}_2,\n",
    "$$\n",
    "где при $\\hat{r}_2 \\ge \\hat{r}_2^{\\text{min}}$ выражение $\\hat{r}_2u^2 + 2\\sqrt{\\hat{r}_2} - u^2 \\ge 0$."
   ]
  },
  {
   "cell_type": "markdown",
   "metadata": {},
   "source": [
    "Полученный выше интеграл **компактнее**, чем тот, что рассмотрен в файле binary_catch2.pdf\n",
    "$$\n",
    "  \\Delta \\hat{E}(u) = \\epsilon_G \\frac{4}{3}\\int\\limits_{\\hat{r}_2^\\text{min}}^\\infty \\frac{24\\hat{r}_2^2u^6 + 48u^6\\hat{r}_2 + 120\\hat{r}_2^{3/2}u^4 - 96u^6 + 96u^4\\sqrt{\\hat{r}_2} - u^2\\hat{r}_2^2 + 133u^2\\hat{r}_2 - 2\\hat{r}_2^{3/2}}{\\hat{r}_2^4\\sqrt{u^2\\hat{r}_2 + 2\\sqrt{\\hat{r}_2} - u^2}} \\, d\\hat{r}_2,\n",
    "$$"
   ]
  },
  {
   "cell_type": "markdown",
   "metadata": {},
   "source": [
    "<span style=\"color:brown\">**NB:**</span> Однако, будучи аналитически взятым будет полностью <span style=\"color:green\">**совпадать!**</span>\n",
    "\n",
    "Смотри подробности в файле binary_catch_integral.ipynb\n",
    " \n",
    "Там компактный интеграл назван $I_5$, а второй $I_4$.\n",
    "\n",
    "Выпишем ответ:"
   ]
  },
  {
   "cell_type": "code",
   "execution_count": 141,
   "metadata": {
    "vscode": {
     "languageId": "wolfram"
    }
   },
   "outputs": [
    {
     "data": {
      "text/html": [
       "<div><img alt=\"Output\" src=\"data:image/png;base64,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\"></div>"
      ],
      "text/plain": [
       "FormBox[RowBox[{\"-\", FractionBox[RowBox[{SubscriptBox[\"ϵ\", \"G\"], \" \", \n",
       "\n",
       " \n",
       ">           RowBox[{\"(\", RowBox[{RowBox[{RowBox[{\"(\", \n",
       "\n",
       " \n",
       ">                   RowBox[{RowBox[{\"673\", \" \", SuperscriptBox[\"u\", \"4\"]}], \"+\", \n",
       "\n",
       " \n",
       ">                     \"1275\"}], \")\"}], \" \", SuperscriptBox[\"u\", \"2\"]}], \"+\", \n",
       "\n",
       " \n",
       ">               RowBox[{\"3\", \" \", RowBox[{\"(\", \n",
       "\n",
       " \n",
       ">                   RowBox[{RowBox[{\"37\", \" \", SuperscriptBox[\"u\", \"8\"]}], \"+\", \n",
       "\n",
       " \n",
       ">                     RowBox[{\"366\", \" \", SuperscriptBox[\"u\", \"4\"]}], \"+\", \"425\"}],\\\n",
       " \n",
       ">    \")\"}\\\n",
       "], \" \", RowBox[{\"(\", RowBox[{RowBox[{SuperscriptBox[\"tan\", RowBox[{\"-\",\\\n",
       " \n",
       ">    \"1\"}]], \n",
       "                    \"(\", FractionBox[\"1\", SuperscriptBox[\"u\", \"2\"]],\\\n",
       " \n",
       ">    \")\"}], \"+\", \n",
       "                  FractionBox[\"π\", \"2\"]}], \")\"}]}]}], \")\"}]}], \n",
       "\n",
       " \n",
       ">         RowBox[{\"9\", \" \", SuperscriptBox[\"u\", \"7\"]}]]}], TraditionalForm]\n"
      ]
     },
     "execution_count": 141,
     "metadata": {
      "text/html": [],
      "text/plain": []
     },
     "output_type": "execute_result"
    }
   ],
   "source": [
    "DeltaE = -Subscript[\\[Epsilon], G]/9*(u^2*(1275 + 673*u^4) + 3*(425 + 366*u^4 + 37*u^8)*(Pi/2 + ArcTan[u^(-2)]))/u^7;\n",
    "DeltaE // TraditionalForm"
   ]
  },
  {
   "cell_type": "code",
   "execution_count": 142,
   "metadata": {
    "vscode": {
     "languageId": "wolfram"
    }
   },
   "outputs": [
    {
     "data": {
      "text/html": [
       "<div>&#36;&#36;&#45;&#92;&#102;&#114;&#97;&#99;&#123;&#92;&#101;&#112;&#115;&#105;&#108;&#111;&#110;&#32;&#95;&#71;&#32;&#92;&#108;&#101;&#102;&#116;&#40;&#92;&#108;&#101;&#102;&#116;&#40;&#54;&#55;&#51;&#32;&#117;&#94;&#52;&#43;&#49;&#50;&#55;&#53;&#92;&#114;&#105;&#103;&#104;&#116;&#41;&#32;&#117;&#94;&#50;&#43;&#51;&#32;&#92;&#108;&#101;&#102;&#116;&#40;&#51;&#55;&#32;&#117;&#94;&#56;&#43;&#51;&#54;&#54;&#32;&#117;&#94;&#52;&#43;&#52;&#50;&#53;&#92;&#114;&#105;&#103;&#104;&#116;&#41;&#32;&#92;&#108;&#101;&#102;&#116;&#40;&#92;&#116;&#97;&#110;&#32;&#94;&#123;&#45;&#49;&#125;&#92;&#108;&#101;&#102;&#116;&#40;&#92;&#102;&#114;&#97;&#99;&#123;&#49;&#125;&#123;&#117;&#94;&#50;&#125;&#92;&#114;&#105;&#103;&#104;&#116;&#41;&#43;&#92;&#102;&#114;&#97;&#99;&#123;&#92;&#112;&#105;&#32;&#125;&#123;&#50;&#125;&#92;&#114;&#105;&#103;&#104;&#116;&#41;&#92;&#114;&#105;&#103;&#104;&#116;&#41;&#125;&#123;&#57;&#32;&#117;&#94;&#55;&#125;&#36;&#36;</div>"
      ],
      "text/plain": [
       "-\\frac{\\epsilon _G \\left(\\left(673 u^4+1275\\right) u^2+3 \\left(37 u^8+366 u^4+425\\right)\\\n",
       " \n",
       ">   \\left(\\tan ^{-1}\\left(\\frac{1}{u^2}\\right)+\\frac{\\pi }{2}\\right)\\right)}{9 u^7}"
      ]
     },
     "execution_count": 142,
     "metadata": {
      "text/html": [],
      "text/plain": []
     },
     "output_type": "execute_result"
    }
   ],
   "source": [
    "TeXForm[DeltaE]"
   ]
  },
  {
   "cell_type": "markdown",
   "metadata": {},
   "source": [
    "<span style=\"color:red\">**TODO_3:**</span> Обсудить почему при малых $u$ значения $\\Delta \\hat{E}(u)$ безгранично растут.\n",
    "\n",
    "В задаче расчета средней потери энергии на грав изулчение предполагается близость к Ньютону.\n",
    "При малых скоростях эта близость должна приводить к энергиям после одного оборота близким к нулю,\n",
    "в противном случае мы сильно отклонимся от Ньютона,\n",
    "получая несамосогласованные рассуждения."
   ]
  },
  {
   "cell_type": "code",
   "execution_count": 143,
   "metadata": {
    "vscode": {
     "languageId": "wolfram"
    }
   },
   "outputs": [
    {
     "data": {
      "text/html": [
       "<div><img alt=\"Output\" src=\"data:image/png;base64,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\"></div>"
      ],
      "text/plain": [
       "FormBox[InterpretationBox[RowBox[{RowBox[{\"-\", \n",
       "\n",
       " \n",
       ">           FractionBox[RowBox[{\"425\", \" \", \n",
       "\n",
       " \n",
       ">              RowBox[{\"(\", RowBox[{\"π\", \" \", SubscriptBox[\"ϵ\", \"G\"]}], \")\"}]}], \n",
       "\n",
       " \n",
       ">            RowBox[{\"3\", \" \", SuperscriptBox[\"u\", \"7\"]}]]}], \"+\", \n",
       "\n",
       " \n",
       ">         InterpretationBox[RowBox[{\"O\", \"(\", \n",
       "\n",
       " \n",
       ">            FractionBox[\"1\", SuperscriptBox[\"u\", \"3\"]], \")\"}], \n",
       "\n",
       " \n",
       ">          SeriesData[u, 0, List[], -7, -3, 1], Rule[Editable, False]]}], \n",
       "\n",
       " \n",
       ">       SeriesData[u, 0, List[Times[Rational[-425, 3], Pi, Subscript[\\[Epsilon], G]]], \n",
       "\n",
       " \n",
       ">        -7, -3, 1], Rule[Editable, False]], TraditionalForm]\n"
      ]
     },
     "execution_count": 143,
     "metadata": {
      "text/html": [],
      "text/plain": []
     },
     "output_type": "execute_result"
    }
   ],
   "source": [
    "Simplify[Series[DeltaE, {u, 0, -4}]] // TraditionalForm"
   ]
  },
  {
   "cell_type": "markdown",
   "metadata": {},
   "source": [
    "## Условия захвата\n",
    "\n",
    "На бесконечнос энергия объекта была $u^2/2$\n",
    "\n",
    "Если $2|\\Delta \\hat{E}| > u^2$, то гиперболическая орбита (или параболическая, если $u = 0$) превратится в эллиптическую за один полный оборот,\n",
    "\n",
    "далее тело уже не сможет \"уходить\" на бесконечность.\n",
    "\n",
    "Из-за ограничения локализации точнее условие захвата поставить **нельзя**"
   ]
  },
  {
   "cell_type": "code",
   "execution_count": 146,
   "metadata": {
    "vscode": {
     "languageId": "wolfram"
    }
   },
   "outputs": [
    {
     "data": {
      "text/html": [
       "<div><img alt=\"Output\" src=\"data:image/png;base64,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\"></div>"
      ],
      "text/plain": [
       "FormBox[RowBox[{SuperscriptBox[\"u\", \"9\"], \"<\", \n",
       "\n",
       " \n",
       ">        RowBox[{FractionBox[\"2\", \"9\"], \" \", SubscriptBox[\"ϵ\", \"G\"], \" \", \n",
       "\n",
       " \n",
       ">          RowBox[{\"(\", RowBox[{RowBox[{RowBox[{\"(\", \n",
       "\n",
       " \n",
       ">                  RowBox[{RowBox[{\"673\", \" \", SuperscriptBox[\"u\", \"4\"]}], \"+\", \n",
       "\n",
       " \n",
       ">                    \"1275\"}], \")\"}], \" \", SuperscriptBox[\"u\", \"2\"]}], \"+\", \n",
       "\n",
       " \n",
       ">              RowBox[{FractionBox[\"3\", \"2\"], \" \", \n",
       "\n",
       " \n",
       ">                RowBox[{\"(\", RowBox[{RowBox[{\"37\", \" \", SuperscriptBox[\"u\", \"8\"]}], \n",
       "\n",
       " \n",
       ">                    \"+\", RowBox[{\"366\", \" \", SuperscriptBox[\"u\", \"4\"]}], \"+\", \"425\"}], \n",
       "\n",
       " \n",
       ">                  \")\"}], \" \", RowBox[{\"(\", \n",
       "               RowBox[{RowBox[{\"2\", \" \", \n",
       "\n",
       " \n",
       ">                      RowBox[{SuperscriptBox[\"tan\", RowBox[{\"-\", \"1\"}]], \"(\", \n",
       "\n",
       " \n",
       ">                        FractionBox[\"1\", SuperscriptBox[\"u\", \"2\"]], \")\"}]}], \"+\",\\\n",
       " \n",
       ">    \"π\"}], \n",
       "               \")\"}]}]}], \")\"}]}]}], TraditionalForm]\n"
      ]
     },
     "execution_count": 146,
     "metadata": {
      "text/html": [],
      "text/plain": []
     },
     "output_type": "execute_result"
    }
   ],
   "source": [
    "DeltaE2 = Simplify[DeltaE + u^2/2];\n",
    "uMax2 = Simplify[2 u^7 DeltaE2];\n",
    "Simplify[uMax2 < 0] // TraditionalForm"
   ]
  },
  {
   "cell_type": "markdown",
   "metadata": {},
   "source": [
    "<span style=\"color:brown\">**NB:**</span> Условие захвата, <span style=\"color:green\">**совпадает**</span> с условием из файла binary_catch.pdf"
   ]
  },
  {
   "cell_type": "markdown",
   "metadata": {},
   "source": [
    "<span style=\"color:red\">**TODO_4:**</span> Сравнить условия захвата на параболической траектории $u = 0$ с другими авторами"
   ]
  },
  {
   "cell_type": "code",
   "execution_count": 147,
   "metadata": {
    "vscode": {
     "languageId": "wolfram"
    }
   },
   "outputs": [
    {
     "data": {
      "text/html": [
       "<div><img alt=\"Output\" src=\"data:image/png;base64,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\"></div>"
      ],
      "text/plain": [
       "FormBox[InterpretationBox[RowBox[{FractionBox[RowBox[{\"850\", \" \", \"π\", \" \", \n",
       "\n",
       " \n",
       ">            SubscriptBox[\"ϵ\", \"G\"]}], \"3\"], \"+\", \n",
       "\n",
       " \n",
       ">         InterpretationBox[RowBox[{\"O\", \"(\", SuperscriptBox[\"u\", \"1\"], \")\"}], \n",
       "\n",
       " \n",
       ">          SeriesData[u, 0, List[], 0, 1, 1], Rule[Editable, False]]}], \n",
       "\n",
       " \n",
       ">       SeriesData[u, 0, List[Times[Rational[850, 3], Pi, Subscript[\\[Epsilon], G]]], 0,\\\n",
       " \n",
       ">    \n",
       "     1, 1], Rule[Editable, False]], TraditionalForm]\n"
      ]
     },
     "execution_count": 147,
     "metadata": {
      "text/html": [],
      "text/plain": []
     },
     "output_type": "execute_result"
    }
   ],
   "source": [
    "Simplify[Series[(u^9 - uMax2), {u, 0, 0}]] // TraditionalForm"
   ]
  },
  {
   "cell_type": "markdown",
   "metadata": {},
   "source": [
    "## Поведение $\\hat{E}_1$ в зависимости от начальной сокрости $u$ и параметра $\\epsilon_G$\n",
    "\n",
    "$$\n",
    "\\hat{E}_1 = \\hat{E}_0 + \\Delta \\hat{E}\n",
    "$$\n",
    "\n",
    "$\\epsilon_G = \\frac{2}{5}\\frac{\\mu}{M} \\left( \\frac{r_s}{2b} \\right)^{\\frac{5}{2}}$,\n",
    "где $r_s = \\frac{2 G M}{c^2}$ - сумма радиусов Шварцшильда двух тел.\n",
    "\n",
    "При прицельных параметрах $b$ сравнимых с радиусом Шварцшильда, $\\epsilon_G$ не мал (смотри $\\epsilon_G = 10$).\n",
    "\n",
    "Энергия всегда отрицальна, тела уже в захвате.\n",
    "\n",
    "Если прицельный параметр много больше, чем $r_s$, то есть $\\epsilon_G$ мал,\n",
    "то находится такая скорость, при значении которой (и меньших скоростях) происходит захват."
   ]
  },
  {
   "cell_type": "code",
   "execution_count": 148,
   "metadata": {
    "vscode": {
     "languageId": "wolfram"
    }
   },
   "outputs": [
    {
     "data": {
      "text/html": [
       "<div><img alt=\"Output\" src=\"data:image/png;base64,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\"></div>"
      ],
      "text/plain": [
       "Legended[-Graphics-, Placed[LineLegend[{Directive[Opacity[1.], RGBColor[0.24, 0.6, 0.8], \n",
       " \n",
       ">       AbsoluteThickness[2]], Directive[Opacity[1.], RGBColor[0.95, 0.627, 0.1425], \n",
       " \n",
       ">       AbsoluteThickness[2]], Directive[Opacity[1.], RGBColor[0.455, 0.7, 0.21], \n",
       " \n",
       ">       AbsoluteThickness[2]], Directive[Opacity[1.], \n",
       " \n",
       ">       RGBColor[0.922526, 0.385626, 0.209179], AbsoluteThickness[2]], \n",
       " \n",
       ">      Directive[Opacity[1.], RGBColor[0.578, 0.51, 0.85], AbsoluteThickness[2]], \n",
       " \n",
       ">      Directive[Opacity[1.], RGBColor[0.772079, 0.431554, 0.102387], \n",
       " \n",
       ">       AbsoluteThickness[2]], Directive[Opacity[1.], RGBColor[0.4, 0.64, 1.], \n",
       " \n",
       ">       AbsoluteThickness[2]]}, {EpsilonG = 10, EpsilonG = 2, EpsilonG = 1, \n",
       " \n",
       ">      EpsilonG = 0.5, EpsilonG = 0.1, EpsilonG = 10^(-2), EpsilonG = 10^(-5)}, \n",
       " \n",
       ">     LegendMarkers -> None, LabelStyle -> {}, LegendLayout -> Column], After, Identity]]"
      ]
     },
     "execution_count": 148,
     "metadata": {
      "text/html": [],
      "text/plain": []
     },
     "output_type": "execute_result"
    }
   ],
   "source": [
    "Plot[\n",
    "  {\n",
    "    u^2/2 + DeltaE /. Subscript[\\[Epsilon], G] -> 10,\n",
    "    u^2/2 + DeltaE /. Subscript[\\[Epsilon], G] -> 2,\n",
    "    u^2/2 + DeltaE /. Subscript[\\[Epsilon], G] -> 1,\n",
    "    u^2/2 + DeltaE /. Subscript[\\[Epsilon], G] -> 0.5,\n",
    "    u^2/2 + DeltaE /. Subscript[\\[Epsilon], G] -> 0.1,\n",
    "    u^2/2 + DeltaE /. Subscript[\\[Epsilon], G] -> 10^(-2),\n",
    "    u^2/2 + DeltaE /. Subscript[\\[Epsilon], G] -> 10^(-5)\n",
    "  },\n",
    "  {u, 0.0, 100},\n",
    "  AxesLabel -> {\"u\", \"E1\"},\n",
    "  PlotLegends -> {\n",
    "    \"EpsilonG = 10\",\n",
    "    \"EpsilonG = 2\",\n",
    "    \"EpsilonG = 1\",\n",
    "    \"EpsilonG = 0.5\",\n",
    "    \"EpsilonG = 0.1\",\n",
    "    \"EpsilonG = 10^(-2)\",\n",
    "    \"EpsilonG = 10^(-5)\"\n",
    "    },\n",
    "  PlotRange -> All,\n",
    "  ScalingFunctions -> {\"Log\", \"SignedLog\"}\n",
    "]"
   ]
  },
  {
   "cell_type": "markdown",
   "metadata": {},
   "source": [
    "# Потеря момента за один период обращения\n",
    "\n",
    "$$\n",
    "\\Delta \\hat{J} = 2 \\epsilon_G \\int\\limits_{\\hat{t}_{\\text{min}}}^{\\infty}I_J(\\hat{t}) d \\hat{t}\n",
    "= - 2 \\epsilon_G \\int\\limits_{\\hat{r}_2^{\\text{min}}}^{\\infty}\\frac{I_J(\\hat{r}_2)}{\\hat{r}_2^{(1)}}d \\hat{r}_2,\n",
    "$$\n",
    "\n",
    "где мы заменим $\\hat{\\omega}$ на $\\frac{u}{\\hat{r}_2}$"
   ]
  },
  {
   "cell_type": "code",
   "execution_count": 151,
   "metadata": {
    "vscode": {
     "languageId": "wolfram"
    }
   },
   "outputs": [
    {
     "data": {
      "text/html": [
       "<div><img alt=\"Output\" src=\"data:image/png;base64,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\"></div>"
      ],
      "text/plain": [
       "FormBox[RowBox[{FractionBox[RowBox[{\"16\", \" \", SuperscriptBox[\"u\", \"5\"]}], \n",
       "\n",
       " \n",
       ">         RowBox[{SubsuperscriptBox[OverscriptBox[\"r\", \"^\"], \"2\", \"3\"], \" \", \n",
       "\n",
       " \n",
       ">           SuperscriptBox[SubscriptBox[OverscriptBox[\"r\", \"^\"], \"2\"], \"′\"]}]], \"-\", \n",
       "\n",
       " \n",
       ">        FractionBox[RowBox[{\"20\", \" \", SuperscriptBox[\"u\", \"3\"], \" \", \n",
       "\n",
       " \n",
       ">           SuperscriptBox[SubscriptBox[OverscriptBox[\"r\", \"^\"], \"2\"], \"′\"]}], \n",
       "\n",
       " \n",
       ">         SubsuperscriptBox[OverscriptBox[\"r\", \"^\"], \"2\", \"3\"]], \"-\", \n",
       "\n",
       " \n",
       ">        FractionBox[RowBox[{\"4\", \" \", \"u\", \" \", \n",
       "        SuperscriptBox[RowBox[{\"(\", \n",
       "\n",
       " \n",
       ">              SuperscriptBox[SubscriptBox[OverscriptBox[\"r\", \"^\"], \"2\"], \"′′\"], \")\"}], \n",
       "\n",
       " \n",
       ">            \"2\"]}], RowBox[{SubscriptBox[OverscriptBox[\"r\", \"^\"], \"2\"], \" \", \n",
       "\n",
       " \n",
       ">           SuperscriptBox[SubscriptBox[OverscriptBox[\"r\", \"^\"], \"2\"], \"′\"]}]], \"+\", \n",
       "\n",
       " \n",
       ">        FractionBox[RowBox[{\"14\", \" \", \"u\", \" \", \n",
       "\n",
       " \n",
       ">           SuperscriptBox[SubscriptBox[OverscriptBox[\"r\", \"^\"], \"2\"], \"′\"], \" \", \n",
       "\n",
       " \n",
       ">           SuperscriptBox[SubscriptBox[OverscriptBox[\"r\", \"^\"], \"2\"], \"′′\"]}], \n",
       "\n",
       " \n",
       ">         SubsuperscriptBox[OverscriptBox[\"r\", \"^\"], \"2\", \"2\"]], \"+\", \n",
       "\n",
       " \n",
       ">        FractionBox[RowBox[{\"4\", \" \", \"u\", \" \", \n",
       "\n",
       " \n",
       ">           SuperscriptBox[SubscriptBox[OverscriptBox[\"r\", \"^\"], \"2\"], \"′′′′\"]}], \n",
       "\n",
       " \n",
       ">         SuperscriptBox[SubscriptBox[OverscriptBox[\"r\", \"^\"], \"2\"], \"′\"]], \"-\", \n",
       "\n",
       " \n",
       ">        FractionBox[RowBox[{\"6\", \" \", \"u\", \" \", \n",
       "        SuperscriptBox[RowBox[{\"(\", \n",
       "\n",
       " \n",
       ">              SuperscriptBox[SubscriptBox[OverscriptBox[\"r\", \"^\"], \"2\"], \"′\"], \")\"}], \n",
       "\n",
       " \n",
       ">            \"3\"]}], SubsuperscriptBox[OverscriptBox[\"r\", \"^\"], \"2\", \"3\"]], \"-\", \n",
       "\n",
       " \n",
       ">        FractionBox[RowBox[{\"7\", \" \", \"u\", \" \", \n",
       "\n",
       " \n",
       ">           SuperscriptBox[SubscriptBox[OverscriptBox[\"r\", \"^\"], \"2\"], \"′′′\"]}], \n",
       "\n",
       " \n",
       ">         SubscriptBox[OverscriptBox[\"r\", \"^\"], \"2\"]]}], TraditionalForm]\n"
      ]
     },
     "execution_count": 151,
     "metadata": {
      "text/html": [],
      "text/plain": []
     },
     "output_type": "execute_result"
    }
   ],
   "source": [
    "(* Минус учтём сразу *)\n",
    "dJdr = Simplify[-dJdt/D[Subscript[OverHat[r], 2][OverHat[t]], OverHat[t]] //. OmegaReplace2];\n",
    "Expand[Simplify[dJdr]] // TraditionalForm"
   ]
  },
  {
   "cell_type": "markdown",
   "metadata": {},
   "source": [
    "<span style=\"color:brown\">**NB:**</span> Выражение для $dJ/dr$ <span style=\"color:green\">**сопадает**</span> с выраженем для интегранта из binary_catch3.pdf, если учесть деление на $\\hat{r}_2^{(1)}$"
   ]
  },
  {
   "cell_type": "markdown",
   "metadata": {
    "vscode": {
     "languageId": "wolfram"
    }
   },
   "source": [
    "Заменяя вхождение **всех** производных в выражении для $dJ/dr$, получим"
   ]
  },
  {
   "cell_type": "code",
   "execution_count": 153,
   "metadata": {
    "vscode": {
     "languageId": "wolfram"
    }
   },
   "outputs": [
    {
     "data": {
      "text/html": [
       "<div><img alt=\"Output\" src=\"data:image/png;base64,iVBORw0KGgoAAAANSUhEUgAAATgAAABZCAIAAAAlwq92AAAAznpUWHRSYXcgcHJvZmlsZSB0eXBlIGV4aWYAAHjabU/bDQMhDPtnio6QB0lgHK5HpW7Q8WsOqoqqloiN81JSfz0f6TYgTClbFK/uBOSaqzSIQhOTmeoVL2hZinc/WZ2CGyz7Jrwv/9j98MlSfgaRrE1jA7Tm1bAGqUyf2/wfq15aKfsgpQ31I/j/P2uIm3NkxCwU4RW6JEiQm5CFP/zujkL2Uyjfwd0j0OYxKrSNxgHpsVf35ArjHCfoeKYNrIisBa049XIE0dTkWNnrkPQGIe1alfwRzQoAAAAJcEhZcwAAFiUAABYlAUlSJPAAAAA8dEVYdFNvZnR3YXJlAENyZWF0ZWQgd2l0aCB0aGUgV29sZnJhbSBMYW5ndWFnZSA6IHd3dy53b2xmcmFtLmNvbVyipoUAAAAhdEVYdENyZWF0aW9uIFRpbWUAMjAyNTowMzoxOCAwNDowMjo1NSOO6DsAAB80SURBVHhe7Z15/E5FF8DftrciS1ooS8pSUVHaSLZkbaVIKC0iKopUQh8qERJJISEtlhZrkaiUkhKtIhElKlmSpPX99p4+0zR3v8/c5/nFvX/4/NznzJkzZ+acOdvc2eOPP/74T/qkHEg5kLc5sGfeJi+lLq9zYMuWLXvuueceNp4hQ4bk9dHmjr490h01d8zfFXp+6aWXrrrqqvnz52c+mCJFihQoUCBzPLskhlRQM5rWlStXjh079ssvvyxfvvzVV1996KGHZoTuX9i4X79+b7/99jPPPPMvpD2rJP/2229PPvnk66+/vt9++5111lnnnXdetO7ZUfPIM3To0DxCSUgypk2bts8+++y1117C8YMOOmjFihUh2+4yYBdddFHfvn13meEkNJCdO3fWqFGDRaJWyw033KD6GjZs2O+//+7fdV7xUe+4444FCxZE0zE5hf7hhx+uueaa8ePH//TTT6+++uopp5zy3Xff3XrrrTklKgedv/POOyeffHIOOv5Xddm/f/98+fJ99dVX33zzDX9DO9vSBx98IIN46623evbsGTCghFRIJLSPPfbYwQcfzBgitcot8BNPPNGrVy9Fw/Tp02F0qVKlcktVlnvfuHEjUSQ0VJb7/dd1hx7ftGmTIrtKlSqslkcffVTewEacpjFjxviM6z85H/N777333//+l63JCiWYED/++OPPP/9sBZsPko8//njbtm0KgB4xgytXrpx0v3kK/6xZs4466iiDJMw8piDQlstTAwkk5ttvvw2E8QLAO8Xu0H/FfkRQp0yZol5OnDiR9bNkyRIvJC7BJECJDYBl+fLlCHqlSpU6depUtGjRhGwNYjDEDOkL3ay6gAZE97XXXsPrK1GiRNWqVS+88MLixYsH0tCtW7cBAwawPy9dujQMfCDCkABYNXTXpUuXgQMHhmwSA4xeMJnefffd77///thjj23cuDEuohPP2rVrR4wY8f777zP3tWvXPuecc4488sgY3QU2ufvuu+mFRaYgv/jiixNPPFG8gHvuuScQQ/YBELl7770Xj/Hcc8917X316tXjxo3Tf9q6dSsW06effqov0Uwox2l6/PHHP//8cz36eNxxx+FEEJt0x2xI8Pbt288880wDlLg5UfjYGsWnIVk4bHdES4fBEmjQoAE0XHfddZMnT+7cuTOZusMOOwzZ86dh5syZipWM4tdff02CZlecffr0OfDAAzPRu4GkTpgwAV4ZU9OkSRNjmE8//fS+++7LlA0fPpwm6FmasCwC8ccAuOCCC1j0quEvv/xyxhlnCIVMBPttDJzJNRH1kT9/fsh76KGHvDpq27atU1R69Ohhi7DNmzcTd8QpNRCSRiYg7OVHmKbvxRdfDJWNGjUilMeoEA8hulixYrqRbYvoBx54ACE01vf5559Pj3pYDDDeFCpUCK3m1TW6nPGXLl0aHX/jjTcC3717d1t0+uNBByOlc+fOTa47UiDMItOBdYNs6MF9Ni7VL7bT3nvvjZC8+eab8pLdgFaILrE66+Rh7MybN0+hveWWW2A7/0JGyZIlDznkkHXr1lnvNB7C+++/v2zZssow9BLUDRs2wGfGdYz2oOzIwMXr19mqY8eO9erVQ6kZPyHAzN2gQYNcO/qHoLIaYLTu1CKcopJ50NC2aFV4KlasiAmno2XipbtVq1bp78V4a9OmjSsN7CrVq1evVq2aikgxE7i+s2fPtk6zgRBP9YQTThg9enSiHWHlnnrqqV9//bXqhR6FUZhP6qVYQ+hZnRgMFl4irnZdd4hBI2ATSV8vvPAC6kAFSNavX08EpWbNmtm0a3ym4JNPPoESvAZhmpegsnNSdJHEniS0YVRj4qI9XUllIZGQDxZUXCxcQQOO3IOMrX379nbXInMJ2mbNmulor732Wl4WLFjQ6EsyH6icNWvWOMlAP7GhkSnRf/rwww+TTmwy92xuuvlnl0WCDXMIGXBGGvA/ZWrYBwDD55H/jhw5UicDM0Tek/i1SB6ORrly5RRCWE2ATcePG8Wk5BFBFcLw3n0ElZQbLkOLFi2c250VvhFzYWci0OCFrWXLlpDnusL/kUdl8yU8ICNRz+mnn451ary08t/FixeDh5SGjo2oEv/FyjW6YIS8YdbfeOMNZ+8IcJ06dVjN+k80YSVZIdUVCewmKoAWvPnmmwWAaGfXrl1D9jh16lQaMqJAeHiCvURI2YBUDqG8x5+XPwjn6JBlypQR55b4XGBf4QGMDCqsxjjSm9Mpk6JS/OEx5woSc4C99KmnnmJTJX6J0xhmdkJSS3ajQ4cOaDflTtIRhUp6c/wF/qu2ff2nf0gg1pTBa0CJs0uEhi3blSaiz6B+5JFHWEzYn5isCoxYGY4iKUfXhkLQ4Ycfrv8qOg+XgMCm/h4nWf6L5nZiYy8ldDx48OBWrVphceEaoc6RGehBHkKyUoFhP8PQO++8s2nTpuJ3yYMcMhwedjD+C36pH7zy/8+ll16KhCg6Azt98cUXCRFjjgZCsmhwXZxgTA0vCXGL64VfKjCGemL6cM94v3DhwsC+wgMYgmp3CsKTYRESP1awMRZ4RRQTLYxR4NNFyMVPqWmtWrUOOOCA3r17s1SuuOKK+vXro6ZZqzpykQVXQQ3Oo4rjSqCfzly3bFbtJZdcsv/++wNGSE13hGTFsKBdGyIG/Gp4d4xHSDdiM2ojJSjnxIb0tmvXTvIxmM2YBqeddprgIeQd1W7BgTnppJOkuV4fR+yUN2wR+BiYl875wysOX7aBfgUDCiUqeQoexxUMzLq8wUXnv9DgRChGMnYHCyt2d0ZDdgbcIt30tTgFtog08PibvpgkCA9+vixm9cyYMcOLnjCLH4kgxulcLYQ8DbSSFiKY6uwuWFBxXGnMbunPOzQEYKRVFJgqCfSK6Ej1I+kEHTPBXqeEAAAS1/fOtqQNoZYsGakLmtx2220xZl3tTmhW1fzss88GIftbDITOJhkKKh4+apEQJYtPkEu8Da/B2RfhJeGej4PkbIXh55USw2bBIdJLPqS5TJ+VKbDC5EiCqoARLZYlcR1hGirJv/oqxuJ3Hd1zzz1HdyjcyIL62WefoaFZAf6EYoMRi6cPPSN6+eWX8wa/EYvRlSzsCgAMdUWqg8XH+8KFC6vgBNsU3o5w7fnnn/eaQtmNiYcRWicwAJgK37HmKFTEpWQlYQwHLgJJCLE5q1gIrBBf3ZkBC8TmCpChoFIoAjFY+wq5OD96EFj9JBkvnvD5kkWLFmFWMAuuUw8PjXC99GVxCuJx1b+V/45qtMXY4ZiL8A1/1QtzvMXvio3IOX0RW4kmqJhJ7JAsVjKT/uMnvirjIT4kkHiqGFq8wejyanvEEUcA4EyLY1ViafMTFgjxfUIm8l//pYY6EAnnwTfWO/U/u+BKnlT8sC2rXzl1Kch1ey/SYiKaR2BWPfi0YEMZ6S/xzMPgxCFHayijV5pIcbzrjlq3bl1+csbSXfvCcSD2jrMtsQ1MKicY2qp169bGe7tToCMnCaRzyfVvZVn4MDCSoIKHflFVMOGyyy7zQhtv8btimzNnDn2RxY0mqPiWSEiYmiTO6dABoW3lAsl2ykMY2WuEFAkA4Iofj5SUKVsu2oWYNQMgdOk1BsEv2ogHpW70SNkQGgerj81Bzi7w+GgfpSOJLggq/HNpZTjhYYRKYHBrBYP/E6YCBqMD+wVzy8giiKmPfnRSJR47AfxAghk7LglcwiQhnUMrbCIEw2jYsGFDxRz1k8UpMLqTCpbAJzAVFFVQIeP666+nX6I+XqyLt/hdsb388sv0hRxFEFTKHtDZlHEGTi0Asv8QHBJgZEDxlCM8XhgkQIoQBnYhA+AhyuoFrOaS6JcB4392wYlQ6UgOIsmvzZs3FwJYoIHUugLg9lCKrT8SryI/rL985ZVX/PGz5RJ+R/DEttcfopRCpDOghS/Ae+KNUYmXCgpi6UZDDGxSC17ilPkUGJiJkBvcc/6XgGrgSYAYgkpxNRzQbSuDtniL33UiJMKMFg4rqOxy6FEKu8PMq9p/HnzwQeB37NjBSiLiQpfsmT5hxqOPPhqYwOIhIhYCCU6fmahQoQIwHCAyaA5zdsFoIjpSOXukH9nbJRXpVeEVhlEGTAwfFWnHNIC9rn4j5yhEUA3jnBkR34FsUFQ6JahGgkcvt2C5E/p2xqstTkFUOkPCxxBUDjPCAT5k4dpF7MXvik0ipuTSnL+6VDKwB1JsTVqC0ItMvDy4Lq5HhPGyKNYFQDxvXBqyMrhD/I2DyrasIqg6Nv4W6x/7zXhv/JegPxl/8CA/XscXSGZCBg3ZNIzmNJTjf+rBBsb7FVXi+rCt8V7CV8SQKK+FFThg/JfAL/EYNd/+lNv9lTWBWwg92CBYRzpyyn3JY6P1JR+mDBCBIXILk+GD13kRHzqxltkxWDd6PpkMKpEk44SA3Smwy7pMsLHL4U0Qx3ZFEnvxu2ITWRC5MB9DdrH6cMMIEONvqAdfBWWMqcaSdco6GylIydXy08MPP4wrTHJJzihQHkxqyOk0ChIJapO88lGHUqeK/vavNJbCVxgaeIjZ6+yCToNEsIlpoYCOP/54tKmc2KKuAMuTCiG9Ej2kLneCRd1RUVhClT41hLKZFPSOlAGTAQaGrB27qOqRQ0i8NEo1w5NNjlrigspJoeTDWXRtdwrCkxcJUjk1KH2jIVYkGQE+a6RbbRQPMXCv7RQMsRe/K9nSHRue89d/5FHR1qq+yVXiP/roIycKcQ4JNqJ6qZLBPyHaIc3ZARBgr5MHZDuB8TrYjqMrDhI4qRPynw9WIZDENgOnzevsgmqooj5gY8WzIpk5iY2RWIOkeInZDAVV39CcU8OZJ8FPNEWi03AeWcXsJzXHXoo1lckRPNEp1F3JIubwh3OhW5yCwEmMDaCOyBrnFkCoKmSIaOA7YDRRwk1ukgXj43DFXvyuQ8DZhM9o5ABB5XyGq3zKS9IkrthVvSLmkGQ+WSKyfZOANQq1dQyUVgJjOE54pGye1NygxdmcYZYzauIkQ/SLc/UYkP5nFxSwJDNI9iCTMkkywRjeCExgxCLkMmKjA6FXkllHQurYZ170vU5aEWiBdahOHrqgbowzgCGpcgVju6b8jY7kXCvHCfU6EGlidwoyoda1LYtK8vbqwVbSRWLUqFGIpfqVv7EryT74UxJ78builUp719hQcGVSGJbhtKgAqcATeOSlf7icMmXIMgqpcCCJXkKrj4SHIckJE3h2QTXBfsYz0ctu2JqIpoSvFohHod1W2EdMShg1F6ZfYqpMFibGsmXL0KG6aR2mucCEn4LwOC1CYkwRT2E7lTNxITHHW/yuyDmgBpOdMXOA7QhqyCEZYLjO6Okw9mo8/HorAipoUD0fiDfCuskc826CAYGXdBrnHDiiHGPU6RQEMg1ZINxgnNaUVjn+ADfRVFKjWFZS/JDQQ7kCjgeWuaQTGTb7Nv42e45xMi4hAnYNtEQK5bQwbjBB5kiDSqcgkF0sS8IxRObdP5sUKOWJAsiRVP8PJWZIQPizCxl2tMs3xwKShLbPB4dcmZBOQZi1IdUOXgVCOd5RoYxoG+kQSvMDVU4KkHMOEEOmUBEnKv3otvW5IObHtzhk63I+iXy6IdIYsKZIDHrRFwlVCpw0BziZRFbcCJ8m3enugJ+wPEpQPAvXJ/c7KgFVyj4ItBLxT+ibL7vDTGdtjGTFyf1krbvdpCNEAAeBPJzUluTFHZWqo0mTJhHpkmxv+uRxDqRSan2C+FYR+QiOqntJKT3mfkeVYbP1cz6TfIl1LqQIUw7kcQ5Q7kYliRzPzrumr6Lsz2SRdqtFHmduSl7KAVscCLPy88qOamvMKZ6UA7skB3If9d0l2ZoOKuWAXQ6kgmqXnym2lAOJcCAV1ETYmiJNOWCXA3/7qBTcqqsZ7PaRYks5kHIgKgc43a3f2fe3oFKnLp+KTZ+UAykHcs4BPlBKUaEiI4365nxGUgJSDgRzIPVRg3mUQqQcyDkHUkHN+RSkBKQcCOZAKqjBPEohUg7knAOpoOZ8ClICUg4EcyAV1GAepRApB3LOgVRQcz4FKQEpB4I5kKZn/uIRF6JyX1Mww1KIlAPeHOA2iYSOaqaC+hfX+bIeXySUO/bSJ+VAPA7w0Xa59936kwrqXyzllgA+Bd6iRQvrLE4RphzInAOpj/onDzm5y4f5uc4wc4amGFIOJMGBVFD/5OqqVav4tJR8tDZ9Ug7kQQ7kwPTls4N8c52rloQd3PbBJfPcGuzkDpBcPME9PJj+3EWnHyawy8qpU6fefvvt6k4+u8hTbNw3y6WGmfOB65i5/ypzPP9GDDkQVL62xjWBillcDczF7zrv5NZdpJSf5s+fz2cK+RsArq8cMmRIEly+6667uOFCbqdMH+scaNWqFbeHZO5ZcMOa3Ee6Gz45EFQ+jc/McdmmsLtMmTLGpazcd87Ddwm59I6rGQnGctOJXBDKpanc9WR9njhPBFo2VeuYU4RwgFt/uD4zxn3nKff+5kCYWzEswnCnXYECBbBmve4F3b59O1e8cesu1zpt2rRJdV2lShWIRm4tEqNQVahQAes3CcwhcXLJH3eHc2UWVkNuKQlJcHgw7mjHPuK0c/gmeRmSWydQ6FxszV2mcst7dp5sX7uo1KpcE+y8vfPZZ5+tWbMmti7XTuosEOdkypQp1vmyc+dOPnyMbWYdc0iEEFCjRg1Gh5EvGhRxDdk274PhoHLrfN6nMwyF06ZNw09W08SFzitWrAjTMHOYbEd969evj53Jt4b5ND7XeGMAI6u6hcMNHFxwgg6WLVQ9qGSujqxatap1c4hba7GuE8pTh6G2f//++fLlY4Dc/szfNBk6dCh3EIdpm/dhULi7xo1SLFRMnvHjx7N0MQyx+LiHJXvVbJnLuisGgroYt+Q8vPATzi1YsCDrjGIgBUMYiYtS9euG5afNmzejvXr27JkEtVwoQLWDEzMbHUNgIEl0quPMppGf9Fic+NHLffr0Md5njbcWx8s66dWrl0I4ffp0Vm+pUqUsduGDKinTV76TxsWs3Cnk1T1bGTsnW5kCmDNnDnusE75jx4716tVDjJNgCkqR+kED89q1a1ENDIFfk+hU4cymka86RftMnjy5ZcuW7HWNGjXCB9mwYUNCwyxbtix3H+nIs8ZbuyOiJGbbtm0KJ5sQZnDlypXt9uKFLRFBnTlzprqcgns1iJR4dV+tWjUglQR26NDBqX3HjRtHZH/r1q0JcYSLtAYPHqwjh54zzjhDrErImzVrVkJdu6Jt27YtRn5ygQrCdUyKYTMXKVKEVKf1YW7ZsgUG6mPJLW8tDnDdunXwsEuXLhZxZnVHJa3CXlS6dGlSKVTPMpju3bt7UdC8eXM0rvyKmi9evDi+mQ7MWYSKFSsmGjPEYTbWqKSC+HfJkiUlS5bknmVmJTvzkaiRL0OQJDYbad++fbEXVG6sWLFiepjdynhhLAzUUeWQt1ZGpJCwo+CmkZ6wizZLOyqbZ/Xq1dkniYtIl1wjT5569uzZTgp27NhBquamm26Sn7gUXQmtvFm6dCnpTd1lxbNFdC2yhuQBKl83/LhVmdiSygOtX78eH5JAtI9dYJGeRI186OSycKR0zJgximaEs1KlSrLBDh8+3OJYQEVsjNCgwplb3loc2urVq5HSuXPnWsTpj8qy6YthA/WExfReKc2TKDapF5wiQppi66OT2C2xxAQY7Y5nqxqSsCpcuDBh3iv+/7Rp0wY3lS3XQJ4hp6ipYMPUkUAq3oj+BgoZVBYENWkjn0FhqumSI8MkhimC2r59+wz5aTRn9ybfqF7mkLcWx8Xq5c710aNHW8QZiMqyoPr3R1kv/jcLAglEYjGMde+cmvgFCxYIBjx1jGdn7oEmgUOKBDBy5MjatWtHapIQcGwjn9B0165djYCNF5FXXnmloYaAJAYrd71bF1Qiha7GVEI8zAJa9DU15xRaZaEvvQv7gspJFIpmWTp16tSRhApT1bBhQ2KMbE3EhJYtW7ZmzRpjnKwefKQs5EKMfkkOGdUF/vRHmh4mdfHixaNGjSJIRnRKr6kgdU6sletrBWEmRj5eBjKmGyORiAQYH0SS+MOGDYva1geeNCNuxcaNGxWMRd5apBNUhLtmzJiBidekSZNu3bop5KxYpokHD4iXrE80XY8ePXSA7MST7AvqoEGDqNSVzRDFg9CqC8/hhRd/MZDatWtnl/thsLGdsqnqkPHod+0L15csIiFcWJE/f349q1yuXDleos5omKGRn7mgiuOKsbNy5cowTAsJg4LWc2+0ssjbkDSEBCOSwldUZNESY1Ot0KS8QYtJ0oF4CqYHXpi4Y3xmoHz58gMGDAjZSyZg9gUVaghdypg5KIMHyEhYpvzhk1Pl4JtRM5jJqMK3hSoMcgM+Bv0+PVKMBSsaNGigYLDwhT8s5cyN/MwFlT0BYohjhedbGEiULz5qorwNQ0ZIGJaBTMrChQtVE85v8YZACW9Q6E5fjECpipuG7CgeWCKCSnknQ8IRxfrF8IMyyq9whOKRmGErJoCzcl47HrYZgV/jV3/6I5VlYyyhC+CGrncp6eYNsWWvkwmRhpyhoGKQs9rY+rBUI/ULMMkJNhZOKbo2JGpF1Dc53kal1h+er9sxKVTLqaghnBHXPaGSuEj0JyKoVFqJ7iFilH23U42fFYxHgSi6VggCRiEUISsnv3zoj1qWrQ6j46xKR/hp4gvEDmJRRUDKSj1iuHITn/6S6p8w64C6KLZ6VidJ7zDwCoZpZYehTIKuKSZznWUyqM4iCou8NQgm8KFzwPVvp1JWSLjmkLFwaES9oV5NljFR8UjMSQI4EUHlxKnPCCPtSPHGjFIkLkIqnzAmGxfEIJNOVBQk6ROjALzoJ0ZNxGvChAlkoaQsG8yEH3yIhAxgWNCIhIDJdsqj5y0iDVPKSAKfMPkknGRc06g1SUT+sAYpmSDUzJlEKFFRMTUQwjOoSJwIY2gWeatjxocMZAgAehxIb64MHz42Iu9x1wWhEVyINFMWge0fHGduKPFl5I0bNyZ6ZLCPUuamTZvyq3y0gRomTFOJrFh8yI7iHhMIRVaJuBIqYPuaN2+e0QUqs2jRogQP9Pc+9FNusXz58t69ews8o0POKctGl3sRj5MGJQyZf4Gh7ooUnABT4MFWH2PUKB3l5dIc9XHfffchAOyNChs2GwabKuR07WXs2LFwgGhfs2bNIpFBkTZbkxBPpJQTiBgmcghJ4aG2gXA6Sjk53uqYUZ0ovsBRsAyoXXGC8X0P+QAFEyR/EAWcOHEif5CwQB8FYk4cwKLQC6pJkyYJ0cikgTzGjpQ5eRSRiKnpDBqx1DgSYXThQ3/Usmylp/mACL2QBWERyEk96lrUHpvhGOP5qOyiyNWIESMy7J3oA1YGIyKiq6NCgFnryfE2Q7KN5mL48OEuec9ZNvQpZw+d47Lbb3hs9k1fubacrcxpeuXqoBCXN0OSYeUiRVg1Tt/Mh36DrYFl2cpBZbehLXs78RUJAovBzM4ffqq8IGMIKoFNTFZDtMBPOSHHgKOShMHCiDDvdUOXqoCBAwcaqCzyNiqR/vDioIpmwehlLCK6PKwQshXOzL9dAgKx2RdUQggMz7WEKOqOFEh9SAD6xQjkee+991QTYnrstM5YtA/9RneBZdnyJS75vgH5pxIlSpBZRTvwkqpaCgZr1aoVcgg+YFEFFfUBDdRjY52qhyAZckUusVOnTlFJwuyUL61ScK/aMmqC5wYqi7yNSqQ/vETmCY8Rx6a8vF+/fnzVgDd4Rhj5nGXDb7LbY1RslgUVkRA9xFeRAkkJ3JECMYQHYAdTKlNa8VUXKo0NDOHpD1OWLVGfQoUKobDx2wnP0kr407p1a5ayT2I5/NAiCSrqyfiUnNCjHry18F0rSKq4wcDndTg7xUtOOznzXnZ5G4NIryYqEFW3bl2cbeoZsLYk5kc9A0cCqUyy2F08VJYFFZ+H4WHrh3HAAnekeENybUU1BYRRYkJ4QwD4RCiH7AzgkPSHLMtGW4kA8Bk+qbDFTSW9zBvyls6a23jjpUbP2M188PiHr6hzjEcDrdiiIYNVzt/sz8ccc0yivI1Np2tDRFQUDTIpqSbZUVE3mAk5TDEqai0Lanj2hdmRwmMLAynOofqYA1KKrIZpaMBEKstGQRgnbNkAeRkmdxKDthw2Ea1EtBmnjmQppd0xiInE2xj4vZpQ7MEBKf2ICDsNp5Gzdg45cCy5EdSQO1Ig9ZEA5DAXVThinmH3xvimYQ7LsiMNNifAUuNNfpXMnPHRjDD0pLz14VIOBDVXWhMuyAdWiJcQQyLRH+MToTksyw6z1nMLw7koOYVD4ifG+f6Ut3lIUHOrNSVzTX6MLCKRz6i+R27LsnMrhCF754OaYgA7v9jsjyHlrT9/7FcmGVFE478c1KBKi8SmFM3wuQaKYPmcF7Vs/g1t/UphKoc/CXVQ4EptkC20KR7hAOc2qTMjdpreuGV5SYTUlFbA8oLWVIVH1OtbGVSKxOAApYvkNlK22OVAtndUy2omOjrMXW6aoWSXaEfnzp2jI0hbBHCASCF1FFHrh1O2+nMg21da5Hw+cJ/kGoLMbwHM+VjyJgF8WTKVUutTs9vtqHCQkje+S7po0SIKxKwzNEWYciAJDux2OypMJDHDx5xSKU1iPaU4E+LA/wCvPbL9IJQATQAAAABJRU5ErkJggg==\"></div>"
      ],
      "text/plain": [
       "FormBox[FractionBox[RowBox[{\"2\", \" \", \"u\", \" \", \n",
       "\n",
       " \n",
       ">         RowBox[{\"(\", RowBox[{RowBox[{\"9\", \" \", \n",
       "\n",
       " \n",
       ">               SubscriptBox[OverscriptBox[\"r\", \"^\"], \"2\"], \" \", \n",
       "\n",
       " \n",
       ">               SuperscriptBox[\"u\", \"2\"]}], \"+\", \n",
       "\n",
       " \n",
       ">             RowBox[{\"20\", \" \", SqrtBox[SubscriptBox[OverscriptBox[\"r\", \"^\"], \"2\"]]}], \n",
       "\n",
       " \n",
       ">             \"-\", RowBox[{\"15\", \" \", SuperscriptBox[\"u\", \"2\"]}]}], \")\"}]}], \n",
       "\n",
       " \n",
       ">       RowBox[{SubsuperscriptBox[OverscriptBox[\"r\", \"^\"], \"2\", RowBox[{\"5\", \"/\",\\\n",
       " \n",
       ">    \"2\"}]], \n",
       "      \" \", SqrtBox[RowBox[{RowBox[{SubscriptBox[OverscriptBox[\"r\", \"^\"],\\\n",
       " \n",
       ">    \"2\"], \" \", \n",
       "           SuperscriptBox[\"u\", \"2\"]}], \"+\", \n",
       "\n",
       " \n",
       ">            RowBox[{\"2\", \" \", SqrtBox[SubscriptBox[OverscriptBox[\"r\", \"^\"], \"2\"]]}],\\\n",
       " \n",
       ">    \"-\", \n",
       "         SuperscriptBox[\"u\", \"2\"]}]]}]], TraditionalForm]\n"
      ]
     },
     "execution_count": 153,
     "metadata": {
      "text/html": [],
      "text/plain": []
     },
     "output_type": "execute_result"
    }
   ],
   "source": [
    "dJdrFinal = Fold[ (* Последовательно применяем замены *)\n",
    "  Simplify[#1 /.\n",
    "    D[Subscript[OverHat[r], 2][OverHat[t]], {OverHat[t], #2}] -> dr2[[#2]]] &,\n",
    "  dJdr,\n",
    "  Range[5]\n",
    "];\n",
    "\n",
    "Simplify[dJdrFinal] // TraditionalForm"
   ]
  },
  {
   "cell_type": "markdown",
   "metadata": {},
   "source": [
    "$$\n",
    "  \\Delta \\hat{J}(u) = 4 \\epsilon_G \\int\\limits_{\\hat{r}_2^\\text{min}}^\\infty \\frac{u \\left(20\\sqrt{\\hat{r}_2} - 15u^2 + 9\\hat{r}_2 u^2\\right)}{\\hat{r}_2^{\\frac{5}{2}} \\sqrt{2\\sqrt{\\hat{r}_2} - u^2 + \\hat{r}_2 u^2}} \\, d\\hat{r}_2,\n",
    "$$\n",
    "где при $\\hat{r}_2 \\ge \\hat{r}_2^{\\text{min}}$ выражение $\\hat{r}_2u^2 + 2\\sqrt{\\hat{r}_2} - u^2 \\ge 0$.\n",
    "\n",
    "Полученный выше интеграл **компактнее**, чем тот, что рассмотрен в файле binary_catch3.pdf\n",
    "\n",
    "Смотри подробности в файле binary_catch_integral.ipynb\n",
    " \n",
    "Выпишем ответ:"
   ]
  },
  {
   "cell_type": "code",
   "execution_count": 155,
   "metadata": {
    "vscode": {
     "languageId": "wolfram"
    }
   },
   "outputs": [
    {
     "data": {
      "text/html": [
       "<div><img alt=\"Output\" src=\"data:image/png;base64,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\"></div>"
      ],
      "text/plain": [
       "FormBox[RowBox[{\"4\", \" \", SubscriptBox[\"ϵ\", \"G\"], \" \", \n",
       "\n",
       " \n",
       ">        RowBox[{\"(\", RowBox[{RowBox[{\"-\", \n",
       "\n",
       " \n",
       ">              RowBox[{RowBox[{\"2\"}], \" \", SuperscriptBox[\"u\", \"2\"]}]}], \"-\", \n",
       "\n",
       " \n",
       ">            FractionBox[\"15\", SuperscriptBox[\"u\", \"2\"]], \"-\", \n",
       "\n",
       " \n",
       ">            FractionBox[RowBox[{RowBox[{\"(\", \n",
       "\n",
       " \n",
       ">                 RowBox[{RowBox[{\"7\", \" \", SuperscriptBox[\"u\", \"4\"]}], \"+\", \"15\"}], \n",
       "\n",
       " \n",
       ">                 \")\"}], \" \", RowBox[{\"(\", \n",
       "              RowBox[{RowBox[{\"2\", \" \", \n",
       "\n",
       " \n",
       ">                     RowBox[{SuperscriptBox[\"tan\", RowBox[{\"-\", \"1\"}]], \"(\", \n",
       "\n",
       " \n",
       ">                       FractionBox[\"1\", SuperscriptBox[\"u\", \"2\"]], \")\"}]}], \"+\", \"π\"}],\\\n",
       " \n",
       ">    \n",
       "              \")\"}]}], RowBox[{\"2\", \" \", SuperscriptBox[\"u\", \"4\"]}]]}], \")\"}]}], \n",
       "\n",
       " \n",
       ">      TraditionalForm]\n"
      ]
     },
     "execution_count": 155,
     "metadata": {
      "text/html": [],
      "text/plain": []
     },
     "output_type": "execute_result"
    }
   ],
   "source": [
    "DeltaJ = 4*Subscript[\\[Epsilon], G]*(-15/u^2 - 2*u^2 - ((15 + 7*u^4)*(Pi + 2*ArcTan[u^(-2)]))/(2*u^4));\n",
    "DeltaJ // TraditionalForm"
   ]
  },
  {
   "cell_type": "code",
   "execution_count": 156,
   "metadata": {
    "vscode": {
     "languageId": "wolfram"
    }
   },
   "outputs": [
    {
     "data": {
      "text/html": [
       "<div>&#36;&#36;&#52;&#32;&#92;&#101;&#112;&#115;&#105;&#108;&#111;&#110;&#32;&#95;&#71;&#32;&#92;&#108;&#101;&#102;&#116;&#40;&#45;&#50;&#32;&#117;&#94;&#50;&#45;&#92;&#102;&#114;&#97;&#99;&#123;&#49;&#53;&#125;&#123;&#117;&#94;&#50;&#125;&#45;&#92;&#102;&#114;&#97;&#99;&#123;&#92;&#108;&#101;&#102;&#116;&#40;&#55;&#32;&#117;&#94;&#52;&#43;&#49;&#53;&#92;&#114;&#105;&#103;&#104;&#116;&#41;&#32;&#92;&#108;&#101;&#102;&#116;&#40;&#50;&#32;&#92;&#116;&#97;&#110;&#32;&#94;&#123;&#45;&#49;&#125;&#92;&#108;&#101;&#102;&#116;&#40;&#92;&#102;&#114;&#97;&#99;&#123;&#49;&#125;&#123;&#117;&#94;&#50;&#125;&#92;&#114;&#105;&#103;&#104;&#116;&#41;&#43;&#92;&#112;&#105;&#32;&#92;&#114;&#105;&#103;&#104;&#116;&#41;&#125;&#123;&#50;&#32;&#117;&#94;&#52;&#125;&#92;&#114;&#105;&#103;&#104;&#116;&#41;&#36;&#36;</div>"
      ],
      "text/plain": [
       "4 \\epsilon _G \\left(-2 u^2-\\frac{15}{u^2}-\\frac{\\left(7 u^4+15\\right) \\left(2 \\tan\\\n",
       " \n",
       ">   ^{-1}\\left(\\frac{1}{u^2}\\right)+\\pi \\right)}{2 u^4}\\right)"
      ]
     },
     "execution_count": 156,
     "metadata": {
      "text/html": [],
      "text/plain": []
     },
     "output_type": "execute_result"
    }
   ],
   "source": [
    "TeXForm[DeltaJ]"
   ]
  },
  {
   "cell_type": "markdown",
   "metadata": {},
   "source": [
    "В пределе малых $u$ для $\\Delta \\hat{J}(u)$ получаем\n",
    "\n",
    "<span style=\"color:red\">**TODO_5:**</span> Обсудить почему при малых $u$ значения $\\Delta \\hat{J}(u)$ безгранично растут."
   ]
  },
  {
   "cell_type": "code",
   "execution_count": 158,
   "metadata": {
    "vscode": {
     "languageId": "wolfram"
    }
   },
   "outputs": [
    {
     "data": {
      "text/html": [
       "<div><img alt=\"Output\" src=\"data:image/png;base64,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\"></div>"
      ],
      "text/plain": [
       "FormBox[RowBox[{\"-\", FractionBox[RowBox[{\"60\", \" \", \"π\", \" \", \n",
       "\n",
       " \n",
       ">           SubscriptBox[\"ϵ\", \"G\"]}], SuperscriptBox[\"u\", \"4\"]]}], TraditionalForm]\n"
      ]
     },
     "execution_count": 158,
     "metadata": {
      "text/html": [],
      "text/plain": []
     },
     "output_type": "execute_result"
    }
   ],
   "source": [
    "DeltaJSmallu = Normal[Simplify[Series[DeltaJ, {u, 0, -1}]]];\n",
    "DeltaJSmallu // TraditionalForm"
   ]
  },
  {
   "cell_type": "markdown",
   "metadata": {},
   "source": [
    "## Поведение $\\hat{J}_1$ в зависимости от начальной сокрости $u$ и параметра $\\epsilon_G$\n",
    "\n",
    "$$\n",
    "\\hat{J}_1 = \\hat{J}_0 + \\Delta \\hat{J}\n",
    "$$\n",
    "\n",
    "$\\epsilon_G = \\frac{2}{5}\\frac{\\mu}{M} \\left( \\frac{r_s}{2b} \\right)^{\\frac{5}{2}}$,\n",
    "где $r_s = \\frac{2 G M}{c^2}$ - сумма радиусов Шварцшильда двух тел.\n",
    "\n",
    "При прицельных параметрах $b$ сравнимых с радиусом Шварцшильда, $\\epsilon_G$ не мал (смотри $\\epsilon_G = 0.1, 0.5, 1, 2, 10$),\n",
    "момент полностью \"съедается\" на одном проходе вдоль гиперболической траектории.\n",
    "\n",
    "Если прицельный параметр много больше, чем $r_s$, то есть $\\epsilon_G$ мал ($\\epsilon_G = 10^{-5}$),\n",
    "то только на совсем малых скоростях может \"съесться\" момент.\n",
    "\n",
    "<span style=\"color:red\">**TODO_6:**</span> Нет отрицательного момнета!"
   ]
  },
  {
   "cell_type": "code",
   "execution_count": 159,
   "metadata": {
    "vscode": {
     "languageId": "wolfram"
    }
   },
   "outputs": [
    {
     "data": {
      "text/html": [
       "<div><img alt=\"Output\" src=\"data:image/png;base64,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\"></div>"
      ],
      "text/plain": [
       "Legended[-Graphics-, Placed[LineLegend[{Directive[Opacity[1.], RGBColor[0.24, 0.6, 0.8], \n",
       " \n",
       ">       AbsoluteThickness[2]], Directive[Opacity[1.], RGBColor[0.95, 0.627, 0.1425], \n",
       " \n",
       ">       AbsoluteThickness[2]], Directive[Opacity[1.], RGBColor[0.455, 0.7, 0.21], \n",
       " \n",
       ">       AbsoluteThickness[2]], Directive[Opacity[1.], \n",
       " \n",
       ">       RGBColor[0.922526, 0.385626, 0.209179], AbsoluteThickness[2]], \n",
       " \n",
       ">      Directive[Opacity[1.], RGBColor[0.578, 0.51, 0.85], AbsoluteThickness[2]], \n",
       " \n",
       ">      Directive[Opacity[1.], RGBColor[0.772079, 0.431554, 0.102387], \n",
       " \n",
       ">       AbsoluteThickness[2]], Directive[Opacity[1.], RGBColor[0.4, 0.64, 1.], \n",
       " \n",
       ">       AbsoluteThickness[2]]}, {EpsilonG = 10, EpsilonG = 2, EpsilonG = 1, \n",
       " \n",
       ">      EpsilonG = 0.5, EpsilonG = 0.1, EpsilonG = 10^(-2), EpsilonG = 10^(-5)}, \n",
       " \n",
       ">     LegendMarkers -> None, LabelStyle -> {}, LegendLayout -> Column], After, Identity]]"
      ]
     },
     "execution_count": 159,
     "metadata": {
      "text/html": [],
      "text/plain": []
     },
     "output_type": "execute_result"
    }
   ],
   "source": [
    "Plot[\n",
    "  {\n",
    "    u + DeltaJ /. Subscript[\\[Epsilon], G] -> 10,\n",
    "    u + DeltaJ /. Subscript[\\[Epsilon], G] -> 2,\n",
    "    u + DeltaJ /. Subscript[\\[Epsilon], G] -> 1,\n",
    "    u + DeltaJ /. Subscript[\\[Epsilon], G] -> 0.5,\n",
    "    u + DeltaJ /. Subscript[\\[Epsilon], G] -> 0.1,\n",
    "    u + DeltaJ /. Subscript[\\[Epsilon], G] -> 10^(-2),\n",
    "    u + DeltaJ /. Subscript[\\[Epsilon], G] -> 10^(-5)\n",
    "  },\n",
    "  {u, 0.0, 100},\n",
    "  AxesLabel -> {\"u\", \"J1\"},\n",
    "  PlotLegends -> {\n",
    "    \"EpsilonG = 10\",\n",
    "    \"EpsilonG = 2\",\n",
    "    \"EpsilonG = 1\",\n",
    "    \"EpsilonG = 0.5\",\n",
    "    \"EpsilonG = 0.1\",\n",
    "    \"EpsilonG = 10^(-2)\",\n",
    "    \"EpsilonG = 10^(-5)\"\n",
    "    },\n",
    "  PlotRange -> All,\n",
    "  ScalingFunctions -> {\"Log\", \"SignedLog\"}\n",
    "]"
   ]
  },
  {
   "cell_type": "markdown",
   "metadata": {},
   "source": [
    "<span style=\"color:red\">**TODO_7:**</span> Где быстрее набирается интеграл потерь момента импульса?\n",
    "\n",
    "Смотри файл binary_catch_integral.ipynb (График первообразной $\\tilde{I}_7(u_i, r)$)"
   ]
  },
  {
   "cell_type": "markdown",
   "metadata": {},
   "source": [
    "# Время слияния\n",
    "\n",
    "Пусть у нас есть \n",
    "$$\n",
    "\\begin{align}\n",
    "\\hat{E}_1 &= \\hat{E}_0 + \\Delta \\hat{E}\n",
    "\\\\\n",
    "\\hat{J}_1 &= \\hat{J}_0 + \\Delta \\hat{J}\n",
    "\\end{align}\n",
    "$$\n",
    "нужно получить время слияния $\\tau$ и параметры орбиты.\n",
    "\n",
    "$a = b/\\sqrt{1-e^2}$,\n",
    "\n",
    "$J = \\mu\\sqrt{GMa(1-e^2)} = \\mu\\sqrt{GMb}\\sqrt{\\frac{b}{a}}$\n",
    "\n",
    "Момент системы после одного полного оборота вдоль ньютоновской гиперболической орбиты с учетом излучения гравволн\n",
    "$$\n",
    "  \\hat{J}_1 = \\hat{J}_0 + \\Delta \\hat{J} = u - 4 \\epsilon_G \\left(2 u^2+\\frac{15}{u^2}+\\frac{\\left(7 u^4+15\\right) \\left(2 \\tan ^{-1}\\left(\\frac{1}{u^2}\\right)+\\pi \\right)}{2 u^4}\\right) \\approx \\sqrt{\\frac{b}{a}} = \\hat{a}^{-1/2}\n",
    "$$\n",
    "\n",
    "Отсюда характерная длина большой полуоси эллиптической орбиты в случае выполнения условия захвата после одного полного оборота будет\n",
    "$$\n",
    "a \\approx b\\hat{J}_1^{-2}\n",
    "$$\n",
    "\n",
    "А время, за которое расстояние между объектов уменьшится до нуля будет\n",
    "$$\n",
    "\\tau \\approx \\frac{5}{8}\\frac{c^5}{G^3}\\frac{b^4}{\\mu M^2} \\frac{1}{\\hat{J}_1^8}\n",
    "$$"
   ]
  },
  {
   "cell_type": "markdown",
   "metadata": {},
   "source": [
    "<span style=\"color:red\">**TODO_8:**</span> Переделать расчет $\\tau$"
   ]
  },
  {
   "cell_type": "code",
   "execution_count": 160,
   "metadata": {
    "vscode": {
     "languageId": "wolfram"
    }
   },
   "outputs": [],
   "source": [
    "(*J1Smallu = - 60 Pi eG / u^4;\n",
    "eG = 2/5*\\[Mu]/M*(G M / (b c^2))^(5/2);\n",
    "u = v/Sqrt[(G*M)/b];\n",
    "N[5/8*c^5/G^3*b^4/(\\[Mu]*M^2*J1Smallu)^(8)]*)"
   ]
  }
 ],
 "metadata": {
  "kernelspec": {
   "display_name": "Wolfram Language 14.2",
   "language": "Wolfram Language",
   "name": "wolframlanguage14.2"
  },
  "language_info": {
   "codemirror_mode": "mathematica",
   "file_extension": ".m",
   "mimetype": "application/vnd.wolfram.m",
   "name": "Wolfram Language",
   "pygments_lexer": "mathematica",
   "version": "12.0"
  }
 },
 "nbformat": 4,
 "nbformat_minor": 2
}
