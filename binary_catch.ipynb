{
 "cells": [
  {
   "cell_type": "markdown",
   "metadata": {},
   "source": [
    "# Binary catch\n",
    "\n",
    "**При каких условиях два тела, налетающие друг на друга с бесконечности (в системе центра масс) станут связной системой из-за испускания гравволн?**"
   ]
  },
  {
   "cell_type": "code",
   "execution_count": 1854,
   "metadata": {
    "vscode": {
     "languageId": "wolfram"
    }
   },
   "outputs": [
    {
     "name": "stdout",
     "output_type": "stream",
     "text": [
      "  (CleanSlate) Contexts purged: {Global`}\n",
      "  (CleanSlate) Approximate kernel memory recovered: 189 Kb\n"
     ]
    }
   ],
   "source": [
    "(* https://mathematica.stackexchange.com/questions/850/how-do-i-clear-all-user-defined-symbols/861#861 *)\n",
    "<< Utilities`CleanSlate`\n",
    "CleanSlate[];\n",
    "\n",
    "ClearAll[\"Global`*\"]\n",
    "(* ClearSystemCache[] *)\n",
    "(* https://mathematica.stackexchange.com/questions/111605/quit-vs-clearallglobal *)\n",
    "if[Length[Names[\"Global`*\"]] > 0, Remove[\"Global`*\"]];\n",
    "\n",
    "(* PacletInstall[\n",
    "    \"TensorSimplify\",\n",
    "\n",
    "    \"Site\" -> \"http://raw.githubusercontent.com/carlwoll/TensorSimplify/master\"\n",
    "]; *)\n",
    "<<TensorSimplify`"
   ]
  },
  {
   "cell_type": "markdown",
   "metadata": {},
   "source": [
    "## Einstein Summation"
   ]
  },
  {
   "cell_type": "code",
   "execution_count": 1863,
   "metadata": {
    "vscode": {
     "languageId": "wolfram"
    }
   },
   "outputs": [],
   "source": [
    "ClearAll@EinsteinSummation\n",
    "\n",
    "EinsteinSummation[in_List, arrays_] := Module[\n",
    "  {res =\n",
    "    isum[in -> Cases[Tally @ Flatten @ in, {_, 1}][[All, 1]], arrays]},\n",
    "  res /; res =!= $Failed\n",
    "  ]\n",
    "\n",
    "EinsteinSummation[in_List -> out_, arrays_] := Module[\n",
    "  {res = isum[in -> out, arrays]},\n",
    "  res /; res =!= $Failed\n",
    "  ]\n",
    "\n",
    "isum[in_List -> out_, arrays_List] := Catch@Module[\n",
    "  {indices, contracted, uncontracted, contractions, transpose},\n",
    "  If[Length[in] != Length[arrays],\n",
    "    Message[EinsteinSummation::length, Length[in], Length[arrays]];\n",
    "    Throw[$Failed]];\n",
    "  MapThread[\n",
    "    If[IntegerQ@TensorRank[#1] && Length[#1] != TensorRank[#2],\n",
    "      Message[EinsteinSummation::shape, #1, #2];\n",
    "      Throw[$Failed]] &, {in, arrays}];\n",
    "  indices = Tally[Flatten[in, 1]];\n",
    "  If[DeleteCases[indices, {_, 1 | 2}] =!= {},\n",
    "    Message[EinsteinSummation::repeat,\n",
    "      Cases[indices, {x_, Except[1 | 2]} :> x]];\n",
    "    Throw[$Failed]];\n",
    "  uncontracted = Cases[indices, {x_, 1} :> x];\n",
    "  If[Sort[uncontracted] =!= Sort[out],\n",
    "    Message[EinsteinSummation::output, uncontracted, out];\n",
    "    Throw[$Failed]];\n",
    "  contracted = Cases[indices, {x_, 2} :> x];\n",
    "  contractions = Flatten[Position[Flatten[in, 1], #]] & /@ contracted;\n",
    "  transpose = FindPermutation[uncontracted, out];\n",
    "  Activate@\n",
    "    TensorTranspose[\n",
    "      TensorContract[Inactive[TensorProduct] @@ arrays, contractions],\n",
    "    transpose]]\n",
    "\n",
    "EinsteinSummation::length =\n",
    "  \"Number of index specifications (`1`) does not match the number of \\\n",
    "tensors (`2`)\";\n",
    "EinsteinSummation::shape =\n",
    "  \"Index specification `1` does not match the tensor rank of `2`\";\n",
    "EinsteinSummation::repeat =\n",
    "  \"Index specifications `1` are repeated more than twice\";\n",
    "EinsteinSummation::output =\n",
    "  \"The uncontracted indices don't match the desired output\";"
   ]
  },
  {
   "cell_type": "code",
   "execution_count": 1871,
   "metadata": {
    "vscode": {
     "languageId": "wolfram"
    }
   },
   "outputs": [],
   "source": [
    "(* Правила для скрытия аргументов в TraditionalForm *)\n",
    "\n",
    "Unprotect[Subscript, OverHat, Derivative];\n",
    "\n",
    "MakeBoxes[OverHat[r_][OverHat[t]], TraditionalForm] :=\n",
    "  MakeBoxes[OverHat[r], TraditionalForm]\n",
    "\n",
    "MakeBoxes[\\[Phi][OverHat[t]], TraditionalForm] :=\n",
    "  MakeBoxes[\\[Phi], TraditionalForm]\n",
    "\n",
    "MakeBoxes[Subscript[OverHat[r], n_][OverHat[t]], TraditionalForm] :=\n",
    "  SubscriptBox[OverscriptBox[\"r\", \"^\"], ToString[n]];\n",
    "\n",
    "MakeBoxes[OverHat[\\[Omega]][OverHat[t]], TraditionalForm] :=\n",
    "  OverscriptBox[\"\\[Omega]\", \"^\"];\n",
    "\n",
    "MakeBoxes[Derivative[n_][f_][OverHat[t]], TraditionalForm] := Module[{primes},\n",
    "  primes = StringJoin[Table[\"\\[Prime]\", n]];\n",
    "  SuperscriptBox[ToBoxes[f], primes]\n",
    "];\n",
    "\n",
    "Protect[Subscript, OverHat, Derivative];"
   ]
  },
  {
   "cell_type": "markdown",
   "metadata": {},
   "source": [
    "$\\hat{r}_k$"
   ]
  },
  {
   "cell_type": "code",
   "execution_count": 1880,
   "metadata": {
    "vscode": {
     "languageId": "wolfram"
    }
   },
   "outputs": [
    {
     "data": {
      "text/html": [
       "<div><img alt=\"Output\" src=\"data:image/png;base64,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\"></div>"
      ],
      "text/plain": [
       "FormBox[TagBox[RowBox[{\"(\", \"⁠\", \n",
       "\n",
       " \n",
       ">         TagBox[GridBox[{{RowBox[{OverscriptBox[\"r\", \"^\"], \" \", \n",
       "\n",
       " \n",
       ">               RowBox[{\"cos\", \"(\", \"ϕ\", \")\"}]}]}, \n",
       "\n",
       " \n",
       ">            {RowBox[{OverscriptBox[\"r\", \"^\"], \" \", RowBox[{\"sin\", \"(\", \"ϕ\", \")\"}]}]}}, \n",
       "\n",
       " \n",
       ">           Rule[RowSpacings, 1], Rule[ColumnAlignments, Center], \n",
       "\n",
       " \n",
       ">           Rule[ColumnAlignments, Left]], Column], \"⁠\", \")\"}], \n",
       "\n",
       " \n",
       ">       Function[BoxForm`e$, MatrixForm[BoxForm`e$]]], TraditionalForm]\n"
      ]
     },
     "execution_count": 1880,
     "metadata": {
      "text/html": [],
      "text/plain": []
     },
     "output_type": "execute_result"
    }
   ],
   "source": [
    "rh = {OverHat[r][OverHat[t]]*Cos[\\[Phi][OverHat[t]]], OverHat[r][OverHat[t]]*Sin[\\[Phi][OverHat[t]]]};\n",
    "rh // MatrixForm // TraditionalForm"
   ]
  },
  {
   "cell_type": "code",
   "execution_count": 1881,
   "metadata": {
    "vscode": {
     "languageId": "wolfram"
    }
   },
   "outputs": [],
   "source": [
    "$Assumptions = {\n",
    "  {OverHat[r][OverHat[t]], Subscript[OverHat[r],2][OverHat[t]], OverHat[t], u} \\[Element] PositiveReals\n",
    "};\n",
    "$Assumptions = Join[$Assumptions, {rh \\[Element] NonNegativeReals}];"
   ]
  },
  {
   "cell_type": "markdown",
   "metadata": {},
   "source": [
    "## Система движения в декартовых координатах\n",
    "$$\n",
    "\\frac{d^2r_k}{dt^2} = -\\frac{G(m_A+m_B)}{r^3}r_k - \\frac{2}{5}f_{ki}^{(5)}r_i\n",
    "$$\n",
    "\n",
    "Ч.Мизнер, К.Торн, Дж.Уилер Гравтация, Т.3, §36.8, стр. 222\n",
    "\n",
    "Введём обозначения для полной и приведённой масс\n",
    "$$\n",
    "M=m_A+m_B; \\quad\n",
    "\\mu = m_{AB} = \\frac{m_A m_B}{M}\n",
    "$$\n",
    "Задача двух самогравитирующих тел с массами $m_A$ и $m_B$\n",
    "в системе отсчёта центра масс всегда сводится\n",
    "к задаче движения тела массы $\\mu$\n",
    "в центральном поле массы $M$.\n",
    "\n",
    "$f_{ki}$ - квадрупольный момент системы.\n",
    "Задача решается методом последовательных приближений\n",
    "Первоначально строится решение в приближении Ньютона,\n",
    "затем для полученной конфигурации находится квадрупольный момент\n",
    "и находится его пятая производная по времени.\n",
    "Уже на следубщем шаге (уравнение выше)\n",
    "находятся решение с **заданной** функций от времени (**и только времени**) $f_{ki}^{(5)}$."
   ]
  },
  {
   "cell_type": "markdown",
   "metadata": {},
   "source": [
    "### Безразмерные единицы\n",
    "$$\n",
    "\\begin{align}\n",
    "r &= b\\hat{r} \\\\\n",
    "t &= t_0\\hat{t} \\\\\n",
    "f_{ij} &= b^2\\frac{G}{c^5}\\mu\\hat{f}_{ij} \\\\\n",
    "f_{ij}^{(5)} &= \\frac{b^2}{t_0^5}\\frac{G}{c^5}\\mu\\hat{f}_{ij}^{(5)}\n",
    "\\end{align}\n",
    "$$"
   ]
  },
  {
   "cell_type": "markdown",
   "metadata": {},
   "source": [
    "$\\hat{f}_{ki}$"
   ]
  },
  {
   "cell_type": "code",
   "execution_count": 1884,
   "metadata": {
    "vscode": {
     "languageId": "wolfram"
    }
   },
   "outputs": [
    {
     "data": {
      "text/html": [
       "<div><img alt=\"Output\" src=\"data:image/png;base64,iVBORw0KGgoAAAANSUhEUgAAAbYAAABaCAIAAABbmuRqAAAAzHpUWHRSYXcgcHJvZmlsZSB0eXBlIGV4aWYAAHjabU/prYMhDPvPFB0hFw6Mw9dS6W3wxm84qoqqloiNcymp//89021AmJJlL6gABaxalRai0MJipjrjxIWt+PRTbktwCyt/Eujbv07fsVjK1yCSJXRsCK22G/YgleXzXnjtemmlnIOUDtS34N9/UxdksFtEE3JHDV1SyCBkoex44g5EIeMhZPfgDvdog48KbaNxQLqf1T1Bw3iME3S8rC1YI7LGVdNrajOKVrl2dh6SXprpWuiYpOPzAAAACXBIWXMAABYlAAAWJQFJUiTwAAAAPHRFWHRTb2Z0d2FyZQBDcmVhdGVkIHdpdGggdGhlIFdvbGZyYW0gTGFuZ3VhZ2UgOiB3d3cud29sZnJhbS5jb21coqaFAAAAIXRFWHRDcmVhdGlvbiBUaW1lADIwMjU6MDM6MTMgMDI6NDI6MjkLyVraAAAgAElEQVR4Xu3ddbh1RdUAcFARUJBGugXpkO6S7lIE6eZBUlJApERSQkpSGiSURlK6FSQlRGkQaaX8fnzr/Yb97XPOPvueuufed88f97ln7zUza9asWbNqZo/63//+d5T2ynvvvXfSSSdtvvnm4403XnstVbUrClQUqCjQXxT4UjvofPDBB0ccccR000334x//mKBsp6mqbkWBigIVBfqQAm2JyD/+8Y9zzjnnJJNM0ocDq1CqKFBRoKJA+xQYtcDQ/vTTT7/85S837WPttde+9NJLX3jhhSmnnLIpcAUwMlMAR5133nm33377GGOMscwyy6y22mojMzWqsZekQA/YpkjWEZF1Cw1x2223bfQ2+3yttdYyVCKyDHAFM9JS4D//+c/iiy+OVdK++6Mf/WikpUY18JIU6A3b3HLLLbvssstHH31Ui1V9Q/ucc87Za6+9DjvssJJivgKrKNCUAtjpa1/72ksvvfTaa68Fax177LGPPPJI04oVwMhMgd6wzRJLLDHrrLN+97vfff/99/PUrpWaF1544RRTTPHmm2+WFPOVFlmSUCMPmJ1fKO+zzz7LDnm++eb75z//mZ585zvfwYunn376yEOWQRwpQ3IQey/Z9aCzzT777MPQgUYW4bwW+eSTT2622WbHH3/8+OOP3/u9629/+xvr3loSJV9uueVOPfXU9nOSuj0KGF5yySUbbrghtFdeeeW999771Vdf7XanXWr/9ddfl5zw+9//vp32//73v0822WQURqRI7RCXJ554YjYtbJVVVvF2UNisndENxbo77rjjWGONddBBB/Uz8v3ANvvtt98bb7yx++67/z9CZeUlPp5//vnpnCWlfoC1o0VCiFCOdq644ooxxxwzN4sbb7zxgJDpDfCdd94ZHVHLF1tssRzOlv0f/vCHNjEhrZ566qk2GylfndGw5557fv3rXzcWsixX8e677y6phnz88ceLLLJIEGTUUUe99tprG+Gw5ZZbmm7bSXkkhzpkltvLjKU82Ytb+8Y3vmE6pplmmjKdFsB0D//+YZvf/e53aHXzzTcnOoySpcjFF1/s9WWXXTYgUrYsIkWEBMH5PXX36KOP0jvWX3/9v/zlL88//7x0S8Z+rLS77rprQPh0FfjDDz/cZpttZp999n//+986WnfddWG40korHXLIIUTMpJNOGjhLhMoalWVQ+sEPfqD6WWedFcAPPfTQN7/5zfSzTAstwxxzzDEzzDCD7gL5WhG5wQYbLLvssq+88krTLvbYYw8t+At/kzvRRBO9+OKLtbXeeuutCSaYYN99923a4LAByHJ73UHlGABMebIXU+lnP/vZVFNN9atf/aodYnYV//5hG2rit771LZpifRE5zzzzWNsl9YXURGsiEsW/+tWvpmnbaKONnM/JTuEDDzwQK/aXv/xlO1Pbwboow5QmHwUcNHvfffdB74wzzkhdEIsSRQPtAXGk/ZnOpRZXQ2rt1ltvpdadcMIJHRxC3aaeeOKJTz755MEHH2wkIkX6zDLW+de//lWAzDXXXDP66KMn9+LLL7/M+cAo0Xiu1vbbb8+RQnfo9tD6pP0ct9diVZcBSpK9B2PsKv79xjYRS7zxxhuDsF9okdQ3L1owbElcFR9++OHyU0WzIIs32WSTVMX/jNZcC+OOO66Wzz777PItdxWS1jPaaKM9/fTT0cuuu+665ppr5nok10LQUDbLI0NzV2WOOebIVSEf9YhByzfVMqS0rUYiUpvCLzQRO0TBDsoz8Nhjj2URMKdYLSciqcazzTbb22+/3TKqQ6tiLbfX4t+IAcqQvdvU6Db+/cY2kWWRpNMXIjKc6zJ7y1NcDjAZEeqPACXpW6augNFCCy1EP5L/UQBPYdEyB3+obE0Ly5dxd8899xRYuF4R5c5KNmqNa+ymm25i2r/77rv28Oza5iqFj+SpVFdcKycRvDK6L33p8yDYgETkzjvvrIopyCFGz5pllllsJ3XN1bqjsKh22223q6++uinFcgDFIhLwueeeC8k2rWPiXnZF8dQPFPM24f/xj3/ccccdfOK12m607Pnjjz/+7LPP5mL0qV/T9Oc///m666575plnwJiC9KoktzdigPJkL2DdQIYOVMtd0I6Hlk+wfQ6mZ/gXT2KP2WbyyScfe+yxedVg9YWIXHDBBS2Av/71r20yXNPqXF064q0vhgQAywJ/f6rOd+mohgMb4uBf+d9iB+DtSgC4lnNz6qmn1i/5RdKxGXPKKeVop512ktVM1isaIZ2T19ZbUVrVm4oqZI3UaFkBTUkRAEIltKpG+9PJJ5/sFXFcsjU7CniB6ZLwCaypiERGREA9BK/bOCFy/vnnE9BLL710SFJSY8UVV+RTCxPB/sRNka1uS+6NjlwXYT4c24/w2sQTT4xoHLKXX355FpLFIFeOlzy2PXEP3uecfL/33ntnmmmmccYZh+tAUxNOOOGSSy6ZGinD7cUM0JTsxaxLMu6///7TTz89T3dgRepdeeWVm266KWwtBCtFPoaQtwHykxx88MFZCvQA/z5kG5ofagRnjhCR9hCeQazQaJ8c6HorgF944YV178xiIxhhgQiDrLHGGtkNuS48KUaWMfZDeAkChla76qqrJobAu55sscUWFif7TnQiLMr11lsvjffoo4/2JCnCFo+fVng0cv3119c1hGtRCgcl67jMZiOrSUA8e8pz5plnpghnm+WdjMUZe1rT0j0RqWvrCjK5VZRQOvLII01Z0PYXv/gFcWmniZ/WJHHDc8KA0IhiGzMvtusIfPW4UAzXWWcd6LmkKnhAzA2e5iLRX/ITwSGKxYBgUvzpT3/irAeD35JYJ/qJHlGpME2w7re//W1jTMMp5vYyDNCU7AWse9pppwUCShKRVN2UhoFRSUnBbr5m8hGY5cM67CX+fcg2NvgkDUaISFksHrHpus2psp9iGuq6omynW221VTb1h2L43HPPNcIKg3KQUTZ5uxNMJJ0Q9/Ek0sGInuzpItHn4JtTTjklwBZddFE/k4/WE/agDIB4S7x6y/nYlD5gQApHFEOyaGwDdBOyOBIJBKzC12H49tVs9RlnnNHznILTqP2uikhKH0zmmmuuRr1TSYKwckUJjsMPP5xHxT8m0TqMV9nCwGxK0m4A0PGhkfVs3HDDDYEY4a5HPplQLSPjIgruNRYP6Zuxecvu8pPESTBmkyRN8N7W5fYBMUAx2YtZFyZuUYBGEpGBmx0ixuscXWwSEY1QRMB7ib+++o1txGDRISINI0QkD7pHbIpusGO2TWchdUTDr9sRvrzgggsOPPBAk5oUECHRRrotC0JrDORsa7QAA4k4ONHJAAfD0M7CENAhiGkEEX9QxU/aqGUQkCzctJ0ynbx1YK6YPvZnyvi0005bfDaJCrPAAguk5RcZD6FWx5mT3IgCt9wQGmHSVRHJZwcTulWj3mN+aYts7cj8p17ljit0m8eato/NYGh/yk0Teb366qvH/sRTYSB231xrKR/+qKOO8ioIoinaaEBS9m3z8X8jbh8oAxSTvZh1oWHDrhWReMxDWmR2gOFNkn7US/wTofqHbcJq5P6C2wgRSSp5xCXRlL0CgByx69YtTN2CRsLlz3fTtCP7czp6wVleF55FozXWRKPWkmpQa9d/73vfiz0zItRnnnlm/NQpUZhb1YwRr1iOBWgTtSussAKLOLnAGwGzLLTGSRcA1F42TnjK3ezglStwsnWxrIeNFC5xLQ6EVMLSD69CKmUuGWnqi4SS4GNQqVE82vmEAJh33nl74LRpykV1AfhPYChts6B62CK1OQZYMQbIwaq6MdoR44lwv/TebJuNuH2gDFBM9mLWhc8OO+wAvZwWGQGinIiMgETK0+gN/jDsN7bhVEEHa/kLESk24tF2221Xkuck/QVb1JZarsq2GT6+bGZmQY+s4GifalkXLI4NOFTeqJGwp5TbbrstB5Mu6eBp8ip3ToZtmw0jxMm54jCxMAWGa3quhgoTh1iifUoHxXP55ZcP9H74wx96lbPTHcr0MJc3moYTvN60NArXpnbKiMh0tjLp2jmqhnasSH4qyUu9BwsJxfdS0LWoCxi6cC1M2B9zzz13vOJSMIMxauok7Sylr9Xl9hYYoJjsxaw7IBEZOkcSkb3BH4b9xjb8QjGh9I8RZ7Qdd/NbVK7pSgsA7nZV6paUGFi3qUh1pDGV6Sg86MF5tfDc/O+8847n1MBGrUXoRpHGnIMRKMg2zndJ5eSmDXa3by+11FJJCW2Ktp2c5cVvJbZePDQp8Xia2hh6ingoJ2kcWFaY6v6GuZ1KkCsEa22hjXI4pCItCQyeyz484IAD6tKwzCzUYtIIGR6l0GHpU3HvWX+W4HYGNcW/EYbBObVs42FwTqInpxCHDInpIaVSMJARIA3Iz7ps0zIDNCJ7Meu2MwW9wb8P2SZ0L+VzVomdkBbjt4XU7S2dIqYjUcKSHcVmLnOtLnxc4ivKVJvPTFWWnCHJMYZKk8+1wDyPV+F7SsccCVwrPF5x2Ie1GOnxtSfzok2aI5HHd1lmUFyKmqKlBnBEkyIkBRN6KI7P2cWBD2dImfa76osMCchNXNeIvuiii4JuYsFlUB0smDT1tZ4TjMQPBbEQ8RTG2hMNwXXCa8AsoXDUUNK5I9M9HZHyVZfbW2CAYrIXs247WmRv8O9DthGLC07mNBuhnTH3gvXjRfdKBATZGmW6sIeLt1CpksaXq0U4eiJ/O2f4kzjECuZ2HDBSGSImmC2hS0uLi0grJ0OcwBOstMJZzf4nbsL3VIC26JBMF2e0Oemz7dsb+eNqhxkqTCI1BYRXOHCQTEP7sFHl7m8PcgUOg1sCE/tWUs+z+ISTm8+LYju4eBb3HmyjULRzrOiWF34br2JTtC54sbOtsV1k9ngSbjupIKG2yxbaeuutSauIeIQtVZdtWmaARmQvZt12JqI3+Pch26Tl+blgjJ3cWVqkLHk8pp3NH4eJEuqLRZltR0bLb37zm9y5FzxHpWoUqwn1LTjAimUj28+14CyXLPGkc5E4AZOL2EQmTbongqGUjYcEH2s20i1JQD85CnNj555n/0o9c840FalCNAWZHy6hqqVV5BNomfylelDpZSABszJNDGdQzmlIXwtV2rmoMpRvWYs0liBUQdK7QBYApmVdTEKyD1YeTxniBAySpsRAaYy4CNtQ4W1y7IYIc9ubg+z2uWy6WEQwME885Mim+GdzzsJxHEHtutw+UAbQTjHZi1lX9UhZo+FmSRQxnJxBEO4C6kVA9gb/PmQbHBJr4fOchKBFkCYywrpdIi08JUkEy4YLnPQ0ndCyOTtPYkOWclyMTwSacsUCSGwtNh0bPmGUDpJHBF96eTIYUQCvJzEKvQCI3iNlLBcTJOXT1T61OHhSe+RLUxyLcjm9pXvKe/cPpVX+IN8W2602Vf7+++8HIz+05Ly0LCIPPfTQGAUXcKO+wmda99Q8XT6qZxOPS+LcezBTU+t5Z3Bkk09lOGIJI8KKceOGIBV9X84TFg2ciUgA8tIiIYGoZYWolfI6arl9oAyg2QKyx+ItYF2ugwiGZI9FeQjnmK+EKs6JMzYuYUo3jHQb/75lmyDO50pY70XkVVddpe/cBRDSzZJyi1OZQhLTRGPKLB53PaT0IHNMi8l9g8JPBhRTCJewauWEYynaZdaDSVkghgBISKJZACassxfbhKLNxZlQClusURGNaYQ8bdfBknSohuyWLdTo3rOQXCmbtylBaDTg5Vo2hUwA3BTyELIDcUyQCp9rARmR1/rJHu5MMHFQkhY20JuiyuPZWcg4t5qiLhiDyy/Xhf0JPxgXFYyCbwtHmaxZw2Lgq0EWBQCjx1G/7L5el9sHxADFZIdwAesKIca52yjCL64O4OnOeq4MisZAOcge2TCPbjzQeLfx71u2GUwRie7uExI4TpfpBl+SR7aUiDO2sBiwHd4tSG3hmpSCSxLZNmsP80Winx2eg1apPc8PNzzUwk1IjcZCYZRTIuexILMazlicmlD3w0MtUKmdKrYifCPHpZ1G+q2uiSYL+FUKEMOTRs2BU5teal7iExTOiZKnAGoDWXW5XXdlGABYU7I3Zd02ad5t/NtEr0vVB1lEmlQJt25p7dLwutTscccdR82sTbFsuTuehOLgLzcluVzXYG+509YqCp3RQTq4Q7SGxlCsVcDtTRmgH8g+1PFvjWc6LCJFh3nTrB/fxymJELcOA0EApB/0o5I4A+M4l7FEGy1fpREkorHLCi6n4Bp29XrxaaX20SjTAhWJ60MgYmhNVpmh9QamLrc3ZYD+IftQx7+FWe6YiLTCOfU4Yjj7Sl7smNBVV4CiZLpfC4PsUhWueipwyXt3CnCQZ157I2+CFwcQKKdEdGkUA2pWvCsOXFelZQrUcnsxA+ior8g+1PEf6MR1RkRy/MmwZXumG3EGigf4frvjoMwQOnJ/lyBJwY1waNv0yGAZVDsC05HxdgSTod5IltuLGcBI+5DsQx3/8vyTROSo6vghiY/TmmUXF5yULMLQ4q2Cpz//+c9LVqnAKgpUFKgo0P8UiMMRkn7qnH0uib1bGEhGGQM/+clPnDew45WsWIFVFKgoUFFgqFCgdREZoVgpprIIZVBzR7perOTJwqFCnQrPigIVBUZyCrQuIp1NRjuXbPsCgYCXez0dR4/TV1WpKFBRoKLA8KBA6yIy7ndwBaxrveWmOGEtG5yUlAE+PEhTjaKiQEWBigKti0heSB7NuJNCcebfHaX+SbdRVsStKFBRoKLAUKdA6yLStwr4It0PmkgQBz/TbZRDnTQV/hUFKgpUFGhdRMYnBMIjGcU5OSdP0qc8KuJWFKgoUFFgqFOgdRHp/gV3jkl/DeejK3Ccl3IpbEc+ADDUyVrhX1GgosDwoEDrIpIj8tprr3VIzq3g6623ntsPfQzIJ6iGB12qUVQUqChQUQAFWheRKruFQSDb1WFuM5T6Ex84rUpFgYoCFQWGDQXaEpFBBV8miDtohw1RqoFUFKgoUFEgKNABEVmRsqJARYGKAsOVApWIHK4zW42rokBFgQ5QoBKRHSBi1URFgYoCw5UClYgcrjNbjauiQEWBDlCgEpEdIGLVREWBigLDlQKViByuM1uNq6JARYEOUKASkR0gYtVERYGKAsOVApWIHK4zW42rokBFgQ5QoBKRHSBi1URfUeC999474ogj3nrrrb7CqkJmiFKgEpFDdOIqtOtQ4IMPPiAcp5tuOl+pIygrGlUUaJ8ClYhsn4ZVC/1CAZ+cm3POOSeZZJJ+QajCY+hToBKRQ38Ouz+CTz/91H0lW2+99Y477uib6d3vsMUell9+ed9Qctlzi/X/t9pxxx3XTvWu1nVZjA+ObrLJJocccshrr73W1b4Gq/ETTjghvlzdZukYreLb23PPPTeEfEe7/Ke4K8iRhAK+Lr/44otjj3RTiSud+nnsa621FmxfeOGFFpDcb7/9fMizhYo9qGJzGm200dIsTDDBBE899VQP+u1xF+7q3meffdrstH1ahYBu6zvabcr4qvpQocBhhx3m1ruXXnqJ2uJ/aB977LGPPPLIUMG/PJ40ZVdE96cWybW61VZbwdAH62+99db55pvvzTff3HPPPcuPbqhAHn300aeeeuqZZ57ZMsIdplWlRba5X5WszlYtCTmIYBRGEY/PPvssi4PV6PPo6YkblPHu6aefPoh4Fnfdmhbp2nyf8CSDuj2uHHlLdnfuuefScBOwr9ibhammmqpk9aEFduGFF9KXH3rooTJo1zJtR2hVaZEtb1GtVOTCG2ussQ466KBWKveqjo+hTzbZZBTGvffeO/VpPZ944onjjTdeerLKKqv4f/zxx+8VXj3qh2o89dRTb7DBBtn+LNGzzjpr5ZVXnn766eeZZ57NNtvs+eefbwch33fSy4wzzvjiiy8OqB2uMGH6VIXXlRAZ0rPw+uuvG1HI+lzxFQMkOuaYY5qSqC7TdphWI5UW+cYbbzz55JNltiYwprBTvp74KuQ000xTsutGYAPCXyN33313Se31448/XmSRRYIj45MbjXDYcsstxxxzzFdffbXNsXSvegtapO8v2RsOP/zwLFYffvjh0ksvnVulwB599NGWkT/yyCOjQYZky42oGBJ21113bdTInXfeWb79DrJ6mU7DReAqbkOwAdet4isvY4wxBsiCBksybVNa1e0iaZGjjDwiUkbIlFNOec455zQiug+WTTrppLSGAKDn+6Bj+llm7hvB+HAFm4ifq51GBoq/vuhEyy677CuvvNK03z322ANP+GvUqDTRRBNhrNpa8rFFCfbdd9+mDQ4iQAsikv/RZ+lIiizaG220EQY477zzOGHtGd///vdj2dDgWh6dMCtPxaKLLprra6AN4iiqfd1GSPZtttlm9tln57XsPas3HQjdcIYZZkDYIGYjEYnTvvKVr9hRChosybQFtCpofKQTkeQLT1OBkKKg0Z7QxXccE+H4xe11kYUwuKU1/D/66CPyQhIMLakA/2uuuWb00UdP7sWXX36Z/3GJJZb45JNPcrW233775ZZbzu49uNQo7r0FETnrrLPOPPPM2WbJsrHHHvuJJ57IPlx11VVxCNk0uMN/7rnn4HDjjTfWosFo4BYgH4n1RkgOLqsjKb568MEHi0Uk5OeYYw7mdqNRlGTaAloVT+LIJSIpRNKJZZMVEOWyyy5DFLOSgyEfOX1IqEFcFe3gL/xCgbVsCixu/oTHHnssO8D333/fCsyJSAr1bLPN9vbbbw8iKcp0Pf/885vKhx9+uAwwGFsCeP6vLDx+4PXPtRDeMad3SrbcDbB3330Xl5522ml1G6fgY9enn366z1ldSlZTERl+4azKkh1UGaYtptWQEZHMAcbdPffckw2b5rD3CseL5TcaFdfYTTfddNdddyEK1Sm7tgW8FlpoIcqgtJUCouy8887mQ6QiB0NjmmWWWUjYuoZnFrgAhwDjqq9t3Pcj4yE6BP45mDbx15qlbmhtWsc2CapWMQ27IREG1Obtt9++5pprhjXAnpWiVKb6lVdeCX633XZrChxM0jRrD8+Y1uuuu+6ZZ54R77JL5VrmYiOXcw9FHpLq9+yzz9b1eGLs1VZbrVH+8hVXXGHsu+yyS/FA2mf1poRqClBGREZKk72qaWt1AYpp1bTNvtAiBQeXWWYZTlnbMr+DQtHjg0jYYy9HbkUAoctVZPrZjGeffXZ2eJSjnXbaST6tJaFohA1y8803JxjODtUFGQqIgmXpR8A4nmrBTj75ZK9EMxu1UIwDybj//vsLiXJ0RguknmW56aabikgakSFvuOGGQt56YfAefPDB2Y7axx8ZhapRD8HrDsGCPP/888kI0YmQpJb3iiuuaBunTvppf2K7Zasj1OBq1k1ZvDwAXxXKH3XUUcVVHn/8caY3CcXZVwB57733zjTTTOOMMw6PhPmdcMIJl1xyyYBHzIsuuogfgM8HU8VDYlSYaMEFFzRBNrOLL744WFHRTnZjNo+Y0Oma1LsGU8QGE5pltYr38jZZvTxViyHLiEg5BgVbezHTFtOqzCgGX0SSYmQZmyhmVOw1Nn/uniRHMJknW2yxhcXJvktJAGyilFwm0RRM0hcEwvy0whMVFl54YU8uvfTSunSRpLrYYotlv3DLJ0WlzQJT9bUgKt1obRTgwCAKBJQkIq0KncZDZhEpKdht5ZCPnqADbaiD+GuKONZyTvimLjjF11hjjcCHhkJc2mniJ1HOaht33HFp4hpRbGPmZfLJJy+IBpRhwf6BWXvttY20kekaeF5wwQUTTzyxfTo7NbVDILPMsmBXWDwCZb6fjHT+p1pSCLwNwiYR6SihCFg8ZK/ggRVWWCFJSecpUy/UQwigf0zE+uuvz1WXovDXX3+9Fmo9Ral6R1i9U7NWRkRy7BjR6quvXrfTYqYtplWZUcSMOF0zOBFtnMRBZk/mOU7oRtKJpIp4ElmEBBbDOcGk4wSnnHJKPBQcBJZ1XbMHHT+Kt4yXEDq1HjQm7brrrovnSFVbNzARzEgJlNRij8rSES96fvnll9clbjEOqsQiTCIyGllnnXViGvbaa6+Q+PTNeEKv6Sz+lD7NzjXXXI2YI10ddskll1jhFh7XhH94u4nvwCpbGGtl+GxIwMTxSgOvi63NldxJY8dLP/3pTxuN6/MVNcoo9r8EgLUkVKaf6VRSEpFesamj/WmnnZau6gl+cA7SE/pmBMcwfO0seJtsc5oEgLppQB1k9U5NaBkRGeEBGsZAmTbOgOVKllZlRhHVB01EMjx1z0DO4kp3s2cSWB4SnQxwMAztLAxJR355TgON+IMqftJGScOAxHxpq7/lllu8Ze/kiMJPscACC3gVOUCRPRCaZpweyeEWveSQSW0W4wBMIFj1nIjUhYe0yCxuYStJP4qHncL/jjvu0CxbvhFzREe0RbY2dQMYPYhDoAwzDXWYkID05boDwUvEkxlk9sayISWtnLrAQWf77kknnRQALA8HBxOwNJ1oJCsi5RvEw6yan2RiyeRc5rwWGKddZfVOzXUZESlmbUQ0nkFh2piRQTujHUYB91bgEYWY89wVCf4XwGHH+YebMgvD2uUM8oTWQ9HzT4S9OIDcgiW7jcqJI1MWdGSN0oayjfifICaRw93mp2XAwAlJF3Wj8VSihUYnIopxUNGaySHgZzgWcoVy7Yl1Fc87iz+p984779R26olgl7/WKoDNN9/c/7RIG29d4D58aBXx1TQqAiYFONt3vU2+hRwkfuDIPv744/FkpEbqyy5St0E2NU2QDigz0TEkZoGdPnzZUQbKCVlmKCZ7Z1mlEaujFb9TcQnTrf0SMxKzM4hMO2Lp1l2u7Q+yUQthUUaAom5xBiae83bnAJgt8USeir+M5fDriXoTr8QueZeq0Eb9z3eebYR4ddzVkzCryeL77rvPJhz4hMkpfTpbJVpoJF+KcRgQGXMT0Vn8C4bAe1WmzmsAAAlqSURBVBt4cvH0mBkGRJ9GwBH3b1Tk4hX0EtPaSESmiswX/gpOWE8c6K7bINLxUcTWctVVV9FPeSSKBXQjxAY6C51llUasfsABB3C8FBfbPAuv/WmNGSmgXg+Y1iyMEJExqR0ZWFPSEEkxAeIATfkjctayJXhUiQ2Z7/KGG24Qh40hsEqWWmopTwKG5egvX0y2hQceeIAzlNoYCiMNlO4ZR48VsRR/w9xOJVqII1O1pRiHRmMs87yz+Dcagl3BJuGt9MlwzA25Yja5TRuVFP2oO66IktENm47agllppZWAZeN7uVr8zjbpuF2QOinGyO7hT2zaeJsAnWWVRqzO8OIlKy7EaF1leaADRL0CUneVaZMk/FyqhJ1PrMDmwAMP7JSvobid0NHE72rzme3Pku/C7lOyt5tEmyKP8SoiKnIJ4zmBa4XHK8HHCIBcffXVfjrtlMWHS9HDlLgfcSGrC4w2OQeJvNxtg9FyI/oU46DZHXbYQfWcLzLS03K+SHqQh5L7AuFO4R8S0LZc95oZmShBN3cK9IYB+qqXcDJmsyAK0GNxAxYbqQvD1Rhp25zd3JHp+g+1Al7OTZA664tMtmTWF5lUJCuiDLkiYT53nq/jrF4GkzIwZXyRQQGnFes22FWmDS+fcv/994/QIiMGYl7jRbcL4agLlrITgdm+yCnCiIrHsRh7e4RiczB+yuWOSOt2220Xh5mQ0gqX3Od/YT6RQf+ED5ENnm0hXObJsLLn0zKiNTxqw7cN5gztaKHWpxnNFuPQDjE7iz+vRV3zLVzDJDgdoR1sh2jd0L9KKnpywgHLRKk7WJdHSDfxiprpknZ7Z8TfnGTtNnE6yyqNWL3bo8i2HzMSs1Nbusq0SRISjCNEZOjVZFNvSJCudeI9pCc6D6trKTWUWYxF2IlBh6PQq4j9pxK7h7h+Wu2i0vHWk4hN+ycoyzUptQits+EXqWpekaFkJTUWW4eVrWWpWPS40O9SCRXVzxQFqqVSAQ6AI/yStqaoHtMQO2RqMGAY/vGkI/hrJ3y7jfCP7VososB+rB3ysHkSrJJCZDEuZ6XE9HI+R1u4kwtyEpNbppYILrxIqiL9NIRpUidTL1lmSNI56+lKkIkZigkek5vzunaD1Tsy78nXWeDcC+9WLpCQeu8q06Zvw30uGGOJRgJK8RGUMvpzeRh91dJa4CVlQXLAO3IARhQ7nbdl6noivTwZjJw+bNWUGc66CYCEiViKJykJw3Okj8CxfGkZ7P6hfvKyc6BIjaw9LkbZBlNwMrcYB0wQCUbZ8y0euiciKCAOG9hSfiNkJJc4XRXRPv5ajiWdO5gUnUbUSylOii4/s0MOMlKyzjjjjCzmhx56aJBl3nnnlSkhn5FBQ9GWsF1wENYRQFXMbBwkBWm/x59pisVwotnsYS1ZvfFQ0njCITZ7xcGEMiSNEGjOmdNxVi+DSRmYRF6+3UbwkQlAZ6oF6DbTCmnEgiWFRohIp688shrLDK9TMG6ISHeCEg10t2yWuF783H333ak2cGULy5DCbazgrAcTBxNeAOzY9kzA/ETZi22CKZN3L5CnFToikpQmUhh3Nrr3LKYzpXPXDr8AB4SNA5RRKCzSQThiUtDJQ3ou0U/Kh7sjCndq3LrcPv7IiLzEbvZwZxpFMKLuSt4s2anZ7592XHGEArmkV1G7bM48d7aM0ezB1rr4O7PABYTaCnOEU9vB08i4tP/RADBwmmLeJJlnrKWs8s4HJeEmlIModu5Grs8cDu5nAp/zXXaW1dufNb61bCo+hJlKdeUgr5e3Wadtz5hWCFfXsd+MEJG//e1vPaKrt0+CgbZgCtm8tfdupXbY4DJyyS9bce0RwDg2Y7fkJFJqr4HwduONNxaZqr1Ml8KI7+VpF+RI652MoyfmxHd2mGVwGChZsvDt4K8dW5HJbXR6pB3EhkfdsKZrzwvZMyQA0h/LX26ESeLLFioyPuyFrX2GoTXC0q3ssriltnqnWL01xFqrRZkwLyKNrVVvpxann65tVF+IyFAsyYJ22u3bulhcQq/LZWsx5E0vDuM68ojtai/p6eVg28Ff1hTVte6y6eUQ+rkvPg1KX1326Ge06+LGJ8Ciuu2224Yoq2fRNiOW3qBcBRB5C+F4HKFF+k+4k0pf64kbclxSF2EZ/8xh35/MKoO870yhgotb3OkwxRRTJEfSIJKiNfzpMgy3bbfdtkAFHsRBdbxrwo5dxixwVFmeQ/n2LQYmcMF1fOWbGnRIZxC5BRheWUyGEKsH2rRvXrjB2tojSy8umf5CRMaNyoOi1vaGq4hC0ZhsbqMwdM5HmcWE690R+tp7/XqDbW0vA8VfCyyFOHA9khTOdAFQo47U5fLfh3GaAHwuYjN0iebEPbMpu/cPLVZH+Qhh5e7c6tmMxIH3uHP+CxEZx04b3dTQM+S63VHW7chz3OiSNGhwjxZ4SLuNZ6P2y+OvhUExUgaLMtLsfWkyws1xCNURqfLISL2Wk1sevs8hc1M/5FjdRUfZG5J6SW1bCwM/HS35QkQKd8rWHh4emV4StOqrTyjgE9jZLY2HId1lWwZDKiTdU4ylDHAF01UKCHOJrw6WARQZlymDZdTPNcn/K5w4tCrn/4b093nTcKp/RloKSPyWAcbQbnQMppYy4teyR2V9cz135IjxSEv89gduInjPmQVN7xZpv6/aFvjuf/3rXzu0MuJ7B1kIp9Ptw9m7m7qBQdVmRYGuUsA9g3K5JAkO6Dyl5ETHq9inFf93dXaaNu7rFL4yIEdtUOSjlGrmiPsAv0hnzinMvDmymodrXLur1kHVeD9QwKGUlIHvUNNAv2fLxHOHfD8MZKTFAf0bfWSpBzSRr+6QRTZI+/8MbQJeNABj8UjGHSFVqSgw5CggX8Rl0e45doUiW1viyICGYB0O9K7GAbVfARdTYBDp7yYHJ398uynSe6Lkb8MWsZFKLd8lDi9XpaLAkKMAT6LTpfHNNaf7B4p/JR8HSrHOwg8W/WmHPp3masSsfKwjIj1yD5hN2LcoXeXU2cFXrVUU6BkF4grU7Fn4nnVddTTkKMAhI1jtsqu40Cdb6nxTxWuuSlIy7mGsSkWBoUgB6Tv8/W4nGYrIVzj3mAJy1N2Y4+LX2n7zvsgeY1Z1V1GgUxTwcQ65PmKRnOkSyCWOkI/pq8Kd6qVqZ2SjQCUiR7YZH7bjpQW49NPwZEQ6We/aZh7JYTvaamC9osD/AEOY56EOGwSGAAAAAElFTkSuQmCC\"></div>"
      ],
      "text/plain": [
       "FormBox[TagBox[RowBox[{\"(\", \"⁠\", \n",
       "\n",
       " \n",
       ">         GridBox[{{RowBox[{FractionBox[\"1\", \"6\"], \" \", \n",
       "\n",
       " \n",
       ">              SuperscriptBox[OverscriptBox[\"r\", \"^\"], \"2\"], \" \", \n",
       "\n",
       " \n",
       ">              RowBox[{\"(\", RowBox[{RowBox[{\"3\", \" \", \n",
       "\n",
       " \n",
       ">                    RowBox[{\"cos\", \"(\", RowBox[{\"2\", \" \", \"ϕ\"}], \")\"}]}], \"+\",\\\n",
       " \n",
       ">    \"1\"}]\\\n",
       ", \")\"}]}], RowBox[{SuperscriptBox[OverscriptBox[\"r\", \"^\"], \"2\"], \" \", \n",
       "\n",
       " \n",
       ">              RowBox[{\"sin\", \"(\", \"ϕ\", \")\"}], \" \", RowBox[{\"cos\", \"(\", \"ϕ\", \")\"}]}]}, \n",
       "\n",
       " \n",
       ">           {RowBox[{SuperscriptBox[OverscriptBox[\"r\", \"^\"], \"2\"], \" \", \n",
       "\n",
       " \n",
       ">              RowBox[{\"sin\", \"(\", \"ϕ\", \")\"}], \" \", RowBox[{\"cos\", \"(\", \"ϕ\", \")\"}]}], \n",
       "\n",
       " \n",
       ">            RowBox[{FractionBox[\"1\", \"3\"], \" \", \n",
       "\n",
       " \n",
       ">              SuperscriptBox[OverscriptBox[\"r\", \"^\"], \"2\"], \" \", \n",
       "\n",
       " \n",
       ">              RowBox[{\"(\", RowBox[{RowBox[{\"3\", \" \", \n",
       "\n",
       " \n",
       ">                    RowBox[{SuperscriptBox[\"sin\", \"2\"], \"(\", \"ϕ\", \")\"}]}], \"-\", \"1\"}], \n",
       "\n",
       " \n",
       ">                \")\"}]}]}}, Rule[RowSpacings, 1], Rule[ColumnSpacings, 1], \n",
       "\n",
       " \n",
       ">          Rule[RowAlignments, Baseline], Rule[ColumnAlignments, Center]], \"⁠\", \")\"}], \n",
       "\n",
       " \n",
       ">       Function[BoxForm`e$, MatrixForm[BoxForm`e$]]], TraditionalForm]\n"
      ]
     },
     "execution_count": 1884,
     "metadata": {
      "text/html": [],
      "text/plain": []
     },
     "output_type": "execute_result"
    }
   ],
   "source": [
    "fh = Simplify[Array[rh[[#]]*rh[[#2]] - 1/3*KroneckerDelta[#, #2]*(OverHat[r][OverHat[t]])^2 &, {2, 2}], Trig -> True];\n",
    "fh // MatrixForm // TraditionalForm"
   ]
  },
  {
   "cell_type": "markdown",
   "metadata": {},
   "source": [
    "<span style=\"color:brown\">**NB:**</span> Здесь и далее мы не записываем компоненты квадрупольного момента для $z$, так как они сворачиваются с нулевыми $r_z$.\n",
    "\n",
    "Однако нужно запомнить, что след полного квадрупольного момента и его пятой производной **нулевой**!"
   ]
  },
  {
   "cell_type": "markdown",
   "metadata": {},
   "source": [
    "$\\hat{f}_{ki}^{(5)}$ - заданная функция (см. выше)"
   ]
  },
  {
   "cell_type": "code",
   "execution_count": 1888,
   "metadata": {
    "vscode": {
     "languageId": "wolfram"
    }
   },
   "outputs": [
    {
     "data": {
      "text/html": [
       "<div><img alt=\"Output\" src=\"data:image/png;base64,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\"></div>"
      ],
      "text/plain": [
       "FormBox[TagBox[RowBox[{\"(\", \"⁠\", \n",
       "\n",
       " \n",
       ">         GridBox[{{TemplateBox[List[SubscriptBox[OverscriptBox[\"f\", \"^\"], \n",
       "\n",
       " \n",
       ">               RowBox[List[\"x\", \",\", \"x\"]]], \"\\\"(5)\\\"\"], \"Superscript\", \n",
       "\n",
       " \n",
       ">             Rule[SyntaxForm, SuperscriptBox]], \n",
       "\n",
       " \n",
       ">            TemplateBox[List[SubscriptBox[OverscriptBox[\"f\", \"^\"], \n",
       "\n",
       " \n",
       ">               RowBox[List[\"x\", \",\", \"y\"]]], \"\\\"(5)\\\"\"], \"Superscript\", \n",
       "\n",
       " \n",
       ">             Rule[SyntaxForm, SuperscriptBox]]}, \n",
       "\n",
       " \n",
       ">           {TemplateBox[List[SubscriptBox[OverscriptBox[\"f\", \"^\"], \n",
       "\n",
       " \n",
       ">               RowBox[List[\"x\", \",\", \"y\"]]], \"\\\"(5)\\\"\"], \"Superscript\", \n",
       "\n",
       " \n",
       ">             Rule[SyntaxForm, SuperscriptBox]], \n",
       "\n",
       " \n",
       ">            TemplateBox[List[SubscriptBox[OverscriptBox[\"f\", \"^\"], \n",
       "\n",
       " \n",
       ">               RowBox[List[\"y\", \",\", \"y\"]]], \"\\\"(5)\\\"\"], \"Superscript\", \n",
       "\n",
       " \n",
       ">             Rule[SyntaxForm, SuperscriptBox]]}}, Rule[RowSpacings, 1], \n",
       "\n",
       " \n",
       ">          Rule[ColumnSpacings, 1], Rule[RowAlignments, Baseline], \n",
       "\n",
       " \n",
       ">          Rule[ColumnAlignments, Center]], \"⁠\", \")\"}], \n",
       "\n",
       " \n",
       ">       Function[BoxForm`e$, MatrixForm[BoxForm`e$]]], TraditionalForm]\n"
      ]
     },
     "execution_count": 1888,
     "metadata": {
      "text/html": [],
      "text/plain": []
     },
     "output_type": "execute_result"
    }
   ],
   "source": [
    "(* fh5 = Array[Superscript[Subscript[OverHat[f], {x, y}[[#1]], {x, y}[[#2]]], \"(5)\"] &, {2, 2}] *)\n",
    "(* Symmetric version *)\n",
    "fh5 = Array[If[#1 <= #2,\n",
    "                    Superscript[Subscript[OverHat[f], {x, y}[[#1]], {x, y}[[#2]]], \"(5)\"],\n",
    "                    Superscript[Subscript[OverHat[f], {x, y}[[#2]], {x, y}[[#1]]], \"(5)\"]] &, {2, 2}];\n",
    "fh5 // MatrixForm // TraditionalForm"
   ]
  },
  {
   "cell_type": "markdown",
   "metadata": {},
   "source": [
    "$\\hat{f}_{ki}^{(5)}\\hat{r}_i$"
   ]
  },
  {
   "cell_type": "code",
   "execution_count": 1890,
   "metadata": {
    "vscode": {
     "languageId": "wolfram"
    }
   },
   "outputs": [
    {
     "data": {
      "text/html": [
       "<div><img alt=\"Output\" src=\"data:image/png;base64,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\"></div>"
      ],
      "text/plain": [
       "FormBox[TagBox[RowBox[{\"(\", \"⁠\", \n",
       "\n",
       " \n",
       ">         TagBox[GridBox[{{RowBox[{RowBox[{OverscriptBox[\"r\", \"^\"], \" \", \n",
       "\n",
       " \n",
       ">                 RowBox[{\"sin\", \"(\", \"ϕ\", \")\"}], \" \", \n",
       "\n",
       " \n",
       ">                 TemplateBox[List[SubscriptBox[OverscriptBox[\"f\", \"^\"], \n",
       "\n",
       " \n",
       ">                    RowBox[List[\"x\", \",\", \"y\"]]], \"\\\"(5)\\\"\"], \"Superscript\", \n",
       "\n",
       " \n",
       ">                  Rule[SyntaxForm, SuperscriptBox]]}], \"+\", \n",
       "\n",
       " \n",
       ">               RowBox[{OverscriptBox[\"r\", \"^\"], \" \", RowBox[{\"cos\", \"(\", \"ϕ\", \")\"}], \n",
       "\n",
       " \n",
       ">                 \" \", TemplateBox[List[SubscriptBox[OverscriptBox[\"f\", \"^\"], \n",
       "\n",
       " \n",
       ">                    RowBox[List[\"x\", \",\", \"x\"]]], \"\\\"(5)\\\"\"], \"Superscript\", \n",
       "\n",
       " \n",
       ">                  Rule[SyntaxForm, SuperscriptBox]]}]}]}, \n",
       "\n",
       " \n",
       ">            {RowBox[{RowBox[{OverscriptBox[\"r\", \"^\"], \" \", \n",
       "\n",
       " \n",
       ">                 RowBox[{\"cos\", \"(\", \"ϕ\", \")\"}], \" \", \n",
       "\n",
       " \n",
       ">                 TemplateBox[List[SubscriptBox[OverscriptBox[\"f\", \"^\"], \n",
       "\n",
       " \n",
       ">                    RowBox[List[\"x\", \",\", \"y\"]]], \"\\\"(5)\\\"\"], \"Superscript\", \n",
       "\n",
       " \n",
       ">                  Rule[SyntaxForm, SuperscriptBox]]}], \"+\", \n",
       "\n",
       " \n",
       ">               RowBox[{OverscriptBox[\"r\", \"^\"], \" \", RowBox[{\"sin\", \"(\", \"ϕ\", \")\"}], \n",
       "\n",
       " \n",
       ">                 \" \", TemplateBox[List[SubscriptBox[OverscriptBox[\"f\", \"^\"], \n",
       "\n",
       " \n",
       ">                    RowBox[List[\"y\", \",\", \"y\"]]], \"\\\"(5)\\\"\"], \"Superscript\", \n",
       "\n",
       " \n",
       ">                  Rule[SyntaxForm, SuperscriptBox]]}]}]}}, Rule[RowSpacings, 1], \n",
       "\n",
       " \n",
       ">           Rule[ColumnAlignments, Center], Rule[ColumnAlignments, Left]], Column], \"⁠\",\\\n",
       " \n",
       ">    \n",
       "      \")\"}], Function[BoxForm`e$, MatrixForm[BoxForm`e$]]], TraditionalForm]\n"
      ]
     },
     "execution_count": 1890,
     "metadata": {
      "text/html": [],
      "text/plain": []
     },
     "output_type": "execute_result"
    }
   ],
   "source": [
    "fh5rh = EinsteinSummation[{{k, i}, {i}}, {fh5, rh}];\n",
    "fh5rh // MatrixForm // TraditionalForm"
   ]
  },
  {
   "cell_type": "markdown",
   "metadata": {},
   "source": [
    "Система движения в безразмерной записи будет выглядеть как"
   ]
  },
  {
   "cell_type": "markdown",
   "metadata": {},
   "source": [
    "$$\n",
    "\\frac{d^2\\hat{r}_k}{d\\hat{t}^2} = -\\frac{t_0^2}{b^3}\\frac{GM}{\\hat{r}^3}\\hat{r}_k - \\frac{2}{5}\\frac{b^2}{t_0^3}\\frac{G}{c^5}\\mu\\hat{f}_{ki}^{(5)}\\hat{r}_i\n",
    "$$"
   ]
  },
  {
   "cell_type": "markdown",
   "metadata": {},
   "source": [
    "Пусть $t_0 = \\sqrt{\\frac{b^3}{GM}}$, а $b$ - прицельное расстояние, тогда система движения перепишется как\n",
    "\n",
    "$$\n",
    "\\frac{d^2\\hat{r}_k}{d\\hat{t}^2} + \\frac{\\hat{r}_k}{\\hat{r}^3} = - \\epsilon_G\\hat{f}_{ki}^{(5)}\\hat{r}_i\\quad,\n",
    "$$\n",
    "или\n",
    "$$\n",
    "\\hat{r}_k^{(2)} + \\frac{\\hat{r}_k}{\\hat{r}^3} = - \\epsilon_G\\hat{f}_{ki}^{(5)}\\hat{r}_i\\quad,\n",
    "$$\n",
    "\n",
    "где безразмерная постоянная $\\epsilon_G = \\frac{2}{5}\\frac{b^2}{t_0^3}\\frac{G}{c^5}\\mu = \\frac{2}{5}\\frac{\\mu}{M} \\left( \\frac{GM}{bc^2} \\right)^{\\frac{5}{2}}$.\n",
    "\n",
    "Заметим, что $f_{ij}^{(5)} = \\frac{5}{2}\\frac{\\epsilon_G}{t_0^2}\\hat{f}_{ij}^{(5)}$"
   ]
  },
  {
   "cell_type": "markdown",
   "metadata": {},
   "source": [
    "## Переход к полярным координатам от декартовых\n",
    "Повернём систему с помощью матрицы вращения $R_{ij}(\\phi)$ на угол $\\phi$ по **часовой** стрелке"
   ]
  },
  {
   "cell_type": "code",
   "execution_count": 1891,
   "metadata": {
    "vscode": {
     "languageId": "wolfram"
    }
   },
   "outputs": [
    {
     "data": {
      "text/html": [
       "<div><img alt=\"Output\" src=\"data:image/png;base64,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\"></div>"
      ],
      "text/plain": [
       "FormBox[TagBox[RowBox[{\"(\", \"⁠\", \n",
       "\n",
       " \n",
       ">         GridBox[{{RowBox[{\"cos\", \"(\", \"ϕ\", \")\"}], RowBox[{\"sin\", \"(\", \"ϕ\", \")\"}]}, \n",
       "\n",
       " \n",
       ">           {RowBox[{\"-\", RowBox[{\"sin\", \"(\", \"ϕ\", \")\"}]}], \n",
       "\n",
       " \n",
       ">            RowBox[{\"cos\", \"(\", \"ϕ\", \")\"}]}}, Rule[RowSpacings, 1], \n",
       "\n",
       " \n",
       ">          Rule[ColumnSpacings, 1], Rule[RowAlignments, Baseline], \n",
       "\n",
       " \n",
       ">          Rule[ColumnAlignments, Center]], \"⁠\", \")\"}], \n",
       "\n",
       " \n",
       ">       Function[BoxForm`e$, MatrixForm[BoxForm`e$]]], TraditionalForm]\n"
      ]
     },
     "execution_count": 1891,
     "metadata": {
      "text/html": [],
      "text/plain": []
     },
     "output_type": "execute_result"
    }
   ],
   "source": [
    "RotationMatrix[-\\[Phi]] // MatrixForm // TraditionalForm"
   ]
  },
  {
   "cell_type": "markdown",
   "metadata": {},
   "source": [
    "#### LHS системы после поворота"
   ]
  },
  {
   "cell_type": "code",
   "execution_count": 1893,
   "metadata": {
    "vscode": {
     "languageId": "wolfram"
    }
   },
   "outputs": [
    {
     "data": {
      "text/html": [
       "<div><img alt=\"Output\" src=\"data:image/png;base64,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\"></div>"
      ],
      "text/plain": [
       "FormBox[TagBox[RowBox[{\"(\", \"⁠\", \n",
       "      TagBox[GridBox[{{RowBox[{RowBox[{\"-\", \n",
       "\n",
       " \n",
       ">                 RowBox[{\"2\", \" \", SuperscriptBox[OverscriptBox[\"r\", \"^\"], \"′\"], \n",
       "\n",
       " \n",
       ">                   \" \", SuperscriptBox[\"ϕ\", \"′\"], \" \", \n",
       "\n",
       " \n",
       ">                   RowBox[{\"sin\", \"(\", \"ϕ\", \")\"}]}]}], \"+\", \n",
       "\n",
       " \n",
       ">               RowBox[{OverscriptBox[\"r\", \"^\"], \" \", \n",
       "\n",
       " \n",
       ">                 RowBox[{\"(\", RowBox[{RowBox[{SuperscriptBox[RowBox[\n",
       "\n",
       " \n",
       ">                         {\"(\", SuperscriptBox[\"ϕ\", \"′\"], \")\"}], \"2\"], \" \", \n",
       "\n",
       " \n",
       ">                       RowBox[{\"(\", \n",
       "\n",
       " \n",
       ">                         RowBox[{\"-\", RowBox[{\"cos\", \"(\", \"ϕ\", \")\"}]}], \")\"}]}], \n",
       "\n",
       " \n",
       ">                     \"-\", RowBox[{SuperscriptBox[\"ϕ\", \"′′\"], \" \", \n",
       "\n",
       " \n",
       ">                       RowBox[{\"sin\", \"(\", \"ϕ\", \")\"}]}]}], \")\"}]}], \"+\", \n",
       "\n",
       " \n",
       ">               RowBox[{SuperscriptBox[OverscriptBox[\"r\", \"^\"], \"′′\"], \" \", \n",
       "\n",
       " \n",
       ">                 RowBox[{\"cos\", \"(\", \"ϕ\", \")\"}]}], \"+\", \n",
       "\n",
       " \n",
       ">               FractionBox[RowBox[{\"cos\", \"(\", \"ϕ\", \")\"}], \n",
       "\n",
       " \n",
       ">                SuperscriptBox[OverscriptBox[\"r\", \"^\"], \"2\"]]}]}, \n",
       "\n",
       " \n",
       ">            {RowBox[{RowBox[{\"2\", \" \", SuperscriptBox[OverscriptBox[\"r\", \"^\"], \"′\"], \n",
       "\n",
       " \n",
       ">                 \" \", SuperscriptBox[\"ϕ\", \"′\"], \" \", RowBox[{\"cos\", \"(\", \"ϕ\",\\\n",
       " \n",
       ">    \")\"}]}]\\\n",
       ", \"+\", RowBox[{OverscriptBox[\"r\", \"^\"], \" \", \n",
       "\n",
       " \n",
       ">                 RowBox[{\"(\", RowBox[{RowBox[{SuperscriptBox[\"ϕ\", \"′′\"], \" \", \n",
       "\n",
       " \n",
       ">                       RowBox[{\"cos\", \"(\", \"ϕ\", \")\"}]}], \"-\", \n",
       "\n",
       " \n",
       ">                     RowBox[{SuperscriptBox[RowBox[{\"(\", \n",
       "\n",
       " \n",
       ">                          SuperscriptBox[\"ϕ\", \"′\"], \")\"}], \"2\"], \" \", \n",
       "\n",
       " \n",
       ">                       RowBox[{\"sin\", \"(\", \"ϕ\", \")\"}]}]}], \")\"}]}], \"+\", \n",
       "\n",
       " \n",
       ">               RowBox[{SuperscriptBox[OverscriptBox[\"r\", \"^\"], \"′′\"], \" \", \n",
       "\n",
       " \n",
       ">                 RowBox[{\"sin\", \"(\", \"ϕ\", \")\"}]}], \"+\", \n",
       "\n",
       " \n",
       ">               FractionBox[RowBox[{\"sin\", \"(\", \"ϕ\", \")\"}], \n",
       "\n",
       " \n",
       ">                SuperscriptBox[OverscriptBox[\"r\", \"^\"], \"2\"]]}]}}, \n",
       "\n",
       " \n",
       ">           Rule[RowSpacings, 1], Rule[ColumnAlignments, Center], \n",
       "\n",
       " \n",
       ">           Rule[ColumnAlignments, Left]], Column], \"⁠\", \")\"}], \n",
       "\n",
       " \n",
       ">       Function[BoxForm`e$, MatrixForm[BoxForm`e$]]], TraditionalForm]\n"
      ]
     },
     "execution_count": 1893,
     "metadata": {
      "text/html": [],
      "text/plain": []
     },
     "output_type": "execute_result"
    }
   ],
   "source": [
    "LHSMotion = D[rh, {OverHat[t], 2}] + Simplify[rh / Norm[rh]^3];\n",
    "LHSMotion // MatrixForm // TraditionalForm"
   ]
  },
  {
   "cell_type": "code",
   "execution_count": 1894,
   "metadata": {
    "vscode": {
     "languageId": "wolfram"
    }
   },
   "outputs": [
    {
     "data": {
      "text/html": [
       "<div><img alt=\"Output\" src=\"data:image/png;base64,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\"></div>"
      ],
      "text/plain": [
       "FormBox[TagBox[RowBox[{\"(\", \"⁠\", \n",
       "      TagBox[GridBox[{{RowBox[{RowBox[{\"-\", \n",
       "\n",
       " \n",
       ">                 RowBox[{RowBox[{OverscriptBox[\"r\", \"^\"]}], \" \", \n",
       "\n",
       " \n",
       ">                   SuperscriptBox[RowBox[{\"(\", SuperscriptBox[\"ϕ\", \"′\"], \")\"}], \n",
       "\n",
       " \n",
       ">                    \"2\"]}]}], \"+\", SuperscriptBox[OverscriptBox[\"r\", \"^\"], \"′′\"], \n",
       "\n",
       " \n",
       ">               \"+\", FractionBox[\"1\", SuperscriptBox[OverscriptBox[\"r\", \"^\"],\\\n",
       " \n",
       ">    \"2\"]]}]}\\\n",
       ", {RowBox[{RowBox[{OverscriptBox[\"r\", \"^\"], \" \", SuperscriptBox[\"ϕ\",\\\n",
       " \n",
       ">    \"′′\"]}], \"+\", \n",
       "            RowBox[{\"2\", \" \", SuperscriptBox[OverscriptBox[\"r\",\\\n",
       " \n",
       ">    \"^\"], \"′\"], \" \", \n",
       "              SuperscriptBox[\"ϕ\", \"′\"]}]}]}}, Rule[RowSpacings,\\\n",
       " \n",
       ">    1], \n",
       "        Rule[ColumnAlignments, Center], Rule[ColumnAlignments, Left]],\\\n",
       " \n",
       ">    Column], \"⁠\", \n",
       "      \")\"}], Function[BoxForm`e$, MatrixForm[BoxForm`e$]]],\\\n",
       " \n",
       ">    TraditionalForm]\n"
      ]
     },
     "execution_count": 1894,
     "metadata": {
      "text/html": [],
      "text/plain": []
     },
     "output_type": "execute_result"
    }
   ],
   "source": [
    "RotatedLHSMotion = Simplify[RotationMatrix[-\\[Phi][OverHat[t]]] . LHSMotion, Trig -> True] // MatrixForm // TraditionalForm"
   ]
  },
  {
   "cell_type": "markdown",
   "metadata": {},
   "source": [
    "Так как $\\hat{\\omega} \\equiv \\phi^{(1)}$, то"
   ]
  },
  {
   "cell_type": "code",
   "execution_count": 1896,
   "metadata": {
    "vscode": {
     "languageId": "wolfram"
    }
   },
   "outputs": [
    {
     "data": {
      "text/html": [
       "<div><img alt=\"Output\" src=\"data:image/png;base64,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\"></div>"
      ],
      "text/plain": [
       "FormBox[TagBox[RowBox[{\"(\", \"⁠\", \n",
       "\n",
       " \n",
       ">         TagBox[GridBox[{{RowBox[{RowBox[{RowBox[{\"-\", OverscriptBox[\"r\", \"^\"]}], \n",
       "\n",
       " \n",
       ">                 \" \", SuperscriptBox[OverscriptBox[\"ω\", \"^\"], \"2\"]}], \"+\", \n",
       "\n",
       " \n",
       ">               SuperscriptBox[OverscriptBox[\"r\", \"^\"], \"′′\"], \"+\", \n",
       "\n",
       " \n",
       ">               FractionBox[\"1\", SuperscriptBox[OverscriptBox[\"r\", \"^\"], \"2\"]]}]}, \n",
       "\n",
       " \n",
       ">            {RowBox[{RowBox[{\"2\", \" \", OverscriptBox[\"ω\", \"^\"], \" \", \n",
       "\n",
       " \n",
       ">                 SuperscriptBox[OverscriptBox[\"r\", \"^\"], \"′\"]}], \"+\", \n",
       "\n",
       " \n",
       ">               RowBox[{OverscriptBox[\"r\", \"^\"], \" \", \n",
       "\n",
       " \n",
       ">                 SuperscriptBox[OverscriptBox[\"ω\", \"^\"], \"′\"]}]}]}}, \n",
       "\n",
       " \n",
       ">           Rule[RowSpacings, 1], Rule[ColumnAlignments, Center], \n",
       "\n",
       " \n",
       ">           Rule[ColumnAlignments, Left]], Column], \"⁠\", \")\"}], \n",
       "\n",
       " \n",
       ">       Function[BoxForm`e$, MatrixForm[BoxForm`e$]]], TraditionalForm]\n"
      ]
     },
     "execution_count": 1896,
     "metadata": {
      "text/html": [],
      "text/plain": []
     },
     "output_type": "execute_result"
    }
   ],
   "source": [
    "OmegaReplace = Derivative[n_][\\[Phi]][OverHat[t]] :> Derivative[n-1][OverHat[\\[Omega]]][OverHat[t]];\n",
    "\n",
    "OmegaLHSMotion = RotatedLHSMotion /. OmegaReplace // TraditionalForm"
   ]
  },
  {
   "cell_type": "markdown",
   "metadata": {},
   "source": [
    "### RHS системы после поворота"
   ]
  },
  {
   "cell_type": "code",
   "execution_count": 1898,
   "metadata": {
    "vscode": {
     "languageId": "wolfram"
    }
   },
   "outputs": [
    {
     "data": {
      "text/html": [
       "<div><img alt=\"Output\" src=\"data:image/png;base64,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\"></div>"
      ],
      "text/plain": [
       "FormBox[TagBox[RowBox[{\"(\", \"⁠\", \n",
       "\n",
       " \n",
       ">         TagBox[GridBox[{{RowBox[{OverscriptBox[\"r\", \"^\"], \" \", \n",
       "\n",
       " \n",
       ">               RowBox[{\"(\", RowBox[{\"-\", SubscriptBox[\"ϵ\", \"G\"]}], \")\"}], \" \", \n",
       "\n",
       " \n",
       ">               RowBox[{\"(\", RowBox[{RowBox[{RowBox[{\"sin\", \"(\", \n",
       "\n",
       " \n",
       ">                       RowBox[{\"2\", \" \", \"ϕ\"}], \")\"}], \" \", \n",
       "\n",
       " \n",
       ">                     TemplateBox[List[SubscriptBox[OverscriptBox[\"f\", \"^\"], \n",
       "\n",
       " \n",
       ">                        RowBox[List[\"x\", \",\", \"y\"]]], \"\\\"(5)\\\"\"], \"Superscript\", \n",
       "\n",
       " \n",
       ">                      Rule[SyntaxForm, SuperscriptBox]]}], \"+\", \n",
       "\n",
       " \n",
       ">                   RowBox[{RowBox[{SuperscriptBox[\"cos\", \"2\"], \"(\", \"ϕ\", \")\"}], \n",
       "\n",
       " \n",
       ">                     \" \", TemplateBox[List[SubscriptBox[OverscriptBox[\"f\", \"^\"], \n",
       "\n",
       " \n",
       ">                        RowBox[List[\"x\", \",\", \"x\"]]], \"\\\"(5)\\\"\"], \"Superscript\", \n",
       "\n",
       " \n",
       ">                      Rule[SyntaxForm, SuperscriptBox]]}], \"+\", \n",
       "\n",
       " \n",
       ">                   RowBox[{RowBox[{SuperscriptBox[\"sin\", \"2\"], \"(\", \"ϕ\", \")\"}], \n",
       "\n",
       " \n",
       ">                     \" \", TemplateBox[List[SubscriptBox[OverscriptBox[\"f\", \"^\"], \n",
       "\n",
       " \n",
       ">                        RowBox[List[\"y\", \",\", \"y\"]]], \"\\\"(5)\\\"\"], \"Superscript\", \n",
       "\n",
       " \n",
       ">                      Rule[SyntaxForm, SuperscriptBox]]}]}], \")\"}]}]}, \n",
       "\n",
       " \n",
       ">            {RowBox[{RowBox[{\"-\", FractionBox[\"1\", \"2\"]}], \" \", \n",
       "\n",
       " \n",
       ">               OverscriptBox[\"r\", \"^\"], \" \", SubscriptBox[\"ϵ\", \"G\"], \" \", \n",
       "\n",
       " \n",
       ">               RowBox[{\"(\", RowBox[{RowBox[{RowBox[{\"sin\", \"(\", \n",
       "\n",
       " \n",
       ">                       RowBox[{\"2\", \" \", \"ϕ\"}], \")\"}], \" \", \n",
       "\n",
       " \n",
       ">                     RowBox[{\"(\", RowBox[{TemplateBox[List[SubscriptBox[\n",
       "\n",
       " \n",
       ">                            OverscriptBox[\"f\", \"^\"], \n",
       "\n",
       " \n",
       ">                            RowBox[List[\"y\", \",\", \"y\"]]], \"\\\"(5)\\\"\"], \n",
       "\n",
       " \n",
       ">                          \"Superscript\", Rule[SyntaxForm, SuperscriptBox]], \"-\", \n",
       "\n",
       " \n",
       ">                         TemplateBox[List[SubscriptBox[OverscriptBox[\"f\", \"^\"], \n",
       "\n",
       " \n",
       ">                            RowBox[List[\"x\", \",\", \"x\"]]], \"\\\"(5)\\\"\"], \n",
       "\n",
       " \n",
       ">                          \"Superscript\", Rule[SyntaxForm, SuperscriptBox]]}], \")\"}]}\\\n",
       "\n",
       " \n",
       ">   ], \"+\", RowBox[{\"2\", \" \", RowBox[{\"cos\", \"(\", RowBox[{\"2\", \" \", \"ϕ\"}], \")\"}], \n",
       "\n",
       " \n",
       ">                     \" \", TemplateBox[List[SubscriptBox[OverscriptBox[\"f\", \"^\"], \n",
       "\n",
       " \n",
       ">                        RowBox[List[\"x\", \",\", \"y\"]]], \"\\\"(5)\\\"\"], \"Superscript\", \n",
       "\n",
       " \n",
       ">                      Rule[SyntaxForm, SuperscriptBox]]}]}], \")\"}]}]}}, \n",
       "\n",
       " \n",
       ">           Rule[RowSpacings, 1], Rule[ColumnAlignments, Center], \n",
       "\n",
       " \n",
       ">           Rule[ColumnAlignments, Left]], Column], \"⁠\", \")\"}], \n",
       "\n",
       " \n",
       ">       Function[BoxForm`e$, MatrixForm[BoxForm`e$]]], TraditionalForm]\n"
      ]
     },
     "execution_count": 1898,
     "metadata": {
      "text/html": [],
      "text/plain": []
     },
     "output_type": "execute_result"
    }
   ],
   "source": [
    "RHSMotion = -Subscript[\\[Epsilon], G] FullSimplify[RotationMatrix[-\\[Phi][OverHat[t]]] . fh5rh, Trig -> True];\n",
    "RHSMotion // MatrixForm // TraditionalForm"
   ]
  },
  {
   "cell_type": "markdown",
   "metadata": {},
   "source": [
    "<span style=\"color:brown\">**NB:**</span> Полученные выражения <span style=\"color:green\">**совпадают**</span> с уравнениями (10) и (9) из файла Binary.pdf"
   ]
  },
  {
   "cell_type": "markdown",
   "metadata": {
    "vscode": {
     "languageId": "wolfram"
    }
   },
   "source": [
    "## Получим теперь **энергетическую** систему уравнений\n",
    "\n",
    "В задача двух тел без учёта гравитационного излучения в системе центра масс в полярных координатах радиус-вектор $\\hat{r}_k$ задаётся как:\n",
    "$$\n",
    "\\hat{r}_k = \\hat{r} e_{1k} \\quad,\n",
    "$$\n",
    "где:\n",
    "- $\\hat{r}$ — расстояние между телами,\n",
    "- $e_{1k}$ — единичный вектор в направлении $\\hat{r}_k$.\n",
    "\n",
    "Скорость в полярных координатах выражается как:\n",
    "$$\n",
    "\\hat{r}_k^{(1)} = \\hat{r}^{(1)} e_{1k} + \\hat{r} \\phi^{(1)} e_{2k} \\quad,\n",
    "$$\n",
    "где:\n",
    "- $\\hat{r}^{(1)}$ — радиальная скорость\n",
    "- $\\hat{\\omega} \\equiv \\phi^{(1)}$ — угловая скорость\n",
    "- $e_{2k}$ — единичный вектор, перпендикулярный $e_{1k}$.\n",
    "\n",
    "### **Кинетическая энергия**\n",
    "Кинетическая энергия $T$ в полярных координатах выражается через радиальную и тангенциальную составляющие скорости:\n",
    "$$\n",
    "T = \\mu\\frac{b^2}{2 t_0^2} (\\hat{r}_k^{(1)})^2 = \\mu\\frac{b^2}{2 t_0^2} \\left( (\\hat{r}^{(1)})^2 + \\hat{r}^2 \\hat{\\omega}^2 \\right) = \\frac{G \\mu M}{b} \\frac{1}{2}\\left( (\\hat{r}^{(1)})^2 + \\hat{r}^2 \\hat{\\omega}^2 \\right)\n",
    "$$\n",
    "\n",
    "### **Потенциальная энергия**\n",
    "Потенциальная энергия $U$ зависит только от расстояния $\\hat{r}$:\n",
    "- Для гравитационного взаимодействия:\n",
    "  $$\n",
    "  U = -\\frac{G m_A m_B}{b \\hat{r}} = -\\frac{G \\mu M}{b \\hat{r}}.\n",
    "  $$\n",
    "\n",
    "### **Полная энергия**\n",
    "Полная энергия $E$ в полярных координатах:\n",
    "$$\n",
    "E = T + U = \\frac{G \\mu M}{b}\\left(\\frac{(\\hat{r}^{(1)})^2}{2} + \\frac{\\hat{r}^2 \\hat{\\omega}^2}{2} - \\frac{1}{\\hat{r}}\\right) = \\frac{G \\mu M}{b} \\hat{E}\n",
    "$$\n",
    "\n",
    "Здесь $\\hat{E}$ - безразмерная энергия:"
   ]
  },
  {
   "cell_type": "code",
   "execution_count": 1900,
   "metadata": {
    "vscode": {
     "languageId": "wolfram"
    }
   },
   "outputs": [
    {
     "data": {
      "text/html": [
       "<div><img alt=\"Output\" src=\"data:image/png;base64,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\"></div>"
      ],
      "text/plain": [
       "FormBox[RowBox[{RowBox[{FractionBox[\"1\", \"2\"], \" \", \n",
       "\n",
       " \n",
       ">          SuperscriptBox[OverscriptBox[\"r\", \"^\"], \"2\"], \" \", \n",
       "\n",
       " \n",
       ">          SuperscriptBox[OverscriptBox[\"ω\", \"^\"], \"2\"]}], \"+\", \n",
       "\n",
       " \n",
       ">        RowBox[{FractionBox[\"1\", \"2\"], \" \", \n",
       "\n",
       " \n",
       ">          SuperscriptBox[RowBox[{\"(\", SuperscriptBox[OverscriptBox[\"r\", \"^\"], \"′\"], \n",
       "\n",
       " \n",
       ">             \")\"}], \"2\"]}], \"-\", FractionBox[\"1\", OverscriptBox[\"r\", \"^\"]]}], \n",
       "\n",
       " \n",
       ">      TraditionalForm]\n"
      ]
     },
     "execution_count": 1900,
     "metadata": {
      "text/html": [],
      "text/plain": []
     },
     "output_type": "execute_result"
    }
   ],
   "source": [
    "Energy = (D[OverHat[r][OverHat[t]], OverHat[t]])^2/2 + (OverHat[r][OverHat[t]] OverHat[\\[Omega]][OverHat[t]])^2/2 - 1/OverHat[r][OverHat[t]];\n",
    "Energy // TraditionalForm"
   ]
  },
  {
   "cell_type": "markdown",
   "metadata": {},
   "source": [
    "### **Момента импульса**\n",
    "Момент импульса $J$ в системе центра масс:\n",
    "$$\n",
    "J = \\mu\\frac{b^2}{t_0} \\hat{r}^2 \\hat{\\omega} = \\mu(G M b)^{1/2} \\hat{r}^2 \\hat{\\omega} = \\mu(G M b)^{1/2} \\hat{J}\n",
    "$$\n",
    "\n",
    "Здесь $\\hat{J}$ - безразмерный момент импульса:"
   ]
  },
  {
   "cell_type": "code",
   "execution_count": 1902,
   "metadata": {
    "vscode": {
     "languageId": "wolfram"
    }
   },
   "outputs": [
    {
     "data": {
      "text/html": [
       "<div><img alt=\"Output\" src=\"data:image/png;base64,iVBORw0KGgoAAAANSUhEUgAAACsAAAAeCAIAAAA6iHCJAAAAznpUWHRSYXcgcHJvZmlsZSB0eXBlIGV4aWYAAHjabVBbDgMhCPz3FD0CAg56HLfrJr1Bj198tI1NJxGG4aEY2vNxhVsHRwqaLKMA5NCihauTTBPTRyrDDvCxcnHXQ2xLry6lbwJv/dh1wxqYfwYRTyL9Bueiq2ENEp56rDM+Vj3XnPdBQhsKfZ7+N1YxRkI0datMZijOc3DqDokpGS7cAS+MOJn07r7BzNtgvUJqb+zgZnt1CxAXzr6C9JOkuhe3UXyroVXRYUX8q1d2LBJektxa2xDYuDQAAAAJcEhZcwAAFiUAABYlAUlSJPAAAAA8dEVYdFNvZnR3YXJlAENyZWF0ZWQgd2l0aCB0aGUgV29sZnJhbSBMYW5ndWFnZSA6IHd3dy53b2xmcmFtLmNvbVyipoUAAAAhdEVYdENyZWF0aW9uIFRpbWUAMjAyNTowMzoxMyAwMjo0MjozMGsO0z8AAAPhSURBVEhL7VZbKLNhHN/mkJxiDlFICyW1JKeMGy4kJeHCBcppOd3IIS1cuCTlbjmVWnMoV0QYokZJiNYu5FC4cs6cGd/v7VnP9m1tz95v35eb762t9/0//+f3//2PzyP8/v4WsJ6jo6OxsbGLi4u4uLiamprQ0FDWDj7rYOD4mZmZ8fDwcHNzI6hBQUGHh4esTTzWBY51DQZDWFjY5OTkx8fH+vp6SkoKSBQVFfGwwFJlMFCr1d3d3RRkdnYWDKKioliwPNYZDPR6PcJA8d7f35GRxMREHhZYqiJaM9B8eXlBtC2rKD4+3tfXl0qurq6gkJOTw6fSOCdtkc0IlGJbWxukwcHBqHl7vHt6egIDA8GD5dhv646RTVmYm5sTCoWEV1ZW1ufnp62N09NTmF9ZWeFlnonMMTg/P0ePRUdHHxwcNDc3g4RCobAyg2qQSqWjo6O8zDuDLIC7mZmZGRkZl5eXBF2pVHp6ei4uLlJj0CkoKOjt7eVl3hlkAApQWQjs6+urJbpOp6Nj5+vrq6qqqrOzkyo8PT21tLQw2TCRCYIQPyR4a2trZ2dnd3dXJpOh3JaWlgYGBsRi8dDQUFdXF94rKipIoYArNGtra1tbWx13BFoX7L28vKzUYBE+mFsM3/39/YWFhUQPoZ6YmHB3dyefTU1NtmaQI5oye5HQaDQYpiMjI7YKZ2dnGCrb29tkydQLd3d3xNL09HRISEhfX5+Pjw9eHHSmgywsLCzAh8rKSns6qampCQkJRqPRzGBtbQ3mAwICsrOzh4eHsfD4+Pj29sZMtq0CGsrPzw/n5+3trb3t5eXlMAdNKJhm4urqKkT39/cPDw/V1dV4RwwQbV6zD8pAlMvlaN2Ojg4MD7IdLuEoQXNRNLiK942NDU5CaKalpZFlHIB/4DfdMj4+DhBvb2+klQpLSkqQ+OvraypBb0Otrq7OlAWESyTigpGfn++KeexFEoFTXFxsiRMTE5OXl2cpkUgkUCOnLmd4eXkZbUNI8Q27lf7+/j4ksbGxVI6uOT4+Tk9PpxK0ycnJCT7JbYNjgO7Hf3h4OJi6wgBldHNzAwTLa9zg4CAcTU5OpshoeLzjwmc6Y7EcGRkJEU4EF1OA7egCQGF8ESiUJByDZG9vj0gw3zi/RaLNzU0iEeAOQthptVrXGTQ0NJBKbG9vx/0Kca6vr8eRlpubq1KpysrKsAqWU1NT1JYAUSJxI/PBxQfjtrGx0d/fH5i4amByPz8/z8/PJyUlYahHRESUlpZaXXS5c8GV3Nvbi4FmebmCGqggNrb6/4qB816Z74nO7/m7mv8ZkIn0s8/PM/gFBvWQ64byJCoAAAAASUVORK5CYII=\"></div>"
      ],
      "text/plain": [
       "FormBox[RowBox[{SuperscriptBox[OverscriptBox[\"r\", \"^\"], \"2\"], \" \", \n",
       "\n",
       " \n",
       ">        OverscriptBox[\"ω\", \"^\"]}], TraditionalForm]\n"
      ]
     },
     "execution_count": 1902,
     "metadata": {
      "text/html": [],
      "text/plain": []
     },
     "output_type": "execute_result"
    }
   ],
   "source": [
    "AngularMomentum = (OverHat[r][OverHat[t]])^2 OverHat[\\[Omega]][OverHat[t]];\n",
    "AngularMomentum // TraditionalForm"
   ]
  },
  {
   "cell_type": "markdown",
   "metadata": {},
   "source": [
    "Отсюда $\\frac{1}{\\hat{r}^{(1)}}\\left(\\frac{d\\hat{E}}{d\\hat{t}} - \\hat{\\omega} \\frac{d\\hat{J}}{d\\hat{t}}\\right)$"
   ]
  },
  {
   "cell_type": "code",
   "execution_count": 1903,
   "metadata": {
    "vscode": {
     "languageId": "wolfram"
    }
   },
   "outputs": [
    {
     "data": {
      "text/html": [
       "<div><img alt=\"Output\" src=\"data:image/png;base64,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\"></div>"
      ],
      "text/plain": [
       "FormBox[RowBox[{RowBox[{\"-\", RowBox[{RowBox[{OverscriptBox[\"r\", \"^\"]}], \" \", \n",
       "\n",
       " \n",
       ">            SuperscriptBox[OverscriptBox[\"ω\", \"^\"], \"2\"]}]}], \"+\", \n",
       "\n",
       " \n",
       ">        SuperscriptBox[OverscriptBox[\"r\", \"^\"], \"′′\"], \"+\", \n",
       "\n",
       " \n",
       ">        FractionBox[\"1\", SuperscriptBox[OverscriptBox[\"r\", \"^\"], \"2\"]]}],\\\n",
       " \n",
       ">    TraditionalForm]\n"
      ]
     },
     "execution_count": 1903,
     "metadata": {
      "text/html": [],
      "text/plain": []
     },
     "output_type": "execute_result"
    }
   ],
   "source": [
    "Simplify[(D[Energy, OverHat[t]] - (AngularMomentum/OverHat[r][OverHat[t]]^2)(D[AngularMomentum, OverHat[t]]))/(D[OverHat[r][OverHat[t]], OverHat[t]])] // TraditionalForm"
   ]
  },
  {
   "cell_type": "markdown",
   "metadata": {},
   "source": [
    "Что совпадает с **первой** строкой повернутой LHS системы движения"
   ]
  },
  {
   "cell_type": "markdown",
   "metadata": {},
   "source": [
    "Отсюда $\\frac{1}{\\hat{r}}\\frac{d\\hat{J}}{d\\hat{t}}$"
   ]
  },
  {
   "cell_type": "code",
   "execution_count": 1904,
   "metadata": {
    "vscode": {
     "languageId": "wolfram"
    }
   },
   "outputs": [
    {
     "data": {
      "text/html": [
       "<div><img alt=\"Output\" src=\"data:image/png;base64,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\"></div>"
      ],
      "text/plain": [
       "FormBox[RowBox[{RowBox[{\"2\", \" \", OverscriptBox[\"ω\", \"^\"], \" \", \n",
       "\n",
       " \n",
       ">          SuperscriptBox[OverscriptBox[\"r\", \"^\"], \"′\"]}], \"+\", \n",
       "\n",
       " \n",
       ">        RowBox[{OverscriptBox[\"r\", \"^\"], \" \", \n",
       "\n",
       " \n",
       ">          SuperscriptBox[OverscriptBox[\"ω\", \"^\"], \"′\"]}]}], TraditionalForm]\n"
      ]
     },
     "execution_count": 1904,
     "metadata": {
      "text/html": [],
      "text/plain": []
     },
     "output_type": "execute_result"
    }
   ],
   "source": [
    "Simplify[D[AngularMomentum, OverHat[t]]/OverHat[r][OverHat[t]]] // TraditionalForm"
   ]
  },
  {
   "cell_type": "markdown",
   "metadata": {},
   "source": [
    "Что совпадает со **второй** строкой повернутой LHS системы движения"
   ]
  },
  {
   "cell_type": "markdown",
   "metadata": {},
   "source": [
    "Таким образом, мы можем выписать новую **энергетическую** систему уравнений\n",
    "\n",
    "$$\n",
    "\\begin{align}\n",
    "\\frac{d\\hat{E}}{d\\hat{t}} &= - \\epsilon_G \\left(\\hat{r}^{(1)} R_{xi}(-\\phi) \\hat{f}_{ij}^{(5)}\\hat{r}_j + \\hat{r}\\hat\\omega R_{yi}(-\\phi) \\hat{f}_{ij}^{(5)}\\hat{r}_j \\right)\n",
    "\\\\\n",
    "\\frac{d\\hat{J}}{d\\hat{t}} &= - \\epsilon_G \\hat{r} R_{yi}(-\\phi) \\hat{f}_{ij}^{(5)}\\hat{r}_j\n",
    "\\end{align}\n",
    "$$"
   ]
  },
  {
   "cell_type": "markdown",
   "metadata": {},
   "source": [
    "Или\n",
    "\n",
    "$$\n",
    "\\left(\\frac{d\\hat{E}}{d\\hat{t}}, \\frac{d\\hat{J}}{d\\hat{t}}\\right) = - \\epsilon_G T_{nk} R_{ki}(-\\phi) \\hat{f}_{ij}^{(5)}\\hat{r}_j\\quad,\n",
    "$$"
   ]
  },
  {
   "cell_type": "markdown",
   "metadata": {},
   "source": [
    "Здесь\n",
    "$$\n",
    "T = \n",
    "\\begin{bmatrix}\n",
    "\\hat{r}^{(1)} & \\hat{r}\\hat{\\omega} \\\\\n",
    "0 & \\hat{r}\n",
    "\\end{bmatrix}\n",
    "$$\n",
    "матрица трансформации:"
   ]
  },
  {
   "cell_type": "code",
   "execution_count": 1906,
   "metadata": {
    "vscode": {
     "languageId": "wolfram"
    }
   },
   "outputs": [
    {
     "data": {
      "text/html": [
       "<div><img alt=\"Output\" src=\"data:image/png;base64,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\"></div>"
      ],
      "text/plain": [
       "FormBox[TagBox[RowBox[{\"(\", \"⁠\", \n",
       "\n",
       " \n",
       ">         GridBox[{{SuperscriptBox[OverscriptBox[\"r\", \"^\"], \"′\"], \n",
       "\n",
       " \n",
       ">            RowBox[{OverscriptBox[\"r\", \"^\"], \" \", OverscriptBox[\"ω\", \"^\"]}]}, \n",
       "\n",
       " \n",
       ">           {\"0\", OverscriptBox[\"r\", \"^\"]}}, Rule[RowSpacings, 1], \n",
       "\n",
       " \n",
       ">          Rule[ColumnSpacings, 1], Rule[RowAlignments, Baseline], \n",
       "\n",
       " \n",
       ">          Rule[ColumnAlignments, Center]], \"⁠\", \")\"}], \n",
       "\n",
       " \n",
       ">       Function[BoxForm`e$, MatrixForm[BoxForm`e$]]], TraditionalForm]\n"
      ]
     },
     "execution_count": 1906,
     "metadata": {
      "text/html": [],
      "text/plain": []
     },
     "output_type": "execute_result"
    }
   ],
   "source": [
    "Transform = {{D[OverHat[r][OverHat[t]], OverHat[t]], OverHat[r][OverHat[t]] OverHat[\\[Omega]][OverHat[t]]}, {0, OverHat[r][OverHat[t]]}};\n",
    "Transform // MatrixForm // TraditionalForm"
   ]
  },
  {
   "cell_type": "markdown",
   "metadata": {},
   "source": [
    "Итак правая часть энергетической системы запишется как"
   ]
  },
  {
   "cell_type": "code",
   "execution_count": 1908,
   "metadata": {
    "vscode": {
     "languageId": "wolfram"
    }
   },
   "outputs": [
    {
     "data": {
      "text/html": [
       "<div><img alt=\"Output\" src=\"data:image/png;base64,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\"></div>"
      ],
      "text/plain": [
       "FormBox[TagBox[RowBox[{\"(\", \"⁠\", \n",
       "\n",
       " \n",
       ">         TagBox[GridBox[{{RowBox[{FractionBox[\"1\", \"2\"], \" \", \n",
       "\n",
       " \n",
       ">               OverscriptBox[\"r\", \"^\"], \" \", SubscriptBox[\"ϵ\", \"G\"], \" \", \n",
       "\n",
       " \n",
       ">               RowBox[{\"(\", RowBox[{RowBox[{OverscriptBox[\"r\", \"^\"], \" \", \n",
       "\n",
       " \n",
       ">                     OverscriptBox[\"ω\", \"^\"], \" \", \n",
       "\n",
       " \n",
       ">                     RowBox[{\"(\", RowBox[{RowBox[{RowBox[{\"sin\", \"(\", \n",
       "\n",
       " \n",
       ">                             RowBox[{\"2\", \" \", \"ϕ\"}], \")\"}], \" \", \n",
       "\n",
       " \n",
       ">                           RowBox[{\"(\", \n",
       "\n",
       " \n",
       ">                             RowBox[{TemplateBox[List[SubscriptBox[\n",
       "\n",
       " \n",
       ">                            OverscriptBox[\"f\", \"^\"], \n",
       "\n",
       " \n",
       ">                            RowBox[List[\"x\", \",\", \"x\"]]], \"\\\"(5)\\\"\"], \n",
       "\n",
       " \n",
       ">                             \"Superscript\", Rule[SyntaxForm, SuperscriptBox]], \n",
       "\n",
       " \n",
       ">                             \"-\", \n",
       "\n",
       " \n",
       ">                             TemplateBox[List[SubscriptBox[OverscriptB\\\n",
       "\n",
       " \n",
       ">   ox[\"f\", \"^\"], RowBox[List[\"y\", \",\", \"y\"]]], \"\\\"(5)\\\"\"], \"Superscript\", \n",
       "\n",
       " \n",
       ">                             Rule[SyntaxForm, SuperscriptBox]]}], \")\"}]}], \"-\", \n",
       "\n",
       " \n",
       ">                         RowBox[{\"2\", \" \", \n",
       "\n",
       " \n",
       ">                           RowBox[{\"cos\", \"(\", RowBox[{\"2\", \" \", \"ϕ\"}], \")\"}], \n",
       "\n",
       " \n",
       ">                           \" \", TemplateBox[List[SubscriptBox[OverscriptB\\\n",
       "\n",
       " \n",
       ">   ox[\"f\", \"^\"], RowBox[List[\"x\", \",\", \"y\"]]], \"\\\"(5)\\\"\"], \"Superscript\", \n",
       "\n",
       " \n",
       ">                            Rule[SyntaxForm, SuperscriptBox]]}]}], \")\"}]}], \"-\", \n",
       "\n",
       " \n",
       ">                   RowBox[{\"2\", \" \", SuperscriptBox[OverscriptBox[\"r\", \"^\"], \"′\"], \n",
       "\n",
       " \n",
       ">                     \" \", RowBox[{\"(\", \n",
       "\n",
       " \n",
       ">                       RowBox[{RowBox[{RowBox[{\"sin\", \"(\", \n",
       "\n",
       " \n",
       ">                             RowBox[{\"2\", \" \", \"ϕ\"}], \")\"}], \" \", \n",
       "\n",
       " \n",
       ">                           TemplateBox[List[SubscriptBox[OverscriptBox[\"f\", \n",
       "\n",
       " \n",
       ">                             \"^\"], RowBox[List[\"x\", \",\", \"y\"]]], \"\\\"(5)\\\"\"], \n",
       "\n",
       " \n",
       ">                            \"Superscript\", Rule[SyntaxForm, SuperscriptBox]]}], \n",
       "\n",
       " \n",
       ">                         \"+\", RowBox[{RowBox[{SuperscriptBox[\"cos\", \"2\"], \"(\", \n",
       "\n",
       " \n",
       ">                             \"ϕ\", \")\"}], \" \", \n",
       "\n",
       " \n",
       ">                           TemplateBox[List[SubscriptBox[OverscriptBox[\"f\", \n",
       "\n",
       " \n",
       ">                             \"^\"], RowBox[List[\"x\", \",\", \"x\"]]], \"\\\"(5)\\\"\"], \n",
       "\n",
       " \n",
       ">                            \"Superscript\", Rule[SyntaxForm, SuperscriptBox]]}], \n",
       "\n",
       " \n",
       ">                         \"+\", RowBox[{RowBox[{SuperscriptBox[\"sin\", \"2\"], \"(\", \n",
       "\n",
       " \n",
       ">                             \"ϕ\", \")\"}], \" \", \n",
       "\n",
       " \n",
       ">                           TemplateBox[List[SubscriptBox[OverscriptBox[\"f\", \n",
       "\n",
       " \n",
       ">                             \"^\"], RowBox[List[\"y\", \",\", \"y\"]]], \"\\\"(5)\\\"\"], \n",
       "\n",
       " \n",
       ">                            \"Superscript\", Rule[SyntaxForm, SuperscriptBox]]}]}], \n",
       "\n",
       " \n",
       ">                       \")\"}]}]}], \")\"}]}]}, \n",
       "\n",
       " \n",
       ">            {RowBox[{RowBox[{\"-\", FractionBox[\"1\", \"2\"]}], \" \", \n",
       "\n",
       " \n",
       ">               SuperscriptBox[OverscriptBox[\"r\", \"^\"], \"2\"], \" \", \n",
       "\n",
       " \n",
       ">               SubscriptBox[\"ϵ\", \"G\"], \" \", \n",
       "\n",
       " \n",
       ">               RowBox[{\"(\", RowBox[{RowBox[{RowBox[{\"sin\", \"(\", \n",
       "\n",
       " \n",
       ">                       RowBox[{\"2\", \" \", \"ϕ\"}], \")\"}], \" \", \n",
       "\n",
       " \n",
       ">                     RowBox[{\"(\", RowBox[{TemplateBox[List[SubscriptBox[\n",
       "\n",
       " \n",
       ">                            OverscriptBox[\"f\", \"^\"], \n",
       "\n",
       " \n",
       ">                            RowBox[List[\"y\", \",\", \"y\"]]], \"\\\"(5)\\\"\"], \n",
       "\n",
       " \n",
       ">                          \"Superscript\", Rule[SyntaxForm, SuperscriptBox]], \"-\", \n",
       "\n",
       " \n",
       ">                         TemplateBox[List[SubscriptBox[OverscriptBox[\"f\", \"^\"], \n",
       "\n",
       " \n",
       ">                            RowBox[List[\"x\", \",\", \"x\"]]], \"\\\"(5)\\\"\"], \n",
       "\n",
       " \n",
       ">                          \"Superscript\", Rule[SyntaxForm, SuperscriptBox]]}], \")\"}]}\\\n",
       "\n",
       " \n",
       ">   ], \"+\", RowBox[{\"2\", \" \", RowBox[{\"cos\", \"(\", RowBox[{\"2\", \" \", \"ϕ\"}], \")\"}], \n",
       "\n",
       " \n",
       ">                     \" \", TemplateBox[List[SubscriptBox[OverscriptBox[\"f\", \"^\"], \n",
       "\n",
       " \n",
       ">                        RowBox[List[\"x\", \",\", \"y\"]]], \"\\\"(5)\\\"\"], \"Superscript\", \n",
       "\n",
       " \n",
       ">                      Rule[SyntaxForm, SuperscriptBox]]}]}], \")\"}]}]}}, \n",
       "\n",
       " \n",
       ">           Rule[RowSpacings, 1], Rule[ColumnAlignments, Center], \n",
       "\n",
       " \n",
       ">           Rule[ColumnAlignments, Left]], Column], \"⁠\", \")\"}], \n",
       "\n",
       " \n",
       ">       Function[BoxForm`e$, MatrixForm[BoxForm`e$]]], TraditionalForm]\n"
      ]
     },
     "execution_count": 1908,
     "metadata": {
      "text/html": [],
      "text/plain": []
     },
     "output_type": "execute_result"
    }
   ],
   "source": [
    "RHSEnegry = FullSimplify[Transform . RHSMotion, Trig -> True];\n",
    "RHSEnegry // MatrixForm // TraditionalForm"
   ]
  },
  {
   "cell_type": "markdown",
   "metadata": {},
   "source": [
    "## **Другой Способ** получения уравнений движения и энергетических уравнений через лагранжев формализм в полярных координатах"
   ]
  },
  {
   "cell_type": "markdown",
   "metadata": {},
   "source": [
    "### **Лагранжиан системы**\n",
    "Лагранжиан $L$ в полярных координатах $(r, \\phi)$ выражается как:\n",
    "$$\n",
    "L = T - (U + \\mu\\Phi),\n",
    "$$\n",
    "где:\n",
    "- $T$ — кинетическая энергия,\n",
    "- $U$ — потенциальная энергия\n",
    "- $\\Phi = \\frac{1}{5}f_{ij}^{(5)}r_i r_j = \\frac{\\epsilon_G}{2}\\frac{b^2}{t_0^2}\\hat{f}_{ij}^{(5)}\\hat{r}_i \\hat{r}_j = \\frac{5}{2}\\epsilon_G\\frac{GM}{b}\\hat{\\Phi}$ - малый потенциал \"реакции излучения\""
   ]
  },
  {
   "cell_type": "markdown",
   "metadata": {},
   "source": [
    "Безразмерный малый потенциал \"реакции излучения\" $\\hat{\\Phi} = \\frac{1}{5}\\hat{f}_{ij}^{(5)}\\hat{r}_i\\hat{r}_j$"
   ]
  },
  {
   "cell_type": "code",
   "execution_count": 1910,
   "metadata": {
    "vscode": {
     "languageId": "wolfram"
    }
   },
   "outputs": [
    {
     "data": {
      "text/html": [
       "<div><img alt=\"Output\" src=\"data:image/png;base64,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\"></div>"
      ],
      "text/plain": [
       "FormBox[RowBox[{FractionBox[\"1\", \"5\"], \" \", \n",
       "\n",
       " \n",
       ">        RowBox[{\"(\", RowBox[{RowBox[{OverscriptBox[\"r\", \"^\"], \" \", \n",
       "\n",
       " \n",
       ">              RowBox[{\"cos\", \"(\", \"ϕ\", \")\"}], \" \", \n",
       "\n",
       " \n",
       ">              RowBox[{\"(\", RowBox[{RowBox[{OverscriptBox[\"r\", \"^\"], \" \", \n",
       "\n",
       " \n",
       ">                    RowBox[{\"sin\", \"(\", \"ϕ\", \")\"}], \" \", \n",
       "\n",
       " \n",
       ">                    TemplateBox[List[SubscriptBox[OverscriptBox[\"f\", \"^\"], \n",
       "\n",
       " \n",
       ">                       RowBox[List[\"x\", \",\", \"y\"]]], \"\\\"(5)\\\"\"], \"Superscript\", \n",
       "\n",
       " \n",
       ">                     Rule[SyntaxForm, SuperscriptBox]]}], \"+\", \n",
       "\n",
       " \n",
       ">                  RowBox[{OverscriptBox[\"r\", \"^\"], \" \", \n",
       "\n",
       " \n",
       ">                    RowBox[{\"cos\", \"(\", \"ϕ\", \")\"}], \" \", \n",
       "\n",
       " \n",
       ">                    TemplateBox[List[SubscriptBox[OverscriptBox[\"f\", \"^\"], \n",
       "\n",
       " \n",
       ">                       RowBox[List[\"x\", \",\", \"x\"]]], \"\\\"(5)\\\"\"], \"Superscript\", \n",
       "\n",
       " \n",
       ">                     Rule[SyntaxForm, SuperscriptBox]]}]}], \")\"}]}], \"+\", \n",
       "\n",
       " \n",
       ">            RowBox[{OverscriptBox[\"r\", \"^\"], \" \", RowBox[{\"sin\", \"(\", \"ϕ\", \")\"}], \" \", \n",
       "\n",
       " \n",
       ">              RowBox[{\"(\", RowBox[{RowBox[{OverscriptBox[\"r\", \"^\"], \" \", \n",
       "\n",
       " \n",
       ">                    RowBox[{\"cos\", \"(\", \"ϕ\", \")\"}], \" \", \n",
       "\n",
       " \n",
       ">                    TemplateBox[List[SubscriptBox[OverscriptBox[\"f\", \"^\"], \n",
       "\n",
       " \n",
       ">                       RowBox[List[\"x\", \",\", \"y\"]]], \"\\\"(5)\\\"\"], \"Superscript\", \n",
       "\n",
       " \n",
       ">                     Rule[SyntaxForm, SuperscriptBox]]}], \"+\", \n",
       "\n",
       " \n",
       ">                  RowBox[{OverscriptBox[\"r\", \"^\"], \" \", RowBox[{\"sin\", \"(\", \"ϕ\", \")\"}],\\\n",
       " \n",
       ">    \n",
       "                 \" \", TemplateBox[List[SubscriptBox[OverscriptBox[\"f\", \"^\"], \n",
       "\n",
       " \n",
       ">                       RowBox[List[\"y\", \",\", \"y\"]]], \"\\\"(5)\\\"\"], \"Superscript\", \n",
       "\n",
       " \n",
       ">                     Rule[SyntaxForm, SuperscriptBox]]}]}], \")\"}]}]}], \")\"}]}], \n",
       "\n",
       " \n",
       ">      TraditionalForm]\n"
      ]
     },
     "execution_count": 1910,
     "metadata": {
      "text/html": [],
      "text/plain": []
     },
     "output_type": "execute_result"
    }
   ],
   "source": [
    "fh5rhrh = 1/5 EinsteinSummation[{{i, j}, {i}, {j}}, {fh5, rh, rh}];\n",
    "fh5rhrh // TraditionalForm"
   ]
  },
  {
   "cell_type": "markdown",
   "metadata": {},
   "source": [
    "Безразмерный лагранжиан\n",
    "\n",
    "$$\n",
    "\\hat{L} = \\hat{T} - (\\hat{U} + \\frac{5}{2}\\epsilon_G\\hat{\\Phi}),\n",
    "$$\n",
    "или\n",
    "$$\n",
    "\\hat{L} = \\frac{1}{2} \\left((\\hat{r}^{(1)})^2 + \\hat{r}^2 \\hat{\\omega}^2 \\right) + \\frac{1}{\\hat{r}} - \\frac{\\epsilon_G}{2}\\hat{f}_{ij}^{(5)}\\hat{r}_i \\hat{r}_j.\n",
    "$$"
   ]
  },
  {
   "cell_type": "markdown",
   "metadata": {},
   "source": [
    "### **Уравнения Эйлера-Лагранжа**\n",
    "Уравнения Эйлера-Лагранжа имеют вид:\n",
    "$$\n",
    "\\frac{d}{dt} \\left( \\frac{\\partial \\hat{L}}{\\partial \\dot{q}_i} \\right) - \\frac{\\partial \\hat{L}}{\\partial q_i} = 0,\n",
    "$$\n",
    "где $q_i$ — обобщённые координаты ($\\hat{r}$ и $\\phi$)."
   ]
  },
  {
   "cell_type": "markdown",
   "metadata": {},
   "source": [
    "---\n",
    "\n",
    "#### Уравнение для координаты $\\hat{r}$:\n",
    "$$\n",
    "\\frac{d}{d\\hat{t}} \\left(\\frac{\\partial \\hat{L}}{\\partial \\hat{r}^{(1)}} \\right) - \\frac{\\partial \\hat{L}}{\\partial \\hat{r}} = 0.\n",
    "$$\n",
    "Вычислим производные:\n",
    "$$\n",
    "\\frac{\\partial \\hat{L}}{\\partial \\hat{r}^{(1)}} = \\hat{r}^{(1)}, \\quad \\frac{d}{d\\hat{t}} \\left( \\frac{\\partial \\hat{L}}{\\partial \\hat{r}^{(1)}} \\right) = \\hat{r}^{(2)},\n",
    "$$\n",
    "$$\n",
    "\\frac{\\partial \\hat{L}}{\\partial \\hat{r}} = \\hat{r} \\hat{\\omega}^2 - \\frac{1}{\\hat{r}^2} - \\frac{5}{2}\\epsilon_G\\frac{\\partial \\hat{\\Phi}}{\\partial \\hat{r}}.\n",
    "$$\n",
    "Подставляем в уравнение Эйлера-Лагранжа:\n",
    "$$\n",
    "\\hat{r}^{(2)} - \\hat{r} \\hat{\\omega}^2 + \\frac{1}{\\hat{r}^2} = - \\frac{5}{2}\\epsilon_G\\frac{\\partial \\hat{\\Phi}}{\\partial \\hat{r}}.\n",
    "$$\n",
    "\n",
    "Это **радиальное уравнение движения**.\n",
    "\n",
    "Здесь \n",
    "$$\n",
    "\\frac{\\partial \\hat{\\Phi}}{\\partial \\hat{r}} = \\frac{1}{5}\\hat{f}_{ij}^{(5)}\\left(\\frac{\\partial \\hat{r}_i}{\\partial \\hat{r}}\\hat{r}_j + \\hat{r}_i\\frac{\\partial \\hat{r}_j}{\\partial \\hat{r}}\\right)\n",
    "$$"
   ]
  },
  {
   "cell_type": "markdown",
   "metadata": {},
   "source": [
    "Правая часть радиального уравнения движения будет выглядеть как"
   ]
  },
  {
   "cell_type": "code",
   "execution_count": 1912,
   "metadata": {
    "vscode": {
     "languageId": "wolfram"
    }
   },
   "outputs": [
    {
     "data": {
      "text/html": [
       "<div><img alt=\"Output\" src=\"data:image/png;base64,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\"></div>"
      ],
      "text/plain": [
       "FormBox[RowBox[{OverscriptBox[\"r\", \"^\"], \" \", \n",
       "\n",
       " \n",
       ">        RowBox[{\"(\", RowBox[{\"-\", SubscriptBox[\"ϵ\", \"G\"]}], \")\"}], \" \", \n",
       "\n",
       " \n",
       ">        RowBox[{\"(\", RowBox[{RowBox[{RowBox[{\"sin\", \"(\", RowBox[{\"2\", \" \", \"ϕ\"}], \n",
       "\n",
       " \n",
       ">                \")\"}], \" \", TemplateBox[List[SubscriptBox[OverscriptBox[\"f\", \"^\"], \n",
       "\n",
       " \n",
       ">                 RowBox[List[\"x\", \",\", \"y\"]]], \"\\\"(5)\\\"\"], \"Superscript\", \n",
       "\n",
       " \n",
       ">               Rule[SyntaxForm, SuperscriptBox]]}], \"+\", \n",
       "\n",
       " \n",
       ">            RowBox[{RowBox[{SuperscriptBox[\"cos\", \"2\"], \"(\", \"ϕ\", \")\"}], \" \", \n",
       "\n",
       " \n",
       ">              TemplateBox[List[SubscriptBox[OverscriptBox[\"f\", \"^\"], \n",
       "\n",
       " \n",
       ">                 RowBox[List[\"x\", \",\", \"x\"]]], \"\\\"(5)\\\"\"], \"Superscript\", \n",
       "\n",
       " \n",
       ">               Rule[SyntaxForm, SuperscriptBox]]}], \"+\", \n",
       "\n",
       " \n",
       ">            RowBox[{RowBox[{SuperscriptBox[\"sin\", \"2\"], \"(\", \"ϕ\", \")\"}], \" \", \n",
       "\n",
       " \n",
       ">              TemplateBox[List[SubscriptBox[OverscriptBox[\"f\", \"^\"], \n",
       "\n",
       " \n",
       ">                 RowBox[List[\"y\", \",\", \"y\"]]], \"\\\"(5)\\\"\"], \"Superscript\", \n",
       "\n",
       " \n",
       ">               Rule[SyntaxForm, SuperscriptBox]]}]}], \")\"}]}], TraditionalForm]\n"
      ]
     },
     "execution_count": 1912,
     "metadata": {
      "text/html": [],
      "text/plain": []
     },
     "output_type": "execute_result"
    }
   ],
   "source": [
    "RHSMotionRadialLagrange = - 1/2 Subscript[\\[Epsilon], G] FullSimplify[EinsteinSummation[{{i, j}, {i}, {j}}, {fh5, D[rh, OverHat[r][OverHat[t]]], rh}] + EinsteinSummation[{{i, j}, {i}, {j}}, {fh5, rh, D[rh, OverHat[r][OverHat[t]]]}]];\n",
    "RHSMotionRadialLagrange // TraditionalForm"
   ]
  },
  {
   "cell_type": "markdown",
   "metadata": {},
   "source": [
    "<span style=\"color:brown\">**NB:**</span> Выражение <span style=\"color:green\">**совпадает**</span> с раннее полученным уравнением и с уравнением (10) из файла Binary.pdf"
   ]
  },
  {
   "cell_type": "code",
   "execution_count": 1913,
   "metadata": {
    "vscode": {
     "languageId": "wolfram"
    }
   },
   "outputs": [
    {
     "data": {
      "text/html": [
       "<div><pre style=\"&#102;&#111;&#110;&#116;&#45;&#102;&#97;&#109;&#105;&#108;&#121;&#58;&#32;&#34;&#67;&#111;&#117;&#114;&#105;&#101;&#114;&#32;&#78;&#101;&#119;&#34;&#44;&#67;&#111;&#117;&#114;&#105;&#101;&#114;&#44;&#109;&#111;&#110;&#111;&#115;&#112;&#97;&#99;&#101;&#59;\">&#48;</pre></div>"
      ],
      "text/plain": [
       "0"
      ]
     },
     "execution_count": 1913,
     "metadata": {
      "text/html": [],
      "text/plain": []
     },
     "output_type": "execute_result"
    }
   ],
   "source": [
    "RHSMotion[[1]] - RHSMotionRadialLagrange"
   ]
  },
  {
   "cell_type": "markdown",
   "metadata": {},
   "source": [
    "---\n",
    "\n",
    "#### Уравнение для координаты $\\phi$:\n",
    "$$\n",
    "\\frac{d}{d\\hat{t}} \\left(\\frac{\\partial \\hat{L}}{\\partial \\hat{\\omega}} \\right) - \\frac{\\partial \\hat{L}}{\\partial \\phi} = 0.\n",
    "$$\n",
    "Вычислим производные:\n",
    "$$\n",
    "\\frac{\\partial \\hat{L}}{\\partial \\hat{\\omega}} = \\hat{r}^2 \\hat{\\omega}, \\quad \\frac{d}{d\\hat{t}} \\left( \\frac{\\partial \\hat{L}}{\\partial \\hat{\\omega}} \\right) = \\frac{d}{d\\hat{t}} \\left( \\hat{r}^2 \\hat{\\omega} \\right),\n",
    "$$\n",
    "$$\n",
    "\\frac{\\partial \\hat{L}}{\\partial \\phi} = - \\frac{5}{2}\\epsilon_G\\frac{\\partial \\hat{\\Phi}}{\\partial \\phi}.\n",
    "$$\n",
    "Подставляем в уравнение Эйлера-Лагранжа:\n",
    "$$\n",
    "\\frac{1}{\\hat{r}}\\frac{d}{d\\hat{t}} \\left( \\hat{r}^2 \\hat{\\omega} \\right) = \\frac{1}{\\hat{r}}\\frac{d\\hat{J}}{d\\hat{t}} = - \\frac{5}{2}\\frac{\\epsilon_G}{\\hat{r}}\\frac{\\partial \\hat{\\Phi}}{\\partial \\phi}.\n",
    "$$\n",
    "\n",
    "Здесь \n",
    "$$\n",
    "\\frac{\\partial \\hat{\\Phi}}{\\partial \\phi} = \\frac{1}{5}\\hat{f}_{ij}^{(5)}\\left(\\frac{\\partial \\hat{r}_i}{\\partial \\phi}\\hat{r}_j + \\hat{r}_i\\frac{\\partial \\hat{r}_j}{\\partial \\phi}\\right)\n",
    "$$"
   ]
  },
  {
   "cell_type": "markdown",
   "metadata": {},
   "source": [
    "Правая часть уравнения движения для $\\phi$ будет выглядеть как"
   ]
  },
  {
   "cell_type": "code",
   "execution_count": 1915,
   "metadata": {
    "vscode": {
     "languageId": "wolfram"
    }
   },
   "outputs": [
    {
     "data": {
      "text/html": [
       "<div><img alt=\"Output\" src=\"data:image/png;base64,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\"></div>"
      ],
      "text/plain": [
       "FormBox[RowBox[{RowBox[{\"-\", FractionBox[\"1\", \"2\"]}], \" \", OverscriptBox[\"r\", \"^\"], \n",
       "\n",
       " \n",
       ">        \" \", SubscriptBox[\"ϵ\", \"G\"], \" \", \n",
       "\n",
       " \n",
       ">        RowBox[{\"(\", RowBox[{RowBox[{RowBox[{\"sin\", \"(\", RowBox[{\"2\", \" \", \"ϕ\"}], \n",
       "\n",
       " \n",
       ">                \")\"}], \" \", RowBox[{\"(\", \n",
       "\n",
       " \n",
       ">                RowBox[{TemplateBox[List[SubscriptBox[OverscriptBox[\"f\", \"^\"], \n",
       "\n",
       " \n",
       ">                     RowBox[List[\"y\", \",\", \"y\"]]], \"\\\"(5)\\\"\"], \"Superscript\", \n",
       "\n",
       " \n",
       ">                   Rule[SyntaxForm, SuperscriptBox]], \"-\", \n",
       "\n",
       " \n",
       ">                  TemplateBox[List[SubscriptBox[OverscriptBox[\"f\", \"^\"], \n",
       "\n",
       " \n",
       ">                     RowBox[List[\"x\", \",\", \"x\"]]], \"\\\"(5)\\\"\"], \"Superscript\", \n",
       "\n",
       " \n",
       ">                   Rule[SyntaxForm, SuperscriptBox]]}], \")\"}]}], \"+\", \n",
       "\n",
       " \n",
       ">            RowBox[{\"2\", \" \", RowBox[{\"cos\", \"(\", RowBox[{\"2\", \" \", \"ϕ\"}], \")\"}], \" \", \n",
       "\n",
       " \n",
       ">              TemplateBox[List[SubscriptBox[OverscriptBox[\"f\", \"^\"], \n",
       "\n",
       " \n",
       ">                 RowBox[List[\"x\", \",\", \"y\"]]], \"\\\"(5)\\\"\"], \"Superscript\", \n",
       "\n",
       " \n",
       ">               Rule[SyntaxForm, SuperscriptBox]]}]}], \")\"}]}], TraditionalForm]\n"
      ]
     },
     "execution_count": 1915,
     "metadata": {
      "text/html": [],
      "text/plain": []
     },
     "output_type": "execute_result"
    }
   ],
   "source": [
    "RHSMotionPhiLagrange = - 1/2 Subscript[\\[Epsilon], G] FullSimplify[EinsteinSummation[{{i, j}, {i}, {j}}, {fh5, D[rh, \\[Phi][OverHat[t]]], rh}] + EinsteinSummation[{{i, j}, {i}, {j}}, {fh5, rh, D[rh, \\[Phi][OverHat[t]]]}]]/OverHat[r][OverHat[t]];\n",
    "RHSMotionPhiLagrange // TraditionalForm"
   ]
  },
  {
   "cell_type": "markdown",
   "metadata": {},
   "source": [
    "<span style=\"color:brown\">**NB:**</span> Выражение <span style=\"color:green\">**совпадает**</span> с раннее полученным уравнением и с уравнением (9) из файла Binary.pdf"
   ]
  },
  {
   "cell_type": "code",
   "execution_count": 1916,
   "metadata": {
    "vscode": {
     "languageId": "wolfram"
    }
   },
   "outputs": [
    {
     "data": {
      "text/html": [
       "<div><pre style=\"&#102;&#111;&#110;&#116;&#45;&#102;&#97;&#109;&#105;&#108;&#121;&#58;&#32;&#34;&#67;&#111;&#117;&#114;&#105;&#101;&#114;&#32;&#78;&#101;&#119;&#34;&#44;&#67;&#111;&#117;&#114;&#105;&#101;&#114;&#44;&#109;&#111;&#110;&#111;&#115;&#112;&#97;&#99;&#101;&#59;\">&#48;</pre></div>"
      ],
      "text/plain": [
       "0"
      ]
     },
     "execution_count": 1916,
     "metadata": {
      "text/html": [],
      "text/plain": []
     },
     "output_type": "execute_result"
    }
   ],
   "source": [
    "RHSMotion[[2]] - RHSMotionPhiLagrange"
   ]
  },
  {
   "cell_type": "markdown",
   "metadata": {},
   "source": [
    "## Получим **энергетическую** систему уравнений в подходе Лагранжа"
   ]
  },
  {
   "cell_type": "markdown",
   "metadata": {},
   "source": [
    "Заметим, что энергия системы:\n",
    "$$\n",
    "\\hat{E} = \\frac{(\\hat{r}^{(1)})^2}{2} + \\frac{\\hat{r}^2 \\hat{\\omega}^2}{2} - \\frac{1}{\\hat{r}}\n",
    "$$\n",
    "$$\n",
    "\\frac{1}{\\hat{r}^{(1)}}\\left(\\frac{d\\hat{E}}{d\\hat{t}} - \\hat{\\omega} \\frac{d\\hat{J}}{d\\hat{t}}\\right) = \\hat{r}^{(2)} - \\hat{r} \\hat{\\omega}^2 + \\frac{1}{\\hat{r}^2}\n",
    "$$\n",
    "\n",
    "А также уравнение для изменения момента импульса системы есть\n",
    "$$\n",
    "\\frac{d\\hat{J}}{d\\hat{t}} = - \\frac{5}{2}\\epsilon_G\\frac{\\partial \\hat{\\Phi}}{\\partial \\phi}.\n",
    "$$\n",
    "\n",
    "Итоговая энергетическая система, выведенная по-новому будет записываться как:\n",
    "\n",
    "$$\n",
    "\\begin{align}\n",
    "\\frac{d\\hat{E}}{d\\hat{t}} &= - \\frac{5}{2}\\epsilon_G\\left(\\hat{r}^{(1)}\\frac{\\partial \\hat{\\Phi}}{\\partial \\hat{r}} + \\hat{\\omega} \\frac{\\partial \\hat{\\Phi}}{\\partial \\phi}\\right)\n",
    "  = - \\frac{\\epsilon_G}{2}\\hat{f}_{ij}^{(5)}\\left(\\frac{d\\hat{r}_i}{d\\hat{t}}\\hat{r}_j + \\hat{r}_i\\frac{d\\hat{r}_j}{d\\hat{t}}\\right)\n",
    "  = - \\frac{\\epsilon_G}{2}\\hat{f}_{ij}^{(5)}\\frac{d(\\hat{r}_i \\hat{r}_j)}{d\\hat{t}}\n",
    "\\\\\n",
    "\\frac{d\\hat{J}}{d\\hat{t}} &= - \\frac{5}{2}\\epsilon_G\\frac{\\partial \\hat{\\Phi}}{\\partial \\phi}\n",
    "  = - \\frac{\\epsilon_G}{2}\\hat{f}_{ij}^{(5)}\\left(\\frac{\\partial \\hat{r}_i}{\\partial \\phi}\\hat{r}_j + \\hat{r}_i\\frac{\\partial \\hat{r}_j}{\\partial \\phi}\\right)\n",
    "  = - \\frac{\\epsilon_G}{2}\\hat{f}_{ij}^{(5)}\\frac{d(\\hat{r}_i \\hat{r}_j)}{d\\phi}\n",
    "\\end{align}\n",
    "$$"
   ]
  },
  {
   "cell_type": "code",
   "execution_count": 1918,
   "metadata": {
    "vscode": {
     "languageId": "wolfram"
    }
   },
   "outputs": [
    {
     "data": {
      "text/html": [
       "<div><img alt=\"Output\" src=\"data:image/png;base64,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\"></div>"
      ],
      "text/plain": [
       "FormBox[TagBox[RowBox[{\"(\", \"⁠\", \n",
       "\n",
       " \n",
       ">         TagBox[GridBox[{{RowBox[{OverscriptBox[\"r\", \"^\"], \" \", \n",
       "\n",
       " \n",
       ">               RowBox[{\"(\", RowBox[{\"-\", SubscriptBox[\"ϵ\", \"G\"]}], \")\"}], \" \", \n",
       "\n",
       " \n",
       ">               RowBox[{\"(\", RowBox[{RowBox[{OverscriptBox[\"r\", \"^\"], \" \", \n",
       "\n",
       " \n",
       ">                     OverscriptBox[\"ω\", \"^\"], \" \", \n",
       "\n",
       " \n",
       ">                     RowBox[{\"(\", RowBox[{RowBox[{RowBox[{\"cos\", \"(\", \n",
       "\n",
       " \n",
       ">                             RowBox[{\"2\", \" \", \"ϕ\"}], \")\"}], \" \", \n",
       "\n",
       " \n",
       ">                           TemplateBox[List[SubscriptBox[OverscriptBox[\"f\", \n",
       "\n",
       " \n",
       ">                             \"^\"], RowBox[List[\"x\", \",\", \"y\"]]], \"\\\"(5)\\\"\"], \n",
       "\n",
       " \n",
       ">                            \"Superscript\", Rule[SyntaxForm, SuperscriptBox]]}], \n",
       "\n",
       " \n",
       ">                         \"+\", RowBox[{RowBox[{\"sin\", \"(\", \"ϕ\", \")\"}], \" \", \n",
       "\n",
       " \n",
       ">                           RowBox[{\"cos\", \"(\", \"ϕ\", \")\"}], \" \", \n",
       "\n",
       " \n",
       ">                           RowBox[{\"(\", \n",
       "\n",
       " \n",
       ">                             RowBox[{TemplateBox[List[SubscriptBox[\n",
       "\n",
       " \n",
       ">                             OverscriptBox[\"f\", \"^\"], \n",
       "\n",
       " \n",
       ">                             RowBox[List[\"y\", \",\", \"y\"]]], \"\\\"(5)\\\"\"], \n",
       "\n",
       " \n",
       ">                             \"Superscript\", Rule[SyntaxForm, SuperscriptBox]], \n",
       "\n",
       " \n",
       ">                              \"-\", \n",
       "\n",
       " \n",
       ">                              TemplateBox[List[SubscriptBox[OverscriptB\\\n",
       "\n",
       " \n",
       ">   ox[\"f\", \"^\"], RowBox[List[\"x\", \",\", \"x\"]]], \"\\\"(5)\\\"\"], \"Superscript\", \n",
       "\n",
       " \n",
       ">                              Rule[SyntaxForm, SuperscriptBox]]}], \")\"}]}]}], \")\"}]\\\n",
       "\n",
       " \n",
       ">   }], \"+\", RowBox[{SuperscriptBox[OverscriptBox[\"r\", \"^\"], \"′\"], \" \", \n",
       "\n",
       " \n",
       ">                     RowBox[{\"(\", RowBox[{RowBox[{RowBox[{\"sin\", \"(\", \n",
       "\n",
       " \n",
       ">                             RowBox[{\"2\", \" \", \"ϕ\"}], \")\"}], \" \", \n",
       "\n",
       " \n",
       ">                           TemplateBox[List[SubscriptBox[OverscriptBox[\"f\", \n",
       "\n",
       " \n",
       ">                             \"^\"], RowBox[List[\"x\", \",\", \"y\"]]], \"\\\"(5)\\\"\"], \n",
       "\n",
       " \n",
       ">                            \"Superscript\", Rule[SyntaxForm, SuperscriptBox]]}], \n",
       "\n",
       " \n",
       ">                         \"+\", RowBox[{RowBox[{SuperscriptBox[\"cos\", \"2\"], \"(\", \n",
       "\n",
       " \n",
       ">                             \"ϕ\", \")\"}], \" \", \n",
       "\n",
       " \n",
       ">                           TemplateBox[List[SubscriptBox[OverscriptBox[\"f\", \n",
       "\n",
       " \n",
       ">                             \"^\"], RowBox[List[\"x\", \",\", \"x\"]]], \"\\\"(5)\\\"\"], \n",
       "\n",
       " \n",
       ">                            \"Superscript\", Rule[SyntaxForm, SuperscriptBox]]}], \n",
       "\n",
       " \n",
       ">                         \"+\", RowBox[{RowBox[{SuperscriptBox[\"sin\", \"2\"], \"(\", \n",
       "\n",
       " \n",
       ">                             \"ϕ\", \")\"}], \" \", \n",
       "\n",
       " \n",
       ">                           TemplateBox[List[SubscriptBox[OverscriptBox[\"f\", \n",
       "\n",
       " \n",
       ">                             \"^\"], RowBox[List[\"y\", \",\", \"y\"]]], \"\\\"(5)\\\"\"], \n",
       "\n",
       " \n",
       ">                            \"Superscript\", Rule[SyntaxForm, SuperscriptBox]]}]}], \n",
       "\n",
       " \n",
       ">                       \")\"}]}]}], \")\"}]}]}, \n",
       "\n",
       " \n",
       ">            {RowBox[{RowBox[{\"-\", FractionBox[\"1\", \"2\"]}], \" \", \n",
       "\n",
       " \n",
       ">               SuperscriptBox[OverscriptBox[\"r\", \"^\"], \"2\"], \" \", \n",
       "\n",
       " \n",
       ">               SubscriptBox[\"ϵ\", \"G\"], \" \", \n",
       "\n",
       " \n",
       ">               RowBox[{\"(\", RowBox[{RowBox[{RowBox[{\"sin\", \"(\", \n",
       "\n",
       " \n",
       ">                       RowBox[{\"2\", \" \", \"ϕ\"}], \")\"}], \" \", \n",
       "\n",
       " \n",
       ">                     RowBox[{\"(\", RowBox[{TemplateBox[List[SubscriptBox[\n",
       "\n",
       " \n",
       ">                            OverscriptBox[\"f\", \"^\"], \n",
       "\n",
       " \n",
       ">                            RowBox[List[\"y\", \",\", \"y\"]]], \"\\\"(5)\\\"\"], \n",
       "\n",
       " \n",
       ">                          \"Superscript\", Rule[SyntaxForm, SuperscriptBox]], \"-\", \n",
       "\n",
       " \n",
       ">                         TemplateBox[List[SubscriptBox[OverscriptBox[\"f\", \"^\"], \n",
       "\n",
       " \n",
       ">                            RowBox[List[\"x\", \",\", \"x\"]]], \"\\\"(5)\\\"\"], \n",
       "\n",
       " \n",
       ">                          \"Superscript\", Rule[SyntaxForm, SuperscriptBox]]}], \")\"}]}\\\n",
       "\n",
       " \n",
       ">   ], \"+\", RowBox[{\"2\", \" \", RowBox[{\"cos\", \"(\", RowBox[{\"2\", \" \", \"ϕ\"}], \")\"}], \n",
       "\n",
       " \n",
       ">                     \" \", TemplateBox[List[SubscriptBox[OverscriptBox[\"f\", \"^\"], \n",
       "\n",
       " \n",
       ">                        RowBox[List[\"x\", \",\", \"y\"]]], \"\\\"(5)\\\"\"], \"Superscript\", \n",
       "\n",
       " \n",
       ">                      Rule[SyntaxForm, SuperscriptBox]]}]}], \")\"}]}]}}, \n",
       "\n",
       " \n",
       ">           Rule[RowSpacings, 1], Rule[ColumnAlignments, Center], \n",
       "\n",
       " \n",
       ">           Rule[ColumnAlignments, Left]], Column], \"⁠\", \")\"}], \n",
       "\n",
       " \n",
       ">       Function[BoxForm`e$, MatrixForm[BoxForm`e$]]], TraditionalForm]\n"
      ]
     },
     "execution_count": 1918,
     "metadata": {
      "text/html": [],
      "text/plain": []
     },
     "output_type": "execute_result"
    }
   ],
   "source": [
    "RHSEnegryLagrange = - 5/2 Subscript[\\[Epsilon],G] FullSimplify[{\n",
    "  D[fh5rhrh, OverHat[t]] /. OmegaReplace,\n",
    "  D[fh5rhrh, \\[Phi][OverHat[t]]]\n",
    "}, Trig -> True];\n",
    "\n",
    "RHSEnegryLagrange // MatrixForm // TraditionalForm"
   ]
  },
  {
   "cell_type": "markdown",
   "metadata": {},
   "source": [
    "<span style=\"color:brown\">**NB:**</span> Выражения полностью <span style=\"color:green\">**совпадают**</span> с предыдущим ньютоновым подходом!"
   ]
  },
  {
   "cell_type": "code",
   "execution_count": 1919,
   "metadata": {
    "vscode": {
     "languageId": "wolfram"
    }
   },
   "outputs": [
    {
     "data": {
      "text/html": [
       "<div><img alt=\"Output\" src=\"data:image/png;base64,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\"></div>"
      ],
      "text/plain": [
       "0\n",
       "\n",
       "0"
      ]
     },
     "execution_count": 1919,
     "metadata": {
      "text/html": [],
      "text/plain": []
     },
     "output_type": "execute_result"
    }
   ],
   "source": [
    "FullSimplify[RHSEnegryLagrange - RHSEnegry] // MatrixForm"
   ]
  },
  {
   "cell_type": "markdown",
   "metadata": {},
   "source": [
    "В **размерной** же записи наши уравнения превращаются в\n",
    "$$\n",
    "\\begin{align}\n",
    "\\frac{dE}{dt} &=\n",
    "  = - \\frac{1}{5}f_{ij}^{(5)} \\mu \\frac{d(r_i r_j)}{dt}\n",
    "  = - \\frac{1}{5}\\frac{c^5}{G}f_{ij}^{(5)} \\frac{d}{dt}\\left(f_{ij} + \\frac{1}{3} \\delta_{ij}r^2\\right)\n",
    "  = - \\frac{1}{5}\\frac{c^5}{G}f_{ij}^{(5)} \\frac{df_{ij}}{dt}\n",
    "\\\\\n",
    "\\frac{dJ}{dt} &=\n",
    "  = - \\frac{1}{5}f_{ij}^{(5)} \\mu \\frac{d(r_i r_j)}{d\\phi}\n",
    "  = - \\frac{1}{5}\\frac{c^5}{G}f_{ij}^{(5)} \\frac{d}{d\\phi}\\left(f_{ij} + \\frac{1}{3} \\delta_{ij}r^2\\right)\n",
    "  = - \\frac{1}{5}\\frac{c^5}{G}f_{ij}^{(5)} \\frac{df_{ij}}{d\\phi}\n",
    "  = - \\frac{2}{5}\\frac{c^5}{G}\\epsilon_{ij}f_{ik}^{(5)} f_{kj}\n",
    "\\end{align}\n",
    "$$\n",
    "\n",
    "Здесь учтено, что квадрупольный момент бесследовый\n",
    "$$\n",
    "\\begin{align}\n",
    "\\text{Tr}(f_{ij}) &= \\delta_{ij}f_{ij} = 0\n",
    "\\\\\n",
    "\\text{Tr}(f^{(5)}_{ij}) &= \\delta_{ij}f^{(5)}_{ij} = 0\n",
    "\\\\\n",
    "\\end{align}\n",
    "$$"
   ]
  },
  {
   "cell_type": "code",
   "execution_count": 1922,
   "metadata": {
    "vscode": {
     "languageId": "wolfram"
    }
   },
   "outputs": [
    {
     "data": {
      "text/html": [
       "<div><img alt=\"Output\" src=\"data:image/png;base64,iVBORw0KGgoAAAANSUhEUgAAAgIAAAA8CAIAAACbyEVvAAAAzXpUWHRSYXcgcHJvZmlsZSB0eXBlIGV4aWYAAHjabU/bDQMhDPtnio6QFw6Mw12p1A06fsNBVVHViMQ4iVFSfz0f6TYgTMmyF1SAAlatSgtSaGJmpnrFCYkz1U1Pek7CLaT8LaAv/dh1x/IrP0bLn3T8EFxtDSwjlalzm+9j9UsrZTdS2lA/hP+/TV2QwW4RTcgdNXhJQSMhC2XHAycQjYy7kJ2RO9xjDD46tI3BAem+d/cEDeE+VtBxs7bIGpE1trq0pnZFVZZjVa9F0htMOFqsa994UAAAAAlwSFlzAAAWJQAAFiUBSVIk8AAAADx0RVh0U29mdHdhcmUAQ3JlYXRlZCB3aXRoIHRoZSBXb2xmcmFtIExhbmd1YWdlIDogd3d3LndvbGZyYW0uY29tXKKmhQAAACF0RVh0Q3JlYXRpb24gVGltZQAyMDI1OjAzOjEzIDAyOjQyOjMxHAnjqQAAGpNJREFUeF7tnXWU3raywG/KzMycMrcpMzMzM6fM3JTSFFLmvDIzc9pb5vaWmZmZ+359c56OrmTLsi1/n7yR/9iz65VG0nhGMxpSr7///vtf4Z7PP/+8f//+iyyyyMorrxwOaoKUMJAwkDCQMNAUBoYKBfirr77ab7/9ppxyygEDBnz44YehwCY4CQMJAwkDCQONYiCMGBg4cGCfPn0GDRr0448/NjrdBDxhIGEgYSBhICwGwoiB5ZZb7pVXXrntttvCTi5BSxhIGEgYSBhoGgNhxEDv3r2HHnroccYZp+npJvgJAwkDCQMJA2ExEEYMhJ1TgpYwkDCQMJAw0DEMJDHQMVSngRIGEgYSBmLEQBIDMX6VNKeEgYSBhIGOYSCJgY6hOg2UMJAwkDAQIwaSGIjxq6Q5JQwkDCQMdAwDSQx0DNVpoISBhIGEgRgx0CtgMYn3339/sskmY5VnnHHGdtttF8Nyn3jiiY8//niVVVaJYTJdn0NU2Pjzzz/PPPPMv/76S9DyyCOPnHTSSeONN17XsdSBCfiv/dBDDz3kkEN69erVgVmlIVqKgQDkhBgI9bz33nuCR8RAKJh14Hz55ZcUt3j++efrAOkxfWPDxlVXXaVz3dJLL91jUF24EP+1b7jhhsccc0whwNRgSMZAfXL6V0D0RSUGUDOXX355uCjgAtsLygcbv/76608//UTL5pZ5++23o9sK/Hnnnffkk0/+9/8/H330ES/ffvvtrbbaipIkzc0hEzKrZu2//fZbc+NSaGudddb5448/8tbO+y233PKll17S5/Dmm2+OOOKIgwcPbm5iCXJwDETLSnnk1GPFwNFHHz3ssMOy7ODfuI0AC7GBCB977LFRz/fdd9+GFkitkYkmmggbHfDvv//+UUcd9cEHH2TzNYZjApwMZLvs2LPXXnuxdtLgP/jggyYGlaPYlVde6V77o48+ilns9ddf1+ew/fbbTzDBBNTubWJiCWZwDETOSpnkFFIMvPDCC3LMP/XUUwMilx3hwgsv3GabbXbZZZcbbrjBBzLq5BhjjLHtttv6NO7xbQqx8fvvvy+44ILy7TBDo7MHx8kbb7zBJnvfffcJZFWHfIQRRqAw7Q8//KBG5HNTqJx9Ofgc8gDecsstyvi+8MILB5dAmG6XWWaZnXfeuXDtNDjxxBNnnnlmHSGck8DS4Ycf3jGEpIEqYyB+Vsokp5BiAJVTtpIVVlihMh6Njhyv2BSASc0iAY4wKAR+9tln0xJls7DlkNCgEBv77LMP6OLnM888M+mkk4477rhYMMJiZuutt15yySUVTBSF9dZbb/LJJ5dvOu20037//ffqv3fddRcvO6P/EtfAMWiKKabAh7Tbbrsx7v777x927XfeeSdgqcQuYN1rp8GYY45peNdWXHHFiSeemC0m7MQStOAYaAUr2eQURgycfvrps846q+7xm2WWWYIo4yhBlC9FgnGsPvbYY2WIQq8vk4G3g6t1wYmmMwDd2MBWM/zww59//vkyGYw288wzz6KLLhoWezPNNNOuu+5qr/fSSy8dbbTR+KZKWZY58Oamm25qGj+scaGFFlpggQU+++wzGYv9d7jhhrvjjjsCDk20D5u459ppxolk44031tszKxAiNqX0RIuBtrCSTU5hxEBzH4YtSalRjDLXXHPBD2rPyhz3gQceoE1yDgtyCrHx2muvGW5JjEj33HNPQDHw9ddfY3U599xzM78XJcqHGmooTOf6f7EgYSxqjq4EMvo1K/3ll1/0gbBtgpOAQ2MRWnbZZf3XjvV2mmmm0du/++67kDTH4oCzSqCCY6AtrGSTU0RiwHavY1R98skn9a9FnAn8cP311zs+Yd++fWmDmln2MzNc2S7xt6+MjYBLY6vlizz00EN5MNHHkRO60QONmFNgwDl0ERQH08yTkEzJXjsBVKDru+++0+fM8bpjhrIu4ioN7cZAKFYyyCmWLGJMtISRjDTSSFhmlXEJJVHUf/VgHSJ+bv7559dfGr+TJMUb5fN0tNT/xXY5yiij9OvXz7O9ZzMmTOgL+uB88823+eabX3311Z4dQzUri43HHnuMeZIGiF3ommuuCTINjE7AUZliNkwcElNPPfUwwwyj/oVI1v8MMo1CIE2snUGxMpVauzQmzk2fsNAzWlHhKio3YAOCPjfaaCOO4JiP4cRPP/20MrSOdew6i+WttAlyCsVKJjnFIH493evYFlCsDjroIMecMWUgS3jKxr+LhRpXYU2EPPzwwwrC5ZdfzkwMKlljjTVq2lvwnXpaLcpigzhOJow9TYK+Rh55ZN1zWxkzr776KtDyorx+/vlngkd33313Hf4MM8ywxRZbVB6xQseG1s5M8M2wt2ZOKXPtBx98MBqJ0Z4IInDYXLwQlkBOYAatjjXWWHfffXcFZDbaJSoWy1tpQ+QUipUMcorCKOTpXt9xxx1Rq93xEniPIWWOPGUJEQZDBcbXXbajag9LU0KDocXWjBpOnN+EE07IOaN///56QQtCqkqNssEGGwDnggsukF7E84w//vjqTweoUthAq2I7ZqBvv/32iy++GH300VHSWVSpqWY2Rhph61fZsNdee+3cc8+N6UNkDJjHgaynjDEoqCPAqf7QnhCaWzsTINaZQ63MpHDttFl77bWXWmopY+Y4zCFsqMhzRWWbMSjwifE76qijOL9CBiISSFnQnXNlwYZtHyGLZS6wOXIKxUoGOXVfDHi619n1iKdmh3IT1nnnnQftIi3C0l8hNIwYnKORASrmhD9JlOVYrfrK3HhIESoEqBqwI0tUO44d9RJdA1X9tNNOC4gNInEZBVVUYJLYhbfGf57ulgjIJZZYQtpQPkgsHuR2IA8I0zTOHASMIgY++eSTUKMXwml07dhz+YIS/1q4dgiJI+8555xjzFmMe+zOhWup0ECADxo0SPVl659tttmEXOvoRhUmk9clThbLnG2j5BSElQxy6r4Y8HGvU3EAhVHqDbgf8YhusskmRQ0D/x9TFVubyv8kvBUrHmq7Mcziiy8urOW/x1133XW0x7BggEIGMCKYcazEHxts+sgVBjJ88qHQBEImmWQS5dtHnL/88su6YFMDMRNs05SZCzV0IZym184ECABVNOlYOy0PO+wwjDN2tALOM6GcJtIp9thjj9VXX91AFKqGjMi+U4jDDjSIk8XshTdNTkFYySCn7ouBQgJ69tln0bLfeecd1ZIooLztDyMshIuCmQkW3fzee+9FI0P9pICMbaN/8cUXjY7gSyn4b731FkZzGzJWb9Q93bqN+dIwdkuvAw88sKwYyMtpwjg244wzcmZ3pHq5saEvhA2aieEgaS5cikoJ+IHdOR94dNZdd10iJsu6dgqpyNGgA2tn6yd7jsQX9zzJDEAHh+QyNxehHOJr6yw2sy9uGCNomGacBYnR8BQDGEJRenCKOixI/Ate1hOkjck42DNaFrPx2QFyqs9KyCqdnLovBrD3oXeccMIJeCYxEVDUBUJBPcGXDULRrzEdEBpE+ArPZptthsGHZBwj1lt9DDHB225kdjeC9khFxkrLQxQKuZqqtgG7P6GobFLq0E0xouOOO47wHvb3Sy65hBp+mKQEcb1799Z3XiAT48R7n8xbiYPCUO7JyUh+GTcz/vWss87iXw5Xah421OhY5P/n/x6M0YDCGSB/erqgPVehmrHBnXLKKY5eeMBse0jZUTzbd3jt6BzQmDs6gEQzR1k92ZQff/xxzwXWbAZjSuq+uzYM+hkSDiPeVFNNBVvxwKREc6jRkegDBgyQjHGWAEORNE55GH16bvaMmcXay0o6OXVfDLDjkG/Mzi7aKATUp08f2XDnnHNOQnfkd/3JU/b5JIQ50hKXrMED4hlX6tjAgQP5U5JFMdkTuy3wlRjAUSal1nhQurHwEMauJIFeFVlKBdhGm0wmxGFAY+RZIYuyG2IcUCU06EXwDNqW3lHSQEBaniM3DxsKCMhH1PHISsG2/NlEWaHCJXe4QevWLsFsOE46gygxH2N4pB5U3ogoUqhT+MBEB0JLFT8WNaOkC0cK9DbeUDgWgcGpCHOfEBv1VtWZz8GeAImZxdrLSjo5dV8MCB7FqbLSSisRDgQNEVXJnxXySGeffXY62voLNQN4j7NOfTacDTfeeKP6c80119TFAO9VpTwSXDFk80ZMFjQjElwFLEHfvOH4Usic1EjA/o7eRA1CR2MMVoRtIKuRVVJJHLOyHCPImcAwpfedbrrpeJ+XT5eHDWN0VSEcd33hKnpYgxatHQMg35rQ/s58Akia4eDHvOE4uBBcR3QZUQyqjQSkE3YsbyQRBw1GL+JNJJJIAhUM5mbPmFmsvaykk1MsYmCxxRaDLPBTTT/99GI9rBamxpYNHPveG/R33qO2KMMrFhW99hzkboiBb775Roj1yCOPVB9byrTxKLOJzJzwx0LmFGpG8XG0xGggh6GLL76YZhJKS5Qhv0smnZGPKuvi0J0JMw8bRmNJakOPY8mFq+hhDVq0djkxuyuphPo6GEXRdaAfzJJ5MCWl3yBIDqzQJBoMvRAPKD02fXImQKHhPScJ8UW52TNmFmsvK+nk9I+1ka+CecH9KM+ybILyYMBBZS58iPDRe9m/Y9PgOMl7omKwyEvICiTi7pX5X1LweW8noOJ44D12VVxwmKfRTYjm1jONxVKmP5k3/8ktmzzMWX7hOMxPqnK6Z4tPGwbGHATbOFrCPzCSXJhDMwQV9ihhEpktpwG9u4wrc7CfPGwYLUELb7B9kStQAeed74IKX0Sw73Ko8plYi9YuVA23Zq6rMhfb0Dj1ohWxg+OYJYMsD41iq5GyBOpB0+K9HO5xGuPD4xfcBnobzBHitWIDEXp2s2fMLNZeVvovckKaSSxK4WN7t7hLtrAXDQpLjWKLEDiI/ZrqjBi8bI3JSJLElmLEGlHhko56XLbiN/00gDtBpvrcc8/JVEVc3XrrrY6Zc6kW+zX1xdy5bxyARATK3JA0aGSqKhlBh/zLOKQTVMNLbq3KHD0PG0Zj0baoBV0T+Z3pnrcPGqRIUJbPfFq0dtlMbb+XLLMyF9tY2nPPPXEJFOYPC3VdccUVeXjGNisfhfqGRhtVLVhyy93sGTOLtZeVdHL6RwVG9+R8534IZ7b1ZZw8//F4yEhySwtRK3g4CvjIFUcbmaRdwgVjJb41IojYWGmASYcQfqlrX/MhkAkIDt2Tf+HtAOmU6HHXyXnqqafgB9R/UfxRVDm14C+RGXJO56dRZEnGFeFhP3nY0FuCK6lUo/zkNRHSdHfsCUXU+s//JfbJ/bRr7Y7CRCyzMhcbKCJOjLA9bJLE/ziwh5ovZ01i+fKaqfO0VA7XH7FI8AiJutkzZhZrLyv9Fzn5aExNt8EcIRtc/YHIUQIUdn8DFLkC8gaqlXAdHrJ5VaxC5dMAp2BA2d4IGY59XEKMHDZWNVVM/IDipCJvxL3GSYLfOTujoMEthntZ1nLEEUdkoi4PG3pj5QknWLM+/tsFoV1rJ5yXb80e3RySOQGghdjskzmizAfmtXNNOCtjCiZHRxhNpaYrOCqjXkIe3OwZM4u1l5V0cup+hVESBUhdgVaIf3doH57/Eus29iuj/Q477PD000/zkkru1NPg2Mvv5IURAuQJOa+ZWOex59gNkDFYctDiOXYYNlbKClF/3+hCgihv1IkBxwDyQ0JmMUxhUOJMJh9PPTJunmciDxs6BDGOk8ogQUdD1NOutQtVV/OZ+XxWnFKrrbYaodK4zfT2WPBJ6LEhiPYG81JtQv8vigvaCeda/HBSEZOsF6M7bXhDsIqQt5s9Y2ax9rKSTk7dFwNiEWLv41ZCH2J1t5GNj2hluxnnXHnJWVUicPhFzps84vIVj5Y8bLvyC8qOeqk8w6j58lIMOOR22iNC3FhOuVaX5Eki8eW56KKL8BKjv+vF5qQvUVL8RDIhDxiUVGSxCJFcSkklcugM+68cbtQc7Ak4sKEay1bort1tQ+4Zb9q1dqFqlc4S9hOQQYkViPQXNndFqyhMxx9/POY1Ceg0Hghb3uAQRt8nvYCtn9hlzK24A9G3UH0k0Jl/SU0U9UDS/I6HQBmOHOwZM4vpi2oxOTV3wPSEjIMBVNolFT27G82wwADNrsc7xxxzYFSRyEsecW6rJBf2XAnThChV1Qq54YFHv/9E5AePivuEf/jTrvmlWmayK5kB9gIx9EskEkoZiTn8Ah/iL8F+SuoA+d9GF7Hp43XIw1UeNvT25Ojpy8kExQEfLiWfSP6LP9xIZJP36BeDBw9GYkk6G+c8fs/L9672fcP2Klw7ijAfQmWbU+2A/ctO1oN+EN6IfBVxSyiBCiIINWdxazVxwzYHVlVSNJNc7SIrsijCCuz2pD2qLAFElyQn4k9GGZJe6EDCfcok62bPmFmsCVbypLqadKWTU/fzBoT+3Anr/guW9C70FKMLp1q2S3Z5SkGgdJOdSxS/MC3GVnU3On05H1BLCy1Gz+BFRSJqTWXb0oytGQgyCqXQeKOzPRtlJjupl3m5oGj3ZF2qoWEetvK8mtJYljJlnlp7HjZUA3Y0sUE5qkew7xCPBFootkFHfmd6mGvtj7L33nsT1wQ0SgVgdpf8FHcMlf+XDd6ycO3s7Kuuuio0Q/V/qfFAOT9WpFfilFlhSBE3DFY7eYMdA6IKOGd1+pRMxrCPGN/zHpRxx3DgRBk8QRQHVj1TjI78CWFAM2ASIydpmyhkIEr3KDjYM3IWC85K/lRXhwYMcuq+GKizGLuvmDX5afxLKlSjblPajCfIbSpqCMyjhK9suummodaC4k9ZZq4ZcJR6ZmNio0GNMrhOn0MeNlQbqSJJjZfCmYsLHelICqhcSJDZBXMWAhJ7FxYGzlU8nSwSV7gKvYHn2rkmgYVzgxB9kRwIacx69kBQFP4VNAz5F95RkZqhHvxYsk3rpctDAa8PB/WF/ctRMQly5RZSFBoyhOzjVCF7RstiDbGSJ9VV/nAGOfU0MSAhp83dzpGHd1LSUHbs+OjK34lydViEHN3ZjpE9ead16ViIDbFcqQthHMMR301LbMeFV6chmWiZd9dYZYQE7+i5drZdBBsiWSZA0ZG8GoI77bSTOleROcWxKeCcCcwGOHq0O/Uk4IixgYqTxRSWPMmJ9j6s5E911T6TQU7NioEmaqO7ly0m9UyTRTV8+feingSXgjkuXvcHRRwFsaGOm7/IIcIKgWJVARtYaTjIy5EcYxfWHuP280yYEsXEmaBwFVKWo1otkELgNRtUWzt+IykKy+FGyQN7JnhWWbiYNzGauyV02YVIjgvGk7Ide1L72FisGjl5spIn1VX7vgY5BRMDxP8aST3Ew3Au7rBNgB0N3a3U9V7V8JjZCwcpZVjqX9yIP9a+BkSNiDZBqhcpOYUzt7HB7i/XI2MSwYKvtq1CUGIWL5Sv2EbESh6hS6Dy2qUUGuEueIOUn9PGGGvH0cIdD1hI1l9//UKUlmog4cU+YrgU2NY1jofFKpOTJyt5Ul21L2iQUzAxkBkz4JnQX20leb0k7LJb2miQwBgCsVVQk71MzDKFlhnVy8aGhGaRdErusZ3Xk4lVzL74KsiBwCjBZocEUgXljfglkj+khABEDKgm/Jl1qKXC2hlOip2AK6MsCl/BcN6gwVHVFc88sTd15mn3lUwXrr4IC7aN0OJhsQrk5M9KeVQX5JMZ5BRGDHClIoWoUAPZdNRD8gghg0EmXQqI1N7Ra0qX6t7DGtvYQIvhKMCBo/A8QUs0F+xs3FtA9jKuURBLMC7ZDJIUTZAVESBs/URJoV9gvSUmhPecAgkbp0wesUxR4dN/7fq0iSjD8YMnRnfPUgeXVD7OnZQAUY0lsUNEYNhHamMEly5hJzmkQfMnJ39WUjjMpLpQGDbIKYwYQOun7Hi3FHADNRRFgWEQd6FQ1mo4dbABIRJczKFBSt0RHUQAKzYlpIjgREoNY4WTsqncEiEOzAMOOIA/ibb0P7VEjmQ89kYtcZAj2Xn6VRPUISd8y8fXUmq9nMBIx2UOpXqlxvFgwJ+V9GLvNtUFWZFNTgHEAGoRgcMYQyOJYcA0T6YlN10EQVnbgdTEBuc8/UJBAvsktk89+IQoNYyyY2QeZF6o21JkEmFMrW/bywU7oW3o9yliJcB4HXyZkoKL0A0OOQHsGAY8WUmRWR7V1Z+wTU4BxABaEjTKg12IBCsumeu6PJA093SCFoppDhtYabGD2+lU9Sk1HgicccmByDSgkRyAr155R0hN5zLhJmaOa5pjGftIE8ATzBgwYLCSg+rqz9YmpwBiwLhTgv0XTbywWHn9xTggEHCJpSLvTq5Gh44QeHPYIPo4woigIJ8AVYZoWrR7KuTo1n8dOJ58DgQUl8URgveYKIkm4uJIDyTTnmoiQdaVgMSJAWElH6qrOf9McgogBrgvF32TQiJysZx6br755pozrtOdNB+Yx67DUwdme/smbJT9dmzoa621FqWfCoOdiOigMJ/7btGyoxvCBgc19XHrAEl9W4EBf6qrvBx0F5ucAogBNSHkDDe7qnrF7MI+RfYrr8fdkWxprrbwyY9taAJRgU3YiOpz+E8GPQY+4rok/y6pZcJAHgbyyCmkGJCxKR6i7i2Sm6m79ZDQS1rvEHjNeibCEza6RYd1xkWPoYqRfa9LHZip7xCLgTxyCn/fAAGF3LYodfwxqupmog7/jvuOCG6pbJ6ehI020gAWJ+5sse9/beNa0py7joE8cuqFYGxictxEQTIRFZjlKoYuPixQXW3RxWlEMnTCRiQfwnMa6Xt5Iio188FAHjmFPw3IbKhdzE+pON/dJ8kAHf8JG92lxrKjp+9VFmOpvQMDeeTUlBgg45TZyO1x6UkYSBhIGEgYiBYDTYkBSvpQbVGu0k1PwkDCQMJAwkC0GKgrBtju+/bte9lll+k+Bq5qIi6lX79+XDgX7crTxBIGEgYSBhIGwEBdFzHVI7idHEB4g8napdo+MoBKc2RUym1BCcsJAwkDCQMJAzFjoK4YoLwwt02pC46pfMIFScgD8ipjXnaaW8JAwkDCQMKAYKCuGAAEZXW5MBpJQK4WxVUoQJ+QmzCQMJAwkDDQFgz8L3vygOX34GHjAAAAAElFTkSuQmCC\"></div>"
      ],
      "text/plain": [
       "FormBox[RowBox[{RowBox[{\"-\", FractionBox[\"1\", \"5\"]}], \" \", \n",
       "\n",
       " \n",
       ">        SuperscriptBox[OverscriptBox[\"r\", \"^\"], \"2\"], \" \", \n",
       "\n",
       " \n",
       ">        RowBox[{\"(\", RowBox[{RowBox[{RowBox[{\"sin\", \"(\", RowBox[{\"2\", \" \", \"ϕ\"}], \n",
       "\n",
       " \n",
       ">                \")\"}], \" \", RowBox[{\"(\", \n",
       "\n",
       " \n",
       ">                RowBox[{TemplateBox[List[SubscriptBox[OverscriptBox[\"f\", \"^\"], \n",
       "\n",
       " \n",
       ">                     RowBox[List[\"x\", \",\", \"x\"]]], \"\\\"(5)\\\"\"], \"Superscript\", \n",
       "\n",
       " \n",
       ">                   Rule[SyntaxForm, SuperscriptBox]], \"-\", \n",
       "\n",
       " \n",
       ">                  TemplateBox[List[SubscriptBox[OverscriptBox[\"f\", \"^\"], \n",
       "\n",
       " \n",
       ">                     RowBox[List[\"y\", \",\", \"y\"]]], \"\\\"(5)\\\"\"], \"Superscript\", \n",
       "\n",
       " \n",
       ">                   Rule[SyntaxForm, SuperscriptBox]]}], \")\"}]}], \"-\", \n",
       "\n",
       " \n",
       ">            RowBox[{\"2\", \" \", RowBox[{\"cos\", \"(\", RowBox[{\"2\", \" \", \"ϕ\"}], \")\"}], \" \", \n",
       "\n",
       " \n",
       ">              TemplateBox[List[SubscriptBox[OverscriptBox[\"f\", \"^\"], \n",
       "\n",
       " \n",
       ">                 RowBox[List[\"x\", \",\", \"y\"]]], \"\\\"(5)\\\"\"], \"Superscript\", \n",
       "\n",
       " \n",
       ">               Rule[SyntaxForm, SuperscriptBox]]}]}], \")\"}]}], TraditionalForm]\n"
      ]
     },
     "execution_count": 1922,
     "metadata": {
      "text/html": [],
      "text/plain": []
     },
     "output_type": "execute_result"
    }
   ],
   "source": [
    "(* Доказатество последнего равенства в уравнении для изменениия момента импульса *)\n",
    "leviCivitaArray = Normal[LeviCivitaTensor[2]];\n",
    "-2/5 FullSimplify[EinsteinSummation[{{i, j}, {i, k}, {k, j}}, {leviCivitaArray, fh5, fh}]] // TraditionalForm"
   ]
  },
  {
   "cell_type": "markdown",
   "metadata": {},
   "source": [
    "<span style=\"color:brown\">**NB:**</span> Выражения полностью <span style=\"color:green\">**совпадают**</span>\n",
    "с $dE/dt, dJ/dt$ из задачника Лайтман А., Пресс В., Прайс Р., Тюкольки С. - 1979 - Сборник задач по теории относительности и гравитации (Решение задачи 18.5, стр. 446-447)\n",
    "\n",
    "Не стоит забывать, что в задачнике система геометризированных единиц $G = c = 1$."
   ]
  },
  {
   "cell_type": "markdown",
   "metadata": {},
   "source": [
    "# Итоговая система **энергетических** уравнений:\n",
    "\n",
    "$$\n",
    "\\begin{align}\n",
    "\\tag{dJ/dt}\n",
    "\\frac{d\\hat{J}}{d\\hat{t}} &= -\\frac{1}{2} \\epsilon_G\n",
    "\\hat{r}^2\n",
    "\\left(\n",
    "  \\sin (2 \\phi ) \\left(\\hat{f}_{y,y}{}^{\\text{(5)}}-\\hat{f}_{x,x}{}^{\\text{(5)}}\\right)+2 \\cos (2 \\phi ) \\hat{f}_{x,y}{}^{\\text{(5)}}\n",
    "\\right)\n",
    "= \\epsilon_G I_J\n",
    "\\\\\n",
    "\\tag{dE/dt}\n",
    "\\frac{d\\hat{E}}{d\\hat{t}} &= \\epsilon_G\n",
    "\\left(\n",
    "  I_J\\hat{\\omega}\n",
    "  -\\hat{r} \\hat{r}'\n",
    "  \\left(\n",
    "  \\sin (2 \\phi ) \\hat{f}_{x,y}{}^{\\text{(5)}}+\\cos ^2(\\phi ) \\hat{f}_{x,x}{}^{\\text{(5)}}+\\sin ^2(\\phi ) \\hat{f}_{y,y}{}^{\\text{(5)}}\n",
    "  \\right)\n",
    "\\right)\n",
    "= \\epsilon_G I_E\n",
    "\\end{align}\n",
    "$$"
   ]
  },
  {
   "cell_type": "markdown",
   "metadata": {},
   "source": [
    "# RHS уравнения (dJ/dt)\n",
    "\n",
    "Введём новое обозначение $\\hat{r}^2 \\equiv \\hat{r}_2$"
   ]
  },
  {
   "cell_type": "code",
   "execution_count": 1923,
   "metadata": {
    "vscode": {
     "languageId": "wolfram"
    }
   },
   "outputs": [],
   "source": [
    "ToR2Replacement = {\n",
    "  OverHat[r][OverHat[t]] -> Sqrt[Subscript[OverHat[r],2][OverHat[t]]],\n",
    "  Derivative[n_][OverHat[r]][OverHat[t]] :> D[Sqrt[Subscript[OverHat[r], 2][OverHat[t]]], {OverHat[t], n}]\n",
    "};"
   ]
  },
  {
   "cell_type": "markdown",
   "metadata": {},
   "source": [
    "и подставим в (dJ/dt) значения $\\hat{f}_{i,j}^{(5)}$:"
   ]
  },
  {
   "cell_type": "code",
   "execution_count": 1929,
   "metadata": {
    "vscode": {
     "languageId": "wolfram"
    }
   },
   "outputs": [
    {
     "data": {
      "text/html": [
       "<div><img alt=\"Output\" src=\"data:image/png;base64,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\"></div>"
      ],
      "text/plain": [
       "FormBox[RowBox[{SubscriptBox[OverscriptBox[\"r\", \"^\"], \"2\"], \" \", \n",
       "\n",
       " \n",
       ">        RowBox[{\"(\", RowBox[{RowBox[{\"-\", \n",
       "\n",
       " \n",
       ">              RowBox[{\"5\", \" \", SuperscriptBox[SubscriptBox[OverscriptBox[\"r\", \"^\"], \n",
       "\n",
       " \n",
       ">                  \"2\"], \"′\"], \" \", SuperscriptBox[OverscriptBox[\"ω\", \"^\"], \"′′′\"]}]}], \n",
       "\n",
       " \n",
       ">            \"-\", RowBox[{\"10\", \" \", SuperscriptBox[SubscriptBox[OverscriptBox[\"r\", \n",
       "\n",
       " \n",
       ">                 \"^\"], \"2\"], \"′′′\"], \" \", SuperscriptBox[OverscriptBox[\"ω\", \"^\"],\\\n",
       " \n",
       ">    \"′\"]}]\\\n",
       ", \"+\", RowBox[{\"120\", \" \", SuperscriptBox[OverscriptBox[\"ω\", \"^\"], \"2\"], \"\\\n",
       " \n",
       ">    \", \n",
       "           SuperscriptBox[SubscriptBox[OverscriptBox[\"r\", \"^\"], \"2\"], \"′\"], \"\\\n",
       " \n",
       ">    \", \n",
       "           SuperscriptBox[OverscriptBox[\"ω\", \"^\"], \"′\"]}], \"+\", \n",
       "\n",
       " \n",
       ">            RowBox[{\"60\", \" \", SubscriptBox[OverscriptBox[\"r\", \"^\"], \"2\"], \" \", \n",
       "\n",
       " \n",
       ">              OverscriptBox[\"ω\", \"^\"], \" \", \n",
       "           SuperscriptBox[RowBox[{\"(\", \n",
       "\n",
       " \n",
       ">                 SuperscriptBox[OverscriptBox[\"ω\", \"^\"], \"′\"], \")\"}], \"2\"]}], \"+\", \n",
       "\n",
       " \n",
       ">            RowBox[{\"40\", \" \", SuperscriptBox[OverscriptBox[\"ω\", \"^\"], \"3\"], \" \", \n",
       "\n",
       " \n",
       ">              SuperscriptBox[SubscriptBox[OverscriptBox[\"r\", \"^\"], \"2\"], \"′′\"]}], \"+\", \n",
       "\n",
       " \n",
       ">            RowBox[{\"40\", \" \", SubscriptBox[OverscriptBox[\"r\", \"^\"], \"2\"], \" \", \n",
       "\n",
       " \n",
       ">              SuperscriptBox[OverscriptBox[\"ω\", \"^\"], \"2\"], \" \", \n",
       "\n",
       " \n",
       ">              SuperscriptBox[OverscriptBox[\"ω\", \"^\"], \"′′\"]}], \"-\", \n",
       "\n",
       " \n",
       ">            RowBox[{\"10\", \" \", SuperscriptBox[SubscriptBox[OverscriptBox[\"r\", \"^\"], \n",
       "\n",
       " \n",
       ">                \"2\"], \"′′\"], \" \", SuperscriptBox[OverscriptBox[\"ω\", \"^\"], \"′′\"]}], \"-\",\\\n",
       " \n",
       ">    \n",
       "         RowBox[{\"5\", \" \", OverscriptBox[\"ω\", \"^\"], \" \", \n",
       "\n",
       " \n",
       ">              SuperscriptBox[SubscriptBox[OverscriptBox[\"r\", \"^\"], \"2\"], \"′′′′\"]}],\\\n",
       " \n",
       ">    \"-\", \n",
       "         RowBox[{SubscriptBox[OverscriptBox[\"r\", \"^\"], \"2\"], \" \", \n",
       "\n",
       " \n",
       ">              SuperscriptBox[OverscriptBox[\"ω\", \"^\"], \"′′′′\"]}], \"-\", \n",
       "\n",
       " \n",
       ">            RowBox[{RowBox[{\"16\"}], \" \", SubscriptBox[OverscriptBox[\"r\", \"^\"], \"2\"], \n",
       "\n",
       " \n",
       ">              \" \", SuperscriptBox[OverscriptBox[\"ω\", \"^\"], \"5\"]}]}], \")\"}]}], \n",
       "\n",
       " \n",
       ">      TraditionalForm]\n"
      ]
     },
     "execution_count": 1929,
     "metadata": {
      "text/html": [],
      "text/plain": []
     },
     "output_type": "execute_result"
    }
   ],
   "source": [
    "fh1 = fh /. ToR2Replacement;\n",
    "fh5Symbolic = Simplify[D[fh1, {OverHat[t], 5}], Trig -> True];\n",
    "\n",
    "Fh5Replacement = Flatten[{\n",
    "  Outer[\n",
    "    Superscript[Subscript[OverHat[f], #1, #2], \"(5)\"] -> fh5Symbolic[[#1 /. {x -> 1, y -> 2}, #2 /. {x -> 1, y -> 2}]] &,\n",
    "    {x, y}, {x, y}\n",
    "  ],\n",
    "  ToR2Replacement,\n",
    "  OmegaReplace\n",
    "}];\n",
    "\n",
    "dJdtTemp = RHSEnegryLagrange[[2]] //. Fh5Replacement;\n",
    "dJdt = Subscript[OverHat[r],2][OverHat[t]]*Expand[Simplify[dJdtTemp/Subscript[\\[Epsilon], G], Trig -> True]/Subscript[OverHat[r],2][OverHat[t]]];\n",
    "dJdt // TraditionalForm"
   ]
  },
  {
   "cell_type": "markdown",
   "metadata": {},
   "source": [
    "<span style=\"color:brown\">**NB:**</span> В файле Binary.pdf выводится <span style=\"color:green\">**точно такое же**</span> выражение"
   ]
  },
  {
   "cell_type": "markdown",
   "metadata": {},
   "source": [
    "$$\n",
    "I_J = I_1 = \\hat{r}_2 \\left[ 120\\hat{r}_2^{(1)}\\hat{\\omega}^2\\hat{\\omega}^{(1)} - 5\\hat{r}_2^{(1)}\\hat{\\omega}^{(3)} - 16\\hat{r}_2\\hat{\\omega}^5 - 10\\hat{r}_2^{(2)}\\hat{\\omega}^{(2)} + 60\\hat{r}_2\\hat{\\omega}(\\hat{\\omega}^{(1)})^2\n",
    "- 10\\hat{r}_2^{(3)}\\hat{\\omega}^{(1)} + 40\\hat{r}_2^{(2)}\\hat{\\omega}^3 - 5\\hat{r}_2^{(4)}\\hat{\\omega} - \\hat{r}_2\\hat{\\omega}^{(4)} + 40\\hat{r}_2\\hat{\\omega}^2\\hat{\\omega}^{(2)} \\right]\n",
    "$$"
   ]
  },
  {
   "cell_type": "code",
   "execution_count": 1931,
   "metadata": {
    "vscode": {
     "languageId": "wolfram"
    }
   },
   "outputs": [
    {
     "data": {
      "text/html": [
       "<div><pre style=\"&#102;&#111;&#110;&#116;&#45;&#102;&#97;&#109;&#105;&#108;&#121;&#58;&#32;&#34;&#67;&#111;&#117;&#114;&#105;&#101;&#114;&#32;&#78;&#101;&#119;&#34;&#44;&#67;&#111;&#117;&#114;&#105;&#101;&#114;&#44;&#109;&#111;&#110;&#111;&#115;&#112;&#97;&#99;&#101;&#59;\">&#48;</pre></div>"
      ],
      "text/plain": [
       "0"
      ]
     },
     "execution_count": 1931,
     "metadata": {
      "text/html": [],
      "text/plain": []
     },
     "output_type": "execute_result"
    }
   ],
   "source": [
    "I1 = Subscript[OverHat[r], 2][OverHat[t]] * (\n",
    "    120 * Derivative[1][Subscript[OverHat[r], 2]][OverHat[t]] *\n",
    "    OverHat[\\[Omega]][OverHat[t]]^2 * Derivative[1][OverHat[\\[Omega]]][OverHat[t]]\n",
    "    - 5 * Derivative[1][Subscript[OverHat[r], 2]][OverHat[t]] *\n",
    "    Derivative[3][OverHat[\\[Omega]]][OverHat[t]]\n",
    "    - 16 * Subscript[OverHat[r], 2][OverHat[t]] *\n",
    "    OverHat[\\[Omega]][OverHat[t]]^5\n",
    "    - 10 * Derivative[2][Subscript[OverHat[r], 2]][OverHat[t]] *\n",
    "    Derivative[2][OverHat[\\[Omega]]][OverHat[t]]\n",
    "    + 60 * Subscript[OverHat[r], 2][OverHat[t]] *\n",
    "    OverHat[\\[Omega]][OverHat[t]] * Derivative[1][OverHat[\\[Omega]]][OverHat[t]]^2\n",
    "    - 10 * Derivative[3][Subscript[OverHat[r], 2]][OverHat[t]] *\n",
    "    Derivative[1][OverHat[\\[Omega]]][OverHat[t]]\n",
    "    + 40 * Derivative[2][Subscript[OverHat[r], 2]][OverHat[t]] *\n",
    "    OverHat[\\[Omega]][OverHat[t]]^3\n",
    "    - 5 * Derivative[4][Subscript[OverHat[r], 2]][OverHat[t]] *\n",
    "    OverHat[\\[Omega]][OverHat[t]]\n",
    "    - Subscript[OverHat[r], 2][OverHat[t]] *\n",
    "    Derivative[4][OverHat[\\[Omega]]][OverHat[t]]\n",
    "    + 40 * Subscript[OverHat[r], 2][OverHat[t]] *\n",
    "    OverHat[\\[Omega]][OverHat[t]]^2 * Derivative[2][OverHat[\\[Omega]]][OverHat[t]]\n",
    ");\n",
    "dJdt - I1"
   ]
  },
  {
   "cell_type": "markdown",
   "metadata": {},
   "source": [
    "# RHS уравнения (dE/dt)\n",
    "\n",
    "Подставим в (dE/dt) значения $\\hat{f}_{i,j}^{(5)}$:"
   ]
  },
  {
   "cell_type": "code",
   "execution_count": 1934,
   "metadata": {
    "vscode": {
     "languageId": "wolfram"
    }
   },
   "outputs": [
    {
     "data": {
      "text/html": [
       "<div><img alt=\"Output\" src=\"data:image/png;base64,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\"></div>"
      ],
      "text/plain": [
       "FormBox[RowBox[{FractionBox[\"1\", \"3\"], \" \", \n",
       "\n",
       " \n",
       ">        RowBox[{\"(\", RowBox[{RowBox[{OverscriptBox[\"ω\", \"^\"], \" \", \n",
       "\n",
       " \n",
       ">              RowBox[{\"(\", RowBox[{RowBox[{\"-\", \n",
       "\n",
       " \n",
       ">                    RowBox[{\"3\", \" \", SubscriptBox[OverscriptBox[\"r\", \"^\"], \"2\"], \n",
       "\n",
       " \n",
       ">                      \" \", RowBox[{\"(\", \n",
       "\n",
       " \n",
       ">                        RowBox[{RowBox[{\"10\", \" \", \n",
       "\n",
       " \n",
       ">                            SuperscriptBox[SubscriptBox[OverscriptBox[\"r\", \"^\"], \n",
       "\n",
       " \n",
       ">                              \"2\"], \"′′′\"], \" \", \n",
       "\n",
       " \n",
       ">                            SuperscriptBox[OverscriptBox[\"ω\", \"^\"], \"′\"]}], \"+\", \n",
       "\n",
       " \n",
       ">                          RowBox[{\"10\", \" \", \n",
       "\n",
       " \n",
       ">                            SuperscriptBox[SubscriptBox[OverscriptBox[\"r\", \"^\"], \n",
       "\n",
       " \n",
       ">                              \"2\"], \"′′\"], \" \", \n",
       "\n",
       " \n",
       ">                            SuperscriptBox[OverscriptBox[\"ω\", \"^\"], \"′′\"]}], \"+\", \n",
       "\n",
       " \n",
       ">                          RowBox[{SubscriptBox[OverscriptBox[\"r\", \"^\"], \"2\"], \" \", \n",
       "\n",
       " \n",
       ">                            SuperscriptBox[OverscriptBox[\"ω\", \"^\"], \"′′′′\"]}]}], \")\"}]\\\n",
       "\n",
       " \n",
       ">   }]}], \"+\", RowBox[{\"60\", \" \", SuperscriptBox[RowBox[{\"(\", \n",
       "\n",
       " \n",
       ">                       SuperscriptBox[SubscriptBox[OverscriptBox[\"r\", \"^\"], \"2\"], \n",
       "\n",
       " \n",
       ">                        \"′\"], \")\"}], \"2\"], \" \", \n",
       "\n",
       " \n",
       ">                    SuperscriptBox[OverscriptBox[\"ω\", \"^\"], \"′′\"]}], \"+\", \n",
       "\n",
       " \n",
       ">                  RowBox[{\"90\", \" \", \n",
       "\n",
       " \n",
       ">                    SuperscriptBox[SubscriptBox[OverscriptBox[\"r\", \"^\"], \"2\"], \"′\"], \n",
       "\n",
       " \n",
       ">                    \" \", SuperscriptBox[SubscriptBox[OverscriptBox[\"r\", \"^\"], \"2\"], \n",
       "\n",
       " \n",
       ">                     \"′′\"], \" \", SuperscriptBox[OverscriptBox[\"ω\", \"^\"], \"′\"]}]}],\\\n",
       " \n",
       ">    \")\"}]\\\n",
       "}], \"+\", RowBox[{SuperscriptBox[SubscriptBox[OverscriptBox[\"r\", \"^\"], \"2\"],\\\n",
       " \n",
       ">    \"′\"], \n",
       "           \" \", RowBox[{\"(\", RowBox[{RowBox[{\"30\", \" \", \n",
       "\n",
       " \n",
       ">                    SubscriptBox[OverscriptBox[\"r\", \"^\"], \"2\"], \" \", \n",
       "\n",
       " \n",
       ">                    SuperscriptBox[OverscriptBox[\"ω\", \"^\"], \"′\"], \" \", \n",
       "\n",
       " \n",
       ">                    SuperscriptBox[OverscriptBox[\"ω\", \"^\"], \"′′\"]}], \"+\", \n",
       "\n",
       " \n",
       ">                  RowBox[{\"45\", \" \", \n",
       "\n",
       " \n",
       ">                    SuperscriptBox[SubscriptBox[OverscriptBox[\"r\", \"^\"], \"2\"], \"′\"], \n",
       "\n",
       " \n",
       ">                    \" \", SuperscriptBox[RowBox[{\"(\", \n",
       "\n",
       " \n",
       ">                       SuperscriptBox[OverscriptBox[\"ω\", \"^\"], \"′\"], \")\"}], \"2\"]}], \n",
       "\n",
       " \n",
       ">                  \"-\", SuperscriptBox[SubscriptBox[OverscriptBox[\"r\", \"^\"], \"2\"], \n",
       "\n",
       " \n",
       ">                   \"′′′′′\"]}], \")\"}]}], \"-\", \n",
       "\n",
       " \n",
       ">            RowBox[{\"60\", \" \", SuperscriptBox[OverscriptBox[\"ω\", \"^\"], \"4\"], \" \", \n",
       "\n",
       " \n",
       ">              RowBox[{\"(\", RowBox[{SuperscriptBox[RowBox[{\"(\", \n",
       "\n",
       " \n",
       ">                     SuperscriptBox[SubscriptBox[OverscriptBox[\"r\", \"^\"], \"2\"], \n",
       "\n",
       " \n",
       ">                      \"′\"], \")\"}], \"2\"], \"-\", \n",
       "\n",
       " \n",
       ">                  RowBox[{\"2\", \" \", SubscriptBox[OverscriptBox[\"r\", \"^\"], \"2\"], \" \", \n",
       "\n",
       " \n",
       ">                    SuperscriptBox[SubscriptBox[OverscriptBox[\"r\", \"^\"], \"2\"],\\\n",
       " \n",
       ">    \"′′\"]}]}\\\n",
       "], \")\"}]}], \"+\", RowBox[{\"120\", \" \", SubscriptBox[OverscriptBox[\"r\",\\\n",
       " \n",
       ">    \"^\"], \"2\"], \n",
       "           \" \", SuperscriptBox[OverscriptBox[\"ω\", \"^\"], \"3\"], \" \", \n",
       "\n",
       " \n",
       ">              RowBox[{\"(\", RowBox[{RowBox[{\"2\", \" \", \n",
       "\n",
       " \n",
       ">                    SuperscriptBox[SubscriptBox[OverscriptBox[\"r\", \"^\"], \"2\"], \"′\"], \n",
       "\n",
       " \n",
       ">                    \" \", SuperscriptBox[OverscriptBox[\"ω\", \"^\"], \"′\"]}], \"+\", \n",
       "\n",
       " \n",
       ">                  RowBox[{SubscriptBox[OverscriptBox[\"r\", \"^\"], \"2\"], \" \", \n",
       "\n",
       " \n",
       ">                    SuperscriptBox[OverscriptBox[\"ω\", \"^\"], \"′′\"]}]}], \")\"}]}], \"+\", \n",
       "\n",
       " \n",
       ">            RowBox[{\"15\", \" \", SuperscriptBox[OverscriptBox[\"ω\", \"^\"], \"2\"], \" \", \n",
       "\n",
       " \n",
       ">              RowBox[{\"(\", RowBox[{RowBox[{\"12\", \" \", \n",
       "\n",
       " \n",
       ">                    SubsuperscriptBox[OverscriptBox[\"r\", \"^\"], \"2\", \"2\"], \" \", \n",
       "\n",
       " \n",
       ">                    SuperscriptBox[RowBox[{\"(\", \n",
       "\n",
       " \n",
       ">                       SuperscriptBox[OverscriptBox[\"ω\", \"^\"], \"′\"], \")\"}], \"2\"]}], \n",
       "\n",
       " \n",
       ">                  \"+\", RowBox[{\"2\", \" \", \n",
       "\n",
       " \n",
       ">                    SuperscriptBox[SubscriptBox[OverscriptBox[\"r\", \"^\"], \"2\"], \"′\"], \n",
       "\n",
       " \n",
       ">                    \" \", SuperscriptBox[SubscriptBox[OverscriptBox[\"r\", \"^\"], \"2\"], \n",
       "\n",
       " \n",
       ">                     \"′′′\"]}], \"-\", RowBox[{SubscriptBox[OverscriptBox[\"r\", \"^\"], \n",
       "\n",
       " \n",
       ">                     \"2\"], \" \", SuperscriptBox[SubscriptBox[OverscriptBox[\"r\", \"^\"], \n",
       "\n",
       " \n",
       ">                      \"2\"], \"′′′′\"]}]}], \")\"}]}], \"-\", \n",
       "\n",
       " \n",
       ">            RowBox[{RowBox[{\"48\"}], \" \", \n",
       "\n",
       " \n",
       ">              SubsuperscriptBox[OverscriptBox[\"r\", \"^\"], \"2\", \"2\"], \" \", \n",
       "\n",
       " \n",
       ">              SuperscriptBox[OverscriptBox[\"ω\", \"^\"], \"6\"]}]}], \")\"}]}],\\\n",
       " \n",
       ">    TraditionalForm]\n"
      ]
     },
     "execution_count": 1934,
     "metadata": {
      "text/html": [],
      "text/plain": []
     },
     "output_type": "execute_result"
    }
   ],
   "source": [
    "dEdtTemp = RHSEnegryLagrange[[1]] //. Fh5Replacement;\n",
    "dEdt = Simplify[dEdtTemp/Subscript[\\[Epsilon], G], Trig -> True];\n",
    "dEdt // TraditionalForm"
   ]
  },
  {
   "cell_type": "markdown",
   "metadata": {},
   "source": [
    "<span style=\"color:brown\">**NB:**</span> В файлах Binary.pdf и binary_catch1.pdf выводится <span style=\"color:green\">**точно такие же**</span> выражения для правой части (dE/dt),\n",
    "а именно $I_E = I_1\\hat{\\omega} + I_2\\frac{\\dot{r}}{r}$, где\n",
    "$$\n",
    "I_2 = 2\\hat{r}_2 \\left[ -40\\hat{r}_2\\hat{\\omega}^3\\hat{\\omega}^{(1)} - 20\\hat{\\omega}^4\\hat{r}_2^{(1)} + 5\\hat{r}_2\\hat{\\omega}\\hat{\\omega}^{(3)} + 10\\hat{r}_2\\hat{\\omega}^{(1)}\\hat{\\omega}^{(2)} + 10\\hat{\\omega}^2\\hat{r}_2^{(3)} + 30\\hat{\\omega}\\hat{\\omega}^{(1)}\\hat{r}_2^{(2)} + 20\\hat{\\omega}\\hat{\\omega}^{(2)}\\hat{r}_2^{(1)} + 15\\hat{r}_2^{(1)}(\\hat{\\omega}^{(1)})^2 - \\frac{1}{3}\\hat{r}_2^{(5)} \\right]\n",
    "$$"
   ]
  },
  {
   "cell_type": "code",
   "execution_count": 1936,
   "metadata": {
    "vscode": {
     "languageId": "wolfram"
    }
   },
   "outputs": [
    {
     "data": {
      "text/html": [
       "<div><pre style=\"&#102;&#111;&#110;&#116;&#45;&#102;&#97;&#109;&#105;&#108;&#121;&#58;&#32;&#34;&#67;&#111;&#117;&#114;&#105;&#101;&#114;&#32;&#78;&#101;&#119;&#34;&#44;&#67;&#111;&#117;&#114;&#105;&#101;&#114;&#44;&#109;&#111;&#110;&#111;&#115;&#112;&#97;&#99;&#101;&#59;\">&#48;</pre></div>"
      ],
      "text/plain": [
       "0"
      ]
     },
     "execution_count": 1936,
     "metadata": {
      "text/html": [],
      "text/plain": []
     },
     "output_type": "execute_result"
    }
   ],
   "source": [
    "I2 = 2 * Subscript[OverHat[r], 2][OverHat[t]] * (\n",
    "    -40 * Subscript[OverHat[r], 2][OverHat[t]] *\n",
    "    OverHat[\\[Omega]][OverHat[t]]^3 * Derivative[1][OverHat[\\[Omega]]][OverHat[t]]\n",
    "    - 20 * OverHat[\\[Omega]][OverHat[t]]^4 *\n",
    "    Derivative[1][Subscript[OverHat[r], 2]][OverHat[t]]\n",
    "    + 5 * Subscript[OverHat[r], 2][OverHat[t]] *\n",
    "    OverHat[\\[Omega]][OverHat[t]] * Derivative[3][OverHat[\\[Omega]]][OverHat[t]]\n",
    "    + 10 * Subscript[OverHat[r], 2][OverHat[t]] *\n",
    "    Derivative[1][OverHat[\\[Omega]]][OverHat[t]] *\n",
    "    Derivative[2][OverHat[\\[Omega]]][OverHat[t]]\n",
    "    + 10 * OverHat[\\[Omega]][OverHat[t]]^2 *\n",
    "    Derivative[3][Subscript[OverHat[r], 2]][OverHat[t]]\n",
    "    + 30 * OverHat[\\[Omega]][OverHat[t]] *\n",
    "    Derivative[1][OverHat[\\[Omega]]][OverHat[t]] *\n",
    "    Derivative[2][Subscript[OverHat[r], 2]][OverHat[t]]\n",
    "    + 20 * OverHat[\\[Omega]][OverHat[t]] *\n",
    "    Derivative[2][OverHat[\\[Omega]]][OverHat[t]] *\n",
    "    Derivative[1][Subscript[OverHat[r], 2]][OverHat[t]]\n",
    "    + 15 * Derivative[1][Subscript[OverHat[r], 2]][OverHat[t]] *\n",
    "    Derivative[1][OverHat[\\[Omega]]][OverHat[t]]^2\n",
    "    - (1/3) * Derivative[5][Subscript[OverHat[r], 2]][OverHat[t]]\n",
    ");\n",
    "Simplify[(I2*D[OverHat[r][OverHat[t]], OverHat[t]]/OverHat[r][OverHat[t]] + I1*OverHat[\\[Omega]][OverHat[t]] /. ToR2Replacement) - dEdt]"
   ]
  },
  {
   "cell_type": "markdown",
   "metadata": {},
   "source": [
    "# Итоговые $I_J$, $I_E$\n",
    "\n",
    "$$\n",
    "\\begin{align}\n",
    "\\tag{IJ}\\\n",
    "I_J &= \\hat{r}_2 \\left[ 120\\hat{r}_2^{(1)}\\hat{\\omega}^2\\hat{\\omega}^{(1)} - 5\\hat{r}_2^{(1)}\\hat{\\omega}^{(3)} - 16\\hat{r}_2\\hat{\\omega}^5 - 10\\hat{r}_2^{(2)}\\hat{\\omega}^{(2)} + 60\\hat{r}_2\\hat{\\omega}(\\hat{\\omega}^{(1)})^2\n",
    "- 10\\hat{r}_2^{(3)}\\hat{\\omega}^{(1)} + 40\\hat{r}_2^{(2)}\\hat{\\omega}^3 - 5\\hat{r}_2^{(4)}\\hat{\\omega} - \\hat{r}_2\\hat{\\omega}^{(4)} + 40\\hat{r}_2\\hat{\\omega}^2\\hat{\\omega}^{(2)} \\right]\n",
    "\\\\\n",
    "\\tag{IE}\n",
    "I_E &= I_J\\hat{\\omega} + \\hat{r}_2^{(1)} \\left[ -40\\hat{r}_2\\hat{\\omega}^3\\hat{\\omega}^{(1)} - 20\\hat{\\omega}^4\\hat{r}_2^{(1)} + 5\\hat{r}_2\\hat{\\omega}\\hat{\\omega}^{(3)} + 10\\hat{r}_2\\hat{\\omega}^{(1)}\\hat{\\omega}^{(2)} + 10\\hat{\\omega}^2\\hat{r}_2^{(3)} + 30\\hat{\\omega}\\hat{\\omega}^{(1)}\\hat{r}_2^{(2)} + 20\\hat{\\omega}\\hat{\\omega}^{(2)}\\hat{r}_2^{(1)} + 15\\hat{r}_2^{(1)}(\\hat{\\omega}^{(1)})^2 - \\frac{1}{3}\\hat{r}_2^{(5)} \\right]\n",
    "\\end{align}\n",
    "$$"
   ]
  },
  {
   "cell_type": "markdown",
   "metadata": {
    "vscode": {
     "languageId": "wolfram"
    }
   },
   "source": [
    "# Потеря энергии за один период обращения"
   ]
  },
  {
   "cell_type": "markdown",
   "metadata": {},
   "source": [
    "Энергию гравитационного излучени невозможно локализовать в области меньше длины одной волны.\n",
    "\n",
    "Поэтому мгновенные изменения энергии и момента не имеют физического смысла.\n",
    "\n",
    "Однако, если мы просуммируем энергию и момент по полному периоду обращения, то с такими величинами можно работать.\n",
    "\n",
    "Рассчитаем в **нулевом приближении**, сколько энергии уносится из системы\n",
    "\n",
    "гравитационными волнами за один полный оборот, интегрируя по ньютоновской гиперболической траектории\n",
    "\n",
    "начиная с момента, когда тело \"бесконечно\" далеко, до момента минимального сближения и обратно:\n",
    "$$\n",
    "\\Delta \\hat{E} = 2 \\epsilon_G \\int\\limits_{\\hat{t}_{\\text{min}}}^{\\infty}I_E(\\hat{t}) d \\hat{t}.\n",
    "$$"
   ]
  },
  {
   "cell_type": "markdown",
   "metadata": {},
   "source": [
    "В приближении Ньютона $I_J$ и $I_E$ равны нулю.\n",
    "Тогда и момент импульса и энергия сохраняются.\n",
    "\n",
    "$\\hat{J} = |\\vec{\\hat{r}} \\times \\vec{\\hat{v}}| = |\\vec{\\hat{r}}_\\infty \\times \\vec{\\hat{v}}_\\infty| = \\hat{r}\\hat{v}_\\infty \\sin(\\phi)$\n",
    "\n",
    "Так как $\\phi = \\pi/2$ на бесконечности, то $\\hat{J} = b\\hat{v}_\\infty = u$,\n",
    "то $u$ - безразмерная скорость на бесконечности.\n",
    "\n",
    "Отсюда следует, что $\\hat{\\omega} = \\frac{u}{\\hat{r}_2}$"
   ]
  },
  {
   "cell_type": "code",
   "execution_count": 1937,
   "metadata": {
    "vscode": {
     "languageId": "wolfram"
    }
   },
   "outputs": [],
   "source": [
    "OmegaReplace2 = {\n",
    "   OverHat[\\[Omega]][OverHat[t]] -> u/Subscript[OverHat[r], 2][OverHat[t]],\n",
    "   Derivative[n_][OverHat[\\[Omega]]][OverHat[t]] :> u D[1/Subscript[OverHat[r], 2][OverHat[t]], {OverHat[t], n}]\n",
    "};"
   ]
  },
  {
   "cell_type": "markdown",
   "metadata": {},
   "source": [
    "Заменим переменные\n",
    "$$\n",
    "\\Delta \\hat{E} = - 2 \\epsilon_G \\int\\limits_{\\hat{r}_2^{\\text{min}}}^{\\infty}\\frac{I_E(\\hat{r}_2)}{\\hat{r}_2^{(1)}}d \\hat{r}_2,\n",
    "$$"
   ]
  },
  {
   "cell_type": "markdown",
   "metadata": {},
   "source": [
    "Здесь $\\hat{r}_2^{\\text{min}}$ - квадрат минимального расстояния между объектами:"
   ]
  },
  {
   "cell_type": "code",
   "execution_count": 1939,
   "metadata": {
    "vscode": {
     "languageId": "wolfram"
    }
   },
   "outputs": [
    {
     "data": {
      "text/html": [
       "<div><img alt=\"Output\" src=\"data:image/png;base64,iVBORw0KGgoAAAANSUhEUgAAAMwAAABHCAIAAADENz++AAAAznpUWHRSYXcgcHJvZmlsZSB0eXBlIGV4aWYAAHjabU/bDQMhDPtnio4QkuDAONwdJ3WDjt/wUCuqWiI2zgMS2ut5h0cHRwqaLKMA5NCihauLTBOTI5URB85z5eLuB7XlV7fSN4G2/GP3DZM5/wwinkL6C65FV8MaJDz9WOf9WPVcc94HCW0o9Pn637uKMRKiqUdlMkNxnYNLJySmZLhxAl4YcTHp6dxg5m2wXiG1N3Zws726BYgbV19B+klSncVjFN9qeFV0RDf4WNmxSHgDobJa5G5hFZYAAAAJcEhZcwAAFiUAABYlAUlSJPAAAAA8dEVYdFNvZnR3YXJlAENyZWF0ZWQgd2l0aCB0aGUgV29sZnJhbSBMYW5ndWFnZSA6IHd3dy53b2xmcmFtLmNvbVyipoUAAAAhdEVYdENyZWF0aW9uIFRpbWUAMjAyNTowMzoxMyAwMjo0MjozMoUAshMAAAudSURBVHhe7Z11jBTLE8cfrsE9kODu7u6WoAGCBXcJzuE/3AlOcAnBLcDDgrsGT3BLcHd9n7zOb97c7N7eTM/e7exczx9kmamuqa76TnVVdV93tD9//vylLqWBiNRA9IhkHqy8x48fHy34r759+zrEANGUJ/O0ROPGjbNnz965c2eHGElOjESJEiVNmlSurX9bKZB50WfmzJkXLFhQvXp1/+o6ynJTIDOa/u3bt8mSJXv27FnKlCmjLCz823E/xGSjRo06cOCAf8UKILcLFy5kyJBBGmHnzp3r06dPAOV34Kvtgmz+/PmjR4++cuWKA/smJxIgK1y4sFzbDx8+NGvWbPny5XLN3drKFshu3LjRs2dPl6nm/Pnz0iDr1avXnTt3XKYQ+92RB9n3799btmw5YsQI+0I4ioO0J9uwYcO9e/eqVKniqO44QRh5kIWEhFSsWLFatWpO6Ia/ZPj48ePt27clPNmjR48GDRq0atWqGDFi+EsY1/CRBBmR/v79+ylaRo4iKOZt3LgRx1msWLE6deoMHTqU7C8iXn3x4sVUqVKlTZvWEvPfv3+3bt0abZAxWGpon3jXrl282j4fqxysWQRqq9erV6+yZMly9epVGp44cQL5ZsyYYZWJefpPnz6VK1fOoAWqDKDcPBOTlDNnzgTEJok1sokTJ/IBiP9SXUucOLFVDhL0e/fuLVmyJGpJnTq1RHM7Taxa5C+JlzVs2HDWrFmiYSSArEmTJqiydu3auIrBgwdrbiZNmjSvX7+WkN9Hk1atWg0fPtwST2oWTA+8e/cu0kD24MGDChUq5MqVi6mvgIDMqkUsg2zbtm0xY8YcM2bM//69OnbsSD+JdvlNsmnJPGaIz549C/9ly5ZpxACrQIECwrHNmzfPDBPzNHny5NmyZYt5eijz589fs2ZNoQ0ufHz06NH5sXDhQkt8zBMDaEJA6OvXrx/5IJOwiGWQrVixgqFKu+LFi0c/48ePz50dO3aY15RJyn79+jVo0MBAfPjwYQGyLl26mORjhuzz58+E7fgJM8QaTe7cufUKQSocDHfKli1riY8Ecbt27SIfZBIWsQwygy7OnDkToTEZerx+/brhpd++fcNb+B1kJ0+eTJ48uYSx9U0Y1q3GZFu3bu3fv/+PHz+svtpfIOPrQgByCDMCSFgkVHb569cvqkSLFy/u3r07H+Ldu3e1cBsvRU63Zs0aq2mITfolS5YQfBiYkM2JcCRv3rw2+eub0/ciRYro7zx//nznzp2MfY0aNaJCoT3CKmiD6+nTp/YFIISfOnUqdUf7rOQ4ULhBgIMHD5ppLmGRUCB7+fLllClTKFsT61y6dEmfkOMkJ0yYwE2DHAEpC5HY8j3EihWLYMiMXvQ0t27dun//vtdWnrX+zZs3U23m4keSJEm0VsRtaGPy5MnECU5QiFUl+J0+HIt4esgaNWogBPbTHh0/flyItWfPHjMeNaJpQDzC4G4tvejr168jR46MEycOy8W8NixYsOD69esNjxhDRd9PnTqlPRIl6FKlSlkSICzibt26wY26gFVu/houcdgIMGDAAKsCaPS+LWKMyRiJxAIEXJrGok2bNtzBPAwT0nL4qyGTg7Fjx86UKRPlOvM8+TyyZctWtWpVMc4CHUNbIIhrpNxvuD979mzoWQD48+dP8QgBRERotdjhVpCFaxEjyPB74sNl7BBKITKjZsGdSpUqmTeqnpIVWoxQvq+HDx+aYc4oiYvF5JcvXzZDL2jwxJRYyb35TSWMvnimfpS7CNj5xgxscXvQ16tXT7vfvn17oSKSXPMy6ClJYPXaaNGiBdzIb/Q3379/Hy5zaU9msIioSnTo0EEvgB8tYgTZnDlzeB8ZOOYUnRRujGvcuHHhdtsrgcnF5pqr8PEWkiD8jZ1aPwbGJdMdcjr9ixYtWuT5FWl+nZkAQYyrE9pIkCABobqEQqhyCQ6+r2HDhoXLXBpkkWwR48pYirnMEpJM8S9aYKEYxUahjtOnTxcvXjw85Xh5vm/fPi2qC6s5AxCjjxjLwrpYp4UXWbt2bdOmTSXE0JoMHDiQYCBnzpz0Tjhprq5du4Ibkiw952vXrokEFkrxg+Vi69at40etWrXI+SXEoFTB56pvSOZOYstkhkC/uEA8ZX3f/NHG0qVLmVaymuQaLMIyuOnTp5coUUKfSPnTIvrPRftw586dy/0vX76gWcJbusqfJGi+LdwvLCII8F7YwC9l9Ddv3uCq6RQL+TVRmXqnQGOQXPh1pszFfRZZ8MmJjHLatGn+6maQBv7mLRJquNQCsps3b6JBOk+1XSSbzFdyh5lKf2nWEh8yu4QJE3ralSkmKluWWAliWNEpZj8pEfFfvEvcuHE9p8VEQIb3EgMl0BSw4yIofPz4sdXpAa+iBiPILFkkVJ1MTNekS5cuR44c+Izt27ezuvrYsWPcJC9buXIl5UeJAcJmE8Ys5kZxIUzg/P3/iyEGoCAVIbwEf8ofGTNmZJQR4yNBNwU/5rkNrIRCKleuTAWR741xlpGFO4xQNK9bt25g18GSHCAM44+EBuw0sWwR/bcl4kGSLL7gFClSkHSw1FNIQ1IG+Ph2JdyGnSZY0ffqLjosx1/MXuAggRoT8GXKlDHw0SJ0oAyk2rZtizlFGgQcWX00ZMgQuVcbWsl5MoIZLCWsw+SeHUks1ckkLBJquBROi4uZHDFjSE9EpZu6lOccop2OmWzrO9XwRIZJtpCBGLEClll2/lKBeQ7PtsALAkZS8CSqGxT6uUOCwiyTZ73D/Nv1lD169ICh+RokDow1ySKsFBdow9kfOXJETgD8NEzokZnmEhYxljAoF5FJ6V8GzLlppr5gRkRH0Yi/5CPBxFGRunrKRr0XGoZI7RHZD6tnnzx54qiOOFyYqP7HvSya2L17N1AjkM+XL5+dSEW1DUsDUR1kuG2mLJmnwl1pNTMFF/9qQPIPSfwrRAC54b2I5UldFcIizgpRHWRoluVicnWQiLOKyzhH9eFSmJN8jUl3l5nWOd1RIHOOLVwriRouXWta53RMgcw5tnCtJApkrjWtczqmQOYcW7hWEgUy15rWOR37L7tk3Td/cekcyZQkwauB9OnTswhPk/8/kLGqx3PznODtp5I8gBpgJfemTZu8gCyAMqlXu1sDKiZzt30d0TsFMkeYwd1CKJC5276O6J0CmSPM4G4hFMjcbV9H9E6BzA9mUEfd+FaiWupjF2Ss2y5UqBB/8EM12y4vl7ZXnsyuYdVRN+FqUIEsXBX5IlBH3ZhRnwKZGS15p1FH3ZjUnQKZSUUZyQJ41I2kxIFrpkAmqXt2ODOsNZBkFAWaKZDJGJm9Ttl9jl3cZBpHvTaqhCFjc87dYY8jtnsRjdlHg4VSnGDMdnmdOnWS4ejqNgpkMublCCb9Dprsxce2PGxGyQ5qR48eleHo6jYKZEbzsosRG7OxiSsnY2TNmnXSpEmCgq2dxo4dyw8KY2zRqG/G1tpsiquKsWF+KQ7fdSjyxWNzSe3kXg4/1ARYvXo1SmRDRu3UQe2RxHlKkd+vAL5RBf7Gz4898bSIno08tcccj8dvtoDz3NAgIGf/BNEAq0DmxVhMeHMXMBUtWlQ85sQMsWOe2HvRcLG5rhorfYBegcyLcsR+xGyjr7koxk2x/69XkAWRUwmIqApkRrUTuwiQsQureMZWvJy/xw9OkxCnGqjLkgYUyIzqYv/lFy9e6EEWEhIiiMqXL8+hO5b0q4jRgAKZEQaHDh3iFmVVcc4NSSWHSIhTSNRYKffNKJB5B5nIKxkoe/fuTRGfIhn/5ZhL9r3m+DQ5XUfZVgpkRtM7/BSSYESqAlkoq7GvpwjIOMKXI704uImjbjhpijscyEBln8PhOL8tGC0dQJkVyEIpn9qYCLw4nKV58+YstWBSkkMLucPh5aVLlzacIhhAywXRq9XcpdFYzHYza0lln2OXxDMqZBwlQSrAyosgMq1zRP0HxnWc6l2U7RoAAAAASUVORK5CYII=\"></div>"
      ],
      "text/plain": [
       "FormBox[FractionBox[RowBox[{SuperscriptBox[\"u\", \"4\"], \"-\", \n",
       "\n",
       " \n",
       ">         RowBox[{\"2\", \" \", SqrtBox[RowBox[{SuperscriptBox[\"u\", \"4\"], \"+\", \"1\"}]]}],\\\n",
       " \n",
       ">    \"+\", \n",
       "      \"2\"}], SuperscriptBox[\"u\", \"4\"]], TraditionalForm]\n"
      ]
     },
     "execution_count": 1939,
     "metadata": {
      "text/html": [],
      "text/plain": []
     },
     "output_type": "execute_result"
    }
   ],
   "source": [
    "rMin2[u_] := (2 + u^4 - 2 Sqrt[1 + u^4])/u^4;\n",
    "rMin2[u] // TraditionalForm"
   ]
  },
  {
   "cell_type": "code",
   "execution_count": 1942,
   "metadata": {
    "vscode": {
     "languageId": "wolfram"
    }
   },
   "outputs": [
    {
     "data": {
      "text/html": [
       "<div><img alt=\"Output\" src=\"data:image/png;base64,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\"></div>"
      ],
      "text/plain": [
       "FormBox[RowBox[{FractionBox[RowBox[{\"16\", \" \", SuperscriptBox[\"u\", \"6\"]}], \n",
       "\n",
       " \n",
       ">         RowBox[{SubsuperscriptBox[OverscriptBox[\"r\", \"^\"], \"2\", \"4\"], \" \", \n",
       "\n",
       " \n",
       ">           SuperscriptBox[SubscriptBox[OverscriptBox[\"r\", \"^\"], \"2\"], \"′\"]}]], \"-\", \n",
       "\n",
       " \n",
       ">        FractionBox[RowBox[{\"40\", \" \", SuperscriptBox[\"u\", \"4\"], \" \", \n",
       "\n",
       " \n",
       ">           SuperscriptBox[SubscriptBox[OverscriptBox[\"r\", \"^\"], \"2\"], \"′\"]}], \n",
       "\n",
       " \n",
       ">         SubsuperscriptBox[OverscriptBox[\"r\", \"^\"], \"2\", \"4\"]], \"-\", \n",
       "\n",
       " \n",
       ">        FractionBox[RowBox[{\"4\", \" \", SuperscriptBox[\"u\", \"2\"], \" \", \n",
       "\n",
       " \n",
       ">           SuperscriptBox[RowBox[{\"(\", \n",
       "\n",
       " \n",
       ">              SuperscriptBox[SubscriptBox[OverscriptBox[\"r\", \"^\"], \"2\"], \"′′\"], \")\"}], \n",
       "\n",
       " \n",
       ">            \"2\"]}], RowBox[{SubsuperscriptBox[OverscriptBox[\"r\", \"^\"], \"2\", \"2\"], \" \", \n",
       "\n",
       " \n",
       ">           SuperscriptBox[SubscriptBox[OverscriptBox[\"r\", \"^\"], \"2\"], \"′\"]}]], \"+\", \n",
       "\n",
       " \n",
       ">        FractionBox[RowBox[{\"24\", \" \", SuperscriptBox[\"u\", \"2\"], \" \", \n",
       "\n",
       " \n",
       ">           SuperscriptBox[SubscriptBox[OverscriptBox[\"r\", \"^\"], \"2\"], \"′\"], \" \", \n",
       "\n",
       " \n",
       ">           SuperscriptBox[SubscriptBox[OverscriptBox[\"r\", \"^\"], \"2\"], \"′′\"]}], \n",
       "\n",
       " \n",
       ">         SubsuperscriptBox[OverscriptBox[\"r\", \"^\"], \"2\", \"3\"]], \"+\", \n",
       "\n",
       " \n",
       ">        FractionBox[RowBox[{\"4\", \" \", SuperscriptBox[\"u\", \"2\"], \" \", \n",
       "\n",
       " \n",
       ">           SuperscriptBox[SubscriptBox[OverscriptBox[\"r\", \"^\"], \"2\"], \"′′′′\"]}], \n",
       "\n",
       " \n",
       ">         RowBox[{SubscriptBox[OverscriptBox[\"r\", \"^\"], \"2\"], \" \", \n",
       "\n",
       " \n",
       ">           SuperscriptBox[SubscriptBox[OverscriptBox[\"r\", \"^\"], \"2\"], \"′\"]}]], \"-\", \n",
       "\n",
       " \n",
       ">        FractionBox[RowBox[{\"11\", \" \", SuperscriptBox[\"u\", \"2\"], \" \", \n",
       "\n",
       " \n",
       ">           SuperscriptBox[RowBox[{\"(\", \n",
       "\n",
       " \n",
       ">              SuperscriptBox[SubscriptBox[OverscriptBox[\"r\", \"^\"], \"2\"], \"′\"], \")\"}], \n",
       "\n",
       " \n",
       ">            \"3\"]}], SubsuperscriptBox[OverscriptBox[\"r\", \"^\"], \"2\", \"4\"]], \"-\", \n",
       "\n",
       " \n",
       ">        FractionBox[RowBox[{\"12\", \" \", SuperscriptBox[\"u\", \"2\"], \" \", \n",
       "\n",
       " \n",
       ">           SuperscriptBox[SubscriptBox[OverscriptBox[\"r\", \"^\"], \"2\"], \"′′′\"]}], \n",
       "\n",
       " \n",
       ">         SubsuperscriptBox[OverscriptBox[\"r\", \"^\"], \"2\", \"2\"]], \"+\", \n",
       "\n",
       " \n",
       ">        FractionBox[SuperscriptBox[SubscriptBox[OverscriptBox[\"r\", \"^\"], \"2\"],\\\n",
       " \n",
       ">    \"′′′′′\"], \n",
       "      \"3\"]}], TraditionalForm]\n"
      ]
     },
     "execution_count": 1942,
     "metadata": {
      "text/html": [],
      "text/plain": []
     },
     "output_type": "execute_result"
    }
   ],
   "source": [
    "(* Минус учтём сразу *)\n",
    "dEdr = Simplify[-dEdt/D[Subscript[OverHat[r], 2][OverHat[t]], OverHat[t]] //. OmegaReplace2];\n",
    "Expand[Simplify[dEdr]] // TraditionalForm"
   ]
  },
  {
   "cell_type": "markdown",
   "metadata": {},
   "source": [
    "<span style=\"color:brown\">**NB:**</span> Выражение для $dE/dr$ <span style=\"color:green\">**сопадает**</span> с выраженем для интегранта из binary_catch1.pdf, если учесть деление на $\\hat{r}_2^{(1)}$"
   ]
  },
  {
   "cell_type": "markdown",
   "metadata": {},
   "source": [
    "Из сохранения энергии следует, что\n",
    "$\\hat{E} = \\hat{E}_\\infty = \\frac{u^2}{2} = \\left(\\frac{(\\hat{r}^{(1)})^2}{2} + \\frac{\\hat{r}^2 \\hat{\\omega}^2}{2} - \\frac{1}{\\hat{r}}\\right)$\n",
    "\n",
    "Тогда можно найти $\\hat{r}_2^{(1)}$:"
   ]
  },
  {
   "cell_type": "code",
   "execution_count": 1945,
   "metadata": {
    "vscode": {
     "languageId": "wolfram"
    }
   },
   "outputs": [
    {
     "data": {
      "text/html": [
       "<div><img alt=\"Output\" src=\"data:image/png;base64,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\"></div>"
      ],
      "text/plain": [
       "FormBox[RowBox[{RowBox[{\"-\", \"2\"}], \" \", \n",
       "\n",
       " \n",
       ">        SqrtBox[RowBox[{RowBox[{SubscriptBox[OverscriptBox[\"r\", \"^\"], \"2\"], \" \", \n",
       "\n",
       " \n",
       ">             SuperscriptBox[\"u\", \"2\"]}], \"+\", \n",
       "\n",
       " \n",
       ">           RowBox[{\"2\", \" \", SqrtBox[SubscriptBox[OverscriptBox[\"r\", \"^\"], \"2\"]]}],\\\n",
       " \n",
       ">    \"-\", \n",
       "        SuperscriptBox[\"u\", \"2\"]}]]}], TraditionalForm]\n"
      ]
     },
     "execution_count": 1945,
     "metadata": {
      "text/html": [],
      "text/plain": []
     },
     "output_type": "execute_result"
    }
   ],
   "source": [
    "eq = Energy - u^2/2 //. Flatten[{\n",
    "  ToR2Replacement,\n",
    "  OmegaReplace2,\n",
    "  D[Subscript[OverHat[r], 2][OverHat[t]], OverHat[t]]^2 -> x^2\n",
    "}];\n",
    "\n",
    "sol = Solve[eq == 0, x][[1]];\n",
    "\n",
    "x /. sol[[1]] // TraditionalForm"
   ]
  },
  {
   "cell_type": "markdown",
   "metadata": {},
   "source": [
    "А также $\\hat{r}_2^{(i)}$ для $i = 1\\dots5$"
   ]
  },
  {
   "cell_type": "code",
   "execution_count": 1949,
   "metadata": {
    "vscode": {
     "languageId": "wolfram"
    }
   },
   "outputs": [
    {
     "data": {
      "text/html": [
       "<div><img alt=\"Output\" src=\"data:image/png;base64,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\"></div>"
      ],
      "text/plain": [
       "FormBox[RowBox[{\"{\", RowBox[{RowBox[{RowBox[{\"-\", \"2\"}], \" \", \n",
       "\n",
       " \n",
       ">            SqrtBox[RowBox[{RowBox[{SubscriptBox[OverscriptBox[\"r\", \"^\"], \"2\"], \" \", \n",
       "\n",
       " \n",
       ">                 SuperscriptBox[\"u\", \"2\"]}], \"+\", \n",
       "\n",
       " \n",
       ">               RowBox[{\"2\", \" \", SqrtBox[SubscriptBox[OverscriptBox[\"r\", \"^\"], \"2\"]]}],\\\n",
       " \n",
       ">    \n",
       "            \"-\", SuperscriptBox[\"u\", \"2\"]}]]}], \",\", \n",
       "\n",
       " \n",
       ">          RowBox[{\"2\", \" \", RowBox[{\"(\", \n",
       "           RowBox[{FractionBox[\"1\", \n",
       "\n",
       " \n",
       ">                 SqrtBox[SubscriptBox[OverscriptBox[\"r\", \"^\"], \"2\"]]], \"+\", \n",
       "\n",
       " \n",
       ">                SuperscriptBox[\"u\", \"2\"]}], \")\"}]}], \",\", \n",
       "\n",
       " \n",
       ">          FractionBox[RowBox[{\"2\", \" \", \n",
       "\n",
       " \n",
       ">             SqrtBox[RowBox[{RowBox[{SubscriptBox[OverscriptBox[\"r\", \"^\"], \"2\"], \" \", \n",
       "\n",
       " \n",
       ">                  SuperscriptBox[\"u\", \"2\"]}], \"+\", \n",
       "\n",
       " \n",
       ">                RowBox[{\"2\", \" \", SqrtBox[SubscriptBox[OverscriptBox[\"r\", \"^\"], \n",
       "\n",
       " \n",
       ">                    \"2\"]]}], \"-\", SuperscriptBox[\"u\", \"2\"]}]]}], \n",
       "\n",
       " \n",
       ">           SubsuperscriptBox[OverscriptBox[\"r\", \"^\"], \"2\", RowBox[{\"3\", \"/\", \"2\"}]]], \n",
       "\n",
       " \n",
       ">          \",\", FractionBox[RowBox[{\"2\", \" \", \n",
       "\n",
       " \n",
       ">             RowBox[{\"(\", RowBox[{RowBox[{\"2\", \" \", \n",
       "\n",
       " \n",
       ">                   SubscriptBox[OverscriptBox[\"r\", \"^\"], \"2\"], \" \", \n",
       "\n",
       " \n",
       ">                   SuperscriptBox[\"u\", \"2\"]}], \"+\", \n",
       "\n",
       " \n",
       ">                 RowBox[{\"5\", \" \", SqrtBox[SubscriptBox[OverscriptBox[\"r\", \"^\"], \n",
       "\n",
       " \n",
       ">                     \"2\"]]}], \"-\", RowBox[{\"3\", \" \", SuperscriptBox[\"u\", \"2\"]}]}],\\\n",
       " \n",
       ">    \")\"}\\\n",
       "]}], SubsuperscriptBox[OverscriptBox[\"r\", \"^\"], \"2\", RowBox[{\"5\", \"/\",\\\n",
       " \n",
       ">    \"2\"}]]], \",\", \n",
       "       FractionBox[RowBox[{\"2\", \" \", \n",
       "\n",
       " \n",
       ">             SqrtBox[RowBox[{RowBox[{SubscriptBox[OverscriptBox[\"r\", \"^\"], \"2\"], \" \", \n",
       "\n",
       " \n",
       ">                  SuperscriptBox[\"u\", \"2\"]}], \"+\", \n",
       "\n",
       " \n",
       ">                RowBox[{\"2\", \" \", SqrtBox[SubscriptBox[OverscriptBox[\"r\", \"^\"], \n",
       "\n",
       " \n",
       ">                    \"2\"]]}], \"-\", SuperscriptBox[\"u\", \"2\"]}]], \" \", \n",
       "\n",
       " \n",
       ">             RowBox[{\"(\", RowBox[{RowBox[{\"6\", \" \", \n",
       "\n",
       " \n",
       ">                   SubscriptBox[OverscriptBox[\"r\", \"^\"], \"2\"], \" \", \n",
       "\n",
       " \n",
       ">                   SuperscriptBox[\"u\", \"2\"]}], \"+\", \n",
       "\n",
       " \n",
       ">                 RowBox[{\"20\", \" \", SqrtBox[SubscriptBox[OverscriptBox[\"r\", \"^\"], \n",
       "\n",
       " \n",
       ">                     \"2\"]]}], \"-\", RowBox[{\"15\", \" \", SuperscriptBox[\"u\", \"2\"]}]}],\\\n",
       " \n",
       ">    \")\"}\\\n",
       "]}], SubsuperscriptBox[OverscriptBox[\"r\", \"^\"], \"2\", RowBox[{\"7\", \"/\",\\\n",
       " \n",
       ">    \"2\"}]]]}], \"}\"}]\\\n",
       ", TraditionalForm]\n"
      ]
     },
     "execution_count": 1949,
     "metadata": {
      "text/html": [],
      "text/plain": []
     },
     "output_type": "execute_result"
    }
   ],
   "source": [
    "replacementRule = D[Subscript[OverHat[r], 2][OverHat[t]], OverHat[t]] :> x /. sol[[1]];\n",
    "\n",
    "(* Рекурсивно вычисляем производные *)\n",
    "dr2 = NestList[\n",
    "   Simplify[D[#, OverHat[t]] /. replacementRule] &,\n",
    "   x /. sol[[1]],\n",
    "   4\n",
    "];\n",
    "\n",
    "dr2 // TraditionalForm"
   ]
  },
  {
   "cell_type": "markdown",
   "metadata": {},
   "source": [
    "Заменяя вхождение **всех** производных в выражении для $dE/dr$, получим"
   ]
  },
  {
   "cell_type": "code",
   "execution_count": 1951,
   "metadata": {
    "vscode": {
     "languageId": "wolfram"
    }
   },
   "outputs": [
    {
     "data": {
      "text/html": [
       "<div><img alt=\"Output\" src=\"data:image/png;base64,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\"></div>"
      ],
      "text/plain": [
       "FormBox[FractionBox[RowBox[{\"2\", \" \", \n",
       "      RowBox[{\"(\", RowBox[{RowBox[{\"6\", \" \", \n",
       "\n",
       " \n",
       ">               SubsuperscriptBox[OverscriptBox[\"r\", \"^\"], \"2\", \"2\"], \" \", \n",
       "\n",
       " \n",
       ">               SuperscriptBox[\"u\", \"4\"]}], \"+\", \n",
       "\n",
       " \n",
       ">             RowBox[{SubscriptBox[OverscriptBox[\"r\", \"^\"], \"2\"], \" \", \n",
       "\n",
       " \n",
       ">               RowBox[{\"(\", RowBox[{RowBox[{\"51\", \" \", SuperscriptBox[\"u\", \"4\"]}], \n",
       "\n",
       " \n",
       ">                   \"+\", \"40\"}], \")\"}]}], \"+\", \n",
       "\n",
       " \n",
       ">             RowBox[{\"32\", \" \", SubsuperscriptBox[OverscriptBox[\"r\", \"^\"], \"2\", \n",
       "\n",
       " \n",
       ">                RowBox[{\"3\", \"/\", \"2\"}]], \" \", SuperscriptBox[\"u\", \"2\"]}], \"+\", \n",
       "\n",
       " \n",
       ">             RowBox[{\"100\", \" \", SqrtBox[SubscriptBox[OverscriptBox[\"r\", \"^\"], \"2\"]], \n",
       "\n",
       " \n",
       ">               \" \", SuperscriptBox[\"u\", \"2\"]}], \"-\", \n",
       "\n",
       " \n",
       ">             RowBox[{\"75\", \" \", SuperscriptBox[\"u\", \"4\"]}]}], \")\"}]}], \n",
       "\n",
       " \n",
       ">       RowBox[{\"3\", \" \", SubsuperscriptBox[OverscriptBox[\"r\", \"^\"], \"2\", \n",
       "\n",
       " \n",
       ">          RowBox[{\"7\", \"/\", \"2\"}]], \" \", \n",
       "\n",
       " \n",
       ">         SqrtBox[RowBox[{RowBox[{SubscriptBox[OverscriptBox[\"r\", \"^\"], \"2\"], \" \", \n",
       "\n",
       " \n",
       ">              SuperscriptBox[\"u\", \"2\"]}], \"+\", \n",
       "\n",
       " \n",
       ">            RowBox[{\"2\", \" \", SqrtBox[SubscriptBox[OverscriptBox[\"r\", \"^\"], \"2\"]]}],\\\n",
       " \n",
       ">    \"-\", \n",
       "         SuperscriptBox[\"u\", \"2\"]}]]}]], TraditionalForm]\n"
      ]
     },
     "execution_count": 1951,
     "metadata": {
      "text/html": [],
      "text/plain": []
     },
     "output_type": "execute_result"
    }
   ],
   "source": [
    "dEdrFinal = Fold[ (* Последовательно применяем замены *)\n",
    "  Simplify[#1 /.\n",
    "    D[Subscript[OverHat[r], 2][OverHat[t]], {OverHat[t], #2}] -> dr2[[#2]]] &,\n",
    "  dEdr,\n",
    "  Range[5]\n",
    "];\n",
    "\n",
    "Simplify[dEdrFinal] // TraditionalForm"
   ]
  },
  {
   "cell_type": "markdown",
   "metadata": {},
   "source": [
    "$$\n",
    "  \\Delta \\hat{E}(u) = \\epsilon_G \\frac{4}{3}\\int\\limits_{\\hat{r}_2^\\text{min}}^\\infty \\frac{32 \\hat{r}_2^{3/2} u^2+6 \\hat{r}_2^2 u^4+\\hat{r}_2 \\left(51 u^4+40\\right)+100 \\sqrt{\\hat{r}_2} u^2-75 u^4}{\\hat{r}_2^{7/2} \\sqrt{\\hat{r}_2 u^2+2 \\sqrt{\\hat{r}_2}-u^2}} \\, d\\hat{r}_2,\n",
    "$$\n",
    "где при $\\hat{r}_2 \\ge \\hat{r}_2^{\\text{min}}$ выражение $\\hat{r}_2u^2 + 2\\sqrt{\\hat{r}_2} - u^2 \\ge 0$."
   ]
  },
  {
   "cell_type": "markdown",
   "metadata": {},
   "source": [
    "Полученный выше интеграл **компактнее**, чем тот, что рассмотрен в файле binary_catch2.pdf\n",
    "$$\n",
    "  \\Delta \\hat{E}(u) = \\epsilon_G \\frac{4}{3}\\int\\limits_{\\hat{r}_2^\\text{min}}^\\infty \\frac{24\\hat{r}_2^2u^6 + 48u^6\\hat{r}_2 + 120\\hat{r}_2^{3/2}u^4 - 96u^6 + 96u^4\\sqrt{\\hat{r}_2} - u^2\\hat{r}_2^2 + 133u^2\\hat{r}_2 - 2\\hat{r}_2^{3/2}}{\\hat{r}_2^4\\sqrt{u^2\\hat{r}_2 + 2\\sqrt{\\hat{r}_2} - u^2}} \\, d\\hat{r}_2,\n",
    "$$"
   ]
  },
  {
   "cell_type": "markdown",
   "metadata": {},
   "source": [
    "<span style=\"color:brown\">**NB:**</span> Однако, будучи аналитически взятым будет полностью <span style=\"color:green\">**совпадать!**</span>\n",
    "\n",
    "Смотри подробности в файле binary_catch_integral.ipynb\n",
    " \n",
    "Там компактный интеграл назван $I_5$, а второй $I_4$.\n",
    "\n",
    "Выпишем ответ:"
   ]
  },
  {
   "cell_type": "code",
   "execution_count": 1953,
   "metadata": {
    "vscode": {
     "languageId": "wolfram"
    }
   },
   "outputs": [
    {
     "data": {
      "text/html": [
       "<div><img alt=\"Output\" src=\"data:image/png;base64,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\"></div>"
      ],
      "text/plain": [
       "FormBox[RowBox[{\"-\", FractionBox[RowBox[{SubscriptBox[\"ϵ\", \"G\"], \" \", \n",
       "\n",
       " \n",
       ">           RowBox[{\"(\", RowBox[{RowBox[{RowBox[{\"(\", \n",
       "\n",
       " \n",
       ">                   RowBox[{RowBox[{\"673\", \" \", SuperscriptBox[\"u\", \"4\"]}], \"+\", \n",
       "\n",
       " \n",
       ">                     \"1275\"}], \")\"}], \" \", SuperscriptBox[\"u\", \"2\"]}], \"+\", \n",
       "\n",
       " \n",
       ">               RowBox[{\"3\", \" \", RowBox[{\"(\", \n",
       "\n",
       " \n",
       ">                   RowBox[{RowBox[{\"37\", \" \", SuperscriptBox[\"u\", \"8\"]}], \"+\", \n",
       "\n",
       " \n",
       ">                     RowBox[{\"366\", \" \", SuperscriptBox[\"u\", \"4\"]}], \"+\", \"425\"}],\\\n",
       " \n",
       ">    \")\"}\\\n",
       "], \" \", RowBox[{\"(\", RowBox[{RowBox[{SuperscriptBox[\"tan\", RowBox[{\"-\",\\\n",
       " \n",
       ">    \"1\"}]], \n",
       "                    \"(\", FractionBox[\"1\", SuperscriptBox[\"u\", \"2\"]],\\\n",
       " \n",
       ">    \")\"}], \"+\", \n",
       "                  FractionBox[\"π\", \"2\"]}], \")\"}]}]}], \")\"}]}], \n",
       "\n",
       " \n",
       ">         RowBox[{\"9\", \" \", SuperscriptBox[\"u\", \"7\"]}]]}], TraditionalForm]\n"
      ]
     },
     "execution_count": 1953,
     "metadata": {
      "text/html": [],
      "text/plain": []
     },
     "output_type": "execute_result"
    }
   ],
   "source": [
    "DeltaE = -Subscript[\\[Epsilon], G]/9*(u^2*(1275 + 673*u^4) + 3*(425 + 366*u^4 + 37*u^8)*(Pi/2 + ArcTan[u^(-2)]))/u^7;\n",
    "DeltaE // TraditionalForm"
   ]
  },
  {
   "cell_type": "code",
   "execution_count": 1954,
   "metadata": {
    "vscode": {
     "languageId": "wolfram"
    }
   },
   "outputs": [
    {
     "data": {
      "text/html": [
       "<div>&#36;&#36;&#45;&#92;&#102;&#114;&#97;&#99;&#123;&#92;&#101;&#112;&#115;&#105;&#108;&#111;&#110;&#32;&#95;&#71;&#32;&#92;&#108;&#101;&#102;&#116;&#40;&#92;&#108;&#101;&#102;&#116;&#40;&#54;&#55;&#51;&#32;&#117;&#94;&#52;&#43;&#49;&#50;&#55;&#53;&#92;&#114;&#105;&#103;&#104;&#116;&#41;&#32;&#117;&#94;&#50;&#43;&#51;&#32;&#92;&#108;&#101;&#102;&#116;&#40;&#51;&#55;&#32;&#117;&#94;&#56;&#43;&#51;&#54;&#54;&#32;&#117;&#94;&#52;&#43;&#52;&#50;&#53;&#92;&#114;&#105;&#103;&#104;&#116;&#41;&#32;&#92;&#108;&#101;&#102;&#116;&#40;&#92;&#116;&#97;&#110;&#32;&#94;&#123;&#45;&#49;&#125;&#92;&#108;&#101;&#102;&#116;&#40;&#92;&#102;&#114;&#97;&#99;&#123;&#49;&#125;&#123;&#117;&#94;&#50;&#125;&#92;&#114;&#105;&#103;&#104;&#116;&#41;&#43;&#92;&#102;&#114;&#97;&#99;&#123;&#92;&#112;&#105;&#32;&#125;&#123;&#50;&#125;&#92;&#114;&#105;&#103;&#104;&#116;&#41;&#92;&#114;&#105;&#103;&#104;&#116;&#41;&#125;&#123;&#57;&#32;&#117;&#94;&#55;&#125;&#36;&#36;</div>"
      ],
      "text/plain": [
       "-\\frac{\\epsilon _G \\left(\\left(673 u^4+1275\\right) u^2+3 \\left(37 u^8+366 u^4+425\\right)\\\n",
       " \n",
       ">   \\left(\\tan ^{-1}\\left(\\frac{1}{u^2}\\right)+\\frac{\\pi }{2}\\right)\\right)}{9 u^7}"
      ]
     },
     "execution_count": 1954,
     "metadata": {
      "text/html": [],
      "text/plain": []
     },
     "output_type": "execute_result"
    }
   ],
   "source": [
    "TeXForm[DeltaE]"
   ]
  },
  {
   "cell_type": "markdown",
   "metadata": {},
   "source": [
    "<span style=\"color:red\">**TODO_1:**</span> Обсудить почему при малых $u$ значения $\\Delta \\hat{E}(u)$ безгранично растут"
   ]
  },
  {
   "cell_type": "code",
   "execution_count": 1955,
   "metadata": {
    "vscode": {
     "languageId": "wolfram"
    }
   },
   "outputs": [
    {
     "data": {
      "text/html": [
       "<div><img alt=\"Output\" src=\"data:image/png;base64,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\"></div>"
      ],
      "text/plain": [
       "FormBox[InterpretationBox[RowBox[{RowBox[{\"-\", \n",
       "\n",
       " \n",
       ">           FractionBox[RowBox[{\"425\", \" \", \n",
       "\n",
       " \n",
       ">              RowBox[{\"(\", RowBox[{\"π\", \" \", SubscriptBox[\"ϵ\", \"G\"]}], \")\"}]}], \n",
       "\n",
       " \n",
       ">            RowBox[{\"3\", \" \", SuperscriptBox[\"u\", \"7\"]}]]}], \"+\", \n",
       "\n",
       " \n",
       ">         InterpretationBox[RowBox[{\"O\", \"(\", \n",
       "\n",
       " \n",
       ">            FractionBox[\"1\", SuperscriptBox[\"u\", \"3\"]], \")\"}], \n",
       "\n",
       " \n",
       ">          SeriesData[u, 0, List[], -7, -3, 1], Rule[Editable, False]]}], \n",
       "\n",
       " \n",
       ">       SeriesData[u, 0, List[Times[Rational[-425, 3], Pi, Subscript[\\[Epsilon], G]]], \n",
       "\n",
       " \n",
       ">        -7, -3, 1], Rule[Editable, False]], TraditionalForm]\n"
      ]
     },
     "execution_count": 1955,
     "metadata": {
      "text/html": [],
      "text/plain": []
     },
     "output_type": "execute_result"
    }
   ],
   "source": [
    "Simplify[Series[DeltaE, {u, 0, -4}]] // TraditionalForm"
   ]
  },
  {
   "cell_type": "markdown",
   "metadata": {},
   "source": [
    "## Условия захвата\n",
    "\n",
    "На бесконечнос энергия объекта была $u^2/2$\n",
    "\n",
    "Если $2|\\Delta \\hat{E}| > u^2$, то гиперболическая орбита (или параболическая, если $u = 0$) превратится в эллиптическую за один полный оборот,\n",
    "\n",
    "далее тело уже не сможет \"уходить\" на бесконечность.\n",
    "\n",
    "Из-за ограничения локализации точнее условие захвата поставить **нельзя**"
   ]
  },
  {
   "cell_type": "code",
   "execution_count": 1958,
   "metadata": {
    "vscode": {
     "languageId": "wolfram"
    }
   },
   "outputs": [
    {
     "data": {
      "text/html": [
       "<div><img alt=\"Output\" src=\"data:image/png;base64,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\"></div>"
      ],
      "text/plain": [
       "FormBox[RowBox[{SuperscriptBox[\"u\", \"9\"], \"<\", \n",
       "\n",
       " \n",
       ">        RowBox[{FractionBox[\"2\", \"9\"], \" \", SubscriptBox[\"ϵ\", \"G\"], \" \", \n",
       "\n",
       " \n",
       ">          RowBox[{\"(\", RowBox[{RowBox[{RowBox[{\"(\", \n",
       "\n",
       " \n",
       ">                  RowBox[{RowBox[{\"673\", \" \", SuperscriptBox[\"u\", \"4\"]}], \"+\", \n",
       "\n",
       " \n",
       ">                    \"1275\"}], \")\"}], \" \", SuperscriptBox[\"u\", \"2\"]}], \"+\", \n",
       "\n",
       " \n",
       ">              RowBox[{FractionBox[\"3\", \"2\"], \" \", \n",
       "\n",
       " \n",
       ">                RowBox[{\"(\", RowBox[{RowBox[{\"37\", \" \", SuperscriptBox[\"u\", \"8\"]}], \n",
       "\n",
       " \n",
       ">                    \"+\", RowBox[{\"366\", \" \", SuperscriptBox[\"u\", \"4\"]}], \"+\", \"425\"}], \n",
       "\n",
       " \n",
       ">                  \")\"}], \" \", RowBox[{\"(\", \n",
       "               RowBox[{RowBox[{\"2\", \" \", \n",
       "\n",
       " \n",
       ">                      RowBox[{SuperscriptBox[\"tan\", RowBox[{\"-\", \"1\"}]], \"(\", \n",
       "\n",
       " \n",
       ">                        FractionBox[\"1\", SuperscriptBox[\"u\", \"2\"]], \")\"}]}], \"+\",\\\n",
       " \n",
       ">    \"π\"}], \n",
       "               \")\"}]}]}], \")\"}]}]}], TraditionalForm]\n"
      ]
     },
     "execution_count": 1958,
     "metadata": {
      "text/html": [],
      "text/plain": []
     },
     "output_type": "execute_result"
    }
   ],
   "source": [
    "DeltaE2 = Simplify[DeltaE + u^2/2];\n",
    "uMax2 = Simplify[2 u^7 DeltaE2];\n",
    "Simplify[uMax2 < 0] // TraditionalForm"
   ]
  },
  {
   "cell_type": "markdown",
   "metadata": {},
   "source": [
    "<span style=\"color:brown\">**NB:**</span> Условие захвата, <span style=\"color:green\">**совпадает**</span> с условием из файла binary_catch.pdf"
   ]
  },
  {
   "cell_type": "markdown",
   "metadata": {},
   "source": [
    "<span style=\"color:red\">**TODO_2:**</span> Сравнить условия захвата на параболической траектории $u = 0$ с другими авторами"
   ]
  },
  {
   "cell_type": "code",
   "execution_count": 1959,
   "metadata": {
    "vscode": {
     "languageId": "wolfram"
    }
   },
   "outputs": [
    {
     "data": {
      "text/html": [
       "<div><img alt=\"Output\" src=\"data:image/png;base64,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\"></div>"
      ],
      "text/plain": [
       "FormBox[InterpretationBox[RowBox[{FractionBox[RowBox[{\"850\", \" \", \"π\", \" \", \n",
       "\n",
       " \n",
       ">            SubscriptBox[\"ϵ\", \"G\"]}], \"3\"], \"+\", \n",
       "\n",
       " \n",
       ">         InterpretationBox[RowBox[{\"O\", \"(\", SuperscriptBox[\"u\", \"1\"], \")\"}], \n",
       "\n",
       " \n",
       ">          SeriesData[u, 0, List[], 0, 1, 1], Rule[Editable, False]]}], \n",
       "\n",
       " \n",
       ">       SeriesData[u, 0, List[Times[Rational[850, 3], Pi, Subscript[\\[Epsilon], G]]], 0,\\\n",
       " \n",
       ">    \n",
       "     1, 1], Rule[Editable, False]], TraditionalForm]\n"
      ]
     },
     "execution_count": 1959,
     "metadata": {
      "text/html": [],
      "text/plain": []
     },
     "output_type": "execute_result"
    }
   ],
   "source": [
    "Simplify[Series[(u^9 - uMax2), {u, 0, 0}]] // TraditionalForm"
   ]
  },
  {
   "cell_type": "markdown",
   "metadata": {},
   "source": [
    "# Потеря момента за один период обращения\n",
    "\n",
    "$$\n",
    "\\Delta \\hat{J} = 2 \\epsilon_G \\int\\limits_{\\hat{t}_{\\text{min}}}^{\\infty}I_J(\\hat{t}) d \\hat{t}\n",
    "= - 2 \\epsilon_G \\int\\limits_{\\hat{r}_2^{\\text{min}}}^{\\infty}\\frac{I_J(\\hat{r}_2)}{\\hat{r}_2^{(1)}}d \\hat{r}_2,\n",
    "$$\n",
    "\n",
    "где мы заменим $\\hat{\\omega}$ на $\\frac{u}{\\hat{r}_2}$"
   ]
  },
  {
   "cell_type": "code",
   "execution_count": 1962,
   "metadata": {
    "vscode": {
     "languageId": "wolfram"
    }
   },
   "outputs": [
    {
     "data": {
      "text/html": [
       "<div><img alt=\"Output\" src=\"data:image/png;base64,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\"></div>"
      ],
      "text/plain": [
       "FormBox[RowBox[{FractionBox[RowBox[{\"16\", \" \", SuperscriptBox[\"u\", \"5\"]}], \n",
       "\n",
       " \n",
       ">         RowBox[{SubsuperscriptBox[OverscriptBox[\"r\", \"^\"], \"2\", \"3\"], \" \", \n",
       "\n",
       " \n",
       ">           SuperscriptBox[SubscriptBox[OverscriptBox[\"r\", \"^\"], \"2\"], \"′\"]}]], \"-\", \n",
       "\n",
       " \n",
       ">        FractionBox[RowBox[{\"20\", \" \", SuperscriptBox[\"u\", \"3\"], \" \", \n",
       "\n",
       " \n",
       ">           SuperscriptBox[SubscriptBox[OverscriptBox[\"r\", \"^\"], \"2\"], \"′\"]}], \n",
       "\n",
       " \n",
       ">         SubsuperscriptBox[OverscriptBox[\"r\", \"^\"], \"2\", \"3\"]], \"-\", \n",
       "\n",
       " \n",
       ">        FractionBox[RowBox[{\"4\", \" \", \"u\", \" \", \n",
       "        SuperscriptBox[RowBox[{\"(\", \n",
       "\n",
       " \n",
       ">              SuperscriptBox[SubscriptBox[OverscriptBox[\"r\", \"^\"], \"2\"], \"′′\"], \")\"}], \n",
       "\n",
       " \n",
       ">            \"2\"]}], RowBox[{SubscriptBox[OverscriptBox[\"r\", \"^\"], \"2\"], \" \", \n",
       "\n",
       " \n",
       ">           SuperscriptBox[SubscriptBox[OverscriptBox[\"r\", \"^\"], \"2\"], \"′\"]}]], \"+\", \n",
       "\n",
       " \n",
       ">        FractionBox[RowBox[{\"14\", \" \", \"u\", \" \", \n",
       "\n",
       " \n",
       ">           SuperscriptBox[SubscriptBox[OverscriptBox[\"r\", \"^\"], \"2\"], \"′\"], \" \", \n",
       "\n",
       " \n",
       ">           SuperscriptBox[SubscriptBox[OverscriptBox[\"r\", \"^\"], \"2\"], \"′′\"]}], \n",
       "\n",
       " \n",
       ">         SubsuperscriptBox[OverscriptBox[\"r\", \"^\"], \"2\", \"2\"]], \"+\", \n",
       "\n",
       " \n",
       ">        FractionBox[RowBox[{\"4\", \" \", \"u\", \" \", \n",
       "\n",
       " \n",
       ">           SuperscriptBox[SubscriptBox[OverscriptBox[\"r\", \"^\"], \"2\"], \"′′′′\"]}], \n",
       "\n",
       " \n",
       ">         SuperscriptBox[SubscriptBox[OverscriptBox[\"r\", \"^\"], \"2\"], \"′\"]], \"-\", \n",
       "\n",
       " \n",
       ">        FractionBox[RowBox[{\"6\", \" \", \"u\", \" \", \n",
       "        SuperscriptBox[RowBox[{\"(\", \n",
       "\n",
       " \n",
       ">              SuperscriptBox[SubscriptBox[OverscriptBox[\"r\", \"^\"], \"2\"], \"′\"], \")\"}], \n",
       "\n",
       " \n",
       ">            \"3\"]}], SubsuperscriptBox[OverscriptBox[\"r\", \"^\"], \"2\", \"3\"]], \"-\", \n",
       "\n",
       " \n",
       ">        FractionBox[RowBox[{\"7\", \" \", \"u\", \" \", \n",
       "\n",
       " \n",
       ">           SuperscriptBox[SubscriptBox[OverscriptBox[\"r\", \"^\"], \"2\"], \"′′′\"]}], \n",
       "\n",
       " \n",
       ">         SubscriptBox[OverscriptBox[\"r\", \"^\"], \"2\"]]}], TraditionalForm]\n"
      ]
     },
     "execution_count": 1962,
     "metadata": {
      "text/html": [],
      "text/plain": []
     },
     "output_type": "execute_result"
    }
   ],
   "source": [
    "(* Минус учтём сразу *)\n",
    "dJdr = Simplify[-dJdt/D[Subscript[OverHat[r], 2][OverHat[t]], OverHat[t]] //. OmegaReplace2];\n",
    "Expand[Simplify[dJdr]] // TraditionalForm"
   ]
  },
  {
   "cell_type": "markdown",
   "metadata": {},
   "source": [
    "<span style=\"color:brown\">**NB:**</span> Выражение для $dJ/dr$ <span style=\"color:green\">**сопадает**</span> с выраженем для интегранта из binary_catch3.pdf, если учесть деление на $\\hat{r}_2^{(1)}$"
   ]
  },
  {
   "cell_type": "markdown",
   "metadata": {
    "vscode": {
     "languageId": "wolfram"
    }
   },
   "source": [
    "Заменяя вхождение **всех** производных в выражении для $dJ/dr$, получим"
   ]
  },
  {
   "cell_type": "code",
   "execution_count": 1964,
   "metadata": {
    "vscode": {
     "languageId": "wolfram"
    }
   },
   "outputs": [
    {
     "data": {
      "text/html": [
       "<div><img alt=\"Output\" src=\"data:image/png;base64,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\"></div>"
      ],
      "text/plain": [
       "FormBox[FractionBox[RowBox[{\"2\", \" \", \"u\", \" \", \n",
       "\n",
       " \n",
       ">         RowBox[{\"(\", RowBox[{RowBox[{\"9\", \" \", \n",
       "\n",
       " \n",
       ">               SubscriptBox[OverscriptBox[\"r\", \"^\"], \"2\"], \" \", \n",
       "\n",
       " \n",
       ">               SuperscriptBox[\"u\", \"2\"]}], \"+\", \n",
       "\n",
       " \n",
       ">             RowBox[{\"20\", \" \", SqrtBox[SubscriptBox[OverscriptBox[\"r\", \"^\"], \"2\"]]}], \n",
       "\n",
       " \n",
       ">             \"-\", RowBox[{\"15\", \" \", SuperscriptBox[\"u\", \"2\"]}]}], \")\"}]}], \n",
       "\n",
       " \n",
       ">       RowBox[{SubsuperscriptBox[OverscriptBox[\"r\", \"^\"], \"2\", RowBox[{\"5\", \"/\",\\\n",
       " \n",
       ">    \"2\"}]], \n",
       "      \" \", SqrtBox[RowBox[{RowBox[{SubscriptBox[OverscriptBox[\"r\", \"^\"],\\\n",
       " \n",
       ">    \"2\"], \" \", \n",
       "           SuperscriptBox[\"u\", \"2\"]}], \"+\", \n",
       "\n",
       " \n",
       ">            RowBox[{\"2\", \" \", SqrtBox[SubscriptBox[OverscriptBox[\"r\", \"^\"], \"2\"]]}],\\\n",
       " \n",
       ">    \"-\", \n",
       "         SuperscriptBox[\"u\", \"2\"]}]]}]], TraditionalForm]\n"
      ]
     },
     "execution_count": 1964,
     "metadata": {
      "text/html": [],
      "text/plain": []
     },
     "output_type": "execute_result"
    }
   ],
   "source": [
    "dJdrFinal = Fold[ (* Последовательно применяем замены *)\n",
    "  Simplify[#1 /.\n",
    "    D[Subscript[OverHat[r], 2][OverHat[t]], {OverHat[t], #2}] -> dr2[[#2]]] &,\n",
    "  dJdr,\n",
    "  Range[5]\n",
    "];\n",
    "\n",
    "Simplify[dJdrFinal] // TraditionalForm"
   ]
  },
  {
   "cell_type": "markdown",
   "metadata": {},
   "source": [
    "$$\n",
    "  \\Delta \\hat{J}(u) = 4 \\epsilon_G \\int\\limits_{\\hat{r}_2^\\text{min}}^\\infty \\frac{u \\left(20\\sqrt{\\hat{r}_2} - 15u^2 + 9\\hat{r}_2 u^2\\right)}{\\hat{r}_2^{\\frac{5}{2}} \\sqrt{2\\sqrt{\\hat{r}_2} - u^2 + \\hat{r}_2 u^2}} \\, d\\hat{r}_2,\n",
    "$$\n",
    "где при $\\hat{r}_2 \\ge \\hat{r}_2^{\\text{min}}$ выражение $\\hat{r}_2u^2 + 2\\sqrt{\\hat{r}_2} - u^2 \\ge 0$.\n",
    "\n",
    "Полученный выше интеграл **компактнее**, чем тот, что рассмотрен в файле binary_catch3.pdf\n",
    "\n",
    "Смотри подробности в файле binary_catch_integral.ipynb\n",
    " \n",
    "Выпишем ответ:"
   ]
  },
  {
   "cell_type": "code",
   "execution_count": 1966,
   "metadata": {
    "vscode": {
     "languageId": "wolfram"
    }
   },
   "outputs": [
    {
     "data": {
      "text/html": [
       "<div><img alt=\"Output\" src=\"data:image/png;base64,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\"></div>"
      ],
      "text/plain": [
       "FormBox[RowBox[{\"4\", \" \", SubscriptBox[\"ϵ\", \"G\"], \" \", \n",
       "\n",
       " \n",
       ">        RowBox[{\"(\", RowBox[{RowBox[{\"-\", \n",
       "\n",
       " \n",
       ">              RowBox[{RowBox[{\"2\"}], \" \", SuperscriptBox[\"u\", \"2\"]}]}], \"-\", \n",
       "\n",
       " \n",
       ">            FractionBox[\"15\", SuperscriptBox[\"u\", \"2\"]], \"-\", \n",
       "\n",
       " \n",
       ">            FractionBox[RowBox[{RowBox[{\"(\", \n",
       "\n",
       " \n",
       ">                 RowBox[{RowBox[{\"7\", \" \", SuperscriptBox[\"u\", \"4\"]}], \"+\", \"15\"}], \n",
       "\n",
       " \n",
       ">                 \")\"}], \" \", RowBox[{\"(\", \n",
       "              RowBox[{RowBox[{\"2\", \" \", \n",
       "\n",
       " \n",
       ">                     RowBox[{SuperscriptBox[\"tan\", RowBox[{\"-\", \"1\"}]], \"(\", \n",
       "\n",
       " \n",
       ">                       FractionBox[\"1\", SuperscriptBox[\"u\", \"2\"]], \")\"}]}], \"+\", \"π\"}],\\\n",
       " \n",
       ">    \n",
       "              \")\"}]}], RowBox[{\"2\", \" \", SuperscriptBox[\"u\", \"4\"]}]]}], \")\"}]}], \n",
       "\n",
       " \n",
       ">      TraditionalForm]\n"
      ]
     },
     "execution_count": 1966,
     "metadata": {
      "text/html": [],
      "text/plain": []
     },
     "output_type": "execute_result"
    }
   ],
   "source": [
    "DeltaJ = 4*Subscript[\\[Epsilon], G]*(-15/u^2 - 2*u^2 - ((15 + 7*u^4)*(Pi + 2*ArcTan[u^(-2)]))/(2*u^4));\n",
    "DeltaJ // TraditionalForm"
   ]
  },
  {
   "cell_type": "code",
   "execution_count": 1967,
   "metadata": {
    "vscode": {
     "languageId": "wolfram"
    }
   },
   "outputs": [
    {
     "data": {
      "text/html": [
       "<div>&#36;&#36;&#52;&#32;&#92;&#101;&#112;&#115;&#105;&#108;&#111;&#110;&#32;&#95;&#71;&#32;&#92;&#108;&#101;&#102;&#116;&#40;&#45;&#50;&#32;&#117;&#94;&#50;&#45;&#92;&#102;&#114;&#97;&#99;&#123;&#49;&#53;&#125;&#123;&#117;&#94;&#50;&#125;&#45;&#92;&#102;&#114;&#97;&#99;&#123;&#92;&#108;&#101;&#102;&#116;&#40;&#55;&#32;&#117;&#94;&#52;&#43;&#49;&#53;&#92;&#114;&#105;&#103;&#104;&#116;&#41;&#32;&#92;&#108;&#101;&#102;&#116;&#40;&#50;&#32;&#92;&#116;&#97;&#110;&#32;&#94;&#123;&#45;&#49;&#125;&#92;&#108;&#101;&#102;&#116;&#40;&#92;&#102;&#114;&#97;&#99;&#123;&#49;&#125;&#123;&#117;&#94;&#50;&#125;&#92;&#114;&#105;&#103;&#104;&#116;&#41;&#43;&#92;&#112;&#105;&#32;&#92;&#114;&#105;&#103;&#104;&#116;&#41;&#125;&#123;&#50;&#32;&#117;&#94;&#52;&#125;&#92;&#114;&#105;&#103;&#104;&#116;&#41;&#36;&#36;</div>"
      ],
      "text/plain": [
       "4 \\epsilon _G \\left(-2 u^2-\\frac{15}{u^2}-\\frac{\\left(7 u^4+15\\right) \\left(2 \\tan\\\n",
       " \n",
       ">   ^{-1}\\left(\\frac{1}{u^2}\\right)+\\pi \\right)}{2 u^4}\\right)"
      ]
     },
     "execution_count": 1967,
     "metadata": {
      "text/html": [],
      "text/plain": []
     },
     "output_type": "execute_result"
    }
   ],
   "source": [
    "TeXForm[DeltaJ]"
   ]
  },
  {
   "cell_type": "markdown",
   "metadata": {},
   "source": [
    "В пределе малых $u$ для $\\Delta \\hat{J}(u)$ получаем\n",
    "\n",
    "<span style=\"color:red\">**TODO_3:**</span> Обсудить почему при малых $u$ значения $\\Delta \\hat{J}(u)$ безгранично растут"
   ]
  },
  {
   "cell_type": "code",
   "execution_count": 1969,
   "metadata": {
    "vscode": {
     "languageId": "wolfram"
    }
   },
   "outputs": [
    {
     "data": {
      "text/html": [
       "<div><img alt=\"Output\" src=\"data:image/png;base64,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\"></div>"
      ],
      "text/plain": [
       "FormBox[RowBox[{\"-\", FractionBox[RowBox[{\"60\", \" \", \"π\", \" \", \n",
       "\n",
       " \n",
       ">           SubscriptBox[\"ϵ\", \"G\"]}], SuperscriptBox[\"u\", \"4\"]]}], TraditionalForm]\n"
      ]
     },
     "execution_count": 1969,
     "metadata": {
      "text/html": [],
      "text/plain": []
     },
     "output_type": "execute_result"
    }
   ],
   "source": [
    "J1Smallu = Normal[Simplify[Series[DeltaJ, {u, 0, -1}]]];\n",
    "J1Smallu // TraditionalForm"
   ]
  },
  {
   "cell_type": "markdown",
   "metadata": {},
   "source": [
    "## Время слияния\n",
    "\n",
    "$a = b/\\sqrt{1-e^2}$,\n",
    "\n",
    "$J = \\mu\\sqrt{GMa(1-e^2)} = \\mu\\sqrt{GMb}\\sqrt{\\frac{b}{a}}$\n",
    "\n",
    "Момент системы после одного полного оборота вдоль ньютоновской гиперболической орбиты с учетом излучения гравволн\n",
    "$$\n",
    "  \\hat{J}_1 = \\hat{J}_0 + \\Delta \\hat{J} = u - 4 \\epsilon_G \\left(2 u^2+\\frac{15}{u^2}+\\frac{\\left(7 u^4+15\\right) \\left(2 \\tan ^{-1}\\left(\\frac{1}{u^2}\\right)+\\pi \\right)}{2 u^4}\\right) \\approx \\sqrt{\\frac{b}{a}} = \\hat{a}^{-1/2}\n",
    "$$\n",
    "\n",
    "Отсюда характерная длина большой полуоси эллиптической орбиты в случае выполнения условия захвата после одного полного оборота будет\n",
    "$$\n",
    "a \\approx b\\hat{J}_1^{-2}\n",
    "$$\n",
    "\n",
    "А время, за которое расстояние между объектов уменьшится до нуля будет\n",
    "$$\n",
    "\\tau \\approx \\frac{5}{8}\\frac{c^5}{G^3}\\frac{b^4}{\\mu M^2} \\frac{1}{\\hat{J}_1^8}\n",
    "$$"
   ]
  },
  {
   "cell_type": "markdown",
   "metadata": {},
   "source": [
    "А для $\\tau$ при малых $v$ будем иметь галлюциногенное"
   ]
  },
  {
   "cell_type": "code",
   "execution_count": 1973,
   "metadata": {
    "vscode": {
     "languageId": "wolfram"
    }
   },
   "outputs": [
    {
     "data": {
      "text/html": [
       "<div><img alt=\"Output\" src=\"data:image/png;base64,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\"></div>"
      ],
      "text/plain": [
       "          -16  40  45  32\n",
       "5.98399 10    b   c   v\n",
       "-------------------------\n",
       "        39  44  16\n",
       "       G   M   μ"
      ]
     },
     "execution_count": 1973,
     "metadata": {
      "text/html": [],
      "text/plain": []
     },
     "output_type": "execute_result"
    }
   ],
   "source": [
    "J1Smallu = - 60 Pi eG / u^4;\n",
    "eG = 2/5*\\[Mu]/M*(G M / (b c^2))^(5/2);\n",
    "u = v/Sqrt[(G*M)/b];\n",
    "N[5/8*c^5/G^3*b^4/(\\[Mu]*M^2*J1Smallu)^(8)]"
   ]
  }
 ],
 "metadata": {
  "kernelspec": {
   "display_name": "Wolfram Language 14.2",
   "language": "Wolfram Language",
   "name": "wolframlanguage14.2"
  },
  "language_info": {
   "codemirror_mode": "mathematica",
   "file_extension": ".m",
   "mimetype": "application/vnd.wolfram.m",
   "name": "Wolfram Language",
   "pygments_lexer": "mathematica",
   "version": "12.0"
  }
 },
 "nbformat": 4,
 "nbformat_minor": 2
}
