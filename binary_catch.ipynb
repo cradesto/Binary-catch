{
 "cells": [
  {
   "cell_type": "markdown",
   "metadata": {},
   "source": [
    "# Binary catch\n",
    "\n",
    "**При каких условиях два тела, налетающие друг на друга с бесконечности (в системе центра масс) станут связной системой из-за испускания гравволн?**"
   ]
  },
  {
   "cell_type": "code",
   "execution_count": 778,
   "metadata": {
    "vscode": {
     "languageId": "wolfram"
    }
   },
   "outputs": [
    {
     "name": "stdout",
     "output_type": "stream",
     "text": [
      "  (CleanSlate) Contexts purged: {Global`}\n",
      "  (CleanSlate) Approximate kernel memory recovered: 727 Kb\n"
     ]
    }
   ],
   "source": [
    "(* https://mathematica.stackexchange.com/questions/850/how-do-i-clear-all-user-defined-symbols/861#861 *)\n",
    "<< Utilities`CleanSlate`\n",
    "CleanSlate[];\n",
    "\n",
    "ClearAll[\"Global`*\"]\n",
    "(* ClearSystemCache[] *)\n",
    "(* https://mathematica.stackexchange.com/questions/111605/quit-vs-clearallglobal *)\n",
    "if[Length[Names[\"Global`*\"]] > 0, Remove[\"Global`*\"]];\n",
    "\n",
    "(* PacletInstall[\n",
    "    \"TensorSimplify\",\n",
    "\n",
    "    \"Site\" -> \"http://raw.githubusercontent.com/carlwoll/TensorSimplify/master\"\n",
    "]; *)\n",
    "<<TensorSimplify`"
   ]
  },
  {
   "cell_type": "markdown",
   "metadata": {},
   "source": [
    "## Einstein Summation"
   ]
  },
  {
   "cell_type": "code",
   "execution_count": 787,
   "metadata": {
    "vscode": {
     "languageId": "wolfram"
    }
   },
   "outputs": [],
   "source": [
    "ClearAll@EinsteinSummation\n",
    "\n",
    "EinsteinSummation[in_List, arrays_] := Module[\n",
    "  {res =\n",
    "    isum[in -> Cases[Tally @ Flatten @ in, {_, 1}][[All, 1]], arrays]},\n",
    "  res /; res =!= $Failed\n",
    "  ]\n",
    "\n",
    "EinsteinSummation[in_List -> out_, arrays_] := Module[\n",
    "  {res = isum[in -> out, arrays]},\n",
    "  res /; res =!= $Failed\n",
    "  ]\n",
    "\n",
    "isum[in_List -> out_, arrays_List] := Catch@Module[\n",
    "  {indices, contracted, uncontracted, contractions, transpose},\n",
    "  If[Length[in] != Length[arrays],\n",
    "    Message[EinsteinSummation::length, Length[in], Length[arrays]];\n",
    "    Throw[$Failed]];\n",
    "  MapThread[\n",
    "    If[IntegerQ@TensorRank[#1] && Length[#1] != TensorRank[#2],\n",
    "      Message[EinsteinSummation::shape, #1, #2];\n",
    "      Throw[$Failed]] &, {in, arrays}];\n",
    "  indices = Tally[Flatten[in, 1]];\n",
    "  If[DeleteCases[indices, {_, 1 | 2}] =!= {},\n",
    "    Message[EinsteinSummation::repeat,\n",
    "      Cases[indices, {x_, Except[1 | 2]} :> x]];\n",
    "    Throw[$Failed]];\n",
    "  uncontracted = Cases[indices, {x_, 1} :> x];\n",
    "  If[Sort[uncontracted] =!= Sort[out],\n",
    "    Message[EinsteinSummation::output, uncontracted, out];\n",
    "    Throw[$Failed]];\n",
    "  contracted = Cases[indices, {x_, 2} :> x];\n",
    "  contractions = Flatten[Position[Flatten[in, 1], #]] & /@ contracted;\n",
    "  transpose = FindPermutation[uncontracted, out];\n",
    "  Activate@\n",
    "    TensorTranspose[\n",
    "      TensorContract[Inactive[TensorProduct] @@ arrays, contractions],\n",
    "    transpose]]\n",
    "\n",
    "EinsteinSummation::length =\n",
    "  \"Number of index specifications (`1`) does not match the number of \\\n",
    "tensors (`2`)\";\n",
    "EinsteinSummation::shape =\n",
    "  \"Index specification `1` does not match the tensor rank of `2`\";\n",
    "EinsteinSummation::repeat =\n",
    "  \"Index specifications `1` are repeated more than twice\";\n",
    "EinsteinSummation::output =\n",
    "  \"The uncontracted indices don't match the desired output\";"
   ]
  },
  {
   "cell_type": "code",
   "execution_count": 795,
   "metadata": {
    "vscode": {
     "languageId": "wolfram"
    }
   },
   "outputs": [],
   "source": [
    "(* Правила для скрытия аргументов в TraditionalForm *)\n",
    "\n",
    "Unprotect[Subscript, OverHat, Derivative];\n",
    "\n",
    "MakeBoxes[OverHat[r_][OverHat[t]], TraditionalForm] :=\n",
    "  MakeBoxes[OverHat[r], TraditionalForm]\n",
    "\n",
    "MakeBoxes[\\[Phi][OverHat[t]], TraditionalForm] :=\n",
    "  MakeBoxes[\\[Phi], TraditionalForm]\n",
    "\n",
    "MakeBoxes[Subscript[OverHat[r], n_][OverHat[t]], TraditionalForm] :=\n",
    "  SubscriptBox[OverscriptBox[\"r\", \"^\"], ToString[n]];\n",
    "\n",
    "MakeBoxes[OverHat[\\[Omega]][OverHat[t]], TraditionalForm] :=\n",
    "  OverscriptBox[\"\\[Omega]\", \"^\"];\n",
    "\n",
    "MakeBoxes[Derivative[n_][f_][OverHat[t]], TraditionalForm] := Module[{primes},\n",
    "  primes = StringJoin[Table[\"\\[Prime]\", n]];\n",
    "  SuperscriptBox[ToBoxes[f], primes]\n",
    "];\n",
    "\n",
    "Protect[Subscript, OverHat, Derivative];"
   ]
  },
  {
   "cell_type": "markdown",
   "metadata": {},
   "source": [
    "$\\hat{r}_k$"
   ]
  },
  {
   "cell_type": "code",
   "execution_count": 804,
   "metadata": {
    "vscode": {
     "languageId": "wolfram"
    }
   },
   "outputs": [
    {
     "data": {
      "text/html": [
       "<div><img alt=\"Output\" src=\"data:image/png;base64,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\"></div>"
      ],
      "text/plain": [
       "FormBox[TagBox[RowBox[{\"(\", \"⁠\", \n",
       "\n",
       " \n",
       ">         TagBox[GridBox[{{RowBox[{OverscriptBox[\"r\", \"^\"], \" \", \n",
       "\n",
       " \n",
       ">               RowBox[{\"cos\", \"(\", \"ϕ\", \")\"}]}]}, \n",
       "\n",
       " \n",
       ">            {RowBox[{OverscriptBox[\"r\", \"^\"], \" \", RowBox[{\"sin\", \"(\", \"ϕ\", \")\"}]}]}}, \n",
       "\n",
       " \n",
       ">           Rule[RowSpacings, 1], Rule[ColumnAlignments, Center], \n",
       "\n",
       " \n",
       ">           Rule[ColumnAlignments, Left]], Column], \"⁠\", \")\"}], \n",
       "\n",
       " \n",
       ">       Function[BoxForm`e$, MatrixForm[BoxForm`e$]]], TraditionalForm]\n"
      ]
     },
     "execution_count": 804,
     "metadata": {
      "text/html": [],
      "text/plain": []
     },
     "output_type": "execute_result"
    }
   ],
   "source": [
    "rh = {OverHat[r][OverHat[t]]*Cos[\\[Phi][OverHat[t]]], OverHat[r][OverHat[t]]*Sin[\\[Phi][OverHat[t]]]};\n",
    "rh // MatrixForm // TraditionalForm"
   ]
  },
  {
   "cell_type": "code",
   "execution_count": 805,
   "metadata": {
    "vscode": {
     "languageId": "wolfram"
    }
   },
   "outputs": [],
   "source": [
    "$Assumptions = {\n",
    "  {OverHat[r][OverHat[t]], OverHat[t], rh, Subscript[OverHat[r],2][OverHat[t]]} \\[Element] PositiveReals\n",
    "};"
   ]
  },
  {
   "cell_type": "markdown",
   "metadata": {},
   "source": [
    "## Система движения в декартовых координатах\n",
    "$$\n",
    "\\frac{d^2r_k}{dt^2} = -\\frac{G(m_A+m_B)}{r^3}r_k - \\frac{2}{5}f_{ki}^{(5)}r_i\n",
    "$$\n",
    "\n",
    "Ч.Мизнер, К.Торн, Дж.Уилер Гравтация, Т.3 (36.8)"
   ]
  },
  {
   "cell_type": "markdown",
   "metadata": {},
   "source": [
    "Введём обозначения для масс\n",
    "\n",
    "$$\n",
    "M=m_A+m_B; \\quad\n",
    "\\mu = m_{AB} = \\frac{m_A m_B}{M}\n",
    "$$"
   ]
  },
  {
   "cell_type": "markdown",
   "metadata": {},
   "source": [
    "### Безразмерные единицы\n",
    "$$\n",
    "\\begin{align}\n",
    "r &= b\\hat{r} \\\\\n",
    "t &= t_0\\hat{t} \\\\\n",
    "f_{ij} &= b^2\\frac{G}{c^5}\\mu\\hat{f}_{ij} \\\\\n",
    "f_{ij}^{(5)} &= \\frac{b^2}{t_0^5}\\frac{G}{c^5}\\mu\\hat{f}_{ij}^{(5)}\n",
    "\\end{align}\n",
    "$$"
   ]
  },
  {
   "cell_type": "markdown",
   "metadata": {},
   "source": [
    "$\\hat{f}_{ki}$"
   ]
  },
  {
   "cell_type": "code",
   "execution_count": 807,
   "metadata": {
    "vscode": {
     "languageId": "wolfram"
    }
   },
   "outputs": [
    {
     "data": {
      "text/html": [
       "<div><img alt=\"Output\" src=\"data:image/png;base64,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\"></div>"
      ],
      "text/plain": [
       "FormBox[TagBox[RowBox[{\"(\", \"⁠\", \n",
       "\n",
       " \n",
       ">         GridBox[{{RowBox[{FractionBox[\"1\", \"6\"], \" \", \n",
       "\n",
       " \n",
       ">              SuperscriptBox[OverscriptBox[\"r\", \"^\"], \"2\"], \" \", \n",
       "\n",
       " \n",
       ">              RowBox[{\"(\", RowBox[{RowBox[{\"3\", \" \", \n",
       "\n",
       " \n",
       ">                    RowBox[{\"cos\", \"(\", RowBox[{\"2\", \" \", \"ϕ\"}], \")\"}]}], \"+\",\\\n",
       " \n",
       ">    \"1\"}]\\\n",
       ", \")\"}]}], RowBox[{SuperscriptBox[OverscriptBox[\"r\", \"^\"], \"2\"], \" \", \n",
       "\n",
       " \n",
       ">              RowBox[{\"sin\", \"(\", \"ϕ\", \")\"}], \" \", RowBox[{\"cos\", \"(\", \"ϕ\", \")\"}]}]}, \n",
       "\n",
       " \n",
       ">           {RowBox[{SuperscriptBox[OverscriptBox[\"r\", \"^\"], \"2\"], \" \", \n",
       "\n",
       " \n",
       ">              RowBox[{\"sin\", \"(\", \"ϕ\", \")\"}], \" \", RowBox[{\"cos\", \"(\", \"ϕ\", \")\"}]}], \n",
       "\n",
       " \n",
       ">            RowBox[{FractionBox[\"1\", \"3\"], \" \", \n",
       "\n",
       " \n",
       ">              SuperscriptBox[OverscriptBox[\"r\", \"^\"], \"2\"], \" \", \n",
       "\n",
       " \n",
       ">              RowBox[{\"(\", RowBox[{RowBox[{\"3\", \" \", \n",
       "\n",
       " \n",
       ">                    RowBox[{SuperscriptBox[\"sin\", \"2\"], \"(\", \"ϕ\", \")\"}]}], \"-\", \"1\"}], \n",
       "\n",
       " \n",
       ">                \")\"}]}]}}, Rule[RowSpacings, 1], Rule[ColumnSpacings, 1], \n",
       "\n",
       " \n",
       ">          Rule[RowAlignments, Baseline], Rule[ColumnAlignments, Center]], \"⁠\", \")\"}], \n",
       "\n",
       " \n",
       ">       Function[BoxForm`e$, MatrixForm[BoxForm`e$]]], TraditionalForm]\n"
      ]
     },
     "execution_count": 807,
     "metadata": {
      "text/html": [],
      "text/plain": []
     },
     "output_type": "execute_result"
    }
   ],
   "source": [
    "fh = Simplify[Array[rh[[#]]*rh[[#2]] - 1/3*KroneckerDelta[#, #2]*(OverHat[r][OverHat[t]])^2 &, {2, 2}], Trig -> True];\n",
    "fh // MatrixForm // TraditionalForm"
   ]
  },
  {
   "cell_type": "markdown",
   "metadata": {},
   "source": [
    "$\\hat{f}_{ki}^{(5)}$"
   ]
  },
  {
   "cell_type": "code",
   "execution_count": 811,
   "metadata": {
    "vscode": {
     "languageId": "wolfram"
    }
   },
   "outputs": [
    {
     "data": {
      "text/html": [
       "<div><img alt=\"Output\" src=\"data:image/png;base64,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\"></div>"
      ],
      "text/plain": [
       "FormBox[TagBox[RowBox[{\"(\", \"⁠\", \n",
       "\n",
       " \n",
       ">         GridBox[{{TemplateBox[List[SubscriptBox[OverscriptBox[\"f\", \"^\"], \n",
       "\n",
       " \n",
       ">               RowBox[List[\"x\", \",\", \"x\"]]], \"\\\"(5)\\\"\"], \"Superscript\", \n",
       "\n",
       " \n",
       ">             Rule[SyntaxForm, SuperscriptBox]], \n",
       "\n",
       " \n",
       ">            TemplateBox[List[SubscriptBox[OverscriptBox[\"f\", \"^\"], \n",
       "\n",
       " \n",
       ">               RowBox[List[\"x\", \",\", \"y\"]]], \"\\\"(5)\\\"\"], \"Superscript\", \n",
       "\n",
       " \n",
       ">             Rule[SyntaxForm, SuperscriptBox]]}, \n",
       "\n",
       " \n",
       ">           {TemplateBox[List[SubscriptBox[OverscriptBox[\"f\", \"^\"], \n",
       "\n",
       " \n",
       ">               RowBox[List[\"x\", \",\", \"y\"]]], \"\\\"(5)\\\"\"], \"Superscript\", \n",
       "\n",
       " \n",
       ">             Rule[SyntaxForm, SuperscriptBox]], \n",
       "\n",
       " \n",
       ">            TemplateBox[List[SubscriptBox[OverscriptBox[\"f\", \"^\"], \n",
       "\n",
       " \n",
       ">               RowBox[List[\"y\", \",\", \"y\"]]], \"\\\"(5)\\\"\"], \"Superscript\", \n",
       "\n",
       " \n",
       ">             Rule[SyntaxForm, SuperscriptBox]]}}, Rule[RowSpacings, 1], \n",
       "\n",
       " \n",
       ">          Rule[ColumnSpacings, 1], Rule[RowAlignments, Baseline], \n",
       "\n",
       " \n",
       ">          Rule[ColumnAlignments, Center]], \"⁠\", \")\"}], \n",
       "\n",
       " \n",
       ">       Function[BoxForm`e$, MatrixForm[BoxForm`e$]]], TraditionalForm]\n"
      ]
     },
     "execution_count": 811,
     "metadata": {
      "text/html": [],
      "text/plain": []
     },
     "output_type": "execute_result"
    }
   ],
   "source": [
    "(* fh5 = Array[Superscript[Subscript[OverHat[f], {x, y}[[#1]], {x, y}[[#2]]], \"(5)\"] &, {2, 2}] *)\n",
    "(* Symmetric version *)\n",
    "fh5 = Array[If[#1 <= #2,\n",
    "                    Superscript[Subscript[OverHat[f], {x, y}[[#1]], {x, y}[[#2]]], \"(5)\"],\n",
    "                    Superscript[Subscript[OverHat[f], {x, y}[[#2]], {x, y}[[#1]]], \"(5)\"]] &, {2, 2}];\n",
    "fh5 // MatrixForm // TraditionalForm"
   ]
  },
  {
   "cell_type": "markdown",
   "metadata": {},
   "source": [
    "$\\hat{f}_{ki}^{(5)}\\hat{r}_i$"
   ]
  },
  {
   "cell_type": "code",
   "execution_count": 813,
   "metadata": {
    "vscode": {
     "languageId": "wolfram"
    }
   },
   "outputs": [
    {
     "data": {
      "text/html": [
       "<div><img alt=\"Output\" src=\"data:image/png;base64,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\"></div>"
      ],
      "text/plain": [
       "FormBox[TagBox[RowBox[{\"(\", \"⁠\", \n",
       "\n",
       " \n",
       ">         TagBox[GridBox[{{RowBox[{RowBox[{OverscriptBox[\"r\", \"^\"], \" \", \n",
       "\n",
       " \n",
       ">                 RowBox[{\"sin\", \"(\", \"ϕ\", \")\"}], \" \", \n",
       "\n",
       " \n",
       ">                 TemplateBox[List[SubscriptBox[OverscriptBox[\"f\", \"^\"], \n",
       "\n",
       " \n",
       ">                    RowBox[List[\"x\", \",\", \"y\"]]], \"\\\"(5)\\\"\"], \"Superscript\", \n",
       "\n",
       " \n",
       ">                  Rule[SyntaxForm, SuperscriptBox]]}], \"+\", \n",
       "\n",
       " \n",
       ">               RowBox[{OverscriptBox[\"r\", \"^\"], \" \", RowBox[{\"cos\", \"(\", \"ϕ\", \")\"}], \n",
       "\n",
       " \n",
       ">                 \" \", TemplateBox[List[SubscriptBox[OverscriptBox[\"f\", \"^\"], \n",
       "\n",
       " \n",
       ">                    RowBox[List[\"x\", \",\", \"x\"]]], \"\\\"(5)\\\"\"], \"Superscript\", \n",
       "\n",
       " \n",
       ">                  Rule[SyntaxForm, SuperscriptBox]]}]}]}, \n",
       "\n",
       " \n",
       ">            {RowBox[{RowBox[{OverscriptBox[\"r\", \"^\"], \" \", \n",
       "\n",
       " \n",
       ">                 RowBox[{\"cos\", \"(\", \"ϕ\", \")\"}], \" \", \n",
       "\n",
       " \n",
       ">                 TemplateBox[List[SubscriptBox[OverscriptBox[\"f\", \"^\"], \n",
       "\n",
       " \n",
       ">                    RowBox[List[\"x\", \",\", \"y\"]]], \"\\\"(5)\\\"\"], \"Superscript\", \n",
       "\n",
       " \n",
       ">                  Rule[SyntaxForm, SuperscriptBox]]}], \"+\", \n",
       "\n",
       " \n",
       ">               RowBox[{OverscriptBox[\"r\", \"^\"], \" \", RowBox[{\"sin\", \"(\", \"ϕ\", \")\"}], \n",
       "\n",
       " \n",
       ">                 \" \", TemplateBox[List[SubscriptBox[OverscriptBox[\"f\", \"^\"], \n",
       "\n",
       " \n",
       ">                    RowBox[List[\"y\", \",\", \"y\"]]], \"\\\"(5)\\\"\"], \"Superscript\", \n",
       "\n",
       " \n",
       ">                  Rule[SyntaxForm, SuperscriptBox]]}]}]}}, Rule[RowSpacings, 1], \n",
       "\n",
       " \n",
       ">           Rule[ColumnAlignments, Center], Rule[ColumnAlignments, Left]], Column], \"⁠\",\\\n",
       " \n",
       ">    \n",
       "      \")\"}], Function[BoxForm`e$, MatrixForm[BoxForm`e$]]], TraditionalForm]\n"
      ]
     },
     "execution_count": 813,
     "metadata": {
      "text/html": [],
      "text/plain": []
     },
     "output_type": "execute_result"
    }
   ],
   "source": [
    "fh5rh = EinsteinSummation[{{k, i}, {i}}, {fh5, rh}];\n",
    "fh5rh // MatrixForm // TraditionalForm"
   ]
  },
  {
   "cell_type": "markdown",
   "metadata": {},
   "source": [
    "Система движения в безразмерной записи будет выглядеть как"
   ]
  },
  {
   "cell_type": "markdown",
   "metadata": {},
   "source": [
    "$$\n",
    "\\frac{d^2\\hat{r}_k}{d\\hat{t}^2} = -\\frac{t_0^2}{b^3}\\frac{GM}{\\hat{r}^3}\\hat{r}_k - \\frac{2}{5}\\frac{b^2}{t_0^3}\\frac{G}{c^5}\\mu\\hat{f}_{ki}^{(5)}\\hat{r}_i\n",
    "$$"
   ]
  },
  {
   "cell_type": "markdown",
   "metadata": {},
   "source": [
    "Пусть $t_0 = \\sqrt{\\frac{b^3}{GM}}$, а $b$ - прицельное расстояние, тогда система движения перепишется как\n",
    "\n",
    "$$\n",
    "\\frac{d^2\\hat{r}_k}{d\\hat{t}^2} + \\frac{\\hat{r}_k}{\\hat{r}^3} = - \\epsilon_G\\hat{f}_{ki}^{(5)}\\hat{r}_i\\quad,\n",
    "$$\n",
    "или\n",
    "$$\n",
    "\\hat{r}_k^{(2)} + \\frac{\\hat{r}_k}{\\hat{r}^3} = - \\epsilon_G\\hat{f}_{ki}^{(5)}\\hat{r}_i\\quad,\n",
    "$$\n",
    "\n",
    "где безразмерная постоянная $\\epsilon_G = \\frac{2}{5}\\frac{b^2}{t_0^3}\\frac{G}{c^5}\\mu = \\frac{2}{5}\\frac{\\mu}{M} \\left( \\frac{GM}{bc^2} \\right)^{\\frac{5}{2}}$.\n",
    "\n",
    "Заметим , что $f_{ij}^{(5)} = \\frac{5}{2}\\frac{\\epsilon_G}{t_0^2}\\hat{f}_{ij}^{(5)}$"
   ]
  },
  {
   "cell_type": "markdown",
   "metadata": {},
   "source": [
    "## Повернём систему с помощью матрицы вращения $R_{ij}(\\phi)$ на угол $\\phi$ по **часовой** стрелке\n",
    "Переход к полярным координатам от декартовых"
   ]
  },
  {
   "cell_type": "code",
   "execution_count": 814,
   "metadata": {
    "vscode": {
     "languageId": "wolfram"
    }
   },
   "outputs": [
    {
     "data": {
      "text/html": [
       "<div><img alt=\"Output\" src=\"data:image/png;base64,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\"></div>"
      ],
      "text/plain": [
       "FormBox[TagBox[RowBox[{\"(\", \"⁠\", \n",
       "\n",
       " \n",
       ">         GridBox[{{RowBox[{\"cos\", \"(\", \"ϕ\", \")\"}], RowBox[{\"sin\", \"(\", \"ϕ\", \")\"}]}, \n",
       "\n",
       " \n",
       ">           {RowBox[{\"-\", RowBox[{\"sin\", \"(\", \"ϕ\", \")\"}]}], \n",
       "\n",
       " \n",
       ">            RowBox[{\"cos\", \"(\", \"ϕ\", \")\"}]}}, Rule[RowSpacings, 1], \n",
       "\n",
       " \n",
       ">          Rule[ColumnSpacings, 1], Rule[RowAlignments, Baseline], \n",
       "\n",
       " \n",
       ">          Rule[ColumnAlignments, Center]], \"⁠\", \")\"}], \n",
       "\n",
       " \n",
       ">       Function[BoxForm`e$, MatrixForm[BoxForm`e$]]], TraditionalForm]\n"
      ]
     },
     "execution_count": 814,
     "metadata": {
      "text/html": [],
      "text/plain": []
     },
     "output_type": "execute_result"
    }
   ],
   "source": [
    "RotationMatrix[-\\[Phi]] // MatrixForm // TraditionalForm"
   ]
  },
  {
   "cell_type": "markdown",
   "metadata": {},
   "source": [
    "#### LHS системы после поворота"
   ]
  },
  {
   "cell_type": "code",
   "execution_count": 816,
   "metadata": {
    "vscode": {
     "languageId": "wolfram"
    }
   },
   "outputs": [
    {
     "data": {
      "text/html": [
       "<div><img alt=\"Output\" src=\"data:image/png;base64,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\"></div>"
      ],
      "text/plain": [
       "FormBox[TagBox[RowBox[{\"(\", \"⁠\", \n",
       "      TagBox[GridBox[{{RowBox[{RowBox[{\"-\", \n",
       "\n",
       " \n",
       ">                 RowBox[{\"2\", \" \", SuperscriptBox[OverscriptBox[\"r\", \"^\"], \"′\"], \n",
       "\n",
       " \n",
       ">                   \" \", SuperscriptBox[\"ϕ\", \"′\"], \" \", \n",
       "\n",
       " \n",
       ">                   RowBox[{\"sin\", \"(\", \"ϕ\", \")\"}]}]}], \"+\", \n",
       "\n",
       " \n",
       ">               RowBox[{OverscriptBox[\"r\", \"^\"], \" \", \n",
       "\n",
       " \n",
       ">                 RowBox[{\"(\", RowBox[{RowBox[{SuperscriptBox[RowBox[\n",
       "\n",
       " \n",
       ">                         {\"(\", SuperscriptBox[\"ϕ\", \"′\"], \")\"}], \"2\"], \" \", \n",
       "\n",
       " \n",
       ">                       RowBox[{\"(\", \n",
       "\n",
       " \n",
       ">                         RowBox[{\"-\", RowBox[{\"cos\", \"(\", \"ϕ\", \")\"}]}], \")\"}]}], \n",
       "\n",
       " \n",
       ">                     \"-\", RowBox[{SuperscriptBox[\"ϕ\", \"′′\"], \" \", \n",
       "\n",
       " \n",
       ">                       RowBox[{\"sin\", \"(\", \"ϕ\", \")\"}]}]}], \")\"}]}], \"+\", \n",
       "\n",
       " \n",
       ">               RowBox[{SuperscriptBox[OverscriptBox[\"r\", \"^\"], \"′′\"], \" \", \n",
       "\n",
       " \n",
       ">                 RowBox[{\"cos\", \"(\", \"ϕ\", \")\"}]}], \"+\", \n",
       "\n",
       " \n",
       ">               FractionBox[RowBox[{\"cos\", \"(\", \"ϕ\", \")\"}], \n",
       "\n",
       " \n",
       ">                SuperscriptBox[OverscriptBox[\"r\", \"^\"], \"2\"]]}]}, \n",
       "\n",
       " \n",
       ">            {RowBox[{RowBox[{\"2\", \" \", SuperscriptBox[OverscriptBox[\"r\", \"^\"], \"′\"], \n",
       "\n",
       " \n",
       ">                 \" \", SuperscriptBox[\"ϕ\", \"′\"], \" \", RowBox[{\"cos\", \"(\", \"ϕ\",\\\n",
       " \n",
       ">    \")\"}]}]\\\n",
       ", \"+\", RowBox[{OverscriptBox[\"r\", \"^\"], \" \", \n",
       "\n",
       " \n",
       ">                 RowBox[{\"(\", RowBox[{RowBox[{SuperscriptBox[\"ϕ\", \"′′\"], \" \", \n",
       "\n",
       " \n",
       ">                       RowBox[{\"cos\", \"(\", \"ϕ\", \")\"}]}], \"-\", \n",
       "\n",
       " \n",
       ">                     RowBox[{SuperscriptBox[RowBox[{\"(\", \n",
       "\n",
       " \n",
       ">                          SuperscriptBox[\"ϕ\", \"′\"], \")\"}], \"2\"], \" \", \n",
       "\n",
       " \n",
       ">                       RowBox[{\"sin\", \"(\", \"ϕ\", \")\"}]}]}], \")\"}]}], \"+\", \n",
       "\n",
       " \n",
       ">               RowBox[{SuperscriptBox[OverscriptBox[\"r\", \"^\"], \"′′\"], \" \", \n",
       "\n",
       " \n",
       ">                 RowBox[{\"sin\", \"(\", \"ϕ\", \")\"}]}], \"+\", \n",
       "\n",
       " \n",
       ">               FractionBox[RowBox[{\"sin\", \"(\", \"ϕ\", \")\"}], \n",
       "\n",
       " \n",
       ">                SuperscriptBox[OverscriptBox[\"r\", \"^\"], \"2\"]]}]}}, \n",
       "\n",
       " \n",
       ">           Rule[RowSpacings, 1], Rule[ColumnAlignments, Center], \n",
       "\n",
       " \n",
       ">           Rule[ColumnAlignments, Left]], Column], \"⁠\", \")\"}], \n",
       "\n",
       " \n",
       ">       Function[BoxForm`e$, MatrixForm[BoxForm`e$]]], TraditionalForm]\n"
      ]
     },
     "execution_count": 816,
     "metadata": {
      "text/html": [],
      "text/plain": []
     },
     "output_type": "execute_result"
    }
   ],
   "source": [
    "LHSMotion = D[rh, {OverHat[t], 2}] + Simplify[rh / Norm[rh]^3];\n",
    "LHSMotion // MatrixForm // TraditionalForm"
   ]
  },
  {
   "cell_type": "code",
   "execution_count": 817,
   "metadata": {
    "vscode": {
     "languageId": "wolfram"
    }
   },
   "outputs": [
    {
     "data": {
      "text/html": [
       "<div><img alt=\"Output\" src=\"data:image/png;base64,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\"></div>"
      ],
      "text/plain": [
       "FormBox[TagBox[RowBox[{\"(\", \"⁠\", \n",
       "      TagBox[GridBox[{{RowBox[{RowBox[{\"-\", \n",
       "\n",
       " \n",
       ">                 RowBox[{RowBox[{OverscriptBox[\"r\", \"^\"]}], \" \", \n",
       "\n",
       " \n",
       ">                   SuperscriptBox[RowBox[{\"(\", SuperscriptBox[\"ϕ\", \"′\"], \")\"}], \n",
       "\n",
       " \n",
       ">                    \"2\"]}]}], \"+\", SuperscriptBox[OverscriptBox[\"r\", \"^\"], \"′′\"], \n",
       "\n",
       " \n",
       ">               \"+\", FractionBox[\"1\", SuperscriptBox[OverscriptBox[\"r\", \"^\"],\\\n",
       " \n",
       ">    \"2\"]]}]}\\\n",
       ", {RowBox[{RowBox[{OverscriptBox[\"r\", \"^\"], \" \", SuperscriptBox[\"ϕ\",\\\n",
       " \n",
       ">    \"′′\"]}], \"+\", \n",
       "            RowBox[{\"2\", \" \", SuperscriptBox[OverscriptBox[\"r\",\\\n",
       " \n",
       ">    \"^\"], \"′\"], \" \", \n",
       "              SuperscriptBox[\"ϕ\", \"′\"]}]}]}}, Rule[RowSpacings,\\\n",
       " \n",
       ">    1], \n",
       "        Rule[ColumnAlignments, Center], Rule[ColumnAlignments, Left]],\\\n",
       " \n",
       ">    Column], \"⁠\", \n",
       "      \")\"}], Function[BoxForm`e$, MatrixForm[BoxForm`e$]]],\\\n",
       " \n",
       ">    TraditionalForm]\n"
      ]
     },
     "execution_count": 817,
     "metadata": {
      "text/html": [],
      "text/plain": []
     },
     "output_type": "execute_result"
    }
   ],
   "source": [
    "RotatedLHSMotion = Simplify[RotationMatrix[-\\[Phi][OverHat[t]]] . LHSMotion, Trig -> True] // MatrixForm // TraditionalForm"
   ]
  },
  {
   "cell_type": "markdown",
   "metadata": {},
   "source": [
    "Так как $\\hat{\\omega} \\equiv \\phi^{(1)}$, то"
   ]
  },
  {
   "cell_type": "code",
   "execution_count": 819,
   "metadata": {
    "vscode": {
     "languageId": "wolfram"
    }
   },
   "outputs": [
    {
     "data": {
      "text/html": [
       "<div><img alt=\"Output\" src=\"data:image/png;base64,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\"></div>"
      ],
      "text/plain": [
       "FormBox[TagBox[RowBox[{\"(\", \"⁠\", \n",
       "\n",
       " \n",
       ">         TagBox[GridBox[{{RowBox[{RowBox[{RowBox[{\"-\", OverscriptBox[\"r\", \"^\"]}], \n",
       "\n",
       " \n",
       ">                 \" \", SuperscriptBox[OverscriptBox[\"ω\", \"^\"], \"2\"]}], \"+\", \n",
       "\n",
       " \n",
       ">               SuperscriptBox[OverscriptBox[\"r\", \"^\"], \"′′\"], \"+\", \n",
       "\n",
       " \n",
       ">               FractionBox[\"1\", SuperscriptBox[OverscriptBox[\"r\", \"^\"], \"2\"]]}]}, \n",
       "\n",
       " \n",
       ">            {RowBox[{RowBox[{\"2\", \" \", OverscriptBox[\"ω\", \"^\"], \" \", \n",
       "\n",
       " \n",
       ">                 SuperscriptBox[OverscriptBox[\"r\", \"^\"], \"′\"]}], \"+\", \n",
       "\n",
       " \n",
       ">               RowBox[{OverscriptBox[\"r\", \"^\"], \" \", \n",
       "\n",
       " \n",
       ">                 SuperscriptBox[OverscriptBox[\"ω\", \"^\"], \"′\"]}]}]}}, \n",
       "\n",
       " \n",
       ">           Rule[RowSpacings, 1], Rule[ColumnAlignments, Center], \n",
       "\n",
       " \n",
       ">           Rule[ColumnAlignments, Left]], Column], \"⁠\", \")\"}], \n",
       "\n",
       " \n",
       ">       Function[BoxForm`e$, MatrixForm[BoxForm`e$]]], TraditionalForm]\n"
      ]
     },
     "execution_count": 819,
     "metadata": {
      "text/html": [],
      "text/plain": []
     },
     "output_type": "execute_result"
    }
   ],
   "source": [
    "OmegaReplace = Derivative[n_][\\[Phi]][OverHat[t]] :> Derivative[n-1][OverHat[\\[Omega]]][OverHat[t]];\n",
    "\n",
    "OmegaLHSMotion = RotatedLHSMotion /. OmegaReplace // TraditionalForm"
   ]
  },
  {
   "cell_type": "markdown",
   "metadata": {},
   "source": [
    "### RHS системы после поворота"
   ]
  },
  {
   "cell_type": "code",
   "execution_count": 821,
   "metadata": {
    "vscode": {
     "languageId": "wolfram"
    }
   },
   "outputs": [
    {
     "data": {
      "text/html": [
       "<div><img alt=\"Output\" src=\"data:image/png;base64,iVBORw0KGgoAAAANSUhEUgAAAjkAAABeCAIAAABO55LxAAAAznpUWHRSYXcgcHJvZmlsZSB0eXBlIGV4aWYAAHjabU/RbUQhDPtnio4QkuDAOLw7TroNOn7Ng1NFVUvYxiRBSeP7/UpfE5oleYmKBgjhzZt2mioLS7O0m29YE93pkacylsmdUfl9wCe/zjywVOufQXu+2PyB3nw37EGmK8993a9dr73Wc5DJgfYx+f+7WygKcjjZVSLQ6GuipaColMALD4CFGU8Vf1AHItiGmBXWZ+OEjjirR4IxeM4VbJ5inWrkbNyI3O4kyG7Qa7/ei6QfYWNaxk5yCaUAAAAJcEhZcwAAFiUAABYlAUlSJPAAAAA8dEVYdFNvZnR3YXJlAENyZWF0ZWQgd2l0aCB0aGUgV29sZnJhbSBMYW5ndWFnZSA6IHd3dy53b2xmcmFtLmNvbVyipoUAAAAhdEVYdENyZWF0aW9uIFRpbWUAMjAyNTowMzoxMCAxOTowNzo0NiroWVgAACAASURBVHhe7d11/G1FtQBwwQRRVLC7RcVuUVGxG1FRDBRbwA5MBAwEuzswQEUsLATjWdjd3d2d7/t5675h3DF7n3P2Pr9z7t3zx72/s/fsiTVrZvWarf7zn/+cbCqDQuBf//rXC17wgn//+9/R6kc/+tFnPOMZZznLWQbtZGpsgsDGQGBC742B+1J6PfHEEz/+8Y9HV3/5y1/+/ve/P/rRj15Kz92dbLV50KpPfOITP/nJT25+85t3z3j8Gm984xtvc5vbpH6ud73rvec97xm/26mHCQLLgMCE3suA8kb0gRZc6lKX+uIXv5g6//CHP3y1q12tPpZ3vvOdZzrTma585Ssvc5hbL7Ozkfr69a9/fbvb3e785z//SO33afbd7373gQceGDUPO+ywZz3rWf/z/+WVr3xlPL/73e/+la98pU9rU50JAisFgU70/u53v3uPe9zjz3/+80oNexpMJwR+/OMfOzzJymq+613vOuUpT5kOro997GNBqOoH1wUucIE999zzl7/8ZWf7Q1ZAS9vKP//5z8LbFXlF1XajG91or732Koznb3/7m12k5khjxmWc4xznINhp/wMf+MDpTne6D33oQ3qsdGftaQK/8Y1vjDSMqdktEwIrgt6PeMQjqBDW4tBYFzxxZDlGKOJGGvCvfvUrLP7rX//6aP/a1772ve997+985zt9Dq673e1u17/+9RG5YcdWwJ+TtfWEut7nPvcZdhxjtPakJz0JL/Ctb32rrfHvf//7O+ywA/JuL40xgG9+85s77rjj+973vmj8Zje7WbASpznNaQ444IA//vGPeadPf/rTL3nJS1YejjGqqc0tBAKrg95OmWte85oPfehDtxDIL2GagOkkcbz88Ic/HLw7ZAax2W+//aLlT33qU0kGutzlLofbLh9c3/ve90596lMffPDBww7Mmfn2t7+9sc1mWnXEEUfssssuv//974cdx+Ct/elPfzrDGc5wr3vdq63lf/zjH1e/+tVjDbbaaitC7uBjoPq47nWvm5p9znOeQzo+73nPG51e+MIX/sMf/pB3esYznvH5z3/+4MOYtUEny6te9ap73vOe+++//1ve8pZZP5/qrwIEVg29jzvuODj/i1/8YhWAM9MYVnA7HHvssY6sOEaucY1rDC6whhGdASUA9YUvfOEhD3mI0xKTHZ1Wjqn6weXoOP3pT18532YCe70yJcFNbnKTpz71qfVXDbTqqKOOOte5zkU8XLDXJXz+ohe9CEwrLEDe78Mf/nAV/PuZz3zm3Oc+95nPfOYf/ehHww7sEpe4xAMe8IB6m6997WstpN4T5xJ1oN2d7nSnYccwa2sQAgtsbCc/+ckDL6HdrI1M9TccAquG3tTgcOltb3vbhkNmpgGs4Hb4wQ9+QBt0vvOd7/Of//wDH/hAUH3kIx8506Q6K7Ovn/Oc56xX+/nPf37jG99Yj9tuuy2pPVWoH1w82lR73vOe19nXTBWoPS92sYs9+9nPrnxVpVVf/epXT3va0775zW+eqfWNqsxrxYq2cRzMSKTUl73sZTE8G+mKV7zita51rQE5lN/85jd4n5e85CWNEADMrbfemkY4f0uzeqELXWijIBb9HnTQQTe84Q2ZVXEkhx56aJAru2JjRzX1PhMEVhO9KayocWaayIZXXrXt4ICi1uLXgGwEcIg4pzrVqXi4DAgrCsAb3OAGjQ2yk/EAcCbwC0sV6geXamc729kw6wOOKprif2i+H/nIR/KW/4tW6ftKV7qS03zwvsdo8IMf/CBoFrwqvv71r3/5y1/Ou6YzPP744wekVVozBpBtmyCEQ8zoalIFLoI+2Vj9KpqdZH8Du/zlL29IiaiPsVhTm4NDYDXRG/eNDRp8sqM2uGrbwXHhYPnrX/+az5oruRUfEA64/EaFUHQRGkLBVeWDi4eFaieccMKAA4umbnvb2/I2JPKmlv/LZ/3oo48WCGYCwWiveDFaI6TcbBsnW9FOO+2UvyXVXuc610mKr8UnSG7TSAr7rTdI8XjBC17wFKc4RXoVlfmDLN77fC0YADaN9jl9ftOb3tTfAibma3Blvyqsy8qOuf/AVhO9WexzbO8/nUFqOtdmbWcFtwMAOqbibEmF+GLFZ51doT7BpXxw+ZYurnxwxfEbR3G58GYUXNx/gWg+v/3tb7/whS9Mzf4XreJTR6ZbkYjarrmfLLSlyXWis76Q7Lve9a7nOc95CI59gNvZoAoMYP4lozRWxhm94x3vqMBT5e222y4ZMPv0MmwdaskQpFKhDNxmm22uetWrDtvRxrZ2//vfH5wPOeSQYYcBVhxK6U+ucpWrQCeBscO2P3drK4LetOIblaLlS1/6Ep+mi1zkImzS/cG4+tuBmPXkJz+ZwOrs4kf229/+tv/sCjWdXW0Hl6/e9KY3MQYhmamFxoMrjt9PfvKT5SExv4nqISqwuvUcvP218847P+UpTzmJoCYJy0pr5S53ucvg0twYDdLjmbnSM2pK2JPKFIYRlW0ZBnFfMQwKepgUc7TAV7jCFWj5onF6cNwQxWMOASktdttttzFgMl+bDhfagMc85jFtn4v4+9rXvta/cWFkg0dd9O891QzHFtbpOb7NP8mV5kceeSQsqmy23XfffUGtMse5BdU7K4LeGGdMGI+nBWE+3+ecx2JpXvGKV8zXgq86t4M6FTtKua8FtwNCdatb3cp5RSu4zz77mN3jHve4uWeXf8gHGM8aT5yiDiXHIwHAT/7orOwVMLYdXNtvvz0RsBAENre3argOvfe9741BnmSvCorHe20QQIzdCEcAo0V4+3SEFxafe/azn/13v/udkxdwqeZCIF28iJ7DfUQ7Uv+Fco8nPaJFjK1QRIc4wvDiF7948X6HauF+97sfKSG3qOUtC7MDq1e/+tVt3dlCPFzoClIFGA/vf/rTnw41wvnawSjgQxdxUoIhFheOheXANnYQwyISG3YvF5cpJGYa5B3ucAftJMM1J9WznvWsuR17ptZWB735rAPRRi29SEeHL6+ERZzmy9uhghL1ZRp8O/Ajd55IhaOvRz3qUYzfomJmQo/CztVaglUKDIXwYPj+978//7BwcIWS5tOf/nRbR3N7qwpa1TLtRZVWkbm8sN6DAGLsRl760pcarUO2T0ccslV+7GMfG5X5ROYmuz4tFOpwpePinzwnkUOJlDAmjZ88/vGPJ8uvgtgRw3M+ik025sbRIlSU2uXjnkc+2DKxphZwWEQNunXKigVhu4GfWyO6ePs2+WL5yfPoZz/7WRpVIKFC69V/qLiliJvJkYRghHd+7nOf27+dVHNF0Nu24qQgTfMcU1iRT8rboY4S9WEPux0oM9F++vmkmxl2TwmeufOd7xyzIFrJqMB1uaIHireFgytMVgxLjYu4iLeqnAl2Cr1utLxJrsI5OpX6q9Q2HLfwtgCUAF0Yjy3kFAil6kjDJuZzoOj0+ZbL5NKXvjTV7UjDmLVZpIiKElfe+KF9wni59957l5s1I7Cl/MyrgTmZBhKvDlWeFTiUokTklBALR0LRQQCqtCMtTZCr/sLEMcccoz5htNIUQhXZ2GYa6oqgt5NOWjluzT118jPNcTmVy9vBGCoo0TiqYbcDCgFVuD6NBAFMqjwGolbK7ZcPrtBMkkcbG1nQWzWyvEZQ7CZaRQPr0cUvfvGRgDJ4s3e84x0NmJKts2USj5qsF6OemyhQPXitMjbBd408S+MUcA9ORgbz3Lm8UtOrz372s4WMTYQA7qQ0k1SRxJ3crOJDQoOUo6lN6t90UJI7uVqg8W2ULL6i3GeadojXjX+vec1rgL1gBqvP2krReLRpIxuhVJhg1GeFrXxopZKoxNGI/bLeskQeGLoHPehB6ZUNkv9Mz9ONCf1pVVtop4nbgPiDmcLVVwS9WTTn0GyPseK4isjMmQrAJj7StortUFn08nZQuY4SdbQZdjto/zKXuUxSAHYedPNVcCYwgJUNruWD62EPe5hBStYz3wDKXyGlGucKp9omWhW5wKWeHKO/1CaIOB1oIQkiCwYYhbWgcBSiCmyDCtuJmowu8XNBI/ao8InG0Q8rRPYXXsB7VSHc2Aapa6zr4YcfHmmckAqnKoWbhEn52BBmsQe882mTFY1wUk9JC4kLLGqoEV2won3aVEHsKaSDU7vGpY8qzNcREB6ldlQ9Ua9B8vwxtpwclqF33/veV2s9yXl5gkiUHUjYZRaKTuk3KP0pug0JHX3DG95A+Rki0UUvetGcPGjZyBM3Vx5zWHn51/REDCdp9NtoGA545grVtmbXF73zGQ244gCC/ad8ph8KfRR+S2Y56C0YwwaxgzC4XENBGHf1hCc8IY2kczv0QYkBt4N4TScVu1TgJ72inzC2J44tuRrDsEFKddHYrwP/da97HR6UUT+OaxHNkW28z06nOdN4OK9tolVSEHpkLUeaJ62lYyICLxyg8Ekmp0X64neuKSbutkbQJD2GEU7hDxY/x0gJuMhEKt8iJ4gKu0icnoh62DZYPqOmHYiueCJRPzJAimchiDmKnksaGElyPUnS/TOf+Uw/I+6dgAUa8UleciE17gKoaPbSUHVK8I9tHwVl9XnFCuiY8Co/FAakVYUJMiOlS3cSrXriE58YKYwV4ovTSshqIlc5lxZRkHUdXePgQ1mfzL+FCRI7mCrz2D7Bf+Tm/BMWLK3RAXQ6/qwpelfgMxOtKqw4OoG9s9axvkGrcCcAHk8oV5EraI+YRdySbRW52fpshzJKDL4dSCpOKgyQcToz4+DaY489BjxnBmzqaU97mnFyXm9sk3PmLW95y1gFxzW6lcLv2nLU5u1E9l54chKtwkGnRwNOQ1NYkpCB7EB+LHQF4d24oF47pONOlxj5rAJMiOWw8xqjNYwGMw+XReb31H5EMDAlxpMIGHLM5U6iIn5imsldmCePn7ySUjtMU29961v7DJuWLDZzo88FLwAiHS9HOUH8q6b8bxGlyGsub5/o4KGV6tOpOjOdXJ0TvPWtb633RKu0ny6RowTn/xJIyMqiGuYp6R4xAZ48+MEP7hw2XRM1KTqdp02rf0XjxN+XBIxjwB1rHLcYAhmzOcYz/0R4kOc9k5ytF3rXITPsisu+Grsgt/M74uOhzE9x5kRwjkIg6FziqFBAifG2Q6SEcJ9hz0FuVDV3oBsntq9tACTaALhgREFd1Bt2jT/6JI+P4y4sdpvkqiB9YyTyihsIyQp1u3RlbrhybCarD07clmaMscnb8mCGza0zYXmEajp2h/WfGQktqK2MtpL4BExw/Y45naJhEURMB5iPAVFx6gWcwyznEz/JZ8mVwwYuJPnNW+Ou6luak/o0UTtnLhIFnlYHixTyh2UKOOfWNaoMD4lfPcE108nVOUHGXr3ntCoFUeaiXqQ/VpJyeNddd/VTkFznsOMIw+8XatJ7x/Wp4fcf/rshsIazb2W5Y16V9W1rf73Qe0Fa1bni3K9jKXNaFVl4yFV576HjFTnQucRRoQ0lRt0OIfT3Mcn3nMVI1SgMjBOT3dZ+nCeMDtSAYdRkYu/piR0Z6YJgb8pbQefgUZ9kClg5mopycYoF0jB9hzaTvjIkocaCpbUkBC9R2WzUmFxqHH7AaG9+q0r+LXOXn53ZXKSMUo3OR0xVW++r8zxUDVwe8iGhN56HXzJ6z6TkD6asvA7QhfCKhcGn+yNST5o+xyTknxAm9K9njo8I+4+UHBWYh6MXjzXwpJ90EEdYRrjDwSdqyfRJtAAvY7HqpYJLQUsqqJVwqfJ55wTR1Mon6YaF/Lk9Fj9jCyht06+0xg9FBkXav3JOMkwGbiMU9FrALtBBxbEbyxHrVQFaz8wL64Xe5rjkFddjYdHTijciZ/6wESVg9bDbIe/RrqG38KTxCvnOAS+zQhzC2OW2Trl3eWV3g1g4DZKrHPJ9BhkkadN900EM44aITtNCYUB5xynjIQNJPKc1onJFV0lzzCq5IwD0ZeSHUhULVmgqidiN5DqyEnSmWw2GqOwjMBK7MUezMamCJS+ZW+XtrbSf0qXHZVTUiUlZr02apf7O0GHcQiMrXRC7PU+XdYlX85NXlWpsA7HQeRgmTiUeNrrpz4pLlcF0TjAiXXK5KvWY43lC0c997nPRRWRKlByrsILuTkWJpakuey2SMiNeIoDvcLRFU3Jr0S1eVZx9HX8e2tJ98Ge90HvsFee3EviWy1XhdVmRqyKdmHwQfYDchhLDbofKSEIWUWZyCu05nWGrOcyNMxkp6o2HXkFpO8wL43HC+zAupvgvuapTTKFooqfqLOF6pyQNcmjhbF1aLMdZ4nntXvvNeUeRgobFV1EYGFluknNE/srf0UI5Oam3kahq9XkTgyQwhfzBK6ky2fQzMYlxUVBeePHFz4AM1JFEgONN8C8UXESfuAqvs5DW1akLNJHYPqUIc/46r5E0D4NWkVHCIBwltRDndaXUccltpOqwveUIlnCp8vkiEyxDoG36+bxIk0RbrrTlLUMrgKYSpEKEIgYRcCNTcAJaJTdjAK0RYpVhrxd6G/zKrvh8O2LY7VAZQ0jMWPxQV65yiUO4rsaIMdP0ROJWXkghEc1UYn+FMmmTveqyl72svwtudfOR4jDAIDltn4dvflt+vNw1oNKCVBE+bAuWjsrJlj5TOrv5ZjrIVxzrTYrGsh4KhusX6hTStJJycKR+Uw6FsNWHuKOgfCkVPbVqH5cWIoUuZP3JJ+VD6+h5OFs7c1GLlD0yLDf77rtv/kngKGzr06kPZ7JXdU5wbrkqqG+bKdTEw4Gwz2WkzE6aItQGWMJQTCbzt2XC7Feus/M8FqvP1eBrh971PTLsio8nV9VRYuztEC4ht7/97Qc5WEZtJE4ecYGNvQgkiCNrvhs4WXlT41Wd/kxEr7NyODVhFRMa5Z+wbYS/Yxwr9ZJn+a28DfsTe0lhDMGb4PRjGKtfUCmDpKeW1igfrdPNEYZDZ3wKj9twsavUiUUNf3SngAxd/iA+w5LIKiYGlv9bJxwak8djbejQfRucjsYpkcNYZXji8zCAlaTmkcUZ/BttBp3DKFdYZILllgu5851QFHeESBJq5QoVKQFduVlpOaz9SfZirELkYoHoIekPJSYIBiWVAFrdWFgf89qh98queOfA6igx9naIxV0LhVAcwm0OAWGDp4pnsu2Ec7nCuLQKrONsJbHVx8FPLPKUJ62IOogzFW0qhInGCQRoOJMUphfrXb7qgjJNZGjKac+1Pb6qFIIOZSvNbEijhufvcu9zLEyY6BSeFCQnuRnRJ+7L1He8TlAd52P4OnsVqXpSCf6F1SoRhmBJFE/C/cwfoeAqF84dRCgnaW72p8AJNwRw8G+kChTpRW/JAxt8uK5W8JU4q2ZPh46uQTW8L08wLOebtAf/97UZRStGm5pLBnYCUzyMAUuMVu8SgWRNtEzSHAjUi3LEEUdwryAJ1S/Tiet/8AeIlk4lvwhUt1ioO8wMa0oqIQf3BNpQ6I0Am6whJXuS8yVyQ69a6bPilUWPkzRY/jSdwIq04p3TrKPEqNuBf1lEI7TRqp5L1rNa5/TLFeIYbKNVYQ+W1WKAWwNjFUfSAWpZyHFMVaAxSkCXxWyIPHglaU2sRy482tUUg0HhqGvbYiDoYVQoR0iE/aPgUozPZcp2fEtwYAz+BtC6T4FXhsQkrjUkiu6F+OLvsvl9Prk7At0qhZdEiqaCGWHD44jhxIxeIpSblJO0bRaUiikF80YMRAoo7hybeCD1fZXXDP9RnjkOaOcyJwvHJXMLwtYY1hfnciWhRqHrmTRC5QkiDGHRzRNnxCXOSn5xbVDxHE8i/iZ3yogxp5r1BfIExOpTo1EIAi8mJJJGk3HFl1DuI/D1ZB/BM7GEdS6QCkOhtyjp0KgT8qJfYkRKGNpnJHPXGXDFjeHYY4+NpUmJP6BBJA1QuK3GOGkXIoxdbHjPhF6NKDHeduAKH8NrS33Uc8l6Vpt7+eJDvRhtox0nXBmVntEy9ZHkOsBx7VXRNxxCkBJHjyWJIGfWDtNo1MlG+FTkWWgsEcKJw22rgF8O3UtnUqXQQJJXWPXj0pDGNsMlJM5o2kulpxlmVlTgEZ70SzYV1rtyN4yfaCey6iCmUxLkiyw5aHIrlxAoR54KEgjh7lVmUuofZBbbvuIopX0ugrl6isscETAleM1napAGb7/l2aHKoGDuMuD6Cd74VWGCFMuRgCoKxBOkbH1zzo66lXCce+5YXCCKvuQL92HyDPQkbHiFQivYOE7AIX2mrnEYKGXb9R8UibroE6M6LHqjqdQb6WIXZtHg3sYuQ6048oOfy+/api134ieHI1DFUWHpcG8RiRiFBbcz7rMNJcbbDpFkshz+1XPJelZbZKFD0yP0vt5I5AwD5LlzsS6bVqU5oASUWumIDzfr+r0e4pk9T2GtjXAULaSOf9ugHKoq+RQ6l4GTt5piWjtvzAvpM5zCxy7OOLqjwpBAkhLVqYdhrKfkiZQTMJUyR5njYkmcBC1fo1sKuQochA0VLlhDcdURrDoSoBafYGFg+EEn2oD3jiLAjK9On0IIpAVFYuFYAappzIOjN7JhvYKxc3zTMYy0cHM3O+qKd46qgBKDb4eIVgzlU6H0XLKe1Toh0FYhhOM+SSzn6GLDaFVlrCRrrBBOs3I3WiTSLUc/UKSoQ8ppm39obNKNvQUwhQGcdNUJykiFUEh83tnCGlVwNJBuG0V7uR7SjaKNM2IFJM0MeNYvH24CqAl59Ti2uUfC96TsCkWsRyDrieEbexwcvePAjaRlFNE9hzE3NNbxwzaUGHY72HdORQqJwv0JAb2eS9az2twrEsnMZr1utGd3y/MDLClN/s85WzxdBDOn1Aa4y0jaUXAC9DYy0TFC5l2wh/GgC39/54LjMmh+uYRXAimhXA3qhARGjulqcnN4j4dwUlMbsqwkr4SYGHnuFre4RdskmYWpSal2Yx3XtOBGKTxZoeK6nAULjTFItsWKaRzvZVuyaYUvaGMZFb2p5enM4Ta3HaheGMaCoFjfz9tQYvHtwE2a91lEozJ82G68dTpj7HouWc9qc69LHMKhNh+3BH0bz7eik34eeeSRTCC8FaRAdjRw4WWtkTm0LL6gbQwM+X2sVKKiVQArHPb80ZnZ1tjo2RBFjsh4GYoyAkGyr1QMJ4TcSBuB/40PO6e2GVSgXUSrKuE+PBJzW05lmoxAc1xltJqw4gdEuOzMet45eHSooCfAAzHoVm5dqrQ5NnrrjjeKRGgswZzyO2e0xVaoo8Ti2yEc0Kj+OChKS63BnqblxiVjOKiomkddWY45NBD9zdIzYc6q6ADToElC3KP5kjFQC9bptBvFh+EQnJO0yHzBkR9LUo+WzWFk5zOoYGO5CZEDuB37kE2b61rEeLLPs4ejTw5lcTPEf+4MnrM5wyQc90gy70wLubTKOer7W7BXoet0CdbShjdqR4NMh7jfdsGKwUP4Pjg/BnrnoAsH+mDFptITwwfZDizKThtcEZmBzbL/lW/1JSMTY/cx8XKmpCmMt7KRZqWPW8B8GLVytGq+aUQ6tTy3RURBmV6ZRdUdtoXjAJIWidr4/lF5EctSxqrIuEF0i8ykZL5wb3WtiZ80YH0Ol/nmNX01QaARAmOgd86/s7s4KBe8BHVau/kgIHkmOz3f7pkOlvqSWdAIdcovtRlvZQ1YX+Pl19hMaJW7MoFJRob5kIOaNZdbmTQr1zUR9UTFOiAqXu+NmVjnG8P01QSBkSDQE73zuAtyGwXXSOOZmh0DAo1LRtZxKuZxjeOtbPDuNE9jzE6bq+JbsaAhjmKdt0wKAJy1Nfnu8iQO5KpIcx6FaM/vQ7Qy0SouEkwlAienMkFglSHQE71TlhOhMPwpUuTsKk9tGltAoG3J5OHkEJQumRx1ZRlunKLkqiUsyrg5lkadgAQK7El8HCo3AA3SqfAmLtd77733IK1NjUwQWCkIJPSWmgQrJlaaeSMueZnKikOgc8lkzOJMSKM49sqKpmfOdwiHU9vYZY1pFdBwSSf3VDLjDQIy+SAWT7Y4yEimRiYIDA6BhN4S6fLC5abEpDFGiuHBRz412Llk4riljOmstjgkHbxwpk9c0OJ9aWErOkH/yS0mWJ2Pf0qfOkjrS2iEqEvg5WWbp05ZQr9TFxMEJghMENhiIcBK4v4KjouSa48HBMk7JJIV0cRdbr3lKjByzxDRKvJITmWCwASBCQITBJYAAQcv1+jI+Lecsva0igZD4gnJ1HvekL0csE69TBCYIDBBYHOFgCguSjj343DhWdoc155WgZSYfwGM6QLKpcFu6miCwASBCQJbIASOPvpoPtJy2y9z7psDrQIvEbtxjfpUJghMEJggMEFgVAjIuxZXjS+zbCa0CsgmL6Zl4s3U1wSBCQJbLAQ25LDdfGjVFos308QnCEwQmCCw2UNgolWb/RJPE5wgMEFggsDaQ2CiVWu/hNMEJghMEJggsNlDYKJVm/0STxOcIDBBYILA2kNgolVrv4TTBCYITBCYILDZQ2CiVZv9Ek8TnCAwQWCCwNpDYKJVa7+E0wQmCEwQmCCw2UNgolWb/RJPE5wgMEFggsDaQ2Dt86yPtALuK5PZ9+Y3v/lI7U/NLgcCrnV234/bb6O7j370o894xjPOcpazLKf3LbyXldpEWzgmnHjiiR//+McDIf/yl7/8/e9/f/SjH13HzwMPPPBxj3tcPdS37fnYGJ7nWT9Z3D0stbtepSMc6Sri9Wr2V7/61fnPf/7Pf/7z6zXsabR1CLzhDW/It9P1rne9CUrLgcCqbaItGRPwam4syzfChz/84UY02GuvvZ785CfXX7U9HxuXVu4O+4997GOve93rxibRPdsHfTemyIe788479/xkqtYfAhg6bF3cmjZGwT5jGD/wgQ9E44cddpj7Yv7n/4vLUj10kcGrXvWqMXqf2gwI9NlEY2OCYbgel0BQwITvfve797jHPf785z8vMyKWtgAAHQVJREFUeeGWMPcf//jHt7vd7WwHU3vXu951ylOeMu0C563zzXM5VN2rns/9oIMOevzjH5+2T3rV9nypcNtYueqTn/zkjW98YxN2EfLYJLpn+0960pOsq8sbe9afqvWHwPe///0ddtjBcsuL3/+rmWrafre5zW3iE1vudKc73Yc+9CGHUd6InxgRF/DM1PJUuT8EOjfREjDhne985znOcQ6a/AImeAUVSdv//Oc/+89uwZpLmHsIta6eiKFe+9rXvve97/2d73ynMnJEiz78G9/4Rv7ctcLuNvzFL35Rqdz2fEFolD/P5aqN1AH+9a9/fd7znsd+sDq06k9/+tMZznCGe93rXqMuwJbZuJvZrn71qwcjRiGO1xscDkxTF77whX//+99Hyze72c2iu9Oc5jQHHHCAS3dSj1/96lfPdKYzIWODj2FqsHMTLQETvvnNb+64447ve9/7OjEBlbrmNa/pPvTlLNwS5k6Wuv71r7/ffvvFjD71qU8l6cf97xWcd/Mf9WC+NQhk9gtBqgKQtuejwm1VaFVMkllodWjVi170IoOZjrAx8O/hD3842Pr3M5/5zLnPfW6XZP7oRz8asCNK+TOe8Yz0e6nN5zznOXvuued5z3ve2KvI2B/+8If09p73vCd+c8ABTE0FBDo30diYYAw0e9e97nV7YsJxxx0HPeqSxBgLuoS5v+c97zGdX//61zH+L3zhC+7vwCaiQLERKhoFu6by5CY3uck5z3lOZLUCgbbnYwAq2pxoVStsL3WpS1FSLVMhMN4yr1TLFDKnPvWpX/ayl8WoaGaueMUrXuta1xoQ1F/+8pftw0aj8Wtf+9rTn/703iZm0xjYsU572tMOOICVAvgGDqa8iZaACeZ+iUtcwp12dSA0YgJshBtve9vbxgbacubORIfS1Ofy85//PAwu2267LT1kquDKxDvd6U55faRLtaRCTK/ano8Ht4lWNcP2gx/8oBXi8TIe6LfYlr/+9a+jJfn0aYqOP/74AUnFS17yEsv3u9/9rhHIlH5bb701JX56e8IJJ6j/6U9/eotdlDEm3rmJloAJv/nNbyiZ4UNPTFCNwpCWeAyA5G0uYe66owC8wQ1u0DgXugfnG7TnZJQqMERd6EIXyut/73vfU4dqtNJI2/Px4LZyfoBJnbqxf7iY2QDIuRs7jM2yd/q3nXbaKZ8a5u4617nOyU9+8qHmy08HOxnyU71c9KIXvcpVrsLvC3WMtzEeCsmhBjBrOynqa9YPV7l+5yZaAiYE/1HBtwS0OiYEMiwBE5Ywd3NhoGqbOxJ+l7vcRR3+FAkgKjPvUY+nJ+c5z3k4H2E7fvnLX+bI1va8jpDgz92XFnFAXJ3yVpwETKGLfiT7fw5ldkX+QhgW591d73rXN77xjQOuwUhNQRfj5H9P24YAP/KRj/zZz342Ul8zNQuDxXDQPEB9biy//e1vZ/q8rfKpTnWq8NBtK4xkF7zgBU9xilNEhSAVfD4H6X3WRu5///tvt912hxxyyKwflutvOKIWNlHjyMWo2lAwgUI46NzihbY5rW9jaxVMUAfmJMRYfAA9Wxhj7rq2EQpskLmrc7GLXSwNsnEjxDGI/6vMpe15pRqzHGaUHyabdE9odFcL8W0DY4FXxLcCuw24ipWriLRHHnmk5xVQ7r777gPqr4YSoj/ykY9EUzRsiEFlzDzf3vve9y7YFxM0VcbcjSBUt7rVrRiKKAD32WcfIxQnP3dr+YfOfbu0rSlcHv/1Bz3oQakCm7PemRAG6X3WRkL+O9/5zjfrh5X6ON+vfe1r8XA8ROXc7DTvHGphEzV+K6jAzqKV+uIXvwgasCJ3funsrq0CgGjtLW95S2OFOiaoRrZYctjMSHM3F/ZCHGobcJ7whCeAM54mVXjsYx+LbarU5x8IhnVvwLbn+efHHntsynzhFFrknJzsVQ3rGCST5Ft5h0/kP3P2s58dIyyvR551SRDJ3Ntp8A/tQCEUxi8SQONijEyHKfWJT3wiidD4g26JnEgOQj3HcIc73MHnScFNVXLWs54113f3bCeqcUkyDCG6/n7Uox4Fp3nrzdRCW2VkWMspMO5Nb3rTFa5wBQ4UcfzZdeztSHj6XCIDGkhn/SC9z9qI8RAmxGzM+mFeX3QnNtl+9nBARK2suMaRk9122+2nP/1pebRtm6jxK8cl7gFqMTFahe23395cIk58weJwZH9K+Rc6MUGn9jj3xQX77f/5eHM3Bg6ul7/85WMwOG8LZ/mgh58MTky2r3jFK/KhOivUqQyep4nd5Ljr+TxV+8EPfsA9DRMGGR74wAdqhEanP2QqNSda1QC6l770pcBKy1d5R3t2pStdifYsPY+aijC6uddg2A/xvMaJUHH1iWPL8F7+8penXtCnS1/60jHsmc5Hh0iwSLA8tYYlxJo997nPnXUWFAIOhW222SbRDArAWRtpqy8XACKavG+l/gv9noA5RMu2qfDs3Jrryz3UYJbQDkJFjkyrORSiNq442FIkMLeU16ttEzVCY//997c6mPp4K0D7b3/721Bww7exhkZrnZjAZx1adlLiocamnVHnTmNhzyYX/BRl6HzYZZdd3v/+9+cTcXQgLS9+8Ysrs4szBCfR83lUwyXoQlKMOIgU+xGWSiAyH/RWi1a94x3vAJRb3vKW801mqK+ITYZx5zvfOW9Q+DfdN0mi0ou4nDj3l4nfhZk+5jGPcS6n+PMHP/jB9GyV+ilvim3cH2jHHHOMadIqVD5BqCJrS/+m1JS+RWs3velNZ/qqf+W3vvWtoqkSY4Fhl0Imp7KpKYp4AV6LKDP7j2qMmqg+EXnvvfeOxgdE1LYVR0sIgihiQRnYuIkap6817A5ksBBjwAdAznWuc735zW+OxguYYCQMujISjDGMDZm7Tvmgp6OMaEXZwA82VyqkgdmS1HT1NSUexRFXCTtrex4N0vCjlKHaSYWCd+6NtkK0ikaIuRtE0F7ZcT73uc8tDWMqHdHwGgbuO3/O/JNbONKrlKK4D62ycqgdO2pB+ebVZz/72Tx6vDI85y8faxwi4QCTm6uA6eWxUfk4ad4rDuJaw7Ry2jbHmWhVmxQPKS9+8Ys7LmeK573MZS5jAKEAHKnQ/ODsKrul0pcxcwZrs2e0DczBB13rAZKFiRRWLb760pe+VPlc+ylpslnEilfqWMqrXvWqudVhEESNXgp6G0mvLR/GqG3KjZuosTJgaorRro8ZbD5UYWNztpQzUDvHJc3jtF23Us/XaZ+vljB3tFko9KGHHloejwgq6hbkp14t5UhE5PK3bc/7THyOOitEq+YYfeUTsRRYM8Q8WZjnazMMUYV9mDdLA6synXi5Lx7SMIZ64QIXuAAvIwUjbMDpKzvk8MMPj8QKCAmSQ80irWrerM0sqpFlhQ5a0Yg485Q8xlvONj7vpBmU8uEg3t8+hDmN9MwiKOszlSHCqz4WafG5VOT6DU5NQK6fzEXzrVTnV29/+9vLAh9jG8eKznYqFe573/safCNzWm+qvGpIFI8SJ2nSsSA/hs0jjv8LHIAkzn0Wbz2S7NnD8y4iJJMOs3MKPRE1tVNecegK2WApxG7sunMTgZ6lVxhITIGBKn7OzXeXIeAUfvazn12o49Coq786oTpfhSXPHTsLx8p+DaKGC/gcrK2bRCrzbXse1b797W9LRI6ro4ON45QC8EY3uhGbWc+9k3e3OdAqWnUpvCIRqoIeYPPnw6H4isusdnreihIxWE6WQo/ICaLC1hVUBJcXhh/q4/jK8cRe4gmB0ubHCkVqROW2t71tYvTC8SaxSM985jP9TPrfyKdS19HVBxYKaIo7sRSdgLKBaQby4CeOUkTD/MMIDMQad9rDH/awh/H1R9rVR2v9reyxxx6dw1ipCjPRqsKqMepElmsl0SpamuS3aY2QK9ZpJqJwv4Y5ed6v+JzLQCd8+iBqNNJnxVWD87qu0M40jM5NhCbF6sf0zTF+jpEcshM4S66wdnMPV1XGvAqg2p5Htac+9akMOrG+jlN0KwUD4MZmhfna0yqYzYMILGxv/iqYQSBYUIoP9VQfmUNGFuoX1DHPU1JZAxwE5b5B5m5mEZrASTcqR2wNGkCnlz7nsxfLnLySaLT8JDimOvzZGGbiJzrnLQNVJxKoo+b97ne/ck0aJ35BWCdEMa78ofgO9pxPBKYp//wiF7mI58kqUG6ZBKbyla985c6hrmaFmWhVedVM8Na3vnVOq2LK6HesvhwKgc8ksHiSvIfDYIB6tWXoSNDrg6gqz7TiJGy92yyNa9RzE9k4MamNChjYQARbo7nT8FsjMZoVcLU9T9VoBWJ9fcsqTOfvwPTHD3/4w1khv960CnvCvRUgnH1l+kRwIQpQAmADHbtsQrZlW9Yvrpza7HNPRJAHjHMB7qRvdSoZyQzG7QNogA/RsEglSQeYt+MAQhI8J5OFKt8nfpLPklqZ8i1x2bvuuqu3PLPLSIBtZxE0x6DrbYXGAC3RYLhBR57N4N+pH+szirFVptDWeKgTKxbBWXF3A+vPRKvKq2YWmAbQqPhZQRgPyVX5NEPHy488HvLj8pOqsBMUfRB11hWnztV7PRwnBtNzE0UoPXI7oBdoJzRWpMIazV0WGMuUcngmALY9TxUCRfnfUgOGipUlfj4nzyFzLGET6ILKJc/eEfRWcZmKA7exsOalavU/OOk60Iks/qjftRz1GaidiWRVaRG4PzimKV64mKPteYb8vHEXSfjZGbvOEGLxaELiWGkroZqr3NaI3nge7qq8LVjO/cGUlTdizKH0x5sQYvwR+btojVlB0V1CmPiJlFwjwsLNqzAYFN3JiDTyJnDGFWqiowhqKJdVszp0UHHsRo8xpFSi3z6h6ZA1cssm9VdhGCvyqoLbkV+jguqNuN25aiqE0r9SGvGZgK4aRWtU7rPiqvVE1PlW3GrGfqmUnpsoLlOntA+mc/XL3KdcfWprNPc4DB22lVm0PU/VItOm/QIfIt6fXOUQXnShgxi610RDPa01iX7Wp9E4Gl5zdaYm3FsbS7orr5EVSn6DOH06QFka+Wc7W5O7FMTiJWXbH3XUUXkL7Fu647rd2GwoYetMRF4ZfXU667HTGSxaqwwgbyo5Gki6VRkP01SAJRzVKhkoqN1yxwHil5r8/gtsIzsnVr0zYwW5M9yIo32HI/RKSTB5wXpVUSFyoPIQOnYyrcFqKZ0+IJ1NLafCIrjduWoqcDABjYpcFT54FbkKMnuYghDCYInvKcChJ6LOseIpTVej81ifTWTYoQzo4xuynLUu97IgJlQaX6O5BxtdJwptz9NMQzdTOGz7L+sRRxyRtskm5i5MuOV0anW6QltF2dVZwuenUvj1Q/fG4sa8ev14YoTB2usaDhE+KLVEAFCpxTnrhIUNPH3p6Hgo5O2w8JPGkl230kXwuYU8WmghtwjrJGtZWfwiMAWDmSeIrHSXOOi4jyAvIWIrMST2LeZNHjXBmFCBiu6KG3cUgrZ/27h7rzhZPe1pTyNK80hsg2o8J3GiizAhRCgMIBlOLFS8pUX0b2gCU4l+A/LlEuwkj8fQaK1+qeN28HMMijnCN+K2auVVW2T6nSveH1HnXvG2Re/cRD60xSLL3LpI2IuccpWFXq+5tx2G5ZzLzuRw4+LXI1P7Iqju2yBJQZ423QtMsejvgw8+uD/F25CaBJpwTuNt0jgABMnbesqQqJx7KFQ+Fznow/ymvryCU/uGN7whi0vZ3pM+iQSRtBz18BExZDKshJispLj99G3KixGODOhuvEL5Ug54+syw1eGvNdJmZiNLWea2SVUgwOykKXJbPA/Xj7j32kgw+5VrbzyP8fRBm/AauP3tb78haDNIpzPZq8qrZjxzy1UROy9DR+OkZkLUOVY8jiG8WqOpuLyJYsCR+k9ZMMhkkDVdciPrNfc4xHC6FSi1PY9qYrZifQe5Dywu+uGApuVNclXY84dN4b4gRW383CYJCZSTd72ChyDreRwE9RIkubGE6jxdGJHXsS1pwAgWpJmKvUdKwIBmpaBSnrDQMKrlrxz9znfiC+NTMAvhWFWp4ydnGx69/nBEuuPAH+6YsfyRT08KExkZ/BEWI8qc+hhYnjiPygfIvpW/xfjIOVSvTzz1MImMjFVoc4yBcwrcIAoHmqYS/ZatZVE55Kp1YaXrwJn1SXnVZm0tr19Y8VkRde4VF37QaForbKI0hcAELYQT6RZV1mvucRiGlSEvbc+jTpjqKbeZvRdf3CBJQZ420apwAS+okhbvdagWIr8RpRbppNImJ6VIW5k0VyogyGwkqdS/ikZim3FWqY/TucPyxNwltQR3+SgUqdwriBR5Ntv0bdjGFJ4UJCchTegT326D5+6B6qB54QjuVWS1SSUYE1ardByEM4ziSfjm+SN0QaGvq3uj8HWm9BN3hWqmMSN15FFCZ3hUV0pcE4AEOsKIg1IhBBiNR/Asq0lYU1IJUS+Nod5gesK9JVx1txxaZbKFVfM2fCXCvyaVOAWCP00Pow6BKZ5w2LFb7eGKn4tXsyLqrCuui0hh3nhvjueFTZSmE+d1GOG2tLJec4/DMMWwpsVqex4VhH76d8899xzkarogSUGeNm2MOFv7GMmXLDXXu6OFC5sHuw7LFqUEtbvjXjIVeYY8dyDmXzl5KQZDiGEvqWe5j8pUfCrU3wZtaCsFNxCm4/pXnEFSNJUlD+MZizQqGMNA/DxhGEs6Fte10L+lwM8w5qWA4oi/qZjoiYApsXrjyOupfXQNLcLljDQmkNkfaJvYCEYIIVZyq1TWIqwOxNxOlBANFkhfiKL3iv8FohiRxUIx/F1PlUQoNLaUtoOpHyntDEbuHGGfCjPpAMurhhUI+3OeA8LDiKVVRI7HkAjQkb0C9JJHTyTRhwn5sOdA1FlXXHfBvlRSq6RhtG2ifJxh9iuEfPRc4p7V+qzs0up0zt1IMNO4nEiLrlD5VmLw43nP/bLI1MJAngehR2ttz70KX9/Gr+YbSWSziytONtEqztAeiZOfr8Ulf4Vc0fI5JRPppigXIB1XXjYaRSLyo5DuV1owFdDsfC5hGyiUelB3/rkEr0ln6MQhl+Rhv2r6iY6ahTOLwk2QL7JE1ZZbuejrzFQFKewwwiqLm8kDU2TeNMI8lWIYsdoKprhtvchJUmkkqCKiTp+26z/oP3XRRvvzLgLhUoRQY+/gwOcwzkFq/Yg3rPg3kvlucYtbAAVgRr4WEFYtzyg/Hiruu+++uq7T7MYeC6tGTR1ZtaKQj2VoJHcmnxoPMZK4FgxKaD+iMFJGGmX3A/mZpyeeG1FnWnHoCvKoZp4nLJ9+4ybKK+AqQsncllSp5xL3rDYeMszRcufctYkw8K2FEryd/fS3zdjo89lnv8wxyPRJkuOBOm+n7XnUibxrEHWoNI/BIMatIptoVXC+a5dTAOCc2okAhLd3/aIHTLrnKbq2cQnDqOPfRRa48VvHgfUuiBSOXdpLJAE3XRcRIj0BFpjgqNQzmeJlnGjo9FAjdxwz7CEthfA9Y3bgkh4q1LdxDKG2lfm0PEISMBmOTpX2kulRaTTgy06rNfcKag24LDd97FBzH6qdzlVbsCPLjb0dyj2hz4onzqCeyCDNpXMTRbJ/GaTK0++5xD2rLQjqoT7vOXfdhbndAc3pNC73ahxDz/0y3/gJ9MEh5dchaart+Xy9dH4V6ZrCO2wTrYrELXRrnR+vcgWqLXIJaaCSxx4ZqPCh9VlQdqlTv1tsleebxkYsxvLXQ7XmHjxMKLvx2EUIZKMusdKpzWZRMOOFLPLpk7ifupwB3eZB0pKUJlnRusRszb0c9Q9Blaqgzd91jo46V1xwBX6/zBJ1bqJQVKZbENvG2XOJe1abAxpjfNJz7rqG/6DE2Nx5o26f/TLfXOLWbDu3Ekva9ny+Xjq/iiCZyJ+7iVb5K/xNO5OMdbY+UwUyh8thbQCeZhUCPlM7qTJHhiA5aSKOyHAlKGdcDgtNOcRyviEt5ytplvgxk88W746zIvf0ghFIeCBsSTaVeo84QTJuXMcQriJ9/NpVjsxDnTcXUwBEknuyV1m1uDg0VrYF/CVNIw/VPqJteRadKy5bBycdKqlyX42biH6SqjaUQhpB8EQfdkK15xL3rNbZ3UgV5pt7+GeSrjpH1XO/dLZTrxARnBCs8qrt+RxddH5CrULnLOFOYN1JtCoiZ2e9Pa+zv0IFikd0O1lHsN6DXA1AO8Svl8GD+Y0Vmps1o5HMreUT0P7Bra/OVb9zAJZvAl57cUcDpt36VY1pPJg+3iu47MIIQzlD9cc5QmwEv8c+md+oN4NhKqfh0G9k+OVCyXSX3FLmgNi6f2Ktub305AMKky2vuA85AfW5O6O+iZAofI/FogFjifRHn/TQ/Zd4lTFh7rmHFbaTb+6/X+bA8wjFqdPLtudzdNH5iQ1uDPzRouZJtIpbthcM+51NDFIBoJETdIWMCY/DQWAo5w4EmUevFPS4ADxjpygdMwoX3k6mfpDpj9RI+Y7Bnp2KCSvcNwGYnfAkUWFBEE46CmattuuOKuORjDhSTzmAvMqNuhWPBvm5VSNDCwDoOanNuNp8WUFzgJRXXM3+eFXfRMEEi7aR36Qe+d62Lm1LvF6YMMfcoT1rMXEZH++QxBQmTxb7Ll/rwn5ZHNsjjrNuY257vniP9RbcNWEM6crmk2gVHo2lR9zDGL3W2wSFHHFZRwyLz/Ryem/sJVLeFXJbbODY1q5rGl1mQn5NnYSNByNmjYaWa5Np8oAih8l6x88wZs1xDuXLL3UkpbHPMZgNojdeO9iu8oDrm4h4gRklupVl8cqkGpd47TCh/9zVJE5Roopb4BQaefA42QoSiFw5bBlURBQ/+PvyfhkEPSJ5mOiXSmttzwfptNII0cXGT3evn0Sr1KP99K5wLdOAA+K9lru00UjiI9ruxRmw30JTUudZHozDcrqbegkIhBoHXoYVl/3ST77picjFBSs0tLkikS9A500oE4SXD4EBN1F9iTdjTIDbHDuJnmGFYfElOVCfplzbKkSodUSkFPbL4ovuZBaQWne1a3u+eI/1FjgcMFblmrb/olXC0ECnEmM0xjjqbcZNB33uDBxvPCRLNrPIPTWVpUGAwrZip6zn8KbRla8hubDTMbqpZMHbNZc2wS2qo6E2UdsSb8aYQIDIA9cc1hVPN6QCJ01d0blfFkS5yKSDM6i00/Z8we4aP5dhh+CUexr/F63yDfctjjoVn+8xhlJpk7Qr/mn5/VaGEfk76pLvEiAwddEGAcYSQaYp4JdBUQDWTAqlCbbLhMDim6htibdwTJDwmltTz2j0RVacyxIhLynfUlNtzxfpq/HbuFe9ci9rlVbhVQVXLtkPmPsDQrUKhiIjoWvqedHt4Cs0NdgIASEdPANpCHk8M1ZzL5RVa4LVykJg7k3UucRbOCZwgamnAhgcDZhjZGjjX1ppue354APQoGx5IqsqTkNVWqUewZOLKr3zGIOotwn6ot5chLGc7jp7EVtqqZbAvHSOZKqQQwAX5WIRQQiVpC8TlFYQAvNtop5L3LPaCoJlLYYU962726Ey2rbng09KCjEJ5+pSXQOtCnIluYUozsHHUWmQ/Vzc7qz3EY86KklEZGbrDK0fdQxT4xME1hoC0yZa0+XDo+PU3exaGX/b88GnSc9JsVcnVDradCcII01euKCIsIl8uuMV3UsgRqhKN2iASPjvb2ARR4xIywPd8+7qDRzq1PUEgdWEwLSJVnNdOkfFt5YT04EHHlip2fa8s8FZK7BUUfhLwVP/cCsEY9bmhqrP60+cF8VoXNTEcMoO4SqNDSdXBmNg/Ecb7/UYavpTOxMENm8ITJto7dZ31113Pfroo+t3VrU9X+YEN4xWSdlSua/WtElycqL3uWd2CTBCxRsvP11C11MXEwQ2DwhMm2i91rFtvVZhHf8XCiqpZBjJfLUAAAAASUVORK5CYII=\"></div>"
      ],
      "text/plain": [
       "FormBox[TagBox[RowBox[{\"(\", \"⁠\", \n",
       "\n",
       " \n",
       ">         TagBox[GridBox[{{RowBox[{OverscriptBox[\"r\", \"^\"], \" \", \n",
       "\n",
       " \n",
       ">               RowBox[{\"(\", RowBox[{\"-\", SubscriptBox[\"ϵ\", \"G\"]}], \")\"}], \" \", \n",
       "\n",
       " \n",
       ">               RowBox[{\"(\", RowBox[{RowBox[{RowBox[{\"sin\", \"(\", \n",
       "\n",
       " \n",
       ">                       RowBox[{\"2\", \" \", \"ϕ\"}], \")\"}], \" \", \n",
       "\n",
       " \n",
       ">                     TemplateBox[List[SubscriptBox[OverscriptBox[\"f\", \"^\"], \n",
       "\n",
       " \n",
       ">                        RowBox[List[\"x\", \",\", \"y\"]]], \"\\\"(5)\\\"\"], \"Superscript\", \n",
       "\n",
       " \n",
       ">                      Rule[SyntaxForm, SuperscriptBox]]}], \"+\", \n",
       "\n",
       " \n",
       ">                   RowBox[{RowBox[{SuperscriptBox[\"cos\", \"2\"], \"(\", \"ϕ\", \")\"}], \n",
       "\n",
       " \n",
       ">                     \" \", TemplateBox[List[SubscriptBox[OverscriptBox[\"f\", \"^\"], \n",
       "\n",
       " \n",
       ">                        RowBox[List[\"x\", \",\", \"x\"]]], \"\\\"(5)\\\"\"], \"Superscript\", \n",
       "\n",
       " \n",
       ">                      Rule[SyntaxForm, SuperscriptBox]]}], \"+\", \n",
       "\n",
       " \n",
       ">                   RowBox[{RowBox[{SuperscriptBox[\"sin\", \"2\"], \"(\", \"ϕ\", \")\"}], \n",
       "\n",
       " \n",
       ">                     \" \", TemplateBox[List[SubscriptBox[OverscriptBox[\"f\", \"^\"], \n",
       "\n",
       " \n",
       ">                        RowBox[List[\"y\", \",\", \"y\"]]], \"\\\"(5)\\\"\"], \"Superscript\", \n",
       "\n",
       " \n",
       ">                      Rule[SyntaxForm, SuperscriptBox]]}]}], \")\"}]}]}, \n",
       "\n",
       " \n",
       ">            {RowBox[{RowBox[{\"-\", FractionBox[\"1\", \"2\"]}], \" \", \n",
       "\n",
       " \n",
       ">               OverscriptBox[\"r\", \"^\"], \" \", SubscriptBox[\"ϵ\", \"G\"], \" \", \n",
       "\n",
       " \n",
       ">               RowBox[{\"(\", RowBox[{RowBox[{RowBox[{\"sin\", \"(\", \n",
       "\n",
       " \n",
       ">                       RowBox[{\"2\", \" \", \"ϕ\"}], \")\"}], \" \", \n",
       "\n",
       " \n",
       ">                     RowBox[{\"(\", RowBox[{TemplateBox[List[SubscriptBox[\n",
       "\n",
       " \n",
       ">                            OverscriptBox[\"f\", \"^\"], \n",
       "\n",
       " \n",
       ">                            RowBox[List[\"y\", \",\", \"y\"]]], \"\\\"(5)\\\"\"], \n",
       "\n",
       " \n",
       ">                          \"Superscript\", Rule[SyntaxForm, SuperscriptBox]], \"-\", \n",
       "\n",
       " \n",
       ">                         TemplateBox[List[SubscriptBox[OverscriptBox[\"f\", \"^\"], \n",
       "\n",
       " \n",
       ">                            RowBox[List[\"x\", \",\", \"x\"]]], \"\\\"(5)\\\"\"], \n",
       "\n",
       " \n",
       ">                          \"Superscript\", Rule[SyntaxForm, SuperscriptBox]]}], \")\"}]}\\\n",
       "\n",
       " \n",
       ">   ], \"+\", RowBox[{\"2\", \" \", RowBox[{\"cos\", \"(\", RowBox[{\"2\", \" \", \"ϕ\"}], \")\"}], \n",
       "\n",
       " \n",
       ">                     \" \", TemplateBox[List[SubscriptBox[OverscriptBox[\"f\", \"^\"], \n",
       "\n",
       " \n",
       ">                        RowBox[List[\"x\", \",\", \"y\"]]], \"\\\"(5)\\\"\"], \"Superscript\", \n",
       "\n",
       " \n",
       ">                      Rule[SyntaxForm, SuperscriptBox]]}]}], \")\"}]}]}}, \n",
       "\n",
       " \n",
       ">           Rule[RowSpacings, 1], Rule[ColumnAlignments, Center], \n",
       "\n",
       " \n",
       ">           Rule[ColumnAlignments, Left]], Column], \"⁠\", \")\"}], \n",
       "\n",
       " \n",
       ">       Function[BoxForm`e$, MatrixForm[BoxForm`e$]]], TraditionalForm]\n"
      ]
     },
     "execution_count": 821,
     "metadata": {
      "text/html": [],
      "text/plain": []
     },
     "output_type": "execute_result"
    }
   ],
   "source": [
    "RHSMotion = -Subscript[\\[Epsilon], G] FullSimplify[RotationMatrix[-\\[Phi][OverHat[t]]] . fh5rh, Trig -> True];\n",
    "RHSMotion // MatrixForm // TraditionalForm"
   ]
  },
  {
   "cell_type": "markdown",
   "metadata": {},
   "source": [
    "<span style=\"color:red\">**NB:**</span> Полученные выражения <span style=\"color:green\">**совпадают**</span> с уравнениями (10) и (9) из файла Binary.pdf"
   ]
  },
  {
   "cell_type": "markdown",
   "metadata": {
    "vscode": {
     "languageId": "wolfram"
    }
   },
   "source": [
    "## Получим теперь **энергетическую** систему уравнений\n",
    "\n",
    "В задача двух тел без учёта гравитационного излучения в системе центра масс в полярных координатах радиус-вектор $\\hat{r}_k$ задаётся как:\n",
    "$$\n",
    "\\hat{r}_k = \\hat{r} e_{1k} \\quad,\n",
    "$$\n",
    "где:\n",
    "- $\\hat{r}$ — расстояние между телами,\n",
    "- $e_{1k}$ — единичный вектор в направлении $\\hat{r}_k$.\n",
    "\n",
    "Скорость в полярных координатах выражается как:\n",
    "$$\n",
    "\\hat{r}_k^{(1)} = \\hat{r}^{(1)} e_{1k} + \\hat{r} \\phi^{(1)} e_{2k} \\quad,\n",
    "$$\n",
    "где:\n",
    "- $\\hat{r}^{(1)}$ — радиальная скорость\n",
    "- $\\hat{\\omega} \\equiv \\phi^{(1)}$ — угловая скорость\n",
    "- $e_{2k}$ — единичный вектор, перпендикулярный $e_{1k}$.\n",
    "\n",
    "### **Кинетическая энергия**\n",
    "Кинетическая энергия $T$ в полярных координатах выражается через радиальную и тангенциальную составляющие скорости:\n",
    "$$\n",
    "T = \\mu\\frac{b^2}{2 t_0^2} (\\hat{r}_k^{(1)})^2 = \\mu\\frac{b^2}{2 t_0^2} \\left( (\\hat{r}^{(1)})^2 + \\hat{r}^2 \\hat{\\omega}^2 \\right) = \\frac{G \\mu M}{b} \\frac{1}{2}\\left( (\\hat{r}^{(1)})^2 + \\hat{r}^2 \\hat{\\omega}^2 \\right)\n",
    "$$\n",
    "\n",
    "### **Потенциальная энергия**\n",
    "Потенциальная энергия $U$ зависит только от расстояния $\\hat{r}$:\n",
    "- Для гравитационного взаимодействия:\n",
    "  $$\n",
    "  U = -\\frac{G m_A m_B}{b \\hat{r}} = -\\frac{G \\mu M}{b \\hat{r}}.\n",
    "  $$\n",
    "\n",
    "### **Полная энергия**\n",
    "Полная энергия $E$ в полярных координатах:\n",
    "$$\n",
    "E = T + U = \\frac{G \\mu M}{b}\\left(\\frac{(\\hat{r}^{(1)})^2}{2} + \\frac{\\hat{r}^2 \\hat{\\omega}^2}{2} - \\frac{1}{\\hat{r}}\\right) = \\frac{G \\mu M}{b} \\hat{E}\n",
    "$$\n",
    "\n",
    "Здесь $\\hat{E}$ - безразмерная энергия:"
   ]
  },
  {
   "cell_type": "code",
   "execution_count": 823,
   "metadata": {
    "vscode": {
     "languageId": "wolfram"
    }
   },
   "outputs": [
    {
     "data": {
      "text/html": [
       "<div><img alt=\"Output\" src=\"data:image/png;base64,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\"></div>"
      ],
      "text/plain": [
       "FormBox[RowBox[{RowBox[{FractionBox[\"1\", \"2\"], \" \", \n",
       "\n",
       " \n",
       ">          SuperscriptBox[OverscriptBox[\"r\", \"^\"], \"2\"], \" \", \n",
       "\n",
       " \n",
       ">          SuperscriptBox[OverscriptBox[\"ω\", \"^\"], \"2\"]}], \"+\", \n",
       "\n",
       " \n",
       ">        RowBox[{FractionBox[\"1\", \"2\"], \" \", \n",
       "\n",
       " \n",
       ">          SuperscriptBox[RowBox[{\"(\", SuperscriptBox[OverscriptBox[\"r\", \"^\"], \"′\"], \n",
       "\n",
       " \n",
       ">             \")\"}], \"2\"]}], \"-\", FractionBox[\"1\", OverscriptBox[\"r\", \"^\"]]}], \n",
       "\n",
       " \n",
       ">      TraditionalForm]\n"
      ]
     },
     "execution_count": 823,
     "metadata": {
      "text/html": [],
      "text/plain": []
     },
     "output_type": "execute_result"
    }
   ],
   "source": [
    "Energy = (D[OverHat[r][OverHat[t]], OverHat[t]])^2/2 + (OverHat[r][OverHat[t]] OverHat[\\[Omega]][OverHat[t]])^2/2 - 1/OverHat[r][OverHat[t]];\n",
    "Energy // TraditionalForm"
   ]
  },
  {
   "cell_type": "markdown",
   "metadata": {},
   "source": [
    "### **Момента импульса**\n",
    "Момент импульса $J$ в системе центра масс:\n",
    "$$\n",
    "J = \\mu\\frac{b^2}{t_0} \\hat{r}^2 \\hat{\\omega} = \\mu(G M)^{1/2} b^{3/2} \\hat{r}^2 \\hat{\\omega} = \\mu(G M)^{1/2} b^{3/2} \\hat{J}\n",
    "$$\n",
    "\n",
    "Здесь $\\hat{J}$ - безразмерный момент импульса:"
   ]
  },
  {
   "cell_type": "code",
   "execution_count": 825,
   "metadata": {
    "vscode": {
     "languageId": "wolfram"
    }
   },
   "outputs": [
    {
     "data": {
      "text/html": [
       "<div><img alt=\"Output\" src=\"data:image/png;base64,iVBORw0KGgoAAAANSUhEUgAAACsAAAAeCAIAAAA6iHCJAAAAzXpUWHRSYXcgcHJvZmlsZSB0eXBlIGV4aWYAAHjabU9tDkIhDPvPKTzC2KCD4/AUE2/g8S0P1GBsQle6D1joz8c9XAY0SkjZCyogRKqpaqMoMjFjlHryCT1WLu5+iH35jVb+JvD2j913rIHlZ5DoFDZeoLa0GtYg0+nHNu/HqtdWyj7IZEOVz9f/3pO5IiN6IicVd1TqEigZkFWy444rwMKIm0q6Mna4sw0+KqyNxgHtvlf3AKNxGyvYONkao5GjcSNyPR0nj88cK3suEl6T6FrpN1z1KAAAAAlwSFlzAAAWJQAAFiUBSVIk8AAAADx0RVh0U29mdHdhcmUAQ3JlYXRlZCB3aXRoIHRoZSBXb2xmcmFtIExhbmd1YWdlIDogd3d3LndvbGZyYW0uY29tXKKmhQAAACF0RVh0Q3JlYXRpb24gVGltZQAyMDI1OjAzOjEwIDE5OjA3OjQ3Xe9pzgAAA+FJREFUSEvtVlsos2Ec3+aQnGIOUUgLJbUkp4wbLiQl4cIFymk53cghLVy4JOVuOZVacyhXRBiiRkmI1i7kULhyzpwZ3+/tWc/2bW3P3m/fl5vvra33/T//5/f//Y/PI/z+/hawnqOjo7GxsYuLi7i4uJqamtDQUNYOPutg4PiZmZnx8PBwc3MjqEFBQYeHh6xNPNYFjnUNBkNYWNjk5OTHx8f6+npKSgpIFBUV8bDAUmUwUKvV3d3dFGR2dhYMoqKiWLA81hkM9Ho9wkDx3t/fkZHExEQeFliqIloz0Hx5eUG0LasoPj7e19eXSq6urqCQk5PDp9I4J22RzQiUYltbG6TBwcGoeXu8e3p6AgMDwYPl2G/rjpFNWZibmxMKhYRXVlbW5+enrY3T01OYX1lZ4WWeicwxOD8/R49FR0cfHBw0NzeDhEKhsDKDapBKpaOjo7zMO4MsgLuZmZkZGRmXl5cEXalUenp6Li4uUmPQKSgo6O3t5WXeGWQAClBZCOzr66sluk6no2Pn6+urqqqqs7OTKjw9PbW0tDDZMJEJghA/JHhra2tnZ2d3d1cmk6HclpaWBgYGxGLx0NBQV1cX3isqKkihgCs0a2trW1tbHXcEWhfsvby8rNRgET6YWwzf/f39hYWFRA+hnpiYcHd3J59NTU22ZpAjmjJ7kdBoNBimIyMjtgpnZ2cYKtvb22TJ1At3d3fE0vT0dEhISF9fn4+PD14cdKaDLCwsLMCHyspKezqpqakJCQlGo9HMYG1tDeYDAgKys7OHh4ex8Pj4+Pb2xky2rQIays/PD+fn7e2tve3l5eUwB00omGbi6uoqRPf39w8PD9XV1XhHDBBtXrMPykCUy+Vo3Y6ODgwPsh0u4ShBc1E0uIr3jY0NTkJopqWlkWUcgH/gN90yPj4OEG9vb6SVCktKSpD46+trKkFvQ62urs6UBYRLJOKCkZ+f74p57EUSgVNcXGyJExMTk5eXZymRSCRQI6cuZ3h5eRltQ0jxDbuV/v7+PiSxsbFUjq45Pj5OT0+nErTJyckJPsltg2OA7sd/eHg4mLrCAGV0c3MDBMtr3ODgIBxNTk6myGh4vOPCZzpjsRwZGQkRTgQXU4Dt6AJAYXwRKJQkHINkb2+PSDDfOL9Fos3NTSIR4A5C2Gm1WtcZNDQ0kEpsb2/H/Qpxrq+vx5GWm5urUqnKysqwCpZTU1PUlgBRInEj88HFB+O2sbHR398fmLhqYHI/Pz/Pz88nJSVhqEdERJSWllpddLlzwZXc29uLgWZ5uYIaqCA2tvr/ioHzXpnvic7v+bua/xmQifSzz88z+AUG9ZDrhvIkKgAAAABJRU5ErkJggg==\"></div>"
      ],
      "text/plain": [
       "FormBox[RowBox[{SuperscriptBox[OverscriptBox[\"r\", \"^\"], \"2\"], \" \", \n",
       "\n",
       " \n",
       ">        OverscriptBox[\"ω\", \"^\"]}], TraditionalForm]\n"
      ]
     },
     "execution_count": 825,
     "metadata": {
      "text/html": [],
      "text/plain": []
     },
     "output_type": "execute_result"
    }
   ],
   "source": [
    "AngularMomentum = (OverHat[r][OverHat[t]])^2 OverHat[\\[Omega]][OverHat[t]];\n",
    "AngularMomentum // TraditionalForm"
   ]
  },
  {
   "cell_type": "markdown",
   "metadata": {},
   "source": [
    "Отсюда $\\frac{1}{\\hat{r}^{(1)}}\\left(\\frac{d\\hat{E}}{d\\hat{t}} - \\hat{\\omega} \\frac{d\\hat{J}}{d\\hat{t}}\\right)$"
   ]
  },
  {
   "cell_type": "code",
   "execution_count": 826,
   "metadata": {
    "vscode": {
     "languageId": "wolfram"
    }
   },
   "outputs": [
    {
     "data": {
      "text/html": [
       "<div><img alt=\"Output\" src=\"data:image/png;base64,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\"></div>"
      ],
      "text/plain": [
       "FormBox[RowBox[{RowBox[{\"-\", RowBox[{RowBox[{OverscriptBox[\"r\", \"^\"]}], \" \", \n",
       "\n",
       " \n",
       ">            SuperscriptBox[OverscriptBox[\"ω\", \"^\"], \"2\"]}]}], \"+\", \n",
       "\n",
       " \n",
       ">        SuperscriptBox[OverscriptBox[\"r\", \"^\"], \"′′\"], \"+\", \n",
       "\n",
       " \n",
       ">        FractionBox[\"1\", SuperscriptBox[OverscriptBox[\"r\", \"^\"], \"2\"]]}],\\\n",
       " \n",
       ">    TraditionalForm]\n"
      ]
     },
     "execution_count": 826,
     "metadata": {
      "text/html": [],
      "text/plain": []
     },
     "output_type": "execute_result"
    }
   ],
   "source": [
    "Simplify[(D[Energy, OverHat[t]] - (AngularMomentum/OverHat[r][OverHat[t]]^2)(D[AngularMomentum, OverHat[t]]))/(D[OverHat[r][OverHat[t]], OverHat[t]])] // TraditionalForm"
   ]
  },
  {
   "cell_type": "markdown",
   "metadata": {},
   "source": [
    "Что совпадает с **первой** строкой повернутой LHS системы движения"
   ]
  },
  {
   "cell_type": "markdown",
   "metadata": {},
   "source": [
    "Отсюда $\\frac{1}{\\hat{r}}\\frac{d\\hat{J}}{d\\hat{t}}$"
   ]
  },
  {
   "cell_type": "code",
   "execution_count": 827,
   "metadata": {
    "vscode": {
     "languageId": "wolfram"
    }
   },
   "outputs": [
    {
     "data": {
      "text/html": [
       "<div><img alt=\"Output\" src=\"data:image/png;base64,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\"></div>"
      ],
      "text/plain": [
       "FormBox[RowBox[{RowBox[{\"2\", \" \", OverscriptBox[\"ω\", \"^\"], \" \", \n",
       "\n",
       " \n",
       ">          SuperscriptBox[OverscriptBox[\"r\", \"^\"], \"′\"]}], \"+\", \n",
       "\n",
       " \n",
       ">        RowBox[{OverscriptBox[\"r\", \"^\"], \" \", \n",
       "\n",
       " \n",
       ">          SuperscriptBox[OverscriptBox[\"ω\", \"^\"], \"′\"]}]}], TraditionalForm]\n"
      ]
     },
     "execution_count": 827,
     "metadata": {
      "text/html": [],
      "text/plain": []
     },
     "output_type": "execute_result"
    }
   ],
   "source": [
    "Simplify[D[AngularMomentum, OverHat[t]]/OverHat[r][OverHat[t]]] // TraditionalForm"
   ]
  },
  {
   "cell_type": "markdown",
   "metadata": {},
   "source": [
    "Что совпадает со **второй** строкой повернутой LHS системы движения"
   ]
  },
  {
   "cell_type": "markdown",
   "metadata": {},
   "source": [
    "Таким образом, мы можем выписать новую **энергетическую** систему уравнений\n",
    "\n",
    "$$\n",
    "\\begin{align}\n",
    "\\frac{d\\hat{E}}{d\\hat{t}} &= - \\epsilon_G \\left(\\hat{r}^{(1)} R_{xi}(-\\phi) \\hat{f}_{ij}^{(5)}\\hat{r}_j + \\hat{r}\\hat\\omega R_{yi}(-\\phi) \\hat{f}_{ij}^{(5)}\\hat{r}_j \\right)\n",
    "\\\\\n",
    "\\frac{d\\hat{J}}{d\\hat{t}} &= - \\epsilon_G \\hat{r} R_{yi}(-\\phi) \\hat{f}_{ij}^{(5)}\\hat{r}_j\n",
    "\\end{align}\n",
    "$$"
   ]
  },
  {
   "cell_type": "markdown",
   "metadata": {},
   "source": [
    "Или\n",
    "\n",
    "$$\n",
    "\\left(\\frac{d\\hat{E}}{d\\hat{t}}, \\frac{d\\hat{J}}{d\\hat{t}}\\right) = - \\epsilon_G T_{nk} R_{ki}(-\\phi) \\hat{f}_{ij}^{(5)}\\hat{r}_j\\quad,\n",
    "$$\n",
    "\n",
    "Чтобы перейти в размерный вид, достаточно положить $\\epsilon_G \\equiv \\frac{2}{5}\\mu$."
   ]
  },
  {
   "cell_type": "markdown",
   "metadata": {},
   "source": [
    "Здесь\n",
    "$$\n",
    "T = \n",
    "\\begin{bmatrix}\n",
    "\\hat{r}^{(1)} & \\hat{r}\\hat{\\omega} \\\\\n",
    "0 & \\hat{r}\n",
    "\\end{bmatrix}\n",
    "$$\n",
    "матрица трансформации:"
   ]
  },
  {
   "cell_type": "code",
   "execution_count": 829,
   "metadata": {
    "vscode": {
     "languageId": "wolfram"
    }
   },
   "outputs": [
    {
     "data": {
      "text/html": [
       "<div><img alt=\"Output\" src=\"data:image/png;base64,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\"></div>"
      ],
      "text/plain": [
       "FormBox[TagBox[RowBox[{\"(\", \"⁠\", \n",
       "\n",
       " \n",
       ">         GridBox[{{SuperscriptBox[OverscriptBox[\"r\", \"^\"], \"′\"], \n",
       "\n",
       " \n",
       ">            RowBox[{OverscriptBox[\"r\", \"^\"], \" \", OverscriptBox[\"ω\", \"^\"]}]}, \n",
       "\n",
       " \n",
       ">           {\"0\", OverscriptBox[\"r\", \"^\"]}}, Rule[RowSpacings, 1], \n",
       "\n",
       " \n",
       ">          Rule[ColumnSpacings, 1], Rule[RowAlignments, Baseline], \n",
       "\n",
       " \n",
       ">          Rule[ColumnAlignments, Center]], \"⁠\", \")\"}], \n",
       "\n",
       " \n",
       ">       Function[BoxForm`e$, MatrixForm[BoxForm`e$]]], TraditionalForm]\n"
      ]
     },
     "execution_count": 829,
     "metadata": {
      "text/html": [],
      "text/plain": []
     },
     "output_type": "execute_result"
    }
   ],
   "source": [
    "Transform = {{D[OverHat[r][OverHat[t]], OverHat[t]], OverHat[r][OverHat[t]] OverHat[\\[Omega]][OverHat[t]]}, {0, OverHat[r][OverHat[t]]}};\n",
    "Transform // MatrixForm // TraditionalForm"
   ]
  },
  {
   "cell_type": "markdown",
   "metadata": {},
   "source": [
    "Итак правая часть энергетической системы запишется как"
   ]
  },
  {
   "cell_type": "code",
   "execution_count": 831,
   "metadata": {
    "vscode": {
     "languageId": "wolfram"
    }
   },
   "outputs": [
    {
     "data": {
      "text/html": [
       "<div><img alt=\"Output\" src=\"data:image/png;base64,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\"></div>"
      ],
      "text/plain": [
       "FormBox[TagBox[RowBox[{\"(\", \"⁠\", \n",
       "\n",
       " \n",
       ">         TagBox[GridBox[{{RowBox[{FractionBox[\"1\", \"2\"], \" \", \n",
       "\n",
       " \n",
       ">               OverscriptBox[\"r\", \"^\"], \" \", SubscriptBox[\"ϵ\", \"G\"], \" \", \n",
       "\n",
       " \n",
       ">               RowBox[{\"(\", RowBox[{RowBox[{OverscriptBox[\"r\", \"^\"], \" \", \n",
       "\n",
       " \n",
       ">                     OverscriptBox[\"ω\", \"^\"], \" \", \n",
       "\n",
       " \n",
       ">                     RowBox[{\"(\", RowBox[{RowBox[{RowBox[{\"sin\", \"(\", \n",
       "\n",
       " \n",
       ">                             RowBox[{\"2\", \" \", \"ϕ\"}], \")\"}], \" \", \n",
       "\n",
       " \n",
       ">                           RowBox[{\"(\", \n",
       "\n",
       " \n",
       ">                             RowBox[{TemplateBox[List[SubscriptBox[\n",
       "\n",
       " \n",
       ">                            OverscriptBox[\"f\", \"^\"], \n",
       "\n",
       " \n",
       ">                            RowBox[List[\"x\", \",\", \"x\"]]], \"\\\"(5)\\\"\"], \n",
       "\n",
       " \n",
       ">                             \"Superscript\", Rule[SyntaxForm, SuperscriptBox]], \n",
       "\n",
       " \n",
       ">                             \"-\", \n",
       "\n",
       " \n",
       ">                             TemplateBox[List[SubscriptBox[OverscriptB\\\n",
       "\n",
       " \n",
       ">   ox[\"f\", \"^\"], RowBox[List[\"y\", \",\", \"y\"]]], \"\\\"(5)\\\"\"], \"Superscript\", \n",
       "\n",
       " \n",
       ">                             Rule[SyntaxForm, SuperscriptBox]]}], \")\"}]}], \"-\", \n",
       "\n",
       " \n",
       ">                         RowBox[{\"2\", \" \", \n",
       "\n",
       " \n",
       ">                           RowBox[{\"cos\", \"(\", RowBox[{\"2\", \" \", \"ϕ\"}], \")\"}], \n",
       "\n",
       " \n",
       ">                           \" \", TemplateBox[List[SubscriptBox[OverscriptB\\\n",
       "\n",
       " \n",
       ">   ox[\"f\", \"^\"], RowBox[List[\"x\", \",\", \"y\"]]], \"\\\"(5)\\\"\"], \"Superscript\", \n",
       "\n",
       " \n",
       ">                            Rule[SyntaxForm, SuperscriptBox]]}]}], \")\"}]}], \"-\", \n",
       "\n",
       " \n",
       ">                   RowBox[{\"2\", \" \", SuperscriptBox[OverscriptBox[\"r\", \"^\"], \"′\"], \n",
       "\n",
       " \n",
       ">                     \" \", RowBox[{\"(\", \n",
       "\n",
       " \n",
       ">                       RowBox[{RowBox[{RowBox[{\"sin\", \"(\", \n",
       "\n",
       " \n",
       ">                             RowBox[{\"2\", \" \", \"ϕ\"}], \")\"}], \" \", \n",
       "\n",
       " \n",
       ">                           TemplateBox[List[SubscriptBox[OverscriptBox[\"f\", \n",
       "\n",
       " \n",
       ">                             \"^\"], RowBox[List[\"x\", \",\", \"y\"]]], \"\\\"(5)\\\"\"], \n",
       "\n",
       " \n",
       ">                            \"Superscript\", Rule[SyntaxForm, SuperscriptBox]]}], \n",
       "\n",
       " \n",
       ">                         \"+\", RowBox[{RowBox[{SuperscriptBox[\"cos\", \"2\"], \"(\", \n",
       "\n",
       " \n",
       ">                             \"ϕ\", \")\"}], \" \", \n",
       "\n",
       " \n",
       ">                           TemplateBox[List[SubscriptBox[OverscriptBox[\"f\", \n",
       "\n",
       " \n",
       ">                             \"^\"], RowBox[List[\"x\", \",\", \"x\"]]], \"\\\"(5)\\\"\"], \n",
       "\n",
       " \n",
       ">                            \"Superscript\", Rule[SyntaxForm, SuperscriptBox]]}], \n",
       "\n",
       " \n",
       ">                         \"+\", RowBox[{RowBox[{SuperscriptBox[\"sin\", \"2\"], \"(\", \n",
       "\n",
       " \n",
       ">                             \"ϕ\", \")\"}], \" \", \n",
       "\n",
       " \n",
       ">                           TemplateBox[List[SubscriptBox[OverscriptBox[\"f\", \n",
       "\n",
       " \n",
       ">                             \"^\"], RowBox[List[\"y\", \",\", \"y\"]]], \"\\\"(5)\\\"\"], \n",
       "\n",
       " \n",
       ">                            \"Superscript\", Rule[SyntaxForm, SuperscriptBox]]}]}], \n",
       "\n",
       " \n",
       ">                       \")\"}]}]}], \")\"}]}]}, \n",
       "\n",
       " \n",
       ">            {RowBox[{RowBox[{\"-\", FractionBox[\"1\", \"2\"]}], \" \", \n",
       "\n",
       " \n",
       ">               SuperscriptBox[OverscriptBox[\"r\", \"^\"], \"2\"], \" \", \n",
       "\n",
       " \n",
       ">               SubscriptBox[\"ϵ\", \"G\"], \" \", \n",
       "\n",
       " \n",
       ">               RowBox[{\"(\", RowBox[{RowBox[{RowBox[{\"sin\", \"(\", \n",
       "\n",
       " \n",
       ">                       RowBox[{\"2\", \" \", \"ϕ\"}], \")\"}], \" \", \n",
       "\n",
       " \n",
       ">                     RowBox[{\"(\", RowBox[{TemplateBox[List[SubscriptBox[\n",
       "\n",
       " \n",
       ">                            OverscriptBox[\"f\", \"^\"], \n",
       "\n",
       " \n",
       ">                            RowBox[List[\"y\", \",\", \"y\"]]], \"\\\"(5)\\\"\"], \n",
       "\n",
       " \n",
       ">                          \"Superscript\", Rule[SyntaxForm, SuperscriptBox]], \"-\", \n",
       "\n",
       " \n",
       ">                         TemplateBox[List[SubscriptBox[OverscriptBox[\"f\", \"^\"], \n",
       "\n",
       " \n",
       ">                            RowBox[List[\"x\", \",\", \"x\"]]], \"\\\"(5)\\\"\"], \n",
       "\n",
       " \n",
       ">                          \"Superscript\", Rule[SyntaxForm, SuperscriptBox]]}], \")\"}]}\\\n",
       "\n",
       " \n",
       ">   ], \"+\", RowBox[{\"2\", \" \", RowBox[{\"cos\", \"(\", RowBox[{\"2\", \" \", \"ϕ\"}], \")\"}], \n",
       "\n",
       " \n",
       ">                     \" \", TemplateBox[List[SubscriptBox[OverscriptBox[\"f\", \"^\"], \n",
       "\n",
       " \n",
       ">                        RowBox[List[\"x\", \",\", \"y\"]]], \"\\\"(5)\\\"\"], \"Superscript\", \n",
       "\n",
       " \n",
       ">                      Rule[SyntaxForm, SuperscriptBox]]}]}], \")\"}]}]}}, \n",
       "\n",
       " \n",
       ">           Rule[RowSpacings, 1], Rule[ColumnAlignments, Center], \n",
       "\n",
       " \n",
       ">           Rule[ColumnAlignments, Left]], Column], \"⁠\", \")\"}], \n",
       "\n",
       " \n",
       ">       Function[BoxForm`e$, MatrixForm[BoxForm`e$]]], TraditionalForm]\n"
      ]
     },
     "execution_count": 831,
     "metadata": {
      "text/html": [],
      "text/plain": []
     },
     "output_type": "execute_result"
    }
   ],
   "source": [
    "RHSEnegry = FullSimplify[Transform . RHSMotion, Trig -> True];\n",
    "RHSEnegry // MatrixForm // TraditionalForm"
   ]
  },
  {
   "cell_type": "markdown",
   "metadata": {},
   "source": [
    "## Другой Способ получения уравнений движения и энергетических уравнений через лагранжев формализм в полярных координатах"
   ]
  },
  {
   "cell_type": "markdown",
   "metadata": {},
   "source": [
    "### **Лагранжиан системы**\n",
    "Лагранжиан $L$ в полярных координатах $(r, \\phi)$ выражается как:\n",
    "$$\n",
    "L = T - (U + \\mu\\Phi),\n",
    "$$\n",
    "где:\n",
    "- $T$ — кинетическая энергия,\n",
    "- $U$ — потенциальная энергия\n",
    "- $\\Phi = \\frac{1}{5}f_{ij}^{(5)}r_i r_j = \\frac{\\epsilon_G}{2}\\frac{b^2}{t_0^2}\\hat{f}_{ij}^{(5)}\\hat{r}_i \\hat{r}_j = \\frac{5}{2}\\epsilon_G\\frac{GM}{b}\\hat{\\Phi}$ - малый потенциал \"реакции излучения\""
   ]
  },
  {
   "cell_type": "markdown",
   "metadata": {},
   "source": [
    "Безразмерный малый потенциал \"реакции излучения\" $\\hat{\\Phi} = \\frac{1}{5}\\hat{f}_{ij}^{(5)}\\hat{r}_i\\hat{r}_j$"
   ]
  },
  {
   "cell_type": "code",
   "execution_count": 833,
   "metadata": {
    "vscode": {
     "languageId": "wolfram"
    }
   },
   "outputs": [
    {
     "data": {
      "text/html": [
       "<div><img alt=\"Output\" src=\"data:image/png;base64,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\"></div>"
      ],
      "text/plain": [
       "FormBox[RowBox[{FractionBox[\"1\", \"5\"], \" \", \n",
       "\n",
       " \n",
       ">        RowBox[{\"(\", RowBox[{RowBox[{OverscriptBox[\"r\", \"^\"], \" \", \n",
       "\n",
       " \n",
       ">              RowBox[{\"cos\", \"(\", \"ϕ\", \")\"}], \" \", \n",
       "\n",
       " \n",
       ">              RowBox[{\"(\", RowBox[{RowBox[{OverscriptBox[\"r\", \"^\"], \" \", \n",
       "\n",
       " \n",
       ">                    RowBox[{\"sin\", \"(\", \"ϕ\", \")\"}], \" \", \n",
       "\n",
       " \n",
       ">                    TemplateBox[List[SubscriptBox[OverscriptBox[\"f\", \"^\"], \n",
       "\n",
       " \n",
       ">                       RowBox[List[\"x\", \",\", \"y\"]]], \"\\\"(5)\\\"\"], \"Superscript\", \n",
       "\n",
       " \n",
       ">                     Rule[SyntaxForm, SuperscriptBox]]}], \"+\", \n",
       "\n",
       " \n",
       ">                  RowBox[{OverscriptBox[\"r\", \"^\"], \" \", \n",
       "\n",
       " \n",
       ">                    RowBox[{\"cos\", \"(\", \"ϕ\", \")\"}], \" \", \n",
       "\n",
       " \n",
       ">                    TemplateBox[List[SubscriptBox[OverscriptBox[\"f\", \"^\"], \n",
       "\n",
       " \n",
       ">                       RowBox[List[\"x\", \",\", \"x\"]]], \"\\\"(5)\\\"\"], \"Superscript\", \n",
       "\n",
       " \n",
       ">                     Rule[SyntaxForm, SuperscriptBox]]}]}], \")\"}]}], \"+\", \n",
       "\n",
       " \n",
       ">            RowBox[{OverscriptBox[\"r\", \"^\"], \" \", RowBox[{\"sin\", \"(\", \"ϕ\", \")\"}], \" \", \n",
       "\n",
       " \n",
       ">              RowBox[{\"(\", RowBox[{RowBox[{OverscriptBox[\"r\", \"^\"], \" \", \n",
       "\n",
       " \n",
       ">                    RowBox[{\"cos\", \"(\", \"ϕ\", \")\"}], \" \", \n",
       "\n",
       " \n",
       ">                    TemplateBox[List[SubscriptBox[OverscriptBox[\"f\", \"^\"], \n",
       "\n",
       " \n",
       ">                       RowBox[List[\"x\", \",\", \"y\"]]], \"\\\"(5)\\\"\"], \"Superscript\", \n",
       "\n",
       " \n",
       ">                     Rule[SyntaxForm, SuperscriptBox]]}], \"+\", \n",
       "\n",
       " \n",
       ">                  RowBox[{OverscriptBox[\"r\", \"^\"], \" \", RowBox[{\"sin\", \"(\", \"ϕ\", \")\"}],\\\n",
       " \n",
       ">    \n",
       "                 \" \", TemplateBox[List[SubscriptBox[OverscriptBox[\"f\", \"^\"], \n",
       "\n",
       " \n",
       ">                       RowBox[List[\"y\", \",\", \"y\"]]], \"\\\"(5)\\\"\"], \"Superscript\", \n",
       "\n",
       " \n",
       ">                     Rule[SyntaxForm, SuperscriptBox]]}]}], \")\"}]}]}], \")\"}]}], \n",
       "\n",
       " \n",
       ">      TraditionalForm]\n"
      ]
     },
     "execution_count": 833,
     "metadata": {
      "text/html": [],
      "text/plain": []
     },
     "output_type": "execute_result"
    }
   ],
   "source": [
    "fh5rhrh = 1/5 EinsteinSummation[{{i, j}, {i}, {j}}, {fh5, rh, rh}];\n",
    "fh5rhrh // TraditionalForm"
   ]
  },
  {
   "cell_type": "markdown",
   "metadata": {},
   "source": [
    "Безразмерный лагранжиан\n",
    "\n",
    "$$\n",
    "\\hat{L} = \\hat{T} - (\\hat{U} + \\frac{5}{2}\\epsilon_G\\hat{\\Phi}),\n",
    "$$\n",
    "или\n",
    "$$\n",
    "\\hat{L} = \\frac{1}{2} \\left((\\hat{r}^{(1)})^2 + \\hat{r}^2 \\hat{\\omega}^2 \\right) + \\frac{1}{\\hat{r}} - \\frac{\\epsilon_G}{2}\\hat{f}_{ij}^{(5)}\\hat{r}_i \\hat{r}_j.\n",
    "$$"
   ]
  },
  {
   "cell_type": "markdown",
   "metadata": {},
   "source": [
    "### **Уравнения Эйлера-Лагранжа**\n",
    "Уравнения Эйлера-Лагранжа имеют вид:\n",
    "$$\n",
    "\\frac{d}{dt} \\left( \\frac{\\partial \\hat{L}}{\\partial \\dot{q}_i} \\right) - \\frac{\\partial \\hat{L}}{\\partial q_i} = 0,\n",
    "$$\n",
    "где $q_i$ — обобщённые координаты ($\\hat{r}$ и $\\phi$)."
   ]
  },
  {
   "cell_type": "markdown",
   "metadata": {},
   "source": [
    "---\n",
    "\n",
    "#### Уравнение для координаты $\\hat{r}$:\n",
    "$$\n",
    "\\frac{d}{d\\hat{t}} \\left(\\frac{\\partial \\hat{L}}{\\partial \\hat{r}^{(1)}} \\right) - \\frac{\\partial \\hat{L}}{\\partial \\hat{r}} = 0.\n",
    "$$\n",
    "Вычислим производные:\n",
    "$$\n",
    "\\frac{\\partial \\hat{L}}{\\partial \\hat{r}^{(1)}} = \\hat{r}^{(1)}, \\quad \\frac{d}{d\\hat{t}} \\left( \\frac{\\partial \\hat{L}}{\\partial \\hat{r}^{(1)}} \\right) = \\hat{r}^{(2)},\n",
    "$$\n",
    "$$\n",
    "\\frac{\\partial \\hat{L}}{\\partial \\hat{r}} = \\hat{r} \\hat{\\omega}^2 - \\frac{1}{\\hat{r}^2} - \\frac{5}{2}\\epsilon_G\\frac{\\partial \\hat{\\Phi}}{\\partial \\hat{r}}.\n",
    "$$\n",
    "Подставляем в уравнение Эйлера-Лагранжа:\n",
    "$$\n",
    "\\hat{r}^{(2)} - \\hat{r} \\hat{\\omega}^2 + \\frac{1}{\\hat{r}^2} = - \\frac{5}{2}\\epsilon_G\\frac{\\partial \\hat{\\Phi}}{\\partial \\hat{r}}.\n",
    "$$\n",
    "\n",
    "Это **радиальное уравнение движения**.\n",
    "\n",
    "Здесь \n",
    "$$\n",
    "\\frac{\\partial \\hat{\\Phi}}{\\partial \\hat{r}} = \\frac{1}{5}\\hat{f}_{ij}^{(5)}\\left(\\frac{\\partial \\hat{r}_i}{\\partial \\hat{r}}\\hat{r}_j + \\hat{r}_i\\frac{\\partial \\hat{r}_j}{\\partial \\hat{r}}\\right)\n",
    "$$\n",
    "<span style=\"color:red\">**TODO:**</span> Обсудить почему $\\hat{f}_{ij}^{(5)}$ берётся заданной функцией, не зависящей от $\\hat{r}$ при вариации лагранжиана."
   ]
  },
  {
   "cell_type": "markdown",
   "metadata": {},
   "source": [
    "Правая часть радиального уравнения движения будет выглядеть как"
   ]
  },
  {
   "cell_type": "code",
   "execution_count": 835,
   "metadata": {
    "vscode": {
     "languageId": "wolfram"
    }
   },
   "outputs": [
    {
     "data": {
      "text/html": [
       "<div><img alt=\"Output\" src=\"data:image/png;base64,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\"></div>"
      ],
      "text/plain": [
       "FormBox[RowBox[{OverscriptBox[\"r\", \"^\"], \" \", \n",
       "\n",
       " \n",
       ">        RowBox[{\"(\", RowBox[{\"-\", SubscriptBox[\"ϵ\", \"G\"]}], \")\"}], \" \", \n",
       "\n",
       " \n",
       ">        RowBox[{\"(\", RowBox[{RowBox[{RowBox[{\"sin\", \"(\", RowBox[{\"2\", \" \", \"ϕ\"}], \n",
       "\n",
       " \n",
       ">                \")\"}], \" \", TemplateBox[List[SubscriptBox[OverscriptBox[\"f\", \"^\"], \n",
       "\n",
       " \n",
       ">                 RowBox[List[\"x\", \",\", \"y\"]]], \"\\\"(5)\\\"\"], \"Superscript\", \n",
       "\n",
       " \n",
       ">               Rule[SyntaxForm, SuperscriptBox]]}], \"+\", \n",
       "\n",
       " \n",
       ">            RowBox[{RowBox[{SuperscriptBox[\"cos\", \"2\"], \"(\", \"ϕ\", \")\"}], \" \", \n",
       "\n",
       " \n",
       ">              TemplateBox[List[SubscriptBox[OverscriptBox[\"f\", \"^\"], \n",
       "\n",
       " \n",
       ">                 RowBox[List[\"x\", \",\", \"x\"]]], \"\\\"(5)\\\"\"], \"Superscript\", \n",
       "\n",
       " \n",
       ">               Rule[SyntaxForm, SuperscriptBox]]}], \"+\", \n",
       "\n",
       " \n",
       ">            RowBox[{RowBox[{SuperscriptBox[\"sin\", \"2\"], \"(\", \"ϕ\", \")\"}], \" \", \n",
       "\n",
       " \n",
       ">              TemplateBox[List[SubscriptBox[OverscriptBox[\"f\", \"^\"], \n",
       "\n",
       " \n",
       ">                 RowBox[List[\"y\", \",\", \"y\"]]], \"\\\"(5)\\\"\"], \"Superscript\", \n",
       "\n",
       " \n",
       ">               Rule[SyntaxForm, SuperscriptBox]]}]}], \")\"}]}], TraditionalForm]\n"
      ]
     },
     "execution_count": 835,
     "metadata": {
      "text/html": [],
      "text/plain": []
     },
     "output_type": "execute_result"
    }
   ],
   "source": [
    "RHSMotionRadialLagrange = - 1/2 Subscript[\\[Epsilon], G] FullSimplify[EinsteinSummation[{{i, j}, {i}, {j}}, {fh5, D[rh, OverHat[r][OverHat[t]]], rh}] + EinsteinSummation[{{i, j}, {i}, {j}}, {fh5, rh, D[rh, OverHat[r][OverHat[t]]]}]];\n",
    "RHSMotionRadialLagrange // TraditionalForm"
   ]
  },
  {
   "cell_type": "markdown",
   "metadata": {},
   "source": [
    "<span style=\"color:red\">**NB:**</span> Выражение <span style=\"color:green\">**совпадает**</span> с раннее полученным уравнением и с уравнением (10) из файла Binary.pdf"
   ]
  },
  {
   "cell_type": "code",
   "execution_count": 836,
   "metadata": {
    "vscode": {
     "languageId": "wolfram"
    }
   },
   "outputs": [
    {
     "data": {
      "text/html": [
       "<div><pre style=\"&#102;&#111;&#110;&#116;&#45;&#102;&#97;&#109;&#105;&#108;&#121;&#58;&#32;&#34;&#67;&#111;&#117;&#114;&#105;&#101;&#114;&#32;&#78;&#101;&#119;&#34;&#44;&#67;&#111;&#117;&#114;&#105;&#101;&#114;&#44;&#109;&#111;&#110;&#111;&#115;&#112;&#97;&#99;&#101;&#59;\">&#48;</pre></div>"
      ],
      "text/plain": [
       "0"
      ]
     },
     "execution_count": 836,
     "metadata": {
      "text/html": [],
      "text/plain": []
     },
     "output_type": "execute_result"
    }
   ],
   "source": [
    "RHSMotion[[1]] - RHSMotionRadialLagrange"
   ]
  },
  {
   "cell_type": "markdown",
   "metadata": {},
   "source": [
    "---\n",
    "\n",
    "#### Уравнение для координаты $\\phi$:\n",
    "$$\n",
    "\\frac{d}{d\\hat{t}} \\left(\\frac{\\partial \\hat{L}}{\\partial \\hat{\\omega}} \\right) - \\frac{\\partial \\hat{L}}{\\partial \\phi} = 0.\n",
    "$$\n",
    "Вычислим производные:\n",
    "$$\n",
    "\\frac{\\partial \\hat{L}}{\\partial \\hat{\\omega}} = \\hat{r}^2 \\hat{\\omega}, \\quad \\frac{d}{d\\hat{t}} \\left( \\frac{\\partial \\hat{L}}{\\partial \\hat{\\omega}} \\right) = \\frac{d}{d\\hat{t}} \\left( \\hat{r}^2 \\hat{\\omega} \\right),\n",
    "$$\n",
    "$$\n",
    "\\frac{\\partial \\hat{L}}{\\partial \\phi} = - \\frac{5}{2}\\epsilon_G\\frac{\\partial \\hat{\\Phi}}{\\partial \\phi}.\n",
    "$$\n",
    "Подставляем в уравнение Эйлера-Лагранжа:\n",
    "$$\n",
    "\\frac{1}{\\hat{r}}\\frac{d}{d\\hat{t}} \\left( \\hat{r}^2 \\hat{\\omega} \\right) = \\frac{1}{\\hat{r}}\\frac{d\\hat{J}}{d\\hat{t}} = - \\frac{5}{2}\\frac{\\epsilon_G}{\\hat{r}}\\frac{\\partial \\hat{\\Phi}}{\\partial \\phi}.\n",
    "$$\n",
    "\n",
    "Здесь \n",
    "$$\n",
    "\\frac{\\partial \\hat{\\Phi}}{\\partial \\phi} = \\frac{1}{5}\\hat{f}_{ij}^{(5)}\\left(\\frac{\\partial \\hat{r}_i}{\\partial \\phi}\\hat{r}_j + \\hat{r}_i\\frac{\\partial \\hat{r}_j}{\\partial \\phi}\\right)\n",
    "$$\n",
    "<span style=\"color:red\">**TODO:**</span> Обсудить почему $\\hat{f}_{ij}^{(5)}$ берётся заданной функцией, не зависящей от $\\phi$ при вариации лагранжиана."
   ]
  },
  {
   "cell_type": "markdown",
   "metadata": {},
   "source": [
    "Правая часть уравнения движения для $\\phi$ будет выглядеть как"
   ]
  },
  {
   "cell_type": "code",
   "execution_count": 838,
   "metadata": {
    "vscode": {
     "languageId": "wolfram"
    }
   },
   "outputs": [
    {
     "data": {
      "text/html": [
       "<div><img alt=\"Output\" src=\"data:image/png;base64,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\"></div>"
      ],
      "text/plain": [
       "FormBox[RowBox[{RowBox[{\"-\", FractionBox[\"1\", \"2\"]}], \" \", OverscriptBox[\"r\", \"^\"], \n",
       "\n",
       " \n",
       ">        \" \", SubscriptBox[\"ϵ\", \"G\"], \" \", \n",
       "\n",
       " \n",
       ">        RowBox[{\"(\", RowBox[{RowBox[{RowBox[{\"sin\", \"(\", RowBox[{\"2\", \" \", \"ϕ\"}], \n",
       "\n",
       " \n",
       ">                \")\"}], \" \", RowBox[{\"(\", \n",
       "\n",
       " \n",
       ">                RowBox[{TemplateBox[List[SubscriptBox[OverscriptBox[\"f\", \"^\"], \n",
       "\n",
       " \n",
       ">                     RowBox[List[\"y\", \",\", \"y\"]]], \"\\\"(5)\\\"\"], \"Superscript\", \n",
       "\n",
       " \n",
       ">                   Rule[SyntaxForm, SuperscriptBox]], \"-\", \n",
       "\n",
       " \n",
       ">                  TemplateBox[List[SubscriptBox[OverscriptBox[\"f\", \"^\"], \n",
       "\n",
       " \n",
       ">                     RowBox[List[\"x\", \",\", \"x\"]]], \"\\\"(5)\\\"\"], \"Superscript\", \n",
       "\n",
       " \n",
       ">                   Rule[SyntaxForm, SuperscriptBox]]}], \")\"}]}], \"+\", \n",
       "\n",
       " \n",
       ">            RowBox[{\"2\", \" \", RowBox[{\"cos\", \"(\", RowBox[{\"2\", \" \", \"ϕ\"}], \")\"}], \" \", \n",
       "\n",
       " \n",
       ">              TemplateBox[List[SubscriptBox[OverscriptBox[\"f\", \"^\"], \n",
       "\n",
       " \n",
       ">                 RowBox[List[\"x\", \",\", \"y\"]]], \"\\\"(5)\\\"\"], \"Superscript\", \n",
       "\n",
       " \n",
       ">               Rule[SyntaxForm, SuperscriptBox]]}]}], \")\"}]}], TraditionalForm]\n"
      ]
     },
     "execution_count": 838,
     "metadata": {
      "text/html": [],
      "text/plain": []
     },
     "output_type": "execute_result"
    }
   ],
   "source": [
    "RHSMotionPhiLagrange = - 1/2 Subscript[\\[Epsilon], G] FullSimplify[EinsteinSummation[{{i, j}, {i}, {j}}, {fh5, D[rh, \\[Phi][OverHat[t]]], rh}] + EinsteinSummation[{{i, j}, {i}, {j}}, {fh5, rh, D[rh, \\[Phi][OverHat[t]]]}]]/OverHat[r][OverHat[t]];\n",
    "RHSMotionPhiLagrange // TraditionalForm"
   ]
  },
  {
   "cell_type": "markdown",
   "metadata": {},
   "source": [
    "<span style=\"color:red\">**NB:**</span> Выражение <span style=\"color:green\">**совпадает**</span> с раннее полученным уравнением и с уравнением (9) из файла Binary.pdf"
   ]
  },
  {
   "cell_type": "code",
   "execution_count": 839,
   "metadata": {
    "vscode": {
     "languageId": "wolfram"
    }
   },
   "outputs": [
    {
     "data": {
      "text/html": [
       "<div><pre style=\"&#102;&#111;&#110;&#116;&#45;&#102;&#97;&#109;&#105;&#108;&#121;&#58;&#32;&#34;&#67;&#111;&#117;&#114;&#105;&#101;&#114;&#32;&#78;&#101;&#119;&#34;&#44;&#67;&#111;&#117;&#114;&#105;&#101;&#114;&#44;&#109;&#111;&#110;&#111;&#115;&#112;&#97;&#99;&#101;&#59;\">&#48;</pre></div>"
      ],
      "text/plain": [
       "0"
      ]
     },
     "execution_count": 839,
     "metadata": {
      "text/html": [],
      "text/plain": []
     },
     "output_type": "execute_result"
    }
   ],
   "source": [
    "RHSMotion[[2]] - RHSMotionPhiLagrange"
   ]
  },
  {
   "cell_type": "markdown",
   "metadata": {},
   "source": [
    "## Получим **энергетическую** систему уравнений в подходе Лагранжа"
   ]
  },
  {
   "cell_type": "markdown",
   "metadata": {},
   "source": [
    "Заметим, что энергия системы:\n",
    "$$\n",
    "\\hat{E} = \\frac{(\\hat{r}^{(1)})^2}{2} + \\frac{\\hat{r}^2 \\hat{\\omega}^2}{2} - \\frac{1}{\\hat{r}}\n",
    "$$\n",
    "$$\n",
    "\\frac{1}{\\hat{r}^{(1)}}\\left(\\frac{d\\hat{E}}{d\\hat{t}} - \\hat{\\omega} \\frac{d\\hat{J}}{d\\hat{t}}\\right) = \\hat{r}^{(2)} - \\hat{r} \\hat{\\omega}^2 + \\frac{1}{\\hat{r}^2}\n",
    "$$\n",
    "\n",
    "А также уравнение для изменения момента импульса системы есть\n",
    "$$\n",
    "\\frac{d\\hat{J}}{d\\hat{t}} = - \\frac{5}{2}\\epsilon_G\\frac{\\partial \\hat{\\Phi}}{\\partial \\phi}.\n",
    "$$\n",
    "\n",
    "Итоговая энергетическая система, выведенная по-новому будет записываться как:\n",
    "\n",
    "$$\n",
    "\\begin{align}\n",
    "\\frac{d\\hat{E}}{d\\hat{t}} &= - \\frac{5}{2}\\epsilon_G\\left(\\hat{r}^{(1)}\\frac{\\partial \\hat{\\Phi}}{\\partial \\hat{r}} + \\hat{\\omega} \\frac{\\partial \\hat{\\Phi}}{\\partial \\phi}\\right) = - \\frac{5}{2}\\epsilon_G \\frac{d\\hat{\\Phi}}{d\\hat{t}}\n",
    "  = - \\frac{\\epsilon_G}{2}\\hat{f}_{ij}^{(5)}\\left(\\frac{d\\hat{r}_i}{d\\hat{t}}\\hat{r}_j + \\hat{r}_i\\frac{d\\hat{r}_j}{d\\hat{t}}\\right)\n",
    "\\\\\n",
    "\\frac{d\\hat{J}}{d\\hat{t}} &= - \\frac{5}{2}\\epsilon_G\\frac{\\partial \\hat{\\Phi}}{\\partial \\phi} = - \\frac{\\epsilon_G}{2}\\hat{f}_{ij}^{(5)}\\left(\\frac{\\partial \\hat{r}_i}{\\partial \\phi}\\hat{r}_j + \\hat{r}_i\\frac{\\partial \\hat{r}_j}{\\partial \\phi}\\right)\n",
    "\\end{align}\n",
    "$$"
   ]
  },
  {
   "cell_type": "markdown",
   "metadata": {},
   "source": [
    "И снова, чтобы перейти в размерный вид, достаточно положить $\\epsilon_G \\equiv \\frac{2}{5}\\mu$\n",
    "\n",
    "То есть\n",
    "$$\n",
    "\\begin{align}\n",
    "\\frac{dE}{dt} &= - \\mu\\frac{d\\Phi}{dt}\n",
    "\\\\\n",
    "\\frac{dJ}{dt} &= - \\mu\\frac{\\partial \\Phi}{\\partial \\phi}\n",
    "\\end{align}\n",
    "$$\n",
    "<span style=\"color:red\">**TODO:**</span> Обсудить почему $\\hat{f}_{ij}^{(5)}$ берётся заданной функцией, не зависящей от $\\hat{r}, \\phi, \\hat{t}$ при вариации лагранжиана."
   ]
  },
  {
   "cell_type": "code",
   "execution_count": 841,
   "metadata": {
    "vscode": {
     "languageId": "wolfram"
    }
   },
   "outputs": [
    {
     "data": {
      "text/html": [
       "<div><img alt=\"Output\" src=\"data:image/png;base64,iVBORw0KGgoAAAANSUhEUgAABHsAAABeCAIAAAA8HY8vAAAAznpUWHRSYXcgcHJvZmlsZSB0eXBlIGV4aWYAAHjabU/bDQMhDPtnio4Q8nBgHK5HpW7Q8RsOqoqqlrCNSYKS+uv5SLcBzpTUvKACFNCqlVuYQhNTM9WLL/hButItT9anyS0i+z7gkx977pjK5WcQ8TQyfggvuhrWIOGZ5zbvx6rnVso+SGhD/Zj8/67iDEN2DVYmd9TwJYUNgTGZ44E7EIUZJ5PeQzvcow0+KqSNxgHuvlf3BIngHCvIOCYtVIKzxEbB9Uo82MT4WK/XIukNppxa9ZSxKMoAAAAJcEhZcwAAFiUAABYlAUlSJPAAAAA8dEVYdFNvZnR3YXJlAENyZWF0ZWQgd2l0aCB0aGUgV29sZnJhbSBMYW5ndWFnZSA6IHd3dy53b2xmcmFtLmNvbVyipoUAAAAhdEVYdENyZWF0aW9uIFRpbWUAMjAyNTowMzoxMCAxOTowNzo1Nar6OaMAACAASURBVHhe7Z15/K9D+f+/aVNRKZFIloQ6FScSlSUdTptkOyfbya60iCQ5WZI1RZJ9V/bTJiFbCSdxDqGkjaTSokXS3vf39H2d3zTNfc/c+/2+35/PNX+cx+fMe+5rrrnmmpnrmmuZx/3v//7v/1gxCgySAv/6179OOumkf//738Ju7ty5xx577BJLLDFIZA2pyUiBm2+++dvf/rZG/pe//OXvf//77NmzJwkhJvPYx3SKbUcd04kztMtQwNi7DJXGsc3EmVk0rklYkIpyRx2rn4QkGsKQL774Yn93mDZt2hCwMhxGS4HhLFLuAqZMmeKz6I033jha4vTWe/mxf/WrX/3Wt76VRSxW39sQ+uloOOzKeG1H7WfSrZeRUMDYeyRk76HT8jN74IEHcjZ1gVIrkBcaR323Ic4f//jHv//972eBxOobdmefV6LAlVdeedBBB+kTZuS444775v8vZ599NpX33XffLrvs8uijj1YCa40nBgVGvkh/8YtfzJgxgys36HnFFVc88YlPdPyJXrHOOutQv/POO999990Tg+D+KBg1+sM3vvGNxNhPPvnkc845x/9qhRVWmDlz5m9/+9uAILH6iUS3kbMrxLQddSJxlI0ltiPFBIbsjmQ0HAsK1Nu4fvSjHx111FFdDLAdyAld8J///GcXmuJoYV533XVPfvKT0bgCNGL1o8V2aL3/7W9/Q9Xp6AqBwV5++eXPe97zfvnLX/I3gt2iiy56ww030GNAhw996EPYuyYkfw5txgeFT+EihTPhFlz7OkL7oYceWn755S+66CLB32CDDXbfffd777036A7VC9/XH/7whx2hkQu267HTKZrklltumR479H/pS1964okn+kjuuOOOG220EQpbgHmsvk+6dddXIbvSte2o3dHfII+cAl2zt78jxQSG3B1p5JQZdwS6Pm5qi4I//vGPn/KUp3z9619vncLlISdE0/+JocXF7Tvf+c7WkR4tQASmJZdckmM+QCNWP1psh9b7/fff/+xnP5vLAxSeLnDjCmHxxRdHTBHwt7zlLbqoWHjhhffbb79HHnnEdQpDr7vuuvvss08XaBjMYVKgzCKFJWAYuOiBBx5ofRQoDKgN73nPewR53rx57iJt6tSpXA34PR5zzDE4HPpM2zo+AcBOx05fRFSutNJKDz/8cOHYuc961rOe5RPkpz/9KfdchxxySIBzrL5rWvUAvwy72o7aw0RYF6OiQNfs7e9IaYEhuyONiiYTpt9Oj5uGoiCay3Of+9zf/OY3rVO7JOQvfelLuCBmbxjBJ1/jOvfcc1/zmtfocJ1I5YgjjsALiGM+GFSsfiKNveFY/vGPf7z61a+WiPm4xz0Of6qGALOf4yu44YYbuvrjjz8eZ6QXvOAF6hRp709/+pP79aqrrqKyi0XV+rgMYCsUKFykl112GZwpbnnta1/bugn0a1/7GpB/97vfaTh33nnnBz7wARYFNwLqNDDsLLbYYkFNK3TIBdL12LnRZDj455Qc+6677ooB0Ef1ve9979Of/nR/CevXWH13tOoHciG72o4amwiMw/vvv/+sWbMOPfTQX/3qV/3Ml/XSLgW6Zu9gRwL5tMCQ3ZHaHW930Aa4HLo+bhqKgnj+cyh/9KMfbX1SykPGn/zNb34zNt4AhxyN68ILL1xmmWW4omsd3dECZAt4/vOf//rXvz5AI1Y/WmyH1vu+++6LTMm/t912G2R8znOe8/Of/7xdJF/ykpfsueeeWZjnnXceshq9O/MCbfA8pObSSy9tFweDNkwKFC7Sn/3sZxhgl1tuuTvuuOP9738/vPHhD3+43bEQXrj00ktnYf76179+4xvfSI9PfepTudZ1DdD6tttuu3ZxyIXWw9i/973vMcBsXpDY2Am/fNrTnuYrvbfccgsQTjjhhGAIsfoe6NZdF4XsSte2o+bS/8tf/jK3oo9//ON1i8Gi/sEPftDdTBnkjijQNXvHdiSGkyswZHekjgbeLtgBLocejpvmouCb3vQmDmv24XanA2jlIe+22244agWWrlDjwvzKSfnFL36xdURHDhBNkh2c9OIBJrH6kSM8HATwqcUp6IwzzhBKaDtrrrnmeuut16IZ4fe//z0GitNOOy131LDlQgstRAiN/yvOY3gbDodKhkl3FEgvUvgQmzxZK1AAhAPGpSc96UmE3raIEi6FG2+8cS5ALly32WYbtheSu7gGeCC88IUvbBGBXFD9jJ2Fyej++Mc/ZnHIHfu1115L+/nz57v2NMPTg6M0gBCr75puncIvPFNsR82lPyZQmOSCCy5AVCIsh1MGLtpss806nSwD3joFemDvxI7EcLICQ3ZHan3UrQMc4HLo4bhpRRREAGDrcBHXLU5Necg4CS677LKBqe2/NC4Ov1e+8pVI0i3iNxxQyGTMQTacPVY/HMxHjgm3jFwp+Wj8+c9/vuaaa1rUuICWe4nuOkWeRiXzLy2wIUyfPn3kxDEEeqBAepHCFfDPX//6Vx+Tu+66q93bca7bc22w6lQ+h34qcG5VqenaN7ufsZMgJNe+Fxu7TNCnn366PyME0FKJ6BMwTKy+B77qqIvCM8V21FzKf+5znzvggAPcT7gwwDBILR1Nk4HtiAI9sHd6R2JcgcCQuyN1NPy2wA5wOfRw3LQiChI6xNZBtH9bc+HgVIJ85plnYq6//fbb3ef/lR1+zpw5vOaJVCGD/lgU8pLx8CjjSWPLbcFNN930ohe9iFtnv2WsfizG3huSxFCtuuqqfnc4UL3uda9zvh/NMcGGBhD32HEWIK6MK6644hOe8AT3E+Za/7/NcZi0EAqXz2gpU7hIYQO4USzkCuYU+LZFzDGapfmTvlZZZRXXoxrjItUiDllQvY1dCfFzC2uzzNjxx6AZp0wAJFaf7avkbt8pwQuBF7IrEGxHzSXj6quvroh8FUzKLB+ysBTSfLwaDHy/bU7MHtib3TixIzGEQGDoZzdOkC5xdsS+GuBy6OG4aUUU5JqGlLnXX3999lWSgNosRjQINMmSbF8eMgDf/va3yxXLAf8vjevwww/Hpr/JJpuU7HvkzfAoJZk40j8xG2lk0CTheJf7wTWO1Y98aPDBJZdcsu222+JZgUTCAIkhHjlWIABrEhSOfQnOw1H1D3/4QytYERgGHNIS5ELDfMF7qQFnYn0mB3crvU9mIN/97ndJT8JlBIF5w6RD1UXaHYvG+BO6ff7zn8cfG8XP0ZDGiyyyiMur0Q9tOxo7C63q2BmvFrUr2n5vvfXWgBSx+qBZ+d0+S+qqx2qTyRoOu47djsq9HkvGEZ/ESPAz6ZSaTMfQvu1ov51sAkN6R8oKDNq+gh2pN9543/veB2N/7GMfq9Tj8JfDzTffvMMOOyAK4hmXvUqrNFjXuC1RsOSxQsAhGgR6RFb+QcLk+QESD9Y7sPgK7ZEMQDjZEl6+AIizdrERUMXPrZvhOgJYKRmOeP3II48MkInVd4RzGixWODXAZw+VJphmrvquvvrqhohxhjVxtYLmb3vb25AssfzutNNOYEgSzIYo6XMcFLkMQJfTf5Ff11hjDfyylNwMX1hMFpDF9cW1BLLsKaec0krvQwDCZcw999xTHhMefcpNP1oeglp+4hOfEKedddZZVb/123eHf6VF2h2Lku3qFa94hYbM9Q05eIjdIvED/8XTgCDDgIA8XZXN09OEwoXfdjd2dh44hAdJSo794osvxgAOSwQ4P+MZz+AQyj6YFqt3n1fa7bOE6jSXcdDdQNh1AuyobPtkyEwkpK205zQ8+wpXX8kGbe23dDeZBQZ/RyojMMR2pJKz1rCZUn+R2KkJnHaXA5g0FCGItERX4RDEgZ/RIRZmU9HWGG9bGxcPtIBVOmNhOukiHs5AWGuttYJRlIHsPuFlMICQ1lg1/4njkpmINC81aDSSTyolwyFRI6NDCw9QjdX3PCL0B/ySMYMqFgVZDWxJgHbYYYfx+NVSSy0lmRgLpEtOXRLDrbfems9dQD+ZBnmRzI/vLwlHzeAb0CDxJX+TwJfAKlKyVoKQaAwFMBGowdy5c+WO9cxnPhPVi+xzwWImOzwa14MPPthW76OFw/N3eEF89rOfjaGBivuyl70MpzXXgJ0Ogb45BXj7AkWCyJMmqfY7xb/SIu2ORZkCGN5Ryb0Xx7KFesGTiyjDxH2deuqpffJVd2NHR2LfcMnu02NnyKT3JdFIduxwGovaz6ihNrF6B6HSbh/023Uu4yZnSndTBlZjvaPysDjqFosutoIK95x2z762FnIr+21HAkP2lBmswBDsSIUCQ2xHamta03CQ+zEEZTO1lu+99eVA101ECPKkL7roosiWpFPi4oMrMwQYBfg0L61sXIoCxTEqhk9h0kXCWJy46wMphOw3hlEhFDY0bmmp/4/G9apXvQrobAfN6dUDhKrJcLCfMDp3J+QwjNX3MATXBcIZfoPIbcq0pnTJhNy5BmhZL3/5y6V0VVq0rAS9UOQ/QcbNBLcRn/nMZ6qOEasrSg7veTtbEy6FVYEk2vMgAc8SuDyZrOS77747+3gaEHhFHmfLbNrJFpHpExSiA17p6ZklMz7z6D/ezUomixce8+3OQo2Bd41/+UXaNYuS7X377bcXidhAsfmQFMs3vTrqHXzwwZipWzFClpyRrsdOnmK8T/U+Unrs+A3iGZJrS1fIlnvXyw0tVq8GVXd7n2KFx2pJ8pZvNhx2Hd8dlfs1LpiCzCv+FBTuOe2efeVnv4eW3QkM2VOG4QxWYPB3JPBMCAyJHamH+WreRUfLoYkIwTuK7OQuzw0iWfbtqdoDb2XjkiCNTpiLRmHSRX2OWJ71yEhDznZHAg9AKfncAo0L0woyHyZC6WHDL5WS4TzyyCNSV37yk5/4Q4vV9zz8j3zkI9hzXBLFvffeG8+9AAd2PQ0B7b88el/4whf4hKMr+AR1ix45tMqDoiVCJNAwOFT6qlJjzNzcK+DzmvgKFp0xYwapt8eFV9MUQFDGdPmOd7wj3UwqN86WfjO2OW7OkFb7lOwDPLvGv9Ii7ZpFOdSJKsk6Jwc0ISkt84WsX4n5Gzbueuygh9Mv1rwgJ2SWH1ZeeWV833OHI1fkPfbYI/g1Vq9mlXZ7H3LhsdqQ5tnPB8WuoDeOOyqzxs30UUcdFZudMntOu2df63zSBGB3AkPuKQOqgxUYmu9ITSain287XQ71RAi+4taenRxVtiMiNN+4OH8lM+c67xQmXUQO50Ui0MgOMA052/5d73oXaOj+aIHGhfGHqhe/+MUdkW+0YJXPkRK8JxOr97FFvMCwToBgwp2Pn8j/yFkbGyYXw+RExvDNXQUas59UHdEEM9Ree+3lvsWOEaRi5yfuD5j+qhpX7ClYuI25RtCv9IrxaqutBgJyKeyuwM2f/vSnE/AJdqrhrIXpDAeeGi/iPfDAAzz8SqexVPjUY4tDmY9pgHSKDsnbUJhEaMNu5UbHtK699tpsXtjoE0MmgpPZJwAm6ydNAlkmhTM4PSMJHPQht0rkz/WB6BPVsArEvUEvPeBfZpE6rHpgUaab2MX0uwi8lZxr+Opu1QC5h7HTy1e+8pX0TQ0ey3feeWdspB/84Adh15kzZwYNYvUNKVZ4rJaBz4Jl6yBzT5nGQ2NXcG59R+30TGSH5AT0X1lgKSH9VN0zWzz7KjGA8Kyx32qm3IuCHCiEx2RZrjuBIXHKDFlgaLgjxRZ1DYEhIeapF3IlBN0VznjXywF8SooQPuYQh22c4LROr3obblwsW4n9+KGU2br9NpAdJ8l3v/vduR9WhYzMDBr4tQJtgcbFMUnVtGnTqmJWqT1iCvvIddddh+LY8Jka4Jx//vkchET+SNxEon3DG96AZ2pW1kFlEukD/ojVa1D33Xcf99n40a2wwgrkxKRgiGBXckNmVo4++mg8bYCMQIzihIvXOeec49OEHsm2TxA5gQoUgOCbDgXUhl/x7+TzQs0HB1mlYi8fN4UMPWXKFD7Jjc3DsYeffC+12FSib5ASgH5FQxwP+C9xqJWmfuSNdc1QSQ7+1Kc+hVJKwhJlRORdgeBlcMySLBksw1KG2YAIwAt0JxKXceWPlzNhLYDC42j99dd31NBrelqKscJpp8lCpPa1NbWHCWEheA92jUFI4ABBMMjgnYiJW75eKFGcYSQgAlv4GYYnYaYSiKHyHXrooX4vPeCfXqRCZmKwaL01Ml5jJ54BRiJCNRhsrF7NKu32PmSYOTe0gFVTPsgbIRicyb1RZoImNrv2cCZy+ch2ylHLFkQhvTJpVP1rvjJ7Tltnn2a8EgPQvtJ+S3tu4hggYR1s44i/nK06uCmcHb5s0J3AkD5lQNIEhsTyT4t5KFpc0uG84zzcys94D8uhjAihsSMtIPtRCCCHOdFJ9N8mydjKbKq120gwYz1mIXAu4Dj2yU9+EpWBTAFcrGMy4WaHDIeIeWgojC6hpCQgZ/tCVQENCX4LNK5DDjmEKkSr2mNLf4gjPhuKXk9Cc0C8u/DCC5v0RcKfTTfdVLsS7gcMyT3NhLwYQFZaGyTjkvU0QylCNeI9aO13TIACoggZFxDOcmRoakgfyTmE9YywIuGz1VZbOXOHspo4NySEeP6LciggejU16/WXpYw8R3EFLBNohwmIGBL/sSzSjGKm88HqLhYloTDYketn5k7BCRCZvylbbLFFk+nr/9tKGhdXAwyQwZ500kmaSmREsa4jI9GT6CGkE+DSEbvld77znalTp9IGtnFGAHYoNlliWmT/JMsFqS8warnh80ojnwS+gu5XmApvKz9dMvo/d7eBwzRyCUACXcgBSeCgzMsuL4s0Lg4DlycTfkPpIsMSKpleyWAV3HDDDX3iH1u8PgtNDBattyjGa+yccHARp1ow2Fi9mlXa7R1kkutwY3LaaadlCXv//ffD28ozWVgqCdwTmF17OBPJPasz1C9IC87yw2Sl98x2zz7xRiUGqLrfAp/8WGTZ0ZDxPWGnnT59ulO6/HvwLgSGkqeMCQyJjSIh5uFLJo6lOI2r5Iz3sxwYV1qEcANHs5L4p+EgGOi/V1xxReEuOpIGShHJQZDtnbHwuNHSSy8tMZibZXISalwoYCwKdLAEzgnI2a9wcAMs2Yz5aYHGxS07VUilrdMF7V/PKIEi2e3wzlIgWvMgHGgkAvFuFUItt0R4Z/FHllLc4tMMnSEYXayeTZPwGBKM+NmNld3fqW1KAYwm48fVkVdQKLms5YQ98F8/4RJZzon4FCZoa/zqu0zE6E8bWmbjH4L2XNxiZkH/RrXjqoxPCPRXFkoyXgRhbNwdUh/YbWIIYA2jcTZRZusM0xHAShqXDHrQzSHDotXMKroAP1IZvvzsghjB9ZQE1jAZoyR+ocA4OEwKipn+K29gdJjA2VW/cgGD+ZTFj4sp/9ISHU9P+gaxfNgwqcQClku6NA58gg+YhubnM0DhVCWP92mp6vUIiku32g/+sUWaHey4s2gTzh+XsXOFAQshTQaDjdW7ZuV3e32CEMCNCZJEjKrcprEVl/GKqSRwT1R27e1MTK+CxJ7T3dlXiQHq7bfKr01BLMNHHSIoXJkaFE7nDN+6wFD+lAElExhizJkW8/hq8803Zyr9LA4lZ7yf5ZAWIQIcuK4Sr2JHaXJm9fAtN27giYIQ60v5P8hNgGiNNYWbZck8hbgVQvYh6AlK7vgee7NbP8heVKanQlSCBoQ0AJmLf9wt0t9yc48BgRgebusRTBFq2UORMmNfKc892cNxLFRgD5aE3Hwp8kPAHBGAitVjAqY93oB+e3DjtglNhko0MT1sileh3wbRGcVG49VZzif8l9PdhdEj1zorAXZGfuXVqTRlMDuw7bIX4yyRaIllRmq61ADlU5b9RMmXgxEJt2AIMfi6csPAUpUBBtK+vMYF48FUaK0BtRn7W9/6Vmmtet4HnTwYnXuJmzt7fsLji2aAQqBUSyyKPOukv8XAOO9lSYROzlcoWuQhZBUgO8oQqrSkKGl+VKF6wRSWS+o0DnxCXKk2UF/jglW0R/gw5QFLzuU+8Y8t0uxgx51Fm6yUcRk7GzUsxH1WMNhYvWtWfrfnE+IPWZt6IzVGVdJOgkk6SY++rSRwT1R27e1MTK+C2J7Z6dlXiQHq7bfs89qEfVcFZ+JwXlvtCgyVThnmxQSGGHOmxTy+QqBncn2Nq+SM97Mc0iJEgAMKjISQkSdJLjwxZcI644wzYi21oMhUh/ORHJFKPr9UCNnvkfWr1Q3wx9wcKQiC/CstIl1QcLEvpwsyooAQSigHfQKuFNidW7jCQZzFCIaZD88rtAtMsZyXWAzmzZsX+0qmOmYdb0ulusLGxbfZ9hqdczt0DWL1st2TF9IHhdZEvXRitEeih/mDEC+/DUOQQY8bWURz/sBJlH9xJCULEMokBjEEbpnLKHrlOv0OOnddLFemBu81pPPE7KANohYqmI1m6HX4J2gvUI9CyRX1m31pO9sFvIilhXpnH0+gMZCfAkbVBhfwrWNUH2d8jWjMigqojRKFPRC9l8bKNKO//SIxjiK+xYGQNswgVinuUTATMY9yiE/MPvysTIxkiCIADI9W5Am9gLTBBhvwL4sZR9ZgHpkjPswSP40D7eWRHBT50AYFQZkarZre8I8t0gC3sWNRbmeK9tGfupxI2bnwa8Zo7NqEGXswoli9a1Z+t2d1sMeytPE44OZLENDo4F7cuR1AblX4W6JGULJTQwO2dH++YlMzUdm1tzMxzeqxE7Pds68JA7S+35bZcn2ilRQYqp4ydGECQ67AAGXSYh4Nsods4oT1Z7zP5RATIQIckGapwf0V4SSN3sh/TR8r7NUIVyBJXlO5yPG3OzLSyBceWP7nTrGix//SuLI6SdArqxRPJ9w30wXPK31IcAvrnz+4rWEnImgEwRFb+bnnnusgc3Stt9567JjknECTwVsP9Qx7JToYWo1EzNzijk+8/HPZN/jKj2vyf8rWy4HKj58JQOEbqRpFN/lFwTwUqSj4+CkqBu0WbQ0tDkXItcdWxt9pxsVUhVMipqpAAwz6RSDQC9kys0A6NAc0eI1CPjnEAvpfqd9cMT0Ajv6geRwXjSvLqLKbs034rOsY1R+vzP2J2edXMUB29rkpkZFTsw9bspJ1C8AzrNip4GqX6CY2+2S8RbBgsaDk8yFRYfyrV4C5whCq/lQ6/smdyjQOwUSn/xussn7wF0qxxesQHjsWJZl70T66HErCY34IRWWMxq555IotGFOs3jUrv9tfcMEFnKO4fys4QQWFgbs8eeeqKC6FEypL3WBqePqPNsSD+fOVnpqJx669nYlpZs/dc1o/+5owQHf7LZRpUWCoesrQuwkMuQIDlEmLeUX7939+LyPH+tDaXQ5ALiMNSuMaC1EwfazgUivDCXKy5KvypfDA8kHhK6T/Vta4kCbxLigsymRCcSEiMkGidcAieDE5jR8MGC2Jpwk9JOGEjyUR4XiGuCi9gBZsskomwWNEel8sUdSddAa/5NYzB2I7MtHFYLqFQULtoI2sjRQB5+AnBIhsihK7MS+iQ7qgIN2zxi5O+Ik8MJhW8BJE/k6PEakLV3uMWjJnsSqwpzk2wi+RSvkWuqJ+pdmni9YYyrb8yoZfsowqTZhrb597HaP6I5KXHfbAhLArBsjOPpViAMfhOHCjY6+++upUwoGkV8EKKokzNvvXX389v+IrK6zQuLhclPaleUTa85U9xz+xqUzg0GQq+8E/tngDzMeORbFFF26kSH65FsjxHbs24eygYvUaaaXdHtWITyCv+FOF1ztY7C4/ATW6WFE0ZlCCqSFdGA1w2PbnKzY1E5Jd+zwT0ztS7p7T+tnXhAHAv6P9FsgtCgxVTxl6N4EhV2CAMmkxr8kh2+dyoK9CaZCNWlFJY6FxZWV+n56y21OUvb1SSUMOQDlT1mMeEHI3lESYeHOw0GMyt4Gcv7PhLq6xnmGBj3M/9xNOBA0UoExJBHq5T3QGZx+fjtXLgIA9JBtXzZ0o6b/l4kJxT267vvCH1E8K+EGZ1E/obyiH+oljXtkIJEbj+p87fGJw0aD86JrELBCOBShiW9VGiT3uvfde/gYTlGw2BRztfAjChzSVhZOrPAok6i1sOdgG5eO43AySADMYDvzAKqVSSj56XTbdvJiHhCU0Q3nTw9a4BRLK5QzWSvHPCz+0DMILYQzWC/XK6Y/azMTNmjVLmChyOngmQlcPrOrcbDRpHIBJuJrY0uc0vWYTxHFhpqbSPc/dD/6xRRpMzQRg0dprZ4zGrsVF2HEw2Fi9mlXa7aVWcbfiusAyzBUJOpKrcWdtmeOjUhjPRGXX3s7E9CrI3XM6PfvApxID1NtvnZ+tH8fl7LpIHSJLWwJDjVOG3k1giDFnWszjK97UYVPyRdCSM97PckiLED4OLuEHbj61D6zePtSupaD6bEHC51fsEDXwSUMOAMoUSeHiLyeEQ7+1UpTchqsRJ9X5YIlFUVJgsWO2uGv+7E86MuFgrqMKUZU1HKk3aBmr10zgGHbCCSf4n6DAsOkgZBOUpWTZ8lUL2vBfRApcUPgDQX/+/Pn8Qf46TnccJvmbHZx8RPwhx2hMf9khEJFFOhOyiBKT4P/Kda/vG+N+kmXGKdPYVQimFw5s4hhVEDgCr0L1m44iE/wxsiMXMkNhA80+hfuCYGq4IOBVA37SyceNBd6ePkAug3Feoka2WcK9dEGODZoYRfZlGQkxZ8dmHwi4U7uphHnwQlQQF+zHu3lAkDrtipDE6pXrk5DGoZAaiQa53Ns6/rFFGiA2qVh0fMeuTTjrRx2r10jL7/Z4Uuis8Y1Xukrwt015B3E8FfoOVF0gE5VdezsT0wTP3XM6PfuqMkB3+23syBCGlQSGGrs0XZjAEGOGtJhXlYXKt293OcRECB8fnbO0lGw/8KJjJTc0i5TmCv1Qmt+qJQE5DapbjQvLozSTXP9XopbBm8nzfSg5GglicQWDUu4Am19rdwAAIABJREFUdP0zc+bMQo95mukUJI1hACpWr0x0FCKvsGLxBBZaFlkTcAhEbkZ3IqeCwqX4iag7H6yuY3mAy4m/+ASqATXKH8gfcg+QByBPYgeI4TSPKEDYD+ccaY5VUNiIWMMeqFSkQSGCiBoUOY4fTDHs+6Iq+CCmY52Q1cIV6Cy3SZfGI5fOVKJCKB9owo5Mj2gRROLJL5bp4+8swZGHSDalfFMUNE+SUuqT4RTchxR6hwsoxMHQyuyj7TD1xB+Kk7lBl18f8Yd+UAoKGP9lM5IxisLEuesGnrMk2yGV2gIIzMOcRXs/owl2MyWokFaGSyH+qLz8hqcrdjPojK0sEFgVVJaYxwQOfOgyYfgToQ1FVzVuatQAs5tq+sE/tkh9hilkUe50WWWsBXeziBBPnrqA60o2Gw6vgknh2GlTcnmWbNZk+NoTshpXrF59ld/t2VdlIuY2Ud9yf6H8gc4jmi0d9wHc//DZVtRli6UVdi0/ZbTEt5lnc+XqQyEEWlJRu6W3MzGNdu6e093ZV4+GNfZbd4j4ruxuZ3ZbblsCQ41TxgSGNDMkxDw+1FT6J2zJGe9hOdBFoQjh0NDeIm+X3FJSxuvnqNWx4juTO5x1i4eJAiWixjJPQC6AJqGqI69CIBOgKQx4XpnDAPs4AjcnBD/p+h853rfBoTBgSZCeRuCQe/zHbyPdlOI/xpqwDCohCUds0CZWTzM9UBYUBHH3+hYUlx2D/ISc7oKsh6SxSDj/LgiLa5Z74lbPzrhnlBWOHLg7EqvjHqXNnTy+yg4WQ6IkdSxjPFXJH2ho+KcyaiR1PQ/lF53Q5FostKiSQ1ZcixQea8yUbbzxxjRD0cLurMcK8ADx26MNom+gbZKUQs545OKj2ZlnnlmIQ/MG5b0K6QsKZ4VCeNJ/uwxdUQGR3JHovRRywGBUZHRwuBAmvSQNSAzD7PBfhD/Udb6C8dSAiFsauNzxquS1ACrJb8PJTdAXujfbHLZvRMns6960l2oN5XOpVIgDKT3EZgxEEDj1wVmVDlXUY2UTgRPc+zA94J9YpG68hSyKrXiZZZYBeedaxu0g20tAsZLNmnNjixAKx05fZZZn+WZNkIfCzELWjTxWT19Vd3utdHxxGTUHDXkvyPzJ7RUbFDcmHEP8ylLCWF1yIJWcylph1/JzwQnI6NAzV1xxRb7ib64gscCXHFqlZv2ciYUoZfec7s4+IVOJAWrst3TBvZ72W94+dhTQ/SyFKHdVtigwVD1lTGBIcGZazOM81bM9CD84dglOyRnvYTnQRVqE8HFQPLxjyAC98jJeP0etsifkqglKGxELaCokewJy9lvfq7DbOC71jUiHWuXimLlf4aqGeqJTGHNudJDybnO1mTty5dfGb6TM+5VAkAsfJYi6idWrU/QBlx8cWRMbkf/YMQ34L4c6JxwLCRc+3tNEmEak87HClQWthgbYN7iKozHWD/8dAyXCco7agJXHWqyIdLkFmxXGEGf0QxVk+8bAldv48MMPp4tchTZoP3v2bFq6V5hivSshijQEthVKbliRNHDyiQGHix8QRgwq5O/mDYh9YhaymmcMMvgzEBfiz/zi6xw05hBiWhkONitufRDjuILV+5UqSMMonzAPhQZIgQhGvtYkbcdFRukr+AfTme/tCXzMrQoJCwpMCHC0INxNc8eSwAFJgksEl0gHTHCXpb3L/iLZlHsErgx8awBLT8/r9YB/epFqyGVYFLEMsyRrUJ8QiikhNSglmzVnyLYglBk7fZVcniWb1UZergGkFgggxOppVnW3Z5PnOQ12PzpixnHkZtVz+4OswA6A4s2lpnvgqMxAdF4i/pZp3Ba7lp8yWsotHxpie8eKC8JlUK3Rpp8zMY1Y7p7T0dknTCoxQNX9Fm9AJs531cGxBScRP2cYxxBig5BpS2CodMrQrwkMCbZMiHkEznC158Q5xGCeiqk0410vh0IRwiGAwKa4lfT+WVLG6/qodZZhXyRzY5FVQxH1VUsachZa3xqXw4DDgOPQCeK43jFmZO4ARTwsJcWWVKgK6eVcE/nDbxyr99uwlTNhCfMOI8I9EsWG2004MkCGIVMDb+HCRJGtwy/c4CLLutQIhWMpbIB4QfwbClLuY9D6HJzZBbiYCXTIXOBK0C+zZLrIUsolX6IZUeycH05/Q/bidCkCPLLfmS9UC8TQBAb4BPImIM6lQWISPoG8TAcMTypq1DMaZLVQpp77ktw4VGxc0JMjOTFNshMmXlUvg0MT+naNf5lFWpJF0brdacG0YhDIHXjJZk2I1uK3JcdOj2WWZ/lm9YYgA5Szpjogsfp6veir7GabzXPTBH7uty2ya/m5kF0FO17inGpxpF2fiYWoxvac1s++QkyyDbreb1sXGMqcMiYwpDmhUMyrwUjlP2myHOilUIRwmCjSYaWVVkrjVl7G6/SolWmaAj7liVmmZVXII9O4gsFgIud+ncvIQKJFe8le/JchRKwNmpuc+8lD4LeJ1Tfpq8a3vIzM5SvZWmt8m/sJEQvpHFxchaLm5XonBgDZSpgjTCh6kDtd9LB64aPdWNi5ewYUdqRC01lRn2P/OxTGoptr3eYVu3QiHUI4uDNrUV2vQc2u8S9cpOVZVLKFrrVwkYrxf8lmNWjV+iflx07XJZdnyWb1xsINC1PAfXnweay+Xi8j/KpFdi0/ZUodgaVrhAPvs+vEntPi2dfniCr11a7AUHjKgJsJDJUmqOfGTZZDJRFCbq6YsAoHWFLG6/So1dtUiK8uCKIQ7ZINqkLuL1ehs6Xm/oH1fL/99iMlwE477eReXuM25dRTT6V9IlFhGmz2V4wqcj9VHjlXYvVV4Tdsj6KPFxnu6aS7aAiKz1Fj8FqMPRxBA4K7iPIk1ssl5Qs6JdMD+SHEVTh2wq977rln4UMNqGS6alUkQ6JwKw8LEq5Gzj09DzCZCzcOKNtMGeF2wcuw2E6VaSO3YDHD7xGnXK2XUZWu8c9dpPVYFI9cnCLgTxLewK4x/i/ZbFQErzf2ksuzZLPaY9cOLM8ov8Tqa3c0qg9bZNfyc6F0TRjDRzXqnvuN7TnNz76eB1Kvu3YFhvQpA4YmMNSbpt6+qr0cyogQJF8gZbeen+Ienxte+SOkS0kZr9OjVmcKgRIug3cR1mV/bwRZWl13mTMKtUZCeghZIdxls802Q+sggznRU3vvvXehqaQQst9AadlhneCrWH0l4K00Jt0Cto6sX2JV4GhTQVyQDwGliJg6LjYSYOWGy5ohtc6qq65Ksgc/8Cz2IZ5CWA/4UC/h+L6zQfQUa5hmZAwj+1/V0U3U9sw7GlfwNhqU9wP8grHj6I+uNRCCdIp/dpHWY1Foxd3baqutNmPGDBR+Rzp8sQIX3NxmAyF1vbHHlmcw9sQqbmX4hFFhz8/GHMbqW+m0ZyBtsWvJHZWdltvJ7bbbjttcHCnZ22MhnT3ToevusntO87Ova5xbhN+WwJA+ZUxgaHHKOgVVdTmATKEIgcWe4HOkNWWi5o+SgU8xGS8bSN/dUaunEbuw/FeFPBSvQsd/KNAEw5BR4KqrriINdxfO6Oh1UJ/0AwHTx+o7XRsx4Gg4zftFq3SpEbPQoG0heYk3I5AX9Q89nHAvl10nFzdUAvgPPwesVTQgGwE7OCY75zhE5CjQ/MgN9DekLtwaW/evbU690ULw5X7+5vG3BD6tcEu74+0I/+wircSi/hj1RoL/PC6WBG55yAUyb9481zLbrF1CNYFWaezp5enGDoXTq7gJwu5b9AGInw0DiNW30mn/QBqya8kddYcddiAAA1cF0opyV03+IWhLJiTSjmEF7X/Uo+rR33Oan32jGkW9fpsfAYWnjAkM9aZmVF+VXw5gWIZ/lNOPZ2/xcuKWvOS4cmW8rCgItO6OWt18lUlAUHJQrllVyIPTuKoOuEZ7rrShPpnZgm9j9TW6mEifoAsRTUdWzUL1DOEVwmKflLPs/vvvz3/xhXMf8o4wNTjb+IYyvO3JTjuRKGZj6Y4CuYu0PIv6iBG0wCUCPsyuErbUSwDY1V1ltll3o6sBufzY08vTjV35UROruAaS2U/YT+glm5w2Vt9Kp/0DaciuJXdULq0waiEG8WQfY+RQx7mIC2luo/sfsvU4ySnQ1o4EGU1gGBQv6ZFGrMdpx6gszlkZL3dmuztqFVnjO7O0RdiqkCejxgWteSsJh86sx0Wsvq3pmdhwsE8GqUJ5lioYMgZM0qa7NH1c0k+bNi03d/zEppWNrjYF2lqk3Ni519IcMthYuLXyHzTLbVYb+RF+WLg8NXauVwpXcfNR6DoGY1oAKlbfvMdRQWjCroVTxqC0owYOhATQK2eaFaPAYClQnr1NYBjsJBYiFpPxAlEQOB0dtZxrPKCK1leIatUGNSAPJXNG2Ti1ltoR8IfhRU9N+yVW31K3ExwMV624CfmD1FOzrmDmJj8Kr13Tkko0XuzISLf6rxWjQBkKtLJIedmJbBnucWfXLy+tkbRmiy22UE2sWRk8h9amcHlq7ATQpldxK+PCb5zAa2xcAbRYfSudjgRIE3YtnDK3oxL87F65ZJjYuPQKmRWjwGApUJ69TWAY7CSmEYvJeIEo2OlRe/XVV9Nd7qPtDanaFLI0vBFmzqiqYtZuj6K58MILE2EcQIjV1+7IPvQpQM5Dnh/F5xBhl/sMEnL4ATNGK6NAGQo0WaQnnngisYWkaWH/zbWsEv7BxVVhszJ4jl0bjb0HtPXKIjcvQV+x+h5Q6q6LJuxaiJV21MJm1sAoMI4UMIFhHGcNnAtlPLdx9XDU8mI4z5ySVLB1YtaAPEltXDwqxfUqSVTQfX01N1bfUBW2z0WBKVOmEHZJ8gw0LrgfCU+Z+q0YBcpToMkixcWLbKirrLIKLuO5llWeQl5kkUUKm5XHdoxaauw9IMwT4RA/m1k4Vt8DSt110YRdC7HSjlrYzBoYBcaRAiYwjOOsgXOhjOc2rq6PWnS/yy67bObMmUsuuWS7xGwB8uSxcTHS22+/HbY45phjAsU3Vt+6fmwAjQJGgXoUsEVaj25D+IqkWMsuuywJdQJkYvVDwLkhDsauDQlonxsFjAJGgRoU4Fqf27358+fX+Db9ST3Ik9TGhbLLa2jkzz3ssMNIi+zrvrH6dvVjg2YUMArUpoAt0tqkG/mHuJFwO0iAXIBJrH7kCDdHwNi1OQ0NglHAKGAUqEQB3iXjXdPZs2crVKrF0grkhVpEaCxAkcWBN9cwcwXYxurHYlCGpFFgMlDAFuk4zjLXW0cdddSFF14Y+HjE6sdxjLk4G7tOmKm0gRgFjAJjQQGeHSKP60EHHdQ6tq1AnnQaF9ZGEuVdeeWVwXzE6lufNgNoFDAK1KOALdJ6dBvtV3PmzCFhBm8hBmjE6keLbYu9G7u2SEwDZRQwChgFCilApobzzjuPB2ALW1Zt0Arkx+G2SMckM7jtttu4idxnn32q4jGO7Rl1bgx9rH4cx2g4GwUmJAVskY7XtE7yzdbYdbzY1bA1ChgFxpcC3e23tSE/9NBDiy++OCQluLd9RXAspir2GJQ9EjUW02dITmYK2CIdr9mf5Jutset4sathaxQwCowvBbrbb1uBPEk1rvHlJ8PcKGAUMAoYBYwCRgGjgFHAKGAUGCMKmMY1RpNlqBoFjAJGAaOAUcAoYBQwChgFjAJjRgHTuMZswgxdo4BRwChgFDAKGAWMAkYBo4BRYIwoYBrXGE2WoWoUMAoYBYwCRgGjgFHAKGAUMAqMGQVM4xqzCTN0jQJGAaOAUcAoYBQwChgFjAJGgTGigGlcYzRZhqpRwChgFDAKGAWMAkYBo4BRwCgwZhQwjWvMJszQNQoYBYwCRgGjgFHAKGAUMAoYBcaIAqZxjdFkGapGAaOAUcAoYBQwChgFjAJGAaPAmFHgcbyjDMpTp0697bbbjjrqqH322WfMRmDoGgWMAuNAgVtuueWXv/zlJptsMg7IGo5RCvzrX/866aST/v3vf6vF3Llzjz322CWWWMJI1gMFBrWIJjkn3Hzzzd/+9rc16X/5y1/+/ve/z549O8sDBx100IEHHph9PjVW3wMXWRdGAaNAbxR46KGHFl98cbq7/fbbTePqjezWkVFg8lLgd7/73RprrPGlL33ppS996eSlwoQY+SWXXLLlllu6oUybNu1rX/vahBjZ0AcxtEU0mTmBq+qXvexld911l2OaG2+8cZ111sny0Lbbbsumt++++wY/xeqHzoWGn1HAKFCFAr7GZV6FVShnbY0CY0KBb33rW+eff/5AkEU6QbxAHDF1q4sZ4XKdK3Z5K3RRMGVwef+Nb3xDwD/+8Y8fd9xx3/z/5eyzz6byvvvu22WXXR599NEuEDCYUKDMIuqaE0DjyiuvxDgzQE6APqyCf/zjH91xyy9+8YsZM2awHOjiiiuueOITn+hWAfut1K2dd9757rvv9nH46Ec/evDBB7vl436K1XeHv0E2ChgFRksB07hGS3/r3SjQMgXmzZv3pje9ae2117766qtbBl0X3JFHHgkySBh1Adh3UQr87Gc/e97znvfUpz71wx/+cEdk2n333X/wgx+st956wL/++usRKPFCf8UrXvGa/ytLLbUU9csttxyOE5tuuqnkUSutU6BwEfXACagZO+64I/wwQE7AiMQqYC38/Oc/b534AMTACLdvscUWj3/84/kv9w5rrbXWMssso1XA3+qUe4f111//Rz/6kcNhhRVWeMc73jFz5szf/va3PmKx+i6QN5hGAaPAICjAzRBl9dVXBxviuPRfK0YBo8A4UuCvf/3rCSecQFwNyxnZaAhD+POf//zMZz5zt912GwIyEwwHbvRf/epX6yAhUASBuPUBErK10korPfzww4L8lre8Rd0tvPDC++233yOPPOJ6/Oc//7nuuusSCdw6DgawcBH1wAloESjV11133QA54bLLLnOBUq997WthxXZ5hnuEjTba6D3veY/AcqvlpDduH2644Qa/u2OOOWbKlCn+0sA4xnrhyinAKlbfLvIGzShgFBghBdxVC3Fcj/kqUEzjGuF8WNdGgXYpcMcddwxH4zrllFNAJhBK2h3vpIWm4BD+Je/R85///Oc85zlc8LdIDdJjLLbYYieffLKDefzxx3Nb/4IXvEASJ8rYn/70J/frVVddReVvfvObFnEwUFCgcBF1zQnggPVmww03HCAnYNx79rOfjZWVfe/9738/HIi9t122UaQiZi6BvfPOOz/wgQ9w2YEepYVw4okn+j2yaoIa/A6WXnppFOMAsVh9Jfx/+MMf7r///rNmzTr00EN/9atfVfrWGhsFjAKdUsA0rk7Ja8CNAiOmwKA0LuLLkYdav3UeMYkH0P3ll1/+5Cc/+YwzzhAu5IFcc8018f1rkdTf+973kCZJCZAd7nnnnff0pz+dX93Fv3Cg5tJLLx0AeSYUCulF1AMnQM2XvOQle+6559A4AW7HqY8Yql//+tfCDVXnSU96EvFmLXIAoWvoS1mAdPrGN74Rnseh8f7773cNsLNtt912fnuwotlFF10UAInVl0f+y1/+MhFl8nWksNniA1z+c2tpFDAKdEoBX+OyOC7nHWB/GAWMAi1TgMhy1L/p06c7gaDlDiYxuBVXXBHT1g477CAaPPe5z/36179+wAEHtEiSm266CWi4SGVhvv3tbyc19kILLfSVr3zF/QoOOJ7pKyttUaBwEfXACX/4wx9QvwfICYhK5KW49tprMfCK4ISZzZ8/f/nll2+L/sCBpXPHTqfw/zbbbEPOGPwtXY805tUEHwEpZpiIA6xi9SWRx3dx1113Pffcc/EnJzkHdy4kRvvQhz5U8nNrZhQwCvRJAdO4+qS29WUUmFwUmDNnDgPGc2ZyDbuX0eLRt+qqq/pdcdH+ute9rkXl9tZbb+VqX7asbFl55ZVf9apXkaUQO4P7FZTQA3shQE4n7pWwUSHQRb+Fi6gHTkCHQbcJ+M0NdoSc8IQnPAGex9jrUx5zHDRpcS4I3IqNnfgx3PnoC9c+fxUQ9obDratZdtllydRK4pkgf0asPos89M8mY8TAhcZFBkXoQBSlLlxYti2O3UAZBYwCbVHANK62KGlwjAJGgZACPNhKlcvu4P9M1Dh3scSjI7VjqOFtn+GTD6EHPMl0z10yaiThIkRNDAFt4kOOOOIIfJkQ4EhSgkWiFazwzkrnHiR4DAML0p7rjvb+f1tBoySQ973vfYssssjHPvaxku1LNhs5oyYWUe4QeJmXBQUn4GIqba15kUqTUGgHwgldjJ2BsxDSY6fNKqus4uisxjj7+ZTXNphVh2L1wazlJmMkAp9cNa7lxhtvTKfPetazms+4QTAKGAXap4D8Fy1zRqd+nAbcKNAnBQYSx4XpA6sLBfkjGP4FF1xAfbCdbbbZZi3GILVFcByKBIp8cag0Ac4INyS+b9gXqSaahF6gbr3tbW972tOeds011+y0005geOCBBzZESZ+jvSBrxkBx477ooovutddefgNMAaNKkilbHBkUGo4dK8Q999wjIN0xKi84oZ0WoppYRLnf4lrGysLPTY/zwhV+apPC7mINIAjQeME8t8FAOKGjsTNk4ui4Z4kRh3wV0BnN3DXA1oTyH7QnhyE0zGYsjNX7n5dMxqjM+HvvvXftibYPjQJGgXYpYHFc7SuuBtEoYBQIKEDgB+EN2EBc4mY14JaXB2qe8YxnYJTgRYpNNtlE9Z///Od55WY4ZCQ04p3vfCcmo7/97W9gBc5E1BB3cdhhh2Gd0ztUpC9DFPv9739fCW0EYh4OOuecc/TVAw88gC7n/lsJFI3J0v6FL3yB4H7cq4ikgtoupqUqqKA95kce1f3JT36ienrBuPfpT3+a6BH+y2RhSDnkkEPcV1Ds3nvv5auG/db7nPRx4PPBD36w3uf6iqSa3D/KrNQiowYzDnDIiEWi0EYaW0S5YyRzyZvf/GZWFk9EwAn8wY1AKyZHVjEReu5t3wFyQndjh9SwtBs70ti0adNY9bJWkTDjtNNO+8xnPqMNQYXG2VXwwhe+UEwVzF2s3jVjf9h+++1JEKpkjOxCsXDN008/nTSJFsfVZAewb40CHVJAypzZuNpVag2aUWCEFBiIjYvjn50Lv8GAFPjjvfKVr/SzGKslZYkllhgh3fyusT+AJ6EXyoEmEfzMM890bdC1Xv7ylwttBNzyaHPjJRX0pz/9qfuK63muyZHbysNRS261SVH9lKc8BROcanAprAok1h51a8kll3R5rkkGIEcpHlhbY401EP4C+wnZ4UHmwQcfbAuBnuEgy2LTc7PZFqPmzji0xahLuFF6vmKLKJcy733ve5kdxHH9yn0HlwVt0ZCMFKj0gjZATuh07FiPWbPu2QP3Kh37A5kSyVgTbB0kDDz11FMDymsPQTErWa9m5ZMxctmBugWqbc24wTEKGAWaU8CywzenoUEwCgyXAl/96lc52jfddNPRoogJCzS4nfXRIJUWMSEkVwhw22CDDaS9DERe/8hHPoJ2QTS88MRRB8+9AGfUJOGMMFqe1NgH+AQ/peAT1C16ROgvD4qWJGoDGpaNSl+Vb0xoPpfrTj3+4x//yP29rys6UMj3WMB4fbs88EG1RHfFLoQlU1i1yKixGYdiGOXQ6xLuhbmLKJduQENphxmwonRBWAiyzDLLfPGLXxTwQXFC12NnvGR7d1sZbtI//vGPv//977trDp/gLElM1tk55d0wbRfBg3WxesHEZxglCuux3wUuo4EfMncfbCno511MvcE0ChgFalPAvAo7tBkaaKPAaClAIDVPJIEDehePlsreNZKCiEa/XPf6vRMQsscee6y22moBSrnZNWJoc3PP8+1kJ0+48/HTd77zHUSiGBCMVyR0JpwGHznEGj9FBGoGIUyQUQ4/FKARrRGAwnGI9OhVaUu+MulIwYfkHMPiseWWWxIQUh6mpHlyJJT/pFJLrvNxrdx8883lWkmsFBkC0BMCIJxGZGvA8CVTQ8lCXBDs6qc6LPwwMWv6Vm+I+QX4PFmrGkahGQ/aYHHaYostEFtxGdVPrTCqQMVmHMvk4YcfTogOHqGxgecuotzGvNILtzNB8lhpveCgSNoYrh5EzHY5oSG2XY8d9Ejsjk6OFzR/Y+9aYYUVyNCYDUa9+OKL8Y7mtbrszuB2Qs2pK7F6NSiTjJG9C7dVHB0JoWxISfvcKGAU6JAC0tvMq7C2/mofGgUmGAXQLrgm52LV5Q+oN0AFaGEsKvM5ef9oTKxIujG5yDfccENc15B4kEUoGCVA2H3F9fPRRx+NWQZoCD3IRqgxhEj5YBFQeMuVLOqv+L8CELxx0L7Uhl8JsuJzBKw0MiQMUCp2pLEyY6QNwpYe9kEmy35y8skn81OZzBO8SnzWWWe5531QDvkv0l5JNKo249GhtPENVsm6URX28q53vYvx5hoKst+mZ+273/0u+UIIN3JeWyhXoI0eiKoAD8AkiKTkM6BHrKzoz34XeoiWG4pCnEsyqoOTnnHYFWaDS2Hs3K4LFxHUY+opr3/96xkCOQP13ya5WBJEwCBDBFqiQT1OKCR7boOex47qDo+ls/ugPCf4WWoYV0XBcGL1akYg5fnnn0+YIl6d2k553/kNb3gDWhZ9wULsGLNnz3YwqbTkGfU4yr4yCrROAfMqbJ2kBtAoMPYUYF/A4OAuXNFqXvziFzcZlQwv3AqXAaI3u5CPE41RilCNiAGTLoSxQgFR2GH0FUI2YWPU7LzzzoiwOD7h5Kb7qq222sqlTFRysCOPPFJffepTn+K/CDH6L/fl/Dfr9ZdFTIEZuALy9k7hGFFI8DXyH8sirR/JrP0P8dYDINYDdLk0QPJDYGFDQdUtOH9TsNIUojGoBpU0rsSs4Uy1zjrraKKdxoXfl8styRyhdJHGkNApJTqHc0iS4aihz7FOFNKnDKMKSJkZp5nesA40QIdG4SJCs9Lsa/iMUf+94ooQdV6fAAAVP0lEQVQrCscy7g3GbuxKp0m4Y0D5WL2afeITn8BFXPPLdor25bKhcKdAslAUNi6eYCQKT5O/6EUvIqvNuE+u4W8UmBgUMI1rYsyjjcIo0BoFkM/I9M2JjpB66aWXcjEP6GxW90r9yXWwjP2HPGOEoKDjkfgr1gUXtzizgST7l2sjX0R8e1Sjt5jQZHASc21c5q5TTjlFlQS708wPMefJVDwJ9SvaGr+WuSSmDS1xkkyTBV81fAWRilDtMEPxCQEhMpXgV8YFtv850hL1LlomDVlORGuttValeRlO40oaV3rWGBSuj77GpWGihUpUJaOj+BlrmGpcnm4F0qCDoaKniVOGUYFQacaxdtI7iyW365KLiIWjQV1++eXDmd9+MBmjsRMoyBzhnBlQJlbvmjn3ab4lEykKFRsmf3BtpHn3C9lflO/HilHAKDByClgcV3aPshqjwOSlAPkhZsyYgZiIBE82CEKM9IZmkNVdBMK+ROwQV/LHHXfc/Pnz2c4wCpG4L0s+5FcqfatOjMS4yqBQEdOCT1SsDZe7iFa8N+UHhn3yk58kUzMf8hVaojQu2vhvjyJqo9hQzxOieplU/6WetMvqjugj92woBitq5JeYKGhKuFctv/zyCO6JZvjC4e6FooVnI70oNzQ31hAQh0ZsWZDR/1z9CofCgnsSbZx5p7D9WDdIzxpDk9gaFJI9UAM/EKAlfsZyK69RMh+oMdYw/sV8KlNDopRh1HZnvOQiEicwwLXXXnusZ7kG8mM0dm2GDz/8cDDMWL1rRkgqf5MjlESacDIehiSzYfvC1p0VKDH1t/U+RI3psE+MAkaBGAUqh30bKY0CRoFOKYBegXdZuqAdZXHAjw5HqdziHpPJxZxTHMEO8xF/5GpZ+gonOrImYA7iWVhkU/DkQSH+eOtb36okaUGRYFH4HBABQmeccQb+MMRWJQgrZz/SMftt8DCkXtkayH9IRi/+IMTLbwOGCobhnlhPSxH/wL8IaqR3R2vCIEbWCpe6Q6+IpkUWNDdMWxjlyP3gVLVc5LFr4TqooAsaMDt4taEl8rd6dK9d6XP1KxzShfQPyhIxRhpXwNskRgf/gNVzebtw1miQm8Ukl5+V+QN1VxQuM+M0K8mo9Wac2cwK4nRachFJ60CZ5A2uIsYZxO+1d7ks9mM0dm2G0qL9Eqt3ba699lr+Zr3AD3rlnC0XW9Yg5tKQMAoYBUpSQBckU6dOpX3JiIuRG+kMAaPARKVA9jDOXch+nLQjReLtV5SiBMXIN0AvnN9YXfAqRI8iEzoagv/aErnLaYCGg2joQGEc4L0mErvnApfFAG0q0TVvyKBj0CPZAtNzKmgXXnhhrJlLI0FquKCN871BQeIn7GkuwgeYOPL5aSGwdVBJpscEPtwxYza5+uqr0zhj+pMuKviI+NCQweor8k3zU+CUSGJAKhGqCjmcV4DEG4UZPgpB9dOgCW8XzhoNlKIzeO+IR8OoZLL8McoQ5NL9K5AP3m7OqDVm3D2CjHNjFoEyi4iv1l9/fYZQJvNHP3Od7qUhJwTAx2jsugzKClqxejdSPIe12PFBGMIMGg5GAaNASQrkeBUqmNjPj1xSYbNmRgGjQIsUwHWKdFiFRXnJgkJoEEJbbnFPDGe/YtXLzELXSEIYgnDP48UYtglnuSICCsUAhzcCtX1zFoLCzJkz3VNaAXDZHOTIl1vQ6Eh6AZA5c+akTWEYr3TZjwNkDJqzZhBsE7RZeumlVSOUiPsieB0PMV0SE3/PEKhRG1x3+DdmaeEnEsHhzfjZz36WrInpqZ83bx7aHburzFlcxmNPc3nh5cyGlusDUb+5NsOgL13tMynykRt+yfK2bvoItPMZPpe3C2etyfALZ7w8o9ae8dikFy4iPmSJyVt1XKydTXa5YKLHa+yxzTCxSTJe9mQl6SFry7rrrtuE1e1bo4BRoGcKOMUKp5j/kZZG1lGQOOSQQ0oqbdbMKGAUmBgUwLikKAIyYuWOiOeh5Krk53ZzLdHWgtwP7ieF0JDxPBcsusf06dNJla4sHYVFIV74TWWfFiXIASTleEM54IADAmhO4RSqc+fOVQP0N6WeoyyxxBLKrICtg/+SLjwXJexaaFCxQQWfkKceUNjQVK8wM8x6/A0mGF7Q/YJkIcKnzFasnBCkJisk3WAbVMqckZ41xljbxqUXw7HWNmfUGjMuYZobh9xENelFJIR5D1c83PA5h8HySQKx8Rq7NjHua4IRxerV7KKLLtL8ktNoHOfIcDYKTGYKuHBx/OcXxHEpKBnZq2flz7ozChgFRksBRD35tBAGlosJtiBsXzzZl/tIMakjKLkfSk/Lfd8W4RKfOow8WJaCOCjSYJx22mlZgOhaVBK5RLCZ/ysKDFoKpiSCsmSrV/K3oA3/JbMCubP5A0GfnB/8wQPHCDG4CPI32b0U7aZIqtxcIERkkfSCyHXivnz4XELz+G8WZ0yFVDrzHSorGqZwIHMG++3BBx8cJAtRv2UC3ydV2ozCWWuyiBIzXpVRa884if5zQ84Si8gNWZwABCW6nFRlvMauzVB+y36J1auNQlhxlyUcdFJNrg3WKDABKOAUK/SsBRqXEkMnHGkmwLBtCEYBo0AuBeQWiJsclqJsAyIHqOS9F/8ndDDCh1whuCv7oYRFEmdlf0LnISKL579uv/12EtOrnHvuuSTPwLyjRBdBobFqyJOBFYtsfmhZZFEH+d122w3dCc1NKdf5iWyK/ue6JCaaywm1DFYNqCGHof6Qd5kUS5fIzsEhqzhuhLzThe7ncEZhwzaII5xylweFRCPUoMghiGOau+mmm+RSCD5nn3020USKMnJFZjeHQxagq3nwwQeVFHtcHMkSYyn/U2LWAKJMGMqe4opkWd2wukq1wcqqGtKxcAJyLgZZTPipKqNWnXG6wDCVmPHEInLDkdYxCbMUMurxGrs2Qz/bqiYxVq9feSqQf/HfLpP3tfxqspZGAaNADxRw0tEiiyyy4CiSNFMmXHsyGwdt7EaBCUkB/PoUC0S800knnYSbE+EoKC133HEH2bGkpXDP6o+dyCtn8uKxKcJIspTBaZAP3atHroE0nFgBWozIJAbIfkUODPf6FoKLnoIl3wC6nOCgwlFDwJjz2sJeh0efe+6WIauB2uu9piABA+Y4ahJo81UWbe6wlBYPyxjPN/MHGhpv6RCcw5Ncjz76aPCJonEwORayGa+HSXRDo4g15ieya6Da6T1lfBv4G2UjaI+BDtwoqieRAwph4RPMhRiWaVDJqzA9ayi0yi4Au2KtVe9U6gVhCu9lqxJj5mMn3/9Rz+VrgeuogRN8tGswatUZpzsp4TwekEux2CLyGyscjheiYzQvOcWQi9sBrkJY9QKFrI/LbpmpHFWbwrGDGBdJ6Opsa0ISJ9Lg5XHVl1wvTUaqwNGse3asnr6UjzT3qyaY2LdGAaNAPxS48cYbddzQ3QKNixTJVG222Wb9YGC9GAWMAoOiAEoXYTDI+u4alQCS888/H589nffZEBHEd+q5WY8NhDe+aMBtjt9AMTOJgp9hgjKkTHReiMjN2Ij8x475kP+Ss5FRIHnjwkcue5QrnPf86C88ABkpDVZeeWWMEjTm1WMnZQJkzTXXBENf1lRwV6ygfMZwxma10UYbOaqiCiJDQ7rc9npYLKujZhuTrJKWW2+9dYJW0IG8iJLmCXfRc1VBDkYkbPJYQgqIic0QaFCYZmeeeWYP/Pnud7+brrOaZ27XiVkjMMZ/Pw1b5e67744N0GVMYURYsdC9UbPlQq9C8B6PCtDdZZddxn9d9kLJ5fUYtdKMw65QnsMYpSh31LmLyG+Jbiy3VRLA5EIoP8W4yypsjPUiUPhbQtgeOKFeF4VjByzqDfk/YQkysvJf/mYx5ualLLNe6uGpr5xNlRnx4cTq1YaQUTFqNn61CTL2rVHAKNAPBbhmZQlzY0h3CzQu3ZhyR9gPBtaLUcAoMEwKcPyjezg1BrsQ2R3YHPCICxBGS6E+GwXuminYiX9bHylCLVJLwryD8sDFEooNlo2suQaXSFDCHIERj+InwReq3Csjl8+aNastzFEqyE6EgoQVLgYTnJFu2ZcDHTK3vRxBP/e5z6UxxJsRexpemvhDYvmh5KZnOOKII4DGM2tAg1yoiHh4tjX2tuAUzlrDjphuTA1tJZ8oM+MgLP32kksuiSFfuIjk9LvSSiulh19yilkLxINxDSFoZKORojLMUnLsIK+sKngdkxgTRiIRa+6ISq6XetTAuCodHjOyDyFWX68X+8ooYBQYFAXkRIOfC1gt0LjIKE0VnkWDQtSQMQoYBUZOAfQECSsBJsq3kXA6wn2OBoj7Ix9CDQQw+2N+yT7tVQOUPmF3TacaQxZEzcv1Tgw6RWTEcIdhxH8bLYYYKhyzoIfIYgUREMXMWcw233zzcXnjq/Z0ZD+EquSAISSvLZiFM84zBthe0op94SKS6yMKVRrt8lOM4dFZzDAAYhRqiyCtwyk5dvqF/xkUQZiJaxqhV2a91BvInXfeCQ6s3ODtwVh9vV7sK6OAUWBQFJBDihwHFmTOwJeAgrtz7rP3aecK+9UoYBQYDgXIG8EKJ9EFPkLu9rQJemSGwKcFWxbpIhwcrOKkGcDpiKwDMeBK30eOhya9j+pb5E4exiW8B+NecxwwLmE5jL00BXwEa0JNCKZSSsZswe2Th1MlnBFdg9BGlpEyz3YptYb/4nMWOPOLI6VSopHBlpSP4/LGV/OpcRBw+ETBZpoIsWuetrdwxnF6xPBIcv9TTz01MYrcRXT55ZeTsVOPOKHGo7YpIi5Ryk+x4srEDPQiBWw4pcbYQV6rgKC+wuQTZdZLPWpoJySlavD2YKy+Xi/2lVHAKDAoCigH8oLMRk4X3Gqrraj95je/OSjt0JAxChgFylMARYg7VCdVYAaJRXeUh0lLLsgJ8sTmQ8DSNttsg+aASYS3OIl+ScDh+oZmiHqV+hpUYzJPYPdonkYCbcqPEQrGyAU8ch4Wj8TY5RWGMyGpL1ZddVVyM/qBZ7EPcRJTZE4QvpVtj4WNZqjrOIu6pCODmot+kGGu0bjKvIeWxic943xLihd0rcJBZRcR8Txy9MWnjgg9/jj++OML4dCg5BTDM6gE2267Lb67Q3vtrfbY5b2ZG77lk678eilD8KCNHr3Av7FkfY0u7BOjgFFgaBTA5RuRTF7xC7wK+YsMRWwHLmR2aEgbPkYBo0CaAogLZEcgGocbeqQxpX9oMR0Owh9hUeQeIJOhto/ComTZvDFV2HKwDbLJ/Wqgiq3ApUbMfo6nU6GzE/Fm7Nqof3g9Ee7l0vGlkdlxxx0Rx5kCpG1a+iH7Qb4KTAc0I+0+qfZrDHCCfZIItys50vSMA6Q8X2UXka5HeZ0JI2f2ve8YhrEpzmYuIaJ7tdVWI2kHKTpLjre3ZjXGDtsTRckDgNxGsUlyteHylLDu/LlOrJfmA9S7f9nYy1h98x4NglHAKDBaCugRF1JYCY3/aFzc7eFWkcg8Nlq8rXejgFEgTQHOcl/8UoYcspOPkG5IOeBwzTXXjBCHCdM1lkZygZB7rVA9I7iOC3VC0Ui/xvBJfoBNDCdJciGKGviIor8hXzri6BkAAsmCsP4JQ73xHUh2EWHq4UoFM1raLhoMOXeKs5zAV3omTlr60Er5sdMS0xaeujgTIveQDIZBkQgUt0l8dBkXYZC8P44Rnluq9HpphQhyKs4qsbH6Vjo1IEYBo8AIKXDKKaew6tmrhcN/NC7+s8cee3AMszeNED/r2ihgFKhHATLs+Wn3SHnHnS531fWgtfLVWWedxXbDJW4r0AxISQrIfwzzpmL0999/f/5LFninqh144IHU4PPpuyYSu3XccceV7MKa9UaBFhdRdopzOQEpATsqNu3exthFR/A2yScxAypWgvyE3CnjkImyqu5ooAem9fZDYr00R4+dWeGRAahYffMeDYJRwCgwcgpMmzaNcHe9vEL5L42LzBnsR8H7OSPH2BAwChgFalCAdHOIEXvvvXeNb9v6BMs5sWTEHbUF0OCUoQA5FYL4PbLRBh+S+ISsJy5ZPF6LnA25uePL9GhtuqNAW4soNsUBJzAQPPeIYOxuRL1BJimF/9AZvtCBOzQKD/dBmI4L10tDnHlQnt0Y/TaAE6tv2J19bhQwCoycAmQeZtX7b9MvyFVILWWppZZiRyCcl9sg1VgxChgFxpQCp59++mKLLSZzx6jKwgsvjOsacRRIdaPCYRL2i38g0br+wJU/wxViV/bbb7+99tqLllQileJIRhoG/dfKoCjQyiKKTXHACQycJ3dJmIkn3qCIUA+ZJZdckkSO7ltsXBQf1C233EIyUlKSptdLvd79r0gyhMGNVPsBqFh98x4NglHAKDBaCuDGT25SP5Hs4x6zc3mF/06fPp03EIkJGS2u1rtRwChQmwJkVpg6dSovqxIyXhtIKx+CCXFEZDbH2tYKQAPSnAJ33XUXVi+MWpwHU6ZM4eHXo48+GoZpDtkgdEGB2osIP9L0FIsTSMLBM528A0HCeuycKF2TRPc+8cQTCZNbZJFFupg1BxPnXrw0WW4Y0/yOYvWdImPAjQJGgR4ocNVVV+GofOutt6688squu/+ycVHLPnvxxRdzIR1sDT3gZ10YBYwCrVCAiHCCdpChR65uMZzllluOxOgIczhHtTI6A9KcAmhZCNlE7WLN4JaNxHqmbjWnancQai+iwikWJ2idEm9AXkSCuCaJusWoMTp1rW7RC2k58G/kAb2AQ2L13TGSQTYKGAV6oMADDzzAOxBkL/PVrcc0rMDGJVQImZ01a9bWW2+Ntb0H5KwLo4BRoC0KkKGLm5XXvOY1BGS2BbMhHEwo5DRnA9p3330bgrLPjQKTkwK2iMZ03rlpwsjPM3ekSfSHEKsf02Ea2kYBo4AoQL7fmTNn8qgjYlhAk3yNi0ZoYrymyk25EdEoYBQYFwqwbDnayYjFahfOPLZDynjsXaMdAsES6IH33HOPkoNZMQoYBapSwBZRVYoNof2RRx557bXX8hgaqUF9fGL1Q8DZcDAKGAVqU2Du3LlcsvDsRBZCVOOq3Zl9aBQwCoyKAsRKHXvssdtvv738gnhlldeKd9llFz2yOdoCYmRqBpnRomG9GwXGlwK2iMZu7tZff/05c+aQsjXAPFY/dgM0hI0CRoGSFDCNqyShrJlRYOgUIMvorrvuGmBJgixcionQGAL2mOAmT4jIEAhuOEw8CtgiGq85jc2XzeN4zaNhaxRoToH/B9AlMq9R+Ho2AAAAAElFTkSuQmCC\"></div>"
      ],
      "text/plain": [
       "FormBox[TagBox[RowBox[{\"(\", \"⁠\", \n",
       "\n",
       " \n",
       ">         TagBox[GridBox[{{RowBox[{OverscriptBox[\"r\", \"^\"], \" \", \n",
       "\n",
       " \n",
       ">               RowBox[{\"(\", RowBox[{\"-\", SubscriptBox[\"ϵ\", \"G\"]}], \")\"}], \" \", \n",
       "\n",
       " \n",
       ">               RowBox[{\"(\", RowBox[{RowBox[{OverscriptBox[\"r\", \"^\"], \" \", \n",
       "\n",
       " \n",
       ">                     OverscriptBox[\"ω\", \"^\"], \" \", \n",
       "\n",
       " \n",
       ">                     RowBox[{\"(\", RowBox[{RowBox[{RowBox[{\"cos\", \"(\", \n",
       "\n",
       " \n",
       ">                             RowBox[{\"2\", \" \", \"ϕ\"}], \")\"}], \" \", \n",
       "\n",
       " \n",
       ">                           TemplateBox[List[SubscriptBox[OverscriptBox[\"f\", \n",
       "\n",
       " \n",
       ">                             \"^\"], RowBox[List[\"x\", \",\", \"y\"]]], \"\\\"(5)\\\"\"], \n",
       "\n",
       " \n",
       ">                            \"Superscript\", Rule[SyntaxForm, SuperscriptBox]]}], \n",
       "\n",
       " \n",
       ">                         \"+\", RowBox[{RowBox[{\"sin\", \"(\", \"ϕ\", \")\"}], \" \", \n",
       "\n",
       " \n",
       ">                           RowBox[{\"cos\", \"(\", \"ϕ\", \")\"}], \" \", \n",
       "\n",
       " \n",
       ">                           RowBox[{\"(\", \n",
       "\n",
       " \n",
       ">                             RowBox[{TemplateBox[List[SubscriptBox[\n",
       "\n",
       " \n",
       ">                             OverscriptBox[\"f\", \"^\"], \n",
       "\n",
       " \n",
       ">                             RowBox[List[\"y\", \",\", \"y\"]]], \"\\\"(5)\\\"\"], \n",
       "\n",
       " \n",
       ">                             \"Superscript\", Rule[SyntaxForm, SuperscriptBox]], \n",
       "\n",
       " \n",
       ">                              \"-\", \n",
       "\n",
       " \n",
       ">                              TemplateBox[List[SubscriptBox[OverscriptB\\\n",
       "\n",
       " \n",
       ">   ox[\"f\", \"^\"], RowBox[List[\"x\", \",\", \"x\"]]], \"\\\"(5)\\\"\"], \"Superscript\", \n",
       "\n",
       " \n",
       ">                              Rule[SyntaxForm, SuperscriptBox]]}], \")\"}]}]}], \")\"}]\\\n",
       "\n",
       " \n",
       ">   }], \"+\", RowBox[{SuperscriptBox[OverscriptBox[\"r\", \"^\"], \"′\"], \" \", \n",
       "\n",
       " \n",
       ">                     RowBox[{\"(\", RowBox[{RowBox[{RowBox[{\"sin\", \"(\", \n",
       "\n",
       " \n",
       ">                             RowBox[{\"2\", \" \", \"ϕ\"}], \")\"}], \" \", \n",
       "\n",
       " \n",
       ">                           TemplateBox[List[SubscriptBox[OverscriptBox[\"f\", \n",
       "\n",
       " \n",
       ">                             \"^\"], RowBox[List[\"x\", \",\", \"y\"]]], \"\\\"(5)\\\"\"], \n",
       "\n",
       " \n",
       ">                            \"Superscript\", Rule[SyntaxForm, SuperscriptBox]]}], \n",
       "\n",
       " \n",
       ">                         \"+\", RowBox[{RowBox[{SuperscriptBox[\"cos\", \"2\"], \"(\", \n",
       "\n",
       " \n",
       ">                             \"ϕ\", \")\"}], \" \", \n",
       "\n",
       " \n",
       ">                           TemplateBox[List[SubscriptBox[OverscriptBox[\"f\", \n",
       "\n",
       " \n",
       ">                             \"^\"], RowBox[List[\"x\", \",\", \"x\"]]], \"\\\"(5)\\\"\"], \n",
       "\n",
       " \n",
       ">                            \"Superscript\", Rule[SyntaxForm, SuperscriptBox]]}], \n",
       "\n",
       " \n",
       ">                         \"+\", RowBox[{RowBox[{SuperscriptBox[\"sin\", \"2\"], \"(\", \n",
       "\n",
       " \n",
       ">                             \"ϕ\", \")\"}], \" \", \n",
       "\n",
       " \n",
       ">                           TemplateBox[List[SubscriptBox[OverscriptBox[\"f\", \n",
       "\n",
       " \n",
       ">                             \"^\"], RowBox[List[\"y\", \",\", \"y\"]]], \"\\\"(5)\\\"\"], \n",
       "\n",
       " \n",
       ">                            \"Superscript\", Rule[SyntaxForm, SuperscriptBox]]}]}], \n",
       "\n",
       " \n",
       ">                       \")\"}]}]}], \")\"}]}]}, \n",
       "\n",
       " \n",
       ">            {RowBox[{RowBox[{\"-\", FractionBox[\"1\", \"2\"]}], \" \", \n",
       "\n",
       " \n",
       ">               SuperscriptBox[OverscriptBox[\"r\", \"^\"], \"2\"], \" \", \n",
       "\n",
       " \n",
       ">               SubscriptBox[\"ϵ\", \"G\"], \" \", \n",
       "\n",
       " \n",
       ">               RowBox[{\"(\", RowBox[{RowBox[{RowBox[{\"sin\", \"(\", \n",
       "\n",
       " \n",
       ">                       RowBox[{\"2\", \" \", \"ϕ\"}], \")\"}], \" \", \n",
       "\n",
       " \n",
       ">                     RowBox[{\"(\", RowBox[{TemplateBox[List[SubscriptBox[\n",
       "\n",
       " \n",
       ">                            OverscriptBox[\"f\", \"^\"], \n",
       "\n",
       " \n",
       ">                            RowBox[List[\"y\", \",\", \"y\"]]], \"\\\"(5)\\\"\"], \n",
       "\n",
       " \n",
       ">                          \"Superscript\", Rule[SyntaxForm, SuperscriptBox]], \"-\", \n",
       "\n",
       " \n",
       ">                         TemplateBox[List[SubscriptBox[OverscriptBox[\"f\", \"^\"], \n",
       "\n",
       " \n",
       ">                            RowBox[List[\"x\", \",\", \"x\"]]], \"\\\"(5)\\\"\"], \n",
       "\n",
       " \n",
       ">                          \"Superscript\", Rule[SyntaxForm, SuperscriptBox]]}], \")\"}]}\\\n",
       "\n",
       " \n",
       ">   ], \"+\", RowBox[{\"2\", \" \", RowBox[{\"cos\", \"(\", RowBox[{\"2\", \" \", \"ϕ\"}], \")\"}], \n",
       "\n",
       " \n",
       ">                     \" \", TemplateBox[List[SubscriptBox[OverscriptBox[\"f\", \"^\"], \n",
       "\n",
       " \n",
       ">                        RowBox[List[\"x\", \",\", \"y\"]]], \"\\\"(5)\\\"\"], \"Superscript\", \n",
       "\n",
       " \n",
       ">                      Rule[SyntaxForm, SuperscriptBox]]}]}], \")\"}]}]}}, \n",
       "\n",
       " \n",
       ">           Rule[RowSpacings, 1], Rule[ColumnAlignments, Center], \n",
       "\n",
       " \n",
       ">           Rule[ColumnAlignments, Left]], Column], \"⁠\", \")\"}], \n",
       "\n",
       " \n",
       ">       Function[BoxForm`e$, MatrixForm[BoxForm`e$]]], TraditionalForm]\n"
      ]
     },
     "execution_count": 841,
     "metadata": {
      "text/html": [],
      "text/plain": []
     },
     "output_type": "execute_result"
    }
   ],
   "source": [
    "RHSEnegryLagrange = - 5/2 Subscript[\\[Epsilon],G] FullSimplify[{\n",
    "  D[fh5rhrh, OverHat[t]] /. OmegaReplace,\n",
    "  D[fh5rhrh, \\[Phi][OverHat[t]]]\n",
    "}, Trig -> True];\n",
    "\n",
    "RHSEnegryLagrange // MatrixForm // TraditionalForm"
   ]
  },
  {
   "cell_type": "markdown",
   "metadata": {},
   "source": [
    "<span style=\"color:red\">**NB:**</span> Выражения полностью <span style=\"color:green\">**совпадают**</span> с предыдущим подходом!"
   ]
  },
  {
   "cell_type": "code",
   "execution_count": 842,
   "metadata": {
    "vscode": {
     "languageId": "wolfram"
    }
   },
   "outputs": [
    {
     "data": {
      "text/html": [
       "<div><img alt=\"Output\" src=\"data:image/png;base64,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\"></div>"
      ],
      "text/plain": [
       "0\n",
       "\n",
       "0"
      ]
     },
     "execution_count": 842,
     "metadata": {
      "text/html": [],
      "text/plain": []
     },
     "output_type": "execute_result"
    }
   ],
   "source": [
    "FullSimplify[RHSEnegryLagrange - RHSEnegry] // MatrixForm"
   ]
  },
  {
   "cell_type": "code",
   "execution_count": 843,
   "metadata": {
    "vscode": {
     "languageId": "wolfram"
    }
   },
   "outputs": [
    {
     "data": {
      "text/html": [
       "<div>&#36;&#36;&#92;&#108;&#101;&#102;&#116;&#92;&#123;&#92;&#104;&#97;&#116;&#123;&#114;&#125;&#32;&#92;&#108;&#101;&#102;&#116;&#40;&#45;&#92;&#101;&#112;&#115;&#105;&#108;&#111;&#110;&#32;&#95;&#71;&#92;&#114;&#105;&#103;&#104;&#116;&#41;&#32;&#92;&#108;&#101;&#102;&#116;&#40;&#92;&#104;&#97;&#116;&#123;&#114;&#125;&#32;&#92;&#104;&#97;&#116;&#123;&#92;&#111;&#109;&#101;&#103;&#97;&#32;&#125;&#32;&#92;&#108;&#101;&#102;&#116;&#40;&#92;&#99;&#111;&#115;&#32;&#40;&#50;&#32;&#92;&#112;&#104;&#105;&#32;&#41;&#32;&#92;&#104;&#97;&#116;&#123;&#102;&#125;&#95;&#123;&#120;&#44;&#121;&#125;&#123;&#125;&#94;&#123;&#92;&#116;&#101;&#120;&#116;&#123;&#40;&#53;&#41;&#125;&#125;&#43;&#92;&#115;&#105;&#110;&#32;&#40;&#92;&#112;&#104;&#105;&#32;&#41;&#32;&#92;&#99;&#111;&#115;&#32;&#40;&#92;&#112;&#104;&#105;&#32;&#41;&#32;&#92;&#108;&#101;&#102;&#116;&#40;&#92;&#104;&#97;&#116;&#123;&#102;&#125;&#95;&#123;&#121;&#44;&#121;&#125;&#123;&#125;&#94;&#123;&#92;&#116;&#101;&#120;&#116;&#123;&#40;&#53;&#41;&#125;&#125;&#45;&#92;&#104;&#97;&#116;&#123;&#102;&#125;&#95;&#123;&#120;&#44;&#120;&#125;&#123;&#125;&#94;&#123;&#92;&#116;&#101;&#120;&#116;&#123;&#40;&#53;&#41;&#125;&#125;&#92;&#114;&#105;&#103;&#104;&#116;&#41;&#92;&#114;&#105;&#103;&#104;&#116;&#41;&#43;&#92;&#104;&#97;&#116;&#123;&#114;&#125;&#39;&#32;&#92;&#108;&#101;&#102;&#116;&#40;&#92;&#115;&#105;&#110;&#32;&#40;&#50;&#32;&#92;&#112;&#104;&#105;&#32;&#41;&#32;&#92;&#104;&#97;&#116;&#123;&#102;&#125;&#95;&#123;&#120;&#44;&#121;&#125;&#123;&#125;&#94;&#123;&#92;&#116;&#101;&#120;&#116;&#123;&#40;&#53;&#41;&#125;&#125;&#43;&#92;&#99;&#111;&#115;&#32;&#94;&#50;&#40;&#92;&#112;&#104;&#105;&#32;&#41;&#32;&#92;&#104;&#97;&#116;&#123;&#102;&#125;&#95;&#123;&#120;&#44;&#120;&#125;&#123;&#125;&#94;&#123;&#92;&#116;&#101;&#120;&#116;&#123;&#40;&#53;&#41;&#125;&#125;&#43;&#92;&#115;&#105;&#110;&#32;&#94;&#50;&#40;&#92;&#112;&#104;&#105;&#32;&#41;&#32;&#92;&#104;&#97;&#116;&#123;&#102;&#125;&#95;&#123;&#121;&#44;&#121;&#125;&#123;&#125;&#94;&#123;&#92;&#116;&#101;&#120;&#116;&#123;&#40;&#53;&#41;&#125;&#125;&#92;&#114;&#105;&#103;&#104;&#116;&#41;&#92;&#114;&#105;&#103;&#104;&#116;&#41;&#44;&#45;&#92;&#102;&#114;&#97;&#99;&#123;&#49;&#125;&#123;&#50;&#125;&#32;&#92;&#104;&#97;&#116;&#123;&#114;&#125;&#94;&#50;&#32;&#92;&#101;&#112;&#115;&#105;&#108;&#111;&#110;&#32;&#95;&#71;&#32;&#92;&#108;&#101;&#102;&#116;&#40;&#92;&#115;&#105;&#110;&#32;&#40;&#50;&#32;&#92;&#112;&#104;&#105;&#32;&#41;&#32;&#92;&#108;&#101;&#102;&#116;&#40;&#92;&#104;&#97;&#116;&#123;&#102;&#125;&#95;&#123;&#121;&#44;&#121;&#125;&#123;&#125;&#94;&#123;&#92;&#116;&#101;&#120;&#116;&#123;&#40;&#53;&#41;&#125;&#125;&#45;&#92;&#104;&#97;&#116;&#123;&#102;&#125;&#95;&#123;&#120;&#44;&#120;&#125;&#123;&#125;&#94;&#123;&#92;&#116;&#101;&#120;&#116;&#123;&#40;&#53;&#41;&#125;&#125;&#92;&#114;&#105;&#103;&#104;&#116;&#41;&#43;&#50;&#32;&#92;&#99;&#111;&#115;&#32;&#40;&#50;&#32;&#92;&#112;&#104;&#105;&#32;&#41;&#32;&#92;&#104;&#97;&#116;&#123;&#102;&#125;&#95;&#123;&#120;&#44;&#121;&#125;&#123;&#125;&#94;&#123;&#92;&#116;&#101;&#120;&#116;&#123;&#40;&#53;&#41;&#125;&#125;&#92;&#114;&#105;&#103;&#104;&#116;&#41;&#92;&#114;&#105;&#103;&#104;&#116;&#92;&#125;&#36;&#36;</div>"
      ],
      "text/plain": [
       "\\left\\{\\hat{r} \\left(-\\epsilon _G\\right) \\left(\\hat{r} \\hat{\\omega } \\left(\\cos (2 \\phi\\\n",
       " \n",
       ">   ) \\hat{f}_{x,y}{}^{\\text{(5)}}+\\sin (\\phi ) \\cos (\\phi )\\\n",
       " \n",
       ">   \\left(\\hat{f}_{y,y}{}^{\\text{(5)}}-\\hat{f}_{x,x}{}^{\\text{(5)}}\\right)\\right)+\\hat{r\\\n",
       " \n",
       ">   }' \\left(\\sin (2 \\phi ) \\hat{f}_{x,y}{}^{\\text{(5)}}+\\cos ^2(\\phi )\\\n",
       " \n",
       ">   \\hat{f}_{x,x}{}^{\\text{(5)}}+\\sin ^2(\\phi )\\\n",
       " \n",
       ">   \\hat{f}_{y,y}{}^{\\text{(5)}}\\right)\\right),-\\frac{1}{2} \\hat{r}^2 \\epsilon _G\\\n",
       " \n",
       ">   \\left(\\sin (2 \\phi )\\\n",
       " \n",
       ">   \\left(\\hat{f}_{y,y}{}^{\\text{(5)}}-\\hat{f}_{x,x}{}^{\\text{(5)}}\\right)+2 \\cos (2\\\n",
       " \n",
       ">   \\phi ) \\hat{f}_{x,y}{}^{\\text{(5)}}\\right)\\right\\}"
      ]
     },
     "execution_count": 843,
     "metadata": {
      "text/html": [],
      "text/plain": []
     },
     "output_type": "execute_result"
    }
   ],
   "source": [
    "TeXForm[RHSEnegryLagrange]"
   ]
  },
  {
   "cell_type": "markdown",
   "metadata": {},
   "source": [
    "# Итоговая система **энергетических** уравнений:\n",
    "\n",
    "$$\n",
    "\\begin{align}\n",
    "\\tag{dJ/dt}\n",
    "\\frac{d\\hat{J}}{d\\hat{t}} &= -\\frac{1}{2} \\epsilon_G\n",
    "\\hat{r}^2\n",
    "\\left(\n",
    "  \\sin (2 \\phi ) \\left(\\hat{f}_{y,y}{}^{\\text{(5)}}-\\hat{f}_{x,x}{}^{\\text{(5)}}\\right)+2 \\cos (2 \\phi ) \\hat{f}_{x,y}{}^{\\text{(5)}}\n",
    "\\right)\n",
    "= \\epsilon_G I_J\n",
    "\\\\\n",
    "\\tag{dE/dt}\n",
    "\\frac{d\\hat{E}}{d\\hat{t}} &= \\epsilon_G\n",
    "\\left(\n",
    "  I_J\\hat{\\omega}\n",
    "  -\\hat{r} \\hat{r}'\n",
    "  \\left(\n",
    "  \\sin (2 \\phi ) \\hat{f}_{x,y}{}^{\\text{(5)}}+\\cos ^2(\\phi ) \\hat{f}_{x,x}{}^{\\text{(5)}}+\\sin ^2(\\phi ) \\hat{f}_{y,y}{}^{\\text{(5)}}\n",
    "  \\right)\n",
    "\\right)\n",
    "= \\epsilon_G I_E\n",
    "\\end{align}\n",
    "$$"
   ]
  },
  {
   "cell_type": "markdown",
   "metadata": {},
   "source": [
    "# RHS уравнения (dJ/dt)\n",
    "\n",
    "Введём новое обозначение $\\hat{r}^2 \\equiv \\hat{r}_2$"
   ]
  },
  {
   "cell_type": "code",
   "execution_count": 844,
   "metadata": {
    "vscode": {
     "languageId": "wolfram"
    }
   },
   "outputs": [],
   "source": [
    "ToR2Replacement = {\n",
    "  OverHat[r][OverHat[t]] -> Sqrt[Subscript[OverHat[r],2][OverHat[t]]],\n",
    "  Derivative[n_][OverHat[r]][OverHat[t]] :> D[Sqrt[Subscript[OverHat[r], 2][OverHat[t]]], {OverHat[t], n}]\n",
    "};"
   ]
  },
  {
   "cell_type": "markdown",
   "metadata": {},
   "source": [
    "и подставим в (dJ/dt) значения $\\hat{f}_{i,j}^{(5)}$:"
   ]
  },
  {
   "cell_type": "code",
   "execution_count": 850,
   "metadata": {
    "vscode": {
     "languageId": "wolfram"
    }
   },
   "outputs": [
    {
     "data": {
      "text/html": [
       "<div><img alt=\"Output\" src=\"data:image/png;base64,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\"></div>"
      ],
      "text/plain": [
       "FormBox[RowBox[{SubscriptBox[OverscriptBox[\"r\", \"^\"], \"2\"], \" \", \n",
       "\n",
       " \n",
       ">        RowBox[{\"(\", RowBox[{RowBox[{\"-\", \n",
       "\n",
       " \n",
       ">              RowBox[{\"5\", \" \", SuperscriptBox[SubscriptBox[OverscriptBox[\"r\", \"^\"], \n",
       "\n",
       " \n",
       ">                  \"2\"], \"′\"], \" \", SuperscriptBox[OverscriptBox[\"ω\", \"^\"], \"′′′\"]}]}], \n",
       "\n",
       " \n",
       ">            \"-\", RowBox[{\"10\", \" \", SuperscriptBox[SubscriptBox[OverscriptBox[\"r\", \n",
       "\n",
       " \n",
       ">                 \"^\"], \"2\"], \"′′′\"], \" \", SuperscriptBox[OverscriptBox[\"ω\", \"^\"],\\\n",
       " \n",
       ">    \"′\"]}]\\\n",
       ", \"+\", RowBox[{\"120\", \" \", SuperscriptBox[OverscriptBox[\"ω\", \"^\"], \"2\"], \"\\\n",
       " \n",
       ">    \", \n",
       "           SuperscriptBox[SubscriptBox[OverscriptBox[\"r\", \"^\"], \"2\"], \"′\"], \"\\\n",
       " \n",
       ">    \", \n",
       "           SuperscriptBox[OverscriptBox[\"ω\", \"^\"], \"′\"]}], \"+\", \n",
       "\n",
       " \n",
       ">            RowBox[{\"60\", \" \", SubscriptBox[OverscriptBox[\"r\", \"^\"], \"2\"], \" \", \n",
       "\n",
       " \n",
       ">              OverscriptBox[\"ω\", \"^\"], \" \", \n",
       "           SuperscriptBox[RowBox[{\"(\", \n",
       "\n",
       " \n",
       ">                 SuperscriptBox[OverscriptBox[\"ω\", \"^\"], \"′\"], \")\"}], \"2\"]}], \"+\", \n",
       "\n",
       " \n",
       ">            RowBox[{\"40\", \" \", SuperscriptBox[OverscriptBox[\"ω\", \"^\"], \"3\"], \" \", \n",
       "\n",
       " \n",
       ">              SuperscriptBox[SubscriptBox[OverscriptBox[\"r\", \"^\"], \"2\"], \"′′\"]}], \"+\", \n",
       "\n",
       " \n",
       ">            RowBox[{\"40\", \" \", SubscriptBox[OverscriptBox[\"r\", \"^\"], \"2\"], \" \", \n",
       "\n",
       " \n",
       ">              SuperscriptBox[OverscriptBox[\"ω\", \"^\"], \"2\"], \" \", \n",
       "\n",
       " \n",
       ">              SuperscriptBox[OverscriptBox[\"ω\", \"^\"], \"′′\"]}], \"-\", \n",
       "\n",
       " \n",
       ">            RowBox[{\"10\", \" \", SuperscriptBox[SubscriptBox[OverscriptBox[\"r\", \"^\"], \n",
       "\n",
       " \n",
       ">                \"2\"], \"′′\"], \" \", SuperscriptBox[OverscriptBox[\"ω\", \"^\"], \"′′\"]}], \"-\",\\\n",
       " \n",
       ">    \n",
       "         RowBox[{\"5\", \" \", OverscriptBox[\"ω\", \"^\"], \" \", \n",
       "\n",
       " \n",
       ">              SuperscriptBox[SubscriptBox[OverscriptBox[\"r\", \"^\"], \"2\"], \"′′′′\"]}],\\\n",
       " \n",
       ">    \"-\", \n",
       "         RowBox[{SubscriptBox[OverscriptBox[\"r\", \"^\"], \"2\"], \" \", \n",
       "\n",
       " \n",
       ">              SuperscriptBox[OverscriptBox[\"ω\", \"^\"], \"′′′′\"]}], \"-\", \n",
       "\n",
       " \n",
       ">            RowBox[{RowBox[{\"16\"}], \" \", SubscriptBox[OverscriptBox[\"r\", \"^\"], \"2\"], \n",
       "\n",
       " \n",
       ">              \" \", SuperscriptBox[OverscriptBox[\"ω\", \"^\"], \"5\"]}]}], \")\"}]}], \n",
       "\n",
       " \n",
       ">      TraditionalForm]\n"
      ]
     },
     "execution_count": 850,
     "metadata": {
      "text/html": [],
      "text/plain": []
     },
     "output_type": "execute_result"
    }
   ],
   "source": [
    "fh1 = fh /. ToR2Replacement;\n",
    "fh5Symbolic = Simplify[D[fh1, {OverHat[t], 5}], Trig -> True];\n",
    "\n",
    "Fh5Replacement = Flatten[{\n",
    "  Outer[\n",
    "    Superscript[Subscript[OverHat[f], #1, #2], \"(5)\"] -> fh5Symbolic[[#1 /. {x -> 1, y -> 2}, #2 /. {x -> 1, y -> 2}]] &,\n",
    "    {x, y}, {x, y}\n",
    "  ],\n",
    "  ToR2Replacement,\n",
    "  OmegaReplace\n",
    "}];\n",
    "\n",
    "dJdtTemp = RHSEnegryLagrange[[2]] //. Fh5Replacement;\n",
    "dJdt = Subscript[OverHat[r],2][OverHat[t]]*Expand[Simplify[dJdtTemp/Subscript[\\[Epsilon], G], Trig -> True]/Subscript[OverHat[r],2][OverHat[t]]];\n",
    "dJdt // TraditionalForm"
   ]
  },
  {
   "cell_type": "markdown",
   "metadata": {},
   "source": [
    "<span style=\"color:red\">**NB:**</span> В файле Binary.pdf выводится <span style=\"color:green\">**точно такое же**</span> выражение"
   ]
  },
  {
   "cell_type": "markdown",
   "metadata": {},
   "source": [
    "$$\n",
    "I_J = I_1 = \\hat{r}_2 \\left[ 120\\hat{r}_2^{(1)}\\hat{\\omega}^2\\hat{\\omega}^{(1)} - 5\\hat{r}_2^{(1)}\\hat{\\omega}^{(3)} - 16\\hat{r}_2\\hat{\\omega}^5 - 10\\hat{r}_2^{(2)}\\hat{\\omega}^{(2)} + 60\\hat{r}_2\\hat{\\omega}(\\hat{\\omega}^{(1)})^2\n",
    "- 10\\hat{r}_2^{(3)}\\hat{\\omega}^{(1)} + 40\\hat{r}_2^{(2)}\\hat{\\omega}^3 - 5\\hat{r}_2^{(4)}\\hat{\\omega} - \\hat{r}_2\\hat{\\omega}^{(4)} + 40\\hat{r}_2\\hat{\\omega}^2\\hat{\\omega}^{(2)} \\right]\n",
    "$$"
   ]
  },
  {
   "cell_type": "code",
   "execution_count": 852,
   "metadata": {
    "vscode": {
     "languageId": "wolfram"
    }
   },
   "outputs": [
    {
     "data": {
      "text/html": [
       "<div><pre style=\"&#102;&#111;&#110;&#116;&#45;&#102;&#97;&#109;&#105;&#108;&#121;&#58;&#32;&#34;&#67;&#111;&#117;&#114;&#105;&#101;&#114;&#32;&#78;&#101;&#119;&#34;&#44;&#67;&#111;&#117;&#114;&#105;&#101;&#114;&#44;&#109;&#111;&#110;&#111;&#115;&#112;&#97;&#99;&#101;&#59;\">&#48;</pre></div>"
      ],
      "text/plain": [
       "0"
      ]
     },
     "execution_count": 852,
     "metadata": {
      "text/html": [],
      "text/plain": []
     },
     "output_type": "execute_result"
    }
   ],
   "source": [
    "I1 = Subscript[OverHat[r], 2][OverHat[t]] * (\n",
    "    120 * Derivative[1][Subscript[OverHat[r], 2]][OverHat[t]] *\n",
    "    OverHat[\\[Omega]][OverHat[t]]^2 * Derivative[1][OverHat[\\[Omega]]][OverHat[t]]\n",
    "    - 5 * Derivative[1][Subscript[OverHat[r], 2]][OverHat[t]] *\n",
    "    Derivative[3][OverHat[\\[Omega]]][OverHat[t]]\n",
    "    - 16 * Subscript[OverHat[r], 2][OverHat[t]] *\n",
    "    OverHat[\\[Omega]][OverHat[t]]^5\n",
    "    - 10 * Derivative[2][Subscript[OverHat[r], 2]][OverHat[t]] *\n",
    "    Derivative[2][OverHat[\\[Omega]]][OverHat[t]]\n",
    "    + 60 * Subscript[OverHat[r], 2][OverHat[t]] *\n",
    "    OverHat[\\[Omega]][OverHat[t]] * Derivative[1][OverHat[\\[Omega]]][OverHat[t]]^2\n",
    "    - 10 * Derivative[3][Subscript[OverHat[r], 2]][OverHat[t]] *\n",
    "    Derivative[1][OverHat[\\[Omega]]][OverHat[t]]\n",
    "    + 40 * Derivative[2][Subscript[OverHat[r], 2]][OverHat[t]] *\n",
    "    OverHat[\\[Omega]][OverHat[t]]^3\n",
    "    - 5 * Derivative[4][Subscript[OverHat[r], 2]][OverHat[t]] *\n",
    "    OverHat[\\[Omega]][OverHat[t]]\n",
    "    - Subscript[OverHat[r], 2][OverHat[t]] *\n",
    "    Derivative[4][OverHat[\\[Omega]]][OverHat[t]]\n",
    "    + 40 * Subscript[OverHat[r], 2][OverHat[t]] *\n",
    "    OverHat[\\[Omega]][OverHat[t]]^2 * Derivative[2][OverHat[\\[Omega]]][OverHat[t]]\n",
    ");\n",
    "dJdt - I1"
   ]
  },
  {
   "cell_type": "markdown",
   "metadata": {},
   "source": [
    "# RHS уравнения (dE/dt)\n",
    "\n",
    "Подставим в (dE/dt) значения $\\hat{f}_{i,j}^{(5)}$:"
   ]
  },
  {
   "cell_type": "code",
   "execution_count": 855,
   "metadata": {
    "vscode": {
     "languageId": "wolfram"
    }
   },
   "outputs": [
    {
     "data": {
      "text/html": [
       "<div><img alt=\"Output\" src=\"data:image/png;base64,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\"></div>"
      ],
      "text/plain": [
       "FormBox[RowBox[{FractionBox[\"1\", \"3\"], \" \", \n",
       "\n",
       " \n",
       ">        RowBox[{\"(\", RowBox[{RowBox[{OverscriptBox[\"ω\", \"^\"], \" \", \n",
       "\n",
       " \n",
       ">              RowBox[{\"(\", RowBox[{RowBox[{\"-\", \n",
       "\n",
       " \n",
       ">                    RowBox[{\"3\", \" \", SubscriptBox[OverscriptBox[\"r\", \"^\"], \"2\"], \n",
       "\n",
       " \n",
       ">                      \" \", RowBox[{\"(\", \n",
       "\n",
       " \n",
       ">                        RowBox[{RowBox[{\"10\", \" \", \n",
       "\n",
       " \n",
       ">                            SuperscriptBox[SubscriptBox[OverscriptBox[\"r\", \"^\"], \n",
       "\n",
       " \n",
       ">                              \"2\"], \"′′′\"], \" \", \n",
       "\n",
       " \n",
       ">                            SuperscriptBox[OverscriptBox[\"ω\", \"^\"], \"′\"]}], \"+\", \n",
       "\n",
       " \n",
       ">                          RowBox[{\"10\", \" \", \n",
       "\n",
       " \n",
       ">                            SuperscriptBox[SubscriptBox[OverscriptBox[\"r\", \"^\"], \n",
       "\n",
       " \n",
       ">                              \"2\"], \"′′\"], \" \", \n",
       "\n",
       " \n",
       ">                            SuperscriptBox[OverscriptBox[\"ω\", \"^\"], \"′′\"]}], \"+\", \n",
       "\n",
       " \n",
       ">                          RowBox[{SubscriptBox[OverscriptBox[\"r\", \"^\"], \"2\"], \" \", \n",
       "\n",
       " \n",
       ">                            SuperscriptBox[OverscriptBox[\"ω\", \"^\"], \"′′′′\"]}]}], \")\"}]\\\n",
       "\n",
       " \n",
       ">   }]}], \"+\", RowBox[{\"60\", \" \", SuperscriptBox[RowBox[{\"(\", \n",
       "\n",
       " \n",
       ">                       SuperscriptBox[SubscriptBox[OverscriptBox[\"r\", \"^\"], \"2\"], \n",
       "\n",
       " \n",
       ">                        \"′\"], \")\"}], \"2\"], \" \", \n",
       "\n",
       " \n",
       ">                    SuperscriptBox[OverscriptBox[\"ω\", \"^\"], \"′′\"]}], \"+\", \n",
       "\n",
       " \n",
       ">                  RowBox[{\"90\", \" \", \n",
       "\n",
       " \n",
       ">                    SuperscriptBox[SubscriptBox[OverscriptBox[\"r\", \"^\"], \"2\"], \"′\"], \n",
       "\n",
       " \n",
       ">                    \" \", SuperscriptBox[SubscriptBox[OverscriptBox[\"r\", \"^\"], \"2\"], \n",
       "\n",
       " \n",
       ">                     \"′′\"], \" \", SuperscriptBox[OverscriptBox[\"ω\", \"^\"], \"′\"]}]}],\\\n",
       " \n",
       ">    \")\"}]\\\n",
       "}], \"+\", RowBox[{SuperscriptBox[SubscriptBox[OverscriptBox[\"r\", \"^\"], \"2\"],\\\n",
       " \n",
       ">    \"′\"], \n",
       "           \" \", RowBox[{\"(\", RowBox[{RowBox[{\"30\", \" \", \n",
       "\n",
       " \n",
       ">                    SubscriptBox[OverscriptBox[\"r\", \"^\"], \"2\"], \" \", \n",
       "\n",
       " \n",
       ">                    SuperscriptBox[OverscriptBox[\"ω\", \"^\"], \"′\"], \" \", \n",
       "\n",
       " \n",
       ">                    SuperscriptBox[OverscriptBox[\"ω\", \"^\"], \"′′\"]}], \"+\", \n",
       "\n",
       " \n",
       ">                  RowBox[{\"45\", \" \", \n",
       "\n",
       " \n",
       ">                    SuperscriptBox[SubscriptBox[OverscriptBox[\"r\", \"^\"], \"2\"], \"′\"], \n",
       "\n",
       " \n",
       ">                    \" \", SuperscriptBox[RowBox[{\"(\", \n",
       "\n",
       " \n",
       ">                       SuperscriptBox[OverscriptBox[\"ω\", \"^\"], \"′\"], \")\"}], \"2\"]}], \n",
       "\n",
       " \n",
       ">                  \"-\", SuperscriptBox[SubscriptBox[OverscriptBox[\"r\", \"^\"], \"2\"], \n",
       "\n",
       " \n",
       ">                   \"′′′′′\"]}], \")\"}]}], \"-\", \n",
       "\n",
       " \n",
       ">            RowBox[{\"60\", \" \", SuperscriptBox[OverscriptBox[\"ω\", \"^\"], \"4\"], \" \", \n",
       "\n",
       " \n",
       ">              RowBox[{\"(\", RowBox[{SuperscriptBox[RowBox[{\"(\", \n",
       "\n",
       " \n",
       ">                     SuperscriptBox[SubscriptBox[OverscriptBox[\"r\", \"^\"], \"2\"], \n",
       "\n",
       " \n",
       ">                      \"′\"], \")\"}], \"2\"], \"-\", \n",
       "\n",
       " \n",
       ">                  RowBox[{\"2\", \" \", SubscriptBox[OverscriptBox[\"r\", \"^\"], \"2\"], \" \", \n",
       "\n",
       " \n",
       ">                    SuperscriptBox[SubscriptBox[OverscriptBox[\"r\", \"^\"], \"2\"],\\\n",
       " \n",
       ">    \"′′\"]}]}\\\n",
       "], \")\"}]}], \"+\", RowBox[{\"120\", \" \", SubscriptBox[OverscriptBox[\"r\",\\\n",
       " \n",
       ">    \"^\"], \"2\"], \n",
       "           \" \", SuperscriptBox[OverscriptBox[\"ω\", \"^\"], \"3\"], \" \", \n",
       "\n",
       " \n",
       ">              RowBox[{\"(\", RowBox[{RowBox[{\"2\", \" \", \n",
       "\n",
       " \n",
       ">                    SuperscriptBox[SubscriptBox[OverscriptBox[\"r\", \"^\"], \"2\"], \"′\"], \n",
       "\n",
       " \n",
       ">                    \" \", SuperscriptBox[OverscriptBox[\"ω\", \"^\"], \"′\"]}], \"+\", \n",
       "\n",
       " \n",
       ">                  RowBox[{SubscriptBox[OverscriptBox[\"r\", \"^\"], \"2\"], \" \", \n",
       "\n",
       " \n",
       ">                    SuperscriptBox[OverscriptBox[\"ω\", \"^\"], \"′′\"]}]}], \")\"}]}], \"+\", \n",
       "\n",
       " \n",
       ">            RowBox[{\"15\", \" \", SuperscriptBox[OverscriptBox[\"ω\", \"^\"], \"2\"], \" \", \n",
       "\n",
       " \n",
       ">              RowBox[{\"(\", RowBox[{RowBox[{\"12\", \" \", \n",
       "\n",
       " \n",
       ">                    SubsuperscriptBox[OverscriptBox[\"r\", \"^\"], \"2\", \"2\"], \" \", \n",
       "\n",
       " \n",
       ">                    SuperscriptBox[RowBox[{\"(\", \n",
       "\n",
       " \n",
       ">                       SuperscriptBox[OverscriptBox[\"ω\", \"^\"], \"′\"], \")\"}], \"2\"]}], \n",
       "\n",
       " \n",
       ">                  \"+\", RowBox[{\"2\", \" \", \n",
       "\n",
       " \n",
       ">                    SuperscriptBox[SubscriptBox[OverscriptBox[\"r\", \"^\"], \"2\"], \"′\"], \n",
       "\n",
       " \n",
       ">                    \" \", SuperscriptBox[SubscriptBox[OverscriptBox[\"r\", \"^\"], \"2\"], \n",
       "\n",
       " \n",
       ">                     \"′′′\"]}], \"-\", RowBox[{SubscriptBox[OverscriptBox[\"r\", \"^\"], \n",
       "\n",
       " \n",
       ">                     \"2\"], \" \", SuperscriptBox[SubscriptBox[OverscriptBox[\"r\", \"^\"], \n",
       "\n",
       " \n",
       ">                      \"2\"], \"′′′′\"]}]}], \")\"}]}], \"-\", \n",
       "\n",
       " \n",
       ">            RowBox[{RowBox[{\"48\"}], \" \", \n",
       "\n",
       " \n",
       ">              SubsuperscriptBox[OverscriptBox[\"r\", \"^\"], \"2\", \"2\"], \" \", \n",
       "\n",
       " \n",
       ">              SuperscriptBox[OverscriptBox[\"ω\", \"^\"], \"6\"]}]}], \")\"}]}],\\\n",
       " \n",
       ">    TraditionalForm]\n"
      ]
     },
     "execution_count": 855,
     "metadata": {
      "text/html": [],
      "text/plain": []
     },
     "output_type": "execute_result"
    }
   ],
   "source": [
    "dEdtTemp = RHSEnegryLagrange[[1]] //. Fh5Replacement;\n",
    "dEdt = Simplify[dEdtTemp/Subscript[\\[Epsilon], G], Trig -> True];\n",
    "dEdt // TraditionalForm"
   ]
  },
  {
   "cell_type": "markdown",
   "metadata": {},
   "source": [
    "<span style=\"color:red\">**NB:**</span> В файлах Binary.pdf и binary_catch1.pdf выводится <span style=\"color:green\">**точно такие же**</span> выражения для правой части (dE/dt),\n",
    "а именно $I_E = I_1\\hat{\\omega} + I_2\\frac{\\dot{r}}{r}$, где\n",
    "$$\n",
    "I_2 = 2\\hat{r}_2 \\left[ -40\\hat{r}_2\\hat{\\omega}^3\\hat{\\omega}^{(1)} - 20\\hat{\\omega}^4\\hat{r}_2^{(1)} + 5\\hat{r}_2\\hat{\\omega}\\hat{\\omega}^{(3)} + 10\\hat{r}_2\\hat{\\omega}^{(1)}\\hat{\\omega}^{(2)} + 10\\hat{\\omega}^2\\hat{r}_2^{(3)} + 30\\hat{\\omega}\\hat{\\omega}^{(1)}\\hat{r}_2^{(2)} + 20\\hat{\\omega}\\hat{\\omega}^{(2)}\\hat{r}_2^{(1)} + 15\\hat{r}_2^{(1)}(\\hat{\\omega}^{(1)})^2 - \\frac{1}{3}\\hat{r}_2^{(5)} \\right]\n",
    "$$"
   ]
  },
  {
   "cell_type": "code",
   "execution_count": 857,
   "metadata": {
    "vscode": {
     "languageId": "wolfram"
    }
   },
   "outputs": [
    {
     "data": {
      "text/html": [
       "<div><pre style=\"&#102;&#111;&#110;&#116;&#45;&#102;&#97;&#109;&#105;&#108;&#121;&#58;&#32;&#34;&#67;&#111;&#117;&#114;&#105;&#101;&#114;&#32;&#78;&#101;&#119;&#34;&#44;&#67;&#111;&#117;&#114;&#105;&#101;&#114;&#44;&#109;&#111;&#110;&#111;&#115;&#112;&#97;&#99;&#101;&#59;\">&#48;</pre></div>"
      ],
      "text/plain": [
       "0"
      ]
     },
     "execution_count": 857,
     "metadata": {
      "text/html": [],
      "text/plain": []
     },
     "output_type": "execute_result"
    }
   ],
   "source": [
    "I2 = 2 * Subscript[OverHat[r], 2][OverHat[t]] * (\n",
    "    -40 * Subscript[OverHat[r], 2][OverHat[t]] *\n",
    "    OverHat[\\[Omega]][OverHat[t]]^3 * Derivative[1][OverHat[\\[Omega]]][OverHat[t]]\n",
    "    - 20 * OverHat[\\[Omega]][OverHat[t]]^4 *\n",
    "    Derivative[1][Subscript[OverHat[r], 2]][OverHat[t]]\n",
    "    + 5 * Subscript[OverHat[r], 2][OverHat[t]] *\n",
    "    OverHat[\\[Omega]][OverHat[t]] * Derivative[3][OverHat[\\[Omega]]][OverHat[t]]\n",
    "    + 10 * Subscript[OverHat[r], 2][OverHat[t]] *\n",
    "    Derivative[1][OverHat[\\[Omega]]][OverHat[t]] *\n",
    "    Derivative[2][OverHat[\\[Omega]]][OverHat[t]]\n",
    "    + 10 * OverHat[\\[Omega]][OverHat[t]]^2 *\n",
    "    Derivative[3][Subscript[OverHat[r], 2]][OverHat[t]]\n",
    "    + 30 * OverHat[\\[Omega]][OverHat[t]] *\n",
    "    Derivative[1][OverHat[\\[Omega]]][OverHat[t]] *\n",
    "    Derivative[2][Subscript[OverHat[r], 2]][OverHat[t]]\n",
    "    + 20 * OverHat[\\[Omega]][OverHat[t]] *\n",
    "    Derivative[2][OverHat[\\[Omega]]][OverHat[t]] *\n",
    "    Derivative[1][Subscript[OverHat[r], 2]][OverHat[t]]\n",
    "    + 15 * Derivative[1][Subscript[OverHat[r], 2]][OverHat[t]] *\n",
    "    Derivative[1][OverHat[\\[Omega]]][OverHat[t]]^2\n",
    "    - (1/3) * Derivative[5][Subscript[OverHat[r], 2]][OverHat[t]]\n",
    ");\n",
    "Simplify[(I2*D[OverHat[r][OverHat[t]], OverHat[t]]/OverHat[r][OverHat[t]] + I1*OverHat[\\[Omega]][OverHat[t]] /. ToR2Replacement) - dEdt]"
   ]
  },
  {
   "cell_type": "markdown",
   "metadata": {},
   "source": [
    "# $I_J$, $I_E$\n",
    "\n",
    "$$\n",
    "\\begin{align}\n",
    "\\tag{IJ}\\\n",
    "I_J &= \\hat{r}_2 \\left[ 120\\hat{r}_2^{(1)}\\hat{\\omega}^2\\hat{\\omega}^{(1)} - 5\\hat{r}_2^{(1)}\\hat{\\omega}^{(3)} - 16\\hat{r}_2\\hat{\\omega}^5 - 10\\hat{r}_2^{(2)}\\hat{\\omega}^{(2)} + 60\\hat{r}_2\\hat{\\omega}(\\hat{\\omega}^{(1)})^2\n",
    "- 10\\hat{r}_2^{(3)}\\hat{\\omega}^{(1)} + 40\\hat{r}_2^{(2)}\\hat{\\omega}^3 - 5\\hat{r}_2^{(4)}\\hat{\\omega} - \\hat{r}_2\\hat{\\omega}^{(4)} + 40\\hat{r}_2\\hat{\\omega}^2\\hat{\\omega}^{(2)} \\right]\n",
    "\\\\\n",
    "\\tag{IE}\n",
    "I_E &= I_J\\hat{\\omega} + \\hat{r}_2^{(1)} \\left[ -40\\hat{r}_2\\hat{\\omega}^3\\hat{\\omega}^{(1)} - 20\\hat{\\omega}^4\\hat{r}_2^{(1)} + 5\\hat{r}_2\\hat{\\omega}\\hat{\\omega}^{(3)} + 10\\hat{r}_2\\hat{\\omega}^{(1)}\\hat{\\omega}^{(2)} + 10\\hat{\\omega}^2\\hat{r}_2^{(3)} + 30\\hat{\\omega}\\hat{\\omega}^{(1)}\\hat{r}_2^{(2)} + 20\\hat{\\omega}\\hat{\\omega}^{(2)}\\hat{r}_2^{(1)} + 15\\hat{r}_2^{(1)}(\\hat{\\omega}^{(1)})^2 - \\frac{1}{3}\\hat{r}_2^{(5)} \\right]\n",
    "\\end{align}\n",
    "$$"
   ]
  },
  {
   "cell_type": "markdown",
   "metadata": {},
   "source": [
    "Пусть $I_J$ и $I_E$ равны нулю.\n",
    "Тогда и момент импульса и энергия сохраняются.\n",
    "\n",
    "$\\hat{J} = |\\vec{\\hat{r}} \\times \\vec{\\hat{v}}| = |\\vec{\\hat{r}}_\\infty \\times \\vec{\\hat{v}}_\\infty| = \\hat{r}\\hat{v}_\\infty \\sin(\\phi)$\n",
    "\n",
    "Так как $\\phi = \\pi/2$ на бесконечности, то $\\hat{J} = b\\hat{v}_\\infty = u$,\n",
    "то $u$ - безразмерная скорость на бесконечности.\n",
    "\n",
    "Отсюда следует, что $\\hat{\\omega} = \\frac{u}{\\hat{r}_2}$"
   ]
  },
  {
   "cell_type": "code",
   "execution_count": 858,
   "metadata": {
    "vscode": {
     "languageId": "wolfram"
    }
   },
   "outputs": [],
   "source": [
    "OmegaReplace2 = {\n",
    "   OverHat[\\[Omega]][OverHat[t]] -> u/Subscript[OverHat[r], 2][OverHat[t]],\n",
    "   Derivative[n_][OverHat[\\[Omega]]][OverHat[t]] :> u D[1/Subscript[OverHat[r], 2][OverHat[t]], {OverHat[t], n}]\n",
    "};"
   ]
  },
  {
   "cell_type": "code",
   "execution_count": 860,
   "metadata": {
    "vscode": {
     "languageId": "wolfram"
    }
   },
   "outputs": [
    {
     "data": {
      "text/html": [
       "<div><img alt=\"Output\" src=\"data:image/png;base64,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\"></div>"
      ],
      "text/plain": [
       "FormBox[RowBox[{RowBox[{\"-\", RowBox[{FractionBox[RowBox[{\"16\", \" \", \n",
       "\n",
       " \n",
       ">               SuperscriptBox[\"u\", \"6\"]}], \n",
       "\n",
       " \n",
       ">             SubsuperscriptBox[OverscriptBox[\"r\", \"^\"], \"2\", \"4\"]]}]}], \"+\", \n",
       "\n",
       " \n",
       ">        FractionBox[RowBox[{\"40\", \" \", SuperscriptBox[\"u\", \"4\"], \" \", \n",
       "\n",
       " \n",
       ">           SuperscriptBox[RowBox[{\"(\", \n",
       "\n",
       " \n",
       ">              SuperscriptBox[SubscriptBox[OverscriptBox[\"r\", \"^\"], \"2\"], \"′\"], \")\"}], \n",
       "\n",
       " \n",
       ">            \"2\"]}], SubsuperscriptBox[OverscriptBox[\"r\", \"^\"], \"2\", \"4\"]], \"+\", \n",
       "\n",
       " \n",
       ">        FractionBox[RowBox[{SuperscriptBox[\"u\", \"2\"], \" \", \n",
       "\n",
       " \n",
       ">           RowBox[{\"(\", RowBox[{RowBox[{\"-\", \n",
       "\n",
       " \n",
       ">                 RowBox[{\"72\", \" \", SubscriptBox[OverscriptBox[\"r\", \"^\"], \"2\"], \" \", \n",
       "\n",
       " \n",
       ">                   SuperscriptBox[RowBox[{\"(\", \n",
       "\n",
       " \n",
       ">                      SuperscriptBox[SubscriptBox[OverscriptBox[\"r\", \"^\"], \"2\"], \n",
       "\n",
       " \n",
       ">                       \"′\"], \")\"}], \"2\"], \" \", \n",
       "\n",
       " \n",
       ">                   SuperscriptBox[SubscriptBox[OverscriptBox[\"r\", \"^\"], \"2\"], \"′′\"]}]}\\\n",
       "\n",
       " \n",
       ">   ], \"+\", RowBox[{\"36\", \" \", SubsuperscriptBox[OverscriptBox[\"r\", \"^\"], \"2\", \"2\"], \n",
       "\n",
       " \n",
       ">                 \" \", SuperscriptBox[SubscriptBox[OverscriptBox[\"r\", \"^\"], \"2\"], \n",
       "\n",
       " \n",
       ">                  \"′\"], \" \", SuperscriptBox[SubscriptBox[OverscriptBox[\"r\", \"^\"], \n",
       "\n",
       " \n",
       ">                   \"2\"], \"′′′\"]}], \"+\", \n",
       "\n",
       " \n",
       ">               RowBox[{\"33\", \" \", SuperscriptBox[RowBox[{\"(\", \n",
       "\n",
       " \n",
       ">                    SuperscriptBox[SubscriptBox[OverscriptBox[\"r\", \"^\"], \"2\"], \"′\"], \n",
       "\n",
       " \n",
       ">                    \")\"}], \"4\"]}], \"+\", \n",
       "\n",
       " \n",
       ">               RowBox[{\"12\", \" \", SubsuperscriptBox[OverscriptBox[\"r\", \"^\"], \"2\", \n",
       "\n",
       " \n",
       ">                  \"2\"], \" \", SuperscriptBox[RowBox[{\"(\", \n",
       "\n",
       " \n",
       ">                    SuperscriptBox[SubscriptBox[OverscriptBox[\"r\", \"^\"], \"2\"], \n",
       "\n",
       " \n",
       ">                     \"′′\"], \")\"}], \"2\"]}], \"-\", \n",
       "\n",
       " \n",
       ">               RowBox[{\"12\", \" \", SubsuperscriptBox[OverscriptBox[\"r\", \"^\"], \"2\", \n",
       "\n",
       " \n",
       ">                  \"3\"], \" \", SuperscriptBox[SubscriptBox[OverscriptBox[\"r\", \"^\"], \n",
       "\n",
       " \n",
       ">                   \"2\"], \"′′′′\"]}]}], \")\"}]}], \n",
       "\n",
       " \n",
       ">         RowBox[{\"3\", \" \", SubsuperscriptBox[OverscriptBox[\"r\", \"^\"], \"2\", \"4\"]}]],\\\n",
       " \n",
       ">    \"-\", \n",
       "     RowBox[{FractionBox[\"1\", \"3\"], \" \", \n",
       "\n",
       " \n",
       ">          SuperscriptBox[SubscriptBox[OverscriptBox[\"r\", \"^\"], \"2\"], \"′\"], \" \", \n",
       "\n",
       " \n",
       ">          SuperscriptBox[SubscriptBox[OverscriptBox[\"r\", \"^\"], \"2\"], \"′′′′′\"]}]}], \n",
       "\n",
       " \n",
       ">      TraditionalForm]\n"
      ]
     },
     "execution_count": 860,
     "metadata": {
      "text/html": [],
      "text/plain": []
     },
     "output_type": "execute_result"
    }
   ],
   "source": [
    "dEdtNoOmega = Collect[Simplify[dEdt //. OmegaReplace2], u];\n",
    "dEdtNoOmega // TraditionalForm"
   ]
  },
  {
   "cell_type": "markdown",
   "metadata": {},
   "source": [
    "Из сохранения энергии следует, что\n",
    "$\\hat{E} = \\hat{E}_\\infty = \\frac{u^2}{2} = \\left(\\frac{(\\hat{r}^{(1)})^2}{2} + \\frac{\\hat{r}^2 \\hat{\\omega}^2}{2} - \\frac{1}{\\hat{r}}\\right)$"
   ]
  },
  {
   "cell_type": "code",
   "execution_count": 866,
   "metadata": {
    "vscode": {
     "languageId": "wolfram"
    }
   },
   "outputs": [
    {
     "data": {
      "text/html": [
       "<div><img alt=\"Output\" src=\"data:image/png;base64,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\"></div>"
      ],
      "text/plain": [
       "FormBox[RowBox[{\"{\", RowBox[{RowBox[{RowBox[{\"-\", \"2\"}], \" \", \n",
       "\n",
       " \n",
       ">            SqrtBox[RowBox[{RowBox[{SubscriptBox[OverscriptBox[\"r\", \"^\"], \"2\"], \" \", \n",
       "\n",
       " \n",
       ">                 SuperscriptBox[\"u\", \"2\"]}], \"+\", \n",
       "\n",
       " \n",
       ">               RowBox[{\"2\", \" \", SqrtBox[SubscriptBox[OverscriptBox[\"r\", \"^\"], \"2\"]]}],\\\n",
       " \n",
       ">    \n",
       "            \"-\", SuperscriptBox[\"u\", \"2\"]}]]}], \",\", \n",
       "\n",
       " \n",
       ">          RowBox[{\"2\", \" \", RowBox[{\"(\", \n",
       "           RowBox[{FractionBox[\"1\", \n",
       "\n",
       " \n",
       ">                 SqrtBox[SubscriptBox[OverscriptBox[\"r\", \"^\"], \"2\"]]], \"+\", \n",
       "\n",
       " \n",
       ">                SuperscriptBox[\"u\", \"2\"]}], \")\"}]}], \",\", \n",
       "\n",
       " \n",
       ">          FractionBox[RowBox[{\"2\", \" \", \n",
       "\n",
       " \n",
       ">             SqrtBox[RowBox[{RowBox[{SubscriptBox[OverscriptBox[\"r\", \"^\"], \"2\"], \" \", \n",
       "\n",
       " \n",
       ">                  SuperscriptBox[\"u\", \"2\"]}], \"+\", \n",
       "\n",
       " \n",
       ">                RowBox[{\"2\", \" \", SqrtBox[SubscriptBox[OverscriptBox[\"r\", \"^\"], \n",
       "\n",
       " \n",
       ">                    \"2\"]]}], \"-\", SuperscriptBox[\"u\", \"2\"]}]]}], \n",
       "\n",
       " \n",
       ">           SubsuperscriptBox[OverscriptBox[\"r\", \"^\"], \"2\", RowBox[{\"3\", \"/\", \"2\"}]]], \n",
       "\n",
       " \n",
       ">          \",\", FractionBox[RowBox[{\"2\", \" \", \n",
       "\n",
       " \n",
       ">             RowBox[{\"(\", RowBox[{RowBox[{\"2\", \" \", \n",
       "\n",
       " \n",
       ">                   SubscriptBox[OverscriptBox[\"r\", \"^\"], \"2\"], \" \", \n",
       "\n",
       " \n",
       ">                   SuperscriptBox[\"u\", \"2\"]}], \"+\", \n",
       "\n",
       " \n",
       ">                 RowBox[{\"5\", \" \", SqrtBox[SubscriptBox[OverscriptBox[\"r\", \"^\"], \n",
       "\n",
       " \n",
       ">                     \"2\"]]}], \"-\", RowBox[{\"3\", \" \", SuperscriptBox[\"u\", \"2\"]}]}],\\\n",
       " \n",
       ">    \")\"}\\\n",
       "]}], SubsuperscriptBox[OverscriptBox[\"r\", \"^\"], \"2\", RowBox[{\"5\", \"/\",\\\n",
       " \n",
       ">    \"2\"}]]], \",\", \n",
       "       FractionBox[RowBox[{\"2\", \" \", \n",
       "\n",
       " \n",
       ">             SqrtBox[RowBox[{RowBox[{SubscriptBox[OverscriptBox[\"r\", \"^\"], \"2\"], \" \", \n",
       "\n",
       " \n",
       ">                  SuperscriptBox[\"u\", \"2\"]}], \"+\", \n",
       "\n",
       " \n",
       ">                RowBox[{\"2\", \" \", SqrtBox[SubscriptBox[OverscriptBox[\"r\", \"^\"], \n",
       "\n",
       " \n",
       ">                    \"2\"]]}], \"-\", SuperscriptBox[\"u\", \"2\"]}]], \" \", \n",
       "\n",
       " \n",
       ">             RowBox[{\"(\", RowBox[{RowBox[{\"6\", \" \", \n",
       "\n",
       " \n",
       ">                   SubscriptBox[OverscriptBox[\"r\", \"^\"], \"2\"], \" \", \n",
       "\n",
       " \n",
       ">                   SuperscriptBox[\"u\", \"2\"]}], \"+\", \n",
       "\n",
       " \n",
       ">                 RowBox[{\"20\", \" \", SqrtBox[SubscriptBox[OverscriptBox[\"r\", \"^\"], \n",
       "\n",
       " \n",
       ">                     \"2\"]]}], \"-\", RowBox[{\"15\", \" \", SuperscriptBox[\"u\", \"2\"]}]}],\\\n",
       " \n",
       ">    \")\"}\\\n",
       "]}], SubsuperscriptBox[OverscriptBox[\"r\", \"^\"], \"2\", RowBox[{\"7\", \"/\",\\\n",
       " \n",
       ">    \"2\"}]]]}], \"}\"}]\\\n",
       ", TraditionalForm]\n"
      ]
     },
     "execution_count": 866,
     "metadata": {
      "text/html": [],
      "text/plain": []
     },
     "output_type": "execute_result"
    }
   ],
   "source": [
    "eq = Energy - u^2/2 //. Flatten[{\n",
    "   ToR2Replacement,\n",
    "   OmegaReplace2,\n",
    "   D[Subscript[OverHat[r], 2][OverHat[t]], OverHat[t]]^2 -> x^2\n",
    "}];\n",
    "\n",
    "sol = Solve[eq == 0, x][[1]];\n",
    "\n",
    "replacementRule = D[Subscript[OverHat[r], 2][OverHat[t]], OverHat[t]] :> x /. sol[[1]];\n",
    "\n",
    "(* Рекурсивно вычисляем производные *)\n",
    "dr2 = NestList[\n",
    "   Simplify[D[#, OverHat[t]] /. replacementRule] &,\n",
    "   x /. sol[[1]],\n",
    "   4\n",
    "];\n",
    "\n",
    "dr2 // TraditionalForm"
   ]
  },
  {
   "cell_type": "code",
   "execution_count": 868,
   "metadata": {
    "vscode": {
     "languageId": "wolfram"
    }
   },
   "outputs": [
    {
     "data": {
      "text/html": [
       "<div><img alt=\"Output\" src=\"data:image/png;base64,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\"></div>"
      ],
      "text/plain": [
       "FormBox[FractionBox[RowBox[{\"4\", \" \", \n",
       "      RowBox[{\"(\", RowBox[{RowBox[{\"6\", \" \", \n",
       "\n",
       " \n",
       ">               SubsuperscriptBox[OverscriptBox[\"r\", \"^\"], \"2\", \"2\"], \" \", \n",
       "\n",
       " \n",
       ">               SuperscriptBox[\"u\", \"4\"]}], \"+\", \n",
       "\n",
       " \n",
       ">             RowBox[{SubscriptBox[OverscriptBox[\"r\", \"^\"], \"2\"], \" \", \n",
       "\n",
       " \n",
       ">               RowBox[{\"(\", RowBox[{RowBox[{\"51\", \" \", SuperscriptBox[\"u\", \"4\"]}], \n",
       "\n",
       " \n",
       ">                   \"+\", \"40\"}], \")\"}]}], \"+\", \n",
       "\n",
       " \n",
       ">             RowBox[{\"32\", \" \", SubsuperscriptBox[OverscriptBox[\"r\", \"^\"], \"2\", \n",
       "\n",
       " \n",
       ">                RowBox[{\"3\", \"/\", \"2\"}]], \" \", SuperscriptBox[\"u\", \"2\"]}], \"+\", \n",
       "\n",
       " \n",
       ">             RowBox[{\"100\", \" \", SqrtBox[SubscriptBox[OverscriptBox[\"r\", \"^\"], \"2\"]], \n",
       "\n",
       " \n",
       ">               \" \", SuperscriptBox[\"u\", \"2\"]}], \"-\", \n",
       "\n",
       " \n",
       ">             RowBox[{\"75\", \" \", SuperscriptBox[\"u\", \"4\"]}]}], \")\"}]}], \n",
       "\n",
       " \n",
       ">       RowBox[{\"3\", \" \", SubsuperscriptBox[OverscriptBox[\"r\", \"^\"], \"2\", \n",
       "\n",
       " \n",
       ">          RowBox[{\"7\", \"/\", \"2\"}]]}]], TraditionalForm]\n"
      ]
     },
     "execution_count": 868,
     "metadata": {
      "text/html": [],
      "text/plain": []
     },
     "output_type": "execute_result"
    }
   ],
   "source": [
    "dEdtNoOmegaFinal = Fold[ (* Последовательно применяем замены *)\n",
    "  Simplify[#1 /.\n",
    "    D[Subscript[OverHat[r], 2][OverHat[t]], {OverHat[t], #2}] -> dr2[[#2]]] &,\n",
    "  dEdtNoOmega,\n",
    "  Range[5]\n",
    "];\n",
    "\n",
    "dEdtNoOmegaFinal // TraditionalForm"
   ]
  },
  {
   "cell_type": "code",
   "execution_count": 875,
   "metadata": {
    "vscode": {
     "languageId": "wolfram"
    }
   },
   "outputs": [
    {
     "data": {
      "text/html": [
       "<div><img alt=\"Output\" src=\"data:image/png;base64,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\"></div>"
      ],
      "text/plain": [
       "   ^ ^ 5 ^  ^ 2      ^ ^  ^  ^ 2  ^   ^ 2      ^ ^ 2 ^  ^   ^   ^   ^    ^\n",
       "16 ω[t]  r [t]  + 12 ω[t] r [t]  (ω)'[t]  + 24 ω[t]  r [t] (ω)'[t] (r )'[t] + \n",
       "          2                2                          2              2\n",
       " \n",
       "       ^ ^ 3  ^    ^ 2     ^ ^ 2 ^  ^ 2  ^    ^       ^ ^ 3 ^  ^   ^     ^\n",
       ">   24 ω[t]  (r )'[t]  - 4 ω[t]  r [t]  (ω)''[t] - 16 ω[t]  r [t] (r )''[t] + \n",
       "               2                  2                          2      2\n",
       " \n",
       "       ^   ^   ^    ^   ^     ^    ^  ^   ^    ^   ^     ^      ^ ^   ^     ^ 2\n",
       ">   3 (ω)'[t] (r )'[t] (r )''[t] + r [t] (ω)''[t] (r )''[t] + 3 ω[t] (r )''[t]  - \n",
       "                2        2          2               2                  2\n",
       " \n",
       "    ^  ^   ^   ^   ^  (3) ^      ^ ^   ^    ^   ^  (3) ^\n",
       ">   r [t] (ω)'[t] (r )   [t] - 2 ω[t] (r )'[t] (r )   [t]\n",
       "     2              2                   2        2"
      ]
     },
     "execution_count": 875,
     "metadata": {
      "text/html": [],
      "text/plain": []
     },
     "output_type": "execute_result"
    }
   ],
   "source": [
    "fh2 = Array[If[#1 <= #2,\n",
    "                    Superscript[Subscript[OverHat[f], {x, y}[[#1]], {x, y}[[#2]]], \"(2)\"],\n",
    "                    Superscript[Subscript[OverHat[f], {x, y}[[#2]], {x, y}[[#1]]], \"(2)\"]] &, {2, 2}];\n",
    "fh2 // MatrixForm;\n",
    "fh3 = Array[If[#1 <= #2,\n",
    "                    Superscript[Subscript[OverHat[f], {x, y}[[#1]], {x, y}[[#2]]], \"(3)\"],\n",
    "                    Superscript[Subscript[OverHat[f], {x, y}[[#2]], {x, y}[[#1]]], \"(3)\"]] &, {2, 2}];\n",
    "fh3 // MatrixForm;\n",
    "\n",
    "fh2 = Simplify[D[fh1, {OverHat[t], 2}], Trig -> True];\n",
    "fh3 = Simplify[D[fh1, {OverHat[t], 3}], Trig -> True];\n",
    "\n",
    "Expand[Simplify[EinsteinSummation[{{i, j}, {i, l}, {l, j}}, {LeviCivitaTensor[2], fh2, fh3}] /. OmegaReplace, Trig -> True]]"
   ]
  },
  {
   "cell_type": "markdown",
   "metadata": {},
   "source": [
    "# Интегрирование по частям\n",
    "[Integrate By Parts](https://resources.wolframcloud.com/FunctionRepository/resources/IntegrateByParts/)\n",
    "Contributed by: Wolfram|Alpha Math Team"
   ]
  },
  {
   "cell_type": "code",
   "execution_count": 198,
   "metadata": {
    "vscode": {
     "languageId": "wolfram"
    }
   },
   "outputs": [],
   "source": [
    "IntegrateByParts // ClearAll;\n",
    "IntegrateByParts[ args___ ] :=\n",
    "    Module[ { res },\n",
    "        update[ ];\n",
    "        res = Symbol[ \"ResourceFunctionHelpers`IntegrateByParts\" ][ args ];\n",
    "        res /; Head @ res =!= Symbol[ \"ResourceFunctionHelpers`IntegrateByParts\" ]\n",
    "    ];"
   ]
  },
  {
   "cell_type": "code",
   "execution_count": 200,
   "metadata": {
    "vscode": {
     "languageId": "wolfram"
    }
   },
   "outputs": [],
   "source": [
    "update // ClearAll;\n",
    "update[ ] /; $VersionNumber <= 12 :=\n",
    "    Once[\n",
    "\n",
    "        If[ MemberQ[ PacletSites[ ], $publicPacletSite ],\n",
    "            PacletManager`PacletUpdate[\n",
    "                \"ResourceFunctionHelpers\",\n",
    "                \"Site\"        -> \"http://pacletserver.wolfram.com\",\n",
    "                \"UpdateSites\" -> True\n",
    "            ]\n",
    "        ];\n",
    "\n",
    "        Quiet @ Block[ { $ContextPath }, Get[ \"ResourceFunctionHelpers`\" ] ]\n",
    "    ];"
   ]
  },
  {
   "cell_type": "code",
   "execution_count": 105,
   "metadata": {
    "vscode": {
     "languageId": "wolfram"
    }
   },
   "outputs": [],
   "source": [
    "update // ClearAll;\n",
    "update[ ] /; $VersionNumber <= 12 :=\n",
    "    Once[\n",
    "\n",
    "        If[ MemberQ[ PacletSites[ ], $publicPacletSite ],\n",
    "            PacletManager`PacletUpdate[\n",
    "                \"ResourceFunctionHelpers\",\n",
    "                \"Site\"        -> \"http://pacletserver.wolfram.com\",\n",
    "                \"UpdateSites\" -> True\n",
    "            ]\n",
    "        ];\n",
    "\n",
    "        Quiet @ Block[ { $ContextPath }, Get[ \"ResourceFunctionHelpers`\" ] ]\n",
    "    ];"
   ]
  },
  {
   "cell_type": "markdown",
   "metadata": {},
   "source": [
    "# Интеграл $I_4(u)$:"
   ]
  },
  {
   "cell_type": "markdown",
   "metadata": {},
   "source": [
    "$$\n",
    "  I_4(u) = \\int_{r_1}^\\infty \\frac{24r^2u^6 + 48u^6r + 120r^{3/2}u^4 - 96u^6 + 96u^4\\sqrt{r} - u^2r^2 + 133u^2r - 2r^{3/2}}{r^4\\sqrt{u^2r + 2\\sqrt{r} - u^2}} \\, dr,\n",
    "$$\n",
    "где при $r \\ge r_1$ выражение $u^2r + 2\\sqrt{r} - u^2 \\ge 0$.\n",
    "\n",
    "Всюду предполагается $u \\gt 0$."
   ]
  },
  {
   "cell_type": "markdown",
   "metadata": {},
   "source": [
    "## Интегрант $f_4(u, r)$:"
   ]
  },
  {
   "cell_type": "markdown",
   "metadata": {},
   "source": [
    "$$\n",
    "  f_4(u, r) = \\frac{24r^2u^6 + 48u^6r + 120r^{3/2}u^4 - 96u^6 + 96u^4\\sqrt{r} - u^2r^2 + 133u^2r - 2r^{3/2}}{r^4\\sqrt{u^2r + 2\\sqrt{r} - u^2}}\n",
    "$$"
   ]
  },
  {
   "cell_type": "code",
   "execution_count": null,
   "metadata": {
    "vscode": {
     "languageId": "wolfram"
    }
   },
   "outputs": [],
   "source": [
    "integrand4[u_, r_] = (24*r^2*u^6 + 48*u^6*r + 120*r^(3/2)*u^4 - 96*u^6 + 96*u^4*Sqrt[r] - u^2*r^2 + 133*u^2*r - 2*r^(3/2)) /\n",
    "  (r^4*Sqrt[u^2*r + 2*Sqrt[r] - u^2]);"
   ]
  },
  {
   "cell_type": "markdown",
   "metadata": {},
   "source": [
    "Значение интегранта при любом $u$ на бесконечно больших $r$ равно 0:"
   ]
  },
  {
   "cell_type": "code",
   "execution_count": null,
   "metadata": {
    "vscode": {
     "languageId": "wolfram"
    }
   },
   "outputs": [],
   "source": [
    "Limit[integrand4[u, r], r -> Infinity]"
   ]
  },
  {
   "cell_type": "markdown",
   "metadata": {},
   "source": [
    "### Выражение для левой границы $r_1$"
   ]
  },
  {
   "cell_type": "code",
   "execution_count": null,
   "metadata": {
    "vscode": {
     "languageId": "wolfram"
    }
   },
   "outputs": [],
   "source": [
    "eqr1[u_, r_] = u^2*r + 2*Sqrt[r] - u^2;\n",
    "sol = Assuming[{u ∈ Reals, r ∈ Reals, r > 0}, Solve[eqr1[u, r] == 0, r]];\n",
    "r1[u_] = Simplify[r/.sol[[1]]]"
   ]
  },
  {
   "cell_type": "markdown",
   "metadata": {},
   "source": [
    "$r_1$ обращается в 0 при $u \\rightarrow 0$:"
   ]
  },
  {
   "cell_type": "code",
   "execution_count": null,
   "metadata": {
    "vscode": {
     "languageId": "wolfram"
    }
   },
   "outputs": [],
   "source": [
    "Series[r1[u], {u, 0, 5}]\n",
    "Limit[r1[u], u -> 0]"
   ]
  },
  {
   "cell_type": "markdown",
   "metadata": {},
   "source": [
    "И проверим, что знаменатель обращается в 0 при $r = r_1$"
   ]
  },
  {
   "cell_type": "code",
   "execution_count": null,
   "metadata": {
    "vscode": {
     "languageId": "wolfram"
    }
   },
   "outputs": [],
   "source": [
    "PlotR1[u_] := Module[\n",
    "  {points, r1Value},\n",
    "\n",
    "  r1Value = Piecewise[{{0, u == 0}}, r1[u]];\n",
    "  points = {{r1Value, eqr1[u, r1Value]}};\n",
    "\n",
    "  plotLabel = \"u = \" <> ToString[u];\n",
    "\n",
    "  Show[\n",
    "    Plot[\n",
    "      eqr1[u, r],\n",
    "      {r, -1, 10},\n",
    "      AxesLabel -> {\"u\", \"r1\"},\n",
    "      PlotLabel -> plotLabel,\n",
    "      PlotRange -> All\n",
    "    ],\n",
    "    ListPlot[\n",
    "      points,\n",
    "      PlotStyle -> {Red, PointSize[Large]}\n",
    "    ]\n",
    "  ]\n",
    "]\n",
    "\n",
    "plots = {PlotR1[3], PlotR1[0.1], PlotR1[0.0]};\n",
    "GraphicsRow[plots]"
   ]
  },
  {
   "cell_type": "markdown",
   "metadata": {},
   "source": [
    "### Графики функций интегранта $f_4(u_i, r)$:"
   ]
  },
  {
   "cell_type": "code",
   "execution_count": null,
   "metadata": {
    "vscode": {
     "languageId": "wolfram"
    }
   },
   "outputs": [],
   "source": [
    "PlotIntegrand4[u_] := Module[\n",
    "  {r1Value},\n",
    "\n",
    "  r1Value = Piecewise[{{0, u == 0}}, r1[u]];\n",
    "\n",
    "  plotLabel = \"u = \" <> ToString[u];\n",
    "\n",
    "  Plot[\n",
    "    integrand4[u, r],\n",
    "    {r, r1Value, 10^3},\n",
    "    PlotLabel -> plotLabel,\n",
    "    PlotRange -> All,\n",
    "    AxesOrigin -> {0, 0},\n",
    "    AxesLabel -> {\"r\", \"integrand4\"},\n",
    "    ScalingFunctions -> {\"Log\", \"SignedLog\"}\n",
    "  ]\n",
    "]\n",
    "\n",
    "plots = {PlotIntegrand4[0.0], PlotIntegrand4[0.03], PlotIntegrand4[0.3]};\n",
    "GraphicsRow[plots]"
   ]
  },
  {
   "cell_type": "markdown",
   "metadata": {},
   "source": [
    "*Mathematica* очень долго берёт этот интеграл, но выдаёт огромную простыню выражений, которую не может упростить, используя при это коплексную экспоненту."
   ]
  },
  {
   "cell_type": "code",
   "execution_count": null,
   "metadata": {
    "vscode": {
     "languageId": "wolfram"
    }
   },
   "outputs": [],
   "source": [
    "Inactivate[Integrate[integrand4[u, r], {r, r1[u], Infinity}, Assumptions -> {u ∈ Reals, u > 0}]]"
   ]
  },
  {
   "cell_type": "markdown",
   "metadata": {},
   "source": [
    "## Численный график $I_4(u)$ с использованием NIntegrate:"
   ]
  },
  {
   "cell_type": "code",
   "execution_count": null,
   "metadata": {
    "vscode": {
     "languageId": "wolfram"
    }
   },
   "outputs": [],
   "source": [
    "Plot[\n",
    "  NIntegrate[integrand4[u, r], {r, r1[u], Infinity}],\n",
    "  {u, 1, 100},\n",
    "  PlotLabel -> \"NIntegral of integrand4\",\n",
    "  AxesLabel -> {\"u\", \"integrand4\"}\n",
    "]"
   ]
  },
  {
   "cell_type": "markdown",
   "metadata": {
    "vscode": {
     "languageId": "wolfram"
    }
   },
   "source": [
    "## Численный график $I_4(u)$ с использованием Integrate:"
   ]
  },
  {
   "cell_type": "code",
   "execution_count": null,
   "metadata": {
    "vscode": {
     "languageId": "wolfram"
    }
   },
   "outputs": [],
   "source": [
    "(* points = With[\n",
    "  {u := 10^up},\n",
    "  Table[\n",
    "    {u, N[Integrate[integrand4[u, r], {r, r1[u], Infinity}]]},\n",
    "    {up, 0, 2, 0.05}\n",
    "  ]\n",
    "]; *)\n",
    "\n",
    "points = Table[\n",
    "  {u, N[Integrate[integrand4[u, r], {r, r1[u], Infinity}]]},\n",
    "  {u, 1, 100, 1}\n",
    "];\n",
    "\n",
    "ListPlot[\n",
    "  points,\n",
    "  Joined -> True,\n",
    "  PlotRange -> All,\n",
    "  PlotLabel -> \"Integral of integrand4\",\n",
    "  AxesLabel -> {\"u\", \"integral4\"}\n",
    "]"
   ]
  },
  {
   "cell_type": "markdown",
   "metadata": {},
   "source": [
    "## Первообразная $\\tilde{I}_4(u, r)$:"
   ]
  },
  {
   "cell_type": "code",
   "execution_count": null,
   "metadata": {
    "vscode": {
     "languageId": "wolfram"
    }
   },
   "outputs": [],
   "source": [
    "antiderivative4[u_, r_] = Integrate[integrand4[u, r], r]"
   ]
  },
  {
   "cell_type": "markdown",
   "metadata": {
    "vscode": {
     "languageId": "wolfram"
    }
   },
   "source": [
    "Явно определим аргумент комплексного числа:"
   ]
  },
  {
   "cell_type": "code",
   "execution_count": null,
   "metadata": {
    "vscode": {
     "languageId": "wolfram"
    }
   },
   "outputs": [],
   "source": [
    "(* complexLog[z_] := Log[Abs[z]] + I Arg[z]; *)\n",
    "arg[z_] := ArcTan[ComplexExpand[Im[z]]/ComplexExpand[Re[z]]];\n",
    "(* abs[z_] := ComplexExpand[Abs[z]]; *)"
   ]
  },
  {
   "cell_type": "markdown",
   "metadata": {},
   "source": [
    "Применяя его к antiderivative4[u, r], мы получаем действительное выражение, состоящее из двух слагаемых одно без $\\tan^{-1}$, а второе, включающее $\\tan^{-1}$:"
   ]
  },
  {
   "cell_type": "code",
   "execution_count": null,
   "metadata": {
    "vscode": {
     "languageId": "wolfram"
    }
   },
   "outputs": [],
   "source": [
    "antiderivative4s[u_, r_] =\n",
    "  Simplify[\n",
    "    ComplexExpand[\n",
    "      Re[antiderivative4[u, r]]\n",
    "    ] /. Arg -> arg,\n",
    "    {{u, r} ∈ Reals, u > 0, r > r1[u]}\n",
    "  ];\n",
    "\n",
    "antiderivative4s[u_, r_] =\n",
    "  Sqrt[2 Sqrt[r] - u^2 + r u^2] * Simplify[\n",
    "    Expand[\n",
    "      (antiderivative4s[u, r] /. ArcTan[x_] -> 0) /\n",
    "      Sqrt[2 Sqrt[r] - u^2 + r u^2]\n",
    "    ],\n",
    "    {{u, r} ∈ Reals, u > 0, r > 0}\n",
    "  ] -\n",
    "  Cases[antiderivative4s[u, r],\n",
    "    coeff_.*ArcTan[arg_] :> coeff*ArcTan[arg], ∞][[2]] /\n",
    "  (12 * r^3 * u^7)"
   ]
  },
  {
   "cell_type": "markdown",
   "metadata": {},
   "source": [
    "### График первообразной $\\tilde{I}_4(u_i, r)$:"
   ]
  },
  {
   "cell_type": "code",
   "execution_count": null,
   "metadata": {
    "vscode": {
     "languageId": "wolfram"
    }
   },
   "outputs": [],
   "source": [
    "rules = {\n",
    "  eqr1[u, r] -> 0,\n",
    "  ArcTan[x_] -> -Pi/2\n",
    "};\n",
    "\n",
    "PlotAntiderivative[u_] := Module[\n",
    "  {points, antiderivative, r1Value},\n",
    "\n",
    "  r1Value = r1[u]*(1.0+10^-12);\n",
    "  antiderivative =\n",
    "    If[r == r1Value,\n",
    "      antiderivative4s[u, r] /. rules,\n",
    "      antiderivative4s[u, r]\n",
    "    ];\n",
    "\n",
    "  points = {{r1Value, Re[antiderivative /. r -> r1Value]}};\n",
    "\n",
    "  plotLabel = \"u = \" <> ToString[u];\n",
    "\n",
    "  Show[\n",
    "    Plot[\n",
    "      antiderivative,\n",
    "      {r, r1Value, r1Value*2.1},\n",
    "      PlotLabel -> plotLabel,\n",
    "      PlotRange -> All,\n",
    "      AxesLabel -> {\"r\", \"antiderivative4s\"},\n",
    "      ScalingFunctions -> {\"SignedLog\", \"SignedLog\"}\n",
    "    ],\n",
    "    ListPlot[\n",
    "      points,\n",
    "      PlotRange -> All,\n",
    "      PlotStyle -> {Red, PointSize[Large]},\n",
    "      ScalingFunctions -> {\"SignedLog\", \"SignedLog\"}\n",
    "    ]\n",
    "  ]\n",
    "]\n",
    "\n",
    "plots = {PlotAntiderivative[3], PlotAntiderivative[0.1], PlotAntiderivative[5*10.0^-2]};\n",
    "GraphicsRow[plots]"
   ]
  },
  {
   "cell_type": "markdown",
   "metadata": {},
   "source": [
    "## Определённый интеграл, возьмём как разницу первообразных по теореме Ньютона-Лейбница,\n",
    "$$\n",
    "  I_{4,1}(u) = \\int_{r_1}^{\\infty} f_4(u, r) \\, dr = \\tilde{I}_{4}(u, \\infty) - \\tilde{I}_{4}(u, r_1(u)):\n",
    "$$"
   ]
  },
  {
   "cell_type": "markdown",
   "metadata": {},
   "source": [
    "Найдём $\\tilde{I}_{4}(u, \\infty)$:"
   ]
  },
  {
   "cell_type": "code",
   "execution_count": null,
   "metadata": {
    "vscode": {
     "languageId": "wolfram"
    }
   },
   "outputs": [],
   "source": [
    "integral4Inf[u_] = Limit[\n",
    "  antiderivative4s[u, r],\n",
    "  r -> Infinity,\n",
    "  Assumptions -> {u ∈ Reals, u > 0}\n",
    "];\n",
    "\n",
    "integral4Infs[u_] = Simplify[\n",
    "  ComplexExpand[\n",
    "    Re[integral4Inf[u]]\n",
    "  ] /. Arg -> arg,\n",
    "  {{u, r} ∈ Reals, u > 0, r > r1[u]}\n",
    "]"
   ]
  },
  {
   "cell_type": "markdown",
   "metadata": {},
   "source": [
    "Найдём $\\tilde{I}_{4}(r_1(u))$, при этом заметим, что $2\\sqrt{r} - u^2 + r u^2 = 0$, и $\\mathrm{arctan}(-\\infty) = -\\frac{\\pi}{2}$:"
   ]
  },
  {
   "cell_type": "code",
   "execution_count": null,
   "metadata": {
    "vscode": {
     "languageId": "wolfram"
    }
   },
   "outputs": [],
   "source": [
    "integral4r1[u_] = antiderivative4s[u, r] /. rules"
   ]
  },
  {
   "cell_type": "markdown",
   "metadata": {},
   "source": [
    "### Графики функций $\\tilde{I}_{4}(u, r_i)$:"
   ]
  },
  {
   "cell_type": "code",
   "execution_count": null,
   "metadata": {
    "vscode": {
     "languageId": "wolfram"
    }
   },
   "outputs": [],
   "source": [
    "Plot[\n",
    "  {\n",
    "    N[antiderivative4s[u, 1]],\n",
    "    N[antiderivative4s[u, 10^2]],\n",
    "    N[antiderivative4s[u, 10^5]],\n",
    "    N[antiderivative4s[u, 10^10]],\n",
    "    N[integral4Infs[u]]\n",
    "  },\n",
    "  {u, 0, 1000},\n",
    "  AxesLabel -> {\"u\", \"antiderivative4\"},\n",
    "  PlotLegends -> {\n",
    "    \"antiderivative4s[r=1]\",\n",
    "    \"antiderivative4s[r=10^2]\",\n",
    "    \"antiderivative4s[r=10^5]\",\n",
    "    \"antiderivative4s[r=10^10]\",\n",
    "    \"antiderivative4s[r=Infinity]\"\n",
    "  },\n",
    "  ScalingFunctions -> {\"SignedLog\", \"SignedLog\"}\n",
    "]"
   ]
  },
  {
   "cell_type": "code",
   "execution_count": null,
   "metadata": {
    "vscode": {
     "languageId": "wolfram"
    }
   },
   "outputs": [],
   "source": [
    "Plot[\n",
    "  {\n",
    "    N[Re[antiderivative4s[u, r1[u]+10^-2]]],\n",
    "    N[Re[antiderivative4s[u, r1[u]+10^-4]]],\n",
    "    N[Re[antiderivative4s[u, r1[u]+10^-5]]],\n",
    "    N[Re[antiderivative4s[u, r1[u]+1.35*10^-6]]],\n",
    "    N[Re[antiderivative4s[u, r1[u]+10^-7]]],\n",
    "    N[Re[antiderivative4s[u, r1[u]+10^-10]]],\n",
    "    N[Re[antiderivative4s[u, r1[u]+10^-12]]],\n",
    "    N[integral4r1[u]]\n",
    "  },\n",
    "  {u, 0.0, 100},\n",
    "  AxesLabel -> {\"u\", \"antiderivative4\"},\n",
    "  PlotLegends -> {\n",
    "    \"antiderivative4s[r=r1[u]+10^{-2}]\",\n",
    "    \"antiderivative4s[r=r1[u]+10^{-4}]\",\n",
    "    \"antiderivative4s[r=r1[u]+10^{-5}]\",\n",
    "    \"antiderivative4s[r=r1[u]+1.35*10^-6]\",\n",
    "    \"antiderivative4s[r=r1[u]+10^{-7}]\",\n",
    "    \"antiderivative4s[r=r1[u]+10^{-10}]\",\n",
    "    \"antiderivative4s[r=r1[u]+10^{-12}]\",\n",
    "    \"antiderivative4s[r=r1[u]]\"\n",
    "    },\n",
    "  PlotRange -> All,\n",
    "  ScalingFunctions -> {\"Log\", \"SignedLog\"}\n",
    "]"
   ]
  },
  {
   "cell_type": "markdown",
   "metadata": {},
   "source": [
    "## Итоговый ответ для $I_4(u)$:"
   ]
  },
  {
   "cell_type": "code",
   "execution_count": null,
   "metadata": {
    "vscode": {
     "languageId": "wolfram"
    }
   },
   "outputs": [],
   "source": [
    "I4[u_] = Simplify[Collect[Simplify[integral4Infs[u] - integral4r1[u], {u ∈ Reals, u > 0}], (425 + 366*u^4 + 37*u^8)]]"
   ]
  },
  {
   "cell_type": "code",
   "execution_count": null,
   "metadata": {
    "vscode": {
     "languageId": "wolfram"
    }
   },
   "outputs": [],
   "source": [
    "TeXForm[I4[u]]"
   ]
  },
  {
   "cell_type": "markdown",
   "metadata": {},
   "source": [
    "## Сравнение Integrate и аналитической $I_4(u)$"
   ]
  },
  {
   "cell_type": "code",
   "execution_count": null,
   "metadata": {
    "vscode": {
     "languageId": "wolfram"
    }
   },
   "outputs": [],
   "source": [
    "Show[\n",
    "  Plot[\n",
    "    N[I4[u]],\n",
    "    {u, 0, 100},\n",
    "    PlotLabel -> Subscript[\"I\", 4][u],\n",
    "    AxesLabel -> {\"u\", Subscript[\"I\", 4]},\n",
    "    PlotLegends -> {Subscript[\"I\", 4][u]},\n",
    "    ScalingFunctions -> {\"SignedLog\", \"SignedLog\"}\n",
    "  ],\n",
    "  ListPlot[\n",
    "    points,\n",
    "    (* Joined -> True, *)\n",
    "    Mesh -> All,\n",
    "    PlotStyle -> {Red, Dashed},\n",
    "    PlotLegends -> {Subscript[\"Integrate I\", 4][u]},\n",
    "    ScalingFunctions -> {\"SignedLog\", \"SignedLog\"}\n",
    "  ]\n",
    "]"
   ]
  },
  {
   "cell_type": "code",
   "execution_count": null,
   "metadata": {
    "vscode": {
     "languageId": "wolfram"
    }
   },
   "outputs": [],
   "source": [
    "points01 = Table[{u, N[Integrate[integrand4[u, r], {r, r1[u], Infinity}]]}, {u, 0.02, 1, 0.05}];\n",
    "Show[\n",
    "  Plot[\n",
    "    N[I4[u]],\n",
    "    {u, 0, 1},\n",
    "    PlotLabel -> Subscript[\"I\", 4][u],\n",
    "    AxesLabel -> {\"u\", Subscript[\"I\", 4]},\n",
    "    PlotLegends -> {Subscript[\"I\", 4][u]},\n",
    "    ScalingFunctions -> {\"SignedLog\", \"SignedLog\"}\n",
    "  ],\n",
    "  ListPlot[\n",
    "    points01,\n",
    "    (* Joined -> True, *)\n",
    "    Mesh -> All,\n",
    "    PlotStyle -> {Red, Dashed},\n",
    "    PlotLegends -> {Subscript[\"Integrate I\", 4][u]},\n",
    "    ScalingFunctions -> {\"SignedLog\", \"SignedLog\"}\n",
    "  ]\n",
    "]"
   ]
  }
 ],
 "metadata": {
  "kernelspec": {
   "display_name": "Wolfram Language 14.1",
   "language": "Wolfram Language",
   "name": "wolframlanguage14.1"
  },
  "language_info": {
   "codemirror_mode": "mathematica",
   "file_extension": ".m",
   "mimetype": "application/vnd.wolfram.m",
   "name": "Wolfram Language",
   "pygments_lexer": "mathematica",
   "version": "12.0"
  }
 },
 "nbformat": 4,
 "nbformat_minor": 2
}
