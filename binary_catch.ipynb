{
 "cells": [
  {
   "cell_type": "markdown",
   "metadata": {},
   "source": [
    "# Binary catch\n",
    "\n",
    "**При каких условиях два тела, налетающие друг на друга с бесконечности (в системе центра масс) станут связной системой из-за испускания гравволн?**"
   ]
  },
  {
   "cell_type": "code",
   "execution_count": 1,
   "metadata": {
    "vscode": {
     "languageId": "wolfram"
    }
   },
   "outputs": [
    {
     "name": "stdout",
     "output_type": "stream",
     "text": [
      "  (CleanSlate) Contexts purged: {Global`}\n",
      "  (CleanSlate) Approximate kernel memory recovered: 1 Kb\n"
     ]
    }
   ],
   "source": [
    "(* https://mathematica.stackexchange.com/questions/850/how-do-i-clear-all-user-defined-symbols/861#861 *)\n",
    "<< Utilities`CleanSlate`\n",
    "CleanSlate[];\n",
    "\n",
    "ClearAll[\"Global`*\"]\n",
    "(* ClearSystemCache[] *)\n",
    "(* https://mathematica.stackexchange.com/questions/111605/quit-vs-clearallglobal *)\n",
    "if[Length[Names[\"Global`*\"]] > 0, Remove[\"Global`*\"]];\n",
    "\n",
    "(* PacletInstall[\n",
    "    \"TensorSimplify\",\n",
    "\n",
    "    \"Site\" -> \"http://raw.githubusercontent.com/carlwoll/TensorSimplify/master\"\n",
    "]; *)\n",
    "<<TensorSimplify`"
   ]
  },
  {
   "cell_type": "markdown",
   "metadata": {},
   "source": [
    "## Einstein Summation"
   ]
  },
  {
   "cell_type": "code",
   "execution_count": 10,
   "metadata": {
    "vscode": {
     "languageId": "wolfram"
    }
   },
   "outputs": [],
   "source": [
    "ClearAll@EinsteinSummation\n",
    "\n",
    "EinsteinSummation[in_List, arrays_] := Module[\n",
    "  {res =\n",
    "    isum[in -> Cases[Tally @ Flatten @ in, {_, 1}][[All, 1]], arrays]},\n",
    "  res /; res =!= $Failed\n",
    "  ]\n",
    "\n",
    "EinsteinSummation[in_List -> out_, arrays_] := Module[\n",
    "  {res = isum[in -> out, arrays]},\n",
    "  res /; res =!= $Failed\n",
    "  ]\n",
    "\n",
    "isum[in_List -> out_, arrays_List] := Catch@Module[\n",
    "  {indices, contracted, uncontracted, contractions, transpose},\n",
    "  If[Length[in] != Length[arrays],\n",
    "    Message[EinsteinSummation::length, Length[in], Length[arrays]];\n",
    "    Throw[$Failed]];\n",
    "  MapThread[\n",
    "    If[IntegerQ@TensorRank[#1] && Length[#1] != TensorRank[#2],\n",
    "      Message[EinsteinSummation::shape, #1, #2];\n",
    "      Throw[$Failed]] &, {in, arrays}];\n",
    "  indices = Tally[Flatten[in, 1]];\n",
    "  If[DeleteCases[indices, {_, 1 | 2}] =!= {},\n",
    "    Message[EinsteinSummation::repeat,\n",
    "      Cases[indices, {x_, Except[1 | 2]} :> x]];\n",
    "    Throw[$Failed]];\n",
    "  uncontracted = Cases[indices, {x_, 1} :> x];\n",
    "  If[Sort[uncontracted] =!= Sort[out],\n",
    "    Message[EinsteinSummation::output, uncontracted, out];\n",
    "    Throw[$Failed]];\n",
    "  contracted = Cases[indices, {x_, 2} :> x];\n",
    "  contractions = Flatten[Position[Flatten[in, 1], #]] & /@ contracted;\n",
    "  transpose = FindPermutation[uncontracted, out];\n",
    "  Activate@\n",
    "    TensorTranspose[\n",
    "      TensorContract[Inactive[TensorProduct] @@ arrays, contractions],\n",
    "    transpose]]\n",
    "\n",
    "EinsteinSummation::length =\n",
    "  \"Number of index specifications (`1`) does not match the number of \\\n",
    "tensors (`2`)\";\n",
    "EinsteinSummation::shape =\n",
    "  \"Index specification `1` does not match the tensor rank of `2`\";\n",
    "EinsteinSummation::repeat =\n",
    "  \"Index specifications `1` are repeated more than twice\";\n",
    "EinsteinSummation::output =\n",
    "  \"The uncontracted indices don't match the desired output\";"
   ]
  },
  {
   "cell_type": "code",
   "execution_count": 18,
   "metadata": {
    "vscode": {
     "languageId": "wolfram"
    }
   },
   "outputs": [],
   "source": [
    "(* Правила для скрытия аргументов в TraditionalForm *)\n",
    "\n",
    "Unprotect[Subscript, OverHat, Derivative];\n",
    "\n",
    "MakeBoxes[OverHat[r_][OverHat[t]], TraditionalForm] :=\n",
    "  MakeBoxes[OverHat[r], TraditionalForm]\n",
    "\n",
    "MakeBoxes[\\[Phi][OverHat[t]], TraditionalForm] :=\n",
    "  MakeBoxes[\\[Phi], TraditionalForm]\n",
    "\n",
    "MakeBoxes[Subscript[OverHat[r], n_][OverHat[t]], TraditionalForm] :=\n",
    "  SubscriptBox[OverscriptBox[\"r\", \"^\"], ToString[n]];\n",
    "\n",
    "MakeBoxes[OverHat[\\[Omega]][OverHat[t]], TraditionalForm] :=\n",
    "  OverscriptBox[\"\\[Omega]\", \"^\"];\n",
    "\n",
    "MakeBoxes[Derivative[n_][f_][OverHat[t]], TraditionalForm] := Module[{primes},\n",
    "  primes = StringJoin[Table[\"\\[Prime]\", n]];\n",
    "  SuperscriptBox[ToBoxes[f], primes]\n",
    "];\n",
    "\n",
    "Protect[Subscript, OverHat, Derivative];"
   ]
  },
  {
   "cell_type": "markdown",
   "metadata": {},
   "source": [
    "$\\hat{r}_k$"
   ]
  },
  {
   "cell_type": "code",
   "execution_count": 27,
   "metadata": {
    "vscode": {
     "languageId": "wolfram"
    }
   },
   "outputs": [
    {
     "data": {
      "text/html": [
       "<div><img alt=\"Output\" src=\"data:image/png;base64,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\"></div>"
      ],
      "text/plain": [
       "FormBox[TagBox[RowBox[{\"(\", \"⁠\", \n",
       "\n",
       " \n",
       ">         TagBox[GridBox[{{RowBox[{OverscriptBox[\"r\", \"^\"], \" \", \n",
       "\n",
       " \n",
       ">               RowBox[{\"cos\", \"(\", \"ϕ\", \")\"}]}]}, \n",
       "\n",
       " \n",
       ">            {RowBox[{OverscriptBox[\"r\", \"^\"], \" \", RowBox[{\"sin\", \"(\", \"ϕ\", \")\"}]}]}}, \n",
       "\n",
       " \n",
       ">           Rule[RowSpacings, 1], Rule[ColumnAlignments, Center], \n",
       "\n",
       " \n",
       ">           Rule[ColumnAlignments, Left]], Column], \"⁠\", \")\"}], \n",
       "\n",
       " \n",
       ">       Function[BoxForm`e$, MatrixForm[BoxForm`e$]]], TraditionalForm]\n"
      ]
     },
     "execution_count": 27,
     "metadata": {
      "text/html": [],
      "text/plain": []
     },
     "output_type": "execute_result"
    }
   ],
   "source": [
    "rh = {OverHat[r][OverHat[t]]*Cos[\\[Phi][OverHat[t]]], OverHat[r][OverHat[t]]*Sin[\\[Phi][OverHat[t]]]};\n",
    "rh // MatrixForm // TraditionalForm"
   ]
  },
  {
   "cell_type": "code",
   "execution_count": 28,
   "metadata": {
    "vscode": {
     "languageId": "wolfram"
    }
   },
   "outputs": [],
   "source": [
    "$Assumptions = {\n",
    "  {OverHat[r][OverHat[t]], Subscript[OverHat[r],2][OverHat[t]], OverHat[t], u} \\[Element] PositiveReals\n",
    "};\n",
    "$Assumptions = Join[$Assumptions, {rh \\[Element] NonNegativeReals}];"
   ]
  },
  {
   "cell_type": "markdown",
   "metadata": {},
   "source": [
    "## Система движения в декартовых координатах\n",
    "$$\n",
    "\\frac{d^2r_k}{dt^2} = -\\frac{G(m_A+m_B)}{r^3}r_k - \\frac{2}{5}f_{ki}^{(5)}r_i\n",
    "$$\n",
    "\n",
    "Ч.Мизнер, К.Торн, Дж.Уилер Гравтация, Т.3, §36.8, стр. 222\n",
    "\n",
    "Введём обозначения для полной и приведённой масс\n",
    "$$\n",
    "M=m_A+m_B; \\quad\n",
    "\\mu = m_{AB} = \\frac{m_A m_B}{M}\n",
    "$$\n",
    "Задача двух самогравитирующих тел с массами $m_A$ и $m_B$\n",
    "в системе отсчёта центра масс всегда сводится\n",
    "к задаче движения тела массы $\\mu$\n",
    "в центральном поле массы $M$.\n",
    "\n",
    "$f_{ki}$ - квадрупольный момент системы.\n",
    "Задача решается методом последовательных приближений\n",
    "Первоначально строится решение в приближении Ньютона,\n",
    "затем для полученной конфигурации находится квадрупольный момент\n",
    "и находится его пятая производная по времени.\n",
    "Уже на следубщем шаге (уравнение выше)\n",
    "находятся решение с **заданной** функций от времени (**и только времени**) $f_{ki}^{(5)}$."
   ]
  },
  {
   "cell_type": "markdown",
   "metadata": {},
   "source": [
    "### Безразмерные единицы\n",
    "$$\n",
    "\\begin{align}\n",
    "r &= b\\hat{r} \\\\\n",
    "t &= t_0\\hat{t} \\\\\n",
    "f_{ij} &= b^2\\frac{G}{c^5}\\mu\\hat{f}_{ij} \\\\\n",
    "f_{ij}^{(5)} &= \\frac{b^2}{t_0^5}\\frac{G}{c^5}\\mu\\hat{f}_{ij}^{(5)}\n",
    "\\end{align}\n",
    "$$"
   ]
  },
  {
   "cell_type": "markdown",
   "metadata": {},
   "source": [
    "$\\hat{f}_{ki}$"
   ]
  },
  {
   "cell_type": "code",
   "execution_count": 31,
   "metadata": {
    "vscode": {
     "languageId": "wolfram"
    }
   },
   "outputs": [
    {
     "data": {
      "text/html": [
       "<div><img alt=\"Output\" src=\"data:image/png;base64,iVBORw0KGgoAAAANSUhEUgAAAbYAAABaCAIAAABbmuRqAAAAy3pUWHRSYXcgcHJvZmlsZSB0eXBlIGV4aWYAAHjabU/bDQMhDPtnio6QBzgwDtxxUjfo+A0HVUVVS8TGeUHor+cVHgPCFGKyjAKQI5ZYpLrINDGZqdzxRsNSvPsh1Sm4upW+CfTlt903TJb8M4hkCh0bXGtcDWuQyvR5LWyrXmrO+yClDeUj+P89qgkS2KLHKGSG4joHl05IQslw4QC8kHEKxcO5w8zbYKNC62gckG57dQ9QN87xBR0naXVWj6xZhrO0R/HHtJW9PxLenAda8YWQj28AAAAJcEhZcwAAFiUAABYlAUlSJPAAAAA8dEVYdFNvZnR3YXJlAENyZWF0ZWQgd2l0aCB0aGUgV29sZnJhbSBMYW5ndWFnZSA6IHd3dy53b2xmcmFtLmNvbVyipoUAAAAhdEVYdENyZWF0aW9uIFRpbWUAMjAyNTowMzoxOCAyMzoxODoyN1ee7/cAACAASURBVHhe7d11uHVF1QBwUBFQkEa6BemQ7pLuUgTp5kFSUkCkRFJCSlIaJJRGUroVJCVEaRBppfx+fOv9hv3tc84++5665953zx/3uWfvNTNr1qxZs2pmj/rf//53lPbKe++9d9JJJ22++ebjjTdeey1VtSsKVBSoKNBfFPhSO+h88MEHRxxxxHTTTffjH/+YoGynqapuRYGKAhUF+pACbYnIP/7xj3POOeckk0zShwOrUKooUFGgokD7FBi1wND+9NNPv/zlLzftY+2117700ktfeOGFKaecsilwBTAyUwBHnXfeebfffvsYY4yxzDLLrLbaaiMzNaqxl6RAD9imSNYRkXULDXHbbbdt9Db7fK211jJUIrIMcAUz0lLgP//5z+KLL45V0r77ox/9aKSlRjXwkhToDdvccsstu+yyy0cffVSLVX1D+5xzztlrr70OO+ywkmK+Aqso0JQC2OlrX/vaSy+99NprrwVrHXvssY888kjTihXAyEyB3rDNEkssMeuss373u999//3389SulZoXXnjhFFNM8eabb5YU85UWWZJQIw+YnV8o77PPPssOeb755vvnP/+ZnnznO9/Bi6effvrIQ5ZBHClDchB7L9n1oLPNPvvsw9CBRhbhvBb55JNPbrbZZscff/z444/f+73rb3/7G+veWhIlX2655U499dT2c5K6PQoYXnLJJRtuuCG0V1555b333vvVV1/tdqddav/111+XnPD73/++nfb//ve/TzbZZBRGpEjtEJcnnnhiNi1slVVW8XZQ2Kyd0Q3FujvuuONYY4110EEH9TPy/cA2++233xtvvLH77rv/P0Jl5SU+nn/++emcJaV+gLWjRUKIUI52rrjiijHHHDM3ixtvvPGAkOkN8J133hkdUcsXW2yxHM6W/R/+8Ic2MSGtnnrqqTYbKV+d0bDnnnt+/etfNxayLFfx7rvvLqmGfPzxx4ssskgQZNRRR7322msb4bDllluabttJeSSHOmSW28uMpTzZi1v7xje+YTqmmWaaMp0WwHQP//5hm9/97ndodfPNNyc6jJKlyMUXX+z1ZZddNiBStiwiRYQEwfk9dffoo4/SO9Zff/2//OUvzz//vHRLxn6stLvuumtA+HQV+MMPP9xmm21mn332f//73zpad911YbjSSisdcsghRMykk04aOEuEyhqVZVD6wQ9+oPpZZ50VwA899NA3v/nN9LNMCy3DHHPMMTPMMIPuAvlaEbnBBhssu+yyr7zyStMu9thjDy34C3+TO9FEE7344ou1td56660JJphg3333bdrgsAHIcnvdQeUYAEx5shdT6Wc/+9lUU031q1/9qh1idhX//mEbauK3vvUtmmJ9ETnPPPNY2yX1hdREayISxb/61a+madtoo42cz8lO4QMPPBAr9pe//GU7U9vBuijDlCYfBRw0e99990HvjDPOSF0QixJFA+0BcaT9mc6lFldDau3WW2+l1p1wwgkdHELdpp544olPPvnkwQcfbCQiRfrMMtb517/+VYDMNddcM/rooyf34ssvv8z5wCjReK7W9ttvz5FCd+j20Pqk/Ry312JVlwFKkr0HY+wq/v3GNhFLvPHGG4OwX2iR1DcvWjBsSVwVH3744fJTRbMgizfZZJNUxf+M1lwL4447rpbPPvvs8i13FZLWM9pooz399NPRy6677rrmmmvmeiTXQtBQNssjQ3NXZY455shVIR/1iEHLN9UypLStRiJSm8IvNBE7RMEOyjPw2GOPZREwp1gtJyKpxrPNNtvbb7/dMqpDq2Itt9fi34gBypC929ToNv79xjaRZZGk0xciMpzrMnvLU1wOMBkR6o8AJelbpq6A0UILLUQ/kv9RAE9h0TIHf6hsTQvLl3F3zz33FFi4XhHlzko2ao1r7KabbmLav/vuu/bw7NrmKoWP5KlUV1wrJxG8MrovfenzINiAROTOO++siinIIUbPmmWWWWwndc3VuqOwqHbbbberr766KcVyAMUiEvC5554LyTatY+JedkXx1A8U8zbh//GPf9xxxx184rXabrTs+eOPP/7ss8/mYvSpX9P05z//+brrrnvmmWfAmIL0qiS3N2KA8mQvYN1Ahg5Uy13QjoeWT7B9DqZn+BdPYo/ZZvLJJx977LF51WD1hYhccMEFLYC//vWvbTJc0+pcXTrirS+GBADLAn9/qs536aiGAxvi4F/532IH4O1KALiWc3PqqafWL/lF0rEZc8op5WinnXaS1UzWKxohnZPX1ltRWtWbiipkjdRoWQFNSREAQiW0qkb708knn+wVcVyyNTsKeIHpkvAJrKmIREZEQD0Er9s4IXL++ecT0EsvvXRIUlJjxRVX5FMLE8H+xE2RrW5L7o2OXBdhPhzbj/DaxBNPjGgcspdffnkWksUgV46XPLY9cQ/e55x8v/fee2eaaaZxxhmH60BTE0444ZJLLpkaKcPtxQzQlOzFrEsy7r///tNPPz1Pd2BF6l155ZWbbropbC0EK0U+hpC3AfKTHHzwwVkK9AD/PmQbmh9qBGeOEJH2EJ5BrNBonxzoeiuAX3jhhXXvzGIjGGGBCIOsscYa2Q25LjwpRpYx9kN4CQKGVrvqqqsmhsC7nmyxxRYWJ/tOdCIsyvXWWy+N9+ijj/YkKcIWj59WeDRy/fXX1zWEa1EKByXruMxmI6tJQDx7ynPmmWemCGeb5Z2MxRl7WtPSPRGpa+sKMrlVlFA68sgjTVnQ9he/+AVxaaeJn9YkccNzwoDQiGIbMy+26wh89bhQDNdZZx3ouaQqeEDMDZ7mItFf8hPBIYrFgGBS/OlPf+KsB4Pfklgn+okeUakwTbDut7/9bWNMwynm9jIM0JTsBax72mmnBQJKEpFU3ZSGgVFJScFuvmbyEZjlwzrsJf59yDY2+CQNRohIWSwesem6zamyn2Ia6rqibKdbbbVVNvWHYvjcc881wgqDcpBRNnm7E0wknRD38STSwYie7Oki0efgm1NOOSXAFl10UT+Tj9YT9qAMgHhLvHrL+diUPmBACkcUQ7JobAN0E7I4EgkErMLXYfj21Wz1GWec0fOcgtOo/a6KSEofTOaaa65GvVNJgrByRQmOww8/nEfFPybROoxX2cLAbErSbgDQ8aGR9WzccMMNgRjhrkc+mVAtI+MiCu41Fg/pm7F5y+7yk8RJMGaTJE3w3tbl9gExQDHZi1kXJm5RgEYSkYGbHSLG6xxdbBIRjVBEwHuJv776jW3EYNEhIg0jRCQPukdsim6wY7ZNZyF1RMOv2xG+vOCCCw488ECTmhQQIdFGui0LQmsM5GxrtAADiTg40ckAB8PQzsIQ0CGIaQQRf1DFT9qoZRCQLNy0nTKdvHVgrpg+9mfK+LTTTlt8NokKs8ACC6TlFxkPoVbHmZPciAK33BAaYdJVEclnBxO6VaPeY35pi2ztyPynXuWOK3Sbx5q2j81gaH/KTRN5vfrqq8f+xFNhIHbfXGspH/6oo47yKgiiKdpoQFL2bfPxfyNuHygDFJO9mHWhYcOuFZF4zENaZHaA4U2SftRL/BOh+odtwmrk/oLbCBFJKnnEJdGUvQKAHLHr1i1M3YJGwuXPd9O0I/tzOnrBWV4XnkWjNdZEo9aSalBr13/ve9+LPTMi1GeeeWb81ClRmFvVjBGvWI4FaBO1K6ywAos4ucAbAbMstMZJFwDUXjZOeMrd7OCVK3CydbGsh40ULnEtDoRUwtIPr0IqZS4ZaeqLhJLgY1CpUTza+YQAmHfeeXvgtGnKRXUB+E9gKG2zoHrYIrU5BlgxBsjBqrox2hHjiXC/9N5sm424faAMUEz2YtaFzw477AC9nBYZAaKciIyARMrT6A3+MOw3tuFUQQdr+QsRKTbi0XbbbVeS5yT9BVvUllquyrYZPr5sZmZBj6zgaJ9qWRcsjg04VN6okbCnlNtuuy0Hky7p4GnyKndOhm2bDSPEybniMLEwBYZreq6GChOHWKJ9SgfFc/nllw/0fvjDH3qVs9MdyvQwlzeahhO83rQ0CtemdsqIyHS2MunaOaqGdqxIfirJS70HCwnF91LQtagLGLpwLUzYH3PPPXe84lIwgzFq6iTtLKWv1eX2FhigmOzFrDsgERk6RxKRvcEfhv3GNvxCMaH0jxFntB1381tUrulKCwDudlXqlpQYWLepSHWkMZXpKDzowXm18Nz877zzjufUwEatRehGkcacgxEoyDbOd0nl5KYNdrdvL7XUUkkJbYq2nZzlxW8ltl48NCnxeJraGHqKeCgnaRxYVpjq/oa5nUqQKwRrbaGNcjikIi0JDJ7LPjzggAPq0rDMLNRi0ggZHqXQYelTce9Zf5bgdgY1xb8RhsE5tWzjYXBOoienEIcMiekhpVIwkBEgDcjPumzTMgM0Insx67YzBb3Bvw/ZJnQv5XNWiZ2QFuO3hdTtLZ0ipiNRwpIdxWYuc60ufFziK8pUm89MVZacIckxhkqTz7XAPI9X4XtKxxwJXCs8XnHYh7UY6fG1J/OiTZojkcd3WWZQXIqaoqUGcESTIiQFE3oojs/ZxYEPZ0iZ9rvqiwwJyE1c14i+6KKLgm5iwWVQHSyYNPW1nhOMxA8FsRDxFMbaEw3BdcJrwCyhcNRQ0rkj0z0dkfJVl9tbYIBishezbjtaZG/w70O2EYsLTuY0G6GdMfeC9eNF90oEBNkaZbqwh4u3UKmSxperRTh6In87Z/iTOMQK5nYcMFIZIiaYLaFLS4uLSCsnQ5zAE6y0wlnN/iduwvdUgLbokEwXZ7Q56bPt2xv542qHGSpMIjUFhFc4cJBMQ/uwUeXubw9yBQ6DWwIT+1ZSz7P4hJObz4tiO7h4FvcebKNQtHOs6JYXfhuvYlO0Lnixs62xXWT2eBJuO6kgobbLFtp6661Jq4h4hC1Vl21aZoBGZC9m3XYmojf49yHbpOX5uWCMndxZWqQseTymnc0fh4kS6otFmW1HRstvfvOb3LkXPEelahSrCfUtOMCKZSPbz7XgLJcs8aRzkTgBk4vYRCZNuieCoZSNhwQfazbSLUlAPzkKc2Pnnmf/Sj1zzjQVqUI0BZkfLqGqpVXkE2iZ/KV6UOllIAGzMk0MZ1DOaUhfC1XauagylG9ZizSWIFRB0rtAFgCmZV1MQrIPVh5PGeIEDJKmxEBpjLgI21DhbXLshghz25uD7Pa5bLpYRDAwTzzkyKb4Z3POwnEcQe263D5QBtBOMdmLWVf1SFmj4WZJFDGcnEEQ7gLqRUD2Bv8+ZBscEmvh85yEoEWQJjLCul0iLTwlSQTLhguc9DSd0LI5O09iQ5ZyXIxPBJpyxQJIbC02HRs+YZQOkkcEX3p5MhhRAK8nMQq9AIjeI2UsFxMk5dPVPrU4eFJ75EtTHItyOb2le8p79w+lVf4g3xbbrTZV/v777wcjP7TkvLQsIg899NAYBRdwo77CZ1r31DxdPqpnE49L4tx7MFNT63lncGSTT2U4Ygkjwopx44YgFX1fzhMWDZyJSADy0iIhgahlhaiV8jpquX2gDKDZArLH4i1gXa6DCIZkj0V5COeYr4QqzokzNi5hSjeMdBv/vmWbIM7nSljvReRVV12l79wFENLNknKLU5lCEtNEY8osHnc9pPQgc0yLyX2Dwk8GFFMIl7Bq5YRjKdpl1oNJWSCGAEhIolkAJqyzF9uEos3FmVAKW6xREY1phDxt18GSdKiG7JYt1Ojes5BcKZu3KUFoNODlWjaFTADcFPIQsgNxTJAKn2sBGZHX+ske7kwwcVCSFjbQm6LK49lZyDi3mqIuGIPLL9eF/Qk/GBcVjIJvC0eZrFnDYuCrQRYFAKPHUb/svl6X2wfEAMVkh3AB6wohxrnbKMIvrg7g6c56rgyKxkA5yB7ZMI9uPNB4t/HvW7YZTBGJ7u4TEjhOl+kGX5JHtpSIM7awGLAd3i1IbeGalIJLEtk2aw/zRaKfHZ6DVqk9zw83PNTCTUiNxkJhlFMi57EgsxrOWJyaUPfDQy1QqZ0qtiJ8I8elnUb6ra6JJgv4VQoQw5NGzYFTm15qXuITFM6JkqcAagNZdbldd2UYAFhTsjdl3TZp3m3820SvS9UHWUSaVAm3bmnt0vC61Oxxxx1HzaxNsWy5O56E4uAvNyW5XNdgb7nT1ioKndFBOrhDtIbGUKxVwO1NGaAfyD7U8W+NZzosIkWHedOsH9/HKYkQtw4DQQCkH/SjkjgD4ziXsUQbLV+lESSiscsKLqfgGnb1evFppfbRKNMCFYnrQyBiaE1WmaH1BqYutzdlgP4h+1DHv4VZ7piItMI59ThiOPtKXuyY0FVXgKJkul8Lg+xSFa56KnDJe3cKcJBnXnsjb4IXBxAop0R0aRQDala8Kw5cV6VlCtRyezED6KivyD7U8R/oxHVGRHL8ybBle6YbcQaKB/h+u+OgzBA6cn+XIEnBjXBo2/TIYBlUOwLTkfF2BJOh3kiW24sZwEj7kOxDHf/y/JNE5Kjq+CGJj9OaZRcXnJQswtDirYKnP//5z0tWqcAqClQUqCjQ/xSIwxGSfuqcfS6JvVsYSEYZAz/5yU+cN7DjlaxYgVUUqChQUWCoUKB1ERmhWCmmsghlUHNHul6s5MnCoUKdCs+KAhUFRnIKtC4inU1GO5ds+wKBgJd7PR1Hj9NXVakoUFGgosDwoEDrIjLud3AFrGu95aY4YS0bnJSUAT48SFONoqJARYGKAq2LSF5IHs24k0Jx5t8dpf5Jt1FWxK0oUFGgosBQp0DrItK3Cvgi3Q+aSBAHP9NtlEOdNBX+FQUqClQUaF1ExicEwiMZxTk5J0/Spzwq4lYUqChQUWCoU6B1Een+BXeOSX8N56MrcJyXcilsRz4AMNTJWuFfUaCiwPCgQOsikiPy2muvdUjOreDrrbee2w99DMgnqIYHXapRVBSoKFBRAAVaF5Equ4VBINvVYW4zlPoTHzitSkWBigIVBYYNBdoSkUEFXyaIO2iHDVGqgVQUqChQUSAo0AERWZGyokBFgYoCw5UClYgcrjNbjauiQEWBDlCgEpEdIGLVREWBigLDlQKViByuM1uNq6JARYEOUKASkR0gYtVERYGKAsOVApWIHK4zW42rokBFgQ5QoBKRHSBi1URFgYoCw5UClYgcrjNbjauiQEWBDlCgEpEdIGLVRF9R4L333jviiCPeeuutvsKqQmaIUqASkUN04iq061Dggw8+IBynm246X6kjKCsaVRRonwKViGyfhlUL/UIBn5ybc845J5lkkn5BqMJj6FOgEpFDfw67P4JPP/3UfSVbb731jjvu6Jvp3e+wxR6WX35531By2XOL9f+32nHHHddO9a7WdVmMD45usskmhxxyyGuvvdbVvgar8RNOOCG+XN1m6Rit4tvbc889N4R8R7v8p7gryJGEAr4uv/jii2OPdFOJK536eexrrbUWbF944YUWkNxvv/18yLOFij2oYnMabbTR0ixMMMEETz31VA/67XEX7ureZ5992uy0fVqFgG7rO9ptyviq+lChwGGHHebWu5deeona4n9oH3vssY888shQwb88njRlV0T3pxbJtbrVVlvB0Afrb7311vnmm+/NN9/cc889y49uqEAeffTRp5566plnntkywh2mVaVFtrlflazOVi0JOYhgFEYRj88++yyLg9Xo8+jpiRuU8e7pp58+iHgWd92aFunafJ/wJIO6Pa4ceUt2d+6559JwE7Cv2JuFqaaaqmT1oQV24YUX0pcfeuihMmjXMm1HaFVpkS1vUa1U5MIba6yxDjrooFYq96qOj6FPNtlkFMa999479Wk9n3jiieONN156ssoqq/h//PHH7xVePeqHajz11FNvsMEG2f4s0bPOOmvllVeefvrp55lnns022+z5559vByHfd9LLjDPO+OKLLw6oHa4wYfpUhdeVEBnSs/D6668bUcj6XPEVAyQ65phjmpKoLtN2mFYjlRb5xhtvPPnkk2W2JjCmsFO+nvgq5DTTTFOy60ZgA8JfI3fffXdJ7fXjjz9eZJFFgiPjkxuNcNhyyy3HHHPMV199tc2xdK96C1qk7y/ZGw4//PAsVh9++OHSSy+dW6XAHn300ZaRP/LII6NBhmTLjagYEnbXXXdt1Midd95Zvv0OsnqZTsNF4CpuQ7AB163iKy9jjDEGyIIGSzJtU1rV7SJpkaOMPCJSRsiUU055zjnnNCK6D5ZNOumktIYAoOf7oGP6WWbuG8H4cAWbiJ+rnUYGir++6ETLLrvsK6+80rTfPfbYA0/4a9SoNNFEE2Gs2lrysUUJ9t1336YNDiJACyKS/9Fn6UiKLNobbbQRBjjvvPM4Ye0Z3//+92PZ0OBaHp0wK0/FoosumutroA3iKKp93UZI9m222Wb22Wfntew9qzcdCN1whhlmQNggZiMRidO+8pWv2FEKGizJtAW0Kmh8pBOR5AtPU4GQoqDRntDFdxwT4fjF7XWRhTC4pTX8P/roI/JCEgwtqQD/a665ZvTRR0/uxZdffpn/cYkllvjkk09ytbbffvvlllvO7j241CjuvQUROeuss84888zZZsmyscce+4knnsg+XHXVVXEI2TS4w3/uuefgcOONN9aiwWjgFiAfifVGSA4uqyMpvnrwwQeLRSTk55hjDuZ2o1GUZNoCWhVP4sglIilE0ollkxUQ5bLLLkMUs5KDIR85fUioQVwV7eAv/EKBtWwKLG7+hMceeyw7wPfff98KzIlICvVss8329ttvDyIpynQ9//zzm8qHH364DDAYWwJ4/q8sPH7g9c+1EN4xp3dKttwNsHfffReXnnbaaXUbp+Bj16effrrPWV1KVlMRGX7hrMqSHVQZpi2m1ZARkcwBxt0999yTDZvmsPcKx4vlNxoV19hNN9101113IQrVKbu2BbwWWmghyqC0lQKi7LzzzuZDpCIHQ2OaZZZZSNi6hmcWuACHAOOqr23c9yPjIToE/jmYNvHXmqVuaG1axzYJqlYxDbshEQbU5u23377mmmuGNcCelaJUpvqVV14JfrfddmsKHEzSNGsPz5jW66677plnnhHvskvlWuZiI5dzD0Uekur37LPP1vV4YuzVVlutUf7yFVdcYey77LJL8UDaZ/WmhGoKUEZERkqTvappa3UBimnVtM2+0CIFB5dZZhlOWdsyv4NC0eODSNhjL0duRQChy1Vk+tmMZ599dnZ4lKOddtpJPq0loWiEDXLzzTcnGM4O1QUZCoiCZelHwDieasFOPvlkr0QzG7VQjAPJuP/++wuJcnRGC6SeZbnpppuKSBqRIW+44YZC3nph8B588MHZjtrHHxmFqlEPwesOwYI8//zzyQjRiZCklveKK65oG6dO+ml/YrtlqyPU4GrWTVm8PABfFcofddRRxVUef/xxpjcJxdlXAHnvvffONNNM44wzDo+E+Z1wwgmXXHLJgEfMiy66iB+AzwdTxUNiVJhowQUXNEE2s4svvjhYUdFOdmM2j5jQ6ZrUuwZTxAYTmmW1ivfyNlm9PFWLIcuISDkGBVt7MdMW06rMKAZfRJJiZBmbKGZU7DU2f+6eJEcwmSdbbLGFxcm+S0kAbKKUXCbRFEzSFwTC/LTCExUWXnhhTy699NK6dJGkuthii2W/cMsnRaXNAlP1tSAq3WhtFODAIAoElCQirQqdxkNmESkp2G3lkI+eoANtqIP4a4o41nJO+KYuOMXXWGONwIeGQlzaaeInUc5qG3fccWniGlFsY+Zl8sknL4gGlGHB/oFZe+21jbSR6Rp4XnDBBRNPPLF9Ojs1tUMgs8yyYFdYPAJlvp+MdP6nWlIIvA3CJhHpKKEIWDxkr+CBFVZYIUlJ5ylTL9RDCKB/TMT666/PVZei8Ndff70Waj1FqXpHWL1Ts1ZGRHLsGNHqq69et9Nipi2mVZlRxIw4XTM4EW2cxEFmT+Y5TuhG0omkingSWYQEFsM5waTjBKeccko8FBwElnVdswcdP4q3jJcQOrUeNCbtuuuui+dIVVs3MBHMSAmU1GKPytIRL3p++eWX1yVuMQ6qxCJMIjIaWWeddWIa9tprr5D49M14Qq/pLP6UPs3ONddcjZgjXR12ySWXWOEWHteEf3i7ie/AKlsYa2X4bEjAxPFKA6+Lrc2V3Eljx0s//elPG43r8xU1yij2vwSAtSRUpp/pVFISkV6xqaP9aaedlq7qCX5wDtIT+mYExzB87Sx4m2xzmgSAumlAHWT1Tk1oGREZ4QEaxkCZNs6A5UqWVmVGEdUHTUQyPHXPQM7iSnezZxJYHhKdDHAwDO0sDElHfnlOA434gyp+0kZJw4DEfGmrv+WWW7xl7+SIwk+xwAILeBU5QJE9EJpmnB7J4Ra95JBJbRbjAEwgWPWciNSFh7TILG5hK0k/ioedwv+OO+7QLFu+EXNER7RFtjZ1Axg9iEOgDDMNdZiQgPTlugPBS8STGWT2xrIhJa2cusBBZ/vuSSedFAAsDwcHE7A0nWgkKyLlG8TDrJqfZGLJ5FzmvBYYp11l9U7NdRkRKWZtRDSeQWHamJFBO6MdRgH3VuARhZjz3BUJ/hfAYcf5h5syC8Pa5QzyhNZD0fNPhL04gNyCJbuNyokjUxZ0ZI3ShrKN+J8gJpHD3eanZcDACUkXdaPxVKKFRiciinFQ0ZrJIeBnOBZyhXLtiXUVzzuLP6n3zjvv1HbqiWCXv9YqgM0339z/tEgbb13gPnxoFfHVNCoCJgU423e9Tb6FHCR+4Mg+/vjj8WSkRurLLlK3QTY1TZAOKDPRMSRmgZ0+fNlRBsoJWWYoJntnWaURq6MVv1NxCdOt/RIzErMziEw7YunWXa7tD7JRC2FRRoCibnEGJp7zducAmC3xRJ6Kv4zl8OuJehOvxC55l6rQRv3Pd55thHh13NWTMKvJ4vvuu88mHPiEySl9OlslWmgkX4pxGBAZcxPRWfwLhsB7VabOawAACWpJREFUG3hy8fSYGQZEn0bAEfdvVOTiFfQS09pIRKaKzBf+Ck5YTxzortsg0vFRxNZy1VVX0U95JIoFdCPEBjoLnWWVRqx+wAEHcLwUF9s8C6/9aY0ZKaBeD5jWLIwQkTGpHRlYU9IQSTEB4gBN+SNy1rIleFSJDZnv8oYbbhCHjSGwSpZaailPAobl6C9fTLaFBx54gDOU2hgKIw2U7hlHjxWxFH/D3E4lWogjU7WlGIdGYyzzvLP4NxqCXcEm4a30yXDMDbliNrlNG5UU/ag7roiS0Q2bjtqCWWmllYBl43u5WvzONum4XZA6KcbI7uFPbNp4mwCdZZVGrM7w4iUrLsRoXWV5oANEvQJSd5VpkyT8XKqEnU+swObAAw/slK+huJ3Q0cTvavOZ7c+S78LuU7K3m0SbIo/xKiIqcgnjOYFrhccrwccIgFx99dV+Ou2UxYdL0cOUuB9xIasLjDY5B4m83G2D0XIj+hTjoNkddthB9ZwvMtLTcr5IepCHkvsC4U7hHxLQtlz3mhmZKEE3dwr0hgH6qpdwMmazIArQY3EDFhupC8PVGGnbnN3cken6D7UCXs5NkDrri0y2ZNYXmVQkK6IMuSJhPneer+OsXgaTMjBlfJFBAacV6zbYVaYNL59y//33j9AiIwZiXuNFtwvhqAuWshOB2b7IKcKIisexGHt7hGJzMH7K5Y5I63bbbReHmZDSCpfc539hPpFB/4QPkQ2ebSFc5smwsufTMqI1PGrDtw3mDO1oodanGc0W49AOMTuLP69FXfMtXMMkOB2hHWyHaN3Qv0oqenLCActEqTtYl0dIN/GKmumSdntnxN+cZO02cTrLKo1YvdujyLYfMxKzU1u6yrRJEhKMI0Rk6NVkU29IkK514j2kJzoPq2spNZRZjEXYiUGHo9CriP2nEruHuH5a7aLS8daTiE37JyjLNSm1CK2z4Repal6RoWQlNRZbh5WtZalY9LjQ71IJFdXPFAWqpVIBDoAj/JK2pqge0xA7ZGowYBj+8aQj+GsnfLuN8I/tWiyiwH6sHfKweRKskkJkMS5npcT0cj5HW7iTC3ISk1umlgguvEiqIv00hGlSJ1MvWWZI0jnr6UqQiRmKCR6Tm/O6doPVOzLvyddZ4NwL71YukJB67yrTpm/DfS4YY4lGAkrxEZQy+nN5GH3V0lrgJWVBcsA7cgBGFDudt2XqeiK9PBmMnD5s1ZQZzroJgISJWIonKQnDc6SPwLF8aRns/qF+8rJzoEiNrD0uRtkGU3AytxgHTBAJRtnzLR66JyIoIA4b2FJ+I2QklzhdFdE+/lqOJZ07mBSdRtRLKU6KLj+zQw4yUrLOOOOMLOaHHnpokGXeeeeVKSGfkUFD0ZawXXAQ1hFAVcxsHCQFab/Hn2mKxXCi2exhLVm98VDSeMIhNnvFwYQyJI0QaM6Z03FWL4NJGZhEXr7dRvCRCUBnqgXoNtMKacSCJYVGiEinrzyyGssMr1MwbohId4ISDXS3bJa4XvzcfffdqTZwZQvLkMJtrOCsBxMHE14A7Nj2TMD8RNmLbYIpk3cvkKcVOiKSlCZSGHc2uvcspjOlc9cOvwAHhI0DlFEoLNJBOGJS0MlDei7RT8qHuyMKd2rcutw+/siIvMRu9nBnGkUwou5K3izZqdnvn3ZccYQCuaRXUbtszjx3tozR7MHWuvg7s8AFhNoKc4RT28HTyLi0/9EAMHCaYt4kmWespazyzgcl4SaUgyh27kauzxwO7mcCn/NddpbV2581vrVsKj6EmUp15SCvl7dZp23PmFYIV9ex34wQkb/97W89oqu3T4KBtmAK2by1926ldtjgMnLJL1tx7RHAODZjt+QkUmqvgfB24403FpmqvUyXwojv5WkX5EjrnYyjJ+bEd3aYZXAYKFmy8O3grx1bkcltdHqkHcSGR92wpmvPC9kzJADSH8tfboRJ4ssWKjI+7IWtfYahNcLSreyyuKW2eqdYvTXEWqtFmTAvIo2tVW+nFqefrm1UX4jIUCzJgnba7du6WFxCr8tlazHkTS8O4zryiO1qL+np5WDbwV/WFNW17rLp5RD6uS8+DUpfXfboZ7Tr4sYnwKK67bbbhiirZ9E2I5beoFwFEHkL4XgcoUX6T7iTSl/riRtyXFIXYRn/zGHfn8wqg7zvTKGCi1vc6TDFFFMkR9IgkqI1/OkyDLdtt922QAUexEF1vGvCjl3GLHBUWZ5D+fYtBiZwwXV85ZsadEhnELkFGF5ZTIYQqwfatG9euMHa2iNLLy6Z/kJExo3Kg6LW9oariELRmGxuozB0zkeZxYTr3RH62nv9eoNtbS8DxV8LLIU4cD2SFM50AVCjjtTl8t+HcZoAfC5iM3SJ5sQ9sym79w8tVkf5CGHl7tzq2YzEgfe4c/4LERnHThvd1NAz5LrdUdbtyHPc6JI0aHCPFnhIu41no/bL46+FQTFSBosy0ux9aTLCzXEI1RGp8shIvZaTWx6+zyFzUz/kWN1FR9kbknpJbVsLAz8dLflCRAp3ytYeHh6ZXhK06qtPKOAT2NktjYch3WVbBkMqJN1TjKUMcAXTVQoIc4mvDpYBFBmXKYNl1M81yf8rnDi0Kuf/hvT3edNwqn9GWgpI/JYBxtBudAymljLi17JHZX1zPXfkiPFIS/z2B24ieM+ZBU3vFmm/r9oW+O5//etfO7Qy4nsHWQin0+3D2bubuoFB1WZFga5SwD2DcrkkCQ7oPKXkRMer2KcV/3d1dpo27usUvjIgR21Q5KOUauaI+wC/SGfOKcy8ObKah2tcu6vWQdV4P1DAoZSUge9Q00C/Z8vEc4d8PwxkpMUB/Rt9ZKkHNJGv7pBFNkj7/wxtAl40AGPxSMYdIVWpKDDkKCBfxGXR7jl2hSJbW+LIgIZgHQ70rsYBtV8BF1NgEOnvJgcnf3y7KdJ7ouRvwxaxkUot3yUOL1elosCQowBPotOl8c01p/sHin8lHwdKsc7CDxb9aYc+neZqxKx8rCMiPXIPmE3Ytyhd5dTZwVetVRToGQXiCtTsWfiedV11NOQowCEjWO2yq7jQJ1vqfFPFa65KUjLuYaxKRYGhSAHpO/z9bicZishXOPeYAnLU3Zjj4tfafvO+yB5jVnVXUaBTFPBxDrk+YpGc6RLIJY6Qj+mrwp3qpWpnZKNAJSJHthkftuOlBbj00/BkRDpZ79pmHslhO9pqYL2iwP8AQ5jnoQ4bBIYAAAAASUVORK5CYII=\"></div>"
      ],
      "text/plain": [
       "FormBox[TagBox[RowBox[{\"(\", \"⁠\", \n",
       "\n",
       " \n",
       ">         GridBox[{{RowBox[{FractionBox[\"1\", \"6\"], \" \", \n",
       "\n",
       " \n",
       ">              SuperscriptBox[OverscriptBox[\"r\", \"^\"], \"2\"], \" \", \n",
       "\n",
       " \n",
       ">              RowBox[{\"(\", RowBox[{RowBox[{\"3\", \" \", \n",
       "\n",
       " \n",
       ">                    RowBox[{\"cos\", \"(\", RowBox[{\"2\", \" \", \"ϕ\"}], \")\"}]}], \"+\",\\\n",
       " \n",
       ">    \"1\"}]\\\n",
       ", \")\"}]}], RowBox[{SuperscriptBox[OverscriptBox[\"r\", \"^\"], \"2\"], \" \", \n",
       "\n",
       " \n",
       ">              RowBox[{\"sin\", \"(\", \"ϕ\", \")\"}], \" \", RowBox[{\"cos\", \"(\", \"ϕ\", \")\"}]}]}, \n",
       "\n",
       " \n",
       ">           {RowBox[{SuperscriptBox[OverscriptBox[\"r\", \"^\"], \"2\"], \" \", \n",
       "\n",
       " \n",
       ">              RowBox[{\"sin\", \"(\", \"ϕ\", \")\"}], \" \", RowBox[{\"cos\", \"(\", \"ϕ\", \")\"}]}], \n",
       "\n",
       " \n",
       ">            RowBox[{FractionBox[\"1\", \"3\"], \" \", \n",
       "\n",
       " \n",
       ">              SuperscriptBox[OverscriptBox[\"r\", \"^\"], \"2\"], \" \", \n",
       "\n",
       " \n",
       ">              RowBox[{\"(\", RowBox[{RowBox[{\"3\", \" \", \n",
       "\n",
       " \n",
       ">                    RowBox[{SuperscriptBox[\"sin\", \"2\"], \"(\", \"ϕ\", \")\"}]}], \"-\", \"1\"}], \n",
       "\n",
       " \n",
       ">                \")\"}]}]}}, Rule[RowSpacings, 1], Rule[ColumnSpacings, 1], \n",
       "\n",
       " \n",
       ">          Rule[RowAlignments, Baseline], Rule[ColumnAlignments, Center]], \"⁠\", \")\"}], \n",
       "\n",
       " \n",
       ">       Function[BoxForm`e$, MatrixForm[BoxForm`e$]]], TraditionalForm]\n"
      ]
     },
     "execution_count": 31,
     "metadata": {
      "text/html": [],
      "text/plain": []
     },
     "output_type": "execute_result"
    }
   ],
   "source": [
    "fh = Simplify[Array[rh[[#]]*rh[[#2]] - 1/3*KroneckerDelta[#, #2]*(OverHat[r][OverHat[t]])^2 &, {2, 2}], Trig -> True];\n",
    "fh // MatrixForm // TraditionalForm"
   ]
  },
  {
   "cell_type": "markdown",
   "metadata": {},
   "source": [
    "<span style=\"color:brown\">**NB:**</span> Здесь и далее мы не записываем компоненты квадрупольного момента для $z$, так как они сворачиваются с нулевыми $r_z$.\n",
    "\n",
    "Однако нужно запомнить, что след полного квадрупольного момента и его пятой производной **нулевой**!"
   ]
  },
  {
   "cell_type": "markdown",
   "metadata": {},
   "source": [
    "$\\hat{f}_{ki}^{(5)}$ - заданная функция (см. выше)"
   ]
  },
  {
   "cell_type": "code",
   "execution_count": 35,
   "metadata": {
    "vscode": {
     "languageId": "wolfram"
    }
   },
   "outputs": [
    {
     "data": {
      "text/html": [
       "<div><img alt=\"Output\" src=\"data:image/png;base64,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\"></div>"
      ],
      "text/plain": [
       "FormBox[TagBox[RowBox[{\"(\", \"⁠\", \n",
       "\n",
       " \n",
       ">         GridBox[{{TemplateBox[List[SubscriptBox[OverscriptBox[\"f\", \"^\"], \n",
       "\n",
       " \n",
       ">               RowBox[List[\"x\", \",\", \"x\"]]], \"\\\"(5)\\\"\"], \"Superscript\", \n",
       "\n",
       " \n",
       ">             Rule[SyntaxForm, SuperscriptBox]], \n",
       "\n",
       " \n",
       ">            TemplateBox[List[SubscriptBox[OverscriptBox[\"f\", \"^\"], \n",
       "\n",
       " \n",
       ">               RowBox[List[\"x\", \",\", \"y\"]]], \"\\\"(5)\\\"\"], \"Superscript\", \n",
       "\n",
       " \n",
       ">             Rule[SyntaxForm, SuperscriptBox]]}, \n",
       "\n",
       " \n",
       ">           {TemplateBox[List[SubscriptBox[OverscriptBox[\"f\", \"^\"], \n",
       "\n",
       " \n",
       ">               RowBox[List[\"x\", \",\", \"y\"]]], \"\\\"(5)\\\"\"], \"Superscript\", \n",
       "\n",
       " \n",
       ">             Rule[SyntaxForm, SuperscriptBox]], \n",
       "\n",
       " \n",
       ">            TemplateBox[List[SubscriptBox[OverscriptBox[\"f\", \"^\"], \n",
       "\n",
       " \n",
       ">               RowBox[List[\"y\", \",\", \"y\"]]], \"\\\"(5)\\\"\"], \"Superscript\", \n",
       "\n",
       " \n",
       ">             Rule[SyntaxForm, SuperscriptBox]]}}, Rule[RowSpacings, 1], \n",
       "\n",
       " \n",
       ">          Rule[ColumnSpacings, 1], Rule[RowAlignments, Baseline], \n",
       "\n",
       " \n",
       ">          Rule[ColumnAlignments, Center]], \"⁠\", \")\"}], \n",
       "\n",
       " \n",
       ">       Function[BoxForm`e$, MatrixForm[BoxForm`e$]]], TraditionalForm]\n"
      ]
     },
     "execution_count": 35,
     "metadata": {
      "text/html": [],
      "text/plain": []
     },
     "output_type": "execute_result"
    }
   ],
   "source": [
    "(* fh5 = Array[Superscript[Subscript[OverHat[f], {x, y}[[#1]], {x, y}[[#2]]], \"(5)\"] &, {2, 2}] *)\n",
    "(* Symmetric version *)\n",
    "fh5 = Array[If[#1 <= #2,\n",
    "                    Superscript[Subscript[OverHat[f], {x, y}[[#1]], {x, y}[[#2]]], \"(5)\"],\n",
    "                    Superscript[Subscript[OverHat[f], {x, y}[[#2]], {x, y}[[#1]]], \"(5)\"]] &, {2, 2}];\n",
    "fh5 // MatrixForm // TraditionalForm"
   ]
  },
  {
   "cell_type": "markdown",
   "metadata": {},
   "source": [
    "$\\hat{f}_{ki}^{(5)}\\hat{r}_i$"
   ]
  },
  {
   "cell_type": "code",
   "execution_count": 37,
   "metadata": {
    "vscode": {
     "languageId": "wolfram"
    }
   },
   "outputs": [
    {
     "data": {
      "text/html": [
       "<div><img alt=\"Output\" src=\"data:image/png;base64,iVBORw0KGgoAAAANSUhEUgAAAVAAAABWCAIAAAAWpFknAAAAzHpUWHRSYXcgcHJvZmlsZSB0eXBlIGV4aWYAAHjabU/bDQMhDPtnio6QB3FgHK5HpW7Q8RsOqoqqlkgcxwmQ+uv5SLcBYUrZvKACFMg1V2lBCk3MzFSveME+jHc9GSbhFpJ9G+hLP3bdl1/KzyKSSXTcEFzzGliLVKbObdbH8ksrZV+ktKF+CP+vs7rAwJ4jZiF31OAlBY0EEzLHA3cgjIxTKN8jd7jHGHw4tI3BAem+u3uChnCOL+g4pi2yRmQtMpTFI0o85ljd6yPpDRWfWpMpgWuNAAAACXBIWXMAABYlAAAWJQFJUiTwAAAAPHRFWHRTb2Z0d2FyZQBDcmVhdGVkIHdpdGggdGhlIFdvbGZyYW0gTGFuZ3VhZ2UgOiB3d3cud29sZnJhbS5jb21coqaFAAAAIXRFWHRDcmVhdGlvbiBUaW1lADIwMjU6MDM6MTggMjM6MTg6MjdXnu/3AAAgAElEQVR4Xu3dZ7h7RbUGcMHeFQv2gohdLAiiqNgRCyJ2sKKggDxWrChKEwWxV0AUEVEQxa5gu3ZRQbFg72JX7P3+uO+547CT7L2Tk5xzwj/zIU+yM3vKWrP6mpn1/vOf/5xnUVYPAv/6179e/epX//vf/84QPv3pT7/4xS++/OUvv3ojWvQ8Kwh89rOf/dznPpfW//KXv/z9739/1rOeNavORrS73oLgVxjije6OO+64+93vfuXhne985w9+8IOrO6RF77OAAEK78Y1vfPrpp5fGP/nJT97qVreaRV8tba6/wv0tugOBD3zgA/vss09A8cIXvvClL33p//x/ecMb3uDh97///Uc/+tF//vOfF+Caawj89Kc/fcADHkCJM4v3v//95z//+QuiP/OZz4TaH/WoR339619fuWliPKPKP//5z5Z/z61//e1vf0NpdOwZTfB973vfla50pZ/97Gfa/9jHPnbxi1/8E5/4hB4b3T3taU8j7ddNFMwI8o1moRjY6dUz6u7Xv/71Na95zbe+9a1p//a3v/1jHvOY733ve43uUD4L7lvf+tYUh9GybM4zqhus6LGPfewUBzEXTf3whz+8zGUug92it1kM+Nvf/vZlL3vZj3zkI2n8nve8Z1j7hS50oac//el//OMfS6dwdtvb3vYpT3nKLIaxaBMEwBbkoePHP/7x1AFCqt/lLnd53OMel5a/8IUvFBl+s5vdDIuvezz00ENveMMb1thf5nie97znve1tbxvayHCCP+qoo7baaquzzjprmR3P1+v/+Mc/bn3rWwcx6623Hh1s6uOnqN/xjncszb785S9/4AMfePWrXz2dXvva1/7DH/5Q/v3Qhz7k4S9/+cupD2PR4Hve8x4oDthvc5vbTF2TiiPmN7/5TUD9la985clPfrLVhbOn01e96lU1Fi596Us3niwHR6Zz3/ve97nPfe5gI0MI/thjj73KVa5CIVlOl/P47lOf+lSY8PmlL33pqle96uUud7mf/OQn053IDW5wg8c//vGDbb75zW++xCUuofciE9Sh9nvyrne9a7pjWLT2ox/9iB53jWtc48tf/vITnvAEQH7GM54xXbDw0Vz5ylcebPMXv/jFtttuq8eLXOQi1MlSAdN5yEMeMsUxMFVuetObHnjggY02mwT/jW9846IXveg73vGOKfY9F00xrS94wQseccQRGS1iu8UtbnG7291uirz/t7/9Laly2GGHDQUIyK+//vqsvvpfCidVfy4AOC+DhFDaK4cZ2suYidYLXOACPKlTnAJ9/q53vevQBvkOdtxxRzTPQVsqMJ833njjKQ5AU+SWeZ100kl1s+cgeEPZfPPNrfLpdjwXrX3zm9/82te+Vg/1T3/608knnzxFgtcaNAvGjAKIVYgjsCxqxr/NNtvMBQDnZZDACxF//etf6wGLllkAU5wCDWKoKpcuovALwpceRWo8mboRvfPOO/MQW8mlo3OE5Y4//niJAQZaHAzrzhf28/Wud716vpSuO9zhDuc973mnBQQahKZKjs1gs+yIa13rWuc73/nKX3w/9c+hI4FLWRzW8bTGOVk7hjHZiyv8FnhCa3BRClPLApjiSIjWdkTr67rXvW7pMZXF7drHQFGH6/6gRstCg1K5SrPnIHga/xWucIV73eteU5z5PDaFeJ7//Oczq652tavtuuuuv/vd76YyC04B7XDkDG2NzHnve9/bAD4roDPrjtMBb8LIeRymMs4JGvnqV7/K9bjJJpus4hgmGLZXZofrUYjW6dvf/naGM75TxqzyxS52seLSGzoXrgdYhmseh56T5fynNr7oRS/CKZZeKbIezjx62MMeNkXFZlpNfepTn+rfFLf2ctQzK2D77beHD4ofjQhMnvOc5/TvvaUm64BNjpWkDqxvttlmdLl45oVSyJla+8LLrYDXvva1LW3O2tvcc+KHHHJI1tORRx7Z85Wh1X71q1+dccYZ/VsQxKYE9a/fqDk7XO+yyy43v/nN0x3pfac73Ynd/vnPf97PH/zgBzw1DUDJtlSnZSITh5D2228/eDnhhBPS+H9t+LAN7uKJwTeLFy166Qo3utGNGkZX3deDH/zgK17xisUFwlex4YYb1h6RsQYmfAIOEuC89cxnPpNRLXg2Vgstlc0FX08FafNR4S51qUuhfO7iOiangrAcgj/zzDNHNbgC3uaeE5dfYH1zhi0niCj1g1Hzpje9aVSnWLDsVJpwqYCK0EkLiNrHPztcG6qVU6BREi6sZFD66Ec/Wg8Mz2Lzv+51r2sZ7cQhpFNOOcUaE6VrEvwtb3lLf8BcTxyvQDWAuPvd7w5GxaE62CmZkIAqxln+lcFGRL/iFa8Yd5A0UjR24QtfuEha+vy4jbTUF+wU8ixBkN///vfSKuuRl3clgQkTsL5GtbYy3uYpzr29KdTO7n3lK1/ZUk3MEqIf+chHljo01fvc5z7M7wnQNGtcC7M99KEPzVAJ+e985zsCMbUGV2YhYM5+bFFVlhNCohoALIZyDoInPz1lHswupXSCpbP33nuTge1Zh3QViwDjb7SP2pO6PFa/QK+1e9zjHmO9NVZlWijPnAhwy1uwIAdbqKYFHSvjbR5rahNXRnucRw9/+MPbW9h0001jANfVcEauFoJhXN1+1rjGzSVZHXTQQe2TkntrXpS1lmrLDCGhDnCLrbSk0jOSPbr+9a/fH2d4BOXZjr+STjT4rr9OPfXUlpzBn//85x/+8Icpt7RZ3LqOgb3zne8kup/4xCe2D2lU4gR6MB3LaKzkmZvc5CZFn+8PinFrwu7LXvaylrfgpl3BG7fHwfrohELLTdi/KSDFp8SrCaskojfepb9kj0ApeSU/LZgguvGWzQtbbrkljYw/uWUw/JfyFHjXB1s4+uijYY146D8XNVcA19YzB1B7ZFeKzlCxP9Zc2itvt912xb2yRPDZpGW3Rp9u7OXCuqi+G220kSCHgjfDR3nXajj44IOTMQpJ6JbS9cY3vrFuHD8WMxD0YvspGpFdWJLM/csh6fV2crXC+CFHuR5e85rXNDTAUbMTG+dEYavH80R19HNUNnIfEK1AHd4NlgsHLDuWC0BCOMb6pCc9Sf5mn7wpVpKZ9s/VF6+9znWuc8lLXlJKyQYbbMD7uPXWW2ea1isxRbWmJIK5J2j43e9+9yMe8Qg1od7a2GmnnXih9Yhi999//xo+8l48l3TcAjSMI9hEpYOMxnqzWiwzK7MT8vOI6+9+97vHHHMMBs0BFL6G7d7tbneD+j7MYvfddwe6hP2XCH7ffff1CFY64YUmUab8nJAiBTUmNLdE3oVsa8IT+/4ggGJTwoD3v//9i45qw4A6ReF5yUte4mfJdkpmwqCiXoZHADJ76iC5KDp1ox4/21gjUlYTumwpe+21FxeGRaw+1uO7UvwcnTBZlQrUPCFD+ZuZI6LaYostwrDQf+eQxiJ4q4pbVFgxyhonGc8Zsew7UsT9/ZuuQ/BUANjJE4YVmpfHiiMk+m3B1LtHsku0oaiX8Vs/YiVhFikkDbXOMqvniLn4q8FKhgJhHnEtCHLve98703/BC16A+Et2BsbaiWsBIC8mdXeJ4PFXj3bbbbf2lyGevWRHJ1dZqZkNJ+z/PEkYAPnVGw9tPstwS5CJr9JPzszSjqDUiSeemJ+YhX/Jq8Hx0OjEMCgOeAQhrBrXSEIMnG14Yf2KyLDnfSSet3iDVEY2nRBcOxX23HNPY+Z0wMXxXETlZ59s3LEIXnqmZtFwmTjI2/VVftocEvyG4FNwzDw0njD6hH4VSzB1WDd+YgEIexCqVBh6Iv4lCdKnmnYWJENGvKOuL7rkIfnfEzVzh2sMPaBzYgrOK4rECPKlz1a/SNxk0C4RfPhH50JhkKjWyBkkV9kCyE9zGEGSB6j0NeihEzV6TjuIc8UrftIUirvCWimMn7roXzHqBv6YQ5FjCd4kVhHhwC4YHFt6aQxm1JqIdUB69Fw0a6FaACVxgMiN+G1xqdQDHovgqcF6wWSdxpVGKE1CzaVB8acsx5rgk7JJwtf9xlITSc1DASo/af6DwMT99YjOeeBxeTItGh+aD4+oZ5oRUgR6ImXucB1AieDS6uPfge6GmjNq7naIeDceuqVMO/jzqD3RR4Vo2uJkwW4KovU8ooYbj2/GF+Z9XYfOmRwyjIoQ9iX7B1iGXJQ8WNQBC6jsTk3CVlLT6oKt4C+xXjzHIGiJoeq8m8ZLSQt90r+AjxhReeVPHWrMsf9PWGNSqS9UEZbvO5Y6tAU8l41Tl6CjfhJ5O1ho73JFSGlylTZBUFsqMapTUObgW2X/af0XDdHPrLeCmkFEyypPkEK0hePANPH6RLOdJOHT2mUwNhANiV7sBOA84ppv27zwPhNMPhh0c5p0TlaF0HVgfg6C70zbjkpWG1SN/riX8yT2cF1ogPkZuqKWx8zDpzELTAT1lvo0Bd9hum7B6nz2s5/tSRR4nEXqEhGX8UTnkblRv5IW+iwCRxQkn3mOCJ7GG/YKCOiwHfeiUAzpUgT51bd1r36IGnMeU6MgXQwly0tuH0lLD5rsBK4GFxiKaL3IR8SmeQeIEz+FV31mjiI7GV6N67JUzq245t7KrNnzQzlpC/aT3zU2wVtbgabA+KjWy1Cyl7sucS8pkQZsfplkXI5ZRlxQOHeOfFCoLj4pcnULaJITgUiPMKcd0AvKQuco8jCKfSlpIaKvveQ4URZjdM65KOW4S9TYOWBqEYusFPFOr7CP6oeYwlBZreYOO+yAI9ti7TvOyCyksi1/x85QROvi4x//uM+SbY7gaQEh/iAab6qFSlkq50pcE2Zkm1lLN3AOUieuGxUiyJe0quj9QSQHYLsJFJ7KGBhMcjjttNPEUaN4KERxo6nDDz88f8WvJiSbCtiHaeQvG0Xi3QlqG2eAMMU95IfLi/EO5pAwbWJjjUMFPE/LYhCdpl08TA960IM6a66dChBhzCVne6yBjWXDM9GT/kSvZsYXq6EkHYuPBoO1DZ8UiYYNzzrwkNMho5UI4KdU6Hrw1gDHsOdJ9MbWYbbs8ohDd4899qhfCT1Y2X0yx+YO16KeAe9kp6FwWnsXKwSx8U6tzQqjk0uBzAhSUB3SIn4Z5Am9xGvaqOOnTBg6pC8iAl/84hd9se/fNJLVbBXmBM+hG8viGSp2B4HD9ZLWxGNIGwKqodJnx9KgidgYm5+R8HOkz3PPxjiKw3mmRV5WNAJxULFAzDp6EJtimf0ORTRdkpldcG2dMB9iwFtpckb0HnZfShBN5vdRd+cO11HlxD6pacsE+HgEn3P/FFY3GS7xHpHjH7Rx6wDpcrfGwPZXkl5LCZcSeC8o4WnPv57E3+5LdLwo7XKP6xayfxhHQPlUDKsw+ryWLQKiIyKllKgPpbUWSAksO29IhRaC16P1LX0oZjML03du0sFmmTNyv7JpQZEIXa4faBnDuH9lEWB/TsUb990J6jvhr4hxGThJ3iqivjjhApwU6oDPyOHyMBXKbk2+G8Ics669rQI68e2FoSTNXnIHi1IINld3NPw7cR4Vp+8K4JoqYX1ae7yh6Q5GpBVOANvOV2LAQ/QUTmcIPnqq9GomYt8o3G8l6o4Gsg+HZ15ebdpPYg8mXTQuPVL2SroFFKZC6sc7iKXVahs7LetAEFH+jy9UA+Yrs9M6GEzACsmJF3TquiJAatpg0JIFKWHDoUWqoXMHpFBVfB9MTaV3cC9jWxLm9es7JLFQOscwbgVZTAbQvqeypc2xVHppzvoSyE1aK/GLuUMf53m64MnLkig7W5Cl+nlYquk0HlagLgf75B6OEvBLgzkBhnsZo+Es4L3DNBkvuMPQVJOw/kY259DpTwvXBxxwgH1QOi1nRdJW+IDGxWNn/ehxSuOs284XS4VapV9iwP0JXisiJSR5BgF/5GrjcG8/kYeFTmLTumXUWBzgUlv+4qtIUQXiguhWmW1W73mKG5lroJ4YiY3TFz6HpzgBatROWOd5aKHkeLQAKDf+lODwqJo0C8wl609MSBllMWZfF2VHxhEJUOcp9cdTe80kt028dTfucYpVn/EgEgwOrhWaFIsaOwvhoWHsvj6qhVmnfvHR6gWV4viYe3IxUvhrBHELsyhWfcZjqQjB1rYYbYJeOXQnlfVmYJhInd89al5TxDX2x4go23U5sMLlp1sS/gSucXcHTY3g0xDQ065bRCJtXzoEasTgB5Nbk1kFZLQgZXBHBMZmfQw9kIMw579Fny2JB3rHbjGyPjcNJLRLD+9EVTgjiddeMyJR+GqKR+J1jm12FcAwl3MI2tObmD99fGP9xwPLlPahR1+Q8CAp+aIFjySQOlLQ+vQ4XVzzHeo6B67gX2vzKoflSvg+YJ1KHQk5VAARmsHWuG3aPZZEK37BNOgcCdZDQJEPfW4CyD6Ezmy2+BfrM6c7h7EuV4ACiT1DzRO52O1hCB4TBlTPk5qmjuvwo+hZrN0+623lET25l77oYyvzBfuk17Hxsnu3FLo05d/6GDUMhj2PIDs/YYXBwv8kBpkMcB4R9qQ80M4QLo4Q0Z38tpYSDyW5tDKAmvdemGbYOpzyxTRi+5TEOAiHFroG80owVbbpqDozxTU3Ib+p9cBLbXmMWm9rCEHhN2PZ8CvMomQRY/+1UYCYGyZfPSQ0ydne2JjdGLNELjig3XEa2+fDBdXnyBQeqWyhzUVULJrSbO0y9JzFYXMSxYGpYiR9bMsVhuoa7A6KEXwjaQJqGn6ceuTcw50HB0wX12y0hiEpecmmHQeWyAhag1A1pLlR6Qv4GgfayQIYtZvSK1DSaTnzGvD84SM4HVO/fR+1BScFlX3BE6l9jhmrkOpRrvWwKV1rdmgyJqkVvNMkj+u6sAYuQw7kdfAan4mXfk1OvsvvaGmq5aTD8tYUcU2GS/TgP5P0WdpPMHhGlxFODMb6xfkj+KlMu9GIlGwORaGOTu6Qvb12niaS5GRLP+mZ5cVsIuRuINLZBTlXixucpsqhLZg8i/Ev2uwPgWnhmhqY+H+9cZuXgcyY+h0S/WfXWXNB8J0gOkcFHunGudeDJ5DJG5FD0tDeuYiGbvMer/tF7RWEQCeu2WiyQuuAv4SIxim0KzjeXl3NjdNujbg6ckRXPZhkXJRC83SUgORTwepkCqaQ8LkiclHmBQKduJa0z4VczvYQJOeoKylGa3+a46XWrv35rMoIpSQICznYb1V6X3S6khCQTiuswxgkA5wOwJjPlu15KQuCnwKmZBMuf1fDFMaxaGL2EJBaI6vPli1ZgHLsGPB9tuvMflx9e1gQfF9ILeotIFAgIKGbYj+P164uCH6xjBcQWIcgsCD4dQjZi6kuILAg+MUaWEBgHYLAguDXIWQvprqAwILgF2tgAYF1CAILgl+HkL2Y6gICC4JfrIEFBNYhCCwIfh1C9mKqCwgsCH6xBhYQWIcgsJ7tNqbrHigncjkEphxEvQ7BYFWnmkOXc8uV4sh3l7rYcb2qg1p0PhMIOAGpHFjutA+n9OVEzVkXR8I46NnG7bNP+8/+urV84k2vHYBzWyk3XpfiYsy5ncpi4G0QwNNzZW0pTu9aGZAttse2sVR8N8dpzY7v2m61zz77pH3H7zmD3ZkZKbZheegEHiciTnZb4+yGfS5rGYohevnX47WAxeVrjr7K/ZyOu3Q+SkG0Y/By64nT2XPb0gqVhYSvuayjqRxfC/SzO7HIRTSO3M2Rew7DcWa7U3cGb9EwANK+8zSelRER58peYr06WN6lXbOYoHPNnKHmONM07gBF22lzFWJdUD4Lbuh5+9Ma1eLEm+GQxOzLXUX2PGLJ04J4acfZplaYc+/yJPelKa5YcYRGfU42UndPqEU59TEsGgQBV+WUba0u0pg6YyXV3ZhSzim3bb4IcP6yxh0yhx56KG2/zynpk+FuQfDD4Zb77XzyXzqr0IZnF8hNBuJRb1HUHatc/nUGrgvDnIiW1eBMhfpCjlye7Yj76Y5h0ZoTyuhx9rQ73zJHULojaLpgyc1/5f4CB6I7GIs4wdmD68bNyO7VaTyZ4ngWBD8EmDRt994eccQR+Y/K7a4rRxdNl/e7dcsm6sHuXbabw7DquyuMwZPJbgie4nI5lzUFoVtttRX72SVZmRpKc+8Nx8oUZ8pH47KtwQZ1uu2220Jr42pzWoZzzac4gLqphdNuiH/E4dMEu6Om85/T6ZxMON3Ti5x56v6shqs23blKQcDGxXUubCuDMwb6f+MSjiFDXzwaBwIowTWH7oErF9cxrd1Izd4ep5mOurA2FNE6heIdd9yR1yYXoqaoLCI7xQGMamqReLMEGeq0GylqMOHB7pOYwgW9/9+oVWW1NXopPbpU07UK/PO5ZTlFZWyofR1oc9be5j4L0TD6VFv1Oi6KgVbaXD0SmlfjnNJljpPRPgrRfAdOQNR+7jIviObfYdC197v8ENKC4IdDWI4Eae92alr98ccfv0z05/UsspJjM9gmxwFFw4osf/H91D+HDoPTAW/i+edxmMo4J2jEnWo8EZtssskqjmGCYXuFp9bVNDRquN51111pYZO103iLjdCOaPUdiVfeSuX6Et7BYXA9wDJc8zhMPMj5IPixtB03QNS8cwLQuOeMELAUGPa+48dnpygtu0SH5MgZ2pJLVNw27y7q+l93VLVn3Xnl4IMP9opZswsS8l35wgC2HIH9pJNOWk7vQlmuAOjfAr7cQled7VCmxMn3228/Sj6nuhMppTl2vtWnAlyPQrTX3Zsk780aK02p7GzM4tIb7MJQ4Rd8/HXQQQcBeJ9hDKkT437NZtpRVplY7nhouVTIvdEuSy+3xNOBN9xww1GXxnf6RSRLiI1rMPe6u2mE4B287rqzncEKcMYmJ0/yF6xvttlmsm7imXcpFcXSLdflRZ1aAVbhqL5WwNvcc5rUUXe8coYtJ6YgKQWoXRw4qtOTTz7ZDdzlPnbVGMPuFD3zzDN7jrNRjeccSch98tyFQpTt3AO7/LLLLruUS2+xJIM0VGfaa9mV2/wFRx55ZN2LG1OHXp5b6iwnhDQ3XnryytViqL04VAcxgSYTUAXH8q+EFhzUTW8TYG7PPffUGndd3uVcabmFftz2MS98PW9RW6LCubsC5YsP1TE5FYTlEPyo1bwy3uZxJzhxfdRODXZrYEsLQhjA5UrPUodN6wow5nefu0AbLbM+gNed4oXJTtBIC2+yLAv7KwkXFjO22LipxjoXJmy5FXOZIaS5Ifi9994bSbQnIZ1wwgkWAcbfAD1qTybjWEsQeefS6FNOOWWsF3tWppK5tQYCUp8SIa2yZlWlHSMRF6RhjmqZxUHiNRSf008/vXErVs+BrW41tCck4SaP9mFsuumm0YfragDF/CYYkM1Ys6DGa81Vn2O91b+yMJvLcFOfkHe3rEssag2uNGUknAgt44dT8Z26a+3Afs+Y8XQI3lKjPDOiSnbBICz8deqpp7akELnlT4CErCPccOt6Arb44JHub2oH8ajECfTgDiDLaKzkmYBGSHzc1dN/HUil5JmT8tHyivXBtnTngS/9Wx6rJjqh0HIB9H8LSA2b9WjtGthgOjB21rilO6+kCwsmiG70SIHacsst8VnGVMtguDOELTk+B1s4+uijYY146D8XNd3xXPT5sV7sWRk3l2TF3m6vL/cWIxu8rbBnL32qLZfghY7MhDq00UYb8SEreHN9BbrVwJOUBDJIyn1d9f17RomipKAIejF1FI1INio5p/7lkPR6O7laYYl2SlwZnLl7vxoa4Cjo4JdsKoUd5RWWZH7OSFrCrsunW1B1xhlndF57zsJnubipmnHIIpAQjrG61VQ6V9EgWrpgJZlp/9RdaQIChzwanFsbbLABZ8TWW2+d9kHPqqVa08nB3BM0LNoszKEm1FsbO+20E6eUHlHs/vvvXw9M3ovnchBbRotxBJuodJDRWG9Wi2XWfu132rdHDWbZ6nFoMRP8tGexD+WMW4cAc7NwuxyWojNU7Nd9uar0mGOOwaDZg+Fr2K7LjqC+812VhxC8FRPvX+eU0CTK3HzzzUOK5FVMaFZK3oVsa8IT24AgAJ8rnk/3bBaRJX+47tF1636WbKdkJg4q6mV46IEWVAfJhT2pG/X4qcoR150uN4QtBq5kEUi6zM9ZpNN3QrhnBWMWRpLOlTkiqi222CLjh83ORsYieKuKF5PnOcoatwLPGbHsO1LE/f2brkPwVADYyROGFZoHUhwhgUkLpk4mz6axhqJexm/97LzzzmEWKSQNta7hWEnGVIOVDAXCXnvtBbMYlvrETBDtcshOiK1ihUMOOcSG9kzfoRWIvwRrMdbOgcXsxazVXNoPH/R0wgvi2Uuc2FxlpZtsOBEezBNBDj+RHxW91MkV60rxOXNd+MkOKXX4qE888cT8xCz8W9/CXarR6Lg0KQ54RDaTs5QSmeSAwQvr+YsMe95H4nnLVrkMko+kE4hrpEJcjAzR3XffHc9FVH7ah9M5vLEIPsE2i6Q0C/I2gZSfcsUDuhB8Srli1XjC6IXrU01IInUoO35iAUPv1abC0BPxLxZsZJJE42TIcH/Wc6TieUj+d048FXj+1Mcie9Zf9WoYekB33HHH4bwiC4wgX/ps9QuZCF2ZxRLBRyZzHrRPjH6iWiMbnFy1kRP5eRcjSCyRSl83BZ2o0XPaQcxjr/hJUyjWi7VSGD910b9CVo3x0I4ixxK8SawiwoFdMDi29NIYzKg5AmUW3xS9tbNeKAHU9ttvT+RG/La4VOrBjEXw1GC9YLIO50kjlCaRp9Igd3SWY03wuXqNhK/7jaUmkpqH/NV+0vwHAYX76xGdQwcuT6ZF40PzQVM904yQItAT4LEEaQo96696tQBKQIdWH3MPunvGj2gE3qVkeWsp8SbUyK0StI0q0bSFFuoKiNbziBpuvDTCvK/r0DmTUoJREcK+MD98sgx5LBi01AELqOxOTcJWyXYuTWEr+G13crkAAAomSURBVEusFw8xCFpiqDrvpvFS0kLP9K8cP8TVR/lph8Ma+RfVMakMhs4Wlu87ljp0eHguG6cuQUf9JPJ2sNDehY5JaXKVNkFQY+sxqlNQ5uBbQ69VpSGqaeSpPwrRZ511VnyWoi3QYZp4fYJbNpb7tHYZjA1EowEvdmJHNSqDarEm5qLwbRsn3meCbBzfoZvTpM/gQ5J08LMxlRdCGJ3AikpWG1SN/nib8iQ2Ul1ogPkZWFPLY0fg05gFJoJ6S32agu8NwrM6s5slCrxpyGQg4jKe6Dz8bXWnaaFzXnklBD9Hi4DGG1wCAjpsALzxk/qGx5ci5qfCYYcdVj9EjUNz9ZAuhpLlZSc5SUs2TnYgT4MLDEW0XqQn4QW8A8SJn8KrPjNHkZ1MrcZ1WSp9cC3RPfl5c4TrklrHnh/3gurAJCS5RPDhu4RAy6KxtvJmS+JqGUq2dtYl7qWzu/w/aYDfSCzhcswy4oLCubMDXKG6+GzsJYAnTgQiPcIcfdILykLnKPIwin0paSGir71YAWLv87UIonApqLFrfuehFrHIShHv9Ar7qH6IKQyV1WrusMMOOHIyMsGKI5bKtvzzoYYiWhcymn2W5FMETyaF+INoK7YWKmWp9MF1ODvvQOyLtV8IM7LNOKUbOBZl3AGHrkPjSzZ8jlJjybfbKuGplN7BMPVpp50mjhrFQymZaqXBww8/PH/FryYkm7+wD9PIX/LG490JahtHAiRpnB8uL8Y7mDODtMlWbOwx9jwt77vvvp02mJSVjIGS0ll5jVSACAMuKZxjjWosG56JnvQnejUzvlgNJRE1Od5KbcMnRaJhw7MOPOR0yGglAvgZf1Ip1gDHsOeJtmLrMGtHQyrEobvHHnvUr4Qe2Pl9MhfiTZSaPhbEVrGyqGfAO9nhCGDlXbnDprAk4TfeeGOPOm3drDA6uRTIjCAF1SEt4pdBntBLvKaNOn7KhKFD+rLbbrvZLuqLrk0jWc1WYQ70G7rPJJ6hEpAgcLhe0pr4AmlDQDVU+mxgGPQFNMbmZ7g+oRHH/tov3LMxjuJwnmmxuzsagTioWCBmHdnIplhmv0MRTZfMbqXg2jphPsSAt9IIJ72H3ZcSRENfH3V37my3qHJin9S0CQBuqYTQfC4RPAMbJ07eQkuL5dR6VjcZbssEIhf0oo1bB1rkbo2B7a9E/0oJlxLqLyjhac+/nsTf7kt0vCjtUhHrFrKdEEdA+VQMqzD6vJYtAqIjIqUUc4n1UXyBLVPLIoj8mYuSRYAkHJK1AgOWklDEuAyc7bbbTqdF1BcnXO33zcb+CMYywlQgtPOE74Ywx6xrbysXcvTPMJSk2VM/WZRCsDnJv+HfifOoD6IlEST+OncGPERPdjoDLmm+S2kmRVGJFt2IYw+qMTKiBpcX91uJugsVpGmeeXm1aYFS7QkmXTQu1iAWU9ItoDAVUj/eQSytHgA7LetAEkJOC6EaMF+ZndbBYAJWbHLxgj7KWHyK0oFaKrNZMKnseVKoo41UHw+ZW8ZWUgZ5mPCjzsyfPiNs1JHFZMDtW6xamh1LpZfmrC9HAyStlfjF3KGP8zxd8ORlVZSdLchS/Tws1XQaD6u9Iog873LfelICfnkoIuuhWABGw1nAe4cjM15wh6GpJmH9jWzOodMX7csARiXAGTmhcuyxx5boLIcZi7XRWs9qE2C28Ur0OKVx9GXPlk2T0o01h/SWGLBvkbFvectbOhsSKSHJMwj4I1frHBuv+ymfCTcisWndMmosDvp2bfmLryJFFYgLoltltlkdAI8buQFoEhunL3wOT9lmm21G7YQ98MADtVByPFrmhSCjPbbk0gK3QBEFRCa8pnw3DFyybtZCIfpMCliS8whWmn3961/fCdVxKyS5beLtnHGPQ3qffhEJW8ykFEoQixoQQnhoGLuvT25g1qlffLR6QaU4Puae6G8Kf40gbmEWxarPeCwVIdjaFrNk6ZVDd1JZbwaGhuv87lHzymUvJRFgsNoBBxxgg5M6JS3FMHj4GjV7VusD3vY6CX8C12T7O2I4F/D+l+BtcvCHFMWeQwR667slT9iKlw6BGjH4QRGXzCoSQ7/K4I4IjM36KK6aelSEOf8tnLUkHugdkugRDWY0dHZRHaVwdc49OzSZLXIHs2F+8BUhpcI6TRyHOuqoozpbXssVwBDMiQhBe3oTlbiPb6z/jGCZ0j7UXUrCAyZNqgWP4arypvr0mDC+/TYtla1G7oCy8Z4rOly+UXpW6zOq2dXBmGrg/JfgdYk3c4dMF5fLmYmEHNJShGawEeNs91giSPyCadBnANFuytEULa9EuRWIbuF01HhWRpEhAlpj7djrM+BzWR2sU2LPUPNELnZ7GEIAmNo1VDAMQklHlBG6QOch8PFsR+OjiVDohsK8Z7VVxBf9C3zKNupzEHxc65O5/mc0JbacmE3jFi5OCFpli2FsgwGtrJiOQ8fGAicZoiaJPgAKn1DnLBIpqA+THvqK+DYR4S9+0BbtsbO7daeCJD9Wnj3kDUmOkluMMhoH3KHGFvlPC+Mqzi7deI77hGmjWcRi4rcaJTl6VlstPNLBiUwb8soAzkHwZDsduL4pYbUGWvcrixj7r8mb56xh8tX1CWEO2MbG7MZE0HkyDSnzPD39jeFojw3TfRBK2SwkVMExUTyXawGYa3kMUMz52qBG3sFBh1mZBfdw5z7iWFg0eVLOni4N9tkrkex9u3qZri0R+57VVgvsUqHJy9pePgfBG5ZtTzThsc5FWIHJNM51kQUwajelwVC2+5wEEi+3wKbcrME0oaGTwi/5DkghaiEg4inFS9SIEdhvp3HNilauAHzOTV3Ufhnf5Xe0zK7lpMPyFtnOvUpmEGbcOn32zOddaprtd04ikdtXWrO0Gp6jodXWAkbkkvHPN2i5SfAGys0GLkO3K66FaUxrDIQ88U5ZaNcFdKcmwS7SJs7EX8UDh5jpmUJBQtMqOIXCkqrPWiNDqFJYJ3t+WgNetDMxBGDBqhZn6SMJSi9J66ivFWX5y+ziMJfl3VJt4nFO8cXsK5U33WhzCMGrwVNClA1Gtqc4oDlqCvXyIVMEckIem1A4kEWAX2QW2TXMUVfrityKg9t752jWi6GiApKv9uzAbxJ+6pMaBqutOuiIKHro0BuQhxO8ETvzwJkKqz70NTIA6Vl1jJf609CAJCxJGisBDmqkTbtrJ96xRsA4X8Ng9DWOlzV+ppw08DrDZ2i11Z2pTPNROUgjCd6Ie26vX925rYXeWZIsvZJdI6+b47PTUlgLI1+MYRQEZP7Vzu1STUyeS7gov6OqrS5gW2IW6xnZ2XlPi7IMCPCOiCoR6RIZZBYK3dnYV/b/L6PhxasrDQEEbMM5fk07k+I2uBXHDk7aMtdPe7WVHnfv/ubjqqne01mdioict5/fTkwYAxVEWFD76mBi2b3afCmRVo4dy3zoxjsxf2m8ndWWPZBZNfC/aPAp40rHg2sAAAAASUVORK5CYII=\"></div>"
      ],
      "text/plain": [
       "FormBox[TagBox[RowBox[{\"(\", \"⁠\", \n",
       "\n",
       " \n",
       ">         TagBox[GridBox[{{RowBox[{RowBox[{OverscriptBox[\"r\", \"^\"], \" \", \n",
       "\n",
       " \n",
       ">                 RowBox[{\"sin\", \"(\", \"ϕ\", \")\"}], \" \", \n",
       "\n",
       " \n",
       ">                 TemplateBox[List[SubscriptBox[OverscriptBox[\"f\", \"^\"], \n",
       "\n",
       " \n",
       ">                    RowBox[List[\"x\", \",\", \"y\"]]], \"\\\"(5)\\\"\"], \"Superscript\", \n",
       "\n",
       " \n",
       ">                  Rule[SyntaxForm, SuperscriptBox]]}], \"+\", \n",
       "\n",
       " \n",
       ">               RowBox[{OverscriptBox[\"r\", \"^\"], \" \", RowBox[{\"cos\", \"(\", \"ϕ\", \")\"}], \n",
       "\n",
       " \n",
       ">                 \" \", TemplateBox[List[SubscriptBox[OverscriptBox[\"f\", \"^\"], \n",
       "\n",
       " \n",
       ">                    RowBox[List[\"x\", \",\", \"x\"]]], \"\\\"(5)\\\"\"], \"Superscript\", \n",
       "\n",
       " \n",
       ">                  Rule[SyntaxForm, SuperscriptBox]]}]}]}, \n",
       "\n",
       " \n",
       ">            {RowBox[{RowBox[{OverscriptBox[\"r\", \"^\"], \" \", \n",
       "\n",
       " \n",
       ">                 RowBox[{\"cos\", \"(\", \"ϕ\", \")\"}], \" \", \n",
       "\n",
       " \n",
       ">                 TemplateBox[List[SubscriptBox[OverscriptBox[\"f\", \"^\"], \n",
       "\n",
       " \n",
       ">                    RowBox[List[\"x\", \",\", \"y\"]]], \"\\\"(5)\\\"\"], \"Superscript\", \n",
       "\n",
       " \n",
       ">                  Rule[SyntaxForm, SuperscriptBox]]}], \"+\", \n",
       "\n",
       " \n",
       ">               RowBox[{OverscriptBox[\"r\", \"^\"], \" \", RowBox[{\"sin\", \"(\", \"ϕ\", \")\"}], \n",
       "\n",
       " \n",
       ">                 \" \", TemplateBox[List[SubscriptBox[OverscriptBox[\"f\", \"^\"], \n",
       "\n",
       " \n",
       ">                    RowBox[List[\"y\", \",\", \"y\"]]], \"\\\"(5)\\\"\"], \"Superscript\", \n",
       "\n",
       " \n",
       ">                  Rule[SyntaxForm, SuperscriptBox]]}]}]}}, Rule[RowSpacings, 1], \n",
       "\n",
       " \n",
       ">           Rule[ColumnAlignments, Center], Rule[ColumnAlignments, Left]], Column], \"⁠\",\\\n",
       " \n",
       ">    \n",
       "      \")\"}], Function[BoxForm`e$, MatrixForm[BoxForm`e$]]], TraditionalForm]\n"
      ]
     },
     "execution_count": 37,
     "metadata": {
      "text/html": [],
      "text/plain": []
     },
     "output_type": "execute_result"
    }
   ],
   "source": [
    "fh5rh = EinsteinSummation[{{k, i}, {i}}, {fh5, rh}];\n",
    "fh5rh // MatrixForm // TraditionalForm"
   ]
  },
  {
   "cell_type": "markdown",
   "metadata": {},
   "source": [
    "Система движения в безразмерной записи будет выглядеть как"
   ]
  },
  {
   "cell_type": "markdown",
   "metadata": {},
   "source": [
    "$$\n",
    "\\frac{d^2\\hat{r}_k}{d\\hat{t}^2} = -\\frac{t_0^2}{b^3}\\frac{GM}{\\hat{r}^3}\\hat{r}_k - \\frac{2}{5}\\frac{b^2}{t_0^3}\\frac{G}{c^5}\\mu\\hat{f}_{ki}^{(5)}\\hat{r}_i\n",
    "$$"
   ]
  },
  {
   "cell_type": "markdown",
   "metadata": {},
   "source": [
    "Пусть $t_0 = \\sqrt{\\frac{b^3}{GM}}$, а $b$ - прицельное расстояние, тогда система движения перепишется как\n",
    "\n",
    "$$\n",
    "\\frac{d^2\\hat{r}_k}{d\\hat{t}^2} + \\frac{\\hat{r}_k}{\\hat{r}^3} = - \\epsilon_G\\hat{f}_{ki}^{(5)}\\hat{r}_i\\quad,\n",
    "$$\n",
    "или\n",
    "$$\n",
    "\\hat{r}_k^{(2)} + \\frac{\\hat{r}_k}{\\hat{r}^3} = - \\epsilon_G\\hat{f}_{ki}^{(5)}\\hat{r}_i\\quad,\n",
    "$$\n",
    "\n",
    "где безразмерная постоянная\n",
    "$\\epsilon_G =\n",
    "  \\frac{2}{5}\\frac{b^2}{t_0^3}\\frac{G}{c^5}\\mu\n",
    "  = \\frac{2}{5}\\frac{\\mu}{M} \\left( \\frac{GM}{bc^2} \\right)^{\\frac{5}{2}}\n",
    "  = \\frac{2}{5}\\frac{\\mu}{M} \\left( \\frac{r_s}{2b} \\right)^{\\frac{5}{2}}$.\n",
    "\n",
    "Здесь $r_s = \\frac{2 G M}{c^2}$ - сумма радиусов Шварцшильда двух тел.\n",
    "Заметим, что $f_{ij}^{(5)} = \\frac{5}{2}\\frac{\\epsilon_G}{t_0^2}\\hat{f}_{ij}^{(5)}$\n",
    "\n",
    "Можно еще записать, что\n",
    "$\\epsilon_G\n",
    "  = \\frac{2}{5}\\frac{q}{(1 + q)^2} \\left( \\frac{r_s}{2b} \\right)^{\\frac{5}{2}}$,\n",
    "где $q = \\frac{m_1}{m_2}$ - отношение меньшей массы тела к большей, $m_1 < m_2$.\n",
    "Откуда можно видеть, что $\\epsilon_G \\ll 1$, когда $q \\ll 1$ или/и $r_s \\ll b$.\n",
    "\n",
    "<span style=\"color:brown\">**NB:**</span> Но обязательно ли условие $\\epsilon_G \\ll 1$? Обсудим ниже."
   ]
  },
  {
   "cell_type": "markdown",
   "metadata": {},
   "source": [
    "## Переход к полярным координатам от декартовых\n",
    "Повернём систему с помощью матрицы вращения $R_{ij}(\\phi)$ на угол $\\phi$ по **часовой** стрелке"
   ]
  },
  {
   "cell_type": "code",
   "execution_count": 38,
   "metadata": {
    "vscode": {
     "languageId": "wolfram"
    }
   },
   "outputs": [
    {
     "data": {
      "text/html": [
       "<div><img alt=\"Output\" src=\"data:image/png;base64,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\"></div>"
      ],
      "text/plain": [
       "FormBox[TagBox[RowBox[{\"(\", \"⁠\", \n",
       "\n",
       " \n",
       ">         GridBox[{{RowBox[{\"cos\", \"(\", \"ϕ\", \")\"}], RowBox[{\"sin\", \"(\", \"ϕ\", \")\"}]}, \n",
       "\n",
       " \n",
       ">           {RowBox[{\"-\", RowBox[{\"sin\", \"(\", \"ϕ\", \")\"}]}], \n",
       "\n",
       " \n",
       ">            RowBox[{\"cos\", \"(\", \"ϕ\", \")\"}]}}, Rule[RowSpacings, 1], \n",
       "\n",
       " \n",
       ">          Rule[ColumnSpacings, 1], Rule[RowAlignments, Baseline], \n",
       "\n",
       " \n",
       ">          Rule[ColumnAlignments, Center]], \"⁠\", \")\"}], \n",
       "\n",
       " \n",
       ">       Function[BoxForm`e$, MatrixForm[BoxForm`e$]]], TraditionalForm]\n"
      ]
     },
     "execution_count": 38,
     "metadata": {
      "text/html": [],
      "text/plain": []
     },
     "output_type": "execute_result"
    }
   ],
   "source": [
    "RotationMatrix[-\\[Phi]] // MatrixForm // TraditionalForm"
   ]
  },
  {
   "cell_type": "markdown",
   "metadata": {},
   "source": [
    "#### LHS системы после поворота"
   ]
  },
  {
   "cell_type": "code",
   "execution_count": 40,
   "metadata": {
    "vscode": {
     "languageId": "wolfram"
    }
   },
   "outputs": [
    {
     "data": {
      "text/html": [
       "<div><img alt=\"Output\" src=\"data:image/png;base64,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\"></div>"
      ],
      "text/plain": [
       "FormBox[TagBox[RowBox[{\"(\", \"⁠\", \n",
       "      TagBox[GridBox[{{RowBox[{RowBox[{\"-\", \n",
       "\n",
       " \n",
       ">                 RowBox[{\"2\", \" \", SuperscriptBox[OverscriptBox[\"r\", \"^\"], \"′\"], \n",
       "\n",
       " \n",
       ">                   \" \", SuperscriptBox[\"ϕ\", \"′\"], \" \", \n",
       "\n",
       " \n",
       ">                   RowBox[{\"sin\", \"(\", \"ϕ\", \")\"}]}]}], \"+\", \n",
       "\n",
       " \n",
       ">               RowBox[{OverscriptBox[\"r\", \"^\"], \" \", \n",
       "\n",
       " \n",
       ">                 RowBox[{\"(\", RowBox[{RowBox[{SuperscriptBox[RowBox[\n",
       "\n",
       " \n",
       ">                         {\"(\", SuperscriptBox[\"ϕ\", \"′\"], \")\"}], \"2\"], \" \", \n",
       "\n",
       " \n",
       ">                       RowBox[{\"(\", \n",
       "\n",
       " \n",
       ">                         RowBox[{\"-\", RowBox[{\"cos\", \"(\", \"ϕ\", \")\"}]}], \")\"}]}], \n",
       "\n",
       " \n",
       ">                     \"-\", RowBox[{SuperscriptBox[\"ϕ\", \"′′\"], \" \", \n",
       "\n",
       " \n",
       ">                       RowBox[{\"sin\", \"(\", \"ϕ\", \")\"}]}]}], \")\"}]}], \"+\", \n",
       "\n",
       " \n",
       ">               RowBox[{SuperscriptBox[OverscriptBox[\"r\", \"^\"], \"′′\"], \" \", \n",
       "\n",
       " \n",
       ">                 RowBox[{\"cos\", \"(\", \"ϕ\", \")\"}]}], \"+\", \n",
       "\n",
       " \n",
       ">               FractionBox[RowBox[{\"cos\", \"(\", \"ϕ\", \")\"}], \n",
       "\n",
       " \n",
       ">                SuperscriptBox[OverscriptBox[\"r\", \"^\"], \"2\"]]}]}, \n",
       "\n",
       " \n",
       ">            {RowBox[{RowBox[{\"2\", \" \", SuperscriptBox[OverscriptBox[\"r\", \"^\"], \"′\"], \n",
       "\n",
       " \n",
       ">                 \" \", SuperscriptBox[\"ϕ\", \"′\"], \" \", RowBox[{\"cos\", \"(\", \"ϕ\",\\\n",
       " \n",
       ">    \")\"}]}]\\\n",
       ", \"+\", RowBox[{OverscriptBox[\"r\", \"^\"], \" \", \n",
       "\n",
       " \n",
       ">                 RowBox[{\"(\", RowBox[{RowBox[{SuperscriptBox[\"ϕ\", \"′′\"], \" \", \n",
       "\n",
       " \n",
       ">                       RowBox[{\"cos\", \"(\", \"ϕ\", \")\"}]}], \"-\", \n",
       "\n",
       " \n",
       ">                     RowBox[{SuperscriptBox[RowBox[{\"(\", \n",
       "\n",
       " \n",
       ">                          SuperscriptBox[\"ϕ\", \"′\"], \")\"}], \"2\"], \" \", \n",
       "\n",
       " \n",
       ">                       RowBox[{\"sin\", \"(\", \"ϕ\", \")\"}]}]}], \")\"}]}], \"+\", \n",
       "\n",
       " \n",
       ">               RowBox[{SuperscriptBox[OverscriptBox[\"r\", \"^\"], \"′′\"], \" \", \n",
       "\n",
       " \n",
       ">                 RowBox[{\"sin\", \"(\", \"ϕ\", \")\"}]}], \"+\", \n",
       "\n",
       " \n",
       ">               FractionBox[RowBox[{\"sin\", \"(\", \"ϕ\", \")\"}], \n",
       "\n",
       " \n",
       ">                SuperscriptBox[OverscriptBox[\"r\", \"^\"], \"2\"]]}]}}, \n",
       "\n",
       " \n",
       ">           Rule[RowSpacings, 1], Rule[ColumnAlignments, Center], \n",
       "\n",
       " \n",
       ">           Rule[ColumnAlignments, Left]], Column], \"⁠\", \")\"}], \n",
       "\n",
       " \n",
       ">       Function[BoxForm`e$, MatrixForm[BoxForm`e$]]], TraditionalForm]\n"
      ]
     },
     "execution_count": 40,
     "metadata": {
      "text/html": [],
      "text/plain": []
     },
     "output_type": "execute_result"
    }
   ],
   "source": [
    "LHSMotion = D[rh, {OverHat[t], 2}] + Simplify[rh / Norm[rh]^3];\n",
    "LHSMotion // MatrixForm // TraditionalForm"
   ]
  },
  {
   "cell_type": "code",
   "execution_count": 41,
   "metadata": {
    "vscode": {
     "languageId": "wolfram"
    }
   },
   "outputs": [
    {
     "data": {
      "text/html": [
       "<div><img alt=\"Output\" src=\"data:image/png;base64,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\"></div>"
      ],
      "text/plain": [
       "FormBox[TagBox[RowBox[{\"(\", \"⁠\", \n",
       "      TagBox[GridBox[{{RowBox[{RowBox[{\"-\", \n",
       "\n",
       " \n",
       ">                 RowBox[{RowBox[{OverscriptBox[\"r\", \"^\"]}], \" \", \n",
       "\n",
       " \n",
       ">                   SuperscriptBox[RowBox[{\"(\", SuperscriptBox[\"ϕ\", \"′\"], \")\"}], \n",
       "\n",
       " \n",
       ">                    \"2\"]}]}], \"+\", SuperscriptBox[OverscriptBox[\"r\", \"^\"], \"′′\"], \n",
       "\n",
       " \n",
       ">               \"+\", FractionBox[\"1\", SuperscriptBox[OverscriptBox[\"r\", \"^\"],\\\n",
       " \n",
       ">    \"2\"]]}]}\\\n",
       ", {RowBox[{RowBox[{OverscriptBox[\"r\", \"^\"], \" \", SuperscriptBox[\"ϕ\",\\\n",
       " \n",
       ">    \"′′\"]}], \"+\", \n",
       "            RowBox[{\"2\", \" \", SuperscriptBox[OverscriptBox[\"r\",\\\n",
       " \n",
       ">    \"^\"], \"′\"], \" \", \n",
       "              SuperscriptBox[\"ϕ\", \"′\"]}]}]}}, Rule[RowSpacings,\\\n",
       " \n",
       ">    1], \n",
       "        Rule[ColumnAlignments, Center], Rule[ColumnAlignments, Left]],\\\n",
       " \n",
       ">    Column], \"⁠\", \n",
       "      \")\"}], Function[BoxForm`e$, MatrixForm[BoxForm`e$]]],\\\n",
       " \n",
       ">    TraditionalForm]\n"
      ]
     },
     "execution_count": 41,
     "metadata": {
      "text/html": [],
      "text/plain": []
     },
     "output_type": "execute_result"
    }
   ],
   "source": [
    "RotatedLHSMotion = Simplify[RotationMatrix[-\\[Phi][OverHat[t]]] . LHSMotion, Trig -> True] // MatrixForm // TraditionalForm"
   ]
  },
  {
   "cell_type": "markdown",
   "metadata": {},
   "source": [
    "Так как $\\hat{\\omega} \\equiv \\phi^{(1)}$, то"
   ]
  },
  {
   "cell_type": "code",
   "execution_count": 43,
   "metadata": {
    "vscode": {
     "languageId": "wolfram"
    }
   },
   "outputs": [
    {
     "data": {
      "text/html": [
       "<div><img alt=\"Output\" src=\"data:image/png;base64,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\"></div>"
      ],
      "text/plain": [
       "FormBox[TagBox[RowBox[{\"(\", \"⁠\", \n",
       "\n",
       " \n",
       ">         TagBox[GridBox[{{RowBox[{RowBox[{RowBox[{\"-\", OverscriptBox[\"r\", \"^\"]}], \n",
       "\n",
       " \n",
       ">                 \" \", SuperscriptBox[OverscriptBox[\"ω\", \"^\"], \"2\"]}], \"+\", \n",
       "\n",
       " \n",
       ">               SuperscriptBox[OverscriptBox[\"r\", \"^\"], \"′′\"], \"+\", \n",
       "\n",
       " \n",
       ">               FractionBox[\"1\", SuperscriptBox[OverscriptBox[\"r\", \"^\"], \"2\"]]}]}, \n",
       "\n",
       " \n",
       ">            {RowBox[{RowBox[{\"2\", \" \", OverscriptBox[\"ω\", \"^\"], \" \", \n",
       "\n",
       " \n",
       ">                 SuperscriptBox[OverscriptBox[\"r\", \"^\"], \"′\"]}], \"+\", \n",
       "\n",
       " \n",
       ">               RowBox[{OverscriptBox[\"r\", \"^\"], \" \", \n",
       "\n",
       " \n",
       ">                 SuperscriptBox[OverscriptBox[\"ω\", \"^\"], \"′\"]}]}]}}, \n",
       "\n",
       " \n",
       ">           Rule[RowSpacings, 1], Rule[ColumnAlignments, Center], \n",
       "\n",
       " \n",
       ">           Rule[ColumnAlignments, Left]], Column], \"⁠\", \")\"}], \n",
       "\n",
       " \n",
       ">       Function[BoxForm`e$, MatrixForm[BoxForm`e$]]], TraditionalForm]\n"
      ]
     },
     "execution_count": 43,
     "metadata": {
      "text/html": [],
      "text/plain": []
     },
     "output_type": "execute_result"
    }
   ],
   "source": [
    "OmegaReplace = Derivative[n_][\\[Phi]][OverHat[t]] :> Derivative[n-1][OverHat[\\[Omega]]][OverHat[t]];\n",
    "\n",
    "OmegaLHSMotion = RotatedLHSMotion /. OmegaReplace // TraditionalForm"
   ]
  },
  {
   "cell_type": "markdown",
   "metadata": {},
   "source": [
    "### RHS системы после поворота"
   ]
  },
  {
   "cell_type": "code",
   "execution_count": 45,
   "metadata": {
    "vscode": {
     "languageId": "wolfram"
    }
   },
   "outputs": [
    {
     "data": {
      "text/html": [
       "<div><img alt=\"Output\" src=\"data:image/png;base64,iVBORw0KGgoAAAANSUhEUgAAAjkAAABeCAIAAABO55LxAAAAzXpUWHRSYXcgcHJvZmlsZSB0eXBlIGV4aWYAAHjabY/rDcMgDIT/M0VH8APOMA5pqNQNOn7tQFVR9aT4jg/bEWm8no90CwlTysUqGkCu3HKT7qHS1HSmdtVL2kgW3XgqYwbujsr3Ah9+7NwwXerPorWfNP7gWfMaWItUJuc+z8fql17rvkhpU/sE/n/OaoICtuw1C5mhea7JoxuKUDE8cAe8kXEK5bv7gJmPwaJDewyGZNjePRLUwRlP0PiKdnf1ylolyMpexcmxbq+HpDdiE1rLmHG88gAAAAlwSFlzAAAWJQAAFiUBSVIk8AAAADx0RVh0U29mdHdhcmUAQ3JlYXRlZCB3aXRoIHRoZSBXb2xmcmFtIExhbmd1YWdlIDogd3d3LndvbGZyYW0uY29tXKKmhQAAACF0RVh0Q3JlYXRpb24gVGltZQAyMDI1OjAzOjE4IDIzOjE4OjI4xyHyZgAAIABJREFUeF7t3XX8bUW1AHDBBFFUsLtFxW5RUbEbUVEMFFvADkwEDAS7OzBARSwsBONZ2N3d3Z3v+3nrvmHcMXufc/Y+v3Pu3fPHvb+z9+yJNWtm9Zqt/vOf/5xsKoNC4F//+tcLXvCCf//739HqRz/60Wc84xlnOctZBu1kamyCwMZAYELvjYH7Uno98cQTP/7xj0dXf/nLX/7+978/+tGPXkrP3Z1stXnQqk984hM/+clPbn7zm3fPePwab3zjG29zm9ukfq53veu95z3vGb/bqYcJAsuAwITey4DyRvSBFlzqUpf64he/mDr/8Ic/fLWrXa0+lne+851nOtOZrnzlKy9zmFsvs7OR+vr1r399u9vd7vznP/9I7fdp9t3vfveBBx4YNQ877LBnPetZ//P/5ZWvfGU8v/vd7/6Vr3ylT2tTnQkCKwWBTvT+7ne/e4973OPPf/7zSg17GkwnBH784x87PMnKar7rXe865SlPmQ6uj33sY0Go6gfXBS5wgT333POXv/xlZ/tDVkBL28o///nPwtsVeUXVdqMb3WivvfYqjOdvf/ubXaTmSGPGZZzjHOcg2Gn/Ax/4wOlOd7oPfehDeqx0Z+1pAr/xjW+MNIyp2S0TAiuC3o94xCOoENbi0FgXPHFkOUYo4kYa8K9+9Sss/utf//po/9rXvva9733v73znO30Orrvd7W7Xv/71Eblhx1bAn5O19YS63uc+9xl2HGO09qQnPQkv8K1vfaut8e9///s77LAD8m4vjTGAb37zmzvuuOP73ve+aPxmN7tZsBKnOc1pDjjggD/+8Y95p09/+tMveclLVh6OMaqpzS0EAquD3k6Za17zmg996EO3EMgvYZqA6SRxvPzwhz8cvDtkBrHZb7/9ouVPfepTSQa63OUuh9suH1zf+973Tn3qUx988MHDDsyZ+fa3v72xzWZadcQRR+yyyy6///3vhx3H4K396U9/OsMZznCve92rreV//OMfV7/61WMNttpqK0Lu4GOg+rjuda+bmn3Oc55DOj7vec8bnV74whf+wx/+kHd6xjOe8fnPf/7gw5i1QSfLq171qnve857777//W97yllk/n+qvAgRWDb2PO+44OP+LX/xiFYAz0xhWcDsce+yxjqw4Rq5xjWsMLrCGEZ0BJQD1hS984SEPeYjTEpMdnVaOqfrB5eg4/elPXznfZgJ7vTIlwU1ucpOnPvWp9VcNtOqoo44617nORTxcsNclfP6iF70ITCssQN7vwx/+cBX8+5nPfObc5z73mc985h/96EfDDuwSl7jEAx7wgHqbr33tay2k3hPnEnWg3Z3udKdhxzBraxACC2xsJz/5yQMvod2sjUz1NxwCq4be1OBw6W1ve9uGQ2amAazgdvjBD35AG3S+853v85///AMf+EBQfeQjHznTpDors6+f85znrFf7+c9/fuMb31iP2267Lak9VagfXDzaVHve857X2ddMFag9L3axiz372c+ufFWlVV/96ldPe9rTvvnNb56p9Y2qzGvFirZxHMxIpNSXvexlMTwb6YpXvOK1rnWtATmU3/zmN3ifl7zkJY0QAMytt96aRjh/S7N6oQtdaKMgFv0edNBBN7zhDZlVcSSHHnpokCu7YmNHNfU+EwRWE70prKhxZprIhldete3ggKLW4teAbARwiDinOtWpeLgMCCsKwBvc4AaNDbKT8QBwJvALSxXqB5dqZzvb2TDrA44qmuJ/aL4f+chH8pb/i1bp+0pXupLTfPC+x2jwgx/8IGgWvCq+/vWvf/nLX867pjM8/vjjB6RVWjMGkG2bIIRDzOhqUgUugj7ZWP0qmp1kfwO7/OUvb0iJqI+xWFObg0NgNdEb940NGnyyoza4atvBceFg+etf/5rPmiu5FR8QDrj8RoVQdBEaQsFV5YOLh4VqJ5xwwoADi6Zue9vb8jYk8qaW/8tn/eijjxYIZgLBaK94MVojpNxsGydb0U477ZS/JdVe5zrXSYqvxSdIbtNICvutN0jxeMELXvAUpzhFehWV+YMs3vt8LRgANo32OX1+05ve1N8CJuZrcGW/KqzLyo65/8BWE71Z7HNs7z+dQWo612ZtZwW3AwA6puJsSYX4YsVnnV2hPsGlfHD5li6ufHDF8RtHcbnwZhRc3H+BaD6//e1vv/CFL0zN/het4lNHpluRiNquuZ8stKXJdaKzvpDsu971ruc5z3kIjn2A29mgCgxg/iWjNFbGGb3jHe+owFPl7bbbLhkw+/QybB1qyRCkUqEM3Gabba561asO29HGtnb/+98fnA855JBhhwFWHErpT65ylatAJ4Gxw7Y/d2srgt604huVouVLX/oSn6aLXOQibNL9wbj624GY9eQnP5nA6uziR/bb3/62/+wKNZ1dbQeXr970pjcxBiGZqYXGgyuO309+8pPlITG/ieohKrC69Ry8/bXzzjs/5SlPOYmgJgnLSmvlLne5y+DS3BgN0uOZudIzakrYk8oUhhGVbRkGcV8xDAp6mBRztMBXuMIVaPmicXpw3BDFYw4BKS122223MWAyX5sOF9qAxzzmMW2fi/j72te+1r9xYWSDR1307z3VDMcW1uk5vs0/yZXmRx55JCyqbLbdd999Qa0yx7kF1Tsrgt4YZ0wYj6cFYT7f55zHYmle8YpXzNeCrzq3gzoVO0q5rwW3A0J1q1vdynlFK7jPPvuY3eMe97i5Z5d/yAcYzxpPnKIOJccjAcBP/uis7BUwth1c22+/PRGwEAQ2t7dquA69973vjUGeZK8Kisd7bRBAjN0IRwCjRXj7dIQXFp979rOf/Xe/+52TF3Cp5kIgXbyInsN9RDtS/4Vyjyc9okWMrVBEhzjC8OIXv3jxfodq4X73ux8pIbeo5S0LswOrV7/61W3d2UI8XOgKUgUYD+9/+tOfDjXC+drBKOBDF3FSgiEWF46F5cA2dhDDIhIbdi8XlykkZhrkHe5wB+0kwzUn1bOe9ay5HXum1lYHvfmsA9FGLb1IR4cvr4RFnObL26GCEvVlGnw78CN3nkiFo69HPepRjN+iYmZCj8LO1VqCVQoMhfBg+P73vz//sHBwhZLm05/+dFtHc3urClrVMu1FlVaRubyw3oMAYuxGXvrSlxqtQ7ZPRxyyVX7sYx8blflE5ia7Pi0U6nCl4+KfPCeRQ4mUMCaNnzz+8Y8ny6+C2BHDcz6KTTbmxtEiVJTa5eOeRz7YMrGmFnBYRA26dcqKBWG7gZ9bI7p4+zb5YvnJ8+hnP/tZGlUgoULr1X+ouKWIm8mRhGCEd37uc5/bv51Uc0XQ27bipCBN8xxTWJFPytuhjhL1YQ+7HSgz0X76+aSbGXZPCZ65853vHLMgWsmowHW5ogeKt4WDK0xWDEuNi7iIt6qcCXYKvW60vEmuwjk6lfqr1DYct/C2AJQAXRiPLeQUCKXqSMMm5nOg6PT5lsvk0pe+NNXtSMOYtVmkiIoSV974oX3CeLn33nuXmzUjsKX8zKuBOZkGEq8OVZ4VOJSiROSUEAtHQtFBAKq0Iy1NkKv+wsQxxxyjPmG00hRCFdnYZhrqiqC3k05aOW7NPXXyM81xOZXL28EYKijROKphtwMKAVW4Po0EAUyqPAaiVsrtlw+u0EySRxsbWdBbNbK8RlDsJlpFA+vRxS9+8ZGAMnizd7zjHQ2Ykq2zZRKPmqwXo56bKFA9eK0yNsF3jTxL4xRwD05GBvPcubxS06vPfvazhYxNhADupDSTVJHEndys4kNCg5SjqU3q33RQkju5WqDxbZQsvqLcZ5p2iNeNf695zWuAvWAGq8/aStF4tGkjG6FUmGDUZ4WtfGilkqjE0Yj9st6yRB4Yugc96EHplQ2S/0zP040J/WlVW2iniduA+IOZwtVXBL1ZNOfQbI+x4riKyMyZCsAmPtK2iu1QWfTydlC5jhJ1tBl2O2j/Mpe5TFIAdh5081VwJjCAlQ2u5YPrYQ97mEFK1jPfAMpfIaUa5wqn2iZaFbnApZ4co7/UJog4HWghCSILBhiFtaBwFKIKbIMK24majC7xc0Ej9qjwicbRDytE9hdewHtVIdzYBqlrrOvhhx8eaZyQCqcqhZuESfnYEGaxB7zzaZMVjXBST0kLiQssaqgRXbCifdpUQewppINTu8aljyrM1xEQHqV2VD1Rr0Hy/DG2nByWoXff+95Xaz3JeXmCSJQdSNhlFopO6Tco/Sm6DQkdfcMb3kD5GSLRRS960Zw8aNnIEzdXHnNYefnX9EQMJ2n022gYDnjmCtW2ZtcXvfMZDbjiAIL9p3ymHwp9FH5LZjnoLRjDBrGDMLhcQ0EYd/WEJzwhjaRzO/RBiQG3g3hNJxW7VOAnvaKfMLYnji25GsOwQUp10divA/91r3sdHpRRP45rEc2RbbzPTqc503g4r22iVVIQemQtR5onraVjIgIvHKDwSSanRfrid64pJu62RtAkPYYRTuEPFj/HSAm4yEQq3yIniAq7SJyeiHrYNlg+o6YdiK54IlE/MkCKZyGIOYqeSxoYSXI9SdL9M5/5TD8j7p2ABRrxSV5yITXuAqho9tJQdUrwj20fBWX1ecUK6JjwKj8UBqRVhQkyI6VLdxKteuITnxgpjBXii9NKyGoiVzmXFlGQdR1d4+BDWZ/Mv4UJEjuYKvPYPsF/5Ob8ExYsrdEBdDr+rCl6V+AzE60qrDg6gb2z1rG+QatwJwAeTyhXkStoj5hF3JJtFbnZ+myHMkoMvh1IKk4qDJBxOjPj4Npjjz0GPGcGbOppT3uacXJeb2yTc+Ytb3nLWAXHNbqVwu/actTm7UT2XnhyEq3CQadHA05DU1iSkIHsQH4sdAXh3bigXjuk406XGPmsAkyI5bDzGqM1jAYzD5dF5vfUfkQwMCXGkwgYcszlTqIifmKayV2YJ4+fvJJSO0xTb33rW/sMm5YsNnOjzwUvACIdL0c5QfyrpvxvEaXIay5vn+jgoZXq06k6M51cnRO89a1vrfdEq7SfLpGjBOf/EkjIyqIa5inpHjEBnjz4wQ/uHDZdEzUpOp2nTat/RePE35cEjGPAHWsctxgCGbM5xjP/RHiQ5z2TnK0XetchM+yKy74auyC38zvi46HMT3HmRHCOQiDoXOKoUECJ8bZDpIRwn2HPQW5UNXegGye2r20AJNoAuGBEQV3UG3aNP/okj4/jLix2m+SqIH1jJPKKGwjJCnW7dGVuuHJsJqsPTtyWZoyxydvyYIbNrTNheYRqOnaH9Z8ZCS2orYy2kvgETHD9jjmdomERREwHmI8BUXHqBZzDLOcTP8lnyZXDBi4k+c1b467qW5qT+jRRO2cuEgWeVgeLFPKHZQo459Y1qgwPiV89wTXTydU5QcZevee0KgVR5qJepD9WknJ411139VOQXOew4wjD7xdq0nvH9anh9x/+uyGwhrNvZbljXpX1bWt/vdB7QVrVueLcr2Mpc1oVWXjIVXnvoeMVOdC5xFGhDSVG3Q4h9PcxyfecxUjVKAyME5Pd1n6cJ4wO1IBh1GRi7+mJHRnpgmBvyltB5+BRn2QKWDmainJxigXSMH2HNpO+MiShxoKltSQEL1HZbNSYXGocfsBob36rSv4tc5efndlcpIxSjc5HTFVb76vzPFQNXB7yIaE3nodfMnrPpOQPpqy8DtCF8IqFwaf7I1JPmj7HJOSfECb0r2eOjwj7j5QcFZiHoxePNfCkn3QQR1hGuMPBJ2rJ9Em0AC9jseqlgktBSyqolXCp8nnnBNHUyifphoX8uT0WP2MLKG3Tr7TGD0UGRdq/ck4yTAZuIxT0WsAu0EHFsRvLEetVAVrPzAvrhd7muOQV12Nh0dOKNyJn/rARJWD1sNsh79GuobfwpPEK+c4BL7NCHMLY5bZOuXd5ZXeDWDgNkqsc8n0GGSRp033TQQzjhohO00JhQHnHKeMhA0k8pzWickVXSXPMKrkjAPRl5IdSFQtWaCqJ2I3kOrISdKZbDYao7CMwErsxR7MxqYIlL5lb5e2ttJ/SpcdlVNSJSVmvTZql/s7QYdxCIytdELs9T5d1iVfzk1eVamwDsdB5GCZOJR42uunPikuVwXROMCJdcrkq9ZjjeULRz33uc9FFZEqUHKuwgu5ORYmlqS57LZIyI14igO9wtEVTcmvRLV5VnH0dfx7a0n3wZ73Qe+wV57cS+JbLVeF1WZGrIp2YfBB9gNyGEsNuh8pIQhZRZnIK7TmdYas5zI0zGSnqjYdeQWk7zAvjccL7MC6m+C+5qlNMoWiip+os4XqnJA1yaOFsXVosx1niee1e+815R5GChsVXURgYWW6Sc0T+yt/RQjk5qbeRqGr1eRODJDCF/MErqTLZ9DMxiXFRUF548cXPgAzUkUSA403wLxRcRJ+4Cq+zkNbVqQs0kdg+pQhz/jqvkTQPg1aRUcIgHCW1EOd1pdRxyW2k6rC95QiWcKny+SITLEOgbfr5vEiTRFuutOUtQyuAphKkQoQiBhFwI1NwAlolN2MArRFilWGvF3ob/Mqu+Hw7YtjtUBlDSMxY/FBXrnKJQ7iuxogx0/RE4lZeSCERzVRif4UyaZO96rKXvay/C25185HiMMAgOW2fh29+W3683DWg0oJUET5sC5aOysmWPlM6u/lmOshXHOtNisayHgqG6xfqFNK0knJwpH5TDoWw1Ye4o6B8KRU9tWoflxYihS5k/ckn5UPr6Hk4WztzUYuUPTIsN/vuu2/+SeAobOvTqQ9nsld1TnBuuSqob5sp1MTDgbDPZaTMTpoi1AZYwlBMJvO3ZcLsV66z8zwWq8/V4GuH3vU9MuyKjydX1VFi7O0QLiG3v/3tBzlYRm0kTh5xgY29CCSII2u+GzhZeVPjVZ3+TESvs3I4NWEVExrln7BthL9jHCv1kmf5rbwN+xN7SWEMwZvg9GMYq19QKYOkp5bWKB+t080RhkNnfAqP23Cxq9SJRQ1/dKeADF3+ID7DksgqJgaW/1snHBqTx2Nt6NB9G5yOximRw1hleOLzMICVpOaRxRn8G20GncMoV1hkguWWC7nznVAUd4RIEmrlChUpAV25WWk5rP1J9mKsQuRigegh6Q8lJggGJZUAWt1YWB/z2qH3yq5458DqKDH2dojFXQuFUBzCbQ4BYYOnimey7YRzucK4tAqs42wlsdXHwU8s8pQnrYg6iDMVbSqEicYJBGg4kxSmF+tdvuqCMk1kaMppz7U9vqoUgg5lK81sSKOG5+9y73MsTJjoFJ4UJCe5GdEn7svUd7xOUB3nY/g6exWpelIJ/oXVKhGGYEkUT8L9zB+h4CoXzh1EKCdpbvanwAk3BHDwb6QKFOlFb8kDG3y4rlbwlTirZk+Hjq5BNbwvTzAs55u0B//3tRlFK0abmksGdgJTPIwBS4xW7xKBZE20TNIcCNSLcsQRR3CvIAnVL9OJ63/wB4iWTiW/CFS3WKg7zAxrSiohB/cE2lDojQCbrCEle5LzJXJDr1rps+KVRY+TNFj+NJ3AirTindOso8So24F/WUQjtNGqnkvWs1rn9MsV4hhso1VhD5bVYoBbA2MVR9IBalnIcUxVoDFKQJfFbIg8eCVpTaxHLjza1RSDQeGoa9tiIOhhVChHSIT9o+BSjM9lynZ8S3BgDP4G0LpPgVeGxCSuNSSK7oX44u+y+X0+uTsC3SqFl0SKpoIZYcPjiOHEjF4ilJuUk7RtFpSKKQXzRgxECijuHJt4IPV9ldcM/1GeOQ5o5zInC8clcwvC1hjWF+dyJaFGoeuZNELlCSIMYdHNE2fEJc5KfnFtUPEcTyL+JnfKiDGnmvUF8gTE6lOjUQgCLyYkkkaTccWXUO4j8PVkH8EzsYR1LpAKQ6G3KOnQqBPyol9iREoY2mckc9cZcMWN4dhjj42lSYk/oEEkDVC4rcY4aRcijF1seM+EXo0oMd524Aofw2tLfdRzyXpWm3v54kO9GG2jHSdcGZWe0TL1keQ6wHHtVdE3HEKQEkePJYkgZ9YO02jUyUb4VORZaCwRwonDbauAXw7dS2dSpdBAkldY9ePSkMY2wyUkzmjaS6WnGWZWVOARnvRLNhXWu3I3jJ9oJ7LqIKZTEuSLLDlociuXEChHngoSCOHuVWZS6h9kFtu+4iilfS6CuXqKyxwRMCV4zWdqkAZvv+XZocqgYO4y4PoJ3vhVYYIUy5GAKgrEE6RsfXPOjrqVcJx77lhcIIq+5Av3YfIM9CRseIVCK9g4TsAhfaaucRgoZdv1HxSJuugTozoseqOp1BvpYhdm0eDexi5DrTjyg5/L79qmLXfiJ4cjUMVRYelwbxGJGIUFtzPusw0lxtsOkWSyHP7Vc8l6VltkoUPTI/S+3kjkDAPkuXOxLptWpTmgBJRa6YgPN+v6vR7imT1PYa2NcBQtpI5/26Acqir5FDqXgZO3mmJaO2/MC+kznMLHLs44uqPCkECSEtWph2Gsp+SJlBMwlTJHmeNiSZwELV+jWwq5ChyEDRUuWENx1RGsOhKgFp9gYWD4QSfagPeOIsCMr06fQgikBUVi4VgBqmnMg6M3smG9grFzfNMxjLRwczc76op3jqqAEoNvh4hWDOVTofRcsp7VOiHQViGE4z5JLOfoYsNoVWWsJGusEE6zcjdaJNItRz9QpKhDymmbf2hs0o29BTCFAZx01QnKSIVQSHze2cIaVXA0kG4bRXu5HtKNoo0zYgUkzQx41i8fbgKoCXn1OLa5R8L3pOwKRaxHIOuJ4Rt7HBy948CNpGUU0T2HMTc01vHDNpQYdjvYd05FConC/QkBvZ5L1rPa3CsSycxmvW60Z3fL8wMsKU3+zzlbPF0EM6fUBrjLSNpRcAL0NjLRMULmXbCH8aALf3/nguMyaH65hFcCKaFcDeqEBEaO6Wpyc3iPh3BSUxuyrCSvhJgYee4Wt7hF2ySZhalJqXZjHde04EYpPFmh4rqcBQuNMUi2xYppHO9lW7JphS9oYxkVvanl6czhNrcdqF4YxoKgWN/P21Bi8e3ATZr3WUSjMnzYbrx1OmPsei5Zz2pzr0scwqE2H7cEfRvPt6KTfh555JFMILwVpEB2NHDhZa2RObQsvqBtDAz5faxUoqJVACsc9vzRmdnW2OjZEEWOyHgZijICQbKvVAwnhNxIG4H/jQ87p7YZVKBdRKsq4T48EnNbTmWajEBzXGW0mrDiB0S47Mx63jl4dKigJ8ADMehWbl2qtDk2euuON4pEaCzBnPI7Z7TFVqijxOLbIRzQqP44KEpLrcGepuXGJWM4qKiaR11Zjjk0EP3N0jNhzqroANOgSULco/mSMVAL1um0G8WH4RCck7TIfMGRH0tSj5bNYWTnM6hgY7kJkQO4HfuQTZvrWsR4ss+zh6NPDmVxM8R/7gyesznDJBz3SDLvTAu5tMo56vtbsFeh63QJ1tKGN2pHg0yHuN92wYrBQ/g+OD8GeuegCwf6YMWm0hPDB9kOLMpOG1wRmYHNsv+Vb/UlIxNj9zHxcqakKYy3spFmpY9bwHwYtXK0ar5pRDq1PLdFREGZXplF1R22heMAkhaJ2vj+UXkRy1LGqsi4QXSLzKRkvnBvda2JnzRgfQ6X+eY1fTVBoBECY6B3zr+zuzgoF7wEdVq7+SAgeSY7Pd/umQ6W+pJZ0Ah1yi+1GW9lDVhf4+XX2ExolbsygUlGhvmQg5o1l1uZNCvXNRH1RMU6ICpe742ZWOcbw/TVBIGRINATvfO4C3IbBddI45maHQMCjUtG1nEq5nGN461s8O40T2PMTpur4luxoCGOYp23TAoAnLU1+e7yJA7kqkhzHoVoz+9DtDLRKi4STCUCJ6cyQWCVIdATvVOWE6Ew/ClS5OwqT20aW0Cgbcnk4eQQlC6ZHHVlGW6couSqJSzKuDmWRp2ABArsSXwcKjcADdKp8CYu13vvvfcgrU2NTBBYKQgk9JaaBCsmVpp5Iy55mcqKQ6BzyWTM4kxIozj2yoqmZ853CIdT29hljWkV0HBJJ/dUMuMNAjL5IBZPtjjISKZGJggMDoGE3hLp8sLlpsSkMUaK4cFHPjXYuWTiuKWM6ay2OCQdvHCmT1zQ4n1pYSs6Qf/JLSZYnY9/Sp86SOtLaISoS+DlZZunTllCv1MXEwQmCEwQ2GIhwEri/gqOi5JrjwcEyTskkhXRxF1uveUqMHLPENEq8khOZYLABIEJAhMElgABBy/X6Mj4t5yy9rSKBkPiCcnUe96QvRywTr1MEJggMEFgc4WAKC5KOPfjcOFZ2hzXnlaBlJh/AYzpAsqlwW7qaILABIEJAlsgBI4++mg+0nLbL3PumwOtAi8Ru3GN+lQmCEwQmCAwQWBUCMi7FleNL7NsJrQKyCYvpmXizdTXBIEJAlssBDbksN18aNUWizfTxCcITBCYILDZQ2CiVZv9Ek8TnCAwQWCCwNpDYKJVa7+E0wQmCEwQmCCw2UNgolWb/RJPE5wgMEFggsDaQ2CiVWu/hNMEJghMEJggsNlDYKJVm/0STxOcIDBBYILA2kNgolVrv4TTBCYITBCYILDZQ2CiVZv9Ek8TnCAwQWCCwNpDYO3zrI+0Au4rk9n35je/+UjtT80uBwKudXbfj9tvo7uPfvSjz3jGM85ylrMsp/ctvJeV2kRbOCaceOKJH//4xwMh//KXv/z9739/9KMfXcfPAw888HGPe1w91Lft+dgYnudZP1ncPSy1u16lIxzpKuL1avZXv/rV+c9//s9//vPrNexptHUIvOENb8i30/Wud70JSsuBwKptoi0ZE/BqbizLN8KHP/zhRjTYa6+9nvzkJ9dftT0fG5dW7g77j33sY6973evGJtE92wd9N6bIh7vzzjv3/GSq1h8CGDpsXdyaNkbBPmMYP/CBD0Tjhx12mPti/uf/i8tSPXSRwate9aoxep/aDAj02URjY4JhuB6XQFDAhO9+97v3uMc9/vznPy8zIpa2AAAdBUlEQVR54ZYw9x//+Me3u93tbAdTe9e73nXKU54y7QLnrfPNczlU3auez/2ggw56/OMfn7ZPetX2fKlw21i56pOf/OSNb3xjE3YR8tgkumf7T3rSk6yryxt71p+q9YfA97///R122MFyy4vf/6uZatp+t7nNbeITW+50pzvdhz70IYdR3oifGBEX8MzU8lS5PwQ6N9ESMOGd73znOc5xDpr8AiZ4BRVJ2//85z/7z27BmkuYewi1rp6IoV772te+973v/Z3vfKcyckSLPvwb3/hG/ty1wu42/MUvflGp3PZ8QWiUP8/lqo3UAf71r3993vOex36wOrTqT3/60xnOcIZ73eteoy7Altm4m9mufvWrByNGIY7XGxwOTFMXvvCFf//730fLN7vZzaK705zmNAcccIBLd1KPX/3qV890pjMhY4OPYWqwcxMtARO++c1v7rjjju973/s6MQGVuuY1r+k+9OUs3BLmTpa6/vWvv99++8WMPvWpTyXpx/3vFZx38x/1YL41CGT2C0GqApC256PCbVVoVUySWWh1aNWLXvQig5mOsDHw7+EPfzjY+vczn/nMuc99bpdk/uhHPxqwI0r5M57xjPR7qc3nPOc5e+6553nPe97Yq8jYH/7wh/T2nve8J35zwAFMTQUEOjfR2JhgDDR7173udXtiwnHHHQc96pLEGAu6hLm/5z3vMZ1f//rXMf4vfOEL7u/AJqJAsREqGgW7pvLkJje5yTnPeU5ktQKBtudjACranGhVK2wvdalLUVItUyEw3jKvVMsUMqc+9alf9rKXxahoZq54xSte61rXGhDUX/7yl+3DRqPxa1/72tOf/vTeJmbTGNixTnva0w44gJUC+AYOpryJloAJ5n6JS1zCnXZ1IDRiAmyEG29729vGBtpy5s5Eh9LU5/Lzn/88DC7bbrstPWSq4MrEO93pTnl9pEu1pEJMr9qejwe3iVY1w/aDH/ygFeLxMh7ot9iWv/71r6Ml+fRpio4//vgBScVLXvISy/e73/2uEciUfltvvTUlfnp7wgknqP/pT396i12UMSbeuYmWgAm/+c1vKJnhQ09MUI3CkJZ4DIDkbS5h7rqjALzBDW7QOBe6B+cbtOdklCowRF3oQhfK63/ve99Th2q00kjb8/HgtnJ+gEmdurF/uJjZAMi5GzuMzbJ3+reddtopnxrm7jrXuc7JT37yoebLTwc7GfJTvVz0ohe9ylWuwu8LdYy3MR4KyaEGMGs7Kepr1g9XuX7nJloCJgT/UcG3BLQ6JgQyLAETljB3c2Ggaps7En6Xu9xFHf4UCSAqM+9Rj6cn5znPeTgfYTt++ctf5sjW9ryOkODP3ZcWcUBcnfJWnARMoYt+JPt/DmV2Rf5CGBbn3V3vetc3vvGNA67BSE1BF+Pkf0/bhgA/8pGP/NnPfjZSXzM1C4PFcNA8QH1uLL/97W9n+ryt8qlOdarw0G0rjGQXvOAFT3GKU0SFIBV8PgfpfdZG7n//+2+33XaHHHLIrB+W6284ohY2UePIxajaUDCBQjjo3OKFtjmtb2NrFUxQB+YkxFh8AD1bGGPuurYRCmyQuatzsYtdLA2ycSPEMYj/q8yl7XmlGrMcZpQfJpt0T2h0VwvxbQNjgVfEtwK7DbiKlauItEceeaTnFVDuvvvuA+qvhhKiP/KRj0RTNGyIQWXMPN/e+973LtgXEzRVxtyNIFS3utWtGIooAPfZZx8jFCc/d2v5h859u7StKVwe//UHPehBqQKbs96ZEAbpfdZGQv473/nON+uHlfo436997WvxcDxE5dzsNO8camETNX4rqMDOopX64he/CBqwInd+6eyurQKAaO0tb3lLY4U6JqhGtlhy2MxIczcX9kIcahtwnvCEJ4AzniZVeOxjH4ttqtTnHwiGdW/Atuf558cee2zKfOEUWuScnOxVDesYJJPkW3mHT+Q/c/aznx0jLK9HnnVJEMnc22nwD+1AIRTGLxJA42KMTIcp9YlPfCKJ0PiDbomcSA5CPcdwhzvcwedJwU1VctaznjXXd/dsJ6pxSTIMIbr+ftSjHgWneevN1EJbZWRYyykw7k1vetMVrnAFDhRx/Nl17O1IePpcIgMaSGf9IL3P2ojxECbEbMz6YV5fdCc22X72cEBEray4xpGT3Xbb7ac//Wl5tG2bqPErxyXuAWoxMVqF7bff3lwiTnzB4nBkf0r5FzoxQaf2OPfFBfvt//l4czcGDq6Xv/zlYzA4bwtn+aCHnwxOTLaveMUr8qE6K9SpDJ6nid3kuOv5PFX7wQ9+wD0NEwYZHvjAB2qERqc/ZCo1J1rVALqXvvSlwErLV3lHe3alK12J9iw9j5qKMLq512DYD/G8xolQcfWJY8vwXv7yl6de0KdLX/rSMeyZzkeHSLBIsDy1hiXEmj33uc+ddRYUAg6FbbbZJtEMCsBZG2mrLxcAIpq8b6X+C/2egDlEy7ap8OzcmuvLPdRgltAOQkWOTKs5FKI2rjjYUiQwt5TXq20TNUJj//33tzqY+ngrQPtvf/vbUHDDt7GGRmudmMBnHVp2UuKhxqadUedOY2HPJhf8FGXofNhll13e//735xNxdCAtL37xiyuzizMEJ9HzeVTDJehCUow4iBT7EZZKIDIf9FaLVr3jHe8AlFve8pbzTWaor4hNhnHnO985b1D4N903SaLSi7icOPeXid+FmT7mMY9xLqf48wc/+MH0bJX6KW+KbdwfaMccc4xp0ipUPkGoImtL/6bUlL5Faze96U1n+qp/5be+9a2iqRJjgWGXQiansqkpingBXosoM/uPaoyaqD4Ree+9947GB0TUthVHSwiCKGJBGdi4iRqnrzXsDmSwEGPAB0DOda5zvfnNb47GC5hgJAy6MhKMMYwNmbtO+aCno4xoRdnADzZXKqSB2ZLUdPU1JR7FEVcJO2t7Hg3S8KOUodpJhYJ37o22QrSKRoi5G0TQXtlxPve5zy0NYyod0fAaBu47f878k1s40quUorgPrbJyqB07akH55tVnP/vZPHq8MjznLx9rHCLhAJObq4Dp5bFR+Thp3isO4lrDtHLaNseZaFWbFA8pL37xizsuZ4rnvcxlLmMAoQAcqdD84Owqu6XSlzFzBmuzZ7QNzMEHXesBkoWJFFYtvvrSl75U+Vz7KWmyWcSKV+pYyqte9aq51WEQRI1eCnobSa8tH8aobcqNm6ixMmBqitGujxlsPlRhY3O2lDNQO8clzeO0XbdSz9dpn6+WMHe0WSj0oYceWh6PCCrqFuSnXi3lSETk8rdtz/tMfI46K0Sr5hh95ROxFFgzxDxZmOdrMwxRhX2YN0sDqzKdeLkvHtIwhnrhAhe4AC8jBSNswOkrO+Twww+PxAoICZJDzSKtat6szSyqkWWFDlrRiDjzlDzGW842Pu+kGZTy4SDe3z6EOY30zCIo6zOVIcKrPhZp8blU5PoNTk1Arp/MRfOtVOdXb3/728sCH2Mbx4rOdioV7nvf+xp8I3Nab6q8akgUjxInadKxID+GzSOO/wscgCTOfRZvPZLs2cPzLiIkkw6zcwo9ETW1U15x6ArZYCnEbuy6cxOBnqVXGEhMgYEqfs7Nd5ch4BR+9rOfXajj0KirvzqhOl+FJc8dOwvHyn4NooYL+BysrZtEKvNtex7Vvv3tb0tEjqujg43jlALwRje6EZtZz72Td7c50CpadSm8IhGqgh5g8+fDofiKy6x2et6KEjFYTpZCj8gJosLWFVQElxeGH+rj+MrxxF7iCYHS5scKRWpE5ba3vW1i9MLxJrFIz3zmM/1M+t/Ip1LX0dUHFgpoijuxFJ2AsoFpBvLgJ45SRMP8wwgMxBp32sMf9rCH8fVH2tVHa/2t7LHHHp3DWKkKM9Gqwqox6kSWayXRKlqa5LdpjZAr1mkmonC/hjl53q/4nMtAJ3z6IGo00mfFVYPzuq7QzjSMzk2EJsXqx/TNMX6OkRyyEzhLrrB2cw9XVca8CqDanke1pz71qQw6sb6OU3QrBQPgxmaF+drTKpjNgwgsbG/+KphBIFhQig/1VB+ZQ0YW6hfUMc9TUlkDHATlvkHmbmYRmsBJNypHbA0aQKeXPuezF8ucvJJotPwkOKY6/NkYZuInOuctA1UnEqij5v3ud79yTRonfkFYJ0Qxrvyh+A72nE8Epin//CIXuYjnySpQbpkEpvKVr3zlzqGuZoWZaFV51Uzw1re+dU6rYsrod6y+HAqBzySweJK8h8NggHq1ZehI0OuDqCrPtOIkbL3bLI1r1HMT2TgxqY0KGNhABFujudPwWyMxmhVwtT1P1WgFYn19yypM5+/A9McPf/jDWSG/3rQKe8K9FSCcfWX6RHAhClACYAMdu2xCtmVb1i+unNrsc09EkAeMcwHupG91KhnJDMbtA2iAD9GwSCVJB5i34wBCEjwnk4Uq3yd+ks+SWpnyLXHZu+66q7c8s8tIgG1nETTHoOtthcYALdFguEFHns3g36kf6zOKsVWm0NZ4qBMrFsFZcXcD689Eq8qrZhaYBtCo+FlBGA/JVfk0Q8fLjzwe8uPyk6qwExR9EHXWFafO1Xs9HCcG03MTRSg9cjugF2gnNFakwhrNXRYYy5RyeCYAtj1PFQJF+d9SA4aKlSV+PifPIXMsYRPogsolz94R9FZxmYoDt7Gw5qVq9T846TrQiSz+qN+1HPUZqJ2JZFVpEbg/OKYpXriYo+15hvy8cRdJ+NkZu84QYvFoQuJYaSuhmqvc1ojeeB7uqrwtWM79wZSVN2LMofTHmxBi/BH5u2iNWUHRXUKY+ImUXCPCws2rMBgU3cmINPImcMYVaqKjCGool1WzOnRQcexGjzGkVKLfPqHpkDVyyyb1V2EYK/KqgtuRX6OC6o243blqKoTSv1Ia8ZmArhpFa1Tus+Kq9UTU+VbcasZ+qZSemyguU6e0D6Zz9cvcp1x9ams09zgMHbaVWbQ9T9Ui06b9Ah8i3p9c5RBedKGDGLrXREM9rTWJftan0TgaXnN1pibcWxtLuiuvkRVKfoM4fTpAWRr5Zztbk7sUxOIlZdsfddRReQvsW7rjut3YbChh60xEXhl9dTrrsdMZLFqrDCBvKjkaSLpVGQ/TVIAlHNUqGSio3XLHAeKXmvz+C2wjOydWvTNjBbkz3IijfYcj9EpJMHnBelVRIXKg8hA6djKtwWopnT4gnU0tp8IiuN25aipwMAGNilwVPngVuQoye5iCEMJgie8pwKEnos6x4ilNV6PzWJ9NZNihDOjjG7KctS73siAmVBpfo7kHG10nCm3P00xDN1M4bPsv6xFHHJG2ySbmLky45XRqdbpCW0XZ1VnC56dS+PVD98bixrx6/XhihMHa6xoOET4otUQAUKnFOeuEhQ08fenoeCjk7bDwk8aSXbfSRfC5hTxaaCG3COska1lZ/CIwBYOZJ4isdJc46LiPIC8hYisxJPYt5k0eNcGYUIGK7oobdxSCtn/buHuvOFk97WlPI0rzSGyDajwncaKLMCFEKAwgGU4sVLylRfRvaAJTiX4D8uUS7CSPx9BorX6p43bwcwyKOcI34rZq5VVbZPqdK94fUede8bZF79xEPrTFIsvcukjYi5xylYVer7m3HYblnMvO5HDj4tcjU/siqO7bIElBnjbdC0yx6O+DDz64P8XbkJoEmnBO423SOAAEydt6ypConHsoVD4XOejD/Ka+vIJT+4Y3vCGLS9nekz6JBJG0HPXwETFkMqyEmKykuP30bcqLEY4M6G68QvlSDnj6zLDV4a810mZmI0tZ5rZJVSDA7KQpcls8D9ePuPfaSDD7lWtvPI/x9EGb8Bq4/e1vvyFoM0inM9mryqtmPHPLVRE7L0NH46RmQtQ5VjyOIbxao6m4vIliwJH6T1kwyGSQNV1yI+s19zjEcLoVKLU9j2pitmJ9B7kPLC764YCm5U1yVdjzh03hviBFbfzcJgkJlJN3vYKHIOt5HAT1EiS5sYTqPF0YkdexLWnACBakmYq9R0rAgGaloFKesNAwquWvHP3Od+IL41MwC+FYVanjJ2cbHr3+cES648Af7pix/JFPTwoTGRn8ERYjypz6GFieOI/KB8i+lb/F+Mg5VK9PPPUwiYyMVWhzjIFzCtwgCgeaphL9lq1lUTnkqnVhpevAmfVJedVmbS2vX1jxWRF17hUXftBoWitsojSFwAQthBPpFlXWa+5xGIaVIS9tz6NOmOopt5m9F1/cIElBnjbRqnABL6iSFu91qBYivxGlFumk0iYnpUhbmTRXKiDIbCSp1L+KRmKbcVapj9O5w/LE3CW1BHf5KBSp3CuIFHk22/Rt2MYUnhQkJyFN6BPfboPn7oHqoHnhCO5VZLVJJRgTVqt0HIQzjOJJ+Ob5I3RBoa+re6Pwdab0E3eFaqYxI3XkUUJneFRXSlwTgAQ6woiDUiEEGI1H8CyrSVhTUglRL42h3mB6wr0lXHW3HFplsoVV8zZ8JcK/JpU4BYI/TQ+jDoEpnnDYsVvt4Yqfi1ezIuqsK66LSGHeeG+O54VNlKYT53UY4ba0sl5zj8MwxbCmxWp7HhWEfvp3zz33HORquiBJQZ42bYw4W/sYyZcsNde7o4ULmwe7DssWpQS1u+NeMhV5hjx3IOZfOXkpBkOIYS+pZ7mPylR8KtTfBm1oKwU3EKbj+lecQVI0lSUP4xmLNCoYw0D8PGEYSzoW17XQv6XAzzDmpYDiiL+pmOiJgCmxeuPI66l9dA0twuWMNCaQ2R9om9gIRgghVnKrVNYirA7E3E6UEA0WSF+IoveK/wWiGJHFQjH8XU+VRCg0tpS2g6kfKe0MRu4cYZ8KM+kAy6uGFQj7c54DwsOIpVVEjseQCNCRvQL0kkdPJNGHCfmw50DUWVdcd8G+VFKrpGG0baJ8nGH2K4R89FzintX6rOzS6nTO3Ugw07icSIuuUPlWYvDjec/9ssjUwkCeB6FHa23PvQpf38av5htJZLOLK0420SrO0B6Jk5+vxSV/hVzR8jklE+mmKBcgHVdeNhpFIvKjkO5XWjAV0Ox8LmEbKJR6UHf+uQSvSWfoxCGX5GG/avqJjpqFM4vCTZAvskTVllu56OvMVAUp7DDCKoubyQNTZN40wjyVYhix2gqmuG29yElSaSSoIqJOn7brP+g/ddFG+/MuAuFShFBj7+DA5zDOQWr9iDes+DeS+W5xi1sABWBGvhYQVi3PKD8eKu677766rtPsxh4Lq0ZNHVm1opCPZWgkdyafGg8xkrgWDEpoP6IwUkYaZfcD+ZmnJ54bUWdacegK8qhmnicsn37jJsor4CpCydyWVKnnEvesNh4yzNFy59y1iTDwrYUSvJ399LfN2Ojz2We/zDHI9EmS44E6b6ftedSJvGsQdag0j8Egxq0im2hVcL5rl1MA4JzaiQCEt3f9ogdMuucpurZxCcOo499FFrjxW8eB9S6IFI5d2kskATddFxEiPQEWmOCo1DOZ4mWcaOj0UCN3HDPsIS2F8D1jduCSHirUt3EMobaV+bQ8QhIwGY5OlfaS6VFpNODLTqs19wpqDbgsN33sUHMfqp3OVVuwI8uNvR3KPaHPiifOoJ7IIM2lcxNFsn8ZpMrT77nEPastCOqhPu85d92Fud0Bzek0LvdqHEPP/TLf+An0wSHl1yFpqu35fL10fhXpmsI7bBOtisQtdGudH69yBaotcglpoJLHHhmo8KH1WVB2qVO/W2yV55vGRizG8tdDteYePEwou/HYRQhkoy6x0qnNZlEw44Us8umTuJ+6nAHd5kHSkpQmWdG6xGzNvRz1D0GVqqDN33WOjjpXXHAFfr/MEnVuolBUplsQ28bZc4l7VpsDGmN80nPuuob/oMTY3Hmjbp/9Mt9c4tZsO7cSS9r2fL5eOr+KIJnIn7uJVvkr/E07k4x1tj5TBTKHy2FtAJ5mFQI+UzupMkeGIDlpIo7IcCUoZ1wOC005xHK+IS3nK2mW+DGTzxbvjrMi9/SCEUh4IGxJNpV6jzhBMm5cxxCuIn382lWOzEOdNxdTAESSe7JXWbW4ODRWtgX8JU0jD9U+om15Fp0rLlsHJx0qqXJfjZuIfpKqNpRCGkHwRB92QrXnEves1tndSBXmm3v4Z5KuOkfVc790tlOvEBGcEKzyqu35HF10fkKtQucs4U5g3Um0KiJnZ709r7O/QgWKR3Q7WUew3oNcDUA7xK+XwYP5jRWamzWjkcyt5RPQ/sGtr85Vv3MAlm8CXntxRwOm3fpVjWk8mD7eK7jswghDOUP1xzlCbAS/xz6Z36g3g2Eqp+HQb2T45ULJdJfcUuaA2Lp/Yq25vfTkAwqTLa+4DzkB9bk7o76JkCh8j8WiAWOJ9Eef9ND9l3iVMWHuuYcVtpNv7r9f5sDzCMWp08u253N00fmJDW4M/NGi5km0ilu2Fwz7nU0MUgGgkRN0hYwJj8NBYCjnDgSZR68U9LgAPGOnKB0zChfeTqZ+kOmP1Ej5jsGenYoJK9w3AZid8CRRYUEQTjoKZq22644q45GMOFJPOYC8yo26FY8G+blVI0MLAOg5qc242nxZQXOAlFdczf54Vd9EwQSLtpHfpB753rYubUu8Xpgwx9yhPWsxcRkf75DEFCZPFvsuX+vCflkc2yOOs25jbnu+eI/1Ftw1YQzpyuaTaBUejaVH3MMYvdbbBIUccVlHDIvP9HJ6b+wlUt4Vclts4NjWrmsaXWZCfk2dhI0HI2aNhpZrk2nygCKHyXrHzzBmzXEO5csvdSSlsc8xmA2iN1472K7ygOubiHiBGSW6lWXxyqQal3jtMKH/3NUkTlGiilvgFBp58DjZChKIXDlsGVREFD/4+/J+GQQ9InmY6JdKa23PB+m00gjRxcZPd6+fRKvUo/30rnAt04AD4r2Wu7TRSOIj2u7FGbDfQlNS51kejMNyupt6CQiEGgdehhWX/dJPvumJyMUFKzS0uSKRL0DnTSgThJcPgQE3UX2JN2NMgNscO4meYYVh8SU5UJ+mXNsqRKh1RKQU9svii+5kFpBad7Vre754j/UWOBwwVuWatv+iVcLQQKcSYzTGOOptxk0Hfe4MHG88JEs2s8g9NZWlQYDCtmKnrOfwptGVryG5sNMxuqlkwds1lzbBLaqjoTZR2xJvxphAgMgD1xzWFU83pAInTV3RuV8WRLnIpIMzqLTT9nzB7ho/l2GH4JR7Gv8XrfIN9y2OOhWf7zGGUmmTtCv+afn9VoYR+Tvqku8SIDB10QYBxhJBpingl0FRANZMCqUJtsuEwOKbqG2Jt3BMkPCaW1PPaPRFVpzLEiEvKd9SU23PF+mr8du4V71yL2uVVuFVBVcu2Q+Y+wNCtQqGIiOha+p50e3gKzQ12AgBIR08A2kIeTwzVnMvlFVrgtXKQmDuTdS5xFs4JnCBqacCGBwNmGNkaONfWmm57fngA9CgbHkiqypOQ1VapR7Bk4sqvfMYg6i3Cfqi3lyEsZzuOnsRW2qplsC8dI5kqpBDABflYhFBCJWkLxOUVhAC822inkvcs9oKgmUthhT3rbvboTLatueDT0oKMQnn6lJdA60KciW5hSjOwcdRaZD9XNzurPcRjzoqSURkZusMrR91DFPjEwTWGgLTJlrT5cOj49Td7FoZf9vzwadJz0mxVydUOtp0JwgjTV64oIiwiXy64xXdSyBGqEo3aIBI+O9vYBFHjEjLA93z7uoNHOrU9QSB1YTAtIlWc106R8W3lhPTgQceWKnZ9ryzwVkrsFRR+EvBU/9wKwRj1uaGqs/rT5wXxWhc1MRwyg7hKo0NJ1cGY2D8Rxvv9Rhq+lM7EwQ2bwhMm2jt1nfXXXc9+uij63dWtT1f5gQ3jFZJ2VK5r9a0SXJyove5Z3YJMELFGy8/XULXUxcTBDYPCEybaL3WsW29VmEd/xcKKqlkGMl8tQAAAABJRU5ErkJggg==\"></div>"
      ],
      "text/plain": [
       "FormBox[TagBox[RowBox[{\"(\", \"⁠\", \n",
       "\n",
       " \n",
       ">         TagBox[GridBox[{{RowBox[{OverscriptBox[\"r\", \"^\"], \" \", \n",
       "\n",
       " \n",
       ">               RowBox[{\"(\", RowBox[{\"-\", SubscriptBox[\"ϵ\", \"G\"]}], \")\"}], \" \", \n",
       "\n",
       " \n",
       ">               RowBox[{\"(\", RowBox[{RowBox[{RowBox[{\"sin\", \"(\", \n",
       "\n",
       " \n",
       ">                       RowBox[{\"2\", \" \", \"ϕ\"}], \")\"}], \" \", \n",
       "\n",
       " \n",
       ">                     TemplateBox[List[SubscriptBox[OverscriptBox[\"f\", \"^\"], \n",
       "\n",
       " \n",
       ">                        RowBox[List[\"x\", \",\", \"y\"]]], \"\\\"(5)\\\"\"], \"Superscript\", \n",
       "\n",
       " \n",
       ">                      Rule[SyntaxForm, SuperscriptBox]]}], \"+\", \n",
       "\n",
       " \n",
       ">                   RowBox[{RowBox[{SuperscriptBox[\"cos\", \"2\"], \"(\", \"ϕ\", \")\"}], \n",
       "\n",
       " \n",
       ">                     \" \", TemplateBox[List[SubscriptBox[OverscriptBox[\"f\", \"^\"], \n",
       "\n",
       " \n",
       ">                        RowBox[List[\"x\", \",\", \"x\"]]], \"\\\"(5)\\\"\"], \"Superscript\", \n",
       "\n",
       " \n",
       ">                      Rule[SyntaxForm, SuperscriptBox]]}], \"+\", \n",
       "\n",
       " \n",
       ">                   RowBox[{RowBox[{SuperscriptBox[\"sin\", \"2\"], \"(\", \"ϕ\", \")\"}], \n",
       "\n",
       " \n",
       ">                     \" \", TemplateBox[List[SubscriptBox[OverscriptBox[\"f\", \"^\"], \n",
       "\n",
       " \n",
       ">                        RowBox[List[\"y\", \",\", \"y\"]]], \"\\\"(5)\\\"\"], \"Superscript\", \n",
       "\n",
       " \n",
       ">                      Rule[SyntaxForm, SuperscriptBox]]}]}], \")\"}]}]}, \n",
       "\n",
       " \n",
       ">            {RowBox[{RowBox[{\"-\", FractionBox[\"1\", \"2\"]}], \" \", \n",
       "\n",
       " \n",
       ">               OverscriptBox[\"r\", \"^\"], \" \", SubscriptBox[\"ϵ\", \"G\"], \" \", \n",
       "\n",
       " \n",
       ">               RowBox[{\"(\", RowBox[{RowBox[{RowBox[{\"sin\", \"(\", \n",
       "\n",
       " \n",
       ">                       RowBox[{\"2\", \" \", \"ϕ\"}], \")\"}], \" \", \n",
       "\n",
       " \n",
       ">                     RowBox[{\"(\", RowBox[{TemplateBox[List[SubscriptBox[\n",
       "\n",
       " \n",
       ">                            OverscriptBox[\"f\", \"^\"], \n",
       "\n",
       " \n",
       ">                            RowBox[List[\"y\", \",\", \"y\"]]], \"\\\"(5)\\\"\"], \n",
       "\n",
       " \n",
       ">                          \"Superscript\", Rule[SyntaxForm, SuperscriptBox]], \"-\", \n",
       "\n",
       " \n",
       ">                         TemplateBox[List[SubscriptBox[OverscriptBox[\"f\", \"^\"], \n",
       "\n",
       " \n",
       ">                            RowBox[List[\"x\", \",\", \"x\"]]], \"\\\"(5)\\\"\"], \n",
       "\n",
       " \n",
       ">                          \"Superscript\", Rule[SyntaxForm, SuperscriptBox]]}], \")\"}]}\\\n",
       "\n",
       " \n",
       ">   ], \"+\", RowBox[{\"2\", \" \", RowBox[{\"cos\", \"(\", RowBox[{\"2\", \" \", \"ϕ\"}], \")\"}], \n",
       "\n",
       " \n",
       ">                     \" \", TemplateBox[List[SubscriptBox[OverscriptBox[\"f\", \"^\"], \n",
       "\n",
       " \n",
       ">                        RowBox[List[\"x\", \",\", \"y\"]]], \"\\\"(5)\\\"\"], \"Superscript\", \n",
       "\n",
       " \n",
       ">                      Rule[SyntaxForm, SuperscriptBox]]}]}], \")\"}]}]}}, \n",
       "\n",
       " \n",
       ">           Rule[RowSpacings, 1], Rule[ColumnAlignments, Center], \n",
       "\n",
       " \n",
       ">           Rule[ColumnAlignments, Left]], Column], \"⁠\", \")\"}], \n",
       "\n",
       " \n",
       ">       Function[BoxForm`e$, MatrixForm[BoxForm`e$]]], TraditionalForm]\n"
      ]
     },
     "execution_count": 45,
     "metadata": {
      "text/html": [],
      "text/plain": []
     },
     "output_type": "execute_result"
    }
   ],
   "source": [
    "RHSMotion = -Subscript[\\[Epsilon], G] FullSimplify[RotationMatrix[-\\[Phi][OverHat[t]]] . fh5rh, Trig -> True];\n",
    "RHSMotion // MatrixForm // TraditionalForm"
   ]
  },
  {
   "cell_type": "markdown",
   "metadata": {},
   "source": [
    "<span style=\"color:brown\">**NB:**</span> Полученные выражения <span style=\"color:green\">**совпадают**</span> с уравнениями (10) и (9) из файла Binary.pdf"
   ]
  },
  {
   "cell_type": "markdown",
   "metadata": {
    "vscode": {
     "languageId": "wolfram"
    }
   },
   "source": [
    "## Получим теперь **энергетическую** систему уравнений\n",
    "\n",
    "В задаче двух тел без учёта гравитационного излучения в системе центра масс в полярных координатах радиус-вектор $\\hat{r}_k$ задаётся как:\n",
    "$$\n",
    "\\hat{r}_k = \\hat{r} e_{1k} \\quad,\n",
    "$$\n",
    "где:\n",
    "- $\\hat{r}$ — расстояние между телами,\n",
    "- $e_{1k}$ — единичный вектор в направлении $\\hat{r}_k$.\n",
    "\n",
    "Скорость в полярных координатах выражается как:\n",
    "$$\n",
    "\\hat{r}_k^{(1)} = \\hat{r}^{(1)} e_{1k} + \\hat{r} \\phi^{(1)} e_{2k} \\quad,\n",
    "$$\n",
    "где:\n",
    "- $\\hat{r}^{(1)}$ — радиальная скорость\n",
    "- $\\hat{\\omega} \\equiv \\phi^{(1)}$ — угловая скорость\n",
    "- $e_{2k}$ — единичный вектор, перпендикулярный $e_{1k}$.\n",
    "\n",
    "### **Кинетическая энергия**\n",
    "Кинетическая энергия $T$ в полярных координатах выражается через радиальную и тангенциальную составляющие скорости:\n",
    "$$\n",
    "T = \\mu\\frac{b^2}{2 t_0^2} (\\hat{r}_k^{(1)})^2 = \\mu\\frac{b^2}{2 t_0^2} \\left( (\\hat{r}^{(1)})^2 + \\hat{r}^2 \\hat{\\omega}^2 \\right) = \\frac{G \\mu M}{b} \\frac{1}{2}\\left( (\\hat{r}^{(1)})^2 + \\hat{r}^2 \\hat{\\omega}^2 \\right)\n",
    "$$\n",
    "\n",
    "### **Потенциальная энергия**\n",
    "Потенциальная энергия $U$ зависит только от расстояния $\\hat{r}$:\n",
    "- Для гравитационного взаимодействия:\n",
    "  $$\n",
    "  U = -\\frac{G m_A m_B}{b \\hat{r}} = -\\frac{G \\mu M}{b \\hat{r}}.\n",
    "  $$\n",
    "\n",
    "### **Полная энергия**\n",
    "Полная энергия $E$ в полярных координатах:\n",
    "$$\n",
    "E = T + U = \\frac{G \\mu M}{b}\\left(\\frac{(\\hat{r}^{(1)})^2}{2} + \\frac{\\hat{r}^2 \\hat{\\omega}^2}{2} - \\frac{1}{\\hat{r}}\\right) = \\frac{G \\mu M}{b} \\hat{E}\n",
    "$$\n",
    "\n",
    "Здесь $\\hat{E}$ - безразмерная энергия:"
   ]
  },
  {
   "cell_type": "code",
   "execution_count": 47,
   "metadata": {
    "vscode": {
     "languageId": "wolfram"
    }
   },
   "outputs": [
    {
     "data": {
      "text/html": [
       "<div><img alt=\"Output\" src=\"data:image/png;base64,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\"></div>"
      ],
      "text/plain": [
       "FormBox[RowBox[{RowBox[{FractionBox[\"1\", \"2\"], \" \", \n",
       "\n",
       " \n",
       ">          SuperscriptBox[OverscriptBox[\"r\", \"^\"], \"2\"], \" \", \n",
       "\n",
       " \n",
       ">          SuperscriptBox[OverscriptBox[\"ω\", \"^\"], \"2\"]}], \"+\", \n",
       "\n",
       " \n",
       ">        RowBox[{FractionBox[\"1\", \"2\"], \" \", \n",
       "\n",
       " \n",
       ">          SuperscriptBox[RowBox[{\"(\", SuperscriptBox[OverscriptBox[\"r\", \"^\"], \"′\"], \n",
       "\n",
       " \n",
       ">             \")\"}], \"2\"]}], \"-\", FractionBox[\"1\", OverscriptBox[\"r\", \"^\"]]}], \n",
       "\n",
       " \n",
       ">      TraditionalForm]\n"
      ]
     },
     "execution_count": 47,
     "metadata": {
      "text/html": [],
      "text/plain": []
     },
     "output_type": "execute_result"
    }
   ],
   "source": [
    "Energy = (D[OverHat[r][OverHat[t]], OverHat[t]])^2/2 + (OverHat[r][OverHat[t]] OverHat[\\[Omega]][OverHat[t]])^2/2 - 1/OverHat[r][OverHat[t]];\n",
    "Energy // TraditionalForm"
   ]
  },
  {
   "cell_type": "markdown",
   "metadata": {},
   "source": [
    "### **Момента импульса**\n",
    "Момент импульса $J$ в системе центра масс:\n",
    "$$\n",
    "J = \\mu\\frac{b^2}{t_0} \\hat{r}^2 \\hat{\\omega} = \\mu(G M b)^{1/2} \\hat{r}^2 \\hat{\\omega} = \\mu(G M b)^{1/2} \\hat{J}\n",
    "$$\n",
    "\n",
    "Здесь $\\hat{J}$ - безразмерный момент импульса:"
   ]
  },
  {
   "cell_type": "code",
   "execution_count": 49,
   "metadata": {
    "vscode": {
     "languageId": "wolfram"
    }
   },
   "outputs": [
    {
     "data": {
      "text/html": [
       "<div><img alt=\"Output\" src=\"data:image/png;base64,iVBORw0KGgoAAAANSUhEUgAAACsAAAAeCAIAAAA6iHCJAAAAzXpUWHRSYXcgcHJvZmlsZSB0eXBlIGV4aWYAAHjabY/rDcMgDIT/M0VHMDacYRxoiNQNOn5NcFtR9STs4/MjIYzn4wy3KY4UUtaCCpAp1VS5mSm0tHKkesVL3L0Wdx7icN4M5W8Bb953rvCF5WcR8TIyv2Bekg/4IuHFY1v37v3cStkXCW2q9Pn1v/ckysiImiwmJlVU8yWYtYTMlBUn7oA1RhxM6W55QNXGoLND2hyc4qF79wgQA8d8gsyTpVkWi1EKT+LeIhvpXr0eEl6UiFrtFIDsIgAAAAlwSFlzAAAWJQAAFiUBSVIk8AAAADx0RVh0U29mdHdhcmUAQ3JlYXRlZCB3aXRoIHRoZSBXb2xmcmFtIExhbmd1YWdlIDogd3d3LndvbGZyYW0uY29tXKKmhQAAACF0RVh0Q3JlYXRpb24gVGltZQAyMDI1OjAzOjE4IDIzOjE4OjI4xyHyZgAAA+FJREFUSEvtVlsos2Ec3+aQnGIOUUgLJbUkp4wbLiQl4cIFymk53cghLVy4JOVuOZVacyhXRBiiRkmI1i7kULhyzpwZ3+/tWc/2bW3P3m/fl5vvra33/T//5/f//Y/PI/z+/hawnqOjo7GxsYuLi7i4uJqamtDQUNYOPutg4PiZmZnx8PBwc3MjqEFBQYeHh6xNPNYFjnUNBkNYWNjk5OTHx8f6+npKSgpIFBUV8bDAUmUwUKvV3d3dFGR2dhYMoqKiWLA81hkM9Ho9wkDx3t/fkZHExEQeFliqIloz0Hx5eUG0LasoPj7e19eXSq6urqCQk5PDp9I4J22RzQiUYltbG6TBwcGoeXu8e3p6AgMDwYPl2G/rjpFNWZibmxMKhYRXVlbW5+enrY3T01OYX1lZ4WWeicwxOD8/R49FR0cfHBw0NzeDhEKhsDKDapBKpaOjo7zMO4MsgLuZmZkZGRmXl5cEXalUenp6Li4uUmPQKSgo6O3t5WXeGWQAClBZCOzr66sluk6no2Pn6+urqqqqs7OTKjw9PbW0tDDZMJEJghA/JHhra2tnZ2d3d1cmk6HclpaWBgYGxGLx0NBQV1cX3isqKkihgCs0a2trW1tbHXcEWhfsvby8rNRgET6YWwzf/f39hYWFRA+hnpiYcHd3J59NTU22ZpAjmjJ7kdBoNBimIyMjtgpnZ2cYKtvb22TJ1At3d3fE0vT0dEhISF9fn4+PD14cdKaDLCwsLMCHyspKezqpqakJCQlGo9HMYG1tDeYDAgKys7OHh4ex8Pj4+Pb2xky2rQIays/PD+fn7e2tve3l5eUwB00omGbi6uoqRPf39w8PD9XV1XhHDBBtXrMPykCUy+Vo3Y6ODgwPsh0u4ShBc1E0uIr3jY0NTkJopqWlkWUcgH/gN90yPj4OEG9vb6SVCktKSpD46+trKkFvQ62urs6UBYRLJOKCkZ+f74p57EUSgVNcXGyJExMTk5eXZymRSCRQI6cuZ3h5eRltQ0jxDbuV/v7+PiSxsbFUjq45Pj5OT0+nErTJyckJPsltg2OA7sd/eHg4mLrCAGV0c3MDBMtr3ODgIBxNTk6myGh4vOPCZzpjsRwZGQkRTgQXU4Dt6AJAYXwRKJQkHINkb2+PSDDfOL9Fos3NTSIR4A5C2Gm1WtcZNDQ0kEpsb2/H/Qpxrq+vx5GWm5urUqnKysqwCpZTU1PUlgBRInEj88HFB+O2sbHR398fmLhqYHI/Pz/Pz88nJSVhqEdERJSWllpddLlzwZXc29uLgWZ5uYIaqCA2tvr/ioHzXpnvic7v+bua/xmQifSzz88z+AUG9ZDrhvIkKgAAAABJRU5ErkJggg==\"></div>"
      ],
      "text/plain": [
       "FormBox[RowBox[{SuperscriptBox[OverscriptBox[\"r\", \"^\"], \"2\"], \" \", \n",
       "\n",
       " \n",
       ">        OverscriptBox[\"ω\", \"^\"]}], TraditionalForm]\n"
      ]
     },
     "execution_count": 49,
     "metadata": {
      "text/html": [],
      "text/plain": []
     },
     "output_type": "execute_result"
    }
   ],
   "source": [
    "AngularMomentum = (OverHat[r][OverHat[t]])^2 OverHat[\\[Omega]][OverHat[t]];\n",
    "AngularMomentum // TraditionalForm"
   ]
  },
  {
   "cell_type": "markdown",
   "metadata": {},
   "source": [
    "Отсюда $\\frac{1}{\\hat{r}^{(1)}}\\left(\\frac{d\\hat{E}}{d\\hat{t}} - \\hat{\\omega} \\frac{d\\hat{J}}{d\\hat{t}}\\right)$"
   ]
  },
  {
   "cell_type": "code",
   "execution_count": 50,
   "metadata": {
    "vscode": {
     "languageId": "wolfram"
    }
   },
   "outputs": [
    {
     "data": {
      "text/html": [
       "<div><img alt=\"Output\" src=\"data:image/png;base64,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\"></div>"
      ],
      "text/plain": [
       "FormBox[RowBox[{RowBox[{\"-\", RowBox[{RowBox[{OverscriptBox[\"r\", \"^\"]}], \" \", \n",
       "\n",
       " \n",
       ">            SuperscriptBox[OverscriptBox[\"ω\", \"^\"], \"2\"]}]}], \"+\", \n",
       "\n",
       " \n",
       ">        SuperscriptBox[OverscriptBox[\"r\", \"^\"], \"′′\"], \"+\", \n",
       "\n",
       " \n",
       ">        FractionBox[\"1\", SuperscriptBox[OverscriptBox[\"r\", \"^\"], \"2\"]]}],\\\n",
       " \n",
       ">    TraditionalForm]\n"
      ]
     },
     "execution_count": 50,
     "metadata": {
      "text/html": [],
      "text/plain": []
     },
     "output_type": "execute_result"
    }
   ],
   "source": [
    "Simplify[(D[Energy, OverHat[t]] - (AngularMomentum/OverHat[r][OverHat[t]]^2)(D[AngularMomentum, OverHat[t]]))/(D[OverHat[r][OverHat[t]], OverHat[t]])] // TraditionalForm"
   ]
  },
  {
   "cell_type": "markdown",
   "metadata": {},
   "source": [
    "Что совпадает с **первой** строкой повернутой LHS системы движения"
   ]
  },
  {
   "cell_type": "markdown",
   "metadata": {},
   "source": [
    "Отсюда $\\frac{1}{\\hat{r}}\\frac{d\\hat{J}}{d\\hat{t}}$"
   ]
  },
  {
   "cell_type": "code",
   "execution_count": 51,
   "metadata": {
    "vscode": {
     "languageId": "wolfram"
    }
   },
   "outputs": [
    {
     "data": {
      "text/html": [
       "<div><img alt=\"Output\" src=\"data:image/png;base64,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\"></div>"
      ],
      "text/plain": [
       "FormBox[RowBox[{RowBox[{\"2\", \" \", OverscriptBox[\"ω\", \"^\"], \" \", \n",
       "\n",
       " \n",
       ">          SuperscriptBox[OverscriptBox[\"r\", \"^\"], \"′\"]}], \"+\", \n",
       "\n",
       " \n",
       ">        RowBox[{OverscriptBox[\"r\", \"^\"], \" \", \n",
       "\n",
       " \n",
       ">          SuperscriptBox[OverscriptBox[\"ω\", \"^\"], \"′\"]}]}], TraditionalForm]\n"
      ]
     },
     "execution_count": 51,
     "metadata": {
      "text/html": [],
      "text/plain": []
     },
     "output_type": "execute_result"
    }
   ],
   "source": [
    "Simplify[D[AngularMomentum, OverHat[t]]/OverHat[r][OverHat[t]]] // TraditionalForm"
   ]
  },
  {
   "cell_type": "markdown",
   "metadata": {},
   "source": [
    "Что совпадает со **второй** строкой повернутой LHS системы движения"
   ]
  },
  {
   "cell_type": "markdown",
   "metadata": {},
   "source": [
    "Таким образом, мы можем выписать новую **энергетическую** систему уравнений\n",
    "\n",
    "$$\n",
    "\\begin{align}\n",
    "\\frac{d\\hat{E}}{d\\hat{t}} &= - \\epsilon_G \\left(\\hat{r}^{(1)} R_{xi}(-\\phi) \\hat{f}_{ij}^{(5)}\\hat{r}_j + \\hat{r}\\hat\\omega R_{yi}(-\\phi) \\hat{f}_{ij}^{(5)}\\hat{r}_j \\right)\n",
    "\\\\\n",
    "\\frac{d\\hat{J}}{d\\hat{t}} &= - \\epsilon_G \\hat{r} R_{yi}(-\\phi) \\hat{f}_{ij}^{(5)}\\hat{r}_j\n",
    "\\end{align}\n",
    "$$"
   ]
  },
  {
   "cell_type": "markdown",
   "metadata": {},
   "source": [
    "Или\n",
    "\n",
    "$$\n",
    "\\left(\\frac{d\\hat{E}}{d\\hat{t}}, \\frac{d\\hat{J}}{d\\hat{t}}\\right) = - \\epsilon_G T_{nk} R_{ki}(-\\phi) \\hat{f}_{ij}^{(5)}\\hat{r}_j\\quad,\n",
    "$$"
   ]
  },
  {
   "cell_type": "markdown",
   "metadata": {},
   "source": [
    "Здесь\n",
    "$$\n",
    "T = \n",
    "\\begin{bmatrix}\n",
    "\\hat{r}^{(1)} & \\hat{r}\\hat{\\omega} \\\\\n",
    "0 & \\hat{r}\n",
    "\\end{bmatrix}\n",
    "$$\n",
    "матрица трансформации:"
   ]
  },
  {
   "cell_type": "code",
   "execution_count": 53,
   "metadata": {
    "vscode": {
     "languageId": "wolfram"
    }
   },
   "outputs": [
    {
     "data": {
      "text/html": [
       "<div><img alt=\"Output\" src=\"data:image/png;base64,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\"></div>"
      ],
      "text/plain": [
       "FormBox[TagBox[RowBox[{\"(\", \"⁠\", \n",
       "\n",
       " \n",
       ">         GridBox[{{SuperscriptBox[OverscriptBox[\"r\", \"^\"], \"′\"], \n",
       "\n",
       " \n",
       ">            RowBox[{OverscriptBox[\"r\", \"^\"], \" \", OverscriptBox[\"ω\", \"^\"]}]}, \n",
       "\n",
       " \n",
       ">           {\"0\", OverscriptBox[\"r\", \"^\"]}}, Rule[RowSpacings, 1], \n",
       "\n",
       " \n",
       ">          Rule[ColumnSpacings, 1], Rule[RowAlignments, Baseline], \n",
       "\n",
       " \n",
       ">          Rule[ColumnAlignments, Center]], \"⁠\", \")\"}], \n",
       "\n",
       " \n",
       ">       Function[BoxForm`e$, MatrixForm[BoxForm`e$]]], TraditionalForm]\n"
      ]
     },
     "execution_count": 53,
     "metadata": {
      "text/html": [],
      "text/plain": []
     },
     "output_type": "execute_result"
    }
   ],
   "source": [
    "Transform = {{D[OverHat[r][OverHat[t]], OverHat[t]], OverHat[r][OverHat[t]] OverHat[\\[Omega]][OverHat[t]]}, {0, OverHat[r][OverHat[t]]}};\n",
    "Transform // MatrixForm // TraditionalForm"
   ]
  },
  {
   "cell_type": "markdown",
   "metadata": {},
   "source": [
    "Итак правая часть энергетической системы запишется как"
   ]
  },
  {
   "cell_type": "code",
   "execution_count": 55,
   "metadata": {
    "vscode": {
     "languageId": "wolfram"
    }
   },
   "outputs": [
    {
     "data": {
      "text/html": [
       "<div><img alt=\"Output\" src=\"data:image/png;base64,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\"></div>"
      ],
      "text/plain": [
       "FormBox[TagBox[RowBox[{\"(\", \"⁠\", \n",
       "\n",
       " \n",
       ">         TagBox[GridBox[{{RowBox[{FractionBox[\"1\", \"2\"], \" \", \n",
       "\n",
       " \n",
       ">               OverscriptBox[\"r\", \"^\"], \" \", SubscriptBox[\"ϵ\", \"G\"], \" \", \n",
       "\n",
       " \n",
       ">               RowBox[{\"(\", RowBox[{RowBox[{OverscriptBox[\"r\", \"^\"], \" \", \n",
       "\n",
       " \n",
       ">                     OverscriptBox[\"ω\", \"^\"], \" \", \n",
       "\n",
       " \n",
       ">                     RowBox[{\"(\", RowBox[{RowBox[{RowBox[{\"sin\", \"(\", \n",
       "\n",
       " \n",
       ">                             RowBox[{\"2\", \" \", \"ϕ\"}], \")\"}], \" \", \n",
       "\n",
       " \n",
       ">                           RowBox[{\"(\", \n",
       "\n",
       " \n",
       ">                             RowBox[{TemplateBox[List[SubscriptBox[\n",
       "\n",
       " \n",
       ">                            OverscriptBox[\"f\", \"^\"], \n",
       "\n",
       " \n",
       ">                            RowBox[List[\"x\", \",\", \"x\"]]], \"\\\"(5)\\\"\"], \n",
       "\n",
       " \n",
       ">                             \"Superscript\", Rule[SyntaxForm, SuperscriptBox]], \n",
       "\n",
       " \n",
       ">                             \"-\", \n",
       "\n",
       " \n",
       ">                             TemplateBox[List[SubscriptBox[OverscriptB\\\n",
       "\n",
       " \n",
       ">   ox[\"f\", \"^\"], RowBox[List[\"y\", \",\", \"y\"]]], \"\\\"(5)\\\"\"], \"Superscript\", \n",
       "\n",
       " \n",
       ">                             Rule[SyntaxForm, SuperscriptBox]]}], \")\"}]}], \"-\", \n",
       "\n",
       " \n",
       ">                         RowBox[{\"2\", \" \", \n",
       "\n",
       " \n",
       ">                           RowBox[{\"cos\", \"(\", RowBox[{\"2\", \" \", \"ϕ\"}], \")\"}], \n",
       "\n",
       " \n",
       ">                           \" \", TemplateBox[List[SubscriptBox[OverscriptB\\\n",
       "\n",
       " \n",
       ">   ox[\"f\", \"^\"], RowBox[List[\"x\", \",\", \"y\"]]], \"\\\"(5)\\\"\"], \"Superscript\", \n",
       "\n",
       " \n",
       ">                            Rule[SyntaxForm, SuperscriptBox]]}]}], \")\"}]}], \"-\", \n",
       "\n",
       " \n",
       ">                   RowBox[{\"2\", \" \", SuperscriptBox[OverscriptBox[\"r\", \"^\"], \"′\"], \n",
       "\n",
       " \n",
       ">                     \" \", RowBox[{\"(\", \n",
       "\n",
       " \n",
       ">                       RowBox[{RowBox[{RowBox[{\"sin\", \"(\", \n",
       "\n",
       " \n",
       ">                             RowBox[{\"2\", \" \", \"ϕ\"}], \")\"}], \" \", \n",
       "\n",
       " \n",
       ">                           TemplateBox[List[SubscriptBox[OverscriptBox[\"f\", \n",
       "\n",
       " \n",
       ">                             \"^\"], RowBox[List[\"x\", \",\", \"y\"]]], \"\\\"(5)\\\"\"], \n",
       "\n",
       " \n",
       ">                            \"Superscript\", Rule[SyntaxForm, SuperscriptBox]]}], \n",
       "\n",
       " \n",
       ">                         \"+\", RowBox[{RowBox[{SuperscriptBox[\"cos\", \"2\"], \"(\", \n",
       "\n",
       " \n",
       ">                             \"ϕ\", \")\"}], \" \", \n",
       "\n",
       " \n",
       ">                           TemplateBox[List[SubscriptBox[OverscriptBox[\"f\", \n",
       "\n",
       " \n",
       ">                             \"^\"], RowBox[List[\"x\", \",\", \"x\"]]], \"\\\"(5)\\\"\"], \n",
       "\n",
       " \n",
       ">                            \"Superscript\", Rule[SyntaxForm, SuperscriptBox]]}], \n",
       "\n",
       " \n",
       ">                         \"+\", RowBox[{RowBox[{SuperscriptBox[\"sin\", \"2\"], \"(\", \n",
       "\n",
       " \n",
       ">                             \"ϕ\", \")\"}], \" \", \n",
       "\n",
       " \n",
       ">                           TemplateBox[List[SubscriptBox[OverscriptBox[\"f\", \n",
       "\n",
       " \n",
       ">                             \"^\"], RowBox[List[\"y\", \",\", \"y\"]]], \"\\\"(5)\\\"\"], \n",
       "\n",
       " \n",
       ">                            \"Superscript\", Rule[SyntaxForm, SuperscriptBox]]}]}], \n",
       "\n",
       " \n",
       ">                       \")\"}]}]}], \")\"}]}]}, \n",
       "\n",
       " \n",
       ">            {RowBox[{RowBox[{\"-\", FractionBox[\"1\", \"2\"]}], \" \", \n",
       "\n",
       " \n",
       ">               SuperscriptBox[OverscriptBox[\"r\", \"^\"], \"2\"], \" \", \n",
       "\n",
       " \n",
       ">               SubscriptBox[\"ϵ\", \"G\"], \" \", \n",
       "\n",
       " \n",
       ">               RowBox[{\"(\", RowBox[{RowBox[{RowBox[{\"sin\", \"(\", \n",
       "\n",
       " \n",
       ">                       RowBox[{\"2\", \" \", \"ϕ\"}], \")\"}], \" \", \n",
       "\n",
       " \n",
       ">                     RowBox[{\"(\", RowBox[{TemplateBox[List[SubscriptBox[\n",
       "\n",
       " \n",
       ">                            OverscriptBox[\"f\", \"^\"], \n",
       "\n",
       " \n",
       ">                            RowBox[List[\"y\", \",\", \"y\"]]], \"\\\"(5)\\\"\"], \n",
       "\n",
       " \n",
       ">                          \"Superscript\", Rule[SyntaxForm, SuperscriptBox]], \"-\", \n",
       "\n",
       " \n",
       ">                         TemplateBox[List[SubscriptBox[OverscriptBox[\"f\", \"^\"], \n",
       "\n",
       " \n",
       ">                            RowBox[List[\"x\", \",\", \"x\"]]], \"\\\"(5)\\\"\"], \n",
       "\n",
       " \n",
       ">                          \"Superscript\", Rule[SyntaxForm, SuperscriptBox]]}], \")\"}]}\\\n",
       "\n",
       " \n",
       ">   ], \"+\", RowBox[{\"2\", \" \", RowBox[{\"cos\", \"(\", RowBox[{\"2\", \" \", \"ϕ\"}], \")\"}], \n",
       "\n",
       " \n",
       ">                     \" \", TemplateBox[List[SubscriptBox[OverscriptBox[\"f\", \"^\"], \n",
       "\n",
       " \n",
       ">                        RowBox[List[\"x\", \",\", \"y\"]]], \"\\\"(5)\\\"\"], \"Superscript\", \n",
       "\n",
       " \n",
       ">                      Rule[SyntaxForm, SuperscriptBox]]}]}], \")\"}]}]}}, \n",
       "\n",
       " \n",
       ">           Rule[RowSpacings, 1], Rule[ColumnAlignments, Center], \n",
       "\n",
       " \n",
       ">           Rule[ColumnAlignments, Left]], Column], \"⁠\", \")\"}], \n",
       "\n",
       " \n",
       ">       Function[BoxForm`e$, MatrixForm[BoxForm`e$]]], TraditionalForm]\n"
      ]
     },
     "execution_count": 55,
     "metadata": {
      "text/html": [],
      "text/plain": []
     },
     "output_type": "execute_result"
    }
   ],
   "source": [
    "RHSEnegry = FullSimplify[Transform . RHSMotion, Trig -> True];\n",
    "RHSEnegry // MatrixForm // TraditionalForm"
   ]
  },
  {
   "cell_type": "markdown",
   "metadata": {},
   "source": [
    "## **Другой Способ** получения уравнений движения и энергетических уравнений через лагранжев формализм в полярных координатах"
   ]
  },
  {
   "cell_type": "markdown",
   "metadata": {},
   "source": [
    "### **Лагранжиан системы**\n",
    "Лагранжиан $L$ в полярных координатах $(r, \\phi)$ выражается как:\n",
    "$$\n",
    "L = T - (U + \\mu\\Phi),\n",
    "$$\n",
    "где:\n",
    "- $T$ — кинетическая энергия,\n",
    "- $U$ — потенциальная энергия\n",
    "- $\\Phi = \\frac{1}{5}f_{ij}^{(5)}r_i r_j = \\frac{\\epsilon_G}{2}\\frac{b^2}{t_0^2}\\hat{f}_{ij}^{(5)}\\hat{r}_i \\hat{r}_j = \\frac{5}{2}\\epsilon_G\\frac{GM}{b}\\hat{\\Phi}$ - малый потенциал \"реакции излучения\""
   ]
  },
  {
   "cell_type": "markdown",
   "metadata": {},
   "source": [
    "Безразмерный малый потенциал \"реакции излучения\" $\\hat{\\Phi} = \\frac{1}{5}\\hat{f}_{ij}^{(5)}\\hat{r}_i\\hat{r}_j$\n",
    "\n",
    "В ближней зоне грав. источника будем иметь $\\mu \\Phi \\ll U$.\n",
    "Откуда получаем $\\frac{5}{2}\\epsilon_{G}\\hat{r}\\hat{\\Phi} \\ll 1$.\n",
    "\n",
    "<span style=\"color:brown\">**NB:**</span>\n",
    "Для достаточно больших $\\hat{r}$, но все еще в ближней зоне, может оказаться, что\n",
    "$\\hat{r}\\hat{\\Phi} \\ll 1$, так как $\\hat{f}_{ij}$ очень медленно меняется.\n",
    "Следовательно условие $\\epsilon_G \\ll 1$ необязательно."
   ]
  },
  {
   "cell_type": "code",
   "execution_count": 57,
   "metadata": {
    "vscode": {
     "languageId": "wolfram"
    }
   },
   "outputs": [
    {
     "data": {
      "text/html": [
       "<div><img alt=\"Output\" src=\"data:image/png;base64,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\"></div>"
      ],
      "text/plain": [
       "FormBox[RowBox[{FractionBox[\"1\", \"5\"], \" \", \n",
       "\n",
       " \n",
       ">        RowBox[{\"(\", RowBox[{RowBox[{OverscriptBox[\"r\", \"^\"], \" \", \n",
       "\n",
       " \n",
       ">              RowBox[{\"cos\", \"(\", \"ϕ\", \")\"}], \" \", \n",
       "\n",
       " \n",
       ">              RowBox[{\"(\", RowBox[{RowBox[{OverscriptBox[\"r\", \"^\"], \" \", \n",
       "\n",
       " \n",
       ">                    RowBox[{\"sin\", \"(\", \"ϕ\", \")\"}], \" \", \n",
       "\n",
       " \n",
       ">                    TemplateBox[List[SubscriptBox[OverscriptBox[\"f\", \"^\"], \n",
       "\n",
       " \n",
       ">                       RowBox[List[\"x\", \",\", \"y\"]]], \"\\\"(5)\\\"\"], \"Superscript\", \n",
       "\n",
       " \n",
       ">                     Rule[SyntaxForm, SuperscriptBox]]}], \"+\", \n",
       "\n",
       " \n",
       ">                  RowBox[{OverscriptBox[\"r\", \"^\"], \" \", \n",
       "\n",
       " \n",
       ">                    RowBox[{\"cos\", \"(\", \"ϕ\", \")\"}], \" \", \n",
       "\n",
       " \n",
       ">                    TemplateBox[List[SubscriptBox[OverscriptBox[\"f\", \"^\"], \n",
       "\n",
       " \n",
       ">                       RowBox[List[\"x\", \",\", \"x\"]]], \"\\\"(5)\\\"\"], \"Superscript\", \n",
       "\n",
       " \n",
       ">                     Rule[SyntaxForm, SuperscriptBox]]}]}], \")\"}]}], \"+\", \n",
       "\n",
       " \n",
       ">            RowBox[{OverscriptBox[\"r\", \"^\"], \" \", RowBox[{\"sin\", \"(\", \"ϕ\", \")\"}], \" \", \n",
       "\n",
       " \n",
       ">              RowBox[{\"(\", RowBox[{RowBox[{OverscriptBox[\"r\", \"^\"], \" \", \n",
       "\n",
       " \n",
       ">                    RowBox[{\"cos\", \"(\", \"ϕ\", \")\"}], \" \", \n",
       "\n",
       " \n",
       ">                    TemplateBox[List[SubscriptBox[OverscriptBox[\"f\", \"^\"], \n",
       "\n",
       " \n",
       ">                       RowBox[List[\"x\", \",\", \"y\"]]], \"\\\"(5)\\\"\"], \"Superscript\", \n",
       "\n",
       " \n",
       ">                     Rule[SyntaxForm, SuperscriptBox]]}], \"+\", \n",
       "\n",
       " \n",
       ">                  RowBox[{OverscriptBox[\"r\", \"^\"], \" \", RowBox[{\"sin\", \"(\", \"ϕ\", \")\"}],\\\n",
       " \n",
       ">    \n",
       "                 \" \", TemplateBox[List[SubscriptBox[OverscriptBox[\"f\", \"^\"], \n",
       "\n",
       " \n",
       ">                       RowBox[List[\"y\", \",\", \"y\"]]], \"\\\"(5)\\\"\"], \"Superscript\", \n",
       "\n",
       " \n",
       ">                     Rule[SyntaxForm, SuperscriptBox]]}]}], \")\"}]}]}], \")\"}]}], \n",
       "\n",
       " \n",
       ">      TraditionalForm]\n"
      ]
     },
     "execution_count": 57,
     "metadata": {
      "text/html": [],
      "text/plain": []
     },
     "output_type": "execute_result"
    }
   ],
   "source": [
    "fh5rhrh = 1/5 EinsteinSummation[{{i, j}, {i}, {j}}, {fh5, rh, rh}];\n",
    "fh5rhrh // TraditionalForm"
   ]
  },
  {
   "cell_type": "markdown",
   "metadata": {},
   "source": [
    "Безразмерный лагранжиан\n",
    "\n",
    "$$\n",
    "\\hat{L} = \\hat{T} - (\\hat{U} + \\frac{5}{2}\\epsilon_G\\hat{\\Phi}),\n",
    "$$\n",
    "или\n",
    "$$\n",
    "\\hat{L} = \\frac{1}{2} \\left((\\hat{r}^{(1)})^2 + \\hat{r}^2 \\hat{\\omega}^2 \\right) + \\frac{1}{\\hat{r}} - \\frac{\\epsilon_G}{2}\\hat{f}_{ij}^{(5)}\\hat{r}_i \\hat{r}_j.\n",
    "$$"
   ]
  },
  {
   "cell_type": "markdown",
   "metadata": {},
   "source": [
    "### **Уравнения Эйлера-Лагранжа**\n",
    "Уравнения Эйлера-Лагранжа имеют вид:\n",
    "$$\n",
    "\\frac{d}{dt} \\left( \\frac{\\partial \\hat{L}}{\\partial \\dot{q}_i} \\right) - \\frac{\\partial \\hat{L}}{\\partial q_i} = 0,\n",
    "$$\n",
    "где $q_i$ — обобщённые координаты ($\\hat{r}$ и $\\phi$)."
   ]
  },
  {
   "cell_type": "markdown",
   "metadata": {},
   "source": [
    "---\n",
    "\n",
    "#### Уравнение для координаты $\\hat{r}$:\n",
    "$$\n",
    "\\frac{d}{d\\hat{t}} \\left(\\frac{\\partial \\hat{L}}{\\partial \\hat{r}^{(1)}} \\right) - \\frac{\\partial \\hat{L}}{\\partial \\hat{r}} = 0.\n",
    "$$\n",
    "Вычислим производные:\n",
    "$$\n",
    "\\frac{\\partial \\hat{L}}{\\partial \\hat{r}^{(1)}} = \\hat{r}^{(1)}, \\quad \\frac{d}{d\\hat{t}} \\left( \\frac{\\partial \\hat{L}}{\\partial \\hat{r}^{(1)}} \\right) = \\hat{r}^{(2)},\n",
    "$$\n",
    "$$\n",
    "\\frac{\\partial \\hat{L}}{\\partial \\hat{r}} = \\hat{r} \\hat{\\omega}^2 - \\frac{1}{\\hat{r}^2} - \\frac{5}{2}\\epsilon_G\\frac{\\partial \\hat{\\Phi}}{\\partial \\hat{r}}.\n",
    "$$\n",
    "Подставляем в уравнение Эйлера-Лагранжа:\n",
    "$$\n",
    "\\hat{r}^{(2)} - \\hat{r} \\hat{\\omega}^2 + \\frac{1}{\\hat{r}^2} = - \\frac{5}{2}\\epsilon_G\\frac{\\partial \\hat{\\Phi}}{\\partial \\hat{r}}.\n",
    "$$\n",
    "\n",
    "Это **радиальное уравнение движения**.\n",
    "\n",
    "Здесь \n",
    "$$\n",
    "\\frac{\\partial \\hat{\\Phi}}{\\partial \\hat{r}} = \\frac{1}{5}\\hat{f}_{ij}^{(5)}\\left(\\frac{\\partial \\hat{r}_i}{\\partial \\hat{r}}\\hat{r}_j + \\hat{r}_i\\frac{\\partial \\hat{r}_j}{\\partial \\hat{r}}\\right)\n",
    "$$"
   ]
  },
  {
   "cell_type": "markdown",
   "metadata": {},
   "source": [
    "Правая часть радиального уравнения движения будет выглядеть как"
   ]
  },
  {
   "cell_type": "code",
   "execution_count": 59,
   "metadata": {
    "vscode": {
     "languageId": "wolfram"
    }
   },
   "outputs": [
    {
     "data": {
      "text/html": [
       "<div><img alt=\"Output\" src=\"data:image/png;base64,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\"></div>"
      ],
      "text/plain": [
       "FormBox[RowBox[{OverscriptBox[\"r\", \"^\"], \" \", \n",
       "\n",
       " \n",
       ">        RowBox[{\"(\", RowBox[{\"-\", SubscriptBox[\"ϵ\", \"G\"]}], \")\"}], \" \", \n",
       "\n",
       " \n",
       ">        RowBox[{\"(\", RowBox[{RowBox[{RowBox[{\"sin\", \"(\", RowBox[{\"2\", \" \", \"ϕ\"}], \n",
       "\n",
       " \n",
       ">                \")\"}], \" \", TemplateBox[List[SubscriptBox[OverscriptBox[\"f\", \"^\"], \n",
       "\n",
       " \n",
       ">                 RowBox[List[\"x\", \",\", \"y\"]]], \"\\\"(5)\\\"\"], \"Superscript\", \n",
       "\n",
       " \n",
       ">               Rule[SyntaxForm, SuperscriptBox]]}], \"+\", \n",
       "\n",
       " \n",
       ">            RowBox[{RowBox[{SuperscriptBox[\"cos\", \"2\"], \"(\", \"ϕ\", \")\"}], \" \", \n",
       "\n",
       " \n",
       ">              TemplateBox[List[SubscriptBox[OverscriptBox[\"f\", \"^\"], \n",
       "\n",
       " \n",
       ">                 RowBox[List[\"x\", \",\", \"x\"]]], \"\\\"(5)\\\"\"], \"Superscript\", \n",
       "\n",
       " \n",
       ">               Rule[SyntaxForm, SuperscriptBox]]}], \"+\", \n",
       "\n",
       " \n",
       ">            RowBox[{RowBox[{SuperscriptBox[\"sin\", \"2\"], \"(\", \"ϕ\", \")\"}], \" \", \n",
       "\n",
       " \n",
       ">              TemplateBox[List[SubscriptBox[OverscriptBox[\"f\", \"^\"], \n",
       "\n",
       " \n",
       ">                 RowBox[List[\"y\", \",\", \"y\"]]], \"\\\"(5)\\\"\"], \"Superscript\", \n",
       "\n",
       " \n",
       ">               Rule[SyntaxForm, SuperscriptBox]]}]}], \")\"}]}], TraditionalForm]\n"
      ]
     },
     "execution_count": 59,
     "metadata": {
      "text/html": [],
      "text/plain": []
     },
     "output_type": "execute_result"
    }
   ],
   "source": [
    "RHSMotionRadialLagrange = - 1/2 Subscript[\\[Epsilon], G] FullSimplify[EinsteinSummation[{{i, j}, {i}, {j}}, {fh5, D[rh, OverHat[r][OverHat[t]]], rh}] + EinsteinSummation[{{i, j}, {i}, {j}}, {fh5, rh, D[rh, OverHat[r][OverHat[t]]]}]];\n",
    "RHSMotionRadialLagrange // TraditionalForm"
   ]
  },
  {
   "cell_type": "markdown",
   "metadata": {},
   "source": [
    "<span style=\"color:brown\">**NB:**</span> Выражение <span style=\"color:green\">**совпадает**</span> с раннее полученным уравнением и с уравнением (10) из файла Binary.pdf"
   ]
  },
  {
   "cell_type": "code",
   "execution_count": 60,
   "metadata": {
    "vscode": {
     "languageId": "wolfram"
    }
   },
   "outputs": [
    {
     "data": {
      "text/html": [
       "<div><pre style=\"&#102;&#111;&#110;&#116;&#45;&#102;&#97;&#109;&#105;&#108;&#121;&#58;&#32;&#34;&#67;&#111;&#117;&#114;&#105;&#101;&#114;&#32;&#78;&#101;&#119;&#34;&#44;&#67;&#111;&#117;&#114;&#105;&#101;&#114;&#44;&#109;&#111;&#110;&#111;&#115;&#112;&#97;&#99;&#101;&#59;\">&#48;</pre></div>"
      ],
      "text/plain": [
       "0"
      ]
     },
     "execution_count": 60,
     "metadata": {
      "text/html": [],
      "text/plain": []
     },
     "output_type": "execute_result"
    }
   ],
   "source": [
    "RHSMotion[[1]] - RHSMotionRadialLagrange"
   ]
  },
  {
   "cell_type": "markdown",
   "metadata": {},
   "source": [
    "---\n",
    "\n",
    "#### Уравнение для координаты $\\phi$:\n",
    "$$\n",
    "\\frac{d}{d\\hat{t}} \\left(\\frac{\\partial \\hat{L}}{\\partial \\hat{\\omega}} \\right) - \\frac{\\partial \\hat{L}}{\\partial \\phi} = 0.\n",
    "$$\n",
    "Вычислим производные:\n",
    "$$\n",
    "\\frac{\\partial \\hat{L}}{\\partial \\hat{\\omega}} = \\hat{r}^2 \\hat{\\omega}, \\quad \\frac{d}{d\\hat{t}} \\left( \\frac{\\partial \\hat{L}}{\\partial \\hat{\\omega}} \\right) = \\frac{d}{d\\hat{t}} \\left( \\hat{r}^2 \\hat{\\omega} \\right),\n",
    "$$\n",
    "$$\n",
    "\\frac{\\partial \\hat{L}}{\\partial \\phi} = - \\frac{5}{2}\\epsilon_G\\frac{\\partial \\hat{\\Phi}}{\\partial \\phi}.\n",
    "$$\n",
    "Подставляем в уравнение Эйлера-Лагранжа:\n",
    "$$\n",
    "\\frac{1}{\\hat{r}}\\frac{d}{d\\hat{t}} \\left( \\hat{r}^2 \\hat{\\omega} \\right) = \\frac{1}{\\hat{r}}\\frac{d\\hat{J}}{d\\hat{t}} = - \\frac{5}{2}\\frac{\\epsilon_G}{\\hat{r}}\\frac{\\partial \\hat{\\Phi}}{\\partial \\phi}.\n",
    "$$\n",
    "\n",
    "Здесь \n",
    "$$\n",
    "\\frac{\\partial \\hat{\\Phi}}{\\partial \\phi} = \\frac{1}{5}\\hat{f}_{ij}^{(5)}\\left(\\frac{\\partial \\hat{r}_i}{\\partial \\phi}\\hat{r}_j + \\hat{r}_i\\frac{\\partial \\hat{r}_j}{\\partial \\phi}\\right)\n",
    "$$"
   ]
  },
  {
   "cell_type": "markdown",
   "metadata": {},
   "source": [
    "Правая часть уравнения движения для $\\phi$ будет выглядеть как"
   ]
  },
  {
   "cell_type": "code",
   "execution_count": 62,
   "metadata": {
    "vscode": {
     "languageId": "wolfram"
    }
   },
   "outputs": [
    {
     "data": {
      "text/html": [
       "<div><img alt=\"Output\" src=\"data:image/png;base64,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\"></div>"
      ],
      "text/plain": [
       "FormBox[RowBox[{RowBox[{\"-\", FractionBox[\"1\", \"2\"]}], \" \", OverscriptBox[\"r\", \"^\"], \n",
       "\n",
       " \n",
       ">        \" \", SubscriptBox[\"ϵ\", \"G\"], \" \", \n",
       "\n",
       " \n",
       ">        RowBox[{\"(\", RowBox[{RowBox[{RowBox[{\"sin\", \"(\", RowBox[{\"2\", \" \", \"ϕ\"}], \n",
       "\n",
       " \n",
       ">                \")\"}], \" \", RowBox[{\"(\", \n",
       "\n",
       " \n",
       ">                RowBox[{TemplateBox[List[SubscriptBox[OverscriptBox[\"f\", \"^\"], \n",
       "\n",
       " \n",
       ">                     RowBox[List[\"y\", \",\", \"y\"]]], \"\\\"(5)\\\"\"], \"Superscript\", \n",
       "\n",
       " \n",
       ">                   Rule[SyntaxForm, SuperscriptBox]], \"-\", \n",
       "\n",
       " \n",
       ">                  TemplateBox[List[SubscriptBox[OverscriptBox[\"f\", \"^\"], \n",
       "\n",
       " \n",
       ">                     RowBox[List[\"x\", \",\", \"x\"]]], \"\\\"(5)\\\"\"], \"Superscript\", \n",
       "\n",
       " \n",
       ">                   Rule[SyntaxForm, SuperscriptBox]]}], \")\"}]}], \"+\", \n",
       "\n",
       " \n",
       ">            RowBox[{\"2\", \" \", RowBox[{\"cos\", \"(\", RowBox[{\"2\", \" \", \"ϕ\"}], \")\"}], \" \", \n",
       "\n",
       " \n",
       ">              TemplateBox[List[SubscriptBox[OverscriptBox[\"f\", \"^\"], \n",
       "\n",
       " \n",
       ">                 RowBox[List[\"x\", \",\", \"y\"]]], \"\\\"(5)\\\"\"], \"Superscript\", \n",
       "\n",
       " \n",
       ">               Rule[SyntaxForm, SuperscriptBox]]}]}], \")\"}]}], TraditionalForm]\n"
      ]
     },
     "execution_count": 62,
     "metadata": {
      "text/html": [],
      "text/plain": []
     },
     "output_type": "execute_result"
    }
   ],
   "source": [
    "RHSMotionPhiLagrange = - 1/2 Subscript[\\[Epsilon], G] FullSimplify[EinsteinSummation[{{i, j}, {i}, {j}}, {fh5, D[rh, \\[Phi][OverHat[t]]], rh}] + EinsteinSummation[{{i, j}, {i}, {j}}, {fh5, rh, D[rh, \\[Phi][OverHat[t]]]}]]/OverHat[r][OverHat[t]];\n",
    "RHSMotionPhiLagrange // TraditionalForm"
   ]
  },
  {
   "cell_type": "markdown",
   "metadata": {},
   "source": [
    "<span style=\"color:brown\">**NB:**</span> Выражение <span style=\"color:green\">**совпадает**</span> с раннее полученным уравнением и с уравнением (9) из файла Binary.pdf"
   ]
  },
  {
   "cell_type": "code",
   "execution_count": 63,
   "metadata": {
    "vscode": {
     "languageId": "wolfram"
    }
   },
   "outputs": [
    {
     "data": {
      "text/html": [
       "<div><pre style=\"&#102;&#111;&#110;&#116;&#45;&#102;&#97;&#109;&#105;&#108;&#121;&#58;&#32;&#34;&#67;&#111;&#117;&#114;&#105;&#101;&#114;&#32;&#78;&#101;&#119;&#34;&#44;&#67;&#111;&#117;&#114;&#105;&#101;&#114;&#44;&#109;&#111;&#110;&#111;&#115;&#112;&#97;&#99;&#101;&#59;\">&#48;</pre></div>"
      ],
      "text/plain": [
       "0"
      ]
     },
     "execution_count": 63,
     "metadata": {
      "text/html": [],
      "text/plain": []
     },
     "output_type": "execute_result"
    }
   ],
   "source": [
    "RHSMotion[[2]] - RHSMotionPhiLagrange"
   ]
  },
  {
   "cell_type": "markdown",
   "metadata": {},
   "source": [
    "## Получим **энергетическую** систему уравнений в подходе Лагранжа"
   ]
  },
  {
   "cell_type": "markdown",
   "metadata": {},
   "source": [
    "Заметим, что энергия системы:\n",
    "$$\n",
    "\\hat{E} = \\frac{(\\hat{r}^{(1)})^2}{2} + \\frac{\\hat{r}^2 \\hat{\\omega}^2}{2} - \\frac{1}{\\hat{r}}\n",
    "$$\n",
    "$$\n",
    "\\frac{1}{\\hat{r}^{(1)}}\\left(\\frac{d\\hat{E}}{d\\hat{t}} - \\hat{\\omega} \\frac{d\\hat{J}}{d\\hat{t}}\\right) = \\hat{r}^{(2)} - \\hat{r} \\hat{\\omega}^2 + \\frac{1}{\\hat{r}^2}\n",
    "$$\n",
    "\n",
    "А также уравнение для изменения момента импульса системы есть\n",
    "$$\n",
    "\\frac{d\\hat{J}}{d\\hat{t}} = - \\frac{5}{2}\\epsilon_G\\frac{\\partial \\hat{\\Phi}}{\\partial \\phi}.\n",
    "$$\n",
    "\n",
    "Итоговая энергетическая система, выведенная по-новому будет записываться как:\n",
    "\n",
    "$$\n",
    "\\begin{align}\n",
    "\\frac{d\\hat{E}}{d\\hat{t}} &= - \\frac{5}{2}\\epsilon_G\\left(\\hat{r}^{(1)}\\frac{\\partial \\hat{\\Phi}}{\\partial \\hat{r}} + \\hat{\\omega} \\frac{\\partial \\hat{\\Phi}}{\\partial \\phi}\\right)\n",
    "  = - \\frac{\\epsilon_G}{2}\\hat{f}_{ij}^{(5)}\\left(\\frac{d\\hat{r}_i}{d\\hat{t}}\\hat{r}_j + \\hat{r}_i\\frac{d\\hat{r}_j}{d\\hat{t}}\\right)\n",
    "  = - \\frac{\\epsilon_G}{2}\\hat{f}_{ij}^{(5)}\\frac{d(\\hat{r}_i \\hat{r}_j)}{d\\hat{t}}\n",
    "\\\\\n",
    "\\frac{d\\hat{J}}{d\\hat{t}} &= - \\frac{5}{2}\\epsilon_G\\frac{\\partial \\hat{\\Phi}}{\\partial \\phi}\n",
    "  = - \\frac{\\epsilon_G}{2}\\hat{f}_{ij}^{(5)}\\left(\\frac{\\partial \\hat{r}_i}{\\partial \\phi}\\hat{r}_j + \\hat{r}_i\\frac{\\partial \\hat{r}_j}{\\partial \\phi}\\right)\n",
    "  = - \\frac{\\epsilon_G}{2}\\hat{f}_{ij}^{(5)}\\frac{d(\\hat{r}_i \\hat{r}_j)}{d\\phi}\n",
    "\\end{align}\n",
    "$$"
   ]
  },
  {
   "cell_type": "code",
   "execution_count": 65,
   "metadata": {
    "vscode": {
     "languageId": "wolfram"
    }
   },
   "outputs": [
    {
     "data": {
      "text/html": [
       "<div><img alt=\"Output\" src=\"data:image/png;base64,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\"></div>"
      ],
      "text/plain": [
       "FormBox[TagBox[RowBox[{\"(\", \"⁠\", \n",
       "\n",
       " \n",
       ">         TagBox[GridBox[{{RowBox[{OverscriptBox[\"r\", \"^\"], \" \", \n",
       "\n",
       " \n",
       ">               RowBox[{\"(\", RowBox[{\"-\", SubscriptBox[\"ϵ\", \"G\"]}], \")\"}], \" \", \n",
       "\n",
       " \n",
       ">               RowBox[{\"(\", RowBox[{RowBox[{OverscriptBox[\"r\", \"^\"], \" \", \n",
       "\n",
       " \n",
       ">                     OverscriptBox[\"ω\", \"^\"], \" \", \n",
       "\n",
       " \n",
       ">                     RowBox[{\"(\", RowBox[{RowBox[{RowBox[{\"cos\", \"(\", \n",
       "\n",
       " \n",
       ">                             RowBox[{\"2\", \" \", \"ϕ\"}], \")\"}], \" \", \n",
       "\n",
       " \n",
       ">                           TemplateBox[List[SubscriptBox[OverscriptBox[\"f\", \n",
       "\n",
       " \n",
       ">                             \"^\"], RowBox[List[\"x\", \",\", \"y\"]]], \"\\\"(5)\\\"\"], \n",
       "\n",
       " \n",
       ">                            \"Superscript\", Rule[SyntaxForm, SuperscriptBox]]}], \n",
       "\n",
       " \n",
       ">                         \"+\", RowBox[{RowBox[{\"sin\", \"(\", \"ϕ\", \")\"}], \" \", \n",
       "\n",
       " \n",
       ">                           RowBox[{\"cos\", \"(\", \"ϕ\", \")\"}], \" \", \n",
       "\n",
       " \n",
       ">                           RowBox[{\"(\", \n",
       "\n",
       " \n",
       ">                             RowBox[{TemplateBox[List[SubscriptBox[\n",
       "\n",
       " \n",
       ">                             OverscriptBox[\"f\", \"^\"], \n",
       "\n",
       " \n",
       ">                             RowBox[List[\"y\", \",\", \"y\"]]], \"\\\"(5)\\\"\"], \n",
       "\n",
       " \n",
       ">                             \"Superscript\", Rule[SyntaxForm, SuperscriptBox]], \n",
       "\n",
       " \n",
       ">                              \"-\", \n",
       "\n",
       " \n",
       ">                              TemplateBox[List[SubscriptBox[OverscriptB\\\n",
       "\n",
       " \n",
       ">   ox[\"f\", \"^\"], RowBox[List[\"x\", \",\", \"x\"]]], \"\\\"(5)\\\"\"], \"Superscript\", \n",
       "\n",
       " \n",
       ">                              Rule[SyntaxForm, SuperscriptBox]]}], \")\"}]}]}], \")\"}]\\\n",
       "\n",
       " \n",
       ">   }], \"+\", RowBox[{SuperscriptBox[OverscriptBox[\"r\", \"^\"], \"′\"], \" \", \n",
       "\n",
       " \n",
       ">                     RowBox[{\"(\", RowBox[{RowBox[{RowBox[{\"sin\", \"(\", \n",
       "\n",
       " \n",
       ">                             RowBox[{\"2\", \" \", \"ϕ\"}], \")\"}], \" \", \n",
       "\n",
       " \n",
       ">                           TemplateBox[List[SubscriptBox[OverscriptBox[\"f\", \n",
       "\n",
       " \n",
       ">                             \"^\"], RowBox[List[\"x\", \",\", \"y\"]]], \"\\\"(5)\\\"\"], \n",
       "\n",
       " \n",
       ">                            \"Superscript\", Rule[SyntaxForm, SuperscriptBox]]}], \n",
       "\n",
       " \n",
       ">                         \"+\", RowBox[{RowBox[{SuperscriptBox[\"cos\", \"2\"], \"(\", \n",
       "\n",
       " \n",
       ">                             \"ϕ\", \")\"}], \" \", \n",
       "\n",
       " \n",
       ">                           TemplateBox[List[SubscriptBox[OverscriptBox[\"f\", \n",
       "\n",
       " \n",
       ">                             \"^\"], RowBox[List[\"x\", \",\", \"x\"]]], \"\\\"(5)\\\"\"], \n",
       "\n",
       " \n",
       ">                            \"Superscript\", Rule[SyntaxForm, SuperscriptBox]]}], \n",
       "\n",
       " \n",
       ">                         \"+\", RowBox[{RowBox[{SuperscriptBox[\"sin\", \"2\"], \"(\", \n",
       "\n",
       " \n",
       ">                             \"ϕ\", \")\"}], \" \", \n",
       "\n",
       " \n",
       ">                           TemplateBox[List[SubscriptBox[OverscriptBox[\"f\", \n",
       "\n",
       " \n",
       ">                             \"^\"], RowBox[List[\"y\", \",\", \"y\"]]], \"\\\"(5)\\\"\"], \n",
       "\n",
       " \n",
       ">                            \"Superscript\", Rule[SyntaxForm, SuperscriptBox]]}]}], \n",
       "\n",
       " \n",
       ">                       \")\"}]}]}], \")\"}]}]}, \n",
       "\n",
       " \n",
       ">            {RowBox[{RowBox[{\"-\", FractionBox[\"1\", \"2\"]}], \" \", \n",
       "\n",
       " \n",
       ">               SuperscriptBox[OverscriptBox[\"r\", \"^\"], \"2\"], \" \", \n",
       "\n",
       " \n",
       ">               SubscriptBox[\"ϵ\", \"G\"], \" \", \n",
       "\n",
       " \n",
       ">               RowBox[{\"(\", RowBox[{RowBox[{RowBox[{\"sin\", \"(\", \n",
       "\n",
       " \n",
       ">                       RowBox[{\"2\", \" \", \"ϕ\"}], \")\"}], \" \", \n",
       "\n",
       " \n",
       ">                     RowBox[{\"(\", RowBox[{TemplateBox[List[SubscriptBox[\n",
       "\n",
       " \n",
       ">                            OverscriptBox[\"f\", \"^\"], \n",
       "\n",
       " \n",
       ">                            RowBox[List[\"y\", \",\", \"y\"]]], \"\\\"(5)\\\"\"], \n",
       "\n",
       " \n",
       ">                          \"Superscript\", Rule[SyntaxForm, SuperscriptBox]], \"-\", \n",
       "\n",
       " \n",
       ">                         TemplateBox[List[SubscriptBox[OverscriptBox[\"f\", \"^\"], \n",
       "\n",
       " \n",
       ">                            RowBox[List[\"x\", \",\", \"x\"]]], \"\\\"(5)\\\"\"], \n",
       "\n",
       " \n",
       ">                          \"Superscript\", Rule[SyntaxForm, SuperscriptBox]]}], \")\"}]}\\\n",
       "\n",
       " \n",
       ">   ], \"+\", RowBox[{\"2\", \" \", RowBox[{\"cos\", \"(\", RowBox[{\"2\", \" \", \"ϕ\"}], \")\"}], \n",
       "\n",
       " \n",
       ">                     \" \", TemplateBox[List[SubscriptBox[OverscriptBox[\"f\", \"^\"], \n",
       "\n",
       " \n",
       ">                        RowBox[List[\"x\", \",\", \"y\"]]], \"\\\"(5)\\\"\"], \"Superscript\", \n",
       "\n",
       " \n",
       ">                      Rule[SyntaxForm, SuperscriptBox]]}]}], \")\"}]}]}}, \n",
       "\n",
       " \n",
       ">           Rule[RowSpacings, 1], Rule[ColumnAlignments, Center], \n",
       "\n",
       " \n",
       ">           Rule[ColumnAlignments, Left]], Column], \"⁠\", \")\"}], \n",
       "\n",
       " \n",
       ">       Function[BoxForm`e$, MatrixForm[BoxForm`e$]]], TraditionalForm]\n"
      ]
     },
     "execution_count": 65,
     "metadata": {
      "text/html": [],
      "text/plain": []
     },
     "output_type": "execute_result"
    }
   ],
   "source": [
    "RHSEnegryLagrange = - 5/2 Subscript[\\[Epsilon],G] FullSimplify[{\n",
    "  D[fh5rhrh, OverHat[t]] /. OmegaReplace,\n",
    "  D[fh5rhrh, \\[Phi][OverHat[t]]]\n",
    "}, Trig -> True];\n",
    "\n",
    "RHSEnegryLagrange // MatrixForm // TraditionalForm"
   ]
  },
  {
   "cell_type": "markdown",
   "metadata": {},
   "source": [
    "<span style=\"color:brown\">**NB:**</span> Выражения полностью <span style=\"color:green\">**совпадают**</span> с предыдущим ньютоновым подходом!"
   ]
  },
  {
   "cell_type": "code",
   "execution_count": 66,
   "metadata": {
    "vscode": {
     "languageId": "wolfram"
    }
   },
   "outputs": [
    {
     "data": {
      "text/html": [
       "<div><img alt=\"Output\" src=\"data:image/png;base64,iVBORw0KGgoAAAANSUhEUgAAADwAAAA7CAIAAACom36dAAAAzHpUWHRSYXcgcHJvZmlsZSB0eXBlIGV4aWYAAHjabU/bDQMhDPtnio4QEnBgHLjjpG7Q8RuOqBVVLREb5wVhvJ5XeExwpJCyFlSADKmmys1EoYXFkeodb8jhubj7Qbr7zaz8TWC433dfsZjLzyBi3zQ3mJbkDT5IePmxrXv3em6l7IOENlT6PP3vPYkyMqImi4lJFdV0CSaNkJmy4sIBWGHEyZQO4wFVa4POCmmzcYKH7tUjQMw45xdknizNWCxGKTwd1xZZKnfP3h8Jb5YtWu/7+fY0AAAACXBIWXMAABYlAAAWJQFJUiTwAAAAPHRFWHRTb2Z0d2FyZQBDcmVhdGVkIHdpdGggdGhlIFdvbGZyYW0gTGFuZ3VhZ2UgOiB3d3cud29sZnJhbS5jb21coqaFAAAAIXRFWHRDcmVhdGlvbiBUaW1lADIwMjU6MDM6MTggMjM6MTg6MjmwJsLwAAAGGUlEQVRoQ+2aS0hVXRTH08h8m5rlI1MoE5PExB4TQSeCA1NHDXReA6kQnEjQAyyEjBClSeBAC2wiQoHQwCeJqWg+IqWHlmZlPvAtpvb72B+Xi92z9z7nnk8Rvj04XI/r8d9rr73W3msdj62trX17bXgqAS8tLS0uLirJnAnm5ubevXu3sbFhimt5eXl+fl6LBUvLR15eXnFxsYrq3//fu3cvISHBw8MD3X5+funp6V1dXZq8Dx8+vHDhgg7xPjnR7OzswYMH29vblbLW1tYKCgqEnTw9Pf39/cVvX1/fhoYGJTsEHz58gJ6nklgB+smTJ5GRkZubm0pB5eXlAuW1a9dwD+gHBgbi4uJ44+3t/fPnT6UECJKSku7cuaOkVIDOyMgoLCxUSvn9+3dMTAz48vPznYm/ffsWGBjI+7t37yqFQHD79u34+HglpQz0+Pg4C93S0qKUUl9fL8zc09OzjfjKlSu8P3r0KPtSKae/vx/i7u5uOaUM9OPHj0NCQnSUYSGUsQX/Vtba2irmg9WVoCE4efKkct/LQl5bW9v58+cxtjIMsSbQoE9QNjY2lpaWjo2NOb+cmJhQyoEgMzOTfS+nVIPW0SQA4QM8Ozo6srKybt68SazkzyNHjohpi4kpR0pKSm9v7/r6uoTSEPSXL1++fv2KpZVqIPj16xdPfInn27dvBQvRY3V1df/+/QEBAQ4apbSzZ8/CJZzbaBiCxjfg0QR9+PBhiIl0PHNzc0NDQ/lB2CbYsSUWFhb4U9AoR2Ji4oEDB968eWMRdGxsbFhYmFINBFFRUTx//PjBMzw8HG/5/PlzdXW1MDBhnh/Hjh3TEUUuY0NbBI1jnTt3TkeNA9DHjx8FPYqZsPj96dMn8UNMTGfgIZ2dnVYsPTo6euLECR0d0JDJeA4ODv7ti0+fPuVf7FGxTXUGoEdGRkhYRsSufZoDF4n3+PHjOjqgyc7Ojo6O5kdFRYUzC77x7Nkz3ly9elUndApejMVOmJycNNTuMuAPDQ3B8OLFC510IGjKysqEjlu3bhGweEM2ESvg5eX1/ft3fVGkVbhev35txOI6I758+RI21lpfE4tz6dIlgZvzBkFAmJZQgIfoy4FS2Liurs4c6KqqKtjEYU1/4IXXr18PDg52LCunn1evXulLEJT4BtGdY6M50GR/rGVWmaAnwOFdTU1NOLQ1CXARam7cuGHE7nojskBiY1kYXFtOnz7NnUWkGGuDQ7wk7bsGvbKy4o5Ka0CduQAtUpXLYQjax8fHfd2WJRw6dAjD7THQmMw0aM5ZnHUs28l9RiugmeXuugcmM23pXQeNyVhtcz4Nw5609K77NNUfkouJkAe1KG3t4iCTm3MPuUvtwEzE5dLIcK6Ty66DlkcCQ9CSiLMzlpZEgv8tbd8SyGPuf2Jpa50A5ynjnBS2dyh63L9/n8M0pSauW0FBQVSKKYFaWABFSnZ5O6A+e+bMGVP3Dvc7Ac7qmG1OTo65mwvFA816ocOKlZWVtbW1/EknYGZmhlKY6ARw4b18+fLU1JQpe6NdVsBwOZuamhp00NfSNLZdnQCHOuLdgwcPzF1sm5ubAT08PKwJ2q5OgFA3PT2N9ufPn5t2D9go9WquqSjvUjikuryNhS4Mb7jwSe5821iEXol7uA55VDgptei7tY2dAOAKaaZBUxaiYqsP2sZOgABNJQ0A5uI01KdOnXr//r2me9jYCUAjLWraN5KzsWEngI6vfl6wsRMAaDrTaJfYyxD0xYsXiR6aHXYbOwFEz76+PrRbAS1666LqqhyiNWFLJ4A6IDncIuiIiAj2LyulRAyBjZ0AfJKPATi6WLE0PExXE7SNnQA0pqamSi6I/0xGkvMePXqEvXU+QUCIXZ0AbFxSUiLPxDLQ9D+JO5I2grNoWzoB9Iew499fBWybg+LTibS0tKKiIs0TiPudAI7j5AelOgVoPkTgQw6lFGcCdzoBdC7pMynVKUCT6kTTVynIfQK+WsAbScNKUYrPIugH8C2D4+SpE/4s0/CpU3JyMr0lpQQPo3qZg1P0ezSb5Ep9EgLuO9zZiFdKIWrQShE7T6D+ambnMSk1/gH51/cBc6FFegAAAABJRU5ErkJggg==\"></div>"
      ],
      "text/plain": [
       "0\n",
       "\n",
       "0"
      ]
     },
     "execution_count": 66,
     "metadata": {
      "text/html": [],
      "text/plain": []
     },
     "output_type": "execute_result"
    }
   ],
   "source": [
    "FullSimplify[RHSEnegryLagrange - RHSEnegry] // MatrixForm"
   ]
  },
  {
   "cell_type": "markdown",
   "metadata": {},
   "source": [
    "В **размерной** же записи наши уравнения превращаются в\n",
    "$$\n",
    "\\begin{align}\n",
    "\\frac{dE}{dt} &=\n",
    "  - \\frac{1}{5}f_{ij}^{(5)} \\mu \\frac{d(r_i r_j)}{dt}\n",
    "  = - \\frac{1}{5}\\frac{c^5}{G}f_{ij}^{(5)} \\frac{d}{dt}\\left(f_{ij} + \\frac{1}{3} \\delta_{ij}r^2\\right)\n",
    "  = - \\frac{1}{5}\\frac{c^5}{G}f_{ij}^{(5)} \\frac{df_{ij}}{dt}\n",
    "\\\\\n",
    "\\frac{dJ}{dt} &=\n",
    "  - \\frac{1}{5}f_{ij}^{(5)} \\mu \\frac{d(r_i r_j)}{d\\phi}\n",
    "  = - \\frac{1}{5}\\frac{c^5}{G}f_{ij}^{(5)} \\frac{d}{d\\phi}\\left(f_{ij} + \\frac{1}{3} \\delta_{ij}r^2\\right)\n",
    "  = - \\frac{1}{5}\\frac{c^5}{G}f_{ij}^{(5)} \\frac{df_{ij}}{d\\phi}\n",
    "  = - \\frac{2}{5}\\frac{c^5}{G}\\epsilon_{ij}f_{ik}^{(5)} f_{kj}\n",
    "\\end{align}\n",
    "$$\n",
    "\n",
    "Здесь учтено, что квадрупольный момент бесследовый\n",
    "$$\n",
    "\\begin{align}\n",
    "\\text{Tr}(f_{ij}) &= \\delta_{ij}f_{ij} = 0\n",
    "\\\\\n",
    "\\text{Tr}(f^{(5)}_{ij}) &= \\delta_{ij}f^{(5)}_{ij} = 0\n",
    "\\\\\n",
    "\\end{align}\n",
    "$$"
   ]
  },
  {
   "cell_type": "code",
   "execution_count": 69,
   "metadata": {
    "vscode": {
     "languageId": "wolfram"
    }
   },
   "outputs": [
    {
     "data": {
      "text/html": [
       "<div><img alt=\"Output\" src=\"data:image/png;base64,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\"></div>"
      ],
      "text/plain": [
       "FormBox[RowBox[{RowBox[{\"-\", FractionBox[\"1\", \"5\"]}], \" \", \n",
       "\n",
       " \n",
       ">        SuperscriptBox[OverscriptBox[\"r\", \"^\"], \"2\"], \" \", \n",
       "\n",
       " \n",
       ">        RowBox[{\"(\", RowBox[{RowBox[{RowBox[{\"sin\", \"(\", RowBox[{\"2\", \" \", \"ϕ\"}], \n",
       "\n",
       " \n",
       ">                \")\"}], \" \", RowBox[{\"(\", \n",
       "\n",
       " \n",
       ">                RowBox[{TemplateBox[List[SubscriptBox[OverscriptBox[\"f\", \"^\"], \n",
       "\n",
       " \n",
       ">                     RowBox[List[\"x\", \",\", \"x\"]]], \"\\\"(5)\\\"\"], \"Superscript\", \n",
       "\n",
       " \n",
       ">                   Rule[SyntaxForm, SuperscriptBox]], \"-\", \n",
       "\n",
       " \n",
       ">                  TemplateBox[List[SubscriptBox[OverscriptBox[\"f\", \"^\"], \n",
       "\n",
       " \n",
       ">                     RowBox[List[\"y\", \",\", \"y\"]]], \"\\\"(5)\\\"\"], \"Superscript\", \n",
       "\n",
       " \n",
       ">                   Rule[SyntaxForm, SuperscriptBox]]}], \")\"}]}], \"-\", \n",
       "\n",
       " \n",
       ">            RowBox[{\"2\", \" \", RowBox[{\"cos\", \"(\", RowBox[{\"2\", \" \", \"ϕ\"}], \")\"}], \" \", \n",
       "\n",
       " \n",
       ">              TemplateBox[List[SubscriptBox[OverscriptBox[\"f\", \"^\"], \n",
       "\n",
       " \n",
       ">                 RowBox[List[\"x\", \",\", \"y\"]]], \"\\\"(5)\\\"\"], \"Superscript\", \n",
       "\n",
       " \n",
       ">               Rule[SyntaxForm, SuperscriptBox]]}]}], \")\"}]}], TraditionalForm]\n"
      ]
     },
     "execution_count": 69,
     "metadata": {
      "text/html": [],
      "text/plain": []
     },
     "output_type": "execute_result"
    }
   ],
   "source": [
    "(* Доказатество последнего равенства в уравнении для изменениия момента импульса *)\n",
    "leviCivitaArray = Normal[LeviCivitaTensor[2]];\n",
    "-2/5 FullSimplify[EinsteinSummation[{{i, j}, {i, k}, {k, j}}, {leviCivitaArray, fh5, fh}]] // TraditionalForm"
   ]
  },
  {
   "cell_type": "markdown",
   "metadata": {},
   "source": [
    "<span style=\"color:brown\">**NB:**</span> Выражения полностью <span style=\"color:green\">**совпадают**</span>\n",
    "с $dE/dt, dJ/dt$ из задачника Лайтман А., Пресс В., Прайс Р., Тюкольки С. - 1979 - Сборник задач по теории относительности и гравитации (Решение задачи 18.5, стр. 446-447)\n",
    "\n",
    "Не стоит забывать, что в задачнике система геометризированных единиц $G = c = 1$."
   ]
  },
  {
   "cell_type": "markdown",
   "metadata": {},
   "source": [
    "# Получим другим способом **энергетическую** систему уравнений через Гамильтонов подход\n",
    "\n",
    "## Гамильтониан системы\n",
    "\n",
    "$$\n",
    "H = T + (U + \\mu \\Phi) = E + \\mu \\Phi\n",
    "$$\n",
    "\n",
    "В обезразмеренном виде это будет\n",
    "\n",
    "$$\n",
    "\\hat{H} = \\hat{T} + (\\hat{U} + \\frac{5}{2}\\epsilon_G\\hat{\\Phi}) = \\hat{E} + \\frac{5}{2}\\epsilon_G\\hat{\\Phi}\n",
    "$$\n",
    "\n",
    "Общая форма уравнений Гамильтона гласит:\n",
    "$$\n",
    "\\frac{dA}{dt} = \\frac{\\partial A}{\\partial t} + \\{A, \\hat{H}\\},\n",
    "$$\n",
    "где $\\{A, B\\} = \\frac{\\partial A}{\\partial q_i}\\frac{\\partial B}{\\partial p_i} - \\frac{\\partial A}{\\partial p_i}\\frac{\\partial B}{\\partial q_i}$ - скобка Пуассона,\n",
    "а $q_i$ и $p_i$ - обобщённые координаты и импульсы соотвественно.\n",
    "\n",
    "В нашей задаче обобщённые координаты $(r, \\phi)$.\n",
    "\n",
    "А обобщённые импульсы это - радиальный импульс\n",
    "$p_{r} = \\frac{\\partial \\hat{L}}{\\partial \\dot{r}} = \\hat{r}^{(1)}$,\n",
    "\n",
    "и угловой импульс\n",
    "$p_{\\phi} = \\frac{\\partial \\hat{L}}{\\partial \\dot{\\phi}} = \\frac{\\partial \\hat{L}}{\\partial \\hat{\\omega}} = \\hat{r}^2 \\hat{\\omega} = \\hat{J}$, что есть момент импульса.\n",
    "\n",
    "Найдем как энергия $\\hat{E}$​ (без учета диссипации) эволюционирует под действием полного гамильтониана $Н$.\n",
    "\n",
    "Для этого заметим, что $\\{\\hat{E}, \\hat{E}\\} = 0$, а $\\frac{\\partial \\hat{T}}{\\partial t} = \\frac{\\partial \\hat{U}}{\\partial t} = \\frac{\\partial \\hat{E}}{\\partial t} = 0$, так как кинетическая и потенциальная энергии явно не зависят от времени.\n",
    "\n",
    "Отсюда получаем\n",
    "$$\n",
    "\\frac{d\\hat{E}}{dt} = \\frac{\\partial \\hat{E}}{\\partial t} + \\{\\hat{E}, \\hat{H}\\} = \\frac{5}{2}\\epsilon_G\\{\\hat{E}, \\hat{\\Phi}\\}.\n",
    "$$\n",
    "\n",
    "Учитывая, что уравнения Гамильтона для $\\hat{H}$ есть\n",
    "$$\n",
    "\\begin{align}\n",
    "\\frac{\\partial \\hat{H}}{\\partial q_i} = \\frac{\\partial \\hat{E}}{\\partial q_i} + \\frac{5}{2}\\epsilon_G\\frac{\\partial \\hat{\\Phi}}{\\partial q_i} &= -\\dot{p}_i\n",
    "\\\\\n",
    "\\frac{\\partial \\hat{H}}{\\partial p_i} = \\frac{\\partial \\hat{E}}{\\partial p_i} + \\frac{5}{2}\\epsilon_G\\frac{\\partial \\hat{\\Phi}}{\\partial p_i} &= \\dot{q}_i,\n",
    "\\end{align}\n",
    "$$\n",
    "а $\\frac{\\partial \\hat{\\Phi}}{\\partial p_i} = 0$, то получим\n",
    "$$\n",
    "\\frac{d\\hat{E}}{dt} = -\\frac{5}{2}\\epsilon_G \\dot{q}_i\\frac{\\partial \\hat{\\Phi}}{\\partial q_i} = - \\frac{5}{2}\\epsilon_G\\left(\\hat{r}^{(1)}\\frac{\\partial \\hat{\\Phi}}{\\partial \\hat{r}} + \\hat{\\omega} \\frac{\\partial \\hat{\\Phi}}{\\partial \\phi}\\right).\n",
    "$$\n",
    "\n",
    "Найдем как момент импульса $\\hat{J}$​ (без учета диссипации) эволюционирует под действием полного гамильтониана $\\hat{Н}$.\n",
    "\n",
    "Так как у $\\hat{J} = p_{\\phi}$ нет явной зависимости от времени, а обобщённые координаты и импульсы независимые переменные, то частные производные равны\n",
    "$$\n",
    "\\frac{\\partial \\hat{J}}{\\partial t} = \\frac{\\partial \\hat{J}}{\\partial \\hat{r}} = \\frac{\\partial \\hat{J}}{\\partial \\hat{\\phi}} = \\frac{\\partial \\hat{J}}{\\partial p_r} = 0,\n",
    "\\quad\n",
    "\\frac{\\partial \\hat{J}}{\\partial p_{\\phi}} = 1.\n",
    "$$\n",
    "Отсюда находим\n",
    "$$\n",
    "\\frac{d\\hat{J}}{dt} = \\frac{\\partial \\hat{J}}{\\partial t} + \\{\\hat{J}, \\hat{H}\\} = - \\frac{\\partial \\hat{H}}{\\partial \\phi} = -\\frac{5}{2}\\epsilon_G\\frac{\\partial \\hat{\\Phi}}{\\partial \\phi}.\n",
    "$$\n",
    "\n",
    "<span style=\"color:brown\">**NB:**</span> Выражения для $\\frac{d\\hat{E}}{dt}$ и $\\frac{d\\hat{J}}{dt}$ полностью <span style=\"color:green\">**совпадают**</span> с предыдущими подходами!"
   ]
  },
  {
   "cell_type": "markdown",
   "metadata": {},
   "source": [
    "# Итоговая система **энергетических** уравнений:\n",
    "\n",
    "$$\n",
    "\\begin{align}\n",
    "\\tag{dJ/dt}\n",
    "\\frac{d\\hat{J}}{d\\hat{t}} &= -\\frac{1}{2} \\epsilon_G\n",
    "\\hat{r}^2\n",
    "\\left(\n",
    "  \\sin (2 \\phi ) \\left(\\hat{f}_{y,y}{}^{\\text{(5)}}-\\hat{f}_{x,x}{}^{\\text{(5)}}\\right)+2 \\cos (2 \\phi ) \\hat{f}_{x,y}{}^{\\text{(5)}}\n",
    "\\right)\n",
    "= \\epsilon_G I_J\n",
    "\\\\\n",
    "\\tag{dE/dt}\n",
    "\\frac{d\\hat{E}}{d\\hat{t}} &= \\epsilon_G\n",
    "\\left(\n",
    "  I_J\\hat{\\omega}\n",
    "  -\\hat{r} \\hat{r}'\n",
    "  \\left(\n",
    "  \\sin (2 \\phi ) \\hat{f}_{x,y}{}^{\\text{(5)}}+\\cos ^2(\\phi ) \\hat{f}_{x,x}{}^{\\text{(5)}}+\\sin ^2(\\phi ) \\hat{f}_{y,y}{}^{\\text{(5)}}\n",
    "  \\right)\n",
    "\\right)\n",
    "= \\epsilon_G I_E\n",
    "\\end{align}\n",
    "$$"
   ]
  },
  {
   "cell_type": "markdown",
   "metadata": {},
   "source": [
    "# RHS уравнения (dJ/dt)\n",
    "\n",
    "Введём новое обозначение $\\hat{r}^2 \\equiv \\hat{r}_2$"
   ]
  },
  {
   "cell_type": "code",
   "execution_count": 70,
   "metadata": {
    "vscode": {
     "languageId": "wolfram"
    }
   },
   "outputs": [],
   "source": [
    "ToR2Replacement = {\n",
    "  OverHat[r][OverHat[t]] -> Sqrt[Subscript[OverHat[r],2][OverHat[t]]],\n",
    "  Derivative[n_][OverHat[r]][OverHat[t]] :> D[Sqrt[Subscript[OverHat[r], 2][OverHat[t]]], {OverHat[t], n}]\n",
    "};"
   ]
  },
  {
   "cell_type": "markdown",
   "metadata": {},
   "source": [
    "и подставим в (dJ/dt) значения $\\hat{f}_{i,j}^{(5)}$:"
   ]
  },
  {
   "cell_type": "code",
   "execution_count": 76,
   "metadata": {
    "vscode": {
     "languageId": "wolfram"
    }
   },
   "outputs": [
    {
     "data": {
      "text/html": [
       "<div><img alt=\"Output\" src=\"data:image/png;base64,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\"></div>"
      ],
      "text/plain": [
       "FormBox[RowBox[{SubscriptBox[OverscriptBox[\"r\", \"^\"], \"2\"], \" \", \n",
       "\n",
       " \n",
       ">        RowBox[{\"(\", RowBox[{RowBox[{\"-\", \n",
       "\n",
       " \n",
       ">              RowBox[{\"5\", \" \", SuperscriptBox[SubscriptBox[OverscriptBox[\"r\", \"^\"], \n",
       "\n",
       " \n",
       ">                  \"2\"], \"′\"], \" \", SuperscriptBox[OverscriptBox[\"ω\", \"^\"], \"′′′\"]}]}], \n",
       "\n",
       " \n",
       ">            \"-\", RowBox[{\"10\", \" \", SuperscriptBox[SubscriptBox[OverscriptBox[\"r\", \n",
       "\n",
       " \n",
       ">                 \"^\"], \"2\"], \"′′′\"], \" \", SuperscriptBox[OverscriptBox[\"ω\", \"^\"],\\\n",
       " \n",
       ">    \"′\"]}]\\\n",
       ", \"+\", RowBox[{\"120\", \" \", SuperscriptBox[OverscriptBox[\"ω\", \"^\"], \"2\"], \"\\\n",
       " \n",
       ">    \", \n",
       "           SuperscriptBox[SubscriptBox[OverscriptBox[\"r\", \"^\"], \"2\"], \"′\"], \"\\\n",
       " \n",
       ">    \", \n",
       "           SuperscriptBox[OverscriptBox[\"ω\", \"^\"], \"′\"]}], \"+\", \n",
       "\n",
       " \n",
       ">            RowBox[{\"60\", \" \", SubscriptBox[OverscriptBox[\"r\", \"^\"], \"2\"], \" \", \n",
       "\n",
       " \n",
       ">              OverscriptBox[\"ω\", \"^\"], \" \", \n",
       "           SuperscriptBox[RowBox[{\"(\", \n",
       "\n",
       " \n",
       ">                 SuperscriptBox[OverscriptBox[\"ω\", \"^\"], \"′\"], \")\"}], \"2\"]}], \"+\", \n",
       "\n",
       " \n",
       ">            RowBox[{\"40\", \" \", SuperscriptBox[OverscriptBox[\"ω\", \"^\"], \"3\"], \" \", \n",
       "\n",
       " \n",
       ">              SuperscriptBox[SubscriptBox[OverscriptBox[\"r\", \"^\"], \"2\"], \"′′\"]}], \"+\", \n",
       "\n",
       " \n",
       ">            RowBox[{\"40\", \" \", SubscriptBox[OverscriptBox[\"r\", \"^\"], \"2\"], \" \", \n",
       "\n",
       " \n",
       ">              SuperscriptBox[OverscriptBox[\"ω\", \"^\"], \"2\"], \" \", \n",
       "\n",
       " \n",
       ">              SuperscriptBox[OverscriptBox[\"ω\", \"^\"], \"′′\"]}], \"-\", \n",
       "\n",
       " \n",
       ">            RowBox[{\"10\", \" \", SuperscriptBox[SubscriptBox[OverscriptBox[\"r\", \"^\"], \n",
       "\n",
       " \n",
       ">                \"2\"], \"′′\"], \" \", SuperscriptBox[OverscriptBox[\"ω\", \"^\"], \"′′\"]}], \"-\",\\\n",
       " \n",
       ">    \n",
       "         RowBox[{\"5\", \" \", OverscriptBox[\"ω\", \"^\"], \" \", \n",
       "\n",
       " \n",
       ">              SuperscriptBox[SubscriptBox[OverscriptBox[\"r\", \"^\"], \"2\"], \"′′′′\"]}],\\\n",
       " \n",
       ">    \"-\", \n",
       "         RowBox[{SubscriptBox[OverscriptBox[\"r\", \"^\"], \"2\"], \" \", \n",
       "\n",
       " \n",
       ">              SuperscriptBox[OverscriptBox[\"ω\", \"^\"], \"′′′′\"]}], \"-\", \n",
       "\n",
       " \n",
       ">            RowBox[{RowBox[{\"16\"}], \" \", SubscriptBox[OverscriptBox[\"r\", \"^\"], \"2\"], \n",
       "\n",
       " \n",
       ">              \" \", SuperscriptBox[OverscriptBox[\"ω\", \"^\"], \"5\"]}]}], \")\"}]}], \n",
       "\n",
       " \n",
       ">      TraditionalForm]\n"
      ]
     },
     "execution_count": 76,
     "metadata": {
      "text/html": [],
      "text/plain": []
     },
     "output_type": "execute_result"
    }
   ],
   "source": [
    "fh1 = fh /. ToR2Replacement;\n",
    "fh5Symbolic = Simplify[D[fh1, {OverHat[t], 5}], Trig -> True];\n",
    "\n",
    "Fh5Replacement = Flatten[{\n",
    "  Outer[\n",
    "    Superscript[Subscript[OverHat[f], #1, #2], \"(5)\"] -> fh5Symbolic[[#1 /. {x -> 1, y -> 2}, #2 /. {x -> 1, y -> 2}]] &,\n",
    "    {x, y}, {x, y}\n",
    "  ],\n",
    "  ToR2Replacement,\n",
    "  OmegaReplace\n",
    "}];\n",
    "\n",
    "dJdtTemp = RHSEnegryLagrange[[2]] //. Fh5Replacement;\n",
    "dJdt = Subscript[OverHat[r],2][OverHat[t]]*Expand[Simplify[dJdtTemp/Subscript[\\[Epsilon], G], Trig -> True]/Subscript[OverHat[r],2][OverHat[t]]];\n",
    "dJdt // TraditionalForm"
   ]
  },
  {
   "cell_type": "markdown",
   "metadata": {},
   "source": [
    "<span style=\"color:brown\">**NB:**</span> В файле Binary.pdf выводится <span style=\"color:green\">**точно такое же**</span> выражение"
   ]
  },
  {
   "cell_type": "markdown",
   "metadata": {},
   "source": [
    "$$\n",
    "I_J = I_1 = \\hat{r}_2 \\left[ 120\\hat{r}_2^{(1)}\\hat{\\omega}^2\\hat{\\omega}^{(1)} - 5\\hat{r}_2^{(1)}\\hat{\\omega}^{(3)} - 16\\hat{r}_2\\hat{\\omega}^5 - 10\\hat{r}_2^{(2)}\\hat{\\omega}^{(2)} + 60\\hat{r}_2\\hat{\\omega}(\\hat{\\omega}^{(1)})^2\n",
    "- 10\\hat{r}_2^{(3)}\\hat{\\omega}^{(1)} + 40\\hat{r}_2^{(2)}\\hat{\\omega}^3 - 5\\hat{r}_2^{(4)}\\hat{\\omega} - \\hat{r}_2\\hat{\\omega}^{(4)} + 40\\hat{r}_2\\hat{\\omega}^2\\hat{\\omega}^{(2)} \\right]\n",
    "$$"
   ]
  },
  {
   "cell_type": "code",
   "execution_count": 78,
   "metadata": {
    "vscode": {
     "languageId": "wolfram"
    }
   },
   "outputs": [
    {
     "data": {
      "text/html": [
       "<div><pre style=\"&#102;&#111;&#110;&#116;&#45;&#102;&#97;&#109;&#105;&#108;&#121;&#58;&#32;&#34;&#67;&#111;&#117;&#114;&#105;&#101;&#114;&#32;&#78;&#101;&#119;&#34;&#44;&#67;&#111;&#117;&#114;&#105;&#101;&#114;&#44;&#109;&#111;&#110;&#111;&#115;&#112;&#97;&#99;&#101;&#59;\">&#48;</pre></div>"
      ],
      "text/plain": [
       "0"
      ]
     },
     "execution_count": 78,
     "metadata": {
      "text/html": [],
      "text/plain": []
     },
     "output_type": "execute_result"
    }
   ],
   "source": [
    "I1 = Subscript[OverHat[r], 2][OverHat[t]] * (\n",
    "    120 * Derivative[1][Subscript[OverHat[r], 2]][OverHat[t]] *\n",
    "    OverHat[\\[Omega]][OverHat[t]]^2 * Derivative[1][OverHat[\\[Omega]]][OverHat[t]]\n",
    "    - 5 * Derivative[1][Subscript[OverHat[r], 2]][OverHat[t]] *\n",
    "    Derivative[3][OverHat[\\[Omega]]][OverHat[t]]\n",
    "    - 16 * Subscript[OverHat[r], 2][OverHat[t]] *\n",
    "    OverHat[\\[Omega]][OverHat[t]]^5\n",
    "    - 10 * Derivative[2][Subscript[OverHat[r], 2]][OverHat[t]] *\n",
    "    Derivative[2][OverHat[\\[Omega]]][OverHat[t]]\n",
    "    + 60 * Subscript[OverHat[r], 2][OverHat[t]] *\n",
    "    OverHat[\\[Omega]][OverHat[t]] * Derivative[1][OverHat[\\[Omega]]][OverHat[t]]^2\n",
    "    - 10 * Derivative[3][Subscript[OverHat[r], 2]][OverHat[t]] *\n",
    "    Derivative[1][OverHat[\\[Omega]]][OverHat[t]]\n",
    "    + 40 * Derivative[2][Subscript[OverHat[r], 2]][OverHat[t]] *\n",
    "    OverHat[\\[Omega]][OverHat[t]]^3\n",
    "    - 5 * Derivative[4][Subscript[OverHat[r], 2]][OverHat[t]] *\n",
    "    OverHat[\\[Omega]][OverHat[t]]\n",
    "    - Subscript[OverHat[r], 2][OverHat[t]] *\n",
    "    Derivative[4][OverHat[\\[Omega]]][OverHat[t]]\n",
    "    + 40 * Subscript[OverHat[r], 2][OverHat[t]] *\n",
    "    OverHat[\\[Omega]][OverHat[t]]^2 * Derivative[2][OverHat[\\[Omega]]][OverHat[t]]\n",
    ");\n",
    "dJdt - I1"
   ]
  },
  {
   "cell_type": "markdown",
   "metadata": {},
   "source": [
    "# RHS уравнения (dE/dt)\n",
    "\n",
    "Подставим в (dE/dt) значения $\\hat{f}_{i,j}^{(5)}$:"
   ]
  },
  {
   "cell_type": "code",
   "execution_count": 81,
   "metadata": {
    "vscode": {
     "languageId": "wolfram"
    }
   },
   "outputs": [
    {
     "data": {
      "text/html": [
       "<div><img alt=\"Output\" src=\"data:image/png;base64,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\"></div>"
      ],
      "text/plain": [
       "FormBox[RowBox[{FractionBox[\"1\", \"3\"], \" \", \n",
       "\n",
       " \n",
       ">        RowBox[{\"(\", RowBox[{RowBox[{OverscriptBox[\"ω\", \"^\"], \" \", \n",
       "\n",
       " \n",
       ">              RowBox[{\"(\", RowBox[{RowBox[{\"-\", \n",
       "\n",
       " \n",
       ">                    RowBox[{\"3\", \" \", SubscriptBox[OverscriptBox[\"r\", \"^\"], \"2\"], \n",
       "\n",
       " \n",
       ">                      \" \", RowBox[{\"(\", \n",
       "\n",
       " \n",
       ">                        RowBox[{RowBox[{\"10\", \" \", \n",
       "\n",
       " \n",
       ">                            SuperscriptBox[SubscriptBox[OverscriptBox[\"r\", \"^\"], \n",
       "\n",
       " \n",
       ">                              \"2\"], \"′′′\"], \" \", \n",
       "\n",
       " \n",
       ">                            SuperscriptBox[OverscriptBox[\"ω\", \"^\"], \"′\"]}], \"+\", \n",
       "\n",
       " \n",
       ">                          RowBox[{\"10\", \" \", \n",
       "\n",
       " \n",
       ">                            SuperscriptBox[SubscriptBox[OverscriptBox[\"r\", \"^\"], \n",
       "\n",
       " \n",
       ">                              \"2\"], \"′′\"], \" \", \n",
       "\n",
       " \n",
       ">                            SuperscriptBox[OverscriptBox[\"ω\", \"^\"], \"′′\"]}], \"+\", \n",
       "\n",
       " \n",
       ">                          RowBox[{SubscriptBox[OverscriptBox[\"r\", \"^\"], \"2\"], \" \", \n",
       "\n",
       " \n",
       ">                            SuperscriptBox[OverscriptBox[\"ω\", \"^\"], \"′′′′\"]}]}], \")\"}]\\\n",
       "\n",
       " \n",
       ">   }]}], \"+\", RowBox[{\"60\", \" \", SuperscriptBox[RowBox[{\"(\", \n",
       "\n",
       " \n",
       ">                       SuperscriptBox[SubscriptBox[OverscriptBox[\"r\", \"^\"], \"2\"], \n",
       "\n",
       " \n",
       ">                        \"′\"], \")\"}], \"2\"], \" \", \n",
       "\n",
       " \n",
       ">                    SuperscriptBox[OverscriptBox[\"ω\", \"^\"], \"′′\"]}], \"+\", \n",
       "\n",
       " \n",
       ">                  RowBox[{\"90\", \" \", \n",
       "\n",
       " \n",
       ">                    SuperscriptBox[SubscriptBox[OverscriptBox[\"r\", \"^\"], \"2\"], \"′\"], \n",
       "\n",
       " \n",
       ">                    \" \", SuperscriptBox[SubscriptBox[OverscriptBox[\"r\", \"^\"], \"2\"], \n",
       "\n",
       " \n",
       ">                     \"′′\"], \" \", SuperscriptBox[OverscriptBox[\"ω\", \"^\"], \"′\"]}]}],\\\n",
       " \n",
       ">    \")\"}]\\\n",
       "}], \"+\", RowBox[{SuperscriptBox[SubscriptBox[OverscriptBox[\"r\", \"^\"], \"2\"],\\\n",
       " \n",
       ">    \"′\"], \n",
       "           \" \", RowBox[{\"(\", RowBox[{RowBox[{\"30\", \" \", \n",
       "\n",
       " \n",
       ">                    SubscriptBox[OverscriptBox[\"r\", \"^\"], \"2\"], \" \", \n",
       "\n",
       " \n",
       ">                    SuperscriptBox[OverscriptBox[\"ω\", \"^\"], \"′\"], \" \", \n",
       "\n",
       " \n",
       ">                    SuperscriptBox[OverscriptBox[\"ω\", \"^\"], \"′′\"]}], \"+\", \n",
       "\n",
       " \n",
       ">                  RowBox[{\"45\", \" \", \n",
       "\n",
       " \n",
       ">                    SuperscriptBox[SubscriptBox[OverscriptBox[\"r\", \"^\"], \"2\"], \"′\"], \n",
       "\n",
       " \n",
       ">                    \" \", SuperscriptBox[RowBox[{\"(\", \n",
       "\n",
       " \n",
       ">                       SuperscriptBox[OverscriptBox[\"ω\", \"^\"], \"′\"], \")\"}], \"2\"]}], \n",
       "\n",
       " \n",
       ">                  \"-\", SuperscriptBox[SubscriptBox[OverscriptBox[\"r\", \"^\"], \"2\"], \n",
       "\n",
       " \n",
       ">                   \"′′′′′\"]}], \")\"}]}], \"-\", \n",
       "\n",
       " \n",
       ">            RowBox[{\"60\", \" \", SuperscriptBox[OverscriptBox[\"ω\", \"^\"], \"4\"], \" \", \n",
       "\n",
       " \n",
       ">              RowBox[{\"(\", RowBox[{SuperscriptBox[RowBox[{\"(\", \n",
       "\n",
       " \n",
       ">                     SuperscriptBox[SubscriptBox[OverscriptBox[\"r\", \"^\"], \"2\"], \n",
       "\n",
       " \n",
       ">                      \"′\"], \")\"}], \"2\"], \"-\", \n",
       "\n",
       " \n",
       ">                  RowBox[{\"2\", \" \", SubscriptBox[OverscriptBox[\"r\", \"^\"], \"2\"], \" \", \n",
       "\n",
       " \n",
       ">                    SuperscriptBox[SubscriptBox[OverscriptBox[\"r\", \"^\"], \"2\"],\\\n",
       " \n",
       ">    \"′′\"]}]}\\\n",
       "], \")\"}]}], \"+\", RowBox[{\"120\", \" \", SubscriptBox[OverscriptBox[\"r\",\\\n",
       " \n",
       ">    \"^\"], \"2\"], \n",
       "           \" \", SuperscriptBox[OverscriptBox[\"ω\", \"^\"], \"3\"], \" \", \n",
       "\n",
       " \n",
       ">              RowBox[{\"(\", RowBox[{RowBox[{\"2\", \" \", \n",
       "\n",
       " \n",
       ">                    SuperscriptBox[SubscriptBox[OverscriptBox[\"r\", \"^\"], \"2\"], \"′\"], \n",
       "\n",
       " \n",
       ">                    \" \", SuperscriptBox[OverscriptBox[\"ω\", \"^\"], \"′\"]}], \"+\", \n",
       "\n",
       " \n",
       ">                  RowBox[{SubscriptBox[OverscriptBox[\"r\", \"^\"], \"2\"], \" \", \n",
       "\n",
       " \n",
       ">                    SuperscriptBox[OverscriptBox[\"ω\", \"^\"], \"′′\"]}]}], \")\"}]}], \"+\", \n",
       "\n",
       " \n",
       ">            RowBox[{\"15\", \" \", SuperscriptBox[OverscriptBox[\"ω\", \"^\"], \"2\"], \" \", \n",
       "\n",
       " \n",
       ">              RowBox[{\"(\", RowBox[{RowBox[{\"12\", \" \", \n",
       "\n",
       " \n",
       ">                    SubsuperscriptBox[OverscriptBox[\"r\", \"^\"], \"2\", \"2\"], \" \", \n",
       "\n",
       " \n",
       ">                    SuperscriptBox[RowBox[{\"(\", \n",
       "\n",
       " \n",
       ">                       SuperscriptBox[OverscriptBox[\"ω\", \"^\"], \"′\"], \")\"}], \"2\"]}], \n",
       "\n",
       " \n",
       ">                  \"+\", RowBox[{\"2\", \" \", \n",
       "\n",
       " \n",
       ">                    SuperscriptBox[SubscriptBox[OverscriptBox[\"r\", \"^\"], \"2\"], \"′\"], \n",
       "\n",
       " \n",
       ">                    \" \", SuperscriptBox[SubscriptBox[OverscriptBox[\"r\", \"^\"], \"2\"], \n",
       "\n",
       " \n",
       ">                     \"′′′\"]}], \"-\", RowBox[{SubscriptBox[OverscriptBox[\"r\", \"^\"], \n",
       "\n",
       " \n",
       ">                     \"2\"], \" \", SuperscriptBox[SubscriptBox[OverscriptBox[\"r\", \"^\"], \n",
       "\n",
       " \n",
       ">                      \"2\"], \"′′′′\"]}]}], \")\"}]}], \"-\", \n",
       "\n",
       " \n",
       ">            RowBox[{RowBox[{\"48\"}], \" \", \n",
       "\n",
       " \n",
       ">              SubsuperscriptBox[OverscriptBox[\"r\", \"^\"], \"2\", \"2\"], \" \", \n",
       "\n",
       " \n",
       ">              SuperscriptBox[OverscriptBox[\"ω\", \"^\"], \"6\"]}]}], \")\"}]}],\\\n",
       " \n",
       ">    TraditionalForm]\n"
      ]
     },
     "execution_count": 81,
     "metadata": {
      "text/html": [],
      "text/plain": []
     },
     "output_type": "execute_result"
    }
   ],
   "source": [
    "dEdtTemp = RHSEnegryLagrange[[1]] //. Fh5Replacement;\n",
    "dEdt = Simplify[dEdtTemp/Subscript[\\[Epsilon], G], Trig -> True];\n",
    "dEdt // TraditionalForm"
   ]
  },
  {
   "cell_type": "markdown",
   "metadata": {},
   "source": [
    "<span style=\"color:brown\">**NB:**</span> В файлах Binary.pdf и binary_catch1.pdf выводится <span style=\"color:green\">**точно такие же**</span> выражения для правой части (dE/dt),\n",
    "а именно $I_E = I_1\\hat{\\omega} + I_2\\frac{\\dot{r}}{r}$, где\n",
    "$$\n",
    "I_2 = 2\\hat{r}_2 \\left[ -40\\hat{r}_2\\hat{\\omega}^3\\hat{\\omega}^{(1)} - 20\\hat{\\omega}^4\\hat{r}_2^{(1)} + 5\\hat{r}_2\\hat{\\omega}\\hat{\\omega}^{(3)} + 10\\hat{r}_2\\hat{\\omega}^{(1)}\\hat{\\omega}^{(2)} + 10\\hat{\\omega}^2\\hat{r}_2^{(3)} + 30\\hat{\\omega}\\hat{\\omega}^{(1)}\\hat{r}_2^{(2)} + 20\\hat{\\omega}\\hat{\\omega}^{(2)}\\hat{r}_2^{(1)} + 15\\hat{r}_2^{(1)}(\\hat{\\omega}^{(1)})^2 - \\frac{1}{3}\\hat{r}_2^{(5)} \\right]\n",
    "$$"
   ]
  },
  {
   "cell_type": "code",
   "execution_count": 83,
   "metadata": {
    "vscode": {
     "languageId": "wolfram"
    }
   },
   "outputs": [
    {
     "data": {
      "text/html": [
       "<div><pre style=\"&#102;&#111;&#110;&#116;&#45;&#102;&#97;&#109;&#105;&#108;&#121;&#58;&#32;&#34;&#67;&#111;&#117;&#114;&#105;&#101;&#114;&#32;&#78;&#101;&#119;&#34;&#44;&#67;&#111;&#117;&#114;&#105;&#101;&#114;&#44;&#109;&#111;&#110;&#111;&#115;&#112;&#97;&#99;&#101;&#59;\">&#48;</pre></div>"
      ],
      "text/plain": [
       "0"
      ]
     },
     "execution_count": 83,
     "metadata": {
      "text/html": [],
      "text/plain": []
     },
     "output_type": "execute_result"
    }
   ],
   "source": [
    "I2 = 2 * Subscript[OverHat[r], 2][OverHat[t]] * (\n",
    "    -40 * Subscript[OverHat[r], 2][OverHat[t]] *\n",
    "    OverHat[\\[Omega]][OverHat[t]]^3 * Derivative[1][OverHat[\\[Omega]]][OverHat[t]]\n",
    "    - 20 * OverHat[\\[Omega]][OverHat[t]]^4 *\n",
    "    Derivative[1][Subscript[OverHat[r], 2]][OverHat[t]]\n",
    "    + 5 * Subscript[OverHat[r], 2][OverHat[t]] *\n",
    "    OverHat[\\[Omega]][OverHat[t]] * Derivative[3][OverHat[\\[Omega]]][OverHat[t]]\n",
    "    + 10 * Subscript[OverHat[r], 2][OverHat[t]] *\n",
    "    Derivative[1][OverHat[\\[Omega]]][OverHat[t]] *\n",
    "    Derivative[2][OverHat[\\[Omega]]][OverHat[t]]\n",
    "    + 10 * OverHat[\\[Omega]][OverHat[t]]^2 *\n",
    "    Derivative[3][Subscript[OverHat[r], 2]][OverHat[t]]\n",
    "    + 30 * OverHat[\\[Omega]][OverHat[t]] *\n",
    "    Derivative[1][OverHat[\\[Omega]]][OverHat[t]] *\n",
    "    Derivative[2][Subscript[OverHat[r], 2]][OverHat[t]]\n",
    "    + 20 * OverHat[\\[Omega]][OverHat[t]] *\n",
    "    Derivative[2][OverHat[\\[Omega]]][OverHat[t]] *\n",
    "    Derivative[1][Subscript[OverHat[r], 2]][OverHat[t]]\n",
    "    + 15 * Derivative[1][Subscript[OverHat[r], 2]][OverHat[t]] *\n",
    "    Derivative[1][OverHat[\\[Omega]]][OverHat[t]]^2\n",
    "    - (1/3) * Derivative[5][Subscript[OverHat[r], 2]][OverHat[t]]\n",
    ");\n",
    "Simplify[(I2*D[OverHat[r][OverHat[t]], OverHat[t]]/OverHat[r][OverHat[t]] + I1*OverHat[\\[Omega]][OverHat[t]] /. ToR2Replacement) - dEdt]"
   ]
  },
  {
   "cell_type": "markdown",
   "metadata": {},
   "source": [
    "# Итоговые $I_J$, $I_E$\n",
    "\n",
    "$$\n",
    "\\begin{align}\n",
    "\\tag{IJ}\\\n",
    "I_J &= \\hat{r}_2 \\left[ 120\\hat{r}_2^{(1)}\\hat{\\omega}^2\\hat{\\omega}^{(1)} - 5\\hat{r}_2^{(1)}\\hat{\\omega}^{(3)} - 16\\hat{r}_2\\hat{\\omega}^5 - 10\\hat{r}_2^{(2)}\\hat{\\omega}^{(2)} + 60\\hat{r}_2\\hat{\\omega}(\\hat{\\omega}^{(1)})^2\n",
    "- 10\\hat{r}_2^{(3)}\\hat{\\omega}^{(1)} + 40\\hat{r}_2^{(2)}\\hat{\\omega}^3 - 5\\hat{r}_2^{(4)}\\hat{\\omega} - \\hat{r}_2\\hat{\\omega}^{(4)} + 40\\hat{r}_2\\hat{\\omega}^2\\hat{\\omega}^{(2)} \\right]\n",
    "\\\\\n",
    "\\tag{IE}\n",
    "I_E &= I_J\\hat{\\omega} + \\hat{r}_2^{(1)} \\left[ -40\\hat{r}_2\\hat{\\omega}^3\\hat{\\omega}^{(1)} - 20\\hat{\\omega}^4\\hat{r}_2^{(1)} + 5\\hat{r}_2\\hat{\\omega}\\hat{\\omega}^{(3)} + 10\\hat{r}_2\\hat{\\omega}^{(1)}\\hat{\\omega}^{(2)} + 10\\hat{\\omega}^2\\hat{r}_2^{(3)} + 30\\hat{\\omega}\\hat{\\omega}^{(1)}\\hat{r}_2^{(2)} + 20\\hat{\\omega}\\hat{\\omega}^{(2)}\\hat{r}_2^{(1)} + 15\\hat{r}_2^{(1)}(\\hat{\\omega}^{(1)})^2 - \\frac{1}{3}\\hat{r}_2^{(5)} \\right]\n",
    "\\end{align}\n",
    "$$"
   ]
  },
  {
   "cell_type": "markdown",
   "metadata": {},
   "source": [
    "# Попытка численного решения начального уравнения движения\n",
    "\n",
    "$$\n",
    "\\hat{r}_k^{(2)} + \\frac{\\hat{r}_k}{\\hat{r}^3} = - \\epsilon_G\\hat{f}_{ki}^{(5)}\\hat{r}_i\n",
    "$$"
   ]
  },
  {
   "cell_type": "code",
   "execution_count": 102,
   "metadata": {
    "vscode": {
     "languageId": "wolfram"
    }
   },
   "outputs": [
    {
     "data": {
      "text/html": [
       "<div><img alt=\"Output\" src=\"data:image/png;base64,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\"></div>"
      ],
      "text/plain": [
       "  ^\n",
       "{{r -> InterpolatingFunction[{{0., 200.}}, <>], \n",
       " \n",
       ">    ϕ -> InterpolatingFunction[{{0., 200.}}, <>]}}"
      ]
     },
     "execution_count": 102,
     "metadata": {
      "text/html": [],
      "text/plain": []
     },
     "output_type": "execute_result"
    }
   ],
   "source": [
    "Clear[rxNum, ryNum, uxNum, uyNum, tMaxNum, rhRules, icsNum, MaxDNum, epsilonGNum]\n",
    "\n",
    "rxNum = 10^2;\n",
    "uxNum = -0.0;\n",
    "\n",
    "(* зафиксированны *)\n",
    "ryNum = 1;\n",
    "uyNum = 0;\n",
    "\n",
    "(* Newton *)\n",
    "epsilonGNum = 0;\n",
    "epsilonGNum = 0.1;\n",
    "tMaxNum = 2*10^2;\n",
    "\n",
    "rhNum = {\n",
    "  Subscript[OverHat[r], \"x\"][OverHat[t]], Subscript[OverHat[r], \"y\"][OverHat[t]]\n",
    "  };\n",
    "D[rhNum, OverHat[t]];\n",
    "\n",
    "rhRules[MaxDNum_] := Join[\n",
    "  Thread[rhNum -> ({rxNum, ryNum} /. OverHat[t] -> 0)],\n",
    "  Thread[D[rhNum, OverHat[t]] -> ({uxNum, uyNum} /. OverHat[t] -> 0)],\n",
    "  Flatten[Table[\n",
    "    Thread[D[rhNum, {OverHat[t], i}] -> {0, 0}],\n",
    "    {i, 2, Max[MaxDNum, 2]}\n",
    "  ]] /. OverHat[t] -> 0,\n",
    "  {OverHat[t] -> 0}\n",
    "];\n",
    "\n",
    "icsNum[MaxDNum_] := Join[\n",
    "  Simplify[Table[D[OverHat[r][OverHat[t]] -> Sqrt[rhNum.rhNum], {OverHat[t], i}], {i, 0, Max[MaxDNum, 1]}] //. rhRules[MaxDNum]],\n",
    "  Simplify[Table[D[\\[Phi][OverHat[t]] -> ArcTan[rhNum[[1]], rhNum[[2]]], {OverHat[t], i}], {i, 0, Max[MaxDNum, 1]}] //. rhRules[MaxDNum]]\n",
    "];\n",
    "\n",
    "fh5SymbolicNum = Simplify[D[fh, {OverHat[t], 5}], Trig -> True];\n",
    "\n",
    "Fh5ReplacementNum = Flatten[{\n",
    "  Outer[\n",
    "    Superscript[Subscript[OverHat[f], #1, #2], \"(5)\"] -> fh5SymbolicNum[[#1 /. {x -> 1, y -> 2}, #2 /. {x -> 1, y -> 2}]] &,\n",
    "    {x, y}, {x, y}\n",
    "  ]\n",
    "}];\n",
    "\n",
    "sysNum = Simplify[D[rh, {OverHat[t], 2}] + rh/OverHat[r][OverHat[t]]^3 + epsilonGNum*fh5rh //. Fh5ReplacementNum];\n",
    "eqnsNum = {sysNum[[1]] == 0, sysNum[[2]] == 0};\n",
    "solNum = NDSolve[Join[eqnsNum, icsNum[If[epsilonGNum == 0, 1, 4]]] /. Rule -> Equal, {OverHat[r], \\[Phi]}, {OverHat[t], 0, tMaxNum}\n",
    "  (* WorkingPrecision -> 30,\n",
    "  PrecisionGoal -> 20,\n",
    "  AccuracyGoal -> 20,\n",
    "  Method -> \"StiffnessSwitching\",\n",
    "  MaxSteps -> 10^7 *)\n",
    "]"
   ]
  },
  {
   "cell_type": "code",
   "execution_count": 113,
   "metadata": {
    "vscode": {
     "languageId": "wolfram"
    }
   },
   "outputs": [
    {
     "data": {
      "text/html": [
       "<div><img alt=\"Output\" src=\"data:image/png;base64,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\"></div>"
      ],
      "text/plain": [
       "-Graphics-"
      ]
     },
     "execution_count": 113,
     "metadata": {
      "text/html": [],
      "text/plain": []
     },
     "output_type": "execute_result"
    }
   ],
   "source": [
    "tMaxNum2 = tMaxNum;\n",
    "\n",
    "RNum = OverHat[r][t] /. solNum[[1]];\n",
    "PhiNum = \\[Phi][t] /. solNum[[1]];\n",
    "dRDtNum = D[OverHat[r][t] /. solNum[[1]], t];\n",
    "OmegaNum = D[\\[Phi][t] /. solNum[[1]], t];\n",
    "\n",
    "PlotR = Plot[RNum, {t, 0, tMaxNum2},\n",
    "  AxesLabel -> {TraditionalForm[OverHat[t]], TraditionalForm[OverHat[r]]},\n",
    "  PlotRange -> All,\n",
    "  ScalingFunctions -> {\"Log\", \"Log\"}\n",
    "];\n",
    "\n",
    "PlotRxRy = ParametricPlot[\n",
    "  {RNum Cos[PhiNum], RNum Sin[PhiNum]},\n",
    "  {t, 0, tMaxNum2},\n",
    "  AxesLabel -> {TraditionalForm[Subscript[OverHat[r], \"x\"]], TraditionalForm[Subscript[OverHat[r], \"y\"]]},\n",
    "  PlotRange -> All,\n",
    "  ScalingFunctions -> {\"SignedLog\", \"SignedLog\"}\n",
    "];\n",
    "\n",
    "PlotDRDt = Plot[dRDtNum, {t, 0, tMaxNum2},\n",
    "  AxesLabel -> {\n",
    "  TraditionalForm[OverHat[t]],\n",
    "  Style[TraditionalForm[HoldForm[D[OverHat[r], OverHat[t]]]], FontSize -> 7]\n",
    "  },\n",
    "  PlotRange -> All,\n",
    "  ScalingFunctions -> {\"Log\", \"SignedLog\"}\n",
    "];\n",
    "\n",
    "PlotPhi = Plot[PhiNum, {t, 0, tMaxNum2},\n",
    "  AxesLabel -> {TraditionalForm[OverHat[t]], TraditionalForm[OverHat[\\[Phi]]]},\n",
    "  PlotRange -> All,\n",
    "  ScalingFunctions -> {\"Linear\", \"Linear\"},\n",
    "  PlotStyle -> Red\n",
    "];\n",
    "\n",
    "PlotOmega = Plot[OmegaNum, {t, 0, tMaxNum2},\n",
    "  AxesLabel -> {TraditionalForm[OverHat[t]], TraditionalForm[OverHat[\\[Omega]]]},\n",
    "  PlotRange -> All,\n",
    "  ScalingFunctions -> {\"Log\", \"SignedLog\"},\n",
    "  PlotStyle -> Red\n",
    "];\n",
    "\n",
    "GraphicsRow[{PlotR, PlotRxRy, PlotDRDt, PlotPhi, PlotOmega}]"
   ]
  },
  {
   "cell_type": "code",
   "execution_count": 124,
   "metadata": {
    "vscode": {
     "languageId": "wolfram"
    }
   },
   "outputs": [
    {
     "data": {
      "text/html": [
       "<div><img alt=\"Output\" src=\"data:image/png;base64,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\"></div>"
      ],
      "text/plain": [
       "-Graphics-"
      ]
     },
     "execution_count": 124,
     "metadata": {
      "text/html": [],
      "text/plain": []
     },
     "output_type": "execute_result"
    }
   ],
   "source": [
    "EnergyNewtonNum = Energy /. OverHat[\\[Omega]][OverHat[t]] -> D[\\[Phi][OverHat[t]], OverHat[t]] /. OverHat[t] -> 0 /. icsNum[1];\n",
    "\n",
    "EnergyNum = Energy /. {\n",
    "  OverHat[r][OverHat[t]] -> RNum,\n",
    "  D[OverHat[r][OverHat[t]], OverHat[t]] -> dRDtNum,\n",
    "  OverHat[\\[Omega]][OverHat[t]] -> OmegaNum\n",
    "  };\n",
    "\n",
    "plotENewton = Plot[\n",
    "  EnergyNewtonNum, {t, 0, tMaxNum2},\n",
    "  PlotStyle -> Red,\n",
    "  ScalingFunctions -> {\"Log\", \"Linear\"},\n",
    "  PlotLegends -> {\"E Newton\"}\n",
    "];\n",
    "\n",
    "plotE = Plot[EnergyNum, {t, 0, tMaxNum2},\n",
    "  AxesLabel -> {TraditionalForm[OverHat[t]], \"E\"},\n",
    "  ScalingFunctions -> {\"Log\", \"Linear\"},\n",
    "  PlotLegends -> {TraditionalForm[\"E\"[OverHat[t]]]},\n",
    "  PlotRange -> All\n",
    "];\n",
    "\n",
    "PlotsE = Show[plotENewton, plotE, PlotRange -> All];\n",
    "\n",
    "AngularMomentumNewtonNum = AngularMomentum /. OverHat[\\[Omega]][OverHat[t]] -> D[\\[Phi][OverHat[t]], OverHat[t]] /. OverHat[t] -> 0 /. icsNum[1];\n",
    "\n",
    "AngularMomentumNum = AngularMomentum /. {\n",
    "  OverHat[r][OverHat[t]] -> RNum,\n",
    "  OverHat[\\[Omega]][OverHat[t]] -> OmegaNum\n",
    "};\n",
    "\n",
    "plotJNewton = Plot[\n",
    "  AngularMomentumNewtonNum, {t, 0, tMaxNum2},\n",
    "  PlotStyle -> Red,\n",
    "  ScalingFunctions -> {\"Log\", \"Linear\"},\n",
    "  PlotLegends -> {\"J Newton\"}\n",
    "];\n",
    "\n",
    "plotJ = Plot[AngularMomentumNum, {t, 0, tMaxNum2},\n",
    "  AxesLabel -> {TraditionalForm[OverHat[t]], \"J\"},\n",
    "  ScalingFunctions -> {\"Log\", \"Linear\"},\n",
    "  PlotLegends -> {TraditionalForm[\"J\"[OverHat[t]]]},\n",
    "  PlotRange -> All\n",
    "];\n",
    "\n",
    "PlotsJ = Show[plotJNewton, plotJ, PlotRange -> All];\n",
    "\n",
    "GraphicsRow[{PlotsE, PlotsJ}]"
   ]
  },
  {
   "cell_type": "markdown",
   "metadata": {},
   "source": [
    "<span style=\"color:brown\">**NB:**</span> Как можно видеть, численное решение при помощи Mathematica с участием пятой производной по времени пока не выполнимая задача."
   ]
  },
  {
   "cell_type": "markdown",
   "metadata": {},
   "source": [
    "# Потеря энергии за один период обращения"
   ]
  },
  {
   "cell_type": "markdown",
   "metadata": {},
   "source": [
    "Энергию гравитационного излучения невозможно локализовать в области меньше длины одной волны.\n",
    "\n",
    "Поэтому мгновенные изменения энергии и момента не имеют физического смысла.\n",
    "\n",
    "Однако, если мы просуммируем энергию и момент по полному периоду обращения, то с такими величинами можно работать.\n",
    "\n",
    "Рассчитаем в **нулевом приближении**, сколько энергии уносится из системы\n",
    "\n",
    "гравитационными волнами за один полный оборот, интегрируя по ньютоновской гиперболической траектории\n",
    "\n",
    "начиная с момента, когда тело \"бесконечно\" далеко, до момента минимального сближения (до перицентра) и обратно:\n",
    "$$\n",
    "\\Delta \\hat{E} = 2 \\epsilon_G \\int\\limits_{\\hat{t}_{\\text{min}}}^{\\infty}I_E(\\hat{t}) d \\hat{t}.\n",
    "$$"
   ]
  },
  {
   "cell_type": "markdown",
   "metadata": {},
   "source": [
    "В приближении Ньютона $I_J$ и $I_E$ равны нулю.\n",
    "Тогда и момент импульса и энергия сохраняются.\n",
    "\n",
    "$\\hat{J} = |\\vec{\\hat{r}} \\times \\vec{\\hat{v}}| = |\\vec{\\hat{r}}_\\infty \\times \\vec{\\hat{v}}_\\infty| = \\hat{r}\\hat{v}_\\infty \\sin(\\phi)$\n",
    "\n",
    "Так как $\\phi = \\pi/2$ на бесконечности, то $\\hat{J} = b\\hat{v}_\\infty = u$,\n",
    "то $u$ - безразмерная скорость на бесконечности.\n",
    "\n",
    "Отсюда следует, что $\\hat{\\omega} = \\frac{u}{\\hat{r}_2}$"
   ]
  },
  {
   "cell_type": "code",
   "execution_count": 125,
   "metadata": {
    "vscode": {
     "languageId": "wolfram"
    }
   },
   "outputs": [],
   "source": [
    "OmegaReplace2 = {\n",
    "   OverHat[\\[Omega]][OverHat[t]] -> u/Subscript[OverHat[r], 2][OverHat[t]],\n",
    "   Derivative[n_][OverHat[\\[Omega]]][OverHat[t]] :> u D[1/Subscript[OverHat[r], 2][OverHat[t]], {OverHat[t], n}]\n",
    "};"
   ]
  },
  {
   "cell_type": "markdown",
   "metadata": {},
   "source": [
    "Заменим переменные\n",
    "$$\n",
    "\\Delta \\hat{E} = - 2 \\epsilon_G \\int\\limits_{\\hat{r}_2^{\\text{min}}}^{\\infty}\\frac{I_E(\\hat{r}_2)}{\\hat{r}_2^{(1)}}d \\hat{r}_2,\n",
    "$$"
   ]
  },
  {
   "cell_type": "markdown",
   "metadata": {},
   "source": [
    "Здесь $\\hat{r}_2^{\\text{min}}$ - квадрат минимального расстояния между объектами:"
   ]
  },
  {
   "cell_type": "code",
   "execution_count": 127,
   "metadata": {
    "vscode": {
     "languageId": "wolfram"
    }
   },
   "outputs": [
    {
     "data": {
      "text/html": [
       "<div><img alt=\"Output\" src=\"data:image/png;base64,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\"></div>"
      ],
      "text/plain": [
       "FormBox[FractionBox[RowBox[{SuperscriptBox[\"u\", \"4\"], \"-\", \n",
       "\n",
       " \n",
       ">         RowBox[{\"2\", \" \", SqrtBox[RowBox[{SuperscriptBox[\"u\", \"4\"], \"+\", \"1\"}]]}],\\\n",
       " \n",
       ">    \"+\", \n",
       "      \"2\"}], SuperscriptBox[\"u\", \"4\"]], TraditionalForm]\n"
      ]
     },
     "execution_count": 127,
     "metadata": {
      "text/html": [],
      "text/plain": []
     },
     "output_type": "execute_result"
    }
   ],
   "source": [
    "rMin2[u_] := (2 + u^4 - 2 Sqrt[1 + u^4])/u^4;\n",
    "rMin2[u] // TraditionalForm"
   ]
  },
  {
   "cell_type": "code",
   "execution_count": 130,
   "metadata": {
    "vscode": {
     "languageId": "wolfram"
    }
   },
   "outputs": [
    {
     "data": {
      "text/html": [
       "<div><img alt=\"Output\" src=\"data:image/png;base64,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\"></div>"
      ],
      "text/plain": [
       "FormBox[RowBox[{FractionBox[RowBox[{\"16\", \" \", SuperscriptBox[\"u\", \"6\"]}], \n",
       "\n",
       " \n",
       ">         RowBox[{SubsuperscriptBox[OverscriptBox[\"r\", \"^\"], \"2\", \"4\"], \" \", \n",
       "\n",
       " \n",
       ">           SuperscriptBox[SubscriptBox[OverscriptBox[\"r\", \"^\"], \"2\"], \"′\"]}]], \"-\", \n",
       "\n",
       " \n",
       ">        FractionBox[RowBox[{\"40\", \" \", SuperscriptBox[\"u\", \"4\"], \" \", \n",
       "\n",
       " \n",
       ">           SuperscriptBox[SubscriptBox[OverscriptBox[\"r\", \"^\"], \"2\"], \"′\"]}], \n",
       "\n",
       " \n",
       ">         SubsuperscriptBox[OverscriptBox[\"r\", \"^\"], \"2\", \"4\"]], \"-\", \n",
       "\n",
       " \n",
       ">        FractionBox[RowBox[{\"4\", \" \", SuperscriptBox[\"u\", \"2\"], \" \", \n",
       "\n",
       " \n",
       ">           SuperscriptBox[RowBox[{\"(\", \n",
       "\n",
       " \n",
       ">              SuperscriptBox[SubscriptBox[OverscriptBox[\"r\", \"^\"], \"2\"], \"′′\"], \")\"}], \n",
       "\n",
       " \n",
       ">            \"2\"]}], RowBox[{SubsuperscriptBox[OverscriptBox[\"r\", \"^\"], \"2\", \"2\"], \" \", \n",
       "\n",
       " \n",
       ">           SuperscriptBox[SubscriptBox[OverscriptBox[\"r\", \"^\"], \"2\"], \"′\"]}]], \"+\", \n",
       "\n",
       " \n",
       ">        FractionBox[RowBox[{\"24\", \" \", SuperscriptBox[\"u\", \"2\"], \" \", \n",
       "\n",
       " \n",
       ">           SuperscriptBox[SubscriptBox[OverscriptBox[\"r\", \"^\"], \"2\"], \"′\"], \" \", \n",
       "\n",
       " \n",
       ">           SuperscriptBox[SubscriptBox[OverscriptBox[\"r\", \"^\"], \"2\"], \"′′\"]}], \n",
       "\n",
       " \n",
       ">         SubsuperscriptBox[OverscriptBox[\"r\", \"^\"], \"2\", \"3\"]], \"+\", \n",
       "\n",
       " \n",
       ">        FractionBox[RowBox[{\"4\", \" \", SuperscriptBox[\"u\", \"2\"], \" \", \n",
       "\n",
       " \n",
       ">           SuperscriptBox[SubscriptBox[OverscriptBox[\"r\", \"^\"], \"2\"], \"′′′′\"]}], \n",
       "\n",
       " \n",
       ">         RowBox[{SubscriptBox[OverscriptBox[\"r\", \"^\"], \"2\"], \" \", \n",
       "\n",
       " \n",
       ">           SuperscriptBox[SubscriptBox[OverscriptBox[\"r\", \"^\"], \"2\"], \"′\"]}]], \"-\", \n",
       "\n",
       " \n",
       ">        FractionBox[RowBox[{\"11\", \" \", SuperscriptBox[\"u\", \"2\"], \" \", \n",
       "\n",
       " \n",
       ">           SuperscriptBox[RowBox[{\"(\", \n",
       "\n",
       " \n",
       ">              SuperscriptBox[SubscriptBox[OverscriptBox[\"r\", \"^\"], \"2\"], \"′\"], \")\"}], \n",
       "\n",
       " \n",
       ">            \"3\"]}], SubsuperscriptBox[OverscriptBox[\"r\", \"^\"], \"2\", \"4\"]], \"-\", \n",
       "\n",
       " \n",
       ">        FractionBox[RowBox[{\"12\", \" \", SuperscriptBox[\"u\", \"2\"], \" \", \n",
       "\n",
       " \n",
       ">           SuperscriptBox[SubscriptBox[OverscriptBox[\"r\", \"^\"], \"2\"], \"′′′\"]}], \n",
       "\n",
       " \n",
       ">         SubsuperscriptBox[OverscriptBox[\"r\", \"^\"], \"2\", \"2\"]], \"+\", \n",
       "\n",
       " \n",
       ">        FractionBox[SuperscriptBox[SubscriptBox[OverscriptBox[\"r\", \"^\"], \"2\"],\\\n",
       " \n",
       ">    \"′′′′′\"], \n",
       "      \"3\"]}], TraditionalForm]\n"
      ]
     },
     "execution_count": 130,
     "metadata": {
      "text/html": [],
      "text/plain": []
     },
     "output_type": "execute_result"
    }
   ],
   "source": [
    "(* Минус учтём сразу *)\n",
    "dEdr = Simplify[-dEdt/D[Subscript[OverHat[r], 2][OverHat[t]], OverHat[t]] //. OmegaReplace2];\n",
    "Expand[Simplify[dEdr]] // TraditionalForm"
   ]
  },
  {
   "cell_type": "markdown",
   "metadata": {},
   "source": [
    "<span style=\"color:brown\">**NB:**</span> Выражение для $dE/dr$ <span style=\"color:green\">**сопадает**</span> с выраженем для интегранта из binary_catch1.pdf, если учесть деление на $\\hat{r}_2^{(1)}$"
   ]
  },
  {
   "cell_type": "markdown",
   "metadata": {},
   "source": [
    "Из сохранения энергии следует, что\n",
    "$\\hat{E} = \\hat{E}_\\infty = \\frac{u^2}{2} = \\left(\\frac{(\\hat{r}^{(1)})^2}{2} + \\frac{\\hat{r}^2 \\hat{\\omega}^2}{2} - \\frac{1}{\\hat{r}}\\right)$\n",
    "\n",
    "Тогда можно найти $\\hat{r}_2^{(1)}$:"
   ]
  },
  {
   "cell_type": "code",
   "execution_count": 133,
   "metadata": {
    "vscode": {
     "languageId": "wolfram"
    }
   },
   "outputs": [
    {
     "data": {
      "text/html": [
       "<div><img alt=\"Output\" src=\"data:image/png;base64,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\"></div>"
      ],
      "text/plain": [
       "FormBox[RowBox[{RowBox[{\"-\", \"2\"}], \" \", \n",
       "\n",
       " \n",
       ">        SqrtBox[RowBox[{RowBox[{SubscriptBox[OverscriptBox[\"r\", \"^\"], \"2\"], \" \", \n",
       "\n",
       " \n",
       ">             SuperscriptBox[\"u\", \"2\"]}], \"+\", \n",
       "\n",
       " \n",
       ">           RowBox[{\"2\", \" \", SqrtBox[SubscriptBox[OverscriptBox[\"r\", \"^\"], \"2\"]]}],\\\n",
       " \n",
       ">    \"-\", \n",
       "        SuperscriptBox[\"u\", \"2\"]}]]}], TraditionalForm]\n"
      ]
     },
     "execution_count": 133,
     "metadata": {
      "text/html": [],
      "text/plain": []
     },
     "output_type": "execute_result"
    }
   ],
   "source": [
    "eq = Energy - u^2/2 //. Flatten[{\n",
    "  ToR2Replacement,\n",
    "  OmegaReplace2,\n",
    "  D[Subscript[OverHat[r], 2][OverHat[t]], OverHat[t]]^2 -> x^2\n",
    "}];\n",
    "\n",
    "sol = Solve[eq == 0, x][[1]];\n",
    "\n",
    "x /. sol[[1]] // TraditionalForm"
   ]
  },
  {
   "cell_type": "markdown",
   "metadata": {},
   "source": [
    "А также $\\hat{r}_2^{(i)}$ для $i = 1\\dots5$"
   ]
  },
  {
   "cell_type": "code",
   "execution_count": 137,
   "metadata": {
    "vscode": {
     "languageId": "wolfram"
    }
   },
   "outputs": [
    {
     "data": {
      "text/html": [
       "<div><img alt=\"Output\" src=\"data:image/png;base64,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\"></div>"
      ],
      "text/plain": [
       "FormBox[RowBox[{\"{\", RowBox[{RowBox[{RowBox[{\"-\", \"2\"}], \" \", \n",
       "\n",
       " \n",
       ">            SqrtBox[RowBox[{RowBox[{SubscriptBox[OverscriptBox[\"r\", \"^\"], \"2\"], \" \", \n",
       "\n",
       " \n",
       ">                 SuperscriptBox[\"u\", \"2\"]}], \"+\", \n",
       "\n",
       " \n",
       ">               RowBox[{\"2\", \" \", SqrtBox[SubscriptBox[OverscriptBox[\"r\", \"^\"], \"2\"]]}],\\\n",
       " \n",
       ">    \n",
       "            \"-\", SuperscriptBox[\"u\", \"2\"]}]]}], \",\", \n",
       "\n",
       " \n",
       ">          RowBox[{\"2\", \" \", RowBox[{\"(\", \n",
       "           RowBox[{FractionBox[\"1\", \n",
       "\n",
       " \n",
       ">                 SqrtBox[SubscriptBox[OverscriptBox[\"r\", \"^\"], \"2\"]]], \"+\", \n",
       "\n",
       " \n",
       ">                SuperscriptBox[\"u\", \"2\"]}], \")\"}]}], \",\", \n",
       "\n",
       " \n",
       ">          FractionBox[RowBox[{\"2\", \" \", \n",
       "\n",
       " \n",
       ">             SqrtBox[RowBox[{RowBox[{SubscriptBox[OverscriptBox[\"r\", \"^\"], \"2\"], \" \", \n",
       "\n",
       " \n",
       ">                  SuperscriptBox[\"u\", \"2\"]}], \"+\", \n",
       "\n",
       " \n",
       ">                RowBox[{\"2\", \" \", SqrtBox[SubscriptBox[OverscriptBox[\"r\", \"^\"], \n",
       "\n",
       " \n",
       ">                    \"2\"]]}], \"-\", SuperscriptBox[\"u\", \"2\"]}]]}], \n",
       "\n",
       " \n",
       ">           SubsuperscriptBox[OverscriptBox[\"r\", \"^\"], \"2\", RowBox[{\"3\", \"/\", \"2\"}]]], \n",
       "\n",
       " \n",
       ">          \",\", FractionBox[RowBox[{\"2\", \" \", \n",
       "\n",
       " \n",
       ">             RowBox[{\"(\", RowBox[{RowBox[{\"2\", \" \", \n",
       "\n",
       " \n",
       ">                   SubscriptBox[OverscriptBox[\"r\", \"^\"], \"2\"], \" \", \n",
       "\n",
       " \n",
       ">                   SuperscriptBox[\"u\", \"2\"]}], \"+\", \n",
       "\n",
       " \n",
       ">                 RowBox[{\"5\", \" \", SqrtBox[SubscriptBox[OverscriptBox[\"r\", \"^\"], \n",
       "\n",
       " \n",
       ">                     \"2\"]]}], \"-\", RowBox[{\"3\", \" \", SuperscriptBox[\"u\", \"2\"]}]}],\\\n",
       " \n",
       ">    \")\"}\\\n",
       "]}], SubsuperscriptBox[OverscriptBox[\"r\", \"^\"], \"2\", RowBox[{\"5\", \"/\",\\\n",
       " \n",
       ">    \"2\"}]]], \",\", \n",
       "       FractionBox[RowBox[{\"2\", \" \", \n",
       "\n",
       " \n",
       ">             SqrtBox[RowBox[{RowBox[{SubscriptBox[OverscriptBox[\"r\", \"^\"], \"2\"], \" \", \n",
       "\n",
       " \n",
       ">                  SuperscriptBox[\"u\", \"2\"]}], \"+\", \n",
       "\n",
       " \n",
       ">                RowBox[{\"2\", \" \", SqrtBox[SubscriptBox[OverscriptBox[\"r\", \"^\"], \n",
       "\n",
       " \n",
       ">                    \"2\"]]}], \"-\", SuperscriptBox[\"u\", \"2\"]}]], \" \", \n",
       "\n",
       " \n",
       ">             RowBox[{\"(\", RowBox[{RowBox[{\"6\", \" \", \n",
       "\n",
       " \n",
       ">                   SubscriptBox[OverscriptBox[\"r\", \"^\"], \"2\"], \" \", \n",
       "\n",
       " \n",
       ">                   SuperscriptBox[\"u\", \"2\"]}], \"+\", \n",
       "\n",
       " \n",
       ">                 RowBox[{\"20\", \" \", SqrtBox[SubscriptBox[OverscriptBox[\"r\", \"^\"], \n",
       "\n",
       " \n",
       ">                     \"2\"]]}], \"-\", RowBox[{\"15\", \" \", SuperscriptBox[\"u\", \"2\"]}]}],\\\n",
       " \n",
       ">    \")\"}\\\n",
       "]}], SubsuperscriptBox[OverscriptBox[\"r\", \"^\"], \"2\", RowBox[{\"7\", \"/\",\\\n",
       " \n",
       ">    \"2\"}]]]}], \"}\"}]\\\n",
       ", TraditionalForm]\n"
      ]
     },
     "execution_count": 137,
     "metadata": {
      "text/html": [],
      "text/plain": []
     },
     "output_type": "execute_result"
    }
   ],
   "source": [
    "replacementRule = D[Subscript[OverHat[r], 2][OverHat[t]], OverHat[t]] :> x /. sol[[1]];\n",
    "\n",
    "(* Рекурсивно вычисляем производные *)\n",
    "dr2 = NestList[\n",
    "   Simplify[D[#, OverHat[t]] /. replacementRule] &,\n",
    "   x /. sol[[1]],\n",
    "   4\n",
    "];\n",
    "\n",
    "dr2 // TraditionalForm"
   ]
  },
  {
   "cell_type": "markdown",
   "metadata": {},
   "source": [
    "Заменяя вхождение **всех** производных в выражении для $dE/dr$, получим"
   ]
  },
  {
   "cell_type": "code",
   "execution_count": 139,
   "metadata": {
    "vscode": {
     "languageId": "wolfram"
    }
   },
   "outputs": [
    {
     "data": {
      "text/html": [
       "<div><img alt=\"Output\" src=\"data:image/png;base64,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\"></div>"
      ],
      "text/plain": [
       "FormBox[FractionBox[RowBox[{\"2\", \" \", \n",
       "      RowBox[{\"(\", RowBox[{RowBox[{\"6\", \" \", \n",
       "\n",
       " \n",
       ">               SubsuperscriptBox[OverscriptBox[\"r\", \"^\"], \"2\", \"2\"], \" \", \n",
       "\n",
       " \n",
       ">               SuperscriptBox[\"u\", \"4\"]}], \"+\", \n",
       "\n",
       " \n",
       ">             RowBox[{SubscriptBox[OverscriptBox[\"r\", \"^\"], \"2\"], \" \", \n",
       "\n",
       " \n",
       ">               RowBox[{\"(\", RowBox[{RowBox[{\"51\", \" \", SuperscriptBox[\"u\", \"4\"]}], \n",
       "\n",
       " \n",
       ">                   \"+\", \"40\"}], \")\"}]}], \"+\", \n",
       "\n",
       " \n",
       ">             RowBox[{\"32\", \" \", SubsuperscriptBox[OverscriptBox[\"r\", \"^\"], \"2\", \n",
       "\n",
       " \n",
       ">                RowBox[{\"3\", \"/\", \"2\"}]], \" \", SuperscriptBox[\"u\", \"2\"]}], \"+\", \n",
       "\n",
       " \n",
       ">             RowBox[{\"100\", \" \", SqrtBox[SubscriptBox[OverscriptBox[\"r\", \"^\"], \"2\"]], \n",
       "\n",
       " \n",
       ">               \" \", SuperscriptBox[\"u\", \"2\"]}], \"-\", \n",
       "\n",
       " \n",
       ">             RowBox[{\"75\", \" \", SuperscriptBox[\"u\", \"4\"]}]}], \")\"}]}], \n",
       "\n",
       " \n",
       ">       RowBox[{\"3\", \" \", SubsuperscriptBox[OverscriptBox[\"r\", \"^\"], \"2\", \n",
       "\n",
       " \n",
       ">          RowBox[{\"7\", \"/\", \"2\"}]], \" \", \n",
       "\n",
       " \n",
       ">         SqrtBox[RowBox[{RowBox[{SubscriptBox[OverscriptBox[\"r\", \"^\"], \"2\"], \" \", \n",
       "\n",
       " \n",
       ">              SuperscriptBox[\"u\", \"2\"]}], \"+\", \n",
       "\n",
       " \n",
       ">            RowBox[{\"2\", \" \", SqrtBox[SubscriptBox[OverscriptBox[\"r\", \"^\"], \"2\"]]}],\\\n",
       " \n",
       ">    \"-\", \n",
       "         SuperscriptBox[\"u\", \"2\"]}]]}]], TraditionalForm]\n"
      ]
     },
     "execution_count": 139,
     "metadata": {
      "text/html": [],
      "text/plain": []
     },
     "output_type": "execute_result"
    }
   ],
   "source": [
    "dEdrFinal = Fold[ (* Последовательно применяем замены *)\n",
    "  Simplify[#1 /.\n",
    "    D[Subscript[OverHat[r], 2][OverHat[t]], {OverHat[t], #2}] -> dr2[[#2]]] &,\n",
    "  dEdr,\n",
    "  Range[5]\n",
    "];\n",
    "\n",
    "Simplify[dEdrFinal] // TraditionalForm"
   ]
  },
  {
   "cell_type": "markdown",
   "metadata": {},
   "source": [
    "$$\n",
    "  \\Delta \\hat{E}(u) = \\epsilon_G \\frac{4}{3}\\int\\limits_{\\hat{r}_2^\\text{min}}^\\infty \\frac{32 \\hat{r}_2^{3/2} u^2+6 \\hat{r}_2^2 u^4+\\hat{r}_2 \\left(51 u^4+40\\right)+100 \\sqrt{\\hat{r}_2} u^2-75 u^4}{\\hat{r}_2^{7/2} \\sqrt{\\hat{r}_2 u^2+2 \\sqrt{\\hat{r}_2}-u^2}} \\, d\\hat{r}_2,\n",
    "$$\n",
    "где при $\\hat{r}_2 \\ge \\hat{r}_2^{\\text{min}}$ выражение $\\hat{r}_2u^2 + 2\\sqrt{\\hat{r}_2} - u^2 \\ge 0$."
   ]
  },
  {
   "cell_type": "markdown",
   "metadata": {},
   "source": [
    "Полученный выше интеграл **компактнее**, чем тот, что рассмотрен в файле binary_catch2.pdf\n",
    "$$\n",
    "  \\Delta \\hat{E}(u) = \\epsilon_G \\frac{4}{3}\\int\\limits_{\\hat{r}_2^\\text{min}}^\\infty \\frac{24\\hat{r}_2^2u^6 + 48u^6\\hat{r}_2 + 120\\hat{r}_2^{3/2}u^4 - 96u^6 + 96u^4\\sqrt{\\hat{r}_2} - u^2\\hat{r}_2^2 + 133u^2\\hat{r}_2 - 2\\hat{r}_2^{3/2}}{\\hat{r}_2^4\\sqrt{u^2\\hat{r}_2 + 2\\sqrt{\\hat{r}_2} - u^2}} \\, d\\hat{r}_2,\n",
    "$$"
   ]
  },
  {
   "cell_type": "markdown",
   "metadata": {},
   "source": [
    "<span style=\"color:brown\">**NB:**</span> Однако, будучи аналитически взятым будет полностью <span style=\"color:green\">**совпадать!**</span>\n",
    "\n",
    "Смотри подробности в файле binary_catch_integral.ipynb\n",
    " \n",
    "Там компактный интеграл назван $I_5$, а второй $I_4$.\n",
    "\n",
    "Выпишем ответ:"
   ]
  },
  {
   "cell_type": "code",
   "execution_count": 141,
   "metadata": {
    "vscode": {
     "languageId": "wolfram"
    }
   },
   "outputs": [
    {
     "data": {
      "text/html": [
       "<div><img alt=\"Output\" src=\"data:image/png;base64,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\"></div>"
      ],
      "text/plain": [
       "FormBox[RowBox[{\"-\", FractionBox[RowBox[{SubscriptBox[\"ϵ\", \"G\"], \" \", \n",
       "\n",
       " \n",
       ">           RowBox[{\"(\", RowBox[{RowBox[{RowBox[{\"(\", \n",
       "\n",
       " \n",
       ">                   RowBox[{RowBox[{\"673\", \" \", SuperscriptBox[\"u\", \"4\"]}], \"+\", \n",
       "\n",
       " \n",
       ">                     \"1275\"}], \")\"}], \" \", SuperscriptBox[\"u\", \"2\"]}], \"+\", \n",
       "\n",
       " \n",
       ">               RowBox[{\"3\", \" \", RowBox[{\"(\", \n",
       "\n",
       " \n",
       ">                   RowBox[{RowBox[{\"37\", \" \", SuperscriptBox[\"u\", \"8\"]}], \"+\", \n",
       "\n",
       " \n",
       ">                     RowBox[{\"366\", \" \", SuperscriptBox[\"u\", \"4\"]}], \"+\", \"425\"}],\\\n",
       " \n",
       ">    \")\"}\\\n",
       "], \" \", RowBox[{\"(\", RowBox[{RowBox[{SuperscriptBox[\"tan\", RowBox[{\"-\",\\\n",
       " \n",
       ">    \"1\"}]], \n",
       "                    \"(\", FractionBox[\"1\", SuperscriptBox[\"u\", \"2\"]],\\\n",
       " \n",
       ">    \")\"}], \"+\", \n",
       "                  FractionBox[\"π\", \"2\"]}], \")\"}]}]}], \")\"}]}], \n",
       "\n",
       " \n",
       ">         RowBox[{\"9\", \" \", SuperscriptBox[\"u\", \"7\"]}]]}], TraditionalForm]\n"
      ]
     },
     "execution_count": 141,
     "metadata": {
      "text/html": [],
      "text/plain": []
     },
     "output_type": "execute_result"
    }
   ],
   "source": [
    "DeltaE = -Subscript[\\[Epsilon], G]/9*(u^2*(1275 + 673*u^4) + 3*(425 + 366*u^4 + 37*u^8)*(Pi/2 + ArcTan[u^(-2)]))/u^7;\n",
    "DeltaE // TraditionalForm"
   ]
  },
  {
   "cell_type": "code",
   "execution_count": 142,
   "metadata": {
    "vscode": {
     "languageId": "wolfram"
    }
   },
   "outputs": [
    {
     "data": {
      "text/html": [
       "<div>&#36;&#36;&#45;&#92;&#102;&#114;&#97;&#99;&#123;&#92;&#101;&#112;&#115;&#105;&#108;&#111;&#110;&#32;&#95;&#71;&#32;&#92;&#108;&#101;&#102;&#116;&#40;&#92;&#108;&#101;&#102;&#116;&#40;&#54;&#55;&#51;&#32;&#117;&#94;&#52;&#43;&#49;&#50;&#55;&#53;&#92;&#114;&#105;&#103;&#104;&#116;&#41;&#32;&#117;&#94;&#50;&#43;&#51;&#32;&#92;&#108;&#101;&#102;&#116;&#40;&#51;&#55;&#32;&#117;&#94;&#56;&#43;&#51;&#54;&#54;&#32;&#117;&#94;&#52;&#43;&#52;&#50;&#53;&#92;&#114;&#105;&#103;&#104;&#116;&#41;&#32;&#92;&#108;&#101;&#102;&#116;&#40;&#92;&#116;&#97;&#110;&#32;&#94;&#123;&#45;&#49;&#125;&#92;&#108;&#101;&#102;&#116;&#40;&#92;&#102;&#114;&#97;&#99;&#123;&#49;&#125;&#123;&#117;&#94;&#50;&#125;&#92;&#114;&#105;&#103;&#104;&#116;&#41;&#43;&#92;&#102;&#114;&#97;&#99;&#123;&#92;&#112;&#105;&#32;&#125;&#123;&#50;&#125;&#92;&#114;&#105;&#103;&#104;&#116;&#41;&#92;&#114;&#105;&#103;&#104;&#116;&#41;&#125;&#123;&#57;&#32;&#117;&#94;&#55;&#125;&#36;&#36;</div>"
      ],
      "text/plain": [
       "-\\frac{\\epsilon _G \\left(\\left(673 u^4+1275\\right) u^2+3 \\left(37 u^8+366 u^4+425\\right)\\\n",
       " \n",
       ">   \\left(\\tan ^{-1}\\left(\\frac{1}{u^2}\\right)+\\frac{\\pi }{2}\\right)\\right)}{9 u^7}"
      ]
     },
     "execution_count": 142,
     "metadata": {
      "text/html": [],
      "text/plain": []
     },
     "output_type": "execute_result"
    }
   ],
   "source": [
    "TeXForm[DeltaE]"
   ]
  },
  {
   "cell_type": "markdown",
   "metadata": {},
   "source": [
    "<span style=\"color:brown\">**NB:**</span> Почему при малых $u$ значения $\\Delta \\hat{E}(u)$ безгранично растут?\n",
    "\n",
    "В задаче расчёта средней потери энергии на грав изулчение предполагается близость к Ньютоновской орбите.\n",
    "При малых скоростях, однако, мы видим, что первоначальная положительная малая почти нулевая полная энергия\n",
    "теряется, превращаясь в сколько угодно большую отрицательную энергию.\n",
    "Кажется, что мы сильно отклоняемся от близости к ньютоновской орбиты и не имеем право интегрировать вдоль неё.\n",
    "\n",
    "Однако, в нашей моделе, когда одно тело налетает на другое из бесконечности, в приближении Ньютона возможны только два типа орбит:\n",
    "гиперболическая орбита и вырожденная гипербола (прямое падение).\n",
    "В случае малых скоростей как раз будет прямое падение.\n",
    "И даже неограниченная потеря энергии на грав излучения не меняет формы этой \"орбиты\": мы **можем** интегрироваться вдоль неё."
   ]
  },
  {
   "cell_type": "code",
   "execution_count": 143,
   "metadata": {
    "vscode": {
     "languageId": "wolfram"
    }
   },
   "outputs": [
    {
     "data": {
      "text/html": [
       "<div><img alt=\"Output\" src=\"data:image/png;base64,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\"></div>"
      ],
      "text/plain": [
       "FormBox[InterpretationBox[RowBox[{RowBox[{\"-\", \n",
       "\n",
       " \n",
       ">           FractionBox[RowBox[{\"425\", \" \", \n",
       "\n",
       " \n",
       ">              RowBox[{\"(\", RowBox[{\"π\", \" \", SubscriptBox[\"ϵ\", \"G\"]}], \")\"}]}], \n",
       "\n",
       " \n",
       ">            RowBox[{\"3\", \" \", SuperscriptBox[\"u\", \"7\"]}]]}], \"+\", \n",
       "\n",
       " \n",
       ">         InterpretationBox[RowBox[{\"O\", \"(\", \n",
       "\n",
       " \n",
       ">            FractionBox[\"1\", SuperscriptBox[\"u\", \"3\"]], \")\"}], \n",
       "\n",
       " \n",
       ">          SeriesData[u, 0, List[], -7, -3, 1], Rule[Editable, False]]}], \n",
       "\n",
       " \n",
       ">       SeriesData[u, 0, List[Times[Rational[-425, 3], Pi, Subscript[\\[Epsilon], G]]], \n",
       "\n",
       " \n",
       ">        -7, -3, 1], Rule[Editable, False]], TraditionalForm]\n"
      ]
     },
     "execution_count": 143,
     "metadata": {
      "text/html": [],
      "text/plain": []
     },
     "output_type": "execute_result"
    }
   ],
   "source": [
    "Simplify[Series[DeltaE, {u, 0, -4}]] // TraditionalForm"
   ]
  },
  {
   "cell_type": "markdown",
   "metadata": {},
   "source": [
    "## Условия захвата\n",
    "\n",
    "На бесконечнос энергия объекта была $u^2/2$\n",
    "\n",
    "Если $2|\\Delta \\hat{E}| > u^2$, то гиперболическая орбита превратится в эллиптическую за один полный оборот,\n",
    "\n",
    "далее тело уже не сможет \"уходить\" на бесконечность.\n",
    "\n",
    "Из-за ограничения локализации точнее условие захвата поставить **нельзя**"
   ]
  },
  {
   "cell_type": "code",
   "execution_count": 146,
   "metadata": {
    "vscode": {
     "languageId": "wolfram"
    }
   },
   "outputs": [
    {
     "data": {
      "text/html": [
       "<div><img alt=\"Output\" src=\"data:image/png;base64,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\"></div>"
      ],
      "text/plain": [
       "FormBox[RowBox[{SuperscriptBox[\"u\", \"9\"], \"<\", \n",
       "\n",
       " \n",
       ">        RowBox[{FractionBox[\"2\", \"9\"], \" \", SubscriptBox[\"ϵ\", \"G\"], \" \", \n",
       "\n",
       " \n",
       ">          RowBox[{\"(\", RowBox[{RowBox[{RowBox[{\"(\", \n",
       "\n",
       " \n",
       ">                  RowBox[{RowBox[{\"673\", \" \", SuperscriptBox[\"u\", \"4\"]}], \"+\", \n",
       "\n",
       " \n",
       ">                    \"1275\"}], \")\"}], \" \", SuperscriptBox[\"u\", \"2\"]}], \"+\", \n",
       "\n",
       " \n",
       ">              RowBox[{FractionBox[\"3\", \"2\"], \" \", \n",
       "\n",
       " \n",
       ">                RowBox[{\"(\", RowBox[{RowBox[{\"37\", \" \", SuperscriptBox[\"u\", \"8\"]}], \n",
       "\n",
       " \n",
       ">                    \"+\", RowBox[{\"366\", \" \", SuperscriptBox[\"u\", \"4\"]}], \"+\", \"425\"}], \n",
       "\n",
       " \n",
       ">                  \")\"}], \" \", RowBox[{\"(\", \n",
       "               RowBox[{RowBox[{\"2\", \" \", \n",
       "\n",
       " \n",
       ">                      RowBox[{SuperscriptBox[\"tan\", RowBox[{\"-\", \"1\"}]], \"(\", \n",
       "\n",
       " \n",
       ">                        FractionBox[\"1\", SuperscriptBox[\"u\", \"2\"]], \")\"}]}], \"+\",\\\n",
       " \n",
       ">    \"π\"}], \n",
       "               \")\"}]}]}], \")\"}]}]}], TraditionalForm]\n"
      ]
     },
     "execution_count": 146,
     "metadata": {
      "text/html": [],
      "text/plain": []
     },
     "output_type": "execute_result"
    }
   ],
   "source": [
    "DeltaE2 = Simplify[DeltaE + u^2/2];\n",
    "uMax2 = Simplify[2 u^7 DeltaE2];\n",
    "Simplify[uMax2 < 0] // TraditionalForm"
   ]
  },
  {
   "cell_type": "markdown",
   "metadata": {},
   "source": [
    "<span style=\"color:brown\">**NB:**</span> Условие захвата, <span style=\"color:green\">**совпадает**</span> с условием из файла binary_catch.pdf"
   ]
  },
  {
   "cell_type": "markdown",
   "metadata": {},
   "source": [
    "<span style=\"color:red\">**TODO:**</span> Сравнить условия захвата при $u \\rightarrow 0$ с другими авторами"
   ]
  },
  {
   "cell_type": "code",
   "execution_count": 147,
   "metadata": {
    "vscode": {
     "languageId": "wolfram"
    }
   },
   "outputs": [
    {
     "data": {
      "text/html": [
       "<div><img alt=\"Output\" src=\"data:image/png;base64,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\"></div>"
      ],
      "text/plain": [
       "FormBox[InterpretationBox[RowBox[{FractionBox[RowBox[{\"850\", \" \", \"π\", \" \", \n",
       "\n",
       " \n",
       ">            SubscriptBox[\"ϵ\", \"G\"]}], \"3\"], \"+\", \n",
       "\n",
       " \n",
       ">         InterpretationBox[RowBox[{\"O\", \"(\", SuperscriptBox[\"u\", \"1\"], \")\"}], \n",
       "\n",
       " \n",
       ">          SeriesData[u, 0, List[], 0, 1, 1], Rule[Editable, False]]}], \n",
       "\n",
       " \n",
       ">       SeriesData[u, 0, List[Times[Rational[850, 3], Pi, Subscript[\\[Epsilon], G]]], 0,\\\n",
       " \n",
       ">    \n",
       "     1, 1], Rule[Editable, False]], TraditionalForm]\n"
      ]
     },
     "execution_count": 147,
     "metadata": {
      "text/html": [],
      "text/plain": []
     },
     "output_type": "execute_result"
    }
   ],
   "source": [
    "Simplify[Series[(u^9 - uMax2), {u, 0, 0}]] // TraditionalForm"
   ]
  },
  {
   "cell_type": "markdown",
   "metadata": {},
   "source": [
    "## Поведение $\\hat{E}_1$ в зависимости от начальной сокрости $u$ и параметра $\\epsilon_G$\n",
    "\n",
    "$$\n",
    "\\hat{E}_1 = \\hat{E}_0 + \\Delta \\hat{E}\n",
    "$$\n",
    "\n",
    "$\\epsilon_G = \\frac{2}{5}\\frac{\\mu}{M} \\left( \\frac{r_s}{2b} \\right)^{\\frac{5}{2}}$,\n",
    "где $r_s = \\frac{2 G M}{c^2}$ - сумма радиусов Шварцшильда двух тел.\n",
    "\n",
    "При прицельных параметрах $b$ сравнимых с радиусом Шварцшильда, $\\epsilon_G$ не мал (смотри $\\epsilon_G = 10$)\n",
    "энергия всегда отрицальна при скоростях $u < 100$, то есть тела уже в захвате.\n",
    "\n",
    "Если прицельный параметр много больше, чем $r_s$, то есть $\\epsilon_G$ мал,\n",
    "то существует такая скорость $u < 100$, при значении которой (и меньших скоростях) происходит захват."
   ]
  },
  {
   "cell_type": "code",
   "execution_count": 148,
   "metadata": {
    "vscode": {
     "languageId": "wolfram"
    }
   },
   "outputs": [
    {
     "data": {
      "text/html": [
       "<div><img alt=\"Output\" src=\"data:image/png;base64,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\"></div>"
      ],
      "text/plain": [
       "Legended[-Graphics-, Placed[LineLegend[{Directive[Opacity[1.], RGBColor[0.24, 0.6, 0.8], \n",
       " \n",
       ">       AbsoluteThickness[2]], Directive[Opacity[1.], RGBColor[0.95, 0.627, 0.1425], \n",
       " \n",
       ">       AbsoluteThickness[2]], Directive[Opacity[1.], RGBColor[0.455, 0.7, 0.21], \n",
       " \n",
       ">       AbsoluteThickness[2]], Directive[Opacity[1.], \n",
       " \n",
       ">       RGBColor[0.922526, 0.385626, 0.209179], AbsoluteThickness[2]], \n",
       " \n",
       ">      Directive[Opacity[1.], RGBColor[0.578, 0.51, 0.85], AbsoluteThickness[2]], \n",
       " \n",
       ">      Directive[Opacity[1.], RGBColor[0.772079, 0.431554, 0.102387], \n",
       " \n",
       ">       AbsoluteThickness[2]], Directive[Opacity[1.], RGBColor[0.4, 0.64, 1.], \n",
       " \n",
       ">       AbsoluteThickness[2]]}, {EpsilonG = 10, EpsilonG = 2, EpsilonG = 1, \n",
       " \n",
       ">      EpsilonG = 0.5, EpsilonG = 0.1, EpsilonG = 10^(-2), EpsilonG = 10^(-5)}, \n",
       " \n",
       ">     LegendMarkers -> None, LabelStyle -> {}, LegendLayout -> Column], After, Identity]]"
      ]
     },
     "execution_count": 148,
     "metadata": {
      "text/html": [],
      "text/plain": []
     },
     "output_type": "execute_result"
    }
   ],
   "source": [
    "Plot[\n",
    "  {\n",
    "    u^2/2 + DeltaE /. Subscript[\\[Epsilon], G] -> 10,\n",
    "    u^2/2 + DeltaE /. Subscript[\\[Epsilon], G] -> 2,\n",
    "    u^2/2 + DeltaE /. Subscript[\\[Epsilon], G] -> 1,\n",
    "    u^2/2 + DeltaE /. Subscript[\\[Epsilon], G] -> 0.5,\n",
    "    u^2/2 + DeltaE /. Subscript[\\[Epsilon], G] -> 0.1,\n",
    "    u^2/2 + DeltaE /. Subscript[\\[Epsilon], G] -> 10^(-2),\n",
    "    u^2/2 + DeltaE /. Subscript[\\[Epsilon], G] -> 10^(-5)\n",
    "  },\n",
    "  {u, 0.0, 100},\n",
    "  AxesLabel -> {\"u\", \"E1\"},\n",
    "  PlotLegends -> {\n",
    "    \"EpsilonG = 10\",\n",
    "    \"EpsilonG = 2\",\n",
    "    \"EpsilonG = 1\",\n",
    "    \"EpsilonG = 0.5\",\n",
    "    \"EpsilonG = 0.1\",\n",
    "    \"EpsilonG = 10^(-2)\",\n",
    "    \"EpsilonG = 10^(-5)\"\n",
    "    },\n",
    "  PlotRange -> All,\n",
    "  ScalingFunctions -> {\"Log\", \"SignedLog\"}\n",
    "]"
   ]
  },
  {
   "cell_type": "markdown",
   "metadata": {},
   "source": [
    "Но при движении пары объектов происходит и уменьшение момента импульса.\n",
    "В тот момент, когда начальный импульс уменьшится до нуля тела начнут падать друг на друга, даже если\n",
    "полная энергия при этом у системы больше нуля.\n",
    "\n",
    "Следовательно, необходимо скорректировать условие захвата."
   ]
  },
  {
   "cell_type": "markdown",
   "metadata": {},
   "source": [
    "# Потеря момента за один период обращения\n",
    "\n",
    "$$\n",
    "\\Delta \\hat{J} = 2 \\epsilon_G \\int\\limits_{\\hat{t}_{\\text{min}}}^{\\infty}I_J(\\hat{t}) d \\hat{t}\n",
    "= - 2 \\epsilon_G \\int\\limits_{\\hat{r}_2^{\\text{min}}}^{\\infty}\\frac{I_J(\\hat{r}_2)}{\\hat{r}_2^{(1)}}d \\hat{r}_2,\n",
    "$$\n",
    "\n",
    "где мы заменим $\\hat{\\omega}$ на $\\frac{u}{\\hat{r}_2}$"
   ]
  },
  {
   "cell_type": "code",
   "execution_count": 151,
   "metadata": {
    "vscode": {
     "languageId": "wolfram"
    }
   },
   "outputs": [
    {
     "data": {
      "text/html": [
       "<div><img alt=\"Output\" src=\"data:image/png;base64,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\"></div>"
      ],
      "text/plain": [
       "FormBox[RowBox[{FractionBox[RowBox[{\"16\", \" \", SuperscriptBox[\"u\", \"5\"]}], \n",
       "\n",
       " \n",
       ">         RowBox[{SubsuperscriptBox[OverscriptBox[\"r\", \"^\"], \"2\", \"3\"], \" \", \n",
       "\n",
       " \n",
       ">           SuperscriptBox[SubscriptBox[OverscriptBox[\"r\", \"^\"], \"2\"], \"′\"]}]], \"-\", \n",
       "\n",
       " \n",
       ">        FractionBox[RowBox[{\"20\", \" \", SuperscriptBox[\"u\", \"3\"], \" \", \n",
       "\n",
       " \n",
       ">           SuperscriptBox[SubscriptBox[OverscriptBox[\"r\", \"^\"], \"2\"], \"′\"]}], \n",
       "\n",
       " \n",
       ">         SubsuperscriptBox[OverscriptBox[\"r\", \"^\"], \"2\", \"3\"]], \"-\", \n",
       "\n",
       " \n",
       ">        FractionBox[RowBox[{\"4\", \" \", \"u\", \" \", \n",
       "        SuperscriptBox[RowBox[{\"(\", \n",
       "\n",
       " \n",
       ">              SuperscriptBox[SubscriptBox[OverscriptBox[\"r\", \"^\"], \"2\"], \"′′\"], \")\"}], \n",
       "\n",
       " \n",
       ">            \"2\"]}], RowBox[{SubscriptBox[OverscriptBox[\"r\", \"^\"], \"2\"], \" \", \n",
       "\n",
       " \n",
       ">           SuperscriptBox[SubscriptBox[OverscriptBox[\"r\", \"^\"], \"2\"], \"′\"]}]], \"+\", \n",
       "\n",
       " \n",
       ">        FractionBox[RowBox[{\"14\", \" \", \"u\", \" \", \n",
       "\n",
       " \n",
       ">           SuperscriptBox[SubscriptBox[OverscriptBox[\"r\", \"^\"], \"2\"], \"′\"], \" \", \n",
       "\n",
       " \n",
       ">           SuperscriptBox[SubscriptBox[OverscriptBox[\"r\", \"^\"], \"2\"], \"′′\"]}], \n",
       "\n",
       " \n",
       ">         SubsuperscriptBox[OverscriptBox[\"r\", \"^\"], \"2\", \"2\"]], \"+\", \n",
       "\n",
       " \n",
       ">        FractionBox[RowBox[{\"4\", \" \", \"u\", \" \", \n",
       "\n",
       " \n",
       ">           SuperscriptBox[SubscriptBox[OverscriptBox[\"r\", \"^\"], \"2\"], \"′′′′\"]}], \n",
       "\n",
       " \n",
       ">         SuperscriptBox[SubscriptBox[OverscriptBox[\"r\", \"^\"], \"2\"], \"′\"]], \"-\", \n",
       "\n",
       " \n",
       ">        FractionBox[RowBox[{\"6\", \" \", \"u\", \" \", \n",
       "        SuperscriptBox[RowBox[{\"(\", \n",
       "\n",
       " \n",
       ">              SuperscriptBox[SubscriptBox[OverscriptBox[\"r\", \"^\"], \"2\"], \"′\"], \")\"}], \n",
       "\n",
       " \n",
       ">            \"3\"]}], SubsuperscriptBox[OverscriptBox[\"r\", \"^\"], \"2\", \"3\"]], \"-\", \n",
       "\n",
       " \n",
       ">        FractionBox[RowBox[{\"7\", \" \", \"u\", \" \", \n",
       "\n",
       " \n",
       ">           SuperscriptBox[SubscriptBox[OverscriptBox[\"r\", \"^\"], \"2\"], \"′′′\"]}], \n",
       "\n",
       " \n",
       ">         SubscriptBox[OverscriptBox[\"r\", \"^\"], \"2\"]]}], TraditionalForm]\n"
      ]
     },
     "execution_count": 151,
     "metadata": {
      "text/html": [],
      "text/plain": []
     },
     "output_type": "execute_result"
    }
   ],
   "source": [
    "(* Минус учтём сразу *)\n",
    "dJdr = Simplify[-dJdt/D[Subscript[OverHat[r], 2][OverHat[t]], OverHat[t]] //. OmegaReplace2];\n",
    "Expand[Simplify[dJdr]] // TraditionalForm"
   ]
  },
  {
   "cell_type": "markdown",
   "metadata": {},
   "source": [
    "<span style=\"color:brown\">**NB:**</span> Выражение для $dJ/dr$ <span style=\"color:green\">**сопадает**</span> с выраженем для интегранта из binary_catch3.pdf, если учесть деление на $\\hat{r}_2^{(1)}$"
   ]
  },
  {
   "cell_type": "markdown",
   "metadata": {
    "vscode": {
     "languageId": "wolfram"
    }
   },
   "source": [
    "Заменяя вхождение **всех** производных в выражении для $dJ/dr$, получим"
   ]
  },
  {
   "cell_type": "code",
   "execution_count": 153,
   "metadata": {
    "vscode": {
     "languageId": "wolfram"
    }
   },
   "outputs": [
    {
     "data": {
      "text/html": [
       "<div><img alt=\"Output\" src=\"data:image/png;base64,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\"></div>"
      ],
      "text/plain": [
       "FormBox[FractionBox[RowBox[{\"2\", \" \", \"u\", \" \", \n",
       "\n",
       " \n",
       ">         RowBox[{\"(\", RowBox[{RowBox[{\"9\", \" \", \n",
       "\n",
       " \n",
       ">               SubscriptBox[OverscriptBox[\"r\", \"^\"], \"2\"], \" \", \n",
       "\n",
       " \n",
       ">               SuperscriptBox[\"u\", \"2\"]}], \"+\", \n",
       "\n",
       " \n",
       ">             RowBox[{\"20\", \" \", SqrtBox[SubscriptBox[OverscriptBox[\"r\", \"^\"], \"2\"]]}], \n",
       "\n",
       " \n",
       ">             \"-\", RowBox[{\"15\", \" \", SuperscriptBox[\"u\", \"2\"]}]}], \")\"}]}], \n",
       "\n",
       " \n",
       ">       RowBox[{SubsuperscriptBox[OverscriptBox[\"r\", \"^\"], \"2\", RowBox[{\"5\", \"/\",\\\n",
       " \n",
       ">    \"2\"}]], \n",
       "      \" \", SqrtBox[RowBox[{RowBox[{SubscriptBox[OverscriptBox[\"r\", \"^\"],\\\n",
       " \n",
       ">    \"2\"], \" \", \n",
       "           SuperscriptBox[\"u\", \"2\"]}], \"+\", \n",
       "\n",
       " \n",
       ">            RowBox[{\"2\", \" \", SqrtBox[SubscriptBox[OverscriptBox[\"r\", \"^\"], \"2\"]]}],\\\n",
       " \n",
       ">    \"-\", \n",
       "         SuperscriptBox[\"u\", \"2\"]}]]}]], TraditionalForm]\n"
      ]
     },
     "execution_count": 153,
     "metadata": {
      "text/html": [],
      "text/plain": []
     },
     "output_type": "execute_result"
    }
   ],
   "source": [
    "dJdrFinal = Fold[ (* Последовательно применяем замены *)\n",
    "  Simplify[#1 /.\n",
    "    D[Subscript[OverHat[r], 2][OverHat[t]], {OverHat[t], #2}] -> dr2[[#2]]] &,\n",
    "  dJdr,\n",
    "  Range[5]\n",
    "];\n",
    "\n",
    "Simplify[dJdrFinal] // TraditionalForm"
   ]
  },
  {
   "cell_type": "markdown",
   "metadata": {},
   "source": [
    "$$\n",
    "  \\Delta \\hat{J}(u) = 4 \\epsilon_G \\int\\limits_{\\hat{r}_2^\\text{min}}^\\infty \\frac{u \\left(20\\sqrt{\\hat{r}_2} - 15u^2 + 9\\hat{r}_2 u^2\\right)}{\\hat{r}_2^{\\frac{5}{2}} \\sqrt{2\\sqrt{\\hat{r}_2} - u^2 + \\hat{r}_2 u^2}} \\, d\\hat{r}_2,\n",
    "$$\n",
    "где при $\\hat{r}_2 \\ge \\hat{r}_2^{\\text{min}}$ выражение $\\hat{r}_2u^2 + 2\\sqrt{\\hat{r}_2} - u^2 \\ge 0$.\n",
    "\n",
    "Полученный выше интеграл **компактнее**, чем тот, что рассмотрен в файле binary_catch3.pdf\n",
    "\n",
    "Смотри подробности в файле binary_catch_integral.ipynb\n",
    " \n",
    "Выпишем ответ:"
   ]
  },
  {
   "cell_type": "code",
   "execution_count": 155,
   "metadata": {
    "vscode": {
     "languageId": "wolfram"
    }
   },
   "outputs": [
    {
     "data": {
      "text/html": [
       "<div><img alt=\"Output\" src=\"data:image/png;base64,iVBORw0KGgoAAAANSUhEUgAAAfIAAABgCAIAAABpKmd7AAAAy3pUWHRSYXcgcHJvZmlsZSB0eXBlIGV4aWYAAHjabU9bDgMhCPz3FD0CDx30OG7rJr1Bj19caRqbTiIMA4MhjdfzTLcJYUq5WEUDyJFbbtKdVFpYmald8cIpwXjXE8LD3aXybWCEfuy6hUHqzyKSRXT+4FxzGGKRytK5r/qIeem17ouUNrQP4f91VhMUsGWPWcgMzXlNTj2hCBXDiTvgg4yHUL57HjBzG2xOaJ/GCRm2T48EdeExT9D5inbP6pG1ylSCe1RXjuheh6Q3Wi5aw1HYBhkAAAAJcEhZcwAAFiUAABYlAUlSJPAAAAA8dEVYdFNvZnR3YXJlAENyZWF0ZWQgd2l0aCB0aGUgV29sZnJhbSBMYW5ndWFnZSA6IHd3dy53b2xmcmFtLmNvbVyipoUAAAAhdEVYdENyZWF0aW9uIFRpbWUAMjAyNTowMzoxOCAyMzoxODozON46wycAACAASURBVHhe7d17/GXl1ABwifC6hZFbGuUy0oR0EQovoiFSRiUSkmgSicjlRbnl0k2TVCKhCCFNb9KgUhi5TFKKJCUhkVTK5f3W6t2Oc/bZ+znn7HN++/zmef6Yz5n9W3s961l77/WsZ11X+te//nWbPDIHMgemnANve9vb9t133ylfRBL5y5Ytu+KKK57znOckQScDnXzyyfe85z0f+9jHJt8xRsB3vOMdb3/721daaaXh5rjtcLfluzIHMgfaw4EPfOADF1xwQXvoGR8lf/zjH7fddts111yz8SnWWmut7bbb7g9/+EPjmIdA+POf//z973//EDfGLStlbX1o3uUbMwfawIFvfvObm2+++Y9//ON58+a1gZ7x0UBYPetZz6JTf+pTn0qc5Tvf+c4vf/nLF7zgBSnwO+2002WXXUZtv+1tZ1jfvfjii+fPn4+SJz3pSSmUd8Pg1FSMv//971NBZyYyc2CSHLjqqqvuc5/7vOxlL5vkpDM113vf+97b3/72v/jFL1II+P73v//MZz6TvEtnzq9+9as73OEObFkp+McN86pXveq+973v73//+4qJ+knFGd6UEjeiJUuWvOUtb0kEzmCZAysOB4444gh2CXbYWb/k6667br/99iOjWUtqF/u3v/3te9/73tOf/vRayE6ANdZYY5dddmHRuvbaawe6cRzAnCV/+tOfPvKRj1Qg33XXXR1HSgDGveeMjv+AAw5YsGCB5zQ6qoyhDRz4wQ9+cPrpp0+SEk6217zmNZOccei5zjrrLGpm4u033XTTAx/4wKc97WmJ8O0HO/vssz/zmc+U0nn44YeTX2eeeWb6KpYvXz6Qtg6zV8Uthx56aPos44NkcXrAAx7gKfebgtx/3OMed+yxx3YB3GZ8NDWCGX9ZDG3UjWDLSGacA7/+9a8f9KAH+d4mRsk111zz4Ac/+O53v/vEZhxlop/+9Kf4c+mll6Yg+exnP0sGHXjggSnALYeptZk88pGPvNe97jWQMXYIsf7Pf/6T6WOdddZpA7tCVf/c5z5XQczvfve7+93vfl/84hc7YVpthPnud7+7xx57fOxjH7vTne40jmNOxjlhDjjbbrHFFjvssMO66647sal333131tiJTTfiRGuvvTbHHTXtL3/5Sy2qD3/4w2AA10K2HKDWZnLGGWeQ0TzDK6+88ljXIqaQRf688877xje+MdaJUpCHb+CQQw6pAL73ve9tX99xxx0FzxRg7RXrjh4vetGLRKc+4QlPSGFBhmk/B3beeWeP9a1vfevESD3++OMFQjz1qU+d2IzDTfSPf/zDgTrufeMb30i4MCJXoyL3WWwe9rCHPeQhDxlu0vbcxVHJQ/iUpzylH0lf+MIXJraBxTYZM87sYOunALFYVoddbrPNNo4XL3nJSwpq2xvguHjx4t12282Ly3g0s8zNszfCAWEGnF2f/OQnX/jCFwbC3/zmN2EwLR33v//9X/GKV4wyNYOP+LBvfetbL3/5y538Crk5Cs6Ue3n4jzvuOCvtB/zxj38cN4q/OvgjUjg2D1hctBv5L/2rwj142mmnsaq/9KUvPeqoo7omch4nlb70pS/97Gc/W2211R71qEdxLQiYSSF+BmHOPfdclhb7mQN6Fxl0O6IA00i6dAorEFYgufLKK9lh5CWVeyPTp28C0m532GGHiXR0UqnAx1DjhfHEt9xyy5vB2mBC6qXBi+75tcTC1U4WTR1VYpnYRm+44YaC8ur4De/xKGuk/z75yU8Ob5KIiMnY1r/2ta9tvPHGPisytB/xZNPtbne7rk/0zne+s12nuOXGG2+EYa+99qrgwLve9S5IBId0wfz1r3/ddNNNu/CL9f76178+Cj8ncG8/Uzh7+n/dMoiFgcgYwrYe+L0tDhCewkDTjQNYwIhHuc8++1Qjdwj2cXn3AqylRhjKC69RmJbymAUc8NpRwbbffntfSyyH2A2lTCzHM57xDEK8GHe9611d32qrrUZZuDC11VdfXd7gKEjS7/W62kUoxY4F1XexhBLrD//P8frXv54oKW4Unc0CSQ1ndO6HLXTJXguMwzhLtG/nPe95z5ve9Cb+NGCCICG8+uqrK2gjDmqJT2dIg5DcyIIm+L2HTqYflBhcxfmf/OQng97YOHw8X/7kaszeKLqLV+Kiiy66GXIcO8zoOJ2a0dZ+/WL0la4gGFgVPFCRG8V6HRjvcY979Abz0cgIeml+zsJDMwdaRuc///nPgWEC2rq52HzMFbVK+mnrBOtd7nIXB5fapYltgOfTn/50P8g5c+YAYJroBIj4PEae4iKBzggTQqE6bu9973sfh3YtYeMD6Kdcx/bvIQ469dDaepjXP/rRjw46Y+Pw8UDtzbWYjz76aJBOwO3V1tkNkbjRRhs1vvtlhDPCATu0eTsDYJh9jzzyyPXXX7+LHgoj+bjJJpswCg9NaiStHHzwwSwVhkgYDkY/Kkz5Q88VN97tbndzOPAjpG2/wU4qHMippXa64FXwrXewtIQbjRW4869s+k45nd4zeyc+BEyIudLhfDw+V7ZV/HfZ4CMlg2pZEWR3rbT2LgAqAfjXxpYC3AkTc1Wwa1CEQ8MHJUqb1RarCWm5dOnSm+eq3QQmD/Db3/4WYXPnzp381HnGMXFggw028ExJtFr8e+65J8iDDjqoFrIC4BGPeARrcjEgdH73X7tFIlqHCYaRikyQfngigqVUW3euD5OI4URCuDvm98Nz/fXXA6NolwIUHtfiRBJgZmey6LrFvFHk5JWvfGUpNklApD8AWqrTUpcJmwFEBtkJJ5wAzHbSiwGXikQEvhNgNtFOsEsuuYRPr3R0gvVTrpmP0CbWOfHZBZjHx27jxlVWWcXpX82c9Nt5NdzIgpdyC/6Yi588BXhQGMjjhVHKrfpeHggWTrHgXAJtFOu+KMtgqRyUBRm+nRzwnnnh6LMp5NnOieAwaJQOxpmvfvWrnEhbb711p1ORxNn7lkG16bqRoXlQl2kEpZRKsepVVIj13tgYJtHXvva1XaK5wG8fYmTvdDIXf/rhD38YXzsXRS1X7RAR7i0Cuhf4Rz/6EYdtlzpJ6QtIJyqR0XIdGZfEJsFTZD/ZLTwIoTjofOhDH8q+RP4yMUHlcb/73e+uJawLoJ9YD7uWZPpBEQ4N7+0yo9cmBYOEIMBveMMbUoALGA+Fk7x0dOGJLVkthFr8hSG+jS7TsPp7k7petfzfKeUAewsR0OkS7LcQ7y491HEyDBqlg9H5f24Zfqy66qoFDHVSKSjlTIVMtJNRAhXYQ1QTlEcaFNKwSEkeY9K5l2Ycowiff/75vX9S4ctFK02pNehMAL8dojRIzj4q9SZIYhXxCIw40X/+85+n51LeYfjyl79sA6AM2ociVYeJQxwOOz4rB33cLTL7WcDJdI+bSefb3/72QA+in83EtgdPONInM2JzinkbH45TgrZN4e0tHV2e7XRiQmaSn20U64IKENf+MNvGn/fEEHYmv0xgUlXozJIi1sOz+rznPa+CKpYEOQ0B0JnAEi4jwsWxoOv2cacmJvKQSvvqV79azRMZUl5yVaWCMAEMpcW1YyHBva4R9uLEDYzBHbAkgDBKdA2SZcMNNwyhSe/22wj9ncPWvyLnYvuktluCH+S+f3kvZMosXLjQb9uPH8rJipdnsXGFanmrnTeNO7RdzAHLmiFtrdOuHeI1cbFps9VAxVzjEOs2aTLd6uyypsBYgo6ZyG92ML+ZK8MgVox0YkJmerXaK9ZTpEAjj3DakfgMXvziF1esgj6l2Uox6LmkIeEysYVHHtAd73jH2hmph2BYV6ohI96L1AuTvUGghJtdhk7vvV/5ylcmlotUu8YAYFvnPnXgiE9aOGbvjcGxUuES2nrKdoUzagzoOxGGherRFUHoQRD3zKHFXewwfrNTF1fiXEVIiaeM2zk2Amygzh44IP3KZkDTV5ZSXlIxRXAgZbF160v9e8ylmlDqDWlwVifLX8SRrTpK0toguRLlXQZX/Y7Ql86RTkzITOfdNor1sFX16lxprFuBoE499VQ7PzeXLJh+y7Z1U9Pe2TGUkz7nnHOKVM8J8Cs+y94cnK6pCWtneU7CUqWyE1jYhv/KIC0+dTKFrcDFUrGeskaM8j0UI7aBzit+p9RpSZmrgGE1fvOb3+y/zt1U+K57g2OlYj0cqrUsxZNFixbZHphQaOK1tHWJddV7iDZxfm5kYGE6P+mkk7pIKo0lj1zQIHL0EeK1YrGSzvgAhhi9PA9qKzgfy+96MeIJdl7kHOpdeNQWljhKAafBPPrRj47TD2sVI5idvpRX1cR03vLv412tGX7yAFaLVtXLJj/1tMzoBSLUlIWKj6oip1H8gK+6K/klglsnNoS1ILI2CiXCD2oT6ogq1gCQhe+uKHLEdDBcZmDicZu9uJZpFS7T0ntD7zZ6QymiMw5zfO+N+++/vz+RntX0iNCgR6fkf0Q8peoiXQhxmylGvre5KNSRv9rpS/SCuWKWzhuj4IdQy1p2pQCEtJKc1Q9YjgID9BCjq/BhgT+c24Rv6Yyx5NpRUWwy3IdcQfDb/HDPgbvf6qKABDNdLa/iBCD5oI3aeqImUsvWWQzAJKfvF9/Ls5/97IplUjmdZ4UMsuh1DgaZSTInMku9lNWThgWm2rAOwKrD3FwU8CparDzxiU8Mk+WggyfQVtc5HvOYx0AiS7Pz4tBHgQp6IgoTQG9/zjh/lBofwlMaAP3GJz7xCdLfe5Je6axL9aaBstc52K233nokkU2i00c9KJOHhq9dLJ+8g9QQo18mczC2nzta+4fOt+J1r3sdYDVkOi86Hld4s+NVt4n6l9WFZ8Kr248/1U+5867Q62+Wn7U7wOQB4gTXmSk3eRqmZcZq3ZA6gJOqjM7scpyRkUGDqyCDXQiMU0UtqVGnVLJSQB5zzDHssOFW+tCHPlR7eyLAOAIcS6dmSvY1Omf0hiqGzksu997I4OBPFcmHNHS7aXqeZGjrXZHaz33uc110aCgICDViwtp6mO/T15L4iCvAIq9VKlAKqiECHCkNEvECOVO7ueya/eYK44wdupaYKBP0+Mc/vo3aegR7pURuDb3/rwg3MkdEemGcoOlc5PuMLDxUPCpJxewRA1PrLAWjI7N/IwZG+qgyLJwHkbWx2WabXX755RFJNS1DMInTOrWx94UPjpUqyOEcc2PpMmXqksj8DV0lMGnfhZO59EYx8sV1aY2RQRLFy2IEQO3Bq1nmVy82cS6U80kW2T3VdwVjxxS1IS1LsFCRacxr6pBUEc8dxHSFx5TSH4ct8rONYj3xOWWwag4owCIxJ2A4cIS+cFowCzbu3699ECGYqh1oKaGNMVH4S4l1coc0ZJEPTyYHA78Tw+LMNs0I9vYenAkUti/W+c6SvGQNywZ1LBpidI1YV6lwiYulhcBs3qwuTjAiUv73/8eJJ57oKMOIxMNR+ryiVEOwjtTmxCskoDcnJAvOR7hR+JNj14k/hSJZYA7pf3O6YxOjYrEp6IWXiD+xQO8/4VgaS9qFJxg7DrHu7MWMHqXcYlKhSlhXUc00iBFmmrLYW2FqFfvJA8TGJQx58lNP3YwVRpgLL7ywK/klHjnla6DOYaPzJEzhFdUgItKZcbl2rsK3SUIR4oqfEKA+Wrfzm3HoyTKtRZICMJwRxtZVyIKutEAls4P/PNhiTNWaJzpFiFs15bqUpKg00Js0CzjKN1Lwu24kl4v6BKVSoJ9FTnhGwNMi8VbxbpgLPT36ObAUFXGH/uTdoxiGX9dAUhDDKBEZNCTRENUXelkRWVS1vvR+j1U1GtTKei1qTAkhq34HHHTMmNgkNt0IExqJISWtIKCwqvd7DSIENqWJqzWCZOVvo209i/UUuRMwiXEXnckvHry3Nn2KRiDJBZ96P1QR5Me1mzJX+C0JRxI8qpeEC8EJVF+hQUty95tRKDGE6U10KeniuzuDCMl3WnPRjJsBJNywxSB/LaHfFBbie+5nPS9ST7vKG1RXx9OMot967QehD9oqZJaGOFbgNxCKRSHobQn2KiSBcVoihjpNByLcxc6KLelsUUlHVucg5bFWwJgaDYNm5wdCmbFszUV8VMT1sk1VkxQvJO99CuVRhMu7VwvMAw+SfuPEVgAXBzWZXL0YihOPJ16LP4v1WhZNB0CiWI/FCF4u8tkmvLwIOehX/ESEIvFH60mhSkQgU0BnMSk6I9nBqp5y+wzCkNRiNmTeE47SRKspiYJ3khJKwSj7sT340dSKSBDW517CSHx2gGIWvxOfVFOEhYegVhaXTsfkIquj+JPENKg4fqtpi7Oaj6upJQQeBy/Gxt4iP5JOEVla3ieOAkZKnepCrGfbeqf+NMt/Vye/jHXxofRpQlY6i/wj9pOIRq8dNGKqYhzzY1AemU0js7HNg/rPUkSpZ3up9YBFMH4/7ZsjIdL9Q/o3Mhh82Vh6CRM3HdpADL8Tn1QjVEESOTvDrZSOz5FeUCLUyu958+ZV00aGFvM2tQp4hNYosVB0kikwM3AhsjRIJCjxaFKyyQqEWaw3+NSmAFWU3TAGSuwefWEOv+KvVeMaHdUKgkHEp21AnmfpeomAMOkMJ+ymi4cRvdPISpmViMjo0lMxYi6774wzKiiRel2bUdxJahbrM/7gJkpARfLLWOkQ7MGe0IZu7mNdZoPIZaxwFfbmKBVThNBRbqHBSduJSoi3bWz0lUYwEsdSrbbO9m1P7e3xMnn+RNxUZDCkjyzW03k1GyDZTzn3hDSwBkx4PSov+jJruzJOmKp2Tsc/Rq8solNKiQwddsKnrhlhF3OT15WVuboXazVtTNvipnhBRZRWQ2r2okSw2uUzklLbRVs8387UgZRHkMV6Cpf6wjCAikT2ulABCufGSBjHfHNF8suYZ76NquJ0T8ES455oFuAXHSF2qLpFe2jrRT+NWbDqiiWMvljSnNsgaulUj6hPWZ23VYejsb+L5MlivTFupiCS4iHjQ+6vEHtlSfy+te13ys0NwTSY/NIQRX3ROEfLyRa+jW/jnmuq8QscVNbKqC5Fy5Mpcl+HubbVHB4H86OsTRH7P+gUbC8iQVVCjjxMHIsa9KUjZkkvpDMoMenwzg0ObWIBotrXAKPZCJ5GsE1F3LoAO35tL4cIX1kGoU3IfW+EA4lImk1+SZx0RDClfgij9HjwEaebutuFDyr2oORLCuWRMCmdOAV4qmG86sLqlSzttwrRgWrA+R6LVDtR9urugpfHxOooFN3B2tDdSeSJCsP9UPFPMr8M0e+wcQ5HiEF6vdUctz7qI1CtVK5ggSU00NpCqaPO+v/3N5780hRhKXicbNTnSoFcAWEkl0taSVy4RBhpWaJlEuGnGkyook9MEH3vKniM5G36K8U2/hrhoeoFqWDaq+RSfvulrUXjPUUZ28ArETvCSQXDJBKTxXoio/qCUQ06M2K8WAKnRE+Pire5+wdKfmlu2iRMTeWCJk02VUCDckaH6Dlz5pS2sZ6qddcTS/Vmx/vgBz9YChreVIVW4q/6WfuvDtr1eP8TgleDoSb6NM3sIFIk9FbUYe8lL6cjDWCnKgV1HuzMiFH2hDWmDfa4gtqBkl9GZceA95e21BkQx+wEH5QzFFISTc+Z2cmOjlWx3clVVrCstGYcGzTYqOvJfqKKLzWrqFeTyBwWMK1CZO3V9udKRDgKGEMcPZ3JaAgk5ZEwTPXWNhzGIYgY9y0SrB1s9UQXJ0S7iRr2zQ7OQH72qPmQR+bAxDjAEMx2LBDLNzuxSWdqIrsXhT3KTXeNKNccehUAYWkqXnUqXik0w085iyZ/MztsXWLGeAI0MBmGktKDBtkHV3Xfg/GdUJp1mfKi9PYs59tssIqh4yGZrlDJ+HiSMWcO9OMAu41yxEMXOJwuxip7qXCCUJYusuXcijR30ccYAkT0y0BLY1Nl9ChKsw10b+PA4uuooaVVYirmqjLCKEYjXGGYLaJ990h+EVSulp6zqrABR5CgUZ250l7vQ6yAlrTlllsy+cUBMI/MgQlzgN1G781TTjllwvPOyHTKMToT60TRObsScuK7fYB0tZ133plA9FeVPgfKfZMCzVMazVpnfAiyVOZ++FZCXbJfv4Wi1s8s0NYlrCuW1Fn8LNpZGUXXtFF2Wq+RrSKle+wos+R7MwdqOTCor7UWYZsBuhYbkeZ0VcXixfv76h3QZZOkhwZabKsYOBwx5do6XByvipxVZy3P+FaWSIASozo6spRF55cYim0qq+8H61tURxt6eBUUC1X0LkKvDOHYtanJQ0+Xb8wcqODAoL7WqWZm12I1O3VFJ0/VMRmQVcXyJTKKRjxM4mgVA0ck5j9cpiwJji0iZweqFpbItcmDqW29aNEiQYddU2sm0AgxJLjm7gJdbRUGTYF/Q45SI8gzksyBzIFEDsyfP9/HLhqNBcYtWqIrvk9br07TTUQ+jWD/Fusaj3G8ciIPnKh6S1NUngrOaHnP0YCxDYMRSThULyXRZ1K0L99LKZ0UeUloPNEKA2l6UsBQAeSqGQKPpDmoLwEVyc4VYXiZlLKKBmx5ZA5kDkySA2qySyWNGbVnan/x/bEy51axTmBRNnUr52AcaD4tcElPqW42Az4KffmGrtsw0LyjAEcpHx1S+iHhUJVBavjRWcVNLq/+aizpLHf0gl7jo7jXCXcYGIUP+d7MgcyBWcmBW8U6F3DE8KcvkqIqAmTBggXyLam0DkFiLcm15z//+elIJg9J0XaqsA+9853v7De7ErKLFy+Ov3bGtzjWucIHq7Xj5CnPM2YOZA5kDqRw4GaxrsUlkwKZVduIqxMjG4XGgG5R6IqzQkFkaV0Aeo397Fz0XF5aFh6mHkquxn38mSn0NQ7Di2IDo3Rr7FCBPEKjiO+iPufFF1/MCeNitEjOI3MgcyBzoJ0cWEkGplgOtpfOOO7dd99dbQTWlbPOOquUbjEkrFcUdsI6unSXjmXLlqlDREFWa3uTTTbR6cPmoX6FuEAJBb09/QIJv3Z4PITldKG99NJL7QrVrNQAKNo89g4ZxnzlzN+ioKqROHNIRmWoiZ62hrI7ERxpG2NrGuJxjkh8zCiaNTqdNzLU0KjokSgcuLboq9Da6g3SYU48UiPUZiSZAysyB6iYwvYrOCDZWB096bUrCbtWfZCw6BSyrDGyG2RtReVPAR4KMnSio26T1K7MnTtXahZbcwzZbkX3xUMPPXSPPfYQiLJ06dLCm0HnRZnS5C72o6+fWFe2UGJR7XPl+C3t1cCfyX4iG00BoOpQHzsHbyrH+oEHHiiPyYzqxuGGHxaiBEecSwYaIxJfzGVbIigHmroCWE5dNO0tHUxzBxxwQO1cNumKkAOe5OBhHpkDmQOjcMB3RGoniXXSKopYVgzGk6K1cYCJMIkAbeKenToGB/ROO+2kGbHrhx9++C677MI9Ldm3y4uo1IzSyRUhpf3EunINEW9fPYSl95b4EZ9jOyGUGVKKPaYfHpWahUz567nnnhs/tttuO1Wt/eBLWLJkSR0JJX8fhfghpmvkllNPPdXjq0ZFW/coRwyzbYTajCRzYAXnwL+1dTsAi0cXO3TSop8KAgk7cpGPW4Cpt8DlyNYR3Xm6xhVXXKHAoSP8mWee2RskLhQSfEXv3QojzHCPjUh1KBFgzn5SYXMokPOX7rbbbpKYIl9JID8Llc1PvJD9jA47HBn5rsyBzIHMgfFxoBDrtylNEQ5NvKJ4gCYSQRw7by8GOrs/Md0Ml3/cbKkvMfXbbrutc4PNposeXOAr7iVy4cKF6Keh+xNpbic45JBDYr3Lly+3PXASDLe0fFfmQOZA5sCYODBqvXUGjbDFh/G9a1CKXekKgae8OxYUY2J1RHfddVf2E/n9igGJso+hOw9bEBN8UfyrcwlBv9BGm5YSz3vttVfkWDG4MzrxHzjKjG/LzZgzBzIHMgdG4sBw2rq7lI6MiUVTSEGS4yMenBYvdiIsrdyqncgVSCsMMuJMRBD227Ia1NY7c0R72YSMXhpsPwHJAEWI25wE/ETuqCBOBd723nvvMW22GW3mQOZA5sDQHKjR1qMgZHVFBRJThj21XWAJR6Jy/v4V/SJQJGIQBcl0SlIlzhXGcoVtR13N9ddff6TtKOFmm81+++1XARj0dA2x6uFR4BjQIFEopF0qwkUuuugi601x2yZQl0EyBzIHMgfGw4Ghd4bOG2m4cnyimKR/o22FmPcu5EK/XVdKpXrSBrX14VZ31VVXCZjpbFXKQM+NzII0HMIZvEv0oWLcNjC5CPLOZpCSPPVs4oCat9IRZtOKZsFaRrWt92q4RHnYXvyrtowftPgusIhVb1XDz9K9ko+UYb2zY5bjiwD8qasfpMuthcjqkkglSlWxhxxCPh7taMXCqjmcQDjhvyvWsqdnteW9TEekXxSg6EBaOedkgUq6plwkMezrrrvuiPjz7YkcYIOy3UokVpMy7FGEe/4aE7mXwUo5cP7553dlsWRGtY0DYxHrao6THc+8ZagZwKe62WabCSmRc6+MbU5dmdhLEPnD0oCdP8TzhD9joE5gEyM1TzQVHHD+8zkrbjoV1K6wRI5FrOMmbV3oC5s7zV3VcqoiV6rAQYJ+heX1hBfOyeGw3Fm+TWgmGlISsiZMap6uQQ44nOn2qZ/nxhtvrFWQ0kYNIpe8rnwFLa1BnBlV4xwYl1gPQqWhqjtDT1eJJRezbfzhVSPkD+gKN/LBK/AgEmnClOTpJsYBKRoy72hRCj/oaeNwLIqXXsXnPzoN4gi4SSXxjY4qYxgrB8Yr1sdKekY+EAfkE+gKIn+4s7PrQBgycMs5wLwmzUI5PI5xeYJFqp3n3lmfdbhVqKStypNCGv0Krw6HNt81Dg5ksT4OrrYRp8KWlPdsFW3js2mIJpWaFNmWTa3yqLRq8axRStpIqcRZTYXCUGJk11lnnYaIzWjGyIEs1sfI3PagFrrOsXH88cfPjubj7WFs0Md0sQAABkpJREFUeyihTbOQKKndeRrTOV1BU0QKhYq6dcMNYWwGV5mGOYbOvfCIYPb7ggsuGA5nvmt8HMhifXy8bQtm6bKO5Go5ZPdGWx7JGOjQdXLRokWyK7pw95ZQHWJyFjwvj0MArd9gioHk7LPP9ru2rPcQ0+VbRuRAFusjMrDtt6vVo9iZMg/CHINWfS0I+rbTnekbkAM84aLOem8SEOXinDlzFKorRcmbqhXlkUceaVcQjiy5pAATIKv3mUJPMtqkXhcjauHJaXQlwqvyaBUHslhv1eNIJSblU4SLJiUcTbqsnEDnceFuelqxum644YapM2W4KeeAfd0KtG/stw5lSjlU2c0VdGKX72xhuOeee+r66+KU82DFI7+FlRBmvCZMC3nSRZL2sMrBi1b0wmr2JEmkABDf5qKIFxe7WhXG260TYfsXmClshAN6DHg9dC6LProVI3pYbr755gVM0RhL/8uuG8855xzALDCNEJmRNMWBhmvCrHi74Qyv2IGaLSU6ZasVXPRWVV5NmUkXJYy4qBFV7xujqMMMU5+nnxQH9CNUg4/GXd1G3EvCDoOoznpN+la6IpzRC9ZFrzQUt+hYMKl15HkG40A2wgzGr/ZAD/optofyTMlkOHDGGWcoK83yVit/NT3XkB1VCsMFbRSC6ICmEnUcCvOYIg5ksT5FD+s/SM2f4rQ+uYnQfckll0gudWgLpbt6aIADQFWJIpCGM0ZJZxej90Ae08WBLNan63n9m9r8KU7rkxs/3VoF8JGutdZa6jKlZCrEuyTCPfrnqNN39NFHB5lZrI//cTU/QxbrzfN0MhjzpzgZPk/dLDfddNM222yD7CVLlvCX1tLPmlc07wV8ww03bL/99lE4SJ24DTbYoBZDBmgbB7JYb9sTSaInf4pJbFrxgESp77DDDlqoK/XVVaqT41Rwei9LCmte+EsFNQqmisy10N+lHa14jJzuFWexPpXPL3+KU/nYxk+01DNFHKUmCDbXxCbGMcccw2u67777FsW/OgkJVV3nr3nz5qk9oEiAes6RsMYCo+yEjKTxE55naJQDTYVMNognx63XMnPx4sXxKYI87LDDVl99dZHsceKWVMIwKgupFkkGmGUc0DW+Qjao0Fu6XnkM7lL3ceHChZJRly1bJgwm8FD8vWOXXXbZLGPUbF1Oq+PWo30S1je6f80qZFGIQ0iyb1VpxhNOOOH666/3Xxcdmffee++o2pHHisOBk08+Ofoa9hvalJf+ScCM68p4nXfeeaeffjpjuu5mq666qot0duXDQs3KY4o40EYjTBR0bqTw/xQ9iYFIzZ/iQOxaEYAXLFhQrYT2i2lRC0yhdtEvLHtrr702XslKvfDCC12U2hZX8pgKDoTM9PjaKNYj/SHCZvMo5UD+FPOL0SAHFOKfP39+J0Kt5F1ceeWVG5wloxo3BwRBmYL8bK9YDxLz6MeB/CnmdyNzIHOgkwOtFus6oKL12muvzc8scyBzIHMgcyCRAyEzVWxto7YurgNxfDiJi8lgmQOZA5kDmQPXXHMNJijr1kaxPnfuXMRdffXV+TllDmQOZA5kDiRyQONDkGussUZ7xfrll1+euJgMljmQOZA5kDkQMpNa3EaxHmXkJEHk55Q5kDmQOZA5kMiBkJnrrbfeSi3M+hHaKOcNfQrRRUm5PDIHMgcyBzIHKjigr6wk4TXXXFM32jYKTaVEN9poo+uuu07FovwgMwcyBzIHMgdqObB8+XIwMlr820axjqytt97av0uXLq1dTAbIHMgcyBzIHAhpGZKzjUYYZGnBpcbQFltsodpJfmCZA5kDmQOZA9UcUMyH+UXJv1VWWaWl2rrc5a222krN6By9nt/mzIHMgcyBag4Q6JqM77jjjmR6e40wKNtnn300aikt/J+fceZA5kDmQOZAwYGDDz5YXe6iMn5LtXXkPvzhD1f7/6CDDuI7zc8vcyBzIHMgc6CUA1deeeVRRx2lTQojRwC01LYexN14440cu5tuuun++++fn2jmQOZA5kDmQC8HNF3QbuHEE0+MThWtNsIgjp3opJNOYmH3b36cmQOZA5kDmQNdHDjiiCO4SY877rhCprddrKNvtdVW05+F5ei0007LTzRzIHMgcyBzoODAsccee8opp2iMpWpjJ1v+DzunNajiBfDFAAAAAElFTkSuQmCC\"></div>"
      ],
      "text/plain": [
       "FormBox[RowBox[{\"4\", \" \", SubscriptBox[\"ϵ\", \"G\"], \" \", \n",
       "\n",
       " \n",
       ">        RowBox[{\"(\", RowBox[{RowBox[{\"-\", \n",
       "\n",
       " \n",
       ">              RowBox[{RowBox[{\"2\"}], \" \", SuperscriptBox[\"u\", \"2\"]}]}], \"-\", \n",
       "\n",
       " \n",
       ">            FractionBox[\"15\", SuperscriptBox[\"u\", \"2\"]], \"-\", \n",
       "\n",
       " \n",
       ">            FractionBox[RowBox[{RowBox[{\"(\", \n",
       "\n",
       " \n",
       ">                 RowBox[{RowBox[{\"7\", \" \", SuperscriptBox[\"u\", \"4\"]}], \"+\", \"15\"}], \n",
       "\n",
       " \n",
       ">                 \")\"}], \" \", RowBox[{\"(\", \n",
       "              RowBox[{RowBox[{\"2\", \" \", \n",
       "\n",
       " \n",
       ">                     RowBox[{SuperscriptBox[\"tan\", RowBox[{\"-\", \"1\"}]], \"(\", \n",
       "\n",
       " \n",
       ">                       FractionBox[\"1\", SuperscriptBox[\"u\", \"2\"]], \")\"}]}], \"+\", \"π\"}],\\\n",
       " \n",
       ">    \n",
       "              \")\"}]}], RowBox[{\"2\", \" \", SuperscriptBox[\"u\", \"4\"]}]]}], \")\"}]}], \n",
       "\n",
       " \n",
       ">      TraditionalForm]\n"
      ]
     },
     "execution_count": 155,
     "metadata": {
      "text/html": [],
      "text/plain": []
     },
     "output_type": "execute_result"
    }
   ],
   "source": [
    "DeltaJ = 4*Subscript[\\[Epsilon], G]*(-15/u^2 - 2*u^2 - ((15 + 7*u^4)*(Pi + 2*ArcTan[u^(-2)]))/(2*u^4));\n",
    "DeltaJ // TraditionalForm"
   ]
  },
  {
   "cell_type": "code",
   "execution_count": 156,
   "metadata": {
    "vscode": {
     "languageId": "wolfram"
    }
   },
   "outputs": [
    {
     "data": {
      "text/html": [
       "<div>&#36;&#36;&#52;&#32;&#92;&#101;&#112;&#115;&#105;&#108;&#111;&#110;&#32;&#95;&#71;&#32;&#92;&#108;&#101;&#102;&#116;&#40;&#45;&#50;&#32;&#117;&#94;&#50;&#45;&#92;&#102;&#114;&#97;&#99;&#123;&#49;&#53;&#125;&#123;&#117;&#94;&#50;&#125;&#45;&#92;&#102;&#114;&#97;&#99;&#123;&#92;&#108;&#101;&#102;&#116;&#40;&#55;&#32;&#117;&#94;&#52;&#43;&#49;&#53;&#92;&#114;&#105;&#103;&#104;&#116;&#41;&#32;&#92;&#108;&#101;&#102;&#116;&#40;&#50;&#32;&#92;&#116;&#97;&#110;&#32;&#94;&#123;&#45;&#49;&#125;&#92;&#108;&#101;&#102;&#116;&#40;&#92;&#102;&#114;&#97;&#99;&#123;&#49;&#125;&#123;&#117;&#94;&#50;&#125;&#92;&#114;&#105;&#103;&#104;&#116;&#41;&#43;&#92;&#112;&#105;&#32;&#92;&#114;&#105;&#103;&#104;&#116;&#41;&#125;&#123;&#50;&#32;&#117;&#94;&#52;&#125;&#92;&#114;&#105;&#103;&#104;&#116;&#41;&#36;&#36;</div>"
      ],
      "text/plain": [
       "4 \\epsilon _G \\left(-2 u^2-\\frac{15}{u^2}-\\frac{\\left(7 u^4+15\\right) \\left(2 \\tan\\\n",
       " \n",
       ">   ^{-1}\\left(\\frac{1}{u^2}\\right)+\\pi \\right)}{2 u^4}\\right)"
      ]
     },
     "execution_count": 156,
     "metadata": {
      "text/html": [],
      "text/plain": []
     },
     "output_type": "execute_result"
    }
   ],
   "source": [
    "TeXForm[DeltaJ]"
   ]
  },
  {
   "cell_type": "markdown",
   "metadata": {},
   "source": [
    "В пределе малых $u$ для $\\Delta \\hat{J}(u)$ получаем\n",
    "\n",
    "<span style=\"color:brown\">**NB:**</span> Почему при малых $u$ значения $\\Delta \\hat{J}(u)$ безгранично растут по модулю?\n",
    "\n",
    "При движении пары объектов происходит уменьшение момента импульса.\n",
    "В тот момент, когда начальный импульс уменьшится до нуля тела начнут падать друг на друга,\n",
    "и момент должен перестать меняться.\n",
    "\n",
    "Нужно интегрировать с бесконечноти не до перицентра $\\hat{r}_2^\\text{min}$, а до такой точки на орбите, где обнуляется момент импульса."
   ]
  },
  {
   "cell_type": "code",
   "execution_count": 158,
   "metadata": {
    "vscode": {
     "languageId": "wolfram"
    }
   },
   "outputs": [
    {
     "data": {
      "text/html": [
       "<div><img alt=\"Output\" src=\"data:image/png;base64,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\"></div>"
      ],
      "text/plain": [
       "FormBox[RowBox[{\"-\", FractionBox[RowBox[{\"60\", \" \", \"π\", \" \", \n",
       "\n",
       " \n",
       ">           SubscriptBox[\"ϵ\", \"G\"]}], SuperscriptBox[\"u\", \"4\"]]}], TraditionalForm]\n"
      ]
     },
     "execution_count": 158,
     "metadata": {
      "text/html": [],
      "text/plain": []
     },
     "output_type": "execute_result"
    }
   ],
   "source": [
    "DeltaJSmallu = Normal[Simplify[Series[DeltaJ, {u, 0, -1}]]];\n",
    "DeltaJSmallu // TraditionalForm"
   ]
  },
  {
   "cell_type": "markdown",
   "metadata": {},
   "source": [
    "## Поведение $\\hat{J}_1$ в зависимости от начальной сокрости $u$ и параметра $\\epsilon_G$\n",
    "\n",
    "$$\n",
    "\\hat{J}_1 = \\hat{J}_0 + \\Delta \\hat{J}\n",
    "$$\n",
    "\n",
    "$\\epsilon_G = \\frac{2}{5}\\frac{\\mu}{M} \\left( \\frac{r_s}{2b} \\right)^{\\frac{5}{2}}$,\n",
    "где $r_s = \\frac{2 G M}{c^2}$ - сумма радиусов Шварцшильда двух тел.\n",
    "\n",
    "При прицельных параметрах $b$ сравнимых с радиусом Шварцшильда, $\\epsilon_G$ не мал (смотри $\\epsilon_G = 0.1, 0.5, 1, 2, 10$),\n",
    "момент полностью \"съедается\" на одном проходе вдоль гиперболической траектории.\n",
    "\n",
    "Если прицельный параметр много больше, чем $r_s$, то есть $\\epsilon_G$ мал ($\\epsilon_G = 10^{-5}$),\n",
    "то только на совсем малых скоростях может \"съесться\" момент.\n",
    "\n",
    "<span style=\"color:red\">**TODO_6:**</span> Нет отрицательного момнета!"
   ]
  },
  {
   "cell_type": "code",
   "execution_count": 159,
   "metadata": {
    "vscode": {
     "languageId": "wolfram"
    }
   },
   "outputs": [
    {
     "data": {
      "text/html": [
       "<div><img alt=\"Output\" src=\"data:image/png;base64,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\"></div>"
      ],
      "text/plain": [
       "Legended[-Graphics-, Placed[LineLegend[{Directive[Opacity[1.], RGBColor[0.24, 0.6, 0.8], \n",
       " \n",
       ">       AbsoluteThickness[2]], Directive[Opacity[1.], RGBColor[0.95, 0.627, 0.1425], \n",
       " \n",
       ">       AbsoluteThickness[2]], Directive[Opacity[1.], RGBColor[0.455, 0.7, 0.21], \n",
       " \n",
       ">       AbsoluteThickness[2]], Directive[Opacity[1.], \n",
       " \n",
       ">       RGBColor[0.922526, 0.385626, 0.209179], AbsoluteThickness[2]], \n",
       " \n",
       ">      Directive[Opacity[1.], RGBColor[0.578, 0.51, 0.85], AbsoluteThickness[2]], \n",
       " \n",
       ">      Directive[Opacity[1.], RGBColor[0.772079, 0.431554, 0.102387], \n",
       " \n",
       ">       AbsoluteThickness[2]], Directive[Opacity[1.], RGBColor[0.4, 0.64, 1.], \n",
       " \n",
       ">       AbsoluteThickness[2]]}, {EpsilonG = 10, EpsilonG = 2, EpsilonG = 1, \n",
       " \n",
       ">      EpsilonG = 0.5, EpsilonG = 0.1, EpsilonG = 10^(-2), EpsilonG = 10^(-5)}, \n",
       " \n",
       ">     LegendMarkers -> None, LabelStyle -> {}, LegendLayout -> Column], After, Identity]]"
      ]
     },
     "execution_count": 159,
     "metadata": {
      "text/html": [],
      "text/plain": []
     },
     "output_type": "execute_result"
    }
   ],
   "source": [
    "Plot[\n",
    "  {\n",
    "    u + DeltaJ /. Subscript[\\[Epsilon], G] -> 10,\n",
    "    u + DeltaJ /. Subscript[\\[Epsilon], G] -> 2,\n",
    "    u + DeltaJ /. Subscript[\\[Epsilon], G] -> 1,\n",
    "    u + DeltaJ /. Subscript[\\[Epsilon], G] -> 0.5,\n",
    "    u + DeltaJ /. Subscript[\\[Epsilon], G] -> 0.1,\n",
    "    u + DeltaJ /. Subscript[\\[Epsilon], G] -> 10^(-2),\n",
    "    u + DeltaJ /. Subscript[\\[Epsilon], G] -> 10^(-5)\n",
    "  },\n",
    "  {u, 0.0, 100},\n",
    "  AxesLabel -> {\"u\", \"J1\"},\n",
    "  PlotLegends -> {\n",
    "    \"EpsilonG = 10\",\n",
    "    \"EpsilonG = 2\",\n",
    "    \"EpsilonG = 1\",\n",
    "    \"EpsilonG = 0.5\",\n",
    "    \"EpsilonG = 0.1\",\n",
    "    \"EpsilonG = 10^(-2)\",\n",
    "    \"EpsilonG = 10^(-5)\"\n",
    "    },\n",
    "  PlotRange -> All,\n",
    "  ScalingFunctions -> {\"Log\", \"SignedLog\"}\n",
    "]"
   ]
  },
  {
   "cell_type": "markdown",
   "metadata": {},
   "source": [
    "<span style=\"color:red\">**TODO_7:**</span> Где быстрее набирается интеграл потерь момента импульса?\n",
    "\n",
    "Смотри файл binary_catch_integral.ipynb (График первообразной $\\tilde{I}_7(u_i, r)$)"
   ]
  },
  {
   "cell_type": "markdown",
   "metadata": {},
   "source": [
    "# Время слияния\n",
    "\n",
    "Пусть у нас есть \n",
    "$$\n",
    "\\begin{align}\n",
    "\\hat{E}_1 &= \\hat{E}_0 + \\Delta \\hat{E}\n",
    "\\\\\n",
    "\\hat{J}_1 &= \\hat{J}_0 + \\Delta \\hat{J}\n",
    "\\end{align}\n",
    "$$\n",
    "нужно получить время слияния $\\tau$ и параметры орбиты.\n",
    "\n",
    "$a = b/\\sqrt{1-e^2}$,\n",
    "\n",
    "$J = \\mu\\sqrt{GMa(1-e^2)} = \\mu\\sqrt{GMb}\\sqrt{\\frac{b}{a}}$\n",
    "\n",
    "Момент системы после одного полного оборота вдоль ньютоновской гиперболической орбиты с учетом излучения гравволн\n",
    "$$\n",
    "  \\hat{J}_1 = \\hat{J}_0 + \\Delta \\hat{J} = u - 4 \\epsilon_G \\left(2 u^2+\\frac{15}{u^2}+\\frac{\\left(7 u^4+15\\right) \\left(2 \\tan ^{-1}\\left(\\frac{1}{u^2}\\right)+\\pi \\right)}{2 u^4}\\right) \\approx \\sqrt{\\frac{b}{a}} = \\hat{a}^{-1/2}\n",
    "$$\n",
    "\n",
    "Отсюда характерная длина большой полуоси эллиптической орбиты в случае выполнения условия захвата после одного полного оборота будет\n",
    "$$\n",
    "a \\approx b\\hat{J}_1^{-2}\n",
    "$$\n",
    "\n",
    "А время, за которое расстояние между объектов уменьшится до нуля будет\n",
    "$$\n",
    "\\tau \\approx \\frac{5}{8}\\frac{c^5}{G^3}\\frac{b^4}{\\mu M^2} \\frac{1}{\\hat{J}_1^8}\n",
    "$$"
   ]
  },
  {
   "cell_type": "markdown",
   "metadata": {},
   "source": [
    "<span style=\"color:red\">**TODO_8:**</span> Переделать расчет $\\tau$"
   ]
  },
  {
   "cell_type": "code",
   "execution_count": null,
   "metadata": {
    "vscode": {
     "languageId": "wolfram"
    }
   },
   "outputs": [
    {
     "ename": "",
     "evalue": "",
     "output_type": "error",
     "traceback": [
      "\u001b[1;31mThe Kernel crashed while executing code in the current cell or a previous cell. \n",
      "\u001b[1;31mPlease review the code in the cell(s) to identify a possible cause of the failure. \n",
      "\u001b[1;31mClick <a href='https://aka.ms/vscodeJupyterKernelCrash'>here</a> for more info. \n",
      "\u001b[1;31mView Jupyter <a href='command:jupyter.viewOutput'>log</a> for further details."
     ]
    }
   ],
   "source": [
    "(*J1Smallu = - 60 Pi eG / u^4;\n",
    "eG = 2/5*\\[Mu]/M*(G M / (b c^2))^(5/2);\n",
    "u = v/Sqrt[(G*M)/b];\n",
    "N[5/8*c^5/G^3*b^4/(\\[Mu]*M^2*J1Smallu)^(8)]*)"
   ]
  }
 ],
 "metadata": {
  "kernelspec": {
   "display_name": "Wolfram Language 14.1",
   "language": "Wolfram Language",
   "name": "wolframlanguage14.1"
  },
  "language_info": {
   "codemirror_mode": "mathematica",
   "file_extension": ".m",
   "mimetype": "application/vnd.wolfram.m",
   "name": "Wolfram Language",
   "pygments_lexer": "mathematica",
   "version": "12.0"
  }
 },
 "nbformat": 4,
 "nbformat_minor": 2
}
