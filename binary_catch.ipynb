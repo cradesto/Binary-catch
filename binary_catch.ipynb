{
 "cells": [
  {
   "cell_type": "markdown",
   "metadata": {},
   "source": [
    "# Binary catch\n",
    "\n",
    "**При каких условиях два тела, налетающие друг на друга с бесконечности (в системе центра масс) станут связной системой из-за испускания гравволн?**"
   ]
  },
  {
   "cell_type": "code",
   "execution_count": 1508,
   "metadata": {
    "vscode": {
     "languageId": "wolfram"
    }
   },
   "outputs": [
    {
     "name": "stdout",
     "output_type": "stream",
     "text": [
      "  (CleanSlate) Contexts purged: {Global`}\n",
      "  (CleanSlate) Approximate kernel memory recovered: 48 Kb\n"
     ]
    }
   ],
   "source": [
    "(* https://mathematica.stackexchange.com/questions/850/how-do-i-clear-all-user-defined-symbols/861#861 *)\n",
    "<< Utilities`CleanSlate`\n",
    "CleanSlate[];\n",
    "\n",
    "ClearAll[\"Global`*\"]\n",
    "(* ClearSystemCache[] *)\n",
    "(* https://mathematica.stackexchange.com/questions/111605/quit-vs-clearallglobal *)\n",
    "if[Length[Names[\"Global`*\"]] > 0, Remove[\"Global`*\"]];\n",
    "\n",
    "(* PacletInstall[\n",
    "    \"TensorSimplify\",\n",
    "\n",
    "    \"Site\" -> \"http://raw.githubusercontent.com/carlwoll/TensorSimplify/master\"\n",
    "]*)\n",
    "<<TensorSimplify`"
   ]
  },
  {
   "cell_type": "markdown",
   "metadata": {},
   "source": [
    "## Einstein Summation"
   ]
  },
  {
   "cell_type": "code",
   "execution_count": 1517,
   "metadata": {
    "vscode": {
     "languageId": "wolfram"
    }
   },
   "outputs": [],
   "source": [
    "ClearAll@EinsteinSummation\n",
    "\n",
    "EinsteinSummation[in_List, arrays_] := Module[\n",
    "  {res =\n",
    "    isum[in -> Cases[Tally @ Flatten @ in, {_, 1}][[All, 1]], arrays]},\n",
    "  res /; res =!= $Failed\n",
    "  ]\n",
    "\n",
    "EinsteinSummation[in_List -> out_, arrays_] := Module[\n",
    "  {res = isum[in -> out, arrays]},\n",
    "  res /; res =!= $Failed\n",
    "  ]\n",
    "\n",
    "isum[in_List -> out_, arrays_List] := Catch@Module[\n",
    "  {indices, contracted, uncontracted, contractions, transpose},\n",
    "  If[Length[in] != Length[arrays],\n",
    "    Message[EinsteinSummation::length, Length[in], Length[arrays]];\n",
    "    Throw[$Failed]];\n",
    "  MapThread[\n",
    "    If[IntegerQ@TensorRank[#1] && Length[#1] != TensorRank[#2],\n",
    "      Message[EinsteinSummation::shape, #1, #2];\n",
    "      Throw[$Failed]] &, {in, arrays}];\n",
    "  indices = Tally[Flatten[in, 1]];\n",
    "  If[DeleteCases[indices, {_, 1 | 2}] =!= {},\n",
    "    Message[EinsteinSummation::repeat,\n",
    "      Cases[indices, {x_, Except[1 | 2]} :> x]];\n",
    "    Throw[$Failed]];\n",
    "  uncontracted = Cases[indices, {x_, 1} :> x];\n",
    "  If[Sort[uncontracted] =!= Sort[out],\n",
    "    Message[EinsteinSummation::output, uncontracted, out];\n",
    "    Throw[$Failed]];\n",
    "  contracted = Cases[indices, {x_, 2} :> x];\n",
    "  contractions = Flatten[Position[Flatten[in, 1], #]] & /@ contracted;\n",
    "  transpose = FindPermutation[uncontracted, out];\n",
    "  Activate@\n",
    "    TensorTranspose[\n",
    "      TensorContract[Inactive[TensorProduct] @@ arrays, contractions],\n",
    "    transpose]]\n",
    "\n",
    "EinsteinSummation::length =\n",
    "  \"Number of index specifications (`1`) does not match the number of \\\n",
    "tensors (`2`)\";\n",
    "EinsteinSummation::shape =\n",
    "  \"Index specification `1` does not match the tensor rank of `2`\";\n",
    "EinsteinSummation::repeat =\n",
    "  \"Index specifications `1` are repeated more than twice\";\n",
    "EinsteinSummation::output =\n",
    "  \"The uncontracted indices don't match the desired output\";"
   ]
  },
  {
   "cell_type": "code",
   "execution_count": 1734,
   "metadata": {
    "vscode": {
     "languageId": "wolfram"
    }
   },
   "outputs": [],
   "source": [
    "Unprotect[Subscript, OverHat, Derivative];\n",
    "\n",
    "(* Правила для скрытия аргументов в TraditionalForm *)\n",
    "\n",
    "MakeBoxes[OverHat[r_][OverHat[t]], TraditionalForm] :=\n",
    "  MakeBoxes[OverHat[r], TraditionalForm]\n",
    "MakeBoxes[\\[Phi][OverHat[t]], TraditionalForm] :=\n",
    "  MakeBoxes[\\[Phi], TraditionalForm]\n",
    "\n",
    "MakeBoxes[Subscript[OverHat[r], n_][OverHat[t]], TraditionalForm] :=\n",
    "  SubscriptBox[OverscriptBox[\"r\", \"^\"], ToString[n]];\n",
    "\n",
    "MakeBoxes[OverHat[\\[Omega]][OverHat[t]], TraditionalForm] :=\n",
    "  OverscriptBox[\"\\[Omega]\", \"^\"];\n",
    "\n",
    "MakeBoxes[Derivative[n_][f_][OverHat[t]], TraditionalForm] := Module[{primes},\n",
    "  primes = StringJoin[Table[\"\\[Prime]\", n]];\n",
    "  SuperscriptBox[ToBoxes[f], primes]\n",
    "];\n",
    "\n",
    "Protect[Subscript, OverHat, Derivative];"
   ]
  },
  {
   "cell_type": "markdown",
   "metadata": {},
   "source": [
    "$\\hat{r}_k$"
   ]
  },
  {
   "cell_type": "code",
   "execution_count": 1743,
   "metadata": {
    "vscode": {
     "languageId": "wolfram"
    }
   },
   "outputs": [
    {
     "data": {
      "text/html": [
       "<div><img alt=\"Output\" src=\"data:image/png;base64,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\"></div>"
      ],
      "text/plain": [
       "FormBox[TagBox[RowBox[{\"(\", \"⁠\", \n",
       "\n",
       " \n",
       ">         TagBox[GridBox[{{RowBox[{OverscriptBox[\"r\", \"^\"], \" \", \n",
       "\n",
       " \n",
       ">               RowBox[{\"cos\", \"(\", \"ϕ\", \")\"}]}]}, \n",
       "\n",
       " \n",
       ">            {RowBox[{OverscriptBox[\"r\", \"^\"], \" \", RowBox[{\"sin\", \"(\", \"ϕ\", \")\"}]}]}}, \n",
       "\n",
       " \n",
       ">           Rule[RowSpacings, 1], Rule[ColumnAlignments, Center], \n",
       "\n",
       " \n",
       ">           Rule[ColumnAlignments, Left]], Column], \"⁠\", \")\"}], \n",
       "\n",
       " \n",
       ">       Function[BoxForm`e$, MatrixForm[BoxForm`e$]]], TraditionalForm]\n"
      ]
     },
     "execution_count": 1743,
     "metadata": {
      "text/html": [],
      "text/plain": []
     },
     "output_type": "execute_result"
    }
   ],
   "source": [
    "rh = {OverHat[r][OverHat[t]]*Cos[\\[Phi][OverHat[t]]], OverHat[r][OverHat[t]]*Sin[\\[Phi][OverHat[t]]]};\n",
    "rh // MatrixForm // TraditionalForm"
   ]
  },
  {
   "cell_type": "code",
   "execution_count": 1745,
   "metadata": {
    "vscode": {
     "languageId": "wolfram"
    }
   },
   "outputs": [],
   "source": [
    "$Assumptions = {\n",
    "  {OverHat[r][OverHat[t]], OverHat[t], rh} \\[Element] PositiveReals\n",
    "};"
   ]
  },
  {
   "cell_type": "markdown",
   "metadata": {},
   "source": [
    "## Система движения в декартовых координатах\n",
    "$$\n",
    "\\frac{d^2r_k}{dt^2} = -\\frac{G(m_A+m_B)}{r^3}r_k - \\frac{2}{5}f_{ki}^{(5)}r_i\n",
    "$$\n",
    "\n",
    "Ч.Мизнер, К.Торн, Дж.Уилер Гравтация, Т.3 (36.8)"
   ]
  },
  {
   "cell_type": "markdown",
   "metadata": {},
   "source": [
    "Введём обозначения для масс\n",
    "\n",
    "$$\n",
    "M=m_A+m_B; \\quad\n",
    "\\mu = m_{AB} = \\frac{m_A m_B}{M}\n",
    "$$"
   ]
  },
  {
   "cell_type": "markdown",
   "metadata": {},
   "source": [
    "### Безразмерные единицы длины\n",
    "$$\n",
    "\\begin{align}\n",
    "r &= b\\hat{r} \\\\\n",
    "t &= t_0\\hat{t} \\\\\n",
    "f_{ij} &= b^2\\hat{f}_{ij} \\\\\n",
    "f_{ij}^{(5)} &= \\frac{b^2}{t_0^5}\\hat{f}_{ij}^{(5)}\n",
    "\\end{align}\n",
    "$$"
   ]
  },
  {
   "cell_type": "markdown",
   "metadata": {},
   "source": [
    "$\\hat{f}_{ki}$"
   ]
  },
  {
   "cell_type": "code",
   "execution_count": 1747,
   "metadata": {
    "vscode": {
     "languageId": "wolfram"
    }
   },
   "outputs": [
    {
     "data": {
      "text/html": [
       "<div><img alt=\"Output\" src=\"data:image/png;base64,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\"></div>"
      ],
      "text/plain": [
       "FormBox[TagBox[RowBox[{\"(\", \"⁠\", \n",
       "\n",
       " \n",
       ">         GridBox[{{RowBox[{FractionBox[\"1\", \"6\"], \" \", \n",
       "\n",
       " \n",
       ">              SuperscriptBox[OverscriptBox[\"r\", \"^\"], \"2\"], \" \", \n",
       "\n",
       " \n",
       ">              RowBox[{\"(\", RowBox[{RowBox[{\"3\", \" \", \n",
       "\n",
       " \n",
       ">                    RowBox[{\"cos\", \"(\", RowBox[{\"2\", \" \", \"ϕ\"}], \")\"}]}], \"+\",\\\n",
       " \n",
       ">    \"1\"}]\\\n",
       ", \")\"}]}], RowBox[{SuperscriptBox[OverscriptBox[\"r\", \"^\"], \"2\"], \" \", \n",
       "\n",
       " \n",
       ">              RowBox[{\"sin\", \"(\", \"ϕ\", \")\"}], \" \", RowBox[{\"cos\", \"(\", \"ϕ\", \")\"}]}]}, \n",
       "\n",
       " \n",
       ">           {RowBox[{SuperscriptBox[OverscriptBox[\"r\", \"^\"], \"2\"], \" \", \n",
       "\n",
       " \n",
       ">              RowBox[{\"sin\", \"(\", \"ϕ\", \")\"}], \" \", RowBox[{\"cos\", \"(\", \"ϕ\", \")\"}]}], \n",
       "\n",
       " \n",
       ">            RowBox[{FractionBox[\"1\", \"3\"], \" \", \n",
       "\n",
       " \n",
       ">              SuperscriptBox[OverscriptBox[\"r\", \"^\"], \"2\"], \" \", \n",
       "\n",
       " \n",
       ">              RowBox[{\"(\", RowBox[{RowBox[{\"3\", \" \", \n",
       "\n",
       " \n",
       ">                    RowBox[{SuperscriptBox[\"sin\", \"2\"], \"(\", \"ϕ\", \")\"}]}], \"-\", \"1\"}], \n",
       "\n",
       " \n",
       ">                \")\"}]}]}}, Rule[RowSpacings, 1], Rule[ColumnSpacings, 1], \n",
       "\n",
       " \n",
       ">          Rule[RowAlignments, Baseline], Rule[ColumnAlignments, Center]], \"⁠\", \")\"}], \n",
       "\n",
       " \n",
       ">       Function[BoxForm`e$, MatrixForm[BoxForm`e$]]], TraditionalForm]\n"
      ]
     },
     "execution_count": 1747,
     "metadata": {
      "text/html": [],
      "text/plain": []
     },
     "output_type": "execute_result"
    }
   ],
   "source": [
    "fh = Simplify[Array[rh[[#]]*rh[[#2]] - 1/3*KroneckerDelta[#, #2]*(OverHat[r][OverHat[t]])^2 &, {2, 2}], Trig -> True];\n",
    "fh // MatrixForm // TraditionalForm"
   ]
  },
  {
   "cell_type": "markdown",
   "metadata": {},
   "source": [
    "$\\hat{f}_{ki}^{(5)}$"
   ]
  },
  {
   "cell_type": "code",
   "execution_count": 1751,
   "metadata": {
    "vscode": {
     "languageId": "wolfram"
    }
   },
   "outputs": [
    {
     "data": {
      "text/html": [
       "<div><img alt=\"Output\" src=\"data:image/png;base64,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\"></div>"
      ],
      "text/plain": [
       "FormBox[TagBox[RowBox[{\"(\", \"⁠\", \n",
       "\n",
       " \n",
       ">         GridBox[{{TemplateBox[List[SubscriptBox[OverscriptBox[\"f\", \"^\"], \n",
       "\n",
       " \n",
       ">               RowBox[List[\"x\", \",\", \"x\"]]], \"\\\"(5)\\\"\"], \"Superscript\", \n",
       "\n",
       " \n",
       ">             Rule[SyntaxForm, SuperscriptBox]], \n",
       "\n",
       " \n",
       ">            TemplateBox[List[SubscriptBox[OverscriptBox[\"f\", \"^\"], \n",
       "\n",
       " \n",
       ">               RowBox[List[\"x\", \",\", \"y\"]]], \"\\\"(5)\\\"\"], \"Superscript\", \n",
       "\n",
       " \n",
       ">             Rule[SyntaxForm, SuperscriptBox]]}, \n",
       "\n",
       " \n",
       ">           {TemplateBox[List[SubscriptBox[OverscriptBox[\"f\", \"^\"], \n",
       "\n",
       " \n",
       ">               RowBox[List[\"x\", \",\", \"y\"]]], \"\\\"(5)\\\"\"], \"Superscript\", \n",
       "\n",
       " \n",
       ">             Rule[SyntaxForm, SuperscriptBox]], \n",
       "\n",
       " \n",
       ">            TemplateBox[List[SubscriptBox[OverscriptBox[\"f\", \"^\"], \n",
       "\n",
       " \n",
       ">               RowBox[List[\"y\", \",\", \"y\"]]], \"\\\"(5)\\\"\"], \"Superscript\", \n",
       "\n",
       " \n",
       ">             Rule[SyntaxForm, SuperscriptBox]]}}, Rule[RowSpacings, 1], \n",
       "\n",
       " \n",
       ">          Rule[ColumnSpacings, 1], Rule[RowAlignments, Baseline], \n",
       "\n",
       " \n",
       ">          Rule[ColumnAlignments, Center]], \"⁠\", \")\"}], \n",
       "\n",
       " \n",
       ">       Function[BoxForm`e$, MatrixForm[BoxForm`e$]]], TraditionalForm]\n"
      ]
     },
     "execution_count": 1751,
     "metadata": {
      "text/html": [],
      "text/plain": []
     },
     "output_type": "execute_result"
    }
   ],
   "source": [
    "(* fh5 = Array[Superscript[Subscript[OverHat[f], {x, y}[[#1]], {x, y}[[#2]]], \"(5)\"] &, {2, 2}] *)\n",
    "(* Symmetric version *)\n",
    "fh5 = Array[If[#1 <= #2,\n",
    "                    Superscript[Subscript[OverHat[f], {x, y}[[#1]], {x, y}[[#2]]], \"(5)\"],\n",
    "                    Superscript[Subscript[OverHat[f], {x, y}[[#2]], {x, y}[[#1]]], \"(5)\"]] &, {2, 2}];\n",
    "fh5 // MatrixForm // TraditionalForm"
   ]
  },
  {
   "cell_type": "markdown",
   "metadata": {},
   "source": [
    "$\\hat{f}_{ki}^{(5)}\\hat{r}_i$"
   ]
  },
  {
   "cell_type": "code",
   "execution_count": 1758,
   "metadata": {
    "vscode": {
     "languageId": "wolfram"
    }
   },
   "outputs": [
    {
     "data": {
      "text/html": [
       "<div><img alt=\"Output\" src=\"data:image/png;base64,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\"></div>"
      ],
      "text/plain": [
       "FormBox[TagBox[RowBox[{\"(\", \"⁠\", \n",
       "\n",
       " \n",
       ">         TagBox[GridBox[{{RowBox[{RowBox[{OverscriptBox[\"r\", \"^\"], \" \", \n",
       "\n",
       " \n",
       ">                 RowBox[{\"sin\", \"(\", \"ϕ\", \")\"}], \" \", \n",
       "\n",
       " \n",
       ">                 TemplateBox[List[SubscriptBox[OverscriptBox[\"f\", \"^\"], \n",
       "\n",
       " \n",
       ">                    RowBox[List[\"x\", \",\", \"y\"]]], \"\\\"(5)\\\"\"], \"Superscript\", \n",
       "\n",
       " \n",
       ">                  Rule[SyntaxForm, SuperscriptBox]]}], \"+\", \n",
       "\n",
       " \n",
       ">               RowBox[{OverscriptBox[\"r\", \"^\"], \" \", RowBox[{\"cos\", \"(\", \"ϕ\", \")\"}], \n",
       "\n",
       " \n",
       ">                 \" \", TemplateBox[List[SubscriptBox[OverscriptBox[\"f\", \"^\"], \n",
       "\n",
       " \n",
       ">                    RowBox[List[\"x\", \",\", \"x\"]]], \"\\\"(5)\\\"\"], \"Superscript\", \n",
       "\n",
       " \n",
       ">                  Rule[SyntaxForm, SuperscriptBox]]}]}]}, \n",
       "\n",
       " \n",
       ">            {RowBox[{RowBox[{OverscriptBox[\"r\", \"^\"], \" \", \n",
       "\n",
       " \n",
       ">                 RowBox[{\"cos\", \"(\", \"ϕ\", \")\"}], \" \", \n",
       "\n",
       " \n",
       ">                 TemplateBox[List[SubscriptBox[OverscriptBox[\"f\", \"^\"], \n",
       "\n",
       " \n",
       ">                    RowBox[List[\"x\", \",\", \"y\"]]], \"\\\"(5)\\\"\"], \"Superscript\", \n",
       "\n",
       " \n",
       ">                  Rule[SyntaxForm, SuperscriptBox]]}], \"+\", \n",
       "\n",
       " \n",
       ">               RowBox[{OverscriptBox[\"r\", \"^\"], \" \", RowBox[{\"sin\", \"(\", \"ϕ\", \")\"}], \n",
       "\n",
       " \n",
       ">                 \" \", TemplateBox[List[SubscriptBox[OverscriptBox[\"f\", \"^\"], \n",
       "\n",
       " \n",
       ">                    RowBox[List[\"y\", \",\", \"y\"]]], \"\\\"(5)\\\"\"], \"Superscript\", \n",
       "\n",
       " \n",
       ">                  Rule[SyntaxForm, SuperscriptBox]]}]}]}}, Rule[RowSpacings, 1], \n",
       "\n",
       " \n",
       ">           Rule[ColumnAlignments, Center], Rule[ColumnAlignments, Left]], Column], \"⁠\",\\\n",
       " \n",
       ">    \n",
       "      \")\"}], Function[BoxForm`e$, MatrixForm[BoxForm`e$]]], TraditionalForm]\n"
      ]
     },
     "execution_count": 1758,
     "metadata": {
      "text/html": [],
      "text/plain": []
     },
     "output_type": "execute_result"
    }
   ],
   "source": [
    "fh5rh = EinsteinSummation[{{k, i}, {i}}, {fh5, rh}];\n",
    "fh5rh // MatrixForm // TraditionalForm"
   ]
  },
  {
   "cell_type": "markdown",
   "metadata": {},
   "source": [
    "Система движения в безразмерной записи будет выглядеть как"
   ]
  },
  {
   "cell_type": "markdown",
   "metadata": {},
   "source": [
    "$$\n",
    "\\frac{d^2\\hat{r}_k}{d\\hat{t}^2} = -\\frac{t_0^2}{b^3}\\frac{GM}{\\hat{r}^3}\\hat{r}_k - \\frac{2}{5}\\frac{b^2}{t_0^3}\\hat{f}_{ki}^{(5)}\\hat{r}_i\n",
    "$$"
   ]
  },
  {
   "cell_type": "markdown",
   "metadata": {},
   "source": [
    "Пусть $t_0 = \\sqrt{\\frac{b^3}{GM}}$, а $b$ - прицельное расстояние, тогда система движения перепишется как\n",
    "\n",
    "$$\n",
    "\\frac{d^2\\hat{r}_k}{d\\hat{t}^2} + \\frac{\\hat{r}_k}{\\hat{r}^3} = - \\frac{2}{5}\\epsilon_G\\hat{f}_{ki}^{(5)}\\hat{r}_i\\quad,\n",
    "$$\n",
    "или\n",
    "$$\n",
    "\\hat{r}_k^{(2)} + \\frac{\\hat{r}_k}{\\hat{r}^3} = - \\frac{2}{5}\\epsilon_G\\hat{f}_{ki}^{(5)}\\hat{r}_i\\quad,\n",
    "$$\n",
    "\n",
    "где $ \\epsilon_G = \\frac{b^2}{t_0^3} = \\frac{1}{b} \\left( \\frac{GM}{b} \\right)^{\\frac{3}{2}}$."
   ]
  },
  {
   "cell_type": "markdown",
   "metadata": {},
   "source": [
    "## Повернём систему с помощью матрицы вращения $R_{ij}(\\phi)$ на угол $\\phi$ по **часовой** стрелке\n",
    "Переход к полярным координатам от декартовых"
   ]
  },
  {
   "cell_type": "code",
   "execution_count": 1759,
   "metadata": {
    "vscode": {
     "languageId": "wolfram"
    }
   },
   "outputs": [
    {
     "data": {
      "text/html": [
       "<div><img alt=\"Output\" src=\"data:image/png;base64,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\"></div>"
      ],
      "text/plain": [
       "FormBox[TagBox[RowBox[{\"(\", \"⁠\", \n",
       "\n",
       " \n",
       ">         GridBox[{{RowBox[{\"cos\", \"(\", \"ϕ\", \")\"}], RowBox[{\"sin\", \"(\", \"ϕ\", \")\"}]}, \n",
       "\n",
       " \n",
       ">           {RowBox[{\"-\", RowBox[{\"sin\", \"(\", \"ϕ\", \")\"}]}], \n",
       "\n",
       " \n",
       ">            RowBox[{\"cos\", \"(\", \"ϕ\", \")\"}]}}, Rule[RowSpacings, 1], \n",
       "\n",
       " \n",
       ">          Rule[ColumnSpacings, 1], Rule[RowAlignments, Baseline], \n",
       "\n",
       " \n",
       ">          Rule[ColumnAlignments, Center]], \"⁠\", \")\"}], \n",
       "\n",
       " \n",
       ">       Function[BoxForm`e$, MatrixForm[BoxForm`e$]]], TraditionalForm]\n"
      ]
     },
     "execution_count": 1759,
     "metadata": {
      "text/html": [],
      "text/plain": []
     },
     "output_type": "execute_result"
    }
   ],
   "source": [
    "RotationMatrix[-\\[Phi]] // MatrixForm // TraditionalForm"
   ]
  },
  {
   "cell_type": "markdown",
   "metadata": {},
   "source": [
    "#### LHS системы после поворота"
   ]
  },
  {
   "cell_type": "code",
   "execution_count": 1761,
   "metadata": {
    "vscode": {
     "languageId": "wolfram"
    }
   },
   "outputs": [
    {
     "data": {
      "text/html": [
       "<div><img alt=\"Output\" src=\"data:image/png;base64,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\"></div>"
      ],
      "text/plain": [
       "FormBox[TagBox[RowBox[{\"(\", \"⁠\", \n",
       "\n",
       " \n",
       ">         TagBox[GridBox[{{RowBox[{RowBox[{SuperscriptBox[\"r\", \"′′\", \n",
       "\n",
       " \n",
       ">                  Rule[MultilineFunction, None]], \" \", \n",
       "\n",
       " \n",
       ">                 RowBox[{\"cos\", \"(\", \"ϕ\", \")\"}]}], \"-\", \n",
       "\n",
       " \n",
       ">               RowBox[{\"2\", \" \", SuperscriptBox[\"r\", \"′\", \n",
       "\n",
       " \n",
       ">                  Rule[MultilineFunction, None]], \" \", SuperscriptBox[\"ϕ\", \"′\"], \n",
       "\n",
       " \n",
       ">                 \" \", RowBox[{\"sin\", \"(\", \"ϕ\", \")\"}]}], \"+\", \n",
       "\n",
       " \n",
       ">               RowBox[{OverscriptBox[\"r\", \"^\"], \" \", \n",
       "\n",
       " \n",
       ">                 RowBox[{\"(\", RowBox[{RowBox[{SuperscriptBox[RowBox[\n",
       "\n",
       " \n",
       ">                         {\"(\", SuperscriptBox[\"ϕ\", \"′\"], \")\"}], \"2\"], \" \", \n",
       "\n",
       " \n",
       ">                       RowBox[{\"(\", \n",
       "\n",
       " \n",
       ">                         RowBox[{\"-\", RowBox[{\"cos\", \"(\", \"ϕ\", \")\"}]}], \")\"}]}], \n",
       "\n",
       " \n",
       ">                     \"-\", RowBox[{SuperscriptBox[\"ϕ\", \"′′\"], \" \", \n",
       "\n",
       " \n",
       ">                       RowBox[{\"sin\", \"(\", \"ϕ\", \")\"}]}]}], \")\"}]}], \"+\", \n",
       "\n",
       " \n",
       ">               FractionBox[RowBox[{\"cos\", \"(\", \"ϕ\", \")\"}], \n",
       "\n",
       " \n",
       ">                SuperscriptBox[OverscriptBox[\"r\", \"^\"], \"2\"]]}]}, \n",
       "\n",
       " \n",
       ">            {RowBox[{RowBox[{SuperscriptBox[\"r\", \"′′\", \n",
       "\n",
       " \n",
       ">                  Rule[MultilineFunction, None]], \" \", \n",
       "\n",
       " \n",
       ">                 RowBox[{\"sin\", \"(\", \"ϕ\", \")\"}]}], \"+\", \n",
       "\n",
       " \n",
       ">               RowBox[{\"2\", \" \", SuperscriptBox[\"r\", \"′\", \n",
       "\n",
       " \n",
       ">                  Rule[MultilineFunction, None]], \" \", SuperscriptBox[\"ϕ\", \"′\"], \n",
       "\n",
       " \n",
       ">                 \" \", RowBox[{\"cos\", \"(\", \"ϕ\", \")\"}]}], \"+\", \n",
       "\n",
       " \n",
       ">               RowBox[{OverscriptBox[\"r\", \"^\"], \" \", \n",
       "\n",
       " \n",
       ">                 RowBox[{\"(\", RowBox[{RowBox[{SuperscriptBox[\"ϕ\", \"′′\"], \" \", \n",
       "\n",
       " \n",
       ">                       RowBox[{\"cos\", \"(\", \"ϕ\", \")\"}]}], \"-\", \n",
       "\n",
       " \n",
       ">                     RowBox[{SuperscriptBox[RowBox[{\"(\", \n",
       "\n",
       " \n",
       ">                          SuperscriptBox[\"ϕ\", \"′\"], \")\"}], \"2\"], \" \", \n",
       "\n",
       " \n",
       ">                       RowBox[{\"sin\", \"(\", \"ϕ\", \")\"}]}]}], \")\"}]}], \"+\", \n",
       "\n",
       " \n",
       ">               FractionBox[RowBox[{\"sin\", \"(\", \"ϕ\", \")\"}], \n",
       "\n",
       " \n",
       ">                SuperscriptBox[OverscriptBox[\"r\", \"^\"], \"2\"]]}]}}, \n",
       "\n",
       " \n",
       ">           Rule[RowSpacings, 1], Rule[ColumnAlignments, Center], \n",
       "\n",
       " \n",
       ">           Rule[ColumnAlignments, Left]], Column], \"⁠\", \")\"}], \n",
       "\n",
       " \n",
       ">       Function[BoxForm`e$, MatrixForm[BoxForm`e$]]], TraditionalForm]\n"
      ]
     },
     "execution_count": 1761,
     "metadata": {
      "text/html": [],
      "text/plain": []
     },
     "output_type": "execute_result"
    }
   ],
   "source": [
    "LHSMotion = D[rh, {OverHat[t], 2}] + Simplify[rh / Norm[rh]^3];\n",
    "LHSMotion // MatrixForm // TraditionalForm"
   ]
  },
  {
   "cell_type": "code",
   "execution_count": 1762,
   "metadata": {
    "vscode": {
     "languageId": "wolfram"
    }
   },
   "outputs": [
    {
     "data": {
      "text/html": [
       "<div><img alt=\"Output\" src=\"data:image/png;base64,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\"></div>"
      ],
      "text/plain": [
       "FormBox[TagBox[RowBox[{\"(\", \"⁠\", \n",
       "\n",
       " \n",
       ">         TagBox[GridBox[{{RowBox[{SuperscriptBox[\"r\", \"′′\", \n",
       "\n",
       " \n",
       ">                Rule[MultilineFunction, None]], \"-\", \n",
       "\n",
       " \n",
       ">               RowBox[{RowBox[{OverscriptBox[\"r\", \"^\"]}], \" \", \n",
       "\n",
       " \n",
       ">                 SuperscriptBox[RowBox[{\"(\", SuperscriptBox[\"ϕ\", \"′\"], \")\"}],\\\n",
       " \n",
       ">    \"2\"]}]\\\n",
       ", \"+\", FractionBox[\"1\", SuperscriptBox[OverscriptBox[\"r\", \"^\"], \"2\"]]}]}, \n",
       "\n",
       " \n",
       ">            {RowBox[{RowBox[{\"2\", \" \", \n",
       "\n",
       " \n",
       ">                 SuperscriptBox[\"r\", \"′\", Rule[MultilineFunction, None]], \" \", \n",
       "\n",
       " \n",
       ">                 SuperscriptBox[\"ϕ\", \"′\"]}], \"+\", \n",
       "\n",
       " \n",
       ">               RowBox[{OverscriptBox[\"r\", \"^\"], \" \", SuperscriptBox[\"ϕ\", \"′′\"]}]}]}}, \n",
       "\n",
       " \n",
       ">           Rule[RowSpacings, 1], Rule[ColumnAlignments, Center], \n",
       "\n",
       " \n",
       ">           Rule[ColumnAlignments, Left]], Column], \"⁠\", \")\"}], \n",
       "\n",
       " \n",
       ">       Function[BoxForm`e$, MatrixForm[BoxForm`e$]]], TraditionalForm]\n"
      ]
     },
     "execution_count": 1762,
     "metadata": {
      "text/html": [],
      "text/plain": []
     },
     "output_type": "execute_result"
    }
   ],
   "source": [
    "RotatedLHSMotion = Simplify[RotationMatrix[-\\[Phi][OverHat[t]]] . LHS, Trig -> True] // MatrixForm // TraditionalForm"
   ]
  },
  {
   "cell_type": "markdown",
   "metadata": {},
   "source": [
    "Так как $\\hat{\\omega} \\equiv \\phi^{(1)}$, то"
   ]
  },
  {
   "cell_type": "code",
   "execution_count": 1764,
   "metadata": {
    "vscode": {
     "languageId": "wolfram"
    }
   },
   "outputs": [
    {
     "data": {
      "text/html": [
       "<div><img alt=\"Output\" src=\"data:image/png;base64,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\"></div>"
      ],
      "text/plain": [
       "FormBox[TagBox[RowBox[{\"(\", \"⁠\", \n",
       "\n",
       " \n",
       ">         TagBox[GridBox[{{RowBox[{RowBox[{RowBox[{\"-\", OverscriptBox[\"r\", \"^\"]}], \n",
       "\n",
       " \n",
       ">                 \" \", SuperscriptBox[OverscriptBox[\"ω\", \"^\"], \"2\"]}], \"+\", \n",
       "\n",
       " \n",
       ">               SuperscriptBox[\"r\", \"′′\", Rule[MultilineFunction, None]], \"+\", \n",
       "\n",
       " \n",
       ">               FractionBox[\"1\", SuperscriptBox[OverscriptBox[\"r\", \"^\"], \"2\"]]}]}, \n",
       "\n",
       " \n",
       ">            {RowBox[{RowBox[{\"2\", \" \", OverscriptBox[\"ω\", \"^\"], \" \", \n",
       "\n",
       " \n",
       ">                 SuperscriptBox[\"r\", \"′\", Rule[MultilineFunction, None]]}], \"+\", \n",
       "\n",
       " \n",
       ">               RowBox[{OverscriptBox[\"r\", \"^\"], \" \", \n",
       "\n",
       " \n",
       ">                 SuperscriptBox[\"ω\", \"′\", Rule[MultilineFunction, None]]}]}]}}, \n",
       "\n",
       " \n",
       ">           Rule[RowSpacings, 1], Rule[ColumnAlignments, Center], \n",
       "\n",
       " \n",
       ">           Rule[ColumnAlignments, Left]], Column], \"⁠\", \")\"}], \n",
       "\n",
       " \n",
       ">       Function[BoxForm`e$, MatrixForm[BoxForm`e$]]], TraditionalForm]\n"
      ]
     },
     "execution_count": 1764,
     "metadata": {
      "text/html": [],
      "text/plain": []
     },
     "output_type": "execute_result"
    }
   ],
   "source": [
    "OmegaReplace = Derivative[n_][\\[Phi]][OverHat[t]] :> Derivative[n-1][OverHat[\\[Omega]]][OverHat[t]];\n",
    "\n",
    "OmegaLHSMotion = RotatedLHSMotion /. OmegaReplace // TraditionalForm"
   ]
  },
  {
   "cell_type": "markdown",
   "metadata": {},
   "source": [
    "### RHS системы после поворота"
   ]
  },
  {
   "cell_type": "code",
   "execution_count": 1766,
   "metadata": {
    "vscode": {
     "languageId": "wolfram"
    }
   },
   "outputs": [
    {
     "data": {
      "text/html": [
       "<div><img alt=\"Output\" src=\"data:image/png;base64,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\"></div>"
      ],
      "text/plain": [
       "FormBox[TagBox[RowBox[{\"(\", \"⁠\", \n",
       "\n",
       " \n",
       ">         TagBox[GridBox[{{RowBox[{RowBox[{\"-\", FractionBox[\"2\", \"5\"]}], \" \", \n",
       "\n",
       " \n",
       ">               OverscriptBox[\"r\", \"^\"], \" \", SubscriptBox[\"ϵ\", \"G\"], \" \", \n",
       "\n",
       " \n",
       ">               RowBox[{\"(\", RowBox[{RowBox[{RowBox[{\"sin\", \"(\", \n",
       "\n",
       " \n",
       ">                       RowBox[{\"2\", \" \", \"ϕ\"}], \")\"}], \" \", \n",
       "\n",
       " \n",
       ">                     TemplateBox[List[SubscriptBox[OverscriptBox[\"f\", \"^\"], \n",
       "\n",
       " \n",
       ">                        RowBox[List[\"x\", \",\", \"y\"]]], \"\\\"(5)\\\"\"], \"Superscript\", \n",
       "\n",
       " \n",
       ">                      Rule[SyntaxForm, SuperscriptBox]]}], \"+\", \n",
       "\n",
       " \n",
       ">                   RowBox[{RowBox[{SuperscriptBox[\"cos\", \"2\"], \"(\", \"ϕ\", \")\"}], \n",
       "\n",
       " \n",
       ">                     \" \", TemplateBox[List[SubscriptBox[OverscriptBox[\"f\", \"^\"], \n",
       "\n",
       " \n",
       ">                        RowBox[List[\"x\", \",\", \"x\"]]], \"\\\"(5)\\\"\"], \"Superscript\", \n",
       "\n",
       " \n",
       ">                      Rule[SyntaxForm, SuperscriptBox]]}], \"+\", \n",
       "\n",
       " \n",
       ">                   RowBox[{RowBox[{SuperscriptBox[\"sin\", \"2\"], \"(\", \"ϕ\", \")\"}], \n",
       "\n",
       " \n",
       ">                     \" \", TemplateBox[List[SubscriptBox[OverscriptBox[\"f\", \"^\"], \n",
       "\n",
       " \n",
       ">                        RowBox[List[\"y\", \",\", \"y\"]]], \"\\\"(5)\\\"\"], \"Superscript\", \n",
       "\n",
       " \n",
       ">                      Rule[SyntaxForm, SuperscriptBox]]}]}], \")\"}]}]}, \n",
       "\n",
       " \n",
       ">            {RowBox[{RowBox[{\"-\", FractionBox[\"1\", \"5\"]}], \" \", \n",
       "\n",
       " \n",
       ">               OverscriptBox[\"r\", \"^\"], \" \", SubscriptBox[\"ϵ\", \"G\"], \" \", \n",
       "\n",
       " \n",
       ">               RowBox[{\"(\", RowBox[{RowBox[{RowBox[{\"sin\", \"(\", \n",
       "\n",
       " \n",
       ">                       RowBox[{\"2\", \" \", \"ϕ\"}], \")\"}], \" \", \n",
       "\n",
       " \n",
       ">                     RowBox[{\"(\", RowBox[{TemplateBox[List[SubscriptBox[\n",
       "\n",
       " \n",
       ">                            OverscriptBox[\"f\", \"^\"], \n",
       "\n",
       " \n",
       ">                            RowBox[List[\"y\", \",\", \"y\"]]], \"\\\"(5)\\\"\"], \n",
       "\n",
       " \n",
       ">                          \"Superscript\", Rule[SyntaxForm, SuperscriptBox]], \"-\", \n",
       "\n",
       " \n",
       ">                         TemplateBox[List[SubscriptBox[OverscriptBox[\"f\", \"^\"], \n",
       "\n",
       " \n",
       ">                            RowBox[List[\"x\", \",\", \"x\"]]], \"\\\"(5)\\\"\"], \n",
       "\n",
       " \n",
       ">                          \"Superscript\", Rule[SyntaxForm, SuperscriptBox]]}], \")\"}]}\\\n",
       "\n",
       " \n",
       ">   ], \"+\", RowBox[{\"2\", \" \", RowBox[{\"cos\", \"(\", RowBox[{\"2\", \" \", \"ϕ\"}], \")\"}], \n",
       "\n",
       " \n",
       ">                     \" \", TemplateBox[List[SubscriptBox[OverscriptBox[\"f\", \"^\"], \n",
       "\n",
       " \n",
       ">                        RowBox[List[\"x\", \",\", \"y\"]]], \"\\\"(5)\\\"\"], \"Superscript\", \n",
       "\n",
       " \n",
       ">                      Rule[SyntaxForm, SuperscriptBox]]}]}], \")\"}]}]}}, \n",
       "\n",
       " \n",
       ">           Rule[RowSpacings, 1], Rule[ColumnAlignments, Center], \n",
       "\n",
       " \n",
       ">           Rule[ColumnAlignments, Left]], Column], \"⁠\", \")\"}], \n",
       "\n",
       " \n",
       ">       Function[BoxForm`e$, MatrixForm[BoxForm`e$]]], TraditionalForm]\n"
      ]
     },
     "execution_count": 1766,
     "metadata": {
      "text/html": [],
      "text/plain": []
     },
     "output_type": "execute_result"
    }
   ],
   "source": [
    "RHSMotion = -2/5 Subscript[\\[Epsilon], G] FullSimplify[RotationMatrix[-\\[Phi][OverHat[t]]] . fh5rh, Trig -> True];\n",
    "RHSMotion // MatrixForm // TraditionalForm"
   ]
  },
  {
   "cell_type": "markdown",
   "metadata": {},
   "source": [
    "<span style=\"color:red\">**NB:**</span> Полученные выражения <span style=\"color:green\">**совпадают**</span> с уравнениями (10) и (9) из файла Binary.pdf"
   ]
  },
  {
   "cell_type": "markdown",
   "metadata": {
    "vscode": {
     "languageId": "wolfram"
    }
   },
   "source": [
    "## Получим теперь **энергетическую** систему уравнений\n",
    "\n",
    "В задача двух тел без учёта гравитационного излучения в системе центра масс в полярных координатах радиус-вектор $\\hat{r}_k$ задаётся как:\n",
    "$$\n",
    "\\hat{r}_k = \\hat{r} e_{1k} \\quad,\n",
    "$$\n",
    "где:\n",
    "- $\\hat{r}$ — расстояние между телами,\n",
    "- $e_{1k}$ — единичный вектор в направлении $\\hat{r}_k$.\n",
    "\n",
    "Скорость в полярных координатах выражается как:\n",
    "$$\n",
    "\\hat{r}_k^{(1)} = \\hat{r}^{(1)} e_{1k} + \\hat{r} \\phi^{(1)} e_{2k} \\quad,\n",
    "$$\n",
    "где:\n",
    "- $\\hat{r}^{(1)}$ — радиальная скорость\n",
    "- $\\hat{\\omega} \\equiv \\phi^{(1)}$ — угловая скорость\n",
    "- $e_{2k}$ — единичный вектор, перпендикулярный $e_{1k}$.\n",
    "\n",
    "### **Кинетическая энергия**\n",
    "Кинетическая энергия $T$ в полярных координатах выражается через радиальную и тангенциальную составляющие скорости:\n",
    "$$\n",
    "T = \\frac{b^2}{2 t_0^2} (\\hat{r}_k^{(1)})^2 = \\frac{b^2}{2 t_0^2} \\left( (\\hat{r}^{(1)})^2 + \\hat{r}^2 \\hat{\\omega}^2 \\right) = \\frac{G M}{b} \\frac{1}{2}\\left( (\\hat{r}^{(1)})^2 + \\hat{r}^2 \\hat{\\omega}^2 \\right)\n",
    "$$\n",
    "\n",
    "### **Потенциальная энергия**\n",
    "Потенциальная энергия $U$ зависит только от расстояния $\\hat{r}$:\n",
    "- Для гравитационного взаимодействия:\n",
    "  $$\n",
    "  U = -\\frac{G m_A m_B}{b \\hat{r}}.\n",
    "  $$\n",
    "\n",
    "### **Полная энергия**\n",
    "Полная энергия $E$ в полярных координатах:\n",
    "$$\n",
    "E = T + U = \\frac{G M}{b}\\left(\\frac{(\\hat{r}^{(1)})^2}{2} + \\frac{\\hat{r}^2 \\hat{\\omega}^2}{2} - \\frac{1}{\\hat{r}}\\right) = \\frac{G M}{b} \\hat{E}\n",
    "$$\n",
    "\n",
    "Здесь $\\hat{E}$ - безразмерная энергия:"
   ]
  },
  {
   "cell_type": "code",
   "execution_count": 1768,
   "metadata": {
    "vscode": {
     "languageId": "wolfram"
    }
   },
   "outputs": [
    {
     "data": {
      "text/html": [
       "<div><img alt=\"Output\" src=\"data:image/png;base64,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\"></div>"
      ],
      "text/plain": [
       "FormBox[RowBox[{FractionBox[SuperscriptBox[RowBox[{\"(\", \n",
       "\n",
       " \n",
       ">            SuperscriptBox[\"r\", \"′\", Rule[MultilineFunction, None]], \")\"}], \"2\"], \"2\"],\\\n",
       " \n",
       ">    \n",
       "     \"+\", RowBox[{FractionBox[\"1\", \"2\"], \" \", \n",
       "\n",
       " \n",
       ">          SuperscriptBox[OverscriptBox[\"r\", \"^\"], \"2\"], \" \", \n",
       "\n",
       " \n",
       ">          SuperscriptBox[OverscriptBox[\"ω\", \"^\"], \"2\"]}], \"-\", \n",
       "\n",
       " \n",
       ">        FractionBox[\"1\", OverscriptBox[\"r\", \"^\"]]}], TraditionalForm]\n"
      ]
     },
     "execution_count": 1768,
     "metadata": {
      "text/html": [],
      "text/plain": []
     },
     "output_type": "execute_result"
    }
   ],
   "source": [
    "Energy = (D[OverHat[r][OverHat[t]], OverHat[t]])^2/2 + (OverHat[r][OverHat[t]] OverHat[\\[Omega]][OverHat[t]])^2/2 - 1/OverHat[r][OverHat[t]];\n",
    "Energy // TraditionalForm"
   ]
  },
  {
   "cell_type": "markdown",
   "metadata": {},
   "source": [
    "### **Момента импульса**\n",
    "Момент импульса $J$ в системе центра масс:\n",
    "$$\n",
    "J = \\frac{b^2}{t_0} \\hat{r}^2 \\hat{\\omega} = (G M)^{1/2} b^{3/2} \\hat{r}^2 \\hat{\\omega} = (G M)^{1/2} b^{3/2} \\hat{J}\n",
    "$$\n",
    "\n",
    "Здесь $\\hat{J}$ - безразмерный момент импульса:"
   ]
  },
  {
   "cell_type": "code",
   "execution_count": 1770,
   "metadata": {
    "vscode": {
     "languageId": "wolfram"
    }
   },
   "outputs": [
    {
     "data": {
      "text/html": [
       "<div><img alt=\"Output\" src=\"data:image/png;base64,iVBORw0KGgoAAAANSUhEUgAAACsAAAAeCAIAAAA6iHCJAAAAznpUWHRSYXcgcHJvZmlsZSB0eXBlIGV4aWYAAHjabZDrDcMgDIT/M0VHMDacYRySEKkbdPzagaai6kmxj8+PhIT+ep7h4eJIIWUtqACZUk2Vm5lCQyNHqle8xNusxZWH2CdvhvK3gA/fVq6YC8vPIuJhxN9gXtIcmIuEB49tnLfZz62UdZHQokr3p/89J1FGRtRkMTGpopovwawlZKasOLED1hhxMKXdcoeqjUG9Q5oPurjr2t0DxMDhVxB/sjTLcsXKTtg8Cy5iv/qu+nXek7Ja4Tr+R2QAAAAJcEhZcwAAFiUAABYlAUlSJPAAAAA8dEVYdFNvZnR3YXJlAENyZWF0ZWQgd2l0aCB0aGUgV29sZnJhbSBMYW5ndWFnZSA6IHd3dy53b2xmcmFtLmNvbVyipoUAAAAhdEVYdENyZWF0aW9uIFRpbWUAMjAyNTowMzowOSAyMjoyNjowMNSIqn8AAAPhSURBVEhL7VZbKLNhHN/mkJxiDlFICyW1JKeMGy4kJeHCBcppOd3IIS1cuCTlbjmVWnMoV0QYokZJiNYu5FC4cs6cGd/v7VnP9m1tz95v35eb762t9/0//+f3//2PzyP8/v4WsJ6jo6OxsbGLi4u4uLiamprQ0FDWDj7rYOD4mZmZ8fDwcHNzI6hBQUGHh4esTTzWBY51DQZDWFjY5OTkx8fH+vp6SkoKSBQVFfGwwFJlMFCr1d3d3RRkdnYWDKKioliwPNYZDPR6PcJA8d7f35GRxMREHhZYqiJaM9B8eXlBtC2rKD4+3tfXl0qurq6gkJOTw6fSOCdtkc0IlGJbWxukwcHBqHl7vHt6egIDA8GD5dhv646RTVmYm5sTCoWEV1ZW1ufnp62N09NTmF9ZWeFlnonMMTg/P0ePRUdHHxwcNDc3g4RCobAyg2qQSqWjo6O8zDuDLIC7mZmZGRkZl5eXBF2pVHp6ei4uLlJj0CkoKOjt7eVl3hlkAApQWQjs6+urJbpOp6Nj5+vrq6qqqrOzkyo8PT21tLQw2TCRCYIQPyR4a2trZ2dnd3dXJpOh3JaWlgYGBsRi8dDQUFdXF94rKipIoYArNGtra1tbWx13BFoX7L28vKzUYBE+mFsM3/39/YWFhUQPoZ6YmHB3dyefTU1NtmaQI5oye5HQaDQYpiMjI7YKZ2dnGCrb29tkydQLd3d3xNL09HRISEhfX5+Pjw9eHHSmgywsLCzAh8rKSns6qampCQkJRqPRzGBtbQ3mAwICsrOzh4eHsfD4+Pj29sZMtq0CGsrPzw/n5+3trb3t5eXlMAdNKJhm4urqKkT39/cPDw/V1dV4RwwQbV6zD8pAlMvlaN2Ojg4MD7IdLuEoQXNRNLiK942NDU5CaKalpZFlHIB/4DfdMj4+DhBvb2+klQpLSkqQ+OvraypBb0Otrq7OlAWESyTigpGfn++KeexFEoFTXFxsiRMTE5OXl2cpkUgkUCOnLmd4eXkZbUNI8Q27lf7+/j4ksbGxVI6uOT4+Tk9PpxK0ycnJCT7JbYNjgO7Hf3h4OJi6wgBldHNzAwTLa9zg4CAcTU5OpshoeLzjwmc6Y7EcGRkJEU4EF1OA7egCQGF8ESiUJByDZG9vj0gw3zi/RaLNzU0iEeAOQthptVrXGTQ0NJBKbG9vx/0Kca6vr8eRlpubq1KpysrKsAqWU1NT1JYAUSJxI/PBxQfjtrGx0d/fH5i4amByPz8/z8/PJyUlYahHRESUlpZaXXS5c8GV3Nvbi4FmebmCGqggNrb6/4qB816Z74nO7/m7mv8ZkIn0s8/PM/gFBvWQ64byJCoAAAAASUVORK5CYII=\"></div>"
      ],
      "text/plain": [
       "FormBox[RowBox[{SuperscriptBox[OverscriptBox[\"r\", \"^\"], \"2\"], \" \", \n",
       "\n",
       " \n",
       ">        OverscriptBox[\"ω\", \"^\"]}], TraditionalForm]\n"
      ]
     },
     "execution_count": 1770,
     "metadata": {
      "text/html": [],
      "text/plain": []
     },
     "output_type": "execute_result"
    }
   ],
   "source": [
    "AngularMomentum = (OverHat[r][OverHat[t]])^2 OverHat[\\[Omega]][OverHat[t]];\n",
    "AngularMomentum // TraditionalForm"
   ]
  },
  {
   "cell_type": "markdown",
   "metadata": {},
   "source": [
    "Отсюда $\\frac{1}{\\hat{r}^{(1)}}\\left(\\frac{d\\hat{E}}{d\\hat{t}} - \\hat\\omega \\frac{d\\hat{J}}{d\\hat{t}}\\right)$"
   ]
  },
  {
   "cell_type": "code",
   "execution_count": 1771,
   "metadata": {
    "vscode": {
     "languageId": "wolfram"
    }
   },
   "outputs": [
    {
     "data": {
      "text/html": [
       "<div><img alt=\"Output\" src=\"data:image/png;base64,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\"></div>"
      ],
      "text/plain": [
       "FormBox[RowBox[{SuperscriptBox[\"r\", \"′′\", Rule[MultilineFunction, None]], \"-\", \n",
       "\n",
       " \n",
       ">        RowBox[{RowBox[{OverscriptBox[\"r\", \"^\"]}], \" \", \n",
       "\n",
       " \n",
       ">          SuperscriptBox[OverscriptBox[\"ω\", \"^\"], \"2\"]}], \"+\", \n",
       "\n",
       " \n",
       ">        FractionBox[\"1\", SuperscriptBox[OverscriptBox[\"r\", \"^\"], \"2\"]]}],\\\n",
       " \n",
       ">    TraditionalForm]\n"
      ]
     },
     "execution_count": 1771,
     "metadata": {
      "text/html": [],
      "text/plain": []
     },
     "output_type": "execute_result"
    }
   ],
   "source": [
    "Simplify[(D[Energy, OverHat[t]] - (AngularMomentum/OverHat[r][OverHat[t]]^2)(D[AngularMomentum, OverHat[t]]))/(D[OverHat[r][OverHat[t]], OverHat[t]])] // TraditionalForm"
   ]
  },
  {
   "cell_type": "markdown",
   "metadata": {},
   "source": [
    "Что совпадает с **первой** строкой повернутой LHS системы движения"
   ]
  },
  {
   "cell_type": "markdown",
   "metadata": {},
   "source": [
    "Отсюда $\\frac{1}{\\hat{r}}\\frac{d\\hat{J}}{d\\hat{t}}$"
   ]
  },
  {
   "cell_type": "code",
   "execution_count": 1772,
   "metadata": {
    "vscode": {
     "languageId": "wolfram"
    }
   },
   "outputs": [
    {
     "data": {
      "text/html": [
       "<div><img alt=\"Output\" src=\"data:image/png;base64,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\"></div>"
      ],
      "text/plain": [
       "FormBox[RowBox[{RowBox[{\"2\", \" \", OverscriptBox[\"ω\", \"^\"], \" \", \n",
       "\n",
       " \n",
       ">          SuperscriptBox[\"r\", \"′\", Rule[MultilineFunction, None]]}], \"+\", \n",
       "\n",
       " \n",
       ">        RowBox[{OverscriptBox[\"r\", \"^\"], \" \", \n",
       "\n",
       " \n",
       ">          SuperscriptBox[\"ω\", \"′\", Rule[MultilineFunction, None]]}]}],\\\n",
       " \n",
       ">    TraditionalForm]\n"
      ]
     },
     "execution_count": 1772,
     "metadata": {
      "text/html": [],
      "text/plain": []
     },
     "output_type": "execute_result"
    }
   ],
   "source": [
    "Simplify[D[AngularMomentum, OverHat[t]]/OverHat[r][OverHat[t]]] // TraditionalForm"
   ]
  },
  {
   "cell_type": "markdown",
   "metadata": {},
   "source": [
    "Что совпадает со **второй** строкой повернутой LHS системы движения"
   ]
  },
  {
   "cell_type": "markdown",
   "metadata": {},
   "source": [
    "Таким образом, мы можем выписать новую **энергетическую** систему уравнений\n",
    "\n",
    "$$\n",
    "\\begin{align}\n",
    "\\frac{d\\hat{E}}{d\\hat{t}} &= - \\frac{2}{5}\\epsilon_G \\left(\\hat{r}^{(1)} R_{xi}(-\\phi) \\hat{f}_{ij}^{(5)}\\hat{r}_j + \\hat{r}\\hat\\omega R_{yi}(-\\phi) \\hat{f}_{ij}^{(5)}\\hat{r}_j \\right)\n",
    "\\\\\n",
    "\\frac{d\\hat{J}}{d\\hat{t}} &= - \\frac{2}{5}\\epsilon_G \\hat{r} R_{yi}(-\\phi) \\hat{f}_{ij}^{(5)}\\hat{r}_j\n",
    "\\end{align}\n",
    "$$"
   ]
  },
  {
   "cell_type": "markdown",
   "metadata": {},
   "source": [
    "Или\n",
    "\n",
    "$$\n",
    "\\left(\\frac{d\\hat{E}}{d\\hat{t}}, \\frac{d\\hat{J}}{d\\hat{t}}\\right) = - \\frac{2}{5} \\epsilon_G T_{nk} R_{ki}(-\\phi) \\hat{f}_{ij}^{(5)}\\hat{r}_j\\quad,\n",
    "$$\n",
    "\n",
    "Чтобы перейти в размерный вид, достаточно положить $\\epsilon_G \\equiv 1$."
   ]
  },
  {
   "cell_type": "markdown",
   "metadata": {},
   "source": [
    "Здесь\n",
    "$$\n",
    "T = \n",
    "\\begin{bmatrix}\n",
    "\\hat{r}^{(1)} & \\hat{r}\\hat\\omega \\\\\n",
    "0 & \\hat{r}\n",
    "\\end{bmatrix}\n",
    "$$\n",
    "матрица трансформации:"
   ]
  },
  {
   "cell_type": "code",
   "execution_count": 1774,
   "metadata": {
    "vscode": {
     "languageId": "wolfram"
    }
   },
   "outputs": [
    {
     "data": {
      "text/html": [
       "<div><img alt=\"Output\" src=\"data:image/png;base64,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\"></div>"
      ],
      "text/plain": [
       "FormBox[TagBox[RowBox[{\"(\", \"⁠\", \n",
       "\n",
       " \n",
       ">         GridBox[{{SuperscriptBox[\"r\", \"′\", Rule[MultilineFunction, None]], \n",
       "\n",
       " \n",
       ">            RowBox[{OverscriptBox[\"r\", \"^\"], \" \", OverscriptBox[\"ω\", \"^\"]}]}, \n",
       "\n",
       " \n",
       ">           {\"0\", OverscriptBox[\"r\", \"^\"]}}, Rule[RowSpacings, 1], \n",
       "\n",
       " \n",
       ">          Rule[ColumnSpacings, 1], Rule[RowAlignments, Baseline], \n",
       "\n",
       " \n",
       ">          Rule[ColumnAlignments, Center]], \"⁠\", \")\"}], \n",
       "\n",
       " \n",
       ">       Function[BoxForm`e$, MatrixForm[BoxForm`e$]]], TraditionalForm]\n"
      ]
     },
     "execution_count": 1774,
     "metadata": {
      "text/html": [],
      "text/plain": []
     },
     "output_type": "execute_result"
    }
   ],
   "source": [
    "Transform = {{D[OverHat[r][OverHat[t]], OverHat[t]], OverHat[r][OverHat[t]] OverHat[\\[Omega]][OverHat[t]]}, {0, OverHat[r][OverHat[t]]}};\n",
    "Transform // MatrixForm // TraditionalForm"
   ]
  },
  {
   "cell_type": "markdown",
   "metadata": {},
   "source": [
    "Итак правая часть энергетической системы запишется как"
   ]
  },
  {
   "cell_type": "code",
   "execution_count": 1776,
   "metadata": {
    "vscode": {
     "languageId": "wolfram"
    }
   },
   "outputs": [
    {
     "data": {
      "text/html": [
       "<div><img alt=\"Output\" src=\"data:image/png;base64,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\"></div>"
      ],
      "text/plain": [
       "FormBox[TagBox[RowBox[{\"(\", \"⁠\", \n",
       "\n",
       " \n",
       ">         TagBox[GridBox[{{RowBox[{FractionBox[\"1\", \"5\"], \" \", \n",
       "\n",
       " \n",
       ">               OverscriptBox[\"r\", \"^\"], \" \", SubscriptBox[\"ϵ\", \"G\"], \" \", \n",
       "\n",
       " \n",
       ">               RowBox[{\"(\", RowBox[{RowBox[{OverscriptBox[\"r\", \"^\"], \" \", \n",
       "\n",
       " \n",
       ">                     OverscriptBox[\"ω\", \"^\"], \" \", \n",
       "\n",
       " \n",
       ">                     RowBox[{\"(\", RowBox[{RowBox[{RowBox[{\"sin\", \"(\", \n",
       "\n",
       " \n",
       ">                             RowBox[{\"2\", \" \", \"ϕ\"}], \")\"}], \" \", \n",
       "\n",
       " \n",
       ">                           RowBox[{\"(\", \n",
       "\n",
       " \n",
       ">                             RowBox[{TemplateBox[List[SubscriptBox[\n",
       "\n",
       " \n",
       ">                            OverscriptBox[\"f\", \"^\"], \n",
       "\n",
       " \n",
       ">                            RowBox[List[\"x\", \",\", \"x\"]]], \"\\\"(5)\\\"\"], \n",
       "\n",
       " \n",
       ">                             \"Superscript\", Rule[SyntaxForm, SuperscriptBox]], \n",
       "\n",
       " \n",
       ">                             \"-\", \n",
       "\n",
       " \n",
       ">                             TemplateBox[List[SubscriptBox[OverscriptB\\\n",
       "\n",
       " \n",
       ">   ox[\"f\", \"^\"], RowBox[List[\"y\", \",\", \"y\"]]], \"\\\"(5)\\\"\"], \"Superscript\", \n",
       "\n",
       " \n",
       ">                             Rule[SyntaxForm, SuperscriptBox]]}], \")\"}]}], \"-\", \n",
       "\n",
       " \n",
       ">                         RowBox[{\"2\", \" \", \n",
       "\n",
       " \n",
       ">                           RowBox[{\"cos\", \"(\", RowBox[{\"2\", \" \", \"ϕ\"}], \")\"}], \n",
       "\n",
       " \n",
       ">                           \" \", TemplateBox[List[SubscriptBox[OverscriptB\\\n",
       "\n",
       " \n",
       ">   ox[\"f\", \"^\"], RowBox[List[\"x\", \",\", \"y\"]]], \"\\\"(5)\\\"\"], \"Superscript\", \n",
       "\n",
       " \n",
       ">                            Rule[SyntaxForm, SuperscriptBox]]}]}], \")\"}]}], \"-\", \n",
       "\n",
       " \n",
       ">                   RowBox[{\"2\", \" \", \n",
       "\n",
       " \n",
       ">                     SuperscriptBox[\"r\", \"′\", Rule[MultilineFunction, None]], \" \", \n",
       "\n",
       " \n",
       ">                     RowBox[{\"(\", RowBox[{RowBox[{RowBox[{\"sin\", \"(\", \n",
       "\n",
       " \n",
       ">                             RowBox[{\"2\", \" \", \"ϕ\"}], \")\"}], \" \", \n",
       "\n",
       " \n",
       ">                           TemplateBox[List[SubscriptBox[OverscriptBox[\"f\", \n",
       "\n",
       " \n",
       ">                             \"^\"], RowBox[List[\"x\", \",\", \"y\"]]], \"\\\"(5)\\\"\"], \n",
       "\n",
       " \n",
       ">                            \"Superscript\", Rule[SyntaxForm, SuperscriptBox]]}], \n",
       "\n",
       " \n",
       ">                         \"+\", RowBox[{RowBox[{SuperscriptBox[\"cos\", \"2\"], \"(\", \n",
       "\n",
       " \n",
       ">                             \"ϕ\", \")\"}], \" \", \n",
       "\n",
       " \n",
       ">                           TemplateBox[List[SubscriptBox[OverscriptBox[\"f\", \n",
       "\n",
       " \n",
       ">                             \"^\"], RowBox[List[\"x\", \",\", \"x\"]]], \"\\\"(5)\\\"\"], \n",
       "\n",
       " \n",
       ">                            \"Superscript\", Rule[SyntaxForm, SuperscriptBox]]}], \n",
       "\n",
       " \n",
       ">                         \"+\", RowBox[{RowBox[{SuperscriptBox[\"sin\", \"2\"], \"(\", \n",
       "\n",
       " \n",
       ">                             \"ϕ\", \")\"}], \" \", \n",
       "\n",
       " \n",
       ">                           TemplateBox[List[SubscriptBox[OverscriptBox[\"f\", \n",
       "\n",
       " \n",
       ">                             \"^\"], RowBox[List[\"y\", \",\", \"y\"]]], \"\\\"(5)\\\"\"], \n",
       "\n",
       " \n",
       ">                            \"Superscript\", Rule[SyntaxForm, SuperscriptBox]]}]}], \n",
       "\n",
       " \n",
       ">                       \")\"}]}]}], \")\"}]}]}, \n",
       "\n",
       " \n",
       ">            {RowBox[{RowBox[{\"-\", FractionBox[\"1\", \"5\"]}], \" \", \n",
       "\n",
       " \n",
       ">               SuperscriptBox[OverscriptBox[\"r\", \"^\"], \"2\"], \" \", \n",
       "\n",
       " \n",
       ">               SubscriptBox[\"ϵ\", \"G\"], \" \", \n",
       "\n",
       " \n",
       ">               RowBox[{\"(\", RowBox[{RowBox[{RowBox[{\"sin\", \"(\", \n",
       "\n",
       " \n",
       ">                       RowBox[{\"2\", \" \", \"ϕ\"}], \")\"}], \" \", \n",
       "\n",
       " \n",
       ">                     RowBox[{\"(\", RowBox[{TemplateBox[List[SubscriptBox[\n",
       "\n",
       " \n",
       ">                            OverscriptBox[\"f\", \"^\"], \n",
       "\n",
       " \n",
       ">                            RowBox[List[\"y\", \",\", \"y\"]]], \"\\\"(5)\\\"\"], \n",
       "\n",
       " \n",
       ">                          \"Superscript\", Rule[SyntaxForm, SuperscriptBox]], \"-\", \n",
       "\n",
       " \n",
       ">                         TemplateBox[List[SubscriptBox[OverscriptBox[\"f\", \"^\"], \n",
       "\n",
       " \n",
       ">                            RowBox[List[\"x\", \",\", \"x\"]]], \"\\\"(5)\\\"\"], \n",
       "\n",
       " \n",
       ">                          \"Superscript\", Rule[SyntaxForm, SuperscriptBox]]}], \")\"}]}\\\n",
       "\n",
       " \n",
       ">   ], \"+\", RowBox[{\"2\", \" \", RowBox[{\"cos\", \"(\", RowBox[{\"2\", \" \", \"ϕ\"}], \")\"}], \n",
       "\n",
       " \n",
       ">                     \" \", TemplateBox[List[SubscriptBox[OverscriptBox[\"f\", \"^\"], \n",
       "\n",
       " \n",
       ">                        RowBox[List[\"x\", \",\", \"y\"]]], \"\\\"(5)\\\"\"], \"Superscript\", \n",
       "\n",
       " \n",
       ">                      Rule[SyntaxForm, SuperscriptBox]]}]}], \")\"}]}]}}, \n",
       "\n",
       " \n",
       ">           Rule[RowSpacings, 1], Rule[ColumnAlignments, Center], \n",
       "\n",
       " \n",
       ">           Rule[ColumnAlignments, Left]], Column], \"⁠\", \")\"}], \n",
       "\n",
       " \n",
       ">       Function[BoxForm`e$, MatrixForm[BoxForm`e$]]], TraditionalForm]\n"
      ]
     },
     "execution_count": 1776,
     "metadata": {
      "text/html": [],
      "text/plain": []
     },
     "output_type": "execute_result"
    }
   ],
   "source": [
    "RHSEnegry = FullSimplify[Transform . RHS, Trig -> True];\n",
    "RHSEnegry // MatrixForm // TraditionalForm"
   ]
  },
  {
   "cell_type": "markdown",
   "metadata": {},
   "source": [
    "## Другой Способ получения уравнений движения и энергетических уравнений через лагранжев формализм в полярных координатах"
   ]
  },
  {
   "cell_type": "markdown",
   "metadata": {},
   "source": [
    "### **Лагранжиан системы**\n",
    "Лагранжиан $L$ в полярных координатах $(r, \\phi)$ выражается как:\n",
    "$$\n",
    "L = T - (U + \\Phi),\n",
    "$$\n",
    "где:\n",
    "- $T$ — кинетическая энергия,\n",
    "- $U$ — потенциальная энергия\n",
    "- $\\Phi = \\frac{1}{5}f_{ij}^{(5)}r_i r_j = \\frac{\\epsilon_G}{5}\\frac{b^2}{t_0^2}\\hat{f}_{ij}^{(5)}\\hat{r}_i \\hat{r}_j = \\epsilon_G\\frac{GM}{b}\\hat{\\Phi}$ - малый потенциал \"реакции излучения\""
   ]
  },
  {
   "cell_type": "markdown",
   "metadata": {},
   "source": [
    "Безразмерный малый потенциал \"реакции излучения\" $\\hat{\\Phi} = \\frac{1}{5}\\hat{f}_{ij}^{(5)}\\hat{r}_i\\hat{r}_j$"
   ]
  },
  {
   "cell_type": "code",
   "execution_count": 1778,
   "metadata": {
    "vscode": {
     "languageId": "wolfram"
    }
   },
   "outputs": [
    {
     "data": {
      "text/html": [
       "<div><img alt=\"Output\" src=\"data:image/png;base64,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\"></div>"
      ],
      "text/plain": [
       "FormBox[RowBox[{FractionBox[\"1\", \"5\"], \" \", \n",
       "\n",
       " \n",
       ">        RowBox[{\"(\", RowBox[{RowBox[{OverscriptBox[\"r\", \"^\"], \" \", \n",
       "\n",
       " \n",
       ">              RowBox[{\"cos\", \"(\", \"ϕ\", \")\"}], \" \", \n",
       "\n",
       " \n",
       ">              RowBox[{\"(\", RowBox[{RowBox[{OverscriptBox[\"r\", \"^\"], \" \", \n",
       "\n",
       " \n",
       ">                    RowBox[{\"sin\", \"(\", \"ϕ\", \")\"}], \" \", \n",
       "\n",
       " \n",
       ">                    TemplateBox[List[SubscriptBox[OverscriptBox[\"f\", \"^\"], \n",
       "\n",
       " \n",
       ">                       RowBox[List[\"x\", \",\", \"y\"]]], \"\\\"(5)\\\"\"], \"Superscript\", \n",
       "\n",
       " \n",
       ">                     Rule[SyntaxForm, SuperscriptBox]]}], \"+\", \n",
       "\n",
       " \n",
       ">                  RowBox[{OverscriptBox[\"r\", \"^\"], \" \", \n",
       "\n",
       " \n",
       ">                    RowBox[{\"cos\", \"(\", \"ϕ\", \")\"}], \" \", \n",
       "\n",
       " \n",
       ">                    TemplateBox[List[SubscriptBox[OverscriptBox[\"f\", \"^\"], \n",
       "\n",
       " \n",
       ">                       RowBox[List[\"x\", \",\", \"x\"]]], \"\\\"(5)\\\"\"], \"Superscript\", \n",
       "\n",
       " \n",
       ">                     Rule[SyntaxForm, SuperscriptBox]]}]}], \")\"}]}], \"+\", \n",
       "\n",
       " \n",
       ">            RowBox[{OverscriptBox[\"r\", \"^\"], \" \", RowBox[{\"sin\", \"(\", \"ϕ\", \")\"}], \" \", \n",
       "\n",
       " \n",
       ">              RowBox[{\"(\", RowBox[{RowBox[{OverscriptBox[\"r\", \"^\"], \" \", \n",
       "\n",
       " \n",
       ">                    RowBox[{\"cos\", \"(\", \"ϕ\", \")\"}], \" \", \n",
       "\n",
       " \n",
       ">                    TemplateBox[List[SubscriptBox[OverscriptBox[\"f\", \"^\"], \n",
       "\n",
       " \n",
       ">                       RowBox[List[\"x\", \",\", \"y\"]]], \"\\\"(5)\\\"\"], \"Superscript\", \n",
       "\n",
       " \n",
       ">                     Rule[SyntaxForm, SuperscriptBox]]}], \"+\", \n",
       "\n",
       " \n",
       ">                  RowBox[{OverscriptBox[\"r\", \"^\"], \" \", RowBox[{\"sin\", \"(\", \"ϕ\", \")\"}],\\\n",
       " \n",
       ">    \n",
       "                 \" \", TemplateBox[List[SubscriptBox[OverscriptBox[\"f\", \"^\"], \n",
       "\n",
       " \n",
       ">                       RowBox[List[\"y\", \",\", \"y\"]]], \"\\\"(5)\\\"\"], \"Superscript\", \n",
       "\n",
       " \n",
       ">                     Rule[SyntaxForm, SuperscriptBox]]}]}], \")\"}]}]}], \")\"}]}], \n",
       "\n",
       " \n",
       ">      TraditionalForm]\n"
      ]
     },
     "execution_count": 1778,
     "metadata": {
      "text/html": [],
      "text/plain": []
     },
     "output_type": "execute_result"
    }
   ],
   "source": [
    "fh5rhrh = 1/5 EinsteinSummation[{{i, j}, {i}, {j}}, {fh5, rh, rh}];\n",
    "fh5rhrh // TraditionalForm"
   ]
  },
  {
   "cell_type": "markdown",
   "metadata": {},
   "source": [
    "Безразмерный лагранжиан\n",
    "\n",
    "$$\n",
    "\\hat{L} = \\hat{T} - (\\hat{U} + \\epsilon_G\\hat{\\Phi}),\n",
    "$$\n",
    "или\n",
    "$$\n",
    "\\hat{L} = \\frac{1}{2} \\left((\\hat{r}^{(1)})^2 + \\hat{r}^2 \\hat{\\omega}^2 \\right) + \\frac{1}{\\hat{r}} - \\frac{\\epsilon_G}{5}\\hat{f}_{ij}^{(5)}\\hat{r}_i \\hat{r}_j.\n",
    "$$"
   ]
  },
  {
   "cell_type": "markdown",
   "metadata": {},
   "source": [
    "### **Уравнения Эйлера-Лагранжа**\n",
    "Уравнения Эйлера-Лагранжа имеют вид:\n",
    "$$\n",
    "\\frac{d}{dt} \\left( \\frac{\\partial \\hat{L}}{\\partial \\dot{q}_i} \\right) - \\frac{\\partial \\hat{L}}{\\partial q_i} = 0,\n",
    "$$\n",
    "где $q_i$ — обобщённые координаты ($\\hat{r}$ и $\\phi$)."
   ]
  },
  {
   "cell_type": "markdown",
   "metadata": {},
   "source": [
    "---\n",
    "\n",
    "#### Уравнение для координаты $\\hat{r}$:\n",
    "$$\n",
    "\\frac{d}{d\\hat{t}} \\left(\\frac{\\partial \\hat{L}}{\\partial \\hat{r}^{(1)}} \\right) - \\frac{\\partial \\hat{L}}{\\partial \\hat{r}} = 0.\n",
    "$$\n",
    "Вычислим производные:\n",
    "$$\n",
    "\\frac{\\partial \\hat{L}}{\\partial \\hat{r}^{(1)}} = \\hat{r}^{(1)}, \\quad \\frac{d}{d\\hat{t}} \\left( \\frac{\\partial \\hat{L}}{\\partial \\hat{r}^{(1)}} \\right) = \\hat{r}^{(2)},\n",
    "$$\n",
    "$$\n",
    "\\frac{\\partial \\hat{L}}{\\partial \\hat{r}} = \\hat{r} \\hat{\\omega}^2 - \\frac{1}{\\hat{r}^2} - \\epsilon_G\\frac{\\partial \\hat{\\Phi}}{\\partial \\hat{r}}.\n",
    "$$\n",
    "Подставляем в уравнение Эйлера-Лагранжа:\n",
    "$$\n",
    "\\hat{r}^{(2)} - \\hat{r} \\hat{\\omega}^2 + \\frac{1}{\\hat{r}^2} = - \\epsilon_G\\frac{\\partial \\hat{\\Phi}}{\\partial \\hat{r}}.\n",
    "$$\n",
    "\n",
    "Это **радиальное уравнение движения**.\n",
    "\n",
    "Здесь \n",
    "$$\n",
    "\\frac{\\partial \\hat{\\Phi}}{\\partial \\hat{r}} = \\frac{1}{5}\\hat{f}_{ij}^{(5)}\\left(\\frac{\\partial \\hat{r}_i}{\\partial \\hat{r}}\\hat{r}_j + \\hat{r}_i\\frac{\\partial \\hat{r}_j}{\\partial \\hat{r}}\\right)\n",
    "$$\n",
    "<span style=\"color:red\">**TODO:**</span> Обсудить почему $\\hat{f}_{ij}^{(5)}$ берётся заданной функцией, не зависящей от $\\hat{r}$ при вариации лагранжиана."
   ]
  },
  {
   "cell_type": "markdown",
   "metadata": {},
   "source": [
    "Правая часть радиального уравнения движения будет выглядеть как"
   ]
  },
  {
   "cell_type": "code",
   "execution_count": 1780,
   "metadata": {
    "vscode": {
     "languageId": "wolfram"
    }
   },
   "outputs": [
    {
     "data": {
      "text/html": [
       "<div><img alt=\"Output\" src=\"data:image/png;base64,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\"></div>"
      ],
      "text/plain": [
       "FormBox[RowBox[{RowBox[{\"-\", FractionBox[\"2\", \"5\"]}], \" \", OverscriptBox[\"r\", \"^\"], \n",
       "\n",
       " \n",
       ">        \" \", SubscriptBox[\"ϵ\", \"G\"], \" \", \n",
       "\n",
       " \n",
       ">        RowBox[{\"(\", RowBox[{RowBox[{RowBox[{\"sin\", \"(\", RowBox[{\"2\", \" \", \"ϕ\"}], \n",
       "\n",
       " \n",
       ">                \")\"}], \" \", TemplateBox[List[SubscriptBox[OverscriptBox[\"f\", \"^\"], \n",
       "\n",
       " \n",
       ">                 RowBox[List[\"x\", \",\", \"y\"]]], \"\\\"(5)\\\"\"], \"Superscript\", \n",
       "\n",
       " \n",
       ">               Rule[SyntaxForm, SuperscriptBox]]}], \"+\", \n",
       "\n",
       " \n",
       ">            RowBox[{RowBox[{SuperscriptBox[\"cos\", \"2\"], \"(\", \"ϕ\", \")\"}], \" \", \n",
       "\n",
       " \n",
       ">              TemplateBox[List[SubscriptBox[OverscriptBox[\"f\", \"^\"], \n",
       "\n",
       " \n",
       ">                 RowBox[List[\"x\", \",\", \"x\"]]], \"\\\"(5)\\\"\"], \"Superscript\", \n",
       "\n",
       " \n",
       ">               Rule[SyntaxForm, SuperscriptBox]]}], \"+\", \n",
       "\n",
       " \n",
       ">            RowBox[{RowBox[{SuperscriptBox[\"sin\", \"2\"], \"(\", \"ϕ\", \")\"}], \" \", \n",
       "\n",
       " \n",
       ">              TemplateBox[List[SubscriptBox[OverscriptBox[\"f\", \"^\"], \n",
       "\n",
       " \n",
       ">                 RowBox[List[\"y\", \",\", \"y\"]]], \"\\\"(5)\\\"\"], \"Superscript\", \n",
       "\n",
       " \n",
       ">               Rule[SyntaxForm, SuperscriptBox]]}]}], \")\"}]}], TraditionalForm]\n"
      ]
     },
     "execution_count": 1780,
     "metadata": {
      "text/html": [],
      "text/plain": []
     },
     "output_type": "execute_result"
    }
   ],
   "source": [
    "RHSMotionRadialLagrange = - 1/5 Subscript[\\[Epsilon], G] FullSimplify[EinsteinSummation[{{i, j}, {i}, {j}}, {fh5, D[rh, OverHat[r][OverHat[t]]], rh}] + EinsteinSummation[{{i, j}, {i}, {j}}, {fh5, rh, D[rh, OverHat[r][OverHat[t]]]}]];\n",
    "RHSMotionRadialLagrange // TraditionalForm"
   ]
  },
  {
   "cell_type": "markdown",
   "metadata": {},
   "source": [
    "<span style=\"color:red\">**NB:**</span> Выражение <span style=\"color:green\">**совпадает**</span> с раннее полученным уравнением и с уравнением (10) из файла Binary.pdf"
   ]
  },
  {
   "cell_type": "code",
   "execution_count": 1587,
   "metadata": {
    "vscode": {
     "languageId": "wolfram"
    }
   },
   "outputs": [
    {
     "data": {
      "text/html": [
       "<div><pre style=\"&#102;&#111;&#110;&#116;&#45;&#102;&#97;&#109;&#105;&#108;&#121;&#58;&#32;&#34;&#67;&#111;&#117;&#114;&#105;&#101;&#114;&#32;&#78;&#101;&#119;&#34;&#44;&#67;&#111;&#117;&#114;&#105;&#101;&#114;&#44;&#109;&#111;&#110;&#111;&#115;&#112;&#97;&#99;&#101;&#59;\">&#48;</pre></div>"
      ],
      "text/plain": [
       "0"
      ]
     },
     "execution_count": 1587,
     "metadata": {
      "text/html": [],
      "text/plain": []
     },
     "output_type": "execute_result"
    }
   ],
   "source": [
    "RHSMotion[[1]] - RHSMotionRadialLagrange"
   ]
  },
  {
   "cell_type": "markdown",
   "metadata": {},
   "source": [
    "---\n",
    "\n",
    "#### Уравнение для координаты $\\phi$:\n",
    "$$\n",
    "\\frac{d}{d\\hat{t}} \\left(\\frac{\\partial \\hat{L}}{\\partial \\hat{\\omega}} \\right) - \\frac{\\partial \\hat{L}}{\\partial \\phi} = 0.\n",
    "$$\n",
    "Вычислим производные:\n",
    "$$\n",
    "\\frac{\\partial \\hat{L}}{\\partial \\hat{\\omega}} = \\hat{r}^2 \\hat{\\omega}, \\quad \\frac{d}{d\\hat{t}} \\left( \\frac{\\partial \\hat{L}}{\\partial \\hat{\\omega}} \\right) = \\frac{d}{d\\hat{t}} \\left( \\hat{r}^2 \\hat{\\omega} \\right),\n",
    "$$\n",
    "$$\n",
    "\\frac{\\partial \\hat{L}}{\\partial \\phi} = - \\epsilon_G\\frac{\\partial \\hat{\\Phi}}{\\partial \\phi}.\n",
    "$$\n",
    "Подставляем в уравнение Эйлера-Лагранжа:\n",
    "$$\n",
    "\\frac{1}{\\hat{r}}\\frac{d}{d\\hat{t}} \\left( \\hat{r}^2 \\hat{\\omega} \\right) = \\frac{1}{\\hat{r}}\\frac{d\\hat{J}}{d\\hat{t}} = - \\frac{\\epsilon_G}{\\hat{r}}\\frac{\\partial \\hat{\\Phi}}{\\partial \\phi}.\n",
    "$$\n",
    "\n",
    "Здесь \n",
    "$$\n",
    "\\frac{\\partial \\hat{\\Phi}}{\\partial \\phi} = \\frac{1}{5}\\hat{f}_{ij}^{(5)}\\left(\\frac{\\partial \\hat{r}_i}{\\partial \\phi}\\hat{r}_j + \\hat{r}_i\\frac{\\partial \\hat{r}_j}{\\partial \\phi}\\right)\n",
    "$$\n",
    "<span style=\"color:red\">**TODO:**</span> Обсудить почему $\\hat{f}_{ij}^{(5)}$ берётся заданной функцией, не зависящей от $\\phi$ при вариации лагранжиана."
   ]
  },
  {
   "cell_type": "markdown",
   "metadata": {},
   "source": [
    "Правая часть уравнения движения для $\\phi$ будет выглядеть как"
   ]
  },
  {
   "cell_type": "code",
   "execution_count": 1782,
   "metadata": {
    "vscode": {
     "languageId": "wolfram"
    }
   },
   "outputs": [
    {
     "data": {
      "text/html": [
       "<div><img alt=\"Output\" src=\"data:image/png;base64,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\"></div>"
      ],
      "text/plain": [
       "FormBox[RowBox[{RowBox[{\"-\", FractionBox[\"1\", \"5\"]}], \" \", OverscriptBox[\"r\", \"^\"], \n",
       "\n",
       " \n",
       ">        \" \", SubscriptBox[\"ϵ\", \"G\"], \" \", \n",
       "\n",
       " \n",
       ">        RowBox[{\"(\", RowBox[{RowBox[{RowBox[{\"sin\", \"(\", RowBox[{\"2\", \" \", \"ϕ\"}], \n",
       "\n",
       " \n",
       ">                \")\"}], \" \", RowBox[{\"(\", \n",
       "\n",
       " \n",
       ">                RowBox[{TemplateBox[List[SubscriptBox[OverscriptBox[\"f\", \"^\"], \n",
       "\n",
       " \n",
       ">                     RowBox[List[\"y\", \",\", \"y\"]]], \"\\\"(5)\\\"\"], \"Superscript\", \n",
       "\n",
       " \n",
       ">                   Rule[SyntaxForm, SuperscriptBox]], \"-\", \n",
       "\n",
       " \n",
       ">                  TemplateBox[List[SubscriptBox[OverscriptBox[\"f\", \"^\"], \n",
       "\n",
       " \n",
       ">                     RowBox[List[\"x\", \",\", \"x\"]]], \"\\\"(5)\\\"\"], \"Superscript\", \n",
       "\n",
       " \n",
       ">                   Rule[SyntaxForm, SuperscriptBox]]}], \")\"}]}], \"+\", \n",
       "\n",
       " \n",
       ">            RowBox[{\"2\", \" \", RowBox[{\"cos\", \"(\", RowBox[{\"2\", \" \", \"ϕ\"}], \")\"}], \" \", \n",
       "\n",
       " \n",
       ">              TemplateBox[List[SubscriptBox[OverscriptBox[\"f\", \"^\"], \n",
       "\n",
       " \n",
       ">                 RowBox[List[\"x\", \",\", \"y\"]]], \"\\\"(5)\\\"\"], \"Superscript\", \n",
       "\n",
       " \n",
       ">               Rule[SyntaxForm, SuperscriptBox]]}]}], \")\"}]}], TraditionalForm]\n"
      ]
     },
     "execution_count": 1782,
     "metadata": {
      "text/html": [],
      "text/plain": []
     },
     "output_type": "execute_result"
    }
   ],
   "source": [
    "RHSMotionPhiLagrange = - 1/5 Subscript[\\[Epsilon], G] FullSimplify[EinsteinSummation[{{i, j}, {i}, {j}}, {fh5, D[rh, \\[Phi][OverHat[t]]], rh}] + EinsteinSummation[{{i, j}, {i}, {j}}, {fh5, rh, D[rh, \\[Phi][OverHat[t]]]}]]/OverHat[r][OverHat[t]];\n",
    "RHSMotionPhiLagrange // TraditionalForm"
   ]
  },
  {
   "cell_type": "markdown",
   "metadata": {},
   "source": [
    "<span style=\"color:red\">**NB:**</span> Выражение <span style=\"color:green\">**совпадает**</span> с раннее полученным уравнением и с уравнением (9) из файла Binary.pdf"
   ]
  },
  {
   "cell_type": "code",
   "execution_count": 1597,
   "metadata": {
    "vscode": {
     "languageId": "wolfram"
    }
   },
   "outputs": [
    {
     "data": {
      "text/html": [
       "<div><pre style=\"&#102;&#111;&#110;&#116;&#45;&#102;&#97;&#109;&#105;&#108;&#121;&#58;&#32;&#34;&#67;&#111;&#117;&#114;&#105;&#101;&#114;&#32;&#78;&#101;&#119;&#34;&#44;&#67;&#111;&#117;&#114;&#105;&#101;&#114;&#44;&#109;&#111;&#110;&#111;&#115;&#112;&#97;&#99;&#101;&#59;\">&#48;</pre></div>"
      ],
      "text/plain": [
       "0"
      ]
     },
     "execution_count": 1597,
     "metadata": {
      "text/html": [],
      "text/plain": []
     },
     "output_type": "execute_result"
    }
   ],
   "source": [
    "RHSMotion[[2]] - RHSMotionPhiLagrange"
   ]
  },
  {
   "cell_type": "markdown",
   "metadata": {},
   "source": [
    "## Получим **энергетическую** систему уравнений в подходе Лагранжа"
   ]
  },
  {
   "cell_type": "markdown",
   "metadata": {},
   "source": [
    "Заметим, что энергия системы:\n",
    "$$\n",
    "\\hat{E} = \\frac{(\\hat{r}^{(1)})^2}{2} + \\frac{\\hat{r}^2 \\hat{\\omega}^2}{2} - \\frac{1}{\\hat{r}}\n",
    "$$\n",
    "$$\n",
    "\\frac{1}{\\hat{r}^{(1)}}\\left(\\frac{d\\hat{E}}{d\\hat{t}} - \\hat{\\omega} \\frac{d\\hat{J}}{d\\hat{t}}\\right) = \\hat{r}^{(2)} - \\hat{r} \\hat{\\omega}^2 + \\frac{1}{\\hat{r}^2}\n",
    "$$\n",
    "\n",
    "А также уравнение для изменения момента импульса системы есть\n",
    "$$\n",
    "\\frac{d\\hat{J}}{d\\hat{t}} = - \\epsilon_G\\frac{\\partial \\hat{\\Phi}}{\\partial \\phi}.\n",
    "$$\n",
    "\n",
    "Итоговая энергетическая система, выведенная по-новому будет записываться как:\n",
    "\n",
    "$$\n",
    "\\begin{align}\n",
    "\\frac{d\\hat{E}}{d\\hat{t}} &= - \\epsilon_G\\left(\\hat{r}^{(1)}\\frac{\\partial \\hat{\\Phi}}{\\partial \\hat{r}} + \\hat{\\omega} \\frac{\\partial \\hat{\\Phi}}{\\partial \\phi}\\right) = - \\epsilon_G \\frac{d\\hat{\\Phi}}{d\\hat{t}}\n",
    "  = - \\frac{\\epsilon_G}{5}\\hat{f}_{ij}^{(5)}\\left(\\frac{d\\hat{r}_i}{d\\hat{t}}\\hat{r}_j + \\hat{r}_i\\frac{d\\hat{r}_j}{d\\hat{t}}\\right)\n",
    "\\\\\n",
    "\\frac{d\\hat{J}}{d\\hat{t}} &= - \\epsilon_G\\frac{\\partial \\hat{\\Phi}}{\\partial \\phi} = - \\frac{\\epsilon_G}{5}\\hat{f}_{ij}^{(5)}\\left(\\frac{\\partial \\hat{r}_i}{\\partial \\phi}\\hat{r}_j + \\hat{r}_i\\frac{\\partial \\hat{r}_j}{\\partial \\phi}\\right)\n",
    "\\end{align}\n",
    "$$"
   ]
  },
  {
   "cell_type": "markdown",
   "metadata": {},
   "source": [
    "И снова, чтобы перейти в размерный вид, достаточно положить $\\epsilon_G \\equiv 1$\n",
    "\n",
    "То есть\n",
    "$$\n",
    "\\begin{align}\n",
    "\\frac{dE}{dt} &= - \\frac{d\\Phi}{dt}\n",
    "\\\\\n",
    "\\frac{dJ}{dt} &= - \\frac{\\partial \\Phi}{\\partial \\phi}\n",
    "\n",
    "\\end{align}\n",
    "$$\n",
    "<span style=\"color:red\">**TODO:**</span> Обсудить почему $\\hat{f}_{ij}^{(5)}$ берётся заданной функцией, не зависящей от $\\hat{r}, \\phi, \\hat{t}$ при вариации лагранжиана."
   ]
  },
  {
   "cell_type": "code",
   "execution_count": 1784,
   "metadata": {
    "vscode": {
     "languageId": "wolfram"
    }
   },
   "outputs": [
    {
     "data": {
      "text/html": [
       "<div><img alt=\"Output\" src=\"data:image/png;base64,iVBORw0KGgoAAAANSUhEUgAABJEAAABfCAIAAADXgcEyAAAAz3pUWHRSYXcgcHJvZmlsZSB0eXBlIGV4aWYAAHjabU9bjgMhDPvnFD1CSIIDx2E6jLQ32OM3GditqGqJ2HEeKGn8/lzpEeBMSYtVNIAc2rRxd1FpYnKmdscbLZMud/NTuabI3a3yLmAs/9h9w2SuH4uIp5D4wbXoGliLhKef+8yP1c+91n2R0Ib2J/L3XMUYBdnUozKZobmuyaUTClMxXHgC3phxMunTecDMx2DRIT0GAzxs7x4J4sYZJ0i8It1Z7tg4HHbNAo9FiI//apzzAmL5WsXDdQLoAAAACXBIWXMAABYlAAAWJQFJUiTwAAAAPHRFWHRTb2Z0d2FyZQBDcmVhdGVkIHdpdGggdGhlIFdvbGZyYW0gTGFuZ3VhZ2UgOiB3d3cud29sZnJhbS5jb21coqaFAAAAIXRFWHRDcmVhdGlvbiBUaW1lADIwMjU6MDM6MDkgMjI6MjY6NTCp/146AAAgAElEQVR4Xu2dedxu1fj/v2WKDjJFSqkkEeooQ+po0IjQeChNoghRSE46pVlREo0aadIRKhUN9GumQUUZkgbJPEeZfm/fz/kuy9p7rb32fe+9772f59p/nNdz1r2Ga33WdF3rGtYC//rXv/7HPkNgiiLwj3/845hjjvnnP/+p/l1zzTVHHHHEoosuOkW7a90aHgLXXXfd9ddfL7r/8pe/PPzww3vttdfwujESxdO57yMBNvlCtqNOfgyMgtYQsOndGrQTrnjqjCwym30jIABfVVoqlj5CE1ZkfAS+8IUv+FvFuuuuO36dVsPQEejPIuU2YcUVV/Sn6FVXXTV0eDPpz+/7V7/61WuvvbZYbSw9k4ChZEOk//KXv9wTam1H7clAGBltIGDTuw1U+1Bn/sjOnTuXs6kNmhupecGOhd8f/ehHMEzbbbfdgQce+Itf/KLj1ptq7tBDD73jjjuKtcXSm2rX6slB4OKLL95nn32UkxE58sgj/9//faeccgqJP/nJT972trc9+OCDObVZnimGwMQX6f3337/lllty7QewF1100aMe9Sg3P5FMVlttNdJ33HHH22+/fYohT3foNfv/N7/5zUTfjz322FNPPdXv+zLLLDN79uxf/epXASCx9KmE229+8xtmy9JLLz3BTtmOOkHwrelWEfB3pBjDUNyRWiXJKm8KgcqNq/SoRUj52Mc+1hQNfj3N1JyQJv/+9783K2t+5StfgUF5xCMeoW485SlP+cEPftBsEx3Udvnllz/mMY9BZgvaiqV3QNKAmnjooYcQllq6xgCHCy+88JnPfObPfvYz/oY1fPzjH3/llVfSYgDRhz70IXRujc/wAQ3E9CS1cpEyM5ktGCi2hM+vf/1r+O+zzz5b9a+11lo777zzXXfdFTSH8IYF7w9/+MOWyCittu2+0yiy6Oabb57uO/i/8IUvPProo30id9hhh/XWWw8GK6A8lt4lbu21xYhsuOGGW221VaIJ21Hbw99qnjgCbU9vf0eKMQylO9LEkRk6AW0fN5msYPGovfPOOx/72Md+4xvfaBzh/JoTrOn/xMji6vcd73hHg0T/8Y9/fMYznnHmmWf+7W9/Y22suuqqiG2bbLJJg010UBUs19Of/nQYhaCtWHoHJA2oiXvuuQdBnXFHZGqDbK4xnvrUp8KXq/LXve51uh1YaKGF9txzzz/96U+uUZbErFmzPvCBD7RBhtXZTwRyFilTggnDLLrvvvsa7wUiB4LHu9/9btV8ww03uEu4mTNncrngt3j44YdjNulP2sbpCSpste+0hWfpcsst94c//KGy79yIPfnJT/YBufvuu7kp22+//QKaY+ltY9VN/QcddBC3nJz0seZsR+1mIKyViSDQ9vT2d6Q0w1DckSYCyFRqtNXjJp8VBNLiUYvsg7Tyy1/+snHAM2v+2te+tsceeyArFQkol9lOO+201VdfXYdrU9/nP//5vffe29V23nnnwa8sueSSTdXfTT0HH3wwhyiMQtBcLL0bqgbRCvPvla98pZjUBRZYAKuwxsnG4nGdddZx1R511FGYVC211FJqFH6RiwP369e//nUS21iWjffLKmwEgcpFesEFFzAzNVvWWGONxtWwbMTUjLWbunPrrbe+//3vZ1Fwp6BGA+XSk570pCClERxKK2m779yq0h2sjDL7/va3vx0lpE/qe97znic84Qn+EtavsfT2sOqm5j//+c+LLLLITjvtFGvOdtQYMiio58yZs+222x5wwAE///nPuxkva6VZBNqe3sGOBPFphqG4IzXb3/Zq4yDD2hz62Sp74hnb9nFTixUE+eCoxX+BQ/mjH/1o44OSX/NnPvOZV7/61UUbsRKZ7ayzzlpiiSW4k26W3O9973v+cYv1EcLPSiut1GwrrdbGJvKsZz0LHINWYumtEjO4yrk2gCvl35tuugkYn/a0p/30pz9tthcveMEL3vve9xbrPP300+H2aN2pOMiD/SQp3B00S4PV1k8EKhfpvffeixL42c9+9i233PK+972PufHhD3+42b7gZrn44osX68Szd6ONNqLFxz3ucVwtuwzIjW95y1uapaG0tg76zv5PB4sRVmJ9xw114YUX9sXmb33rW9TASRZ0IZbeAW6tNnHcccfR30D76rdoO2op/lPDBaPVqTWIytue3rEdCXBKGYbijjQIGDEuxaSIncQ5JSG5TZbyDo6bWqwgaBSP2te85jUc1qWarjHRy6959913R9wIPDVCmQ0VMCfll770pTHJqiwOv840gqbKnP3JgDQLzQSLD0iKpfeH8olTgm0xpk0nnniiKEFewjj2Va96VYOqjN/+9rcoSU444YTSzjKxF1xwQVyJ/F8xgcNmcuLgGAEdIJBepMxDLAuI/4EIIWJQcD360Y/GiblB2jCMXH/99Usr5NIXtyW2F8LkuAzYUTznOc9pkIDSqrrpOwuT3v3+978v0lDa98suu4z8N954o8tPNuxVOIyDGmLpbePWdv0vetGLuESI7ZC2o5biPzVcMNqeWv2vv4PpndiRwKfIMBR3pP7DCIUoizbYYAPUO6hhDjnkEBl0cC85KeI7OG5GYAWLRy0MAEA5z/MG4cqvGSUb1mEf/OAH/db/S2bj8HvpS18KJ90gfbGqmEmoI4dlmQZXxygWAwPE0juAcShNEGyGay2fWix/Lr300gZlNmorvch3jcKRI9T5FydcrrCdDQVDo3McBNKLlFnB/PnrX//qN3Hbbbc1GyQJFrxUD6xGZTnpv0PAzS4pzdqoFzHspu+EWinVMcb6LjX4Zz/7WZ9gHIlJhHkKehFLH2fCTLbsFVdcQU8T0UdsRy0doKnhgjHZudeH1juY3ukdCRAChqF0R+oDVmkauBx31vjkfMlLXsLG4m7Pu6e/g+NmBFaweNTiAAVQqCgbh6hWzTxRANd69dVXOzL+K9b/vHnzeAoGrkKyeHsfwdZx+zvnnHNQdLTXSmbNaB55yhZE0vm5wAO45z73udx8+zlj6ZmtT5Ns3BassMIKfmcxA1t77bWdvn58HNDjUYl7PrtYIQaZyy677CMf+Uj3EzEh/P+OT8O0raFy+UwWmcpFyjRgNmoKuQ+VDvO2QcpR3KXnJ20973nPcy0qMzbkDdJQrKqzvut5g9KPtZnTd6xKyMY5FVQSSy+2lbnbtwp4TuXqo/pV+tmOWgrLyiuvrNgG+lBrs3yIZ5OD+bDyJHaSYXVkUtOb3TixI0FVwDB0sxsnxm6EEacIWh20I67a1772tfw9wRXRwXEzAitYHFxibRC+mLuz4hszY66vWjW/8Y1vJL/shPX9l8xGlCqMTzbeeOMxaUoXJxLa61//+sMOOwwmqdWGcirHspbQ8MgP+K6k8yPNMq4uiobLHEvPab3tPCjEidCIRdbLX/7y7bffHiG57RYz67/uuuugh7mIUrfIgWVWEmTDQY4UrpRKi6NC4QXeYG6jQyei+mjNWSmHwHe/+10CvXCdIYPnHn51Fyl3gQQsQQ3LFCUIxO9+97tGOsUUjc1P6v/iF7+IXbq/K5J5xowZLkJJIzRUVtJS31lodfsOqVrU7tP2++1vfzvoRSw9yJa/2xdR4laCqz3AqQSwkQxy0iseN6WVtzRkQ9xRuRlkyTiUMOQBHAJTNTIo/alk1113pZv7779/gyQxw+EQtt56azQzXBbAERG+pcH6R66qpemd3pGKDIO2r2BHGrlTdQuONuL4g0ix5j54QgLZv+IVr6hLQEv5e8IKlh61mcdKAhk4TB6TIO7LaAcWpdBqYEVCGH80RvMrcRo3GC+SCLXUuCrQrxBbOPhmXqxrtZXMymsFJtL+iEFwUHksPZOGZrP5KlSeVUAWDeYKjyuMaY7IKTimwRgvPUAYZj/YnkEefGoxFtwIsNAv1Law2ioLB7zKKqug8lbl2OKiNsEg09UMBwY3jKP/CG31swgXQt///vfzaeNlkuKDV/nFXc6Pf/zjmmYnn3zyCMVdkfbor7VI2Ra43GJaYmLx1re+lX7NnTt3nH65skTu4gTVf7kAwr2YVQB3zn+xl8DZMgCQp8yKEY8aoSRWSXt9v+SSS0BSYetz+o5NCMcVUyIg9YlPfCLXqMUH9GLprnit3b6IT6uRqYPm2MrYIfly3rFsb8imwI5a6YJRa88Z/+xravEqpBYBk8as0DEMnIxcUQXcAtoYlu2YTYwJWnvT29+RchiG2I40Jj6ZxRsZcUQI7PM/8pGPxBqttRyoZEwWoiesIB0pPWoxBmRFjBM9klD51PCyl70sALxWzbq/w5RXlfzHn02KJgLmZM6hEbJxAiEy+g4b7BQTDENSKzCRdMoohYKOx9JHwGecIkggDCrKXPnkMMwIJIstthjXM0jIvn4JbWqtht785jdTjwuNQNRHXqjzIyXUqo1rHt65pkKiEbBBwGlhgSDb1PE/EEBNoXquueYaGZURLxvhjUiAgWRIrH8geuCBB8Zvtw81cBMDkp/73OdixCCBENUA0zuXAYEBkWB8BHgLBVEEh7Fx3FNbpb/WIiX+PtPm0EMPBSgihmNNTgzoRoaYIaA2h5J7P5BlC3rBI56I05yvxx9/fCNNZ1bSXt+Rstg33NMF6b5DLcGaMRAokq1rYz82ifLE0l0NtXb7oN22I1MHzREhgD4yK3JGrb0ho/VB76g8VY9VGIsuBmPlntPs2Zczmpl54CMxASjGUM0sTraAYYBnZcoRvfbAAw/ENocDWvIbhle+N1RO/c2C1t70DnakSoYhtiPlYDJ+nvFHHBp22WUXNtVYLMS6y4EKx2Eh+sMKxo5aPUgG8zzy8OGM43gJv5JaNSM3od3lAkU3lf+R2TCfo3bYr5Hpqyy42267oavdbrvtsIvje9Ob3oQ9lXij7r+6gYnkeucrskRzLL3LHjHnMGbgjHdR7/gv4WT8p2nw5tcujElAPm2IVXqxyn+SjtsRtBCf/vSn8+txOYkzS23upT4C4xCLdoR6SosQGYlnKlzUU8TC22+/vfiYHmVpFwuQYgjQpijpuB52W6zz00c47xyAvP8cPFsAelccY7D965jgoLm26c9fpJh3IsljPeJUss2CQ+z+bbbZRt1nL0bvRIAyX/3rkNl33325+W5EEZo5uG33nSDs2NBqU0r3HetHTqlSfb5cvNw7b65rsXRlqLvb+4h1EJk6GCDt1aUia5Cz7SEb7o7KDR1XVEEMGx+9yj2n8bMvcxl2kC1gGHSRf9JJJ7mmkdNe/OIXi2GoJRk2C1rb09vfkeh7gmFI7EgdjFcjTXDPvuKKK5ZG7qX+0ZbDOCxET1hB+h47arUuuL8YDX8Vhy0vWoXUrXnDDTekKlw8oGS+zIZyBp4v0xhjtA7otZngo1EnZoxW7cilagUmwgdPlP/4xz/2W4ylj0zVaAVRdqNTcgEtOWgxH0IhFtTGG7XqRb5q5dxzzyU/h19QFQIbLbLOaxGMpISwR4XsgLUK5mdGWc/dRjqULfzilltuSXTXHNOj/KYnlZODjdtQrkLSBOgMxmTUz8aIcF8Lv9ulbFDkO1ulv9YiZfsGJfRyLY0mRybeNUUT66A5QgwzXkgLLZFRWm3bfadRTJfRKAbxOYvzYfnll4+9/SprVS6Mg1KxdGWrtdv7NXcQmbo4FhhH0Ecn2yfmQAdDNsQdtdIFI2fPbPbs63IhV7YVMAzYOmENHpTiZlbcgjPKqqyWDM2C1sH0Hn9HyoFl4nlg1fANQbVVSsk4y2E0FqInrCBoJI5azl8tgdEMiFhW6KjYP4uY161Zlvmf/OQnqWq+zCb/tuc///kTn1v9JEDROfmCW4pYut8LGBTEJ1wtEzYG/HTzzTfDXMa6z+U0Ea5R33N9iNTu+6TB3KAKQ4fpyjKa/n9dOlapdWW22OPCqNeZLbDatd7FRgMGAVhmtyohsB4+9alPJSYSTl8jmJxBPHYaI7yxeN999/GUMI3GPAlJRx/IdUBMhqRRpFDeCkMtQx72O9c7tJT4EyMJx7Zj5cSQne0DSb7oOkh0bAYlYeOuGhI0KAM3BURD9mFXEaWwCjR7g3HpgP6cReqoWmmllUCjVeU/w42DXNqtlNe3S5VvrW6PHfQd+s8///z0XQ/3wbfeemuspzxWwwDNnj07yBBLHxOxRiJTs2DZOoiBlEkMcSDoI3tvZf5uhqzxHbXVM7HSBSNzz2nw7Ks7AXL2W/IQgyCYIYyUuwTnQMFjvDiFigwDxhfBSzyUAiWOjLoyW4OgQUM303vMHSm2SEdgGBJsnlopjnjOIQtvibaHaO2OVHyg3CY85nKgzkwWwgeqJ6wgJCWOWpatGGZsYSq34iADuxC+Ku9617tKC9atWU+6YZlIbfNlNo5JktZdd926lHWfH+4TLQ1G6rXCLRTpZEc744wzOErxgBLDCk+MChIL3SK3hNClwQuEjVi6mmORcKeOqdUyyyxDhFM+lCHQ74hhXImfib0QNbM/InphqHbqqaf61NIiry/gjo/DBh+VYKN/+eWXKw+/EveS4jmyk1wWsRPLHDW4cJTpFCn1csQ8iZ98W7tYteBJcAU+vKcowlTWf8eMZZLZi6ayvfOd74T4Wpw09yKItRgiKzolr0QEr9WjGmXRod/W6Yg0i19BIH2hEEftgOMftlJUxfCtueaarlNazJjaJ7rJtq7B4gj05T0VYRIyhZh7/p4e1JagAUC4qcLGEp25LNY4AzgFMX6GWuYzEx4eVMHcEBoPOOAAv/IO6E8vUhGDUM2ExG9Nyxw7Uv6L03lTk6fP9Qyr7/h1MEA43gSQxtKVrdZu79fMZC71tmXV5EdOgo2GZu5KM6eB3I8T1yjDGjK/1x2ciZUuGDl7TlNnn/pedwKk93wYdy59MCdxVlvc5XHNhHsL2zgMNBuXDm4+zg6fN8hnGJj2eokn35u3KdCGO739qV6LYUizecURzz9k4TFw6ediVx5JsKAwEjyV6Ywdxl8OOSyEkBkcKyjGTEaJwccCQRf9iU98ApGBiAlczaN0QbdGtEnYPNRrMLqJt1UTNRfbwogXMmiFn+bLbPvttx9JsFaZh0r32bCT5szDKV87EYLQmFpBgt294Q1vUG1E6UB+c091wXEGHVSIIXjrzHSyIVYhXOFUph2TIZRjGM73qoRVx+IhhWCgnGRo8HCvEj1bbLGFU7kowowzpkIM4L+Il6pE7/AWbRdLB0guH6zbyuFDDYUvjf94GjGUURX6BaW+QMyojCCCbMZxIodJPqJd6b8XXXRRJSX9yVBrC0aLstlmmzGjjjnmGA0lXCZ9B1IHI36oSDIEZuDiE93pd77znZkzZ5KHaePuwNjjOJjx7ZEOFqNWgoiw/zpYePeTIoHFo/uVSYXNmB/8moXDVWjgQ8iUoJJAmnKVJGhQHG3nsC6ZDQbChSDDgBaxjRFHqNOrKayCK6+8skv6Y4vXn1poaZiQcntj1DQ/GcH+TL/2KBlW3zkjGSPOxQCQWLqy1drtXc2EKeLO5YQTTiiCf8899zC3FfOz8qvLsvMCik6lWM3DGjLXiw7OxBwXjPSe2ezZp77XmgDpPR8PPdHP52Q2Aoc41gi+iJ12gw02cGKbfxefzzDI5YZJnhPjoFnQBjq9g9Vai2FIsHmlI555yMJXcPhqtvifr8MffznQ8TQL4ZAZHCuocJ0cBMWtmL7wDhDSr9hg7qaJDymQEa5gvZDiEkdDouZiKZhGqlUoivkyG/f0JDHJKo+fiWSAuSfYIBTCC8Lpcp0DGeM7I4GyIOZZEthibqqwMeOPItZoEshW1FDF0tl2cROCZj9WtV57cIKf4o8jC/keioRsEkkuBj3uH/zXD36FXTJitwYCeY9fc2JvYrdG72DZ4TYSg8jlMaoe7gAQDrmuo3LcKqSgIzBD4M5HCBnSA91RrHLaVdeIBzCRWTRmo7W2YGlswM3n/9R9sWJYw0r55kd6xLJFz7+gkZNCTPIG097Vw6Ag2um/sopGCip1LOYSCBUu2wd2L/xLTtaOHokOXBTQo5KIFq4UojQNFMGSTV3zI0Mg8Chxzz331FLVayJ8LnhuN/THFmmxsyiNIa8YmXfMmTOI4kPpO5cgjBH8aIBqLN1ly9/tVYRDB+k9ccPFfRxbcY6Zdy2WnaZlElap3xjKkAnPzs7E9HJL7DntnX21JkDlfksHN910U2aIHx1BD+fw8WQIlvbkkds2KVhAOJP+fIYBpoKyRcfRAN72QBvW9C7OuloMQ5rNKx1xEnMO2W6WQ5qFCGgYECvInR2rAAEhBqMiqeAAz0pBH8PdtHieykO/sma/BowztbpRkMyX2aRxymmpkpTGMyDOYhgGeazhtJyG9gB5FF8mNAawtrDFbCjwqTGSCK5NtSiOMY+UgxPajNIwhlIfoxIJqoqlY7pAfmwa/fzQxo2X/AiR5fRULraRfh6Yb0Qj0lG2iBugCP+FP3ABCeCMnaYCMzl+5RWySti1WXOdk8iJdkhXBRIkFB1bOhyF0g56JNqCLsTq14veCBjNBuKr7HhTGfK3YCYekwq5V5cL7uNyi9fkJffKqRSpPiDPve2O3oCfsBIhG1XBkioni5ZnvvS3JjAmiMU+ItVTClENtFkFcJ9SxirILKPge1eqFdRxpVilaaAIHrraUHyZjalCCte0fp2y4yUYdJf0xxZpsbO6mc7xI2pqUvWnnqH0nY2aMeJGLIAulu6y5e/2FMEPk7WpV3djY0QIUChJhztS2VosO/lhu6nZvYsQI2AoQyb6OzsT02sqtme2evbVmgCV+y0dhEFkhvgyG/u8NmHfXMJpHZ0bQibDgBoHSY95GBxhAbatgjas6V2cdfkMA2XTbF7piJOYc8h2sxzSLERAw4BYQanRTjzxxBiMWlCE8MEASsZQmW9jVNbst4i/jFY34u6/jTX5/i29/a/Bof6b+CiDUVz6g0cs1sBLR9h0lX6y94t9hJpFkuEE5Q+ZFxY/rpHgtNA2oqzEfoztBoUyJy5aixtuuCFWM1E9+InNDqtThR1DE0XZYn7h44wnXYZYuiwQ8Pv0q0LuIl1yOT422BPzB65ufh66IGcGboVh7vkDY1n+xaCWOHKIoyjlYNmlsuPD8JJ/pZxJfNjaMe24M9Yij30MBIKlnPrIg2SIlYV2E7UoktyndkVD5UcXyIPlhiTw/n/BVNehGMz80qmOVQmZWZNIU343EcPQSYohU9Qf/e1/YgT5NG9ZL+ThqgLNGHc5qKpYpHJOc8gXR5/5rKiYhPcEbexyOVz1IpZih7IdYI4bjCM7DgWL45KmgfyyzA6+0qUKq002rZrO6I8t0oBguo9CkkRnelTsVK9S2BWrduK7XXyqNOUD6rs2Yfoe9CiW7rLl7/asDvZYljZWD9ydqQZkQmYvRumuQu5l+FvMSvAVh4YMbOn+eCWGRsuweNz4rQxoyER2Z2dieqrHTsxmz75xJkDlfksHi1tuYr/N2XJ90Dg4kAk5aDDaD46wANtmQRv09Ib4kRkGyqbZvNIRJzHnkO1yOcRYiICGAbGC6WMF1gLmit4RLlVmevztjow08pUHll/ciWa0+F8yW/qQoArOEqytMJBNf1h/FcnF3AuhpfQTJxf7pBlA/YXYMGvWLAy10T/ieudCeHP44QDA9kH0DmQhbA6JLIIBHlIccpELcF+s3x3AeDvEpEG/lO/flU6XGZjvRxS0TgAVpciFxv/k1MQnDhJLRXkHIb4j7yEHIkq5/Ojr+DstBcGdY0qB6FVq6++qgqXQq+1S9QAdsge3COqFLIvwqvRJVbuljH4RbS3UoTDExaku7T8ypz/5S6e6zFQSo8+vmgDF0ee2RopWjT7Tkr1A9wg87IuujFntgg7FRp/4xbAmeJqx3CiIxM6/eleayFQaGn8o3fwpHco0DcWBTqQEq6wb+kVPbPE6ahGSYVYGNEUJhF21Ez+brRV1feUYDajvGkcu6YJOxdJdtvzd/swzz+QkxohdThr6EDm4DZSNsT459OKGWoQ3GBqegiQPfnH+eCWGRr1Lz9gBDZnw6exMTM/20j2n8bNvnAnQ3n4LMjkMA/Y1+GJgXxNcOgfANg6aX//gpvc4DAMdT7N5lRu4nyGHlXX5m10OVJvDDQ6IFUwfK7ifSPUCnyz+Kv+rPLD8qpxoVltmg5vEwqHyU3jA4OP8Q6wq/VAsxroKwyHdDk1zd8U2gbIeWyymmoRa+gBehBHH6o/QHX49eLKinXOhL4o7jrxsicyBKJjGWtdaYun8rzSdUdTEJWJPrFq3rnAzC/JIZ8qnymEd8IAkhpgYd4wckEJJUR7d9ZZqe5SBn1CwoM2bN29eWiZnl8TlAMWaVGqsK3R6biJiLEGiLCTdp3Y1EOkP6Ij2SZ6hyGzFqS5Zmqt3f/6XTnXZCjJvE+yyJkBx9EnUBHA3qcjbSOkrr7wyicBIoBo0seLqYqN/xRVX8CsWvxoUZDZ0cZLfNI7wi7646OZPbCgTNFSNfOr3buiPLd6AMh0k3EnJgLP/H/rwyq0Y3rFUCzrcvmsTLnYqlq6ecnDk7/YIVxQBXs1PfcTLZrG7SA+k6GpGXqnBFwwNkQzJgNm5P16JocmZscOarl2eiemVW7rnNH72jTkBWtpvQaaSYSBeLvYgOEdw5ZdGsnHQ/OaGNb2hfByGgeJpNq+9w6jZ5QCdldzgsFjBIs/vj4VsB/i4WK87Rumag9p8mW2+P5s4wkSgqkn5XcCbSh5FFVZKg57l4TQt/dUP3RFkUGQCvoTDmyuiU7z4IHosXUoMdDJFD3XuZTFOlaEOH6qtgDCsOvWTHJ8QR5UBCVCBH/lgFOTaJ0Y85vmA0KX4UWmrdNWPWxpVEVZE/1WIlLvuuou/oQTHJLaVIH6J6CHoaOX0cB7SY77QUNlQexnyzdPdCBKMNKCH+cA6J1HXBGz0xccDNHn0oi7in55Kx7gRlzandld8Al58ImfgZsnEUMAevdDAHGDgtt12W1Eit8cM4WIAACAASURBVMbg2RCxs+wLpf6iaRqok9mlaen7s+mhnsCfDbMfEt37rd3QH1ukwdDIn1tPoEy3b0B91+LCgTsYo1i6stXa7SWYcTvjmkA7zSULUpZLcad1zvFRy52JJpZYYolgNRUn5ICGTMR3diamF2/pntPq2Qc9tSZA5X5LhTxGwgzxGRJnLez7szndMlyHYEkzDIQ/4dLW38YTYLYK2uCmdxGofIaBsmk2r3TEScw5ZLtZDmkWwqdhWKygdi0FFyh+cPj8iiZjBIYhXXNQobR5fFzflzii6LeefPCR8vjy3W8cbSQqxLO2sOLnVA3Fn3TosutxJVbZWRmPwTcHOWPpGkvM2/DB84sgAiHnwKbjnKbQ57K4C/LwX5gSBWll5d944438gXEp/AFmn/zNGUBsKP6QLxNmk8UuwH/jHIVeBaVcYJV+0EEHiZH1P2mHnEDP5EDYEw0cAwjPsCyBbaTarfSmI4+uzdDtKNTk1P40+nxcqwdDwxXDWWedxU86O9ESY4Lio8HixASLFOmH9Tw6f3Bzga8mO7u0QCjlY6NPDTIb1lAyebCllDMb04+XGKlBArn7RCSjU2pWkaZhnKEsnb2N0x9bpAHlAzLYGAfz0rID6rs24aI1eCxd/c3f7fFE1R2Er0ATF+sbRsoomt2sUh0xwmDlzNgBDZkQ6OxMTANeuue0evbVnQDt7bexI0MU4spOLDqeDcCZ06cZHbU/891PrYI2uOldd5SD/Gk2b8zKE8WbXQ4xFsInYFisoI6VUhc1wsvLgUUBTut+iZrTVfVdZoN6OaShrHexU1yX8P+m50wU35aUwxVnHvcVS6m4rqBmz55d6ehCNh2i+NQFaMbSFRWQDw80NGm8cIKcRvwJ+gLnjfSFECW3MX7Cf9GvVlfCPMjmGGj6rgykKJYjf0ipLTtGFwnUr4ddAPEASrDqIW61vtNOO40wJGjGFOnE//Ck4r+IguzFqIM4OYQq9MDooyHRpY77wFnGny4gSlCh/18tVKlZYh+GgrwHKhNKPjwSVcr/4KgI/KXYX3zIrgQIdZcQicq7/AkjKLkgYsgKOCh7GX3kJYYe/MXtcYsv60SshX3nHEQ4/gsvKIUYH6PmFFk8kErkSRK1ieBvgEqN/H5sGHR3chCVXIdhJFa1vASIvS66O0YWfV3A8sq5LjGOCRoo6GKK+AOhLUnXRQ58ZUD1p5Ru6I8tUn9KICcrAHHMdpcbEFYZa8HdZyMGEDMwmFeZ2bqcjZVtVfadGpg2TCcchjWC7K78XdwP+SlnFVeSlMigRosyWyxdVeXv9uyrUlOzbaosNyAKPeqMZtnS0UhgwYghmbxPm/0qZ+ywhkzgdHYmpseidM9p9ewbYW6k91sq1Jbr77fuEPEN8t3O7LbcGMOAtyG3D/hLI1o7boE7YuybMGJSJPrgaw+0Bqf3IBgGAZtg80pHnMScQ7aD5UATlSyEI6OSFcwcsm6OWh0rvkm864juAbkZR4gYYY0naq6oTUxVb20joQ2GVYclfj6wmyhhMaRGzoFhkgoCNsvXJCJyoM2QFgvvFPcYlJ9H8jGf/7xvQr+p4DAc0kGeWDrZ9ORd8MHKu9fYGDPpUogVCX+gmvW4OVoRZ6XG0GBg5h5N1jNE7mFuOXYXjTYl2sU+HF6LncWpSbw+l208fsofbNnY6dJreH09F+Z/Eq7QguboheUMlnhpgIEg1CEM07LLLkuF/I0sjTLKrxx5EokFeZXwHjIpJC4i1Z500kk5NIyZp5apA+NSZCuZk/5bdkibjCz0c0+j93OIpoNik94hlIpaIneRgRA7jA7/hX1E4KcUE08ZGEoyuJcAlMjbDyQSa4jTF+Gcw5iNEg0+zGjxvXjySziHCy+FqJIGgqNoptER1QDfoHeB+RypCNiKy8IO6N4L6oD+xCJ1/eVpBBHGKVgKAtfPslhzBnLcULK9BJkzs405FZstXtl3mmNHXX/99TVJMG7R2zKYmQWU5KziMYkHYZouGsPH0mmu7m6vlY5FMb3mFokIImxHsLMgwJ0L4a/4laXEjVhmX2qZxlEnBu00UXpyqcVhDZlDqZszsXJQintOq2cf9NSaAJX7LburnuThKMTUSP3lZlD7LZPHIeDYAHfyljIMGOPAQqh46UepIqrtgdbU9B4Qw5Bm80pHPP+QTa+I8ZdDJQvhE5BmBfOHrJujVlEkSsUEhc+IuWVV7kKJmotlfdvIvvuziXrENqwfEQ+cTgz+CWchvHRArdQFRVHUuV4txU7R0rF+yXkRlRpkiMgXeB/F0tUoEoUzSoRbRU/lP59NBv4LW0Cn2HwxROSFVthxmEKfKswS6DgZ0LFws0VmNDD+E2cKSuYM1qlWJvuJr/RZdwqiN0Mh40BGmOQAQMlWiiEGlmnGwpXitk92eu6VmNiElo0rGkjUUCg0/BfJXRGCIpKH2G6kUDMEw0hVrpDxM+ADxigUZddYzZymCEsuWALjy3VDkBm5l2GlO+jNUELCCHINrBdR9XF6wR8zefjIAB+JTOvLXZKXnIeYSjF/UN/5NqvUj8pXrnHBxySkcsQVbGBK+5KgAV6EawhJnvow+iW/i6NDCp3iJoJLB18jwdIjxCvNdUB/epGqy3vttRekuofjSnGAR0E1yhrUr7ik6n4h+DKzxaZN9+k5fYcq7sKYzLoCYG7zxV7LzFnFI3dT5gkEaQhqiKWTre5uzyZPrHN2PxpixDFHZ9WzqcJtsANw9HCxWrmV+eQpOBsMdGav9RQyiqlY/mENmd+Lbs7ENM6le05LZ58oqTUB0ns+ziBcFbn9lltOnoFh8vvmQujK0IT70ddYubANIqbIMMhQP/ahmovh2RJozU7vQTAMCTavdMSxCsk/ZNteDpUshCMgkxXMHLK2j1qnnfZZMtcXXXMoskDdL11zsbbhyWyuD3QVccVJPhgQghpce9BJLE3FB2eKZJWIOwNL/vAzx9L9POxrDHns/p6csAgYeSIaoRBgTgfEILqQwuxEr8gnfYv/cYsMN+yCTFT2pTIDDAp+gPCvpc+Lqzg0c3JwORRIoaWVy0hvueWWq2xaV4xcaSfgIh4AJ5Bjr+HeOJ8qa55UBsYL4QR+N0EAlo28MonqOAjxQhHgZThgjgksjoBHhiKjzNBzZ1Ma3AU9G3jiqJAYJukqISBGYQ4N48DbNv05i1QG2ChV0h1BbndXDwwr6pfS/JnZxgGtwbKZfadFmWOwSNOt56zikemXEsxpdF09sfSRG9KuGxQvRgwap/5YWTkU8W8sw7CGrNiLts/EykGJ7TmNn32VlBQztL3f9p9haHZ6D4JhqGTzRphI+UXGWQ60UslCOEoyWcH8IWv1qJV6nA968sHMyVm35knKbPDiCKbYbulDRTYOHKjsuePnQjTgiZF/ADpQPuRAGcuD7CcnByI6+Hli6eO0NUJZ3trmApgI7yOULS2CMWo6Hhp6MATFUpOJYoWy0ODupJI8uTVzT5/OiWUI99/k4bI/rRupbHEKZGC7R6tcqqPnRb50UCO8j7ipbVDgHwHPtumvXKQQwDaCphHT0zT9koF1tYahV2z+Z2YbAavGi+T3nabRPtF9ItakychcxaP1hTsaaEDJHxSPpY/WymRLKXI0Ks1SMgY3ZJMFM4ZhbM9s9uzrYd8hqc8MQxvT2xiG9DxMHMGVy6EWC5HPCmYOWatH7a233so+DG/gXDmaWs51a56kzIYPj6+C56HnMVHQM9Acb7qo4IPxksssG9OYlfvF5Z9TdOGIpTfYdE5VCMDEfEdfl5M5nYdoGdjgFTV+rhRRNDAQcn5KpbUBFLcv0nNiqoFgQAyMStp0YRO4sRVLITGSjfAt2Hs4V8DKyqdwBhzhMK4gTGigT0MYS3jFoLtjaFAW5ShLW0WvbfqLixRrJbT0KK7pl6L+5DxZgeIFK188mlAUJF4FyMzWKqSJykfuuzz6intg0FbmKh6t+wqiQAiQoHgsfbRWJltK7sT+NjjoIZssmLHWS/ecRs6+fvY3oKpXDEPb09sYhso5OdpyyGEhRmMFM4es1aNWzyDDWVWiVzdD3ZonKbNxDrFZEMtOX2BqWLfnyo9rE647uP1ssskm+FMSjx4vst13373yPrhWcwqyT+z+oFQsvVbljWQmcAV3hwlZK7MV4hclVJQYPhH0hcuVRG2Iakh9wKVYc041kSYAC1JsMhE8uNhgKdKE87AKvMgIKUmdiOtEYszs1JTPxrgTKiYQPAhY4js6BiDg8HD88cf3BJlW6S8uUlnMY4TDbrjCCisAlO8jmsCE+7+VVloJjyMc9102zAcCQ+LSbD2BerS+Y46IghHQ9HCZM/EP+p5YxY10H7kRm4Ki72UsvZFGO66E6y3Mv/H5dO02O2RU6++obQ9Zx+jlN1fcc8Y/+/Jbn3jO/jAMrU5vcDaGIWey1V0O1FnJQozGCiaGrMujVg9iVZp95WAb5Klb88RkNjh4LAyJwZIfyCETDpx8cAoiNgPyK1dlCW+ozAqL2ZAMGT8COQQ/xdJHbmicggztOMVVFrnUhaks1ga2OfAqqA5v3y288MLFd8P9alnVXMxztYwyBH8tAopQEO0QwQz1FDg+uDhY+x4ssNfwbRhnjmNYOz5QPazBlxz4m8cAE0Q2MluaBaEl+ouLFA0bk4o7Dny08Mx04dcqu6MXL/wHl1Hsc08Eh008W1e8mK2y5s4y1Oo7Mj8HDDYLREuCQsKuIN8S4UbWia7vxNdJr+JGesdVDuAXPWNj6Y00OpFKFEjdXTs2OGRuR91+++07GLKJoFerUX/PaeTsq9X6ZDM3cgSMD1ob09sYhtGmVv5yoP6c+ZPPCvoEl/J4HR+1uuqt9HIfAee6NU9MZtPDvnxEId9zzz0rvUdGwKK9IlyrQzlR8oImYuntUTKImvWgE9eWaY0cfWFxEkID0Q69K//FTAIHRdR0FFdPeZka5Ll49jUhmFmjsB0EFEbkxBEoXaQI/Di+coWUcwfhuoCLIDKeb+jLtNS7Duj2E9kmDoJPQH7fZaOCCYNs+ufMmcN/eXJDoLm+4wueXsWNdJ/BovWiVWosvZFGJ1IJ5gb0lADurvWmhsztqFx7YdGQ2Hgn0nFrdHoi0Pj0NoahJxMpnxUMCC7yeB0ftcQIYBP2DWqagrRuzROT2TCtIUqyi1TLdWkxMFdToLRRD29n4c1SNMuJpbdBw5Sskzc0fVRxTXTeieovSlSC4LuQiVzL4QkZCzU+JSGyTo2JQFOLlFtD93qeI4l9jJsz/4G70mxjdmEixVllQVx7PB98SlzfK1fx+PRLYkTvF1QVSx+/xUnVwGvd9JRJNQIBlUPmdlTf/pzE4sY7QutWxBBoFYH86W0MQ6sD0WrlMR6vs6OWhnhQF7mx8W6OUPPEZDbX+dNPP12v37RhKto4xK5CYm9Ac/Ep1Vh6e5RMq5qZr7gPuYezsRfihahK9d20gsg6W4lAI4uUt8v32WefYlu81YaTpzP5jmWrJHKIGYK+t9oFXv8jmlEx4H4svVViWq0c3xICmeJp2UYrwY7aRhNWpyEwKQSMYZgU8k21m+DxOjtqeXsJbh8jr6Y65eoZoebJy2xQf8cdd6C8xp+kcUTaqxCzPaw6sVoJmoilt0fJtKqZuKiEHsI0iyCHqC+IG+E7Dk0rKKyzIyMwziI9+uijceIi4A3x/Uu1u3h0cHlWmW1k4vtcUH3vgEK9urnbbrsFbcXSOyCp1SZ4U7slyxztqK0Sb5UbApNCwBiGSSE/Zrs5PF5nRy0xybH2x3hkzE4Vi49Qsy+zLSgHs+6/5ZdfnpgzuP7jF9F966O1yMUnrhTEIMJN068hlj5aK1YqQGDFFVcklgkRI5DZWAAs2pkzZxpKhkAtBMZZpNhVEpmWsBA4s+EFVGyX9xJmzJhRma0WwUPJrL53QC3Xk4Cvt7P9L5beAUmtNkFPudbUpWyzn3bUZuu02gyBniBgDENPBqIuGTk8XjdHLdLjBRdcgCcXD2jV7UU6fwM1SwokeBotYT7UuEyZqBCDN26vu2xx/LZ4DYyJdfjhhwdVxdLHb9FqMAQMgUYQsEXaCIwTqYSLxiWXXJLYJ0HrsfSJENl4ozwUvthiizUeZrlxOq1CQ8AQMASmDAIoBrgfvPHGGxvv0Wg190LPBhGYZ/AWdrNSbNu14ThBGPoDDzyQoJd+W7H0tumx+g0BQyATAVukmUD1MBt2p9xQHnvssQFtsfQedmEEkugdqjYC5I5Q1ooYAoaAIWAI1EUAX2Leud1rr72kymrwa6Tm7mwjsfFYddVVeedH0s6hhx7KvSnQNIhIN1XxSgEP5qJqC5qLpXdDlbViCBgClQjYIq2EqIcZODKwASH4U2CpEkvvYRdGIwmL3LPPPpuzhoiOo9VgpQwBQ8AQMATyEeCOjCjlBBvLL5KZs5Gau5PZsPHgeVbepOb9WYQ3Yrtfe+21PMOV2dv+ZENnSlDviy++OCAplt4fyo0SQ2CaI2CLdIgTYN68eYQe4W3MgPhY+hD7GKOZeKQ8kYfkNpU6ZX0xBAwBQ6CfCBCxgsj2GDg0Tl4jNS+AvSaUEdThpptu4i5Tsapa+niI9v7770dOQ8PWUhOdVQtupdEIYumdEWYNGQKGQBoBW6TDmiG22dqMHdaMNWoNAUNgoAi0t9mOXDNRDwlZD55XXnll86JkYpx4k43Ya1NAYKOPpQJbIn2g09fINgSmHgKxxTv1ejo1emSbrc3YqTGTrReGgCHQcwTa22wbqblTma3nQ2XkGQKGgCFgCBgChoAhYAgYAoaAIdA3BExm69uIGD2GgCFgCBgChoAhYAgYAoaAIWAI/AcBk9lsNhgChoAhYAgYAoaAIWAIGAKGgCHQXwRMZuvv2BhlhoAhYAgYAoaAIWAIGAKGgCFgCJjMZnPAEDAEDAFDwBAwBAwBQ8AQMAQMgf4iYDJbf8fGKDMEDAFDwBAwBAwBQ8AQMAQMAUPAZDabA4aAIWAIGAKGgCFgCBgChoAhYAj0FwGT2fo7NkaZIWAIGAKGgCFgCBgChoAhYAgYAiaz2RwwBAwBQ8AQMAQMAUPAEDAEDAFDoL8ILPCvf/0L6mbOnHnTTTd97GMf+8AHPtBfYo0yQ8AQmLoIfOtb3/rZz3628cYbT90uToue/eMf/zjmmGP++c9/qrfXXHPNEUccseiii06Lzk+6k71aRNN8Jlx33XXXX3+9ZsRf/vKXhx9+eK+99ipOkH322Wfu3LkLLLBA8FMsfdJTzNo3BAyBThF46KGHFlpoIZq88sorTWbrFHprzBAwBEoR+M1vfrPKKqt8+ctffuELX2gQDRqBc845Z/PNN3ddWHfddb/2ta8NukdDIb5vi2g6zwRuw1/0ohfddtttbvJcddVVq622WnEubb311mx6e+yxR/BTLH0os9HoNAQMgUYQ8GU2s41sBFKrxBAYGALXXnvtGWec0ROi4W9gUGBoTGBrY0S44OeaXyYVLX0XX3wxagFVfuihhx555JH/7/++U045hcSf/OQnb3vb2x588MGWCLBqcxbRdJ4J4MMq+Nvf/tbeVLn//vu33HJLtIs0cdFFFz3qUY9yq4D9VgLbjjvuePvtt/s0fPSjH913332/+c1vBoTF0tuj32o2BAyBviPARsa38sorQyi2kfqvfYaAITBVEfj2t7+90UYbsd532GGHnvTxoIMOgr+58847e0LPVCLjnnvuecpTnsJwf+hDH2qpXxdeeOEzn/lM7FqpH9bz8Y9/PCYciGdBcxCAzu3vf/97S2RM82orF9E0nwny+3jqU5963333tTFVfv3rXy+99NJnn322Kl9rrbV23nnnu+66K2gL4Q074R/+8Id++jve8Y5nPOMZv/zlL4PMsfQ26Lc6DQFDoJ8I/PWvf5UkycH6PyLRZLZ+DpVRZQg0iwCL/zOf+Qz+Rf2R2f785z8vssgiO+20U7M9tdpAAK3CK1/5Sm33OMxw9984LD/60Y/ggy+//HLV/LrXvU7NYX+/5557/ulPf3ItIq3NmjUL1rlxGqzCykU0zWfCBRdc4BzG1lhjjcYvDtCtrbfeeu9+97s1FW+44QZ3W0+wADgtf4oefvjhK664or80UNCxXlCsBTM5lm4T3hAwBKYPAiazTZ+xtp4aAiUI3HLLLf2R2Y477jhdINlQNY6AnGT4lxBTz3rWs572tKf99Kc/bbYVLB7XWWcdV+dRRx01e/bspZZaSjzrcsst98c//tH9+vWvf53Eoj6hWZKmYW2Vi2g6z4R7770XVfOzn/1s9r33ve99zMAPf/jDzU4SeWziT6hqb7311ve///1clyhyAN/RRx/tt/ikJz0pSHnNa16z+OKLI1oHhMXSa9GPWm/OnDnbbrvtAQcc8POf/7xWWctsCBgCk0XAZLbJ4m+tGwITRqBXMhue+nBUjd98TxjiHjSPyeJjHvOYE088UbRgu7jqqqu+6lWvahbqF7zgBe9973uL3T399NOf8IQnwK065YNoIOW8887rATxTioT0IprOM4HZvvrqq+NL9otf/EJDjrD06Ec/Gg/MBmcAzpxIXMUKaVSG6I973OOwTXUZ0PW95S1v8fNDFdmcaaX7KZaeT/xXvvIVLM8f8YhHSHpks/3BD36QX9xyGgKGwGQR8GU2i0HiTBjsD0PAEOgaAXz0ESA32GADx1J0TcHUbW/ZZZdFvbb99turizjMfOMb39h7770b7PHvfve7733vexh6Fet805veRKDzBRdc8Pzzz3e/QgOGlFdffXWDNFhVlYtoOs8EmC0ifFx22WUomTVVcDO78cYb8T1rcOYwpUtXAY0y/7faaivcO7Efdi2SmTcwfAIk2qGmDqiKpWcSjwXm29/+9tNOOw22D19Tbm3wu8OzNLO4ZTMEDIFeIWAyW6+Gw4gxBKYXAvPmzaPD2P9Mr2530lvsEldYYQW/KS7711577QbFY3hfeOKgFdfi8ssv//KXv5yIkeg6XCKZkSQ7AaCkEfdq3KQIaKPdykU0nWfCIx/5SOY8CmcfeZTDYNLgWODAFlsF+NFhlEhbGCj6qwBHUMyGXcqSSy5J1NwrrrjiV7/6lU9YLL2U+GJcUJRsyGxEswQHvEl1ZUMYqgb7blUZAoZAZwiYzNYZ1NaQIWAIhAjwBDBJLk6G/zP+99wH49kP34+yiLee+g8fAgx08m4B99kIorjN4D3SB7Lxkzn44IOxyIIFJNwL+rFGqBIrnBCEcKJDyQO/6JojWoP/30bIyKxk1113nTFjxv7775+ZPzPbxCdqYhGVdoG3nllQzAQMZSXvjf8NZSa00XfQw9gyvQrI87znPc/hrMyYLPrIaxssClSx9GDUcNsjfCv3Mmw77ifCyylgpr7111+fRp/85CePP+JWgyFgCEwAAZlpWtzIyZqrWuuGQJcI9MSfDfULHAYfHEzQ/TPPPJP0YEPcZJNNmvXFagRzzKJUD7H7EIoCmmGPLrnkkjEbImjHOC4oCGxvfOMbF1544UsvvfStb30rFM6dO3dMklT8+9//PrXxEnppbTyHRdz/3Xbbzf8VdcSkHpmQfx2xKMbsO5oQOq5K2puoBIVHvq0kNbGISstiIMfKwlpPzz0zK/wgMZXNxTIMYia01HcwwZ+Qm5oYOET+AGdke5cBfRfXB0F+4kkyIsXokbF0v3hmXFBCENHE7rvvPvJAW0FDwBDoGAHzZ5uAbGxNGgKGQIAArlC4eaCHcWG4lYGb5u222+6JT3wiihEejdx4442V/sUvfpH3mvsDIzspDyihtnrooYegCprxLML/5MADD0RDuNhii5FIKDmYud/+9re1yIal5sr81FNPVSlelEIadP+tVRWZibl/7rnnEiYBIzE8ykDb+fbUrSrIz9jhn+beCKYVFIyf+tSn8KIhJ4OFMme//fZzpUCMF6tQnI7Z7mjFCeUHPR/84AdHK65SBDjlilOqrQYnajDiVA6MaEUq9bSxRVTaR2LAvPa1r2Vl8eAHM4E/uFNoRO3Z/5nQXt+BmintVgH8HO8QsuqlMSP0yAknnPDpT39aG4I+MhdXwXOe8xxNqmDsYul+tr322uuqq65ShNgllliCACeIiMU58NnPfpaQlebPNs4OYGUNgUkiIHnR9Gwdy83WnCEwQQR6omeDgWDvw/oxgAKrwpe+9KV+TGrl5OM52gni5jeNDgQ6cUFRPDox8SeddJLLg7T24he/WGTDIueTjRpHQuzdd9/tSqEi4Koezi+/HuXkZp2A44997GNRAyoFw8i6lSTyE9EBUVAZCKsgcy8e3FtllVWIqx7ocIj1DzEPPPBAgwR0WRUyOVZwbjSbmqilI45vEopl3K7S4xVbRKWwvOc972F0UPLoV25MuG5oCsCez4RW+44GmzXrHrFwrxSyPxC1ktg/wdZB8Mbjjz8+QF57CKJdZrrLlhkXlOsSBDZIbWrErR5DwBDoAAGL9d8ByNaEIdBfBL761a/CHLzhDW+YLImo0SBjm2228ckgrBm+MdwWB7SttdZakn96wvF/5CMfQT4hroDoxNwI+8OAZgQt0Qw7mw812iqKYG0VFEFgo0XEhvyqyEnQPGpDu1KrVH5mxot7/S996Usq8vvf/x4dgi9tuqqQENDC8Z57fuW9yon0i24KbaqoanCixkYcxFAMIhkmjCRLF1EpbtSG2M9kQJPTBrB9nglt9x08UW25rQxj7zvvvPOOO+5wFyU+4CxJ1ObFMcUhTdtF8IBhLN3VieE06la/CdpFNvMtybk9YUtBwm9j6K1OQ8AQaA8Bs42cpGLT2jYEJosALuk8mQUNSG48iCyd20Q+mDza5crZbx3HmF122WWllVYKSCqNUxIjG+3BzTffTKz5hFEiP33nO9+BuYlVggKN8Ny4FWHph7sIPJbLSTQ2QlkAo8yW+KgNr5WgKsyfCHZfF1tix0nKCgoS/w2ty+abb15q9RRrRfIA0SbqkpGZnNY3BgAAGAVJREFUH+M6wq4gsvKOMEXwGSPWApJGUJzzjLgXKN+k7sj88JRjuvphJysLJkZNZeFug0qoX8TzMXM04kEetF6bbbYZjC+Gr/qpkYmqqmIjjnb0oIMOuuCCC7BrjXW8dBGVZubdZ2Y7AySzmsa/VmfCmNS23XfII0w/Uj223PyNzm2ZZZYhbmrRKfcLX/gCNt68XljcGdxOqDF1XyzdZaiMC8rehfEt5pq4ko6JpBU3BAyBSSIg0dBsI9sTka1mQ2CKIYB8wlU997guEsNoHZSjGgqrnOIKhob3VDozkeXXWWcdDPDgmXDU4UMxAsGuFFfghx122FJLLUVtsE1wV3A8uIr51cLi8E40MfFf8r8flWBThPymPPyKsxnFYdHSxBCEQ4H14edy+kge2DU99ARXVyxy7LHH8lNODA+cW04++WT33BPiJf+FX8wko242VAH4XyVKMVWKxmCVrbzzne+kv6XKimLZ9Kh997vfJfIKblfO9gzxjLezkCQRNpgDTBKYWiJD0CKaXiRwvwk9bcwdRyXNmRPV1ZMecaYrk41ZysQubbpyEYEeQ8/36le/mi4QyVP/HSeqTQKElmZCJeylGTruO8I/cywdJwnxOzGfJchx2RR0J5aubD/+8Y/POOMM3DWxUtZ2yovhG264IXIabTGF2DFweHN1kmhhSEabUVbKEOgeAbON7B5za9EQGDwCeN2g9HCXvshFz3/+88fplZQ/3EznVKI33OCwE5kRqxCu8IWTNIXCRI5huJeoFGw67nOk7LjjjjDBGPJhqqc7sy222MKFr1SgtkMOOUSlPvnJT/Jf2CD9lzt7/lu0XSwSJgcVDBp5i6myj4g0WEz5j6cRYpHQ5H5BbA6pEFUJ0mC6QiJtoOVDxCU/Mid/86EpqiSjVxlqyWyJUcMkbLXVVtNAO5kN6zUX55MxQmwjpCQuZApbz8wh3IhDQ8XRkFTikzNRVUnOiJNNr6IHMqQjo3IRIZtp9NV9+qj/XnTRRZV9GXqGwfVdoU1x+wyQj6Ur28c//nEM3TW+bKfIby6uDLcSBG5F5OPqionEx2P3z33uc4kPNPTBNfoNgWmCgMls02SgrZuGQGMIwOERtx2eADb3vPPOQzlA1cUY/bXakwFkjg6KmG+44iAlEoQt1gSXx5jkQSSypcsji0oslJSit7mQhTB1c3lcFLXjjjtOiYQNIJvvrM8jvNhD6lfkPX7NuagmDzkx9UzDgsUdFo/wVQiHqMIogmOM1DVYx3GJ7heH3yLd+Y+la5Yp1Mte9rJa49KfzLVktvSo0alNN93Ul9nUTeRYMbtE19R8RiOnFBd1XQ5FSHEI+WlwciYqNdQacTSutM5iKW06cxGxcNQp4lX0Z3y7oWRAfcdhkjHC2DhAJpbusjkjcMoSFRaRjA2TP7h40rj7H3F0FDnJPkPAEOg/AubPVtzELMUQMASiCBBpY8stt4TRRAYgrgauVnqVNYjRr/LouPChQi1w5JFH3njjjWyIKKYIolisHQ6YRF+zFKMAgx9EMnx7sOyK5eGCGeaM98d8B7lPfOITxN2mIKWQMyWzkcd/zRZmHdGIdCJl661b/Zd0guyrObyw3EO0KM1IkXVl4kPWwlxw6aWXhvVPZMOiD6M1RDXsM2lFkb65NQdAzDLRpwGjX1ztiobKDyMr8jgVU2X+QWdIjxpdE+MbfARQIYX5gKOa5jPaY9m+EkNCmdHI8S8qXKk7El/ORG12xDMXkWYCHXzFK14x6FEegfgB9V2b4R/+8Iegm7F0lw3XXP4mXitBTZnJ2EkSd5ftC317kSXF3KCp1z5GGA4rYggYAiMjUNs/fuSWrKAhYAg0ggCSCTZy6Q/5qtgWRTD3Kv2KgRn84vABsIaosPijVE5TZkwBiT+BSoqHhuFuoZMHpvjj9a9/vQLWBZ9Yk8rnoYiUeOKJJ2LVg49ZAkCZLBJc28+DnSTpintBLErdV+Hq5ueBQjkFcVeNoMUf+IHwL6wewfqRu1DKEf/DBUHRu7RppgfZD/UaikGiaDhhr5R4dGsYQMr5hAyMDrZ5yJn8rRZFkvvUrmhIfwTS0LAOSGYL5jZh7qE/mOqlc7ty1MhQGg+mdD4rhgoCsxDOGXGyZU7U0Uac0Syy8jSauYgktyCO8iZb1cTpxe8j73JF6gfUd22GksP9L5bu8lx22WX8zXphPnAnxd9suejTejGWRoQhYAg0hYDuYGbOnEmFmY4l/dckGoWGwFRFoHicl24Fvse5g2LOnDmxfQOZIYEYkRsoCAeA5gfbSCQx4tojY/ivbxGJngzISDCXrioUFE9/+tMJ019aubQWyGOJpnlTCCmFFoncmB5T1XbWWWfFsrmAHITpC/I4CyJELH5Cp+c8nagTc0Q/wj76FhKJupmgh3tuVDeXXHJJmmbUj5JmVT9CAhjSWZUiejg/BaaVvOJNImxZ5QznVSgNd2WslMqquskwztyuHDUyKFxq8P4Vj8iRyGD5fZQyyj3eIIdG5vb4E3WEEXfPamOiWSQgZxFRas0116QLOTFUuhnrdCtjzoSg8gH1XddJRU4slu56iv2zFjt2EH0YQaPBEDAEmkKgxDZS9zGyC7LPEDAEeosABmCEJqv8FCMu+LCTge0r/U477bRYlzHlkqqHpuGlUEZhZMgLQriNOe0ZnmCIFpjt4fLuq9RgNWbPnu2eVguakN4jse0gExI+hErmzZuXVsexqUnhgBlnrCNOo4LTUZBn8cUXV4pIwv+NMADYuWljJJIBXSBFeTBA4t+YtoefCMqHTebnPvc5IlimJ9INN9yAfIhiTSo1FALo9FyUf5nkISf7lajdUr1l0JbUCwyKLP36/xXnti4TcTj0J3zp3K4ctXG6Xzni+RN15BGPDXrlItISk83tUDSu4+xywUAPq++xzTDNm7EnK9wR8W9mzZo1zlS3soaAIdA3BNw7Q/9mSCQIiqnab7/9mpILrR5DwBCYGgig4JI3BdHJSnvEc2EyuPLj7LmcyHtBFA33k1yJiF9fWi3SywYbbEDge8U7qfzk6ob1V/GxWpw9IFLmQ3x77713UBtxBfWTSL3mmmuUAQlQYQD5Fl10UcWoQN/Cfwn+XkoSujVksFingiK8OkBV6PGULnc7VIv8DSUof5Aeg7Aroidnr1Z0DcLEVULX2wy1YpCkR40+jqxn0xv0aIzHn6gjjLjYce4sSkP+pBeRCL7ttts0h8d8nKO38yRB2LD6rk2MG5+gR7F0ZTv77LM1vkSHGuIYGc2GgCGQQMDZHfCO6Hx/Nnlv13q6VHuEfYaAITC1EYBZlGUOwfFLe4o+ij2FNx5Ln70mCAdfaUFJeqXbDuwploEomtBuBf5gBBQ54YQTihUirZGIBxdOd/6viEDIOaizcE5TGHcF4gvy8F9iVBAJnT8QFYiewh88mQ0bhKEjfxNp7fbbb+cPeZSVRlXBM43wIcQAwP/Nr5+LcJ6TLtKMupJEp0JE6EVGFQ3EIEFa3nfffYOwK2o3J4TAtApAUjlq4yzSxIjXnagjjzjPNpS63iUWkeuyZgI1KOjotPqG1XdthrK+9r9YuvLIlRejX0zcp9XgWmcNgemAAJyAuomkNl9m4zaX/8PWTIf+Wx8NAUOgFgLSw2Psh7aqWBAPChJ5/8f/CSkONyr34eRWLCh2kyBmxZ+QmvBM4zm4m2++mWcG9GHASRgSVEwKGRJ8ZFYKEUfQpBFZkQ2NmPgQv9NOOyF9IfspgD4/EdnSL66LarzaHFtMZ5WBFOJJ6g/ZyEk0dUEFXT3EiMcYknfbkB4dzYh86Ccx51Mk+uAjZAspiIKw8qgHr776ahlGQs8pp5yCV5W8rdwn1Z+joVihS3nggQcU4nwo5nCJvuT/lBg1KlFMEecboGrFDeuO0zWkPGh6lUJgGwLwcHAG8WD4qe5ErTviNIFyLDHiiUXkuiO5ZRpGjKTXw+q7NkM/8q0GMZauX3k6kn+xQs+JwZu/miynIWAI9AEBJ5r92ydCZ9Wuu+4KZdwNm4LSEDAEDIEAAawT5ROF39cxxxyDsRZuOYg9t9xyC5HKJOdw1+uXwgPNqd14fAx3miKqmD5S0L2C5TJIRop91BYbIEIsFEsRTcS9xgbro8eFidyANKh6EAJJwXHO2Z6hM8Qu0T2gTJeVQfn1flcQygKVICkJsilVJBs/KIUoRDvHg+D8gYzH20o4KfFE24MPPhgUkVcSas/KKcprcmL+kElimfmJOCUIh3qhm8jg/I24EuRHSQhtfEonJAYiZeWj3pUU5mSoZRuZHjVEYsVpYLqiMVbrJOpNaj5eYFciCtUZM2YIPRf5hllHCjPBJ3uEiVp3xGlOYjxPQZQiFltEfma5BfLmeAzzzCEGLu4XuExh1asqpAUMj3OGclJ5KvsOYVxFIe2zrYlITGGDt+yVnrlexumpHGiLRuaxdNpyIX9LTdPHIcbKGgKGQB8QwCSSbQF7nH87tokgboJJ2mKLLfpAn9FgCBgCfUMAsQ13IKQFd5WLI80ZZ5yB5aFY3qKrDAIA6dzux/rCm29kQD/mZ5DvUOLDWjIBDuErnS0lnDd6Kv/5bAryX2Kx0At4dwwReZkA8QwTRN8LDjtGekqG5ZdfHsUImXlH2/GpVLLqqqtCoc+tyskt9iG+xmhGb7beeus5VBEm4cKBrjS/HporSrnFzAQOJeeb3/zmBFbgQIxKyQO4/ej5siAeJjw6TzUABWBy20dtIEy2k046qYMp+q53vYumi7JradOJUcNByH9PD33pzjvvjB7SxZ6hR2jSkN4R1OUpoA8nRp6IoLkLLriA/7pIkqSMPFFrjTjTFeSRHhGrSntduoj8nEjXMr4llE5pDflDjNGv3OdYL6oKq1GA7WAmjNZEZd+pFlGHWKxMCaLj8l/+ZjGWxgjNWS+j0alSTq/LiPj1xNKVB9dZTdSiH+84xFhZQ8AQ6AkChJVmjeM0AT3zZTZedCUJ652ekGhkGAKGQD8RgIFAenGCELopWVZj1xcQjJxDetGf3mWT01cb6n3YYviehIoJ8eOqq65CNEK7UlQZYdgJkahEUCTy+U8aiHjutuHst91226bGCLFk7bXXRsRCExirE5rhj9EmBVJoaX6Zs37+859PU4hNJjo9bE2x6kT7xFca6OLggw+mNp7dozbgQsjETrWpvjdVT+WojdkQw426o6kwHjkjDsGSkM8555wY8ZWLSKbLyy23XLr7mUPMWsAvjosM1UZcH4k6/fwy+w7xik+D7TRBSplIBMUt7VHmehkNDRS8uilAle3XEEsfrRUrZQgYAsNCANMGtgVCwkL2fJlNvvWEChhWT4xaQ8AQmDgCSBpidwJKFLkkYTqFESAZEBgm3oURCOCtbVRAxafeRqhKRbA+TYd9g5tEUCy1sQwahelEeYhyxn8rL0YYQiCjoIfpYh9MJKKd09ptuummQ3nzbeThKBYEVY5IXBObqrNyxHmUAv1P+mqgchHJgBORLE12/hCj/HRaO5SQKKaaAqTxejL7TrvMfzqFM2riokfk5ayX0ToiCyhWbvAWZSx9tFaslCFgCAwLAS6+2RnwFIDs+TFIMAHCoAhbkcA/W7c+9hkChsCUQQATGi7vETn0wYi7e9zR+ohlNZY5bCsE3nA14E9FwAZMp4jfEKtWoRSJljFau5MtBefKU8u4OaFgHJ8SFFxoL2Mvj1E/rDkuNziVKTxm8cN4lad4xd7hZQTbR7yWnGfcFKTEf0O8WDnjizmowtPdfffdhN8cyptv4w+NqwGzVUR0hglXQxfIa+T6K0ec4xjlJ081HH/88YlWShfRhRdeSPRUPerFRQCCnzwDE1/+EMu/TpOBViTC9ecboe8Qr1WAc2NlGI+c9TIaGtoJCW8bvEUZSx+tFStlCBgCw0JAYajmB5Fy4uZGG21EKhGuhyWAGrWGgCFQCwEZQrtv3XXXrVW8NDOX9Jtssgl6Jxy3ttpqK2QP1DKo8vECSlTOK9hkg1kcn4BJ1UAMD3Qv4wfkQB7zfaWC7qAEgFNE65LopmzbMInk3m2FFVYgTqbvgBcriKmbPJQCN7ZifrR8ZCPkJiavLnzLpGCfYLuMNTJbzvt4aSLTI05ZguUgrVX2tLiIuJSRuTKWgXgq8sdRRx1VWQ8ZMoeYOYNQsfXWW2OB3LfX/0buu2xQS93YfOjy10sO4EEePWGClWZm+ghNWBFDwBAYHAIK50acMyifbxvJX3rUKBFaanD9NIINAUOgiAB8yZFHHolXqz5ipjWFEuwj7mFEcSCqpJyLKj+FPufNscqcvc1QDLQ4Aqlsvy5MZbE49lqVJlv43aEiQIDEdgu3NxcaMU3MDjvsAEPPEMCvk9MPfhBE/kB9QTYeUeDhhBE6OMWKJNwOM3uaHnEqyZ9XxUVEODEGi9e6ULQWX5CPURgb4mIMGCJwrrTSSoQ/ERvRq2+EvjPt8SblQUjsEpHKuBxxEV9Yd/5YJ9bL+CDoHciiD2osffwWrQZDwBDoOQL4sWPYwj2s6PyPzIZpDQ7WhCzreQeMPEPAEBgZAa7eiY9HqLTMWHwjN5RZED4JNuXSSy/NzG/ZEgig7SSqCoNbKeDhZMilPpaxhMKjQsJIoJfD1JO4lKofS1ckQDhU15wedcChLgiQYCMycQSKiwh1EysdVV5aNxtQXjrExZlAKT0bKDm/b19+32Uljr0xJpFYohJWh04RlBXjT9gh+oU7KC/aYwhA9J30emkEBJlGF8XgWHojjVolhoAh0GcEzj//fLYFYvaKyP/IbPxns802W2ihhXIsavrcQ6PNEDAEYgjwyJisIlnpe+65Z06MilbBPPnkkyGGi+RWW7HKAwRkBYc5q6IdzJkzh/8S098Je3PnziUFy1X/OMCHDQ2tgdk3BBpcRMUhLp0Jxx13HLpc9Op9g6IWPcxt7qlRRWJuQEFiReKyiFkp4q7qIYOeLNdLHon1Uqvd0szo9+QmGvwaSx+/RavBEDAE+o8Ar86i/+dSqURmw3+dQ/qwww7rfzeMQkPAEBgBAQzhZs+e7d6qIgJ4MZD9CNWOXATvIMIbOr3/yPVYwVoIEJ0ieK3r3nvvDWoghAzxY1zof2wvcX0sfQmgVtOWuXEEmlpEsSEOZgL0Y3+IJ2fjHem+QsJ7+A/fYdEdGHWzPXKjhPq6cr2MSfy5556LWIiEHNQTSx+zOStuCBgC/UcAhT+3SH5s3v/Ss9EBfBXg5/It6fvfZ6PQEDAEigicfvrpXCqXurx3DBdvapdaBHVMhjXnI8ARgLeSezgbh0NiGNYytDM8u0Rg/EUUG+JgJtCpY445Zp999umydxNsiwfoCP/TgSU5oX1Q+iFDBp2NpU8QE2vaEDAEukGAYFdcavsn7wI0LFspfexNxA7GBmD//ff30+1vQ8AQmGIIEECWwPHc0XCPPsGuES0Dfyri1O++++4TJMOa9hG47bbb0LyhWCPy+IorrshTwthfzJw501DqJwIjLyKsYdNDrJlAOBNENV71QHRH13rsscfi3NhPKJql6uijj8ZdcMaMGc1WG9SGiTL7MMsNhZ7/Uyy9VWKsckPAEOgDAjBmvBjJ9Tpv2Dp6QpmNH3CBxeeVfPNfA+gD7UaDIWAItIAAMWSvueaahx9+OHgRqIWmUlXiScsrZ+w8hLjouGlrLoEAN3pYwcGdE5hBwQnt6y0Coy2i/CHm9UWmAfOBd/96C8JACUMy3GWXXQi3qwe73RdLH2g3jWxDwBDIRACuDEEMaU1hY1MyG7/x7gqvr3CvFuwgmY1ZNkPAEBgEAvi2wSiw3idLLWocthoeJtpjjz0mS4m1bggMFAFbRAMdONwRMTTABhKR2O9CLH2g3TSyDQFDIBMBzB94+nL11VffddddgyIlejblwPWWBz132223zDYsmyFgCAwLATxVCGNNVCJMniZOOXo2TLIx11SgNvsMAUOgLgK2iOoi1of8hxxyCF5zPI5HBDifnlh6H2g2GgwBQ6A9BHj9iCiyyGzFJqIyW3vUWM2GgCEwEQQIQcYrH9tss83222+PhwburWedddb1119PYKKJ0BM0esQRRxB3GxmyD8QYDYbAEBGwRTS4UVtzzTXnzZtHpIGA8lj64DpoBBsChkBTCJjM1hSSVo8h0HcErr322lmzZuHXvsgii/CG8hprrIE1Ttvu9bVAwbtmmsQ2qAWLZTYE8hGwRZSPVR9yxsbLxrEPo2M0GAK9QuD/A8KjITN8A7UkAAAAAElFTkSuQmCC\"></div>"
      ],
      "text/plain": [
       "FormBox[TagBox[RowBox[{\"(\", \"⁠\", \n",
       "\n",
       " \n",
       ">         TagBox[GridBox[{{RowBox[{RowBox[{\"-\", FractionBox[\"2\", \"5\"]}], \" \", \n",
       "\n",
       " \n",
       ">               OverscriptBox[\"r\", \"^\"], \" \", SubscriptBox[\"ϵ\", \"G\"], \" \", \n",
       "\n",
       " \n",
       ">               RowBox[{\"(\", RowBox[{RowBox[{SuperscriptBox[\"r\", \"′\", \n",
       "\n",
       " \n",
       ">                      Rule[MultilineFunction, None]], \" \", \n",
       "\n",
       " \n",
       ">                     RowBox[{\"(\", RowBox[{RowBox[{RowBox[{\"sin\", \"(\", \n",
       "\n",
       " \n",
       ">                             RowBox[{\"2\", \" \", \"ϕ\"}], \")\"}], \" \", \n",
       "\n",
       " \n",
       ">                           TemplateBox[List[SubscriptBox[OverscriptBox[\"f\", \n",
       "\n",
       " \n",
       ">                             \"^\"], RowBox[List[\"x\", \",\", \"y\"]]], \"\\\"(5)\\\"\"], \n",
       "\n",
       " \n",
       ">                            \"Superscript\", Rule[SyntaxForm, SuperscriptBox]]}], \n",
       "\n",
       " \n",
       ">                         \"+\", RowBox[{RowBox[{SuperscriptBox[\"cos\", \"2\"], \"(\", \n",
       "\n",
       " \n",
       ">                             \"ϕ\", \")\"}], \" \", \n",
       "\n",
       " \n",
       ">                           TemplateBox[List[SubscriptBox[OverscriptBox[\"f\", \n",
       "\n",
       " \n",
       ">                             \"^\"], RowBox[List[\"x\", \",\", \"x\"]]], \"\\\"(5)\\\"\"], \n",
       "\n",
       " \n",
       ">                            \"Superscript\", Rule[SyntaxForm, SuperscriptBox]]}], \n",
       "\n",
       " \n",
       ">                         \"+\", RowBox[{RowBox[{SuperscriptBox[\"sin\", \"2\"], \"(\", \n",
       "\n",
       " \n",
       ">                             \"ϕ\", \")\"}], \" \", \n",
       "\n",
       " \n",
       ">                           TemplateBox[List[SubscriptBox[OverscriptBox[\"f\", \n",
       "\n",
       " \n",
       ">                             \"^\"], RowBox[List[\"y\", \",\", \"y\"]]], \"\\\"(5)\\\"\"], \n",
       "\n",
       " \n",
       ">                            \"Superscript\", Rule[SyntaxForm, SuperscriptBox]]}]}], \n",
       "\n",
       " \n",
       ">                       \")\"}]}], \"+\", \n",
       "\n",
       " \n",
       ">                   RowBox[{OverscriptBox[\"r\", \"^\"], \" \", OverscriptBox[\"ω\", \"^\"], \n",
       "\n",
       " \n",
       ">                     \" \", RowBox[{\"(\", \n",
       "\n",
       " \n",
       ">                       RowBox[{RowBox[{RowBox[{\"cos\", \"(\", \n",
       "\n",
       " \n",
       ">                             RowBox[{\"2\", \" \", \"ϕ\"}], \")\"}], \" \", \n",
       "\n",
       " \n",
       ">                           TemplateBox[List[SubscriptBox[OverscriptBox[\"f\", \n",
       "\n",
       " \n",
       ">                             \"^\"], RowBox[List[\"x\", \",\", \"y\"]]], \"\\\"(5)\\\"\"], \n",
       "\n",
       " \n",
       ">                            \"Superscript\", Rule[SyntaxForm, SuperscriptBox]]}], \n",
       "\n",
       " \n",
       ">                         \"+\", RowBox[{RowBox[{\"sin\", \"(\", \"ϕ\", \")\"}], \" \", \n",
       "\n",
       " \n",
       ">                           RowBox[{\"cos\", \"(\", \"ϕ\", \")\"}], \" \", \n",
       "\n",
       " \n",
       ">                           RowBox[{\"(\", \n",
       "\n",
       " \n",
       ">                             RowBox[{TemplateBox[List[SubscriptBox[\n",
       "\n",
       " \n",
       ">                             OverscriptBox[\"f\", \"^\"], \n",
       "\n",
       " \n",
       ">                             RowBox[List[\"y\", \",\", \"y\"]]], \"\\\"(5)\\\"\"], \n",
       "\n",
       " \n",
       ">                              \"Superscript\", Rule[SyntaxForm, SuperscriptBox]], \n",
       "\n",
       " \n",
       ">                              \"-\", \n",
       "\n",
       " \n",
       ">                              TemplateBox[List[SubscriptBox[OverscriptBox[\"f\", \n",
       "\n",
       " \n",
       ">                             \"^\"], RowBox[List[\"x\", \",\", \"x\"]]], \"\\\"(5)\\\"\"], \n",
       "\n",
       " \n",
       ">                              \"Superscript\", Rule[SyntaxForm, SuperscriptBox]]}], \n",
       "\n",
       " \n",
       ">                             \")\"}]}]}], \")\"}]}]}], \")\"}]}]}, \n",
       "\n",
       " \n",
       ">            {RowBox[{RowBox[{\"-\", FractionBox[\"1\", \"5\"]}], \" \", \n",
       "\n",
       " \n",
       ">               SuperscriptBox[OverscriptBox[\"r\", \"^\"], \"2\"], \" \", \n",
       "\n",
       " \n",
       ">               SubscriptBox[\"ϵ\", \"G\"], \" \", \n",
       "\n",
       " \n",
       ">               RowBox[{\"(\", RowBox[{RowBox[{RowBox[{\"sin\", \"(\", \n",
       "\n",
       " \n",
       ">                       RowBox[{\"2\", \" \", \"ϕ\"}], \")\"}], \" \", \n",
       "\n",
       " \n",
       ">                     RowBox[{\"(\", RowBox[{TemplateBox[List[SubscriptBox[\n",
       "\n",
       " \n",
       ">                            OverscriptBox[\"f\", \"^\"], \n",
       "\n",
       " \n",
       ">                            RowBox[List[\"y\", \",\", \"y\"]]], \"\\\"(5)\\\"\"], \n",
       "\n",
       " \n",
       ">                          \"Superscript\", Rule[SyntaxForm, SuperscriptBox]], \"-\", \n",
       "\n",
       " \n",
       ">                         TemplateBox[List[SubscriptBox[OverscriptBox[\"f\", \"^\"], \n",
       "\n",
       " \n",
       ">                            RowBox[List[\"x\", \",\", \"x\"]]], \"\\\"(5)\\\"\"], \n",
       "\n",
       " \n",
       ">                          \"Superscript\", Rule[SyntaxForm, SuperscriptBox]]}], \")\"}]}\\\n",
       "\n",
       " \n",
       ">   ], \"+\", RowBox[{\"2\", \" \", RowBox[{\"cos\", \"(\", RowBox[{\"2\", \" \", \"ϕ\"}], \")\"}], \n",
       "\n",
       " \n",
       ">                     \" \", TemplateBox[List[SubscriptBox[OverscriptBox[\"f\", \"^\"], \n",
       "\n",
       " \n",
       ">                        RowBox[List[\"x\", \",\", \"y\"]]], \"\\\"(5)\\\"\"], \"Superscript\", \n",
       "\n",
       " \n",
       ">                      Rule[SyntaxForm, SuperscriptBox]]}]}], \")\"}]}]}}, \n",
       "\n",
       " \n",
       ">           Rule[RowSpacings, 1], Rule[ColumnAlignments, Center], \n",
       "\n",
       " \n",
       ">           Rule[ColumnAlignments, Left]], Column], \"⁠\", \")\"}], \n",
       "\n",
       " \n",
       ">       Function[BoxForm`e$, MatrixForm[BoxForm`e$]]], TraditionalForm]\n"
      ]
     },
     "execution_count": 1784,
     "metadata": {
      "text/html": [],
      "text/plain": []
     },
     "output_type": "execute_result"
    }
   ],
   "source": [
    "RHSEnegryLagrange = - Subscript[\\[Epsilon],G] FullSimplify[{\n",
    "  D[fh5rhrh, OverHat[t]] /. OmegaReplace,\n",
    "  D[fh5rhrh, \\[Phi][OverHat[t]]]\n",
    "}, Trig -> True];\n",
    "\n",
    "RHSEnegryLagrange // MatrixForm // TraditionalForm"
   ]
  },
  {
   "cell_type": "markdown",
   "metadata": {},
   "source": [
    "<span style=\"color:red\">**NB:**</span> Выражения полностью <span style=\"color:green\">**совпадают**</span> с предыдущим подходом!"
   ]
  },
  {
   "cell_type": "code",
   "execution_count": 1603,
   "metadata": {
    "vscode": {
     "languageId": "wolfram"
    }
   },
   "outputs": [
    {
     "data": {
      "text/html": [
       "<div><img alt=\"Output\" src=\"data:image/png;base64,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\"></div>"
      ],
      "text/plain": [
       "0\n",
       "\n",
       "0"
      ]
     },
     "execution_count": 1603,
     "metadata": {
      "text/html": [],
      "text/plain": []
     },
     "output_type": "execute_result"
    }
   ],
   "source": [
    "FullSimplify[RHSEnegryLagrange - RHSEnegry] // MatrixForm"
   ]
  },
  {
   "cell_type": "markdown",
   "metadata": {},
   "source": [
    "$$\n",
    "I_1 = \\hat{r}_2 \\left[ 120\\hat{r}_2^{(1)}\\omega^2\\omega^{(1)} - 5\\hat{r}_2^{(1)}\\omega^{(3)} - 16\\hat{r}_2\\omega^5 - 10\\hat{r}_2^{(2)}\\omega^{(2)} + 60\\hat{r}_2\\omega(\\omega^{(1)})^2\n",
    "- 10\\hat{r}_2^{(3)}\\omega^{(1)} + 40\\hat{r}_2^{(2)}\\omega^3 - 5\\hat{r}_2^{(4)}\\omega - \\hat{r}_2\\omega^{(4)} + 40\\hat{r}_2\\omega^2\\omega^{(2)} \\right]\n",
    "$$"
   ]
  },
  {
   "cell_type": "code",
   "execution_count": 1786,
   "metadata": {
    "vscode": {
     "languageId": "wolfram"
    }
   },
   "outputs": [
    {
     "data": {
      "text/html": [
       "<div><img alt=\"Output\" src=\"data:image/png;base64,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\"></div>"
      ],
      "text/plain": [
       "FormBox[RowBox[{SubscriptBox[OverscriptBox[\"r\", \"^\"], \"2\"], \" \", \n",
       "\n",
       " \n",
       ">        RowBox[{\"(\", RowBox[{RowBox[{\"-\", \n",
       "\n",
       " \n",
       ">              RowBox[{SubscriptBox[OverscriptBox[\"r\", \"^\"], \"2\"], \" \", \n",
       "\n",
       " \n",
       ">                SuperscriptBox[\"ω\", TagBox[RowBox[{\"(\", \"4\", \")\"}], Derivative], \n",
       "\n",
       " \n",
       ">                 Rule[MultilineFunction, None]]}]}], \"-\", \n",
       "\n",
       " \n",
       ">            RowBox[{\"5\", \" \", SuperscriptBox[\"ω\", \n",
       "\n",
       " \n",
       ">               TagBox[RowBox[{\"(\", \"3\", \")\"}], Derivative], \n",
       "\n",
       " \n",
       ">               Rule[MultilineFunction, None]], \" \", \n",
       "\n",
       " \n",
       ">              SuperscriptBox[SubscriptBox[OverscriptBox[\"r\", \"^\"], \"2\"], \"′\"]}], \"+\", \n",
       "\n",
       " \n",
       ">            RowBox[{\"40\", \" \", SubscriptBox[OverscriptBox[\"r\", \"^\"], \"2\"], \" \", \n",
       "\n",
       " \n",
       ">              SuperscriptBox[OverscriptBox[\"ω\", \"^\"], \"2\"], \" \", \n",
       "\n",
       " \n",
       ">              SuperscriptBox[\"ω\", \"′′\", Rule[MultilineFunction, None]]}], \"-\", \n",
       "\n",
       " \n",
       ">            RowBox[{\"10\", \" \", SuperscriptBox[SubscriptBox[OverscriptBox[\"r\", \"^\"], \n",
       "\n",
       " \n",
       ">                \"2\"], \"′′\"], \" \", SuperscriptBox[\"ω\", \"′′\", \n",
       "\n",
       " \n",
       ">               Rule[MultilineFunction, None]]}], \"-\", \n",
       "\n",
       " \n",
       ">            RowBox[{\"10\", \" \", SuperscriptBox[SubscriptBox[OverscriptBox[\"r\", \"^\"], \n",
       "\n",
       " \n",
       ">                \"2\"], \"′′′\"], \" \", SuperscriptBox[\"ω\", \"′\", \n",
       "\n",
       " \n",
       ">               Rule[MultilineFunction, None]]}], \"+\", \n",
       "\n",
       " \n",
       ">            RowBox[{\"120\", \" \", SuperscriptBox[OverscriptBox[\"ω\", \"^\"], \"2\"], \" \", \n",
       "\n",
       " \n",
       ">              SuperscriptBox[SubscriptBox[OverscriptBox[\"r\", \"^\"], \"2\"], \"′\"], \" \", \n",
       "\n",
       " \n",
       ">              SuperscriptBox[\"ω\", \"′\", Rule[MultilineFunction, None]]}], \"+\", \n",
       "\n",
       " \n",
       ">            RowBox[{\"60\", \" \", SubscriptBox[OverscriptBox[\"r\", \"^\"], \"2\"], \" \", \n",
       "\n",
       " \n",
       ">              OverscriptBox[\"ω\", \"^\"], \" \", \n",
       "           SuperscriptBox[RowBox[{\"(\", \n",
       "\n",
       " \n",
       ">                 SuperscriptBox[\"ω\", \"′\", Rule[MultilineFunction, None]], \")\"}],\\\n",
       " \n",
       ">    \"2\"]}], \n",
       "         \"+\", RowBox[{\"40\", \" \", SuperscriptBox[OverscriptBox[\"ω\", \"^\"],\\\n",
       " \n",
       ">    \"3\"], \" \", \n",
       "           SuperscriptBox[SubscriptBox[OverscriptBox[\"r\", \"^\"], \"2\"],\\\n",
       " \n",
       ">    \"′′\"]}], \"-\", \n",
       "         RowBox[{\"5\", \" \", OverscriptBox[\"ω\", \"^\"], \" \", \n",
       "\n",
       " \n",
       ">              SuperscriptBox[SubscriptBox[OverscriptBox[\"r\", \"^\"], \"2\"], \"′′′′\"]}],\\\n",
       " \n",
       ">    \"-\", \n",
       "         RowBox[{RowBox[{\"16\"}], \" \", SubscriptBox[OverscriptBox[\"r\", \"^\"],\\\n",
       " \n",
       ">    \"2\"], \n",
       "           \" \", SuperscriptBox[OverscriptBox[\"ω\", \"^\"], \"5\"]}]}], \")\"}]}], \n",
       "\n",
       " \n",
       ">      TraditionalForm]\n"
      ]
     },
     "execution_count": 1786,
     "metadata": {
      "text/html": [],
      "text/plain": []
     },
     "output_type": "execute_result"
    }
   ],
   "source": [
    "I1 = Subscript[OverHat[r], 2][OverHat[t]] * (\n",
    "    120 * Derivative[1][Subscript[OverHat[r], 2]][OverHat[t]] *\n",
    "    OverHat[\\[Omega]][OverHat[t]]^2 * Derivative[1][OverHat[\\[Omega]]][OverHat[t]]\n",
    "    - 5 * Derivative[1][Subscript[OverHat[r], 2]][OverHat[t]] *\n",
    "    Derivative[3][OverHat[\\[Omega]]][OverHat[t]]\n",
    "    - 16 * Subscript[OverHat[r], 2][OverHat[t]] *\n",
    "    OverHat[\\[Omega]][OverHat[t]]^5\n",
    "    - 10 * Derivative[2][Subscript[OverHat[r], 2]][OverHat[t]] *\n",
    "    Derivative[2][OverHat[\\[Omega]]][OverHat[t]]\n",
    "    + 60 * Subscript[OverHat[r], 2][OverHat[t]] *\n",
    "    OverHat[\\[Omega]][OverHat[t]] * Derivative[1][OverHat[\\[Omega]]][OverHat[t]]^2\n",
    "    - 10 * Derivative[3][Subscript[OverHat[r], 2]][OverHat[t]] *\n",
    "    Derivative[1][OverHat[\\[Omega]]][OverHat[t]]\n",
    "    + 40 * Derivative[2][Subscript[OverHat[r], 2]][OverHat[t]] *\n",
    "    OverHat[\\[Omega]][OverHat[t]]^3\n",
    "    - 5 * Derivative[4][Subscript[OverHat[r], 2]][OverHat[t]] *\n",
    "    OverHat[\\[Omega]][OverHat[t]]\n",
    "    - Subscript[OverHat[r], 2][OverHat[t]] *\n",
    "    Derivative[4][OverHat[\\[Omega]]][OverHat[t]]\n",
    "    + 40 * Subscript[OverHat[r], 2][OverHat[t]] *\n",
    "    OverHat[\\[Omega]][OverHat[t]]^2 * Derivative[2][OverHat[\\[Omega]]][OverHat[t]]\n",
    ");\n",
    "I1 // TraditionalForm"
   ]
  },
  {
   "cell_type": "code",
   "execution_count": 1802,
   "metadata": {
    "vscode": {
     "languageId": "wolfram"
    }
   },
   "outputs": [
    {
     "data": {
      "text/html": [
       "<div><img alt=\"Output\" src=\"data:image/png;base64,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\"></div>"
      ],
      "text/plain": [
       "FormBox[RowBox[{SubscriptBox[OverscriptBox[\"r\", \"^\"], \"2\"], \" \", \n",
       "\n",
       " \n",
       ">        RowBox[{\"(\", RowBox[{RowBox[{\"-\", \n",
       "\n",
       " \n",
       ">              RowBox[{SubscriptBox[OverscriptBox[\"r\", \"^\"], \"2\"], \" \", \n",
       "\n",
       " \n",
       ">                SuperscriptBox[\"ω\", TagBox[RowBox[{\"(\", \"4\", \")\"}], Derivative], \n",
       "\n",
       " \n",
       ">                 Rule[MultilineFunction, None]]}]}], \"-\", \n",
       "\n",
       " \n",
       ">            RowBox[{\"5\", \" \", SuperscriptBox[\"ω\", \n",
       "\n",
       " \n",
       ">               TagBox[RowBox[{\"(\", \"3\", \")\"}], Derivative], \n",
       "\n",
       " \n",
       ">               Rule[MultilineFunction, None]], \" \", \n",
       "\n",
       " \n",
       ">              SuperscriptBox[SubscriptBox[OverscriptBox[\"r\", \"^\"], \"2\"], \"′\"]}], \"+\", \n",
       "\n",
       " \n",
       ">            RowBox[{\"40\", \" \", SubscriptBox[OverscriptBox[\"r\", \"^\"], \"2\"], \" \", \n",
       "\n",
       " \n",
       ">              SuperscriptBox[OverscriptBox[\"ω\", \"^\"], \"2\"], \" \", \n",
       "\n",
       " \n",
       ">              SuperscriptBox[\"ω\", \"′′\", Rule[MultilineFunction, None]]}], \"-\", \n",
       "\n",
       " \n",
       ">            RowBox[{\"10\", \" \", SuperscriptBox[SubscriptBox[OverscriptBox[\"r\", \"^\"], \n",
       "\n",
       " \n",
       ">                \"2\"], \"′′\"], \" \", SuperscriptBox[\"ω\", \"′′\", \n",
       "\n",
       " \n",
       ">               Rule[MultilineFunction, None]]}], \"-\", \n",
       "\n",
       " \n",
       ">            RowBox[{\"10\", \" \", SuperscriptBox[SubscriptBox[OverscriptBox[\"r\", \"^\"], \n",
       "\n",
       " \n",
       ">                \"2\"], \"′′′\"], \" \", SuperscriptBox[\"ω\", \"′\", \n",
       "\n",
       " \n",
       ">               Rule[MultilineFunction, None]]}], \"+\", \n",
       "\n",
       " \n",
       ">            RowBox[{\"120\", \" \", SuperscriptBox[OverscriptBox[\"ω\", \"^\"], \"2\"], \" \", \n",
       "\n",
       " \n",
       ">              SuperscriptBox[SubscriptBox[OverscriptBox[\"r\", \"^\"], \"2\"], \"′\"], \" \", \n",
       "\n",
       " \n",
       ">              SuperscriptBox[\"ω\", \"′\", Rule[MultilineFunction, None]]}], \"+\", \n",
       "\n",
       " \n",
       ">            RowBox[{\"60\", \" \", SubscriptBox[OverscriptBox[\"r\", \"^\"], \"2\"], \" \", \n",
       "\n",
       " \n",
       ">              OverscriptBox[\"ω\", \"^\"], \" \", \n",
       "           SuperscriptBox[RowBox[{\"(\", \n",
       "\n",
       " \n",
       ">                 SuperscriptBox[\"ω\", \"′\", Rule[MultilineFunction, None]], \")\"}],\\\n",
       " \n",
       ">    \"2\"]}], \n",
       "         \"+\", RowBox[{\"40\", \" \", SuperscriptBox[OverscriptBox[\"ω\", \"^\"],\\\n",
       " \n",
       ">    \"3\"], \" \", \n",
       "           SuperscriptBox[SubscriptBox[OverscriptBox[\"r\", \"^\"], \"2\"],\\\n",
       " \n",
       ">    \"′′\"]}], \"-\", \n",
       "         RowBox[{\"5\", \" \", OverscriptBox[\"ω\", \"^\"], \" \", \n",
       "\n",
       " \n",
       ">              SuperscriptBox[SubscriptBox[OverscriptBox[\"r\", \"^\"], \"2\"], \"′′′′\"]}],\\\n",
       " \n",
       ">    \"-\", \n",
       "         RowBox[{RowBox[{\"16\"}], \" \", SubscriptBox[OverscriptBox[\"r\", \"^\"],\\\n",
       " \n",
       ">    \"2\"], \n",
       "           \" \", SuperscriptBox[OverscriptBox[\"ω\", \"^\"], \"5\"]}]}], \")\"}]}], \n",
       "\n",
       " \n",
       ">      TraditionalForm]\n"
      ]
     },
     "execution_count": 1802,
     "metadata": {
      "text/html": [],
      "text/plain": []
     },
     "output_type": "execute_result"
    }
   ],
   "source": [
    "fh1 = fh /. OverHat[r][OverHat[t]] -> Sqrt[Subscript[OverHat[r],2][OverHat[t]]];\n",
    "fh51 = Simplify[D[fh1, {OverHat[t], 5}], Trig -> True];\n",
    "I1a = Subscript[OverHat[r],2][OverHat[t]]*Expand[Simplify[1/2(Sin[2\\[Phi][OverHat[t]]] (fh51[[1,1]] - fh51[[2,2]]) - 2 Cos[2\\[Phi][OverHat[t]]] fh51[[1,2]]) /. OmegaReplace, Trig -> True]];\n",
    "I1a // TraditionalForm"
   ]
  },
  {
   "cell_type": "code",
   "execution_count": 1794,
   "metadata": {
    "vscode": {
     "languageId": "wolfram"
    }
   },
   "outputs": [
    {
     "data": {
      "text/html": [
       "<div><pre style=\"&#102;&#111;&#110;&#116;&#45;&#102;&#97;&#109;&#105;&#108;&#121;&#58;&#32;&#34;&#67;&#111;&#117;&#114;&#105;&#101;&#114;&#32;&#78;&#101;&#119;&#34;&#44;&#67;&#111;&#117;&#114;&#105;&#101;&#114;&#44;&#109;&#111;&#110;&#111;&#115;&#112;&#97;&#99;&#101;&#59;\">&#48;</pre></div>"
      ],
      "text/plain": [
       "0"
      ]
     },
     "execution_count": 1794,
     "metadata": {
      "text/html": [],
      "text/plain": []
     },
     "output_type": "execute_result"
    }
   ],
   "source": [
    "I1a - I1"
   ]
  },
  {
   "cell_type": "code",
   "execution_count": 1338,
   "metadata": {
    "vscode": {
     "languageId": "wolfram"
    }
   },
   "outputs": [
    {
     "data": {
      "text/html": [
       "<div><img alt=\"Output\" src=\"data:image/png;base64,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\"></div>"
      ],
      "text/plain": [
       "   ^ ^ 5 ^  ^ 2      ^ ^  ^  ^ 2  ^   ^ 2      ^ ^ 2 ^  ^   ^   ^   ^    ^\n",
       "16 ω[t]  r [t]  + 12 ω[t] r [t]  (ω)'[t]  + 24 ω[t]  r [t] (ω)'[t] (r )'[t] + \n",
       "          2                2                          2              2\n",
       " \n",
       "       ^ ^ 3  ^    ^ 2     ^ ^ 2 ^  ^ 2  ^    ^       ^ ^ 3 ^  ^   ^     ^\n",
       ">   24 ω[t]  (r )'[t]  - 4 ω[t]  r [t]  (ω)''[t] - 16 ω[t]  r [t] (r )''[t] + \n",
       "               2                  2                          2      2\n",
       " \n",
       "       ^   ^   ^    ^   ^     ^    ^  ^   ^    ^   ^     ^      ^ ^   ^     ^ 2\n",
       ">   3 (ω)'[t] (r )'[t] (r )''[t] + r [t] (ω)''[t] (r )''[t] + 3 ω[t] (r )''[t]  - \n",
       "                2        2          2               2                  2\n",
       " \n",
       "    ^  ^   ^   ^   ^  (3) ^      ^ ^   ^    ^   ^  (3) ^\n",
       ">   r [t] (ω)'[t] (r )   [t] - 2 ω[t] (r )'[t] (r )   [t]\n",
       "     2              2                   2        2"
      ]
     },
     "execution_count": 1338,
     "metadata": {
      "text/html": [],
      "text/plain": []
     },
     "output_type": "execute_result"
    }
   ],
   "source": [
    "fh2 = Array[If[#1 <= #2,\n",
    "                    Superscript[Subscript[OverHat[f], {x, y}[[#1]], {x, y}[[#2]]], \"(2)\"],\n",
    "                    Superscript[Subscript[OverHat[f], {x, y}[[#2]], {x, y}[[#1]]], \"(2)\"]] &, {2, 2}];\n",
    "fh2 // MatrixForm;\n",
    "fh3 = Array[If[#1 <= #2,\n",
    "                    Superscript[Subscript[OverHat[f], {x, y}[[#1]], {x, y}[[#2]]], \"(3)\"],\n",
    "                    Superscript[Subscript[OverHat[f], {x, y}[[#2]], {x, y}[[#1]]], \"(3)\"]] &, {2, 2}];\n",
    "fh3 // MatrixForm;\n",
    "\n",
    "fh2 = Simplify[D[fh1, {OverHat[t], 2}], Trig -> True];\n",
    "fh3 = Simplify[D[fh1, {OverHat[t], 3}], Trig -> True];\n",
    "\n",
    "Expand[Simplify[EinsteinSummation[{{i, j}, {i, l}, {l, j}}, {LeviCivitaTensor[2], fh2, fh3}] /. OmegaReplace, Trig -> True]]"
   ]
  },
  {
   "cell_type": "markdown",
   "metadata": {},
   "source": [
    "# Интегрирование по частям\n",
    "[Integrate By Parts](https://resources.wolframcloud.com/FunctionRepository/resources/IntegrateByParts/)\n",
    "Contributed by: Wolfram|Alpha Math Team"
   ]
  },
  {
   "cell_type": "code",
   "execution_count": null,
   "metadata": {
    "vscode": {
     "languageId": "wolfram"
    }
   },
   "outputs": [],
   "source": [
    "IntegrateByParts // ClearAll;\n",
    "IntegrateByParts[ args___ ] :=\n",
    "    Module[ { res },\n",
    "        update[ ];\n",
    "        res = Symbol[ \"ResourceFunctionHelpers`IntegrateByParts\" ][ args ];\n",
    "        res /; Head @ res =!= Symbol[ \"ResourceFunctionHelpers`IntegrateByParts\" ]\n",
    "    ];"
   ]
  },
  {
   "cell_type": "code",
   "execution_count": null,
   "metadata": {
    "vscode": {
     "languageId": "wolfram"
    }
   },
   "outputs": [],
   "source": [
    "update // ClearAll;\n",
    "update[ ] /; $VersionNumber <= 12 :=\n",
    "    Once[\n",
    "\n",
    "        If[ MemberQ[ PacletSites[ ], $publicPacletSite ],\n",
    "            PacletManager`PacletUpdate[\n",
    "                \"ResourceFunctionHelpers\",\n",
    "                \"Site\"        -> \"http://pacletserver.wolfram.com\",\n",
    "                \"UpdateSites\" -> True\n",
    "            ]\n",
    "        ];\n",
    "\n",
    "        Quiet @ Block[ { $ContextPath }, Get[ \"ResourceFunctionHelpers`\" ] ]\n",
    "    ];"
   ]
  },
  {
   "cell_type": "code",
   "execution_count": null,
   "metadata": {
    "vscode": {
     "languageId": "wolfram"
    }
   },
   "outputs": [],
   "source": [
    "update // ClearAll;\n",
    "update[ ] /; $VersionNumber <= 12 :=\n",
    "    Once[\n",
    "\n",
    "        If[ MemberQ[ PacletSites[ ], $publicPacletSite ],\n",
    "            PacletManager`PacletUpdate[\n",
    "                \"ResourceFunctionHelpers\",\n",
    "                \"Site\"        -> \"http://pacletserver.wolfram.com\",\n",
    "                \"UpdateSites\" -> True\n",
    "            ]\n",
    "        ];\n",
    "\n",
    "        Quiet @ Block[ { $ContextPath }, Get[ \"ResourceFunctionHelpers`\" ] ]\n",
    "    ];"
   ]
  },
  {
   "cell_type": "markdown",
   "metadata": {},
   "source": [
    "$$\n",
    "  I_4(u) = \\int_{r_1}^\\infty \\frac{24r^2u^6 + 48u^6r + 120r^{3/2}u^4 - 96u^6 + 96u^4\\sqrt{r} - u^2r^2 + 133u^2r - 2r^{3/2}}{r^4\\sqrt{u^2r + 2\\sqrt{r} - u^2}} \\, dr,\n",
    "$$\n",
    "где при $r \\ge r_1$ выражение $u^2r + 2\\sqrt{r} - u^2 \\ge 0$.\n",
    "\n",
    "Всюду предполагается $u \\gt 0$."
   ]
  },
  {
   "cell_type": "markdown",
   "metadata": {},
   "source": [
    "## Интегрант $f_4(u, r)$:"
   ]
  },
  {
   "cell_type": "markdown",
   "metadata": {},
   "source": [
    "$$\n",
    "  f_4(u, r) = \\frac{24r^2u^6 + 48u^6r + 120r^{3/2}u^4 - 96u^6 + 96u^4\\sqrt{r} - u^2r^2 + 133u^2r - 2r^{3/2}}{r^4\\sqrt{u^2r + 2\\sqrt{r} - u^2}}\n",
    "$$"
   ]
  },
  {
   "cell_type": "code",
   "execution_count": null,
   "metadata": {
    "vscode": {
     "languageId": "wolfram"
    }
   },
   "outputs": [],
   "source": [
    "integrand4[u_, r_] = (24*r^2*u^6 + 48*u^6*r + 120*r^(3/2)*u^4 - 96*u^6 + 96*u^4*Sqrt[r] - u^2*r^2 + 133*u^2*r - 2*r^(3/2)) /\n",
    "  (r^4*Sqrt[u^2*r + 2*Sqrt[r] - u^2]);"
   ]
  },
  {
   "cell_type": "markdown",
   "metadata": {},
   "source": [
    "Значение интегранта при любом $u$ на бесконечно больших $r$ равно 0:"
   ]
  },
  {
   "cell_type": "code",
   "execution_count": null,
   "metadata": {
    "vscode": {
     "languageId": "wolfram"
    }
   },
   "outputs": [],
   "source": [
    "Limit[integrand4[u, r], r -> Infinity]"
   ]
  },
  {
   "cell_type": "markdown",
   "metadata": {},
   "source": [
    "### Выражение для левой границы $r_1$"
   ]
  },
  {
   "cell_type": "code",
   "execution_count": null,
   "metadata": {
    "vscode": {
     "languageId": "wolfram"
    }
   },
   "outputs": [],
   "source": [
    "eqr1[u_, r_] = u^2*r + 2*Sqrt[r] - u^2;\n",
    "sol = Assuming[{u ∈ Reals, r ∈ Reals, r > 0}, Solve[eqr1[u, r] == 0, r]];\n",
    "r1[u_] = Simplify[r/.sol[[1]]]"
   ]
  },
  {
   "cell_type": "markdown",
   "metadata": {},
   "source": [
    "$r_1$ обращается в 0 при $u \\rightarrow 0$:"
   ]
  },
  {
   "cell_type": "code",
   "execution_count": null,
   "metadata": {
    "vscode": {
     "languageId": "wolfram"
    }
   },
   "outputs": [],
   "source": [
    "Series[r1[u], {u, 0, 5}]\n",
    "Limit[r1[u], u -> 0]"
   ]
  },
  {
   "cell_type": "markdown",
   "metadata": {},
   "source": [
    "И проверим, что знаменатель обращается в 0 при $r = r_1$"
   ]
  },
  {
   "cell_type": "code",
   "execution_count": null,
   "metadata": {
    "vscode": {
     "languageId": "wolfram"
    }
   },
   "outputs": [],
   "source": [
    "PlotR1[u_] := Module[\n",
    "  {points, r1Value},\n",
    "\n",
    "  r1Value = Piecewise[{{0, u == 0}}, r1[u]];\n",
    "  points = {{r1Value, eqr1[u, r1Value]}};\n",
    "\n",
    "  plotLabel = \"u = \" <> ToString[u];\n",
    "\n",
    "  Show[\n",
    "    Plot[\n",
    "      eqr1[u, r],\n",
    "      {r, -1, 10},\n",
    "      AxesLabel -> {\"u\", \"r1\"},\n",
    "      PlotLabel -> plotLabel,\n",
    "      PlotRange -> All\n",
    "    ],\n",
    "    ListPlot[\n",
    "      points,\n",
    "      PlotStyle -> {Red, PointSize[Large]}\n",
    "    ]\n",
    "  ]\n",
    "]\n",
    "\n",
    "plots = {PlotR1[3], PlotR1[0.1], PlotR1[0.0]};\n",
    "GraphicsRow[plots]"
   ]
  },
  {
   "cell_type": "markdown",
   "metadata": {},
   "source": [
    "### Графики функций интегранта $f_4(u_i, r)$:"
   ]
  },
  {
   "cell_type": "code",
   "execution_count": null,
   "metadata": {
    "vscode": {
     "languageId": "wolfram"
    }
   },
   "outputs": [],
   "source": [
    "PlotIntegrand4[u_] := Module[\n",
    "  {r1Value},\n",
    "\n",
    "  r1Value = Piecewise[{{0, u == 0}}, r1[u]];\n",
    "\n",
    "  plotLabel = \"u = \" <> ToString[u];\n",
    "\n",
    "  Plot[\n",
    "    integrand4[u, r],\n",
    "    {r, r1Value, 10^3},\n",
    "    PlotLabel -> plotLabel,\n",
    "    PlotRange -> All,\n",
    "    AxesOrigin -> {0, 0},\n",
    "    AxesLabel -> {\"r\", \"integrand4\"},\n",
    "    ScalingFunctions -> {\"Log\", \"SignedLog\"}\n",
    "  ]\n",
    "]\n",
    "\n",
    "plots = {PlotIntegrand4[0.0], PlotIntegrand4[0.03], PlotIntegrand4[0.3]};\n",
    "GraphicsRow[plots]"
   ]
  },
  {
   "cell_type": "markdown",
   "metadata": {},
   "source": [
    "*Mathematica* очень долго берёт этот интеграл, но выдаёт огромную простыню выражений, которую не может упростить, используя при это коплексную экспоненту."
   ]
  },
  {
   "cell_type": "code",
   "execution_count": null,
   "metadata": {
    "vscode": {
     "languageId": "wolfram"
    }
   },
   "outputs": [],
   "source": [
    "Inactivate[Integrate[integrand4[u, r], {r, r1[u], Infinity}, Assumptions -> {u ∈ Reals, u > 0}]]"
   ]
  },
  {
   "cell_type": "markdown",
   "metadata": {},
   "source": [
    "## Численный график $I_4(u)$ с использованием NIntegrate:"
   ]
  },
  {
   "cell_type": "code",
   "execution_count": null,
   "metadata": {
    "vscode": {
     "languageId": "wolfram"
    }
   },
   "outputs": [],
   "source": [
    "Plot[\n",
    "  NIntegrate[integrand4[u, r], {r, r1[u], Infinity}],\n",
    "  {u, 1, 100},\n",
    "  PlotLabel -> \"NIntegral of integrand4\",\n",
    "  AxesLabel -> {\"u\", \"integrand4\"}\n",
    "]"
   ]
  },
  {
   "cell_type": "markdown",
   "metadata": {
    "vscode": {
     "languageId": "wolfram"
    }
   },
   "source": [
    "## Численный график $I_4(u)$ с использованием Integrate:"
   ]
  },
  {
   "cell_type": "code",
   "execution_count": null,
   "metadata": {
    "vscode": {
     "languageId": "wolfram"
    }
   },
   "outputs": [],
   "source": [
    "(* points = With[\n",
    "  {u := 10^up},\n",
    "  Table[\n",
    "    {u, N[Integrate[integrand4[u, r], {r, r1[u], Infinity}]]},\n",
    "    {up, 0, 2, 0.05}\n",
    "  ]\n",
    "]; *)\n",
    "\n",
    "points = Table[\n",
    "  {u, N[Integrate[integrand4[u, r], {r, r1[u], Infinity}]]},\n",
    "  {u, 1, 100, 1}\n",
    "];\n",
    "\n",
    "ListPlot[\n",
    "  points,\n",
    "  Joined -> True,\n",
    "  PlotRange -> All,\n",
    "  PlotLabel -> \"Integral of integrand4\",\n",
    "  AxesLabel -> {\"u\", \"integral4\"}\n",
    "]"
   ]
  },
  {
   "cell_type": "markdown",
   "metadata": {},
   "source": [
    "## Первообразная $\\tilde{I}_4(u, r)$:"
   ]
  },
  {
   "cell_type": "code",
   "execution_count": null,
   "metadata": {
    "vscode": {
     "languageId": "wolfram"
    }
   },
   "outputs": [],
   "source": [
    "antiderivative4[u_, r_] = Integrate[integrand4[u, r], r]"
   ]
  },
  {
   "cell_type": "markdown",
   "metadata": {
    "vscode": {
     "languageId": "wolfram"
    }
   },
   "source": [
    "Явно определим аргумент комплексного числа:"
   ]
  },
  {
   "cell_type": "code",
   "execution_count": null,
   "metadata": {
    "vscode": {
     "languageId": "wolfram"
    }
   },
   "outputs": [],
   "source": [
    "(* complexLog[z_] := Log[Abs[z]] + I Arg[z]; *)\n",
    "arg[z_] := ArcTan[ComplexExpand[Im[z]]/ComplexExpand[Re[z]]];\n",
    "(* abs[z_] := ComplexExpand[Abs[z]]; *)"
   ]
  },
  {
   "cell_type": "markdown",
   "metadata": {},
   "source": [
    "Применяя его к antiderivative4[u, r], мы получаем действительное выражение, состоящее из двух слагаемых одно без $\\tan^{-1}$, а второе, включающее $\\tan^{-1}$:"
   ]
  },
  {
   "cell_type": "code",
   "execution_count": null,
   "metadata": {
    "vscode": {
     "languageId": "wolfram"
    }
   },
   "outputs": [],
   "source": [
    "antiderivative4s[u_, r_] =\n",
    "  Simplify[\n",
    "    ComplexExpand[\n",
    "      Re[antiderivative4[u, r]]\n",
    "    ] /. Arg -> arg,\n",
    "    {{u, r} ∈ Reals, u > 0, r > r1[u]}\n",
    "  ];\n",
    "\n",
    "antiderivative4s[u_, r_] =\n",
    "  Sqrt[2 Sqrt[r] - u^2 + r u^2] * Simplify[\n",
    "    Expand[\n",
    "      (antiderivative4s[u, r] /. ArcTan[x_] -> 0) /\n",
    "      Sqrt[2 Sqrt[r] - u^2 + r u^2]\n",
    "    ],\n",
    "    {{u, r} ∈ Reals, u > 0, r > 0}\n",
    "  ] -\n",
    "  Cases[antiderivative4s[u, r],\n",
    "    coeff_.*ArcTan[arg_] :> coeff*ArcTan[arg], ∞][[2]] /\n",
    "  (12 * r^3 * u^7)"
   ]
  },
  {
   "cell_type": "markdown",
   "metadata": {},
   "source": [
    "### График первообразной $\\tilde{I}_4(u_i, r)$:"
   ]
  },
  {
   "cell_type": "code",
   "execution_count": null,
   "metadata": {
    "vscode": {
     "languageId": "wolfram"
    }
   },
   "outputs": [],
   "source": [
    "rules = {\n",
    "  eqr1[u, r] -> 0,\n",
    "  ArcTan[x_] -> -Pi/2\n",
    "};\n",
    "\n",
    "PlotAntiderivative[u_] := Module[\n",
    "  {points, antiderivative, r1Value},\n",
    "\n",
    "  r1Value = r1[u]*(1.0+10^-12);\n",
    "  antiderivative =\n",
    "    If[r == r1Value,\n",
    "      antiderivative4s[u, r] /. rules,\n",
    "      antiderivative4s[u, r]\n",
    "    ];\n",
    "\n",
    "  points = {{r1Value, Re[antiderivative /. r -> r1Value]}};\n",
    "\n",
    "  plotLabel = \"u = \" <> ToString[u];\n",
    "\n",
    "  Show[\n",
    "    Plot[\n",
    "      antiderivative,\n",
    "      {r, r1Value, r1Value*2.1},\n",
    "      PlotLabel -> plotLabel,\n",
    "      PlotRange -> All,\n",
    "      AxesLabel -> {\"r\", \"antiderivative4s\"},\n",
    "      ScalingFunctions -> {\"SignedLog\", \"SignedLog\"}\n",
    "    ],\n",
    "    ListPlot[\n",
    "      points,\n",
    "      PlotRange -> All,\n",
    "      PlotStyle -> {Red, PointSize[Large]},\n",
    "      ScalingFunctions -> {\"SignedLog\", \"SignedLog\"}\n",
    "    ]\n",
    "  ]\n",
    "]\n",
    "\n",
    "plots = {PlotAntiderivative[3], PlotAntiderivative[0.1], PlotAntiderivative[5*10.0^-2]};\n",
    "GraphicsRow[plots]"
   ]
  },
  {
   "cell_type": "markdown",
   "metadata": {},
   "source": [
    "## Определённый интеграл, возьмём как разницу первообразных по теореме Ньютона-Лейбница,\n",
    "$$\n",
    "  I_{4,1}(u) = \\int_{r_1}^{\\infty} f_4(u, r) \\, dr = \\tilde{I}_{4}(u, \\infty) - \\tilde{I}_{4}(u, r_1(u)):\n",
    "$$"
   ]
  },
  {
   "cell_type": "markdown",
   "metadata": {},
   "source": [
    "Найдём $\\tilde{I}_{4}(u, \\infty)$:"
   ]
  },
  {
   "cell_type": "code",
   "execution_count": null,
   "metadata": {
    "vscode": {
     "languageId": "wolfram"
    }
   },
   "outputs": [],
   "source": [
    "integral4Inf[u_] = Limit[\n",
    "  antiderivative4s[u, r],\n",
    "  r -> Infinity,\n",
    "  Assumptions -> {u ∈ Reals, u > 0}\n",
    "];\n",
    "\n",
    "integral4Infs[u_] = Simplify[\n",
    "  ComplexExpand[\n",
    "    Re[integral4Inf[u]]\n",
    "  ] /. Arg -> arg,\n",
    "  {{u, r} ∈ Reals, u > 0, r > r1[u]}\n",
    "]"
   ]
  },
  {
   "cell_type": "markdown",
   "metadata": {},
   "source": [
    "Найдём $\\tilde{I}_{4}(r_1(u))$, при этом заметим, что $2\\sqrt{r} - u^2 + r u^2 = 0$, и $\\mathrm{arctan}(-\\infty) = -\\frac{\\pi}{2}$:"
   ]
  },
  {
   "cell_type": "code",
   "execution_count": null,
   "metadata": {
    "vscode": {
     "languageId": "wolfram"
    }
   },
   "outputs": [],
   "source": [
    "integral4r1[u_] = antiderivative4s[u, r] /. rules"
   ]
  },
  {
   "cell_type": "markdown",
   "metadata": {},
   "source": [
    "### Графики функций $\\tilde{I}_{4}(u, r_i)$:"
   ]
  },
  {
   "cell_type": "code",
   "execution_count": null,
   "metadata": {
    "vscode": {
     "languageId": "wolfram"
    }
   },
   "outputs": [],
   "source": [
    "Plot[\n",
    "  {\n",
    "    N[antiderivative4s[u, 1]],\n",
    "    N[antiderivative4s[u, 10^2]],\n",
    "    N[antiderivative4s[u, 10^5]],\n",
    "    N[antiderivative4s[u, 10^10]],\n",
    "    N[integral4Infs[u]]\n",
    "  },\n",
    "  {u, 0, 1000},\n",
    "  AxesLabel -> {\"u\", \"antiderivative4\"},\n",
    "  PlotLegends -> {\n",
    "    \"antiderivative4s[r=1]\",\n",
    "    \"antiderivative4s[r=10^2]\",\n",
    "    \"antiderivative4s[r=10^5]\",\n",
    "    \"antiderivative4s[r=10^10]\",\n",
    "    \"antiderivative4s[r=Infinity]\"\n",
    "  },\n",
    "  ScalingFunctions -> {\"SignedLog\", \"SignedLog\"}\n",
    "]"
   ]
  },
  {
   "cell_type": "code",
   "execution_count": null,
   "metadata": {
    "vscode": {
     "languageId": "wolfram"
    }
   },
   "outputs": [],
   "source": [
    "Plot[\n",
    "  {\n",
    "    N[Re[antiderivative4s[u, r1[u]+10^-2]]],\n",
    "    N[Re[antiderivative4s[u, r1[u]+10^-4]]],\n",
    "    N[Re[antiderivative4s[u, r1[u]+10^-5]]],\n",
    "    N[Re[antiderivative4s[u, r1[u]+1.35*10^-6]]],\n",
    "    N[Re[antiderivative4s[u, r1[u]+10^-7]]],\n",
    "    N[Re[antiderivative4s[u, r1[u]+10^-10]]],\n",
    "    N[Re[antiderivative4s[u, r1[u]+10^-12]]],\n",
    "    N[integral4r1[u]]\n",
    "  },\n",
    "  {u, 0.0, 100},\n",
    "  AxesLabel -> {\"u\", \"antiderivative4\"},\n",
    "  PlotLegends -> {\n",
    "    \"antiderivative4s[r=r1[u]+10^{-2}]\",\n",
    "    \"antiderivative4s[r=r1[u]+10^{-4}]\",\n",
    "    \"antiderivative4s[r=r1[u]+10^{-5}]\",\n",
    "    \"antiderivative4s[r=r1[u]+1.35*10^-6]\",\n",
    "    \"antiderivative4s[r=r1[u]+10^{-7}]\",\n",
    "    \"antiderivative4s[r=r1[u]+10^{-10}]\",\n",
    "    \"antiderivative4s[r=r1[u]+10^{-12}]\",\n",
    "    \"antiderivative4s[r=r1[u]]\"\n",
    "    },\n",
    "  PlotRange -> All,\n",
    "  ScalingFunctions -> {\"Log\", \"SignedLog\"}\n",
    "]"
   ]
  },
  {
   "cell_type": "markdown",
   "metadata": {},
   "source": [
    "## Итоговый ответ для $I_4(u)$:"
   ]
  },
  {
   "cell_type": "code",
   "execution_count": null,
   "metadata": {
    "vscode": {
     "languageId": "wolfram"
    }
   },
   "outputs": [],
   "source": [
    "I4[u_] = Simplify[Collect[Simplify[integral4Infs[u] - integral4r1[u], {u ∈ Reals, u > 0}], (425 + 366*u^4 + 37*u^8)]]"
   ]
  },
  {
   "cell_type": "code",
   "execution_count": null,
   "metadata": {
    "vscode": {
     "languageId": "wolfram"
    }
   },
   "outputs": [],
   "source": [
    "TeXForm[I4[u]]"
   ]
  },
  {
   "cell_type": "markdown",
   "metadata": {},
   "source": [
    "## Сравнение Integrate и аналитической $I_4(u)$"
   ]
  },
  {
   "cell_type": "code",
   "execution_count": null,
   "metadata": {
    "vscode": {
     "languageId": "wolfram"
    }
   },
   "outputs": [],
   "source": [
    "Show[\n",
    "  Plot[\n",
    "    N[I4[u]],\n",
    "    {u, 0, 100},\n",
    "    PlotLabel -> Subscript[\"I\", 4][u],\n",
    "    AxesLabel -> {\"u\", Subscript[\"I\", 4]},\n",
    "    PlotLegends -> {Subscript[\"I\", 4][u]},\n",
    "    ScalingFunctions -> {\"SignedLog\", \"SignedLog\"}\n",
    "  ],\n",
    "  ListPlot[\n",
    "    points,\n",
    "    (* Joined -> True, *)\n",
    "    Mesh -> All,\n",
    "    PlotStyle -> {Red, Dashed},\n",
    "    PlotLegends -> {Subscript[\"Integrate I\", 4][u]},\n",
    "    ScalingFunctions -> {\"SignedLog\", \"SignedLog\"}\n",
    "  ]\n",
    "]"
   ]
  },
  {
   "cell_type": "code",
   "execution_count": null,
   "metadata": {
    "vscode": {
     "languageId": "wolfram"
    }
   },
   "outputs": [],
   "source": [
    "points01 = Table[{u, N[Integrate[integrand4[u, r], {r, r1[u], Infinity}]]}, {u, 0.02, 1, 0.05}];\n",
    "Show[\n",
    "  Plot[\n",
    "    N[I4[u]],\n",
    "    {u, 0, 1},\n",
    "    PlotLabel -> Subscript[\"I\", 4][u],\n",
    "    AxesLabel -> {\"u\", Subscript[\"I\", 4]},\n",
    "    PlotLegends -> {Subscript[\"I\", 4][u]},\n",
    "    ScalingFunctions -> {\"SignedLog\", \"SignedLog\"}\n",
    "  ],\n",
    "  ListPlot[\n",
    "    points01,\n",
    "    (* Joined -> True, *)\n",
    "    Mesh -> All,\n",
    "    PlotStyle -> {Red, Dashed},\n",
    "    PlotLegends -> {Subscript[\"Integrate I\", 4][u]},\n",
    "    ScalingFunctions -> {\"SignedLog\", \"SignedLog\"}\n",
    "  ]\n",
    "]"
   ]
  },
  {
   "cell_type": "markdown",
   "metadata": {},
   "source": [
    "$$I_1 = \\hat{r}_2 \\left[ 120\\hat{r}_2^{(1)}\\omega^2\\omega^{(1)} - 5\\hat{r}_2^{(1)}\\omega^{(3)} - 16\\hat{r}_2\\omega^5 - 10\\hat{r}_2^{(2)}\\omega^{(2)} + 60\\hat{r}_2\\omega(\\omega^{(1)})^2\n",
    "- 10\\hat{r}_2^{(3)}\\omega^{(1)} + 40\\hat{r}_2^{(2)}\\omega^3 - 5\\hat{r}_2^{(4)}\\omega - \\hat{r}_2\\omega^{(4)} + 40\\hat{r}_2\\omega^2\\omega^{(2)} \\right]$$"
   ]
  },
  {
   "cell_type": "markdown",
   "metadata": {},
   "source": [
    "$$I_2 = 2\\hat{r}_2 \\left[ -40\\hat{r}_2\\omega^3\\omega^{(1)} - 20\\omega^4\\hat{r}_2^{(1)} + 5\\hat{r}_2\\omega\\omega^{(3)} + 10\\hat{r}_2\\omega^{(1)}\\omega^{(2)} + 10\\omega^2\\hat{r}_2^{(3)} + 30\\omega\\omega^{(1)}\\hat{r}_2^{(2)} + 20\\omega\\omega^{(2)}\\hat{r}_2^{(1)} + 15\\hat{r}_2^{(1)}(\\omega^{(1)})^2 - \\frac{1}{3}\\hat{r}_2^{(5)} \\right]$$"
   ]
  }
 ],
 "metadata": {
  "kernelspec": {
   "display_name": "Wolfram Language 14.1",
   "language": "Wolfram Language",
   "name": "wolframlanguage14.1"
  },
  "language_info": {
   "codemirror_mode": "mathematica",
   "file_extension": ".m",
   "mimetype": "application/vnd.wolfram.m",
   "name": "Wolfram Language",
   "pygments_lexer": "mathematica",
   "version": "12.0"
  }
 },
 "nbformat": 4,
 "nbformat_minor": 2
}
