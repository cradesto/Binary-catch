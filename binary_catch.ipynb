{
 "cells": [
  {
   "cell_type": "markdown",
   "metadata": {},
   "source": [
    "# Binary catch\n",
    "\n",
    "**При каких условиях два тела, налетающие друг на друга с бесконечности (в системе центра масс) станут связной системой из-за испускания гравволн?**"
   ]
  },
  {
   "cell_type": "code",
   "execution_count": 28,
   "metadata": {
    "vscode": {
     "languageId": "wolfram"
    }
   },
   "outputs": [
    {
     "name": "stdout",
     "output_type": "stream",
     "text": [
      "  (CleanSlate) Contexts purged: {Global`}\n",
      "  (CleanSlate) Approximate kernel memory recovered: 8 Kb\n"
     ]
    }
   ],
   "source": [
    "(* https://mathematica.stackexchange.com/questions/850/how-do-i-clear-all-user-defined-symbols/861#861 *)\n",
    "<< Utilities`CleanSlate`\n",
    "CleanSlate[];\n",
    "\n",
    "ClearAll[\"Global`*\"]\n",
    "(* ClearSystemCache[] *)\n",
    "(* https://mathematica.stackexchange.com/questions/111605/quit-vs-clearallglobal *)\n",
    "if[Length[Names[\"Global`*\"]] > 0, Remove[\"Global`*\"]];\n",
    "\n",
    "(* PacletInstall[\n",
    "    \"TensorSimplify\",\n",
    "\n",
    "    \"Site\" -> \"http://raw.githubusercontent.com/carlwoll/TensorSimplify/master\"\n",
    "]; *)\n",
    "<<TensorSimplify`"
   ]
  },
  {
   "cell_type": "markdown",
   "metadata": {},
   "source": [
    "## Einstein Summation"
   ]
  },
  {
   "cell_type": "code",
   "execution_count": 37,
   "metadata": {
    "vscode": {
     "languageId": "wolfram"
    }
   },
   "outputs": [],
   "source": [
    "ClearAll@EinsteinSummation\n",
    "\n",
    "EinsteinSummation[in_List, arrays_] := Module[\n",
    "  {res =\n",
    "    isum[in -> Cases[Tally @ Flatten @ in, {_, 1}][[All, 1]], arrays]},\n",
    "  res /; res =!= $Failed\n",
    "  ]\n",
    "\n",
    "EinsteinSummation[in_List -> out_, arrays_] := Module[\n",
    "  {res = isum[in -> out, arrays]},\n",
    "  res /; res =!= $Failed\n",
    "  ]\n",
    "\n",
    "isum[in_List -> out_, arrays_List] := Catch@Module[\n",
    "  {indices, contracted, uncontracted, contractions, transpose},\n",
    "  If[Length[in] != Length[arrays],\n",
    "    Message[EinsteinSummation::length, Length[in], Length[arrays]];\n",
    "    Throw[$Failed]];\n",
    "  MapThread[\n",
    "    If[IntegerQ@TensorRank[#1] && Length[#1] != TensorRank[#2],\n",
    "      Message[EinsteinSummation::shape, #1, #2];\n",
    "      Throw[$Failed]] &, {in, arrays}];\n",
    "  indices = Tally[Flatten[in, 1]];\n",
    "  If[DeleteCases[indices, {_, 1 | 2}] =!= {},\n",
    "    Message[EinsteinSummation::repeat,\n",
    "      Cases[indices, {x_, Except[1 | 2]} :> x]];\n",
    "    Throw[$Failed]];\n",
    "  uncontracted = Cases[indices, {x_, 1} :> x];\n",
    "  If[Sort[uncontracted] =!= Sort[out],\n",
    "    Message[EinsteinSummation::output, uncontracted, out];\n",
    "    Throw[$Failed]];\n",
    "  contracted = Cases[indices, {x_, 2} :> x];\n",
    "  contractions = Flatten[Position[Flatten[in, 1], #]] & /@ contracted;\n",
    "  transpose = FindPermutation[uncontracted, out];\n",
    "  Activate@\n",
    "    TensorTranspose[\n",
    "      TensorContract[Inactive[TensorProduct] @@ arrays, contractions],\n",
    "    transpose]]\n",
    "\n",
    "EinsteinSummation::length =\n",
    "  \"Number of index specifications (`1`) does not match the number of \\\n",
    "tensors (`2`)\";\n",
    "EinsteinSummation::shape =\n",
    "  \"Index specification `1` does not match the tensor rank of `2`\";\n",
    "EinsteinSummation::repeat =\n",
    "  \"Index specifications `1` are repeated more than twice\";\n",
    "EinsteinSummation::output =\n",
    "  \"The uncontracted indices don't match the desired output\";"
   ]
  },
  {
   "cell_type": "code",
   "execution_count": 45,
   "metadata": {
    "vscode": {
     "languageId": "wolfram"
    }
   },
   "outputs": [],
   "source": [
    "(* Правила для скрытия аргументов в TraditionalForm *)\n",
    "\n",
    "Unprotect[Subscript, OverHat, Derivative];\n",
    "\n",
    "MakeBoxes[OverHat[r_][OverHat[t]], TraditionalForm] :=\n",
    "  MakeBoxes[OverHat[r], TraditionalForm]\n",
    "\n",
    "MakeBoxes[\\[Phi][OverHat[t]], TraditionalForm] :=\n",
    "  MakeBoxes[\\[Phi], TraditionalForm]\n",
    "\n",
    "MakeBoxes[Subscript[OverHat[r], n_][OverHat[t]], TraditionalForm] :=\n",
    "  SubscriptBox[OverscriptBox[\"r\", \"^\"], ToString[n]];\n",
    "\n",
    "MakeBoxes[OverHat[\\[Omega]][OverHat[t]], TraditionalForm] :=\n",
    "  OverscriptBox[\"\\[Omega]\", \"^\"];\n",
    "\n",
    "MakeBoxes[Derivative[n_][f_][OverHat[t]], TraditionalForm] := Module[{primes},\n",
    "  primes = StringJoin[Table[\"\\[Prime]\", n]];\n",
    "  SuperscriptBox[ToBoxes[f], primes]\n",
    "];\n",
    "\n",
    "Protect[Subscript, OverHat, Derivative];"
   ]
  },
  {
   "cell_type": "markdown",
   "metadata": {},
   "source": [
    "$\\hat{r}_k$"
   ]
  },
  {
   "cell_type": "code",
   "execution_count": 54,
   "metadata": {
    "vscode": {
     "languageId": "wolfram"
    }
   },
   "outputs": [
    {
     "data": {
      "text/html": [
       "<div><img alt=\"Output\" src=\"data:image/png;base64,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\"></div>"
      ],
      "text/plain": [
       "FormBox[TagBox[RowBox[{\"(\", \"⁠\", \n",
       "\n",
       " \n",
       ">         TagBox[GridBox[{{RowBox[{OverscriptBox[\"r\", \"^\"], \" \", \n",
       "\n",
       " \n",
       ">               RowBox[{\"cos\", \"(\", \"ϕ\", \")\"}]}]}, \n",
       "\n",
       " \n",
       ">            {RowBox[{OverscriptBox[\"r\", \"^\"], \" \", RowBox[{\"sin\", \"(\", \"ϕ\", \")\"}]}]}}, \n",
       "\n",
       " \n",
       ">           Rule[RowSpacings, 1], Rule[ColumnAlignments, Center], \n",
       "\n",
       " \n",
       ">           Rule[ColumnAlignments, Left]], Column], \"⁠\", \")\"}], \n",
       "\n",
       " \n",
       ">       Function[BoxForm`e$, MatrixForm[BoxForm`e$]]], TraditionalForm]\n"
      ]
     },
     "execution_count": 54,
     "metadata": {
      "text/html": [],
      "text/plain": []
     },
     "output_type": "execute_result"
    }
   ],
   "source": [
    "rh = {OverHat[r][OverHat[t]]*Cos[\\[Phi][OverHat[t]]], OverHat[r][OverHat[t]]*Sin[\\[Phi][OverHat[t]]]};\n",
    "rh // MatrixForm // TraditionalForm"
   ]
  },
  {
   "cell_type": "code",
   "execution_count": 55,
   "metadata": {
    "vscode": {
     "languageId": "wolfram"
    }
   },
   "outputs": [],
   "source": [
    "$Assumptions = {\n",
    "  {OverHat[r][OverHat[t]], OverHat[t], rh, Subscript[OverHat[r],2][OverHat[t]]} \\[Element] PositiveReals\n",
    "};"
   ]
  },
  {
   "cell_type": "markdown",
   "metadata": {},
   "source": [
    "## Система движения в декартовых координатах\n",
    "$$\n",
    "\\frac{d^2r_k}{dt^2} = -\\frac{G(m_A+m_B)}{r^3}r_k - \\frac{2}{5}f_{ki}^{(5)}r_i\n",
    "$$\n",
    "\n",
    "Ч.Мизнер, К.Торн, Дж.Уилер Гравтация, Т.3 (36.8)"
   ]
  },
  {
   "cell_type": "markdown",
   "metadata": {},
   "source": [
    "Введём обозначения для масс\n",
    "\n",
    "$$\n",
    "M=m_A+m_B; \\quad\n",
    "\\mu = m_{AB} = \\frac{m_A m_B}{M}\n",
    "$$"
   ]
  },
  {
   "cell_type": "markdown",
   "metadata": {},
   "source": [
    "### Безразмерные единицы\n",
    "$$\n",
    "\\begin{align}\n",
    "r &= b\\hat{r} \\\\\n",
    "t &= t_0\\hat{t} \\\\\n",
    "f_{ij} &= b^2\\frac{G}{c^5}\\mu\\hat{f}_{ij} \\\\\n",
    "f_{ij}^{(5)} &= \\frac{b^2}{t_0^5}\\frac{G}{c^5}\\mu\\hat{f}_{ij}^{(5)}\n",
    "\\end{align}\n",
    "$$"
   ]
  },
  {
   "cell_type": "markdown",
   "metadata": {},
   "source": [
    "$\\hat{f}_{ki}$"
   ]
  },
  {
   "cell_type": "code",
   "execution_count": 67,
   "metadata": {
    "vscode": {
     "languageId": "wolfram"
    }
   },
   "outputs": [
    {
     "data": {
      "text/html": [
       "<div><img alt=\"Output\" src=\"data:image/png;base64,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\"></div>"
      ],
      "text/plain": [
       "FormBox[TagBox[RowBox[{\"(\", \"⁠\", \n",
       "\n",
       " \n",
       ">         GridBox[{{RowBox[{FractionBox[\"1\", \"6\"], \" \", \n",
       "\n",
       " \n",
       ">              SuperscriptBox[OverscriptBox[\"r\", \"^\"], \"2\"], \" \", \n",
       "\n",
       " \n",
       ">              RowBox[{\"(\", RowBox[{RowBox[{\"3\", \" \", \n",
       "\n",
       " \n",
       ">                    RowBox[{\"cos\", \"(\", RowBox[{\"2\", \" \", \"ϕ\"}], \")\"}]}], \"+\",\\\n",
       " \n",
       ">    \"1\"}]\\\n",
       ", \")\"}]}], RowBox[{SuperscriptBox[OverscriptBox[\"r\", \"^\"], \"2\"], \" \", \n",
       "\n",
       " \n",
       ">              RowBox[{\"sin\", \"(\", \"ϕ\", \")\"}], \" \", RowBox[{\"cos\", \"(\", \"ϕ\", \")\"}]}]}, \n",
       "\n",
       " \n",
       ">           {RowBox[{SuperscriptBox[OverscriptBox[\"r\", \"^\"], \"2\"], \" \", \n",
       "\n",
       " \n",
       ">              RowBox[{\"sin\", \"(\", \"ϕ\", \")\"}], \" \", RowBox[{\"cos\", \"(\", \"ϕ\", \")\"}]}], \n",
       "\n",
       " \n",
       ">            RowBox[{FractionBox[\"1\", \"3\"], \" \", \n",
       "\n",
       " \n",
       ">              SuperscriptBox[OverscriptBox[\"r\", \"^\"], \"2\"], \" \", \n",
       "\n",
       " \n",
       ">              RowBox[{\"(\", RowBox[{RowBox[{\"3\", \" \", \n",
       "\n",
       " \n",
       ">                    RowBox[{SuperscriptBox[\"sin\", \"2\"], \"(\", \"ϕ\", \")\"}]}], \"-\", \"1\"}], \n",
       "\n",
       " \n",
       ">                \")\"}]}]}}, Rule[RowSpacings, 1], Rule[ColumnSpacings, 1], \n",
       "\n",
       " \n",
       ">          Rule[RowAlignments, Baseline], Rule[ColumnAlignments, Center]], \"⁠\", \")\"}], \n",
       "\n",
       " \n",
       ">       Function[BoxForm`e$, MatrixForm[BoxForm`e$]]], TraditionalForm]\n"
      ]
     },
     "execution_count": 67,
     "metadata": {
      "text/html": [],
      "text/plain": []
     },
     "output_type": "execute_result"
    }
   ],
   "source": [
    "fh = Simplify[Array[rh[[#]]*rh[[#2]] - 1/3*KroneckerDelta[#, #2]*(OverHat[r][OverHat[t]])^2 &, {2, 2}], Trig -> True];\n",
    "fh // MatrixForm // TraditionalForm"
   ]
  },
  {
   "cell_type": "markdown",
   "metadata": {},
   "source": [
    "$\\hat{f}_{ki}^{(5)}$"
   ]
  },
  {
   "cell_type": "code",
   "execution_count": 71,
   "metadata": {
    "vscode": {
     "languageId": "wolfram"
    }
   },
   "outputs": [
    {
     "data": {
      "text/html": [
       "<div><img alt=\"Output\" src=\"data:image/png;base64,iVBORw0KGgoAAAANSUhEUgAAAKUAAABWCAIAAAAhT8E6AAAAz3pUWHRSYXcgcHJvZmlsZSB0eXBlIGV4aWYAAHjabU/tbUQhDPvPFDdCPsCBcXh3nNQNOv6ZB2pFVUskxnECSeP7650eE6aScomKBgiRW27WSaosrKzS7nijl13TU08FW++Uym8BY+vXqcf2W/0zSGwRny+Qe94Ne5Db0rWv+7X91ms9B7kcaPLz9X/v2cNQoJEZs0kEGnlNpEwoJiXwxhOgUfEyyU/mgQi2IabD+2ycsBGneyQ4hddcwecp3pmdUZ0bMfqtKKO72rWr9yLpA1pPWq1fVe/UAAAACXBIWXMAABYlAAAWJQFJUiTwAAAAPHRFWHRTb2Z0d2FyZQBDcmVhdGVkIHdpdGggdGhlIFdvbGZyYW0gTGFuZ3VhZ2UgOiB3d3cud29sZnJhbS5jb21coqaFAAAAIXRFWHRDcmVhdGlvbiBUaW1lADIwMjU6MDM6MTAgMTM6MDE6MzF61lquAAARS0lEQVR4Xu2dedRO1RfHkSakUaGSqZKiTJXSQpRh0YRSooXKmJWV0rRKKKo/imS2CLWaVTRZKk0aaaSWoRAypAklGn4faz+/8973Pve5d9/73unhuX+8632eZ59z9j77nH322Wef7y3933//lcq356OPPvr444+F6z///HPXrl133nlnvgnhzW8kYqLv/Hr+/fff0047zdpb77//fn6JoOE2IjHLeA+zFFD8888/zOC3334bXl577bX999//3f8/H3744TnnnMP3kyZNmjlzZgqYDc7Chg0brrjiCoR1EfPaa6/95ptvgrfhMtb+/vtv5Uj8448/MKoa4mA0CNmlSxcp27Jly759+37//fe2quChXr16EyZMCNaEZykmXKRibt26tUaNGk8//bS7mIzvo48+esWKFS4MM2Jy/Voq1w/Mn379+nn2AgQ333wzw+2oo45at26dht4vzcSJE0888cTff/+dgosXLzZDu2HDhu+99561tm+//faII46wfem3uVz0kYqJhi688MIbbrhBWncX86GHHmJF2759ey5WV61adc011/z222/ZBM76njVrVrNmzaSL3Z+XX365dOnSooPzzjtPaRK8ai36nVl1+OGHY6vlq6+++mrIkCHnnnvuQQcdJI3aJvT111+PAdDXr6SMWsz58+cjy88//6wUkz5xt2QLFiw4/fTT169fbxPQQd9PPfXUcccdh3nx7IsffvjhyCOPrF69+pdffjl48GA4vv322z1L+SJYtmwZ1WZ7ZJs3b27fvj0/lStXbu3atabOsWPHli9fPtxhF4OYw4YNO/bYY7N7JpeYTK3u3bu79+SMGTNOPvnkLVu2WMns+sYk0l8vvPCCp1boU2wAvhI8CTEj7oADDnj99dc9y+oJpk6dilIdTRNTv1u3bvz62GOPmQrffPNNvlmyZIm+CXfKeMTEmLdp08aRE0cxWWpr167tKWO7du2YFdRgKIvpmx/OPPPM5s2be1YEwe7du994442dO3daib/++uvly5driitpcM0cB74UFzOI625q+/HHH/lm2rRpyvo9yeIREzN544035mImW0zMGGJ6Lrh48qy2U6ZMMTUX248999xzxDFoWOPuly1b9vzzzz/wwAOtxKeeeiq+laa4kgaDIfsTx+f444/n+zp16phfGbL8z4ZNWb8nWWxiCufhiknPtG3b9u677yYqJTUX0/eoUaMqV6580UUXefZCNgHzYPTo0awr1apV69Onz6+//hqgkuwi7D3wYnJV9fzzz7P6MOwMgRBXqlQplNazKyHm1bNnT2TECjI9wmoFhv2KWaFCBeO0urCBA8u2vigyYWb60qVLKYYf72nisglQ9qWXXkrXY+F79+5NPYypAPVkF8HPpDY2GPzEDGjdujVr9ieffMLHNWvWsGHFK7GWeuaZZ/bbb7+ffvoplNZtlRDwwT2EAZYtuELebdu2hdIQWmnUqJFUpRGTaARdoWkaDrF27GiEuGj9xrVGhieeeEJTi42GPRJlH3zwQb6/4447WDPGjRsXoJ7sIoRxjjnmGLP36Nixo4xlQit4iwsXLrQVue666/B9QmnaVgmz5JBDDqlSpQrOI+Pp0EMPZTXBTobSFvOETjO+tLuYLHCs99ZV2Z2HFi1a0GMSoSrS99lnn823K1eu9CsAmzwMy8EHH7xjxw4pizH3W4kL/UsvvXTCCSds2rRJxj5znU2Eacta8NNPP8UwhuswmvoHDRpE/9x1113yDbG2v/76K0Qx2V/16NFDKnQX85577mHddAmi2bgaOnQonIsPm9E3bjaeEcbK6rsrhaF5quvQoYOSPgAZngGz2bYXsNXDsGO7+eKLLwao37MI2sV6IyZDypM4GAFmo1WrVvfff797cQKuBFIICehbIXoG58Ski/S9aNEivqpbt66+FkN5xhlnGGMeoLiyyLx58wjxuhCzCyf6pqzNLxkBCWSsWLGiflb5bQJ69vr4Pe7BIiIzjrbNpTkCzDBPCBaa0nt0XqoU/hue2gUXXCBbPc3DECFqTxR34MCB0BP7xeNgEnTu3FlTPC9omNY4gLA6e/ZsPEcW7BEjRvCRKFO4285Ie2P16tU4tqy5e3ZlMi5EjKuvvlo/Km+55RaWfI5JKMgmlf95ULa+hvRT4gqIXKIPIsfykTPZ9DNvOGTUCv/4QBl949byuX///n7F6NWrFwXPOussvwXziJ74vPTXq6++mkdsW1mVABTBtEy8hZ0An9lj+DUsklckGQd76yMysl9q2rRpnsqI5wHnaDmjb4m3aeI1VoFZvOX8al/QN85sgPmQkvEhmkXLxfTNMuyLP47lJeq7L+g7r2UUzZZU32LoCIZUrVrV10DJI2IGNHvufB/Tsn4X6Zs9nyxRvjSxLyzeHCmybOW7vkWzBA9KlJ+6L+hbZGTbedJJJ/maDOkkDq7vjRs3ykbFZWFjQHGmRDCHUCiUhDz5n7Bzdl+Qp/D444+L5eRh52NuFCTbccKGu2euYZ51gbA/0VDipiIRoS3ywOKWTnZpDRo0oOEHHnhAv7/kGIMiHNS4xP+IyZCmAxlq5gyRw3X+f+WVV2ytEPAjQeewww6rVasWP/E/Z5pk2uiZiY6SLFh4JiU0VxNK5u+77z6yAqmK4wapiqMdXJ/oOLfWLNFAjhkz8ZYA+pYrPFdddZU7x3v2fGXKkEPBYQCBPZ5cRzJEZKmQY9lbb71Vzhzj6QuXVnBwxLP1PHPTMM9RNOsCOSfSIql2Mr5jeELQN2m/dARG2JNdGUyeJ1cQQFa/fv1ws0s92XMhkBstdJZnJUrm5axBRs9nn32mzPD3bN2TwOg74PpNphx2DGN+8cUXe65AssBzZOtOKWTkCWHMPeuMh4Clh4YkYycU5jk1lpWbv+PHjxf1x/n40DcZ6SzwnDnCH0nH5DCR2Sinwi4PmxkZ+1yEcafEl4GABLE45c9uC1cRTUgcae7cuXgVHCt4sqRknrwiFgi6grwSeoaYnWfNIROIKdCs3yQd0DZmHGf7lFNOIf9Zk8fCgQq5TRRkVaYhtrPSIkbbmh/C96QdkuNBZIB1Do/3l19+8TRToROwoSDpA25lW8E/msQsF+ZtYsIwZ0tkDHAvUJLy4nmCrN9sHrC0nKQyOHAs8bxceP3iiy+4KvDII4/gokOGY8L4GDNmDCmwfGRoc5ZM7imZh48++uhbb72FGWd3J5kYw4cPx+5pLrhE0VmXX345PJCpj+ky2UuODTE43Jk3YhJ4NjXIRRwZ/bE9QfQNcxygkkbCyu3pUiEPUl122WWYfQqSxMhHFnspiGGQswcWMPKo6FnJXcEn5ySHGcb0iq0vbA1JzIAEB2yMOw9I4c68EfOmm24yVU2ePJnZ4nlVIFzxA+pbzwTrn20PY0u5wmiT1YrNJG5jNd3sxBxvD+mbjpPSk3kjpuEK+5GdVhs1zyX1zz2dCAK2towfiTaYB0tORhT5MKQb4xOZ75nfclibF48n80ZMEYeLrvhoLF5JSefDPw+XRYKLOPlkMYdbbdpqEzFZBBn93IVjIccnSJDJxPRNqIEbMQlKHk/TIiaJb0RPiayxePs9hAyXz8T0Ha4YKa+NS3ssXsqLmJHKUtB3pN2busoL+k6dSiJlqKDvSLs3dZUX9J06lUTKUEHfkXZv6iov6Dt1KomUoYK+I+3e1FVe0HfqVBIpQwV9R9q9qas8c/+bLEzSqUhfEZTQlD+RAIOnTGaOZQGONSBdH3zwwcMPP0zGQDA2SZ7nsn6J8lOjPsLLVX9EwOBJiZOrXcEZMA9QDCXhMMzzUPggb5e8hmBDT1MqDfjnMYjJSRpwHdIhgF0Bomhg3jlhk+/DwT/X5K/lGl+RAkVLo2nAP49aTPIkuXYpSTUk2ID9RR4R0Ay2btfgn2drKrT8lqiBomE9DfjnUYtJuipXEcjjE1UZ/DXubd922202qHNP/POo9B0DUHQa8M9jEBM8Fe7fGD2RFNu1a1fS3MSGMzttQI6e+Oc2lYcwv+MBik4c/zweMcEZdsRHBu5SsrvMqw9EkRr8c6vKQ9B3PEDRieOfxyAm6ZokvSCpo4dERhQX8EgDt/6qxD83RULwz+MBiuaGMPjnjhmM9BGYcYx9dpbGyeciBP8TS9C4/RqaGMQUdH7hPPsBNBIEMLL9BZNBHohZ8jHyGhGsNKHF1yLCw04c/9zWoVHgYQuGvDv+ORc2rOg6gWHew9E3Q48LMiNHjuRyM/DEZOURDPI79BzpU4V//s4773DpiZHN3on/sS4C9VHCR9Dac+Gfc3uLa4s2UHqIlfjnNt7C0Td7hjlz5hAroDu41I+lDQtxHlMGJPZ3330H3xg9wkyAQAoMBPePWPO40QNGtZGK1Y5LT02aNCmhDrKLszPmlhPXYrhNiIz8w7uv/CJaOXLF3GUzZt4iR0/CP1exZDAReAFeXwAwzQOxQX30J6ks6SWJt0SKh50e/PNI8bBJTWeqiC4IlQucEtcwGjduzH0z22bML/45dYbgnxvfL2o87DTgn0eNh83lSO7fmNdCcaOKGcwLHBw9dr/45yHrOwY87MTxz2PAwyZQimHnEq6jjs2XAfDPrfoOvn6TQE8Qn+Xz888/l9WUj88++6y/5URHDUI/F065i+VCDl41rQd72U6uapnWCMUjV9hZs7mxzEfrDlAngTcV98K5RygIIi4PASh63nYZz7t2QyEDh3WCbzzB9a1Dr4CH7T4RU/Url+/RL/umDD6TgKvce++9frks4GH77bFE6CUUj3HK2HO5p2mN4ChNxL4DsZjXeNiiWbRcTN+Cgqh/CnjY+r5KllI0W6RvCY8AMuGLrQIetq/uSpBYNEtUJzO/ieDw2UB7Kjkr4GErOypZMia3ZJuximf0Les5b3b2xdm+sHjvBXjYe15TU6oUpzIcRmT0Lf46kdGCvm09sBfgYYtaCebgcmb0Tf45MVuBVFOqXIOHrawqzWQaPOw08w9vvDmUv3K+ktE3eXEcmfDiOlSu5F6iXUCo8nrDXEWU+OfglBFa4pF6WFbIvva7WVCy7ZdM9G195bStBiXzCeKfy9uMMxDuZvsvbxV98sknlQEBDR62Bv+cBRIcPkwNB7rypkRitHAyffp0JSfRkXniYeuZTxD/nExI+lPeBFz0fmDB2udl5sruU+JhK/HPBZxVRhu9TNIEwSAlJ9GRKfGwlcwngn9OjIQcIYy59FKRvvmAZSblXfOKYHZurPcYc1tqtGPXa/DP8SHJyjPo+Z06dcLLiE6RyprF5qFOd3o98/Hjnws4tUH9LaZvsl/5DRBoR/EAN+VARQ7sBP6ZpAtNxw0YMABiUnDciTkgIiAADT6E52sTNO0GoyF5iAVF3gMMFiJJBxqsUyXzvHjU9D4550uXLg3GpL4UVxcAgTTTspi+mdnMRWviu7XeYHjYGDE5vMt+bYmNaYHYZZnh9hBnrHqRQqQMhocNA0rm6Q1SoEjJ4kT1yiuvDJFzx6qAsMUxYviaX4vpm2+BsyfK6qgbX3jYpgEl/jn0JAGib+Am+/TpE3VHuNSvx8O2VpKL+WTxzy+55JLWrVtbF2i7vpGB83zCbY4gxXo8bCX+uRUYnI0Ng5HRRisJ6luPh21l0pH5ZPHPcX5r1qxJmMTKp4O++ZmDcXac2ZcT9WpQ4p9bgcGpHG+RS7D6VlJFmc18gvjn3C2tV69edgacs77pR9KD8LMCd6ge/9w0wXpBurFmdxCYq+gK5mI+EfxzAmo4vI4viMipb7rG+n6R0HuKt2/xQiJjQvDe8RM9XykQOhuhVOjCvE1M7jaTpR9Koy6VcBqWa9q46TtStsjaZ+zDGXseXCSiN9a1PNKmw6pcw7yICXAKJ1L4oezBkjVgielbOh3hecVBly5dzHuLwlJGDPXomcd7J3zt8lLKGLiVJv4H/7Nond0hVLoAAAAASUVORK5CYII=\"></div>"
      ],
      "text/plain": [
       "FormBox[TagBox[RowBox[{\"(\", \"⁠\", \n",
       "\n",
       " \n",
       ">         GridBox[{{TemplateBox[List[SubscriptBox[OverscriptBox[\"f\", \"^\"], \n",
       "\n",
       " \n",
       ">               RowBox[List[\"x\", \",\", \"x\"]]], \"\\\"(5)\\\"\"], \"Superscript\", \n",
       "\n",
       " \n",
       ">             Rule[SyntaxForm, SuperscriptBox]], \n",
       "\n",
       " \n",
       ">            TemplateBox[List[SubscriptBox[OverscriptBox[\"f\", \"^\"], \n",
       "\n",
       " \n",
       ">               RowBox[List[\"x\", \",\", \"y\"]]], \"\\\"(5)\\\"\"], \"Superscript\", \n",
       "\n",
       " \n",
       ">             Rule[SyntaxForm, SuperscriptBox]]}, \n",
       "\n",
       " \n",
       ">           {TemplateBox[List[SubscriptBox[OverscriptBox[\"f\", \"^\"], \n",
       "\n",
       " \n",
       ">               RowBox[List[\"x\", \",\", \"y\"]]], \"\\\"(5)\\\"\"], \"Superscript\", \n",
       "\n",
       " \n",
       ">             Rule[SyntaxForm, SuperscriptBox]], \n",
       "\n",
       " \n",
       ">            TemplateBox[List[SubscriptBox[OverscriptBox[\"f\", \"^\"], \n",
       "\n",
       " \n",
       ">               RowBox[List[\"y\", \",\", \"y\"]]], \"\\\"(5)\\\"\"], \"Superscript\", \n",
       "\n",
       " \n",
       ">             Rule[SyntaxForm, SuperscriptBox]]}}, Rule[RowSpacings, 1], \n",
       "\n",
       " \n",
       ">          Rule[ColumnSpacings, 1], Rule[RowAlignments, Baseline], \n",
       "\n",
       " \n",
       ">          Rule[ColumnAlignments, Center]], \"⁠\", \")\"}], \n",
       "\n",
       " \n",
       ">       Function[BoxForm`e$, MatrixForm[BoxForm`e$]]], TraditionalForm]\n"
      ]
     },
     "execution_count": 71,
     "metadata": {
      "text/html": [],
      "text/plain": []
     },
     "output_type": "execute_result"
    }
   ],
   "source": [
    "(* fh5 = Array[Superscript[Subscript[OverHat[f], {x, y}[[#1]], {x, y}[[#2]]], \"(5)\"] &, {2, 2}] *)\n",
    "(* Symmetric version *)\n",
    "fh5 = Array[If[#1 <= #2,\n",
    "                    Superscript[Subscript[OverHat[f], {x, y}[[#1]], {x, y}[[#2]]], \"(5)\"],\n",
    "                    Superscript[Subscript[OverHat[f], {x, y}[[#2]], {x, y}[[#1]]], \"(5)\"]] &, {2, 2}];\n",
    "fh5 // MatrixForm // TraditionalForm"
   ]
  },
  {
   "cell_type": "markdown",
   "metadata": {},
   "source": [
    "$\\hat{f}_{ki}^{(5)}\\hat{r}_i$"
   ]
  },
  {
   "cell_type": "code",
   "execution_count": 73,
   "metadata": {
    "vscode": {
     "languageId": "wolfram"
    }
   },
   "outputs": [
    {
     "data": {
      "text/html": [
       "<div><img alt=\"Output\" src=\"data:image/png;base64,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\"></div>"
      ],
      "text/plain": [
       "FormBox[TagBox[RowBox[{\"(\", \"⁠\", \n",
       "\n",
       " \n",
       ">         TagBox[GridBox[{{RowBox[{RowBox[{OverscriptBox[\"r\", \"^\"], \" \", \n",
       "\n",
       " \n",
       ">                 RowBox[{\"sin\", \"(\", \"ϕ\", \")\"}], \" \", \n",
       "\n",
       " \n",
       ">                 TemplateBox[List[SubscriptBox[OverscriptBox[\"f\", \"^\"], \n",
       "\n",
       " \n",
       ">                    RowBox[List[\"x\", \",\", \"y\"]]], \"\\\"(5)\\\"\"], \"Superscript\", \n",
       "\n",
       " \n",
       ">                  Rule[SyntaxForm, SuperscriptBox]]}], \"+\", \n",
       "\n",
       " \n",
       ">               RowBox[{OverscriptBox[\"r\", \"^\"], \" \", RowBox[{\"cos\", \"(\", \"ϕ\", \")\"}], \n",
       "\n",
       " \n",
       ">                 \" \", TemplateBox[List[SubscriptBox[OverscriptBox[\"f\", \"^\"], \n",
       "\n",
       " \n",
       ">                    RowBox[List[\"x\", \",\", \"x\"]]], \"\\\"(5)\\\"\"], \"Superscript\", \n",
       "\n",
       " \n",
       ">                  Rule[SyntaxForm, SuperscriptBox]]}]}]}, \n",
       "\n",
       " \n",
       ">            {RowBox[{RowBox[{OverscriptBox[\"r\", \"^\"], \" \", \n",
       "\n",
       " \n",
       ">                 RowBox[{\"cos\", \"(\", \"ϕ\", \")\"}], \" \", \n",
       "\n",
       " \n",
       ">                 TemplateBox[List[SubscriptBox[OverscriptBox[\"f\", \"^\"], \n",
       "\n",
       " \n",
       ">                    RowBox[List[\"x\", \",\", \"y\"]]], \"\\\"(5)\\\"\"], \"Superscript\", \n",
       "\n",
       " \n",
       ">                  Rule[SyntaxForm, SuperscriptBox]]}], \"+\", \n",
       "\n",
       " \n",
       ">               RowBox[{OverscriptBox[\"r\", \"^\"], \" \", RowBox[{\"sin\", \"(\", \"ϕ\", \")\"}], \n",
       "\n",
       " \n",
       ">                 \" \", TemplateBox[List[SubscriptBox[OverscriptBox[\"f\", \"^\"], \n",
       "\n",
       " \n",
       ">                    RowBox[List[\"y\", \",\", \"y\"]]], \"\\\"(5)\\\"\"], \"Superscript\", \n",
       "\n",
       " \n",
       ">                  Rule[SyntaxForm, SuperscriptBox]]}]}]}}, Rule[RowSpacings, 1], \n",
       "\n",
       " \n",
       ">           Rule[ColumnAlignments, Center], Rule[ColumnAlignments, Left]], Column], \"⁠\",\\\n",
       " \n",
       ">    \n",
       "      \")\"}], Function[BoxForm`e$, MatrixForm[BoxForm`e$]]], TraditionalForm]\n"
      ]
     },
     "execution_count": 73,
     "metadata": {
      "text/html": [],
      "text/plain": []
     },
     "output_type": "execute_result"
    }
   ],
   "source": [
    "fh5rh = EinsteinSummation[{{k, i}, {i}}, {fh5, rh}];\n",
    "fh5rh // MatrixForm // TraditionalForm"
   ]
  },
  {
   "cell_type": "markdown",
   "metadata": {},
   "source": [
    "Система движения в безразмерной записи будет выглядеть как"
   ]
  },
  {
   "cell_type": "markdown",
   "metadata": {},
   "source": [
    "$$\n",
    "\\frac{d^2\\hat{r}_k}{d\\hat{t}^2} = -\\frac{t_0^2}{b^3}\\frac{GM}{\\hat{r}^3}\\hat{r}_k - \\frac{2}{5}\\frac{b^2}{t_0^3}\\frac{G}{c^5}\\mu\\hat{f}_{ki}^{(5)}\\hat{r}_i\n",
    "$$"
   ]
  },
  {
   "cell_type": "markdown",
   "metadata": {},
   "source": [
    "Пусть $t_0 = \\sqrt{\\frac{b^3}{GM}}$, а $b$ - прицельное расстояние, тогда система движения перепишется как\n",
    "\n",
    "$$\n",
    "\\frac{d^2\\hat{r}_k}{d\\hat{t}^2} + \\frac{\\hat{r}_k}{\\hat{r}^3} = - \\epsilon_G\\hat{f}_{ki}^{(5)}\\hat{r}_i\\quad,\n",
    "$$\n",
    "или\n",
    "$$\n",
    "\\hat{r}_k^{(2)} + \\frac{\\hat{r}_k}{\\hat{r}^3} = - \\epsilon_G\\hat{f}_{ki}^{(5)}\\hat{r}_i\\quad,\n",
    "$$\n",
    "\n",
    "где безразмерная постоянная $\\epsilon_G = \\frac{2}{5}\\frac{b^2}{t_0^3}\\frac{G}{c^5}\\mu = \\frac{2}{5}\\frac{\\mu}{M} \\left( \\frac{GM}{bc^2} \\right)^{\\frac{5}{2}}$.\n",
    "\n",
    "Заметим , что $f_{ij}^{(5)} = \\frac{5}{2}\\frac{\\epsilon_G}{t_0^2}\\hat{f}_{ij}^{(5)}$"
   ]
  },
  {
   "cell_type": "markdown",
   "metadata": {},
   "source": [
    "## Повернём систему с помощью матрицы вращения $R_{ij}(\\phi)$ на угол $\\phi$ по **часовой** стрелке\n",
    "Переход к полярным координатам от декартовых"
   ]
  },
  {
   "cell_type": "code",
   "execution_count": 74,
   "metadata": {
    "vscode": {
     "languageId": "wolfram"
    }
   },
   "outputs": [
    {
     "data": {
      "text/html": [
       "<div><img alt=\"Output\" src=\"data:image/png;base64,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\"></div>"
      ],
      "text/plain": [
       "FormBox[TagBox[RowBox[{\"(\", \"⁠\", \n",
       "\n",
       " \n",
       ">         GridBox[{{RowBox[{\"cos\", \"(\", \"ϕ\", \")\"}], RowBox[{\"sin\", \"(\", \"ϕ\", \")\"}]}, \n",
       "\n",
       " \n",
       ">           {RowBox[{\"-\", RowBox[{\"sin\", \"(\", \"ϕ\", \")\"}]}], \n",
       "\n",
       " \n",
       ">            RowBox[{\"cos\", \"(\", \"ϕ\", \")\"}]}}, Rule[RowSpacings, 1], \n",
       "\n",
       " \n",
       ">          Rule[ColumnSpacings, 1], Rule[RowAlignments, Baseline], \n",
       "\n",
       " \n",
       ">          Rule[ColumnAlignments, Center]], \"⁠\", \")\"}], \n",
       "\n",
       " \n",
       ">       Function[BoxForm`e$, MatrixForm[BoxForm`e$]]], TraditionalForm]\n"
      ]
     },
     "execution_count": 74,
     "metadata": {
      "text/html": [],
      "text/plain": []
     },
     "output_type": "execute_result"
    }
   ],
   "source": [
    "RotationMatrix[-\\[Phi]] // MatrixForm // TraditionalForm"
   ]
  },
  {
   "cell_type": "markdown",
   "metadata": {},
   "source": [
    "#### LHS системы после поворота"
   ]
  },
  {
   "cell_type": "code",
   "execution_count": 76,
   "metadata": {
    "vscode": {
     "languageId": "wolfram"
    }
   },
   "outputs": [
    {
     "data": {
      "text/html": [
       "<div><img alt=\"Output\" src=\"data:image/png;base64,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\"></div>"
      ],
      "text/plain": [
       "FormBox[TagBox[RowBox[{\"(\", \"⁠\", \n",
       "      TagBox[GridBox[{{RowBox[{RowBox[{\"-\", \n",
       "\n",
       " \n",
       ">                 RowBox[{\"2\", \" \", SuperscriptBox[OverscriptBox[\"r\", \"^\"], \"′\"], \n",
       "\n",
       " \n",
       ">                   \" \", SuperscriptBox[\"ϕ\", \"′\"], \" \", \n",
       "\n",
       " \n",
       ">                   RowBox[{\"sin\", \"(\", \"ϕ\", \")\"}]}]}], \"+\", \n",
       "\n",
       " \n",
       ">               RowBox[{OverscriptBox[\"r\", \"^\"], \" \", \n",
       "\n",
       " \n",
       ">                 RowBox[{\"(\", RowBox[{RowBox[{SuperscriptBox[RowBox[\n",
       "\n",
       " \n",
       ">                         {\"(\", SuperscriptBox[\"ϕ\", \"′\"], \")\"}], \"2\"], \" \", \n",
       "\n",
       " \n",
       ">                       RowBox[{\"(\", \n",
       "\n",
       " \n",
       ">                         RowBox[{\"-\", RowBox[{\"cos\", \"(\", \"ϕ\", \")\"}]}], \")\"}]}], \n",
       "\n",
       " \n",
       ">                     \"-\", RowBox[{SuperscriptBox[\"ϕ\", \"′′\"], \" \", \n",
       "\n",
       " \n",
       ">                       RowBox[{\"sin\", \"(\", \"ϕ\", \")\"}]}]}], \")\"}]}], \"+\", \n",
       "\n",
       " \n",
       ">               RowBox[{SuperscriptBox[OverscriptBox[\"r\", \"^\"], \"′′\"], \" \", \n",
       "\n",
       " \n",
       ">                 RowBox[{\"cos\", \"(\", \"ϕ\", \")\"}]}], \"+\", \n",
       "\n",
       " \n",
       ">               FractionBox[RowBox[{\"cos\", \"(\", \"ϕ\", \")\"}], \n",
       "\n",
       " \n",
       ">                SuperscriptBox[OverscriptBox[\"r\", \"^\"], \"2\"]]}]}, \n",
       "\n",
       " \n",
       ">            {RowBox[{RowBox[{\"2\", \" \", SuperscriptBox[OverscriptBox[\"r\", \"^\"], \"′\"], \n",
       "\n",
       " \n",
       ">                 \" \", SuperscriptBox[\"ϕ\", \"′\"], \" \", RowBox[{\"cos\", \"(\", \"ϕ\",\\\n",
       " \n",
       ">    \")\"}]}]\\\n",
       ", \"+\", RowBox[{OverscriptBox[\"r\", \"^\"], \" \", \n",
       "\n",
       " \n",
       ">                 RowBox[{\"(\", RowBox[{RowBox[{SuperscriptBox[\"ϕ\", \"′′\"], \" \", \n",
       "\n",
       " \n",
       ">                       RowBox[{\"cos\", \"(\", \"ϕ\", \")\"}]}], \"-\", \n",
       "\n",
       " \n",
       ">                     RowBox[{SuperscriptBox[RowBox[{\"(\", \n",
       "\n",
       " \n",
       ">                          SuperscriptBox[\"ϕ\", \"′\"], \")\"}], \"2\"], \" \", \n",
       "\n",
       " \n",
       ">                       RowBox[{\"sin\", \"(\", \"ϕ\", \")\"}]}]}], \")\"}]}], \"+\", \n",
       "\n",
       " \n",
       ">               RowBox[{SuperscriptBox[OverscriptBox[\"r\", \"^\"], \"′′\"], \" \", \n",
       "\n",
       " \n",
       ">                 RowBox[{\"sin\", \"(\", \"ϕ\", \")\"}]}], \"+\", \n",
       "\n",
       " \n",
       ">               FractionBox[RowBox[{\"sin\", \"(\", \"ϕ\", \")\"}], \n",
       "\n",
       " \n",
       ">                SuperscriptBox[OverscriptBox[\"r\", \"^\"], \"2\"]]}]}}, \n",
       "\n",
       " \n",
       ">           Rule[RowSpacings, 1], Rule[ColumnAlignments, Center], \n",
       "\n",
       " \n",
       ">           Rule[ColumnAlignments, Left]], Column], \"⁠\", \")\"}], \n",
       "\n",
       " \n",
       ">       Function[BoxForm`e$, MatrixForm[BoxForm`e$]]], TraditionalForm]\n"
      ]
     },
     "execution_count": 76,
     "metadata": {
      "text/html": [],
      "text/plain": []
     },
     "output_type": "execute_result"
    }
   ],
   "source": [
    "LHSMotion = D[rh, {OverHat[t], 2}] + Simplify[rh / Norm[rh]^3];\n",
    "LHSMotion // MatrixForm // TraditionalForm"
   ]
  },
  {
   "cell_type": "code",
   "execution_count": 77,
   "metadata": {
    "vscode": {
     "languageId": "wolfram"
    }
   },
   "outputs": [
    {
     "data": {
      "text/html": [
       "<div><img alt=\"Output\" src=\"data:image/png;base64,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\"></div>"
      ],
      "text/plain": [
       "FormBox[TagBox[RowBox[{\"(\", \"⁠\", \n",
       "      TagBox[GridBox[{{RowBox[{RowBox[{\"-\", \n",
       "\n",
       " \n",
       ">                 RowBox[{RowBox[{OverscriptBox[\"r\", \"^\"]}], \" \", \n",
       "\n",
       " \n",
       ">                   SuperscriptBox[RowBox[{\"(\", SuperscriptBox[\"ϕ\", \"′\"], \")\"}], \n",
       "\n",
       " \n",
       ">                    \"2\"]}]}], \"+\", SuperscriptBox[OverscriptBox[\"r\", \"^\"], \"′′\"], \n",
       "\n",
       " \n",
       ">               \"+\", FractionBox[\"1\", SuperscriptBox[OverscriptBox[\"r\", \"^\"],\\\n",
       " \n",
       ">    \"2\"]]}]}\\\n",
       ", {RowBox[{RowBox[{OverscriptBox[\"r\", \"^\"], \" \", SuperscriptBox[\"ϕ\",\\\n",
       " \n",
       ">    \"′′\"]}], \"+\", \n",
       "            RowBox[{\"2\", \" \", SuperscriptBox[OverscriptBox[\"r\",\\\n",
       " \n",
       ">    \"^\"], \"′\"], \" \", \n",
       "              SuperscriptBox[\"ϕ\", \"′\"]}]}]}}, Rule[RowSpacings,\\\n",
       " \n",
       ">    1], \n",
       "        Rule[ColumnAlignments, Center], Rule[ColumnAlignments, Left]],\\\n",
       " \n",
       ">    Column], \"⁠\", \n",
       "      \")\"}], Function[BoxForm`e$, MatrixForm[BoxForm`e$]]],\\\n",
       " \n",
       ">    TraditionalForm]\n"
      ]
     },
     "execution_count": 77,
     "metadata": {
      "text/html": [],
      "text/plain": []
     },
     "output_type": "execute_result"
    }
   ],
   "source": [
    "RotatedLHSMotion = Simplify[RotationMatrix[-\\[Phi][OverHat[t]]] . LHSMotion, Trig -> True] // MatrixForm // TraditionalForm"
   ]
  },
  {
   "cell_type": "markdown",
   "metadata": {},
   "source": [
    "Так как $\\hat{\\omega} \\equiv \\phi^{(1)}$, то"
   ]
  },
  {
   "cell_type": "code",
   "execution_count": 79,
   "metadata": {
    "vscode": {
     "languageId": "wolfram"
    }
   },
   "outputs": [
    {
     "data": {
      "text/html": [
       "<div><img alt=\"Output\" src=\"data:image/png;base64,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\"></div>"
      ],
      "text/plain": [
       "FormBox[TagBox[RowBox[{\"(\", \"⁠\", \n",
       "\n",
       " \n",
       ">         TagBox[GridBox[{{RowBox[{RowBox[{RowBox[{\"-\", OverscriptBox[\"r\", \"^\"]}], \n",
       "\n",
       " \n",
       ">                 \" \", SuperscriptBox[OverscriptBox[\"ω\", \"^\"], \"2\"]}], \"+\", \n",
       "\n",
       " \n",
       ">               SuperscriptBox[OverscriptBox[\"r\", \"^\"], \"′′\"], \"+\", \n",
       "\n",
       " \n",
       ">               FractionBox[\"1\", SuperscriptBox[OverscriptBox[\"r\", \"^\"], \"2\"]]}]}, \n",
       "\n",
       " \n",
       ">            {RowBox[{RowBox[{\"2\", \" \", OverscriptBox[\"ω\", \"^\"], \" \", \n",
       "\n",
       " \n",
       ">                 SuperscriptBox[OverscriptBox[\"r\", \"^\"], \"′\"]}], \"+\", \n",
       "\n",
       " \n",
       ">               RowBox[{OverscriptBox[\"r\", \"^\"], \" \", \n",
       "\n",
       " \n",
       ">                 SuperscriptBox[OverscriptBox[\"ω\", \"^\"], \"′\"]}]}]}}, \n",
       "\n",
       " \n",
       ">           Rule[RowSpacings, 1], Rule[ColumnAlignments, Center], \n",
       "\n",
       " \n",
       ">           Rule[ColumnAlignments, Left]], Column], \"⁠\", \")\"}], \n",
       "\n",
       " \n",
       ">       Function[BoxForm`e$, MatrixForm[BoxForm`e$]]], TraditionalForm]\n"
      ]
     },
     "execution_count": 79,
     "metadata": {
      "text/html": [],
      "text/plain": []
     },
     "output_type": "execute_result"
    }
   ],
   "source": [
    "OmegaReplace = Derivative[n_][\\[Phi]][OverHat[t]] :> Derivative[n-1][OverHat[\\[Omega]]][OverHat[t]];\n",
    "\n",
    "OmegaLHSMotion = RotatedLHSMotion /. OmegaReplace // TraditionalForm"
   ]
  },
  {
   "cell_type": "markdown",
   "metadata": {},
   "source": [
    "### RHS системы после поворота"
   ]
  },
  {
   "cell_type": "code",
   "execution_count": 81,
   "metadata": {
    "vscode": {
     "languageId": "wolfram"
    }
   },
   "outputs": [
    {
     "data": {
      "text/html": [
       "<div><img alt=\"Output\" src=\"data:image/png;base64,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\"></div>"
      ],
      "text/plain": [
       "FormBox[TagBox[RowBox[{\"(\", \"⁠\", \n",
       "\n",
       " \n",
       ">         TagBox[GridBox[{{RowBox[{OverscriptBox[\"r\", \"^\"], \" \", \n",
       "\n",
       " \n",
       ">               RowBox[{\"(\", RowBox[{\"-\", SubscriptBox[\"ϵ\", \"G\"]}], \")\"}], \" \", \n",
       "\n",
       " \n",
       ">               RowBox[{\"(\", RowBox[{RowBox[{RowBox[{\"sin\", \"(\", \n",
       "\n",
       " \n",
       ">                       RowBox[{\"2\", \" \", \"ϕ\"}], \")\"}], \" \", \n",
       "\n",
       " \n",
       ">                     TemplateBox[List[SubscriptBox[OverscriptBox[\"f\", \"^\"], \n",
       "\n",
       " \n",
       ">                        RowBox[List[\"x\", \",\", \"y\"]]], \"\\\"(5)\\\"\"], \"Superscript\", \n",
       "\n",
       " \n",
       ">                      Rule[SyntaxForm, SuperscriptBox]]}], \"+\", \n",
       "\n",
       " \n",
       ">                   RowBox[{RowBox[{SuperscriptBox[\"cos\", \"2\"], \"(\", \"ϕ\", \")\"}], \n",
       "\n",
       " \n",
       ">                     \" \", TemplateBox[List[SubscriptBox[OverscriptBox[\"f\", \"^\"], \n",
       "\n",
       " \n",
       ">                        RowBox[List[\"x\", \",\", \"x\"]]], \"\\\"(5)\\\"\"], \"Superscript\", \n",
       "\n",
       " \n",
       ">                      Rule[SyntaxForm, SuperscriptBox]]}], \"+\", \n",
       "\n",
       " \n",
       ">                   RowBox[{RowBox[{SuperscriptBox[\"sin\", \"2\"], \"(\", \"ϕ\", \")\"}], \n",
       "\n",
       " \n",
       ">                     \" \", TemplateBox[List[SubscriptBox[OverscriptBox[\"f\", \"^\"], \n",
       "\n",
       " \n",
       ">                        RowBox[List[\"y\", \",\", \"y\"]]], \"\\\"(5)\\\"\"], \"Superscript\", \n",
       "\n",
       " \n",
       ">                      Rule[SyntaxForm, SuperscriptBox]]}]}], \")\"}]}]}, \n",
       "\n",
       " \n",
       ">            {RowBox[{RowBox[{\"-\", FractionBox[\"1\", \"2\"]}], \" \", \n",
       "\n",
       " \n",
       ">               OverscriptBox[\"r\", \"^\"], \" \", SubscriptBox[\"ϵ\", \"G\"], \" \", \n",
       "\n",
       " \n",
       ">               RowBox[{\"(\", RowBox[{RowBox[{RowBox[{\"sin\", \"(\", \n",
       "\n",
       " \n",
       ">                       RowBox[{\"2\", \" \", \"ϕ\"}], \")\"}], \" \", \n",
       "\n",
       " \n",
       ">                     RowBox[{\"(\", RowBox[{TemplateBox[List[SubscriptBox[\n",
       "\n",
       " \n",
       ">                            OverscriptBox[\"f\", \"^\"], \n",
       "\n",
       " \n",
       ">                            RowBox[List[\"y\", \",\", \"y\"]]], \"\\\"(5)\\\"\"], \n",
       "\n",
       " \n",
       ">                          \"Superscript\", Rule[SyntaxForm, SuperscriptBox]], \"-\", \n",
       "\n",
       " \n",
       ">                         TemplateBox[List[SubscriptBox[OverscriptBox[\"f\", \"^\"], \n",
       "\n",
       " \n",
       ">                            RowBox[List[\"x\", \",\", \"x\"]]], \"\\\"(5)\\\"\"], \n",
       "\n",
       " \n",
       ">                          \"Superscript\", Rule[SyntaxForm, SuperscriptBox]]}], \")\"}]}\\\n",
       "\n",
       " \n",
       ">   ], \"+\", RowBox[{\"2\", \" \", RowBox[{\"cos\", \"(\", RowBox[{\"2\", \" \", \"ϕ\"}], \")\"}], \n",
       "\n",
       " \n",
       ">                     \" \", TemplateBox[List[SubscriptBox[OverscriptBox[\"f\", \"^\"], \n",
       "\n",
       " \n",
       ">                        RowBox[List[\"x\", \",\", \"y\"]]], \"\\\"(5)\\\"\"], \"Superscript\", \n",
       "\n",
       " \n",
       ">                      Rule[SyntaxForm, SuperscriptBox]]}]}], \")\"}]}]}}, \n",
       "\n",
       " \n",
       ">           Rule[RowSpacings, 1], Rule[ColumnAlignments, Center], \n",
       "\n",
       " \n",
       ">           Rule[ColumnAlignments, Left]], Column], \"⁠\", \")\"}], \n",
       "\n",
       " \n",
       ">       Function[BoxForm`e$, MatrixForm[BoxForm`e$]]], TraditionalForm]\n"
      ]
     },
     "execution_count": 81,
     "metadata": {
      "text/html": [],
      "text/plain": []
     },
     "output_type": "execute_result"
    }
   ],
   "source": [
    "RHSMotion = -Subscript[\\[Epsilon], G] FullSimplify[RotationMatrix[-\\[Phi][OverHat[t]]] . fh5rh, Trig -> True];\n",
    "RHSMotion // MatrixForm // TraditionalForm"
   ]
  },
  {
   "cell_type": "markdown",
   "metadata": {},
   "source": [
    "<span style=\"color:red\">**NB:**</span> Полученные выражения <span style=\"color:green\">**совпадают**</span> с уравнениями (10) и (9) из файла Binary.pdf"
   ]
  },
  {
   "cell_type": "markdown",
   "metadata": {
    "vscode": {
     "languageId": "wolfram"
    }
   },
   "source": [
    "## Получим теперь **энергетическую** систему уравнений\n",
    "\n",
    "В задача двух тел без учёта гравитационного излучения в системе центра масс в полярных координатах радиус-вектор $\\hat{r}_k$ задаётся как:\n",
    "$$\n",
    "\\hat{r}_k = \\hat{r} e_{1k} \\quad,\n",
    "$$\n",
    "где:\n",
    "- $\\hat{r}$ — расстояние между телами,\n",
    "- $e_{1k}$ — единичный вектор в направлении $\\hat{r}_k$.\n",
    "\n",
    "Скорость в полярных координатах выражается как:\n",
    "$$\n",
    "\\hat{r}_k^{(1)} = \\hat{r}^{(1)} e_{1k} + \\hat{r} \\phi^{(1)} e_{2k} \\quad,\n",
    "$$\n",
    "где:\n",
    "- $\\hat{r}^{(1)}$ — радиальная скорость\n",
    "- $\\hat{\\omega} \\equiv \\phi^{(1)}$ — угловая скорость\n",
    "- $e_{2k}$ — единичный вектор, перпендикулярный $e_{1k}$.\n",
    "\n",
    "### **Кинетическая энергия**\n",
    "Кинетическая энергия $T$ в полярных координатах выражается через радиальную и тангенциальную составляющие скорости:\n",
    "$$\n",
    "T = \\mu\\frac{b^2}{2 t_0^2} (\\hat{r}_k^{(1)})^2 = \\mu\\frac{b^2}{2 t_0^2} \\left( (\\hat{r}^{(1)})^2 + \\hat{r}^2 \\hat{\\omega}^2 \\right) = \\frac{G \\mu M}{b} \\frac{1}{2}\\left( (\\hat{r}^{(1)})^2 + \\hat{r}^2 \\hat{\\omega}^2 \\right)\n",
    "$$\n",
    "\n",
    "### **Потенциальная энергия**\n",
    "Потенциальная энергия $U$ зависит только от расстояния $\\hat{r}$:\n",
    "- Для гравитационного взаимодействия:\n",
    "  $$\n",
    "  U = -\\frac{G m_A m_B}{b \\hat{r}} = -\\frac{G \\mu M}{b \\hat{r}}.\n",
    "  $$\n",
    "\n",
    "### **Полная энергия**\n",
    "Полная энергия $E$ в полярных координатах:\n",
    "$$\n",
    "E = T + U = \\frac{G \\mu M}{b}\\left(\\frac{(\\hat{r}^{(1)})^2}{2} + \\frac{\\hat{r}^2 \\hat{\\omega}^2}{2} - \\frac{1}{\\hat{r}}\\right) = \\frac{G \\mu M}{b} \\hat{E}\n",
    "$$\n",
    "\n",
    "Здесь $\\hat{E}$ - безразмерная энергия:"
   ]
  },
  {
   "cell_type": "code",
   "execution_count": 83,
   "metadata": {
    "vscode": {
     "languageId": "wolfram"
    }
   },
   "outputs": [
    {
     "data": {
      "text/html": [
       "<div><img alt=\"Output\" src=\"data:image/png;base64,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\"></div>"
      ],
      "text/plain": [
       "FormBox[RowBox[{RowBox[{FractionBox[\"1\", \"2\"], \" \", \n",
       "\n",
       " \n",
       ">          SuperscriptBox[OverscriptBox[\"r\", \"^\"], \"2\"], \" \", \n",
       "\n",
       " \n",
       ">          SuperscriptBox[OverscriptBox[\"ω\", \"^\"], \"2\"]}], \"+\", \n",
       "\n",
       " \n",
       ">        RowBox[{FractionBox[\"1\", \"2\"], \" \", \n",
       "\n",
       " \n",
       ">          SuperscriptBox[RowBox[{\"(\", SuperscriptBox[OverscriptBox[\"r\", \"^\"], \"′\"], \n",
       "\n",
       " \n",
       ">             \")\"}], \"2\"]}], \"-\", FractionBox[\"1\", OverscriptBox[\"r\", \"^\"]]}], \n",
       "\n",
       " \n",
       ">      TraditionalForm]\n"
      ]
     },
     "execution_count": 83,
     "metadata": {
      "text/html": [],
      "text/plain": []
     },
     "output_type": "execute_result"
    }
   ],
   "source": [
    "Energy = (D[OverHat[r][OverHat[t]], OverHat[t]])^2/2 + (OverHat[r][OverHat[t]] OverHat[\\[Omega]][OverHat[t]])^2/2 - 1/OverHat[r][OverHat[t]];\n",
    "Energy // TraditionalForm"
   ]
  },
  {
   "cell_type": "markdown",
   "metadata": {},
   "source": [
    "### **Момента импульса**\n",
    "Момент импульса $J$ в системе центра масс:\n",
    "$$\n",
    "J = \\mu\\frac{b^2}{t_0} \\hat{r}^2 \\hat{\\omega} = \\mu(G M)^{1/2} b^{3/2} \\hat{r}^2 \\hat{\\omega} = \\mu(G M)^{1/2} b^{3/2} \\hat{J}\n",
    "$$\n",
    "\n",
    "Здесь $\\hat{J}$ - безразмерный момент импульса:"
   ]
  },
  {
   "cell_type": "code",
   "execution_count": 85,
   "metadata": {
    "vscode": {
     "languageId": "wolfram"
    }
   },
   "outputs": [
    {
     "data": {
      "text/html": [
       "<div><img alt=\"Output\" src=\"data:image/png;base64,iVBORw0KGgoAAAANSUhEUgAAACsAAAAeCAIAAAA6iHCJAAAAzXpUWHRSYXcgcHJvZmlsZSB0eXBlIGV4aWYAAHjabU9bDgIhDPznFB6hL1o4DquYeAOP77CgBuMkTIfpA5r683FPlwFhSpajeHUnwKpVaRCFJmZkqiefkGPlePcT9+U3WPmb8Ld/7H74Glh+BpFMoeMFaLXVsAapTJ/bvB+rXlop+yClDZU+X/97Nw3x7BwGNqEIr9AlQSJ4Fsrhd7+6o5D9JmRXxO4RaPMYFdpG44D02Kt7coVxGyvoOFkbooJZsRFYT4fBpizHyp6LpBeSXFrXjy9f8QAAAAlwSFlzAAAWJQAAFiUBSVIk8AAAADx0RVh0U29mdHdhcmUAQ3JlYXRlZCB3aXRoIHRoZSBXb2xmcmFtIExhbmd1YWdlIDogd3d3LndvbGZyYW0uY29tXKKmhQAAACF0RVh0Q3JlYXRpb24gVGltZQAyMDI1OjAzOjEwIDEzOjAxOjQxNZfMaQAAA+FJREFUSEvtVlsos2Ec3+aQnGIOUUgLJbUkp4wbLiQl4cIFymk53cghLVy4JOVuOZVacyhXRBiiRkmI1i7kULhyzpwZ3+/tWc/2bW3P3m/fl5vvra33/T//5/f//Y/PI/z+/hawnqOjo7GxsYuLi7i4uJqamtDQUNYOPutg4PiZmZnx8PBwc3MjqEFBQYeHh6xNPNYFjnUNBkNYWNjk5OTHx8f6+npKSgpIFBUV8bDAUmUwUKvV3d3dFGR2dhYMoqKiWLA81hkM9Ho9wkDx3t/fkZHExEQeFliqIloz0Hx5eUG0LasoPj7e19eXSq6urqCQk5PDp9I4J22RzQiUYltbG6TBwcGoeXu8e3p6AgMDwYPl2G/rjpFNWZibmxMKhYRXVlbW5+enrY3T01OYX1lZ4WWeicwxOD8/R49FR0cfHBw0NzeDhEKhsDKDapBKpaOjo7zMO4MsgLuZmZkZGRmXl5cEXalUenp6Li4uUmPQKSgo6O3t5WXeGWQAClBZCOzr66sluk6no2Pn6+urqqqqs7OTKjw9PbW0tDDZMJEJghA/JHhra2tnZ2d3d1cmk6HclpaWBgYGxGLx0NBQV1cX3isqKkihgCs0a2trW1tbHXcEWhfsvby8rNRgET6YWwzf/f39hYWFRA+hnpiYcHd3J59NTU22ZpAjmjJ7kdBoNBimIyMjtgpnZ2cYKtvb22TJ1At3d3fE0vT0dEhISF9fn4+PD14cdKaDLCwsLMCHyspKezqpqakJCQlGo9HMYG1tDeYDAgKys7OHh4ex8Pj4+Pb2xky2rQIays/PD+fn7e2tve3l5eUwB00omGbi6uoqRPf39w8PD9XV1XhHDBBtXrMPykCUy+Vo3Y6ODgwPsh0u4ShBc1E0uIr3jY0NTkJopqWlkWUcgH/gN90yPj4OEG9vb6SVCktKSpD46+trKkFvQ62urs6UBYRLJOKCkZ+f74p57EUSgVNcXGyJExMTk5eXZymRSCRQI6cuZ3h5eRltQ0jxDbuV/v7+PiSxsbFUjq45Pj5OT0+nErTJyckJPsltg2OA7sd/eHg4mLrCAGV0c3MDBMtr3ODgIBxNTk6myGh4vOPCZzpjsRwZGQkRTgQXU4Dt6AJAYXwRKJQkHINkb2+PSDDfOL9Fos3NTSIR4A5C2Gm1WtcZNDQ0kEpsb2/H/Qpxrq+vx5GWm5urUqnKysqwCpZTU1PUlgBRInEj88HFB+O2sbHR398fmLhqYHI/Pz/Pz88nJSVhqEdERJSWllpddLlzwZXc29uLgWZ5uYIaqCA2tvr/ioHzXpnvic7v+bua/xmQifSzz88z+AUG9ZDrhvIkKgAAAABJRU5ErkJggg==\"></div>"
      ],
      "text/plain": [
       "FormBox[RowBox[{SuperscriptBox[OverscriptBox[\"r\", \"^\"], \"2\"], \" \", \n",
       "\n",
       " \n",
       ">        OverscriptBox[\"ω\", \"^\"]}], TraditionalForm]\n"
      ]
     },
     "execution_count": 85,
     "metadata": {
      "text/html": [],
      "text/plain": []
     },
     "output_type": "execute_result"
    }
   ],
   "source": [
    "AngularMomentum = (OverHat[r][OverHat[t]])^2 OverHat[\\[Omega]][OverHat[t]];\n",
    "AngularMomentum // TraditionalForm"
   ]
  },
  {
   "cell_type": "markdown",
   "metadata": {},
   "source": [
    "Отсюда $\\frac{1}{\\hat{r}^{(1)}}\\left(\\frac{d\\hat{E}}{d\\hat{t}} - \\hat{\\omega} \\frac{d\\hat{J}}{d\\hat{t}}\\right)$"
   ]
  },
  {
   "cell_type": "code",
   "execution_count": 86,
   "metadata": {
    "vscode": {
     "languageId": "wolfram"
    }
   },
   "outputs": [
    {
     "data": {
      "text/html": [
       "<div><img alt=\"Output\" src=\"data:image/png;base64,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\"></div>"
      ],
      "text/plain": [
       "FormBox[RowBox[{RowBox[{\"-\", RowBox[{RowBox[{OverscriptBox[\"r\", \"^\"]}], \" \", \n",
       "\n",
       " \n",
       ">            SuperscriptBox[OverscriptBox[\"ω\", \"^\"], \"2\"]}]}], \"+\", \n",
       "\n",
       " \n",
       ">        SuperscriptBox[OverscriptBox[\"r\", \"^\"], \"′′\"], \"+\", \n",
       "\n",
       " \n",
       ">        FractionBox[\"1\", SuperscriptBox[OverscriptBox[\"r\", \"^\"], \"2\"]]}],\\\n",
       " \n",
       ">    TraditionalForm]\n"
      ]
     },
     "execution_count": 86,
     "metadata": {
      "text/html": [],
      "text/plain": []
     },
     "output_type": "execute_result"
    }
   ],
   "source": [
    "Simplify[(D[Energy, OverHat[t]] - (AngularMomentum/OverHat[r][OverHat[t]]^2)(D[AngularMomentum, OverHat[t]]))/(D[OverHat[r][OverHat[t]], OverHat[t]])] // TraditionalForm"
   ]
  },
  {
   "cell_type": "markdown",
   "metadata": {},
   "source": [
    "Что совпадает с **первой** строкой повернутой LHS системы движения"
   ]
  },
  {
   "cell_type": "markdown",
   "metadata": {},
   "source": [
    "Отсюда $\\frac{1}{\\hat{r}}\\frac{d\\hat{J}}{d\\hat{t}}$"
   ]
  },
  {
   "cell_type": "code",
   "execution_count": 87,
   "metadata": {
    "vscode": {
     "languageId": "wolfram"
    }
   },
   "outputs": [
    {
     "data": {
      "text/html": [
       "<div><img alt=\"Output\" src=\"data:image/png;base64,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\"></div>"
      ],
      "text/plain": [
       "FormBox[RowBox[{RowBox[{\"2\", \" \", OverscriptBox[\"ω\", \"^\"], \" \", \n",
       "\n",
       " \n",
       ">          SuperscriptBox[OverscriptBox[\"r\", \"^\"], \"′\"]}], \"+\", \n",
       "\n",
       " \n",
       ">        RowBox[{OverscriptBox[\"r\", \"^\"], \" \", \n",
       "\n",
       " \n",
       ">          SuperscriptBox[OverscriptBox[\"ω\", \"^\"], \"′\"]}]}], TraditionalForm]\n"
      ]
     },
     "execution_count": 87,
     "metadata": {
      "text/html": [],
      "text/plain": []
     },
     "output_type": "execute_result"
    }
   ],
   "source": [
    "Simplify[D[AngularMomentum, OverHat[t]]/OverHat[r][OverHat[t]]] // TraditionalForm"
   ]
  },
  {
   "cell_type": "markdown",
   "metadata": {},
   "source": [
    "Что совпадает со **второй** строкой повернутой LHS системы движения"
   ]
  },
  {
   "cell_type": "markdown",
   "metadata": {},
   "source": [
    "Таким образом, мы можем выписать новую **энергетическую** систему уравнений\n",
    "\n",
    "$$\n",
    "\\begin{align}\n",
    "\\frac{d\\hat{E}}{d\\hat{t}} &= - \\epsilon_G \\left(\\hat{r}^{(1)} R_{xi}(-\\phi) \\hat{f}_{ij}^{(5)}\\hat{r}_j + \\hat{r}\\hat\\omega R_{yi}(-\\phi) \\hat{f}_{ij}^{(5)}\\hat{r}_j \\right)\n",
    "\\\\\n",
    "\\frac{d\\hat{J}}{d\\hat{t}} &= - \\epsilon_G \\hat{r} R_{yi}(-\\phi) \\hat{f}_{ij}^{(5)}\\hat{r}_j\n",
    "\\end{align}\n",
    "$$"
   ]
  },
  {
   "cell_type": "markdown",
   "metadata": {},
   "source": [
    "Или\n",
    "\n",
    "$$\n",
    "\\left(\\frac{d\\hat{E}}{d\\hat{t}}, \\frac{d\\hat{J}}{d\\hat{t}}\\right) = - \\epsilon_G T_{nk} R_{ki}(-\\phi) \\hat{f}_{ij}^{(5)}\\hat{r}_j\\quad,\n",
    "$$\n",
    "\n",
    "Чтобы перейти в размерный вид, достаточно положить $\\epsilon_G \\equiv \\frac{2}{5}\\mu$."
   ]
  },
  {
   "cell_type": "markdown",
   "metadata": {},
   "source": [
    "Здесь\n",
    "$$\n",
    "T = \n",
    "\\begin{bmatrix}\n",
    "\\hat{r}^{(1)} & \\hat{r}\\hat{\\omega} \\\\\n",
    "0 & \\hat{r}\n",
    "\\end{bmatrix}\n",
    "$$\n",
    "матрица трансформации:"
   ]
  },
  {
   "cell_type": "code",
   "execution_count": 89,
   "metadata": {
    "vscode": {
     "languageId": "wolfram"
    }
   },
   "outputs": [
    {
     "data": {
      "text/html": [
       "<div><img alt=\"Output\" src=\"data:image/png;base64,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\"></div>"
      ],
      "text/plain": [
       "FormBox[TagBox[RowBox[{\"(\", \"⁠\", \n",
       "\n",
       " \n",
       ">         GridBox[{{SuperscriptBox[OverscriptBox[\"r\", \"^\"], \"′\"], \n",
       "\n",
       " \n",
       ">            RowBox[{OverscriptBox[\"r\", \"^\"], \" \", OverscriptBox[\"ω\", \"^\"]}]}, \n",
       "\n",
       " \n",
       ">           {\"0\", OverscriptBox[\"r\", \"^\"]}}, Rule[RowSpacings, 1], \n",
       "\n",
       " \n",
       ">          Rule[ColumnSpacings, 1], Rule[RowAlignments, Baseline], \n",
       "\n",
       " \n",
       ">          Rule[ColumnAlignments, Center]], \"⁠\", \")\"}], \n",
       "\n",
       " \n",
       ">       Function[BoxForm`e$, MatrixForm[BoxForm`e$]]], TraditionalForm]\n"
      ]
     },
     "execution_count": 89,
     "metadata": {
      "text/html": [],
      "text/plain": []
     },
     "output_type": "execute_result"
    }
   ],
   "source": [
    "Transform = {{D[OverHat[r][OverHat[t]], OverHat[t]], OverHat[r][OverHat[t]] OverHat[\\[Omega]][OverHat[t]]}, {0, OverHat[r][OverHat[t]]}};\n",
    "Transform // MatrixForm // TraditionalForm"
   ]
  },
  {
   "cell_type": "markdown",
   "metadata": {},
   "source": [
    "Итак правая часть энергетической системы запишется как"
   ]
  },
  {
   "cell_type": "code",
   "execution_count": 91,
   "metadata": {
    "vscode": {
     "languageId": "wolfram"
    }
   },
   "outputs": [
    {
     "data": {
      "text/html": [
       "<div><img alt=\"Output\" src=\"data:image/png;base64,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\"></div>"
      ],
      "text/plain": [
       "FormBox[TagBox[RowBox[{\"(\", \"⁠\", \n",
       "\n",
       " \n",
       ">         TagBox[GridBox[{{RowBox[{FractionBox[\"1\", \"2\"], \" \", \n",
       "\n",
       " \n",
       ">               OverscriptBox[\"r\", \"^\"], \" \", SubscriptBox[\"ϵ\", \"G\"], \" \", \n",
       "\n",
       " \n",
       ">               RowBox[{\"(\", RowBox[{RowBox[{OverscriptBox[\"r\", \"^\"], \" \", \n",
       "\n",
       " \n",
       ">                     OverscriptBox[\"ω\", \"^\"], \" \", \n",
       "\n",
       " \n",
       ">                     RowBox[{\"(\", RowBox[{RowBox[{RowBox[{\"sin\", \"(\", \n",
       "\n",
       " \n",
       ">                             RowBox[{\"2\", \" \", \"ϕ\"}], \")\"}], \" \", \n",
       "\n",
       " \n",
       ">                           RowBox[{\"(\", \n",
       "\n",
       " \n",
       ">                             RowBox[{TemplateBox[List[SubscriptBox[\n",
       "\n",
       " \n",
       ">                            OverscriptBox[\"f\", \"^\"], \n",
       "\n",
       " \n",
       ">                            RowBox[List[\"x\", \",\", \"x\"]]], \"\\\"(5)\\\"\"], \n",
       "\n",
       " \n",
       ">                             \"Superscript\", Rule[SyntaxForm, SuperscriptBox]], \n",
       "\n",
       " \n",
       ">                             \"-\", \n",
       "\n",
       " \n",
       ">                             TemplateBox[List[SubscriptBox[OverscriptB\\\n",
       "\n",
       " \n",
       ">   ox[\"f\", \"^\"], RowBox[List[\"y\", \",\", \"y\"]]], \"\\\"(5)\\\"\"], \"Superscript\", \n",
       "\n",
       " \n",
       ">                             Rule[SyntaxForm, SuperscriptBox]]}], \")\"}]}], \"-\", \n",
       "\n",
       " \n",
       ">                         RowBox[{\"2\", \" \", \n",
       "\n",
       " \n",
       ">                           RowBox[{\"cos\", \"(\", RowBox[{\"2\", \" \", \"ϕ\"}], \")\"}], \n",
       "\n",
       " \n",
       ">                           \" \", TemplateBox[List[SubscriptBox[OverscriptB\\\n",
       "\n",
       " \n",
       ">   ox[\"f\", \"^\"], RowBox[List[\"x\", \",\", \"y\"]]], \"\\\"(5)\\\"\"], \"Superscript\", \n",
       "\n",
       " \n",
       ">                            Rule[SyntaxForm, SuperscriptBox]]}]}], \")\"}]}], \"-\", \n",
       "\n",
       " \n",
       ">                   RowBox[{\"2\", \" \", SuperscriptBox[OverscriptBox[\"r\", \"^\"], \"′\"], \n",
       "\n",
       " \n",
       ">                     \" \", RowBox[{\"(\", \n",
       "\n",
       " \n",
       ">                       RowBox[{RowBox[{RowBox[{\"sin\", \"(\", \n",
       "\n",
       " \n",
       ">                             RowBox[{\"2\", \" \", \"ϕ\"}], \")\"}], \" \", \n",
       "\n",
       " \n",
       ">                           TemplateBox[List[SubscriptBox[OverscriptBox[\"f\", \n",
       "\n",
       " \n",
       ">                             \"^\"], RowBox[List[\"x\", \",\", \"y\"]]], \"\\\"(5)\\\"\"], \n",
       "\n",
       " \n",
       ">                            \"Superscript\", Rule[SyntaxForm, SuperscriptBox]]}], \n",
       "\n",
       " \n",
       ">                         \"+\", RowBox[{RowBox[{SuperscriptBox[\"cos\", \"2\"], \"(\", \n",
       "\n",
       " \n",
       ">                             \"ϕ\", \")\"}], \" \", \n",
       "\n",
       " \n",
       ">                           TemplateBox[List[SubscriptBox[OverscriptBox[\"f\", \n",
       "\n",
       " \n",
       ">                             \"^\"], RowBox[List[\"x\", \",\", \"x\"]]], \"\\\"(5)\\\"\"], \n",
       "\n",
       " \n",
       ">                            \"Superscript\", Rule[SyntaxForm, SuperscriptBox]]}], \n",
       "\n",
       " \n",
       ">                         \"+\", RowBox[{RowBox[{SuperscriptBox[\"sin\", \"2\"], \"(\", \n",
       "\n",
       " \n",
       ">                             \"ϕ\", \")\"}], \" \", \n",
       "\n",
       " \n",
       ">                           TemplateBox[List[SubscriptBox[OverscriptBox[\"f\", \n",
       "\n",
       " \n",
       ">                             \"^\"], RowBox[List[\"y\", \",\", \"y\"]]], \"\\\"(5)\\\"\"], \n",
       "\n",
       " \n",
       ">                            \"Superscript\", Rule[SyntaxForm, SuperscriptBox]]}]}], \n",
       "\n",
       " \n",
       ">                       \")\"}]}]}], \")\"}]}]}, \n",
       "\n",
       " \n",
       ">            {RowBox[{RowBox[{\"-\", FractionBox[\"1\", \"2\"]}], \" \", \n",
       "\n",
       " \n",
       ">               SuperscriptBox[OverscriptBox[\"r\", \"^\"], \"2\"], \" \", \n",
       "\n",
       " \n",
       ">               SubscriptBox[\"ϵ\", \"G\"], \" \", \n",
       "\n",
       " \n",
       ">               RowBox[{\"(\", RowBox[{RowBox[{RowBox[{\"sin\", \"(\", \n",
       "\n",
       " \n",
       ">                       RowBox[{\"2\", \" \", \"ϕ\"}], \")\"}], \" \", \n",
       "\n",
       " \n",
       ">                     RowBox[{\"(\", RowBox[{TemplateBox[List[SubscriptBox[\n",
       "\n",
       " \n",
       ">                            OverscriptBox[\"f\", \"^\"], \n",
       "\n",
       " \n",
       ">                            RowBox[List[\"y\", \",\", \"y\"]]], \"\\\"(5)\\\"\"], \n",
       "\n",
       " \n",
       ">                          \"Superscript\", Rule[SyntaxForm, SuperscriptBox]], \"-\", \n",
       "\n",
       " \n",
       ">                         TemplateBox[List[SubscriptBox[OverscriptBox[\"f\", \"^\"], \n",
       "\n",
       " \n",
       ">                            RowBox[List[\"x\", \",\", \"x\"]]], \"\\\"(5)\\\"\"], \n",
       "\n",
       " \n",
       ">                          \"Superscript\", Rule[SyntaxForm, SuperscriptBox]]}], \")\"}]}\\\n",
       "\n",
       " \n",
       ">   ], \"+\", RowBox[{\"2\", \" \", RowBox[{\"cos\", \"(\", RowBox[{\"2\", \" \", \"ϕ\"}], \")\"}], \n",
       "\n",
       " \n",
       ">                     \" \", TemplateBox[List[SubscriptBox[OverscriptBox[\"f\", \"^\"], \n",
       "\n",
       " \n",
       ">                        RowBox[List[\"x\", \",\", \"y\"]]], \"\\\"(5)\\\"\"], \"Superscript\", \n",
       "\n",
       " \n",
       ">                      Rule[SyntaxForm, SuperscriptBox]]}]}], \")\"}]}]}}, \n",
       "\n",
       " \n",
       ">           Rule[RowSpacings, 1], Rule[ColumnAlignments, Center], \n",
       "\n",
       " \n",
       ">           Rule[ColumnAlignments, Left]], Column], \"⁠\", \")\"}], \n",
       "\n",
       " \n",
       ">       Function[BoxForm`e$, MatrixForm[BoxForm`e$]]], TraditionalForm]\n"
      ]
     },
     "execution_count": 91,
     "metadata": {
      "text/html": [],
      "text/plain": []
     },
     "output_type": "execute_result"
    }
   ],
   "source": [
    "RHSEnegry = FullSimplify[Transform . RHSMotion, Trig -> True];\n",
    "RHSEnegry // MatrixForm // TraditionalForm"
   ]
  },
  {
   "cell_type": "markdown",
   "metadata": {},
   "source": [
    "## Другой Способ получения уравнений движения и энергетических уравнений через лагранжев формализм в полярных координатах"
   ]
  },
  {
   "cell_type": "markdown",
   "metadata": {},
   "source": [
    "### **Лагранжиан системы**\n",
    "Лагранжиан $L$ в полярных координатах $(r, \\phi)$ выражается как:\n",
    "$$\n",
    "L = T - (U + \\mu\\Phi),\n",
    "$$\n",
    "где:\n",
    "- $T$ — кинетическая энергия,\n",
    "- $U$ — потенциальная энергия\n",
    "- $\\Phi = \\frac{1}{5}f_{ij}^{(5)}r_i r_j = \\frac{\\epsilon_G}{2}\\frac{b^2}{t_0^2}\\hat{f}_{ij}^{(5)}\\hat{r}_i \\hat{r}_j = \\frac{5}{2}\\epsilon_G\\frac{GM}{b}\\hat{\\Phi}$ - малый потенциал \"реакции излучения\""
   ]
  },
  {
   "cell_type": "markdown",
   "metadata": {},
   "source": [
    "Безразмерный малый потенциал \"реакции излучения\" $\\hat{\\Phi} = \\frac{1}{5}\\hat{f}_{ij}^{(5)}\\hat{r}_i\\hat{r}_j$"
   ]
  },
  {
   "cell_type": "code",
   "execution_count": 93,
   "metadata": {
    "vscode": {
     "languageId": "wolfram"
    }
   },
   "outputs": [
    {
     "data": {
      "text/html": [
       "<div><img alt=\"Output\" src=\"data:image/png;base64,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\"></div>"
      ],
      "text/plain": [
       "FormBox[RowBox[{FractionBox[\"1\", \"5\"], \" \", \n",
       "\n",
       " \n",
       ">        RowBox[{\"(\", RowBox[{RowBox[{OverscriptBox[\"r\", \"^\"], \" \", \n",
       "\n",
       " \n",
       ">              RowBox[{\"cos\", \"(\", \"ϕ\", \")\"}], \" \", \n",
       "\n",
       " \n",
       ">              RowBox[{\"(\", RowBox[{RowBox[{OverscriptBox[\"r\", \"^\"], \" \", \n",
       "\n",
       " \n",
       ">                    RowBox[{\"sin\", \"(\", \"ϕ\", \")\"}], \" \", \n",
       "\n",
       " \n",
       ">                    TemplateBox[List[SubscriptBox[OverscriptBox[\"f\", \"^\"], \n",
       "\n",
       " \n",
       ">                       RowBox[List[\"x\", \",\", \"y\"]]], \"\\\"(5)\\\"\"], \"Superscript\", \n",
       "\n",
       " \n",
       ">                     Rule[SyntaxForm, SuperscriptBox]]}], \"+\", \n",
       "\n",
       " \n",
       ">                  RowBox[{OverscriptBox[\"r\", \"^\"], \" \", \n",
       "\n",
       " \n",
       ">                    RowBox[{\"cos\", \"(\", \"ϕ\", \")\"}], \" \", \n",
       "\n",
       " \n",
       ">                    TemplateBox[List[SubscriptBox[OverscriptBox[\"f\", \"^\"], \n",
       "\n",
       " \n",
       ">                       RowBox[List[\"x\", \",\", \"x\"]]], \"\\\"(5)\\\"\"], \"Superscript\", \n",
       "\n",
       " \n",
       ">                     Rule[SyntaxForm, SuperscriptBox]]}]}], \")\"}]}], \"+\", \n",
       "\n",
       " \n",
       ">            RowBox[{OverscriptBox[\"r\", \"^\"], \" \", RowBox[{\"sin\", \"(\", \"ϕ\", \")\"}], \" \", \n",
       "\n",
       " \n",
       ">              RowBox[{\"(\", RowBox[{RowBox[{OverscriptBox[\"r\", \"^\"], \" \", \n",
       "\n",
       " \n",
       ">                    RowBox[{\"cos\", \"(\", \"ϕ\", \")\"}], \" \", \n",
       "\n",
       " \n",
       ">                    TemplateBox[List[SubscriptBox[OverscriptBox[\"f\", \"^\"], \n",
       "\n",
       " \n",
       ">                       RowBox[List[\"x\", \",\", \"y\"]]], \"\\\"(5)\\\"\"], \"Superscript\", \n",
       "\n",
       " \n",
       ">                     Rule[SyntaxForm, SuperscriptBox]]}], \"+\", \n",
       "\n",
       " \n",
       ">                  RowBox[{OverscriptBox[\"r\", \"^\"], \" \", RowBox[{\"sin\", \"(\", \"ϕ\", \")\"}],\\\n",
       " \n",
       ">    \n",
       "                 \" \", TemplateBox[List[SubscriptBox[OverscriptBox[\"f\", \"^\"], \n",
       "\n",
       " \n",
       ">                       RowBox[List[\"y\", \",\", \"y\"]]], \"\\\"(5)\\\"\"], \"Superscript\", \n",
       "\n",
       " \n",
       ">                     Rule[SyntaxForm, SuperscriptBox]]}]}], \")\"}]}]}], \")\"}]}], \n",
       "\n",
       " \n",
       ">      TraditionalForm]\n"
      ]
     },
     "execution_count": 93,
     "metadata": {
      "text/html": [],
      "text/plain": []
     },
     "output_type": "execute_result"
    }
   ],
   "source": [
    "fh5rhrh = 1/5 EinsteinSummation[{{i, j}, {i}, {j}}, {fh5, rh, rh}];\n",
    "fh5rhrh // TraditionalForm"
   ]
  },
  {
   "cell_type": "markdown",
   "metadata": {},
   "source": [
    "Безразмерный лагранжиан\n",
    "\n",
    "$$\n",
    "\\hat{L} = \\hat{T} - (\\hat{U} + \\frac{5}{2}\\epsilon_G\\hat{\\Phi}),\n",
    "$$\n",
    "или\n",
    "$$\n",
    "\\hat{L} = \\frac{1}{2} \\left((\\hat{r}^{(1)})^2 + \\hat{r}^2 \\hat{\\omega}^2 \\right) + \\frac{1}{\\hat{r}} - \\frac{\\epsilon_G}{2}\\hat{f}_{ij}^{(5)}\\hat{r}_i \\hat{r}_j.\n",
    "$$"
   ]
  },
  {
   "cell_type": "markdown",
   "metadata": {},
   "source": [
    "### **Уравнения Эйлера-Лагранжа**\n",
    "Уравнения Эйлера-Лагранжа имеют вид:\n",
    "$$\n",
    "\\frac{d}{dt} \\left( \\frac{\\partial \\hat{L}}{\\partial \\dot{q}_i} \\right) - \\frac{\\partial \\hat{L}}{\\partial q_i} = 0,\n",
    "$$\n",
    "где $q_i$ — обобщённые координаты ($\\hat{r}$ и $\\phi$)."
   ]
  },
  {
   "cell_type": "markdown",
   "metadata": {},
   "source": [
    "---\n",
    "\n",
    "#### Уравнение для координаты $\\hat{r}$:\n",
    "$$\n",
    "\\frac{d}{d\\hat{t}} \\left(\\frac{\\partial \\hat{L}}{\\partial \\hat{r}^{(1)}} \\right) - \\frac{\\partial \\hat{L}}{\\partial \\hat{r}} = 0.\n",
    "$$\n",
    "Вычислим производные:\n",
    "$$\n",
    "\\frac{\\partial \\hat{L}}{\\partial \\hat{r}^{(1)}} = \\hat{r}^{(1)}, \\quad \\frac{d}{d\\hat{t}} \\left( \\frac{\\partial \\hat{L}}{\\partial \\hat{r}^{(1)}} \\right) = \\hat{r}^{(2)},\n",
    "$$\n",
    "$$\n",
    "\\frac{\\partial \\hat{L}}{\\partial \\hat{r}} = \\hat{r} \\hat{\\omega}^2 - \\frac{1}{\\hat{r}^2} - \\frac{5}{2}\\epsilon_G\\frac{\\partial \\hat{\\Phi}}{\\partial \\hat{r}}.\n",
    "$$\n",
    "Подставляем в уравнение Эйлера-Лагранжа:\n",
    "$$\n",
    "\\hat{r}^{(2)} - \\hat{r} \\hat{\\omega}^2 + \\frac{1}{\\hat{r}^2} = - \\frac{5}{2}\\epsilon_G\\frac{\\partial \\hat{\\Phi}}{\\partial \\hat{r}}.\n",
    "$$\n",
    "\n",
    "Это **радиальное уравнение движения**.\n",
    "\n",
    "Здесь \n",
    "$$\n",
    "\\frac{\\partial \\hat{\\Phi}}{\\partial \\hat{r}} = \\frac{1}{5}\\hat{f}_{ij}^{(5)}\\left(\\frac{\\partial \\hat{r}_i}{\\partial \\hat{r}}\\hat{r}_j + \\hat{r}_i\\frac{\\partial \\hat{r}_j}{\\partial \\hat{r}}\\right)\n",
    "$$\n",
    "<span style=\"color:red\">**TODO:**</span> Обсудить почему $\\hat{f}_{ij}^{(5)}$ берётся заданной функцией, не зависящей от $\\hat{r}$ при вариации лагранжиана."
   ]
  },
  {
   "cell_type": "markdown",
   "metadata": {},
   "source": [
    "Правая часть радиального уравнения движения будет выглядеть как"
   ]
  },
  {
   "cell_type": "code",
   "execution_count": 95,
   "metadata": {
    "vscode": {
     "languageId": "wolfram"
    }
   },
   "outputs": [
    {
     "data": {
      "text/html": [
       "<div><img alt=\"Output\" src=\"data:image/png;base64,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\"></div>"
      ],
      "text/plain": [
       "FormBox[RowBox[{OverscriptBox[\"r\", \"^\"], \" \", \n",
       "\n",
       " \n",
       ">        RowBox[{\"(\", RowBox[{\"-\", SubscriptBox[\"ϵ\", \"G\"]}], \")\"}], \" \", \n",
       "\n",
       " \n",
       ">        RowBox[{\"(\", RowBox[{RowBox[{RowBox[{\"sin\", \"(\", RowBox[{\"2\", \" \", \"ϕ\"}], \n",
       "\n",
       " \n",
       ">                \")\"}], \" \", TemplateBox[List[SubscriptBox[OverscriptBox[\"f\", \"^\"], \n",
       "\n",
       " \n",
       ">                 RowBox[List[\"x\", \",\", \"y\"]]], \"\\\"(5)\\\"\"], \"Superscript\", \n",
       "\n",
       " \n",
       ">               Rule[SyntaxForm, SuperscriptBox]]}], \"+\", \n",
       "\n",
       " \n",
       ">            RowBox[{RowBox[{SuperscriptBox[\"cos\", \"2\"], \"(\", \"ϕ\", \")\"}], \" \", \n",
       "\n",
       " \n",
       ">              TemplateBox[List[SubscriptBox[OverscriptBox[\"f\", \"^\"], \n",
       "\n",
       " \n",
       ">                 RowBox[List[\"x\", \",\", \"x\"]]], \"\\\"(5)\\\"\"], \"Superscript\", \n",
       "\n",
       " \n",
       ">               Rule[SyntaxForm, SuperscriptBox]]}], \"+\", \n",
       "\n",
       " \n",
       ">            RowBox[{RowBox[{SuperscriptBox[\"sin\", \"2\"], \"(\", \"ϕ\", \")\"}], \" \", \n",
       "\n",
       " \n",
       ">              TemplateBox[List[SubscriptBox[OverscriptBox[\"f\", \"^\"], \n",
       "\n",
       " \n",
       ">                 RowBox[List[\"y\", \",\", \"y\"]]], \"\\\"(5)\\\"\"], \"Superscript\", \n",
       "\n",
       " \n",
       ">               Rule[SyntaxForm, SuperscriptBox]]}]}], \")\"}]}], TraditionalForm]\n"
      ]
     },
     "execution_count": 95,
     "metadata": {
      "text/html": [],
      "text/plain": []
     },
     "output_type": "execute_result"
    }
   ],
   "source": [
    "RHSMotionRadialLagrange = - 1/2 Subscript[\\[Epsilon], G] FullSimplify[EinsteinSummation[{{i, j}, {i}, {j}}, {fh5, D[rh, OverHat[r][OverHat[t]]], rh}] + EinsteinSummation[{{i, j}, {i}, {j}}, {fh5, rh, D[rh, OverHat[r][OverHat[t]]]}]];\n",
    "RHSMotionRadialLagrange // TraditionalForm"
   ]
  },
  {
   "cell_type": "markdown",
   "metadata": {},
   "source": [
    "<span style=\"color:red\">**NB:**</span> Выражение <span style=\"color:green\">**совпадает**</span> с раннее полученным уравнением и с уравнением (10) из файла Binary.pdf"
   ]
  },
  {
   "cell_type": "code",
   "execution_count": 96,
   "metadata": {
    "vscode": {
     "languageId": "wolfram"
    }
   },
   "outputs": [
    {
     "data": {
      "text/html": [
       "<div><pre style=\"&#102;&#111;&#110;&#116;&#45;&#102;&#97;&#109;&#105;&#108;&#121;&#58;&#32;&#34;&#67;&#111;&#117;&#114;&#105;&#101;&#114;&#32;&#78;&#101;&#119;&#34;&#44;&#67;&#111;&#117;&#114;&#105;&#101;&#114;&#44;&#109;&#111;&#110;&#111;&#115;&#112;&#97;&#99;&#101;&#59;\">&#48;</pre></div>"
      ],
      "text/plain": [
       "0"
      ]
     },
     "execution_count": 96,
     "metadata": {
      "text/html": [],
      "text/plain": []
     },
     "output_type": "execute_result"
    }
   ],
   "source": [
    "RHSMotion[[1]] - RHSMotionRadialLagrange"
   ]
  },
  {
   "cell_type": "markdown",
   "metadata": {},
   "source": [
    "---\n",
    "\n",
    "#### Уравнение для координаты $\\phi$:\n",
    "$$\n",
    "\\frac{d}{d\\hat{t}} \\left(\\frac{\\partial \\hat{L}}{\\partial \\hat{\\omega}} \\right) - \\frac{\\partial \\hat{L}}{\\partial \\phi} = 0.\n",
    "$$\n",
    "Вычислим производные:\n",
    "$$\n",
    "\\frac{\\partial \\hat{L}}{\\partial \\hat{\\omega}} = \\hat{r}^2 \\hat{\\omega}, \\quad \\frac{d}{d\\hat{t}} \\left( \\frac{\\partial \\hat{L}}{\\partial \\hat{\\omega}} \\right) = \\frac{d}{d\\hat{t}} \\left( \\hat{r}^2 \\hat{\\omega} \\right),\n",
    "$$\n",
    "$$\n",
    "\\frac{\\partial \\hat{L}}{\\partial \\phi} = - \\frac{5}{2}\\epsilon_G\\frac{\\partial \\hat{\\Phi}}{\\partial \\phi}.\n",
    "$$\n",
    "Подставляем в уравнение Эйлера-Лагранжа:\n",
    "$$\n",
    "\\frac{1}{\\hat{r}}\\frac{d}{d\\hat{t}} \\left( \\hat{r}^2 \\hat{\\omega} \\right) = \\frac{1}{\\hat{r}}\\frac{d\\hat{J}}{d\\hat{t}} = - \\frac{5}{2}\\frac{\\epsilon_G}{\\hat{r}}\\frac{\\partial \\hat{\\Phi}}{\\partial \\phi}.\n",
    "$$\n",
    "\n",
    "Здесь \n",
    "$$\n",
    "\\frac{\\partial \\hat{\\Phi}}{\\partial \\phi} = \\frac{1}{5}\\hat{f}_{ij}^{(5)}\\left(\\frac{\\partial \\hat{r}_i}{\\partial \\phi}\\hat{r}_j + \\hat{r}_i\\frac{\\partial \\hat{r}_j}{\\partial \\phi}\\right)\n",
    "$$\n",
    "<span style=\"color:red\">**TODO:**</span> Обсудить почему $\\hat{f}_{ij}^{(5)}$ берётся заданной функцией, не зависящей от $\\phi$ при вариации лагранжиана."
   ]
  },
  {
   "cell_type": "markdown",
   "metadata": {},
   "source": [
    "Правая часть уравнения движения для $\\phi$ будет выглядеть как"
   ]
  },
  {
   "cell_type": "code",
   "execution_count": 98,
   "metadata": {
    "vscode": {
     "languageId": "wolfram"
    }
   },
   "outputs": [
    {
     "data": {
      "text/html": [
       "<div><img alt=\"Output\" src=\"data:image/png;base64,iVBORw0KGgoAAAANSUhEUgAAAhUAAAA7CAIAAABDv+9GAAAAz3pUWHRSYXcgcHJvZmlsZSB0eXBlIGV4aWYAAHjabU9BbgQhDLvzin1CSIIDz2F2Wak/6PPXDFQVVS2N7Zgko6Tx/fVOjwnNkrxERQOE8OZNO02VhaVZ2s2rKKI7PfJk127ojMrvA8bOrzMPLNX6Z9HeLzb/QG++B/Yi05Xnvupr92uv9VxkcqD9mPx/7RaKghxOdpUINPqaaCkoKiXwxhNgY8ZLxZ/UgQiOIWaH9Tk4oSPO7pFgDF7zBJtfsU41cjZeRLY7yeRirtd+vQ9JH1BvWq7+elMfAAAACXBIWXMAABYlAAAWJQFJUiTwAAAAPHRFWHRTb2Z0d2FyZQBDcmVhdGVkIHdpdGggdGhlIFdvbGZyYW0gTGFuZ3VhZ2UgOiB3d3cud29sZnJhbS5jb21coqaFAAAAIXRFWHRDcmVhdGlvbiBUaW1lADIwMjU6MDM6MTAgMTM6MDE6NTRc5gmnAAAcRUlEQVR4Xu2dddAcRROHSXB3t+DuDiE4BHcPGoK7O4VbgAT3oCG4u/Ph7hrcLbjb91C/Ymprdnd27m52b+/NzB+pvHuzI73d097T7Z9//hkhXPvyyy9POOGEXr16rb766uFGjSNFCEQIRAhECNQOAt1DrWjYsGEHHHDAdNNN179//48//jjUsHGcCIEIgQiBCIF6QiAM/xg4cOAiiywyaNCgn376qZ77jKuKEIgQiBCIEAgLgTD8o3fv3q+//vrtt98ednFxtAiBCIEIgQiB2kIgDP+YZZZZRhxxxIkmmqi2+4wLixCIEIgQiBAIC4Ew/CPsmuJoEQIRAhECEQL1h0DkH/X/RnGFEQIRAhECdYRA5B91/CpxTRECEQIRAvWHQOQf9f9GcYURAhECEQJ1hEDkH3X8KnFNEQIRAhEC9YdA5B/1/0ZxhRECEQIRAnWEQLeA9Us+/PDDaaaZhl2eddZZ22+/fR23672mQw455Mgjj/Tu3sU71goaTzzxxJNPPimI//LLL7///vvBBx/cxT/Af9v766+/zj777L///lsPHnvssQEDBkwyySTW9snEmmCCCUjpHU7AErfZHAQ8ScmFTvCPUO2DDz7QNuAfocZsyziU8FpvvfXaMnUNJ60VNDg655xzziS1PPLIIzUEWklLuvrqq5N7X2GFFTInIpm3R48eFKMraRlx2C4AAX9ScqBTtF/ZnPuBBx5A3D7qqKOaY+ld7K1CaEBIKAF//PFHeRtH6EbDePDBB5nijjvuGHnkkf/3X3v88ccXX3xxnp9zzjmXXHJJeWvIGxnth+0HVOKtiZJ756cTTzzx1FNPNdu/+OKLM/dOPu+yyy676aabGk2lesjEGRuFQG1JyYVOARlpF9A/vv7660knnXTrrbcOCJbOHcoHGvvssw90QumBjz76qKSdbrPNNuuvv74GX2aZZTCNvvvuu9ZcP//881xzzVWx4gvCTzjhhGx///33r2DvcNCxxx774YcfZrPJ6TL3/v7774866qjYYEtaWBw2OATqTEp56DRCQCi8/PLLYrmnn356wGGrHOq4445DvAVYVU5a27kKoXHrrbd269ZNH33JJZf8888/g+8Fc/9MM830/fffM/IzzzxjZLr555+fkzQ5HVo2Rn/rYfD1mAFRuZZYYgmtByCgGAWfK7l3Bjd3Iow22mjUuv7xxx/NjJl733XXXccZZ5wffvgh+MLigMEhUH9SykSnkPzj2GOPFTmtssoqweFbwYCcCFNPPfXyyy9fwVz1n6IQGoRLIH1jZ3/xxRf32GMPvvuBBx4Ydl+YX8Yff3xsUxr2pZde2nvvvTm1OUCFaZbCse2226KghF1D3mj77bcfC+Df5557DrSZeOKJubYg4NTW3hkZsWyjjTaadtpptXfYapI3pPf+1FNP0e3MM88MuKo4VBkQ6AhSykSnMPwDHJ177rmT9j6MCdttt10ZsC5vzCuvvJItENBS3hQdNLIbGqgaPXv2xPfwxRdfaFMc5aOMMsqdd94ZcI+vvvoqXyTtIWdSZBR+GmOMMTAimRnxDYw55phlqEHWpohIwTp04YUX6vmnn3660EILLbXUUgGnzts70w0ePBjFgu3vsssujr3DgSabbLI55pgj4BeJQwWHQKeQUiY6heEfwWHalgE5EKHJt956qy2z121SNzTQTu69995ff/01uWwMmG+++WbAjZx//vl8ke+++y49JtiMf5hf8SGbX++77z6ePPvsswHXkDkU2+R8T/7EzTcAJCD/cOydeTFYde/eneva3HvHkwdAAEvZAInjNw2BDiKlNDrVKP6q7FCWpHqU/j+mgEcffXTmmWeeccYZ3T2tX8Gbhvp3ROdCaIw00khE+CCDJ7eDqItRJeAGn3766SmnnFKyttVwOWyxxRbi9+an2Wabjf9jUAq4hsyh2KbmMg1NCIBwi0GoqR17ZwpCYhZddNH33nsPjqUZM/e+6qqr8tO1114balVxnOAQ6CBSSqNTXfgHFsApppgCIsSGHvwL+QxIShoirfGI+rxCn1deeQV7NFwn7JW98KRrrrmmT58+WEX4ZsDk888/91xSkG6NQgMZCmc7LnQSSLFbfvvtt0GWgUGMANa8ofA68NOss85qOihclQiIILN7DtKWvbM2tj/DDDNw+midmXsXPsOKPPfSXLdPPvmECLQVV1wRlrbVVluBus2NU+VbbSexvM22BZ08SSkDnZpWuwK+WEEoS+FqlfBx/PHHF/ZMdjjppJOEBxdddFFDL6Y7o/3oIZYQDmILvYgsuueee1qcgoQyT/tSQ9Dg86299to4HjDg9O3bl5UfdthhLS5Vr7MMWEjeUEcffTSTcniZDjjYmR3nRJDZfQZp195JOiGWd8899yzc+7jjjouaiHLvs50m+gwZMgSxz0LXddZZJ6Apr4lVpV/56quv3njjjbJJjIQkJJ6mF9wudPInJQudauH/KDuUxedzrrbaatAAmr5PZ9Nn6NChCyywAK6CVnJ9OQvIaSDiQO4Ech1YCf7hY445BrFu8sknF3HiCx02bJj/8jjNCWpAPDevYNghuyXpMMgbrSFoEBPF8khtY7SDDjoIy1KoAG5YJiO//fbbjIx8TWgcPg/iQPiTGGus/xbbJj0bCxInhT+UWuxZzd5Z5HXXXbfgggsSIKCYqyOOOAJrIaKGWX/e3sFPYFiST4hvQSwcKLrbbrtRp2CNNdYwjIRozBZhG/B1Mi4RsS+77DKNWR6JgZ9g6Weffdbc4qtBp1ZIyUKn9vOPCkJZfL6lLt81SoDPK0H6IK1goYJ5KJBJQXKDBg0yg8Mz5plnHpFlQ7GYBOfwipULSQ4aMvsZZ5zhXrw/NDDccYKMPvro5izDeBUEMgyC1AzDM0G6JgECcMGzyY23JurXrx9WlFCzF45T5d4pdSW73HjjjQcjIWDaSuzI27ts1iYGunBTDXVg8IUXXhjjqnnrggsuEK5SlauhocrrDPNAizW0UyqJgbHoXrjHmqCCKtGpaVKy0Kn9/KOCUJZC1CQVS0j/zjvvFHYO24FaKZwLJuhrr732whZkTaHSHTTUFP/ZxXWQW61XYB4qAZI3VEPQOPzww5kFfcV/YQ31vOmmm/Aw6YRCbkIXIfQoKXeb0bDyk4ThaaBraA15navcO2sgDu21117LTG517F0WxZ122inIlpODUJ4AyxhKrTUyKThC16bF8IBL5VBGcd9yyy3NmGWTGOUA8AJyzjZqyKoSnZomJQud2s8/AuJK00NBk8L4zFBRjJKkyJHZwOEF3K3qEUwKIZEBYM1ORIDJjYAtEduaXt6NN96ItSdpxUZdsAJDeeu3334jWLMh/vHNN9/wCuSdTj9mO7PPPjtElZfv5oaGtYt5552Xhcl4VVLDM4+2YcUKW3OxF0KSgGdJa8gctiP2vu+++/KBSDz0hMwNN9yAFQUkKeyPsp5EXdPflEP24R+UvSG/B89Enr+E53BNKAjSy1ySgzwhnMUWW8xyklVAYpdffjkwRzQshGGyQyeiU/v5B9Z/5OuTTz4Z0yGKOfiE/IuMgK8fVHZ/AE5JJC8M/cYz1tAHM51NxGdaZCASiYMJrxGGEZzYGHaWXnppvYgUfNVVV6Guoh0b+wA8hsOUQBQYA2iEVdrUi2Wc5JHNXIScgWeFecuASIGhnn4FKIr10B+MTHM7Vq5f88p8OaBhIAbN43tgPeK72Mr4k802B//Ct2655RaHwsTrOHVwnheOE6RDZ+0dTwkfyL8kxI477kj/TA3PE3oKoYRS3P0HDhyIEANNqf48cfMWvaOUU2AY57yEJ8K48VskwyUY30Ge/Irlkxex7BWuPCyJweogbU4AAqwLp+5odGo//8DgQMQnYf5CEViCubcAdpIJfRyk1BpT6Toa9ncE6sLv5OggPy2YavWBivANYhVRrSHkKdzRSDT8nzN6ueWWM85twz9wepuFsSo0gN69exsWkiy4fddddzEpLu7Clctii9EJd727M/oTCuZYY40lyAg42MoRxJIvSsMA2qoda7U8aCS7IdXCI+UmIYSU/9OGk6L3nbV3JDO+EdJYIZqpQ+v8QyZyAnnzZkSlAFVAG91lQjdVE0BI4kYKvXXzzTeDxni/0ClxKrzwwgtUPKMP9WyMJOEgTw2i2sxpE256YcFJjO0zNXFNhWDvaHRqP/8QfCnOBbgxo2OoxbeDUM+fFIlLQ59CdUQu8itBriAZtiP65Om2hR9PHVAjMiUmnaRMZMZBxAaPzZ8KGKUl/ZOmjiQBQqjeWt6GG25INzQVYxmgrCxP0LQKF0kfehaasFHjcBXAdLGA8S+vAB8l9KUdJ+Ss8DxTw8uDRnqdykeF3xduoet16JS9c0bzjZBgPD9Bi/wDQy72IqSWZF0Za2qprclqaXfffbfoiCAuOhMzIqXEREzxEIMwkhwP0VSkVbvJk/50RgnINEpbSwpOYtSYYXYMAJ5g71B0qgv/wCgEuHEdI+BL2M+MVUVZwZRET8BdyDMwhSF6kEOApkzpVvrjwxC/sZr0XIQd6zmqJc9RnyFC/YTATqE6042w3TT/MNlzSenj3HPPVU/j4NWWich0YxgGMbgOrChz5eZd/MysE7bB7Pg8EO6k2cBCREUWPNGEeN6/f39/aKR7Sq9Cv/Ekkq7UrVP2ft555/GN8Oh6Ar9F/iGp6JRTTsmbDjwkhAxctfAZLFpzzTUVwKJK5oiJ1iAmuRilip/c5El4HoNgHyvceBkkprWhQhXOrg4dik7/8g9OHOx07pYpTYAKCOCFrdC+jzRhKqpy3jkgvvvuuwux3N5UYxXdYIMNOKARLrC08C2ZJfNF6fjY0KypYTkc3Dr30crTPnBoIM0/kHf0MMk/UJv0EE1cs0gzuOKKKxz7xUeC+QtDEw58RzdmlAFQ6r+kOVIx+L8JprIyADbZZJO8oz8PGtYC4FIyTJfn9vCkPc9uTeN5evwO2jux4HwjpK48KGHMTNK+EAMVNvlQ9fML20MPPQRKOCxXjIAMx/hkYzhGU55z2rSLNi8iwlfK627ylBMbp6N72SWRGGKiluqj/XQuOv3LP1R8u7ClAySkGhe2wkK8pIBoEOOazvvkFGygG/I4aSyYlVZaaSVUFpApGWVEfCodCEtPXpCAiIF6kVfcWydmpoxGMQZG0/KgDRhY0rXozz9ENjTDP7Dk8udtt93mwG8iYXB7FGaeY+hjKPwxGurQQw/lTzIG+D8b17xWhuMOO+zAQ5wl6dkd0Eh2lnxHK5QPCs+dajo0jefp5XXQ3nUtY9q3p00ZWcdNxYRUFX4jLvXCvgRJumO3VLKBal2OAeVXo55Yug+ZRvw033zz6ScHeWJ1oCfngHvlJZGYKTiEGa0QdJ2LTv/KjyuvvDIFJ9yN2GQJm8mGdF+ofNBBx5mjyZNMI3LJ0Q1JAfWWDuAQeI+nneObYxF3OiZXvYiZCD8BbgAidsxDnk8//fSEMJrIdGsWbS3zss91112XK4nAV3WgujtJtkGua0WLZ0w4X96WiWjiKMcEDGNwAxC5T/SmbjgYoWQoh/+Lf8AaRZOmad4kiMxPDmgkR0DJ409ArSiy+rem8Ty9tQ7au7A6TbzaFKRkEb7c1BQ+SD4np9r9fUEn3JZQGRUcTEmuzFdk8oWQHZXNdCkZrpT0CNKzzXYc5FlIX4xTHokZus4kMWtfHYxOhbyxgg7EKQFQVAr3XJzaCmNFhMnsSWyfvCOZl9CBsnnpgaqVTTCVNSy4rsw+dC+ULWkMNBNH24r+ofM978pVdA5it3zShjkgFFCAy46lEqyCsEltWu1F9uidd97Z2pqCZDLvN82DhjUCITSMsPHGG1eAIXWbooP2roRwImU9YdiE/wOUU5Ch20WnBZgE9bTlFo6CKEmfXr16ibelw4hV6W/zzTenm5s80ezpmXZqGjiUSmIK6IKVFrppWU/nolP76+/i5dZVOYpAcDQ+BgIOHbDMZnYjYQe9BF0hs4wungzjzLBeF9cxpbDNr8qQ4k/4FlY4LEKStU1CuHvB7l8VTIIPKd0NN8Zaa61FKDC++uSvqFwKrEo2PDpyckjuw8+BP0n1CTApkBjBmlUPMdk0r9bgCQ2rm4QmhUgOb62D9i6sFoaX0TgfN9tsM9RcvG44q5NTUAJLskiySVikod9YyE8kq24tk2hFrArxL8l3QXVi6HlCsDj/usnTQV+8WzaJaWso/eaCZwfwOxed2s8/ZLzi7MO+VIjfMkBh0kHVSHfWsU6tguRPcBQM9KYZf3Kyj6iLJIn0mPi9jZKBL44QEfoYRQQU1ytgtnnXWLeSGrrpibCmnmJyVOOwJqUmPAYrnIdQGrOrEVaA1oUZQdc6JRtiGuYpnmj7qvZDtiM+T8Q01oDmZB0fiDy6NiOT0TqgYeaFjAmp4M/hkH901t6F1eXxD/QVDn0ipp5//nmDrpdeeimeQrTbZEVFIQ/R3iovjYcZ9CP5FyUDQQf5jLeI3+UnrGcyt+LDSNqKYSf8Sei5tGqagzwpkoZeTn8ZvZOtAhIjozmPvqzFdDY6eWq15XXDiQJAPW8d5yiXBoAZlGMRJZHA3Ouvv57wJKJrxOqlApuGQdackuSvkq+e3gtVl3kRo6r1E7lLPOdeUvnn4T3EnuPQpr96cuu9sCGZyw1J6CFKvRlQNYZpJrQRJOZPy2iGHGdyEi0805+8lV4/MWb8RHQZ5ATFwn6QaLAHQj/4gdL9dSEEylzmZ82DRrIz4cKMQKZkXtkJ+BbRMpwsppAcEQQmdsAM5dmtPPRrYuTCvTMmYMEpivKnDE2UbP6fGfuHJIQ8pKLCNKwuJoeuibWlX0GL9acvXm/IfmWwOhNXIbfMLYDDaX6GtTaZjURQn+pFQllyyOOI7tGjB1GUpm5mIXmqzq4JvtdiqiExVbAmeKHwI4ZCp2pIyUKn9ud/6Lj0rMzBx4CFUC2Ds8/c9TbVVFNhS0WEERKna5lAujxX3nhmM3GBlr2VT4vhGJSl8Tp+BQLAdCJT2woxKnlVEfUKoXxC1JOX0KFDoPpI3VaDSyE9aRlcD8WT5KkqzT2v5WURgzpIakljFBoSKZl5d/FiWGAKKls0BI1kZ9U4ItYzD6TgGd+FPkReqA/Lw9lu9ffsVkiEVXYo3DuLwRRDJJJOEMK+wSL+n461w1FHIByeXvCKt/g/yFMYMtTQZpUzgZ/Z8y1cZchhmWVvrBHkYHA0LFp5k2KCRsoxbnB8J4aDmleQctD4GR9khvoQhlAplJCr5iBPdZB4ZxUkrYDEsDFwYiBdYXAuBHsodKqGlCx0aj//KIRvXgc+ErKtuRgHO6zusUnXYJe2q5yjzGasYVZ1HQaHkBiZGHmwGYuNjzfMf0c4frA+GV+3/4t5PZVlAhtz3BcEj+Qcx0uU1ycPGslJZUgkxN6xZpQ2rBDmAhJu4dYpaTXPbq0DJ9QIPntnLry7nI9SB5VLkYc8qrQPZWK3wdwa9v4S6RN5tc5CwaS5cfj0FFtz352D9YkgXWwM6RQ0H/KEuDDntlgfL7k7HxIjhQCYs2wfsAREpwpIyUKnDuYf6W+j1KdkXQT1kdc9bTwxIyC/K4SppGt2HGh02mmnIe4RgOuDaoV9CF8uDGPjkIJpZdrBNH4hNDjjULwQr5IZNplrQ5gFqkq556RAvm6lW+H2K+jgv3cWo7DvwqrAssPg8Srjzj40Dwav1W1OFXwmMwXfi6gZT/O4z8IKSYywYxRKT6EwODp5UpzPTjP7WOjUfv+5WwVu6Fc8zJTNQc8wyd68jpKLCIPxBOU3bzTkRIW9K7qjysb3xvSEoRa1qfV5qZogD39eI8MGa/v9999vwmDSPTOhgdkQ36bqfeHJwCSNg7Qwtl1WYIVIcIGPkDvdPLu1Dp/mRmhu78yl4IL0bcTWMtQNN1vS8tncUtNvCaVlKR0OG7UbEM4wVBBLEiRty01iKEmomwS1q2xMZisVncomJRudmmZEyRdRzPF3qQA7pTRJh/Yp/R9kamsQ0j6pvYhEj6tAd0lyGhJOjiXUPZ1ujmzogr+A68cliJSUWQ23oVlw7zvULORcjqr0VSXpKdLQ4BIO4IOujROY5GEm8rlhTZW4+vTpgyfGkSni2a0hUATs3PTe5QFylxhgnTJ3hHV7mO2zBsjBxxAfEGJ1GwrKgn9kZjs1ulQ3ieHphHO4xywVncomJQudAtivsKenJSwiwQurbjT65fz7E7pKEBHRfkRn+dSfYeQhQ4ZAw/ic/WcJ29Nd0ctnLiI1yQp09MQ84mkhSUODCDekY5gcNhncJz4XG2glxGtShZTyw7rGXI1lWCXlM7v57LqCPs3tHZeDCs1iMGSRScdv0jvNcwoHkEKBSRDih7sHPOuVBU2ltQqgVP8pLJRrYsGFJOZDxWHRqUpSSqNTAP4R6jL6Jj5nwFdU5yNZqj3g4B03VCY00O2IZCNkyJMJadeqOqUzVA2vCVnEWBrh7uZhulutgOa/d/Q/kuZwaxGCxRYIGUBixURpPBDYV+HEFBlE7cCQiNkKowepD0CJiDjsDz5Z3J7A4WMx7PBZI8ATRG3pFgqdKialNDq1yj8CXkbflg+ZnJTocowtAaW/tu+olQWEggb+RvSVZAFXDF8K/0/efZLu1sri2/gunJKtYURV1gJVkPkTp5RhuuRd8wSbEgoHDiTdhkTMFZZ6AghJAg24eM0OPws4ZhyqSgi40aliUkqjU6v8I+Bl9FV+lcy5lPtKylvbV1KHBYSCBvmhJuHL7AtFGBdLMrsqs1sd4NDoGvAFmite9G66AisBHURzWKYqDK2etlb/JZGTRCxQK5fR+s8Ve5YBgUJ0qpKU0ujUavwV0jq3XFhhBjiR8up91jkCBIM1KdykB9Z5kZWtLQg0qP9IoBcmGmvZqK3Em6lsHC2vW2WbDTgRioVudjFNXnTTsKETYEJdNZIKVSNWDf2DFnAlJK5iTOM7Ki8qtk6EQCE6VUZK2ehUBs9s9DL6MtbQ3JhYpUl583GCNTd+Z73VNDQoKozRn4pG/fr1y0yaI84NuamwW2eBy3O1xEAXRmR5DuXuptSioUOHBhktDlJPCFRGSpno1Kr9KhOm/pfR1+2TUAMO36bj9s26LbjU9TQNDS4Eo+BEIRg9u5W6x646ODIQVTXxu3TVDcZ9JSFQNinloVMp/MPzMvp6YgDmOJINkxca1nOd1awqQqMaOAefBeZNZbl2pWEF304csL0QyEOnbiwrrFkQ3yD5ZdTHpWCUdR9A2IlKGg2AULOIZC5uEylpig4aNkKjgz6WWSphnRQ5JxKkMPW9E3cX11wxBBzoFJh/YOwmhQ3XKJHCjnohFe+/0ekICuD+JQU7xxah0XE4QJoORQlVRCC2CIEWIeBAp8D8g2tkSJXCGFd4ZXeLWyr7deRun4vDyl5GTcaP0KjJh/BcRvxenoCK3Xwg4ECnkPyDy+j79u3LVRy6Eiq2CIEIgQiBCIEuDIFg/INL97BccRGedWV3F4Zd3FqEQIRAhMDwDIFW8wcFu4Yuox+ewR33HiEQIRAh0GUgEED/4CYiiqeS2p4MWKL4D1UcBg8eTATIgAEDugy84kYiBCIEIgQiBASBVvkH0bo9e/akkk8eQOEujquK4meIEIgQiBCIEOhQCLRqv6I0tIN5cIlTZB4dihlx2RECEQIRAm4I/B/FPb1ZhGLVFwAAAABJRU5ErkJggg==\"></div>"
      ],
      "text/plain": [
       "FormBox[RowBox[{RowBox[{\"-\", FractionBox[\"1\", \"2\"]}], \" \", OverscriptBox[\"r\", \"^\"], \n",
       "\n",
       " \n",
       ">        \" \", SubscriptBox[\"ϵ\", \"G\"], \" \", \n",
       "\n",
       " \n",
       ">        RowBox[{\"(\", RowBox[{RowBox[{RowBox[{\"sin\", \"(\", RowBox[{\"2\", \" \", \"ϕ\"}], \n",
       "\n",
       " \n",
       ">                \")\"}], \" \", RowBox[{\"(\", \n",
       "\n",
       " \n",
       ">                RowBox[{TemplateBox[List[SubscriptBox[OverscriptBox[\"f\", \"^\"], \n",
       "\n",
       " \n",
       ">                     RowBox[List[\"y\", \",\", \"y\"]]], \"\\\"(5)\\\"\"], \"Superscript\", \n",
       "\n",
       " \n",
       ">                   Rule[SyntaxForm, SuperscriptBox]], \"-\", \n",
       "\n",
       " \n",
       ">                  TemplateBox[List[SubscriptBox[OverscriptBox[\"f\", \"^\"], \n",
       "\n",
       " \n",
       ">                     RowBox[List[\"x\", \",\", \"x\"]]], \"\\\"(5)\\\"\"], \"Superscript\", \n",
       "\n",
       " \n",
       ">                   Rule[SyntaxForm, SuperscriptBox]]}], \")\"}]}], \"+\", \n",
       "\n",
       " \n",
       ">            RowBox[{\"2\", \" \", RowBox[{\"cos\", \"(\", RowBox[{\"2\", \" \", \"ϕ\"}], \")\"}], \" \", \n",
       "\n",
       " \n",
       ">              TemplateBox[List[SubscriptBox[OverscriptBox[\"f\", \"^\"], \n",
       "\n",
       " \n",
       ">                 RowBox[List[\"x\", \",\", \"y\"]]], \"\\\"(5)\\\"\"], \"Superscript\", \n",
       "\n",
       " \n",
       ">               Rule[SyntaxForm, SuperscriptBox]]}]}], \")\"}]}], TraditionalForm]\n"
      ]
     },
     "execution_count": 98,
     "metadata": {
      "text/html": [],
      "text/plain": []
     },
     "output_type": "execute_result"
    }
   ],
   "source": [
    "RHSMotionPhiLagrange = - 1/2 Subscript[\\[Epsilon], G] FullSimplify[EinsteinSummation[{{i, j}, {i}, {j}}, {fh5, D[rh, \\[Phi][OverHat[t]]], rh}] + EinsteinSummation[{{i, j}, {i}, {j}}, {fh5, rh, D[rh, \\[Phi][OverHat[t]]]}]]/OverHat[r][OverHat[t]];\n",
    "RHSMotionPhiLagrange // TraditionalForm"
   ]
  },
  {
   "cell_type": "markdown",
   "metadata": {},
   "source": [
    "<span style=\"color:red\">**NB:**</span> Выражение <span style=\"color:green\">**совпадает**</span> с раннее полученным уравнением и с уравнением (9) из файла Binary.pdf"
   ]
  },
  {
   "cell_type": "code",
   "execution_count": 99,
   "metadata": {
    "vscode": {
     "languageId": "wolfram"
    }
   },
   "outputs": [
    {
     "data": {
      "text/html": [
       "<div><pre style=\"&#102;&#111;&#110;&#116;&#45;&#102;&#97;&#109;&#105;&#108;&#121;&#58;&#32;&#34;&#67;&#111;&#117;&#114;&#105;&#101;&#114;&#32;&#78;&#101;&#119;&#34;&#44;&#67;&#111;&#117;&#114;&#105;&#101;&#114;&#44;&#109;&#111;&#110;&#111;&#115;&#112;&#97;&#99;&#101;&#59;\">&#48;</pre></div>"
      ],
      "text/plain": [
       "0"
      ]
     },
     "execution_count": 99,
     "metadata": {
      "text/html": [],
      "text/plain": []
     },
     "output_type": "execute_result"
    }
   ],
   "source": [
    "RHSMotion[[2]] - RHSMotionPhiLagrange"
   ]
  },
  {
   "cell_type": "markdown",
   "metadata": {},
   "source": [
    "## Получим **энергетическую** систему уравнений в подходе Лагранжа"
   ]
  },
  {
   "cell_type": "markdown",
   "metadata": {},
   "source": [
    "Заметим, что энергия системы:\n",
    "$$\n",
    "\\hat{E} = \\frac{(\\hat{r}^{(1)})^2}{2} + \\frac{\\hat{r}^2 \\hat{\\omega}^2}{2} - \\frac{1}{\\hat{r}}\n",
    "$$\n",
    "$$\n",
    "\\frac{1}{\\hat{r}^{(1)}}\\left(\\frac{d\\hat{E}}{d\\hat{t}} - \\hat{\\omega} \\frac{d\\hat{J}}{d\\hat{t}}\\right) = \\hat{r}^{(2)} - \\hat{r} \\hat{\\omega}^2 + \\frac{1}{\\hat{r}^2}\n",
    "$$\n",
    "\n",
    "А также уравнение для изменения момента импульса системы есть\n",
    "$$\n",
    "\\frac{d\\hat{J}}{d\\hat{t}} = - \\frac{5}{2}\\epsilon_G\\frac{\\partial \\hat{\\Phi}}{\\partial \\phi}.\n",
    "$$\n",
    "\n",
    "Итоговая энергетическая система, выведенная по-новому будет записываться как:\n",
    "\n",
    "$$\n",
    "\\begin{align}\n",
    "\\frac{d\\hat{E}}{d\\hat{t}} &= - \\frac{5}{2}\\epsilon_G\\left(\\hat{r}^{(1)}\\frac{\\partial \\hat{\\Phi}}{\\partial \\hat{r}} + \\hat{\\omega} \\frac{\\partial \\hat{\\Phi}}{\\partial \\phi}\\right) = - \\frac{5}{2}\\epsilon_G \\frac{d\\hat{\\Phi}}{d\\hat{t}}\n",
    "  = - \\frac{\\epsilon_G}{2}\\hat{f}_{ij}^{(5)}\\left(\\frac{d\\hat{r}_i}{d\\hat{t}}\\hat{r}_j + \\hat{r}_i\\frac{d\\hat{r}_j}{d\\hat{t}}\\right)\n",
    "\\\\\n",
    "\\frac{d\\hat{J}}{d\\hat{t}} &= - \\frac{5}{2}\\epsilon_G\\frac{\\partial \\hat{\\Phi}}{\\partial \\phi} = - \\frac{\\epsilon_G}{2}\\hat{f}_{ij}^{(5)}\\left(\\frac{\\partial \\hat{r}_i}{\\partial \\phi}\\hat{r}_j + \\hat{r}_i\\frac{\\partial \\hat{r}_j}{\\partial \\phi}\\right)\n",
    "\\end{align}\n",
    "$$"
   ]
  },
  {
   "cell_type": "markdown",
   "metadata": {},
   "source": [
    "И снова, чтобы перейти в размерный вид, достаточно положить $\\epsilon_G \\equiv \\frac{2}{5}\\mu$\n",
    "\n",
    "То есть\n",
    "$$\n",
    "\\begin{align}\n",
    "\\frac{dE}{dt} &= - \\mu\\frac{d\\Phi}{dt}\n",
    "\\\\\n",
    "\\frac{dJ}{dt} &= - \\mu\\frac{\\partial \\Phi}{\\partial \\phi}\n",
    "\\end{align}\n",
    "$$\n",
    "<span style=\"color:red\">**TODO:**</span> Обсудить почему $\\hat{f}_{ij}^{(5)}$ берётся заданной функцией, не зависящей от $\\hat{r}, \\phi, \\hat{t}$ при вариации лагранжиана."
   ]
  },
  {
   "cell_type": "code",
   "execution_count": 101,
   "metadata": {
    "vscode": {
     "languageId": "wolfram"
    }
   },
   "outputs": [
    {
     "data": {
      "text/html": [
       "<div><img alt=\"Output\" src=\"data:image/png;base64,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\"></div>"
      ],
      "text/plain": [
       "FormBox[TagBox[RowBox[{\"(\", \"⁠\", \n",
       "\n",
       " \n",
       ">         TagBox[GridBox[{{RowBox[{OverscriptBox[\"r\", \"^\"], \" \", \n",
       "\n",
       " \n",
       ">               RowBox[{\"(\", RowBox[{\"-\", SubscriptBox[\"ϵ\", \"G\"]}], \")\"}], \" \", \n",
       "\n",
       " \n",
       ">               RowBox[{\"(\", RowBox[{RowBox[{OverscriptBox[\"r\", \"^\"], \" \", \n",
       "\n",
       " \n",
       ">                     OverscriptBox[\"ω\", \"^\"], \" \", \n",
       "\n",
       " \n",
       ">                     RowBox[{\"(\", RowBox[{RowBox[{RowBox[{\"cos\", \"(\", \n",
       "\n",
       " \n",
       ">                             RowBox[{\"2\", \" \", \"ϕ\"}], \")\"}], \" \", \n",
       "\n",
       " \n",
       ">                           TemplateBox[List[SubscriptBox[OverscriptBox[\"f\", \n",
       "\n",
       " \n",
       ">                             \"^\"], RowBox[List[\"x\", \",\", \"y\"]]], \"\\\"(5)\\\"\"], \n",
       "\n",
       " \n",
       ">                            \"Superscript\", Rule[SyntaxForm, SuperscriptBox]]}], \n",
       "\n",
       " \n",
       ">                         \"+\", RowBox[{RowBox[{\"sin\", \"(\", \"ϕ\", \")\"}], \" \", \n",
       "\n",
       " \n",
       ">                           RowBox[{\"cos\", \"(\", \"ϕ\", \")\"}], \" \", \n",
       "\n",
       " \n",
       ">                           RowBox[{\"(\", \n",
       "\n",
       " \n",
       ">                             RowBox[{TemplateBox[List[SubscriptBox[\n",
       "\n",
       " \n",
       ">                             OverscriptBox[\"f\", \"^\"], \n",
       "\n",
       " \n",
       ">                             RowBox[List[\"y\", \",\", \"y\"]]], \"\\\"(5)\\\"\"], \n",
       "\n",
       " \n",
       ">                             \"Superscript\", Rule[SyntaxForm, SuperscriptBox]], \n",
       "\n",
       " \n",
       ">                              \"-\", \n",
       "\n",
       " \n",
       ">                              TemplateBox[List[SubscriptBox[OverscriptB\\\n",
       "\n",
       " \n",
       ">   ox[\"f\", \"^\"], RowBox[List[\"x\", \",\", \"x\"]]], \"\\\"(5)\\\"\"], \"Superscript\", \n",
       "\n",
       " \n",
       ">                              Rule[SyntaxForm, SuperscriptBox]]}], \")\"}]}]}], \")\"}]\\\n",
       "\n",
       " \n",
       ">   }], \"+\", RowBox[{SuperscriptBox[OverscriptBox[\"r\", \"^\"], \"′\"], \" \", \n",
       "\n",
       " \n",
       ">                     RowBox[{\"(\", RowBox[{RowBox[{RowBox[{\"sin\", \"(\", \n",
       "\n",
       " \n",
       ">                             RowBox[{\"2\", \" \", \"ϕ\"}], \")\"}], \" \", \n",
       "\n",
       " \n",
       ">                           TemplateBox[List[SubscriptBox[OverscriptBox[\"f\", \n",
       "\n",
       " \n",
       ">                             \"^\"], RowBox[List[\"x\", \",\", \"y\"]]], \"\\\"(5)\\\"\"], \n",
       "\n",
       " \n",
       ">                            \"Superscript\", Rule[SyntaxForm, SuperscriptBox]]}], \n",
       "\n",
       " \n",
       ">                         \"+\", RowBox[{RowBox[{SuperscriptBox[\"cos\", \"2\"], \"(\", \n",
       "\n",
       " \n",
       ">                             \"ϕ\", \")\"}], \" \", \n",
       "\n",
       " \n",
       ">                           TemplateBox[List[SubscriptBox[OverscriptBox[\"f\", \n",
       "\n",
       " \n",
       ">                             \"^\"], RowBox[List[\"x\", \",\", \"x\"]]], \"\\\"(5)\\\"\"], \n",
       "\n",
       " \n",
       ">                            \"Superscript\", Rule[SyntaxForm, SuperscriptBox]]}], \n",
       "\n",
       " \n",
       ">                         \"+\", RowBox[{RowBox[{SuperscriptBox[\"sin\", \"2\"], \"(\", \n",
       "\n",
       " \n",
       ">                             \"ϕ\", \")\"}], \" \", \n",
       "\n",
       " \n",
       ">                           TemplateBox[List[SubscriptBox[OverscriptBox[\"f\", \n",
       "\n",
       " \n",
       ">                             \"^\"], RowBox[List[\"y\", \",\", \"y\"]]], \"\\\"(5)\\\"\"], \n",
       "\n",
       " \n",
       ">                            \"Superscript\", Rule[SyntaxForm, SuperscriptBox]]}]}], \n",
       "\n",
       " \n",
       ">                       \")\"}]}]}], \")\"}]}]}, \n",
       "\n",
       " \n",
       ">            {RowBox[{RowBox[{\"-\", FractionBox[\"1\", \"2\"]}], \" \", \n",
       "\n",
       " \n",
       ">               SuperscriptBox[OverscriptBox[\"r\", \"^\"], \"2\"], \" \", \n",
       "\n",
       " \n",
       ">               SubscriptBox[\"ϵ\", \"G\"], \" \", \n",
       "\n",
       " \n",
       ">               RowBox[{\"(\", RowBox[{RowBox[{RowBox[{\"sin\", \"(\", \n",
       "\n",
       " \n",
       ">                       RowBox[{\"2\", \" \", \"ϕ\"}], \")\"}], \" \", \n",
       "\n",
       " \n",
       ">                     RowBox[{\"(\", RowBox[{TemplateBox[List[SubscriptBox[\n",
       "\n",
       " \n",
       ">                            OverscriptBox[\"f\", \"^\"], \n",
       "\n",
       " \n",
       ">                            RowBox[List[\"y\", \",\", \"y\"]]], \"\\\"(5)\\\"\"], \n",
       "\n",
       " \n",
       ">                          \"Superscript\", Rule[SyntaxForm, SuperscriptBox]], \"-\", \n",
       "\n",
       " \n",
       ">                         TemplateBox[List[SubscriptBox[OverscriptBox[\"f\", \"^\"], \n",
       "\n",
       " \n",
       ">                            RowBox[List[\"x\", \",\", \"x\"]]], \"\\\"(5)\\\"\"], \n",
       "\n",
       " \n",
       ">                          \"Superscript\", Rule[SyntaxForm, SuperscriptBox]]}], \")\"}]}\\\n",
       "\n",
       " \n",
       ">   ], \"+\", RowBox[{\"2\", \" \", RowBox[{\"cos\", \"(\", RowBox[{\"2\", \" \", \"ϕ\"}], \")\"}], \n",
       "\n",
       " \n",
       ">                     \" \", TemplateBox[List[SubscriptBox[OverscriptBox[\"f\", \"^\"], \n",
       "\n",
       " \n",
       ">                        RowBox[List[\"x\", \",\", \"y\"]]], \"\\\"(5)\\\"\"], \"Superscript\", \n",
       "\n",
       " \n",
       ">                      Rule[SyntaxForm, SuperscriptBox]]}]}], \")\"}]}]}}, \n",
       "\n",
       " \n",
       ">           Rule[RowSpacings, 1], Rule[ColumnAlignments, Center], \n",
       "\n",
       " \n",
       ">           Rule[ColumnAlignments, Left]], Column], \"⁠\", \")\"}], \n",
       "\n",
       " \n",
       ">       Function[BoxForm`e$, MatrixForm[BoxForm`e$]]], TraditionalForm]\n"
      ]
     },
     "execution_count": 101,
     "metadata": {
      "text/html": [],
      "text/plain": []
     },
     "output_type": "execute_result"
    }
   ],
   "source": [
    "RHSEnegryLagrange = - 5/2 Subscript[\\[Epsilon],G] FullSimplify[{\n",
    "  D[fh5rhrh, OverHat[t]] /. OmegaReplace,\n",
    "  D[fh5rhrh, \\[Phi][OverHat[t]]]\n",
    "}, Trig -> True];\n",
    "\n",
    "RHSEnegryLagrange // MatrixForm // TraditionalForm"
   ]
  },
  {
   "cell_type": "markdown",
   "metadata": {},
   "source": [
    "<span style=\"color:red\">**NB:**</span> Выражения полностью <span style=\"color:green\">**совпадают**</span> с предыдущим подходом!"
   ]
  },
  {
   "cell_type": "code",
   "execution_count": 102,
   "metadata": {
    "vscode": {
     "languageId": "wolfram"
    }
   },
   "outputs": [
    {
     "data": {
      "text/html": [
       "<div><img alt=\"Output\" src=\"data:image/png;base64,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\"></div>"
      ],
      "text/plain": [
       "0\n",
       "\n",
       "0"
      ]
     },
     "execution_count": 102,
     "metadata": {
      "text/html": [],
      "text/plain": []
     },
     "output_type": "execute_result"
    }
   ],
   "source": [
    "FullSimplify[RHSEnegryLagrange - RHSEnegry] // MatrixForm"
   ]
  },
  {
   "cell_type": "code",
   "execution_count": 103,
   "metadata": {
    "vscode": {
     "languageId": "wolfram"
    }
   },
   "outputs": [
    {
     "data": {
      "text/html": [
       "<div>&#36;&#36;&#92;&#108;&#101;&#102;&#116;&#92;&#123;&#92;&#104;&#97;&#116;&#123;&#114;&#125;&#32;&#92;&#108;&#101;&#102;&#116;&#40;&#45;&#92;&#101;&#112;&#115;&#105;&#108;&#111;&#110;&#32;&#95;&#71;&#92;&#114;&#105;&#103;&#104;&#116;&#41;&#32;&#92;&#108;&#101;&#102;&#116;&#40;&#92;&#104;&#97;&#116;&#123;&#114;&#125;&#32;&#92;&#104;&#97;&#116;&#123;&#92;&#111;&#109;&#101;&#103;&#97;&#32;&#125;&#32;&#92;&#108;&#101;&#102;&#116;&#40;&#92;&#99;&#111;&#115;&#32;&#40;&#50;&#32;&#92;&#112;&#104;&#105;&#32;&#41;&#32;&#92;&#104;&#97;&#116;&#123;&#102;&#125;&#95;&#123;&#120;&#44;&#121;&#125;&#123;&#125;&#94;&#123;&#92;&#116;&#101;&#120;&#116;&#123;&#40;&#53;&#41;&#125;&#125;&#43;&#92;&#115;&#105;&#110;&#32;&#40;&#92;&#112;&#104;&#105;&#32;&#41;&#32;&#92;&#99;&#111;&#115;&#32;&#40;&#92;&#112;&#104;&#105;&#32;&#41;&#32;&#92;&#108;&#101;&#102;&#116;&#40;&#92;&#104;&#97;&#116;&#123;&#102;&#125;&#95;&#123;&#121;&#44;&#121;&#125;&#123;&#125;&#94;&#123;&#92;&#116;&#101;&#120;&#116;&#123;&#40;&#53;&#41;&#125;&#125;&#45;&#92;&#104;&#97;&#116;&#123;&#102;&#125;&#95;&#123;&#120;&#44;&#120;&#125;&#123;&#125;&#94;&#123;&#92;&#116;&#101;&#120;&#116;&#123;&#40;&#53;&#41;&#125;&#125;&#92;&#114;&#105;&#103;&#104;&#116;&#41;&#92;&#114;&#105;&#103;&#104;&#116;&#41;&#43;&#92;&#104;&#97;&#116;&#123;&#114;&#125;&#39;&#32;&#92;&#108;&#101;&#102;&#116;&#40;&#92;&#115;&#105;&#110;&#32;&#40;&#50;&#32;&#92;&#112;&#104;&#105;&#32;&#41;&#32;&#92;&#104;&#97;&#116;&#123;&#102;&#125;&#95;&#123;&#120;&#44;&#121;&#125;&#123;&#125;&#94;&#123;&#92;&#116;&#101;&#120;&#116;&#123;&#40;&#53;&#41;&#125;&#125;&#43;&#92;&#99;&#111;&#115;&#32;&#94;&#50;&#40;&#92;&#112;&#104;&#105;&#32;&#41;&#32;&#92;&#104;&#97;&#116;&#123;&#102;&#125;&#95;&#123;&#120;&#44;&#120;&#125;&#123;&#125;&#94;&#123;&#92;&#116;&#101;&#120;&#116;&#123;&#40;&#53;&#41;&#125;&#125;&#43;&#92;&#115;&#105;&#110;&#32;&#94;&#50;&#40;&#92;&#112;&#104;&#105;&#32;&#41;&#32;&#92;&#104;&#97;&#116;&#123;&#102;&#125;&#95;&#123;&#121;&#44;&#121;&#125;&#123;&#125;&#94;&#123;&#92;&#116;&#101;&#120;&#116;&#123;&#40;&#53;&#41;&#125;&#125;&#92;&#114;&#105;&#103;&#104;&#116;&#41;&#92;&#114;&#105;&#103;&#104;&#116;&#41;&#44;&#45;&#92;&#102;&#114;&#97;&#99;&#123;&#49;&#125;&#123;&#50;&#125;&#32;&#92;&#104;&#97;&#116;&#123;&#114;&#125;&#94;&#50;&#32;&#92;&#101;&#112;&#115;&#105;&#108;&#111;&#110;&#32;&#95;&#71;&#32;&#92;&#108;&#101;&#102;&#116;&#40;&#92;&#115;&#105;&#110;&#32;&#40;&#50;&#32;&#92;&#112;&#104;&#105;&#32;&#41;&#32;&#92;&#108;&#101;&#102;&#116;&#40;&#92;&#104;&#97;&#116;&#123;&#102;&#125;&#95;&#123;&#121;&#44;&#121;&#125;&#123;&#125;&#94;&#123;&#92;&#116;&#101;&#120;&#116;&#123;&#40;&#53;&#41;&#125;&#125;&#45;&#92;&#104;&#97;&#116;&#123;&#102;&#125;&#95;&#123;&#120;&#44;&#120;&#125;&#123;&#125;&#94;&#123;&#92;&#116;&#101;&#120;&#116;&#123;&#40;&#53;&#41;&#125;&#125;&#92;&#114;&#105;&#103;&#104;&#116;&#41;&#43;&#50;&#32;&#92;&#99;&#111;&#115;&#32;&#40;&#50;&#32;&#92;&#112;&#104;&#105;&#32;&#41;&#32;&#92;&#104;&#97;&#116;&#123;&#102;&#125;&#95;&#123;&#120;&#44;&#121;&#125;&#123;&#125;&#94;&#123;&#92;&#116;&#101;&#120;&#116;&#123;&#40;&#53;&#41;&#125;&#125;&#92;&#114;&#105;&#103;&#104;&#116;&#41;&#92;&#114;&#105;&#103;&#104;&#116;&#92;&#125;&#36;&#36;</div>"
      ],
      "text/plain": [
       "\\left\\{\\hat{r} \\left(-\\epsilon _G\\right) \\left(\\hat{r} \\hat{\\omega } \\left(\\cos (2 \\phi\\\n",
       " \n",
       ">   ) \\hat{f}_{x,y}{}^{\\text{(5)}}+\\sin (\\phi ) \\cos (\\phi )\\\n",
       " \n",
       ">   \\left(\\hat{f}_{y,y}{}^{\\text{(5)}}-\\hat{f}_{x,x}{}^{\\text{(5)}}\\right)\\right)+\\hat{r\\\n",
       " \n",
       ">   }' \\left(\\sin (2 \\phi ) \\hat{f}_{x,y}{}^{\\text{(5)}}+\\cos ^2(\\phi )\\\n",
       " \n",
       ">   \\hat{f}_{x,x}{}^{\\text{(5)}}+\\sin ^2(\\phi )\\\n",
       " \n",
       ">   \\hat{f}_{y,y}{}^{\\text{(5)}}\\right)\\right),-\\frac{1}{2} \\hat{r}^2 \\epsilon _G\\\n",
       " \n",
       ">   \\left(\\sin (2 \\phi )\\\n",
       " \n",
       ">   \\left(\\hat{f}_{y,y}{}^{\\text{(5)}}-\\hat{f}_{x,x}{}^{\\text{(5)}}\\right)+2 \\cos (2\\\n",
       " \n",
       ">   \\phi ) \\hat{f}_{x,y}{}^{\\text{(5)}}\\right)\\right\\}"
      ]
     },
     "execution_count": 103,
     "metadata": {
      "text/html": [],
      "text/plain": []
     },
     "output_type": "execute_result"
    }
   ],
   "source": [
    "TeXForm[RHSEnegryLagrange]"
   ]
  },
  {
   "cell_type": "markdown",
   "metadata": {},
   "source": [
    "# Итоговая система **энергетических** уравнений:\n",
    "\n",
    "$$\n",
    "\\begin{align}\n",
    "\\tag{dJ/dt}\n",
    "\\frac{d\\hat{J}}{d\\hat{t}} &= -\\frac{1}{2} \\epsilon_G\n",
    "\\hat{r}^2\n",
    "\\left(\n",
    "  \\sin (2 \\phi ) \\left(\\hat{f}_{y,y}{}^{\\text{(5)}}-\\hat{f}_{x,x}{}^{\\text{(5)}}\\right)+2 \\cos (2 \\phi ) \\hat{f}_{x,y}{}^{\\text{(5)}}\n",
    "\\right)\n",
    "= \\epsilon_G I_J\n",
    "\\\\\n",
    "\\tag{dE/dt}\n",
    "\\frac{d\\hat{E}}{d\\hat{t}} &= \\epsilon_G\n",
    "\\left(\n",
    "  I_J\\hat{\\omega}\n",
    "  -\\hat{r} \\hat{r}'\n",
    "  \\left(\n",
    "  \\sin (2 \\phi ) \\hat{f}_{x,y}{}^{\\text{(5)}}+\\cos ^2(\\phi ) \\hat{f}_{x,x}{}^{\\text{(5)}}+\\sin ^2(\\phi ) \\hat{f}_{y,y}{}^{\\text{(5)}}\n",
    "  \\right)\n",
    "\\right)\n",
    "= \\epsilon_G I_E\n",
    "\\end{align}\n",
    "$$"
   ]
  },
  {
   "cell_type": "markdown",
   "metadata": {},
   "source": [
    "# RHS уравнения (dJ/dt)\n",
    "\n",
    "Введём новое обозначение $\\hat{r}^2 \\equiv \\hat{r}_2$"
   ]
  },
  {
   "cell_type": "code",
   "execution_count": 206,
   "metadata": {
    "vscode": {
     "languageId": "wolfram"
    }
   },
   "outputs": [
    {
     "data": {
      "text/html": [
       "<div><img alt=\"Output\" src=\"data:image/png;base64,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\"></div>"
      ],
      "text/plain": [
       "FormBox[RowBox[{SubscriptBox[OverscriptBox[\"r\", \"^\"], \"2\"], \" \", \n",
       "\n",
       " \n",
       ">        RowBox[{\"(\", RowBox[{RowBox[{\"-\", \n",
       "\n",
       " \n",
       ">              RowBox[{\"5\", \" \", SuperscriptBox[SubscriptBox[OverscriptBox[\"r\", \"^\"], \n",
       "\n",
       " \n",
       ">                  \"2\"], \"′\"], \" \", SuperscriptBox[OverscriptBox[\"ω\", \"^\"], \"′′′\"]}]}], \n",
       "\n",
       " \n",
       ">            \"-\", RowBox[{\"10\", \" \", SuperscriptBox[SubscriptBox[OverscriptBox[\"r\", \n",
       "\n",
       " \n",
       ">                 \"^\"], \"2\"], \"′′′\"], \" \", SuperscriptBox[OverscriptBox[\"ω\", \"^\"],\\\n",
       " \n",
       ">    \"′\"]}]\\\n",
       ", \"+\", RowBox[{\"120\", \" \", SuperscriptBox[OverscriptBox[\"ω\", \"^\"], \"2\"], \"\\\n",
       " \n",
       ">    \", \n",
       "           SuperscriptBox[SubscriptBox[OverscriptBox[\"r\", \"^\"], \"2\"], \"′\"], \"\\\n",
       " \n",
       ">    \", \n",
       "           SuperscriptBox[OverscriptBox[\"ω\", \"^\"], \"′\"]}], \"+\", \n",
       "\n",
       " \n",
       ">            RowBox[{\"60\", \" \", SubscriptBox[OverscriptBox[\"r\", \"^\"], \"2\"], \" \", \n",
       "\n",
       " \n",
       ">              OverscriptBox[\"ω\", \"^\"], \" \", \n",
       "           SuperscriptBox[RowBox[{\"(\", \n",
       "\n",
       " \n",
       ">                 SuperscriptBox[OverscriptBox[\"ω\", \"^\"], \"′\"], \")\"}], \"2\"]}], \"+\", \n",
       "\n",
       " \n",
       ">            RowBox[{\"40\", \" \", SuperscriptBox[OverscriptBox[\"ω\", \"^\"], \"3\"], \" \", \n",
       "\n",
       " \n",
       ">              SuperscriptBox[SubscriptBox[OverscriptBox[\"r\", \"^\"], \"2\"], \"′′\"]}], \"+\", \n",
       "\n",
       " \n",
       ">            RowBox[{\"40\", \" \", SubscriptBox[OverscriptBox[\"r\", \"^\"], \"2\"], \" \", \n",
       "\n",
       " \n",
       ">              SuperscriptBox[OverscriptBox[\"ω\", \"^\"], \"2\"], \" \", \n",
       "\n",
       " \n",
       ">              SuperscriptBox[OverscriptBox[\"ω\", \"^\"], \"′′\"]}], \"-\", \n",
       "\n",
       " \n",
       ">            RowBox[{\"10\", \" \", SuperscriptBox[SubscriptBox[OverscriptBox[\"r\", \"^\"], \n",
       "\n",
       " \n",
       ">                \"2\"], \"′′\"], \" \", SuperscriptBox[OverscriptBox[\"ω\", \"^\"], \"′′\"]}], \"-\",\\\n",
       " \n",
       ">    \n",
       "         RowBox[{\"5\", \" \", OverscriptBox[\"ω\", \"^\"], \" \", \n",
       "\n",
       " \n",
       ">              SuperscriptBox[SubscriptBox[OverscriptBox[\"r\", \"^\"], \"2\"], \"′′′′\"]}],\\\n",
       " \n",
       ">    \"-\", \n",
       "         RowBox[{SubscriptBox[OverscriptBox[\"r\", \"^\"], \"2\"], \" \", \n",
       "\n",
       " \n",
       ">              SuperscriptBox[OverscriptBox[\"ω\", \"^\"], \"′′′′\"]}], \"-\", \n",
       "\n",
       " \n",
       ">            RowBox[{RowBox[{\"16\"}], \" \", SubscriptBox[OverscriptBox[\"r\", \"^\"], \"2\"], \n",
       "\n",
       " \n",
       ">              \" \", SuperscriptBox[OverscriptBox[\"ω\", \"^\"], \"5\"]}]}], \")\"}]}], \n",
       "\n",
       " \n",
       ">      TraditionalForm]\n"
      ]
     },
     "execution_count": 206,
     "metadata": {
      "text/html": [],
      "text/plain": []
     },
     "output_type": "execute_result"
    }
   ],
   "source": [
    "Fh5Replacement = Flatten[{\n",
    "  Superscript[Subscript[OverHat[f], x, x], \"(5)\"] -> fh5Symbolic[[1, 1]],\n",
    "  Superscript[Subscript[OverHat[f], x, y], \"(5)\"] -> fh5Symbolic[[1, 2]],\n",
    "  Superscript[Subscript[OverHat[f], y, x], \"(5)\"] -> fh5Symbolic[[2, 1]],\n",
    "  Superscript[Subscript[OverHat[f], y, y], \"(5)\"] -> fh5Symbolic[[2, 2]]\n",
    "}];\n",
    "\n",
    "ToR2Replacement = OverHat[r][OverHat[t]] -> Sqrt[Subscript[OverHat[r],2][OverHat[t]]];\n",
    "FromR2Replacement = Subscript[OverHat[r],2][OverHat[t]] -> OverHat[r][OverHat[t]]^2;\n",
    "\n",
    "fh1 = fh /. OverHat[r][OverHat[t]] -> Sqrt[Subscript[OverHat[r],2][OverHat[t]]];\n",
    "fh5Symbolic = Simplify[D[fh1, {OverHat[t], 5}], Trig -> True];\n",
    "\n",
    "dJdtTemp = RHSEnegryLagrange[[2]] /. Fh5Replacement /. ToR2Replacement /. OmegaReplace;\n",
    "dJdt = Subscript[OverHat[r],2][OverHat[t]]*Expand[Simplify[dJdtTemp/Subscript[\\[Epsilon], G], Trig -> True]/Subscript[OverHat[r],2][OverHat[t]]];\n",
    "dJdt // TraditionalForm"
   ]
  },
  {
   "cell_type": "markdown",
   "metadata": {},
   "source": [
    "<span style=\"color:red\">**NB:**</span> В файле Binary.pdf выводится <span style=\"color:green\">**точно такое же**</span> выражение"
   ]
  },
  {
   "cell_type": "markdown",
   "metadata": {},
   "source": [
    "$$\n",
    "I_J = I_1 = \\hat{r}_2 \\left[ 120\\hat{r}_2^{(1)}\\hat{\\omega}^2\\hat{\\omega}^{(1)} - 5\\hat{r}_2^{(1)}\\hat{\\omega}^{(3)} - 16\\hat{r}_2\\hat{\\omega}^5 - 10\\hat{r}_2^{(2)}\\hat{\\omega}^{(2)} + 60\\hat{r}_2\\hat{\\omega}(\\hat{\\omega}^{(1)})^2\n",
    "- 10\\hat{r}_2^{(3)}\\hat{\\omega}^{(1)} + 40\\hat{r}_2^{(2)}\\hat{\\omega}^3 - 5\\hat{r}_2^{(4)}\\hat{\\omega} - \\hat{r}_2\\hat{\\omega}^{(4)} + 40\\hat{r}_2\\hat{\\omega}^2\\hat{\\omega}^{(2)} \\right]\n",
    "$$"
   ]
  },
  {
   "cell_type": "code",
   "execution_count": 208,
   "metadata": {
    "vscode": {
     "languageId": "wolfram"
    }
   },
   "outputs": [
    {
     "data": {
      "text/html": [
       "<div><pre style=\"&#102;&#111;&#110;&#116;&#45;&#102;&#97;&#109;&#105;&#108;&#121;&#58;&#32;&#34;&#67;&#111;&#117;&#114;&#105;&#101;&#114;&#32;&#78;&#101;&#119;&#34;&#44;&#67;&#111;&#117;&#114;&#105;&#101;&#114;&#44;&#109;&#111;&#110;&#111;&#115;&#112;&#97;&#99;&#101;&#59;\">&#48;</pre></div>"
      ],
      "text/plain": [
       "0"
      ]
     },
     "execution_count": 208,
     "metadata": {
      "text/html": [],
      "text/plain": []
     },
     "output_type": "execute_result"
    }
   ],
   "source": [
    "I1 = Subscript[OverHat[r], 2][OverHat[t]] * (\n",
    "    120 * Derivative[1][Subscript[OverHat[r], 2]][OverHat[t]] *\n",
    "    OverHat[\\[Omega]][OverHat[t]]^2 * Derivative[1][OverHat[\\[Omega]]][OverHat[t]]\n",
    "    - 5 * Derivative[1][Subscript[OverHat[r], 2]][OverHat[t]] *\n",
    "    Derivative[3][OverHat[\\[Omega]]][OverHat[t]]\n",
    "    - 16 * Subscript[OverHat[r], 2][OverHat[t]] *\n",
    "    OverHat[\\[Omega]][OverHat[t]]^5\n",
    "    - 10 * Derivative[2][Subscript[OverHat[r], 2]][OverHat[t]] *\n",
    "    Derivative[2][OverHat[\\[Omega]]][OverHat[t]]\n",
    "    + 60 * Subscript[OverHat[r], 2][OverHat[t]] *\n",
    "    OverHat[\\[Omega]][OverHat[t]] * Derivative[1][OverHat[\\[Omega]]][OverHat[t]]^2\n",
    "    - 10 * Derivative[3][Subscript[OverHat[r], 2]][OverHat[t]] *\n",
    "    Derivative[1][OverHat[\\[Omega]]][OverHat[t]]\n",
    "    + 40 * Derivative[2][Subscript[OverHat[r], 2]][OverHat[t]] *\n",
    "    OverHat[\\[Omega]][OverHat[t]]^3\n",
    "    - 5 * Derivative[4][Subscript[OverHat[r], 2]][OverHat[t]] *\n",
    "    OverHat[\\[Omega]][OverHat[t]]\n",
    "    - Subscript[OverHat[r], 2][OverHat[t]] *\n",
    "    Derivative[4][OverHat[\\[Omega]]][OverHat[t]]\n",
    "    + 40 * Subscript[OverHat[r], 2][OverHat[t]] *\n",
    "    OverHat[\\[Omega]][OverHat[t]]^2 * Derivative[2][OverHat[\\[Omega]]][OverHat[t]]\n",
    ");\n",
    "dJdt - I1"
   ]
  },
  {
   "cell_type": "markdown",
   "metadata": {},
   "source": [
    "# RHS уравнения (dE/dt)"
   ]
  },
  {
   "cell_type": "code",
   "execution_count": 216,
   "metadata": {
    "vscode": {
     "languageId": "wolfram"
    }
   },
   "outputs": [
    {
     "data": {
      "text/html": [
       "<div><img alt=\"Output\" src=\"data:image/png;base64,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\"></div>"
      ],
      "text/plain": [
       "FormBox[RowBox[{RowBox[{\"-\", FractionBox[\"1\", \"3\"]}], \" \", OverscriptBox[\"r\", \"^\"], \n",
       "\n",
       " \n",
       ">        \" \", RowBox[{\"(\", RowBox[{RowBox[{\"3\", \" \", OverscriptBox[\"r\", \"^\"], \" \", \n",
       "\n",
       " \n",
       ">              OverscriptBox[\"ω\", \"^\"], \" \", \n",
       "\n",
       " \n",
       ">              RowBox[{\"(\", RowBox[{RowBox[{\"-\", \n",
       "\n",
       " \n",
       ">                    RowBox[{\"40\", \" \", SuperscriptBox[OverscriptBox[\"ω\", \"^\"], \"2\"], \n",
       "\n",
       " \n",
       ">                      \" \", RowBox[{\"(\", \n",
       "\n",
       " \n",
       ">                        RowBox[{RowBox[{\"3\", \" \", \n",
       "\n",
       " \n",
       ">                            SuperscriptBox[SubscriptBox[OverscriptBox[\"r\", \"^\"], \n",
       "\n",
       " \n",
       ">                              \"2\"], \"′\"], \" \", \n",
       "\n",
       " \n",
       ">                            SuperscriptBox[OverscriptBox[\"ω\", \"^\"], \"′\"]}], \"+\", \n",
       "\n",
       " \n",
       ">                          RowBox[{SubscriptBox[OverscriptBox[\"r\", \"^\"], \"2\"], \" \", \n",
       "\n",
       " \n",
       ">                            SuperscriptBox[OverscriptBox[\"ω\", \"^\"], \"′′\"]}]}], \")\"}]}]\\\n",
       "\n",
       " \n",
       ">   }], \"+\", RowBox[{\"5\", \" \", SuperscriptBox[SubscriptBox[OverscriptBox[\"r\", \"^\"], \n",
       "\n",
       " \n",
       ">                      \"2\"], \"′\"], \" \", SuperscriptBox[OverscriptBox[\"ω\", \"^\"], \"′′′\"]}\\\n",
       "\n",
       " \n",
       ">   ], \"+\", RowBox[{\"10\", \" \", SuperscriptBox[SubscriptBox[OverscriptBox[\"r\", \"^\"], \n",
       "\n",
       " \n",
       ">                      \"2\"], \"′′′\"], \" \", SuperscriptBox[OverscriptBox[\"ω\", \"^\"], \"′\"]}\\\n",
       "\n",
       " \n",
       ">   ], \"+\", RowBox[{OverscriptBox[\"ω\", \"^\"], \" \", \n",
       "\n",
       " \n",
       ">                    RowBox[{\"(\", RowBox[{RowBox[{\"5\", \" \", \n",
       "\n",
       " \n",
       ">                          SuperscriptBox[SubscriptBox[OverscriptBox[\"r\", \"^\"], \n",
       "\n",
       " \n",
       ">                            \"2\"], \"′′′′\"]}], \"-\", \n",
       "\n",
       " \n",
       ">                        RowBox[{\"60\", \" \", \n",
       "\n",
       " \n",
       ">                          SubscriptBox[OverscriptBox[\"r\", \"^\"], \"2\"], \" \", \n",
       "\n",
       " \n",
       ">                          SuperscriptBox[RowBox[{\"(\", \n",
       "\n",
       " \n",
       ">                             SuperscriptBox[OverscriptBox[\"ω\", \"^\"], \"′\"], \")\"}], \n",
       "\n",
       " \n",
       ">                           \"2\"]}]}], \")\"}]}], \"-\", \n",
       "\n",
       " \n",
       ">                  RowBox[{\"40\", \" \", SuperscriptBox[OverscriptBox[\"ω\", \"^\"], \"3\"], \n",
       "\n",
       " \n",
       ">                    \" \", SuperscriptBox[SubscriptBox[OverscriptBox[\"r\", \"^\"], \"2\"], \n",
       "\n",
       " \n",
       ">                     \"′′\"]}], \"+\", RowBox[{\"10\", \" \", \n",
       "\n",
       " \n",
       ">                    SuperscriptBox[SubscriptBox[OverscriptBox[\"r\", \"^\"], \"2\"], \"′′\"], \n",
       "\n",
       " \n",
       ">                    \" \", SuperscriptBox[OverscriptBox[\"ω\", \"^\"], \"′′\"]}], \"+\", \n",
       "\n",
       " \n",
       ">                  RowBox[{SubscriptBox[OverscriptBox[\"r\", \"^\"], \"2\"], \" \", \n",
       "\n",
       " \n",
       ">                    SuperscriptBox[OverscriptBox[\"ω\", \"^\"], \"′′′′\"]}], \"+\", \n",
       "\n",
       " \n",
       ">                  RowBox[{\"16\", \" \", SubscriptBox[OverscriptBox[\"r\", \"^\"], \"2\"], \" \", \n",
       "\n",
       " \n",
       ">                    SuperscriptBox[OverscriptBox[\"ω\", \"^\"], \"5\"]}]}], \")\"}]}], \"+\", \n",
       "\n",
       " \n",
       ">            RowBox[{\"2\", \" \", SuperscriptBox[OverscriptBox[\"r\", \"^\"], \"′\"], \" \", \n",
       "\n",
       " \n",
       ">              RowBox[{\"(\", RowBox[{RowBox[{\"-\", \n",
       "\n",
       " \n",
       ">                    RowBox[{\"15\", \" \", OverscriptBox[\"ω\", \"^\"], \" \", \n",
       "\n",
       " \n",
       ">                      RowBox[{\"(\", RowBox[{RowBox[{\"4\", \" \", \n",
       "\n",
       " \n",
       ">                            SuperscriptBox[SubscriptBox[OverscriptBox[\"r\", \"^\"], \n",
       "\n",
       " \n",
       ">                              \"2\"], \"′\"], \" \", \n",
       "\n",
       " \n",
       ">                            SuperscriptBox[OverscriptBox[\"ω\", \"^\"], \"′′\"]}], \"+\", \n",
       "\n",
       " \n",
       ">                          RowBox[{\"6\", \" \", \n",
       "\n",
       " \n",
       ">                            SuperscriptBox[SubscriptBox[OverscriptBox[\"r\", \"^\"], \n",
       "\n",
       " \n",
       ">                              \"2\"], \"′′\"], \" \", \n",
       "\n",
       " \n",
       ">                            SuperscriptBox[OverscriptBox[\"ω\", \"^\"], \"′\"]}], \"+\", \n",
       "\n",
       " \n",
       ">                          RowBox[{SubscriptBox[OverscriptBox[\"r\", \"^\"], \"2\"], \" \", \n",
       "\n",
       " \n",
       ">                            SuperscriptBox[OverscriptBox[\"ω\", \"^\"], \"′′′\"]}]}],\\\n",
       " \n",
       ">    \")\"}]}]\\\n",
       "}], \"-\", RowBox[{\"30\", \" \", SubscriptBox[OverscriptBox[\"r\", \"^\"], \"2\"], \"\\\n",
       " \n",
       ">    \", \n",
       "                 SuperscriptBox[OverscriptBox[\"ω\", \"^\"], \"′\"], \" \", \n",
       "\n",
       " \n",
       ">                    SuperscriptBox[OverscriptBox[\"ω\", \"^\"], \"′′\"]}], \"+\", \n",
       "\n",
       " \n",
       ">                  RowBox[{\"60\", \" \", SuperscriptBox[OverscriptBox[\"ω\", \"^\"], \"4\"], \n",
       "\n",
       " \n",
       ">                    \" \", SuperscriptBox[SubscriptBox[OverscriptBox[\"r\", \"^\"], \"2\"], \n",
       "\n",
       " \n",
       ">                     \"′\"]}], \"+\", RowBox[{\"120\", \" \", \n",
       "\n",
       " \n",
       ">                    SubscriptBox[OverscriptBox[\"r\", \"^\"], \"2\"], \" \", \n",
       "\n",
       " \n",
       ">                    SuperscriptBox[OverscriptBox[\"ω\", \"^\"], \"3\"], \" \", \n",
       "\n",
       " \n",
       ">                    SuperscriptBox[OverscriptBox[\"ω\", \"^\"], \"′\"]}], \"-\", \n",
       "\n",
       " \n",
       ">                  RowBox[{\"45\", \" \", \n",
       "\n",
       " \n",
       ">                    SuperscriptBox[SubscriptBox[OverscriptBox[\"r\", \"^\"], \"2\"], \"′\"], \n",
       "\n",
       " \n",
       ">                    \" \", SuperscriptBox[RowBox[{\"(\", \n",
       "\n",
       " \n",
       ">                       SuperscriptBox[OverscriptBox[\"ω\", \"^\"], \"′\"], \")\"}], \"2\"]}], \n",
       "\n",
       " \n",
       ">                  \"-\", RowBox[{\"30\", \" \", \n",
       "\n",
       " \n",
       ">                    SuperscriptBox[OverscriptBox[\"ω\", \"^\"], \"2\"], \" \", \n",
       "\n",
       " \n",
       ">                    SuperscriptBox[SubscriptBox[OverscriptBox[\"r\", \"^\"], \"2\"],\\\n",
       " \n",
       ">    \"′′′\"]}]\\\n",
       ", \"+\", SuperscriptBox[SubscriptBox[OverscriptBox[\"r\", \"^\"], \"2\"],\\\n",
       " \n",
       ">    \"′′′′′\"]}], \")\"}]}]}\\\n",
       "], \")\"}]}], TraditionalForm]\n"
      ]
     },
     "execution_count": 216,
     "metadata": {
      "text/html": [],
      "text/plain": []
     },
     "output_type": "execute_result"
    }
   ],
   "source": [
    "dEdtTemp = RHSEnegryLagrange[[1]] /. replacementRules /. OmegaReplace;\n",
    "dEdt = Simplify[dEdtTemp/Subscript[\\[Epsilon], G] /. Sqrt[Subscript[OverHat[r],2][OverHat[t]]] -> OverHat[r][OverHat[t]], Trig -> True];\n",
    "dEdt // TraditionalForm"
   ]
  },
  {
   "cell_type": "markdown",
   "metadata": {},
   "source": [
    "<span style=\"color:red\">**NB:**</span> В файлах Binary.pdf и binary_catch1.pdf выводится <span style=\"color:green\">**точно такие же**</span> выражения для правой части (dE/dt),\n",
    "а именно $I_E = I_1\\hat{\\omega} + I_2\\frac{\\dot{r}}{r}$, где\n",
    "$$\n",
    "I_2 = 2\\hat{r}_2 \\left[ -40\\hat{r}_2\\hat{\\omega}^3\\hat{\\omega}^{(1)} - 20\\hat{\\omega}^4\\hat{r}_2^{(1)} + 5\\hat{r}_2\\hat{\\omega}\\hat{\\omega}^{(3)} + 10\\hat{r}_2\\hat{\\omega}^{(1)}\\hat{\\omega}^{(2)} + 10\\hat{\\omega}^2\\hat{r}_2^{(3)} + 30\\hat{\\omega}\\hat{\\omega}^{(1)}\\hat{r}_2^{(2)} + 20\\hat{\\omega}\\hat{\\omega}^{(2)}\\hat{r}_2^{(1)} + 15\\hat{r}_2^{(1)}(\\hat{\\omega}^{(1)})^2 - \\frac{1}{3}\\hat{r}_2^{(5)} \\right]\n",
    "$$"
   ]
  },
  {
   "cell_type": "code",
   "execution_count": 218,
   "metadata": {
    "vscode": {
     "languageId": "wolfram"
    }
   },
   "outputs": [
    {
     "data": {
      "text/html": [
       "<div><pre style=\"&#102;&#111;&#110;&#116;&#45;&#102;&#97;&#109;&#105;&#108;&#121;&#58;&#32;&#34;&#67;&#111;&#117;&#114;&#105;&#101;&#114;&#32;&#78;&#101;&#119;&#34;&#44;&#67;&#111;&#117;&#114;&#105;&#101;&#114;&#44;&#109;&#111;&#110;&#111;&#115;&#112;&#97;&#99;&#101;&#59;\">&#48;</pre></div>"
      ],
      "text/plain": [
       "0"
      ]
     },
     "execution_count": 218,
     "metadata": {
      "text/html": [],
      "text/plain": []
     },
     "output_type": "execute_result"
    }
   ],
   "source": [
    "I2 = 2 * Subscript[OverHat[r], 2][OverHat[t]] * (\n",
    "    -40 * Subscript[OverHat[r], 2][OverHat[t]] *\n",
    "    OverHat[\\[Omega]][OverHat[t]]^3 * Derivative[1][OverHat[\\[Omega]]][OverHat[t]]\n",
    "    - 20 * OverHat[\\[Omega]][OverHat[t]]^4 *\n",
    "    Derivative[1][Subscript[OverHat[r], 2]][OverHat[t]]\n",
    "    + 5 * Subscript[OverHat[r], 2][OverHat[t]] *\n",
    "    OverHat[\\[Omega]][OverHat[t]] * Derivative[3][OverHat[\\[Omega]]][OverHat[t]]\n",
    "    + 10 * Subscript[OverHat[r], 2][OverHat[t]] *\n",
    "    Derivative[1][OverHat[\\[Omega]]][OverHat[t]] *\n",
    "    Derivative[2][OverHat[\\[Omega]]][OverHat[t]]\n",
    "    + 10 * OverHat[\\[Omega]][OverHat[t]]^2 *\n",
    "    Derivative[3][Subscript[OverHat[r], 2]][OverHat[t]]\n",
    "    + 30 * OverHat[\\[Omega]][OverHat[t]] *\n",
    "    Derivative[1][OverHat[\\[Omega]]][OverHat[t]] *\n",
    "    Derivative[2][Subscript[OverHat[r], 2]][OverHat[t]]\n",
    "    + 20 * OverHat[\\[Omega]][OverHat[t]] *\n",
    "    Derivative[2][OverHat[\\[Omega]]][OverHat[t]] *\n",
    "    Derivative[1][Subscript[OverHat[r], 2]][OverHat[t]]\n",
    "    + 15 * Derivative[1][Subscript[OverHat[r], 2]][OverHat[t]] *\n",
    "    Derivative[1][OverHat[\\[Omega]]][OverHat[t]]^2\n",
    "    - (1/3) * Derivative[5][Subscript[OverHat[r], 2]][OverHat[t]]\n",
    ");\n",
    "Simplify[I2*D[OverHat[r][OverHat[t]], OverHat[t]]/OverHat[r][OverHat[t]] + I1*OverHat[\\[Omega]][OverHat[t]] - dEdt /. FromR2Replacement]"
   ]
  },
  {
   "cell_type": "markdown",
   "metadata": {},
   "source": [
    "# $I_J$, $I_E$\n",
    "\n",
    "$$\n",
    "\\begin{align}\n",
    "\\tag{IJ}\\\n",
    "I_J &= \\hat{r}_2 \\left[ 120\\hat{r}_2^{(1)}\\hat{\\omega}^2\\hat{\\omega}^{(1)} - 5\\hat{r}_2^{(1)}\\hat{\\omega}^{(3)} - 16\\hat{r}_2\\hat{\\omega}^5 - 10\\hat{r}_2^{(2)}\\hat{\\omega}^{(2)} + 60\\hat{r}_2\\hat{\\omega}(\\hat{\\omega}^{(1)})^2\n",
    "- 10\\hat{r}_2^{(3)}\\hat{\\omega}^{(1)} + 40\\hat{r}_2^{(2)}\\hat{\\omega}^3 - 5\\hat{r}_2^{(4)}\\hat{\\omega} - \\hat{r}_2\\hat{\\omega}^{(4)} + 40\\hat{r}_2\\hat{\\omega}^2\\hat{\\omega}^{(2)} \\right]\n",
    "\\\\\n",
    "\\tag{IE}\n",
    "I_E &= I_J\\hat{\\omega} + 2\\hat{r}^{(1)}\\hat{r} \\left[ -40\\hat{r}_2\\hat{\\omega}^3\\hat{\\omega}^{(1)} - 20\\hat{\\omega}^4\\hat{r}_2^{(1)} + 5\\hat{r}_2\\hat{\\omega}\\hat{\\omega}^{(3)} + 10\\hat{r}_2\\hat{\\omega}^{(1)}\\hat{\\omega}^{(2)} + 10\\hat{\\omega}^2\\hat{r}_2^{(3)} + 30\\hat{\\omega}\\hat{\\omega}^{(1)}\\hat{r}_2^{(2)} + 20\\hat{\\omega}\\hat{\\omega}^{(2)}\\hat{r}_2^{(1)} + 15\\hat{r}_2^{(1)}(\\hat{\\omega}^{(1)})^2 - \\frac{1}{3}\\hat{r}_2^{(5)} \\right]\n",
    "\\end{align}\n",
    "$$"
   ]
  },
  {
   "cell_type": "code",
   "execution_count": 118,
   "metadata": {
    "vscode": {
     "languageId": "wolfram"
    }
   },
   "outputs": [
    {
     "data": {
      "text/html": [
       "<div><img alt=\"Output\" src=\"data:image/png;base64,iVBORw0KGgoAAAANSUhEUgAABjQAAAE7CAIAAAD1jv+eAAAAzXpUWHRSYXcgcHJvZmlsZSB0eXBlIGV4aWYAAHjabU/bDcMgDPxnio7gB5xhHEiI1A06fk1IU1H1JHznww859NfzCI8BYQoxWUYByBFLLFJdZJqYzFTOeEIj4XIXP2ibkqtz+n6gT+a2+jbHkOSfQSTXprFBzo2z4RqkMn2uM29XvdSc10FKC8pH8P88qgkS2KLHKGSG4joHl05IQslwYAO8kLELxc25w8zbYKNC62gckG5rdQ9QN/Zxgo6XtDqrR1a/yKPeDmmWdutxzhtZNlq1SPwidQAAAAlwSFlzAAAWJQAAFiUBSVIk8AAAADx0RVh0U29mdHdhcmUAQ3JlYXRlZCB3aXRoIHRoZSBXb2xmcmFtIExhbmd1YWdlIDogd3d3LndvbGZyYW0uY29tXKKmhQAAACF0RVh0Q3JlYXRpb24gVGltZQAyMDI1OjAzOjEwIDEzOjAzOjA4gi55QgAAIABJREFUeF7snXn8VdP+/2+KSoOEqBRFCdFgCCVKo6GkIvFNypjbNyoUQqJEJRUhcYWM0aCIlLoapJIhDUjIlMyJjL/nvet792/fM+yz5zO99h89Pp2z1nut9Vxrr3P267zf71Xir7/++psuERABERABERABERABERABERABERABERABEcgGgZ3iafT3338/4YQTvvvuu3iaUysiIAIiIAIiIAIiIAIiIAIiIAIiIAIiIAJ5QaBEPJ5T48aNK1u27IUXXpgXUNRJEchxAgsXLnzyySfLlCkzdOjQ8uXL53hvI+2eUESKtziN//bbb9xZ3377bdu2bTt06FCcEDRqERABERABERABERABEYiTQBzi1LZt21q3br148eKddorJUStOgmor3wl8+eWXW7duPfDAA0uXLp0XY1m+fPlJJ53EbUVv+WP27Nn50vPQ8QpF6EjTGcT7df369bvuumuNGjVKlSoVW7vxN/Tnn3+ec845jz/+OE3vvPPOM2bMaN++ffzdUIsiIAIiIAIiIAIiIAIiUFQE4lCL7r333l69ekmZsi+s+fPnl0y6zj///KJafFkf7J133nnAAQfss88+9evXL1euXJ8+fbZv3571Xjl3YM2aNTwqow4sWrSob9++L7/8cvfu3f/4448c73YU3ROKKKgm20STOvnkkytUqMBtUrt2be6XUaNGxdN0VlphH0CZOvvss1euXLnnnnt26dKFX1ay0hM1KgIiIAIiIAIiIAIiIALFQyByzykemxs2bLhixYqide5IuZimTZvGM0+nTp3q1q1rFWjQoAFPRMWz+LI70ksvvfSee+5p1arVmWee+cMPPzz22GM8i/Li3Xffnd2OObT+4YcfNmvWDM+OuXPnHn744ZQcNmzY9ddfj6w5efLkEiVK5GzPQ++YUISONKXBn3/+GUEK0RbJ5ogjjnj33XcfeOCBjz76iPXGTw7x9CHOVgYPHnzrrbdedtll48eP54ZimbVp0wbPyldeeYX9Oc6eqC0REAEREAEREAEREAERKCoCkYtTzz///PTp03GeKiqsGQc7adKkiy66iAce8sRnLKwCURBYtWrVP//5z379+hnjv/zyS9WqVdFSv//++5xVeW655RakgRdffBGHL4vJxIkTBw0a9NZbb+23335RgDI2cy21UxZRRAc5Ny2//vrr3Br77ruv6d6cOXNOOeUUMjER7+a+w3mRxYkkUwcddBAy3I033mgNjbDfdu3aIQojV7kfr0qKgAiIgAiIgAiIgAiIgAh4IhC5OEXM0QUXXNCyZUtP3Sr4wrfddtvVV1+9du3aevXqFfxg82WAHTt2nDlzJmdK7rbbbp76HKdw89NPPxGBmNA98k9FmhY9N1M7ZQWFp4VRkIXffvttvPb+/ve/uxdr8iiLU8pbCeWa5FPEYRfkhGpQIiACIiACIiACIiACIpALBKLNOYUfCplxmjZtmgtD9dSHH3/8kWew6DIQffPNN/TniSeeIDSmZ8+euIFs3rzZUw/zqzDjfeeddwgRctltnmbJdPPVV1+5LB+8GMdW4ktVp04dr8oUws2pp55KMOCYMWNOP/30HTt2pOwMThkMB/+RgF1NVqYwGKkyFXpqp/xFEXDuoqiOlkqoXTxJx1ADUW+7du26yy674F7kfjjhZnHiFuNWYuD2DqR80X0PrZIpbyWOxZQy5QOmqoiACIiACIiACIiACIiAewLRek4tXbqUhDgvvfSS+w6FXpKgjKeeeurBBx/csmULGYWuueYahyZ4wqHDzz777Pvvv49aQRJ3ojxQHIYMGVK2bNkQ+8bTGtFYVapUwf7q1avRwnj+oV3iR0JsJSJTnNu1bNmy+++/n7TuUHrvvffofMq2NmzYMHLkyCVLlqA0UZJwOdQfYHIYVrrQOar87//+L/YJr8Mm8WudO3cePnx41A+HSEsDBgwg3Qwebe65Idw0b94cKY2HdpYZviRnnHHGk08+mdDbTz75hIHwIuXJ4JPS/muvvQZP6y2y3lSsWDFlSeQw8qAfc8wxLVq0cO4q0rA9l3P//v29pn4LPbVT/qJwvyqCl+zduzfBm9hhUTHRKQ2OGDHi4YcfXrduHXcWkuVRRx11++23H3nkkcFbT2kBbyn0et7iXEuCtfnXZUOhZ3Ey2eIuvPDC++67z+pDyhftPXR/f1Fr9OjR3NQcOJBuZzOW0QRhDn/z36OPPprTM11iUTEREAEREAEREAEREAEREIH/IsAX6+guTkMjG0509p0tk+tq//33t4/2qquucqjCYx65263yeAdYf6MsfPrppyEOhJ/9kaLwo8EmMSMIPbSFVsUTUYitRGEK+SxBp8O/LGVDaDSc8GUYAtPukUS+rZRVSAJVuXJlU4VD660T6zmfDv0uiuEYm6io9LBRo0ZmRlxeGzdurFatGoeXvfnmm6bKTTfdRM9JT54wj1dccQWvoyY4WMZ7Dq8NRmouRNV0hVH3sHbuuedm7Oc//vEPY80IHPibZKySUODmm29GTTNarXXhJoZwtmnTJq/WKJ+/KHwM1l8Vtk1r5yEtXbIRNHRm35RBQLecfbhlyAPlr9GMtcaNG0coH26wyMoEIyNUZaxCAVwm99prrxtuuMFe+IsvvmCnxZobCwlluC8QjLjp8L+z3kr5YkJF9/cXm4CRzhOWfXJvf/31V84xNLfYHnvsgaDsY0SqIgIiIAIiIAIiIAIiIAIiAIG/RUqBgLWHHnoo0iYcjNuf8cyDnIM4hTeQSf/Ewx4P/+gOWEaQwggKC5mzopaNDjvsMFrHCylbuFy2u/vuuyfouynFKeQeU+zYY48lgzIBQdjHK8rKPobzRUKLBP3xHEsVnjypDnDyv3AanbGDW5PLHnotRr5nhDPyPXMGmae6LoUbns+RD3gad1a+eHjG88JNBy655BKX4pRlDe88f+IUFpiF5F750wrzHYWb2QlYBn2W9EbO4hR+PaYAPobI3LSIVIRPIq8g3OAiGrAPztVfffVV1jPNuWwl5VLhZmfLdWnBXuzaa69lmE8//XTGFxOMu7+/0M4M3ozilL0JHGwlTvmYUFURAREQAREQAREQAREQAUMg2pxTBHPVqlUrQcuI7b8EZfD8Yy5Om3Jul7g/PKcoM2vWLPxfTLfxi+Hx74MPPsADJeoT3BAmaDG6LFdhYedUdYOUsEQHm7jq4CjEFJAsHLcCfDoozAMt/mJoT/xNHFxC9UceeQTXHrylFixYQHWAE6x03XXXDRw4kJI4l/GUG9YoLDuEyHFUPHLA3Llza9as6ck+z8mckWc/OI/qhBehadoPzsPPiEfxyZMnW45gnlpJLswUBLTgqXpCliskNh7aUbsIUWQZeDKV7yg8DdZH4c8///zMM8+EcI8ePdJVJ5QMJybeJTYW6dw4JNavX58bDXc23DAJefPRtPsqOE9xyyCjI+a6qZWcxenrr78mA93KlSvR0dxYsMqgk7KEkIEI9XV+0ZPZhMIx319Buqq6IiACIiACIiACIiACIlAwBKIVpz7++OPq1atnCxbqBll+zOUsLRGdYc4OP+200wjTSOgw7jx2X4aUw0HAqvTvCy+hhAI8yZu3yBNk3uIRi+REeAZZJXlIe+6551BwDj300GzhctkunmUWVecqRHTyFJ2AjudnkykJWSeh+oQJE3gFJSvhBMPLL7+cFklBRYYd5xZJQwNnkkAlF+PISN5q3bq1/S0EKTy5wE5upkMOOcQlAasYcW0p05Mzv9bzLWIBEEj21LhxY6/27eVZV/QQzRRpj3hV3iKbvllX1hVFviHCxLDfoUMHWmQszOnee++NyHj88ccjiKD5mtRgbq58R+FmjEHKoEmhTKFPIXeSZC2dKdRzowqxqOxlmIuzzz6bV+666y773pJsx9NmhSJMGj6WtGWHeUSX5L42fo4ZL3wnWUIknqMkCtoJJ5yw5557kiGrSZMmLGbcDzNasApMmjSJoTFAe5WUL7q3aZXkWAMWNh6U1gkexPkm3GJ4bPmwrCoiIAIiIAIiIAIiIAIiIAIZCUQoTuFVwYMWeZQydiLrBQg3w9uFbphsPj4u3Bl4SudKPo7NestyMyHUEYcsHs94ypo9ezbiBW5TpE3hOS3qtN8+hhZ6FeMuwQOq3TKUcKbgFSuZjvUu+iYPtPyX1E7OnSF4kClI6WBl3rI/Y0+dOhUtkteRwx599FEy5ZtrypQpbob8xhtvkMzePHInXGeddRaJ1c2LRC/S/6FDh7qx6VCGDDtr165FDmOdmIXESjNLzrp++OGHgK0kVzfcuDtw/kKiIr09PbGKITW6P9ww31GEzjbBIB6CRMwRl0eyNnvCu4Ri5i44+OCDk+VOfKl4ixXC5dBbT5sVro6E1pINHV0SaQYHQHRJXGLx7TLukBkv/KRYQvzLXte2bVuEYKsKvrt2H8OMpugAIY04tNpLpnwxo6nkAgyKHxJY6pbeyk6ScIvxM4YPy6oiAiIgAiIgAiIgAiIgAiKQkUCE4hT5ZZBaIj3kPuPwXBbAlYCSRF2Z5z3cXnAYIToGX6coQjxITcKv/QglpATm5/p+/frhjECUnMkVXdgXGoc5P65Zs2b2kZLnhWdmXjGngPF0zTFY06ZNMz4g5kUjIIZ1cdSXURIJGCQfDUGI5iKEM2MTjAIhgCd2vEKSC5MznihRslbzVqdOnVatWhX8qEcOAdz8n4t2sWx/xbxDuqKMPfdXAJUZZYpjN/HsI/qSyWJ0iIn33nuve4OFgcL9eD2VRCo1wXogdXayY6KtO4I/XnjhBVav8aWyTtAL8U5BhMJrj98YCCHs2rUrHoiEP3OiJeF1ngbIsmHFco9zUCkxoex4yFX4AJ5yyinu7bB1cI5hQvmUL7q3aZVEGTT3ET8emBexbN105g/WsA/LqiICIiACIiACIiACIiACIpCRQITiFJl6cazI2INcKED6c7rBb/gffvghQWE8iZHWhORBrVq1Ig8REX+h/2DOMx4/1PMMSTZu3GF4+DdZrgv+wguD51JigkykmHVZj9NEjfFir169yF7fpUsXoh35r0lTZR7Lw7pSnoOGK8f8+fMzNoH7Bo/oqAkpw0V5gkWZJSlPRjvuCyBv4YFlLuNWg9+K9Yr5w6CL4mJ9zps3r2PHjqToQpWjIfqAUMUNEkVzzjaziyKK8ZLOnIhULKNWO2SbMk2bO8XMNecG4PdHXjYjmrBxEXUb+p1CE8uWLcONiH7iW4TrHI6BDr5dKREZdzBuZ9xFGzRoULp0ac7lZEVZp3NGAdaTTZCa+4hz90xF6xXrRguuMnvqkgqLgAiIgAiIgAiIgAiIQPEQiFCcIiDCZdxH1nEbcQr/KZKM4H5Ccp+L/33Vrl0bHxlisjgKPYpOEp9CniBEsaizrUfReR82yThDXBgVCRGqW7eu3YLloWYeVlHuzLuoIfxrjgiMwovNxyiInhszZgwHOFpuU/iAkIXHMsXQ8Bl0mS7aRweyUgV3LbJcZbyjCTnEo8o67ywrXc2vRtkncSniJAR8CVlXGTtv7gJzm1iBrshGaL6sOo4WjehOwbGULGPkw/Kd1x93UcL6Mg4Qr0nuJuN4qEsEREAEREAEREAEREAERKBICEQoTvG4Rf6UvOBIYh3TT57uyDfM0zUxfVzvvvsukSy8TogZTlV5MZac7SQAcbohTA+PG3w9EvpppaDC4Y63SNvEvzxpmz/MiwlpqrI1UuL+EAKMymYuQrFMLmpz4b1CVzl5MFs9jKLdBx54AG8XB8s4AHKYACmoDjvsMJJzo9BZJwBE0Z/CsImn3v/8z//gjoRO/dRTT2U8eMG6C8wdgYOncfMhUxubLUFzJuFajtwp9jkifrlbt27Os0bkIOIXbpKoYBw1QABg7p9eWhjrUKMQAREQAREQAREQAREQgawTiFCcIqGPm2etrCOgA3hI8S/uOfjp8BBldYmncVKroDXw1LdixYpc6Gqe9gE3Ig7pIyKJh3BCe5JjgqxTHU0uZ9LofPLJJ5999hlKB/81L3KQVi4Mf+bMmZz6Zz+GktjMhJPykDu9xj3lwtAc+uCcuJpk7WRKIsqMBGqkTzr//PNxniJoy/gk6kpH4I477kAN511OvsNDk1Bic3FCpamCLxX/tR9pZxaeuSPQcbinkH3JccZ/caoyOdpy5E6xjzpj4nMzarZiksGNGjWqYcOGpOEjSbwWjwiIgAiIgAiIgAiIgAiIQDEQiFCcIsAnX86e4+d6JpvEUuYP+4UPQo0aNXgFLyo3C8L5EHc3FgqvDDITyhT6FPLfiy++uP/++yePkcdss1pMcnrzgG1l0zcah10PcqAU6RRgnMDPhCzOiFOct2h1Ce8Vst1HLRDgdJM7S4WDC0nnv3LlyuHDh+NEhpsV5x6i0D3zzDMxdDKnUHgaL2c+mvIE6BlvTXMh8JnXUUL5LwmbLLNmXVm3CQK6dUNZUmAu3CmeOFCYrFtjx44l6T5/DBgwgPTklSpVIo16Fic3i017pafyIiACIiACIiACIiACIpDvBKIVp0x23ty/zClXPEundI8yETTOiXutXDxbtmxJGC8iXe4TiK6HGzZsIMc8zh08aj7//PPE9KVsC2XKvPXoo48mFMAHxyQpN6fUOVxmFpKngBfDmgU8VhAxyUpmdQPpDe+Vo446ynrlrbfe4u/oxCmj2ZFzPbpZ82qZO33IkCHGA9FcJrsQvm9eTXkqn4MoPPWf9OfjU12cGmns4InG+/acd+YuIPTYLDP7Ze4d0ng7p8bPzc0KzzsGaw2HKEX2DXReUrx5Qhq8sKWJ59QtFnxcsiACIiACIiACIiACIiACuUwgQvEoj352JibLHN+Ou0fCbKGnkLGYF+2uMckzSpIdkyeYY63s7yKUZDx+K5fXR8C+4VLUtGlTshFxjtiCBQuaNGniYPCyyy7jXYL+EmLBON4LaYn8U2Tnce6P8XFDP0pIEEZOqLBceMh9ThNkVrJ68sILL5DP3i66TZkyBU8iu1ITEGNCdU6Q5BVyYIeluIXbPWPN6LwJ0Y6hN5QXKBxGTXwoJ/QlX7179za1OIaPdzt37mwZOe2008w657BIu2Vi+oy/Fed+Ov8qkBebFR8fq1atqlOnjv1eC339pDRoFhUXHYinRbUiAiIgAiIgAiIgAiIgAiIQoTiVXbhk0uXIc+syoV74RlmvmMzB5kJc4HB0/sBDp1evXlZ+9MWLF5sj3jnF74gjjnAYkeX4w/PhtGnTKMkxfwhbSDMF84TD46IdqUUJ/wLrdbtcMnfuXKL5eGYmnw5xSTxkvvffFw5HdqRoT7inkarspJNOoiBvMWvk/CL/FH8zLxUrVnReVBxRTwH6yfO5UZFINX311Vfz37Bi/Uyq6ddee83qyeOPP06LpjkudLHHHnuMFqNb/ywqjG/evHnw4MEWcE43Y7lG16gnyzgbDhs2jFDNhPhHT0bcFM59FG5G4akMIjhyFVUmT5584403mgXw+eefc9dwG5LpjORNzgbzYrMiGxcr3BLpPCEKWBjtz8h/+K/Z3dMQzdHZAxpXdREQAREQAREQAREQAREQgdQEeK6O6CJbCmJBRMYzmjWiksOFY0uCERKdmPIcFIUjDBeiFf9FE1m3bl3GFkmPYjVHYIg5qRAXBlIam0cdXGwyGsnlAglaUkq2OA2ZIeDXkzEdfps2bRLGCyIrpqZevXrmJDKuZs2aIYFlhEPeelyWTBXmzqpOVnUTGHXMMcdkNOJcAJGL2TzuuONI+oNLHRIMrbBCrrzySuQhXjz43xfqjNeG0ODwznNTi7MCzYriIo0XzTFAE6vFw3NKC6tXr+ZdDhB0Y99exoqydF+XWcDfh+aefvppr82Z8rmJwt9Y/NWyQlNfeeWVZAso7x06dDALgLXHTmVcpbjjmC83Lca5WeH9RN/wi3TTMVOGzPqobPwkgFTtvpZzSfeLCjt4axq8CHn0H8LGnYpM/+la4eRET2MMa1yyIwIiIAIiIAIiIAIiIAKFQaBgPacynpWWHBLFEVHTp0+vVasWPkFr/n0hcPCYzR+W5JFSkTEvdu/effTo0eQn5m/yYZOZCK0BLyoSReM6xIv5koEr3Rgzik1UtKjixMGDpQOulG+RqIincTRNWCEI4o6EVnXeeeeRJhkVJqM1ahEVaIIHuT+pDnmeJ0mubBzfgk8BS+K2224jXJFHVmIVCa3Ccwrli8WD25dJqD9v3rxIY5FYY0uWLGnZsiVtwZmT8pAC8dQjhg4/tYyUPBXweqYB4l3Pnj2fffZZUlDZg9E8Neq+cJwo3Pcq6pJly5YlTJUMTdwUpGRigwI7e9ScOXPYhdy0Hudm5XUJERDarl07bi52YxMrHf/Vp08fDg1k80FpxYsTwh9//DE3eEbnzfi7qhZFQAREQAREQAREQAREoDAIlOAZPqKRcEQ6D6jGZSO/LkQNuo3/FA4p/Oup82gE69evJ+0RypQbPcWT8eIpjFMSATXkmWIKvD7cQomAILQtQvDQuYz7W7gXAT7Lly/nTDTCyozghVvZwoULSVZdv359f21xzt2MGTPsAYMZ7SBFQYkHeEBxZJvDeuMwuIYNG+L9ZMISI7p4kif6Eu85nu0t3xMfbRUACh+j9lGF3RtpEjcrbhPLT9C9nRzcrLitUKa45bmb7McOuB9UupI+FhVSO9sIeLnFuNn53cJB3eZnDMpMmDAheFdlQQREQAREQAREQAREQASKkIDEqSKcdA05Fwn4eHh2P4wYxCmUjrPOOgtJun///rgQuu9bcsl8RxFk7MVclyx1eNtxrCeekgSrhosi0kVFVyVOhTtfsiYCIiACIiACIiACIlBsBAo2rK/YJlLjFYEsEsDTrVWrVihTRGPhxsWpl9b12WefZbFjajpfCHCUBAcRElLdvn17MmdZ6wdHvHwZgvopAiIgAiIgAiIgAiIgAiLgm4A8p3yjU0URCJMAnh2cvzZ27FhjtHXr1ianfpBrw4YNBJligVMLcWiKLqxvwYIFJgdW8kV8VvPmzT2NIq9ReBqpClsETjzxRJZKMhBO/OQQ1eCgolhUhFWS58ucBMrZCIRyK6wv+EzJggiIgAiIgAiIgAiIQHESkDhVnPOuUeccgYkTJ/L8bHWLA8v23XffgL0cOXKk9bRM7i0SVBEzFdBmDNWFIgbIxdZEFIuKAzrr1q1rxCkuEq4NHTq02MBqvCIgAiIgAiIgAiIgAiIQCgGJU6FglBEREAEREAEREAEREAEREAEREAEREAEREAE/BP6Vc+qDDz7An4KLCIUEG0QDmbdefvllP+ZVRwREQAREQAREQAREQAREQAREQAREQAREQATSE/iXOMUB8OQz5vrtt98SSlpvcai2MOY7gbfffnvr1q35Pgr1XwRyioBuq5yaDnVGBERABERABERABERABEQgHwnotL58nDWffe7SpcuTTz7ps7KqiYAIpCKg20rrQgREQAREQAREQAREQAREQAQCEpA4FRCgqouACIiACIiACIiACIiACIiACIiACIiACPgnIHHKPzvVFAEREAEREAEREAEREAEREAEREAEREAERCEhA4lRAgKouAiIgAiIgAiIgAiIgAiIgAiIgAiIgAiLgn0CJv/76a8OGDQcddBA2pk+f3rFjR7ux9evX16tXj1deeOGFtm3bempn1qxZQ4YMWb16dcpa8+bNW7RokYPB/v37c0pgcoGff/75mWee8dSTwivcuHHjgw8+OOO4EiCPGzeuyb8vq2I6yAmWxTwjahUoAAL169dv0KBBxoGEdVtx3MTjjz+esTkVyGsC1apVa9GiRcYhcOTIsGHD+DhOV7Jhw4ZnnHFGRjsqIAIiIAIiIAIiIAIiIAJ5SuC/xClEn06dOsUjTk2aNOmxxx5zoPboo49WrVo1ucB33303aNCgPMUdVrc7d+7cunXrjNYSIC9evLhGjRo1a9a0KqaDnGCZkxyvvvrqjM2pgAjkNYGTTz65Q4cOGYcQ1m3F6ah9+/bN2JwK5DWBQw891M0s79ixg+XnIE6x4Q8ePDivUajzIiACIiACIiACIiACIuBA4F/i1ObNm9EsKHTPPfdcfPHF9tJr1qzBm4BXQvec0qzETwD/uH79+vXp0yf+ptWiCBQqAd1WhTqzGpcIiIAIiIAIiIAIiIAIiEBsBP6VcwoHpVKlSvHHsmXL7A1v2bKlR48esXVFDYmACIiACIiACIiACIiACIiACIiACIiACBQbgX+JUyVLliT0gD+mTp06bdo0/iDH0PPPP9+0adNVq1YVGxGNVwREQAREQAREQAREQAREQAREQAREQAREIDYC/3da35VXXkmTv/76a5cuXSpUqFC5cmXyX2zcuHHMmDEm4k+XCIiACIiACIiACIiACIiACIiACIiACIiACIRO4P/Eqe7du48ePbp06dI0sG3bNlSqo48+Gi+qK664Yq+99uLFnXb6v5Kh90AGYyMwcODA4447Lrbm1JAIFAMB3VbFMMsaowiIgAiIgAiIgAiIgAiIQKQE/pUQ3WqAaL7169d/+eWXKFO77757wIZnzZo1ZMiQ1atXB7Sj6iIgAiIgAiIgAiIgAiIgAiIgAiIgAiIgAoVK4L/8ocqWLduwYcO2bdsGV6YKlZfGJQIiIAIiIAIiIAIiIAIiIAIiIAIiIAIiECIBBeuFCFOmREAEREAEREAEREAEREAEREAEREAEREAEvBGQOOWNV7rSCxcuvOyyywYMGEDGrnAsyooI/DeB33777brrrmOZzZw5M0Q2v//++zvvvPPFF1+EaFOmRMAlgYhWNa1/9dVXb7755nfffeeyJyomAiIgAiIgAiIgAiIgAiKQRQISp0KAv3z58lNPPfXuu+/mcMPTTz99x44dIRj9jwnUrvr165csWfLJJ58M0axM5ReBP//8s0ePHrfccgvLjCM1n3/++eD937RpE4dy7rbbbocddljVqlXr1q378su0I4bwAAAgAElEQVQvBzcrCyLgkkAUq/qPP/4YO3ZszZo1q1SpQpQ6IeqtW7fesGGDyy6pmAiIgAiIgAiIgAiIgAiIQFYISJwKin3NmjXt27cvVarUokWL+vbty+M9Rx/ygBTU7n/q9+rViyZ4irOnrg/LuOzkC4E+ffo8/vjjZ5999sqVK/fcc0/0qcWLFwfp/Nq1axs3brx06dJ+/fpNnTr1/PPPx3mqY8eOGzduDGJWdUXAPYHQVzVNjxs3jkNm69Spg4w7ZcqUs846a968ee3atQtxT3Y/QJUUAREQAREQAREQAREQARFwSwDJI6KL4KMGDRpEZNxu9tdff7322mt5zpkxY0YMzdmb4Em+WrVq++yzD/Ej5vWbbroJ9DzqGzkp4DVq1CisderUiX/RJgJaU/UgBF555RXWWP/+/X/88ccgdnzUHTRoEAuAgD6zqFh1Bx54YKVKlTgK04c1U4VnddbqBx98YFkYMWIErdx+++2+bapi3hHI4uYZxaqGP3GCfPTYJ+Koo45iYa9atSrvZkcdFgEREAEREAEREAEREIHiIfC36IYajzjFM3a3bt2MFLfzzjvPmTMnuhElW7755ptr1679/vvv29/iF/uKFSsSMxWwJwsWLMAhq0OHDtOnT5c4FRBmwOqvvfZa+fLlzTI76aSTfvnll4AG3Vf/5ptv9tprrxtuuMFeBS8nQpb+/ve/u7eTsSRP74wOr5OMJVWgMAhkcfOMbVUzU2ecccYuu+yyZcuWwpg1jUIEREAEREAEREAEREAECpJA3of1RREY4tbr7G9/w2PrrbfeOuCAA+xVLr300k8//XS//fZzbye5JBYISKlVqxaRKay8IKZUNyCBqCM3nbtH0hxcpW688UZ7sb333puIPHLrBByavfqKFSv475FHHhmiTZnKZQJZ3DxjWNW4GeIYOHDgwGeeeYYfMFB4c3ku1DcREAEREAEREAEREAERKHICJaITPmbNmjVkyBAij6JDPHjw4FtvvZVwp/Hjx5coUeLDDz9s06bN1q1bicAiojBguzjLzJ8/3zJCK/hDpbRJQnRSTR1zzDEtWrRwbpS8VPZUQcSIlS5dOrkKsTYnnHACZ6gtW7bs0EMPxXOKyD7C+pCrAg5K1b0SYFE1a9aMB925c+cefvjhVB82bNj1119P5ObkyZNZdV4NJpQncpNAJPMi9k855ZR0BkePHk03yGtWpkwZh0ZxhzGheabM0UcfjatXxk5yqBmt05N169aRIj1jeRXIdwKRbp5ZX9VPPfUUCdpMnin8WxnsTjvl/S8x+b7k1H8REAEREAEREAEREAERcCCQx9/Xv/32W9QBwp0mTJhgNAL8jF599dX999///vvvDz7r6E3Dhw//538uIrnS2XzuueeuueaaBx54IGOjKB3GHjGPVCF7Ucoql19+ObLUgw8+iDKV0aYKREqAZOGIQawro0xxIbkSuTlt2rSPP/44eNMsA85hNKti/fr16Qz+/vvvV1555VVXXYVLnXOjCFjWokXPevbZZzN2kirk3f/kk0+4laRMZcRVAAWi3jyzvqoPPvhgfKbOPffcPfbYg8+I6667rgBmTUMQAREQAREQAREQAREQgQImkN+eU9u2bbMyAVmThIpE8qmSJUsGnDaUKTKs4z+V0Q5xfPfccw8PQg8//HDGwqYACdTJGfTVV19x8lpCFTx0OFsKQYRDAM1bn332Gd0gre++++5755131qhRw2UrKhYKgZ9++qlcuXIJplKuPR/NkQ2HZWbNdToLX375JXn3eZcEZwlhpA6N4nBXvXp1JCeHMihTPXv2ZOkiupl0/rqKgUCkm2fWV7U1g3ih9ujR44knnnj00Uc5R7UYZlZjFAEREAEREAEREAEREIF8JJDHnlPgTlamvv76a6LhVq5cSfrb2OaDQMIQ2yIUhZi+Jk2akDPYXDxGYh9nB/4OsSGZckkgQZki9g2FiHhVclHh0OTSSMBi4a4xqzMsNuITUaZIPyRlKuAc5Vf1XNg8I1rV9olAJiMzIK+89NJL+TVB6q0IiIAIiIAIiIAIiIAIFBWB/Banjj322EqVKi1ZsoQ5W7hwIZoOjkh4GKHs4GZCqpHo5pJjAQ855BACCWnInKbHj/N0xn75yy198sknkzPLfpmB8C8vym0qujlNaRm3JuaUMxN5F6e8QYMGkYy8Tp06xx9/fP369atWrfr9999H16VTTz2VtvCYa9q0qWmlUaNGCcvs6aef9teBn3/+GdcqMu6T++yuu+7yZ0S18pRAFjfPSFc1ufmIyLZPCr9V8F9cCPN0ptRtERABERABERABERABESgGAhGKU6VKlSJiKFKI+EkhDfDv7Nmz27ZtS7pxqzkSQgc8L8+55/gxrV27dtOmTcRbGfcZHGrojP364YcfIh2+jMdAgJg+5pRMT0g5SFQjR45k6q12yZEfaZImslDhpUXrlgRGnrKEZUbgkg8OGGnVqhWnFlSpUqVChQokCbIuwkh9GFSV/CKQxc0zulWNJyCHFbRu3bpr165Es/KzAZmnCLvGTeycc87JrwlSb0VABERABERABERABESgqAjktzhlpuqRRx4544wzeCwhNIlgK9xbeO7iscTh4LPgc0yLm/9zmVTZ9lfMO+SlDt4QFkz+rOBZtELpTHEa+fzzz1GmiAwiRT3r7YsvvtixYwcBpPfee2+kQEjEbtbSQw89ZBritEdr4Zk/8H7y0YdVq1YZl0MCYIcOHTrCdiGH+TCoKvlIICubZ3Srmk3y9ddfv/jiizlQgnMtuTU4E4DsfiTyI0V6Pk6Q+iwCIiACIiACIiACIiACRUIgQnGKrOQ4E8XAkcPOSCzCkXmEJjVo0KB06dKVK1fu2LEj/0bXetmyZYkTMRet09Cuu+5qvWL+IP4rlA6cdtppOIJ16dIlFGsy4oMA4tS8efNYVMuXL8cFg5ll0hGqcD7yYc19FRoya4lDx0wt6xVrsbEU3Ru0SrZo0YJFlfJq3ry5D4Oqko8EsrJ5RreqmQI8GSdOnMjRk6iuKLDk6Vu6dOlxxx2Xj7OjPouACIiACIiACIiACIhA8RCIUJxCJMK7JB6UkyZNIqwvnrbUSnESwD+OtGJIkMU5fI26UAkU6ua51157kaBt9913L9SJ07hEQAREQAREQAREQAREoJAIRChOkbZ5+/btMcAivW63bt3cNER+KE5Yi00yc9MllckXAg888AB6q5veapm5oaQyuUBAm2cuzIL6IAIiIAIiIAIiIAIiIAIiEKE4RXgFyZtjQOwm8fmdd955wAEHcLIeJ6yVK1eO7FTxCGcxDF9NxENAyywezmolTgJa1XHSVlsiIAIiIAIiIAIiIAIiIALpCEQoTpHyidzkueCmxGlNl19+ee3ate+7775Ro0aRH5ekJJziFO6yIH1PuAZlLb8IaJnl13ypt24IaFW7oaQyIiACIiACIiACIiACIiACAQlEKE6VKVNmzz33/OqrrwJ2MXj1Cy+8cOzYsRy1xh8DBgzgrChCDjmmKiw5iXPK6SSZd4N3VRbyl0Cky8ysMS2z/F0eedpzreo8nTh1WwREQAREQAREQAREQATyi0CE4hQgatSo8dlnn2WdSOPGjfv162d1A9WM88gIOfzhhx9C6VvNmjWx8/bbb//++++hGJSRfCQQ6TIza4yLA8jyEY76nKcEtKrzdOLUbREQAREQAREQAREQARHILwLRilMHHnjgRx99lGtEcJjiCb9OnTpkxQqlb02bNsXO5s2bBw8ebOlTxDMuXrw4FPsyko8Ewl1m6LxccBgxYsRbb71lAdm4ceOmTZvykY/6nI8EtKrzcdbUZxEQAREQAREQAREQARHIfQLRilNkd1q/fn2uUbjjjjsQknr37h1Wx8477zwjHJDQqkqVKocccsjhhx9Oyq1mzZrloDYX1qhlx5lAuMusVKlSgwYNosWPP/4YZ5a6deuS2p9s1qT5v+mmmzQXIhAPAa3qeDirFREQAREQAREQAREQAREoNgLRilM8Rb/xxhvRMS1ZsqRX48uWLcO/qVGjRiSf8lo3XfnSpUsvWbKkZcuWFPj222/Xrl1LiN/PP/985JFHbt26NaxWZCcrBHysMfoZxTLjiEky+pN86o8//njvvffWrFmDUIUGWrFixayQUaN5TcDHwtaqzusZV+dFQAREQAREQAREQAREIJcJlAgrKXjKQf70008HHXTQJ598UqJEiVygsGLFilatWlWoUIGAOyuJT7qODR8+fMaMGa+99pr7niNFEXKFkwtN7L///rvvvnu6um+++SZuZWSLJ2e8e/sqmRcEPC2zXXbZhWXWvn17l0MjbnTdunVbtmxhmVWvXr1WrVo77ZRWYu7UqRNlJkyY4NK4iolAOgJa1VobIiACIiACIiACIiACIiAC0RGI1nOqXLlyBx988OrVq6MbgHvLy5cvb9Omzc477zx37tyMypR7s/aSKE34T5FtHc8sB2XKn3HVygsCUS8zNCkC+swyI6bPQZnKC1zqZF4Q0KrOi2lSJ0VABERABERABERABEQgfwlEK07BpXv37s8880zWASFI8Ty/6667Llq0iJxQWe+POlCQBLTMCnJai3xQWtVFvgA0fBEQAREQAREQAREQARGIgUC0YX0MYNu2bcceeyzBblmM7Js6dWrPnj1/++23Cy64YO+99/7zzz8N2Xr16vXo0SMdZcL6Jk+ePHbsWFOgdevWZcqUCTglGzZsMBni33///f79+yusLyDPnKrub5kR1nf11VcfffTRjIUE56TSDzgoAnXnzJljFvmwYcOwrLC+gEiLubpWdTHPvsYuAiIgAiIgAiIgAiIgArERiFycYiT9+vUjpU67du1iG1VCQyeeeOLChQuTW2/RosX8+fPT9WrixInoU9a7S5cu3XfffQMOYeTIkZZSgFqHZlepUqWANlU9Rwj4W2Z16tT55ZdfzBC6du06ZsyYgMPZsWMHZ/lZCmyvXr2GDh0a0KaqFy0BreqinXoNXAREQAREQAREQAREQATiJBCHOEVC9N69e7/44otxDkxtiYAIiIAIiIAIiIAIiIAIiIAIiIAIiIAI5D6ByHNOgaBGjRoE0Dn4KOU+JvVQBERABERABERABERABERABERABERABEQgCgJxeE7R72+++aZz587z5s0rWbJkFMOQTREQAREQAREQAREQAREQAREQAREQAREQgXwkEJM4BRoSgVevXr18+fL5iEl9FgEREAEREAEREAEREAEREAEREAEREAERiIJAfOJUFL2XTREQAREQAREQAREQAREQAREQAREQAREQgbwmEEfOqbwGpM6LgAiIgAiIgAiIgAiIgAiIgAiIgAiIgAhER0DiVHRsZVkEREAEREAEREAEREAEREAEREAEREAERCADAYlTWiIiIAIiIAIiIAIiIAIiIAIiIAIiIAIiIAJZIyBxKmvo1bAIiIAIiIAIiIAIiIAIiIAIiIAIiIAIiIDEKa0BERABERABERABERABERABERABERABERCBrBGQOJU19GpYBERABERABERABERABERABERABERABERA4pTWgAiIgAiIgAiIgAiIgAiIgAiIgAiIgAiIQNYISJzKGno1LAIiIAIiIAIiIAIiIAIiIAIiIAIiIAIiIHFKa0AEREAEREAEREAEREAEREAEREAEREAERCBrBCROZQ29GhYBERABERABERABERABERABERABERABEZA4pTUgAiIgAiIgAiIgAiIgAiIgAiIgAiIgAiKQNQISp7KGXg2LgAiIgAiIgAiIgAiIgAiIgAiIgAiIgAhInNIaEAEREAEREAEREAEREAEREAEREAEREAERyBoBiVNZQ6+GRUAEREAEREAEREAEREAEREAEREAEREAEJE5pDYiACIiACIiACIiACIiACIiACIiACIiACGSNgMSprKFXwyIgAiIgAiIgAiIgAiIgAiIgAiIgAiIgAhKntAZEQAREQAREQAREQAREQAREQAREQAREQASyRkDiVNbQq2EREAEREAEREAEREAEREAEREAEREAEREAGJU1oDIiACIiACIiACIiACIiACIiACIiACIiACWSMgcSpr6NWwCIiACIiACIiACIiACIiACIiAncDCf19iEikBCF922WUDBgzYtm1bpA3JuFcCUUzNihUr5syZ47Un8ZeXOBU/c7UoAiIgAiIgAiIgAiIgAiIgAiKQSOCvv/664IIL3nrrLaGJjsDy5ctPPfXUu+++e8yYMaeffvqOHTuiayvHLT/22GNPPfVUyk4i29WvX79kyZJPPvmkvcC8efNAF9G4Ipqazz///Nxzz/3ll18i6nZYZiVOhUVSdkRABERABERABERABERABERABPwTWLBgwQcffNC5c2f/JlTTkcCaNWvat29fqlSpRYsW9e3b9+WXX+7evfsff/xRhNh+/vnna6+9tlmzZinH3qtXL1j9+eefCKb2Ascdd9wdd9zx9ddfh04suqkxM/7000/76/MLL7zAjemvrqdaEqc84VJhERABERABERABERABERABERCBSAjcd999PPxXq1YtEutFb/TDDz9s06bNLrvsQuzY8ccfP27cuJtuuumZZ5658MILEySYXEP122+/XXfddYQizpw5M6y+jR8//sQTT6xatWqywdGjR+NR1alTp+S3dt111549ew4fPjysbhg7kU4NyhQSJDeXvz5zS15//fVMgb/q7mtJnHLPSiVFQAREQAREQAREQAREQAREQAQiIfDVV189++yzXbp0icR6bhiNIqOQ+5FNnTq1TJkyr7766uGHH25qDRkyhCC1adOmffzxx+7txFwS96UePXrccsstdJXl8fzzzwfvwPfffz9y5EiybiWbeuWVVwYNGtShQ4fzzjsvZUNoZI888sjmzZuDd8OyEPXUAPCf//zn2rVrffS5YsWKaFvRBTNaXSqR4xKpD3aqIgIiIAIiIAIiIAIiIAIiIAIikF8EJk2adPHFF3/00Uc1atQIt+c4fWzcuBH/kf33358sQuEad2+NjEInnXSSyUHOH7Nnzy5dunRy9W+//fb333+vVKnSzjvvbL2b8kX3TVslf/rpp3LlyiVUpEvly5f3YS2eKpdccsm999579tlnDxw4kGxZ6Eovvvhi06ZNg7T+0EMP4Um0ePHiBCOffvpp48aNd9ttt9dff51YNpynHn/88bPOOiuhGJnR6tate9VVVwXpQ0LdqKfmkEMOgSFypI8+k5gM4OBKuWJ9GExZReJUWCRlRwREQAREQAREQAREQAREQARynQDndqEBpevlbbfdxhNsVsaA7kAqn6VLl4bYOo/T11xzDf+atEpEtBHJdfvtt1uuQyG25WyKjELNmzfHCYjANELGiCk744wzSLadIJZ98sknBxxwAC9Svnbt2sZmyhcTmnvttdfmz59vvYh3Dw4vKbuERkaqqWOOOaZFixbOfSYvlV2+6d+/f6TaRMrODB48+NZbb2U4ECtRooQJf9u6dSv+TQ0aNPA9fcAnWg21y27h119/PeGEE955551ly5Ydeuih06dPTydOPffcc/QKHzQ3HRg1apQVE8fCO+WUU9LVinRqmD46TBNu+pxcZsSIEXvuuScRoP6qu6mlsD43lFRGBERABERABERABERABERABAqBwGeffUZEUroL942sDJJ2UUzCjekjSJDMSigsKFMoPkcccQTqBk43/IGUE+cw3WcUItk2QsYNN9xgKVP0M+WLCf2HHomQCN0yl8PRbAgrCHYPPPBARgJ021hDUKPKjz/+mLFKuAXwF5s8eTI0JkyYwNxhvFatWigseMDdf//9Qdpat24dayPBwuWXX44s9eCDD6JMORvHuwoLLjsAOlRIQ3L9+vUOtSKdmlatWq1YseKLL75w2e2EYgQ5Mhf+6rqtRVifLhEQAREQAREQAREQAREQAREQgWIggG8Uz4r77LMPckbyhXSVFQikPaJXqCFhtY46U6FCBWziaPPWW28ZswT3NWrUiBfr1asXVkNu7Nx8882ITe+//769MEl8cG7atGmT9eI333xDeF3Dhg3Rp5xfTG6UlExHH320m84QJQeBc889101hU2b16tVUISmY+yphlUQRSzbFQXtEPgZpgqhJ9Fm7Bc6kY4zk5MJbylxNmjThlaOOOoq/ycllL0zrO+20k8s+EJ6Ju6Kb3kY6NZCkJ4h6bnqSsgzy1ttvv+27esaK8pxyq+KpnAiIgAiIgAiIgAiIgAiIgAjkOwEUEIZAXqeWqa6Uh5fFMGTCx/bee288YsJq64033jCePv/4xz8OO+wwYxa/G/xi+AO3ly1btoTVVkY71157LQIZ3lv2kpdeeikZjvbbbz/rReQqZBf8U0iP5fxixhYdChATF6R6zHWTk2ER+0nk3cqVK4PMYJUqVb788kv7WHCvI6YPQYobxFwmOxjeW+aWsV/UJS9V6PnLIp0aSCJfugxFTDnLBCQS6hjdApA4FR1bWRYBERABERABERABERABERCB3CLAwzYdQgny160PPvgArxMunEESLOAZZN7CIcurcXxz8BjyWsuh/A8//MC7uLckpF7CZ8oEiH3++efOzZFeh7GQKCq5GPmweat169YuO4x7VHIacuoif1h6BK5e48aNIzEQIWOW2ZQvumzUXozJIh822hwec0ZfeOKJJ8xkWdeRRx7pw3LUVY499lh6uGTJEhrirEP0IzIf4c2EisRYcEnz1wEgI1/a65588snksbJfxjj/8mJCkv4333zTPk3++mBqxTk1JHE3TnD+LjynQjkqMV3rEqf8zYtqiYAIiIAIiIAIiIAIiIAIiED+ETBuIL7FKRxMOC6Ny8rxbCGw3iLcySuX0MUpVAxkKRKQcwigvTOkoCK8qHr16hlzopMGi2GmTLRk3jKeNRkvRJCDDjrIyCsJF8fAkVfbvMhjP70aOnSovUzKFzO2mFwARXLt2rVoZLj8mNlh+sw8WpeR8yK6vvvuO3+yCH5S9JB/Odywbdu2TJ/VQ+bR7nfmqedIS/76Y1rBD47MZZ5aTFc4zqlhgb377rvJd67LgZCKC5dDnPtclvdaTOKUV2IqLwIiIAIiIAIiIAIiIAIiIAL5SsB4TpF9qW/fvjzt44HStWtX4s7I95StIXEaHZJZuJ5TnCtnjh3EF+mqq64yo0YiGTRoEH+Qccn4T0V98SR/zjnnIIThAZTcVrt27Qgz3LFjB2+R2GjVqlVly5a1F0v5oo8+czidlQLfqHL2V8xbpOv2YdllFVQ2kn+5LJxc7JFHHqHDqJ99+vRBVMKhDLkKFzCHk++c23KTFN9E7aWM3Xv99dfDEqfinBrEKU4kRKb0NxHcMnXq1EGY81c9Yy2JUxkRqYAIiIAIiIAIiIAIiIAIiIAIFAgB4zm1YMECTkDj6DqOln/66ac56A3vnuuvvz4rgyT1Eu369oJJ12cGyBFj+NfcfvvtNWvW7NGjR7NmzRCAOnfuPGzYsHhGOnr0aJxNiNdLqYWhPTEd7733XtSdQfNCmDDXLrvsQnO77rqr9Yr5w7czXdSdxz6n3dFtDrO76667GjRogPJYuXLljh078q+/1nGswyGLxFUO1U877TQWT/IJkgh5nPZ46qmn+ms6oVacU8Ms0zrJ3X33/MADD/StbWVsVOJURkQqIAIiIAIiIAIiIAIiIAIiIAIFQoDHcjIx8WjNAz9OKISbjRo1ijw+BPsg2UydOjX+cSIT0CgZpsNtmjg1yxGJELyHH354zZo1jL1Xr14cWxZuWymt0YExY8Z0797dcpvC34c+WIXJAYRjzkcffRRDZ/K9CcIzcfQLaxRgv+GGG1AtfRi84447cMdD3fNRN7tVjDiF/6Dvbuy77744Xfqu7lxR4lREYGVWBERABERABERABERABERABHKOAHIJEsmsWbOI5sMJBd1kwIAB5EXaY4896GtWnKeMOEXe6xBhkbids8nuueceogXffvttQsAYL6fgkYWKWDDEBZxiQmwupSkOCiQAbeTIkda79957rwk2NBdKGbLgV199FXVP8t0+Wmq3bt3cjIKkWsh/JlLS+cIgTkBeo1lRdnDguuSSSzKZz8X3g4tTuNcZP8coLolTUVCVTREQAREQAREQAREQAREQARHIUQLJMhAOEUhUdBe3iEgTY6ckklGcmjdvHqqZw5XgDIICRVYp9KkOHTosXbq0fv36hIDhKcYrxvsG5xeSPUU9PTNnzuREP6MImItcRQmH4pFb3cTZFdhF2nVck6wpe/zxx1lX9hl85pln3A/ZTcjnnXfeecABB3CEH9PN2Yhkp9q+fbtDEyiDDzzwgNfs4CQvu//++xNSg7kfSHZLVqlSBZ/BIJ5TSNjIfxGNQuJURGBlVgREQAREQAREQAREQAREQATyhkC9evXoK/5E77//vptOIwC5KeamjDk/zsGVCfeWVx2vhBPEyNm8bNkybOKpVKZMGasPZJ7CZYyT2njlvvvuc9M338OkIinGEzJ2I07hz2W1y1GAxBuiDLrpSbhlonYcI3m5fcbWr1+PDJTwSogjuvTSSy+//PLatWszrYSp4i43ceLEgQMHOjdBUnMiKz11o1atWscff7ynKl4LRzc1JD4jGhFVzmuXrPLE3uJ36bu6c0X/3YqoQzIrAiIgAiIgAiIgAiIgAiIgAiIQMwG8imiRx1fcTxyatlLtbNmyJaGY0Zh8XMaT6/PPP09X98ILL5zveFWtWtVe16QYx0kEP5oEm7zYvn17XsyYhtyMNHmYvOhmpDiYcDLaIYccYnWAQwkJiTrqqKOsV8zBZzGLU+XLl6dRkxc/uouc5S+//LI1aXhR4XRjn8PBgweH2DorZOzYsS+99BJ/4AOICsai4oy/6ISeEDtvmYphahBDcSvz3Xnqoqj6ru5cUeJURGBlVgREQAREQAREQAREQAREQARyi8DChQtThrMhorgAACAASURBVLMR6XP33XfTV87sc05MjgxE5iZKGtck60LE4Tg8f6M14tRnn33mr3pyrf33358XcdXhVLXkd81pZTVq1HBuzhRAY0pIS4Q3lpuQNONgYof5wgsvoP0deuihVrtTpkwBOP4+YQ3cjR3cxyhGHi43Epsbg7lQBm+4fv36WT3BXa558+bIKPHHqAahEfXUoEzh0bb77rv77iTxjASi+q7uXFHiVERgZVYEREAEREAEREAEREAEREAEcogAcslZZ53FWXWdO3cmA7rVM2LN2rRpYyQYk3nK4eKYMyOvcK7ftGnT+IOQuueff75p06arVq3yN1rztOzgOeXVbKNGjYzPFONdvny5VR0/GrQ5HGp4hWxQzmbJFk8BqpD92ihNBDxeffXV/NdNrB+ZzqliV8fIu4Q1KyoK4I899lj8qbWZKTq2efNmfJcsfYoM4osXL/bKOWfLw5nVWKdOndCPgIx0yFFPjUnuVrlyZd+jID8aOf59V3euKHEqIrAyKwIiIAIiIAIiIAIiIAIiIAI5RKBChQokCKdDOP7gaYJ8g4hDjmSyIKFP8TohURdccEHGHl955ZWUIWatS5cu2ORZ9+STTyaTOucAZnRHSmncxLWF6DmFbxfH8+E+89FHHzVp0oRIuu7du5955pnk1UKbQ7lg+DfddJPzSGGFWxNlXnzxxb322guxCbHjtttuO+ywwwhSy0iJc82ggRZmcszffPPNb775ZsWKFcnbDTpeJB0VAz///PMzmgq3wHnnnWemidxMzD6Bh4cffjiT2KxZM3CF21a2rJHwHvWtd+/e2eqAv3ajnhrjM5gQA+upq9xZ0TncSZzyNBcqXGgE3B81Wmgj13hEQASyQYCzovliGuSQlGz0Wm2KwP8noDWs1SACeU0ArwfSRb/yyiskXeJvvgmvXr2a+5pBodqgWLnMEY7QM3r0aJIKUZFAIaQW5C28qK644gpEHF70mnEZjQbnqRA9p+gDmhTeYeeccw6uXitWrMBH6amnntqwYQMN3XjjjSQ/ynjgGqN47rnnsIM14/HE6NCSyGdEIu2MwySCDyUL1Q9JCw1o3LhxeE6haiEJoQSZxF6cQhi/aw8Tt2TJkpYtW9IBzp5bu3YtIX64v3GM4NatWyNa4cigQ4YM8WGc6fNai4BTnMJoMaMboFfLUZePemreeecd1CV7YKnXEXFTEBjotZbL8iXyK0OYy1GpWOERIDyew1/59WPo0KEmUVzAi58s+ITgJwvssOVddNFFfE5Y+R0DGi/C6oT0MzV8vHE6r/lFTpedgPiEuB5C3w1C7JsxxXf0nj17EuxgWeZTfPz48fyeTCZU82KrVq3uuusu+wExfD3lGzPHHofeHwxqBUZBNaXNgkHNUxzfX7t27WqG6WYNU4xnNvLRRvSglfv3fmzLLKKG8oJwwsq0o0AiOeaYY3jMpgwOMtZb2l3TLRjS8ZARHD0I1yd8Z0wMmqcLOYMj2FC4UKaCZLExjZ544om48zz88MOe+uCmMAFrOAQRQ4caRXanatWqedXO8MFZt24diAj0Q3Jy06hVhscN4gqrV69OxJZpl5zo3G44K9WvX9+TKefCw4cPnzFjRsocW+kqIkWRkZ3dnjVAli6HSeSnNc6/Q8f0sU5CHKMbUwiRfMtiREQpmhROWb8Qgpkak4bf5RXR1JCWa8GCBSYNv7+LlcCtykOfv+oZaiFO6XJDgF8YuNyUVJnQCbDJWoLUSSedRJhrwCZMaDfbljlq1Pz0wfmjAc0WbXUeWrp162b2Gg5AmTNnTtGiSDlw8QlxPYS+G4TYN8sU2nffvn3tlpGluDv4iZJcs6Q+Jf8F/+UoYvyirWJklzzwwAP5LhJ6l7QCQ0eazmDBoN6+fTvrk/gaa6Ru1jCFb7/99muvvTYK4BHd+3g0zJ49O4oO553NiAiHyyF5ZdrtW1qqSeuj3TVc+DFY46MT+SaGhgq1iVtuuQWVMKLR4WHHVxfEqYjsh2WWrQyJDQVtzZo1YdkMbifS5yNPU8N3UU4tCDIimuP4giAWHOr+y0FRV0YCZLzjmQFHm4wlVSB0Ajgf4vjKPbBo0SI+tNgWzzjjDPsTnY8WV65cyU+7VkV+9sE++joT7cOaqlx88cXMy9lnnw1YYphxQMPbWVgsAuIT1mKIYjcIq2+WHX6I5i7gNG67ZbxpZs6caX/FHCNNqk77i2Sj6N+/f+hd0goMHWk6gwWDeuTIkfhA+VjDrH9ic3DECJd5dPc+NyaPMXwNCLfDeWctOsLhokhemZZ9fmtkU+3UqRP/JohTlNHuGu5ERGTt0UcfxcGEn2oisl/wZiVOcRhiuXLlcFJ79913c2q6c0Sc4usoKc/w5Q8CR+JUEHrh1H355Zdx4MQDMxxzsuKaAH6weN6SrBEHQlPJZC7kS3O4QpKJRCMRjOuuqeD/ERg0aBDoLrvsMjMjTBlKLmIfO5cYQUB8wloGse0GATvMHsWv9xmNILLzFZxTt+0l8ZEmJwWhfxmruy+gFeieVcCSBYOaj0J+E0KtcAaScg1T5frrr+cTISBMe/VI732+qZNBhjCiEDucd6YiJRwiDYeVSZQKcUl8lyMBdkpxSrtriBMRnSl8h4l649S/6JoobMuIUwQtormbKxTZnbBNY834z+ay5xTiJhoQnSSjPz685Jwy10MPPZT1eadj1113nSFpPdUG7JWPqcHVA02DGNUgTUucCkIvnLqEYMjL1CvKb775hucucq94rWgvzy9dbLIc2mp/kbgYRN9NmzYFsWyvi6rCL72kKgzLYA7aSZ4OoiOZIL6uBektZvlaT2ZHu5EvvviCoPS///3vQSxnrMvS4oOHBD2EcGcsnLFA4fHJOOSMBQhkBi+OPLhCZCzsXCCPdoOAI6U6KRs40yedHcK+2NBMes6UbtUcK4NrQPBuGAtZvEPDGkIMdrQZJkD+xz/+cdxxx/lew5wExO8TAT/94/wmQAKO448/PoaVlrGJEHfdjG3FSdhTZxwKp1uZPGgh6/MtDvXq2WefTSlOYVa7a1gTEamdY489lo/ISJsoYOM8IvFEY12h/NZ16623WgbJCBbwwSFS+CeccELKfEYtWrSItF03xvnl3sLIoQFuqmQs42NqeHRq3rx5RsvOBSROBQQYtDoP8Py+zWmUQQ0VUP2M35/4bopCTP7yhNgWHwxIb5lcK/jTst0mp42wl3GH++heLlTxNx0m8RYHBgccQsq54LeagKGXzr0KN7FLyuWa13wCzinVQ0w+kl+7QTp0Ge8yU5FfwxweyznVwTpxBuWdZZzc3KxZs8L9LSQrd2jwFRiWBTcqdl7f7OFuhgY7gVGkjko5BW7WMBXJ5PjSSy+FNYnYifSbAAHpfBpmPQYkxF3XB/lICTv3x+Xumm5lkuiaJOhkJjW+fg7ilHZXHwsj/irDhg0jR3j87apFESgGAuSUmDhxYsCRSpwKCDBodXJm4//G81VQQ4Hrc3wpx3ySDDKwpUAG3Hx/QhLmq96IESMCtRRL5aVLlyI+ctQovv2xNPj/G+GhgjNlArpW+psOzlVBOiReMpd/AHGYjnATuyQv13znE3Alh5t8JI92g3Tc3Nxlpu4TTzzRrl27dHbYwK+++upzzz13jz32QKXC1Ty5JPHjvBtwBgujevCPPDfCTb7f7OFuhmblHHzwwRzCnXIVuVnDVORnj4ApLWJewwyZgNyYG7U3F+6um8WBeG3a/e6abmVymg1fOJ966inTtIM4pd3V6+xkpbw5RCysuKesDEGNikBuEsCTjmfe4AfvRCpOlYBdJKcAZsko568RfpmycZ7DOZPFR79OPfVUviIjYfio61AFvxK+/N1///3z589nFjjJFbEgZXkOFyfKY8mSJQyNkihluC4PGTLknHPO8XqUafAhcPAB3oDEwRExy1cBvn2SdcL+UypNoHdwbCfuiwAnBUC6RvlGwtitd0lRQbBeysIcv0raL34Zwy3TeQhE0nJoqFWGiKTSpUs7VMnKUaNMIm635qjXH374ge7xix+JEphlHD49zZHv6SDsmbj0p59+unPnzg4tkl4Uzc4U4LzbU045JV1hvM9YFWSsT7eMTUWeFc0P8ua/HCnC8YuehkxhHulxc2PBsPy4BTgYuE2bNmy1/PrK+b5eraVcrtniQ+e9rmGv481YHp7NmjVjNufOncukU56fMUkiQ6K3yZMne91z8mg3SEfGzV1m1eWcPh4yJ02a5MwZdx5i+lCyyI/QvXt3e2HuEb46UMDyscq7OzTjGnMuEOJHHi5R9957L2c1DBw4kI/y77//nohLHNPsHcjWzZ6Dm6GFhQThLGMSyjrMlMMaphZfUdgrTI5I5ysXvgnQQ74tcI4HXzYy9TeS98PddRO6mCOEU4LztLtiIXll8jnF7wF88bAOaOeISYaMdwBfqNiQiUKymtbuGsnyjcAoX/jZqE1Ygy4REIGwCPCkuXDhQg5VD2gQ7fjEE0/kG35AO6mr56aw57tXDt+leMuHWfyc+czjEd1HXYcqfJSWLVvWPiXp/KHQfThFzpTkiWW33Xazal100UXh9iqjNZcpMwlX4bEKP3lng4gjiDJ8nzAXP1+nK8/XXEaNu0HGHpKPwFjjg40qzkn7snLUKELnySefbE0iSWetR1BoGP3R5eV7Ogjz4Rve6aefnrEhYjPJHmWQ8i0hXXkELKNZJGQHSy7P8wzDNwZxD/GRNDf0HDrJyzWLfCDmaQ1nnEEfBcJN9JYvu0E6UC7vMqv61KlTTzvtNDfYzY/DPXv2TCjMb/vcnm4sUCYH71CXPU9XLMSPPDfpybN4s+fgZmhNSt26dTN+glM43RrmLTyn7EfiOqyKrH8TMH2bPXs2n2KhHzLo8nYId9dNaDRHCCej8Lq7YiF5ZTJxZJmxX4ceeihbK7+P8mJC0EOR764uV2MuFOOXsL333jv+gIZcGLv6IALRETjkkEOmTJkS3H6knlN/C96/nLLAGfZ8JhE3gaNNwoVDjY+uTps2DYP8qOWjrkMVnj0SxMKU4pTlrkV2QGROc7Qqvyq3bNnSVI/5PAs3359INkRayiuvvDIjMffHnZqEIG7EKatRbhtncSpbR42iSxqdkeEbKYpHlHvuuccs3SZNmmTkZhXwPR0ct4HK6eb0SZfnnpIB3SzIjOKUfXSoYz7EKSyEmEMn5XLNET4Z17D7peK1ZFjJR/JlN3Dg4+Yus1dft24dP9cnG3zsscfmzZtnf/3BBx/kliEzZUJhtnrcCV1OWW7eoS47n1wsxI88lyp2jtzsubAZ2qejW7duuHUnTJD7NUxFvGL/+c9/ulkJ2f0mYPWQjxXupuRRuxlCKGXC2nWTO5MjhJM75nV3xULKlZlg2SGsr5h311BWaWxGeN7ha+pzzz0XW4tqSAQKngC/OeEZQ8hO8JFGKk7tFIk7VpaMkhMRiYfGiTtDvkm4OHrGR7+QtBDvOX3JR12HKoQgEdbHRU4yh2K4/5C2iVApfPDwNDH6BTF9fPQSpcjfxNaF2zFnazxH8UvpAQccYC9GtD8yx3777WfpZTipDR06NMSOgStEa5gy3g18+EGVsJpr/nMhJ4fbULI1UpgRfEroFm3yGyAF+EJM0pAbb7yRv3HmIgG/yz74ng6i+XCDqlatmsuGMhYLfYKcW8TFLKEA/mgEobDtuqfnsFzznU/G+cpYoFy5cvYy/HqJ7MhHESEY7FoZq1sFUM9zfzcIvunZLZjjohLuCGJJiIts3bp1165dJ0yYwEnnRJmxc7KSic5O6AB7LMmk3UN2UzLmO9RNl1KWCfEjj1+A8Msw+6p18WmO/oVHj/VKvt/sIW6GdlCNGzc24rh1eVrDBAWTXByvW98rIWXFSJcxJBHUiOwLt8/urYW167pvMblkpISTm3PzHSahVvLK9DTeYt5dPYHKemGedwi4tn74zHp/1AERKAACuNpwDqYVj5W7IwounuWOBfyxDWgSCYXVKxSutm3bhmUt2Q5Shemz1zTnJNGglptDnS644AJ+f0h5TDKn6vIWWonLAabzIIO8cwBdSvvOv+bhqk2CUmRBHidM4ipEHHprv3iES9dzZ6+THDxq1MqV5vKEI5KnoMikHD4Ja11OaMZizn4ZpKDCcx71wYo2ZctLmCMrR2lyW76dBXiCpRXjC0meKcRoa4clLoMESRnHFVaBSPlky3MK6QS8JjYN1yccUe2ennvuuSfiS1gALTtZ3A2cx+Jj02OzZftKMAs0PEDtSeVYxin9eUkDRy4ql4QjXYG+71CXnfdUzP1HnjEb+g6Zm6gj2gxxPCdlj+81zGcQH98u5zd37n3S6iGouex2uMUi3XVzh3ACNB+7a8qVmWDW/Gqb8ruHdtdw162siYAIFCcBeU65lfZw4zdFkTPc1slUDvqh//qXqU1X7xsPER4UM5bGP4iv6bisJ5c0b+FMntEIBd54442DDjqIvOzJhc866ywSVLsx4r4MWdY4yW7Tpk3kojLOGrhv0Fv7ZbKJ+7hQNFLuJvYE7W7M8sCZ8POym1opy1guP27mFAsIi/i3J5tasGDBkUceGc/vnwhqONTgN8ekmJ6wzBLmiKBF30zSVUSVM0+eSABox7ihWSWZVsuJL/R2vRrMFh+rnzwi+lgJZltgWlGmTJ5+e8pDTi2wZ77zysRf+Uh3A4cu+dv0yLaT7BILNF7knBTu9FWrVvFphQtPsj8vZ3fiPknqbn+gEmrl6Qp02CFdbo/x75DZQh3RZsjvN2wC+KLa58LlGqYKJ3706tUrlDUc573PDy04fFlngITSf5dGsrjrxknYTsPf7ppyZSZANr+sdOnSJeH1AttdXS4tFRMBERCBXCPg/HhSUGF91hMUGVWJnuB7P5k7CJgibgsncx8Tw4MEjxA5KE7x0GjOpONQLR/j8lGFFgk/4egusl8lVyePEvlTCKv0YTldFQ4B5JuEucyRYfZXzOuktAixRR+miFrinDgfFZOrkI+GF3nyN4N1vh566CGiUYj3TC7GsiehFUm1M9kI4X0iIMxE0B9jjmVpzZr5o1OnTiG0lMrEI488wpIg2KRPnz5IhL/88gvPafz+7HCkYEQ9SWc2u3zoFd/O2Qz9jRp3SJQp/PhILgtqvOu5wYmd5OwzfwaD1MrKbuB70+P0vQ8++ABtPeWQ99prr0aNGiWnHTSF77jjDk4NMxHcwa+8XoH24Xv9yIt/h8wu6tA3Q47puOGGGzhZ1ccaRn4lpSP5BIMvYCzEee8jTvFrSro7N5ThOBvJyq4bJ2Fr+L53V+eV6Yy3wHbXGBakmhABERCBKAg4P54UlDhleU4RUcmjO79L4whD3ByJtA877DDyiHvli+8AVXLHEcPqP4FLPIoTZcDTo9dB+StPiiIS/Y4bNy7lQfIIEMB/7733/BlPWYucbXxTNBdqC2V4YLNeMX+E6CIXYs99mOLkYzLRUBGSO+2U4a7EX4zHVzyG+Hkwua3SpUtzHN6yZct8dMNrFfibieDcPVPXesWaqYRTKb024VAe2YWFQb7Mu+66q0GDBgycow87duzIvyG2EsRUdvkE6Tl1eUxCMIUnZ6sjTDMWaCNUEQUc0LKP6lnZDXxveubxiTNevY4UT0zWszn/IZQrr1egnYCnj7ys7JDZRR3FZohnLjINgVdel+L48eP79esX1s4f571vjnvmfDevQw6rfFZ23TgJW6B8765Y8LcytbuGtUplRwREQAQiJVBQ4lStWrVq1qxJpnBOACG4CZ+xWbNmGTcKXLXxpeK3Gk80TbBS/DEszp0kOTqBNpThnGyTUTvqi+/6HGmEO4DlNoWLCqmRrXbpBs9jH330UdQ9KUj7+J+fd955IEXiSfdLtX3gd955JzNiz+lLjk++eFllOCi0SOZi0qRJiHQZVwVhobj8KLNmRlAJBXDiI/lRRi+egsQbcNM788wzffhU4vzLYWFhPdV7ne6cLe/1I684d0iXmyFh8nx2u3Fz5meSBx54wEeMG78F4rGes8vJoWNGnLJ/mMY/imLYdQPurv5WpnbX+BezWhQBERABHwQKSpyqX78+3j1kKeIEkBNPPJH/krmDH6JJ6AsaHuCnTZvmiZERpypVquSpVqSF+RkTLwaiFHFh4CSLSNuyjBMjhqOWUcTMRWiPSU9rLr4rkAqEnOjx9KfAWmG5mpg+nqkI+XEeHVFs+K8RyFavXj1TEmmAnLj2bFlVqlQphrng7k6ZdcsOkN0APzL0ZZ6XqlatiopKOtUCWz/RDYdHU/zRHOwXMN6Amx4epmTi8zo1/L5CMnWvtQq7vNePvOLcId1shny+cNIuv97x1YiD4fgQMacbO1wcOeLjBzCU2TJlyuTjsswFcaoYdt2AuytLy8fK1O6aj7ek+iwCIlCEBErgtVHww+anPxJ8kG+SYCh8id2Pl58iL7roIiqm8x1AU7AnY062TIvO2pZpgop8Tcz4gznuMCSD5N9q1aqR3IeT7NyMBY+nxx57jMxZpJ9MKI/A9PjjjyNtEALpYIpAHr7LzpgxwypD9BlI+RZlvcIxbShWtOWmS6bM8OHDsUn234xVODaIExgJz3z44YczFjYF3nzzTYaMRuM+ga4byyhB5jA4q5W5c+deddVVVl0aJYODG1OmzNChQ81h59dccw1H6mSsSGYTHl9JqEzaGvtIWRW4DZpXWOTMhY841uTWieRijtq3b+/cMRKTmxTO5Efn+SfjKEwBVhEPAyae0dPF8xIxpOQ0ca5LTIo5zvLSSy9FnCJ9EtG+CLvo1LVr1/bUYrrCkfLxsYYTdiR0zCb/vqz+Z9yRKDl16lQUcP5wvn3CxZtru0FEm14oq85uJNIV6OMODWUFWgP08ZEX3Q6Za6gNJZebIXvgPffcw6pGOcJvha8EJDvnRTKXh74mvRrMnXufDwvk+Ouvv97TL3/BvwdGvevmDmGzNrS7+vv+E8pKo2kcyVNmj/V656q8CIhA4RHguQxHn4zj4gkFNyD7cUnOVTx9OSwoz6l0XMjNZB6YvSZFMofEOeh3/KjLV2GHy2sgocPUkp29RYsWfFlHFXrxxRddKlOWQX8p4alORfKOJySZfv31148++mjLOGe0ceSf/ZT0jMvaR4FcEFL5Wd4+3ZzQhPSZ8Ir7oRF/apQpBEo3yhQlOWcQadJSpniFuSDdiaVM8Qp5K6Kei3RjzIU5svrG4ZJXXHEFz2B8NUeHRUtFAURrfuaZZ9zPUbglo+aTsCOx/5CZ274+Q9yRsos3UpK5s+mFu/ycP85CaSvEFejvIy93dshIl6jXyeIESSLBEej5g6Sc7An8bEYa9ZzqpMtBRddnHB75JTJj2seEfsb5PTCeXTc6wjn1ldLlenNfLFJudCOslYbvJF/adYmACIhAMgE3ypT7XdEq6enLYVGIUzxpmKSederU8QTUOD3xqJ+uFt/zCKdyuIgk8tRiusJ4wTRv3pxR0CVOiCOmz71Z4/bFATrJVYz65nyRooLza0hjZBXjmYFU8XgzWa/gisLf0Qki5cuXx76V8D5TlyN8n59ViQuzZpy0xySKsi+AwYMHu2yeaL4hQ4ZQGHez5IPn0xkB/sEHH2x/F683+1zwFnp2dHORsmNmgnJkjqwe8owBYbuTlElQRfp5l3MUVrHY+CTsSEjYuErZ12dYOxJksoU3ht0gFza9sNaesZN3K9D3R17Wd8jYUHtaIY0bNyZJuVWFsDu+UfCtFC8qT3ayWziGe5+f2fAT9zTM2L4HxrDrxkBYu6un1WUvHOdK891JVRQBERCBZAKeHk8KR5xCgeJpP2XOY2J/+BIGKbuzj5ulY8Sp+B9lE/qGawzRSaR3IZcQid7tQTpuRlGjRg2K8YUg4dgdIr/cuJCQqJvq9qzwnBLND4x2gWzKlCn8oBdWqFTyoIxbEBnu3ahpbphktwzuV71798adh25wMhexiu5/qmU6EjL0E1fI72DWiDZv3owYQaKlOMdo+W0Rbxhnu17bIjiUKkceeaTXigHL5wufgMOMB28Mu0EubHoB5yKhen6twCAfeVnfIfMCNS4e7NX8XJdr5704L/uo732UKT6dcU4P9+6L1Fq4u27UhEGh3TXS9SDjIiACIpDvBApHnBoxYgRP+5wof9999xkpiosYFiKnrrzySv4mgXRCbFrGyTPfURw8pzJaSC7Al0JCNK2LICNTBrcg60W7BIP0QDTf1q1bSZXNcdF8lSQ40X7hxOTcDZhQgHbRQczXAhIDkSSe/7qJ9TM5m+yZoUhThTVjigvNiwQWIR5/njwctDleRHbBL8mCw3lDJN7yMQXZrcKaJJOLSddFNB8j2rhxY8Kckn4+XSeZjuXLl1vvEnHJAmB5WK+Qtx5nLk95r4IDQQA1Gii3oXGjMxdDQ1QNbj8UC5zBRL4w8gF73QeCt54XfAIOMza8MewGubDpBZyOhOp5tAIDfuRlfYfMC9R33HEHn6f8RhLuMovaWtT3vjkDp3LlylEPJCz7oe+6URNm4Npdw5p92REBERCBwiSAylAYFzqFFbFC4lIceYh+ItuUmTY0HY5P9jpSAgSoO2bMGK8VHcpn1JJoEUckYwFfIWsI6dYfB5Y7d49fAqFhquPxhHJh/iZFNFFp/EFCdAcLCFh82z7uuONIXsNXNx7vsVCxYkUkP+QhXoQzF1+SvFIiyxK+bG5qIdYY7YMLxZDm6LwJV0T7SGlh9erVvEtGZzf2fZchdTSioafqGQ+Yo9tLlixJZ5MM+hTgvHlyXeFfQLglZ9AguLz77rtMh8n3j0+cpy45FGb5zZkzx421u+66y0xQyZIl+UEexzrzG+z555+frvrpp59OUnM3xhPKmPhcT3W5C9AEqUVOdB8tpqsSKZ/ga5hkycyL1/E++uijZird3z7B8ebUbhDdpud1LjKWj3QF+r5DrW57XYHBP/Ki2yFzE7WPzZBIcL4jkbiQD5GMCyyGArlz7/PJXsuEVwAAIABJREFUy76HL1IMo05oItJdN3cIM2rtrmbqg++u8a9StSgCIiAChgBPKISX+abh/OWwcDynUE9I4kWKGdKskCOJTNUcJsV3L75QXnzxxfzXnjUpndCT8DqJe5BCwvWcyig20QfLOQhfKobgsrfpihEy9txzz5lgQJYRHk/oKUgGpETlOF5edI4pQ8+67bbb0EH4EkxcIed/4TmFqjVq1Ch+YDSZ5knCH2l0AJme+NbYsmVL2oIJM8szDC5IxGfZnYYCgvJRne/3Jm+U+ytl8i/31TmyEEXvggsuQB9kTtHpOIQRPQgxiLWKQxyTZc5/jPniYHKcFslYgU6BIxha8Mcff8wKoZ+h94TxerLJt+GePXs+++yzTFbnzp091Q2rcJx8rD4PHDiQjdHrEHIcbwy7QS5sel5nLWP5vFiBwT/ycmGHjBO117sV5aVdu3Z8lE+fPr1UqVIZl01OFYj63ucUM5h4yukZFh+v8xjRh1rUhMGl3TWsNSM7IiACIpCnBJwfT0qgVuTpwBy6TTARD8akD0A6OfDAA93oQemscVAiPjtkBSoASrjxo9/hU02gH98PPI0IpESTccAkXt9GzMIFbOHChYcffrg94ZEnm+6PN7bMIkURNcbXxwoVKqBCOuSGICl4w4YNcf0wPuSFdOEhhbBIErGTTjqJc/oYGmomc0GIKMs1XDHI5enpFl56whpDgGOOWC14dTlInz4Oqvcxj4hlvXr1whuRJ0bLvcuHnZRVIuWTF2s4LLw5uBtEsemFtfAsO5GuwHju0NCZRLRDFgBqPsRRptBB+Lzw8XNd6DNlDObOvU/OeNJ62iPTIxpyQLNed93cIWwNXLtrnu6uAZeuqouACBQGAZ5QeOTkB8VIhuPbI6tIKvbt2xc5pkgGG/Mw3bua++hY8JAoH40WXhX3kSw+xh6DW/v27dtPO+00tk4OrfPRw4xVIuWT+2s4RLzaDTIutpQFIl2BMdyh/kadlVr5jpqTTDiHjt8MiAHPCsB0jebOvY93do8ePXIKTnJnfOy6uUM4x9kmdC/fb/n8oq3eioAI5BGBgGF9ziMtnLC+SKS7f+djIqKNbwMR2ZdZERCBiAiQIq1Vq1azZs0ihgVXu2tsV9aP4IxoyHGaFd44aastEQhCgPSIyPR417Zv3570RtZeiEtpELOFVBe3X2IejzrqqFwelHbdXJ4d9U0ECpUAGWauu+46Mr3OnDmzUMeoceUOgcIM6wuRLxmaeLKdPXs2zvAhmpUpCOBqPnny5LFjxxoarVu3LlOmTEAyGzZsIL8YRjiREGeZggzrC4jIU3UiWchjRZYrau23335EcXqqnlwYsZwM6+aYSJLrY3nChAkBbaarToCGyVOWfBHV0rx58+Dths6HLuXLGg4Xr3YDf6sx9BUY5x3qb8jZqpXXqHG/Z9NLRsdZwPPnz88WUtNujtz7HH17wgkncAwOzmXZBeLQur9dN0cI5yzVdB3L61s+72irwzlLgG/s55xzDumG6SHuhDNmzOBHjpztrToWD4FIw/okTmWeRDIKc5H/O3NRlfBCYOLEiXxnsmpwhBAZ6L0YSFF25MiRlthBXi2SR3CaQECbxVydLPgclWgIdO3alZMrA9IgHQxnNBhxiotsUEOHDg1oM4vVQ+fDWIpzDWs38LeMQ1+BBXaH+qOaspZQhwjTbipH7n38AtCnUkp4EQ08NrM5Qji28YbVkG75sEjKTl4TuOSSSzgE/OyzzyaJ9amnnor/5osvvkjGm7welDofkIDEqYAAg1a/+eabn3jiCY6HC2pI9UVABERABERABERABHKMAG68/FjCY1iO9UvdEQERKHYCRNXxOy7Jp9u2bduhQ4c4cQwePPjWW28loG/8+PH85P/hhx+2adOGw6leeeUVDteKsydqK6cISJzK8nQgSxHNxDQEj2nK8kjUvAiIgAiIgAiIgAiIgI0AZxlzuDO5CPfYYw+BEQEREIHcIZDFqDrksIMOOoijrm+88UYLCGeFk+imWbNmyFW5Q0k9iZlApOKUEqJnns3DDjusSZMmDz30UOaiKiECIiACIiACIiACIpA/BEgSf9JJJ0mZyp8ZU09FoFgIoA2R74moupUrV+65555dunRZvHhxPIPffffdN27caFemaHfvvfcmDYuVLzienqiVoiIgccrVdF900UV8d+EwF1elVUgEREAEREAEREAERCAfCHBqIc9++dBT9VEERKCICBBVR74noup4CG3cuDGyVLVq1Uj8hN9KPBTKly+f3BCnV5UsWTKeDqiVIiSghOiuJn379u1sB2wNp5xyiqsKKiQCIiACIiACIiACIpDbBFatWkWICrEqFSpUyO2eqnciIAJFRCDqqDpO+iKblQFK4hqHJ9zRo0cTXdi3b1/nQ9X/+OOP22+/nTN/jU0S+eGRWkQTVkxDjTSsT+KU26XEPYx/Y+/evd1WUDkREAEREAEREAEREIEcJjBt2rTVq1cPGzYsh/uoromACBQjgW3btiX7LnGI9s477xzcd2mXXXY59NBDq1atCtlWrVr1798/JWLChiiJ5PT++++Tm89hGpC6Tj/9dCNOLV++vFu3btb56cU4eQU9ZolTBT29GpwIiIAIiIAIiIAIiIAIiIAIiIAIxEIAyWnGjBnt27d3bg2v0n322YcyGcUpu51OnTpVr15d4lQsM5mFRiIVp5RzKgszqiZFQAREQAREQAREQAREQAREQAREwCWBr7/+esWKFfglbdmyxWWVgMW2bt0a0IKqi4AnAhKnPOFSYREQAREQAREQAREQAREQAREQARGIkMCxxx5bqVKlJUuW0MbChQtPOOEEDuw76qijOEQeb6abb745urZJu16nTp199923adOmppVGjRrRGfv19NNPR9cBWc5xAjvtFJWIFJXdHAeq7omACIiACIiACIiACIiACIiACIhADhLAT+r777/n39mzZ7dt23bRokVWJ0nttN9++0XX5/Xr1xPH9+mnn9IB08qPP/7I3/br119/ja4DspzLBEiQL3EqlydIfRMBERABERABERABERABERABERCBMAk88sgjZ5xxBmfh9enTh9MbSIiOXDV9+vRIT5B/9dVXN//7euihh8xgFi9ebF6xLhJLhTlO2cofAqTJJyt/RP2V51REYGVWBERABERABERABERABERABERABHwSePLJJ0le/txzz911110NGjQoXbp05cqVO3bsyL8+Lbqotvfee5PRnGuPPfYwxa1XzOtcZcuWdWFJRQqQAE5zrMOIBiZxKiKwMisCIiACIiACIiACIiACIiACIiAC/glMmjSJsL6M9TlZb82aNTt27MhYUgVEIAiBn3/+uVy5ckEsONSVOBURWJkVAREQAREQAREQAREQAREQAREQAZ8EyE3erVs358p33nnnAQccQJb0+vXroxoQALh9+3af7amaCGQisG3btooVK2Yq5fN9iVM+wamaCIiACIiACIiACIiACIiACIiACEREIGPi80svvfTyyy+vXbv2fffdN2rUqIYNG06cOHHgwIER9UdmRYC8+Fa8Z+g0JE6FjlQGRUAEREAEREAEREAEREAEREAERCBaAhdeeOHYsWNfeukl/hgwYAC5zCtVqkQadU70C7HhcK2F2DGZip8AKfnJQRZRuxKnIgIrsyIgAiIgAiIgAiIgAiIgAiIgAiIQFYHGjRv369fPsl6mTJnmzZv/+OOPP/zwQ/Amy5cvb4x88803wa3JQmEQILvZvvvuG9FYJE5FBFZmRUAEREAEREAEREAEREAEREAERCAmArg4rVq1qk6dOrvttlvwJmvWrGmMYDO4NVkoDAKffPIJYaQRjUXiVERgZVYEREAEREAEREAEREAEREAEREAEYiJwxx13bN68uXfv3qG0V+PfF6ZGjBjx1ltvWTY3bty4adOmUJqQkbwj8P777x9yyCERdVviVERgZVYEREAEREAEREAEREAEREAEREAE4iCwbNmywYMHN2rUiORTobRXqlSpQYMGYerjjz8mfrBu3bocCEiOdg4HvOmmm0JpQkbyi8Cff/6JOMUyiKjbEqciAiuzIiACIiACIiACIiACIiACIiACIuCZQMmSJT3VWbFiRbt27apUqTJ9+nREJU91HQr36dOHcwBJPvXHH3+89957a9asQaiqXLlyxYoVw2pCdvKIAA50KFOkNouozyWUez8isjIrAiIgAiIgAiIgAiIgAiIgAiIgApESWL58OcoUetbChQvdhFztsssuM2bMaN++vcte/f777+vWrduyZQuyV/Xq1WvVqrXTTml9XDp16kSZCRMmuDSuYnlEYNSoUb/99hsOehH1WZ5TEYGVWREQAREQAREQAREQAREQAREQARGIkMDcuXNbtmy56667Llq0yI0y5aMraFL4y9AKRwES0+egTPkwrip5RGD27NmIj9F1WOJUdGxlWQREQAREQAREQAREQAREQAREQAQiITB16tTTTjvtp59+wg3q0UcfveY/15QpUyJpT0aLmAARnbhN1atXLzoGCuuLjq0si4AIiIAIiIAIiIAIiIAIiIAIiEAkBE488URC+ZJNt2jRYv78+emaJKzv6quvPvrooylAgvPDDz88YOfIFDRnzhyyZWNn2LBhWFZYX0CkOVidLPislvPOOy+6vkmcio6tLIuACIiACIiACIiACIiACIiACIhADhGoU6fOL7/8YjrUtWvXMWPGBOzcjh07OMvPiFNcvXr1Gjp0aECbqp5TBH7++efjjz9+6dKlO++8c3QdkzgVHVtZFgEREAEREAEREAEREAEREAEREAEREIE8JnDnnXeWLl36kksuiXQMEqcixSvjIiACIiACIiACIiACIiACIiACIiACIpCXBL799tvTTz+dQFFOhIx0ABKnIsUr4yIgAiIgAiIgAiIgAiIgAiIgAiIgAiKQlwReeumlcuXKHXfccVH3XuJU1IRlXwREQAREQAREQAREQAREQAREQAREQAREIC2BncRGBERABERABERABERABERABERABERABERABLJFQOJUtsirXREQAREQAREQAREQAREQAREQAREQAREQgb9JnNIiEAEREAEREAEREAEREAEREAEREAEREAERyBoBiVNZQ6+GRUAEREAEREAEREAEREAEREAEREAEREAEJE5pDYiACIiACIiACIiACIiACIiACIiACIiACGSNgMSprKFXwyIgAiIgAiIgAiIgAiIgAiIgAiIgAiIgAhKntAZEQAREQAREQAREQAREQAREQAREQAREQASyRkDiVNbQq2EREAEREAEREAEREAEREAEREAEREAEREAGJU1oDIiACIiACIiACIiACIiACIiACIiACIiACWSMgcSpr6NWwCIiACIiACIiACIiACIiACIiACIiACIiAxCmtAREQAREQAREQAREQAREQAREQAREQAREQgawRkDiVNfRqWAREQAREQAREQAREQAREQAREQAREQAREQOKU1oAIiIAIiIAIiIAIiIAIiIAIiIAIiIAIiEDWCEicyhp6NSwCIiACIiACIiACIiACIiACIiACIiACIiBxSmtABERABERABERABERABERABERABERABEQgawQkTmUNvRoWAREQAREQAREQAREQAREQAREQAREQAREoanHqyy+/nDBhwhFHHFGjRo3hw4drNYiACIiACIiACIiACIiACIiACIiACIiACMRMoEjFqRkzZtSqVWufffbp27fvqlWrNm/e/P3338eMXs2JgAiIgAiIgAiIgAiIgAiIgAiIgAiIgAgUqTj10Ucfbdq0SdMvAiIgAiIgAiIgAiIgAiIgAiIgAiIgAiKQXQJFKk7hMPX7f66qVatmdw7UugiIgAiIgAiIgAiIgAiIgAiIgAiIgAgULYEiFadKlChR8j8Xfxft9GvgIiACIiACIiACIiACIiACIiACIiACIpBdAkUqTmUXuloXAREQAREQAREQAREQAREQAREQAREQAREwBCROaSWIgAiIgAiIgAiIgAiIgAiIgAiIgAiIgAhkjYDEqayhV8MiIAIiIAIiIAIiIAIiIAIiIAIiIAIiIAISp7QGREAEREAEREAEREAEREAEREAEREAEREAEskZA4lTW0KthERABERABERABERABERABERABERABERABiVNaAyIgAiIgAiIgAiIgAiIgAiIgAiIgAiIgAlkjIHEqa+jVsAiIgAiIgAiIgAiIgAiIgAiIgAiIgAiIgMQprQEREAEREAEREAEREIFCIPDVV1+9+eab3333XSEMRmMQAREQAREQgWIiIHGqmGZbYxUBFwS2bdtWv379kiVLPvnkky6Kq4gI5CiB+fPns4wTrvPPPz9Hu6tuiYAIBCDwxx9/jB07tmbNmlWqVGnYsOHuu+/eunXrDRs2BDCpqiIgAiIgAiIgArESKEZxavv27d/arj///BPkP/30k/Xajz/+GOskqLH0BH777bfrrrvusssumzlzZlY4Lfz3lZWms9Vor1691qxZw33x119/ZasPobfLJLKKBgwYgPQWunEZDIVA6Dc7WzrLuGPHjlfarjZt2oTS20iNhI4i0t6Ga7yYxx4uyRy3FvpEjxs37oorrqhTp87dd989ZcqUs846a968ee3atUO08o3il19+GT9+PP/6tpDXFYv5c7OYxx7zohVqZ+BR8FmxYsWcOXNinmg1JwJuCfD8WWzXhRde6Eyndu3axcYkN8fLd8pu3bqZydp5553ZSWPuJ0+2Bx74/9o79/irpvz/f5m+ciuNOzNEueYSIbdQkeQaJSS5xSS5JLcwuUUi9yZ3hlxHkktSEYUQYlxTKIYZYzBfZhi3me/vOd/1+O3HnnP22Wftvde+nH1e+4/P43zOWXut93qt91rrvd7rfVkPkTfjdnNsbuzYsaC9//778/fee+/NkRKHTb/44ovLL7+8YaRdd92Vk4bDylWVEwTSmOw33ngjI/700087oTCzStKAIjPiEzbUzH1PCF1jvZ7GQKPt4hLLj8M222zDCjBv3rzY4EyYMGGVVVb56aefYtfQuC82877ZzH3PmGMFdTjgKeHDUolt6T/+8Y+Mh1vNCQEbBJrRcmqppZYKV04hiNjq9lQuTQSGDBmCfuSQQw555ZVXVl555b59+z733HNpNlhZ91NPPfX+++/36dMny0ZzbItj/JlnnrnvvvsefvjhOZLhtmmswHr16tWiRYvZs2efcMIJTz75ZP/+/ZPcpbslT7UZBNKY7FhOUfNqq63WWCCnAUWjINDMfW+UMXJCZxoDzSK/zz77+Mlba621kPd++ctfxqYZBTdXNbgGx66hQV9s5n2zmfueMbsK6nDA08PHSMUTJ07MeMTVnBCwQsBGg6UyQgAEfvjhh7PPPhuZ8qGHHgoBBLOUzz77jGNhQtDQksDBuGIZ/7IPPvgAI6Y2bdq89tprCWu2fx2/gB133NG+fEOX/PjjjwnVgU8EcWQffPBBwI9hOYV6Cw455ZRT8I1NiMaXX34JI8F1SeqBbdZcc83VV1+d+LimngsuuICuEXjI8JUeDwGHYxcV1ZQm+xlnnMFYn3feeQw3+tZRo0b94Q9/iEqbfXknHJsSFPa9qFuyuptlWvPrdr80BSw39DT6mzaTc/fw3nvv4cTN9B84cGDsLrz99tvUMGPGjNg1WL7ocO11sgoVf98M7GaT9N2SqVIt1uhQpz3jGgKfk046aaeddkqVT1S5EIiHwH/Fe01vNRsC9kb4gwcPRp7DdzIJRKzs2NKfe+65/ko+/fRTopwOHTo0Sc3276IZ4dL1yiuvtH+lcUt+//332223Hb5vb775Jr2Ip5xyaH780Ucf4ci59NJLY7mWBFX0EXjpclDxV0JEktatWy9evDhJzSV71+HYRUUmvcl+3HHHsRahckUCa9WqFZ/hqKlTp0al0OYY74Rj04PCsst1RfbAbpZmzbdEqQTF7Dd0551Nm8nJ4+EZOrH+09PYXSCC1UorrYS3YOwabF50uPY6WYWgOd99M94qVI6+2zBM2mXi4R+DqrzYLO0Z1yisiEsKQhEq+Bhjp1eEQKoISDmVKrwFqvyLL7544403CAYfj6Zf/epXrGLGw26NNdZYdtlln3322eqq/vznP3P8w1AlueVUoOkNDtKZRX/Ann+JJZZgm4mHWPhbmO0sXLjQUj+CeD1//nyUZWlQYuo0x/j777/f/BtDOYVWa8UVV8S0zXjPUdsBBxwQe7A4FVDD6NGjk3eZCOjVlSQ37EpOWHgNX331FdZe5ES3bCgJk7gdO0uC/cVSmuzGBtCcLbHuufnmm42uKpLRnOUx3hXHpgSFzaDYiOzV3SzTmm+DUmCZqLOV/RF/jdjLY2w6vRctN/TkDQXWkCqTI+dgMjlgwAD0SmipRowYEa8XrBK/+MUvBg0aFP4668M777yD3XG8Vtyuva5WIfqS174ZbxWC4BL0PR4LeW8ZqZInib15bPzjEZ89m2Uw4xqIFTfeeGOcCeKNnd4SAukhsARVW7n/qVBjIkAe5TFjxsyZM+fdd99lrNG24Lf161//+tBDD+WzZZ8Q7y655BI87Ehbw1uLFi0i49Xnn3/OBUvHjh39lZBZ76KLLsKNOTxOE1G3OTGaFzfffPO99tqrFiWXX345Oy7KDnReIdQiIF522WUeM3fu3Jm415a9q1Vs7733RqP3/PPPJ6yn4vUXXngBPAnR+vXXX/MTIQm32mqr888/f4cddqhuiOE78cQTeYXDD7+2b98eYC+++GK3ITCmTZtGSiMQxgvd0PDHP/4RGYVoskTruPrqq4ncEQ4CLNGlSxdGiqoYUApfeOGFI0eOxJ3qlltusec00wonN9KB48X50ksv4RVfq2konDlzpvcr/Ik9VGDhuXPnEmoK07Bu3bqFdwTNmj+uGf6JLVu2dMsA4bXhTwEzwHXG2ovC6PuA8dRTT8U/MfDdhEziduyqKSzUZIc5ObsivsNdlsOKWdANN9yAXp4hYE1gJk6fPh1vX//rlhzrHApocMWx6Ep23nlnpjBxUlFSs9SjXPYbodSamHmt+Q77bskJ1cVizFYU7sTY5rKB2b3ccsuxxrJzbb311rFpiPGi/YYeo/LiMDlHdHz67rvvvrvuuos4g1H7QjYrRufxxx/v2bNn9bsMHxa4hDhgGzJbOXbHhGtE3LIPceV27bVchYq8b8ZehUrQ96j86ZVn0eYmlSAMr776qmHFJZdcEhn49NNPN5lt7J/Y+CfZ97MUzzKYcZasaL9OpooPIi52BjRhzyQqKQSyQCA9vZdqzh0BjhbGmYUHD7UVVljBY6ljjz3Wkjx7I3yuQ1G19O7du27NeGzhoIcqhAf1U63yKLCMXqPCLau6PGLonnvuaSrkvhQ9RV0awgtwn4Oyhv0jYT3+15Eh0Ct52hYECP9nfqpo65lnnsEWyQwZpmpeYfro1vBnypQpu/zns8kmm9AoB3i+trEdc2ueTW1o37DRCwcfNSjnATPoPFhw1CqPNpbucJdedzR/+9vfmtrQZPGKveFS3ZrrFoA9UAEvs8wyZsThfC/DIP9y4AmMl5ScSdyOXXU3CzXZjz76aMD0ApDVHRTL4DiWHOscCuh3wrGWIWaqu5njmu+q73V5ILBAjNmK6zRLkJndLP7e7GZtDw/jGI/CWm/Zb+jx2i0Uk7/++uugfcQRR8ToC1pX9t9AIxRurZA3PGmKYt51EcNqLgJtHrdrr+UqVNh9M/YqBNSN3ncbbgksg0/W9ttv77Ei+m7/XSDxFu1rToJ/7H2fF7MUzzKYcZasaLlOpo0Pwj8M86c//cmeT1RSCGSAgNz6MgA5nyY8kx+2rscee+ybb76BDowsunfvbnYy+9grlkb4V1xxBfqvTz75pG6HWZchqW4xgkwZUusqp/xVoR1Lrpx64IEHaJdrlrpE2he48847TXc6dOiAyQ/6L1yNGCaMvJBouaf1V4UDI1G3KIyPJGU4C1EecyRTA6Fe7duNUTKGW58r82w6juPVaaedVpdshGyuB+sWo4CJiWOjnPJqI+4+r2SpnML6D1UgjWJJx3U9Fjp8w9ATtNIMOregFZ11xSSuxi5wLPKa7Kxa11xzjT/iDOpLMvehC7B0p7I8xttzbKpQJOFYG5E9sJsFWfOT9N1mAakuE2O2cg1jJjLGsDicUidGfBgy8w0XIal6bVfQb7mhx0MmRya/5557nnjiCT/Zt912G/CSyCVGXzbbbDOyKAS+iKEx1XLhxx5kVFHosK6//nrWFr7fdttt7Ztztfbar0KF3Tdjr0Il6Ls9w1SUxFYdxSisiB4Ke0wERVYSbDM32GADs9rY38TExj/Jvp+9eJbqjLNnRct1Mm182AughIgHsTlQLwqBNBCQcioNVItSJx4EOMRVXP1x6EXfwaZFmKHYhOLTh8sV9uF+cxUc0yzXOMt1Gedws79mr5zC2JVzbGx8ql/k2nzdddelL127djWKQv9TrdG76aabKIy1FPEs/CXxLeJ7lIDYbzskr6KqGMqpihrgOpynsOthECMFlJ00adKWW25pExzNXsju27dv8ZVTAMiF/HXXXVetOkHfCv2YBFYES0qJSWKPXRIh1flkHzduHKB16tSJD48++ijeqW3btuUb9Cn2E8fmGG/PsamuewkVNHVF9sBuFmTNT9h3e37wl4w0W5nUhv1wqPdXggO1cUbON/BH4IYeD5a8mByE0fRhBcBqj1MqWxhXOGj9uPiJEfEXMYmqWI0DQcCaeLfddsPdvuLXSy+91EgsIWa84ajGXnvtV6Ei75vxVqFy9D3edOMtvLBxx6t43SyJPNzQ2NccD/8k+z7v5iueuZ1x9qxouU5mgA8xCuLZltrzlUoKgagISDkVFbEylCd+CpsWS5JlZ3BxQhtCLB7KE2eK0CRm2+NBgMOcx7Ier1j4ukwIKhzKiEXq+SHinMhn/+OZ/m+/AAAgAElEQVSF7q5u2onlFPZlRJqI2q+Q8uaozFPXW81UYoJ57bPPPhV1EnjVeBD85je/CWkOdZ6BC6vdimLojMxPFZfM/mLEnaGJEJAr6pw8eTIVGmq5OyIeLQ6eHpOsvPLKxlLA7RMuZNNxYj2us846KBmNRyRcV8FF2CjVIimX424tYkxOdMYdFae/TEImMVWlPXY5TnaUd94FMgDCCbVOm4HIc0BFARH4EzYvMZg5VSiScGwtE1Gs/V0ZDxa27zHGMfyVwNlq1P2B67+JTQ5zhueVS7ik+2l2vqH7K89xoNllMJL1h3yip0ZuifoQyo1BwXA10otYUZlRnjFjhs2Laa+9gTQUdt/MYBUqbN9tuCVSGdRMhhVxmrN5MePNLi/xLJcZF4h/+DqZJT6ENCXKig2TqIwQyAyBJb0DpD40DwLY/dJZVAaWXeaEZrYuVkxUNkZuMw+cai6EHT5IeAjiGBOZKOA82C/w2f9w3eGwxeqqOOmxXjts4qmnnqI2AlVgylG3Wk4pxpDEi1HivYLOzjh/Ya0dUg81GLi8wPNeYe8nrppr1WDUTOZGy+bBFoy2GDI0UyYoLFEhvRcxDfDHO7OpMHkZCMDojHyIXGKbngJFBReZ6KEpPZyUvNvLJE1AJIY/1ICbCdb7/nFMyCSmqnzHLtXJTqYt6octMfOEE1C1GAdPy4cAVQcffHB1YeYyEawxNrGsx7JYqlCE0EAY3Q033JCkGdVlDjroIOKgWdKfpFheffdoRtvoZEBrzVazXKMur17/saXiJ5YpnhAMEy7p/poz3tD9Tac60OwyaJ+JzYeEQ8oR3HLRLgVmGqnLqyzdxAVjya1b0l/ASFY8lsJVvmtvYNfy2jeLsArl1XdvIFzJDFRIEgBTLTdwNjyc8WaXF9QFnHG5T0POFNiWVp8UbNhGZYRASghIOZUSsMWtFvWByUdGerVIVBIyifxNiMhDhgxBdCNeEjIuFxEhufYi1e8VJnkE9kE8t99+u/kSgs033hM1C0kkSpBukWvdKqfef/99aCAaBX/BEFGMFGAkEjIRASrII9gWZfjS5BTj0EJGJ8Jg4dXlfcmRO1KnMijM4R/NFJfGxFOHW+gFlj4oUOhpBq1XNAGvetxiEgj6vzE/4XWYHmHEdCOpZZL60akRKZmQZJzoMJvCH81fm1smyWvsMpjsZDlEl4QOPVLWSBYfso7iFl09ghx30RISiTzJ4Fa/mwEU1Y2yHaAcYYL4o+p6xYitQ9QeZrHbnhak734yUMSTPyRJN8NnK6uNt3TzgaByGHF8+OGH/i8zXtIz29D9qGbD5IRrxDfcb70bdWSRcHASJLx0pBcxRqY8lzFmx7F88lp7A8nLZd8syCqUS9/9o5BcZqA2VhWspYi7ymeEB0SyunyY/WaXL9SFmnG5T0OUU1z2c5Vbl09UQAhkh0BmNlpqqCAIkEYa9sKm1D6njAnaykP4BqTq5B2xdLc2BiM8GcecMrHkMSVI3lOvBhNY5I477iADoPnsPeSrroiGTjAv8ytHGmrwEgOZpE4jR47kJ1y6Qsjz/AvQHlYUI2qmqdzJUJrKvWs6qt1vv/2qg2o5RNKryj52hsnUnnFA9LvvvpszUryOH3bYYUQo8zL3oSOo9iNLziTZjF3BJ3vgAGFhRwauEMdeTIr69OkTdXBThSKeWx9O2ejsaq11RmCN58NYAU4B++6nEPfPcEfpkLG2ma0kAAVJTPmoxzNSQ4HCv2i1MNLhV1z/slnSnW/ofrILPtCWc5a5z9WCZWFTDN0iYQEZx1ph1Ktr075pMMlsFSqxzMBNG4Z+iBzmDob968orr6yIA1DAzQ6SshTPcplxgbBbrpMZ4GOCeDzyyCORljsVFgKpIiDLKb+WoPyfZ82ahcsV/SRFuj8ai2XPieGC0GZZuHGLGXdCh55omJgZDzKMzkxEc/RNhCbhUotjCT5HPXr04DLHQ8xzMEHC4EtP0zR37lz+NRfCTpxQnI8RN8aYg5mkRSEP5zEsqrxsjM7JaPQKETQJwMF9Mh2BQ9Zee21EmYpOOWcSy7GDDEz5iMCagUFNXuNI9HQm7FVXXeURQE56fC68f0m4acxeGvqhj5jj9e/f3zObYqViZL1OsUdgsleCnqY6TPaz1aznnkc2Wj8MkEGYoIq5LOmWG3rp53s1eyADRBIAENPRSTF90E9h5hyV3yzX3lLum1qFonJLYHls81lPTIhACqyxxhqIYSbaZvjTJJtdBQjNPOMqoMByim/84k09ltHvQiB1BKScSh3i4jTAcRcPDlzD8Lo655xzohK29957B0ZgiVpP8csb5VSbNm1ckYolkamKKJUYFmEPRfQuTKiwhMJjsWXLlnjgk+7aa86LWGE2DMw0+MsBxnwwX1pGtXDVBct6br31VroTUpjQPyjmkPu55UN+4vT75JNPWlbePMUIRY8ZBe6QKA5IOHXjjTfiZIoplh8B50xSd+xoHUG2ffv2pPvcdNNN8XlB2UpexZKNCx61ZDiiaxtttJHpGmdCIivPnDnT6+mqq67KMaDRO45nIsoRc11hHljOpMswD4pR2KwEPU11pOxnq1m6SdlhTGyw5WR2w28EVcx+SbfZ0JthvgfyBjJAJAGA7dv49IEY1itR+a3u2lvifVOrUFRuCSxPeI3p06fjq0veT3Zn7hjItEDyIi8yeuBbzbPZVXS/mWdcBRRSTjmZgKrELQJJlVNkoMT9RE/uCLDUhnMGt9/dunXD8pwILLjL+SMrW7KU88Dnlu1mX6yucgoxFN+6kKfiFoLV3wBOIACUDuae3Dwcek22Js9Li89mt+AxIXKxRScMFknHTXxW86U/J1H2ENVqMZxJ8BIiHjBekyeddBKqFrKEYDyFtu6DDz4oThdiU4IK49xzz/W44t577+VO2M8kpBm2rBxDd06wxx57LFbozFkMW1Ai4BO0YMECrwbnTFJ3gh933HEnn3xyu3btUJahWkVfRvhhYwlYpgf+xCqNrc3rFII+VmzG+8A8qJtjLKFFQwl7fmw2PUaCPKw4/d0sTU+rka9Yw1lUuSrwz1b7m2T72WqWbnS7TGruiojnxb8wmwkmmPGSrvkeMh8jKafOP//80aNHU9tZZ51lwttHfZp532zmVcihzMAtAos57EfAKUyokBwwyeTuE1krhBubZ7OrAKGZZ1wFFNy0YZhvv9+Z16MegqIuiSrf5AgkVU5de+21hMvRkzsCWFiEsDKqDTRT6KfwCON2ZZ111mksvjeGypk9JrlbSKOcKwjsGvIYhyzvQUowmK+11lrVUZmJPMJP6B1MEHQeTi+8wgcTRp2HcwsBv8xno8rxHylDkDHHnoI8JAUbNmzYK6+8cvHFF2OggUYVaZ5zvr3WJklH0uYihs/PEjhjkgCl4psY9HOBb/CBqUx0AOdMYknVMcccg6cbAe/5gFMqXYM2rmrdAuu2Nsuu+Ys9/fTTaPDNrDQPKpvVVlsN50rvG5xwM1AlpAoFKwP+aBXpLOhp586dvW5i0cPFewY9rR6mVPtOcxVrOJOLxdY/WyvWcEtGqjVbDYbeeo55qbcLe6r5oi3pTTLfA0cWGcCSA0eNGnXeeedRCXcJXCNZ8kmkYiXeN5t8FUpJZoC7OBFwm8UH7DpDhMAm2ewiTTcK5zvjAqm1XI6i9pTyHEnwADVxD+2fqIcg+5pVUgj8G4FUI1qp8iIgwCHZyMHIzS+88EIMkkz8VKx+YrybJBYgG6eZpVgV2TeNyUlCUo3/1MKFC+0brVvSBDUnsnV1SZOFDUcP/08m3Q9JCSvKcyo2cQTGjRsX0ijqSAPd9ddfX1GMYE/mpzQCopuQB/YPCb+hBI2V/SteSfvgpl27dqUVYhLbtxIvvLS//iQB0avpNNZ2gwcPdsgkpiovRGjUseNdkwmIO7cQYC0Df+Y12asp55BJkiP/90cddRQ+UP5vdtttN8Jg27OTKZkqFFE5FktMxg79lNeLjz76iG/8yRlQ1vANKpWoPa0uX6i+V5OXJCC6zWz19O8mPav/MXm10H5yUg3B2eGSHntDz32+R2Xy2HwLP2CEUvd1LlfMZoouIHz4AquKvfaWZt/MeBVqKpnh8ssvN8yJfXotTs59s4OwLMWzXGZcIPiWG2I2+HAXzr1j3eVOBYRAZghE05WalU5PAyHATfiOO+5IwAJMN5966qltt922gYj3TBWMKJbZY4JNGLHJ1WN899AHzZ49218nl1omhTk5+/zfmxMLDpgVLm+klOJSF1UFZ+MQ2gjnZHRYqCP9xT777LOBAwe66lTyejgJU0mFJ1HyaitqMIyErbuxiSvmw9kGvzkT877igWdMVBq/OQ//JmSShDiwSzExOehGihxcq9G8Jns1PUQ1rujRtGnTiOLhlSRmHPGnvByaCWGsfj0bKOgmTft7yurEJSoRCT2SyC7KHTKOnM77WHw2CO9y1Nm6zz77YDZLnYQz89eMT5+5C0HvHH53nfuSXtb5HjjQyADhAgAMcPTRR2MCbMZuwoQJUU0Pksyp0uybxVyFGJqGkBmgE+8qNKTVyUmYrY899hgFWDdQfNdittw3u0aBOpsZFzhMabMixtGsZibPkh4hUBAEpJwqyECkQgZnKrz5EH+J0IkGhHMI1kD+h8gXqTTsqFKkeSPQE9CBbFlerehrULc5aiSgGrNM+9PnJW+LO2e0hNRDUHkvsjKeI0OHDjX6I2OD7T3onkjthF8YRhwMGd+jxho/frxxHMCUo3Xr1iFUcRNiDpmcfB544AE+0NbUqVOhIWNNXwiRWNyQQxofxgrfouRoV9RgkEenMGLECE8/hTxHRAbnbcWukJHFzA1SkTUxrzA+ngw6Zvl9+/blM65AGOw4ZJLYpJoXyVQNpJzQEtZjXs9rslcTT/AOv4oQ2yLWSX9yTCKIY+d4wAEHOOl4dSXZQGEC6vtD3REljSONOS7yYLd/zz33cPBOqZuB1WbT9+Q9ijpbuSpgqafdW265BS8wswqxxbC8kw2D+GUopsOpyn1JL+t8D4QdGSBEAGAzxajZBPrE9oRtBZmkQrgiSmByNgusoUz7ZjFXIWBvCJnhyy+/JDwC4jFXm7j8e5sUVpYIkCbVDDa/IXyY+2bXEFBnNuMCRyptVjQxdk0mWT1CoCgIZGajpYYyRgA7ker08xVst/vuu9tQFdsLoFbl9hatGAoZmhHNIQOFi7lGIJZ2rcqTu/UZBwq87WzAsS/DiHhxRoigTzxp77ICu6rqejBk8OJMkTjMJHji6dKlC0JJ3XYJBuQNN/WQFop/ud2lX0bll69bH8oX5HvImDhxYt2+BBawN9HnnGC6zAPmG2+8MaHlcbPnX7ScgZUn9x+J6taH8xQj6w0ZufDgdk8FiUmL0R1UPAmZhNriGboTSJUTNZZc6E/Dh6/gk72a+JtuuolRuPnmm+kalqcdOnRgtqJCffvtt1FoGl8JstrFYNpUoYjKseg9mRQ77LADjId4ipqYFQZ+O+200+gmXzJNeMJ9Nu1BKFTfq8mO6tYXY7aS19K4xfGAM7Pb2NqADHPQBklXS3qMDb0g8z0qk9ugGlgGnTtjVOt1m7TFc+bMqdt6jLW3ZPtmxqtQyWQG0CM75DLLLOOJDWxVCJmeER826cT0DOHDImx2WYpnucy4QPztN8S08WGlgn/87vx1Fy4VEAJpI6CYU2kjnFv9Fe5jgdpQS+WUSameMJCTHwj7dZm3SA3m6WhML9Dxk4KkFrLJlVPUjAqDQ5rzweOSHLnWL0xgcU0q5VoNsWF07NjREzXA4fDDD+fa1oYwBBcO0pjbGNCohFDH5ArkXVLm8Q2h8W3qsSmD3sS0Yhm3CAnbuCWSWcam/sAy9oImr6Nw7N69u38WoO5BdKu1JSc/BZGaEBeeSL0DFswTSP/sz+cIzT179sTIKw0moc6oY8crqGwwwyTGMzkW6naw+JO9ogvMLxMUnHnKrOnTpw8KGoJVm7ihmMBceumldXudUB6Nse7F4FgMoxgd+sgqgXUtoe5ZMegmilG6j2YKk7F4Pa1+K1U2iNH3CgrZZV599dVInY0xWzGYYufyO1DgNQnslu26WtKjbujFme/JB9oSas78TIFaB/uKrSRQuLJRTkVde0u5b2a5CpVPZoCf58+fT8gzNM7+ZDuYROFzSr7gcIYvyGaXmXiWy4xLLgykig97H1KN5bHCcv1UMSGQEIEleD9wZ9WXQiA9BLC5IG83Aaotm0CmZwMmXhJrKKdEbodC4jtgj0MZ4oVbVh5YjBiNmBUQSCJJJbXeRcREc4FLFIcEm8yJ2DXg1YjCAnsfk8XP/mHLISI+Kcw5bxfEq5zu45ZIOJshQ4Z4lnH2PfJKInvBRX6/pLqVYPcOknARYIJ8CCA41mHahq7N+B1k/LAs4yTy3nvvkTauffv2FbqqQGKSMEmk3uHyRlx/+HDWrFlYFdV9t/iTvboLmA4RC5xZg9eVCdjBEkR/OayyMoR71IYAkioU8TgWdyQGlAUT3wGzqKKQoqckZPCH2ao7ynULFLDvdWm2LBB1tlKe9Z/tjPXcs4e1bItiGS/phZrv8ZjcHluvJPkZCInACszyG+P1NF4p8b6Z2SpUYpkBlkMVhYYdFTZMy9WRZRC0gmx20F808czVjAtcDaJuiOnhw30J8Yj9gVPSWL5UpxCIhkBC5ZZeFwIxEIh0ix61fieWUyeccAKntahNq3xdBPBtITYwi9Qpp5xSt3B4gUi3oFHbyuyKPiph+ZbHixCzGnQZ+LhZUlL8yW7ZkeTFUoWi4BzbzH1Pzjl51VC0+Z4Zk5vIa/ZGbWkPkPZNJwhLZnACo00ljb7gO5xxyS2nbAD3l4m0TmIHSpakqE2ovBBIFQEFRA/W5XF1jBfb8OHDSWQQTdun0qVAYLvttsOXgf2pFL0pSiew7iGk9yOPPELuSKyBiPztPW5zIxalw+WigyhaKBaxHsLmkdgN3thhBFeujqo3QkAI/DuZRtPOd0IH4CeF/VQR+ED7ZhFGQTQ0DwLNM+MwCSe0RUWu8OYZaPW0sAjIrS9gaLBjx5vDqKX4MGXKFC9wT+4DiacJtq/rrbdecUiKgQkWrWeccYYJ7NK2bVtcSGJU4n8FDS55c7Fn5ksi+1JzQrc+Lk5RoDD0eDAlpE2vewhgPFwrWgfqYGItRcIKE31SX1111VXmrR49epig70meBQsW4AVJDTh0YNuVl1tfki6k9y4ebQxTdf34v3gJKKt/Lf5kTw+xipqdQ0H9jcKxzdz3zBjMbUMFme95MTneLviMm1y6+T7aN13hL5nBFZJ162noBd/tjAvEqiD4kIx4l112IaYV5vB1x1QFhEB2CKRql9WIlb/55ptcmrVp04aA4vh2MRKkDEe7nKQv5LTC/bv6IaBMrWpJY0y+GP+vHMLbtWtnOIOAL2SeDk/DkYTgtN9FuYZLvHmGDRuWvDnyWZDFz6tz5MiRyevcfvvtMZ1LXo9qSAmB8ePHeyPOB/bX5A1dcsklXp0EHSOAffI6m7yGhpjs2YyRcyggu1E4tpn7ng13FaSV0gz0tGnTELRcZassyOhARjPvm83c94w5sDTrQEq4FQSfs88+m1vhlPqoaoVAbARkOfUfesBFixaRzR0DHOQSY86DGQ6ajiOPPBIbDX8ujEjqQzK/oGzyv0LwualTpx544IG/+93vAqtiySAzFH/Nr6iirr/+elyi+vXrR9RD8pu88sorfMleG4kSFbZHYNSoUffdd98bb7xh/4pKCgEhIASEgBAQAo2OAIGiCVd/++23k6+z0fsi+oWAEBAC1QjgZUJ6osGDBwscIVAoBIqonPrxxx/PP/98bBZIoL7vvvtmiRfhEm+99dbp06f7U7Rcd911Z555JuokHNCcEEO2HXLYI/qgYCIje3WdeBSSBovENF42sXnz5mF+iZ25KYyh0BprrEEuCVyjY6vMnPSlxJWglkJBySgk9zosMUrqmhAQAkJACAiB8iGAWoqL30mTJpWva+qREBACTY4AGcM56hLvNUbS2CaHTt1PG4HCKaewWjr00EPvvfdeek66B1LFE3w3bRT89eMrRzqqihbRFi2//PKuyBg6dOgNN9xAOINOnToF1okH3+LFi71gOoFl9ttvv4cffhib80D1litSm7wewqKTs+/yyy9vchzUfSEgBISAEBACTYUAyQoRtHR4a6pBV2eFQJMgMGbMGKKIEq63SfqrbjYQAu6z9eF0hpERQbvjoTBkyBA0U4cccghWRSuvvHLfvn2fe+65eFXFe6taM0U9DjVTBFrGQe+www6rpZkivtW1115LJKYQ+rnNw5aKbDLSTMUbZcu3jj32WLKSMSKW5VVMCAgBISAEhIAQKAECu+++O4FBiaJQgr6oC0JACAgBPwLkWeasLUyEQAERcGY59cEHH+CL9/zzz6N8QXVCV4kpTqimU089ld3dsucjRowgvOvxxx+PdgZvNSJAIRyg5yKhb8eOHS0rqVVs7NixOAyaX3HU2muvvWqVJFvfk08+idUMWajCGyVoul93Rnqvukn08O9lRZg/fz7x8AIrRxuCJpu/IU1fccUVxOoGK3LeJYRFr4cg8O2338K9jEUItwhAISAEhIAQEAJCoHwIEOph8uTJL730Uvm6ph4JASHQtAhg30CEZfK/t2rVqmlBUMcLi4AD5RSqqEsvvRTNFKGU6CdKJYyP8IMzfSb1FRor/taFgCBTG264IZZT5513nleYmbPHHnswhVBX1a0hvACZOzfZZBNCNVGMyOIokmqVJwI6cdAHDBgwYcKE8DoJlknMbMpAPCmH6yaex2eQVIDdu3cnGnqtmkntd9ttt22xxRa1CtAQuT/pC0q0Fi1aJIRFr4cjgE6TyF9kThRQQkAICAEhIASEQPMgYPImE3Zq6aWXbp5eq6dCQAiUG4EHHnjgtdde46hb7m6qdw2KgAPlFFGi0LbgubrVVltxy7T99tvjBIfeBO88stSBy/77728ZUTIwtBPBvwk+RU7fhBCjnLKMYGVS49kopzySCJuNOqmucgqTKGxwcPQ9/fTTA7tDLHa0Ifyt1dmXX34ZzRqqbiy21l577YSY6HUhIASEgBAQAkJACAgBISAEhIAQEAJCQAjki4CDmFNLLrkkuidS2hHhm/x6rVu35ht84ojn3bt3b7qH75tx9Kv7VId2+uKLL958803iT3322Wd1X3dVIHbArLoE4C1IGeyeapW87LLLaumteAWVH36OqOqmTZsmzVRdtFVACAgBISAEhIAQEAJCQAgIASEgBISAECg+Ag6UU3QSV7XBgwdXGzeRpZJfySjnBXsKRwSrKyJVzZkzh2KYYqHEISb6Nttss+22266++uqjRo1KD1Bsmjp06LDuuuvSECEGaAh/PYjxP1tvvXVCAhYsWEANBDIPrOfVV19FGYdhVOCvKKSwUFt22WVR9kFqQkr0uhAQAkJACAgBISAEhIAQEAJCQAgIASEgBIqAgBvlVGBPSNv36KOP8tNmm22GS51Nb1HNfPXVV/ydMmUKRlhoYby3sL1q27atTSXxyhA06p133lm8eDFRrkx2NhRqEON/6FG8yr23yEmMCo8YRoH1YDZ12mmnBf50991377PPPoSs6tWrF/G5z/r/D7HVE5Kk14WAEBACQkAICAEhIASEgBAQAkJACAgBIZAjAg5iTlVTj3IH7RKGTgRIQhczY8aMumnvTCUbbLDBwoUL+/Xrh+0SoayO/b9no402QinzzDPP7LTTTphoxQYrPOYU0dy//PJLU/mee+75+uuvH3DAAddcc42/OaKPr7baaoEEWMacwhfvhx9++PTTT6srQS/Wo0cPFGSBMc67du2KKVn1WwA7c+bM2JjoRSEgBISAEBACQkAICAEhIASEgBAQAkJACOSLgGPl1MCBA5999lmULyZzH4n2sAbadNNNLTtplFMUJvjUxIkTMZ6yfNGmmH1AdBwJUaulERA9hM6TTjoJL8gTTzzRpi8qIwSEgBAQAkJACAgBISAEhIAQEAJCQAgIgXIg4NitD/umRYsWGc0UYdExFCJ6dwykbrrpJhvNFC54b7311vfffx+jiaK9suuuu5KxuGhUiR4hIASEgBAQAkJACAgBISAEhIAQEAJCQAikioBj5dT999//4IMP3nDDDf3791966aVvvPHGLbbYgnhJkfqw9957H3zwweGvXH311dgZEbwcs6zllltuyJAh3377baRWilZ43333pSNFo0r0CAEhIASEgBAQAkJACAgBISAEhIAQEAJCIFUEHCunyGfXu3dvAkURtPuTTz4h+9533303aNAgk6XO8qkb+Py44447+eST27Vrh/Jr7Nix6L+uu+66U0891bJ+FRMCQkAICAEhIASEgBAQAkJACAgBISAEhIAQKAgCjpVT/l61adNm0qRJfIOX38MPP+yww8ccc8xVV11FnHU+DB8+nChXtHXnnXeS0c9hK25rc0iYqhICQkAICAEhIASEgBAQAkJACAgBISAEhEBpEEhROQVGuN21atWKD++//75DyDp16kT4cK9C/Ad33nnnv/3tb19//bWTVgjHTj1e8j4ndaoSISAEhIAQEAJCQAgIASEgBISAEBACQkAICIFqBBwop/75z3/iZzd37tzq2mfPno3OiO+33HLL9NDHxGnevHnrr7/+Cius4KQV4rhTzxtvvPHTTz85qVCVCAEhIASEgBAQAkJACAgBISAEhIAQEAJCQAgEIuBAOXXRRRddf/31O+6441lnnfX73/8eXRUt/etf/yI4et++ffncsmXL3XbbLb0BuPLKKz/++GOHqe7oC9RS54gRIzz9FDkBn3vuufR6oZqFgBAQAkJACAgBISAEhIAQEAJCQAgIASHQhAg4UE4NGDCgS5cuKHFGjx5NbHLMl8ig9/Of/7xfv35/+ctfllhiidtvv53g5SmB+8ILL6BCwjKL4FOumuzcyggAACAASURBVDj88MPXWmstaiPa+qqrrtqhQ4fNN998xRVXpJsffvihq1ZUjxAQAkJACAgBISAEhIAQEAJCQAgIASEgBISAA+UUiqdZs2ZhvkTgJyJMffPNN2+99ZYJ/9SzZ0+ilR900EGWQP/sZz+zLGmKvfzyy3vssQf6o8mTJ7do0SLSuyGFMfWaM2dO9+7dKfPXv/71nXfewcWPsO7kIvz8889dtaJ6hIAQEAJCQAgIASEgBISAEBACQkAICAEhIASWcJuTjtoWLlz43nvvrbnmmu3btzfR0FN6iHKFZgp9FqoxjJvqtrLUUks99NBDvXr1qlvSK4Aq6vXXX0ftRUfWWWcdzMFqvYs/I1ZjWIqtvPLK9vWrpBAQAkJACAgBISAEhIAQEAJCQAgIASEgBJocAcfKqczQnDZtWp8+fdq0aTNjxoyNN97Ypt0Yyimbak0ZKafssVJJISAEhIAQEAJCQAgIASEgBISAEBACQkAIeAg0pHLq7rvvPuKII3788cdBgwatttpqBF83/dloo40GDhxYa3SlnBLfCwEhIASEgBAQAkJACAgBISAEhIAQEAJCoGgINKRyqmvXrrjyVUPZrVu3mTNnhiinzjjjjM6dO1Ogbdu2xDhPPhgLFix49913qQdPxlNOOUVufckhVQ1CQAgIASEgBISAEBACQkAICAEhIASEQFMh0JDKqXgjtP7663/33Xfm3QMPPPCKK66IV4//rTFjxowbN858Q15CAlThaZi8WtUgBISAEBACQkAICAEhIASEgBAQAkJACAiBJkGgiZRTTTKi6qYQEAJCQAgIASEgBISAEBACQkAICAEhIAQaCIElG4hWkSoEhIAQEAJCQAgIASEgBISAEBACQkAICAEhUDIEpJwq2YCqO0JACAgBISAEhIAQEAJCQAgIASEgBISAEGgkBKScaqTREq1CQAgIASEgBISAEBACQkAICAEhIASEgBAoGQJSTpVsQNUdISAEhIAQEAJCQAgIASEgBISAEBACQkAINBICUk410miJViEgBISAEBACQkAICAEhIASEgBAQAkJACJQMASmnSjag6o4QEAJCQAgIASEgBISAEBACQkAICAEhIAQaCQEppxpptESrEBACQkAICAEhIASEgBAQAkJACAgBISAESoaAlFMlG1B1RwgIASEgBISAEBACQkAICAEhIASEgBAQAo2EgJRTjTRaolUICAEhIASEgBAQAkJACAgBISAEhIAQEAIlQ0DKqZINqLojBISAEBACQkAICAEhIASEgBAQAkJACAiBRkJAyqlGGi3RKgSEgBAQAkJACAgBISAEhIAQEAJCQAgIgZIhIOVUyQZU3RECQkAICAEhIASEgBAQAkJACAgBISAEhEAjISDlVCONlmgVAkJACAgBISAEhIAQEAJCQAgIASEgBIRAyRCQciqHAf3zn//81ltvff/99zm0XeAmBUuBB6eJSPvpp5+YnosWLeJDE3VbXRUCzYEA8/rNN9/89NNPm6O76mVxEfjLX/7y+9///n/+53+KS6IoEwJCQAgIASGQLQJSTmWK99VXX92+ffvVV1990003XW655YYMGfLtt99mSoGLxmbNmnX88ccPHz7873//u4v6/ss5LN999921117LXyfklaySH3/88ZxzzmEEH3744ZJ1LVJ3fvjhh/79+/tfeffdd/fcc89WrVoxPdu1a8c8HTt2bEWdTzzxxPjx4yM1ZF84paGB4C+++MKejBKXTAlhgxjrIZzzs5/97He/+10SDLV8GfScD9bixYuZ4CussMJmm222xhprbLDBBk8++WSSkSrau8635qJ1sEHpueeee+6//36P+H/+859XXXXV2muvveqqq26xxRY///nPe/TosWDBgoreHXnkkV999VVKXRarGGArhoZvunbtyhpe8XBZ5Q1EqjIAraQxNC+//PJjjz1mz0uSGeyxUkkhIATcI/C/erJCYPDgwYzfbrvtduONN3Lo3Wqrrfj3uOOOy6p9N+28+OKLyy+/vGHEXXfdlXNUwnrTgGXChAmrrLIKN+QJaSvf64jFBx98sBm+//7v/0ZeKV8fLXuESvSEE07wCqMmRhvVunXrM888k4PE+eef37ZtW1C65ZZb/BV+880366233ueff27Zin2x9IamU6dOY8aMsaekrCXTQ9ggduCBB5qZde+99ybBUMsX6DkfrLfffhstQJs2bUaMGHH33Xdz8kcNzRXR+++/n2SwivOu8625OF1raErYWdZdd90//vGPXi+uuOIKVonu3bujArjjjjsOOugg/qVMhcRy2WWXnX322Wn0XaxiUK0eGr7kggGl4Rn/+WDj5g1EejIATaQ0NNxEsvr94x//sGQnyQyWQKmYEBACaSDwX2lUqjoDEXjllVe4LvN+Yp9AUEY+/te//tUoiOENseKKK0L27NmzOdgjUR1wwAEJdUBpwLLTTjsde+yxjYJqlnT+6le/YtQOOeQQYMd2YNlll3322WezJKAgbf3tb3+j+xXn0rlz5/7hD3/wKJwyZQpY7bvvvhU0jxo16pRTTnHekfSGBjUcCrUGWmecY2sqTA9hKjdGdvvvv39y5ZSWrzQGC23XBRdc4J/yo0ePZrBQAaTEb1lWm8bWnCX9JW6LiwE0of4OYhKIssD/zTbbbAMrzps3z/8lm9Qvf/nLP/3pT27BEat4eFYPDT+tueaaGE+FY56SDJDe0MBy3Ndy7WHJS5IZLIFSMSEgBNJAQMqpNFC1rZNzLxIJEQdsX/jf/8UXics0/AEfeugh+7eclPzggw/YtrEuIUqCqRBZH/oRvNyee2PA4u8gN+RQNWPGDCe9LlMl2ASBDA59ZrwYUHQWqBpfe+21gnfz6aefhudRCSGvOyEV1sXOJbyq119/HbiGDh1aUeyvf/0rN6t+NVZyklIdms8++6xFixZ4MCWnM2ENOS5fqSL81FNPgTAL1+TJkxMqp7R8wWOpDpbHw+gCGKxhw4ZF4uocebgWnZltzZGAUmEQQLrjPg+lQzgaXPIttdRSLNQVxUaOHMl+7RDJxmUV5/Ou1tAss8wy2LKFY56GDJD20Jx00klce1jyUnFkBkuCVUwICIEyISDlVG6jiYKAa7H111/fngLnng72TVOSyyIC8bz33nv+t7BLxxOKWB6RqgopHAOWito4bKy00krcFLkiKdV6bEQufCeRFZCHklDy5ZdfcnV27rnn+ishKjAxL6r1L0kacv5uGobu66yzzvTp02uRSvAglL8bbrghBwaUBdXFjj76aIeOchkMzT777FNX4HY+cBUV5rh8pYrwxx9/jLKSlZzTzoMPPphQOVXY5at8KxX+9QzWXXfdZc/5znkYzmRtB1t7GqpLZrM1J6GwZO/azAXT5d/+9rc77LBDre7DTghUhO+EDwcOHFhd7KOPPuL2KCF7+KttUFZxPu9qDQ0ODYzFjjvuyE0YARBOPvnkBx54IPDy1a0MkIGAjbE8XQuUZwL5swgyQ8nWDXVHCAgBSwRKq5wikCQGPn5H8XBE2Pzmz59ffXNliWOMYpdffjlbxSWXXGL/bqpuKTZkcGivLubKmMXUHAMWP0mIEb/4xS8GDRpk053cy1iKXCYs1zHHHJOQ4MCRQhpL6JiZkKrw19MwdGdlCJH4CZZsIgdhVrZw4cJA8h555BHkV4cdT3to7rvvPlw47UNOOOyaV1W+y1dKCJN0dbvttiMMnzGOSKicKuzyVb6VCl3/WmuthSFwJMtltzyM6oHAf0svvXTyuFcZbM1prAmNWKflXDBdw8+3lt8oaROIum32GnRGVBuIBsFJ3ZqBNyKruJ13IUNDzmiGY8kll9xyyy0JPmVGh0Cx1ZedzmUAqEp7aDbeeGNsxi0nXRFkBktSVUwICIGSIbAE/THrbzkeLGOJZPz8888bAx86xSkUv7NTTz0Vl7TAPpIk5cQTT3zhhRdMYhSy6fXp0+fiiy/25IY0kKG5XXbZZZNNNiHMDf4gNk0QxhVNFjbe5KFbYoklyB6y++67E5gZj6eOHTva1BBSBuOUmTNnegVoBXuowPIQjH8Q57Fu3bqFN0pcqueee84rw01Uy5Ytw1+JAUtFhSQlIXzD448/3rNnTxtMuP7CgoaSxMCmUzavOCyD1umGG24gAhT8uffee8OBEIPWw98EClMic8PG77zzDn9rtU7IG+Qn8+vmm2++11571SqJ+o8zMCHDOBQ5H0GH4FAVTN6lSxeonTZtGp3imwsvvBBPB2Y0ccqZBfGa41Rw2223TZ06NfB15hdrwquvvjpnzhyMp2AMT0j1yhPdFnqYfTYEOB8ajjHmwGNa79y5M6kJwinhKL7yyisjT5OtzIZm52VSXb6cI0z3LZcvvE2vu+46mKRv3768hVsfx1ECopsgx1Eft8sXZyoSUAbSgFLmpZdesievyCtVjOnAksJ4oUmcOHEi270lDs55mD3xyiuvJPSVcWMMfOx5O9Wt2RKiSMVQBDBxWIrZ48gMc9ZZZwW+TtYOo5sIfC699FI20EjtJixsMxe8Jjp06EAHt9122+pGUWffeeedn3zyCTsRGtLTTz8dsbO6GNEz2Wuwbq5LdkGkuLp0Ri3gfN4ZAmoNDRI1Pg1cTVEGrfFhhx3GgeI3v/kNS72f8pRkgFRnMQsOMUZpwmYIcpcZbIhUGSEgBMqJQGmUbYib6G5wFzfjxMHVSyrHv2w2gTFinnnmGSICmFewLPD0RL169XJrEOTHmVMB2awh6cMPP7TEP1W3FGi46KKLgItemwepsRZhv/71r8FqwIABdSnHoN3UZpQ+da3YYsBSTcM555zDgFqawRP00ZvVSCR1e+S2gGVcFUKMQSSHqPDWuYHHQc8AjvqpVmEUWEanU+GeGVg+6gi6xYfaUvJBIC+BjW0dYhyTItDxFlszLlctLc6cDw3sjY7JjDUerJZBSVDacqxyPkY2Faa9fDlHmE7ZMD9KcKYSSl4UUuYxp1Cg5jN2MTbg+Mu4Xb6wIa0ltfCTPW0FX6miTgeUWRw4QYa9zB4E5zxMhSwvLNrhHuiWvE1H0tua7VGyLIkOF8dqP3Oimqn17k033RQifPOrZaNOilnOBa8t7pNw+w1vGutLo8sO9DBlTbBk1CJIcU5A9lfifN5FGhoK49bH0Bx66KEVXUtDBkh7FpPjBfHPPsR+jjKDc0ZShUJACDQQAuVx60PixBaJXQQraM4MGKHwDTceRAE0kg2nhYqBwcmFKDz8xDUyJVFvYVWLaYYpTyCANAaS2y1SumLF8NZbb0WqPyW3FEMDYg32Fzb0GBczG+WUVxvxtusqp2LDUkEzPlmHH364TUfQSyL356WcshS5GHS4pXfv3nV7RF+4Ya5bjCBTpss2yqlII1i36XgF0jB0J5E88RRs6CFOLVhVh1TjuptxsamBMqkODbxhqZzi/hmFuCXNzoulunylinDI8oWsz6bjfzCGhWG4defLGMopt8sX1y0QQ0p0bF0rHmxaLYe4sVaqutOBIyXBfYAFOwhLBLxibnkYzTvW2QSCCSfDkrepJKWtOSpKNuX910JmPwpRTmEbZYS0ajbmGwxYbFp0UsZyLvjb2mCDDeoOMeVN8o0jjjiimk7c+f1ZnkM6krsU5wTk6krczjuvfsuh4VY78PiQhgyQ9iwGSdaTm2++2XKk8pUZLIlUMSEgBMqHwJIhV1KN9ROGDJMmTcLDAjUHLl14pfENNjvs6wis9AU3DcbP3ylsqjHnwVqKXEuU5EphueWW454KHyuKsYKzlLsFAe+k7t27c2aAGIyKI1XuNwQzL37xxRdYhiP6YBUfqaokhS1dmSI1kQQWf0Nff/01gNh453F31K9fP66szUEl+wfVBi6o5513nr/p1VZbDSUpHOt9ybUwOlNMyl1RmMbwuaItsB6mpP97hgy1GvoCdLucM+M13alTJ7z2Kt5lsuMwiC7M+5449LSCMGdU2P6HqFVUEq/1Wm+lPTSsPNzhY63plmzL2oqwfDlHGPs1LC79DxoHAOEvXxLSyBIcU8zt8oU5xrfffku1O++8M0Nf8RCk2ZK2Mq1UXEdxR3XHHXfg3hJjUXXIw6wt11xzDWQ4XEacs7clh8QohlM5q7d51lhjjfAaUAlRgNlUzcZ8U/f1GOTVesVyLvhfD9xrcPtFreYvZoJVB5o6stdw4eqwF1TVQKwCtQ7nXd2hwdXX5Ev1nltvvZXP2BBVDEEaMkDaQwOSXEJjEm7JTvnKDJZEqpgQEALlQ6A8yinGBn8uLg+rY0URRopf8er3gvKYgRw3bhx/cY3ZaKON/ENLhg4qwfZqwoQJIUOOOzo22zxYrFQU4/xsfvKLIMZe45tvvqFF7LeJsGAeZGUbxtp+++2pkDg4FJ41axY385hfsWXiSMKlojkUpfTQQVRp6667Lg2ZXOnESjQd9J6tt946XusJYfE3iriA/hFHiXBKYAM0U+inYIzAKA+1Xo864iFkcBDFG6W6AC5CxJbyvsebDx+9WuHS7AEnoBXuaRjOeAGtiPdZMYK0ZV9hNiVJmQeR++67L81xnMOlAv0dHSEjMnGgOJaYOHFRH5NYrUJARyrFapLoHrQCFMS0ohVC9qC+NBYo/oeLblcHhsyGhotiumDsgLJ/cly+MkM4Iapuly8ihhh6mDJJCCvNSsVaQRAuwq6RWrFVq1be/ssHrG9sIHLIw4QZQhNBfEybdkPKpLo1J6Qt5HUuAhGxzFM3dKDh5NhsnP2u7e84yqmKJReLfm5BevToceCBByKCIlBxG0rILRQH+I5VgMbVFLqSuiKNzUg1KKvQNYfzLnxokAwxQ2ZnJ8IX3nwERMMMnxtEXFCNWWJKMkCWQ4MYYC8D5Csz2HC1yggBIVBOBMpnDFbRI0RSohozeGzw/p+4sjNqLPQs1SBwY8BPhKIMwceLNYt4UVGMxH+GXXAw9H4yXofVD5HFbUaBEzXvPvzww48++mh1ZHE0XDaV1CoTbhCOiVld7g8MzWOaC3frSwiLv0fcRWMuF+gI5i9G/Hu6gxrIb3RmE3Mq6oiHjAjheBFPqwsQlp7BrRufq/rFcO8PE90z/AlJqW7jmJmE/Wq9C0nQjHyPDQhwVdDfrl272I2ieMInq+J1ZERUvV6ceE4LuERhgVLdCkGUA9eNQHpSHZq6fkweSShDOQdyHo4NGi9yUMToLEYNqS5fqSIciflZn+FSTjUxIHK7fGH0Z+ZLYLBFe/Iaa6UKmQ7+jB8VKwmXPTaApMrDtQgI5+1Ut2YbTFDTx9it/DWbq5cQtz6UOBQgdYkNPdVl8t21uZ7kBrGCKq5GUHZwV+TxIebegZ62b7zxBhnWLDueoxRnSWG8YinNu8ChIQcL8fX9sWtZUgKTaTqUAbKcxbiGLLXUUpZRWZ3IDPEGXW8JASHQzAiUynKqQuJE/YTlBXmskE7QQ11xxRX+AgTf4QqLb8y5nRDgJMDitoSrKu9LvMrrnegj/F5L/REiNFfXzjZGHBwoJ2QGpybMSXDuQzsWkp0tAok1itIiDkHmMUnT/N+Y7wnhFK8hJ7CYpgEEOabCEayCKgy1OATyJWnyHLpUROr77bffjm0Org3Vb+Fug+hAMOZIFdYtjCG3GSaaNoURhb0xNR9weKlbTy4FsHHDeIp02gT0gf+ZuSiM8N9kBGPTQyAPXIArXsekkXyR+PdxJMD4EUUMORYYjopiYIXvMPY4sVv3v5jZ0HDKxWbE/tY0sHdYfJAkNHbHc1m+MkMYWEwsM5O5L+rjdvnyLKfITcnxnoWFrZCsZyh8zR5n85RppQq5BMLz0QYNUyYXHq5FXqpbsw0msDoMZlMydhnDyXjBs2MSsYH7A/iZPCHoEWLXGePFeHOBuzfuR43XnveQD4fdB60xARnmzZuH3yLu/IGetuPHjz/qqKNiUFv9Su6skrAXzudd4NBgJIWIiFCNcp9rGIQBTKq5Bqsg3q0MkOXQYLCJyslvnh8yLk5khoTjrteFgBBoRgRKqZkjFw8+aN7txx577MFps6KnHC/NeJtcKl6GdfRZ/IvdNT917NgxBB+HN3I2o2Cuj3gw6PAbZNm8W7eMfShN477nPCB6XQptCiC5cnIOKck1r3HRwmzbFPPCdWVmOYWoiv8ppNaik8Q9XMrZ9NdfxjJuLmZ3hosaIiC6sZwyz3777YdLbFRYapVHc82NNB4TMSokUgyabvsXUx0ae8spCEYbi8+CPeXVJRHcicAVo4ZUl69UEY5kORUDGe8Vt8uXseEKfPDRZvOqS2ojrlSRpkNdBCoKpMrDtYix5G1ez2VrxvGH6F1RkfSXr2s5VesOCWRs0tg5kdOSzAV2Mfb0GBBxY4oci9Ww5bvlkOKqO5vevIs9NCnJABnMYrMv4N1syVTJZQbLhlRMCAgBIeAhUE7LKax4uFUj+imrMH5ea6+9tj8vm5HXvYgzaAr415Ng5s6dy79EvvSXqSXl5/I9QbI5xuTSdMEbRYLkTrIWkfzKDRWiXpcuXSrM6LLsF4mKCOPij3qOygw7f48Gjo55Ra3OEodIbWGvhxtddeynSJX4C2NKee65544dOzZqDYwUCr7qCBRR68mlPLemfk7LhQYtXyELlMPli2MtG58JR0jGD65nOJAYA1t0stiemP0x5NFKVQsc8XCWSwcWLkhxWKpiooWmmLCbrNsE3CRCEFECUZdnQEySuXDwwQdjqBLDzuvaa68l2bR3yZpBNwvehPN5F29oGl0GYJTtxYAiyAwFZ0uRJwSEgHMEyqmcIuQHtrh4/fTv358IMjfeeCMBpyqEGIQbg6ZZprna4i9xUs0H86VXxjnusStERGNDtXkd2xBcn/CBsilcjjKon4ifHdgX1LHY02EuxD0t7FGtrMwGAfwxcSrEJdOLwc8wEW/C79qJ7xVRPLKhp1FaIWNOdZy1auIj8TxB8WN4qOFjQh7PBj0w5C5o2i9fWA3gWIH/ZqOwaHI63S5fZAwg9OHixYtxgOratSv/Aj56VcKoQSoKcXzYQ2jWSlULHPFwclaPVAM3SbhZoVpFo4oxO+Gxhw8fjsvVSiutRD3GyD3VJ+FcQLPG/lWRjceG4M022ww/XJuSzVAmjXkXb2gaXQbwDjg2bJO7zGBDpMoIASFQMgTKqZzCvh3zfsKZY7VL3CikGWIzDRo0aMGCBd74eVl7OQXxJRbRhAAgaw8CAf+aL/0RKwsy8G3btq1LCQcSvBS5hKcvZDTD8L4ib3HdGhq0QMjp7sorr0S6pV84JRETmuQ45iEzo+ksEjD/ppr0kFYILYHJ3hFHHOEhzAkcEwZ/rkOc16rjHDXciDzxxBMcG0Ie+7s7+l6X7WPwPNHBjSY60oNBCsHUI71SnMIselHzG6Lvw8TMG0eSoGP35x/WSZMm2Xew7jhSFUYKpNHE5Ad9CvHj0ORi7WjfROOWdL58oUKtVulibGKi8nG8D8GqeVaqqAzT5DxcsbAjKREJwb8gRFrYLcGvvnNCNkNFxevEomJFsqwnXrHkcwFnapP4LNLD9YmXnSPSiwUpXLF3VAsDRdg7YgxNQ8sA3H1yNWs/SWPIDAVhP5EhBIRA4yJQTuWUfzwQa8wWiArAH4aDw4/J1kcmDlMecYdwTuYzEg9/PQVW+ADbx5fNgFEwIMdLHHEKg3CMxY488kiMp4jXY3rk6sEQyVVVDutBGKpFmHcSI1/79b7Hs6eDN/jaMrZr7BEnshWmW1tuuaXX65deeokk2TjgeN8Q/zsDrWjaI4gXA4GoQ566XkX2jJENz9vTk7BkekODZSh3xZHIw2rAP4i4P2MCUPFNpArDCxt9MQFoMXfFeQeLVyIHk2rdYRNUlR7CSejMZvniZILuDzoXLlwYQm3zrFRJhizw3Wx4uBbZafN2xcLOMo4E5V8QHC7s4UNjrI/pLwbRNoNYgl3bppv2ZdJmlYq9o1oY8IJp2NMcUjLfeeekC14l6Q0Nd3KER7AXA2LIDG6hUG1CQAg0IQLRDioNChB6KFZYiPf0UHxGM0XyLz74gy6bDqLNMW5WJjNdrceLgOMF1fZKcszIC6sNN9xw2LBhZIe5+OKLyYmLPflZZ52FMU6kS6oQ4o3+jvwyeXUwpF0UkWh2AgsMHDiQCA7Vz+jRo015dHn8ipFIqiOOdR5xuP1NoEYk1bT/G9Rn6SmnPPVr2iNIOjwmUciDTZ8rFkqb513RGV5PBkODiUHUuF2Y3mB36Y0jEwRvGv+wjhgxwiE+sA3h2MjMyAcsIzjPMKnJ0+REWM8A4SRQpL18Gdo4opvwN16Y4UCam2elSjJkge+mysO5b80VCzvZzQgO7V8QHC7s4UNjxDkO20bZWutJLqflPhecs2g2UlzF3lEtDDTQ3uF8CGpVmMHQ/P3vfw9Pae2nLYbMkBlWakgICIGyIlAe5RS3NNycmHDmFc/s2bPJCMuXfosV/j3++OP5SxiOCqsiss+gXUKfRZSikIFHCGvRogUFSD/vL4auClVIXhzDlQgpbPy5b030dDwWnZBkbHwIr5ujAq5WRzjd1epmjx49yNBX/Rx99NGmtv33359fSZOX6ogTO6Mi5vG0adNwX/IaJXckMpyXO9LJkPkr8Uy0yGDtvPK8Kkyb57PpVwZDg+OYSfVQ2AerT9TEHnl4tey8886s3k48dzJAOAmwDpcvNFCEmgoMODhu3DizG3bu3DmEWq1UsYcyVR4OoarIW3NsMGfNmnXbbbdVv45f0vjx4/mem4mQNAIUSC6n5T4XYqNX68VSskpe887t6KQ9NGimOCvZiwHFlxnc4q/ahIAQKAIC5VFOETQKt6wdd9wRQyFsT1h/wRcZnejXffv25TPXOLvttpsfdHRPpOrDS2XXXXc1Pg6UR+KhKj4fddRRrVu3Dhkkz/YK1zATXBaD9qlTp0JDoU7+L7/8MrT5oxol4Tx6x+voULj18vRTxC1+7rnnklTr5F123FqWphTBygAACY5JREFUU07qTz7ihNj3609JK0lMNC9xJESOGTMGyxSyCjohuLqStf7v4XtMxgiK7BVAP0vYppQazb5atzyfDf0ZDI1JiJ5Nd5y0gsEUayk2PuHnT8u2MkDYkpLAYg6XL2Y3lrNEj8Y70qiizPZETL3TTjuNz7hEmcx9tR6tVEmG0v+uWx4OoarIW7OfbELIEVLae4y3Hcbd3jcex6IVIiwgkhiXRv4QafjCk8vCGACayFMhTwl2bVes6NXTKKySpOOZzbskRFa/m/bQmKCT9mJAw8kMbodDtQkBIZAPAqzg5Xiw8e7SpYsHImareO152iVsvwnlW93Txx9/3PP1QF43+V94qAq/p7rI4G/itUg9JnoldhxE1zYqAOqvW4llAeOFgbWXZXlTDIEPSnBs5KYx5EX0cVyk29RMaHnTNR5OUzipEXbdWM6j3QisgfTP/EoGOpv6k5TBDIoRj1SD55JJjBWbFxOOOLmQgYJ0b6hEkbA7dOhAcE1Gh+TuKPguv/xyfiXLpA0lFWUIJfPYY4/ZvIhhoBk+pHaYimliLusIT1br9cxGsIIAz+U2EvNY8rwNVk7KpDo0ZH6wXxM40ZHzKEmnUMSTUiBGDfGWLzMjLrnkkvAWU0U4M+Z3uHxxVeB5V5FdAesSFmovRSmaPvIwhEPaoCtVpOkQlY1T5eFaxNjzdi5bM3G+2VAiIYljYLiwi923qZA90V+Y4IwEoWP98V7nV5umC7tr2xBvX6YcUlx1f3OZd/aw25QsziyeM2cO04fbOxuyKZNcZrBsSMWEgBAQAh4C/w4nWZoHaymSsuEGYiJMeQ9+bQjrtbrJMs0NsxcgEB3T4YcfziWzDSxc+nF88jIiUQkqngcffJB3sTGGgOnTp9vUY1PGhP+0P4hSJ4DgrcZbEydODG/CXqyhHkIwdO/e3Y8wuj8ss2pteJmd7sjzBVXcwdrgacpEVU4lHHH4ynjTkEgLbuFCGKUhcfdNlEq8RC+99FJ74v0l7aUf3sKewtPJmnHkJg13qlpNZzaCFQSgUDbk2Sun7Hk+Hs4x3kp1aCKdxgnGj7dXjC54rxB7/pprrolRQ4zli3BsKFbwxUaTG95iqghnxvxuly9uvPHvJiSQf6EGKJLT4+5XdwQbdKWKNB3qglBRIFUerkVMJN7OfmtmK8GmKRKSJpxCyMNlib9C7o169epVkcGWsSCMpmW7hd21Lem3LFYOKa66s7nMO0vMLYsVZxYzYZEzLQ849C65zGAJkYoJASEgBDwEluBTuKDQiL/SKdz0yOHCwkqwzApdVWCPEOXxcqIkdkAmi5/9w0JP2hFyKqN3sPfltq8/XkkEsiOOOGLChAkcUS644ILwSvABISH0iy++aN8Wzmggxj4HaByBQjqOlyUXnugXcBWxrz9GSaTYbt26Me7hEVJj1FzxSpIR5zaYMM9wC86kXAVTM96RRNZAp9a1a9dwT9IQypHdGUGEeMve0ej8+fPRzTGCaMcw4ApJ4JLZCFoSX6tYJJ5P2Jb966kODdpnho9AQnXpwaAMFSQOyOk5jdalwb4Amm68sFlbuFfw57IMrCFVhDNj/pSWLzx2P/roI0KNsCqut956nv1U3bFoxJXKfjrU7X7yApF4uFZzUXmbegq4NScHE18/hDrc9lkTsDiOIUsUcNdODou/hnJIcckxcTLvkpPhr6E4s5g7yKeeesof0iGkp40lM7gdMtUmBIRAnghIUVdKBFA9mKDsQ4YMselgpDs3mwr9ZTIzPSBEBV0m1VdUCktQPtLVXNT+ZjaCUQnzl4/K80naivRuqkNjbypCXghmB6qKSMTnUhgtOcpuzp91vc8MeakinBnzN8nylepg2U+HtBk7Kg/XoidVuDLj7bTRVv0gUA4pLuFQupp3CcmoeL04sxinB44Glr1rIJnBskcqJgSEQEMgUJ6A6Hlq+ArWNjeEXCDfcccd5Hj2AgwVjMZUyMEwhPAEGCCkUrsqLTACTcvz9mOClxzqHkzk7F/JpST5KxGg8XJFMsZEIhcacmlUy1cusKfRaNPycBpgqk4hYImA5l04UFzgYVa2zTbbWOLZKDKDZXdUTAgIgUZBoJxufY2Cfhp04p+45557EvVw1VVXPe6443744QevlaFDh+LnGNgoBuG33HLLVVddZX7t0aOHCe6e5FmwYAHejtSAnx1qsgzc+mgLo2Wuzl544YUklDfiu9iNn3HGGSagVdu2bTfffPPkvchlBGOQHY/nYzQU7xXnQ8O9B8HvTZarCy+8kEG3cevDjRSvLsLtx+tFNm8RcB1nZIJMDRo0CKdX00cewo4YU9DAxznCtJIL8zfD8uV8sOJNh/T4OR4Pl5630wNcNRsESiPFxRtQt/MuHg0Fn8Wkh95ll12ITEcoAJsONoTMYNMRlRECQqDBEGgI+y4RaY/AzJkza7EggY1q1TN+/Phf+h52L/sWa5Ukx5ZXJQn+cF9PXmfdGrg6I2RYeGrCupU0YgH0Dh7aw4YNc9KFXEYwBuXxeD5GQ/FecT40pOUiDJM33CNHjqxLGCGHUAoAVN2S+RZAdA5cvoglF0KYc4RpKxfmb4bly/lgxZgOqTJ5PB6uRZJzuPLi7VQxV+UgUBopLt5oup138Wgo+CwmHQoJoyy71igyg2V3VEwICIEGQkCWUw2mTBS54QgQxHellVa6/fbbSYQnrISAEDAIYGlF2nWUziFh74VV7gho+cp9CESAEBACQqCUCGBkfdRRRw0ePNimd5IZbFBSGSEgBNJAQDGn0kBVdeaGQMuWLXv27HnXXXflRoEaFgLFQ2Dy5Mn9+vWTZqp4I/MfFGn5KvgAiTwhIASEQCMi8PHHH5N59sADD7QkXjKDJVAqJgSEgHMEpJxyDqkqzBkBLESmTJliUl/pEQJCAHuc+++//5BDDhEUxUdAy1fxx0gUCgEhIAQaCwGubIkhhWOBDdmSGWxQUhkhIARSQkDKqZSAVbW5IbD77rsT9/2ee+7JjQI1LASKhMDDDz+MSGqC5espOAJavgo+QCJPCAgBIdBwCJC/2/6CSjJDw42vCBYCZUJAyqkyjab68m8E8F0i1RdhpwSHEBACIDBhwoSDDz5YUDQEAlq+GmKYRKQQEAJCoFEQmDdv3qJFi3r37m1JsGQGS6BUTAgIgTQQkHIqDVRVZ84IEPRxlVVWIYtTznSoeSFQAARatGgxYMCAAhAiEqwQ0PJlBZMKCQEhIASEgAUCaKaGDx/eqlUri7L/LiKZwRIoFRMCQiANBP4fybfuQNQ+m0EAAAAASUVORK5CYII=\"></div>"
      ],
      "text/plain": [
       "                 2  ^   ^   ^    ^        3  ^     ^\n",
       "        5   120 u  (ω)'[t] (r )'[t]   40 u  (r )''[t]\n",
       "   -16 u                     2                2\n",
       "u (------ + ----------------------- + --------------- - \n",
       "   ^  ^ 4           ^  ^ 2                ^  ^ 3\n",
       "   r [t]            r [t]                 r [t]\n",
       "    2                2                     2\n",
       " \n",
       "                 ^   ^ 2      ^    ^   ^     ^     ^    ^   ^ (3) ^\n",
       ">      5 (-12 u (ω)'[t]  + 2 (ω)''[t] (r )''[t] + (r )'[t] (ω)   [t] + \n",
       "                                        2           2\n",
       " \n",
       "                                                               ^    ^     ^  (4) ^\n",
       "                                                    5 u (-8 u (ω)''[t] + (r )   [t])\n",
       "             ^   ^   ^  (3) ^     ^  ^   ^ (4) ^                           2\n",
       ">         2 (ω)'[t] (r )   [t]) - r [t] (ω)   [t] - --------------------------------) + \n",
       "                      2            2                             ^  ^\n",
       "                                                                 r [t]\n",
       "                                                                  2\n",
       " \n",
       "        ^   ^        4  ^    ^       ^  ^ 5  ^   ^   ^    ^\n",
       ">   (2 (r)'[t] (-60 u  (r )'[t] + 30 r [t]  (ω)'[t] (ω)''[t] + \n",
       "                         2            2\n",
       " \n",
       "              ^  ^ 3     ^    ^   ^    ^       ^   ^   ^     ^\n",
       ">        30 u r [t]  (2 (r )'[t] (ω)''[t] + 3 (ω)'[t] (r )''[t]) - \n",
       "               2          2                             2\n",
       " \n",
       "             2 ^  ^ 2       ^   ^     ^  (3) ^\n",
       ">        30 u  r [t]  (4 u (ω)'[t] - (r )   [t]) + \n",
       "                2                      2\n",
       " \n",
       "         ^  ^ 4      ^   ^ 2  ^    ^          ^ (3) ^     ^  (5) ^          ^  ^ 7/2\n",
       ">        r [t]  (45 (ω)'[t]  (r )'[t] + 15 u (ω)   [t] - (r )   [t]))) / (3 r [t]   )\n",
       "          2                    2                           2                 2"
      ]
     },
     "execution_count": 118,
     "metadata": {
      "text/html": [],
      "text/plain": []
     },
     "output_type": "execute_result"
    }
   ],
   "source": [
    "Simplify[dEdt /. Subscript[OverHat[r],2][OverHat[t]] -> OverHat[r][OverHat[t]]^2 /. OverHat[\\[Omega]][OverHat[t]] -> u/OverHat[r][OverHat[t]]^2] /. OverHat[r][OverHat[t]] -> Sqrt[Subscript[OverHat[r],2][OverHat[t]]]"
   ]
  },
  {
   "cell_type": "code",
   "execution_count": 1338,
   "metadata": {
    "vscode": {
     "languageId": "wolfram"
    }
   },
   "outputs": [
    {
     "data": {
      "text/html": [
       "<div><img alt=\"Output\" src=\"data:image/png;base64,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\"></div>"
      ],
      "text/plain": [
       "   ^ ^ 5 ^  ^ 2      ^ ^  ^  ^ 2  ^   ^ 2      ^ ^ 2 ^  ^   ^   ^   ^    ^\n",
       "16 ω[t]  r [t]  + 12 ω[t] r [t]  (ω)'[t]  + 24 ω[t]  r [t] (ω)'[t] (r )'[t] + \n",
       "          2                2                          2              2\n",
       " \n",
       "       ^ ^ 3  ^    ^ 2     ^ ^ 2 ^  ^ 2  ^    ^       ^ ^ 3 ^  ^   ^     ^\n",
       ">   24 ω[t]  (r )'[t]  - 4 ω[t]  r [t]  (ω)''[t] - 16 ω[t]  r [t] (r )''[t] + \n",
       "               2                  2                          2      2\n",
       " \n",
       "       ^   ^   ^    ^   ^     ^    ^  ^   ^    ^   ^     ^      ^ ^   ^     ^ 2\n",
       ">   3 (ω)'[t] (r )'[t] (r )''[t] + r [t] (ω)''[t] (r )''[t] + 3 ω[t] (r )''[t]  - \n",
       "                2        2          2               2                  2\n",
       " \n",
       "    ^  ^   ^   ^   ^  (3) ^      ^ ^   ^    ^   ^  (3) ^\n",
       ">   r [t] (ω)'[t] (r )   [t] - 2 ω[t] (r )'[t] (r )   [t]\n",
       "     2              2                   2        2"
      ]
     },
     "execution_count": 1338,
     "metadata": {
      "text/html": [],
      "text/plain": []
     },
     "output_type": "execute_result"
    }
   ],
   "source": [
    "fh2 = Array[If[#1 <= #2,\n",
    "                    Superscript[Subscript[OverHat[f], {x, y}[[#1]], {x, y}[[#2]]], \"(2)\"],\n",
    "                    Superscript[Subscript[OverHat[f], {x, y}[[#2]], {x, y}[[#1]]], \"(2)\"]] &, {2, 2}];\n",
    "fh2 // MatrixForm;\n",
    "fh3 = Array[If[#1 <= #2,\n",
    "                    Superscript[Subscript[OverHat[f], {x, y}[[#1]], {x, y}[[#2]]], \"(3)\"],\n",
    "                    Superscript[Subscript[OverHat[f], {x, y}[[#2]], {x, y}[[#1]]], \"(3)\"]] &, {2, 2}];\n",
    "fh3 // MatrixForm;\n",
    "\n",
    "fh2 = Simplify[D[fh1, {OverHat[t], 2}], Trig -> True];\n",
    "fh3 = Simplify[D[fh1, {OverHat[t], 3}], Trig -> True];\n",
    "\n",
    "Expand[Simplify[EinsteinSummation[{{i, j}, {i, l}, {l, j}}, {LeviCivitaTensor[2], fh2, fh3}] /. OmegaReplace, Trig -> True]]"
   ]
  },
  {
   "cell_type": "markdown",
   "metadata": {},
   "source": [
    "# Интегрирование по частям\n",
    "[Integrate By Parts](https://resources.wolframcloud.com/FunctionRepository/resources/IntegrateByParts/)\n",
    "Contributed by: Wolfram|Alpha Math Team"
   ]
  },
  {
   "cell_type": "code",
   "execution_count": null,
   "metadata": {
    "vscode": {
     "languageId": "wolfram"
    }
   },
   "outputs": [],
   "source": [
    "IntegrateByParts // ClearAll;\n",
    "IntegrateByParts[ args___ ] :=\n",
    "    Module[ { res },\n",
    "        update[ ];\n",
    "        res = Symbol[ \"ResourceFunctionHelpers`IntegrateByParts\" ][ args ];\n",
    "        res /; Head @ res =!= Symbol[ \"ResourceFunctionHelpers`IntegrateByParts\" ]\n",
    "    ];"
   ]
  },
  {
   "cell_type": "code",
   "execution_count": null,
   "metadata": {
    "vscode": {
     "languageId": "wolfram"
    }
   },
   "outputs": [],
   "source": [
    "update // ClearAll;\n",
    "update[ ] /; $VersionNumber <= 12 :=\n",
    "    Once[\n",
    "\n",
    "        If[ MemberQ[ PacletSites[ ], $publicPacletSite ],\n",
    "            PacletManager`PacletUpdate[\n",
    "                \"ResourceFunctionHelpers\",\n",
    "                \"Site\"        -> \"http://pacletserver.wolfram.com\",\n",
    "                \"UpdateSites\" -> True\n",
    "            ]\n",
    "        ];\n",
    "\n",
    "        Quiet @ Block[ { $ContextPath }, Get[ \"ResourceFunctionHelpers`\" ] ]\n",
    "    ];"
   ]
  },
  {
   "cell_type": "code",
   "execution_count": null,
   "metadata": {
    "vscode": {
     "languageId": "wolfram"
    }
   },
   "outputs": [],
   "source": [
    "update // ClearAll;\n",
    "update[ ] /; $VersionNumber <= 12 :=\n",
    "    Once[\n",
    "\n",
    "        If[ MemberQ[ PacletSites[ ], $publicPacletSite ],\n",
    "            PacletManager`PacletUpdate[\n",
    "                \"ResourceFunctionHelpers\",\n",
    "                \"Site\"        -> \"http://pacletserver.wolfram.com\",\n",
    "                \"UpdateSites\" -> True\n",
    "            ]\n",
    "        ];\n",
    "\n",
    "        Quiet @ Block[ { $ContextPath }, Get[ \"ResourceFunctionHelpers`\" ] ]\n",
    "    ];"
   ]
  },
  {
   "cell_type": "markdown",
   "metadata": {},
   "source": [
    "$$\n",
    "  I_4(u) = \\int_{r_1}^\\infty \\frac{24r^2u^6 + 48u^6r + 120r^{3/2}u^4 - 96u^6 + 96u^4\\sqrt{r} - u^2r^2 + 133u^2r - 2r^{3/2}}{r^4\\sqrt{u^2r + 2\\sqrt{r} - u^2}} \\, dr,\n",
    "$$\n",
    "где при $r \\ge r_1$ выражение $u^2r + 2\\sqrt{r} - u^2 \\ge 0$.\n",
    "\n",
    "Всюду предполагается $u \\gt 0$."
   ]
  },
  {
   "cell_type": "markdown",
   "metadata": {},
   "source": [
    "## Интегрант $f_4(u, r)$:"
   ]
  },
  {
   "cell_type": "markdown",
   "metadata": {},
   "source": [
    "$$\n",
    "  f_4(u, r) = \\frac{24r^2u^6 + 48u^6r + 120r^{3/2}u^4 - 96u^6 + 96u^4\\sqrt{r} - u^2r^2 + 133u^2r - 2r^{3/2}}{r^4\\sqrt{u^2r + 2\\sqrt{r} - u^2}}\n",
    "$$"
   ]
  },
  {
   "cell_type": "code",
   "execution_count": null,
   "metadata": {
    "vscode": {
     "languageId": "wolfram"
    }
   },
   "outputs": [],
   "source": [
    "integrand4[u_, r_] = (24*r^2*u^6 + 48*u^6*r + 120*r^(3/2)*u^4 - 96*u^6 + 96*u^4*Sqrt[r] - u^2*r^2 + 133*u^2*r - 2*r^(3/2)) /\n",
    "  (r^4*Sqrt[u^2*r + 2*Sqrt[r] - u^2]);"
   ]
  },
  {
   "cell_type": "markdown",
   "metadata": {},
   "source": [
    "Значение интегранта при любом $u$ на бесконечно больших $r$ равно 0:"
   ]
  },
  {
   "cell_type": "code",
   "execution_count": null,
   "metadata": {
    "vscode": {
     "languageId": "wolfram"
    }
   },
   "outputs": [],
   "source": [
    "Limit[integrand4[u, r], r -> Infinity]"
   ]
  },
  {
   "cell_type": "markdown",
   "metadata": {},
   "source": [
    "### Выражение для левой границы $r_1$"
   ]
  },
  {
   "cell_type": "code",
   "execution_count": null,
   "metadata": {
    "vscode": {
     "languageId": "wolfram"
    }
   },
   "outputs": [],
   "source": [
    "eqr1[u_, r_] = u^2*r + 2*Sqrt[r] - u^2;\n",
    "sol = Assuming[{u ∈ Reals, r ∈ Reals, r > 0}, Solve[eqr1[u, r] == 0, r]];\n",
    "r1[u_] = Simplify[r/.sol[[1]]]"
   ]
  },
  {
   "cell_type": "markdown",
   "metadata": {},
   "source": [
    "$r_1$ обращается в 0 при $u \\rightarrow 0$:"
   ]
  },
  {
   "cell_type": "code",
   "execution_count": null,
   "metadata": {
    "vscode": {
     "languageId": "wolfram"
    }
   },
   "outputs": [],
   "source": [
    "Series[r1[u], {u, 0, 5}]\n",
    "Limit[r1[u], u -> 0]"
   ]
  },
  {
   "cell_type": "markdown",
   "metadata": {},
   "source": [
    "И проверим, что знаменатель обращается в 0 при $r = r_1$"
   ]
  },
  {
   "cell_type": "code",
   "execution_count": null,
   "metadata": {
    "vscode": {
     "languageId": "wolfram"
    }
   },
   "outputs": [],
   "source": [
    "PlotR1[u_] := Module[\n",
    "  {points, r1Value},\n",
    "\n",
    "  r1Value = Piecewise[{{0, u == 0}}, r1[u]];\n",
    "  points = {{r1Value, eqr1[u, r1Value]}};\n",
    "\n",
    "  plotLabel = \"u = \" <> ToString[u];\n",
    "\n",
    "  Show[\n",
    "    Plot[\n",
    "      eqr1[u, r],\n",
    "      {r, -1, 10},\n",
    "      AxesLabel -> {\"u\", \"r1\"},\n",
    "      PlotLabel -> plotLabel,\n",
    "      PlotRange -> All\n",
    "    ],\n",
    "    ListPlot[\n",
    "      points,\n",
    "      PlotStyle -> {Red, PointSize[Large]}\n",
    "    ]\n",
    "  ]\n",
    "]\n",
    "\n",
    "plots = {PlotR1[3], PlotR1[0.1], PlotR1[0.0]};\n",
    "GraphicsRow[plots]"
   ]
  },
  {
   "cell_type": "markdown",
   "metadata": {},
   "source": [
    "### Графики функций интегранта $f_4(u_i, r)$:"
   ]
  },
  {
   "cell_type": "code",
   "execution_count": null,
   "metadata": {
    "vscode": {
     "languageId": "wolfram"
    }
   },
   "outputs": [],
   "source": [
    "PlotIntegrand4[u_] := Module[\n",
    "  {r1Value},\n",
    "\n",
    "  r1Value = Piecewise[{{0, u == 0}}, r1[u]];\n",
    "\n",
    "  plotLabel = \"u = \" <> ToString[u];\n",
    "\n",
    "  Plot[\n",
    "    integrand4[u, r],\n",
    "    {r, r1Value, 10^3},\n",
    "    PlotLabel -> plotLabel,\n",
    "    PlotRange -> All,\n",
    "    AxesOrigin -> {0, 0},\n",
    "    AxesLabel -> {\"r\", \"integrand4\"},\n",
    "    ScalingFunctions -> {\"Log\", \"SignedLog\"}\n",
    "  ]\n",
    "]\n",
    "\n",
    "plots = {PlotIntegrand4[0.0], PlotIntegrand4[0.03], PlotIntegrand4[0.3]};\n",
    "GraphicsRow[plots]"
   ]
  },
  {
   "cell_type": "markdown",
   "metadata": {},
   "source": [
    "*Mathematica* очень долго берёт этот интеграл, но выдаёт огромную простыню выражений, которую не может упростить, используя при это коплексную экспоненту."
   ]
  },
  {
   "cell_type": "code",
   "execution_count": null,
   "metadata": {
    "vscode": {
     "languageId": "wolfram"
    }
   },
   "outputs": [],
   "source": [
    "Inactivate[Integrate[integrand4[u, r], {r, r1[u], Infinity}, Assumptions -> {u ∈ Reals, u > 0}]]"
   ]
  },
  {
   "cell_type": "markdown",
   "metadata": {},
   "source": [
    "## Численный график $I_4(u)$ с использованием NIntegrate:"
   ]
  },
  {
   "cell_type": "code",
   "execution_count": null,
   "metadata": {
    "vscode": {
     "languageId": "wolfram"
    }
   },
   "outputs": [],
   "source": [
    "Plot[\n",
    "  NIntegrate[integrand4[u, r], {r, r1[u], Infinity}],\n",
    "  {u, 1, 100},\n",
    "  PlotLabel -> \"NIntegral of integrand4\",\n",
    "  AxesLabel -> {\"u\", \"integrand4\"}\n",
    "]"
   ]
  },
  {
   "cell_type": "markdown",
   "metadata": {
    "vscode": {
     "languageId": "wolfram"
    }
   },
   "source": [
    "## Численный график $I_4(u)$ с использованием Integrate:"
   ]
  },
  {
   "cell_type": "code",
   "execution_count": null,
   "metadata": {
    "vscode": {
     "languageId": "wolfram"
    }
   },
   "outputs": [],
   "source": [
    "(* points = With[\n",
    "  {u := 10^up},\n",
    "  Table[\n",
    "    {u, N[Integrate[integrand4[u, r], {r, r1[u], Infinity}]]},\n",
    "    {up, 0, 2, 0.05}\n",
    "  ]\n",
    "]; *)\n",
    "\n",
    "points = Table[\n",
    "  {u, N[Integrate[integrand4[u, r], {r, r1[u], Infinity}]]},\n",
    "  {u, 1, 100, 1}\n",
    "];\n",
    "\n",
    "ListPlot[\n",
    "  points,\n",
    "  Joined -> True,\n",
    "  PlotRange -> All,\n",
    "  PlotLabel -> \"Integral of integrand4\",\n",
    "  AxesLabel -> {\"u\", \"integral4\"}\n",
    "]"
   ]
  },
  {
   "cell_type": "markdown",
   "metadata": {},
   "source": [
    "## Первообразная $\\tilde{I}_4(u, r)$:"
   ]
  },
  {
   "cell_type": "code",
   "execution_count": null,
   "metadata": {
    "vscode": {
     "languageId": "wolfram"
    }
   },
   "outputs": [],
   "source": [
    "antiderivative4[u_, r_] = Integrate[integrand4[u, r], r]"
   ]
  },
  {
   "cell_type": "markdown",
   "metadata": {
    "vscode": {
     "languageId": "wolfram"
    }
   },
   "source": [
    "Явно определим аргумент комплексного числа:"
   ]
  },
  {
   "cell_type": "code",
   "execution_count": null,
   "metadata": {
    "vscode": {
     "languageId": "wolfram"
    }
   },
   "outputs": [],
   "source": [
    "(* complexLog[z_] := Log[Abs[z]] + I Arg[z]; *)\n",
    "arg[z_] := ArcTan[ComplexExpand[Im[z]]/ComplexExpand[Re[z]]];\n",
    "(* abs[z_] := ComplexExpand[Abs[z]]; *)"
   ]
  },
  {
   "cell_type": "markdown",
   "metadata": {},
   "source": [
    "Применяя его к antiderivative4[u, r], мы получаем действительное выражение, состоящее из двух слагаемых одно без $\\tan^{-1}$, а второе, включающее $\\tan^{-1}$:"
   ]
  },
  {
   "cell_type": "code",
   "execution_count": null,
   "metadata": {
    "vscode": {
     "languageId": "wolfram"
    }
   },
   "outputs": [],
   "source": [
    "antiderivative4s[u_, r_] =\n",
    "  Simplify[\n",
    "    ComplexExpand[\n",
    "      Re[antiderivative4[u, r]]\n",
    "    ] /. Arg -> arg,\n",
    "    {{u, r} ∈ Reals, u > 0, r > r1[u]}\n",
    "  ];\n",
    "\n",
    "antiderivative4s[u_, r_] =\n",
    "  Sqrt[2 Sqrt[r] - u^2 + r u^2] * Simplify[\n",
    "    Expand[\n",
    "      (antiderivative4s[u, r] /. ArcTan[x_] -> 0) /\n",
    "      Sqrt[2 Sqrt[r] - u^2 + r u^2]\n",
    "    ],\n",
    "    {{u, r} ∈ Reals, u > 0, r > 0}\n",
    "  ] -\n",
    "  Cases[antiderivative4s[u, r],\n",
    "    coeff_.*ArcTan[arg_] :> coeff*ArcTan[arg], ∞][[2]] /\n",
    "  (12 * r^3 * u^7)"
   ]
  },
  {
   "cell_type": "markdown",
   "metadata": {},
   "source": [
    "### График первообразной $\\tilde{I}_4(u_i, r)$:"
   ]
  },
  {
   "cell_type": "code",
   "execution_count": null,
   "metadata": {
    "vscode": {
     "languageId": "wolfram"
    }
   },
   "outputs": [],
   "source": [
    "rules = {\n",
    "  eqr1[u, r] -> 0,\n",
    "  ArcTan[x_] -> -Pi/2\n",
    "};\n",
    "\n",
    "PlotAntiderivative[u_] := Module[\n",
    "  {points, antiderivative, r1Value},\n",
    "\n",
    "  r1Value = r1[u]*(1.0+10^-12);\n",
    "  antiderivative =\n",
    "    If[r == r1Value,\n",
    "      antiderivative4s[u, r] /. rules,\n",
    "      antiderivative4s[u, r]\n",
    "    ];\n",
    "\n",
    "  points = {{r1Value, Re[antiderivative /. r -> r1Value]}};\n",
    "\n",
    "  plotLabel = \"u = \" <> ToString[u];\n",
    "\n",
    "  Show[\n",
    "    Plot[\n",
    "      antiderivative,\n",
    "      {r, r1Value, r1Value*2.1},\n",
    "      PlotLabel -> plotLabel,\n",
    "      PlotRange -> All,\n",
    "      AxesLabel -> {\"r\", \"antiderivative4s\"},\n",
    "      ScalingFunctions -> {\"SignedLog\", \"SignedLog\"}\n",
    "    ],\n",
    "    ListPlot[\n",
    "      points,\n",
    "      PlotRange -> All,\n",
    "      PlotStyle -> {Red, PointSize[Large]},\n",
    "      ScalingFunctions -> {\"SignedLog\", \"SignedLog\"}\n",
    "    ]\n",
    "  ]\n",
    "]\n",
    "\n",
    "plots = {PlotAntiderivative[3], PlotAntiderivative[0.1], PlotAntiderivative[5*10.0^-2]};\n",
    "GraphicsRow[plots]"
   ]
  },
  {
   "cell_type": "markdown",
   "metadata": {},
   "source": [
    "## Определённый интеграл, возьмём как разницу первообразных по теореме Ньютона-Лейбница,\n",
    "$$\n",
    "  I_{4,1}(u) = \\int_{r_1}^{\\infty} f_4(u, r) \\, dr = \\tilde{I}_{4}(u, \\infty) - \\tilde{I}_{4}(u, r_1(u)):\n",
    "$$"
   ]
  },
  {
   "cell_type": "markdown",
   "metadata": {},
   "source": [
    "Найдём $\\tilde{I}_{4}(u, \\infty)$:"
   ]
  },
  {
   "cell_type": "code",
   "execution_count": null,
   "metadata": {
    "vscode": {
     "languageId": "wolfram"
    }
   },
   "outputs": [],
   "source": [
    "integral4Inf[u_] = Limit[\n",
    "  antiderivative4s[u, r],\n",
    "  r -> Infinity,\n",
    "  Assumptions -> {u ∈ Reals, u > 0}\n",
    "];\n",
    "\n",
    "integral4Infs[u_] = Simplify[\n",
    "  ComplexExpand[\n",
    "    Re[integral4Inf[u]]\n",
    "  ] /. Arg -> arg,\n",
    "  {{u, r} ∈ Reals, u > 0, r > r1[u]}\n",
    "]"
   ]
  },
  {
   "cell_type": "markdown",
   "metadata": {},
   "source": [
    "Найдём $\\tilde{I}_{4}(r_1(u))$, при этом заметим, что $2\\sqrt{r} - u^2 + r u^2 = 0$, и $\\mathrm{arctan}(-\\infty) = -\\frac{\\pi}{2}$:"
   ]
  },
  {
   "cell_type": "code",
   "execution_count": null,
   "metadata": {
    "vscode": {
     "languageId": "wolfram"
    }
   },
   "outputs": [],
   "source": [
    "integral4r1[u_] = antiderivative4s[u, r] /. rules"
   ]
  },
  {
   "cell_type": "markdown",
   "metadata": {},
   "source": [
    "### Графики функций $\\tilde{I}_{4}(u, r_i)$:"
   ]
  },
  {
   "cell_type": "code",
   "execution_count": null,
   "metadata": {
    "vscode": {
     "languageId": "wolfram"
    }
   },
   "outputs": [],
   "source": [
    "Plot[\n",
    "  {\n",
    "    N[antiderivative4s[u, 1]],\n",
    "    N[antiderivative4s[u, 10^2]],\n",
    "    N[antiderivative4s[u, 10^5]],\n",
    "    N[antiderivative4s[u, 10^10]],\n",
    "    N[integral4Infs[u]]\n",
    "  },\n",
    "  {u, 0, 1000},\n",
    "  AxesLabel -> {\"u\", \"antiderivative4\"},\n",
    "  PlotLegends -> {\n",
    "    \"antiderivative4s[r=1]\",\n",
    "    \"antiderivative4s[r=10^2]\",\n",
    "    \"antiderivative4s[r=10^5]\",\n",
    "    \"antiderivative4s[r=10^10]\",\n",
    "    \"antiderivative4s[r=Infinity]\"\n",
    "  },\n",
    "  ScalingFunctions -> {\"SignedLog\", \"SignedLog\"}\n",
    "]"
   ]
  },
  {
   "cell_type": "code",
   "execution_count": null,
   "metadata": {
    "vscode": {
     "languageId": "wolfram"
    }
   },
   "outputs": [],
   "source": [
    "Plot[\n",
    "  {\n",
    "    N[Re[antiderivative4s[u, r1[u]+10^-2]]],\n",
    "    N[Re[antiderivative4s[u, r1[u]+10^-4]]],\n",
    "    N[Re[antiderivative4s[u, r1[u]+10^-5]]],\n",
    "    N[Re[antiderivative4s[u, r1[u]+1.35*10^-6]]],\n",
    "    N[Re[antiderivative4s[u, r1[u]+10^-7]]],\n",
    "    N[Re[antiderivative4s[u, r1[u]+10^-10]]],\n",
    "    N[Re[antiderivative4s[u, r1[u]+10^-12]]],\n",
    "    N[integral4r1[u]]\n",
    "  },\n",
    "  {u, 0.0, 100},\n",
    "  AxesLabel -> {\"u\", \"antiderivative4\"},\n",
    "  PlotLegends -> {\n",
    "    \"antiderivative4s[r=r1[u]+10^{-2}]\",\n",
    "    \"antiderivative4s[r=r1[u]+10^{-4}]\",\n",
    "    \"antiderivative4s[r=r1[u]+10^{-5}]\",\n",
    "    \"antiderivative4s[r=r1[u]+1.35*10^-6]\",\n",
    "    \"antiderivative4s[r=r1[u]+10^{-7}]\",\n",
    "    \"antiderivative4s[r=r1[u]+10^{-10}]\",\n",
    "    \"antiderivative4s[r=r1[u]+10^{-12}]\",\n",
    "    \"antiderivative4s[r=r1[u]]\"\n",
    "    },\n",
    "  PlotRange -> All,\n",
    "  ScalingFunctions -> {\"Log\", \"SignedLog\"}\n",
    "]"
   ]
  },
  {
   "cell_type": "markdown",
   "metadata": {},
   "source": [
    "## Итоговый ответ для $I_4(u)$:"
   ]
  },
  {
   "cell_type": "code",
   "execution_count": null,
   "metadata": {
    "vscode": {
     "languageId": "wolfram"
    }
   },
   "outputs": [],
   "source": [
    "I4[u_] = Simplify[Collect[Simplify[integral4Infs[u] - integral4r1[u], {u ∈ Reals, u > 0}], (425 + 366*u^4 + 37*u^8)]]"
   ]
  },
  {
   "cell_type": "code",
   "execution_count": null,
   "metadata": {
    "vscode": {
     "languageId": "wolfram"
    }
   },
   "outputs": [],
   "source": [
    "TeXForm[I4[u]]"
   ]
  },
  {
   "cell_type": "markdown",
   "metadata": {},
   "source": [
    "## Сравнение Integrate и аналитической $I_4(u)$"
   ]
  },
  {
   "cell_type": "code",
   "execution_count": null,
   "metadata": {
    "vscode": {
     "languageId": "wolfram"
    }
   },
   "outputs": [],
   "source": [
    "Show[\n",
    "  Plot[\n",
    "    N[I4[u]],\n",
    "    {u, 0, 100},\n",
    "    PlotLabel -> Subscript[\"I\", 4][u],\n",
    "    AxesLabel -> {\"u\", Subscript[\"I\", 4]},\n",
    "    PlotLegends -> {Subscript[\"I\", 4][u]},\n",
    "    ScalingFunctions -> {\"SignedLog\", \"SignedLog\"}\n",
    "  ],\n",
    "  ListPlot[\n",
    "    points,\n",
    "    (* Joined -> True, *)\n",
    "    Mesh -> All,\n",
    "    PlotStyle -> {Red, Dashed},\n",
    "    PlotLegends -> {Subscript[\"Integrate I\", 4][u]},\n",
    "    ScalingFunctions -> {\"SignedLog\", \"SignedLog\"}\n",
    "  ]\n",
    "]"
   ]
  },
  {
   "cell_type": "code",
   "execution_count": null,
   "metadata": {
    "vscode": {
     "languageId": "wolfram"
    }
   },
   "outputs": [],
   "source": [
    "points01 = Table[{u, N[Integrate[integrand4[u, r], {r, r1[u], Infinity}]]}, {u, 0.02, 1, 0.05}];\n",
    "Show[\n",
    "  Plot[\n",
    "    N[I4[u]],\n",
    "    {u, 0, 1},\n",
    "    PlotLabel -> Subscript[\"I\", 4][u],\n",
    "    AxesLabel -> {\"u\", Subscript[\"I\", 4]},\n",
    "    PlotLegends -> {Subscript[\"I\", 4][u]},\n",
    "    ScalingFunctions -> {\"SignedLog\", \"SignedLog\"}\n",
    "  ],\n",
    "  ListPlot[\n",
    "    points01,\n",
    "    (* Joined -> True, *)\n",
    "    Mesh -> All,\n",
    "    PlotStyle -> {Red, Dashed},\n",
    "    PlotLegends -> {Subscript[\"Integrate I\", 4][u]},\n",
    "    ScalingFunctions -> {\"SignedLog\", \"SignedLog\"}\n",
    "  ]\n",
    "]"
   ]
  }
 ],
 "metadata": {
  "kernelspec": {
   "display_name": "Wolfram Language 14.2",
   "language": "Wolfram Language",
   "name": "wolframlanguage14.2"
  },
  "language_info": {
   "codemirror_mode": "mathematica",
   "file_extension": ".m",
   "mimetype": "application/vnd.wolfram.m",
   "name": "Wolfram Language",
   "pygments_lexer": "mathematica",
   "version": "12.0"
  }
 },
 "nbformat": 4,
 "nbformat_minor": 2
}
