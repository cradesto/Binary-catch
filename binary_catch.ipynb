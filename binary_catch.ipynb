{
 "cells": [
  {
   "cell_type": "markdown",
   "metadata": {},
   "source": [
    "# Binary catch\n",
    "\n",
    "**При каких условиях два тела, налетающие друг на друга с бесконечности (в системе центра масс) станут связной системой из-за испускания гравволн?**"
   ]
  },
  {
   "cell_type": "code",
   "execution_count": 10,
   "metadata": {
    "vscode": {
     "languageId": "wolfram"
    }
   },
   "outputs": [
    {
     "name": "stdout",
     "output_type": "stream",
     "text": [
      "  (CleanSlate) Contexts purged: {Global`}\n",
      "  (CleanSlate) Approximate kernel memory recovered: 3 Kb\n"
     ]
    }
   ],
   "source": [
    "(* https://mathematica.stackexchange.com/questions/850/how-do-i-clear-all-user-defined-symbols/861#861 *)\n",
    "<< Utilities`CleanSlate`\n",
    "CleanSlate[];\n",
    "\n",
    "ClearAll[\"Global`*\"]\n",
    "(* ClearSystemCache[] *)\n",
    "(* https://mathematica.stackexchange.com/questions/111605/quit-vs-clearallglobal *)\n",
    "if[Length[Names[\"Global`*\"]] > 0, Remove[\"Global`*\"]];\n",
    "\n",
    "(* PacletInstall[\n",
    "    \"TensorSimplify\",\n",
    "\n",
    "    \"Site\" -> \"http://raw.githubusercontent.com/carlwoll/TensorSimplify/master\"\n",
    "]; *)\n",
    "<<TensorSimplify`"
   ]
  },
  {
   "cell_type": "markdown",
   "metadata": {},
   "source": [
    "## Einstein Summation"
   ]
  },
  {
   "cell_type": "code",
   "execution_count": 19,
   "metadata": {
    "vscode": {
     "languageId": "wolfram"
    }
   },
   "outputs": [],
   "source": [
    "ClearAll@EinsteinSummation\n",
    "\n",
    "EinsteinSummation[in_List, arrays_] := Module[\n",
    "  {res =\n",
    "    isum[in -> Cases[Tally @ Flatten @ in, {_, 1}][[All, 1]], arrays]},\n",
    "  res /; res =!= $Failed\n",
    "  ]\n",
    "\n",
    "EinsteinSummation[in_List -> out_, arrays_] := Module[\n",
    "  {res = isum[in -> out, arrays]},\n",
    "  res /; res =!= $Failed\n",
    "  ]\n",
    "\n",
    "isum[in_List -> out_, arrays_List] := Catch@Module[\n",
    "  {indices, contracted, uncontracted, contractions, transpose},\n",
    "  If[Length[in] != Length[arrays],\n",
    "    Message[EinsteinSummation::length, Length[in], Length[arrays]];\n",
    "    Throw[$Failed]];\n",
    "  MapThread[\n",
    "    If[IntegerQ@TensorRank[#1] && Length[#1] != TensorRank[#2],\n",
    "      Message[EinsteinSummation::shape, #1, #2];\n",
    "      Throw[$Failed]] &, {in, arrays}];\n",
    "  indices = Tally[Flatten[in, 1]];\n",
    "  If[DeleteCases[indices, {_, 1 | 2}] =!= {},\n",
    "    Message[EinsteinSummation::repeat,\n",
    "      Cases[indices, {x_, Except[1 | 2]} :> x]];\n",
    "    Throw[$Failed]];\n",
    "  uncontracted = Cases[indices, {x_, 1} :> x];\n",
    "  If[Sort[uncontracted] =!= Sort[out],\n",
    "    Message[EinsteinSummation::output, uncontracted, out];\n",
    "    Throw[$Failed]];\n",
    "  contracted = Cases[indices, {x_, 2} :> x];\n",
    "  contractions = Flatten[Position[Flatten[in, 1], #]] & /@ contracted;\n",
    "  transpose = FindPermutation[uncontracted, out];\n",
    "  Activate@\n",
    "    TensorTranspose[\n",
    "      TensorContract[Inactive[TensorProduct] @@ arrays, contractions],\n",
    "    transpose]]\n",
    "\n",
    "EinsteinSummation::length =\n",
    "  \"Number of index specifications (`1`) does not match the number of \\\n",
    "tensors (`2`)\";\n",
    "EinsteinSummation::shape =\n",
    "  \"Index specification `1` does not match the tensor rank of `2`\";\n",
    "EinsteinSummation::repeat =\n",
    "  \"Index specifications `1` are repeated more than twice\";\n",
    "EinsteinSummation::output =\n",
    "  \"The uncontracted indices don't match the desired output\";"
   ]
  },
  {
   "cell_type": "code",
   "execution_count": 27,
   "metadata": {
    "vscode": {
     "languageId": "wolfram"
    }
   },
   "outputs": [],
   "source": [
    "(* Правила для скрытия аргументов в TraditionalForm *)\n",
    "\n",
    "Unprotect[Subscript, OverHat, Derivative];\n",
    "\n",
    "MakeBoxes[OverHat[r_][OverHat[t]], TraditionalForm] :=\n",
    "  MakeBoxes[OverHat[r], TraditionalForm]\n",
    "\n",
    "MakeBoxes[\\[Phi][OverHat[t]], TraditionalForm] :=\n",
    "  MakeBoxes[\\[Phi], TraditionalForm]\n",
    "\n",
    "MakeBoxes[Subscript[OverHat[r], n_][OverHat[t]], TraditionalForm] :=\n",
    "  SubscriptBox[OverscriptBox[\"r\", \"^\"], ToString[n]];\n",
    "\n",
    "MakeBoxes[OverHat[\\[Omega]][OverHat[t]], TraditionalForm] :=\n",
    "  OverscriptBox[\"\\[Omega]\", \"^\"];\n",
    "\n",
    "MakeBoxes[Derivative[n_][f_][OverHat[t]], TraditionalForm] := Module[{primes},\n",
    "  primes = StringJoin[Table[\"\\[Prime]\", n]];\n",
    "  SuperscriptBox[ToBoxes[f], primes]\n",
    "];\n",
    "\n",
    "Protect[Subscript, OverHat, Derivative];"
   ]
  },
  {
   "cell_type": "markdown",
   "metadata": {},
   "source": [
    "$\\hat{r}_k$"
   ]
  },
  {
   "cell_type": "code",
   "execution_count": 36,
   "metadata": {
    "vscode": {
     "languageId": "wolfram"
    }
   },
   "outputs": [
    {
     "data": {
      "text/html": [
       "<div><img alt=\"Output\" src=\"data:image/png;base64,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\"></div>"
      ],
      "text/plain": [
       "FormBox[TagBox[RowBox[{\"(\", \"⁠\", \n",
       "\n",
       " \n",
       ">         TagBox[GridBox[{{RowBox[{OverscriptBox[\"r\", \"^\"], \" \", \n",
       "\n",
       " \n",
       ">               RowBox[{\"cos\", \"(\", \"ϕ\", \")\"}]}]}, \n",
       "\n",
       " \n",
       ">            {RowBox[{OverscriptBox[\"r\", \"^\"], \" \", RowBox[{\"sin\", \"(\", \"ϕ\", \")\"}]}]}}, \n",
       "\n",
       " \n",
       ">           Rule[RowSpacings, 1], Rule[ColumnAlignments, Center], \n",
       "\n",
       " \n",
       ">           Rule[ColumnAlignments, Left]], Column], \"⁠\", \")\"}], \n",
       "\n",
       " \n",
       ">       Function[BoxForm`e$, MatrixForm[BoxForm`e$]]], TraditionalForm]\n"
      ]
     },
     "execution_count": 36,
     "metadata": {
      "text/html": [],
      "text/plain": []
     },
     "output_type": "execute_result"
    }
   ],
   "source": [
    "rh = {OverHat[r][OverHat[t]]*Cos[\\[Phi][OverHat[t]]], OverHat[r][OverHat[t]]*Sin[\\[Phi][OverHat[t]]]};\n",
    "rh // MatrixForm // TraditionalForm"
   ]
  },
  {
   "cell_type": "code",
   "execution_count": 37,
   "metadata": {
    "vscode": {
     "languageId": "wolfram"
    }
   },
   "outputs": [],
   "source": [
    "$Assumptions = {\n",
    "  {OverHat[r][OverHat[t]], OverHat[t], rh, Subscript[OverHat[r],2][OverHat[t]]} \\[Element] PositiveReals\n",
    "};"
   ]
  },
  {
   "cell_type": "markdown",
   "metadata": {},
   "source": [
    "## Система движения в декартовых координатах\n",
    "$$\n",
    "\\frac{d^2r_k}{dt^2} = -\\frac{G(m_A+m_B)}{r^3}r_k - \\frac{2}{5}f_{ki}^{(5)}r_i\n",
    "$$\n",
    "\n",
    "Ч.Мизнер, К.Торн, Дж.Уилер Гравтация, Т.3, §36.8, стр. 222\n",
    "\n",
    "$f_{ki}$ - квадрупольный момент системы."
   ]
  },
  {
   "cell_type": "markdown",
   "metadata": {},
   "source": [
    "Введём обозначения для полноый и приведённой масс\n",
    "\n",
    "$$\n",
    "M=m_A+m_B; \\quad\n",
    "\\mu = m_{AB} = \\frac{m_A m_B}{M}\n",
    "$$"
   ]
  },
  {
   "cell_type": "markdown",
   "metadata": {},
   "source": [
    "### Безразмерные единицы\n",
    "$$\n",
    "\\begin{align}\n",
    "r &= b\\hat{r} \\\\\n",
    "t &= t_0\\hat{t} \\\\\n",
    "f_{ij} &= b^2\\frac{G}{c^5}\\mu\\hat{f}_{ij} \\\\\n",
    "f_{ij}^{(5)} &= \\frac{b^2}{t_0^5}\\frac{G}{c^5}\\mu\\hat{f}_{ij}^{(5)}\n",
    "\\end{align}\n",
    "$$"
   ]
  },
  {
   "cell_type": "markdown",
   "metadata": {},
   "source": [
    "$\\hat{f}_{ki}$"
   ]
  },
  {
   "cell_type": "code",
   "execution_count": 39,
   "metadata": {
    "vscode": {
     "languageId": "wolfram"
    }
   },
   "outputs": [
    {
     "data": {
      "text/html": [
       "<div><img alt=\"Output\" src=\"data:image/png;base64,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\"></div>"
      ],
      "text/plain": [
       "FormBox[TagBox[RowBox[{\"(\", \"⁠\", \n",
       "\n",
       " \n",
       ">         GridBox[{{RowBox[{FractionBox[\"1\", \"6\"], \" \", \n",
       "\n",
       " \n",
       ">              SuperscriptBox[OverscriptBox[\"r\", \"^\"], \"2\"], \" \", \n",
       "\n",
       " \n",
       ">              RowBox[{\"(\", RowBox[{RowBox[{\"3\", \" \", \n",
       "\n",
       " \n",
       ">                    RowBox[{\"cos\", \"(\", RowBox[{\"2\", \" \", \"ϕ\"}], \")\"}]}], \"+\",\\\n",
       " \n",
       ">    \"1\"}]\\\n",
       ", \")\"}]}], RowBox[{SuperscriptBox[OverscriptBox[\"r\", \"^\"], \"2\"], \" \", \n",
       "\n",
       " \n",
       ">              RowBox[{\"sin\", \"(\", \"ϕ\", \")\"}], \" \", RowBox[{\"cos\", \"(\", \"ϕ\", \")\"}]}]}, \n",
       "\n",
       " \n",
       ">           {RowBox[{SuperscriptBox[OverscriptBox[\"r\", \"^\"], \"2\"], \" \", \n",
       "\n",
       " \n",
       ">              RowBox[{\"sin\", \"(\", \"ϕ\", \")\"}], \" \", RowBox[{\"cos\", \"(\", \"ϕ\", \")\"}]}], \n",
       "\n",
       " \n",
       ">            RowBox[{FractionBox[\"1\", \"3\"], \" \", \n",
       "\n",
       " \n",
       ">              SuperscriptBox[OverscriptBox[\"r\", \"^\"], \"2\"], \" \", \n",
       "\n",
       " \n",
       ">              RowBox[{\"(\", RowBox[{RowBox[{\"3\", \" \", \n",
       "\n",
       " \n",
       ">                    RowBox[{SuperscriptBox[\"sin\", \"2\"], \"(\", \"ϕ\", \")\"}]}], \"-\", \"1\"}], \n",
       "\n",
       " \n",
       ">                \")\"}]}]}}, Rule[RowSpacings, 1], Rule[ColumnSpacings, 1], \n",
       "\n",
       " \n",
       ">          Rule[RowAlignments, Baseline], Rule[ColumnAlignments, Center]], \"⁠\", \")\"}], \n",
       "\n",
       " \n",
       ">       Function[BoxForm`e$, MatrixForm[BoxForm`e$]]], TraditionalForm]\n"
      ]
     },
     "execution_count": 39,
     "metadata": {
      "text/html": [],
      "text/plain": []
     },
     "output_type": "execute_result"
    }
   ],
   "source": [
    "fh = Simplify[Array[rh[[#]]*rh[[#2]] - 1/3*KroneckerDelta[#, #2]*(OverHat[r][OverHat[t]])^2 &, {2, 2}], Trig -> True];\n",
    "fh // MatrixForm // TraditionalForm"
   ]
  },
  {
   "cell_type": "markdown",
   "metadata": {},
   "source": [
    "$\\hat{f}_{ki}^{(5)}$"
   ]
  },
  {
   "cell_type": "code",
   "execution_count": 43,
   "metadata": {
    "vscode": {
     "languageId": "wolfram"
    }
   },
   "outputs": [
    {
     "data": {
      "text/html": [
       "<div><img alt=\"Output\" src=\"data:image/png;base64,iVBORw0KGgoAAAANSUhEUgAAAHEAAAA6CAIAAAAIgyEoAAAAzXpUWHRSYXcgcHJvZmlsZSB0eXBlIGV4aWYAAHjabU9BDgMhCLz7ij4BQQd9jrvrJv1Bn19U0samk8gMI6CE/nre4THAkULKWlABMqSaKjcThRYWR6ozTqiz5ZsfpLnfzMrfC3T3j91XLObyM4h4CRkvmJbkDT5IePnRHzy8nlsp+yChDaDP1//mSZSRETVZTEyqqKZLMGmEzJQVN07ACiMupnQad6haG3RUSBuNA9x1r+4BYsY1VpBxsjRjsRiFeTg8HVgUiXz47VwkvAFLL1qpvUPYogAAAAlwSFlzAAAOxAAADsQBlSsOGwAAADx0RVh0U29mdHdhcmUAQ3JlYXRlZCB3aXRoIHRoZSBXb2xmcmFtIExhbmd1YWdlIDogd3d3LndvbGZyYW0uY29tXKKmhQAAACF0RVh0Q3JlYXRpb24gVGltZQAyMDI1OjAzOjEyIDIyOjA2OjMxywy+fQAACA5JREFUeJztnG1IU+8bx6+dmSNjGW2DZSaaNSgYTjLNzHSEZPlKK00hiiQLwh5FKqLIyAjthVSEK3pRWPRAvREbysisiGazzVrTtNQemLjphutUe3Dn/+L423+57WznnHtuP35+37jd932u68O1c9/buc/XA0TkJJPJBAKBUCgUCoUvXryIIImv2LABrdH19fULFy589+4draMCaffu3UjikIoeNgy8pNPpVCoVBFBXV1d3d3dbW9vx48dtNlugYUHV09Pz/v17ABAKhd7tarV6YGCAWcxIsWk0mq6urpmtnup2dHQcOHCAovwPHz6cmpoiCMJoNHZ2djL7DMfHx8+fP08QhNvtLioqamho2LFjR0lJicViIQjixIkTdrudQdgIsp0+ffrBgwfeLdM1NZlMubm5OI5TZ21ubt67d++qVasOHz7sdrsZcCsUiqdPn5Lcg4ODZKNcLq+pqfHuZSaWeMzYXC5XYWHh58+fPS3Tc7+mpqa0tDQuLo5iXjx+/LixsfHGjRtXrlxRKpU/f/5kMLmGh4fFYjEAcDic1NRUsjE9Pd1gMACAWCweGhpiEBYJHjM2LpdbVVW1f/9+TwsGACaT6d69e2VlZdQp6+rqiouLMQzbtGlTX18fn8+nCw0AfD4fx3EAuH///qVLl8hGjUazbt06AMBxnFlYJHiM2YqKijQaTW9vL/kWAwClUpmfny8SiSjydXR06HS6zZs30wWdodzcXL1eDwDr169/9erVyZMnL1y4IJVKa2pqAMBgMOTk5DAIiwSPMVtsbGxxcbFSqZx+TxBEeXl5bW1toFXG4XBUVFQkJydzOJyysrKdO3d+/PiR7lLlraamJofD4ds+OTmpUCjoRkOLx5itqalJLpeTr4EgCLFY3NzcTJ0sLy9PIpEwRf1LU1NTAwMDvu39/f2MY6LCY8zW2to6b9488vPA3G732NhYUlIS9bzQ6XSZmZlsZpZHGIatWLHCt10ikTCOiQqPMVtSUpLT6RwfHwcAzGKxuN3uBQsWUBwwPDxstVqzsrLY4IZP0YBHFtBsNgMANjExAQDz58+nOECr1QIAqvMUuaIBjyzg9HlK/gla09jY2LS0tNnho6towCMLOH2e/vnzBwC4XC7FAVqtViaT8Xi82eGjq2jAi4mJAYDfv38D+fs0qLRabdROfIg+vOA1tVqtIyMj2dnZvl16vb6qqqqystJut5eXl+/atSv0XlRihofj+NmzZ5OTkx0OBwAcOnTo5s2byJiePXsGAAaDIdAvr87OTgD4/v27394vX74kJiZevXp1cnLSd9uGuheJGOO53e5FixaRex8ZGRmfPn1ig0FuMN65c4cgiJigRddqtVKpdOnSpX57U1JSeDxeamqq32th6l4kYozH4XAkEonRaIyLi1u7du3KlStRIQWc+xaLpbCwcHR09O3btwcPHgw0zGq1xsTEGI1GBr1shARv2bJlExMTt2/fPnfuHEK2gDXl8Xh2u72kpCQhIWHfvn2+A6xWK47j169fP3bsmEql+vbtW39/v8PhSElJ+fr1q99ehNws8cgxS5Ys6e3tFQgE1PtHtBV0PQ2kurq6NWvW6PV6i8UilUrr6+vJdplMplarA/XOmqjxyNdnzpzJyspyuVzs03mvp8xr6leTk5PV1dVIQoVDM/Cqqqra29uRRPauaUi/T0OXzWa7fPky2pgI5cFTq9Uul0soFBYUFCDPEvx7n5YSEhLQBkQrEs/tdldUVGRkZFy7di0cWRDX9F8hDMMGBwfDGD98of+zmqspes3VFL3maopeczVFr7maolcka5qeni4UCkUikUgkevnyZQRJfMWGjV5NL168GB8fT95TY6+0tDSz2WwymUwm04YNG9gHRIjHho1GTaPZf4oKDwkbjZqOjY09evQoJyenpaWlp6cn9AO9NTEx0dbWJpVKCYLo6+trbGwsLS3dtm2b1WrNzMy8desWeTODgdjjIWNDuy8VVGH1n0aQjfm+lEKhqKysXL169ZEjRwiCoH8qhNF/yh4PFRuNmiLx9IbPf8oeDxUbjZoi8fSGyX+KBA8ZW4jraXt7OwCoVCr2yxZa/ykpVHiM2ejdO0Hu6UXrP0WLx5iNyf0ohJ7ecCjieH9973M4nFCWCISe3nAoSvDIYmLk/++4XC6KodFgmqVQNOA5nU74x9mLLV68GP4x+QVSNJhmKRQNeGQByStaTCAQQAg1jbhplkLRgEcWkCwmFh8fz+VyqTcdosE0S6FowCMLOH2ecjicxMRE6qsuCtNsxDyewfCosyNnGxoaiouLIxdSIAiisrKSvED2K4vFAgAtLS2BBsyax5MuHnV2tGwNDQ1FRUXkawwAtm7dqlarA30COp0OAPLy8gIN8PZ4xsbGend5PJ6jo6NoPZ6h4FFnR8vW3d29ZcsW8jUGAAUFBRqNZmRkxO9oatMsRMjjGSIedXZUbDabrbW19a+a8vn8o0eP3r1713tcKKZZX4/nhw8fvA2eEDaPZ4ie3hnZw+Q/ffLkyfbt25cvXz79nlwCfv36tXHjxrGxMc8CgeN4fn5+dnZ2bW0t+QgHX/n1eHobPAmkHk9vhYLnNzty/ymO43K53Gw2e1r+/+wOvV6/Z88elgl8/acIPZ4MNCN7OPyn1dXVr1+/9m7567k9RqPx+fPnbBL8+PHDs1f25s0bp9N56tQpNgEZy292Dx4qtp6eHt99LHrPQgpdU1NTqampZWVl3pNi1kSdPdxsHILRbaU5Ueh/J1PXtmyizZsAAAAASUVORK5CYII=\"></div>"
      ],
      "text/plain": [
       "FormBox[TagBox[RowBox[{\"(\", \"⁠\", \n",
       "\n",
       " \n",
       ">         GridBox[{{TemplateBox[List[SubscriptBox[OverscriptBox[\"f\", \"^\"], \n",
       "\n",
       " \n",
       ">               RowBox[List[\"x\", \",\", \"x\"]]], \"\\\"(5)\\\"\"], \"Superscript\", \n",
       "\n",
       " \n",
       ">             Rule[SyntaxForm, SuperscriptBox]], \n",
       "\n",
       " \n",
       ">            TemplateBox[List[SubscriptBox[OverscriptBox[\"f\", \"^\"], \n",
       "\n",
       " \n",
       ">               RowBox[List[\"x\", \",\", \"y\"]]], \"\\\"(5)\\\"\"], \"Superscript\", \n",
       "\n",
       " \n",
       ">             Rule[SyntaxForm, SuperscriptBox]]}, \n",
       "\n",
       " \n",
       ">           {TemplateBox[List[SubscriptBox[OverscriptBox[\"f\", \"^\"], \n",
       "\n",
       " \n",
       ">               RowBox[List[\"x\", \",\", \"y\"]]], \"\\\"(5)\\\"\"], \"Superscript\", \n",
       "\n",
       " \n",
       ">             Rule[SyntaxForm, SuperscriptBox]], \n",
       "\n",
       " \n",
       ">            TemplateBox[List[SubscriptBox[OverscriptBox[\"f\", \"^\"], \n",
       "\n",
       " \n",
       ">               RowBox[List[\"y\", \",\", \"y\"]]], \"\\\"(5)\\\"\"], \"Superscript\", \n",
       "\n",
       " \n",
       ">             Rule[SyntaxForm, SuperscriptBox]]}}, Rule[RowSpacings, 1], \n",
       "\n",
       " \n",
       ">          Rule[ColumnSpacings, 1], Rule[RowAlignments, Baseline], \n",
       "\n",
       " \n",
       ">          Rule[ColumnAlignments, Center]], \"⁠\", \")\"}], \n",
       "\n",
       " \n",
       ">       Function[BoxForm`e$, MatrixForm[BoxForm`e$]]], TraditionalForm]\n"
      ]
     },
     "execution_count": 43,
     "metadata": {
      "text/html": [],
      "text/plain": []
     },
     "output_type": "execute_result"
    }
   ],
   "source": [
    "(* fh5 = Array[Superscript[Subscript[OverHat[f], {x, y}[[#1]], {x, y}[[#2]]], \"(5)\"] &, {2, 2}] *)\n",
    "(* Symmetric version *)\n",
    "fh5 = Array[If[#1 <= #2,\n",
    "                    Superscript[Subscript[OverHat[f], {x, y}[[#1]], {x, y}[[#2]]], \"(5)\"],\n",
    "                    Superscript[Subscript[OverHat[f], {x, y}[[#2]], {x, y}[[#1]]], \"(5)\"]] &, {2, 2}];\n",
    "fh5 // MatrixForm // TraditionalForm"
   ]
  },
  {
   "cell_type": "markdown",
   "metadata": {},
   "source": [
    "$\\hat{f}_{ki}^{(5)}\\hat{r}_i$"
   ]
  },
  {
   "cell_type": "code",
   "execution_count": 45,
   "metadata": {
    "vscode": {
     "languageId": "wolfram"
    }
   },
   "outputs": [
    {
     "data": {
      "text/html": [
       "<div><img alt=\"Output\" src=\"data:image/png;base64,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\"></div>"
      ],
      "text/plain": [
       "FormBox[TagBox[RowBox[{\"(\", \"⁠\", \n",
       "\n",
       " \n",
       ">         TagBox[GridBox[{{RowBox[{RowBox[{OverscriptBox[\"r\", \"^\"], \" \", \n",
       "\n",
       " \n",
       ">                 RowBox[{\"sin\", \"(\", \"ϕ\", \")\"}], \" \", \n",
       "\n",
       " \n",
       ">                 TemplateBox[List[SubscriptBox[OverscriptBox[\"f\", \"^\"], \n",
       "\n",
       " \n",
       ">                    RowBox[List[\"x\", \",\", \"y\"]]], \"\\\"(5)\\\"\"], \"Superscript\", \n",
       "\n",
       " \n",
       ">                  Rule[SyntaxForm, SuperscriptBox]]}], \"+\", \n",
       "\n",
       " \n",
       ">               RowBox[{OverscriptBox[\"r\", \"^\"], \" \", RowBox[{\"cos\", \"(\", \"ϕ\", \")\"}], \n",
       "\n",
       " \n",
       ">                 \" \", TemplateBox[List[SubscriptBox[OverscriptBox[\"f\", \"^\"], \n",
       "\n",
       " \n",
       ">                    RowBox[List[\"x\", \",\", \"x\"]]], \"\\\"(5)\\\"\"], \"Superscript\", \n",
       "\n",
       " \n",
       ">                  Rule[SyntaxForm, SuperscriptBox]]}]}]}, \n",
       "\n",
       " \n",
       ">            {RowBox[{RowBox[{OverscriptBox[\"r\", \"^\"], \" \", \n",
       "\n",
       " \n",
       ">                 RowBox[{\"cos\", \"(\", \"ϕ\", \")\"}], \" \", \n",
       "\n",
       " \n",
       ">                 TemplateBox[List[SubscriptBox[OverscriptBox[\"f\", \"^\"], \n",
       "\n",
       " \n",
       ">                    RowBox[List[\"x\", \",\", \"y\"]]], \"\\\"(5)\\\"\"], \"Superscript\", \n",
       "\n",
       " \n",
       ">                  Rule[SyntaxForm, SuperscriptBox]]}], \"+\", \n",
       "\n",
       " \n",
       ">               RowBox[{OverscriptBox[\"r\", \"^\"], \" \", RowBox[{\"sin\", \"(\", \"ϕ\", \")\"}], \n",
       "\n",
       " \n",
       ">                 \" \", TemplateBox[List[SubscriptBox[OverscriptBox[\"f\", \"^\"], \n",
       "\n",
       " \n",
       ">                    RowBox[List[\"y\", \",\", \"y\"]]], \"\\\"(5)\\\"\"], \"Superscript\", \n",
       "\n",
       " \n",
       ">                  Rule[SyntaxForm, SuperscriptBox]]}]}]}}, Rule[RowSpacings, 1], \n",
       "\n",
       " \n",
       ">           Rule[ColumnAlignments, Center], Rule[ColumnAlignments, Left]], Column], \"⁠\",\\\n",
       " \n",
       ">    \n",
       "      \")\"}], Function[BoxForm`e$, MatrixForm[BoxForm`e$]]], TraditionalForm]\n"
      ]
     },
     "execution_count": 45,
     "metadata": {
      "text/html": [],
      "text/plain": []
     },
     "output_type": "execute_result"
    }
   ],
   "source": [
    "fh5rh = EinsteinSummation[{{k, i}, {i}}, {fh5, rh}];\n",
    "fh5rh // MatrixForm // TraditionalForm"
   ]
  },
  {
   "cell_type": "markdown",
   "metadata": {},
   "source": [
    "Система движения в безразмерной записи будет выглядеть как"
   ]
  },
  {
   "cell_type": "markdown",
   "metadata": {},
   "source": [
    "$$\n",
    "\\frac{d^2\\hat{r}_k}{d\\hat{t}^2} = -\\frac{t_0^2}{b^3}\\frac{GM}{\\hat{r}^3}\\hat{r}_k - \\frac{2}{5}\\frac{b^2}{t_0^3}\\frac{G}{c^5}\\mu\\hat{f}_{ki}^{(5)}\\hat{r}_i\n",
    "$$"
   ]
  },
  {
   "cell_type": "markdown",
   "metadata": {},
   "source": [
    "Пусть $t_0 = \\sqrt{\\frac{b^3}{GM}}$, а $b$ - прицельное расстояние, тогда система движения перепишется как\n",
    "\n",
    "$$\n",
    "\\frac{d^2\\hat{r}_k}{d\\hat{t}^2} + \\frac{\\hat{r}_k}{\\hat{r}^3} = - \\epsilon_G\\hat{f}_{ki}^{(5)}\\hat{r}_i\\quad,\n",
    "$$\n",
    "или\n",
    "$$\n",
    "\\hat{r}_k^{(2)} + \\frac{\\hat{r}_k}{\\hat{r}^3} = - \\epsilon_G\\hat{f}_{ki}^{(5)}\\hat{r}_i\\quad,\n",
    "$$\n",
    "\n",
    "где безразмерная постоянная $\\epsilon_G = \\frac{2}{5}\\frac{b^2}{t_0^3}\\frac{G}{c^5}\\mu = \\frac{2}{5}\\frac{\\mu}{M} \\left( \\frac{GM}{bc^2} \\right)^{\\frac{5}{2}}$.\n",
    "\n",
    "Заметим, что $f_{ij}^{(5)} = \\frac{5}{2}\\frac{\\epsilon_G}{t_0^2}\\hat{f}_{ij}^{(5)}$"
   ]
  },
  {
   "cell_type": "markdown",
   "metadata": {},
   "source": [
    "## Переход к полярным координатам от декартовых\n",
    "Повернём систему с помощью матрицы вращения $R_{ij}(\\phi)$ на угол $\\phi$ по **часовой** стрелке"
   ]
  },
  {
   "cell_type": "code",
   "execution_count": 46,
   "metadata": {
    "vscode": {
     "languageId": "wolfram"
    }
   },
   "outputs": [
    {
     "data": {
      "text/html": [
       "<div><img alt=\"Output\" src=\"data:image/png;base64,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\"></div>"
      ],
      "text/plain": [
       "FormBox[TagBox[RowBox[{\"(\", \"⁠\", \n",
       "\n",
       " \n",
       ">         GridBox[{{RowBox[{\"cos\", \"(\", \"ϕ\", \")\"}], RowBox[{\"sin\", \"(\", \"ϕ\", \")\"}]}, \n",
       "\n",
       " \n",
       ">           {RowBox[{\"-\", RowBox[{\"sin\", \"(\", \"ϕ\", \")\"}]}], \n",
       "\n",
       " \n",
       ">            RowBox[{\"cos\", \"(\", \"ϕ\", \")\"}]}}, Rule[RowSpacings, 1], \n",
       "\n",
       " \n",
       ">          Rule[ColumnSpacings, 1], Rule[RowAlignments, Baseline], \n",
       "\n",
       " \n",
       ">          Rule[ColumnAlignments, Center]], \"⁠\", \")\"}], \n",
       "\n",
       " \n",
       ">       Function[BoxForm`e$, MatrixForm[BoxForm`e$]]], TraditionalForm]\n"
      ]
     },
     "execution_count": 46,
     "metadata": {
      "text/html": [],
      "text/plain": []
     },
     "output_type": "execute_result"
    }
   ],
   "source": [
    "RotationMatrix[-\\[Phi]] // MatrixForm // TraditionalForm"
   ]
  },
  {
   "cell_type": "markdown",
   "metadata": {},
   "source": [
    "#### LHS системы после поворота"
   ]
  },
  {
   "cell_type": "code",
   "execution_count": 48,
   "metadata": {
    "vscode": {
     "languageId": "wolfram"
    }
   },
   "outputs": [
    {
     "data": {
      "text/html": [
       "<div><img alt=\"Output\" src=\"data:image/png;base64,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\"></div>"
      ],
      "text/plain": [
       "FormBox[TagBox[RowBox[{\"(\", \"⁠\", \n",
       "      TagBox[GridBox[{{RowBox[{RowBox[{\"-\", \n",
       "\n",
       " \n",
       ">                 RowBox[{\"2\", \" \", SuperscriptBox[OverscriptBox[\"r\", \"^\"], \"′\"], \n",
       "\n",
       " \n",
       ">                   \" \", SuperscriptBox[\"ϕ\", \"′\"], \" \", \n",
       "\n",
       " \n",
       ">                   RowBox[{\"sin\", \"(\", \"ϕ\", \")\"}]}]}], \"+\", \n",
       "\n",
       " \n",
       ">               RowBox[{OverscriptBox[\"r\", \"^\"], \" \", \n",
       "\n",
       " \n",
       ">                 RowBox[{\"(\", RowBox[{RowBox[{SuperscriptBox[RowBox[\n",
       "\n",
       " \n",
       ">                         {\"(\", SuperscriptBox[\"ϕ\", \"′\"], \")\"}], \"2\"], \" \", \n",
       "\n",
       " \n",
       ">                       RowBox[{\"(\", \n",
       "\n",
       " \n",
       ">                         RowBox[{\"-\", RowBox[{\"cos\", \"(\", \"ϕ\", \")\"}]}], \")\"}]}], \n",
       "\n",
       " \n",
       ">                     \"-\", RowBox[{SuperscriptBox[\"ϕ\", \"′′\"], \" \", \n",
       "\n",
       " \n",
       ">                       RowBox[{\"sin\", \"(\", \"ϕ\", \")\"}]}]}], \")\"}]}], \"+\", \n",
       "\n",
       " \n",
       ">               RowBox[{SuperscriptBox[OverscriptBox[\"r\", \"^\"], \"′′\"], \" \", \n",
       "\n",
       " \n",
       ">                 RowBox[{\"cos\", \"(\", \"ϕ\", \")\"}]}], \"+\", \n",
       "\n",
       " \n",
       ">               FractionBox[RowBox[{\"cos\", \"(\", \"ϕ\", \")\"}], \n",
       "\n",
       " \n",
       ">                SuperscriptBox[OverscriptBox[\"r\", \"^\"], \"2\"]]}]}, \n",
       "\n",
       " \n",
       ">            {RowBox[{RowBox[{\"2\", \" \", SuperscriptBox[OverscriptBox[\"r\", \"^\"], \"′\"], \n",
       "\n",
       " \n",
       ">                 \" \", SuperscriptBox[\"ϕ\", \"′\"], \" \", RowBox[{\"cos\", \"(\", \"ϕ\",\\\n",
       " \n",
       ">    \")\"}]}]\\\n",
       ", \"+\", RowBox[{OverscriptBox[\"r\", \"^\"], \" \", \n",
       "\n",
       " \n",
       ">                 RowBox[{\"(\", RowBox[{RowBox[{SuperscriptBox[\"ϕ\", \"′′\"], \" \", \n",
       "\n",
       " \n",
       ">                       RowBox[{\"cos\", \"(\", \"ϕ\", \")\"}]}], \"-\", \n",
       "\n",
       " \n",
       ">                     RowBox[{SuperscriptBox[RowBox[{\"(\", \n",
       "\n",
       " \n",
       ">                          SuperscriptBox[\"ϕ\", \"′\"], \")\"}], \"2\"], \" \", \n",
       "\n",
       " \n",
       ">                       RowBox[{\"sin\", \"(\", \"ϕ\", \")\"}]}]}], \")\"}]}], \"+\", \n",
       "\n",
       " \n",
       ">               RowBox[{SuperscriptBox[OverscriptBox[\"r\", \"^\"], \"′′\"], \" \", \n",
       "\n",
       " \n",
       ">                 RowBox[{\"sin\", \"(\", \"ϕ\", \")\"}]}], \"+\", \n",
       "\n",
       " \n",
       ">               FractionBox[RowBox[{\"sin\", \"(\", \"ϕ\", \")\"}], \n",
       "\n",
       " \n",
       ">                SuperscriptBox[OverscriptBox[\"r\", \"^\"], \"2\"]]}]}}, \n",
       "\n",
       " \n",
       ">           Rule[RowSpacings, 1], Rule[ColumnAlignments, Center], \n",
       "\n",
       " \n",
       ">           Rule[ColumnAlignments, Left]], Column], \"⁠\", \")\"}], \n",
       "\n",
       " \n",
       ">       Function[BoxForm`e$, MatrixForm[BoxForm`e$]]], TraditionalForm]\n"
      ]
     },
     "execution_count": 48,
     "metadata": {
      "text/html": [],
      "text/plain": []
     },
     "output_type": "execute_result"
    }
   ],
   "source": [
    "LHSMotion = D[rh, {OverHat[t], 2}] + Simplify[rh / Norm[rh]^3];\n",
    "LHSMotion // MatrixForm // TraditionalForm"
   ]
  },
  {
   "cell_type": "code",
   "execution_count": 49,
   "metadata": {
    "vscode": {
     "languageId": "wolfram"
    }
   },
   "outputs": [
    {
     "data": {
      "text/html": [
       "<div><img alt=\"Output\" src=\"data:image/png;base64,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\"></div>"
      ],
      "text/plain": [
       "FormBox[TagBox[RowBox[{\"(\", \"⁠\", \n",
       "      TagBox[GridBox[{{RowBox[{RowBox[{\"-\", \n",
       "\n",
       " \n",
       ">                 RowBox[{RowBox[{OverscriptBox[\"r\", \"^\"]}], \" \", \n",
       "\n",
       " \n",
       ">                   SuperscriptBox[RowBox[{\"(\", SuperscriptBox[\"ϕ\", \"′\"], \")\"}], \n",
       "\n",
       " \n",
       ">                    \"2\"]}]}], \"+\", SuperscriptBox[OverscriptBox[\"r\", \"^\"], \"′′\"], \n",
       "\n",
       " \n",
       ">               \"+\", FractionBox[\"1\", SuperscriptBox[OverscriptBox[\"r\", \"^\"],\\\n",
       " \n",
       ">    \"2\"]]}]}\\\n",
       ", {RowBox[{RowBox[{OverscriptBox[\"r\", \"^\"], \" \", SuperscriptBox[\"ϕ\",\\\n",
       " \n",
       ">    \"′′\"]}], \"+\", \n",
       "            RowBox[{\"2\", \" \", SuperscriptBox[OverscriptBox[\"r\",\\\n",
       " \n",
       ">    \"^\"], \"′\"], \" \", \n",
       "              SuperscriptBox[\"ϕ\", \"′\"]}]}]}}, Rule[RowSpacings,\\\n",
       " \n",
       ">    1], \n",
       "        Rule[ColumnAlignments, Center], Rule[ColumnAlignments, Left]],\\\n",
       " \n",
       ">    Column], \"⁠\", \n",
       "      \")\"}], Function[BoxForm`e$, MatrixForm[BoxForm`e$]]],\\\n",
       " \n",
       ">    TraditionalForm]\n"
      ]
     },
     "execution_count": 49,
     "metadata": {
      "text/html": [],
      "text/plain": []
     },
     "output_type": "execute_result"
    }
   ],
   "source": [
    "RotatedLHSMotion = Simplify[RotationMatrix[-\\[Phi][OverHat[t]]] . LHSMotion, Trig -> True] // MatrixForm // TraditionalForm"
   ]
  },
  {
   "cell_type": "markdown",
   "metadata": {},
   "source": [
    "Так как $\\hat{\\omega} \\equiv \\phi^{(1)}$, то"
   ]
  },
  {
   "cell_type": "code",
   "execution_count": 51,
   "metadata": {
    "vscode": {
     "languageId": "wolfram"
    }
   },
   "outputs": [
    {
     "data": {
      "text/html": [
       "<div><img alt=\"Output\" src=\"data:image/png;base64,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\"></div>"
      ],
      "text/plain": [
       "FormBox[TagBox[RowBox[{\"(\", \"⁠\", \n",
       "\n",
       " \n",
       ">         TagBox[GridBox[{{RowBox[{RowBox[{RowBox[{\"-\", OverscriptBox[\"r\", \"^\"]}], \n",
       "\n",
       " \n",
       ">                 \" \", SuperscriptBox[OverscriptBox[\"ω\", \"^\"], \"2\"]}], \"+\", \n",
       "\n",
       " \n",
       ">               SuperscriptBox[OverscriptBox[\"r\", \"^\"], \"′′\"], \"+\", \n",
       "\n",
       " \n",
       ">               FractionBox[\"1\", SuperscriptBox[OverscriptBox[\"r\", \"^\"], \"2\"]]}]}, \n",
       "\n",
       " \n",
       ">            {RowBox[{RowBox[{\"2\", \" \", OverscriptBox[\"ω\", \"^\"], \" \", \n",
       "\n",
       " \n",
       ">                 SuperscriptBox[OverscriptBox[\"r\", \"^\"], \"′\"]}], \"+\", \n",
       "\n",
       " \n",
       ">               RowBox[{OverscriptBox[\"r\", \"^\"], \" \", \n",
       "\n",
       " \n",
       ">                 SuperscriptBox[OverscriptBox[\"ω\", \"^\"], \"′\"]}]}]}}, \n",
       "\n",
       " \n",
       ">           Rule[RowSpacings, 1], Rule[ColumnAlignments, Center], \n",
       "\n",
       " \n",
       ">           Rule[ColumnAlignments, Left]], Column], \"⁠\", \")\"}], \n",
       "\n",
       " \n",
       ">       Function[BoxForm`e$, MatrixForm[BoxForm`e$]]], TraditionalForm]\n"
      ]
     },
     "execution_count": 51,
     "metadata": {
      "text/html": [],
      "text/plain": []
     },
     "output_type": "execute_result"
    }
   ],
   "source": [
    "OmegaReplace = Derivative[n_][\\[Phi]][OverHat[t]] :> Derivative[n-1][OverHat[\\[Omega]]][OverHat[t]];\n",
    "\n",
    "OmegaLHSMotion = RotatedLHSMotion /. OmegaReplace // TraditionalForm"
   ]
  },
  {
   "cell_type": "markdown",
   "metadata": {},
   "source": [
    "### RHS системы после поворота"
   ]
  },
  {
   "cell_type": "code",
   "execution_count": 53,
   "metadata": {
    "vscode": {
     "languageId": "wolfram"
    }
   },
   "outputs": [
    {
     "data": {
      "text/html": [
       "<div><img alt=\"Output\" src=\"data:image/png;base64,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\"></div>"
      ],
      "text/plain": [
       "FormBox[TagBox[RowBox[{\"(\", \"⁠\", \n",
       "\n",
       " \n",
       ">         TagBox[GridBox[{{RowBox[{OverscriptBox[\"r\", \"^\"], \" \", \n",
       "\n",
       " \n",
       ">               RowBox[{\"(\", RowBox[{\"-\", SubscriptBox[\"ϵ\", \"G\"]}], \")\"}], \" \", \n",
       "\n",
       " \n",
       ">               RowBox[{\"(\", RowBox[{RowBox[{RowBox[{\"sin\", \"(\", \n",
       "\n",
       " \n",
       ">                       RowBox[{\"2\", \" \", \"ϕ\"}], \")\"}], \" \", \n",
       "\n",
       " \n",
       ">                     TemplateBox[List[SubscriptBox[OverscriptBox[\"f\", \"^\"], \n",
       "\n",
       " \n",
       ">                        RowBox[List[\"x\", \",\", \"y\"]]], \"\\\"(5)\\\"\"], \"Superscript\", \n",
       "\n",
       " \n",
       ">                      Rule[SyntaxForm, SuperscriptBox]]}], \"+\", \n",
       "\n",
       " \n",
       ">                   RowBox[{RowBox[{SuperscriptBox[\"cos\", \"2\"], \"(\", \"ϕ\", \")\"}], \n",
       "\n",
       " \n",
       ">                     \" \", TemplateBox[List[SubscriptBox[OverscriptBox[\"f\", \"^\"], \n",
       "\n",
       " \n",
       ">                        RowBox[List[\"x\", \",\", \"x\"]]], \"\\\"(5)\\\"\"], \"Superscript\", \n",
       "\n",
       " \n",
       ">                      Rule[SyntaxForm, SuperscriptBox]]}], \"+\", \n",
       "\n",
       " \n",
       ">                   RowBox[{RowBox[{SuperscriptBox[\"sin\", \"2\"], \"(\", \"ϕ\", \")\"}], \n",
       "\n",
       " \n",
       ">                     \" \", TemplateBox[List[SubscriptBox[OverscriptBox[\"f\", \"^\"], \n",
       "\n",
       " \n",
       ">                        RowBox[List[\"y\", \",\", \"y\"]]], \"\\\"(5)\\\"\"], \"Superscript\", \n",
       "\n",
       " \n",
       ">                      Rule[SyntaxForm, SuperscriptBox]]}]}], \")\"}]}]}, \n",
       "\n",
       " \n",
       ">            {RowBox[{RowBox[{\"-\", FractionBox[\"1\", \"2\"]}], \" \", \n",
       "\n",
       " \n",
       ">               OverscriptBox[\"r\", \"^\"], \" \", SubscriptBox[\"ϵ\", \"G\"], \" \", \n",
       "\n",
       " \n",
       ">               RowBox[{\"(\", RowBox[{RowBox[{RowBox[{\"sin\", \"(\", \n",
       "\n",
       " \n",
       ">                       RowBox[{\"2\", \" \", \"ϕ\"}], \")\"}], \" \", \n",
       "\n",
       " \n",
       ">                     RowBox[{\"(\", RowBox[{TemplateBox[List[SubscriptBox[\n",
       "\n",
       " \n",
       ">                            OverscriptBox[\"f\", \"^\"], \n",
       "\n",
       " \n",
       ">                            RowBox[List[\"y\", \",\", \"y\"]]], \"\\\"(5)\\\"\"], \n",
       "\n",
       " \n",
       ">                          \"Superscript\", Rule[SyntaxForm, SuperscriptBox]], \"-\", \n",
       "\n",
       " \n",
       ">                         TemplateBox[List[SubscriptBox[OverscriptBox[\"f\", \"^\"], \n",
       "\n",
       " \n",
       ">                            RowBox[List[\"x\", \",\", \"x\"]]], \"\\\"(5)\\\"\"], \n",
       "\n",
       " \n",
       ">                          \"Superscript\", Rule[SyntaxForm, SuperscriptBox]]}], \")\"}]}\\\n",
       "\n",
       " \n",
       ">   ], \"+\", RowBox[{\"2\", \" \", RowBox[{\"cos\", \"(\", RowBox[{\"2\", \" \", \"ϕ\"}], \")\"}], \n",
       "\n",
       " \n",
       ">                     \" \", TemplateBox[List[SubscriptBox[OverscriptBox[\"f\", \"^\"], \n",
       "\n",
       " \n",
       ">                        RowBox[List[\"x\", \",\", \"y\"]]], \"\\\"(5)\\\"\"], \"Superscript\", \n",
       "\n",
       " \n",
       ">                      Rule[SyntaxForm, SuperscriptBox]]}]}], \")\"}]}]}}, \n",
       "\n",
       " \n",
       ">           Rule[RowSpacings, 1], Rule[ColumnAlignments, Center], \n",
       "\n",
       " \n",
       ">           Rule[ColumnAlignments, Left]], Column], \"⁠\", \")\"}], \n",
       "\n",
       " \n",
       ">       Function[BoxForm`e$, MatrixForm[BoxForm`e$]]], TraditionalForm]\n"
      ]
     },
     "execution_count": 53,
     "metadata": {
      "text/html": [],
      "text/plain": []
     },
     "output_type": "execute_result"
    }
   ],
   "source": [
    "RHSMotion = -Subscript[\\[Epsilon], G] FullSimplify[RotationMatrix[-\\[Phi][OverHat[t]]] . fh5rh, Trig -> True];\n",
    "RHSMotion // MatrixForm // TraditionalForm"
   ]
  },
  {
   "cell_type": "markdown",
   "metadata": {},
   "source": [
    "<span style=\"color:brown\">**NB:**</span> Полученные выражения <span style=\"color:green\">**совпадают**</span> с уравнениями (10) и (9) из файла Binary.pdf"
   ]
  },
  {
   "cell_type": "markdown",
   "metadata": {
    "vscode": {
     "languageId": "wolfram"
    }
   },
   "source": [
    "## Получим теперь **энергетическую** систему уравнений\n",
    "\n",
    "В задача двух тел без учёта гравитационного излучения в системе центра масс в полярных координатах радиус-вектор $\\hat{r}_k$ задаётся как:\n",
    "$$\n",
    "\\hat{r}_k = \\hat{r} e_{1k} \\quad,\n",
    "$$\n",
    "где:\n",
    "- $\\hat{r}$ — расстояние между телами,\n",
    "- $e_{1k}$ — единичный вектор в направлении $\\hat{r}_k$.\n",
    "\n",
    "Скорость в полярных координатах выражается как:\n",
    "$$\n",
    "\\hat{r}_k^{(1)} = \\hat{r}^{(1)} e_{1k} + \\hat{r} \\phi^{(1)} e_{2k} \\quad,\n",
    "$$\n",
    "где:\n",
    "- $\\hat{r}^{(1)}$ — радиальная скорость\n",
    "- $\\hat{\\omega} \\equiv \\phi^{(1)}$ — угловая скорость\n",
    "- $e_{2k}$ — единичный вектор, перпендикулярный $e_{1k}$.\n",
    "\n",
    "### **Кинетическая энергия**\n",
    "Кинетическая энергия $T$ в полярных координатах выражается через радиальную и тангенциальную составляющие скорости:\n",
    "$$\n",
    "T = \\mu\\frac{b^2}{2 t_0^2} (\\hat{r}_k^{(1)})^2 = \\mu\\frac{b^2}{2 t_0^2} \\left( (\\hat{r}^{(1)})^2 + \\hat{r}^2 \\hat{\\omega}^2 \\right) = \\frac{G \\mu M}{b} \\frac{1}{2}\\left( (\\hat{r}^{(1)})^2 + \\hat{r}^2 \\hat{\\omega}^2 \\right)\n",
    "$$\n",
    "\n",
    "### **Потенциальная энергия**\n",
    "Потенциальная энергия $U$ зависит только от расстояния $\\hat{r}$:\n",
    "- Для гравитационного взаимодействия:\n",
    "  $$\n",
    "  U = -\\frac{G m_A m_B}{b \\hat{r}} = -\\frac{G \\mu M}{b \\hat{r}}.\n",
    "  $$\n",
    "\n",
    "### **Полная энергия**\n",
    "Полная энергия $E$ в полярных координатах:\n",
    "$$\n",
    "E = T + U = \\frac{G \\mu M}{b}\\left(\\frac{(\\hat{r}^{(1)})^2}{2} + \\frac{\\hat{r}^2 \\hat{\\omega}^2}{2} - \\frac{1}{\\hat{r}}\\right) = \\frac{G \\mu M}{b} \\hat{E}\n",
    "$$\n",
    "\n",
    "Здесь $\\hat{E}$ - безразмерная энергия:"
   ]
  },
  {
   "cell_type": "code",
   "execution_count": 55,
   "metadata": {
    "vscode": {
     "languageId": "wolfram"
    }
   },
   "outputs": [
    {
     "data": {
      "text/html": [
       "<div><img alt=\"Output\" src=\"data:image/png;base64,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\"></div>"
      ],
      "text/plain": [
       "FormBox[RowBox[{RowBox[{FractionBox[\"1\", \"2\"], \" \", \n",
       "\n",
       " \n",
       ">          SuperscriptBox[OverscriptBox[\"r\", \"^\"], \"2\"], \" \", \n",
       "\n",
       " \n",
       ">          SuperscriptBox[OverscriptBox[\"ω\", \"^\"], \"2\"]}], \"+\", \n",
       "\n",
       " \n",
       ">        RowBox[{FractionBox[\"1\", \"2\"], \" \", \n",
       "\n",
       " \n",
       ">          SuperscriptBox[RowBox[{\"(\", SuperscriptBox[OverscriptBox[\"r\", \"^\"], \"′\"], \n",
       "\n",
       " \n",
       ">             \")\"}], \"2\"]}], \"-\", FractionBox[\"1\", OverscriptBox[\"r\", \"^\"]]}], \n",
       "\n",
       " \n",
       ">      TraditionalForm]\n"
      ]
     },
     "execution_count": 55,
     "metadata": {
      "text/html": [],
      "text/plain": []
     },
     "output_type": "execute_result"
    }
   ],
   "source": [
    "Energy = (D[OverHat[r][OverHat[t]], OverHat[t]])^2/2 + (OverHat[r][OverHat[t]] OverHat[\\[Omega]][OverHat[t]])^2/2 - 1/OverHat[r][OverHat[t]];\n",
    "Energy // TraditionalForm"
   ]
  },
  {
   "cell_type": "markdown",
   "metadata": {},
   "source": [
    "### **Момента импульса**\n",
    "Момент импульса $J$ в системе центра масс:\n",
    "$$\n",
    "J = \\mu\\frac{b^2}{t_0} \\hat{r}^2 \\hat{\\omega} = \\mu(G M b)^{1/2} \\hat{r}^2 \\hat{\\omega} = \\mu(G M b)^{1/2} \\hat{J}\n",
    "$$\n",
    "\n",
    "Здесь $\\hat{J}$ - безразмерный момент импульса:"
   ]
  },
  {
   "cell_type": "code",
   "execution_count": 57,
   "metadata": {
    "vscode": {
     "languageId": "wolfram"
    }
   },
   "outputs": [
    {
     "data": {
      "text/html": [
       "<div><img alt=\"Output\" src=\"data:image/png;base64,iVBORw0KGgoAAAANSUhEUgAAAB4AAAAVCAIAAADelck2AAAAzXpUWHRSYXcgcHJvZmlsZSB0eXBlIGV4aWYAAHjabU/bDQMhDPtnio6QBzgwDtejUjfo+E0O1Iqqlogd5wGk8Xo+0i0gTCkXq2gAOXLLTbqLShOTmdoVZzJWjXc/cVl+d6t8C1gDfOy+YbLUn0UkU2jc4FrzGliLVKbPfebH6pde675IaQPo8/S/eVYTFLBlj1nIDM11TS6dUISK4YE74I2MUyjfnQfMfAwWHdpjMCDD9u6RoG6c8QWNU7Q7q0dWkXDkcuBR3TlW9fpIegNPtVqqbVbrIAAAAAlwSFlzAAAOxAAADsQBlSsOGwAAADx0RVh0U29mdHdhcmUAQ3JlYXRlZCB3aXRoIHRoZSBXb2xmcmFtIExhbmd1YWdlIDogd3d3LndvbGZyYW0uY29tXKKmhQAAACF0RVh0Q3JlYXRpb24gVGltZQAyMDI1OjAzOjEyIDIyOjA2OjMyUgXvxwAAAhZJREFUOI3tlD/s6VAUx+/vpSaNIAhdrYZKGExEExK6iNisZoNBrAYxS0wGiaUEo8UgbSJ0q8mfhKQWEikDOgjt/Q1tvB9PpZL3tvedTs89+Zxv7j09XxBC8EqyLBcKhdPpdLlcZFmu1WoIgrys1BTUUL/fx3FciV0uV7PZ1KrU0i+tlgRB0DSt9JZlWRCEzyz/dF0qlUwmE8dxT80Hg4Hdbt9sNp+6VtEMwyQSieFwGA6Hj8fj/Xg6nUYikfV6/Z7y0paKbrfbkiRBCLfbLU3TSpLjuEwmI4rie66WrYdnlCRJlmUlFgQhHo/fbjfls9fraaFf2vqNLhaLBEE4HA5BENLptM1my+VyKIo6nU6n02mxWPL5/Hvvf+oLQggAkCQpmUyez2e/348gyGw2oyjKYDB8PBUvJ8Tr9Xq93sViod9XtVpttVo/M5VKZTQaPVyIKIoIgqRSKf3cdrtNkuRTkmXZaDT6gGYYBgDQ7XZ1cvf7vdVqvRv0eDzX6xVCOBwOURRVkurfOB6PEQSJRCI6r7HRaBiNxkAgAADgeR7HcWXDzOfz+6pR0SzL+nw+FEV1oieTidvtvtsiCEKJ6/V6PB5/RodCIZ1cAACGYYfDAQBwvV47nY7ZbAYAUBS1Wq3K5bJaBCHkeR7DsMFgoP8Nd7tdMBiMxWLZbHY+n8disUQiQZLkcrm816hz/S+kuVT/o/+6vgEU/V8JParcngAAAABJRU5ErkJggg==\"></div>"
      ],
      "text/plain": [
       "FormBox[RowBox[{SuperscriptBox[OverscriptBox[\"r\", \"^\"], \"2\"], \" \", \n",
       "\n",
       " \n",
       ">        OverscriptBox[\"ω\", \"^\"]}], TraditionalForm]\n"
      ]
     },
     "execution_count": 57,
     "metadata": {
      "text/html": [],
      "text/plain": []
     },
     "output_type": "execute_result"
    }
   ],
   "source": [
    "AngularMomentum = (OverHat[r][OverHat[t]])^2 OverHat[\\[Omega]][OverHat[t]];\n",
    "AngularMomentum // TraditionalForm"
   ]
  },
  {
   "cell_type": "markdown",
   "metadata": {},
   "source": [
    "Отсюда $\\frac{1}{\\hat{r}^{(1)}}\\left(\\frac{d\\hat{E}}{d\\hat{t}} - \\hat{\\omega} \\frac{d\\hat{J}}{d\\hat{t}}\\right)$"
   ]
  },
  {
   "cell_type": "code",
   "execution_count": 58,
   "metadata": {
    "vscode": {
     "languageId": "wolfram"
    }
   },
   "outputs": [
    {
     "data": {
      "text/html": [
       "<div><img alt=\"Output\" src=\"data:image/png;base64,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\"></div>"
      ],
      "text/plain": [
       "FormBox[RowBox[{RowBox[{\"-\", RowBox[{RowBox[{OverscriptBox[\"r\", \"^\"]}], \" \", \n",
       "\n",
       " \n",
       ">            SuperscriptBox[OverscriptBox[\"ω\", \"^\"], \"2\"]}]}], \"+\", \n",
       "\n",
       " \n",
       ">        SuperscriptBox[OverscriptBox[\"r\", \"^\"], \"′′\"], \"+\", \n",
       "\n",
       " \n",
       ">        FractionBox[\"1\", SuperscriptBox[OverscriptBox[\"r\", \"^\"], \"2\"]]}],\\\n",
       " \n",
       ">    TraditionalForm]\n"
      ]
     },
     "execution_count": 58,
     "metadata": {
      "text/html": [],
      "text/plain": []
     },
     "output_type": "execute_result"
    }
   ],
   "source": [
    "Simplify[(D[Energy, OverHat[t]] - (AngularMomentum/OverHat[r][OverHat[t]]^2)(D[AngularMomentum, OverHat[t]]))/(D[OverHat[r][OverHat[t]], OverHat[t]])] // TraditionalForm"
   ]
  },
  {
   "cell_type": "markdown",
   "metadata": {},
   "source": [
    "Что совпадает с **первой** строкой повернутой LHS системы движения"
   ]
  },
  {
   "cell_type": "markdown",
   "metadata": {},
   "source": [
    "Отсюда $\\frac{1}{\\hat{r}}\\frac{d\\hat{J}}{d\\hat{t}}$"
   ]
  },
  {
   "cell_type": "code",
   "execution_count": 59,
   "metadata": {
    "vscode": {
     "languageId": "wolfram"
    }
   },
   "outputs": [
    {
     "data": {
      "text/html": [
       "<div><img alt=\"Output\" src=\"data:image/png;base64,iVBORw0KGgoAAAANSUhEUgAAAFMAAAAVCAIAAAC10UUmAAAAz3pUWHRSYXcgcHJvZmlsZSB0eXBlIGV4aWYAAHjabY/rDcMgDIT/M0VHMDacYRzSEKkbdPwacFtR9aT4zOdHIPTn4wq3IY4UUtaCCpAp1VS5WVJoaXmkOuNUFq/FnYeYnTdD+VtAd37sXLGcy88i4pXI+IPlknzAFwkvHts6H97PrZR90fuqLtDn6n/PSZSRETVZTEyqqJaXYKkZMlNWXLgD1hhxMqW7eYeqjUFHh7QxOMRd9+4eIAbO8QQZX5ZmLhajMA/Ck8CiGDm8Oh8SXgv7WnzTjBwBAAAACXBIWXMAAA7EAAAOxAGVKw4bAAAAPHRFWHRTb2Z0d2FyZQBDcmVhdGVkIHdpdGggdGhlIFdvbGZyYW0gTGFuZ3VhZ2UgOiB3d3cud29sZnJhbS5jb21coqaFAAAAIXRFWHRDcmVhdGlvbiBUaW1lADIwMjU6MDM6MTIgMjI6MDY6MzJSBe/HAAADTUlEQVRYhe2XTUgqURiGP4fTIgxtERESbWoXwQgKRYt+pl9zIxEIzd42IUQEUasW/UBQBG7cRG4klIJo0bTQpD+JQGlRBkVDUkKZVCQGzXjuYi5ec2ycqS4t7F2dc/jmPc975vCNqjDGUJQifhrgx/Sb/D9oZmZGq9WGw+HMSiqVisfj324rX+8AMMZPT0+jo6O9vb2Dg4MGg8HpdGJJTU9PazSaUCgkURMIBCwWy97eXnt7+/Pzs7A4MjIyPDwsbS6tvLbyIbMBAGPc1tZWXV2dTCYxxi6XCwDW19e/uLfH4+F5HmMci8V2dnYwxjzP19XVXV1dyc8px1Y+ZA4ApFIptVq9sLAgzK+vrwGApukv7i3slE6nM1O/3z8/Py8zoXxb+ZA5AIAxZlk24/X4+AgAnZ2dX4GbmpqiKKqysjIej9M0XVFRcXNzs7u7y3Hct9vKfzwHQIXff899Ph9FUWNjY3Nzc59uQjzP9/f3v7y8GI1GhNDZ2Znb7S4pKZF+yul0Njc319fXf6/th8o+lXQ63dHRUVNTc39/Lz4zh8OxurqavbK0tHRwcJD3gPV6vV6vPz8/l/9ObDab3++XriloKx/yXfLx8XGj0RiLxcR1Ho/HbDbnLAaDwe7ubnFxMplECA0MDEhkEKtg8oK2iiBR5uVPTk6enp4GAoHS0tKce5FIJGw22+bmpjBtaGgIhUIIIY7j9vf3xffo+PiY4zir1SrnxjEMI4yj0ejR0dHr6ysAVFVVkSSpyFYp5N/kExMT0WjU6/UihMRFLpdLrVY3NTUBAMuyJEkKZZFIJG/94eEhQqirq0tO8q2trezkt7e3AECSpDi5tK1SSAQAKysrJycnGxsbKpUqA6HRaLRarTANh8O1tbWZ7SmKEsbLy8t9fX1i02AwaDAYysrKCiYnCGJxcVEYDw0NWa3W1tbWj4qlbZVCEg8PD3a7vaenZ3t7m2EYhmHW1tZomiaIfz9sdTpdIpEAgLe3N6/XW15eDgBut/vy8nJ2djYvokSAT0vaVikkOBwO8WJjY2N2M7i7u2tpaTGZTHa7PRKJmEwmi8ViNpsvLi7EnYNlWZ1O5/P5JHpVXkl3uIK2iiCx+HtePPr9l1p8+k1efPoDZ73gBkaVPfcAAAAASUVORK5CYII=\"></div>"
      ],
      "text/plain": [
       "FormBox[RowBox[{RowBox[{\"2\", \" \", OverscriptBox[\"ω\", \"^\"], \" \", \n",
       "\n",
       " \n",
       ">          SuperscriptBox[OverscriptBox[\"r\", \"^\"], \"′\"]}], \"+\", \n",
       "\n",
       " \n",
       ">        RowBox[{OverscriptBox[\"r\", \"^\"], \" \", \n",
       "\n",
       " \n",
       ">          SuperscriptBox[OverscriptBox[\"ω\", \"^\"], \"′\"]}]}], TraditionalForm]\n"
      ]
     },
     "execution_count": 59,
     "metadata": {
      "text/html": [],
      "text/plain": []
     },
     "output_type": "execute_result"
    }
   ],
   "source": [
    "Simplify[D[AngularMomentum, OverHat[t]]/OverHat[r][OverHat[t]]] // TraditionalForm"
   ]
  },
  {
   "cell_type": "markdown",
   "metadata": {},
   "source": [
    "Что совпадает со **второй** строкой повернутой LHS системы движения"
   ]
  },
  {
   "cell_type": "markdown",
   "metadata": {},
   "source": [
    "Таким образом, мы можем выписать новую **энергетическую** систему уравнений\n",
    "\n",
    "$$\n",
    "\\begin{align}\n",
    "\\frac{d\\hat{E}}{d\\hat{t}} &= - \\epsilon_G \\left(\\hat{r}^{(1)} R_{xi}(-\\phi) \\hat{f}_{ij}^{(5)}\\hat{r}_j + \\hat{r}\\hat\\omega R_{yi}(-\\phi) \\hat{f}_{ij}^{(5)}\\hat{r}_j \\right)\n",
    "\\\\\n",
    "\\frac{d\\hat{J}}{d\\hat{t}} &= - \\epsilon_G \\hat{r} R_{yi}(-\\phi) \\hat{f}_{ij}^{(5)}\\hat{r}_j\n",
    "\\end{align}\n",
    "$$"
   ]
  },
  {
   "cell_type": "markdown",
   "metadata": {},
   "source": [
    "Или\n",
    "\n",
    "$$\n",
    "\\left(\\frac{d\\hat{E}}{d\\hat{t}}, \\frac{d\\hat{J}}{d\\hat{t}}\\right) = - \\epsilon_G T_{nk} R_{ki}(-\\phi) \\hat{f}_{ij}^{(5)}\\hat{r}_j\\quad,\n",
    "$$"
   ]
  },
  {
   "cell_type": "markdown",
   "metadata": {},
   "source": [
    "Здесь\n",
    "$$\n",
    "T = \n",
    "\\begin{bmatrix}\n",
    "\\hat{r}^{(1)} & \\hat{r}\\hat{\\omega} \\\\\n",
    "0 & \\hat{r}\n",
    "\\end{bmatrix}\n",
    "$$\n",
    "матрица трансформации:"
   ]
  },
  {
   "cell_type": "code",
   "execution_count": 61,
   "metadata": {
    "vscode": {
     "languageId": "wolfram"
    }
   },
   "outputs": [
    {
     "data": {
      "text/html": [
       "<div><img alt=\"Output\" src=\"data:image/png;base64,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\"></div>"
      ],
      "text/plain": [
       "FormBox[TagBox[RowBox[{\"(\", \"⁠\", \n",
       "\n",
       " \n",
       ">         GridBox[{{SuperscriptBox[OverscriptBox[\"r\", \"^\"], \"′\"], \n",
       "\n",
       " \n",
       ">            RowBox[{OverscriptBox[\"r\", \"^\"], \" \", OverscriptBox[\"ω\", \"^\"]}]}, \n",
       "\n",
       " \n",
       ">           {\"0\", OverscriptBox[\"r\", \"^\"]}}, Rule[RowSpacings, 1], \n",
       "\n",
       " \n",
       ">          Rule[ColumnSpacings, 1], Rule[RowAlignments, Baseline], \n",
       "\n",
       " \n",
       ">          Rule[ColumnAlignments, Center]], \"⁠\", \")\"}], \n",
       "\n",
       " \n",
       ">       Function[BoxForm`e$, MatrixForm[BoxForm`e$]]], TraditionalForm]\n"
      ]
     },
     "execution_count": 61,
     "metadata": {
      "text/html": [],
      "text/plain": []
     },
     "output_type": "execute_result"
    }
   ],
   "source": [
    "Transform = {{D[OverHat[r][OverHat[t]], OverHat[t]], OverHat[r][OverHat[t]] OverHat[\\[Omega]][OverHat[t]]}, {0, OverHat[r][OverHat[t]]}};\n",
    "Transform // MatrixForm // TraditionalForm"
   ]
  },
  {
   "cell_type": "markdown",
   "metadata": {},
   "source": [
    "Итак правая часть энергетической системы запишется как"
   ]
  },
  {
   "cell_type": "code",
   "execution_count": 63,
   "metadata": {
    "vscode": {
     "languageId": "wolfram"
    }
   },
   "outputs": [
    {
     "data": {
      "text/html": [
       "<div><img alt=\"Output\" src=\"data:image/png;base64,iVBORw0KGgoAAAANSUhEUgAAAxEAAABACAIAAADqP23+AAAAzHpUWHRSYXcgcHJvZmlsZSB0eXBlIGV4aWYAAHjabU/bDQMhDPtnio6QBzgwDtejUjfo+E0Oqoqqlogd54GSxuv5SLeAMKVcrKIB5MgtN+kuKk1MZmpXnAmTLnfzU14z3N0q3wLG8o/dN0yW+rOIZAqNH1zr2mxrkcr0uc/8WP3Sa90XKW3AR/D/PKsJCtiyxyxkhua6JpdOKELF8MAd8EbGKZTvzgNmPgaLDu0xGJBhe/dIUDfOOEHjFe3O6pFVJBy5HHh0yLGq1yHpDQTZWnjapLTfAAAACXBIWXMAAA7EAAAOxAGVKw4bAAAAPHRFWHRTb2Z0d2FyZQBDcmVhdGVkIHdpdGggdGhlIFdvbGZyYW0gTGFuZ3VhZ2UgOiB3d3cud29sZnJhbS5jb21coqaFAAAAIXRFWHRDcmVhdGlvbiBUaW1lADIwMjU6MDM6MTIgMjI6MDY6MzMlAt9RAAAgAElEQVR4nO2deVwTx///J8jhiaCgQAWKB9UqGgqo4EERFNS2VqqIlmrR4m3po/qpF0KFavm01mJFrdB+q4DVike1SgU8kGq1iBhQDg8wEhDlkFOIkGR/f0w/+9vulU2yueo8/8rM7My+9j3v9+xkd3ZXgGEYMCru3r372muvMSWNDm3rd3d3l0gkAoEAAHDy5MmJEydqb18awiLV2HvZqPkX94sO9BtRACK0AXIAvtDeQKRSdROO22VmZs6ePdvHx0ddVfywd+9emUzGlDQ6mPR/+eWXffv2FYlEmu9izJgx9fX1dXV1dXV12ghX3UjFMCwxMVHzXbwk8Ngp4N/bLzqIPqD9AERoAyMagQ0cozhBqFT9H3OmoqKiCxcu0G4XGBgYHh7e2tqqtizNKS8vLyoqGjlyJG3S6GDSn5ube+PGjYyMjLVr12pi8IKCgtu3b9vY2JDy8/Ly7t+/r3azRHiRCnUCAFikDh8+vKSkhC/Z/2749R9A6Rei/xhvv+gm+gCr9RCGiRGNwAaOsZwgWKqnpaXV1dX9Iwv7HxcvXly2bBnGzJkzZ0aNGsWygbZZtGjRzZs3mZJ88eLFi8bGRl6aqq2tZSll0p+eni6XyzEMq6mpycnJUW/XDQ0NcXFxCoVi5syZX3/99dy5c4ODg/Hj2rBhw4sXL9RrmV+pUCeGYUqlFhYWfvDBB5pr1j18eRS7O+Hw6D8YQ78Q/cdI+0UH0YdxsJ42kMvln3322YoVKxYvXvzhhx92dXVpb186QGcDMo4RjcDqoTMPMaITBFP158+fBwcHl5eX4zl/z5nq6+snTZr0/Plzlkb1O2dqbGx0cXFRKBS0SVra29tHjBixZs0a7nuRy+Xr1q2TSqUaaf0fIpHoxx9/pC1i179///7FixePGDEiMjKS/RiZSEpK+v333xUKxYMHD2COn5/funXriKVqNMu7VFwJF6lDhgxpaGjgRbbO4NGjWNyJilb7heQ/RtcvSkcPXVqPd7KysoRCIfxtb29/5MgR7e1LVVQdk3U2IJMwohEYopJhdekhRnSCYKpeXl4eEBAAJ38Yhv19b27t2rVz587t2bOnepe2+ILl3ufp06enTJkC139Rk7R0dXU1NDSQL6yxkpCQMGvWLAsLCwBAS0vLf/7znxkzZoSFhXl5eSUnJ6tyKAAAMGbMmEePHhUXF1OLWPSfOHFix44dycnJu3fvPnfuXFtbm6r7BQCIxWI7OzuBQDBkyBCY4+7uXlpaCn/b2dk9fPhQjWZ5lwp1AgC4SPX39z916pTaajXvUDXg0aNY3ImEtvuF5D/s/cJxQQNf6x64GJl99NCx9XjH398/JycHAADPNPX19drbl6qoOibrbEAmYkQjMI5KhtWZhxjUCULpCMNUffDgwfb29vv27fs7jWFYbW2tubm50uuW2r7OdPny5dmzZ1+5cmXKlCktLS2k0kWLFu3Zs4cpyYRKVx1bW1vfeustPOnn5zdo0CB47S0lJQUAcPLkSfYW8KkozpMnT0JDQ6lbsugfM2bMZ599xl02LV9++eWVK1eOHDkSHx8Pc3x9feFFTgzDDh8+nJqaquEuMD6kQp0YhnGR+v3334eFham9LzU6VEN49ygmdyKh7X4h+Q9Lv7AHtaqbcYGLkdlHDx1bT3tcvHjR1tb28ePHXDamjl1agvuYrHn4YGpFkBGNwETUuMWmbQ8xnBME7QjT3t5eV1eHb8NSPTMz08XFBf42AQCcO3fuzTfftLW1VW0GyDe1tbXHjh3z9vZOS0srKCgglebn5w8dOpQpyYSpqalUKuUo4Pjx49OnT4e/pVJpXl7e2rVr4bW3N998E27AUt3LyysjI4OUOXDgwLa2NupEnkl/dnZ2YWFhYGAgR81MTJo0qbi42MfH5+rVqxs3bty2bZubm9u6detgaWlp6YQJEzTcBS9SoU4AABepgwcPvnnzpno7UqNDNYd3j2JyJyI66BeS/7D0S21t7dGjR318fA4dOkQNauJmx44dmzBhAvtmSuFoZJbRQ/fW0xKlpaXx8fH5+fn29vZ4plwuT0hIqKqqIm1M8rRbt26lpaVpSRj3MVnD8AFqRZARjcAkVDrZAe17iEGdIGhnF1FRUbGxsfg2LNX9/f3b2trKysoAAADDsPnz5yudDF64cGHBggWWlpb79u3juJJOVWJjY/39/QcMGFBfXx8WFmZjY1NdXQ2LZDKZubl5YWEhbRLDMLFYPHfu3Hnz5vn7+0+dOlUikTQ1Nc2bN8/R0RH+q2hubl68ePHw4cO3bdt27dq1OXPm2NjYuLq6Em8qz5kz5/r168Q28fuvTU1NAICpU6cyia+uru7evTvtgrDNmzcfOHCAmEPVj2FYZ2fnggULXn31VYFAMG/evNDQ0JKSEm6Wo2fXrl2dnZ3U/JaWlqSkJE1a5lcqk06MIrWoqMjMzEztFYscO/Tq1avBwcEREREjR46cMWNGcXExzL9///67774bHBz8/vvvw6u4xJZJ7gfzteFRVHfC0U2/UP2HqV9YIlp7KDUybfRh+rMeEb5879atWxEREVTnCQ8Ppx44racdPnz4q6++UuWIyWg+JmsSPkzHhTFHkLGMwLyc7LTqIQZ4gqCORRKJZOjQoQ8fPuRSHcMwPz+/nTt3YnANuJ2d3f79+9U+JL6QyWSzZs3y9/ffsGFDVFTUe++9h1uqpqYGAFBZWUmbxDDM29t748aN8HdgYCC8mtfc3Gxubo5fie3o6DA3Nx8wYEBUVFRTU1Ntbe2oUaP69evX3t4ON3B2dma6SglfwcAyszx8+HBQUBBtUVJS0urVq4k5VP04vr6+rq6uTHtRCblcfv/+fWr+3bt3eWmfL6lMOjGK1MrKSgAAL+ddpg49f/68ubn52bNnMQxrbGy0sbHx9PSEu+7du/fKlSvhZmfPngUApKSkwCSt+2Ha8SiqO5HQdr9Q/YepX1giWjfQGpkl+jB9WA+HL9+rr6+fOXOmTCbDt4c/fv755yVLllD3y+Rp48ePv3XrFpPa/fv337lzh6mUVhim4pisSfiwHBd7BBnCCMxuW80NqxsPMagTBHUsys7O3rFjB8fqGIZ99NFH8E4xkMvlJiYmvKzhb21tjY2NDQgIWLRo0e7du9Vowd3d3d3dnepShYWFAAD88UJSsqury8TEZNu2bTCZk5ODt2BlZUW8e21lZeXh4YEnv/nmGwCASCTCMKyxsREAQPv8p0KhCAgIcHJyIt77xLlw4cKWLVvGjh07bdq06dOnU4M8PT194sSJLIdDxMrKSpMlO7pE91JhH7FEKUdYOtTb2/v111/Hkzk5Ob/99huGYStWrAAAPHr0CC8aPXq0s7Mzxux+WvIoqjuRMKh+YYponD179vzyyy/EnO++++7PP//UXBWTkVmiD9NrAPLle59//nnv3r3t7Ozs7Oysra3Xr18PS+HtFeIe2T1t+/btH330EZPaZcuWXbp0ialU8zFZ7fBRelzsEWQIIzCLbXk52enGQwxqIMIoY9Eff/yBzxq5VI+NjYX/YQC8s5ubm6uh3I6ODjc3t9mzZ1Mv99XX169atSo6Ovrbb79dtWpVeHh4U1MTtYXnz5+bmprOnTuXWnTt2jUAAH5BiJTEMGzcuHHdunULDQ0lHQjVjebNm4cnU1NTAQBwnl5WVmZmZkZ7aBs3bvTy8qqpqaEWpaSkvP/++wqFws3NTSwWb9y4kar/3Llzw4YNYzkcHLj+X73ppo7Ri9Tnz5/j/aUJTB0K258zZw61ipeXV79+/Yg5H3zwAQAAjtq07qclj6K6ExGD6heWiIakp6cTF/lCrl+/HhgYqLkqJiMzRR+m1wDk1/eo1NbWAgDq6+vxHKWedv78eQcHB6YG2edMLMI4jsnqhQ+X42KJIAMZgdltq/nJjhZ+PcSgBiKMw1jEXh3DsG+++QYuAzd99uwZAKBHjx60S58AAFVVVfBqNo5AIPD09CRtlpaWVlxcfOnSJdILC8Ri8dtvv71r164pU6bAHF9fX3Nzc+qO8vPzZTJZaGgotaizsxMA0K1bN9okAODEiRMxMTEHDx48cuTIxIkTjx8/PmDAANrDIT5gTPzd3NxsampK3T4qKqqkpOTy5ctUE1VWVq5evbq4uLi5uVkgEDg7O7u6up48eZK0mampaXNzM8vh4MDHIMeOHUurXKtgGJaZmUnNt7OzEwqF1Hy9SIUWe/HiBTFTVeUsHQr9vE+fPtRaNTU1VlZWxBxra2sAwOPHj21sbGjdT0seRXUnIobTL4A1ogEAz549W7Zs2ZkzZ2DSzc3t1q1bpqamMpns6tWrpI157GWm6AN6DUB+fY/aiEQi6datW79+/WCSi6fZ2Ng8efJEJpPhbkzsBYlEkpeXBxcd0/aChmOyGuHD8bhYIshARmB222p+sqOFFw/BMaiBCCgbi5RWBwD06NEDTpZMGxoaAOuc6c8//8THNbzpn376ibRZQUGBubn5zJkzYTIpKWn06NEAgCVLloSEhOATJgDAhx9+SLu7a9eumZqaTps2jVqEYRgg9Dop2dnZaW1tnZycvGXLli+++CI5OTk6Ovr7779nOiJaZDKZiQn563ubN2+WSCTHjh2jjd7U1NSRI0cOGjQoIyMjKCgIAPDw4UNXV1fSZiYmJqTPWpH044hEInNz8zFjxqiknBcwDDt37hw1XygUMs2ZdC8VdhD2z69Kq6ScvUPho6NPnz6lFtnb21dUVBBz4CpUBwcHJvfTkkdR3YmI4fQLYI1oAEBKSkqvXr28vb0BAGKxWCgUQpuUlZVRjcNjLzNFH9BrAPLre9RGZDKZmZkZftRcPM3CwkKhUCgUCjyH2AvwvP748WNA1wuaj8lqhA/H42KJIAMZgVlsy8vJjhZePATHoAYioGwsUlodANCjR4/m5maZTPb304m0/7ogISEhISEhSuX27NnTw8PjypUrxMzCwsKcnBz4Lg2c8PBw2hauX7/u6enZu3dvapGZmRkAQC6Xwx+kZEVFxb59+3bt2uXk5JSUlHTnzp27d+8qFUyib9++crmcmHPw4MGioqLTp0/jbiSRSCwtLfv27QuTFRUVjo6OAIArV67MnDlToVCkp6fv3LmT1HJXVxdehfZwcEQikVAohC9w0zEmJiYJCQnct9eLVDjSkXbKXbnSDrW0tHR2ds7Nze3o6MCn9QkJCZ988omnp+eNGzckEgnscQBAYWGhk5OTjY1NWVkZrftpyaOo7kTEcPoFsEY0AEAkEuEvqbt27Zq/vz/8/dNPP+F/vXB47GWm6AN6DUB+fY+Kra2tVCrt7OyE1/i5eFpLS0vfvn2J9wSIvbB8+fLQ0FD4zD8VzcdkNcKH43GxRJCBjMAstuXlZEcLLx6CY1ADEVA2FimtDgCA03SpVEqeyKtNUFBQYWGhRCIhZmZnZ48YMeKVV17h0sL169eZIrB79+4AgK6uLtpk//79f/jhB7joXaFQPH782M/PDxaRZsGkJIxJmGNtbU28KNfQ0BAZGRkUFJSVlZWZmZmZmXnixImwsDDiXx9XV9d79+4BAOB7OL777js/Pz84JSfS0dEBr6UzHQ6OSCTSy2VhNdCLVGgxaD1V4dKhAICYmJi2traIiIimpqb29vY9e/bAf3sbNmzo1avX119/DTfLzMwsLCyMi4sDzO6nJY+iuhMRg+oXlogGADg4OMBr3V1dXceOHYO3nw4fPlxeXh4fH6+eEi5GZoo+oO8A5NH3qDg5OfXr1w9/YzIXTxOLxWpfJ9B8TFYjfDgeF0sEGf4IzMvJjhZ+PcSgBiKgbCxSWv0fXLp0CQBQWlqqxpIrEvv37x83btzChQtXrVoFH8RbsWIFcTlnampqYmJiYmLi06dPSXXFYrGDg8PFixdpWxaLxQAAfNE+KalQKOLj4729vRctWhQYGLhp06bOzs6qqqqlS5cCAPr37x8dHU1KYhiWnp7u4eEBAJgyZcr58+cxDLOysmpra4Nt7tmzh2qr8ePHE1W1tbWFhIQsXbp07NixW7du3b17N+33dA4ePEh6fICkHwIX7R86dIjawp07dyIiIhYvXiyVSkNDQ0mtsZdqAxapbW1t0dHRzs7O8IGXNWvWJCcnKy3iSHV1NQCgoqJCDc1cOhTy888/e3h4WFlZDR06NCYmBn/77d27d995552QkJCFCxf6+/vj7yCmdT9YpA2PoroTjnoupKV+YY9oDMNqa2t9fX1nzJgRGRlZVlY2Y8aM2bNnv/XWW/hXpdSAi5Fpow8zjADk0feohIeH//DDD/A3F0/7+OOPd+3axdQa+zplXsZkVcOH43ExRZC+wocKi235OtnRwpeHGNoJQulYxF4dAhfRt7a28jlnohIVFTV58mRijq2t7dGjR1VtRyqVCgQC/L1YpCRf+Pn5Mb0HgoXc3Fz2I9q+fTt8FxYOrX74AaCqqiraRioqKgYNGpSYmNjS0kJ9/pa9lHfYpSoUCisrK/ghaE9Pz3v37nEp4kJpaalAIKB94skw0YZHUd0JR20Xeqn6hWn0MKIAVA+xWDxlyhTiFzBYPK2hoWHy5MkdHR26UkeDeuGDqRtB+gofw4EvDzHSEwR7dXzOxNu9OVrmzp17+/bt8vJymCwtLW1paaEuVlCKhYWFs7MzvkCSlOSLgIAANb7bUFBQwP56+JKSkoCAAGIOrX6RSOTm5sZ0H9PFxcXCwmLIkCF9+vSh3j9mL+UddqkCgcDV1bWmpubJkydeXl7Dhg3jUsSFp0+fOjo6sjyvYGhow6Oo7oSjtgu9VP3CNHoYUQCqh7Ozc1xcHHFJCpOndXZ2fvXVVykpKerdB+cL9cIHqBtB+gofw4EvDzHSEwTH6tqdM40ePfrMmTNxcXEJCQkpKSlpaWmbNm0ivYyAI0Kh8NGjR0xJXpg/fz7pCUEumJmZWVpaMpV2dnbW1NS4ubmR8nH9jY2NQUFBT548yc/PX7VqFVM7TU1NpqampJc+cCzlC45SAQCOjo7Pnj1LSUnZunUr9yKlVFZW6uWRFrXh3aNo3YkXF3qp+oU4ehhRAGqOj4/P3Llz4WoYwOxpZWVlmzZtcnZ21q06MuqFD1AxgvQePgaFJh5i7CcIjtU5zZkUCsX69etXrly5ZMmS8PBwlkedqfj4+Bw4cOCTTz5ZuHDhtm3boqOjudcl4uvre/v2baYkL7i4uHTv3p36eUJ2Vq5cyVJ69OjR5cuXU/Nx/RYWFi9evAgODnZwcIiIiKBu2dTU9Pz583379n366acXLlyQSCR3797t7Ox0cXGprKykLVVJP3eUSsWxt7cvKirq37+/ra0tLpVapKqAO3fuTJ48WU31+oB3j6J1Jw1dCG7zUvULcfQwogDkBWdnZycnJ/ibydNGjx7N8j9QZ6gXPkDFCNJ7+BgaanuIsZ8guFbnsp4pKytLKBTC3/b29keOHFHvfqEmVFRUuLm5MSX5oq6uTunnirnT2NgYGRlJW8Rdf2xsrIeHR3FxcWNjo5ub2/bt22G+UCjMy8tjKtUv0dHR48aNw99MD6XSFqmEUChUb32DHuHRo1jciR12F4K/X6p+UWn0MMYA/NegswGZBW2Hz0uIYZ4g2KurtgZcLpfDr50oFIqBAwcmJiaqLUsT/Pz8xGIxU5Iv7t279+TJE16aunHjhlQqZSrVRH9LS8uaNWvU1aV1li5dmpWVBX+TpBKLVEIikfj6+vIiT8fw5VHs7qQqL3m/aDh6GHgA/pvQ2YCsEnyFz8uJAZ4glFZX87m5ixcv2traMn1rWttcvHjx888/Z0oaHZror66u1vEn4jny119/dXV1bdq0Cc/BpVKLVCIuLi47O5sflYiXvl80HD0MNgARuoGv8HnZMNgThNLq6syZSkpKpk2bRvy8tu75+OOPid+yJiWNDmPXT0Iulw8ZMmTevHnEDz0qLeJCQ0MD+luvDV7mfvmXRR9C92gYPi8bBnuC4FIdnzMJLl265OfnV1paOnz4cJZlTyKRaO/evQkJCeo99cYXUqk0Ly8PX6hFShodxq5fZ/zxxx+enp7G8jT7y4NR9wuKPgTi34GGAxGX6mlpaR988AHXOVNDQ8OiRYtOnToFP0uXkZExY8YM9cQhEAgEAoFAGBH4nInTuwYSExMvX748aNAge3v7fv365ebmalsfAoFAIBAIhEFhymWjmJiYmJgYbUtBIBAIBAKBMFi0+x5wBAKBQCAQiH8HaM6EQCAQCAQCoRw0Z0IgEAgEAoFQDpozIRAIBAKBQCgHzZkQCAQCgUAglIPmTAgEAoFAIBDKQXMmxEvN3bt39S3BiHF3d7exsbG1tbW1tb1y5Yq+5egNbXuREdmZRSrJSij0EMYImjMhXl727t0rk8n0rUKnfPnll3379hWJRLy0NmbMmPr6+rq6urq6uokTJ/LSptHB5EU8mlrbdtaNVAzDEhMTmZIIhFGA5kwIQyQzM3P27Nk+Pj7a20V5eXlRUdHIkSO1twtDIzc398aNGxkZGWvXrm1tbVW7nYKCgtu3bwMAbGxsiPl5eXn379/XVKVRweRFvJhaN3bm1ytIUgFB7fDhw0tKSnDlpCQCYRSgORPCEAkMDAwPD9dkBFdKXFzc0qVLtdc+Fzo7O5uamjRvp66ujstmtbW1x44dmzBhwqFDhwoKCtTb17NnzzIyMtzc3DAMKysr27FjR0hIyHvvvdfU1DR27Nj/+7//6+zsVK9lHuHLsECZbZm8SHNT68zOPHrFqFGjSFIBAES1y5cvj4uLw2uRkkpRKBTr169fuXLlkiVLwsPDX7aLxAiD4NKlSwCA0tJSDIEwJM6cOTNq1CgtNd7Y2Oji4qJQKLTUPhfkcvm6deukUqnmTYlEoh9//JHjxvv371+8ePGIESMiIyPVsEBSUtLvv/+OYZhCoXjw4AHM9PPzW7duHbGUR9rb20eMGLFmzRqO2/NoWIzVtuxeZER21lAqrodWKkntkCFDGhoa8IqkJDtZWVlCoRD+tre3P3LkiBpSEQg1SE1NBQBw/UYvAvEv4/Tp01OmTBEIBDDZ0tLyn//8Z8aMGWFhYV5eXsnJyTrQkJCQMGvWLAsLC80FjBkz5tGjR8XFxUq3PHHixI4dO5KTk3fv3n3u3Lm2tjZVZYvFYjs7OwCAQCAYMmQIzHR3dy8tLQUA2NnZPXz4UNU22enq6mpoaOB4LQ3waljAaluSFxExIjtrLhVXSyuVpNbf3//UqVN4RVKSBGmhlb+/f05ODgAAwzCFQlFfX6+GVARCE9CcCfEycvHixTfeeANPvvvuu0eOHDl27FhaWtrHH3+8dOnSX3/9VasC2traLl26hC+SVUOAQqEgJleuXPnFF18o3W9sbOzs2bNNTEz8/f3Lysr69OmjqvI+ffo8f/4cAPDLL7/897//hZk3b94cP348AOD58+dqtMmOpaVldXX14cOHuWysuWEBZ9uSvIiIEdlZc6m4WlqpJLVvvPHGxYsX8YqkJBHqQisTE5O+ffsCAHJychQKRXBwsBpSEQhNQHMmxMtIfn7+0KFD4W+pVJqXl7d27dqePXsCAN58800AwPHjx7Uq4Pjx49OnT1dbgJeXV0ZGBjFn4MCBbW1t7P+8s7OzCwsLAwMDNVE+adIkeNHFx8fn6tWrGzdu3LZtm5ub27p16wAApaWlEyZM0KR9WkxNTaVSKZctNTQsUMW2RC8iYkR25kUqrpZWKvin2sGDB9+8eROvSEoSgQutvL2909LSiAutSktL4+Pj8/Pz7e3tNZSNQKgMWs+EMEy0t55JJpOZm5sXFhbiOWKxGF/GAReuTp06lVrx6tWrwcHBERERI0eOnDFjRnFxMcy/f//+u+++Gxwc/P7778N7DcSW586dO2/ePH9//6lTp0okEpg/Z86c69evqyoAUl1d3b179+fPn5PyN2/efODAAdoqnZ2dCxYsePXVVwUCwbx580JDQ0tKSpjaV8quXbs6Ozup+S0tLUlJSWo3i9GZq6mpad68eY6OjqGhoRiGNTc3L168ePjw4du2bbt27dqcOXNsbGxcXV3x5TKaGBZTxbZUL8KMx84Y31IxzmqLiorMzMy6urpok0RiY2P9/f0HDBhQX18fFhZmY2NTXV1969atiIgIagchEFoFX8+E5kwIQ+TChQsLFiywtLTct29fbW0tv43X1NQAACorK5l2DQD47LPPSPnnz583Nzc/e/YshmGNjY02Njaenp4YhlVWVvbu3XvlypVws7NnzwIAUlJSYNLb23vjxo3wd2Bg4JUrV+BvZ2fnx48fqyQA5/Dhw0FBQdT8pKSk1atXM9XCMMzX19fV1ZVlA47I5fL79+9T8+/evctecf/+/Xfu3GHZgNZczc3N5ubmcM6EYVhHR4e5ufmAAQOioqKamppqa2tHjRrVr1+/9vZ2TDPDYqrYlsWL9G5n7vAlFeOstrKyEgBQXV1NmyQik8lmzZrl7++/YcOGqKio9957r6amZubMmTKZDG4AgxGB0AFozoQwelpbW2NjYwMCAhYtWrR7927uFQsLCwEAjY2N1CKFQhEQEODk5FRXV0cq8vb2fv311/FkTk7Ob7/9hmHYihUrAACPHj3Ci0aPHu3s7IxhWFdXl4mJybZt2/Aq8PzR2NgIAHjx4oVKAjAMu3DhwpYtW8aOHTtt2rTp06eTJgfp6ekTJ05kOXArK6uwsDCWDbTNsmXLLl26xFTKZC4Mw6ysrPA5E0x6eHjgyW+++QYAIBKJ1DYsprptWbxI73bmju6lwj66desWbZKEu7u7u7s77gaff/5579697ezs7OzsrK2t169fryPRiJcefM5kqrObgAgEj0ilUh8fn6FDh546dQquVsFpaGiIiYnp37+/tbX1gwcP2tvbv/32W7h0FNLe3g4AgM9Vkdi8eXNzc/Nff/1FejVfe3s7vBOE5/j6+sIf+fn5/fr1c3JywovGjBmTmppaX19vY2Pj5eUVHUy1KXsAAArsSURBVB19+/btlStX4lWePn1qZmZmbm7OXQAAIDU1NTMzMzU19ddffz169Oj+/fsjIyOPHj2Kb9CnT5+nT58yWUwsFjc1NY0bN45pA71jampKay5aiAuJBgwYAABoa2tTz7BALdsyeZHh2xlHL1Jh78Dl7dQkkfb29tu3b8+ePdvV1RXmxMTExMTE6EopAkEDmjMhdAeGYZmZmdR8Ozs7oVAIf8tkso6ODtIGvXr1MjH5x/MKaWlpxcXFly5dIk2YxGLx22+/vWvXrilTpsAcX19f0kkUvl6vW7dupL1ERUWVlJRcvny5R48epCJ4I4b2kaKamhorKytijrW1NQDg8ePHNjY2J06ciImJOXjw4JEjRyZOnHj8+PEBAwY0NzebmtKEHouAysrK1atXFxcXNzc3CwQCZ2dnV1fXkydPErcxNTVtbm6mNguBD2yPHTuWaQMtQex0iUSSl5cHV3MTOx2H1ly0zRKf8Md/q2FYoK5tmbxIX3YG3OKLiF6kQou9ePGCNkkkPz9fJpOFhobqUh4CwQ6aMyF0B4Zh586do+YLhUJ8TM/Ozqb+lUxPT3d2dibmFBQUmJubz5w5EyaTkpJGjx4NAFiyZElISAg+YQIAfPjhh6QzJYZh4J8nXQDA5s2bJRLJsWPHaE+6tra2AADaqzj29vYVFRXEHLjW2MHBobOz09raOjk5ecuWLV988UVycnJ0dPT3338vk8lIU0ClAlJTU0eOHDlo0KCMjIygoCAAwMOHD/H/3xATExOWNyOLRCJzc/MxY8YwbaAliJ0O50yPHz8G/+x0CJO5uO9LDcMCdW1L60VAf3YG3OKLiF6kwg6C1qMmiVy7ds3U1HTatGm6lIdAsGNKHWIQCC1hYmKSkJDAvs306dPxZ8VZ6Nmzp4eHB+nD6YWFhTk5OSkpKcTM8PBwUl0zMzMAgFwuhz8AAAcPHiwqKjp9+jR+CpRIJJaWlvgdPUtLS2dn59zc3I6ODnwGlpCQ8Mknn3h6et64cUMikTg6OuIynJycbGxsysrK9u3bt2vXLicnp6SkpDt37sBvufft21culxMlKRVQUVEB279y5crMmTMVCkV6evrOnTuJjXR1dRFvQZIQiURCoZD2jqRWIXb68uXLQ0ND4TP/VCoqKmjNxR01DAvUtS3ViyD6sjPgFl9E9CIVTj3xnZKSRK5fv+7p6dm7d29dykMgaIHT+m7dupnA2woc332CQBgIQUFBhYWFEomEmJmdnT1ixIhXXnmFvW737t0BAF1dXTDZ0NAQGRkZFBSUlZWVmZmZmZl54sSJsLAw0t+JmJiYtra2iIiIpqam9vb2PXv2wOslGzZs6NWr19dffw03y8zMLCwshF/R6t+//w8//ACfDFIoFI8fP/bz8wMAWFtbE29GcBHg6up67949AAB8C853333n5+cHL4rgdHR0wNuCtIhEIr3cMOIOk7lgkvieSVISzpMUCoUahgXq2pbkRTiGb2ccvUiFFoPWoyaJXL9+nWl6jUDoGKlUam5u3qNHD1BVVQUA+PPPP/W0Gh2BUJP9+/ePGzdu4cKFq1atgq/nWbFiRWBgIL5BampqYmJiYmLi06dPiRXFYjEAAH8was+ePdQIGT9+PHWPP//8s4eHh5WV1dChQ2NiYuRyOcy/e/fuO++8ExISsnDhQn9//5MnT8J8hUIRHx/v7e29aNGiwMDATZs24S+wsbKyamtr4y6gra0tJCRk6dKlY8eO3bp16+7du6nfBTt48CDTM1Dw6aRDhw5Ri+7cuRMREbF48WKpVBoaGkpsoa2tLTo62tnZGT6JtmbNmuTkZNr2OcL+3BytuaqqquBHcPv37x8dHU1KYhiWnp7u4eEBAJgyZcr58+dVNSymrm1JXgRhsjO7JXm3MxfUcwmlpUqprq4GAFRUVNAmccRisYODw8WLF1VqHIHQErt27bK3t8cw7O+nPy5cuKBvSQiEpkRFRU2ePJmYY2tre/ToUdJmUqlUIBBo+AY/DfHz86N9mQ07ubm51MPB2b59+86dO2mL4Fe6qqqqaEsrKioGDRqUmJjY0tJCelBfoVBYWVmVl5djGObp6Xnv3j1VNesY9QyLqW5bWi9isTO7JXVvZ7VdQmkpO6WlpQKBAL5Mi5pEIAyT+Pj4kSNHYhhm0qNHjx49eqCPHSL+BcydO/f27dvl5eUwWVpa2tLSgq8Tx7GwsHB2dmZ5LF8HBAQEED8HwZGCggKWz1yUlJQEBATQFolEIjc3N6a7li4uLhYWFkOGDOnTpw/pGUOBQODq6lpTU/PkyRMvL69hw4apqlnHqGdYoLptab2Ixc7sltS9ndV2CaWl7Dx9+tTR0RFfFEhKIhCGSX19ff/+/QH83tzo0aPx0wwCYbyMHj36zJkzcXFxCQkJKSkpaWlpmzZtIr2MACIUCh89eqR7hTjz588/c+aMqrXMzMwsLS1pizo7O2tqatzc3IiZjY2NQUFBT548yc/PX7VqFVOzTU1Npqam8H0KVBwdHZ89e5aSkrJ161ZVBese9QwLVLctIHgRRzuzW1I3dubFJdhL2amsrCQ+qUdKIhCGSXl5ORwBTAEA06dPv3//vr4lIRB/o1AoNm7c2Nra+uLFC4VCkZyczPSUOBUfHx8fHx+lm/n6+t6+fVszmRrh4uLSvXv3qqqqQYMGca+1cuVKpqKjR48uX76clGlhYfHixYvg4OBJkyZFRERQazU1NZmZme3bt+/TTz+9cOFCQEBAe3u7i4vLa6+9dvnyZfiiTnt7+6KiIjs7O/jCBQNHPcMC1W0LCF6k1M4QkiU7Ozt1b2cNXcLS0pJa+tprr3EXcOfOncmTJzMlEQjD5MGDBx999BEAAGAYlpeX5+DggC9oRSD0S1ZWllAohL/t7e2PHDnC+y4qKirc3Nx4b1Yl6urq2L99xp3GxsbIyEg1KsbGxnp4eBQXFzc2Nrq5uW3fvh3mC4XCvLw8+Ds6OnrcuHH4R74MHx4Ni7HaVlUvolrSAO3M7hJMpdwRCoXEBWekJAJhgDx69Khnz55w1R3AMEyhUAwePBgtA0cYCHK5vKmpCcMwhUIxcODAxMREbezFz89PLBZro2Xu3Lt378mTJ5q3c+PGDalUqnk7kJaWljVr1uDJpUuXZmVl8dW4buDLsJgy26rkRSRLGpGdSVLVRiKR+Pr6MiURCMMkPj5+zpw58LcJAEAgECQmJqalpen54hcCAQAAwMTEBL4/MCcnR6FQBAcHa2MvW7ZsOXDggDZa5s6wYcMGDhyoeTuenp48vpmwtbUVfvU2Ly9PJpPZ2NhMnTqVr8Z1A1+GBcpsy9GLaC1pRHbGpWrIgQMHoqKimJIIhAGCYdivv/66Y8cOmPz73W7Tp0+Xy+W0791HIPRCaWlpfHx8fn6+vb29Ntr38/N79uwZemKUioODg5mZmUKhWLBgQVhY2KeffqpvRYYLFy9isqQR2RlK1bCRZ8+e1dbW4o8fkpIIhGGyffv2+fPn4x/vEmD/+9CPXC7fsmXLkiVLhgwZoj95CAQAAIhEor179yYkJNA+9cYXUqk0Ly8PLUFFaALyIo788ccfnp6e+GsFSEkEwgDJzs6uqKhYtmwZnvP/50yQyspK+BAHAqEvGhoaFi1adOrUKfjN84yMjBkzZuhbFAKBQCBeLqgzIvIHetGECaF3EhMTL1++PGjQIHt7+379+uXm5upbEQKBQCBeOqgzIvJ1JgQCgUAgEAgElf8HkvVWDt/nEAgAAAAASUVORK5CYII=\"></div>"
      ],
      "text/plain": [
       "FormBox[TagBox[RowBox[{\"(\", \"⁠\", \n",
       "\n",
       " \n",
       ">         TagBox[GridBox[{{RowBox[{FractionBox[\"1\", \"2\"], \" \", \n",
       "\n",
       " \n",
       ">               OverscriptBox[\"r\", \"^\"], \" \", SubscriptBox[\"ϵ\", \"G\"], \" \", \n",
       "\n",
       " \n",
       ">               RowBox[{\"(\", RowBox[{RowBox[{OverscriptBox[\"r\", \"^\"], \" \", \n",
       "\n",
       " \n",
       ">                     OverscriptBox[\"ω\", \"^\"], \" \", \n",
       "\n",
       " \n",
       ">                     RowBox[{\"(\", RowBox[{RowBox[{RowBox[{\"sin\", \"(\", \n",
       "\n",
       " \n",
       ">                             RowBox[{\"2\", \" \", \"ϕ\"}], \")\"}], \" \", \n",
       "\n",
       " \n",
       ">                           RowBox[{\"(\", \n",
       "\n",
       " \n",
       ">                             RowBox[{TemplateBox[List[SubscriptBox[\n",
       "\n",
       " \n",
       ">                            OverscriptBox[\"f\", \"^\"], \n",
       "\n",
       " \n",
       ">                            RowBox[List[\"x\", \",\", \"x\"]]], \"\\\"(5)\\\"\"], \n",
       "\n",
       " \n",
       ">                             \"Superscript\", Rule[SyntaxForm, SuperscriptBox]], \n",
       "\n",
       " \n",
       ">                             \"-\", \n",
       "\n",
       " \n",
       ">                             TemplateBox[List[SubscriptBox[OverscriptB\\\n",
       "\n",
       " \n",
       ">   ox[\"f\", \"^\"], RowBox[List[\"y\", \",\", \"y\"]]], \"\\\"(5)\\\"\"], \"Superscript\", \n",
       "\n",
       " \n",
       ">                             Rule[SyntaxForm, SuperscriptBox]]}], \")\"}]}], \"-\", \n",
       "\n",
       " \n",
       ">                         RowBox[{\"2\", \" \", \n",
       "\n",
       " \n",
       ">                           RowBox[{\"cos\", \"(\", RowBox[{\"2\", \" \", \"ϕ\"}], \")\"}], \n",
       "\n",
       " \n",
       ">                           \" \", TemplateBox[List[SubscriptBox[OverscriptB\\\n",
       "\n",
       " \n",
       ">   ox[\"f\", \"^\"], RowBox[List[\"x\", \",\", \"y\"]]], \"\\\"(5)\\\"\"], \"Superscript\", \n",
       "\n",
       " \n",
       ">                            Rule[SyntaxForm, SuperscriptBox]]}]}], \")\"}]}], \"-\", \n",
       "\n",
       " \n",
       ">                   RowBox[{\"2\", \" \", SuperscriptBox[OverscriptBox[\"r\", \"^\"], \"′\"], \n",
       "\n",
       " \n",
       ">                     \" \", RowBox[{\"(\", \n",
       "\n",
       " \n",
       ">                       RowBox[{RowBox[{RowBox[{\"sin\", \"(\", \n",
       "\n",
       " \n",
       ">                             RowBox[{\"2\", \" \", \"ϕ\"}], \")\"}], \" \", \n",
       "\n",
       " \n",
       ">                           TemplateBox[List[SubscriptBox[OverscriptBox[\"f\", \n",
       "\n",
       " \n",
       ">                             \"^\"], RowBox[List[\"x\", \",\", \"y\"]]], \"\\\"(5)\\\"\"], \n",
       "\n",
       " \n",
       ">                            \"Superscript\", Rule[SyntaxForm, SuperscriptBox]]}], \n",
       "\n",
       " \n",
       ">                         \"+\", RowBox[{RowBox[{SuperscriptBox[\"cos\", \"2\"], \"(\", \n",
       "\n",
       " \n",
       ">                             \"ϕ\", \")\"}], \" \", \n",
       "\n",
       " \n",
       ">                           TemplateBox[List[SubscriptBox[OverscriptBox[\"f\", \n",
       "\n",
       " \n",
       ">                             \"^\"], RowBox[List[\"x\", \",\", \"x\"]]], \"\\\"(5)\\\"\"], \n",
       "\n",
       " \n",
       ">                            \"Superscript\", Rule[SyntaxForm, SuperscriptBox]]}], \n",
       "\n",
       " \n",
       ">                         \"+\", RowBox[{RowBox[{SuperscriptBox[\"sin\", \"2\"], \"(\", \n",
       "\n",
       " \n",
       ">                             \"ϕ\", \")\"}], \" \", \n",
       "\n",
       " \n",
       ">                           TemplateBox[List[SubscriptBox[OverscriptBox[\"f\", \n",
       "\n",
       " \n",
       ">                             \"^\"], RowBox[List[\"y\", \",\", \"y\"]]], \"\\\"(5)\\\"\"], \n",
       "\n",
       " \n",
       ">                            \"Superscript\", Rule[SyntaxForm, SuperscriptBox]]}]}], \n",
       "\n",
       " \n",
       ">                       \")\"}]}]}], \")\"}]}]}, \n",
       "\n",
       " \n",
       ">            {RowBox[{RowBox[{\"-\", FractionBox[\"1\", \"2\"]}], \" \", \n",
       "\n",
       " \n",
       ">               SuperscriptBox[OverscriptBox[\"r\", \"^\"], \"2\"], \" \", \n",
       "\n",
       " \n",
       ">               SubscriptBox[\"ϵ\", \"G\"], \" \", \n",
       "\n",
       " \n",
       ">               RowBox[{\"(\", RowBox[{RowBox[{RowBox[{\"sin\", \"(\", \n",
       "\n",
       " \n",
       ">                       RowBox[{\"2\", \" \", \"ϕ\"}], \")\"}], \" \", \n",
       "\n",
       " \n",
       ">                     RowBox[{\"(\", RowBox[{TemplateBox[List[SubscriptBox[\n",
       "\n",
       " \n",
       ">                            OverscriptBox[\"f\", \"^\"], \n",
       "\n",
       " \n",
       ">                            RowBox[List[\"y\", \",\", \"y\"]]], \"\\\"(5)\\\"\"], \n",
       "\n",
       " \n",
       ">                          \"Superscript\", Rule[SyntaxForm, SuperscriptBox]], \"-\", \n",
       "\n",
       " \n",
       ">                         TemplateBox[List[SubscriptBox[OverscriptBox[\"f\", \"^\"], \n",
       "\n",
       " \n",
       ">                            RowBox[List[\"x\", \",\", \"x\"]]], \"\\\"(5)\\\"\"], \n",
       "\n",
       " \n",
       ">                          \"Superscript\", Rule[SyntaxForm, SuperscriptBox]]}], \")\"}]}\\\n",
       "\n",
       " \n",
       ">   ], \"+\", RowBox[{\"2\", \" \", RowBox[{\"cos\", \"(\", RowBox[{\"2\", \" \", \"ϕ\"}], \")\"}], \n",
       "\n",
       " \n",
       ">                     \" \", TemplateBox[List[SubscriptBox[OverscriptBox[\"f\", \"^\"], \n",
       "\n",
       " \n",
       ">                        RowBox[List[\"x\", \",\", \"y\"]]], \"\\\"(5)\\\"\"], \"Superscript\", \n",
       "\n",
       " \n",
       ">                      Rule[SyntaxForm, SuperscriptBox]]}]}], \")\"}]}]}}, \n",
       "\n",
       " \n",
       ">           Rule[RowSpacings, 1], Rule[ColumnAlignments, Center], \n",
       "\n",
       " \n",
       ">           Rule[ColumnAlignments, Left]], Column], \"⁠\", \")\"}], \n",
       "\n",
       " \n",
       ">       Function[BoxForm`e$, MatrixForm[BoxForm`e$]]], TraditionalForm]\n"
      ]
     },
     "execution_count": 63,
     "metadata": {
      "text/html": [],
      "text/plain": []
     },
     "output_type": "execute_result"
    }
   ],
   "source": [
    "RHSEnegry = FullSimplify[Transform . RHSMotion, Trig -> True];\n",
    "RHSEnegry // MatrixForm // TraditionalForm"
   ]
  },
  {
   "cell_type": "markdown",
   "metadata": {},
   "source": [
    "## **Другой Способ** получения уравнений движения и энергетических уравнений через лагранжев формализм в полярных координатах"
   ]
  },
  {
   "cell_type": "markdown",
   "metadata": {},
   "source": [
    "### **Лагранжиан системы**\n",
    "Лагранжиан $L$ в полярных координатах $(r, \\phi)$ выражается как:\n",
    "$$\n",
    "L = T - (U + \\mu\\Phi),\n",
    "$$\n",
    "где:\n",
    "- $T$ — кинетическая энергия,\n",
    "- $U$ — потенциальная энергия\n",
    "- $\\Phi = \\frac{1}{5}f_{ij}^{(5)}r_i r_j = \\frac{\\epsilon_G}{2}\\frac{b^2}{t_0^2}\\hat{f}_{ij}^{(5)}\\hat{r}_i \\hat{r}_j = \\frac{5}{2}\\epsilon_G\\frac{GM}{b}\\hat{\\Phi}$ - малый потенциал \"реакции излучения\""
   ]
  },
  {
   "cell_type": "markdown",
   "metadata": {},
   "source": [
    "Безразмерный малый потенциал \"реакции излучения\" $\\hat{\\Phi} = \\frac{1}{5}\\hat{f}_{ij}^{(5)}\\hat{r}_i\\hat{r}_j$"
   ]
  },
  {
   "cell_type": "code",
   "execution_count": 65,
   "metadata": {
    "vscode": {
     "languageId": "wolfram"
    }
   },
   "outputs": [
    {
     "data": {
      "text/html": [
       "<div><img alt=\"Output\" src=\"data:image/png;base64,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\"></div>"
      ],
      "text/plain": [
       "FormBox[RowBox[{FractionBox[\"1\", \"5\"], \" \", \n",
       "\n",
       " \n",
       ">        RowBox[{\"(\", RowBox[{RowBox[{OverscriptBox[\"r\", \"^\"], \" \", \n",
       "\n",
       " \n",
       ">              RowBox[{\"cos\", \"(\", \"ϕ\", \")\"}], \" \", \n",
       "\n",
       " \n",
       ">              RowBox[{\"(\", RowBox[{RowBox[{OverscriptBox[\"r\", \"^\"], \" \", \n",
       "\n",
       " \n",
       ">                    RowBox[{\"sin\", \"(\", \"ϕ\", \")\"}], \" \", \n",
       "\n",
       " \n",
       ">                    TemplateBox[List[SubscriptBox[OverscriptBox[\"f\", \"^\"], \n",
       "\n",
       " \n",
       ">                       RowBox[List[\"x\", \",\", \"y\"]]], \"\\\"(5)\\\"\"], \"Superscript\", \n",
       "\n",
       " \n",
       ">                     Rule[SyntaxForm, SuperscriptBox]]}], \"+\", \n",
       "\n",
       " \n",
       ">                  RowBox[{OverscriptBox[\"r\", \"^\"], \" \", \n",
       "\n",
       " \n",
       ">                    RowBox[{\"cos\", \"(\", \"ϕ\", \")\"}], \" \", \n",
       "\n",
       " \n",
       ">                    TemplateBox[List[SubscriptBox[OverscriptBox[\"f\", \"^\"], \n",
       "\n",
       " \n",
       ">                       RowBox[List[\"x\", \",\", \"x\"]]], \"\\\"(5)\\\"\"], \"Superscript\", \n",
       "\n",
       " \n",
       ">                     Rule[SyntaxForm, SuperscriptBox]]}]}], \")\"}]}], \"+\", \n",
       "\n",
       " \n",
       ">            RowBox[{OverscriptBox[\"r\", \"^\"], \" \", RowBox[{\"sin\", \"(\", \"ϕ\", \")\"}], \" \", \n",
       "\n",
       " \n",
       ">              RowBox[{\"(\", RowBox[{RowBox[{OverscriptBox[\"r\", \"^\"], \" \", \n",
       "\n",
       " \n",
       ">                    RowBox[{\"cos\", \"(\", \"ϕ\", \")\"}], \" \", \n",
       "\n",
       " \n",
       ">                    TemplateBox[List[SubscriptBox[OverscriptBox[\"f\", \"^\"], \n",
       "\n",
       " \n",
       ">                       RowBox[List[\"x\", \",\", \"y\"]]], \"\\\"(5)\\\"\"], \"Superscript\", \n",
       "\n",
       " \n",
       ">                     Rule[SyntaxForm, SuperscriptBox]]}], \"+\", \n",
       "\n",
       " \n",
       ">                  RowBox[{OverscriptBox[\"r\", \"^\"], \" \", RowBox[{\"sin\", \"(\", \"ϕ\", \")\"}],\\\n",
       " \n",
       ">    \n",
       "                 \" \", TemplateBox[List[SubscriptBox[OverscriptBox[\"f\", \"^\"], \n",
       "\n",
       " \n",
       ">                       RowBox[List[\"y\", \",\", \"y\"]]], \"\\\"(5)\\\"\"], \"Superscript\", \n",
       "\n",
       " \n",
       ">                     Rule[SyntaxForm, SuperscriptBox]]}]}], \")\"}]}]}], \")\"}]}], \n",
       "\n",
       " \n",
       ">      TraditionalForm]\n"
      ]
     },
     "execution_count": 65,
     "metadata": {
      "text/html": [],
      "text/plain": []
     },
     "output_type": "execute_result"
    }
   ],
   "source": [
    "fh5rhrh = 1/5 EinsteinSummation[{{i, j}, {i}, {j}}, {fh5, rh, rh}];\n",
    "fh5rhrh // TraditionalForm"
   ]
  },
  {
   "cell_type": "markdown",
   "metadata": {},
   "source": [
    "Безразмерный лагранжиан\n",
    "\n",
    "$$\n",
    "\\hat{L} = \\hat{T} - (\\hat{U} + \\frac{5}{2}\\epsilon_G\\hat{\\Phi}),\n",
    "$$\n",
    "или\n",
    "$$\n",
    "\\hat{L} = \\frac{1}{2} \\left((\\hat{r}^{(1)})^2 + \\hat{r}^2 \\hat{\\omega}^2 \\right) + \\frac{1}{\\hat{r}} - \\frac{\\epsilon_G}{2}\\hat{f}_{ij}^{(5)}\\hat{r}_i \\hat{r}_j.\n",
    "$$"
   ]
  },
  {
   "cell_type": "markdown",
   "metadata": {},
   "source": [
    "### **Уравнения Эйлера-Лагранжа**\n",
    "Уравнения Эйлера-Лагранжа имеют вид:\n",
    "$$\n",
    "\\frac{d}{dt} \\left( \\frac{\\partial \\hat{L}}{\\partial \\dot{q}_i} \\right) - \\frac{\\partial \\hat{L}}{\\partial q_i} = 0,\n",
    "$$\n",
    "где $q_i$ — обобщённые координаты ($\\hat{r}$ и $\\phi$)."
   ]
  },
  {
   "cell_type": "markdown",
   "metadata": {},
   "source": [
    "---\n",
    "\n",
    "#### Уравнение для координаты $\\hat{r}$:\n",
    "$$\n",
    "\\frac{d}{d\\hat{t}} \\left(\\frac{\\partial \\hat{L}}{\\partial \\hat{r}^{(1)}} \\right) - \\frac{\\partial \\hat{L}}{\\partial \\hat{r}} = 0.\n",
    "$$\n",
    "Вычислим производные:\n",
    "$$\n",
    "\\frac{\\partial \\hat{L}}{\\partial \\hat{r}^{(1)}} = \\hat{r}^{(1)}, \\quad \\frac{d}{d\\hat{t}} \\left( \\frac{\\partial \\hat{L}}{\\partial \\hat{r}^{(1)}} \\right) = \\hat{r}^{(2)},\n",
    "$$\n",
    "$$\n",
    "\\frac{\\partial \\hat{L}}{\\partial \\hat{r}} = \\hat{r} \\hat{\\omega}^2 - \\frac{1}{\\hat{r}^2} - \\frac{5}{2}\\epsilon_G\\frac{\\partial \\hat{\\Phi}}{\\partial \\hat{r}}.\n",
    "$$\n",
    "Подставляем в уравнение Эйлера-Лагранжа:\n",
    "$$\n",
    "\\hat{r}^{(2)} - \\hat{r} \\hat{\\omega}^2 + \\frac{1}{\\hat{r}^2} = - \\frac{5}{2}\\epsilon_G\\frac{\\partial \\hat{\\Phi}}{\\partial \\hat{r}}.\n",
    "$$\n",
    "\n",
    "Это **радиальное уравнение движения**.\n",
    "\n",
    "Здесь \n",
    "$$\n",
    "\\frac{\\partial \\hat{\\Phi}}{\\partial \\hat{r}} = \\frac{1}{5}\\hat{f}_{ij}^{(5)}\\left(\\frac{\\partial \\hat{r}_i}{\\partial \\hat{r}}\\hat{r}_j + \\hat{r}_i\\frac{\\partial \\hat{r}_j}{\\partial \\hat{r}}\\right)\n",
    "$$\n",
    "<span style=\"color:red\">**TODO_1:**</span> Обсудить почему $\\hat{f}_{ij}^{(5)}$ берётся заданной функцией, не зависящей от $\\hat{r}$ при вариации лагранжиана."
   ]
  },
  {
   "cell_type": "markdown",
   "metadata": {},
   "source": [
    "Правая часть радиального уравнения движения будет выглядеть как"
   ]
  },
  {
   "cell_type": "code",
   "execution_count": 67,
   "metadata": {
    "vscode": {
     "languageId": "wolfram"
    }
   },
   "outputs": [
    {
     "data": {
      "text/html": [
       "<div><img alt=\"Output\" src=\"data:image/png;base64,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\"></div>"
      ],
      "text/plain": [
       "FormBox[RowBox[{OverscriptBox[\"r\", \"^\"], \" \", \n",
       "\n",
       " \n",
       ">        RowBox[{\"(\", RowBox[{\"-\", SubscriptBox[\"ϵ\", \"G\"]}], \")\"}], \" \", \n",
       "\n",
       " \n",
       ">        RowBox[{\"(\", RowBox[{RowBox[{RowBox[{\"sin\", \"(\", RowBox[{\"2\", \" \", \"ϕ\"}], \n",
       "\n",
       " \n",
       ">                \")\"}], \" \", TemplateBox[List[SubscriptBox[OverscriptBox[\"f\", \"^\"], \n",
       "\n",
       " \n",
       ">                 RowBox[List[\"x\", \",\", \"y\"]]], \"\\\"(5)\\\"\"], \"Superscript\", \n",
       "\n",
       " \n",
       ">               Rule[SyntaxForm, SuperscriptBox]]}], \"+\", \n",
       "\n",
       " \n",
       ">            RowBox[{RowBox[{SuperscriptBox[\"cos\", \"2\"], \"(\", \"ϕ\", \")\"}], \" \", \n",
       "\n",
       " \n",
       ">              TemplateBox[List[SubscriptBox[OverscriptBox[\"f\", \"^\"], \n",
       "\n",
       " \n",
       ">                 RowBox[List[\"x\", \",\", \"x\"]]], \"\\\"(5)\\\"\"], \"Superscript\", \n",
       "\n",
       " \n",
       ">               Rule[SyntaxForm, SuperscriptBox]]}], \"+\", \n",
       "\n",
       " \n",
       ">            RowBox[{RowBox[{SuperscriptBox[\"sin\", \"2\"], \"(\", \"ϕ\", \")\"}], \" \", \n",
       "\n",
       " \n",
       ">              TemplateBox[List[SubscriptBox[OverscriptBox[\"f\", \"^\"], \n",
       "\n",
       " \n",
       ">                 RowBox[List[\"y\", \",\", \"y\"]]], \"\\\"(5)\\\"\"], \"Superscript\", \n",
       "\n",
       " \n",
       ">               Rule[SyntaxForm, SuperscriptBox]]}]}], \")\"}]}], TraditionalForm]\n"
      ]
     },
     "execution_count": 67,
     "metadata": {
      "text/html": [],
      "text/plain": []
     },
     "output_type": "execute_result"
    }
   ],
   "source": [
    "RHSMotionRadialLagrange = - 1/2 Subscript[\\[Epsilon], G] FullSimplify[EinsteinSummation[{{i, j}, {i}, {j}}, {fh5, D[rh, OverHat[r][OverHat[t]]], rh}] + EinsteinSummation[{{i, j}, {i}, {j}}, {fh5, rh, D[rh, OverHat[r][OverHat[t]]]}]];\n",
    "RHSMotionRadialLagrange // TraditionalForm"
   ]
  },
  {
   "cell_type": "markdown",
   "metadata": {},
   "source": [
    "<span style=\"color:brown\">**NB:**</span> Выражение <span style=\"color:green\">**совпадает**</span> с раннее полученным уравнением и с уравнением (10) из файла Binary.pdf"
   ]
  },
  {
   "cell_type": "code",
   "execution_count": 68,
   "metadata": {
    "vscode": {
     "languageId": "wolfram"
    }
   },
   "outputs": [
    {
     "data": {
      "text/html": [
       "<div><pre style=\"&#102;&#111;&#110;&#116;&#45;&#102;&#97;&#109;&#105;&#108;&#121;&#58;&#32;&#34;&#67;&#111;&#117;&#114;&#105;&#101;&#114;&#32;&#78;&#101;&#119;&#34;&#44;&#67;&#111;&#117;&#114;&#105;&#101;&#114;&#44;&#109;&#111;&#110;&#111;&#115;&#112;&#97;&#99;&#101;&#59;\">&#48;</pre></div>"
      ],
      "text/plain": [
       "0"
      ]
     },
     "execution_count": 68,
     "metadata": {
      "text/html": [],
      "text/plain": []
     },
     "output_type": "execute_result"
    }
   ],
   "source": [
    "RHSMotion[[1]] - RHSMotionRadialLagrange"
   ]
  },
  {
   "cell_type": "markdown",
   "metadata": {},
   "source": [
    "---\n",
    "\n",
    "#### Уравнение для координаты $\\phi$:\n",
    "$$\n",
    "\\frac{d}{d\\hat{t}} \\left(\\frac{\\partial \\hat{L}}{\\partial \\hat{\\omega}} \\right) - \\frac{\\partial \\hat{L}}{\\partial \\phi} = 0.\n",
    "$$\n",
    "Вычислим производные:\n",
    "$$\n",
    "\\frac{\\partial \\hat{L}}{\\partial \\hat{\\omega}} = \\hat{r}^2 \\hat{\\omega}, \\quad \\frac{d}{d\\hat{t}} \\left( \\frac{\\partial \\hat{L}}{\\partial \\hat{\\omega}} \\right) = \\frac{d}{d\\hat{t}} \\left( \\hat{r}^2 \\hat{\\omega} \\right),\n",
    "$$\n",
    "$$\n",
    "\\frac{\\partial \\hat{L}}{\\partial \\phi} = - \\frac{5}{2}\\epsilon_G\\frac{\\partial \\hat{\\Phi}}{\\partial \\phi}.\n",
    "$$\n",
    "Подставляем в уравнение Эйлера-Лагранжа:\n",
    "$$\n",
    "\\frac{1}{\\hat{r}}\\frac{d}{d\\hat{t}} \\left( \\hat{r}^2 \\hat{\\omega} \\right) = \\frac{1}{\\hat{r}}\\frac{d\\hat{J}}{d\\hat{t}} = - \\frac{5}{2}\\frac{\\epsilon_G}{\\hat{r}}\\frac{\\partial \\hat{\\Phi}}{\\partial \\phi}.\n",
    "$$\n",
    "\n",
    "Здесь \n",
    "$$\n",
    "\\frac{\\partial \\hat{\\Phi}}{\\partial \\phi} = \\frac{1}{5}\\hat{f}_{ij}^{(5)}\\left(\\frac{\\partial \\hat{r}_i}{\\partial \\phi}\\hat{r}_j + \\hat{r}_i\\frac{\\partial \\hat{r}_j}{\\partial \\phi}\\right)\n",
    "$$\n",
    "<span style=\"color:red\">**TODO_2:**</span> Обсудить почему $\\hat{f}_{ij}^{(5)}$ берётся заданной функцией, не зависящей от $\\phi$ при вариации лагранжиана."
   ]
  },
  {
   "cell_type": "markdown",
   "metadata": {},
   "source": [
    "Правая часть уравнения движения для $\\phi$ будет выглядеть как"
   ]
  },
  {
   "cell_type": "code",
   "execution_count": 70,
   "metadata": {
    "vscode": {
     "languageId": "wolfram"
    }
   },
   "outputs": [
    {
     "data": {
      "text/html": [
       "<div><img alt=\"Output\" src=\"data:image/png;base64,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\"></div>"
      ],
      "text/plain": [
       "FormBox[RowBox[{RowBox[{\"-\", FractionBox[\"1\", \"2\"]}], \" \", OverscriptBox[\"r\", \"^\"], \n",
       "\n",
       " \n",
       ">        \" \", SubscriptBox[\"ϵ\", \"G\"], \" \", \n",
       "\n",
       " \n",
       ">        RowBox[{\"(\", RowBox[{RowBox[{RowBox[{\"sin\", \"(\", RowBox[{\"2\", \" \", \"ϕ\"}], \n",
       "\n",
       " \n",
       ">                \")\"}], \" \", RowBox[{\"(\", \n",
       "\n",
       " \n",
       ">                RowBox[{TemplateBox[List[SubscriptBox[OverscriptBox[\"f\", \"^\"], \n",
       "\n",
       " \n",
       ">                     RowBox[List[\"y\", \",\", \"y\"]]], \"\\\"(5)\\\"\"], \"Superscript\", \n",
       "\n",
       " \n",
       ">                   Rule[SyntaxForm, SuperscriptBox]], \"-\", \n",
       "\n",
       " \n",
       ">                  TemplateBox[List[SubscriptBox[OverscriptBox[\"f\", \"^\"], \n",
       "\n",
       " \n",
       ">                     RowBox[List[\"x\", \",\", \"x\"]]], \"\\\"(5)\\\"\"], \"Superscript\", \n",
       "\n",
       " \n",
       ">                   Rule[SyntaxForm, SuperscriptBox]]}], \")\"}]}], \"+\", \n",
       "\n",
       " \n",
       ">            RowBox[{\"2\", \" \", RowBox[{\"cos\", \"(\", RowBox[{\"2\", \" \", \"ϕ\"}], \")\"}], \" \", \n",
       "\n",
       " \n",
       ">              TemplateBox[List[SubscriptBox[OverscriptBox[\"f\", \"^\"], \n",
       "\n",
       " \n",
       ">                 RowBox[List[\"x\", \",\", \"y\"]]], \"\\\"(5)\\\"\"], \"Superscript\", \n",
       "\n",
       " \n",
       ">               Rule[SyntaxForm, SuperscriptBox]]}]}], \")\"}]}], TraditionalForm]\n"
      ]
     },
     "execution_count": 70,
     "metadata": {
      "text/html": [],
      "text/plain": []
     },
     "output_type": "execute_result"
    }
   ],
   "source": [
    "RHSMotionPhiLagrange = - 1/2 Subscript[\\[Epsilon], G] FullSimplify[EinsteinSummation[{{i, j}, {i}, {j}}, {fh5, D[rh, \\[Phi][OverHat[t]]], rh}] + EinsteinSummation[{{i, j}, {i}, {j}}, {fh5, rh, D[rh, \\[Phi][OverHat[t]]]}]]/OverHat[r][OverHat[t]];\n",
    "RHSMotionPhiLagrange // TraditionalForm"
   ]
  },
  {
   "cell_type": "markdown",
   "metadata": {},
   "source": [
    "<span style=\"color:brown\">**NB:**</span> Выражение <span style=\"color:green\">**совпадает**</span> с раннее полученным уравнением и с уравнением (9) из файла Binary.pdf"
   ]
  },
  {
   "cell_type": "code",
   "execution_count": 71,
   "metadata": {
    "vscode": {
     "languageId": "wolfram"
    }
   },
   "outputs": [
    {
     "data": {
      "text/html": [
       "<div><pre style=\"&#102;&#111;&#110;&#116;&#45;&#102;&#97;&#109;&#105;&#108;&#121;&#58;&#32;&#34;&#67;&#111;&#117;&#114;&#105;&#101;&#114;&#32;&#78;&#101;&#119;&#34;&#44;&#67;&#111;&#117;&#114;&#105;&#101;&#114;&#44;&#109;&#111;&#110;&#111;&#115;&#112;&#97;&#99;&#101;&#59;\">&#48;</pre></div>"
      ],
      "text/plain": [
       "0"
      ]
     },
     "execution_count": 71,
     "metadata": {
      "text/html": [],
      "text/plain": []
     },
     "output_type": "execute_result"
    }
   ],
   "source": [
    "RHSMotion[[2]] - RHSMotionPhiLagrange"
   ]
  },
  {
   "cell_type": "markdown",
   "metadata": {},
   "source": [
    "## Получим **энергетическую** систему уравнений в подходе Лагранжа"
   ]
  },
  {
   "cell_type": "markdown",
   "metadata": {},
   "source": [
    "Заметим, что энергия системы:\n",
    "$$\n",
    "\\hat{E} = \\frac{(\\hat{r}^{(1)})^2}{2} + \\frac{\\hat{r}^2 \\hat{\\omega}^2}{2} - \\frac{1}{\\hat{r}}\n",
    "$$\n",
    "$$\n",
    "\\frac{1}{\\hat{r}^{(1)}}\\left(\\frac{d\\hat{E}}{d\\hat{t}} - \\hat{\\omega} \\frac{d\\hat{J}}{d\\hat{t}}\\right) = \\hat{r}^{(2)} - \\hat{r} \\hat{\\omega}^2 + \\frac{1}{\\hat{r}^2}\n",
    "$$\n",
    "\n",
    "А также уравнение для изменения момента импульса системы есть\n",
    "$$\n",
    "\\frac{d\\hat{J}}{d\\hat{t}} = - \\frac{5}{2}\\epsilon_G\\frac{\\partial \\hat{\\Phi}}{\\partial \\phi}.\n",
    "$$\n",
    "\n",
    "Итоговая энергетическая система, выведенная по-новому будет записываться как:\n",
    "\n",
    "$$\n",
    "\\begin{align}\n",
    "\\frac{d\\hat{E}}{d\\hat{t}} &= - \\frac{5}{2}\\epsilon_G\\left(\\hat{r}^{(1)}\\frac{\\partial \\hat{\\Phi}}{\\partial \\hat{r}} + \\hat{\\omega} \\frac{\\partial \\hat{\\Phi}}{\\partial \\phi}\\right) = - \\frac{5}{2}\\epsilon_G \\frac{d\\hat{\\Phi}}{d\\hat{t}}\n",
    "  = - \\frac{\\epsilon_G}{2}\\hat{f}_{ij}^{(5)}\\left(\\frac{d\\hat{r}_i}{d\\hat{t}}\\hat{r}_j + \\hat{r}_i\\frac{d\\hat{r}_j}{d\\hat{t}}\\right)\n",
    "  = - \\frac{\\epsilon_G}{2}\\hat{f}_{ij}^{(5)}\\frac{d(\\hat{r}_i \\hat{r}_j)}{d\\hat{t}}\n",
    "\\\\\n",
    "\\frac{d\\hat{J}}{d\\hat{t}} &= - \\frac{5}{2}\\epsilon_G\\frac{\\partial \\hat{\\Phi}}{\\partial \\phi}\n",
    "  = - \\frac{\\epsilon_G}{2}\\hat{f}_{ij}^{(5)}\\left(\\frac{\\partial \\hat{r}_i}{\\partial \\phi}\\hat{r}_j + \\hat{r}_i\\frac{\\partial \\hat{r}_j}{\\partial \\phi}\\right)\n",
    "  = - \\frac{\\epsilon_G}{2}\\hat{f}_{ij}^{(5)}\\frac{d(\\hat{r}_i \\hat{r}_j)}{d\\phi}\n",
    "\\end{align}\n",
    "$$"
   ]
  },
  {
   "cell_type": "markdown",
   "metadata": {},
   "source": [
    "<span style=\"color:red\">**TODO_3:**</span> Обсудить почему $\\hat{f}_{ij}^{(5)}$ берётся заданной функцией, не зависящей от $\\hat{r}, \\phi, \\hat{t}$ при вариации лагранжиана."
   ]
  },
  {
   "cell_type": "code",
   "execution_count": 73,
   "metadata": {
    "vscode": {
     "languageId": "wolfram"
    }
   },
   "outputs": [
    {
     "data": {
      "text/html": [
       "<div><img alt=\"Output\" src=\"data:image/png;base64,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\"></div>"
      ],
      "text/plain": [
       "FormBox[TagBox[RowBox[{\"(\", \"⁠\", \n",
       "\n",
       " \n",
       ">         TagBox[GridBox[{{RowBox[{OverscriptBox[\"r\", \"^\"], \" \", \n",
       "\n",
       " \n",
       ">               RowBox[{\"(\", RowBox[{\"-\", SubscriptBox[\"ϵ\", \"G\"]}], \")\"}], \" \", \n",
       "\n",
       " \n",
       ">               RowBox[{\"(\", RowBox[{RowBox[{OverscriptBox[\"r\", \"^\"], \" \", \n",
       "\n",
       " \n",
       ">                     OverscriptBox[\"ω\", \"^\"], \" \", \n",
       "\n",
       " \n",
       ">                     RowBox[{\"(\", RowBox[{RowBox[{RowBox[{\"cos\", \"(\", \n",
       "\n",
       " \n",
       ">                             RowBox[{\"2\", \" \", \"ϕ\"}], \")\"}], \" \", \n",
       "\n",
       " \n",
       ">                           TemplateBox[List[SubscriptBox[OverscriptBox[\"f\", \n",
       "\n",
       " \n",
       ">                             \"^\"], RowBox[List[\"x\", \",\", \"y\"]]], \"\\\"(5)\\\"\"], \n",
       "\n",
       " \n",
       ">                            \"Superscript\", Rule[SyntaxForm, SuperscriptBox]]}], \n",
       "\n",
       " \n",
       ">                         \"+\", RowBox[{RowBox[{\"sin\", \"(\", \"ϕ\", \")\"}], \" \", \n",
       "\n",
       " \n",
       ">                           RowBox[{\"cos\", \"(\", \"ϕ\", \")\"}], \" \", \n",
       "\n",
       " \n",
       ">                           RowBox[{\"(\", \n",
       "\n",
       " \n",
       ">                             RowBox[{TemplateBox[List[SubscriptBox[\n",
       "\n",
       " \n",
       ">                             OverscriptBox[\"f\", \"^\"], \n",
       "\n",
       " \n",
       ">                             RowBox[List[\"y\", \",\", \"y\"]]], \"\\\"(5)\\\"\"], \n",
       "\n",
       " \n",
       ">                             \"Superscript\", Rule[SyntaxForm, SuperscriptBox]], \n",
       "\n",
       " \n",
       ">                              \"-\", \n",
       "\n",
       " \n",
       ">                              TemplateBox[List[SubscriptBox[OverscriptB\\\n",
       "\n",
       " \n",
       ">   ox[\"f\", \"^\"], RowBox[List[\"x\", \",\", \"x\"]]], \"\\\"(5)\\\"\"], \"Superscript\", \n",
       "\n",
       " \n",
       ">                              Rule[SyntaxForm, SuperscriptBox]]}], \")\"}]}]}], \")\"}]\\\n",
       "\n",
       " \n",
       ">   }], \"+\", RowBox[{SuperscriptBox[OverscriptBox[\"r\", \"^\"], \"′\"], \" \", \n",
       "\n",
       " \n",
       ">                     RowBox[{\"(\", RowBox[{RowBox[{RowBox[{\"sin\", \"(\", \n",
       "\n",
       " \n",
       ">                             RowBox[{\"2\", \" \", \"ϕ\"}], \")\"}], \" \", \n",
       "\n",
       " \n",
       ">                           TemplateBox[List[SubscriptBox[OverscriptBox[\"f\", \n",
       "\n",
       " \n",
       ">                             \"^\"], RowBox[List[\"x\", \",\", \"y\"]]], \"\\\"(5)\\\"\"], \n",
       "\n",
       " \n",
       ">                            \"Superscript\", Rule[SyntaxForm, SuperscriptBox]]}], \n",
       "\n",
       " \n",
       ">                         \"+\", RowBox[{RowBox[{SuperscriptBox[\"cos\", \"2\"], \"(\", \n",
       "\n",
       " \n",
       ">                             \"ϕ\", \")\"}], \" \", \n",
       "\n",
       " \n",
       ">                           TemplateBox[List[SubscriptBox[OverscriptBox[\"f\", \n",
       "\n",
       " \n",
       ">                             \"^\"], RowBox[List[\"x\", \",\", \"x\"]]], \"\\\"(5)\\\"\"], \n",
       "\n",
       " \n",
       ">                            \"Superscript\", Rule[SyntaxForm, SuperscriptBox]]}], \n",
       "\n",
       " \n",
       ">                         \"+\", RowBox[{RowBox[{SuperscriptBox[\"sin\", \"2\"], \"(\", \n",
       "\n",
       " \n",
       ">                             \"ϕ\", \")\"}], \" \", \n",
       "\n",
       " \n",
       ">                           TemplateBox[List[SubscriptBox[OverscriptBox[\"f\", \n",
       "\n",
       " \n",
       ">                             \"^\"], RowBox[List[\"y\", \",\", \"y\"]]], \"\\\"(5)\\\"\"], \n",
       "\n",
       " \n",
       ">                            \"Superscript\", Rule[SyntaxForm, SuperscriptBox]]}]}], \n",
       "\n",
       " \n",
       ">                       \")\"}]}]}], \")\"}]}]}, \n",
       "\n",
       " \n",
       ">            {RowBox[{RowBox[{\"-\", FractionBox[\"1\", \"2\"]}], \" \", \n",
       "\n",
       " \n",
       ">               SuperscriptBox[OverscriptBox[\"r\", \"^\"], \"2\"], \" \", \n",
       "\n",
       " \n",
       ">               SubscriptBox[\"ϵ\", \"G\"], \" \", \n",
       "\n",
       " \n",
       ">               RowBox[{\"(\", RowBox[{RowBox[{RowBox[{\"sin\", \"(\", \n",
       "\n",
       " \n",
       ">                       RowBox[{\"2\", \" \", \"ϕ\"}], \")\"}], \" \", \n",
       "\n",
       " \n",
       ">                     RowBox[{\"(\", RowBox[{TemplateBox[List[SubscriptBox[\n",
       "\n",
       " \n",
       ">                            OverscriptBox[\"f\", \"^\"], \n",
       "\n",
       " \n",
       ">                            RowBox[List[\"y\", \",\", \"y\"]]], \"\\\"(5)\\\"\"], \n",
       "\n",
       " \n",
       ">                          \"Superscript\", Rule[SyntaxForm, SuperscriptBox]], \"-\", \n",
       "\n",
       " \n",
       ">                         TemplateBox[List[SubscriptBox[OverscriptBox[\"f\", \"^\"], \n",
       "\n",
       " \n",
       ">                            RowBox[List[\"x\", \",\", \"x\"]]], \"\\\"(5)\\\"\"], \n",
       "\n",
       " \n",
       ">                          \"Superscript\", Rule[SyntaxForm, SuperscriptBox]]}], \")\"}]}\\\n",
       "\n",
       " \n",
       ">   ], \"+\", RowBox[{\"2\", \" \", RowBox[{\"cos\", \"(\", RowBox[{\"2\", \" \", \"ϕ\"}], \")\"}], \n",
       "\n",
       " \n",
       ">                     \" \", TemplateBox[List[SubscriptBox[OverscriptBox[\"f\", \"^\"], \n",
       "\n",
       " \n",
       ">                        RowBox[List[\"x\", \",\", \"y\"]]], \"\\\"(5)\\\"\"], \"Superscript\", \n",
       "\n",
       " \n",
       ">                      Rule[SyntaxForm, SuperscriptBox]]}]}], \")\"}]}]}}, \n",
       "\n",
       " \n",
       ">           Rule[RowSpacings, 1], Rule[ColumnAlignments, Center], \n",
       "\n",
       " \n",
       ">           Rule[ColumnAlignments, Left]], Column], \"⁠\", \")\"}], \n",
       "\n",
       " \n",
       ">       Function[BoxForm`e$, MatrixForm[BoxForm`e$]]], TraditionalForm]\n"
      ]
     },
     "execution_count": 73,
     "metadata": {
      "text/html": [],
      "text/plain": []
     },
     "output_type": "execute_result"
    }
   ],
   "source": [
    "RHSEnegryLagrange = - 5/2 Subscript[\\[Epsilon],G] FullSimplify[{\n",
    "  D[fh5rhrh, OverHat[t]] /. OmegaReplace,\n",
    "  D[fh5rhrh, \\[Phi][OverHat[t]]]\n",
    "}, Trig -> True];\n",
    "\n",
    "RHSEnegryLagrange // MatrixForm // TraditionalForm"
   ]
  },
  {
   "cell_type": "markdown",
   "metadata": {},
   "source": [
    "<span style=\"color:brown\">**NB:**</span> Выражения полностью <span style=\"color:green\">**совпадают**</span> с предыдущим ньютоновым подходом!"
   ]
  },
  {
   "cell_type": "code",
   "execution_count": 74,
   "metadata": {
    "vscode": {
     "languageId": "wolfram"
    }
   },
   "outputs": [
    {
     "data": {
      "text/html": [
       "<div><img alt=\"Output\" src=\"data:image/png;base64,iVBORw0KGgoAAAANSUhEUgAAACcAAAAnCAIAAAADwcZiAAAAzXpUWHRSYXcgcHJvZmlsZSB0eXBlIGV4aWYAAHjabU9bDgMhCPz3FD0CAg56HLfrJr1Bj198tI1NJxGGGUAN7fm4wq2DIwVNllEAcmjRwtVJpomZI5URB9iWF3c9vI1YXUpfA23px64b1sL8s4h4Euk3OBddA2uR8NRjnfWx+rnmvC8S2gD6PP1vrWKMhGjqUZnMUJzn4NQTElMyXLgD3hhxMundc4OZj8F6h9Q+2MHN9u4WIC6c/QvST5LqWTxGYe4KDwUeRZSP5Y6PhBcRslqCYZvzPwAAAAlwSFlzAAAOxAAADsQBlSsOGwAAADx0RVh0U29mdHdhcmUAQ3JlYXRlZCB3aXRoIHRoZSBXb2xmcmFtIExhbmd1YWdlIDogd3d3LndvbGZyYW0uY29tXKKmhQAAACF0RVh0Q3JlYXRpb24gVGltZQAyMDI1OjAzOjEyIDIyOjA2OjM0u2ZK8gAAA5tJREFUWIXNV89L81oQvfFnimkXTbEitRQpgrRCVNy4EERdKZiAi+4FRQXXijv/A6ErwV0WgpRa3KlYCHRnoGirRcRCrGAtadRWIzb1vkVB3kvuTRo+5Xtnl5nhnDvJzJ0JgCgoilIoFJCuSqWysrJC0zRFUSzLSpKEDIMQXlxc4FwtAAWe51ta0K5IJHJ8fLy7uxuLxWRZnpqaUlUVGXl0dCRJEtIFkGfZ2NhA2gVBIAjiO4mXlxeapnd2dpDBmUxme3u72Vxvb2+7u7txxx8dHR0aGmo8ulyuhYWFRCKBDA6FQplMBulCqCYSiZmZGWR0NptlGAYAcHl5mUwmAQAMw1xdXSGDAQCBQAD5khGq2Ww2FAohWRRFoWkaADA3Nzc9PV0sFmmaLpfLONWxsTFBEKxVIYSfn58EQeCIGhgZGQkGgy6XC0JoEjY8PJxKpYz2Nt3z9fW1z+fDsdA0LcsyACAejzcssiw3skeiv78/n88b7fpcRVEMh8M4lnA4nE6n/21Jp9PfxWUEQRCtra3WqrlcLhgM4ljm5+dFUfwWVhTl4OCA4zhcPADA6/WWSiW9VddJkUjk6ekJd6dACFmWDQQC8Xj89PR0fHx8cHBQVVWT+K2tLVEULfq1VCp5PB6Ts/M8Pzs7u7i4yLKs1+s9OTkhSdIkvre3t1Ao6Iz6avr6+jIv4K6urmg0Go1GTWJ0qvf39zqjPlfLnrGLnp6ex8dHC9UfB0VR7+/vZqqaprW3t/+sKkmSxqH0H9VarfYXVDVNa2vT19cfwuFwWKgCAJBXyZ+go6OjVquZqZIkqWnaz6pqmuZwOMxUf/yjNqX6G1BV1VrV8g1Xq9XV1VWPx+N0OjmOM947OlQqFWtV8ykN7OyIDby+vlIUpbfqpgHHcSYDxNaO2MDh4eHe3p7FzKEoyljo37C1IzZQLBb9fr/OqFf1+XwPDw84Crs7IgBAkiRrVb/ff3d3h6OwuyMCAPL5fF9fn4XqwMDAzc2NCUsDTe6IAIC3tzdjDetvXYZhYrEYjsLujliv1zs7O412fa5ut/v5+RnHYndHzOVyyIUecTc5nc6Pjw8ki90dMZVKTUxMIBzGDuN5/uzsDNd/tnbEpaUlpBehWi6XNzc3cUTVanVtbc3tdlMUxXEc7ucaQliv15eXl5Eu9P/r+vo6jqt5CIKwv7+PdKFnzuTk5Pn5Oe5rNYlkMsmyLNJFQKuG+w38+nz9H6n+A4dDIHDCDXQZAAAAAElFTkSuQmCC\"></div>"
      ],
      "text/plain": [
       "0\n",
       "\n",
       "0"
      ]
     },
     "execution_count": 74,
     "metadata": {
      "text/html": [],
      "text/plain": []
     },
     "output_type": "execute_result"
    }
   ],
   "source": [
    "FullSimplify[RHSEnegryLagrange - RHSEnegry] // MatrixForm"
   ]
  },
  {
   "cell_type": "markdown",
   "metadata": {},
   "source": [
    "В **размерной** же записи наши уравнения превращаются в\n",
    "$$\n",
    "\\begin{align}\n",
    "\\frac{dE}{dt} &= - \\mu\\frac{d\\Phi}{dt}\n",
    "  = - \\frac{1}{5}f_{ij}^{(5)} \\mu \\frac{d(r_i r_j)}{dt}\n",
    "  = - \\frac{1}{5}\\frac{c^5}{G}f_{ij}^{(5)} \\frac{d}{dt}\\left(f_{ij} + \\frac{1}{3} \\delta_{ij}r^2\\right)\n",
    "\\\\\n",
    "\\frac{dJ}{dt} &= - \\mu\\frac{\\partial \\Phi}{\\partial \\phi}\n",
    "  = - \\frac{1}{5}f_{ij}^{(5)} \\mu \\frac{d(r_i r_j)}{d\\phi}\n",
    "  = - \\frac{1}{5}\\frac{c^5}{G}f_{ij}^{(5)} \\frac{d}{d\\phi}\\left(f_{ij} + \\frac{1}{3} \\delta_{ij}r^2\\right)\n",
    "  = - \\frac{2}{5}\\frac{c^5}{G}\\epsilon_{ij}f_{ik}^{(5)} \\left(f_{kj} + \\frac{1}{3} \\delta_{kj}r^2\\right)\n",
    "\\end{align}\n",
    "$$"
   ]
  },
  {
   "cell_type": "markdown",
   "metadata": {},
   "source": [
    "<span style=\"color:red\">**TODO_4:**</span> Обсудить почему отбрасывается \"приводящий член\" $1/3\\,\\delta_{ij}r^2$\n",
    "\n",
    "в формулях $dE/dt, dJ/dt$ из задачника Лайтман А., Пресс В., Прайс Р., Тюкольки С. - 1979 - Сборник задач по теории относительности и гравитации (Решение задачи 18.5, стр. 446-447)\n",
    "\n",
    "Не стоит забывать, что в задачнике система геометризированных единиц $G = c = 1$."
   ]
  },
  {
   "cell_type": "code",
   "execution_count": 77,
   "metadata": {
    "vscode": {
     "languageId": "wolfram"
    }
   },
   "outputs": [
    {
     "data": {
      "text/html": [
       "<style>\n",
       "\t\t\t\t\t\t\t\t\t\t\t\t\t.grid-container {\n",
       "\t\t\t\t\t\t\t\t\t\t\t\t\t\tdisplay: inline-grid;\n",
       "\t\t\t\t\t\t\t\t\t\t\t\t\t\tgrid-template-columns: auto;\n",
       "\t\t\t\t\t\t\t\t\t\t\t\t\t}\n",
       "\t\t\t\t\t\t\t\t\t\t\t\t</style>\n",
       "\n",
       "\t\t\t\t\t\t\t\t\t\t\t\t<div><div class=\"grid-container\"><div class=\"grid-item\"><img alt=\"Output\" src=\"data:image/png;base64,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\"></div><div class=\"grid-item\"><img alt=\"Output\" src=\"data:image/png;base64,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\"></div></div></div>"
      ],
      "text/plain": [
       "FormBox[RowBox[{RowBox[{\"-\", FractionBox[\"2\", \"5\"]}], \" \", OverscriptBox[\"r\", \"^\"], \n",
       "\n",
       " \n",
       ">        \" \", RowBox[{\"(\", RowBox[{RowBox[{OverscriptBox[\"r\", \"^\"], \" \", \n",
       "\n",
       " \n",
       ">              OverscriptBox[\"ω\", \"^\"], \" \", \n",
       "\n",
       " \n",
       ">              RowBox[{\"(\", RowBox[{RowBox[{RowBox[{\"cos\", \"(\", \n",
       "\n",
       " \n",
       ">                      RowBox[{\"2\", \" \", \"ϕ\"}], \")\"}], \" \", \n",
       "\n",
       " \n",
       ">                    TemplateBox[List[SubscriptBox[OverscriptBox[\"f\", \"^\"], \n",
       "\n",
       " \n",
       ">                       RowBox[List[\"x\", \",\", \"y\"]]], \"\\\"(5)\\\"\"], \"Superscript\", \n",
       "\n",
       " \n",
       ">                     Rule[SyntaxForm, SuperscriptBox]]}], \"+\", \n",
       "\n",
       " \n",
       ">                  RowBox[{RowBox[{\"sin\", \"(\", \"ϕ\", \")\"}], \" \", \n",
       "\n",
       " \n",
       ">                    RowBox[{\"cos\", \"(\", \"ϕ\", \")\"}], \" \", \n",
       "\n",
       " \n",
       ">                    RowBox[{\"(\", RowBox[{TemplateBox[List[SubscriptBox[\n",
       "\n",
       " \n",
       ">                           OverscriptBox[\"f\", \"^\"], RowBox[List[\"y\", \",\", \"y\"]]], \n",
       "\n",
       " \n",
       ">                          \"\\\"(5)\\\"\"], \"Superscript\", \n",
       "\n",
       " \n",
       ">                         Rule[SyntaxForm, SuperscriptBox]], \"-\", \n",
       "\n",
       " \n",
       ">                        TemplateBox[List[SubscriptBox[OverscriptBox[\"f\", \"^\"], \n",
       "\n",
       " \n",
       ">                           RowBox[List[\"x\", \",\", \"x\"]]], \"\\\"(5)\\\"\"], \"Superscript\", \n",
       "\n",
       " \n",
       ">                         Rule[SyntaxForm, SuperscriptBox]]}], \")\"}]}]}], \")\"}]}], \"+\", \n",
       "\n",
       " \n",
       ">            RowBox[{SuperscriptBox[OverscriptBox[\"r\", \"^\"], \"′\"], \" \", \n",
       "\n",
       " \n",
       ">              RowBox[{\"(\", RowBox[{RowBox[{RowBox[{\"sin\", \"(\", \n",
       "\n",
       " \n",
       ">                      RowBox[{\"2\", \" \", \"ϕ\"}], \")\"}], \" \", \n",
       "\n",
       " \n",
       ">                    TemplateBox[List[SubscriptBox[OverscriptBox[\"f\", \"^\"], \n",
       "\n",
       " \n",
       ">                       RowBox[List[\"x\", \",\", \"y\"]]], \"\\\"(5)\\\"\"], \"Superscript\", \n",
       "\n",
       " \n",
       ">                     Rule[SyntaxForm, SuperscriptBox]]}], \"+\", \n",
       "\n",
       " \n",
       ">                  RowBox[{RowBox[{SuperscriptBox[\"cos\", \"2\"], \"(\", \"ϕ\", \")\"}], \" \", \n",
       "\n",
       " \n",
       ">                    TemplateBox[List[SubscriptBox[OverscriptBox[\"f\", \"^\"], \n",
       "\n",
       " \n",
       ">                       RowBox[List[\"x\", \",\", \"x\"]]], \"\\\"(5)\\\"\"], \"Superscript\", \n",
       "\n",
       " \n",
       ">                     Rule[SyntaxForm, SuperscriptBox]]}], \"+\", \n",
       "\n",
       " \n",
       ">                  RowBox[{RowBox[{SuperscriptBox[\"sin\", \"2\"], \"(\", \"ϕ\", \")\"}], \" \", \n",
       "\n",
       " \n",
       ">                    TemplateBox[List[SubscriptBox[OverscriptBox[\"f\", \"^\"], \n",
       "\n",
       " \n",
       ">                       RowBox[List[\"y\", \",\", \"y\"]]], \"\\\"(5)\\\"\"], \"Superscript\", \n",
       "\n",
       " \n",
       ">                     Rule[SyntaxForm, SuperscriptBox]]}]}], \")\"}]}]}], \")\"}]}], \n",
       "\n",
       " \n",
       ">      TraditionalForm]\n",
       "\n",
       "FormBox[RowBox[{RowBox[{\"-\", FractionBox[\"1\", \"5\"]}], \" \", \n",
       "\n",
       " \n",
       ">        SuperscriptBox[OverscriptBox[\"r\", \"^\"], \"2\"], \" \", \n",
       "\n",
       " \n",
       ">        RowBox[{\"(\", RowBox[{RowBox[{RowBox[{\"sin\", \"(\", RowBox[{\"2\", \" \", \"ϕ\"}], \n",
       "\n",
       " \n",
       ">                \")\"}], \" \", RowBox[{\"(\", \n",
       "\n",
       " \n",
       ">                RowBox[{TemplateBox[List[SubscriptBox[OverscriptBox[\"f\", \"^\"], \n",
       "\n",
       " \n",
       ">                     RowBox[List[\"x\", \",\", \"x\"]]], \"\\\"(5)\\\"\"], \"Superscript\", \n",
       "\n",
       " \n",
       ">                   Rule[SyntaxForm, SuperscriptBox]], \"-\", \n",
       "\n",
       " \n",
       ">                  TemplateBox[List[SubscriptBox[OverscriptBox[\"f\", \"^\"], \n",
       "\n",
       " \n",
       ">                     RowBox[List[\"y\", \",\", \"y\"]]], \"\\\"(5)\\\"\"], \"Superscript\", \n",
       "\n",
       " \n",
       ">                   Rule[SyntaxForm, SuperscriptBox]]}], \")\"}]}], \"-\", \n",
       "\n",
       " \n",
       ">            RowBox[{\"2\", \" \", RowBox[{\"cos\", \"(\", RowBox[{\"2\", \" \", \"ϕ\"}], \")\"}], \" \", \n",
       "\n",
       " \n",
       ">              TemplateBox[List[SubscriptBox[OverscriptBox[\"f\", \"^\"], \n",
       "\n",
       " \n",
       ">                 RowBox[List[\"x\", \",\", \"y\"]]], \"\\\"(5)\\\"\"], \"Superscript\", \n",
       "\n",
       " \n",
       ">               Rule[SyntaxForm, SuperscriptBox]]}]}], \")\"}]}], TraditionalForm]\n"
      ]
     },
     "execution_count": 77,
     "metadata": {
      "text/html": [],
      "text/plain": []
     },
     "output_type": "execute_result"
    }
   ],
   "source": [
    "KroneckerDeltaR2 = Simplify[Array[1/3*KroneckerDelta[#, #2]*(OverHat[r][OverHat[t]])^2 &, {2, 2}], Trig -> True];\n",
    "leviCivitaArray = Normal[LeviCivitaTensor[2]];\n",
    "-1/5 FullSimplify[EinsteinSummation[{{i, j}, {i, j}}, {fh5, D[fh + KroneckerDeltaR2, OverHat[t]]}] /. OmegaReplace] // TraditionalForm\n",
    "-2/5 FullSimplify[EinsteinSummation[{{i, j}, {i, k}, {k, j}}, {leviCivitaArray, fh5, (fh + KroneckerDeltaR2)}]] // TraditionalForm"
   ]
  },
  {
   "cell_type": "markdown",
   "metadata": {},
   "source": [
    "# Итоговая система **энергетических** уравнений:\n",
    "\n",
    "$$\n",
    "\\begin{align}\n",
    "\\tag{dJ/dt}\n",
    "\\frac{d\\hat{J}}{d\\hat{t}} &= -\\frac{1}{2} \\epsilon_G\n",
    "\\hat{r}^2\n",
    "\\left(\n",
    "  \\sin (2 \\phi ) \\left(\\hat{f}_{y,y}{}^{\\text{(5)}}-\\hat{f}_{x,x}{}^{\\text{(5)}}\\right)+2 \\cos (2 \\phi ) \\hat{f}_{x,y}{}^{\\text{(5)}}\n",
    "\\right)\n",
    "= \\epsilon_G I_J\n",
    "\\\\\n",
    "\\tag{dE/dt}\n",
    "\\frac{d\\hat{E}}{d\\hat{t}} &= \\epsilon_G\n",
    "\\left(\n",
    "  I_J\\hat{\\omega}\n",
    "  -\\hat{r} \\hat{r}'\n",
    "  \\left(\n",
    "  \\sin (2 \\phi ) \\hat{f}_{x,y}{}^{\\text{(5)}}+\\cos ^2(\\phi ) \\hat{f}_{x,x}{}^{\\text{(5)}}+\\sin ^2(\\phi ) \\hat{f}_{y,y}{}^{\\text{(5)}}\n",
    "  \\right)\n",
    "\\right)\n",
    "= \\epsilon_G I_E\n",
    "\\end{align}\n",
    "$$"
   ]
  },
  {
   "cell_type": "markdown",
   "metadata": {},
   "source": [
    "# RHS уравнения (dJ/dt)\n",
    "\n",
    "Введём новое обозначение $\\hat{r}^2 \\equiv \\hat{r}_2$"
   ]
  },
  {
   "cell_type": "code",
   "execution_count": 79,
   "metadata": {
    "vscode": {
     "languageId": "wolfram"
    }
   },
   "outputs": [],
   "source": [
    "ToR2Replacement = {\n",
    "  OverHat[r][OverHat[t]] -> Sqrt[Subscript[OverHat[r],2][OverHat[t]]],\n",
    "  Derivative[n_][OverHat[r]][OverHat[t]] :> D[Sqrt[Subscript[OverHat[r], 2][OverHat[t]]], {OverHat[t], n}]\n",
    "};"
   ]
  },
  {
   "cell_type": "markdown",
   "metadata": {},
   "source": [
    "и подставим в (dJ/dt) значения $\\hat{f}_{i,j}^{(5)}$:"
   ]
  },
  {
   "cell_type": "code",
   "execution_count": 85,
   "metadata": {
    "vscode": {
     "languageId": "wolfram"
    }
   },
   "outputs": [
    {
     "data": {
      "text/html": [
       "<div><img alt=\"Output\" src=\"data:image/png;base64,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\"></div>"
      ],
      "text/plain": [
       "FormBox[RowBox[{SubscriptBox[OverscriptBox[\"r\", \"^\"], \"2\"], \" \", \n",
       "\n",
       " \n",
       ">        RowBox[{\"(\", RowBox[{RowBox[{\"-\", \n",
       "\n",
       " \n",
       ">              RowBox[{\"5\", \" \", SuperscriptBox[SubscriptBox[OverscriptBox[\"r\", \"^\"], \n",
       "\n",
       " \n",
       ">                  \"2\"], \"′\"], \" \", SuperscriptBox[OverscriptBox[\"ω\", \"^\"], \"′′′\"]}]}], \n",
       "\n",
       " \n",
       ">            \"-\", RowBox[{\"10\", \" \", SuperscriptBox[SubscriptBox[OverscriptBox[\"r\", \n",
       "\n",
       " \n",
       ">                 \"^\"], \"2\"], \"′′′\"], \" \", SuperscriptBox[OverscriptBox[\"ω\", \"^\"],\\\n",
       " \n",
       ">    \"′\"]}]\\\n",
       ", \"+\", RowBox[{\"120\", \" \", SuperscriptBox[OverscriptBox[\"ω\", \"^\"], \"2\"], \"\\\n",
       " \n",
       ">    \", \n",
       "           SuperscriptBox[SubscriptBox[OverscriptBox[\"r\", \"^\"], \"2\"], \"′\"], \"\\\n",
       " \n",
       ">    \", \n",
       "           SuperscriptBox[OverscriptBox[\"ω\", \"^\"], \"′\"]}], \"+\", \n",
       "\n",
       " \n",
       ">            RowBox[{\"60\", \" \", SubscriptBox[OverscriptBox[\"r\", \"^\"], \"2\"], \" \", \n",
       "\n",
       " \n",
       ">              OverscriptBox[\"ω\", \"^\"], \" \", \n",
       "           SuperscriptBox[RowBox[{\"(\", \n",
       "\n",
       " \n",
       ">                 SuperscriptBox[OverscriptBox[\"ω\", \"^\"], \"′\"], \")\"}], \"2\"]}], \"+\", \n",
       "\n",
       " \n",
       ">            RowBox[{\"40\", \" \", SuperscriptBox[OverscriptBox[\"ω\", \"^\"], \"3\"], \" \", \n",
       "\n",
       " \n",
       ">              SuperscriptBox[SubscriptBox[OverscriptBox[\"r\", \"^\"], \"2\"], \"′′\"]}], \"+\", \n",
       "\n",
       " \n",
       ">            RowBox[{\"40\", \" \", SubscriptBox[OverscriptBox[\"r\", \"^\"], \"2\"], \" \", \n",
       "\n",
       " \n",
       ">              SuperscriptBox[OverscriptBox[\"ω\", \"^\"], \"2\"], \" \", \n",
       "\n",
       " \n",
       ">              SuperscriptBox[OverscriptBox[\"ω\", \"^\"], \"′′\"]}], \"-\", \n",
       "\n",
       " \n",
       ">            RowBox[{\"10\", \" \", SuperscriptBox[SubscriptBox[OverscriptBox[\"r\", \"^\"], \n",
       "\n",
       " \n",
       ">                \"2\"], \"′′\"], \" \", SuperscriptBox[OverscriptBox[\"ω\", \"^\"], \"′′\"]}], \"-\",\\\n",
       " \n",
       ">    \n",
       "         RowBox[{\"5\", \" \", OverscriptBox[\"ω\", \"^\"], \" \", \n",
       "\n",
       " \n",
       ">              SuperscriptBox[SubscriptBox[OverscriptBox[\"r\", \"^\"], \"2\"], \"′′′′\"]}],\\\n",
       " \n",
       ">    \"-\", \n",
       "         RowBox[{SubscriptBox[OverscriptBox[\"r\", \"^\"], \"2\"], \" \", \n",
       "\n",
       " \n",
       ">              SuperscriptBox[OverscriptBox[\"ω\", \"^\"], \"′′′′\"]}], \"-\", \n",
       "\n",
       " \n",
       ">            RowBox[{RowBox[{\"16\"}], \" \", SubscriptBox[OverscriptBox[\"r\", \"^\"], \"2\"], \n",
       "\n",
       " \n",
       ">              \" \", SuperscriptBox[OverscriptBox[\"ω\", \"^\"], \"5\"]}]}], \")\"}]}], \n",
       "\n",
       " \n",
       ">      TraditionalForm]\n"
      ]
     },
     "execution_count": 85,
     "metadata": {
      "text/html": [],
      "text/plain": []
     },
     "output_type": "execute_result"
    }
   ],
   "source": [
    "fh1 = fh /. ToR2Replacement;\n",
    "fh5Symbolic = Simplify[D[fh1, {OverHat[t], 5}], Trig -> True];\n",
    "\n",
    "Fh5Replacement = Flatten[{\n",
    "  Outer[\n",
    "    Superscript[Subscript[OverHat[f], #1, #2], \"(5)\"] -> fh5Symbolic[[#1 /. {x -> 1, y -> 2}, #2 /. {x -> 1, y -> 2}]] &,\n",
    "    {x, y}, {x, y}\n",
    "  ],\n",
    "  ToR2Replacement,\n",
    "  OmegaReplace\n",
    "}];\n",
    "\n",
    "dJdtTemp = RHSEnegryLagrange[[2]] //. Fh5Replacement;\n",
    "dJdt = Subscript[OverHat[r],2][OverHat[t]]*Expand[Simplify[dJdtTemp/Subscript[\\[Epsilon], G], Trig -> True]/Subscript[OverHat[r],2][OverHat[t]]];\n",
    "dJdt // TraditionalForm"
   ]
  },
  {
   "cell_type": "markdown",
   "metadata": {},
   "source": [
    "<span style=\"color:brown\">**NB:**</span> В файле Binary.pdf выводится <span style=\"color:green\">**точно такое же**</span> выражение"
   ]
  },
  {
   "cell_type": "markdown",
   "metadata": {},
   "source": [
    "$$\n",
    "I_J = I_1 = \\hat{r}_2 \\left[ 120\\hat{r}_2^{(1)}\\hat{\\omega}^2\\hat{\\omega}^{(1)} - 5\\hat{r}_2^{(1)}\\hat{\\omega}^{(3)} - 16\\hat{r}_2\\hat{\\omega}^5 - 10\\hat{r}_2^{(2)}\\hat{\\omega}^{(2)} + 60\\hat{r}_2\\hat{\\omega}(\\hat{\\omega}^{(1)})^2\n",
    "- 10\\hat{r}_2^{(3)}\\hat{\\omega}^{(1)} + 40\\hat{r}_2^{(2)}\\hat{\\omega}^3 - 5\\hat{r}_2^{(4)}\\hat{\\omega} - \\hat{r}_2\\hat{\\omega}^{(4)} + 40\\hat{r}_2\\hat{\\omega}^2\\hat{\\omega}^{(2)} \\right]\n",
    "$$"
   ]
  },
  {
   "cell_type": "code",
   "execution_count": 87,
   "metadata": {
    "vscode": {
     "languageId": "wolfram"
    }
   },
   "outputs": [
    {
     "data": {
      "text/html": [
       "<div><pre style=\"&#102;&#111;&#110;&#116;&#45;&#102;&#97;&#109;&#105;&#108;&#121;&#58;&#32;&#34;&#67;&#111;&#117;&#114;&#105;&#101;&#114;&#32;&#78;&#101;&#119;&#34;&#44;&#67;&#111;&#117;&#114;&#105;&#101;&#114;&#44;&#109;&#111;&#110;&#111;&#115;&#112;&#97;&#99;&#101;&#59;\">&#48;</pre></div>"
      ],
      "text/plain": [
       "0"
      ]
     },
     "execution_count": 87,
     "metadata": {
      "text/html": [],
      "text/plain": []
     },
     "output_type": "execute_result"
    }
   ],
   "source": [
    "I1 = Subscript[OverHat[r], 2][OverHat[t]] * (\n",
    "    120 * Derivative[1][Subscript[OverHat[r], 2]][OverHat[t]] *\n",
    "    OverHat[\\[Omega]][OverHat[t]]^2 * Derivative[1][OverHat[\\[Omega]]][OverHat[t]]\n",
    "    - 5 * Derivative[1][Subscript[OverHat[r], 2]][OverHat[t]] *\n",
    "    Derivative[3][OverHat[\\[Omega]]][OverHat[t]]\n",
    "    - 16 * Subscript[OverHat[r], 2][OverHat[t]] *\n",
    "    OverHat[\\[Omega]][OverHat[t]]^5\n",
    "    - 10 * Derivative[2][Subscript[OverHat[r], 2]][OverHat[t]] *\n",
    "    Derivative[2][OverHat[\\[Omega]]][OverHat[t]]\n",
    "    + 60 * Subscript[OverHat[r], 2][OverHat[t]] *\n",
    "    OverHat[\\[Omega]][OverHat[t]] * Derivative[1][OverHat[\\[Omega]]][OverHat[t]]^2\n",
    "    - 10 * Derivative[3][Subscript[OverHat[r], 2]][OverHat[t]] *\n",
    "    Derivative[1][OverHat[\\[Omega]]][OverHat[t]]\n",
    "    + 40 * Derivative[2][Subscript[OverHat[r], 2]][OverHat[t]] *\n",
    "    OverHat[\\[Omega]][OverHat[t]]^3\n",
    "    - 5 * Derivative[4][Subscript[OverHat[r], 2]][OverHat[t]] *\n",
    "    OverHat[\\[Omega]][OverHat[t]]\n",
    "    - Subscript[OverHat[r], 2][OverHat[t]] *\n",
    "    Derivative[4][OverHat[\\[Omega]]][OverHat[t]]\n",
    "    + 40 * Subscript[OverHat[r], 2][OverHat[t]] *\n",
    "    OverHat[\\[Omega]][OverHat[t]]^2 * Derivative[2][OverHat[\\[Omega]]][OverHat[t]]\n",
    ");\n",
    "dJdt - I1"
   ]
  },
  {
   "cell_type": "markdown",
   "metadata": {},
   "source": [
    "# RHS уравнения (dE/dt)\n",
    "\n",
    "Подставим в (dE/dt) значения $\\hat{f}_{i,j}^{(5)}$:"
   ]
  },
  {
   "cell_type": "code",
   "execution_count": 90,
   "metadata": {
    "vscode": {
     "languageId": "wolfram"
    }
   },
   "outputs": [
    {
     "data": {
      "text/html": [
       "<div><img alt=\"Output\" src=\"data:image/png;base64,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\"></div>"
      ],
      "text/plain": [
       "FormBox[RowBox[{FractionBox[\"1\", \"3\"], \" \", \n",
       "\n",
       " \n",
       ">        RowBox[{\"(\", RowBox[{RowBox[{OverscriptBox[\"ω\", \"^\"], \" \", \n",
       "\n",
       " \n",
       ">              RowBox[{\"(\", RowBox[{RowBox[{\"-\", \n",
       "\n",
       " \n",
       ">                    RowBox[{\"3\", \" \", SubscriptBox[OverscriptBox[\"r\", \"^\"], \"2\"], \n",
       "\n",
       " \n",
       ">                      \" \", RowBox[{\"(\", \n",
       "\n",
       " \n",
       ">                        RowBox[{RowBox[{\"10\", \" \", \n",
       "\n",
       " \n",
       ">                            SuperscriptBox[SubscriptBox[OverscriptBox[\"r\", \"^\"], \n",
       "\n",
       " \n",
       ">                              \"2\"], \"′′′\"], \" \", \n",
       "\n",
       " \n",
       ">                            SuperscriptBox[OverscriptBox[\"ω\", \"^\"], \"′\"]}], \"+\", \n",
       "\n",
       " \n",
       ">                          RowBox[{\"10\", \" \", \n",
       "\n",
       " \n",
       ">                            SuperscriptBox[SubscriptBox[OverscriptBox[\"r\", \"^\"], \n",
       "\n",
       " \n",
       ">                              \"2\"], \"′′\"], \" \", \n",
       "\n",
       " \n",
       ">                            SuperscriptBox[OverscriptBox[\"ω\", \"^\"], \"′′\"]}], \"+\", \n",
       "\n",
       " \n",
       ">                          RowBox[{SubscriptBox[OverscriptBox[\"r\", \"^\"], \"2\"], \" \", \n",
       "\n",
       " \n",
       ">                            SuperscriptBox[OverscriptBox[\"ω\", \"^\"], \"′′′′\"]}]}], \")\"}]\\\n",
       "\n",
       " \n",
       ">   }]}], \"+\", RowBox[{\"60\", \" \", SuperscriptBox[RowBox[{\"(\", \n",
       "\n",
       " \n",
       ">                       SuperscriptBox[SubscriptBox[OverscriptBox[\"r\", \"^\"], \"2\"], \n",
       "\n",
       " \n",
       ">                        \"′\"], \")\"}], \"2\"], \" \", \n",
       "\n",
       " \n",
       ">                    SuperscriptBox[OverscriptBox[\"ω\", \"^\"], \"′′\"]}], \"+\", \n",
       "\n",
       " \n",
       ">                  RowBox[{\"90\", \" \", \n",
       "\n",
       " \n",
       ">                    SuperscriptBox[SubscriptBox[OverscriptBox[\"r\", \"^\"], \"2\"], \"′\"], \n",
       "\n",
       " \n",
       ">                    \" \", SuperscriptBox[SubscriptBox[OverscriptBox[\"r\", \"^\"], \"2\"], \n",
       "\n",
       " \n",
       ">                     \"′′\"], \" \", SuperscriptBox[OverscriptBox[\"ω\", \"^\"], \"′\"]}]}],\\\n",
       " \n",
       ">    \")\"}]\\\n",
       "}], \"+\", RowBox[{SuperscriptBox[SubscriptBox[OverscriptBox[\"r\", \"^\"], \"2\"],\\\n",
       " \n",
       ">    \"′\"], \n",
       "           \" \", RowBox[{\"(\", RowBox[{RowBox[{\"30\", \" \", \n",
       "\n",
       " \n",
       ">                    SubscriptBox[OverscriptBox[\"r\", \"^\"], \"2\"], \" \", \n",
       "\n",
       " \n",
       ">                    SuperscriptBox[OverscriptBox[\"ω\", \"^\"], \"′\"], \" \", \n",
       "\n",
       " \n",
       ">                    SuperscriptBox[OverscriptBox[\"ω\", \"^\"], \"′′\"]}], \"+\", \n",
       "\n",
       " \n",
       ">                  RowBox[{\"45\", \" \", \n",
       "\n",
       " \n",
       ">                    SuperscriptBox[SubscriptBox[OverscriptBox[\"r\", \"^\"], \"2\"], \"′\"], \n",
       "\n",
       " \n",
       ">                    \" \", SuperscriptBox[RowBox[{\"(\", \n",
       "\n",
       " \n",
       ">                       SuperscriptBox[OverscriptBox[\"ω\", \"^\"], \"′\"], \")\"}], \"2\"]}], \n",
       "\n",
       " \n",
       ">                  \"-\", SuperscriptBox[SubscriptBox[OverscriptBox[\"r\", \"^\"], \"2\"], \n",
       "\n",
       " \n",
       ">                   \"′′′′′\"]}], \")\"}]}], \"-\", \n",
       "\n",
       " \n",
       ">            RowBox[{\"60\", \" \", SuperscriptBox[OverscriptBox[\"ω\", \"^\"], \"4\"], \" \", \n",
       "\n",
       " \n",
       ">              RowBox[{\"(\", RowBox[{SuperscriptBox[RowBox[{\"(\", \n",
       "\n",
       " \n",
       ">                     SuperscriptBox[SubscriptBox[OverscriptBox[\"r\", \"^\"], \"2\"], \n",
       "\n",
       " \n",
       ">                      \"′\"], \")\"}], \"2\"], \"-\", \n",
       "\n",
       " \n",
       ">                  RowBox[{\"2\", \" \", SubscriptBox[OverscriptBox[\"r\", \"^\"], \"2\"], \" \", \n",
       "\n",
       " \n",
       ">                    SuperscriptBox[SubscriptBox[OverscriptBox[\"r\", \"^\"], \"2\"],\\\n",
       " \n",
       ">    \"′′\"]}]}\\\n",
       "], \")\"}]}], \"+\", RowBox[{\"120\", \" \", SubscriptBox[OverscriptBox[\"r\",\\\n",
       " \n",
       ">    \"^\"], \"2\"], \n",
       "           \" \", SuperscriptBox[OverscriptBox[\"ω\", \"^\"], \"3\"], \" \", \n",
       "\n",
       " \n",
       ">              RowBox[{\"(\", RowBox[{RowBox[{\"2\", \" \", \n",
       "\n",
       " \n",
       ">                    SuperscriptBox[SubscriptBox[OverscriptBox[\"r\", \"^\"], \"2\"], \"′\"], \n",
       "\n",
       " \n",
       ">                    \" \", SuperscriptBox[OverscriptBox[\"ω\", \"^\"], \"′\"]}], \"+\", \n",
       "\n",
       " \n",
       ">                  RowBox[{SubscriptBox[OverscriptBox[\"r\", \"^\"], \"2\"], \" \", \n",
       "\n",
       " \n",
       ">                    SuperscriptBox[OverscriptBox[\"ω\", \"^\"], \"′′\"]}]}], \")\"}]}], \"+\", \n",
       "\n",
       " \n",
       ">            RowBox[{\"15\", \" \", SuperscriptBox[OverscriptBox[\"ω\", \"^\"], \"2\"], \" \", \n",
       "\n",
       " \n",
       ">              RowBox[{\"(\", RowBox[{RowBox[{\"12\", \" \", \n",
       "\n",
       " \n",
       ">                    SubsuperscriptBox[OverscriptBox[\"r\", \"^\"], \"2\", \"2\"], \" \", \n",
       "\n",
       " \n",
       ">                    SuperscriptBox[RowBox[{\"(\", \n",
       "\n",
       " \n",
       ">                       SuperscriptBox[OverscriptBox[\"ω\", \"^\"], \"′\"], \")\"}], \"2\"]}], \n",
       "\n",
       " \n",
       ">                  \"+\", RowBox[{\"2\", \" \", \n",
       "\n",
       " \n",
       ">                    SuperscriptBox[SubscriptBox[OverscriptBox[\"r\", \"^\"], \"2\"], \"′\"], \n",
       "\n",
       " \n",
       ">                    \" \", SuperscriptBox[SubscriptBox[OverscriptBox[\"r\", \"^\"], \"2\"], \n",
       "\n",
       " \n",
       ">                     \"′′′\"]}], \"-\", RowBox[{SubscriptBox[OverscriptBox[\"r\", \"^\"], \n",
       "\n",
       " \n",
       ">                     \"2\"], \" \", SuperscriptBox[SubscriptBox[OverscriptBox[\"r\", \"^\"], \n",
       "\n",
       " \n",
       ">                      \"2\"], \"′′′′\"]}]}], \")\"}]}], \"-\", \n",
       "\n",
       " \n",
       ">            RowBox[{RowBox[{\"48\"}], \" \", \n",
       "\n",
       " \n",
       ">              SubsuperscriptBox[OverscriptBox[\"r\", \"^\"], \"2\", \"2\"], \" \", \n",
       "\n",
       " \n",
       ">              SuperscriptBox[OverscriptBox[\"ω\", \"^\"], \"6\"]}]}], \")\"}]}],\\\n",
       " \n",
       ">    TraditionalForm]\n"
      ]
     },
     "execution_count": 90,
     "metadata": {
      "text/html": [],
      "text/plain": []
     },
     "output_type": "execute_result"
    }
   ],
   "source": [
    "dEdtTemp = RHSEnegryLagrange[[1]] //. Fh5Replacement;\n",
    "dEdt = Simplify[dEdtTemp/Subscript[\\[Epsilon], G], Trig -> True];\n",
    "dEdt // TraditionalForm"
   ]
  },
  {
   "cell_type": "markdown",
   "metadata": {},
   "source": [
    "<span style=\"color:brown\">**NB:**</span> В файлах Binary.pdf и binary_catch1.pdf выводится <span style=\"color:green\">**точно такие же**</span> выражения для правой части (dE/dt),\n",
    "а именно $I_E = I_1\\hat{\\omega} + I_2\\frac{\\dot{r}}{r}$, где\n",
    "$$\n",
    "I_2 = 2\\hat{r}_2 \\left[ -40\\hat{r}_2\\hat{\\omega}^3\\hat{\\omega}^{(1)} - 20\\hat{\\omega}^4\\hat{r}_2^{(1)} + 5\\hat{r}_2\\hat{\\omega}\\hat{\\omega}^{(3)} + 10\\hat{r}_2\\hat{\\omega}^{(1)}\\hat{\\omega}^{(2)} + 10\\hat{\\omega}^2\\hat{r}_2^{(3)} + 30\\hat{\\omega}\\hat{\\omega}^{(1)}\\hat{r}_2^{(2)} + 20\\hat{\\omega}\\hat{\\omega}^{(2)}\\hat{r}_2^{(1)} + 15\\hat{r}_2^{(1)}(\\hat{\\omega}^{(1)})^2 - \\frac{1}{3}\\hat{r}_2^{(5)} \\right]\n",
    "$$"
   ]
  },
  {
   "cell_type": "code",
   "execution_count": 92,
   "metadata": {
    "vscode": {
     "languageId": "wolfram"
    }
   },
   "outputs": [
    {
     "data": {
      "text/html": [
       "<div><pre style=\"&#102;&#111;&#110;&#116;&#45;&#102;&#97;&#109;&#105;&#108;&#121;&#58;&#32;&#34;&#67;&#111;&#117;&#114;&#105;&#101;&#114;&#32;&#78;&#101;&#119;&#34;&#44;&#67;&#111;&#117;&#114;&#105;&#101;&#114;&#44;&#109;&#111;&#110;&#111;&#115;&#112;&#97;&#99;&#101;&#59;\">&#48;</pre></div>"
      ],
      "text/plain": [
       "0"
      ]
     },
     "execution_count": 92,
     "metadata": {
      "text/html": [],
      "text/plain": []
     },
     "output_type": "execute_result"
    }
   ],
   "source": [
    "I2 = 2 * Subscript[OverHat[r], 2][OverHat[t]] * (\n",
    "    -40 * Subscript[OverHat[r], 2][OverHat[t]] *\n",
    "    OverHat[\\[Omega]][OverHat[t]]^3 * Derivative[1][OverHat[\\[Omega]]][OverHat[t]]\n",
    "    - 20 * OverHat[\\[Omega]][OverHat[t]]^4 *\n",
    "    Derivative[1][Subscript[OverHat[r], 2]][OverHat[t]]\n",
    "    + 5 * Subscript[OverHat[r], 2][OverHat[t]] *\n",
    "    OverHat[\\[Omega]][OverHat[t]] * Derivative[3][OverHat[\\[Omega]]][OverHat[t]]\n",
    "    + 10 * Subscript[OverHat[r], 2][OverHat[t]] *\n",
    "    Derivative[1][OverHat[\\[Omega]]][OverHat[t]] *\n",
    "    Derivative[2][OverHat[\\[Omega]]][OverHat[t]]\n",
    "    + 10 * OverHat[\\[Omega]][OverHat[t]]^2 *\n",
    "    Derivative[3][Subscript[OverHat[r], 2]][OverHat[t]]\n",
    "    + 30 * OverHat[\\[Omega]][OverHat[t]] *\n",
    "    Derivative[1][OverHat[\\[Omega]]][OverHat[t]] *\n",
    "    Derivative[2][Subscript[OverHat[r], 2]][OverHat[t]]\n",
    "    + 20 * OverHat[\\[Omega]][OverHat[t]] *\n",
    "    Derivative[2][OverHat[\\[Omega]]][OverHat[t]] *\n",
    "    Derivative[1][Subscript[OverHat[r], 2]][OverHat[t]]\n",
    "    + 15 * Derivative[1][Subscript[OverHat[r], 2]][OverHat[t]] *\n",
    "    Derivative[1][OverHat[\\[Omega]]][OverHat[t]]^2\n",
    "    - (1/3) * Derivative[5][Subscript[OverHat[r], 2]][OverHat[t]]\n",
    ");\n",
    "Simplify[(I2*D[OverHat[r][OverHat[t]], OverHat[t]]/OverHat[r][OverHat[t]] + I1*OverHat[\\[Omega]][OverHat[t]] /. ToR2Replacement) - dEdt]"
   ]
  },
  {
   "cell_type": "markdown",
   "metadata": {},
   "source": [
    "# Итоговые $I_J$, $I_E$\n",
    "\n",
    "$$\n",
    "\\begin{align}\n",
    "\\tag{IJ}\\\n",
    "I_J &= \\hat{r}_2 \\left[ 120\\hat{r}_2^{(1)}\\hat{\\omega}^2\\hat{\\omega}^{(1)} - 5\\hat{r}_2^{(1)}\\hat{\\omega}^{(3)} - 16\\hat{r}_2\\hat{\\omega}^5 - 10\\hat{r}_2^{(2)}\\hat{\\omega}^{(2)} + 60\\hat{r}_2\\hat{\\omega}(\\hat{\\omega}^{(1)})^2\n",
    "- 10\\hat{r}_2^{(3)}\\hat{\\omega}^{(1)} + 40\\hat{r}_2^{(2)}\\hat{\\omega}^3 - 5\\hat{r}_2^{(4)}\\hat{\\omega} - \\hat{r}_2\\hat{\\omega}^{(4)} + 40\\hat{r}_2\\hat{\\omega}^2\\hat{\\omega}^{(2)} \\right]\n",
    "\\\\\n",
    "\\tag{IE}\n",
    "I_E &= I_J\\hat{\\omega} + \\hat{r}_2^{(1)} \\left[ -40\\hat{r}_2\\hat{\\omega}^3\\hat{\\omega}^{(1)} - 20\\hat{\\omega}^4\\hat{r}_2^{(1)} + 5\\hat{r}_2\\hat{\\omega}\\hat{\\omega}^{(3)} + 10\\hat{r}_2\\hat{\\omega}^{(1)}\\hat{\\omega}^{(2)} + 10\\hat{\\omega}^2\\hat{r}_2^{(3)} + 30\\hat{\\omega}\\hat{\\omega}^{(1)}\\hat{r}_2^{(2)} + 20\\hat{\\omega}\\hat{\\omega}^{(2)}\\hat{r}_2^{(1)} + 15\\hat{r}_2^{(1)}(\\hat{\\omega}^{(1)})^2 - \\frac{1}{3}\\hat{r}_2^{(5)} \\right]\n",
    "\\end{align}\n",
    "$$"
   ]
  },
  {
   "cell_type": "markdown",
   "metadata": {
    "vscode": {
     "languageId": "wolfram"
    }
   },
   "source": [
    "# Потеря энергии за один период обращения"
   ]
  },
  {
   "cell_type": "markdown",
   "metadata": {},
   "source": [
    "Энергию гравитационного излучени невозможно локализовать в области меньше длины одной волны.\n",
    "\n",
    "Поэтому мгновенные изменения энергии и момента не имеют физического смысла.\n",
    "\n",
    "Однако, если мы просуммируем энергию и момент по полному периоду обращения, то с такими величинами можно работать.\n",
    "\n",
    "Рассчитаем в **нулевом приближении**, сколько энергии уносится из системы\n",
    "\n",
    "гравитационными волнами за один полный оборот, интегрируя по ньютоновской гиперболической траектории\n",
    "\n",
    "начиная с момента, когда тело \"бесконечно\" далеко, до момента минимального сближения и обратно:\n",
    "$$\n",
    "\\Delta \\hat{E} = 2 \\epsilon_G \\int\\limits_{\\hat{t}_{\\text{min}}}^{\\infty}I_E(\\hat{t}) d \\hat{t}.\n",
    "$$"
   ]
  },
  {
   "cell_type": "markdown",
   "metadata": {},
   "source": [
    "В приближении Ньютона $I_J$ и $I_E$ равны нулю.\n",
    "Тогда и момент импульса и энергия сохраняются.\n",
    "\n",
    "$\\hat{J} = |\\vec{\\hat{r}} \\times \\vec{\\hat{v}}| = |\\vec{\\hat{r}}_\\infty \\times \\vec{\\hat{v}}_\\infty| = \\hat{r}\\hat{v}_\\infty \\sin(\\phi)$\n",
    "\n",
    "Так как $\\phi = \\pi/2$ на бесконечности, то $\\hat{J} = b\\hat{v}_\\infty = u$,\n",
    "то $u$ - безразмерная скорость на бесконечности.\n",
    "\n",
    "Отсюда следует, что $\\hat{\\omega} = \\frac{u}{\\hat{r}_2}$"
   ]
  },
  {
   "cell_type": "code",
   "execution_count": 93,
   "metadata": {
    "vscode": {
     "languageId": "wolfram"
    }
   },
   "outputs": [],
   "source": [
    "OmegaReplace2 = {\n",
    "   OverHat[\\[Omega]][OverHat[t]] -> u/Subscript[OverHat[r], 2][OverHat[t]],\n",
    "   Derivative[n_][OverHat[\\[Omega]]][OverHat[t]] :> u D[1/Subscript[OverHat[r], 2][OverHat[t]], {OverHat[t], n}]\n",
    "};"
   ]
  },
  {
   "cell_type": "markdown",
   "metadata": {},
   "source": [
    "Заменим переменные\n",
    "$$\n",
    "\\Delta \\hat{E} = - 2 \\epsilon_G \\int\\limits_{\\hat{r}_2^{\\text{min}}}^{\\infty}\\frac{I_E(\\hat{r}_2)}{\\hat{r}_2^{(1)}}d \\hat{r}_2,\n",
    "$$"
   ]
  },
  {
   "cell_type": "markdown",
   "metadata": {},
   "source": [
    "Здесь $\\hat{r}_2^{\\text{min}}$ - квадрат минимального расстояния между объектами:"
   ]
  },
  {
   "cell_type": "code",
   "execution_count": 95,
   "metadata": {
    "vscode": {
     "languageId": "wolfram"
    }
   },
   "outputs": [
    {
     "data": {
      "text/html": [
       "<div><img alt=\"Output\" src=\"data:image/png;base64,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\"></div>"
      ],
      "text/plain": [
       "FormBox[FractionBox[RowBox[{SuperscriptBox[\"u\", \"4\"], \"-\", \n",
       "\n",
       " \n",
       ">         RowBox[{\"2\", \" \", SqrtBox[RowBox[{SuperscriptBox[\"u\", \"4\"], \"+\", \"1\"}]]}],\\\n",
       " \n",
       ">    \"+\", \n",
       "      \"2\"}], SuperscriptBox[\"u\", \"4\"]], TraditionalForm]\n"
      ]
     },
     "execution_count": 95,
     "metadata": {
      "text/html": [],
      "text/plain": []
     },
     "output_type": "execute_result"
    }
   ],
   "source": [
    "rMin2[u_] := (2 + u^4 - 2 Sqrt[1 + u^4])/u^4;\n",
    "rMin2[u] // TraditionalForm"
   ]
  },
  {
   "cell_type": "code",
   "execution_count": 98,
   "metadata": {
    "vscode": {
     "languageId": "wolfram"
    }
   },
   "outputs": [
    {
     "data": {
      "text/html": [
       "<div><img alt=\"Output\" src=\"data:image/png;base64,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\"></div>"
      ],
      "text/plain": [
       "FormBox[RowBox[{FractionBox[RowBox[{\"16\", \" \", SuperscriptBox[\"u\", \"6\"]}], \n",
       "\n",
       " \n",
       ">         RowBox[{SubsuperscriptBox[OverscriptBox[\"r\", \"^\"], \"2\", \"4\"], \" \", \n",
       "\n",
       " \n",
       ">           SuperscriptBox[SubscriptBox[OverscriptBox[\"r\", \"^\"], \"2\"], \"′\"]}]], \"-\", \n",
       "\n",
       " \n",
       ">        FractionBox[RowBox[{\"40\", \" \", SuperscriptBox[\"u\", \"4\"], \" \", \n",
       "\n",
       " \n",
       ">           SuperscriptBox[SubscriptBox[OverscriptBox[\"r\", \"^\"], \"2\"], \"′\"]}], \n",
       "\n",
       " \n",
       ">         SubsuperscriptBox[OverscriptBox[\"r\", \"^\"], \"2\", \"4\"]], \"-\", \n",
       "\n",
       " \n",
       ">        FractionBox[RowBox[{\"4\", \" \", SuperscriptBox[\"u\", \"2\"], \" \", \n",
       "\n",
       " \n",
       ">           SuperscriptBox[RowBox[{\"(\", \n",
       "\n",
       " \n",
       ">              SuperscriptBox[SubscriptBox[OverscriptBox[\"r\", \"^\"], \"2\"], \"′′\"], \")\"}], \n",
       "\n",
       " \n",
       ">            \"2\"]}], RowBox[{SubsuperscriptBox[OverscriptBox[\"r\", \"^\"], \"2\", \"2\"], \" \", \n",
       "\n",
       " \n",
       ">           SuperscriptBox[SubscriptBox[OverscriptBox[\"r\", \"^\"], \"2\"], \"′\"]}]], \"+\", \n",
       "\n",
       " \n",
       ">        FractionBox[RowBox[{\"24\", \" \", SuperscriptBox[\"u\", \"2\"], \" \", \n",
       "\n",
       " \n",
       ">           SuperscriptBox[SubscriptBox[OverscriptBox[\"r\", \"^\"], \"2\"], \"′\"], \" \", \n",
       "\n",
       " \n",
       ">           SuperscriptBox[SubscriptBox[OverscriptBox[\"r\", \"^\"], \"2\"], \"′′\"]}], \n",
       "\n",
       " \n",
       ">         SubsuperscriptBox[OverscriptBox[\"r\", \"^\"], \"2\", \"3\"]], \"+\", \n",
       "\n",
       " \n",
       ">        FractionBox[RowBox[{\"4\", \" \", SuperscriptBox[\"u\", \"2\"], \" \", \n",
       "\n",
       " \n",
       ">           SuperscriptBox[SubscriptBox[OverscriptBox[\"r\", \"^\"], \"2\"], \"′′′′\"]}], \n",
       "\n",
       " \n",
       ">         RowBox[{SubscriptBox[OverscriptBox[\"r\", \"^\"], \"2\"], \" \", \n",
       "\n",
       " \n",
       ">           SuperscriptBox[SubscriptBox[OverscriptBox[\"r\", \"^\"], \"2\"], \"′\"]}]], \"-\", \n",
       "\n",
       " \n",
       ">        FractionBox[RowBox[{\"11\", \" \", SuperscriptBox[\"u\", \"2\"], \" \", \n",
       "\n",
       " \n",
       ">           SuperscriptBox[RowBox[{\"(\", \n",
       "\n",
       " \n",
       ">              SuperscriptBox[SubscriptBox[OverscriptBox[\"r\", \"^\"], \"2\"], \"′\"], \")\"}], \n",
       "\n",
       " \n",
       ">            \"3\"]}], SubsuperscriptBox[OverscriptBox[\"r\", \"^\"], \"2\", \"4\"]], \"-\", \n",
       "\n",
       " \n",
       ">        FractionBox[RowBox[{\"12\", \" \", SuperscriptBox[\"u\", \"2\"], \" \", \n",
       "\n",
       " \n",
       ">           SuperscriptBox[SubscriptBox[OverscriptBox[\"r\", \"^\"], \"2\"], \"′′′\"]}], \n",
       "\n",
       " \n",
       ">         SubsuperscriptBox[OverscriptBox[\"r\", \"^\"], \"2\", \"2\"]], \"+\", \n",
       "\n",
       " \n",
       ">        FractionBox[SuperscriptBox[SubscriptBox[OverscriptBox[\"r\", \"^\"], \"2\"],\\\n",
       " \n",
       ">    \"′′′′′\"], \n",
       "      \"3\"]}], TraditionalForm]\n"
      ]
     },
     "execution_count": 98,
     "metadata": {
      "text/html": [],
      "text/plain": []
     },
     "output_type": "execute_result"
    }
   ],
   "source": [
    "(* Минус учтём сразу *)\n",
    "dEdr = Simplify[-dEdt/D[Subscript[OverHat[r], 2][OverHat[t]], OverHat[t]] //. OmegaReplace2];\n",
    "Expand[Simplify[dEdr]] // TraditionalForm"
   ]
  },
  {
   "cell_type": "markdown",
   "metadata": {},
   "source": [
    "<span style=\"color:brown\">**NB:**</span> Выражение для $dE/dr$ <span style=\"color:green\">**сопадает**</span> с выраженем для интегранта из binary_catch1.pdf, если учесть деление на $\\hat{r}_2^{(1)}$"
   ]
  },
  {
   "cell_type": "markdown",
   "metadata": {},
   "source": [
    "Из сохранения энергии следует, что\n",
    "$\\hat{E} = \\hat{E}_\\infty = \\frac{u^2}{2} = \\left(\\frac{(\\hat{r}^{(1)})^2}{2} + \\frac{\\hat{r}^2 \\hat{\\omega}^2}{2} - \\frac{1}{\\hat{r}}\\right)$\n",
    "\n",
    "Тогда можно найти $\\hat{r}_2^{(1)}$:"
   ]
  },
  {
   "cell_type": "code",
   "execution_count": 101,
   "metadata": {
    "vscode": {
     "languageId": "wolfram"
    }
   },
   "outputs": [
    {
     "data": {
      "text/html": [
       "<div><img alt=\"Output\" src=\"data:image/png;base64,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\"></div>"
      ],
      "text/plain": [
       "FormBox[RowBox[{RowBox[{\"-\", \"2\"}], \" \", \n",
       "\n",
       " \n",
       ">        SqrtBox[RowBox[{RowBox[{SubscriptBox[OverscriptBox[\"r\", \"^\"], \"2\"], \" \", \n",
       "\n",
       " \n",
       ">             SuperscriptBox[\"u\", \"2\"]}], \"+\", \n",
       "\n",
       " \n",
       ">           RowBox[{\"2\", \" \", SqrtBox[SubscriptBox[OverscriptBox[\"r\", \"^\"], \"2\"]]}],\\\n",
       " \n",
       ">    \"-\", \n",
       "        SuperscriptBox[\"u\", \"2\"]}]]}], TraditionalForm]\n"
      ]
     },
     "execution_count": 101,
     "metadata": {
      "text/html": [],
      "text/plain": []
     },
     "output_type": "execute_result"
    }
   ],
   "source": [
    "eq = Energy - u^2/2 //. Flatten[{\n",
    "  ToR2Replacement,\n",
    "  OmegaReplace2,\n",
    "  D[Subscript[OverHat[r], 2][OverHat[t]], OverHat[t]]^2 -> x^2\n",
    "}];\n",
    "\n",
    "sol = Solve[eq == 0, x][[1]];\n",
    "\n",
    "x /. sol[[1]] // TraditionalForm"
   ]
  },
  {
   "cell_type": "markdown",
   "metadata": {},
   "source": [
    "А также $\\hat{r}_2^{(i)}$ для $i = 1\\dots5$"
   ]
  },
  {
   "cell_type": "code",
   "execution_count": 105,
   "metadata": {
    "vscode": {
     "languageId": "wolfram"
    }
   },
   "outputs": [
    {
     "data": {
      "text/html": [
       "<div><img alt=\"Output\" src=\"data:image/png;base64,iVBORw0KGgoAAAANSUhEUgAABB8AAAA+CAIAAADs5SR/AAAAzHpUWHRSYXcgcHJvZmlsZSB0eXBlIGV4aWYAAHjabU9RDkMhCPv3FDsCAhY9jm/zJbvBjj94uiwuayIttWBM4/U80y3AmZIWq2gAObRp4+6i0sTkTO2qszlJl7v5ScYKdLfK9wIf/9h9w2SuP4uIp5B4wbXoGliLhKef++yPlede675IaAM+Iv/vVYxRkE29KpMZmuuaXDqhMBXDiTvgwYwHk96dB8x8DBYJ6TEY4GF7eiSIG4/4gsQp0p3FaxbmcPhy4FUEfKzb6yPpDZwMWuWWdak+AAAACXBIWXMAAA7EAAAOxAGVKw4bAAAAPHRFWHRTb2Z0d2FyZQBDcmVhdGVkIHdpdGggdGhlIFdvbGZyYW0gTGFuZ3VhZ2UgOiB3d3cud29sZnJhbS5jb21coqaFAAAAIXRFWHRDcmVhdGlvbiBUaW1lADIwMjU6MDM6MTIgMjI6MDY6MzZVaCveAAAgAElEQVR4nO2daUATV9eAb8IiRRQVVEAKblBQQVK1Kq1SFlFwKRTccUF9RaxVLFALaLWCBawUV1TgVaFaK4JU3oqAioAoKrsC0Q+1CoKyyr4mme/HtNPpZGGSTDIB7/OHzJ17Z845c+Ywd2cgCAIgEAgEAoFAKCIyMjIyMlJbW5tuQSACCAgImDNnDt1SQAYyynQLAIFAZE5RUVFXVxfdUkAEoK6ubm5uTrcUEAjFlJSUxMbGTpo0iW5BIBAIDcDaBQQywEEQZO3atV9++SXdgkAEoKOjA2sXkIFHeXm5kZER3VJAIBB6gLULCGSAU1FR8cknn+zbt49uQSAQheP169dFRUXilpo0adL48eNlIc+AgcPhqKio0C2FvCkrK3vx4oW4pWbPnq2lpSULeSDygcPhpKSkiFtKS0tr9uzZspBHEYC1CwhkgFNSUjJ58mS6pYDQydOnTz/66CO6pVBEzpw5097e/uGHH4pVSl9fX0bySIPiPOW6urr3c8bFnj175syZo6ws3pcVi8WSkTySoTiO1F8oKys7duzY4sWLxSrV29srI3lkhFiOAWsXEMgAp7S0VNH+e8mBtra2oKAgcUuNHz9+8+bNspCHRiIiIqysrOiWQkEpKiqKjY3V0NCgWxAKQBDk+PHj27Zto1sQUFpaOmXKFLqloIGmpiYvLy+6pZAKGC4kID8/383Nbc2aNXQLIlvEijCwdgGBDHBKSkrc3NzolkLeFBYWtrW1bdq0SaxSA+MrE8/z588fPXq0detWugUBPB7Pz8+vtbW1u7ubx+NFRUWJ28QrC9rb2/vjQxdoTBMTk6NHjyrChIfS0lJZ95cqoDvV19cr2gAnca2kIOFCAR+uaPLz82k3GrVQEGEQCAQyoLG1teXxeHRLIW/Cw8OTkpLoloJ+1q1bl5+fT7cUCIIgaWlpFhYW6G9dXd3ffvuNXnkQBHn79q2bmxvdUkiCMGMWFxevWbOGPrn+YsuWLeXl5TK9hQK6U0pKSkhICN1S/AtxraQg4UIBH65o7OzsOBwO3VJQifQRhin7KhAEAqENLpfLZDIZDIbsbsHj8Xbt2rV169aNGze6u7tzOBzZ3Ys8+fn506ZNo1uKf6DFSk1NTVlZWZKNiwsODtbU1JRgxrMwbG1tMzIyAAAIgvB4vPr6eqquLDH5+fkff/wxPoVyrWWEMGOam5vfu3evsbGRTuEAePHixbhx4/Ap74k7EWIO7e4klpUUJ1wo4MMVAYfDYTAYSkpK+ETaH72USB9hYO0CAhnI/Pnnn7Je3ObWrVtpaWkRERH//e9/U1NTExISZHo7krx580ZPT49uKf6Bciu1tLT4+vo6Ojq6ubnNmDEjKiqKP09SUpKNjQ1WtyRTBCUrKys3Nzc5Odnb27u1tVVKUVGYTKampiYAICMjg8fjSbNEclJSEuPf7N27V4LrED4HZaE1P69evXJzc3NxcVm+fPnMmTOvXLkiwUVEGNPW1vbq1asSXJO8e4gG/RzBf2wpsjtRpTUAoKCgAF9ZlY87iUYsKxHCBQCgurp67dq169ats7GxsbOzKy4uFliQck0pjBWin29SUpKjo+OKFSscHR3/+OMPyW7BZrNNTU3xKXJ49M3NzYGBgcuWLTMxMTlx4gT+FCXhkYIIQ3l/CgRChvz8/Js3b9IthWypr68/c+YMvTIkJiYeO3aMkPjjjz8OHTq0sLCQkltwudympiYEQXg83ujRo48fP07JZaWhtbV1yZIlhERqtRYXyq1kbW2tr6/f3t6OIEhsbCwAIDExkZBn3bp1J06cEKsIyuXLl7lcLoIgb968ycjIkFJUPGVlZfb29q9evZLmIufOnVuwYMEfOGprayW4jrOzc0tLC3YoO60xent7x44d6+DggB76+voymcz79+9LdjWBxjx16pRkw73Iu4do0E9SfIoiuxNVWiMIYmNjgz+UgzuRhKSVCOHixYsX2traR44cQQ8XLFhgZGQksKCMNKUkVoh4vjdu3FBRUbl9+zaCIDdv3lRVVUV/i8vZs2djYmLwKXJ49Fwu9+nTp2FhYQCAw4cP409RFR4R6SIMrF1AaCA5OdnT05NuKeRBUlKSt7e3uKWam5t9fHwcHBxWr149ffr0yMhIiQUICgpKT0/Hp2RmZjo7O2dnZ9vY2OA/raQnPT195MiR1dXVEl+BKsWzs7O///57fIrstBYX6a2EIEhnZ+fgwYPDw8PRw4qKCgAAf8SfPHlyamqqWEXwcLlciWfs9Pb28icWFhb+5z//Qf/TS8PRo0ePHj0q5UUQBJk3bx5/ojRa9wmHw1m+fDmbzUYPr127BgAICgoSXUosY6alpZmamoormATuIYwbN26EhobypyugO1GodX19vaurK3+6TN2JgJRWwocLBEFWrVqlq6uLfiUjCFJVVXXr1i1hZRXw4SJ9PV9bW1tsagGCIGZmZgsWLJDgLtu2bSspKSEkyue5l5SU8NcuJAiPsogwsHYBkTc1NTWfffZZR0cH3YLICT8/P3EnpVHYnLZy5UpCu0U/bWcSiyNHjly9ehWfoiDtiJRYCeXly5fYf6+mpiYAAOFbmcPhqKqqFhcXky+CsX//fltb21GjRtXX17u5uWlra1dVVZGRKiIiYvHixTo6On/88Qea0tLSYmJiEhERUV9fv3DhQmzu47Vr18RR918EBQURnq8E1NTUrFq1Cp8isdYSc/r0aQDAhQsXBJ6VzJiPHj1SUVER+LkgGvLuIZrw8HDCw1Vkd6JK69TU1ODgYHyK3NyJEisRwgWHwxk8eLC7u3ufd1fkh4sIf74NDQ1KSkqbNm3Ccm7YsEFZWbm5uVncWxCmdMszjAisXZAPjzKNMHDeBUTefPPNNytXrvzggw8kKCtirKHCsmPHDm9v73fv3pHM39XV9fDhQ29vb3V1dQDA559/DgCQeJh+XV3dyJEj8Smurq4AAARBdHR0JFjXXOB05KKiovDw8MTERAMDA8nkBJQqzj+9UkqtxUV2VsIwNDTERkjn5+cDvj256urqenp6hg8fTr4Ihr+/v4aGhpmZ2aFDh8aOHWtlZUXwImFs2bLFwMCgrq7us88+Q1PS09OfPHny6aefHj9+PDMzU19fX1dXd8SIEVlZWcIuEhkZWVpaKuIuLS0tampqe/fudXZ2/uqrrx48eEBGNgL8U7ol1lpcmpqaOjo6Xr58GRkZ6e7uvmLFCoHZJDPmsGHDent7a2trxZWKvHuIhn85WkV2J6q05o85cnMnSqxECBfPnj1rb2/X09NLS0uzt7efNm3azp07W1pa+AvS+3CBpM+3oqKCy+UaGhpiOQ0MDDgczuvXr8kIj8E/pVtuz10Y5MOjbCMM6ToSBEIBNTU1qqqqdXV1khUXMdZQkZk/f75Y4+ypak7r6ekhdPX203YmcbGzs8P3SvevRkRx4fF4dnZ26D8JfDo6BfPdu3fki+BhsVgsFuvp06fiyjN//vzp06djh+7u7lpaWmINEvDw8BA9ANrDw2PTpk1sNrumpmbNmjVMJjMuLk70NVtbWwkpgYGB/HeRWGux+P77711dXefOnWtlZZWVlSUipwTGRBsypJlfRMY9RGBvb88voSK7E4pYWvO7k6ura319PSFRPu6EUGElQri4e/cuAMDS0vLYsWONjY2JiYnq6upz5swRWJbGh4tI+nzT0tIAAD///DOWAf2uEH2pjo4Owsqzjx8//vrrrwnZ5PbcBfZdiBUeZRdhYN8FRK6kpKRYW1tra2tLVpzJZBobG8+fP59aqWTNihUrUlJSyOenqjnt2bNnEydOxKf003YmsWhvb1dXV8evfNK/GhHFJSAgoLm5+cGDB4TXqqOjAwAwaNAg8kXwZR8/fjxx4kRjY2OxhOnt7c3Ozkb7nQAAXV1dV65csbKyonZN5O+//z4qKsrExGTUqFGnT58eOXKkr6+vsMw9PT0HDhwYO3bs27dv8emFhYUE75JYa3H54YcfLl++nJmZ6eLiMnfu3EuXLgnMJpkxVVVVAQDt7e0Si9ene6AgCBIbG8tmswmJAACChAruTigktX737p2np+e0adN6e3vx6Y2NjYSt9OTmTpRYiRAu0Oc4cuTIbdu2DR8+3MnJydPT886dO9nZ2fwFFf/hAiHPV6x7paSkTJky5ZdffsEn8vdZye25C4N8eJRphFHo7Q8hA4/r169PnTqVbinkjbm5+bZt27q7uwV+6okAQZDg4GADAwMRH08i4B+ioKSkhM5sc3d3Fyv2MRiMZ8+esVgsdJU6AMDVq1e1tLTMzMzMzc3JL3hXUFBA5r7kFS8rKzMwMMBvt1xcXEzwMYm1FheqrESe3bt3l5WVZWZm8g817OnpAQAQVmEXXQQjLy+Pw+HgR+yQ3D03Nze3vb0d+3d1+vTp5uZma2vrPhVBECQ1NRX9XVlZ+fDhw66uLgCAjo6OhYUFITN+reEPPvhg+vTp165da2xsHDFiBCFnZWXl7t27XVxcVFRU9u/fHxERgZ1qaWnBHpOUWhPkxyNQfoytW7cGBgYGBQUtX76c/6xkxkSfeHd3t+hswiDjHgCA4uLi/fv337t3b/78+efOncPSKysrP/zwQ0JmBXcn8lrfu3fv7NmzCxcujI6Ojo6O9vT0RNMbGhr4fU9u7iSxlfAQwoWOjg4AYMaMGViGuXPnhoWFlZaWYk0nwtQE5DSVRmzpny/awNTW1oblQZeOHTVqlMDb+fr66uvrW1pafv/99ytWrFBTU0NP5efnb968WbRBZB1GCJAPjzKNMApRu4iJibl48SLdUkAEc+LEiQkTJlB1tdu3b+/fv5+qq/UXJk6c2N7enpubS4jLfUKyOQ0AkJSUlJCQEBMTg08sKSmxs7PDp6DNKs7OzviPbDKxD23kwP6boo0ctra28mxnItDZ2XngwIGff/7Zz89vz549WHpBQYHAxiS81uTDvVjI30qVlZXx8fEChRfYiiy6CEZOTo6ysrK9vT2Wgu7XUVhYCADQ09NLSEgQ+EF8+/ZtJpOJ+nl9ff2FCxfA31NoRIMgCNa/h34uVFdXAwAsLCz6/LeKVhJQfQno6emdO3eOwWBUV1d//fXX33zzDdqbV1dXx+9aEmtNkB+PaPmVlJTGjRuHjjHgdxLJjMlkMoEQa/QJSfdAECQvLy82Nvb8+fPbtm0LDAzEahSlpaVTpkwh5FdwdyKpNQBg5syZlpaWAIDNmzfv379/7dq1gwcPBnw7XUipNRDTnSS2EuGOABcudHV1mUwmfqLFkCFDgKC+UH41ATlNpRFb+udrYGDAZDLRVifsOsrKyvr6+vy3YzAYoaGhSkpKlZWVRkZGJ0+e3LlzJ3rqyZMnJiYmog0i6zAiGhHhUbYRRvTAKfmwdOlS/gGLkIEHum/09evXpbyOwLGGCo6mpubly5fFKhIQEPDFF1/0ubjWn3/+uW7dug0bNgAAcnJy8KdcXV0bGxvxKZmZmQCAhIQEfGJaWhq2MJ+urq7AFa7QYbjYdILDhw8DAPh30hAIj8e7/jeOjo6hoaHob2EDN8kozuPxfH19c3Jydu/ePWTIEPy6WOvXr6+srMRn5teajMr8wuMRKLw0VhKXc+fOLVq0CD9AtqKiAt1SAy9MZ2cn+SIYTk5Os2bNwqeQ3K/D3t5+6tSp6G9/f38PDw9tbW0ej9fnvAg8ogdSV1RUzJw5E7+k74wZMwwMDERfs6enx8jIaPny5ejh9evXf/rpJ0IeibUmz/Xr12fPno1fbsXQ0FDY8o6SGRMd4nLnzh1xZSPvHhidnZ2jR4/28vLCUg4ePJiWlkbIpsjuJIHWCIK8efNGXV39wIED6GFwcDB+LVcUObgTCiVW4g8XCxYssLW1xQ6jo6MBAPn5+YSC/Goi5DSlRGxEiudrY2PDYrGwdHNzczIr0np7e2tpaaFX4HA4dnZ2hAxye+6IoG8hscKjTCOMQsy74B+wCBmQvHv3jsfjoY097xvq6ur19fXk8wcEBFRUVMTHx/e5uBaPxzt69Gh0dPTHH38cGhqKP/Xu3Tv8kkFASDuTra1tRkYG+HuTXYFySt/OhIK2M6G/i4qK+DOTVJzBYBw8eHDWrFk+Pj6qqqo//vgjdqqqqmrMmDGitSajMr/weAQKT0kjIhkaGhp27NixYMGCtLS01NTU1NTUK1euuLm5oa1KKGjfPTY6nEwRjPv37xPEJrl7bnl5uaamZmdnZ2hoqLOz8+vXr1ksVnJy8rBhwyhSHXR0dBQWFvr5+aGH6La4wcHBokupqKgEBQVdunQJnc/Dv2AUkEJr8rS2tubk5KDVTgBAamrqq1evMF0ISGZM9IljIzdIIpZ7YKipqXl5eUVFRTU0NKApAvsuFNadJNMaAKCjo/PNN9+EhoaiivMPvgdycScUSqxECBcAAB8fn7t37+bm5gIAuru7IyMjFy9eTOatAeQ0lUOsEP18v/vuu5KSkjt37qBystlsMiOQ/fz8ent70Sng/B0XQI7PHfw9PAkd1YYiVniUbYQhUz2SKd3d3djGpe8VHA6nV3zkti+PLHj69CkAIDc3V8rr9Me+i/HjxwcGBpLMLFlzWlxcHIPBwDbq6urqcnR0JOQR2M6EIWKjN9rbmUQQFhamqqr68uVLBEE6OjoWL15MyCBCa0r2tsOgykp9InA5ZoKOL1++BABgqpEpghXU09MjbMKI0ud+Hdu3bx82bNjSpUufPXuG/D1Y+fTp02Jp1+ciMFlZWXZ2dkuWLNm0aZODg0NycjKZy3K53GnTpqGrkH355ZeE1bSk0VosLl269Omnn65cuXLjxo1WVlbx8fHCckpmzKqqKgDAixcvxJKKvHsQePfu3ZAhQ3744Qf0kH/BKEV2J4m1RhCkqalJS0vLx8cH4dulG5GjOyEUWYkQLlCuX7/u4OCwfv16JycnX19ffM8GVkqYmkhfmlIiNiLd801MTHRwcHBzc3N0dExKSiJ5x6CgoMGDB799+zYmJubs2bP4U3J77vX19b6+vmhL1rhx43bs2PHgwQP0FPnwKNMI86/aBYfDEeYlsuPx48c7duyQ800VAVtb24Xi8/btW7oFl5ycnBwAAP+uluLSH2sXkydPxo8fEEF9fb2mpubx48exZvKEhIS5c+f2ucM0h8OZOHHihg0b0MPi4uKdO3cS8ujo6Hz33XcCi4uOfePGjZs7d25HR0dISEhubu7ChQvnzZv3xx9/8I+CEI2I/wQSK97Z2fnhhx+uXbsWQRB0rBQhgzCtKf83T5WVKKGrq4vBYJSVlVF1Qap22qaRGzduAABu3ryJH/Ihmn6nNZvNZjAY8tyu1NfXV0tLq62tjcvlkt/tuN8Zlp+wsLBBgwYVFxe7uLiQLKKwWsNwQZ62tjYdHZ2vvvpq+/btjx49IlNkIFmDP8K0trbeu3ePkO2f2kVvb6+np6estybl5+LFi1FRUXK+Ke1wOBzJFvLv19y+fRsAgDWuS0x/rF1MnTrVw8ODTE5pmtNOnTqloqKCzjr49ddfo6Oj8WdFNKv0GfsUoZ1JBGfOnGEwGI8ePTpx4gRhe29hWssi3FNlJaoYO3YsmZXgySC7/TrkjJ2dnamp6bJly8hk7o9aZ2Rk9DkLhVqqqqpUVVWPHj36/PlzT09PMkX6o2H5Qds1TE1NsQkYolFwrWG4IE9ERISysrKZmVmfW1YjA84aAiNMVlYWYa/6f2oX4eHhMpp9KJrdu3fzV3oohMvlfvvtt56enhs2bFi/fj0ZV5ADZWVlX331Fd1S/As5GIqq2gU6cvrgwYOUSEUJfVqPfO1CGtBJlt7e3giCBAQEECZ5C2MAxD4OhzNp0qRFixZt2LChoqKiz/wDQGUyODk5nTt3jpJL7du3T0NDQ0dHR0dHZ/jw4bt27aLksvInLy8PABAaGkomc3/UOjY2ln9woKzZtGmToaFhQkICyRmr/dGwAjl79iwAICUlhUxmBdcahgvy9PT0TJgwgWTj1wCzhrAIs3r16ocPH2KH/9QujI2N0fY2OePs7Nzc3Cy765NfHEae/PLLL2fOnKFbin8hB0NJX7sQMdaQXvq0nnxqFwiCBAcHa2hoNDY2Ojk5kXyzBkbs+/333wEAxsbGZOYmDQyV+yQ8PBytakLwLF++/ObNm3RLISu+/fZb/uWwZM3Tp08ZDIa5uXlGRoacb00vaLuGZJuaKxowXIjFxYsXFa2NWD4IizAxMTEbN27EDv+qXdTV1TGZTMIO5/KBfz0vapHdWmDSsHPnzuLiYrql+BdyMBRVfRcKSJ/Wk1vtAp1kGRQURH5k+cCAx+PNnj17/vz5dAuiQLx48cLMzIxuKRSO8vLyhoYGuqWQFRYWFuXl5fK/L7oSzsD4zhYLfHttvwaGC7HgcrnSL1HTHxEWYe7cuWNiYoId/rXsWmVl5ZAhQ/h3dRVGS0uLr6+vo6Ojm5vbjBkzoqKiSBYk0NnZyb85S3BwsKampsAFHyWAwrXAqNIaAFBWVjZp0iR8CrVaS4CUhqLQOP0R2S05Jy7Dhg3bsmXL4cOH+1zKdoDBYDBCQkL414V8nxk3bpy2tvarV6/oFkSxmDhxIv+2tQOD169fa2pqojsGypldu3aNHj26z30/Bx74Da37NTBciAWTyZw+fTrdUsgbERFGU1OzsrLyn2O0kpGdna2lpUW+7mJtba2vr49OiIyNjQUAEGZSkqSgoABd0A0jMzPT2dk5Ozvbxsamz7ViyEPJ4jBUac3lcglTumWktQRIbCgyxhnAfRcoIqwnt74L5O9Jlr6+vvK5nULx+vVrukVQLNLT0/ft20e3FBA5ERgYeOPGDbruTnJyM0RhgeECIhoREYbNZgPcLhdMrI5Bvu7S1dX18OFDb29vdXV18PdeUQkJCRJUg0pLSydPnoxPqa2tjY+Pnz179vnz5wsKCsS9IIfD4U8sKioKDw9PTEw0MDCQQEgUCrUuLy83MjLCp9TW1sbFxVlaWl64cEECrSWAWkNRaJx+gezcjBL09PTWrl3Lv6fV+wBhHz2ItbV1Y2OjWDs5QvopjY2NtbW1dnZ2dAlAZjMyiCIDwwVEBGJFmH82pGQwGCRvoKamVlpaumPHDvRw6NChAICamhox5QQAgJKSEsI3EJvNtre319XVVVVVjY6ORje66vM6J0+eXLJkia6ubmpqKprS2tpqamp68uTJhoaG3bt3nzx5Ev3wTU5OlkBOQKnWhH09AwMDT506NWbMmMbGRl9fX1dXVzIqS4aMDEWhcRQZObgZVfj6+pqZmdErA0RBCA0NLSsro1sKiMwpLS0NDQ2lUQAVFRUa7w6hBBguIMIQHWEIlYi/ahdNTU3Dhw8nfw9DQ0PsQujyoCwWS2xJASgrKzM1NcWn+Pv7a2homJmZHTp0aOzYsVZWViNHjuzzOlu2bDEwMKirq0NXEwIApKenP3ny5NNPPz1+/HhmZqa+vr6uru6IESOysrJEXCcyMrK0tFTYWaq0LigowNcuJFNZMqgyFD9UGYdGRD99IEvrUY6xsbGFhQW9MkAUBDU1tblz59ItBUTmzJkz532bbQWhHBguIMIQHWGGDRsGAGhpaUEPldE/5eXlks1MQhAkODjYwMBAsi7Rjo6OwYMH41OUlJQqKioAAO7u7sbGxiSvw2Awnj17xmKx0Jm1AICrV69qaWmZmZmZm5vv3buX5HUKCgrI3FRKrQlTuiVTWTKoMpQIpDQOjfT59OVgPQoh3xsJgUAgEAgEIjGjR482MDAoLy9HW8//6ruIi4vbvHmzBJcLCAhobm5+8OBBnytFPH78mDBava2tTUNDg5Cto6Pj8ePHEydOFOs7u7e3Nzs7Gx3uDwDo6uq6cuWKlZWVjD6wSGrN4/Gio6MDAgIIiVwuF9+DLJnKkiEHQ5F3iX6HnN0MAoFAIBAIpF/g4eFx8eJF9LcyACAoKMjS0tLKygpNQhAEG1aOR0dHhzDWYvfu3WVlZZmZmaJ7Y5ubm/ft23f8+PGYmJhVq1Zh6Ww2m7AqKwAgLy+Pw+GsWLECS+HxeH5+fq2trd3d3TweLyoqSllZmVAqNze3vb0d++w7ffp0c3OztbW1CKkw8PpWVlY+fPiwq6tLoL5iaV1aWhoUFAQAiI+Pd3d3xxbwev78+YQJE0SrTFJrfvnxCJRfGkORgaRx8HR2dsbExFAlgAgcHR3551uL9fRlbT2U2NjYjo4Oaq8JUXBMTEwwv+qTFy9epKWlyVIcSL/H3Nzc0tKSZOYnT55kZGTIUhwIBDKgGDp0KP57HmXnzp3Ozs43btyYN2+ecmdnZ15e3tq1a7HTCIKkpKTwX8vCwgL/vRUQEFBZWRkfHy/sqxels7Nzz549mzZtevPmTWho6MqVK7GG3pKSEsKCUQCAnJwcZWVle3t7LOXWrVtpaWmFhYUAAD09vYSEhOXLlxNK3b59m8lkoqPh6+vrL1y4AP5euahP8Pqi35fopGqCvmJpDQBQVlY+e/askpJSbm7u7t27f/vtNzSdMKVboMokteaXH49A+aUxVJ+QNw4eBEG6u7spEUA0XC5X4N3JP32ZWg+jp6dHPgaBKA69vb3kM/N4POghENEIXNdOGFwuF3oUBAIhj8CI8cEHH0ybNu3OnTvz5s0DCIK0tbUZGRn9+eef5Je8PXfu3KJFi3g8HpZSUVGB7lUsDHSh1eTkZCzF29u7sLCQkM3JyWnWrFn4FDJ7SNvb20+dOhX97e/v7+Hhoa2tzePx4uLiyCuFIIiHh8ft27eFnZVAawRB0H6ivLw89NDHx4egNb/KiMx2zpbGULGxsdu3bxd2loxxFHy/C9FPH5HOeth+F6LNCIFAD4FQC/QoCAQiBy5duvTFF1+gv5kAgMGDBy9btuzw4cMkqywNDQ07duxYsGBBWlpaampqamrqlStX3NzcmEymiFIsFmvevHkhISFYypMnT0xMTAjZ7t+/T2gMJrMLcnl5uaamZmdnZx3+yqkAAAtpSURBVGhoqLOz8+vXr1ksVnJyMjqHnRIk0xoAsGzZMhaL5efnhx6WlZURemz4VQYy2/tZGkMVFBQcPXpU4KpKEhunf0GJm4kwIwQCoIdAqAZ6FAQCkQOhoaFbt2796wCtZFy5csXc3Jxk7eTEiRP8F+Vvfefn5s2bAIB79+6hh7a2toQML1++1NPTS09P5y8reg/p7du3Dxs2bOnSpc+ePUMQxNfXV19f//Tp0yQ1whDRei2x1sjfI/tv3LjB4/Hs7e3xp0SojFC0xTgeaQyFjguqrq7mP0XSOP2970Ia62F9FyLMCIEg0EMgVAM9CgKByJrm5mYGg1FXV4ceMhAEAQBkZWUtXbpU1tufIQjyySefjBkz5vfff29qatq4cSPJ7ZyLiooiIiIOHz6MblXW70AQxM7Orrm5+bfffgsLCzt58iSZUoqmdXR0dGlpaXh4uMRXyMjIsLa2ZrPZ/H1WAx4LC4tZs2adOnVKejO+P3C5XCUlJbqlkDfQQ6Tn/fQcYUCPglAFfLMgwigvLzc2NuZyueiglb9m3zKZTIFzXqmFwWDs2rVr6dKlbDb73bt3/FO6BYLugnz16lXUp5OTkx0dHWUsKcUwGIyQkJBPPvnEz89v/vz5ZIoomta9vb1PnjwJCwujUQYAQE5OjsB+EtG4uro6OTnJQh5xURAzKg7d3d1ff/31iBEjlJWVmUzm/v378WcPHz7s5eXl7+9PZvG0gQH0ELFgsViVlZXoSiGJiYnYNpfvoecIA3oURFxu377t4OAwZMgQAACCIBMmTHjw4AF6Cr5ZEGGglQhsPLy8fcLZ2dnIyOjgwYOzZ8+eMmUKmSLYLsgAgO7u7s2bN/e72gUAYMaMGS4uLvHx8f7+/mTyK5rWKioqhw4dolEAlOTkZDc3t+nTp4tVSkE6f4DCmFFxuH//fnt7e2RkZEdHh6am5sKFC2fOnInPkJ6eTnLxtIEB9BCxmDp1Kuob/LxvniMM6FEQcUEQpKGhAd3pODc3l81m48/CNwtChr9qF4MGDeLxeHK4n5KSko+Pz7Zt21paWgjtlMLYu3evou2CLBkHDhy4fv06yR6bAaM1tRQXF/v5+SlObQEiJVZWVuhOO729vQiCoK1lKAUFBSwW6/PPP0dX4kcQhMfj1dfX0yUqRAERuGUn9BwIRBpsbGyw3+fPn8c6vuCbBREBh8MZNGgQdvhXF8aoUaPa29vlI8HatWu1tLT+97//GRkZyeeOCsJHH3105MgRVVVVugXpryAI0t7eDqsWA4zCwsJDhw7t2LEjPj4ev71mZmbm3LlzZbR4GmQAgCDIkydPDh06tGzZMhcXl6amJjQdeg4EQgnnz593dXXFBj7BNwsigvb29lGjRmGHfzmNoaHh0KFDa2pqRo8eLWsJ1NTUvLy8fvnll/fwO3vjxo10i9CPqaqqQoeKQQYSkyZNMjU1LSgoWLNmzfjx483NzdF0DoeD/Vdjs9khISF5eXm6urr0SQpROI4cOTJhwgQAgI2NzYEDB3766ScAPQcCoYLW1ta4uLikpCQsBb5ZEBFUVVXht4r+ZzuCVatWZWdny0eILVu2WFpayudeCgW2TzlEAvi3OQ8ODtbU1CwqKqJLJIj0DBo0SE1NzdLS0tTUFFtOrby8HOvbLCoqCg8PT0xMNDAwoE9MiMLBYDDQqgUAgMVioaPDoedAIJTw888/43figm8WRDR3795dvXo1dvhP7WLPnj2XL1/mcDhyEEJTU5PkpAsIBINQu8jKysrNzU1OTvb29m5tbaVRMIhY4OuEISEhcXFxaHpPT4+enh76OzU11d7eHvy9eNrJkyfREXHJyck0SQ2hH0JrwqVLl0JDQ9Hf+fn5s2bNAtBzIBDxEdhOd+PGDUNDQ+wQvlkQEdTU1Lx588bFxQVL+ad2oa2tHRYWdunSJfmIoqOjI58bQQYMRUVFFhYW2GFtbW18fPzs2bPPnz9fUFBAo2AQ8hDqhAsWLIiJifnhhx+8vLzGjh3r4+ODZsMm2GCLp+nq6o4YMSIrK4tW8SG0wd+aYGlpeffuXT8/vwMHDpiZmaHOAz0HAhELYe10FRUV48aNww7hmwURRltb27Vr186cOYMfnvPXbnoQiBy4c+fO3Llzy8rKTE1NxS2L7kh469YtLCUwMDAzM/Px48dlZWVeXl4pKSnFxcVY47eiMXXq1M8++0yCzToGGPHx8U5OTkpKSjU1NU+fPkUXjCJQXV2dnp7u5uYmf/EgCgv0HAhEFsTHx6Mzs2tqav7v//4PvlkQSmD2nQUCoYhhw4YBALq7uyUoW11dPWbMGHyKv7+/hoaGmZnZoUOHxo4da2VlNXLkSGoElQFdXV0jRoygWwqaCQwMPHXq1JgxYxobG319fV1dXaurq/mzXbt2beHChfIXD6KwQM+BQGQEm822t7fX1dVVVVWNjo4eOXIk/8sF3yyIuMAdFiHyQ0tLCwDQ2dkpQVn+Kd1KSkoVFRUAAHd3d2NjY0oklB2dnZ2o+u8z/v7++fn5fVYIGxsbhw8fLn/xIAoL9BwIREaQebngmwURF1i7gMgPtPG+z9oFj8e7evWqk5MTfgxfXl4eOqUMo6Oj4/Hjx87OzopftQAAdHZ2Ctz5672CZIVwyZIlchQK0g+AngOByAgyLxd8syDiAkdGQeSHmpqaurp6bW2tiDyPHj1atGjRl19+SViJgjClGwCQl5fH4XBWrFiBpfB4vF27dm3dunXjxo3u7u7yWQCNDL29vU1NTbDvAq0QTpw4UXSFUIJpOZCBDfQcCERGkHm54JsFERfYdwGRKxYWFs+fPxd29u3btykpKZcuXVq5cqWfn5+DgwOTyQQAIAjS1tamoaGBz5yTk6OsrIzv0Lh161ZaWlphYSEAQE9PLyEhYfny5TJTRQxevXrF4XAItaP3EP4KIQRCBug5EIiMgC8XRBbA2gVErjg6OpaXlws7q6Oj8+233wIAfvzxRwsLi19//RVdpIJ/SjcA4P79+9OnT8dXOWxtbTMyMgAACILweLz6+npZqCAB5eXlU6dOhXua8lcIeTyen59fa2trd3c3j8eLiorC9oKFQDD4PQdA54FAqACGZYgsgB4DkSsODg7Hjh3jcrlKSkoispmbm69evXrPnj1Lly4dNGgQ/5RuAMD9+/fXr1+PT2EymZqamgCAjIwMHo+HrrKnCFy7ds3BwYFuKeiHv0KosN1NEIWC33MAdB4IhApgWIbIAjjvAiJXWCyWpqbmzZs3+8y5f//+qqqqyMhIIGjBqFevXjGZTEJbJgqbzQ4JCcnLy1OQvgIOh3P58uWlS5fSLQj93L9///PPP8enKGx3E0Sh4PccAJ0HAqECGJYhsgDWLiByhcFgRERExMbG9plz3Lhxnp6egYGBra2tRUVFLBYLf9bQ0LCqqsra2ppQqqioKDw8PDEx0cDAgEq5pSA5OdnFxeXjjz+mWxCaEVghVNjuJojiIKwpAToPBCIlMCxDZATcqxtCAx4eHvPnz+8zZtXW1k6YMMHHxycrKwu/S7cwGhoa1q1bd/XqVXTYVXJysqOjIzUSS0ptbe2yZcuSkpKGDh1KrySKDJvN9vLyioqKUpw6IaS/AJ0HApEF8M2CSAPsu4DQwKlTp0pLS9lstuhso0aN8vHxCQ0NJTnG6fjx45mZmfr6+rq6uiNGjMjKyqJCWMnhcDhhYWFxcXGwaiECBexugvQXoPNAILIAvlkQKYF9FxDaePv2rY6Ojug8ra2tEyZM8PPz27lzp3ykopCWlhZlZWV1dXW6BVFcFLC7CdJfgM4DgcgC+GZBpAf2XUBoo8+qBQBgyJAhe/bs4V8wql8wdOhQWLUQjaJ1N0H6EdB5IBBZAN8siPTAvguIotPT08PhcOBnOgQCgUAgEIji8//bRXscIsL80QAAAABJRU5ErkJggg==\"></div>"
      ],
      "text/plain": [
       "FormBox[RowBox[{\"{\", RowBox[{RowBox[{RowBox[{\"-\", \"2\"}], \" \", \n",
       "\n",
       " \n",
       ">            SqrtBox[RowBox[{RowBox[{SubscriptBox[OverscriptBox[\"r\", \"^\"], \"2\"], \" \", \n",
       "\n",
       " \n",
       ">                 SuperscriptBox[\"u\", \"2\"]}], \"+\", \n",
       "\n",
       " \n",
       ">               RowBox[{\"2\", \" \", SqrtBox[SubscriptBox[OverscriptBox[\"r\", \"^\"], \"2\"]]}],\\\n",
       " \n",
       ">    \n",
       "            \"-\", SuperscriptBox[\"u\", \"2\"]}]]}], \",\", \n",
       "\n",
       " \n",
       ">          RowBox[{\"2\", \" \", RowBox[{\"(\", \n",
       "           RowBox[{FractionBox[\"1\", \n",
       "\n",
       " \n",
       ">                 SqrtBox[SubscriptBox[OverscriptBox[\"r\", \"^\"], \"2\"]]], \"+\", \n",
       "\n",
       " \n",
       ">                SuperscriptBox[\"u\", \"2\"]}], \")\"}]}], \",\", \n",
       "\n",
       " \n",
       ">          FractionBox[RowBox[{\"2\", \" \", \n",
       "\n",
       " \n",
       ">             SqrtBox[RowBox[{RowBox[{SubscriptBox[OverscriptBox[\"r\", \"^\"], \"2\"], \" \", \n",
       "\n",
       " \n",
       ">                  SuperscriptBox[\"u\", \"2\"]}], \"+\", \n",
       "\n",
       " \n",
       ">                RowBox[{\"2\", \" \", SqrtBox[SubscriptBox[OverscriptBox[\"r\", \"^\"], \n",
       "\n",
       " \n",
       ">                    \"2\"]]}], \"-\", SuperscriptBox[\"u\", \"2\"]}]]}], \n",
       "\n",
       " \n",
       ">           SubsuperscriptBox[OverscriptBox[\"r\", \"^\"], \"2\", RowBox[{\"3\", \"/\", \"2\"}]]], \n",
       "\n",
       " \n",
       ">          \",\", FractionBox[RowBox[{\"2\", \" \", \n",
       "\n",
       " \n",
       ">             RowBox[{\"(\", RowBox[{RowBox[{\"2\", \" \", \n",
       "\n",
       " \n",
       ">                   SubscriptBox[OverscriptBox[\"r\", \"^\"], \"2\"], \" \", \n",
       "\n",
       " \n",
       ">                   SuperscriptBox[\"u\", \"2\"]}], \"+\", \n",
       "\n",
       " \n",
       ">                 RowBox[{\"5\", \" \", SqrtBox[SubscriptBox[OverscriptBox[\"r\", \"^\"], \n",
       "\n",
       " \n",
       ">                     \"2\"]]}], \"-\", RowBox[{\"3\", \" \", SuperscriptBox[\"u\", \"2\"]}]}],\\\n",
       " \n",
       ">    \")\"}\\\n",
       "]}], SubsuperscriptBox[OverscriptBox[\"r\", \"^\"], \"2\", RowBox[{\"5\", \"/\",\\\n",
       " \n",
       ">    \"2\"}]]], \",\", \n",
       "       FractionBox[RowBox[{\"2\", \" \", \n",
       "\n",
       " \n",
       ">             SqrtBox[RowBox[{RowBox[{SubscriptBox[OverscriptBox[\"r\", \"^\"], \"2\"], \" \", \n",
       "\n",
       " \n",
       ">                  SuperscriptBox[\"u\", \"2\"]}], \"+\", \n",
       "\n",
       " \n",
       ">                RowBox[{\"2\", \" \", SqrtBox[SubscriptBox[OverscriptBox[\"r\", \"^\"], \n",
       "\n",
       " \n",
       ">                    \"2\"]]}], \"-\", SuperscriptBox[\"u\", \"2\"]}]], \" \", \n",
       "\n",
       " \n",
       ">             RowBox[{\"(\", RowBox[{RowBox[{\"6\", \" \", \n",
       "\n",
       " \n",
       ">                   SubscriptBox[OverscriptBox[\"r\", \"^\"], \"2\"], \" \", \n",
       "\n",
       " \n",
       ">                   SuperscriptBox[\"u\", \"2\"]}], \"+\", \n",
       "\n",
       " \n",
       ">                 RowBox[{\"20\", \" \", SqrtBox[SubscriptBox[OverscriptBox[\"r\", \"^\"], \n",
       "\n",
       " \n",
       ">                     \"2\"]]}], \"-\", RowBox[{\"15\", \" \", SuperscriptBox[\"u\", \"2\"]}]}],\\\n",
       " \n",
       ">    \")\"}\\\n",
       "]}], SubsuperscriptBox[OverscriptBox[\"r\", \"^\"], \"2\", RowBox[{\"7\", \"/\",\\\n",
       " \n",
       ">    \"2\"}]]]}], \"}\"}]\\\n",
       ", TraditionalForm]\n"
      ]
     },
     "execution_count": 105,
     "metadata": {
      "text/html": [],
      "text/plain": []
     },
     "output_type": "execute_result"
    }
   ],
   "source": [
    "replacementRule = D[Subscript[OverHat[r], 2][OverHat[t]], OverHat[t]] :> x /. sol[[1]];\n",
    "\n",
    "(* Рекурсивно вычисляем производные *)\n",
    "dr2 = NestList[\n",
    "   Simplify[D[#, OverHat[t]] /. replacementRule] &,\n",
    "   x /. sol[[1]],\n",
    "   4\n",
    "];\n",
    "\n",
    "dr2 // TraditionalForm"
   ]
  },
  {
   "cell_type": "markdown",
   "metadata": {},
   "source": [
    "Заменяя вхождение **всех** производных в выражении для $dE/dr$, получим"
   ]
  },
  {
   "cell_type": "code",
   "execution_count": 107,
   "metadata": {
    "vscode": {
     "languageId": "wolfram"
    }
   },
   "outputs": [
    {
     "data": {
      "text/html": [
       "<div><img alt=\"Output\" src=\"data:image/png;base64,iVBORw0KGgoAAAANSUhEUgAAAboAAABBCAIAAAAot/a8AAAAzHpUWHRSYXcgcHJvZmlsZSB0eXBlIGV4aWYAAHjabU/tbUQhDPvPFDdCvnBgHN4dJ3WDjn/Jg6qiqiViY5wAZX5/vcsjIUzFqjd0gALWrcsI0WhhMVO/641rbMWnX2wLzkD9PcDc/nX6jsXS/gwiWULzhtBqu2EPUlk+j/2inZfR2jlI6QB+BP+/N3VBBbtFNSF39NCthAxCFaqON55ABBkvIXsGT7hHGzwTOrIxIdPP9CzQMF75Bc1VdQRrVFaRdOR2EFUVcu3T+yPlA5KFWtsnF844AAAACXBIWXMAAA7EAAAOxAGVKw4bAAAAPHRFWHRTb2Z0d2FyZQBDcmVhdGVkIHdpdGggdGhlIFdvbGZyYW0gTGFuZ3VhZ2UgOiB3d3cud29sZnJhbS5jb21coqaFAAAAIXRFWHRDcmVhdGlvbiBUaW1lADIwMjU6MDM6MTIgMjI6MDY6MzZVaCveAAAbZ0lEQVR4nO2deVQUR/7AiwEVV3yADjgQBPFINFmVWeLzIE/kkABe4IVuJhA23qiYp8QVTFRkF1SMrA9RYDdLEs0TIfDgCWaInGoQEUHl0MAm3CgMyIAcwxz9+6P219uZHnp6epoZwPr81fXt6upvfavqO3X2GGAYBhCIMYtEIjlw4MC0adOMjIw4HE54eDh+6/z584cOHQoNDe3t7ZVIJAqFIjEx0cjISI/a6pfa2trc3FxNn1q2bJmDg8NI6DPmYF51nj9//s4777CoCgLBgPv37/f19SUkJPT395uamq5Zs2bp0qX43by8vJycnPLycgCAtbX1Dz/84Ofnpz9l9cz3339vYmIyZ84cjZ6aMmXKCOkzOqHwbAzdZVxcnLOzsxYqIRDs4OzsDKuiVCrFMGzq1KlQ/ujRIz6fv2rVqoKCAgAAhmEKhUIkEulRVb1TUVFx9erVN839aQqGYbGxsfv37yffYuIu//Of/zx58mTfvn3a6KRQKI4dO8bKKCk0NLS2tjYlJUUbfcYQb1p+1VJeXp6bm1tZWZmamvruu+9CYWFh4YEDBzgcjqmpKQCgoKBAoVBs3LhR08RZrKh6p7+/Xze+cswZjdim5s+ff/Hixdra2nnz5inHwzQnICCgrKyMwYNEcnJyHBwc4LWVldX169eZpVNRUbFixYrNmzdrqY82SCSSV69e6eZd+spve3u7jt9In8HBwYGBgXv37s2ePfvx48dQePbsWTxCdXW1h4dHQ0MDg8TZqqh6p62t7eOPP9bNu8aW0cht6vHjxyptxdHUDXd3dxcVFfH5fAYuPDIy0tTUtKKiAgDg5uam/ShJLpfHx8cLBAIGz1KrRx+FQhEWFjZ58mRWdKCG3fxqRGtr69dff63795IhF9OkSZOMjY1XrFixYMGCy5cvAwCIXYOKiooLFy6kp6fb2toyeB0rFXU0UFZW5ujoSJQwq/B0GENGU9mmFi1a9PPPP3d1dSlF/p+77OnpCQkJ8fb2FggES5YsSUxMVJl6Zmamq6urgYEBLmltbfX39w8ICHB1dXV3d3/8+LHKB4uKikpLS7Ozsw8fPtzb26v9KAkAcOXKFX9/fw5HY6evVj36D8bExGzYsGHSpEmZmZkGv+fEiRMwjlgsPn369NatW+fPn3/p0iXGSrKYX8jr169nzpwZGBhIFGZmZnp7e2/bts3b2/vmzZtQuHjx4oaGhqqqKsbvamhoEAgEmzZt8vPzW7p0aVpaGn6LZt0DqoopKirqxo0b8O7Q0JC1tTUAQCgUenh4AAA6OzuPHz9++fLlP/zhDwCA7OxsTdVmpaJCqKuBSrOrvUUfJXfJuMLTgUWj2djYGJDIyMgAAFC0OPoM16bc3NzgW34H3s90cXGxsbHp6+vDMOzbb78FAKSnp5O7owEBAZcuXcKDv/76K5fL/cc//gGDnp6e8+bNU9njTUlJkcvlGIa1tbUVFBRAoTajpBcvXgQHB2MYduXKFe0HpyrVU0tvb+/atWvhdVJSkqen500C+ABWLpc/f/78/PnzAICYmBhmGrKbX8jhw4eNjIw++eQTXPLTTz9NmDAhPz8fw7Dbt29PnDgRXkMFtm3bxuxFUql01qxZXl5eMBgSEsLhcO7fvw+DNOsepqqYysvLvb29T548GRwcvHPnzv7+fgzDoqKiYPyTJ0+amJjweDwej2dubn706FFm+mtTUXEoqgGF2SluaYSvr29vby8eZFbhNUJ7ozU3N69cuTIlJQVvU6mpqebm5rCqULQ4mlC0qStXrggEAqX4/3WXAwMDU6ZMuXDhAgw2NjYCAMixMQx77733hEIhHvzzn/9sZWUF7Y5hWEtLS25u7nDKyeVyhUKBB8vLy3fu3Alzrha47klk165d27dvP3TokKur69y5c7/44gs66VCjpKFakpKS8B+PixcvXrx4kSJyZWUlfXepg/xWVFT4+/vzeDyiu3Rzc8NnnTAMW7hwoaenJx5cu3ZtR0cHg3fJZDI/P7+amhoYzMrKAgBERERgmtQ9HOpiamlp+e677xgoiakyO6ZhRVWLympAYXbqEqHP6tWryUJNK7xKRs5ojY2Nzc3NRElKSsrnn38Or9W2OLV6UrSpnJycBQsWKMX/X++yvr4eN1x3dzcAgGxfmUw2ceJEfDZdJpNNmTIlMDBQraLh4eFubm6WlpYikUggEHC53MrKyjVr1shkMhghKytL5YNxcXHr1q3j8Xg3b96Ekp6envnz58fFxeFxWOltkTVsaWlR+9TmzZvxLlJERERGRgZFZDruUmf5VSgULi4ujY2NRHfZ2dlpaGi4Y8cOPNpf/vIXIyMjsVgMg2FhYUlJSVq+GsOw+Ph4AMC1a9dgkE7dg9AppoSEhK6uLo30oTC7SCSiU1HpQ64GFGZXWyI0aWtr++ijj4gSZhWeiC6NBpHL5e7u7p2dnTCotsWp1ROPQ25TT548mTBhgpKH/d+I3c7ODp+RLCsrAwCQ13M6OjqGhobMzc1hsK6urq+vz9raOicnx8PDw9HR8bPPPuvp6SFPEISGhpqYmCxcuDA6OnrWrFnOzs7JycmFhYU2NjZWVlbTpk0rKipSObOwZ88eW1vbjo6ODz74AEry8vKePXvm5OQEgyUlJdnZ2VVVVaWlpSpTgCQkJFDPu5E1tLCwoIgPKS0txRcQenp6jI2NT5w44evrGxQUVFJSovZxMqzkV21mAQD/+te/nJycZs6cSRQ2NjbK5XI7OztcYmtrK5PJmpubYdDOzu7hw4eM39vd3d3f319fX5+QkBAYGLht2zY8WbV1D0KnmLq6uvAqShMKs8fGxtKpqICe2VVCYXa1JUIT8joPswpPhBWjaUR8fLyvr++0adNgkGaLY9amzMzMpFJpe3s7MSkVm6EwDIuMjLS1tQ0JCVG6BR/GdwJ3dnYCAPLz83k8HnR/H330UVlZGdk6hoaGcJAVGBj49ttvQyHxvNpwGBgY1NXV8fl8OHMMAMjIyJg+ffrChQthcOnSpSpmZEk8evQIf69KVGpITXd3d0NDw/Tp02FQLBanpKQcPnw4KCjoyJEjK1asuH79+pYtW+gkhcNKftVmViwWx8bG3r17V0ne0dEBfn+KA5Z1e3s73M9obm5OsZCq9r0XLlyorq5ub283MTEJDAwkz69T1D0InWJav349hQ4qoTD7okWLaC4gqM3+cFCYXSqVDncL32FKpqWl5a233iJKysrKVq1aRZQwqPBKsGI0+nR1dSUlJf3888+4hGaLY9amcDvDxUOIijXWsLAwsVhcUlLC5XKVbvX39wMAJk2aBIMYhgEALCws9u/fb25u7uPjs3fv3jt37pDbYX9//9OnT+fOnatpwUil0rt37+IlPTg4mJaW5uzsTFyaZwUGGr58+XLChAkTJ06EwS+//DIxMXH+/PmWlpbx8fEWFhbDtXkKdJPf8PDw4OBgExMTlXcp3jV16tSXL18yfu+pU6dSUlIKCws3bdq0cuXK5ORkpQgUdQ9Cp5gWLFigqWI6q2YUULyLvhpisTgoKGj27Nm1tbVEeXl5uVKHnXGTxNGx0cLDwzdu3GhoaIhLaLY4ZnrCdt3X10cUKvcujx8/Xl1dXVhYqHIj4dDQEAAA15jH4wEAlixZgkdYuXLl+fPnq6qq8H4v5OHDhzKZDB980ae0tLSvrw/Panx8vFgsdnFxofMshmFCoRBeNzU1PXjwYHBwEKpN/mQAWUO1JxPEYjFRQvwVmjx58vvvv5+VldXV1YWPHUY0v/Qz+/z587t37547d46cCByOvX79GpfALSaWlpYwCGfNmL2XyL59+06fPh0REUE8wU1d9yAMiokOOjA7BRRmhy2OokSINDU1RURE7NixIycn5/jx48Rfo97eXnxQCNHekqwYjQiF0erq6hISEurq6ohCmi2OmZ7Qy0kkEqLwd+YICwtrampKTU0dzkywO4l7ZSsrKw6HQ5yshEWCdz9xiouLjYyM4FY4CM2yyc/P53A40PmKRKJr164BAJSGFcOBYdiPP/4Ir2FVbm1tBQA4ODiQS4WsYW5uLvXXGWQyGcUWSNjzxzT84BPj/NLPbHp6+tDQED6TJRKJMjMz+Xx+eHi4k5MTh8OBYzQ8KSMjIxsbGxjkcDgymYzZe4kYGhra29uXl5djGAark9q6B2FQTHTQgdkpsLW1Hc7ssI5RlAiRmTNnwjW0iIiIbdu2ff7557CUX758SXav2luSFaMRoTDa2bNn582bR/SPZIZrccz0hE1bOTV80ScpKWnt2rXEXQWNjY3d3d3EhaF79+4BAAYGBnCJp6enm5sbHvznP/8JACAfkfTx8Vm2bBlRQvOYlIeHx+LFi+F1aGjo7t27uVyuQqG4ceOGyvjDsXv3burdamQN5XI5zL5CoZgxY0ZsbKzSI5WVlcbGxvC6sbFx6dKlra2t+N0lS5bY2toqxQfqVsZZya/azBJR2kjk6urK5/Px4KJFi4jbVoRCob29PYP33rp1a/ny5cR1Rjs7O3yjBp26B2FQTHTQpdlVVgMKs1OXiErkcrmjo6O7uzsMZmVlRUdHK8XR3pJstU21KBQKCwsLpc0SdFqcNnrCicc7d+4Qhf/tHHV2dgYHB3t6eubk5AiFQqFQmJaWJhAIlHpPxsbGAAA4/Qw5cuTIvXv34IqSRCJJSEhYt27dn/70JyVXff/+fSV3TvOYVG1tramp6cDAwJkzZ3x9fZubm/l8fnZ2tpmZGfWPg6aQNVR7MsHc3Bzvq/f395eXlx87dgwG4ZGJyMhIYnwYGQ6vhkNn+cWRyWRyuRwP/vWvf62srLxz5w4AoKCgoKamhjgfNDAwoOmiM6S3t7e4uDgmJgYGhUJhQ0MDNBfNugdhUEx00KXZVVYDCrNTl4hKOBxOVFTU7du3b9++DVQtiwM2LKkzo3V0dHR0dCgt3NNpcdroCb0c9Hj/A3pNlSfzlH58MAyrr68HABA9OoZht27d8vLy+uSTT3x8fEJCQoh9T/wpa2vrvLw8lV48Ly/PwsJCKU2cgwcPmpmZbdmypa6uDsOwkJAQGxub+Ph4ip8FlVD/8lNoSH0ywczM7PXr1/C6qKjI3d19/fr1O3bs8PLyys7OxqOJRKKQkBA4HLC3tw8ODi4pKVGZICv5pdnNycjI8Pf3BwDMmDED7hiHpKene3l5CQQCb2/vzMxM4iPffPMNxQZy6vcmJyc7OTlt3779008/dXZ2Tk1NhXKadQ/TopjUohuzU1cDCrNT3KLA3d3d0dFRLpf7+voqddVZsSRbbVMtIpFo+vTp586dU5JTtDjt9WxpaQEA/Prrr0ShZl8kGhwcNDAwqK6u1ugpClg5WzZyqD2Z4OLiUltbq0uV9Mvf//73r776St9aKMPuqZtxA9whm5yc7OrqSvMRZEmcmpoaAwMDeKYWR+MPuM2aNYvZkVUyo7xs6JxM+Nvf/pacnKxbvfSJQCB48uSJvrX4HSN0gGR84OfnZ2Nj4+fnRycysiSRgoIC8kyoxt+2cXBwaGho0PQpMtp/KmakoXMyYfv27Yy/EDPmGBoaamtrwzf3jhJG6ADJ+CAiIuLFixfkiUuVIEsSaWxsXLx4sZLQANNwp0tMTExzc3N0dLSW2pw6dSo6OhrulJZIJLt27YqKitIyTb2wa9euL7/8UuXGjnHG1atXjY2NN2/erG9FEBoQFBS0adMmV1dXfSsyxjh69KiFhcWRI0eIQo3d5W+//bZhw4YnT56wqtsYRiQSnTt37syZM/pWZGTp7u4+efIkvrSNGCu8ePHC2Nh45HZWjFf4fH5KSsrcuXOJQo0H4/b29lwul5Xx+PiAy+Xu2LFDm6OBY4K6urpx/5MwLuHxeMhXakpzc7OpqamSrwQMepcAgPz8/KKiItaP0CMQCMRoICIiYtmyZe7u7kpyJn9j4OLi0tXVNZr/fwOBQCCY0dXV1d7eTvaVgFnvEgAwODj44MGDlStXaq0bAoFAjCLu3Lnz/vvvq/zOC0N3iUAgEG8arP2nIAKBQIxvkLtEIBAIWhgBAAYGBuCfeSIQCASCSHBwMP5lZSMAAIfDsbe316tKCAQCMRohfq8aLfUgEAgELdDcJQKBQNACuUsEAoGgBXKXCAQCQQuN/2IU8SbQ3NwcEBAwYcIEfSuCUIGPj8+ePXv0rcWbCFrqQaggKyvrl19++eyzz/StCAIxikCD8XEC8d8ctaeysvKPf/wjiwkiEOMANBgfS+Tn53t5ecFNsxiGzZkzp6SkBN6KiYk5dOhQaGhob2+vRCJRKBSJiYnELWMaUVVV9fHHH7Om9xhBJpMNDg5q+tTEiRMnTpw4EvogRhvIXY4lMAzr7OycMmUKAKC0tLSmpoZ4Ny8vLycnp7y8HABgbW39ww8/+Pn5MXtRW1ublZWV9gqPLf79739/8803PB5Po6e2bt26devWEVIJMapA7nIsQfzHlatXr+JHVx89esTn81etWlVQUAAAwDBMoVAw/iCpXC7ncDgGBgZa6zvGKCsr+/rrr99++219K4IYpSB3OSa5evXq5s2b8bF2YWHhgQMHOByOqakpAKCgoEChUGzcuJFZ4r/99ttIH4pVKBTHjh1jZd6ARerq6sj/N6BHRqeV3mSQ9ccevb29N27cyMzMxCUymQxvSDU1NVFRUQ8fPmQ8mtbBOk9ubi5b8wZsIZVKjYyMOJxRtPg5Cq30hoPc5djjq6++WrVqFR6sra2dN28evK6oqIiLi0tPT4f/3s6MqqqqFStWaKkkNW5ubqzMG7BIVVXVe++9p28tfscotNIbzij6LX1DaGhoEAgEmzZt8vPzW7p0aVpaGkXkyMhIU1PTiooKovCnn36ys7PDg0Kh0MPDAwDQ2dl5/Pjxy5cvQ1+ZnZ3NTEOVvUuVmjCGrXkDAEBPT09ISIi3t7dAIFiyZEliYiKzdMrKyhwdHYkSdrPMABathGAHDKFDpFLprFmzvLy8YDAkJITD4dy/f19l5MLCQl9f37t377q6uvb09ODymTNnlpWV4cGoqCh4cfLkSRMTEx6Px+PxzM3Njx49ykxJNzc3mppoSXV1tYeHR0NDgzaJuLi42NjY9PX1YRj27bffAgDS09MZpLN3795nz57hwRHKMgNYsRKCFZC71CkymczPz6+mpgYGs7KyAAAREREqI6ekpEilUoVC0dbWVlBQoDJOS0vLd999x6KGQ0NDH374IQNNKJBKpWRheXn5zp07oZtjzMDAwJQpUy5cuACDjY2NAACBQMAgqdWrV8vlcjyYkpIil8vlcnlrayuDLDNg5KyEYAvkLvVJfHw8AODatWvkW+Hh4W5ubpaWliKRSCAQcLnclpYWcrSEhISuri4WVaqurt6/fz8DTcjExcWtW7eOx+PdvHkTSnp6eubPnx8XFycSidasWSOTyaA8KyuLscL19fUKhQJed3d3AwBWr16taSJSqVTpR4JxrjVFN1ZCsAKau9QD3d3d/f399fX1CQkJgYGB27ZtI8cJDQ01MTFZuHBhdHT0rFmznJ2dLSwsyNG6urrMzc1Z1I284kFTEzJ79uyxtbXt6Oj44IMPoCQvL+/Zs2dOTk6xsbGFhYU2NjZWVlbTpk0rKioaLpGEhISqqiqKt9jZ2eFbRMvKygAAfD6fjnpEqqur3333XaKEca41hRUrIXQDWhnXAxcuXKiurm5vbzcxMQkMDFS5ecXQ0BAOLQMDAyk2Tq9fv55d3SorK5X+kJ6mJmQMDAzq6ur4fD5crwAAZGRkTJ8+feHChYsWLTpx4gSdRB49ekTzpRiGRUZG2trahoSE0FcSQl7nYZxrTWHFSgjdgHqXeuDUqVMpKSmFhYWbNm1auXJlcnIyOU5/f//Tp0/nzp1L3VYXLFjAWI3u7m6lY5RAVe+SpiZkpFLp3bt38T1Pg4ODaWlpzs7OI3ReKCwsTCwWl5SUcLlcimgPHz788MMPxWIxUUh2l4xzrSk6thJCG1DvUp/s27fv9OnTERER5O3HDx8+lMlkKsfp2oNh2NWrV8PCwuzt7QsLC4m3Xr16pTS6J2tC87RJaWlpX18f7gji4+PFYrGLiwsd9YRCIbxuamp68OAB/PIFj8dzcHBQ+cjx48erq6sLCwsnT548XLKvX78ODw+XSCTFxcXR0dGnT5/Gb/3yyy9KbpFxrpX0J6JSf8ZWQuge5C71iaGhob29fXl5OYZhSr2J4uJiIyMjuKESh61TcVeuXOFyuYmJiZ6ensXFxcuXL4dyiUQyadIkpchkTWieNsnPz+dwOHBKTiQSXbt2DQBA3GA/HBiG/fjjj/AausvW1lYAgIODg0p3GRYW1tTUlJqaSm0NAwODgwcP2tjYcLncqKiooKAg+DUNmUzG4XCUpkQY51pJfyIq9WdsJYQe0OMy0xvIrVu3li9fTtwyYmdnt2DBAnJMHx+fZcuWKQlzcnIcHBzgtZWV1fXr17VRRqFQ8Pn8DRs24JLHjx8fOnRIrSZyuby7uxumMGPGjNjYWJXpe3h4LF68GF6Hhobu3r2by+UqFIobN27QV3L37t35+fkUEZKSktauXYsvjmMY1tjYCNUbjt7e3hkzZuzduxcGnz59ymKuNYUVKyF0A5q71Cm9vb3FxcUxMTEwKBQKGxoajh07Ro55//59cheD3VNxBgYGR48ezcjIwGcwq6qqyOd5yJrQPG1SW1tramo6MDBw5swZX1/f5uZmPp+fnZ1tZmamjdpEOjs7g4ODPT09c3JyhEKhUChMS0sTCATUR79NTEy++OKLxMTEuro6oGriEmiRa03RgZUQrKFvf/3GkZyc7OTktH379k8//dTZ2Tk1NZUcp76+3traOi8vb7hE8vLyLCwsWltbtVRGKpXOmTMnMDAQBkNDQ4uLi2lqova0ycGDB83MzLZs2VJXV4dhWEhIiI2NTXx8vEYaUvcuL126RK7S5F45GYlEMnv2bD8/PwzDDhw4UF1dTbyrTa41hRUrIXQDcpdjD3Zb7OXLlydMmNDU1IRhmI+Pj1gspvPUODht8v3334P/XyjHt4JTMw5yjdAG5C7HGKy32P7+fktLy8OHD2OqTourZHycNpHL5Xw+383NzdPTk0788ZFrhDagucuxBFvfHCIyefLk4ODg+Pj41tZWil04RMbHaRMOhxMZGZmbm/vOO+/QiT8+co3QBvTHuWOJU6dORUdHm5iYAAAkEsmuXbuioqK0T/bVq1e2trYeHh5z5sw5e/as9gmOFTAMc3NzCwwMfAP/xw3BAOQuEQAAcOTIkfPnzyclJQUEBOhbF53y4MGDqVOnanM4CvHmgNwlAgAAWlpa7O3ti4uLyVtqEAgEBM1dIgAA4K233vL390edLASCAtS7RPyX9vZ2S0tLfWuBQIxe/g/pq0v/nNEfHAAAAABJRU5ErkJggg==\"></div>"
      ],
      "text/plain": [
       "FormBox[FractionBox[RowBox[{\"2\", \" \", \n",
       "      RowBox[{\"(\", RowBox[{RowBox[{\"6\", \" \", \n",
       "\n",
       " \n",
       ">               SubsuperscriptBox[OverscriptBox[\"r\", \"^\"], \"2\", \"2\"], \" \", \n",
       "\n",
       " \n",
       ">               SuperscriptBox[\"u\", \"4\"]}], \"+\", \n",
       "\n",
       " \n",
       ">             RowBox[{SubscriptBox[OverscriptBox[\"r\", \"^\"], \"2\"], \" \", \n",
       "\n",
       " \n",
       ">               RowBox[{\"(\", RowBox[{RowBox[{\"51\", \" \", SuperscriptBox[\"u\", \"4\"]}], \n",
       "\n",
       " \n",
       ">                   \"+\", \"40\"}], \")\"}]}], \"+\", \n",
       "\n",
       " \n",
       ">             RowBox[{\"32\", \" \", SubsuperscriptBox[OverscriptBox[\"r\", \"^\"], \"2\", \n",
       "\n",
       " \n",
       ">                RowBox[{\"3\", \"/\", \"2\"}]], \" \", SuperscriptBox[\"u\", \"2\"]}], \"+\", \n",
       "\n",
       " \n",
       ">             RowBox[{\"100\", \" \", SqrtBox[SubscriptBox[OverscriptBox[\"r\", \"^\"], \"2\"]], \n",
       "\n",
       " \n",
       ">               \" \", SuperscriptBox[\"u\", \"2\"]}], \"-\", \n",
       "\n",
       " \n",
       ">             RowBox[{\"75\", \" \", SuperscriptBox[\"u\", \"4\"]}]}], \")\"}]}], \n",
       "\n",
       " \n",
       ">       RowBox[{\"3\", \" \", SubsuperscriptBox[OverscriptBox[\"r\", \"^\"], \"2\", \n",
       "\n",
       " \n",
       ">          RowBox[{\"7\", \"/\", \"2\"}]], \" \", \n",
       "\n",
       " \n",
       ">         SqrtBox[RowBox[{RowBox[{SubscriptBox[OverscriptBox[\"r\", \"^\"], \"2\"], \" \", \n",
       "\n",
       " \n",
       ">              SuperscriptBox[\"u\", \"2\"]}], \"+\", \n",
       "\n",
       " \n",
       ">            RowBox[{\"2\", \" \", SqrtBox[SubscriptBox[OverscriptBox[\"r\", \"^\"], \"2\"]]}],\\\n",
       " \n",
       ">    \"-\", \n",
       "         SuperscriptBox[\"u\", \"2\"]}]]}]], TraditionalForm]\n"
      ]
     },
     "execution_count": 107,
     "metadata": {
      "text/html": [],
      "text/plain": []
     },
     "output_type": "execute_result"
    }
   ],
   "source": [
    "dEdrFinal = Fold[ (* Последовательно применяем замены *)\n",
    "  Simplify[#1 /.\n",
    "    D[Subscript[OverHat[r], 2][OverHat[t]], {OverHat[t], #2}] -> dr2[[#2]]] &,\n",
    "  dEdr,\n",
    "  Range[5]\n",
    "];\n",
    "\n",
    "Simplify[dEdrFinal, {u ∈ Reals, u > 0}] // TraditionalForm"
   ]
  },
  {
   "cell_type": "markdown",
   "metadata": {},
   "source": [
    "$$\n",
    "  \\Delta \\hat{E}(u) = \\epsilon_G \\frac{4}{3}\\int\\limits_{\\hat{r}_2^\\text{min}}^\\infty \\frac{32 \\hat{r}_2^{3/2} u^2+6 \\hat{r}_2^2 u^4+\\hat{r}_2 \\left(51 u^4+40\\right)+100 \\sqrt{\\hat{r}_2} u^2-75 u^4}{\\hat{r}_2^{7/2} \\sqrt{\\hat{r}_2 u^2+2 \\sqrt{\\hat{r}_2}-u^2}} \\, d\\hat{r}_2,\n",
    "$$\n",
    "где при $\\hat{r}_2 \\ge \\hat{r}_2^{\\text{min}}$ выражение $\\hat{r}_2u^2 + 2\\sqrt{\\hat{r}_2} - u^2 \\ge 0$."
   ]
  },
  {
   "cell_type": "markdown",
   "metadata": {},
   "source": [
    "Полученный выше интеграл **компактнее**, чем тот, что рассмотрен в файле binary_catch2.pdf\n",
    "$$\n",
    "  \\Delta \\hat{E}(u) = \\epsilon_G \\frac{4}{3}\\int\\limits_{\\hat{r}_2^\\text{min}}^\\infty \\frac{24\\hat{r}_2^2u^6 + 48u^6\\hat{r}_2 + 120\\hat{r}_2^{3/2}u^4 - 96u^6 + 96u^4\\sqrt{\\hat{r}_2} - u^2\\hat{r}_2^2 + 133u^2\\hat{r}_2 - 2\\hat{r}_2^{3/2}}{\\hat{r}_2^4\\sqrt{u^2\\hat{r}_2 + 2\\sqrt{\\hat{r}_2} - u^2}} \\, d\\hat{r}_2,\n",
    "$$"
   ]
  },
  {
   "cell_type": "markdown",
   "metadata": {},
   "source": [
    "<span style=\"color:brown\">**NB:**</span> Однако, будучи аналитически взятым будет полностью <span style=\"color:green\">**совпадать!**</span>\n",
    "\n",
    "Смотри подробности в файле binary_catch_integral.ipynb\n",
    " \n",
    "Там компактный интеграл назван $I_5$, а второй $I_4$.\n",
    "\n",
    "Выпишем ответ:"
   ]
  },
  {
   "cell_type": "code",
   "execution_count": 109,
   "metadata": {
    "vscode": {
     "languageId": "wolfram"
    }
   },
   "outputs": [
    {
     "data": {
      "text/html": [
       "<div><img alt=\"Output\" src=\"data:image/png;base64,iVBORw0KGgoAAAANSUhEUgAAAdsAAAA7CAIAAAC8K7dVAAAAzXpUWHRSYXcgcHJvZmlsZSB0eXBlIGV4aWYAAHjabU/bDQMhDPtnio6QBzgwDtxxUjfo+A0HVUVVS8SO80AJ/fW8wmNAmEJMllEAcsQSi1QXmSYmM5U73jjbUrz7QdsUXN1K3wL68tvuGyZL/llEMoWOH1xrXANrkcr0uc68rX6pOe+LlDbgI/h/HtUECWzRYxQyQ3Gdg0snJKFkuHAA3sg4heLh3GHmY7DRoXUMDki3vbsHqBvnOEHHS1qd1SOryHDkduBRFdJW9T4kvAHY8VsOVzfTUwAAAAlwSFlzAAAOxAAADsQBlSsOGwAAADx0RVh0U29mdHdhcmUAQ3JlYXRlZCB3aXRoIHRoZSBXb2xmcmFtIExhbmd1YWdlIDogd3d3LndvbGZyYW0uY29tXKKmhQAAACF0RVh0Q3JlYXRpb24gVGltZQAyMDI1OjAzOjEyIDIyOjA2OjM2VWgr3gAAFkxJREFUeJztnXtYTdn7wFenkMIRNcpE04PnKaZ7ySWlCyVyLYapjkMGMZMHMeQ2eGbEkKhUjOcwPCiDksthEsmt3EtlhDoK3dVRqU57/f7Yj/3b373P2WefS6diff7o2Wvtvdb7vmu9623ttdfZWwtCCDRCXFycm5vbiBEjNCMOgUBogA4f18wKCIXC+Pj48vLy27dvy6qhsLDw33//Xb58ebvpKEWKLKGcdlWC4OXLl0+fPu2c4Xj9+vUBAQEdrUX7gmHY2rVrQ0NDFy5cyOfzJRJJR2ukZmJiYubNm7dmzZp58+Y1NDR0tDrK07W8UWPjWigUzpgxY8yYMYoq4O3tzefzxWIxQ+UWFhb5+fkvXrxQj67spMgUCjUCj8d78OABOae5ubm2tlYz0hl4/PjxmDFj/P39O1oRVlRUVChX8MqVK7a2tvixiYnJyZMn1acUE5rp5eLiYh0dnZqaGgiht7d3ZGRke0tsJzqhNzK7HH1ctx8pKSnff/+9EgqkpaXRC1J48uRJUFCQSvqxgCJFqlBNzJE/fPiQmZlpZ2dH5GAYFhER0bNnTw1IZ6CtrS0hISEwMLBj1WDP27dvDx8+rERBT0/P69evAwAghBiGVVVVqVkzaWisl/X09DgcDvy8/tanT5/2ltgedE5vZHA5+rhuV7S1tdtPAWtr69u3b9fU1KheFXspUoVqIiKnpqZ6eHhoaWkROXv37p02bVqPHj3w5Nu3b4ODg3k8noeHh5eX15MnT/B8U1NTLRopKSkAgJKSksDAwFmzZs2ZM8fZ2fnMmTNKKBYfHx8cHMzhqNoIdXV127Ztmz17toWFRWxsLPlUfX19eHi4r69vYGCgk5PTwYMHiVMM1qWmplLyN2/eDACwsbEpKSl59uyZohpyOBwulwsAuH79OoZhM2fOVNpY9i1P9DJDEYZGYI+RkVFsbCyPx/v111/79OkTFBTUTtbJclTmUyxRlzcSfPz4cdCgQXw+n8hh8EYlXI4+rltaWj5+/Kgu/eVCV0AVPD09FXU8Ordu3Zo4cWJQUJCDg8ORI0fkSpEitL0n6hBCHo8XGxtLJMVi8ZQpU4jkq1evDA0No6Oj8aSPj8+wYcMghKWlpa6ursnJyWmfOX36tIGBQUNDQ2tr63fffTdp0iS8SHh4OIfDuXv3rkJavX//PiwsDEIYHx+v4n1iW1vb8+fPd+/eDQDYu3cv+ZS7u7upqWlDQwOE8OjRowCAs2fPMlsHIRQIBD4+PmkkiJvH9+/f//DDD8rpmZ+fP3HixJKSEqUtZd/yRC8zFGFuBPbU1NQMGzYsMzPz/fv3o0aNOnfuXHtYJ8tRmU+xRI3eSLBq1SodHZ358+cTObK8ESrlcpRxDSHcsWNH+y2I0Rcf6AqwLCiV+Pj4wMBA5fWDEELY0tKyY8eO0tLSw4cPs5FCF6qJiDxixAihUEgkBQIBuR3nzZtnYmLS1taGJ8vKytLT0yGEIpGotLSUXE9ycvKaNWsghBKJZM6cOQUFBXj+hQsXAADbt29n0KG1tZWS89NPP82dO3fFihUeHh5Dhw7duHGj8hZCCCHMy8ujROSmpiZ9ff2oqCg8KRKJAAB4BzBYByHct2/fvn37ZAmaMmVKZWUlgyZ0YyGEjx49WrRokaLBjgL7lid6maEIcyPIgm7doUOHRo4ciR9HRkZ6eXkpbBiEzKpC2Y7KfIqlCWr3xsePHwcHBxsbGxMRmcEboVIuRxnXjY2N33zzjeoROScnZzOJsrIyPJ8eWCkKyIJlRL5y5YqlpaVyOhNUVFTExsaeOHEiNzeXjRS60HaPyBKJpHv37k+ePCFy/P39iXmHRCLR19fn8/ly62lra/Py8qqurqafSkhIAAAcP36cfiouLs7Pz8/Y2DgtLQ3Pqa+vt7CwiIuLI65R16yEHpEhhMXFxRiG4ccfPnwAAEyYMIFelmLd9u3bU1JSZAmKiIgQCAT0fAZjq6qqJk+eLJFI8PwLFy4obp8UGFqe3MssizB0MWS07uTJk4MGDcIzV65cOXPmTCXtka0qg6Oy92GNeSOGYe7u7iKRiByRIaM3KupylHGdlJTk4uICAHB0dJw+ffrRo0chhK9fv+bxeJ6enr6+vra2tkT9//zzz/jx401MTOrr63/77TcnJycul/vjjz8yTxcogZUeWKSSnp4+b968Pn36HDhwgPkp5dOnT7t16yZ1NsMeX1/fioqK5OTkDRs2sJFCF9ruEfndu3cAAJFIROSYmZm9ffsWPy4sLAQARERECIXCCRMm2Nvbr1ixoq6ujl5PXFwc5Q6ltra2oaHh9evXDg4OfD6fmKGQwTBs2bJl2traHz58wHPOnTsHACA68u7du1OnTrW0tMzOzmawIiEhIS8vj9lSqRGZTHp6OgBA6hyQYt2aNWuEQuGmTZumT58eGhpKCW2JiYnLly+nV8Jg7JYtW3r16mVsbGxsbGxgYLB27VpVjGXT8uReZlmE3sUsrWtra1u5cuXatWujoqICAgKKi4uVNk2WqgyOyt6HNeaNBw8exCMCJSKToXijoi5HH9f4o2NijtzS0mJqajpu3Di8ARcsWNC7d+/m5mb87KZNmwAAzs7O2dnZGIbFx8cDAHbs2CHLInpgpSugIvhNAzElp8PGeRSVQheqQEQWi8Vbt2718vLi8Xj79+9nWQp/xEFsgaqtrQUAEB1z69YtAMCYMWP2799fU1Nz9uxZPT29cePGUSqprq4eOXIkMcXD2bRpk7+/v6urq5ubW2ZmpiwFvL29HR0diSSfz+/fvz8xU2DJ4sWLMzIymK9hjsgYhnl5eQ0ePJh+90e3bvHixSEhIQUFBeXl5UFBQRwOJykpiTibnJzs4uIiVYpmjJXb8pReZlNEahdTUN06Nv0oVVUGR2Xpw+oyQa4VHz58sLGxEYvFUHZEpnujoi5HGdeQFpElEklAQACxehMdHU0OPXv37gUAnD9/ntCnT58+06dPZ98IdAVUBHfaR48eybqAjfMoKoUulG1EbmpqsrKymjFjBv3OoqqqatmyZZs2bYqKilq2bBmfzyemABDCO3fuAAAaGxvxZGFhYbdu3YizWVlZAIBp06YROatWrQIA3Lx5kywiLCyM4f/nvn37yK5ApqWlRV9ff/Xq1YQVXC5Xibta1SPyunXrnJyc3r17Rz9Ft478P7OxsXHAgAFmZmZEzuXLl6U+ONKksTiyWp7Sy2yKMHcxVJN1Cg0qsqoMjsrSh9VlglwrVq5cSTxWkhWR6d6oqMtRxjWkRWRybUlJSQ4ODgAA4rEBHpGJJXsI4ZAhQxR6AEBXQEXwHxZlZWXJukAtEZkihS5UR+oeDjrHjh179uxZRkaGnp4eOb+4uNjPzy86OtrDwwPPcXNz6969O3FBS0sLIO0lrKur09H5f6HGxsYAACcnJyLH1dV19+7dz549w5elAABFRUWJiYlFRUWydAsNDd22bdv27dvnzJlDOZWTk9PQ0DB+/Hg8mZCQUFdX5+7uzsZkCKFQKMSP37x5k52d/enTJ1xnW1tbNjUQbNiwIT8//8aNG/TNuVKtGzhwIHHcs2dPR0fHCxcu1NTU9OvXDwCgo6NTV1dHl6J5Y2W1PKWX5RaR28WqWKd0P5JVZXBULy8vWacIH1bRBPZWPH/+PCsra9euXQxVSfVGRV2OMq6lcu/evT///FMsFi9atCgoKOjBgweUC8gb1xTdxCZVgcLCQnw1hg2Ojo7Ozs5EEq+qubmZfI1CzpOTk5OdnU3JDA0NJZtGkUIXyjYiP3z4sHv37pMnT8aTiYmJ1tbWAICFCxfOnj2bCMcAgPnz55N7GkIISM0tkUjIOy5NTEw4HE59fT2R07t3bwAAsVUZALBz585hw4aRPYaCtra2ubk5PvOn9GtGRgaHw8EHRlVV1fHjxwEAxJBgBkJ4+fJl/BjvjLdv3wIAbG1tFYrIERERb968OX36tNQgJdc6AAC+lRh+/gUEh8OR+jNozRsrq+UpvSy3CJtGUNo6pfuRrCqDo7LxYRVNYG/F2bNnW1pa8AkpLiU1NdXOzm7r1q1+fn5AnjcSyHU5yrimU1xc7OrqyuPxkpOTAQCUffqqI0sByPpFPZQrcY+lZCrkPPgkl55JVpIiRYpQlpPtVatWjR07lpL5+PFjDodD2cBEAV9la2pqwpN5eXm6urrkC3x8fDw9PYnkoUOHAADELyMxDDMyMqLsT7h06dLo0aPJDyjNzMyk7lyZOHGijY0Nfrx+/frFixcbGhpiGEZeI2OD0qsWAoFgypQp5IVCkUhErOpItU4kEjk7O5Mfizk5OQ0ePJhICoVCc3NzugIaMJZly5N7WW4RqY1ARy3WMfcjs6oMjsrsw+o1Qa4VZCirFrK8UQmXo4xr+HnV4siRI3gS3+/8119/4ck//vgDkB7E4asWhYWFRPGhQ4cqtGpBV0BFGhsbgbS1JgK1rFpQpNCFsv2BkI+Pz5MnT968eUPOvHr1qqWl5bfffstQUFdXFwDQ2tqKJw0MDCj3BatXr75161ZOTg4AoLm5OTEx0c/Pz97eHj9bWVlZWVlpZGRELiIWi+/cuYN3KgBAKBSWlJSsW7eOLv3FixdcLrepqSkyMnLGjBmlpaV2dnYXL17s27cvS8PZg9uF30zhVFdXh4WF+fj4XLlyRSgUCoXCM2fOBAYGEvNHqdY1NjY+evSIMCczMzMnJwd3aJympiYDA4MOMZZly5N7WW4RqY1Ap8OtY3BUZh/WpAkUJBJJW1sbfszgjUq4HGVcg88rkOnp6RiGffr0ycLCAgCQnJwskUjKyspOnDgBACAWpjAMI/7itLW1kZNyoSvAjNyXbeFV4dW2HxQpUoSyj+4JCQnOzs7BwcHLli27dOkShHDp0qXe3t7EBX///XdMTExMTEx5eTmRWVxcDAAg//vt27fvx48fyTVfunRp0qRJ8+fPnz59enh4OPn/XlVVVf/+/Xft2kVR5tSpU2PHjp07d+7ChQvd3NxOnz4tVedffvmlb9++AQEBRUVFEMLw8HBTU9OEhAT2VuMw/3usqqoKDw/H70bNzc3DwsLu3bsHIZR6pzZq1Ci51mVmZnp5eU2dOjUkJGTSpEkXL14knz1y5IjUHxdpxliWLU/uZeYishqBglqskzvNYVaVwVEZTqnXBDZWQAhTUlKCg4MBAAMGDMB/5MLsjYq6HH1cYxi2dOlSAwMDFxcXfKa8c+dOY2Pj4cOHh4WFZWRkmJiYuLq6pqamCgSC4cOHAwAmT558586dmpqan3/+WVtbu3fv3qtXr2a584SuADNyX7ZVVlYGAHj16pWsGtQyR6ZIoQtVaT/yhg0bXF1dyTlGRkaUW7BPnz5paWnl5+cTOe7u7i9evFBF7lfO77//vmfPno7WQg6ol78k6C5HH9caRlEF2tra8NVCDMMGDBgQExNDuaCgoEBLS0uNmzekQpFCF6rSa00CAgJyc3NfvnyJJwsKCurr64mnfzg9evQwMzMrLy8ncry8vB4+fKiK3K+c/Px8/Pl+Zwb18pcE3eXo41rDKKqA3JdtlZeXDxo0qL1fVUiRQheqUkS2trZOS0vbtm3b3r17jx49euzYsfXr11O2xwEAbG1tS0pKiOTcuXPT0tJUkfs109LS8u7dOysrq45WRA6ol78YZLkcZVxrHiUUKCgo2LFjx/37901MTCinRCKRjY2N+rSTDkUKXSjb3W+yGDNmDP3F/hTc3Nxyc3OJpLm5ua6ubmlpqampqYrSv0KSkpKWLFnS0VrIB/XyF4Msl6OMa82jqAKPHz+Oi4vDf1RJP5uXl+fq6qqiShiGrVu3TiwWNzc3Yxh28OBByi5DihQpQtt10QTn1atXVlZW5JzKykq5r/hC0KmtrcXf2dglQL38BcDgcvRxrWGYFaA8IZT7si1bW1vVn3zIfX5IkUIXqok31pubmxsaGpLvLwwNDUNCQjpwEaqLUlRUFBkZ2dFasAX18hcAg8vRx7WGkaVAXl7eggULQkJC8OScOXPOnz8fExNz48YNU1NTExOTfv36ZWZmkouUlpZyudyhQ4eqqBLzx3ooUqQLVfF/AkuuXbu2ZcsWzchCIBCaocPHtSwF+Hw+vpuitra2Z8+ecl9ItG3btqtXr6pXMSMjI8rmPIoUqUI19C1qd3f3mpoazXzeDYFAaIYOH9eyFLh586anpycA4NixY9bW1sy/wampqamoqFDj/iWpzw8pUmQKVeO/BWaamppu3LihMXEIBEIDdPi4pivw33//DRw4EH7+3Jesl8cTZGZmqnEbsqyP9VCkyBKqBVm/mAOBQCA6P4cOHRIKhadOnRIIBAKBYPPmzRwOh+U79lSkurqax+OlpKTgL3W7ePGir6+vQjVoaNUCgUAgNEOvXr3y8/Ojo6NnzZoFAMjKyho5cqRmRDM/P2QDmiMjEAhEZwHNkREIBKKzgCIyAoFAdBZQREYgEIjOgg4kfUiKDPlDUgKBAP80CwKBQCDUy+jRozds2IAf60DSh6TIkD8kNXXqVNXfwYFAIBAIOvr6+sQx2muBQCAQnQW0joxAIBCdBRSREQgEorOAIjICgUB0FlBERiAQiM4CisiIr4iMjAxdXV0jIyMjIyNDQ0NnZ+eO1giB+B9U/c4eAtGFgBBWV1fjm41ycnIKCgo6WiME4n9Au98QXylhYWG7d++mfJgSgehYkDsiugwQwqioqOvXr+vr61dUVOzcudPBwUG5qo4dO+bv74/CMaKzgTwS0WVYv3792bNn79+/36tXr8OHD7u4uDx8+NDS0lLResRicVJSUmpqansoiUCoAnqyh+gaVFZWRkVF8fn8Xr16AQCCg4P19PRiYmKYS0kkEnrmnj17xo8f3x5KIhAqgiIyomuQm5vb3Nw8ZMgQPKmjo2Nra3vt2jWpFx84cGDq1KkmJibEW7TEYrGlpeWBAwcAAFevXjUzM9OM2giEQqCIjOgalJeXAwCampqIHC6XW1RUhGEY/eIlS5YMHjy4srLSxcUFz7l27VphYeHYsWMBACKRyNzcXCNaIxCKgSIyomswdOhQAEB2djaR8/LlS4lE0tDQQL9YS0urqKjIzs6Oy+XiOSkpKf3797eysgIAiEQie3t7jWiNQCgGisiIroG9vb2Dg4NAILh9+3Zra2t0dHRdXR0AoLm5mX5xa2trVlYWsVj86dOnM2fOuLm5aWlpaVJnBEJRUERGdA20tbXPnTvn7e09ZcoUFxcXLpeLz3PxB30UcnJyGhoaiIickJBQV1enme/DIxCqgHa/IboMpqamp0+fJpIxMTEDBgzQ1dWlX5mRkcHhcPBF5KqqquPHjwMA0P4KROcHzZERXYaXL18Sz/EghMXFxbKCbGZmppWVFb6IHBUVZW9vb2hoOGLECPRxMkQnB0VkRNcAwzB7e/uNGzfiycOHDzc3N0dEREi9+MWLF1wut6mpKTIycsaMGaWlpXZ2dhcvXuzbt68GVUYgFAZFZETXgMPhnDhxIj093cPDIygo6PLly48ePcL3TtDx8/N7+vQpj8fz9/d3dHQcPnx4QUFBWVnZhAkTNKw2AqEQ6E1DCAQC0VlAc2QEAoHoLKCIjEAgEJ0FFJERCASis4AiMgKBQHQWUERGIBCIzsL/AS/tJRiukBV5AAAAAElFTkSuQmCC\"></div>"
      ],
      "text/plain": [
       "FormBox[RowBox[{\"-\", FractionBox[RowBox[{SubscriptBox[\"ϵ\", \"G\"], \" \", \n",
       "\n",
       " \n",
       ">           RowBox[{\"(\", RowBox[{RowBox[{RowBox[{\"(\", \n",
       "\n",
       " \n",
       ">                   RowBox[{RowBox[{\"673\", \" \", SuperscriptBox[\"u\", \"4\"]}], \"+\", \n",
       "\n",
       " \n",
       ">                     \"1275\"}], \")\"}], \" \", SuperscriptBox[\"u\", \"2\"]}], \"+\", \n",
       "\n",
       " \n",
       ">               RowBox[{\"3\", \" \", RowBox[{\"(\", \n",
       "\n",
       " \n",
       ">                   RowBox[{RowBox[{\"37\", \" \", SuperscriptBox[\"u\", \"8\"]}], \"+\", \n",
       "\n",
       " \n",
       ">                     RowBox[{\"366\", \" \", SuperscriptBox[\"u\", \"4\"]}], \"+\", \"425\"}],\\\n",
       " \n",
       ">    \")\"}\\\n",
       "], \" \", RowBox[{\"(\", RowBox[{RowBox[{SuperscriptBox[\"tan\", RowBox[{\"-\",\\\n",
       " \n",
       ">    \"1\"}]], \n",
       "                    \"(\", FractionBox[\"1\", SuperscriptBox[\"u\", \"2\"]],\\\n",
       " \n",
       ">    \")\"}], \"+\", \n",
       "                  FractionBox[\"π\", \"2\"]}], \")\"}]}]}], \")\"}]}], \n",
       "\n",
       " \n",
       ">         RowBox[{\"9\", \" \", SuperscriptBox[\"u\", \"7\"]}]]}], TraditionalForm]\n"
      ]
     },
     "execution_count": 109,
     "metadata": {
      "text/html": [],
      "text/plain": []
     },
     "output_type": "execute_result"
    }
   ],
   "source": [
    "DeltaE = -Subscript[\\[Epsilon], G]/9*(u^2*(1275 + 673*u^4) + 3*(425 + 366*u^4 + 37*u^8)*(Pi/2 + ArcTan[u^(-2)]))/u^7;\n",
    "DeltaE // TraditionalForm"
   ]
  },
  {
   "cell_type": "code",
   "execution_count": 110,
   "metadata": {
    "vscode": {
     "languageId": "wolfram"
    }
   },
   "outputs": [
    {
     "data": {
      "text/html": [
       "<div>&#36;&#36;&#45;&#92;&#102;&#114;&#97;&#99;&#123;&#92;&#101;&#112;&#115;&#105;&#108;&#111;&#110;&#32;&#95;&#71;&#32;&#92;&#108;&#101;&#102;&#116;&#40;&#92;&#108;&#101;&#102;&#116;&#40;&#54;&#55;&#51;&#32;&#117;&#94;&#52;&#43;&#49;&#50;&#55;&#53;&#92;&#114;&#105;&#103;&#104;&#116;&#41;&#32;&#117;&#94;&#50;&#43;&#51;&#32;&#92;&#108;&#101;&#102;&#116;&#40;&#51;&#55;&#32;&#117;&#94;&#56;&#43;&#51;&#54;&#54;&#32;&#117;&#94;&#52;&#43;&#52;&#50;&#53;&#92;&#114;&#105;&#103;&#104;&#116;&#41;&#32;&#92;&#108;&#101;&#102;&#116;&#40;&#92;&#116;&#97;&#110;&#32;&#94;&#123;&#45;&#49;&#125;&#92;&#108;&#101;&#102;&#116;&#40;&#92;&#102;&#114;&#97;&#99;&#123;&#49;&#125;&#123;&#117;&#94;&#50;&#125;&#92;&#114;&#105;&#103;&#104;&#116;&#41;&#43;&#92;&#102;&#114;&#97;&#99;&#123;&#92;&#112;&#105;&#32;&#125;&#123;&#50;&#125;&#92;&#114;&#105;&#103;&#104;&#116;&#41;&#92;&#114;&#105;&#103;&#104;&#116;&#41;&#125;&#123;&#57;&#32;&#117;&#94;&#55;&#125;&#36;&#36;</div>"
      ],
      "text/plain": [
       "-\\frac{\\epsilon _G \\left(\\left(673 u^4+1275\\right) u^2+3 \\left(37 u^8+366 u^4+425\\right)\\\n",
       " \n",
       ">   \\left(\\tan ^{-1}\\left(\\frac{1}{u^2}\\right)+\\frac{\\pi }{2}\\right)\\right)}{9 u^7}"
      ]
     },
     "execution_count": 110,
     "metadata": {
      "text/html": [],
      "text/plain": []
     },
     "output_type": "execute_result"
    }
   ],
   "source": [
    "TeXForm[DeltaE]"
   ]
  },
  {
   "cell_type": "markdown",
   "metadata": {},
   "source": [
    "## Условия захвата\n",
    "\n",
    "На бесконечнос энергия объекта была $u^2/2$\n",
    "\n",
    "Если $2|\\Delta \\hat{E}| > u^2$, то гиперболическая орбита (или параболическая, если $u = 0$) превратится в эллиптическую за один полный оборот,\n",
    "\n",
    "далее тело уже не сможет \"уходить\" на бесконечность.\n",
    "\n",
    "Из-за ограничения локализации точнее условие захвата поставить **нельзя**"
   ]
  },
  {
   "cell_type": "code",
   "execution_count": 113,
   "metadata": {
    "vscode": {
     "languageId": "wolfram"
    }
   },
   "outputs": [
    {
     "data": {
      "text/html": [
       "<div><img alt=\"Output\" src=\"data:image/png;base64,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\"></div>"
      ],
      "text/plain": [
       "FormBox[RowBox[{SuperscriptBox[\"u\", \"9\"], \"<\", \n",
       "\n",
       " \n",
       ">        RowBox[{FractionBox[\"2\", \"9\"], \" \", SubscriptBox[\"ϵ\", \"G\"], \" \", \n",
       "\n",
       " \n",
       ">          RowBox[{\"(\", RowBox[{RowBox[{RowBox[{\"(\", \n",
       "\n",
       " \n",
       ">                  RowBox[{RowBox[{\"673\", \" \", SuperscriptBox[\"u\", \"4\"]}], \"+\", \n",
       "\n",
       " \n",
       ">                    \"1275\"}], \")\"}], \" \", SuperscriptBox[\"u\", \"2\"]}], \"+\", \n",
       "\n",
       " \n",
       ">              RowBox[{FractionBox[\"3\", \"2\"], \" \", \n",
       "\n",
       " \n",
       ">                RowBox[{\"(\", RowBox[{RowBox[{\"37\", \" \", SuperscriptBox[\"u\", \"8\"]}], \n",
       "\n",
       " \n",
       ">                    \"+\", RowBox[{\"366\", \" \", SuperscriptBox[\"u\", \"4\"]}], \"+\", \"425\"}], \n",
       "\n",
       " \n",
       ">                  \")\"}], \" \", RowBox[{\"(\", \n",
       "               RowBox[{RowBox[{\"2\", \" \", \n",
       "\n",
       " \n",
       ">                      RowBox[{SuperscriptBox[\"tan\", RowBox[{\"-\", \"1\"}]], \"(\", \n",
       "\n",
       " \n",
       ">                        FractionBox[\"1\", SuperscriptBox[\"u\", \"2\"]], \")\"}]}], \"+\",\\\n",
       " \n",
       ">    \"π\"}], \n",
       "               \")\"}]}]}], \")\"}]}]}], TraditionalForm]\n"
      ]
     },
     "execution_count": 113,
     "metadata": {
      "text/html": [],
      "text/plain": []
     },
     "output_type": "execute_result"
    }
   ],
   "source": [
    "DeltaE2 = Simplify[DeltaE + u^2/2];\n",
    "uMax2 = Simplify[2 u^7 DeltaE2];\n",
    "Simplify[uMax2 < 0] // TraditionalForm"
   ]
  },
  {
   "cell_type": "markdown",
   "metadata": {},
   "source": [
    "<span style=\"color:brown\">**NB:**</span> Условие захвата, <span style=\"color:green\">**совпадает**</span> с условием из файла binary_catch.pdf"
   ]
  },
  {
   "cell_type": "markdown",
   "metadata": {},
   "source": [
    "<span style=\"color:red\">**TODO_5:**</span> Сравнить условия захвата на параболической траектории $u = 0$ с другими авторами"
   ]
  },
  {
   "cell_type": "code",
   "execution_count": 114,
   "metadata": {
    "vscode": {
     "languageId": "wolfram"
    }
   },
   "outputs": [
    {
     "data": {
      "text/html": [
       "<div><img alt=\"Output\" src=\"data:image/png;base64,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\"></div>"
      ],
      "text/plain": [
       "FormBox[InterpretationBox[RowBox[{FractionBox[RowBox[{\"850\", \" \", \"π\", \" \", \n",
       "\n",
       " \n",
       ">            SubscriptBox[\"ϵ\", \"G\"]}], \"3\"], \"+\", \n",
       "\n",
       " \n",
       ">         InterpretationBox[RowBox[{\"O\", \"(\", SuperscriptBox[\"u\", \"1\"], \")\"}], \n",
       "\n",
       " \n",
       ">          SeriesData[u, 0, List[], 0, 1, 1], Rule[Editable, False]]}], \n",
       "\n",
       " \n",
       ">       SeriesData[u, 0, List[Times[Rational[850, 3], Pi, Subscript[\\[Epsilon], G]]], 0,\\\n",
       " \n",
       ">    \n",
       "     1, 1], Rule[Editable, False]], TraditionalForm]\n"
      ]
     },
     "execution_count": 114,
     "metadata": {
      "text/html": [],
      "text/plain": []
     },
     "output_type": "execute_result"
    }
   ],
   "source": [
    "Simplify[Series[(u^9 - uMax2), {u, 0, 0}], {u ∈ Reals, u > 0}] // TraditionalForm"
   ]
  },
  {
   "cell_type": "markdown",
   "metadata": {},
   "source": [
    "# Потеря момента за один период обращения\n",
    "\n",
    "$$\n",
    "\\Delta \\hat{J} = 2 \\epsilon_G \\int\\limits_{\\hat{t}_{\\text{min}}}^{\\infty}I_J(\\hat{t}) d \\hat{t}\n",
    "= - 2 \\epsilon_G \\int\\limits_{\\hat{r}_2^{\\text{min}}}^{\\infty}\\frac{I_J(\\hat{r}_2)}{\\hat{r}_2^{(1)}}d \\hat{r}_2,\n",
    "$$\n",
    "\n",
    "где мы заменим $\\hat{\\omega}$ на $\\frac{u}{\\hat{r}_2}$"
   ]
  },
  {
   "cell_type": "code",
   "execution_count": 117,
   "metadata": {
    "vscode": {
     "languageId": "wolfram"
    }
   },
   "outputs": [
    {
     "data": {
      "text/html": [
       "<div><img alt=\"Output\" src=\"data:image/png;base64,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\"></div>"
      ],
      "text/plain": [
       "FormBox[RowBox[{FractionBox[RowBox[{\"16\", \" \", SuperscriptBox[\"u\", \"5\"]}], \n",
       "\n",
       " \n",
       ">         RowBox[{SubsuperscriptBox[OverscriptBox[\"r\", \"^\"], \"2\", \"3\"], \" \", \n",
       "\n",
       " \n",
       ">           SuperscriptBox[SubscriptBox[OverscriptBox[\"r\", \"^\"], \"2\"], \"′\"]}]], \"-\", \n",
       "\n",
       " \n",
       ">        FractionBox[RowBox[{\"20\", \" \", SuperscriptBox[\"u\", \"3\"], \" \", \n",
       "\n",
       " \n",
       ">           SuperscriptBox[SubscriptBox[OverscriptBox[\"r\", \"^\"], \"2\"], \"′\"]}], \n",
       "\n",
       " \n",
       ">         SubsuperscriptBox[OverscriptBox[\"r\", \"^\"], \"2\", \"3\"]], \"-\", \n",
       "\n",
       " \n",
       ">        FractionBox[RowBox[{\"4\", \" \", \"u\", \" \", \n",
       "        SuperscriptBox[RowBox[{\"(\", \n",
       "\n",
       " \n",
       ">              SuperscriptBox[SubscriptBox[OverscriptBox[\"r\", \"^\"], \"2\"], \"′′\"], \")\"}], \n",
       "\n",
       " \n",
       ">            \"2\"]}], RowBox[{SubscriptBox[OverscriptBox[\"r\", \"^\"], \"2\"], \" \", \n",
       "\n",
       " \n",
       ">           SuperscriptBox[SubscriptBox[OverscriptBox[\"r\", \"^\"], \"2\"], \"′\"]}]], \"+\", \n",
       "\n",
       " \n",
       ">        FractionBox[RowBox[{\"14\", \" \", \"u\", \" \", \n",
       "\n",
       " \n",
       ">           SuperscriptBox[SubscriptBox[OverscriptBox[\"r\", \"^\"], \"2\"], \"′\"], \" \", \n",
       "\n",
       " \n",
       ">           SuperscriptBox[SubscriptBox[OverscriptBox[\"r\", \"^\"], \"2\"], \"′′\"]}], \n",
       "\n",
       " \n",
       ">         SubsuperscriptBox[OverscriptBox[\"r\", \"^\"], \"2\", \"2\"]], \"+\", \n",
       "\n",
       " \n",
       ">        FractionBox[RowBox[{\"4\", \" \", \"u\", \" \", \n",
       "\n",
       " \n",
       ">           SuperscriptBox[SubscriptBox[OverscriptBox[\"r\", \"^\"], \"2\"], \"′′′′\"]}], \n",
       "\n",
       " \n",
       ">         SuperscriptBox[SubscriptBox[OverscriptBox[\"r\", \"^\"], \"2\"], \"′\"]], \"-\", \n",
       "\n",
       " \n",
       ">        FractionBox[RowBox[{\"6\", \" \", \"u\", \" \", \n",
       "        SuperscriptBox[RowBox[{\"(\", \n",
       "\n",
       " \n",
       ">              SuperscriptBox[SubscriptBox[OverscriptBox[\"r\", \"^\"], \"2\"], \"′\"], \")\"}], \n",
       "\n",
       " \n",
       ">            \"3\"]}], SubsuperscriptBox[OverscriptBox[\"r\", \"^\"], \"2\", \"3\"]], \"-\", \n",
       "\n",
       " \n",
       ">        FractionBox[RowBox[{\"7\", \" \", \"u\", \" \", \n",
       "\n",
       " \n",
       ">           SuperscriptBox[SubscriptBox[OverscriptBox[\"r\", \"^\"], \"2\"], \"′′′\"]}], \n",
       "\n",
       " \n",
       ">         SubscriptBox[OverscriptBox[\"r\", \"^\"], \"2\"]]}], TraditionalForm]\n"
      ]
     },
     "execution_count": 117,
     "metadata": {
      "text/html": [],
      "text/plain": []
     },
     "output_type": "execute_result"
    }
   ],
   "source": [
    "(* Минус учтём сразу *)\n",
    "dJdr = Simplify[-dJdt/D[Subscript[OverHat[r], 2][OverHat[t]], OverHat[t]] //. OmegaReplace2];\n",
    "Expand[Simplify[dJdr]] // TraditionalForm"
   ]
  },
  {
   "cell_type": "markdown",
   "metadata": {},
   "source": [
    "<span style=\"color:brown\">**NB:**</span> Выражение для $dJ/dr$ <span style=\"color:green\">**сопадает**</span> с выраженем для интегранта из binary_catch3.pdf, если учесть деление на $\\hat{r}_2^{(1)}$"
   ]
  },
  {
   "cell_type": "markdown",
   "metadata": {
    "vscode": {
     "languageId": "wolfram"
    }
   },
   "source": [
    "Заменяя вхождение **всех** производных в выражении для $dJ/dr$, получим"
   ]
  },
  {
   "cell_type": "code",
   "execution_count": 119,
   "metadata": {
    "vscode": {
     "languageId": "wolfram"
    }
   },
   "outputs": [
    {
     "data": {
      "text/html": [
       "<div><img alt=\"Output\" src=\"data:image/png;base64,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\"></div>"
      ],
      "text/plain": [
       "FormBox[FractionBox[RowBox[{\"2\", \" \", \"u\", \" \", \n",
       "\n",
       " \n",
       ">         RowBox[{\"(\", RowBox[{RowBox[{\"9\", \" \", \n",
       "\n",
       " \n",
       ">               SubscriptBox[OverscriptBox[\"r\", \"^\"], \"2\"], \" \", \n",
       "\n",
       " \n",
       ">               SuperscriptBox[\"u\", \"2\"]}], \"+\", \n",
       "\n",
       " \n",
       ">             RowBox[{\"20\", \" \", SqrtBox[SubscriptBox[OverscriptBox[\"r\", \"^\"], \"2\"]]}], \n",
       "\n",
       " \n",
       ">             \"-\", RowBox[{\"15\", \" \", SuperscriptBox[\"u\", \"2\"]}]}], \")\"}]}], \n",
       "\n",
       " \n",
       ">       RowBox[{SubsuperscriptBox[OverscriptBox[\"r\", \"^\"], \"2\", RowBox[{\"5\", \"/\",\\\n",
       " \n",
       ">    \"2\"}]], \n",
       "      \" \", SqrtBox[RowBox[{RowBox[{SubscriptBox[OverscriptBox[\"r\", \"^\"],\\\n",
       " \n",
       ">    \"2\"], \" \", \n",
       "           SuperscriptBox[\"u\", \"2\"]}], \"+\", \n",
       "\n",
       " \n",
       ">            RowBox[{\"2\", \" \", SqrtBox[SubscriptBox[OverscriptBox[\"r\", \"^\"], \"2\"]]}],\\\n",
       " \n",
       ">    \"-\", \n",
       "         SuperscriptBox[\"u\", \"2\"]}]]}]], TraditionalForm]\n"
      ]
     },
     "execution_count": 119,
     "metadata": {
      "text/html": [],
      "text/plain": []
     },
     "output_type": "execute_result"
    }
   ],
   "source": [
    "dJdrFinal = Fold[ (* Последовательно применяем замены *)\n",
    "  Simplify[#1 /.\n",
    "    D[Subscript[OverHat[r], 2][OverHat[t]], {OverHat[t], #2}] -> dr2[[#2]]] &,\n",
    "  dJdr,\n",
    "  Range[5]\n",
    "];\n",
    "\n",
    "Simplify[dJdrFinal, {u ∈ Reals, u > 0}] // TraditionalForm"
   ]
  },
  {
   "cell_type": "markdown",
   "metadata": {},
   "source": [
    "$$\n",
    "  \\Delta \\hat{J}(u) = 4 \\epsilon_G \\int\\limits_{\\hat{r}_2^\\text{min}}^\\infty \\frac{u \\left(20\\sqrt{\\hat{r}_2} - 15u^2 + 9\\hat{r}_2 u^2\\right)}{\\hat{r}_2^{\\frac{5}{2}} \\sqrt{2\\sqrt{\\hat{r}_2} - u^2 + \\hat{r}_2 u^2}} \\, d\\hat{r}_2,\n",
    "$$\n",
    "где при $\\hat{r}_2 \\ge \\hat{r}_2^{\\text{min}}$ выражение $\\hat{r}_2u^2 + 2\\sqrt{\\hat{r}_2} - u^2 \\ge 0$.\n",
    "\n",
    "Полученный выше интеграл **компактнее**, чем тот, что рассмотрен в файле binary_catch3.pdf\n",
    "\n",
    "Смотри подробности в файле binary_catch_integral.ipynb\n",
    " \n",
    "Выпишем ответ:"
   ]
  },
  {
   "cell_type": "code",
   "execution_count": 121,
   "metadata": {
    "vscode": {
     "languageId": "wolfram"
    }
   },
   "outputs": [
    {
     "data": {
      "text/html": [
       "<div><img alt=\"Output\" src=\"data:image/png;base64,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\"></div>"
      ],
      "text/plain": [
       "FormBox[RowBox[{\"4\", \" \", SubscriptBox[\"ϵ\", \"G\"], \" \", \n",
       "\n",
       " \n",
       ">        RowBox[{\"(\", RowBox[{RowBox[{\"-\", \n",
       "\n",
       " \n",
       ">              RowBox[{RowBox[{\"2\"}], \" \", SuperscriptBox[\"u\", \"2\"]}]}], \"-\", \n",
       "\n",
       " \n",
       ">            FractionBox[\"15\", SuperscriptBox[\"u\", \"2\"]], \"-\", \n",
       "\n",
       " \n",
       ">            FractionBox[RowBox[{RowBox[{\"(\", \n",
       "\n",
       " \n",
       ">                 RowBox[{RowBox[{\"7\", \" \", SuperscriptBox[\"u\", \"4\"]}], \"+\", \"15\"}], \n",
       "\n",
       " \n",
       ">                 \")\"}], \" \", RowBox[{\"(\", \n",
       "              RowBox[{RowBox[{\"2\", \" \", \n",
       "\n",
       " \n",
       ">                     RowBox[{SuperscriptBox[\"tan\", RowBox[{\"-\", \"1\"}]], \"(\", \n",
       "\n",
       " \n",
       ">                       FractionBox[\"1\", SuperscriptBox[\"u\", \"2\"]], \")\"}]}], \"+\", \"π\"}],\\\n",
       " \n",
       ">    \n",
       "              \")\"}]}], RowBox[{\"2\", \" \", SuperscriptBox[\"u\", \"4\"]}]]}], \")\"}]}], \n",
       "\n",
       " \n",
       ">      TraditionalForm]\n"
      ]
     },
     "execution_count": 121,
     "metadata": {
      "text/html": [],
      "text/plain": []
     },
     "output_type": "execute_result"
    }
   ],
   "source": [
    "DeltaJ = 4*Subscript[\\[Epsilon], G]*(-15/u^2 - 2*u^2 - ((15 + 7*u^4)*(Pi + 2*ArcTan[u^(-2)]))/(2*u^4));\n",
    "DeltaJ // TraditionalForm"
   ]
  },
  {
   "cell_type": "code",
   "execution_count": 122,
   "metadata": {
    "vscode": {
     "languageId": "wolfram"
    }
   },
   "outputs": [
    {
     "data": {
      "text/html": [
       "<div>&#36;&#36;&#52;&#32;&#92;&#101;&#112;&#115;&#105;&#108;&#111;&#110;&#32;&#95;&#71;&#32;&#92;&#108;&#101;&#102;&#116;&#40;&#45;&#50;&#32;&#117;&#94;&#50;&#45;&#92;&#102;&#114;&#97;&#99;&#123;&#49;&#53;&#125;&#123;&#117;&#94;&#50;&#125;&#45;&#92;&#102;&#114;&#97;&#99;&#123;&#92;&#108;&#101;&#102;&#116;&#40;&#55;&#32;&#117;&#94;&#52;&#43;&#49;&#53;&#92;&#114;&#105;&#103;&#104;&#116;&#41;&#32;&#92;&#108;&#101;&#102;&#116;&#40;&#50;&#32;&#92;&#116;&#97;&#110;&#32;&#94;&#123;&#45;&#49;&#125;&#92;&#108;&#101;&#102;&#116;&#40;&#92;&#102;&#114;&#97;&#99;&#123;&#49;&#125;&#123;&#117;&#94;&#50;&#125;&#92;&#114;&#105;&#103;&#104;&#116;&#41;&#43;&#92;&#112;&#105;&#32;&#92;&#114;&#105;&#103;&#104;&#116;&#41;&#125;&#123;&#50;&#32;&#117;&#94;&#52;&#125;&#92;&#114;&#105;&#103;&#104;&#116;&#41;&#36;&#36;</div>"
      ],
      "text/plain": [
       "4 \\epsilon _G \\left(-2 u^2-\\frac{15}{u^2}-\\frac{\\left(7 u^4+15\\right) \\left(2 \\tan\\\n",
       " \n",
       ">   ^{-1}\\left(\\frac{1}{u^2}\\right)+\\pi \\right)}{2 u^4}\\right)"
      ]
     },
     "execution_count": 122,
     "metadata": {
      "text/html": [],
      "text/plain": []
     },
     "output_type": "execute_result"
    }
   ],
   "source": [
    "TeXForm[DeltaJ]"
   ]
  },
  {
   "cell_type": "markdown",
   "metadata": {},
   "source": [
    "## Время слияния\n",
    "\n",
    "$a = b/\\sqrt{1-e^2}$,\n",
    "\n",
    "$J = \\mu\\sqrt{GMa(1-e^2)} = \\mu\\sqrt{GMb}\\sqrt{\\frac{b}{a}}$\n",
    "\n",
    "$$\n",
    "  \\hat{J}_1 = u - 4 \\epsilon_G \\left(2 u^2+\\frac{15}{u^2}+\\frac{\\left(7 u^4+15\\right) \\left(2 \\tan ^{-1}\\left(\\frac{1}{u^2}\\right)+\\pi \\right)}{2 u^4}\\right) \\approx \\sqrt{\\frac{b}{a}} = \\hat{a}^{-1/2}\n",
    "$$\n",
    "\n",
    "Отсюда характерная длина большой полуоси эллиптической орбиты в случае выполнения условия захвата после одного полного оборота будет\n",
    "$$\n",
    "a \\approx b\\hat{J}_1^{-2}\n",
    "$$\n",
    "\n",
    "А время, за которое расстояние между объектов уменьшится до нуля будет\n",
    "$$\n",
    "\\tau \\approx \\frac{5}{8}\\frac{c^5}{G^3}\\frac{b^4}{\\mu M^2} \\frac{1}{\\hat{J}_1^8}\n",
    "$$"
   ]
  },
  {
   "cell_type": "markdown",
   "metadata": {},
   "source": [
    "В пределе малых $u$ для $J_1$ получаем"
   ]
  },
  {
   "cell_type": "code",
   "execution_count": 124,
   "metadata": {
    "vscode": {
     "languageId": "wolfram"
    }
   },
   "outputs": [
    {
     "data": {
      "text/html": [
       "<div><img alt=\"Output\" src=\"data:image/png;base64,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\"></div>"
      ],
      "text/plain": [
       "FormBox[FractionBox[RowBox[{\"60\", \" \", \"π\", \" \", SubscriptBox[\"ϵ\", \"G\"]}], \n",
       "\n",
       " \n",
       ">       SuperscriptBox[\"u\", \"4\"]], TraditionalForm]\n"
      ]
     },
     "execution_count": 124,
     "metadata": {
      "text/html": [],
      "text/plain": []
     },
     "output_type": "execute_result"
    }
   ],
   "source": [
    "J1Smallu = Normal[Simplify[Series[u - DeltaJ, {u, 0, -1}], {u ∈ Reals, u > 0}]];\n",
    "J1Smallu // TraditionalForm"
   ]
  },
  {
   "cell_type": "markdown",
   "metadata": {},
   "source": [
    "А для $\\tau$ галлюцинногенное"
   ]
  },
  {
   "cell_type": "code",
   "execution_count": 128,
   "metadata": {
    "vscode": {
     "languageId": "wolfram"
    }
   },
   "outputs": [
    {
     "data": {
      "text/html": [
       "<div><img alt=\"Output\" src=\"data:image/png;base64,iVBORw0KGgoAAAANSUhEUgAAAPEAAAA1CAIAAAAf0Jr8AAAAzXpUWHRSYXcgcHJvZmlsZSB0eXBlIGV4aWYAAHjabU/bDQMhDPtnio4QEnBgHK7lpG7Q8WsO1Iqqlogd5wGE/nqe4TagUULKXlABIVJNVRtFkYnJUeoVL5yLmW9+sLz8Rit/C+jLP3bfMVnLzyLRKWzcQG1pDaxFptOPbebH6tdWyr7IZAPk8/S/eTJXZERPjEnFHZW6BEoSskp2nLgDbIx4qKQ7ucOdY/DRYW0MDmj3vbsHGI3H+IKNk62RjTGa6nD0csBofMyxqtdHwhtUdVqybvR4kgAAAAlwSFlzAAAOxAAADsQBlSsOGwAAADx0RVh0U29mdHdhcmUAQ3JlYXRlZCB3aXRoIHRoZSBXb2xmcmFtIExhbmd1YWdlIDogd3d3LndvbGZyYW0uY29tXKKmhQAAACF0RVh0Q3JlYXRpb24gVGltZQAyMDI1OjAzOjEyIDIyOjA2OjM3Im8bSAAAES5JREFUeJztnWlUE1cbxychJiECASSJ7CAIiEBUDgKWTYyg4oZQUWsNCCpKcatLa+uGWuXI8RRDEQoSwRWJekRBFOrSICLG4wJaKihVUQgiASEEyHLfD9POGROIIaB9i/P7krnbM89k/nPnuXcyNzgAAISBMYTA/9sOYGAMMpimPwXPnz+Pi4uj0Wg8Hg/JBADs2LHDxcWFyWR+9dVX796966/ZhoaG2bNnBwUF+fr6Xr58eSAe1tXVGRoaHjt2DE7u2rWLTqfb29vb29sHBARoZzMvL2/ChAlMJnPatGkvX77UwsKRI0fg78fDw+Pq1auamgUYH5/m5ubi4uKAgIC8vDwkMzk5OSwsrLOzEwBQXl6uUChUG3I4HBKJ1JfZ2NjYo0ePwvYdHBy0dk8qlfr4+LBYLNgaAGD9+vXZ2dlaGwQAdHd3b9q0qb29HQCQlpYWERGhhZH8/HyxWAwA4PP5o0aN0tCscj/t6OiIex9016KeN2/eREZGUqlUAwODefPm1dbWKlUoKiry8vLS19e3t7ffsmWLRCJBimQy2f79+x0dHclk8qhRo9auXdvS0oJuy+PxnJ2dSSSSo6PjwYMHlSw/ePAgMDCQTCabmpquWbOmvb1dQ597paGh4ejRo8HBwTgcTvUoOjo6Vq1aZWJioq+vHxoaqkkPNGLECBaLxWAw0JmHDh3icDi6uroQBHl6euJwuP76icPh4O/Q0NAQh8MBbYdGP/74Y3BwsJOTE5LT2tpqYmKivlVkZCQej29oaEByLC0tXVxc4G0ikZiYmKinpwdB0OTJk2tqarRwbNasWRQKRSaTCQQC2LJGZpU0TqfT4+PjL6FobGzU5JKSSCTOzs6TJk0qLCwsLCycPn06g8F4/fo1UuHWrVvDhg1LSkqqrq6+dOmSnZ3dN998g5QuW7bM2to6LS3t+vXr6enpdDrdz88PKc3JySGRSPv27ePz+cnJyXp6elu3bkVKq6urdXV1o6Ojr1+/furUKXt7e39/f7lcronbvbJ9+3Zzc3P4pNbU1CiVhoSE2NnZnTlz5vLly76+vqNHj4b72g8SERGB9NNdXV0WFha5ubmBgYE+Pj6ZmZm9NlHfTzc3NzOZzKVLly5atKigoECzg1OmuLiYxWLJ5fK4uDiknw4LC/P39/fz85s6derVq1d7bchms/X09NLT0+GkQCCgUChjx45VrZmYmLht2zbt3EtKSqJSqZ6eni0tLRqaVdY0iUTi8Xha7DslJcXAwADZsVwud3V1XbFiBVJhzZo1M2bMQJL5+flGRkZIUigUwjcUmJycHAiCamtrYVN0Oh0t4tOnTxMIhJcvX8LJ8PBwX19fpPTFixdkMvnkyZNaHAWaa9euqWr6999/x+FwDx8+hJNtbW0jRoxITk7WxCBa0x0dHUQiMSsrSyaTtbW1ubm53bt3T7UJh8Mhk8l9Gdy2bduOHTuKi4vnzp27cOFCmUym6bH9g1AodHNzg7setKZra2vfvn0LAKioqKDRaKp6AgCw2eygoCDknG7dujUgIEBV0wKBYMKECRpe9r0ilUozMjI8PDzQB6jG7HuxR2dnZ3d398iRI7W4TTx+/NjNzc3IyAhO4vH45cuXnzlzBqkgk8m6urqQJJ1O7+zsVCgUSBK+ocBIJBI8Hg9be/v2bVNTk7+/P1L65ZdfUqnU8+fPI7tGl1paWoaEhKB3PYhcuHDB3d3d1dUVThoYGISHhyOeQBB08uTJn1H0ZWf48OE0Gm3RokU6OjoGBgb+/v6PHj3qtSaBQKisrJw+fTqFQjE3N09ISAAAQBD06tWroqKi7du3s1isc+fOiUSiK1euqPH8+PHj3t7eFAqFSqWGh4fDIVNOTk53d3doaKiXlxePx9uxYweHw4EgyM7OztjYGIIgDw8PW1vbviIHJpN58+bNjo4OCILOnz/v4+OjVKGqqmrp0qVnz56FQywlenp6aDRaYmIiOlMgEOBwuKdPn6K/gZiYmPb29idPnmhi9r1++tWrVxAETZs2zdzcnMFgTJs27fbt2xpeTHv27LG3t0fnnDp1CoIgoVAIJ+/du0ehUHbv3i2VSgEAUVFRsbGxqnbevn2bmZlpaGi4e/duOEcul5PJ5GPHjiF1ZDKZi4vLypUr4eTUqVNjYmLQRmJjY8eMGaNkuby8HB5wICgUir5urKCPfnrGjBnwvh4+fAi3PXTo0MiRI/syggbdTwMAvv3227179wIAxGIxk8msrq5WbcLhcAgEgoWFxd69e/Pz82NjYyEIOnjwIADg3bt31tbWTU1NAACpVOrt7V1aWtrXrjdu3AhBEJvNzsvLy8/PDwkJCQoKUqqD9NNNTU0ZGRlw8CYQCExNTd+9e6dqk81mb9iwISQkhMfj1dXV2dracrlcdD9dUVExfvx41eANzdq1a5XOVHx8PHzXFQqF27Ztk0gkAIC7d+/SaDT49H3Q7HuaFolEAQEBSUlJ5eXlly9fZrFYBAKhrKxMjU8IDx8+JBAIu3fvFovFnZ2daWlppqam0D/xAwzcn1laWs6ePXvq1Kk9PT1KRiZOnAhfl2lpaej8+fPnOzk5VVZWKhSKR48eBQUF6evrL168GC5NTU3V1dUtKCiQSqWNjY3r1q0zMDCwsLBQMl5VVTV//nxE1gqFYvXq1efPn+/riHrVtLe39+bNmwEAVlZWeDy+sbHx9OnTRCJR/ZcTFhbGZDINDQ1tbGyYTGZRUREAQCwWR0dHe3p6uru75+Tk9NqQw+Ho6OigfYiIiLC0tIS3CwsLfX19WSyWj4/PgQMH+tr7nTt3IAj66aef0JmqMkU0LZFINm7cyGQy3dzcvL29+xIAm81eu3Ytl8tls9kpKSkbNmzIzMxENP3mzRs9PT0LCwvmP5SXl6saqaqqgiAI6Tp7enpMTEyysrIAAHK5PDEx0cXFxc3NbeLEideuXdPQrLq5vK6uLnt7+3nz5qmpg+bEiRMMBgOHwxGJxIiICPjujwwTS0tL7ezsjhw5kpKS4urqSqVSc3NzlSzU1tZeu3YtISHB2Nh4/fr1SH5TU9OcOXPweLyOjo61tfXx48dZLNby5cvhUrlcvmnTJjKZDN/Ht2zZsn379l7nthBZKxSK+Ph4NYIGH9L03LlzHRwcOjs7c3NzP6hprVEdI8IjDTjY1ZDvv/+eSCR2d3cPrm9sNnvNmjUikcjCwmLmzJm3b9/OyMjodYyoHk9PT+SWe+7cueHDh6NHVlrwgfnpFStWODk59ctiY2Mj7FN2djaZTIYjjba2NhqNlp+fD9dRKBT79u3D4/GVlZW9Grl//z4EQZcuXUJnSiSSV69ewfO4tra2u3btQpfKZLL6+nq474+KipoyZUqvlmFZr1y5Ur2gQR+anjlzplKck5qaampqqt6U1qhq+sKFCxAEPX78WHMjUVFRo0ePHmzX/tY0AGD69Ok2NjYAAO00nZGRYWRk1NXVBQAIDQ2NjIwcoGMfeI7Y3t5OIpFUQ3C5XN5XEwaDAY/2SkpKPD09CQQCBEG3bt1qbW2dOXMmXAeHw23evNnKyqqwsLBXI0wmk0ajlZaWojPJZLKZmRk8gKirq1Makejo6Jibmw8bNgwA8Ntvv6mOV2DgSe7q6urAwED1x94rLi4u8PWGcP/+fWTI+An466+/IAhSmupWD51Or6+vV3PKBsiyZctWr16tdfMFCxZIpdKCgoKWlpaCgoKoqKgB+vOepktKSjo7O5GkUCgsKipSOvft7e1OTk50Ol11nN7d3Y1s//HHH7m5udHR0XCSQqFIpdI///wTXVkkEsGKhyDo8OHD6OY1NTXNzc1mZmZwsqenB72jnTt32tnZ+fn59bprLpf7+vXrJUuWqB4tAGD16tXh4eEHDx6MjIwUi8WqddQzZ86cu3fvIrIWiUR5eXmhoaH9taM5AABkvkihUHC5XE9PT3hSQkNmzZolkUiUHlQ1NjYOloehoaHr1q3Turment78+fNPnjyZl5dnaWnp6+s7UIfQnbaXl9eoUaN+/vnn4uLiX3/91dbW1srKqrW1FV3nxo0bcEOlQUl1dTWDwdizZ09hYeGBAwdMTU2nTJmCPPiQy+WBgYEODg5nzpx58uRJWVnZrFmzzMzM4FkRoVDIYDDc3NwyMzNLSkpSU1Otra2dnZ2RuCoqKiooKAg+7AULFgwbNqykpATZdXZ29ujRo9PT0y9evPjdd98RiUR4wksJpUFhZWVleHh4R0eHUrXm5mY+n8/n82ERnDp1is/n37x5E6kwd+5cGxubc+fOlZSUTJo0acyYMfDY/GMAz08zmcy0tDQejxccHEwgEODRUr+Ijo7G4XAxMTFnz569ePEim81mMBjw7V5rkNgDQbvYAwBw8+ZNMpns5eWlFE9qx3uaFovFCQkJY8aMIZPJxsbG0dHRyEwcQnt7+/jx4y0sLFTnntLT0x0dHYlEoqWl5ebNm5Umztra2rZs2eLo6Kirq2tlZbV48eKnT58ipUKhMD4+3tramkQi2draxsXFoZ9fPn/+PCwsjEql6urqBgQE8Pl8Jbc3bNhgampKJBJdXFwyMjJ6PdSsrCylGLqqquqHH35QqpaXl6d65aOD2o6Ojri4OGNjYz09vdDQ0Pr6+l53NyhwOBw/Pz8+n+/h4UEikdzd3a9cuaKFHYVCkZqaOm7cOBKJZGRkFB4eXlVVNUDfBlHTAABnZ2c8Hv/8+fMBegUA0P5HAhgY/59gvzXFGGpgmsYYamCaxhhqYJrGGGpgmsYYamCaxhhqYJrGGGr8/Wi6tbX14/0eAAPjY0OlUpHfWfz9weVy4RcCMDD+i8APoeFt7DkixlADi6cxhhqYpjGGGpimMYYamKYxhhqYpjGGGpimB41nz57ZoyCTyb2+XqCesrIyX1/fSZMmzZs3D70UHUY/GPhrBRiq3LlzZ86cOb0uVaqGrq4uGxubZ8+eAQCKior6evUdQz1YPz34yOXyFStWpKam9nep0rq6OlNTU1tbWwiCgoODW1patFu2+TMH07Q2ZGdnT5w4kUKh0On0mJiYN2/eoEvPnj3r4eGBvPSuOVZWVvX19XV1dRAE3bhx4/Xr1/A2Rr/ANN1vVq1aFRkZ6eDgkJmZmZCQUFZWFhMTg67A5XIXL16shWUKhZKTkxMTE+Pn51deXj5hwgTkNwwY/eDfDn7+Y1y8eBGCIPTivG1tbciqwQAAqVRqYmIy8IW8enp6zM3NRSLRAO18hmD9dP9ISUkZO3ZsfHw8kgOvN4kkX7x4YWhoSCQStbMPr4YIQdDOnTsDAwMNDQ0H6PBnCKbpfgAAKC0tZbFYagZ/DQ0NH1wkKTExUSAQIMnu7u7IyEh4m8fjjRs3ztXVtb6+PjU1dTC8/vz4t28U/yVaW1shVOAhk8kk/9AvOwsXLkQHJ+Xl5UlJSYPp6OcN1k/3AwAABEHIfxvs379f9x9guWtId3c3OjgRCATu7u6D6+rnDKbpfkClUikUyosXL+DkkiVLbt269csvv/TLSGNjI7zaPMLdu3fHjx8/aF5+9mBTRf0Ah8N5e3sjfz5pZmZmZmaG/pMaTaioqPDw8EDniEQiKpU6aF5+9mD9dP9YuXLlgwcPuFyu1hYqKiqYTCaSvHDhQu9/tIOhLVg/3T/CwsK+/vrrmJgYPp8/efLklpaWrKwsKpWq+eRdRUXF7NmzIQgCABw+fPjEiRODsOIyBgrsfcR+o1AoDh06lJ6e/uTJE319/aCgoISEBDs7Ow2be3h4mJub0+l0sVg8efLkhQsXzpgxIyAgYOfOnR/V7c8HTNOflJqampSUlOTk5H/bkaEMFk9/UioqKr744ot/24shDhZPf1LMzMyQf5nH+EhgsQfGUAOLPTCGGpimMYYa/wNiGOwnghh+MgAAAABJRU5ErkJggg==\"></div>"
      ],
      "text/plain": [
       "          -16  8  45  2  32\n",
       "5.98399 10    b  c   M  v\n",
       "---------------------------\n",
       "            7  9\n",
       "           G  μ"
      ]
     },
     "execution_count": 128,
     "metadata": {
      "text/html": [],
      "text/plain": []
     },
     "output_type": "execute_result"
    }
   ],
   "source": [
    "J1Smallu = 60 Pi eG / u^4;\n",
    "eG = 2/5*\\[Mu]/M*(G M / (b c^2))^(5/2);\n",
    "u = v*b/Sqrt[b^3/(G*M)];\n",
    "N[5/8*c^5/G^3*b^4/\\[Mu]/M^2*(J1Smallu)^(-8)]"
   ]
  }
 ],
 "metadata": {
  "kernelspec": {
   "display_name": "Wolfram Language 14.1",
   "language": "Wolfram Language",
   "name": "wolframlanguage14.1"
  },
  "language_info": {
   "codemirror_mode": "mathematica",
   "file_extension": ".m",
   "mimetype": "application/vnd.wolfram.m",
   "name": "Wolfram Language",
   "pygments_lexer": "mathematica",
   "version": "12.0"
  }
 },
 "nbformat": 4,
 "nbformat_minor": 2
}
