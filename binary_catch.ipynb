{
 "cells": [
  {
   "cell_type": "markdown",
   "metadata": {},
   "source": [
    "# Binary catch\n",
    "\n",
    "**При каких условиях два тела, налетающие друг на друга с бесконечности (в системе центра масс) станут связной системой из-за испускания гравволн?**"
   ]
  },
  {
   "cell_type": "code",
   "execution_count": 1508,
   "metadata": {
    "vscode": {
     "languageId": "wolfram"
    }
   },
   "outputs": [
    {
     "name": "stdout",
     "output_type": "stream",
     "text": [
      "  (CleanSlate) Contexts purged: {Global`}\n",
      "  (CleanSlate) Approximate kernel memory recovered: 48 Kb\n"
     ]
    }
   ],
   "source": [
    "(* https://mathematica.stackexchange.com/questions/850/how-do-i-clear-all-user-defined-symbols/861#861 *)\n",
    "<< Utilities`CleanSlate`\n",
    "CleanSlate[];\n",
    "\n",
    "ClearAll[\"Global`*\"]\n",
    "(* ClearSystemCache[] *)\n",
    "(* https://mathematica.stackexchange.com/questions/111605/quit-vs-clearallglobal *)\n",
    "if[Length[Names[\"Global`*\"]] > 0, Remove[\"Global`*\"]];\n",
    "\n",
    "(* PacletInstall[\n",
    "    \"TensorSimplify\",\n",
    "\n",
    "    \"Site\" -> \"http://raw.githubusercontent.com/carlwoll/TensorSimplify/master\"\n",
    "]*)\n",
    "<<TensorSimplify`"
   ]
  },
  {
   "cell_type": "markdown",
   "metadata": {},
   "source": [
    "## Einstein Summation"
   ]
  },
  {
   "cell_type": "code",
   "execution_count": 1517,
   "metadata": {
    "vscode": {
     "languageId": "wolfram"
    }
   },
   "outputs": [],
   "source": [
    "ClearAll@EinsteinSummation\n",
    "\n",
    "EinsteinSummation[in_List, arrays_] := Module[\n",
    "  {res =\n",
    "    isum[in -> Cases[Tally @ Flatten @ in, {_, 1}][[All, 1]], arrays]},\n",
    "  res /; res =!= $Failed\n",
    "  ]\n",
    "\n",
    "EinsteinSummation[in_List -> out_, arrays_] := Module[\n",
    "  {res = isum[in -> out, arrays]},\n",
    "  res /; res =!= $Failed\n",
    "  ]\n",
    "\n",
    "isum[in_List -> out_, arrays_List] := Catch@Module[\n",
    "  {indices, contracted, uncontracted, contractions, transpose},\n",
    "  If[Length[in] != Length[arrays],\n",
    "    Message[EinsteinSummation::length, Length[in], Length[arrays]];\n",
    "    Throw[$Failed]];\n",
    "  MapThread[\n",
    "    If[IntegerQ@TensorRank[#1] && Length[#1] != TensorRank[#2],\n",
    "      Message[EinsteinSummation::shape, #1, #2];\n",
    "      Throw[$Failed]] &, {in, arrays}];\n",
    "  indices = Tally[Flatten[in, 1]];\n",
    "  If[DeleteCases[indices, {_, 1 | 2}] =!= {},\n",
    "    Message[EinsteinSummation::repeat,\n",
    "      Cases[indices, {x_, Except[1 | 2]} :> x]];\n",
    "    Throw[$Failed]];\n",
    "  uncontracted = Cases[indices, {x_, 1} :> x];\n",
    "  If[Sort[uncontracted] =!= Sort[out],\n",
    "    Message[EinsteinSummation::output, uncontracted, out];\n",
    "    Throw[$Failed]];\n",
    "  contracted = Cases[indices, {x_, 2} :> x];\n",
    "  contractions = Flatten[Position[Flatten[in, 1], #]] & /@ contracted;\n",
    "  transpose = FindPermutation[uncontracted, out];\n",
    "  Activate@\n",
    "    TensorTranspose[\n",
    "      TensorContract[Inactive[TensorProduct] @@ arrays, contractions],\n",
    "    transpose]]\n",
    "\n",
    "EinsteinSummation::length =\n",
    "  \"Number of index specifications (`1`) does not match the number of \\\n",
    "tensors (`2`)\";\n",
    "EinsteinSummation::shape =\n",
    "  \"Index specification `1` does not match the tensor rank of `2`\";\n",
    "EinsteinSummation::repeat =\n",
    "  \"Index specifications `1` are repeated more than twice\";\n",
    "EinsteinSummation::output =\n",
    "  \"The uncontracted indices don't match the desired output\";"
   ]
  },
  {
   "cell_type": "code",
   "execution_count": 1525,
   "metadata": {
    "vscode": {
     "languageId": "wolfram"
    }
   },
   "outputs": [],
   "source": [
    "$Assumptions = {\n",
    "  {OverHat[r][OverHat[t]], OverHat[t], rh} \\[Element] PositiveReals\n",
    "};"
   ]
  },
  {
   "cell_type": "markdown",
   "metadata": {},
   "source": [
    "$\\hat{r}_k$"
   ]
  },
  {
   "cell_type": "code",
   "execution_count": 1527,
   "metadata": {
    "vscode": {
     "languageId": "wolfram"
    }
   },
   "outputs": [
    {
     "data": {
      "text/html": [
       "<div><img alt=\"Output\" src=\"data:image/png;base64,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\"></div>"
      ],
      "text/plain": [
       "      ^   ^ ^\n",
       "Cos[ϕ[t]] r[t]\n",
       "\n",
       "      ^   ^ ^\n",
       "Sin[ϕ[t]] r[t]"
      ]
     },
     "execution_count": 1527,
     "metadata": {
      "text/html": [],
      "text/plain": []
     },
     "output_type": "execute_result"
    }
   ],
   "source": [
    "rh = {OverHat[r][OverHat[t]]*Cos[\\[Phi][OverHat[t]]], OverHat[r][OverHat[t]]*Sin[\\[Phi][OverHat[t]]]};\n",
    "rh // MatrixForm"
   ]
  },
  {
   "cell_type": "markdown",
   "metadata": {},
   "source": [
    "## Система движения в декартовых координатах\n",
    "$$\n",
    "\\frac{d^2r_k}{dt^2} = -\\frac{G(m_A+m_B)}{r^3}r_k - \\frac{2}{5}f_{ki}^{(5)}r_i\n",
    "$$\n",
    "\n",
    "Ч.Мизнер, К.Торн, Дж.Уилер Гравтация, Т.3 (36.8)"
   ]
  },
  {
   "cell_type": "markdown",
   "metadata": {},
   "source": [
    "Введём обозначения для масс\n",
    "\n",
    "$$\n",
    "M=m_A+m_B; \\quad\n",
    "\\mu = m_{AB} = \\frac{m_A m_B}{M}\n",
    "$$"
   ]
  },
  {
   "cell_type": "markdown",
   "metadata": {},
   "source": [
    "### Безразмерные единицы длины\n",
    "$$\n",
    "\\begin{align}\n",
    "r &= b\\hat{r} \\\\\n",
    "t &= t_0\\hat{t} \\\\\n",
    "f_{ij} &= b^2\\hat{f}_{ij} \\\\\n",
    "f_{ij}^{(5)} &= \\frac{b^2}{t_0^5}\\hat{f}_{ij}^{(5)}\n",
    "\\end{align}\n",
    "$$"
   ]
  },
  {
   "cell_type": "markdown",
   "metadata": {},
   "source": [
    "$\\hat{f}_{ki}$"
   ]
  },
  {
   "cell_type": "code",
   "execution_count": 1529,
   "metadata": {
    "vscode": {
     "languageId": "wolfram"
    }
   },
   "outputs": [
    {
     "data": {
      "text/html": [
       "<div><img alt=\"Output\" src=\"data:image/png;base64,iVBORw0KGgoAAAANSUhEUgAAAycAAABbCAIAAADmw23ZAAAAzXpUWHRSYXcgcHJvZmlsZSB0eXBlIGV4aWYAAHjabY9rDgIhDIT/cwqPUFqYwnFYl028gce3BdRgnIR2+PoghP58XOHm4kghZS2oAJlSTZWbmUJTM0eqIw6xkiy68ZCPaWIzlL8F9MWPnSvWwvKziHga8RfMS1oDa5Hw5LHN+7H6uZWyLxLaVN8m/r8nUUZG1GQxMamimi/BrCVkpqy4cAesMeJkSnfLHao2BvUOaT7o4q57dw8QA6d/QfxkaZZlxMpO4vDOsxAfn6p/5wVaIFq7/a+1awAAAAlwSFlzAAAWJQAAFiUBSVIk8AAAADx0RVh0U29mdHdhcmUAQ3JlYXRlZCB3aXRoIHRoZSBXb2xmcmFtIExhbmd1YWdlIDogd3d3LndvbGZyYW0uY29tXKKmhQAAACF0RVh0Q3JlYXRpb24gVGltZQAyMDI1OjAzOjA5IDIxOjA1OjUw8GK4KQAAIABJREFUeF7tnXW0HTW3wL/iFLfiVtyLu2uRIm1psRa3Uqy4Q4sXh+JWihRK8VLc3R0e7u7u7/fWfi8rb85MJpNJ5sw5N/NH1+29yc7OTrKzPZ3+/fff/8QvUiBSIFIgUiBSIFIgUiBSIDAFOgWSuh577LFHHnnkiiuuePnll++444611lor8EQi+LAUePjhh2+//XY1xmabbbbkkkuGHbLVoL/55puXXXaZwnrFFVdcf/31W20SEd8qKHD00Uf/8ccfMtIUU0xxwAEHVDFqVWO08UGIC1fVJmrnccYJNLk11lhj//33f/HFF//55x+/gt1vv/121lln8W8gzCPYVAo8+OCDZ5999n/93/f999+3NKEeeOCBAQMGDBo06KeffvI1EUAp+lx88cVjxowxQx42bNjXX3/ta/RwcELQCmz/+usvVLLPPvssHOa1hXzsscfed999slveeeedZuH5559/HnbYYRyEm2++2SMORQ+Cx6FDg6rJwjHNEKeyhRYuxPSh6ueff/7KK6/8/vvvYTcSIlGI79tvv/3mm2/QDMD+zjvv9DgE9rPpppsOlu0RZgSVSwHYzTLLLJPbrCUaPPHEE5NOOqmcqzXXXBMJ3jvam2yyCZeZGewSSyxx4okneh/aL8AQtHr33Xe7d+/euXNnWYJ55pnn7rvv9ot2zaGNP/74COXNRfLvv//u27evLEE4fGwOQnPpUGj0cIQqhEaIU5lAoM4LF2L6p59+eteuXeU4jDvuuLvtttvPP/9caFHsG1vZupjkkCFDCkl/U0455VRTTaUYa6G+5sYXXHDBpptuCl08woygOg4FUGW48scbbzysdwMHDrznnnu23HJLbqDqKdC/f/8LL7zQryXY7yxC0Oq1115D3CQCYa+99rrqqqu22247zF0bb7xxE00+fonWKtB23333a665ZosttnjmmWemnXbaXr16ERPSKsh3ZDxDnMoWomeI6SNj7b333khdSBdDhw7t1q3bueeeu99++xUlC5YmuHp+r1wBDRfh2muv/emnn+a2bGxw8skn+7V1vfrqqwC86667HJCJXcpQoD1sXVztM8000wwzzPDCCy8INY455hh2FHe/uMJ9fTaa4hdffIHwh9hXftD777+fS3Tffff98ccfy0MTCIFohYALzd9++22F5/HHH88SwCt8YV5/OE03mRx00EHQHHOsbHvWeu6550ZVfv755/1Sz+Yg+B0xKLSmL1ygU9lItJILR9jioYceClO66aabPK5IoOmjeGDrUnj++uuvnIXJJpvM4VI45JBDrr/+evOU/5NLEfQhHIW5zVIbeJe69tlnn2mmmYZwBDd8Yi9nCrSH1IXJFoXmrbfe0ulAfNXkk0/+3nvvORPHmWdttNFGffr0KTluCHs7KFVGq2effRYJgKNdkg4t1L25lzcaOUEaRx55pE4xLI6o+HvssYdfMpa8vB2QQaHCdLruuus++uijDt3NXZq7cFWeyjILF855XRlT6tGjB0zpu+++K7qF0HsJxTFHQOVIXch6K6ywAjG/RceW9n6lLpCZeeaZd9xxRzdkquwFqiTy8CHyu42LU/mhhx5CAN92222xYSA+wxbdQHnpVUjqYsO89NJLv/zyi5eh/QIhYrQRoEcTkQC35FkjR47EC49q5TxHAtKnnnpqNDNxmMIpSC/1FfVYDa2w6oP2lVde6UyE3I6oyNdee+2BBx64zTbbnHbaaU8++WRzNbemX96pG5596GvnqBWxPAipKwgDIYoX4wExABjnWEEiAnPXesMNNxQXz/LLL5/buGiDpi8cCFdzKsss3C677AL9xXk944wzwuJIgS9K6qz2FUyf63uWWWYh3tQN5yOOOGLEiBGGvjmVIygWcNttt5G8lu+qTGuBi5RMRqLp8VG6QdB7Pf3000svvfTYsWPRY7KgwTUef/zxiy666N5772XayD0TTTRR+aEtIbBaXCFYB5977rkffviBXuOMMw6SL5nhxKJZAqEZyHM9fPLJJ3oXvFEnnHACElinTp3sQflqedxxx2ErxqxiAEhCFuHhqJhvvPEGxAdPNu7hhx++1VZbOeOMtoHTnZsSt6B5Lmw2rlJps+iii26wwQZZ7bl08estt9xyq6++uhkmoowe7ALxJ5xwQhuSstxoCLkHh6QTQmpuueUWtxoTXEIrrbQSu47iLEwZxAYPHsyZx2FKEqWB5qwje0xNBE8T1r7UednTCgVXvIQCh21PpkIurVhfMGfhXn/9dWoo5LYv2gDthQAyqJHoSGzZddddp+Jni4It2X6CCSbgNBFfaA8nxEE45ZRT2DwI67lMMvRBaKQDMhbmzwQPZEvvuuuuJ510ksqGaey4+eabs7L8nsuC3WtPYZuWDgsHWLYfEi12RPMQIU5l9Qt38MEHc0/BUig1wHrBo9ZZZ52vvvqKKIjFFlvMQIH6MPBTTz2V9HZmgZ5msysSbZgs/Ny098zSXM+ePensJvF5t3WR5Ixab7AerbfeehNPPLFOgirNLcScoV2p0SeZZBL92jvqqKMsycitiawmcOadd170PLgzqQnyG2JiLOH4bZZr64JL4ggXJOFN+g268847OyODyI64abOOqKG4SKAVH9eJYUQEQZDceuutc7Gi/pYARESjy5dffpnbpZCti8bcDVwklmATzZzt7awm95ZMjY986SwE7GnFwYTXCEDCAHJTOBkRQU20kVGjRrlRwNwL6X/++eeXPcnmRMju16/fIossIgeTM+XgQfCCp4PJxPtBQNIVOiQc7qkTrOAg6OOiEnDqZeFmn312jiqadpcuXeQ3hKAZbHIs+vbbb89C47n2slg6EIeFozv+Iix2uciEOJUVL1wZ53VNGDiJPtxfiy++eBlzOJbCp556KmvFTR5G/EQLLrhg7l4xNPDrYYRdkiBgGE6JJkr0sbmty0xQ74u9gcxKFgwBC8UdJZJwaSzkSE6Cj4rgNoyIDUYaE3hBSRLVErMqc4fdANMXwoXgmKUudqqgjdxJSrzk3GL6omyb/B6jaaHhVGMEC2Qpm772DBEpB5RspC41LlHGdAkhdaEaYs22mWBqGzd7e64MrcZyoBV9bdwTiFwYdKEqgp3z9M0dV1llFdl+nB29PgiFKqaffnoMqIHGzQVrv1fDHQRVKc1G6qrgIOhEw1AqPBCngfo9G4aIC7RZTMi5FA7UwGHhuLyxBdx44425KAU9leE4WGJezs5re9o6MCXL6SMqYS+AIb///vu562VogLXVoHaaKkcgRqy22mpKgrH/4fLLL8c6xydeDDxu8l+0EHsgiZY47AhhEZND1odlDx2Ij7RP54GcO2JHFd8iYarzzTcfeiRcg6sdI5DARIoyA0dQw4dFGxYed6q6M/gNvAathaqzwMwCgi0X76pN/VK2C0mpGLQhqfLKOU+cjqwLmWi4KpijKsWEe/GGG24Qz6BzGUZMrcKCPX7sE4/QSoJCMP3oo4845G5w2Bh6R1aTSxQWQ341B8ENpt4rEK24QXGDopOQ5SRppN6/0aNH414BLDnhnB3dNYzrk8PC78sfJSCgY1AOA8c6GpH3WSiA3g9CoJUtTwGccXBR4GCyQuNSAPEA4Cz+8MMPuc/Kj6IgcExgtsSiBCofQ4QrM/LLxGq7dlC10fmL+YaLhhgvXwck0PQ5YlziCH9IPrPNNluZPcZjPPpTLklQBnkNI21uDmRq96y3YsoEzAoDxaZiI4FKfC5flbauLMRU9fNcnV7JZzgZbaYpbdjTXGC6R2+uueZC8E2FwL7nntODeNhkGBHR+820stfDEuMSU8lC8DyO/YxUS+4zhLbzzjvPpq9ZVSI8cYEFFphjjjkwcojzgvYQTf/Yt1kDWapKqruNsUcai7xlowo34kYv8CcRkj/B2YlC0M29RIxledDMq1mSViBjnj47DZyZNTqGzcq6tcFOzxDQh+A5SwiFjhIwYY84iHWWiheMwldcMOYR7dV6gePxIBDviMmcoEPFMfC9Jg4Cmnr1B0E/9VKO0ezZUO2RoRP4y3/R8xtnwdKQegLH40/csqSqKWaIRYqIMWQvw9oVXTixzxFRbrMDg57KcBwsMTU0cIhPOCy/J5ZLtx1giSDwNIsUzWXgxIujwXIuiBSyWazcNsjZqL6pzUy2Lgwnyy67rIPEh+qQOhghSg7QpAubBl2H0+IMoVBHrivZpuU/ZE0BkvtwoaTQs/kMWngCHxgHt8ull16KiQthgouWBhRDgmFxsSWsHfBuDFEUSsBwiPCBN5CoF1YKbYzAVXgxxuHy801AEP1GELP8wIckDEIvOQb4QVBt2YeKjJZAEs24ejFIUB6CGCYhC2YhiKZ/kgBR8QdHhhnhfXYYlwUF/48//hiRi/uDVAamqeBwnbjFpwelFQijCJJAgIDCfU+8i/oSodMOBFFdIAjLzX932mknblkbUIWOEgAxbCNg4ZJARCAhgMuGaDZ2OzFqnHQiC20GNbcJcRBwOGANZc8oozinPnEQ1BuR5afgAIGUt4UWWoiOw4cPR2TBA2AGgqycwF/+m/pqHBsD3g6HZPlWXXVVbPDoALBchuBPpD3BHh1wTnSBt1AAmWxiApFh5jgWKBMoBYGdgQc9lc5YNXaU5eBflDei8cRcIh93DVF6bmMFnT7lmrku5X7kolEciR3ohi290MfI3EzvniWycRThVrkCXWUNsDbjtrMcrryti2XAl2c5XFYz7ngyAMSygkKWW3JNIouRfizHhU1AE7oQTEasgxirsJ2o3CgSD3VQTEo2AbxMqXS8OYX/BSOQuSqbm60LlCQ9yrIGJljhqWQ6bFl+QN7CMYRFB9sJQLhBndVQMMGRJ5+k+8ET1W/kB0NtjqCaIhIwS2+56HozkUSR2+R1ee4qMpaZBWuKSd9QTNi8miVpBYYGW5eeO5lgSXogowM19C5KijWncKsuRY8SHSVeE50Hn5eCQywjwWpozOY6L7kmk3AHAcRkt2MOF/pjlkgcBIPZO+hBUGTE8KBSkWBxMDdDbRf0qAT+Yr5KTWDSL0Ls6MheSEh8+KMlGYi1c2Yy0hFjCWI3ljOSr9l+XKP8gBSOUI4QRpRIFvygp7KahWNqBJZARjJJYePcfbhWGBoJGDkMTm6oQmU+FCWZknn6yN+p4hH5N86M6JxzzmHdU7tnRtOjw1lGMTujVagjUjM+V8suzZW6qLOFTQ6hTRgHJw3/HRdhLvLiE7GfJtZa2SuI5DpwWLbYdRFZ9KhAigVL+8atTxezUOgmdREqznAcJ6klkfvhcsKiiYNVcpR4k4HzIL3goYAyeOJybzI1+lJLLQWomkTTgxVVDAzOTQPRdPsflSHtHw6zX00HWoGwvYM1d0u4NVDOestSmUWPEsdZEo1TY2Zzq17l7tUKDsKtt94q3KCG0fQsOqXs9EAIrLYk8yNd2ewHsW6apS5YdOLBFanXz2dI6c1duA8++ABU0X+wU4Iq5nP2CS+d8zOmXBQkTnrW9gh6KiuWuiAjAV5IzzbrJW1yaVslA7dHO6slcV3E7Kb+NdPDyO4hkj9VAGzKLzFaurlLqscW8zVHTvLdGF3KxKlEaAM+4uGyn6YkPHLCESB0sJxzeTeTu0EvN6UkegxvlAvSX1ani3NJrawZYbrA58VfYWcqkdMwfWzRGOGIrcbqJoEdOH2UjxuRkXi1kn7G6jeDzYio13g9bFpmtcF6JwVXywBpp77KWWx5mooeJfR4yew5//zz8Udw5HXqlXwltsMeBJ2GGEuobUtmkuQPwf8xF1FfDWp7CXtHM0+UAFQRSNx9bmcBho9PBl0XxXvhhRcGCME2/CuqCxcBchWBZWWyytwQa0ovfKyGyppNQanKQRGfSNlJHdEkdeH4qBJL81icOsv4jKbjTLwqxXWwLSNAcPYIqaNWL0dahdVnYTjrrLPyJ/szj7Ga9tTJbBSYqBAjwQrSRj5q1SLQ0Bi9B2sE60vhe9IMcxFzICkbjuKo2M8QCnGz2kCAn+JNILRCGsNb4VAq9wexlZ8pyWEDqrXalJe6LrnkEsvyra1FGWds5SjZn6aiRwnIHHDUAOwWuMKJCsAnjo7BYXfGWXXssAchQTpcctir4IdUGZWIXgLOoLYUHCn5CXvUP3XfYTN2A47sTlESamyqpBbyxPFgqLQ+koqA3JZMLEExXgjo27evGxnboxdxq1mBqplSF2GhuMaKzh8tDbuL4WNHFoUp7UNLXXBP9Cp8W/Lh70ddVv/lBxz/lpgTOY58g8xB0iJGL8wz6L7YnEh7NkOQIK0sATnRF1GJknT8MlU4ZkTR5HAf6B2ZCKIMUcDYRSApsR2EN9GSaHqs95YTzG2GWxOPOBG7xJDiyMAwkNsFGYt0cfip4oZcYLA/PZ8DwcuZIeYi0MQGSF029T4MGDrHqDZx1kGHlqNkeZrcjtKcc85J8BwGGCnEilUDmy5aFuIXuY25MeBZ0+/IByGVJgSGYkBCLIaqwtOuvvpqfHbe909JCyX4EJZDOJcubejWehpIkGtbMrHEckSOhOSNNyk1QytT6sLlYWmc18lNUHZv4yfCvsMnvnCHjpZdYHYEWqoPIzAhlonfWIJKNCNzk7cj+SX52GZeLFcF8q754R2BT36fxD0QpNWImNRo5feNu5+qu2BCyRPyyCg3ByODC+DaI2eQW8RtjnovgosRuRC82HbY/NgSNjAJQyZeUuLc5YMICG26mxsJ0mMSa9DtZDNl1YYwXvUaQaGOlTWuD60sp0y5HXmmwqZQnPNR4hIlAItkSXYv+iTbHkMy4hdajRRydPg68kEwkwv9UKm+uPAcaBu6Cz4ETPu69AYT0/VGsXL5YmItdyr90r/m08d8AAsSy0jiM0ldDmEiMDuieg2fWykKkMa9SPCj32XToeGgwT5MgpV82L2wb6v/8oMEhrt9EtVEGg7BXgYIeMHFV2hTN5KWcnop8NEIE7uRhG1lPX3FhsAITDlZxCP0dTgF+4OcR7cJql7cGfhSMdexXoQTSga4zSexGrrwkSgLiXCJvusstes4iME/9TzYoOq9DfqQw1nzjkYqwLrRynLWnA6JKSGeFwuEuVfJowRw8rawFsMlMNCSG8FvCGrhLFhiqzer7CAot1d9DoKiQ9aFSiydBMiaGakD2b10Ye10DoaxHx+TXh8VEx0qVnmpq0VPpRciA6RVpo86l1qMKVPqwv6ReNPQF8nc4HCLeyzn44aDuRcefQIy9BB1aQ8H4ZEcfiCa0hwqhxVKQhZo3/hwMrarPn366DEBEv6Jx5DQ+ARu8nwespT+NCQxv403Ae4/9HXiwGhPgeYylOF6QyqiXgYubfhLIQmbyBgYFnNRCCTURCp4YcAr9Ih41lyk7jDOXy/V28tQTPriXmx8zKo8WC8Q6kYr+0kRZSXeagqOcP8lOlLiTtejih4loFGYo3H/UIlXnkFzPk2VHQRVfVvKBNbng00RlkfB0kbPACYuobmItnX7cFZg+MRmL4jBwdCmJKyeD95LMjv+x/KuzNY9lV6WrFWmjy1cbQZ94plSF/41m3AcL0S0AcK1ZLB1IdlQRU19ynGOGqd+GfSKZSCKsBPpSVQHTg31ZAHuNgQpyZDCtpQ7U6xNYvbgdZ0ddtiBc0sAKYodPkESYciHR4NXE+HakP1HIB21uIRJ4RrGpynPESCpwMRlUGhCITiMT+S6J96f4QEEybVJFNrOxVZvABA8LEycnCPwxD2NDKd/jTef3p0NyvNTWN2kkCChNpS9UWrimWeeyTWJG1RNpxBuicZiMCOODQIqYibyPcvAL9oXqcshhrLoKG7t60Yr+1lgYKZWEO2p3cXGJhiIHSgpGtTRIVSI2uWqxEyhowRM0heo8ILRgmQUXdHCbHnWWWcJkpK5VvSr7CAg2UjOAVxLz7khcxDFqSjaHtvDMFkpHlqAIbBqEudKwSfSF0hs5Gd4C8T3OKIvUOuttx62DeWpwFpPnQiRsSApFwTs2jmyWUeydU+lF1K3yvSRoBqtMP9DgaxqE8SDUzyzfNUKXxAQQQhjyoJmvtFlpRNFrcyIFa2SisRzxhln6NZBgm0JaVIGZ1iwZTklPIb0VbtTLzmBwY+CvzrmODVU+B12V1GUpS+5jfqLv6QCSS1N+eiFuX799deXWGA+YroNT36aa8lgN2rMCUocsNw6ZHhn8PNCNHH1MhGsm9jM4GVwLhIhzUtmX+4FsqgcN6R57BNcnyLswhxTRwla7QbKIJE7nBRVR8P+WW4Zxb4ykAOtgN/0el0yTVheIoVF36XECem1N+2PEpApgagEZTYq547jRmUW5bYzP/9l3quVHQRmIYeU84WTFJVMtDiqqGftxqAHQQaFC+mcCnz0x0ahdu7zWTb1uhofUFGPkfCOTdb0c5mMOCvYdeifSI3UGEPzRBDn8oK8BM4ajnnQU1nBwsnUpEqq4e1nZ9qqjg5Mqej0HbhxYxdIwV3W+PtMqYsdk/WWnxeEigJBpmEtswQXm2c1UU/tB8VQjH3Fvr20xP2HnQla66UcSGnEgoUSbA8NexVSJh5JXUiiIAUHuBEINhv8bvp1QkSaXn1e70KSKRavRKEaZB1eEDIXSzRzBP3Zh4Swpf6bK3WBJzo3bla6CAG5DMCNWnNZb0zpU8tliHpjbJCA1VFlRCTjrIGKHtpCYgdJA1Qjs98eqiWZtjKFcFIXYxWlFV0KTd9h4oW6kDWCyUFZ7llokvnxAzaWBS50lLBQYtUg/yNRswMhnqAuM4a5e7Wyg4C1L/FcMdIkQkMW/kEPghqUpeH1VUwaCXkLBcxQ2111N0hdvOQrR6YRjhepCx8RMcEYLPUrAFmWX+YWyraXuhxOZTULB2KixgeVuiqYfiEOk9UYc3vqAyGZUhd6WyHjkBcsDUAkVbhQGeXQKBngw5FRmNCe0dvMz6makcTYQzgwGlLua0IcaeIziHsw2Kv0sQhOpzFJmmRr8hxKLq0KcYRcaOYGTIG4DfRdaGiDm0DLvckaB0VYQRehmiukw0dswCocz5JYZrdn5p3p7LCa9rSqm9QlVOKAIFITfJn7GHbRo8RFi5LGXiUewFDWXF8sy71azUEAf2zVchBgsGZ+Fe4gpG5mkBHagqE9K3A+F7kdLRcOYwySN+eaSmN4bHPBSoOgp7LihbOcssOh0LvYM6Wi03fAv7ELcX5k8Tf+3vT6dZbRoim/l5oClrWsmoKhPij2ZMRW4pzQcsoUBcDcRSAXpuncwvGo8liJcHOoIFkzEdBoaYw2iTwuVWTq8zEFbi8MeNAwKG6YIbF4EUkN6ZoVzy7VOsTCV+evDrQqQx8OCBYvXmXILbZc9CgRA4B+z14lDJE8kjJIJvpWcxDAn4hvOQjUfS3DrzzOXUCBjNAWDIOyAr+Yi/mTzUD4oB4u4ncUoLX6qSxJkBadflipC00Fp5uX8ptICXjuUHpKrlPsXn8KYOEjUK9QCmT9J5WFIS4PeEdQ1ty6xOngmHeog9Bma50ofNNms4vTKUOBUFKXxLFi8iHKgchlpH4Cs5zrNcsMu3fvjoOgzGxj35agAGFtlHzTK6Zaos1TxwTx8Ok5WZZ9U5uR7C0AcRaXgWPoS+4nYd2BgBvASplc+XCIlEcAQzqpHgLQJrul/IhtD6FDHYQ2W02KBFHop+ikvJ/KCjhY0Tka2rciA3eZfpb/skxcF9IV3iuwIUUOx7bEReIsS7zxXtR1yv1EeDWcqGjH2L48BRxiDsoPWggCeWQUspePkpWF+mY1priAgonykBsSpOBYhpNTIAN/FiKdF2ztgQwbNkzNix+Il7fvm9US0Q2PmALL21PlYbYrBMvwILfpt+JBcJtp9b2CLlyIUxmag3lcglrtWy/zyorrChJNP3LkSEQuPRFGHqgpORPYOikto0aNKgkndnegQP2lLodJhetiKXVhHCKBsUy+RbgpRMjhKBD08g6HtgNky4PgALkpXeLCNYXsLTpopdH0FIIjZJXn4pXxjWBwime62OK0PoQoElquahSVhBa7Rwo0nQJUHqLwY63il5tOk4hApECkQKRAG1MgSFwXEfQrr7wydTj5gfITxHn4ejaLxz0wD6S+99zGixSn1pYUIPaRJweoWN2Ws4uTihSIFIgUiBRopIB/qYv6Q1SrQn0nD5lQespv9ujRo2vXrrznUH4BqLSJR4ZnIsqDihCKUgDRmbJS8iXeFCoKqi3b40NX9CFSKneOvBxFPVv9cdzcLrFB21CA4liyWyjI1zaTkokUPQitNf24cK21XjXEthMe01S0qE1PeXR536DQx/N51JeiCxISoXzIW1ineBCQSGTyKQi2LQStsTEBRvhleGi5JJzYvRAFKPo3dOhQ1WXIkCG9e/cuBKHtG8OOd955ZzXNfv36UXHeMGu0EfI0oWTbUyZOMEEB1l090Eaym83TDi1Ew6IHoYWmFheuhRar6ahSao7HoHhcMYGJf6mLp2/wLRKANWbMGBWwwiN6SEs8YOKQTJvAmERIxMHRo0e3UNG8pi9/RKCGFKBgBE9FqXcwa4hhRClSIFIgUiBSwI0CWVKXfw8jNbqo+siDiXqMMGFe4G3zWmLu9KhAgTwXRa5cQsUGNacAmkMUuWq+RhG9SIFIgUgBvxTwL3WBX8+ePR955JHHH39c4cojX/zcrVs3v9hHaJECkQKRApECkQKRApECrUKBIFIX76tPNtlklEg9++yzb7/99oMOOohaEgTXUyu1VegS8YwUiBSIFIgUiBSIFIgU8EuBIFIXTkCi3XlWeeDAgcheJ510Uq9evahuGusS+V28CC1SIFIgUiBSIFIgUqCFKBBE6mL+iFx4GMlbfO6554ivJ46+fJXUFiJrRDVSIFIgUiBSIFIgUiBSIEGBUFKXDEOFemK5Jp100kj3SIFIgUiBSIFIgUiBSIEOToGwUlcHJ26cfqRApECkQKRApECkQKSAokCUuuJmiBSIFIgUiBSIFIi+OygYAAAc80lEQVQUiBSoggJR6qqCynGMSIFIgUiBSIFIgUiBSIEodcU9ECkQKRApECkQKRApEClQBQWi1FUFleMYkQKRApECkQKRApECkQJR6op7IFIgUiBSIFIgUiBSIFKgCgpEqasKKscxIgUiBSIFIgUiBSIFIgWi1BX3QKRApECkQKRApECkQKRAFRSIUlcVVI5jRApECkQKRApECtSBAn/99dfLL7/82Wef1QGZDohDp3///Td12qutttoOO+ywzTbbtDpRHn74YV7gVrPYbLPNllxyyVaflI7/eeed9+GHH8pvOnXqdNhhh0000URtMMG4cG2wiHEKkQJ1oMDRRx/9xx9/CCZTTDHFAQccUAesfOHw5ptvXnbZZQraiiuuyPPHqcDfe++93Xff/YEHHvjll19oMM8885x77rlrrrmmL0wiHJ0C888//1lnnbX22msnyNL+tq4HH3zw7LPP/q//+77//vtm7Qz2+oABAwYNGvTTTz95xOGDDz6QyfHw5bHHHusXuEc8i4Kqz8L9+eefyLKs3c0331x0Fob2rbJwgaZfjcL92GOPDR06dLHFFht33HHvvvtuj8v322+/wVL51yPMCCoQBWCM9913n/DJd955J9AouWADHSV4vrrgLr744jFjxqRi8tprry2xxBKciL322uuqq67abrvtMHdtvPHGqQQZNmzY119/nTujpjcIdKuG5U7YulK/VVdddfjw4Vl/baHfc96WWWaZpiP8xBNPqPco0S1g1t5Rev755zkDX375pXfITQFYk4X7+++/+/btK8xl/PHHh6N5p0adFy7E9N99993u3bt37txZqIrCjTzknaoCULf73nnnnR5HueKKK6abbjq4s0eYEVQgCgQ6uYWwDXGUGhHYZJNN0A9TEQOBY4455u2331Z/Pf744zmAJ598cmN75LMTTzyx0ASrbxziVvXIneabb75UntP+tq6mC+Mg8Morr3DNjDfeeNhvBg4ceM8992y55ZacgTrgFnEwUwCD/DXXXLPFFls888wz0047ba9evR555JGOQzTv0y+kcJen86effvrNN9/gYCoPKgHhggsu2HTTTTGheYccAbYlBbwfpaJUGmeccQ4//PCuXbuqjuuuuy4/f/LJJ42g+vfvf+GFF2YFIBUdOkT7ELdqRdwp2rpCS+jYb2eaaaYZZpjhhRdekLFQONiFGHj/+ecfj6PX2WTiMM062LoOOuggVgrdUVaKpZx77rmnnHJKSO0wo6wu5Rfu/vvvh6fvu+++P/74o0fEQky/kMLtay5o86yjR1vXq6++CsC77rrLF4YRTlAKNN3WFeIopVLMYOtqbI/mwDa+8sorG//0xRdfYCbAQFB+XUJwp0C3ql/ulGXr+k+UusrvKjOEIUOGoF689dZbejO85pNPPjmxjR5HL395OyDD7JZaaqkDDzzQrwQJJk2XurCR4EI68sgjdbIQCdGtW7c99tjDgVaBpK4QZnZQrWz6zz77LKx/n3328UjSBCjvUhfYTjPNNITphMO5o0EOx0mgZHOlrsqOEjO1l7q+/fbbWWedFXPAd999l7rZNtpooz59+pTch4G4U2W3ahnuVJ3U9fPPPz/00EOnn376tttui/J9/fXXc1GVXLky3Zt+eYM80Y6NU/BrlgB+SamL7XXKKafssssuGOHOOOMMUgh//fVXM+VlRPnuuOOOMsvU2LcOC5e6RpDFbzRPmYUjA3zqqafG/CbOaxaCLF1f6FUzfYPC7WtH+ZW6UDBmnnnmHXfc0Rd6tYLD7MiJ4yPpzw2xunGSpktdIFDNUbKXujDq4B+HXYwaNSprlUeOHEnwZe4tYNgkQblTNbdqGe6UJXV5rhxx7733Umwi4SfGUHnCCScggVHXIIR/1wzzuOOOu+mmm5C4Cw1NJgi7DZOGuRdgmbJqgysKC1ZqlyeffBJr7XLLLbf66qubYXIeJLxRmpEKYJnZiwcTMwzR9IQfFZosqtiuu+4qx0/vOMccc0CHNdZYIwsafpaFFlpI/nrbbbdlpSsXQkY1dls49LbddtvttNNOQ4czj0tqG7YKabPoootusMEGWe0RRrmKkGnMJTmqXzgCP1daaSVwQ+RlCuA/ePDgI444ArmZhTMcN/t9C8yg02e9wJyFeP3110npd9squb1Y6/333x8PY2MWd27fxgZPP/300ksvPXbsWAmL8fh9/vnn11133aWXXop/h218yCGHeARuBsUu4oIhhPG555774YcfaEwYEMyHIgtyPdt89eQkYD7BBBNwCxBcazMLadOKnAS0WSxUAtL2DTNlrbGJkA5CmJeEu6R+GMO4Sm655RY3xl4Bd7K/VVFK9XhcpJEJJ5wwdzOU5E5ZlSN8ehhh9xxUmcm8885LwDi7fKqpppLfsLpumlPJXm4mkxVWWAGWlzs0wMlMZJrywTSzurC/IcLWW2+dCxMVk10uAPFiZCWkNMJxM5lgF1lnnXVkjdiICIUgSaY9sjK/4eamEowB53POOQdDNLkwNfEwcrOCOdVocumM0wEhVeiMYJHVHoFAxJeEj7ixfcULBwLOZnb7fRt0+jYKd+462jTwa+uijAj2RWdTUCrCN954I0qOfg0g7thMzUsb1Kfll19ejT7JJJPoIvtRRx1lM0ptOYmbrasVOYmNrYtl6tevH2tNJGjusqJdoJDnNkttUAF3sr9VucWE1WP4YO42mf7luVNwDyOGHDm0hMJQQkMtA2ZAsiGIQUZ7c1u8kr0cpC5umoknnhg+mDu0PXD2rqXUpQ9q76Snl5vUpYq77LnnnrqwQgEYqoeQ1Y/Gk0uHEA3saauPzlFHlrLBxzLUQ1VwzpW6Kl44Gc7NzG5P23DTh6lJEWZYp816lWnjV+paZJFF4Gll8Gnsi08/oXlXKXVhKyUZE4MQAhZGRzQo2DW2EJRnwUplAhlmXVtO4iZ1tSInyZW64PAoySwoxh6bDXzwwQfPMsssNi1T24TmTg63quUt6YU7ha0cwSllFVlLfASY31dZZRVdbULMfPHFF5HGEmxF/ksc2FNPPUUYAUBSG+i/ZGlJBcc/gsNYuYdyexVt8NJLL+FexLpetKOh/VdffeURmkdQYndFtcVehaypICNvUVeQpSFmyONwsnxIch5h6qCwOXeQhZNZY5bQp8+hQDqEs5BWjVJbnsiB9i1MDTco9zoKt8HHUR5/7xDwvsF8RGP2+OG/Zr3km3HGGT1CtgGFtVt8i+SOcFXADWDX2LyvvfZa6Y4inQsnchIziQIdpdx1UQ2oEL7WWmvhMezSpctkk02GM0d9qcUj6Eh4yUcfffT+++/bj6K3jNwplW5+6nURMo8yxAAUvZ1tttkaR9Kvc/VXKn0TFUQgFNckShU/9O7dO2v5MQnia0MCoAoDLA91kxUlIoSwfSQktz2R2gvhDx8wjK8870P5W3DBBeecc05ijLCcMRzxiUxB/0gA9Ii8AygpG4Y4i3ab6A7zTYTaUM0ygb/8V/mRExA233xz/kodZO4S1GhWTZYPBw3/Imo7IGzogiaH1EV9v/JgN9xwQ+RO9Dye1xBoiy++eGLuRMKVH6gMBEJVQKlHjx4Aoe4u2enTTz89aK+88soLL7wwG9j5JYag0+fAEn1CEWZUNTzUZShg7nv55ZcTUconwZcIFvLfN954w3lQsfpgT3WGkNqRs4a1Sb6mxL9SiA5mlcANH4X8BvabO9/ISVJJFPQo5S6K3oAsh0cffZTfwOqpYIearT5UtVRQYuzUs6bsRwzEnULfqhVwJz9Sl2RX4rLZe++9LVeFRx55i4B4AqQc7mCM2xi9uMY4+Zi7E0D4Ex5Zqi2gaHKvEIJAnBq8D6MUKdywBjJELMfNaoaRgKJw5H+BDLPAJIN8IG8mOEPGokPVNcpDEO8lhgdG4SLUPwlcbeKnLEM9e/bMOnsKPRYigb/8l6jD1ClAAf7KMhF3zDnHSKAqkmPxIobs999/Lz934BMrTSwagjjrhXS+7LLLUoSmDGQuZqjx8ccfK8GFPZaYu3rZrcxAZfrKcoAknALZi1rSuhERNcY5Pj3c9B0UbmcS8WIPLhI+eYn1kksukf9S8NYZJjcQ0avoD84QQnfkMLpdk42IqUNk83Zt5CSpKxvuKBXdSPDbLF+h7p7SwaK5oQOISaXoF4g7Bb1VK+JOWctQ6EUgSXJB+rF0AJOkI0uI/EQYAb24fTnh8mYOliFyYXRQGEukPZYtNCr5E13wXRKCynVuGNcmhAXhD7aCQY68oREjRmA/4AcirAlmRwjDPZoF3wwc0wvmWfkkxQypTv1GfjCX1aggrgtxkDw4IS+yL6E2eBWz5svtnsBfVf1O7YJBW51VIJPVIj5iBG75vZQ/Tv1sFo7NgLoG2kR98gPyFgkBmBWhG8B32mknw8Ywx3WxLjJT7CWCKg6UxNwNMfsVLBxTk0sRzih0xnLM7gVzjgYCrqGGZy5tw01fz/lN8HE9HtSSk1TfbPvtt8cHF3Rc9D0o4xzXBbfEP1gSQ3RFkgYkpYYcaptcmdpyEkiRG8TZHpyEmRbiPDabBDMH97tNy0SbQNyp5K1qjuvyy53CRtOLaZrgAJu1QZwUh9QCCyzA9aB3Uc/TIvTovz/00EOFQfMeZ2IITouZI+ReMDxCjEmAGwuTCcAxPqHLEtLEz7g7udIQyLIKIOUCV9iKJ9Emh1GfYKEjZBkn2LhGBBwk6ibgVsNrbMNqkYNlaQxSF9oSVge9AesoLv/EQuttbGiLi4rFInlWFmi//fZDWxAgODSBb0iJyGXEAufWW2+VCdYwml635yHIolzaHEDa2NC2sulb4lyTZlhtLRmdM8JNlLootYgZD6FNvJzonBRhSXBpw7zqyUlAOPewtwcnYaaFrgybLUrABjegTctEmwq4k8Ot6nxLOlAgbDS9uMks3RnEbIofhHsRK4Wu76JUSW0qlREpf+UqlR/4K95i3S3FpVsmDAJSorxiIIHdEArDEGQD8K8sJyIX9xP+iDKBIPoE6/kzJj1kC0wjqpoRdh0cjtjn3GzLiWlySyUqn8HNpdAXIq8zTQi/Q+YjFht7mzyHR1AXvkUBiKQ+11xzlfQzOuNWcUdWSkoaVjxuBxwOpdGS0bUicXgaGeVT8uqFAbKpxOJl80VOYkOl1mpD9a+sABLLiUTulCBUZlxXIVGGhwXsb1AcdoJEqi9ZfoldQY+RRxrgZgUlBFVkeWyeFHm74YYbSEy1XPisZoh3GNhOPfVUFQ9OvBGmO/F18kkwNW7QkgPVvzteKkrU4JnCMSflQPkZF3D5GBEUzcbps4j8EvOMM2VIwEGZwBEjELB6Ih+r4BKuCn7uCAvH3IlYsin650zq2FFRAKnLb1ZvrWiLzRsmgJ8aZQYtlExYHquAJxfitJGT1GpNSyJTXuqK3MlW6uLSsinlIOC4/PiXqB2bBVbmjdTq4WSNAYShed5Sh4YXiTuVRBt0Lxgf0TbESAGBaHqibWzGTW1DDBPhXH379lV/1e0l/FLkjzLCgTNuTemICYoS1UR14AwFAWRf8lJDYCLWKecPGQujKbFiSqTjhmCZlK0LyOzhDrJws88+uzMl27Ij1prRxs8QwGEmiFnqwtNN8QWYVdYHUt4JnhiUVE2cDzoC9oNSixwVd6uttqKIGkYvTMWcUyzfDkwgchLvC90UgEhdzqnQgnCH5U6IMapuvL52mbYuB6mLfFSbh3dURYbU+iWSM4hZq7ECBan7PJdBLyqOUB4NkYs7FR8TyWtYZdx2JIYcuIMuATAF/eYWY4mvlCWx29f/wxBFLSV58OTxxx8PVxrNmRQUcSWsUnIU5GPhCIgRqV0+LKa+Fg5orbJ2ziQ1d2yt6SN1EYpg+O6//343QkkEYVZflAEeMDV8IWIVEoMyBAdWx8F5UN4X4blJJgvjtVfCdeJETtK4VVrrKFHZK1V0cDs+IXrVlp4cmVTjQqbUhQnBPjGe61k8kjYFD9VNyXXeuAaPPfYYv6TGFYudukKYpqiAcu6551K6jTRDZkXCI2/2uS0nDEvfUiThE0Gvl9kkrB5Myl/e4rIEVTc8g/bK2rXiXWUbNL28ReP0pTiQvnaJ+qgE7OPLVtW2nAmofM31XDvneVl2bNHpEySAOdzw2XCqVBLhXiQJN4t6+HkJWsCQlvVRt8KS8vbNEoNibCO+SkegzKBSsYmyKTYluyInMaxaix4lmH9tA0brfKvK1Zka+JEpdSHc2NdSwgolj3tQwazx3U1sYH369FERNuRESP4a3CGhP2GukJQxyjzq25cYT2wbiQ1NJD6JJzyYyO+d623iG6WkFlYTAQ4C7DAJq+djUFJ48D+WdIcBSkx3GO29VAy358i5LaEhtr1GbRgGKvYAMIeJ58KpuAFlShC59MJLCSMlFbzYXfYP92bhr2yuUpSuo30dfPqNy43UlVXJuXX3BrGtREk2MnyYgLzzg4NCAjENX+QkZvq06FFSNQdquL1re6sKrThQqfXhM6Uu8nQKxcRgbRKJmKctqIDKFYigh3qEaZp8QF6WwB4mAgf5a2Ka4hrjmWdxKXK8qWSIEYufCWynfrRaY9Dg6Sj8gFRjSjxNQD1VSTmkXJPbnlhvvfVQ45Tii72ELFmRsYht2mKLLVhXYu3dgOu9xOhCCBp6pxK8WBX9IfTyoxSFQOQsYiXBbcjNpJSSyEkgF2uBuElcl8S+UF++KNgK2hNvt9pqq2HslP1DtC9F15SR8swzz6QmHN5nVVzbGSUyRSRZhHpgKhGE/xJ3yA5xBtsqHTv49BuXCe5ksHW5LStaH2nd6hNdFL6nflO+CrQBMYy4MDq2N1yU90JU4MeHH36ILi3p5MKZDV/kJLlL36JHCamLKzt3dk1pUM9bVZGCc60MnP+PPllVKDAV8MBIoRoVeAzxDCroer4xCuJtt92moOEeUnUyad+1a1eVFsRtiqCmj0v0vV5sE3GQx2QQ1yhPL2MR7oc0loVqbmkisdIRLgq74SIfNGgQljPqS1HaG1GPiDEDEXKBq7482CKXNx+Mm1pleC1FTuXyzhqiUPEVt0ok559/vu7MReKUBAL5yGE0V+uxqdcFy26coBQyheDOC0f4PPZbyuSKTwfTF0YIPMJI0syCGo/m3Ztbwkd1V6/WAJb3dtgVomPxdEETF46hVV0MSfW3/+z3LTBDT98e7Tq0RKWEM/jFhKxh86UFh7QfsWiVVIQ83t7WlXLYOMdKue9Rm21KwdWWk0A682FvG07CTAtdGTabiro/qQw8t28F3MnhVnW7JXMn29gAIYewK4SKxj9l2rpwKhWt0oGjirQyuJLEy4tFByGJbGSsKchJirNwnilfSWV5qQeI2YCxuNIox4U5gURFnQchrFBKiuJMWLyIoEf0RrzD7o3Lkku3f//+lLROffzRUvomrxVfJyyD2oD41DCfcLOefPLJZEdijZOyUuU/UOUNLB4TBZS8aSBvbMPRmvsq6s477wzNyVqCs4Mbe4WtzA9QAyMfBEnUVCtECrEaloFgGI7YHfYVIqyUeePyYKsgcmFkxdQ6ePDgQqgaGvNCM3mdaC0QB4kcHo0mgP7H7etrCDc45R3fNuPWdvo2yHtvQ1gqkS4qJsEL/NwDUigsAbs1GYj2iHE37LnnnrBuYudhffyXbHRUQQ4UKY34JVBpbCJ7IifJpXkrHiXsDuSr5U6tsUEF3Km2tyrUQFBBzkl/oThLiENQpTSDg4gnXbA6jB07lgXLrW9OS7xsuPYM76voaBAljSOMDB1CkcQdZv4s1XpEDV6ngVgXX3wxUmAe1P/9uyVwHRpmCWwzSIqIdImHjxoHLaS4lJfiEQexFSFpsSiWFAjXzJ62WDoJFsQgCuY2W0Jwtrd1SXvywhCUZe3IjlQvU6VSoOKFK7oK9rRVkMNNvyjyzW3PAYFLFHqooLkIFx2d24JzhKTFsTJvcgPkWnES+8Pe6pyEmRbiPLl7Q1KIeKckt6XHBg7cyf5WLX9LWs4UqxBGpdTGmbYurEck9DlIuNIFcxeBXBiKcqut0pKIeEIKUuPOGhHAxsC7gTh0Sa7RfWHOqEpHyTXo0qULpep1P2lJsI3dUR+xeFF4EJU0XRD2PqQ1QPy8uPx4CUBV97Du2syG7FXeFydwHsw9bonElPCYk2Yha0fV+5pnU3tfjw4+fUVPScG2rE3ofRUqAIgFl3PES8kcK+dNHjmJYaVa6ChJSSauqgo2XpkhanirYrnIKlSWKXUh03SEYGF9pROlB8psgti3Sgqwv9EQ9CprVY4ex+pQFEDrww3nXO6rQ9Gq5SYbOUliySjkhEAT1AzRcpvEEmHEJ6m60vhlSl1YffDLyoOJHeQjNZoKF0UnK1Vb5ZOIqJIfNkkyDwRgGXNjSTRaqDtBgSRn6BVTLZEn0k7orCcnWvZtbNZaC9dx9i1BUYTiYZ0qFB1l2Abdu3en1ILzPokda0uByEkSS0OVAAKNql8v79yJrHxh9c6PUhQlAh7GzCvJ4KTs0aMHzMXSi1nbZg5OYvu5DBs2jGLo6iPX2r5vVktEN2z7CiYve1jCrMxjbYlPyWZBFw7cKCqhiEzmREls6d5CC1erfVue8lkQYHxISMrpTIYQWTLlh+MqQiPlhi4PKkKohgJFgzgLYVUfTuI3rotyPOR5IKYUokb5xiG4E7WoFLcn6QpzUnk8zRCIMyZgPbVNJ36bJcSRMY7FlcuvqJRXq/bk4PAwiM1TRbVC2wGZF154oVu3bsQVYhN26F63LnHh6rYirYUPeRWk5ZKjQ+IYRfgo50a2MuHSpMsQu1lmLtRSQYCj8H3Pnj3LwIl9K6MA0gO3ACJ4ZSM2ayDCWyml1Fir3AEfCgVQ0wRTgnN4n8Og7dGFPHrcsqS6F3sRiMlT6yEa0ttjE8RZRAp0NAqQnUPNT3yL1P+kGA02Y3RoiMDtW5IUZN6QKqTKEZWEFrtHCtSTAlR3okR2FLkcVgcrF+/rZNXOyIzrYiSENVSEjhZT70Di2CVSIFKghhQgM1p/DV3KFJep7afmiA2A4Euq2NRw1hGlSIHyFMCgS7lyHi0oD6oDQhg5ciSPu2RN3CR10WfbbbcdMWJEq1MNpxsVR+RLvCnU6lMDf9KpZGqEm7TBdPQpxIVrswVt1nQorY7dq3fv3qiROBzLo0HBborxXH311eVBRQjVUIAye8InKSRZzYiVjcJLx+qCwyHoZVzOC2509caaF5gdBAgCKyVFDe5sU1wXNCJAGEMZqV5EI7Yoyah9OnToUIX8kCFDYL4tOpdUtPGeUL1T/Yn6F7wH0AYTjAvXBotYhymQSSQHhKhnHnst/zSnTIqAV1wwvI5QhzlGHMwUYA+ot73JVeelk3aiGAIlDwOoGfXr1+/QQw8tOUFy6SAa12VJOB2wO5Gj2At4UDFr7jlSF91OOukkqkhg9OqA5ItTjhSIFGh1CvCmKnnjvHiD9jjffPPhN6HabflJ8QY2r5+NHj06XGHe8khGCJECbhSgYAT5TOqxYzcgHbAXj/HweDFvGBrei8uXukgCwlbGk/JSvT1+kQKRApECrUgBQlx5ppN3FxDCWhH/iHOkQKRAzSlw6aWXYug64IADDHjmS1105hF7agyWN1rWnF4RvUiBSIH2pgC1HrBOkSGU9VhHe08/zi5SIFIgHAWocIaJird6ze/ZW0ldYElVsbo9GhiOdhFypECkQKtT4Mcff6QmKkrnpJNOKnMhSpWCdrxtT4HTzp07t/oEI/6RApECtaLAn3/+SfigYjhZuNlKXbWaW0QmUiBSIFLATIHhw4f379+f8jfUHFpqqaW+//7788477+mnnyYY66KLLorUixSIFIgUaAoFotTVFLLHQSMFIgWCU4CMxaOPPpo3G+SBVHTQAQMGHHPMMWb7f3C04gCRApECHZgC/w0aDbSNdLWG8QAAAABJRU5ErkJggg==\"></div>"
      ],
      "text/plain": [
       "               ^    ^ ^ 2\n",
       "(1 + 3 Cos[2 ϕ[t]]) r[t]\n",
       "-------------------------         ^         ^   ^ ^ 2\n",
       "            6               Cos[ϕ[t]] Sin[ϕ[t]] r[t]\n",
       "\n",
       "                                          ^  2  ^ ^ 2\n",
       "                            (-1 + 3 Sin[ϕ[t]] ) r[t]\n",
       "      ^         ^   ^ ^ 2   -------------------------\n",
       "Cos[ϕ[t]] Sin[ϕ[t]] r[t]                3"
      ]
     },
     "execution_count": 1529,
     "metadata": {
      "text/html": [],
      "text/plain": []
     },
     "output_type": "execute_result"
    }
   ],
   "source": [
    "fh = Simplify[Array[rh[[#]]*rh[[#2]] - 1/3*KroneckerDelta[#, #2]*(OverHat[r][OverHat[t]])^2 &, {2, 2}], Trig -> True];\n",
    "fh // MatrixForm"
   ]
  },
  {
   "cell_type": "markdown",
   "metadata": {},
   "source": [
    "$\\hat{f}_{ki}^{(5)}$"
   ]
  },
  {
   "cell_type": "code",
   "execution_count": 1533,
   "metadata": {
    "vscode": {
     "languageId": "wolfram"
    }
   },
   "outputs": [
    {
     "data": {
      "text/html": [
       "<div><img alt=\"Output\" src=\"data:image/png;base64,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\"></div>"
      ],
      "text/plain": [
       "^   (5)   ^   (5)\n",
       "f         f\n",
       " x,x       x,y\n",
       "\n",
       "^   (5)   ^   (5)\n",
       "f         f\n",
       " x,y       y,y"
      ]
     },
     "execution_count": 1533,
     "metadata": {
      "text/html": [],
      "text/plain": []
     },
     "output_type": "execute_result"
    }
   ],
   "source": [
    "(* fh5 = Array[Superscript[Subscript[OverHat[f], {x, y}[[#1]], {x, y}[[#2]]], \"(5)\"] &, {2, 2}] *)\n",
    "(* Symmetric version *)\n",
    "fh5 = Array[If[#1 <= #2,\n",
    "                    Superscript[Subscript[OverHat[f], {x, y}[[#1]], {x, y}[[#2]]], \"(5)\"],\n",
    "                    Superscript[Subscript[OverHat[f], {x, y}[[#2]], {x, y}[[#1]]], \"(5)\"]] &, {2, 2}];\n",
    "fh5 // MatrixForm"
   ]
  },
  {
   "cell_type": "markdown",
   "metadata": {},
   "source": [
    "$\\hat{f}_{ki}^{(5)}\\hat{r}_i$"
   ]
  },
  {
   "cell_type": "code",
   "execution_count": 1535,
   "metadata": {
    "vscode": {
     "languageId": "wolfram"
    }
   },
   "outputs": [
    {
     "data": {
      "text/html": [
       "<div><img alt=\"Output\" src=\"data:image/png;base64,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\"></div>"
      ],
      "text/plain": [
       "      ^   ^   (5) ^ ^          ^   ^   (5) ^ ^\n",
       "Cos[ϕ[t]] f       r[t] + Sin[ϕ[t]] f       r[t]\n",
       "           x,x                      x,y\n",
       "\n",
       "      ^   ^   (5) ^ ^          ^   ^   (5) ^ ^\n",
       "Cos[ϕ[t]] f       r[t] + Sin[ϕ[t]] f       r[t]\n",
       "           x,y                      y,y"
      ]
     },
     "execution_count": 1535,
     "metadata": {
      "text/html": [],
      "text/plain": []
     },
     "output_type": "execute_result"
    }
   ],
   "source": [
    "fh5rh = EinsteinSummation[{{k, i}, {i}}, {fh5, rh}];\n",
    "fh5rh // MatrixForm"
   ]
  },
  {
   "cell_type": "markdown",
   "metadata": {},
   "source": [
    "Система движения в безразмерной записи будет выглядеть как"
   ]
  },
  {
   "cell_type": "markdown",
   "metadata": {},
   "source": [
    "$$\n",
    "\\frac{d^2\\hat{r}_k}{d\\hat{t}^2} = -\\frac{t_0^2}{b^3}\\frac{GM}{\\hat{r}^3}\\hat{r}_k - \\frac{2}{5}\\frac{b^2}{t_0^3}\\hat{f}_{ki}^{(5)}\\hat{r}_i\n",
    "$$"
   ]
  },
  {
   "cell_type": "markdown",
   "metadata": {},
   "source": [
    "Пусть $t_0 = \\sqrt{\\frac{b^3}{GM}}$, а $b$ - прицельное расстояние, тогда система движения перепишется как\n",
    "\n",
    "$$\n",
    "\\frac{d^2\\hat{r}_k}{d\\hat{t}^2} + \\frac{\\hat{r}_k}{\\hat{r}^3} = - \\frac{2}{5}\\epsilon_G\\hat{f}_{ki}^{(5)}\\hat{r}_i\\quad,\n",
    "$$\n",
    "или\n",
    "$$\n",
    "\\hat{r}_k^{(2)} + \\frac{\\hat{r}_k}{\\hat{r}^3} = - \\frac{2}{5}\\epsilon_G\\hat{f}_{ki}^{(5)}\\hat{r}_i\\quad,\n",
    "$$\n",
    "\n",
    "где $ \\epsilon_G = \\frac{b^2}{t_0^3} = \\frac{1}{b} \\left( \\frac{GM}{b} \\right)^{\\frac{3}{2}}$."
   ]
  },
  {
   "cell_type": "markdown",
   "metadata": {},
   "source": [
    "## Повернём систему с помощью матрицы вращения $R_{ij}(\\phi)$ на угол $\\phi$ по **часовой** стрелке\n",
    "Переход к полярным координатам от декартовых"
   ]
  },
  {
   "cell_type": "code",
   "execution_count": 1536,
   "metadata": {
    "vscode": {
     "languageId": "wolfram"
    }
   },
   "outputs": [
    {
     "data": {
      "text/html": [
       "<div><img alt=\"Output\" src=\"data:image/png;base64,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\"></div>"
      ],
      "text/plain": [
       "Cos[ϕ]    Sin[ϕ]\n",
       "\n",
       "-Sin[ϕ]   Cos[ϕ]"
      ]
     },
     "execution_count": 1536,
     "metadata": {
      "text/html": [],
      "text/plain": []
     },
     "output_type": "execute_result"
    }
   ],
   "source": [
    "RotationMatrix[-\\[Phi]] // MatrixForm"
   ]
  },
  {
   "cell_type": "markdown",
   "metadata": {},
   "source": [
    "#### LHS системы после поворота"
   ]
  },
  {
   "cell_type": "code",
   "execution_count": 1572,
   "metadata": {
    "vscode": {
     "languageId": "wolfram"
    }
   },
   "outputs": [
    {
     "data": {
      "text/html": [
       "<div><img alt=\"Output\" src=\"data:image/png;base64,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\"></div>"
      ],
      "text/plain": [
       "      ^\n",
       "Cos[ϕ[t]]           ^      ^   ^   ^    ^ ^           ^      ^ 2          ^       ^\n",
       "--------- - 2 Sin[ϕ[t]] ϕ'[t] (r)'[t] + r[t] (-(Cos[ϕ[t]] ϕ'[t] ) - Sin[ϕ[t]] ϕ''[t]) + \n",
       "  ^ ^ 2\n",
       "  r[t]\n",
       " \n",
       "          ^    ^    ^\n",
       ">   Cos[ϕ[t]] (r)''[t]\n",
       "\n",
       "      ^\n",
       "Sin[ϕ[t]]           ^      ^   ^   ^    ^ ^           ^      ^ 2          ^       ^\n",
       "--------- + 2 Cos[ϕ[t]] ϕ'[t] (r)'[t] + r[t] (-(Sin[ϕ[t]] ϕ'[t] ) + Cos[ϕ[t]] ϕ''[t]) + \n",
       "  ^ ^ 2\n",
       "  r[t]\n",
       " \n",
       "          ^    ^    ^\n",
       ">   Sin[ϕ[t]] (r)''[t]"
      ]
     },
     "execution_count": 1572,
     "metadata": {
      "text/html": [],
      "text/plain": []
     },
     "output_type": "execute_result"
    }
   ],
   "source": [
    "LHSMotion = D[rh, {OverHat[t], 2}] + Simplify[rh / Norm[rh]^3];\n",
    "LHSMotion // MatrixForm"
   ]
  },
  {
   "cell_type": "code",
   "execution_count": 1576,
   "metadata": {
    "vscode": {
     "languageId": "wolfram"
    }
   },
   "outputs": [
    {
     "data": {
      "text/html": [
       "<div><img alt=\"Output\" src=\"data:image/png;base64,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\"></div>"
      ],
      "text/plain": [
       "^ ^ -2   ^ ^     ^ 2    ^    ^\n",
       "r[t]   - r[t] ϕ'[t]  + (r)''[t]\n",
       "\n",
       "     ^   ^   ^    ^ ^      ^\n",
       "2 ϕ'[t] (r)'[t] + r[t] ϕ''[t]"
      ]
     },
     "execution_count": 1576,
     "metadata": {
      "text/html": [],
      "text/plain": []
     },
     "output_type": "execute_result"
    }
   ],
   "source": [
    "RotatedLHSMotion = Simplify[RotationMatrix[-\\[Phi][OverHat[t]]] . LHS, Trig -> True] // MatrixForm"
   ]
  },
  {
   "cell_type": "markdown",
   "metadata": {},
   "source": [
    "Так как $\\hat{\\omega} \\equiv \\phi^{(1)}$, то"
   ]
  },
  {
   "cell_type": "code",
   "execution_count": 1578,
   "metadata": {
    "vscode": {
     "languageId": "wolfram"
    }
   },
   "outputs": [
    {
     "data": {
      "text/html": [
       "<div><img alt=\"Output\" src=\"data:image/png;base64,iVBORw0KGgoAAAANSUhEUgAAAYMAAABVCAIAAAAkFh/DAAAAz3pUWHRSYXcgcHJvZmlsZSB0eXBlIGV4aWYAAHjabY9rbgMhDIT/c4ocwfgxhuOwCZF6gx4/dqCtqDLSej4G2yvK/P56lluKKxU1b+gAhbRr5xHQaGl5pf6uK5JN9cyL2YI6IrK/C8ydX2fuWM7t3yLiBZJ/CBbdA3uR8MrrWOdr9/No7VwkdKj/QP18VnGGobpGVSZ39OBWAsNgTOZ44g5EY8WDSe/hE+4xBs8OGTmY4uln9yyQCB75BMnPZITLu3bOpAaLIKqK8fV7m895ARzmWpZedbLuAAAACXBIWXMAABYlAAAWJQFJUiTwAAAAPHRFWHRTb2Z0d2FyZQBDcmVhdGVkIHdpdGggdGhlIFdvbGZyYW0gTGFuZ3VhZ2UgOiB3d3cud29sZnJhbS5jb21coqaFAAAAIXRFWHRDcmVhdGlvbiBUaW1lADIwMjU6MDM6MDkgMjE6MzY6NDXMBqjZAAAcOklEQVR4Xu2defhO1fbAIyFDkjHzUDJnyDyEhCtDqCgajCGeMoUr85QxPIaMpRANogyJZMpUkTKT8UpEIpGU7ufXfu75nef9nmGf8R3s89f7Pd+1115r7XXWWXsN+yT7+++/b1GXkoCSgJJAVCWQPKqzW03+008/vfvuu23atEmXLl21atVilk5FmJKAkoB3CcSuJZozZ07z5s3feOON33777caNG95ZTWwM169ff+WVV1544YWPPvooATgNjp0zZ87s2bPn2rVrCSAlLyysX78ebenRo8fly5e94PFtLLuz2LyuXr368z9XmjRpKleuHJtExghVf/31V4sWLYRO3HbbbStWrIgRwtyRERA7EyZMKFCggJDSrbfe2qlTJ15y7iiM91Hbtm1jqyFE8dBDD/3+++9R5+gWGQq2bt06dOhQGcggYNKmTasskbVgn3/+eVTqySef/Prrr++++25s96ZNm4JYi3BwBsFOx44dEVHt2rVnzJgxduzYsmXL8ifGKByOYmqW3bt333XXXXfeeeeGDRu6du2KHJo2bfrnn38GROTixYtnzZpli9zeErEzevjhh0+fPm2LKyCAhLFE69at69y5c/fu3X/99VcfZdWnTx+UCU+blQLtkSNH7rnnHvTsm2++8XGW0FAFxA42Gp9I4wKPGxGlT59eCC20KyAdkKcf9ciRI0f27Nl37dolRg0ZMgT9ad26dUCiYKNNnJfNjTWR9pZo4cKFgwcPlmfVd8jEsEQB+cMscJYsWQYOHKgX+48//liqVKkuXbr4vhYRCP/4449+/fphXpcuXerLXGGy06hRI57AX375xRfKZZAEpAMyU2sww4YNY4t6+PBh/aipU6fecccdx44dc4RKHhj16NmzpydLhJlkZ3T+/Hn5WX2HTABLFKg/bOhh8c4Pzt8WSxxQNCccdlDsXLly3Xvvvb6rqxlCRzqART579iyGXo/N8KYL+glRJx3lr58egR9pV6hQwdqMJGOMRfR75cqVy5cvnzx5sm8RcueICK3df//9X3zxhfOhMTHi6NGjVatWZTFWrVpVsmRJaCLoNmDAAPzh2bNnJ0uWzIxKXqFr167V/sv+ixeXGfC4ceOYgm1/6tSpLdjGfIwZM0Zb9PLlyxOwdCcmIi/Tp08nOMXrrkGDBhcvXvz000+rVKligY0ADb66AEAUjzzySLTYGT9+PGmjV199tXfv3u7YdzTKkQ6cPHmyYMGCxNTJ8WkhdsObETTIK8z27ds/++yzihUr1qxZ05oRYkn6R4/YQqpUqRzxLoBRdSI8pHdNx1rb1GbNmkG0C7vr45B494lc+8PDhw/HCv/rfxfpZzOp8ngLixbhdSeF5zVbv359gTJTpkxYN3cr5S6aQ16PbaOYHdMZLXa2bNmSMmXK0qVLIzd37Dsd5UgHunXrxlKOHDlSP4vhzQgy5BWmf//+TNGqVStbRt58802xXpgthlDlZzvEEODSpUvFihWzCEVZxYnwpooWLepuYh9HxbslQhTu/GEUC59FRpIEhsSrxtYS6bE9+uij7iyR62iOZIVBoOx8+eWXGTJkYGt2/PhxGdn6BSOpA8iW1w/2Wm8lDW8mJUxeYUQmUcYSabOQAPFiicDzxBNPELA3k6dVZSO7iRo1arjwxLwP+f777/GcxcVr/NSpU+I3Pp535OFjwJjqJ0XJMBksLe430Rzv9Jw7d847EnkMGTNmJAUzaNAg/ZBs2bLha5CfksdjBhkcOzj4derUwSCi23ny5PFOqjwGSR0geEyMDz1PkSKFhtzwpvzUSSGDk7AFVfXq1fv444/d7M6eeeaZDz74wK93giM81OYZUhxmiNERwRbAS5Ys4SXcsGFDYFAyAhM8yRp3mTNnNkvf2L7iiLOQsM+ZMyf4BULS0vzWX++9954Zba59IkJCZtHH7777zkIU1j5R0Ox88sknmAPEtXfvXr8WVxKPpA6gHlmzZu3Vq5cereFNw3mtFYaAb5EiRfLly8c7Q5g5liNCWyizMuPIu0+EE2qxx7LyiShoJOLtxfS6Hsu+1FAiBw8edI0zWgMp5OXRxa1Dpcgcjxo16sKFCxoxBKE1O+KUwgMHDuBbgRn8YiwZEH7rLzxKp2ht4du2bauVdOuBP//88wceeMD1+zZQdhYsWMDLgLVAtebPn//v/11vvfWWLb96AEytCwYldYAEEYaSohn9jIY3HdEsgNG6ffv2kaon4Cg8cXzzCG0hmuMCs+QQnFDRNWEMb2YC0WlKvyRNvgKzkAB6j+gpfabAlx/E7ebNm0cohNYnMrurV682G2vrE4HkP/9cc+fOFatLmkPc0a4rV6746xMRwmQiutuSoqVpAKdM5OYML2ufKFB2HnzwQcMHgOSRI+0tVKjQlClTHA0B2LUOOJrIWmHQBE0rRA6X0uoIbWEJgvOJwIy0SQcbTmHqE+3fvx9HTtLaKTBbCZDCXLNmTePGjQlVtGzZEg+Z9A1WSZgndxdIeIVykQUTGLQ74j7X7bff7g654SjemeRx69ati3+RFID8Lok5XGl3MwbKjlmsVF8n4Y5s+VFB6ID87GiCphXoHgPpCtLuiB8sgTxCF5D58+fHsBgONLVEJ06cIL/gYjI1xEwCvIgWLVrE8seviCZOnIgx0oelv/32W+JcGkcEAggHxC+DQVOeADrgRUSYFEqrHFuioA2kF5bicSznnLirCosRZqmKnDRpEr0dhQsXFiQRbqDMRO9WEHCl5CRGCI5BMuJdBzyKFPX44YcfDJGY1lgT0UPPRo8e7Whuwgccb+ZoSFSAKXoWJRXWFxIQhxCYgVH3wWbbGgmxUrZjwPCIkimzm/P//z9ixAgadiictR1CWoQqZ8AIYFOeawsvAJo0aYJDLl9AT38/rYw7duygJlBgoIsSCeAEaRlx6hUpvDZLLLApgCNixtYUhsOOpJTYU1NnrAFji0nj6DM5bFeJqAakA5JECjB5hSlXrtxXX31FPdHbb78tOYVYa6c6HIH8nXfe4cQxavGTTmpqiXj1oab0N0oSKsAOHTpEitTRkKgA586du0yZMrZTE1Qm8GFhiTiloG/fvgFpobxiaY8u8ievb8uXO0tEofC0adNI1Wn4Oe2B+n2tEJH7dH5gqsyCL04tUaDsSEpp5syZPD8aMDkBlEdfi0Q0mnREQDogSaQ7S8QLkuSJ5BS+WCIUlW5tjKDBpGahcvqJ6M1xFLpXwIYSEHkTLqeV8ra5M206wrFiChwo+VVwWk/UoUMHmtT0+DnbF19Mf4cA/NNPP+0udxYyO/KC0kN6yZ250AFHRMorjKhYNquVMZzUez0RaKnzQIDOcmdUQPibdpE0vQrMhQS0VzT+iIvhkkOoZowofaJSuXjx4tpwUsJ4Q3iRkgjNwMJhxyORcT1cSJjaKF9K/OVFQXs2xQSG8Ka5M6qeRKovTi/oJ9FDKITdCrUkFLkEUeMXI8Jhv8AFMbRNkszSqKIng0o2v4gkyEUJgoZt48aN7NT0ZX4UbVJPYBs4s6UnHHZsyUhgAHFkAm8OYguaMSIWEfSJF5gUsxPETS0R9HEuQZwuBoUbWB/al5E1Vb84li+//PJTTz0Vp+zYkk3xvmiOp/aC+BcOMK5K3rx5iV6LE/l8uZAk8qQlCt1gq0/In/KQZcuWUbmLlWcvT/CbWJL3F1g47PgikzhF8uyzz4pXF+e0kM+i9oLyAo6UJZMTaBEGJsXMC7PyiSyOzglnASiCImrOmYQc/eloRvLNhFEJ0NB4zZmT/CbZQQ9dVKLp4Rh0Mgyc0EwbN7wT6KW3FquEblkcaeRIpACTauFsgHbt2oETedLEtHPnTrijPpNOOvrpyLQSS3KK1hA+BHbc0UlInrMDnY4NRwfkqaKaZPPmzbVq1WKI6AJhp0Y3kpdmHZnZkydPbvqdHrOQGD4FLTmOAmb+AmObMdtoNmvPvgBhOcIfcfSMyFVTYeAISXSB5QOQGp1wjUpxCBbfkCGjj1WyYMFpxBpU9HOQ1cbEa20BzMgdcvN0MNmKS/JUkNDYsSU4vgBcKAxZFKEtRBitj5r2JWJN6IBQo7OItYyFCw6GsBYJcrIwFKcQ4uF9y2EOpr1zRnToD1Xg/6JHNOH7V+CafRnvuurVq7M14xXk7xrxLiV9xj5Xq3plRu7Q2euj86XRHDQ7/gonHrHxjhfaQo2Y/oiI8HnxWVP1DLjeW4GElgg6LbHxAiFuEe6Ma0nRzUt0Aw9LK8kLX9BqRiUBJQELCQRliQhS4MVQbPLcc89xQpJZ25sFZZUqVdL/l64C13Ervp9FFokStQhHKfY1g8wUh0uJi52Rd4JxjKkuEwj1NYreMUtiIDwhZtfn+CTHJgWLOjuuKQ9ooO8KQ7m8WK/AW4WDiBNRi0T6hn4RgZztFf6I4dlalHjS1c3F/ispJWzNKAM1oxCPiYEYO060M4MhPMYBqax6xHd44mL/D190DGoXZ6p7JxtzRi2JhpOD/b3jlMdARYU2NZlN+YFmkNFlxzv9/mIIQmE4KFVbMp5iwtteaLaIE5meY+0xYs2rT08x54oaHqZNrwA9Ddhdw8cMM0R9ihnnBNsYSNEQ6WRDGOK1ornspZde8iI+NVZJQEnAFwlEIWJNTEdruiULRl6Zj9Lqj4/QvFNin5wJqz+BhBcdQ9jQUZVH9QENL9qlx0CwjYFmQWiQcIL366+/jmv22muvBeQMK7RKAkoCvkggqDgRLhWHYHIwPhVTGAuOxH7sscckG3/ZlDKEchUqPsl50QGsXZxwKMM2BosoFQVEbAc4RZByO+2SGa5glASUBEKWgGkvPj1yHFdMHt0dQXg61PhS60z5AJss0oTEsKngFJWd2sV3l6jTpZFSfxM7IkoZ27dvT3QJZ0r7b4kSJSgJ1QNzDgkH/dIjrr/J2elmR0/gZLrjSI1SElAS8CgBit04WMZwbxSUTwTF1DdT20JbAL0t9LnQ3B9hhsy44rQXSlS42OJRCyd+iyvCDJlhIFtntq31KEo1XElASSAICQRoiWg1YDtm/XHkIFhSOJUElATiTgIBWiI8IEdHFMad7BTBSgJKAn5JIEBL5J1E+gYT+CgP7/JRGJQEEkYCMW2JcuTIQaMGoe6EEbdiRElAScBQAjFtifg8MUST/qfpjHNwOAGHpJhaSCUBJYHEk0BQlsiXLnB61mgZI/vWvHlzGjvIwbn+ql/irZziSEkgkSQQlCWikkgcaOLlIoVPkTTVBxQEUHLNj0GDBnlBqMYqCSgJxKYEgrJEPnLLwTccJXffffepE/59lKpCpSQQUxKIviWipYOjiAw/xmYtKb5YwkBOnIspgSpilASUBFxIIMqWiJg0XawcReriE8acPcJAPnrHKaguOFdDlASUBGJHAkH1ncUOh4oSJQElgRiRQHT6zmKEeUWGkoCSQOxLIMq7s9gXkKJQSUBJIAQJKEsUgpDVFEoCSgI2ElCWSKmIkoCSQPQloCxR9NdAUaAkoCSgLJHSASUBJYHoS0BZouivgaJASUBJQFkipQNKAkoC0ZeAskTRXwNFgZKAkoCyREoHlASUBKIvAWWJ/m8Nrl+/ztdo+W413yyK/poEScH69eths0ePHpcvXw5ynvjAfZOse3ywafY1Ho9fo/bl27XhIOGj1S1atBCPDicirVixIpx5w59l27Zt6dKlE5zyySY+kxs+DbEz402y7jHFpsXXqG9RlohjIXky+Rwbn3uksz9NmjSbNm2KnQfGL0p2797Nd5/4ltyGDRu6du0Ky02bNuVj337hjzs8N8m6xxSbyhKZPiZ9+vThmWTDcuPGDYCOHDnCB6x5XDlwMu4eLQuC4YvPE2TPnn3Xrl0CbMiQITDeunVrwfjNdt0k6x5rbCpLZPyg/fzzz1myZBk4cKD+35x5VKpUqS5dugT9cK5bt65z587du3fn+yVBzzVs2LACBQocPnxYP9HUqVM5D/PYsWNBz+4FfxBSiu66e5GGo7ExyGaCWCK+fdavXz+e3qVLlzpaEgtgQytw9erVoLct4YdsCFEnlUMIRtDLSgUnpWitO9IIQo3NhBxFNg1JcmOJatWqNXfuXC9qpB97/vx5Dkm6cuWKa4QxFXhzzYUY6Chkw5vt7NmzqK/HSeNuuCMpxQt3kmpMMoFFv3DhQrzwJUknwQFCH4bApmc21qtXj4wS3/nxko89ePDgqFGjNm/efODAAaZPliwZZ8X279+/ZcuW/HaEuWPHjtOnTyeu3LNnzwYNGly8eJGjr6tUqWKBZOzYseQvBUDJkiXF19MMr3HjxhEuIY6bOnVqa6oI93LwtgbD3ipVqlSOGDl69GjVqlWZbtWqVVDF2KFDhw4YMICQzezZsyPEcvLkyYIFC/It3D179rC9MpxIns3t27dz7HfFihVr1qwZNJuOZJIU2JGU9MNxo9auXavdIQLIDtTjumM+xowZgwILPOXLlyfz6I5BSTXu1KkTX7Vp3779jBkzzCaSX3dJ9faRTTOaCb8iOvwSAwAzY8ZzixQkTZ0hGJ9LTJ8+vZgyZcqUGTJk0Kbv0KGDI8zuAm+k5In4/Oufi8UwmxFrJZ7/iDCKITxn+AuEPM8M4fhtR4wA7Chk061bN2YZOXKkxSySbIKBdwDYWrVqZUuzdzZtp7AGcCQlParhw4dTqSDWiOvMmTPe1x2HtH79+gJhpkyZsG7uuJNUY2jmjUh6wdonklx3efX2i00L4fC5MPgyBDDN4pPinTx5sjuJM2rLli3C7lSqVIkKHU6/5yYuEps+cX/lypWSyF0H3iSLgwhRC5JkLJFGs/iamwtLBAbJkA2M81BhTFEma0skWQPFC1nSEvnCpuT6moFJSiliOJYIn0Vmanfrzucb3FkieTUmGMoyvf/++9ZcBKrertm0ppn6mHz58hnCmNZY49MS1nHngjIKl4E3Ofsdinp5k1Ckw022Zh9++CFGkd/y1cwZM2YkCR3xzcVs2bJh7CZMmOCaQm3guXPnvCNxhCFt2rR6eAwNRhDTxhaMSLn2L3JbxM7ZsqVIkcIRfjPg8Dn1QraklFxPEbI0JNUY+8u6YwiaNWvmmjX9wJDZtKYZfdZqayMgTS0RgSWPDQH4opMmTcJy66fEwIkgBVF0SUFfunQJvzEpMB7svn37JJEkBSPYhGXMlSuXFmwqXbo0XOsv3kuu8ZsNJPHHFI0aNQKAwCRSwqpCSbVq1YoXL05pJSEw8S+kRxyqTJkyXmjAXSpatGj+/Pl5ASxZsgRUixYtimCTD1t6mSKIsZJScjF1tNZdUo1nzpxJDHHKlCkuWNMPiRab1mRjUszCdlaWiK8/exSH4XCSAtzPnDmzJPK2bdtq3Rj6IXx5kUfItckniI4ncurUKfHkc5Hy5Lf+MrSAkmSbgbFRZQrm5f2APSKiTzhAA2adRECN3WvOnDkHDx7scTqQY68pGiL6IBwuXLAINnlIPM5iMRwtcvFdckkpuSA7Wusuqca8/IhpUobqgjX9kGixaU02ykCgzRDG1BLxGLj4GqKt+Hj8RO6J/JEtMABUErA2ojsh4qpcuTKBcGKrMniSwrBl/c8/F1OI/0KYuKNdTZo0cYfcdtTp06cxQ6tXry5WrNi8efOIWVy7do28NflBMZapd+zY4f0D3MT7NHZEqk5/R/xr48aNtgS7BsCk1qlTx91wWym5QBuVdZdXY5QQm+WCr4ghUWHTlmz8Brx+Z5YoT548WkjPdgJ5ADLW7DvYsontifXFu5rtSd26dRs2bJgUkvQ5GY2tW7faoTH+P3sirC2XZqS1O+I+l3dDYEYbz9iaNWsaN25MZp2aBqbGqmKVateu7Y4ds1GwoLHDFIARs9PuiB/M7u+kfmELQkrhr3ugamwm6vDZlFl0TEru3LmdWSIiCydOnJDBLg9D9JrNCPAERwoVKmQ7cOLEiayiPixNdEm/ZyQCcvz4cVs8sQmAh0LIRsTy1WUmgQSQUmKrsSPVxaRQH+fMEjEAV8rHQAm1arz8icbx5ucwIFsGqLMiZEtvR+HChQUwYQ5Scvq6taxZswaxhbSlzReAOXPmOK2K9GXe+EIS71JKeDV2pE6HDh3i8XdmiZInT04qZ+/evY5mMgPGcyFlRpiWUNyyZcvENsH6IkmPKdQXeZPkJsykT/QQ15RBZTdVdP6fN2/e6Ewc8Ky8MGgqpmpcXAsXLsSx1f7kx+LFi+VJiHcpJbwayy8lioEdYB/jzBIBXaNGDZob5Gcyg6RlATMEEZRU0KJBaZMMTpqwMVtk1jVgCjTZ/RLA0u4QRyANL4NNBoaCKxmweIcJmk28AMKl2kUSh2xdxJ2YkmGgAglfjc1kGyibMgtKSLRChQpmxXFWp8dSkUhUVWYOCxjqqqtXr87WjBoW0ihmvllSDNivIkWK6O/zeilXrpz+Dg113i2RVmpFFaxHZmN8uOA0aDbZctLdxiZaXPhH5AS0P/nRt2/fWBBUOOsemhqbiTQcNmUWFGOCSTGDtLJENGqwr2MHJDONIQxeDHWDFLMQ0KH8B4soj4o2OX2rGgNpGWXDqGEg/Yxakz6Tx2kIqTlZZM09oorx4YJTDkXQV3LHOM3BkRfOuoemxmaCCodNmWUiLGNROG5liQgVMdLRrl5PEIaDTRmxHk4joxsWs4Jd01+EjSwYoPQRd04DoOYFeH0dI2k4XrZUx8hIwQKGtKLILNKeoq/8psUEG+oReUwNF9XkWHC8Es0YUcekP10gpggOlJhw1j00NTaTVThs2q4UEWeeVkpGTCGtO9Z4FOnil+knjIDhxRvR55GUAgreLDBT9s6QWbNmEWXAt9JaFmCJh4c6VP5LHaAvraFacT3nb9B4wRZSvEk4qcMMv+sO2Pnz5wtRuOueTUqPZCckA6nk0qo5iNmx+S1RooQoIzA7udE1mxqdCxYs4FXkVIVcS0m+AxaSXKy709ZQ72psJjr5dQ+BTdv1ffHFF2k1tQCz+coQmQsCMS6qB2ky0M4GsrWXhgAcXkFTdbt27WiAYFvHY7Nz504sBWaCp6h3796jR4/mdBF3yCNGUSvAESjsqIm24rWRpKPwgfPnLY62cT0vLLge63EgERzOihLHIYguEF4YIh3pumnGliRyDuI0EkdXOFIKYd3DVGMzCYfApvXiskVlf0MrnAWY6Ulp2hiezF69eonmyZAvfB9yLjRM4ZeJOmD2FJRHEroir2drJkjw00hpESSLYAfk+/fvpy2O8D5uJLWd7E/NWCZYznkd+DXyDXQBSc8pm5CB3WEfCpscIEUqE8se+2xKSm/EiBEsOuelScILpZJfd7pw0A0OzJHH71GNzSZyuu5Bs2khEM45KVu2rE0gxdatAoAP9UmegCODLTQYeffVBUnety0uJjUccpOwKSkuR7szSZx6MKe7MxdTSA4JdN19ZJONP96ALVNS34ClGo3aaPmXgIJUElASUBIQEmCTQbOErTSkLBH7IItDoG3niCIAYZGP/7nkj0OyppbyKIFQ33QSRQbF1DcJm5JyZu8p1oiLIL3kKAsw3ufLly8XCK0Tvt7ncoTB33UPiE1qAPmGoC1f9nEiWxQxC0AWTFPExx9/fPz48d5JpXRAixFw+jUGjopN72i9YLhJ2JQU0bRp0wgVacBUw3qvfSXQQ8O2ti1o06aN93OjJNmxAPN93aPL5n8ByEcPO/HdT5oAAAAASUVORK5CYII=\"></div>"
      ],
      "text/plain": [
       "^ ^ -2   ^ ^  ^ ^ 2    ^    ^\n",
       "r[t]   - r[t] ω[t]  + (r)''[t]\n",
       "\n",
       "  ^ ^   ^   ^    ^ ^   ^   ^\n",
       "2 ω[t] (r)'[t] + r[t] (ω)'[t]"
      ]
     },
     "execution_count": 1578,
     "metadata": {
      "text/html": [],
      "text/plain": []
     },
     "output_type": "execute_result"
    }
   ],
   "source": [
    "OmegaReplace = Derivative[n_][\\[Phi]][OverHat[t]] :> Derivative[n-1][OverHat[\\[Omega]]][OverHat[t]];\n",
    "\n",
    "OmegaLHSMotion = RotatedLHSMotion /. OmegaReplace"
   ]
  },
  {
   "cell_type": "markdown",
   "metadata": {},
   "source": [
    "### RHS системы после поворота"
   ]
  },
  {
   "cell_type": "code",
   "execution_count": 1580,
   "metadata": {
    "vscode": {
     "languageId": "wolfram"
    }
   },
   "outputs": [
    {
     "data": {
      "text/html": [
       "<div><img alt=\"Output\" src=\"data:image/png;base64,iVBORw0KGgoAAAANSUhEUgAAA/wAAABjCAIAAACpG5ynAAAA0HpUWHRSYXcgcHJvZmlsZSB0eXBlIGV4aWYAAHjabVDbDcMgDPxnio5gbDjDOCQhUjfo+LUDaUXVk/Ad5weP0F/PMzwcHCmkrAUVIEOqqXIzUWhgcKR6xQvnTjLdxQ8YNsVmVv4m0Ke/rb5iMJefQcRDiJ9gWtJsmIOEhx/b2G+znlsp66B5oxv1FvH/PokyMqImi4lJFdV0CSaNkJmy4sQOWGHEwZR24w5Va4N6hTRvdHDXtbrbH5lx+BPEV5ZmLFes7E40LQKLWcDbJ+vPeQOpM1r30CUosgAAAAlwSFlzAAAWJQAAFiUBSVIk8AAAADx0RVh0U29mdHdhcmUAQ3JlYXRlZCB3aXRoIHRoZSBXb2xmcmFtIExhbmd1YWdlIDogd3d3LndvbGZyYW0uY29tXKKmhQAAACF0RVh0Q3JlYXRpb24gVGltZQAyMDI1OjAzOjA5IDIxOjM2OjU2TBTIIgAAIABJREFUeF7t3Xn8fVP1OP4P30qzBspQqVRKypAhmkSDkDJEmTKXWShKJEqJiMw0KCGKylQRmhClUpkapEk0I5r7Pb+//ficx/nee+45+wz33nNfr33+eD9e79dr7bXXXnuvvdde017gv//97/+kryMOnHjiiR//+Me/9a1vdYQvoUkcSBxIHEgcSBxIHEgcSBz4fzjw2te+9rnPfe4hhxyS+FKLAwvWgk7A5Rw444wzXv3qVycuJQ70igP/+Mc/Nt988zxJl19++f8Z+rbddts8jP/+5S9/6dVAEjGJA1PnwFlnnXXuuecmaZr6RCQC+s+B4aMHzWuuuebw6XPbbbdlw7nssstOOOGEytGtv/76n/rUpyrBEsAABxZIlv6u1sTPfvazpz3tabfeeqt/u8KZ8MwQB/75z3+++93v/tOf/vTKV75ygw026A/lxx577E9+8hP/ZiR99rOf3WSTTTbccMNnPOMZ2S+XX375N7zhDdl/jzzyyD//+c/vec97+jOQRMn84UA/pen+++9/9rOf/c1vfnPxxRdP0jR/VmP/R/rVr371nHPOefCDH+wMevjDH94TgoePHoQ95znPueuuuwZsTPvuu+8iiywSyL7vvvscRtdcc81jH/vYkoH88Y9/XGyxxQx89dVX78l4Z4MMSn9/Phv9D37wgzvuuKM/JMVTcuihh66yyirx8Amybxxos/z+/e9/v/71rw8y/8AHPvDiiy/uyejuueceCspPf/rTPD2nnHIKOq+88soSIjV8whOeMKPC2BPmJzKacaC30nT44YdTVgYGlaSp2SynVnkO/Pa3v/3hD3/4t7/9rQFbRBRniv7aa6/dDEmDfsubFB49miyxxBKM/eVtGZv23nvvSpLWXXfdXXfdtRIsAeQ5EGXpt6QuvfTSd77zneO7x/z85z/fZZddXNpc8vTy9Kc/XXy85Tu+HjvH/MxnPvNNb3rTW97yls4xjw8hqwAHXMC/8MILv+1tbxtfX5PH/OMf/1iKRdbvC17wAntEIRntl9+b3/zmk08+maWcxYLbUWDMl7/8ZT1OftQDPbqLukgzAuV//4EPfGC//fa76aabLNoSCt/1rnf94Q9/OO6446Y+ij4Q8I1vfOOSSy7JKNloo42e97zn9YGw/tAQL3HlNPdTmgj1U5/61K997WuM/UmaWq66OS9NJ5100i9/+cvApQUWWID6xAxfyLRjjjmGRVykgL+Ke9lpp514WR/60IdGcvhHP/rRi1/84v/85z9f+MIXBJ59+MMftjXZ8KGKxDAmsMKjR1+GxhN+9tlnl/TLybzMMst85zvfYXgqAfvkJz+5zz77/OY3v3nAAx4wplHMFto99thjr732sk2VkV15B7KYXv7yl4/V4HfjjTc++tGPftSjHvX2t7/9zDPPZEp5xCMe8bCHPWzAPFlJ6hQB6FW4LIhiijQ06JpNmmtMpIfPjaUBhq6asDq79bncMw90hfP6668PQ/M9/vGPH2USaL/89t9/f7MPP2FBfAj0sp6/973vdTWWxnie/OQnu34MNKfxI/jggw8ma2984xuZVZxPw1384he/MArXwsa9z6WG733vex/5yEdmK+orX/nK7I7OnB5wwAEk7vOf/3yHo4iUuPIeeytNLAhrrLHGMPFJmhosof5I0ziOHgyhzIS9Yq211rLZ/u53vyvkkvutv77sZS/jL6LrBzvCzjvvHMlSZw3DuSiX73//+6FJSGy1sYfDaIpf4dEjQA55zGHOer5xGqpY00JSt99+e461cvrdw91tGIunOMzKrse02Rb2SxF93eteV07S/1RS7ELGHlwJ1gaAM9dKzav473vf+6yMI444og3aSbZ1Uyd4k+yxk756EogyAe+kTP9RSn/L5SeycNFFF2UUz88IX+0KK6yw2267dTJNjZE4CQq1docK+Xrc4x73ohe9yAXbz6xQzNjDHTmEePkaEzCXGlJTVl111TkwoskEz5RIXAkP+yxNcmAKj6QkTQ2EoifSNIGjh+mnROlnzP7Qhz6UMZBObMe2J0eq7Ow1zLoD1kZZsMwT3NcN5qWrJqOOnjvvvBM3FlxwwRVXXHG55ZYLBml3HrG1A11fcMEF7gaV9Ky00krjVlAraSgBmMxmmydgu+2240YrIalC6bfy2Da4+NsMu0FbFiNLQahMg7ZTabLxxhvzqU2l6zad9kHpF8j4mMc8xk7Hb7777rubd5z817/+1WZcw21rqSB1l1+hd8L23fko6vLk05/+9DrrrDPcivP0/PPPD/usANDTTjst3AGGT5odd9yRv7huv3MSvidqSnve8umZbqFoFA75Hrzt5YdEsx5rSVy+i95K07Oe9SzJhUmamq2HgVZ9kKbJHD3lSv8wM0MRCFt0JJ/vvffeYcgOHeaRZAyAjTp6gF1xxRXiAAO860pIwz3++OMHMPz617+WyFvZO8vaS1/60kqwaQFMZrPNj+7mm29eb731SsZbUbLzi1/8ogsZnWzCgU3f/va39bjyyitPuN9m3eEvB1MfArib0T/FVgp1veIVr3jQgx6EgazOHCZ8Pueddx5dE1enRVjd5VdYLcG2S5+e1hBCv6LyCmMi5W/QyUIc5EILLcSRGioq8LYNECwsyu+nO4rUe4ccEHUg+YTXS7U7RjKFaIQHyEJhmeuwlzaokjS14V5qG8mBfh49Tj0mJzmNtujIgQiEHoAUT+L0iWw+JrBRR4/uZPFmFQ6XXnppWXB+edVVVw0fPUrhsZSXU8gqffXVV2epic2Gw/4l6cKuKC+iGYbCVlPZbOVCcKSEgPPCr0Lp/8hHPiLkt0MuxKByx5UCIlrGfSUGfuowgsJ///vfJ6W/wURI4RBYwtDolY3Q/MADD+SdFOcnoLwBwvZNWi4/i8E1Ro4Kwzkfq5y/rbfe+nOf+1x7whpgQENwp1Z+AlfAhDT6/Kd5ed20SswTBmBBVERLXPgUL40THnJ8dw5RW7pQNMnZkgs1fMpTnkL6RN8Gb0/fviRNU5yRG264gWmAq5BSNUUyxtR1D48eIz366KN/9atfscI0GDX9+P3vf78LA9+dmzxbrWxMO6GQuQbYWjbp5Ohx86lMR6b0M661eRGVf9sZ7eCgeMjByFdraMOEKW62lHb7/EjiS7wAonqWXXbZCbtFLFyhk8j9zGc+M+GuG3cnT1+cTEy+o7QbafUSv7baaivife211w6HsjUmo0HDPoT3TMY7GRls0HL58VcwnAdho1Rl5RqkzDaYnfZNePpY+gfwMALxqBhp9nuaPYu+o2I4Hsll4Otf/3p7SupicP1QmeEd73iHZ8WcW6SGZa4SSfCkh+9LX/pSJXwtgFoBCTZPthajqNXFBIAnFjwTKXElQ+6bNMk7dDWaP9LE/xNESQBG5yuzljR13ntAOJmjJz68x+WK01tsRTOt4FWvelW2+zmGmHv9164+lV2o8OjBc2585YbyEyoiH52HHXbYwCwre61+Y8zUi1F024mBLIQZXwTOxDbbgXG5Bcn0GLWKymL6XYWVd2jMygYNKSK0YSuAubdB82k1kXvAXVXeu/2l8PrOwz7FIkUNlH73V4dfTDUnSW8kOXwXXnhhCX9c08F4JrZyBukBGU4/xBckjlFBWi4/BgP7tdUrP0HptLDVKtrgzj2tKTYiwRIDhSNCCU4Lzw/mRcG4pZZaym+OOuqoAf6H5pMPDxUPylI1YKhwiZIxWU6M4yRrddFFF1Uup1oAMWrKLbfcIo9KIdRgR/ev58/cXiLT8grpGYfEqROibKu0k0oOjFXiSnrvoTTh2HBq/hyWJmVAgjSN4/2ZGGkaXh4uXTEpRlIv8seEGi+jVtoEjp5Ipf+6665j2Gajuf322yulchhAjlaYLBlxIYXX7u0WcfrppzfA1r5J4dHDMEpBZwsTSMOqy5TDxG6T5GnkjhjolB6vhngMJWL67boxkMMwjWuFxas3kZsti5sCNtm69SxxsxGFVjJDJEkWYihT+s2HKIs2Hddqa8x6tGonfNOoRWQhMP7yo5XgoQpkBdEl5lujRiqKOmgGQkHis3baU5vH0EDpV/9RLHiM8QByFWyYH3wf/OAHSyh3x8OHLbfcsnJ0quYFhM9//vM1GVUHbRhPpdLffvnJSQrbrnTkyoFMDECmxLD6e+qpp+bf4mXm9yzGMEls1ZIXJ0Zq6MjdLyu67DZiVXjhmLM48Nbtujw9WkLYq1/9artnGz27cMiVaoozLJRC8rHY5aNy1d5uzMbOJY4FKOw8MSWGxydx5QzpoTQp0lqo/s5VaQo3WEeVKPPGq3dUw0ppKmwoloP3r5IYyFkrwknh48kc1WQCR0+M0u/uQQ3wJO2AFbxypBmAfZJEs+5LwYpvNVbIwqOHw1YJgYc85CFhn7QROZoLjWKKo7D+xFCoPqm+YiAHYNrUCotUb+I3Wzci7wiFFSuktuWjY2x5oySlTOmnFggva8DKBk0okY5qiyDmGbYG+MfaRBBUeZF7b2eEJS7WKm+cdpmjb4nzGSt5JcgbKP1qhFHlYwiORx5qFcco/Vm/MTtpnshypb+T5ccdGWa5VzUuP/GJT3DTF86X8gjMS8xCo/RjlvXJl80N2QWqoH73u9/NyGY3UthOyhrDaszaGwdMuZqSxT2LhbAS/vrXv6Lh1ltvDVW6fYUVUWPo7Fzi1JMNJMUo/WOSuMqB91Ca3DadibL8kzRVTl8lQAOln/5EWZQf1SHyCRw9lUeVcil2tiWXXFIGS+XQRgGEbTOmxmXjLuo2LDl6HLiuN3b4wggrHXk3htMj7KKVnwAhDoRKsEKAxhE4kepNs8220kZZOVjnEbWzEGxkIq/JcGW0EMPxMNaP902hVmVZ2fOYylxQss9ba2Ptuj1ybHV5lQ83CpUgNn4Wf/UOBbNZFvPtN0LWtPX7UW0temqZ+lbUskpSAXtjVRb8WMutyEMI+0uHnzToDrHVRdXV8svypTrnT90R5eHFxLOjWBjDSITQKJDFmh7svgOfVeQ0Ym9o03vdtgJOnARaMTG6W2bNWbD23HNPJ0Hn9AhUY2YTQlOX1AF4rifuBU4e8TBMNeFBTUl13O5qEvi5cV2IziVuuuIWyeceSpOcQjnQrsGFQ0jS5FLkRuS0qqy4ErkGBsA4Hu0P3e6uU5cFQdTMnc5um4aCWpnmQ2OuxaUgL90ypxYBw8AlR4/LG1OpHX649FDAwxLK/hv5LLHoINs4HjYgeLhWmHQstVyVM+5Ej5rWAsPekQXZRt0Y6JqRBt3KO0clAIf+qNlq+daaaYsJRKmksASAMwTxJX4o3AfA10+xiO/IS5kahlwcH9mQV840W4hBFBa/c56Hrk/gLdzyHiNvqxkSckWDkbgcM5By5GJOhI4QV76OEM4BHpfyn5ehRnVUaT4ZaFhydW65/ATHqzvmyM+2j4FRiO+PYdf4YLyv1yDkUQmz/Ksx4yMvj9kCC+Ua+MRieuRUGeB2+K+0isLmwpT91eHKakiBy16H0eNqq63GMF/SaQPbZMDGnQ1/MyNchxKnGJrgKHacLO6IhSV+rXYocSVM7rk0UWfVGVOPIWZx5mFmQpoYoQqlqTBL0uFCygSpGqZ7qRhXxcrCGUSlk/+QLxUwzK660hR8fZEG3XLkEz56ygXnJS95SaHyE1N7XraYsGFWG37RoCowKUYeoHUXcDP4ZkcPTYlLLV5zoyUaOz43IJKxBsdULtbW28xZUAaEbGHKSI7CWa7etNxs21v6kS1GiNF8mP6R4T30yFFRAQ04O8kmd999t+QMc5ntQfYmPncWmnG8Mmbvsz5GvW5j4QYzqmK08UygomUbgcJb4oPDf61OxtcBPGeddVbogrbkQDLwfI1FSSQl/UYq/Wq3oT+rqqkjFoUzzjijfETlyDWvvJczlE5A6Y+fl0LIbHZGDYeK2bKLls25iWy+dZG4x8YkepajtXLi8y4CqrDMLGnGnnK9AXBJLdRCwngUIbc/ZFE3eWMShbgkNbyumpIRQJfS6Wte85r4KRiHxGW1sUvkrmStTkbp7780MWYLdo+fygDZXppoQvmAt0gCaklT3reWXySFxccceWCIjwMohGiz3djzs4blGbeR0iTQ+ZRTTlHQL7up0vu32Wab8koS5cgnfPTUFZzImQUm6bP8DC05QON7aQPZ7OhxqR6VhFpITHheplm5NizSlhtWTYt8FEZgLH/LqOGXqzctN9tOlH6yHy4zA9/I8B5V0plgK9WyvgFwprv7ykp0UaboiGrwSbBjZpP4nyWHdUh2cCqN8lKFl+cAjNpPhykRAvTRj37U711U1L1yURF25jBmSBaIYr8bCEVgsNQFt4DgbA4dsVw8SmyW6iBRYkJ+T+OP0DLzCAJxmWawFFxBMFwIGbZhlp7YGLMiA5wk4QsnU/434feKRTbGP7GGArQCtepghk7pBNnQ/BBK0E7xo0BvttlmdQnYdNNNs5Kjddtm8NxNpK9WczZCBFvSimJZ1RJzhRqOwiDHN89qP4cCcOWfJc29Q0DMHfmlQNDINeFJU2mnqnW9v7s42Xm1eeELXxjTcnwSR0sLvFLQI1CCsAHuTX2t9l+auB/zSfAxcwqmvTTJCfEASGR3GVgtaaI2DayHzHA2ql9WLecCjdxpa6n7r3DWkM5OyupSOwDv7HYIiuvjXrYPMN7JMmJ+Egns/ZOS54fK+50zR49gwmy++MyNWm5hfganfoA2O3oES0vMjV88QftqFt4TenEPtCrYmFSRcUlj+qF3sSg1fiqqD5stBd6JVsDGUfcYb4m99a1vbXPJm3xbjGaE5qCYZDEcpndsHWX7yTQeofYxDKHWy+KHUOjL3//+93wTWb9h/mx82e/BBL9eYa53eZ0TSCot/eLq4D/ooIMCKhsud2TonflHvyVpVZXIs1GEp5enmMgbMzWVMJkBafI1LitpmxYA9Wj4ffVKYphF89oGlWKfffaJLCogBiCISWEvwdLvKBowQ9riw8mRF64BDJG2yYFWNlJoyUKkeXgCEsemFVjU50TeJE0DC0nwtyiOStkZBmgjTfRs66TE0u+vInwG7O6hDKKvpGxOpTQxOxL8oNwbFAe+k+iKK67ws6AF9n63r1EHXCXySR4947P05+c6mJbtkw1WyKw3sTaMnb2mwUCCpd/HqDocRlGCMFK9abbZdmLpZ2goPHxHWvrpzfEPQQeuTfdjDtxiiy0EtwihniTl5Zb+sBx9kSRx4AZDvn12wNMtSCDECagcl7EaTCheefLJJ8sBCn6u7Kt8za58yrjYqFCHHHII62lAJXZT6HNodcABB4hl54KY7ryn3uceB+xWPLxcWLQco3MTVvLVayNWeCc5giymCq7n+SaIjnrhN92+A80/dvjhh0NLDYoxDyeJm3uLeeojGrc0Cb8JqerZlwVGN5YmypYYV15ltuqQeCOqyr/BPETjp9YLrHWRnjp7EwFT50AI0SxxCMdQqPAuv3EM5KzA0DkLH2MuU/ojU6d7wgI2AK9aUBRqxSSw8LmKSdewiUjjaDCWoPSP4tUTn/jEgDNy+xPLG+DzCSUDmyn7HEdq9ksmMcp3eNnBdV9GLz0j/0pRg0GFJnSsZZZZxgMZ4b/0LftsVh9ABKefBSA1xp8aJg6M4oC8FPdeUiNZjSkRmOheKzw83tfyy0ceZ6hCNGMbH/EAVSJVmCGE67hOyOOMoTlJXAyXEkxdDkxYmrLA4MbSxLDFs+25wOD39imxJdgvK5YgXtcv0+lTdyXMSXgWSdbPxosNT4SHeHJ0jjGHUiroYHhQI5V+HMweUKjkBY2Tti0IZNQnzm8UEnF7TsSSTyx+JQEAQuCsaH5hxIXfcFU+b8LRkhXMQjYCpAEwATIrxnSXwZRb+inNAZIGEIM2uxsM2E5CW5Vr/UuNYAfNsAmAU2GKKTS8/8UiwqzIOkL7F3wfU+uzkDAqPrcDHSvTkFwkDDaz9GtF728jaTEMSTCzxQFHdX4T4N9Xhyr/Gy7E+BG5wDP4uQlbyUEiZA263sdjiIds6RYb6IgBwn4ipFL2C7NCZX6q5kni4idrPkAOnKqC5vmN86JUcqoW8mdi0tRelBQPpH7k9bC8k9nogmkvnT7zQRBixkjBbbMYwpv0c+wjQXJshgc1UulX0i7moAoYHVfi6Uu+EjccF576kiVfdtcvnxKKrwAAxgC67/AnRH4gJ4nGr34fyrl1aOQUCx5/dOaN6DGLIGjV2RuiA02e9KQnhbtTZJVujsuAobC8a3joQUQytPmO7IBCgV2f5O+yjtA2wND+XX7C4yMNPqismKxiDwxsLTSYcPEIH59DsMJ28nHpdoInIZkiB4hSfh8gTULOBn7TgDxZVpmKM/XstEr6vSdABun99i7v6YYcu8ovSVwli+YVwMCp6mxyKOdFqXFwS/+lSRw8/1j+8uD0ydubgo2/q9MnHT2zLlmWSvur5liZMPk1xlwr53N4UCOVfmaGeCZS3PnjFMQY9YVstsKPpr5H6ec15pjJ8IQ13dfrlYWfAJ78cPBC1IrEICE9O+ywg1PZ9iG3z5N4hSb2EgJCYE/hjcrvKd8hUEyOCOtF5UAyJfuaa64ZBg6vfjLth/IIw5+sFDVPzAKrvIrXAFxpKBOV/Q4DhODp7KEAPw88EiQyyk0puFlbfsFpWxh/1hJzr5rLP1NeKUvzQJuQFb8ZyMQoodkNE7ySUHkY3iG/bGPn6JBLO+64Y34TIFmuo/nfZNfaUZ2O2hzlroSrtRqgHRLcOSriJjbP5UcSpIorIVUg5puYxGUxEjMtcS2lCbdJzXB1C9ua3xe6xWMmsUOYgVOVL12UTl6USk7VjIwZlSazkz96TJPpzr88xd3nEGyv9M+TowcDrWpK3cD6pCcMnCajFnB7DB2KxjAq1qVRhtex9luJfIqbLY13eMb/r1I3imhGhcJ3OisHOS0AAS2Wry07hgBXFKeyOoZBM86+UZU3S3CWK/0airAPETL0oeEz5mMf+1h+70ZPoMEWPxCZw9QRMsEHqll5n2h4ank2spcjI6V6YIwCn2y74RWC8A3YWhR3QmEnNf6C40KVhsI1GjOhMwHjIqdyq1WXncSm3m+yukyVo8Cf7bff3uSGYDYfo7KLIpfO5A0JldQ2AHD/kQajzuBwWBoDf1geAzLboJfxNXGxdw1WPJfrkl6St01Wdjoxicv8hNdff30lVb0FaClNtATeGNWcBgSHAUq2aB+U/vacn11pEhbLcZ2Z0hw9ztnsKT33ao94CP6Jt0uOYuY8OXrUAXfQiG7I8wEbsRQnY1ZaewwxvTSDIcLEuYHy1qy7Wq2muNnS3wqju0cq/fg4W0q/V6wRbMsunBKWg/BsW/iCY7RB2eNh5GGplQQFqdqh+CsYV21x9oKSqf4hKVZ9QCHL6hkrgBAwqyISXtxwHq+77rohnsdcMBnKNfGzgIF8/WMV/Y2CwcMDBXlXDnMyx0XAGSoe1P24TdZcc02pAoEGqfHcIJmtRU161xW1fWIeoajsOrgL1GSkBGd6v+Fkqm0lhpkA4FUXbcXnc8wxxyCYUmjDVZxLceVI+kXcCe11/skQlXxiYXi3wdGonN/wc+KROHsFJoeEdOy3337WHkkJmTCqJstWV4TEzyoSdCK24xi1Muf0SIF5ig6p1YtU9+38V1w1+X9JmZjEuVaFAgMSo7PKAf4rU8h1ZRycGQfOltJEXmzLokRsrRl5XB+iyDwuK45xHDRPGOfsStM666zj3qVwXOAYJ7MCnUHFt0S9DECXEsjanp/z5Oix1C34AY6FbMnIAOD2GNpP1igM4RHJfir9091si02BowqRKsde8hpZg3qoE2gStGGJubbyrDt7hIAfrOf9yUplh4J9oeivz2Mf9pfw0cVrkcrfChWFuKQV/dULI/klm68f4vTKV3Z3HwhPBYVP+FMoluyjFihImu9IHVb3hPBXFzsquDeAzF2mAh544IGNa83y/XExi9AIsVvw87Fimh3Z/iv1uZxRkYVsIaHVZWWO3GpYsl1jggvF9BX2Urf4cSeFb8vHG1NZnILOuGIemYTNrNfT6Ii11hvg8IDU1ltvLW3dD1S3uhgmBl+3Tr84+FBKP/vyW7kVWPIuRBhUTJ3+wrfGrRCdumyMYk558W9+qsKiQPmxuK6Uc35iEmffCIQRZDGBYpCCRWrbbbcdReGEJW4C0iTLXMJVMPbnF480jIkJSHxHDer0t5emmDr9kscGRhGWik/0bDNp0irU6XJu2iFJpQr07s8sWXLzLFcpfCWsi6/TP4Gjp67gxC+JPGRlnX4MxE85IaGVyFLeyDXWWCO+u/YY4vuqBRkCPr1HUatVAA51+gufOSrHFq/eNNhsO1FXxLRTEoZHUfyEDbhZVPqRrWw8Rcos0nol9YY9i0Kp0jwzWzb+sHwvvvji8Bth/dnZzLZda+nwPGo7vPENI3G1YK7I0qP5JVAoCIcLZhiYNy1vbXI2K9LPHzcMyeLrriLGY+ARaaqzgP6WC5chcMUVVzTA4PZBhl7WWmutmPHGSwUihalAm9eQ9MhHMaqjujtpJ1JUzswYNQUGxxVVA3OosG5TtRZbBkyY8QoSpmW3xGZIJtCKC0sNqFodEYeTTjqJBW5A3XfVtBorUZUr/SHBxjV7GE9LpV+J/fzqLfy5UulH1cQkztQMeIeYD+hYozg8YYmbjDQFH2y2rlzIlT8u3JArF964AYS78K/W7aWlNJUo/SHBLM+9jLZOlH4BxqEAdz7iwNXULweerRzmSbzSP4Gjp67g1J3iAF+p9HOk0z1kSAZ41kNzV8uw2x5Ds6FVtnK5NRbBz5WQwwCh5uFYlX6d1t1sO1FX5ovSj7+usPQq4WsuADamu+66a3imPWVlpo877rj8n2gnfllX6Q8R8wLrIxecDYsiK4xbCdHKJizrQlw4N1mIK4Htkg4GxhX3kJKnEPN4IvVyQiWQmkkM8uBKi/kikeebUl1IAAAgAElEQVRRubLTgwViiW7iai/ppe5O2okUxYy6Ekb80vLLL2/NsFc11tfDlt3YvFFJZB8AMCesZ0b0+FU3PspraRItyZiMxNkx8DZInEpc5auxnxLXUppEvTNkiLE0X0GLlU/Scu762XxGpYklnunKvHivQ/hZJG8biOr4jp66ghM5xgZg/HhWu5hJbZk/XPLr7qvtMTQgu7JJMLxynldCdghQV72ptdl2oq6MUvpHxvRXWq16C2AyqFNutJtvvrmKH+FRz4EvFMlxzW0/CrYHJtvIMvy6c9tm72e2z4J2SmhQ6oQDTiZAzJsJ4pdcW7loRN7z3LUfWobBGN0i5OxCXuvts7o0KMHE3q/4CfdCZKnWul1MHd6bU7I7jFEsh8NpFD2FxbYCsEfvWSjlunkEZ6+99nKtnfqgxkEAsQrrOQREjaOL3uKcjMTZMfA2SBwLd75eSm85M0BYS2kSYqdws8gZMSScq9yY1JpZGXstOmdUmoL72nHmYqZsXa0h1wKeD0ePioU8P2ydoh6YKeWDFe6rwXJayL1IDLU43x44ZCKNdXm0J7I/m+0cVPpjpsdlwFHHgn7CCSdk8NZ6TNsBGEq80vUzlADXYIwcDraJWqVIGvQyH5pIjZCo7frkB1WYqCwhJ2Tg87yagnQSCoc3X7v2lltuyU3EkeXWKs3a5bbxE2zzgeezOMYkcTGz1l6a9CJrnDlZsLiYYKYiyl9M1wlmYhwYKBU9sX7nXkdsKNIF+UxEm9B2CgtIMF/K4mN0KHxZKAbD5PlG+3JcKmg7+a5nsce+KP227/C8Qv4bq9ElPPEtlosnRRywJGC1FE3hQGR8zKQyF8Vb+mMQ9g3GK6o2i/xDXZEUXnXVVTIZfPkiIZFtC8FkNQSEhbpyG8wTaMuDTF9ntbLnWufsixysVHaW+4HeKfS8gYYpEmzgT9J2jV1gK3+RGHEqi/AMKSsToD91MTEOJImrZHUn0qQXpQyFOnCF43lkJZNK2hJAhxzgzwxHc62P6yacFD6Xulpt597Rk43IeWGdW+2SwVRZGB6pw8XDLxz7HAKFfKjE0J7VdTFQ+ulgdVu1h+9WvXENu+iii8KKLa/z1pbyUUFOE07kDRVkWUAtqeyjFXUYgzWMSuAstSnLrJU46ybQIMya53H11VcfK6ljQl43Lq0WGVKL+EDC58mwWm1HAbubZTjlZ8fkRQRUnQTJtRwCGiSlKeyY4VG+02/Eeg1g5oAK0V+qquX/JGyRl5CLIFulYprFZvDdC8tuSV5qXs6BBoHCE2bpvJK49tKUzU54KENQ6ITnaz53N1Zpsn9mx4QfVIloz+rGR09/YvoDE9T3s9rVFC7kicuSAwUAvo1iWjmG9qyui0Fxc7tB3VYt4TvfbF1NOViydXvQQQe1pLDvibyhUH1Jha+W4y9pLnhajLUwicZdKAnKGtG4+RQbjlXpn+K4hrvug9JfiyHB0JK/IdRqnoA758BY1ZTOqZ06wl5JXLk0CewhayJ8ps60+UPA/JGmXin9HMjKYS+22GICR0ctNhYl+swoO2YMhgkvYy6Lfffdd8Kd9r+7vifyMtnadi21tp6L+u1Z+gWutOlasDt32Hg9MvXHlVrMLgd4YEVe2pqDTSV9iQOJA405UC5Ngus86SiUf6zRpI2JTw0TB7riAD2VgVLBLo73kkdFvANDn5HgPtxvJIauCI7BQ3VUQdEVJQY4weBAX2L61WdEDYuLUBlJ5cwAisLOygxZcETIsxezQnCis88cUDpWTU8bmbe3wgtl6UscSBxoxoESafJGiscfllpqKfWvuJr7+aJns1GnVokDeQ7QpjbZZBOB77K/FPcbeCo0D7n77rtTwJTn3nnnnZthmDDnVdrNYpYm3PWMdtcXpf/uu+/GQaF4ykV7CN1rr15KE/E8E2x1WsiqnFGlXyz4Z///b1a4Hb8knOVhaD5hnfENpwv517/+VSFFb02E56LS1x8OSB7NVlR4ESZ9eQ70UOJKpMkrEJQhzzPbA6WTpamcMAfmtjSJVQ57hRDNCTN2uDublVcOVACnWUnVLalWwsbvAuxR6oFqnvEYJjxYSr/wnm5rlE94CBPubgGXpMIuPXy9/fbbh6ewJ/B5VvaKK66w/8pTFGTvOUav5JpIofb5B/kmQEmzLiQfk5PwvNcMfeKasnrwApxiXhWdodE5y3faaaeMYK/YHnDAATNEfyK1VxzwSNCRRx6ZkcRRXugB7xXNEyYmSdyEGT673c15aWJZF0iTTZDCowsvvPDszldvKeeU4KwTDdtbCqdFmBNKvMDpp58+QEBflP5hvtBHyQyiw/vSPf/UWlJVXfCoerE9JzWRlziQOJA4kDiQOJA4kDgw0xyQc6zM3bHHHpsScobncZTS35fwnmGKRZ755X333TcTi5JjRPj1JZdcMhPUJiITBxIHEgcSBxIHEgcSB2aXA8JD7r//fiU7Z3cIk6e8F0r/vffeq1xa/lVRsaEXXnghNVrt5MkzpUGPwvo32mijs846q0Hb1CRxIHEgcSBxIHEgcSBxIHEgngNKv3hqqU3pxfi+5gxkL5R+UUeKpq2yyirHH3+8OBnOGmZ+CSXcEx4unRVeCxln6ZecMCsEJzoTBxIHEgcSBxIHEgcSB2aOA14MUPTFI/czR/l0Ce6F0r/rrrtK62Hv32233eTyqiflcTL1ClWTnS53avXuXetFF13UKqzVKgEnDiQOJA4kDiQOJA4kDiQOxHPAQ9qeGEs17uI5FiB7ofSjQ62eW265xftW11133c9//nMPprz5zW+uO5jpwi+44IJbbLFFivCZ7iyk3hMHEgcSBxIHEgcSB+Y2B84++2wx1ekpm7qz3BelP9C9xBJLrLzyygowzUSZzmFe77333gcddFDdOUjwiQOJA4kDiQOJA4kDiQOJA5Ec2GWXXQ499NBI4ASWcaBfSv+sT4yHBV74whfO+igS/YkDiQOJA4kDiQOJA4kDveXAaqut9qQnPam35PWWsKT093ZqEmGJA4kDiQOJA4kDiQOJA4kDiQPdcCAp/d3wMWFJHEgcSBxIHEgcSBxIHEgcSBzoLQeS0t/bqUmEJQ4kDiQOJA4kDiQOJA4kDiQOdMOBpPR3w8eEJXEgcSBxIHEgcSBxIHEgcSBxoLccSEp/b6cmEZY4kDiQOJA4kDiQOJA4kDiQONANB5LS3w0fE5bEgcSBxIHEgcSBxIHEgcSBxIHeciAp/b2dmkRY4kDiQOJA4kDiQOJA4kDiQOJANxxISn83fExYEgcSBxIHEgcSBxIHEgcSBxIHesuBpPT3dmoSYYkDiQOJA4kDiQOJA4kDiQOJA91wICn93fBxilhOPPFET9NNkYDUdeLAVDhw1llnnXvuufmuL7/88v8z9G277bZ5GP/9y1/+MhWCU6eJAwMcmFe797DArrnmmsMCe9ttt2Vcuuyyy0444YS0bAo5MD5+vva1rz3ooIPi2V4XPh5zguycAwv897//LURKGrfffvutttqq8y4Twm458IIXvOBVr3rVO9/5zm7RJmyJA33mwP333//sZz/7m9/85uKLL57R+dnPfnaTTTbZcMMNn/GMZ2S/XH755d/whjdk/z3yyCP//Oc/v+c97+nz6BJt84QD82f3LhTY5zznOXfdddfAtXzfffddZJFFwgK47777yO8111zz2Mc+dp4sichhjpWfp5122vve976f/vSnkcTUhY9Em8DacMAZ9+Mf//j0008fQJKU/jZcnX7bn/3sZ0972tNuvfVW/06fmkTBXOTAP//5z3e/+91/+tOfXvnKV26wwQY9GeIHPvCBm2+++aMf/WienlNPPXWnnXa68sorX/KSl4yi8957733Ws5513XXXLbbYYj0ZSyJjfnJgTLv3V7/61XPOOefBD34wsX34wx/eE94WCuySSy7pfn7FFVeUEPne9773j3/84wc/+MFpDWQe8hPDbY8Gvvrqq8ewvS58DM4E05IDo5T+/2HpL/ycmp/4xCdG/TX9viccOPTQQ1dZZZWeEJPImHsc+Pe///36178+7D4PfOADL7744j6Mkan+MY95zA9/+MMBYg4//HB03nTTTeVE8lzvuuuufRhIomE+c2Acu/e3vvWtTNFfe+21//a3v/WBw6ME9iEPechmm21WTiFzw+Me97hf/vKXUxnIvOXnuuuuW2uTrAs/ldmcV53aXrbeeuvhIc/3mP6rr76au58DUWSh8MGWV6vJNz/jjDPyoQuTJ2AqPX7jG984IPd95zvfmQoZnXTKji40y/b6hS98oROEAQm/Xp5FlPVmyHfZZZezzz7bGsNkPnfBMyJqmqHqsNXnPve5Zz7zmcJ7BnAyOPnNpz/96e22226bbbZhI/zVr3413O8OO+zwqU99Cuc7JGl2USVpqpy7rqRpoKPOd+8f/ehHQj0f8IAHfO1rX9t9992/8pWvbL755u7tlQMcN0ChwLqQiFEhofvss48d5i1vect55503HG/8qEc96tWvfvWZZ545biKH8c9nfrL18Bf961//imR7XfhItN2Cjem07ZbIsWOb55Z+PtCMxV/+8pdn6yL4gx/8APE/+clPZovs9tRS5h75yEdSQMPnbGuPcyoYxmdHv/766zP+PP7xj69ls8lYsf/++1tg2v7nP//xyxCN4Az+3ve+NxV2ZZ2K2j/iiCOGadh5550RzC74ohe96BGPeISfCfgll1wyDPm85z3v0ksvne4oetJ7kqbKiehEmgZ66Xz3Jp5LLLGEqIzvf//7oa9DDjmECIiYD/I7xa9QYO+8807kLbjggiuuuOJyyy0XDuKXvexlNLMBUi+44ALJDxOmf57zU7UDllARPpFsrwsfibZDsPGdth0S2SGqUZb++R7ew3XIOij20XYzc0r/sccea4vvcJXMCipqyqqrrjor1JbQ+aY3vcnCC3Z0CakPfehDmV07H5fSCg2UfnKx6KKLvutd78rT89vf/naFFVbYbbfdOieyFkJB+XL7hpuIIjj//POD0sCOKL0s3AGGlZ4dd9zxwx/+cK1O5ypwkqZaM9tMmoa76Hz3FsL71Kc+dcAGpPQN+8jPf/7zWmPsHHiUwIrm50UJ3aE8RJAff/zxAwT8+te/lsjbOVXlCBM/V1ppJapRPNvrwsdj7gRyMqdtJ6R2giSF9xT7TJgtH/3oR1O2xu5SGUMHbuFrrLHGGBAnlJPgwNvf/vaTTz6ZOi7UxHYpbIahbv3112eom0T3VX2QC7augw8+OA/IaSAi7kMf+lBV6/H+/Y477njCE54w3MfCCy9MJxPe4E8LLbSQ+mOhPMhwGQoD8fvxUpmwT5ADPZemYU50vnsL57vhhhuWXnrpfF98XzTmpZZaaoJTUdDVKIFVJDArQYFydXs0vuqqqwZQkFbmuQnHKSV+0i4URYhfOXXh4zG3h5y5/aH9kEdhmO8x/ePj7Lgxuws6Njg9x91Rwj8ODjjDPvKRj7CjH3fccQsssIAunvKUpzDzP/nJTw726T58haU/7rnnHkb06ZLHeB9iAyo/HiEwCv8NQGqeigBWcm9WAGZCmvLMHNPu/bCHPWxgyv7xj38Q2KnPY6TAlkir+7xokwkPZJ7zkxLPxGMJRbK9Lnwh2nGE3c/c/hDJ8GZgSelvxrfpt7rxxht///vfJ6V/+jPRiII+29ELB2S9veIVr0C281vAgCRalQHk5zUafdtGHCPf/e53B7CoxSliRyRP9nu2/AsvvJAfbzjllztFWH9bOibVngWXB2OdddZxBk+qz1nqZxalaay7N6P4+9///qc//ekWP/+hUlcvf/nLpeiETPfJf4UCKxLPrpInJlTgVY9ugELSCsPkyc56nJ/8pMSz76hfFMn5uvDDaO3ejhUBh8LS5KRJx4rsuhxs5vaHTkY9CklS+sfK3jEiZxVWQjFmK7TRK26oTkJjahhKdXfMMcfICVNpQY2FSDtr4x47bNh++B0Sk0dVaEeXeDp5g1blABUDsdJkvgqa55d40IMe5LT+5Cc/Oa1IJMRIJh4g2yske+yxB41BTPBFF10kZprh0EIVmzvAUkcL+iUnVA68cwBiqGaLyIEtttiCx9mLwuKtK3sB//nPf/5LX/oS6asEHitAkqZO2Bu/ezfrTrkbq0uUPG1VnJskS7XpXImVyGyGsGWrYYFl0BXZ6OItQcibegThjW98o2BCrs43v/nNA9259E73ij4/+SkqTKbZcLTVqMVQF34Yz/iKxc3QadtS1qqbj8oYmFd1+lUCwanZSuRV4Ew0ZEnCxy233KJwocqGIXrEv55BoajVreSgNg5b0cBKEjat1GldVJ2kp0ASk3rY1fDzNPMSKkwmPrVyIFbUYf/7MTaXwLOjALz88ssrcYrmynD6Ib4Cd8vUQ7OsvIYFIAHG2ewGiNTf/e53wpPEyleSPQ4Aa7LweQqPc+Xf4hUKfOKJJw4ToHCKzMJxEFaOUy3RYVEimAKvxWCUtH3d614XBHAcj3LMJWmyKXkEys2qfCIUIvTgaCZNFOL4xdBSmkJHlbt3PD3DkCzoYbVstNFGIYWX6s9H5FbcBm2btoUCe9ttt6lhkN1DCALeFm4pG2+8MdlpQ0CbtvOZny996UtpEfHcqwufx9y4WFz8aTuB/SGeV+OGTNV7yjg8i0q/t1F5bEeNSoXdULLQxy4rIDLT2j1ZGr/aPGOkpFpoS51S9VkdaM6y8Bsl4eJRdQhZqaZ0NfwBml0L3XaC1lv+ccIwJOOVz1uSJcAHHnggTm655ZZVKP/78Y9/PCB8/vOfrwm1u7JJAGipprAXhulW+Tuyx3GDUdqsxm9/+9uFHclc9OAudWfUpZSSXVjxc6xku9eFDGMfk5gZ98KxWKnwGxd4gxpFQLjBcnyrHdk5kXNGmhiPg4GjsoqxMGVvCQVpktpRq7ZVS2kK01e+e7ecYksLE+zbwttaouqqeYnA2k6VwxetJzyvsDvPcsna/+tf/9oVMXXxzGd+8u0rfxzPsbrwGeY2xeIiT9vJ7A/xvBo3ZFL6yzg8i0r/sssuqwRV4aiywF8V0LzKFLbLW2+9da211goaRmHl8mFUzDMBXunGfL1euzNXLDVlWodKuZrS1fCHGSJQhCofI6vxj9cGX3aM0p/1GyJbJqb0Zw979aqwvZJHlW95Fs6UgB850zE3t5iJjocJSYpEiX6TtWKCVQpJvqB87nhU3ULOGWlSTzbsV5VKf56BdZX4uvCFk1Wye7ef3LDSJl/YvpzyxgK79957H3XUUe3Z0hjDfOankp0ifOJZVxc+j7nQ28lrV2INCc0jT9vJ7A/xvBo3ZCrZGY6D/+fj7pTt5GOE8wcvj4b/sqsVQPfpV5YL3yjdpZAolmDOa3ZZmjpTVihIKqmLm1Jdfz/HPP7KSmq3BcxLwKT64he/OOuLjsLqLM6SBjOKK8hTSV0saSXbjEXAjCgXiQedPJLayfALyb722mvDAdDhJ5+vQ2zjQJUl/3U+9jbUirO66aabLLO6SEQ277nnnhMObnZ0hcxjBvt8LgFzLGLYMhmb6w6kHD7IlIC0lmhnSJr6L0phLsp375bzpXkQ2F5JK3qaCawkIuGRw1H+7bkUj2E+81OKhZ2E3TCSXXXh82iHw+7/8Ic/0Ao8YtNJeeVZ2R8iWd0YbF4n8jr+ZTv5QpK40gHhvxZZY4ZqyATbJms2puvf/OY3uhil9MMgPE4ioxtwHpuiK0Lu/Ia+XtmL5KqQpkkpedKTnjQMX6g22R+pNYK/PRPDz+AHDoFPfOIThd1hFF0HjEBnuoWS6q4Tz33uc9k+WzKw/fCHCWYbpvTHZE5X8pbtnKnP9LmDhQI4IlbxIf+tvPLKlXjGCiBzztwtueSS2YlrGeQp/MxnPjNWAsqRU5cJbINbomUWXmmZ5EfPC2WFMmtTvvcsXi77pXdJB9ZD+O/hhx9eSPamm27qr2eeeSarmGxIYwwypWyLf71/1GawPZcmT1uwaIgAyUqZSUEZ4N501+oA8yt37waTRRakqVC5BIx5XgMG9U96tZ80E1i3ViWMJ3xFD8pA4ic+WFH+zSI8K1dmXfg8wqAwhLxh9kpppYsssogsptVWW81Byc1e2XshwMztD82GGd9qXiv9o2KCRa7HczBA8ky5LVi17OK2XcZ1B7kKVhJHxlElLRTPoZDVpTPcmMlSZUPRw2BcG/baa69K4ABAJ6bLfuxjH2PgF74cepGYJRZI9QPqSB4P4wEvhJPp7rvvlnCJdXKO6UaSLEOW2zjKS8cPPyMVPW9961uXX355FxIam1uKPYirOpInhWBOMlZqQefmMbCF8opp+Q9b2nTRvi0Ti7mjoIjmCtgGKIyv39yemEIMriX5tN3IXujHSiRFAheCsT4O1w4qR5iVDXUBdqfN1xUtbMjENcDt8N9RLyRYUf5qrcoT4GE3d9mDg+z9rvp///vf2wy5sG1PpIljllIikSPzK9o6+rZW8wxsvHuXzCCcN9988+23386SElaXGe/VfoKkBgLLMiKmvOXSbSCwiZ+B5+ENxPhifXXh8zMbNj3/qr1mH1MyLvsrxaDxA3Mztz+0XO2Vzee10l/JnUgAYTMUVnVCHK5ihOhzPrmkLE+sFPG35MjugAV32/DTIeUYmM89+wrmhS98YWVfIcaJpA2bIQvbUkckGtod5A0LUKazOn4cQjR78Fy0IXEi+4QYBY8KHYhm6X6PacYlcIi1gC02S0SuJDUSoNbw4XR2ivVicWd1UGWCuq/4HQcIG6oQfPnQkf0Og6mq8av//Xg2AOR/E/7y9a9/vTH+ThqKnAmUcBkFhJZERrYfNtxww046mjkkHIOeLKhLtqoy0kydXu607sbqima3qWFUqnPmWe1nbrrKHkOk4lZbbWXuiBK//Gte8xqtKMTKdlU2rwXQH2lS/jLwSrhmGIJdboB7vVqrzXbv8tkRzJkNOVhbbaF5Jkx9P6m1uroFbiCwiZ9hCoKOER/eUxd+eKJVNHYaSnZSvpNthV7hGsAfvt566zVbFTO3PzQbZo1Wo5IJ5lXJzjYZFZaUKuBcSMwJbfDUavvFL34xKGG1WvFFaMV4H9OQXgKYchPZhayRsOzYMvNNSG/IB6AxuwNkf1J6PMAT6YEuNCkvBlpZb6SQ5lrDh0FKA5e0+kUhkcgT8YQiYBZBgXI70SjmRKYWaR7CePqcyGsXDjNVXlYycp3MATBRNLJZGgxEEFded+cVVHefZhaDiuPbFFh4hcDCgfzVpULIYh6AcIVjWMGiUb3MGWliWQgLteeJvM1275hFEmC4STHB0opvMrchGwts4mdwODMZRK6QuvB5tIL0gvwK7icjkT0CizxtJ7M/xJM9bsiUyBuWU8cfW51HdkTNql+eL4tZ3o2T2PozJY7bK6+8sgFNDWxFzNUhIFiEbkxQRJDe+EGFUj+ePg0FzrKP3hyi8bibg58hfBTo8MPaa6/t4aF8+IEmofReh1/d4fMtckGoSSpYIjztJHhJYE8gyY1l6aWXbhnk0+HoEqqZ4IDIIvHW73rXu0IGPF+2cq6yX97xjne46LYfgiu6p47yeMT0h9eIf/GLX7THn2FI0tSGmQ127zbdpbaJA405EKIES3ySA5jrwhcS5rkV4T2NaU4NAwdcKgpZMU/De6iYPOAlH4d4zNK54oorWK+d4vFRwlLKWGLEuDMhv/Od7xQR5KiOqXKTpyccG1nYbiWpRupywnxOA9BpJTyAJz7xibV0hZAcLHBoWF+X2xBSivMJxB4ZoE8D5sJTBU9Y/zbbbCNQKn5/iRlFgGkwfHrYMsss87a3vS1goJMJRsoKYshY8LMg2ngaEmTiAA6oCs9aTwX3tJl0W7+RGqHWlpic9vwZSNwPCEmWf+Md9JVkJGmqZFE5QN3du2V3qXniQGMOMHiJ143fPerCDxMmaEKhp8YEp4Z5DhQaT0cq/dSaymyz6fJX0AVtm+o86jvvvPNGUeg1ENGuJV9kBb1guhbNv8mIb6BkHo3f45o0SHdZZyclmGVOsE3dYjW1bEWuJa4WrjGC0XkYyHDMxFF5g7ocA0xTD/nKQcMY+GwEoVToQHqDiaNJ45zbi2uPkFzBfCAFPYt5iOk3BqbB8E2QAov0sEyLsmDwPLP065eAxG+FMXQmmN5yYGCrkbfDD5bfdkq2msJBsREockX8pYgE0TjrrLNYEMbBgeCn6upL0tSek5W7txeCS841fxJK2p6MOYyhc4Gdw7yqHJrTudZJVxd+gIDGCbuVA5lvACz99ZR+6k7PlX6amXj6kq+k3L7Ci07cki8UUqz8VMngnRf+LpF3+FPzKx/Cy73Acix2RUjPDjvsIN2KqU8M7o033hgO/vgvTE32wGdJQyXAafyOavm4HpQNOV4xX1D6FehQ/aMSXtxwGKnIpWFg1IZCH8PyrLieyCgFdC+44AKlIfHB/iKuRrUcvK3stxKg2fA9ZKZAZ0ixDR8muDKF0gThc4EJltpOvlGeuE6QjxuJPGzVXfPlhliv/Ubxn5iuCTLgYd+ateT34yjiFENVHmZgq7GxqLaU33kav+zhlptdGPqfapmkqe7KKYSv3L2ZWsqPtrpGojwZeidWA1VcuZ78Ml63aynynbCxBMn4BHa40/bbV3sMY+Unq0Etw0Fd+LESX4h8pk/beHaR9OKJG5VMwMly8sknjzvVYNbxK0ZJ448chUJUJkwdmEj4EjBlMaGqTKykiwQtXxagp7Jq9atkZ7gmeq8+pmEokq0o2zCw0qhhpQ7k+A5DuheJcg4rtYRRkamHjYev9CECVNPPKHRJE4OU/dctxT1HPZZRnIlMLdJ8zTXX1JcaRzFMDjATfpG3MpGXudoQ1llnnSz9OjzrdtJJJ8UMyjJ2I3VnHsjeVjnXtdZlIAbJJGGa5QWOyk33+3B75/QrGUVMIq9NexiDdQu5ZTYK+ZyRpiw/yhU9fj3UfWG3LvwwJZG7d/wQBoN5zogAAA4fSURBVCDLE3ntsXZpe6x7RWhI45e7FaokR3baUuQje+kKrJnAZr2X87P99tUeQ1eMKsTDcq8sWHwXdeEzzCGRV5BFfF8BMvK0ncz+UJf48cELUS6s3zAyvIcDehylneOvKTMBudxyyzGZFJq3h+kP5sAGxf6GUYVoftboEi5dd911FHHF4L0bIHIgH5oSw1s2+BBnTPdVgnOgCcv9Zpttlg9qDyV6hOvIyh0APvDAA/3GMaMYf/YnZmAG9QFIoUf0RTkAft/yRaE2w7fLc8jk32ijRuQZqHI/Xa2TOoDh4TPXjIF3DGLmqCcwzNW8NOotHHPMMUiy2I4++mi6UeQbWGo1qM5mLYU38sInWowJfIMNNuBg6ckw25BhtUuScUscdp8y8Iep7+TdtzZEjmkzmZg0ZW8IhjdGevvF7N7jI94eKz4NDbK8BFXSOSRTOUpoxsNPoo4io6XIj290k8fcfvtqj2F8o7Y8uJXii4PXhR8f5cOYZ2V/6IonFPjCV+1GKv2u/uU6ZVeUzTQeBlrm8D322KNwFNx2ylxkfwoPJWYBNqGAT/jqnlJBCEucvOp8i+phkFYnxIsBZpMOnf9iMpUPO+ywcD4pWrz99ttTfIVtqL4vIEehSWil2GeqqoKYQahU73F+BOVG7Cl7bVDmKMrBZOLjR5bKLKvYtV7oUZ57KA+eAU/xNV4bLYfvxssyyucQ3k+VsSAEK8viVbeerU4MUjacxnRqGDwkchgwMGPmQKWjNvgn0/aoo45yATYEc8crQlP3QkV81yTI9uSqkDVRJE6F5uwx4HhU/YR0fyZx++23n3UlfD+kyhggL4qSPn4moZ2YA8Yx/FmRJteqUH5AYnS+ZoCNl+1jHJxphrNy926GNr6VjcuriDZecsef720HZcrq7rctRT6e2v5Dtt++2mMYE5foGPT4eKW/LvyYyC5EOyv7Q1c8ocAXX+NHORdU+VWXcHyuhzmDmefLJFFhmSqzQTlj1Km0yDjus6L4WAoyCxqhG2WzS7+sxRDbtLY00cJWzMaFdTzyiymyAL+gIG8iZg3zWQTiDQQs5QlAVVbi02oLFr7QVlUfKk4GzKEcKouHTytlT8URifEIv/HYcL6o/8AwywMSOhm+zF0PC7ihKUVqXAYijJUNWxALl4UKSOXzFelwhARbgqbiE+UiD0SqQLhrWUWFvfQtvCcQKQeD4m7geIVptdYzYMZ+Q6arhYauEIqilj/XULeLruAbRAtYzPkFb6T5cxTHSt58CGRPK7xntqTJk2dBlAipaAFmhWCJ2HbbbUfNft1wnbrww/2W797tV2lknX5vKeIMgWUeYp9q0G9LkW/QY7MmDQQ231EMP9tvX+0xNGNOeSs2PovEAyORyOvC59GOO7xHXxPYHyIZNQEw5lc38+GORlr6FXgeqDyTVxnTzxkHWO/Ua2eqp7B6RNYxQ3WjLLKgUOsd9llR/PBDsPf7FPAxH6rENGBm0BhGuWJMnETDBmiHm4hpQSEz/+KLL+6vwRRNR/c8nvgZanq+icODrizoxUHCOi7VldKmRiGjOI8HHToDpuZeeumlauG7LEne5WV2u3AdcnECJlMCfOaMqzuQToYvVcMATaVnBHwGgmYaP18Hj0f2Elld2obhjddrxGuttZY/odyzxNQs9hK+FI6a9vgnhsH6t8ItPPeWkKhQ63MlpqhZKlpZDPQJ0UGdP9dQi6RRwCLfQsRa/GcxS6OX5MCxk3+0krpvUbnFhadzG38hDSayMFetXmZLmmhOp5xyCosDLZZj03bEvuAsi3nPuBZb2gCX795tMNdqa+8FT2D50zLrTC0MLUW+Vl9tgBsIbN3u2m9f7THUpTkGPugY8Zb+uvB5GmqlC8cQPwwzE/tDs6ENtxJnscgiixRgG3XhUD9RcckJXEfmRhd0QWqKipwuAFdffbWQ9+Fx+b0JECWS/1NQ+uta+kO8O715ktxj6ha3bZiV9lfRKW5BgpVLrPV5yiVFAJZYFqqXVg4qMvWwEk8MgCEItmamlQYUQ1vAGW/pz2hgI2Egd9vBOhHtJbRN2NIfwyUw4f2HkNohWmBUq7zDZwBGeWaBVfhA3XcX8kNk17MFRh91tbOcwu1u6sTPPWmiyOJtkCamh3Izdl3LfV344fmdyu49QIbNXOSnEm2KLDPo3HnnnYXr0FZvMx+1RCNFfuorfDIERG5fs7UBhtp97F+RPKwLH4m2HKzuaTvW/aGTEXWChMW2UEX8v692FX4iGRilOuk7Ick4EAy6fEzZb0I0f12l30bMNsOmNT95O0k1BYfFGuWnLIbndbehGJwZTA+VfgqWBcnJwxf0ohe9aFSED7cYzjAxFmoS4QKsDLlQFqkgtXiSgBtzYJ5LU10lvi788LxMffd2C3ISidWUgSNhgz+NM3P4asQpzUPlVqA2w/AoIkW+8bKcuYYx29fMbYACe+zJfM6R01EXPhJtt0p/rU7by3ut7joEJrxZbHke7cjwHnFsAxmWXTkd5jMeIVYiRmSvWkkiGeQDqIGDIfnQlxj+8OOrGd+r7LQYsmcRhklMCmbd2kezONLGNDPJCx9UJMotlItWBK2AClr7HXfcMYCTH4yVxZsMWRXXPMAKK6wgNVzoFL/knEnhbczVOdkwSZNpnfruLdFZXoGnLdXulNxFE6XBex99YMmBERzFCTBcvS1e5OfkMi4cVMz2NXMbIB1D0LIY3ch5rAsfiTaB1eUA65t4k8J3mUYq/XRKBon41zrq0tQHeJtaeEgi/0n5Gh9t3pxiprXPKmjj3VnVTnDYTUA51bqdehQs8rncupgTfJ4DFFDx1vmHuiL5I1KfduvLFxKJbFsIpsJpQBgSAfvz7bTTTsocCQgMEYS2DkVp7Dih5Gv+Uzk4JKSKbymkX4knNgmJMdwF/RlgoqQrDvREmqwxRQiCNMXUMetq+BmeKe7e7tsHH3ww+SKMgR41J0Tl+VeSVX6kLFMhWm9YWuNFvnPW9Rlh5fY1cxsgJd5ajed5Xfh4zOWQ3Z62U98f2rNFkWgTV5zlVeJNoJtm73d06HToDyoh+JgrJoGpI/vYKSdAoQuVFxCpSo372m677ZS9b9x8phtOOCChAa84yui+4XO7a4BhuAm/UIZTVrEMy0i0vXJQBquhoIJC4oN32DPVkUNLYO05MA+lSVw133cmTSLK4tnYiTTNyu4t5kd4z7w9aOJXRYCM2b5mawNUqyP/KmUlQ+rCVyKMAej8tG2zP8QQPAEYb3GMKlk2MqYfWZ6ScfufAH3T6kI0Ag1DRt20CGjTr6mxHbfBMLtt+6+m9Iq3nagpnYzIRUUlDfWaOLiGEYr9sKS5C5R+6qS7hCSGA0maYriUwXQiTbOye3/84x93RBYW/qvFtPkAHLN9zdwGqCDbvvvuGz99deHjMSfIWhwQH+tBmMImI8N7iLqXpy677LL2jobeYgg1SekZvaWwhDBR5qItp+KbnkV2JZqnzgGJbsLblC458cQTw0ME2XfEEUeoXLnUUksJCnIVj68QN/VBJQISBxpwYCZ2b28yeqxX4bIG0acNeDK7TSK3r5nbAClItmt+nsipqQsfiTaBNeCASjyjXnssU/q9j6OAumO4QZcz0URhRHRyyXG22t1YvDyMOhOUI5IoKoQi/mpWCE50znMOsO7bUpR8ZSsdYIWgYaK3/vrrq7Eo3G6eMyoNf85zYCZ2b0YlN3DvSyikO+dnpM0AI7evmdsAFRlnKvawZiRz6sJHok1gdTkgcdTTlsppFDZcwKSWYDz66KNV39tzzz3r9joT8F5qYHRUdUS5Ymy655577G7nn38+o+NM0O/k8ISTAOiZoLZDIg877LDTTjuNfSXgxARG4g7xzwFU7uqePggDUazDg8fDJTjmwDDTENpzIElTJQ/HIU3zdveu5HYC6AkHPEF4zjnnKPsYSU9d+Ei0CawuBzz0tsYaa2y88caFDcss/RpIBQiBQXV7nQl4yhAVX4SMqgVqkNEjJXB4DnZWxqu0wvy09HtWhpdDJYTwXXvttTOx3iZJJONTxh+32fCgcvoSB4Y5kKSpclWMQ5rm7e5dye0E0BMOsNzHm/nRXBe+J8OcY2RwKHGYlzzxXmHpxw5lJQUgDnvk5xinwnBUZvSUozg2+eD9H6CqcxtssIEqeCrp9p/aRGHiQOJA4kDiQOBA2r3TSugzBxRuUl752GOPjSxiXhe+z2OfadqOOeYYJlFhLKNGUWHp10zuton3HPdMMyKS+FVXXRXkfffdFwk/XbA111xTQqSS/9MlI/WeOJA4kDiQOFCLA2n3rsWuBDxhDsgEvf/++5XgjOy3Lnwk2gRWiwPM/Oeee+72229f0qpa6fcYGzP/qaeeWqvv/gMrCygaPn+ZEbh54YUXUqO9DdR/+lGoyMlGG20k/momqE1EJg4kDiQOJA4EDqTdO62EPnNAgRPlX+JrG9aF7/PYZ5c2Iet77733QgstVDKE6vAejb3o6zXQZZdddnZ5MUz58ccfv9tuu6200kpK93is2ANmqhHffvvt/vWa0qyM1PPp6623njILCy+88KzQnOhMHEgcSBxIHEi7d1oD/eTAP//5T6+psIpuvvnmMRTWhY/BmWAacOCGG24Qo17eMErpb9D3TDQJFWDcZwK1LrXeJ/eowUwQH4jkqVC45pBDDokMvJuhoSVSEwcSBxIH5jAH0u49hyd3pocmZnjTTTdlTBx4UGXUoOrCzzRzZp34ea30h8nzkJ5PCQsPsy+wwAIzN6P777//9ddfr5ryzFGeCE4cSBxIHJjPHEi793ye/d6OXQ1DtJ1++umRFNaFj0SbwMbBgf8P1m1ZctTG+6AAAAAASUVORK5CYII=\"></div>"
      ],
      "text/plain": [
       "             ^  2 ^   (5)           ^   ^   (5)         ^  2 ^   (5)  ^ ^\n",
       "-2 ϵ  (Cos[ϕ[t]]  f       + Sin[2 ϕ[t]] f       + Sin[ϕ[t]]  f      ) r[t]\n",
       "    G              x,x                   x,y                  y,y\n",
       "--------------------------------------------------------------------------\n",
       "                                    5\n",
       "\n",
       "\n",
       "\n",
       "  1                 ^   ^   (5)           ^     ^   (5)   ^   (5)   ^ ^\n",
       "-(-) (ϵ  (2 Cos[2 ϕ[t]] f       + Sin[2 ϕ[t]] (-f       + f      )) r[t])\n",
       "  5    G                 x,y                     x,x       y,y"
      ]
     },
     "execution_count": 1580,
     "metadata": {
      "text/html": [],
      "text/plain": []
     },
     "output_type": "execute_result"
    }
   ],
   "source": [
    "RHSMotion = -2/5 Subscript[\\[Epsilon], G] FullSimplify[RotationMatrix[-\\[Phi][OverHat[t]]] . fh5rh, Trig -> True];\n",
    "RHSMotion // MatrixForm"
   ]
  },
  {
   "cell_type": "markdown",
   "metadata": {},
   "source": [
    "<span style=\"color:red\">**NB:**</span> Полученные выражения <span style=\"color:green\">**совпадают**</span> с уравнениями (10) и (9) из файла Binary.pdf"
   ]
  },
  {
   "cell_type": "markdown",
   "metadata": {
    "vscode": {
     "languageId": "wolfram"
    }
   },
   "source": [
    "## Получим теперь **энергетическую** систему уравнений\n",
    "\n",
    "В задача двух тел без учёта гравитационного излучения в системе центра масс в полярных координатах радиус-вектор $\\hat{r}_k$ задаётся как:\n",
    "$$\n",
    "\\hat{r}_k = \\hat{r} e_{1k} \\quad,\n",
    "$$\n",
    "где:\n",
    "- $\\hat{r}$ — расстояние между телами,\n",
    "- $e_{1k}$ — единичный вектор в направлении $\\hat{r}_k$.\n",
    "\n",
    "Скорость в полярных координатах выражается как:\n",
    "$$\n",
    "\\hat{r}_k^{(1)} = \\hat{r}^{(1)} e_{1k} + \\hat{r} \\phi^{(1)} e_{2k} \\quad,\n",
    "$$\n",
    "где:\n",
    "- $\\hat{r}^{(1)}$ — радиальная скорость\n",
    "- $\\hat{\\omega} \\equiv \\phi^{(1)}$ — угловая скорость\n",
    "- $e_{2k}$ — единичный вектор, перпендикулярный $e_{1k}$.\n",
    "\n",
    "### **Кинетическая энергия**\n",
    "Кинетическая энергия $T$ в полярных координатах выражается через радиальную и тангенциальную составляющие скорости:\n",
    "$$\n",
    "T = \\frac{b^2}{2 t_0^2} (\\hat{r}_k^{(1)})^2 = \\frac{b^2}{2 t_0^2} \\left( (\\hat{r}^{(1)})^2 + \\hat{r}^2 \\hat{\\omega}^2 \\right) = \\frac{G M}{b} \\frac{1}{2}\\left( (\\hat{r}^{(1)})^2 + \\hat{r}^2 \\hat{\\omega}^2 \\right)\n",
    "$$\n",
    "\n",
    "### **Потенциальная энергия**\n",
    "Потенциальная энергия $U$ зависит только от расстояния $\\hat{r}$:\n",
    "- Для гравитационного взаимодействия:\n",
    "  $$\n",
    "  U = -\\frac{G m_A m_B}{b \\hat{r}}.\n",
    "  $$\n",
    "\n",
    "### **Полная энергия**\n",
    "Полная энергия $E$ в полярных координатах:\n",
    "$$\n",
    "E = T + U = \\frac{G M}{b}\\left(\\frac{(\\hat{r}^{(1)})^2}{2} + \\frac{\\hat{r}^2 \\hat{\\omega}^2}{2} - \\frac{1}{\\hat{r}}\\right) = \\frac{G M}{b} \\hat{E}\n",
    "$$\n",
    "\n",
    "Здесь $\\hat{E}$ - безразмерная энергия:"
   ]
  },
  {
   "cell_type": "code",
   "execution_count": 1544,
   "metadata": {
    "vscode": {
     "languageId": "wolfram"
    }
   },
   "outputs": [
    {
     "data": {
      "text/html": [
       "<div><img alt=\"Output\" src=\"data:image/png;base64,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\"></div>"
      ],
      "text/plain": [
       "          ^ ^ 2 ^ ^ 2    ^   ^ 2\n",
       "   1      r[t]  ω[t]    (r)'[t]\n",
       "-(----) + ----------- + --------\n",
       "  ^ ^          2           2\n",
       "  r[t]"
      ]
     },
     "execution_count": 1544,
     "metadata": {
      "text/html": [],
      "text/plain": []
     },
     "output_type": "execute_result"
    }
   ],
   "source": [
    "Energy = (D[OverHat[r][OverHat[t]], OverHat[t]])^2/2 + (OverHat[r][OverHat[t]] OverHat[\\[Omega]][OverHat[t]])^2/2 - 1/OverHat[r][OverHat[t]]"
   ]
  },
  {
   "cell_type": "markdown",
   "metadata": {},
   "source": [
    "### **Момента импульса**\n",
    "Момент импульса $J$ в системе центра масс:\n",
    "$$\n",
    "J = \\frac{b^2}{t_0} \\hat{r}^2 \\hat{\\omega} = (G M)^{1/2} b^{3/2} \\hat{r}^2 \\hat{\\omega} = (G M)^{1/2} b^{3/2} \\hat{J}\n",
    "$$\n",
    "\n",
    "Здесь $\\hat{J}$ - безразмерный момент импульса:"
   ]
  },
  {
   "cell_type": "code",
   "execution_count": 1545,
   "metadata": {
    "vscode": {
     "languageId": "wolfram"
    }
   },
   "outputs": [
    {
     "data": {
      "text/html": [
       "<div><img alt=\"Output\" src=\"data:image/png;base64,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\"></div>"
      ],
      "text/plain": [
       "^ ^ 2 ^ ^\n",
       "r[t]  ω[t]"
      ]
     },
     "execution_count": 1545,
     "metadata": {
      "text/html": [],
      "text/plain": []
     },
     "output_type": "execute_result"
    }
   ],
   "source": [
    "AngularMomentum = (OverHat[r][OverHat[t]])^2 OverHat[\\[Omega]][OverHat[t]]"
   ]
  },
  {
   "cell_type": "markdown",
   "metadata": {},
   "source": [
    "Отсюда $\\frac{1}{\\hat{r}^{(1)}}\\left(\\frac{d\\hat{E}}{d\\hat{t}} - \\hat\\omega \\frac{d\\hat{J}}{d\\hat{t}}\\right)$"
   ]
  },
  {
   "cell_type": "code",
   "execution_count": 1546,
   "metadata": {
    "vscode": {
     "languageId": "wolfram"
    }
   },
   "outputs": [
    {
     "data": {
      "text/html": [
       "<div><img alt=\"Output\" src=\"data:image/png;base64,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\"></div>"
      ],
      "text/plain": [
       "^ ^ -2   ^ ^  ^ ^ 2    ^    ^\n",
       "r[t]   - r[t] ω[t]  + (r)''[t]"
      ]
     },
     "execution_count": 1546,
     "metadata": {
      "text/html": [],
      "text/plain": []
     },
     "output_type": "execute_result"
    }
   ],
   "source": [
    "Simplify[(D[Energy, OverHat[t]] - (AngularMomentum/OverHat[r][OverHat[t]]^2)(D[AngularMomentum, OverHat[t]]))/(D[OverHat[r][OverHat[t]], OverHat[t]])]"
   ]
  },
  {
   "cell_type": "markdown",
   "metadata": {},
   "source": [
    "Что совпадает с **первой** строкой повернутой LHS системы движения"
   ]
  },
  {
   "cell_type": "markdown",
   "metadata": {},
   "source": [
    "Отсюда $\\frac{1}{\\hat{r}}\\frac{d\\hat{J}}{d\\hat{t}}$"
   ]
  },
  {
   "cell_type": "code",
   "execution_count": 1547,
   "metadata": {
    "vscode": {
     "languageId": "wolfram"
    }
   },
   "outputs": [
    {
     "data": {
      "text/html": [
       "<div><img alt=\"Output\" src=\"data:image/png;base64,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\"></div>"
      ],
      "text/plain": [
       "  ^ ^   ^   ^    ^ ^   ^   ^\n",
       "2 ω[t] (r)'[t] + r[t] (ω)'[t]"
      ]
     },
     "execution_count": 1547,
     "metadata": {
      "text/html": [],
      "text/plain": []
     },
     "output_type": "execute_result"
    }
   ],
   "source": [
    "Simplify[D[AngularMomentum, OverHat[t]]/OverHat[r][OverHat[t]]]"
   ]
  },
  {
   "cell_type": "markdown",
   "metadata": {},
   "source": [
    "Что совпадает со **второй** строкой повернутой LHS системы движения"
   ]
  },
  {
   "cell_type": "markdown",
   "metadata": {},
   "source": [
    "Таким образом, мы можем выписать новую **энергетическую** систему уравнений\n",
    "\n",
    "$$\n",
    "\\begin{align}\n",
    "\\frac{d\\hat{E}}{d\\hat{t}} &= - \\frac{2}{5}\\epsilon_G \\left(\\hat{r}^{(1)} R_{xi}(-\\phi) \\hat{f}_{ij}^{(5)}\\hat{r}_j + \\hat{r}\\hat\\omega R_{yi}(-\\phi) \\hat{f}_{ij}^{(5)}\\hat{r}_j \\right)\n",
    "\\\\\n",
    "\\frac{d\\hat{J}}{d\\hat{t}} &= - \\frac{2}{5}\\epsilon_G \\hat{r} R_{yi}(-\\phi) \\hat{f}_{ij}^{(5)}\\hat{r}_j\n",
    "\\end{align}\n",
    "$$"
   ]
  },
  {
   "cell_type": "markdown",
   "metadata": {},
   "source": [
    "Или\n",
    "\n",
    "$$\n",
    "\\left(\\frac{d\\hat{E}}{d\\hat{t}}, \\frac{d\\hat{J}}{d\\hat{t}}\\right) = - \\frac{2}{5} \\epsilon_G T_{nk} R_{ki}(-\\phi) \\hat{f}_{ij}^{(5)}\\hat{r}_j\\quad,\n",
    "$$\n",
    "\n",
    "Чтобы перейти в размерный вид, достаточно положить $\\epsilon_G \\equiv 1$."
   ]
  },
  {
   "cell_type": "markdown",
   "metadata": {},
   "source": [
    "Здесь\n",
    "$$\n",
    "T = \n",
    "\\begin{bmatrix}\n",
    "\\hat{r}^{(1)} & \\hat{r}\\hat\\omega \\\\\n",
    "0 & \\hat{r}\n",
    "\\end{bmatrix}\n",
    "$$\n",
    "матрица трансофрмации:"
   ]
  },
  {
   "cell_type": "code",
   "execution_count": 1549,
   "metadata": {
    "vscode": {
     "languageId": "wolfram"
    }
   },
   "outputs": [
    {
     "data": {
      "text/html": [
       "<div><img alt=\"Output\" src=\"data:image/png;base64,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\"></div>"
      ],
      "text/plain": [
       " ^   ^      ^ ^  ^ ^\n",
       "(r)'[t]     r[t] ω[t]\n",
       "\n",
       "            ^ ^\n",
       "0           r[t]"
      ]
     },
     "execution_count": 1549,
     "metadata": {
      "text/html": [],
      "text/plain": []
     },
     "output_type": "execute_result"
    }
   ],
   "source": [
    "Transform = {{D[OverHat[r][OverHat[t]], OverHat[t]], OverHat[r][OverHat[t]] OverHat[\\[Omega]][OverHat[t]]}, {0, OverHat[r][OverHat[t]]}};\n",
    "Transform // MatrixForm"
   ]
  },
  {
   "cell_type": "markdown",
   "metadata": {},
   "source": [
    "Итак правая часть энергетической системы запишется как"
   ]
  },
  {
   "cell_type": "code",
   "execution_count": 1563,
   "metadata": {
    "vscode": {
     "languageId": "wolfram"
    }
   },
   "outputs": [
    {
     "data": {
      "text/html": [
       "<div><img alt=\"Output\" src=\"data:image/png;base64,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\"></div>"
      ],
      "text/plain": [
       "    ^ ^               ^   ^   (5)           ^    ^   (5)   ^   (5)   ^ ^  ^ ^\n",
       "(ϵ  r[t] ((-2 Cos[2 ϕ[t]] f       + Sin[2 ϕ[t]] (f       - f      )) r[t] ω[t] - \n",
       "  G                        x,y                    x,x       y,y\n",
       " \n",
       "                 ^  2 ^   (5)           ^   ^   (5)         ^  2 ^   (5)   ^   ^\n",
       ">       2 (Cos[ϕ[t]]  f       + Sin[2 ϕ[t]] f       + Sin[ϕ[t]]  f      ) (r)'[t])) / 5\n",
       "                       x,x                   x,y                  y,y\n",
       "\n",
       "  1                 ^   ^   (5)           ^     ^   (5)   ^   (5)   ^ ^ 2\n",
       "-(-) (ϵ  (2 Cos[2 ϕ[t]] f       + Sin[2 ϕ[t]] (-f       + f      )) r[t] )\n",
       "  5    G                 x,y                     x,x       y,y"
      ]
     },
     "execution_count": 1563,
     "metadata": {
      "text/html": [],
      "text/plain": []
     },
     "output_type": "execute_result"
    }
   ],
   "source": [
    "RHSEnegry = FullSimplify[Transform . RHS, Trig -> True];\n",
    "RHSEnegry // MatrixForm"
   ]
  },
  {
   "cell_type": "markdown",
   "metadata": {},
   "source": [
    "## Другой Способ получения уравнений движения и энергетических уравнений через лагранжев формализм в полярных координатах"
   ]
  },
  {
   "cell_type": "markdown",
   "metadata": {},
   "source": [
    "### **Лагранжиан системы**\n",
    "Лагранжиан $L$ в полярных координатах $(r, \\phi)$ выражается как:\n",
    "$$\n",
    "L = T - (U + \\Phi),\n",
    "$$\n",
    "где:\n",
    "- $T$ — кинетическая энергия,\n",
    "- $U$ — потенциальная энергия\n",
    "- $\\Phi = \\frac{1}{5}f_{ij}^{(5)}r_i r_j = \\frac{\\epsilon_G}{5}\\frac{b^2}{t_0^2}\\hat{f}_{ij}^{(5)}\\hat{r}_i \\hat{r}_j = \\epsilon_G\\frac{GM}{b}\\hat{\\Phi}$ - малый потенциал \"реакции излучения\""
   ]
  },
  {
   "cell_type": "markdown",
   "metadata": {},
   "source": [
    "Безразмерный малый потенциал \"реакции излучения\" $\\hat{\\Phi} = \\frac{1}{5}\\hat{f}_{ij}^{(5)}\\hat{r}_i\\hat{r}_j$"
   ]
  },
  {
   "cell_type": "code",
   "execution_count": 1555,
   "metadata": {
    "vscode": {
     "languageId": "wolfram"
    }
   },
   "outputs": [
    {
     "data": {
      "text/html": [
       "<div><img alt=\"Output\" src=\"data:image/png;base64,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\"></div>"
      ],
      "text/plain": [
       "       ^   ^ ^         ^   ^   (5) ^ ^          ^   ^   (5) ^ ^\n",
       "(Cos[ϕ[t]] r[t] (Cos[ϕ[t]] f       r[t] + Sin[ϕ[t]] f       r[t]) + \n",
       "                            x,x                      x,y\n",
       " \n",
       "            ^   ^ ^         ^   ^   (5) ^ ^          ^   ^   (5) ^ ^\n",
       ">     Sin[ϕ[t]] r[t] (Cos[ϕ[t]] f       r[t] + Sin[ϕ[t]] f       r[t])) / 5\n",
       "                                 x,y                      y,y"
      ]
     },
     "execution_count": 1555,
     "metadata": {
      "text/html": [],
      "text/plain": []
     },
     "output_type": "execute_result"
    }
   ],
   "source": [
    "fh5rhrh = 1/5 EinsteinSummation[{{i, j}, {i}, {j}}, {fh5, rh, rh}];\n",
    "fh5rhrh"
   ]
  },
  {
   "cell_type": "markdown",
   "metadata": {},
   "source": [
    "Безразмерный лагранжиан\n",
    "\n",
    "$$\n",
    "\\hat{L} = \\hat{T} - (\\hat{U} + \\epsilon_G\\hat{\\Phi}),\n",
    "$$\n",
    "или\n",
    "$$\n",
    "\\hat{L} = \\frac{1}{2} \\left((\\hat{r}^{(1)})^2 + \\hat{r}^2 \\hat{\\omega}^2 \\right) + \\frac{1}{\\hat{r}} - \\frac{\\epsilon_G}{5}\\hat{f}_{ij}^{(5)}\\hat{r}_i \\hat{r}_j.\n",
    "$$"
   ]
  },
  {
   "cell_type": "markdown",
   "metadata": {},
   "source": [
    "### **Уравнения Эйлера-Лагранжа**\n",
    "Уравнения Эйлера-Лагранжа имеют вид:\n",
    "$$\n",
    "\\frac{d}{dt} \\left( \\frac{\\partial \\hat{L}}{\\partial \\dot{q}_i} \\right) - \\frac{\\partial \\hat{L}}{\\partial q_i} = 0,\n",
    "$$\n",
    "где $q_i$ — обобщённые координаты ($\\hat{r}$ и $\\phi$)."
   ]
  },
  {
   "cell_type": "markdown",
   "metadata": {},
   "source": [
    "---\n",
    "\n",
    "#### Уравнение для координаты $\\hat{r}$:\n",
    "$$\n",
    "\\frac{d}{d\\hat{t}} \\left(\\frac{\\partial \\hat{L}}{\\partial \\hat{r}^{(1)}} \\right) - \\frac{\\partial \\hat{L}}{\\partial \\hat{r}} = 0.\n",
    "$$\n",
    "Вычислим производные:\n",
    "$$\n",
    "\\frac{\\partial \\hat{L}}{\\partial \\hat{r}^{(1)}} = \\hat{r}^{(1)}, \\quad \\frac{d}{d\\hat{t}} \\left( \\frac{\\partial \\hat{L}}{\\partial \\hat{r}^{(1)}} \\right) = \\hat{r}^{(2)},\n",
    "$$\n",
    "$$\n",
    "\\frac{\\partial \\hat{L}}{\\partial \\hat{r}} = \\hat{r} \\hat{\\omega}^2 - \\frac{1}{\\hat{r}^2} - \\epsilon_G\\frac{\\partial \\hat{\\Phi}}{\\partial \\hat{r}}.\n",
    "$$\n",
    "Подставляем в уравнение Эйлера-Лагранжа:\n",
    "$$\n",
    "\\hat{r}^{(2)} - \\hat{r} \\hat{\\omega}^2 + \\frac{1}{\\hat{r}^2} = - \\epsilon_G\\frac{\\partial \\hat{\\Phi}}{\\partial \\hat{r}}.\n",
    "$$\n",
    "\n",
    "Это **радиальное уравнение движения**.\n",
    "\n",
    "Здесь \n",
    "$$\n",
    "\\frac{\\partial \\hat{\\Phi}}{\\partial \\hat{r}} = \\frac{1}{5}\\hat{f}_{ij}^{(5)}\\left(\\frac{\\partial \\hat{r}_i}{\\partial \\hat{r}}\\hat{r}_j + \\hat{r}_i\\frac{\\partial \\hat{r}_j}{\\partial \\hat{r}}\\right)\n",
    "$$\n",
    "<span style=\"color:red\">**TODO:**</span> Обсудить почему $\\hat{f}_{ij}^{(5)}$ берётся заданной функцией, не зависящей от $\\hat{r}$ при вариации лагранжиана."
   ]
  },
  {
   "cell_type": "markdown",
   "metadata": {},
   "source": [
    "Правая часть радиального уравнения движения будет выглядеть как"
   ]
  },
  {
   "cell_type": "code",
   "execution_count": 1586,
   "metadata": {
    "vscode": {
     "languageId": "wolfram"
    }
   },
   "outputs": [
    {
     "data": {
      "text/html": [
       "<div><img alt=\"Output\" src=\"data:image/png;base64,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\"></div>"
      ],
      "text/plain": [
       "             ^  2 ^   (5)           ^   ^   (5)         ^  2 ^   (5)  ^ ^\n",
       "-2 ϵ  (Cos[ϕ[t]]  f       + Sin[2 ϕ[t]] f       + Sin[ϕ[t]]  f      ) r[t]\n",
       "    G              x,x                   x,y                  y,y\n",
       "--------------------------------------------------------------------------\n",
       "                                    5"
      ]
     },
     "execution_count": 1586,
     "metadata": {
      "text/html": [],
      "text/plain": []
     },
     "output_type": "execute_result"
    }
   ],
   "source": [
    "RHSMotionRadialLagrange = - 1/5 Subscript[\\[Epsilon], G] FullSimplify[EinsteinSummation[{{i, j}, {i}, {j}}, {fh5, D[rh, OverHat[r][OverHat[t]]], rh}] + EinsteinSummation[{{i, j}, {i}, {j}}, {fh5, rh, D[rh, OverHat[r][OverHat[t]]]}]]"
   ]
  },
  {
   "cell_type": "markdown",
   "metadata": {},
   "source": [
    "<span style=\"color:red\">**NB:**</span> Выражение <span style=\"color:green\">**совпадает**</span> с раннее полученным уравнением и с уравнением (10) из файла Binary.pdf"
   ]
  },
  {
   "cell_type": "code",
   "execution_count": 1587,
   "metadata": {
    "vscode": {
     "languageId": "wolfram"
    }
   },
   "outputs": [
    {
     "data": {
      "text/html": [
       "<div><pre style=\"&#102;&#111;&#110;&#116;&#45;&#102;&#97;&#109;&#105;&#108;&#121;&#58;&#32;&#34;&#67;&#111;&#117;&#114;&#105;&#101;&#114;&#32;&#78;&#101;&#119;&#34;&#44;&#67;&#111;&#117;&#114;&#105;&#101;&#114;&#44;&#109;&#111;&#110;&#111;&#115;&#112;&#97;&#99;&#101;&#59;\">&#48;</pre></div>"
      ],
      "text/plain": [
       "0"
      ]
     },
     "execution_count": 1587,
     "metadata": {
      "text/html": [],
      "text/plain": []
     },
     "output_type": "execute_result"
    }
   ],
   "source": [
    "RHSMotion[[1]] - RHSMotionRadialLagrange"
   ]
  },
  {
   "cell_type": "markdown",
   "metadata": {},
   "source": [
    "---\n",
    "\n",
    "#### Уравнение для координаты $\\phi$:\n",
    "$$\n",
    "\\frac{d}{d\\hat{t}} \\left(\\frac{\\partial \\hat{L}}{\\partial \\hat{\\omega}} \\right) - \\frac{\\partial \\hat{L}}{\\partial \\phi} = 0.\n",
    "$$\n",
    "Вычислим производные:\n",
    "$$\n",
    "\\frac{\\partial \\hat{L}}{\\partial \\hat{\\omega}} = \\hat{r}^2 \\hat{\\omega}, \\quad \\frac{d}{d\\hat{t}} \\left( \\frac{\\partial \\hat{L}}{\\partial \\hat{\\omega}} \\right) = \\frac{d}{d\\hat{t}} \\left( \\hat{r}^2 \\hat{\\omega} \\right),\n",
    "$$\n",
    "$$\n",
    "\\frac{\\partial \\hat{L}}{\\partial \\phi} = - \\epsilon_G\\frac{\\partial \\hat{\\Phi}}{\\partial \\phi}.\n",
    "$$\n",
    "Подставляем в уравнение Эйлера-Лагранжа:\n",
    "$$\n",
    "\\frac{1}{\\hat{r}}\\frac{d}{d\\hat{t}} \\left( \\hat{r}^2 \\hat{\\omega} \\right) = \\frac{1}{\\hat{r}}\\frac{d\\hat{J}}{d\\hat{t}} = - \\frac{\\epsilon_G}{\\hat{r}}\\frac{\\partial \\hat{\\Phi}}{\\partial \\phi}.\n",
    "$$\n",
    "\n",
    "Здесь \n",
    "$$\n",
    "\\frac{\\partial \\hat{\\Phi}}{\\partial \\phi} = \\frac{1}{5}\\hat{f}_{ij}^{(5)}\\left(\\frac{\\partial \\hat{r}_i}{\\partial \\phi}\\hat{r}_j + \\hat{r}_i\\frac{\\partial \\hat{r}_j}{\\partial \\phi}\\right)\n",
    "$$\n",
    "<span style=\"color:red\">**TODO:**</span> Обсудить почему $\\hat{f}_{ij}^{(5)}$ берётся заданной функцией, не зависящей от $\\phi$ при вариации лагранжиана."
   ]
  },
  {
   "cell_type": "markdown",
   "metadata": {},
   "source": [
    "Правая часть уравнения движения для $\\phi$ будет выглядеть как"
   ]
  },
  {
   "cell_type": "code",
   "execution_count": 1595,
   "metadata": {
    "vscode": {
     "languageId": "wolfram"
    }
   },
   "outputs": [
    {
     "data": {
      "text/html": [
       "<div><img alt=\"Output\" src=\"data:image/png;base64,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\"></div>"
      ],
      "text/plain": [
       "  1                 ^   ^   (5)           ^     ^   (5)   ^   (5)   ^ ^\n",
       "-(-) (ϵ  (2 Cos[2 ϕ[t]] f       + Sin[2 ϕ[t]] (-f       + f      )) r[t])\n",
       "  5    G                 x,y                     x,x       y,y"
      ]
     },
     "execution_count": 1595,
     "metadata": {
      "text/html": [],
      "text/plain": []
     },
     "output_type": "execute_result"
    }
   ],
   "source": [
    "RHSMotionPhiLagrange = - 1/5 Subscript[\\[Epsilon], G] FullSimplify[EinsteinSummation[{{i, j}, {i}, {j}}, {fh5, D[rh, \\[Phi][OverHat[t]]], rh}] + EinsteinSummation[{{i, j}, {i}, {j}}, {fh5, rh, D[rh, \\[Phi][OverHat[t]]]}]]/OverHat[r][OverHat[t]]"
   ]
  },
  {
   "cell_type": "markdown",
   "metadata": {},
   "source": [
    "<span style=\"color:red\">**NB:**</span> Выражение <span style=\"color:green\">**совпадает**</span> с раннее полученным уравнением и с уравнением (9) из файла Binary.pdf"
   ]
  },
  {
   "cell_type": "code",
   "execution_count": 1597,
   "metadata": {
    "vscode": {
     "languageId": "wolfram"
    }
   },
   "outputs": [
    {
     "data": {
      "text/html": [
       "<div><pre style=\"&#102;&#111;&#110;&#116;&#45;&#102;&#97;&#109;&#105;&#108;&#121;&#58;&#32;&#34;&#67;&#111;&#117;&#114;&#105;&#101;&#114;&#32;&#78;&#101;&#119;&#34;&#44;&#67;&#111;&#117;&#114;&#105;&#101;&#114;&#44;&#109;&#111;&#110;&#111;&#115;&#112;&#97;&#99;&#101;&#59;\">&#48;</pre></div>"
      ],
      "text/plain": [
       "0"
      ]
     },
     "execution_count": 1597,
     "metadata": {
      "text/html": [],
      "text/plain": []
     },
     "output_type": "execute_result"
    }
   ],
   "source": [
    "RHSMotion[[2]] - RHSMotionPhiLagrange"
   ]
  },
  {
   "cell_type": "markdown",
   "metadata": {},
   "source": [
    "## Получим **энергетическую** систему уравнений в подходе Лагранжа"
   ]
  },
  {
   "cell_type": "markdown",
   "metadata": {},
   "source": [
    "Заметим, что энергия системы:\n",
    "$$\n",
    "\\hat{E} = \\frac{(\\hat{r}^{(1)})^2}{2} + \\frac{\\hat{r}^2 \\hat{\\omega}^2}{2} - \\frac{1}{\\hat{r}}\n",
    "$$\n",
    "$$\n",
    "\\frac{1}{\\hat{r}^{(1)}}\\left(\\frac{d\\hat{E}}{d\\hat{t}} - \\hat{\\omega} \\frac{d\\hat{J}}{d\\hat{t}}\\right) = \\hat{r}^{(2)} - \\hat{r} \\hat{\\omega}^2 + \\frac{1}{\\hat{r}^2}\n",
    "$$\n",
    "\n",
    "А также уравнение для изменения момента импульса системы есть\n",
    "$$\n",
    "\\frac{d\\hat{J}}{d\\hat{t}} = - \\epsilon_G\\frac{\\partial \\hat{\\Phi}}{\\partial \\phi}.\n",
    "$$\n",
    "\n",
    "Итоговая энергетическая система, выведенная по-новому будет записываться как:\n",
    "\n",
    "$$\n",
    "\\begin{align}\n",
    "\\frac{d\\hat{E}}{d\\hat{t}} &= - \\epsilon_G\\left(\\hat{r}^{(1)}\\frac{\\partial \\hat{\\Phi}}{\\partial \\hat{r}} + \\hat{\\omega} \\frac{\\partial \\hat{\\Phi}}{\\partial \\phi}\\right) = - \\epsilon_G \\frac{d\\hat{\\Phi}}{d\\hat{t}}\n",
    "  = - \\frac{\\epsilon_G}{5}\\hat{f}_{ij}^{(5)}\\left(\\frac{d\\hat{r}_i}{d\\hat{t}}\\hat{r}_j + \\hat{r}_i\\frac{d\\hat{r}_j}{d\\hat{t}}\\right)\n",
    "\\\\\n",
    "\\frac{d\\hat{J}}{d\\hat{t}} &= - \\epsilon_G\\frac{\\partial \\hat{\\Phi}}{\\partial \\phi} = - \\frac{\\epsilon_G}{5}\\hat{f}_{ij}^{(5)}\\left(\\frac{\\partial \\hat{r}_i}{\\partial \\phi}\\hat{r}_j + \\hat{r}_i\\frac{\\partial \\hat{r}_j}{\\partial \\phi}\\right)\n",
    "\\end{align}\n",
    "$$"
   ]
  },
  {
   "cell_type": "markdown",
   "metadata": {},
   "source": [
    "И снова, чтобы перейти в размерный вид, достаточно положить $\\epsilon_G \\equiv 1$\n",
    "\n",
    "То есть\n",
    "$$\n",
    "\\begin{align}\n",
    "\\frac{dE}{dt} &= - \\frac{d\\Phi}{dt}\n",
    "\\\\\n",
    "\\frac{dJ}{dt} &= - \\frac{\\partial \\Phi}{\\partial \\phi}\n",
    "\n",
    "\\end{align}\n",
    "$$\n",
    "<span style=\"color:red\">**TODO:**</span> Обсудить почему $\\hat{f}_{ij}^{(5)}$ берётся заданной функцией, не зависящей от $\\hat{r}, \\phi, \\hat{t}$ при вариации лагранжиана."
   ]
  },
  {
   "cell_type": "code",
   "execution_count": 1602,
   "metadata": {
    "vscode": {
     "languageId": "wolfram"
    }
   },
   "outputs": [
    {
     "data": {
      "text/html": [
       "<div><img alt=\"Output\" src=\"data:image/png;base64,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\"></div>"
      ],
      "text/plain": [
       "       ^ ^            ^   ^   (5)         ^         ^     ^   (5)   ^   (5)   ^ ^\n",
       "(-2 ϵ  r[t] ((Cos[2 ϕ[t]] f       + Cos[ϕ[t]] Sin[ϕ[t]] (-f       + f      )) r[t] \n",
       "     G                     x,y                             x,x       y,y\n",
       " \n",
       "         ^ ^           ^  2 ^   (5)           ^   ^   (5)         ^  2 ^   (5)   ^   ^\n",
       ">        ω[t] + (Cos[ϕ[t]]  f       + Sin[2 ϕ[t]] f       + Sin[ϕ[t]]  f      ) (r)'[t]))\n",
       "                             x,x                   x,y                  y,y\n",
       " \n",
       ">     / 5\n",
       "\n",
       "  1                 ^   ^   (5)           ^     ^   (5)   ^   (5)   ^ ^ 2\n",
       "-(-) (ϵ  (2 Cos[2 ϕ[t]] f       + Sin[2 ϕ[t]] (-f       + f      )) r[t] )\n",
       "  5    G                 x,y                     x,x       y,y"
      ]
     },
     "execution_count": 1602,
     "metadata": {
      "text/html": [],
      "text/plain": []
     },
     "output_type": "execute_result"
    }
   ],
   "source": [
    "RHSEnegryLagrange = - Subscript[\\[Epsilon],G] FullSimplify[{\n",
    "  D[fh5rhrh, OverHat[t]] /. OmegaReplace,\n",
    "  D[fh5rhrh, \\[Phi][OverHat[t]]]\n",
    "}, Trig -> True];\n",
    "\n",
    "RHSEnegryLagrange // MatrixForm"
   ]
  },
  {
   "cell_type": "markdown",
   "metadata": {},
   "source": [
    "<span style=\"color:red\">**NB:**</span> Выражения полностью <span style=\"color:green\">**совпадают**</span> с предыдущим подходом!"
   ]
  },
  {
   "cell_type": "code",
   "execution_count": 1603,
   "metadata": {
    "vscode": {
     "languageId": "wolfram"
    }
   },
   "outputs": [
    {
     "data": {
      "text/html": [
       "<div><img alt=\"Output\" src=\"data:image/png;base64,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\"></div>"
      ],
      "text/plain": [
       "0\n",
       "\n",
       "0"
      ]
     },
     "execution_count": 1603,
     "metadata": {
      "text/html": [],
      "text/plain": []
     },
     "output_type": "execute_result"
    }
   ],
   "source": [
    "FullSimplify[RHSEnegryLagrange - RHSEnegry] // MatrixForm"
   ]
  },
  {
   "cell_type": "code",
   "execution_count": 1440,
   "metadata": {
    "vscode": {
     "languageId": "wolfram"
    }
   },
   "outputs": [
    {
     "data": {
      "text/html": [
       "<div><pre style=\"&#102;&#111;&#110;&#116;&#45;&#102;&#97;&#109;&#105;&#108;&#121;&#58;&#32;&#34;&#67;&#111;&#117;&#114;&#105;&#101;&#114;&#32;&#78;&#101;&#119;&#34;&#44;&#67;&#111;&#117;&#114;&#105;&#101;&#114;&#44;&#109;&#111;&#110;&#111;&#115;&#112;&#97;&#99;&#101;&#59;\">&#48;</pre></div>"
      ],
      "text/plain": [
       "0"
      ]
     },
     "execution_count": 1440,
     "metadata": {
      "text/html": [],
      "text/plain": []
     },
     "output_type": "execute_result"
    }
   ],
   "source": [
    "fh1 = fh /. OverHat[r][OverHat[t]] -> Sqrt[Subscript[OverHat[r],2][OverHat[t]]];\n",
    "fh51 = Simplify[D[fh1, {OverHat[t], 5}], Trig -> True];\n",
    "\n",
    "fh5rhrh1 = 1/5 EinsteinSummation[{{i, j}, {i}, {j}}, {fh51, rh, rh}];\n",
    "(* Simplify[{\n",
    "  D[fh5rhrh1, OverHat[t]] /. OmegaReplace,\n",
    "  D[fh5rhrh1, \\[Phi][OverHat[t]]]\n",
    "}, Trig -> True]; *)\n",
    "\n",
    "(* Simplify[D[fh5rhrh1, \\[Phi][OverHat[t]]], Trig -> True] *)\n",
    "\n",
    "Simplify[D[fh5rhrh1, \\[Phi][OverHat[t]]], Trig -> True]"
   ]
  },
  {
   "cell_type": "code",
   "execution_count": 1331,
   "metadata": {
    "vscode": {
     "languageId": "wolfram"
    }
   },
   "outputs": [
    {
     "data": {
      "text/html": [
       "<div><img alt=\"Output\" src=\"data:image/png;base64,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\"></div>"
      ],
      "text/plain": [
       "    ^ ^ 5 ^  ^       ^ ^  ^  ^   ^   ^ 2       ^ ^ 2  ^   ^   ^    ^\n",
       "-16 ω[t]  r [t] + 60 ω[t] r [t] (ω)'[t]  + 120 ω[t]  (ω)'[t] (r )'[t] + \n",
       "           2               2                                   2\n",
       " \n",
       "       ^ ^ 2 ^  ^   ^    ^       ^ ^ 3  ^     ^        ^    ^   ^     ^\n",
       ">   40 ω[t]  r [t] (ω)''[t] + 40 ω[t]  (r )''[t] - 10 (ω)''[t] (r )''[t] - \n",
       "              2                          2                       2\n",
       " \n",
       "       ^    ^   ^ (3) ^        ^   ^   ^  (3) ^    ^  ^   ^ (4) ^      ^ ^   ^  (4) ^\n",
       ">   5 (r )'[t] (ω)   [t] - 10 (ω)'[t] (r )   [t] - r [t] (ω)   [t] - 5 ω[t] (r )   [t]\n",
       "        2                               2           2                         2"
      ]
     },
     "execution_count": 1331,
     "metadata": {
      "text/html": [],
      "text/plain": []
     },
     "output_type": "execute_result"
    }
   ],
   "source": [
    "(* fh1 = fh /. OverHat[r][OverHat[t]] -> Sqrt[Subscript[OverHat[r],2][OverHat[t]]]; *)\n",
    "(* fh51 = Simplify[D[fh1, {OverHat[t], 5}], Trig -> True]; *)\n",
    "Expand[Simplify[1/2(Sin[2\\[Phi][OverHat[t]]] (fh51[[1,1]] - fh51[[2,2]]) - 2 Cos[2\\[Phi][OverHat[t]]] fh51[[1,2]]) /. OmegaReplace, Trig -> True]]"
   ]
  },
  {
   "cell_type": "code",
   "execution_count": 1338,
   "metadata": {
    "vscode": {
     "languageId": "wolfram"
    }
   },
   "outputs": [
    {
     "data": {
      "text/html": [
       "<div><img alt=\"Output\" src=\"data:image/png;base64,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\"></div>"
      ],
      "text/plain": [
       "   ^ ^ 5 ^  ^ 2      ^ ^  ^  ^ 2  ^   ^ 2      ^ ^ 2 ^  ^   ^   ^   ^    ^\n",
       "16 ω[t]  r [t]  + 12 ω[t] r [t]  (ω)'[t]  + 24 ω[t]  r [t] (ω)'[t] (r )'[t] + \n",
       "          2                2                          2              2\n",
       " \n",
       "       ^ ^ 3  ^    ^ 2     ^ ^ 2 ^  ^ 2  ^    ^       ^ ^ 3 ^  ^   ^     ^\n",
       ">   24 ω[t]  (r )'[t]  - 4 ω[t]  r [t]  (ω)''[t] - 16 ω[t]  r [t] (r )''[t] + \n",
       "               2                  2                          2      2\n",
       " \n",
       "       ^   ^   ^    ^   ^     ^    ^  ^   ^    ^   ^     ^      ^ ^   ^     ^ 2\n",
       ">   3 (ω)'[t] (r )'[t] (r )''[t] + r [t] (ω)''[t] (r )''[t] + 3 ω[t] (r )''[t]  - \n",
       "                2        2          2               2                  2\n",
       " \n",
       "    ^  ^   ^   ^   ^  (3) ^      ^ ^   ^    ^   ^  (3) ^\n",
       ">   r [t] (ω)'[t] (r )   [t] - 2 ω[t] (r )'[t] (r )   [t]\n",
       "     2              2                   2        2"
      ]
     },
     "execution_count": 1338,
     "metadata": {
      "text/html": [],
      "text/plain": []
     },
     "output_type": "execute_result"
    }
   ],
   "source": [
    "fh2 = Array[If[#1 <= #2,\n",
    "                    Superscript[Subscript[OverHat[f], {x, y}[[#1]], {x, y}[[#2]]], \"(2)\"],\n",
    "                    Superscript[Subscript[OverHat[f], {x, y}[[#2]], {x, y}[[#1]]], \"(2)\"]] &, {2, 2}];\n",
    "fh2 // MatrixForm;\n",
    "fh3 = Array[If[#1 <= #2,\n",
    "                    Superscript[Subscript[OverHat[f], {x, y}[[#1]], {x, y}[[#2]]], \"(3)\"],\n",
    "                    Superscript[Subscript[OverHat[f], {x, y}[[#2]], {x, y}[[#1]]], \"(3)\"]] &, {2, 2}];\n",
    "fh3 // MatrixForm;\n",
    "\n",
    "fh2 = Simplify[D[fh1, {OverHat[t], 2}], Trig -> True];\n",
    "fh3 = Simplify[D[fh1, {OverHat[t], 3}], Trig -> True];\n",
    "\n",
    "Expand[Simplify[EinsteinSummation[{{i, j}, {i, l}, {l, j}}, {LeviCivitaTensor[2], fh2, fh3}] /. OmegaReplace, Trig -> True]]"
   ]
  },
  {
   "cell_type": "markdown",
   "metadata": {},
   "source": [
    "# Интегрирование по частям\n",
    "[Integrate By Parts](https://resources.wolframcloud.com/FunctionRepository/resources/IntegrateByParts/)\n",
    "Contributed by: Wolfram|Alpha Math Team"
   ]
  },
  {
   "cell_type": "code",
   "execution_count": null,
   "metadata": {
    "vscode": {
     "languageId": "wolfram"
    }
   },
   "outputs": [],
   "source": [
    "IntegrateByParts // ClearAll;\n",
    "IntegrateByParts[ args___ ] :=\n",
    "    Module[ { res },\n",
    "        update[ ];\n",
    "        res = Symbol[ \"ResourceFunctionHelpers`IntegrateByParts\" ][ args ];\n",
    "        res /; Head @ res =!= Symbol[ \"ResourceFunctionHelpers`IntegrateByParts\" ]\n",
    "    ];"
   ]
  },
  {
   "cell_type": "code",
   "execution_count": null,
   "metadata": {
    "vscode": {
     "languageId": "wolfram"
    }
   },
   "outputs": [],
   "source": [
    "update // ClearAll;\n",
    "update[ ] /; $VersionNumber <= 12 :=\n",
    "    Once[\n",
    "\n",
    "        If[ MemberQ[ PacletSites[ ], $publicPacletSite ],\n",
    "            PacletManager`PacletUpdate[\n",
    "                \"ResourceFunctionHelpers\",\n",
    "                \"Site\"        -> \"http://pacletserver.wolfram.com\",\n",
    "                \"UpdateSites\" -> True\n",
    "            ]\n",
    "        ];\n",
    "\n",
    "        Quiet @ Block[ { $ContextPath }, Get[ \"ResourceFunctionHelpers`\" ] ]\n",
    "    ];"
   ]
  },
  {
   "cell_type": "code",
   "execution_count": null,
   "metadata": {
    "vscode": {
     "languageId": "wolfram"
    }
   },
   "outputs": [],
   "source": [
    "update // ClearAll;\n",
    "update[ ] /; $VersionNumber <= 12 :=\n",
    "    Once[\n",
    "\n",
    "        If[ MemberQ[ PacletSites[ ], $publicPacletSite ],\n",
    "            PacletManager`PacletUpdate[\n",
    "                \"ResourceFunctionHelpers\",\n",
    "                \"Site\"        -> \"http://pacletserver.wolfram.com\",\n",
    "                \"UpdateSites\" -> True\n",
    "            ]\n",
    "        ];\n",
    "\n",
    "        Quiet @ Block[ { $ContextPath }, Get[ \"ResourceFunctionHelpers`\" ] ]\n",
    "    ];"
   ]
  },
  {
   "cell_type": "markdown",
   "metadata": {},
   "source": [
    "$$\n",
    "  I_4(u) = \\int_{r_1}^\\infty \\frac{24r^2u^6 + 48u^6r + 120r^{3/2}u^4 - 96u^6 + 96u^4\\sqrt{r} - u^2r^2 + 133u^2r - 2r^{3/2}}{r^4\\sqrt{u^2r + 2\\sqrt{r} - u^2}} \\, dr,\n",
    "$$\n",
    "где при $r \\ge r_1$ выражение $u^2r + 2\\sqrt{r} - u^2 \\ge 0$.\n",
    "\n",
    "Всюду предполагается $u \\gt 0$."
   ]
  },
  {
   "cell_type": "markdown",
   "metadata": {},
   "source": [
    "## Интегрант $f_4(u, r)$:"
   ]
  },
  {
   "cell_type": "markdown",
   "metadata": {},
   "source": [
    "$$\n",
    "  f_4(u, r) = \\frac{24r^2u^6 + 48u^6r + 120r^{3/2}u^4 - 96u^6 + 96u^4\\sqrt{r} - u^2r^2 + 133u^2r - 2r^{3/2}}{r^4\\sqrt{u^2r + 2\\sqrt{r} - u^2}}\n",
    "$$"
   ]
  },
  {
   "cell_type": "code",
   "execution_count": null,
   "metadata": {
    "vscode": {
     "languageId": "wolfram"
    }
   },
   "outputs": [],
   "source": [
    "integrand4[u_, r_] = (24*r^2*u^6 + 48*u^6*r + 120*r^(3/2)*u^4 - 96*u^6 + 96*u^4*Sqrt[r] - u^2*r^2 + 133*u^2*r - 2*r^(3/2)) /\n",
    "  (r^4*Sqrt[u^2*r + 2*Sqrt[r] - u^2]);"
   ]
  },
  {
   "cell_type": "markdown",
   "metadata": {},
   "source": [
    "Значение интегранта при любом $u$ на бесконечно больших $r$ равно 0:"
   ]
  },
  {
   "cell_type": "code",
   "execution_count": null,
   "metadata": {
    "vscode": {
     "languageId": "wolfram"
    }
   },
   "outputs": [],
   "source": [
    "Limit[integrand4[u, r], r -> Infinity]"
   ]
  },
  {
   "cell_type": "markdown",
   "metadata": {},
   "source": [
    "### Выражение для левой границы $r_1$"
   ]
  },
  {
   "cell_type": "code",
   "execution_count": null,
   "metadata": {
    "vscode": {
     "languageId": "wolfram"
    }
   },
   "outputs": [],
   "source": [
    "eqr1[u_, r_] = u^2*r + 2*Sqrt[r] - u^2;\n",
    "sol = Assuming[{u ∈ Reals, r ∈ Reals, r > 0}, Solve[eqr1[u, r] == 0, r]];\n",
    "r1[u_] = Simplify[r/.sol[[1]]]"
   ]
  },
  {
   "cell_type": "markdown",
   "metadata": {},
   "source": [
    "$r_1$ обращается в 0 при $u \\rightarrow 0$:"
   ]
  },
  {
   "cell_type": "code",
   "execution_count": null,
   "metadata": {
    "vscode": {
     "languageId": "wolfram"
    }
   },
   "outputs": [],
   "source": [
    "Series[r1[u], {u, 0, 5}]\n",
    "Limit[r1[u], u -> 0]"
   ]
  },
  {
   "cell_type": "markdown",
   "metadata": {},
   "source": [
    "И проверим, что знаменатель обращается в 0 при $r = r_1$"
   ]
  },
  {
   "cell_type": "code",
   "execution_count": null,
   "metadata": {
    "vscode": {
     "languageId": "wolfram"
    }
   },
   "outputs": [],
   "source": [
    "PlotR1[u_] := Module[\n",
    "  {points, r1Value},\n",
    "\n",
    "  r1Value = Piecewise[{{0, u == 0}}, r1[u]];\n",
    "  points = {{r1Value, eqr1[u, r1Value]}};\n",
    "\n",
    "  plotLabel = \"u = \" <> ToString[u];\n",
    "\n",
    "  Show[\n",
    "    Plot[\n",
    "      eqr1[u, r],\n",
    "      {r, -1, 10},\n",
    "      AxesLabel -> {\"u\", \"r1\"},\n",
    "      PlotLabel -> plotLabel,\n",
    "      PlotRange -> All\n",
    "    ],\n",
    "    ListPlot[\n",
    "      points,\n",
    "      PlotStyle -> {Red, PointSize[Large]}\n",
    "    ]\n",
    "  ]\n",
    "]\n",
    "\n",
    "plots = {PlotR1[3], PlotR1[0.1], PlotR1[0.0]};\n",
    "GraphicsRow[plots]"
   ]
  },
  {
   "cell_type": "markdown",
   "metadata": {},
   "source": [
    "### Графики функций интегранта $f_4(u_i, r)$:"
   ]
  },
  {
   "cell_type": "code",
   "execution_count": null,
   "metadata": {
    "vscode": {
     "languageId": "wolfram"
    }
   },
   "outputs": [],
   "source": [
    "PlotIntegrand4[u_] := Module[\n",
    "  {r1Value},\n",
    "\n",
    "  r1Value = Piecewise[{{0, u == 0}}, r1[u]];\n",
    "\n",
    "  plotLabel = \"u = \" <> ToString[u];\n",
    "\n",
    "  Plot[\n",
    "    integrand4[u, r],\n",
    "    {r, r1Value, 10^3},\n",
    "    PlotLabel -> plotLabel,\n",
    "    PlotRange -> All,\n",
    "    AxesOrigin -> {0, 0},\n",
    "    AxesLabel -> {\"r\", \"integrand4\"},\n",
    "    ScalingFunctions -> {\"Log\", \"SignedLog\"}\n",
    "  ]\n",
    "]\n",
    "\n",
    "plots = {PlotIntegrand4[0.0], PlotIntegrand4[0.03], PlotIntegrand4[0.3]};\n",
    "GraphicsRow[plots]"
   ]
  },
  {
   "cell_type": "markdown",
   "metadata": {},
   "source": [
    "*Mathematica* очень долго берёт этот интеграл, но выдаёт огромную простыню выражений, которую не может упростить, используя при это коплексную экспоненту."
   ]
  },
  {
   "cell_type": "code",
   "execution_count": null,
   "metadata": {
    "vscode": {
     "languageId": "wolfram"
    }
   },
   "outputs": [],
   "source": [
    "Inactivate[Integrate[integrand4[u, r], {r, r1[u], Infinity}, Assumptions -> {u ∈ Reals, u > 0}]]"
   ]
  },
  {
   "cell_type": "markdown",
   "metadata": {},
   "source": [
    "## Численный график $I_4(u)$ с использованием NIntegrate:"
   ]
  },
  {
   "cell_type": "code",
   "execution_count": null,
   "metadata": {
    "vscode": {
     "languageId": "wolfram"
    }
   },
   "outputs": [],
   "source": [
    "Plot[\n",
    "  NIntegrate[integrand4[u, r], {r, r1[u], Infinity}],\n",
    "  {u, 1, 100},\n",
    "  PlotLabel -> \"NIntegral of integrand4\",\n",
    "  AxesLabel -> {\"u\", \"integrand4\"}\n",
    "]"
   ]
  },
  {
   "cell_type": "markdown",
   "metadata": {
    "vscode": {
     "languageId": "wolfram"
    }
   },
   "source": [
    "## Численный график $I_4(u)$ с использованием Integrate:"
   ]
  },
  {
   "cell_type": "code",
   "execution_count": null,
   "metadata": {
    "vscode": {
     "languageId": "wolfram"
    }
   },
   "outputs": [],
   "source": [
    "(* points = With[\n",
    "  {u := 10^up},\n",
    "  Table[\n",
    "    {u, N[Integrate[integrand4[u, r], {r, r1[u], Infinity}]]},\n",
    "    {up, 0, 2, 0.05}\n",
    "  ]\n",
    "]; *)\n",
    "\n",
    "points = Table[\n",
    "  {u, N[Integrate[integrand4[u, r], {r, r1[u], Infinity}]]},\n",
    "  {u, 1, 100, 1}\n",
    "];\n",
    "\n",
    "ListPlot[\n",
    "  points,\n",
    "  Joined -> True,\n",
    "  PlotRange -> All,\n",
    "  PlotLabel -> \"Integral of integrand4\",\n",
    "  AxesLabel -> {\"u\", \"integral4\"}\n",
    "]"
   ]
  },
  {
   "cell_type": "markdown",
   "metadata": {},
   "source": [
    "## Первообразная $\\tilde{I}_4(u, r)$:"
   ]
  },
  {
   "cell_type": "code",
   "execution_count": null,
   "metadata": {
    "vscode": {
     "languageId": "wolfram"
    }
   },
   "outputs": [],
   "source": [
    "antiderivative4[u_, r_] = Integrate[integrand4[u, r], r]"
   ]
  },
  {
   "cell_type": "markdown",
   "metadata": {
    "vscode": {
     "languageId": "wolfram"
    }
   },
   "source": [
    "Явно определим аргумент комплексного числа:"
   ]
  },
  {
   "cell_type": "code",
   "execution_count": null,
   "metadata": {
    "vscode": {
     "languageId": "wolfram"
    }
   },
   "outputs": [],
   "source": [
    "(* complexLog[z_] := Log[Abs[z]] + I Arg[z]; *)\n",
    "arg[z_] := ArcTan[ComplexExpand[Im[z]]/ComplexExpand[Re[z]]];\n",
    "(* abs[z_] := ComplexExpand[Abs[z]]; *)"
   ]
  },
  {
   "cell_type": "markdown",
   "metadata": {},
   "source": [
    "Применяя его к antiderivative4[u, r], мы получаем действительное выражение, состоящее из двух слагаемых одно без $\\tan^{-1}$, а второе, включающее $\\tan^{-1}$:"
   ]
  },
  {
   "cell_type": "code",
   "execution_count": null,
   "metadata": {
    "vscode": {
     "languageId": "wolfram"
    }
   },
   "outputs": [],
   "source": [
    "antiderivative4s[u_, r_] =\n",
    "  Simplify[\n",
    "    ComplexExpand[\n",
    "      Re[antiderivative4[u, r]]\n",
    "    ] /. Arg -> arg,\n",
    "    {{u, r} ∈ Reals, u > 0, r > r1[u]}\n",
    "  ];\n",
    "\n",
    "antiderivative4s[u_, r_] =\n",
    "  Sqrt[2 Sqrt[r] - u^2 + r u^2] * Simplify[\n",
    "    Expand[\n",
    "      (antiderivative4s[u, r] /. ArcTan[x_] -> 0) /\n",
    "      Sqrt[2 Sqrt[r] - u^2 + r u^2]\n",
    "    ],\n",
    "    {{u, r} ∈ Reals, u > 0, r > 0}\n",
    "  ] -\n",
    "  Cases[antiderivative4s[u, r],\n",
    "    coeff_.*ArcTan[arg_] :> coeff*ArcTan[arg], ∞][[2]] /\n",
    "  (12 * r^3 * u^7)"
   ]
  },
  {
   "cell_type": "markdown",
   "metadata": {},
   "source": [
    "### График первообразной $\\tilde{I}_4(u_i, r)$:"
   ]
  },
  {
   "cell_type": "code",
   "execution_count": null,
   "metadata": {
    "vscode": {
     "languageId": "wolfram"
    }
   },
   "outputs": [],
   "source": [
    "rules = {\n",
    "  eqr1[u, r] -> 0,\n",
    "  ArcTan[x_] -> -Pi/2\n",
    "};\n",
    "\n",
    "PlotAntiderivative[u_] := Module[\n",
    "  {points, antiderivative, r1Value},\n",
    "\n",
    "  r1Value = r1[u]*(1.0+10^-12);\n",
    "  antiderivative =\n",
    "    If[r == r1Value,\n",
    "      antiderivative4s[u, r] /. rules,\n",
    "      antiderivative4s[u, r]\n",
    "    ];\n",
    "\n",
    "  points = {{r1Value, Re[antiderivative /. r -> r1Value]}};\n",
    "\n",
    "  plotLabel = \"u = \" <> ToString[u];\n",
    "\n",
    "  Show[\n",
    "    Plot[\n",
    "      antiderivative,\n",
    "      {r, r1Value, r1Value*2.1},\n",
    "      PlotLabel -> plotLabel,\n",
    "      PlotRange -> All,\n",
    "      AxesLabel -> {\"r\", \"antiderivative4s\"},\n",
    "      ScalingFunctions -> {\"SignedLog\", \"SignedLog\"}\n",
    "    ],\n",
    "    ListPlot[\n",
    "      points,\n",
    "      PlotRange -> All,\n",
    "      PlotStyle -> {Red, PointSize[Large]},\n",
    "      ScalingFunctions -> {\"SignedLog\", \"SignedLog\"}\n",
    "    ]\n",
    "  ]\n",
    "]\n",
    "\n",
    "plots = {PlotAntiderivative[3], PlotAntiderivative[0.1], PlotAntiderivative[5*10.0^-2]};\n",
    "GraphicsRow[plots]"
   ]
  },
  {
   "cell_type": "markdown",
   "metadata": {},
   "source": [
    "## Определённый интеграл, возьмём как разницу первообразных по теореме Ньютона-Лейбница,\n",
    "$$\n",
    "  I_{4,1}(u) = \\int_{r_1}^{\\infty} f_4(u, r) \\, dr = \\tilde{I}_{4}(u, \\infty) - \\tilde{I}_{4}(u, r_1(u)):\n",
    "$$"
   ]
  },
  {
   "cell_type": "markdown",
   "metadata": {},
   "source": [
    "Найдём $\\tilde{I}_{4}(u, \\infty)$:"
   ]
  },
  {
   "cell_type": "code",
   "execution_count": null,
   "metadata": {
    "vscode": {
     "languageId": "wolfram"
    }
   },
   "outputs": [],
   "source": [
    "integral4Inf[u_] = Limit[\n",
    "  antiderivative4s[u, r],\n",
    "  r -> Infinity,\n",
    "  Assumptions -> {u ∈ Reals, u > 0}\n",
    "];\n",
    "\n",
    "integral4Infs[u_] = Simplify[\n",
    "  ComplexExpand[\n",
    "    Re[integral4Inf[u]]\n",
    "  ] /. Arg -> arg,\n",
    "  {{u, r} ∈ Reals, u > 0, r > r1[u]}\n",
    "]"
   ]
  },
  {
   "cell_type": "markdown",
   "metadata": {},
   "source": [
    "Найдём $\\tilde{I}_{4}(r_1(u))$, при этом заметим, что $2\\sqrt{r} - u^2 + r u^2 = 0$, и $\\mathrm{arctan}(-\\infty) = -\\frac{\\pi}{2}$:"
   ]
  },
  {
   "cell_type": "code",
   "execution_count": null,
   "metadata": {
    "vscode": {
     "languageId": "wolfram"
    }
   },
   "outputs": [],
   "source": [
    "integral4r1[u_] = antiderivative4s[u, r] /. rules"
   ]
  },
  {
   "cell_type": "markdown",
   "metadata": {},
   "source": [
    "### Графики функций $\\tilde{I}_{4}(u, r_i)$:"
   ]
  },
  {
   "cell_type": "code",
   "execution_count": null,
   "metadata": {
    "vscode": {
     "languageId": "wolfram"
    }
   },
   "outputs": [],
   "source": [
    "Plot[\n",
    "  {\n",
    "    N[antiderivative4s[u, 1]],\n",
    "    N[antiderivative4s[u, 10^2]],\n",
    "    N[antiderivative4s[u, 10^5]],\n",
    "    N[antiderivative4s[u, 10^10]],\n",
    "    N[integral4Infs[u]]\n",
    "  },\n",
    "  {u, 0, 1000},\n",
    "  AxesLabel -> {\"u\", \"antiderivative4\"},\n",
    "  PlotLegends -> {\n",
    "    \"antiderivative4s[r=1]\",\n",
    "    \"antiderivative4s[r=10^2]\",\n",
    "    \"antiderivative4s[r=10^5]\",\n",
    "    \"antiderivative4s[r=10^10]\",\n",
    "    \"antiderivative4s[r=Infinity]\"\n",
    "  },\n",
    "  ScalingFunctions -> {\"SignedLog\", \"SignedLog\"}\n",
    "]"
   ]
  },
  {
   "cell_type": "code",
   "execution_count": null,
   "metadata": {
    "vscode": {
     "languageId": "wolfram"
    }
   },
   "outputs": [],
   "source": [
    "Plot[\n",
    "  {\n",
    "    N[Re[antiderivative4s[u, r1[u]+10^-2]]],\n",
    "    N[Re[antiderivative4s[u, r1[u]+10^-4]]],\n",
    "    N[Re[antiderivative4s[u, r1[u]+10^-5]]],\n",
    "    N[Re[antiderivative4s[u, r1[u]+1.35*10^-6]]],\n",
    "    N[Re[antiderivative4s[u, r1[u]+10^-7]]],\n",
    "    N[Re[antiderivative4s[u, r1[u]+10^-10]]],\n",
    "    N[Re[antiderivative4s[u, r1[u]+10^-12]]],\n",
    "    N[integral4r1[u]]\n",
    "  },\n",
    "  {u, 0.0, 100},\n",
    "  AxesLabel -> {\"u\", \"antiderivative4\"},\n",
    "  PlotLegends -> {\n",
    "    \"antiderivative4s[r=r1[u]+10^{-2}]\",\n",
    "    \"antiderivative4s[r=r1[u]+10^{-4}]\",\n",
    "    \"antiderivative4s[r=r1[u]+10^{-5}]\",\n",
    "    \"antiderivative4s[r=r1[u]+1.35*10^-6]\",\n",
    "    \"antiderivative4s[r=r1[u]+10^{-7}]\",\n",
    "    \"antiderivative4s[r=r1[u]+10^{-10}]\",\n",
    "    \"antiderivative4s[r=r1[u]+10^{-12}]\",\n",
    "    \"antiderivative4s[r=r1[u]]\"\n",
    "    },\n",
    "  PlotRange -> All,\n",
    "  ScalingFunctions -> {\"Log\", \"SignedLog\"}\n",
    "]"
   ]
  },
  {
   "cell_type": "markdown",
   "metadata": {},
   "source": [
    "## Итоговый ответ для $I_4(u)$:"
   ]
  },
  {
   "cell_type": "code",
   "execution_count": null,
   "metadata": {
    "vscode": {
     "languageId": "wolfram"
    }
   },
   "outputs": [],
   "source": [
    "I4[u_] = Simplify[Collect[Simplify[integral4Infs[u] - integral4r1[u], {u ∈ Reals, u > 0}], (425 + 366*u^4 + 37*u^8)]]"
   ]
  },
  {
   "cell_type": "code",
   "execution_count": null,
   "metadata": {
    "vscode": {
     "languageId": "wolfram"
    }
   },
   "outputs": [],
   "source": [
    "TeXForm[I4[u]]"
   ]
  },
  {
   "cell_type": "markdown",
   "metadata": {},
   "source": [
    "## Сравнение Integrate и аналитической $I_4(u)$"
   ]
  },
  {
   "cell_type": "code",
   "execution_count": null,
   "metadata": {
    "vscode": {
     "languageId": "wolfram"
    }
   },
   "outputs": [],
   "source": [
    "Show[\n",
    "  Plot[\n",
    "    N[I4[u]],\n",
    "    {u, 0, 100},\n",
    "    PlotLabel -> Subscript[\"I\", 4][u],\n",
    "    AxesLabel -> {\"u\", Subscript[\"I\", 4]},\n",
    "    PlotLegends -> {Subscript[\"I\", 4][u]},\n",
    "    ScalingFunctions -> {\"SignedLog\", \"SignedLog\"}\n",
    "  ],\n",
    "  ListPlot[\n",
    "    points,\n",
    "    (* Joined -> True, *)\n",
    "    Mesh -> All,\n",
    "    PlotStyle -> {Red, Dashed},\n",
    "    PlotLegends -> {Subscript[\"Integrate I\", 4][u]},\n",
    "    ScalingFunctions -> {\"SignedLog\", \"SignedLog\"}\n",
    "  ]\n",
    "]"
   ]
  },
  {
   "cell_type": "code",
   "execution_count": null,
   "metadata": {
    "vscode": {
     "languageId": "wolfram"
    }
   },
   "outputs": [],
   "source": [
    "points01 = Table[{u, N[Integrate[integrand4[u, r], {r, r1[u], Infinity}]]}, {u, 0.02, 1, 0.05}];\n",
    "Show[\n",
    "  Plot[\n",
    "    N[I4[u]],\n",
    "    {u, 0, 1},\n",
    "    PlotLabel -> Subscript[\"I\", 4][u],\n",
    "    AxesLabel -> {\"u\", Subscript[\"I\", 4]},\n",
    "    PlotLegends -> {Subscript[\"I\", 4][u]},\n",
    "    ScalingFunctions -> {\"SignedLog\", \"SignedLog\"}\n",
    "  ],\n",
    "  ListPlot[\n",
    "    points01,\n",
    "    (* Joined -> True, *)\n",
    "    Mesh -> All,\n",
    "    PlotStyle -> {Red, Dashed},\n",
    "    PlotLegends -> {Subscript[\"Integrate I\", 4][u]},\n",
    "    ScalingFunctions -> {\"SignedLog\", \"SignedLog\"}\n",
    "  ]\n",
    "]"
   ]
  },
  {
   "cell_type": "markdown",
   "metadata": {},
   "source": [
    "$$I_1 = \\hat{r}_2 \\left[ 120\\hat{r}_2^{(1)}\\omega^2\\omega^{(1)} - 5\\hat{r}_2^{(1)}\\omega^{(3)} - 16\\hat{r}_2\\omega^5 - 10\\hat{r}_2^{(2)}\\omega^{(2)} + 60\\hat{r}_2\\omega(\\omega^{(1)})^2\n",
    "- 10\\hat{r}_2^{(3)}\\omega^{(1)} + 40\\hat{r}_2^{(2)}\\omega^3 - 5\\hat{r}_2^{(4)}\\omega - \\hat{r}_2\\omega^{(4)} + 40\\hat{r}_2\\omega^2\\omega^{(2)} \\right]$$"
   ]
  },
  {
   "cell_type": "markdown",
   "metadata": {},
   "source": [
    "$$I_2 = 2\\hat{r}_2 \\left[ -40\\hat{r}_2\\omega^3\\omega^{(1)} - 20\\omega^4\\hat{r}_2^{(1)} + 5\\hat{r}_2\\omega\\omega^{(3)} + 10\\hat{r}_2\\omega^{(1)}\\omega^{(2)} + 10\\omega^2\\hat{r}_2^{(3)} + 30\\omega\\omega^{(1)}\\hat{r}_2^{(2)} + 20\\omega\\omega^{(2)}\\hat{r}_2^{(1)} + 15\\hat{r}_2^{(1)}(\\omega^{(1)})^2 - \\frac{1}{3}\\hat{r}_2^{(5)} \\right]$$"
   ]
  }
 ],
 "metadata": {
  "kernelspec": {
   "display_name": "Wolfram Language 14.1",
   "language": "Wolfram Language",
   "name": "wolframlanguage14.1"
  },
  "language_info": {
   "codemirror_mode": "mathematica",
   "file_extension": ".m",
   "mimetype": "application/vnd.wolfram.m",
   "name": "Wolfram Language",
   "pygments_lexer": "mathematica",
   "version": "12.0"
  }
 },
 "nbformat": 4,
 "nbformat_minor": 2
}
