{
 "cells": [
  {
   "cell_type": "markdown",
   "metadata": {},
   "source": [
    "# Binary catch\n",
    "\n",
    "**При каких условиях два тела, налетающие друг на друга с бесконечности (в системе центра масс) станут связной системой из-за испускания гравволн?**"
   ]
  },
  {
   "cell_type": "code",
   "execution_count": 117,
   "metadata": {
    "vscode": {
     "languageId": "wolfram"
    }
   },
   "outputs": [
    {
     "name": "stdout",
     "output_type": "stream",
     "text": [
      "  (CleanSlate) Contexts purged: {Global`}\n",
      "  (CleanSlate) Approximate kernel memory recovered: 149 Kb\n"
     ]
    }
   ],
   "source": [
    "(* https://mathematica.stackexchange.com/questions/850/how-do-i-clear-all-user-defined-symbols/861#861 *)\n",
    "<< Utilities`CleanSlate`\n",
    "CleanSlate[];\n",
    "\n",
    "ClearAll[\"Global`*\"]\n",
    "(* ClearSystemCache[] *)\n",
    "(* https://mathematica.stackexchange.com/questions/111605/quit-vs-clearallglobal *)\n",
    "if[Length[Names[\"Global`*\"]] > 0, Remove[\"Global`*\"]];\n",
    "\n",
    "(* PacletInstall[\n",
    "    \"TensorSimplify\",\n",
    "\n",
    "    \"Site\" -> \"http://raw.githubusercontent.com/carlwoll/TensorSimplify/master\"\n",
    "]; *)\n",
    "<<TensorSimplify`"
   ]
  },
  {
   "cell_type": "markdown",
   "metadata": {},
   "source": [
    "## Einstein Summation"
   ]
  },
  {
   "cell_type": "code",
   "execution_count": 126,
   "metadata": {
    "vscode": {
     "languageId": "wolfram"
    }
   },
   "outputs": [],
   "source": [
    "ClearAll@EinsteinSummation\n",
    "\n",
    "EinsteinSummation[in_List, arrays_] := Module[\n",
    "  {res =\n",
    "    isum[in -> Cases[Tally @ Flatten @ in, {_, 1}][[All, 1]], arrays]},\n",
    "  res /; res =!= $Failed\n",
    "  ]\n",
    "\n",
    "EinsteinSummation[in_List -> out_, arrays_] := Module[\n",
    "  {res = isum[in -> out, arrays]},\n",
    "  res /; res =!= $Failed\n",
    "  ]\n",
    "\n",
    "isum[in_List -> out_, arrays_List] := Catch@Module[\n",
    "  {indices, contracted, uncontracted, contractions, transpose},\n",
    "  If[Length[in] != Length[arrays],\n",
    "    Message[EinsteinSummation::length, Length[in], Length[arrays]];\n",
    "    Throw[$Failed]];\n",
    "  MapThread[\n",
    "    If[IntegerQ@TensorRank[#1] && Length[#1] != TensorRank[#2],\n",
    "      Message[EinsteinSummation::shape, #1, #2];\n",
    "      Throw[$Failed]] &, {in, arrays}];\n",
    "  indices = Tally[Flatten[in, 1]];\n",
    "  If[DeleteCases[indices, {_, 1 | 2}] =!= {},\n",
    "    Message[EinsteinSummation::repeat,\n",
    "      Cases[indices, {x_, Except[1 | 2]} :> x]];\n",
    "    Throw[$Failed]];\n",
    "  uncontracted = Cases[indices, {x_, 1} :> x];\n",
    "  If[Sort[uncontracted] =!= Sort[out],\n",
    "    Message[EinsteinSummation::output, uncontracted, out];\n",
    "    Throw[$Failed]];\n",
    "  contracted = Cases[indices, {x_, 2} :> x];\n",
    "  contractions = Flatten[Position[Flatten[in, 1], #]] & /@ contracted;\n",
    "  transpose = FindPermutation[uncontracted, out];\n",
    "  Activate@\n",
    "    TensorTranspose[\n",
    "      TensorContract[Inactive[TensorProduct] @@ arrays, contractions],\n",
    "    transpose]]\n",
    "\n",
    "EinsteinSummation::length =\n",
    "  \"Number of index specifications (`1`) does not match the number of \\\n",
    "tensors (`2`)\";\n",
    "EinsteinSummation::shape =\n",
    "  \"Index specification `1` does not match the tensor rank of `2`\";\n",
    "EinsteinSummation::repeat =\n",
    "  \"Index specifications `1` are repeated more than twice\";\n",
    "EinsteinSummation::output =\n",
    "  \"The uncontracted indices don't match the desired output\";"
   ]
  },
  {
   "cell_type": "code",
   "execution_count": 134,
   "metadata": {
    "vscode": {
     "languageId": "wolfram"
    }
   },
   "outputs": [],
   "source": [
    "(* Правила для скрытия аргументов в TraditionalForm *)\n",
    "\n",
    "Unprotect[Subscript, OverHat, Derivative];\n",
    "\n",
    "MakeBoxes[OverHat[r_][OverHat[t]], TraditionalForm] :=\n",
    "  MakeBoxes[OverHat[r], TraditionalForm]\n",
    "\n",
    "MakeBoxes[\\[Phi][OverHat[t]], TraditionalForm] :=\n",
    "  MakeBoxes[\\[Phi], TraditionalForm]\n",
    "\n",
    "MakeBoxes[Subscript[OverHat[r], n_][OverHat[t]], TraditionalForm] :=\n",
    "  SubscriptBox[OverscriptBox[\"r\", \"^\"], ToString[n]];\n",
    "\n",
    "MakeBoxes[OverHat[\\[Omega]][OverHat[t]], TraditionalForm] :=\n",
    "  OverscriptBox[\"\\[Omega]\", \"^\"];\n",
    "\n",
    "MakeBoxes[Derivative[n_][f_][OverHat[t]], TraditionalForm] := Module[{primes},\n",
    "  primes = StringJoin[Table[\"\\[Prime]\", n]];\n",
    "  SuperscriptBox[ToBoxes[f], primes]\n",
    "];\n",
    "\n",
    "Protect[Subscript, OverHat, Derivative];"
   ]
  },
  {
   "cell_type": "markdown",
   "metadata": {},
   "source": [
    "$\\hat{r}_k$"
   ]
  },
  {
   "cell_type": "code",
   "execution_count": 143,
   "metadata": {
    "vscode": {
     "languageId": "wolfram"
    }
   },
   "outputs": [
    {
     "data": {
      "text/html": [
       "<div><img alt=\"Output\" src=\"data:image/png;base64,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\"></div>"
      ],
      "text/plain": [
       "FormBox[TagBox[RowBox[{\"(\", \"⁠\", \n",
       "\n",
       " \n",
       ">         TagBox[GridBox[{{RowBox[{OverscriptBox[\"r\", \"^\"], \" \", \n",
       "\n",
       " \n",
       ">               RowBox[{\"cos\", \"(\", \"ϕ\", \")\"}]}]}, \n",
       "\n",
       " \n",
       ">            {RowBox[{OverscriptBox[\"r\", \"^\"], \" \", RowBox[{\"sin\", \"(\", \"ϕ\", \")\"}]}]}}, \n",
       "\n",
       " \n",
       ">           Rule[RowSpacings, 1], Rule[ColumnAlignments, Center], \n",
       "\n",
       " \n",
       ">           Rule[ColumnAlignments, Left]], Column], \"⁠\", \")\"}], \n",
       "\n",
       " \n",
       ">       Function[BoxForm`e$, MatrixForm[BoxForm`e$]]], TraditionalForm]\n"
      ]
     },
     "execution_count": 143,
     "metadata": {
      "text/html": [],
      "text/plain": []
     },
     "output_type": "execute_result"
    }
   ],
   "source": [
    "rh = {OverHat[r][OverHat[t]]*Cos[\\[Phi][OverHat[t]]], OverHat[r][OverHat[t]]*Sin[\\[Phi][OverHat[t]]]};\n",
    "rh // MatrixForm // TraditionalForm"
   ]
  },
  {
   "cell_type": "code",
   "execution_count": 144,
   "metadata": {
    "vscode": {
     "languageId": "wolfram"
    }
   },
   "outputs": [],
   "source": [
    "$Assumptions = {\n",
    "  {OverHat[r][OverHat[t]], OverHat[t], rh, Subscript[OverHat[r],2][OverHat[t]]} \\[Element] PositiveReals\n",
    "};"
   ]
  },
  {
   "cell_type": "markdown",
   "metadata": {},
   "source": [
    "## Система движения в декартовых координатах\n",
    "$$\n",
    "\\frac{d^2r_k}{dt^2} = -\\frac{G(m_A+m_B)}{r^3}r_k - \\frac{2}{5}f_{ki}^{(5)}r_i\n",
    "$$\n",
    "\n",
    "Ч.Мизнер, К.Торн, Дж.Уилер Гравтация, Т.3, §36.8, стр. 222\n",
    "\n",
    "$f_{ki}$ - квадрупольный момент системы."
   ]
  },
  {
   "cell_type": "markdown",
   "metadata": {},
   "source": [
    "Введём обозначения для полноый и приведённой масс\n",
    "\n",
    "$$\n",
    "M=m_A+m_B; \\quad\n",
    "\\mu = m_{AB} = \\frac{m_A m_B}{M}\n",
    "$$"
   ]
  },
  {
   "cell_type": "markdown",
   "metadata": {},
   "source": [
    "### Безразмерные единицы\n",
    "$$\n",
    "\\begin{align}\n",
    "r &= b\\hat{r} \\\\\n",
    "t &= t_0\\hat{t} \\\\\n",
    "f_{ij} &= b^2\\frac{G}{c^5}\\mu\\hat{f}_{ij} \\\\\n",
    "f_{ij}^{(5)} &= \\frac{b^2}{t_0^5}\\frac{G}{c^5}\\mu\\hat{f}_{ij}^{(5)}\n",
    "\\end{align}\n",
    "$$"
   ]
  },
  {
   "cell_type": "markdown",
   "metadata": {},
   "source": [
    "$\\hat{f}_{ki}$"
   ]
  },
  {
   "cell_type": "code",
   "execution_count": 146,
   "metadata": {
    "vscode": {
     "languageId": "wolfram"
    }
   },
   "outputs": [
    {
     "data": {
      "text/html": [
       "<div><img alt=\"Output\" src=\"data:image/png;base64,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\"></div>"
      ],
      "text/plain": [
       "FormBox[TagBox[RowBox[{\"(\", \"⁠\", \n",
       "\n",
       " \n",
       ">         GridBox[{{RowBox[{FractionBox[\"1\", \"6\"], \" \", \n",
       "\n",
       " \n",
       ">              SuperscriptBox[OverscriptBox[\"r\", \"^\"], \"2\"], \" \", \n",
       "\n",
       " \n",
       ">              RowBox[{\"(\", RowBox[{RowBox[{\"3\", \" \", \n",
       "\n",
       " \n",
       ">                    RowBox[{\"cos\", \"(\", RowBox[{\"2\", \" \", \"ϕ\"}], \")\"}]}], \"+\",\\\n",
       " \n",
       ">    \"1\"}]\\\n",
       ", \")\"}]}], RowBox[{SuperscriptBox[OverscriptBox[\"r\", \"^\"], \"2\"], \" \", \n",
       "\n",
       " \n",
       ">              RowBox[{\"sin\", \"(\", \"ϕ\", \")\"}], \" \", RowBox[{\"cos\", \"(\", \"ϕ\", \")\"}]}]}, \n",
       "\n",
       " \n",
       ">           {RowBox[{SuperscriptBox[OverscriptBox[\"r\", \"^\"], \"2\"], \" \", \n",
       "\n",
       " \n",
       ">              RowBox[{\"sin\", \"(\", \"ϕ\", \")\"}], \" \", RowBox[{\"cos\", \"(\", \"ϕ\", \")\"}]}], \n",
       "\n",
       " \n",
       ">            RowBox[{FractionBox[\"1\", \"3\"], \" \", \n",
       "\n",
       " \n",
       ">              SuperscriptBox[OverscriptBox[\"r\", \"^\"], \"2\"], \" \", \n",
       "\n",
       " \n",
       ">              RowBox[{\"(\", RowBox[{RowBox[{\"3\", \" \", \n",
       "\n",
       " \n",
       ">                    RowBox[{SuperscriptBox[\"sin\", \"2\"], \"(\", \"ϕ\", \")\"}]}], \"-\", \"1\"}], \n",
       "\n",
       " \n",
       ">                \")\"}]}]}}, Rule[RowSpacings, 1], Rule[ColumnSpacings, 1], \n",
       "\n",
       " \n",
       ">          Rule[RowAlignments, Baseline], Rule[ColumnAlignments, Center]], \"⁠\", \")\"}], \n",
       "\n",
       " \n",
       ">       Function[BoxForm`e$, MatrixForm[BoxForm`e$]]], TraditionalForm]\n"
      ]
     },
     "execution_count": 146,
     "metadata": {
      "text/html": [],
      "text/plain": []
     },
     "output_type": "execute_result"
    }
   ],
   "source": [
    "fh = Simplify[Array[rh[[#]]*rh[[#2]] - 1/3*KroneckerDelta[#, #2]*(OverHat[r][OverHat[t]])^2 &, {2, 2}], Trig -> True];\n",
    "fh // MatrixForm // TraditionalForm"
   ]
  },
  {
   "cell_type": "markdown",
   "metadata": {},
   "source": [
    "$\\hat{f}_{ki}^{(5)}$"
   ]
  },
  {
   "cell_type": "code",
   "execution_count": 150,
   "metadata": {
    "vscode": {
     "languageId": "wolfram"
    }
   },
   "outputs": [
    {
     "data": {
      "text/html": [
       "<div><img alt=\"Output\" src=\"data:image/png;base64,iVBORw0KGgoAAAANSUhEUgAAAKUAAABWCAIAAAAhT8E6AAAAzXpUWHRSYXcgcHJvZmlsZSB0eXBlIGV4aWYAAHjabU/bDQMhDPtnio6QBzgwDnfHSd2g4zc81IqqlkgcxwkQ2ut5h0eHMIWYLKMA5IglFqlOMk3MzFRGHKhp9XjXQ8LSq0vp20Bb+rHrtvySfxaRTKL9Buca18BapDJ1rrM+ll9qzvsipQ2FPk//W0c1QQJb9BiFzFCc5+DUE5JQMtw4ATcyLqF4em4w8zFYd2jtgx3SbHe3AHXh6l/QfpJWz+qRlaUrPHgZ0eRY3fGR8AZbW1q6182YPAAAAAlwSFlzAAAWJQAAFiUBSVIk8AAAADx0RVh0U29mdHdhcmUAQ3JlYXRlZCB3aXRoIHRoZSBXb2xmcmFtIExhbmd1YWdlIDogd3d3LndvbGZyYW0uY29tXKKmhQAAACF0RVh0Q3JlYXRpb24gVGltZQAyMDI1OjAzOjExIDIxOjE5OjE3r4XhsgAAEUtJREFUeF7tnXnUTtUXx5EmpFGhkqmSokyV0kKUYdGEUqKFypiVldK0SiiqP4pktgi1mlU0WSpNGmmklqEQMqQJJRp+H2s/v/Pe9z73uXff+97p4bl/vOt9nmefc/Y++5x99tlnn+8t/d9//5XKt+ejjz76+OOPhes///xz165dd955Z74J4c1vJGKi7/x6/v3339NOO83aW++//35+iaDhNiIxy3gPsxRQ/PPPP8zgt99+G15ee+21/fff/93/Px9++OE555zD95MmTZo5c2YKmA3OwoYNG6644gqEdRHz2muv/eabb4K34TLW/v77b+VI/OOPPzCqGuJgNAjZpUsXKduyZcu+fft+//33tqrgoV69ehMmTAjWhGcpJlykYm7durVGjRpPP/20u5iM76OPPnrFihUuDDNicv1aKtcPzJ9+/fp59gIEN998M8PtqKOOWrdunYbeL83EiRNPPPHE33//nYKLFy82Q7thw4bvvfeetbZvv/32iCOOsH3pt7lc9JGKiYYuvPDCG264QVp3F/Ohhx5iRdu+fXsuVletWnXNNdf89ttv2QTO+p41a1azZs2ki92fl19+uXTp0qKD8847T2kSvGot+p1Zdfjhh2Or5auvvvpqyJAh55577kEHHSSN2ib09ddfjwHQ16+kjFrM+fPnI8vPP/+sFJM+cbdkCxYsOP3009evX28T0EHfTz311HHHHYd58eyLH3744cgjj6xevfqXX345ePBgOL799ts9S/kiWLZsGdVme2SbN29u3749P5UrV27t2rWmzrFjx5YvXz7cYReDmMOGDTv22GOzeyaXmEyt7t27u/fkjBkzTj755C1btljJ7PrGJNJfL7zwgqdW6FNsAL4SPAkxI+6AAw54/fXXPcvqCaZOnYpSHU0TU79bt278+thjj5kK33zzTb5ZsmSJvgl3ynjExJi3adPGkRNHMVlqa9eu7Slju3btmBXUYCiL6ZsfzjzzzObNm3tWBMHu3bvfeOONnTt3Wom//vrr5cuXa4oraXDNHAe+FBcziOtuavvxxx/5Ztq0acr6PcniERMzeeONN+ZiJltMzBhiei64ePKstlOmTDE1F9uPPffcc8QxaFjj7pctW/b8888/8MADrcSnnnoqvpWmuJIGgyH7E8fn+OOP5/s6deqYXxmy/M+GTVm/J1lsYgrn4YpJz7Rt2/buu+8mKiU1F9P3qFGjKleufNFFF3n2QjYB82D06NGsK9WqVevTp8+vv/4aoJLsIuw98GJyVfX888+z+jDsDIEQV6pUKZTWsysh5tWzZ09kxAoyPcJqBYb9ilmhQgXjtLqwgQPLtr4oMmFm+tKlSymGH+9p4rIJUPall15K12Phe/fuTT2MqQD1ZBfBz6Q2Nhj8xAxo3bo1a/Ynn3zCxzVr1rBhxSuxlnrmmWf222+/n376KZTWbZUQ8ME9hAGWLbhC3m3btoXSEFpp1KiRVKURk2gEXaFpGg6xduxohLho/ca1RoYnnnhCU4uNhj0SZR988EG+v+OOO1gzxo0bF6Ce7CKEcY455hiz9+jYsaOMZUIreIsLFy60FbnuuuvwfUJp2lYJs+SQQw6pUqUKziPj6dBDD2U1wU6G0hbzhE4zvrS7mCxwrPfWVdmdhxYtWtBjEqEq0vfZZ5/NtytXrvQrAJs8DMvBBx+8Y8cOKYsx91uJC/1LL710wgknbNq0ScY+c51NhGnLWvDTTz/FMIbrMJr6Bw0aRP/cdddd8g2xtr/++itEMdlf9ejRQyp0F/Oee+5h3XQJotm4Gjp0KJyLD5vRN242nhHGyuq7K4Whearr0KGDkj4AGZ4Bs9m2F7DVw7Bju/niiy8GqN+zCNrFeiMmQ8qTOBgBZqNVq1b333+/e3ECrgRSCAnoWyF6BufEpIv0vWjRIr6qW7euvhZDecYZZxhjHqC4ssi8efMI8boQswsn+qaszS8ZAQlkrFixon5W+W0Cevb6+D3uwSIiM462zaU5AswwTwgWmtJ7dF6qFP4bntoFF1wgWz3NwxAhak8Ud+DAgdAT+8XjYBJ07txZUzwvaJjWOICwOnv2bDxHFuwRI0bwkShTuNvOSHtj9erVOLasuXt2ZTIuRIyrr75aPypvueUWlnyOSSjIJpX/eVC2vob0U+IKiFyiDyLH8pEz2fQzbzhk1Ar/+EAZfePW8rl///5+xejVqxcFzzrrLL8F84ie+Lz016uvvppHbFtZlQAUwbRMvIWdAJ/ZY/g1LJJXJBkHe+sjMrJfatq0aZ7KiOcB52g5o2+Jt2niNVaBWbzl/Gpf0DfObID5kJLxIZpFy8X0zTLsiz+O5SXquy/oO69lFM2WVN9i6AiGVK1a1ddAySNiBjR77nwf07J+F+mbPZ8sUb40sS8s3hwpsmzlu75FswQPSpSfui/oW2Rk23nSSSf5mgzpJA6u740bN8pGxWVhY0BxpkQwh1AolIQ8+Z+wc3ZfkKfw+OOPi+XkYedjbhQk23HChrtnrmGedYGwP9FQ4qYiEaEt8sDilk52aQ0aNKDhBx54QL+/5BiDIhzUuMT/iMmQpgMZauYMkcN1/n/llVdsrRDwI0HnsMMOq1WrFj/xP2eaZNromYmOkixYeCYlNFcTSubvu+8+sgKpiuMGqYqjHVyf6Di31izRQI4ZM/GWAPqWKzxXXXWVO8d79nxlypBDwWEAgT2eXEcyRGSpkGPZW2+9Vc4c4+kLl1ZwcMSz9Txz0zDPUTTrAjkn0iKpdjK+Y3hC0Ddpv3QERtiTXRlMnidXEEBWv379cLNLPdlzIZAbLXSWZyVK5uWsQUbPZ599pszw92zdk8DoO+D6TaYcdgxjfvHFF3uuQLLAc2TrTilk5AlhzD3rjIeApYeGJGMnFOY5NZaVm7/jx48X9cf5+NA3Geks8Jw5wh9Jx+Qwkdkop8IuD5sZGftchHGnxJeBgASxOOXPbgtXEU1IHGnu3Ll4FRwreLKkZJ68IhYIuoK8EnqGmJ1nzSETiCnQrN8kHdA2Zhxn+5RTTiH/WZPHwoEKuU0UZFWmIbaz0iJG25ofwvekHZLjQWSAdQ6P95dffvE0U6ETsKEg6QNuZVvBP5rELBfmbWLCMGdLZAxwL1CS8uJ5gqzfbB6wtJykMjhwLPG8XHj94osvuCrwyCOP4KJDhmPC+BgzZgwpsHxkaHOWTO4pmYePPvroW2+9hRlndyeZGMOHD8fuaS64RNFZl19+OTyQqY/pMtlLjg0xONyZN2ISeDY1yEUcGf2xPUH0DXMcoJJGwsrt6VIhD1JddtllmH0KksTIRxZ7KYhhkLMHFjDyqOhZyV3BJ+ckhxnG9IqtL2wNScyABAdsjDsPSOHOvBHzpptuMlVNnjyZ2eJ5VSBc8QPqW88E659tD2NLucJok9WKzSRuYzXd7MQcbw/pm46T0pN5I6bhCvuRnVYbNc8l9c89nQgCtraMH4k2mAdLTkYU+TCkG+MTme+Z33JYmxePJ/NGTBGHi674aCxeSUnnwz8Pl0WCizj5ZDGHW23aahMxWQQZ/dyFYyHHJ0iQycT0TaiBGzEJSh5P0yImiW9ET4mssXj7PYQMl8/E9B2uGCmvjUt7LF7Ki5iRylLQd6Tdm7rKC/pOnUoiZaig70i7N3WVF/SdOpVEylBB35F2b+oqL+g7dSqJlKGCviPt3tRVXtB36lQSKUMFfUfavamrPHP/myxM0qlIXxGU0JQ/kQCDp0xmjmUBjjUgXR988MHDDz9MxkAwNkme57J+ifJToz7Cy1V/RMDgSYmTq13BGTAPUAwl4TDM81D4IG+XvIZgQ09TKg345zGIyUkacB3SIYBdAaJoYN45YZPvw8E/1+Sv5RpfkQJFS6NpwD+PWkzyJLl2KUk1JNiA/UUeEdAMtm7X4J9nayq0/JaogaJhPQ3451GLSboqVxHI4xNVGfw17m3fdtttNqhzT/zzqPQdA1B0GvDPYxATPBXu3xg9kRTbtWtX0tzEhjM7bUCOnvjnNpWHML/jAYpOHP88HjHBGXbERwbuUrK7zKsPRJEa/HOrykPQdzxA0Ynjn8cgJumaJL0gqaOHREYUF/BIA7f+qsQ/N0VC8M/jAYrmhjD4544ZjPQRmHGMfXaWxsnnIgT/E0vQuP0amhjEFHR+4Tz7ATQSBDCy/QWTQR6IWfIx8hoRrDShxdciwsNOHP/c1qFR4GELhrw7/jkXNqzoOoFh3sPRN0OPCzIjR47kcjPwxGTlEQzyO/Qc6VOFf/7OO+9w6YmRzd6J/7EuAvVRwkfQ2nPhn3N7i2uLNlB6iJX45zbewtE3e4Y5c+YQK6A7uNSPpQ0LcR5TBiT2d999B98YPcJMgEAKDAT3j1jzuNEDRrWRitWOS09NmjQpoQ6yi7Mz5pYT12K4TYiM/MO7r/wiWjlyxdxlM2beIkdPwj9XsWQwEXgBXl8AMM0DsUF99CepLOklibdEioedHvzzSPGwSU1nqoguCJULnBLXMBo3bsx9M9tmzC/+OXWG4J8b3y9qPOw04J9HjYfN5Uju35jXQnGjihnMCxwcPXa/+Och6zsGPOzE8c9jwMMmUIph5xKuo47NlwHwz636Dr5+k0BPEJ/l8/PPP5fVlI/PPvusv+VERw1CPxdOuYvlQg5eNa0He9lOrmqZ1gjFI1fYWbO5scxH6w5QJ4E3FffCuUcoCCIuDwEoet52Gc+7dkMhA4d1gm88wfWtQ6+Ah+0+EVP1K5fv0S/7pgw+k4Cr3HvvvX65LOBh++2xROglFI9xythzuadpjeAoTcS+A7GY13jYolm0XEzfgoKofwp42Pq+SpZSNFukbwmPADLhi60CHrav7kqQWDRLVCczv4ng8NlAeyo5K+BhKzsqWTImt2SbsYpn9C3rOW929sXZvrB47wV42HteU1OqFKcyHEZk9C3+OpHRgr5tPbAX4GGLWgnm4HJm9E3+OTFbgVRTqlyDh62sKs1kGjzsNPMPb7w5lL9yvpLRN3lxHJnw4jpUruReol1AqPJ6w1xFlPjn4JQRWuKRelhWyL72u1lQsu2XTPRtfeW0rQYl8wnin8vbjDMQ7mb7L28VffLJJ5UBAQ0etgb/nAUSHD5MDQe68qZEYrRwMn36dCUn0ZF54mHrmU8Q/5xMSPpT3gRc9H5gwdrnZebK7lPiYSvxzwWcVUYbvUzSBMEgJSfRkSnxsJXMJ4J/ToyEHCGMufRSkb75gGUm5V3zimB2bqz3GHNbarRj12vwz/Ehycoz6PmdOnXCy4hOkcqaxeahTnd6PfPx458LOLVB/S2mb7Jf+Q0QaEfxADflQEUO7AT+maQLTccNGDAAYlJw3Ik5ICIgAA0+hOdrEzTtBqMheYgFRd4DDBYiSQcarFMl87x41PQ+OedLly4NxqS+FFcXAIE007KYvpnZzEVr4ru13mB42BgxObzLfm2JjWmB2GWZ4fYQZ6x6kUKkDIaHDQNK5ukNUqBIyeJE9corrwyRc8eqgLDFMWL4ml+L6ZtvgbMnyuqoG1942KYBJf459CQBom/gJvv06RN1R7jUr8fDtlaSi/lk8c8vueSS1q1bWxdou76RgfN8wm2OIMV6PGwl/rkVGJyNDYOR0UYrCepbj4dtZdKR+WTxz3F+a9asSZjEyqeDvvmZg3F2nNmXE/VqUOKfW4HBqRxvkUuw+lZSRZnNfIL459wtrVevXnYGnLO+6UfSg/CzAneoHv/cNMF6QbqxZncQmKvoCuZiPhH8cwJqOLyOL4jIqW+6xvp+kdB7irdv8UIiY0Lw3vETPV8pEDoboVTowrxNTO42k6UfSqMulXAalmvauOk7UrbI2mfswxl7HlwkojfWtTzSpsOqXMO8iAlwCidS+KHswZI1YInpWzod4XnFQZcuXcx7i8JSRgz16JnHeyd87fJSyhi4lSb+B/+zaJ3dIVS6AAAAAElFTkSuQmCC\"></div>"
      ],
      "text/plain": [
       "FormBox[TagBox[RowBox[{\"(\", \"⁠\", \n",
       "\n",
       " \n",
       ">         GridBox[{{TemplateBox[List[SubscriptBox[OverscriptBox[\"f\", \"^\"], \n",
       "\n",
       " \n",
       ">               RowBox[List[\"x\", \",\", \"x\"]]], \"\\\"(5)\\\"\"], \"Superscript\", \n",
       "\n",
       " \n",
       ">             Rule[SyntaxForm, SuperscriptBox]], \n",
       "\n",
       " \n",
       ">            TemplateBox[List[SubscriptBox[OverscriptBox[\"f\", \"^\"], \n",
       "\n",
       " \n",
       ">               RowBox[List[\"x\", \",\", \"y\"]]], \"\\\"(5)\\\"\"], \"Superscript\", \n",
       "\n",
       " \n",
       ">             Rule[SyntaxForm, SuperscriptBox]]}, \n",
       "\n",
       " \n",
       ">           {TemplateBox[List[SubscriptBox[OverscriptBox[\"f\", \"^\"], \n",
       "\n",
       " \n",
       ">               RowBox[List[\"x\", \",\", \"y\"]]], \"\\\"(5)\\\"\"], \"Superscript\", \n",
       "\n",
       " \n",
       ">             Rule[SyntaxForm, SuperscriptBox]], \n",
       "\n",
       " \n",
       ">            TemplateBox[List[SubscriptBox[OverscriptBox[\"f\", \"^\"], \n",
       "\n",
       " \n",
       ">               RowBox[List[\"y\", \",\", \"y\"]]], \"\\\"(5)\\\"\"], \"Superscript\", \n",
       "\n",
       " \n",
       ">             Rule[SyntaxForm, SuperscriptBox]]}}, Rule[RowSpacings, 1], \n",
       "\n",
       " \n",
       ">          Rule[ColumnSpacings, 1], Rule[RowAlignments, Baseline], \n",
       "\n",
       " \n",
       ">          Rule[ColumnAlignments, Center]], \"⁠\", \")\"}], \n",
       "\n",
       " \n",
       ">       Function[BoxForm`e$, MatrixForm[BoxForm`e$]]], TraditionalForm]\n"
      ]
     },
     "execution_count": 150,
     "metadata": {
      "text/html": [],
      "text/plain": []
     },
     "output_type": "execute_result"
    }
   ],
   "source": [
    "(* fh5 = Array[Superscript[Subscript[OverHat[f], {x, y}[[#1]], {x, y}[[#2]]], \"(5)\"] &, {2, 2}] *)\n",
    "(* Symmetric version *)\n",
    "fh5 = Array[If[#1 <= #2,\n",
    "                    Superscript[Subscript[OverHat[f], {x, y}[[#1]], {x, y}[[#2]]], \"(5)\"],\n",
    "                    Superscript[Subscript[OverHat[f], {x, y}[[#2]], {x, y}[[#1]]], \"(5)\"]] &, {2, 2}];\n",
    "fh5 // MatrixForm // TraditionalForm"
   ]
  },
  {
   "cell_type": "markdown",
   "metadata": {},
   "source": [
    "$\\hat{f}_{ki}^{(5)}\\hat{r}_i$"
   ]
  },
  {
   "cell_type": "code",
   "execution_count": 152,
   "metadata": {
    "vscode": {
     "languageId": "wolfram"
    }
   },
   "outputs": [
    {
     "data": {
      "text/html": [
       "<div><img alt=\"Output\" src=\"data:image/png;base64,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\"></div>"
      ],
      "text/plain": [
       "FormBox[TagBox[RowBox[{\"(\", \"⁠\", \n",
       "\n",
       " \n",
       ">         TagBox[GridBox[{{RowBox[{RowBox[{OverscriptBox[\"r\", \"^\"], \" \", \n",
       "\n",
       " \n",
       ">                 RowBox[{\"sin\", \"(\", \"ϕ\", \")\"}], \" \", \n",
       "\n",
       " \n",
       ">                 TemplateBox[List[SubscriptBox[OverscriptBox[\"f\", \"^\"], \n",
       "\n",
       " \n",
       ">                    RowBox[List[\"x\", \",\", \"y\"]]], \"\\\"(5)\\\"\"], \"Superscript\", \n",
       "\n",
       " \n",
       ">                  Rule[SyntaxForm, SuperscriptBox]]}], \"+\", \n",
       "\n",
       " \n",
       ">               RowBox[{OverscriptBox[\"r\", \"^\"], \" \", RowBox[{\"cos\", \"(\", \"ϕ\", \")\"}], \n",
       "\n",
       " \n",
       ">                 \" \", TemplateBox[List[SubscriptBox[OverscriptBox[\"f\", \"^\"], \n",
       "\n",
       " \n",
       ">                    RowBox[List[\"x\", \",\", \"x\"]]], \"\\\"(5)\\\"\"], \"Superscript\", \n",
       "\n",
       " \n",
       ">                  Rule[SyntaxForm, SuperscriptBox]]}]}]}, \n",
       "\n",
       " \n",
       ">            {RowBox[{RowBox[{OverscriptBox[\"r\", \"^\"], \" \", \n",
       "\n",
       " \n",
       ">                 RowBox[{\"cos\", \"(\", \"ϕ\", \")\"}], \" \", \n",
       "\n",
       " \n",
       ">                 TemplateBox[List[SubscriptBox[OverscriptBox[\"f\", \"^\"], \n",
       "\n",
       " \n",
       ">                    RowBox[List[\"x\", \",\", \"y\"]]], \"\\\"(5)\\\"\"], \"Superscript\", \n",
       "\n",
       " \n",
       ">                  Rule[SyntaxForm, SuperscriptBox]]}], \"+\", \n",
       "\n",
       " \n",
       ">               RowBox[{OverscriptBox[\"r\", \"^\"], \" \", RowBox[{\"sin\", \"(\", \"ϕ\", \")\"}], \n",
       "\n",
       " \n",
       ">                 \" \", TemplateBox[List[SubscriptBox[OverscriptBox[\"f\", \"^\"], \n",
       "\n",
       " \n",
       ">                    RowBox[List[\"y\", \",\", \"y\"]]], \"\\\"(5)\\\"\"], \"Superscript\", \n",
       "\n",
       " \n",
       ">                  Rule[SyntaxForm, SuperscriptBox]]}]}]}}, Rule[RowSpacings, 1], \n",
       "\n",
       " \n",
       ">           Rule[ColumnAlignments, Center], Rule[ColumnAlignments, Left]], Column], \"⁠\",\\\n",
       " \n",
       ">    \n",
       "      \")\"}], Function[BoxForm`e$, MatrixForm[BoxForm`e$]]], TraditionalForm]\n"
      ]
     },
     "execution_count": 152,
     "metadata": {
      "text/html": [],
      "text/plain": []
     },
     "output_type": "execute_result"
    }
   ],
   "source": [
    "fh5rh = EinsteinSummation[{{k, i}, {i}}, {fh5, rh}];\n",
    "fh5rh // MatrixForm // TraditionalForm"
   ]
  },
  {
   "cell_type": "markdown",
   "metadata": {},
   "source": [
    "Система движения в безразмерной записи будет выглядеть как"
   ]
  },
  {
   "cell_type": "markdown",
   "metadata": {},
   "source": [
    "$$\n",
    "\\frac{d^2\\hat{r}_k}{d\\hat{t}^2} = -\\frac{t_0^2}{b^3}\\frac{GM}{\\hat{r}^3}\\hat{r}_k - \\frac{2}{5}\\frac{b^2}{t_0^3}\\frac{G}{c^5}\\mu\\hat{f}_{ki}^{(5)}\\hat{r}_i\n",
    "$$"
   ]
  },
  {
   "cell_type": "markdown",
   "metadata": {},
   "source": [
    "Пусть $t_0 = \\sqrt{\\frac{b^3}{GM}}$, а $b$ - прицельное расстояние, тогда система движения перепишется как\n",
    "\n",
    "$$\n",
    "\\frac{d^2\\hat{r}_k}{d\\hat{t}^2} + \\frac{\\hat{r}_k}{\\hat{r}^3} = - \\epsilon_G\\hat{f}_{ki}^{(5)}\\hat{r}_i\\quad,\n",
    "$$\n",
    "или\n",
    "$$\n",
    "\\hat{r}_k^{(2)} + \\frac{\\hat{r}_k}{\\hat{r}^3} = - \\epsilon_G\\hat{f}_{ki}^{(5)}\\hat{r}_i\\quad,\n",
    "$$\n",
    "\n",
    "где безразмерная постоянная $\\epsilon_G = \\frac{2}{5}\\frac{b^2}{t_0^3}\\frac{G}{c^5}\\mu = \\frac{2}{5}\\frac{\\mu}{M} \\left( \\frac{GM}{bc^2} \\right)^{\\frac{5}{2}}$.\n",
    "\n",
    "Заметим , что $f_{ij}^{(5)} = \\frac{5}{2}\\frac{\\epsilon_G}{t_0^2}\\hat{f}_{ij}^{(5)}$"
   ]
  },
  {
   "cell_type": "markdown",
   "metadata": {},
   "source": [
    "## Переход к полярным координатам от декартовых\n",
    "Повернём систему с помощью матрицы вращения $R_{ij}(\\phi)$ на угол $\\phi$ по **часовой** стрелке"
   ]
  },
  {
   "cell_type": "code",
   "execution_count": 153,
   "metadata": {
    "vscode": {
     "languageId": "wolfram"
    }
   },
   "outputs": [
    {
     "data": {
      "text/html": [
       "<div><img alt=\"Output\" src=\"data:image/png;base64,iVBORw0KGgoAAAANSUhEUgAAALsAAAA6CAIAAABnHr9AAAAAy3pUWHRSYXcgcHJvZmlsZSB0eXBlIGV4aWYAAHjabU/ZDUMhDPtnio6QAxwYB/qo1A06fsOhVlS1RGycC0J/PR/hNiBMISbLKAA5YolFqotMC4uZyowTre0cn37Quv3qVvom0LffTt+wWPLPIJIldGxwrXE37EEqy+e9sO16qTmfg5QOFPo8/e89qgkS2KLHKGSG4joHl05IQsnwwB3wQsYlFO/OHWbeBhsVWkfjgHQ7q3uAunGNL+g4SauzemRlGQ5PXWY0aTs7PxLe13hbEZtxeCkAAAAJcEhZcwAAFiUAABYlAUlSJPAAAAA8dEVYdFNvZnR3YXJlAENyZWF0ZWQgd2l0aCB0aGUgV29sZnJhbSBMYW5ndWFnZSA6IHd3dy53b2xmcmFtLmNvbVyipoUAAAAhdEVYdENyZWF0aW9uIFRpbWUAMjAyNTowMzoxMSAyMToxOToxN6+F4bIAABFcSURBVHhe7Z151JXTF8dVpELJEGUoKWQIlciwSJJUCNUyh5CURYaQMWNoUYhqtRpMKyxzrczzPGRWSoOxMs9D1O/z+r6/8x7nGe557n3uc3u99/xx173n2WfaZ5+999nnOd9ba8WKFauUU1YceP/997t3716vXr2nnnpqo402yqrZNNupnWZlGdb1zTfffPTRR/4NvvLKK8uXL/enLxLlI4888umnn86dO/fxxx8vsImXXnrJv4avv/6aRv3p4yjRMdUuPffcc5tsssltt90W1fPDDz+8adOmU6ZMMQRHHHHEPvvss3jx4tIOdt68ee3bt999992/+uqrvHvy22+/DRw4cLvttvv9999DK3niiSfatm271VZbmaezZs3aYIMNbIbk3foqMSXpWd71Fq8g4lK3bt2xY8dGNcF6qlWrFqtk0aJFhubPP/88+OCDW7du/f333xevbxnU/Pfff/fo0QNxWbp0aVRzQ4YMYfjHHXecTfDMM8+sscYaN910k08n//jjD1RyKGWkxMycOXPQoEE+tWdJ8/nnn2+44Yb9+/ePafS+++6DXywyh+bXX3/ddNNNYTdMz7LP6bZ1wQUXrLbaapiYmGq33357OHDvvfc6NIgLZVlyObu0YMGCfv36hSrCcIlhBXfp0gUW56zaJkBJov3wGL799tuogjx66623fv755yiCJUuWPPnkkxjpn376CcXw119/GUoEv1OnTiyUL774IqZjp59+Ovw677zzgjS33347j2B6onElJV62bNk777yDy/Lxxx+zUoNsxAn78ssvnWrxb4zamD9//nvvvRds94EHHkB9Dh06NKZL3333Xe3atVdffXUY6JDRsa233polx8LLOagXXnhhm222QXQcyhCJmTRpUosWLX788ceclRqChQsXImFsAVq2bLnqPwk1QNcNAYy79tprmzdvzoQxHoaNgZg6dardBEv/tNNOq1OnDpaeRCWNGzdmT2Fobr75ZoqfcMIJMR1jMrbddlvI7rjjjiAZ3WjWrBmt02H/0SWifPXVV7fccstGjRrtu+++66yzznrrrbfXXnuphl9++eWuu+7COGJVx40bp0yk6pprrtlll13oFQJ99913q/8k6rGnFv7QefJj5huZoGZodthhh9AFr6eOwYoa4LRp05AEZ326EvP2228z8awPfzYxqUxtx44dNZKXX35ZbkSvXr1UCboB9pEzYMAApuqHH364/vrrxZS+ffsae3ndddeRM3LkSJUaPXo0P+2e7LrrrqHKVvQTJkzYY489EDjj57dp0waF5wzk2GOPheDyyy/3H6A/JTKBx73++utLieJo436iF/nOXLKoeKruGYm54oor1l13XWWiANAN++23nxGarl27mtYfffRRaILWVgRw9fjjj19zzTXN8JlH1C3Mt/uPbwdBw4YNPZ3U3r1777333rYd/5fE8AATaPcyJ7PgEc7BWmuthb9piHfbbTe61aBBA+Vcdtll/GT+sDKG5pxzztHYxo8fr0x2EPzEzzc0aMUHH3xQP1HaPEUWYY3TK9Rvnz59UF0IGWsUsqOPPhqrxJf69euj4W16dA/5LMGcQ8uDQHtmBNeUpT/t2rUzP999911HYniEAVLmZptt9uGHH5LDKsKNIAdthKipOOuNnDPOOCPYMbxa9HeHDh0++OADPiF76KGH0OJ8YVfl0G+xxRbk33///T4DxGGCsTfeeKMh/pfE3HrrrdQ1Y8YMn7pEc9FFF1EEa2IXYWUjdswfmUgSwg4NVsmmYeKZTvLRTxJhivATXYVwiJKF+Pzzz+v7008/zVP0vNM3HJ2dd96ZR9psDxs2jO9y+jBtwb5hnslkLfqP0Z9SlcPiW265RaVYyieeeKKpAV8yKDFs35Rpaz4WkjIJO6k41o2fY8aMcfrDoqJFBIV6WDxYc+khhAZ61pjjVorPznTEjPGAAw5o0qSJ8Yr+JTHs2QhERm2rQitF5dL8xIkTo5p87LHHNPKg665lRJLnP3nyZP1ELOCLo07ltGLanYZGjRpFPoFU5aPejNN36qmn8ogB20VM3C+oq/wlI4oS1qEnNAo2ZUHvFTdLT41Voip6okxbYtirKhM/Qc1JZ9x5551265RV7Fj2V9wePnw437GMquHNN9+0ixCsIhOD5TleJBJ6o2aqYr70DJ2JEZUX4pkIe0Npm0+n4Jw5c5SDD+g8Ql0rB13KJ5YFfc4X1gSTjfiiYEwRdBXf8SjtSnCuL7zwQnJkg9isvfbaa6xF9YenfBLrs4uYGnDtPcfoTwbrcGMxJRSZPn06a52JwQP1r8FQBmchlANXXXUV7iMeErqZsuyc+ezZsyef7DpVWygH/IePH8MilP0hVUmMDHy3bt38h8cMqeGYCLQZOftJp2ZzsIJS5RF+D0uEra84jjLo3LmzUVFrr702mehGu5I33ngDR4rxyHNin4KrJH6R2IbwKdtkkqmBXbr/SP0pDznkEAR9xx13pAgqBx8fJYcv4l9DFGUoB5599lnomVSVQmLwuyU9Gj5eprNWxQH/4UOJi4kOU4VVEsOWh9877bST/9hwUCS/SFvw1IaYBFKCw6sKpY3shN3RTzxcPtlkMfcjRoyAEpVODj7KkUceifLkO4zgE/Vj14Be5CdOn+TSXmEEEtA3SCGHA3YRKR6MvSYg3YQa4BwAHtI0rgwuGvXjyxunpJDmghyAMzCZOmUKkUvmdf/999cKZCfPJ/LqNCoOqDbPJKmQhFRKDA4agTWUuUIm/okNIcSYFYJ+dikmjFlHAbD5Qg54JB3m0PCTgBKbfr4QYsbi8qVVq1Z4bWeeeSbfCWqxfTAjdCRGjiTTr2pZ3OxLVRs+ARy85JJLHJ2sGlh2iYyvJ0NefPFFwmsQs8k/6aSTiEMqgsJexrOGGLKgxKDj5ayIA3APC0hQg+/wn1MkWtdG1U7iQCKJ0W5fZ5+VEkNj8NcsVv/hnXXWWSLG88ClYIUhJezcMCiwjLnHjZWTwSPF703SIiAAYyaP/Y6ekqNdD1+kDHBr2MPTSXbLpgaiHXxHpBAdNlxMmEwSNcMvvHLFf+0kv0pWrBgJj9W4t/jpBx54IK1I2ZBYmfrCZJvWjc1iCCbTUGJnlak+z54929Cw2cTo8FMSqRM3Ql+4CsQXqA0953h+qCW5EIk4oEWIEahoWg6z9ik4MZ7+s01GEDbIenxYE33B+hDThIbAEZpMZS+99FJyWBBma4bt59TDbKkYrQhMW7jG5JiNK/mYZLHsoIMOks5EOeF7opZhWWjQUyLlhJvzGHVoEaL4VL7nnntqL4oCYM0wKHgtetxh8cqOumK2lMm2w1SrBUMisKlMmXVigHbTbCrJxD1AUjFAuMA4c7hurK6HH3442MnXX38dekLziYZM3FWtVPgeKon2Juuoo45KVJEh5ogLXaIRYtpY2XawDjJ+nn322ehqdAYqDscFPtKoHUwkosBIIGBpojwgJmZlHzWL3UQh7U6yYlhVJtSLUML3qGN9ukH3iLHaJxj5DTm0FBtRjCxNkNBweFGbb765Zg7zyipi1GZ1Ya9xO1DAdpwaK8/eRwtMCemHD2pO/oTZb5MDA4l72SYGfYa+jzqqvPLKK6kBZzHRqM12jyh2pcQQYKaiU045JVFFDjG9xEDYZ4cOAQaLGBfTyZoLRqkVIGF14s2RggdpPD3mmGNQvFgWp2aGxH6BSIMTxXHIkGyGec899xQyzJiySCQ9YSESjGc1f/LJJ4mCWzl7hb+IJYIJQUrFbxBBZ63alPAfxwNdHkMT1QfJOgqsUmJkbs8999ycnS4tAVLFvoDtT7AbeHmYpJjusXHDJQpld2kHlaj1G264ATXMptopxXYMYxRfFSczCBzWLVGLIpYN4Tygaq8kQ2WU4cr5BaMDszBVuCl2kANDS6azkbaHwHLHxh922GEcWK6cQ/Ps1eDBgzFDuHS4+XYRlLeWfVTCvWNjgben7W3SJNmo8MclQQq2FulENw+Jji9Cv5EYfGdDBi8c/8apAc8AWUm9J6WqkFM2dK1t2XGxbf/G6RguOSf/wZdy/PuvHUbFZlZldOBp3jTwr6iElLbLQjQoeG5l9y3qldgS9r/Apu0RwQqiXzEV4lzG+Jc+PWFTgoSw6iqtkiIBxQhqJdV+/vQ6TFA6+eST0TExZRVF/C8le0Swgh1ZzOjYjtk7sjz4oDgyclJdb5/kMeZykVQ4UJaYVNhYgyopS0wNmuxUhlqWmFTYWIMqKUtMDZrsVIZalphU2FiDKilLTA2a7FSGWpaYVNhYgyopS0wNmuxUhrpSSAxR6lQGU64kAw6UXmI4fOelDS7q8SZRBgMuN1EgB0ovMWnBNlVT1KoC5y97pKpKidE5U0kSb3UItkk3TvJLuiLEnY+o4iCM8JakuQoDGa8m8V6zuQaWX7slLMXZNeevvH5vLvE4nQkO+bPPPuO1Ft5xzqPb8hwq5EQn3XqzHJwBn4PvlY0mJ2oVHQ7CNlVr1KpskKrsida1pAppU67eXkv6wvDKIDo+qFX0MxS2qfqiVmWDVGXPry6wVkBnKFfXos4///wiCUEM8pRaDMI2CelJT9HAQq1yuueJWhUD21QM1KpiY3VliVRlGK7rChVv4SiLeyf85tZC6hITjzwVhG1CCOgWuEC8igyaAZPNRVrdvOcdIue9Uh/UqnjYpnRRqzLA6soeqUoioRe4KrAT9Bv8CH7HIxLmJ0wxyFOhsE1cB9dLxyRuPCA0XMgDCUw95i1BgyhDf+JRqzxhm9JCrcoGq6skSFXGueYF+0qJETwa9wXzE4uYUvHIUxQMhW069NBDJTRciNGVH3PR3zhbMahV0PvDNqWCWpUZVldJkKoUKuN2Ny8LV0qMJJcNauoSE488RXOhsE2AXknH2P3RrXeusSkzCrWKR4lgm1JBrcoMq6skSFUVF9v+QZCAt5USg+OJwud6aU6J4bYf1jo+2Tid8chTNBcK26Qb9o7E6G6puWUShVqVFLYpFdSqzLC6SoJUxS1SOA/MJfNVGbjDzeS2M5MXH9FCFNiX41jEp6uvvtrEiOKRpxKFkpyrDqGYTVSYFLYpFdSq0mJ1JR0yXNKoPZGqNDqtiqpQr/xNsBdiZpE7mKjfnMm+mxiPPJVIYhziUMwmaJLCNhWOWlVyrK6kQ4ZLiZCqJBVySauQE4UsGo9HndNmBQmIoyiTe/zmHADsRnOF3d8qScaNVeIOMD/5gwa7UaoFCIN8IUAT2EVkzV1ruY1cRLWL6GwBt66QW/XCNeKCahDCnquKgCgTs5fEg7LjcAncST0SkGw8x4RYRljBVJLHkCmrubDvlUZNLltaFBIgFSKo0jFgBBHXMxCPhax+u2w88lQhrYTinOUB25QKalUJsbryGDJs90eqAogD15ComCarSmI4ZGJ2wZvgvwUKmchg2RjkKYhDYZsqdnH/13+mQuE6GcymUNSqPGCbUkGtygyrK3ukKlA2uaZfhStl6yKCCgDmcAk+D+sTVSQn8lQQtgnFDsyTBMWgO4HYo8gvGzoDox1EraIbSWGb0kKtygarK2OkKrYXLEIwCc38uv9LwH13LvEK6zyVFIM8FQrbRCjF/js8nBJsLb0SwLgSbhCKkO6FolYlgm1KF7UqG6yuLJGq0J2gRtjhkpD/PuF0ieh7Wn9C5IM8VYhoRqFWUacPbFMxUKuKjdWVGVIVMFusWD7tCQqRGGSFAybnrwYKmdSilo1BrcoJ21R9UasyQKriZADEQvuPRTSP4f/IhdBcfPHF1eV1GQ6YsH0cvzvwbqifmCEQvGaDw2tseYDCFXUNeFaOu0ZkgSMOmz5+yFASXN14442NdxjVFq8M8FcPwf8aipQYVQR0rGfvS04WRK2iS/GwTf8B1KriIVXhYkb9EV/cP4uWXA6SdsBGrcoJ2/TfQK3KGKmKGalVoWfKqcwBbw78D9FCLDlOvAjGAAAAAElFTkSuQmCC\"></div>"
      ],
      "text/plain": [
       "FormBox[TagBox[RowBox[{\"(\", \"⁠\", \n",
       "\n",
       " \n",
       ">         GridBox[{{RowBox[{\"cos\", \"(\", \"ϕ\", \")\"}], RowBox[{\"sin\", \"(\", \"ϕ\", \")\"}]}, \n",
       "\n",
       " \n",
       ">           {RowBox[{\"-\", RowBox[{\"sin\", \"(\", \"ϕ\", \")\"}]}], \n",
       "\n",
       " \n",
       ">            RowBox[{\"cos\", \"(\", \"ϕ\", \")\"}]}}, Rule[RowSpacings, 1], \n",
       "\n",
       " \n",
       ">          Rule[ColumnSpacings, 1], Rule[RowAlignments, Baseline], \n",
       "\n",
       " \n",
       ">          Rule[ColumnAlignments, Center]], \"⁠\", \")\"}], \n",
       "\n",
       " \n",
       ">       Function[BoxForm`e$, MatrixForm[BoxForm`e$]]], TraditionalForm]\n"
      ]
     },
     "execution_count": 153,
     "metadata": {
      "text/html": [],
      "text/plain": []
     },
     "output_type": "execute_result"
    }
   ],
   "source": [
    "RotationMatrix[-\\[Phi]] // MatrixForm // TraditionalForm"
   ]
  },
  {
   "cell_type": "markdown",
   "metadata": {},
   "source": [
    "#### LHS системы после поворота"
   ]
  },
  {
   "cell_type": "code",
   "execution_count": 155,
   "metadata": {
    "vscode": {
     "languageId": "wolfram"
    }
   },
   "outputs": [
    {
     "data": {
      "text/html": [
       "<div><img alt=\"Output\" src=\"data:image/png;base64,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\"></div>"
      ],
      "text/plain": [
       "FormBox[TagBox[RowBox[{\"(\", \"⁠\", \n",
       "      TagBox[GridBox[{{RowBox[{RowBox[{\"-\", \n",
       "\n",
       " \n",
       ">                 RowBox[{\"2\", \" \", SuperscriptBox[OverscriptBox[\"r\", \"^\"], \"′\"], \n",
       "\n",
       " \n",
       ">                   \" \", SuperscriptBox[\"ϕ\", \"′\"], \" \", \n",
       "\n",
       " \n",
       ">                   RowBox[{\"sin\", \"(\", \"ϕ\", \")\"}]}]}], \"+\", \n",
       "\n",
       " \n",
       ">               RowBox[{OverscriptBox[\"r\", \"^\"], \" \", \n",
       "\n",
       " \n",
       ">                 RowBox[{\"(\", RowBox[{RowBox[{SuperscriptBox[RowBox[\n",
       "\n",
       " \n",
       ">                         {\"(\", SuperscriptBox[\"ϕ\", \"′\"], \")\"}], \"2\"], \" \", \n",
       "\n",
       " \n",
       ">                       RowBox[{\"(\", \n",
       "\n",
       " \n",
       ">                         RowBox[{\"-\", RowBox[{\"cos\", \"(\", \"ϕ\", \")\"}]}], \")\"}]}], \n",
       "\n",
       " \n",
       ">                     \"-\", RowBox[{SuperscriptBox[\"ϕ\", \"′′\"], \" \", \n",
       "\n",
       " \n",
       ">                       RowBox[{\"sin\", \"(\", \"ϕ\", \")\"}]}]}], \")\"}]}], \"+\", \n",
       "\n",
       " \n",
       ">               RowBox[{SuperscriptBox[OverscriptBox[\"r\", \"^\"], \"′′\"], \" \", \n",
       "\n",
       " \n",
       ">                 RowBox[{\"cos\", \"(\", \"ϕ\", \")\"}]}], \"+\", \n",
       "\n",
       " \n",
       ">               FractionBox[RowBox[{\"cos\", \"(\", \"ϕ\", \")\"}], \n",
       "\n",
       " \n",
       ">                SuperscriptBox[OverscriptBox[\"r\", \"^\"], \"2\"]]}]}, \n",
       "\n",
       " \n",
       ">            {RowBox[{RowBox[{\"2\", \" \", SuperscriptBox[OverscriptBox[\"r\", \"^\"], \"′\"], \n",
       "\n",
       " \n",
       ">                 \" \", SuperscriptBox[\"ϕ\", \"′\"], \" \", RowBox[{\"cos\", \"(\", \"ϕ\",\\\n",
       " \n",
       ">    \")\"}]}]\\\n",
       ", \"+\", RowBox[{OverscriptBox[\"r\", \"^\"], \" \", \n",
       "\n",
       " \n",
       ">                 RowBox[{\"(\", RowBox[{RowBox[{SuperscriptBox[\"ϕ\", \"′′\"], \" \", \n",
       "\n",
       " \n",
       ">                       RowBox[{\"cos\", \"(\", \"ϕ\", \")\"}]}], \"-\", \n",
       "\n",
       " \n",
       ">                     RowBox[{SuperscriptBox[RowBox[{\"(\", \n",
       "\n",
       " \n",
       ">                          SuperscriptBox[\"ϕ\", \"′\"], \")\"}], \"2\"], \" \", \n",
       "\n",
       " \n",
       ">                       RowBox[{\"sin\", \"(\", \"ϕ\", \")\"}]}]}], \")\"}]}], \"+\", \n",
       "\n",
       " \n",
       ">               RowBox[{SuperscriptBox[OverscriptBox[\"r\", \"^\"], \"′′\"], \" \", \n",
       "\n",
       " \n",
       ">                 RowBox[{\"sin\", \"(\", \"ϕ\", \")\"}]}], \"+\", \n",
       "\n",
       " \n",
       ">               FractionBox[RowBox[{\"sin\", \"(\", \"ϕ\", \")\"}], \n",
       "\n",
       " \n",
       ">                SuperscriptBox[OverscriptBox[\"r\", \"^\"], \"2\"]]}]}}, \n",
       "\n",
       " \n",
       ">           Rule[RowSpacings, 1], Rule[ColumnAlignments, Center], \n",
       "\n",
       " \n",
       ">           Rule[ColumnAlignments, Left]], Column], \"⁠\", \")\"}], \n",
       "\n",
       " \n",
       ">       Function[BoxForm`e$, MatrixForm[BoxForm`e$]]], TraditionalForm]\n"
      ]
     },
     "execution_count": 155,
     "metadata": {
      "text/html": [],
      "text/plain": []
     },
     "output_type": "execute_result"
    }
   ],
   "source": [
    "LHSMotion = D[rh, {OverHat[t], 2}] + Simplify[rh / Norm[rh]^3];\n",
    "LHSMotion // MatrixForm // TraditionalForm"
   ]
  },
  {
   "cell_type": "code",
   "execution_count": 156,
   "metadata": {
    "vscode": {
     "languageId": "wolfram"
    }
   },
   "outputs": [
    {
     "data": {
      "text/html": [
       "<div><img alt=\"Output\" src=\"data:image/png;base64,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\"></div>"
      ],
      "text/plain": [
       "FormBox[TagBox[RowBox[{\"(\", \"⁠\", \n",
       "      TagBox[GridBox[{{RowBox[{RowBox[{\"-\", \n",
       "\n",
       " \n",
       ">                 RowBox[{RowBox[{OverscriptBox[\"r\", \"^\"]}], \" \", \n",
       "\n",
       " \n",
       ">                   SuperscriptBox[RowBox[{\"(\", SuperscriptBox[\"ϕ\", \"′\"], \")\"}], \n",
       "\n",
       " \n",
       ">                    \"2\"]}]}], \"+\", SuperscriptBox[OverscriptBox[\"r\", \"^\"], \"′′\"], \n",
       "\n",
       " \n",
       ">               \"+\", FractionBox[\"1\", SuperscriptBox[OverscriptBox[\"r\", \"^\"],\\\n",
       " \n",
       ">    \"2\"]]}]}\\\n",
       ", {RowBox[{RowBox[{OverscriptBox[\"r\", \"^\"], \" \", SuperscriptBox[\"ϕ\",\\\n",
       " \n",
       ">    \"′′\"]}], \"+\", \n",
       "            RowBox[{\"2\", \" \", SuperscriptBox[OverscriptBox[\"r\",\\\n",
       " \n",
       ">    \"^\"], \"′\"], \" \", \n",
       "              SuperscriptBox[\"ϕ\", \"′\"]}]}]}}, Rule[RowSpacings,\\\n",
       " \n",
       ">    1], \n",
       "        Rule[ColumnAlignments, Center], Rule[ColumnAlignments, Left]],\\\n",
       " \n",
       ">    Column], \"⁠\", \n",
       "      \")\"}], Function[BoxForm`e$, MatrixForm[BoxForm`e$]]],\\\n",
       " \n",
       ">    TraditionalForm]\n"
      ]
     },
     "execution_count": 156,
     "metadata": {
      "text/html": [],
      "text/plain": []
     },
     "output_type": "execute_result"
    }
   ],
   "source": [
    "RotatedLHSMotion = Simplify[RotationMatrix[-\\[Phi][OverHat[t]]] . LHSMotion, Trig -> True] // MatrixForm // TraditionalForm"
   ]
  },
  {
   "cell_type": "markdown",
   "metadata": {},
   "source": [
    "Так как $\\hat{\\omega} \\equiv \\phi^{(1)}$, то"
   ]
  },
  {
   "cell_type": "code",
   "execution_count": 158,
   "metadata": {
    "vscode": {
     "languageId": "wolfram"
    }
   },
   "outputs": [
    {
     "data": {
      "text/html": [
       "<div><img alt=\"Output\" src=\"data:image/png;base64,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\"></div>"
      ],
      "text/plain": [
       "FormBox[TagBox[RowBox[{\"(\", \"⁠\", \n",
       "\n",
       " \n",
       ">         TagBox[GridBox[{{RowBox[{RowBox[{RowBox[{\"-\", OverscriptBox[\"r\", \"^\"]}], \n",
       "\n",
       " \n",
       ">                 \" \", SuperscriptBox[OverscriptBox[\"ω\", \"^\"], \"2\"]}], \"+\", \n",
       "\n",
       " \n",
       ">               SuperscriptBox[OverscriptBox[\"r\", \"^\"], \"′′\"], \"+\", \n",
       "\n",
       " \n",
       ">               FractionBox[\"1\", SuperscriptBox[OverscriptBox[\"r\", \"^\"], \"2\"]]}]}, \n",
       "\n",
       " \n",
       ">            {RowBox[{RowBox[{\"2\", \" \", OverscriptBox[\"ω\", \"^\"], \" \", \n",
       "\n",
       " \n",
       ">                 SuperscriptBox[OverscriptBox[\"r\", \"^\"], \"′\"]}], \"+\", \n",
       "\n",
       " \n",
       ">               RowBox[{OverscriptBox[\"r\", \"^\"], \" \", \n",
       "\n",
       " \n",
       ">                 SuperscriptBox[OverscriptBox[\"ω\", \"^\"], \"′\"]}]}]}}, \n",
       "\n",
       " \n",
       ">           Rule[RowSpacings, 1], Rule[ColumnAlignments, Center], \n",
       "\n",
       " \n",
       ">           Rule[ColumnAlignments, Left]], Column], \"⁠\", \")\"}], \n",
       "\n",
       " \n",
       ">       Function[BoxForm`e$, MatrixForm[BoxForm`e$]]], TraditionalForm]\n"
      ]
     },
     "execution_count": 158,
     "metadata": {
      "text/html": [],
      "text/plain": []
     },
     "output_type": "execute_result"
    }
   ],
   "source": [
    "OmegaReplace = Derivative[n_][\\[Phi]][OverHat[t]] :> Derivative[n-1][OverHat[\\[Omega]]][OverHat[t]];\n",
    "\n",
    "OmegaLHSMotion = RotatedLHSMotion /. OmegaReplace // TraditionalForm"
   ]
  },
  {
   "cell_type": "markdown",
   "metadata": {},
   "source": [
    "### RHS системы после поворота"
   ]
  },
  {
   "cell_type": "code",
   "execution_count": 160,
   "metadata": {
    "vscode": {
     "languageId": "wolfram"
    }
   },
   "outputs": [
    {
     "data": {
      "text/html": [
       "<div><img alt=\"Output\" src=\"data:image/png;base64,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\"></div>"
      ],
      "text/plain": [
       "FormBox[TagBox[RowBox[{\"(\", \"⁠\", \n",
       "\n",
       " \n",
       ">         TagBox[GridBox[{{RowBox[{OverscriptBox[\"r\", \"^\"], \" \", \n",
       "\n",
       " \n",
       ">               RowBox[{\"(\", RowBox[{\"-\", SubscriptBox[\"ϵ\", \"G\"]}], \")\"}], \" \", \n",
       "\n",
       " \n",
       ">               RowBox[{\"(\", RowBox[{RowBox[{RowBox[{\"sin\", \"(\", \n",
       "\n",
       " \n",
       ">                       RowBox[{\"2\", \" \", \"ϕ\"}], \")\"}], \" \", \n",
       "\n",
       " \n",
       ">                     TemplateBox[List[SubscriptBox[OverscriptBox[\"f\", \"^\"], \n",
       "\n",
       " \n",
       ">                        RowBox[List[\"x\", \",\", \"y\"]]], \"\\\"(5)\\\"\"], \"Superscript\", \n",
       "\n",
       " \n",
       ">                      Rule[SyntaxForm, SuperscriptBox]]}], \"+\", \n",
       "\n",
       " \n",
       ">                   RowBox[{RowBox[{SuperscriptBox[\"cos\", \"2\"], \"(\", \"ϕ\", \")\"}], \n",
       "\n",
       " \n",
       ">                     \" \", TemplateBox[List[SubscriptBox[OverscriptBox[\"f\", \"^\"], \n",
       "\n",
       " \n",
       ">                        RowBox[List[\"x\", \",\", \"x\"]]], \"\\\"(5)\\\"\"], \"Superscript\", \n",
       "\n",
       " \n",
       ">                      Rule[SyntaxForm, SuperscriptBox]]}], \"+\", \n",
       "\n",
       " \n",
       ">                   RowBox[{RowBox[{SuperscriptBox[\"sin\", \"2\"], \"(\", \"ϕ\", \")\"}], \n",
       "\n",
       " \n",
       ">                     \" \", TemplateBox[List[SubscriptBox[OverscriptBox[\"f\", \"^\"], \n",
       "\n",
       " \n",
       ">                        RowBox[List[\"y\", \",\", \"y\"]]], \"\\\"(5)\\\"\"], \"Superscript\", \n",
       "\n",
       " \n",
       ">                      Rule[SyntaxForm, SuperscriptBox]]}]}], \")\"}]}]}, \n",
       "\n",
       " \n",
       ">            {RowBox[{RowBox[{\"-\", FractionBox[\"1\", \"2\"]}], \" \", \n",
       "\n",
       " \n",
       ">               OverscriptBox[\"r\", \"^\"], \" \", SubscriptBox[\"ϵ\", \"G\"], \" \", \n",
       "\n",
       " \n",
       ">               RowBox[{\"(\", RowBox[{RowBox[{RowBox[{\"sin\", \"(\", \n",
       "\n",
       " \n",
       ">                       RowBox[{\"2\", \" \", \"ϕ\"}], \")\"}], \" \", \n",
       "\n",
       " \n",
       ">                     RowBox[{\"(\", RowBox[{TemplateBox[List[SubscriptBox[\n",
       "\n",
       " \n",
       ">                            OverscriptBox[\"f\", \"^\"], \n",
       "\n",
       " \n",
       ">                            RowBox[List[\"y\", \",\", \"y\"]]], \"\\\"(5)\\\"\"], \n",
       "\n",
       " \n",
       ">                          \"Superscript\", Rule[SyntaxForm, SuperscriptBox]], \"-\", \n",
       "\n",
       " \n",
       ">                         TemplateBox[List[SubscriptBox[OverscriptBox[\"f\", \"^\"], \n",
       "\n",
       " \n",
       ">                            RowBox[List[\"x\", \",\", \"x\"]]], \"\\\"(5)\\\"\"], \n",
       "\n",
       " \n",
       ">                          \"Superscript\", Rule[SyntaxForm, SuperscriptBox]]}], \")\"}]}\\\n",
       "\n",
       " \n",
       ">   ], \"+\", RowBox[{\"2\", \" \", RowBox[{\"cos\", \"(\", RowBox[{\"2\", \" \", \"ϕ\"}], \")\"}], \n",
       "\n",
       " \n",
       ">                     \" \", TemplateBox[List[SubscriptBox[OverscriptBox[\"f\", \"^\"], \n",
       "\n",
       " \n",
       ">                        RowBox[List[\"x\", \",\", \"y\"]]], \"\\\"(5)\\\"\"], \"Superscript\", \n",
       "\n",
       " \n",
       ">                      Rule[SyntaxForm, SuperscriptBox]]}]}], \")\"}]}]}}, \n",
       "\n",
       " \n",
       ">           Rule[RowSpacings, 1], Rule[ColumnAlignments, Center], \n",
       "\n",
       " \n",
       ">           Rule[ColumnAlignments, Left]], Column], \"⁠\", \")\"}], \n",
       "\n",
       " \n",
       ">       Function[BoxForm`e$, MatrixForm[BoxForm`e$]]], TraditionalForm]\n"
      ]
     },
     "execution_count": 160,
     "metadata": {
      "text/html": [],
      "text/plain": []
     },
     "output_type": "execute_result"
    }
   ],
   "source": [
    "RHSMotion = -Subscript[\\[Epsilon], G] FullSimplify[RotationMatrix[-\\[Phi][OverHat[t]]] . fh5rh, Trig -> True];\n",
    "RHSMotion // MatrixForm // TraditionalForm"
   ]
  },
  {
   "cell_type": "markdown",
   "metadata": {},
   "source": [
    "<span style=\"color:red\">**NB:**</span> Полученные выражения <span style=\"color:green\">**совпадают**</span> с уравнениями (10) и (9) из файла Binary.pdf"
   ]
  },
  {
   "cell_type": "markdown",
   "metadata": {
    "vscode": {
     "languageId": "wolfram"
    }
   },
   "source": [
    "## Получим теперь **энергетическую** систему уравнений\n",
    "\n",
    "В задача двух тел без учёта гравитационного излучения в системе центра масс в полярных координатах радиус-вектор $\\hat{r}_k$ задаётся как:\n",
    "$$\n",
    "\\hat{r}_k = \\hat{r} e_{1k} \\quad,\n",
    "$$\n",
    "где:\n",
    "- $\\hat{r}$ — расстояние между телами,\n",
    "- $e_{1k}$ — единичный вектор в направлении $\\hat{r}_k$.\n",
    "\n",
    "Скорость в полярных координатах выражается как:\n",
    "$$\n",
    "\\hat{r}_k^{(1)} = \\hat{r}^{(1)} e_{1k} + \\hat{r} \\phi^{(1)} e_{2k} \\quad,\n",
    "$$\n",
    "где:\n",
    "- $\\hat{r}^{(1)}$ — радиальная скорость\n",
    "- $\\hat{\\omega} \\equiv \\phi^{(1)}$ — угловая скорость\n",
    "- $e_{2k}$ — единичный вектор, перпендикулярный $e_{1k}$.\n",
    "\n",
    "### **Кинетическая энергия**\n",
    "Кинетическая энергия $T$ в полярных координатах выражается через радиальную и тангенциальную составляющие скорости:\n",
    "$$\n",
    "T = \\mu\\frac{b^2}{2 t_0^2} (\\hat{r}_k^{(1)})^2 = \\mu\\frac{b^2}{2 t_0^2} \\left( (\\hat{r}^{(1)})^2 + \\hat{r}^2 \\hat{\\omega}^2 \\right) = \\frac{G \\mu M}{b} \\frac{1}{2}\\left( (\\hat{r}^{(1)})^2 + \\hat{r}^2 \\hat{\\omega}^2 \\right)\n",
    "$$\n",
    "\n",
    "### **Потенциальная энергия**\n",
    "Потенциальная энергия $U$ зависит только от расстояния $\\hat{r}$:\n",
    "- Для гравитационного взаимодействия:\n",
    "  $$\n",
    "  U = -\\frac{G m_A m_B}{b \\hat{r}} = -\\frac{G \\mu M}{b \\hat{r}}.\n",
    "  $$\n",
    "\n",
    "### **Полная энергия**\n",
    "Полная энергия $E$ в полярных координатах:\n",
    "$$\n",
    "E = T + U = \\frac{G \\mu M}{b}\\left(\\frac{(\\hat{r}^{(1)})^2}{2} + \\frac{\\hat{r}^2 \\hat{\\omega}^2}{2} - \\frac{1}{\\hat{r}}\\right) = \\frac{G \\mu M}{b} \\hat{E}\n",
    "$$\n",
    "\n",
    "Здесь $\\hat{E}$ - безразмерная энергия:"
   ]
  },
  {
   "cell_type": "code",
   "execution_count": 162,
   "metadata": {
    "vscode": {
     "languageId": "wolfram"
    }
   },
   "outputs": [
    {
     "data": {
      "text/html": [
       "<div><img alt=\"Output\" src=\"data:image/png;base64,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\"></div>"
      ],
      "text/plain": [
       "FormBox[RowBox[{RowBox[{FractionBox[\"1\", \"2\"], \" \", \n",
       "\n",
       " \n",
       ">          SuperscriptBox[OverscriptBox[\"r\", \"^\"], \"2\"], \" \", \n",
       "\n",
       " \n",
       ">          SuperscriptBox[OverscriptBox[\"ω\", \"^\"], \"2\"]}], \"+\", \n",
       "\n",
       " \n",
       ">        RowBox[{FractionBox[\"1\", \"2\"], \" \", \n",
       "\n",
       " \n",
       ">          SuperscriptBox[RowBox[{\"(\", SuperscriptBox[OverscriptBox[\"r\", \"^\"], \"′\"], \n",
       "\n",
       " \n",
       ">             \")\"}], \"2\"]}], \"-\", FractionBox[\"1\", OverscriptBox[\"r\", \"^\"]]}], \n",
       "\n",
       " \n",
       ">      TraditionalForm]\n"
      ]
     },
     "execution_count": 162,
     "metadata": {
      "text/html": [],
      "text/plain": []
     },
     "output_type": "execute_result"
    }
   ],
   "source": [
    "Energy = (D[OverHat[r][OverHat[t]], OverHat[t]])^2/2 + (OverHat[r][OverHat[t]] OverHat[\\[Omega]][OverHat[t]])^2/2 - 1/OverHat[r][OverHat[t]];\n",
    "Energy // TraditionalForm"
   ]
  },
  {
   "cell_type": "markdown",
   "metadata": {},
   "source": [
    "### **Момента импульса**\n",
    "Момент импульса $J$ в системе центра масс:\n",
    "$$\n",
    "J = \\mu\\frac{b^2}{t_0} \\hat{r}^2 \\hat{\\omega} = \\mu(G M b)^{1/2} \\hat{r}^2 \\hat{\\omega} = \\mu(G M b)^{1/2} \\hat{J}\n",
    "$$\n",
    "\n",
    "Здесь $\\hat{J}$ - безразмерный момент импульса:"
   ]
  },
  {
   "cell_type": "code",
   "execution_count": 164,
   "metadata": {
    "vscode": {
     "languageId": "wolfram"
    }
   },
   "outputs": [
    {
     "data": {
      "text/html": [
       "<div><img alt=\"Output\" src=\"data:image/png;base64,iVBORw0KGgoAAAANSUhEUgAAACsAAAAeCAIAAAA6iHCJAAAAzXpUWHRSYXcgcHJvZmlsZSB0eXBlIGV4aWYAAHjabU/bDQMhDPtnio6QBzgwDtfjpG7Q8RsebUVVS8SO8wBCez6ucOsQphCTZRSAHLHEItVFponJTGXEATlWjXc/cFt+dSt9C3j7x+4b1sL8s4hkCu03uNa4BtYilelznfmx+qXmvC9S2lDo8/S/eVQTJLBFj1HIDMV1Di6dkISS4cId8EbGKRTvzg1mPgbrHVr7YIc027tbgLpx9i9oP0mrs3pkZekOD11GzHKs6vhIeAGTZlrkp5bZfwAAAAlwSFlzAAAWJQAAFiUBSVIk8AAAADx0RVh0U29mdHdhcmUAQ3JlYXRlZCB3aXRoIHRoZSBXb2xmcmFtIExhbmd1YWdlIDogd3d3LndvbGZyYW0uY29tXKKmhQAAACF0RVh0Q3JlYXRpb24gVGltZQAyMDI1OjAzOjExIDIxOjE5OjE4Pzr8IwAAA+FJREFUSEvtVlsos2Ec3+aQnGIOUUgLJbUkp4wbLiQl4cIFymk53cghLVy4JOVuOZVacyhXRBiiRkmI1i7kULhyzpwZ3+/tWc/2bW3P3m/fl5vvra33/T//5/f//Y/PI/z+/hawnqOjo7GxsYuLi7i4uJqamtDQUNYOPutg4PiZmZnx8PBwc3MjqEFBQYeHh6xNPNYFjnUNBkNYWNjk5OTHx8f6+npKSgpIFBUV8bDAUmUwUKvV3d3dFGR2dhYMoqKiWLA81hkM9Ho9wkDx3t/fkZHExEQeFliqIloz0Hx5eUG0LasoPj7e19eXSq6urqCQk5PDp9I4J22RzQiUYltbG6TBwcGoeXu8e3p6AgMDwYPl2G/rjpFNWZibmxMKhYRXVlbW5+enrY3T01OYX1lZ4WWeicwxOD8/R49FR0cfHBw0NzeDhEKhsDKDapBKpaOjo7zMO4MsgLuZmZkZGRmXl5cEXalUenp6Li4uUmPQKSgo6O3t5WXeGWQAClBZCOzr66sluk6no2Pn6+urqqqqs7OTKjw9PbW0tDDZMJEJghA/JHhra2tnZ2d3d1cmk6HclpaWBgYGxGLx0NBQV1cX3isqKkihgCs0a2trW1tbHXcEWhfsvby8rNRgET6YWwzf/f39hYWFRA+hnpiYcHd3J59NTU22ZpAjmjJ7kdBoNBimIyMjtgpnZ2cYKtvb22TJ1At3d3fE0vT0dEhISF9fn4+PD14cdKaDLCwsLMCHyspKezqpqakJCQlGo9HMYG1tDeYDAgKys7OHh4ex8Pj4+Pb2xky2rQIays/PD+fn7e2tve3l5eUwB00omGbi6uoqRPf39w8PD9XV1XhHDBBtXrMPykCUy+Vo3Y6ODgwPsh0u4ShBc1E0uIr3jY0NTkJopqWlkWUcgH/gN90yPj4OEG9vb6SVCktKSpD46+trKkFvQ62urs6UBYRLJOKCkZ+f74p57EUSgVNcXGyJExMTk5eXZymRSCRQI6cuZ3h5eRltQ0jxDbuV/v7+PiSxsbFUjq45Pj5OT0+nErTJyckJPsltg2OA7sd/eHg4mLrCAGV0c3MDBMtr3ODgIBxNTk6myGh4vOPCZzpjsRwZGQkRTgQXU4Dt6AJAYXwRKJQkHINkb2+PSDDfOL9Fos3NTSIR4A5C2Gm1WtcZNDQ0kEpsb2/H/Qpxrq+vx5GWm5urUqnKysqwCpZTU1PUlgBRInEj88HFB+O2sbHR398fmLhqYHI/Pz/Pz88nJSVhqEdERJSWllpddLlzwZXc29uLgWZ5uYIaqCA2tvr/ioHzXpnvic7v+bua/xmQifSzz88z+AUG9ZDrhvIkKgAAAABJRU5ErkJggg==\"></div>"
      ],
      "text/plain": [
       "FormBox[RowBox[{SuperscriptBox[OverscriptBox[\"r\", \"^\"], \"2\"], \" \", \n",
       "\n",
       " \n",
       ">        OverscriptBox[\"ω\", \"^\"]}], TraditionalForm]\n"
      ]
     },
     "execution_count": 164,
     "metadata": {
      "text/html": [],
      "text/plain": []
     },
     "output_type": "execute_result"
    }
   ],
   "source": [
    "AngularMomentum = (OverHat[r][OverHat[t]])^2 OverHat[\\[Omega]][OverHat[t]];\n",
    "AngularMomentum // TraditionalForm"
   ]
  },
  {
   "cell_type": "markdown",
   "metadata": {},
   "source": [
    "Отсюда $\\frac{1}{\\hat{r}^{(1)}}\\left(\\frac{d\\hat{E}}{d\\hat{t}} - \\hat{\\omega} \\frac{d\\hat{J}}{d\\hat{t}}\\right)$"
   ]
  },
  {
   "cell_type": "code",
   "execution_count": 165,
   "metadata": {
    "vscode": {
     "languageId": "wolfram"
    }
   },
   "outputs": [
    {
     "data": {
      "text/html": [
       "<div><img alt=\"Output\" src=\"data:image/png;base64,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\"></div>"
      ],
      "text/plain": [
       "FormBox[RowBox[{RowBox[{\"-\", RowBox[{RowBox[{OverscriptBox[\"r\", \"^\"]}], \" \", \n",
       "\n",
       " \n",
       ">            SuperscriptBox[OverscriptBox[\"ω\", \"^\"], \"2\"]}]}], \"+\", \n",
       "\n",
       " \n",
       ">        SuperscriptBox[OverscriptBox[\"r\", \"^\"], \"′′\"], \"+\", \n",
       "\n",
       " \n",
       ">        FractionBox[\"1\", SuperscriptBox[OverscriptBox[\"r\", \"^\"], \"2\"]]}],\\\n",
       " \n",
       ">    TraditionalForm]\n"
      ]
     },
     "execution_count": 165,
     "metadata": {
      "text/html": [],
      "text/plain": []
     },
     "output_type": "execute_result"
    }
   ],
   "source": [
    "Simplify[(D[Energy, OverHat[t]] - (AngularMomentum/OverHat[r][OverHat[t]]^2)(D[AngularMomentum, OverHat[t]]))/(D[OverHat[r][OverHat[t]], OverHat[t]])] // TraditionalForm"
   ]
  },
  {
   "cell_type": "markdown",
   "metadata": {},
   "source": [
    "Что совпадает с **первой** строкой повернутой LHS системы движения"
   ]
  },
  {
   "cell_type": "markdown",
   "metadata": {},
   "source": [
    "Отсюда $\\frac{1}{\\hat{r}}\\frac{d\\hat{J}}{d\\hat{t}}$"
   ]
  },
  {
   "cell_type": "code",
   "execution_count": 166,
   "metadata": {
    "vscode": {
     "languageId": "wolfram"
    }
   },
   "outputs": [
    {
     "data": {
      "text/html": [
       "<div><img alt=\"Output\" src=\"data:image/png;base64,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\"></div>"
      ],
      "text/plain": [
       "FormBox[RowBox[{RowBox[{\"2\", \" \", OverscriptBox[\"ω\", \"^\"], \" \", \n",
       "\n",
       " \n",
       ">          SuperscriptBox[OverscriptBox[\"r\", \"^\"], \"′\"]}], \"+\", \n",
       "\n",
       " \n",
       ">        RowBox[{OverscriptBox[\"r\", \"^\"], \" \", \n",
       "\n",
       " \n",
       ">          SuperscriptBox[OverscriptBox[\"ω\", \"^\"], \"′\"]}]}], TraditionalForm]\n"
      ]
     },
     "execution_count": 166,
     "metadata": {
      "text/html": [],
      "text/plain": []
     },
     "output_type": "execute_result"
    }
   ],
   "source": [
    "Simplify[D[AngularMomentum, OverHat[t]]/OverHat[r][OverHat[t]]] // TraditionalForm"
   ]
  },
  {
   "cell_type": "markdown",
   "metadata": {},
   "source": [
    "Что совпадает со **второй** строкой повернутой LHS системы движения"
   ]
  },
  {
   "cell_type": "markdown",
   "metadata": {},
   "source": [
    "Таким образом, мы можем выписать новую **энергетическую** систему уравнений\n",
    "\n",
    "$$\n",
    "\\begin{align}\n",
    "\\frac{d\\hat{E}}{d\\hat{t}} &= - \\epsilon_G \\left(\\hat{r}^{(1)} R_{xi}(-\\phi) \\hat{f}_{ij}^{(5)}\\hat{r}_j + \\hat{r}\\hat\\omega R_{yi}(-\\phi) \\hat{f}_{ij}^{(5)}\\hat{r}_j \\right)\n",
    "\\\\\n",
    "\\frac{d\\hat{J}}{d\\hat{t}} &= - \\epsilon_G \\hat{r} R_{yi}(-\\phi) \\hat{f}_{ij}^{(5)}\\hat{r}_j\n",
    "\\end{align}\n",
    "$$"
   ]
  },
  {
   "cell_type": "markdown",
   "metadata": {},
   "source": [
    "Или\n",
    "\n",
    "$$\n",
    "\\left(\\frac{d\\hat{E}}{d\\hat{t}}, \\frac{d\\hat{J}}{d\\hat{t}}\\right) = - \\epsilon_G T_{nk} R_{ki}(-\\phi) \\hat{f}_{ij}^{(5)}\\hat{r}_j\\quad,\n",
    "$$"
   ]
  },
  {
   "cell_type": "markdown",
   "metadata": {},
   "source": [
    "Здесь\n",
    "$$\n",
    "T = \n",
    "\\begin{bmatrix}\n",
    "\\hat{r}^{(1)} & \\hat{r}\\hat{\\omega} \\\\\n",
    "0 & \\hat{r}\n",
    "\\end{bmatrix}\n",
    "$$\n",
    "матрица трансформации:"
   ]
  },
  {
   "cell_type": "code",
   "execution_count": 168,
   "metadata": {
    "vscode": {
     "languageId": "wolfram"
    }
   },
   "outputs": [
    {
     "data": {
      "text/html": [
       "<div><img alt=\"Output\" src=\"data:image/png;base64,iVBORw0KGgoAAAANSUhEUgAAAGEAAAA9CAIAAAAyKJB4AAAAzHpUWHRSYXcgcHJvZmlsZSB0eXBlIGV4aWYAAHjabU/bDQMhDPtnio6QBzgwDnfHSd2g4zc8VJWqlogdkwQS2ut5h0eHMIWYLKMA5IglFqkuMk1MZiojDmCx55sf9Fp+dSt9NbTlH7tvmCz5ZxDJFNpfcK1xNaxBKtPnOvNj1UvNeR+ktKHQ5+t/86gmSGCLHqOQGYrrHFw6IQklw40T8ELGJRRP5wYzb4P1Cq29sUOa7dUtQN24+graT9LqrB5ZWbrDQ5cRsxzrdiwS3lKHWrgqz6M2AAAACXBIWXMAABYlAAAWJQFJUiTwAAAAPHRFWHRTb2Z0d2FyZQBDcmVhdGVkIHdpdGggdGhlIFdvbGZyYW0gTGFuZ3VhZ2UgOiB3d3cud29sZnJhbS5jb21coqaFAAAAIXRFWHRDcmVhdGlvbiBUaW1lADIwMjU6MDM6MTEgMjE6MTk6MTg/OvwjAAAJSklEQVR4Xu2bd4gUSxDG3505Ys4Zc0LMOYuYsyhmUVREQcwZUcSs4BlREXNERcwKZsScFSPmgDln/d2rZW5vZme6b2bvcTyn/1h2Zqqrqr/prq7u/ibi9+/f//jFEYFId/iA7OfPn79//+6uun6t/8yQg0suMRo+fHjKlClz5Mjx6NEj/Qa7kHRtKJzgosuu/PjxI+SjHTt2RERESINr1KhhEjt69GiXLl3u3r3roFnzkbMhZyVDhw7FvUyZMj18+FDHnF1jo2ORXf0jR47069fP+vTBgwcZM2bMly/fxYsXBw0ahB+jRo0KFitWrBg3Z8yYoeOZg4zSkENdF+AuX7585syZIXWGxmjlypXVq1d/9+6dqQ5gc79q1arPnz+XRwsWLEiaNOmePXvk8uzZswDEnZs3b3rBSGkoPsAdMWJE586df/78aVIeAqP169fnypXr5cuXVj8I0gcOHPjy5Uvwo8uXL9+4cUPuDBs2DIzGjh3rBSDqKg3Z6fcCLjrbtm3brVs3BUbXr19PlSrV1q1bXTTy169fefPmLVKkiAlEF6pcV3ENrlh89uwZkWT+/PnBDsTqRzSyYsWKtWrVsnOR+f7QoUOzZs3q1KlT+fLlCYcfPnwYPHhwtWrVgPX48ePE8oMHD7puoVHR2ZCD/q9fv1LXKkDT3r9/r+PY9OnTkydPHjznxMJo48aNjJQtW7bY6WJM9enTJ2fOnIilTZv29evXlSpVkgkOyACrd+/eOn4oZZwN2VXft29ftmzZlixZYhW4f/9+kiRJTp06pTT95s2b1KlTMzUbkrEwKlu2LDasQcukd+DAgYDStGnT/v37N2vWrHXr1lyOHDmSOB3eUWZnKGQ7d+/enThx4h49etihwBApUaKEsnVU79mzZ2RkJLCKqhiMrly5QlOtEctqsnbt2ki2atWqaNGijDUEXr16pXw/LgT0DZGIpEmTJkuWLA6e0DVwG0mlJ5s2bUJyypQpZoxIc3iwZs0aZxWfPn1iuMr42r59u9KeawF9Q8SaypUr4w+B0jC3ePHi3Llz07mMOwMGDECGZEXpEsMtUaJEJUuWNGMkZm7duuWsYteuXQIQL1lpzIuAviHeK/6wNiI+GhaZxQlAL168MO40b94csb59++p4Vbx4cYSZ5hAOrNeYDkj/MFOgQAGBwK7s3btXHhH/nSU9PtU3RJDGVqNGjdKlS2cYPX/+fP369ZnIjTvkcfxnPOo4RidC7MSJE/wGMAKgb9++scIwFmJ2ikipeVSuXDkmMh1jrmX0DV24cAErhQoVMmyxDLh9+7aMDClMeXfu3OFPhQoVdFzKnz+/GSOmJG7JpO5QSIiuXr2KAJFfx5JrGX1DxA6WBKYOsmjRIsZI8FucNm0aMoULF65Xr56OV6w0EBNYAv2IeY6LrFmzOteX/s8U26FDBx1LrmX0DTG+mNEwxOASc0y1BGb+sHUjd8aNG7d//36mcxauKVKk0PFKoLh3754ZI9JC5/rS/4nWGTJk0LHkWiZOhmRSZ8Jms4n4Xbdu3ZYtW5YuXZo16qpVq3g6ceJEcFy7dm2VKlU0XRIopOsE8iOU8p880DnmZ8+eHbGoqCidqcGLTJwMffz4kWxWWsWG0ZAhQ8gbdu7cSUpMeGXU0OuNVbemV6yrontQZGRMDtmwYUNuTZgwQVNFwhSzrsiAz52rsslDYcYPxCPWgVwTaDS7YsIUY51lcoxsxp2r5FZSEWT+Vxi5gyNkLaO7xGDE1hSiyuQojE4kcFUGFKyBXZ6LJPAWhtc9HyM1nj5GPkZqBNQSfj/yMVIjoJbw+5GPkRoBtYTfj3yM1AioJfx+5GOkRkAt4fejvwAjjnOEBKFuq1uJQD9ysSvC6ShbyF27dmUPk4N5dqDZsnPrhst6cN3Y2GcjTQ6Z46kEMIJ5hgGarWmGXVFO+Nq1a8c7hBLIjnqTJk04z2JvVFODdzH2vDp27CgHR1OnTpVjgnAVto1EVTQyst1bp04drjk/0Nz9bdOmDfIcjRrycoDVokULHWKGphVnMU5BsMjvuXPnONrPnDkzJN+waEaJnGtS6A0BjBo3bsz1+PHjdWxA95P6J0+eNOSJC+nTp+fm3LlzdZR4lIENkCxZsmXLlomeJ0+ecAALu8yBHhsni2fOnJE2Ru/QSk0YBFxz6qKjqHv37ghzqGsShtzGfU5sdJR4lOEsiBPjYCUMc15euDA6fPgwbeE1YCIQj+QUGyKtcjxDONy2bRtiZcqUMQlz7McdTl3kvDteC6f7QnI2CpGb00c4MWGxK1DISW8Aozx58nDB2bnSAKRSKCyIBXMQpJZxR+gW8VogzPGqZ8+eDVuYUUYkoh8xDqBGyyv0WKSNAkssjB4/fqxU/fTpU5GxklQMIkt8fyCBdWZ9jq1hna9evZpxBxcYsgOXx44dmzRpkrIVSgECnBmjUqVKcUunbVKZYiUXGHd09Ci9dBagzy5cuFCm15o1a44ZM4Z3JszMBg0aeFROdYgr/AosgX4E6QSaAxQA+rCzAUOAeGaSNM429fMsj42B3IgG7BKtoTxs3rwZPuTkyZM9qqU6fZNf4VDE5NlkgKQ2ynBrcJSsWbWRQMIl9e6lUgPpqwQ+yNKQ6hhu/Jf8w3u5dOkS0AuDKWZNC4uYa5nzHIqEMYo1pY5Ot/4tUHy9e6nUAJteOjVcH4jQSnl9ARhvhAsWEsKOjcGoffv25N0QUTUxsgb4t2/fSl0hXMZ30SdMxtUTAYEZM1AxOA0jkwS5YHZqyExPMiOWL6anBE7us3bzmB9qVpc3ATNTU15fjKjPmDV4ObF4/jBPYSUxtp3V8eUWzjH+hcBuFCExkW3re+NakrlfXvK8efNcKwlZ8dq1a+yCsEg2npq/zYK+TMRx/qSBpZlQKpl9DUVQB8l0gRigw+t0SG1Lly7FARgwIb8h8+JAr169ChYsCBPOFiM6GDn+6NGjnc3wcQqsOvia5GxIwvWVrGTOnDle/NOvS/TEHGFVv4qOJM0h2pw+fTpYOMQ3flD9IWpL4x0KfZLkDY1wF1kl0bNWrFih40dYZOJEmNS0SCBmRl63bp1JPvS3ovCS+UqH/QGldvok2zcMNPJGpXBCFiBxYUm8YcMGq5O23xxTx+4b3ITcVNe+8e0eX16FrB7B3bimD3+bvH92pH7jPkZqjP4AYRWsZeKAiz8AAAAASUVORK5CYII=\"></div>"
      ],
      "text/plain": [
       "FormBox[TagBox[RowBox[{\"(\", \"⁠\", \n",
       "\n",
       " \n",
       ">         GridBox[{{SuperscriptBox[OverscriptBox[\"r\", \"^\"], \"′\"], \n",
       "\n",
       " \n",
       ">            RowBox[{OverscriptBox[\"r\", \"^\"], \" \", OverscriptBox[\"ω\", \"^\"]}]}, \n",
       "\n",
       " \n",
       ">           {\"0\", OverscriptBox[\"r\", \"^\"]}}, Rule[RowSpacings, 1], \n",
       "\n",
       " \n",
       ">          Rule[ColumnSpacings, 1], Rule[RowAlignments, Baseline], \n",
       "\n",
       " \n",
       ">          Rule[ColumnAlignments, Center]], \"⁠\", \")\"}], \n",
       "\n",
       " \n",
       ">       Function[BoxForm`e$, MatrixForm[BoxForm`e$]]], TraditionalForm]\n"
      ]
     },
     "execution_count": 168,
     "metadata": {
      "text/html": [],
      "text/plain": []
     },
     "output_type": "execute_result"
    }
   ],
   "source": [
    "Transform = {{D[OverHat[r][OverHat[t]], OverHat[t]], OverHat[r][OverHat[t]] OverHat[\\[Omega]][OverHat[t]]}, {0, OverHat[r][OverHat[t]]}};\n",
    "Transform // MatrixForm // TraditionalForm"
   ]
  },
  {
   "cell_type": "markdown",
   "metadata": {},
   "source": [
    "Итак правая часть энергетической системы запишется как"
   ]
  },
  {
   "cell_type": "code",
   "execution_count": 170,
   "metadata": {
    "vscode": {
     "languageId": "wolfram"
    }
   },
   "outputs": [
    {
     "data": {
      "text/html": [
       "<div><img alt=\"Output\" src=\"data:image/png;base64,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\"></div>"
      ],
      "text/plain": [
       "FormBox[TagBox[RowBox[{\"(\", \"⁠\", \n",
       "\n",
       " \n",
       ">         TagBox[GridBox[{{RowBox[{FractionBox[\"1\", \"2\"], \" \", \n",
       "\n",
       " \n",
       ">               OverscriptBox[\"r\", \"^\"], \" \", SubscriptBox[\"ϵ\", \"G\"], \" \", \n",
       "\n",
       " \n",
       ">               RowBox[{\"(\", RowBox[{RowBox[{OverscriptBox[\"r\", \"^\"], \" \", \n",
       "\n",
       " \n",
       ">                     OverscriptBox[\"ω\", \"^\"], \" \", \n",
       "\n",
       " \n",
       ">                     RowBox[{\"(\", RowBox[{RowBox[{RowBox[{\"sin\", \"(\", \n",
       "\n",
       " \n",
       ">                             RowBox[{\"2\", \" \", \"ϕ\"}], \")\"}], \" \", \n",
       "\n",
       " \n",
       ">                           RowBox[{\"(\", \n",
       "\n",
       " \n",
       ">                             RowBox[{TemplateBox[List[SubscriptBox[\n",
       "\n",
       " \n",
       ">                            OverscriptBox[\"f\", \"^\"], \n",
       "\n",
       " \n",
       ">                            RowBox[List[\"x\", \",\", \"x\"]]], \"\\\"(5)\\\"\"], \n",
       "\n",
       " \n",
       ">                             \"Superscript\", Rule[SyntaxForm, SuperscriptBox]], \n",
       "\n",
       " \n",
       ">                             \"-\", \n",
       "\n",
       " \n",
       ">                             TemplateBox[List[SubscriptBox[OverscriptB\\\n",
       "\n",
       " \n",
       ">   ox[\"f\", \"^\"], RowBox[List[\"y\", \",\", \"y\"]]], \"\\\"(5)\\\"\"], \"Superscript\", \n",
       "\n",
       " \n",
       ">                             Rule[SyntaxForm, SuperscriptBox]]}], \")\"}]}], \"-\", \n",
       "\n",
       " \n",
       ">                         RowBox[{\"2\", \" \", \n",
       "\n",
       " \n",
       ">                           RowBox[{\"cos\", \"(\", RowBox[{\"2\", \" \", \"ϕ\"}], \")\"}], \n",
       "\n",
       " \n",
       ">                           \" \", TemplateBox[List[SubscriptBox[OverscriptB\\\n",
       "\n",
       " \n",
       ">   ox[\"f\", \"^\"], RowBox[List[\"x\", \",\", \"y\"]]], \"\\\"(5)\\\"\"], \"Superscript\", \n",
       "\n",
       " \n",
       ">                            Rule[SyntaxForm, SuperscriptBox]]}]}], \")\"}]}], \"-\", \n",
       "\n",
       " \n",
       ">                   RowBox[{\"2\", \" \", SuperscriptBox[OverscriptBox[\"r\", \"^\"], \"′\"], \n",
       "\n",
       " \n",
       ">                     \" \", RowBox[{\"(\", \n",
       "\n",
       " \n",
       ">                       RowBox[{RowBox[{RowBox[{\"sin\", \"(\", \n",
       "\n",
       " \n",
       ">                             RowBox[{\"2\", \" \", \"ϕ\"}], \")\"}], \" \", \n",
       "\n",
       " \n",
       ">                           TemplateBox[List[SubscriptBox[OverscriptBox[\"f\", \n",
       "\n",
       " \n",
       ">                             \"^\"], RowBox[List[\"x\", \",\", \"y\"]]], \"\\\"(5)\\\"\"], \n",
       "\n",
       " \n",
       ">                            \"Superscript\", Rule[SyntaxForm, SuperscriptBox]]}], \n",
       "\n",
       " \n",
       ">                         \"+\", RowBox[{RowBox[{SuperscriptBox[\"cos\", \"2\"], \"(\", \n",
       "\n",
       " \n",
       ">                             \"ϕ\", \")\"}], \" \", \n",
       "\n",
       " \n",
       ">                           TemplateBox[List[SubscriptBox[OverscriptBox[\"f\", \n",
       "\n",
       " \n",
       ">                             \"^\"], RowBox[List[\"x\", \",\", \"x\"]]], \"\\\"(5)\\\"\"], \n",
       "\n",
       " \n",
       ">                            \"Superscript\", Rule[SyntaxForm, SuperscriptBox]]}], \n",
       "\n",
       " \n",
       ">                         \"+\", RowBox[{RowBox[{SuperscriptBox[\"sin\", \"2\"], \"(\", \n",
       "\n",
       " \n",
       ">                             \"ϕ\", \")\"}], \" \", \n",
       "\n",
       " \n",
       ">                           TemplateBox[List[SubscriptBox[OverscriptBox[\"f\", \n",
       "\n",
       " \n",
       ">                             \"^\"], RowBox[List[\"y\", \",\", \"y\"]]], \"\\\"(5)\\\"\"], \n",
       "\n",
       " \n",
       ">                            \"Superscript\", Rule[SyntaxForm, SuperscriptBox]]}]}], \n",
       "\n",
       " \n",
       ">                       \")\"}]}]}], \")\"}]}]}, \n",
       "\n",
       " \n",
       ">            {RowBox[{RowBox[{\"-\", FractionBox[\"1\", \"2\"]}], \" \", \n",
       "\n",
       " \n",
       ">               SuperscriptBox[OverscriptBox[\"r\", \"^\"], \"2\"], \" \", \n",
       "\n",
       " \n",
       ">               SubscriptBox[\"ϵ\", \"G\"], \" \", \n",
       "\n",
       " \n",
       ">               RowBox[{\"(\", RowBox[{RowBox[{RowBox[{\"sin\", \"(\", \n",
       "\n",
       " \n",
       ">                       RowBox[{\"2\", \" \", \"ϕ\"}], \")\"}], \" \", \n",
       "\n",
       " \n",
       ">                     RowBox[{\"(\", RowBox[{TemplateBox[List[SubscriptBox[\n",
       "\n",
       " \n",
       ">                            OverscriptBox[\"f\", \"^\"], \n",
       "\n",
       " \n",
       ">                            RowBox[List[\"y\", \",\", \"y\"]]], \"\\\"(5)\\\"\"], \n",
       "\n",
       " \n",
       ">                          \"Superscript\", Rule[SyntaxForm, SuperscriptBox]], \"-\", \n",
       "\n",
       " \n",
       ">                         TemplateBox[List[SubscriptBox[OverscriptBox[\"f\", \"^\"], \n",
       "\n",
       " \n",
       ">                            RowBox[List[\"x\", \",\", \"x\"]]], \"\\\"(5)\\\"\"], \n",
       "\n",
       " \n",
       ">                          \"Superscript\", Rule[SyntaxForm, SuperscriptBox]]}], \")\"}]}\\\n",
       "\n",
       " \n",
       ">   ], \"+\", RowBox[{\"2\", \" \", RowBox[{\"cos\", \"(\", RowBox[{\"2\", \" \", \"ϕ\"}], \")\"}], \n",
       "\n",
       " \n",
       ">                     \" \", TemplateBox[List[SubscriptBox[OverscriptBox[\"f\", \"^\"], \n",
       "\n",
       " \n",
       ">                        RowBox[List[\"x\", \",\", \"y\"]]], \"\\\"(5)\\\"\"], \"Superscript\", \n",
       "\n",
       " \n",
       ">                      Rule[SyntaxForm, SuperscriptBox]]}]}], \")\"}]}]}}, \n",
       "\n",
       " \n",
       ">           Rule[RowSpacings, 1], Rule[ColumnAlignments, Center], \n",
       "\n",
       " \n",
       ">           Rule[ColumnAlignments, Left]], Column], \"⁠\", \")\"}], \n",
       "\n",
       " \n",
       ">       Function[BoxForm`e$, MatrixForm[BoxForm`e$]]], TraditionalForm]\n"
      ]
     },
     "execution_count": 170,
     "metadata": {
      "text/html": [],
      "text/plain": []
     },
     "output_type": "execute_result"
    }
   ],
   "source": [
    "RHSEnegry = FullSimplify[Transform . RHSMotion, Trig -> True];\n",
    "RHSEnegry // MatrixForm // TraditionalForm"
   ]
  },
  {
   "cell_type": "markdown",
   "metadata": {},
   "source": [
    "## **Другой Способ** получения уравнений движения и энергетических уравнений через лагранжев формализм в полярных координатах"
   ]
  },
  {
   "cell_type": "markdown",
   "metadata": {},
   "source": [
    "### **Лагранжиан системы**\n",
    "Лагранжиан $L$ в полярных координатах $(r, \\phi)$ выражается как:\n",
    "$$\n",
    "L = T - (U + \\mu\\Phi),\n",
    "$$\n",
    "где:\n",
    "- $T$ — кинетическая энергия,\n",
    "- $U$ — потенциальная энергия\n",
    "- $\\Phi = \\frac{1}{5}f_{ij}^{(5)}r_i r_j = \\frac{\\epsilon_G}{2}\\frac{b^2}{t_0^2}\\hat{f}_{ij}^{(5)}\\hat{r}_i \\hat{r}_j = \\frac{5}{2}\\epsilon_G\\frac{GM}{b}\\hat{\\Phi}$ - малый потенциал \"реакции излучения\""
   ]
  },
  {
   "cell_type": "markdown",
   "metadata": {},
   "source": [
    "Безразмерный малый потенциал \"реакции излучения\" $\\hat{\\Phi} = \\frac{1}{5}\\hat{f}_{ij}^{(5)}\\hat{r}_i\\hat{r}_j$"
   ]
  },
  {
   "cell_type": "code",
   "execution_count": 172,
   "metadata": {
    "vscode": {
     "languageId": "wolfram"
    }
   },
   "outputs": [
    {
     "data": {
      "text/html": [
       "<div><img alt=\"Output\" src=\"data:image/png;base64,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\"></div>"
      ],
      "text/plain": [
       "FormBox[RowBox[{FractionBox[\"1\", \"5\"], \" \", \n",
       "\n",
       " \n",
       ">        RowBox[{\"(\", RowBox[{RowBox[{OverscriptBox[\"r\", \"^\"], \" \", \n",
       "\n",
       " \n",
       ">              RowBox[{\"cos\", \"(\", \"ϕ\", \")\"}], \" \", \n",
       "\n",
       " \n",
       ">              RowBox[{\"(\", RowBox[{RowBox[{OverscriptBox[\"r\", \"^\"], \" \", \n",
       "\n",
       " \n",
       ">                    RowBox[{\"sin\", \"(\", \"ϕ\", \")\"}], \" \", \n",
       "\n",
       " \n",
       ">                    TemplateBox[List[SubscriptBox[OverscriptBox[\"f\", \"^\"], \n",
       "\n",
       " \n",
       ">                       RowBox[List[\"x\", \",\", \"y\"]]], \"\\\"(5)\\\"\"], \"Superscript\", \n",
       "\n",
       " \n",
       ">                     Rule[SyntaxForm, SuperscriptBox]]}], \"+\", \n",
       "\n",
       " \n",
       ">                  RowBox[{OverscriptBox[\"r\", \"^\"], \" \", \n",
       "\n",
       " \n",
       ">                    RowBox[{\"cos\", \"(\", \"ϕ\", \")\"}], \" \", \n",
       "\n",
       " \n",
       ">                    TemplateBox[List[SubscriptBox[OverscriptBox[\"f\", \"^\"], \n",
       "\n",
       " \n",
       ">                       RowBox[List[\"x\", \",\", \"x\"]]], \"\\\"(5)\\\"\"], \"Superscript\", \n",
       "\n",
       " \n",
       ">                     Rule[SyntaxForm, SuperscriptBox]]}]}], \")\"}]}], \"+\", \n",
       "\n",
       " \n",
       ">            RowBox[{OverscriptBox[\"r\", \"^\"], \" \", RowBox[{\"sin\", \"(\", \"ϕ\", \")\"}], \" \", \n",
       "\n",
       " \n",
       ">              RowBox[{\"(\", RowBox[{RowBox[{OverscriptBox[\"r\", \"^\"], \" \", \n",
       "\n",
       " \n",
       ">                    RowBox[{\"cos\", \"(\", \"ϕ\", \")\"}], \" \", \n",
       "\n",
       " \n",
       ">                    TemplateBox[List[SubscriptBox[OverscriptBox[\"f\", \"^\"], \n",
       "\n",
       " \n",
       ">                       RowBox[List[\"x\", \",\", \"y\"]]], \"\\\"(5)\\\"\"], \"Superscript\", \n",
       "\n",
       " \n",
       ">                     Rule[SyntaxForm, SuperscriptBox]]}], \"+\", \n",
       "\n",
       " \n",
       ">                  RowBox[{OverscriptBox[\"r\", \"^\"], \" \", RowBox[{\"sin\", \"(\", \"ϕ\", \")\"}],\\\n",
       " \n",
       ">    \n",
       "                 \" \", TemplateBox[List[SubscriptBox[OverscriptBox[\"f\", \"^\"], \n",
       "\n",
       " \n",
       ">                       RowBox[List[\"y\", \",\", \"y\"]]], \"\\\"(5)\\\"\"], \"Superscript\", \n",
       "\n",
       " \n",
       ">                     Rule[SyntaxForm, SuperscriptBox]]}]}], \")\"}]}]}], \")\"}]}], \n",
       "\n",
       " \n",
       ">      TraditionalForm]\n"
      ]
     },
     "execution_count": 172,
     "metadata": {
      "text/html": [],
      "text/plain": []
     },
     "output_type": "execute_result"
    }
   ],
   "source": [
    "fh5rhrh = 1/5 EinsteinSummation[{{i, j}, {i}, {j}}, {fh5, rh, rh}];\n",
    "fh5rhrh // TraditionalForm"
   ]
  },
  {
   "cell_type": "markdown",
   "metadata": {},
   "source": [
    "Безразмерный лагранжиан\n",
    "\n",
    "$$\n",
    "\\hat{L} = \\hat{T} - (\\hat{U} + \\frac{5}{2}\\epsilon_G\\hat{\\Phi}),\n",
    "$$\n",
    "или\n",
    "$$\n",
    "\\hat{L} = \\frac{1}{2} \\left((\\hat{r}^{(1)})^2 + \\hat{r}^2 \\hat{\\omega}^2 \\right) + \\frac{1}{\\hat{r}} - \\frac{\\epsilon_G}{2}\\hat{f}_{ij}^{(5)}\\hat{r}_i \\hat{r}_j.\n",
    "$$"
   ]
  },
  {
   "cell_type": "markdown",
   "metadata": {},
   "source": [
    "### **Уравнения Эйлера-Лагранжа**\n",
    "Уравнения Эйлера-Лагранжа имеют вид:\n",
    "$$\n",
    "\\frac{d}{dt} \\left( \\frac{\\partial \\hat{L}}{\\partial \\dot{q}_i} \\right) - \\frac{\\partial \\hat{L}}{\\partial q_i} = 0,\n",
    "$$\n",
    "где $q_i$ — обобщённые координаты ($\\hat{r}$ и $\\phi$)."
   ]
  },
  {
   "cell_type": "markdown",
   "metadata": {},
   "source": [
    "---\n",
    "\n",
    "#### Уравнение для координаты $\\hat{r}$:\n",
    "$$\n",
    "\\frac{d}{d\\hat{t}} \\left(\\frac{\\partial \\hat{L}}{\\partial \\hat{r}^{(1)}} \\right) - \\frac{\\partial \\hat{L}}{\\partial \\hat{r}} = 0.\n",
    "$$\n",
    "Вычислим производные:\n",
    "$$\n",
    "\\frac{\\partial \\hat{L}}{\\partial \\hat{r}^{(1)}} = \\hat{r}^{(1)}, \\quad \\frac{d}{d\\hat{t}} \\left( \\frac{\\partial \\hat{L}}{\\partial \\hat{r}^{(1)}} \\right) = \\hat{r}^{(2)},\n",
    "$$\n",
    "$$\n",
    "\\frac{\\partial \\hat{L}}{\\partial \\hat{r}} = \\hat{r} \\hat{\\omega}^2 - \\frac{1}{\\hat{r}^2} - \\frac{5}{2}\\epsilon_G\\frac{\\partial \\hat{\\Phi}}{\\partial \\hat{r}}.\n",
    "$$\n",
    "Подставляем в уравнение Эйлера-Лагранжа:\n",
    "$$\n",
    "\\hat{r}^{(2)} - \\hat{r} \\hat{\\omega}^2 + \\frac{1}{\\hat{r}^2} = - \\frac{5}{2}\\epsilon_G\\frac{\\partial \\hat{\\Phi}}{\\partial \\hat{r}}.\n",
    "$$\n",
    "\n",
    "Это **радиальное уравнение движения**.\n",
    "\n",
    "Здесь \n",
    "$$\n",
    "\\frac{\\partial \\hat{\\Phi}}{\\partial \\hat{r}} = \\frac{1}{5}\\hat{f}_{ij}^{(5)}\\left(\\frac{\\partial \\hat{r}_i}{\\partial \\hat{r}}\\hat{r}_j + \\hat{r}_i\\frac{\\partial \\hat{r}_j}{\\partial \\hat{r}}\\right)\n",
    "$$\n",
    "<span style=\"color:red\">**TODO_1:**</span> Обсудить почему $\\hat{f}_{ij}^{(5)}$ берётся заданной функцией, не зависящей от $\\hat{r}$ при вариации лагранжиана."
   ]
  },
  {
   "cell_type": "markdown",
   "metadata": {},
   "source": [
    "Правая часть радиального уравнения движения будет выглядеть как"
   ]
  },
  {
   "cell_type": "code",
   "execution_count": 174,
   "metadata": {
    "vscode": {
     "languageId": "wolfram"
    }
   },
   "outputs": [
    {
     "data": {
      "text/html": [
       "<div><img alt=\"Output\" src=\"data:image/png;base64,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\"></div>"
      ],
      "text/plain": [
       "FormBox[RowBox[{OverscriptBox[\"r\", \"^\"], \" \", \n",
       "\n",
       " \n",
       ">        RowBox[{\"(\", RowBox[{\"-\", SubscriptBox[\"ϵ\", \"G\"]}], \")\"}], \" \", \n",
       "\n",
       " \n",
       ">        RowBox[{\"(\", RowBox[{RowBox[{RowBox[{\"sin\", \"(\", RowBox[{\"2\", \" \", \"ϕ\"}], \n",
       "\n",
       " \n",
       ">                \")\"}], \" \", TemplateBox[List[SubscriptBox[OverscriptBox[\"f\", \"^\"], \n",
       "\n",
       " \n",
       ">                 RowBox[List[\"x\", \",\", \"y\"]]], \"\\\"(5)\\\"\"], \"Superscript\", \n",
       "\n",
       " \n",
       ">               Rule[SyntaxForm, SuperscriptBox]]}], \"+\", \n",
       "\n",
       " \n",
       ">            RowBox[{RowBox[{SuperscriptBox[\"cos\", \"2\"], \"(\", \"ϕ\", \")\"}], \" \", \n",
       "\n",
       " \n",
       ">              TemplateBox[List[SubscriptBox[OverscriptBox[\"f\", \"^\"], \n",
       "\n",
       " \n",
       ">                 RowBox[List[\"x\", \",\", \"x\"]]], \"\\\"(5)\\\"\"], \"Superscript\", \n",
       "\n",
       " \n",
       ">               Rule[SyntaxForm, SuperscriptBox]]}], \"+\", \n",
       "\n",
       " \n",
       ">            RowBox[{RowBox[{SuperscriptBox[\"sin\", \"2\"], \"(\", \"ϕ\", \")\"}], \" \", \n",
       "\n",
       " \n",
       ">              TemplateBox[List[SubscriptBox[OverscriptBox[\"f\", \"^\"], \n",
       "\n",
       " \n",
       ">                 RowBox[List[\"y\", \",\", \"y\"]]], \"\\\"(5)\\\"\"], \"Superscript\", \n",
       "\n",
       " \n",
       ">               Rule[SyntaxForm, SuperscriptBox]]}]}], \")\"}]}], TraditionalForm]\n"
      ]
     },
     "execution_count": 174,
     "metadata": {
      "text/html": [],
      "text/plain": []
     },
     "output_type": "execute_result"
    }
   ],
   "source": [
    "RHSMotionRadialLagrange = - 1/2 Subscript[\\[Epsilon], G] FullSimplify[EinsteinSummation[{{i, j}, {i}, {j}}, {fh5, D[rh, OverHat[r][OverHat[t]]], rh}] + EinsteinSummation[{{i, j}, {i}, {j}}, {fh5, rh, D[rh, OverHat[r][OverHat[t]]]}]];\n",
    "RHSMotionRadialLagrange // TraditionalForm"
   ]
  },
  {
   "cell_type": "markdown",
   "metadata": {},
   "source": [
    "<span style=\"color:red\">**NB:**</span> Выражение <span style=\"color:green\">**совпадает**</span> с раннее полученным уравнением и с уравнением (10) из файла Binary.pdf"
   ]
  },
  {
   "cell_type": "code",
   "execution_count": 175,
   "metadata": {
    "vscode": {
     "languageId": "wolfram"
    }
   },
   "outputs": [
    {
     "data": {
      "text/html": [
       "<div><pre style=\"&#102;&#111;&#110;&#116;&#45;&#102;&#97;&#109;&#105;&#108;&#121;&#58;&#32;&#34;&#67;&#111;&#117;&#114;&#105;&#101;&#114;&#32;&#78;&#101;&#119;&#34;&#44;&#67;&#111;&#117;&#114;&#105;&#101;&#114;&#44;&#109;&#111;&#110;&#111;&#115;&#112;&#97;&#99;&#101;&#59;\">&#48;</pre></div>"
      ],
      "text/plain": [
       "0"
      ]
     },
     "execution_count": 175,
     "metadata": {
      "text/html": [],
      "text/plain": []
     },
     "output_type": "execute_result"
    }
   ],
   "source": [
    "RHSMotion[[1]] - RHSMotionRadialLagrange"
   ]
  },
  {
   "cell_type": "markdown",
   "metadata": {},
   "source": [
    "---\n",
    "\n",
    "#### Уравнение для координаты $\\phi$:\n",
    "$$\n",
    "\\frac{d}{d\\hat{t}} \\left(\\frac{\\partial \\hat{L}}{\\partial \\hat{\\omega}} \\right) - \\frac{\\partial \\hat{L}}{\\partial \\phi} = 0.\n",
    "$$\n",
    "Вычислим производные:\n",
    "$$\n",
    "\\frac{\\partial \\hat{L}}{\\partial \\hat{\\omega}} = \\hat{r}^2 \\hat{\\omega}, \\quad \\frac{d}{d\\hat{t}} \\left( \\frac{\\partial \\hat{L}}{\\partial \\hat{\\omega}} \\right) = \\frac{d}{d\\hat{t}} \\left( \\hat{r}^2 \\hat{\\omega} \\right),\n",
    "$$\n",
    "$$\n",
    "\\frac{\\partial \\hat{L}}{\\partial \\phi} = - \\frac{5}{2}\\epsilon_G\\frac{\\partial \\hat{\\Phi}}{\\partial \\phi}.\n",
    "$$\n",
    "Подставляем в уравнение Эйлера-Лагранжа:\n",
    "$$\n",
    "\\frac{1}{\\hat{r}}\\frac{d}{d\\hat{t}} \\left( \\hat{r}^2 \\hat{\\omega} \\right) = \\frac{1}{\\hat{r}}\\frac{d\\hat{J}}{d\\hat{t}} = - \\frac{5}{2}\\frac{\\epsilon_G}{\\hat{r}}\\frac{\\partial \\hat{\\Phi}}{\\partial \\phi}.\n",
    "$$\n",
    "\n",
    "Здесь \n",
    "$$\n",
    "\\frac{\\partial \\hat{\\Phi}}{\\partial \\phi} = \\frac{1}{5}\\hat{f}_{ij}^{(5)}\\left(\\frac{\\partial \\hat{r}_i}{\\partial \\phi}\\hat{r}_j + \\hat{r}_i\\frac{\\partial \\hat{r}_j}{\\partial \\phi}\\right)\n",
    "$$\n",
    "<span style=\"color:red\">**TODO_2:**</span> Обсудить почему $\\hat{f}_{ij}^{(5)}$ берётся заданной функцией, не зависящей от $\\phi$ при вариации лагранжиана."
   ]
  },
  {
   "cell_type": "markdown",
   "metadata": {},
   "source": [
    "Правая часть уравнения движения для $\\phi$ будет выглядеть как"
   ]
  },
  {
   "cell_type": "code",
   "execution_count": 177,
   "metadata": {
    "vscode": {
     "languageId": "wolfram"
    }
   },
   "outputs": [
    {
     "data": {
      "text/html": [
       "<div><img alt=\"Output\" src=\"data:image/png;base64,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\"></div>"
      ],
      "text/plain": [
       "FormBox[RowBox[{RowBox[{\"-\", FractionBox[\"1\", \"2\"]}], \" \", OverscriptBox[\"r\", \"^\"], \n",
       "\n",
       " \n",
       ">        \" \", SubscriptBox[\"ϵ\", \"G\"], \" \", \n",
       "\n",
       " \n",
       ">        RowBox[{\"(\", RowBox[{RowBox[{RowBox[{\"sin\", \"(\", RowBox[{\"2\", \" \", \"ϕ\"}], \n",
       "\n",
       " \n",
       ">                \")\"}], \" \", RowBox[{\"(\", \n",
       "\n",
       " \n",
       ">                RowBox[{TemplateBox[List[SubscriptBox[OverscriptBox[\"f\", \"^\"], \n",
       "\n",
       " \n",
       ">                     RowBox[List[\"y\", \",\", \"y\"]]], \"\\\"(5)\\\"\"], \"Superscript\", \n",
       "\n",
       " \n",
       ">                   Rule[SyntaxForm, SuperscriptBox]], \"-\", \n",
       "\n",
       " \n",
       ">                  TemplateBox[List[SubscriptBox[OverscriptBox[\"f\", \"^\"], \n",
       "\n",
       " \n",
       ">                     RowBox[List[\"x\", \",\", \"x\"]]], \"\\\"(5)\\\"\"], \"Superscript\", \n",
       "\n",
       " \n",
       ">                   Rule[SyntaxForm, SuperscriptBox]]}], \")\"}]}], \"+\", \n",
       "\n",
       " \n",
       ">            RowBox[{\"2\", \" \", RowBox[{\"cos\", \"(\", RowBox[{\"2\", \" \", \"ϕ\"}], \")\"}], \" \", \n",
       "\n",
       " \n",
       ">              TemplateBox[List[SubscriptBox[OverscriptBox[\"f\", \"^\"], \n",
       "\n",
       " \n",
       ">                 RowBox[List[\"x\", \",\", \"y\"]]], \"\\\"(5)\\\"\"], \"Superscript\", \n",
       "\n",
       " \n",
       ">               Rule[SyntaxForm, SuperscriptBox]]}]}], \")\"}]}], TraditionalForm]\n"
      ]
     },
     "execution_count": 177,
     "metadata": {
      "text/html": [],
      "text/plain": []
     },
     "output_type": "execute_result"
    }
   ],
   "source": [
    "RHSMotionPhiLagrange = - 1/2 Subscript[\\[Epsilon], G] FullSimplify[EinsteinSummation[{{i, j}, {i}, {j}}, {fh5, D[rh, \\[Phi][OverHat[t]]], rh}] + EinsteinSummation[{{i, j}, {i}, {j}}, {fh5, rh, D[rh, \\[Phi][OverHat[t]]]}]]/OverHat[r][OverHat[t]];\n",
    "RHSMotionPhiLagrange // TraditionalForm"
   ]
  },
  {
   "cell_type": "markdown",
   "metadata": {},
   "source": [
    "<span style=\"color:red\">**NB:**</span> Выражение <span style=\"color:green\">**совпадает**</span> с раннее полученным уравнением и с уравнением (9) из файла Binary.pdf"
   ]
  },
  {
   "cell_type": "code",
   "execution_count": 178,
   "metadata": {
    "vscode": {
     "languageId": "wolfram"
    }
   },
   "outputs": [
    {
     "data": {
      "text/html": [
       "<div><pre style=\"&#102;&#111;&#110;&#116;&#45;&#102;&#97;&#109;&#105;&#108;&#121;&#58;&#32;&#34;&#67;&#111;&#117;&#114;&#105;&#101;&#114;&#32;&#78;&#101;&#119;&#34;&#44;&#67;&#111;&#117;&#114;&#105;&#101;&#114;&#44;&#109;&#111;&#110;&#111;&#115;&#112;&#97;&#99;&#101;&#59;\">&#48;</pre></div>"
      ],
      "text/plain": [
       "0"
      ]
     },
     "execution_count": 178,
     "metadata": {
      "text/html": [],
      "text/plain": []
     },
     "output_type": "execute_result"
    }
   ],
   "source": [
    "RHSMotion[[2]] - RHSMotionPhiLagrange"
   ]
  },
  {
   "cell_type": "markdown",
   "metadata": {},
   "source": [
    "## Получим **энергетическую** систему уравнений в подходе Лагранжа"
   ]
  },
  {
   "cell_type": "markdown",
   "metadata": {},
   "source": [
    "Заметим, что энергия системы:\n",
    "$$\n",
    "\\hat{E} = \\frac{(\\hat{r}^{(1)})^2}{2} + \\frac{\\hat{r}^2 \\hat{\\omega}^2}{2} - \\frac{1}{\\hat{r}}\n",
    "$$\n",
    "$$\n",
    "\\frac{1}{\\hat{r}^{(1)}}\\left(\\frac{d\\hat{E}}{d\\hat{t}} - \\hat{\\omega} \\frac{d\\hat{J}}{d\\hat{t}}\\right) = \\hat{r}^{(2)} - \\hat{r} \\hat{\\omega}^2 + \\frac{1}{\\hat{r}^2}\n",
    "$$\n",
    "\n",
    "А также уравнение для изменения момента импульса системы есть\n",
    "$$\n",
    "\\frac{d\\hat{J}}{d\\hat{t}} = - \\frac{5}{2}\\epsilon_G\\frac{\\partial \\hat{\\Phi}}{\\partial \\phi}.\n",
    "$$\n",
    "\n",
    "Итоговая энергетическая система, выведенная по-новому будет записываться как:\n",
    "\n",
    "$$\n",
    "\\begin{align}\n",
    "\\frac{d\\hat{E}}{d\\hat{t}} &= - \\frac{5}{2}\\epsilon_G\\left(\\hat{r}^{(1)}\\frac{\\partial \\hat{\\Phi}}{\\partial \\hat{r}} + \\hat{\\omega} \\frac{\\partial \\hat{\\Phi}}{\\partial \\phi}\\right) = - \\frac{5}{2}\\epsilon_G \\frac{d\\hat{\\Phi}}{d\\hat{t}}\n",
    "  = - \\frac{\\epsilon_G}{2}\\hat{f}_{ij}^{(5)}\\left(\\frac{d\\hat{r}_i}{d\\hat{t}}\\hat{r}_j + \\hat{r}_i\\frac{d\\hat{r}_j}{d\\hat{t}}\\right)\n",
    "  = - \\frac{\\epsilon_G}{2}\\hat{f}_{ij}^{(5)}\\frac{d(\\hat{r}_i \\hat{r}_j)}{d\\hat{t}}\n",
    "\\\\\n",
    "\\frac{d\\hat{J}}{d\\hat{t}} &= - \\frac{5}{2}\\epsilon_G\\frac{\\partial \\hat{\\Phi}}{\\partial \\phi}\n",
    "  = - \\frac{\\epsilon_G}{2}\\hat{f}_{ij}^{(5)}\\left(\\frac{\\partial \\hat{r}_i}{\\partial \\phi}\\hat{r}_j + \\hat{r}_i\\frac{\\partial \\hat{r}_j}{\\partial \\phi}\\right)\n",
    "  = - \\frac{\\epsilon_G}{2}\\hat{f}_{ij}^{(5)}\\frac{d(\\hat{r}_i \\hat{r}_j)}{d\\phi}\n",
    "\\end{align}\n",
    "$$"
   ]
  },
  {
   "cell_type": "markdown",
   "metadata": {},
   "source": [
    "<span style=\"color:red\">**TODO_3:**</span> Обсудить почему $\\hat{f}_{ij}^{(5)}$ берётся заданной функцией, не зависящей от $\\hat{r}, \\phi, \\hat{t}$ при вариации лагранжиана."
   ]
  },
  {
   "cell_type": "code",
   "execution_count": 180,
   "metadata": {
    "vscode": {
     "languageId": "wolfram"
    }
   },
   "outputs": [
    {
     "data": {
      "text/html": [
       "<div><img alt=\"Output\" src=\"data:image/png;base64,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\"></div>"
      ],
      "text/plain": [
       "FormBox[TagBox[RowBox[{\"(\", \"⁠\", \n",
       "\n",
       " \n",
       ">         TagBox[GridBox[{{RowBox[{OverscriptBox[\"r\", \"^\"], \" \", \n",
       "\n",
       " \n",
       ">               RowBox[{\"(\", RowBox[{\"-\", SubscriptBox[\"ϵ\", \"G\"]}], \")\"}], \" \", \n",
       "\n",
       " \n",
       ">               RowBox[{\"(\", RowBox[{RowBox[{OverscriptBox[\"r\", \"^\"], \" \", \n",
       "\n",
       " \n",
       ">                     OverscriptBox[\"ω\", \"^\"], \" \", \n",
       "\n",
       " \n",
       ">                     RowBox[{\"(\", RowBox[{RowBox[{RowBox[{\"cos\", \"(\", \n",
       "\n",
       " \n",
       ">                             RowBox[{\"2\", \" \", \"ϕ\"}], \")\"}], \" \", \n",
       "\n",
       " \n",
       ">                           TemplateBox[List[SubscriptBox[OverscriptBox[\"f\", \n",
       "\n",
       " \n",
       ">                             \"^\"], RowBox[List[\"x\", \",\", \"y\"]]], \"\\\"(5)\\\"\"], \n",
       "\n",
       " \n",
       ">                            \"Superscript\", Rule[SyntaxForm, SuperscriptBox]]}], \n",
       "\n",
       " \n",
       ">                         \"+\", RowBox[{RowBox[{\"sin\", \"(\", \"ϕ\", \")\"}], \" \", \n",
       "\n",
       " \n",
       ">                           RowBox[{\"cos\", \"(\", \"ϕ\", \")\"}], \" \", \n",
       "\n",
       " \n",
       ">                           RowBox[{\"(\", \n",
       "\n",
       " \n",
       ">                             RowBox[{TemplateBox[List[SubscriptBox[\n",
       "\n",
       " \n",
       ">                             OverscriptBox[\"f\", \"^\"], \n",
       "\n",
       " \n",
       ">                             RowBox[List[\"y\", \",\", \"y\"]]], \"\\\"(5)\\\"\"], \n",
       "\n",
       " \n",
       ">                             \"Superscript\", Rule[SyntaxForm, SuperscriptBox]], \n",
       "\n",
       " \n",
       ">                              \"-\", \n",
       "\n",
       " \n",
       ">                              TemplateBox[List[SubscriptBox[OverscriptB\\\n",
       "\n",
       " \n",
       ">   ox[\"f\", \"^\"], RowBox[List[\"x\", \",\", \"x\"]]], \"\\\"(5)\\\"\"], \"Superscript\", \n",
       "\n",
       " \n",
       ">                              Rule[SyntaxForm, SuperscriptBox]]}], \")\"}]}]}], \")\"}]\\\n",
       "\n",
       " \n",
       ">   }], \"+\", RowBox[{SuperscriptBox[OverscriptBox[\"r\", \"^\"], \"′\"], \" \", \n",
       "\n",
       " \n",
       ">                     RowBox[{\"(\", RowBox[{RowBox[{RowBox[{\"sin\", \"(\", \n",
       "\n",
       " \n",
       ">                             RowBox[{\"2\", \" \", \"ϕ\"}], \")\"}], \" \", \n",
       "\n",
       " \n",
       ">                           TemplateBox[List[SubscriptBox[OverscriptBox[\"f\", \n",
       "\n",
       " \n",
       ">                             \"^\"], RowBox[List[\"x\", \",\", \"y\"]]], \"\\\"(5)\\\"\"], \n",
       "\n",
       " \n",
       ">                            \"Superscript\", Rule[SyntaxForm, SuperscriptBox]]}], \n",
       "\n",
       " \n",
       ">                         \"+\", RowBox[{RowBox[{SuperscriptBox[\"cos\", \"2\"], \"(\", \n",
       "\n",
       " \n",
       ">                             \"ϕ\", \")\"}], \" \", \n",
       "\n",
       " \n",
       ">                           TemplateBox[List[SubscriptBox[OverscriptBox[\"f\", \n",
       "\n",
       " \n",
       ">                             \"^\"], RowBox[List[\"x\", \",\", \"x\"]]], \"\\\"(5)\\\"\"], \n",
       "\n",
       " \n",
       ">                            \"Superscript\", Rule[SyntaxForm, SuperscriptBox]]}], \n",
       "\n",
       " \n",
       ">                         \"+\", RowBox[{RowBox[{SuperscriptBox[\"sin\", \"2\"], \"(\", \n",
       "\n",
       " \n",
       ">                             \"ϕ\", \")\"}], \" \", \n",
       "\n",
       " \n",
       ">                           TemplateBox[List[SubscriptBox[OverscriptBox[\"f\", \n",
       "\n",
       " \n",
       ">                             \"^\"], RowBox[List[\"y\", \",\", \"y\"]]], \"\\\"(5)\\\"\"], \n",
       "\n",
       " \n",
       ">                            \"Superscript\", Rule[SyntaxForm, SuperscriptBox]]}]}], \n",
       "\n",
       " \n",
       ">                       \")\"}]}]}], \")\"}]}]}, \n",
       "\n",
       " \n",
       ">            {RowBox[{RowBox[{\"-\", FractionBox[\"1\", \"2\"]}], \" \", \n",
       "\n",
       " \n",
       ">               SuperscriptBox[OverscriptBox[\"r\", \"^\"], \"2\"], \" \", \n",
       "\n",
       " \n",
       ">               SubscriptBox[\"ϵ\", \"G\"], \" \", \n",
       "\n",
       " \n",
       ">               RowBox[{\"(\", RowBox[{RowBox[{RowBox[{\"sin\", \"(\", \n",
       "\n",
       " \n",
       ">                       RowBox[{\"2\", \" \", \"ϕ\"}], \")\"}], \" \", \n",
       "\n",
       " \n",
       ">                     RowBox[{\"(\", RowBox[{TemplateBox[List[SubscriptBox[\n",
       "\n",
       " \n",
       ">                            OverscriptBox[\"f\", \"^\"], \n",
       "\n",
       " \n",
       ">                            RowBox[List[\"y\", \",\", \"y\"]]], \"\\\"(5)\\\"\"], \n",
       "\n",
       " \n",
       ">                          \"Superscript\", Rule[SyntaxForm, SuperscriptBox]], \"-\", \n",
       "\n",
       " \n",
       ">                         TemplateBox[List[SubscriptBox[OverscriptBox[\"f\", \"^\"], \n",
       "\n",
       " \n",
       ">                            RowBox[List[\"x\", \",\", \"x\"]]], \"\\\"(5)\\\"\"], \n",
       "\n",
       " \n",
       ">                          \"Superscript\", Rule[SyntaxForm, SuperscriptBox]]}], \")\"}]}\\\n",
       "\n",
       " \n",
       ">   ], \"+\", RowBox[{\"2\", \" \", RowBox[{\"cos\", \"(\", RowBox[{\"2\", \" \", \"ϕ\"}], \")\"}], \n",
       "\n",
       " \n",
       ">                     \" \", TemplateBox[List[SubscriptBox[OverscriptBox[\"f\", \"^\"], \n",
       "\n",
       " \n",
       ">                        RowBox[List[\"x\", \",\", \"y\"]]], \"\\\"(5)\\\"\"], \"Superscript\", \n",
       "\n",
       " \n",
       ">                      Rule[SyntaxForm, SuperscriptBox]]}]}], \")\"}]}]}}, \n",
       "\n",
       " \n",
       ">           Rule[RowSpacings, 1], Rule[ColumnAlignments, Center], \n",
       "\n",
       " \n",
       ">           Rule[ColumnAlignments, Left]], Column], \"⁠\", \")\"}], \n",
       "\n",
       " \n",
       ">       Function[BoxForm`e$, MatrixForm[BoxForm`e$]]], TraditionalForm]\n"
      ]
     },
     "execution_count": 180,
     "metadata": {
      "text/html": [],
      "text/plain": []
     },
     "output_type": "execute_result"
    }
   ],
   "source": [
    "RHSEnegryLagrange = - 5/2 Subscript[\\[Epsilon],G] FullSimplify[{\n",
    "  D[fh5rhrh, OverHat[t]] /. OmegaReplace,\n",
    "  D[fh5rhrh, \\[Phi][OverHat[t]]]\n",
    "}, Trig -> True];\n",
    "\n",
    "RHSEnegryLagrange // MatrixForm // TraditionalForm"
   ]
  },
  {
   "cell_type": "markdown",
   "metadata": {},
   "source": [
    "<span style=\"color:red\">**NB:**</span> Выражения полностью <span style=\"color:green\">**совпадают**</span> с предыдущим ньютоновым подходом!"
   ]
  },
  {
   "cell_type": "code",
   "execution_count": 181,
   "metadata": {
    "vscode": {
     "languageId": "wolfram"
    }
   },
   "outputs": [
    {
     "data": {
      "text/html": [
       "<div><img alt=\"Output\" src=\"data:image/png;base64,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\"></div>"
      ],
      "text/plain": [
       "0\n",
       "\n",
       "0"
      ]
     },
     "execution_count": 181,
     "metadata": {
      "text/html": [],
      "text/plain": []
     },
     "output_type": "execute_result"
    }
   ],
   "source": [
    "FullSimplify[RHSEnegryLagrange - RHSEnegry] // MatrixForm"
   ]
  },
  {
   "cell_type": "markdown",
   "metadata": {},
   "source": [
    "В **размерной** же записи наши уравнения превращаются в\n",
    "$$\n",
    "\\begin{align}\n",
    "\\frac{dE}{dt} &= - \\mu\\frac{d\\Phi}{dt}\n",
    "  = - \\frac{1}{5}f_{ij}^{(5)} \\mu \\frac{d(r_i r_j)}{dt}\n",
    "  = - \\frac{1}{5}\\frac{c^5}{G}f_{ij}^{(5)} \\frac{d}{dt}\\left(f_{ij} + \\frac{1}{3} \\delta_{ij}r^2\\right)\n",
    "\\\\\n",
    "\\frac{dJ}{dt} &= - \\mu\\frac{\\partial \\Phi}{\\partial \\phi}\n",
    "  = - \\frac{1}{5}f_{ij}^{(5)} \\mu \\frac{d(r_i r_j)}{d\\phi}\n",
    "  = - \\frac{1}{5}\\frac{c^5}{G}f_{ij}^{(5)} \\frac{d}{d\\phi}\\left(f_{ij} + \\frac{1}{3} \\delta_{ij}r^2\\right)\n",
    "  = - \\frac{2}{5}\\frac{c^5}{G}\\epsilon_{ij}f_{ik}^{(5)} \\left(f_{kj} + \\frac{1}{3} \\delta_{kj}r^2\\right)\n",
    "\\end{align}\n",
    "$$"
   ]
  },
  {
   "cell_type": "markdown",
   "metadata": {},
   "source": [
    "<span style=\"color:red\">**TODO_4:**</span> Обсудить почему отбрасывается \"приводящий член\" $1/3\\,\\delta_{ij}r^2$\n",
    "\n",
    "в формулях $dE/dt, dJ/dt$ из задачника Лайтман А., Пресс В., Прайс Р., Тюкольки С. - 1979 - Сборник задач по теории относительности и гравитации (Решение задачи 18.5, стр. 446-447)\n",
    "\n",
    "Не стоит забывать, что в задачнике система геометризированных единиц $G = c = 1$."
   ]
  },
  {
   "cell_type": "code",
   "execution_count": 184,
   "metadata": {
    "vscode": {
     "languageId": "wolfram"
    }
   },
   "outputs": [
    {
     "data": {
      "text/html": [
       "<style>\n",
       "\t\t\t\t\t\t\t\t\t\t\t\t\t.grid-container {\n",
       "\t\t\t\t\t\t\t\t\t\t\t\t\t\tdisplay: inline-grid;\n",
       "\t\t\t\t\t\t\t\t\t\t\t\t\t\tgrid-template-columns: auto;\n",
       "\t\t\t\t\t\t\t\t\t\t\t\t\t}\n",
       "\t\t\t\t\t\t\t\t\t\t\t\t</style>\n",
       "\n",
       "\t\t\t\t\t\t\t\t\t\t\t\t<div><div class=\"grid-container\"><div class=\"grid-item\"><img alt=\"Output\" src=\"data:image/png;base64,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\"></div><div class=\"grid-item\"><img alt=\"Output\" src=\"data:image/png;base64,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\"></div></div></div>"
      ],
      "text/plain": [
       "FormBox[RowBox[{RowBox[{\"-\", FractionBox[\"2\", \"5\"]}], \" \", OverscriptBox[\"r\", \"^\"], \n",
       "\n",
       " \n",
       ">        \" \", RowBox[{\"(\", RowBox[{RowBox[{OverscriptBox[\"r\", \"^\"], \" \", \n",
       "\n",
       " \n",
       ">              OverscriptBox[\"ω\", \"^\"], \" \", \n",
       "\n",
       " \n",
       ">              RowBox[{\"(\", RowBox[{RowBox[{RowBox[{\"cos\", \"(\", \n",
       "\n",
       " \n",
       ">                      RowBox[{\"2\", \" \", \"ϕ\"}], \")\"}], \" \", \n",
       "\n",
       " \n",
       ">                    TemplateBox[List[SubscriptBox[OverscriptBox[\"f\", \"^\"], \n",
       "\n",
       " \n",
       ">                       RowBox[List[\"x\", \",\", \"y\"]]], \"\\\"(5)\\\"\"], \"Superscript\", \n",
       "\n",
       " \n",
       ">                     Rule[SyntaxForm, SuperscriptBox]]}], \"+\", \n",
       "\n",
       " \n",
       ">                  RowBox[{RowBox[{\"sin\", \"(\", \"ϕ\", \")\"}], \" \", \n",
       "\n",
       " \n",
       ">                    RowBox[{\"cos\", \"(\", \"ϕ\", \")\"}], \" \", \n",
       "\n",
       " \n",
       ">                    RowBox[{\"(\", RowBox[{TemplateBox[List[SubscriptBox[\n",
       "\n",
       " \n",
       ">                           OverscriptBox[\"f\", \"^\"], RowBox[List[\"y\", \",\", \"y\"]]], \n",
       "\n",
       " \n",
       ">                          \"\\\"(5)\\\"\"], \"Superscript\", \n",
       "\n",
       " \n",
       ">                         Rule[SyntaxForm, SuperscriptBox]], \"-\", \n",
       "\n",
       " \n",
       ">                        TemplateBox[List[SubscriptBox[OverscriptBox[\"f\", \"^\"], \n",
       "\n",
       " \n",
       ">                           RowBox[List[\"x\", \",\", \"x\"]]], \"\\\"(5)\\\"\"], \"Superscript\", \n",
       "\n",
       " \n",
       ">                         Rule[SyntaxForm, SuperscriptBox]]}], \")\"}]}]}], \")\"}]}], \"+\", \n",
       "\n",
       " \n",
       ">            RowBox[{SuperscriptBox[OverscriptBox[\"r\", \"^\"], \"′\"], \" \", \n",
       "\n",
       " \n",
       ">              RowBox[{\"(\", RowBox[{RowBox[{RowBox[{\"sin\", \"(\", \n",
       "\n",
       " \n",
       ">                      RowBox[{\"2\", \" \", \"ϕ\"}], \")\"}], \" \", \n",
       "\n",
       " \n",
       ">                    TemplateBox[List[SubscriptBox[OverscriptBox[\"f\", \"^\"], \n",
       "\n",
       " \n",
       ">                       RowBox[List[\"x\", \",\", \"y\"]]], \"\\\"(5)\\\"\"], \"Superscript\", \n",
       "\n",
       " \n",
       ">                     Rule[SyntaxForm, SuperscriptBox]]}], \"+\", \n",
       "\n",
       " \n",
       ">                  RowBox[{RowBox[{SuperscriptBox[\"cos\", \"2\"], \"(\", \"ϕ\", \")\"}], \" \", \n",
       "\n",
       " \n",
       ">                    TemplateBox[List[SubscriptBox[OverscriptBox[\"f\", \"^\"], \n",
       "\n",
       " \n",
       ">                       RowBox[List[\"x\", \",\", \"x\"]]], \"\\\"(5)\\\"\"], \"Superscript\", \n",
       "\n",
       " \n",
       ">                     Rule[SyntaxForm, SuperscriptBox]]}], \"+\", \n",
       "\n",
       " \n",
       ">                  RowBox[{RowBox[{SuperscriptBox[\"sin\", \"2\"], \"(\", \"ϕ\", \")\"}], \" \", \n",
       "\n",
       " \n",
       ">                    TemplateBox[List[SubscriptBox[OverscriptBox[\"f\", \"^\"], \n",
       "\n",
       " \n",
       ">                       RowBox[List[\"y\", \",\", \"y\"]]], \"\\\"(5)\\\"\"], \"Superscript\", \n",
       "\n",
       " \n",
       ">                     Rule[SyntaxForm, SuperscriptBox]]}]}], \")\"}]}]}], \")\"}]}], \n",
       "\n",
       " \n",
       ">      TraditionalForm]\n",
       "\n",
       "FormBox[RowBox[{RowBox[{\"-\", FractionBox[\"1\", \"5\"]}], \" \", \n",
       "\n",
       " \n",
       ">        SuperscriptBox[OverscriptBox[\"r\", \"^\"], \"2\"], \" \", \n",
       "\n",
       " \n",
       ">        RowBox[{\"(\", RowBox[{RowBox[{RowBox[{\"sin\", \"(\", RowBox[{\"2\", \" \", \"ϕ\"}], \n",
       "\n",
       " \n",
       ">                \")\"}], \" \", RowBox[{\"(\", \n",
       "\n",
       " \n",
       ">                RowBox[{TemplateBox[List[SubscriptBox[OverscriptBox[\"f\", \"^\"], \n",
       "\n",
       " \n",
       ">                     RowBox[List[\"x\", \",\", \"x\"]]], \"\\\"(5)\\\"\"], \"Superscript\", \n",
       "\n",
       " \n",
       ">                   Rule[SyntaxForm, SuperscriptBox]], \"-\", \n",
       "\n",
       " \n",
       ">                  TemplateBox[List[SubscriptBox[OverscriptBox[\"f\", \"^\"], \n",
       "\n",
       " \n",
       ">                     RowBox[List[\"y\", \",\", \"y\"]]], \"\\\"(5)\\\"\"], \"Superscript\", \n",
       "\n",
       " \n",
       ">                   Rule[SyntaxForm, SuperscriptBox]]}], \")\"}]}], \"-\", \n",
       "\n",
       " \n",
       ">            RowBox[{\"2\", \" \", RowBox[{\"cos\", \"(\", RowBox[{\"2\", \" \", \"ϕ\"}], \")\"}], \" \", \n",
       "\n",
       " \n",
       ">              TemplateBox[List[SubscriptBox[OverscriptBox[\"f\", \"^\"], \n",
       "\n",
       " \n",
       ">                 RowBox[List[\"x\", \",\", \"y\"]]], \"\\\"(5)\\\"\"], \"Superscript\", \n",
       "\n",
       " \n",
       ">               Rule[SyntaxForm, SuperscriptBox]]}]}], \")\"}]}], TraditionalForm]\n"
      ]
     },
     "execution_count": 184,
     "metadata": {
      "text/html": [],
      "text/plain": []
     },
     "output_type": "execute_result"
    }
   ],
   "source": [
    "KroneckerDeltaR2 = Simplify[Array[1/3*KroneckerDelta[#, #2]*(OverHat[r][OverHat[t]])^2 &, {2, 2}], Trig -> True];\n",
    "leviCivitaArray = Normal[LeviCivitaTensor[2]];\n",
    "-1/5 FullSimplify[EinsteinSummation[{{i, j}, {i, j}}, {fh5, D[fh + KroneckerDeltaR2, OverHat[t]]}] /. OmegaReplace] // TraditionalForm\n",
    "-2/5 FullSimplify[EinsteinSummation[{{i, j}, {i, k}, {k, j}}, {leviCivitaArray, fh5, (fh + KroneckerDeltaR2)}]] // TraditionalForm"
   ]
  },
  {
   "cell_type": "markdown",
   "metadata": {},
   "source": [
    "# Итоговая система **энергетических** уравнений:\n",
    "\n",
    "$$\n",
    "\\begin{align}\n",
    "\\tag{dJ/dt}\n",
    "\\frac{d\\hat{J}}{d\\hat{t}} &= -\\frac{1}{2} \\epsilon_G\n",
    "\\hat{r}^2\n",
    "\\left(\n",
    "  \\sin (2 \\phi ) \\left(\\hat{f}_{y,y}{}^{\\text{(5)}}-\\hat{f}_{x,x}{}^{\\text{(5)}}\\right)+2 \\cos (2 \\phi ) \\hat{f}_{x,y}{}^{\\text{(5)}}\n",
    "\\right)\n",
    "= \\epsilon_G I_J\n",
    "\\\\\n",
    "\\tag{dE/dt}\n",
    "\\frac{d\\hat{E}}{d\\hat{t}} &= \\epsilon_G\n",
    "\\left(\n",
    "  I_J\\hat{\\omega}\n",
    "  -\\hat{r} \\hat{r}'\n",
    "  \\left(\n",
    "  \\sin (2 \\phi ) \\hat{f}_{x,y}{}^{\\text{(5)}}+\\cos ^2(\\phi ) \\hat{f}_{x,x}{}^{\\text{(5)}}+\\sin ^2(\\phi ) \\hat{f}_{y,y}{}^{\\text{(5)}}\n",
    "  \\right)\n",
    "\\right)\n",
    "= \\epsilon_G I_E\n",
    "\\end{align}\n",
    "$$"
   ]
  },
  {
   "cell_type": "markdown",
   "metadata": {},
   "source": [
    "# RHS уравнения (dJ/dt)\n",
    "\n",
    "Введём новое обозначение $\\hat{r}^2 \\equiv \\hat{r}_2$"
   ]
  },
  {
   "cell_type": "code",
   "execution_count": 186,
   "metadata": {
    "vscode": {
     "languageId": "wolfram"
    }
   },
   "outputs": [],
   "source": [
    "ToR2Replacement = {\n",
    "  OverHat[r][OverHat[t]] -> Sqrt[Subscript[OverHat[r],2][OverHat[t]]],\n",
    "  Derivative[n_][OverHat[r]][OverHat[t]] :> D[Sqrt[Subscript[OverHat[r], 2][OverHat[t]]], {OverHat[t], n}]\n",
    "};"
   ]
  },
  {
   "cell_type": "markdown",
   "metadata": {},
   "source": [
    "и подставим в (dJ/dt) значения $\\hat{f}_{i,j}^{(5)}$:"
   ]
  },
  {
   "cell_type": "code",
   "execution_count": 192,
   "metadata": {
    "vscode": {
     "languageId": "wolfram"
    }
   },
   "outputs": [
    {
     "data": {
      "text/html": [
       "<div><img alt=\"Output\" src=\"data:image/png;base64,iVBORw0KGgoAAAANSUhEUgAABPgAAAAhCAIAAADLW4I5AAAAy3pUWHRSYXcgcHJvZmlsZSB0eXBlIGV4aWYAAHjabU/bDQMhDPtnio6QFw6Mw7Wc1A06fsNBVVHVErHjPFBSfz3PdBsQpmTZCypAAatWpYUoNDGZqV7xwlnIlrv5SZbgFlb+FtCXf+y+Y7KUn0UkU+j4IbTaGliLVKbPbebH6pdWyr5IaUP9CP6fm7ogg90impA7auiSQgYhC2XHiTsQjYyHkN2DO9xjDD46tI3BAem+d/cEDeMxTtDxsrZgjcjKMhy+dJ1RjlW9DklvYiFawMuwjeIAAAAJcEhZcwAAFiUAABYlAUlSJPAAAAA8dEVYdFNvZnR3YXJlAENyZWF0ZWQgd2l0aCB0aGUgV29sZnJhbSBMYW5ndWFnZSA6IHd3dy53b2xmcmFtLmNvbVyipoUAAAAhdEVYdENyZWF0aW9uIFRpbWUAMjAyNTowMzoxMSAyMToxOToxOUg9zLUAACAASURBVHhe7Z0J/LbF1Mcr2RNZQpbQ4lVKKhJvm1SSEG1owZMkqSwthGxFFFIhy6MQiU/b47FGSYtUhJKlhOylxVr27+P0zjtmrmvmXLNc933//3N9PvX5P/d1rpk5vzNzZs7MOWeW/te//rVUexoCDYF5j8A//vGPj3/84+edd96d7nSnzTff/GlPe9q8h6QBMB4C87n7/f3vf1+4cOFXv/rV+9///s997nMf/ehHj4d7qykDgauuuuqEE074+c9/vvrqq++xxx4rrrhiRmHt04ZAQ6Ah0BCII3DRRRd94xvfELq//OUvf/3rX1/zmtcEPlu6GbpxUBtFQ2CuI4Cm2GKLLc4999zb3e52mBywu++++x599NFzne/G31QgMM+734477vjFL37xEY94BJP3P//5T2yn3XfffSoE0xrRj8CiRYue9axnIS9RmPe6170uvPDC1VZbrWHWEGgINAQaApUQwGhde+21L7/8clP++eef//jHPz5Q3TKVmiLFfutb3/ra175WtYpWeEOgIZCPwBFHHHGXu9zll7/85W9/+1v+psB3v/vd3/3ud/NLbiU0BKIIzOfu97nPfW6llVb6xS9+gZnEThNYHXPMMVHEGsFkEfjjH/+45557fvSjH73llls4in/MYx7zu9/97uCDD55sq1rtDYGGQENgbiPw+c9//va3vz2mpTxf//rXjZXLHHrppZf67Fc0dPHneeYzn3mPe9xjboPeuGsIzAEEOJ3AbxnPyXve854HHnjgeuutB1OXXHLJHGCtsTD9CMzn7oeBdNRRR931rndFTE94whPWWGONu93tbtMvsnnewjPPPBNDd6eddlp22WU33njj173udU1hzvMu0dhvCDQERkDg7W9/+wYbbPDABz7wf//z8LepFHtz++23v/baa51m1DJ02e986lOfuuuuu6611lojcN6qaAg0BJIRwPvuve997worrGBKYPDyN0Zvcpntw4aAEoF53v122WUX4gUEq9/85jd4Vey///5K6BrZpBAgjvqAAw4wtW+11VYcMjSFOSlxtHobAg2B+YDAN7/5zbPPPvt973vfQx/6UM5jcFq2uSb8Z8GCBdtss80f/vAH+/f/N3Txeyao929/+1sRsF74whdSVDg+OLmi66+/PvxtMi833ngjKSXOOOOM5LZ1fnjkkUcedNBB5pVfC9LabbfdfvKTn5Std7TSkgGnhVFwHIIiTM064EVAMIUss8wycoRrHlbbd77znTfccMNoRURXojcSQv3nmFj//Oc/R7HSECTjqSl8IjTRsZbT/SbCUaVK8WF+4hOfiBPs1ltvHa2ioMqNCijamIkTjD9qWFEtt9xyhvHrrruOBQ85/IpD4ejJ+Swsh/dJrdaKi7izQAK/b7rpptp1JQ+c6LJtHGE5+CSzk49zlF9/5NZYAuUzYkpAoZElMVBgzhyU3M473OEOr3zlK3F9ImcqRi8nuhi9dmmYWksvvfQLXvCC/6qCtsoj25P3vve9cTk2P6b9gcHG2uVjH/tY2uf2Vz/+8Y8P/e+H3e5VVlmFQ4BA4cm8iAMSR+H6ltMS1rgMsL5PvvOd7wjiP/3pT4XGr4VZEwL6vb7eNEoiMOkluF11fo5u/dSnPsU5/JZbbvnSl74UV3gCkDQVJQMeBccn0LTn1ltvRSiBTjIa4LR28eLFQNrXbGLzGJkkgqLXPe95zwP/Tko6z6tf/WoOWrfbbjuiZxkXGhwcmigsQs8CgsQqr33ta6NV/OxnP4OSrktwWpTYJpgDYoUdBsjLX/7yJz3pSQ9+8IP32msvm8E0eSXjGQU/qqaiJfQRRDvV0LGm737JbfY/JP/TZpttxsTpvEpWiUOHHkqArSWZKVAFLDLC3BVUuUMFlAk7e+3bbrvtfvvt55czu6PmjW98Ix4xmLuDwImOSl9Pjims8Mw1vrAc3hNWa0gnrK+iC5JB8tUTk3TdXucy+eIPf9xxx+lLiPYlv6jk6UaDUhFh6dmHMpkdTS1Dp7noIj9tCaRpqk8TXvbb9Bwi4hhM5n+yPZFXz58QbeLkOSjKRRRtSoCppzzlKUyXJJdB9HaZp5xyCrbu1VdfbX5cSv5Co/FCZtmNNtoIOz7alADBIYccwvJXaSOFK+Jk2Df9OSgOfJXDCyY01SFpPftRYUuCCtt4dmqhM0HARsWPfvQjfb1DKSVVhkSC4afqf/773/+epR5v8XE/7bTTMKtwqFtnnXXwQg/XlQN4FByfIMp4VN+NAzjtJJPq4x73OCC9733v29nsk08+mVHq9HAi250B+OlPf/qOd7wjfnHvec97+ORRj3oUnwzdSIrCYlr4kpe8hJ2O6FIbAvbVpPFoD6y+qGgMwUyLFS64VgT3GBhfd911Tz/9dNbuNu9p8srBM4p8VE0FSrjgggv63kY7lTPWsAR++MMfhlur7H5RlvUEV155pRiZX/jCF+yvklWiU3UUJaHHqKYB7DXTEgzvSnOcM/RGU4aGnec///kwiLeIw+DsjpprrrkGK/fLX/6yvssJZXRUTkpY0ZlrfGH5HTVhtRYdidEFyVARa+jZMiDS21kGsFTjRFfzubIvOUXlTDdRlIoIS887lDnsRCuKdpsovz5BwhIo2k6fILrsN58w+2AXsMjEEsGCu+KKK8LV5Sz7wyVH0Tafs7mDTc7AOfHEE+0yOXdkyU2uGfPjEkOXyF3s0oc85CHsMbzsZS/jM4ycBEzlE+q43/3ux3lgcgnmw1//+tccTxNz/D/Wwyo/cOacw8vFF18M7wQVB45nHaY0wsaVHIvRbI34tSAP6tUcoCVD+q53vWvVVVdF9qJMOw1dbkrgFV5zppa3ve1t/PL0pz+dMdBXdQ7glBkFxyGIIqDRdyMAztS1ySabsKkp+0edhi49ge5N/icON4Davrf2LW95i+GU1OXMgpRDQjn58eabb+YrTF+cYaKACIEGFqFEZTzykY+kimjJ4o3P/2nhgx70oPvc5z6cTke/EoIZFas0/rDDDgN8nFbYtfW3A5LllYNnGHaNmuosAad0TqpRiZ27lppO5Yw1wGEsONOSXbW++yl7WpSMzWNzb61j6KapRKdGDUr2JyTyZVjhuNTX8rIqdwRlaDPCXrvMQY6hO7ujhk0uTj8+9KEPRXuaQ6AZlY6eHEFYmplrIsJyeE9YrWlGYnRBMlTKGnpW3awE7FUuf3PAq/lWaDR9ySktZ7qJopQvLD3vQpnDTrguTbeJ8uuP3KFLoKGAQK9Z9kuxP/jBDyR4bc0117zsssuidWXOQYHyNWjbn7MlR7P9s89XvOIVbBmbdctSnB3h5Ux2Zg6C5XusIGx6Z8qPcm4I8L2k4k9+8pP6T/ooaT35J2+44QZlUZm8AA2LV3JVK6vTCJvSQIONW1OmUwt7EiuvvPLDH/7wIgfgfS3//ve/Dziyq9Rp6LIbLa+4yNEUgsEvCYq47qKz5EzAo+D4BFHRRPXdOIBjKNI9aK2Yr52GLkeCj33sY0k/Y5hitSRSWHHFFc2PeFjwC04aNu84HfAj5q5yUyYKixROrnY0HQG6UZyJJ8TYw+FKKH/1q18RW4htr3EGmV2xwqkJCOnzK0mTVw6eYWFp1FRnCWxv0UWxcs3U4JBFO1XnWOMuFg4rOr3y9N0v2j/1BChn0gjJuLNnvTSV6NcbRcn5hG1cWtLnVVRW5Y6jDA2DdEWT8c4xdGd01CAONDzblPr+JpSaUenoyXGEpZm5xheWz/vQ1RqYR0didEEyVMoaeiI1CPbmDE1D3Emj6UvOhznTTRSlIsIahEYOO9GKot0myq9PkLAEirbTJ4gu++UThjwGiCw7NWu/zDkozEgUbedzvLFoue/eeOqpp/L7SSedJPRLYUAzoztWFlfxRh3M+pr7ohe9iAq+973vJQjG/gSPWY7Rn/3sZ0ddKM1XObzQFzmV2meffZTNVgqbjXl2bv70pz9JsX4tuAVyWHfOOeco680hwyWgz9AlOpRXD3jAA5zyxTEA/8zOenMAp8AoOA5BlHeNvhsTcBosMfG+oYtLCYYiW+MOU+I9zoM7A69MfrL3v//9NiVe7kLWF25tE2tggZ6dPKwaajTfcuEQtkcn7OgHZ4zTydEkGkN3dsXK/MQmILD3mfTJ8srBMzAulGqqswR8TLAA++IpNJ2qb6xh5co9eHa9g7pfVBUoCeixbG5+5CMf8Q3dNJXo1KtByfkET3g8OLjCegSVO6YyZN8E5YZ9++IXvxi0bUN3RkcNsznq3d7wQgdigEX7nnJUOnpyTGEFZq6JCMvhfehqDXY0IzG6IIlKNoEA7y2GQ9RTtK9kZV9yPs+ZbqIo5QtrKIw57ITr0nSbKL/+yB26BBoKiE0fWPZDxlB6xjOeQQ/EDOF0VFNR5rI/UIUGbedz3OvYN/ftc1khEyYj9LfF6GrYU9Ksv/76VBAN7IyWRsYdWXzg1EGgI6fweos3WrhPwBIWQ5egLOW3SmGTpcY+JfBrYV4kDllZaSZZX483J7cc4DhVHHHEESKFZEUcaHMUHIcgyr5G36UBzuqTJF4JPbDP0EX3kcfI58gkKhdDV05uefDUsolRTxLcu8MOOxSBBb3AFWSsPlENPKzyCdNl46OGo8GMipU8DYRRyJTQZ/4VkVdUoHoCpZryCyTzPGx2dlEhzhlrtIrbYolwMb7umd2PzHMMz89+9rN6ZKBks4kevvfee/OHY+iWUokalBjyTAHiSYQfLHsoduTCII6ixM7QG1MZMpXgn0WCEMKaHEN3RkcNo4NdElSl6Ew25VdffXVNgg/lqCwirGiX6CPom7kmIiynow5drSn1VXRBkgxm34fETeCWJcqH9edznvMcDpkG1aLsS4PKDBNHUcoXVsHWZhalUeBRfn01O3QJlMNF2NA1K3xuucuppci3UbRZ95L7k+M3WQ8TZ8E5Ymc+C6KuGFMEukrDlhi6ZHD9xCc+wUKBuw0kUhTbjFhNijNHkUo2WB9wTrX88ssr6QNkD3vYw2T8m4eIx7POOivwCbzhF/eOd7yDlmNv4wOGvU0nI2UOhkq4SRzfD0o3jYaSW1WcB0nYmWmcjXm/FlZ4NWyJTmb7erzJ/+YHhokDAE9fDFJO54mC03es0SfKvshSOy12GuCshgFh6HCgnX3LhT4WCI+nIqILhIDEVIK/n5eCwDCZHaNjLQoLw5YQfWe48U9ih/oKLyj3/PZTwghi5VBdIELVoitQKey+sQeJmWRYSJZXDp4BAJVqyimBw7eVVloJTgNB19FOFRbK8ccfT/mMDsgSup/TYJyrKc2OEIl2KggIwWVOQTn4hm6OSrSr1qBkrmMlMI+uFQ4aypnjaJijUUcYNYLGpZdeyhn+hz/8Yf72Dd1ZHDVGG9hqE3ePPj9/u1coR2URYWkGQidN38w1EWE5HXVSq7VkMPs+NL4kphfhzcEyTJMjQ8pU9iWnATnTTXTZlimsBJAztWKgRo0Cj/Lrq9mhK9sETMwnYUNXJnoenJsuuugiIrPQ0uEw3cmiTcZ+aTDuh0TdBpxh8Qhm0hHzaomhe9RRR8nhNQ/RJhi9JgXcZz7zmUEQIz/l4jtaLLG+rACIBjGXLkgLA01iPwDHaTbpIcPYJviBXMfyFXZvtEY9wZe+9CWOIz74wQ/6n9CrANc5f9OXXJWyr8dLPDfP4Ycf7jSAjQN5xfUJnW0r2HlyeGdHY/fdd2dDnWWrXw53I5NSK6f80QxdyeVrPC4InuefrJ/8xouTM0M1kCqsHizjyL1e+wXPQWI1KzwZEea5+93vznpFCkyWVw08k9WUKAR2UjqHTBGhsBcrWrpzu3DoUE0wdNm5Y1hJjkDf0M1RidL4QSiRh4JY/cBANoCMNscFRDBo1FAO+4PEgBnfE9/QnRujRtlpk0elsvxSZH2G7lQJS8PsNAPOcMZ1EV8AZ6MZH0ZNEFAyazWmG40sKtHU0IqDFHglvooUGzB0zX4uczEWjb2qYSFK4pXOBkwWbY4ScQsi/Dh67MRhLxxJeOBtrsvYhMIkWePJnop3Cn7P/DHokJPivvKVr1AIWVuLSEgKYb+fVmHDSAvx9LCPUPyK9t13X8i4cZRrKrD+ZXn6qle9qlSTuEYF68KYIn6xZBgio49m1VKqScpy+no8mU4F23e+851OUeSmklfsIPTVUqrzKLnwyeghOCPg4k7v7ywEn0ZYyEmQNnRtZ5ox6EQXzcK4gxFzLZiMVUwpny+5Q4ynL39AbVhqy712+4FUL1Y8xLDKzFhAe5Ko8OijjyaPiPzI0S4F5sirLJ45aoqNITjqjDYsKBRR6VFfG41aGGroMlUjOJNDyDd0M1ViQZQ62a89x4Ux148aKYe5A59/k1TSN3TnxqjRdNScUakpvyBN38w1PcLSMDtDgDPpM1K4oUMmFP/UweE3k7Wy041GFrVpCmrF2gq8NhR2+QFDV+5VEauKiZjdZ5YxctbCw24LVmVfU6cfbbmGUwKPbzN0Of/lJ4L0MBg+8IEP8IL9DJwihElO3kkKx4kZgb92klgfAvF0LXt8KrVgvm+++eYiANaXgY6y6aabQrPddtvhCSahwnbeZj0vnVWwBUKgEdnJArmgd911VxoA5Zi9WVNXX48XN0Ierml1ymFBL68CgcSlOo+GhU4aeiYtfPOb39xXAjtAELDlkVzF0LWdqWiQoSsGhr3dIAE8dhJmUzJn1CKaPv/S2rDUlnvt9oOkXqxymwUPWsjuRXIZDA/Xd/F7jrwK4pmppkSFctTgj5eCQtliiy2o5cgjj0welebDQYYuexbsReIQYfYifUM3UyUWRKkTnKpzXFQc+lFDUayfCGS175j1Dd16o4ZjMbwt9txzT5ZlhJ2HWcscNVHcapcfbcAggr6Za0qEpeFltgAXjuilku+Q/OQBHvNZKzjdaGQxAk1AKw7SAzS1tgIfAQ1TRcDQNTatnRgSp0iOKmVVw/Kmr6nTj7b48+IaDAu3GbpcCCmMYaM6RjxpXfHFNftM3LgbSMiMezeFsBPgoEOEIcn6wo85xepDlkIwxSl/t91266NBSByICS+LFi1yyAbx4lcBMrBGyYQBm7fE6hAnye6a+UUm8s67atP6dxH0qLqvx+MNLoj5J7rnnXeevMLXpa/xpTpPGjhsQdE8vA9MqDPrVwbqVlttZQqUhWznHT99lbK5ZXdXskRQAnmG7R81qcv0hu65557LitDxFJDUbp0nuoTz8aovHr4SLDZcVeVeqf3JYpVlAY9/37W5hZWj9WR5AWwpPPPV1GqrrQanxLA4o6OsUGRMBeLAAwrBUYmyDcE+kT08+yYUNm1ZRMrtX/L4hm6OSiyLkg9C1TmuE/PkUcOIIN0A6T/sYn1Dt9KoYad+4403pmOY1Qvmbl+nyh814fmrdvmmdkdYnYuunJlrGoSlWSrMHOCGqde//vUy1xBJ28lpEdZKTTcaWWhoMvttQCsO0gM0tbYC16ABTe1lP1WIsUrWScdPnt0W6YFsEXa2dibQJjcTLEiE6W2GrollJSbTZoy8Srhun3zyyeyC84qrMvkycDLGWSsEhAg76LCaEeDCTzQsQeZImtHXV6SP8iBCh2YoL34V3LZCyWS7xevDvN1+++3ZCCAjq/lFrk7da6+9lB06SlYKvWgyKv9Q1OBpW/JOg0t1nigOPoGkbwVt2zWdvIX8YieMNRcISyrj6EMGglhXXfK+7yZVu3yloXvNNddgq2OcO4mdxfEeV3m/zQK7v6kEZSVYRpN7pfbniJU1h3QJf4yIiHkwhtPkJcCWGkf5akouO3WSGBcXilwzs2DBguh49AmSVaKYxDvttBPOR+aR/VkebGB+ROmZ4KWhKrE4Sj7vVec4v7qcUcNUyCqKHRMbbbQcUOMBIT+i+mqMGhghr8STn/xkjG02Mkxy0T5Pq/xRE+7GtcuX2nOE5bQ/nIxq6JQUVnFDhaXRGDMHuGHK7Lv1pZEvwlqp6UYjiyhNfr8NaMVBemAEBR5FQwiS5zin/MCJLkeGnctL84lvRknhM4E29xfAnTimLc1/mG1su7JLxEG22cmWiZ8RRSjaG97wBvknb4l6JTW2pBLxHzy+MPCwpM1JoNAQNH/++ed3fmJ+5DiL0xLmxQDZMcccw6YsbeBstpMM84ZjSV6xoJGtR/MM5cUvH69FgpDJ1UnMsHnL6QePRIHKs8oqq7AsZsPM4BZmPPq2FHocYiA7quO0GTGZetEyclSOTxpXXNrtIa5155135he6PgfXflMLdp4oDj4BHheyZ08WNONuwSXRpEongxwOivIJ3mv4orAfwWYHWcGjFaHs8NK3yfAOwFo++OCD7c/xfpSxFHhYxy9cuJDDZGzsPjJaRYYPonNx8OP/NhnKjtS+/IJzJpaw/YqEscQksxwhrY5TciVY7Fqqyr1S+3PEipsAO1yE7hD5f+yxx9pQoHBQO/zCVuBpp52WIC++LYhnvpoi4z3mB2N/xx13NJwWFwohHtzzjj6X7dFBj6MSGUF42bB0w7Ax5XROKKIcwnWRrREFnqYSi6PkN7XqHOdXlzNqmBmvuuqqMNosREC7+KihUvQ/Kaxl14aH9QDJn9HGeM34TcofNWE2a5cvtfvC6mxVzsyVNiWFVdxQYWl0xcwBbjOF4yTBcVdeeSXxdzX6asHpRiOLKE1+vw1oxUF6YAQFHkVDCGov+6mCbVxsLv647rrrsAHthuFFiN8HikLyLjnPTKCNaYA0sWiWxNpg6J5yyinChu/ri6+mfVkO6zyshXXWWadvT4K9W8qx74JX7l4oycTd4q1vfWsfvZzvrbfeej7BUF78EtA+FI61Y14RsYxljkFrfjHpOn0wlTzWIwts7SBTWKNbO7XLta6EJfe1qmDnSWBcLltGBHbuVro15ih91RQoiSI7e4Wy0kFhaXaZ0RNd2snqHCu9M8UaEW4yNh1XC/hlJPJ7Z4jjCLBUlfsI7RcZDRKr7KSgPZ0+w62nIiNyiaXJq6wSzldTskPkBF8UF4oECL3pTW9SjsEAmT5Gl/1WfHCcR3xweFAUvJJD5jSVWBwln+uqc5xGFvpRs99++/losxEM1OwjyCts0Rqjhp2pSy65xGbn0EMPpd6+5Gf5oyYMXe3yNYIbRNM3c02DsDSMzBzghilcbTkwZ8u7L6FpPmtVp2+NdIrT9GnFoXpgBAVenPdwgYFlvzmxw5q1CwE0ueymLwftTKCNHQoLbKbD2hJDV1LgkGMg6jlM2hsoO7NxCkxyol0jGZWUz1kxKqDvTm1OLGW9ghEf7UxRXpwSTJI6O0AXpwiqW7x4sSGWyMm+e26irapKEOjxklMH3Srpu8wjbmbcS9zXsIKdJ4F3FlI0z45TZV+GvSjbuZ1NHekVnddBKSvVr+2cAsOGLgoFL0rOPfxM7iRdJC0cBBIwSdyOXfKFF17Ij5xZ4XDhszACLFXlPkL7BbRBYhUHVzB3HODF8ZJTUApMk1dBJVxETYkJilOD3bWKC0XmIS7uU47BAJne0O0sBKUnKsK+wzZNJRZHyWlw1TlOKYhBo8Yvk5BdoLZ3w0cYNTSDfIqs3jqzaRYZNQH0apevFNwgsr6Za+LC0nAxi4AbvjjKY4DgeNLJaRHWqk7fGgGVpRmkFQN6gFbVVuBlGdeUFlj2c8oiy0tUul2Uidwx9ybab2cFbXHplftolxi64pKqSQqCXYcjEMfcffjK+pvLdTQCCNCcddZZuLThbGxnxpLj4sBxrvhwYgmH7x+SeqO8+M3jYJPyTSosbCrJQCg3NfGIGwBL4QsuuCATgRqfS/AqD76XTvn0eG6AcNadOKjjrgk7fTsLZTtPAsucZwpHJm0D2xD809yayyCXG7G33nrrhPLNJ8lrO44sqB2v487a2TDjLfnM2CEyD8oFbWvWZBysQcM9e/ap9T777MOPeJZ2FjsCLAWVhs/CCO2XSgeJlRWe5J1ykuvIBXTm8qoEeZUdR/lqik0WOMK12BZNWaGg2MVXiqCDnIEp39YwdNNUYlmUfGRqz3EaWQwaNX6BvqELTe1Rg3nAOZifSc40L3/UhKGrXb5GcINoAjPXxIWlYWT6AecmEbwMyAtAwjDDEbM816IwvdqJYBx+81mrOn1rpFOWRq8Vo3qgtgIvy7imtMCyn88JtmIWdrIzsvvMj7iwdZ59zgraXN4OF5JQekkiWTEViKoNo0bUFnDY9wT49NjAFLXyyitrBBCgMYHyHM3htIm5wo1PZF0nQC5ws5NElHGmGq1dw4tfiEzw2H4HHnggsV60jXwqa6+9NseebP9L6Bc6KOe+1mjLcwiMjyVXsPrlENXM0hOPMrz7ZO0o938QPdVXadnOk8Aa9q0EteJsiX3IOob2cws0ViKBf/QZztl4C7+avY9AA9LWdkxaHC/L+OJGYqf8gw46SF51PjvssIPQo2vwpRTDgwIxt9BN7D6QzaVvy6k2LLXlXrv9RhBDxQrj9Chc5dH1ZPkmsuiAAw5ANMSxmzIT5FUWz3w1dcUVV8AUu3h2jy0rFNxKqUKOwfOfGoYurUpQiWVR8pGpPcdpZDF01Dhldhq6VUcNDWDlsOWWWzqp/uyG5Y+aMHS1y9cITk8TnrkmLiwNI9MPuMnow0UhBOWRNY2lF6tKbiomw0h0NZK8EC073WhkUZtGrxWjeqC2Aq8NhV9+eNkPPcGYzMWkNZXjIiLD2btnId13XDcraMsxpDhLLiUXBnJRZ188gADH6SUWHcu7qJxId7TccstFycIEOG3KZWLy8DfRU9FjUmHMP6506tLz4nzIDhzjBEdZapFbE8iyTRqqddddl7UvJ6KsdwN3L2VikvM5F+QiPtugWmuttXz/e7o4IYioXZDkSgY46nRdMC0p3nkSeCS6AF4w/IhZZX+ES3qYhtl0YFOGSF0c5DDUA5sjyho5QUXEiFtJTxw/CevIamMwx+IlPQbNkxLs7GWdhi7+S3ZdbP0iDgrhoSX0ry6iWwAABG1JREFUNPt+FL9VVWEZQe5V22/gGipWPmTHhDu66VrssKDoEAdRpn4HGySvsngWUVOSYP/b3/623bUKCkVmX9xqlAMqTEbSe0pj5yitNBCTJIh4EjklDFWJfF4QJZ+d2nOcBsCEUWMXyzYxUPtXM0BTY9RQ7IknnsjpBDkXA9wVGTUTLF8jOA1NdOYyhUxQWBpGagtU04YwDaeLLB3t2Z/Rzf0R0WVGJmtlp5t8HPJLUGpFjR6orcDzmdWXoFz2UyDeshxPiiXIWprZP2DIzATaLMkwG81m/W3XC4Wxw3IgXQfnYxqIWQWCV3hS0ZRDCThCc5xLatlo8LCmQKEZxEtfsXaCLqFB9ejbMOWU6FmcsfFbzrcPSwEeRYwdaGe3HkGT1CH64WwRXH311bh6OnHUARYmCEuRgTbB9oc7Bse5HPdhBYXHyFB5BSpNwDNHTbHrj1sEucr9JuULBW3JtIofuJ0xbppHYoJKzEcpGZCErpJcV40PC44amofrGrFUHJcpm5ozajRV1C5f04aCNJMVloaRaQac6YMsG2effTYOX6RZ1rBj09RjbdZ1iI/kUD0wQQU+tBuUoseFHpuL+3vzC5w42nLLCdlGhJe4octQJC2BfWUoy5RAPirZqo86QudDmVDCUF4Sqmif2Ag0wOdnf2hyLyv3ieDJXW6ccxofhIIc4SuFFY2DdMEyW1GCwES6ytSCf9lll+HvY8dAkvhDorbaM20INGFNiUTmng5pXWvMrjUNaMsFt+ZCnCX36HbHCP7fr9i0OH+SgUmcuzjK4DI6EpdJpI3/4FFJjMH+++9vorrD5Y/5digvY7ZtTtbVAJ+TYo0y1eQehWgQwaTwxNYl9/Kpp54qF3QVeQih5woHLjYwiRiKFNsKEQQm1VWmEH+u8MUHj/vG5TJSljqc67K9wiGk5jb1KeRoDjepCWt6hDvHdEjrWmN2rSlBmzUGRiiqHmt0CfthQ598sD5GuD6T/CPwIX7OJIkdcwtBU1caL5qSG00nAg3w+dkxmtzLyn2yeJ5zzjlMFXbG7xzuzjjjDGxm/zKtnDLbtwaByXaVqRIEXvEsQvzVi+Z2ialiZD40pglreqQ8x3RI61pjdq3pQXujjTayb1qJn+gmbAaQTY48t8SwyUVG7WkINAQaAg2BGUWAWPdSJ2CkPAQEEt3NKBSt2Q2BhkBDoCHQEGgITC0CJE9ZY401zjzzzG233VYaWcXQxcWfu0+IjWH/fmqxaA1rCDQEGgINgYZAQ6Ah0BBoCDQEGgINgTmAAFeLLV68mNuSzJb6MjW4Ij81FxFxrrto0aIa5bcyGwINgYZAQ6Ah0BBoCDQEGgINgYZAQ6AhAALcQb3wP4/tOFblRFfgPuGEE8h5JddUNAE0BBoCDYGGQEOgIdAQaAg0BBoCDYGGQEOgLAIECXM3NYkYFixYYJdc0dClGi4lIuHhLrvsUpaZVlpDoCHQEGgINAQaAg2BhkBDoCHQEGgINAROOumkyy+/XO64tZ9/A4013QmdwPUPAAAAAElFTkSuQmCC\"></div>"
      ],
      "text/plain": [
       "FormBox[RowBox[{SubscriptBox[OverscriptBox[\"r\", \"^\"], \"2\"], \" \", \n",
       "\n",
       " \n",
       ">        RowBox[{\"(\", RowBox[{RowBox[{\"-\", \n",
       "\n",
       " \n",
       ">              RowBox[{\"5\", \" \", SuperscriptBox[SubscriptBox[OverscriptBox[\"r\", \"^\"], \n",
       "\n",
       " \n",
       ">                  \"2\"], \"′\"], \" \", SuperscriptBox[OverscriptBox[\"ω\", \"^\"], \"′′′\"]}]}], \n",
       "\n",
       " \n",
       ">            \"-\", RowBox[{\"10\", \" \", SuperscriptBox[SubscriptBox[OverscriptBox[\"r\", \n",
       "\n",
       " \n",
       ">                 \"^\"], \"2\"], \"′′′\"], \" \", SuperscriptBox[OverscriptBox[\"ω\", \"^\"],\\\n",
       " \n",
       ">    \"′\"]}]\\\n",
       ", \"+\", RowBox[{\"120\", \" \", SuperscriptBox[OverscriptBox[\"ω\", \"^\"], \"2\"], \"\\\n",
       " \n",
       ">    \", \n",
       "           SuperscriptBox[SubscriptBox[OverscriptBox[\"r\", \"^\"], \"2\"], \"′\"], \"\\\n",
       " \n",
       ">    \", \n",
       "           SuperscriptBox[OverscriptBox[\"ω\", \"^\"], \"′\"]}], \"+\", \n",
       "\n",
       " \n",
       ">            RowBox[{\"60\", \" \", SubscriptBox[OverscriptBox[\"r\", \"^\"], \"2\"], \" \", \n",
       "\n",
       " \n",
       ">              OverscriptBox[\"ω\", \"^\"], \" \", \n",
       "           SuperscriptBox[RowBox[{\"(\", \n",
       "\n",
       " \n",
       ">                 SuperscriptBox[OverscriptBox[\"ω\", \"^\"], \"′\"], \")\"}], \"2\"]}], \"+\", \n",
       "\n",
       " \n",
       ">            RowBox[{\"40\", \" \", SuperscriptBox[OverscriptBox[\"ω\", \"^\"], \"3\"], \" \", \n",
       "\n",
       " \n",
       ">              SuperscriptBox[SubscriptBox[OverscriptBox[\"r\", \"^\"], \"2\"], \"′′\"]}], \"+\", \n",
       "\n",
       " \n",
       ">            RowBox[{\"40\", \" \", SubscriptBox[OverscriptBox[\"r\", \"^\"], \"2\"], \" \", \n",
       "\n",
       " \n",
       ">              SuperscriptBox[OverscriptBox[\"ω\", \"^\"], \"2\"], \" \", \n",
       "\n",
       " \n",
       ">              SuperscriptBox[OverscriptBox[\"ω\", \"^\"], \"′′\"]}], \"-\", \n",
       "\n",
       " \n",
       ">            RowBox[{\"10\", \" \", SuperscriptBox[SubscriptBox[OverscriptBox[\"r\", \"^\"], \n",
       "\n",
       " \n",
       ">                \"2\"], \"′′\"], \" \", SuperscriptBox[OverscriptBox[\"ω\", \"^\"], \"′′\"]}], \"-\",\\\n",
       " \n",
       ">    \n",
       "         RowBox[{\"5\", \" \", OverscriptBox[\"ω\", \"^\"], \" \", \n",
       "\n",
       " \n",
       ">              SuperscriptBox[SubscriptBox[OverscriptBox[\"r\", \"^\"], \"2\"], \"′′′′\"]}],\\\n",
       " \n",
       ">    \"-\", \n",
       "         RowBox[{SubscriptBox[OverscriptBox[\"r\", \"^\"], \"2\"], \" \", \n",
       "\n",
       " \n",
       ">              SuperscriptBox[OverscriptBox[\"ω\", \"^\"], \"′′′′\"]}], \"-\", \n",
       "\n",
       " \n",
       ">            RowBox[{RowBox[{\"16\"}], \" \", SubscriptBox[OverscriptBox[\"r\", \"^\"], \"2\"], \n",
       "\n",
       " \n",
       ">              \" \", SuperscriptBox[OverscriptBox[\"ω\", \"^\"], \"5\"]}]}], \")\"}]}], \n",
       "\n",
       " \n",
       ">      TraditionalForm]\n"
      ]
     },
     "execution_count": 192,
     "metadata": {
      "text/html": [],
      "text/plain": []
     },
     "output_type": "execute_result"
    }
   ],
   "source": [
    "fh1 = fh /. ToR2Replacement;\n",
    "fh5Symbolic = Simplify[D[fh1, {OverHat[t], 5}], Trig -> True];\n",
    "\n",
    "Fh5Replacement = Flatten[{\n",
    "  Outer[\n",
    "    Superscript[Subscript[OverHat[f], #1, #2], \"(5)\"] -> fh5Symbolic[[#1 /. {x -> 1, y -> 2}, #2 /. {x -> 1, y -> 2}]] &,\n",
    "    {x, y}, {x, y}\n",
    "  ],\n",
    "  ToR2Replacement,\n",
    "  OmegaReplace\n",
    "}];\n",
    "\n",
    "dJdtTemp = RHSEnegryLagrange[[2]] //. Fh5Replacement;\n",
    "dJdt = Subscript[OverHat[r],2][OverHat[t]]*Expand[Simplify[dJdtTemp/Subscript[\\[Epsilon], G], Trig -> True]/Subscript[OverHat[r],2][OverHat[t]]];\n",
    "dJdt // TraditionalForm"
   ]
  },
  {
   "cell_type": "markdown",
   "metadata": {},
   "source": [
    "<span style=\"color:red\">**NB:**</span> В файле Binary.pdf выводится <span style=\"color:green\">**точно такое же**</span> выражение"
   ]
  },
  {
   "cell_type": "markdown",
   "metadata": {},
   "source": [
    "$$\n",
    "I_J = I_1 = \\hat{r}_2 \\left[ 120\\hat{r}_2^{(1)}\\hat{\\omega}^2\\hat{\\omega}^{(1)} - 5\\hat{r}_2^{(1)}\\hat{\\omega}^{(3)} - 16\\hat{r}_2\\hat{\\omega}^5 - 10\\hat{r}_2^{(2)}\\hat{\\omega}^{(2)} + 60\\hat{r}_2\\hat{\\omega}(\\hat{\\omega}^{(1)})^2\n",
    "- 10\\hat{r}_2^{(3)}\\hat{\\omega}^{(1)} + 40\\hat{r}_2^{(2)}\\hat{\\omega}^3 - 5\\hat{r}_2^{(4)}\\hat{\\omega} - \\hat{r}_2\\hat{\\omega}^{(4)} + 40\\hat{r}_2\\hat{\\omega}^2\\hat{\\omega}^{(2)} \\right]\n",
    "$$"
   ]
  },
  {
   "cell_type": "code",
   "execution_count": 194,
   "metadata": {
    "vscode": {
     "languageId": "wolfram"
    }
   },
   "outputs": [
    {
     "data": {
      "text/html": [
       "<div><pre style=\"&#102;&#111;&#110;&#116;&#45;&#102;&#97;&#109;&#105;&#108;&#121;&#58;&#32;&#34;&#67;&#111;&#117;&#114;&#105;&#101;&#114;&#32;&#78;&#101;&#119;&#34;&#44;&#67;&#111;&#117;&#114;&#105;&#101;&#114;&#44;&#109;&#111;&#110;&#111;&#115;&#112;&#97;&#99;&#101;&#59;\">&#48;</pre></div>"
      ],
      "text/plain": [
       "0"
      ]
     },
     "execution_count": 194,
     "metadata": {
      "text/html": [],
      "text/plain": []
     },
     "output_type": "execute_result"
    }
   ],
   "source": [
    "I1 = Subscript[OverHat[r], 2][OverHat[t]] * (\n",
    "    120 * Derivative[1][Subscript[OverHat[r], 2]][OverHat[t]] *\n",
    "    OverHat[\\[Omega]][OverHat[t]]^2 * Derivative[1][OverHat[\\[Omega]]][OverHat[t]]\n",
    "    - 5 * Derivative[1][Subscript[OverHat[r], 2]][OverHat[t]] *\n",
    "    Derivative[3][OverHat[\\[Omega]]][OverHat[t]]\n",
    "    - 16 * Subscript[OverHat[r], 2][OverHat[t]] *\n",
    "    OverHat[\\[Omega]][OverHat[t]]^5\n",
    "    - 10 * Derivative[2][Subscript[OverHat[r], 2]][OverHat[t]] *\n",
    "    Derivative[2][OverHat[\\[Omega]]][OverHat[t]]\n",
    "    + 60 * Subscript[OverHat[r], 2][OverHat[t]] *\n",
    "    OverHat[\\[Omega]][OverHat[t]] * Derivative[1][OverHat[\\[Omega]]][OverHat[t]]^2\n",
    "    - 10 * Derivative[3][Subscript[OverHat[r], 2]][OverHat[t]] *\n",
    "    Derivative[1][OverHat[\\[Omega]]][OverHat[t]]\n",
    "    + 40 * Derivative[2][Subscript[OverHat[r], 2]][OverHat[t]] *\n",
    "    OverHat[\\[Omega]][OverHat[t]]^3\n",
    "    - 5 * Derivative[4][Subscript[OverHat[r], 2]][OverHat[t]] *\n",
    "    OverHat[\\[Omega]][OverHat[t]]\n",
    "    - Subscript[OverHat[r], 2][OverHat[t]] *\n",
    "    Derivative[4][OverHat[\\[Omega]]][OverHat[t]]\n",
    "    + 40 * Subscript[OverHat[r], 2][OverHat[t]] *\n",
    "    OverHat[\\[Omega]][OverHat[t]]^2 * Derivative[2][OverHat[\\[Omega]]][OverHat[t]]\n",
    ");\n",
    "dJdt - I1"
   ]
  },
  {
   "cell_type": "markdown",
   "metadata": {},
   "source": [
    "# RHS уравнения (dE/dt)\n",
    "\n",
    "Подставим в (dE/dt) значения $\\hat{f}_{i,j}^{(5)}$:"
   ]
  },
  {
   "cell_type": "code",
   "execution_count": 197,
   "metadata": {
    "vscode": {
     "languageId": "wolfram"
    }
   },
   "outputs": [
    {
     "data": {
      "text/html": [
       "<div><img alt=\"Output\" src=\"data:image/png;base64,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\"></div>"
      ],
      "text/plain": [
       "FormBox[RowBox[{FractionBox[\"1\", \"3\"], \" \", \n",
       "\n",
       " \n",
       ">        RowBox[{\"(\", RowBox[{RowBox[{OverscriptBox[\"ω\", \"^\"], \" \", \n",
       "\n",
       " \n",
       ">              RowBox[{\"(\", RowBox[{RowBox[{\"-\", \n",
       "\n",
       " \n",
       ">                    RowBox[{\"3\", \" \", SubscriptBox[OverscriptBox[\"r\", \"^\"], \"2\"], \n",
       "\n",
       " \n",
       ">                      \" \", RowBox[{\"(\", \n",
       "\n",
       " \n",
       ">                        RowBox[{RowBox[{\"10\", \" \", \n",
       "\n",
       " \n",
       ">                            SuperscriptBox[SubscriptBox[OverscriptBox[\"r\", \"^\"], \n",
       "\n",
       " \n",
       ">                              \"2\"], \"′′′\"], \" \", \n",
       "\n",
       " \n",
       ">                            SuperscriptBox[OverscriptBox[\"ω\", \"^\"], \"′\"]}], \"+\", \n",
       "\n",
       " \n",
       ">                          RowBox[{\"10\", \" \", \n",
       "\n",
       " \n",
       ">                            SuperscriptBox[SubscriptBox[OverscriptBox[\"r\", \"^\"], \n",
       "\n",
       " \n",
       ">                              \"2\"], \"′′\"], \" \", \n",
       "\n",
       " \n",
       ">                            SuperscriptBox[OverscriptBox[\"ω\", \"^\"], \"′′\"]}], \"+\", \n",
       "\n",
       " \n",
       ">                          RowBox[{SubscriptBox[OverscriptBox[\"r\", \"^\"], \"2\"], \" \", \n",
       "\n",
       " \n",
       ">                            SuperscriptBox[OverscriptBox[\"ω\", \"^\"], \"′′′′\"]}]}], \")\"}]\\\n",
       "\n",
       " \n",
       ">   }]}], \"+\", RowBox[{\"60\", \" \", SuperscriptBox[RowBox[{\"(\", \n",
       "\n",
       " \n",
       ">                       SuperscriptBox[SubscriptBox[OverscriptBox[\"r\", \"^\"], \"2\"], \n",
       "\n",
       " \n",
       ">                        \"′\"], \")\"}], \"2\"], \" \", \n",
       "\n",
       " \n",
       ">                    SuperscriptBox[OverscriptBox[\"ω\", \"^\"], \"′′\"]}], \"+\", \n",
       "\n",
       " \n",
       ">                  RowBox[{\"90\", \" \", \n",
       "\n",
       " \n",
       ">                    SuperscriptBox[SubscriptBox[OverscriptBox[\"r\", \"^\"], \"2\"], \"′\"], \n",
       "\n",
       " \n",
       ">                    \" \", SuperscriptBox[SubscriptBox[OverscriptBox[\"r\", \"^\"], \"2\"], \n",
       "\n",
       " \n",
       ">                     \"′′\"], \" \", SuperscriptBox[OverscriptBox[\"ω\", \"^\"], \"′\"]}]}],\\\n",
       " \n",
       ">    \")\"}]\\\n",
       "}], \"+\", RowBox[{SuperscriptBox[SubscriptBox[OverscriptBox[\"r\", \"^\"], \"2\"],\\\n",
       " \n",
       ">    \"′\"], \n",
       "           \" \", RowBox[{\"(\", RowBox[{RowBox[{\"30\", \" \", \n",
       "\n",
       " \n",
       ">                    SubscriptBox[OverscriptBox[\"r\", \"^\"], \"2\"], \" \", \n",
       "\n",
       " \n",
       ">                    SuperscriptBox[OverscriptBox[\"ω\", \"^\"], \"′\"], \" \", \n",
       "\n",
       " \n",
       ">                    SuperscriptBox[OverscriptBox[\"ω\", \"^\"], \"′′\"]}], \"+\", \n",
       "\n",
       " \n",
       ">                  RowBox[{\"45\", \" \", \n",
       "\n",
       " \n",
       ">                    SuperscriptBox[SubscriptBox[OverscriptBox[\"r\", \"^\"], \"2\"], \"′\"], \n",
       "\n",
       " \n",
       ">                    \" \", SuperscriptBox[RowBox[{\"(\", \n",
       "\n",
       " \n",
       ">                       SuperscriptBox[OverscriptBox[\"ω\", \"^\"], \"′\"], \")\"}], \"2\"]}], \n",
       "\n",
       " \n",
       ">                  \"-\", SuperscriptBox[SubscriptBox[OverscriptBox[\"r\", \"^\"], \"2\"], \n",
       "\n",
       " \n",
       ">                   \"′′′′′\"]}], \")\"}]}], \"-\", \n",
       "\n",
       " \n",
       ">            RowBox[{\"60\", \" \", SuperscriptBox[OverscriptBox[\"ω\", \"^\"], \"4\"], \" \", \n",
       "\n",
       " \n",
       ">              RowBox[{\"(\", RowBox[{SuperscriptBox[RowBox[{\"(\", \n",
       "\n",
       " \n",
       ">                     SuperscriptBox[SubscriptBox[OverscriptBox[\"r\", \"^\"], \"2\"], \n",
       "\n",
       " \n",
       ">                      \"′\"], \")\"}], \"2\"], \"-\", \n",
       "\n",
       " \n",
       ">                  RowBox[{\"2\", \" \", SubscriptBox[OverscriptBox[\"r\", \"^\"], \"2\"], \" \", \n",
       "\n",
       " \n",
       ">                    SuperscriptBox[SubscriptBox[OverscriptBox[\"r\", \"^\"], \"2\"],\\\n",
       " \n",
       ">    \"′′\"]}]}\\\n",
       "], \")\"}]}], \"+\", RowBox[{\"120\", \" \", SubscriptBox[OverscriptBox[\"r\",\\\n",
       " \n",
       ">    \"^\"], \"2\"], \n",
       "           \" \", SuperscriptBox[OverscriptBox[\"ω\", \"^\"], \"3\"], \" \", \n",
       "\n",
       " \n",
       ">              RowBox[{\"(\", RowBox[{RowBox[{\"2\", \" \", \n",
       "\n",
       " \n",
       ">                    SuperscriptBox[SubscriptBox[OverscriptBox[\"r\", \"^\"], \"2\"], \"′\"], \n",
       "\n",
       " \n",
       ">                    \" \", SuperscriptBox[OverscriptBox[\"ω\", \"^\"], \"′\"]}], \"+\", \n",
       "\n",
       " \n",
       ">                  RowBox[{SubscriptBox[OverscriptBox[\"r\", \"^\"], \"2\"], \" \", \n",
       "\n",
       " \n",
       ">                    SuperscriptBox[OverscriptBox[\"ω\", \"^\"], \"′′\"]}]}], \")\"}]}], \"+\", \n",
       "\n",
       " \n",
       ">            RowBox[{\"15\", \" \", SuperscriptBox[OverscriptBox[\"ω\", \"^\"], \"2\"], \" \", \n",
       "\n",
       " \n",
       ">              RowBox[{\"(\", RowBox[{RowBox[{\"12\", \" \", \n",
       "\n",
       " \n",
       ">                    SubsuperscriptBox[OverscriptBox[\"r\", \"^\"], \"2\", \"2\"], \" \", \n",
       "\n",
       " \n",
       ">                    SuperscriptBox[RowBox[{\"(\", \n",
       "\n",
       " \n",
       ">                       SuperscriptBox[OverscriptBox[\"ω\", \"^\"], \"′\"], \")\"}], \"2\"]}], \n",
       "\n",
       " \n",
       ">                  \"+\", RowBox[{\"2\", \" \", \n",
       "\n",
       " \n",
       ">                    SuperscriptBox[SubscriptBox[OverscriptBox[\"r\", \"^\"], \"2\"], \"′\"], \n",
       "\n",
       " \n",
       ">                    \" \", SuperscriptBox[SubscriptBox[OverscriptBox[\"r\", \"^\"], \"2\"], \n",
       "\n",
       " \n",
       ">                     \"′′′\"]}], \"-\", RowBox[{SubscriptBox[OverscriptBox[\"r\", \"^\"], \n",
       "\n",
       " \n",
       ">                     \"2\"], \" \", SuperscriptBox[SubscriptBox[OverscriptBox[\"r\", \"^\"], \n",
       "\n",
       " \n",
       ">                      \"2\"], \"′′′′\"]}]}], \")\"}]}], \"-\", \n",
       "\n",
       " \n",
       ">            RowBox[{RowBox[{\"48\"}], \" \", \n",
       "\n",
       " \n",
       ">              SubsuperscriptBox[OverscriptBox[\"r\", \"^\"], \"2\", \"2\"], \" \", \n",
       "\n",
       " \n",
       ">              SuperscriptBox[OverscriptBox[\"ω\", \"^\"], \"6\"]}]}], \")\"}]}],\\\n",
       " \n",
       ">    TraditionalForm]\n"
      ]
     },
     "execution_count": 197,
     "metadata": {
      "text/html": [],
      "text/plain": []
     },
     "output_type": "execute_result"
    }
   ],
   "source": [
    "dEdtTemp = RHSEnegryLagrange[[1]] //. Fh5Replacement;\n",
    "dEdt = Simplify[dEdtTemp/Subscript[\\[Epsilon], G], Trig -> True];\n",
    "dEdt // TraditionalForm"
   ]
  },
  {
   "cell_type": "markdown",
   "metadata": {},
   "source": [
    "<span style=\"color:red\">**NB:**</span> В файлах Binary.pdf и binary_catch1.pdf выводится <span style=\"color:green\">**точно такие же**</span> выражения для правой части (dE/dt),\n",
    "а именно $I_E = I_1\\hat{\\omega} + I_2\\frac{\\dot{r}}{r}$, где\n",
    "$$\n",
    "I_2 = 2\\hat{r}_2 \\left[ -40\\hat{r}_2\\hat{\\omega}^3\\hat{\\omega}^{(1)} - 20\\hat{\\omega}^4\\hat{r}_2^{(1)} + 5\\hat{r}_2\\hat{\\omega}\\hat{\\omega}^{(3)} + 10\\hat{r}_2\\hat{\\omega}^{(1)}\\hat{\\omega}^{(2)} + 10\\hat{\\omega}^2\\hat{r}_2^{(3)} + 30\\hat{\\omega}\\hat{\\omega}^{(1)}\\hat{r}_2^{(2)} + 20\\hat{\\omega}\\hat{\\omega}^{(2)}\\hat{r}_2^{(1)} + 15\\hat{r}_2^{(1)}(\\hat{\\omega}^{(1)})^2 - \\frac{1}{3}\\hat{r}_2^{(5)} \\right]\n",
    "$$"
   ]
  },
  {
   "cell_type": "code",
   "execution_count": 199,
   "metadata": {
    "vscode": {
     "languageId": "wolfram"
    }
   },
   "outputs": [
    {
     "data": {
      "text/html": [
       "<div><pre style=\"&#102;&#111;&#110;&#116;&#45;&#102;&#97;&#109;&#105;&#108;&#121;&#58;&#32;&#34;&#67;&#111;&#117;&#114;&#105;&#101;&#114;&#32;&#78;&#101;&#119;&#34;&#44;&#67;&#111;&#117;&#114;&#105;&#101;&#114;&#44;&#109;&#111;&#110;&#111;&#115;&#112;&#97;&#99;&#101;&#59;\">&#48;</pre></div>"
      ],
      "text/plain": [
       "0"
      ]
     },
     "execution_count": 199,
     "metadata": {
      "text/html": [],
      "text/plain": []
     },
     "output_type": "execute_result"
    }
   ],
   "source": [
    "I2 = 2 * Subscript[OverHat[r], 2][OverHat[t]] * (\n",
    "    -40 * Subscript[OverHat[r], 2][OverHat[t]] *\n",
    "    OverHat[\\[Omega]][OverHat[t]]^3 * Derivative[1][OverHat[\\[Omega]]][OverHat[t]]\n",
    "    - 20 * OverHat[\\[Omega]][OverHat[t]]^4 *\n",
    "    Derivative[1][Subscript[OverHat[r], 2]][OverHat[t]]\n",
    "    + 5 * Subscript[OverHat[r], 2][OverHat[t]] *\n",
    "    OverHat[\\[Omega]][OverHat[t]] * Derivative[3][OverHat[\\[Omega]]][OverHat[t]]\n",
    "    + 10 * Subscript[OverHat[r], 2][OverHat[t]] *\n",
    "    Derivative[1][OverHat[\\[Omega]]][OverHat[t]] *\n",
    "    Derivative[2][OverHat[\\[Omega]]][OverHat[t]]\n",
    "    + 10 * OverHat[\\[Omega]][OverHat[t]]^2 *\n",
    "    Derivative[3][Subscript[OverHat[r], 2]][OverHat[t]]\n",
    "    + 30 * OverHat[\\[Omega]][OverHat[t]] *\n",
    "    Derivative[1][OverHat[\\[Omega]]][OverHat[t]] *\n",
    "    Derivative[2][Subscript[OverHat[r], 2]][OverHat[t]]\n",
    "    + 20 * OverHat[\\[Omega]][OverHat[t]] *\n",
    "    Derivative[2][OverHat[\\[Omega]]][OverHat[t]] *\n",
    "    Derivative[1][Subscript[OverHat[r], 2]][OverHat[t]]\n",
    "    + 15 * Derivative[1][Subscript[OverHat[r], 2]][OverHat[t]] *\n",
    "    Derivative[1][OverHat[\\[Omega]]][OverHat[t]]^2\n",
    "    - (1/3) * Derivative[5][Subscript[OverHat[r], 2]][OverHat[t]]\n",
    ");\n",
    "Simplify[(I2*D[OverHat[r][OverHat[t]], OverHat[t]]/OverHat[r][OverHat[t]] + I1*OverHat[\\[Omega]][OverHat[t]] /. ToR2Replacement) - dEdt]"
   ]
  },
  {
   "cell_type": "markdown",
   "metadata": {},
   "source": [
    "# Итоговые $I_J$, $I_E$\n",
    "\n",
    "$$\n",
    "\\begin{align}\n",
    "\\tag{IJ}\\\n",
    "I_J &= \\hat{r}_2 \\left[ 120\\hat{r}_2^{(1)}\\hat{\\omega}^2\\hat{\\omega}^{(1)} - 5\\hat{r}_2^{(1)}\\hat{\\omega}^{(3)} - 16\\hat{r}_2\\hat{\\omega}^5 - 10\\hat{r}_2^{(2)}\\hat{\\omega}^{(2)} + 60\\hat{r}_2\\hat{\\omega}(\\hat{\\omega}^{(1)})^2\n",
    "- 10\\hat{r}_2^{(3)}\\hat{\\omega}^{(1)} + 40\\hat{r}_2^{(2)}\\hat{\\omega}^3 - 5\\hat{r}_2^{(4)}\\hat{\\omega} - \\hat{r}_2\\hat{\\omega}^{(4)} + 40\\hat{r}_2\\hat{\\omega}^2\\hat{\\omega}^{(2)} \\right]\n",
    "\\\\\n",
    "\\tag{IE}\n",
    "I_E &= I_J\\hat{\\omega} + \\hat{r}_2^{(1)} \\left[ -40\\hat{r}_2\\hat{\\omega}^3\\hat{\\omega}^{(1)} - 20\\hat{\\omega}^4\\hat{r}_2^{(1)} + 5\\hat{r}_2\\hat{\\omega}\\hat{\\omega}^{(3)} + 10\\hat{r}_2\\hat{\\omega}^{(1)}\\hat{\\omega}^{(2)} + 10\\hat{\\omega}^2\\hat{r}_2^{(3)} + 30\\hat{\\omega}\\hat{\\omega}^{(1)}\\hat{r}_2^{(2)} + 20\\hat{\\omega}\\hat{\\omega}^{(2)}\\hat{r}_2^{(1)} + 15\\hat{r}_2^{(1)}(\\hat{\\omega}^{(1)})^2 - \\frac{1}{3}\\hat{r}_2^{(5)} \\right]\n",
    "\\end{align}\n",
    "$$"
   ]
  },
  {
   "cell_type": "markdown",
   "metadata": {
    "vscode": {
     "languageId": "wolfram"
    }
   },
   "source": [
    "# Потеря энергии за один период обращения"
   ]
  },
  {
   "cell_type": "markdown",
   "metadata": {},
   "source": [
    "Энергию гравитационного излучени невозможно локализовать в области меньше длины одной волны.\n",
    "\n",
    "Поэтому мгновенные изменения энергии и момента не имеют физического смысла.\n",
    "\n",
    "Однако, если мы просуммируем энергию и момент по полному периоду обращения, то с такими величинами можно работать.\n",
    "\n",
    "Рассчитаем в **нулевом приближении**, сколько энергии уносится из системы\n",
    "\n",
    "гравитационными волнами за один полный оборот, интегрируя по ньютоновской гиперболической траектории\n",
    "\n",
    "начиная с момента, когда тело \"бесконечно\" далеко, до момента минимального сближения и обратно:\n",
    "$$\n",
    "\\Delta \\hat{E} = 2 \\epsilon_G \\int\\limits_{\\hat{t}_{\\text{min}}}^{\\infty}I_E(\\hat{t}) d \\hat{t}.\n",
    "$$"
   ]
  },
  {
   "cell_type": "markdown",
   "metadata": {},
   "source": [
    "В приближении Ньютона $I_J$ и $I_E$ равны нулю.\n",
    "Тогда и момент импульса и энергия сохраняются.\n",
    "\n",
    "$\\hat{J} = |\\vec{\\hat{r}} \\times \\vec{\\hat{v}}| = |\\vec{\\hat{r}}_\\infty \\times \\vec{\\hat{v}}_\\infty| = \\hat{r}\\hat{v}_\\infty \\sin(\\phi)$\n",
    "\n",
    "Так как $\\phi = \\pi/2$ на бесконечности, то $\\hat{J} = b\\hat{v}_\\infty = u$,\n",
    "то $u$ - безразмерная скорость на бесконечности.\n",
    "\n",
    "Отсюда следует, что $\\hat{\\omega} = \\frac{u}{\\hat{r}_2}$"
   ]
  },
  {
   "cell_type": "code",
   "execution_count": 200,
   "metadata": {
    "vscode": {
     "languageId": "wolfram"
    }
   },
   "outputs": [],
   "source": [
    "OmegaReplace2 = {\n",
    "   OverHat[\\[Omega]][OverHat[t]] -> u/Subscript[OverHat[r], 2][OverHat[t]],\n",
    "   Derivative[n_][OverHat[\\[Omega]]][OverHat[t]] :> u D[1/Subscript[OverHat[r], 2][OverHat[t]], {OverHat[t], n}]\n",
    "};"
   ]
  },
  {
   "cell_type": "markdown",
   "metadata": {},
   "source": [
    "Заменим переменные\n",
    "$$\n",
    "\\Delta \\hat{E} = - 2 \\epsilon_G \\int\\limits_{\\hat{r}_2^{\\text{min}}}^{\\infty}\\frac{I_E(\\hat{r}_2)}{\\hat{r}_2^{(1)}}d \\hat{r}_2,\n",
    "$$"
   ]
  },
  {
   "cell_type": "markdown",
   "metadata": {},
   "source": [
    "Здесь $\\hat{r}_2^{\\text{min}}$ - квадрат минимального расстояния между объектами:"
   ]
  },
  {
   "cell_type": "code",
   "execution_count": 202,
   "metadata": {
    "vscode": {
     "languageId": "wolfram"
    }
   },
   "outputs": [
    {
     "data": {
      "text/html": [
       "<div><img alt=\"Output\" src=\"data:image/png;base64,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\"></div>"
      ],
      "text/plain": [
       "FormBox[FractionBox[RowBox[{SuperscriptBox[\"u\", \"4\"], \"-\", \n",
       "\n",
       " \n",
       ">         RowBox[{\"2\", \" \", SqrtBox[RowBox[{SuperscriptBox[\"u\", \"4\"], \"+\", \"1\"}]]}],\\\n",
       " \n",
       ">    \"+\", \n",
       "      \"2\"}], SuperscriptBox[\"u\", \"4\"]], TraditionalForm]\n"
      ]
     },
     "execution_count": 202,
     "metadata": {
      "text/html": [],
      "text/plain": []
     },
     "output_type": "execute_result"
    }
   ],
   "source": [
    "rMin2[u_] := (2 + u^4 - 2 Sqrt[1 + u^4])/u^4;\n",
    "rMin2[u] // TraditionalForm"
   ]
  },
  {
   "cell_type": "code",
   "execution_count": null,
   "metadata": {
    "vscode": {
     "languageId": "wolfram"
    }
   },
   "outputs": [
    {
     "data": {
      "text/html": [
       "<div><img alt=\"Output\" src=\"data:image/png;base64,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\"></div>"
      ],
      "text/plain": [
       "FormBox[RowBox[{FractionBox[RowBox[{\"16\", \" \", SuperscriptBox[\"u\", \"6\"]}], \n",
       "\n",
       " \n",
       ">         RowBox[{SubsuperscriptBox[OverscriptBox[\"r\", \"^\"], \"2\", \"4\"], \" \", \n",
       "\n",
       " \n",
       ">           SuperscriptBox[SubscriptBox[OverscriptBox[\"r\", \"^\"], \"2\"], \"′\"]}]], \"-\", \n",
       "\n",
       " \n",
       ">        FractionBox[RowBox[{\"40\", \" \", SuperscriptBox[\"u\", \"4\"], \" \", \n",
       "\n",
       " \n",
       ">           SuperscriptBox[SubscriptBox[OverscriptBox[\"r\", \"^\"], \"2\"], \"′\"]}], \n",
       "\n",
       " \n",
       ">         SubsuperscriptBox[OverscriptBox[\"r\", \"^\"], \"2\", \"4\"]], \"-\", \n",
       "\n",
       " \n",
       ">        FractionBox[RowBox[{\"4\", \" \", SuperscriptBox[\"u\", \"2\"], \" \", \n",
       "\n",
       " \n",
       ">           SuperscriptBox[RowBox[{\"(\", \n",
       "\n",
       " \n",
       ">              SuperscriptBox[SubscriptBox[OverscriptBox[\"r\", \"^\"], \"2\"], \"′′\"], \")\"}], \n",
       "\n",
       " \n",
       ">            \"2\"]}], RowBox[{SubsuperscriptBox[OverscriptBox[\"r\", \"^\"], \"2\", \"2\"], \" \", \n",
       "\n",
       " \n",
       ">           SuperscriptBox[SubscriptBox[OverscriptBox[\"r\", \"^\"], \"2\"], \"′\"]}]], \"+\", \n",
       "\n",
       " \n",
       ">        FractionBox[RowBox[{\"24\", \" \", SuperscriptBox[\"u\", \"2\"], \" \", \n",
       "\n",
       " \n",
       ">           SuperscriptBox[SubscriptBox[OverscriptBox[\"r\", \"^\"], \"2\"], \"′\"], \" \", \n",
       "\n",
       " \n",
       ">           SuperscriptBox[SubscriptBox[OverscriptBox[\"r\", \"^\"], \"2\"], \"′′\"]}], \n",
       "\n",
       " \n",
       ">         SubsuperscriptBox[OverscriptBox[\"r\", \"^\"], \"2\", \"3\"]], \"+\", \n",
       "\n",
       " \n",
       ">        FractionBox[RowBox[{\"4\", \" \", SuperscriptBox[\"u\", \"2\"], \" \", \n",
       "\n",
       " \n",
       ">           SuperscriptBox[SubscriptBox[OverscriptBox[\"r\", \"^\"], \"2\"], \"′′′′\"]}], \n",
       "\n",
       " \n",
       ">         RowBox[{SubscriptBox[OverscriptBox[\"r\", \"^\"], \"2\"], \" \", \n",
       "\n",
       " \n",
       ">           SuperscriptBox[SubscriptBox[OverscriptBox[\"r\", \"^\"], \"2\"], \"′\"]}]], \"-\", \n",
       "\n",
       " \n",
       ">        FractionBox[RowBox[{\"11\", \" \", SuperscriptBox[\"u\", \"2\"], \" \", \n",
       "\n",
       " \n",
       ">           SuperscriptBox[RowBox[{\"(\", \n",
       "\n",
       " \n",
       ">              SuperscriptBox[SubscriptBox[OverscriptBox[\"r\", \"^\"], \"2\"], \"′\"], \")\"}], \n",
       "\n",
       " \n",
       ">            \"3\"]}], SubsuperscriptBox[OverscriptBox[\"r\", \"^\"], \"2\", \"4\"]], \"-\", \n",
       "\n",
       " \n",
       ">        FractionBox[RowBox[{\"12\", \" \", SuperscriptBox[\"u\", \"2\"], \" \", \n",
       "\n",
       " \n",
       ">           SuperscriptBox[SubscriptBox[OverscriptBox[\"r\", \"^\"], \"2\"], \"′′′\"]}], \n",
       "\n",
       " \n",
       ">         SubsuperscriptBox[OverscriptBox[\"r\", \"^\"], \"2\", \"2\"]], \"+\", \n",
       "\n",
       " \n",
       ">        FractionBox[SuperscriptBox[SubscriptBox[OverscriptBox[\"r\", \"^\"], \"2\"],\\\n",
       " \n",
       ">    \"′′′′′\"], \n",
       "      \"3\"]}], TraditionalForm]\n"
      ]
     },
     "execution_count": 204,
     "metadata": {
      "text/html": [],
      "text/plain": []
     },
     "output_type": "execute_result"
    }
   ],
   "source": [
    "(* Минус учтём сразу *)\n",
    "dEdr = Simplify[-dEdt/D[Subscript[OverHat[r], 2][OverHat[t]], OverHat[t]] //. OmegaReplace2];\n",
    "Expand[Simplify[dEdr]] // TraditionalForm"
   ]
  },
  {
   "cell_type": "markdown",
   "metadata": {},
   "source": [
    "<span style=\"color:red\">**NB:**</span> Выражение для $dE/dr$ <span style=\"color:green\">**сопадает**</span> с выраженем для интегранта из binary_catch1.pdf, если учесть деление на $\\hat{r}_2^{(1)}$"
   ]
  },
  {
   "cell_type": "markdown",
   "metadata": {},
   "source": [
    "Из сохранения энергии следует, что\n",
    "$\\hat{E} = \\hat{E}_\\infty = \\frac{u^2}{2} = \\left(\\frac{(\\hat{r}^{(1)})^2}{2} + \\frac{\\hat{r}^2 \\hat{\\omega}^2}{2} - \\frac{1}{\\hat{r}}\\right)$\n",
    "\n",
    "Тогда можно найти $\\hat{r}_2^{(1)}$:"
   ]
  },
  {
   "cell_type": "code",
   "execution_count": 207,
   "metadata": {
    "vscode": {
     "languageId": "wolfram"
    }
   },
   "outputs": [
    {
     "data": {
      "text/html": [
       "<div><img alt=\"Output\" src=\"data:image/png;base64,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\"></div>"
      ],
      "text/plain": [
       "FormBox[RowBox[{RowBox[{\"-\", \"2\"}], \" \", \n",
       "\n",
       " \n",
       ">        SqrtBox[RowBox[{RowBox[{SubscriptBox[OverscriptBox[\"r\", \"^\"], \"2\"], \" \", \n",
       "\n",
       " \n",
       ">             SuperscriptBox[\"u\", \"2\"]}], \"+\", \n",
       "\n",
       " \n",
       ">           RowBox[{\"2\", \" \", SqrtBox[SubscriptBox[OverscriptBox[\"r\", \"^\"], \"2\"]]}],\\\n",
       " \n",
       ">    \"-\", \n",
       "        SuperscriptBox[\"u\", \"2\"]}]]}], TraditionalForm]\n"
      ]
     },
     "execution_count": 207,
     "metadata": {
      "text/html": [],
      "text/plain": []
     },
     "output_type": "execute_result"
    }
   ],
   "source": [
    "eq = Energy - u^2/2 //. Flatten[{\n",
    "  ToR2Replacement,\n",
    "  OmegaReplace2,\n",
    "  D[Subscript[OverHat[r], 2][OverHat[t]], OverHat[t]]^2 -> x^2\n",
    "}];\n",
    "\n",
    "sol = Solve[eq == 0, x][[1]];\n",
    "\n",
    "x /. sol[[1]] // TraditionalForm"
   ]
  },
  {
   "cell_type": "markdown",
   "metadata": {},
   "source": [
    "А также $\\hat{r}_2^{(i)}$ для $i = 1\\dots5$"
   ]
  },
  {
   "cell_type": "code",
   "execution_count": 211,
   "metadata": {
    "vscode": {
     "languageId": "wolfram"
    }
   },
   "outputs": [
    {
     "data": {
      "text/html": [
       "<div><img alt=\"Output\" src=\"data:image/png;base64,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\"></div>"
      ],
      "text/plain": [
       "FormBox[RowBox[{\"{\", RowBox[{RowBox[{RowBox[{\"-\", \"2\"}], \" \", \n",
       "\n",
       " \n",
       ">            SqrtBox[RowBox[{RowBox[{SubscriptBox[OverscriptBox[\"r\", \"^\"], \"2\"], \" \", \n",
       "\n",
       " \n",
       ">                 SuperscriptBox[\"u\", \"2\"]}], \"+\", \n",
       "\n",
       " \n",
       ">               RowBox[{\"2\", \" \", SqrtBox[SubscriptBox[OverscriptBox[\"r\", \"^\"], \"2\"]]}],\\\n",
       " \n",
       ">    \n",
       "            \"-\", SuperscriptBox[\"u\", \"2\"]}]]}], \",\", \n",
       "\n",
       " \n",
       ">          RowBox[{\"2\", \" \", RowBox[{\"(\", \n",
       "           RowBox[{FractionBox[\"1\", \n",
       "\n",
       " \n",
       ">                 SqrtBox[SubscriptBox[OverscriptBox[\"r\", \"^\"], \"2\"]]], \"+\", \n",
       "\n",
       " \n",
       ">                SuperscriptBox[\"u\", \"2\"]}], \")\"}]}], \",\", \n",
       "\n",
       " \n",
       ">          FractionBox[RowBox[{\"2\", \" \", \n",
       "\n",
       " \n",
       ">             SqrtBox[RowBox[{RowBox[{SubscriptBox[OverscriptBox[\"r\", \"^\"], \"2\"], \" \", \n",
       "\n",
       " \n",
       ">                  SuperscriptBox[\"u\", \"2\"]}], \"+\", \n",
       "\n",
       " \n",
       ">                RowBox[{\"2\", \" \", SqrtBox[SubscriptBox[OverscriptBox[\"r\", \"^\"], \n",
       "\n",
       " \n",
       ">                    \"2\"]]}], \"-\", SuperscriptBox[\"u\", \"2\"]}]]}], \n",
       "\n",
       " \n",
       ">           SubsuperscriptBox[OverscriptBox[\"r\", \"^\"], \"2\", RowBox[{\"3\", \"/\", \"2\"}]]], \n",
       "\n",
       " \n",
       ">          \",\", FractionBox[RowBox[{\"2\", \" \", \n",
       "\n",
       " \n",
       ">             RowBox[{\"(\", RowBox[{RowBox[{\"2\", \" \", \n",
       "\n",
       " \n",
       ">                   SubscriptBox[OverscriptBox[\"r\", \"^\"], \"2\"], \" \", \n",
       "\n",
       " \n",
       ">                   SuperscriptBox[\"u\", \"2\"]}], \"+\", \n",
       "\n",
       " \n",
       ">                 RowBox[{\"5\", \" \", SqrtBox[SubscriptBox[OverscriptBox[\"r\", \"^\"], \n",
       "\n",
       " \n",
       ">                     \"2\"]]}], \"-\", RowBox[{\"3\", \" \", SuperscriptBox[\"u\", \"2\"]}]}],\\\n",
       " \n",
       ">    \")\"}\\\n",
       "]}], SubsuperscriptBox[OverscriptBox[\"r\", \"^\"], \"2\", RowBox[{\"5\", \"/\",\\\n",
       " \n",
       ">    \"2\"}]]], \",\", \n",
       "       FractionBox[RowBox[{\"2\", \" \", \n",
       "\n",
       " \n",
       ">             SqrtBox[RowBox[{RowBox[{SubscriptBox[OverscriptBox[\"r\", \"^\"], \"2\"], \" \", \n",
       "\n",
       " \n",
       ">                  SuperscriptBox[\"u\", \"2\"]}], \"+\", \n",
       "\n",
       " \n",
       ">                RowBox[{\"2\", \" \", SqrtBox[SubscriptBox[OverscriptBox[\"r\", \"^\"], \n",
       "\n",
       " \n",
       ">                    \"2\"]]}], \"-\", SuperscriptBox[\"u\", \"2\"]}]], \" \", \n",
       "\n",
       " \n",
       ">             RowBox[{\"(\", RowBox[{RowBox[{\"6\", \" \", \n",
       "\n",
       " \n",
       ">                   SubscriptBox[OverscriptBox[\"r\", \"^\"], \"2\"], \" \", \n",
       "\n",
       " \n",
       ">                   SuperscriptBox[\"u\", \"2\"]}], \"+\", \n",
       "\n",
       " \n",
       ">                 RowBox[{\"20\", \" \", SqrtBox[SubscriptBox[OverscriptBox[\"r\", \"^\"], \n",
       "\n",
       " \n",
       ">                     \"2\"]]}], \"-\", RowBox[{\"15\", \" \", SuperscriptBox[\"u\", \"2\"]}]}],\\\n",
       " \n",
       ">    \")\"}\\\n",
       "]}], SubsuperscriptBox[OverscriptBox[\"r\", \"^\"], \"2\", RowBox[{\"7\", \"/\",\\\n",
       " \n",
       ">    \"2\"}]]]}], \"}\"}]\\\n",
       ", TraditionalForm]\n"
      ]
     },
     "execution_count": 211,
     "metadata": {
      "text/html": [],
      "text/plain": []
     },
     "output_type": "execute_result"
    }
   ],
   "source": [
    "replacementRule = D[Subscript[OverHat[r], 2][OverHat[t]], OverHat[t]] :> x /. sol[[1]];\n",
    "\n",
    "(* Рекурсивно вычисляем производные *)\n",
    "dr2 = NestList[\n",
    "   Simplify[D[#, OverHat[t]] /. replacementRule] &,\n",
    "   x /. sol[[1]],\n",
    "   4\n",
    "];\n",
    "\n",
    "dr2 // TraditionalForm"
   ]
  },
  {
   "cell_type": "markdown",
   "metadata": {},
   "source": [
    "Заменяя вхождение **всех** производных в выражении для $dE/dr$, получим"
   ]
  },
  {
   "cell_type": "code",
   "execution_count": 213,
   "metadata": {
    "vscode": {
     "languageId": "wolfram"
    }
   },
   "outputs": [
    {
     "data": {
      "text/html": [
       "<div><img alt=\"Output\" src=\"data:image/png;base64,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\"></div>"
      ],
      "text/plain": [
       "FormBox[FractionBox[RowBox[{\"2\", \" \", \n",
       "      RowBox[{\"(\", RowBox[{RowBox[{\"6\", \" \", \n",
       "\n",
       " \n",
       ">               SubsuperscriptBox[OverscriptBox[\"r\", \"^\"], \"2\", \"2\"], \" \", \n",
       "\n",
       " \n",
       ">               SuperscriptBox[\"u\", \"4\"]}], \"+\", \n",
       "\n",
       " \n",
       ">             RowBox[{SubscriptBox[OverscriptBox[\"r\", \"^\"], \"2\"], \" \", \n",
       "\n",
       " \n",
       ">               RowBox[{\"(\", RowBox[{RowBox[{\"51\", \" \", SuperscriptBox[\"u\", \"4\"]}], \n",
       "\n",
       " \n",
       ">                   \"+\", \"40\"}], \")\"}]}], \"+\", \n",
       "\n",
       " \n",
       ">             RowBox[{\"32\", \" \", SubsuperscriptBox[OverscriptBox[\"r\", \"^\"], \"2\", \n",
       "\n",
       " \n",
       ">                RowBox[{\"3\", \"/\", \"2\"}]], \" \", SuperscriptBox[\"u\", \"2\"]}], \"+\", \n",
       "\n",
       " \n",
       ">             RowBox[{\"100\", \" \", SqrtBox[SubscriptBox[OverscriptBox[\"r\", \"^\"], \"2\"]], \n",
       "\n",
       " \n",
       ">               \" \", SuperscriptBox[\"u\", \"2\"]}], \"-\", \n",
       "\n",
       " \n",
       ">             RowBox[{\"75\", \" \", SuperscriptBox[\"u\", \"4\"]}]}], \")\"}]}], \n",
       "\n",
       " \n",
       ">       RowBox[{\"3\", \" \", SubsuperscriptBox[OverscriptBox[\"r\", \"^\"], \"2\", \n",
       "\n",
       " \n",
       ">          RowBox[{\"7\", \"/\", \"2\"}]], \" \", \n",
       "\n",
       " \n",
       ">         SqrtBox[RowBox[{RowBox[{SubscriptBox[OverscriptBox[\"r\", \"^\"], \"2\"], \" \", \n",
       "\n",
       " \n",
       ">              SuperscriptBox[\"u\", \"2\"]}], \"+\", \n",
       "\n",
       " \n",
       ">            RowBox[{\"2\", \" \", SqrtBox[SubscriptBox[OverscriptBox[\"r\", \"^\"], \"2\"]]}],\\\n",
       " \n",
       ">    \"-\", \n",
       "         SuperscriptBox[\"u\", \"2\"]}]]}]], TraditionalForm]\n"
      ]
     },
     "execution_count": 213,
     "metadata": {
      "text/html": [],
      "text/plain": []
     },
     "output_type": "execute_result"
    }
   ],
   "source": [
    "dEdrFinal = Fold[ (* Последовательно применяем замены *)\n",
    "  Simplify[#1 /.\n",
    "    D[Subscript[OverHat[r], 2][OverHat[t]], {OverHat[t], #2}] -> dr2[[#2]]] &,\n",
    "  dEdr,\n",
    "  Range[5]\n",
    "];\n",
    "\n",
    "Simplify[dEdrFinal, {u ∈ Reals, u > 0}] // TraditionalForm"
   ]
  },
  {
   "cell_type": "markdown",
   "metadata": {},
   "source": [
    "$$\n",
    "  \\Delta \\hat{E}(u) = \\epsilon_G \\frac{4}{3}\\int\\limits_{\\hat{r}_2^\\text{min}}^\\infty \\frac{32 \\hat{r}_2^{3/2} u^2+6 \\hat{r}_2^2 u^4+\\hat{r}_2 \\left(51 u^4+40\\right)+100 \\sqrt{\\hat{r}_2} u^2-75 u^4}{\\hat{r}_2^{7/2} \\sqrt{\\hat{r}_2 u^2+2 \\sqrt{\\hat{r}_2}-u^2}} \\, d\\hat{r}_2,\n",
    "$$\n",
    "где при $\\hat{r}_2 \\ge \\hat{r}_2^{\\text{min}}$ выражение $\\hat{r}_2u^2 + 2\\sqrt{\\hat{r}_2} - u^2 \\ge 0$."
   ]
  },
  {
   "cell_type": "markdown",
   "metadata": {},
   "source": [
    "Полученный выше интеграл **компактнее**, чем тот, что рассмотрен в файле binary_catch2.pdf\n",
    "$$\n",
    "  \\Delta \\hat{E}(u) = \\epsilon_G \\frac{4}{3}\\int\\limits_{\\hat{r}_2^\\text{min}}^\\infty \\frac{24\\hat{r}_2^2u^6 + 48u^6\\hat{r}_2 + 120\\hat{r}_2^{3/2}u^4 - 96u^6 + 96u^4\\sqrt{\\hat{r}_2} - u^2\\hat{r}_2^2 + 133u^2\\hat{r}_2 - 2\\hat{r}_2^{3/2}}{\\hat{r}_2^4\\sqrt{u^2\\hat{r}_2 + 2\\sqrt{\\hat{r}_2} - u^2}} \\, d\\hat{r}_2,\n",
    "$$"
   ]
  },
  {
   "cell_type": "markdown",
   "metadata": {},
   "source": [
    "<span style=\"color:red\">**NB:**</span> Однако, будучи аналитически взятым будет полностью <span style=\"color:green\">**совпадать!**</span>\n",
    "\n",
    "Смотри подробности в файле binary_catch_integral.ipynb\n",
    " \n",
    "Там компактный интеграл назван $I_5$, а второй $I_4$.\n",
    "\n",
    "Выпишем ответ:"
   ]
  },
  {
   "cell_type": "code",
   "execution_count": 215,
   "metadata": {
    "vscode": {
     "languageId": "wolfram"
    }
   },
   "outputs": [
    {
     "data": {
      "text/html": [
       "<div><img alt=\"Output\" src=\"data:image/png;base64,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\"></div>"
      ],
      "text/plain": [
       "FormBox[RowBox[{\"-\", FractionBox[RowBox[{SubscriptBox[\"ϵ\", \"G\"], \" \", \n",
       "\n",
       " \n",
       ">           RowBox[{\"(\", RowBox[{RowBox[{RowBox[{\"(\", \n",
       "\n",
       " \n",
       ">                   RowBox[{RowBox[{\"673\", \" \", SuperscriptBox[\"u\", \"4\"]}], \"+\", \n",
       "\n",
       " \n",
       ">                     \"1275\"}], \")\"}], \" \", SuperscriptBox[\"u\", \"2\"]}], \"+\", \n",
       "\n",
       " \n",
       ">               RowBox[{\"3\", \" \", RowBox[{\"(\", \n",
       "\n",
       " \n",
       ">                   RowBox[{RowBox[{\"37\", \" \", SuperscriptBox[\"u\", \"8\"]}], \"+\", \n",
       "\n",
       " \n",
       ">                     RowBox[{\"366\", \" \", SuperscriptBox[\"u\", \"4\"]}], \"+\", \"425\"}],\\\n",
       " \n",
       ">    \")\"}\\\n",
       "], \" \", RowBox[{\"(\", RowBox[{RowBox[{SuperscriptBox[\"tan\", RowBox[{\"-\",\\\n",
       " \n",
       ">    \"1\"}]], \n",
       "                    \"(\", FractionBox[\"1\", SuperscriptBox[\"u\", \"2\"]],\\\n",
       " \n",
       ">    \")\"}], \"+\", \n",
       "                  FractionBox[\"π\", \"2\"]}], \")\"}]}]}], \")\"}]}], \n",
       "\n",
       " \n",
       ">         RowBox[{\"9\", \" \", SuperscriptBox[\"u\", \"7\"]}]]}], TraditionalForm]\n"
      ]
     },
     "execution_count": 215,
     "metadata": {
      "text/html": [],
      "text/plain": []
     },
     "output_type": "execute_result"
    }
   ],
   "source": [
    "deltaE = -Subscript[\\[Epsilon], G]/9*(u^2*(1275 + 673*u^4) + 3*(425 + 366*u^4 + 37*u^8)*(Pi/2 + ArcTan[u^(-2)]))/u^7;\n",
    "deltaE // TraditionalForm"
   ]
  },
  {
   "cell_type": "code",
   "execution_count": 258,
   "metadata": {
    "vscode": {
     "languageId": "wolfram"
    }
   },
   "outputs": [
    {
     "data": {
      "text/html": [
       "<div>&#36;&#36;&#45;&#92;&#102;&#114;&#97;&#99;&#123;&#92;&#101;&#112;&#115;&#105;&#108;&#111;&#110;&#32;&#95;&#71;&#32;&#92;&#108;&#101;&#102;&#116;&#40;&#92;&#108;&#101;&#102;&#116;&#40;&#54;&#55;&#51;&#32;&#117;&#94;&#52;&#43;&#49;&#50;&#55;&#53;&#92;&#114;&#105;&#103;&#104;&#116;&#41;&#32;&#117;&#94;&#50;&#43;&#51;&#32;&#92;&#108;&#101;&#102;&#116;&#40;&#51;&#55;&#32;&#117;&#94;&#56;&#43;&#51;&#54;&#54;&#32;&#117;&#94;&#52;&#43;&#52;&#50;&#53;&#92;&#114;&#105;&#103;&#104;&#116;&#41;&#32;&#92;&#108;&#101;&#102;&#116;&#40;&#92;&#116;&#97;&#110;&#32;&#94;&#123;&#45;&#49;&#125;&#92;&#108;&#101;&#102;&#116;&#40;&#92;&#102;&#114;&#97;&#99;&#123;&#49;&#125;&#123;&#117;&#94;&#50;&#125;&#92;&#114;&#105;&#103;&#104;&#116;&#41;&#43;&#92;&#102;&#114;&#97;&#99;&#123;&#92;&#112;&#105;&#32;&#125;&#123;&#50;&#125;&#92;&#114;&#105;&#103;&#104;&#116;&#41;&#92;&#114;&#105;&#103;&#104;&#116;&#41;&#125;&#123;&#57;&#32;&#117;&#94;&#55;&#125;&#36;&#36;</div>"
      ],
      "text/plain": [
       "-\\frac{\\epsilon _G \\left(\\left(673 u^4+1275\\right) u^2+3 \\left(37 u^8+366 u^4+425\\right)\\\n",
       " \n",
       ">   \\left(\\tan ^{-1}\\left(\\frac{1}{u^2}\\right)+\\frac{\\pi }{2}\\right)\\right)}{9 u^7}"
      ]
     },
     "execution_count": 258,
     "metadata": {
      "text/html": [],
      "text/plain": []
     },
     "output_type": "execute_result"
    }
   ],
   "source": [
    "TeXForm[deltaE]"
   ]
  },
  {
   "cell_type": "markdown",
   "metadata": {},
   "source": [
    "## Условия захвата\n",
    "\n",
    "На бесконечнос энергия объекта была $u^2/2$\n",
    "\n",
    "Если $2|\\Delta \\hat{E}| > u^2$, то гиперболическая орбита (или параболическая, если $u = 0$) превратится в эллиптическую за один полный оборот,\n",
    "\n",
    "далее тело уже не сможет \"уходить\" на бесконечность.\n",
    "\n",
    "Из-за ограничения локализации точнее условие захвата поставить **нельзя**"
   ]
  },
  {
   "cell_type": "code",
   "execution_count": 218,
   "metadata": {
    "vscode": {
     "languageId": "wolfram"
    }
   },
   "outputs": [
    {
     "data": {
      "text/html": [
       "<div><img alt=\"Output\" src=\"data:image/png;base64,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\"></div>"
      ],
      "text/plain": [
       "FormBox[RowBox[{SuperscriptBox[\"u\", \"9\"], \"<\", \n",
       "\n",
       " \n",
       ">        RowBox[{FractionBox[\"2\", \"9\"], \" \", SubscriptBox[\"ϵ\", \"G\"], \" \", \n",
       "\n",
       " \n",
       ">          RowBox[{\"(\", RowBox[{RowBox[{RowBox[{\"(\", \n",
       "\n",
       " \n",
       ">                  RowBox[{RowBox[{\"673\", \" \", SuperscriptBox[\"u\", \"4\"]}], \"+\", \n",
       "\n",
       " \n",
       ">                    \"1275\"}], \")\"}], \" \", SuperscriptBox[\"u\", \"2\"]}], \"+\", \n",
       "\n",
       " \n",
       ">              RowBox[{FractionBox[\"3\", \"2\"], \" \", \n",
       "\n",
       " \n",
       ">                RowBox[{\"(\", RowBox[{RowBox[{\"37\", \" \", SuperscriptBox[\"u\", \"8\"]}], \n",
       "\n",
       " \n",
       ">                    \"+\", RowBox[{\"366\", \" \", SuperscriptBox[\"u\", \"4\"]}], \"+\", \"425\"}], \n",
       "\n",
       " \n",
       ">                  \")\"}], \" \", RowBox[{\"(\", \n",
       "               RowBox[{RowBox[{\"2\", \" \", \n",
       "\n",
       " \n",
       ">                      RowBox[{SuperscriptBox[\"tan\", RowBox[{\"-\", \"1\"}]], \"(\", \n",
       "\n",
       " \n",
       ">                        FractionBox[\"1\", SuperscriptBox[\"u\", \"2\"]], \")\"}]}], \"+\",\\\n",
       " \n",
       ">    \"π\"}], \n",
       "               \")\"}]}]}], \")\"}]}]}], TraditionalForm]\n"
      ]
     },
     "execution_count": 218,
     "metadata": {
      "text/html": [],
      "text/plain": []
     },
     "output_type": "execute_result"
    }
   ],
   "source": [
    "deltaE2 = Simplify[deltaE + u^2/2];\n",
    "uMax2 = Simplify[2 u^7 deltaE2];\n",
    "Simplify[uMax2 < 0] // TraditionalForm"
   ]
  },
  {
   "cell_type": "markdown",
   "metadata": {},
   "source": [
    "<span style=\"color:red\">**NB:**</span> Условие захвата, <span style=\"color:green\">**совпадает**</span> с условием из файла binary_catch.pdf"
   ]
  },
  {
   "cell_type": "markdown",
   "metadata": {},
   "source": [
    "<span style=\"color:red\">**TODO_5:**</span> Сравнить условия захвата на параболической траектории $u = 0$ с другими авторами"
   ]
  },
  {
   "cell_type": "code",
   "execution_count": 219,
   "metadata": {
    "vscode": {
     "languageId": "wolfram"
    }
   },
   "outputs": [
    {
     "data": {
      "text/html": [
       "<div><img alt=\"Output\" src=\"data:image/png;base64,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\"></div>"
      ],
      "text/plain": [
       "FormBox[InterpretationBox[RowBox[{FractionBox[RowBox[{\"850\", \" \", \"π\", \" \", \n",
       "\n",
       " \n",
       ">            SubscriptBox[\"ϵ\", \"G\"]}], \"3\"], \"+\", \n",
       "\n",
       " \n",
       ">         InterpretationBox[RowBox[{\"O\", \"(\", SuperscriptBox[\"u\", \"1\"], \")\"}], \n",
       "\n",
       " \n",
       ">          SeriesData[u, 0, List[], 0, 1, 1], Rule[Editable, False]]}], \n",
       "\n",
       " \n",
       ">       SeriesData[u, 0, List[Times[Rational[850, 3], Pi, Subscript[\\[Epsilon], G]]], 0,\\\n",
       " \n",
       ">    \n",
       "     1, 1], Rule[Editable, False]], TraditionalForm]\n"
      ]
     },
     "execution_count": 219,
     "metadata": {
      "text/html": [],
      "text/plain": []
     },
     "output_type": "execute_result"
    }
   ],
   "source": [
    "Simplify[Series[(u^9 - uMax2), {u, 0, 0}], {u ∈ Reals, u > 0}] // TraditionalForm"
   ]
  },
  {
   "cell_type": "markdown",
   "metadata": {},
   "source": [
    "# Потеря момента за один период обращения\n",
    "\n",
    "$$\n",
    "\\Delta \\hat{J} = 2 \\epsilon_G \\int\\limits_{\\hat{t}_{\\text{min}}}^{\\infty}I_J(\\hat{t}) d \\hat{t}\n",
    "= - 2 \\epsilon_G \\int\\limits_{\\hat{r}_2^{\\text{min}}}^{\\infty}\\frac{I_J(\\hat{r}_2)}{\\hat{r}_2^{(1)}}d \\hat{r}_2,\n",
    "$$\n",
    "\n",
    "где мы заменим $\\hat{\\omega}$ на $\\frac{u}{\\hat{r}_2}$"
   ]
  },
  {
   "cell_type": "code",
   "execution_count": null,
   "metadata": {
    "vscode": {
     "languageId": "wolfram"
    }
   },
   "outputs": [
    {
     "data": {
      "text/html": [
       "<div><img alt=\"Output\" src=\"data:image/png;base64,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\"></div>"
      ],
      "text/plain": [
       "FormBox[RowBox[{FractionBox[RowBox[{\"16\", \" \", SuperscriptBox[\"u\", \"5\"]}], \n",
       "\n",
       " \n",
       ">         RowBox[{SubsuperscriptBox[OverscriptBox[\"r\", \"^\"], \"2\", \"3\"], \" \", \n",
       "\n",
       " \n",
       ">           SuperscriptBox[SubscriptBox[OverscriptBox[\"r\", \"^\"], \"2\"], \"′\"]}]], \"-\", \n",
       "\n",
       " \n",
       ">        FractionBox[RowBox[{\"20\", \" \", SuperscriptBox[\"u\", \"3\"], \" \", \n",
       "\n",
       " \n",
       ">           SuperscriptBox[SubscriptBox[OverscriptBox[\"r\", \"^\"], \"2\"], \"′\"]}], \n",
       "\n",
       " \n",
       ">         SubsuperscriptBox[OverscriptBox[\"r\", \"^\"], \"2\", \"3\"]], \"-\", \n",
       "\n",
       " \n",
       ">        FractionBox[RowBox[{\"4\", \" \", \"u\", \" \", \n",
       "        SuperscriptBox[RowBox[{\"(\", \n",
       "\n",
       " \n",
       ">              SuperscriptBox[SubscriptBox[OverscriptBox[\"r\", \"^\"], \"2\"], \"′′\"], \")\"}], \n",
       "\n",
       " \n",
       ">            \"2\"]}], RowBox[{SubscriptBox[OverscriptBox[\"r\", \"^\"], \"2\"], \" \", \n",
       "\n",
       " \n",
       ">           SuperscriptBox[SubscriptBox[OverscriptBox[\"r\", \"^\"], \"2\"], \"′\"]}]], \"+\", \n",
       "\n",
       " \n",
       ">        FractionBox[RowBox[{\"14\", \" \", \"u\", \" \", \n",
       "\n",
       " \n",
       ">           SuperscriptBox[SubscriptBox[OverscriptBox[\"r\", \"^\"], \"2\"], \"′\"], \" \", \n",
       "\n",
       " \n",
       ">           SuperscriptBox[SubscriptBox[OverscriptBox[\"r\", \"^\"], \"2\"], \"′′\"]}], \n",
       "\n",
       " \n",
       ">         SubsuperscriptBox[OverscriptBox[\"r\", \"^\"], \"2\", \"2\"]], \"+\", \n",
       "\n",
       " \n",
       ">        FractionBox[RowBox[{\"4\", \" \", \"u\", \" \", \n",
       "\n",
       " \n",
       ">           SuperscriptBox[SubscriptBox[OverscriptBox[\"r\", \"^\"], \"2\"], \"′′′′\"]}], \n",
       "\n",
       " \n",
       ">         SuperscriptBox[SubscriptBox[OverscriptBox[\"r\", \"^\"], \"2\"], \"′\"]], \"-\", \n",
       "\n",
       " \n",
       ">        FractionBox[RowBox[{\"6\", \" \", \"u\", \" \", \n",
       "        SuperscriptBox[RowBox[{\"(\", \n",
       "\n",
       " \n",
       ">              SuperscriptBox[SubscriptBox[OverscriptBox[\"r\", \"^\"], \"2\"], \"′\"], \")\"}], \n",
       "\n",
       " \n",
       ">            \"3\"]}], SubsuperscriptBox[OverscriptBox[\"r\", \"^\"], \"2\", \"3\"]], \"-\", \n",
       "\n",
       " \n",
       ">        FractionBox[RowBox[{\"7\", \" \", \"u\", \" \", \n",
       "\n",
       " \n",
       ">           SuperscriptBox[SubscriptBox[OverscriptBox[\"r\", \"^\"], \"2\"], \"′′′\"]}], \n",
       "\n",
       " \n",
       ">         SubscriptBox[OverscriptBox[\"r\", \"^\"], \"2\"]]}], TraditionalForm]\n"
      ]
     },
     "execution_count": 228,
     "metadata": {
      "text/html": [],
      "text/plain": []
     },
     "output_type": "execute_result"
    }
   ],
   "source": [
    "(* Минус учтём сразу *)\n",
    "dJdr = Simplify[-dJdt/D[Subscript[OverHat[r], 2][OverHat[t]], OverHat[t]] //. OmegaReplace2];\n",
    "Expand[Simplify[dJdr]] // TraditionalForm"
   ]
  },
  {
   "cell_type": "markdown",
   "metadata": {},
   "source": [
    "<span style=\"color:red\">**NB:**</span> Выражение для $dJ/dr$ <span style=\"color:green\">**сопадает**</span> с выраженем для интегранта из binary_catch3.pdf, если учесть деление на $\\hat{r}_2^{(1)}$"
   ]
  },
  {
   "cell_type": "markdown",
   "metadata": {
    "vscode": {
     "languageId": "wolfram"
    }
   },
   "source": [
    "Заменяя вхождение **всех** производных в выражении для $dJ/dr$, получим"
   ]
  },
  {
   "cell_type": "code",
   "execution_count": 230,
   "metadata": {
    "vscode": {
     "languageId": "wolfram"
    }
   },
   "outputs": [
    {
     "data": {
      "text/html": [
       "<div><img alt=\"Output\" src=\"data:image/png;base64,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\"></div>"
      ],
      "text/plain": [
       "FormBox[FractionBox[RowBox[{\"2\", \" \", \"u\", \" \", \n",
       "\n",
       " \n",
       ">         RowBox[{\"(\", RowBox[{RowBox[{\"9\", \" \", \n",
       "\n",
       " \n",
       ">               SubscriptBox[OverscriptBox[\"r\", \"^\"], \"2\"], \" \", \n",
       "\n",
       " \n",
       ">               SuperscriptBox[\"u\", \"2\"]}], \"+\", \n",
       "\n",
       " \n",
       ">             RowBox[{\"20\", \" \", SqrtBox[SubscriptBox[OverscriptBox[\"r\", \"^\"], \"2\"]]}], \n",
       "\n",
       " \n",
       ">             \"-\", RowBox[{\"15\", \" \", SuperscriptBox[\"u\", \"2\"]}]}], \")\"}]}], \n",
       "\n",
       " \n",
       ">       RowBox[{SubsuperscriptBox[OverscriptBox[\"r\", \"^\"], \"2\", RowBox[{\"5\", \"/\",\\\n",
       " \n",
       ">    \"2\"}]], \n",
       "      \" \", SqrtBox[RowBox[{RowBox[{SubscriptBox[OverscriptBox[\"r\", \"^\"],\\\n",
       " \n",
       ">    \"2\"], \" \", \n",
       "           SuperscriptBox[\"u\", \"2\"]}], \"+\", \n",
       "\n",
       " \n",
       ">            RowBox[{\"2\", \" \", SqrtBox[SubscriptBox[OverscriptBox[\"r\", \"^\"], \"2\"]]}],\\\n",
       " \n",
       ">    \"-\", \n",
       "         SuperscriptBox[\"u\", \"2\"]}]]}]], TraditionalForm]\n"
      ]
     },
     "execution_count": 230,
     "metadata": {
      "text/html": [],
      "text/plain": []
     },
     "output_type": "execute_result"
    }
   ],
   "source": [
    "dJdrFinal = Fold[ (* Последовательно применяем замены *)\n",
    "  Simplify[#1 /.\n",
    "    D[Subscript[OverHat[r], 2][OverHat[t]], {OverHat[t], #2}] -> dr2[[#2]]] &,\n",
    "  dJdr,\n",
    "  Range[5]\n",
    "];\n",
    "\n",
    "Simplify[dJdrFinal, {u ∈ Reals, u > 0}] // TraditionalForm"
   ]
  },
  {
   "cell_type": "markdown",
   "metadata": {},
   "source": [
    "$$\n",
    "  \\Delta \\hat{J}(u) = 4 \\epsilon_G \\int\\limits_{\\hat{r}_2^\\text{min}}^\\infty \\frac{u \\left(20\\sqrt{\\hat{r}_2} - 15u^2 + 9\\hat{r}_2 u^2\\right)}{\\hat{r}_2^{\\frac{5}{2}} \\sqrt{2\\sqrt{\\hat{r}_2} - u^2 + \\hat{r}_2 u^2}} \\, d\\hat{r}_2,\n",
    "$$\n",
    "где при $\\hat{r}_2 \\ge \\hat{r}_2^{\\text{min}}$ выражение $\\hat{r}_2u^2 + 2\\sqrt{\\hat{r}_2} - u^2 \\ge 0$.\n",
    "\n",
    "Полученный выше интеграл **компактнее**, чем тот, что рассмотрен в файле binary_catch3.pdf\n",
    "\n",
    "Смотри подробности в файле binary_catch_integral.ipynb\n",
    " \n",
    "Выпишем ответ:"
   ]
  },
  {
   "cell_type": "code",
   "execution_count": null,
   "metadata": {
    "vscode": {
     "languageId": "wolfram"
    }
   },
   "outputs": [
    {
     "data": {
      "text/html": [
       "<div><img alt=\"Output\" src=\"data:image/png;base64,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\"></div>"
      ],
      "text/plain": [
       "FormBox[RowBox[{\"4\", \" \", SubscriptBox[\"ϵ\", \"G\"], \" \", \n",
       "\n",
       " \n",
       ">        RowBox[{\"(\", RowBox[{RowBox[{\"-\", \n",
       "\n",
       " \n",
       ">              RowBox[{RowBox[{\"2\"}], \" \", SuperscriptBox[\"u\", \"2\"]}]}], \"-\", \n",
       "\n",
       " \n",
       ">            FractionBox[\"15\", SuperscriptBox[\"u\", \"2\"]], \"-\", \n",
       "\n",
       " \n",
       ">            FractionBox[RowBox[{RowBox[{\"(\", \n",
       "\n",
       " \n",
       ">                 RowBox[{RowBox[{\"7\", \" \", SuperscriptBox[\"u\", \"4\"]}], \"+\", \"15\"}], \n",
       "\n",
       " \n",
       ">                 \")\"}], \" \", RowBox[{\"(\", \n",
       "              RowBox[{RowBox[{\"2\", \" \", \n",
       "\n",
       " \n",
       ">                     RowBox[{SuperscriptBox[\"tan\", RowBox[{\"-\", \"1\"}]], \"(\", \n",
       "\n",
       " \n",
       ">                       FractionBox[\"1\", SuperscriptBox[\"u\", \"2\"]], \")\"}]}], \"+\", \"π\"}],\\\n",
       " \n",
       ">    \n",
       "              \")\"}]}], RowBox[{\"2\", \" \", SuperscriptBox[\"u\", \"4\"]}]]}], \")\"}]}], \n",
       "\n",
       " \n",
       ">      TraditionalForm]\n"
      ]
     },
     "execution_count": 237,
     "metadata": {
      "text/html": [],
      "text/plain": []
     },
     "output_type": "execute_result"
    }
   ],
   "source": [
    "deltaJ = 4*Subscript[\\[Epsilon], G]*(-15/u^2 - 2*u^2 - ((15 + 7*u^4)*(Pi + 2*ArcTan[u^(-2)]))/(2*u^4));\n",
    "deltaJ // TraditionalForm"
   ]
  },
  {
   "cell_type": "code",
   "execution_count": 259,
   "metadata": {
    "vscode": {
     "languageId": "wolfram"
    }
   },
   "outputs": [
    {
     "data": {
      "text/html": [
       "<div>&#36;&#36;&#52;&#32;&#92;&#101;&#112;&#115;&#105;&#108;&#111;&#110;&#32;&#95;&#71;&#32;&#92;&#108;&#101;&#102;&#116;&#40;&#45;&#50;&#32;&#117;&#94;&#50;&#45;&#92;&#102;&#114;&#97;&#99;&#123;&#49;&#53;&#125;&#123;&#117;&#94;&#50;&#125;&#45;&#92;&#102;&#114;&#97;&#99;&#123;&#92;&#108;&#101;&#102;&#116;&#40;&#55;&#32;&#117;&#94;&#52;&#43;&#49;&#53;&#92;&#114;&#105;&#103;&#104;&#116;&#41;&#32;&#92;&#108;&#101;&#102;&#116;&#40;&#50;&#32;&#92;&#116;&#97;&#110;&#32;&#94;&#123;&#45;&#49;&#125;&#92;&#108;&#101;&#102;&#116;&#40;&#92;&#102;&#114;&#97;&#99;&#123;&#49;&#125;&#123;&#117;&#94;&#50;&#125;&#92;&#114;&#105;&#103;&#104;&#116;&#41;&#43;&#92;&#112;&#105;&#32;&#92;&#114;&#105;&#103;&#104;&#116;&#41;&#125;&#123;&#50;&#32;&#117;&#94;&#52;&#125;&#92;&#114;&#105;&#103;&#104;&#116;&#41;&#36;&#36;</div>"
      ],
      "text/plain": [
       "4 \\epsilon _G \\left(-2 u^2-\\frac{15}{u^2}-\\frac{\\left(7 u^4+15\\right) \\left(2 \\tan\\\n",
       " \n",
       ">   ^{-1}\\left(\\frac{1}{u^2}\\right)+\\pi \\right)}{2 u^4}\\right)"
      ]
     },
     "execution_count": 259,
     "metadata": {
      "text/html": [],
      "text/plain": []
     },
     "output_type": "execute_result"
    }
   ],
   "source": [
    "TeXForm[deltaJ]"
   ]
  }
 ],
 "metadata": {
  "kernelspec": {
   "display_name": "Wolfram Language 14.2",
   "language": "Wolfram Language",
   "name": "wolframlanguage14.2"
  },
  "language_info": {
   "codemirror_mode": "mathematica",
   "file_extension": ".m",
   "mimetype": "application/vnd.wolfram.m",
   "name": "Wolfram Language",
   "pygments_lexer": "mathematica",
   "version": "12.0"
  }
 },
 "nbformat": 4,
 "nbformat_minor": 2
}
