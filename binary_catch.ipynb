{
 "cells": [
  {
   "cell_type": "markdown",
   "metadata": {},
   "source": [
    "# Binary catch\n",
    "\n",
    "**При каких условиях два тела, налетающие друг на друга с бесконечности (в системе центра масс) станут связной системой из-за испускания гравволн?**"
   ]
  },
  {
   "cell_type": "code",
   "execution_count": 1854,
   "metadata": {
    "vscode": {
     "languageId": "wolfram"
    }
   },
   "outputs": [
    {
     "name": "stdout",
     "output_type": "stream",
     "text": [
      "  (CleanSlate) Contexts purged: {Global`}\n",
      "  (CleanSlate) Approximate kernel memory recovered: 189 Kb\n"
     ]
    }
   ],
   "source": [
    "(* https://mathematica.stackexchange.com/questions/850/how-do-i-clear-all-user-defined-symbols/861#861 *)\n",
    "<< Utilities`CleanSlate`\n",
    "CleanSlate[];\n",
    "\n",
    "ClearAll[\"Global`*\"]\n",
    "(* ClearSystemCache[] *)\n",
    "(* https://mathematica.stackexchange.com/questions/111605/quit-vs-clearallglobal *)\n",
    "if[Length[Names[\"Global`*\"]] > 0, Remove[\"Global`*\"]];\n",
    "\n",
    "(* PacletInstall[\n",
    "    \"TensorSimplify\",\n",
    "\n",
    "    \"Site\" -> \"http://raw.githubusercontent.com/carlwoll/TensorSimplify/master\"\n",
    "]; *)\n",
    "<<TensorSimplify`"
   ]
  },
  {
   "cell_type": "markdown",
   "metadata": {},
   "source": [
    "## Einstein Summation"
   ]
  },
  {
   "cell_type": "code",
   "execution_count": 1863,
   "metadata": {
    "vscode": {
     "languageId": "wolfram"
    }
   },
   "outputs": [],
   "source": [
    "ClearAll@EinsteinSummation\n",
    "\n",
    "EinsteinSummation[in_List, arrays_] := Module[\n",
    "  {res =\n",
    "    isum[in -> Cases[Tally @ Flatten @ in, {_, 1}][[All, 1]], arrays]},\n",
    "  res /; res =!= $Failed\n",
    "  ]\n",
    "\n",
    "EinsteinSummation[in_List -> out_, arrays_] := Module[\n",
    "  {res = isum[in -> out, arrays]},\n",
    "  res /; res =!= $Failed\n",
    "  ]\n",
    "\n",
    "isum[in_List -> out_, arrays_List] := Catch@Module[\n",
    "  {indices, contracted, uncontracted, contractions, transpose},\n",
    "  If[Length[in] != Length[arrays],\n",
    "    Message[EinsteinSummation::length, Length[in], Length[arrays]];\n",
    "    Throw[$Failed]];\n",
    "  MapThread[\n",
    "    If[IntegerQ@TensorRank[#1] && Length[#1] != TensorRank[#2],\n",
    "      Message[EinsteinSummation::shape, #1, #2];\n",
    "      Throw[$Failed]] &, {in, arrays}];\n",
    "  indices = Tally[Flatten[in, 1]];\n",
    "  If[DeleteCases[indices, {_, 1 | 2}] =!= {},\n",
    "    Message[EinsteinSummation::repeat,\n",
    "      Cases[indices, {x_, Except[1 | 2]} :> x]];\n",
    "    Throw[$Failed]];\n",
    "  uncontracted = Cases[indices, {x_, 1} :> x];\n",
    "  If[Sort[uncontracted] =!= Sort[out],\n",
    "    Message[EinsteinSummation::output, uncontracted, out];\n",
    "    Throw[$Failed]];\n",
    "  contracted = Cases[indices, {x_, 2} :> x];\n",
    "  contractions = Flatten[Position[Flatten[in, 1], #]] & /@ contracted;\n",
    "  transpose = FindPermutation[uncontracted, out];\n",
    "  Activate@\n",
    "    TensorTranspose[\n",
    "      TensorContract[Inactive[TensorProduct] @@ arrays, contractions],\n",
    "    transpose]]\n",
    "\n",
    "EinsteinSummation::length =\n",
    "  \"Number of index specifications (`1`) does not match the number of \\\n",
    "tensors (`2`)\";\n",
    "EinsteinSummation::shape =\n",
    "  \"Index specification `1` does not match the tensor rank of `2`\";\n",
    "EinsteinSummation::repeat =\n",
    "  \"Index specifications `1` are repeated more than twice\";\n",
    "EinsteinSummation::output =\n",
    "  \"The uncontracted indices don't match the desired output\";"
   ]
  },
  {
   "cell_type": "code",
   "execution_count": 1871,
   "metadata": {
    "vscode": {
     "languageId": "wolfram"
    }
   },
   "outputs": [],
   "source": [
    "(* Правила для скрытия аргументов в TraditionalForm *)\n",
    "\n",
    "Unprotect[Subscript, OverHat, Derivative];\n",
    "\n",
    "MakeBoxes[OverHat[r_][OverHat[t]], TraditionalForm] :=\n",
    "  MakeBoxes[OverHat[r], TraditionalForm]\n",
    "\n",
    "MakeBoxes[\\[Phi][OverHat[t]], TraditionalForm] :=\n",
    "  MakeBoxes[\\[Phi], TraditionalForm]\n",
    "\n",
    "MakeBoxes[Subscript[OverHat[r], n_][OverHat[t]], TraditionalForm] :=\n",
    "  SubscriptBox[OverscriptBox[\"r\", \"^\"], ToString[n]];\n",
    "\n",
    "MakeBoxes[OverHat[\\[Omega]][OverHat[t]], TraditionalForm] :=\n",
    "  OverscriptBox[\"\\[Omega]\", \"^\"];\n",
    "\n",
    "MakeBoxes[Derivative[n_][f_][OverHat[t]], TraditionalForm] := Module[{primes},\n",
    "  primes = StringJoin[Table[\"\\[Prime]\", n]];\n",
    "  SuperscriptBox[ToBoxes[f], primes]\n",
    "];\n",
    "\n",
    "Protect[Subscript, OverHat, Derivative];"
   ]
  },
  {
   "cell_type": "markdown",
   "metadata": {},
   "source": [
    "$\\hat{r}_k$"
   ]
  },
  {
   "cell_type": "code",
   "execution_count": 1880,
   "metadata": {
    "vscode": {
     "languageId": "wolfram"
    }
   },
   "outputs": [
    {
     "data": {
      "text/html": [
       "<div><img alt=\"Output\" src=\"data:image/png;base64,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\"></div>"
      ],
      "text/plain": [
       "FormBox[TagBox[RowBox[{\"(\", \"⁠\", \n",
       "\n",
       " \n",
       ">         TagBox[GridBox[{{RowBox[{OverscriptBox[\"r\", \"^\"], \" \", \n",
       "\n",
       " \n",
       ">               RowBox[{\"cos\", \"(\", \"ϕ\", \")\"}]}]}, \n",
       "\n",
       " \n",
       ">            {RowBox[{OverscriptBox[\"r\", \"^\"], \" \", RowBox[{\"sin\", \"(\", \"ϕ\", \")\"}]}]}}, \n",
       "\n",
       " \n",
       ">           Rule[RowSpacings, 1], Rule[ColumnAlignments, Center], \n",
       "\n",
       " \n",
       ">           Rule[ColumnAlignments, Left]], Column], \"⁠\", \")\"}], \n",
       "\n",
       " \n",
       ">       Function[BoxForm`e$, MatrixForm[BoxForm`e$]]], TraditionalForm]\n"
      ]
     },
     "execution_count": 1880,
     "metadata": {
      "text/html": [],
      "text/plain": []
     },
     "output_type": "execute_result"
    }
   ],
   "source": [
    "rh = {OverHat[r][OverHat[t]]*Cos[\\[Phi][OverHat[t]]], OverHat[r][OverHat[t]]*Sin[\\[Phi][OverHat[t]]]};\n",
    "rh // MatrixForm // TraditionalForm"
   ]
  },
  {
   "cell_type": "code",
   "execution_count": 1881,
   "metadata": {
    "vscode": {
     "languageId": "wolfram"
    }
   },
   "outputs": [],
   "source": [
    "$Assumptions = {\n",
    "  {OverHat[r][OverHat[t]], Subscript[OverHat[r],2][OverHat[t]], OverHat[t], u} \\[Element] PositiveReals\n",
    "};\n",
    "$Assumptions = Join[$Assumptions, {rh \\[Element] NonNegativeReals}];"
   ]
  },
  {
   "cell_type": "markdown",
   "metadata": {},
   "source": [
    "## Система движения в декартовых координатах\n",
    "$$\n",
    "\\frac{d^2r_k}{dt^2} = -\\frac{G(m_A+m_B)}{r^3}r_k - \\frac{2}{5}f_{ki}^{(5)}r_i\n",
    "$$\n",
    "\n",
    "Ч.Мизнер, К.Торн, Дж.Уилер Гравтация, Т.3, §36.8, стр. 222\n",
    "\n",
    "Введём обозначения для полной и приведённой масс\n",
    "$$\n",
    "M=m_A+m_B; \\quad\n",
    "\\mu = m_{AB} = \\frac{m_A m_B}{M}\n",
    "$$\n",
    "Задача двух самогравитирующих тел с массами $m_A$ и $m_B$\n",
    "в системе отсчёта центра масс всегда сводится\n",
    "к задаче движения тела массы $\\mu$\n",
    "в центральном поле массы $M$.\n",
    "\n",
    "$f_{ki}$ - квадрупольный момент системы.\n",
    "Задача решается методом последовательных приближений\n",
    "Первоначально строится решение в приближении Ньютона,\n",
    "затем для полученной конфигурации находится квадрупольный момент\n",
    "и находится его пятая производная по времени.\n",
    "Уже на следубщем шаге (уравнение выше)\n",
    "находятся решение с **заданной** функций от времени (**и только времени**) $f_{ki}^{(5)}$."
   ]
  },
  {
   "cell_type": "markdown",
   "metadata": {},
   "source": [
    "### Безразмерные единицы\n",
    "$$\n",
    "\\begin{align}\n",
    "r &= b\\hat{r} \\\\\n",
    "t &= t_0\\hat{t} \\\\\n",
    "f_{ij} &= b^2\\frac{G}{c^5}\\mu\\hat{f}_{ij} \\\\\n",
    "f_{ij}^{(5)} &= \\frac{b^2}{t_0^5}\\frac{G}{c^5}\\mu\\hat{f}_{ij}^{(5)}\n",
    "\\end{align}\n",
    "$$"
   ]
  },
  {
   "cell_type": "markdown",
   "metadata": {},
   "source": [
    "$\\hat{f}_{ki}$"
   ]
  },
  {
   "cell_type": "code",
   "execution_count": 1884,
   "metadata": {
    "vscode": {
     "languageId": "wolfram"
    }
   },
   "outputs": [
    {
     "data": {
      "text/html": [
       "<div><img alt=\"Output\" src=\"data:image/png;base64,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\"></div>"
      ],
      "text/plain": [
       "FormBox[TagBox[RowBox[{\"(\", \"⁠\", \n",
       "\n",
       " \n",
       ">         GridBox[{{RowBox[{FractionBox[\"1\", \"6\"], \" \", \n",
       "\n",
       " \n",
       ">              SuperscriptBox[OverscriptBox[\"r\", \"^\"], \"2\"], \" \", \n",
       "\n",
       " \n",
       ">              RowBox[{\"(\", RowBox[{RowBox[{\"3\", \" \", \n",
       "\n",
       " \n",
       ">                    RowBox[{\"cos\", \"(\", RowBox[{\"2\", \" \", \"ϕ\"}], \")\"}]}], \"+\",\\\n",
       " \n",
       ">    \"1\"}]\\\n",
       ", \")\"}]}], RowBox[{SuperscriptBox[OverscriptBox[\"r\", \"^\"], \"2\"], \" \", \n",
       "\n",
       " \n",
       ">              RowBox[{\"sin\", \"(\", \"ϕ\", \")\"}], \" \", RowBox[{\"cos\", \"(\", \"ϕ\", \")\"}]}]}, \n",
       "\n",
       " \n",
       ">           {RowBox[{SuperscriptBox[OverscriptBox[\"r\", \"^\"], \"2\"], \" \", \n",
       "\n",
       " \n",
       ">              RowBox[{\"sin\", \"(\", \"ϕ\", \")\"}], \" \", RowBox[{\"cos\", \"(\", \"ϕ\", \")\"}]}], \n",
       "\n",
       " \n",
       ">            RowBox[{FractionBox[\"1\", \"3\"], \" \", \n",
       "\n",
       " \n",
       ">              SuperscriptBox[OverscriptBox[\"r\", \"^\"], \"2\"], \" \", \n",
       "\n",
       " \n",
       ">              RowBox[{\"(\", RowBox[{RowBox[{\"3\", \" \", \n",
       "\n",
       " \n",
       ">                    RowBox[{SuperscriptBox[\"sin\", \"2\"], \"(\", \"ϕ\", \")\"}]}], \"-\", \"1\"}], \n",
       "\n",
       " \n",
       ">                \")\"}]}]}}, Rule[RowSpacings, 1], Rule[ColumnSpacings, 1], \n",
       "\n",
       " \n",
       ">          Rule[RowAlignments, Baseline], Rule[ColumnAlignments, Center]], \"⁠\", \")\"}], \n",
       "\n",
       " \n",
       ">       Function[BoxForm`e$, MatrixForm[BoxForm`e$]]], TraditionalForm]\n"
      ]
     },
     "execution_count": 1884,
     "metadata": {
      "text/html": [],
      "text/plain": []
     },
     "output_type": "execute_result"
    }
   ],
   "source": [
    "fh = Simplify[Array[rh[[#]]*rh[[#2]] - 1/3*KroneckerDelta[#, #2]*(OverHat[r][OverHat[t]])^2 &, {2, 2}], Trig -> True];\n",
    "fh // MatrixForm // TraditionalForm"
   ]
  },
  {
   "cell_type": "markdown",
   "metadata": {},
   "source": [
    "<span style=\"color:brown\">**NB:**</span> Здесь и далее мы не записываем компоненты квадрупольного момента для $z$, так как они сворачиваются с нулевыми $r_z$.\n",
    "\n",
    "Однако нужно запомнить, что след полного квадрупольного момента и его пятой производной **нулевой**!"
   ]
  },
  {
   "cell_type": "markdown",
   "metadata": {},
   "source": [
    "$\\hat{f}_{ki}^{(5)}$ - заданная функция (см. выше)"
   ]
  },
  {
   "cell_type": "code",
   "execution_count": 1888,
   "metadata": {
    "vscode": {
     "languageId": "wolfram"
    }
   },
   "outputs": [
    {
     "data": {
      "text/html": [
       "<div><img alt=\"Output\" src=\"data:image/png;base64,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\"></div>"
      ],
      "text/plain": [
       "FormBox[TagBox[RowBox[{\"(\", \"⁠\", \n",
       "\n",
       " \n",
       ">         GridBox[{{TemplateBox[List[SubscriptBox[OverscriptBox[\"f\", \"^\"], \n",
       "\n",
       " \n",
       ">               RowBox[List[\"x\", \",\", \"x\"]]], \"\\\"(5)\\\"\"], \"Superscript\", \n",
       "\n",
       " \n",
       ">             Rule[SyntaxForm, SuperscriptBox]], \n",
       "\n",
       " \n",
       ">            TemplateBox[List[SubscriptBox[OverscriptBox[\"f\", \"^\"], \n",
       "\n",
       " \n",
       ">               RowBox[List[\"x\", \",\", \"y\"]]], \"\\\"(5)\\\"\"], \"Superscript\", \n",
       "\n",
       " \n",
       ">             Rule[SyntaxForm, SuperscriptBox]]}, \n",
       "\n",
       " \n",
       ">           {TemplateBox[List[SubscriptBox[OverscriptBox[\"f\", \"^\"], \n",
       "\n",
       " \n",
       ">               RowBox[List[\"x\", \",\", \"y\"]]], \"\\\"(5)\\\"\"], \"Superscript\", \n",
       "\n",
       " \n",
       ">             Rule[SyntaxForm, SuperscriptBox]], \n",
       "\n",
       " \n",
       ">            TemplateBox[List[SubscriptBox[OverscriptBox[\"f\", \"^\"], \n",
       "\n",
       " \n",
       ">               RowBox[List[\"y\", \",\", \"y\"]]], \"\\\"(5)\\\"\"], \"Superscript\", \n",
       "\n",
       " \n",
       ">             Rule[SyntaxForm, SuperscriptBox]]}}, Rule[RowSpacings, 1], \n",
       "\n",
       " \n",
       ">          Rule[ColumnSpacings, 1], Rule[RowAlignments, Baseline], \n",
       "\n",
       " \n",
       ">          Rule[ColumnAlignments, Center]], \"⁠\", \")\"}], \n",
       "\n",
       " \n",
       ">       Function[BoxForm`e$, MatrixForm[BoxForm`e$]]], TraditionalForm]\n"
      ]
     },
     "execution_count": 1888,
     "metadata": {
      "text/html": [],
      "text/plain": []
     },
     "output_type": "execute_result"
    }
   ],
   "source": [
    "(* fh5 = Array[Superscript[Subscript[OverHat[f], {x, y}[[#1]], {x, y}[[#2]]], \"(5)\"] &, {2, 2}] *)\n",
    "(* Symmetric version *)\n",
    "fh5 = Array[If[#1 <= #2,\n",
    "                    Superscript[Subscript[OverHat[f], {x, y}[[#1]], {x, y}[[#2]]], \"(5)\"],\n",
    "                    Superscript[Subscript[OverHat[f], {x, y}[[#2]], {x, y}[[#1]]], \"(5)\"]] &, {2, 2}];\n",
    "fh5 // MatrixForm // TraditionalForm"
   ]
  },
  {
   "cell_type": "markdown",
   "metadata": {},
   "source": [
    "$\\hat{f}_{ki}^{(5)}\\hat{r}_i$"
   ]
  },
  {
   "cell_type": "code",
   "execution_count": 1890,
   "metadata": {
    "vscode": {
     "languageId": "wolfram"
    }
   },
   "outputs": [
    {
     "data": {
      "text/html": [
       "<div><img alt=\"Output\" src=\"data:image/png;base64,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\"></div>"
      ],
      "text/plain": [
       "FormBox[TagBox[RowBox[{\"(\", \"⁠\", \n",
       "\n",
       " \n",
       ">         TagBox[GridBox[{{RowBox[{RowBox[{OverscriptBox[\"r\", \"^\"], \" \", \n",
       "\n",
       " \n",
       ">                 RowBox[{\"sin\", \"(\", \"ϕ\", \")\"}], \" \", \n",
       "\n",
       " \n",
       ">                 TemplateBox[List[SubscriptBox[OverscriptBox[\"f\", \"^\"], \n",
       "\n",
       " \n",
       ">                    RowBox[List[\"x\", \",\", \"y\"]]], \"\\\"(5)\\\"\"], \"Superscript\", \n",
       "\n",
       " \n",
       ">                  Rule[SyntaxForm, SuperscriptBox]]}], \"+\", \n",
       "\n",
       " \n",
       ">               RowBox[{OverscriptBox[\"r\", \"^\"], \" \", RowBox[{\"cos\", \"(\", \"ϕ\", \")\"}], \n",
       "\n",
       " \n",
       ">                 \" \", TemplateBox[List[SubscriptBox[OverscriptBox[\"f\", \"^\"], \n",
       "\n",
       " \n",
       ">                    RowBox[List[\"x\", \",\", \"x\"]]], \"\\\"(5)\\\"\"], \"Superscript\", \n",
       "\n",
       " \n",
       ">                  Rule[SyntaxForm, SuperscriptBox]]}]}]}, \n",
       "\n",
       " \n",
       ">            {RowBox[{RowBox[{OverscriptBox[\"r\", \"^\"], \" \", \n",
       "\n",
       " \n",
       ">                 RowBox[{\"cos\", \"(\", \"ϕ\", \")\"}], \" \", \n",
       "\n",
       " \n",
       ">                 TemplateBox[List[SubscriptBox[OverscriptBox[\"f\", \"^\"], \n",
       "\n",
       " \n",
       ">                    RowBox[List[\"x\", \",\", \"y\"]]], \"\\\"(5)\\\"\"], \"Superscript\", \n",
       "\n",
       " \n",
       ">                  Rule[SyntaxForm, SuperscriptBox]]}], \"+\", \n",
       "\n",
       " \n",
       ">               RowBox[{OverscriptBox[\"r\", \"^\"], \" \", RowBox[{\"sin\", \"(\", \"ϕ\", \")\"}], \n",
       "\n",
       " \n",
       ">                 \" \", TemplateBox[List[SubscriptBox[OverscriptBox[\"f\", \"^\"], \n",
       "\n",
       " \n",
       ">                    RowBox[List[\"y\", \",\", \"y\"]]], \"\\\"(5)\\\"\"], \"Superscript\", \n",
       "\n",
       " \n",
       ">                  Rule[SyntaxForm, SuperscriptBox]]}]}]}}, Rule[RowSpacings, 1], \n",
       "\n",
       " \n",
       ">           Rule[ColumnAlignments, Center], Rule[ColumnAlignments, Left]], Column], \"⁠\",\\\n",
       " \n",
       ">    \n",
       "      \")\"}], Function[BoxForm`e$, MatrixForm[BoxForm`e$]]], TraditionalForm]\n"
      ]
     },
     "execution_count": 1890,
     "metadata": {
      "text/html": [],
      "text/plain": []
     },
     "output_type": "execute_result"
    }
   ],
   "source": [
    "fh5rh = EinsteinSummation[{{k, i}, {i}}, {fh5, rh}];\n",
    "fh5rh // MatrixForm // TraditionalForm"
   ]
  },
  {
   "cell_type": "markdown",
   "metadata": {},
   "source": [
    "Система движения в безразмерной записи будет выглядеть как"
   ]
  },
  {
   "cell_type": "markdown",
   "metadata": {},
   "source": [
    "$$\n",
    "\\frac{d^2\\hat{r}_k}{d\\hat{t}^2} = -\\frac{t_0^2}{b^3}\\frac{GM}{\\hat{r}^3}\\hat{r}_k - \\frac{2}{5}\\frac{b^2}{t_0^3}\\frac{G}{c^5}\\mu\\hat{f}_{ki}^{(5)}\\hat{r}_i\n",
    "$$"
   ]
  },
  {
   "cell_type": "markdown",
   "metadata": {},
   "source": [
    "Пусть $t_0 = \\sqrt{\\frac{b^3}{GM}}$, а $b$ - прицельное расстояние, тогда система движения перепишется как\n",
    "\n",
    "$$\n",
    "\\frac{d^2\\hat{r}_k}{d\\hat{t}^2} + \\frac{\\hat{r}_k}{\\hat{r}^3} = - \\epsilon_G\\hat{f}_{ki}^{(5)}\\hat{r}_i\\quad,\n",
    "$$\n",
    "или\n",
    "$$\n",
    "\\hat{r}_k^{(2)} + \\frac{\\hat{r}_k}{\\hat{r}^3} = - \\epsilon_G\\hat{f}_{ki}^{(5)}\\hat{r}_i\\quad,\n",
    "$$\n",
    "\n",
    "где безразмерная постоянная\n",
    "$\\epsilon_G =\n",
    "  \\frac{2}{5}\\frac{b^2}{t_0^3}\\frac{G}{c^5}\\mu\n",
    "  = \\frac{2}{5}\\frac{\\mu}{M} \\left( \\frac{GM}{bc^2} \\right)^{\\frac{5}{2}}\n",
    "  = \\frac{2}{5}\\frac{\\mu}{M} \\left( \\frac{r_s}{2b} \\right)^{\\frac{5}{2}}$.\n",
    "\n",
    "Здесь $r_s = \\frac{2 G M}{c^2}$ - сумма радиусов Шварцшильда двух тел\n",
    "\n",
    "Заметим, что $f_{ij}^{(5)} = \\frac{5}{2}\\frac{\\epsilon_G}{t_0^2}\\hat{f}_{ij}^{(5)}$"
   ]
  },
  {
   "cell_type": "markdown",
   "metadata": {},
   "source": [
    "## Переход к полярным координатам от декартовых\n",
    "Повернём систему с помощью матрицы вращения $R_{ij}(\\phi)$ на угол $\\phi$ по **часовой** стрелке"
   ]
  },
  {
   "cell_type": "code",
   "execution_count": 1891,
   "metadata": {
    "vscode": {
     "languageId": "wolfram"
    }
   },
   "outputs": [
    {
     "data": {
      "text/html": [
       "<div><img alt=\"Output\" src=\"data:image/png;base64,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\"></div>"
      ],
      "text/plain": [
       "FormBox[TagBox[RowBox[{\"(\", \"⁠\", \n",
       "\n",
       " \n",
       ">         GridBox[{{RowBox[{\"cos\", \"(\", \"ϕ\", \")\"}], RowBox[{\"sin\", \"(\", \"ϕ\", \")\"}]}, \n",
       "\n",
       " \n",
       ">           {RowBox[{\"-\", RowBox[{\"sin\", \"(\", \"ϕ\", \")\"}]}], \n",
       "\n",
       " \n",
       ">            RowBox[{\"cos\", \"(\", \"ϕ\", \")\"}]}}, Rule[RowSpacings, 1], \n",
       "\n",
       " \n",
       ">          Rule[ColumnSpacings, 1], Rule[RowAlignments, Baseline], \n",
       "\n",
       " \n",
       ">          Rule[ColumnAlignments, Center]], \"⁠\", \")\"}], \n",
       "\n",
       " \n",
       ">       Function[BoxForm`e$, MatrixForm[BoxForm`e$]]], TraditionalForm]\n"
      ]
     },
     "execution_count": 1891,
     "metadata": {
      "text/html": [],
      "text/plain": []
     },
     "output_type": "execute_result"
    }
   ],
   "source": [
    "RotationMatrix[-\\[Phi]] // MatrixForm // TraditionalForm"
   ]
  },
  {
   "cell_type": "markdown",
   "metadata": {},
   "source": [
    "#### LHS системы после поворота"
   ]
  },
  {
   "cell_type": "code",
   "execution_count": 1893,
   "metadata": {
    "vscode": {
     "languageId": "wolfram"
    }
   },
   "outputs": [
    {
     "data": {
      "text/html": [
       "<div><img alt=\"Output\" src=\"data:image/png;base64,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\"></div>"
      ],
      "text/plain": [
       "FormBox[TagBox[RowBox[{\"(\", \"⁠\", \n",
       "      TagBox[GridBox[{{RowBox[{RowBox[{\"-\", \n",
       "\n",
       " \n",
       ">                 RowBox[{\"2\", \" \", SuperscriptBox[OverscriptBox[\"r\", \"^\"], \"′\"], \n",
       "\n",
       " \n",
       ">                   \" \", SuperscriptBox[\"ϕ\", \"′\"], \" \", \n",
       "\n",
       " \n",
       ">                   RowBox[{\"sin\", \"(\", \"ϕ\", \")\"}]}]}], \"+\", \n",
       "\n",
       " \n",
       ">               RowBox[{OverscriptBox[\"r\", \"^\"], \" \", \n",
       "\n",
       " \n",
       ">                 RowBox[{\"(\", RowBox[{RowBox[{SuperscriptBox[RowBox[\n",
       "\n",
       " \n",
       ">                         {\"(\", SuperscriptBox[\"ϕ\", \"′\"], \")\"}], \"2\"], \" \", \n",
       "\n",
       " \n",
       ">                       RowBox[{\"(\", \n",
       "\n",
       " \n",
       ">                         RowBox[{\"-\", RowBox[{\"cos\", \"(\", \"ϕ\", \")\"}]}], \")\"}]}], \n",
       "\n",
       " \n",
       ">                     \"-\", RowBox[{SuperscriptBox[\"ϕ\", \"′′\"], \" \", \n",
       "\n",
       " \n",
       ">                       RowBox[{\"sin\", \"(\", \"ϕ\", \")\"}]}]}], \")\"}]}], \"+\", \n",
       "\n",
       " \n",
       ">               RowBox[{SuperscriptBox[OverscriptBox[\"r\", \"^\"], \"′′\"], \" \", \n",
       "\n",
       " \n",
       ">                 RowBox[{\"cos\", \"(\", \"ϕ\", \")\"}]}], \"+\", \n",
       "\n",
       " \n",
       ">               FractionBox[RowBox[{\"cos\", \"(\", \"ϕ\", \")\"}], \n",
       "\n",
       " \n",
       ">                SuperscriptBox[OverscriptBox[\"r\", \"^\"], \"2\"]]}]}, \n",
       "\n",
       " \n",
       ">            {RowBox[{RowBox[{\"2\", \" \", SuperscriptBox[OverscriptBox[\"r\", \"^\"], \"′\"], \n",
       "\n",
       " \n",
       ">                 \" \", SuperscriptBox[\"ϕ\", \"′\"], \" \", RowBox[{\"cos\", \"(\", \"ϕ\",\\\n",
       " \n",
       ">    \")\"}]}]\\\n",
       ", \"+\", RowBox[{OverscriptBox[\"r\", \"^\"], \" \", \n",
       "\n",
       " \n",
       ">                 RowBox[{\"(\", RowBox[{RowBox[{SuperscriptBox[\"ϕ\", \"′′\"], \" \", \n",
       "\n",
       " \n",
       ">                       RowBox[{\"cos\", \"(\", \"ϕ\", \")\"}]}], \"-\", \n",
       "\n",
       " \n",
       ">                     RowBox[{SuperscriptBox[RowBox[{\"(\", \n",
       "\n",
       " \n",
       ">                          SuperscriptBox[\"ϕ\", \"′\"], \")\"}], \"2\"], \" \", \n",
       "\n",
       " \n",
       ">                       RowBox[{\"sin\", \"(\", \"ϕ\", \")\"}]}]}], \")\"}]}], \"+\", \n",
       "\n",
       " \n",
       ">               RowBox[{SuperscriptBox[OverscriptBox[\"r\", \"^\"], \"′′\"], \" \", \n",
       "\n",
       " \n",
       ">                 RowBox[{\"sin\", \"(\", \"ϕ\", \")\"}]}], \"+\", \n",
       "\n",
       " \n",
       ">               FractionBox[RowBox[{\"sin\", \"(\", \"ϕ\", \")\"}], \n",
       "\n",
       " \n",
       ">                SuperscriptBox[OverscriptBox[\"r\", \"^\"], \"2\"]]}]}}, \n",
       "\n",
       " \n",
       ">           Rule[RowSpacings, 1], Rule[ColumnAlignments, Center], \n",
       "\n",
       " \n",
       ">           Rule[ColumnAlignments, Left]], Column], \"⁠\", \")\"}], \n",
       "\n",
       " \n",
       ">       Function[BoxForm`e$, MatrixForm[BoxForm`e$]]], TraditionalForm]\n"
      ]
     },
     "execution_count": 1893,
     "metadata": {
      "text/html": [],
      "text/plain": []
     },
     "output_type": "execute_result"
    }
   ],
   "source": [
    "LHSMotion = D[rh, {OverHat[t], 2}] + Simplify[rh / Norm[rh]^3];\n",
    "LHSMotion // MatrixForm // TraditionalForm"
   ]
  },
  {
   "cell_type": "code",
   "execution_count": 1894,
   "metadata": {
    "vscode": {
     "languageId": "wolfram"
    }
   },
   "outputs": [
    {
     "data": {
      "text/html": [
       "<div><img alt=\"Output\" src=\"data:image/png;base64,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\"></div>"
      ],
      "text/plain": [
       "FormBox[TagBox[RowBox[{\"(\", \"⁠\", \n",
       "      TagBox[GridBox[{{RowBox[{RowBox[{\"-\", \n",
       "\n",
       " \n",
       ">                 RowBox[{RowBox[{OverscriptBox[\"r\", \"^\"]}], \" \", \n",
       "\n",
       " \n",
       ">                   SuperscriptBox[RowBox[{\"(\", SuperscriptBox[\"ϕ\", \"′\"], \")\"}], \n",
       "\n",
       " \n",
       ">                    \"2\"]}]}], \"+\", SuperscriptBox[OverscriptBox[\"r\", \"^\"], \"′′\"], \n",
       "\n",
       " \n",
       ">               \"+\", FractionBox[\"1\", SuperscriptBox[OverscriptBox[\"r\", \"^\"],\\\n",
       " \n",
       ">    \"2\"]]}]}\\\n",
       ", {RowBox[{RowBox[{OverscriptBox[\"r\", \"^\"], \" \", SuperscriptBox[\"ϕ\",\\\n",
       " \n",
       ">    \"′′\"]}], \"+\", \n",
       "            RowBox[{\"2\", \" \", SuperscriptBox[OverscriptBox[\"r\",\\\n",
       " \n",
       ">    \"^\"], \"′\"], \" \", \n",
       "              SuperscriptBox[\"ϕ\", \"′\"]}]}]}}, Rule[RowSpacings,\\\n",
       " \n",
       ">    1], \n",
       "        Rule[ColumnAlignments, Center], Rule[ColumnAlignments, Left]],\\\n",
       " \n",
       ">    Column], \"⁠\", \n",
       "      \")\"}], Function[BoxForm`e$, MatrixForm[BoxForm`e$]]],\\\n",
       " \n",
       ">    TraditionalForm]\n"
      ]
     },
     "execution_count": 1894,
     "metadata": {
      "text/html": [],
      "text/plain": []
     },
     "output_type": "execute_result"
    }
   ],
   "source": [
    "RotatedLHSMotion = Simplify[RotationMatrix[-\\[Phi][OverHat[t]]] . LHSMotion, Trig -> True] // MatrixForm // TraditionalForm"
   ]
  },
  {
   "cell_type": "markdown",
   "metadata": {},
   "source": [
    "Так как $\\hat{\\omega} \\equiv \\phi^{(1)}$, то"
   ]
  },
  {
   "cell_type": "code",
   "execution_count": 1896,
   "metadata": {
    "vscode": {
     "languageId": "wolfram"
    }
   },
   "outputs": [
    {
     "data": {
      "text/html": [
       "<div><img alt=\"Output\" src=\"data:image/png;base64,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\"></div>"
      ],
      "text/plain": [
       "FormBox[TagBox[RowBox[{\"(\", \"⁠\", \n",
       "\n",
       " \n",
       ">         TagBox[GridBox[{{RowBox[{RowBox[{RowBox[{\"-\", OverscriptBox[\"r\", \"^\"]}], \n",
       "\n",
       " \n",
       ">                 \" \", SuperscriptBox[OverscriptBox[\"ω\", \"^\"], \"2\"]}], \"+\", \n",
       "\n",
       " \n",
       ">               SuperscriptBox[OverscriptBox[\"r\", \"^\"], \"′′\"], \"+\", \n",
       "\n",
       " \n",
       ">               FractionBox[\"1\", SuperscriptBox[OverscriptBox[\"r\", \"^\"], \"2\"]]}]}, \n",
       "\n",
       " \n",
       ">            {RowBox[{RowBox[{\"2\", \" \", OverscriptBox[\"ω\", \"^\"], \" \", \n",
       "\n",
       " \n",
       ">                 SuperscriptBox[OverscriptBox[\"r\", \"^\"], \"′\"]}], \"+\", \n",
       "\n",
       " \n",
       ">               RowBox[{OverscriptBox[\"r\", \"^\"], \" \", \n",
       "\n",
       " \n",
       ">                 SuperscriptBox[OverscriptBox[\"ω\", \"^\"], \"′\"]}]}]}}, \n",
       "\n",
       " \n",
       ">           Rule[RowSpacings, 1], Rule[ColumnAlignments, Center], \n",
       "\n",
       " \n",
       ">           Rule[ColumnAlignments, Left]], Column], \"⁠\", \")\"}], \n",
       "\n",
       " \n",
       ">       Function[BoxForm`e$, MatrixForm[BoxForm`e$]]], TraditionalForm]\n"
      ]
     },
     "execution_count": 1896,
     "metadata": {
      "text/html": [],
      "text/plain": []
     },
     "output_type": "execute_result"
    }
   ],
   "source": [
    "OmegaReplace = Derivative[n_][\\[Phi]][OverHat[t]] :> Derivative[n-1][OverHat[\\[Omega]]][OverHat[t]];\n",
    "\n",
    "OmegaLHSMotion = RotatedLHSMotion /. OmegaReplace // TraditionalForm"
   ]
  },
  {
   "cell_type": "markdown",
   "metadata": {},
   "source": [
    "### RHS системы после поворота"
   ]
  },
  {
   "cell_type": "code",
   "execution_count": 1898,
   "metadata": {
    "vscode": {
     "languageId": "wolfram"
    }
   },
   "outputs": [
    {
     "data": {
      "text/html": [
       "<div><img alt=\"Output\" src=\"data:image/png;base64,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\"></div>"
      ],
      "text/plain": [
       "FormBox[TagBox[RowBox[{\"(\", \"⁠\", \n",
       "\n",
       " \n",
       ">         TagBox[GridBox[{{RowBox[{OverscriptBox[\"r\", \"^\"], \" \", \n",
       "\n",
       " \n",
       ">               RowBox[{\"(\", RowBox[{\"-\", SubscriptBox[\"ϵ\", \"G\"]}], \")\"}], \" \", \n",
       "\n",
       " \n",
       ">               RowBox[{\"(\", RowBox[{RowBox[{RowBox[{\"sin\", \"(\", \n",
       "\n",
       " \n",
       ">                       RowBox[{\"2\", \" \", \"ϕ\"}], \")\"}], \" \", \n",
       "\n",
       " \n",
       ">                     TemplateBox[List[SubscriptBox[OverscriptBox[\"f\", \"^\"], \n",
       "\n",
       " \n",
       ">                        RowBox[List[\"x\", \",\", \"y\"]]], \"\\\"(5)\\\"\"], \"Superscript\", \n",
       "\n",
       " \n",
       ">                      Rule[SyntaxForm, SuperscriptBox]]}], \"+\", \n",
       "\n",
       " \n",
       ">                   RowBox[{RowBox[{SuperscriptBox[\"cos\", \"2\"], \"(\", \"ϕ\", \")\"}], \n",
       "\n",
       " \n",
       ">                     \" \", TemplateBox[List[SubscriptBox[OverscriptBox[\"f\", \"^\"], \n",
       "\n",
       " \n",
       ">                        RowBox[List[\"x\", \",\", \"x\"]]], \"\\\"(5)\\\"\"], \"Superscript\", \n",
       "\n",
       " \n",
       ">                      Rule[SyntaxForm, SuperscriptBox]]}], \"+\", \n",
       "\n",
       " \n",
       ">                   RowBox[{RowBox[{SuperscriptBox[\"sin\", \"2\"], \"(\", \"ϕ\", \")\"}], \n",
       "\n",
       " \n",
       ">                     \" \", TemplateBox[List[SubscriptBox[OverscriptBox[\"f\", \"^\"], \n",
       "\n",
       " \n",
       ">                        RowBox[List[\"y\", \",\", \"y\"]]], \"\\\"(5)\\\"\"], \"Superscript\", \n",
       "\n",
       " \n",
       ">                      Rule[SyntaxForm, SuperscriptBox]]}]}], \")\"}]}]}, \n",
       "\n",
       " \n",
       ">            {RowBox[{RowBox[{\"-\", FractionBox[\"1\", \"2\"]}], \" \", \n",
       "\n",
       " \n",
       ">               OverscriptBox[\"r\", \"^\"], \" \", SubscriptBox[\"ϵ\", \"G\"], \" \", \n",
       "\n",
       " \n",
       ">               RowBox[{\"(\", RowBox[{RowBox[{RowBox[{\"sin\", \"(\", \n",
       "\n",
       " \n",
       ">                       RowBox[{\"2\", \" \", \"ϕ\"}], \")\"}], \" \", \n",
       "\n",
       " \n",
       ">                     RowBox[{\"(\", RowBox[{TemplateBox[List[SubscriptBox[\n",
       "\n",
       " \n",
       ">                            OverscriptBox[\"f\", \"^\"], \n",
       "\n",
       " \n",
       ">                            RowBox[List[\"y\", \",\", \"y\"]]], \"\\\"(5)\\\"\"], \n",
       "\n",
       " \n",
       ">                          \"Superscript\", Rule[SyntaxForm, SuperscriptBox]], \"-\", \n",
       "\n",
       " \n",
       ">                         TemplateBox[List[SubscriptBox[OverscriptBox[\"f\", \"^\"], \n",
       "\n",
       " \n",
       ">                            RowBox[List[\"x\", \",\", \"x\"]]], \"\\\"(5)\\\"\"], \n",
       "\n",
       " \n",
       ">                          \"Superscript\", Rule[SyntaxForm, SuperscriptBox]]}], \")\"}]}\\\n",
       "\n",
       " \n",
       ">   ], \"+\", RowBox[{\"2\", \" \", RowBox[{\"cos\", \"(\", RowBox[{\"2\", \" \", \"ϕ\"}], \")\"}], \n",
       "\n",
       " \n",
       ">                     \" \", TemplateBox[List[SubscriptBox[OverscriptBox[\"f\", \"^\"], \n",
       "\n",
       " \n",
       ">                        RowBox[List[\"x\", \",\", \"y\"]]], \"\\\"(5)\\\"\"], \"Superscript\", \n",
       "\n",
       " \n",
       ">                      Rule[SyntaxForm, SuperscriptBox]]}]}], \")\"}]}]}}, \n",
       "\n",
       " \n",
       ">           Rule[RowSpacings, 1], Rule[ColumnAlignments, Center], \n",
       "\n",
       " \n",
       ">           Rule[ColumnAlignments, Left]], Column], \"⁠\", \")\"}], \n",
       "\n",
       " \n",
       ">       Function[BoxForm`e$, MatrixForm[BoxForm`e$]]], TraditionalForm]\n"
      ]
     },
     "execution_count": 1898,
     "metadata": {
      "text/html": [],
      "text/plain": []
     },
     "output_type": "execute_result"
    }
   ],
   "source": [
    "RHSMotion = -Subscript[\\[Epsilon], G] FullSimplify[RotationMatrix[-\\[Phi][OverHat[t]]] . fh5rh, Trig -> True];\n",
    "RHSMotion // MatrixForm // TraditionalForm"
   ]
  },
  {
   "cell_type": "markdown",
   "metadata": {},
   "source": [
    "<span style=\"color:brown\">**NB:**</span> Полученные выражения <span style=\"color:green\">**совпадают**</span> с уравнениями (10) и (9) из файла Binary.pdf"
   ]
  },
  {
   "cell_type": "markdown",
   "metadata": {
    "vscode": {
     "languageId": "wolfram"
    }
   },
   "source": [
    "## Получим теперь **энергетическую** систему уравнений\n",
    "\n",
    "В задача двух тел без учёта гравитационного излучения в системе центра масс в полярных координатах радиус-вектор $\\hat{r}_k$ задаётся как:\n",
    "$$\n",
    "\\hat{r}_k = \\hat{r} e_{1k} \\quad,\n",
    "$$\n",
    "где:\n",
    "- $\\hat{r}$ — расстояние между телами,\n",
    "- $e_{1k}$ — единичный вектор в направлении $\\hat{r}_k$.\n",
    "\n",
    "Скорость в полярных координатах выражается как:\n",
    "$$\n",
    "\\hat{r}_k^{(1)} = \\hat{r}^{(1)} e_{1k} + \\hat{r} \\phi^{(1)} e_{2k} \\quad,\n",
    "$$\n",
    "где:\n",
    "- $\\hat{r}^{(1)}$ — радиальная скорость\n",
    "- $\\hat{\\omega} \\equiv \\phi^{(1)}$ — угловая скорость\n",
    "- $e_{2k}$ — единичный вектор, перпендикулярный $e_{1k}$.\n",
    "\n",
    "### **Кинетическая энергия**\n",
    "Кинетическая энергия $T$ в полярных координатах выражается через радиальную и тангенциальную составляющие скорости:\n",
    "$$\n",
    "T = \\mu\\frac{b^2}{2 t_0^2} (\\hat{r}_k^{(1)})^2 = \\mu\\frac{b^2}{2 t_0^2} \\left( (\\hat{r}^{(1)})^2 + \\hat{r}^2 \\hat{\\omega}^2 \\right) = \\frac{G \\mu M}{b} \\frac{1}{2}\\left( (\\hat{r}^{(1)})^2 + \\hat{r}^2 \\hat{\\omega}^2 \\right)\n",
    "$$\n",
    "\n",
    "### **Потенциальная энергия**\n",
    "Потенциальная энергия $U$ зависит только от расстояния $\\hat{r}$:\n",
    "- Для гравитационного взаимодействия:\n",
    "  $$\n",
    "  U = -\\frac{G m_A m_B}{b \\hat{r}} = -\\frac{G \\mu M}{b \\hat{r}}.\n",
    "  $$\n",
    "\n",
    "### **Полная энергия**\n",
    "Полная энергия $E$ в полярных координатах:\n",
    "$$\n",
    "E = T + U = \\frac{G \\mu M}{b}\\left(\\frac{(\\hat{r}^{(1)})^2}{2} + \\frac{\\hat{r}^2 \\hat{\\omega}^2}{2} - \\frac{1}{\\hat{r}}\\right) = \\frac{G \\mu M}{b} \\hat{E}\n",
    "$$\n",
    "\n",
    "Здесь $\\hat{E}$ - безразмерная энергия:"
   ]
  },
  {
   "cell_type": "code",
   "execution_count": 1900,
   "metadata": {
    "vscode": {
     "languageId": "wolfram"
    }
   },
   "outputs": [
    {
     "data": {
      "text/html": [
       "<div><img alt=\"Output\" src=\"data:image/png;base64,iVBORw0KGgoAAAANSUhEUgAAANsAAAA7CAIAAAB9pWiVAAAAznpUWHRSYXcgcHJvZmlsZSB0eXBlIGV4aWYAAHjabU/bDQMhDPtnio4QkuDAONwdJ3WDjt/wUCuqWiI2zgMS2ut5h0cHRwqaLKMA5NCihauLTBOTI5URB65j5eLuB1mJWN1K3wTa8o/dN0zm/DOIeArpL7gWXQ1rkPD0Y533Y9VzzXkfJLSh0Ofrf+8qxkiIph6VyQzFdQ4unZCYkuHGCXhhxMWkp3ODmbfBeoXU3tjBzfbqFiBuXH0F6SdJdRaPUXyr4VXREUWIj5Udi4Q321JbDH20PZQAAAAJcEhZcwAAFiUAABYlAUlSJPAAAAA8dEVYdFNvZnR3YXJlAENyZWF0ZWQgd2l0aCB0aGUgV29sZnJhbSBMYW5ndWFnZSA6IHd3dy53b2xmcmFtLmNvbVyipoUAAAAhdEVYdENyZWF0aW9uIFRpbWUAMjAyNTowMzoxMyAwMjo0MjozMGsO0z8AAAwwSURBVHhe7Z11rBTLEofvwd3dggT34O7uBA36kGAJTpAgwYNLcAIE1+DuHixAsODu7i7vy+uk357Z2ZGzs2d3uD1/3Bxmq6urf11TXdLdN+zPnz//+HhevHgxfvz4smXL1qlTxxeNeu+NgMLNH42Kotv49evXAwcOzJQp08SJEx89eqTUziICCjdfQFlHRkcjp02bVqxYsUWLFn369MniTCgyEFC4+VIDW8joaGT16tWvXr26Y8cOpWe2EFC4+YLLFjI6Gpk9e/aoUaMmS5bM1nwoYoWbLx2whYy+H6nUSyEQLASURgYLedWvPgJKI5VmhBYCSiNDaz6UNEojlQ6EFgJKI0NrPpQ0SiOVDoQWAkojQ2s+lDRKI5UOhBYCSiNDaz6UND418v379wKdX79+OQvTzZs3Bw8e3LZt2zFjxjx//txZ5ki7dOnSTp069ejRY/Pmzc4yt8ItcLhZ6d2AxjXIsD9S9xk7dqwYXs2aNX3RROA9WhI9enTq5oJ50qRJr1+/HgE+uk2+ffvGbk7YSv7du3d3irlFPgHCzWLvvshchMw/3mOYNWtWvnz5PL+2vHnzYnX8BIXmHz58SJUq1apVq378+HHo0KEiRYrQS8OGDf3nLDiMGDGCbSaPHz9+9erVuHHjxBAuXLjgFH9jPoHDzX/5XYSMjkb6P35fHJYvXz506FD565YtW9CYDBkyONUjKs7OUMmtUKFC8F+4cKFT/N3Lx0XIBCqyYfK+fPmCLfS0tQULFuzXr598U61aNVbwJEmS+Okhiea/f/+ePXt24sSJJbfatWvzt1P8HREywky+f/8OngZHUAw4uwuZQGlk//7948SJkyZNGs9DETlz5owXL57EjvMoqGylSpVszZOvuYkSJYowivJh+Y4dO3aJEiVs8Q9B4gcPHoAkeA4aNMhbPE6egLaB2C5DJhAr0bZt28LCwgRGZcqU+fnzp24vODeYNPTSugz3798nGILtgAEDjFu9efMGyiFDhlhnHjqUL1++vHbtmpCHj7ZUqVICTFDduXOnp5x4yeKne/fu8R4wTSPFEEfGeT+SDxpVyJgxI2D16tULsPiyvSf7zp07qOO+ffus64Hx3Gj4dOvWrWrVqjSxzj9EKI8cOZI+ffply5YJeYT947/nzp3jffLkyVl2pKh8mfzKuSjxBpqUKVMuXrzYYCwhjozDGok5LF26dMmSJUk0ClDw7WLEiLFr1y5PjAi6CecXLFhgSwmM58aTFVOSJ0+ed+/e2eIfCsSoI3ARtgthOO0UM2ZMGZw9efKEGKVcuXJy2eG8KKmus2fPSuFJYsSNG3fmzJm6wwl9ZBzWSGwSZu/r16+ecFy6dMlzKQHNunXrchLclgaYzo3kxqTmzp0bJ9IW/1AgxviRHaN2IIUBtytXrnjKxgFREBYaeeLECQwkwaJGeNSRkBEcNO9dgYzDGmk6r8R97dq1o2YjKYG4T58+pg2N50Y2P3/+PNnTu3fvyjcrVqzwnhvd7j5//ty3b9/t27ebChMIApLYBGGYN+vfUs+ePbGRAKiRB7uQK1culNtzffcHmUCM1xdPhzWSDAWrxuTJk1u0aFG4cOGHDx9+/PgRhcM337hxI0L07t2b0A8z8J//Pc2bN8+WLduECRNMx+xrCUaNiL5F8xs3biRKlIh5FczpBVcybdq0Gpvtqy9R0vQ2OaayOUKAe0PvHTt29OR2+/btlStX8p1UrFhRRGn4PzVq1ABeFJFUrsYdkm3nzp0LNz5+R5BxZIAWmTiskVgyqjsoAXAkSJCAsA6nWwSDKOi8efO8kxS4TdLp1BUanW7Tpg2Ki/J5E3To0KFevXq8Ry8Jp7z5E11ZxCK4GonzjfDr16/3lHbSpEn169cXg8LPQTujRYsm/rl169aLFy/6Ghqht5gCbIT/yFgE0BEyhzVSyEQ1GThIUBPWcWcQdUL+ybUtEZAYNDEPsWLF4lID3eYssjBfvXp1BJhrmgRRI0lQMAqSO95LAV+1UMF169YRaLOesLLzB+uP8ZD5hmklliYXPQHRyPLly4NFgwYNcuTIgYUDDs/ini10sI6wGjVqlK9Wt27dgsCR4ngQNfLgwYOMgvKS9zDFT3gjfJnz58+HAEhxOk1hrFKlCg3Jn5tShhRBGNKITxBrxJor/jZ4SEZkzZrVgIBlAmRx3aChci1KeRF7yAbjM2EPMCH0CxMCo/z58+MV8JPgia6T/iQJ9/TpU7u9YJDevn0rW5FeJreCG0DgJV/i9ZIFNOCMP0du1bRrilW6ToVoSPiFa8jdDywFGlbDhg2jlMBL3J5Tp07J0oNpjzCELU4Lbr0psYZAg4xuc1Nk2JhHRcO064QJE4ZDWH4fVtQR7qij8SclLwzCUvrz8YmAkR49l3sSSbwhPJKcScWJMaORdrsTCXzTx1fNSXS3f/9+Uw4QVKhQwUA87mqCpmjRot400hEnZLQ1wC5dusCzffv2tloJYkeQWbt2rRVkGjVq5Cmh8zYSdZkyZQqinD59ms/aiky6NKRsxGZH/HfS3YKG3UMtW7Y8efIkkyfeLFmyhJWd9BtZd2FHrT979uw5duyYpIcD5gQNYEubfIklIMg1sEyO2EgxCur+ZB895ceJ5AImVoZatWoRylgfGpStWrWi8INPL9Td1qNBRretKTL+2sgIfEm6TYRhY9ODnwynT58OH1RB7HkRT9euXVE7me7hjQhR/e8OVkH0I0V8hu+hAW3NmjVCG/B/7OKJEtNw5MiRdhsGl97hvT8EgOIrJxNm66P0JhYhS/z48Qm0xa949NhIyo9YRPHm6NGjx48f5w+xQrn3wVdGeHxizRB2797Nm9SpU+NP2x2d4CY4u+hxWCMFguTMmjVr5icKwtvF8su4gUgTj5t9WYIz4U7Tpk35g9nCW/Kzu+A2p87Et4frTErcUxIS4PwTMOU5DYtyYueoF0As9w1ZbBh8MmdNdJMmTRhS5cqV/WfL3JB4gxsuI24WzhwZELJxbHnEMSJdnDlzZn7lGBBnGPzvLrirNr03btyY4cyZM0eORfqULAV2B3jmzBm4AZHdhkGndzgfyfoCEDNmzHBkYISxGA88aJZpAo7Dhw8T9hLZsI0Nb5Jq4dSpU/H6HekLJuxKRHh2GDnF0BYfNpXSO0lc2UpUAlOkSMExQlusIBYH0Egb2W0YdPr/x9rBN9c+JCC1iRsgq2dQMUM8lB9DVuaICUYhnjohuQVRbonwQ7mV+JKsMEkJ6XNHmFskN3SBRkYyIkHsDqe5QIECWbJkIfnijxhkcHFsWLhF3sNdj8ORjbsGH2rSsjECz4QyUuvWrTWH5qyLiqtNGvLAgQNuVEeGqaOReBIU9XHXKKmR0+JMwrNnz6wj8q+ldAS3dOnSURogCyvPm9vCkwsa2FpBbUJWemw1Dygx+HgfT9XpUePJUoHgrJaGDo9k7969Qfd5Q1kAx3GzspfCGxAiP+OaZxAxFAejKUEZ71rSxtoiB0FKhUt5OFUkYmceNiRHeP9OEFGItK4VbsZQWzyeCpNwGom1R/n4v31J7mghe22EUsrjSJE2zW7pSOFmPFMWj6cKJuE0kuMHnvkwQcGWE6GRnTt3douKRLKcCjcDwC0eT5UcwkU27DQZPXq0xoksXrw4OeqA+rxuZ65wM5hBVG348OEUO2SFHdPGHkLOrOm2CqdqHKBmQ5SGjqKI2Islt4S5XYEcl1/hZgAppQ2Ub8OGDUQ23KjDVWQQc0iSCz7J55DM17Y1XeCEk0Tqn5tITYkVgURA4SahMD6/ptEZ87o2ThIayRkupW22EFC4ecJl/fyaiUaySZHyMVbXqf01tibVvcQKN83cWT+/ZhSy4EFiGtkwu2nTpr/jFkbHPUhdhgo3b1jEaSQKpNTuxWZWthrq75UxsENcpYD7qKo1dk21ws0bMevn13yu2uTJSfo4cjLf7oy6ml7h5j191FlEApFtEqaTq6+R2EW2xLJj1LS9IvBEQOGmqw+2zq/paCR3wHHcnYhdwx1Nd+TI39+qxAo3XzPLpQwYSPZIWNkFot2xe/nyZZZ8atmca5H+KXv1uF+ACxLYFsRBgsiJD9zVi8LNYL64w43SttXbNTz1mpyF3Oyj2wG4/60Wzp9xKdwM0LN7fi3cqi0vitBVR85Z+jNtf3FbhZvB5No9v/ZfiCYSoqxtWWoAAAAASUVORK5CYII=\"></div>"
      ],
      "text/plain": [
       "FormBox[RowBox[{RowBox[{FractionBox[\"1\", \"2\"], \" \", \n",
       "\n",
       " \n",
       ">          SuperscriptBox[OverscriptBox[\"r\", \"^\"], \"2\"], \" \", \n",
       "\n",
       " \n",
       ">          SuperscriptBox[OverscriptBox[\"ω\", \"^\"], \"2\"]}], \"+\", \n",
       "\n",
       " \n",
       ">        RowBox[{FractionBox[\"1\", \"2\"], \" \", \n",
       "\n",
       " \n",
       ">          SuperscriptBox[RowBox[{\"(\", SuperscriptBox[OverscriptBox[\"r\", \"^\"], \"′\"], \n",
       "\n",
       " \n",
       ">             \")\"}], \"2\"]}], \"-\", FractionBox[\"1\", OverscriptBox[\"r\", \"^\"]]}], \n",
       "\n",
       " \n",
       ">      TraditionalForm]\n"
      ]
     },
     "execution_count": 1900,
     "metadata": {
      "text/html": [],
      "text/plain": []
     },
     "output_type": "execute_result"
    }
   ],
   "source": [
    "Energy = (D[OverHat[r][OverHat[t]], OverHat[t]])^2/2 + (OverHat[r][OverHat[t]] OverHat[\\[Omega]][OverHat[t]])^2/2 - 1/OverHat[r][OverHat[t]];\n",
    "Energy // TraditionalForm"
   ]
  },
  {
   "cell_type": "markdown",
   "metadata": {},
   "source": [
    "### **Момента импульса**\n",
    "Момент импульса $J$ в системе центра масс:\n",
    "$$\n",
    "J = \\mu\\frac{b^2}{t_0} \\hat{r}^2 \\hat{\\omega} = \\mu(G M b)^{1/2} \\hat{r}^2 \\hat{\\omega} = \\mu(G M b)^{1/2} \\hat{J}\n",
    "$$\n",
    "\n",
    "Здесь $\\hat{J}$ - безразмерный момент импульса:"
   ]
  },
  {
   "cell_type": "code",
   "execution_count": 1902,
   "metadata": {
    "vscode": {
     "languageId": "wolfram"
    }
   },
   "outputs": [
    {
     "data": {
      "text/html": [
       "<div><img alt=\"Output\" src=\"data:image/png;base64,iVBORw0KGgoAAAANSUhEUgAAACsAAAAeCAIAAAA6iHCJAAAAznpUWHRSYXcgcHJvZmlsZSB0eXBlIGV4aWYAAHjabVBbDgMhCPz3FD0CAg56HLfrJr1Bj198tI1NJxGG4aEY2vNxhVsHRwqaLKMA5NCihauTTBPTRyrDDvCxcnHXQ2xLry6lbwJv/dh1wxqYfwYRTyL9Bueiq2ENEp56rDM+Vj3XnPdBQhsKfZ7+N1YxRkI0datMZijOc3DqDokpGS7cAS+MOJn07r7BzNtgvUJqb+zgZnt1CxAXzr6C9JOkuhe3UXyroVXRYUX8q1d2LBJektxa2xDYuDQAAAAJcEhZcwAAFiUAABYlAUlSJPAAAAA8dEVYdFNvZnR3YXJlAENyZWF0ZWQgd2l0aCB0aGUgV29sZnJhbSBMYW5ndWFnZSA6IHd3dy53b2xmcmFtLmNvbVyipoUAAAAhdEVYdENyZWF0aW9uIFRpbWUAMjAyNTowMzoxMyAwMjo0MjozMGsO0z8AAAPhSURBVEhL7VZbKLNhHN/mkJxiDlFICyW1JKeMGy4kJeHCBcppOd3IIS1cuCTlbjmVWnMoV0QYokZJiNYu5FC4cs6cGd/v7VnP9m1tz95v35eb762t9/0//+f3//2PzyP8/v4WsJ6jo6OxsbGLi4u4uLiamprQ0FDWDj7rYOD4mZmZ8fDwcHNzI6hBQUGHh4esTTzWBY51DQZDWFjY5OTkx8fH+vp6SkoKSBQVFfGwwFJlMFCr1d3d3RRkdnYWDKKioliwPNYZDPR6PcJA8d7f35GRxMREHhZYqiJaM9B8eXlBtC2rKD4+3tfXl0qurq6gkJOTw6fSOCdtkc0IlGJbWxukwcHBqHl7vHt6egIDA8GD5dhv646RTVmYm5sTCoWEV1ZW1ufnp62N09NTmF9ZWeFlnonMMTg/P0ePRUdHHxwcNDc3g4RCobAyg2qQSqWjo6O8zDuDLIC7mZmZGRkZl5eXBF2pVHp6ei4uLlJj0CkoKOjt7eVl3hlkAApQWQjs6+urJbpOp6Nj5+vrq6qqqrOzkyo8PT21tLQw2TCRCYIQPyR4a2trZ2dnd3dXJpOh3JaWlgYGBsRi8dDQUFdXF94rKipIoYArNGtra1tbWx13BFoX7L28vKzUYBE+mFsM3/39/YWFhUQPoZ6YmHB3dyefTU1NtmaQI5oye5HQaDQYpiMjI7YKZ2dnGCrb29tkydQLd3d3xNL09HRISEhfX5+Pjw9eHHSmgywsLCzAh8rKSns6qampCQkJRqPRzGBtbQ3mAwICsrOzh4eHsfD4+Pj29sZMtq0CGsrPzw/n5+3trb3t5eXlMAdNKJhm4urqKkT39/cPDw/V1dV4RwwQbV6zD8pAlMvlaN2Ojg4MD7IdLuEoQXNRNLiK942NDU5CaKalpZFlHIB/4DfdMj4+DhBvb2+klQpLSkqQ+OvraypBb0Otrq7OlAWESyTigpGfn++KeexFEoFTXFxsiRMTE5OXl2cpkUgkUCOnLmd4eXkZbUNI8Q27lf7+/j4ksbGxVI6uOT4+Tk9PpxK0ycnJCT7JbYNjgO7Hf3h4OJi6wgBldHNzAwTLa9zg4CAcTU5OpshoeLzjwmc6Y7EcGRkJEU4EF1OA7egCQGF8ESiUJByDZG9vj0gw3zi/RaLNzU0iEeAOQthptVrXGTQ0NJBKbG9vx/0Kca6vr8eRlpubq1KpysrKsAqWU1NT1JYAUSJxI/PBxQfjtrGx0d/fH5i4amByPz8/z8/PJyUlYahHRESUlpZaXXS5c8GV3Nvbi4FmebmCGqggNrb6/4qB816Z74nO7/m7mv8ZkIn0s8/PM/gFBvWQ64byJCoAAAAASUVORK5CYII=\"></div>"
      ],
      "text/plain": [
       "FormBox[RowBox[{SuperscriptBox[OverscriptBox[\"r\", \"^\"], \"2\"], \" \", \n",
       "\n",
       " \n",
       ">        OverscriptBox[\"ω\", \"^\"]}], TraditionalForm]\n"
      ]
     },
     "execution_count": 1902,
     "metadata": {
      "text/html": [],
      "text/plain": []
     },
     "output_type": "execute_result"
    }
   ],
   "source": [
    "AngularMomentum = (OverHat[r][OverHat[t]])^2 OverHat[\\[Omega]][OverHat[t]];\n",
    "AngularMomentum // TraditionalForm"
   ]
  },
  {
   "cell_type": "markdown",
   "metadata": {},
   "source": [
    "Отсюда $\\frac{1}{\\hat{r}^{(1)}}\\left(\\frac{d\\hat{E}}{d\\hat{t}} - \\hat{\\omega} \\frac{d\\hat{J}}{d\\hat{t}}\\right)$"
   ]
  },
  {
   "cell_type": "code",
   "execution_count": 1903,
   "metadata": {
    "vscode": {
     "languageId": "wolfram"
    }
   },
   "outputs": [
    {
     "data": {
      "text/html": [
       "<div><img alt=\"Output\" src=\"data:image/png;base64,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\"></div>"
      ],
      "text/plain": [
       "FormBox[RowBox[{RowBox[{\"-\", RowBox[{RowBox[{OverscriptBox[\"r\", \"^\"]}], \" \", \n",
       "\n",
       " \n",
       ">            SuperscriptBox[OverscriptBox[\"ω\", \"^\"], \"2\"]}]}], \"+\", \n",
       "\n",
       " \n",
       ">        SuperscriptBox[OverscriptBox[\"r\", \"^\"], \"′′\"], \"+\", \n",
       "\n",
       " \n",
       ">        FractionBox[\"1\", SuperscriptBox[OverscriptBox[\"r\", \"^\"], \"2\"]]}],\\\n",
       " \n",
       ">    TraditionalForm]\n"
      ]
     },
     "execution_count": 1903,
     "metadata": {
      "text/html": [],
      "text/plain": []
     },
     "output_type": "execute_result"
    }
   ],
   "source": [
    "Simplify[(D[Energy, OverHat[t]] - (AngularMomentum/OverHat[r][OverHat[t]]^2)(D[AngularMomentum, OverHat[t]]))/(D[OverHat[r][OverHat[t]], OverHat[t]])] // TraditionalForm"
   ]
  },
  {
   "cell_type": "markdown",
   "metadata": {},
   "source": [
    "Что совпадает с **первой** строкой повернутой LHS системы движения"
   ]
  },
  {
   "cell_type": "markdown",
   "metadata": {},
   "source": [
    "Отсюда $\\frac{1}{\\hat{r}}\\frac{d\\hat{J}}{d\\hat{t}}$"
   ]
  },
  {
   "cell_type": "code",
   "execution_count": 1904,
   "metadata": {
    "vscode": {
     "languageId": "wolfram"
    }
   },
   "outputs": [
    {
     "data": {
      "text/html": [
       "<div><img alt=\"Output\" src=\"data:image/png;base64,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\"></div>"
      ],
      "text/plain": [
       "FormBox[RowBox[{RowBox[{\"2\", \" \", OverscriptBox[\"ω\", \"^\"], \" \", \n",
       "\n",
       " \n",
       ">          SuperscriptBox[OverscriptBox[\"r\", \"^\"], \"′\"]}], \"+\", \n",
       "\n",
       " \n",
       ">        RowBox[{OverscriptBox[\"r\", \"^\"], \" \", \n",
       "\n",
       " \n",
       ">          SuperscriptBox[OverscriptBox[\"ω\", \"^\"], \"′\"]}]}], TraditionalForm]\n"
      ]
     },
     "execution_count": 1904,
     "metadata": {
      "text/html": [],
      "text/plain": []
     },
     "output_type": "execute_result"
    }
   ],
   "source": [
    "Simplify[D[AngularMomentum, OverHat[t]]/OverHat[r][OverHat[t]]] // TraditionalForm"
   ]
  },
  {
   "cell_type": "markdown",
   "metadata": {},
   "source": [
    "Что совпадает со **второй** строкой повернутой LHS системы движения"
   ]
  },
  {
   "cell_type": "markdown",
   "metadata": {},
   "source": [
    "Таким образом, мы можем выписать новую **энергетическую** систему уравнений\n",
    "\n",
    "$$\n",
    "\\begin{align}\n",
    "\\frac{d\\hat{E}}{d\\hat{t}} &= - \\epsilon_G \\left(\\hat{r}^{(1)} R_{xi}(-\\phi) \\hat{f}_{ij}^{(5)}\\hat{r}_j + \\hat{r}\\hat\\omega R_{yi}(-\\phi) \\hat{f}_{ij}^{(5)}\\hat{r}_j \\right)\n",
    "\\\\\n",
    "\\frac{d\\hat{J}}{d\\hat{t}} &= - \\epsilon_G \\hat{r} R_{yi}(-\\phi) \\hat{f}_{ij}^{(5)}\\hat{r}_j\n",
    "\\end{align}\n",
    "$$"
   ]
  },
  {
   "cell_type": "markdown",
   "metadata": {},
   "source": [
    "Или\n",
    "\n",
    "$$\n",
    "\\left(\\frac{d\\hat{E}}{d\\hat{t}}, \\frac{d\\hat{J}}{d\\hat{t}}\\right) = - \\epsilon_G T_{nk} R_{ki}(-\\phi) \\hat{f}_{ij}^{(5)}\\hat{r}_j\\quad,\n",
    "$$"
   ]
  },
  {
   "cell_type": "markdown",
   "metadata": {},
   "source": [
    "Здесь\n",
    "$$\n",
    "T = \n",
    "\\begin{bmatrix}\n",
    "\\hat{r}^{(1)} & \\hat{r}\\hat{\\omega} \\\\\n",
    "0 & \\hat{r}\n",
    "\\end{bmatrix}\n",
    "$$\n",
    "матрица трансформации:"
   ]
  },
  {
   "cell_type": "code",
   "execution_count": 1906,
   "metadata": {
    "vscode": {
     "languageId": "wolfram"
    }
   },
   "outputs": [
    {
     "data": {
      "text/html": [
       "<div><img alt=\"Output\" src=\"data:image/png;base64,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\"></div>"
      ],
      "text/plain": [
       "FormBox[TagBox[RowBox[{\"(\", \"⁠\", \n",
       "\n",
       " \n",
       ">         GridBox[{{SuperscriptBox[OverscriptBox[\"r\", \"^\"], \"′\"], \n",
       "\n",
       " \n",
       ">            RowBox[{OverscriptBox[\"r\", \"^\"], \" \", OverscriptBox[\"ω\", \"^\"]}]}, \n",
       "\n",
       " \n",
       ">           {\"0\", OverscriptBox[\"r\", \"^\"]}}, Rule[RowSpacings, 1], \n",
       "\n",
       " \n",
       ">          Rule[ColumnSpacings, 1], Rule[RowAlignments, Baseline], \n",
       "\n",
       " \n",
       ">          Rule[ColumnAlignments, Center]], \"⁠\", \")\"}], \n",
       "\n",
       " \n",
       ">       Function[BoxForm`e$, MatrixForm[BoxForm`e$]]], TraditionalForm]\n"
      ]
     },
     "execution_count": 1906,
     "metadata": {
      "text/html": [],
      "text/plain": []
     },
     "output_type": "execute_result"
    }
   ],
   "source": [
    "Transform = {{D[OverHat[r][OverHat[t]], OverHat[t]], OverHat[r][OverHat[t]] OverHat[\\[Omega]][OverHat[t]]}, {0, OverHat[r][OverHat[t]]}};\n",
    "Transform // MatrixForm // TraditionalForm"
   ]
  },
  {
   "cell_type": "markdown",
   "metadata": {},
   "source": [
    "Итак правая часть энергетической системы запишется как"
   ]
  },
  {
   "cell_type": "code",
   "execution_count": 1908,
   "metadata": {
    "vscode": {
     "languageId": "wolfram"
    }
   },
   "outputs": [
    {
     "data": {
      "text/html": [
       "<div><img alt=\"Output\" src=\"data:image/png;base64,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\"></div>"
      ],
      "text/plain": [
       "FormBox[TagBox[RowBox[{\"(\", \"⁠\", \n",
       "\n",
       " \n",
       ">         TagBox[GridBox[{{RowBox[{FractionBox[\"1\", \"2\"], \" \", \n",
       "\n",
       " \n",
       ">               OverscriptBox[\"r\", \"^\"], \" \", SubscriptBox[\"ϵ\", \"G\"], \" \", \n",
       "\n",
       " \n",
       ">               RowBox[{\"(\", RowBox[{RowBox[{OverscriptBox[\"r\", \"^\"], \" \", \n",
       "\n",
       " \n",
       ">                     OverscriptBox[\"ω\", \"^\"], \" \", \n",
       "\n",
       " \n",
       ">                     RowBox[{\"(\", RowBox[{RowBox[{RowBox[{\"sin\", \"(\", \n",
       "\n",
       " \n",
       ">                             RowBox[{\"2\", \" \", \"ϕ\"}], \")\"}], \" \", \n",
       "\n",
       " \n",
       ">                           RowBox[{\"(\", \n",
       "\n",
       " \n",
       ">                             RowBox[{TemplateBox[List[SubscriptBox[\n",
       "\n",
       " \n",
       ">                            OverscriptBox[\"f\", \"^\"], \n",
       "\n",
       " \n",
       ">                            RowBox[List[\"x\", \",\", \"x\"]]], \"\\\"(5)\\\"\"], \n",
       "\n",
       " \n",
       ">                             \"Superscript\", Rule[SyntaxForm, SuperscriptBox]], \n",
       "\n",
       " \n",
       ">                             \"-\", \n",
       "\n",
       " \n",
       ">                             TemplateBox[List[SubscriptBox[OverscriptB\\\n",
       "\n",
       " \n",
       ">   ox[\"f\", \"^\"], RowBox[List[\"y\", \",\", \"y\"]]], \"\\\"(5)\\\"\"], \"Superscript\", \n",
       "\n",
       " \n",
       ">                             Rule[SyntaxForm, SuperscriptBox]]}], \")\"}]}], \"-\", \n",
       "\n",
       " \n",
       ">                         RowBox[{\"2\", \" \", \n",
       "\n",
       " \n",
       ">                           RowBox[{\"cos\", \"(\", RowBox[{\"2\", \" \", \"ϕ\"}], \")\"}], \n",
       "\n",
       " \n",
       ">                           \" \", TemplateBox[List[SubscriptBox[OverscriptB\\\n",
       "\n",
       " \n",
       ">   ox[\"f\", \"^\"], RowBox[List[\"x\", \",\", \"y\"]]], \"\\\"(5)\\\"\"], \"Superscript\", \n",
       "\n",
       " \n",
       ">                            Rule[SyntaxForm, SuperscriptBox]]}]}], \")\"}]}], \"-\", \n",
       "\n",
       " \n",
       ">                   RowBox[{\"2\", \" \", SuperscriptBox[OverscriptBox[\"r\", \"^\"], \"′\"], \n",
       "\n",
       " \n",
       ">                     \" \", RowBox[{\"(\", \n",
       "\n",
       " \n",
       ">                       RowBox[{RowBox[{RowBox[{\"sin\", \"(\", \n",
       "\n",
       " \n",
       ">                             RowBox[{\"2\", \" \", \"ϕ\"}], \")\"}], \" \", \n",
       "\n",
       " \n",
       ">                           TemplateBox[List[SubscriptBox[OverscriptBox[\"f\", \n",
       "\n",
       " \n",
       ">                             \"^\"], RowBox[List[\"x\", \",\", \"y\"]]], \"\\\"(5)\\\"\"], \n",
       "\n",
       " \n",
       ">                            \"Superscript\", Rule[SyntaxForm, SuperscriptBox]]}], \n",
       "\n",
       " \n",
       ">                         \"+\", RowBox[{RowBox[{SuperscriptBox[\"cos\", \"2\"], \"(\", \n",
       "\n",
       " \n",
       ">                             \"ϕ\", \")\"}], \" \", \n",
       "\n",
       " \n",
       ">                           TemplateBox[List[SubscriptBox[OverscriptBox[\"f\", \n",
       "\n",
       " \n",
       ">                             \"^\"], RowBox[List[\"x\", \",\", \"x\"]]], \"\\\"(5)\\\"\"], \n",
       "\n",
       " \n",
       ">                            \"Superscript\", Rule[SyntaxForm, SuperscriptBox]]}], \n",
       "\n",
       " \n",
       ">                         \"+\", RowBox[{RowBox[{SuperscriptBox[\"sin\", \"2\"], \"(\", \n",
       "\n",
       " \n",
       ">                             \"ϕ\", \")\"}], \" \", \n",
       "\n",
       " \n",
       ">                           TemplateBox[List[SubscriptBox[OverscriptBox[\"f\", \n",
       "\n",
       " \n",
       ">                             \"^\"], RowBox[List[\"y\", \",\", \"y\"]]], \"\\\"(5)\\\"\"], \n",
       "\n",
       " \n",
       ">                            \"Superscript\", Rule[SyntaxForm, SuperscriptBox]]}]}], \n",
       "\n",
       " \n",
       ">                       \")\"}]}]}], \")\"}]}]}, \n",
       "\n",
       " \n",
       ">            {RowBox[{RowBox[{\"-\", FractionBox[\"1\", \"2\"]}], \" \", \n",
       "\n",
       " \n",
       ">               SuperscriptBox[OverscriptBox[\"r\", \"^\"], \"2\"], \" \", \n",
       "\n",
       " \n",
       ">               SubscriptBox[\"ϵ\", \"G\"], \" \", \n",
       "\n",
       " \n",
       ">               RowBox[{\"(\", RowBox[{RowBox[{RowBox[{\"sin\", \"(\", \n",
       "\n",
       " \n",
       ">                       RowBox[{\"2\", \" \", \"ϕ\"}], \")\"}], \" \", \n",
       "\n",
       " \n",
       ">                     RowBox[{\"(\", RowBox[{TemplateBox[List[SubscriptBox[\n",
       "\n",
       " \n",
       ">                            OverscriptBox[\"f\", \"^\"], \n",
       "\n",
       " \n",
       ">                            RowBox[List[\"y\", \",\", \"y\"]]], \"\\\"(5)\\\"\"], \n",
       "\n",
       " \n",
       ">                          \"Superscript\", Rule[SyntaxForm, SuperscriptBox]], \"-\", \n",
       "\n",
       " \n",
       ">                         TemplateBox[List[SubscriptBox[OverscriptBox[\"f\", \"^\"], \n",
       "\n",
       " \n",
       ">                            RowBox[List[\"x\", \",\", \"x\"]]], \"\\\"(5)\\\"\"], \n",
       "\n",
       " \n",
       ">                          \"Superscript\", Rule[SyntaxForm, SuperscriptBox]]}], \")\"}]}\\\n",
       "\n",
       " \n",
       ">   ], \"+\", RowBox[{\"2\", \" \", RowBox[{\"cos\", \"(\", RowBox[{\"2\", \" \", \"ϕ\"}], \")\"}], \n",
       "\n",
       " \n",
       ">                     \" \", TemplateBox[List[SubscriptBox[OverscriptBox[\"f\", \"^\"], \n",
       "\n",
       " \n",
       ">                        RowBox[List[\"x\", \",\", \"y\"]]], \"\\\"(5)\\\"\"], \"Superscript\", \n",
       "\n",
       " \n",
       ">                      Rule[SyntaxForm, SuperscriptBox]]}]}], \")\"}]}]}}, \n",
       "\n",
       " \n",
       ">           Rule[RowSpacings, 1], Rule[ColumnAlignments, Center], \n",
       "\n",
       " \n",
       ">           Rule[ColumnAlignments, Left]], Column], \"⁠\", \")\"}], \n",
       "\n",
       " \n",
       ">       Function[BoxForm`e$, MatrixForm[BoxForm`e$]]], TraditionalForm]\n"
      ]
     },
     "execution_count": 1908,
     "metadata": {
      "text/html": [],
      "text/plain": []
     },
     "output_type": "execute_result"
    }
   ],
   "source": [
    "RHSEnegry = FullSimplify[Transform . RHSMotion, Trig -> True];\n",
    "RHSEnegry // MatrixForm // TraditionalForm"
   ]
  },
  {
   "cell_type": "markdown",
   "metadata": {},
   "source": [
    "## **Другой Способ** получения уравнений движения и энергетических уравнений через лагранжев формализм в полярных координатах"
   ]
  },
  {
   "cell_type": "markdown",
   "metadata": {},
   "source": [
    "### **Лагранжиан системы**\n",
    "Лагранжиан $L$ в полярных координатах $(r, \\phi)$ выражается как:\n",
    "$$\n",
    "L = T - (U + \\mu\\Phi),\n",
    "$$\n",
    "где:\n",
    "- $T$ — кинетическая энергия,\n",
    "- $U$ — потенциальная энергия\n",
    "- $\\Phi = \\frac{1}{5}f_{ij}^{(5)}r_i r_j = \\frac{\\epsilon_G}{2}\\frac{b^2}{t_0^2}\\hat{f}_{ij}^{(5)}\\hat{r}_i \\hat{r}_j = \\frac{5}{2}\\epsilon_G\\frac{GM}{b}\\hat{\\Phi}$ - малый потенциал \"реакции излучения\""
   ]
  },
  {
   "cell_type": "markdown",
   "metadata": {},
   "source": [
    "Безразмерный малый потенциал \"реакции излучения\" $\\hat{\\Phi} = \\frac{1}{5}\\hat{f}_{ij}^{(5)}\\hat{r}_i\\hat{r}_j$"
   ]
  },
  {
   "cell_type": "code",
   "execution_count": 1910,
   "metadata": {
    "vscode": {
     "languageId": "wolfram"
    }
   },
   "outputs": [
    {
     "data": {
      "text/html": [
       "<div><img alt=\"Output\" src=\"data:image/png;base64,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\"></div>"
      ],
      "text/plain": [
       "FormBox[RowBox[{FractionBox[\"1\", \"5\"], \" \", \n",
       "\n",
       " \n",
       ">        RowBox[{\"(\", RowBox[{RowBox[{OverscriptBox[\"r\", \"^\"], \" \", \n",
       "\n",
       " \n",
       ">              RowBox[{\"cos\", \"(\", \"ϕ\", \")\"}], \" \", \n",
       "\n",
       " \n",
       ">              RowBox[{\"(\", RowBox[{RowBox[{OverscriptBox[\"r\", \"^\"], \" \", \n",
       "\n",
       " \n",
       ">                    RowBox[{\"sin\", \"(\", \"ϕ\", \")\"}], \" \", \n",
       "\n",
       " \n",
       ">                    TemplateBox[List[SubscriptBox[OverscriptBox[\"f\", \"^\"], \n",
       "\n",
       " \n",
       ">                       RowBox[List[\"x\", \",\", \"y\"]]], \"\\\"(5)\\\"\"], \"Superscript\", \n",
       "\n",
       " \n",
       ">                     Rule[SyntaxForm, SuperscriptBox]]}], \"+\", \n",
       "\n",
       " \n",
       ">                  RowBox[{OverscriptBox[\"r\", \"^\"], \" \", \n",
       "\n",
       " \n",
       ">                    RowBox[{\"cos\", \"(\", \"ϕ\", \")\"}], \" \", \n",
       "\n",
       " \n",
       ">                    TemplateBox[List[SubscriptBox[OverscriptBox[\"f\", \"^\"], \n",
       "\n",
       " \n",
       ">                       RowBox[List[\"x\", \",\", \"x\"]]], \"\\\"(5)\\\"\"], \"Superscript\", \n",
       "\n",
       " \n",
       ">                     Rule[SyntaxForm, SuperscriptBox]]}]}], \")\"}]}], \"+\", \n",
       "\n",
       " \n",
       ">            RowBox[{OverscriptBox[\"r\", \"^\"], \" \", RowBox[{\"sin\", \"(\", \"ϕ\", \")\"}], \" \", \n",
       "\n",
       " \n",
       ">              RowBox[{\"(\", RowBox[{RowBox[{OverscriptBox[\"r\", \"^\"], \" \", \n",
       "\n",
       " \n",
       ">                    RowBox[{\"cos\", \"(\", \"ϕ\", \")\"}], \" \", \n",
       "\n",
       " \n",
       ">                    TemplateBox[List[SubscriptBox[OverscriptBox[\"f\", \"^\"], \n",
       "\n",
       " \n",
       ">                       RowBox[List[\"x\", \",\", \"y\"]]], \"\\\"(5)\\\"\"], \"Superscript\", \n",
       "\n",
       " \n",
       ">                     Rule[SyntaxForm, SuperscriptBox]]}], \"+\", \n",
       "\n",
       " \n",
       ">                  RowBox[{OverscriptBox[\"r\", \"^\"], \" \", RowBox[{\"sin\", \"(\", \"ϕ\", \")\"}],\\\n",
       " \n",
       ">    \n",
       "                 \" \", TemplateBox[List[SubscriptBox[OverscriptBox[\"f\", \"^\"], \n",
       "\n",
       " \n",
       ">                       RowBox[List[\"y\", \",\", \"y\"]]], \"\\\"(5)\\\"\"], \"Superscript\", \n",
       "\n",
       " \n",
       ">                     Rule[SyntaxForm, SuperscriptBox]]}]}], \")\"}]}]}], \")\"}]}], \n",
       "\n",
       " \n",
       ">      TraditionalForm]\n"
      ]
     },
     "execution_count": 1910,
     "metadata": {
      "text/html": [],
      "text/plain": []
     },
     "output_type": "execute_result"
    }
   ],
   "source": [
    "fh5rhrh = 1/5 EinsteinSummation[{{i, j}, {i}, {j}}, {fh5, rh, rh}];\n",
    "fh5rhrh // TraditionalForm"
   ]
  },
  {
   "cell_type": "markdown",
   "metadata": {},
   "source": [
    "Безразмерный лагранжиан\n",
    "\n",
    "$$\n",
    "\\hat{L} = \\hat{T} - (\\hat{U} + \\frac{5}{2}\\epsilon_G\\hat{\\Phi}),\n",
    "$$\n",
    "или\n",
    "$$\n",
    "\\hat{L} = \\frac{1}{2} \\left((\\hat{r}^{(1)})^2 + \\hat{r}^2 \\hat{\\omega}^2 \\right) + \\frac{1}{\\hat{r}} - \\frac{\\epsilon_G}{2}\\hat{f}_{ij}^{(5)}\\hat{r}_i \\hat{r}_j.\n",
    "$$"
   ]
  },
  {
   "cell_type": "markdown",
   "metadata": {},
   "source": [
    "### **Уравнения Эйлера-Лагранжа**\n",
    "Уравнения Эйлера-Лагранжа имеют вид:\n",
    "$$\n",
    "\\frac{d}{dt} \\left( \\frac{\\partial \\hat{L}}{\\partial \\dot{q}_i} \\right) - \\frac{\\partial \\hat{L}}{\\partial q_i} = 0,\n",
    "$$\n",
    "где $q_i$ — обобщённые координаты ($\\hat{r}$ и $\\phi$)."
   ]
  },
  {
   "cell_type": "markdown",
   "metadata": {},
   "source": [
    "---\n",
    "\n",
    "#### Уравнение для координаты $\\hat{r}$:\n",
    "$$\n",
    "\\frac{d}{d\\hat{t}} \\left(\\frac{\\partial \\hat{L}}{\\partial \\hat{r}^{(1)}} \\right) - \\frac{\\partial \\hat{L}}{\\partial \\hat{r}} = 0.\n",
    "$$\n",
    "Вычислим производные:\n",
    "$$\n",
    "\\frac{\\partial \\hat{L}}{\\partial \\hat{r}^{(1)}} = \\hat{r}^{(1)}, \\quad \\frac{d}{d\\hat{t}} \\left( \\frac{\\partial \\hat{L}}{\\partial \\hat{r}^{(1)}} \\right) = \\hat{r}^{(2)},\n",
    "$$\n",
    "$$\n",
    "\\frac{\\partial \\hat{L}}{\\partial \\hat{r}} = \\hat{r} \\hat{\\omega}^2 - \\frac{1}{\\hat{r}^2} - \\frac{5}{2}\\epsilon_G\\frac{\\partial \\hat{\\Phi}}{\\partial \\hat{r}}.\n",
    "$$\n",
    "Подставляем в уравнение Эйлера-Лагранжа:\n",
    "$$\n",
    "\\hat{r}^{(2)} - \\hat{r} \\hat{\\omega}^2 + \\frac{1}{\\hat{r}^2} = - \\frac{5}{2}\\epsilon_G\\frac{\\partial \\hat{\\Phi}}{\\partial \\hat{r}}.\n",
    "$$\n",
    "\n",
    "Это **радиальное уравнение движения**.\n",
    "\n",
    "Здесь \n",
    "$$\n",
    "\\frac{\\partial \\hat{\\Phi}}{\\partial \\hat{r}} = \\frac{1}{5}\\hat{f}_{ij}^{(5)}\\left(\\frac{\\partial \\hat{r}_i}{\\partial \\hat{r}}\\hat{r}_j + \\hat{r}_i\\frac{\\partial \\hat{r}_j}{\\partial \\hat{r}}\\right)\n",
    "$$"
   ]
  },
  {
   "cell_type": "markdown",
   "metadata": {},
   "source": [
    "Правая часть радиального уравнения движения будет выглядеть как"
   ]
  },
  {
   "cell_type": "code",
   "execution_count": 1912,
   "metadata": {
    "vscode": {
     "languageId": "wolfram"
    }
   },
   "outputs": [
    {
     "data": {
      "text/html": [
       "<div><img alt=\"Output\" src=\"data:image/png;base64,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\"></div>"
      ],
      "text/plain": [
       "FormBox[RowBox[{OverscriptBox[\"r\", \"^\"], \" \", \n",
       "\n",
       " \n",
       ">        RowBox[{\"(\", RowBox[{\"-\", SubscriptBox[\"ϵ\", \"G\"]}], \")\"}], \" \", \n",
       "\n",
       " \n",
       ">        RowBox[{\"(\", RowBox[{RowBox[{RowBox[{\"sin\", \"(\", RowBox[{\"2\", \" \", \"ϕ\"}], \n",
       "\n",
       " \n",
       ">                \")\"}], \" \", TemplateBox[List[SubscriptBox[OverscriptBox[\"f\", \"^\"], \n",
       "\n",
       " \n",
       ">                 RowBox[List[\"x\", \",\", \"y\"]]], \"\\\"(5)\\\"\"], \"Superscript\", \n",
       "\n",
       " \n",
       ">               Rule[SyntaxForm, SuperscriptBox]]}], \"+\", \n",
       "\n",
       " \n",
       ">            RowBox[{RowBox[{SuperscriptBox[\"cos\", \"2\"], \"(\", \"ϕ\", \")\"}], \" \", \n",
       "\n",
       " \n",
       ">              TemplateBox[List[SubscriptBox[OverscriptBox[\"f\", \"^\"], \n",
       "\n",
       " \n",
       ">                 RowBox[List[\"x\", \",\", \"x\"]]], \"\\\"(5)\\\"\"], \"Superscript\", \n",
       "\n",
       " \n",
       ">               Rule[SyntaxForm, SuperscriptBox]]}], \"+\", \n",
       "\n",
       " \n",
       ">            RowBox[{RowBox[{SuperscriptBox[\"sin\", \"2\"], \"(\", \"ϕ\", \")\"}], \" \", \n",
       "\n",
       " \n",
       ">              TemplateBox[List[SubscriptBox[OverscriptBox[\"f\", \"^\"], \n",
       "\n",
       " \n",
       ">                 RowBox[List[\"y\", \",\", \"y\"]]], \"\\\"(5)\\\"\"], \"Superscript\", \n",
       "\n",
       " \n",
       ">               Rule[SyntaxForm, SuperscriptBox]]}]}], \")\"}]}], TraditionalForm]\n"
      ]
     },
     "execution_count": 1912,
     "metadata": {
      "text/html": [],
      "text/plain": []
     },
     "output_type": "execute_result"
    }
   ],
   "source": [
    "RHSMotionRadialLagrange = - 1/2 Subscript[\\[Epsilon], G] FullSimplify[EinsteinSummation[{{i, j}, {i}, {j}}, {fh5, D[rh, OverHat[r][OverHat[t]]], rh}] + EinsteinSummation[{{i, j}, {i}, {j}}, {fh5, rh, D[rh, OverHat[r][OverHat[t]]]}]];\n",
    "RHSMotionRadialLagrange // TraditionalForm"
   ]
  },
  {
   "cell_type": "markdown",
   "metadata": {},
   "source": [
    "<span style=\"color:brown\">**NB:**</span> Выражение <span style=\"color:green\">**совпадает**</span> с раннее полученным уравнением и с уравнением (10) из файла Binary.pdf"
   ]
  },
  {
   "cell_type": "code",
   "execution_count": 1913,
   "metadata": {
    "vscode": {
     "languageId": "wolfram"
    }
   },
   "outputs": [
    {
     "data": {
      "text/html": [
       "<div><pre style=\"&#102;&#111;&#110;&#116;&#45;&#102;&#97;&#109;&#105;&#108;&#121;&#58;&#32;&#34;&#67;&#111;&#117;&#114;&#105;&#101;&#114;&#32;&#78;&#101;&#119;&#34;&#44;&#67;&#111;&#117;&#114;&#105;&#101;&#114;&#44;&#109;&#111;&#110;&#111;&#115;&#112;&#97;&#99;&#101;&#59;\">&#48;</pre></div>"
      ],
      "text/plain": [
       "0"
      ]
     },
     "execution_count": 1913,
     "metadata": {
      "text/html": [],
      "text/plain": []
     },
     "output_type": "execute_result"
    }
   ],
   "source": [
    "RHSMotion[[1]] - RHSMotionRadialLagrange"
   ]
  },
  {
   "cell_type": "markdown",
   "metadata": {},
   "source": [
    "---\n",
    "\n",
    "#### Уравнение для координаты $\\phi$:\n",
    "$$\n",
    "\\frac{d}{d\\hat{t}} \\left(\\frac{\\partial \\hat{L}}{\\partial \\hat{\\omega}} \\right) - \\frac{\\partial \\hat{L}}{\\partial \\phi} = 0.\n",
    "$$\n",
    "Вычислим производные:\n",
    "$$\n",
    "\\frac{\\partial \\hat{L}}{\\partial \\hat{\\omega}} = \\hat{r}^2 \\hat{\\omega}, \\quad \\frac{d}{d\\hat{t}} \\left( \\frac{\\partial \\hat{L}}{\\partial \\hat{\\omega}} \\right) = \\frac{d}{d\\hat{t}} \\left( \\hat{r}^2 \\hat{\\omega} \\right),\n",
    "$$\n",
    "$$\n",
    "\\frac{\\partial \\hat{L}}{\\partial \\phi} = - \\frac{5}{2}\\epsilon_G\\frac{\\partial \\hat{\\Phi}}{\\partial \\phi}.\n",
    "$$\n",
    "Подставляем в уравнение Эйлера-Лагранжа:\n",
    "$$\n",
    "\\frac{1}{\\hat{r}}\\frac{d}{d\\hat{t}} \\left( \\hat{r}^2 \\hat{\\omega} \\right) = \\frac{1}{\\hat{r}}\\frac{d\\hat{J}}{d\\hat{t}} = - \\frac{5}{2}\\frac{\\epsilon_G}{\\hat{r}}\\frac{\\partial \\hat{\\Phi}}{\\partial \\phi}.\n",
    "$$\n",
    "\n",
    "Здесь \n",
    "$$\n",
    "\\frac{\\partial \\hat{\\Phi}}{\\partial \\phi} = \\frac{1}{5}\\hat{f}_{ij}^{(5)}\\left(\\frac{\\partial \\hat{r}_i}{\\partial \\phi}\\hat{r}_j + \\hat{r}_i\\frac{\\partial \\hat{r}_j}{\\partial \\phi}\\right)\n",
    "$$"
   ]
  },
  {
   "cell_type": "markdown",
   "metadata": {},
   "source": [
    "Правая часть уравнения движения для $\\phi$ будет выглядеть как"
   ]
  },
  {
   "cell_type": "code",
   "execution_count": 1915,
   "metadata": {
    "vscode": {
     "languageId": "wolfram"
    }
   },
   "outputs": [
    {
     "data": {
      "text/html": [
       "<div><img alt=\"Output\" src=\"data:image/png;base64,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\"></div>"
      ],
      "text/plain": [
       "FormBox[RowBox[{RowBox[{\"-\", FractionBox[\"1\", \"2\"]}], \" \", OverscriptBox[\"r\", \"^\"], \n",
       "\n",
       " \n",
       ">        \" \", SubscriptBox[\"ϵ\", \"G\"], \" \", \n",
       "\n",
       " \n",
       ">        RowBox[{\"(\", RowBox[{RowBox[{RowBox[{\"sin\", \"(\", RowBox[{\"2\", \" \", \"ϕ\"}], \n",
       "\n",
       " \n",
       ">                \")\"}], \" \", RowBox[{\"(\", \n",
       "\n",
       " \n",
       ">                RowBox[{TemplateBox[List[SubscriptBox[OverscriptBox[\"f\", \"^\"], \n",
       "\n",
       " \n",
       ">                     RowBox[List[\"y\", \",\", \"y\"]]], \"\\\"(5)\\\"\"], \"Superscript\", \n",
       "\n",
       " \n",
       ">                   Rule[SyntaxForm, SuperscriptBox]], \"-\", \n",
       "\n",
       " \n",
       ">                  TemplateBox[List[SubscriptBox[OverscriptBox[\"f\", \"^\"], \n",
       "\n",
       " \n",
       ">                     RowBox[List[\"x\", \",\", \"x\"]]], \"\\\"(5)\\\"\"], \"Superscript\", \n",
       "\n",
       " \n",
       ">                   Rule[SyntaxForm, SuperscriptBox]]}], \")\"}]}], \"+\", \n",
       "\n",
       " \n",
       ">            RowBox[{\"2\", \" \", RowBox[{\"cos\", \"(\", RowBox[{\"2\", \" \", \"ϕ\"}], \")\"}], \" \", \n",
       "\n",
       " \n",
       ">              TemplateBox[List[SubscriptBox[OverscriptBox[\"f\", \"^\"], \n",
       "\n",
       " \n",
       ">                 RowBox[List[\"x\", \",\", \"y\"]]], \"\\\"(5)\\\"\"], \"Superscript\", \n",
       "\n",
       " \n",
       ">               Rule[SyntaxForm, SuperscriptBox]]}]}], \")\"}]}], TraditionalForm]\n"
      ]
     },
     "execution_count": 1915,
     "metadata": {
      "text/html": [],
      "text/plain": []
     },
     "output_type": "execute_result"
    }
   ],
   "source": [
    "RHSMotionPhiLagrange = - 1/2 Subscript[\\[Epsilon], G] FullSimplify[EinsteinSummation[{{i, j}, {i}, {j}}, {fh5, D[rh, \\[Phi][OverHat[t]]], rh}] + EinsteinSummation[{{i, j}, {i}, {j}}, {fh5, rh, D[rh, \\[Phi][OverHat[t]]]}]]/OverHat[r][OverHat[t]];\n",
    "RHSMotionPhiLagrange // TraditionalForm"
   ]
  },
  {
   "cell_type": "markdown",
   "metadata": {},
   "source": [
    "<span style=\"color:brown\">**NB:**</span> Выражение <span style=\"color:green\">**совпадает**</span> с раннее полученным уравнением и с уравнением (9) из файла Binary.pdf"
   ]
  },
  {
   "cell_type": "code",
   "execution_count": 1916,
   "metadata": {
    "vscode": {
     "languageId": "wolfram"
    }
   },
   "outputs": [
    {
     "data": {
      "text/html": [
       "<div><pre style=\"&#102;&#111;&#110;&#116;&#45;&#102;&#97;&#109;&#105;&#108;&#121;&#58;&#32;&#34;&#67;&#111;&#117;&#114;&#105;&#101;&#114;&#32;&#78;&#101;&#119;&#34;&#44;&#67;&#111;&#117;&#114;&#105;&#101;&#114;&#44;&#109;&#111;&#110;&#111;&#115;&#112;&#97;&#99;&#101;&#59;\">&#48;</pre></div>"
      ],
      "text/plain": [
       "0"
      ]
     },
     "execution_count": 1916,
     "metadata": {
      "text/html": [],
      "text/plain": []
     },
     "output_type": "execute_result"
    }
   ],
   "source": [
    "RHSMotion[[2]] - RHSMotionPhiLagrange"
   ]
  },
  {
   "cell_type": "markdown",
   "metadata": {},
   "source": [
    "## Получим **энергетическую** систему уравнений в подходе Лагранжа"
   ]
  },
  {
   "cell_type": "markdown",
   "metadata": {},
   "source": [
    "Заметим, что энергия системы:\n",
    "$$\n",
    "\\hat{E} = \\frac{(\\hat{r}^{(1)})^2}{2} + \\frac{\\hat{r}^2 \\hat{\\omega}^2}{2} - \\frac{1}{\\hat{r}}\n",
    "$$\n",
    "$$\n",
    "\\frac{1}{\\hat{r}^{(1)}}\\left(\\frac{d\\hat{E}}{d\\hat{t}} - \\hat{\\omega} \\frac{d\\hat{J}}{d\\hat{t}}\\right) = \\hat{r}^{(2)} - \\hat{r} \\hat{\\omega}^2 + \\frac{1}{\\hat{r}^2}\n",
    "$$\n",
    "\n",
    "А также уравнение для изменения момента импульса системы есть\n",
    "$$\n",
    "\\frac{d\\hat{J}}{d\\hat{t}} = - \\frac{5}{2}\\epsilon_G\\frac{\\partial \\hat{\\Phi}}{\\partial \\phi}.\n",
    "$$\n",
    "\n",
    "Итоговая энергетическая система, выведенная по-новому будет записываться как:\n",
    "\n",
    "$$\n",
    "\\begin{align}\n",
    "\\frac{d\\hat{E}}{d\\hat{t}} &= - \\frac{5}{2}\\epsilon_G\\left(\\hat{r}^{(1)}\\frac{\\partial \\hat{\\Phi}}{\\partial \\hat{r}} + \\hat{\\omega} \\frac{\\partial \\hat{\\Phi}}{\\partial \\phi}\\right)\n",
    "  = - \\frac{\\epsilon_G}{2}\\hat{f}_{ij}^{(5)}\\left(\\frac{d\\hat{r}_i}{d\\hat{t}}\\hat{r}_j + \\hat{r}_i\\frac{d\\hat{r}_j}{d\\hat{t}}\\right)\n",
    "  = - \\frac{\\epsilon_G}{2}\\hat{f}_{ij}^{(5)}\\frac{d(\\hat{r}_i \\hat{r}_j)}{d\\hat{t}}\n",
    "\\\\\n",
    "\\frac{d\\hat{J}}{d\\hat{t}} &= - \\frac{5}{2}\\epsilon_G\\frac{\\partial \\hat{\\Phi}}{\\partial \\phi}\n",
    "  = - \\frac{\\epsilon_G}{2}\\hat{f}_{ij}^{(5)}\\left(\\frac{\\partial \\hat{r}_i}{\\partial \\phi}\\hat{r}_j + \\hat{r}_i\\frac{\\partial \\hat{r}_j}{\\partial \\phi}\\right)\n",
    "  = - \\frac{\\epsilon_G}{2}\\hat{f}_{ij}^{(5)}\\frac{d(\\hat{r}_i \\hat{r}_j)}{d\\phi}\n",
    "\\end{align}\n",
    "$$"
   ]
  },
  {
   "cell_type": "code",
   "execution_count": 1918,
   "metadata": {
    "vscode": {
     "languageId": "wolfram"
    }
   },
   "outputs": [
    {
     "data": {
      "text/html": [
       "<div><img alt=\"Output\" src=\"data:image/png;base64,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\"></div>"
      ],
      "text/plain": [
       "FormBox[TagBox[RowBox[{\"(\", \"⁠\", \n",
       "\n",
       " \n",
       ">         TagBox[GridBox[{{RowBox[{OverscriptBox[\"r\", \"^\"], \" \", \n",
       "\n",
       " \n",
       ">               RowBox[{\"(\", RowBox[{\"-\", SubscriptBox[\"ϵ\", \"G\"]}], \")\"}], \" \", \n",
       "\n",
       " \n",
       ">               RowBox[{\"(\", RowBox[{RowBox[{OverscriptBox[\"r\", \"^\"], \" \", \n",
       "\n",
       " \n",
       ">                     OverscriptBox[\"ω\", \"^\"], \" \", \n",
       "\n",
       " \n",
       ">                     RowBox[{\"(\", RowBox[{RowBox[{RowBox[{\"cos\", \"(\", \n",
       "\n",
       " \n",
       ">                             RowBox[{\"2\", \" \", \"ϕ\"}], \")\"}], \" \", \n",
       "\n",
       " \n",
       ">                           TemplateBox[List[SubscriptBox[OverscriptBox[\"f\", \n",
       "\n",
       " \n",
       ">                             \"^\"], RowBox[List[\"x\", \",\", \"y\"]]], \"\\\"(5)\\\"\"], \n",
       "\n",
       " \n",
       ">                            \"Superscript\", Rule[SyntaxForm, SuperscriptBox]]}], \n",
       "\n",
       " \n",
       ">                         \"+\", RowBox[{RowBox[{\"sin\", \"(\", \"ϕ\", \")\"}], \" \", \n",
       "\n",
       " \n",
       ">                           RowBox[{\"cos\", \"(\", \"ϕ\", \")\"}], \" \", \n",
       "\n",
       " \n",
       ">                           RowBox[{\"(\", \n",
       "\n",
       " \n",
       ">                             RowBox[{TemplateBox[List[SubscriptBox[\n",
       "\n",
       " \n",
       ">                             OverscriptBox[\"f\", \"^\"], \n",
       "\n",
       " \n",
       ">                             RowBox[List[\"y\", \",\", \"y\"]]], \"\\\"(5)\\\"\"], \n",
       "\n",
       " \n",
       ">                             \"Superscript\", Rule[SyntaxForm, SuperscriptBox]], \n",
       "\n",
       " \n",
       ">                              \"-\", \n",
       "\n",
       " \n",
       ">                              TemplateBox[List[SubscriptBox[OverscriptB\\\n",
       "\n",
       " \n",
       ">   ox[\"f\", \"^\"], RowBox[List[\"x\", \",\", \"x\"]]], \"\\\"(5)\\\"\"], \"Superscript\", \n",
       "\n",
       " \n",
       ">                              Rule[SyntaxForm, SuperscriptBox]]}], \")\"}]}]}], \")\"}]\\\n",
       "\n",
       " \n",
       ">   }], \"+\", RowBox[{SuperscriptBox[OverscriptBox[\"r\", \"^\"], \"′\"], \" \", \n",
       "\n",
       " \n",
       ">                     RowBox[{\"(\", RowBox[{RowBox[{RowBox[{\"sin\", \"(\", \n",
       "\n",
       " \n",
       ">                             RowBox[{\"2\", \" \", \"ϕ\"}], \")\"}], \" \", \n",
       "\n",
       " \n",
       ">                           TemplateBox[List[SubscriptBox[OverscriptBox[\"f\", \n",
       "\n",
       " \n",
       ">                             \"^\"], RowBox[List[\"x\", \",\", \"y\"]]], \"\\\"(5)\\\"\"], \n",
       "\n",
       " \n",
       ">                            \"Superscript\", Rule[SyntaxForm, SuperscriptBox]]}], \n",
       "\n",
       " \n",
       ">                         \"+\", RowBox[{RowBox[{SuperscriptBox[\"cos\", \"2\"], \"(\", \n",
       "\n",
       " \n",
       ">                             \"ϕ\", \")\"}], \" \", \n",
       "\n",
       " \n",
       ">                           TemplateBox[List[SubscriptBox[OverscriptBox[\"f\", \n",
       "\n",
       " \n",
       ">                             \"^\"], RowBox[List[\"x\", \",\", \"x\"]]], \"\\\"(5)\\\"\"], \n",
       "\n",
       " \n",
       ">                            \"Superscript\", Rule[SyntaxForm, SuperscriptBox]]}], \n",
       "\n",
       " \n",
       ">                         \"+\", RowBox[{RowBox[{SuperscriptBox[\"sin\", \"2\"], \"(\", \n",
       "\n",
       " \n",
       ">                             \"ϕ\", \")\"}], \" \", \n",
       "\n",
       " \n",
       ">                           TemplateBox[List[SubscriptBox[OverscriptBox[\"f\", \n",
       "\n",
       " \n",
       ">                             \"^\"], RowBox[List[\"y\", \",\", \"y\"]]], \"\\\"(5)\\\"\"], \n",
       "\n",
       " \n",
       ">                            \"Superscript\", Rule[SyntaxForm, SuperscriptBox]]}]}], \n",
       "\n",
       " \n",
       ">                       \")\"}]}]}], \")\"}]}]}, \n",
       "\n",
       " \n",
       ">            {RowBox[{RowBox[{\"-\", FractionBox[\"1\", \"2\"]}], \" \", \n",
       "\n",
       " \n",
       ">               SuperscriptBox[OverscriptBox[\"r\", \"^\"], \"2\"], \" \", \n",
       "\n",
       " \n",
       ">               SubscriptBox[\"ϵ\", \"G\"], \" \", \n",
       "\n",
       " \n",
       ">               RowBox[{\"(\", RowBox[{RowBox[{RowBox[{\"sin\", \"(\", \n",
       "\n",
       " \n",
       ">                       RowBox[{\"2\", \" \", \"ϕ\"}], \")\"}], \" \", \n",
       "\n",
       " \n",
       ">                     RowBox[{\"(\", RowBox[{TemplateBox[List[SubscriptBox[\n",
       "\n",
       " \n",
       ">                            OverscriptBox[\"f\", \"^\"], \n",
       "\n",
       " \n",
       ">                            RowBox[List[\"y\", \",\", \"y\"]]], \"\\\"(5)\\\"\"], \n",
       "\n",
       " \n",
       ">                          \"Superscript\", Rule[SyntaxForm, SuperscriptBox]], \"-\", \n",
       "\n",
       " \n",
       ">                         TemplateBox[List[SubscriptBox[OverscriptBox[\"f\", \"^\"], \n",
       "\n",
       " \n",
       ">                            RowBox[List[\"x\", \",\", \"x\"]]], \"\\\"(5)\\\"\"], \n",
       "\n",
       " \n",
       ">                          \"Superscript\", Rule[SyntaxForm, SuperscriptBox]]}], \")\"}]}\\\n",
       "\n",
       " \n",
       ">   ], \"+\", RowBox[{\"2\", \" \", RowBox[{\"cos\", \"(\", RowBox[{\"2\", \" \", \"ϕ\"}], \")\"}], \n",
       "\n",
       " \n",
       ">                     \" \", TemplateBox[List[SubscriptBox[OverscriptBox[\"f\", \"^\"], \n",
       "\n",
       " \n",
       ">                        RowBox[List[\"x\", \",\", \"y\"]]], \"\\\"(5)\\\"\"], \"Superscript\", \n",
       "\n",
       " \n",
       ">                      Rule[SyntaxForm, SuperscriptBox]]}]}], \")\"}]}]}}, \n",
       "\n",
       " \n",
       ">           Rule[RowSpacings, 1], Rule[ColumnAlignments, Center], \n",
       "\n",
       " \n",
       ">           Rule[ColumnAlignments, Left]], Column], \"⁠\", \")\"}], \n",
       "\n",
       " \n",
       ">       Function[BoxForm`e$, MatrixForm[BoxForm`e$]]], TraditionalForm]\n"
      ]
     },
     "execution_count": 1918,
     "metadata": {
      "text/html": [],
      "text/plain": []
     },
     "output_type": "execute_result"
    }
   ],
   "source": [
    "RHSEnegryLagrange = - 5/2 Subscript[\\[Epsilon],G] FullSimplify[{\n",
    "  D[fh5rhrh, OverHat[t]] /. OmegaReplace,\n",
    "  D[fh5rhrh, \\[Phi][OverHat[t]]]\n",
    "}, Trig -> True];\n",
    "\n",
    "RHSEnegryLagrange // MatrixForm // TraditionalForm"
   ]
  },
  {
   "cell_type": "markdown",
   "metadata": {},
   "source": [
    "<span style=\"color:brown\">**NB:**</span> Выражения полностью <span style=\"color:green\">**совпадают**</span> с предыдущим ньютоновым подходом!"
   ]
  },
  {
   "cell_type": "code",
   "execution_count": 1919,
   "metadata": {
    "vscode": {
     "languageId": "wolfram"
    }
   },
   "outputs": [
    {
     "data": {
      "text/html": [
       "<div><img alt=\"Output\" src=\"data:image/png;base64,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\"></div>"
      ],
      "text/plain": [
       "0\n",
       "\n",
       "0"
      ]
     },
     "execution_count": 1919,
     "metadata": {
      "text/html": [],
      "text/plain": []
     },
     "output_type": "execute_result"
    }
   ],
   "source": [
    "FullSimplify[RHSEnegryLagrange - RHSEnegry] // MatrixForm"
   ]
  },
  {
   "cell_type": "markdown",
   "metadata": {},
   "source": [
    "В **размерной** же записи наши уравнения превращаются в\n",
    "$$\n",
    "\\begin{align}\n",
    "\\frac{dE}{dt} &=\n",
    "  = - \\frac{1}{5}f_{ij}^{(5)} \\mu \\frac{d(r_i r_j)}{dt}\n",
    "  = - \\frac{1}{5}\\frac{c^5}{G}f_{ij}^{(5)} \\frac{d}{dt}\\left(f_{ij} + \\frac{1}{3} \\delta_{ij}r^2\\right)\n",
    "  = - \\frac{1}{5}\\frac{c^5}{G}f_{ij}^{(5)} \\frac{df_{ij}}{dt}\n",
    "\\\\\n",
    "\\frac{dJ}{dt} &=\n",
    "  = - \\frac{1}{5}f_{ij}^{(5)} \\mu \\frac{d(r_i r_j)}{d\\phi}\n",
    "  = - \\frac{1}{5}\\frac{c^5}{G}f_{ij}^{(5)} \\frac{d}{d\\phi}\\left(f_{ij} + \\frac{1}{3} \\delta_{ij}r^2\\right)\n",
    "  = - \\frac{1}{5}\\frac{c^5}{G}f_{ij}^{(5)} \\frac{df_{ij}}{d\\phi}\n",
    "  = - \\frac{2}{5}\\frac{c^5}{G}\\epsilon_{ij}f_{ik}^{(5)} f_{kj}\n",
    "\\end{align}\n",
    "$$\n",
    "\n",
    "Здесь учтено, что квадрупольный момент бесследовый\n",
    "$$\n",
    "\\begin{align}\n",
    "\\text{Tr}(f_{ij}) &= \\delta_{ij}f_{ij} = 0\n",
    "\\\\\n",
    "\\text{Tr}(f^{(5)}_{ij}) &= \\delta_{ij}f^{(5)}_{ij} = 0\n",
    "\\\\\n",
    "\\end{align}\n",
    "$$"
   ]
  },
  {
   "cell_type": "code",
   "execution_count": 1922,
   "metadata": {
    "vscode": {
     "languageId": "wolfram"
    }
   },
   "outputs": [
    {
     "data": {
      "text/html": [
       "<div><img alt=\"Output\" src=\"data:image/png;base64,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\"></div>"
      ],
      "text/plain": [
       "FormBox[RowBox[{RowBox[{\"-\", FractionBox[\"1\", \"5\"]}], \" \", \n",
       "\n",
       " \n",
       ">        SuperscriptBox[OverscriptBox[\"r\", \"^\"], \"2\"], \" \", \n",
       "\n",
       " \n",
       ">        RowBox[{\"(\", RowBox[{RowBox[{RowBox[{\"sin\", \"(\", RowBox[{\"2\", \" \", \"ϕ\"}], \n",
       "\n",
       " \n",
       ">                \")\"}], \" \", RowBox[{\"(\", \n",
       "\n",
       " \n",
       ">                RowBox[{TemplateBox[List[SubscriptBox[OverscriptBox[\"f\", \"^\"], \n",
       "\n",
       " \n",
       ">                     RowBox[List[\"x\", \",\", \"x\"]]], \"\\\"(5)\\\"\"], \"Superscript\", \n",
       "\n",
       " \n",
       ">                   Rule[SyntaxForm, SuperscriptBox]], \"-\", \n",
       "\n",
       " \n",
       ">                  TemplateBox[List[SubscriptBox[OverscriptBox[\"f\", \"^\"], \n",
       "\n",
       " \n",
       ">                     RowBox[List[\"y\", \",\", \"y\"]]], \"\\\"(5)\\\"\"], \"Superscript\", \n",
       "\n",
       " \n",
       ">                   Rule[SyntaxForm, SuperscriptBox]]}], \")\"}]}], \"-\", \n",
       "\n",
       " \n",
       ">            RowBox[{\"2\", \" \", RowBox[{\"cos\", \"(\", RowBox[{\"2\", \" \", \"ϕ\"}], \")\"}], \" \", \n",
       "\n",
       " \n",
       ">              TemplateBox[List[SubscriptBox[OverscriptBox[\"f\", \"^\"], \n",
       "\n",
       " \n",
       ">                 RowBox[List[\"x\", \",\", \"y\"]]], \"\\\"(5)\\\"\"], \"Superscript\", \n",
       "\n",
       " \n",
       ">               Rule[SyntaxForm, SuperscriptBox]]}]}], \")\"}]}], TraditionalForm]\n"
      ]
     },
     "execution_count": 1922,
     "metadata": {
      "text/html": [],
      "text/plain": []
     },
     "output_type": "execute_result"
    }
   ],
   "source": [
    "(* Доказатество последнего равенства в уравнении для изменениия момента импульса *)\n",
    "leviCivitaArray = Normal[LeviCivitaTensor[2]];\n",
    "-2/5 FullSimplify[EinsteinSummation[{{i, j}, {i, k}, {k, j}}, {leviCivitaArray, fh5, fh}]] // TraditionalForm"
   ]
  },
  {
   "cell_type": "markdown",
   "metadata": {},
   "source": [
    "<span style=\"color:brown\">**NB:**</span> Выражения полностью <span style=\"color:green\">**совпадают**</span>\n",
    "с $dE/dt, dJ/dt$ из задачника Лайтман А., Пресс В., Прайс Р., Тюкольки С. - 1979 - Сборник задач по теории относительности и гравитации (Решение задачи 18.5, стр. 446-447)\n",
    "\n",
    "Не стоит забывать, что в задачнике система геометризированных единиц $G = c = 1$."
   ]
  },
  {
   "cell_type": "markdown",
   "metadata": {},
   "source": [
    "# Итоговая система **энергетических** уравнений:\n",
    "\n",
    "$$\n",
    "\\begin{align}\n",
    "\\tag{dJ/dt}\n",
    "\\frac{d\\hat{J}}{d\\hat{t}} &= -\\frac{1}{2} \\epsilon_G\n",
    "\\hat{r}^2\n",
    "\\left(\n",
    "  \\sin (2 \\phi ) \\left(\\hat{f}_{y,y}{}^{\\text{(5)}}-\\hat{f}_{x,x}{}^{\\text{(5)}}\\right)+2 \\cos (2 \\phi ) \\hat{f}_{x,y}{}^{\\text{(5)}}\n",
    "\\right)\n",
    "= \\epsilon_G I_J\n",
    "\\\\\n",
    "\\tag{dE/dt}\n",
    "\\frac{d\\hat{E}}{d\\hat{t}} &= \\epsilon_G\n",
    "\\left(\n",
    "  I_J\\hat{\\omega}\n",
    "  -\\hat{r} \\hat{r}'\n",
    "  \\left(\n",
    "  \\sin (2 \\phi ) \\hat{f}_{x,y}{}^{\\text{(5)}}+\\cos ^2(\\phi ) \\hat{f}_{x,x}{}^{\\text{(5)}}+\\sin ^2(\\phi ) \\hat{f}_{y,y}{}^{\\text{(5)}}\n",
    "  \\right)\n",
    "\\right)\n",
    "= \\epsilon_G I_E\n",
    "\\end{align}\n",
    "$$"
   ]
  },
  {
   "cell_type": "markdown",
   "metadata": {},
   "source": [
    "# RHS уравнения (dJ/dt)\n",
    "\n",
    "Введём новое обозначение $\\hat{r}^2 \\equiv \\hat{r}_2$"
   ]
  },
  {
   "cell_type": "code",
   "execution_count": 1923,
   "metadata": {
    "vscode": {
     "languageId": "wolfram"
    }
   },
   "outputs": [],
   "source": [
    "ToR2Replacement = {\n",
    "  OverHat[r][OverHat[t]] -> Sqrt[Subscript[OverHat[r],2][OverHat[t]]],\n",
    "  Derivative[n_][OverHat[r]][OverHat[t]] :> D[Sqrt[Subscript[OverHat[r], 2][OverHat[t]]], {OverHat[t], n}]\n",
    "};"
   ]
  },
  {
   "cell_type": "markdown",
   "metadata": {},
   "source": [
    "и подставим в (dJ/dt) значения $\\hat{f}_{i,j}^{(5)}$:"
   ]
  },
  {
   "cell_type": "code",
   "execution_count": 1929,
   "metadata": {
    "vscode": {
     "languageId": "wolfram"
    }
   },
   "outputs": [
    {
     "data": {
      "text/html": [
       "<div><img alt=\"Output\" src=\"data:image/png;base64,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\"></div>"
      ],
      "text/plain": [
       "FormBox[RowBox[{SubscriptBox[OverscriptBox[\"r\", \"^\"], \"2\"], \" \", \n",
       "\n",
       " \n",
       ">        RowBox[{\"(\", RowBox[{RowBox[{\"-\", \n",
       "\n",
       " \n",
       ">              RowBox[{\"5\", \" \", SuperscriptBox[SubscriptBox[OverscriptBox[\"r\", \"^\"], \n",
       "\n",
       " \n",
       ">                  \"2\"], \"′\"], \" \", SuperscriptBox[OverscriptBox[\"ω\", \"^\"], \"′′′\"]}]}], \n",
       "\n",
       " \n",
       ">            \"-\", RowBox[{\"10\", \" \", SuperscriptBox[SubscriptBox[OverscriptBox[\"r\", \n",
       "\n",
       " \n",
       ">                 \"^\"], \"2\"], \"′′′\"], \" \", SuperscriptBox[OverscriptBox[\"ω\", \"^\"],\\\n",
       " \n",
       ">    \"′\"]}]\\\n",
       ", \"+\", RowBox[{\"120\", \" \", SuperscriptBox[OverscriptBox[\"ω\", \"^\"], \"2\"], \"\\\n",
       " \n",
       ">    \", \n",
       "           SuperscriptBox[SubscriptBox[OverscriptBox[\"r\", \"^\"], \"2\"], \"′\"], \"\\\n",
       " \n",
       ">    \", \n",
       "           SuperscriptBox[OverscriptBox[\"ω\", \"^\"], \"′\"]}], \"+\", \n",
       "\n",
       " \n",
       ">            RowBox[{\"60\", \" \", SubscriptBox[OverscriptBox[\"r\", \"^\"], \"2\"], \" \", \n",
       "\n",
       " \n",
       ">              OverscriptBox[\"ω\", \"^\"], \" \", \n",
       "           SuperscriptBox[RowBox[{\"(\", \n",
       "\n",
       " \n",
       ">                 SuperscriptBox[OverscriptBox[\"ω\", \"^\"], \"′\"], \")\"}], \"2\"]}], \"+\", \n",
       "\n",
       " \n",
       ">            RowBox[{\"40\", \" \", SuperscriptBox[OverscriptBox[\"ω\", \"^\"], \"3\"], \" \", \n",
       "\n",
       " \n",
       ">              SuperscriptBox[SubscriptBox[OverscriptBox[\"r\", \"^\"], \"2\"], \"′′\"]}], \"+\", \n",
       "\n",
       " \n",
       ">            RowBox[{\"40\", \" \", SubscriptBox[OverscriptBox[\"r\", \"^\"], \"2\"], \" \", \n",
       "\n",
       " \n",
       ">              SuperscriptBox[OverscriptBox[\"ω\", \"^\"], \"2\"], \" \", \n",
       "\n",
       " \n",
       ">              SuperscriptBox[OverscriptBox[\"ω\", \"^\"], \"′′\"]}], \"-\", \n",
       "\n",
       " \n",
       ">            RowBox[{\"10\", \" \", SuperscriptBox[SubscriptBox[OverscriptBox[\"r\", \"^\"], \n",
       "\n",
       " \n",
       ">                \"2\"], \"′′\"], \" \", SuperscriptBox[OverscriptBox[\"ω\", \"^\"], \"′′\"]}], \"-\",\\\n",
       " \n",
       ">    \n",
       "         RowBox[{\"5\", \" \", OverscriptBox[\"ω\", \"^\"], \" \", \n",
       "\n",
       " \n",
       ">              SuperscriptBox[SubscriptBox[OverscriptBox[\"r\", \"^\"], \"2\"], \"′′′′\"]}],\\\n",
       " \n",
       ">    \"-\", \n",
       "         RowBox[{SubscriptBox[OverscriptBox[\"r\", \"^\"], \"2\"], \" \", \n",
       "\n",
       " \n",
       ">              SuperscriptBox[OverscriptBox[\"ω\", \"^\"], \"′′′′\"]}], \"-\", \n",
       "\n",
       " \n",
       ">            RowBox[{RowBox[{\"16\"}], \" \", SubscriptBox[OverscriptBox[\"r\", \"^\"], \"2\"], \n",
       "\n",
       " \n",
       ">              \" \", SuperscriptBox[OverscriptBox[\"ω\", \"^\"], \"5\"]}]}], \")\"}]}], \n",
       "\n",
       " \n",
       ">      TraditionalForm]\n"
      ]
     },
     "execution_count": 1929,
     "metadata": {
      "text/html": [],
      "text/plain": []
     },
     "output_type": "execute_result"
    }
   ],
   "source": [
    "fh1 = fh /. ToR2Replacement;\n",
    "fh5Symbolic = Simplify[D[fh1, {OverHat[t], 5}], Trig -> True];\n",
    "\n",
    "Fh5Replacement = Flatten[{\n",
    "  Outer[\n",
    "    Superscript[Subscript[OverHat[f], #1, #2], \"(5)\"] -> fh5Symbolic[[#1 /. {x -> 1, y -> 2}, #2 /. {x -> 1, y -> 2}]] &,\n",
    "    {x, y}, {x, y}\n",
    "  ],\n",
    "  ToR2Replacement,\n",
    "  OmegaReplace\n",
    "}];\n",
    "\n",
    "dJdtTemp = RHSEnegryLagrange[[2]] //. Fh5Replacement;\n",
    "dJdt = Subscript[OverHat[r],2][OverHat[t]]*Expand[Simplify[dJdtTemp/Subscript[\\[Epsilon], G], Trig -> True]/Subscript[OverHat[r],2][OverHat[t]]];\n",
    "dJdt // TraditionalForm"
   ]
  },
  {
   "cell_type": "markdown",
   "metadata": {},
   "source": [
    "<span style=\"color:brown\">**NB:**</span> В файле Binary.pdf выводится <span style=\"color:green\">**точно такое же**</span> выражение"
   ]
  },
  {
   "cell_type": "markdown",
   "metadata": {},
   "source": [
    "$$\n",
    "I_J = I_1 = \\hat{r}_2 \\left[ 120\\hat{r}_2^{(1)}\\hat{\\omega}^2\\hat{\\omega}^{(1)} - 5\\hat{r}_2^{(1)}\\hat{\\omega}^{(3)} - 16\\hat{r}_2\\hat{\\omega}^5 - 10\\hat{r}_2^{(2)}\\hat{\\omega}^{(2)} + 60\\hat{r}_2\\hat{\\omega}(\\hat{\\omega}^{(1)})^2\n",
    "- 10\\hat{r}_2^{(3)}\\hat{\\omega}^{(1)} + 40\\hat{r}_2^{(2)}\\hat{\\omega}^3 - 5\\hat{r}_2^{(4)}\\hat{\\omega} - \\hat{r}_2\\hat{\\omega}^{(4)} + 40\\hat{r}_2\\hat{\\omega}^2\\hat{\\omega}^{(2)} \\right]\n",
    "$$"
   ]
  },
  {
   "cell_type": "code",
   "execution_count": 1931,
   "metadata": {
    "vscode": {
     "languageId": "wolfram"
    }
   },
   "outputs": [
    {
     "data": {
      "text/html": [
       "<div><pre style=\"&#102;&#111;&#110;&#116;&#45;&#102;&#97;&#109;&#105;&#108;&#121;&#58;&#32;&#34;&#67;&#111;&#117;&#114;&#105;&#101;&#114;&#32;&#78;&#101;&#119;&#34;&#44;&#67;&#111;&#117;&#114;&#105;&#101;&#114;&#44;&#109;&#111;&#110;&#111;&#115;&#112;&#97;&#99;&#101;&#59;\">&#48;</pre></div>"
      ],
      "text/plain": [
       "0"
      ]
     },
     "execution_count": 1931,
     "metadata": {
      "text/html": [],
      "text/plain": []
     },
     "output_type": "execute_result"
    }
   ],
   "source": [
    "I1 = Subscript[OverHat[r], 2][OverHat[t]] * (\n",
    "    120 * Derivative[1][Subscript[OverHat[r], 2]][OverHat[t]] *\n",
    "    OverHat[\\[Omega]][OverHat[t]]^2 * Derivative[1][OverHat[\\[Omega]]][OverHat[t]]\n",
    "    - 5 * Derivative[1][Subscript[OverHat[r], 2]][OverHat[t]] *\n",
    "    Derivative[3][OverHat[\\[Omega]]][OverHat[t]]\n",
    "    - 16 * Subscript[OverHat[r], 2][OverHat[t]] *\n",
    "    OverHat[\\[Omega]][OverHat[t]]^5\n",
    "    - 10 * Derivative[2][Subscript[OverHat[r], 2]][OverHat[t]] *\n",
    "    Derivative[2][OverHat[\\[Omega]]][OverHat[t]]\n",
    "    + 60 * Subscript[OverHat[r], 2][OverHat[t]] *\n",
    "    OverHat[\\[Omega]][OverHat[t]] * Derivative[1][OverHat[\\[Omega]]][OverHat[t]]^2\n",
    "    - 10 * Derivative[3][Subscript[OverHat[r], 2]][OverHat[t]] *\n",
    "    Derivative[1][OverHat[\\[Omega]]][OverHat[t]]\n",
    "    + 40 * Derivative[2][Subscript[OverHat[r], 2]][OverHat[t]] *\n",
    "    OverHat[\\[Omega]][OverHat[t]]^3\n",
    "    - 5 * Derivative[4][Subscript[OverHat[r], 2]][OverHat[t]] *\n",
    "    OverHat[\\[Omega]][OverHat[t]]\n",
    "    - Subscript[OverHat[r], 2][OverHat[t]] *\n",
    "    Derivative[4][OverHat[\\[Omega]]][OverHat[t]]\n",
    "    + 40 * Subscript[OverHat[r], 2][OverHat[t]] *\n",
    "    OverHat[\\[Omega]][OverHat[t]]^2 * Derivative[2][OverHat[\\[Omega]]][OverHat[t]]\n",
    ");\n",
    "dJdt - I1"
   ]
  },
  {
   "cell_type": "markdown",
   "metadata": {},
   "source": [
    "# RHS уравнения (dE/dt)\n",
    "\n",
    "Подставим в (dE/dt) значения $\\hat{f}_{i,j}^{(5)}$:"
   ]
  },
  {
   "cell_type": "code",
   "execution_count": 1934,
   "metadata": {
    "vscode": {
     "languageId": "wolfram"
    }
   },
   "outputs": [
    {
     "data": {
      "text/html": [
       "<div><img alt=\"Output\" src=\"data:image/png;base64,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\"></div>"
      ],
      "text/plain": [
       "FormBox[RowBox[{FractionBox[\"1\", \"3\"], \" \", \n",
       "\n",
       " \n",
       ">        RowBox[{\"(\", RowBox[{RowBox[{OverscriptBox[\"ω\", \"^\"], \" \", \n",
       "\n",
       " \n",
       ">              RowBox[{\"(\", RowBox[{RowBox[{\"-\", \n",
       "\n",
       " \n",
       ">                    RowBox[{\"3\", \" \", SubscriptBox[OverscriptBox[\"r\", \"^\"], \"2\"], \n",
       "\n",
       " \n",
       ">                      \" \", RowBox[{\"(\", \n",
       "\n",
       " \n",
       ">                        RowBox[{RowBox[{\"10\", \" \", \n",
       "\n",
       " \n",
       ">                            SuperscriptBox[SubscriptBox[OverscriptBox[\"r\", \"^\"], \n",
       "\n",
       " \n",
       ">                              \"2\"], \"′′′\"], \" \", \n",
       "\n",
       " \n",
       ">                            SuperscriptBox[OverscriptBox[\"ω\", \"^\"], \"′\"]}], \"+\", \n",
       "\n",
       " \n",
       ">                          RowBox[{\"10\", \" \", \n",
       "\n",
       " \n",
       ">                            SuperscriptBox[SubscriptBox[OverscriptBox[\"r\", \"^\"], \n",
       "\n",
       " \n",
       ">                              \"2\"], \"′′\"], \" \", \n",
       "\n",
       " \n",
       ">                            SuperscriptBox[OverscriptBox[\"ω\", \"^\"], \"′′\"]}], \"+\", \n",
       "\n",
       " \n",
       ">                          RowBox[{SubscriptBox[OverscriptBox[\"r\", \"^\"], \"2\"], \" \", \n",
       "\n",
       " \n",
       ">                            SuperscriptBox[OverscriptBox[\"ω\", \"^\"], \"′′′′\"]}]}], \")\"}]\\\n",
       "\n",
       " \n",
       ">   }]}], \"+\", RowBox[{\"60\", \" \", SuperscriptBox[RowBox[{\"(\", \n",
       "\n",
       " \n",
       ">                       SuperscriptBox[SubscriptBox[OverscriptBox[\"r\", \"^\"], \"2\"], \n",
       "\n",
       " \n",
       ">                        \"′\"], \")\"}], \"2\"], \" \", \n",
       "\n",
       " \n",
       ">                    SuperscriptBox[OverscriptBox[\"ω\", \"^\"], \"′′\"]}], \"+\", \n",
       "\n",
       " \n",
       ">                  RowBox[{\"90\", \" \", \n",
       "\n",
       " \n",
       ">                    SuperscriptBox[SubscriptBox[OverscriptBox[\"r\", \"^\"], \"2\"], \"′\"], \n",
       "\n",
       " \n",
       ">                    \" \", SuperscriptBox[SubscriptBox[OverscriptBox[\"r\", \"^\"], \"2\"], \n",
       "\n",
       " \n",
       ">                     \"′′\"], \" \", SuperscriptBox[OverscriptBox[\"ω\", \"^\"], \"′\"]}]}],\\\n",
       " \n",
       ">    \")\"}]\\\n",
       "}], \"+\", RowBox[{SuperscriptBox[SubscriptBox[OverscriptBox[\"r\", \"^\"], \"2\"],\\\n",
       " \n",
       ">    \"′\"], \n",
       "           \" \", RowBox[{\"(\", RowBox[{RowBox[{\"30\", \" \", \n",
       "\n",
       " \n",
       ">                    SubscriptBox[OverscriptBox[\"r\", \"^\"], \"2\"], \" \", \n",
       "\n",
       " \n",
       ">                    SuperscriptBox[OverscriptBox[\"ω\", \"^\"], \"′\"], \" \", \n",
       "\n",
       " \n",
       ">                    SuperscriptBox[OverscriptBox[\"ω\", \"^\"], \"′′\"]}], \"+\", \n",
       "\n",
       " \n",
       ">                  RowBox[{\"45\", \" \", \n",
       "\n",
       " \n",
       ">                    SuperscriptBox[SubscriptBox[OverscriptBox[\"r\", \"^\"], \"2\"], \"′\"], \n",
       "\n",
       " \n",
       ">                    \" \", SuperscriptBox[RowBox[{\"(\", \n",
       "\n",
       " \n",
       ">                       SuperscriptBox[OverscriptBox[\"ω\", \"^\"], \"′\"], \")\"}], \"2\"]}], \n",
       "\n",
       " \n",
       ">                  \"-\", SuperscriptBox[SubscriptBox[OverscriptBox[\"r\", \"^\"], \"2\"], \n",
       "\n",
       " \n",
       ">                   \"′′′′′\"]}], \")\"}]}], \"-\", \n",
       "\n",
       " \n",
       ">            RowBox[{\"60\", \" \", SuperscriptBox[OverscriptBox[\"ω\", \"^\"], \"4\"], \" \", \n",
       "\n",
       " \n",
       ">              RowBox[{\"(\", RowBox[{SuperscriptBox[RowBox[{\"(\", \n",
       "\n",
       " \n",
       ">                     SuperscriptBox[SubscriptBox[OverscriptBox[\"r\", \"^\"], \"2\"], \n",
       "\n",
       " \n",
       ">                      \"′\"], \")\"}], \"2\"], \"-\", \n",
       "\n",
       " \n",
       ">                  RowBox[{\"2\", \" \", SubscriptBox[OverscriptBox[\"r\", \"^\"], \"2\"], \" \", \n",
       "\n",
       " \n",
       ">                    SuperscriptBox[SubscriptBox[OverscriptBox[\"r\", \"^\"], \"2\"],\\\n",
       " \n",
       ">    \"′′\"]}]}\\\n",
       "], \")\"}]}], \"+\", RowBox[{\"120\", \" \", SubscriptBox[OverscriptBox[\"r\",\\\n",
       " \n",
       ">    \"^\"], \"2\"], \n",
       "           \" \", SuperscriptBox[OverscriptBox[\"ω\", \"^\"], \"3\"], \" \", \n",
       "\n",
       " \n",
       ">              RowBox[{\"(\", RowBox[{RowBox[{\"2\", \" \", \n",
       "\n",
       " \n",
       ">                    SuperscriptBox[SubscriptBox[OverscriptBox[\"r\", \"^\"], \"2\"], \"′\"], \n",
       "\n",
       " \n",
       ">                    \" \", SuperscriptBox[OverscriptBox[\"ω\", \"^\"], \"′\"]}], \"+\", \n",
       "\n",
       " \n",
       ">                  RowBox[{SubscriptBox[OverscriptBox[\"r\", \"^\"], \"2\"], \" \", \n",
       "\n",
       " \n",
       ">                    SuperscriptBox[OverscriptBox[\"ω\", \"^\"], \"′′\"]}]}], \")\"}]}], \"+\", \n",
       "\n",
       " \n",
       ">            RowBox[{\"15\", \" \", SuperscriptBox[OverscriptBox[\"ω\", \"^\"], \"2\"], \" \", \n",
       "\n",
       " \n",
       ">              RowBox[{\"(\", RowBox[{RowBox[{\"12\", \" \", \n",
       "\n",
       " \n",
       ">                    SubsuperscriptBox[OverscriptBox[\"r\", \"^\"], \"2\", \"2\"], \" \", \n",
       "\n",
       " \n",
       ">                    SuperscriptBox[RowBox[{\"(\", \n",
       "\n",
       " \n",
       ">                       SuperscriptBox[OverscriptBox[\"ω\", \"^\"], \"′\"], \")\"}], \"2\"]}], \n",
       "\n",
       " \n",
       ">                  \"+\", RowBox[{\"2\", \" \", \n",
       "\n",
       " \n",
       ">                    SuperscriptBox[SubscriptBox[OverscriptBox[\"r\", \"^\"], \"2\"], \"′\"], \n",
       "\n",
       " \n",
       ">                    \" \", SuperscriptBox[SubscriptBox[OverscriptBox[\"r\", \"^\"], \"2\"], \n",
       "\n",
       " \n",
       ">                     \"′′′\"]}], \"-\", RowBox[{SubscriptBox[OverscriptBox[\"r\", \"^\"], \n",
       "\n",
       " \n",
       ">                     \"2\"], \" \", SuperscriptBox[SubscriptBox[OverscriptBox[\"r\", \"^\"], \n",
       "\n",
       " \n",
       ">                      \"2\"], \"′′′′\"]}]}], \")\"}]}], \"-\", \n",
       "\n",
       " \n",
       ">            RowBox[{RowBox[{\"48\"}], \" \", \n",
       "\n",
       " \n",
       ">              SubsuperscriptBox[OverscriptBox[\"r\", \"^\"], \"2\", \"2\"], \" \", \n",
       "\n",
       " \n",
       ">              SuperscriptBox[OverscriptBox[\"ω\", \"^\"], \"6\"]}]}], \")\"}]}],\\\n",
       " \n",
       ">    TraditionalForm]\n"
      ]
     },
     "execution_count": 1934,
     "metadata": {
      "text/html": [],
      "text/plain": []
     },
     "output_type": "execute_result"
    }
   ],
   "source": [
    "dEdtTemp = RHSEnegryLagrange[[1]] //. Fh5Replacement;\n",
    "dEdt = Simplify[dEdtTemp/Subscript[\\[Epsilon], G], Trig -> True];\n",
    "dEdt // TraditionalForm"
   ]
  },
  {
   "cell_type": "markdown",
   "metadata": {},
   "source": [
    "<span style=\"color:brown\">**NB:**</span> В файлах Binary.pdf и binary_catch1.pdf выводится <span style=\"color:green\">**точно такие же**</span> выражения для правой части (dE/dt),\n",
    "а именно $I_E = I_1\\hat{\\omega} + I_2\\frac{\\dot{r}}{r}$, где\n",
    "$$\n",
    "I_2 = 2\\hat{r}_2 \\left[ -40\\hat{r}_2\\hat{\\omega}^3\\hat{\\omega}^{(1)} - 20\\hat{\\omega}^4\\hat{r}_2^{(1)} + 5\\hat{r}_2\\hat{\\omega}\\hat{\\omega}^{(3)} + 10\\hat{r}_2\\hat{\\omega}^{(1)}\\hat{\\omega}^{(2)} + 10\\hat{\\omega}^2\\hat{r}_2^{(3)} + 30\\hat{\\omega}\\hat{\\omega}^{(1)}\\hat{r}_2^{(2)} + 20\\hat{\\omega}\\hat{\\omega}^{(2)}\\hat{r}_2^{(1)} + 15\\hat{r}_2^{(1)}(\\hat{\\omega}^{(1)})^2 - \\frac{1}{3}\\hat{r}_2^{(5)} \\right]\n",
    "$$"
   ]
  },
  {
   "cell_type": "code",
   "execution_count": 1936,
   "metadata": {
    "vscode": {
     "languageId": "wolfram"
    }
   },
   "outputs": [
    {
     "data": {
      "text/html": [
       "<div><pre style=\"&#102;&#111;&#110;&#116;&#45;&#102;&#97;&#109;&#105;&#108;&#121;&#58;&#32;&#34;&#67;&#111;&#117;&#114;&#105;&#101;&#114;&#32;&#78;&#101;&#119;&#34;&#44;&#67;&#111;&#117;&#114;&#105;&#101;&#114;&#44;&#109;&#111;&#110;&#111;&#115;&#112;&#97;&#99;&#101;&#59;\">&#48;</pre></div>"
      ],
      "text/plain": [
       "0"
      ]
     },
     "execution_count": 1936,
     "metadata": {
      "text/html": [],
      "text/plain": []
     },
     "output_type": "execute_result"
    }
   ],
   "source": [
    "I2 = 2 * Subscript[OverHat[r], 2][OverHat[t]] * (\n",
    "    -40 * Subscript[OverHat[r], 2][OverHat[t]] *\n",
    "    OverHat[\\[Omega]][OverHat[t]]^3 * Derivative[1][OverHat[\\[Omega]]][OverHat[t]]\n",
    "    - 20 * OverHat[\\[Omega]][OverHat[t]]^4 *\n",
    "    Derivative[1][Subscript[OverHat[r], 2]][OverHat[t]]\n",
    "    + 5 * Subscript[OverHat[r], 2][OverHat[t]] *\n",
    "    OverHat[\\[Omega]][OverHat[t]] * Derivative[3][OverHat[\\[Omega]]][OverHat[t]]\n",
    "    + 10 * Subscript[OverHat[r], 2][OverHat[t]] *\n",
    "    Derivative[1][OverHat[\\[Omega]]][OverHat[t]] *\n",
    "    Derivative[2][OverHat[\\[Omega]]][OverHat[t]]\n",
    "    + 10 * OverHat[\\[Omega]][OverHat[t]]^2 *\n",
    "    Derivative[3][Subscript[OverHat[r], 2]][OverHat[t]]\n",
    "    + 30 * OverHat[\\[Omega]][OverHat[t]] *\n",
    "    Derivative[1][OverHat[\\[Omega]]][OverHat[t]] *\n",
    "    Derivative[2][Subscript[OverHat[r], 2]][OverHat[t]]\n",
    "    + 20 * OverHat[\\[Omega]][OverHat[t]] *\n",
    "    Derivative[2][OverHat[\\[Omega]]][OverHat[t]] *\n",
    "    Derivative[1][Subscript[OverHat[r], 2]][OverHat[t]]\n",
    "    + 15 * Derivative[1][Subscript[OverHat[r], 2]][OverHat[t]] *\n",
    "    Derivative[1][OverHat[\\[Omega]]][OverHat[t]]^2\n",
    "    - (1/3) * Derivative[5][Subscript[OverHat[r], 2]][OverHat[t]]\n",
    ");\n",
    "Simplify[(I2*D[OverHat[r][OverHat[t]], OverHat[t]]/OverHat[r][OverHat[t]] + I1*OverHat[\\[Omega]][OverHat[t]] /. ToR2Replacement) - dEdt]"
   ]
  },
  {
   "cell_type": "markdown",
   "metadata": {},
   "source": [
    "# Итоговые $I_J$, $I_E$\n",
    "\n",
    "$$\n",
    "\\begin{align}\n",
    "\\tag{IJ}\\\n",
    "I_J &= \\hat{r}_2 \\left[ 120\\hat{r}_2^{(1)}\\hat{\\omega}^2\\hat{\\omega}^{(1)} - 5\\hat{r}_2^{(1)}\\hat{\\omega}^{(3)} - 16\\hat{r}_2\\hat{\\omega}^5 - 10\\hat{r}_2^{(2)}\\hat{\\omega}^{(2)} + 60\\hat{r}_2\\hat{\\omega}(\\hat{\\omega}^{(1)})^2\n",
    "- 10\\hat{r}_2^{(3)}\\hat{\\omega}^{(1)} + 40\\hat{r}_2^{(2)}\\hat{\\omega}^3 - 5\\hat{r}_2^{(4)}\\hat{\\omega} - \\hat{r}_2\\hat{\\omega}^{(4)} + 40\\hat{r}_2\\hat{\\omega}^2\\hat{\\omega}^{(2)} \\right]\n",
    "\\\\\n",
    "\\tag{IE}\n",
    "I_E &= I_J\\hat{\\omega} + \\hat{r}_2^{(1)} \\left[ -40\\hat{r}_2\\hat{\\omega}^3\\hat{\\omega}^{(1)} - 20\\hat{\\omega}^4\\hat{r}_2^{(1)} + 5\\hat{r}_2\\hat{\\omega}\\hat{\\omega}^{(3)} + 10\\hat{r}_2\\hat{\\omega}^{(1)}\\hat{\\omega}^{(2)} + 10\\hat{\\omega}^2\\hat{r}_2^{(3)} + 30\\hat{\\omega}\\hat{\\omega}^{(1)}\\hat{r}_2^{(2)} + 20\\hat{\\omega}\\hat{\\omega}^{(2)}\\hat{r}_2^{(1)} + 15\\hat{r}_2^{(1)}(\\hat{\\omega}^{(1)})^2 - \\frac{1}{3}\\hat{r}_2^{(5)} \\right]\n",
    "\\end{align}\n",
    "$$"
   ]
  },
  {
   "cell_type": "markdown",
   "metadata": {
    "vscode": {
     "languageId": "wolfram"
    }
   },
   "source": [
    "# Потеря энергии за один период обращения"
   ]
  },
  {
   "cell_type": "markdown",
   "metadata": {},
   "source": [
    "Энергию гравитационного излучени невозможно локализовать в области меньше длины одной волны.\n",
    "\n",
    "Поэтому мгновенные изменения энергии и момента не имеют физического смысла.\n",
    "\n",
    "Однако, если мы просуммируем энергию и момент по полному периоду обращения, то с такими величинами можно работать.\n",
    "\n",
    "Рассчитаем в **нулевом приближении**, сколько энергии уносится из системы\n",
    "\n",
    "гравитационными волнами за один полный оборот, интегрируя по ньютоновской гиперболической траектории\n",
    "\n",
    "начиная с момента, когда тело \"бесконечно\" далеко, до момента минимального сближения и обратно:\n",
    "$$\n",
    "\\Delta \\hat{E} = 2 \\epsilon_G \\int\\limits_{\\hat{t}_{\\text{min}}}^{\\infty}I_E(\\hat{t}) d \\hat{t}.\n",
    "$$"
   ]
  },
  {
   "cell_type": "markdown",
   "metadata": {},
   "source": [
    "В приближении Ньютона $I_J$ и $I_E$ равны нулю.\n",
    "Тогда и момент импульса и энергия сохраняются.\n",
    "\n",
    "$\\hat{J} = |\\vec{\\hat{r}} \\times \\vec{\\hat{v}}| = |\\vec{\\hat{r}}_\\infty \\times \\vec{\\hat{v}}_\\infty| = \\hat{r}\\hat{v}_\\infty \\sin(\\phi)$\n",
    "\n",
    "Так как $\\phi = \\pi/2$ на бесконечности, то $\\hat{J} = b\\hat{v}_\\infty = u$,\n",
    "то $u$ - безразмерная скорость на бесконечности.\n",
    "\n",
    "Отсюда следует, что $\\hat{\\omega} = \\frac{u}{\\hat{r}_2}$"
   ]
  },
  {
   "cell_type": "code",
   "execution_count": 1937,
   "metadata": {
    "vscode": {
     "languageId": "wolfram"
    }
   },
   "outputs": [],
   "source": [
    "OmegaReplace2 = {\n",
    "   OverHat[\\[Omega]][OverHat[t]] -> u/Subscript[OverHat[r], 2][OverHat[t]],\n",
    "   Derivative[n_][OverHat[\\[Omega]]][OverHat[t]] :> u D[1/Subscript[OverHat[r], 2][OverHat[t]], {OverHat[t], n}]\n",
    "};"
   ]
  },
  {
   "cell_type": "markdown",
   "metadata": {},
   "source": [
    "Заменим переменные\n",
    "$$\n",
    "\\Delta \\hat{E} = - 2 \\epsilon_G \\int\\limits_{\\hat{r}_2^{\\text{min}}}^{\\infty}\\frac{I_E(\\hat{r}_2)}{\\hat{r}_2^{(1)}}d \\hat{r}_2,\n",
    "$$"
   ]
  },
  {
   "cell_type": "markdown",
   "metadata": {},
   "source": [
    "Здесь $\\hat{r}_2^{\\text{min}}$ - квадрат минимального расстояния между объектами:"
   ]
  },
  {
   "cell_type": "code",
   "execution_count": 1939,
   "metadata": {
    "vscode": {
     "languageId": "wolfram"
    }
   },
   "outputs": [
    {
     "data": {
      "text/html": [
       "<div><img alt=\"Output\" src=\"data:image/png;base64,iVBORw0KGgoAAAANSUhEUgAAAMwAAABHCAIAAADENz++AAAAznpUWHRSYXcgcHJvZmlsZSB0eXBlIGV4aWYAAHjabU/bDQMhDPtnio4QkuDAONwdJ3WDjt/wUCuqWiI2zgMS2ut5h0cHRwqaLKMA5NCihauLTBOTI5URB85z5eLuB7XlV7fSN4G2/GP3DZM5/wwinkL6C65FV8MaJDz9WOf9WPVcc94HCW0o9Pn637uKMRKiqUdlMkNxnYNLJySmZLhxAl4YcTHp6dxg5m2wXiG1N3Zws726BYgbV19B+klSncVjFN9qeFV0RDf4WNmxSHgDobJa5G5hFZYAAAAJcEhZcwAAFiUAABYlAUlSJPAAAAA8dEVYdFNvZnR3YXJlAENyZWF0ZWQgd2l0aCB0aGUgV29sZnJhbSBMYW5ndWFnZSA6IHd3dy53b2xmcmFtLmNvbVyipoUAAAAhdEVYdENyZWF0aW9uIFRpbWUAMjAyNTowMzoxMyAwMjo0MjozMoUAshMAAAudSURBVHhe7Z11jBTLE8cfrsE9kODu7u6WoAGCBXcJzuE/3AlOcAnBLcDDgrsGT3BLcHd9n7zOb97c7N7eTM/e7exczx9kmamuqa76TnVVdV93tD9//vylLqWBiNRA9IhkHqy8x48fHy34r759+zrEANGUJ/O0ROPGjbNnz965c2eHGElOjESJEiVNmlSurX9bKZB50WfmzJkXLFhQvXp1/+o6ynJTIDOa/u3bt8mSJXv27FnKlCmjLCz823E/xGSjRo06cOCAf8UKILcLFy5kyJBBGmHnzp3r06dPAOV34Kvtgmz+/PmjR4++cuWKA/smJxIgK1y4sFzbDx8+NGvWbPny5XLN3drKFshu3LjRs2dPl6nm/Pnz0iDr1avXnTt3XKYQ+92RB9n3799btmw5YsQI+0I4ioO0J9uwYcO9e/eqVKniqO44QRh5kIWEhFSsWLFatWpO6Ia/ZPj48ePt27clPNmjR48GDRq0atWqGDFi+EsY1/CRBBmR/v79+ylaRo4iKOZt3LgRx1msWLE6deoMHTqU7C8iXn3x4sVUqVKlTZvWEvPfv3+3bt0abZAxWGpon3jXrl282j4fqxysWQRqq9erV6+yZMly9epVGp44cQL5ZsyYYZWJefpPnz6VK1fOoAWqDKDcPBOTlDNnzgTEJok1sokTJ/IBiP9SXUucOLFVDhL0e/fuLVmyJGpJnTq1RHM7Taxa5C+JlzVs2HDWrFmiYSSArEmTJqiydu3auIrBgwdrbiZNmjSvX7+WkN9Hk1atWg0fPtwST2oWTA+8e/cu0kD24MGDChUq5MqVi6mvgIDMqkUsg2zbtm0xY8YcM2bM//69OnbsSD+JdvlNsmnJPGaIz549C/9ly5ZpxACrQIECwrHNmzfPDBPzNHny5NmyZYt5eijz589fs2ZNoQ0ufHz06NH5sXDhQkt8zBMDaEJA6OvXrx/5IJOwiGWQrVixgqFKu+LFi0c/48ePz50dO3aY15RJyn79+jVo0MBAfPjwYQGyLl26mORjhuzz58+E7fgJM8QaTe7cufUKQSocDHfKli1riY8Ecbt27SIfZBIWsQwygy7OnDkToTEZerx+/brhpd++fcNb+B1kJ0+eTJ48uYSx9U0Y1q3GZFu3bu3fv/+PHz+svtpfIOPrQgByCDMCSFgkVHb569cvqkSLFy/u3r07H+Ldu3e1cBsvRU63Zs0aq2mITfolS5YQfBiYkM2JcCRv3rw2+eub0/ciRYro7zx//nznzp2MfY0aNaJCoT3CKmiD6+nTp/YFIISfOnUqdUf7rOQ4ULhBgIMHD5ppLmGRUCB7+fLllClTKFsT61y6dEmfkOMkJ0yYwE2DHAEpC5HY8j3EihWLYMiMXvQ0t27dun//vtdWnrX+zZs3U23m4keSJEm0VsRtaGPy5MnECU5QiFUl+J0+HIt4esgaNWogBPbTHh0/flyItWfPHjMeNaJpQDzC4G4tvejr168jR46MEycOy8W8NixYsOD69esNjxhDRd9PnTqlPRIl6FKlSlkSICzibt26wY26gFVu/houcdgIMGDAAKsCaPS+LWKMyRiJxAIEXJrGok2bNtzBPAwT0nL4qyGTg7Fjx86UKRPlOvM8+TyyZctWtWpVMc4CHUNbIIhrpNxvuD979mzoWQD48+dP8QgBRERotdjhVpCFaxEjyPB74sNl7BBKITKjZsGdSpUqmTeqnpIVWoxQvq+HDx+aYc4oiYvF5JcvXzZDL2jwxJRYyb35TSWMvnimfpS7CNj5xgxscXvQ16tXT7vfvn17oSKSXPMy6ClJYPXaaNGiBdzIb/Q3379/Hy5zaU9msIioSnTo0EEvgB8tYgTZnDlzeB8ZOOYUnRRujGvcuHHhdtsrgcnF5pqr8PEWkiD8jZ1aPwbGJdMdcjr9ixYtWuT5FWl+nZkAQYyrE9pIkCABobqEQqhyCQ6+r2HDhoXLXBpkkWwR48pYirnMEpJM8S9aYKEYxUahjtOnTxcvXjw85Xh5vm/fPi2qC6s5AxCjjxjLwrpYp4UXWbt2bdOmTSXE0JoMHDiQYCBnzpz0Tjhprq5du4Ibkiw952vXrokEFkrxg+Vi69at40etWrXI+SXEoFTB56pvSOZOYstkhkC/uEA8ZX3f/NHG0qVLmVaymuQaLMIyuOnTp5coUUKfSPnTIvrPRftw586dy/0vX76gWcJbusqfJGi+LdwvLCII8F7YwC9l9Ddv3uCq6RQL+TVRmXqnQGOQXPh1pszFfRZZ8MmJjHLatGn+6maQBv7mLRJquNQCsps3b6JBOk+1XSSbzFdyh5lKf2nWEh8yu4QJE3ralSkmKluWWAliWNEpZj8pEfFfvEvcuHE9p8VEQIb3EgMl0BSw4yIofPz4sdXpAa+iBiPILFkkVJ1MTNekS5cuR44c+Izt27ezuvrYsWPcJC9buXIl5UeJAcJmE8Ys5kZxIUzg/P3/iyEGoCAVIbwEf8ofGTNmZJQR4yNBNwU/5rkNrIRCKleuTAWR741xlpGFO4xQNK9bt25g18GSHCAM44+EBuw0sWwR/bcl4kGSLL7gFClSkHSw1FNIQ1IG+Ph2JdyGnSZY0ffqLjosx1/MXuAggRoT8GXKlDHw0SJ0oAyk2rZtizlFGgQcWX00ZMgQuVcbWsl5MoIZLCWsw+SeHUks1ckkLBJquBROi4uZHDFjSE9EpZu6lOccop2OmWzrO9XwRIZJtpCBGLEClll2/lKBeQ7PtsALAkZS8CSqGxT6uUOCwiyTZ73D/Nv1lD169ICh+RokDow1ySKsFBdow9kfOXJETgD8NEzokZnmEhYxljAoF5FJ6V8GzLlppr5gRkRH0Yi/5CPBxFGRunrKRr0XGoZI7RHZD6tnnzx54qiOOFyYqP7HvSya2L17N1AjkM+XL5+dSEW1DUsDUR1kuG2mLJmnwl1pNTMFF/9qQPIPSfwrRAC54b2I5UldFcIizgpRHWRoluVicnWQiLOKyzhH9eFSmJN8jUl3l5nWOd1RIHOOLVwriRouXWta53RMgcw5tnCtJApkrjWtczqmQOYcW7hWEgUy15rWOR37L7tk3Td/cekcyZQkwauB9OnTswhPk/8/kLGqx3PznODtp5I8gBpgJfemTZu8gCyAMqlXu1sDKiZzt30d0TsFMkeYwd1CKJC5276O6J0CmSPM4G4hFMjcbV9H9E6BzA9mUEfd+FaiWupjF2Ss2y5UqBB/8EM12y4vl7ZXnsyuYdVRN+FqUIEsXBX5IlBH3ZhRnwKZGS15p1FH3ZjUnQKZSUUZyQJ41I2kxIFrpkAmqXt2ODOsNZBkFAWaKZDJGJm9Ttl9jl3cZBpHvTaqhCFjc87dYY8jtnsRjdlHg4VSnGDMdnmdOnWS4ejqNgpkMublCCb9Dprsxce2PGxGyQ5qR48eleHo6jYKZEbzsosRG7OxiSsnY2TNmnXSpEmCgq2dxo4dyw8KY2zRqG/G1tpsiquKsWF+KQ7fdSjyxWNzSe3kXg4/1ARYvXo1SmRDRu3UQe2RxHlKkd+vAL5RBf7Gz4898bSIno08tcccj8dvtoDz3NAgIGf/BNEAq0DmxVhMeHMXMBUtWlQ85sQMsWOe2HvRcLG5rhorfYBegcyLcsR+xGyjr7koxk2x/69XkAWRUwmIqApkRrUTuwiQsQureMZWvJy/xw9OkxCnGqjLkgYUyIzqYv/lFy9e6EEWEhIiiMqXL8+hO5b0q4jRgAKZEQaHDh3iFmVVcc4NSSWHSIhTSNRYKffNKJB5B5nIKxkoe/fuTRGfIhn/5ZhL9r3m+DQ5XUfZVgpkRtM7/BSSYESqAlkoq7GvpwjIOMKXI704uImjbjhpijscyEBln8PhOL8tGC0dQJkVyEIpn9qYCLw4nKV58+YstWBSkkMLucPh5aVLlzacIhhAywXRq9XcpdFYzHYza0lln2OXxDMqZBwlQSrAyosgMq1zRP0HxnWc6l2U7RoAAAAASUVORK5CYII=\"></div>"
      ],
      "text/plain": [
       "FormBox[FractionBox[RowBox[{SuperscriptBox[\"u\", \"4\"], \"-\", \n",
       "\n",
       " \n",
       ">         RowBox[{\"2\", \" \", SqrtBox[RowBox[{SuperscriptBox[\"u\", \"4\"], \"+\", \"1\"}]]}],\\\n",
       " \n",
       ">    \"+\", \n",
       "      \"2\"}], SuperscriptBox[\"u\", \"4\"]], TraditionalForm]\n"
      ]
     },
     "execution_count": 1939,
     "metadata": {
      "text/html": [],
      "text/plain": []
     },
     "output_type": "execute_result"
    }
   ],
   "source": [
    "rMin2[u_] := (2 + u^4 - 2 Sqrt[1 + u^4])/u^4;\n",
    "rMin2[u] // TraditionalForm"
   ]
  },
  {
   "cell_type": "code",
   "execution_count": 1942,
   "metadata": {
    "vscode": {
     "languageId": "wolfram"
    }
   },
   "outputs": [
    {
     "data": {
      "text/html": [
       "<div><img alt=\"Output\" src=\"data:image/png;base64,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\"></div>"
      ],
      "text/plain": [
       "FormBox[RowBox[{FractionBox[RowBox[{\"16\", \" \", SuperscriptBox[\"u\", \"6\"]}], \n",
       "\n",
       " \n",
       ">         RowBox[{SubsuperscriptBox[OverscriptBox[\"r\", \"^\"], \"2\", \"4\"], \" \", \n",
       "\n",
       " \n",
       ">           SuperscriptBox[SubscriptBox[OverscriptBox[\"r\", \"^\"], \"2\"], \"′\"]}]], \"-\", \n",
       "\n",
       " \n",
       ">        FractionBox[RowBox[{\"40\", \" \", SuperscriptBox[\"u\", \"4\"], \" \", \n",
       "\n",
       " \n",
       ">           SuperscriptBox[SubscriptBox[OverscriptBox[\"r\", \"^\"], \"2\"], \"′\"]}], \n",
       "\n",
       " \n",
       ">         SubsuperscriptBox[OverscriptBox[\"r\", \"^\"], \"2\", \"4\"]], \"-\", \n",
       "\n",
       " \n",
       ">        FractionBox[RowBox[{\"4\", \" \", SuperscriptBox[\"u\", \"2\"], \" \", \n",
       "\n",
       " \n",
       ">           SuperscriptBox[RowBox[{\"(\", \n",
       "\n",
       " \n",
       ">              SuperscriptBox[SubscriptBox[OverscriptBox[\"r\", \"^\"], \"2\"], \"′′\"], \")\"}], \n",
       "\n",
       " \n",
       ">            \"2\"]}], RowBox[{SubsuperscriptBox[OverscriptBox[\"r\", \"^\"], \"2\", \"2\"], \" \", \n",
       "\n",
       " \n",
       ">           SuperscriptBox[SubscriptBox[OverscriptBox[\"r\", \"^\"], \"2\"], \"′\"]}]], \"+\", \n",
       "\n",
       " \n",
       ">        FractionBox[RowBox[{\"24\", \" \", SuperscriptBox[\"u\", \"2\"], \" \", \n",
       "\n",
       " \n",
       ">           SuperscriptBox[SubscriptBox[OverscriptBox[\"r\", \"^\"], \"2\"], \"′\"], \" \", \n",
       "\n",
       " \n",
       ">           SuperscriptBox[SubscriptBox[OverscriptBox[\"r\", \"^\"], \"2\"], \"′′\"]}], \n",
       "\n",
       " \n",
       ">         SubsuperscriptBox[OverscriptBox[\"r\", \"^\"], \"2\", \"3\"]], \"+\", \n",
       "\n",
       " \n",
       ">        FractionBox[RowBox[{\"4\", \" \", SuperscriptBox[\"u\", \"2\"], \" \", \n",
       "\n",
       " \n",
       ">           SuperscriptBox[SubscriptBox[OverscriptBox[\"r\", \"^\"], \"2\"], \"′′′′\"]}], \n",
       "\n",
       " \n",
       ">         RowBox[{SubscriptBox[OverscriptBox[\"r\", \"^\"], \"2\"], \" \", \n",
       "\n",
       " \n",
       ">           SuperscriptBox[SubscriptBox[OverscriptBox[\"r\", \"^\"], \"2\"], \"′\"]}]], \"-\", \n",
       "\n",
       " \n",
       ">        FractionBox[RowBox[{\"11\", \" \", SuperscriptBox[\"u\", \"2\"], \" \", \n",
       "\n",
       " \n",
       ">           SuperscriptBox[RowBox[{\"(\", \n",
       "\n",
       " \n",
       ">              SuperscriptBox[SubscriptBox[OverscriptBox[\"r\", \"^\"], \"2\"], \"′\"], \")\"}], \n",
       "\n",
       " \n",
       ">            \"3\"]}], SubsuperscriptBox[OverscriptBox[\"r\", \"^\"], \"2\", \"4\"]], \"-\", \n",
       "\n",
       " \n",
       ">        FractionBox[RowBox[{\"12\", \" \", SuperscriptBox[\"u\", \"2\"], \" \", \n",
       "\n",
       " \n",
       ">           SuperscriptBox[SubscriptBox[OverscriptBox[\"r\", \"^\"], \"2\"], \"′′′\"]}], \n",
       "\n",
       " \n",
       ">         SubsuperscriptBox[OverscriptBox[\"r\", \"^\"], \"2\", \"2\"]], \"+\", \n",
       "\n",
       " \n",
       ">        FractionBox[SuperscriptBox[SubscriptBox[OverscriptBox[\"r\", \"^\"], \"2\"],\\\n",
       " \n",
       ">    \"′′′′′\"], \n",
       "      \"3\"]}], TraditionalForm]\n"
      ]
     },
     "execution_count": 1942,
     "metadata": {
      "text/html": [],
      "text/plain": []
     },
     "output_type": "execute_result"
    }
   ],
   "source": [
    "(* Минус учтём сразу *)\n",
    "dEdr = Simplify[-dEdt/D[Subscript[OverHat[r], 2][OverHat[t]], OverHat[t]] //. OmegaReplace2];\n",
    "Expand[Simplify[dEdr]] // TraditionalForm"
   ]
  },
  {
   "cell_type": "markdown",
   "metadata": {},
   "source": [
    "<span style=\"color:brown\">**NB:**</span> Выражение для $dE/dr$ <span style=\"color:green\">**сопадает**</span> с выраженем для интегранта из binary_catch1.pdf, если учесть деление на $\\hat{r}_2^{(1)}$"
   ]
  },
  {
   "cell_type": "markdown",
   "metadata": {},
   "source": [
    "Из сохранения энергии следует, что\n",
    "$\\hat{E} = \\hat{E}_\\infty = \\frac{u^2}{2} = \\left(\\frac{(\\hat{r}^{(1)})^2}{2} + \\frac{\\hat{r}^2 \\hat{\\omega}^2}{2} - \\frac{1}{\\hat{r}}\\right)$\n",
    "\n",
    "Тогда можно найти $\\hat{r}_2^{(1)}$:"
   ]
  },
  {
   "cell_type": "code",
   "execution_count": 1945,
   "metadata": {
    "vscode": {
     "languageId": "wolfram"
    }
   },
   "outputs": [
    {
     "data": {
      "text/html": [
       "<div><img alt=\"Output\" src=\"data:image/png;base64,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\"></div>"
      ],
      "text/plain": [
       "FormBox[RowBox[{RowBox[{\"-\", \"2\"}], \" \", \n",
       "\n",
       " \n",
       ">        SqrtBox[RowBox[{RowBox[{SubscriptBox[OverscriptBox[\"r\", \"^\"], \"2\"], \" \", \n",
       "\n",
       " \n",
       ">             SuperscriptBox[\"u\", \"2\"]}], \"+\", \n",
       "\n",
       " \n",
       ">           RowBox[{\"2\", \" \", SqrtBox[SubscriptBox[OverscriptBox[\"r\", \"^\"], \"2\"]]}],\\\n",
       " \n",
       ">    \"-\", \n",
       "        SuperscriptBox[\"u\", \"2\"]}]]}], TraditionalForm]\n"
      ]
     },
     "execution_count": 1945,
     "metadata": {
      "text/html": [],
      "text/plain": []
     },
     "output_type": "execute_result"
    }
   ],
   "source": [
    "eq = Energy - u^2/2 //. Flatten[{\n",
    "  ToR2Replacement,\n",
    "  OmegaReplace2,\n",
    "  D[Subscript[OverHat[r], 2][OverHat[t]], OverHat[t]]^2 -> x^2\n",
    "}];\n",
    "\n",
    "sol = Solve[eq == 0, x][[1]];\n",
    "\n",
    "x /. sol[[1]] // TraditionalForm"
   ]
  },
  {
   "cell_type": "markdown",
   "metadata": {},
   "source": [
    "А также $\\hat{r}_2^{(i)}$ для $i = 1\\dots5$"
   ]
  },
  {
   "cell_type": "code",
   "execution_count": 1949,
   "metadata": {
    "vscode": {
     "languageId": "wolfram"
    }
   },
   "outputs": [
    {
     "data": {
      "text/html": [
       "<div><img alt=\"Output\" src=\"data:image/png;base64,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\"></div>"
      ],
      "text/plain": [
       "FormBox[RowBox[{\"{\", RowBox[{RowBox[{RowBox[{\"-\", \"2\"}], \" \", \n",
       "\n",
       " \n",
       ">            SqrtBox[RowBox[{RowBox[{SubscriptBox[OverscriptBox[\"r\", \"^\"], \"2\"], \" \", \n",
       "\n",
       " \n",
       ">                 SuperscriptBox[\"u\", \"2\"]}], \"+\", \n",
       "\n",
       " \n",
       ">               RowBox[{\"2\", \" \", SqrtBox[SubscriptBox[OverscriptBox[\"r\", \"^\"], \"2\"]]}],\\\n",
       " \n",
       ">    \n",
       "            \"-\", SuperscriptBox[\"u\", \"2\"]}]]}], \",\", \n",
       "\n",
       " \n",
       ">          RowBox[{\"2\", \" \", RowBox[{\"(\", \n",
       "           RowBox[{FractionBox[\"1\", \n",
       "\n",
       " \n",
       ">                 SqrtBox[SubscriptBox[OverscriptBox[\"r\", \"^\"], \"2\"]]], \"+\", \n",
       "\n",
       " \n",
       ">                SuperscriptBox[\"u\", \"2\"]}], \")\"}]}], \",\", \n",
       "\n",
       " \n",
       ">          FractionBox[RowBox[{\"2\", \" \", \n",
       "\n",
       " \n",
       ">             SqrtBox[RowBox[{RowBox[{SubscriptBox[OverscriptBox[\"r\", \"^\"], \"2\"], \" \", \n",
       "\n",
       " \n",
       ">                  SuperscriptBox[\"u\", \"2\"]}], \"+\", \n",
       "\n",
       " \n",
       ">                RowBox[{\"2\", \" \", SqrtBox[SubscriptBox[OverscriptBox[\"r\", \"^\"], \n",
       "\n",
       " \n",
       ">                    \"2\"]]}], \"-\", SuperscriptBox[\"u\", \"2\"]}]]}], \n",
       "\n",
       " \n",
       ">           SubsuperscriptBox[OverscriptBox[\"r\", \"^\"], \"2\", RowBox[{\"3\", \"/\", \"2\"}]]], \n",
       "\n",
       " \n",
       ">          \",\", FractionBox[RowBox[{\"2\", \" \", \n",
       "\n",
       " \n",
       ">             RowBox[{\"(\", RowBox[{RowBox[{\"2\", \" \", \n",
       "\n",
       " \n",
       ">                   SubscriptBox[OverscriptBox[\"r\", \"^\"], \"2\"], \" \", \n",
       "\n",
       " \n",
       ">                   SuperscriptBox[\"u\", \"2\"]}], \"+\", \n",
       "\n",
       " \n",
       ">                 RowBox[{\"5\", \" \", SqrtBox[SubscriptBox[OverscriptBox[\"r\", \"^\"], \n",
       "\n",
       " \n",
       ">                     \"2\"]]}], \"-\", RowBox[{\"3\", \" \", SuperscriptBox[\"u\", \"2\"]}]}],\\\n",
       " \n",
       ">    \")\"}\\\n",
       "]}], SubsuperscriptBox[OverscriptBox[\"r\", \"^\"], \"2\", RowBox[{\"5\", \"/\",\\\n",
       " \n",
       ">    \"2\"}]]], \",\", \n",
       "       FractionBox[RowBox[{\"2\", \" \", \n",
       "\n",
       " \n",
       ">             SqrtBox[RowBox[{RowBox[{SubscriptBox[OverscriptBox[\"r\", \"^\"], \"2\"], \" \", \n",
       "\n",
       " \n",
       ">                  SuperscriptBox[\"u\", \"2\"]}], \"+\", \n",
       "\n",
       " \n",
       ">                RowBox[{\"2\", \" \", SqrtBox[SubscriptBox[OverscriptBox[\"r\", \"^\"], \n",
       "\n",
       " \n",
       ">                    \"2\"]]}], \"-\", SuperscriptBox[\"u\", \"2\"]}]], \" \", \n",
       "\n",
       " \n",
       ">             RowBox[{\"(\", RowBox[{RowBox[{\"6\", \" \", \n",
       "\n",
       " \n",
       ">                   SubscriptBox[OverscriptBox[\"r\", \"^\"], \"2\"], \" \", \n",
       "\n",
       " \n",
       ">                   SuperscriptBox[\"u\", \"2\"]}], \"+\", \n",
       "\n",
       " \n",
       ">                 RowBox[{\"20\", \" \", SqrtBox[SubscriptBox[OverscriptBox[\"r\", \"^\"], \n",
       "\n",
       " \n",
       ">                     \"2\"]]}], \"-\", RowBox[{\"15\", \" \", SuperscriptBox[\"u\", \"2\"]}]}],\\\n",
       " \n",
       ">    \")\"}\\\n",
       "]}], SubsuperscriptBox[OverscriptBox[\"r\", \"^\"], \"2\", RowBox[{\"7\", \"/\",\\\n",
       " \n",
       ">    \"2\"}]]]}], \"}\"}]\\\n",
       ", TraditionalForm]\n"
      ]
     },
     "execution_count": 1949,
     "metadata": {
      "text/html": [],
      "text/plain": []
     },
     "output_type": "execute_result"
    }
   ],
   "source": [
    "replacementRule = D[Subscript[OverHat[r], 2][OverHat[t]], OverHat[t]] :> x /. sol[[1]];\n",
    "\n",
    "(* Рекурсивно вычисляем производные *)\n",
    "dr2 = NestList[\n",
    "   Simplify[D[#, OverHat[t]] /. replacementRule] &,\n",
    "   x /. sol[[1]],\n",
    "   4\n",
    "];\n",
    "\n",
    "dr2 // TraditionalForm"
   ]
  },
  {
   "cell_type": "markdown",
   "metadata": {},
   "source": [
    "Заменяя вхождение **всех** производных в выражении для $dE/dr$, получим"
   ]
  },
  {
   "cell_type": "code",
   "execution_count": 1951,
   "metadata": {
    "vscode": {
     "languageId": "wolfram"
    }
   },
   "outputs": [
    {
     "data": {
      "text/html": [
       "<div><img alt=\"Output\" src=\"data:image/png;base64,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\"></div>"
      ],
      "text/plain": [
       "FormBox[FractionBox[RowBox[{\"2\", \" \", \n",
       "      RowBox[{\"(\", RowBox[{RowBox[{\"6\", \" \", \n",
       "\n",
       " \n",
       ">               SubsuperscriptBox[OverscriptBox[\"r\", \"^\"], \"2\", \"2\"], \" \", \n",
       "\n",
       " \n",
       ">               SuperscriptBox[\"u\", \"4\"]}], \"+\", \n",
       "\n",
       " \n",
       ">             RowBox[{SubscriptBox[OverscriptBox[\"r\", \"^\"], \"2\"], \" \", \n",
       "\n",
       " \n",
       ">               RowBox[{\"(\", RowBox[{RowBox[{\"51\", \" \", SuperscriptBox[\"u\", \"4\"]}], \n",
       "\n",
       " \n",
       ">                   \"+\", \"40\"}], \")\"}]}], \"+\", \n",
       "\n",
       " \n",
       ">             RowBox[{\"32\", \" \", SubsuperscriptBox[OverscriptBox[\"r\", \"^\"], \"2\", \n",
       "\n",
       " \n",
       ">                RowBox[{\"3\", \"/\", \"2\"}]], \" \", SuperscriptBox[\"u\", \"2\"]}], \"+\", \n",
       "\n",
       " \n",
       ">             RowBox[{\"100\", \" \", SqrtBox[SubscriptBox[OverscriptBox[\"r\", \"^\"], \"2\"]], \n",
       "\n",
       " \n",
       ">               \" \", SuperscriptBox[\"u\", \"2\"]}], \"-\", \n",
       "\n",
       " \n",
       ">             RowBox[{\"75\", \" \", SuperscriptBox[\"u\", \"4\"]}]}], \")\"}]}], \n",
       "\n",
       " \n",
       ">       RowBox[{\"3\", \" \", SubsuperscriptBox[OverscriptBox[\"r\", \"^\"], \"2\", \n",
       "\n",
       " \n",
       ">          RowBox[{\"7\", \"/\", \"2\"}]], \" \", \n",
       "\n",
       " \n",
       ">         SqrtBox[RowBox[{RowBox[{SubscriptBox[OverscriptBox[\"r\", \"^\"], \"2\"], \" \", \n",
       "\n",
       " \n",
       ">              SuperscriptBox[\"u\", \"2\"]}], \"+\", \n",
       "\n",
       " \n",
       ">            RowBox[{\"2\", \" \", SqrtBox[SubscriptBox[OverscriptBox[\"r\", \"^\"], \"2\"]]}],\\\n",
       " \n",
       ">    \"-\", \n",
       "         SuperscriptBox[\"u\", \"2\"]}]]}]], TraditionalForm]\n"
      ]
     },
     "execution_count": 1951,
     "metadata": {
      "text/html": [],
      "text/plain": []
     },
     "output_type": "execute_result"
    }
   ],
   "source": [
    "dEdrFinal = Fold[ (* Последовательно применяем замены *)\n",
    "  Simplify[#1 /.\n",
    "    D[Subscript[OverHat[r], 2][OverHat[t]], {OverHat[t], #2}] -> dr2[[#2]]] &,\n",
    "  dEdr,\n",
    "  Range[5]\n",
    "];\n",
    "\n",
    "Simplify[dEdrFinal] // TraditionalForm"
   ]
  },
  {
   "cell_type": "markdown",
   "metadata": {},
   "source": [
    "$$\n",
    "  \\Delta \\hat{E}(u) = \\epsilon_G \\frac{4}{3}\\int\\limits_{\\hat{r}_2^\\text{min}}^\\infty \\frac{32 \\hat{r}_2^{3/2} u^2+6 \\hat{r}_2^2 u^4+\\hat{r}_2 \\left(51 u^4+40\\right)+100 \\sqrt{\\hat{r}_2} u^2-75 u^4}{\\hat{r}_2^{7/2} \\sqrt{\\hat{r}_2 u^2+2 \\sqrt{\\hat{r}_2}-u^2}} \\, d\\hat{r}_2,\n",
    "$$\n",
    "где при $\\hat{r}_2 \\ge \\hat{r}_2^{\\text{min}}$ выражение $\\hat{r}_2u^2 + 2\\sqrt{\\hat{r}_2} - u^2 \\ge 0$."
   ]
  },
  {
   "cell_type": "markdown",
   "metadata": {},
   "source": [
    "Полученный выше интеграл **компактнее**, чем тот, что рассмотрен в файле binary_catch2.pdf\n",
    "$$\n",
    "  \\Delta \\hat{E}(u) = \\epsilon_G \\frac{4}{3}\\int\\limits_{\\hat{r}_2^\\text{min}}^\\infty \\frac{24\\hat{r}_2^2u^6 + 48u^6\\hat{r}_2 + 120\\hat{r}_2^{3/2}u^4 - 96u^6 + 96u^4\\sqrt{\\hat{r}_2} - u^2\\hat{r}_2^2 + 133u^2\\hat{r}_2 - 2\\hat{r}_2^{3/2}}{\\hat{r}_2^4\\sqrt{u^2\\hat{r}_2 + 2\\sqrt{\\hat{r}_2} - u^2}} \\, d\\hat{r}_2,\n",
    "$$"
   ]
  },
  {
   "cell_type": "markdown",
   "metadata": {},
   "source": [
    "<span style=\"color:brown\">**NB:**</span> Однако, будучи аналитически взятым будет полностью <span style=\"color:green\">**совпадать!**</span>\n",
    "\n",
    "Смотри подробности в файле binary_catch_integral.ipynb\n",
    " \n",
    "Там компактный интеграл назван $I_5$, а второй $I_4$.\n",
    "\n",
    "Выпишем ответ:"
   ]
  },
  {
   "cell_type": "code",
   "execution_count": 1953,
   "metadata": {
    "vscode": {
     "languageId": "wolfram"
    }
   },
   "outputs": [
    {
     "data": {
      "text/html": [
       "<div><img alt=\"Output\" src=\"data:image/png;base64,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\"></div>"
      ],
      "text/plain": [
       "FormBox[RowBox[{\"-\", FractionBox[RowBox[{SubscriptBox[\"ϵ\", \"G\"], \" \", \n",
       "\n",
       " \n",
       ">           RowBox[{\"(\", RowBox[{RowBox[{RowBox[{\"(\", \n",
       "\n",
       " \n",
       ">                   RowBox[{RowBox[{\"673\", \" \", SuperscriptBox[\"u\", \"4\"]}], \"+\", \n",
       "\n",
       " \n",
       ">                     \"1275\"}], \")\"}], \" \", SuperscriptBox[\"u\", \"2\"]}], \"+\", \n",
       "\n",
       " \n",
       ">               RowBox[{\"3\", \" \", RowBox[{\"(\", \n",
       "\n",
       " \n",
       ">                   RowBox[{RowBox[{\"37\", \" \", SuperscriptBox[\"u\", \"8\"]}], \"+\", \n",
       "\n",
       " \n",
       ">                     RowBox[{\"366\", \" \", SuperscriptBox[\"u\", \"4\"]}], \"+\", \"425\"}],\\\n",
       " \n",
       ">    \")\"}\\\n",
       "], \" \", RowBox[{\"(\", RowBox[{RowBox[{SuperscriptBox[\"tan\", RowBox[{\"-\",\\\n",
       " \n",
       ">    \"1\"}]], \n",
       "                    \"(\", FractionBox[\"1\", SuperscriptBox[\"u\", \"2\"]],\\\n",
       " \n",
       ">    \")\"}], \"+\", \n",
       "                  FractionBox[\"π\", \"2\"]}], \")\"}]}]}], \")\"}]}], \n",
       "\n",
       " \n",
       ">         RowBox[{\"9\", \" \", SuperscriptBox[\"u\", \"7\"]}]]}], TraditionalForm]\n"
      ]
     },
     "execution_count": 1953,
     "metadata": {
      "text/html": [],
      "text/plain": []
     },
     "output_type": "execute_result"
    }
   ],
   "source": [
    "DeltaE = -Subscript[\\[Epsilon], G]/9*(u^2*(1275 + 673*u^4) + 3*(425 + 366*u^4 + 37*u^8)*(Pi/2 + ArcTan[u^(-2)]))/u^7;\n",
    "DeltaE // TraditionalForm"
   ]
  },
  {
   "cell_type": "code",
   "execution_count": 1954,
   "metadata": {
    "vscode": {
     "languageId": "wolfram"
    }
   },
   "outputs": [
    {
     "data": {
      "text/html": [
       "<div>&#36;&#36;&#45;&#92;&#102;&#114;&#97;&#99;&#123;&#92;&#101;&#112;&#115;&#105;&#108;&#111;&#110;&#32;&#95;&#71;&#32;&#92;&#108;&#101;&#102;&#116;&#40;&#92;&#108;&#101;&#102;&#116;&#40;&#54;&#55;&#51;&#32;&#117;&#94;&#52;&#43;&#49;&#50;&#55;&#53;&#92;&#114;&#105;&#103;&#104;&#116;&#41;&#32;&#117;&#94;&#50;&#43;&#51;&#32;&#92;&#108;&#101;&#102;&#116;&#40;&#51;&#55;&#32;&#117;&#94;&#56;&#43;&#51;&#54;&#54;&#32;&#117;&#94;&#52;&#43;&#52;&#50;&#53;&#92;&#114;&#105;&#103;&#104;&#116;&#41;&#32;&#92;&#108;&#101;&#102;&#116;&#40;&#92;&#116;&#97;&#110;&#32;&#94;&#123;&#45;&#49;&#125;&#92;&#108;&#101;&#102;&#116;&#40;&#92;&#102;&#114;&#97;&#99;&#123;&#49;&#125;&#123;&#117;&#94;&#50;&#125;&#92;&#114;&#105;&#103;&#104;&#116;&#41;&#43;&#92;&#102;&#114;&#97;&#99;&#123;&#92;&#112;&#105;&#32;&#125;&#123;&#50;&#125;&#92;&#114;&#105;&#103;&#104;&#116;&#41;&#92;&#114;&#105;&#103;&#104;&#116;&#41;&#125;&#123;&#57;&#32;&#117;&#94;&#55;&#125;&#36;&#36;</div>"
      ],
      "text/plain": [
       "-\\frac{\\epsilon _G \\left(\\left(673 u^4+1275\\right) u^2+3 \\left(37 u^8+366 u^4+425\\right)\\\n",
       " \n",
       ">   \\left(\\tan ^{-1}\\left(\\frac{1}{u^2}\\right)+\\frac{\\pi }{2}\\right)\\right)}{9 u^7}"
      ]
     },
     "execution_count": 1954,
     "metadata": {
      "text/html": [],
      "text/plain": []
     },
     "output_type": "execute_result"
    }
   ],
   "source": [
    "TeXForm[DeltaE]"
   ]
  },
  {
   "cell_type": "markdown",
   "metadata": {},
   "source": [
    "<span style=\"color:red\">**TODO_1:**</span> Обсудить почему при малых $u$ значения $\\Delta \\hat{E}(u)$ безгранично растут"
   ]
  },
  {
   "cell_type": "code",
   "execution_count": 1955,
   "metadata": {
    "vscode": {
     "languageId": "wolfram"
    }
   },
   "outputs": [
    {
     "data": {
      "text/html": [
       "<div><img alt=\"Output\" src=\"data:image/png;base64,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\"></div>"
      ],
      "text/plain": [
       "FormBox[InterpretationBox[RowBox[{RowBox[{\"-\", \n",
       "\n",
       " \n",
       ">           FractionBox[RowBox[{\"425\", \" \", \n",
       "\n",
       " \n",
       ">              RowBox[{\"(\", RowBox[{\"π\", \" \", SubscriptBox[\"ϵ\", \"G\"]}], \")\"}]}], \n",
       "\n",
       " \n",
       ">            RowBox[{\"3\", \" \", SuperscriptBox[\"u\", \"7\"]}]]}], \"+\", \n",
       "\n",
       " \n",
       ">         InterpretationBox[RowBox[{\"O\", \"(\", \n",
       "\n",
       " \n",
       ">            FractionBox[\"1\", SuperscriptBox[\"u\", \"3\"]], \")\"}], \n",
       "\n",
       " \n",
       ">          SeriesData[u, 0, List[], -7, -3, 1], Rule[Editable, False]]}], \n",
       "\n",
       " \n",
       ">       SeriesData[u, 0, List[Times[Rational[-425, 3], Pi, Subscript[\\[Epsilon], G]]], \n",
       "\n",
       " \n",
       ">        -7, -3, 1], Rule[Editable, False]], TraditionalForm]\n"
      ]
     },
     "execution_count": 1955,
     "metadata": {
      "text/html": [],
      "text/plain": []
     },
     "output_type": "execute_result"
    }
   ],
   "source": [
    "Simplify[Series[DeltaE, {u, 0, -4}]] // TraditionalForm"
   ]
  },
  {
   "cell_type": "markdown",
   "metadata": {},
   "source": [
    "## Условия захвата\n",
    "\n",
    "На бесконечнос энергия объекта была $u^2/2$\n",
    "\n",
    "Если $2|\\Delta \\hat{E}| > u^2$, то гиперболическая орбита (или параболическая, если $u = 0$) превратится в эллиптическую за один полный оборот,\n",
    "\n",
    "далее тело уже не сможет \"уходить\" на бесконечность.\n",
    "\n",
    "Из-за ограничения локализации точнее условие захвата поставить **нельзя**"
   ]
  },
  {
   "cell_type": "code",
   "execution_count": 1958,
   "metadata": {
    "vscode": {
     "languageId": "wolfram"
    }
   },
   "outputs": [
    {
     "data": {
      "text/html": [
       "<div><img alt=\"Output\" src=\"data:image/png;base64,iVBORw0KGgoAAAANSUhEUgAAAwgAAAA9CAIAAACGONnDAAAAzXpUWHRSYXcgcHJvZmlsZSB0eXBlIGV4aWYAAHjabY9rDgMhCIT/e4oeAQEHPY7bdZPeoMcvPjaNTUlkxk/AENr7dYVHD44UNFlGAchDixaubjLNmBqpjHwzWXTjQc5pYnWUvg9oix87N0zl/DOIeBrpP7gXXQ1rkPDksc77seq55rwPEtqi3Cb+v6sYIyGaelYmMxT3Obh1QWJKhgtPwAsjTiZ9ujaYeRusV0jtjT242V7dAsTB2VeQfpJUV/EcxbcarIqO7ICP9ToWCR9X9Vq1/HSb+AAAAAlwSFlzAAAWJQAAFiUBSVIk8AAAADx0RVh0U29mdHdhcmUAQ3JlYXRlZCB3aXRoIHRoZSBXb2xmcmFtIExhbmd1YWdlIDogd3d3LndvbGZyYW0uY29tXKKmhQAAACF0RVh0Q3JlYXRpb24gVGltZQAyMDI1OjAzOjEzIDAyOjQyOjMyhQCyEwAAIABJREFUeF7t3Xn8ddX0OPAylXlIoTJmKBWViEoyhCQloTI2yZCiKDQQRYMooVKaFZkSEaWQyFyEMhNFhWTM+H0/v+W1nd895567zx3P/XzO/uN5fZ579rD22mvvvfYal/7Pf/6z1PyUq6+++h3veMc3v/nNG2+8cbXVVttss8223nrr+QG/g7TDwIwxYL+fcsopZ5555hVXXHHHO95xrbXW2n///e9zn/vMGKxu+A4DHQZahoHrrrvu0EMP3WijjTbffPOWgTZxcJaeI8boAx/4wA477PCXv/yliJWtttrKKX/zm9984qjqBugwMOcY+Nvf/uYtccEFFxTncZvb3OarX/3q6quvPueT68DvMNBhYDwY+N3vfnfYYYcdddRRf/7zn48++ugXv/jF4+l3fnq52byA+vWvf/2FL3yhN+7uu++OjX3a054WkH/kIx+xhPMyiw7ODgMzxMAuu+zy3e9+9/TTT7/22mvPPffcbbbZBjBeGnvuuecMoeqG7jDQYaA9GDjyyCPXW2+9E088EVfUHqimDMncSIye+tSnkux9/OMfX2GFFQJHJ5xwwo477ugPv/zmN7+ZMuIGDvevf/2rk2MNxFJXYWoY+PGPf7z22mt/7Wtfe9CDHpQG9cCwp+585zt7I04Nkm6gDgMdBlqLgSuvvPL+97//t7/97XXWWQeQC1hi9O9///tmN6uWDc2HxMipff755x977LGJK7Jg1GqPfexj/eH52zbGCG1tt912rSX9DrBFiIHvfOc7xxxzTJErgoTHP/7x/sUYLUKEdFNe5Bj42c9+ttdeey0eJJjvq1/96oHzdUR40t/1rncdWLOywsEHH8wIeLi2k2i1zz77/OAHP6jsmcny8573vN///vflr/PBGOEzXvaylzEU7ZnABhtsMAlUjtjnF77whWc961mHH374iP10zTsMjBEDW265ZZlZ//nPf26IbbfddowDdV11GGg/BpzS7FN322239oM6Fggvuuii6cz3pS996Ste8Yr3v//9YwF79E4s8XOe85zPfOYz5a5WXnll1gWPecxjfvGLX/R+ZXw9v+V1r3ud+eBt2zOFL3/5y+Dh8tMekDpIOgxUYuD73//+7W9/e9q0v/71rx2KOgwsHgxcfPHF97jHPSiXF8mUY74/+tGP8uebeAWqtPxWUZOG5773vS9nqaYNJ1TfXFZcccXPfvazlf2D8373u98111xT/DofEqN+bONll13mU3ucCRHEM5/5TOLZHoXF6Gxv10OHgfFiwHHgqcS+Erkuu+yy4+28663DQGsxwPTiGc94xn777ec6bC2QYwQs5rvvvvuussoqY+y2piuqeewUZymuHtMZsX6Ue97zngcddJCr+Ze//GW5JvUOZRSpEpOj/32dEI82hW6xeLe97W2d6fjBKQyXMwTkWoN//OMfOZW7Oh0GZoIBjpwPechD0hGw9NJLv+ENb5gJJN2gHQamjwEPafTvFpz+0DMZkUh4jTXWaDrfUSRGMU3jrrnmmv/85z9nMuvyoI94xCMe97jHVQLzk5/8hBW2EInp6xxLjLD83rtvectb8CJtYEsvvfRSjtC77rrrLW5xizbA08HQYaASAzwYUCmjvZBrOgsOOOAAcuYOXR0GFjwGPv/5z3PDZATjPbDgJ2uCTKnOPvvsmcx3jz324PBx0kkntQTP4BHC7ZOf/GQZHoo/JphvetOb/vjHP/73a0u4uaZgWG8s3vbbb9+04eTqs2BlzH/99ddPboiu5w4DY8SACEYRykh59rOfPcaeu646DLQTA2QGguGJdNpO8MYO1ROe8IQ73OEOQxgRji4xMpcHP/jBouo3FVaNHQnRIU2ON6EQTZX9i+vmGHz7298eX+dSYsTtkNJ0k002ec973tMSbhSnedZZZz384Q9fbrnlWgJSB0aHgXoM3PrWtybjXGmllVQLc72udBhYwBi46qqrLrzwQrzCMssss4CnmabGpIaMxHxnZUQo+qDLmhSjDdimyXnyk5/8la98pdJ7n8GlHACnnnpqgDp/jBEWhJKY3dyHP/zh9iit2G3gyuG9DRTQwdBhIBMDFApPecpTVO6CkWZirKs2vxjwDCAMWDyntPmS1sxwvptuuilqOe2001pCM4GKSnjwjhtvvLEITHx1548xIg1jQw5umkKW1y1BNzAi/xTzrvaA1EHSYSAHAw996ENVe9SjHpVTuavTYWB+MfDpT38a8Ouvv/78TqER5DOfL70Vi5cAow0llr4fPHF9x1U+TxIjzK84lYJPnHfeeXe5y12KiGaCffzxx88Q9cIXGZ3x/wxh6IbuMDAEBsT+12qLLbYYom3XpMPAvGBAjibJkm91q1s98IEPnBeYR4Ez5nvLW95yhvOlrBcjgAbzV7/61ShzGVfbe93rXiK3fetb32JkVu4zru+4ypsxRsISsNyWa1eUgl//+tfjAjezHyE1BV8R1Jz/F1OpKJSCTO5BldLKZvY2xmq//e1vf/jDHyJBkTTH2G3bupLHF6rbBtU8wuPMQreCrsqIzGdkOlOQNkd6yB5bop/+9KennHIKJwbWANMBY3Kj8Ll94xvfuNNOO8miWBnmf3JDz0XPi3z/8pDixXzve9+7PQYYo5PNn/70p7e+9a2V1H755Zf7ar4upiEGuvHGG6OVw2qI5qmJtGuJ2xiln7G0ZTmAUaN3+sY3vlHukG+aHy+55JIln/ItwM8888zb3e527J3lodxss804ydPG5Tcfsebee+9dgxqxm0bsf5TmgUokWN8J/SUztFEGmmFb+wRJceiYIQyzGvpLX/qSS2Vco990000bbbQRgklmPYLWj6vzmn5IVWMHrbvuukcddZR7ggmCeLi8KR2gQwDQKnrmg82i9rDDDvPgw266DNggDjGphdpkQe7fRhvzjDPOQPzsSBbGEmPyUPvyyy9vUpWR/CIpB5vi4eabjgs2iMP1EK08VIBBcjFKJ2Nsi3UBz3HHHVfuM2Q9jmWcUy5jRChCeyU3WXRnVUjJnLBjhLimq8rYA0U+iXJtOpBUjkKOBRgayhoYiBM5LlJbzBDOUYYWxtQcFydj9L3vfc/ajSuOKKkGG0D5C+2pQw45JMh4CoRBB20Wadfc7W5347rMSWc4qmgbPfPGkFI6zUWIJrnBh5vagmy1IPdvo40puSni9wxYGOtLWyL/lwiK/RijQw891KchwnC8+93vLgaA1YlRiLeHw5uI23rYeeedh2s+9lbBqAmCWO6ZbCyiW/Gky1WlnXPOOfJdpKStHNtE0faMdrDWCHLG9Ylxez2CeCSOa6wh+omQD8JF9GvrRU5VwUAq6Hjuygc/+EE6l8jEvgjLaquttuOOO3pq/C/81whYINsIUY2XhnQcD3vYw3RmK43QZVZTrAPeSNZYsqI//OEPnkeCOnpAZzX+/yu1jZ5ZH1IUUmcnsT8fE16iQ0xtQTZZqPu30caMU9rTbmEs8ZOe9CQBax7wgAf0m07kh77Tne7UdL4veclLKNyLF65n2zHHHNO0n6gfCA9g2lACnoqsseyKbnYzFkgBbS5jFK7/0qOmuYnZ42/mXW2Y7WxhuO666wBQwxjhl0nngnceWITdG1hnmhXIBugx2cQsNo9ut+wNN9wQqIYBj4kddthhRMy7wtnnySWU+gnjnh5nghFH6dfczmd+yMawhlZzhm5EzzkdjljHvBiPi9ry2te+FoaFKnGyA3LEbifaPHObZ1arAXXh7d/hNmYoSkak/ImSxHg7b8l8gxGZvkVyP2QGAfSDJ7660JfGGOasB42jVPbkcqG5VN75zne+/OUvZxD9rne9K6eHBVyHjQijje222+5973tfeZrYT491Jq4yqfVDAgdCclGMOQaUTtfdqSZtS00ES+mCX/SiF6UOjUJWTPBAQcPejdEVmeHoYe9dMwRF5KhCJHujuHISrzDpBaU/RWzwVjkQ5Ehtw8yF8YSHI3HO1ltvXazZCHsannjiicVnjYnLHoDgUXh069ntvzJUjzf3pEUUV4PwVlTWSaN0LP33o+eBFNh0RRpBy5qS9Isoi1TbGnmEyHkyOv3XwDBwvuW2ldt86Go5+Jnh/gWe5XAq2i9HHHFED7QD92+qP66NSe1A/SQt4Otf//oy6tyDjNIE6b3yyivtRDEsWKpRN+cgeYZ1BDoWQo/8o5wXy5HoCN1///0l/JkhhA43qhKSrcqwitMHjGEWOf2jH/3oyrCT4HR6LAnzmKnDu+iii8zBZUybEE08zvximMweFnC1UFu+4AUvqJzjPvvsIxx2vyD0liHMwZhE2JYJvbqq3MCJktippOE+9rGPMfnqIbJ+8DRaCMzWc5/73GjyxCc+cTo2RnjERz7ykabjYKqEFsNEmdsz36222qqYsDAfe4ZwyZV9VQTKwgUmAP7+97+Dx6ZqhMD6ytxJ0EalwnuMo4y3q0p6zqHARisyBMzppLv73e+OYx6ih/wmOfMt9lazzYeolg/nTPZvAo+3o00qRFYPwDn7N5qMcWMyQwbMgQceWMYek1k3Zc95Qoh7/vnn56N6JjUdesCuNH9kcucTi8aZAJYGDZt3/tqzBSONLukHePqZR6+66qq+LpFH5IP7/Oc/XxsmxizMI8qi4g7L72Gh1gxREDOU8gTdpo5porXKuR900EFcaSgC8PV0bcU67vhw/vcUIKrBBqUSetBjjz026nPLxCUwKhRMgeCB92aKGsBDZxSckz+JgcEeJTqZAmPkHHR+kQDFW7+SMeIUyYKEjY4nHQPDYpgGcs0ANR97Uf+Vr3ylPu2KYnGR92Bvzz33pE0eY6IlUg1Y7Vn6UZZs0m0r6TmHApuuSNOJYDFtE5dBxHDD1HJZatpJZv2c+Ra7qtnmQ1TLBFK16e/fImy8mOOO6GGMcvZv6meMGzPC9+EUywgkX/eJqP7Nb37za17zGmdLQO7oZllbg3ACOS7J+Ssy9po1jFG8LdOROPahMzv80Ic+BAzPv8z6k65GtwOe1VdfvXKgMAIW1qQBY4QIIvgK4yzBVxCN+5jiZtIzaX//kYmT3KgMKv2LT9zWyp+SORuxf/kr6RFLlLKXuFXAKuGlWJtGKwxrD0+WgjRY4FGwxzcBN4YPjsJd37j+SDzZKJ1XtsWEMYnwKdidSsaIgM0Zl6av8nvf+944yMjAo9t87KnsThWHgiBk4HRIrY1CYTqwZk6Fk08+mblP4jtzmsy8TiU951BgoxUZYpq77ror8ykCV1ymvy1Tv2yRQ3Te0yRnvqlJ/TZvWq0R8NPfvwk8uzgZ0vUwRjn7N/oZ78YkkkcVnlI9OMSo+Z3CLv2OGYpw8AoXrRqcY7PYCDZalMzK+DOq4XLpea3VMEbh1cHvNXPECVWLM5PtzoT6b9ptWP7wWq1sGO54b3vb2xowRsWO4iryEmoK1oKsX8MY4SMhiltpz8S9M8Rg9YmApKgAStUQdGUglojLKRBOqskRlyi4p/9wRmCgMwrC5UYmT05FhwQ5/rvhhhuO0m1O2zBzLjNGGHEyNqFLezoJubHCqs6nfOypHBE7yNsGAsbvSU0KgoE1B1agm/ZqYWkxsGarKlTScw4FNlqRplPGDAnoUlwXXJGVIoBs2lVO/Zz5Rj8Dt3mjajmwFevMav8yjrYf8UOe0FahyBhl7t+YxXg3Zj/GiBj46U9/eg9u2RfGeSKacT+0f+5zn6N/nxBjdPHFFxO5lUuPHLRjjJpuigkyRq4QsiIWvqPrFKje3RBN59a2+jWMEV2m3dUTQO/6668PbRc+w13baDq2sYb1oiCWMXr2Yrv22msbdV5fmai5qY0ROcGrXvWqIVRF/Rgj58Iee+xRhjN5/AVj1K+UsSfcYpKcE8WxFaUo6dc8PMC9JkfEqtDtZLb0nqkfDvyZG4GbEpQyqxwRhuGaV9Jzuat8Csyh54GgEi0geN7LqSYbWyuVH4F2aEKNESvnm7nNM6sNRMLAClPbv5hg6n6xIZgQ9DBG+ft37BuzH2PkqCk/XI1OOl7DGHmghkiMAIwUXyniH0cuFga9SnGPFyuQqKXDWcT2mjOnflkXEmM0nZOtAWNEK/GJT3yClRYsF21LySFYWCvXXHNNWh6cLJbIHguVx9CFdSQfHx7gskwM3cnQDQlpkKMgTJ503JqG7ica9mOMGGQQb5SliMnXTPglPsYOZV4bn/rUp3L0kuJruwPqkc9R2cHEBaNmXo0WPfoZ4mANl66yQGsgwvsxRv0acpk0EAOg+p7L2Ct7vXkFosl+Gi4CM1GVK58EiIoSU0xVs+Yb5WJIwDgi7SMOGn7BCpPneUaTcCjED8yMVlpppcxnhvPUTCXGGYjDsVfoR8/lgXIoMFoNpOdMQiV5tXA2tT7dUkSqW265ZT4GhibUGKJyvpnbPLNaz1wy0VJsNZ39awvYIKGZKjNG+ft3jBszBu3HGFWC5AkU0Uk4X5creNiUU5hLPqqm83zzzTdHiigwxNieQEkw7EzgrsT6xxlOI08xndJrUu5IKJZPsVEzDKfAU244d6q04U42K+VZUlkqkdmAMeIcHkSjsD5L3TnH/YI+XBIO/Y9+9KM4ANqNERU0WGk3gZ7pklwMTUUmTUmnpz7+A12GC5KpgaHSAKjRKP0YI5H0jEIO0dNbsPnlQh5Tj1ve8lrVGE+Ql4QhoVsBA14zi5xF72luwzeVGA193zRljMKzr17JVYk9TqTc/pmuF6NC6wqRVKo4I59OWZcHV5CPEsI90LmJjUgIjDhsJD1+7BkoyICRaSbJDXd8ZHZeX60fPRdb5VOgVgPpWZ1MQjUumredUak14mRUZEwHTn9oQq2Zb+Y2z6zWM4VMtBRbTWH/egK54FOCpnzGqLx/x7gxh2CMwvAIh0enUSYeEkoB/GIjCx/vb4VagA4xjFSSLxhBg/8mywfXKzPk2PIUnZ7NjDgTb1QUeQ6k2C9+8Ys0gOGkggcq2xIteMaI5sopXRNdr9JwvgFjZA3CckUp2thbJ7+EhtiBzq6ILbC1H7hmlRU0ZKAeYSHJM4jQMdfDdTVcKwCESS8RDktb8Sri6uqRgg7ReT/GyBvCcOi+2Ce9UgoyxmLDFQsSqjH2v7EEWLd+MLhZVSjbD6pP2iQiTtFpX/gQ4aprpjNw0YdARU+Toe+bRowRiSZGhFtZfdaOGuwF2JpbkbTTio+ENK+wyqxxxuQbpUIxmAIha6ysMDajo3SGjFElPacZDUGBA1ckOs8nVE843FuO5HV0Qq2fb+Y2z6xWSTb5aBma6pruX9uHkUC6kDIZo4H7dywbs5HEKDS8nEZrUBceTMKnpTokN7HTacbjR2Ed/JflSbo3ac2iDvY9VL0uIMoTv2Drh7A66AfhwmaMaD9doxDr2Ic6MngimzDbpeL0dz+H/GaMUfiwGSm9kr23Qsk6epAVOgL6BY7feuM3xGQbxz30Xh26YZgdwFrlc7/YLQWztyycAJW00z7n7SKTQ7+h+zFGYZDfs0LxFlEETix2uCSo1P8rNJX9Boo3SuUjBpCig3AZE/IrheShX6hh+ya66DGFpgdrmngjxijiSAlQUU8bNdgrNnSWpQ1W7jCselFF5ViwHWkdi/G9BJTyi9dhvQwvk7BnyBhV0nMCewgKzFyRdhJq/Xwzt3lmtUraaBtamAS4MigEErSZjFHm/h1lYwIpnzFy9zkBMC71HHYwRsX85W46pz1te/LkSOvr9RtoSQFyi65LSZ1KTpZ5DgystoAZI8csCQuHQRJKV55VCLwxP/V3/fM4kzH6b0qQMMJ3jxafy4b34yhpyJjvuCFQGB08lpn4l1Uac5CmCVy0xUoPLFATvEW5UMkTb/rdI1WWt37VDEGpgUH09CEktz3IyTBzbrvkA9+vbfl371c/9kQOtJZRMwKupCKO4tprrx18jydUuTfiOqZ8JBbc5stfMXyeHWyQieVYF0WKCctqQ/YDeBKLjigtcSpxChR/8fdYMo6lSbFZPuGEEyjRGAbVLE099ooNiRXDYgn7TuTW02esZqxsuXjHRH4YAvb4qoeIh265y0E4awBOn4zVg8CArfgjm7P6rmyNgdtHhZRrrLK3SnpONZtSYP6KtJNQ6+ebuc0zq1UuR6vQ4sjC37iZEuXn0LY6mftXzVE2ZiYwqrn1CIrIIfBhOYl6itHVPX5wQtgpajI7lOVoGDYUT4zKaOwiTUS1aSb4M9OcM6G+Tv2JUY/2oU82L0yqQz6PJEbuOxd62CqQzXtrlYOA56/+/2qGKC+euRYy+FB3c9ToMZUYyKUWK/C2SBn7SIwqLTYyO8zMUYWJ6dchLUbMiLEnxaTdy81SmMqiTY9Lnd4Q4fZYHTF01dAx1K/zfhKjJXGillqqx7mdfWhAUo7BmqbJEbQ8VqirMyOZpicIMVK9bGOMi96PXeihy8q4TT1AZkqMsB1Il/ZqoAi6EfYcbQFz2fkr4ucyS6rEKlNNX52nSXIe4iJl6NgWOPWcjV2/vyJy/cBSH4ihkp77bYqBFJi5IpM4ncZIqGn6PfPN3OaZ1cpIbhtacC1OTmGOiRVTCbUyEXj8Utbs5+/fwMDQGzNfYuTlzLQoJ+Z1SIxcIj2r48VCEMA0gvVYbBmFEVJUS7RXPBDS9dSTvTXzfqysNlBiFPfaiGWgi0NNHKPRT7aInxJBLPGUFk6MsXqkZUqMluRKI/cL+y/q+fjDTY858If8Mu6G4XCnZ5F4hMAiayEiwt8NnX1GD4QlA8EgxsT3VFY7/PDDw6ABR+k1EMULXmjEiFsNrebunMIogLPYCQ6PvY5/Q8NSLkx38R8eTPi/4leBEIXB4KDEUC797srE5zJv8i6JezQVyqAQBmLC2Ov1DERQBDyL5TkyEBUcHCIigEgY6dVSbDWJRced2O3FUegfuR8KVuYtlX7nrBHsRU2xLuRAVMU12QdJnohh8O6k92UnkVGwpy0bSboSRgARJD4V64LJsLtSDrXiV6j2gqHNjHivNlQYYyqUs+FC0rScd955yUpJW7MWf4xGjxlT6ooKg8q7JjWYGwW3PXBobn01S1NJz/36HEiBmfTcckJN0++Zb+Y2dzgMdxq0DS2RZKqewDwnQrkWpdH+Ta2G25iaYxScRQw0axiCk046ycmDvUupHWpmZGvb4MX8oSq7CEivrSlHVItrxGBQMEZhX0uLEvICR2VIphU2i8FEYozSiTFwt9ZXcBu6N0lW4gVSLqydavQJmaNzp40Q2/0Kny0MIiVM+TUy+smGu+DtS/XpgnYsO5yPP/54K1gDDwWcm5eLwBVXXFGuRiEjY+l/AzzG9ZyiBjN2sTaRiwo/MQrTGm3NP+SreBGMQqWJzOij1PcQeZoYfferFtRDb1hZoag4L1foJzGKNDHlVEHBfRaDNEafEdBMKcZHiE+hyHNJ5yPKJadJPwv3SS96wDk5GyOcZTh05FjaNsUeIzMqM8xW2dXAasJqON73lPSIxzbFCwZ4UZ/aZWivhZ5RZmhj1I+e+9FkDQXmr0jLCbU49575Zm7zzGo9SG4bWjwmmSH3lFD6exXH70Xng0b7N819uI0ZzQfaGJESeb/lh/UPiZHDP4GHqsMwN1z307ntlxZKjPKvklFq5ke+HuJks6b4zgAPkwTPA53cMyVGS1YxnpLBu2C+kDj/Jmo8/+WY5iVEx5TJP1ZWw21gLFCGQBoEzpg1XDZWepQ+m7YN029vlCSMLfZAHLWESVxqqeKDplihqeI82oYpFTlKD7Th8kCMxPKp+Cks9TC/0q30NIlUDP08e8vYwFoRcSEaHH0lria96E0XqFF9LIiMzWgVz91jB4C59GgYEXvSkdJM8YaNY65YYjUrjeSSgRGzenWssmd0eCASkukquRE1mmx7Kvej50oI6ykwn57nhVDL883c5pnVepDcNrQQtFvTnmIHAVvqw/g9orQoTfdvmvtwGzNnBxHo0gpxRHX3FeszFYqgpv0Kg+v0iZDb1Ahuw0VDSV/d3DlgdHXyMUAZgosQkjeaYDBgvt99l99t1Fxy7ocRn7vfVYqUyU7CPJYig+KJLY4bqGm/5foEiTRrLg9WF/wX3Nn2CYZp9J5zeqBzCW0OUWq5PlWFi9CDz2TTV6SMKUxFkK6cgYp14iIp29PRg7KztoUkfC3WFxbWf5PcqPgpLhI6mjIMjAQJMJIVZ1Q44IADyPwiElVlmc6iN8VYqk/g7O8w/y8XgiiqXiJx/rEszaOQdLK/5qRQTCsbbfthD/fPV5HNE7OANIqzjNaVBV94/fSU2BrJeK74NVC64oorYv29O8nSeRuEFtXbgDVbkpwPjZbZNuxHz0NQYA0998yxhYSaOd/MbZ5Zrf1oySfOgft3vBtzIGD0kh4z9CSsFNJ5wgyAwsTOZXhX2QMdi9/jcnRZuETiqPd3HLweUeHxo3BDccXEj/FL0Ww53REEaQOh7SrAAAzbOIyKOC0FQiK4a6iGxlCS5g8FYIPE4XUbhcUoKYs4aXR4o0jSKtvS7zCmicg95RzmYx+uKGozIlSKFUSb69UVCUHDsgfzVByaexEeMdgppks1Vs/9VGnhoKRteUYYRJIhHC6DcTex3RKa76JgNrUK6RrnvnI/Fit8nWgJGTmZEe6K5bLrWTTzfpic2qIPp0pzTCTOI4mg01z23nvvGroves9GkxrsIYPoipJ3//33x/s63XDwUO0FWYm9yB9S1nWqHLaEIKc1wGST/yWnNvItKzKWwF1DCJzHtaEq6XkICqxZkR5QW0iojeabuc0zqyXktBAtlTQWZp09tgQ5+3e8GzNg66dKw9mkpECVB0u/LIqRCU4htHB7UoNgquIXFzbLG0dBaNIVXBQjdAdCkgUUQ50lnAyMOZK/lwcaX+d3NUrNSajSUiY71r0JtmSV2+/ojpqZqrQl7G045Lsb8EAR9iaEFq5tCzZ6/MN+aKXVItigwxoF743annPOObifpAfBUrCP00MwgkUsp24j0nF9aL6aXGmucnOOAAAMVElEQVT8MPF/lUCaPvkcxostizp2EWlHJbZD0kDkXtmPrykigN48evBYA/OcTGfR5TlHRfnxe4AtoXRROwYtHnNE6DH3ga4AlGs9WKrBHjl5ivke55cj0i7oB7DVYYCvTuVCJBN7uoPIvoTDC2JDReV8TI1IN1Um1tWhjTlc8xFbVdJzUwqsp+ceCFtIqI3mm7nNM6sl5LQQLWXSCsPNoqtj5v4d78YMwPoxRvUuEXFBVBYcVYSxpiX3KPW4dT4wxgjtOTNeVxuxkGeqMxBjxEMN5RQjNTuraSSKxsvR1YibNJrPHWOUf7Lx5oFhEodilugk4K9Mvp5Q2oAxsiexsXQEqbHlFAVxiNQtY1nRKXTiyUX3lLgQpvsQTbXXM7Qnvt8HWs7WMEahZe+XeMtwxEVEC7yfahhQ5uo4g5qMsOS07l2yxHwL38Wz6PXYg3auGbLmEU1VhpAvkkS4yElf0I9ExebhqFL8atX8OEqsiilsh/wh+tFzIwocSM9FeNpJqI3mm7nN86up2U605BPSwJrj3Zg1jNFASGoq0HzRPPScG3KD9MQYJGCe/gkwd4xR/kLAJ118ObkkhzL+ffWXYAPGKB+ghVqTsJTwE6dPWVCc48knn+widBnUT7yGMQrZG1nCQkXdoppXyISIORfVrIuT7eh50S59myeeszEHeqW1eYJDwDZexoi3lzxaVCuiDPAZyocnX5WW3+coNTMZo16nm1AoLLZCpEmBQo8jBEKY/SpEShGXaKBLWmiyKi2FBUkiOxXLYbGhdEHOlzsuqTiDoQU5u5xJdfScg6WuzpQxkLMxa07pKUM7neE89fvdSk0BYIfuiuQPT1KAPfJ3RFbMKXEtBjBtKAFPTzqKBFj62jFG/8UJMYDYXByquRRx/hLgKyxFWPZEBMiaEubP4XTQUzg30bzQeraBJjoYRsSAsI1MJsPsbHGWjp4X57q3fNY5G7PmlG757IYDL+ZbDhbTtDeaQSEM+PxSXbF65ptCjRtWPjklABguG1JO/03rxDXdD570dc4YI7nieLFhNdgDWZuBpnyNsMatgJAwvLqQQpj18KhnYzQ0Y6ShmJbiJDE0aQRMV7ltGGAHJrhqckVpG3iZ8JBCu0U4Zjrg7CPWoD3BtAb209HzQBR1FaaJgcyNuTgZo8rneqPVEXbEbehyJGXh+cV7V/P866yeEWkEyVgqL0DGSOgaetPTTz+dOEeoQ55iTnZeAP2i3QyBR4oS8gDdRvCCogdBTW+x5frl/xPrXZ+RBLgr84sBXg98sgQpnd8p8LaT8UNEA1EqHG3eFWyGCMYbhRPr6Hl+CWBBQp65MSOXQwQuXgyl/lbKx4CQe8UkKrY/vVhOet0YIq7F9kiMggCCGMolfZ0biVHEuGRwLlQPEzDPVqe5SEtC4/cLV52/9iPWjEDV/TJT8sAUrEhkDpraEQfqms8KA2JjCGurZPLKs4KzflxRygi98HYi/BK4RvgWPjUESBykM2Hu6DkTUV21KWAgf2OKVwyeZEI6BdhmO0TcSqPPl0lJRByMwj+JdiyC++eUAKCcyyGn7STqBDxBDOWSvs4NYyQGI8mQx26K+Y1pjYAoogyPJTb30MtAkKBtTcpuGSHkQtltt936SZWGHrprOAUMcMpllc+dIf84mAJUTYcgIuLjeuKJJ4rmxdWArIgzpmgr+hGGgIFdfocdPefjqqs5OQw02piRX7zmlJ4cnDPpeeCtNBxUHvlsS/JtjALhAUwbSsBTmWye2CUSSPg6H4wRW58IdrnWWmsVkcuRXsA986lM9DG1ZQgs1+SB99VjnRF3Z4U9tUUZ40D4ic0337w+afMYh5tQV1gf+wUdpv4dcBKex3+FAGk0bkfPjdDVVZ4EBhptzLib60/pSQA5qz4nMV/GsmJzM1KMfMk5JRDeHsaoBp4IQ0BRSJQ+H4yREHyxBj05qkQe4ibj9xQjPGepxl5HrlD6BRgvpr8pj3LggQcOdHAbO2xdh6NjgA63MoHd6D1PswfKMjFIekYUdbecKDcTqo6eMxHVVZsQBhptTO7GwBC1eELAtK3bVVdddbzz5Z62xRZb8EYaGL+miIoIkhzAtKEEAQQx9JT4JHOLI3E+GCOBRGMO/Od7JhPKywj6PCu8489YsAKgmIu0EhjG3bMCsht3aAwsjFUjA2cu0IOESAbuxzXWWGMI/CwMzAwx8a5JGzDQiPzkiGVy64ge3VGrDXMfCMOaa64p2dS45ut286pnjMhle+DQxQph5ZJyxjVqO4nK4CETWnfddcudi8ifQJ0PxmjllVeOacjb0DMfa+8X5mBNvY7Hi/RYeOkgxttt11uHgYli4PLLL3fkOSnEZ5roQF3nHQZmiwHe5kJU3HTTTfnBCWcL8IijcxORBo4Zlhg3/bpio8LikMe00H3F5L6cs9jvKqF4omDisY+zTO5pKkSG4Poi9BFGxPWdbvBBLSb7nYSFeTXDykovOYfhnDFGq6++engD8U3riVglxZvfzXO2du/iKgFDfMjJLmzXe4eBsWIgbK6dequssspYO+466zDQOgwstlM65isyX7+VkK9DXCLFHym3uspSNTAeYLkbbu14oJNOOolSjLhIocHkw59z4fIZ9O4KMNpQ4oLuB4+vZJCbbLLJElBHSTsyzba77LJLYNYfadzTTjtt2WWX9SPWeJrAlMfCGrN/worOFoxu9A4D+RjwmOO7IMiWULb5rbqaHQbmFANsh918XJvnFP6mYNOjme/WW29d0zA95i+55JJULZgDahC/8Kcu8zTOjZqk5qmfcF674IILmkI+ofoC/YCHQU65fxIWgnMRLOPT3DBGwickvSDzKLFYSOcsT6zZzjvvPCFU5ncLBpBcddVV+U26mh0GZoUBLznqM+Zx/NFmBUM3boeBKWNg4403JhqhUJvyuLMaTmQN8y0nok/wCI/p2nIOML2KH72Xwvh4v/32GxFsdk780erT3Y84RH5zExS+iDq1skk4jB9//PHxdT5sjEDMP1AKZY4wIm+Cm6Zwr732OvLII4MxWm+99WYuqcMdYzmPOeaYmUPSAdBhYCAGmBQIkUqE7vAaWLmr0GFgYWBg3333veGGGxpF7ZrriWNuzPeMM87oN4tw6BYQP4WuFf01kklI/zDK3N3XjG4lnW2Jjxf9IENkBFA5qaOPPlrYnf8lCM9nuFpY03KapPjXLXkBCOGIgWOY1kJcdSB1GEgYEObRaSXHToeTDgOLDQMEpeLhLZ5Z066w8cDrlKfsx+WXX94desQRR8TX8MxSeDUx3B4FS9J2cdZmEzxKJ2NsSzOIYajsMKK4SZSUvs6NKq08n+OOOy6W8Nxzzx0j+kbpCkuEFJjuj9JJ17bDwEQxcP755y+zzDLixU90lK7zDgPtxMDVV1+NG3B9tBO8sUMV863c7+GHpRDtxLiSxcYvm2666SiQOGSY/1566aWjdDLGtsyRqRQZmVVyhximbbbZpvhpXhmjyy67LDzuhJwaI/pG7+qKK65YccUVWbSN3lXXQ4eBsWOAiaXMR4cffnhPzzKmydA89uG6DjsMtBADF154oejGbJNbCNskQJJglBNZmS2QadQdusIKK8Sgp556akR78mP5iMgHTNoNdsB4kfwmE62JNZRJrJ8AhZUV82XGOXPPGDFwjsiV66yzzjXXXDNRnA7ROTYceSUefIgeuiYdBiaBAZRJQr7++utLaZzK2WefLZqtrbT77rtPYtCuzw4DLcQAkYaXQAuvjwnhikGh+WIRiv1zWHONhrCEEk360WCVFNol/vlD8I4CZLP4Pvnkkyc0kabdXn/99ZzWhWuqbMjmeoMNNpAVoOfrnEmMaD0POeSQCOpoUa1BUzRNpz5Xxp122mk6Y3WjdBjIwQBnE6/kGmtKOWVz+unqdBhYGBgQ+XDPPfdcGHPJmYXIlnKxF2uGgRGHfE7fnDAOPvjgyH3Ee4sEhSXWEJ728g4VPf9zAJtoHU5R/U42bB8CqDRQXhpMNWdlez7BNVvRs846CxtL/cm2HBvYHvA6SDoMtBwDPDfLgeMTzJ5NvEhaPoUOvA4DHQbGhQGsT+Qe5X1GXCSQwQknnLD99tsT9vBnwhttuOGGPNTGNdx89TM37vo0U8sttxxBH6kX4X/HFc0XnXXQzhwDotDWvMw6rmjmC9QB0GFgmhgQuygc8u39bbfdFlckGmRkeyVbonAv55yeJnizHev/ABL9ZCMo/5ITAAAAAElFTkSuQmCC\"></div>"
      ],
      "text/plain": [
       "FormBox[RowBox[{SuperscriptBox[\"u\", \"9\"], \"<\", \n",
       "\n",
       " \n",
       ">        RowBox[{FractionBox[\"2\", \"9\"], \" \", SubscriptBox[\"ϵ\", \"G\"], \" \", \n",
       "\n",
       " \n",
       ">          RowBox[{\"(\", RowBox[{RowBox[{RowBox[{\"(\", \n",
       "\n",
       " \n",
       ">                  RowBox[{RowBox[{\"673\", \" \", SuperscriptBox[\"u\", \"4\"]}], \"+\", \n",
       "\n",
       " \n",
       ">                    \"1275\"}], \")\"}], \" \", SuperscriptBox[\"u\", \"2\"]}], \"+\", \n",
       "\n",
       " \n",
       ">              RowBox[{FractionBox[\"3\", \"2\"], \" \", \n",
       "\n",
       " \n",
       ">                RowBox[{\"(\", RowBox[{RowBox[{\"37\", \" \", SuperscriptBox[\"u\", \"8\"]}], \n",
       "\n",
       " \n",
       ">                    \"+\", RowBox[{\"366\", \" \", SuperscriptBox[\"u\", \"4\"]}], \"+\", \"425\"}], \n",
       "\n",
       " \n",
       ">                  \")\"}], \" \", RowBox[{\"(\", \n",
       "               RowBox[{RowBox[{\"2\", \" \", \n",
       "\n",
       " \n",
       ">                      RowBox[{SuperscriptBox[\"tan\", RowBox[{\"-\", \"1\"}]], \"(\", \n",
       "\n",
       " \n",
       ">                        FractionBox[\"1\", SuperscriptBox[\"u\", \"2\"]], \")\"}]}], \"+\",\\\n",
       " \n",
       ">    \"π\"}], \n",
       "               \")\"}]}]}], \")\"}]}]}], TraditionalForm]\n"
      ]
     },
     "execution_count": 1958,
     "metadata": {
      "text/html": [],
      "text/plain": []
     },
     "output_type": "execute_result"
    }
   ],
   "source": [
    "DeltaE2 = Simplify[DeltaE + u^2/2];\n",
    "uMax2 = Simplify[2 u^7 DeltaE2];\n",
    "Simplify[uMax2 < 0] // TraditionalForm"
   ]
  },
  {
   "cell_type": "markdown",
   "metadata": {},
   "source": [
    "<span style=\"color:brown\">**NB:**</span> Условие захвата, <span style=\"color:green\">**совпадает**</span> с условием из файла binary_catch.pdf"
   ]
  },
  {
   "cell_type": "markdown",
   "metadata": {},
   "source": [
    "<span style=\"color:red\">**TODO_2:**</span> Сравнить условия захвата на параболической траектории $u = 0$ с другими авторами"
   ]
  },
  {
   "cell_type": "code",
   "execution_count": 1959,
   "metadata": {
    "vscode": {
     "languageId": "wolfram"
    }
   },
   "outputs": [
    {
     "data": {
      "text/html": [
       "<div><img alt=\"Output\" src=\"data:image/png;base64,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\"></div>"
      ],
      "text/plain": [
       "FormBox[InterpretationBox[RowBox[{FractionBox[RowBox[{\"850\", \" \", \"π\", \" \", \n",
       "\n",
       " \n",
       ">            SubscriptBox[\"ϵ\", \"G\"]}], \"3\"], \"+\", \n",
       "\n",
       " \n",
       ">         InterpretationBox[RowBox[{\"O\", \"(\", SuperscriptBox[\"u\", \"1\"], \")\"}], \n",
       "\n",
       " \n",
       ">          SeriesData[u, 0, List[], 0, 1, 1], Rule[Editable, False]]}], \n",
       "\n",
       " \n",
       ">       SeriesData[u, 0, List[Times[Rational[850, 3], Pi, Subscript[\\[Epsilon], G]]], 0,\\\n",
       " \n",
       ">    \n",
       "     1, 1], Rule[Editable, False]], TraditionalForm]\n"
      ]
     },
     "execution_count": 1959,
     "metadata": {
      "text/html": [],
      "text/plain": []
     },
     "output_type": "execute_result"
    }
   ],
   "source": [
    "Simplify[Series[(u^9 - uMax2), {u, 0, 0}]] // TraditionalForm"
   ]
  },
  {
   "cell_type": "markdown",
   "metadata": {},
   "source": [
    "## Поведение $\\hat{E}_1$ в зависимости от начальной сокрости $u$ и параметра $\\epsilon_G$\n",
    "\n",
    "$\\epsilon_G = \\frac{2}{5}\\frac{\\mu}{M} \\left( \\frac{r_s}{2b} \\right)^{\\frac{5}{2}}$,\n",
    "где $r_s = \\frac{2 G M}{c^2}$ - сумма радиусов Шварцшильда двух тел.\n",
    "\n",
    "При прицельных параметрах $b$ сравнимых с радиусом Шварцшильда, $\\epsilon_G$ не мал (смотри $\\epsilon_G = 10$).\n",
    "Энергия всегда отрицальна, и ни при какой скорости пролета так не произойдёт захвата.\n",
    "\n",
    "Если прицельный параметр много больше, чем $r_s$, то есть $\\epsilon_G$ мал,\n",
    "то находится такая скорость, при которой значении которой и меньших которой происходит захват."
   ]
  },
  {
   "cell_type": "code",
   "execution_count": 2010,
   "metadata": {
    "vscode": {
     "languageId": "wolfram"
    }
   },
   "outputs": [
    {
     "data": {
      "text/html": [
       "<div><img alt=\"Output\" src=\"data:image/png;base64,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\"></div>"
      ],
      "text/plain": [
       "Legended[-Graphics-, Placed[LineLegend[{Directive[Opacity[1.], RGBColor[0.24, 0.6, 0.8], \n",
       " \n",
       ">       AbsoluteThickness[2]], Directive[Opacity[1.], RGBColor[0.95, 0.627, 0.1425], \n",
       " \n",
       ">       AbsoluteThickness[2]], Directive[Opacity[1.], RGBColor[0.455, 0.7, 0.21], \n",
       " \n",
       ">       AbsoluteThickness[2]], Directive[Opacity[1.], \n",
       " \n",
       ">       RGBColor[0.922526, 0.385626, 0.209179], AbsoluteThickness[2]], \n",
       " \n",
       ">      Directive[Opacity[1.], RGBColor[0.578, 0.51, 0.85], AbsoluteThickness[2]], \n",
       " \n",
       ">      Directive[Opacity[1.], RGBColor[0.772079, 0.431554, 0.102387], \n",
       " \n",
       ">       AbsoluteThickness[2]], Directive[Opacity[1.], RGBColor[0.4, 0.64, 1.], \n",
       " \n",
       ">       AbsoluteThickness[2]]}, {EpsilonG = 10, EpsilonG = 2, EpsilonG = 1, \n",
       " \n",
       ">      EpsilonG = 0.5, EpsilonG = 0.1, EpsilonG = 10^(-2), EpsilonG = 10^(-5)}, \n",
       " \n",
       ">     LegendMarkers -> None, LabelStyle -> {}, LegendLayout -> Column], After, Identity]]"
      ]
     },
     "execution_count": 2010,
     "metadata": {
      "text/html": [],
      "text/plain": []
     },
     "output_type": "execute_result"
    }
   ],
   "source": [
    "Plot[\n",
    "  {\n",
    "    u^2/2 + DeltaE /. Subscript[\\[Epsilon], G] -> 10,\n",
    "    u^2/2 + DeltaE /. Subscript[\\[Epsilon], G] -> 2,\n",
    "    u^2/2 + DeltaE /. Subscript[\\[Epsilon], G] -> 1,\n",
    "    u^2/2 + DeltaE /. Subscript[\\[Epsilon], G] -> 0.5,\n",
    "    u^2/2 + DeltaE /. Subscript[\\[Epsilon], G] -> 0.1,\n",
    "    u^2/2 + DeltaE /. Subscript[\\[Epsilon], G] -> 10^(-2),\n",
    "    u^2/2 + DeltaE /. Subscript[\\[Epsilon], G] -> 10^(-5)\n",
    "  },\n",
    "  {u, 0.0, 100},\n",
    "  AxesLabel -> {\"u\", \"E1\"},\n",
    "  PlotLegends -> {\n",
    "    \"EpsilonG = 10\",\n",
    "    \"EpsilonG = 2\",\n",
    "    \"EpsilonG = 1\",\n",
    "    \"EpsilonG = 0.5\",\n",
    "    \"EpsilonG = 0.1\",\n",
    "    \"EpsilonG = 10^(-2)\",\n",
    "    \"EpsilonG = 10^(-5)\"\n",
    "    },\n",
    "  PlotRange -> All,\n",
    "  ScalingFunctions -> {\"Log\", \"SignedLog\"}\n",
    "]"
   ]
  },
  {
   "cell_type": "markdown",
   "metadata": {},
   "source": [
    "# Потеря момента за один период обращения\n",
    "\n",
    "$$\n",
    "\\Delta \\hat{J} = 2 \\epsilon_G \\int\\limits_{\\hat{t}_{\\text{min}}}^{\\infty}I_J(\\hat{t}) d \\hat{t}\n",
    "= - 2 \\epsilon_G \\int\\limits_{\\hat{r}_2^{\\text{min}}}^{\\infty}\\frac{I_J(\\hat{r}_2)}{\\hat{r}_2^{(1)}}d \\hat{r}_2,\n",
    "$$\n",
    "\n",
    "где мы заменим $\\hat{\\omega}$ на $\\frac{u}{\\hat{r}_2}$"
   ]
  },
  {
   "cell_type": "code",
   "execution_count": 1962,
   "metadata": {
    "vscode": {
     "languageId": "wolfram"
    }
   },
   "outputs": [
    {
     "data": {
      "text/html": [
       "<div><img alt=\"Output\" src=\"data:image/png;base64,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\"></div>"
      ],
      "text/plain": [
       "FormBox[RowBox[{FractionBox[RowBox[{\"16\", \" \", SuperscriptBox[\"u\", \"5\"]}], \n",
       "\n",
       " \n",
       ">         RowBox[{SubsuperscriptBox[OverscriptBox[\"r\", \"^\"], \"2\", \"3\"], \" \", \n",
       "\n",
       " \n",
       ">           SuperscriptBox[SubscriptBox[OverscriptBox[\"r\", \"^\"], \"2\"], \"′\"]}]], \"-\", \n",
       "\n",
       " \n",
       ">        FractionBox[RowBox[{\"20\", \" \", SuperscriptBox[\"u\", \"3\"], \" \", \n",
       "\n",
       " \n",
       ">           SuperscriptBox[SubscriptBox[OverscriptBox[\"r\", \"^\"], \"2\"], \"′\"]}], \n",
       "\n",
       " \n",
       ">         SubsuperscriptBox[OverscriptBox[\"r\", \"^\"], \"2\", \"3\"]], \"-\", \n",
       "\n",
       " \n",
       ">        FractionBox[RowBox[{\"4\", \" \", \"u\", \" \", \n",
       "        SuperscriptBox[RowBox[{\"(\", \n",
       "\n",
       " \n",
       ">              SuperscriptBox[SubscriptBox[OverscriptBox[\"r\", \"^\"], \"2\"], \"′′\"], \")\"}], \n",
       "\n",
       " \n",
       ">            \"2\"]}], RowBox[{SubscriptBox[OverscriptBox[\"r\", \"^\"], \"2\"], \" \", \n",
       "\n",
       " \n",
       ">           SuperscriptBox[SubscriptBox[OverscriptBox[\"r\", \"^\"], \"2\"], \"′\"]}]], \"+\", \n",
       "\n",
       " \n",
       ">        FractionBox[RowBox[{\"14\", \" \", \"u\", \" \", \n",
       "\n",
       " \n",
       ">           SuperscriptBox[SubscriptBox[OverscriptBox[\"r\", \"^\"], \"2\"], \"′\"], \" \", \n",
       "\n",
       " \n",
       ">           SuperscriptBox[SubscriptBox[OverscriptBox[\"r\", \"^\"], \"2\"], \"′′\"]}], \n",
       "\n",
       " \n",
       ">         SubsuperscriptBox[OverscriptBox[\"r\", \"^\"], \"2\", \"2\"]], \"+\", \n",
       "\n",
       " \n",
       ">        FractionBox[RowBox[{\"4\", \" \", \"u\", \" \", \n",
       "\n",
       " \n",
       ">           SuperscriptBox[SubscriptBox[OverscriptBox[\"r\", \"^\"], \"2\"], \"′′′′\"]}], \n",
       "\n",
       " \n",
       ">         SuperscriptBox[SubscriptBox[OverscriptBox[\"r\", \"^\"], \"2\"], \"′\"]], \"-\", \n",
       "\n",
       " \n",
       ">        FractionBox[RowBox[{\"6\", \" \", \"u\", \" \", \n",
       "        SuperscriptBox[RowBox[{\"(\", \n",
       "\n",
       " \n",
       ">              SuperscriptBox[SubscriptBox[OverscriptBox[\"r\", \"^\"], \"2\"], \"′\"], \")\"}], \n",
       "\n",
       " \n",
       ">            \"3\"]}], SubsuperscriptBox[OverscriptBox[\"r\", \"^\"], \"2\", \"3\"]], \"-\", \n",
       "\n",
       " \n",
       ">        FractionBox[RowBox[{\"7\", \" \", \"u\", \" \", \n",
       "\n",
       " \n",
       ">           SuperscriptBox[SubscriptBox[OverscriptBox[\"r\", \"^\"], \"2\"], \"′′′\"]}], \n",
       "\n",
       " \n",
       ">         SubscriptBox[OverscriptBox[\"r\", \"^\"], \"2\"]]}], TraditionalForm]\n"
      ]
     },
     "execution_count": 1962,
     "metadata": {
      "text/html": [],
      "text/plain": []
     },
     "output_type": "execute_result"
    }
   ],
   "source": [
    "(* Минус учтём сразу *)\n",
    "dJdr = Simplify[-dJdt/D[Subscript[OverHat[r], 2][OverHat[t]], OverHat[t]] //. OmegaReplace2];\n",
    "Expand[Simplify[dJdr]] // TraditionalForm"
   ]
  },
  {
   "cell_type": "markdown",
   "metadata": {},
   "source": [
    "<span style=\"color:brown\">**NB:**</span> Выражение для $dJ/dr$ <span style=\"color:green\">**сопадает**</span> с выраженем для интегранта из binary_catch3.pdf, если учесть деление на $\\hat{r}_2^{(1)}$"
   ]
  },
  {
   "cell_type": "markdown",
   "metadata": {
    "vscode": {
     "languageId": "wolfram"
    }
   },
   "source": [
    "Заменяя вхождение **всех** производных в выражении для $dJ/dr$, получим"
   ]
  },
  {
   "cell_type": "code",
   "execution_count": 1964,
   "metadata": {
    "vscode": {
     "languageId": "wolfram"
    }
   },
   "outputs": [
    {
     "data": {
      "text/html": [
       "<div><img alt=\"Output\" src=\"data:image/png;base64,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\"></div>"
      ],
      "text/plain": [
       "FormBox[FractionBox[RowBox[{\"2\", \" \", \"u\", \" \", \n",
       "\n",
       " \n",
       ">         RowBox[{\"(\", RowBox[{RowBox[{\"9\", \" \", \n",
       "\n",
       " \n",
       ">               SubscriptBox[OverscriptBox[\"r\", \"^\"], \"2\"], \" \", \n",
       "\n",
       " \n",
       ">               SuperscriptBox[\"u\", \"2\"]}], \"+\", \n",
       "\n",
       " \n",
       ">             RowBox[{\"20\", \" \", SqrtBox[SubscriptBox[OverscriptBox[\"r\", \"^\"], \"2\"]]}], \n",
       "\n",
       " \n",
       ">             \"-\", RowBox[{\"15\", \" \", SuperscriptBox[\"u\", \"2\"]}]}], \")\"}]}], \n",
       "\n",
       " \n",
       ">       RowBox[{SubsuperscriptBox[OverscriptBox[\"r\", \"^\"], \"2\", RowBox[{\"5\", \"/\",\\\n",
       " \n",
       ">    \"2\"}]], \n",
       "      \" \", SqrtBox[RowBox[{RowBox[{SubscriptBox[OverscriptBox[\"r\", \"^\"],\\\n",
       " \n",
       ">    \"2\"], \" \", \n",
       "           SuperscriptBox[\"u\", \"2\"]}], \"+\", \n",
       "\n",
       " \n",
       ">            RowBox[{\"2\", \" \", SqrtBox[SubscriptBox[OverscriptBox[\"r\", \"^\"], \"2\"]]}],\\\n",
       " \n",
       ">    \"-\", \n",
       "         SuperscriptBox[\"u\", \"2\"]}]]}]], TraditionalForm]\n"
      ]
     },
     "execution_count": 1964,
     "metadata": {
      "text/html": [],
      "text/plain": []
     },
     "output_type": "execute_result"
    }
   ],
   "source": [
    "dJdrFinal = Fold[ (* Последовательно применяем замены *)\n",
    "  Simplify[#1 /.\n",
    "    D[Subscript[OverHat[r], 2][OverHat[t]], {OverHat[t], #2}] -> dr2[[#2]]] &,\n",
    "  dJdr,\n",
    "  Range[5]\n",
    "];\n",
    "\n",
    "Simplify[dJdrFinal] // TraditionalForm"
   ]
  },
  {
   "cell_type": "markdown",
   "metadata": {},
   "source": [
    "$$\n",
    "  \\Delta \\hat{J}(u) = 4 \\epsilon_G \\int\\limits_{\\hat{r}_2^\\text{min}}^\\infty \\frac{u \\left(20\\sqrt{\\hat{r}_2} - 15u^2 + 9\\hat{r}_2 u^2\\right)}{\\hat{r}_2^{\\frac{5}{2}} \\sqrt{2\\sqrt{\\hat{r}_2} - u^2 + \\hat{r}_2 u^2}} \\, d\\hat{r}_2,\n",
    "$$\n",
    "где при $\\hat{r}_2 \\ge \\hat{r}_2^{\\text{min}}$ выражение $\\hat{r}_2u^2 + 2\\sqrt{\\hat{r}_2} - u^2 \\ge 0$.\n",
    "\n",
    "Полученный выше интеграл **компактнее**, чем тот, что рассмотрен в файле binary_catch3.pdf\n",
    "\n",
    "Смотри подробности в файле binary_catch_integral.ipynb\n",
    " \n",
    "Выпишем ответ:"
   ]
  },
  {
   "cell_type": "code",
   "execution_count": 1966,
   "metadata": {
    "vscode": {
     "languageId": "wolfram"
    }
   },
   "outputs": [
    {
     "data": {
      "text/html": [
       "<div><img alt=\"Output\" src=\"data:image/png;base64,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\"></div>"
      ],
      "text/plain": [
       "FormBox[RowBox[{\"4\", \" \", SubscriptBox[\"ϵ\", \"G\"], \" \", \n",
       "\n",
       " \n",
       ">        RowBox[{\"(\", RowBox[{RowBox[{\"-\", \n",
       "\n",
       " \n",
       ">              RowBox[{RowBox[{\"2\"}], \" \", SuperscriptBox[\"u\", \"2\"]}]}], \"-\", \n",
       "\n",
       " \n",
       ">            FractionBox[\"15\", SuperscriptBox[\"u\", \"2\"]], \"-\", \n",
       "\n",
       " \n",
       ">            FractionBox[RowBox[{RowBox[{\"(\", \n",
       "\n",
       " \n",
       ">                 RowBox[{RowBox[{\"7\", \" \", SuperscriptBox[\"u\", \"4\"]}], \"+\", \"15\"}], \n",
       "\n",
       " \n",
       ">                 \")\"}], \" \", RowBox[{\"(\", \n",
       "              RowBox[{RowBox[{\"2\", \" \", \n",
       "\n",
       " \n",
       ">                     RowBox[{SuperscriptBox[\"tan\", RowBox[{\"-\", \"1\"}]], \"(\", \n",
       "\n",
       " \n",
       ">                       FractionBox[\"1\", SuperscriptBox[\"u\", \"2\"]], \")\"}]}], \"+\", \"π\"}],\\\n",
       " \n",
       ">    \n",
       "              \")\"}]}], RowBox[{\"2\", \" \", SuperscriptBox[\"u\", \"4\"]}]]}], \")\"}]}], \n",
       "\n",
       " \n",
       ">      TraditionalForm]\n"
      ]
     },
     "execution_count": 1966,
     "metadata": {
      "text/html": [],
      "text/plain": []
     },
     "output_type": "execute_result"
    }
   ],
   "source": [
    "DeltaJ = 4*Subscript[\\[Epsilon], G]*(-15/u^2 - 2*u^2 - ((15 + 7*u^4)*(Pi + 2*ArcTan[u^(-2)]))/(2*u^4));\n",
    "DeltaJ // TraditionalForm"
   ]
  },
  {
   "cell_type": "code",
   "execution_count": 1967,
   "metadata": {
    "vscode": {
     "languageId": "wolfram"
    }
   },
   "outputs": [
    {
     "data": {
      "text/html": [
       "<div>&#36;&#36;&#52;&#32;&#92;&#101;&#112;&#115;&#105;&#108;&#111;&#110;&#32;&#95;&#71;&#32;&#92;&#108;&#101;&#102;&#116;&#40;&#45;&#50;&#32;&#117;&#94;&#50;&#45;&#92;&#102;&#114;&#97;&#99;&#123;&#49;&#53;&#125;&#123;&#117;&#94;&#50;&#125;&#45;&#92;&#102;&#114;&#97;&#99;&#123;&#92;&#108;&#101;&#102;&#116;&#40;&#55;&#32;&#117;&#94;&#52;&#43;&#49;&#53;&#92;&#114;&#105;&#103;&#104;&#116;&#41;&#32;&#92;&#108;&#101;&#102;&#116;&#40;&#50;&#32;&#92;&#116;&#97;&#110;&#32;&#94;&#123;&#45;&#49;&#125;&#92;&#108;&#101;&#102;&#116;&#40;&#92;&#102;&#114;&#97;&#99;&#123;&#49;&#125;&#123;&#117;&#94;&#50;&#125;&#92;&#114;&#105;&#103;&#104;&#116;&#41;&#43;&#92;&#112;&#105;&#32;&#92;&#114;&#105;&#103;&#104;&#116;&#41;&#125;&#123;&#50;&#32;&#117;&#94;&#52;&#125;&#92;&#114;&#105;&#103;&#104;&#116;&#41;&#36;&#36;</div>"
      ],
      "text/plain": [
       "4 \\epsilon _G \\left(-2 u^2-\\frac{15}{u^2}-\\frac{\\left(7 u^4+15\\right) \\left(2 \\tan\\\n",
       " \n",
       ">   ^{-1}\\left(\\frac{1}{u^2}\\right)+\\pi \\right)}{2 u^4}\\right)"
      ]
     },
     "execution_count": 1967,
     "metadata": {
      "text/html": [],
      "text/plain": []
     },
     "output_type": "execute_result"
    }
   ],
   "source": [
    "TeXForm[DeltaJ]"
   ]
  },
  {
   "cell_type": "markdown",
   "metadata": {},
   "source": [
    "В пределе малых $u$ для $\\Delta \\hat{J}(u)$ получаем\n",
    "\n",
    "<span style=\"color:red\">**TODO_3:**</span> Обсудить почему при малых $u$ значения $\\Delta \\hat{J}(u)$ безгранично растут"
   ]
  },
  {
   "cell_type": "code",
   "execution_count": 1969,
   "metadata": {
    "vscode": {
     "languageId": "wolfram"
    }
   },
   "outputs": [
    {
     "data": {
      "text/html": [
       "<div><img alt=\"Output\" src=\"data:image/png;base64,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\"></div>"
      ],
      "text/plain": [
       "FormBox[RowBox[{\"-\", FractionBox[RowBox[{\"60\", \" \", \"π\", \" \", \n",
       "\n",
       " \n",
       ">           SubscriptBox[\"ϵ\", \"G\"]}], SuperscriptBox[\"u\", \"4\"]]}], TraditionalForm]\n"
      ]
     },
     "execution_count": 1969,
     "metadata": {
      "text/html": [],
      "text/plain": []
     },
     "output_type": "execute_result"
    }
   ],
   "source": [
    "J1Smallu = Normal[Simplify[Series[DeltaJ, {u, 0, -1}]]];\n",
    "J1Smallu // TraditionalForm"
   ]
  },
  {
   "cell_type": "markdown",
   "metadata": {},
   "source": [
    "## Время слияния\n",
    "\n",
    "$a = b/\\sqrt{1-e^2}$,\n",
    "\n",
    "$J = \\mu\\sqrt{GMa(1-e^2)} = \\mu\\sqrt{GMb}\\sqrt{\\frac{b}{a}}$\n",
    "\n",
    "Момент системы после одного полного оборота вдоль ньютоновской гиперболической орбиты с учетом излучения гравволн\n",
    "$$\n",
    "  \\hat{J}_1 = \\hat{J}_0 + \\Delta \\hat{J} = u - 4 \\epsilon_G \\left(2 u^2+\\frac{15}{u^2}+\\frac{\\left(7 u^4+15\\right) \\left(2 \\tan ^{-1}\\left(\\frac{1}{u^2}\\right)+\\pi \\right)}{2 u^4}\\right) \\approx \\sqrt{\\frac{b}{a}} = \\hat{a}^{-1/2}\n",
    "$$\n",
    "\n",
    "Отсюда характерная длина большой полуоси эллиптической орбиты в случае выполнения условия захвата после одного полного оборота будет\n",
    "$$\n",
    "a \\approx b\\hat{J}_1^{-2}\n",
    "$$\n",
    "\n",
    "А время, за которое расстояние между объектов уменьшится до нуля будет\n",
    "$$\n",
    "\\tau \\approx \\frac{5}{8}\\frac{c^5}{G^3}\\frac{b^4}{\\mu M^2} \\frac{1}{\\hat{J}_1^8}\n",
    "$$"
   ]
  },
  {
   "cell_type": "markdown",
   "metadata": {},
   "source": [
    "<span style=\"color:red\">**TODO_4:**</span> А для $\\tau$ при малых $v$ будем иметь галлюциногенное"
   ]
  },
  {
   "cell_type": "code",
   "execution_count": null,
   "metadata": {
    "vscode": {
     "languageId": "wolfram"
    }
   },
   "outputs": [
    {
     "data": {
      "text/html": [
       "<div><img alt=\"Output\" src=\"data:image/png;base64,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\"></div>"
      ],
      "text/plain": [
       "          -16  40  45  32\n",
       "5.98399 10    b   c   v\n",
       "-------------------------\n",
       "        39  44  16\n",
       "       G   M   μ"
      ]
     },
     "execution_count": 1973,
     "metadata": {
      "text/html": [],
      "text/plain": []
     },
     "output_type": "execute_result"
    }
   ],
   "source": [
    "J1Smallu = - 60 Pi eG / u^4;\n",
    "eG = 2/5*\\[Mu]/M*(G M / (b c^2))^(5/2);\n",
    "u = v/Sqrt[(G*M)/b];\n",
    "N[5/8*c^5/G^3*b^4/(\\[Mu]*M^2*J1Smallu)^(8)]"
   ]
  },
  {
   "cell_type": "markdown",
   "metadata": {},
   "source": [
    "## Поведение $\\hat{J}_1$ в зависимости от начальной сокрости $u$ и параметра $\\epsilon_G$\n",
    "\n",
    "$\\epsilon_G = \\frac{2}{5}\\frac{\\mu}{M} \\left( \\frac{r_s}{2b} \\right)^{\\frac{5}{2}}$,\n",
    "где $r_s = \\frac{2 G M}{c^2}$ - сумма радиусов Шварцшильда двух тел.\n",
    "\n",
    "При прицельных параметрах $b$ сравнимых с радиусом Шварцшильда, $\\epsilon_G$ не мал (смотри $\\epsilon_G = 0.1, 0.5, 1, 2, 10$),\n",
    "и момент полностью \"съедается\" на одном проходе вдоль гиперболической траектории.\n",
    "\n",
    "Если прицельный параметр много больше, чем $r_s$, то есть $\\epsilon_G$ мал ($\\epsilon_G = 10^{-5}$),\n",
    "то только на совсем малых скоростях может \"съесться\" момент.\n",
    "\n",
    "<span style=\"color:red\">**TODO_5:**</span> Для промежуточных значениях прицельного параметра, и следовательно ($\\epsilon_G = 10^{-2}$)\n",
    "момент \"съедается\" даже на больших скоростях!\n",
    "Хотя если смотреть графики выше с поведением $\\hat{E}_1$, на этих скоростях не выполнено условие захвата."
   ]
  },
  {
   "cell_type": "code",
   "execution_count": null,
   "metadata": {
    "vscode": {
     "languageId": "wolfram"
    }
   },
   "outputs": [
    {
     "data": {
      "text/html": [
       "<div><img alt=\"Output\" src=\"data:image/png;base64,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\"></div>"
      ],
      "text/plain": [
       "Legended[-Graphics-, Placed[LineLegend[{Directive[Opacity[1.], RGBColor[0.24, 0.6, 0.8], \n",
       " \n",
       ">       AbsoluteThickness[2]], Directive[Opacity[1.], RGBColor[0.95, 0.627, 0.1425], \n",
       " \n",
       ">       AbsoluteThickness[2]], Directive[Opacity[1.], RGBColor[0.455, 0.7, 0.21], \n",
       " \n",
       ">       AbsoluteThickness[2]], Directive[Opacity[1.], \n",
       " \n",
       ">       RGBColor[0.922526, 0.385626, 0.209179], AbsoluteThickness[2]], \n",
       " \n",
       ">      Directive[Opacity[1.], RGBColor[0.578, 0.51, 0.85], AbsoluteThickness[2]], \n",
       " \n",
       ">      Directive[Opacity[1.], RGBColor[0.772079, 0.431554, 0.102387], \n",
       " \n",
       ">       AbsoluteThickness[2]], Directive[Opacity[1.], RGBColor[0.4, 0.64, 1.], \n",
       " \n",
       ">       AbsoluteThickness[2]]}, {EpsilonG = 10, EpsilonG = 2, EpsilonG = 1, \n",
       " \n",
       ">      EpsilonG = 0.5, EpsilonG = 0.1, EpsilonG = 10^(-2), EpsilonG = 10^(-5)}, \n",
       " \n",
       ">     LegendMarkers -> None, LabelStyle -> {}, LegendLayout -> Column], After, Identity]]"
      ]
     },
     "execution_count": 2002,
     "metadata": {
      "text/html": [],
      "text/plain": []
     },
     "output_type": "execute_result"
    }
   ],
   "source": [
    "Plot[\n",
    "  {\n",
    "    u + DeltaJ /. Subscript[\\[Epsilon], G] -> 10,\n",
    "    u + DeltaJ /. Subscript[\\[Epsilon], G] -> 2,\n",
    "    u + DeltaJ /. Subscript[\\[Epsilon], G] -> 1,\n",
    "    u + DeltaJ /. Subscript[\\[Epsilon], G] -> 0.5,\n",
    "    u + DeltaJ /. Subscript[\\[Epsilon], G] -> 0.1,\n",
    "    u + DeltaJ /. Subscript[\\[Epsilon], G] -> 10^(-2),\n",
    "    u + DeltaJ /. Subscript[\\[Epsilon], G] -> 10^(-5)\n",
    "  },\n",
    "  {u, 0.0, 100},\n",
    "  AxesLabel -> {\"u\", \"J1\"},\n",
    "  PlotLegends -> {\n",
    "    \"EpsilonG = 10\",\n",
    "    \"EpsilonG = 2\",\n",
    "    \"EpsilonG = 1\",\n",
    "    \"EpsilonG = 0.5\",\n",
    "    \"EpsilonG = 0.1\",\n",
    "    \"EpsilonG = 10^(-2)\",\n",
    "    \"EpsilonG = 10^(-5)\"\n",
    "    },\n",
    "  PlotRange -> All,\n",
    "  ScalingFunctions -> {\"Log\", \"SignedLog\"}\n",
    "]"
   ]
  }
 ],
 "metadata": {
  "kernelspec": {
   "display_name": "Wolfram Language 14.2",
   "language": "Wolfram Language",
   "name": "wolframlanguage14.2"
  },
  "language_info": {
   "codemirror_mode": "mathematica",
   "file_extension": ".m",
   "mimetype": "application/vnd.wolfram.m",
   "name": "Wolfram Language",
   "pygments_lexer": "mathematica",
   "version": "12.0"
  }
 },
 "nbformat": 4,
 "nbformat_minor": 2
}
