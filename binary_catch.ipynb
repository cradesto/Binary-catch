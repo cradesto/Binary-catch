{
 "cells": [
  {
   "cell_type": "markdown",
   "metadata": {},
   "source": [
    "# Binary catch\n",
    "\n",
    "**При каких условиях два тела, налетающие друг на друга с бесконечности (в системе центра масс) станут связной системой из-за испускания гравволн?**"
   ]
  },
  {
   "cell_type": "code",
   "execution_count": 1468,
   "metadata": {
    "vscode": {
     "languageId": "wolfram"
    }
   },
   "outputs": [
    {
     "name": "stdout",
     "output_type": "stream",
     "text": [
      "  (CleanSlate) Contexts purged: {Global`}\n",
      "  (CleanSlate) Approximate kernel memory recovered: 152 Kb\n"
     ]
    }
   ],
   "source": [
    "(* https://mathematica.stackexchange.com/questions/850/how-do-i-clear-all-user-defined-symbols/861#861 *)\n",
    "<< Utilities`CleanSlate`\n",
    "CleanSlate[];\n",
    "\n",
    "ClearAll[\"Global`*\"]\n",
    "(* ClearSystemCache[] *)\n",
    "(* https://mathematica.stackexchange.com/questions/111605/quit-vs-clearallglobal *)\n",
    "if[Length[Names[\"Global`*\"]] > 0, Remove[\"Global`*\"]];\n",
    "\n",
    "(* PacletInstall[\n",
    "    \"TensorSimplify\",\n",
    "\n",
    "    \"Site\" -> \"http://raw.githubusercontent.com/carlwoll/TensorSimplify/master\"\n",
    "]*)\n",
    "<<TensorSimplify`"
   ]
  },
  {
   "cell_type": "markdown",
   "metadata": {},
   "source": [
    "## Einstein Summation"
   ]
  },
  {
   "cell_type": "code",
   "execution_count": 1477,
   "metadata": {
    "vscode": {
     "languageId": "wolfram"
    }
   },
   "outputs": [],
   "source": [
    "ClearAll@EinsteinSummation\n",
    "\n",
    "EinsteinSummation[in_List, arrays_] := Module[\n",
    "  {res =\n",
    "    isum[in -> Cases[Tally @ Flatten @ in, {_, 1}][[All, 1]], arrays]},\n",
    "  res /; res =!= $Failed\n",
    "  ]\n",
    "\n",
    "EinsteinSummation[in_List -> out_, arrays_] := Module[\n",
    "  {res = isum[in -> out, arrays]},\n",
    "  res /; res =!= $Failed\n",
    "  ]\n",
    "\n",
    "isum[in_List -> out_, arrays_List] := Catch@Module[\n",
    "  {indices, contracted, uncontracted, contractions, transpose},\n",
    "  If[Length[in] != Length[arrays],\n",
    "    Message[EinsteinSummation::length, Length[in], Length[arrays]];\n",
    "    Throw[$Failed]];\n",
    "  MapThread[\n",
    "    If[IntegerQ@TensorRank[#1] && Length[#1] != TensorRank[#2],\n",
    "      Message[EinsteinSummation::shape, #1, #2];\n",
    "      Throw[$Failed]] &, {in, arrays}];\n",
    "  indices = Tally[Flatten[in, 1]];\n",
    "  If[DeleteCases[indices, {_, 1 | 2}] =!= {},\n",
    "    Message[EinsteinSummation::repeat,\n",
    "      Cases[indices, {x_, Except[1 | 2]} :> x]];\n",
    "    Throw[$Failed]];\n",
    "  uncontracted = Cases[indices, {x_, 1} :> x];\n",
    "  If[Sort[uncontracted] =!= Sort[out],\n",
    "    Message[EinsteinSummation::output, uncontracted, out];\n",
    "    Throw[$Failed]];\n",
    "  contracted = Cases[indices, {x_, 2} :> x];\n",
    "  contractions = Flatten[Position[Flatten[in, 1], #]] & /@ contracted;\n",
    "  transpose = FindPermutation[uncontracted, out];\n",
    "  Activate@\n",
    "    TensorTranspose[\n",
    "      TensorContract[Inactive[TensorProduct] @@ arrays, contractions],\n",
    "    transpose]]\n",
    "\n",
    "EinsteinSummation::length =\n",
    "  \"Number of index specifications (`1`) does not match the number of \\\n",
    "tensors (`2`)\";\n",
    "EinsteinSummation::shape =\n",
    "  \"Index specification `1` does not match the tensor rank of `2`\";\n",
    "EinsteinSummation::repeat =\n",
    "  \"Index specifications `1` are repeated more than twice\";\n",
    "EinsteinSummation::output =\n",
    "  \"The uncontracted indices don't match the desired output\";"
   ]
  },
  {
   "cell_type": "code",
   "execution_count": 1485,
   "metadata": {
    "vscode": {
     "languageId": "wolfram"
    }
   },
   "outputs": [],
   "source": [
    "$Assumptions = {\n",
    "  {OverHat[r][OverHat[t]], OverHat[t], rh} \\[Element] PositiveReals\n",
    "};"
   ]
  },
  {
   "cell_type": "markdown",
   "metadata": {},
   "source": [
    "$\\hat{r}_k$"
   ]
  },
  {
   "cell_type": "code",
   "execution_count": 1487,
   "metadata": {
    "vscode": {
     "languageId": "wolfram"
    }
   },
   "outputs": [
    {
     "data": {
      "text/html": [
       "<div><img alt=\"Output\" src=\"data:image/png;base64,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\"></div>"
      ],
      "text/plain": [
       "      ^   ^ ^\n",
       "Cos[ϕ[t]] r[t]\n",
       "\n",
       "      ^   ^ ^\n",
       "Sin[ϕ[t]] r[t]"
      ]
     },
     "execution_count": 1487,
     "metadata": {
      "text/html": [],
      "text/plain": []
     },
     "output_type": "execute_result"
    }
   ],
   "source": [
    "rh = {OverHat[r][OverHat[t]]*Cos[\\[Phi][OverHat[t]]], OverHat[r][OverHat[t]]*Sin[\\[Phi][OverHat[t]]]};\n",
    "rh // MatrixForm"
   ]
  },
  {
   "cell_type": "markdown",
   "metadata": {},
   "source": [
    "## Система движения в декартовых координатах\n",
    "$$\n",
    "\\frac{d^2r_k}{dt^2} = -\\frac{G(m_A+m_B)}{r^3}r_k - \\frac{2}{5}f_{ki}^{(5)}r_i\n",
    "$$\n",
    "\n",
    "Ч.Мизнер, К.Торн, Дж.Уилер Гравтация, Т.3 (36.8)"
   ]
  },
  {
   "cell_type": "markdown",
   "metadata": {},
   "source": [
    "Введём обозначения для масс\n",
    "\n",
    "$$\n",
    "M=m_A+m_B; \\quad\n",
    "\\mu = m_{AB} = \\frac{m_A m_B}{M}\n",
    "$$"
   ]
  },
  {
   "cell_type": "markdown",
   "metadata": {},
   "source": [
    "### Безразмерные единицы длины\n",
    "$$\n",
    "\\begin{align}\n",
    "r &= b\\hat{r} \\\\\n",
    "t &= t_0\\hat{t} \\\\\n",
    "f_{ij} &= b^2\\hat{f}_{ij} \\\\\n",
    "f_{ij}^{(5)} &= \\frac{b^2}{t_0^5}\\hat{f}_{ij}^{(5)}\n",
    "\\end{align}\n",
    "$$"
   ]
  },
  {
   "cell_type": "markdown",
   "metadata": {},
   "source": [
    "$\\hat{f}_{ki}$"
   ]
  },
  {
   "cell_type": "code",
   "execution_count": 1489,
   "metadata": {
    "vscode": {
     "languageId": "wolfram"
    }
   },
   "outputs": [
    {
     "data": {
      "text/html": [
       "<div><img alt=\"Output\" src=\"data:image/png;base64,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\"></div>"
      ],
      "text/plain": [
       "               ^    ^ ^ 2\n",
       "(1 + 3 Cos[2 ϕ[t]]) r[t]\n",
       "-------------------------         ^         ^   ^ ^ 2\n",
       "            6               Cos[ϕ[t]] Sin[ϕ[t]] r[t]\n",
       "\n",
       "                                          ^  2  ^ ^ 2\n",
       "                            (-1 + 3 Sin[ϕ[t]] ) r[t]\n",
       "      ^         ^   ^ ^ 2   -------------------------\n",
       "Cos[ϕ[t]] Sin[ϕ[t]] r[t]                3"
      ]
     },
     "execution_count": 1489,
     "metadata": {
      "text/html": [],
      "text/plain": []
     },
     "output_type": "execute_result"
    }
   ],
   "source": [
    "fh = Simplify[Array[rh[[#]]*rh[[#2]] - 1/3*KroneckerDelta[#, #2]*(OverHat[r][OverHat[t]])^2 &, {2, 2}], Trig -> True];\n",
    "fh // MatrixForm"
   ]
  },
  {
   "cell_type": "markdown",
   "metadata": {},
   "source": [
    "$\\hat{f}_{ki}^{(5)}$"
   ]
  },
  {
   "cell_type": "code",
   "execution_count": 1493,
   "metadata": {
    "vscode": {
     "languageId": "wolfram"
    }
   },
   "outputs": [
    {
     "data": {
      "text/html": [
       "<div><img alt=\"Output\" src=\"data:image/png;base64,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\"></div>"
      ],
      "text/plain": [
       "^   (5)   ^   (5)\n",
       "f         f\n",
       " x,x       x,y\n",
       "\n",
       "^   (5)   ^   (5)\n",
       "f         f\n",
       " x,y       y,y"
      ]
     },
     "execution_count": 1493,
     "metadata": {
      "text/html": [],
      "text/plain": []
     },
     "output_type": "execute_result"
    }
   ],
   "source": [
    "(* fh5 = Array[Superscript[Subscript[OverHat[f], {x, y}[[#1]], {x, y}[[#2]]], \"(5)\"] &, {2, 2}] *)\n",
    "(* Symmetric version *)\n",
    "fh5 = Array[If[#1 <= #2,\n",
    "                    Superscript[Subscript[OverHat[f], {x, y}[[#1]], {x, y}[[#2]]], \"(5)\"],\n",
    "                    Superscript[Subscript[OverHat[f], {x, y}[[#2]], {x, y}[[#1]]], \"(5)\"]] &, {2, 2}];\n",
    "fh5 // MatrixForm"
   ]
  },
  {
   "cell_type": "markdown",
   "metadata": {},
   "source": [
    "$\\hat{f}_{ki}^{(5)}\\hat{r}_i$"
   ]
  },
  {
   "cell_type": "code",
   "execution_count": 1495,
   "metadata": {
    "vscode": {
     "languageId": "wolfram"
    }
   },
   "outputs": [
    {
     "data": {
      "text/html": [
       "<div><img alt=\"Output\" src=\"data:image/png;base64,iVBORw0KGgoAAAANSUhEUgAAAqEAAABVCAIAAAD2XKovAAAAzHpUWHRSYXcgcHJvZmlsZSB0eXBlIGV4aWYAAHjabU9tDkIhDPvPKTzC2EYHx+EpJt7A47s9UIOxCWvXfZCl8Xzc0yXAmZIWq2gAObRp4+6i0sTkTO2MJ3omXu7mp1KmyN2t8i1gLP/YfcNkrj+L1n6S+MG16BpYi4Snn/vMj9XPvdZ9kdCG9hb5f65ijIJs6lGZzNBc1+TSCYWpGO64At6YcWPSq/OAmY/BokN6DAZ42N49EsSNW5wg8Yp0Zzlj4+mGNo8qlY9PNc55AVfXWr4QFa8gAAAACXBIWXMAABYlAAAWJQFJUiTwAAAAPHRFWHRTb2Z0d2FyZQBDcmVhdGVkIHdpdGggdGhlIFdvbGZyYW0gTGFuZ3VhZ2UgOiB3d3cud29sZnJhbS5jb21coqaFAAAAIXRFWHRDcmVhdGlvbiBUaW1lADIwMjU6MDM6MDkgMjA6MDc6NDjr3MJlAAAgAElEQVR4Xu3defh11dg4cIWXzCEylkKGkjGiUERFpkTKECpK5iEqYzMPRSKUzDOZhcxKxsykZCjzPCbj7+O6r99697v3OfusPZxz9vf77P3Hc51nf9e+173uNdzzvdb5z3/+c7HxGSkwYAr8/e9/32uvvd70pjcVcbzzne/8mc98poT1ueeee73rXS9ennbaad/73vf233//AY9sRG2kwFpNgerW/vjHP77DDjuUiPLQhz705JNPTi8f/vCHH3vssVe84hXXatplD36dkcdn02psuBwKvOQlL8G8/VvsfosttvjlL39ptxdfPuUpT7nqVa8ab/76179uueWWZ5555lWucpXl4D32OlJgpEAtBapb+53vfOf973//+973vje84Q3Tpzbygx70oPTfNWvW/P73vz/ssMNG6uZQYOTxOVRaW9p86lOfetvb3nbpS1/6uc997uUud7khDPvPf/6z3f7Zz352k002KeJzrWtdy/tPfOITNUgefvjhv/3tb1/4whcOYSAjDiMFlkWBf/zjH3b07373u7vf/e73ute9loVGqd+JW/tVr3rVvvvu+8lPfvJOd7rTNDx9eOMb3/iLX/zihhtuOJCxDBmNdYeM3IjbIinwhS984Z73vOfLXvayF73oRfe5z30uuuiiRfY+ra9jjjlmm222KTF4jR1YV7/61esxfMxjHvOGN7zhggsuGMJARhxGCiyFAv/+97/Zusm7tjYV+UMf+tBS0Kh2OnFr29da1m9t6scjHvGIUY/PnMcsPf7zn//8Rz/60UMOOSQT6KCaUQGLy/p+97vfrW51q6VgOCct+YQTTjj//PNjROuss45poog3HeC3vvWtO97xjo6D9773vW9/+9uPO+44hKLTX/ziF28Kqt/2/OuvfOUrSy66v/3tb+utt94d7nCH2972tj/96U+J89tuuy37nuGXet97772p+0972tP6xaoXaHNaD73gtiKA0E05dANV3tklzvI8pvKcc855zWtekybCat95551bzMujH/3oV7ziFWzdPFmE+D/84Q8f+chHQGsBqt9PJm7tpz/96UcfffRznvOcH/3oR46jG9zgBg972MOufe1rl7p24t3sZjfjrbvkJS/ZL1bdoS3SanLwwQc/4AEP4MuoQ5s/vv5BaCfsz372s1kNB/p3AuwVrnAFAmw8H/vYx5aCKDkpWb/vcpe74FJ9ofGMZzwjhrb99tub6V/96ldNIZ933nnXvOY1ccqvfe1r8e3znvc8oHi7zX5TaD22h8+VrnQl53gJ5i9+8Qvorbvuure4xS0233zzWN93vetd7a5Sy/e9732Osx5R6gvU/NZDXxgOH47zfeutt47F/6hHPWpZCM9pKr/yla+kU4teyyjVYoBYpq3h29jIdvr1r399e+qrX/1qC2g9fjJta++3334QvtrVrkZqv/zlL+83jYWSVu2aqkbz7BGlXkD961//2n333eNEsj4/+MEP9gJ2GpAf/vCHO+64Y30XF5uJwVve8hby8sxmg22Ax2+11VbLRe+b3/zmla98ZVvr05/+9GMf+1jTT0v+5z//2S9W9m07Hs/qxRgurq2ID8se2cga6hfJRtDe+ta3TlvBPPEUnYAGc2e9sR9//PEl+D/5yU/E3DXqdAGNF7MeFjCQ5XaxgDN05gAXM5V8Zy14vGCUDTbY4NnPfnZxFD//+c9vfvObH3DAATOHNtcG07a2YLpTTjklhHWK0Iknnhgsv6ps7LPPPsyNc0WyBXCyJoRZTb785S9f4xrXuMxlLsOQ3AJO/idPfvKTGV9r2s/g8Sh7+9vf/je/+U1+l0NruXQevzAtuTWPN2XCWKoT96c//Wm5sylDhrE9BwfhuLbWnnvuWWpMkKLu9y5O5aA0rc3C1kMXJFfEt0vn8QubynY83iRO3MIXXnjh0ndE/taWQWNrJ4E+rUxOyWc+85mDWqhLsZpQY9g8augwI+bu1FNPZQ6lg3b3Uqy1ECR2MzeR5jiQggiWJi0ZW/rxj388ELJc9rKXLWHCQu6AWC565Pcwy898mGq0kS9XaulzntrWUQX8rPQnkjIZaCYOmQ1WxHrIHMta3mz4UzkxO8a+piIvd+562dqt02LZCYgItjYNuC86iBY86aSTWE1e+tKXRmCQgAPH/sYbbxzWiDk93KyssE6qqfDr5aBdd91VuPWgZKWmyCxdj1+YltxFj09UJeAfeeSRnHbBF9dff31+7gMPPHAptpzvfve7wm2qM/6ud71LkGDxPXcSbI844ohSY/4w0Q9N10y0n5OfdWHrod2o+/2K2/Xe9763lK0zzjijX8igLV2PX9hUttbjizS3ZURW8RjaKYxbN7nJTR7ykIcwjPc+LzkAJ25twoeMeS7tBIGMLhaBxbtqeCDWq4KV01epzfxc5suymigcZCqnkaLOVu9Ytw6aEvEvf/kL0jPFqE32pCc9ibbKA9QUSI/th8DjexxODaheePxOO+2U5MFLXepSzgL/tceoyIsZRbEXu5EiUooiZGDg6GIaIYa/4x3vEPwvNYjgTF7mgCwhedRRRwm3boH5YvysLRBb1icWwOtf//qDDjpojz32YJNE9h/84AczkRHIHctJwMTMxk0bDIHHN8W5XfvuPJ6eZzvHXNgsKfVGBHs7lDp+NXFr04Chd8tb3tKP97///S9+8Ys32mgjb2TzVvm0k6GdM3HxLvOOtJr5eSQgTKNGXe7cm9/8ZqYGcUz5RoYQKKQzFT+5xCUu4ajF76upTfmQW7ek273nPe+hkzWCwOrCayUypf4rYA05tcF1xKlN/IQ5REj/7W53u+22264eptX/ghe8wLxGM+IqTTQHeTqTaBocMdV6y/mq2Obd7363DDRvhATaVzaY1QNzRWHx0abQemkvow9HKWUNiQTEbGBrjuLMoiyqdVNNoxeZLLfE0wgZ3EtSvrF/+MMfDg/LoYce+qxnPUuigYVRs4znsR7EaZ5++ukJf/soHdaNBtWlMY7+xCc+sbSv0UFe1vOf//yackkoLxVT17e5zW0spC44VL/9n//5H1u7KJXOhC+kS+S2zOyZ5VMGNZV2paJPwQJbPA4TUehnnXUWJV6RmXvc4x5ST3/961+zVKsJXd01Lbpo8cnErc2s7fRz4ARASjwpxDIrwSeCW1rf/va3m/YrCwkzclCL17OA7fS73e1uSKHqTn0GmuJ6LPzRnTMBDad17SBydIitrs9hbn3OT+zX0UQQdAxO+GuNjOBYp4XPFCJSA4dgqH0eScnkfduPsTfeSMfKB9Vjy3Z6vEhDXGQmGoA74AwzHpalaZ/wwSPCgx/84Jkw6alYWgDkcMqPp+2ux0MPkiZR4ulMPBfT4HWvex1dcGJfNEvmRyfXxIBBn0iiZepnWGqKautEg3msB0nSsRgIiGanRW5k0+GX2pNiiemxi4l9FgnbO39qvOHWqQngOvvss5UrcZLIBOuIRvXzFnq81HBjyTFKDWoqO+rxEk9isjCe3mehNcCarS2OTBk7ovy03F2CWihCjZ4uiQYWGw0qdiIuPq1fckDoAKU0pWr71uf8xK7Z2EhCE/9UZ6vHp9UIyyQiJTWWkWwNdqH0lfNXEQMHwbLYRgseb57IudTEmWPPBx6iaA6PL3baaG935/ERuTaohHL8Q91KAvvMuag2oPJWrXyZcNolGsx1PXSf38yxl5rFqrCviVPpT7QQ/jihmpTLdmC7f9WCx5PenNQ5XQ9qKhudA9XRiUqJw3lQCeWttzZVSjhbjqBWJUVrl3nmYuOYDlLP5PGtz/mJq5cwrVLIxD9Njat3xuHKDESBcf1D2nKeaiOG+Utf+hIjTGrvFKCIfP3rX3dGTARCzSKySY0AZFY//5VIVONhRmOrSZaTmV81bfCNb3yDETiOtr4e5qC+QM0PDjkX8H4H3hFboX9CVRnKmsJhleXSq1r5MuGUEg0sNpsWl2U5cDZlAqlptiLWA/xtBKzdD+o47phGxNjz+Mc/nqWEnak7NRIEtHWAOA3IED2CTaD4C3pf3sOfytjXq2ZrM7Nbe9SwFiuk6lcSdoabSGfH71oALH2yrMWw6aabyuScWIB8Ko8X9yiIKXPMTPqcwRoj/XWve93qVxPngzfopje9KQe2Xcdm4Mduu+1W8vklUEyUThP+JKkCjJaSJp3C/CKUiXDK9vUQNXhARXV5OsIkPgtaJHJy/rEKgKbygyEUn1vf+tYde+n4+atf/WqKsrlmfbVKQJPXNygMOd74zJoOUyoL3167g4CXFwXi9g5ZRgIC+AVFtchDJSxbGAqCNsVH+xWxHkrjIlWH8J0UlGKD5IlLL2VhlFZ4/FeB0irFGPBBiIgHgj5vIucUz73TQI0zxtgcuT9/Imh+eLyQrvxPprVcEVPJB8+ASk9Lkq7DuTg7Qla7k6ILhHZb2+EfcXMtHrGfKCDLw7fszW6+Eb1kyamK7ZRuXQOfP9H5wDOYigTLOS9thLlSmy5kopNTpkiZqTxe6na1SvA0mtqr/sSa8YQnPCGT7o985CNtaTZY21j+vfAZCj0qYIoCnUpA/IkXBO/54x//6LQ1Tze60Y2cPhRuoUDWcfdMboqaaBSxZpAxCtYCwoRAholHW+YYsZnvfOc7vEqMS6H86QV7KD5GlAltTs3gRp5THZoUFUcqYXBQGPJvPfCBD2w6fKIVltz0q2hvvaEApyDxEafHn+KqjHgIo+3url76emDbCIN//iOlgiCuPe8peXom06UVlVZ4/HdiQjbyQun73/++YppOW0I/NhwVyP1JQoQtn4/qtJZOiac+9akiqmgFtjNVwYH+xje+sQvkpU9lDvLUU7SlNaXqDqWpSdX+c6DNo027rU0yaHElR+Af69O/H/jAB4SVUOfSuDCUCONv8TCV469OjCT9Y0kLpjYeL4Swinwdj595r1cCZ4R+I1BVrp9IL9Z76qM/4dYYDIqjiF3HkIIuku6KR6pmNj9bih9OGUuWFIZ3OojBoYCS6aKycesHNJgwQhDl5BGQv8R0uMJBtXMHnDOiHWQSg4CGeEJZKb6J9/IM2wHv6ythOAnJsNygZ3ozBAz7GmlTOOQ8DJ4L0xpwfx32QPpxbrrhoymoaL/09aDudwuLiMh5Z7ETkDxNBLdBaioCEdCLi8fvaZkmiYb4utqfxCacHmv3X/UPYkcLgW5H6viKRAICUxmNTRe4u5QERkfiu8gYd5i2Br70qczB3IkfcyHpPNo7qIuzE0k0a+FjO5tB/qD999+f1EsAxYOYWmui5eupJAEtCPva1742WsqFKW2EeVMbvyZkTMBzWviJHAPCb05wijZ2PtCOj5z2uHiIAkzEDs3iJ6eddlqgiMUW37tdJ95XK7GYp/p7U2bGzrBYOF+Cl+uUYs3XqBy63+QJhlkmr2mRwzOBp1GETX7gMXcsIpBU1i1nHldxm6KSx9qUH5k/1/XQPeZOXTZhMS0mjo+pyKrtF4skMyA3iq5MzMN2Msa+Zn0t3XoVZUE9NbkqM8OgBAnZy/J9Yv+S2lkLYvjwAbwmrnZQU9kx5g5LC2K2SyhvsWAG+wmLepCCPqmKaz6eMxdbgBIDFPAXHHOnax4ZKb7VEU3V49nQ8g2SYXDObC+EJ9R024yJPigSj0TwyAVPUfrx3s5MDfhKi5EF9nCXtHsUEUxEuqdPxw1mQn78GywZg7fVmRDCUDE+axsFWF+wN/bqtW3gpfGyjorVEPwYkbPE9KhGIL+0l+A41weXEtZT3G7res/MsMx+UnbVQIyijZzxrPQxNGqDMKWOFvu1fFWs6OHzzLLVr+ghlJDHf1NwZfFPdTw+/2i7znWuA2jmbhRjHxgUw+8TTvGSEFSMpFOC0UbFy6kyRFpGCfZ8VRi7VxEnTDAeyLBKXgZB+8wSKfwyYig4FFbTahjHkkkBHqXFF5zJxG3BzUTDEcrtcVWA4poQ3lxlj9W86o5J9Rbw5ChkRGkHn/yx2WabpUvlySKE9RRUL0ve73Fft6PtSv9KiFy6AXaljyXhL9xkYlzaVB5va+XHJNtLepro8K9SMIkCE0tNRaAf83vEeKeHwc0WVbaM5EGN4PbgUAGBj5DNsPU8ieY1zOJ8F4V9YCO4o/VB0xqx8cMhUKB1DM4QkIcDGzXl296Jh8ObyS391w+e70ao2g7sXsR0Xu3Yv6phcmw1ApLTuPU1QgEcR2cvJH8k6UHSo12c9HhtsPlxX+fMxeprs9L39cQZsTerl3JpOZXHiwAvGdJrZjp4vPzCnJKxKSdtYiphxLFT2as5eLIR1MX0lVA4vgdHjC3KHCdiViRUu4XIMMATXzxQDKF4EISkH4pL94droDuQZUEgeMmQlLtcRIDE5mXmWdkdwrLGPqd+570esDo+7/RwOdnXpTfthkbCTvLB0uNGq0NQDNV5l2561MC+FmpXzBViLOxrX4M/76lsN02ZXwk8souLOT6MNN4Iy8+EINpL+2rpCKJV6cTIBLjSmy1+PRBnm+XHm618UZpjI5zivF8z5yZtvDPPPLPa+HOf+5yXEp+mhcpTu1laXv7yl0v34hSEJCeEovQz+53YwCGY6u9qYKVa7sUqGXQUmHQ/C8L4P9Ff0g7zxX9lSch4FCmZyqcrgWI2GVcyF3R3CIsf9Zx6XMx64GjgjVKMNh46PZN7+q8fQmtnDnDa5CpTETVuZV3OBLLgBhElUNzapeo3ondZI1I2cxf0FjOVXTCc+a2jWIEjGappri0Mb1IQ9EwIUpy0L6WAk7QEObkdYObnq6ZBcvIu/qi3GSeW56rT4/Nj2WjY4ZZTGqJ6cQL93upJri81KKKImBOnlG5L1o64xFJmM3Ey3VKQVgMzg7hZheW9aS0qskBInEsmDgjwBUTwnUenFihLfr64M22xhllC6H4vVdKWsiUQnLEXffbcc0/uEseBqAikE61dcytJEdXuEJYy8Hl0ulLWg60n2kb6XDUznvoei7mXqjL9ElmGCAYfCbfxlOxzkoaMqJd0ppUylTUUZpVhGRVn7qo3zSg2zj2RT/mlZiShOQQENhV7iXvTW9ea7HdJLAZaMj9HzZhFPvj1xPIVU3m8EzyfxxsJTTpi9ORb0/bsKNYeAj7ruhh191bR9eNEUGQm1G5UcPlKGOd1J3k3bqIU/lbMi2UH3mWXXVjUpbfS3YtUk4wbYfAKFbWj5o477ihOIZkfCPsy5YKjq10jp9aclRZuu45CYxA6QEBObJ5ppXilWDvIi/zK0aksiVl43OMeJ02cIoh0jYjfHcIixzu/vlbKeiC7M24deOCBLijjeo+YG/nE0rHiNj/RvC1y7udH2IDMNwlhdr44XgTnKreV7HPyxU8++WRuvkgW7fislKmsH6ZTjm7jdHKi7r333vwawaEzH4c2gUB4UzrQeIVETdHBih6TTGgrtxmBOCLQhaOm6HL/FV6Gocx1XFHEYkIX0xIEpaupbJWfPqglgw8be+oj3VXljRxZdYUSNJa04i14knAiiTY2J7Gg2C+PrwKZCawzhZGQcKDUXbxU3wfXmYbqzDzXsEAogMPT71yQ+MsqoCSyhGCCBU9/DRFmAk/fOhZj7j32A4s3+39IReZ+WheN8mK7509n5sfHPbPcP+7JNZWNFkk07g6hRaf5n6SUqqaXvM11PXSf3xb58XZWcfeZ92Ilf7ryzKubcvLj8ZXS7KR6fC79nDZx9SnLPMFcFco6hbcCqtxwNFRiPSH+kEMOqV8Pg5rKRudAdVyZ+fHOOp5QVEUrRMvfL9GSAsNQt+uuu8Z/407hpkykaadN20d+fP5lngl+Zn689uk2dstMd5hIKPeqpvZyzk8Dot+JV3RO1eNbSBxC1cSyUuIjqi60VSxZ8SDyXfEK8DgauHBIiyHjSMdHEcnxZB/+3WLvWKNaY7JdafPi7FiJCROcAoz/9rBL7RSxmlgkP3MI8qN4DWilcn8dKGR/E6NWtoh9loYo5Nn9garyfNtvvz1QUQgzbr5h5FjWNQatB2UifEtOZ4UrujzzAXaHkN9Xi5bdXTMzO13KeuBTizuO8x87y32sJ5xwAm01uHvEV5p3zBInnnxldV4Hic754b15gP/bSgasY4c8HVU3mDGdJHBmX2RlVC0kH1R9y6VMZV/IF+HQmtwUYF/TQGg7Tbuga/HiOdhDYWUGYLJ1BUlTOHNtv4CtzW2h3gPPBf2HukjWpKYixcyCj/Ma+DShoIUeXwRFZObdIRjWF6HziZbMO4zkmXcFCpbhCBQbLEgYj5wpx2XK4/RsVRFQWfovmWMm2GiQCbwIjWpIRiaXECDEZdR31Eh+767n5YzafBGGxDHIYCbMTStDZt5LRQwT8EwIOcgMrc1c18Ni5reGpM4ssik5OMTTpRM/U7ViihAxwBoB83y0BzWVjc6B1vPCtuEAjAolfHDT4Dgqp/3J8mAxjhqIpEDxUq2RGdqHmYstoU1Usk3iqJfBUW/v7GV+F6HHF8UQpz8HPCV4plNfSz4bPt3MdHwC0TbbbEOrIHK2vpmgKjFFqRN3r0n/LXocepetXHNEm7eRKFWZ5f17x6E1QJxbOV52CNZsVjjOzj322KMa6MFry0ZKBXTRQKmvTAitMVxxH66g9eDUpuqR/jlue9x6854y65AkKrwO5nNFewVNZZXm3BnCpFDJDyHP6h35UW2mxrA8I/c4TLzPxvJg16EmUWRxu/yQvXmvgcXD56q2TeKoV1Gxnb2zF7T7tNX3gtASgczjbuklDmceXQskiRQskYkirYRiEVSVICz1pQ3zlIO1mmSRCWEeyI8w104KsBsJGywWvVg76VAzasZFsjsNB29mzRa3QZUivrtEoPQV4Z6GqkJJBDtXH2cCxytXiGAdathI6qVTYOTx/zsFjM8t7jCNmjzxTLxAs+kck3/FJwbAyfcINYXYU3u7mnRPxlclNEC6bpmU6t/iFY3eMz2FxY/trth5PoSeUF4CmN7XgwTOWAwT9aoljHCldYnlUC5bRHevPVPpCj42OWHwTBGmV6UgYXpynquFiu39CKIsbe20KAREs7M6xFZfypyAqtiJxYD51rthcef8nPzxw/GmtPCr5SMvkcx+SI+aMPnf1ri7WBcTTAVHM2Eu3V9bxJP/iczkxt5M5FdHs3msB3mkaTGIGuMoWR206j6Kpi7SRj0Oaip78dc2Gn5N4zDOyVue2IaWL2NIcDRjfl89DgGOnKO0DYVjd0eJQtjunJ/W9TR//H8T0yc+HWPuupOgLwhz5fF9IdkLnEHxeEkTDgJJt70MbQQyUqBKgbny+EERfDg8nogpkCjqiFdJJNqGI8/GP/roowdFwLUBmUXH3LW2YIwfrgIKqIOkBJ5I5v32228VDGccwkiBkQIoIDXa5SDywZQSL91KKpBezrNKJ6Jz1BpSbmSk2EAoMPrjBzIRqwoN0XaCd+RVzzWMeVWRbBzMSIHBU4DuLlZcRjS7QglZCYpSjiVJScATODLeyDycyZxS/e5iF1MDQTWbXi6HXu5oJYSoxqCmTaCh5swqu1hQ1q+aAYamtLigViGyETgzPiMFVjcF4saKKKWsPo/6NqtpvELe0oV+slHEslWzVFbTeMexdKSACBL14IUEluCsfh6vss2aNWvSsAWBD630UsepZSJTbCEBkQGotmBHmOPnIwWGTwGh8ukyTQGepeSO4eNfj6HaKcLdUxvlnw8++OCVPqgR//lRYO3l8fOj6Qh5pMBIgZECIwVGCgyBAtN4/OiPH8LsjDiMFBgpMFJgpMBIgf4pMPL4/mk6QhwpMFJgpMBIgZECQ6DAyOOHMAsjDiMFRgqMFBgpMFKgfwqMPL5/mo4QRwqMFBgpMFJgpMAQKDDy+CHMwojDSIGRAiMFRgqMFOifAiOP75+mI8SRAiMFRgqMFBgpMAQKjDx+CLMw4jBSYKTASIGRAiMF+qfAyOP7p+kIcaTASIGRAiMFRgoMgQIjjx/CLIw4jBQYKTBSYKTASIH+KTDy+P5pOkLslwIuot5jjz1KMN2ncPHK84Mf/CA1O+200xR+6heTEdpIgZECPVKgurXdZ1Pd1w9/+MOLnfrvH/7whx7RWN2gRh6/uue32eiUyH7MYx7z5Cc/+c9//nOzL+fZ+oQTTqjesuMaHi+f+n+fy1/+8gmR29/+9sccc0zc1jM+IwXWZgr84x//cB2crf3e9753UHSobm3307uE/t73vndxZ9/tbncron3Tm9403TE2qOEMFJn/THnudKc7ve51r5v21/H96qPA5z//+ctd7nKxTO9yl7v87W9/G8IY//SnP7mw0pV6JWSuec1rUuXrMXT/kHvJhjCKEYeRAsuiwL/+9a/dd9899vUlL3nJD37wg8vCpNTvxK3tTmp4ukuzBkkfXvva1/7Zz342kIEMBI3jjz/+nve8ZxWZ1X/v3Gc/+1k37iUJ6373u9+tbnWrgQpcrdAiC59//vnx6TrrrENgb3Fr+7e+9a073vGOJGiS/tvf/vbjjjsOod72trexm7VCqrePDj30ULfqwaQE8TKXucy97nWvt7zlLTU9/f73v99ss82+/OUvOxF6Q2gENBgKPPe5z2XsDXTctfi0pz1tMKj1gMg555zzmte8JgG6wx3usPPOO7eA++hHP/oVr3jFgx70oKc85Sl4ACv3Rz7yEdBagOr3k4lb+/nPf74Lsr/zne/c6EY3qunu2c9+NhPdeNlukURr7500bpy0FL73/58lOnLmZAn/8Y9/HIM788wzDz/88BZmdm5s1jC3ccNw2223fclLXvK85z3vXe961z777EMq7HdjN4X26le/Ghqlr9gYLrzwwgsuuIBbweH1xCc+EbZVVK90pSvtsssub3rTm5p2upj2c1oPi0F+CL1Y7Z/4xCdi8Z933nlLRGkeU2kjp1PrpJNOon+3GOAznvEMDJ6V/o1vfOMtb3nL008/nQEMp//a177WAlq/n0zc2r/97W/18ta3vvURj3jEXqR3i08AABhYSURBVHvtZYpt82q/e++9txHxQfSLUi/QBucZWfW2eqtkq622Wro5ZQGW8K9+9avW6K9+9aumg2XT3mSTTc4999zih6TCK1zhCj/84Q+bQuuxvZMIn6arlWD+4he/MNJ11133Fre4xeabbx478653vavdVWr5vve9j8rSI0p9gVrAeugL1cHCGYjleQFTeZ/73AefbjoR+OUGG2xA5S1++POf//zmN7/5AQcc0BRav+2nbe399tvPXr7a1a5G2YjwGlZJhthq78yxH/3oR/vFqju0JXpGptnqLzby+O7zOhPCN7/5zStf+crYFaPCYx/7WAuXJfyf//znzA8bNWjN4/VCaaj2xe/VCIHeGxPnd9xxx4lgKXCMmfEn0snWW2+NqlZ5qfFPfvKTq1zlKr0j1hHgYtZDRySH//kQePxiprIdjzeDE7cwG1jvh0/T1TJta/OvnXLKKSGsM9edeOKJwfK5EUtdMO9xKTbtd97tH/WoR0GYcZGLUCARlyJn8bw7DfjTePwYV9+LeaYOyJAt4Qnvy172sqUx0J4dEHOnTm0HwmqmudIF3F3/+tePrzfddFO+Rj/OOOOMEryrX/3qInUJ1+0GMg8b7IpYD+3ItbZ9NfypTFG0xamxr7HP5U7WtK0troJAc4lLXAJ6l7rUpR75yEduscUWv/zlL0XdVre29+1GMSdz+jA9IyOPb7dIGnzFH8zcRJq72c1uFp8985nPZAl/5zvfyZXeANBCmmKHRx111A1ucAMSKNcd88MOO+zw9Kc/PfxkC37I72GWn/lwx2jz17/+tdTS506NdpGDX/jCF3guzdSLXvQi585FF100E42cBitrPeSMqKbN17/+daRjjPnc5z7XEdQAP19ZU/ntb39b2M36669vW3HDyUB76EMf+u53v3sphO1lazPRtUCeScDA+XBt7fvf//7FiOwW0NIndAlhEzwjwr/EPnt/vetdz7G/8cYbhzViaU/vtvq//OUvn/nMZ4499lgREzKXcDIeoMUYKyb2MgR//GIs4V1s9Yl0O+20U1qL5Gg+b//F77HPxU/id7/7XXp8tV8RdhIBiu+FWMPziCOOKDUWqSQPsAXmc7XBLmY9tBh1zScWwOtf//qDDjpIPSIyn0wHWuzMLghJsZw4U2Y2btpgCLb6xUxla1t9IimLlO0cc4EDpdSb5zznOU3J3kv7iVubgUHALzUjdUFGZ4pz/lSdC8R6jKYFMvMzpy/XM7Kg3DlVih7ykIf89Kc/LcosDC9UQ/w+pJsFP87997znPeJiGvVLIuO1EplS/xWwhpzaiIshIE/8hFL4sY997Ha3u912221XD9MSV+HB2o1mljIulYO8MBbRNGLuqhVjcj7XhlB/3/ve1w/hApTXjTbaiMwLc/G9JN9MID020zstHC8pjoidDWKkZnY8xNTm/e9/P/bj5Ve+8hVqShGBo48+mgXCv42w0uM222wD8oc//OGwvsjzedaznqXAloVRs4znsR7EcAiHTvjbR+mwbjSoLo1xdMkLpX2NDvKyJDtNNAhHdw94wAOkYvpxm9vcxkLqgkP1W5kgtnZRKp0Jn7tXVJfiSBtuuOHit3brqbQrr3Wta7VOFXOYiFA766yzhAS96lWvusc97rHeeuv9+te/lijL5yXedibdem8wcWvjUo5c8f+C6qm/7PNOoR/96Ef+tfyKOMTnDP41a28izszpmJGDmi/fAg5vC1LIyN9yyy1rhrlmzZoUxu9MQMNpjV/4whdCT9xVfQ5z63N+Wr/Tcuf6jLlzCIba57nhDW9I3rf90pkrHauFzNX9k3Z6vCppVJaZvQNukRlmPKTOaZ+wzyPLgx/84JkwOcIlwgZAxqj8eNruejz0IGkSObpm4rmYBsJrP/CBD5T6sjNFtTinYrHZqxSdap0cX+26666ie5qi2jrRYB7rQZJ0LAYCosG2yJtoOvxSe1Js+Ec9BCmL5O53vztba7wRFVETwHX22Wc7rwmIxK+OaFQ/b6HHSw03lhyj1KCmsqMeLyg1Jgvj6X0WWgOcuLWJIHhHYmOU+Je//OXVLtTMuPGNb9y06y6JBhYbDSp2Ii4+rWtyQOgApTSlavvW5/y0ruceV09JjYmRrcEulPBgy3rYwx7mIFgW22jB480T/kGpnbmG8oHTeDJ5fLHTRnu7O48Pr/agks0UW5xYvAmVnNQs9rSTifZSDZQGYurnPJo5j9UG7Wywc10P3ee3BR18EqvCvkbqBIEWwh8nVJNy2Q5s969a8HjSm5M6p+tBTWWjc6A6upRbP6hks5qtLR3mi1/8osTdajh9jI4xJoydTZ/W5vTMxcYxHXxwJo9vfc435fH9xNyZCSZEA2M/+dKXvqRiWhLEnAIUEaE3zoj0svjDEWw65UEBMrFB8aXhsc+wiHKXzq8AAiGRoT6Otr4e5qC+QM0PTgTW9TvwjtiyBlHQ1b2qwiGH3eQmN3FkV5MCojGTrGXJmdcChxJMi82mxWVJFdTWFgBLn6yI9QBnGwFr94M6jtRpFIw9j3/840lR7EzdqZEgoK0DxGnQOhWiHhn+gt6X9/CnMgXM9j72LlNfs7VF+9761rdmNJroF6Munnrqqe0WXtW2r14ebiLVrXWUfpEIA1wMU3m8UGQMNXMKBdZF4STb/rrXve7E47j6kjdIbCcHtpXHPuPHbrvtVvL5pa+YKE0qf5LpZ7SUUOEU5hehTDiGMvHMaUbU4DaT2ujJaV/ThviMCYmu5PyL+FV2Y0MoPpZyx146fq7aFKsX7xfraxQL49cZDobWoVBVzrCmw+R55acP80nTh5cXBdTK9aEsIyFmbIZyDVgXldyxMNpVS1wR66FEK4dACN9JQSk2KEU/+JNKRKUVHv+dGBIR8RMR8UDQdxMJ5xTPvdNA/ROKWo7cnz+5DD94PHdv/ifTWq6IqeSDZ0DlyE+7wOFcnJ13vOMd3UnRGkLrrc2VjtEkV10jBMR+okAk2bI3u5ZFrI8ld9vb3tYpzczTCFpqzNbofGA1TEWClecqbYR5U9tmSb7y4iim8nimifwNZq8C6pMnPOEJmTQSMGVLS+fQiwQt4TMUelTAFAU6lYD4Ey8I3vPHP/7RaWueVDN2+lC4xWJYx90zuSlqXEFizSBjFKwFhAkxVhOPtswxigujgLI48dOH8qcX7KH4GFEmtDk1g5sYV4EtpKiYcUlig8JQ3Fbp4qkcUiC+lJV2B4H1hgIMhsRHnB5/Ai11Shhlr8rBodRm6euB3BMG//yHFYQgrj3LKnl65plAKyqt8PjvxIRs5IUSO417B5y2hH5s2DGiO39Sf76X24GdEi4xE1FFK7CdqQoOdJVQ84lQbbn0qcxBnnqKtrSmVN+6NDWp2n8OtHm0abe1KXgRG9/iifXpX1E+wkqocwkIhsJy0AKmT8SdsPM5MZL0jyUtmNpteHy+MdwIjROBqnL9RJKx3lMf/Qm3xmBQHEXsOoYUdJF0VzxSNbP52VL8cMpYsqQwvNNBDA4F1HwXLxVtMUmgwYRsSJQTuUD+4u9RVkUlVAecM6IFTJ+QGBRbjieUleKbeC/9ox3wvr4ShpOQRExg0TO9GQKG7HUPfOADm46X+YTa3fSrYntyHgbPhWkNvOENb8AeSD/OTQXA24Fd+nqQCtxCWhI5bwqcgORpIrgNUnMnAgG9uHj8npZpkmiIr4ugJDbh9Fi7/8qNjB0tBLodqeMrpx4ITGU0Nl3g7lISGB2J7yIH991339bAlz6VOZgLTY25kJAW7R3UxdmJJJolPu22NsmgxbVbxWHazmaQP2j//fcn9RJA8SCm1ppo+XoqyYMPwr72ta+NlnJhShth3tSmRlKVJ+A5zYGPBPmVAu18oB0fOREQuHiIAkzEDs3iJ6eddlqgiMUW3x988MHx3kyUujBP0+IyouXM2BmFaJwvwcu1p1izeCiV6jd5gmGWyWta5PBM4AnbsMnnxNW3jsXoHpMVleNc9JIzj6u4TVHJY23Kj9qb63roPr9qtgiLaTFxfExFVm2/WCSOsBxQJGaLamIetpMx9jXNrHRVKP9I/KkmV2VmGJRoDHtZvk/sX1I7a0HgDB/Aa+JqBzWVHWPusLQg5tKrU+csmLm2YVEPUtAnOfXz+5q52AIU/2DAX3zMnSxxCSzVEU211dvG1aphgX31CYNzpgFTCE+o6bZZSe6QCB654ClKP/qyM+OHv/KVFiuO2cNd0u5RRDAR6Z4+HbebCPnxb7BkDN5WZ0IIQ8X4rG0UYH3B3tpF7a0mWtGcxGoIjIjIWWK69CF51fJLewmOc2t4KWE9xe22rgXJDMvsJ2VXfaQodMgZz0of80JtUAK5o8V+NU3x2jYWnlm2+tU0ajawidUC6nh8/i2l17nOdRArczeKsQ/KFsPvE63jJSGoGEmnnKqNipdTZYi0XPLs+a4uyMdw2lwSJhgP1FhIXgZB+8wSiVgRQ8GhsJpWwziWTArwKC2+4EwmbgtuJhqOUG6PqwJE7dY7b+6RRx6p5lV3TMIHX3zs8fgvI0o7+OSPzTbbLF0qTxYhrKfAclnyfo/7uh1tV/pXQuR23333lT6KEv644UQ1eyqPx/OEw2RSwV7Skvsnp30SBSaWmoo7SJjfSxdCM7jZosoLU6qoEdwevAkg8BFOvGA4BxNtRPMKyyrOd1HY1yAcP60Pmkw0xmbDpEDrGJyBDIeNmvJt78TD4c3klv7rB893I1RtB3YvYjqvduzfN7/5zRxbjYDkNG53xUCCjKOzF5I/kvQg6dEuTnq8ltj8uK9z5mL1tVnp+3rijODXEwv4T+XxeG1+ql/wePmFOSVjU07aRPgRx05lr+bgyUZQF9NXQuFkgzhibFHmOBGzIqHaLUSGAZ744oFiCMWDICT9UFy6P1wD3YGMEFYNBea9HrA6Pu/0cDkJpC29aUdMEnaSD5YeN1odgurLXI3pFigN7GuhdsVrDBkL+9rX4M97KttN0/jVsiiw+PWAM05Um6fyeCxWFEwmgTg2winO+zXzk7TxzjzzzGrjuJ9KUPS0UHlqN0uLAofSvTgFsWcVHoQbzOx3YgOHYDGnUPKDOLtipQg6Cky6nwVh/F/K7W3tKFP9inFFFQT1SYp/YpXxMlMfQl6NqzVk6FglsH3hPFg4i1kPHA28UYrRxkOnJ+mn//qhfPdMEk07rZSpiBq3si5nAllwg4gSKG7tUvUb0busESmbuQt6i5nKLhjWf4tWdqW9WWqGRN5npiWPWzuol5y8iz/q8euJxWmm8nhcFhPNXFg07HDLKQ1RvTiBfi/3Kbm+1KCIImJOnFK6LVk74hJLWU+yPAnmJWTE64mbVVje+9YcggVC4lyKLoQAX0AE33l0qlYaS35HyyFQQX2h+71UScucl36bwVxVA9kQ6YoUZc5IbBwomUKrXEe10kq1IBAZwdG5X2wHDm2lrAdbT7SN9LlqZjz1PRZzL1Vl+p0vGSIYfCTcxlOyz8mYN6Je0plWylROo7DIJ3c7KV5U2sWPe9zjhB5n8vhxawd5E5eNmjGLfKhbwkirPU7l8YJmRb/n35lNk47wY/nWOIEdJSSHgM+6bqG4t4quHyeCIjOhdqOCy1fCOG95Sd6NmyiFAhTzYumIu+yyC4u69NaS2CEZN8LgFSpqR003W1vEyfxA2JcpFxxd7Ro5teZMRF474MWvQmMQOkBzSmweeYtXinXvZa4QCFUcumZ5zz33FBJhykQ+Eo9kZGXe/iQbVcsSPeNy5XYF6eY63rkCXynrgexORTvwwANdUMb1HjE38omlYwm291uYT4uc+7nSFnBxAxBm54vjRTiSclvJPidf/OSTT+bmi2TRjs9Kmcppw7QlbUw6WPEmdWooX4z6EBwcOfQZt3ZQiUAcEejCUVN0uf8KL8NQcijZro04G264yZNVkyBImcZB8zMI2d5p/wnFdFeVN3Jki7eHsQ5JO04tyRORRBubk1hQ7JR4QsZMjZ0pjISEA6Xu4qVijXj/NDxn5rmGBUIBHP4M54LEX1YBtQEkBBMsePprKDATePrWsRhz7yHE0IbZ/0MqMvfTumiUF9s9fzonP94trnCWiMldEks5f4Voiby+4hKOrwiCaugyxjQCMu/GKaWq6SVvc10P3ee3RX68nVXcfeauWMmfrjzz6qac/PjqOZPq8bn0c9p016cscwBxVSjrFN4KqHLDcb0R6wnxhxxySP0qGtRUNjoHquOamR+vCAEfaKjy8RCAzLVr+vL32orY2pEfn3+ZZxp+Zn689opExTlvmekOEwnlXtXUXs75iUBkiso+m/inujtpGHCKpf5myhdC1cSyUuIjqi60VSxZ8SDh67hyghBHA/NOyB1kHDGBKCL9nezD9lvsC2tUawwmtHkxBTRIwgSnAMHTHnapnSJWE/0QMxGOBvKjeA0UL5P760Ah+5sYtbJF7LM0RCHP7g9UlefbfvvtgYpCmHHzDSNHfmxjdzS6Q1DGB4NX2ZQpzwpJuUmZkFGVPSBZ5lU74MoZmhLf3TUzkxpLWQ98anHHcf5jZznoTzjhBNpqcPeIvbCFMUucuCis54NNh2D8mFyfqym4/9teBqxjhzwdVTdY5p0kcCZWsjIeeuih3cD/79dLmcq+kA845GwcSBZxqunJusbwWxLv6jsdt3bQh0lDvQfWEaosdZGsSU1lvZ5Z8LHLnOKPUyerRkwT/oY958txxZZEZlWEKMH1Reh8oiV7NSN5zqXO2osE4QikCAoSxiNnopcpj9OzVUVAZem/ZI6ZYKNBJvAiNKohxYJcQoBgEKvvqJH83l3Pyxw1Q0ssxxZXs+vCaYKJsvr6zYNj9efMYyZuy2021/WwsPmdRkNnFtmUHBzi6XJJrfdM1YopQsSAExDm+WgPaiobnQPt5kXghV0pMdLnEfgsCKMpqFW8tTMXW6IYy7ltEke9DA57p4aY3eeXukU9ntjFfx3h0x7smUmZob/pTA+qff5exePJs42QzwfeCGxq3GjuF8MDyGQMHmIVVSlhsJlWatTiKRUqToPCJ2RhRDFU6qDAyXbEGeBXc10Pi5nfAVJ1Gkr5xy53Hgtqo6ENaiobnQONhllsLLiYq5QS4sYKxolpjirq0LQuVvHWzl9sLejfcX7NlNjnaf3W2eodxMJq5n0jXhcDRb/fzuNu6X4xXDo0nJutnq+Bx5q5XkCTS6CrEdd0dH5QZl6XCVVxFkjBwMtewqJlXba+Qmrp1BgRWBEUIJUKGywWvVgRaC8eSZGV+LdQJPa5XXfd1aWrVRzcIyCXWCzexDvrxq29+FnTo1Box/K0rut4vG/22WcfR/lS8F58pxTTFvebRU2eeCZeoNl0INie+MQAWE1abQqt3/Yi7CLNWvaBaGqHAmOUMsOlXrThgqLiVxMpo6UPRWDwiTIxuSy8XySXC6339SC3MBYDqi53aCu0dyuNTFmsh5M5kLVtKuW18p3ZlSg2LUSGcM8KbTVGQlP1WcVbW0BV7MRiwHzmWqo26/GcNym8JFMxmWlYwOb582c2G2yDudrc3G+tclZ65It3pwNBgQacYCo4mglz3rZcEUxyJWRbJN+SsEr3C7C38zkVkXQ4xr0DRjEN+W222UYDSZWZo1sRzeaxHuSRpsUgaowRZUWQYgFIztV8Oqip7GjLzZ+LuPlToPG0T5AlEiUE5a1VW1vOUdqGogvzSTqtZetzvgSQQigprAafOn98fCYArXXkXXdCdIcwVx7fHb0eIcybxzdClRzALrL11ltP/IoqIHVQlgSLXyOwY+ORAokCc+Xxg6Lzwng8Kz3+XX+reBjn1CYZt/bSFwk/qZwR5t4aTGbY6s2llHcF4eU4tTZKjB+uhRSQRs9Wv9tuu000Uh122GGCTonD1QvH1kJajUMeKTAECiiGKiGWG77G8MuML5KGdB52uNKD04xbe5FTqeIFd2d9naLZPB7GSrMVC18scgxjXyuRAmodKoEnW2m//fYr4i+QXvEDJY+48BUdY2JaiaMbcR4psMoooByIygFuY1OsQiTstNNe+RP6npxv9a+ifld6xq29lCXh+okoPVTzZPF46fyNiiEsZbQ1nUotcBVmPPlF+Ic2imn4yPqNobGeDQRnGryTQu2UuJk3PYjP9SPjTpUxEWTj1ewDma+Vi4ZAkFj8qnGs3FFMxBy7TaeWQJ+5jk7OGyatlDh61tTwV/7I1RKqnvAdlPAZt/ZcJ2gacJJZ6YyttlyHdWUpyC2sU1nva9asSd0xJU00IC8Mn947ohmn6lSAywBUW7D3XkaAIwWGRgGh8ulCDcEfjYpyDm0sVXyw23333Te9V1zy4IMPHj7aI4ZDo8D/A8nrGpXOK2+MAAAAAElFTkSuQmCC\"></div>"
      ],
      "text/plain": [
       "      ^   ^   (5) ^ ^          ^   ^   (5) ^ ^\n",
       "Cos[ϕ[t]] f       r[t] + Sin[ϕ[t]] f       r[t]\n",
       "           x,x                      x,y\n",
       "\n",
       "      ^   ^   (5) ^ ^          ^   ^   (5) ^ ^\n",
       "Cos[ϕ[t]] f       r[t] + Sin[ϕ[t]] f       r[t]\n",
       "           x,y                      y,y"
      ]
     },
     "execution_count": 1495,
     "metadata": {
      "text/html": [],
      "text/plain": []
     },
     "output_type": "execute_result"
    }
   ],
   "source": [
    "fh5rh = EinsteinSummation[{{k, i}, {i}}, {fh5, rh}];\n",
    "fh5rh // MatrixForm"
   ]
  },
  {
   "cell_type": "markdown",
   "metadata": {},
   "source": [
    "Система движения в безразмерной записи будет выглядеть как"
   ]
  },
  {
   "cell_type": "markdown",
   "metadata": {},
   "source": [
    "$$\n",
    "\\frac{d^2\\hat{r}_k}{d\\hat{t}^2} = -\\frac{t_0^2}{b^3}\\frac{GM}{\\hat{r}^3}\\hat{r}_k - \\frac{2}{5}\\frac{b^2}{t_0^3}\\hat{f}_{ki}^{(5)}\\hat{r}_i\n",
    "$$"
   ]
  },
  {
   "cell_type": "markdown",
   "metadata": {},
   "source": [
    "Пусть $t_0 = \\sqrt{\\frac{b^3}{GM}}$, а $b$ - прицельное расстояние, тогда система движения перепишется как\n",
    "\n",
    "$$\n",
    "\\frac{d^2\\hat{r}_k}{d\\hat{t}^2} + \\frac{\\hat{r}_k}{\\hat{r}^3} = - \\frac{2}{5}\\epsilon_G\\hat{f}_{ki}^{(5)}\\hat{r}_i\\quad,\n",
    "$$\n",
    "или\n",
    "$$\n",
    "\\hat{r}_k^{(2)} + \\frac{\\hat{r}_k}{\\hat{r}^3} = - \\frac{2}{5}\\epsilon_G\\hat{f}_{ki}^{(5)}\\hat{r}_i\\quad,\n",
    "$$\n",
    "\n",
    "где $ \\epsilon_G = \\frac{b^2}{t_0^3} = \\frac{1}{b} \\left( \\frac{GM}{b} \\right)^{\\frac{3}{2}}$."
   ]
  },
  {
   "cell_type": "markdown",
   "metadata": {},
   "source": [
    "## Повернём систему с помощью матрицы вращения $R_{ij}(\\phi)$ на угол $\\phi$ по **часовой** стрелке\n",
    "Переход к полярным координатам от декартовых"
   ]
  },
  {
   "cell_type": "code",
   "execution_count": 1367,
   "metadata": {
    "vscode": {
     "languageId": "wolfram"
    }
   },
   "outputs": [
    {
     "data": {
      "text/html": [
       "<div><img alt=\"Output\" src=\"data:image/png;base64,iVBORw0KGgoAAAANSUhEUgAAAQsAAAA7CAIAAADjOjgcAAAAy3pUWHRSYXcgcHJvZmlsZSB0eXBlIGV4aWYAAHjabU9bDgIhDPznFB6hL6ZwHFYx8QYe37KgBuMkdIbpA5r683FPlwFhSpa9oAIUsGpVWohCE5OZ6hknjqV495MeU3ALK38T6Ms/dt8xWcrPIJIpdLwQWm01rEEq0+e2PrTqpZWyD1LaUN+C/99NXZDBbhFNyB01dEkhg5CFsuOOKxCFjJuQXYM73KMNPiq0jcYB6b5X9wQN4zZW0HGytmA9Y41WPp2sFlG1yPHJjnVekd9a7cqCZgsAAAAJcEhZcwAAFiUAABYlAUlSJPAAAAA8dEVYdFNvZnR3YXJlAENyZWF0ZWQgd2l0aCB0aGUgV29sZnJhbSBMYW5ndWFnZSA6IHd3dy53b2xmcmFtLmNvbVyipoUAAAAhdEVYdENyZWF0aW9uIFRpbWUAMjAyNTowMzowOSAxNTo1NDozOKJ/XHgAABR6SURBVHhe7d11sCRFkwDwD/twOJzD3d3d7ZDA3SEI3N0lcCeAwC2wYHGHxd3d3Q53d7hfUBF1/c10V/dMz7z39u3rPzbe9lRlVWdVVmplDvP333//a+AZ6jHw/PPPH3TQQb/88svBBx+84IILDvX4+H8EDFNKIT/++KM2o402Wn2svfPOO08++eRTTz310UcfzTXXXAsvvPCcc845/PDD14c8ACFi4Oeff7766qtfeeWVd999d7LJJoPneeedd4oppkijaJVVVrnpppu0QR4PP/xwv8fnTz/99Mcff4wxxhilX1pOIWusscY000xz7LHHlsJKNEBmO++883nnndfQxvpdeeWVU001VR3gbfc9/vjjf//999B9ttlmW2mllUpBffPNN9tuu+1JJ5004YQTNjf+888/jzvuuHjozDfffEsvvXQpzA42GDRo0K677uoAysIcZphhttlmGyuYOObWWWcdC6EXcnr88cc7OCWgHnvssbvvvjvC3H777atsTbsFte+www65k7n//vsfeuih+NNuu+024ogjVp+2FbziiiseffTR8i6WM/F8/fXXBn7wwQfTzdK/vvbaazPMMEOYyuijj77kkktusskms846q5XzZqyxxrLt6sBvu+8II4wwxxxz/M8/zwknnFAFzuDBgzE9J1Bu499++23FFVcMAMcZZxxboQrMTrWxCyNDnnzyyTfaaKPll19+/PHHD5h3zDk1i8ayRltssYV1efrppzs1nwjniCOOQJwBLZ5PP/20yhALLbTQfvvtV9TywgsvDNAWWGABX/f5559XgRnbvPnmm3r5t7TXv9Itzj333Ikmmuivv/4qBZRosNhii4VF2nTTTUm6seWdd945wQQToOY6wOv0RSG33HJLSxAOP/xwRFWly2qrrdbDFIJlQfJ44433zDPPxBliayeffPKoo4562mmnVZl2N9qgEHNrCTLePvLII1933XWlvZ599tk2KARYUsOhhx5aCn/YNJe59NJLSVnhsG/vueaaazBEfXfZZRd0n2WFJBCaifdFkMlmTzzxxBtvvIFES0fXmPBNhv7ss89KG7fdgAQSNmJfewgkCMOssAI0HKc37LDDkm8/+OAD5NrZOX/88cfEJ1JGZ8EGaC+88IIv6iqqbezLLrusdPIpCvnwww/vu+++tddeuxRKosGBBx7o1zHHHJORpLmZcyK37w033DDzzDOTVuFouumm84dpNIjXsSMi1Awfn2mmmWj/+JJHewJDnZk39yVcoRC6U2fBdgSaszCcI5988kkzQKJsw8tlllnmv/KeY445Jnc+FBXNbSmi2iGHHEJIJlyQcMYee2z/OsU68hUBiA9xqv73P08HwTaAQiFkS3ajkiESXOaMM87w/dh0KScqamBLBf6zxx57VAfiFIyTNoF///vf4b/I7LbbbmuAc/nll4chhhtuOHzTalEAYne6eGLcilIWS6j5Ax7AGghBXnLJJekv6nkpK8wQNgiupauW5TPZLWL3534XitJsn332WWqppUL7UUYZJXaceOKJs/JzA4SKUhYt7uyzz1599dUtdICMQjbbbDPMKoHqtqUsMOlme+65Z3odU3rIBhtssMIKK1Tf2c0tn3vuufCppfsp9r3gggtCF2bHV1991ftff/2VsBfsMCxIX331VXYgHMZ73IMgEd+//vrrG2+8sWVzoNahEPvsqKOOQqIsPP4gqJASCcd2v0G32mqrBPCepxDHR5SHp59+eorH999/XzRD6vL//ucT7EtpCglLA7fEY5Dt3VVXXTW8POecc4rGqkIhL7/88txzz02mYCq0W/ArfzCfOO+ckg6pIuB1KGS77bazzdqnkEknnZQXqQ6FMD4G9FEPqsD59ttvgzww44wzIoxsF2p9AAVx8b025Gwvc3XihOkmQCjlIWyI4ENCAIWTLL744qGvnWTchCrZ8xRiViyYWUOqw3j33XdHCFWQb1OWUggKPPXUU7PQvvzyS2aAhnVpGK6UQt5//31TJVdTP/T97rvvoP2ee+7xN9EaJ0E8RatZh0IYokYaaSS8K4GfQh7y3nvv+WxepCrILWpjBmFbv/TSS1Xg3HvvvaG9lW5uH3wLmEb2JzZBL1k599133yrGu2zfNIXQwawT41Xswii31157hf8ytkw99dS0naLv6hUKMZkvvviCyseiFTDpwQMhp/S8qEIhzMfN3xv0ad6kIlSkKYTWQYRjlY7SAbM1zEcGeP755ye2UB0KCUoIL3ZicxZq6g888IDONY0JuFBYJIdEXLDEH5hp+DUaiLONw0tkwMoR3+PIdqrlJwURK4lDdE0EWWW4dBvGeLIKkgjNSFwQGhGCJv1NDqw/UGchEEvwNwjncaNPA+6MhByiUf2BnCnNQNhFvGRLbA/+XXfdRUA48cQTozmBiYzYHP2brC8gdwPVuJYvSntIUxQiVCF7FLXx/XZY6EVsrdI9ElKux3qSSSYBxJHz9ttvR2hTTjnliy++SGANTknnAW1ylllmQSqCL6qYiXMnhh4YT+2quCdQnU0w//zzx/aIpO1tUQUbddoQHhg8nDiQEJDJpEFuqQOzqC/TRR2wDPrUj/XWWy8CsWWzePYtdSgwMTdaJXm+TQqxP2yyOl+ur7igYM9lva0CKlr3iArN7YMdkygMbPZXGKQwcIZQ0B1FfPbaIJW11lpLtEWVcZvbAMUQF+1XGjjY2DcDlYYHNwuHdF9+2DRZw8MMg1zQ1x5ikrM8S2ZQnaWQwD26hGqRgYZL4KSQh4h7I73UxKadSnIFhJnFUVEKLe7I3ICZRx55BARMQ+hKLqhpp51WVBIp1nkfvBYMLPZ66bjNDfAQL4MZIDwNvkIaqhM6CAB95CFM586EBTxEowjN6CNTzU4DqrN45oWjnWfFe6zPinePQuwQUnoRZvIpxPHJM91wVLeHXFpBEFTYRn18AxC2XUpkfGlbB8MIXbNBQELoIfh00UUXzQK54447mj8P6xRBGJq158yi0li2rDup4WBjRzdDxvv20NLxXm+99RatT3his2CJdQQU9U1fJ1Ec/7flAk7gmaeFnBz+a/ty75DBaspyRQjHBpAos3XhiuRq8UHTrWnIipBFPYThCVGcsoyPFowUFEWgs846KzY+5ZRTQmPMJ7iKLLnoqXHHHddLylzWfxSChWkgBImsx4rVOLgsPAmXSNqWxTXGvBOGY1exQnTKMM8wyey0m9HYw7aseKnDCQLJVDVTYtK4+OKLgybNnJo2+1axZa288sq5Xwr+Ekss0Z4tKwQl7b333qG7P3xC+Jv6iqqJBgnHTh1bliHCIZjwRuRbe2+++WbdEm6ahHWs+Sdei0gkYddmTSIE5ez3I+johNJSYHxYOQ99Q4R2Fv7pp5/OnRR+deQ7+BdZZBEui2gGEfOSmGqaQhwTNDnmCoQR7I+4P47Pi4paDjjggDQSephCWOeD2zs+gRtH5JRGAfYWhUBjsLPZJPRPlMaHg/NzvPDtUFFYYhKorkkhgXvkehfCoPkUYufp1tmg9BtvvJHfJ4aQUFFY9MhCuYHDYhypxXGB7UjOEAy3GVPYxWGHHUaBabgeQNBKeHkDnFKPoTOCJmcaMbDFKHhL2oIegPcwhRgRJs8880yqUQNtIOkqh12aQoI+6TjrOA8BkHOJXO0EzMbIEvK9bHAcN49ek0KcyHZX4u5DPoUQspFvS4yiYmMfbHuxf4sJLe3izHZLhopcdB8jCwGWibN8jgTZijcQSikkwHc84/VOaMDJLaXT7i0KiROz6gEVIUK24oS716zUpx6GJic71NAh4TlIiVWemhRiCNFJAsyLxsrX1LGe6OzLMu76f+MhOAmGEGWnBEx6C5c5o3NRCHC2L3MNhYSIxQwSrw3VnzAIDjMkRykHPNjm+/hDIAyooO8OERMO+AxSgLXjyWGx7DEkk1ZoaEXD5VOIgycbIdtjc+2bA2FlrHBZC33fnGc/mFWvXL9BIU7AlimkyrHdD5aEEYOC5IkBL80fRR9jPMh6D4s+HKdm5AgAm03b/QBdbX8CFTygxUOaKoLD7LbuuutWGYVSGqBlb8BX6djchjiTjWNqaJCfyYEyyjh47bXXtjfkkNKLGTGulhhE/viaM6dlCayMHgnSgnueNWH2g+4uGh155JHxQ3h+s6EJ7X0gP5vw/tCXfu+AqyK3544lWpzLiMUs99d8CiH9SwUgkqe92Q/0GsDAEIQBIUvXX389l2vunAv1kKFEyhqCFnJgql3CAGNGQsoaoJAuoX0A7BCDAcwgoRrlU4gOAzxkiFnhgYnWw0CbPGQIsqPXw89A76EdA5hB8Ny3oIdoXSdH1tCO8oHvH9IwkAgczpey0pLZkPb5A/MdwEAKA3QKFFLEEgYoZGD3DO0YYMhKaN2FFJKwfw3tGB34/v6FgbRdaoCH9K/VHvia1jHQb3mImGphvzKbFFkhWsfVQI+hEQNpHpIfdRIuW4abhj3wyKvi7p5YNJmd5JMVHu9Jm5vlO42ZZ2+//fbllluuB+Y5pAzhOo2s3u6XujvhDqY7VSHh95Ay/x6e5+abb+4+aVFOoHwKEcYnAZ7bp92eq1HcVr/qqqsa+IC7r67RxCTKzdOQ5tX9zPAeJatr08GpdqNmUo+VpxLr6lJrQ558l2eOPvpoAUi9YsTvBj5r1qDK7hZpIlyIkmIzfwvlXq3aeuutJV+pcsOrThv5HOLZ7/aMPFfKJs0+++whdY21dBc3Ad9VYdX3ZBOsWQCoeYhu1EzqmfJUUgzHzDqijOUmV6Up5jJ0XbnOerXdtxv4rFmDKvstNp7bDUVfl38L1ydBa9sYqdhRBpNAtTvttFP2ni1xy/04oelVbupWHKulZhVvjWZhVq+ZpFeXrrBHni9TphMxTu+HH35Q/UuaCxmeWsJDpxp3FZ/1b+HaaTvuuGNrt3DdO7U7YwqjDgowWVChUiNegQ9kDdJmTC2Rga7tiP/cCQ/pNZPSq4CREqK0cbFHJoBs4mOJHZy4blAU5ZhtqdaXnRQw6UJFrJPa8R3SAzWo4pxdwXXXo+gT8q294ZJ64vJuRzAS8hrCeHNdNWQTy6yEsSR/yK2Z1FxdKbTvfzWT0jiXnzdUa5FTJzcVYK5TrKVaX1I2qkJhFUL1KXI42nP1Up3EznrPeqYGVcAnTdjkU8kTc5lLSB1tU3aKz+bCiflkZRKRHyk9lnRPRVskt2OfrZnUJSmL1Rt+ZG9pqECUwGpLtb6IagyMYQmYxSSwkywilt5FM4p+FI1VUcrq+RpUJhyENFlwW9NDzJXCl1aU6xMPTV0CuIB0OVBYYEhWRWARekPNpHjBNUEhAXifqpnUJQoJ+VEpGxXXpdVaX7EoJo4RS8AJibVJGB7TRWWrUEiv1KCCq5DqlumvNQrR2qmQLS5TEe+tNnPBX2WWLHNguQ9VDUpBWarQMUEhfbBmUpcoRHo+qGAbLMWbBq3W+tJl//33D9iW0rthCASTXq9SCumtGlQ+RA4+p3Ni/oW539kKu1HTpEFSknMIEctOveyyy4afqO9rrrkm6TbWQCwSrqq8t2N22GGHbEsetOBIqVj0p3kUaCWfME+7/h8SMNOM/TvPPPP4V44vG4K3Tp3VKjPsVBtCDlANylsRcC7aUOVZLZ6YBTM0lsos1Ppq8IaxLsYGbnXjHhE4caOOm6V38Yl3YbyJ+RdSiPRQYeF74KEzDB48mG1EfvjgSvc3STfIiHWeflYzKYGKYFypSPZt1PpyhBGl7CSLwlpNFVGlVjYc+kmdBQqk2Fs1qIxOsE9nQiukEMYKp2A4mUofGoUUq9xVRU9UyhOgHO2KBatbwm+oGcWjIR926TQqNqiZZ78XayYlPjCU++perS/ALS7eqG6R6gXktIsuukgaXwWu1GypY/bsRXzatwjeVk8gNsVDsL/yeuz/wCaJPph8qoscDicJ/UMeZRaG7lncK5JTc7PerZlUNO1AIezm6YpKoXt7tb50lOdb+v2QHk64EPLgS6EQioQoyjdViudexKdwLAdxmxQCiYzEVQpHQQGhPJQQKHqyZXSyKEOEuRgMtZ2Y1CoysdJl6GCD3q2ZVPQhzpQgTAstKf3YmrW+uFbEtsoTJ+e3rOl4MhNzNmdc6QSyDXoRn/QIhTRigF/utAt5iNZoqyKFtISR2JgPmAjYzF6QTSgbjUT7YPrg3q2ZVIRqp3uowiGWJyYjjI3xFtk+o+mljVpfEq4117uj5VvEULC7vVpfOvYiPm1v9pW01J2iEF/OslR0zLdHFbEX1Vz1LVO0tCwq7EIhj79loIeEZKz84jVH6UZ35TiUBIpHtahprrSAZUrU+uuvj7DrJzhtY+ZOcRqCjqKMttxyS+IWJswRTi6yDwYNGoTPhHJtDHrhyBckLyw6lFCF/FtvvRVz8LdIBbHAcQ5EKUGizlo+dXwjOzdXD4JFp+26sL2IT5pBIO/UkzCfM4xg3IkCVlVM74k2qpxla3baZNk7IWxZ6eoqVfwh3agq5ovq1Ezqkj8k4Jnmlq0rEH3edoBoEdcE4nK0VOvLTsgWuGJTJl8grVCh26MEB8opWutSf0gdfLYduRhYIk07vY3z3W2xj4py2GhNSkh0Z3vZcMMNlWLLErEAO2dwafGhNIX02ZpJXaUQwGWqx0CiLg6xNjS3bG5cT/VaXyC7koGTNJS6p4IKHFY4O7HKpRTSKzWoxMty+pXu7RIKoY0JeyyFUr8BB5Z4XupHwv9ff5SKEEpXNMBpr2ZStykkfiNMKtLNxFQaoNBSrS/wudVJxUQUOmSVGlddxWfbPIRYyEVRuiVKKIRdj9ONqF0KqD81qLiiPllVMTWTWv32Lt0PaXUaPda+q/hsj0LIhDQIpotSJKQ0dQyaKUngRr8vJNKGWhy69ErNpLZn2/c79hg+Bc7IcxCcSOmnhEJ0JqpympbB6W+/d7xmkrNqaC5P1XF81qxBRfutmKgkP5NDf9vvLX5PN2omDc3lqbqBzw7WoErvjgEKaZF6BpoPZRj4P6UBydlfQ1ejAAAAAElFTkSuQmCC\"></div>"
      ],
      "text/plain": [
       "Cos[ϕ]    Sin[ϕ]\n",
       "\n",
       "-Sin[ϕ]   Cos[ϕ]"
      ]
     },
     "execution_count": 1367,
     "metadata": {
      "text/html": [],
      "text/plain": []
     },
     "output_type": "execute_result"
    }
   ],
   "source": [
    "RotationMatrix[-\\[Phi]] // MatrixForm"
   ]
  },
  {
   "cell_type": "markdown",
   "metadata": {},
   "source": [
    "#### LHS системы после поворота"
   ]
  },
  {
   "cell_type": "code",
   "execution_count": 1369,
   "metadata": {
    "vscode": {
     "languageId": "wolfram"
    }
   },
   "outputs": [
    {
     "data": {
      "text/html": [
       "<div><img alt=\"Output\" src=\"data:image/png;base64,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\"></div>"
      ],
      "text/plain": [
       "      ^\n",
       "Cos[ϕ[t]]           ^      ^   ^   ^    ^ ^           ^      ^ 2          ^       ^\n",
       "--------- - 2 Sin[ϕ[t]] ϕ'[t] (r)'[t] + r[t] (-(Cos[ϕ[t]] ϕ'[t] ) - Sin[ϕ[t]] ϕ''[t]) + \n",
       "  ^ ^ 2\n",
       "  r[t]\n",
       " \n",
       "          ^    ^    ^\n",
       ">   Cos[ϕ[t]] (r)''[t]\n",
       "\n",
       "      ^\n",
       "Sin[ϕ[t]]           ^      ^   ^   ^    ^ ^           ^      ^ 2          ^       ^\n",
       "--------- + 2 Cos[ϕ[t]] ϕ'[t] (r)'[t] + r[t] (-(Sin[ϕ[t]] ϕ'[t] ) + Cos[ϕ[t]] ϕ''[t]) + \n",
       "  ^ ^ 2\n",
       "  r[t]\n",
       " \n",
       "          ^    ^    ^\n",
       ">   Sin[ϕ[t]] (r)''[t]"
      ]
     },
     "execution_count": 1369,
     "metadata": {
      "text/html": [],
      "text/plain": []
     },
     "output_type": "execute_result"
    }
   ],
   "source": [
    "LHS = D[rh, {OverHat[t], 2}] + Simplify[rh / Norm[rh]^3];\n",
    "LHS // MatrixForm"
   ]
  },
  {
   "cell_type": "code",
   "execution_count": 1370,
   "metadata": {
    "vscode": {
     "languageId": "wolfram"
    }
   },
   "outputs": [
    {
     "data": {
      "text/html": [
       "<div><img alt=\"Output\" src=\"data:image/png;base64,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\"></div>"
      ],
      "text/plain": [
       "^ ^ -2   ^ ^     ^ 2    ^    ^\n",
       "r[t]   - r[t] ϕ'[t]  + (r)''[t]\n",
       "\n",
       "     ^   ^   ^    ^ ^      ^\n",
       "2 ϕ'[t] (r)'[t] + r[t] ϕ''[t]"
      ]
     },
     "execution_count": 1370,
     "metadata": {
      "text/html": [],
      "text/plain": []
     },
     "output_type": "execute_result"
    }
   ],
   "source": [
    "RotatedLHS = Simplify[RotationMatrix[-\\[Phi][OverHat[t]]] . LHS, Trig -> True] // MatrixForm"
   ]
  },
  {
   "cell_type": "markdown",
   "metadata": {},
   "source": [
    "Так как $\\hat{\\omega} \\equiv \\phi^{(1)}$, то"
   ]
  },
  {
   "cell_type": "code",
   "execution_count": 1372,
   "metadata": {
    "vscode": {
     "languageId": "wolfram"
    }
   },
   "outputs": [
    {
     "data": {
      "text/html": [
       "<div><img alt=\"Output\" src=\"data:image/png;base64,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\"></div>"
      ],
      "text/plain": [
       "^ ^ -2   ^ ^  ^ ^ 2    ^    ^\n",
       "r[t]   - r[t] ω[t]  + (r)''[t]\n",
       "\n",
       "  ^ ^   ^   ^    ^ ^   ^   ^\n",
       "2 ω[t] (r)'[t] + r[t] (ω)'[t]"
      ]
     },
     "execution_count": 1372,
     "metadata": {
      "text/html": [],
      "text/plain": []
     },
     "output_type": "execute_result"
    }
   ],
   "source": [
    "OmegaReplace = Derivative[n_][\\[Phi]][OverHat[t]] :> Derivative[n-1][OverHat[\\[Omega]]][OverHat[t]];\n",
    "\n",
    "OmegaLHS = RotatedLHS /. OmegaReplace"
   ]
  },
  {
   "cell_type": "markdown",
   "metadata": {},
   "source": [
    "### RHS системы после поворота"
   ]
  },
  {
   "cell_type": "code",
   "execution_count": 1503,
   "metadata": {
    "vscode": {
     "languageId": "wolfram"
    }
   },
   "outputs": [
    {
     "data": {
      "text/html": [
       "<div><img alt=\"Output\" src=\"data:image/png;base64,iVBORw0KGgoAAAANSUhEUgAABBYAAABjCAIAAACg4BScAAAAznpUWHRSYXcgcHJvZmlsZSB0eXBlIGV4aWYAAHjabVBBDsMgDLvzij0hJMGB59CWSvvBnr9Q6CamWWrsGCctDe31PMOjgyMFTZZRAHJo0cLVRaaBwZHKVUcD0ukufoDMQHUrfQ/Qpr+tvmEw559FxENIf4Nr0TkwFwkPP9bRbzPPNed10fyiG+UW8X+vYoyEaOpVmcxQXOfg0gmJKRlO7IAHIw4m3Z0bzHwM1hNS+2AHN1vTzf+RG0e/gvQnSXWWqxYebnW3eI0ivH1O+3XeGgFak4gvGu4AAAAJcEhZcwAAFiUAABYlAUlSJPAAAAA8dEVYdFNvZnR3YXJlAENyZWF0ZWQgd2l0aCB0aGUgV29sZnJhbSBMYW5ndWFnZSA6IHd3dy53b2xmcmFtLmNvbVyipoUAAAAhdEVYdENyZWF0aW9uIFRpbWUAMjAyNTowMzowOSAyMDo1OToxMylGF+sAACAASURBVHhe7d152H1T+TDwH2/zpIEShTQoDYZokEpSpqIkFRqMIUpR1BcJDUqJSIYGUoZKg6FJaJKISrMSmicVGdL4fn7vuq597Xefc/Zeezj77PM8a/3xvZ7v86zhXvde91r3fC/13//+939S6xcDxx133Ic+9KFvfvOb/S6bVksYSBhIGEgYSBhIGEgYWCwYeM5znvOYxzzmkEMOWSwb7nefS/e7XFrtfzFw6qmnPvvZz064SBgYFAb+8Y9/bLvttnmQLrjggv8z0nbYYYd8H/+94YYbBrWRBEzCwMwxcNppp33sYx9L1DTzD5EAGD4GRp8eMG+wwQajr88111yTbef8889/73vfW7m7Zz3rWR/5yEcqu6UOzTCwVLJCNENc41E///nPH/KQh1x11VX+bTxJGji/GPjnP//5pje96S9/+cvGG2+8xRZbDGcjRx999M9+9jP/ZiB94hOf2HrrrZ/73Oc+7GEPy365xhprvOhFL8r+e8QRR/z1r3897LDDhrORBMniwcAwqenWW2995CMf+fWvf/3+979/oqbFcxqHv9Mvf/nLZ5555p3udCdv0N3udreBADz69ADs0Y9+9B/+8IeCxmrfffdddtllA9i33HKLx+iSSy65z33uU7KRP//5z8svv7yNP/GJTxzIfhcUGESIuWueje9973u//e1v5w5yAB966KHrrrvuPEKeYA4YaHP8/v3vf7/whS8MN8jtb3/78847byBY/dvf/obdufrqq/PwnHDCCeC86KKLSoA08AEPeMCcEuNAkJ/AaIaBwVLT4YcfjvUpbCpRU7OvnEblMfC73/3u+9///t///vcGaOE7nYkNT3/605tN0mDd8iFjnx5DVlhhBYaI8rFUV695zWsqQdpss81e8YpXVHZLHRpgIMoK4eR98YtfPOCAA2YuPF177bV77LEHgZIACpiHPvSh4goQw8wBiwfg4Q9/+Mtf/vJXv/rV8UNm3pPGgqkxgLHMMsu87nWvmzlIHQLw05/+VGhKNuGTnvQkN87Y+dsfv9122+3444+nxadNYWDlAvSFL3zBih1up9lUJFtiOQVVfvjb3/72/fbb70c/+pFDWzLtG9/4xuuvv/6YY45ptvQCG/W1r33ts5/9bLaprbba6rGPfewC22PL7cRTXPlCw6QmRL3qqqt+5StfYYhI1NTyqCx4anrf+973y1/+MmBpqaWWwmUxEYxF2lFHHUVbz4vBX3n47LrrrizAd7nLXSIx/IMf/OApT3nKf/7zn8985jNc7N7znve4mlz4poqcYUrdxj491rI1VvrTTz+9ZF0G8NVWW+3yyy+nxirp9uEPf3ifffb5zW9+c7vb3W5Ku1iQ00KaYwbDZburFDucuWc84xlD0DL+8Ic/vNe97nXPe97z9a9//Uc/+lFqnrvf/e53vetdC6rTyh3NsAMuzcfgLjJDGBosTV/OCMinRSP/NJihqyE04mRIigeqi67mvOKKK8LWtPvd736T1BXtj9/+++/v65sfTQE+uLQ5z9/5zne62kvjeVZZZRXCTGE4+QHABx98MFp76UtfSuXjtRtd4he/+IVdEDIbr76QBr75zW++xz3ukZ2oL33pS/O7O990yZIlKO7Tn/50h7uIpLjyFQdLTfQR66233ijwiZoaHKHhUNM0nh4IwcyEu2LDDTd02f7xj38ciyXSsr9utNFGbFkkh6CV2H333SNR6q2h1OfP893vfjcMCeHFLvbwGM2wjX16uAICj3LNW89uv/fee/OqHQvqTjvtxOhXDj+pnqRE9TzDbVYuPaXLtnLdkg4//vGPt9xyy/IZ/qdyAVIgJXRltx46MFs793mB4a1vfatz9o53vKOH1TtZghYBGXcyVZ+TDMTlpgc7rOwNk0SIlsePR+Zyyy1HYZ//cKzSa6655p577tnn1xxdy7syVgbwRKGv+973vk9+8pOJ636mIaNiH53Bk8ZQOdtdDGR1TM/jHve4gQDTBox+3IRKKK4E+CFTk9ihsU9SoqYGp3Eg1NTD00ORVCJCULS/+93vzhCIw3Zju5MjBQDaH5axgu5SLDJlB9N6g+/S1ZBJT8/vf/972Fh66aXXWmutRz3qUUELToLiRVxY+uyzzyZpVMKz9tprD4SPHQtqP5dtJZZGO7i1hK2XDKwQIRxQChVeCg3W7mEIbZaDxSmoh7U6WeJ5z3se62EnU/U5yRBECA6g9773vd2bPAT22msv3x0m//Wvf3WLh1oMTd3jN9Zy4jHofBd1cXLGGWdssskmo6OYiT/5yU+GW5vj7EknnRQkitF3a5dddmEZr7vuguw/EKanPW7ZG31uTnfYF3Ey/Ap4lbSftjBDLYrLjx0sNT3iEY8Q4pmoqZOjMgRq6ufpKRchRpEZUnG4oiPxfNNNN4327NCYHwlGodukp0e3Cy+8kMdj6E/4CcHQxx57bGGGX//618KpK1enp3va055W2W1WHfq5bBvsjv2KF1LJwIqkrp/73OdIgVi3YXp6fetb3wLYOuusM0zwClD5DExpQ3B8nwt05YGUyu2Zz3zmHe5wBwikEWfMYY8666yzcK6wOqvt1D1+YzNguMRx57PaQliXm+JYX1JxLzi84D96xzvekck4ZMlgCSwAzAHM72e7i7R6hxjgXyFoh0VOPkQKPMmFOEKI3qE17HCVNlMlamqDvTQ2EgPDfHq8ehRYYkFd0ZEb4fJd6MlzxusTOXxK3SY9PZYTS51lrXzwgx8setAvL7744tGnR3pDWvxyCKnCv/GNb2Qhnc22Q5smWMWtKJ6k2QxjRw35sn3Qgx5EbxtYnbGtQoR4//vfzwe6Q2R1OBX5WyAOv6DNN9+8w2mnNxVn+j/96U9JhGiAYaEvXGgoQdWICcMPPPBAdlj+kRzxG0zYfkjL4+cwEIrE9lDqsyaLvHzJS17yqU99qj1gDWYAQzAcVzYuOvqEZAb5Znh5Zr3KmXvuQLspMRp/+hmKoD1vOX45T7Kbn9OdEHkhngZ6SFAfr+VgiRpaS9Q0wy9y5ZVXUjQwY2LRZgjGlJYe4NNjp0ceeeSvfvUrOp0Gu8Ztv+1tbyN+sCvSC1AQUzO7CTkHNpit5ZBOnh5yVGVQOBGCqq5NPV+2d2+0hwPjIXYlnzOjDRKGf9kSAcqu/RILBf+l1VdfvYHto4chyIDLqS/38Y9/vIflOllC7gUeQTFRp4xHUiUIv3vxi1/ssrj00ktHXQA7ASlykiE4MvVjh410q2h5/NhSKPXDvYNFy1JwCFyO/CLddhM1xQpRmJOCirXHTrPfkxNYGzw8o55XRIuvfvWr3UIVMxthRraNN7zhDYrieQVRDa1h5cDgMxDa5z//+cr+tTrUcr1wx0qxYBe1luihc29uQpEUV7LloVGT6E8v7uKhJrapQEpcTTo/mbWoqfPVw4T9PD3xjkxENQZ57iHNuIJNN900u/08Q+IN/NetPpNbaOzTA+dcDKSQyn9QkQzgfMtb3lL4yhKjy8kZ8+l5Y5KdYnqO7TM9X6PeLttme3fMBNJMSgFcFgtB/paLo9mqUx2FrcFbO09U0VNdqNvJxWwwzJXP6bYaq1rgSzDDxFMNRAiytac0JpGX0EP3QmjnnHNOCX6oEPRRMrnyu+Aqsjn9EJ8AO4ahaXn8KDPc/k4v+6DkeuHiloiD3ndWn9iOuIUUkoGEJK0Onh98FykFV155Zb9517veVcB/GN6/Wy0/Wlq0ggaISCYCrBwYj1M26txzz608TrU6xDA9P/nJT3bccUepcoOO37+K95GFIoMjx8IzDYqT+0ViX+E6lRiYKsWVrD5AaoKx0QQJC5ianv/85wdqmka9oxhqGj0eRLiY0CwhK/lnQt6eSSeth6cnUoS47LLLKN1pfK677rpKqhztILYtfCyRhCGQ2u1NJjn55JMbzNZ+yNinh5oVu0+zxmWIjphiiPrfJckKylRSWJRUIMt8DCRiIdy6MT1H+zTO/xbP3kRetvR30ghl57Y81rnZZkdHbbPNNpPSpZSJED4bR5GugOhqHhgEGBoYpnhTsk3xT+WBKRiLLAG/ZAtOvJ3yPg98BqeX+NiprrAd5mkgQsgQyoc+RrFhclmJqEa0d77znSWQkxjhYfvtt6/cnbyKYcInPOEJhkzKlDc6T6UI0f74iQwLl7ig8MqN9NZBhMkoM33iiSfm61IzQSjDMgoSPboQ0t5ADQuRJLMk32Qbp0K1b2bxgFuyenmQurC8Zz/72e7iNlz72C1XMj1exJDeSqNNzHszS8LdGI2dUxzlU7h5YpJQT4/iyhEyQGqSxncsM71QqSnIw54q3vmNT++kgZXUNHYgrxWWyUpgTE73EV4KjZV10pAenp4YEYIkgw1Qnrmgoa/cadbBPYmiWR6ErsWPmmrPsU8PY7JEDne+853DPeki8jSPVbFJUUOXFAOhDLbWiulZ6NMm/1skexN/2ZKv1K0KJ5bzcD8l88TFTSrhVyZC4B742zXA+PSGYEk9/I5UTEnC6YHRbGZeYeVFFVR+CQTD+SyvOCdo4t54NDVbt/2oBiKELHIEg5il4ycPubFjRIhs3Zh7OQ9kuQjRyfFjeA1feVBZUE855RQOCWO/l5QXVF9UVpO4bVr//hMrh6gMeXK//e1vZ2DTaUl9KHCQ0jfm7E2jTznTk/mL8/pwEm6++WYwXHXVVSErvDY2Z24MnJ1TnIzDAaQYEWJKFFe58QFSE9nV0ykAMVFT5eer7NBAhMCNYT3FlXU4eQ9PT+VTJbeNm23FFVcU+VO5tUkdwrUZkwW18RJ1B5Y8PR5cwpIbfqwvmYXUKWKQCbdoZeMKxbhR2W1sh8a+RpHsTbPLtlLj2Wyzo6N8gkmZyieGU/tm5FTnNbwiQ2jsjBIDSwNM10iNR82QNXUHhwBhCQy+CsFaVOKkPpz/pCv1V1VUqPQyX3m/4epnrN9PGouEMHkyoGHyKvGgs3rDMhtMNYWO+I1wW3XYBKN3OFvdqbo6flnUWuf4qbujfH+xBHQ8DsboJJyFJD2j6Q866UJzirxtdCFtVq87lmuNS80o6k+Sajacdu1Vr3qVd6VzeLjkUQFyFqoLaqE/sxjTBwMUzx9qpFBcVmgjBwOZIfzcONdH5xQ3W3KLxPMAqUlkp0h0QvXYLSRqImKRr7xWlVl0Is9AoRujqPuh29t15rTAq5zy1Nvt0pAkLeN88N+1sBTopVvk1AJgtHPJ00MUpHh1w4+mkwrz0KvSJkeW6OYH5RqHwwYAj+Z/E8Ym26+E153wUTM/YOU44R1DlhvPXk4SU7CkkVrkrgSdynm4LkzaZ8u6gw5BjMtNJYQlHdhzAF9icUMqOvBqwKbEL6RqrIEhIkpDaXIFUBuPnYFbGgt7HoeEMf2RQfmKkZJ0NgkqxQ8JH4/ZSPnkvGs4ySB+dpjguKI/LOWbumaTFqpU7RQGloj1LY+foAKZ6TAQ2WVU2IW4iBh0Ta+PIpINXEUlucvXPJoeePmZHbCQgoO9LmZFBp8CtsN/haOMHc6921891TSa2MGstpEVH//4xzMalCzaQG8aZmO4N38zBWGHFCfBHTcwyqPMw4q+Jv6sdkhxJUgeODVhjuWOkxUj5nDm+8wFNVFpjaWmsbGqHhdUxh3XNkm5vHkloAtvEAZR3Eg+YcMouupSU7BDRiqbyyfv+ekpJ5ynPvWpY5mfmFoHouywgHRAbLaBVaCgjHxA6x7gZv2bPT04Jea+eM4Nl2jv8NwASKofGJPb2lh1yjOHERPSrEkNOmnOcvam5WXbmxXC7rwIYy+0iY5M2M1Jjg0NPsAAh9x4441CZJyM7EZz0/EuoD2aRik9N6nTNqk2EzIIKl7Jj+NxheHLrhWp2fhVh/866xTDhXlOO+20sATey/Nm4/ksnEJ5StaNFCFk9wN/lnfVQrQdp556avmOyic3vFJnQInbgwgR/13G9sy+zqTtYFhbLtFyOB2Dq7zuJKTimHDb8mmdnPh4lTBVOGaONEVUOReic0m23LGAsXaa3P2Q+RflFV0u05IA/bpMTwYAzsyiW265ZfwnmAbFZbnYS+iu5Kz2I0IMn5oo2gUJxH/K0LM9NeGr8q59kQDUoqa83S9/SMYmlPPk6YN8PEDBtZ0myJ2fDSyPe46kJg7iJ5xwgiSNmdxLinjZy15Wns+jfPKen566hBP5ZXUTelv+hpY8oPGrtOnZ7OnB0XLciF83lDNqloIPioxlIpZZJO8hEhDLFjQJjHL2puVl26cIgZcT5TW6zYmOTNLt0/tWcm9z2oHbALlcbCghHtvEf0MT5kgFKJlDFqLX4e6C+WySPS5UYdRh0u08Cglnpw984AN+T+yRGY3Yw13P007JzeXG7VlwuqBMtQSTBad29aH4ZLOd0afKbYUlClFWjZsrgAqKuwtBnzKVGwkyI4VSuptZkGjjmSWOYMAJLbxz+d+E30sn2nj+3gZyRQvQypQaFsVhZFvzQ0hSPMOGHX/BC15QFwC5GrKktHXHZv2ZwlBfreH0lwB2pCU6c6qFR/O9nDSDSOs8qv0cUgSWN0ea6QmB+HboFzuCvzeElU/2pKrR9f5ODKPiMmb99dePGTk9isPzBVxJ0hIgAVgBezM/q8OnJqbRfCqCmG+qT3tqEkuj4Ezkclm3WtSECSuch0wNN2ldOjLvAv7ea+uo+y/H3ZBUAJXVhbbQ39vtEeTByPTtHqAKFJ1FmcXnWb0dfk3N5l8wTw+3yex7sefDhpjM/Bec+QPa7OnhFi48Ov7jBu6rmSNTWIVU6VTQWMnlQ+SjSMJ30U81Lk02F5dt2DuPlfHxApOEJwXzXvva18ZLeHPU02ejIGdj6TPBEbOAzzBJL5XxT0IUYjBJSJCZwYScfG677bb8ELHX4ZO7RrPf6xMsmGPj98tz15ik0grBH9H8Bx10UJjK9c3wGlanmrJuSXBb5eTZLkIZ8hmGU8d8mso+mXKr/yyolbDNqgNmy9tfd3Uq2zzvgkHZZ599IjNA8HYIZDJ20WCF8LAVVKQejPAO5YmrMEOk3rQwyn1rWrQQqbrugeLo2wKKhhxOnaipcJA4zfNXqUtK+rehJly7c1JihfBXvkwFm0BIlKmVpEKqpCa6ToQfRAW74FzgJbrwwgv9jONhiyDLTXrgKifv8+mZnhUifxiC2ts92eCEzPsQZ8PeaX8abCRYITQq2lEXj5IJI9mbZpdtn1YIKdfGJsycaIXAXsfXTg/InYtGVbnddttx4+F63ucGy60Q4XBrkSAxVQcjg1u7YNPnDhE8Ilidsi+iT0hvKjmXSKxg0ctaZWXH8i/LmIghO+SQQ2h2w1R8XrmMh1FLliwRA8A8MhfHIwE5RxigsmXLZl7DMwGbXO2OUwTHCe8kUpM2V4L/PEK4C2JW/Kbbmuhsd4cffrhpMVUxqutEcXN0SucF1GlTE0ejkDAga5lDeWNqwrrx5mXxpkcPAUv8x/wblE3kB0ICF2Ji+bx8hQTn9DAQnFFLjNUxS0vNzKYd03OB9cGajq1fXiZCRMa5zxem6CfUZMF21PK+oH0kJgqacSUJpmmw5SBCTELpAx/4wDBn5GXKBzr0z4f1FK5mukMm4+yX1HVY+VCXhCpCXDWuJV9jq8GmwhAc22qrraa8S/gv7s2tneV84PnqZ65WjedPAxMGJmFAPA8pGtUIGaTm1I1XtBMeSk+2bHmP7Wyq4N7ZxhpegIpPDqUGxyTCiWjaGJgTxcVgKfWpi4GeqSnzlG5MTdRkrO6KXQabvCZtGrfGLGUFz2S/TK9P3ZOwIPvTb9KlNj5scMJ1RcHcBYmcyk3hXflNjHabKEJAdFbXo3L2yA74V7w7d5dJjX/kpKkoEryvJY2SIwaM4HAsCoL79dg2mrdRfUQ8t5RqwAaA8AnqSSrPmOWyPuVWCCx46ImfiJk2kzQKep0wVqZk/2JK6Giz2TgOykFGTRuq19HWUHnS3JAlBC3EZIMdCxiBgUkEx5bxW8QSm82sEEaRItrQbQxCUp/5woCHP38J8GSQWyz/G1bQ+B1RB1BGkqud5EARYjcpC+JniO/Z0mRXWIg6w30iuELUECVFZZSw4Yni4j/WYuhZeFUFG7Bp50mp5FUdi5/eqKk9KckbiUvJc3V5A7jdBUVhen0WAyHE7BEf3OYwyGoVs8qC7IOUhDCNbm2iCCGbYcx7VgtZHj9xCCWtxODIWCmeo6RleohykLDRXB0oKnDSo01oQSEyjPwgwyPIGbDw99gUvg3gzCv4Y5AQePSsnm5hyEorrRQEtsis8Ey0YYax6YRDmRKe3KbNL+QQcKEWfCaKmuYG76IPWYIoFUrnNGimcrCyLExmoAfCDwUxJjT2kKAh7qQxXncyT5pkhhhASvl7ADVxriv8pgF4Yt0yhmnmMYKV8KtfgQZJEe4utaVDpGNlSxRXiaJF1aHwqnqbvN15UmrsxjN8ahI/wHaXF0W8PnntVbA/dPX6pKdn3inLUWkvuE4VCYM9Y8QBIbWje58oQtBtdI5rYgDLoyQnk1qIKRzbvK+vLG0Y/ZhPqzg8Tlol17GNq1J+11DGP0d4FuelnXfeGQwuIxGWykOOVf+XABBcmMaKcX6PlQ8OdiJ1aFYqN5Kx7Jdccslo51ABl9khpLwYbWKD5LHxFVgMZFjXgYCENalcd7RDcDrPClP4uVDiig8YuSsYlFu2YJ4e65DXcuZBDRcFKGVWFh4DNs45flOIYCmBmbyqvzRf+T4sV37ZRgfTIZZ22WWX/CWAsgi3+d9kQvKkRSddtWJ+gqAuS2yHAHc+FXLjhUiUEooqi04IsYhpvVFc5g0y1xTXkppgG9UwExU+jWvN78da9mM+Yod9Cq8qOz9/pDwplbyqGRhzSk2+Tv7p8Zl87nzdNKZIj2B7EWKRPD0Q6FTj/QrnE59QeE0mHeD2M3RIGqNT0VVNUuNOdd3KyYd/2WKMRw/G//J+k/ZGkzG2GG0lLgbegesOYvAAxMBJ4PHGy3QZ+OysTcrNWjJnuQhhoMiE4AuEuxp9sT74wQ/mXwLwBBg8GAUfJGqYEN1fyHemutboCWB1yaqoRt4RhT1y8XKJh6oXoRX0QPJ6gbCTLJDBqCLzxtijHPNB56IPsVBuX6cue9d9er/Jcm1V7gJ+dtppJx83uO1pFN7ETuamwSo5KjeV70CaEj4kE+WoAx7jQzgeBZqtNf+0O1MTEKqlV2ZWxeXk9aaVS/dGcZkN84orrqiEarAdWlITnoOlSIauAuFQZ4nZHYII0R7z80tNHIAZ1TPFnKfHO5sVgiSlKxrDzam9MnSRPD0yxXtoeF7kDxU0QilMxpy09jPErNKsDxJGzg2Yt2bL1Ro1/MsWmzfW3X2iCAHdC1KEUB/evjwAYz8wrUYoYRhaMAE3SLM9Onk4uCXuTzKxSDasDzWA+ATO3ASJEJosgyRXb/mzs3gPmWFCvRiv+2abbRY8l3wy6kwRP37mGpHPt62ChF1QxiiIkbdGUXUzqgRoQxaLuo1JZ4MNNhBiEWCQ7oCJJtMDqYFA+JGvKaaESuXSwZQhayeWOpMibCdjlCtnmIsO/Af4lbFHHXXUUQDGYrq+pW+TzDsSfjZHLtFeU3G6gnYcDHVCPLQSPmbajsiphtlN7A3q2G+//Zw9lBIiiGTpljNAYhk/Sx/RCdlOY/vS6uNKuSBKJCWbM1BJ7/k2qkHIg9EbxRHSQpoH4elZ/gb/FWFF+JkGZqYxZ0tqQi+uZf4wrtYMPGYZ/nIKLfPYnAbMPc85v9S0ySabkOIkAwwYYwCXwjUIDI6oShQ4My677fG5SJ4eR92BL2BMpSwIjHR1bj9D+481aYZQAnWYIsQcX7aTMtrK619Scq9BYt3hDAm8tfBoD0MGlRuHa5MPyc6VpWYPKR1DkmlNqRq3VWg4+1o7Ylk2Ffa6ZBRuWH2cPAHkc8J4C/OVBEgXodBVaAI8QnJuDZMhZW1+IUn3SR3hr6RJDL0KVj5xxlAeeOCBjXMbs3IypvNFCV5q5mdNhjT3u9tcAHo5oiITJ5sEj5ilriIj0bITioJ5x+cbu0rdZNs9JFqOyWSP3af48R2pq31Ztf9wnLXOm86h/Jl0zpIH+AEjWHeG3vrXrQshfiCUbsha/mFwAkvqkIRNxdSFII2PYsAJsSjRZRJyypPNs6GNTfSU3wvhpxzzvVGceyMAhpB5P/K2CtqyHXbYYRKEPVNcD9Qk1l+gWjBE5A+P8JXeCCR+oQZ1IdpTU0xdCEF3hV2Eo6LxE25GTUaF3GveTTckqlTxgDROLyam0XEV+liCuvi6ED08PXUJJ/5I5HtW1oWAQPgUSxNG8aFlKV1vvfXil2s/Q/xatXoG11b1T2qNCp1DXYixZbXKZ4tnbxpctj2wK9nu2PyDZ0Shja+spNMCFiHsTpkCbJkzgYcWWh1uQOypygZUgBmOAjGcd9554TfCIbKXfmyVjZLDxMZq7Og1OjqEoEKVksWys5mAkLsRK9JoZ3bDvCbMS68oBMvjaE/aaJIPb5ZCeXaMuECIlmRASbnWWmvZYLBcAcMqG264Ycx+42kMkBxyTJvnt6zIfjJpobr3cg80GcP02KnHD+MCORjisYXlY+5B8gNcmYTam8wZM2QmfZjX5PWqtTRyeN/73kc7WBAeCK5OY+VU5SJECEwitI/O01KEUNIhf3rH/lwpQoCqN4rzaQqWK8oIHNskDPdMcf1QU7APZ+eKeC9B9tgLufLgTbsDxx6237qrtKSmEhEiBOblsZfB1okIweM6pGjPO00QdP2yUHR1FCfxIkQPT09dwqn7iUP/ShGCkR/v8bznPS/0p4v07Wppk9vP0GxrlaOIyvbCzbuy52iHkMdyqiKERetetj2wKxkqkghRPBXEa1watz/ihGvuD3/4w+i5UYjNuTnmmGPyf8Lr+GVdESJEGghIiDy+rj9sMfd3SWYrh9D6c+ZhxqW9ruzszvXMUPyQakrKgubnieTyfUdKXgAAIABJREFUkSgHdOo6kwejYUyLnDw/FXUCrprLGT8uTgUlq9S9l/ukyXLk8NRaY401nBm6tMbcf3gAGqteYj7fzPtATjjPFPzxp256YNfiS1qC0Q/FuTHgNlCc7Grlp3GYFNeSmkQLUIvwJvW9Ak/sQW357YY5fE6piZWAIsx3UR+Go10kbhuQ6vSenrqEE7nHBt3YGJ123qHGUqZQGdS9V9vP0ADsyiFBjcuwX9mzww512Ztal22f7MokEWJiLESlqmzeO/i0mDPS9rbbbiuLSyhwW2gh8RERvP1m6UWokyPLPliOJoAtgkkhc08qgUH6GqZGERQxpTx4ahGpWZlELLBRtt9aNoM9kklETpu8VuW+ujBIq8UWIaEN00dkMt+6S8y8v4ppomLskdeKp24SPGPzrIXOv/3tb2lPRRwq4bT33nsTkme+qWkAgKzCeQ6uX9NYYrBz9kNxbgy4DRRH+57PgTNYzBQAa0lNnAll/OMjxFuG4ZeJFZM0L3uvBeecUlMwrXvOiHlSEdbacq3Oi+HpkYWSVYrmlEcGpac4urH3Kj6bHnYs9iJnqIX59p1DBNdUj0d7IOfusl28IkTMxyZaeDhp99/73vdm/VFOzNhCHyKBUglzFIbYYI+MIS6dWullGqyyGIYIKREuTxjzg8xaGKAQS1NoigNKWSisc/Qq9wZsv/32TFiMbGRgwe5E5cYFBBcDzudxj4niYr5ae2qyith9qm5O9nypKZ6wkjFLpz69YaCQTLy3dRfeQjQywizZc/jV4HbGpvGgDBX9SIUxtpJVzAz94w335bmU8rj/pRfwinMmQngMQnGQfJuqQkh2AnpuPnBsRvynhWKLKXEgChEFMUeEKiveChEz4dD6qCjs6smXmYuE8OKLLxYBouUTv0SOHdtNNEiYcCzn3WbmHsayleP+adTc4M453SdTMgGAVaGwOvGA3dM2+bwV/iR42t45BLNl8a3HAHFEEerTA/xpid4wkCiuEtWdUJNVJLvk1KFwEJxHZqephC116BADbK3haa7VmJXCS6EREWuNXXhPT7Yj74Vz7rQLopPrYnSnHheFhjgdMFaMxUPlDO1RXXcGIgQerO6o9v27ZW8Ideeee244seW5+9pDHjXDJK+vYYZTh4zFtLMOaNbwWB36ro1OxeEYE5bFNwtfJlc0cE9nY33iE584VVCnNHldf75aYAjwYp8JTcG7WmMndSbpZXOKko+JJwlT9elcOAl4MAgNlPoz6yDBq9/waisMYRwLfm7y7uX/xN2TPZT5IjulfMF5ofBS4M7eCYbTJJMw0MDBumdkLiqKa09N2dcJhVm4v/b8vRbzclOlJvdn9kz4Qa6O9qhu/PQMJxYiIEHORqdd1umxOCF6eVB0gLdJSCufoT2q684g/b3boO6olv07v2wJuow/2bk96KCDWkIYOXyBhFOHwgglOeAi0dGgG6dzvukcQhqMDUMkjaUpaTx8hgOnKkLMcF+jSw9BhKiFkKAEyssbtYanzp1jYKpMT+fQznzCQVFcOTVxYUJrfJlmjrTFA8DioaZBiRCM2xKmL7/88lxkJx02+in8zCStaMwMPR9j5pR9992350UXzHILJJyaOtkl7uBGWVg67cQKwUWnzdKCBBj+BmF76hQzabJZYYCtmceqiz7oe1JLGEgYaIyBcmriRqggqRCIqfrNNgY+DUwY6AoDQd0pCRungJIiNuoO4WekGRhdN3KGrgCOmQfrKCsmgSemc+oTj4E5i4WQwdPeaIM4BUkUQEUhCXH8bmfb0/FFkIq2zBaMtPrCwIDkwrK+uhZVjgv19VJLGEgYaIaBEmpSk0exkZVXXllOM2bwYVa3bbbrNCphII8B3NTWW28tYEDUnISNhUK3+Z577bUXBkwC9913373ZDD1jXi5mgk3StXWO9jkTIW688UYo4MIoPflZZ52l8rGqgTzFO8fLNCb09ohtnVMRgg/9J/5fmxdsx39BnEHYmsYdNn7gbHvefPPNUm2qbRKKnaU2HAwI4c1OVKhnlFoeAwOkuBJqUnUEa6VUuTtQGF76lD1jYGFTE6/scFdwRu0ZsaPLuaxU1ZAjHmclYLokZwz7A3FagfZCvtf4GXreLBGCI1O3Wex73sIwl1uKZDYWMrXid9ppp1A9fjhNieULL7zQbS5aVHCC0qQqRjsWQhTyxSmHA3ABEiHgqC4Up5ujxoMrqz/AlSumwu4c7Q5nsOuuu2YAq+i8ZMmSOYI/gTooDChxdcQRR2QgcQkYa+sfFMw9A5MormeEz+9yC56aaP25DGUfSGraZZZZZn6/12AhZzBhSOT3O1gIBw4YY+zll19++umnF+CcMxFiFMu4WxTInSNUbh94k41LFn9Ot/ITDxzUBF7CQMJAwkDCQMJAwkDCwFxjQOS31IVHH310CmRq/B0niRBz5sg0un8ee355yy23NEZNnwPZdritf/azn+1z0bRWwkDCQMJAwkDCQMJAwsAixADXlVtvvVVS10W492lveZ5EiJtuuklCvXyFXT6155xzDqZcru5pY6qT+YVDbLXVVqeddlons6VJEgYSBhIGEgYSBhIGEgYSBiZhQAIepb3apNNMuJ2EgXkSIU4++WRp9dZdd91jjz2WRxCzFBOEsB7exor4zss35mrPCiGoY14ATnAmDCQMJAwkDCQMJAwkDMwdBlSokHpn++23nzvI5wLgeRIhXvGKVwiuYovYc889RVTLOKZQn4yWshfPBa4DkCrGL7fccs70HMGcQE0YSBhIGEgYSBhIGEgYmC8MKCqvQF7KWzilrzZPIgQUyL/0k5/8RHW2yy677Nprr1XuZ7fddpsSaqY07dJLL73ddtslX6YpoTdNmzCQMJAwkDCQMJAwkDAAA5II8R5PpZOmdBjmTIQIWFhhhRXWWWcdKbrmIpHr6Jd7zWtec9BBB03pi6ZpEwYSBhIGEgYSBhIGEgYSBvbYY49DDz004WFKGJhLEWJKuOhtWoUsUpXE3rCdFkoYSBhIGEgYSBhIGFiEGHj84x+/0korLcKN97PlJEL0g+e0SsJAwkDCQMJAwkDCQMJAwkDCwALBQBIhFsiHTNtIGEgYSBhIGEgYSBhIGEgYSBjoBwNJhOgHz2mVhIGEgYSBhIGEgYSBhIGEgYSBBYKBJEIskA+ZtpEwkDCQMJAwkDCQMJAwkDCQMNAPBpII0Q+e0yoJAwkDCQMJAwkDCQMJAwkDCQMLBANJhFggHzJtI2EgYSBhIGEgYSBhIGEgYSBhoB8MJBGiHzynVRIGEgYSBhIGEgYSBhIGEgYSBhYIBpIIsUA+ZNpGwkDCQMJAwkDCQMJAwkDCQMJAPxhIIkQ/eE6rJAwkDCQMJAwkDCQMJAwkDCQMLBAMJBFi4oc87rjj1DVcIN85bWNxYOAf//jHtttum9/rBRdc8H9G2g477JDv47833HDD4sBQ2mXCQK8YOO200z72sY/ll9xggw1GSfKaa67J+px//vnvfe97e4UyLZYwMHgMjL5uQO6Kmp7znOccdNBBg8fB4ABc6r///e9YoHyYnXba6cUvfvHgQO4LoCc96UmbbrrpAQcc0NeCaZ2EgbYYOProo3/2s5/5N5voE5/4xNZbb/3c5z73YQ97WPbLNdZY40UvelH23yOOOOKvf/3rYYcd1nb5ND5hIGEgh4Fbb731kY985Ne//vX73//+2a8f/ehH/+EPfyiI8fvuu++yyy4b+txyyy0o9JJLLrnPfe6T0JkwkDAQMDD6uvllV9R00kknvfWtb7366qsTtsdi4B3veMfll19++umnF/6aRIjxB+bnP//5Qx7ykKuuusq/6UglDBQw8M9//vNNb3rTX/7yl4033niLLbYYCH5uuukmcsLXvva1VVddNQPpxBNP3HXXXS+66KKnPvWpk+A08BGPeMRll122/PLLD2QvCYyEgVoY+PKXv3zmmWfe6U53Qph3u9vdao2dXue3v/3tP/7xjz/wgQ/kl1hxxRXR6YUXXliy7pvf/OY///nP73znO6cHW5o5YWASBgZITWNfN/B3RU3IzfNn40984hPTwRjFwCQRIjkyjT8tH/3oR9dZZ50kPyRaGsXAf/7zn5e85CXeeM4GFPyf/exnB4KlI488cv3118/LDwAj5/j3fve7XwmQWK4dd9wxWSEG8h0TGHUxcOmllz7rWc9Cj+9617s4JNx22211Z5hGf86Bhx9++D777FOYHEmW06P+r3jFK0499dRf/epX0wAszZkwUIKBYVLT2NctPHCdUNO9733vZzzjGR/5yEfS2aiFgWlZIb7xjW+w3n74wx/+/ve///nPf36jjTaqBdbMOz/84Q9/+ctf/upXv3rmkMQDQP3GWTD0X2aZZV73utfFjx1azylpQd73vvf98pe/DJtdaqmleKlRW9bd+2677Xb88cdzBOJ7gHHBKHzhC1/g9lZ3ns77P+hBDzrhhBPcg/mZ999/f3zMwQcffN111xF+HvrQh770pS99wAMeUFgdWh7zmMfwr7j97W/fOWCLc8KFRI9TMrt1Qo8/+MEPnvKUpzjbn/nMZ0QdvOc979lqq61YJMQbzPbgnXzyyejRO5gH4+9///ud73xn14VAu9/85jcUn09+8pP5GbqOCtDuvPPOjBVzfY13iP+FRE1Dft0GS01jX7duqQm/SuBHlbe73e06PLrdTjWlq7gSyElWiP8RCzG2cXs45ZRTJv218vd5zgyDVdl/UB2+973vQSif8kFBVQkM5o8Njl5cI/9U9h9sh29+85uZK8LTn/5010RXoL7+9a8P+Nlwww194j/+8Y91Z8aRG0hHiGUxNji83fOe9/zOd75Td6pu+3/3u98FBhmyMO3uu+8O4Pve9744lbvf/e5+RpssJ6OrP/axj/3iF7/YLVSLebYFQ4///ve/X/jCF4Y3xqbOO++8rj5re3pEgCussAJG3PkPUB1yyCHgFGkQKHSGjWDg3S0A8Pvf/x54Sy+99FprrfWoRz0qYJWKDWdQ6Hn22WeTNGYI/6CWXjDUNOTXbbDUNOl165aaaAPpHQh4gzr5eWCmdxVXbplP5gte8ILRbtMSIViX+JbRHLgf506EELXjTarE6dA6dPu6z2p3zFZMirjhr3zlK3vttZfzQ6f4r3/9q1t4cPwNRAhHernllnvjG9+YB+Z3v/vdmmuuueeee3YLYd3ZzjjjjE022WR0lDjpT37yk4FBIYwJGgsSxSiDtcsuu9Dg1l039Z+EgYVBj3ZHH+HMMLsJpxMWfJe73EW8TbffvRk9goH3Hc+9grqHR9M97nGPa6+9tlsg684mvkhI9OgoURA//elPw+9BHnyvjz322ELPX//618Kp6y66UPsvDGoa8us2ZGqa9LqBuVtqWnvttXGtgyWiHq7iSXvvW4QIcNDBzKMI8bznPQ/bOthjtIBZlt60II1Zlr/97W+j+Jd3pXMhp+7xe/e7383zIWaUFBaoMmNisiHcug488MCYGVKfGAwsDKanH7NbY3r0IcRZjn6OsXQa89U67EMPIpihckI509DjdtttV+jpSmGsmPnFUgl/Px0WADUN/3UbLDXFv24tqYkq8GlPe1o/R7ruKv1cxXVFiBROXfQBg0GWrCG4tld6py28DqLYudnQcfLLD7vD1NIpuhd+8YtfDGG/Y5O94Fco+GcLHsNCsOpWtsc97nH6SBxZ6Gl4SiJZib1F1YEx+f3vfz+z2zHHHBOc9XkkI89VVlklmLOG0O5617sWwODOhyRnDlskSZbQo5C2mUd0zByNCwaA4b9uUD1MaookJfC3pKb11ltPHG8WU9rs7LH508fxdhad1WyG0VGDvYqTCFH8WD/84Q//9Kc/TUmEkMZn3XXXJU0SVLo6WwtpniVLllx55ZUPfvCD85vizc+mv/LKKw9tp47KM5/5zHvd614uOI4TEsDL1PSpT31qJnCywH77298uLE1ByzeJz1L2ewHT55xzDl8U0BY68zcVDjET4NOiw8SAs011KhY/D578J15ZesGhwcxR+G1ve5uEAY63AImQYsVly/9wJqCOJUlehe6NPDwh5at3YZQezTATyJst6uqWDos7pePRbIaFPWq+XrdBUdNYUnJaOqcmIgRtoHiVxkdxSgkbh3sVTzJbtAynnl9HJklC2ExHw1ILiLriiisk7eaaJm7vqKOOopnjzVJumQrG+tBkqaprxqrsH2/qdTv86Ec/ijGyVy46px3aOE6ELTNV3fGOdwxfk4I2yx+A35oJTnxTFpJCgDjlMfDcv34gOTioQRKT+7IAZBg+Q/eP66+/XhoDtpHG2Lv55pu/+tWvYm1f9rKXveY1r2G5EqbSeLb2AxM9xuOwPT1aSyXQ7IJFm7yA/Jc40eZQxW9htCfv4UKIlGdFMIm7goby4x//uLRRlA5uD1Ydck5hBuKQdExtAGg8tsHrZi3p6QL+RXc0XnrSwERN8ShdeNQ09nWbEjWhUKQXj+1CzxmGKzSGOWZgioWIwdL/9pHIVY6dkt54nec///mjOfg8A1/60pdKBkqXlr1w5557bixA0f0qL1nyMVaSZo7KPECCa9x2220l9IxeZExHLg0xYbgiC9+Sa7IfTFqUDkDHCy64oBIqfHx+zvjcTS0vWZiUUAUCuTvLIxl4FOw7rw/lLSvBnlIHOZdGz5XScvm61FTIxx133CgA2HfRn1MCrGTan/zkJ0pSyKEcCMq/oJVcr246HaRH8VxQHcnNp/B23am6QsLA6dE2xapl5EPCLNk4NHpCKrUkHPdVeM3mPP/88yOR2ZIerUIfGb6+MLYQSI3toA6XWTUShs67OZNsC4Vpr7nmGoHp8rpm2gea+7GXhpA8UaSdQ1U+YePXzbSexbCp0V2338XAqWkar1uipvyxGfu6TYOaxEJ4kpqd2MbhCsO5iidtPIkQsUdCsWFM9qTeqJrvSrgoKbqctu23336NNdYIiYQxQB/60IdKVpJ249nPfrZXdhpsTfkl623YbLPNMh6LlT/zsiVI4ORiETTSj+3vDW94Q+VwTlwWoikMjef9pCHiH8AJsZVzwnaY7QlPeIIh8UlaW7Is8qgETMoZVQlkbx1kYaYIHLscTzDFp7FWkw4eb7HRBJTThpwWNuSZ1e5whzvw/M7Op4ra8asfdNBBQeWskUBIxY4Ey2/4jSyf8VN12HPg9GinIJRMLFAQm+qkvXPtDQJeZZ5rekGXTJhQXA1deyQ+W9KjVVwXIHQMuOpFLjrtbh4Lp/Fb3/rW6EKUDjRKPA/HxoLrT62jeAvD2rSBzM/f8nUL6gB2FUaMzsEeODVN43VL1JQ/RSWvW7fUxK+EuNLgALdJ2DicqziJEA0+/f83ZPXVVy8pqiAneuBLXvnKV+bt41dddRXXL264ol7aQtB0fPkly0U1MGouuyAwuKF4bTH0+706R82WxV7QqAkAqBxuXaFOld10ULstUoTIZqvLgtTtXwA7OwaDKqSAA2BJ4Gkdg+R8H+KcMNme/T0yh2luD/AZuCV0FEp2aGOLV4xuja439JdvN5/SG3OmiB6L4qx4yoHTYxAhYoo88AcLGK4UIfJfh3K9TxEihFEOrZCCYrdjk6lXUihPvFFvw8pRLTuk162AwIG8bqBK1NT4dYO9WtQkqStfpmak1Dhh43Cu4roixFTCqdmOOZNpfFFc66effnr4L8410zIO8wfoYxrDTk0CL5QapZNjSciM0X5DeJCfmKKXZ0uHW/vtb3/Lq4dY0n5OdVIVMFJsgcUgeLY4tYSlECtpFZxWg1U4wHBvCO93V004e1dTTWmeLECz2423hJZZSfIcPid15+GH9qpXvSp/nuvO0KA/wxEiYsbB91NaB1EWHfFIUZXFzzHpLBhVPA86s2BQ96pSnEEitQgjlRBPosVY8AgtCFZy23y4+aSN6Cx86OKLL25GJqPTJnpscGZKhgSSHBQ9gkdJPsfGm1Jrs2q58CsLmpQ+W8+vG6YQzSJALmctt5moqSUCC8MHSE2NX7e61MQjHd/lwm+A0tGEjbw/FANRUaeTh2OIrNEkmaNNOPWkvC5UMs1kuzDKN5i2olSEsXNT4oEafN00r0LlXqiocTajjZgxdixfUp1hifIDL5jVLrUcKwEFbfmKkYJsYZJMrmugUHf1i16NFNnLrRCc+GnQUS9n/eAVZjsF1DlXkzBQ16pQt39YV1yybFF87rObogChuIjKUzHVDrhhEnvdJRz4Sjf3unO26c9Z3AGI0ShzhQr0yJcpfsVPf/rTjI2Z7xNhQ8Fyvl5jZxCWXciWIwGX/l6FuaZHwJffGJtvvjkbzoorrpg5mPE6iz/wPehNhR6JopEhgJQYvibn0jyEJTdG/Glp2ROXXNdNVBYsup6W6zYYXut1M//Tn/70sQ/c2GhU9OLhU5TGwEsvvZTDcBaSR3nB09prUgLzYn7doCVREyQ0e93qUhOVlpsEh9CAgujFUARR3NiLLroor9Kidz700EMnzTmcq3gShJNiIaZihRjr/QkyPsp1BTuGode//vVcHXwYLzdVJRdnzvdUrdNI1Rcy63s1J8GZabnEumUO8SWaS0HDo41YPHYIa4PO9Pobb7wxaxrhNahmNVYCcRe33XZbXQRW9s+E42WXXbayc+hAwhGkK2xRQMXee+9NZMdV8yDMHB4i58l3s3fqOs76PgHtVFilgLobb7yxwcwdDvFFBD7+5je/4SQTpi1A2DKfdHtQ3VMcJ+rOs80222QZpeqOnUb/cCZjDiSvaz3dv85hJCQ77bTTlltuyd3Lg+QAc+2jcJIeh1AhT1phEvIYaYGxgg5MrRIvBBd/4OmPPRU/ELlofLeB0COAMb6uOJKVQx7gdxsP6sC7K3784x9fd911gqCCKckNmYdw5jcGkJyTfD6DmJPADM4bO6Znt31qvW6WpmEd+8CNLZJDSeHhc3+iKQpKNkYKQZRrHn+Se0r9n263Y7aBUNNcvG7Dp6Zmr1tdahKD5OREFlkqnNhAEf6lEsXFUQRkHTDAjRPTD/kqnooI0dVFwKWBkkkCGdyzeweLqdE7Uk/KAlTJwTcAI1ivRqurZFPRnay//vr+i3cJdQDIS5MWcoaYNfKNYFAJVXAAe/GLX8zQAR4MOo7HKG+5TDWVw+t2kDXFEAqhrJpb+Qw+AYmO3wtvE9HhFEsicffdd9+zzz4bQsg/dQEI/QkkGaICJPnfhD9J2dls8q5G+SIBkqOPPjrMibbz3/e5z31uV2st2nnwE8GhIhBaeQs2NFdzFjxd3p9rU0jD7wzjPt312GJ2P2YlV79ssAWnQcZAVz/pgnCrbob4DaZk9kDkSdEQQni7bQOhR5uSqDqcbY6pYY++S+FCm+2B5wWXwcOACUKemXkIZ35jdHs2pj1brdcNMETuwnnIDAuTQCU2sDFSCHrQUbr/nnXWWSGngoev8w0OhJrm4nVL1BSOX2D/mjkyhRlOPfVUX5xVbY899mDNIFF7aMSLsus2O+GDvoonmS3aODI1MACNDoE1mj8ZZqguOpkwZpLPfe5zvnG53RkPUTgKRBreDjFJlrJ6TGOBEatgdaJ2IUeq8xeONWa9W1MvsSQUJBZ4GoMfJaLd/kFU0J+Sj/+AIBA/083zaKJyY0MYO1V8OPU666wDpJiMTNlCdR2T6vYv7MgdEe6CGRZSiPle89iH1RFiqSdj3D8w9zpLkhazU0JCkDS4zFFX54cEVqNAYvoE95ixYcGTznk2bQPXiz7pEZyREPLLD8gZcjg1nysQ7rPPPjEnIfWZhIE2r5s5Qyjg2No4HvRwivgy0YvlAcgcqErS9EWe1fy0fVLTVF83m+rBkSmPusVMTcF0SV3b4JYQyxcOOZ0UZjJ+hsjj3cNVPAnmXh2ZAhLbNI4i2223HbcBzuX5VI/lc2K1oZjDGXrmiNYAgEorhDnx3FYROSD3a1iCco5fE905PWWDRQtD8EMKEuV/yd0i1BLGwbefP5vBWSE5QJodSehZObP+cvbxNqbbC3EawQITOH7yA7RzeB1+0HzlTlOHWWGAH+rhhx9udVxFjPtHuO4jrwg5NIORAYvDfym/R17dmt9k+Z38rE9IFnz88cdLQsAHIz8ky4ncFa4SPXaFyTRPYwxM+3UDmNDnkC8ha5nLeIcPXKKmxmdgkQ8M3uOZr3IzbPD05oTSbOx8jerYkYmej7NHScOwxiCIYpuHKy+CeBdt3slEZ1UXBFYecMABfJ/w4pkXb8yi+gQRIotAKBnFYvCFL3yBc/wuu+wSgPQz74h8CerIRQvdgntooQkyzsBrNu3oqCVLlgTlq6LFk7LW5EfhrvSXajBzGhGhQQ2cxRazxujPP6QrCNM8iwoD7g2KA9Y8AjMSjtn7Ax/4QN0iOQ/ZmcKc+Si3bJXwS4p2/hXZL5mbBNCHGk+uF3HVJJx8jcgYICP7JHqMRFTqNm0MTO91A/noAxdet24fuERN0z4kC3V+uqEQINd4g3xnpGJrPHy+Bk4UIWTFicl1WNgtowHH/ZLGez4GQcEZWhSEWMaxreCyTH6QzojzGeEPI4JXoMinDs9zAzHrxlgh8vPgdehU+EkHr2jLCRKIWahun85VnqIycEXAoF7Ft8XAI6hU6ow8bUisIVVUNjaIUm1oLwaM1GcgGCBPEtdL2qS0AWPhpzIg9vM9EJrPylewEkza8mqrreZPkUkzM0mjoAQNk4coOpeeDB7ZckLxqAaETQvK8ktmN+YRJjiyRPBd7OpbJHrsCpOLdh6CLqVbCT2KOqiFnPS6pdet1oFZMJ0pkduwMY3DpoeMQGa9UGC00CaKEFQFDR7InXfeGfte0lxwMWjybK+66qo03F7u0caVOR+2xWVZPgdey5yXACCujrelcAJJV8byCiUAhC2HpKLxjRKF51ywWyl0L5VQ/NiZ9DzssMNCOQg1gHkfRcLAwOJRyQszrBD5SzbYHyA/csLybo5sJ/PMZBIHiVc56KxAAAAPp0lEQVSblOf51bGwfhl5N7WfYdobx7jzby5p8QK8WrzkB1IEAxfjXgiNjWlBhJB3xVGs7M/XLvQZm1075BNzS6600kr5qQjGSk/IIiCKmgkOnPqQJag2usrcPxf0CCfzS5LtqYl+CvEScQvHjF3d78VEVR6/aXcAYTk9NnMxTa9b+HDpdcsOMCpw5kPixHxjni08eZPOfPsZpkpNmJzOlbbdAtz/VewKHYuTMivEDFlh+Ry93F7WsU20Q34zHGxwM3JZStuf/04liZUmfc7gwiRNRMn3nvTxghuPtJ5DyCRYAj8L74EHHqiDHLvsPPEn2xOVpdI3yi0ghDpfy4n7mdwa7UWI4Bk1jaS98Ztt2dP1KnkoWTfY0zRcsmgZfGck8befoeUWKodz4ZM6rKRlLHv5VFhzTkRIWCymitQh7CeykduDauSQQw6pHJLlHCPnj3YO1bKZHUJ+mNEmVO7Vr361/Xopw1XD5gn4ynXLO8wLPc41SbanJvIw6ZGHT4F+X/nKVwoGG4IIIUrNU1hCjyFRQXlLr1vAT3rdSs6JvHZrrrkm1498Hzch8+yRRx5ZdcT+9+/tZ4hZpXEfxF5Xj9x4rVoDM6fx/rkj4sBY14CJIgQOfhpVCCLx5SwSZyMDJ4JyReRD5OQl3SpFCPpIevdRdY6bNwRwU2GGHEcDbGQAfO1b3vIWsFGgspzkRYJKgGl86WIz+YreF7qy+nduENcHN6f24ntQA0v6NKrnqARyIB0Qm6yF8MNJTECO4yFhKNR99KMfHS1gORbm9jMMBBXlYPCOI3tzBVT1hQiaN2rFwL/WWmvJr6rneeedd8wxxxSGsE7QLGTBOfj+oFbg71EwsTrMIdlFIR+/rAmjh5BkmKUfiNS6jd3LfNGjLYQqHPPY2lMTspWi0Vki5WYY8JDzDpILlffdPKKlAHN63dLrFnOMEQJyYJLNd5ZnP/AV/cwQs0qzPh5rIkQDBXSz5WqNyizk/V/FxAF+7KPQThQhJDkpV8bX2nndzptuuinlIgXPpKc3VBAMLfguZ84PISlTaHURHc7NJAcMLha4ZEwPxoUjkMREoaYv7lksBPWPsap01d1sP/2BKol7SIrPf4lGCt4wQPk2tiRQBt4mm2xC2ZapewVCSOEaBAYsoGzfznfhWmm2tWDPkXEckBkD5wRnGv1m0/Y8SvStYkmccxxjKX0cD6gr1DkuB6n9DD1vue5y8srT7HIrEs2v3os7p3AgR/1GRpcgEgfJX15zEjJhgCVQrTFxWdTDpmWpCKdIZrMgP7sWNttss+C5hH4xhQLg/MyNKp+cHrFQTLCqKVCT16cwM/KTDJCEdGQN2hzRo5j1ELYueioLSQ8XL8JvsPeZDGlPTQjZI5rXs9LCuDMj2aaZ7Dp+0fS6pdct8rS4JxVgwQhlLzIVteoxav5GVpdqP0MkqA26BaZumCLEDK9i4sB47eekLLASbLOwx+e17bxneMtlWKL4ySb3YnFtgkdmpixtPFD1pIYM3YRDZOdGHGQtwIIYIIhi0ii8YN7PAQOdzxklI1Mh33xhnpi6ELiZ0dWlhQbYBhtsULKd8tTCMSkCLr744nJ0BY2vkHFsH2BgHs+HnRKawv9EBEvJ8PjM2V7lwLIEro7SFxsX2EQHYOwSdes81O1fWDS+LoTig8D2afDKtM61TmPo3H6GBov2MISVaWzysfylH1nwgWMSB6RsYN4GzTlKodBsOz5BKNQYmoCrkMleQ8ikjvzG5X4gdYS/stfhQVW7UzAnu0k5BM4vPYI8Mhm5nlkaDDcehy7EHvRhatJPwsAwM9m3pCb6V7smR4Vds8FK2BVTEagHgmq/RMvXDQAxdSHEERVAzdIYsuRP2sVift3gZGjURMHHsieXffhebk50ccopp8QfwvYzxK9Vqyf1k72cccYZtUaFzqEuxNg6QuWzDecqngQnvpoCbvSvE60Q3s5C1qP8097Dz/vtt5+qsfSFwqlx7R4t3CRTg2vOZih3s7Tx4YcsjwoHZfuUA74BkEH0LDG/0N97P3inYD70xJEEzT01KgW8GzAyk8xY2IJGv80MJVvm1NEAIYUh9LKcQHwC+7VZEhqa4dTBRzyU626/hBk49RJmNtxwQz87hLynsJt0AzS+YwNhO1l0SpOQgc1MSUNVWcttLIOn/QxT2lrLaX3ZrqKtuD+hdyaIEH0RbA5sGkpAUpUxOGSg+gSqhPLEDZ4nLg1po9CdohDoWqRKflP4RREabEdUa654+V6Fq7J/ShlOrHXPxARgTMLSHNGjLUCF1HNkJzcerYFoELkBvBGV1YhbHpLOh7ekJkoTpyVoggiulCbUsWMTlXQOeQ8T9vC6TemBmyNqWhiv24orrogLcpcGOyQvJreBrJjxp7T9DPFr1eoZ2L9mVoj2XtyVoM7qKvZQClEeA94kmYNZyoFoIId1O4RPgmta4A5xQryjm2J0/hAHKa43/6cgQtS1QgTPZg7QMbvAA/HexkmLKo7pP+0+8YJsS0hITfgniHr/+9+PCYucLd4KkU1IHyBAENNGPuF2XLJQXatC3f6Reyx0czDIWmJIZDXB3U6qvUqLOcl4FTlDM/AW5CgYUxbUpVGpG9aTIZ4/njejEhWkHaIsYucoVVJDNz/PwOkRqHUhhATCfCBJAlW5Va1nvWnlF9QhkppK6NEkzLkMVq4mwgN20A8xS89dn/S6Ded1c3gGSE3uQ8IzoZo9gWpGIM3YQ15CTZEz9Ew7Ibkf3VOf6w7nKp60a+b3s88+e/Sv/+sKPLZhjrmk94nENmsFjTVrezZJiIKoK0Lg5BADfVsbYGY1tu4pbAMnEUL8a60ZGogQ8fPXFQnq9o+HJOuJwXIsOdUw3HP6d9tSdY9yXWQwPiFkjE9/+tOFVSJnaABbGtIDBgZOjw1EiFpIGxrTE0lNJfQYth+UU7KTc9qR1K4WTlLnxhgYODVN9XWDtKFRU/iOoEIFaMHrljmW5z9xJTVVztD4wDQeyIUJgfN3aDxDg4FTPd61Ds8k4Dn7yOQ7+teJjkwcfzkLVVpVBtIhlEzmggZZrMziKGRiARstUS0IORGpMDVHMYK1dtdhZ7rbfDrXDmdeMFOJPRVaw+9L0Dmffo551LcqiBU2qA+fEIrt0YRCkTMsGIyljTTGQKLHStRFUlMJPYYlpLMUoC9XB8v+wgikrkTdYuuQqCnyi3vUUAFaEOmXOZbnx1ZSU+UMkZB02A37x3N+sHk1O9xp/FQkB7YmcV+jQyaKEDhpKvnIMlijXFGozZFvAu/iIa7bc4011qBXxqhJrsIvXyYfkJMrdt9997pTCXKILHZbd+aF1J/WPAhptRrJni0stPLsT5HTyoUVZgtx8MNpLA9ydskQqvh3gEoaANUP/PuVr3wlDyeh1+/9hlU3//v4GYaz6wTJrDDQjB5BK+goUFA+1VLjXXhpBK+HCWOyaTVeqO7AeGqaRI/5FV/72tfaqdCvQgrgulCl/sPEQDNq6vx1Gyw1ZV/tCU94ggwT4JwkS1dSU+UM/Z8QIkSIdO25DfkqpuVUpnl8fEiJzQVHLnywgVEm1ByRQpSImTUZ8RtMVXcIsYe1RbrGugOz/jvuuKPESo2Hz3DgVG1h7fclwym5NGtKrbWfk7kpm1ASJ/67kXP24MgUCYluXCw8WnN66uK3udh6DpwefQ6m5ox8aF7afyB6AV552Zw8HCLnnC96DK4OMtFF7i51a4+BgVPTNF634VOT4CjJEjGXYlYnfeLy1y1mhvaHp9YM0m+QfGoNad95OFfx2L1Iay5r/9g/TYyF0Pvtb387pWkD7IglcMOWJGhrMGdvQ2wZP9fbch0uNPBLtsOdtp9qUCyLBEHohdGs/b7SDMPBQKLH+G8xR/QoJtsDITmJxFzxG0w9W2IgUVM8AvuhJnHS3HS9XIcffngJbCWvW+QM8RvvpCePrH333beTqRbMJHvvvfcHP/jBsduZ6MjkZKjvdv755zew5oRssO7ZBmNnPkSCSI7pg7LCzxwnCYDpYUBBNIWrN9poowZOd9ODKs2cMLA4MVBCj7JXK6+58sorSwxITdYs7ePixGra9ULCALd4+a95+wjtExKpTtSk3U2ipvgZesYb3lVaTh4BPa878OWEcbr6xgJZJkKom3PDDTc0yLgs/6bFWHs5BWGPJCtwYgaOoww8p4fCgwfXvACc4JxrDJBXsSNKw+ZrFM71jhLwCQPzi4ESehSt5CFT+lNOW26687vHBHnCQBsMSLQj1ZI05QcccIAoxJKkNZOoKX6GNnA2GKtCAF27AI8GYxfqEMWd5abnrjZ2g0vBV8nOjzzySElOS6TMsWMVvzjuuOMk/ZQRn01N3XjsEW+qSXLM0FBPilDFjKvr0AArh0c6KbmZ1113Xd1oyOYF230imXPd9ddfb8Wrr75alI6c7uOrpfQJU1prgWIg0WPlh030WImi1CFgIFFT5UlI1FSJosoOBx544JlnnilBbWXPxdNhyZIlq6++ukqCTUQIGbtwoiSzWgU42S6UlaCtkRRffPOpp56qnjSJQpRzrXlm9ZEwl7TCzepbzwpm66qhC9sBAF5khcw/MwRsOEszv6qNlcEjeZ8axsMBL0GykDCQ6LHyayZ6rERR6hAwkKip8iQkaqpEUWUHHsU8FVUVrOy5SDpgKddbbz3ZoibZmiqsENAkQarwACHqbVCG/rFunMwEnreZp5+x8hJuscUWxCfpgftZMa2SMJAwkDCQMJAwkDCQMJAwMBMMSB6lUt7RRx891QoEM9la40WPP/54BRK4t0yaoSwWIowRnA6nYucbA2FgKEN2yy23tJmkt7EbbLDBXe5yFyUmelsxLZQwkDCQMJAwkDCQMJAwkDAwEwzwnbn11lsldZ3J6gNcVFrhD3/4w+UFNKtFCFX6mCBOPPHEyB1KdSeKIC9yCMg+55xzMOVq8UROMttuAgm22mqr0047bbZgpNUTBhIGEgYSBhIGEgYSBhIGpo0BGYAUQ5vTVKLTQM4RRxwhsBnrXjJ5tSOTwf/617+UARZREQPlscceu+eee6699trSMa2yyiriViW8F4DvX9WLYmYYQh9JrDbffHP5BJKv/BA+R4IhYSBhIGEgYSBhIGEgYWAaGFDkTtIh6u9tt912GvPP45xXXnmlGIRyyKNEiLqbP+mkk6TQJnWEgaS6gw8+uNwaUneJafdnRRFVc8ghhySvuGmjOs2fMJAwkDCQMJAwkDCQMDArDHBc32abbWiNy5XuswJvsOtORYQIu1XFU5NQdqWVVpqLREyFj7T//vtfccUVUjMN9uMlwBIGEgYSBhIGEgYSBhIGEgbaYOClL32p4SeffHKbSRbh2P8LmemP/ASHIxEAAAAASUVORK5CYII=\"></div>"
      ],
      "text/plain": [
       "             ^  2 ^   (5)           ^   ^   (5)         ^  2 ^   (5)  ^ ^\n",
       "-2 ϵ  (Cos[ϕ[t]]  f       + Sin[2 ϕ[t]] f       + Sin[ϕ[t]]  f      ) r[t]\n",
       "    G              x,x                   x,y                  y,y\n",
       "--------------------------------------------------------------------------\n",
       "                                    5\n",
       "\n",
       "            ^   ^   (5)             ^   ^   (5)           ^   ^   (5)  ^ ^\n",
       "ϵ  (Sin[2 ϕ[t]] f       - 2 Cos[2 ϕ[t]] f       - Sin[2 ϕ[t]] f      ) r[t]\n",
       " G               x,x                     x,y                   y,y\n",
       "---------------------------------------------------------------------------\n",
       "                                     5"
      ]
     },
     "execution_count": 1503,
     "metadata": {
      "text/html": [],
      "text/plain": []
     },
     "output_type": "execute_result"
    }
   ],
   "source": [
    "RHS = -2/5 Subscript[\\[Epsilon], G] Simplify[RotationMatrix[-\\[Phi][OverHat[t]]] . fh5rh, Trig -> True];\n",
    "RHS // MatrixForm"
   ]
  },
  {
   "cell_type": "markdown",
   "metadata": {},
   "source": [
    "<span style=\"color:red\">**NB:**</span> Полученные выражения <span style=\"color:green\">**совпадают**</span> с уравнениями (9) и (10) из файла Binary.pdf"
   ]
  },
  {
   "cell_type": "markdown",
   "metadata": {
    "vscode": {
     "languageId": "wolfram"
    }
   },
   "source": [
    "## Получим теперь **энергетическую** систему уравнений\n",
    "\n",
    "В задача двух тел без учёта гравитационного излучения в системе центра масс в полярных координатах радиус-вектор $\\hat{r}_k$ задаётся как:\n",
    "$$\n",
    "\\hat{r}_k = \\hat{r} e_{1k} \\quad,\n",
    "$$\n",
    "где:\n",
    "- $\\hat{r}$ — расстояние между телами,\n",
    "- $e_{1k}$ — единичный вектор в направлении $\\hat{r}_k$.\n",
    "\n",
    "Скорость в полярных координатах выражается как:\n",
    "$$\n",
    "\\hat{r}_k^{(1)} = \\hat{r}^{(1)} e_{1k} + \\hat{r} \\phi^{(1)} e_{2k} \\quad,\n",
    "$$\n",
    "где:\n",
    "- $\\hat{r}^{(1)}$ — радиальная скорость\n",
    "- $\\hat{\\omega} \\equiv \\phi^{(1)}$ — угловая скорость\n",
    "- $e_{2k}$ — единичный вектор, перпендикулярный $e_{1k}$.\n",
    "\n",
    "### **Кинетическая энергия**\n",
    "Кинетическая энергия $T$ в полярных координатах выражается через радиальную и тангенциальную составляющие скорости:\n",
    "$$\n",
    "T = \\frac{b^2}{2 t_0^2} (\\hat{r}_k^{(1)})^2 = \\frac{b^2}{2 t_0^2} \\left( (\\hat{r}^{(1)})^2 + \\hat{r}^2 \\hat{\\omega}^2 \\right) = \\frac{G M}{b} \\frac{1}{2}\\left( (\\hat{r}^{(1)})^2 + \\hat{r}^2 \\hat{\\omega}^2 \\right)\n",
    "$$\n",
    "\n",
    "### **Потенциальная энергия**\n",
    "Потенциальная энергия $U$ зависит только от расстояния $\\hat{r}$:\n",
    "- Для гравитационного взаимодействия:\n",
    "  $$\n",
    "  U = -\\frac{G m_A m_B}{b \\hat{r}}.\n",
    "  $$\n",
    "\n",
    "### **Полная энергия** (Specific Energy $\\hat{E}$)\n",
    "Полная энергия $E$ в полярных координатах:\n",
    "$$\n",
    "E = T + U = \\frac{G M}{b}\\left(\\frac{(\\hat{r}^{(1)})^2}{2} + \\frac{\\hat{r}^2 \\hat{\\omega}^2}{2} - \\frac{1}{\\hat{r}}\\right) = \\frac{G M}{b} \\hat{E}\n",
    "$$"
   ]
  },
  {
   "cell_type": "code",
   "execution_count": 1373,
   "metadata": {
    "vscode": {
     "languageId": "wolfram"
    }
   },
   "outputs": [
    {
     "data": {
      "text/html": [
       "<div><img alt=\"Output\" src=\"data:image/png;base64,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\"></div>"
      ],
      "text/plain": [
       "          ^ ^ 2 ^ ^ 2    ^   ^ 2\n",
       "   1      r[t]  ω[t]    (r)'[t]\n",
       "-(----) + ----------- + --------\n",
       "  ^ ^          2           2\n",
       "  r[t]"
      ]
     },
     "execution_count": 1373,
     "metadata": {
      "text/html": [],
      "text/plain": []
     },
     "output_type": "execute_result"
    }
   ],
   "source": [
    "Energy = (D[OverHat[r][OverHat[t]], OverHat[t]])^2/2 + (OverHat[r][OverHat[t]] OverHat[\\[Omega]][OverHat[t]])^2/2 - 1/OverHat[r][OverHat[t]]"
   ]
  },
  {
   "cell_type": "markdown",
   "metadata": {},
   "source": [
    "### **Момента импульса** (Specific Angular momentum $\\hat{J}$)\n",
    "Момент импульса $J$ в системе центра масс:\n",
    "$$\n",
    "J = \\frac{b^2}{t_0} \\hat{r}^2 \\hat{\\omega} = (G M)^{1/2} b^{3/2} \\hat{r}^2 \\hat{\\omega} = (G M)^{1/2} b^{3/2} \\hat{J}\n",
    "$$"
   ]
  },
  {
   "cell_type": "code",
   "execution_count": 1374,
   "metadata": {
    "vscode": {
     "languageId": "wolfram"
    }
   },
   "outputs": [
    {
     "data": {
      "text/html": [
       "<div><img alt=\"Output\" src=\"data:image/png;base64,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\"></div>"
      ],
      "text/plain": [
       "^ ^ 2 ^ ^\n",
       "r[t]  ω[t]"
      ]
     },
     "execution_count": 1374,
     "metadata": {
      "text/html": [],
      "text/plain": []
     },
     "output_type": "execute_result"
    }
   ],
   "source": [
    "AngularMomentum = (OverHat[r][OverHat[t]])^2 OverHat[\\[Omega]][OverHat[t]]"
   ]
  },
  {
   "cell_type": "markdown",
   "metadata": {},
   "source": [
    "Отсюда $\\frac{1}{\\hat{r}^{(1)}}\\left(\\frac{d\\hat{E}}{d\\hat{t}} - \\hat\\omega \\frac{d\\hat{J}}{d\\hat{t}}\\right)$"
   ]
  },
  {
   "cell_type": "code",
   "execution_count": 1375,
   "metadata": {
    "vscode": {
     "languageId": "wolfram"
    }
   },
   "outputs": [
    {
     "data": {
      "text/html": [
       "<div><img alt=\"Output\" src=\"data:image/png;base64,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\"></div>"
      ],
      "text/plain": [
       "^ ^ -2   ^ ^  ^ ^ 2    ^    ^\n",
       "r[t]   - r[t] ω[t]  + (r)''[t]"
      ]
     },
     "execution_count": 1375,
     "metadata": {
      "text/html": [],
      "text/plain": []
     },
     "output_type": "execute_result"
    }
   ],
   "source": [
    "Simplify[(D[Energy, OverHat[t]] - (AngularMomentum/OverHat[r][OverHat[t]]^2)(D[AngularMomentum, OverHat[t]]))/(D[OverHat[r][OverHat[t]], OverHat[t]])]"
   ]
  },
  {
   "cell_type": "markdown",
   "metadata": {},
   "source": [
    "Что совпадает с **первой** строкой повернутой LHS"
   ]
  },
  {
   "cell_type": "markdown",
   "metadata": {},
   "source": [
    "Отсюда $\\frac{1}{\\hat{r}}\\frac{d\\hat{J}}{d\\hat{t}}$"
   ]
  },
  {
   "cell_type": "code",
   "execution_count": 1376,
   "metadata": {
    "vscode": {
     "languageId": "wolfram"
    }
   },
   "outputs": [
    {
     "data": {
      "text/html": [
       "<div><img alt=\"Output\" src=\"data:image/png;base64,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\"></div>"
      ],
      "text/plain": [
       "  ^ ^   ^   ^    ^ ^   ^   ^\n",
       "2 ω[t] (r)'[t] + r[t] (ω)'[t]"
      ]
     },
     "execution_count": 1376,
     "metadata": {
      "text/html": [],
      "text/plain": []
     },
     "output_type": "execute_result"
    }
   ],
   "source": [
    "Simplify[D[AngularMomentum, OverHat[t]]/OverHat[r][OverHat[t]]]"
   ]
  },
  {
   "cell_type": "markdown",
   "metadata": {},
   "source": [
    "Что совпадает со **второй** строкой повернутой LHS"
   ]
  },
  {
   "cell_type": "markdown",
   "metadata": {},
   "source": [
    "Таким образом мы можем выписать новую **энергетическую** систему уравнений\n",
    "\n",
    "$$\n",
    "\\begin{align}\n",
    "\\frac{d\\hat{E}}{d\\hat{t}} &= - \\frac{2}{5}\\epsilon_G \\left(\\hat{r}^{(1)} R_{xi}(-\\phi) \\hat{f}_{ij}^{(5)}\\hat{r}_j + \\hat{r}\\hat\\omega R_{yi}(-\\phi) \\hat{f}_{ij}^{(5)}\\hat{r}_j \\right)\n",
    "\\\\\n",
    "\\frac{d\\hat{J}}{d\\hat{t}} &= - \\frac{2}{5}\\epsilon_G \\hat{r} R_{yi}(-\\phi) \\hat{f}_{ij}^{(5)}\\hat{r}_j\n",
    "\\end{align}\n",
    "$$"
   ]
  },
  {
   "cell_type": "markdown",
   "metadata": {},
   "source": [
    "Или\n",
    "\n",
    "$$\n",
    "\\left(\\frac{d\\hat{E}}{d\\hat{t}}, \\frac{d\\hat{J}}{d\\hat{t}}\\right) = - \\frac{2}{5} \\epsilon_G T_{nk} R_{ki}(-\\phi) \\hat{f}_{ij}^{(5)}\\hat{r}_j\\quad,\n",
    "$$\n",
    "\n",
    "Чтобы перейти в размерный вид, достаточно положить $\\epsilon_G \\equiv 1$."
   ]
  },
  {
   "cell_type": "markdown",
   "metadata": {},
   "source": [
    "Здесь\n",
    "$$\n",
    "T = \n",
    "\\begin{bmatrix}\n",
    "\\hat{r}^{(1)} & \\hat{r}\\hat\\omega \\\\\n",
    "0 & \\hat{r}\n",
    "\\end{bmatrix}\n",
    "$$\n",
    "матрица трансофрмации."
   ]
  },
  {
   "cell_type": "code",
   "execution_count": 1505,
   "metadata": {
    "vscode": {
     "languageId": "wolfram"
    }
   },
   "outputs": [
    {
     "data": {
      "text/html": [
       "<div><img alt=\"Output\" src=\"data:image/png;base64,iVBORw0KGgoAAAANSUhEUgAAAQgAAABHCAIAAAB07U6lAAAAzHpUWHRSYXcgcHJvZmlsZSB0eXBlIGV4aWYAAHjabY9rDgIhDIT/cwqP0BdTOA7rYuINPL5FUINxku0MH203pP6439JlSJiSZS+oAIWsWpUWodDUdKb6qm/Gi248mc/ALVD+XqAvfuzcMV3KzyKSGXT8IbLaGliLVCbnNs/H6pdWyr5IaVN9B/5/NnVBBrtFNSF31MglRQxDFsqOG65ANDJOIbuGd7jHGHx0aBuDQ9J97+4JGuAcT9DxZW3h+qpVJm1Ba1RWk+NzO57zBBniWpQzG+U5AAAACXBIWXMAABYlAAAWJQFJUiTwAAAAPHRFWHRTb2Z0d2FyZQBDcmVhdGVkIHdpdGggdGhlIFdvbGZyYW0gTGFuZ3VhZ2UgOiB3d3cud29sZnJhbS5jb21coqaFAAAAIXRFWHRDcmVhdGlvbiBUaW1lADIwMjU6MDM6MDkgMjA6NTk6MTS3IoJIAAAPtklEQVR4Xu2de5CP1RvAcylRpFzK6ldSTK5LUyq7JI34qamoEQ1WbLpYTWrLGkJUwjJb0WTp3rJMNbYfW5vblm6oVFRIsfmRVakUXVz6fcaZOfP+vvu+7/e89/f77vv+Yfg65znP85zznPPcznlq/PPPPyfEX8yBmAP/z4GaMUNiDsQcqMqBGtE4MQ4fPvzQQw/9/PPPvXv3vu6666rDTEeM5NCRg2Ck+nf06NGBAwcKYTjxxBNLS0tTnaKk+EeM5BCSc0LSOaDBhx9+OHXqVJWWgbS5/fbbEYlBgwZ9/PHHzZo1q1ev3rvvvhsIJr4NGjGSfSbntttu27Nnj/lkJReMY8eO9erV6/vvv1ec9b///nv8+PF33XVXSUmJYhcnzfLy8pCKUaNGgSdwvv322wsuuKBhw4affvqpE7Cu9C0vL4cP995772+//eYKQAEkzCTbINN/ctjos7KynApGcXEx6rsiwT6fifv372/SpMmkSZO06O3du7dTp045OTmKOHvUbN26daeeeqpQ8K666qo///zTlYGCJdn1XS8ocgYMGGC+dSY5MdiGu3bt+tNPPylOqvqZyELZt28f5rIiZKNmupvxH3/8ceTIEYeQnXTfvHnzGWecwcH1zjvvjB49Gtno37+/WygFRbJHu14g5KB1IxsmU5zEK/XGG28sX758zpw5Kn6ecePGPfbYY2g1Tz75ZI0aNXbs2HH11Vf/+OOPaBTp6ekJEO68886nn34aba+wsNAIeH5+Ps4K8b8dO3a85pprjFrOmjULGWYJnnzyyeaoslLfe+892QY9p06dOirUqbeB8MzMTPApKysDbTpioU2cOPHWW2995pln4IwRKA6Z1atXy/+Fkw0aNHBIMqt55syZrAABp0uXLhxf6rRoW95xxx3z5s3DlsvNzb322mt//fXXt956KyMjwwSa6zPoIjnwYf78+S1bttTH33xfvPHGG9evX6+yd1o6EysrK1nBZ511lvmJgYsJpejfxz+WvhEaCI9Ybdu3b0+K6vPPPy8AXnbZZXT54Ycfknax2uDhhx+G3QnIPPXUU6zynTt3mkB75JFH0L4EenxwyTnJKD99+/YVABs1aoSwWSXHiWHj+gy6RQ5EPffccxMmTDDihpkqhQbVtm1bdT6qn4lY5yzKV155xRy4ou8Vo0IIvYpgyBFRMT0SDIb4/fffq5KW1ARHMNjRVRhuj+QbbrjBnmBY2vW0+Hs6g7bJERgeOHCgVatWRtw2i3yjCfTo0UP92JW2puyCaKFto89hTsgfWTRsn1DFcaQO3KQl2porcFwEcsopp2ihcaYhtIjiF198gaXhfCCfST799NNx902ePFmL+ZlnnvnBBx8UFBSkHDkC4fr165999tlif6z6mQnGm2++aUkfvfzyyzE333//fYZ5++23r7jiisaNG19yySWXXnopWhMKhhgexQ79e+7cuQ4ZipqLxEObVHM7d+4MAtqPQ8nhKDa646cGBxGAx8eAO5I1BKrdunVr3749kRa0cxtg6RIUyWyu6DBVcUYf/uqrr+zREiA5EmGWN4vcsmDg7mVNq5PN+cCU8yf2OqkZmLmyLwfWueeeK/7JYsVgSEtLU4es23Lr1q1sw7t375brDF2Fv2s/3el0OG7S7gcPHgQHEMM5hnhMnz4dU0r2wtI47bTTkgIJFckjRoyQuQVaxNasWXPxxRfbPr4Cn0EUV2LB1gQDhQf9p3nz5lan8OWXX8Y1ifeA2BbnFFsmorJ06VLpU8IpBKOtgq3aHpL+e/x74YUXxP8CWfwiv379+jkfyB4EQqJIxYoVK9q1awdPsAr++usvFEscO/YA0isQkmEve5lwOid8uPJPOukk/Bn2KAqEHC2qmNBGqpSh8b1hwwY8QiqGoGyDtiBGxdjghLLUV7exoum2bNkyMW5IjO+ioiLJ/euvv54DRJEV6sa3PZJtWKscfQRkOP+NSLj55puxFY3+19MZtEFOAp6o9DjrdZ0ihjbGd999h/pubyfAioCV9vpGqRdBjMWLF5O7lbpEPf744xgYWgv7888//+WXXyRFbLoVFRUpSiBeflR64k5V8TcTDExGGwRjIOrqozZApXqXZ5991vXooZ88QR9+4oknUIkvvPBCMS4uNeI/2ihk06ZNiQX5iZW7Y7HISSi0IBgYGJyhNpCQRraNvhHrkuqswBuLYT1s2DA5L7ib8ShgcMtfUBQxM1J34vBEa2MJkhDDE4Pj0rbzJCg2oUEGNXRQ43pKMrk8aBo4wSV1WJ5sseecc478BR+DbZW7KtM8JUd3jljkhC8tnBgIRqooxzKwqEthUEvW03H9IXnXrl1t2rTREsIZQmBK+8tnn33mXDD8IUd3RljkGN8WBIMjsm7dup7OrlvA5Qb2ySefuAUz5HD8IRk/e4LWQDIEMUrJHNzi2BvkYjlklz/k6CJJjPLQoUMWBIMshlTRHf91/IO2adOm4TORRJLFQNKewzkLZ3d/SCZxgRRSyYG1a9cStdSG84hdkphI2Mohl/whRxdJFjnxJQuCgf+hVq1aDgn2p3vt2rXFLTBczBdddFHr1q3Z1TB8zz///ClTpviDg8+j+EMyRjZnAqnyLIaPPvqItPPzzjuPEAppIKQUzJ49m/sIZPo430D9IUd3jljkutlrhsa3zOVWn/IABQmXIvc6UFXxMH799dc4TxASvGom9xnU6bLa0h8++EDy4MGDSZrIzs6GjSQHYW9s3LgR6ojl48wZO3bsjBkzRo4caZU/uu19IEd33Jo1axLms3Bi4B8wuVKjOwYbCb0UbzW5wk0tEO48kZK0adOmVatWkcJIFBz/uiu5n1ZRJRgsIqyoIlb7WmrvNcno3yS8rVy5csGCBTj7SQzB5EA7Jc9l0aJFWCD333+/JYTNG3tNjtHouq6wSD24xomMEtWzZ8/u3bujR7EZuDht4QTlNckEKElBveWWW2S0lxH5hTQwL05jr8lRn8ToLx11XsQtYw5IDoRdMLjd8Z/jn9bd5GT+tm3bJgBq8xqcAHS3Lz4fgR4ficnOgaMncAtAAMSn5BygVQjuzqB/5BjlRXLN6MUXX1RMC/WoGS9EETwS35gxY1wZhecaJEy8hM6fKXEFKwGEi40SN/5CfM05cKSLKIEEy5sMzmGqQ3B9Bl0nBzNJ97qv4SshXGrl1sSQIUOs7hBx+5gDKcSBBx54gABfVY9R2FWpFGJxjGqUOBALRpRmM6bFNQ7EguEaK2NAUeJALBhRms2YFtc4EAuGa6yMAUWJA7FgRGk2Y1pc40AsGK6xMgYUJQ7EghGl2YxpcY0DsWC4xsoYUJQ4EAtGlGYzpsU1DsSC4RorY0BR4kAsGFGaTU9o4dYXaXb33Xcfzxl7MkAogcaCEcppCQ1SPIbA05Kk/XLDm7didd8NCA2ybiISC4ab3IwYLK7OU6CMW3WixCZ3hrnKx636iJGpS04sGCk/yzxbQS05tJ3XX3/dRWJEbVFeAEGVouQNj9jy5Mprr73GzWz/3wt0kS5FULFgKDIqpM144WLo0KHUD0Dbuemmm6iy6xaiCxcu5DEESliIwrN8Dz74IKO8+uqrvMDi1iihhZMagsH0U30npV/V9mgF8OpMcXExJYYpdMijJMiGtlizk0EpIMp1Yt6U0AKhCDX3Y1P9sWoVtoT9Bh9XtO+++26Knol6YswTZUoeffRRf95uUuFggG0sFVbX4qleUBzjG9OCp/+vvPJKc0p9KKDuBauNbvAZVlQKw51v3oSUpQh4fBcrULAGizBpaWD1e8kp2tJ2iWHoVS8ojvoEw3l5LSmXfCignhQHGw2M7nwbCgY7BMXXbIzkVhfqMDRp0oRZoeIrj2yjTeFHnzp1qpAN3OpuDZS6cNQLqyfQqF7TjGc5FQVDDuFpAXXXJwvByMnJqQrW0MZge9Z9utCL40wXJgUdMSpAg9KgHOU8i0jxbNwvubm5tOdtPN3X231DLwwDKRZWd4Kq7YqsTgb1sy+LXPdhPkPBoKxgsB5r8XADWpOscyX4dc8992BgYHK89NJLfnIwhGMpFla3inlpaSmV9Xi/mbOacrt0p5JgQgF1bVElq/BD1Z5FLlV0LWJmJ0YgRbIFcqBL5V9xiCfwkQrL2D/8SMmSULHYf2QUC6tbRYy3tniGmDdqKysrxUvghEoSCqhTsdIq2HC2Z5Hjla6Km6Fg1K9f35WX8Oyxg6rY4rzixS7+ZIZmzpyJB11od+LHQN7Vs0eOp72SFla3Ojr1LmShdBHE0P4i/gu/iFWw4WzPItetHGYoGLxrTVGloIiRi168JTx8+HDcajjpRX1rjnj+ZHqCQi9U4y5ZsoT4NJyZO3dueno6zzDjyqO+uL3aopBGJS2OZfGJ2hcsHfmL+Iu9ir6h4ptAhkXOGWDhxECnFKGDQD5p84nZJbon0BAFfijOwJ+RtwvVOR8XVlfnVUJLFrnuDmJ4YrAloMLaHs9hR1lZQtRap+IEfyLZ4i/iR6+rTzgkwbfucWF1J6wmHESpcgsnBi8B69Y/doKEel8Oa9EY64I/8bvzwjG1Szp06CB/dF4sVB2fMLesDgka3vGfRS4Xm3YUwxMDwWAteoeQOWSsCJH08c0334iWiIF021N1kl906QkK4WiPG9V0Wuhit23RooWFE4PoQUVFRVDzLQq9MXpRUVECDjisRGkLmfUZFJLVYVyxGUW1gDpbP1swgWMLgoEjIi0tLUDZ4IIB6OJsEeeD/PC94FzH3ohLFPggmaICN5UNdUub+oCAp0N8+eWXnTp10h3CLO2cwCppmJ5iZgKcdY+7gNASFd8oxEpLghjcB8De4O84cL2oARcUsaEdNyMjA9zwjJPJK2WDC65uJbcHSzjLmztYlgWjT58+pBwHhTredO7KcJQTgqV0N7V08R6I4jeZmZmTJk0KCrFqNW5WVhZ1pyA5Pz8f/pMqggbLhsUUBKhNuDUFLG9yjiwLBjcbudboFhI24PTu3bu8vJygFWleW7ZswX2MnDBVlNMVoYxq/vlwKYVwIUX0KIQLq0WqCGoVic/kSqV6HAmnP1mqwpSt+hleVBJNuRpGUq44TwP8iMJwmwy7AnetD6shQEr9GZqbXiUlJZb0ZMSAKSDfjlnAjWOyMZHDhuLOmgt5oKmwsJBggLhwUvVLcrU1OzubWxn+zJbJKOSnoAvC7lgqgpoLVrkooN65c+doHNc4PIcNG2bEzySCgeGLDhNgpC+odRCPG20OcPWNc0+YT3ZODPpwV66goCDabKqG1LleUDzkBdQTpnjGjBl5eXlm865yVxDLnRdTVFrGbVKCA14UFA9zAfWEScGjw5Vd85lKYnwLkcKcKisrI/G7Gu6sMcnR4wDvzkycONHcN/A/Ejb0pNaQag4AAAAASUVORK5CYII=\"></div>"
      ],
      "text/plain": [
       " ^   ^      ^ ^  ^ ^\n",
       "(r)'[t]     r[t] ω[t]\n",
       "\n",
       "            ^ ^\n",
       "0           r[t]"
      ]
     },
     "execution_count": 1505,
     "metadata": {
      "text/html": [],
      "text/plain": []
     },
     "output_type": "execute_result"
    }
   ],
   "source": [
    "Transform = {{D[OverHat[r][OverHat[t]], OverHat[t]], OverHat[r][OverHat[t]] OverHat[\\[Omega]][OverHat[t]]}, {0, OverHat[r][OverHat[t]]}};\n",
    "Transform // MatrixForm"
   ]
  },
  {
   "cell_type": "markdown",
   "metadata": {},
   "source": [
    "После трансформации RHS будет выглядеть как"
   ]
  },
  {
   "cell_type": "code",
   "execution_count": 1507,
   "metadata": {
    "vscode": {
     "languageId": "wolfram"
    }
   },
   "outputs": [
    {
     "data": {
      "text/html": [
       "<div><img alt=\"Output\" src=\"data:image/png;base64,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\"></div>"
      ],
      "text/plain": [
       "    ^ ^               ^   ^   (5)           ^    ^   (5)   ^   (5)   ^ ^  ^ ^\n",
       "(ϵ  r[t] ((-2 Cos[2 ϕ[t]] f       + Sin[2 ϕ[t]] (f       - f      )) r[t] ω[t] - \n",
       "  G                        x,y                    x,x       y,y\n",
       " \n",
       "                 ^  2 ^   (5)           ^   ^   (5)         ^  2 ^   (5)   ^   ^\n",
       ">       2 (Cos[ϕ[t]]  f       + Sin[2 ϕ[t]] f       + Sin[ϕ[t]]  f      ) (r)'[t])) / 5\n",
       "                       x,x                   x,y                  y,y\n",
       "\n",
       "               ^   ^   (5)           ^    ^   (5)   ^   (5)   ^ ^ 2\n",
       "ϵ  (-2 Cos[2 ϕ[t]] f       + Sin[2 ϕ[t]] (f       - f      )) r[t]\n",
       " G                  x,y                    x,x       y,y\n",
       "-------------------------------------------------------------------\n",
       "                                 5"
      ]
     },
     "execution_count": 1507,
     "metadata": {
      "text/html": [],
      "text/plain": []
     },
     "output_type": "execute_result"
    }
   ],
   "source": [
    "RHSTransform = FullSimplify[Transform . RHS, Trig -> True];\n",
    "RHSTransform // MatrixForm"
   ]
  },
  {
   "cell_type": "markdown",
   "metadata": {},
   "source": [
    "## Способ получения уравнений движения через лагранжев формализм в полярных координатах\n",
    "\n",
    "### **Лагранжиан системы**\n",
    "Лагранжиан $L$ в полярных координатах $(r, \\phi)$ выражается как:\n",
    "$$\n",
    "L = T - (U + \\Phi),\n",
    "$$\n",
    "где:\n",
    "- $T$ — кинетическая энергия,\n",
    "- $U$ — потенциальная энергия\n",
    "- $\\Phi = \\frac{1}{5}f_{ij}^{(5)}r_i r_j = \\frac{\\epsilon_G}{5}\\frac{b^2}{t_0^2}\\hat{f}_{ij}^{(5)}\\hat{r}_i \\hat{r}_j = \\epsilon_G\\frac{GM}{b}\\hat{\\Phi}$ - малый потенциал \"реакции излучения\"\n",
    "\n",
    "$$\n",
    "\\hat{L} = \\hat{T} - (\\hat{U} + \\epsilon_G\\hat{\\Phi}),\n",
    "$$\n",
    "или\n",
    "$$\n",
    "\\hat{L} = \\frac{1}{2} \\left((\\hat{r}^{(1)})^2 + \\hat{r}^2 \\hat{\\omega}^2 \\right) + \\frac{1}{\\hat{r}} - \\frac{\\epsilon_G}{5}\\hat{f}_{ij}^{(5)}\\hat{r}_i \\hat{r}_j.\n",
    "$$\n",
    "\n",
    "---\n",
    "\n",
    "### **Уравнения Эйлера-Лагранжа**\n",
    "Уравнения Эйлера-Лагранжа имеют вид:\n",
    "$$\n",
    "\\frac{d}{dt} \\left( \\frac{\\partial \\hat{L}}{\\partial \\dot{q}_i} \\right) - \\frac{\\partial \\hat{L}}{\\partial q_i} = 0,\n",
    "$$\n",
    "где $q_i$ — обобщённые координаты ($\\hat{r}$ и $\\phi$).\n",
    "\n",
    "---\n",
    "\n",
    "#### Уравнение для $\\hat{r}$:\n",
    "Для координаты $\\hat{r}$:\n",
    "$$\n",
    "\\frac{d}{d\\hat{t}} \\left(\\frac{\\partial \\hat{L}}{\\partial \\hat{r}^{(1)}} \\right) - \\frac{\\partial \\hat{L}}{\\partial \\hat{r}} = 0.\n",
    "$$\n",
    "Вычислим производные:\n",
    "$$\n",
    "\\frac{\\partial \\hat{L}}{\\partial \\hat{r}^{(1)}} = \\hat{r}^{(1)}, \\quad \\frac{d}{d\\hat{t}} \\left( \\frac{\\partial \\hat{L}}{\\partial \\hat{r}^{(1)}} \\right) = \\hat{r}^{(2)},\n",
    "$$\n",
    "$$\n",
    "\\frac{\\partial \\hat{L}}{\\partial \\hat{r}} = \\hat{r} \\hat{\\omega}^2 - \\frac{1}{\\hat{r}^2} - \\epsilon_G\\frac{\\partial \\hat{\\Phi}}{\\partial \\hat{r}}.\n",
    "$$\n",
    "Подставляем в уравнение Эйлера-Лагранжа:\n",
    "$$\n",
    "\\hat{r}^{(2)} - \\hat{r} \\hat{\\omega}^2 + \\frac{1}{\\hat{r}^2} = - \\epsilon_G\\frac{\\partial \\hat{\\Phi}}{\\partial \\hat{r}}.\n",
    "$$\n",
    "\n",
    "Это **радиальное уравнение движения**.\n",
    "\n",
    "<span style=\"color:red\">**NB:**</span> Здесь \n",
    "$$\n",
    "\\frac{\\partial \\hat{\\Phi}}{\\partial \\hat{r}} = \\frac{1}{5}\\hat{f}_{ij}^{(5)}\\left(\\frac{\\partial \\hat{r}_i}{\\partial \\hat{r}}\\hat{r}_j + \\hat{r}_i\\frac{\\partial \\hat{r}_j}{\\partial \\hat{r}}\\right)\n",
    "$$\n",
    "\n",
    "Заметим, что энергия системы:\n",
    "$$\n",
    "\\hat{E} = \\frac{(\\hat{r}^{(1)})^2}{2} + \\frac{\\hat{r}^2 \\hat{\\omega}^2}{2} - \\frac{1}{\\hat{r}}\n",
    "$$\n",
    "$$\n",
    "\\frac{1}{\\hat{r}^{(1)}}\\left(\\frac{d\\hat{E}}{d\\hat{t}} - \\hat{\\omega} \\frac{d\\hat{J}}{d\\hat{t}}\\right) = \\hat{r}^{(2)} - \\hat{r} \\hat{\\omega}^2 + \\frac{1}{\\hat{r}^2}\n",
    "$$\n",
    "\n",
    "---\n",
    "\n",
    "#### Уравнение для $\\phi$:\n",
    "Для координаты $\\phi$:\n",
    "$$\n",
    "\\frac{d}{d\\hat{t}} \\left(\\frac{\\partial \\hat{L}}{\\partial \\hat{\\omega}} \\right) - \\frac{\\partial \\hat{L}}{\\partial \\phi} = 0.\n",
    "$$\n",
    "Вычислим производные:\n",
    "$$\n",
    "\\frac{\\partial \\hat{L}}{\\partial \\hat{\\omega}} = \\hat{r}^2 \\hat{\\omega}, \\quad \\frac{d}{d\\hat{t}} \\left( \\frac{\\partial \\hat{L}}{\\partial \\hat{\\omega}} \\right) = \\frac{d}{d\\hat{t}} \\left( \\hat{r}^2 \\hat{\\omega} \\right),\n",
    "$$\n",
    "$$\n",
    "\\frac{\\partial \\hat{L}}{\\partial \\phi} = - \\epsilon_G\\frac{\\partial \\hat{\\Phi}}{\\partial \\phi}.\n",
    "$$\n",
    "Подставляем в уравнение Эйлера-Лагранжа:\n",
    "$$\n",
    "\\frac{d}{d\\hat{t}} \\left( \\hat{r}^2 \\hat{\\omega} \\right) = \\frac{d\\hat{J}}{d\\hat{t}} = - \\epsilon_G\\frac{\\partial \\hat{\\Phi}}{\\partial \\phi}.\n",
    "$$\n",
    "Это **уравнение для $\\phi$**.\n",
    "А также уравнение для изменения момента импульса системы.\n",
    "\n",
    "<span style=\"color:red\">**NB:**</span> Здесь \n",
    "$$\n",
    "\\frac{\\partial \\hat{\\Phi}}{\\partial \\phi} = \\frac{1}{5}\\hat{f}_{ij}^{(5)}\\left(\\frac{\\partial \\hat{r}_i}{\\partial \\phi}\\hat{r}_j + \\hat{r}_i\\frac{\\partial \\hat{r}_j}{\\partial \\phi}\\right)\n",
    "$$\n",
    "---\n",
    "\n",
    "#### Итоговая энергетическая система, выведенная по-новому будет:\n",
    "\n",
    "$$\n",
    "\\begin{align}\n",
    "\\frac{d\\hat{E}}{d\\hat{t}} &= - \\epsilon_G\\left(\\hat{r}^{(1)}\\frac{\\partial \\hat{\\Phi}}{\\partial \\hat{r}} + \\hat{\\omega} \\frac{\\partial \\hat{\\Phi}}{\\partial \\phi}\\right) = - \\epsilon_G \\frac{d\\hat{\\Phi}}{d\\hat{t}}\n",
    "  = - \\frac{\\epsilon_G}{5}\\hat{f}_{ij}^{(5)}\\left(\\frac{d\\hat{r}_i}{d\\hat{t}}\\hat{r}_j + \\hat{r}_i\\frac{d\\hat{r}_j}{d\\hat{t}}\\right)\n",
    "\\\\\n",
    "\\frac{d\\hat{J}}{d\\hat{t}} &= - \\epsilon_G\\frac{\\partial \\hat{\\Phi}}{\\partial \\phi} = - \\frac{\\epsilon_G}{5}\\hat{f}_{ij}^{(5)}\\left(\\frac{\\partial \\hat{r}_i}{\\partial \\phi}\\hat{r}_j + \\hat{r}_i\\frac{\\partial \\hat{r}_j}{\\partial \\phi}\\right)\n",
    "\\end{align}\n",
    "$$"
   ]
  },
  {
   "cell_type": "markdown",
   "metadata": {},
   "source": [
    "И снова, чтобы перейти в размерный вид, достаточно положить $\\epsilon_G \\equiv 1$\n",
    "\n",
    "То есть\n",
    "$$\n",
    "\\begin{align}\n",
    "\\frac{dE}{dt} &= - \\frac{d\\Phi}{dt}\n",
    "\\\\\n",
    "\\frac{dJ}{dt} &= - \\frac{\\partial \\Phi}{\\partial \\phi}\n",
    "\n",
    "\\end{align}\n",
    "$$\n"
   ]
  },
  {
   "cell_type": "markdown",
   "metadata": {},
   "source": [
    "$\\hat{\\Phi} = \\frac{1}{5}\\hat{f}_{ij}^{(5)}\\hat{r}_i\\hat{r}_j$"
   ]
  },
  {
   "cell_type": "code",
   "execution_count": 1466,
   "metadata": {
    "vscode": {
     "languageId": "wolfram"
    }
   },
   "outputs": [
    {
     "data": {
      "text/html": [
       "<div><img alt=\"Output\" src=\"data:image/png;base64,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\"></div>"
      ],
      "text/plain": [
       "           ^   ^   (5)           ^     ^   (5)   ^   (5)   ^ ^ 2\n",
       "(2 Cos[2 ϕ[t]] f       + Sin[2 ϕ[t]] (-f       + f      )) r[t]\n",
       "                x,y                     x,x       y,y"
      ]
     },
     "execution_count": 1466,
     "metadata": {
      "text/html": [],
      "text/plain": []
     },
     "output_type": "execute_result"
    }
   ],
   "source": [
    "FullSimplify[EinsteinSummation[{{i, j}, {i}, {j}}, {fh5, D[rh, \\[Phi][OverHat[t]]], rh}] + EinsteinSummation[{{i, j}, {i}, {j}}, {fh5, rh, D[rh, \\[Phi][OverHat[t]]]}]]"
   ]
  },
  {
   "cell_type": "code",
   "execution_count": 1384,
   "metadata": {
    "vscode": {
     "languageId": "wolfram"
    }
   },
   "outputs": [
    {
     "data": {
      "text/html": [
       "<div><img alt=\"Output\" src=\"data:image/png;base64,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\"></div>"
      ],
      "text/plain": [
       "       ^   ^ ^         ^   ^   (5) ^ ^          ^   ^   (5) ^ ^\n",
       "(Cos[ϕ[t]] r[t] (Cos[ϕ[t]] f       r[t] + Sin[ϕ[t]] f       r[t]) + \n",
       "                            x,x                      x,y\n",
       " \n",
       "            ^   ^ ^         ^   ^   (5) ^ ^          ^   ^   (5) ^ ^\n",
       ">     Sin[ϕ[t]] r[t] (Cos[ϕ[t]] f       r[t] + Sin[ϕ[t]] f       r[t])) / 5\n",
       "                                 x,y                      y,y"
      ]
     },
     "execution_count": 1384,
     "metadata": {
      "text/html": [],
      "text/plain": []
     },
     "output_type": "execute_result"
    }
   ],
   "source": [
    "fh5rhrh = 1/5 EinsteinSummation[{{i, j}, {i}, {j}}, {fh5, rh, rh}];\n",
    "fh5rhrh"
   ]
  },
  {
   "cell_type": "code",
   "execution_count": 1386,
   "metadata": {
    "vscode": {
     "languageId": "wolfram"
    }
   },
   "outputs": [
    {
     "data": {
      "text/html": [
       "<div><img alt=\"Output\" src=\"data:image/png;base64,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\"></div>"
      ],
      "text/plain": [
       "       ^ ^            ^   ^   (5)         ^         ^     ^   (5)   ^   (5)   ^ ^\n",
       "(-2 ϵ  r[t] ((Cos[2 ϕ[t]] f       + Cos[ϕ[t]] Sin[ϕ[t]] (-f       + f      )) r[t] \n",
       "     G                     x,y                             x,x       y,y\n",
       " \n",
       "         ^ ^           ^  2 ^   (5)           ^   ^   (5)         ^  2 ^   (5)   ^   ^\n",
       ">        ω[t] + (Cos[ϕ[t]]  f       + Sin[2 ϕ[t]] f       + Sin[ϕ[t]]  f      ) (r)'[t]))\n",
       "                             x,x                   x,y                  y,y\n",
       " \n",
       ">     / 5\n",
       "\n",
       "  1                 ^   ^   (5)           ^     ^   (5)   ^   (5)   ^ ^ 2\n",
       "-(-) (ϵ  (2 Cos[2 ϕ[t]] f       + Sin[2 ϕ[t]] (-f       + f      )) r[t] )\n",
       "  5    G                 x,y                     x,x       y,y"
      ]
     },
     "execution_count": 1386,
     "metadata": {
      "text/html": [],
      "text/plain": []
     },
     "output_type": "execute_result"
    }
   ],
   "source": [
    "RHS2 = - Subscript[\\[Epsilon],G] FullSimplify[{\n",
    "  D[fh5rhrh, OverHat[t]] /. OmegaReplace,\n",
    "  D[fh5rhrh, \\[Phi][OverHat[t]]]\n",
    "}, Trig -> True];\n",
    "\n",
    "RHS2 // MatrixForm"
   ]
  },
  {
   "cell_type": "markdown",
   "metadata": {},
   "source": [
    "Что полностью <span style=\"color:red\">**совпадает**</span> с предыдущим подходом!"
   ]
  },
  {
   "cell_type": "code",
   "execution_count": 1387,
   "metadata": {
    "vscode": {
     "languageId": "wolfram"
    }
   },
   "outputs": [
    {
     "data": {
      "text/html": [
       "<div><img alt=\"Output\" src=\"data:image/png;base64,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\"></div>"
      ],
      "text/plain": [
       "0\n",
       "\n",
       "0"
      ]
     },
     "execution_count": 1387,
     "metadata": {
      "text/html": [],
      "text/plain": []
     },
     "output_type": "execute_result"
    }
   ],
   "source": [
    "FullSimplify[RHS2 - RHS1] // MatrixForm"
   ]
  },
  {
   "cell_type": "code",
   "execution_count": 1440,
   "metadata": {
    "vscode": {
     "languageId": "wolfram"
    }
   },
   "outputs": [
    {
     "data": {
      "text/html": [
       "<div><pre style=\"&#102;&#111;&#110;&#116;&#45;&#102;&#97;&#109;&#105;&#108;&#121;&#58;&#32;&#34;&#67;&#111;&#117;&#114;&#105;&#101;&#114;&#32;&#78;&#101;&#119;&#34;&#44;&#67;&#111;&#117;&#114;&#105;&#101;&#114;&#44;&#109;&#111;&#110;&#111;&#115;&#112;&#97;&#99;&#101;&#59;\">&#48;</pre></div>"
      ],
      "text/plain": [
       "0"
      ]
     },
     "execution_count": 1440,
     "metadata": {
      "text/html": [],
      "text/plain": []
     },
     "output_type": "execute_result"
    }
   ],
   "source": [
    "fh1 = fh /. OverHat[r][OverHat[t]] -> Sqrt[Subscript[OverHat[r],2][OverHat[t]]];\n",
    "fh51 = Simplify[D[fh1, {OverHat[t], 5}], Trig -> True];\n",
    "\n",
    "fh5rhrh1 = 1/5 EinsteinSummation[{{i, j}, {i}, {j}}, {fh51, rh, rh}];\n",
    "(* Simplify[{\n",
    "  D[fh5rhrh1, OverHat[t]] /. OmegaReplace,\n",
    "  D[fh5rhrh1, \\[Phi][OverHat[t]]]\n",
    "}, Trig -> True]; *)\n",
    "\n",
    "(* Simplify[D[fh5rhrh1, \\[Phi][OverHat[t]]], Trig -> True] *)\n",
    "\n",
    "Simplify[D[fh5rhrh1, \\[Phi][OverHat[t]]], Trig -> True]"
   ]
  },
  {
   "cell_type": "code",
   "execution_count": 1331,
   "metadata": {
    "vscode": {
     "languageId": "wolfram"
    }
   },
   "outputs": [
    {
     "data": {
      "text/html": [
       "<div><img alt=\"Output\" src=\"data:image/png;base64,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\"></div>"
      ],
      "text/plain": [
       "    ^ ^ 5 ^  ^       ^ ^  ^  ^   ^   ^ 2       ^ ^ 2  ^   ^   ^    ^\n",
       "-16 ω[t]  r [t] + 60 ω[t] r [t] (ω)'[t]  + 120 ω[t]  (ω)'[t] (r )'[t] + \n",
       "           2               2                                   2\n",
       " \n",
       "       ^ ^ 2 ^  ^   ^    ^       ^ ^ 3  ^     ^        ^    ^   ^     ^\n",
       ">   40 ω[t]  r [t] (ω)''[t] + 40 ω[t]  (r )''[t] - 10 (ω)''[t] (r )''[t] - \n",
       "              2                          2                       2\n",
       " \n",
       "       ^    ^   ^ (3) ^        ^   ^   ^  (3) ^    ^  ^   ^ (4) ^      ^ ^   ^  (4) ^\n",
       ">   5 (r )'[t] (ω)   [t] - 10 (ω)'[t] (r )   [t] - r [t] (ω)   [t] - 5 ω[t] (r )   [t]\n",
       "        2                               2           2                         2"
      ]
     },
     "execution_count": 1331,
     "metadata": {
      "text/html": [],
      "text/plain": []
     },
     "output_type": "execute_result"
    }
   ],
   "source": [
    "(* fh1 = fh /. OverHat[r][OverHat[t]] -> Sqrt[Subscript[OverHat[r],2][OverHat[t]]]; *)\n",
    "(* fh51 = Simplify[D[fh1, {OverHat[t], 5}], Trig -> True]; *)\n",
    "Expand[Simplify[1/2(Sin[2\\[Phi][OverHat[t]]] (fh51[[1,1]] - fh51[[2,2]]) - 2 Cos[2\\[Phi][OverHat[t]]] fh51[[1,2]]) /. OmegaReplace, Trig -> True]]"
   ]
  },
  {
   "cell_type": "code",
   "execution_count": 1338,
   "metadata": {
    "vscode": {
     "languageId": "wolfram"
    }
   },
   "outputs": [
    {
     "data": {
      "text/html": [
       "<div><img alt=\"Output\" src=\"data:image/png;base64,iVBORw0KGgoAAAANSUhEUgAABsIAAABKCAIAAACO1daQAAAAzHpUWHRSYXcgcHJvZmlsZSB0eXBlIGV4aWYAAHjabU9bjgMhDPvnFD1CSIIDx2FmqLQ32OM3GditqGqJ2DgvJY3fn2d6BDhT0mIVDSCHNm3cXVSamJyp3fHGyYTlbn7SPkXubpV3AmP5x+7bHENcPwYRTyGxwbXoaliDhKef18Jj1XOvdR8ktKH9ifz9r2KMgmzqUZnM0FzX5NIJhakYnjgBL8y4mPR0HjDzNlhUSI/GAA/bq0eCuHHFCRKvSHeWOzZvnZrFlnP8Z+OcF51PWvArCHDHAAAACXBIWXMAABYlAAAWJQFJUiTwAAAAPHRFWHRTb2Z0d2FyZQBDcmVhdGVkIHdpdGggdGhlIFdvbGZyYW0gTGFuZ3VhZ2UgOiB3d3cud29sZnJhbS5jb21coqaFAAAAIXRFWHRDcmVhdGlvbiBUaW1lADIwMjU6MDM6MDkgMDM6Mjc6MDnxunl3AAAgAElEQVR4Xu2dd9wVRbL31TUgJsSMARVUzAFzFkVdzGlFBdesKOaAOYuiIkHFiAFzWAUDCmLAgBlzQswRc8667/e9fbd37jln5lTPTE86NX/weZhT3dP966rq7uqq6qn//e9/T6WPIqAIKAKKgCKgCCgCioAioAgoAoqAIqAIKAKKgCKgCCgC4QhMo+AoAoqAIqAIKAKKgCKgCCgCioAioAgoAoqAIqAIKAKKgCIQjYCaEZVD0kTgjz/+ePnllz/99NM0K9W6FIHECChnBiGcMmXKK6+88uuvvybGVSvwhYByrC9ktV5FQBFwQQBdxHzxzjvv8IdLudal1Rk2l7FX2BvCrmuJXLhRP6oItAIC1Tcjjh8//oADDjj88MN/+OGHVEZ0/fXX/1vdwwIrlcozq+T3338//vjjQeaOO+5I5aPvvvtujx49ZptttmWXXXa++eZbfPHF77///lRqbuVKUufe4oOpnGnHKHUoqHnIkCGdOnWad955l1lmmZlmmmn//ff/6aefis8VRW5h6kJaDV3qg3sLyAYt0k0h8qnLgvC7SmYQSJ0b33jjDdZ1s8wyC/PFoosuysRx7rnnVgbt1OHSGVbCGwp7GEqp689qrCUsXKnjI2FXpVEEFIEoBMiNWOHnySefnHnmmU3/N9xww19++SV5Z1lOzT333P3+7/P5558nrzmzGv7888+ePXsaWKabbrrRo0cn/PSrr746++yzt2vX7phjjrn++ut333131p0YKd56662ENbdycR/cW3A8lTPtAKUOBTXvt99+iPxGG2106aWXshvs2rUr/+3Tp0/BuaLIzUtdSKuhS31wbwHZoEW6KUQ+dVkQflfJDAKpcyMnTNgNZ5111qOPPvqWW2455ZRTOnbsyJQxfPjwCmCeOlw6w0q4QmEPQyl1/VmNtYSFK3V8JOyqNIqAIhCNwFQVBojo2vbt22Pbevjhhw888EBWP9tuuy3e3Qm73KFDBxwSE1aSb/F9990XNHbaaadnn30Wz8G2bds++uijSZrEyuDUU08NGg3PPPNMPnHOOeckqbaVy3ri3oJDqpxpByh1KKgZeR88eLD9xM8//4x6xOL/119/FZwxitk8H0JaDV3qg3sLyAMt0k0J8j5kQfJdpfE6ZTz11FMffPCB/cTdd9/Num7LLbesAOw+hFdn2KaMobA3hMiH/qzGWsLA5QOfpryqBIqAItAUgcqaEd9++23sfRylvvDCCwYF7FwsgHCUS7hnnnHGGXfcccemyEYTPPTQQ4QTHnbYYd9//33CqlyLc7AMDoQzGxwAqnPnzlgTnn/+edeqIugnTpzIVw499NAU62ydqvxxb1MMlTObQpQBQTZCSkfYECKn33zzTQadqtgnMhPSeLr0t99+O+6445hlRo0alTHymXFvxv2q+Vxe3cxxZMMAz0wW8h3xIn89G2588cUXmS/69u3rBEUBOTYbuHSGzUtnxlvY5LX6zUx/xltLOAm7D+LM8PHReK1TEag2AkUxI6auvk8//XQyuUyePDk4fsOGDSNAg2wRsQcV/x1WUWuttRYWQOKCDznkkH/961+udskcfbO/+uqrueaa66STTgoiwI0oK6ywguvSMBpDoiYB6rrrrosNdYkKloV7m0KqnBkBkWQvRNqEzz777Ouvv24KdQRBZkKK4lpggQUWW2yxJK0tS9nyCmkMXeojcEw40Jlxb8P2VE9Ia7qZ+sgyXqgscBOOb0MyT8utJE0qclkJlzq1PwOhI7c4BxJLLLHE9NNPT7CkvHnpcqzOsHLkE1KWkUtNl+MtbHJc/WamP2OsJQykEmZoKJs6vyQUQy2uCBQcgXTMiN999x2nlD/++GO83npS36x76tuT0PuPi8Cwjk0zzTQrrrgiSRJNekFyjZEzWNj33H2zGyKAeTR5uLdFADPKggsuiCtowb2cWOC+9tprH374oXDsGpKViHuju6mcGYGPcC9kkg/uvffeSTiKshkIKV8ZOHAgrT3rrLMStta1+JdffvnSSy+ReMu1YGz68gppPF3qI3BMDn423FvfnkoKaU030x3Z999/n+TIbdq0SZ7F2MdyS85ysSmz10VCLnXtkVeh4948s9YlcuXNN990alu6HKszrBP4sYnLyKW2szEWNrmvfjPQn/HWEqAqZIZ62dT5JbYAakFFoCwITE1DzfrAPJjJSKV85ZVXckBN6v1jjz02+GvN37/++uuJJ554++23G6c/jGucVW699dYnnHACkb8RBYM/vfLKK+uuuy7HR1wZzKfPP/98MhjefPPNXIYcVgN7wgceeMD+SnwuPoYNiUnswn3Bq6+++gYbbBDdHvInPvbYY5YGZ8MZZpihYRG8WnDhYTnFryy+e/fu/fjjj1944YWEjzXtMhc6r7322nR2zJgxyy23HPSnnXYaGBJqTdbqqaeeumkN0QRcm4BB09BQ/2abbRZGz0RLM0gZyRYiok7mD5Pf0NCsuuqq3FQT3Qaq3X777eGKW2+9dbvttkvYI6fiQu6lO/ilcrQOI2EB5xPcw0MQxIABAxhZpy+WjnvDeqecGT3urJAuueQS0okeccQRm2+++bfffjt27Fi8koOl0JlkoCc/ALZp/g2rsAhCStueeOKJ9dZbb+mll0ZJTjvttE5sH4940qRJiNiECRO4/RMZRN3hCMlkscsuu0hU35577gnmfJppApUub0NBhDQzXco9V5iGmRaZTAEW0d54442/+OILZq7ll19ejltDyoJwb8O2FVlIabB8jRE2RqmPLOucQYMGkcjYxHg2fPJdbiVk17DiCXURqXJY6HLyusYaa7BYdWqkhEtrKsxd6NAkIPbcc8+hvVnko4HtIXp039Pl2Lxm2HjCm/0MWzMWZefSzGD3uvotiP5Msi+TqKyGstmy84vTjKDEikC5EbD2zpEjRy688MLBzhx11FER1tDXX3+dSFhLT6SD/btTp04fffSRxJIaL+XBGWecgd3n7/95MB6FfYs9Kq3q1atX08ZcddVVpj6zQZXfvExQM/TshJt+AgLfvut4FjAopiMYCsOahKnR7Ntrgr7r6XFl79Gjh6lwjjnmYGsa3U22ythVqRnkJYCkRSPnXrwP6JHlVS7hsQZrmMoYOIRPBbjX9lQ5M2LQhXmUSEUHX2E9j+af3IWU5j399NOzzTYbRvP33ntPyO0Jydhsc5eLkTsmC75uZXCfffZpWvmQIUMsPeawpvSWoDhCmo0u9R3eWATubTj6BRdS2hx7jWH6m/rIUiFTHguG6FiKQi235IIfQZlQF4EbCXOMOnK9bU/IpTWNL47QcRcfPCPMg5E6x+Y1w8YQ3uxn2BqeqQCXZga719VvEfRnkn2ZUGXVy2bLzi+pTFJaiSJQFgT+G9Qc3KeZFVKEGZFj2C5dukCDByIGI7ZqdBjTIZWwV9x5552F6QLjqW/0Mm5xEoiNl7XEjGhr46YRJzMi19hBv80220jaA41X33WWm6NHj27aEpIhmiFuakYMVsXxe7QZEa7YddddqRbHzKZtSJdAzr2bbrqpMWTARcZoyPb+4osv5rpq3q+22mryhlWAe4OdVc5sOPTCvRAxZbPPPjsy0pR/8hVSmsfxOE2dc845cdNr2tpUCPDXNgoH5x0UlEl/gXtLt27dzPt77rkn4kOPPPIIoMUzIxZQSOmpV13qNbwxd+6tgJC6rjFsl9MdWUSDIzTulo2W8UItt5Kro4S6iJVt8BjSyYwonErq+1gooSNaCFUszDCeIscWZIaVCG/2M2wNz1SPS33D7m/1m7v+TLIvE6qshrLZmvNL8hlKa1AEyoXANHZvRnwr6sY88803n33f8A+invFG5Kc777yTG5AXWWQR/uZm5IMOOog4X07dJUFqFOEEg6SKeC8Gv0IwNRZJwgOj2yD5lUguCZmchlhd0ksH6a+44gr+u8oqqwgrmWmmmYKUOAJgy2OOZEsP8sJKEpKlDgvtIbsittQRI0bgx06Id8IWuhaXcy85hsllSXwZAfuLL744H2KNTvqek08+mb9Z/+GcL/x66bg3ul/KmQ3xweLGMYlhD/vMM888bEcHDx5s31x22WWs3VPkfB9CSmtJp4DxDqM5IrDUUksJWT0hGS7eBE4ipOPHj8ev2ZjscWlBnZJBlb/JaBH2iU8++eQf//gHetIcUbg+ZRTShLoUd6EalHDBJvcTBiO5cnPFuYbeE/eGtapiQhrWzRRHlnT4Q4cOZbJeaaWVEo61LZ7xoMdrdhJdxBdZ7nIQQtIeMre4NkDIpa7V+sMf6wApd7Cw2E/ANqxUWTJxU5+knSlyrM6wEsANTUtxqelywoWNrn4bcpdQZdXLZsvOL3IhVUpFoBoI/NeMiOGPo2nzRBsB8d4ym+otttgieDBrEGF5EfQciYaJI80a9W3oWbjEXpKyyGN7jGWTDSqxrtR20003kaos+Ky88soxxo+tLO54Xbt25VJjYplJEPPPf/4TKAgGN26PTR/y8dEM0vBBiZ7FXRx7BNvpddZZh1wzWG/Juda0ktgE5HTjW0Qy2pxuXBRTgwwhmTHqp9nY5rApzz333LijYqGzz8cffxyjQtcicu7l7pf77rsPr8OaT2y11VbmDXZt4dfLxb3RnVLODMOH7JlovPpfSSpKDkT7HsEhjQBHKULmCSPzJ6R88frrr0dp4wyILY9b1K2QYv1P2OymxdF1mC1qpgZy2pqstWFCh8rFhoglkaOm/v37N/1KPUHphDS5LsXlE61OFjPQwG5LBkw8TznoQukxJ+IjEANGYRGv3BvRhioJaUQ3UxxZ/H/nn3/+U045RTiyYWT+llsJGxZRPJ4uokI6axBD1bOQcG0huqjerEYl3ETH7QeutVl6f0LHMQ/Ju8myDWJMcOTvZqVKDAcnOuYoqOmTIsfqDNsUbUOQkEuFulTYmAy4NPnCJsfVr1f9mXwtIVRZ9bLZyvOLq2govSJQbgQaOk+azXBYUDOXbJo+k5s/ie/lxIkTiS3lYpP6Srh05fDDDw+rPNpL/Nprr206JBG5XaKd58nFyzUL9gIZrFeEp8lvOWTrTts4/+eW0u7du9e0k4Q7SfCkbHTwi7kWJvqhhWFtiAjEC954U1M/+1inTmFQkCemjMG9YY0hcNK0nDzikgaXkXsj+qWcGQYOXieIav2v8Dy3MMXg1byElC5gUWoo/tjyJDxvaZILqa3KXNmEEb9hA3Bv51cstkFPOnluxGIKaXRQc3JdyuwGaDh43nXXXfUXhWEydhrrGuIcuTei2eUSUkmAXsPOeh3ZAi63JIyKAU44ZTetLVoXsczDNwfJ4mCDqsyVevKg5ti6KMd1HZ/GzMHxg72IDzNov379uFyxKZiGIBeO9aqjooU3rRlWCG89WUIupcLYurS8sHtd/ea4XU24lkiisuQMnCM+8kYqpSKgCIQh8F9vxGb2pf/+zkTFf7jc04TD4DbIYQ7Z5bgTWe5CSNwW15JwzslxZf2nSWBH3DSLFXmrLCWpWz78z2NuQw6+Mb9Ym5Fr/Tge4tFDjBiRHSxeCfrgwNbm2xbWhnMNDon4xHFNKkZPMhXSU4LOuApWWEM8MtJjm+5fffXVpgZsuBYr8weByTEqjzBDYBF2qpBFjOvVh071hxGPGzeOn3CPMjwT/ZSUe5t1ayrlzBqIkBQOWonGrYduzTXX5BSEBA5NUXUi8CekNCPMABex3GzY+LSEFDlCBfEJ7q+v/xCaFgdG3qMYY4RellRI09KlzCxMfORWx97B1hfnd6Yt3PM322wzJ4Z0IvbKvWEtqZiQNgU8l5ENa5XX5VZTKCDA7YWLyCWUTef0CF2EMqGnmCyJGjF5bJwef7qIZngVOvzWuXGYhS7eA6TfAQFugQ9eqCjBoVAc6xWutGZYCar1NAm5lAr96dLiw57L6ter/kyylvCqsuTs7RUfeTOUUhFQBMIQiGNGJFMY1ZG7ENc8jETEseKnRkJDwloXWmghgnwbxgDWtICoELIrsktsGECNMYvcrm+++WaMkcNVkGgd85jlDvEX9o35g1DiGDXbInyCuGmuOGwYkd20ZqYrjFY44ODOiS2VxtBOTIoA2LRsEgI+ZLrPncumHvvG4mMdLZN8qHRliby+4IILaDaMx61BTdtfau6N6J1yZhAconvIHbbJJpsQCFwPGn5epHRgi9WUW5wIWkpIiZjDvIUXg8nzEHzYte699968IYNEvKyIVRVSITtxGMO0gkMi+TqXX3552JVb6Zl0+FdYQwyy7Lm3BYU0l5ENY4YMllsx+DBGkQhdRG1kT37hhRfIFcCxcYxVnz9dFFzF+VvX4TSA/ZTMEvwRA9tCcWz2OioGYvGKJORSr7q0+LDnsvotrP70qrLk7F1YfORdUEpFoNoINLeY1PffmBHxSSSzHm59GNSYvXhwyuMEg9wxJ510UjRqTFfnnXceFzpbV0Tj32dLcfcFKRrfe++9qqKPyxsZG4X5ZaoKQkH6hacuOS7hQFbh55xzTtNWVZt7lTMtA3D9N2MdvEeFYF7yWFkCVF+FdVRTQUhIQLqDAQMGUAmJt8xlR/Yhpw+n0GR+wEuRmSLGh6otpEJASHyOEVxIXFKy1hTSVhjZLBkyQhfRDAzx11xzDeeLBD9KMsPUtFx1EYAox/rm54RcSvNaU5cGx0VXvwYNVVm+pVXrVwQqg0AcMyIZ+k3/sfRxqwbRuEQ083CF8Q477MB7bDE4KkZgRCQgTihmD2kewtbIOWj/y4qNrPDkHasM0DUdIS6mPmtVfWe5uxl4iXquKg5F6Bd3uZqIZlZRkvsHq829ypmGJ4kGxVeagNAuXbqYNwgjt3wG439xxK6wjvIqm0wQOGJztzVe2Mcff3zwW5j1e/fuTQAdKXq5xkp+YVewkmoLqWRouHihZ8+eEsopU6ZwhhcvhYikfn80rSmk8pHV9YOE9yJ0EcUff/zxQw89lD+Is6m/UVBSv+oiOceWVxdJOMEfTXIubU1dqvuyhjypKsufqGrNikDFEIhjRjSpAMk2TUwu6wOLCHaxYcOGYQFkQnrmmWcikCL7O7cWEEhraZ5++uma25MxVrpmYCnR2BASHt1abshizTrbbLMtu+yy3OCMtw6pJ0vUQXlTMeGdGHhYR5JqM/gm6P8lr1ZIifPsmWeeCTG31mLXkJSqNvcqZxoeYF1OptfddtvNsgSmFrytg2qq2joqKAvpCikunGTt+eijjzAUEnVbo+cHDRrE6RRfx6aPeJIuwzyHHHKIaRL+ifw3+sbhagupRE01FWQq4eCEQEWubyZikVBNjOZ4gEoqLwhNawqpZGQrvH7ANkq8i10h3HjjjfjOBBcMt912m5w/o3UROQHJA8t98VRI5miri/iD3Na8nDRpknlpbt5o+KguknBs2XWRnOUaUtbMsEF+Nn9HLINT4dLW1KU1Y9GUUSusV4NQtLLKqplf6iXRaX5JqBa0uCJQfATimBHZeNAxEiCaP4IPLoQLLrggb/BMDOs8HiiEQtckeseMuOqqq9oizIs//PDDAgsskAqCuLekUk9mlbz22mtcKcC8fvDBB3PPwO67745DImmtTDh5ik8RkMEXgOzL9sFSQ7x8zZsUuxysCksELga82WeffbgvTPKVFufe1uFMcqVj5CJvg+UKdBT5fUj/at+QTCctHRXBexUT0g8++AAbIrt3DqLGjh3LpVU1fefqKvOGZGTGz908aELznjUu/424iKnFhVSix6AxllkOBS+99NJzzz2XVL8XXXTREUccISwuJPPKvSqkDUchMy3d8OteR5wvckodXB688cYbmPlq3giZs6ku+uyzz8ibbGpDTILqyGTu5lfzMmxtlr0uolW+h0AIr5wsG10U1p4iwFWzDA7ys/mbhXFY+5NzKTVnr0uLALucRaHMRq/mDksuKks+EL7xqZlf6iWRGUfeWqVUBCqPQBwzoskOgydOQ5dDc2gWkccddzNMkKQVs+CymMMzZZVVVrFvyEHG38m36DPPPDP1cFtLuQZyiSWWII7m2Wef7d+/P7HexJniKwfgaR2DGFgKggwXKRAoah/MCtxrEXyDM6aP4SOW+YQTTqBmcnSyfxZ+osW5t3U4E6W05JJLBrkCs35QR/ETdq7kOiqM8SoppDjvcCsXWyYuK+CKVSKa67vPhSrnN3qM1zAPhyv8HpGBt8WFVKjKULzk/cSpij8OP/xwlssMCneqprJMz4Z7VUgbjrVvLR2tsnwvt4h6ITLDrhDQAyQ1Di4YjjnmGIkISHQRDtENdREv11lnHb6y2GKLGYKaqcE2IHtdVJB1nWQILI1XXVTGGTbIz+bviGVwci4Fosx0aTZTgxP7CYl969WCbFezVFlC5A1ZNvjUzC/1kiicX5y6psSKQHkRiGNGJKwPXzn6jG2rpufsDMmOz8uga2ENDXdZ8IZwXfv+3nvv5b7m4JZyxIgRqGwTPZ3kMa5DXPqJo3KSejIuS2A4Fq5g902mfHswnrA91qNq4sSJCasqY3GOm/bcc09MtDR+v/32M9nThR1pce5tHc5koIM6CvYYM2YMsZ+WT4hxY4URL1uWhNmqJ6S4c6611lqEBZFT8sEHH1xttdUa4kC+C25nrn+QWUPPder8ut1224XB2OJCKuEuaJjEMcha4jZt2mDhJQ6AEFFhDRFk2XCvCmnDIfCtpcPGvUTLLaEumnXWWRvqIl6SbQYcyMxjCEwUTv2TvS6iDaVb13nVRdHsWka4anqUnEupMDNdms3UkHwKq6/Bt14tiP7MUmU5DVNB8HFqsxIrApVH4H+tJ2RE+jrw4NVMz3F/s+/YXVgsMPmdddZZ/Jdd9B577GFvXHnsscc4VOQ9kYBdu3YNw47AZ3568sknLQHZbfCAMMqLB1+VG264AftOcvTZtVIJG34OEKwlkVzyNDV55VnWYBw/a9JHxm4AS16z6sXBxzh+mofAHDb5savNq6AT9xIbghkCB09aSywzjEGvCVAKPtz/o9wrHM2qciZqityvFgTyMOAxTbZE+4YbovCC4UJhIVCuZBUTUoywxDIDIK4TxCNjoq0ROuB1hUiFNC3EqIcpGOsD3lU11vN4n8iGe1VIhaOTrpYO+2hZlltV1UXZCJ2Q5ZKQpauLwlpSGbiSQG3LZqZLqwR7unq1IPozyx26E+sWBB+nNiuxIlB9BJiweYz5L+LBM85Q2ocwKENPanYcCXkwL/JfTsZef/31GuLgf7FRMpGsueaapMDDdfG0005jN06pI488EgMfL4kl5CE4OqwS0tjh7RjxCfsT9iB7SkwqLqrlDLlt27a0E3tZwxpMqmwuYJXU70pz3XXXGdCc6seYSy9IhB+BiWkJt5qOHj1a0qoLL7zQtITrttk6MnzmqIc8jGHFt9566wMOOEBSeRIaLpOhbU41OHGv5PbSCRMmhDWgqtyrnFkz4pdddhnicPnll5N4C9cVkjAsssgiyCBZX1FTAwcO5Fful3di1JYVUvzBm164vPHGG0eDSQYoo7LI4hRNWXAhpfFedSn6HJRcdbVhaQ4Io7Et1BRTUiGNvcaIN7Ly9UPDoS/4couUqZxMyPVwKrqIz3EfEfKy/vrr+9ZFpV7XxeNYoS4KQ96rjootvHIWTZFSyKV8MbkuLS/sXle/Bdef9cyWfPnkxMClw8epd0qsCFQegf/1Rmx6J3J9UDBJ2UeOHMnWGm9E7jDlwYyInxd/EI8cYZGE7Oyzz2ZnzgqD6LahQ4fijUiCGyoko6K5toVry1LxiSDNASahbt26USeLaVLksog0160GHYuiTagp/orNzrU2dDounyQuueCCC1LBxDSA5QUpw0k2QYQvbkGM2vvvvw/+2HNdW5guPTn+MTE71enEvdYY4fQJS1xV7lXOrOGHXr16cVax1157IRGE33ICwdUfoITBnQOJfv36ocTwZo3HRcJSlRFSdK+57TSbp6pCKkQvhiw/8cQT+GUTRmBPB4XfiiDLgHtbTUhjjKyn9UPDcc9luQXTmhzHwqfCuqiA67oYHOtDF4XxRgY6SsiWuZNlqUuLBnsMLvWhV3PRn/WMl+XyyYntC4KPU5uVWBGoPgLJDaXY47D6cf8AdyvLa8PrkMjlhx9+GDOWKUXoMYdCmPmaViI/vrBV4f1HWu7x48cTt0UK8IhPFOqwEXB69+4NF7JQbgqL06m1qY29PYAbZCZPnmzHouG3vHrQSHpXHBrl3lbgTHyZ0WwoJe5Jt/LCm1GjRuFGHZsb5Yf2KqSxQaZgYYWUthVKl3KkxwEVlwVxfXZTwIvGvWUU0szWGK5auuHot85yqynzxyZIootaal3npIvChsOrjspMeGMzW+yCCXVp68DupFdLqj8Tqiw5E5YUH3kHlVIRqDYC/z8jUumeGHpH3sfirBLwAOXSUnPCLGy/60QurNaQFWrr69TyQhFXgHuVM5NwlAppEvSyKetVSAulS0lSjHct6ZBwSJdg2yLc67Wb2awxYmjptMyIEkYyNNlAIW9PMSm9cmNx1nWuuihssLzCpRzb4rC76lWva4kKcKPiU8xJR1ulCAgRkF5QW323zIL10NwEwo3Vhx12mM1jWLA2anNaEQHlzFYcde1zFRHgrgkyfpAsmLAAsn9WsYst2ifV0i068KXttuqi0g5dCzVc9WoLDbZ2VRFQBAQITI25UUBWLJL+/fsPHz588ODBplndu3dv06ZNwiZOmjTpjTfeoBJie7HcEQRt7qvK5SFkskePHmR1JHdknz59fvvtN9uMvn37dujQIaxVZAkkaxs53SDo2LHjcsstl7D9sAd3tpibu7kMh5pJ0ZiwzhYvXmruVc5Mzr0qpMkx9F2DDyEtmi7lborddtuNvBYkAJ1nnnmMkufp0qWL8YJv+LQI96beTcDMbI0RW0s3HHEfspAZFL4VRTb1p86N1dBFmemoLIU3G47y8ZXUubRosMfTq6o/o5lN8fEhjFqnIpAdAkKvxejaffcAACAASURBVEKRDRs2jERO9uH6keTN44ZKWyHXIpOHO3mdsWt44IEHwjiAJIYR1Xbu3Nn24tBDD43dAFuQbCnc4GzrPPHEE5PX2eI1lJp7lTOTc68KaXIMfdfgQ0iLpkvXW2+9hrPMBhtsoFNM6kIKpJmtMWJr6Ybj7kMWMoPCt6LIpv7UubEauigM/NThylJ4s+EoH1+pPOzx9Krqz2hmU3x8CKPWqQhkhkApvRGzM7LqlxQBRUARUAQUAUVAEVAEFAFFQBFQBBQBRUARUAQUAUVgqqk0N6JygSKgCCgCioAioAgoAoqAIqAIKAKKgCKgCCgCioAioAg0QUDNiMoiioAioAgoAoqAIqAIKAKKgCKgCCgCioAioAgoAoqAIqBmROUBRUARUAQUAUVAEVAEFAFFQBFQBBQBRUARUAQUAUVAEUiGgHojJsNPSysCioAioAgoAoqAIqAIKAKKgCKgCCgCioAioAgoAi2AgJoRW2CQtYuKgCKgCCgCioAioAgoAoqAIqAIKAKKgCKgCCgCikAyBNSMmAw/La0IKAKKgCKgCCgCioAioAgoAoqAIqAIKAKKgCKgCLQAAmpGbIFB1i4qAoqAIqAIKAKKgCKgCCgCioAioAgoAoqAIqAIKALJEFAzYjL8tLQioAgoAoqAIqAIKAKKgCKgCCgCioAioAgoAoqAItACCKgZsQUGWbuoCCgCioAioAgoAoqAIqAIKAKKgCKgCCgCioAioAgkQ0DNiMnw09KKgCKgCCgCioAioAgoAoqAIqAIKAKKgCKgCCgCikALIKBmxBYYZO2iIqAIKAKKgCKgCCgCioAioAgoAoqAIqAIKAKKgCKQDAE1IybDz6X0559//sILL3zzzTcuhZRWEVAEFAFFQBFQBBQBRUARUATSQWDKlCmvvPLKr7/+mk51WosikAcCuq/MA3X9piKQFIHKSK6aEWtZ4ffffz/++OMPOOCAO+64Iymb/E/5P//8c/DgwQsttNDcc8+9wgorzD777N27d580aVIqlWdZyfjx44Hl8MMP/+GHH7L8blm+pfhkNlIKtYVaoYjmOsXHVSpTnwFdG5AjfSv3XQK74iNByYlGIY2Gywc+Q4YM6dSp07zzzrvMMsvMNNNM+++//08//eQ0ahUgbpGZ0Qf/5DL6N9xwwy233GI/LdlXjhs3btiwYf5a2yIs5A/A+poV0uptbYomuemrxH/rE0AA1dyzZ0/Dx9NNN93o0aOTw3PeeedRW7du3VDoI0aM2HHHHfnvIoss8scffySvPLMannzyyZlnntkgs+GGG/7yyy+ZfboUH1J8MhsmhdpCrVBEc53i4yqVPmZA1zbkRd/KfZdgrvhIUHKiUUij4fKBz3777ccidqONNrr00kvPPffcrl278t8+ffo4DVzZiVtkZvTBP7kMPWZu9owff/yx/bpkX/njjz927tz5iy++8NHmFmEhH9CF1amQVm9rUzTJ9aESp8pSSIr/rX333ZclxU477fTss8/ON998bdu2ffTRRxM2G9Mvjo3BSlZZZRW+MnHixIQ1Z1b85Zdfbt++fbt27R5++OEDDzyQxm+77bblMoN6xUrx8QpvsHKF2qKhUERzneITQyp9zIAxmpFLkVbuuwRwxUeCkhONQhoNlw98WNsTHmS/+/PPP7OynWWWWf766y+nsSsvcevMjD74J5dxHzBgwO677x78tHBfefrppx922GGpt7l1WCh16MIqVEgrubUpmuT6UIlqRvyvUB999NEYyIjbNeuJt99+m5McVhjPP/98uqoEG9z000//2Wefyav97bffjjvuOIIvRo0aJS+VCiU4dOjQgQAQEjuaCk899VSAYlbzvfB66KGH6DKz4Pfff59KX3xUkiM+PrpT5DpzhLporKhQRDNqjvgklKAcVX1mM2BCiHwUz6vvOQ63E4x54ePUyHIR5wWpslwNn2y55ZYsaMlaniX/5LWiKO/M6Do6lZEvOBM3DsxM0Qg03Fd+/fXXZNP64IMPXNGLoG8dFkoRtMKuV/NSRGGA5MhdqUNRNMn1pBLLakZMfSX01VdfzTXXXCeddFKQuT/99FOyGfbt2zcVbYI36eTJk8ktyJJl1113ldfpww1V/nWOsxZddFFaHixCgPass8767rvvyutxpUzXwZvxxW4L2wSb0fClazvzwse1nf7oJcq31FBnwIquo5MX16ULBbkRkEpWuiqVBoEcVX0GM2AEkwsn9Ho10pCFXKUpr76nPtwVw8d1HP3RC/lT3gBluWisMsOHs/AFFlhgscUWk49dcsp0p1Gn9uS1cjCNlMiRqvSaAb3qqqvWXHPNsFFuuq/cc889cYlyYpJo4nxZKMWOxKtKwsOuNecFabqKSHd5RZZcf1NqPmZEZu4333wzthEq9cW3GfuGLm+EPKQSvXvzzTf/7W9/M7kFURl0Qa5ofLihyr8OJXeq1NN79RBM18H7/fffJ9NlmzZt3nrrLduRhi+dYLHE2eMTr501pYwY8tRYV50ql8xDpYY6A1Z0AjxHrksXCjpi0lTtvffeKpUGgXxVvdcZMILJhRN6QzVSz0LxpCmXvqc73NXDJ95Q1pT69ttvCaTgVsTYtQn507V+ZbloxLLBZ+DAgcxBZ511luvwxaZPfRp1bUle61WhHKlKrxnQbbbZ5pxzzmk4ypJ95Z133rnWWmu5Mkk0fV4slLAXX3755UsvvUS6utj1CHk4Rv3ZQ5quItJdXv2gF01yPU2pU9PzJPcQYWJ74oknLr/88gceeICqMElgrImoEOJjjjmGtIDfffcdZFxbTIbjU045hcMWeTOYZi655BIyGB5xxBGbb745y8SxY8eiKCNqIJUyuSQMwXLLLbfZZpuFEbOqwLxCBsDojqBNjGY39ay66qpcPBLRACT22muv/eijj+655x48XY866qj+/ftLugxcLHEItT7//POnnnrqd955Z+ONNyZpLi5gyy+/vKSGCBpsQAycJeAr+Bg2pH/qqafuv//+1VdffYMNNoj+KPkTH3vsMUtDSPIMM8zg1E76uPbaazMKY8aMYbAoe9ppp5144omEUQ8fPhwQnGqDmDYMGjTozDPPND695mn4sqbmYuLj2v0aeoAlufiNN9743HPPGTGcZpppYGB4Eq3nVPkrr7yy7rrrUiHZP7lFDhYlsCK4spFDLZfQ6rFiKbgudanED7Fjx45kjXjttdf4V84qlZRKuu9V1cvly9MMGKFYhBN6vcZuyEL1Hypm31Mf7orh4zQT1RMTG8XC8vHHHzeBFBCgZFhCsGgkSYtT5UL+DNapLBfU6oUVSfYj66233tJLL82iYtppp3XiinjEqU+jwWb4mBlddzoJ9byq9HoAl1pqqSuvvHK11Var/0myr+RiFrZR7BklHOuDhZJvCSUtj6CZNGkS/pgTJkx44403mAvYQuJ9fMIJJ+yyyy6u28kYc0ExIU1dEZV3Q506FJYVs5TcPJccMazmtsimm24644wzBqU3wsyPrQHDmZ2qsVwE/+YnYUviRXfjjEZ48t//52GbFPYtTI1GrdTE8NbT48DVo0cPU+Ecc8yBAU7Y/l9//dVc1nzdddc1LeLPDdV8+owzzuD+ZdMLnilTpoQ1CZ1Lm3v16tW0zXjgm9qwOVIkhhdAug7eYEgfGX0G1za+4cv6rhUTn6ZDEEHw6quvrrHGGlZmZ5pppuA8evLJJ8srF+awEEItlFCaVzFWLAvXpSuV9Jpkr/DhrbfeqlIJAr5VvVC+MpgBaxheOKE3VCP1LNRQfRWw76kPd8XwkU9D9ZQsNTl5tUtTJjgWAHbKI4LVKVOYkD9rmqEsFz2CRcDn6aefnm222eCH9957Lwm/OZVNfRoNft3HejX2TieenleVXs9OnH98+OGH0WwWsa/E14fttjCozgcLJd8SOolYDTFuDVygZPQ/dxIg8nYu2GeffZxqjjcXFBPSdBWRcJfXClAEOSpLyc1xSk0U1IwvYc0JQIQZEV88Q4yBFg84PHhJgcFZMU58LPKeeeYZiTzHXnwD8ejRo5t+gmSIppFNzYjBqrbeemu5GZGCL774Ip/YbbfdmrYHAk9uqObTSDVuaJJmmEADiRnR1sbVNPHMiNSQooM36pJwcq7nC3az4ct6HAqLj2TIGtLg4AkazKZYDF9//XV2XBz/XnPNNYsvvrjhfHuRTtNPCOchIdRCCaVVFWPFEnFdilKJWmP6QHOqVFoEvKp6oXxlMwPaLssn9Ho10pCFGmqtYvY93eGuHj5NJ6AwAvyncDFjLiPS5d577yVahTcsNQ8++GAzx+F0L6xczp81FSrLRSOcOz64CDEBzTnnnERUCJkhLbIUp9GaJnldr/It152Oq55Xld6Qx1ic1+xfGpKF7SuJgYPVhdzrlYWSbAmF7a8hQ+0bnY/zBBaAH3/8EQKcE7t162beEx0orDn2XFBYSFNURMJdXitAEWSnLCU3xyl1mho7oNN/cZPmiIPnoosuii7IiZbxIVp//fU5AyQwFjcoYl1xWBs3bhyexiz4JJ9GG+IDhQUkSDzPPPOgLAYPHiypIZpG6Pjt9CGiRwkHDhZhSuC/888/v6Se4EG6oSe/A67sVIIBSFJDKjQ+kIloGOwR/BUfGQy7TEKs+eA3eY8wVQ8dOhR365VWWsmWavhSXmdDyozxid1aIuJNODO3CS2xxBJ4anCzENZhjuxMnePHjxdWzrkxC5dOnToF6fv06cOqhWBV87ICUHtlRSHUYWQZc11aUNCdyy67DBP2hRdeqFJpESiCqs+Yo4QTekM1Us9C5ZKmFIe7kvjEHk1cb2677TYWpZiKNtlkE/K08IalJktE7CBUS5Ada31J/UL+lFRVhGWDspwZBQ5TsSO0bdsWTsCtIfbwxSuY4jQarwGUKqaeV5XecEDZvLBir/lJvq/EMyC4/YnNMzUFM2aheM1G7ZPMihxl7GuIkEPkqYeI5ttvv33eeeflb9IxCWv2PRdkL5VpKSLd5YWxUAEl14vYCi3x0WSkWjM4hnkjXnDBBYZAcqgS8S0OljGiNSQgc2pEwWhLLakSO3fujF3POjzjBc3fwYfUb2H1R5zRYfNCZ2Gs2X777ckch/LipmayLrKeI7xUAj56kGaQbRBi8iGSis6yLNWSNFBSSRhN9OHA3XffveSSSy688MIYak0EOjDWwIL9N6zy2EdPI0eO5CtbbLEFNXPFTb9+/YJ+rxwgk1xS2Gu2EyuuuGINWzZ82bDCYuIj7LsTGQdThq8w9wsLklGiIeUnn3xiI9nlUEdLaFVZsURcl6JU0muS4ZJRN9h9OatUVSq9qvq8ZsBoZSKc0BvyRj0LhX2rmH1PcbgriY9wGnIiY/XFHIc/PjGAkoJC/qyvSlkuGt4c8SGbEF+HDfbaay+OQklRap6rr75awhIJadKdRmsa43Vm5FuxvRGFcqQqvSF3nX322X379g3+5LSvJMMDec+FfOuVhWJvCYWNdyLjcgWUgPzyGSEP17ehmJCmqIjKvnRPEYqa0c9ScnOcUhMFNVvImpoRt9tuOySWZIJOcl5PjDGue/fu9e+Jksa3MSINXzTE2BCbnkhEpDKMnlyxeRGGSQYW+wn2D8YsKHmwQpozk7vuuqv+rpIRI0ZIKgmjiVZwNg49AhyaF1Z57DkDqPkihnzMfwx3zdcXXXTRJF12KltMfGwXvv76a04pnXoURsydRQZnVKqkQm5JIjK6IRtj6Wa3JqkkSBMtoS3FisXkOpVKIUvHlkqvqj7HGTACt9gTunAsDFkx++51uCuAj+0CPu8xMizXI8A+EAd85jgSJQvxic2fynLRCOeIjwl4r3+IkRJyRRIyr9Oo15UDvY5tRowtR2FQ58g/EaPvSaUTzbbKKqvUfFe+r2T3fdNNNwmZ1isLxd4SChvvRGbuRN1qq62EpWLzcDEh9aqI1OBgEMhScnNUiYmCmpua3izBW2+9xd/mqiny1GD7wGyBajOJ2IT1cFpIPn78k+vpOcXCqEEmV2FVNWSPPvooKWx5+IT5CfuIeWMf10ts7SdwrCO+hqzexCBjfCHDAiHYTjdTUxVmFO7ABbr9998fXYwXMV6ZWHwirpyOB0WwFF+03Tc3JgffmJ8eeeSR5B9qWANObVtuueV9993HPXp0n6RdeBAQzW0NXp6+K682X3xoJ3k9CFKWN7ghJfnF8UAkuSe/MrOCedMKcRHljjNYInhbiy3FzUvcK8dgNa1HTpAv1IViRYUimm3yxSe5VOai6r3OgGHj5W9ClysWKHPpu21hLsNdInxoKvs3m3PDqeWWGOedUaNGMbuRPwdXxPPOO09Sjz/+VJaLxt8rPsT0NNzl4osg4YpUaHJZUeQ1M/qTo7Cx8Mo/TRkgdZWO4ZsjEJMLyz7CfSV7NHI7bL755k2bLSHIi4UkbXOiYQvDHp8ia6+9tqSgPx7OF9JcFFEY4NWDojiS61clCi3x0WRNvRFJTwPr4DrHpdTmb/twzCK5XwU12r59ezLdhLWE6485dYl3eGVL4fFnGub1ihUnzM0BFw9x0OQLdyrblFie8XTllVemDdlcsWLOSczDYZFJi5vLU0x8LBTXX389mQ3jIYP9d9lll6W4uakZ4Ro0aJAw1ItQekpNmDCh4adfe+01KoxOMlBfUJggloKVZ8Vicp1KpVDQYkulV1UvlK/MZsCEE7pwLAxZ0fpuWuV1uCuAj+0CecpJourUI0vcu3fvRRZZxN7azBGXcGJKyJ/KctHjVUx84vGYUymv06jXlQPdjOGNmFCOyrWh86fSYRt2uE6cZojJC8+pibygVxYqjjciSQzYpKCFOFhqCk5CHi4mpF4VURikLQhFZpKb45SahTcifnPfffcdQosn3RFHHMEfRDcT9ojfE6mvuXGFwFWM4tFnAkOGDKGS4D0qhLrg121LkSkZvyrJwUJJaUg/jBW1aeM5eMdlz1642ZS+yAT4u+GyatLiRjxV6nJmw4GDMBsqEyzGR+ebbz5wNhkwox/EkHXJzjvvbF0REXCuvrGl2PXh8VExYVRWtOOrUDQTkaS/C1X9lClTkLt03X6TNl1cXid0C1UrDLeYL1Im5LSMHL74nlAvq82FFlrI5MVr+lSbP5XlmjKAb4IWmUarLUdhTJK6fPXs2ZPjeVSZE1uyQeZckJxaTqUqT8x1KwMGDKCbRx99NLuVpv2tNg+3iCJqOsoQ+ICiFSQ3CzMi3mRmCLnGAecyvKy5MAG3RMJM8Csm3x/JpEh1HDHMBPNy3y5WyC5duhgyLEdkGAyGIcw999zYRCS8UkYanNJhx+iWv/vuu9hn8XXHywyrEPqx5obo0nX8iiuuqE8HGexF9bqc2RgRDj927FjiL0499dRlllkGe8S+++5LWkN710pYS0gdQEy9mYbNQ5i5SVdsHnZrXINTMWFUVrTjq1B4FVKJqmddyw3pXDWI5HLdHjMjaWS9tirdynVCt3i2wnCnyzxOtXEzHvfaMUNx7sXVdsTNkBgRf+HoSqrNn8pyTizkibgVptFqy1EYY/iQLxbVMMzvv//uxI3srLnIzvpiO5WtKjGmWDIy/fXXXyTLOv7445t2s/I83AqKqOkoGwIfULSC5GZhRuQGZBIXMkjkX2NJxyXIdlAxBWK84L+kb4gYaZIJck31brvtZmmwenDCbMIbzYOx0nylkk/Hjh2j+8VRFXeSANTBBx/MKnn33XfHIRGj7dtvv11eQKJ7XckuRw8W1vOTTjrpxP88N954I76B9r/8wZ1ZwuHG0ocXMBMqiRFxS8T1GhdCzPrwT3QN3PZDQYTakuFQHJTESgqjsqIdboWiRkBSlEpqbqrq+/Tpc8ghh3DTFDYRTuMwi5B717j5l+XRCV0oTZBVYLhd2XLcuHHBSQ2vW46cg2+CYSjRlTMxEYm5zz77MMF99NFHeNBzBsYVvZMmTWrZBWcraBhXlpPQ17BlkCHN33K2bKrnq7G4bU0970m+unbtKnGdC3Iy+RzWWWcdCW8XlqZmcVUvdPItD30kRoqblJgIOnTogJ+mxGJQeR7W9bxwMRZbJ1decrMwI2KeWHjhhRmqBRdc0CRiCz4rrrgi/2VVh9U/TJeRFBmxN5TmwXIxzzzzEKJi3xAWHbwNOaFaNJGeJXq4gvDQQw8lC2///v1xDcOsfuyxx2JadVKyTftbKFiy6XJTTIIEvvFBRkiVah/yenA+WfPGqcGWGGcNNlf8F/cNTurCKuEnwsRqLvZBGFdddVVb5Pvvv8elMUVhbNgY31A7wZgvKyoU0YPlGx9/UtmwX3vvvTfJPbh7ij/IDYL4t2vXDrfidLuZbm01Hcl+QncSZ699d2oJxNkMt1OrfOODw0hwUuPAmBQcNW+cGmyIEROzHKJCDsMiasieP31D6gRXC7KcBJ8atgwypPnbxM6n8mSzovDNddnLURj4vnvqNOgFlC+n9ue45akXOjZBwsZzzSk2RCyJs88+O5FYxijR9MmehwvFq9koolKIbb5QNGVUV4IU2SwLMyLd69y5M/8ikPVdxe+al4TiYm0MAwL5X3LJJYO/ckTA3SzBN1z6nNxywTUmpk7uU3YdlXzpcZ3FrQwXFdsMk0jx448/TqVhBplCweK7y064ZYMPId4EqhPLbx48E+eYYw77X/4wmYPjPeaoEyNgRDwyjiG//fYbeUjtJ5BNDveCwkjSUn5NLoxhvcgGaicM82JFhSJ6mLLBx6tU1ncQr/OgyzChmuQiQGxNAuKETzYzYGYTuhMa2fTdqUkQex1up8Zkhg/b7OCkxn6PiwKCb8jZ4tRyS0weABMNg10yoobM+DMzSJ3gakGWk+BTw5ZBhjR/x2bL+q/7XlFkMzNmJkfRa8Wi7VyKI18Sts93HV6zuKoXOuGWB0cllkmcBHCYdM899xDRLOx7ljycjVQKO27IfCuifLmrFFA4NbIpsY8lR0ZmRBO5zEXDDz/8cLCfODfdfPPNvKmxCdZgwR0O2BmDL8eMGUNaKPuGfIvoFzIDNgUxmsC6N06cODFhVbkX5/5r2lATbRq7VQYZol9xMo9die+C6XbZqbWlwIceEZiDm2r9tQwcTYwePRoClsL4+Yb1HUnkp6AwItS4GAdnZS5k59wmaNF2QrIpcSmgzoYVFQqJPi+41mrK8NEESC6zFXdE1kyR8arNZgbMbEJ3AiGbvjs1qZ443eF2akwp8KFHeAcTCf7UU0/V9471JwZ33gdDW+rJMuPPUkCqLOckJp6I011RZLNyyEyOwjBX+fLEjVSbDQul0n7ipdZaay0y6XODwoMPPrjaaqvJq82Sh0sBabqKKFpyC750zwYKOa9KKH2oxJhmRBYWeBHax16igreafRm0N3EpM2JMJ7knxN6LQghA3759n3jiCd6bgMqwhzxuwUUhYZU4QJEt0dJz4QNuWdtuu60Exwgawq55IDjzzDONU5V5yDCIDkpYeZbFydJy2mmncfZeE38auw1m+DDXcvhjRxZrFNn0YteZbsHUu+zUvOLjQ3cQTwLe4W2s9kR1WQniwK13797mQh7yQ0dLIr8GM5mSnxFtYMyLPBz33XDDDV7vhis+1JmxokIRLaTFx8dJyTQkHjRoEGp5zz33TF4VNWQzA2Y2oTthkk3fnZpUT5zucDs1phT40KMzzjjj4osvRvY5MCNIxWTL4cSafB3bb789f+PhstFGG0VPc7rgtPgoyzmJiQ/i1FcU2cyMuev5UqisHOUrCa9mw0JJWmjK4nJELDObnbnmmgunJU5b3/y/D8aEIswFtKH4kKauiMKQVyiSc37DGryoREwAMZ5owTOtxykpWDN2ZZuMgMyvJIYnQ4GhxFcxug2XXXYZZNw5RSY4DhaIqaQGbGSvvvoqlqyBAwfyK5fxRVQy3XTT4Wwl6emFF15oWkWQNS4euFkZ8y2XloQVJ4c3t8dIKo9BQxv4ulP9rJu32WYbSt16663RX2TBTVY7SatITG4MrDwMHDHm3Afdtm1b/ouBtWENzz//PL8SISupP0hDNnTzIXlZeZedGlNMfGwXuEuHqVHeI7ZS3PEavLgNOUIqcVw3gOO7ypFARIXUABusueaaBIV9++23mKox388666xHHnkkkshLGIOHyUbeKkMpl9DKs2IxuU6lUsjSrlJpq42h6knuQZpwXKuYGaObJ5evDGbA5BO6cCxcdUsGfc9muCuAj+0C2TYYF3mPmIbWXnttM6PxcJU5qzgmKfNffOfN0VfEk5w/CyVuynJy5vFN6XUa9bpyABnXnU5yOQobDpUvT4zqlYVibwljdxazA6xi54KGf2y88cZe54JiQupVEYXhqVDE5uSmBXNUiTG9EZtKJuJaE/1KDPJzzz2HNyJWDFyWUCj4LRI+edVVV3F0HC3nvXr1wtqFxyJrQRySsVNQFWY+VoeYtPr163f22WdzGV90JcJf999/f27AJIAcyxSHFlwJ/f7777dv394uQ4X1pEUWkTKy4Scw9HClNTdikypxu+22S6sZHOBPmDChW7duVMjAcWkRCtpclh10C03lcwXpslNfssTHNgzzAaMsbyc7qIMOOgjZ4UIVbBb8F0nECgzPcG7M5Tx4ChvTcNhDEWQNUz7FCRAYOnQoWzJSNHJjLDLSqVMnChI3nUp8ZVgbsoS64KyoUEQzf5b4xJZKW9CV2Qip2HTTTRHDkSNHTjvttHI9EE2ZwQyY5YTuBEsGfS/acBcWH9swbiHn4EreTvJpjB8/Hh8fkmGRCZGDMVZxJnMoCaNJ0r/jjju25oKzIBpGPpRQZimSTg2LR+w6BKVezxdBz2fJP66D62kGj8eZrqVyWVy5NpK9KiesrqWC9FnycJaQuvKqJ0Wku7wkzBmvbPoqsamNM3UCzItYoMhyiglDXjkuSJgnsKB/+umnphTagTejRo3CK6ppPXJLra2cRhLmyXp08uTJmBQjPuF6Rte0tbEJwHbXXXc1ay9JJfLDP1HpFQAAA55JREFUAVsbHoIGFhJyESQb8ZVsjp5cuyyBxdJUAJ+I/iI43HqE6ZDLy6I5vKYS3D2IXCbPlC1FWCWyicg4wRskdpVQylaVFSvAdSqVsQVBWJDEAhyhYf3HRCIp4ipfTK9eZ8CEE7qky5amaH13arwhdh1up09UAJ+w/rL54SrPu+++m8MzLIlyWBLyZwUgVZaTc4snStdp1OvKgT7G2OkklKMwYFW+PLGcVxbKZkuYOjIJebgCkLoqorAhUChSZ84irHKn8terQtXsOus4NT7G5OpUv5D4p59+2mKLLbAhcq2hsEgMqRbWDFkGc0aMLsvbD2XZ8XHqbL7EXiW0XKxYdq5TqfQtStxrRKjm/PPPT1oP4be8yldBZsC09pxCSA1ZBn2PMdxOXWhl3nACSk5cdkiV5eRj7YkyxjTqdeWQja4TgqnyJQTKlcwrC2WwDnftbwb0ZYc0hiIKQ1Wh8MdvOarEmEHN8XwptZQ/BPAsI2v4nXfeSYwbgTwkF7fPxx9/7O+7Odbcgl3OEW39dAQCyooWHIXCt6SQe5HjIkI1//73v+MCbPU8yYh9f1rrzx4BHe7sMW/xLyrL5c4AOo3mPgT+GqDy5Q9brTldBFQR6damKUdNjXG0KVEFCMhDTwpFEizSl44dOy633HIJOwVu3NlCyAz1cNEENV9wwQUJ60xSnGvsTeLC+ocAZJIENfyJdHjDhw8fPHiw+bV79+5t2rRJ0gzKTpo0iTAi/iAYHL9IIk+JvEtYZ8Pi8brs1JJS4+PU09yJU5fQ8rJiqblOpdK3KK2//vqo9PqvcB0hCQrCvp66fBVtBoyAvdR9jzfcTkxYanycepoZcakhVZbLjE/CPhRvGvWxciimnlf58sSiPlgosy2hJ0wSVltqSOMpojDEFIqEvFTMVW6rmBG5EYIEB2YMdthhh/POOy/hcHIvLRcIGjMizx577HHKKackrDP74hdddBGCbb/LvZ8LLLBAwmYMGDDAWlS5kePFF19s165dwjrzKq74ZIZ86hJKy0vKisp10Vyn+MSQytTlq0QzYCv3XcIqio8EJScahTQaLsXHiZ2ExD5mxmLqeeUfIUu4kvlgoZKuw12hC6NXSC0yCkVaTFVfT44qsVXMiP4GT2tWBBQBRUARUAQUAUVAEVAEFAFFQBFQBBQBRUARUAQqj4DmRqz8EGsHFQFFQBFQBBQBRUARUAQUAUVAEVAEFAFFQBFQBBSBpAj8P/SQ6/S2VttKAAAAAElFTkSuQmCC\"></div>"
      ],
      "text/plain": [
       "   ^ ^ 5 ^  ^ 2      ^ ^  ^  ^ 2  ^   ^ 2      ^ ^ 2 ^  ^   ^   ^   ^    ^\n",
       "16 ω[t]  r [t]  + 12 ω[t] r [t]  (ω)'[t]  + 24 ω[t]  r [t] (ω)'[t] (r )'[t] + \n",
       "          2                2                          2              2\n",
       " \n",
       "       ^ ^ 3  ^    ^ 2     ^ ^ 2 ^  ^ 2  ^    ^       ^ ^ 3 ^  ^   ^     ^\n",
       ">   24 ω[t]  (r )'[t]  - 4 ω[t]  r [t]  (ω)''[t] - 16 ω[t]  r [t] (r )''[t] + \n",
       "               2                  2                          2      2\n",
       " \n",
       "       ^   ^   ^    ^   ^     ^    ^  ^   ^    ^   ^     ^      ^ ^   ^     ^ 2\n",
       ">   3 (ω)'[t] (r )'[t] (r )''[t] + r [t] (ω)''[t] (r )''[t] + 3 ω[t] (r )''[t]  - \n",
       "                2        2          2               2                  2\n",
       " \n",
       "    ^  ^   ^   ^   ^  (3) ^      ^ ^   ^    ^   ^  (3) ^\n",
       ">   r [t] (ω)'[t] (r )   [t] - 2 ω[t] (r )'[t] (r )   [t]\n",
       "     2              2                   2        2"
      ]
     },
     "execution_count": 1338,
     "metadata": {
      "text/html": [],
      "text/plain": []
     },
     "output_type": "execute_result"
    }
   ],
   "source": [
    "fh2 = Array[If[#1 <= #2,\n",
    "                    Superscript[Subscript[OverHat[f], {x, y}[[#1]], {x, y}[[#2]]], \"(2)\"],\n",
    "                    Superscript[Subscript[OverHat[f], {x, y}[[#2]], {x, y}[[#1]]], \"(2)\"]] &, {2, 2}];\n",
    "fh2 // MatrixForm;\n",
    "fh3 = Array[If[#1 <= #2,\n",
    "                    Superscript[Subscript[OverHat[f], {x, y}[[#1]], {x, y}[[#2]]], \"(3)\"],\n",
    "                    Superscript[Subscript[OverHat[f], {x, y}[[#2]], {x, y}[[#1]]], \"(3)\"]] &, {2, 2}];\n",
    "fh3 // MatrixForm;\n",
    "\n",
    "fh2 = Simplify[D[fh1, {OverHat[t], 2}], Trig -> True];\n",
    "fh3 = Simplify[D[fh1, {OverHat[t], 3}], Trig -> True];\n",
    "\n",
    "Expand[Simplify[EinsteinSummation[{{i, j}, {i, l}, {l, j}}, {LeviCivitaTensor[2], fh2, fh3}] /. OmegaReplace, Trig -> True]]"
   ]
  },
  {
   "cell_type": "markdown",
   "metadata": {},
   "source": [
    "# Интегрирование по частям\n",
    "[Integrate By Parts](https://resources.wolframcloud.com/FunctionRepository/resources/IntegrateByParts/)\n",
    "Contributed by: Wolfram|Alpha Math Team"
   ]
  },
  {
   "cell_type": "code",
   "execution_count": null,
   "metadata": {
    "vscode": {
     "languageId": "wolfram"
    }
   },
   "outputs": [],
   "source": [
    "IntegrateByParts // ClearAll;\n",
    "IntegrateByParts[ args___ ] :=\n",
    "    Module[ { res },\n",
    "        update[ ];\n",
    "        res = Symbol[ \"ResourceFunctionHelpers`IntegrateByParts\" ][ args ];\n",
    "        res /; Head @ res =!= Symbol[ \"ResourceFunctionHelpers`IntegrateByParts\" ]\n",
    "    ];"
   ]
  },
  {
   "cell_type": "code",
   "execution_count": null,
   "metadata": {
    "vscode": {
     "languageId": "wolfram"
    }
   },
   "outputs": [],
   "source": [
    "update // ClearAll;\n",
    "update[ ] /; $VersionNumber <= 12 :=\n",
    "    Once[\n",
    "\n",
    "        If[ MemberQ[ PacletSites[ ], $publicPacletSite ],\n",
    "            PacletManager`PacletUpdate[\n",
    "                \"ResourceFunctionHelpers\",\n",
    "                \"Site\"        -> \"http://pacletserver.wolfram.com\",\n",
    "                \"UpdateSites\" -> True\n",
    "            ]\n",
    "        ];\n",
    "\n",
    "        Quiet @ Block[ { $ContextPath }, Get[ \"ResourceFunctionHelpers`\" ] ]\n",
    "    ];"
   ]
  },
  {
   "cell_type": "code",
   "execution_count": null,
   "metadata": {
    "vscode": {
     "languageId": "wolfram"
    }
   },
   "outputs": [],
   "source": [
    "update // ClearAll;\n",
    "update[ ] /; $VersionNumber <= 12 :=\n",
    "    Once[\n",
    "\n",
    "        If[ MemberQ[ PacletSites[ ], $publicPacletSite ],\n",
    "            PacletManager`PacletUpdate[\n",
    "                \"ResourceFunctionHelpers\",\n",
    "                \"Site\"        -> \"http://pacletserver.wolfram.com\",\n",
    "                \"UpdateSites\" -> True\n",
    "            ]\n",
    "        ];\n",
    "\n",
    "        Quiet @ Block[ { $ContextPath }, Get[ \"ResourceFunctionHelpers`\" ] ]\n",
    "    ];"
   ]
  },
  {
   "cell_type": "markdown",
   "metadata": {},
   "source": [
    "$$\n",
    "  I_4(u) = \\int_{r_1}^\\infty \\frac{24r^2u^6 + 48u^6r + 120r^{3/2}u^4 - 96u^6 + 96u^4\\sqrt{r} - u^2r^2 + 133u^2r - 2r^{3/2}}{r^4\\sqrt{u^2r + 2\\sqrt{r} - u^2}} \\, dr,\n",
    "$$\n",
    "где при $r \\ge r_1$ выражение $u^2r + 2\\sqrt{r} - u^2 \\ge 0$.\n",
    "\n",
    "Всюду предполагается $u \\gt 0$."
   ]
  },
  {
   "cell_type": "markdown",
   "metadata": {},
   "source": [
    "## Интегрант $f_4(u, r)$:"
   ]
  },
  {
   "cell_type": "markdown",
   "metadata": {},
   "source": [
    "$$\n",
    "  f_4(u, r) = \\frac{24r^2u^6 + 48u^6r + 120r^{3/2}u^4 - 96u^6 + 96u^4\\sqrt{r} - u^2r^2 + 133u^2r - 2r^{3/2}}{r^4\\sqrt{u^2r + 2\\sqrt{r} - u^2}}\n",
    "$$"
   ]
  },
  {
   "cell_type": "code",
   "execution_count": null,
   "metadata": {
    "vscode": {
     "languageId": "wolfram"
    }
   },
   "outputs": [],
   "source": [
    "integrand4[u_, r_] = (24*r^2*u^6 + 48*u^6*r + 120*r^(3/2)*u^4 - 96*u^6 + 96*u^4*Sqrt[r] - u^2*r^2 + 133*u^2*r - 2*r^(3/2)) /\n",
    "  (r^4*Sqrt[u^2*r + 2*Sqrt[r] - u^2]);"
   ]
  },
  {
   "cell_type": "markdown",
   "metadata": {},
   "source": [
    "Значение интегранта при любом $u$ на бесконечно больших $r$ равно 0:"
   ]
  },
  {
   "cell_type": "code",
   "execution_count": null,
   "metadata": {
    "vscode": {
     "languageId": "wolfram"
    }
   },
   "outputs": [],
   "source": [
    "Limit[integrand4[u, r], r -> Infinity]"
   ]
  },
  {
   "cell_type": "markdown",
   "metadata": {},
   "source": [
    "### Выражение для левой границы $r_1$"
   ]
  },
  {
   "cell_type": "code",
   "execution_count": null,
   "metadata": {
    "vscode": {
     "languageId": "wolfram"
    }
   },
   "outputs": [],
   "source": [
    "eqr1[u_, r_] = u^2*r + 2*Sqrt[r] - u^2;\n",
    "sol = Assuming[{u ∈ Reals, r ∈ Reals, r > 0}, Solve[eqr1[u, r] == 0, r]];\n",
    "r1[u_] = Simplify[r/.sol[[1]]]"
   ]
  },
  {
   "cell_type": "markdown",
   "metadata": {},
   "source": [
    "$r_1$ обращается в 0 при $u \\rightarrow 0$:"
   ]
  },
  {
   "cell_type": "code",
   "execution_count": null,
   "metadata": {
    "vscode": {
     "languageId": "wolfram"
    }
   },
   "outputs": [],
   "source": [
    "Series[r1[u], {u, 0, 5}]\n",
    "Limit[r1[u], u -> 0]"
   ]
  },
  {
   "cell_type": "markdown",
   "metadata": {},
   "source": [
    "И проверим, что знаменатель обращается в 0 при $r = r_1$"
   ]
  },
  {
   "cell_type": "code",
   "execution_count": null,
   "metadata": {
    "vscode": {
     "languageId": "wolfram"
    }
   },
   "outputs": [],
   "source": [
    "PlotR1[u_] := Module[\n",
    "  {points, r1Value},\n",
    "\n",
    "  r1Value = Piecewise[{{0, u == 0}}, r1[u]];\n",
    "  points = {{r1Value, eqr1[u, r1Value]}};\n",
    "\n",
    "  plotLabel = \"u = \" <> ToString[u];\n",
    "\n",
    "  Show[\n",
    "    Plot[\n",
    "      eqr1[u, r],\n",
    "      {r, -1, 10},\n",
    "      AxesLabel -> {\"u\", \"r1\"},\n",
    "      PlotLabel -> plotLabel,\n",
    "      PlotRange -> All\n",
    "    ],\n",
    "    ListPlot[\n",
    "      points,\n",
    "      PlotStyle -> {Red, PointSize[Large]}\n",
    "    ]\n",
    "  ]\n",
    "]\n",
    "\n",
    "plots = {PlotR1[3], PlotR1[0.1], PlotR1[0.0]};\n",
    "GraphicsRow[plots]"
   ]
  },
  {
   "cell_type": "markdown",
   "metadata": {},
   "source": [
    "### Графики функций интегранта $f_4(u_i, r)$:"
   ]
  },
  {
   "cell_type": "code",
   "execution_count": null,
   "metadata": {
    "vscode": {
     "languageId": "wolfram"
    }
   },
   "outputs": [],
   "source": [
    "PlotIntegrand4[u_] := Module[\n",
    "  {r1Value},\n",
    "\n",
    "  r1Value = Piecewise[{{0, u == 0}}, r1[u]];\n",
    "\n",
    "  plotLabel = \"u = \" <> ToString[u];\n",
    "\n",
    "  Plot[\n",
    "    integrand4[u, r],\n",
    "    {r, r1Value, 10^3},\n",
    "    PlotLabel -> plotLabel,\n",
    "    PlotRange -> All,\n",
    "    AxesOrigin -> {0, 0},\n",
    "    AxesLabel -> {\"r\", \"integrand4\"},\n",
    "    ScalingFunctions -> {\"Log\", \"SignedLog\"}\n",
    "  ]\n",
    "]\n",
    "\n",
    "plots = {PlotIntegrand4[0.0], PlotIntegrand4[0.03], PlotIntegrand4[0.3]};\n",
    "GraphicsRow[plots]"
   ]
  },
  {
   "cell_type": "markdown",
   "metadata": {},
   "source": [
    "*Mathematica* очень долго берёт этот интеграл, но выдаёт огромную простыню выражений, которую не может упростить, используя при это коплексную экспоненту."
   ]
  },
  {
   "cell_type": "code",
   "execution_count": null,
   "metadata": {
    "vscode": {
     "languageId": "wolfram"
    }
   },
   "outputs": [],
   "source": [
    "Inactivate[Integrate[integrand4[u, r], {r, r1[u], Infinity}, Assumptions -> {u ∈ Reals, u > 0}]]"
   ]
  },
  {
   "cell_type": "markdown",
   "metadata": {},
   "source": [
    "## Численный график $I_4(u)$ с использованием NIntegrate:"
   ]
  },
  {
   "cell_type": "code",
   "execution_count": null,
   "metadata": {
    "vscode": {
     "languageId": "wolfram"
    }
   },
   "outputs": [],
   "source": [
    "Plot[\n",
    "  NIntegrate[integrand4[u, r], {r, r1[u], Infinity}],\n",
    "  {u, 1, 100},\n",
    "  PlotLabel -> \"NIntegral of integrand4\",\n",
    "  AxesLabel -> {\"u\", \"integrand4\"}\n",
    "]"
   ]
  },
  {
   "cell_type": "markdown",
   "metadata": {
    "vscode": {
     "languageId": "wolfram"
    }
   },
   "source": [
    "## Численный график $I_4(u)$ с использованием Integrate:"
   ]
  },
  {
   "cell_type": "code",
   "execution_count": null,
   "metadata": {
    "vscode": {
     "languageId": "wolfram"
    }
   },
   "outputs": [],
   "source": [
    "(* points = With[\n",
    "  {u := 10^up},\n",
    "  Table[\n",
    "    {u, N[Integrate[integrand4[u, r], {r, r1[u], Infinity}]]},\n",
    "    {up, 0, 2, 0.05}\n",
    "  ]\n",
    "]; *)\n",
    "\n",
    "points = Table[\n",
    "  {u, N[Integrate[integrand4[u, r], {r, r1[u], Infinity}]]},\n",
    "  {u, 1, 100, 1}\n",
    "];\n",
    "\n",
    "ListPlot[\n",
    "  points,\n",
    "  Joined -> True,\n",
    "  PlotRange -> All,\n",
    "  PlotLabel -> \"Integral of integrand4\",\n",
    "  AxesLabel -> {\"u\", \"integral4\"}\n",
    "]"
   ]
  },
  {
   "cell_type": "markdown",
   "metadata": {},
   "source": [
    "## Первообразная $\\tilde{I}_4(u, r)$:"
   ]
  },
  {
   "cell_type": "code",
   "execution_count": null,
   "metadata": {
    "vscode": {
     "languageId": "wolfram"
    }
   },
   "outputs": [],
   "source": [
    "antiderivative4[u_, r_] = Integrate[integrand4[u, r], r]"
   ]
  },
  {
   "cell_type": "markdown",
   "metadata": {
    "vscode": {
     "languageId": "wolfram"
    }
   },
   "source": [
    "Явно определим аргумент комплексного числа:"
   ]
  },
  {
   "cell_type": "code",
   "execution_count": null,
   "metadata": {
    "vscode": {
     "languageId": "wolfram"
    }
   },
   "outputs": [],
   "source": [
    "(* complexLog[z_] := Log[Abs[z]] + I Arg[z]; *)\n",
    "arg[z_] := ArcTan[ComplexExpand[Im[z]]/ComplexExpand[Re[z]]];\n",
    "(* abs[z_] := ComplexExpand[Abs[z]]; *)"
   ]
  },
  {
   "cell_type": "markdown",
   "metadata": {},
   "source": [
    "Применяя его к antiderivative4[u, r], мы получаем действительное выражение, состоящее из двух слагаемых одно без $\\tan^{-1}$, а второе, включающее $\\tan^{-1}$:"
   ]
  },
  {
   "cell_type": "code",
   "execution_count": null,
   "metadata": {
    "vscode": {
     "languageId": "wolfram"
    }
   },
   "outputs": [],
   "source": [
    "antiderivative4s[u_, r_] =\n",
    "  Simplify[\n",
    "    ComplexExpand[\n",
    "      Re[antiderivative4[u, r]]\n",
    "    ] /. Arg -> arg,\n",
    "    {{u, r} ∈ Reals, u > 0, r > r1[u]}\n",
    "  ];\n",
    "\n",
    "antiderivative4s[u_, r_] =\n",
    "  Sqrt[2 Sqrt[r] - u^2 + r u^2] * Simplify[\n",
    "    Expand[\n",
    "      (antiderivative4s[u, r] /. ArcTan[x_] -> 0) /\n",
    "      Sqrt[2 Sqrt[r] - u^2 + r u^2]\n",
    "    ],\n",
    "    {{u, r} ∈ Reals, u > 0, r > 0}\n",
    "  ] -\n",
    "  Cases[antiderivative4s[u, r],\n",
    "    coeff_.*ArcTan[arg_] :> coeff*ArcTan[arg], ∞][[2]] /\n",
    "  (12 * r^3 * u^7)"
   ]
  },
  {
   "cell_type": "markdown",
   "metadata": {},
   "source": [
    "### График первообразной $\\tilde{I}_4(u_i, r)$:"
   ]
  },
  {
   "cell_type": "code",
   "execution_count": null,
   "metadata": {
    "vscode": {
     "languageId": "wolfram"
    }
   },
   "outputs": [],
   "source": [
    "rules = {\n",
    "  eqr1[u, r] -> 0,\n",
    "  ArcTan[x_] -> -Pi/2\n",
    "};\n",
    "\n",
    "PlotAntiderivative[u_] := Module[\n",
    "  {points, antiderivative, r1Value},\n",
    "\n",
    "  r1Value = r1[u]*(1.0+10^-12);\n",
    "  antiderivative =\n",
    "    If[r == r1Value,\n",
    "      antiderivative4s[u, r] /. rules,\n",
    "      antiderivative4s[u, r]\n",
    "    ];\n",
    "\n",
    "  points = {{r1Value, Re[antiderivative /. r -> r1Value]}};\n",
    "\n",
    "  plotLabel = \"u = \" <> ToString[u];\n",
    "\n",
    "  Show[\n",
    "    Plot[\n",
    "      antiderivative,\n",
    "      {r, r1Value, r1Value*2.1},\n",
    "      PlotLabel -> plotLabel,\n",
    "      PlotRange -> All,\n",
    "      AxesLabel -> {\"r\", \"antiderivative4s\"},\n",
    "      ScalingFunctions -> {\"SignedLog\", \"SignedLog\"}\n",
    "    ],\n",
    "    ListPlot[\n",
    "      points,\n",
    "      PlotRange -> All,\n",
    "      PlotStyle -> {Red, PointSize[Large]},\n",
    "      ScalingFunctions -> {\"SignedLog\", \"SignedLog\"}\n",
    "    ]\n",
    "  ]\n",
    "]\n",
    "\n",
    "plots = {PlotAntiderivative[3], PlotAntiderivative[0.1], PlotAntiderivative[5*10.0^-2]};\n",
    "GraphicsRow[plots]"
   ]
  },
  {
   "cell_type": "markdown",
   "metadata": {},
   "source": [
    "## Определённый интеграл, возьмём как разницу первообразных по теореме Ньютона-Лейбница,\n",
    "$$\n",
    "  I_{4,1}(u) = \\int_{r_1}^{\\infty} f_4(u, r) \\, dr = \\tilde{I}_{4}(u, \\infty) - \\tilde{I}_{4}(u, r_1(u)):\n",
    "$$"
   ]
  },
  {
   "cell_type": "markdown",
   "metadata": {},
   "source": [
    "Найдём $\\tilde{I}_{4}(u, \\infty)$:"
   ]
  },
  {
   "cell_type": "code",
   "execution_count": null,
   "metadata": {
    "vscode": {
     "languageId": "wolfram"
    }
   },
   "outputs": [],
   "source": [
    "integral4Inf[u_] = Limit[\n",
    "  antiderivative4s[u, r],\n",
    "  r -> Infinity,\n",
    "  Assumptions -> {u ∈ Reals, u > 0}\n",
    "];\n",
    "\n",
    "integral4Infs[u_] = Simplify[\n",
    "  ComplexExpand[\n",
    "    Re[integral4Inf[u]]\n",
    "  ] /. Arg -> arg,\n",
    "  {{u, r} ∈ Reals, u > 0, r > r1[u]}\n",
    "]"
   ]
  },
  {
   "cell_type": "markdown",
   "metadata": {},
   "source": [
    "Найдём $\\tilde{I}_{4}(r_1(u))$, при этом заметим, что $2\\sqrt{r} - u^2 + r u^2 = 0$, и $\\mathrm{arctan}(-\\infty) = -\\frac{\\pi}{2}$:"
   ]
  },
  {
   "cell_type": "code",
   "execution_count": null,
   "metadata": {
    "vscode": {
     "languageId": "wolfram"
    }
   },
   "outputs": [],
   "source": [
    "integral4r1[u_] = antiderivative4s[u, r] /. rules"
   ]
  },
  {
   "cell_type": "markdown",
   "metadata": {},
   "source": [
    "### Графики функций $\\tilde{I}_{4}(u, r_i)$:"
   ]
  },
  {
   "cell_type": "code",
   "execution_count": null,
   "metadata": {
    "vscode": {
     "languageId": "wolfram"
    }
   },
   "outputs": [],
   "source": [
    "Plot[\n",
    "  {\n",
    "    N[antiderivative4s[u, 1]],\n",
    "    N[antiderivative4s[u, 10^2]],\n",
    "    N[antiderivative4s[u, 10^5]],\n",
    "    N[antiderivative4s[u, 10^10]],\n",
    "    N[integral4Infs[u]]\n",
    "  },\n",
    "  {u, 0, 1000},\n",
    "  AxesLabel -> {\"u\", \"antiderivative4\"},\n",
    "  PlotLegends -> {\n",
    "    \"antiderivative4s[r=1]\",\n",
    "    \"antiderivative4s[r=10^2]\",\n",
    "    \"antiderivative4s[r=10^5]\",\n",
    "    \"antiderivative4s[r=10^10]\",\n",
    "    \"antiderivative4s[r=Infinity]\"\n",
    "  },\n",
    "  ScalingFunctions -> {\"SignedLog\", \"SignedLog\"}\n",
    "]"
   ]
  },
  {
   "cell_type": "code",
   "execution_count": null,
   "metadata": {
    "vscode": {
     "languageId": "wolfram"
    }
   },
   "outputs": [],
   "source": [
    "Plot[\n",
    "  {\n",
    "    N[Re[antiderivative4s[u, r1[u]+10^-2]]],\n",
    "    N[Re[antiderivative4s[u, r1[u]+10^-4]]],\n",
    "    N[Re[antiderivative4s[u, r1[u]+10^-5]]],\n",
    "    N[Re[antiderivative4s[u, r1[u]+1.35*10^-6]]],\n",
    "    N[Re[antiderivative4s[u, r1[u]+10^-7]]],\n",
    "    N[Re[antiderivative4s[u, r1[u]+10^-10]]],\n",
    "    N[Re[antiderivative4s[u, r1[u]+10^-12]]],\n",
    "    N[integral4r1[u]]\n",
    "  },\n",
    "  {u, 0.0, 100},\n",
    "  AxesLabel -> {\"u\", \"antiderivative4\"},\n",
    "  PlotLegends -> {\n",
    "    \"antiderivative4s[r=r1[u]+10^{-2}]\",\n",
    "    \"antiderivative4s[r=r1[u]+10^{-4}]\",\n",
    "    \"antiderivative4s[r=r1[u]+10^{-5}]\",\n",
    "    \"antiderivative4s[r=r1[u]+1.35*10^-6]\",\n",
    "    \"antiderivative4s[r=r1[u]+10^{-7}]\",\n",
    "    \"antiderivative4s[r=r1[u]+10^{-10}]\",\n",
    "    \"antiderivative4s[r=r1[u]+10^{-12}]\",\n",
    "    \"antiderivative4s[r=r1[u]]\"\n",
    "    },\n",
    "  PlotRange -> All,\n",
    "  ScalingFunctions -> {\"Log\", \"SignedLog\"}\n",
    "]"
   ]
  },
  {
   "cell_type": "markdown",
   "metadata": {},
   "source": [
    "## Итоговый ответ для $I_4(u)$:"
   ]
  },
  {
   "cell_type": "code",
   "execution_count": null,
   "metadata": {
    "vscode": {
     "languageId": "wolfram"
    }
   },
   "outputs": [],
   "source": [
    "I4[u_] = Simplify[Collect[Simplify[integral4Infs[u] - integral4r1[u], {u ∈ Reals, u > 0}], (425 + 366*u^4 + 37*u^8)]]"
   ]
  },
  {
   "cell_type": "code",
   "execution_count": null,
   "metadata": {
    "vscode": {
     "languageId": "wolfram"
    }
   },
   "outputs": [],
   "source": [
    "TeXForm[I4[u]]"
   ]
  },
  {
   "cell_type": "markdown",
   "metadata": {},
   "source": [
    "## Сравнение Integrate и аналитической $I_4(u)$"
   ]
  },
  {
   "cell_type": "code",
   "execution_count": null,
   "metadata": {
    "vscode": {
     "languageId": "wolfram"
    }
   },
   "outputs": [],
   "source": [
    "Show[\n",
    "  Plot[\n",
    "    N[I4[u]],\n",
    "    {u, 0, 100},\n",
    "    PlotLabel -> Subscript[\"I\", 4][u],\n",
    "    AxesLabel -> {\"u\", Subscript[\"I\", 4]},\n",
    "    PlotLegends -> {Subscript[\"I\", 4][u]},\n",
    "    ScalingFunctions -> {\"SignedLog\", \"SignedLog\"}\n",
    "  ],\n",
    "  ListPlot[\n",
    "    points,\n",
    "    (* Joined -> True, *)\n",
    "    Mesh -> All,\n",
    "    PlotStyle -> {Red, Dashed},\n",
    "    PlotLegends -> {Subscript[\"Integrate I\", 4][u]},\n",
    "    ScalingFunctions -> {\"SignedLog\", \"SignedLog\"}\n",
    "  ]\n",
    "]"
   ]
  },
  {
   "cell_type": "code",
   "execution_count": null,
   "metadata": {
    "vscode": {
     "languageId": "wolfram"
    }
   },
   "outputs": [],
   "source": [
    "points01 = Table[{u, N[Integrate[integrand4[u, r], {r, r1[u], Infinity}]]}, {u, 0.02, 1, 0.05}];\n",
    "Show[\n",
    "  Plot[\n",
    "    N[I4[u]],\n",
    "    {u, 0, 1},\n",
    "    PlotLabel -> Subscript[\"I\", 4][u],\n",
    "    AxesLabel -> {\"u\", Subscript[\"I\", 4]},\n",
    "    PlotLegends -> {Subscript[\"I\", 4][u]},\n",
    "    ScalingFunctions -> {\"SignedLog\", \"SignedLog\"}\n",
    "  ],\n",
    "  ListPlot[\n",
    "    points01,\n",
    "    (* Joined -> True, *)\n",
    "    Mesh -> All,\n",
    "    PlotStyle -> {Red, Dashed},\n",
    "    PlotLegends -> {Subscript[\"Integrate I\", 4][u]},\n",
    "    ScalingFunctions -> {\"SignedLog\", \"SignedLog\"}\n",
    "  ]\n",
    "]"
   ]
  },
  {
   "cell_type": "markdown",
   "metadata": {},
   "source": [
    "$$I_1 = \\hat{r}_2 \\left[ 120\\hat{r}_2^{(1)}\\omega^2\\omega^{(1)} - 5\\hat{r}_2^{(1)}\\omega^{(3)} - 16\\hat{r}_2\\omega^5 - 10\\hat{r}_2^{(2)}\\omega^{(2)} + 60\\hat{r}_2\\omega(\\omega^{(1)})^2\n",
    "- 10\\hat{r}_2^{(3)}\\omega^{(1)} + 40\\hat{r}_2^{(2)}\\omega^3 - 5\\hat{r}_2^{(4)}\\omega - \\hat{r}_2\\omega^{(4)} + 40\\hat{r}_2\\omega^2\\omega^{(2)} \\right]$$"
   ]
  },
  {
   "cell_type": "markdown",
   "metadata": {},
   "source": [
    "$$I_2 = 2\\hat{r}_2 \\left[ -40\\hat{r}_2\\omega^3\\omega^{(1)} - 20\\omega^4\\hat{r}_2^{(1)} + 5\\hat{r}_2\\omega\\omega^{(3)} + 10\\hat{r}_2\\omega^{(1)}\\omega^{(2)} + 10\\omega^2\\hat{r}_2^{(3)} + 30\\omega\\omega^{(1)}\\hat{r}_2^{(2)} + 20\\omega\\omega^{(2)}\\hat{r}_2^{(1)} + 15\\hat{r}_2^{(1)}(\\omega^{(1)})^2 - \\frac{1}{3}\\hat{r}_2^{(5)} \\right]$$"
   ]
  }
 ],
 "metadata": {
  "kernelspec": {
   "display_name": "Wolfram Language 14.1",
   "language": "Wolfram Language",
   "name": "wolframlanguage14.1"
  },
  "language_info": {
   "codemirror_mode": "mathematica",
   "file_extension": ".m",
   "mimetype": "application/vnd.wolfram.m",
   "name": "Wolfram Language",
   "pygments_lexer": "mathematica",
   "version": "12.0"
  }
 },
 "nbformat": 4,
 "nbformat_minor": 2
}
